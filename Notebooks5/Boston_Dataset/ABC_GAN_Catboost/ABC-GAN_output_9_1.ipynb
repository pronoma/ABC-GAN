{
 "cells": [
  {
   "cell_type": "markdown",
   "id": "622780e6",
   "metadata": {
    "id": "622780e6",
    "papermill": {
     "duration": 0.034057,
     "end_time": "2022-06-12T07:23:12.974742",
     "exception": false,
     "start_time": "2022-06-12T07:23:12.940685",
     "status": "completed"
    },
    "tags": []
   },
   "source": [
    "## Import Libraries "
   ]
  },
  {
   "cell_type": "code",
   "execution_count": 1,
   "id": "a62397e3",
   "metadata": {
    "execution": {
     "iopub.execute_input": "2022-06-12T07:23:13.011543Z",
     "iopub.status.busy": "2022-06-12T07:23:13.011038Z",
     "iopub.status.idle": "2022-06-12T07:23:13.013250Z",
     "shell.execute_reply": "2022-06-12T07:23:13.013574Z"
    },
    "id": "a62397e3",
    "papermill": {
     "duration": 0.022258,
     "end_time": "2022-06-12T07:23:13.013785",
     "exception": false,
     "start_time": "2022-06-12T07:23:12.991527",
     "status": "completed"
    },
    "tags": []
   },
   "outputs": [],
   "source": [
    "import warnings\n",
    "import sys\n",
    "sys.path.insert(0, '../../src')\n",
    "warnings.filterwarnings('ignore')"
   ]
  },
  {
   "cell_type": "code",
   "execution_count": 2,
   "id": "d6a4e155",
   "metadata": {
    "execution": {
     "iopub.execute_input": "2022-06-12T07:23:13.034048Z",
     "iopub.status.busy": "2022-06-12T07:23:13.033654Z",
     "iopub.status.idle": "2022-06-12T07:23:14.669533Z",
     "shell.execute_reply": "2022-06-12T07:23:14.669758Z"
    },
    "id": "d6a4e155",
    "papermill": {
     "duration": 1.64657,
     "end_time": "2022-06-12T07:23:14.669886",
     "exception": false,
     "start_time": "2022-06-12T07:23:13.023316",
     "status": "completed"
    },
    "tags": []
   },
   "outputs": [],
   "source": [
    "import ABC_train_test2\n",
    "import bostonDataset\n",
    "import network\n",
    "import dataset\n",
    "import sanityChecks\n",
    "import torch \n",
    "import scrapbook as sb\n",
    "from statistics import mean \n",
    "import catboost as ctb \n",
    "from sklearn.model_selection import train_test_split\n",
    "from sklearn.metrics import mean_squared_error,mean_absolute_error\n",
    "import numpy as np"
   ]
  },
  {
   "cell_type": "markdown",
   "id": "2fa5b0f7",
   "metadata": {
    "id": "2fa5b0f7",
    "papermill": {
     "duration": 0.006859,
     "end_time": "2022-06-12T07:23:14.683995",
     "exception": false,
     "start_time": "2022-06-12T07:23:14.677136",
     "status": "completed"
    },
    "tags": []
   },
   "source": [
    "## Parameters "
   ]
  },
  {
   "cell_type": "code",
   "execution_count": 3,
   "id": "783186fb",
   "metadata": {
    "execution": {
     "iopub.execute_input": "2022-06-12T07:23:14.699805Z",
     "iopub.status.busy": "2022-06-12T07:23:14.699440Z",
     "iopub.status.idle": "2022-06-12T07:23:14.700677Z",
     "shell.execute_reply": "2022-06-12T07:23:14.700957Z"
    },
    "id": "783186fb",
    "papermill": {
     "duration": 0.010261,
     "end_time": "2022-06-12T07:23:14.701068",
     "exception": false,
     "start_time": "2022-06-12T07:23:14.690807",
     "status": "completed"
    },
    "tags": [
     "parameters"
    ]
   },
   "outputs": [],
   "source": [
    "variance = 1\n",
    "bias = 1 "
   ]
  },
  {
   "cell_type": "code",
   "execution_count": 4,
   "id": "e883e710",
   "metadata": {
    "execution": {
     "iopub.execute_input": "2022-06-12T07:23:14.716636Z",
     "iopub.status.busy": "2022-06-12T07:23:14.716284Z",
     "iopub.status.idle": "2022-06-12T07:23:14.717626Z",
     "shell.execute_reply": "2022-06-12T07:23:14.717869Z"
    },
    "papermill": {
     "duration": 0.010003,
     "end_time": "2022-06-12T07:23:14.717975",
     "exception": false,
     "start_time": "2022-06-12T07:23:14.707972",
     "status": "completed"
    },
    "tags": [
     "injected-parameters"
    ]
   },
   "outputs": [],
   "source": [
    "# Parameters\n",
    "variance = 0.1\n",
    "bias = 1\n"
   ]
  },
  {
   "cell_type": "markdown",
   "id": "391cdbfd",
   "metadata": {
    "id": "391cdbfd",
    "papermill": {
     "duration": 0.006871,
     "end_time": "2022-06-12T07:23:14.731865",
     "exception": false,
     "start_time": "2022-06-12T07:23:14.724994",
     "status": "completed"
    },
    "tags": []
   },
   "source": [
    "## Dataset \n"
   ]
  },
  {
   "cell_type": "code",
   "execution_count": 5,
   "id": "5b51f161",
   "metadata": {
    "execution": {
     "iopub.execute_input": "2022-06-12T07:23:14.747555Z",
     "iopub.status.busy": "2022-06-12T07:23:14.747202Z",
     "iopub.status.idle": "2022-06-12T07:23:14.748468Z",
     "shell.execute_reply": "2022-06-12T07:23:14.748703Z"
    },
    "id": "5b51f161",
    "papermill": {
     "duration": 0.01,
     "end_time": "2022-06-12T07:23:14.748807",
     "exception": false,
     "start_time": "2022-06-12T07:23:14.738807",
     "status": "completed"
    },
    "tags": []
   },
   "outputs": [],
   "source": [
    "#Parameters \n",
    "n_features = 13\n",
    "n_samples= 506\n",
    "n_target = 1 "
   ]
  },
  {
   "cell_type": "code",
   "execution_count": 6,
   "id": "5d6eced4",
   "metadata": {
    "execution": {
     "iopub.execute_input": "2022-06-12T07:23:14.764847Z",
     "iopub.status.busy": "2022-06-12T07:23:14.764492Z",
     "iopub.status.idle": "2022-06-12T07:23:14.774597Z",
     "shell.execute_reply": "2022-06-12T07:23:14.774898Z"
    },
    "id": "5d6eced4",
    "papermill": {
     "duration": 0.019187,
     "end_time": "2022-06-12T07:23:14.775014",
     "exception": false,
     "start_time": "2022-06-12T07:23:14.755827",
     "status": "completed"
    },
    "tags": []
   },
   "outputs": [
    {
     "name": "stdout",
     "output_type": "stream",
     "text": [
      "         X1        X2        X3        X4        X5        X6        X7  \\\n",
      "0 -0.419782  0.284830 -1.287909 -0.272599 -0.144217  0.413672 -0.120013   \n",
      "1 -0.417339 -0.487722 -0.593381 -0.272599 -0.740262  0.194274  0.367166   \n",
      "2 -0.417342 -0.487722 -0.593381 -0.272599 -0.740262  1.282714 -0.265812   \n",
      "3 -0.416750 -0.487722 -1.306878 -0.272599 -0.835284  1.016303 -0.809889   \n",
      "4 -0.412482 -0.487722 -1.306878 -0.272599 -0.835284  1.228577 -0.511180   \n",
      "\n",
      "         X8        X9       X10       X11       X12       X13         Y  \n",
      "0  0.140214 -0.982843 -0.666608 -1.459000  0.441052 -1.075562  0.159686  \n",
      "1  0.557160 -0.867883 -0.987329 -0.303094  0.441052 -0.492439 -0.101524  \n",
      "2  0.557160 -0.867883 -0.987329 -0.303094  0.396427 -1.208727  1.324247  \n",
      "3  1.077737 -0.752922 -1.106115  0.113032  0.416163 -1.361517  1.182758  \n",
      "4  1.077737 -0.752922 -1.106115  0.113032  0.441052 -1.026501  1.487503  \n"
     ]
    }
   ],
   "source": [
    "X,Y = bostonDataset.boston_data()"
   ]
  },
  {
   "cell_type": "code",
   "execution_count": 7,
   "id": "fe007438",
   "metadata": {
    "execution": {
     "iopub.execute_input": "2022-06-12T07:23:14.792338Z",
     "iopub.status.busy": "2022-06-12T07:23:14.791995Z",
     "iopub.status.idle": "2022-06-12T07:23:14.793323Z",
     "shell.execute_reply": "2022-06-12T07:23:14.793561Z"
    },
    "id": "fe007438",
    "papermill": {
     "duration": 0.011191,
     "end_time": "2022-06-12T07:23:14.793669",
     "exception": false,
     "start_time": "2022-06-12T07:23:14.782478",
     "status": "completed"
    },
    "tags": []
   },
   "outputs": [],
   "source": [
    "#Train test split for dataset \n",
    "X_train,X_test,Y_train,Y_test = train_test_split(X,Y,test_size = 0.2)\n",
    "train_data = dataset.CustomDataset(X_train,Y_train)\n",
    "test_data = dataset.CustomDataset(X_test,Y_test)\n"
   ]
  },
  {
   "cell_type": "markdown",
   "id": "a9a1af34",
   "metadata": {
    "id": "a9a1af34",
    "papermill": {
     "duration": 0.020461,
     "end_time": "2022-06-12T07:23:14.821458",
     "exception": false,
     "start_time": "2022-06-12T07:23:14.800997",
     "status": "completed"
    },
    "tags": []
   },
   "source": [
    "## Training Parameters "
   ]
  },
  {
   "cell_type": "code",
   "execution_count": 8,
   "id": "952b7fc8",
   "metadata": {
    "execution": {
     "iopub.execute_input": "2022-06-12T07:23:14.838594Z",
     "iopub.status.busy": "2022-06-12T07:23:14.838197Z",
     "iopub.status.idle": "2022-06-12T07:23:14.839428Z",
     "shell.execute_reply": "2022-06-12T07:23:14.839657Z"
    },
    "id": "952b7fc8",
    "papermill": {
     "duration": 0.010777,
     "end_time": "2022-06-12T07:23:14.839762",
     "exception": false,
     "start_time": "2022-06-12T07:23:14.828985",
     "status": "completed"
    },
    "tags": []
   },
   "outputs": [],
   "source": [
    "batch_size = 32\n",
    "n_epochs = 1000\n",
    "#Select the device \n",
    "device = torch.device('cuda' if torch.cuda.is_available() else 'cpu')"
   ]
  },
  {
   "cell_type": "markdown",
   "id": "a95e1600",
   "metadata": {
    "id": "a95e1600",
    "papermill": {
     "duration": 0.007174,
     "end_time": "2022-06-12T07:23:14.854260",
     "exception": false,
     "start_time": "2022-06-12T07:23:14.847086",
     "status": "completed"
    },
    "tags": []
   },
   "source": [
    "# ABC Pre-generator Model \n",
    "\n",
    "1. The catboost model is used as a pre-generator model for the ABC-GAN. \n",
    "2. The model is first trained on the entire dataset \n",
    "3. It generats X,Y pairs and we add some Gaussian noise with mean 0 and variance 1 to it which is then feed as input to the generator.\n"
   ]
  },
  {
   "cell_type": "code",
   "execution_count": 9,
   "id": "ff8ce7bd",
   "metadata": {
    "execution": {
     "iopub.execute_input": "2022-06-12T07:23:14.873504Z",
     "iopub.status.busy": "2022-06-12T07:23:14.873110Z",
     "iopub.status.idle": "2022-06-12T07:23:15.827051Z",
     "shell.execute_reply": "2022-06-12T07:23:15.827354Z"
    },
    "id": "ff8ce7bd",
    "papermill": {
     "duration": 0.966004,
     "end_time": "2022-06-12T07:23:15.827475",
     "exception": false,
     "start_time": "2022-06-12T07:23:14.861471",
     "status": "completed"
    },
    "tags": []
   },
   "outputs": [
    {
     "name": "stdout",
     "output_type": "stream",
     "text": [
      "Learning rate set to 0.033215\n",
      "0:\tlearn: 0.9615674\ttotal: 58.7ms\tremaining: 58.7s\n",
      "1:\tlearn: 0.9434813\ttotal: 59.8ms\tremaining: 29.8s\n",
      "2:\tlearn: 0.9234733\ttotal: 60.7ms\tremaining: 20.2s\n",
      "3:\tlearn: 0.9068261\ttotal: 61.9ms\tremaining: 15.4s\n",
      "4:\tlearn: 0.8898605\ttotal: 62.7ms\tremaining: 12.5s\n",
      "5:\tlearn: 0.8740355\ttotal: 63.7ms\tremaining: 10.5s\n",
      "6:\tlearn: 0.8585225\ttotal: 64.5ms\tremaining: 9.16s\n",
      "7:\tlearn: 0.8415611\ttotal: 65.4ms\tremaining: 8.11s\n",
      "8:\tlearn: 0.8267005\ttotal: 66.2ms\tremaining: 7.29s\n",
      "9:\tlearn: 0.8097148\ttotal: 67.1ms\tremaining: 6.64s\n",
      "10:\tlearn: 0.7945485\ttotal: 67.8ms\tremaining: 6.1s\n",
      "11:\tlearn: 0.7814034\ttotal: 68.7ms\tremaining: 5.66s\n",
      "12:\tlearn: 0.7682700\ttotal: 69.5ms\tremaining: 5.27s\n",
      "13:\tlearn: 0.7542067\ttotal: 70.2ms\tremaining: 4.94s\n",
      "14:\tlearn: 0.7417712\ttotal: 71.1ms\tremaining: 4.67s\n",
      "15:\tlearn: 0.7292636\ttotal: 72ms\tremaining: 4.43s\n",
      "16:\tlearn: 0.7163160\ttotal: 72.7ms\tremaining: 4.2s\n",
      "17:\tlearn: 0.7043515\ttotal: 73.5ms\tremaining: 4.01s\n",
      "18:\tlearn: 0.6923847\ttotal: 74.9ms\tremaining: 3.87s\n",
      "19:\tlearn: 0.6796927\ttotal: 75.7ms\tremaining: 3.71s\n",
      "20:\tlearn: 0.6688168\ttotal: 76.6ms\tremaining: 3.57s\n",
      "21:\tlearn: 0.6570746\ttotal: 77.4ms\tremaining: 3.44s\n",
      "22:\tlearn: 0.6452123\ttotal: 78.2ms\tremaining: 3.32s\n",
      "23:\tlearn: 0.6350840\ttotal: 79ms\tremaining: 3.21s\n",
      "24:\tlearn: 0.6251563\ttotal: 79.8ms\tremaining: 3.11s\n",
      "25:\tlearn: 0.6167749\ttotal: 80.6ms\tremaining: 3.02s\n",
      "26:\tlearn: 0.6075565\ttotal: 81.4ms\tremaining: 2.93s\n",
      "27:\tlearn: 0.5991186\ttotal: 82.2ms\tremaining: 2.85s\n",
      "28:\tlearn: 0.5903548\ttotal: 82.9ms\tremaining: 2.77s\n",
      "29:\tlearn: 0.5806532\ttotal: 83.5ms\tremaining: 2.7s\n",
      "30:\tlearn: 0.5712480\ttotal: 84.3ms\tremaining: 2.63s\n",
      "31:\tlearn: 0.5636925\ttotal: 85.1ms\tremaining: 2.57s\n",
      "32:\tlearn: 0.5568618\ttotal: 85.8ms\tremaining: 2.52s\n",
      "33:\tlearn: 0.5492180\ttotal: 86.8ms\tremaining: 2.47s\n",
      "34:\tlearn: 0.5418837\ttotal: 87.7ms\tremaining: 2.42s\n",
      "35:\tlearn: 0.5345544\ttotal: 88.4ms\tremaining: 2.37s\n",
      "36:\tlearn: 0.5282166\ttotal: 89.2ms\tremaining: 2.32s\n",
      "37:\tlearn: 0.5209581\ttotal: 90ms\tremaining: 2.28s\n",
      "38:\tlearn: 0.5141077\ttotal: 90.8ms\tremaining: 2.24s\n",
      "39:\tlearn: 0.5073255\ttotal: 91.6ms\tremaining: 2.2s\n",
      "40:\tlearn: 0.5017112\ttotal: 92.4ms\tremaining: 2.16s\n",
      "41:\tlearn: 0.4944560\ttotal: 93.3ms\tremaining: 2.13s\n",
      "42:\tlearn: 0.4884247\ttotal: 94.3ms\tremaining: 2.1s\n"
     ]
    },
    {
     "name": "stdout",
     "output_type": "stream",
     "text": [
      "43:\tlearn: 0.4830846\ttotal: 95.4ms\tremaining: 2.07s\n",
      "44:\tlearn: 0.4776482\ttotal: 96.3ms\tremaining: 2.04s\n",
      "45:\tlearn: 0.4724148\ttotal: 97.2ms\tremaining: 2.02s\n",
      "46:\tlearn: 0.4675906\ttotal: 98ms\tremaining: 1.99s\n",
      "47:\tlearn: 0.4617305\ttotal: 98.9ms\tremaining: 1.96s\n",
      "48:\tlearn: 0.4558994\ttotal: 99.9ms\tremaining: 1.94s\n",
      "49:\tlearn: 0.4512155\ttotal: 101ms\tremaining: 1.91s\n",
      "50:\tlearn: 0.4455435\ttotal: 102ms\tremaining: 1.89s\n",
      "51:\tlearn: 0.4407237\ttotal: 102ms\tremaining: 1.87s\n",
      "52:\tlearn: 0.4362603\ttotal: 103ms\tremaining: 1.84s\n",
      "53:\tlearn: 0.4329454\ttotal: 104ms\tremaining: 1.82s\n",
      "54:\tlearn: 0.4286271\ttotal: 105ms\tremaining: 1.8s\n",
      "55:\tlearn: 0.4248833\ttotal: 106ms\tremaining: 1.78s\n",
      "56:\tlearn: 0.4213614\ttotal: 106ms\tremaining: 1.76s\n",
      "57:\tlearn: 0.4168409\ttotal: 107ms\tremaining: 1.74s\n",
      "58:\tlearn: 0.4134600\ttotal: 108ms\tremaining: 1.72s\n",
      "59:\tlearn: 0.4095700\ttotal: 109ms\tremaining: 1.71s\n",
      "60:\tlearn: 0.4044461\ttotal: 110ms\tremaining: 1.69s\n",
      "61:\tlearn: 0.4004480\ttotal: 110ms\tremaining: 1.67s\n",
      "62:\tlearn: 0.3975372\ttotal: 111ms\tremaining: 1.65s\n",
      "63:\tlearn: 0.3938955\ttotal: 112ms\tremaining: 1.64s\n",
      "64:\tlearn: 0.3906525\ttotal: 113ms\tremaining: 1.62s\n",
      "65:\tlearn: 0.3876516\ttotal: 114ms\tremaining: 1.61s\n",
      "66:\tlearn: 0.3844819\ttotal: 115ms\tremaining: 1.59s\n",
      "67:\tlearn: 0.3820679\ttotal: 115ms\tremaining: 1.58s\n",
      "68:\tlearn: 0.3784991\ttotal: 116ms\tremaining: 1.56s\n",
      "69:\tlearn: 0.3757645\ttotal: 117ms\tremaining: 1.55s\n",
      "70:\tlearn: 0.3728965\ttotal: 118ms\tremaining: 1.54s\n",
      "71:\tlearn: 0.3707395\ttotal: 119ms\tremaining: 1.53s\n",
      "72:\tlearn: 0.3679483\ttotal: 119ms\tremaining: 1.51s\n",
      "73:\tlearn: 0.3646324\ttotal: 120ms\tremaining: 1.5s\n",
      "74:\tlearn: 0.3617156\ttotal: 121ms\tremaining: 1.49s\n",
      "75:\tlearn: 0.3580440\ttotal: 122ms\tremaining: 1.48s\n",
      "76:\tlearn: 0.3552402\ttotal: 123ms\tremaining: 1.47s\n",
      "77:\tlearn: 0.3527852\ttotal: 124ms\tremaining: 1.46s\n",
      "78:\tlearn: 0.3503786\ttotal: 125ms\tremaining: 1.45s\n",
      "79:\tlearn: 0.3480651\ttotal: 125ms\tremaining: 1.44s\n",
      "80:\tlearn: 0.3455008\ttotal: 126ms\tremaining: 1.43s\n",
      "81:\tlearn: 0.3427965\ttotal: 127ms\tremaining: 1.42s\n",
      "82:\tlearn: 0.3400171\ttotal: 128ms\tremaining: 1.41s\n",
      "83:\tlearn: 0.3380811\ttotal: 129ms\tremaining: 1.4s\n",
      "84:\tlearn: 0.3362091\ttotal: 129ms\tremaining: 1.39s\n",
      "85:\tlearn: 0.3343283\ttotal: 130ms\tremaining: 1.38s\n",
      "86:\tlearn: 0.3319473\ttotal: 131ms\tremaining: 1.37s\n",
      "87:\tlearn: 0.3291356\ttotal: 132ms\tremaining: 1.36s\n",
      "88:\tlearn: 0.3263430\ttotal: 132ms\tremaining: 1.35s\n",
      "89:\tlearn: 0.3235972\ttotal: 133ms\tremaining: 1.35s\n",
      "90:\tlearn: 0.3215728\ttotal: 134ms\tremaining: 1.34s\n",
      "91:\tlearn: 0.3194817\ttotal: 135ms\tremaining: 1.33s\n",
      "92:\tlearn: 0.3178672\ttotal: 135ms\tremaining: 1.32s\n",
      "93:\tlearn: 0.3159862\ttotal: 136ms\tremaining: 1.31s\n",
      "94:\tlearn: 0.3144594\ttotal: 137ms\tremaining: 1.3s\n",
      "95:\tlearn: 0.3121709\ttotal: 138ms\tremaining: 1.3s\n",
      "96:\tlearn: 0.3099928\ttotal: 139ms\tremaining: 1.29s\n",
      "97:\tlearn: 0.3075438\ttotal: 139ms\tremaining: 1.28s\n",
      "98:\tlearn: 0.3058205\ttotal: 140ms\tremaining: 1.28s\n",
      "99:\tlearn: 0.3041235\ttotal: 141ms\tremaining: 1.27s\n",
      "100:\tlearn: 0.3026049\ttotal: 142ms\tremaining: 1.26s\n",
      "101:\tlearn: 0.3014226\ttotal: 143ms\tremaining: 1.26s\n",
      "102:\tlearn: 0.2996946\ttotal: 144ms\tremaining: 1.26s\n",
      "103:\tlearn: 0.2986335\ttotal: 145ms\tremaining: 1.25s\n",
      "104:\tlearn: 0.2967297\ttotal: 146ms\tremaining: 1.24s\n",
      "105:\tlearn: 0.2956344\ttotal: 147ms\tremaining: 1.24s\n",
      "106:\tlearn: 0.2935970\ttotal: 147ms\tremaining: 1.23s\n",
      "107:\tlearn: 0.2919881\ttotal: 148ms\tremaining: 1.22s\n",
      "108:\tlearn: 0.2909063\ttotal: 149ms\tremaining: 1.22s\n",
      "109:\tlearn: 0.2896607\ttotal: 150ms\tremaining: 1.21s\n",
      "110:\tlearn: 0.2875507\ttotal: 151ms\tremaining: 1.21s\n",
      "111:\tlearn: 0.2865313\ttotal: 151ms\tremaining: 1.2s\n",
      "112:\tlearn: 0.2850077\ttotal: 152ms\tremaining: 1.19s\n",
      "113:\tlearn: 0.2835613\ttotal: 154ms\tremaining: 1.19s\n",
      "114:\tlearn: 0.2817661\ttotal: 154ms\tremaining: 1.19s\n",
      "115:\tlearn: 0.2804987\ttotal: 155ms\tremaining: 1.18s\n",
      "116:\tlearn: 0.2789107\ttotal: 156ms\tremaining: 1.18s\n",
      "117:\tlearn: 0.2773572\ttotal: 157ms\tremaining: 1.17s\n",
      "118:\tlearn: 0.2757349\ttotal: 158ms\tremaining: 1.17s\n",
      "119:\tlearn: 0.2746320\ttotal: 159ms\tremaining: 1.16s\n",
      "120:\tlearn: 0.2732875\ttotal: 160ms\tremaining: 1.16s\n",
      "121:\tlearn: 0.2723677\ttotal: 160ms\tremaining: 1.15s\n",
      "122:\tlearn: 0.2714902\ttotal: 161ms\tremaining: 1.15s\n",
      "123:\tlearn: 0.2702942\ttotal: 162ms\tremaining: 1.15s\n",
      "124:\tlearn: 0.2692744\ttotal: 163ms\tremaining: 1.14s\n",
      "125:\tlearn: 0.2683019\ttotal: 164ms\tremaining: 1.14s\n",
      "126:\tlearn: 0.2672731\ttotal: 165ms\tremaining: 1.13s\n",
      "127:\tlearn: 0.2659550\ttotal: 166ms\tremaining: 1.13s\n",
      "128:\tlearn: 0.2650656\ttotal: 166ms\tremaining: 1.12s\n",
      "129:\tlearn: 0.2639311\ttotal: 167ms\tremaining: 1.12s\n",
      "130:\tlearn: 0.2629054\ttotal: 168ms\tremaining: 1.11s\n",
      "131:\tlearn: 0.2623179\ttotal: 169ms\tremaining: 1.11s\n",
      "132:\tlearn: 0.2614252\ttotal: 170ms\tremaining: 1.11s\n",
      "133:\tlearn: 0.2608198\ttotal: 170ms\tremaining: 1.1s\n",
      "134:\tlearn: 0.2601296\ttotal: 171ms\tremaining: 1.1s\n",
      "135:\tlearn: 0.2593098\ttotal: 172ms\tremaining: 1.09s\n",
      "136:\tlearn: 0.2580551\ttotal: 173ms\tremaining: 1.09s\n",
      "137:\tlearn: 0.2574152\ttotal: 174ms\tremaining: 1.08s\n",
      "138:\tlearn: 0.2569199\ttotal: 175ms\tremaining: 1.08s\n",
      "139:\tlearn: 0.2562313\ttotal: 175ms\tremaining: 1.08s\n",
      "140:\tlearn: 0.2553985\ttotal: 176ms\tremaining: 1.07s\n",
      "141:\tlearn: 0.2545208\ttotal: 177ms\tremaining: 1.07s\n",
      "142:\tlearn: 0.2534659\ttotal: 178ms\tremaining: 1.06s\n",
      "143:\tlearn: 0.2527737\ttotal: 178ms\tremaining: 1.06s\n",
      "144:\tlearn: 0.2521501\ttotal: 179ms\tremaining: 1.06s\n",
      "145:\tlearn: 0.2508302\ttotal: 180ms\tremaining: 1.05s\n",
      "146:\tlearn: 0.2502625\ttotal: 181ms\tremaining: 1.05s\n",
      "147:\tlearn: 0.2493454\ttotal: 182ms\tremaining: 1.04s\n",
      "148:\tlearn: 0.2483002\ttotal: 182ms\tremaining: 1.04s\n",
      "149:\tlearn: 0.2473733\ttotal: 183ms\tremaining: 1.04s\n",
      "150:\tlearn: 0.2465802\ttotal: 184ms\tremaining: 1.03s\n",
      "151:\tlearn: 0.2454587\ttotal: 185ms\tremaining: 1.03s\n",
      "152:\tlearn: 0.2448924\ttotal: 186ms\tremaining: 1.03s\n",
      "153:\tlearn: 0.2441204\ttotal: 187ms\tremaining: 1.02s\n",
      "154:\tlearn: 0.2437282\ttotal: 187ms\tremaining: 1.02s\n",
      "155:\tlearn: 0.2430609\ttotal: 188ms\tremaining: 1.02s\n",
      "156:\tlearn: 0.2424184\ttotal: 189ms\tremaining: 1.01s\n",
      "157:\tlearn: 0.2418025\ttotal: 190ms\tremaining: 1.01s\n",
      "158:\tlearn: 0.2410566\ttotal: 190ms\tremaining: 1.01s\n",
      "159:\tlearn: 0.2405197\ttotal: 191ms\tremaining: 1s\n"
     ]
    },
    {
     "name": "stdout",
     "output_type": "stream",
     "text": [
      "160:\tlearn: 0.2396736\ttotal: 192ms\tremaining: 1s\n",
      "161:\tlearn: 0.2392618\ttotal: 193ms\tremaining: 1000ms\n",
      "162:\tlearn: 0.2388640\ttotal: 194ms\tremaining: 997ms\n",
      "163:\tlearn: 0.2385099\ttotal: 195ms\tremaining: 994ms\n",
      "164:\tlearn: 0.2373494\ttotal: 196ms\tremaining: 991ms\n",
      "165:\tlearn: 0.2365865\ttotal: 197ms\tremaining: 988ms\n",
      "166:\tlearn: 0.2359361\ttotal: 197ms\tremaining: 985ms\n",
      "167:\tlearn: 0.2352121\ttotal: 198ms\tremaining: 982ms\n",
      "168:\tlearn: 0.2342193\ttotal: 199ms\tremaining: 979ms\n",
      "169:\tlearn: 0.2335865\ttotal: 200ms\tremaining: 976ms\n",
      "170:\tlearn: 0.2326678\ttotal: 201ms\tremaining: 973ms\n",
      "171:\tlearn: 0.2319404\ttotal: 202ms\tremaining: 970ms\n",
      "172:\tlearn: 0.2314190\ttotal: 202ms\tremaining: 967ms\n",
      "173:\tlearn: 0.2309866\ttotal: 203ms\tremaining: 964ms\n",
      "174:\tlearn: 0.2306209\ttotal: 204ms\tremaining: 962ms\n",
      "175:\tlearn: 0.2305141\ttotal: 205ms\tremaining: 958ms\n",
      "176:\tlearn: 0.2296746\ttotal: 205ms\tremaining: 955ms\n",
      "177:\tlearn: 0.2289186\ttotal: 206ms\tremaining: 953ms\n",
      "178:\tlearn: 0.2284014\ttotal: 207ms\tremaining: 950ms\n",
      "179:\tlearn: 0.2276492\ttotal: 208ms\tremaining: 947ms\n",
      "180:\tlearn: 0.2268890\ttotal: 209ms\tremaining: 944ms\n",
      "181:\tlearn: 0.2261545\ttotal: 210ms\tremaining: 942ms\n",
      "182:\tlearn: 0.2258215\ttotal: 210ms\tremaining: 939ms\n",
      "183:\tlearn: 0.2252294\ttotal: 211ms\tremaining: 937ms\n",
      "184:\tlearn: 0.2246859\ttotal: 212ms\tremaining: 934ms\n",
      "185:\tlearn: 0.2243544\ttotal: 213ms\tremaining: 931ms\n",
      "186:\tlearn: 0.2237459\ttotal: 214ms\tremaining: 928ms\n",
      "187:\tlearn: 0.2230774\ttotal: 214ms\tremaining: 926ms\n",
      "188:\tlearn: 0.2225790\ttotal: 216ms\tremaining: 926ms\n",
      "189:\tlearn: 0.2221114\ttotal: 216ms\tremaining: 923ms\n",
      "190:\tlearn: 0.2214287\ttotal: 217ms\tremaining: 920ms\n",
      "191:\tlearn: 0.2205485\ttotal: 218ms\tremaining: 917ms\n",
      "192:\tlearn: 0.2199720\ttotal: 219ms\tremaining: 915ms\n",
      "193:\tlearn: 0.2195179\ttotal: 220ms\tremaining: 912ms\n",
      "194:\tlearn: 0.2186518\ttotal: 220ms\tremaining: 909ms\n",
      "195:\tlearn: 0.2181623\ttotal: 221ms\tremaining: 907ms\n",
      "196:\tlearn: 0.2178229\ttotal: 222ms\tremaining: 904ms\n",
      "197:\tlearn: 0.2172525\ttotal: 223ms\tremaining: 902ms\n",
      "198:\tlearn: 0.2169147\ttotal: 224ms\tremaining: 900ms\n",
      "199:\tlearn: 0.2162954\ttotal: 224ms\tremaining: 897ms\n",
      "200:\tlearn: 0.2157178\ttotal: 225ms\tremaining: 895ms\n",
      "201:\tlearn: 0.2151777\ttotal: 226ms\tremaining: 892ms\n",
      "202:\tlearn: 0.2146161\ttotal: 227ms\tremaining: 890ms\n",
      "203:\tlearn: 0.2141893\ttotal: 227ms\tremaining: 887ms\n",
      "204:\tlearn: 0.2137764\ttotal: 228ms\tremaining: 885ms\n",
      "205:\tlearn: 0.2133345\ttotal: 229ms\tremaining: 883ms\n",
      "206:\tlearn: 0.2129735\ttotal: 230ms\tremaining: 880ms\n",
      "207:\tlearn: 0.2125313\ttotal: 230ms\tremaining: 878ms\n",
      "208:\tlearn: 0.2124437\ttotal: 231ms\tremaining: 875ms\n",
      "209:\tlearn: 0.2120757\ttotal: 232ms\tremaining: 873ms\n",
      "210:\tlearn: 0.2115884\ttotal: 233ms\tremaining: 871ms\n",
      "211:\tlearn: 0.2111030\ttotal: 234ms\tremaining: 868ms\n",
      "212:\tlearn: 0.2107902\ttotal: 234ms\tremaining: 866ms\n",
      "213:\tlearn: 0.2102980\ttotal: 235ms\tremaining: 864ms\n",
      "214:\tlearn: 0.2099144\ttotal: 236ms\tremaining: 862ms\n",
      "215:\tlearn: 0.2094917\ttotal: 237ms\tremaining: 860ms\n",
      "216:\tlearn: 0.2089161\ttotal: 238ms\tremaining: 858ms\n",
      "217:\tlearn: 0.2084253\ttotal: 238ms\tremaining: 855ms\n",
      "218:\tlearn: 0.2082224\ttotal: 239ms\tremaining: 853ms\n",
      "219:\tlearn: 0.2077656\ttotal: 240ms\tremaining: 851ms\n",
      "220:\tlearn: 0.2071270\ttotal: 241ms\tremaining: 849ms\n",
      "221:\tlearn: 0.2067783\ttotal: 242ms\tremaining: 847ms\n",
      "222:\tlearn: 0.2063318\ttotal: 242ms\tremaining: 845ms\n",
      "223:\tlearn: 0.2059329\ttotal: 243ms\tremaining: 843ms\n",
      "224:\tlearn: 0.2055072\ttotal: 244ms\tremaining: 841ms\n",
      "225:\tlearn: 0.2047674\ttotal: 245ms\tremaining: 838ms\n",
      "226:\tlearn: 0.2045146\ttotal: 246ms\tremaining: 837ms\n",
      "227:\tlearn: 0.2040015\ttotal: 247ms\tremaining: 835ms\n",
      "228:\tlearn: 0.2036499\ttotal: 247ms\tremaining: 833ms\n",
      "229:\tlearn: 0.2032109\ttotal: 248ms\tremaining: 831ms\n",
      "230:\tlearn: 0.2027806\ttotal: 249ms\tremaining: 829ms\n",
      "231:\tlearn: 0.2023996\ttotal: 250ms\tremaining: 827ms\n",
      "232:\tlearn: 0.2018670\ttotal: 251ms\tremaining: 825ms\n",
      "233:\tlearn: 0.2016311\ttotal: 252ms\tremaining: 824ms\n",
      "234:\tlearn: 0.2013850\ttotal: 252ms\tremaining: 822ms\n",
      "235:\tlearn: 0.2010539\ttotal: 253ms\tremaining: 820ms\n",
      "236:\tlearn: 0.2004409\ttotal: 254ms\tremaining: 818ms\n",
      "237:\tlearn: 0.2000003\ttotal: 255ms\tremaining: 816ms\n",
      "238:\tlearn: 0.1993874\ttotal: 256ms\tremaining: 814ms\n",
      "239:\tlearn: 0.1987961\ttotal: 257ms\tremaining: 812ms\n",
      "240:\tlearn: 0.1983298\ttotal: 257ms\tremaining: 810ms\n",
      "241:\tlearn: 0.1980125\ttotal: 258ms\tremaining: 808ms\n",
      "242:\tlearn: 0.1975996\ttotal: 259ms\tremaining: 806ms\n",
      "243:\tlearn: 0.1972833\ttotal: 260ms\tremaining: 804ms\n",
      "244:\tlearn: 0.1968453\ttotal: 260ms\tremaining: 802ms\n",
      "245:\tlearn: 0.1961409\ttotal: 261ms\tremaining: 801ms\n",
      "246:\tlearn: 0.1958720\ttotal: 262ms\tremaining: 799ms\n",
      "247:\tlearn: 0.1955449\ttotal: 263ms\tremaining: 797ms\n",
      "248:\tlearn: 0.1949442\ttotal: 263ms\tremaining: 795ms\n",
      "249:\tlearn: 0.1944947\ttotal: 264ms\tremaining: 793ms\n",
      "250:\tlearn: 0.1940397\ttotal: 265ms\tremaining: 791ms\n",
      "251:\tlearn: 0.1936496\ttotal: 266ms\tremaining: 789ms\n",
      "252:\tlearn: 0.1934954\ttotal: 267ms\tremaining: 787ms\n",
      "253:\tlearn: 0.1930891\ttotal: 267ms\tremaining: 785ms\n",
      "254:\tlearn: 0.1925497\ttotal: 268ms\tremaining: 784ms\n",
      "255:\tlearn: 0.1920826\ttotal: 269ms\tremaining: 782ms\n",
      "256:\tlearn: 0.1916692\ttotal: 270ms\tremaining: 780ms\n",
      "257:\tlearn: 0.1912963\ttotal: 271ms\tremaining: 778ms\n",
      "258:\tlearn: 0.1910798\ttotal: 271ms\tremaining: 777ms\n",
      "259:\tlearn: 0.1908901\ttotal: 272ms\tremaining: 775ms\n",
      "260:\tlearn: 0.1904234\ttotal: 273ms\tremaining: 773ms\n",
      "261:\tlearn: 0.1896425\ttotal: 274ms\tremaining: 772ms\n",
      "262:\tlearn: 0.1892483\ttotal: 275ms\tremaining: 770ms\n",
      "263:\tlearn: 0.1888501\ttotal: 276ms\tremaining: 768ms\n",
      "264:\tlearn: 0.1885793\ttotal: 276ms\tremaining: 767ms\n",
      "265:\tlearn: 0.1882940\ttotal: 277ms\tremaining: 765ms\n",
      "266:\tlearn: 0.1880065\ttotal: 278ms\tremaining: 763ms\n",
      "267:\tlearn: 0.1877469\ttotal: 279ms\tremaining: 762ms\n",
      "268:\tlearn: 0.1874212\ttotal: 280ms\tremaining: 760ms\n",
      "269:\tlearn: 0.1870602\ttotal: 280ms\tremaining: 758ms\n",
      "270:\tlearn: 0.1868324\ttotal: 281ms\tremaining: 756ms\n",
      "271:\tlearn: 0.1864281\ttotal: 282ms\tremaining: 755ms\n",
      "272:\tlearn: 0.1861335\ttotal: 283ms\tremaining: 753ms\n",
      "273:\tlearn: 0.1858210\ttotal: 284ms\tremaining: 751ms\n",
      "274:\tlearn: 0.1856395\ttotal: 284ms\tremaining: 750ms\n"
     ]
    },
    {
     "name": "stdout",
     "output_type": "stream",
     "text": [
      "275:\tlearn: 0.1852544\ttotal: 285ms\tremaining: 749ms\n",
      "276:\tlearn: 0.1847626\ttotal: 286ms\tremaining: 748ms\n",
      "277:\tlearn: 0.1842367\ttotal: 287ms\tremaining: 746ms\n",
      "278:\tlearn: 0.1836567\ttotal: 288ms\tremaining: 744ms\n",
      "279:\tlearn: 0.1828847\ttotal: 289ms\tremaining: 743ms\n",
      "280:\tlearn: 0.1824185\ttotal: 290ms\tremaining: 742ms\n",
      "281:\tlearn: 0.1820416\ttotal: 291ms\tremaining: 740ms\n",
      "282:\tlearn: 0.1818295\ttotal: 291ms\tremaining: 739ms\n",
      "283:\tlearn: 0.1816537\ttotal: 292ms\tremaining: 737ms\n",
      "284:\tlearn: 0.1813585\ttotal: 293ms\tremaining: 735ms\n",
      "285:\tlearn: 0.1807606\ttotal: 294ms\tremaining: 735ms\n",
      "286:\tlearn: 0.1804341\ttotal: 295ms\tremaining: 733ms\n",
      "287:\tlearn: 0.1798694\ttotal: 296ms\tremaining: 732ms\n",
      "288:\tlearn: 0.1794999\ttotal: 297ms\tremaining: 730ms\n",
      "289:\tlearn: 0.1791824\ttotal: 298ms\tremaining: 729ms\n",
      "290:\tlearn: 0.1789165\ttotal: 298ms\tremaining: 727ms\n",
      "291:\tlearn: 0.1786828\ttotal: 299ms\tremaining: 725ms\n",
      "292:\tlearn: 0.1780652\ttotal: 300ms\tremaining: 725ms\n",
      "293:\tlearn: 0.1775757\ttotal: 301ms\tremaining: 724ms\n",
      "294:\tlearn: 0.1772299\ttotal: 302ms\tremaining: 723ms\n",
      "295:\tlearn: 0.1768271\ttotal: 303ms\tremaining: 722ms\n",
      "296:\tlearn: 0.1762923\ttotal: 304ms\tremaining: 720ms\n",
      "297:\tlearn: 0.1757659\ttotal: 305ms\tremaining: 719ms\n",
      "298:\tlearn: 0.1755061\ttotal: 306ms\tremaining: 718ms\n",
      "299:\tlearn: 0.1751390\ttotal: 307ms\tremaining: 716ms\n",
      "300:\tlearn: 0.1746959\ttotal: 308ms\tremaining: 715ms\n",
      "301:\tlearn: 0.1743171\ttotal: 308ms\tremaining: 713ms\n",
      "302:\tlearn: 0.1741514\ttotal: 309ms\tremaining: 711ms\n",
      "303:\tlearn: 0.1738309\ttotal: 310ms\tremaining: 710ms\n",
      "304:\tlearn: 0.1736280\ttotal: 311ms\tremaining: 708ms\n",
      "305:\tlearn: 0.1729914\ttotal: 311ms\tremaining: 706ms\n",
      "306:\tlearn: 0.1728033\ttotal: 312ms\tremaining: 705ms\n",
      "307:\tlearn: 0.1725372\ttotal: 313ms\tremaining: 703ms\n",
      "308:\tlearn: 0.1723093\ttotal: 314ms\tremaining: 702ms\n",
      "309:\tlearn: 0.1721160\ttotal: 315ms\tremaining: 700ms\n",
      "310:\tlearn: 0.1717119\ttotal: 315ms\tremaining: 699ms\n",
      "311:\tlearn: 0.1711628\ttotal: 316ms\tremaining: 697ms\n",
      "312:\tlearn: 0.1706616\ttotal: 317ms\tremaining: 696ms\n",
      "313:\tlearn: 0.1702215\ttotal: 318ms\tremaining: 694ms\n",
      "314:\tlearn: 0.1699786\ttotal: 319ms\tremaining: 693ms\n",
      "315:\tlearn: 0.1697745\ttotal: 320ms\tremaining: 692ms\n",
      "316:\tlearn: 0.1695645\ttotal: 320ms\tremaining: 690ms\n",
      "317:\tlearn: 0.1694526\ttotal: 321ms\tremaining: 689ms\n",
      "318:\tlearn: 0.1691940\ttotal: 322ms\tremaining: 687ms\n",
      "319:\tlearn: 0.1690117\ttotal: 323ms\tremaining: 686ms\n",
      "320:\tlearn: 0.1685026\ttotal: 324ms\tremaining: 685ms\n",
      "321:\tlearn: 0.1680398\ttotal: 324ms\tremaining: 683ms\n",
      "322:\tlearn: 0.1678761\ttotal: 325ms\tremaining: 682ms\n",
      "323:\tlearn: 0.1677280\ttotal: 326ms\tremaining: 680ms\n",
      "324:\tlearn: 0.1674763\ttotal: 327ms\tremaining: 679ms\n",
      "325:\tlearn: 0.1671745\ttotal: 328ms\tremaining: 677ms\n",
      "326:\tlearn: 0.1667392\ttotal: 328ms\tremaining: 676ms\n",
      "327:\tlearn: 0.1663496\ttotal: 329ms\tremaining: 674ms\n",
      "328:\tlearn: 0.1661298\ttotal: 330ms\tremaining: 673ms\n",
      "329:\tlearn: 0.1657931\ttotal: 331ms\tremaining: 672ms\n",
      "330:\tlearn: 0.1654613\ttotal: 332ms\tremaining: 670ms\n",
      "331:\tlearn: 0.1650876\ttotal: 332ms\tremaining: 669ms\n",
      "332:\tlearn: 0.1647561\ttotal: 333ms\tremaining: 667ms\n",
      "333:\tlearn: 0.1642206\ttotal: 334ms\tremaining: 666ms\n",
      "334:\tlearn: 0.1641364\ttotal: 335ms\tremaining: 664ms\n",
      "335:\tlearn: 0.1635418\ttotal: 336ms\tremaining: 663ms\n",
      "336:\tlearn: 0.1632989\ttotal: 336ms\tremaining: 662ms\n",
      "337:\tlearn: 0.1628512\ttotal: 337ms\tremaining: 660ms\n",
      "338:\tlearn: 0.1626422\ttotal: 338ms\tremaining: 659ms\n",
      "339:\tlearn: 0.1621830\ttotal: 339ms\tremaining: 657ms\n",
      "340:\tlearn: 0.1615574\ttotal: 340ms\tremaining: 656ms\n",
      "341:\tlearn: 0.1612235\ttotal: 340ms\tremaining: 655ms\n",
      "342:\tlearn: 0.1611277\ttotal: 341ms\tremaining: 654ms\n",
      "343:\tlearn: 0.1604961\ttotal: 342ms\tremaining: 652ms\n",
      "344:\tlearn: 0.1600131\ttotal: 343ms\tremaining: 651ms\n",
      "345:\tlearn: 0.1596191\ttotal: 344ms\tremaining: 651ms\n",
      "346:\tlearn: 0.1593214\ttotal: 345ms\tremaining: 650ms\n",
      "347:\tlearn: 0.1590641\ttotal: 346ms\tremaining: 649ms\n",
      "348:\tlearn: 0.1586538\ttotal: 347ms\tremaining: 647ms\n",
      "349:\tlearn: 0.1582076\ttotal: 348ms\tremaining: 646ms\n",
      "350:\tlearn: 0.1581258\ttotal: 348ms\tremaining: 644ms\n",
      "351:\tlearn: 0.1578188\ttotal: 349ms\tremaining: 643ms\n",
      "352:\tlearn: 0.1575922\ttotal: 350ms\tremaining: 642ms\n",
      "353:\tlearn: 0.1573941\ttotal: 351ms\tremaining: 640ms\n",
      "354:\tlearn: 0.1570418\ttotal: 352ms\tremaining: 639ms\n",
      "355:\tlearn: 0.1567294\ttotal: 353ms\tremaining: 638ms\n",
      "356:\tlearn: 0.1563763\ttotal: 353ms\tremaining: 637ms\n",
      "357:\tlearn: 0.1563400\ttotal: 354ms\tremaining: 635ms\n",
      "358:\tlearn: 0.1559128\ttotal: 355ms\tremaining: 634ms\n",
      "359:\tlearn: 0.1557140\ttotal: 356ms\tremaining: 632ms\n",
      "360:\tlearn: 0.1553351\ttotal: 357ms\tremaining: 631ms\n",
      "361:\tlearn: 0.1552138\ttotal: 357ms\tremaining: 630ms\n",
      "362:\tlearn: 0.1547997\ttotal: 358ms\tremaining: 629ms\n",
      "363:\tlearn: 0.1542802\ttotal: 359ms\tremaining: 627ms\n",
      "364:\tlearn: 0.1537791\ttotal: 360ms\tremaining: 626ms\n",
      "365:\tlearn: 0.1535091\ttotal: 361ms\tremaining: 625ms\n",
      "366:\tlearn: 0.1532402\ttotal: 361ms\tremaining: 623ms\n",
      "367:\tlearn: 0.1530099\ttotal: 362ms\tremaining: 622ms\n",
      "368:\tlearn: 0.1526557\ttotal: 363ms\tremaining: 621ms\n",
      "369:\tlearn: 0.1524368\ttotal: 364ms\tremaining: 619ms\n",
      "370:\tlearn: 0.1520811\ttotal: 365ms\tremaining: 618ms\n",
      "371:\tlearn: 0.1518740\ttotal: 366ms\tremaining: 617ms\n",
      "372:\tlearn: 0.1516996\ttotal: 366ms\tremaining: 616ms\n",
      "373:\tlearn: 0.1514162\ttotal: 367ms\tremaining: 614ms\n",
      "374:\tlearn: 0.1511458\ttotal: 368ms\tremaining: 613ms\n",
      "375:\tlearn: 0.1506768\ttotal: 369ms\tremaining: 612ms\n",
      "376:\tlearn: 0.1503081\ttotal: 369ms\tremaining: 611ms\n",
      "377:\tlearn: 0.1501186\ttotal: 370ms\tremaining: 609ms\n",
      "378:\tlearn: 0.1497262\ttotal: 371ms\tremaining: 608ms\n",
      "379:\tlearn: 0.1493694\ttotal: 372ms\tremaining: 607ms\n",
      "380:\tlearn: 0.1488782\ttotal: 373ms\tremaining: 606ms\n",
      "381:\tlearn: 0.1486845\ttotal: 374ms\tremaining: 606ms\n",
      "382:\tlearn: 0.1483152\ttotal: 375ms\tremaining: 604ms\n",
      "383:\tlearn: 0.1479653\ttotal: 376ms\tremaining: 603ms\n",
      "384:\tlearn: 0.1477241\ttotal: 377ms\tremaining: 602ms\n",
      "385:\tlearn: 0.1472892\ttotal: 378ms\tremaining: 601ms\n",
      "386:\tlearn: 0.1469813\ttotal: 379ms\tremaining: 601ms\n",
      "387:\tlearn: 0.1466848\ttotal: 380ms\tremaining: 599ms\n",
      "388:\tlearn: 0.1464435\ttotal: 381ms\tremaining: 598ms\n",
      "389:\tlearn: 0.1462743\ttotal: 382ms\tremaining: 597ms\n"
     ]
    },
    {
     "name": "stdout",
     "output_type": "stream",
     "text": [
      "390:\tlearn: 0.1458988\ttotal: 383ms\tremaining: 596ms\n",
      "391:\tlearn: 0.1457013\ttotal: 384ms\tremaining: 595ms\n",
      "392:\tlearn: 0.1454220\ttotal: 384ms\tremaining: 594ms\n",
      "393:\tlearn: 0.1450537\ttotal: 385ms\tremaining: 593ms\n",
      "394:\tlearn: 0.1448140\ttotal: 386ms\tremaining: 591ms\n",
      "395:\tlearn: 0.1445704\ttotal: 387ms\tremaining: 590ms\n",
      "396:\tlearn: 0.1441044\ttotal: 388ms\tremaining: 589ms\n",
      "397:\tlearn: 0.1437743\ttotal: 388ms\tremaining: 588ms\n",
      "398:\tlearn: 0.1433936\ttotal: 389ms\tremaining: 586ms\n",
      "399:\tlearn: 0.1432013\ttotal: 390ms\tremaining: 585ms\n",
      "400:\tlearn: 0.1429790\ttotal: 391ms\tremaining: 584ms\n",
      "401:\tlearn: 0.1424766\ttotal: 392ms\tremaining: 583ms\n",
      "402:\tlearn: 0.1421927\ttotal: 393ms\tremaining: 581ms\n",
      "403:\tlearn: 0.1419213\ttotal: 393ms\tremaining: 580ms\n",
      "404:\tlearn: 0.1415876\ttotal: 394ms\tremaining: 579ms\n",
      "405:\tlearn: 0.1412841\ttotal: 395ms\tremaining: 578ms\n",
      "406:\tlearn: 0.1409974\ttotal: 396ms\tremaining: 577ms\n",
      "407:\tlearn: 0.1406010\ttotal: 397ms\tremaining: 576ms\n",
      "408:\tlearn: 0.1404676\ttotal: 398ms\tremaining: 575ms\n",
      "409:\tlearn: 0.1402314\ttotal: 399ms\tremaining: 574ms\n",
      "410:\tlearn: 0.1398970\ttotal: 399ms\tremaining: 572ms\n",
      "411:\tlearn: 0.1395013\ttotal: 400ms\tremaining: 571ms\n",
      "412:\tlearn: 0.1391252\ttotal: 401ms\tremaining: 570ms\n",
      "413:\tlearn: 0.1388576\ttotal: 402ms\tremaining: 569ms\n",
      "414:\tlearn: 0.1384508\ttotal: 403ms\tremaining: 568ms\n",
      "415:\tlearn: 0.1381430\ttotal: 403ms\tremaining: 566ms\n",
      "416:\tlearn: 0.1378752\ttotal: 404ms\tremaining: 565ms\n",
      "417:\tlearn: 0.1377203\ttotal: 405ms\tremaining: 564ms\n",
      "418:\tlearn: 0.1373923\ttotal: 406ms\tremaining: 563ms\n",
      "419:\tlearn: 0.1371235\ttotal: 407ms\tremaining: 561ms\n",
      "420:\tlearn: 0.1368541\ttotal: 407ms\tremaining: 560ms\n",
      "421:\tlearn: 0.1365260\ttotal: 408ms\tremaining: 559ms\n",
      "422:\tlearn: 0.1363059\ttotal: 409ms\tremaining: 558ms\n",
      "423:\tlearn: 0.1360201\ttotal: 410ms\tremaining: 557ms\n",
      "424:\tlearn: 0.1356905\ttotal: 411ms\tremaining: 556ms\n",
      "425:\tlearn: 0.1354493\ttotal: 412ms\tremaining: 555ms\n",
      "426:\tlearn: 0.1351947\ttotal: 413ms\tremaining: 554ms\n",
      "427:\tlearn: 0.1347856\ttotal: 414ms\tremaining: 553ms\n",
      "428:\tlearn: 0.1342999\ttotal: 414ms\tremaining: 552ms\n",
      "429:\tlearn: 0.1338744\ttotal: 415ms\tremaining: 551ms\n",
      "430:\tlearn: 0.1336391\ttotal: 416ms\tremaining: 549ms\n",
      "431:\tlearn: 0.1332859\ttotal: 417ms\tremaining: 548ms\n",
      "432:\tlearn: 0.1330002\ttotal: 418ms\tremaining: 547ms\n",
      "433:\tlearn: 0.1325987\ttotal: 418ms\tremaining: 545ms\n",
      "434:\tlearn: 0.1322985\ttotal: 419ms\tremaining: 544ms\n",
      "435:\tlearn: 0.1318589\ttotal: 420ms\tremaining: 543ms\n",
      "436:\tlearn: 0.1314620\ttotal: 421ms\tremaining: 542ms\n",
      "437:\tlearn: 0.1310266\ttotal: 422ms\tremaining: 541ms\n",
      "438:\tlearn: 0.1305667\ttotal: 422ms\tremaining: 540ms\n",
      "439:\tlearn: 0.1303350\ttotal: 423ms\tremaining: 539ms\n",
      "440:\tlearn: 0.1300993\ttotal: 424ms\tremaining: 538ms\n",
      "441:\tlearn: 0.1298555\ttotal: 425ms\tremaining: 537ms\n",
      "442:\tlearn: 0.1295064\ttotal: 426ms\tremaining: 535ms\n",
      "443:\tlearn: 0.1292441\ttotal: 427ms\tremaining: 534ms\n",
      "444:\tlearn: 0.1289843\ttotal: 427ms\tremaining: 533ms\n",
      "445:\tlearn: 0.1287734\ttotal: 428ms\tremaining: 532ms\n",
      "446:\tlearn: 0.1284389\ttotal: 429ms\tremaining: 531ms\n",
      "447:\tlearn: 0.1283011\ttotal: 430ms\tremaining: 530ms\n",
      "448:\tlearn: 0.1280731\ttotal: 431ms\tremaining: 528ms\n",
      "449:\tlearn: 0.1277929\ttotal: 431ms\tremaining: 527ms\n",
      "450:\tlearn: 0.1275944\ttotal: 432ms\tremaining: 526ms\n",
      "451:\tlearn: 0.1273056\ttotal: 433ms\tremaining: 525ms\n",
      "452:\tlearn: 0.1270182\ttotal: 434ms\tremaining: 524ms\n",
      "453:\tlearn: 0.1267572\ttotal: 435ms\tremaining: 523ms\n",
      "454:\tlearn: 0.1266550\ttotal: 435ms\tremaining: 522ms\n",
      "455:\tlearn: 0.1265329\ttotal: 436ms\tremaining: 520ms\n",
      "456:\tlearn: 0.1262042\ttotal: 437ms\tremaining: 519ms\n",
      "457:\tlearn: 0.1260480\ttotal: 438ms\tremaining: 518ms\n",
      "458:\tlearn: 0.1257609\ttotal: 439ms\tremaining: 517ms\n",
      "459:\tlearn: 0.1254757\ttotal: 440ms\tremaining: 516ms\n",
      "460:\tlearn: 0.1251296\ttotal: 440ms\tremaining: 515ms\n",
      "461:\tlearn: 0.1248670\ttotal: 441ms\tremaining: 514ms\n",
      "462:\tlearn: 0.1246271\ttotal: 442ms\tremaining: 513ms\n",
      "463:\tlearn: 0.1243843\ttotal: 443ms\tremaining: 512ms\n",
      "464:\tlearn: 0.1242419\ttotal: 444ms\tremaining: 510ms\n",
      "465:\tlearn: 0.1239481\ttotal: 445ms\tremaining: 510ms\n",
      "466:\tlearn: 0.1237010\ttotal: 446ms\tremaining: 509ms\n",
      "467:\tlearn: 0.1235000\ttotal: 447ms\tremaining: 508ms\n",
      "468:\tlearn: 0.1232830\ttotal: 448ms\tremaining: 507ms\n",
      "469:\tlearn: 0.1231314\ttotal: 448ms\tremaining: 506ms\n",
      "470:\tlearn: 0.1230010\ttotal: 449ms\tremaining: 504ms\n",
      "471:\tlearn: 0.1227597\ttotal: 450ms\tremaining: 503ms\n",
      "472:\tlearn: 0.1225599\ttotal: 451ms\tremaining: 502ms\n",
      "473:\tlearn: 0.1223866\ttotal: 451ms\tremaining: 501ms\n",
      "474:\tlearn: 0.1221770\ttotal: 452ms\tremaining: 500ms\n",
      "475:\tlearn: 0.1217702\ttotal: 453ms\tremaining: 499ms\n",
      "476:\tlearn: 0.1215251\ttotal: 454ms\tremaining: 498ms\n",
      "477:\tlearn: 0.1214182\ttotal: 455ms\tremaining: 497ms\n",
      "478:\tlearn: 0.1211517\ttotal: 456ms\tremaining: 496ms\n",
      "479:\tlearn: 0.1210403\ttotal: 457ms\tremaining: 495ms\n",
      "480:\tlearn: 0.1209360\ttotal: 457ms\tremaining: 494ms\n",
      "481:\tlearn: 0.1205797\ttotal: 458ms\tremaining: 492ms\n",
      "482:\tlearn: 0.1201868\ttotal: 459ms\tremaining: 491ms\n",
      "483:\tlearn: 0.1198498\ttotal: 460ms\tremaining: 490ms\n",
      "484:\tlearn: 0.1196221\ttotal: 461ms\tremaining: 489ms\n",
      "485:\tlearn: 0.1193552\ttotal: 461ms\tremaining: 488ms\n",
      "486:\tlearn: 0.1191621\ttotal: 462ms\tremaining: 487ms\n",
      "487:\tlearn: 0.1189443\ttotal: 463ms\tremaining: 486ms\n",
      "488:\tlearn: 0.1187624\ttotal: 464ms\tremaining: 485ms\n",
      "489:\tlearn: 0.1184686\ttotal: 465ms\tremaining: 484ms\n",
      "490:\tlearn: 0.1182668\ttotal: 465ms\tremaining: 482ms\n",
      "491:\tlearn: 0.1179675\ttotal: 466ms\tremaining: 481ms\n",
      "492:\tlearn: 0.1177853\ttotal: 467ms\tremaining: 480ms\n",
      "493:\tlearn: 0.1174777\ttotal: 468ms\tremaining: 479ms\n",
      "494:\tlearn: 0.1172084\ttotal: 468ms\tremaining: 478ms\n",
      "495:\tlearn: 0.1170839\ttotal: 469ms\tremaining: 477ms\n",
      "496:\tlearn: 0.1167193\ttotal: 470ms\tremaining: 476ms\n",
      "497:\tlearn: 0.1166060\ttotal: 471ms\tremaining: 474ms\n",
      "498:\tlearn: 0.1164656\ttotal: 471ms\tremaining: 473ms\n",
      "499:\tlearn: 0.1163704\ttotal: 472ms\tremaining: 472ms\n",
      "500:\tlearn: 0.1161190\ttotal: 473ms\tremaining: 471ms\n",
      "501:\tlearn: 0.1160166\ttotal: 474ms\tremaining: 470ms\n",
      "502:\tlearn: 0.1157269\ttotal: 475ms\tremaining: 469ms\n"
     ]
    },
    {
     "name": "stdout",
     "output_type": "stream",
     "text": [
      "503:\tlearn: 0.1154556\ttotal: 476ms\tremaining: 468ms\n",
      "504:\tlearn: 0.1150858\ttotal: 477ms\tremaining: 467ms\n",
      "505:\tlearn: 0.1149724\ttotal: 477ms\tremaining: 466ms\n",
      "506:\tlearn: 0.1147575\ttotal: 478ms\tremaining: 465ms\n",
      "507:\tlearn: 0.1145676\ttotal: 479ms\tremaining: 464ms\n",
      "508:\tlearn: 0.1142810\ttotal: 480ms\tremaining: 463ms\n",
      "509:\tlearn: 0.1140921\ttotal: 480ms\tremaining: 462ms\n",
      "510:\tlearn: 0.1139924\ttotal: 481ms\tremaining: 461ms\n",
      "511:\tlearn: 0.1137459\ttotal: 482ms\tremaining: 460ms\n",
      "512:\tlearn: 0.1135110\ttotal: 483ms\tremaining: 459ms\n",
      "513:\tlearn: 0.1134256\ttotal: 484ms\tremaining: 458ms\n",
      "514:\tlearn: 0.1130817\ttotal: 485ms\tremaining: 457ms\n",
      "515:\tlearn: 0.1129983\ttotal: 486ms\tremaining: 456ms\n",
      "516:\tlearn: 0.1126287\ttotal: 487ms\tremaining: 455ms\n",
      "517:\tlearn: 0.1125790\ttotal: 487ms\tremaining: 454ms\n",
      "518:\tlearn: 0.1123814\ttotal: 488ms\tremaining: 453ms\n",
      "519:\tlearn: 0.1123113\ttotal: 489ms\tremaining: 451ms\n",
      "520:\tlearn: 0.1120985\ttotal: 490ms\tremaining: 450ms\n",
      "521:\tlearn: 0.1120216\ttotal: 491ms\tremaining: 449ms\n",
      "522:\tlearn: 0.1117510\ttotal: 492ms\tremaining: 448ms\n",
      "523:\tlearn: 0.1114837\ttotal: 492ms\tremaining: 447ms\n",
      "524:\tlearn: 0.1114326\ttotal: 493ms\tremaining: 446ms\n",
      "525:\tlearn: 0.1111818\ttotal: 494ms\tremaining: 445ms\n",
      "526:\tlearn: 0.1110347\ttotal: 495ms\tremaining: 444ms\n",
      "527:\tlearn: 0.1109358\ttotal: 496ms\tremaining: 443ms\n",
      "528:\tlearn: 0.1107863\ttotal: 497ms\tremaining: 442ms\n",
      "529:\tlearn: 0.1106637\ttotal: 498ms\tremaining: 441ms\n",
      "530:\tlearn: 0.1105157\ttotal: 498ms\tremaining: 440ms\n",
      "531:\tlearn: 0.1103990\ttotal: 499ms\tremaining: 439ms\n",
      "532:\tlearn: 0.1101237\ttotal: 500ms\tremaining: 438ms\n",
      "533:\tlearn: 0.1099319\ttotal: 501ms\tremaining: 437ms\n",
      "534:\tlearn: 0.1096284\ttotal: 502ms\tremaining: 436ms\n",
      "535:\tlearn: 0.1093340\ttotal: 502ms\tremaining: 435ms\n",
      "536:\tlearn: 0.1091097\ttotal: 503ms\tremaining: 434ms\n",
      "537:\tlearn: 0.1090788\ttotal: 504ms\tremaining: 433ms\n",
      "538:\tlearn: 0.1088714\ttotal: 505ms\tremaining: 432ms\n",
      "539:\tlearn: 0.1086354\ttotal: 506ms\tremaining: 431ms\n",
      "540:\tlearn: 0.1083875\ttotal: 507ms\tremaining: 430ms\n",
      "541:\tlearn: 0.1081084\ttotal: 507ms\tremaining: 429ms\n",
      "542:\tlearn: 0.1080901\ttotal: 508ms\tremaining: 428ms\n",
      "543:\tlearn: 0.1078511\ttotal: 509ms\tremaining: 427ms\n",
      "544:\tlearn: 0.1076067\ttotal: 510ms\tremaining: 426ms\n",
      "545:\tlearn: 0.1073060\ttotal: 511ms\tremaining: 425ms\n",
      "546:\tlearn: 0.1070523\ttotal: 512ms\tremaining: 424ms\n",
      "547:\tlearn: 0.1068331\ttotal: 512ms\tremaining: 423ms\n",
      "548:\tlearn: 0.1066064\ttotal: 513ms\tremaining: 422ms\n",
      "549:\tlearn: 0.1064068\ttotal: 514ms\tremaining: 421ms\n",
      "550:\tlearn: 0.1063338\ttotal: 515ms\tremaining: 420ms\n",
      "551:\tlearn: 0.1061380\ttotal: 516ms\tremaining: 418ms\n",
      "552:\tlearn: 0.1061126\ttotal: 516ms\tremaining: 417ms\n",
      "553:\tlearn: 0.1059371\ttotal: 517ms\tremaining: 416ms\n",
      "554:\tlearn: 0.1056106\ttotal: 518ms\tremaining: 415ms\n",
      "555:\tlearn: 0.1053471\ttotal: 519ms\tremaining: 414ms\n",
      "556:\tlearn: 0.1052088\ttotal: 519ms\tremaining: 413ms\n",
      "557:\tlearn: 0.1050202\ttotal: 520ms\tremaining: 412ms\n",
      "558:\tlearn: 0.1047526\ttotal: 521ms\tremaining: 411ms\n",
      "559:\tlearn: 0.1045026\ttotal: 522ms\tremaining: 410ms\n",
      "560:\tlearn: 0.1043699\ttotal: 523ms\tremaining: 409ms\n",
      "561:\tlearn: 0.1040843\ttotal: 524ms\tremaining: 408ms\n",
      "562:\tlearn: 0.1039123\ttotal: 524ms\tremaining: 407ms\n",
      "563:\tlearn: 0.1038475\ttotal: 526ms\tremaining: 406ms\n",
      "564:\tlearn: 0.1038023\ttotal: 526ms\tremaining: 405ms\n",
      "565:\tlearn: 0.1035878\ttotal: 527ms\tremaining: 404ms\n",
      "566:\tlearn: 0.1034196\ttotal: 528ms\tremaining: 403ms\n",
      "567:\tlearn: 0.1032647\ttotal: 529ms\tremaining: 402ms\n",
      "568:\tlearn: 0.1030552\ttotal: 530ms\tremaining: 401ms\n",
      "569:\tlearn: 0.1030309\ttotal: 530ms\tremaining: 400ms\n",
      "570:\tlearn: 0.1028496\ttotal: 531ms\tremaining: 399ms\n",
      "571:\tlearn: 0.1025899\ttotal: 532ms\tremaining: 398ms\n",
      "572:\tlearn: 0.1023944\ttotal: 533ms\tremaining: 397ms\n",
      "573:\tlearn: 0.1023207\ttotal: 534ms\tremaining: 396ms\n",
      "574:\tlearn: 0.1022181\ttotal: 535ms\tremaining: 395ms\n",
      "575:\tlearn: 0.1020131\ttotal: 535ms\tremaining: 394ms\n",
      "576:\tlearn: 0.1019752\ttotal: 536ms\tremaining: 393ms\n",
      "577:\tlearn: 0.1019070\ttotal: 537ms\tremaining: 392ms\n",
      "578:\tlearn: 0.1017837\ttotal: 538ms\tremaining: 391ms\n",
      "579:\tlearn: 0.1016187\ttotal: 539ms\tremaining: 390ms\n",
      "580:\tlearn: 0.1013758\ttotal: 539ms\tremaining: 389ms\n",
      "581:\tlearn: 0.1013349\ttotal: 540ms\tremaining: 388ms\n",
      "582:\tlearn: 0.1011390\ttotal: 541ms\tremaining: 387ms\n",
      "583:\tlearn: 0.1009623\ttotal: 542ms\tremaining: 386ms\n",
      "584:\tlearn: 0.1008968\ttotal: 542ms\tremaining: 385ms\n",
      "585:\tlearn: 0.1007347\ttotal: 543ms\tremaining: 384ms\n",
      "586:\tlearn: 0.1007195\ttotal: 544ms\tremaining: 383ms\n",
      "587:\tlearn: 0.1005301\ttotal: 545ms\tremaining: 382ms\n",
      "588:\tlearn: 0.1004462\ttotal: 546ms\tremaining: 381ms\n",
      "589:\tlearn: 0.1002131\ttotal: 547ms\tremaining: 380ms\n",
      "590:\tlearn: 0.1000842\ttotal: 547ms\tremaining: 379ms\n",
      "591:\tlearn: 0.0998685\ttotal: 548ms\tremaining: 378ms\n",
      "592:\tlearn: 0.0995976\ttotal: 549ms\tremaining: 377ms\n",
      "593:\tlearn: 0.0993854\ttotal: 550ms\tremaining: 376ms\n",
      "594:\tlearn: 0.0991963\ttotal: 551ms\tremaining: 375ms\n",
      "595:\tlearn: 0.0991316\ttotal: 551ms\tremaining: 374ms\n",
      "596:\tlearn: 0.0991180\ttotal: 552ms\tremaining: 373ms\n",
      "597:\tlearn: 0.0990579\ttotal: 553ms\tremaining: 372ms\n",
      "598:\tlearn: 0.0989128\ttotal: 554ms\tremaining: 371ms\n",
      "599:\tlearn: 0.0987291\ttotal: 555ms\tremaining: 370ms\n",
      "600:\tlearn: 0.0986047\ttotal: 556ms\tremaining: 369ms\n",
      "601:\tlearn: 0.0985825\ttotal: 556ms\tremaining: 368ms\n",
      "602:\tlearn: 0.0984905\ttotal: 557ms\tremaining: 367ms\n",
      "603:\tlearn: 0.0982693\ttotal: 558ms\tremaining: 366ms\n",
      "604:\tlearn: 0.0981724\ttotal: 559ms\tremaining: 365ms\n",
      "605:\tlearn: 0.0979469\ttotal: 559ms\tremaining: 364ms\n",
      "606:\tlearn: 0.0976784\ttotal: 560ms\tremaining: 363ms\n",
      "607:\tlearn: 0.0975913\ttotal: 561ms\tremaining: 362ms\n",
      "608:\tlearn: 0.0975681\ttotal: 562ms\tremaining: 361ms\n",
      "609:\tlearn: 0.0973725\ttotal: 563ms\tremaining: 360ms\n",
      "610:\tlearn: 0.0973021\ttotal: 564ms\tremaining: 359ms\n",
      "611:\tlearn: 0.0971052\ttotal: 565ms\tremaining: 358ms\n",
      "612:\tlearn: 0.0969538\ttotal: 566ms\tremaining: 357ms\n",
      "613:\tlearn: 0.0967151\ttotal: 566ms\tremaining: 356ms\n",
      "614:\tlearn: 0.0964886\ttotal: 567ms\tremaining: 355ms\n",
      "615:\tlearn: 0.0962293\ttotal: 568ms\tremaining: 354ms\n",
      "616:\tlearn: 0.0960456\ttotal: 569ms\tremaining: 353ms\n",
      "617:\tlearn: 0.0959592\ttotal: 570ms\tremaining: 352ms\n",
      "618:\tlearn: 0.0957316\ttotal: 571ms\tremaining: 351ms\n",
      "619:\tlearn: 0.0956772\ttotal: 572ms\tremaining: 350ms\n",
      "620:\tlearn: 0.0955607\ttotal: 572ms\tremaining: 349ms\n"
     ]
    },
    {
     "name": "stdout",
     "output_type": "stream",
     "text": [
      "621:\tlearn: 0.0955429\ttotal: 573ms\tremaining: 348ms\n",
      "622:\tlearn: 0.0953598\ttotal: 574ms\tremaining: 347ms\n",
      "623:\tlearn: 0.0952058\ttotal: 575ms\tremaining: 346ms\n",
      "624:\tlearn: 0.0951820\ttotal: 576ms\tremaining: 346ms\n",
      "625:\tlearn: 0.0951610\ttotal: 577ms\tremaining: 345ms\n",
      "626:\tlearn: 0.0949402\ttotal: 577ms\tremaining: 344ms\n",
      "627:\tlearn: 0.0947795\ttotal: 578ms\tremaining: 343ms\n",
      "628:\tlearn: 0.0946255\ttotal: 579ms\tremaining: 342ms\n",
      "629:\tlearn: 0.0943779\ttotal: 580ms\tremaining: 341ms\n",
      "630:\tlearn: 0.0943565\ttotal: 581ms\tremaining: 340ms\n",
      "631:\tlearn: 0.0941596\ttotal: 582ms\tremaining: 339ms\n",
      "632:\tlearn: 0.0940425\ttotal: 583ms\tremaining: 338ms\n",
      "633:\tlearn: 0.0938708\ttotal: 584ms\tremaining: 337ms\n",
      "634:\tlearn: 0.0936529\ttotal: 585ms\tremaining: 336ms\n",
      "635:\tlearn: 0.0934143\ttotal: 586ms\tremaining: 335ms\n",
      "636:\tlearn: 0.0932095\ttotal: 586ms\tremaining: 334ms\n",
      "637:\tlearn: 0.0930280\ttotal: 587ms\tremaining: 333ms\n",
      "638:\tlearn: 0.0929220\ttotal: 588ms\tremaining: 332ms\n",
      "639:\tlearn: 0.0928124\ttotal: 589ms\tremaining: 331ms\n",
      "640:\tlearn: 0.0927937\ttotal: 590ms\tremaining: 330ms\n",
      "641:\tlearn: 0.0926110\ttotal: 591ms\tremaining: 330ms\n",
      "642:\tlearn: 0.0924200\ttotal: 592ms\tremaining: 329ms\n",
      "643:\tlearn: 0.0924103\ttotal: 593ms\tremaining: 328ms\n",
      "644:\tlearn: 0.0923441\ttotal: 594ms\tremaining: 327ms\n",
      "645:\tlearn: 0.0922289\ttotal: 594ms\tremaining: 326ms\n",
      "646:\tlearn: 0.0920685\ttotal: 595ms\tremaining: 325ms\n",
      "647:\tlearn: 0.0919471\ttotal: 596ms\tremaining: 324ms\n",
      "648:\tlearn: 0.0916984\ttotal: 597ms\tremaining: 323ms\n",
      "649:\tlearn: 0.0916190\ttotal: 598ms\tremaining: 322ms\n",
      "650:\tlearn: 0.0915954\ttotal: 599ms\tremaining: 321ms\n",
      "651:\tlearn: 0.0914421\ttotal: 600ms\tremaining: 320ms\n",
      "652:\tlearn: 0.0912466\ttotal: 601ms\tremaining: 319ms\n",
      "653:\tlearn: 0.0911841\ttotal: 602ms\tremaining: 318ms\n",
      "654:\tlearn: 0.0911222\ttotal: 602ms\tremaining: 317ms\n",
      "655:\tlearn: 0.0909831\ttotal: 603ms\tremaining: 316ms\n",
      "656:\tlearn: 0.0908402\ttotal: 604ms\tremaining: 315ms\n",
      "657:\tlearn: 0.0906575\ttotal: 605ms\tremaining: 314ms\n",
      "658:\tlearn: 0.0904763\ttotal: 605ms\tremaining: 313ms\n",
      "659:\tlearn: 0.0903272\ttotal: 606ms\tremaining: 312ms\n",
      "660:\tlearn: 0.0902533\ttotal: 607ms\tremaining: 311ms\n",
      "661:\tlearn: 0.0900731\ttotal: 608ms\tremaining: 310ms\n",
      "662:\tlearn: 0.0900023\ttotal: 609ms\tremaining: 309ms\n",
      "663:\tlearn: 0.0896995\ttotal: 610ms\tremaining: 308ms\n",
      "664:\tlearn: 0.0896124\ttotal: 610ms\tremaining: 308ms\n",
      "665:\tlearn: 0.0894408\ttotal: 611ms\tremaining: 307ms\n",
      "666:\tlearn: 0.0893256\ttotal: 612ms\tremaining: 306ms\n",
      "667:\tlearn: 0.0891336\ttotal: 613ms\tremaining: 305ms\n",
      "668:\tlearn: 0.0889681\ttotal: 614ms\tremaining: 304ms\n",
      "669:\tlearn: 0.0889591\ttotal: 614ms\tremaining: 303ms\n",
      "670:\tlearn: 0.0888722\ttotal: 615ms\tremaining: 302ms\n",
      "671:\tlearn: 0.0887291\ttotal: 616ms\tremaining: 301ms\n",
      "672:\tlearn: 0.0885917\ttotal: 617ms\tremaining: 300ms\n",
      "673:\tlearn: 0.0884462\ttotal: 618ms\tremaining: 299ms\n",
      "674:\tlearn: 0.0883247\ttotal: 618ms\tremaining: 298ms\n",
      "675:\tlearn: 0.0881512\ttotal: 619ms\tremaining: 297ms\n",
      "676:\tlearn: 0.0880126\ttotal: 620ms\tremaining: 296ms\n",
      "677:\tlearn: 0.0878079\ttotal: 621ms\tremaining: 295ms\n",
      "678:\tlearn: 0.0876648\ttotal: 622ms\tremaining: 294ms\n",
      "679:\tlearn: 0.0875931\ttotal: 622ms\tremaining: 293ms\n",
      "680:\tlearn: 0.0874525\ttotal: 623ms\tremaining: 292ms\n",
      "681:\tlearn: 0.0873016\ttotal: 624ms\tremaining: 291ms\n",
      "682:\tlearn: 0.0871259\ttotal: 625ms\tremaining: 290ms\n",
      "683:\tlearn: 0.0870044\ttotal: 626ms\tremaining: 289ms\n",
      "684:\tlearn: 0.0869862\ttotal: 627ms\tremaining: 288ms\n",
      "685:\tlearn: 0.0869712\ttotal: 627ms\tremaining: 287ms\n",
      "686:\tlearn: 0.0867763\ttotal: 628ms\tremaining: 286ms\n",
      "687:\tlearn: 0.0866367\ttotal: 629ms\tremaining: 285ms\n",
      "688:\tlearn: 0.0864983\ttotal: 630ms\tremaining: 284ms\n",
      "689:\tlearn: 0.0863271\ttotal: 631ms\tremaining: 283ms\n",
      "690:\tlearn: 0.0860836\ttotal: 631ms\tremaining: 282ms\n",
      "691:\tlearn: 0.0859205\ttotal: 632ms\tremaining: 281ms\n",
      "692:\tlearn: 0.0857707\ttotal: 633ms\tremaining: 280ms\n",
      "693:\tlearn: 0.0855149\ttotal: 634ms\tremaining: 279ms\n",
      "694:\tlearn: 0.0853773\ttotal: 635ms\tremaining: 279ms\n",
      "695:\tlearn: 0.0852707\ttotal: 635ms\tremaining: 278ms\n",
      "696:\tlearn: 0.0851477\ttotal: 636ms\tremaining: 277ms\n",
      "697:\tlearn: 0.0850868\ttotal: 638ms\tremaining: 276ms\n",
      "698:\tlearn: 0.0849528\ttotal: 638ms\tremaining: 275ms\n",
      "699:\tlearn: 0.0848802\ttotal: 639ms\tremaining: 274ms\n",
      "700:\tlearn: 0.0848258\ttotal: 640ms\tremaining: 273ms\n",
      "701:\tlearn: 0.0848064\ttotal: 641ms\tremaining: 272ms\n",
      "702:\tlearn: 0.0846607\ttotal: 641ms\tremaining: 271ms\n",
      "703:\tlearn: 0.0845554\ttotal: 642ms\tremaining: 270ms\n",
      "704:\tlearn: 0.0844048\ttotal: 643ms\tremaining: 269ms\n",
      "705:\tlearn: 0.0843079\ttotal: 644ms\tremaining: 268ms\n",
      "706:\tlearn: 0.0841804\ttotal: 645ms\tremaining: 267ms\n",
      "707:\tlearn: 0.0840155\ttotal: 646ms\tremaining: 266ms\n",
      "708:\tlearn: 0.0840037\ttotal: 647ms\tremaining: 265ms\n",
      "709:\tlearn: 0.0839597\ttotal: 648ms\tremaining: 264ms\n",
      "710:\tlearn: 0.0837332\ttotal: 648ms\tremaining: 264ms\n",
      "711:\tlearn: 0.0835145\ttotal: 649ms\tremaining: 263ms\n",
      "712:\tlearn: 0.0833006\ttotal: 650ms\tremaining: 262ms\n",
      "713:\tlearn: 0.0831973\ttotal: 651ms\tremaining: 261ms\n",
      "714:\tlearn: 0.0831342\ttotal: 652ms\tremaining: 260ms\n",
      "715:\tlearn: 0.0830050\ttotal: 653ms\tremaining: 259ms\n",
      "716:\tlearn: 0.0829062\ttotal: 654ms\tremaining: 258ms\n",
      "717:\tlearn: 0.0828184\ttotal: 655ms\tremaining: 257ms\n",
      "718:\tlearn: 0.0828055\ttotal: 656ms\tremaining: 256ms\n",
      "719:\tlearn: 0.0826703\ttotal: 657ms\tremaining: 255ms\n",
      "720:\tlearn: 0.0826553\ttotal: 658ms\tremaining: 254ms\n",
      "721:\tlearn: 0.0824915\ttotal: 658ms\tremaining: 253ms\n",
      "722:\tlearn: 0.0824449\ttotal: 659ms\tremaining: 252ms\n",
      "723:\tlearn: 0.0823104\ttotal: 660ms\tremaining: 252ms\n",
      "724:\tlearn: 0.0822651\ttotal: 661ms\tremaining: 251ms\n",
      "725:\tlearn: 0.0820963\ttotal: 661ms\tremaining: 250ms\n",
      "726:\tlearn: 0.0820836\ttotal: 662ms\tremaining: 249ms\n",
      "727:\tlearn: 0.0819180\ttotal: 663ms\tremaining: 248ms\n",
      "728:\tlearn: 0.0819037\ttotal: 664ms\tremaining: 247ms\n",
      "729:\tlearn: 0.0818911\ttotal: 665ms\tremaining: 246ms\n",
      "730:\tlearn: 0.0818473\ttotal: 666ms\tremaining: 245ms\n"
     ]
    },
    {
     "name": "stdout",
     "output_type": "stream",
     "text": [
      "731:\tlearn: 0.0817939\ttotal: 666ms\tremaining: 244ms\n",
      "732:\tlearn: 0.0817029\ttotal: 667ms\tremaining: 243ms\n",
      "733:\tlearn: 0.0816031\ttotal: 668ms\tremaining: 242ms\n",
      "734:\tlearn: 0.0814843\ttotal: 669ms\tremaining: 241ms\n",
      "735:\tlearn: 0.0814257\ttotal: 670ms\tremaining: 240ms\n",
      "736:\tlearn: 0.0813430\ttotal: 671ms\tremaining: 239ms\n",
      "737:\tlearn: 0.0811792\ttotal: 672ms\tremaining: 238ms\n",
      "738:\tlearn: 0.0811671\ttotal: 672ms\tremaining: 238ms\n",
      "739:\tlearn: 0.0810737\ttotal: 673ms\tremaining: 237ms\n",
      "740:\tlearn: 0.0808715\ttotal: 674ms\tremaining: 236ms\n",
      "741:\tlearn: 0.0807596\ttotal: 675ms\tremaining: 235ms\n",
      "742:\tlearn: 0.0805994\ttotal: 676ms\tremaining: 234ms\n",
      "743:\tlearn: 0.0804161\ttotal: 677ms\tremaining: 233ms\n",
      "744:\tlearn: 0.0803967\ttotal: 677ms\tremaining: 232ms\n",
      "745:\tlearn: 0.0803896\ttotal: 678ms\tremaining: 231ms\n",
      "746:\tlearn: 0.0802396\ttotal: 679ms\tremaining: 230ms\n",
      "747:\tlearn: 0.0800738\ttotal: 680ms\tremaining: 229ms\n",
      "748:\tlearn: 0.0799518\ttotal: 681ms\tremaining: 228ms\n",
      "749:\tlearn: 0.0798838\ttotal: 681ms\tremaining: 227ms\n",
      "750:\tlearn: 0.0797382\ttotal: 682ms\tremaining: 226ms\n",
      "751:\tlearn: 0.0796682\ttotal: 683ms\tremaining: 225ms\n",
      "752:\tlearn: 0.0795502\ttotal: 683ms\tremaining: 224ms\n",
      "753:\tlearn: 0.0794364\ttotal: 684ms\tremaining: 223ms\n",
      "754:\tlearn: 0.0793379\ttotal: 685ms\tremaining: 222ms\n",
      "755:\tlearn: 0.0792444\ttotal: 686ms\tremaining: 221ms\n",
      "756:\tlearn: 0.0791017\ttotal: 687ms\tremaining: 220ms\n",
      "757:\tlearn: 0.0789850\ttotal: 688ms\tremaining: 220ms\n",
      "758:\tlearn: 0.0788830\ttotal: 688ms\tremaining: 219ms\n",
      "759:\tlearn: 0.0788697\ttotal: 689ms\tremaining: 218ms\n",
      "760:\tlearn: 0.0788097\ttotal: 690ms\tremaining: 217ms\n",
      "761:\tlearn: 0.0787494\ttotal: 691ms\tremaining: 216ms\n",
      "762:\tlearn: 0.0786386\ttotal: 692ms\tremaining: 215ms\n",
      "763:\tlearn: 0.0785901\ttotal: 692ms\tremaining: 214ms\n",
      "764:\tlearn: 0.0784194\ttotal: 693ms\tremaining: 213ms\n",
      "765:\tlearn: 0.0783258\ttotal: 694ms\tremaining: 212ms\n",
      "766:\tlearn: 0.0781057\ttotal: 695ms\tremaining: 211ms\n",
      "767:\tlearn: 0.0779499\ttotal: 696ms\tremaining: 210ms\n",
      "768:\tlearn: 0.0777820\ttotal: 696ms\tremaining: 209ms\n",
      "769:\tlearn: 0.0776441\ttotal: 697ms\tremaining: 208ms\n",
      "770:\tlearn: 0.0775084\ttotal: 699ms\tremaining: 207ms\n",
      "771:\tlearn: 0.0773896\ttotal: 699ms\tremaining: 207ms\n",
      "772:\tlearn: 0.0772601\ttotal: 700ms\tremaining: 206ms\n",
      "773:\tlearn: 0.0771204\ttotal: 701ms\tremaining: 205ms\n",
      "774:\tlearn: 0.0769206\ttotal: 702ms\tremaining: 204ms\n",
      "775:\tlearn: 0.0768680\ttotal: 703ms\tremaining: 203ms\n",
      "776:\tlearn: 0.0767608\ttotal: 703ms\tremaining: 202ms\n",
      "777:\tlearn: 0.0766692\ttotal: 704ms\tremaining: 201ms\n",
      "778:\tlearn: 0.0765912\ttotal: 705ms\tremaining: 200ms\n",
      "779:\tlearn: 0.0765237\ttotal: 706ms\tremaining: 199ms\n",
      "780:\tlearn: 0.0764008\ttotal: 707ms\tremaining: 198ms\n",
      "781:\tlearn: 0.0763008\ttotal: 708ms\tremaining: 197ms\n",
      "782:\tlearn: 0.0761611\ttotal: 708ms\tremaining: 196ms\n",
      "783:\tlearn: 0.0760565\ttotal: 709ms\tremaining: 195ms\n",
      "784:\tlearn: 0.0759802\ttotal: 710ms\tremaining: 195ms\n",
      "785:\tlearn: 0.0758546\ttotal: 711ms\tremaining: 194ms\n",
      "786:\tlearn: 0.0757609\ttotal: 712ms\tremaining: 193ms\n",
      "787:\tlearn: 0.0755743\ttotal: 713ms\tremaining: 192ms\n",
      "788:\tlearn: 0.0754207\ttotal: 713ms\tremaining: 191ms\n",
      "789:\tlearn: 0.0753166\ttotal: 714ms\tremaining: 190ms\n",
      "790:\tlearn: 0.0751698\ttotal: 715ms\tremaining: 189ms\n",
      "791:\tlearn: 0.0750275\ttotal: 716ms\tremaining: 188ms\n",
      "792:\tlearn: 0.0748794\ttotal: 716ms\tremaining: 187ms\n",
      "793:\tlearn: 0.0747491\ttotal: 717ms\tremaining: 186ms\n",
      "794:\tlearn: 0.0745670\ttotal: 718ms\tremaining: 185ms\n",
      "795:\tlearn: 0.0744729\ttotal: 719ms\tremaining: 184ms\n",
      "796:\tlearn: 0.0743743\ttotal: 720ms\tremaining: 183ms\n",
      "797:\tlearn: 0.0742988\ttotal: 720ms\tremaining: 182ms\n",
      "798:\tlearn: 0.0741334\ttotal: 721ms\tremaining: 181ms\n",
      "799:\tlearn: 0.0739626\ttotal: 722ms\tremaining: 181ms\n",
      "800:\tlearn: 0.0739230\ttotal: 723ms\tremaining: 180ms\n",
      "801:\tlearn: 0.0737926\ttotal: 724ms\tremaining: 179ms\n",
      "802:\tlearn: 0.0737571\ttotal: 725ms\tremaining: 178ms\n",
      "803:\tlearn: 0.0736871\ttotal: 726ms\tremaining: 177ms\n",
      "804:\tlearn: 0.0736109\ttotal: 726ms\tremaining: 176ms\n",
      "805:\tlearn: 0.0734799\ttotal: 727ms\tremaining: 175ms\n",
      "806:\tlearn: 0.0733584\ttotal: 728ms\tremaining: 174ms\n",
      "807:\tlearn: 0.0733228\ttotal: 729ms\tremaining: 173ms\n",
      "808:\tlearn: 0.0731556\ttotal: 730ms\tremaining: 172ms\n",
      "809:\tlearn: 0.0730760\ttotal: 730ms\tremaining: 171ms\n",
      "810:\tlearn: 0.0729711\ttotal: 731ms\tremaining: 170ms\n",
      "811:\tlearn: 0.0729243\ttotal: 732ms\tremaining: 170ms\n",
      "812:\tlearn: 0.0728431\ttotal: 733ms\tremaining: 169ms\n",
      "813:\tlearn: 0.0726850\ttotal: 734ms\tremaining: 168ms\n",
      "814:\tlearn: 0.0726345\ttotal: 735ms\tremaining: 167ms\n",
      "815:\tlearn: 0.0725174\ttotal: 735ms\tremaining: 166ms\n",
      "816:\tlearn: 0.0723877\ttotal: 736ms\tremaining: 165ms\n",
      "817:\tlearn: 0.0722789\ttotal: 737ms\tremaining: 164ms\n",
      "818:\tlearn: 0.0722051\ttotal: 738ms\tremaining: 163ms\n",
      "819:\tlearn: 0.0721342\ttotal: 739ms\tremaining: 162ms\n",
      "820:\tlearn: 0.0720113\ttotal: 739ms\tremaining: 161ms\n",
      "821:\tlearn: 0.0719633\ttotal: 740ms\tremaining: 160ms\n",
      "822:\tlearn: 0.0718339\ttotal: 742ms\tremaining: 160ms\n",
      "823:\tlearn: 0.0716399\ttotal: 743ms\tremaining: 159ms\n",
      "824:\tlearn: 0.0714905\ttotal: 744ms\tremaining: 158ms\n",
      "825:\tlearn: 0.0713830\ttotal: 745ms\tremaining: 157ms\n",
      "826:\tlearn: 0.0713273\ttotal: 746ms\tremaining: 156ms\n",
      "827:\tlearn: 0.0712648\ttotal: 747ms\tremaining: 155ms\n",
      "828:\tlearn: 0.0712013\ttotal: 747ms\tremaining: 154ms\n",
      "829:\tlearn: 0.0711140\ttotal: 748ms\tremaining: 153ms\n",
      "830:\tlearn: 0.0709568\ttotal: 749ms\tremaining: 152ms\n",
      "831:\tlearn: 0.0708195\ttotal: 750ms\tremaining: 151ms\n",
      "832:\tlearn: 0.0707068\ttotal: 751ms\tremaining: 151ms\n",
      "833:\tlearn: 0.0705852\ttotal: 752ms\tremaining: 150ms\n",
      "834:\tlearn: 0.0704541\ttotal: 753ms\tremaining: 149ms\n",
      "835:\tlearn: 0.0703250\ttotal: 753ms\tremaining: 148ms\n",
      "836:\tlearn: 0.0701468\ttotal: 754ms\tremaining: 147ms\n",
      "837:\tlearn: 0.0700283\ttotal: 755ms\tremaining: 146ms\n",
      "838:\tlearn: 0.0698716\ttotal: 756ms\tremaining: 145ms\n",
      "839:\tlearn: 0.0697934\ttotal: 757ms\tremaining: 144ms\n",
      "840:\tlearn: 0.0696259\ttotal: 757ms\tremaining: 143ms\n",
      "841:\tlearn: 0.0694952\ttotal: 758ms\tremaining: 142ms\n",
      "842:\tlearn: 0.0693597\ttotal: 759ms\tremaining: 141ms\n",
      "843:\tlearn: 0.0693401\ttotal: 760ms\tremaining: 140ms\n",
      "844:\tlearn: 0.0692445\ttotal: 761ms\tremaining: 140ms\n",
      "845:\tlearn: 0.0691868\ttotal: 762ms\tremaining: 139ms\n",
      "846:\tlearn: 0.0691058\ttotal: 762ms\tremaining: 138ms\n",
      "847:\tlearn: 0.0690009\ttotal: 763ms\tremaining: 137ms\n"
     ]
    },
    {
     "name": "stdout",
     "output_type": "stream",
     "text": [
      "848:\tlearn: 0.0688344\ttotal: 764ms\tremaining: 136ms\n",
      "849:\tlearn: 0.0687540\ttotal: 765ms\tremaining: 135ms\n",
      "850:\tlearn: 0.0686396\ttotal: 766ms\tremaining: 134ms\n",
      "851:\tlearn: 0.0684835\ttotal: 767ms\tremaining: 133ms\n",
      "852:\tlearn: 0.0683499\ttotal: 768ms\tremaining: 132ms\n",
      "853:\tlearn: 0.0683427\ttotal: 768ms\tremaining: 131ms\n",
      "854:\tlearn: 0.0681804\ttotal: 769ms\tremaining: 130ms\n",
      "855:\tlearn: 0.0680578\ttotal: 770ms\tremaining: 130ms\n",
      "856:\tlearn: 0.0679698\ttotal: 771ms\tremaining: 129ms\n",
      "857:\tlearn: 0.0678913\ttotal: 772ms\tremaining: 128ms\n",
      "858:\tlearn: 0.0678189\ttotal: 772ms\tremaining: 127ms\n",
      "859:\tlearn: 0.0677111\ttotal: 773ms\tremaining: 126ms\n",
      "860:\tlearn: 0.0675469\ttotal: 774ms\tremaining: 125ms\n",
      "861:\tlearn: 0.0674392\ttotal: 775ms\tremaining: 124ms\n",
      "862:\tlearn: 0.0673165\ttotal: 776ms\tremaining: 123ms\n",
      "863:\tlearn: 0.0672079\ttotal: 776ms\tremaining: 122ms\n",
      "864:\tlearn: 0.0671029\ttotal: 777ms\tremaining: 121ms\n",
      "865:\tlearn: 0.0670311\ttotal: 778ms\tremaining: 120ms\n",
      "866:\tlearn: 0.0669590\ttotal: 779ms\tremaining: 119ms\n",
      "867:\tlearn: 0.0668641\ttotal: 779ms\tremaining: 119ms\n",
      "868:\tlearn: 0.0667413\ttotal: 781ms\tremaining: 118ms\n",
      "869:\tlearn: 0.0666147\ttotal: 782ms\tremaining: 117ms\n",
      "870:\tlearn: 0.0664792\ttotal: 783ms\tremaining: 116ms\n",
      "871:\tlearn: 0.0663888\ttotal: 783ms\tremaining: 115ms\n",
      "872:\tlearn: 0.0663270\ttotal: 784ms\tremaining: 114ms\n",
      "873:\tlearn: 0.0661637\ttotal: 785ms\tremaining: 113ms\n",
      "874:\tlearn: 0.0660124\ttotal: 786ms\tremaining: 112ms\n",
      "875:\tlearn: 0.0659134\ttotal: 787ms\tremaining: 111ms\n",
      "876:\tlearn: 0.0657800\ttotal: 788ms\tremaining: 110ms\n",
      "877:\tlearn: 0.0656647\ttotal: 788ms\tremaining: 110ms\n",
      "878:\tlearn: 0.0655633\ttotal: 789ms\tremaining: 109ms\n",
      "879:\tlearn: 0.0654646\ttotal: 790ms\tremaining: 108ms\n",
      "880:\tlearn: 0.0654054\ttotal: 791ms\tremaining: 107ms\n",
      "881:\tlearn: 0.0653180\ttotal: 792ms\tremaining: 106ms\n",
      "882:\tlearn: 0.0652486\ttotal: 793ms\tremaining: 105ms\n",
      "883:\tlearn: 0.0651274\ttotal: 794ms\tremaining: 104ms\n",
      "884:\tlearn: 0.0650438\ttotal: 794ms\tremaining: 103ms\n",
      "885:\tlearn: 0.0649227\ttotal: 795ms\tremaining: 102ms\n",
      "886:\tlearn: 0.0648135\ttotal: 796ms\tremaining: 101ms\n",
      "887:\tlearn: 0.0647492\ttotal: 797ms\tremaining: 100ms\n",
      "888:\tlearn: 0.0646829\ttotal: 798ms\tremaining: 99.6ms\n",
      "889:\tlearn: 0.0646343\ttotal: 798ms\tremaining: 98.7ms\n",
      "890:\tlearn: 0.0646295\ttotal: 799ms\tremaining: 97.8ms\n",
      "891:\tlearn: 0.0645523\ttotal: 800ms\tremaining: 96.9ms\n",
      "892:\tlearn: 0.0645477\ttotal: 801ms\tremaining: 96ms\n",
      "893:\tlearn: 0.0644215\ttotal: 802ms\tremaining: 95ms\n",
      "894:\tlearn: 0.0642725\ttotal: 803ms\tremaining: 94.1ms\n",
      "895:\tlearn: 0.0641995\ttotal: 803ms\tremaining: 93.2ms\n",
      "896:\tlearn: 0.0641210\ttotal: 804ms\tremaining: 92.3ms\n",
      "897:\tlearn: 0.0640315\ttotal: 805ms\tremaining: 91.4ms\n",
      "898:\tlearn: 0.0639323\ttotal: 807ms\tremaining: 90.6ms\n",
      "899:\tlearn: 0.0638337\ttotal: 807ms\tremaining: 89.7ms\n",
      "900:\tlearn: 0.0637348\ttotal: 808ms\tremaining: 88.8ms\n",
      "901:\tlearn: 0.0636574\ttotal: 809ms\tremaining: 87.9ms\n",
      "902:\tlearn: 0.0635118\ttotal: 810ms\tremaining: 87ms\n",
      "903:\tlearn: 0.0634628\ttotal: 811ms\tremaining: 86.1ms\n",
      "904:\tlearn: 0.0633450\ttotal: 812ms\tremaining: 85.2ms\n",
      "905:\tlearn: 0.0632482\ttotal: 812ms\tremaining: 84.3ms\n",
      "906:\tlearn: 0.0631990\ttotal: 813ms\tremaining: 83.4ms\n",
      "907:\tlearn: 0.0631630\ttotal: 814ms\tremaining: 82.5ms\n",
      "908:\tlearn: 0.0630865\ttotal: 815ms\tremaining: 81.6ms\n",
      "909:\tlearn: 0.0630666\ttotal: 816ms\tremaining: 80.7ms\n",
      "910:\tlearn: 0.0629222\ttotal: 817ms\tremaining: 79.9ms\n",
      "911:\tlearn: 0.0628105\ttotal: 818ms\tremaining: 78.9ms\n",
      "912:\tlearn: 0.0626686\ttotal: 819ms\tremaining: 78.1ms\n",
      "913:\tlearn: 0.0626170\ttotal: 820ms\tremaining: 77.2ms\n",
      "914:\tlearn: 0.0625413\ttotal: 821ms\tremaining: 76.3ms\n",
      "915:\tlearn: 0.0625371\ttotal: 822ms\tremaining: 75.4ms\n",
      "916:\tlearn: 0.0625329\ttotal: 823ms\tremaining: 74.5ms\n",
      "917:\tlearn: 0.0625236\ttotal: 824ms\tremaining: 73.6ms\n",
      "918:\tlearn: 0.0624315\ttotal: 825ms\tremaining: 72.7ms\n",
      "919:\tlearn: 0.0623599\ttotal: 825ms\tremaining: 71.8ms\n",
      "920:\tlearn: 0.0622252\ttotal: 826ms\tremaining: 70.9ms\n",
      "921:\tlearn: 0.0621534\ttotal: 827ms\tremaining: 70ms\n",
      "922:\tlearn: 0.0620737\ttotal: 828ms\tremaining: 69.1ms\n",
      "923:\tlearn: 0.0619537\ttotal: 829ms\tremaining: 68.2ms\n",
      "924:\tlearn: 0.0618215\ttotal: 829ms\tremaining: 67.3ms\n",
      "925:\tlearn: 0.0617473\ttotal: 830ms\tremaining: 66.3ms\n",
      "926:\tlearn: 0.0616606\ttotal: 831ms\tremaining: 65.4ms\n",
      "927:\tlearn: 0.0615671\ttotal: 832ms\tremaining: 64.5ms\n",
      "928:\tlearn: 0.0614616\ttotal: 833ms\tremaining: 63.6ms\n",
      "929:\tlearn: 0.0613525\ttotal: 833ms\tremaining: 62.7ms\n",
      "930:\tlearn: 0.0612597\ttotal: 834ms\tremaining: 61.8ms\n",
      "931:\tlearn: 0.0611517\ttotal: 835ms\tremaining: 60.9ms\n",
      "932:\tlearn: 0.0610347\ttotal: 836ms\tremaining: 60ms\n",
      "933:\tlearn: 0.0609838\ttotal: 836ms\tremaining: 59.1ms\n",
      "934:\tlearn: 0.0609257\ttotal: 837ms\tremaining: 58.2ms\n",
      "935:\tlearn: 0.0608348\ttotal: 838ms\tremaining: 57.3ms\n",
      "936:\tlearn: 0.0608019\ttotal: 839ms\tremaining: 56.4ms\n",
      "937:\tlearn: 0.0607120\ttotal: 840ms\tremaining: 55.5ms\n",
      "938:\tlearn: 0.0606517\ttotal: 841ms\tremaining: 54.6ms\n",
      "939:\tlearn: 0.0605737\ttotal: 842ms\tremaining: 53.7ms\n",
      "940:\tlearn: 0.0604674\ttotal: 842ms\tremaining: 52.8ms\n",
      "941:\tlearn: 0.0604002\ttotal: 843ms\tremaining: 51.9ms\n",
      "942:\tlearn: 0.0603265\ttotal: 844ms\tremaining: 51ms\n",
      "943:\tlearn: 0.0602391\ttotal: 845ms\tremaining: 50.1ms\n",
      "944:\tlearn: 0.0601836\ttotal: 846ms\tremaining: 49.2ms\n",
      "945:\tlearn: 0.0601440\ttotal: 847ms\tremaining: 48.3ms\n",
      "946:\tlearn: 0.0600691\ttotal: 847ms\tremaining: 47.4ms\n",
      "947:\tlearn: 0.0600177\ttotal: 848ms\tremaining: 46.5ms\n",
      "948:\tlearn: 0.0599819\ttotal: 849ms\tremaining: 45.6ms\n",
      "949:\tlearn: 0.0598620\ttotal: 850ms\tremaining: 44.7ms\n",
      "950:\tlearn: 0.0597470\ttotal: 851ms\tremaining: 43.8ms\n",
      "951:\tlearn: 0.0596785\ttotal: 852ms\tremaining: 42.9ms\n",
      "952:\tlearn: 0.0596740\ttotal: 852ms\tremaining: 42ms\n",
      "953:\tlearn: 0.0595869\ttotal: 853ms\tremaining: 41.1ms\n",
      "954:\tlearn: 0.0594954\ttotal: 854ms\tremaining: 40.2ms\n",
      "955:\tlearn: 0.0594386\ttotal: 855ms\tremaining: 39.3ms\n",
      "956:\tlearn: 0.0594294\ttotal: 856ms\tremaining: 38.5ms\n",
      "957:\tlearn: 0.0593882\ttotal: 857ms\tremaining: 37.6ms\n"
     ]
    },
    {
     "name": "stdout",
     "output_type": "stream",
     "text": [
      "958:\tlearn: 0.0592853\ttotal: 858ms\tremaining: 36.7ms\n",
      "959:\tlearn: 0.0592311\ttotal: 858ms\tremaining: 35.8ms\n",
      "960:\tlearn: 0.0590740\ttotal: 860ms\tremaining: 34.9ms\n",
      "961:\tlearn: 0.0589782\ttotal: 861ms\tremaining: 34ms\n",
      "962:\tlearn: 0.0589737\ttotal: 862ms\tremaining: 33.1ms\n",
      "963:\tlearn: 0.0589685\ttotal: 862ms\tremaining: 32.2ms\n",
      "964:\tlearn: 0.0588807\ttotal: 863ms\tremaining: 31.3ms\n",
      "965:\tlearn: 0.0588322\ttotal: 864ms\tremaining: 30.4ms\n",
      "966:\tlearn: 0.0587138\ttotal: 865ms\tremaining: 29.5ms\n",
      "967:\tlearn: 0.0585871\ttotal: 866ms\tremaining: 28.6ms\n",
      "968:\tlearn: 0.0585367\ttotal: 867ms\tremaining: 27.7ms\n",
      "969:\tlearn: 0.0584501\ttotal: 867ms\tremaining: 26.8ms\n",
      "970:\tlearn: 0.0583441\ttotal: 868ms\tremaining: 25.9ms\n",
      "971:\tlearn: 0.0583398\ttotal: 869ms\tremaining: 25ms\n",
      "972:\tlearn: 0.0582487\ttotal: 870ms\tremaining: 24.1ms\n",
      "973:\tlearn: 0.0581511\ttotal: 870ms\tremaining: 23.2ms\n",
      "974:\tlearn: 0.0580894\ttotal: 871ms\tremaining: 22.3ms\n",
      "975:\tlearn: 0.0580099\ttotal: 872ms\tremaining: 21.4ms\n",
      "976:\tlearn: 0.0579632\ttotal: 873ms\tremaining: 20.5ms\n",
      "977:\tlearn: 0.0579090\ttotal: 874ms\tremaining: 19.6ms\n",
      "978:\tlearn: 0.0578124\ttotal: 874ms\tremaining: 18.8ms\n",
      "979:\tlearn: 0.0577492\ttotal: 875ms\tremaining: 17.9ms\n",
      "980:\tlearn: 0.0576902\ttotal: 876ms\tremaining: 17ms\n",
      "981:\tlearn: 0.0576191\ttotal: 877ms\tremaining: 16.1ms\n",
      "982:\tlearn: 0.0575226\ttotal: 877ms\tremaining: 15.2ms\n",
      "983:\tlearn: 0.0574299\ttotal: 878ms\tremaining: 14.3ms\n",
      "984:\tlearn: 0.0572960\ttotal: 879ms\tremaining: 13.4ms\n",
      "985:\tlearn: 0.0572318\ttotal: 880ms\tremaining: 12.5ms\n",
      "986:\tlearn: 0.0571308\ttotal: 881ms\tremaining: 11.6ms\n",
      "987:\tlearn: 0.0570164\ttotal: 882ms\tremaining: 10.7ms\n",
      "988:\tlearn: 0.0569919\ttotal: 883ms\tremaining: 9.81ms\n",
      "989:\tlearn: 0.0569821\ttotal: 883ms\tremaining: 8.92ms\n",
      "990:\tlearn: 0.0569193\ttotal: 884ms\tremaining: 8.03ms\n",
      "991:\tlearn: 0.0568548\ttotal: 885ms\tremaining: 7.14ms\n",
      "992:\tlearn: 0.0567634\ttotal: 886ms\tremaining: 6.24ms\n",
      "993:\tlearn: 0.0566367\ttotal: 887ms\tremaining: 5.35ms\n",
      "994:\tlearn: 0.0565081\ttotal: 887ms\tremaining: 4.46ms\n",
      "995:\tlearn: 0.0563822\ttotal: 888ms\tremaining: 3.57ms\n",
      "996:\tlearn: 0.0562969\ttotal: 889ms\tremaining: 2.67ms\n",
      "997:\tlearn: 0.0562549\ttotal: 890ms\tremaining: 1.78ms\n",
      "998:\tlearn: 0.0561606\ttotal: 891ms\tremaining: 891us\n",
      "999:\tlearn: 0.0560441\ttotal: 891ms\tremaining: 0us\n"
     ]
    },
    {
     "data": {
      "text/plain": [
       "<catboost.core.CatBoostRegressor at 0x7f9c34f40a30>"
      ]
     },
     "execution_count": 9,
     "metadata": {},
     "output_type": "execute_result"
    }
   ],
   "source": [
    "#Train the Model \n",
    "prior_model = ctb.CatBoostRegressor()\n",
    "prior_model.fit(X_train,Y_train)"
   ]
  },
  {
   "cell_type": "code",
   "execution_count": 10,
   "id": "af65dcda",
   "metadata": {
    "execution": {
     "iopub.execute_input": "2022-06-12T07:23:15.850599Z",
     "iopub.status.busy": "2022-06-12T07:23:15.850187Z",
     "iopub.status.idle": "2022-06-12T07:23:15.857531Z",
     "shell.execute_reply": "2022-06-12T07:23:15.857769Z"
    },
    "id": "af65dcda",
    "papermill": {
     "duration": 0.02068,
     "end_time": "2022-06-12T07:23:15.857882",
     "exception": false,
     "start_time": "2022-06-12T07:23:15.837202",
     "status": "completed"
    },
    "tags": []
   },
   "outputs": [
    {
     "data": {
      "application/scrapbook.scrap.json+json": {
       "data": 0.1494271687224547,
       "encoder": "json",
       "name": "Prior Model MSE",
       "version": 1
      }
     },
     "metadata": {
      "scrapbook": {
       "data": true,
       "display": false,
       "name": "Prior Model MSE"
      }
     },
     "output_type": "display_data"
    },
    {
     "data": {
      "application/scrapbook.scrap.json+json": {
       "data": 1.239495277742295,
       "encoder": "json",
       "name": "ABC Pre-generator MSE",
       "version": 1
      }
     },
     "metadata": {
      "scrapbook": {
       "data": true,
       "display": false,
       "name": "ABC Pre-generator MSE"
      }
     },
     "output_type": "display_data"
    },
    {
     "data": {
      "application/scrapbook.scrap.json+json": {
       "data": 0.2716889276499442,
       "encoder": "json",
       "name": "Prior Model MSE",
       "version": 1
      }
     },
     "metadata": {
      "scrapbook": {
       "data": true,
       "display": false,
       "name": "Prior Model MSE"
      }
     },
     "output_type": "display_data"
    },
    {
     "data": {
      "application/scrapbook.scrap.json+json": {
       "data": 1.0594398254816713,
       "encoder": "json",
       "name": "ABC Pre-generator MSE",
       "version": 1
      }
     },
     "metadata": {
      "scrapbook": {
       "data": true,
       "display": false,
       "name": "ABC Pre-generator MSE"
      }
     },
     "output_type": "display_data"
    }
   ],
   "source": [
    "y_pred = prior_model.predict(X_test)\n",
    "y_abc = y_pred + np.random.normal(0,variance, y_pred.shape) + bias \n",
    "mse = mean_squared_error(y_pred,Y_test)\n",
    "sb.glue(\"Prior Model MSE\",mse)\n",
    "mse = mean_squared_error(y_abc,Y_test)\n",
    "sb.glue(\"ABC Pre-generator MSE\",mse)\n",
    "mae = mean_absolute_error(y_pred,Y_test)\n",
    "sb.glue(\"Prior Model MSE\",mae)\n",
    "mae = mean_absolute_error(y_abc,Y_test)\n",
    "sb.glue(\"ABC Pre-generator MSE\",mae)"
   ]
  },
  {
   "cell_type": "markdown",
   "id": "25609da2",
   "metadata": {
    "papermill": {
     "duration": 0.009934,
     "end_time": "2022-06-12T07:23:15.878122",
     "exception": false,
     "start_time": "2022-06-12T07:23:15.868188",
     "status": "completed"
    },
    "tags": []
   },
   "source": [
    "# ABC GAN Model"
   ]
  },
  {
   "cell_type": "code",
   "execution_count": 11,
   "id": "dfc3464d",
   "metadata": {
    "execution": {
     "iopub.execute_input": "2022-06-12T07:23:15.900990Z",
     "iopub.status.busy": "2022-06-12T07:23:15.900616Z",
     "iopub.status.idle": "2022-06-12T07:23:15.903208Z",
     "shell.execute_reply": "2022-06-12T07:23:15.903453Z"
    },
    "papermill": {
     "duration": 0.015361,
     "end_time": "2022-06-12T07:23:15.903560",
     "exception": false,
     "start_time": "2022-06-12T07:23:15.888199",
     "status": "completed"
    },
    "tags": []
   },
   "outputs": [],
   "source": [
    "gen = network.Generator(n_features+1).to(device)\n",
    "disc = network.Discriminator(n_features+1).to(device)\n",
    "\n",
    "criterion = torch.nn.BCELoss()\n",
    "gen_opt = torch.optim.Adam(gen.parameters(), lr=0.001, betas=(0.5, 0.999))\n",
    "disc_opt = torch.optim.Adam(disc.parameters(), lr=0.001, betas=(0.5, 0.999))"
   ]
  },
  {
   "cell_type": "code",
   "execution_count": 12,
   "id": "b75fdd85",
   "metadata": {
    "execution": {
     "iopub.execute_input": "2022-06-12T07:23:15.926275Z",
     "iopub.status.busy": "2022-06-12T07:23:15.925913Z",
     "iopub.status.idle": "2022-06-12T07:24:17.361919Z",
     "shell.execute_reply": "2022-06-12T07:24:17.362224Z"
    },
    "papermill": {
     "duration": 61.448645,
     "end_time": "2022-06-12T07:24:17.362347",
     "exception": false,
     "start_time": "2022-06-12T07:23:15.913702",
     "status": "completed"
    },
    "tags": []
   },
   "outputs": [
    {
     "data": {
      "image/png": "[encoded data removed]",
      "text/plain": [
       "<Figure size 432x288 with 1 Axes>"
      ]
     },
     "metadata": {
      "needs_background": "light"
     },
     "output_type": "display_data"
    },
    {
     "data": {
      "image/png": "[encoded data removed]",
      "text/plain": [
       "<Figure size 432x288 with 1 Axes>"
      ]
     },
     "metadata": {
      "needs_background": "light"
     },
     "output_type": "display_data"
    }
   ],
   "source": [
    "#Training the ABC_GAN \n",
    "ABC_train_test2.training_GAN(disc,gen,disc_opt,gen_opt,train_data,batch_size,n_epochs,criterion,prior_model,variance,bias,device)"
   ]
  },
  {
   "cell_type": "code",
   "execution_count": 13,
   "id": "1fa7c368",
   "metadata": {
    "execution": {
     "iopub.execute_input": "2022-06-12T07:24:17.387352Z",
     "iopub.status.busy": "2022-06-12T07:24:17.386950Z",
     "iopub.status.idle": "2022-06-12T07:24:17.712951Z",
     "shell.execute_reply": "2022-06-12T07:24:17.713267Z"
    },
    "papermill": {
     "duration": 0.339888,
     "end_time": "2022-06-12T07:24:17.713395",
     "exception": false,
     "start_time": "2022-06-12T07:24:17.373507",
     "status": "completed"
    },
    "tags": []
   },
   "outputs": [
    {
     "data": {
      "application/scrapbook.scrap.json+json": {
       "data": 0.15159009974528437,
       "encoder": "json",
       "name": "ABC-GAN Model 1 MSE",
       "version": 1
      }
     },
     "metadata": {
      "scrapbook": {
       "data": true,
       "display": false,
       "name": "ABC-GAN Model 1 MSE"
      }
     },
     "output_type": "display_data"
    },
    {
     "data": {
      "application/scrapbook.scrap.json+json": {
       "data": 0.26458960284661576,
       "encoder": "json",
       "name": "ABC-GAN Model 1 MAE",
       "version": 1
      }
     },
     "metadata": {
      "scrapbook": {
       "data": true,
       "display": false,
       "name": "ABC-GAN Model 1 MAE"
      }
     },
     "output_type": "display_data"
    },
    {
     "data": {
      "application/scrapbook.scrap.json+json": {
       "data": 26.988139490354808,
       "encoder": "json",
       "name": "ABC-GAN Model 1 Manhattan Distance",
       "version": 1
      }
     },
     "metadata": {
      "scrapbook": {
       "data": true,
       "display": false,
       "name": "ABC-GAN Model 1 Manhattan Distance"
      }
     },
     "output_type": "display_data"
    },
    {
     "data": {
      "application/scrapbook.scrap.json+json": {
       "data": 3.931350098812576,
       "encoder": "json",
       "name": "ABC-GAN Model 1 Euclidean distance",
       "version": 1
      }
     },
     "metadata": {
      "scrapbook": {
       "data": true,
       "display": false,
       "name": "ABC-GAN Model 1 Euclidean distance"
      }
     },
     "output_type": "display_data"
    },
    {
     "data": {
      "application/scrapbook.scrap.json+json": {
       "data": [
        [
         0.15361042775133776,
         0.1584366273807924,
         0.15577384962741306,
         0.15437396604651984,
         0.14501527902147,
         0.1467910788001844,
         0.14733402702850548,
         0.15853502837755948,
         0.151337362830688,
         0.14158776412308827,
         0.15224752361519125,
         0.14724637225549791,
         0.1441569278753735,
         0.15398163378998228,
         0.15605654678476366,
         0.16022812437431577,
         0.14931111028536243,
         0.14510454755465146,
         0.14336122174432245,
         0.15839916779084584,
         0.15531292052938028,
         0.1520385377166102,
         0.1446042373066718,
         0.15403329821967837,
         0.15126337300251294,
         0.15538616075526665,
         0.13903708578564844,
         0.15255940746507043,
         0.14456402605122082,
         0.15780874118183846,
         0.1512322824427313,
         0.1568301323145391,
         0.14814916904533462,
         0.146925250150492,
         0.14624843590108058,
         0.1520819801876723,
         0.1539910579321782,
         0.14555848697818732,
         0.16770162448356338,
         0.15272763483749974,
         0.1429542058060928,
         0.1591293009026877,
         0.15999851530810252,
         0.15926852238032715,
         0.14503732405397174,
         0.15432981247765468,
         0.15150030295606282,
         0.14847408489206204,
         0.15762933494913334,
         0.14858841149758825,
         0.1460331224050035,
         0.15518789496681495,
         0.14847707944239494,
         0.14863585262311624,
         0.15870023325603358,
         0.1494665409295452,
         0.15297898636029772,
         0.1523926950464772,
         0.14335223691405738,
         0.1426266143955746,
         0.15527123127282833,
         0.1511743469417084,
         0.14612003359098533,
         0.16318014305003156,
         0.14168035113413183,
         0.1526946532775555,
         0.1573845794022856,
         0.15131924175017422,
         0.16240633543478467,
         0.16262051568645763,
         0.15689350326704174,
         0.15863750772507723,
         0.1565046583102135,
         0.16557684887370022,
         0.15248289717496002,
         0.1657120074776606,
         0.1490246530267337,
         0.1545626260614877,
         0.14442280892898218,
         0.14801897765720629,
         0.1514249722085787,
         0.158913633882903,
         0.15751556597408897,
         0.149248491482211,
         0.15513474920910234,
         0.15757636144249662,
         0.14470576768088586,
         0.14308010368157664,
         0.1471661956552927,
         0.1576783607956608,
         0.15254864646068067,
         0.1433198003565281,
         0.14783018448603902,
         0.14821558137350524,
         0.14571024324113035,
         0.14271642915176908,
         0.13547199912449398,
         0.15393123804768183,
         0.1510189725178878,
         0.14441125680387698
        ],
        [
         0.2676494153417355,
         0.2776377493716484,
         0.2641001182754396,
         0.27276503715627626,
         0.26224637072642937,
         0.25717533493925837,
         0.26109225680028986,
         0.26660924292552995,
         0.26573394791350935,
         0.2583963701446705,
         0.2729630226031968,
         0.2663455749131447,
         0.258769481105036,
         0.26544804700339836,
         0.2693125450454068,
         0.2673008226899101,
         0.2661907720087352,
         0.25906314405923087,
         0.25521183201093595,
         0.27165141282603145,
         0.26839548010634734,
         0.2645697489691277,
         0.2715888218862899,
         0.2647308742024881,
         0.2652873855321577,
         0.27294010863475066,
         0.2572881855234942,
         0.2650269879594299,
         0.26296198547945593,
         0.2684868546841922,
         0.26603471192841727,
         0.2700065604191931,
         0.26351183942318257,
         0.2617197089792028,
         0.25373730864193217,
         0.2728116444092901,
         0.27014032354140105,
         0.25262421724733475,
         0.26862510700034453,
         0.266692344364071,
         0.25158780671692654,
         0.2760976934714206,
         0.271098770465994,
         0.2736472471836297,
         0.2603619940597199,
         0.2630983155458143,
         0.26795830311911073,
         0.26102667627856135,
         0.2664664800863202,
         0.2574884474149668,
         0.2606643194825772,
         0.2712260512178581,
         0.26139676538935186,
         0.26377523439370243,
         0.2652763301123153,
         0.26520247060769037,
         0.26654527998328503,
         0.26506960476912994,
         0.2618896822883364,
         0.2640250956767476,
         0.2657478702729385,
         0.26198027418999403,
         0.2511456760431768,
         0.2746661679143561,
         0.2697538907785772,
         0.265753604152112,
         0.26560135504376947,
         0.260656253498632,
         0.27033913330010634,
         0.26911232537389096,
         0.258948906060016,
         0.27000786522038134,
         0.26766127936870737,
         0.27838783299404324,
         0.26327822522680255,
         0.2788929749079341,
         0.26058208377228353,
         0.26345625803714584,
         0.2592042765360983,
         0.265209953912406,
         0.26591173507382765,
         0.26735836666479124,
         0.26615024903131757,
         0.26770524363782183,
         0.2659524648961629,
         0.26539433525656075,
         0.2599243322003852,
         0.2582562094389954,
         0.2575998739887248,
         0.26743313879249436,
         0.25864514588907944,
         0.2554791874033125,
         0.2580174281188816,
         0.263153989863235,
         0.25591742690177816,
         0.2594430631884903,
         0.25252727664751456,
         0.2717224680636005,
         0.2566797172048074,
         0.25855716074104695
        ],
        [
         27.300240364857018,
         28.31905043590814,
         26.93821206409484,
         27.82203378994018,
         26.749129814095795,
         26.231884163804352,
         26.631410193629563,
         27.194142778404057,
         27.104862687177956,
         26.35642975475639,
         27.842228305526078,
         27.16724864114076,
         26.394487072713673,
         27.07570079434663,
         27.469879594631493,
         27.264683914370835,
         27.151458744890988,
         26.42444069404155,
         26.031606865115464,
         27.708444108255208,
         27.376338970847428,
         26.98611439485103,
         27.702059832401574,
         27.002549168653786,
         27.059313324280083,
         27.839891080744565,
         26.24339492339641,
         27.03275277186185,
         26.822122518904507,
         27.385659177787602,
         27.135540616698563,
         27.540669162757695,
         26.87820762116462,
         26.69541031587869,
         25.88120548147708,
         27.826787729747593,
         27.55431300122291,
         25.767670159228146,
         27.39976091403514,
         27.202619125135243,
         25.661956285126507,
         28.161964734084904,
         27.652074587531388,
         27.91201921273023,
         26.556923394091427,
         26.836028185673058,
         27.331746918149292,
         26.624720980413258,
         27.179580968804657,
         26.26382163632661,
         26.587760587222874,
         27.665057224221528,
         26.66247006971389,
         26.905073908157647,
         27.058185671456158,
         27.050652001984417,
         27.18761855829507,
         27.037099686451256,
         26.712747593410313,
         26.930559759028256,
         27.10628276783973,
         26.72198796737939,
         25.61685895640403,
         28.01594912726432,
         27.514896859414876,
         27.106867623515427,
         27.091338214464486,
         26.58693785686046,
         27.574591596610844,
         27.449457188136876,
         26.412788418121636,
         27.540802252478898,
         27.30145049560815,
         28.39555896539241,
         26.854378973133862,
         28.447083440609276,
         26.579372544772923,
         26.872538319788873,
         26.438836206682026,
         27.05141529906541,
         27.12299697753042,
         27.270553399808705,
         27.147325401194394,
         27.305934851057827,
         27.12715141940862,
         27.070222196169198,
         26.51228188443929,
         26.34213336277753,
         26.27518714684993,
         27.278180156834424,
         26.381804880686104,
         26.058877115137875,
         26.317777668125927,
         26.84170696604997,
         26.103577543981373,
         26.463192445226014,
         25.757782218046486,
         27.71569174248725,
         26.18133115489036,
         26.37283039558679
        ],
        [
         3.9583157568133,
         4.020016914496856,
         3.986092405100028,
         3.968141194154389,
         3.845979518950918,
         3.8694560389825856,
         3.8766055714900323,
         4.021265086326822,
         3.928919827220985,
         3.8002568256046856,
         3.9407166110682836,
         3.875452227813005,
         3.8345803738203337,
         3.9630955888772337,
         3.9897077301534116,
         4.042680878597791,
         3.9025290836977713,
         3.8471630912367685,
         3.823982821342284,
         4.019541654799248,
         3.980190685632635,
         3.9380110267867763,
         3.8405249908418138,
         3.963760388621794,
         3.9279592724793257,
         3.981129035466848,
         3.7658707824533946,
         3.9447508871204002,
         3.839990970982161,
         4.01204331987424,
         3.9275555768389308,
         3.99958416539557,
         3.8873146570124892,
         3.871224033216133,
         3.8622973036665904,
         3.9385735970199383,
         3.963216863746189,
         3.8531760499327175,
         4.135887534414284,
         3.946925227746907,
         3.818550640258875,
         4.0287949429170675,
         4.03978323198491,
         4.030556944492084,
         3.846271838222711,
         3.9675736757772717,
         3.9310343297303323,
         3.8915750871581962,
         4.009762108256748,
         3.8930730757017646,
         3.859453132933519,
         3.9785883535011664,
         3.8916143312415072,
         3.8936945138978034,
         4.023359764191542,
         3.9045597927056526,
         3.950171718894048,
         3.94259494428995,
         3.823862989861673,
         3.8141728681784475,
         3.9796564663081755,
         3.926803202104004,
         3.8606014332329743,
         4.079751780574796,
         3.8014991537131038,
         3.9464990351336273,
         4.006647863118635,
         3.928684596467089,
         4.070067101946604,
         4.072750004606061,
         4.000392147432331,
         4.022564578469546,
         3.9954317848815513,
         4.109603215046121,
         3.9437615941948017,
         4.111280185382818,
         3.8987837345416887,
         3.9705651812143485,
         3.838114968413034,
         3.8856062231053525,
         3.930056890844587,
         4.026063916042082,
         4.00831482413209,
         3.9017106672824315,
         3.9779070400561696,
         4.009088283779076,
         3.8418730202142757,
         3.8202317436931517,
         3.8743969797685756,
         4.0103856175132835,
         3.944611760235653,
         3.8234303493546036,
         3.883127453171732,
         3.8881858623395997,
         3.8551841474299637,
         3.815373608636571,
         3.7172764103168845,
         3.9624470066946693,
         3.9247847325457936,
         3.837961463328605
        ]
       ],
       "encoder": "json",
       "name": "ABC_GAN_1 Metrics",
       "version": 1
      }
     },
     "metadata": {
      "scrapbook": {
       "data": true,
       "display": false,
       "name": "ABC_GAN_1 Metrics"
      }
     },
     "output_type": "display_data"
    },
    {
     "name": "stdout",
     "output_type": "stream",
     "text": [
      "MSE\n",
      "0.15159009974528437\n"
     ]
    }
   ],
   "source": [
    "ABC_GAN1_metrics=ABC_train_test2.test_generator(gen,test_data,prior_model,variance,bias,\"1\",device)\n",
    "sb.glue(\"ABC_GAN_1 Metrics\",ABC_GAN1_metrics)\n",
    "\n",
    "print(\"MSE\")\n",
    "print(mean(ABC_GAN1_metrics[0]))"
   ]
  },
  {
   "cell_type": "code",
   "execution_count": 14,
   "id": "eb22ce5c",
   "metadata": {
    "execution": {
     "iopub.execute_input": "2022-06-12T07:24:17.742922Z",
     "iopub.status.busy": "2022-06-12T07:24:17.742494Z",
     "iopub.status.idle": "2022-06-12T07:24:18.075852Z",
     "shell.execute_reply": "2022-06-12T07:24:18.076160Z"
    },
    "papermill": {
     "duration": 0.349246,
     "end_time": "2022-06-12T07:24:18.076286",
     "exception": false,
     "start_time": "2022-06-12T07:24:17.727040",
     "status": "completed"
    },
    "tags": []
   },
   "outputs": [
    {
     "data": {
      "image/png": "[encoded data removed]",
      "text/plain": [
       "<Figure size 432x288 with 1 Axes>"
      ]
     },
     "metadata": {
      "needs_background": "light"
     },
     "output_type": "display_data"
    },
    {
     "data": {
      "image/png": "[encoded data removed]",
      "text/plain": [
       "<Figure size 432x288 with 1 Axes>"
      ]
     },
     "metadata": {
      "needs_background": "light"
     },
     "output_type": "display_data"
    },
    {
     "data": {
      "image/png": "[encoded data removed]",
      "text/plain": [
       "<Figure size 432x288 with 1 Axes>"
      ]
     },
     "metadata": {
      "needs_background": "light"
     },
     "output_type": "display_data"
    },
    {
     "data": {
      "image/png": "[encoded data removed]",
      "text/plain": [
       "<Figure size 432x288 with 1 Axes>"
      ]
     },
     "metadata": {
      "needs_background": "light"
     },
     "output_type": "display_data"
    }
   ],
   "source": [
    "sanityChecks.discProbVsError(train_data,disc,device)\n",
    "sanityChecks.discProbVsError(test_data,disc,device)"
   ]
  },
  {
   "cell_type": "markdown",
   "id": "130f3a4d",
   "metadata": {
    "id": "130f3a4d",
    "papermill": {
     "duration": 0.014892,
     "end_time": "2022-06-12T07:24:18.106538",
     "exception": false,
     "start_time": "2022-06-12T07:24:18.091646",
     "status": "completed"
    },
    "tags": []
   },
   "source": [
    "# ABC - GAN Model with skip connection"
   ]
  },
  {
   "cell_type": "code",
   "execution_count": 15,
   "id": "4e43dad1",
   "metadata": {
    "execution": {
     "iopub.execute_input": "2022-06-12T07:24:18.140434Z",
     "iopub.status.busy": "2022-06-12T07:24:18.140044Z",
     "iopub.status.idle": "2022-06-12T07:24:18.142343Z",
     "shell.execute_reply": "2022-06-12T07:24:18.142593Z"
    },
    "id": "4e43dad1",
    "papermill": {
     "duration": 0.020954,
     "end_time": "2022-06-12T07:24:18.142726",
     "exception": false,
     "start_time": "2022-06-12T07:24:18.121772",
     "status": "completed"
    },
    "tags": []
   },
   "outputs": [],
   "source": [
    "#Generator\n",
    "gen3 = network.GeneratorWithSkipConnection(n_features+1).to(device)\n",
    "constraints=network.weightConstraint()\n",
    "#Discriminator \n",
    "disc3 = network.Discriminator(n_features+1).to(device)\n",
    "\n",
    "criterion = torch.nn.BCELoss()\n",
    "gen_opt = torch.optim.Adam(gen3.parameters(), lr=0.001, betas=(0.5, 0.999))\n",
    "disc_opt = torch.optim.Adam(disc3.parameters(), lr=0.001, betas=(0.5, 0.999))\n"
   ]
  },
  {
   "cell_type": "code",
   "execution_count": 16,
   "id": "26acbc37",
   "metadata": {
    "execution": {
     "iopub.execute_input": "2022-06-12T07:24:18.175389Z",
     "iopub.status.busy": "2022-06-12T07:24:18.175014Z",
     "iopub.status.idle": "2022-06-12T07:28:32.666303Z",
     "shell.execute_reply": "2022-06-12T07:28:32.666623Z"
    },
    "id": "26acbc37",
    "papermill": {
     "duration": 254.508851,
     "end_time": "2022-06-12T07:28:32.666747",
     "exception": false,
     "start_time": "2022-06-12T07:24:18.157896",
     "status": "completed"
    },
    "tags": []
   },
   "outputs": [
    {
     "data": {
      "image/png": "[encoded data removed]",
      "text/plain": [
       "<Figure size 432x288 with 1 Axes>"
      ]
     },
     "metadata": {
      "needs_background": "light"
     },
     "output_type": "display_data"
    },
    {
     "data": {
      "image/png": "[encoded data removed]",
      "text/plain": [
       "<Figure size 432x288 with 1 Axes>"
      ]
     },
     "metadata": {
      "needs_background": "light"
     },
     "output_type": "display_data"
    }
   ],
   "source": [
    "ABC_train_test2.training_GAN_skip_connection(disc3,gen3,disc_opt,gen_opt,train_data,batch_size,n_epochs,criterion,prior_model,variance,bias,device)"
   ]
  },
  {
   "cell_type": "code",
   "execution_count": 17,
   "id": "c5e0717b",
   "metadata": {
    "execution": {
     "iopub.execute_input": "2022-06-12T07:28:32.701479Z",
     "iopub.status.busy": "2022-06-12T07:28:32.701093Z",
     "iopub.status.idle": "2022-06-12T07:28:33.527860Z",
     "shell.execute_reply": "2022-06-12T07:28:33.528120Z"
    },
    "id": "c5e0717b",
    "papermill": {
     "duration": 0.845569,
     "end_time": "2022-06-12T07:28:33.528241",
     "exception": false,
     "start_time": "2022-06-12T07:28:32.682672",
     "status": "completed"
    },
    "tags": []
   },
   "outputs": [
    {
     "data": {
      "application/scrapbook.scrap.json+json": {
       "data": 0.11987851872189242,
       "encoder": "json",
       "name": "ABC-GAN Model 3 MSE",
       "version": 1
      }
     },
     "metadata": {
      "scrapbook": {
       "data": true,
       "display": false,
       "name": "ABC-GAN Model 3 MSE"
      }
     },
     "output_type": "display_data"
    },
    {
     "data": {
      "application/scrapbook.scrap.json+json": {
       "data": 0.2397440807309513,
       "encoder": "json",
       "name": "ABC-GAN Model 3 MAE",
       "version": 1
      }
     },
     "metadata": {
      "scrapbook": {
       "data": true,
       "display": false,
       "name": "ABC-GAN Model 3 MAE"
      }
     },
     "output_type": "display_data"
    },
    {
     "data": {
      "application/scrapbook.scrap.json+json": {
       "data": 24.453896234557032,
       "encoder": "json",
       "name": "ABC-GAN Model 3 Manhattan Distance",
       "version": 1
      }
     },
     "metadata": {
      "scrapbook": {
       "data": true,
       "display": false,
       "name": "ABC-GAN Model 3 Manhattan Distance"
      }
     },
     "output_type": "display_data"
    },
    {
     "data": {
      "application/scrapbook.scrap.json+json": {
       "data": 3.49561685448336,
       "encoder": "json",
       "name": "ABC-GAN Model 3 Euclidean distance",
       "version": 1
      }
     },
     "metadata": {
      "scrapbook": {
       "data": true,
       "display": false,
       "name": "ABC-GAN Model 3 Euclidean distance"
      }
     },
     "output_type": "display_data"
    },
    {
     "data": {
      "application/scrapbook.scrap.json+json": {
       "data": [
        [
         0.1225492384011736,
         0.10414910583869469,
         0.127621366719097,
         0.1254797690386939,
         0.12380768892717767,
         0.12198664650927789,
         0.12232065781291943,
         0.12256704422697891,
         0.12088389441705066,
         0.11717058200036631,
         0.12202618389588017,
         0.12146406646423795,
         0.12454286527983709,
         0.11438797381040174,
         0.11048524738804147,
         0.12549203805628634,
         0.11555656862760355,
         0.12399788387846764,
         0.12615203311436818,
         0.11081504882899881,
         0.12197934860885573,
         0.11988018455154822,
         0.11788616040034806,
         0.11876648296531252,
         0.12732432485710587,
         0.12155886150422611,
         0.11744495236941659,
         0.11947315855011577,
         0.12168554598816742,
         0.11916503914206936,
         0.11561449040445393,
         0.11387700851581359,
         0.10649013847202289,
         0.11591670982454413,
         0.11607438324339132,
         0.1209739345890024,
         0.11582351384047401,
         0.11806166569186968,
         0.13153454333555217,
         0.11901408185911037,
         0.11569772911282047,
         0.11484795243577464,
         0.125732223476243,
         0.1113588270810002,
         0.11165701871126091,
         0.12965181198869527,
         0.1183022927720484,
         0.12856735987913986,
         0.11326030493069356,
         0.12185004942013153,
         0.13188687114757733,
         0.13217803296607664,
         0.11551469030656095,
         0.124250637746858,
         0.11697002612544279,
         0.11599819467463393,
         0.11739052899023143,
         0.12022926472921136,
         0.12262395824119743,
         0.12554685597590667,
         0.12686954862245844,
         0.11822188412566445,
         0.11727430334635042,
         0.10897768912102217,
         0.12384226306657581,
         0.13351845383820737,
         0.1142688377473137,
         0.12199617849724256,
         0.12162807010681621,
         0.1082022887623271,
         0.121598536243479,
         0.11173059395792348,
         0.1133935416676844,
         0.11152940172491764,
         0.126735472204118,
         0.11040288349177323,
         0.11642156718965631,
         0.13264708301817693,
         0.11766242349134827,
         0.11491708534777045,
         0.1187067840074652,
         0.11376637557884176,
         0.12176991428940087,
         0.12825871316652432,
         0.1199319912982575,
         0.11122170243826322,
         0.11298694461895911,
         0.12182006553132191,
         0.11287245129089807,
         0.12792513352418203,
         0.11652628200609029,
         0.12421640444833666,
         0.12338655771168174,
         0.12439438201722225,
         0.12100421800432248,
         0.12375423688967736,
         0.12809083570016278,
         0.11285278230539302,
         0.12366778913297202,
         0.1333451399979866
        ],
        [
         0.23804825623793638,
         0.22831089633023915,
         0.2463201545635421,
         0.24426901600707104,
         0.2446687303063478,
         0.24877529442492946,
         0.24223125606373536,
         0.23821619705424882,
         0.2405447817918863,
         0.2402100139297545,
         0.24471970045866043,
         0.24260700544269354,
         0.24034119571796528,
         0.23719369078639382,
         0.23692548179122455,
         0.24788839383708203,
         0.23214369330226498,
         0.24848021098467357,
         0.2379414362047671,
         0.23714628493340284,
         0.25235442889342996,
         0.23552082352084563,
         0.23844405861717521,
         0.2423307110884172,
         0.2442633793324086,
         0.23923911839979245,
         0.2322529008630298,
         0.24392350586861664,
         0.24084866498870885,
         0.23906085213792383,
         0.23873168771502143,
         0.23622707493931933,
         0.22649190793106078,
         0.24294079180039904,
         0.2353317901108633,
         0.23805169290954284,
         0.24202579257133253,
         0.24360023306536616,
         0.24759384402640017,
         0.23387823075823047,
         0.23205429553876028,
         0.2296350409788098,
         0.24397453310552472,
         0.23485924302618585,
         0.23781626946384124,
         0.25155374932778524,
         0.2442841883840076,
         0.2521968214845687,
         0.2307527800017566,
         0.2364640343733424,
         0.25268310933903443,
         0.2470927937412817,
         0.23444993500871694,
         0.2440774082388802,
         0.23803842066805445,
         0.23181906078631678,
         0.2414317274301806,
         0.24294897673797666,
         0.23829269656619312,
         0.25028012054698434,
         0.24436414211659746,
         0.23611486305975737,
         0.24315573931580373,
         0.2316702921217417,
         0.23768242520700192,
         0.24554594177935346,
         0.22945284497394575,
         0.2396080655812779,
         0.23888929274992324,
         0.22888162701993303,
         0.2424348765783304,
         0.22286009703598478,
         0.23356800744602202,
         0.23572170861321046,
         0.25304698298557426,
         0.23334898300213264,
         0.23368147482145943,
         0.24625788020043105,
         0.23760528231550956,
         0.24345729586796142,
         0.24189851678652213,
         0.23247920209541917,
         0.2427873557123045,
         0.24520487834096832,
         0.2395138569340548,
         0.23886244334097878,
         0.23376423862817533,
         0.2402698762587034,
         0.23703692414268268,
         0.24191418776799942,
         0.23428725216574237,
         0.23043248428981386,
         0.2491023250965073,
         0.23555998269505068,
         0.23596762691387066,
         0.23627668415543204,
         0.24583912207105874,
         0.23424834375470585,
         0.24767604250205205,
         0.2491405221962315
        ],
        [
         24.28092213626951,
         23.287711425684392,
         25.124655765481293,
         24.915439632721245,
         24.956210491247475,
         25.375080031342804,
         24.707588118501008,
         24.29805209953338,
         24.5355677427724,
         24.50142142083496,
         24.961409446783364,
         24.74591455515474,
         24.514801963232458,
         24.19375646021217,
         24.166399142704904,
         25.284616171382368,
         23.67865671683103,
         25.344981520436704,
         24.270026492886245,
         24.18892106320709,
         25.740151747129858,
         24.023123999126256,
         24.32129397895187,
         24.717732531018555,
         24.914864691905677,
         24.40239007677883,
         23.68979588802904,
         24.880197598598897,
         24.566563828848302,
         24.38420691806823,
         24.350632146932185,
         24.09516164381057,
         23.1021746089682,
         24.7799607636407,
         24.003842591308057,
         24.28127267677337,
         24.686630842275918,
         24.84722377266735,
         25.254572090692818,
         23.85557953733951,
         23.66953814495355,
         23.422774179838598,
         24.885402376763523,
         23.955642788670957,
         24.257259485311806,
         25.658482431434095,
         24.916987215168774,
         25.724075791426003,
         23.536783560179174,
         24.119331506080925,
         25.773677152581513,
         25.203464961610734,
         23.913893370889127,
         24.89589564036578,
         24.279918908141553,
         23.645544200204313,
         24.62603619787842,
         24.78079562727362,
         24.3058550497517,
         25.5285722957924,
         24.925142495892942,
         24.083716032095253,
         24.80188541021198,
         23.630369796417654,
         24.243607371114194,
         25.045686061494052,
         23.404190187342465,
         24.440022689290345,
         24.36670786049217,
         23.34592595603317,
         24.7283574109897,
         22.731729897670448,
         23.823936759494245,
         24.043614278547466,
         25.810792264528573,
         23.80159626621753,
         23.83551043178886,
         25.118303780443966,
         24.235738796181977,
         24.832644178532064,
         24.67364871222526,
         23.712878613732755,
         24.76431028265506,
         25.010897590778768,
         24.43041340727359,
         24.363969220779836,
         23.843952340073884,
         24.50752737838775,
         24.177766262553632,
         24.675247152335942,
         23.89729972090572,
         23.504113397561014,
         25.408437159843743,
         24.02711823489517,
         24.068697945214808,
         24.100221783854067,
         25.07559045124799,
         23.893331062979996,
         25.26295633520931,
         25.412333264015615
        ],
        [
         3.5355370620203814,
         3.259326432799707,
         3.6079605603925176,
         3.5775601241553967,
         3.5536438018704297,
         3.5274123580815355,
         3.5322382559671395,
         3.53579390111356,
         3.5114323616637075,
         3.457079600477455,
         3.5279839508393143,
         3.519848686996683,
         3.5641790441198915,
         3.4157829744673434,
         3.357006886138339,
         3.5777350211748793,
         3.433186566444585,
         3.5563723308455346,
         3.587130800189137,
         3.3620135306922667,
         3.527306842068505,
         3.4968241054216493,
         3.46761998506692,
         3.4805432424352785,
         3.6037593059782433,
         3.521221929022802,
         3.4611248376330623,
         3.4908827210480453,
         3.52305629969109,
         3.486378349016508,
         3.43404688687477,
         3.4081453708157734,
         3.2957539538239695,
         3.4385323034840756,
         3.4408701066483043,
         3.5127398605758215,
         3.4371497511351388,
         3.4702002680783006,
         3.6628572754376223,
         3.484169391638308,
         3.4352828660108456,
         3.4226438827971872,
         3.5811571865218066,
         3.3702522698252158,
         3.374761607661882,
         3.636548476625454,
         3.473734857865368,
         3.621307872533384,
         3.3989043974390833,
         3.5254368581572146,
         3.6677596509385513,
         3.6718060082934416,
         3.432564407446598,
         3.559995091313964,
         3.454119665673899,
         3.439740667087078,
         3.460322811097775,
         3.5019116211548744,
         3.536614728890064,
         3.5785163559137856,
         3.5973176061463854,
         3.4725541292855002,
         3.45860939415363,
         3.3340252384084104,
         3.5541399568377625,
         3.6903769850107655,
         3.4140037273304196,
         3.5275501706876895,
         3.5222241766950684,
         3.3221429008634424,
         3.5217965155350552,
         3.3758733068212425,
         3.400903005100823,
         3.3728324856033978,
         3.5954162714239413,
         3.355755371918649,
         3.4460121667436034,
         3.678315167009761,
         3.4643278130277344,
         3.4236738608507364,
         3.4796683705148475,
         3.406489440617989,
         3.524277409273976,
         3.6169584934009786,
         3.4975796077319328,
         3.3681766059253553,
         3.3948001931091363,
         3.525003075770975,
         3.3930797266895456,
         3.612251876526133,
         3.44756156792322,
         3.5595046360034908,
         3.5475948030449493,
         3.5620537567191017,
         3.5131795052972876,
         3.552876603929144,
         3.614590604953291,
         3.392784077295531,
         3.551635467156384,
         3.6879810574072405
        ]
       ],
       "encoder": "json",
       "name": "ABC_GAN_3 Metrics",
       "version": 1
      }
     },
     "metadata": {
      "scrapbook": {
       "data": true,
       "display": false,
       "name": "ABC_GAN_3 Metrics"
      }
     },
     "output_type": "display_data"
    },
    {
     "name": "stdout",
     "output_type": "stream",
     "text": [
      "MSE\n",
      "0.11987851872189242\n"
     ]
    }
   ],
   "source": [
    "ABC_GAN3_metrics=ABC_train_test2.test_generator(gen3,test_data,prior_model,variance,bias,\"3\",device)\n",
    "sb.glue(\"ABC_GAN_3 Metrics\",ABC_GAN3_metrics)\n",
    "\n",
    "print(\"MSE\")\n",
    "print(mean(ABC_GAN3_metrics[0]))"
   ]
  },
  {
   "cell_type": "code",
   "execution_count": 18,
   "id": "c8e46b48",
   "metadata": {
    "execution": {
     "iopub.execute_input": "2022-06-12T07:28:33.565591Z",
     "iopub.status.busy": "2022-06-12T07:28:33.565220Z",
     "iopub.status.idle": "2022-06-12T07:28:33.893153Z",
     "shell.execute_reply": "2022-06-12T07:28:33.893465Z"
    },
    "id": "c8e46b48",
    "papermill": {
     "duration": 0.347727,
     "end_time": "2022-06-12T07:28:33.893588",
     "exception": false,
     "start_time": "2022-06-12T07:28:33.545861",
     "status": "completed"
    },
    "tags": []
   },
   "outputs": [
    {
     "data": {
      "image/png": "[encoded data removed]",
      "text/plain": [
       "<Figure size 432x288 with 1 Axes>"
      ]
     },
     "metadata": {
      "needs_background": "light"
     },
     "output_type": "display_data"
    },
    {
     "data": {
      "image/png": "[encoded data removed]",
      "text/plain": [
       "<Figure size 432x288 with 1 Axes>"
      ]
     },
     "metadata": {
      "needs_background": "light"
     },
     "output_type": "display_data"
    },
    {
     "data": {
      "image/png": "[encoded data removed]",
      "text/plain": [
       "<Figure size 432x288 with 1 Axes>"
      ]
     },
     "metadata": {
      "needs_background": "light"
     },
     "output_type": "display_data"
    },
    {
     "data": {
      "image/png": "[encoded data removed]",
      "text/plain": [
       "<Figure size 432x288 with 1 Axes>"
      ]
     },
     "metadata": {
      "needs_background": "light"
     },
     "output_type": "display_data"
    }
   ],
   "source": [
    "sanityChecks.discProbVsError(train_data,disc3,device)\n",
    "sanityChecks.discProbVsError(test_data,disc3,device)"
   ]
  },
  {
   "cell_type": "markdown",
   "id": "a5bd74c3",
   "metadata": {
    "id": "a5bd74c3",
    "papermill": {
     "duration": 0.019549,
     "end_time": "2022-06-12T07:28:33.933089",
     "exception": false,
     "start_time": "2022-06-12T07:28:33.913540",
     "status": "completed"
    },
    "tags": []
   },
   "source": [
    "## Skip Connection Model Analysis - ABC-GAN "
   ]
  },
  {
   "cell_type": "markdown",
   "id": "5744a8bf",
   "metadata": {
    "id": "5744a8bf",
    "papermill": {
     "duration": 0.019274,
     "end_time": "2022-06-12T07:28:33.971711",
     "exception": false,
     "start_time": "2022-06-12T07:28:33.952437",
     "status": "completed"
    },
    "tags": []
   },
   "source": [
    "### Weight Analysis \n",
    "\n",
    "Study the weights of the skip connection layer\n",
    "\n",
    "Equation of the skip connection is \n",
    "\n",
    "$output = y_{gan} * w + y_{abc} * (1-w)$"
   ]
  },
  {
   "cell_type": "code",
   "execution_count": 19,
   "id": "52c31dea",
   "metadata": {
    "execution": {
     "iopub.execute_input": "2022-06-12T07:28:34.013444Z",
     "iopub.status.busy": "2022-06-12T07:28:34.013051Z",
     "iopub.status.idle": "2022-06-12T07:28:34.016450Z",
     "shell.execute_reply": "2022-06-12T07:28:34.016694Z"
    },
    "id": "52c31dea",
    "papermill": {
     "duration": 0.025781,
     "end_time": "2022-06-12T07:28:34.016809",
     "exception": false,
     "start_time": "2022-06-12T07:28:33.991028",
     "status": "completed"
    },
    "tags": []
   },
   "outputs": [
    {
     "name": "stdout",
     "output_type": "stream",
     "text": [
      "Weight of the node at skip connection\n",
      "Parameter containing:\n",
      "tensor([[0.6266]], requires_grad=True)\n"
     ]
    },
    {
     "data": {
      "application/scrapbook.scrap.json+json": {
       "data": 0.6266303658485413,
       "encoder": "json",
       "name": "Skip Connection Weight",
       "version": 1
      }
     },
     "metadata": {
      "scrapbook": {
       "data": true,
       "display": false,
       "name": "Skip Connection Weight"
      }
     },
     "output_type": "display_data"
    }
   ],
   "source": [
    "print(\"Weight of the node at skip connection\")\n",
    "for name,param in gen3.named_parameters():\n",
    "    if(name == \"skipNode.weight\"):\n",
    "        print(param)\n",
    "        sb.glue(\"Skip Connection Weight\",param.item())"
   ]
  }
 ],
 "metadata": {
  "colab": {
   "collapsed_sections": [],
   "name": "ABC_GAN_Model-Catboost_Pre-gen.ipynb",
   "provenance": []
  },
  "interpreter": {
   "hash": "31f2aee4e71d21fbe5cf8b01ff0e069b9275f58929596ceb00d14d90e3e16cd6"
  },
  "kernelspec": {
   "display_name": "Python 3 (ipykernel)",
   "language": "python",
   "name": "python3"
  },
  "language_info": {
   "codemirror_mode": {
    "name": "ipython",
    "version": 3
   },
   "file_extension": ".py",
   "mimetype": "text/x-python",
   "name": "python",
   "nbconvert_exporter": "python",
   "pygments_lexer": "ipython3",
   "version": "3.8.11"
  },
  "papermill": {
   "default_parameters": {},
   "duration": 322.178735,
   "end_time": "2022-06-12T07:28:34.344456",
   "environment_variables": {},
   "exception": null,
   "input_path": "ABC_GAN-Catboost.ipynb",
   "output_path": "./ABC_GAN_Catboost/ABC-GAN_output_9_1.ipynb",
   "parameters": {
    "bias": 1,
    "variance": 0.1
   },
   "start_time": "2022-06-12T07:23:12.165721",
   "version": "2.3.3"
  }
 },
 "nbformat": 4,
 "nbformat_minor": 5
}