{
 "cells": [
  {
   "cell_type": "markdown",
   "id": "622780e6",
   "metadata": {
    "id": "622780e6",
    "papermill": {
     "duration": 0.027886,
     "end_time": "2022-06-12T05:52:23.095064",
     "exception": false,
     "start_time": "2022-06-12T05:52:23.067178",
     "status": "completed"
    },
    "tags": []
   },
   "source": [
    "## Import Libraries "
   ]
  },
  {
   "cell_type": "code",
   "execution_count": 1,
   "id": "a62397e3",
   "metadata": {
    "execution": {
     "iopub.execute_input": "2022-06-12T05:52:23.134489Z",
     "iopub.status.busy": "2022-06-12T05:52:23.133825Z",
     "iopub.status.idle": "2022-06-12T05:52:23.136342Z",
     "shell.execute_reply": "2022-06-12T05:52:23.136890Z"
    },
    "id": "a62397e3",
    "papermill": {
     "duration": 0.026154,
     "end_time": "2022-06-12T05:52:23.137151",
     "exception": false,
     "start_time": "2022-06-12T05:52:23.110997",
     "status": "completed"
    },
    "tags": []
   },
   "outputs": [],
   "source": [
    "import warnings\n",
    "import sys\n",
    "sys.path.insert(0, '../../src')\n",
    "warnings.filterwarnings('ignore')"
   ]
  },
  {
   "cell_type": "code",
   "execution_count": 2,
   "id": "d6a4e155",
   "metadata": {
    "execution": {
     "iopub.execute_input": "2022-06-12T05:52:23.159807Z",
     "iopub.status.busy": "2022-06-12T05:52:23.159367Z",
     "iopub.status.idle": "2022-06-12T05:52:25.370986Z",
     "shell.execute_reply": "2022-06-12T05:52:25.371272Z"
    },
    "id": "d6a4e155",
    "papermill": {
     "duration": 2.223582,
     "end_time": "2022-06-12T05:52:25.371467",
     "exception": false,
     "start_time": "2022-06-12T05:52:23.147885",
     "status": "completed"
    },
    "tags": []
   },
   "outputs": [],
   "source": [
    "import ABC_train_test2\n",
    "import bostonDataset\n",
    "import network\n",
    "import dataset\n",
    "import sanityChecks\n",
    "import torch \n",
    "import scrapbook as sb\n",
    "from statistics import mean \n",
    "import catboost as ctb \n",
    "from sklearn.model_selection import train_test_split\n",
    "from sklearn.metrics import mean_squared_error,mean_absolute_error\n",
    "import numpy as np"
   ]
  },
  {
   "cell_type": "markdown",
   "id": "2fa5b0f7",
   "metadata": {
    "id": "2fa5b0f7",
    "papermill": {
     "duration": 0.006998,
     "end_time": "2022-06-12T05:52:25.386463",
     "exception": false,
     "start_time": "2022-06-12T05:52:25.379465",
     "status": "completed"
    },
    "tags": []
   },
   "source": [
    "## Parameters "
   ]
  },
  {
   "cell_type": "code",
   "execution_count": 3,
   "id": "783186fb",
   "metadata": {
    "execution": {
     "iopub.execute_input": "2022-06-12T05:52:25.403086Z",
     "iopub.status.busy": "2022-06-12T05:52:25.402715Z",
     "iopub.status.idle": "2022-06-12T05:52:25.403895Z",
     "shell.execute_reply": "2022-06-12T05:52:25.404191Z"
    },
    "id": "783186fb",
    "papermill": {
     "duration": 0.010693,
     "end_time": "2022-06-12T05:52:25.404301",
     "exception": false,
     "start_time": "2022-06-12T05:52:25.393608",
     "status": "completed"
    },
    "tags": [
     "parameters"
    ]
   },
   "outputs": [],
   "source": [
    "variance = 1\n",
    "bias = 1 "
   ]
  },
  {
   "cell_type": "code",
   "execution_count": 4,
   "id": "6e7d6ff0",
   "metadata": {
    "execution": {
     "iopub.execute_input": "2022-06-12T05:52:25.420728Z",
     "iopub.status.busy": "2022-06-12T05:52:25.420304Z",
     "iopub.status.idle": "2022-06-12T05:52:25.421596Z",
     "shell.execute_reply": "2022-06-12T05:52:25.421831Z"
    },
    "papermill": {
     "duration": 0.010755,
     "end_time": "2022-06-12T05:52:25.421941",
     "exception": false,
     "start_time": "2022-06-12T05:52:25.411186",
     "status": "completed"
    },
    "tags": [
     "injected-parameters"
    ]
   },
   "outputs": [],
   "source": [
    "# Parameters\n",
    "variance = 1\n",
    "bias = 0.01\n"
   ]
  },
  {
   "cell_type": "markdown",
   "id": "391cdbfd",
   "metadata": {
    "id": "391cdbfd",
    "papermill": {
     "duration": 0.007633,
     "end_time": "2022-06-12T05:52:25.436767",
     "exception": false,
     "start_time": "2022-06-12T05:52:25.429134",
     "status": "completed"
    },
    "tags": []
   },
   "source": [
    "## Dataset \n"
   ]
  },
  {
   "cell_type": "code",
   "execution_count": 5,
   "id": "5b51f161",
   "metadata": {
    "execution": {
     "iopub.execute_input": "2022-06-12T05:52:25.453148Z",
     "iopub.status.busy": "2022-06-12T05:52:25.452713Z",
     "iopub.status.idle": "2022-06-12T05:52:25.454069Z",
     "shell.execute_reply": "2022-06-12T05:52:25.454308Z"
    },
    "id": "5b51f161",
    "papermill": {
     "duration": 0.010477,
     "end_time": "2022-06-12T05:52:25.454425",
     "exception": false,
     "start_time": "2022-06-12T05:52:25.443948",
     "status": "completed"
    },
    "tags": []
   },
   "outputs": [],
   "source": [
    "#Parameters \n",
    "n_features = 13\n",
    "n_samples= 506\n",
    "n_target = 1 "
   ]
  },
  {
   "cell_type": "code",
   "execution_count": 6,
   "id": "5d6eced4",
   "metadata": {
    "execution": {
     "iopub.execute_input": "2022-06-12T05:52:25.470483Z",
     "iopub.status.busy": "2022-06-12T05:52:25.470111Z",
     "iopub.status.idle": "2022-06-12T05:52:25.481432Z",
     "shell.execute_reply": "2022-06-12T05:52:25.481689Z"
    },
    "id": "5d6eced4",
    "papermill": {
     "duration": 0.020333,
     "end_time": "2022-06-12T05:52:25.481813",
     "exception": false,
     "start_time": "2022-06-12T05:52:25.461480",
     "status": "completed"
    },
    "tags": []
   },
   "outputs": [
    {
     "name": "stdout",
     "output_type": "stream",
     "text": [
      "         X1        X2        X3        X4        X5        X6        X7  \\\n",
      "0 -0.419782  0.284830 -1.287909 -0.272599 -0.144217  0.413672 -0.120013   \n",
      "1 -0.417339 -0.487722 -0.593381 -0.272599 -0.740262  0.194274  0.367166   \n",
      "2 -0.417342 -0.487722 -0.593381 -0.272599 -0.740262  1.282714 -0.265812   \n",
      "3 -0.416750 -0.487722 -1.306878 -0.272599 -0.835284  1.016303 -0.809889   \n",
      "4 -0.412482 -0.487722 -1.306878 -0.272599 -0.835284  1.228577 -0.511180   \n",
      "\n",
      "         X8        X9       X10       X11       X12       X13         Y  \n",
      "0  0.140214 -0.982843 -0.666608 -1.459000  0.441052 -1.075562  0.159686  \n",
      "1  0.557160 -0.867883 -0.987329 -0.303094  0.441052 -0.492439 -0.101524  \n",
      "2  0.557160 -0.867883 -0.987329 -0.303094  0.396427 -1.208727  1.324247  \n",
      "3  1.077737 -0.752922 -1.106115  0.113032  0.416163 -1.361517  1.182758  \n",
      "4  1.077737 -0.752922 -1.106115  0.113032  0.441052 -1.026501  1.487503  \n"
     ]
    }
   ],
   "source": [
    "X,Y = bostonDataset.boston_data()"
   ]
  },
  {
   "cell_type": "code",
   "execution_count": 7,
   "id": "fe007438",
   "metadata": {
    "execution": {
     "iopub.execute_input": "2022-06-12T05:52:25.499307Z",
     "iopub.status.busy": "2022-06-12T05:52:25.498939Z",
     "iopub.status.idle": "2022-06-12T05:52:25.500180Z",
     "shell.execute_reply": "2022-06-12T05:52:25.500456Z"
    },
    "id": "fe007438",
    "papermill": {
     "duration": 0.011286,
     "end_time": "2022-06-12T05:52:25.500563",
     "exception": false,
     "start_time": "2022-06-12T05:52:25.489277",
     "status": "completed"
    },
    "tags": []
   },
   "outputs": [],
   "source": [
    "#Train test split for dataset \n",
    "X_train,X_test,Y_train,Y_test = train_test_split(X,Y,test_size = 0.2)\n",
    "train_data = dataset.CustomDataset(X_train,Y_train)\n",
    "test_data = dataset.CustomDataset(X_test,Y_test)\n"
   ]
  },
  {
   "cell_type": "markdown",
   "id": "a9a1af34",
   "metadata": {
    "id": "a9a1af34",
    "papermill": {
     "duration": 0.007138,
     "end_time": "2022-06-12T05:52:25.514885",
     "exception": false,
     "start_time": "2022-06-12T05:52:25.507747",
     "status": "completed"
    },
    "tags": []
   },
   "source": [
    "## Training Parameters "
   ]
  },
  {
   "cell_type": "code",
   "execution_count": 8,
   "id": "952b7fc8",
   "metadata": {
    "execution": {
     "iopub.execute_input": "2022-06-12T05:52:25.531335Z",
     "iopub.status.busy": "2022-06-12T05:52:25.530947Z",
     "iopub.status.idle": "2022-06-12T05:52:25.532302Z",
     "shell.execute_reply": "2022-06-12T05:52:25.532594Z"
    },
    "id": "952b7fc8",
    "papermill": {
     "duration": 0.010767,
     "end_time": "2022-06-12T05:52:25.532740",
     "exception": false,
     "start_time": "2022-06-12T05:52:25.521973",
     "status": "completed"
    },
    "tags": []
   },
   "outputs": [],
   "source": [
    "batch_size = 32\n",
    "n_epochs = 1000\n",
    "#Select the device \n",
    "device = torch.device('cuda' if torch.cuda.is_available() else 'cpu')"
   ]
  },
  {
   "cell_type": "markdown",
   "id": "a95e1600",
   "metadata": {
    "id": "a95e1600",
    "papermill": {
     "duration": 0.007576,
     "end_time": "2022-06-12T05:52:25.548047",
     "exception": false,
     "start_time": "2022-06-12T05:52:25.540471",
     "status": "completed"
    },
    "tags": []
   },
   "source": [
    "# ABC Pre-generator Model \n",
    "\n",
    "1. The catboost model is used as a pre-generator model for the ABC-GAN. \n",
    "2. The model is first trained on the entire dataset \n",
    "3. It generats X,Y pairs and we add some Gaussian noise with mean 0 and variance 1 to it which is then feed as input to the generator.\n"
   ]
  },
  {
   "cell_type": "code",
   "execution_count": 9,
   "id": "ff8ce7bd",
   "metadata": {
    "execution": {
     "iopub.execute_input": "2022-06-12T05:52:25.572568Z",
     "iopub.status.busy": "2022-06-12T05:52:25.572118Z",
     "iopub.status.idle": "2022-06-12T05:52:26.541138Z",
     "shell.execute_reply": "2022-06-12T05:52:26.541393Z"
    },
    "id": "ff8ce7bd",
    "papermill": {
     "duration": 0.985983,
     "end_time": "2022-06-12T05:52:26.541516",
     "exception": false,
     "start_time": "2022-06-12T05:52:25.555533",
     "status": "completed"
    },
    "tags": []
   },
   "outputs": [
    {
     "name": "stdout",
     "output_type": "stream",
     "text": [
      "Learning rate set to 0.033215\n",
      "0:\tlearn: 0.9883421\ttotal: 64.3ms\tremaining: 1m 4s\n",
      "1:\tlearn: 0.9681745\ttotal: 65.2ms\tremaining: 32.5s\n",
      "2:\tlearn: 0.9488702\ttotal: 66.3ms\tremaining: 22s\n",
      "3:\tlearn: 0.9329564\ttotal: 67.3ms\tremaining: 16.7s\n",
      "4:\tlearn: 0.9162164\ttotal: 68ms\tremaining: 13.5s\n",
      "5:\tlearn: 0.9014119\ttotal: 68.8ms\tremaining: 11.4s\n",
      "6:\tlearn: 0.8843823\ttotal: 69.5ms\tremaining: 9.86s\n",
      "7:\tlearn: 0.8686365\ttotal: 70.2ms\tremaining: 8.7s\n",
      "8:\tlearn: 0.8528282\ttotal: 70.9ms\tremaining: 7.8s\n",
      "9:\tlearn: 0.8361498\ttotal: 71.5ms\tremaining: 7.08s\n",
      "10:\tlearn: 0.8223217\ttotal: 72.2ms\tremaining: 6.49s\n",
      "11:\tlearn: 0.8064273\ttotal: 72.8ms\tremaining: 5.99s\n",
      "12:\tlearn: 0.7910245\ttotal: 73.4ms\tremaining: 5.58s\n",
      "13:\tlearn: 0.7753846\ttotal: 74.1ms\tremaining: 5.22s\n",
      "14:\tlearn: 0.7624783\ttotal: 74.7ms\tremaining: 4.91s\n",
      "15:\tlearn: 0.7474630\ttotal: 75.5ms\tremaining: 4.64s\n",
      "16:\tlearn: 0.7355733\ttotal: 76.1ms\tremaining: 4.4s\n",
      "17:\tlearn: 0.7229198\ttotal: 76.7ms\tremaining: 4.18s\n",
      "18:\tlearn: 0.7101395\ttotal: 77.3ms\tremaining: 3.99s\n",
      "19:\tlearn: 0.6974737\ttotal: 78ms\tremaining: 3.82s\n",
      "20:\tlearn: 0.6836850\ttotal: 78.9ms\tremaining: 3.68s\n",
      "21:\tlearn: 0.6725203\ttotal: 79.9ms\tremaining: 3.55s\n",
      "22:\tlearn: 0.6613448\ttotal: 80.9ms\tremaining: 3.44s\n",
      "23:\tlearn: 0.6511925\ttotal: 81.8ms\tremaining: 3.33s\n",
      "24:\tlearn: 0.6423208\ttotal: 82.7ms\tremaining: 3.23s\n",
      "25:\tlearn: 0.6327133\ttotal: 83.5ms\tremaining: 3.13s\n",
      "26:\tlearn: 0.6242695\ttotal: 84.3ms\tremaining: 3.04s\n",
      "27:\tlearn: 0.6153282\ttotal: 85.1ms\tremaining: 2.95s\n",
      "28:\tlearn: 0.6050520\ttotal: 85.9ms\tremaining: 2.88s\n",
      "29:\tlearn: 0.5945306\ttotal: 86.7ms\tremaining: 2.8s\n",
      "30:\tlearn: 0.5841178\ttotal: 87.6ms\tremaining: 2.74s\n",
      "31:\tlearn: 0.5757169\ttotal: 88.5ms\tremaining: 2.68s\n",
      "32:\tlearn: 0.5686533\ttotal: 89.3ms\tremaining: 2.62s\n",
      "33:\tlearn: 0.5609042\ttotal: 90ms\tremaining: 2.56s\n",
      "34:\tlearn: 0.5531822\ttotal: 91ms\tremaining: 2.51s\n"
     ]
    },
    {
     "name": "stdout",
     "output_type": "stream",
     "text": [
      "35:\tlearn: 0.5457582\ttotal: 92ms\tremaining: 2.46s\n",
      "36:\tlearn: 0.5387132\ttotal: 93.2ms\tremaining: 2.42s\n",
      "37:\tlearn: 0.5312761\ttotal: 94.2ms\tremaining: 2.38s\n",
      "38:\tlearn: 0.5236193\ttotal: 95ms\tremaining: 2.34s\n",
      "39:\tlearn: 0.5162199\ttotal: 95.8ms\tremaining: 2.3s\n",
      "40:\tlearn: 0.5104646\ttotal: 96.7ms\tremaining: 2.26s\n",
      "41:\tlearn: 0.5030958\ttotal: 97.6ms\tremaining: 2.23s\n",
      "42:\tlearn: 0.4986825\ttotal: 98.1ms\tremaining: 2.18s\n",
      "43:\tlearn: 0.4926034\ttotal: 99ms\tremaining: 2.15s\n",
      "44:\tlearn: 0.4870782\ttotal: 99.9ms\tremaining: 2.12s\n",
      "45:\tlearn: 0.4810994\ttotal: 101ms\tremaining: 2.09s\n",
      "46:\tlearn: 0.4760687\ttotal: 102ms\tremaining: 2.06s\n",
      "47:\tlearn: 0.4712482\ttotal: 102ms\tremaining: 2.03s\n",
      "48:\tlearn: 0.4652777\ttotal: 103ms\tremaining: 2s\n",
      "49:\tlearn: 0.4592072\ttotal: 104ms\tremaining: 1.97s\n",
      "50:\tlearn: 0.4544515\ttotal: 105ms\tremaining: 1.95s\n",
      "51:\tlearn: 0.4499373\ttotal: 106ms\tremaining: 1.93s\n",
      "52:\tlearn: 0.4448387\ttotal: 107ms\tremaining: 1.91s\n",
      "53:\tlearn: 0.4400603\ttotal: 108ms\tremaining: 1.89s\n",
      "54:\tlearn: 0.4354120\ttotal: 109ms\tremaining: 1.86s\n",
      "55:\tlearn: 0.4315376\ttotal: 110ms\tremaining: 1.85s\n",
      "56:\tlearn: 0.4271152\ttotal: 111ms\tremaining: 1.83s\n",
      "57:\tlearn: 0.4221948\ttotal: 111ms\tremaining: 1.81s\n",
      "58:\tlearn: 0.4174581\ttotal: 112ms\tremaining: 1.79s\n",
      "59:\tlearn: 0.4132045\ttotal: 113ms\tremaining: 1.77s\n",
      "60:\tlearn: 0.4092544\ttotal: 114ms\tremaining: 1.76s\n",
      "61:\tlearn: 0.4056357\ttotal: 115ms\tremaining: 1.74s\n",
      "62:\tlearn: 0.4017455\ttotal: 116ms\tremaining: 1.72s\n",
      "63:\tlearn: 0.3981258\ttotal: 116ms\tremaining: 1.7s\n",
      "64:\tlearn: 0.3946695\ttotal: 117ms\tremaining: 1.69s\n",
      "65:\tlearn: 0.3912361\ttotal: 118ms\tremaining: 1.67s\n",
      "66:\tlearn: 0.3878063\ttotal: 119ms\tremaining: 1.66s\n",
      "67:\tlearn: 0.3846929\ttotal: 120ms\tremaining: 1.64s\n",
      "68:\tlearn: 0.3818583\ttotal: 121ms\tremaining: 1.63s\n",
      "69:\tlearn: 0.3790086\ttotal: 122ms\tremaining: 1.62s\n",
      "70:\tlearn: 0.3754153\ttotal: 123ms\tremaining: 1.6s\n",
      "71:\tlearn: 0.3716340\ttotal: 123ms\tremaining: 1.59s\n",
      "72:\tlearn: 0.3692669\ttotal: 124ms\tremaining: 1.58s\n",
      "73:\tlearn: 0.3666537\ttotal: 125ms\tremaining: 1.56s\n",
      "74:\tlearn: 0.3633998\ttotal: 126ms\tremaining: 1.55s\n",
      "75:\tlearn: 0.3598690\ttotal: 126ms\tremaining: 1.54s\n",
      "76:\tlearn: 0.3576533\ttotal: 127ms\tremaining: 1.53s\n",
      "77:\tlearn: 0.3549235\ttotal: 128ms\tremaining: 1.51s\n",
      "78:\tlearn: 0.3523049\ttotal: 129ms\tremaining: 1.5s\n",
      "79:\tlearn: 0.3500520\ttotal: 130ms\tremaining: 1.5s\n",
      "80:\tlearn: 0.3476129\ttotal: 131ms\tremaining: 1.48s\n",
      "81:\tlearn: 0.3448578\ttotal: 132ms\tremaining: 1.47s\n",
      "82:\tlearn: 0.3424528\ttotal: 133ms\tremaining: 1.46s\n",
      "83:\tlearn: 0.3404500\ttotal: 133ms\tremaining: 1.45s\n",
      "84:\tlearn: 0.3378995\ttotal: 134ms\tremaining: 1.44s\n",
      "85:\tlearn: 0.3355246\ttotal: 135ms\tremaining: 1.43s\n",
      "86:\tlearn: 0.3331763\ttotal: 136ms\tremaining: 1.43s\n",
      "87:\tlearn: 0.3311793\ttotal: 137ms\tremaining: 1.42s\n",
      "88:\tlearn: 0.3285905\ttotal: 138ms\tremaining: 1.41s\n",
      "89:\tlearn: 0.3265907\ttotal: 138ms\tremaining: 1.4s\n",
      "90:\tlearn: 0.3251979\ttotal: 139ms\tremaining: 1.39s\n",
      "91:\tlearn: 0.3227991\ttotal: 140ms\tremaining: 1.38s\n",
      "92:\tlearn: 0.3207875\ttotal: 141ms\tremaining: 1.37s\n",
      "93:\tlearn: 0.3178270\ttotal: 142ms\tremaining: 1.36s\n",
      "94:\tlearn: 0.3164353\ttotal: 143ms\tremaining: 1.36s\n",
      "95:\tlearn: 0.3153588\ttotal: 143ms\tremaining: 1.35s\n",
      "96:\tlearn: 0.3136251\ttotal: 144ms\tremaining: 1.34s\n",
      "97:\tlearn: 0.3115561\ttotal: 145ms\tremaining: 1.33s\n",
      "98:\tlearn: 0.3101173\ttotal: 146ms\tremaining: 1.32s\n",
      "99:\tlearn: 0.3086117\ttotal: 146ms\tremaining: 1.32s\n",
      "100:\tlearn: 0.3073231\ttotal: 147ms\tremaining: 1.31s\n",
      "101:\tlearn: 0.3056015\ttotal: 148ms\tremaining: 1.3s\n",
      "102:\tlearn: 0.3039540\ttotal: 149ms\tremaining: 1.3s\n",
      "103:\tlearn: 0.3021806\ttotal: 150ms\tremaining: 1.29s\n",
      "104:\tlearn: 0.3009985\ttotal: 151ms\tremaining: 1.28s\n",
      "105:\tlearn: 0.2999299\ttotal: 152ms\tremaining: 1.28s\n",
      "106:\tlearn: 0.2977987\ttotal: 153ms\tremaining: 1.27s\n",
      "107:\tlearn: 0.2957396\ttotal: 154ms\tremaining: 1.27s\n",
      "108:\tlearn: 0.2940884\ttotal: 154ms\tremaining: 1.26s\n",
      "109:\tlearn: 0.2925227\ttotal: 155ms\tremaining: 1.25s\n",
      "110:\tlearn: 0.2914807\ttotal: 156ms\tremaining: 1.25s\n",
      "111:\tlearn: 0.2897601\ttotal: 157ms\tremaining: 1.24s\n",
      "112:\tlearn: 0.2886429\ttotal: 157ms\tremaining: 1.24s\n",
      "113:\tlearn: 0.2876407\ttotal: 158ms\tremaining: 1.23s\n",
      "114:\tlearn: 0.2861915\ttotal: 159ms\tremaining: 1.22s\n",
      "115:\tlearn: 0.2853179\ttotal: 160ms\tremaining: 1.22s\n",
      "116:\tlearn: 0.2842008\ttotal: 161ms\tremaining: 1.21s\n",
      "117:\tlearn: 0.2828610\ttotal: 162ms\tremaining: 1.21s\n",
      "118:\tlearn: 0.2817242\ttotal: 162ms\tremaining: 1.2s\n",
      "119:\tlearn: 0.2806774\ttotal: 163ms\tremaining: 1.2s\n",
      "120:\tlearn: 0.2797054\ttotal: 164ms\tremaining: 1.19s\n",
      "121:\tlearn: 0.2787730\ttotal: 165ms\tremaining: 1.19s\n",
      "122:\tlearn: 0.2775463\ttotal: 166ms\tremaining: 1.18s\n",
      "123:\tlearn: 0.2760674\ttotal: 167ms\tremaining: 1.18s\n",
      "124:\tlearn: 0.2747274\ttotal: 167ms\tremaining: 1.17s\n",
      "125:\tlearn: 0.2734893\ttotal: 168ms\tremaining: 1.17s\n",
      "126:\tlearn: 0.2721734\ttotal: 169ms\tremaining: 1.17s\n",
      "127:\tlearn: 0.2714110\ttotal: 170ms\tremaining: 1.16s\n",
      "128:\tlearn: 0.2704343\ttotal: 172ms\tremaining: 1.16s\n",
      "129:\tlearn: 0.2693682\ttotal: 173ms\tremaining: 1.15s\n",
      "130:\tlearn: 0.2682280\ttotal: 173ms\tremaining: 1.15s\n",
      "131:\tlearn: 0.2674253\ttotal: 174ms\tremaining: 1.15s\n",
      "132:\tlearn: 0.2663241\ttotal: 175ms\tremaining: 1.14s\n",
      "133:\tlearn: 0.2653595\ttotal: 176ms\tremaining: 1.14s\n",
      "134:\tlearn: 0.2649221\ttotal: 177ms\tremaining: 1.13s\n",
      "135:\tlearn: 0.2643648\ttotal: 177ms\tremaining: 1.13s\n",
      "136:\tlearn: 0.2638848\ttotal: 178ms\tremaining: 1.12s\n",
      "137:\tlearn: 0.2627980\ttotal: 179ms\tremaining: 1.12s\n",
      "138:\tlearn: 0.2619991\ttotal: 180ms\tremaining: 1.11s\n",
      "139:\tlearn: 0.2610780\ttotal: 181ms\tremaining: 1.11s\n",
      "140:\tlearn: 0.2602028\ttotal: 182ms\tremaining: 1.11s\n",
      "141:\tlearn: 0.2594231\ttotal: 183ms\tremaining: 1.1s\n",
      "142:\tlearn: 0.2586829\ttotal: 183ms\tremaining: 1.1s\n",
      "143:\tlearn: 0.2578215\ttotal: 184ms\tremaining: 1.09s\n",
      "144:\tlearn: 0.2564460\ttotal: 185ms\tremaining: 1.09s\n",
      "145:\tlearn: 0.2553848\ttotal: 186ms\tremaining: 1.09s\n",
      "146:\tlearn: 0.2542449\ttotal: 187ms\tremaining: 1.08s\n",
      "147:\tlearn: 0.2535260\ttotal: 187ms\tremaining: 1.08s\n"
     ]
    },
    {
     "name": "stdout",
     "output_type": "stream",
     "text": [
      "148:\tlearn: 0.2526985\ttotal: 189ms\tremaining: 1.08s\n",
      "149:\tlearn: 0.2521684\ttotal: 189ms\tremaining: 1.07s\n",
      "150:\tlearn: 0.2516816\ttotal: 190ms\tremaining: 1.07s\n",
      "151:\tlearn: 0.2508937\ttotal: 191ms\tremaining: 1.06s\n",
      "152:\tlearn: 0.2504943\ttotal: 192ms\tremaining: 1.06s\n",
      "153:\tlearn: 0.2495332\ttotal: 193ms\tremaining: 1.06s\n",
      "154:\tlearn: 0.2485807\ttotal: 193ms\tremaining: 1.05s\n",
      "155:\tlearn: 0.2478762\ttotal: 194ms\tremaining: 1.05s\n",
      "156:\tlearn: 0.2471377\ttotal: 195ms\tremaining: 1.05s\n",
      "157:\tlearn: 0.2463434\ttotal: 196ms\tremaining: 1.04s\n",
      "158:\tlearn: 0.2453437\ttotal: 197ms\tremaining: 1.04s\n",
      "159:\tlearn: 0.2444988\ttotal: 198ms\tremaining: 1.04s\n",
      "160:\tlearn: 0.2436302\ttotal: 199ms\tremaining: 1.03s\n",
      "161:\tlearn: 0.2429577\ttotal: 200ms\tremaining: 1.03s\n",
      "162:\tlearn: 0.2421775\ttotal: 200ms\tremaining: 1.03s\n",
      "163:\tlearn: 0.2414503\ttotal: 201ms\tremaining: 1.03s\n",
      "164:\tlearn: 0.2409420\ttotal: 202ms\tremaining: 1.02s\n",
      "165:\tlearn: 0.2402507\ttotal: 203ms\tremaining: 1.02s\n",
      "166:\tlearn: 0.2396995\ttotal: 204ms\tremaining: 1.02s\n",
      "167:\tlearn: 0.2388250\ttotal: 205ms\tremaining: 1.01s\n",
      "168:\tlearn: 0.2384013\ttotal: 205ms\tremaining: 1.01s\n",
      "169:\tlearn: 0.2373428\ttotal: 206ms\tremaining: 1s\n",
      "170:\tlearn: 0.2368625\ttotal: 207ms\tremaining: 1s\n",
      "171:\tlearn: 0.2366924\ttotal: 207ms\tremaining: 998ms\n",
      "172:\tlearn: 0.2359944\ttotal: 208ms\tremaining: 994ms\n",
      "173:\tlearn: 0.2353630\ttotal: 209ms\tremaining: 990ms\n",
      "174:\tlearn: 0.2344861\ttotal: 209ms\tremaining: 987ms\n",
      "175:\tlearn: 0.2336596\ttotal: 210ms\tremaining: 984ms\n",
      "176:\tlearn: 0.2328609\ttotal: 211ms\tremaining: 981ms\n",
      "177:\tlearn: 0.2321078\ttotal: 211ms\tremaining: 977ms\n",
      "178:\tlearn: 0.2315793\ttotal: 212ms\tremaining: 973ms\n",
      "179:\tlearn: 0.2307749\ttotal: 213ms\tremaining: 970ms\n",
      "180:\tlearn: 0.2296964\ttotal: 214ms\tremaining: 966ms\n",
      "181:\tlearn: 0.2288555\ttotal: 214ms\tremaining: 963ms\n",
      "182:\tlearn: 0.2280519\ttotal: 215ms\tremaining: 959ms\n",
      "183:\tlearn: 0.2273512\ttotal: 216ms\tremaining: 956ms\n",
      "184:\tlearn: 0.2267091\ttotal: 216ms\tremaining: 952ms\n",
      "185:\tlearn: 0.2261275\ttotal: 217ms\tremaining: 948ms\n",
      "186:\tlearn: 0.2255846\ttotal: 218ms\tremaining: 946ms\n",
      "187:\tlearn: 0.2251400\ttotal: 218ms\tremaining: 943ms\n",
      "188:\tlearn: 0.2246405\ttotal: 219ms\tremaining: 940ms\n",
      "189:\tlearn: 0.2239008\ttotal: 220ms\tremaining: 937ms\n",
      "190:\tlearn: 0.2233766\ttotal: 221ms\tremaining: 934ms\n",
      "191:\tlearn: 0.2226450\ttotal: 221ms\tremaining: 931ms\n",
      "192:\tlearn: 0.2220701\ttotal: 222ms\tremaining: 929ms\n",
      "193:\tlearn: 0.2215560\ttotal: 224ms\tremaining: 931ms\n",
      "194:\tlearn: 0.2208939\ttotal: 226ms\tremaining: 932ms\n",
      "195:\tlearn: 0.2203619\ttotal: 228ms\tremaining: 937ms\n",
      "196:\tlearn: 0.2196695\ttotal: 232ms\tremaining: 947ms\n",
      "197:\tlearn: 0.2192395\ttotal: 233ms\tremaining: 944ms\n",
      "198:\tlearn: 0.2188092\ttotal: 234ms\tremaining: 942ms\n",
      "199:\tlearn: 0.2181922\ttotal: 236ms\tremaining: 944ms\n",
      "200:\tlearn: 0.2175557\ttotal: 238ms\tremaining: 945ms\n",
      "201:\tlearn: 0.2173455\ttotal: 239ms\tremaining: 943ms\n",
      "202:\tlearn: 0.2165551\ttotal: 239ms\tremaining: 940ms\n",
      "203:\tlearn: 0.2163622\ttotal: 240ms\tremaining: 937ms\n",
      "204:\tlearn: 0.2157268\ttotal: 241ms\tremaining: 934ms\n",
      "205:\tlearn: 0.2150771\ttotal: 242ms\tremaining: 931ms\n",
      "206:\tlearn: 0.2144142\ttotal: 242ms\tremaining: 928ms\n",
      "207:\tlearn: 0.2139589\ttotal: 243ms\tremaining: 925ms\n",
      "208:\tlearn: 0.2137941\ttotal: 243ms\tremaining: 921ms\n",
      "209:\tlearn: 0.2131582\ttotal: 244ms\tremaining: 918ms\n",
      "210:\tlearn: 0.2126127\ttotal: 245ms\tremaining: 915ms\n",
      "211:\tlearn: 0.2123758\ttotal: 246ms\tremaining: 914ms\n",
      "212:\tlearn: 0.2119785\ttotal: 247ms\tremaining: 911ms\n",
      "213:\tlearn: 0.2114881\ttotal: 247ms\tremaining: 909ms\n",
      "214:\tlearn: 0.2107822\ttotal: 248ms\tremaining: 906ms\n",
      "215:\tlearn: 0.2103110\ttotal: 249ms\tremaining: 903ms\n",
      "216:\tlearn: 0.2100186\ttotal: 249ms\tremaining: 900ms\n",
      "217:\tlearn: 0.2098806\ttotal: 250ms\tremaining: 897ms\n",
      "218:\tlearn: 0.2094226\ttotal: 251ms\tremaining: 894ms\n",
      "219:\tlearn: 0.2092094\ttotal: 251ms\tremaining: 891ms\n",
      "220:\tlearn: 0.2088750\ttotal: 252ms\tremaining: 889ms\n",
      "221:\tlearn: 0.2083091\ttotal: 253ms\tremaining: 886ms\n",
      "222:\tlearn: 0.2079059\ttotal: 253ms\tremaining: 883ms\n",
      "223:\tlearn: 0.2073635\ttotal: 254ms\tremaining: 881ms\n",
      "224:\tlearn: 0.2069622\ttotal: 255ms\tremaining: 878ms\n",
      "225:\tlearn: 0.2064801\ttotal: 256ms\tremaining: 876ms\n",
      "226:\tlearn: 0.2062629\ttotal: 256ms\tremaining: 873ms\n",
      "227:\tlearn: 0.2055813\ttotal: 257ms\tremaining: 870ms\n",
      "228:\tlearn: 0.2053172\ttotal: 258ms\tremaining: 868ms\n",
      "229:\tlearn: 0.2048450\ttotal: 258ms\tremaining: 865ms\n",
      "230:\tlearn: 0.2046263\ttotal: 259ms\tremaining: 863ms\n",
      "231:\tlearn: 0.2039310\ttotal: 260ms\tremaining: 861ms\n",
      "232:\tlearn: 0.2033995\ttotal: 261ms\tremaining: 859ms\n",
      "233:\tlearn: 0.2027711\ttotal: 262ms\tremaining: 857ms\n",
      "234:\tlearn: 0.2023343\ttotal: 262ms\tremaining: 854ms\n",
      "235:\tlearn: 0.2018101\ttotal: 263ms\tremaining: 853ms\n",
      "236:\tlearn: 0.2014449\ttotal: 264ms\tremaining: 851ms\n",
      "237:\tlearn: 0.2008729\ttotal: 265ms\tremaining: 849ms\n",
      "238:\tlearn: 0.2003567\ttotal: 266ms\tremaining: 847ms\n",
      "239:\tlearn: 0.2002802\ttotal: 266ms\tremaining: 843ms\n",
      "240:\tlearn: 0.1999536\ttotal: 267ms\tremaining: 841ms\n",
      "241:\tlearn: 0.1995734\ttotal: 268ms\tremaining: 838ms\n",
      "242:\tlearn: 0.1992289\ttotal: 268ms\tremaining: 836ms\n",
      "243:\tlearn: 0.1990384\ttotal: 269ms\tremaining: 834ms\n",
      "244:\tlearn: 0.1988877\ttotal: 270ms\tremaining: 831ms\n",
      "245:\tlearn: 0.1987109\ttotal: 270ms\tremaining: 829ms\n",
      "246:\tlearn: 0.1982378\ttotal: 271ms\tremaining: 827ms\n",
      "247:\tlearn: 0.1979778\ttotal: 272ms\tremaining: 824ms\n",
      "248:\tlearn: 0.1977591\ttotal: 272ms\tremaining: 822ms\n",
      "249:\tlearn: 0.1972426\ttotal: 273ms\tremaining: 819ms\n",
      "250:\tlearn: 0.1968276\ttotal: 274ms\tremaining: 817ms\n",
      "251:\tlearn: 0.1962441\ttotal: 275ms\tremaining: 816ms\n",
      "252:\tlearn: 0.1959113\ttotal: 276ms\tremaining: 815ms\n",
      "253:\tlearn: 0.1955647\ttotal: 277ms\tremaining: 814ms\n",
      "254:\tlearn: 0.1954302\ttotal: 278ms\tremaining: 811ms\n",
      "255:\tlearn: 0.1952253\ttotal: 278ms\tremaining: 809ms\n",
      "256:\tlearn: 0.1949323\ttotal: 279ms\tremaining: 807ms\n"
     ]
    },
    {
     "name": "stdout",
     "output_type": "stream",
     "text": [
      "257:\tlearn: 0.1947684\ttotal: 280ms\tremaining: 805ms\n",
      "258:\tlearn: 0.1941595\ttotal: 281ms\tremaining: 803ms\n",
      "259:\tlearn: 0.1940877\ttotal: 281ms\tremaining: 801ms\n",
      "260:\tlearn: 0.1934929\ttotal: 282ms\tremaining: 799ms\n",
      "261:\tlearn: 0.1933274\ttotal: 283ms\tremaining: 796ms\n",
      "262:\tlearn: 0.1931187\ttotal: 283ms\tremaining: 794ms\n",
      "263:\tlearn: 0.1926213\ttotal: 284ms\tremaining: 792ms\n",
      "264:\tlearn: 0.1922590\ttotal: 285ms\tremaining: 790ms\n",
      "265:\tlearn: 0.1916753\ttotal: 285ms\tremaining: 788ms\n",
      "266:\tlearn: 0.1914523\ttotal: 286ms\tremaining: 786ms\n",
      "267:\tlearn: 0.1908357\ttotal: 287ms\tremaining: 783ms\n",
      "268:\tlearn: 0.1906669\ttotal: 287ms\tremaining: 781ms\n",
      "269:\tlearn: 0.1903640\ttotal: 288ms\tremaining: 779ms\n",
      "270:\tlearn: 0.1901032\ttotal: 289ms\tremaining: 777ms\n",
      "271:\tlearn: 0.1899440\ttotal: 290ms\tremaining: 776ms\n",
      "272:\tlearn: 0.1893607\ttotal: 291ms\tremaining: 774ms\n",
      "273:\tlearn: 0.1890796\ttotal: 291ms\tremaining: 772ms\n",
      "274:\tlearn: 0.1885348\ttotal: 292ms\tremaining: 770ms\n",
      "275:\tlearn: 0.1881532\ttotal: 293ms\tremaining: 768ms\n",
      "276:\tlearn: 0.1879934\ttotal: 293ms\tremaining: 766ms\n",
      "277:\tlearn: 0.1874387\ttotal: 294ms\tremaining: 764ms\n",
      "278:\tlearn: 0.1873296\ttotal: 295ms\tremaining: 762ms\n",
      "279:\tlearn: 0.1869565\ttotal: 295ms\tremaining: 760ms\n",
      "280:\tlearn: 0.1866331\ttotal: 296ms\tremaining: 758ms\n",
      "281:\tlearn: 0.1863019\ttotal: 297ms\tremaining: 755ms\n",
      "282:\tlearn: 0.1860218\ttotal: 297ms\tremaining: 753ms\n",
      "283:\tlearn: 0.1856768\ttotal: 298ms\tremaining: 751ms\n",
      "284:\tlearn: 0.1852862\ttotal: 299ms\tremaining: 749ms\n",
      "285:\tlearn: 0.1848012\ttotal: 300ms\tremaining: 748ms\n",
      "286:\tlearn: 0.1846496\ttotal: 301ms\tremaining: 747ms\n",
      "287:\tlearn: 0.1840294\ttotal: 301ms\tremaining: 745ms\n",
      "288:\tlearn: 0.1835158\ttotal: 302ms\tremaining: 743ms\n",
      "289:\tlearn: 0.1834353\ttotal: 303ms\tremaining: 742ms\n",
      "290:\tlearn: 0.1832473\ttotal: 304ms\tremaining: 739ms\n",
      "291:\tlearn: 0.1831338\ttotal: 304ms\tremaining: 738ms\n",
      "292:\tlearn: 0.1828096\ttotal: 305ms\tremaining: 735ms\n",
      "293:\tlearn: 0.1825170\ttotal: 305ms\tremaining: 734ms\n",
      "294:\tlearn: 0.1821354\ttotal: 306ms\tremaining: 731ms\n",
      "295:\tlearn: 0.1819844\ttotal: 307ms\tremaining: 730ms\n",
      "296:\tlearn: 0.1818480\ttotal: 308ms\tremaining: 728ms\n",
      "297:\tlearn: 0.1812581\ttotal: 309ms\tremaining: 727ms\n",
      "298:\tlearn: 0.1808711\ttotal: 309ms\tremaining: 725ms\n",
      "299:\tlearn: 0.1807650\ttotal: 310ms\tremaining: 724ms\n",
      "300:\tlearn: 0.1805220\ttotal: 312ms\tremaining: 724ms\n",
      "301:\tlearn: 0.1800973\ttotal: 313ms\tremaining: 722ms\n",
      "302:\tlearn: 0.1797753\ttotal: 313ms\tremaining: 721ms\n",
      "303:\tlearn: 0.1795264\ttotal: 314ms\tremaining: 719ms\n",
      "304:\tlearn: 0.1794521\ttotal: 315ms\tremaining: 718ms\n",
      "305:\tlearn: 0.1793800\ttotal: 316ms\tremaining: 717ms\n",
      "306:\tlearn: 0.1791467\ttotal: 317ms\tremaining: 716ms\n",
      "307:\tlearn: 0.1790142\ttotal: 318ms\tremaining: 714ms\n",
      "308:\tlearn: 0.1786179\ttotal: 319ms\tremaining: 713ms\n",
      "309:\tlearn: 0.1783017\ttotal: 319ms\tremaining: 711ms\n",
      "310:\tlearn: 0.1780636\ttotal: 320ms\tremaining: 709ms\n",
      "311:\tlearn: 0.1775510\ttotal: 321ms\tremaining: 708ms\n",
      "312:\tlearn: 0.1769705\ttotal: 322ms\tremaining: 706ms\n",
      "313:\tlearn: 0.1764927\ttotal: 322ms\tremaining: 704ms\n",
      "314:\tlearn: 0.1762741\ttotal: 323ms\tremaining: 703ms\n",
      "315:\tlearn: 0.1761965\ttotal: 324ms\tremaining: 702ms\n",
      "316:\tlearn: 0.1758966\ttotal: 325ms\tremaining: 700ms\n",
      "317:\tlearn: 0.1753761\ttotal: 326ms\tremaining: 698ms\n",
      "318:\tlearn: 0.1753160\ttotal: 326ms\tremaining: 696ms\n",
      "319:\tlearn: 0.1748902\ttotal: 327ms\tremaining: 695ms\n",
      "320:\tlearn: 0.1743770\ttotal: 327ms\tremaining: 693ms\n",
      "321:\tlearn: 0.1741915\ttotal: 328ms\tremaining: 691ms\n",
      "322:\tlearn: 0.1738452\ttotal: 329ms\tremaining: 689ms\n",
      "323:\tlearn: 0.1737712\ttotal: 330ms\tremaining: 688ms\n",
      "324:\tlearn: 0.1731699\ttotal: 330ms\tremaining: 686ms\n",
      "325:\tlearn: 0.1731131\ttotal: 331ms\tremaining: 685ms\n",
      "326:\tlearn: 0.1726742\ttotal: 332ms\tremaining: 683ms\n",
      "327:\tlearn: 0.1721604\ttotal: 332ms\tremaining: 681ms\n",
      "328:\tlearn: 0.1718119\ttotal: 333ms\tremaining: 679ms\n",
      "329:\tlearn: 0.1712913\ttotal: 334ms\tremaining: 678ms\n",
      "330:\tlearn: 0.1709887\ttotal: 335ms\tremaining: 677ms\n",
      "331:\tlearn: 0.1706244\ttotal: 335ms\tremaining: 675ms\n",
      "332:\tlearn: 0.1703967\ttotal: 336ms\tremaining: 673ms\n",
      "333:\tlearn: 0.1703415\ttotal: 337ms\tremaining: 671ms\n",
      "334:\tlearn: 0.1698765\ttotal: 337ms\tremaining: 670ms\n",
      "335:\tlearn: 0.1697122\ttotal: 338ms\tremaining: 668ms\n",
      "336:\tlearn: 0.1694047\ttotal: 339ms\tremaining: 667ms\n",
      "337:\tlearn: 0.1692093\ttotal: 340ms\tremaining: 665ms\n",
      "338:\tlearn: 0.1688986\ttotal: 340ms\tremaining: 663ms\n",
      "339:\tlearn: 0.1687137\ttotal: 341ms\tremaining: 662ms\n",
      "340:\tlearn: 0.1683465\ttotal: 342ms\tremaining: 660ms\n",
      "341:\tlearn: 0.1682351\ttotal: 342ms\tremaining: 658ms\n",
      "342:\tlearn: 0.1680195\ttotal: 343ms\tremaining: 657ms\n",
      "343:\tlearn: 0.1676100\ttotal: 344ms\tremaining: 655ms\n",
      "344:\tlearn: 0.1672567\ttotal: 344ms\tremaining: 653ms\n",
      "345:\tlearn: 0.1669395\ttotal: 345ms\tremaining: 652ms\n",
      "346:\tlearn: 0.1668561\ttotal: 345ms\tremaining: 650ms\n",
      "347:\tlearn: 0.1665823\ttotal: 346ms\tremaining: 648ms\n",
      "348:\tlearn: 0.1660746\ttotal: 347ms\tremaining: 647ms\n",
      "349:\tlearn: 0.1655932\ttotal: 347ms\tremaining: 645ms\n",
      "350:\tlearn: 0.1652610\ttotal: 348ms\tremaining: 644ms\n",
      "351:\tlearn: 0.1648415\ttotal: 349ms\tremaining: 642ms\n",
      "352:\tlearn: 0.1647921\ttotal: 350ms\tremaining: 641ms\n",
      "353:\tlearn: 0.1643741\ttotal: 350ms\tremaining: 639ms\n",
      "354:\tlearn: 0.1643243\ttotal: 351ms\tremaining: 638ms\n",
      "355:\tlearn: 0.1639574\ttotal: 352ms\tremaining: 636ms\n",
      "356:\tlearn: 0.1636091\ttotal: 353ms\tremaining: 635ms\n",
      "357:\tlearn: 0.1632680\ttotal: 353ms\tremaining: 634ms\n",
      "358:\tlearn: 0.1629494\ttotal: 354ms\tremaining: 632ms\n",
      "359:\tlearn: 0.1628448\ttotal: 355ms\tremaining: 631ms\n",
      "360:\tlearn: 0.1625523\ttotal: 356ms\tremaining: 630ms\n",
      "361:\tlearn: 0.1619673\ttotal: 356ms\tremaining: 628ms\n",
      "362:\tlearn: 0.1619336\ttotal: 357ms\tremaining: 627ms\n",
      "363:\tlearn: 0.1618514\ttotal: 358ms\tremaining: 626ms\n",
      "364:\tlearn: 0.1618096\ttotal: 359ms\tremaining: 625ms\n",
      "365:\tlearn: 0.1616195\ttotal: 360ms\tremaining: 624ms\n",
      "366:\tlearn: 0.1615743\ttotal: 361ms\tremaining: 622ms\n",
      "367:\tlearn: 0.1615122\ttotal: 362ms\tremaining: 621ms\n",
      "368:\tlearn: 0.1614165\ttotal: 362ms\tremaining: 620ms\n",
      "369:\tlearn: 0.1612049\ttotal: 363ms\tremaining: 618ms\n",
      "370:\tlearn: 0.1607283\ttotal: 364ms\tremaining: 617ms\n",
      "371:\tlearn: 0.1603392\ttotal: 364ms\tremaining: 615ms\n",
      "372:\tlearn: 0.1599002\ttotal: 365ms\tremaining: 614ms\n",
      "373:\tlearn: 0.1594552\ttotal: 366ms\tremaining: 613ms\n",
      "374:\tlearn: 0.1590032\ttotal: 367ms\tremaining: 611ms\n",
      "375:\tlearn: 0.1585190\ttotal: 367ms\tremaining: 610ms\n",
      "376:\tlearn: 0.1582120\ttotal: 368ms\tremaining: 608ms\n",
      "377:\tlearn: 0.1579327\ttotal: 369ms\tremaining: 607ms\n",
      "378:\tlearn: 0.1574681\ttotal: 370ms\tremaining: 605ms\n",
      "379:\tlearn: 0.1572496\ttotal: 370ms\tremaining: 604ms\n",
      "380:\tlearn: 0.1571755\ttotal: 371ms\tremaining: 603ms\n",
      "381:\tlearn: 0.1567698\ttotal: 372ms\tremaining: 602ms\n",
      "382:\tlearn: 0.1563350\ttotal: 373ms\tremaining: 600ms\n",
      "383:\tlearn: 0.1559539\ttotal: 374ms\tremaining: 599ms\n",
      "384:\tlearn: 0.1555569\ttotal: 374ms\tremaining: 598ms\n"
     ]
    },
    {
     "name": "stdout",
     "output_type": "stream",
     "text": [
      "385:\tlearn: 0.1553132\ttotal: 375ms\tremaining: 597ms\n",
      "386:\tlearn: 0.1552335\ttotal: 376ms\tremaining: 596ms\n",
      "387:\tlearn: 0.1549579\ttotal: 377ms\tremaining: 595ms\n",
      "388:\tlearn: 0.1545996\ttotal: 378ms\tremaining: 594ms\n",
      "389:\tlearn: 0.1541635\ttotal: 379ms\tremaining: 593ms\n",
      "390:\tlearn: 0.1541022\ttotal: 380ms\tremaining: 591ms\n",
      "391:\tlearn: 0.1540426\ttotal: 381ms\tremaining: 590ms\n",
      "392:\tlearn: 0.1539836\ttotal: 381ms\tremaining: 589ms\n",
      "393:\tlearn: 0.1539440\ttotal: 382ms\tremaining: 588ms\n",
      "394:\tlearn: 0.1535514\ttotal: 383ms\tremaining: 587ms\n",
      "395:\tlearn: 0.1531899\ttotal: 384ms\tremaining: 586ms\n",
      "396:\tlearn: 0.1527850\ttotal: 385ms\tremaining: 584ms\n",
      "397:\tlearn: 0.1524331\ttotal: 386ms\tremaining: 583ms\n",
      "398:\tlearn: 0.1519390\ttotal: 387ms\tremaining: 582ms\n",
      "399:\tlearn: 0.1515466\ttotal: 388ms\tremaining: 581ms\n",
      "400:\tlearn: 0.1515209\ttotal: 388ms\tremaining: 580ms\n",
      "401:\tlearn: 0.1514625\ttotal: 389ms\tremaining: 579ms\n",
      "402:\tlearn: 0.1511231\ttotal: 390ms\tremaining: 578ms\n",
      "403:\tlearn: 0.1509512\ttotal: 391ms\tremaining: 577ms\n",
      "404:\tlearn: 0.1508874\ttotal: 392ms\tremaining: 576ms\n",
      "405:\tlearn: 0.1508568\ttotal: 393ms\tremaining: 575ms\n",
      "406:\tlearn: 0.1505652\ttotal: 394ms\tremaining: 574ms\n",
      "407:\tlearn: 0.1502564\ttotal: 395ms\tremaining: 573ms\n",
      "408:\tlearn: 0.1502314\ttotal: 396ms\tremaining: 572ms\n",
      "409:\tlearn: 0.1498305\ttotal: 397ms\tremaining: 571ms\n",
      "410:\tlearn: 0.1495307\ttotal: 397ms\tremaining: 569ms\n",
      "411:\tlearn: 0.1490532\ttotal: 398ms\tremaining: 568ms\n",
      "412:\tlearn: 0.1489659\ttotal: 399ms\tremaining: 567ms\n",
      "413:\tlearn: 0.1487859\ttotal: 400ms\tremaining: 566ms\n",
      "414:\tlearn: 0.1484452\ttotal: 401ms\tremaining: 565ms\n",
      "415:\tlearn: 0.1481645\ttotal: 402ms\tremaining: 564ms\n",
      "416:\tlearn: 0.1479101\ttotal: 403ms\tremaining: 563ms\n",
      "417:\tlearn: 0.1475324\ttotal: 403ms\tremaining: 562ms\n",
      "418:\tlearn: 0.1471187\ttotal: 404ms\tremaining: 561ms\n",
      "419:\tlearn: 0.1468091\ttotal: 405ms\tremaining: 559ms\n",
      "420:\tlearn: 0.1465804\ttotal: 406ms\tremaining: 558ms\n",
      "421:\tlearn: 0.1461761\ttotal: 407ms\tremaining: 557ms\n",
      "422:\tlearn: 0.1457758\ttotal: 408ms\tremaining: 556ms\n",
      "423:\tlearn: 0.1454985\ttotal: 409ms\tremaining: 555ms\n",
      "424:\tlearn: 0.1450394\ttotal: 409ms\tremaining: 554ms\n",
      "425:\tlearn: 0.1446250\ttotal: 410ms\tremaining: 553ms\n",
      "426:\tlearn: 0.1444764\ttotal: 411ms\tremaining: 552ms\n",
      "427:\tlearn: 0.1444234\ttotal: 412ms\tremaining: 551ms\n",
      "428:\tlearn: 0.1441013\ttotal: 413ms\tremaining: 549ms\n",
      "429:\tlearn: 0.1440793\ttotal: 414ms\tremaining: 548ms\n",
      "430:\tlearn: 0.1436958\ttotal: 414ms\tremaining: 547ms\n",
      "431:\tlearn: 0.1434552\ttotal: 415ms\tremaining: 546ms\n",
      "432:\tlearn: 0.1431184\ttotal: 416ms\tremaining: 545ms\n",
      "433:\tlearn: 0.1428150\ttotal: 417ms\tremaining: 544ms\n",
      "434:\tlearn: 0.1425555\ttotal: 418ms\tremaining: 543ms\n",
      "435:\tlearn: 0.1422631\ttotal: 419ms\tremaining: 541ms\n",
      "436:\tlearn: 0.1419366\ttotal: 419ms\tremaining: 540ms\n",
      "437:\tlearn: 0.1419015\ttotal: 420ms\tremaining: 539ms\n",
      "438:\tlearn: 0.1418520\ttotal: 421ms\tremaining: 538ms\n",
      "439:\tlearn: 0.1416832\ttotal: 422ms\tremaining: 536ms\n",
      "440:\tlearn: 0.1414633\ttotal: 422ms\tremaining: 535ms\n",
      "441:\tlearn: 0.1412784\ttotal: 423ms\tremaining: 534ms\n",
      "442:\tlearn: 0.1410086\ttotal: 424ms\tremaining: 533ms\n",
      "443:\tlearn: 0.1406459\ttotal: 425ms\tremaining: 532ms\n",
      "444:\tlearn: 0.1404165\ttotal: 426ms\tremaining: 531ms\n",
      "445:\tlearn: 0.1401189\ttotal: 427ms\tremaining: 530ms\n",
      "446:\tlearn: 0.1398824\ttotal: 427ms\tremaining: 529ms\n",
      "447:\tlearn: 0.1396319\ttotal: 428ms\tremaining: 528ms\n",
      "448:\tlearn: 0.1393261\ttotal: 429ms\tremaining: 526ms\n",
      "449:\tlearn: 0.1389723\ttotal: 430ms\tremaining: 525ms\n",
      "450:\tlearn: 0.1385175\ttotal: 431ms\tremaining: 525ms\n",
      "451:\tlearn: 0.1381998\ttotal: 432ms\tremaining: 524ms\n",
      "452:\tlearn: 0.1379222\ttotal: 433ms\tremaining: 523ms\n",
      "453:\tlearn: 0.1376696\ttotal: 434ms\tremaining: 522ms\n",
      "454:\tlearn: 0.1374559\ttotal: 435ms\tremaining: 521ms\n",
      "455:\tlearn: 0.1371905\ttotal: 436ms\tremaining: 520ms\n",
      "456:\tlearn: 0.1369268\ttotal: 436ms\tremaining: 518ms\n",
      "457:\tlearn: 0.1365786\ttotal: 437ms\tremaining: 517ms\n",
      "458:\tlearn: 0.1363658\ttotal: 438ms\tremaining: 516ms\n",
      "459:\tlearn: 0.1360337\ttotal: 439ms\tremaining: 515ms\n",
      "460:\tlearn: 0.1357514\ttotal: 440ms\tremaining: 515ms\n",
      "461:\tlearn: 0.1355213\ttotal: 441ms\tremaining: 514ms\n",
      "462:\tlearn: 0.1352062\ttotal: 442ms\tremaining: 513ms\n",
      "463:\tlearn: 0.1349243\ttotal: 443ms\tremaining: 512ms\n",
      "464:\tlearn: 0.1346424\ttotal: 444ms\tremaining: 511ms\n",
      "465:\tlearn: 0.1343214\ttotal: 445ms\tremaining: 510ms\n",
      "466:\tlearn: 0.1341001\ttotal: 446ms\tremaining: 509ms\n",
      "467:\tlearn: 0.1338540\ttotal: 447ms\tremaining: 508ms\n",
      "468:\tlearn: 0.1334901\ttotal: 448ms\tremaining: 508ms\n",
      "469:\tlearn: 0.1332563\ttotal: 449ms\tremaining: 507ms\n",
      "470:\tlearn: 0.1329805\ttotal: 451ms\tremaining: 506ms\n",
      "471:\tlearn: 0.1326913\ttotal: 451ms\tremaining: 505ms\n",
      "472:\tlearn: 0.1324410\ttotal: 452ms\tremaining: 504ms\n",
      "473:\tlearn: 0.1321634\ttotal: 453ms\tremaining: 503ms\n",
      "474:\tlearn: 0.1318626\ttotal: 454ms\tremaining: 501ms\n",
      "475:\tlearn: 0.1317687\ttotal: 455ms\tremaining: 501ms\n",
      "476:\tlearn: 0.1314713\ttotal: 456ms\tremaining: 499ms\n",
      "477:\tlearn: 0.1311890\ttotal: 456ms\tremaining: 498ms\n",
      "478:\tlearn: 0.1310130\ttotal: 457ms\tremaining: 497ms\n",
      "479:\tlearn: 0.1306668\ttotal: 458ms\tremaining: 496ms\n",
      "480:\tlearn: 0.1304803\ttotal: 459ms\tremaining: 495ms\n",
      "481:\tlearn: 0.1301608\ttotal: 460ms\tremaining: 494ms\n",
      "482:\tlearn: 0.1298389\ttotal: 460ms\tremaining: 493ms\n",
      "483:\tlearn: 0.1296873\ttotal: 461ms\tremaining: 492ms\n",
      "484:\tlearn: 0.1295610\ttotal: 462ms\tremaining: 491ms\n",
      "485:\tlearn: 0.1293218\ttotal: 463ms\tremaining: 490ms\n",
      "486:\tlearn: 0.1290923\ttotal: 464ms\tremaining: 489ms\n",
      "487:\tlearn: 0.1288755\ttotal: 465ms\tremaining: 488ms\n",
      "488:\tlearn: 0.1287103\ttotal: 466ms\tremaining: 487ms\n",
      "489:\tlearn: 0.1284405\ttotal: 467ms\tremaining: 486ms\n",
      "490:\tlearn: 0.1282326\ttotal: 468ms\tremaining: 485ms\n",
      "491:\tlearn: 0.1279073\ttotal: 469ms\tremaining: 484ms\n"
     ]
    },
    {
     "name": "stdout",
     "output_type": "stream",
     "text": [
      "492:\tlearn: 0.1277015\ttotal: 470ms\tremaining: 483ms\n",
      "493:\tlearn: 0.1272973\ttotal: 471ms\tremaining: 482ms\n",
      "494:\tlearn: 0.1270215\ttotal: 472ms\tremaining: 481ms\n",
      "495:\tlearn: 0.1268850\ttotal: 473ms\tremaining: 480ms\n",
      "496:\tlearn: 0.1266913\ttotal: 473ms\tremaining: 479ms\n",
      "497:\tlearn: 0.1266179\ttotal: 474ms\tremaining: 478ms\n",
      "498:\tlearn: 0.1263159\ttotal: 475ms\tremaining: 477ms\n",
      "499:\tlearn: 0.1261257\ttotal: 476ms\tremaining: 476ms\n",
      "500:\tlearn: 0.1259615\ttotal: 476ms\tremaining: 475ms\n",
      "501:\tlearn: 0.1256306\ttotal: 477ms\tremaining: 473ms\n",
      "502:\tlearn: 0.1254523\ttotal: 478ms\tremaining: 472ms\n",
      "503:\tlearn: 0.1252510\ttotal: 479ms\tremaining: 471ms\n",
      "504:\tlearn: 0.1249481\ttotal: 480ms\tremaining: 470ms\n",
      "505:\tlearn: 0.1248303\ttotal: 480ms\tremaining: 469ms\n",
      "506:\tlearn: 0.1245553\ttotal: 481ms\tremaining: 468ms\n",
      "507:\tlearn: 0.1244356\ttotal: 482ms\tremaining: 467ms\n",
      "508:\tlearn: 0.1241807\ttotal: 483ms\tremaining: 466ms\n",
      "509:\tlearn: 0.1238600\ttotal: 484ms\tremaining: 465ms\n",
      "510:\tlearn: 0.1236866\ttotal: 485ms\tremaining: 464ms\n",
      "511:\tlearn: 0.1234951\ttotal: 486ms\tremaining: 463ms\n",
      "512:\tlearn: 0.1232148\ttotal: 487ms\tremaining: 462ms\n",
      "513:\tlearn: 0.1230824\ttotal: 487ms\tremaining: 461ms\n",
      "514:\tlearn: 0.1230290\ttotal: 488ms\tremaining: 460ms\n",
      "515:\tlearn: 0.1229621\ttotal: 489ms\tremaining: 459ms\n",
      "516:\tlearn: 0.1226429\ttotal: 490ms\tremaining: 458ms\n",
      "517:\tlearn: 0.1224811\ttotal: 491ms\tremaining: 456ms\n",
      "518:\tlearn: 0.1221709\ttotal: 491ms\tremaining: 455ms\n",
      "519:\tlearn: 0.1218547\ttotal: 492ms\tremaining: 454ms\n",
      "520:\tlearn: 0.1216606\ttotal: 493ms\tremaining: 453ms\n",
      "521:\tlearn: 0.1213975\ttotal: 494ms\tremaining: 452ms\n",
      "522:\tlearn: 0.1211325\ttotal: 495ms\tremaining: 451ms\n",
      "523:\tlearn: 0.1209262\ttotal: 496ms\tremaining: 450ms\n",
      "524:\tlearn: 0.1208480\ttotal: 497ms\tremaining: 449ms\n",
      "525:\tlearn: 0.1207509\ttotal: 497ms\tremaining: 448ms\n",
      "526:\tlearn: 0.1206158\ttotal: 498ms\tremaining: 447ms\n",
      "527:\tlearn: 0.1205110\ttotal: 499ms\tremaining: 446ms\n",
      "528:\tlearn: 0.1203930\ttotal: 500ms\tremaining: 445ms\n",
      "529:\tlearn: 0.1201452\ttotal: 501ms\tremaining: 444ms\n",
      "530:\tlearn: 0.1201169\ttotal: 501ms\tremaining: 443ms\n",
      "531:\tlearn: 0.1200085\ttotal: 502ms\tremaining: 442ms\n",
      "532:\tlearn: 0.1198657\ttotal: 503ms\tremaining: 441ms\n",
      "533:\tlearn: 0.1196232\ttotal: 504ms\tremaining: 440ms\n",
      "534:\tlearn: 0.1193377\ttotal: 505ms\tremaining: 439ms\n",
      "535:\tlearn: 0.1190289\ttotal: 506ms\tremaining: 438ms\n",
      "536:\tlearn: 0.1188287\ttotal: 506ms\tremaining: 437ms\n",
      "537:\tlearn: 0.1185798\ttotal: 507ms\tremaining: 436ms\n",
      "538:\tlearn: 0.1184219\ttotal: 508ms\tremaining: 435ms\n",
      "539:\tlearn: 0.1182179\ttotal: 509ms\tremaining: 433ms\n",
      "540:\tlearn: 0.1179747\ttotal: 510ms\tremaining: 432ms\n",
      "541:\tlearn: 0.1176529\ttotal: 511ms\tremaining: 431ms\n",
      "542:\tlearn: 0.1173189\ttotal: 511ms\tremaining: 430ms\n",
      "543:\tlearn: 0.1171245\ttotal: 512ms\tremaining: 429ms\n",
      "544:\tlearn: 0.1169338\ttotal: 513ms\tremaining: 428ms\n",
      "545:\tlearn: 0.1167072\ttotal: 514ms\tremaining: 427ms\n",
      "546:\tlearn: 0.1165479\ttotal: 515ms\tremaining: 426ms\n",
      "547:\tlearn: 0.1163409\ttotal: 516ms\tremaining: 425ms\n",
      "548:\tlearn: 0.1161854\ttotal: 517ms\tremaining: 424ms\n",
      "549:\tlearn: 0.1160005\ttotal: 517ms\tremaining: 423ms\n",
      "550:\tlearn: 0.1157225\ttotal: 518ms\tremaining: 422ms\n",
      "551:\tlearn: 0.1155778\ttotal: 519ms\tremaining: 421ms\n",
      "552:\tlearn: 0.1152829\ttotal: 520ms\tremaining: 420ms\n",
      "553:\tlearn: 0.1149718\ttotal: 521ms\tremaining: 419ms\n",
      "554:\tlearn: 0.1148512\ttotal: 522ms\tremaining: 418ms\n",
      "555:\tlearn: 0.1146951\ttotal: 522ms\tremaining: 417ms\n",
      "556:\tlearn: 0.1144233\ttotal: 523ms\tremaining: 416ms\n",
      "557:\tlearn: 0.1141937\ttotal: 524ms\tremaining: 415ms\n",
      "558:\tlearn: 0.1139806\ttotal: 525ms\tremaining: 414ms\n",
      "559:\tlearn: 0.1137045\ttotal: 526ms\tremaining: 413ms\n",
      "560:\tlearn: 0.1136682\ttotal: 527ms\tremaining: 412ms\n",
      "561:\tlearn: 0.1133875\ttotal: 528ms\tremaining: 411ms\n",
      "562:\tlearn: 0.1131146\ttotal: 529ms\tremaining: 410ms\n",
      "563:\tlearn: 0.1129320\ttotal: 530ms\tremaining: 410ms\n",
      "564:\tlearn: 0.1126961\ttotal: 531ms\tremaining: 409ms\n",
      "565:\tlearn: 0.1125181\ttotal: 532ms\tremaining: 408ms\n",
      "566:\tlearn: 0.1122147\ttotal: 533ms\tremaining: 407ms\n",
      "567:\tlearn: 0.1120451\ttotal: 533ms\tremaining: 406ms\n",
      "568:\tlearn: 0.1118792\ttotal: 534ms\tremaining: 405ms\n",
      "569:\tlearn: 0.1117151\ttotal: 535ms\tremaining: 404ms\n",
      "570:\tlearn: 0.1115707\ttotal: 536ms\tremaining: 403ms\n",
      "571:\tlearn: 0.1113849\ttotal: 537ms\tremaining: 402ms\n",
      "572:\tlearn: 0.1112638\ttotal: 538ms\tremaining: 401ms\n",
      "573:\tlearn: 0.1111179\ttotal: 538ms\tremaining: 400ms\n",
      "574:\tlearn: 0.1109367\ttotal: 539ms\tremaining: 399ms\n",
      "575:\tlearn: 0.1107219\ttotal: 540ms\tremaining: 398ms\n",
      "576:\tlearn: 0.1103775\ttotal: 541ms\tremaining: 396ms\n",
      "577:\tlearn: 0.1101075\ttotal: 542ms\tremaining: 395ms\n",
      "578:\tlearn: 0.1100294\ttotal: 542ms\tremaining: 394ms\n",
      "579:\tlearn: 0.1099170\ttotal: 543ms\tremaining: 393ms\n",
      "580:\tlearn: 0.1097485\ttotal: 544ms\tremaining: 392ms\n",
      "581:\tlearn: 0.1096125\ttotal: 545ms\tremaining: 391ms\n",
      "582:\tlearn: 0.1095351\ttotal: 546ms\tremaining: 390ms\n",
      "583:\tlearn: 0.1093577\ttotal: 547ms\tremaining: 389ms\n",
      "584:\tlearn: 0.1090072\ttotal: 548ms\tremaining: 388ms\n",
      "585:\tlearn: 0.1088447\ttotal: 549ms\tremaining: 388ms\n",
      "586:\tlearn: 0.1086300\ttotal: 550ms\tremaining: 387ms\n",
      "587:\tlearn: 0.1084722\ttotal: 550ms\tremaining: 386ms\n",
      "588:\tlearn: 0.1082006\ttotal: 551ms\tremaining: 385ms\n",
      "589:\tlearn: 0.1080289\ttotal: 552ms\tremaining: 384ms\n",
      "590:\tlearn: 0.1079756\ttotal: 553ms\tremaining: 383ms\n",
      "591:\tlearn: 0.1078398\ttotal: 554ms\tremaining: 382ms\n",
      "592:\tlearn: 0.1076294\ttotal: 554ms\tremaining: 381ms\n",
      "593:\tlearn: 0.1075718\ttotal: 555ms\tremaining: 380ms\n",
      "594:\tlearn: 0.1072821\ttotal: 556ms\tremaining: 379ms\n",
      "595:\tlearn: 0.1069990\ttotal: 557ms\tremaining: 377ms\n",
      "596:\tlearn: 0.1068853\ttotal: 558ms\tremaining: 376ms\n",
      "597:\tlearn: 0.1068188\ttotal: 559ms\tremaining: 375ms\n",
      "598:\tlearn: 0.1066071\ttotal: 559ms\tremaining: 374ms\n",
      "599:\tlearn: 0.1064975\ttotal: 560ms\tremaining: 373ms\n",
      "600:\tlearn: 0.1063787\ttotal: 561ms\tremaining: 373ms\n",
      "601:\tlearn: 0.1062474\ttotal: 562ms\tremaining: 372ms\n",
      "602:\tlearn: 0.1060495\ttotal: 563ms\tremaining: 371ms\n",
      "603:\tlearn: 0.1058193\ttotal: 564ms\tremaining: 370ms\n",
      "604:\tlearn: 0.1057999\ttotal: 564ms\tremaining: 369ms\n",
      "605:\tlearn: 0.1057822\ttotal: 565ms\tremaining: 368ms\n"
     ]
    },
    {
     "name": "stdout",
     "output_type": "stream",
     "text": [
      "606:\tlearn: 0.1056114\ttotal: 566ms\tremaining: 367ms\n",
      "607:\tlearn: 0.1053447\ttotal: 567ms\tremaining: 366ms\n",
      "608:\tlearn: 0.1051951\ttotal: 568ms\tremaining: 365ms\n",
      "609:\tlearn: 0.1049708\ttotal: 569ms\tremaining: 364ms\n",
      "610:\tlearn: 0.1048602\ttotal: 570ms\tremaining: 363ms\n",
      "611:\tlearn: 0.1046352\ttotal: 571ms\tremaining: 362ms\n",
      "612:\tlearn: 0.1046112\ttotal: 571ms\tremaining: 361ms\n",
      "613:\tlearn: 0.1044675\ttotal: 572ms\tremaining: 360ms\n",
      "614:\tlearn: 0.1043489\ttotal: 573ms\tremaining: 359ms\n",
      "615:\tlearn: 0.1041606\ttotal: 574ms\tremaining: 358ms\n",
      "616:\tlearn: 0.1040179\ttotal: 575ms\tremaining: 357ms\n",
      "617:\tlearn: 0.1037621\ttotal: 576ms\tremaining: 356ms\n",
      "618:\tlearn: 0.1034540\ttotal: 576ms\tremaining: 355ms\n",
      "619:\tlearn: 0.1032796\ttotal: 577ms\tremaining: 354ms\n",
      "620:\tlearn: 0.1030680\ttotal: 578ms\tremaining: 353ms\n",
      "621:\tlearn: 0.1028065\ttotal: 579ms\tremaining: 352ms\n",
      "622:\tlearn: 0.1026972\ttotal: 580ms\tremaining: 351ms\n",
      "623:\tlearn: 0.1025730\ttotal: 580ms\tremaining: 350ms\n",
      "624:\tlearn: 0.1022834\ttotal: 581ms\tremaining: 349ms\n",
      "625:\tlearn: 0.1021613\ttotal: 582ms\tremaining: 348ms\n",
      "626:\tlearn: 0.1020054\ttotal: 583ms\tremaining: 347ms\n",
      "627:\tlearn: 0.1017278\ttotal: 584ms\tremaining: 346ms\n",
      "628:\tlearn: 0.1016495\ttotal: 585ms\tremaining: 345ms\n",
      "629:\tlearn: 0.1014919\ttotal: 586ms\tremaining: 344ms\n",
      "630:\tlearn: 0.1012872\ttotal: 587ms\tremaining: 343ms\n",
      "631:\tlearn: 0.1010885\ttotal: 588ms\tremaining: 342ms\n",
      "632:\tlearn: 0.1009320\ttotal: 589ms\tremaining: 341ms\n",
      "633:\tlearn: 0.1008623\ttotal: 590ms\tremaining: 340ms\n",
      "634:\tlearn: 0.1008446\ttotal: 590ms\tremaining: 339ms\n",
      "635:\tlearn: 0.1005849\ttotal: 591ms\tremaining: 338ms\n",
      "636:\tlearn: 0.1004248\ttotal: 592ms\tremaining: 337ms\n",
      "637:\tlearn: 0.1002012\ttotal: 592ms\tremaining: 336ms\n",
      "638:\tlearn: 0.1001841\ttotal: 593ms\tremaining: 335ms\n",
      "639:\tlearn: 0.1001025\ttotal: 594ms\tremaining: 334ms\n",
      "640:\tlearn: 0.0998797\ttotal: 594ms\tremaining: 333ms\n",
      "641:\tlearn: 0.0997720\ttotal: 595ms\tremaining: 332ms\n",
      "642:\tlearn: 0.0997254\ttotal: 596ms\tremaining: 331ms\n",
      "643:\tlearn: 0.0993982\ttotal: 597ms\tremaining: 330ms\n",
      "644:\tlearn: 0.0993011\ttotal: 597ms\tremaining: 329ms\n",
      "645:\tlearn: 0.0992263\ttotal: 598ms\tremaining: 328ms\n",
      "646:\tlearn: 0.0990252\ttotal: 599ms\tremaining: 327ms\n",
      "647:\tlearn: 0.0988546\ttotal: 600ms\tremaining: 326ms\n",
      "648:\tlearn: 0.0987191\ttotal: 601ms\tremaining: 325ms\n",
      "649:\tlearn: 0.0985177\ttotal: 601ms\tremaining: 324ms\n",
      "650:\tlearn: 0.0983955\ttotal: 602ms\tremaining: 323ms\n",
      "651:\tlearn: 0.0981947\ttotal: 603ms\tremaining: 322ms\n",
      "652:\tlearn: 0.0981404\ttotal: 604ms\tremaining: 321ms\n",
      "653:\tlearn: 0.0981194\ttotal: 605ms\tremaining: 320ms\n",
      "654:\tlearn: 0.0979557\ttotal: 606ms\tremaining: 319ms\n",
      "655:\tlearn: 0.0977721\ttotal: 607ms\tremaining: 318ms\n",
      "656:\tlearn: 0.0976055\ttotal: 608ms\tremaining: 317ms\n",
      "657:\tlearn: 0.0975255\ttotal: 609ms\tremaining: 316ms\n",
      "658:\tlearn: 0.0974051\ttotal: 609ms\tremaining: 315ms\n",
      "659:\tlearn: 0.0972682\ttotal: 610ms\tremaining: 314ms\n",
      "660:\tlearn: 0.0971882\ttotal: 611ms\tremaining: 313ms\n",
      "661:\tlearn: 0.0969740\ttotal: 611ms\tremaining: 312ms\n",
      "662:\tlearn: 0.0967100\ttotal: 612ms\tremaining: 311ms\n",
      "663:\tlearn: 0.0966603\ttotal: 613ms\tremaining: 310ms\n",
      "664:\tlearn: 0.0965322\ttotal: 614ms\tremaining: 309ms\n",
      "665:\tlearn: 0.0964800\ttotal: 614ms\tremaining: 308ms\n",
      "666:\tlearn: 0.0962598\ttotal: 615ms\tremaining: 307ms\n",
      "667:\tlearn: 0.0960116\ttotal: 616ms\tremaining: 306ms\n",
      "668:\tlearn: 0.0958578\ttotal: 617ms\tremaining: 305ms\n",
      "669:\tlearn: 0.0958251\ttotal: 618ms\tremaining: 304ms\n",
      "670:\tlearn: 0.0957580\ttotal: 619ms\tremaining: 303ms\n",
      "671:\tlearn: 0.0955700\ttotal: 620ms\tremaining: 302ms\n",
      "672:\tlearn: 0.0953838\ttotal: 620ms\tremaining: 301ms\n",
      "673:\tlearn: 0.0952273\ttotal: 621ms\tremaining: 300ms\n",
      "674:\tlearn: 0.0951396\ttotal: 622ms\tremaining: 300ms\n",
      "675:\tlearn: 0.0949466\ttotal: 623ms\tremaining: 299ms\n",
      "676:\tlearn: 0.0948942\ttotal: 624ms\tremaining: 298ms\n",
      "677:\tlearn: 0.0948785\ttotal: 625ms\tremaining: 297ms\n",
      "678:\tlearn: 0.0946656\ttotal: 626ms\tremaining: 296ms\n",
      "679:\tlearn: 0.0945009\ttotal: 627ms\tremaining: 295ms\n",
      "680:\tlearn: 0.0943296\ttotal: 628ms\tremaining: 294ms\n",
      "681:\tlearn: 0.0943119\ttotal: 628ms\tremaining: 293ms\n",
      "682:\tlearn: 0.0942454\ttotal: 629ms\tremaining: 292ms\n",
      "683:\tlearn: 0.0941012\ttotal: 630ms\tremaining: 291ms\n",
      "684:\tlearn: 0.0940871\ttotal: 630ms\tremaining: 290ms\n",
      "685:\tlearn: 0.0940147\ttotal: 631ms\tremaining: 289ms\n",
      "686:\tlearn: 0.0938313\ttotal: 632ms\tremaining: 288ms\n",
      "687:\tlearn: 0.0938173\ttotal: 632ms\tremaining: 287ms\n",
      "688:\tlearn: 0.0938040\ttotal: 633ms\tremaining: 286ms\n",
      "689:\tlearn: 0.0937050\ttotal: 634ms\tremaining: 285ms\n",
      "690:\tlearn: 0.0935244\ttotal: 634ms\tremaining: 284ms\n",
      "691:\tlearn: 0.0935109\ttotal: 635ms\tremaining: 283ms\n",
      "692:\tlearn: 0.0934475\ttotal: 636ms\tremaining: 282ms\n",
      "693:\tlearn: 0.0932839\ttotal: 636ms\tremaining: 281ms\n",
      "694:\tlearn: 0.0931992\ttotal: 637ms\tremaining: 280ms\n",
      "695:\tlearn: 0.0929724\ttotal: 638ms\tremaining: 279ms\n",
      "696:\tlearn: 0.0927897\ttotal: 639ms\tremaining: 278ms\n",
      "697:\tlearn: 0.0925231\ttotal: 640ms\tremaining: 277ms\n",
      "698:\tlearn: 0.0922995\ttotal: 641ms\tremaining: 276ms\n",
      "699:\tlearn: 0.0921758\ttotal: 641ms\tremaining: 275ms\n",
      "700:\tlearn: 0.0920808\ttotal: 642ms\tremaining: 274ms\n",
      "701:\tlearn: 0.0920572\ttotal: 643ms\tremaining: 273ms\n",
      "702:\tlearn: 0.0918862\ttotal: 643ms\tremaining: 272ms\n",
      "703:\tlearn: 0.0917758\ttotal: 644ms\tremaining: 271ms\n",
      "704:\tlearn: 0.0916417\ttotal: 645ms\tremaining: 270ms\n",
      "705:\tlearn: 0.0914869\ttotal: 645ms\tremaining: 269ms\n",
      "706:\tlearn: 0.0913243\ttotal: 646ms\tremaining: 268ms\n",
      "707:\tlearn: 0.0912149\ttotal: 647ms\tremaining: 267ms\n",
      "708:\tlearn: 0.0910645\ttotal: 647ms\tremaining: 266ms\n",
      "709:\tlearn: 0.0910212\ttotal: 648ms\tremaining: 265ms\n",
      "710:\tlearn: 0.0909236\ttotal: 649ms\tremaining: 264ms\n",
      "711:\tlearn: 0.0909154\ttotal: 650ms\tremaining: 263ms\n",
      "712:\tlearn: 0.0908351\ttotal: 651ms\tremaining: 262ms\n",
      "713:\tlearn: 0.0906933\ttotal: 651ms\tremaining: 261ms\n",
      "714:\tlearn: 0.0906337\ttotal: 652ms\tremaining: 260ms\n",
      "715:\tlearn: 0.0904801\ttotal: 653ms\tremaining: 259ms\n",
      "716:\tlearn: 0.0903465\ttotal: 654ms\tremaining: 258ms\n",
      "717:\tlearn: 0.0901482\ttotal: 655ms\tremaining: 257ms\n",
      "718:\tlearn: 0.0900829\ttotal: 655ms\tremaining: 256ms\n",
      "719:\tlearn: 0.0899306\ttotal: 656ms\tremaining: 255ms\n",
      "720:\tlearn: 0.0897925\ttotal: 657ms\tremaining: 254ms\n",
      "721:\tlearn: 0.0895912\ttotal: 658ms\tremaining: 253ms\n",
      "722:\tlearn: 0.0895373\ttotal: 659ms\tremaining: 252ms\n",
      "723:\tlearn: 0.0894852\ttotal: 659ms\tremaining: 251ms\n"
     ]
    },
    {
     "name": "stdout",
     "output_type": "stream",
     "text": [
      "724:\tlearn: 0.0894012\ttotal: 660ms\tremaining: 250ms\n",
      "725:\tlearn: 0.0893410\ttotal: 661ms\tremaining: 250ms\n",
      "726:\tlearn: 0.0892496\ttotal: 662ms\tremaining: 248ms\n",
      "727:\tlearn: 0.0892373\ttotal: 662ms\tremaining: 247ms\n",
      "728:\tlearn: 0.0890459\ttotal: 663ms\tremaining: 246ms\n",
      "729:\tlearn: 0.0889696\ttotal: 664ms\tremaining: 245ms\n",
      "730:\tlearn: 0.0887522\ttotal: 664ms\tremaining: 244ms\n",
      "731:\tlearn: 0.0886018\ttotal: 665ms\tremaining: 244ms\n",
      "732:\tlearn: 0.0883811\ttotal: 666ms\tremaining: 243ms\n",
      "733:\tlearn: 0.0882844\ttotal: 666ms\tremaining: 242ms\n",
      "734:\tlearn: 0.0882739\ttotal: 667ms\tremaining: 241ms\n",
      "735:\tlearn: 0.0882535\ttotal: 668ms\tremaining: 240ms\n",
      "736:\tlearn: 0.0881337\ttotal: 668ms\tremaining: 239ms\n",
      "737:\tlearn: 0.0879625\ttotal: 669ms\tremaining: 238ms\n",
      "738:\tlearn: 0.0879332\ttotal: 670ms\tremaining: 237ms\n",
      "739:\tlearn: 0.0877825\ttotal: 670ms\tremaining: 236ms\n",
      "740:\tlearn: 0.0875783\ttotal: 671ms\tremaining: 235ms\n",
      "741:\tlearn: 0.0874158\ttotal: 672ms\tremaining: 234ms\n",
      "742:\tlearn: 0.0872549\ttotal: 672ms\tremaining: 233ms\n",
      "743:\tlearn: 0.0871535\ttotal: 673ms\tremaining: 232ms\n",
      "744:\tlearn: 0.0869954\ttotal: 674ms\tremaining: 231ms\n",
      "745:\tlearn: 0.0868227\ttotal: 674ms\tremaining: 230ms\n",
      "746:\tlearn: 0.0867018\ttotal: 675ms\tremaining: 229ms\n",
      "747:\tlearn: 0.0865934\ttotal: 676ms\tremaining: 228ms\n",
      "748:\tlearn: 0.0865253\ttotal: 676ms\tremaining: 227ms\n",
      "749:\tlearn: 0.0863639\ttotal: 677ms\tremaining: 226ms\n",
      "750:\tlearn: 0.0862587\ttotal: 678ms\tremaining: 225ms\n",
      "751:\tlearn: 0.0862398\ttotal: 678ms\tremaining: 224ms\n",
      "752:\tlearn: 0.0860730\ttotal: 679ms\tremaining: 223ms\n",
      "753:\tlearn: 0.0858499\ttotal: 680ms\tremaining: 222ms\n",
      "754:\tlearn: 0.0856495\ttotal: 681ms\tremaining: 221ms\n",
      "755:\tlearn: 0.0856286\ttotal: 681ms\tremaining: 220ms\n",
      "756:\tlearn: 0.0854523\ttotal: 682ms\tremaining: 219ms\n",
      "757:\tlearn: 0.0853897\ttotal: 683ms\tremaining: 218ms\n",
      "758:\tlearn: 0.0853144\ttotal: 684ms\tremaining: 217ms\n",
      "759:\tlearn: 0.0852118\ttotal: 685ms\tremaining: 216ms\n",
      "760:\tlearn: 0.0850404\ttotal: 685ms\tremaining: 215ms\n",
      "761:\tlearn: 0.0848941\ttotal: 686ms\tremaining: 214ms\n",
      "762:\tlearn: 0.0847836\ttotal: 687ms\tremaining: 213ms\n",
      "763:\tlearn: 0.0846080\ttotal: 688ms\tremaining: 213ms\n",
      "764:\tlearn: 0.0844541\ttotal: 689ms\tremaining: 212ms\n",
      "765:\tlearn: 0.0844463\ttotal: 690ms\tremaining: 211ms\n",
      "766:\tlearn: 0.0842876\ttotal: 691ms\tremaining: 210ms\n",
      "767:\tlearn: 0.0842265\ttotal: 691ms\tremaining: 209ms\n",
      "768:\tlearn: 0.0840111\ttotal: 692ms\tremaining: 208ms\n",
      "769:\tlearn: 0.0840020\ttotal: 693ms\tremaining: 207ms\n",
      "770:\tlearn: 0.0838412\ttotal: 694ms\tremaining: 206ms\n",
      "771:\tlearn: 0.0836350\ttotal: 695ms\tremaining: 205ms\n",
      "772:\tlearn: 0.0835710\ttotal: 696ms\tremaining: 204ms\n",
      "773:\tlearn: 0.0834666\ttotal: 696ms\tremaining: 203ms\n",
      "774:\tlearn: 0.0832822\ttotal: 697ms\tremaining: 202ms\n",
      "775:\tlearn: 0.0830961\ttotal: 698ms\tremaining: 201ms\n",
      "776:\tlearn: 0.0829224\ttotal: 699ms\tremaining: 201ms\n",
      "777:\tlearn: 0.0827975\ttotal: 700ms\tremaining: 200ms\n",
      "778:\tlearn: 0.0826528\ttotal: 701ms\tremaining: 199ms\n",
      "779:\tlearn: 0.0824867\ttotal: 702ms\tremaining: 198ms\n",
      "780:\tlearn: 0.0824214\ttotal: 703ms\tremaining: 197ms\n",
      "781:\tlearn: 0.0823182\ttotal: 704ms\tremaining: 196ms\n",
      "782:\tlearn: 0.0822189\ttotal: 705ms\tremaining: 195ms\n",
      "783:\tlearn: 0.0821136\ttotal: 705ms\tremaining: 194ms\n",
      "784:\tlearn: 0.0819710\ttotal: 706ms\tremaining: 193ms\n",
      "785:\tlearn: 0.0818535\ttotal: 707ms\tremaining: 193ms\n",
      "786:\tlearn: 0.0818167\ttotal: 708ms\tremaining: 192ms\n",
      "787:\tlearn: 0.0817403\ttotal: 709ms\tremaining: 191ms\n",
      "788:\tlearn: 0.0816016\ttotal: 710ms\tremaining: 190ms\n",
      "789:\tlearn: 0.0814655\ttotal: 711ms\tremaining: 189ms\n",
      "790:\tlearn: 0.0812455\ttotal: 712ms\tremaining: 188ms\n",
      "791:\tlearn: 0.0811074\ttotal: 713ms\tremaining: 187ms\n",
      "792:\tlearn: 0.0810471\ttotal: 713ms\tremaining: 186ms\n",
      "793:\tlearn: 0.0808695\ttotal: 714ms\tremaining: 185ms\n",
      "794:\tlearn: 0.0807797\ttotal: 715ms\tremaining: 184ms\n",
      "795:\tlearn: 0.0806944\ttotal: 717ms\tremaining: 184ms\n",
      "796:\tlearn: 0.0806874\ttotal: 718ms\tremaining: 183ms\n",
      "797:\tlearn: 0.0805407\ttotal: 718ms\tremaining: 182ms\n",
      "798:\tlearn: 0.0804214\ttotal: 719ms\tremaining: 181ms\n",
      "799:\tlearn: 0.0801887\ttotal: 720ms\tremaining: 180ms\n",
      "800:\tlearn: 0.0801803\ttotal: 721ms\tremaining: 179ms\n",
      "801:\tlearn: 0.0800500\ttotal: 722ms\tremaining: 178ms\n",
      "802:\tlearn: 0.0799197\ttotal: 723ms\tremaining: 177ms\n",
      "803:\tlearn: 0.0798786\ttotal: 723ms\tremaining: 176ms\n",
      "804:\tlearn: 0.0797118\ttotal: 724ms\tremaining: 175ms\n",
      "805:\tlearn: 0.0795370\ttotal: 725ms\tremaining: 175ms\n",
      "806:\tlearn: 0.0794322\ttotal: 726ms\tremaining: 174ms\n",
      "807:\tlearn: 0.0793171\ttotal: 727ms\tremaining: 173ms\n",
      "808:\tlearn: 0.0791629\ttotal: 727ms\tremaining: 172ms\n",
      "809:\tlearn: 0.0789926\ttotal: 728ms\tremaining: 171ms\n",
      "810:\tlearn: 0.0789275\ttotal: 729ms\tremaining: 170ms\n",
      "811:\tlearn: 0.0788841\ttotal: 730ms\tremaining: 169ms\n",
      "812:\tlearn: 0.0786691\ttotal: 731ms\tremaining: 168ms\n",
      "813:\tlearn: 0.0786201\ttotal: 731ms\tremaining: 167ms\n",
      "814:\tlearn: 0.0785457\ttotal: 732ms\tremaining: 166ms\n",
      "815:\tlearn: 0.0783762\ttotal: 733ms\tremaining: 165ms\n",
      "816:\tlearn: 0.0783612\ttotal: 734ms\tremaining: 164ms\n",
      "817:\tlearn: 0.0783485\ttotal: 735ms\tremaining: 164ms\n",
      "818:\tlearn: 0.0782711\ttotal: 736ms\tremaining: 163ms\n",
      "819:\tlearn: 0.0781333\ttotal: 737ms\tremaining: 162ms\n",
      "820:\tlearn: 0.0780193\ttotal: 737ms\tremaining: 161ms\n",
      "821:\tlearn: 0.0779234\ttotal: 738ms\tremaining: 160ms\n",
      "822:\tlearn: 0.0777779\ttotal: 739ms\tremaining: 159ms\n",
      "823:\tlearn: 0.0777724\ttotal: 740ms\tremaining: 158ms\n",
      "824:\tlearn: 0.0777438\ttotal: 741ms\tremaining: 157ms\n",
      "825:\tlearn: 0.0776691\ttotal: 742ms\tremaining: 156ms\n",
      "826:\tlearn: 0.0776231\ttotal: 743ms\tremaining: 155ms\n",
      "827:\tlearn: 0.0774645\ttotal: 744ms\tremaining: 155ms\n",
      "828:\tlearn: 0.0773452\ttotal: 745ms\tremaining: 154ms\n",
      "829:\tlearn: 0.0773330\ttotal: 746ms\tremaining: 153ms\n",
      "830:\tlearn: 0.0773211\ttotal: 747ms\tremaining: 152ms\n",
      "831:\tlearn: 0.0771786\ttotal: 748ms\tremaining: 151ms\n",
      "832:\tlearn: 0.0771474\ttotal: 748ms\tremaining: 150ms\n",
      "833:\tlearn: 0.0771396\ttotal: 749ms\tremaining: 149ms\n",
      "834:\tlearn: 0.0771327\ttotal: 750ms\tremaining: 148ms\n",
      "835:\tlearn: 0.0770789\ttotal: 751ms\tremaining: 147ms\n",
      "836:\tlearn: 0.0770314\ttotal: 752ms\tremaining: 146ms\n",
      "837:\tlearn: 0.0769800\ttotal: 753ms\tremaining: 145ms\n",
      "838:\tlearn: 0.0768838\ttotal: 753ms\tremaining: 145ms\n",
      "839:\tlearn: 0.0767762\ttotal: 754ms\tremaining: 144ms\n",
      "840:\tlearn: 0.0766873\ttotal: 755ms\tremaining: 143ms\n"
     ]
    },
    {
     "name": "stdout",
     "output_type": "stream",
     "text": [
      "841:\tlearn: 0.0765602\ttotal: 756ms\tremaining: 142ms\n",
      "842:\tlearn: 0.0764422\ttotal: 757ms\tremaining: 141ms\n",
      "843:\tlearn: 0.0764166\ttotal: 758ms\tremaining: 140ms\n",
      "844:\tlearn: 0.0762615\ttotal: 759ms\tremaining: 139ms\n",
      "845:\tlearn: 0.0761596\ttotal: 760ms\tremaining: 138ms\n",
      "846:\tlearn: 0.0760188\ttotal: 761ms\tremaining: 137ms\n",
      "847:\tlearn: 0.0758914\ttotal: 761ms\tremaining: 136ms\n",
      "848:\tlearn: 0.0757746\ttotal: 762ms\tremaining: 136ms\n",
      "849:\tlearn: 0.0756534\ttotal: 763ms\tremaining: 135ms\n",
      "850:\tlearn: 0.0755506\ttotal: 764ms\tremaining: 134ms\n",
      "851:\tlearn: 0.0755215\ttotal: 765ms\tremaining: 133ms\n",
      "852:\tlearn: 0.0754770\ttotal: 766ms\tremaining: 132ms\n",
      "853:\tlearn: 0.0753510\ttotal: 767ms\tremaining: 131ms\n",
      "854:\tlearn: 0.0753390\ttotal: 768ms\tremaining: 130ms\n",
      "855:\tlearn: 0.0752718\ttotal: 769ms\tremaining: 129ms\n",
      "856:\tlearn: 0.0751395\ttotal: 770ms\tremaining: 128ms\n",
      "857:\tlearn: 0.0750599\ttotal: 770ms\tremaining: 128ms\n",
      "858:\tlearn: 0.0748877\ttotal: 771ms\tremaining: 127ms\n",
      "859:\tlearn: 0.0747622\ttotal: 772ms\tremaining: 126ms\n",
      "860:\tlearn: 0.0746544\ttotal: 773ms\tremaining: 125ms\n",
      "861:\tlearn: 0.0744655\ttotal: 774ms\tremaining: 124ms\n",
      "862:\tlearn: 0.0744004\ttotal: 775ms\tremaining: 123ms\n",
      "863:\tlearn: 0.0742861\ttotal: 775ms\tremaining: 122ms\n",
      "864:\tlearn: 0.0741538\ttotal: 776ms\tremaining: 121ms\n",
      "865:\tlearn: 0.0740667\ttotal: 777ms\tremaining: 120ms\n",
      "866:\tlearn: 0.0739280\ttotal: 778ms\tremaining: 119ms\n",
      "867:\tlearn: 0.0738330\ttotal: 779ms\tremaining: 118ms\n",
      "868:\tlearn: 0.0736994\ttotal: 780ms\tremaining: 118ms\n",
      "869:\tlearn: 0.0736206\ttotal: 781ms\tremaining: 117ms\n",
      "870:\tlearn: 0.0735800\ttotal: 782ms\tremaining: 116ms\n",
      "871:\tlearn: 0.0734185\ttotal: 783ms\tremaining: 115ms\n",
      "872:\tlearn: 0.0734082\ttotal: 783ms\tremaining: 114ms\n",
      "873:\tlearn: 0.0733312\ttotal: 784ms\tremaining: 113ms\n",
      "874:\tlearn: 0.0733078\ttotal: 785ms\tremaining: 112ms\n",
      "875:\tlearn: 0.0731470\ttotal: 786ms\tremaining: 111ms\n",
      "876:\tlearn: 0.0731378\ttotal: 787ms\tremaining: 110ms\n",
      "877:\tlearn: 0.0730401\ttotal: 788ms\tremaining: 109ms\n",
      "878:\tlearn: 0.0729498\ttotal: 788ms\tremaining: 109ms\n",
      "879:\tlearn: 0.0727686\ttotal: 789ms\tremaining: 108ms\n",
      "880:\tlearn: 0.0726351\ttotal: 790ms\tremaining: 107ms\n",
      "881:\tlearn: 0.0725517\ttotal: 791ms\tremaining: 106ms\n",
      "882:\tlearn: 0.0724025\ttotal: 792ms\tremaining: 105ms\n",
      "883:\tlearn: 0.0722073\ttotal: 792ms\tremaining: 104ms\n",
      "884:\tlearn: 0.0720396\ttotal: 793ms\tremaining: 103ms\n",
      "885:\tlearn: 0.0720120\ttotal: 794ms\tremaining: 102ms\n",
      "886:\tlearn: 0.0719726\ttotal: 795ms\tremaining: 101ms\n",
      "887:\tlearn: 0.0718749\ttotal: 796ms\tremaining: 100ms\n",
      "888:\tlearn: 0.0717964\ttotal: 797ms\tremaining: 99.5ms\n",
      "889:\tlearn: 0.0717567\ttotal: 798ms\tremaining: 98.6ms\n",
      "890:\tlearn: 0.0716388\ttotal: 799ms\tremaining: 97.7ms\n",
      "891:\tlearn: 0.0715138\ttotal: 800ms\tremaining: 96.8ms\n",
      "892:\tlearn: 0.0714565\ttotal: 801ms\tremaining: 95.9ms\n",
      "893:\tlearn: 0.0712698\ttotal: 801ms\tremaining: 95ms\n",
      "894:\tlearn: 0.0711751\ttotal: 802ms\tremaining: 94.1ms\n",
      "895:\tlearn: 0.0711022\ttotal: 803ms\tremaining: 93.2ms\n",
      "896:\tlearn: 0.0710142\ttotal: 804ms\tremaining: 92.3ms\n",
      "897:\tlearn: 0.0710074\ttotal: 805ms\tremaining: 91.4ms\n",
      "898:\tlearn: 0.0708589\ttotal: 805ms\tremaining: 90.5ms\n",
      "899:\tlearn: 0.0707510\ttotal: 806ms\tremaining: 89.6ms\n",
      "900:\tlearn: 0.0707127\ttotal: 807ms\tremaining: 88.7ms\n",
      "901:\tlearn: 0.0705619\ttotal: 808ms\tremaining: 87.7ms\n",
      "902:\tlearn: 0.0705239\ttotal: 808ms\tremaining: 86.8ms\n",
      "903:\tlearn: 0.0703975\ttotal: 809ms\tremaining: 85.9ms\n",
      "904:\tlearn: 0.0703652\ttotal: 810ms\tremaining: 85ms\n",
      "905:\tlearn: 0.0702591\ttotal: 811ms\tremaining: 84.1ms\n",
      "906:\tlearn: 0.0702247\ttotal: 811ms\tremaining: 83.2ms\n",
      "907:\tlearn: 0.0701575\ttotal: 812ms\tremaining: 82.3ms\n",
      "908:\tlearn: 0.0699995\ttotal: 815ms\tremaining: 81.6ms\n",
      "909:\tlearn: 0.0699503\ttotal: 816ms\tremaining: 80.7ms\n",
      "910:\tlearn: 0.0698732\ttotal: 817ms\tremaining: 79.8ms\n",
      "911:\tlearn: 0.0697635\ttotal: 818ms\tremaining: 78.9ms\n",
      "912:\tlearn: 0.0697132\ttotal: 819ms\tremaining: 78ms\n",
      "913:\tlearn: 0.0696236\ttotal: 820ms\tremaining: 77.1ms\n",
      "914:\tlearn: 0.0695213\ttotal: 821ms\tremaining: 76.2ms\n",
      "915:\tlearn: 0.0694999\ttotal: 821ms\tremaining: 75.3ms\n",
      "916:\tlearn: 0.0693482\ttotal: 822ms\tremaining: 74.4ms\n",
      "917:\tlearn: 0.0693022\ttotal: 823ms\tremaining: 73.5ms\n",
      "918:\tlearn: 0.0691579\ttotal: 823ms\tremaining: 72.6ms\n",
      "919:\tlearn: 0.0690721\ttotal: 824ms\tremaining: 71.6ms\n",
      "920:\tlearn: 0.0690447\ttotal: 825ms\tremaining: 70.7ms\n",
      "921:\tlearn: 0.0690136\ttotal: 825ms\tremaining: 69.8ms\n",
      "922:\tlearn: 0.0689929\ttotal: 826ms\tremaining: 68.9ms\n",
      "923:\tlearn: 0.0688854\ttotal: 827ms\tremaining: 68ms\n",
      "924:\tlearn: 0.0687723\ttotal: 828ms\tremaining: 67.1ms\n",
      "925:\tlearn: 0.0687494\ttotal: 828ms\tremaining: 66.2ms\n",
      "926:\tlearn: 0.0686998\ttotal: 829ms\tremaining: 65.3ms\n",
      "927:\tlearn: 0.0685746\ttotal: 830ms\tremaining: 64.4ms\n",
      "928:\tlearn: 0.0685474\ttotal: 831ms\tremaining: 63.5ms\n",
      "929:\tlearn: 0.0685142\ttotal: 831ms\tremaining: 62.6ms\n",
      "930:\tlearn: 0.0683727\ttotal: 832ms\tremaining: 61.7ms\n",
      "931:\tlearn: 0.0682929\ttotal: 833ms\tremaining: 60.8ms\n",
      "932:\tlearn: 0.0682054\ttotal: 834ms\tremaining: 59.9ms\n",
      "933:\tlearn: 0.0681979\ttotal: 835ms\tremaining: 59ms\n",
      "934:\tlearn: 0.0680309\ttotal: 835ms\tremaining: 58.1ms\n",
      "935:\tlearn: 0.0679986\ttotal: 836ms\tremaining: 57.2ms\n",
      "936:\tlearn: 0.0679569\ttotal: 837ms\tremaining: 56.3ms\n",
      "937:\tlearn: 0.0679472\ttotal: 838ms\tremaining: 55.4ms\n",
      "938:\tlearn: 0.0678838\ttotal: 838ms\tremaining: 54.5ms\n",
      "939:\tlearn: 0.0677530\ttotal: 839ms\tremaining: 53.6ms\n",
      "940:\tlearn: 0.0676900\ttotal: 840ms\tremaining: 52.7ms\n",
      "941:\tlearn: 0.0675598\ttotal: 841ms\tremaining: 51.8ms\n",
      "942:\tlearn: 0.0675337\ttotal: 842ms\tremaining: 50.9ms\n",
      "943:\tlearn: 0.0674893\ttotal: 842ms\tremaining: 50ms\n",
      "944:\tlearn: 0.0674378\ttotal: 843ms\tremaining: 49.1ms\n",
      "945:\tlearn: 0.0673080\ttotal: 844ms\tremaining: 48.2ms\n",
      "946:\tlearn: 0.0671783\ttotal: 845ms\tremaining: 47.3ms\n",
      "947:\tlearn: 0.0671220\ttotal: 846ms\tremaining: 46.4ms\n",
      "948:\tlearn: 0.0670955\ttotal: 846ms\tremaining: 45.5ms\n",
      "949:\tlearn: 0.0670703\ttotal: 847ms\tremaining: 44.6ms\n",
      "950:\tlearn: 0.0669100\ttotal: 848ms\tremaining: 43.7ms\n",
      "951:\tlearn: 0.0668427\ttotal: 849ms\tremaining: 42.8ms\n"
     ]
    },
    {
     "name": "stdout",
     "output_type": "stream",
     "text": [
      "952:\tlearn: 0.0667319\ttotal: 850ms\tremaining: 41.9ms\n",
      "953:\tlearn: 0.0666201\ttotal: 851ms\tremaining: 41ms\n",
      "954:\tlearn: 0.0665249\ttotal: 852ms\tremaining: 40.2ms\n",
      "955:\tlearn: 0.0664771\ttotal: 853ms\tremaining: 39.3ms\n",
      "956:\tlearn: 0.0663457\ttotal: 854ms\tremaining: 38.4ms\n",
      "957:\tlearn: 0.0662446\ttotal: 855ms\tremaining: 37.5ms\n",
      "958:\tlearn: 0.0661245\ttotal: 855ms\tremaining: 36.6ms\n",
      "959:\tlearn: 0.0660763\ttotal: 856ms\tremaining: 35.7ms\n",
      "960:\tlearn: 0.0660693\ttotal: 857ms\tremaining: 34.8ms\n",
      "961:\tlearn: 0.0659938\ttotal: 857ms\tremaining: 33.9ms\n",
      "962:\tlearn: 0.0659656\ttotal: 858ms\tremaining: 33ms\n",
      "963:\tlearn: 0.0659336\ttotal: 859ms\tremaining: 32.1ms\n",
      "964:\tlearn: 0.0658772\ttotal: 859ms\tremaining: 31.2ms\n",
      "965:\tlearn: 0.0657666\ttotal: 860ms\tremaining: 30.3ms\n",
      "966:\tlearn: 0.0656672\ttotal: 861ms\tremaining: 29.4ms\n",
      "967:\tlearn: 0.0655864\ttotal: 861ms\tremaining: 28.5ms\n",
      "968:\tlearn: 0.0655231\ttotal: 862ms\tremaining: 27.6ms\n",
      "969:\tlearn: 0.0654738\ttotal: 863ms\tremaining: 26.7ms\n",
      "970:\tlearn: 0.0653828\ttotal: 863ms\tremaining: 25.8ms\n",
      "971:\tlearn: 0.0652935\ttotal: 864ms\tremaining: 24.9ms\n",
      "972:\tlearn: 0.0651969\ttotal: 865ms\tremaining: 24ms\n",
      "973:\tlearn: 0.0651613\ttotal: 865ms\tremaining: 23.1ms\n",
      "974:\tlearn: 0.0650642\ttotal: 866ms\tremaining: 22.2ms\n",
      "975:\tlearn: 0.0649379\ttotal: 867ms\tremaining: 21.3ms\n",
      "976:\tlearn: 0.0649172\ttotal: 868ms\tremaining: 20.4ms\n",
      "977:\tlearn: 0.0648678\ttotal: 869ms\tremaining: 19.5ms\n",
      "978:\tlearn: 0.0648379\ttotal: 869ms\tremaining: 18.6ms\n",
      "979:\tlearn: 0.0647269\ttotal: 870ms\tremaining: 17.8ms\n",
      "980:\tlearn: 0.0646293\ttotal: 871ms\tremaining: 16.9ms\n",
      "981:\tlearn: 0.0645376\ttotal: 872ms\tremaining: 16ms\n",
      "982:\tlearn: 0.0645310\ttotal: 873ms\tremaining: 15.1ms\n",
      "983:\tlearn: 0.0645011\ttotal: 875ms\tremaining: 14.2ms\n",
      "984:\tlearn: 0.0644861\ttotal: 876ms\tremaining: 13.3ms\n",
      "985:\tlearn: 0.0643688\ttotal: 876ms\tremaining: 12.4ms\n",
      "986:\tlearn: 0.0643454\ttotal: 877ms\tremaining: 11.6ms\n",
      "987:\tlearn: 0.0642356\ttotal: 878ms\tremaining: 10.7ms\n",
      "988:\tlearn: 0.0641390\ttotal: 879ms\tremaining: 9.78ms\n",
      "989:\tlearn: 0.0640257\ttotal: 880ms\tremaining: 8.89ms\n",
      "990:\tlearn: 0.0639687\ttotal: 881ms\tremaining: 8ms\n",
      "991:\tlearn: 0.0638847\ttotal: 882ms\tremaining: 7.11ms\n",
      "992:\tlearn: 0.0637682\ttotal: 882ms\tremaining: 6.22ms\n",
      "993:\tlearn: 0.0636786\ttotal: 883ms\tremaining: 5.33ms\n",
      "994:\tlearn: 0.0636015\ttotal: 884ms\tremaining: 4.44ms\n",
      "995:\tlearn: 0.0635707\ttotal: 885ms\tremaining: 3.55ms\n",
      "996:\tlearn: 0.0635321\ttotal: 886ms\tremaining: 2.67ms\n",
      "997:\tlearn: 0.0634928\ttotal: 887ms\tremaining: 1.78ms\n",
      "998:\tlearn: 0.0634596\ttotal: 888ms\tremaining: 888us\n",
      "999:\tlearn: 0.0634525\ttotal: 888ms\tremaining: 0us\n"
     ]
    },
    {
     "data": {
      "text/plain": [
       "<catboost.core.CatBoostRegressor at 0x7f7a881f45e0>"
      ]
     },
     "execution_count": 9,
     "metadata": {},
     "output_type": "execute_result"
    }
   ],
   "source": [
    "#Train the Model \n",
    "prior_model = ctb.CatBoostRegressor()\n",
    "prior_model.fit(X_train,Y_train)"
   ]
  },
  {
   "cell_type": "code",
   "execution_count": 10,
   "id": "af65dcda",
   "metadata": {
    "execution": {
     "iopub.execute_input": "2022-06-12T05:52:26.565386Z",
     "iopub.status.busy": "2022-06-12T05:52:26.565006Z",
     "iopub.status.idle": "2022-06-12T05:52:26.572872Z",
     "shell.execute_reply": "2022-06-12T05:52:26.573114Z"
    },
    "id": "af65dcda",
    "papermill": {
     "duration": 0.021899,
     "end_time": "2022-06-12T05:52:26.573234",
     "exception": false,
     "start_time": "2022-06-12T05:52:26.551335",
     "status": "completed"
    },
    "tags": []
   },
   "outputs": [
    {
     "data": {
      "application/scrapbook.scrap.json+json": {
       "data": 0.12631362001212237,
       "encoder": "json",
       "name": "Prior Model MSE",
       "version": 1
      }
     },
     "metadata": {
      "scrapbook": {
       "data": true,
       "display": false,
       "name": "Prior Model MSE"
      }
     },
     "output_type": "display_data"
    },
    {
     "data": {
      "application/scrapbook.scrap.json+json": {
       "data": 1.2088911547289194,
       "encoder": "json",
       "name": "ABC Pre-generator MSE",
       "version": 1
      }
     },
     "metadata": {
      "scrapbook": {
       "data": true,
       "display": false,
       "name": "ABC Pre-generator MSE"
      }
     },
     "output_type": "display_data"
    },
    {
     "data": {
      "application/scrapbook.scrap.json+json": {
       "data": 0.24146787953903262,
       "encoder": "json",
       "name": "Prior Model MSE",
       "version": 1
      }
     },
     "metadata": {
      "scrapbook": {
       "data": true,
       "display": false,
       "name": "Prior Model MSE"
      }
     },
     "output_type": "display_data"
    },
    {
     "data": {
      "application/scrapbook.scrap.json+json": {
       "data": 0.8405597430846034,
       "encoder": "json",
       "name": "ABC Pre-generator MSE",
       "version": 1
      }
     },
     "metadata": {
      "scrapbook": {
       "data": true,
       "display": false,
       "name": "ABC Pre-generator MSE"
      }
     },
     "output_type": "display_data"
    }
   ],
   "source": [
    "y_pred = prior_model.predict(X_test)\n",
    "y_abc = y_pred + np.random.normal(0,variance, y_pred.shape) + bias \n",
    "mse = mean_squared_error(y_pred,Y_test)\n",
    "sb.glue(\"Prior Model MSE\",mse)\n",
    "mse = mean_squared_error(y_abc,Y_test)\n",
    "sb.glue(\"ABC Pre-generator MSE\",mse)\n",
    "mae = mean_absolute_error(y_pred,Y_test)\n",
    "sb.glue(\"Prior Model MSE\",mae)\n",
    "mae = mean_absolute_error(y_abc,Y_test)\n",
    "sb.glue(\"ABC Pre-generator MSE\",mae)"
   ]
  },
  {
   "cell_type": "markdown",
   "id": "25609da2",
   "metadata": {
    "papermill": {
     "duration": 0.010771,
     "end_time": "2022-06-12T05:52:26.594308",
     "exception": false,
     "start_time": "2022-06-12T05:52:26.583537",
     "status": "completed"
    },
    "tags": []
   },
   "source": [
    "# ABC GAN Model"
   ]
  },
  {
   "cell_type": "code",
   "execution_count": 11,
   "id": "dfc3464d",
   "metadata": {
    "execution": {
     "iopub.execute_input": "2022-06-12T05:52:26.618688Z",
     "iopub.status.busy": "2022-06-12T05:52:26.618312Z",
     "iopub.status.idle": "2022-06-12T05:52:26.620788Z",
     "shell.execute_reply": "2022-06-12T05:52:26.621027Z"
    },
    "papermill": {
     "duration": 0.016351,
     "end_time": "2022-06-12T05:52:26.621139",
     "exception": false,
     "start_time": "2022-06-12T05:52:26.604788",
     "status": "completed"
    },
    "tags": []
   },
   "outputs": [],
   "source": [
    "gen = network.Generator(n_features+1).to(device)\n",
    "disc = network.Discriminator(n_features+1).to(device)\n",
    "\n",
    "criterion = torch.nn.BCELoss()\n",
    "gen_opt = torch.optim.Adam(gen.parameters(), lr=0.001, betas=(0.5, 0.999))\n",
    "disc_opt = torch.optim.Adam(disc.parameters(), lr=0.001, betas=(0.5, 0.999))"
   ]
  },
  {
   "cell_type": "code",
   "execution_count": 12,
   "id": "b75fdd85",
   "metadata": {
    "execution": {
     "iopub.execute_input": "2022-06-12T05:52:26.644068Z",
     "iopub.status.busy": "2022-06-12T05:52:26.643697Z",
     "iopub.status.idle": "2022-06-12T05:53:29.203794Z",
     "shell.execute_reply": "2022-06-12T05:53:29.203521Z"
    },
    "papermill": {
     "duration": 62.572663,
     "end_time": "2022-06-12T05:53:29.203898",
     "exception": false,
     "start_time": "2022-06-12T05:52:26.631235",
     "status": "completed"
    },
    "tags": []
   },
   "outputs": [
    {
     "data": {
      "image/png": "[encoded data removed]",
      "text/plain": [
       "<Figure size 432x288 with 1 Axes>"
      ]
     },
     "metadata": {
      "needs_background": "light"
     },
     "output_type": "display_data"
    },
    {
     "data": {
      "image/png": "[encoded data removed]",
      "text/plain": [
       "<Figure size 432x288 with 1 Axes>"
      ]
     },
     "metadata": {
      "needs_background": "light"
     },
     "output_type": "display_data"
    }
   ],
   "source": [
    "#Training the ABC_GAN \n",
    "ABC_train_test2.training_GAN(disc,gen,disc_opt,gen_opt,train_data,batch_size,n_epochs,criterion,prior_model,variance,bias,device)"
   ]
  },
  {
   "cell_type": "code",
   "execution_count": 13,
   "id": "1fa7c368",
   "metadata": {
    "execution": {
     "iopub.execute_input": "2022-06-12T05:53:29.229838Z",
     "iopub.status.busy": "2022-06-12T05:53:29.229386Z",
     "iopub.status.idle": "2022-06-12T05:53:29.545611Z",
     "shell.execute_reply": "2022-06-12T05:53:29.545852Z"
    },
    "papermill": {
     "duration": 0.330576,
     "end_time": "2022-06-12T05:53:29.545976",
     "exception": false,
     "start_time": "2022-06-12T05:53:29.215400",
     "status": "completed"
    },
    "tags": []
   },
   "outputs": [
    {
     "data": {
      "application/scrapbook.scrap.json+json": {
       "data": 0.2888108286806916,
       "encoder": "json",
       "name": "ABC-GAN Model 1 MSE",
       "version": 1
      }
     },
     "metadata": {
      "scrapbook": {
       "data": true,
       "display": false,
       "name": "ABC-GAN Model 1 MSE"
      }
     },
     "output_type": "display_data"
    },
    {
     "data": {
      "application/scrapbook.scrap.json+json": {
       "data": 0.31883019054600714,
       "encoder": "json",
       "name": "ABC-GAN Model 1 MAE",
       "version": 1
      }
     },
     "metadata": {
      "scrapbook": {
       "data": true,
       "display": false,
       "name": "ABC-GAN Model 1 MAE"
      }
     },
     "output_type": "display_data"
    },
    {
     "data": {
      "application/scrapbook.scrap.json+json": {
       "data": 32.52067943569273,
       "encoder": "json",
       "name": "ABC-GAN Model 1 Manhattan Distance",
       "version": 1
      }
     },
     "metadata": {
      "scrapbook": {
       "data": true,
       "display": false,
       "name": "ABC-GAN Model 1 Manhattan Distance"
      }
     },
     "output_type": "display_data"
    },
    {
     "data": {
      "application/scrapbook.scrap.json+json": {
       "data": 5.4273721619611734,
       "encoder": "json",
       "name": "ABC-GAN Model 1 Euclidean distance",
       "version": 1
      }
     },
     "metadata": {
      "scrapbook": {
       "data": true,
       "display": false,
       "name": "ABC-GAN Model 1 Euclidean distance"
      }
     },
     "output_type": "display_data"
    },
    {
     "data": {
      "application/scrapbook.scrap.json+json": {
       "data": [
        [
         0.2837273243809032,
         0.28847673119590794,
         0.2826321188062334,
         0.2947361981464456,
         0.2913467478933048,
         0.2895982427396553,
         0.28973206223028236,
         0.2878080064356195,
         0.2865618169464063,
         0.287626251623083,
         0.28487679721623166,
         0.29488707583958773,
         0.28613546066083795,
         0.30238911153662035,
         0.29442913982587676,
         0.28570840564150224,
         0.296624801573182,
         0.28625490193220143,
         0.28366119397254747,
         0.29111524931649746,
         0.2851049605740347,
         0.28313840548456815,
         0.2876422247482006,
         0.29083721356833125,
         0.28546468899330335,
         0.28551629389182254,
         0.2932110268202746,
         0.2795541401562584,
         0.2861722837407532,
         0.29348702906254986,
         0.2891574506297932,
         0.29292935558546984,
         0.28768152629166693,
         0.285025051745829,
         0.29297036104882906,
         0.28353216012053684,
         0.2884125204357312,
         0.2862056743373462,
         0.2889451252329149,
         0.27928549994737967,
         0.2917756610089585,
         0.2853022660746382,
         0.29848492002714544,
         0.29380135198442675,
         0.28063010525598026,
         0.28565626626124085,
         0.2904903636429779,
         0.28395262848341474,
         0.29044118365120036,
         0.28630672754248254,
         0.2926784098293762,
         0.2988122206284062,
         0.2939937526422394,
         0.2968425803653901,
         0.29019939639534614,
         0.2927810026224648,
         0.2908351349017616,
         0.2851918114268911,
         0.28706739108431245,
         0.2886279916522787,
         0.27988688196170286,
         0.2890681549375039,
         0.28793491381520675,
         0.2858268368744903,
         0.2907847281189705,
         0.29094270348289614,
         0.2905200572679373,
         0.2886485030075403,
         0.28635434765414813,
         0.2861594922207685,
         0.29490281472230223,
         0.2947949856396012,
         0.2960502361760307,
         0.2940744082598837,
         0.29142122525940556,
         0.2839627705453123,
         0.2781909807779936,
         0.29648984491249664,
         0.29048665307609073,
         0.2956930910004432,
         0.2910059250297813,
         0.29035120206706455,
         0.29967236029771366,
         0.29830619499966177,
         0.2842430473020284,
         0.2893847810523249,
         0.28846617644678557,
         0.29099455243244055,
         0.27907137194278686,
         0.29538296994748936,
         0.2890732783724038,
         0.28927960260238633,
         0.2761497644265774,
         0.2818011490031153,
         0.2797444152503782,
         0.28637461260541447,
         0.284986273739589,
         0.2905704243259641,
         0.2824650440459279,
         0.2850942966591495
        ],
        [
         0.31734601179977845,
         0.317719973897671,
         0.31777098878998966,
         0.32033618249218254,
         0.3196143435825612,
         0.3192756667769715,
         0.3188903660641289,
         0.3184919896188612,
         0.31996634903856935,
         0.3180530874204694,
         0.31822681355783167,
         0.32100045836220187,
         0.31824603985410693,
         0.32029182385361077,
         0.31944104428311776,
         0.31872113693651616,
         0.3208199733795196,
         0.3183426971857746,
         0.3185835801904984,
         0.32015768842150766,
         0.31777394981141766,
         0.3172510662024804,
         0.3181744593506058,
         0.31730690278916385,
         0.31797213525529583,
         0.3174163992608003,
         0.31842793237564027,
         0.3157254610320224,
         0.3193439915958865,
         0.3202643613057101,
         0.31792763227998627,
         0.31983093451708555,
         0.3184486009436203,
         0.317974543911131,
         0.3207162036651782,
         0.3156893137367625,
         0.3182583726832972,
         0.31835308924828676,
         0.31938622572331454,
         0.3171949775743426,
         0.31935540646972027,
         0.3188309246016776,
         0.3208374645670547,
         0.3199864013997071,
         0.3155290730772357,
         0.31829878959950864,
         0.31851292308419943,
         0.3165993959478596,
         0.3211412142195246,
         0.31838300599552255,
         0.3196626010296099,
         0.32086611372948276,
         0.31995454184053573,
         0.3208956890648194,
         0.3193912368961701,
         0.3196030075607054,
         0.31871654394575777,
         0.32015068487574655,
         0.31801127461606965,
         0.318611786445128,
         0.3171346225027068,
         0.31929354386075454,
         0.31846205468344335,
         0.31922515246140604,
         0.31945430679137216,
         0.3198150478339955,
         0.31885059899193985,
         0.3180692262545812,
         0.3187085134981602,
         0.31829857565097364,
         0.3195646413437584,
         0.31953903640090836,
         0.32111850112457485,
         0.31989631306964394,
         0.32102394989673416,
         0.3180725312810026,
         0.31506521735048176,
         0.3205433509257786,
         0.3210174288491116,
         0.3230187337224682,
         0.31918996282141,
         0.31889222443615106,
         0.32140284259894897,
         0.3197120963687114,
         0.31748885875019955,
         0.3185420389305435,
         0.31834123124751973,
         0.31985008477361176,
         0.3167919261454075,
         0.3216175398442383,
         0.3192653288042136,
         0.3181213173540492,
         0.31644887398636223,
         0.31782601125465304,
         0.31557151209563017,
         0.3181997946847011,
         0.31798083468468163,
         0.31772247484574717,
         0.31678769991313127,
         0.3190242068330739
        ],
        [
         32.3692932035774,
         32.40743733756244,
         32.412640856578946,
         32.67429061420262,
         32.60066304542124,
         32.56611801125109,
         32.52681733854115,
         32.48618294112384,
         32.636567601934075,
         32.44141491688788,
         32.45913498289883,
         32.74204675294459,
         32.46109606511891,
         32.6697660330683,
         32.58298651687801,
         32.50955596752465,
         32.723637284711,
         32.470955112949014,
         32.49552517943084,
         32.65608421899378,
         32.412942880764604,
         32.359608752653,
         32.45379485376179,
         32.36530408449471,
         32.43315779604018,
         32.376472724601626,
         32.47964910231531,
         32.20399702526629,
         32.57308714278042,
         32.666964853182435,
         32.4286184925586,
         32.622755320742726,
         32.48175729624927,
         32.43340347893536,
         32.713052773848176,
         32.200310001149774,
         32.46235401369631,
         32.47201510332525,
         32.57739502377808,
         32.353887712582946,
         32.574251459911466,
         32.520754309371114,
         32.72542138583958,
         32.63861294277012,
         32.183965453878045,
         32.46647653914988,
         32.48831815458834,
         32.293138386681676,
         32.75640385039151,
         32.4750666115433,
         32.60558530502021,
         32.72834360040724,
         32.63536326773465,
         32.73136028461158,
         32.57790616340935,
         32.599506771191955,
         32.509087482467294,
         32.65536985732615,
         32.437150010839105,
         32.498402217403054,
         32.34773149527609,
         32.567941473796964,
         32.483129577711225,
         32.56096555106342,
         32.58433929271996,
         32.62113487906754,
         32.52276109717786,
         32.443061077967286,
         32.50826837681234,
         32.46645471639931,
         32.595593417063355,
         32.59298171289265,
         32.754087114706635,
         32.62942393310368,
         32.74444288946688,
         32.443398190662265,
         32.13665216974914,
         32.69542179442942,
         32.74377774260938,
         32.94791083969176,
         32.55737620778382,
         32.52700689248741,
         32.7830899450928,
         32.61063382960856,
         32.383863592520356,
         32.49128797091544,
         32.470805587247014,
         32.6247086469084,
         32.312776466831565,
         32.804989064112306,
         32.56506353802979,
         32.448374370113015,
         32.27778514660895,
         32.41825314797461,
         32.18829423375428,
         32.45637905783951,
         32.43404513783753,
         32.40769243426621,
         32.31234539113939,
         32.54046909697354
        ],
        [
         5.379608451072635,
         5.424447122240442,
         5.36921559617751,
         5.482982054588311,
         5.451363892194053,
         5.434981210588022,
         5.436236781771817,
         5.418156204506584,
         5.406413351616157,
         5.416445113315047,
         5.390494719045333,
         5.484385265062799,
         5.402389932928339,
         5.5537095149760285,
         5.480125204978389,
         5.398356914416944,
         5.5005208626515145,
         5.40351737270128,
         5.378981482139518,
         5.449197686841866,
         5.392652962925719,
         5.374022456170606,
         5.416595510495173,
         5.44659487973631,
         5.396053954262961,
         5.396541668232156,
         5.4687772614788415,
         5.339899090426556,
         5.402737541428125,
         5.471350561276448,
         5.430843393455468,
         5.466149857963823,
         5.416965541864746,
         5.391897187268555,
         5.466532431713962,
         5.377757928011892,
         5.423843386791748,
         5.403052728079683,
         5.428849120555601,
         5.337332760343196,
         5.45537509461208,
         5.394518619822635,
         5.517740646566205,
         5.4742796697293,
         5.350165486796645,
         5.397864314582812,
         5.443346130054908,
         5.381743965045931,
         5.442885331551862,
         5.4040064960483924,
         5.463807994667855,
         5.520765028879369,
         5.476071837504363,
         5.502539704288356,
         5.440619305954544,
         5.464765527219937,
         5.4465754157984145,
         5.3934742759693295,
         5.411180452599957,
         5.4258690685025215,
         5.343076076577395,
         5.430004770129155,
         5.419350626149878,
         5.3994756561353245,
         5.446103402262483,
         5.447582560664447,
         5.443624329555595,
         5.426061859836204,
         5.404455889423383,
         5.40261679249217,
         5.484531620993248,
         5.483528839646903,
         5.495190996676561,
         5.4768229515393445,
         5.452060617460096,
         5.381840075255103,
         5.326863996701562,
         5.49926942248465,
         5.443311364763296,
         5.491875388430185,
         5.448174405526837,
         5.442042136077282,
         5.528705160375871,
         5.5160884592223045,
         5.384495410417478,
         5.432977790064777,
         5.424347886849823,
         5.4480679463557475,
         5.33528630329847,
         5.488994710750222,
         5.430052890532944,
         5.431990377885753,
         5.307285179026175,
         5.361316741092412,
         5.341716049692137,
         5.40464711944751,
         5.391530387694951,
         5.444096185892415,
         5.367628386232103,
         5.392552110015558
        ]
       ],
       "encoder": "json",
       "name": "ABC_GAN_1 Metrics",
       "version": 1
      }
     },
     "metadata": {
      "scrapbook": {
       "data": true,
       "display": false,
       "name": "ABC_GAN_1 Metrics"
      }
     },
     "output_type": "display_data"
    },
    {
     "name": "stdout",
     "output_type": "stream",
     "text": [
      "MSE\n",
      "0.2888108286806916\n"
     ]
    }
   ],
   "source": [
    "ABC_GAN1_metrics=ABC_train_test2.test_generator(gen,test_data,prior_model,variance,bias,\"1\",device)\n",
    "sb.glue(\"ABC_GAN_1 Metrics\",ABC_GAN1_metrics)\n",
    "\n",
    "print(\"MSE\")\n",
    "print(mean(ABC_GAN1_metrics[0]))"
   ]
  },
  {
   "cell_type": "code",
   "execution_count": 14,
   "id": "eb22ce5c",
   "metadata": {
    "execution": {
     "iopub.execute_input": "2022-06-12T05:53:29.574495Z",
     "iopub.status.busy": "2022-06-12T05:53:29.574058Z",
     "iopub.status.idle": "2022-06-12T05:53:29.899908Z",
     "shell.execute_reply": "2022-06-12T05:53:29.900280Z"
    },
    "papermill": {
     "duration": 0.341308,
     "end_time": "2022-06-12T05:53:29.900401",
     "exception": false,
     "start_time": "2022-06-12T05:53:29.559093",
     "status": "completed"
    },
    "tags": []
   },
   "outputs": [
    {
     "data": {
      "image/png": "[encoded data removed]",
      "text/plain": [
       "<Figure size 432x288 with 1 Axes>"
      ]
     },
     "metadata": {
      "needs_background": "light"
     },
     "output_type": "display_data"
    },
    {
     "data": {
      "image/png": "[encoded data removed]",
      "text/plain": [
       "<Figure size 432x288 with 1 Axes>"
      ]
     },
     "metadata": {
      "needs_background": "light"
     },
     "output_type": "display_data"
    },
    {
     "data": {
      "image/png": "[encoded data removed]",
      "text/plain": [
       "<Figure size 432x288 with 1 Axes>"
      ]
     },
     "metadata": {
      "needs_background": "light"
     },
     "output_type": "display_data"
    },
    {
     "data": {
      "image/png": "[encoded data removed]",
      "text/plain": [
       "<Figure size 432x288 with 1 Axes>"
      ]
     },
     "metadata": {
      "needs_background": "light"
     },
     "output_type": "display_data"
    }
   ],
   "source": [
    "sanityChecks.discProbVsError(train_data,disc,device)\n",
    "sanityChecks.discProbVsError(test_data,disc,device)"
   ]
  },
  {
   "cell_type": "markdown",
   "id": "130f3a4d",
   "metadata": {
    "id": "130f3a4d",
    "papermill": {
     "duration": 0.015354,
     "end_time": "2022-06-12T05:53:29.930908",
     "exception": false,
     "start_time": "2022-06-12T05:53:29.915554",
     "status": "completed"
    },
    "tags": []
   },
   "source": [
    "# ABC - GAN Model with skip connection"
   ]
  },
  {
   "cell_type": "code",
   "execution_count": 15,
   "id": "4e43dad1",
   "metadata": {
    "execution": {
     "iopub.execute_input": "2022-06-12T05:53:29.965047Z",
     "iopub.status.busy": "2022-06-12T05:53:29.964659Z",
     "iopub.status.idle": "2022-06-12T05:53:29.967020Z",
     "shell.execute_reply": "2022-06-12T05:53:29.967265Z"
    },
    "id": "4e43dad1",
    "papermill": {
     "duration": 0.020841,
     "end_time": "2022-06-12T05:53:29.967379",
     "exception": false,
     "start_time": "2022-06-12T05:53:29.946538",
     "status": "completed"
    },
    "tags": []
   },
   "outputs": [],
   "source": [
    "#Generator\n",
    "gen3 = network.GeneratorWithSkipConnection(n_features+1).to(device)\n",
    "constraints=network.weightConstraint()\n",
    "#Discriminator \n",
    "disc3 = network.Discriminator(n_features+1).to(device)\n",
    "\n",
    "criterion = torch.nn.BCELoss()\n",
    "gen_opt = torch.optim.Adam(gen3.parameters(), lr=0.001, betas=(0.5, 0.999))\n",
    "disc_opt = torch.optim.Adam(disc3.parameters(), lr=0.001, betas=(0.5, 0.999))\n"
   ]
  },
  {
   "cell_type": "code",
   "execution_count": 16,
   "id": "26acbc37",
   "metadata": {
    "execution": {
     "iopub.execute_input": "2022-06-12T05:53:29.999525Z",
     "iopub.status.busy": "2022-06-12T05:53:29.999154Z",
     "iopub.status.idle": "2022-06-12T05:56:32.461350Z",
     "shell.execute_reply": "2022-06-12T05:56:32.461755Z"
    },
    "id": "26acbc37",
    "papermill": {
     "duration": 182.479495,
     "end_time": "2022-06-12T05:56:32.461882",
     "exception": false,
     "start_time": "2022-06-12T05:53:29.982387",
     "status": "completed"
    },
    "tags": []
   },
   "outputs": [
    {
     "data": {
      "image/png": "[encoded data removed]",
      "text/plain": [
       "<Figure size 432x288 with 1 Axes>"
      ]
     },
     "metadata": {
      "needs_background": "light"
     },
     "output_type": "display_data"
    },
    {
     "data": {
      "image/png": "[encoded data removed]",
      "text/plain": [
       "<Figure size 432x288 with 1 Axes>"
      ]
     },
     "metadata": {
      "needs_background": "light"
     },
     "output_type": "display_data"
    }
   ],
   "source": [
    "ABC_train_test2.training_GAN_skip_connection(disc3,gen3,disc_opt,gen_opt,train_data,batch_size,n_epochs,criterion,prior_model,variance,bias,device)"
   ]
  },
  {
   "cell_type": "code",
   "execution_count": 17,
   "id": "c5e0717b",
   "metadata": {
    "execution": {
     "iopub.execute_input": "2022-06-12T05:56:32.497459Z",
     "iopub.status.busy": "2022-06-12T05:56:32.496712Z",
     "iopub.status.idle": "2022-06-12T05:56:33.351107Z",
     "shell.execute_reply": "2022-06-12T05:56:33.351356Z"
    },
    "id": "c5e0717b",
    "papermill": {
     "duration": 0.873622,
     "end_time": "2022-06-12T05:56:33.351481",
     "exception": false,
     "start_time": "2022-06-12T05:56:32.477859",
     "status": "completed"
    },
    "tags": []
   },
   "outputs": [
    {
     "data": {
      "application/scrapbook.scrap.json+json": {
       "data": 0.18560599915900652,
       "encoder": "json",
       "name": "ABC-GAN Model 3 MSE",
       "version": 1
      }
     },
     "metadata": {
      "scrapbook": {
       "data": true,
       "display": false,
       "name": "ABC-GAN Model 3 MSE"
      }
     },
     "output_type": "display_data"
    },
    {
     "data": {
      "application/scrapbook.scrap.json+json": {
       "data": 0.27539986827561413,
       "encoder": "json",
       "name": "ABC-GAN Model 3 MAE",
       "version": 1
      }
     },
     "metadata": {
      "scrapbook": {
       "data": true,
       "display": false,
       "name": "ABC-GAN Model 3 MAE"
      }
     },
     "output_type": "display_data"
    },
    {
     "data": {
      "application/scrapbook.scrap.json+json": {
       "data": 28.09078656411264,
       "encoder": "json",
       "name": "ABC-GAN Model 3 Manhattan Distance",
       "version": 1
      }
     },
     "metadata": {
      "scrapbook": {
       "data": true,
       "display": false,
       "name": "ABC-GAN Model 3 Manhattan Distance"
      }
     },
     "output_type": "display_data"
    },
    {
     "data": {
      "application/scrapbook.scrap.json+json": {
       "data": 4.351025980170505,
       "encoder": "json",
       "name": "ABC-GAN Model 3 Euclidean distance",
       "version": 1
      }
     },
     "metadata": {
      "scrapbook": {
       "data": true,
       "display": false,
       "name": "ABC-GAN Model 3 Euclidean distance"
      }
     },
     "output_type": "display_data"
    },
    {
     "data": {
      "application/scrapbook.scrap.json+json": {
       "data": [
        [
         0.18736127935647467,
         0.1855188245253105,
         0.18608517789809992,
         0.1884696932115072,
         0.18522287588932462,
         0.18516243753166992,
         0.18168578882439504,
         0.1862236401383781,
         0.18509489905280288,
         0.18519228720966,
         0.18702921863681454,
         0.18536287386124578,
         0.18107092069094233,
         0.18564213875506838,
         0.18347768573044548,
         0.18401166463051027,
         0.18538742456150956,
         0.18562588232995142,
         0.1846107648520521,
         0.18224457574123346,
         0.18471990299107116,
         0.18482415347618514,
         0.1824744071782306,
         0.18508369453563286,
         0.18620382981062172,
         0.18599101890394476,
         0.18346045669759142,
         0.18293451556204346,
         0.184354448179071,
         0.18727310663047525,
         0.18842869592681802,
         0.18641741983146554,
         0.18767048021451782,
         0.18805591545372352,
         0.18643652303401276,
         0.18755337772087924,
         0.18344469517148504,
         0.18489470405832445,
         0.18586970727616067,
         0.1814527977943325,
         0.18912402155729524,
         0.188100867580735,
         0.18558205234276093,
         0.18482034227108038,
         0.18516061146947466,
         0.1850227896215919,
         0.18593503006365317,
         0.18549598441363604,
         0.18643935305948647,
         0.1855241129687237,
         0.18479775804868753,
         0.18420977821721962,
         0.18656047937596243,
         0.18611120442707682,
         0.18592595610529372,
         0.18568344310596846,
         0.18614319795892023,
         0.18499229150684926,
         0.1850796897005132,
         0.18781671715245957,
         0.18630138748269998,
         0.18598092028819613,
         0.1826216140794644,
         0.18628566617876466,
         0.18346206312863111,
         0.18556388345105582,
         0.1875264101190604,
         0.1846170715635195,
         0.18639301762455335,
         0.1855469053998924,
         0.1868405857457633,
         0.18534072497221143,
         0.1857845168961884,
         0.18568511827296888,
         0.18588298203061282,
         0.18406369441965004,
         0.18839507745622705,
         0.1843218236056182,
         0.18919224066127868,
         0.1852033437074932,
         0.18502650551044103,
         0.18501467415968242,
         0.1848491508071467,
         0.1887525806050137,
         0.18512281228805483,
         0.18626098871596322,
         0.1876105835654942,
         0.18990021801854684,
         0.18466514944924747,
         0.1867486351816963,
         0.1850676273906066,
         0.18611145521927394,
         0.1863060580525885,
         0.18784404404806376,
         0.18736620179710634,
         0.18544226230065022,
         0.18628979361104026,
         0.18300144372475352,
         0.183787799213661,
         0.18387330033640137
        ],
        [
         0.2751992612474543,
         0.273870192477297,
         0.2767781577913054,
         0.27679680516103317,
         0.27489607022417817,
         0.2763152695900085,
         0.27469676884585154,
         0.27421534039518414,
         0.27556108721696276,
         0.27518807258456945,
         0.27565126723664646,
         0.2736846323435505,
         0.27426569298932363,
         0.2764774614616352,
         0.2733445132297336,
         0.27337752010527194,
         0.275276560286133,
         0.2748607063994688,
         0.2753290366472713,
         0.27454286873998013,
         0.2747599251988326,
         0.27502460964024067,
         0.2747918340815779,
         0.27527522933943305,
         0.2758901801106392,
         0.27432132646779295,
         0.2758899158661199,
         0.2746445639424172,
         0.2751269425612454,
         0.27370324008641583,
         0.2771271927209169,
         0.2756959831013399,
         0.2758707138892336,
         0.2773236472470065,
         0.27566726723064977,
         0.2755346055526067,
         0.2750891668028107,
         0.2760090094137316,
         0.27517138781281664,
         0.27511903331341114,
         0.2760926551623818,
         0.27670516485494434,
         0.27497537003136147,
         0.27576221049964134,
         0.27592172713347657,
         0.2750523766575783,
         0.27508481823857506,
         0.2750027555351456,
         0.2749330416577412,
         0.27536319582449165,
         0.27586554973294924,
         0.2749596360943043,
         0.27558247578175116,
         0.275742385926766,
         0.2760197093673781,
         0.27734559438163964,
         0.27712631338805543,
         0.2748139347406287,
         0.2749524398286845,
         0.27644765034646673,
         0.27620052380542104,
         0.2751032492743951,
         0.2733239709198767,
         0.27468346678377953,
         0.2755421195179224,
         0.2747793636814344,
         0.27655493785791535,
         0.275864049573155,
         0.27456168200838943,
         0.27546837447466804,
         0.2774480658345947,
         0.27520400804567935,
         0.2759739897743452,
         0.2762027754649228,
         0.2766688753686407,
         0.27459097251880404,
         0.2751712163581568,
         0.27351882113326415,
         0.27753719575155306,
         0.27569820587614585,
         0.2747078714253125,
         0.2749840147866338,
         0.27386942226439714,
         0.27795666658237356,
         0.2749250697738984,
         0.2759253229927637,
         0.27630094373050856,
         0.2764582096726871,
         0.27390598255100057,
         0.274939631493123,
         0.2759749918956967,
         0.2757135164357868,
         0.2760432953124537,
         0.2762601814031893,
         0.27439423135764823,
         0.2755951310562737,
         0.27506750173793704,
         0.27442921955576716,
         0.27502814360766437,
         0.2752995513671753
        ],
        [
         28.07032464724034,
         27.93475963268429,
         28.23137209471315,
         28.233274126425385,
         28.039399162866175,
         28.184157498180866,
         28.019070422276855,
         27.96996472030878,
         28.107230896130204,
         28.069183403626084,
         28.11642925813794,
         27.915832499042153,
         27.975100684911013,
         28.20070106908679,
         27.881140349432826,
         27.88450705073774,
         28.078209149185568,
         28.03579205274582,
         28.08356173802167,
         28.00337261147797,
         28.02551237028092,
         28.05251018330455,
         28.028767076320946,
         28.078073392622173,
         28.1407983712852,
         27.980775299714878,
         28.14077141834423,
         28.013745522126555,
         28.062948141247034,
         27.917730488814414,
         28.266973657533526,
         28.12099027633667,
         28.13881281670183,
         28.287012019194663,
         28.11806125752628,
         28.104529766365886,
         28.05909501388669,
         28.152918960200623,
         28.067481556907296,
         28.062141397967935,
         28.16145082656294,
         28.223926815204322,
         28.04748774319887,
         28.12774547096342,
         28.14401616761461,
         28.055342419072986,
         28.05865146033466,
         28.05028106458485,
         28.0431702490896,
         28.087045974098146,
         28.13828607276082,
         28.045882881619036,
         28.10941252973862,
         28.12572336453013,
         28.154010355472565,
         28.28925062692724,
         28.266883965581656,
         28.031021343544126,
         28.04514886252582,
         28.197660335339606,
         28.17245342815295,
         28.0605314259883,
         27.879045033827424,
         28.01771361194551,
         28.105296190828085,
         28.02749509550631,
         28.208603661507368,
         28.13813305646181,
         28.005291564855725,
         28.09777419641614,
         28.29970271512866,
         28.070808820659295,
         28.14934695698321,
         28.172683097422123,
         28.22022528760135,
         28.00827919691801,
         28.06746406853199,
         27.898919755592942,
         28.308793966658413,
         28.12121699936688,
         28.020202885381877,
         28.048369508236647,
         27.93468107096851,
         28.351579991402104,
         28.042357116937637,
         28.144382945261896,
         28.182696260511875,
         28.198737386614084,
         27.93841022020206,
         28.043842412298545,
         28.149449173361063,
         28.122778676450253,
         28.15641612187028,
         28.17853850312531,
         27.98821159848012,
         28.110703367739916,
         28.056885177269578,
         27.99178039468825,
         28.052870647981763,
         28.080554239451885
        ],
        [
         4.371595875004964,
         4.350048287270115,
         4.356683158735117,
         4.384507806763916,
         4.3465771982919055,
         4.345867994800387,
         4.304875196807486,
         4.3583037175160895,
         4.345075339207122,
         4.346218275165816,
         4.367720263587755,
         4.34821953606842,
         4.29758466007083,
         4.3514937840949495,
         4.326051773211393,
         4.332342298608462,
         4.3485074801906425,
         4.351303252780142,
         4.339389129233435,
         4.3114900818169355,
         4.340671619126383,
         4.341896320108402,
         4.3142078684481024,
         4.344943825026343,
         4.358071894850223,
         4.355580779666744,
         4.325848654675094,
         4.319643571792518,
         4.336375642661189,
         4.370567111520939,
         4.384030905974026,
         4.360570699210079,
         4.375201593284682,
         4.3796921554236885,
         4.360794119133498,
         4.3738363626831855,
         4.325662828687816,
         4.342724929574644,
         4.3541600960654145,
         4.302114058811307,
         4.392112270746743,
         4.380215576114373,
         4.350789507544764,
         4.341851553387126,
         4.34584656538705,
         4.344228877649332,
         4.354925150504039,
         4.349780501380601,
         4.360827216488589,
         4.350110288580027,
         4.341586267824944,
         4.3346738491098025,
         4.362243562245025,
         4.356987818615268,
         4.354818885182248,
         4.3519778488416945,
         4.357362297515534,
         4.343870823781321,
         4.344896816893623,
         4.376905887673492,
         4.359213406480049,
         4.355462532199766,
         4.315947710075432,
         4.359029473430295,
         4.3258675938036255,
         4.350576526393679,
         4.373521902556812,
         4.3394632501588255,
         4.360285288568219,
         4.350377495205334,
         4.365517122411485,
         4.347959745347876,
         4.353162152207429,
         4.351997479760624,
         4.354315579643086,
         4.332954745990812,
         4.383639800500853,
         4.335991928933108,
         4.392904340803522,
         4.3463480139266695,
         4.344272500898739,
         4.34413360341134,
         4.342189929324714,
         4.387797080735547,
         4.345402956387542,
         4.358740741203615,
         4.374503345944589,
         4.4011160218621574,
         4.340028253804718,
         4.36444278098969,
         4.344755228300193,
         4.356990754220846,
         4.359268048808655,
         4.377224290906567,
         4.371653300904001,
         4.349150578522929,
         4.359077763509859,
         4.320433688870234,
         4.329706170145201,
         4.330713178486072
        ]
       ],
       "encoder": "json",
       "name": "ABC_GAN_3 Metrics",
       "version": 1
      }
     },
     "metadata": {
      "scrapbook": {
       "data": true,
       "display": false,
       "name": "ABC_GAN_3 Metrics"
      }
     },
     "output_type": "display_data"
    },
    {
     "name": "stdout",
     "output_type": "stream",
     "text": [
      "MSE\n",
      "0.18560599915900652\n"
     ]
    }
   ],
   "source": [
    "ABC_GAN3_metrics=ABC_train_test2.test_generator(gen3,test_data,prior_model,variance,bias,\"3\",device)\n",
    "sb.glue(\"ABC_GAN_3 Metrics\",ABC_GAN3_metrics)\n",
    "\n",
    "print(\"MSE\")\n",
    "print(mean(ABC_GAN3_metrics[0]))"
   ]
  },
  {
   "cell_type": "code",
   "execution_count": 18,
   "id": "c8e46b48",
   "metadata": {
    "execution": {
     "iopub.execute_input": "2022-06-12T05:56:33.388752Z",
     "iopub.status.busy": "2022-06-12T05:56:33.388374Z",
     "iopub.status.idle": "2022-06-12T05:56:33.719648Z",
     "shell.execute_reply": "2022-06-12T05:56:33.719942Z"
    },
    "id": "c8e46b48",
    "papermill": {
     "duration": 0.351035,
     "end_time": "2022-06-12T05:56:33.720063",
     "exception": false,
     "start_time": "2022-06-12T05:56:33.369028",
     "status": "completed"
    },
    "tags": []
   },
   "outputs": [
    {
     "data": {
      "image/png": "[encoded data removed]",
      "text/plain": [
       "<Figure size 432x288 with 1 Axes>"
      ]
     },
     "metadata": {
      "needs_background": "light"
     },
     "output_type": "display_data"
    },
    {
     "data": {
      "image/png": "[encoded data removed]",
      "text/plain": [
       "<Figure size 432x288 with 1 Axes>"
      ]
     },
     "metadata": {
      "needs_background": "light"
     },
     "output_type": "display_data"
    },
    {
     "data": {
      "image/png": "[encoded data removed]",
      "text/plain": [
       "<Figure size 432x288 with 1 Axes>"
      ]
     },
     "metadata": {
      "needs_background": "light"
     },
     "output_type": "display_data"
    },
    {
     "data": {
      "image/png": "[encoded data removed]",
      "text/plain": [
       "<Figure size 432x288 with 1 Axes>"
      ]
     },
     "metadata": {
      "needs_background": "light"
     },
     "output_type": "display_data"
    }
   ],
   "source": [
    "sanityChecks.discProbVsError(train_data,disc3,device)\n",
    "sanityChecks.discProbVsError(test_data,disc3,device)"
   ]
  },
  {
   "cell_type": "markdown",
   "id": "a5bd74c3",
   "metadata": {
    "id": "a5bd74c3",
    "papermill": {
     "duration": 0.020376,
     "end_time": "2022-06-12T05:56:33.760760",
     "exception": false,
     "start_time": "2022-06-12T05:56:33.740384",
     "status": "completed"
    },
    "tags": []
   },
   "source": [
    "## Skip Connection Model Analysis - ABC-GAN "
   ]
  },
  {
   "cell_type": "markdown",
   "id": "5744a8bf",
   "metadata": {
    "id": "5744a8bf",
    "papermill": {
     "duration": 0.019874,
     "end_time": "2022-06-12T05:56:33.800109",
     "exception": false,
     "start_time": "2022-06-12T05:56:33.780235",
     "status": "completed"
    },
    "tags": []
   },
   "source": [
    "### Weight Analysis \n",
    "\n",
    "Study the weights of the skip connection layer\n",
    "\n",
    "Equation of the skip connection is \n",
    "\n",
    "$output = y_{gan} * w + y_{abc} * (1-w)$"
   ]
  },
  {
   "cell_type": "code",
   "execution_count": 19,
   "id": "52c31dea",
   "metadata": {
    "execution": {
     "iopub.execute_input": "2022-06-12T05:56:33.842636Z",
     "iopub.status.busy": "2022-06-12T05:56:33.842251Z",
     "iopub.status.idle": "2022-06-12T05:56:33.846248Z",
     "shell.execute_reply": "2022-06-12T05:56:33.845865Z"
    },
    "id": "52c31dea",
    "papermill": {
     "duration": 0.02681,
     "end_time": "2022-06-12T05:56:33.846372",
     "exception": false,
     "start_time": "2022-06-12T05:56:33.819562",
     "status": "completed"
    },
    "tags": []
   },
   "outputs": [
    {
     "name": "stdout",
     "output_type": "stream",
     "text": [
      "Weight of the node at skip connection\n",
      "Parameter containing:\n",
      "tensor([[0.9899]], requires_grad=True)\n"
     ]
    },
    {
     "data": {
      "application/scrapbook.scrap.json+json": {
       "data": 0.9899175763130188,
       "encoder": "json",
       "name": "Skip Connection Weight",
       "version": 1
      }
     },
     "metadata": {
      "scrapbook": {
       "data": true,
       "display": false,
       "name": "Skip Connection Weight"
      }
     },
     "output_type": "display_data"
    }
   ],
   "source": [
    "print(\"Weight of the node at skip connection\")\n",
    "for name,param in gen3.named_parameters():\n",
    "    if(name == \"skipNode.weight\"):\n",
    "        print(param)\n",
    "        sb.glue(\"Skip Connection Weight\",param.item())"
   ]
  }
 ],
 "metadata": {
  "colab": {
   "collapsed_sections": [],
   "name": "ABC_GAN_Model-Catboost_Pre-gen.ipynb",
   "provenance": []
  },
  "interpreter": {
   "hash": "31f2aee4e71d21fbe5cf8b01ff0e069b9275f58929596ceb00d14d90e3e16cd6"
  },
  "kernelspec": {
   "display_name": "Python 3 (ipykernel)",
   "language": "python",
   "name": "python3"
  },
  "language_info": {
   "codemirror_mode": {
    "name": "ipython",
    "version": 3
   },
   "file_extension": ".py",
   "mimetype": "text/x-python",
   "name": "python",
   "nbconvert_exporter": "python",
   "pygments_lexer": "ipython3",
   "version": "3.8.11"
  },
  "papermill": {
   "default_parameters": {},
   "duration": 252.012348,
   "end_time": "2022-06-12T05:56:34.174681",
   "environment_variables": {},
   "exception": null,
   "input_path": "ABC_GAN-Catboost.ipynb",
   "output_path": "./ABC_GAN_Catboost/ABC-GAN_output_6_6.ipynb",
   "parameters": {
    "bias": 0.01,
    "variance": 1
   },
   "start_time": "2022-06-12T05:52:22.162333",
   "version": "2.3.3"
  }
 },
 "nbformat": 4,
 "nbformat_minor": 5
}