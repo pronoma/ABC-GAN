{
 "cells": [
  {
   "cell_type": "markdown",
   "id": "622780e6",
   "metadata": {
    "id": "622780e6",
    "papermill": {
     "duration": 0.037967,
     "end_time": "2022-06-11T18:04:18.774378",
     "exception": false,
     "start_time": "2022-06-11T18:04:18.736411",
     "status": "completed"
    },
    "tags": []
   },
   "source": [
    "## Import Libraries "
   ]
  },
  {
   "cell_type": "code",
   "execution_count": 1,
   "id": "a62397e3",
   "metadata": {
    "execution": {
     "iopub.execute_input": "2022-06-11T18:04:18.810710Z",
     "iopub.status.busy": "2022-06-11T18:04:18.810142Z",
     "iopub.status.idle": "2022-06-11T18:04:18.812425Z",
     "shell.execute_reply": "2022-06-11T18:04:18.812762Z"
    },
    "id": "a62397e3",
    "papermill": {
     "duration": 0.022003,
     "end_time": "2022-06-11T18:04:18.812967",
     "exception": false,
     "start_time": "2022-06-11T18:04:18.790964",
     "status": "completed"
    },
    "tags": []
   },
   "outputs": [],
   "source": [
    "import warnings\n",
    "import sys\n",
    "sys.path.insert(0, '../../src')\n",
    "warnings.filterwarnings('ignore')"
   ]
  },
  {
   "cell_type": "code",
   "execution_count": 2,
   "id": "d6a4e155",
   "metadata": {
    "execution": {
     "iopub.execute_input": "2022-06-11T18:04:18.833683Z",
     "iopub.status.busy": "2022-06-11T18:04:18.833235Z",
     "iopub.status.idle": "2022-06-11T18:04:20.615746Z",
     "shell.execute_reply": "2022-06-11T18:04:20.616015Z"
    },
    "id": "d6a4e155",
    "papermill": {
     "duration": 1.793279,
     "end_time": "2022-06-11T18:04:20.616140",
     "exception": false,
     "start_time": "2022-06-11T18:04:18.822861",
     "status": "completed"
    },
    "tags": []
   },
   "outputs": [],
   "source": [
    "import ABC_train_test2\n",
    "import bostonDataset\n",
    "import network\n",
    "import dataset\n",
    "import sanityChecks\n",
    "import torch \n",
    "import scrapbook as sb\n",
    "from statistics import mean \n",
    "import catboost as ctb \n",
    "from sklearn.model_selection import train_test_split\n",
    "from sklearn.metrics import mean_squared_error,mean_absolute_error\n",
    "import numpy as np"
   ]
  },
  {
   "cell_type": "markdown",
   "id": "2fa5b0f7",
   "metadata": {
    "id": "2fa5b0f7",
    "papermill": {
     "duration": 0.006946,
     "end_time": "2022-06-11T18:04:20.630387",
     "exception": false,
     "start_time": "2022-06-11T18:04:20.623441",
     "status": "completed"
    },
    "tags": []
   },
   "source": [
    "## Parameters "
   ]
  },
  {
   "cell_type": "code",
   "execution_count": 3,
   "id": "783186fb",
   "metadata": {
    "execution": {
     "iopub.execute_input": "2022-06-11T18:04:20.646305Z",
     "iopub.status.busy": "2022-06-11T18:04:20.645926Z",
     "iopub.status.idle": "2022-06-11T18:04:20.647210Z",
     "shell.execute_reply": "2022-06-11T18:04:20.647463Z"
    },
    "id": "783186fb",
    "papermill": {
     "duration": 0.010264,
     "end_time": "2022-06-11T18:04:20.647575",
     "exception": false,
     "start_time": "2022-06-11T18:04:20.637311",
     "status": "completed"
    },
    "tags": [
     "parameters"
    ]
   },
   "outputs": [],
   "source": [
    "variance = 1\n",
    "bias = 1 "
   ]
  },
  {
   "cell_type": "code",
   "execution_count": 4,
   "id": "a20922f2",
   "metadata": {
    "execution": {
     "iopub.execute_input": "2022-06-11T18:04:20.663431Z",
     "iopub.status.busy": "2022-06-11T18:04:20.663037Z",
     "iopub.status.idle": "2022-06-11T18:04:20.664401Z",
     "shell.execute_reply": "2022-06-11T18:04:20.664635Z"
    },
    "papermill": {
     "duration": 0.010137,
     "end_time": "2022-06-11T18:04:20.664737",
     "exception": false,
     "start_time": "2022-06-11T18:04:20.654600",
     "status": "completed"
    },
    "tags": [
     "injected-parameters"
    ]
   },
   "outputs": [],
   "source": [
    "# Parameters\n",
    "variance = 1\n",
    "bias = 0.1\n"
   ]
  },
  {
   "cell_type": "markdown",
   "id": "391cdbfd",
   "metadata": {
    "id": "391cdbfd",
    "papermill": {
     "duration": 0.006909,
     "end_time": "2022-06-11T18:04:20.678641",
     "exception": false,
     "start_time": "2022-06-11T18:04:20.671732",
     "status": "completed"
    },
    "tags": []
   },
   "source": [
    "## Dataset \n"
   ]
  },
  {
   "cell_type": "code",
   "execution_count": 5,
   "id": "5b51f161",
   "metadata": {
    "execution": {
     "iopub.execute_input": "2022-06-11T18:04:20.694441Z",
     "iopub.status.busy": "2022-06-11T18:04:20.694082Z",
     "iopub.status.idle": "2022-06-11T18:04:20.695353Z",
     "shell.execute_reply": "2022-06-11T18:04:20.695591Z"
    },
    "id": "5b51f161",
    "papermill": {
     "duration": 0.010063,
     "end_time": "2022-06-11T18:04:20.695693",
     "exception": false,
     "start_time": "2022-06-11T18:04:20.685630",
     "status": "completed"
    },
    "tags": []
   },
   "outputs": [],
   "source": [
    "#Parameters \n",
    "n_features = 13\n",
    "n_samples= 506\n",
    "n_target = 1 "
   ]
  },
  {
   "cell_type": "code",
   "execution_count": 6,
   "id": "5d6eced4",
   "metadata": {
    "execution": {
     "iopub.execute_input": "2022-06-11T18:04:20.711693Z",
     "iopub.status.busy": "2022-06-11T18:04:20.711323Z",
     "iopub.status.idle": "2022-06-11T18:04:20.721776Z",
     "shell.execute_reply": "2022-06-11T18:04:20.722084Z"
    },
    "id": "5d6eced4",
    "papermill": {
     "duration": 0.019468,
     "end_time": "2022-06-11T18:04:20.722196",
     "exception": false,
     "start_time": "2022-06-11T18:04:20.702728",
     "status": "completed"
    },
    "tags": []
   },
   "outputs": [
    {
     "name": "stdout",
     "output_type": "stream",
     "text": [
      "         X1        X2        X3        X4        X5        X6        X7  \\\n",
      "0 -0.419782  0.284830 -1.287909 -0.272599 -0.144217  0.413672 -0.120013   \n",
      "1 -0.417339 -0.487722 -0.593381 -0.272599 -0.740262  0.194274  0.367166   \n",
      "2 -0.417342 -0.487722 -0.593381 -0.272599 -0.740262  1.282714 -0.265812   \n",
      "3 -0.416750 -0.487722 -1.306878 -0.272599 -0.835284  1.016303 -0.809889   \n",
      "4 -0.412482 -0.487722 -1.306878 -0.272599 -0.835284  1.228577 -0.511180   \n",
      "\n",
      "         X8        X9       X10       X11       X12       X13         Y  \n",
      "0  0.140214 -0.982843 -0.666608 -1.459000  0.441052 -1.075562  0.159686  \n",
      "1  0.557160 -0.867883 -0.987329 -0.303094  0.441052 -0.492439 -0.101524  \n",
      "2  0.557160 -0.867883 -0.987329 -0.303094  0.396427 -1.208727  1.324247  \n",
      "3  1.077737 -0.752922 -1.106115  0.113032  0.416163 -1.361517  1.182758  \n",
      "4  1.077737 -0.752922 -1.106115  0.113032  0.441052 -1.026501  1.487503  \n"
     ]
    }
   ],
   "source": [
    "X,Y = bostonDataset.boston_data()"
   ]
  },
  {
   "cell_type": "code",
   "execution_count": 7,
   "id": "fe007438",
   "metadata": {
    "execution": {
     "iopub.execute_input": "2022-06-11T18:04:20.739404Z",
     "iopub.status.busy": "2022-06-11T18:04:20.739022Z",
     "iopub.status.idle": "2022-06-11T18:04:20.740604Z",
     "shell.execute_reply": "2022-06-11T18:04:20.740834Z"
    },
    "id": "fe007438",
    "papermill": {
     "duration": 0.011205,
     "end_time": "2022-06-11T18:04:20.740940",
     "exception": false,
     "start_time": "2022-06-11T18:04:20.729735",
     "status": "completed"
    },
    "tags": []
   },
   "outputs": [],
   "source": [
    "#Train test split for dataset \n",
    "X_train,X_test,Y_train,Y_test = train_test_split(X,Y,test_size = 0.2)\n",
    "train_data = dataset.CustomDataset(X_train,Y_train)\n",
    "test_data = dataset.CustomDataset(X_test,Y_test)\n"
   ]
  },
  {
   "cell_type": "markdown",
   "id": "a9a1af34",
   "metadata": {
    "id": "a9a1af34",
    "papermill": {
     "duration": 0.007227,
     "end_time": "2022-06-11T18:04:20.755511",
     "exception": false,
     "start_time": "2022-06-11T18:04:20.748284",
     "status": "completed"
    },
    "tags": []
   },
   "source": [
    "## Training Parameters "
   ]
  },
  {
   "cell_type": "code",
   "execution_count": 8,
   "id": "952b7fc8",
   "metadata": {
    "execution": {
     "iopub.execute_input": "2022-06-11T18:04:20.772168Z",
     "iopub.status.busy": "2022-06-11T18:04:20.771790Z",
     "iopub.status.idle": "2022-06-11T18:04:20.773089Z",
     "shell.execute_reply": "2022-06-11T18:04:20.773324Z"
    },
    "id": "952b7fc8",
    "papermill": {
     "duration": 0.010702,
     "end_time": "2022-06-11T18:04:20.773430",
     "exception": false,
     "start_time": "2022-06-11T18:04:20.762728",
     "status": "completed"
    },
    "tags": []
   },
   "outputs": [],
   "source": [
    "batch_size = 32\n",
    "n_epochs = 1000\n",
    "#Select the device \n",
    "device = torch.device('cuda' if torch.cuda.is_available() else 'cpu')"
   ]
  },
  {
   "cell_type": "markdown",
   "id": "a95e1600",
   "metadata": {
    "id": "a95e1600",
    "papermill": {
     "duration": 0.007201,
     "end_time": "2022-06-11T18:04:20.787985",
     "exception": false,
     "start_time": "2022-06-11T18:04:20.780784",
     "status": "completed"
    },
    "tags": []
   },
   "source": [
    "# ABC Pre-generator Model \n",
    "\n",
    "1. The catboost model is used as a pre-generator model for the ABC-GAN. \n",
    "2. The model is first trained on the entire dataset \n",
    "3. It generats X,Y pairs and we add some Gaussian noise with mean 0 and variance 1 to it which is then feed as input to the generator.\n"
   ]
  },
  {
   "cell_type": "code",
   "execution_count": 9,
   "id": "ff8ce7bd",
   "metadata": {
    "execution": {
     "iopub.execute_input": "2022-06-11T18:04:20.807711Z",
     "iopub.status.busy": "2022-06-11T18:04:20.807338Z",
     "iopub.status.idle": "2022-06-11T18:04:21.781124Z",
     "shell.execute_reply": "2022-06-11T18:04:21.781413Z"
    },
    "id": "ff8ce7bd",
    "papermill": {
     "duration": 0.986141,
     "end_time": "2022-06-11T18:04:21.781538",
     "exception": false,
     "start_time": "2022-06-11T18:04:20.795397",
     "status": "completed"
    },
    "tags": []
   },
   "outputs": [
    {
     "name": "stdout",
     "output_type": "stream",
     "text": [
      "Learning rate set to 0.033215\n",
      "0:\tlearn: 0.9845065\ttotal: 58.5ms\tremaining: 58.5s\n",
      "1:\tlearn: 0.9642711\ttotal: 59.6ms\tremaining: 29.7s\n",
      "2:\tlearn: 0.9455504\ttotal: 60.5ms\tremaining: 20.1s\n",
      "3:\tlearn: 0.9300070\ttotal: 61.5ms\tremaining: 15.3s\n",
      "4:\tlearn: 0.9153772\ttotal: 62.6ms\tremaining: 12.5s\n",
      "5:\tlearn: 0.9015898\ttotal: 63.8ms\tremaining: 10.6s\n",
      "6:\tlearn: 0.8856268\ttotal: 64.7ms\tremaining: 9.18s\n",
      "7:\tlearn: 0.8704819\ttotal: 65.7ms\tremaining: 8.15s\n",
      "8:\tlearn: 0.8552932\ttotal: 66.6ms\tremaining: 7.34s\n",
      "9:\tlearn: 0.8387456\ttotal: 67.4ms\tremaining: 6.68s\n",
      "10:\tlearn: 0.8239512\ttotal: 68.3ms\tremaining: 6.14s\n",
      "11:\tlearn: 0.8102800\ttotal: 69.1ms\tremaining: 5.69s\n",
      "12:\tlearn: 0.7956685\ttotal: 70ms\tremaining: 5.31s\n",
      "13:\tlearn: 0.7815460\ttotal: 70.9ms\tremaining: 4.99s\n",
      "14:\tlearn: 0.7695546\ttotal: 71.7ms\tremaining: 4.71s\n",
      "15:\tlearn: 0.7574999\ttotal: 72.5ms\tremaining: 4.46s\n",
      "16:\tlearn: 0.7464742\ttotal: 73.4ms\tremaining: 4.25s\n",
      "17:\tlearn: 0.7347040\ttotal: 74.3ms\tremaining: 4.05s\n",
      "18:\tlearn: 0.7223688\ttotal: 75.1ms\tremaining: 3.88s\n",
      "19:\tlearn: 0.7099750\ttotal: 76ms\tremaining: 3.72s\n",
      "20:\tlearn: 0.6968609\ttotal: 76.8ms\tremaining: 3.58s\n",
      "21:\tlearn: 0.6866049\ttotal: 77.5ms\tremaining: 3.45s\n",
      "22:\tlearn: 0.6752218\ttotal: 78.3ms\tremaining: 3.33s\n",
      "23:\tlearn: 0.6660639\ttotal: 79.1ms\tremaining: 3.21s\n",
      "24:\tlearn: 0.6570019\ttotal: 79.9ms\tremaining: 3.12s\n",
      "25:\tlearn: 0.6484203\ttotal: 80.6ms\tremaining: 3.02s\n",
      "26:\tlearn: 0.6397659\ttotal: 81.4ms\tremaining: 2.93s\n",
      "27:\tlearn: 0.6302104\ttotal: 82.1ms\tremaining: 2.85s\n",
      "28:\tlearn: 0.6211188\ttotal: 82.8ms\tremaining: 2.77s\n",
      "29:\tlearn: 0.6111601\ttotal: 83.5ms\tremaining: 2.7s\n",
      "30:\tlearn: 0.6007362\ttotal: 84.2ms\tremaining: 2.63s\n",
      "31:\tlearn: 0.5928160\ttotal: 85ms\tremaining: 2.57s\n",
      "32:\tlearn: 0.5854449\ttotal: 85.8ms\tremaining: 2.51s\n",
      "33:\tlearn: 0.5781379\ttotal: 86.5ms\tremaining: 2.46s\n",
      "34:\tlearn: 0.5724506\ttotal: 87.3ms\tremaining: 2.41s\n",
      "35:\tlearn: 0.5652226\ttotal: 88.2ms\tremaining: 2.36s\n",
      "36:\tlearn: 0.5583012\ttotal: 89ms\tremaining: 2.32s\n",
      "37:\tlearn: 0.5511987\ttotal: 89.9ms\tremaining: 2.27s\n",
      "38:\tlearn: 0.5436886\ttotal: 90.5ms\tremaining: 2.23s\n",
      "39:\tlearn: 0.5360875\ttotal: 91.4ms\tremaining: 2.19s\n",
      "40:\tlearn: 0.5295960\ttotal: 92.3ms\tremaining: 2.16s\n",
      "41:\tlearn: 0.5229469\ttotal: 93.1ms\tremaining: 2.12s\n",
      "42:\tlearn: 0.5166316\ttotal: 94ms\tremaining: 2.09s\n",
      "43:\tlearn: 0.5099312\ttotal: 94.7ms\tremaining: 2.06s\n",
      "44:\tlearn: 0.5025595\ttotal: 95.5ms\tremaining: 2.03s\n",
      "45:\tlearn: 0.4964665\ttotal: 96.3ms\tremaining: 2s\n",
      "46:\tlearn: 0.4900641\ttotal: 97.3ms\tremaining: 1.97s\n",
      "47:\tlearn: 0.4842575\ttotal: 98.1ms\tremaining: 1.95s\n",
      "48:\tlearn: 0.4794813\ttotal: 98.9ms\tremaining: 1.92s\n",
      "49:\tlearn: 0.4748492\ttotal: 99.7ms\tremaining: 1.89s\n",
      "50:\tlearn: 0.4697874\ttotal: 100ms\tremaining: 1.87s\n",
      "51:\tlearn: 0.4655757\ttotal: 101ms\tremaining: 1.85s\n",
      "52:\tlearn: 0.4596179\ttotal: 102ms\tremaining: 1.83s\n",
      "53:\tlearn: 0.4549268\ttotal: 103ms\tremaining: 1.8s\n",
      "54:\tlearn: 0.4504429\ttotal: 104ms\tremaining: 1.78s\n",
      "55:\tlearn: 0.4461263\ttotal: 105ms\tremaining: 1.76s\n",
      "56:\tlearn: 0.4421649\ttotal: 106ms\tremaining: 1.75s\n",
      "57:\tlearn: 0.4378099\ttotal: 106ms\tremaining: 1.73s\n"
     ]
    },
    {
     "name": "stdout",
     "output_type": "stream",
     "text": [
      "58:\tlearn: 0.4337523\ttotal: 107ms\tremaining: 1.71s\n",
      "59:\tlearn: 0.4295855\ttotal: 108ms\tremaining: 1.7s\n",
      "60:\tlearn: 0.4261779\ttotal: 109ms\tremaining: 1.68s\n",
      "61:\tlearn: 0.4218387\ttotal: 110ms\tremaining: 1.66s\n",
      "62:\tlearn: 0.4173931\ttotal: 111ms\tremaining: 1.65s\n",
      "63:\tlearn: 0.4127679\ttotal: 112ms\tremaining: 1.63s\n",
      "64:\tlearn: 0.4090096\ttotal: 112ms\tremaining: 1.62s\n",
      "65:\tlearn: 0.4049265\ttotal: 113ms\tremaining: 1.6s\n",
      "66:\tlearn: 0.4011151\ttotal: 114ms\tremaining: 1.59s\n",
      "67:\tlearn: 0.3980817\ttotal: 115ms\tremaining: 1.58s\n",
      "68:\tlearn: 0.3955348\ttotal: 116ms\tremaining: 1.57s\n",
      "69:\tlearn: 0.3923439\ttotal: 117ms\tremaining: 1.55s\n",
      "70:\tlearn: 0.3888411\ttotal: 118ms\tremaining: 1.55s\n",
      "71:\tlearn: 0.3849541\ttotal: 119ms\tremaining: 1.53s\n",
      "72:\tlearn: 0.3818198\ttotal: 120ms\tremaining: 1.52s\n",
      "73:\tlearn: 0.3788860\ttotal: 121ms\tremaining: 1.51s\n",
      "74:\tlearn: 0.3750750\ttotal: 122ms\tremaining: 1.5s\n",
      "75:\tlearn: 0.3724994\ttotal: 123ms\tremaining: 1.49s\n",
      "76:\tlearn: 0.3696476\ttotal: 124ms\tremaining: 1.48s\n",
      "77:\tlearn: 0.3667497\ttotal: 124ms\tremaining: 1.47s\n",
      "78:\tlearn: 0.3638139\ttotal: 125ms\tremaining: 1.46s\n",
      "79:\tlearn: 0.3616535\ttotal: 126ms\tremaining: 1.45s\n",
      "80:\tlearn: 0.3583290\ttotal: 127ms\tremaining: 1.44s\n",
      "81:\tlearn: 0.3555850\ttotal: 128ms\tremaining: 1.44s\n",
      "82:\tlearn: 0.3536404\ttotal: 129ms\tremaining: 1.43s\n",
      "83:\tlearn: 0.3519263\ttotal: 130ms\tremaining: 1.42s\n",
      "84:\tlearn: 0.3490948\ttotal: 131ms\tremaining: 1.41s\n",
      "85:\tlearn: 0.3461036\ttotal: 132ms\tremaining: 1.4s\n",
      "86:\tlearn: 0.3434146\ttotal: 133ms\tremaining: 1.39s\n",
      "87:\tlearn: 0.3405496\ttotal: 134ms\tremaining: 1.38s\n",
      "88:\tlearn: 0.3385464\ttotal: 135ms\tremaining: 1.38s\n",
      "89:\tlearn: 0.3365132\ttotal: 135ms\tremaining: 1.37s\n",
      "90:\tlearn: 0.3342759\ttotal: 136ms\tremaining: 1.36s\n",
      "91:\tlearn: 0.3323337\ttotal: 137ms\tremaining: 1.36s\n",
      "92:\tlearn: 0.3308148\ttotal: 138ms\tremaining: 1.35s\n",
      "93:\tlearn: 0.3290223\ttotal: 139ms\tremaining: 1.34s\n",
      "94:\tlearn: 0.3272104\ttotal: 140ms\tremaining: 1.33s\n",
      "95:\tlearn: 0.3255789\ttotal: 141ms\tremaining: 1.33s\n",
      "96:\tlearn: 0.3234981\ttotal: 142ms\tremaining: 1.32s\n",
      "97:\tlearn: 0.3221026\ttotal: 142ms\tremaining: 1.31s\n",
      "98:\tlearn: 0.3199514\ttotal: 143ms\tremaining: 1.3s\n",
      "99:\tlearn: 0.3182764\ttotal: 144ms\tremaining: 1.3s\n",
      "100:\tlearn: 0.3168126\ttotal: 145ms\tremaining: 1.29s\n",
      "101:\tlearn: 0.3149378\ttotal: 146ms\tremaining: 1.28s\n",
      "102:\tlearn: 0.3135618\ttotal: 147ms\tremaining: 1.28s\n",
      "103:\tlearn: 0.3120355\ttotal: 147ms\tremaining: 1.27s\n",
      "104:\tlearn: 0.3108920\ttotal: 148ms\tremaining: 1.26s\n",
      "105:\tlearn: 0.3085535\ttotal: 149ms\tremaining: 1.25s\n",
      "106:\tlearn: 0.3068324\ttotal: 150ms\tremaining: 1.25s\n",
      "107:\tlearn: 0.3049364\ttotal: 150ms\tremaining: 1.24s\n",
      "108:\tlearn: 0.3036080\ttotal: 151ms\tremaining: 1.24s\n",
      "109:\tlearn: 0.3021200\ttotal: 152ms\tremaining: 1.23s\n",
      "110:\tlearn: 0.3010455\ttotal: 153ms\tremaining: 1.23s\n",
      "111:\tlearn: 0.2997024\ttotal: 154ms\tremaining: 1.22s\n",
      "112:\tlearn: 0.2979638\ttotal: 155ms\tremaining: 1.22s\n",
      "113:\tlearn: 0.2968422\ttotal: 156ms\tremaining: 1.21s\n",
      "114:\tlearn: 0.2953405\ttotal: 157ms\tremaining: 1.21s\n",
      "115:\tlearn: 0.2940627\ttotal: 158ms\tremaining: 1.2s\n",
      "116:\tlearn: 0.2930001\ttotal: 158ms\tremaining: 1.2s\n",
      "117:\tlearn: 0.2914214\ttotal: 159ms\tremaining: 1.19s\n",
      "118:\tlearn: 0.2903983\ttotal: 160ms\tremaining: 1.18s\n",
      "119:\tlearn: 0.2894991\ttotal: 161ms\tremaining: 1.18s\n",
      "120:\tlearn: 0.2882782\ttotal: 162ms\tremaining: 1.17s\n",
      "121:\tlearn: 0.2875272\ttotal: 163ms\tremaining: 1.17s\n",
      "122:\tlearn: 0.2863093\ttotal: 164ms\tremaining: 1.17s\n",
      "123:\tlearn: 0.2852081\ttotal: 164ms\tremaining: 1.16s\n",
      "124:\tlearn: 0.2841445\ttotal: 165ms\tremaining: 1.16s\n",
      "125:\tlearn: 0.2829856\ttotal: 166ms\tremaining: 1.15s\n",
      "126:\tlearn: 0.2817943\ttotal: 167ms\tremaining: 1.15s\n",
      "127:\tlearn: 0.2804691\ttotal: 168ms\tremaining: 1.14s\n",
      "128:\tlearn: 0.2795499\ttotal: 169ms\tremaining: 1.14s\n",
      "129:\tlearn: 0.2785809\ttotal: 169ms\tremaining: 1.13s\n",
      "130:\tlearn: 0.2778306\ttotal: 170ms\tremaining: 1.13s\n",
      "131:\tlearn: 0.2768677\ttotal: 171ms\tremaining: 1.12s\n",
      "132:\tlearn: 0.2757569\ttotal: 172ms\tremaining: 1.12s\n",
      "133:\tlearn: 0.2749992\ttotal: 172ms\tremaining: 1.11s\n",
      "134:\tlearn: 0.2740139\ttotal: 173ms\tremaining: 1.11s\n",
      "135:\tlearn: 0.2728456\ttotal: 174ms\tremaining: 1.1s\n",
      "136:\tlearn: 0.2720222\ttotal: 175ms\tremaining: 1.1s\n",
      "137:\tlearn: 0.2712606\ttotal: 176ms\tremaining: 1.1s\n",
      "138:\tlearn: 0.2700276\ttotal: 176ms\tremaining: 1.09s\n",
      "139:\tlearn: 0.2691674\ttotal: 177ms\tremaining: 1.09s\n",
      "140:\tlearn: 0.2685261\ttotal: 178ms\tremaining: 1.08s\n",
      "141:\tlearn: 0.2674624\ttotal: 179ms\tremaining: 1.08s\n",
      "142:\tlearn: 0.2662953\ttotal: 180ms\tremaining: 1.08s\n",
      "143:\tlearn: 0.2651554\ttotal: 181ms\tremaining: 1.07s\n",
      "144:\tlearn: 0.2641054\ttotal: 182ms\tremaining: 1.07s\n",
      "145:\tlearn: 0.2634125\ttotal: 183ms\tremaining: 1.07s\n",
      "146:\tlearn: 0.2626883\ttotal: 184ms\tremaining: 1.06s\n",
      "147:\tlearn: 0.2616496\ttotal: 184ms\tremaining: 1.06s\n",
      "148:\tlearn: 0.2608300\ttotal: 185ms\tremaining: 1.06s\n",
      "149:\tlearn: 0.2603235\ttotal: 186ms\tremaining: 1.05s\n",
      "150:\tlearn: 0.2593676\ttotal: 187ms\tremaining: 1.05s\n",
      "151:\tlearn: 0.2581314\ttotal: 187ms\tremaining: 1.04s\n",
      "152:\tlearn: 0.2575868\ttotal: 188ms\tremaining: 1.04s\n",
      "153:\tlearn: 0.2567822\ttotal: 189ms\tremaining: 1.04s\n",
      "154:\tlearn: 0.2556971\ttotal: 190ms\tremaining: 1.03s\n",
      "155:\tlearn: 0.2549918\ttotal: 190ms\tremaining: 1.03s\n",
      "156:\tlearn: 0.2542007\ttotal: 191ms\tremaining: 1.03s\n"
     ]
    },
    {
     "name": "stdout",
     "output_type": "stream",
     "text": [
      "157:\tlearn: 0.2533975\ttotal: 192ms\tremaining: 1.02s\n",
      "158:\tlearn: 0.2529397\ttotal: 193ms\tremaining: 1.02s\n",
      "159:\tlearn: 0.2521932\ttotal: 194ms\tremaining: 1.02s\n",
      "160:\tlearn: 0.2515525\ttotal: 195ms\tremaining: 1.01s\n",
      "161:\tlearn: 0.2508244\ttotal: 196ms\tremaining: 1.01s\n",
      "162:\tlearn: 0.2503798\ttotal: 197ms\tremaining: 1.01s\n",
      "163:\tlearn: 0.2496085\ttotal: 197ms\tremaining: 1.01s\n",
      "164:\tlearn: 0.2491022\ttotal: 198ms\tremaining: 1s\n",
      "165:\tlearn: 0.2482421\ttotal: 199ms\tremaining: 1s\n",
      "166:\tlearn: 0.2476466\ttotal: 200ms\tremaining: 997ms\n",
      "167:\tlearn: 0.2463471\ttotal: 201ms\tremaining: 993ms\n",
      "168:\tlearn: 0.2457334\ttotal: 202ms\tremaining: 991ms\n",
      "169:\tlearn: 0.2449547\ttotal: 202ms\tremaining: 988ms\n",
      "170:\tlearn: 0.2439552\ttotal: 203ms\tremaining: 985ms\n",
      "171:\tlearn: 0.2432190\ttotal: 204ms\tremaining: 982ms\n",
      "172:\tlearn: 0.2422087\ttotal: 205ms\tremaining: 978ms\n",
      "173:\tlearn: 0.2412320\ttotal: 206ms\tremaining: 976ms\n",
      "174:\tlearn: 0.2407680\ttotal: 206ms\tremaining: 973ms\n",
      "175:\tlearn: 0.2402370\ttotal: 207ms\tremaining: 970ms\n",
      "176:\tlearn: 0.2393964\ttotal: 208ms\tremaining: 967ms\n",
      "177:\tlearn: 0.2386575\ttotal: 209ms\tremaining: 964ms\n",
      "178:\tlearn: 0.2381053\ttotal: 210ms\tremaining: 961ms\n",
      "179:\tlearn: 0.2374287\ttotal: 210ms\tremaining: 959ms\n",
      "180:\tlearn: 0.2365549\ttotal: 211ms\tremaining: 956ms\n",
      "181:\tlearn: 0.2359644\ttotal: 212ms\tremaining: 953ms\n",
      "182:\tlearn: 0.2353081\ttotal: 213ms\tremaining: 951ms\n",
      "183:\tlearn: 0.2346237\ttotal: 214ms\tremaining: 948ms\n",
      "184:\tlearn: 0.2337568\ttotal: 215ms\tremaining: 946ms\n",
      "185:\tlearn: 0.2331970\ttotal: 215ms\tremaining: 943ms\n",
      "186:\tlearn: 0.2323307\ttotal: 216ms\tremaining: 940ms\n",
      "187:\tlearn: 0.2319090\ttotal: 217ms\tremaining: 937ms\n",
      "188:\tlearn: 0.2313380\ttotal: 218ms\tremaining: 934ms\n",
      "189:\tlearn: 0.2303671\ttotal: 218ms\tremaining: 931ms\n",
      "190:\tlearn: 0.2295819\ttotal: 219ms\tremaining: 929ms\n",
      "191:\tlearn: 0.2287979\ttotal: 220ms\tremaining: 927ms\n",
      "192:\tlearn: 0.2282698\ttotal: 221ms\tremaining: 924ms\n",
      "193:\tlearn: 0.2276656\ttotal: 222ms\tremaining: 922ms\n",
      "194:\tlearn: 0.2270473\ttotal: 223ms\tremaining: 920ms\n",
      "195:\tlearn: 0.2265785\ttotal: 224ms\tremaining: 917ms\n",
      "196:\tlearn: 0.2258095\ttotal: 224ms\tremaining: 915ms\n",
      "197:\tlearn: 0.2252103\ttotal: 225ms\tremaining: 912ms\n",
      "198:\tlearn: 0.2246956\ttotal: 226ms\tremaining: 909ms\n",
      "199:\tlearn: 0.2240231\ttotal: 227ms\tremaining: 907ms\n",
      "200:\tlearn: 0.2232134\ttotal: 228ms\tremaining: 905ms\n",
      "201:\tlearn: 0.2227512\ttotal: 229ms\tremaining: 903ms\n",
      "202:\tlearn: 0.2220426\ttotal: 229ms\tremaining: 901ms\n",
      "203:\tlearn: 0.2214911\ttotal: 230ms\tremaining: 899ms\n",
      "204:\tlearn: 0.2210233\ttotal: 231ms\tremaining: 897ms\n",
      "205:\tlearn: 0.2202896\ttotal: 232ms\tremaining: 894ms\n",
      "206:\tlearn: 0.2198377\ttotal: 233ms\tremaining: 892ms\n",
      "207:\tlearn: 0.2193928\ttotal: 234ms\tremaining: 889ms\n",
      "208:\tlearn: 0.2187617\ttotal: 234ms\tremaining: 887ms\n",
      "209:\tlearn: 0.2183336\ttotal: 235ms\tremaining: 885ms\n",
      "210:\tlearn: 0.2177281\ttotal: 236ms\tremaining: 883ms\n",
      "211:\tlearn: 0.2172569\ttotal: 237ms\tremaining: 881ms\n",
      "212:\tlearn: 0.2166306\ttotal: 238ms\tremaining: 879ms\n",
      "213:\tlearn: 0.2159824\ttotal: 239ms\tremaining: 877ms\n",
      "214:\tlearn: 0.2151765\ttotal: 240ms\tremaining: 875ms\n",
      "215:\tlearn: 0.2145724\ttotal: 241ms\tremaining: 873ms\n",
      "216:\tlearn: 0.2140593\ttotal: 241ms\tremaining: 871ms\n",
      "217:\tlearn: 0.2136233\ttotal: 242ms\tremaining: 870ms\n",
      "218:\tlearn: 0.2129511\ttotal: 243ms\tremaining: 868ms\n",
      "219:\tlearn: 0.2123355\ttotal: 244ms\tremaining: 866ms\n",
      "220:\tlearn: 0.2117874\ttotal: 245ms\tremaining: 864ms\n",
      "221:\tlearn: 0.2112854\ttotal: 246ms\tremaining: 862ms\n",
      "222:\tlearn: 0.2107965\ttotal: 247ms\tremaining: 860ms\n",
      "223:\tlearn: 0.2101618\ttotal: 247ms\tremaining: 857ms\n",
      "224:\tlearn: 0.2095954\ttotal: 248ms\tremaining: 855ms\n",
      "225:\tlearn: 0.2090132\ttotal: 249ms\tremaining: 853ms\n",
      "226:\tlearn: 0.2083859\ttotal: 250ms\tremaining: 851ms\n",
      "227:\tlearn: 0.2081148\ttotal: 251ms\tremaining: 849ms\n",
      "228:\tlearn: 0.2076015\ttotal: 252ms\tremaining: 847ms\n",
      "229:\tlearn: 0.2071489\ttotal: 252ms\tremaining: 845ms\n",
      "230:\tlearn: 0.2066852\ttotal: 253ms\tremaining: 843ms\n",
      "231:\tlearn: 0.2061717\ttotal: 254ms\tremaining: 841ms\n",
      "232:\tlearn: 0.2057361\ttotal: 255ms\tremaining: 839ms\n",
      "233:\tlearn: 0.2053952\ttotal: 256ms\tremaining: 837ms\n",
      "234:\tlearn: 0.2048464\ttotal: 256ms\tremaining: 835ms\n",
      "235:\tlearn: 0.2042824\ttotal: 257ms\tremaining: 833ms\n",
      "236:\tlearn: 0.2036024\ttotal: 258ms\tremaining: 831ms\n",
      "237:\tlearn: 0.2031173\ttotal: 259ms\tremaining: 829ms\n",
      "238:\tlearn: 0.2025245\ttotal: 260ms\tremaining: 826ms\n",
      "239:\tlearn: 0.2019850\ttotal: 260ms\tremaining: 824ms\n",
      "240:\tlearn: 0.2015581\ttotal: 261ms\tremaining: 822ms\n",
      "241:\tlearn: 0.2013686\ttotal: 262ms\tremaining: 820ms\n",
      "242:\tlearn: 0.2010536\ttotal: 263ms\tremaining: 819ms\n",
      "243:\tlearn: 0.2005214\ttotal: 264ms\tremaining: 817ms\n",
      "244:\tlearn: 0.2002460\ttotal: 264ms\tremaining: 815ms\n",
      "245:\tlearn: 0.1998439\ttotal: 265ms\tremaining: 813ms\n",
      "246:\tlearn: 0.1994542\ttotal: 266ms\tremaining: 812ms\n",
      "247:\tlearn: 0.1990712\ttotal: 267ms\tremaining: 810ms\n",
      "248:\tlearn: 0.1984606\ttotal: 268ms\tremaining: 810ms\n",
      "249:\tlearn: 0.1982278\ttotal: 269ms\tremaining: 807ms\n",
      "250:\tlearn: 0.1979545\ttotal: 270ms\tremaining: 806ms\n",
      "251:\tlearn: 0.1974461\ttotal: 271ms\tremaining: 804ms\n",
      "252:\tlearn: 0.1972293\ttotal: 272ms\tremaining: 802ms\n",
      "253:\tlearn: 0.1969946\ttotal: 272ms\tremaining: 800ms\n",
      "254:\tlearn: 0.1964621\ttotal: 273ms\tremaining: 798ms\n",
      "255:\tlearn: 0.1961910\ttotal: 274ms\tremaining: 796ms\n",
      "256:\tlearn: 0.1956891\ttotal: 275ms\tremaining: 795ms\n",
      "257:\tlearn: 0.1954961\ttotal: 276ms\tremaining: 793ms\n",
      "258:\tlearn: 0.1949475\ttotal: 276ms\tremaining: 791ms\n",
      "259:\tlearn: 0.1947019\ttotal: 277ms\tremaining: 789ms\n",
      "260:\tlearn: 0.1944351\ttotal: 278ms\tremaining: 788ms\n",
      "261:\tlearn: 0.1938363\ttotal: 279ms\tremaining: 785ms\n",
      "262:\tlearn: 0.1934090\ttotal: 280ms\tremaining: 784ms\n",
      "263:\tlearn: 0.1931638\ttotal: 281ms\tremaining: 782ms\n",
      "264:\tlearn: 0.1926762\ttotal: 281ms\tremaining: 780ms\n",
      "265:\tlearn: 0.1922412\ttotal: 282ms\tremaining: 778ms\n",
      "266:\tlearn: 0.1917920\ttotal: 283ms\tremaining: 777ms\n",
      "267:\tlearn: 0.1916019\ttotal: 284ms\tremaining: 775ms\n",
      "268:\tlearn: 0.1914035\ttotal: 284ms\tremaining: 773ms\n",
      "269:\tlearn: 0.1908046\ttotal: 285ms\tremaining: 771ms\n",
      "270:\tlearn: 0.1904179\ttotal: 286ms\tremaining: 769ms\n",
      "271:\tlearn: 0.1901475\ttotal: 287ms\tremaining: 768ms\n",
      "272:\tlearn: 0.1898216\ttotal: 288ms\tremaining: 768ms\n",
      "273:\tlearn: 0.1891797\ttotal: 289ms\tremaining: 766ms\n",
      "274:\tlearn: 0.1889927\ttotal: 290ms\tremaining: 764ms\n",
      "275:\tlearn: 0.1883782\ttotal: 291ms\tremaining: 762ms\n",
      "276:\tlearn: 0.1878710\ttotal: 291ms\tremaining: 761ms\n",
      "277:\tlearn: 0.1873707\ttotal: 292ms\tremaining: 759ms\n",
      "278:\tlearn: 0.1869838\ttotal: 293ms\tremaining: 758ms\n",
      "279:\tlearn: 0.1864861\ttotal: 294ms\tremaining: 756ms\n",
      "280:\tlearn: 0.1860960\ttotal: 295ms\tremaining: 755ms\n",
      "281:\tlearn: 0.1859173\ttotal: 296ms\tremaining: 753ms\n",
      "282:\tlearn: 0.1854823\ttotal: 296ms\tremaining: 751ms\n"
     ]
    },
    {
     "name": "stdout",
     "output_type": "stream",
     "text": [
      "283:\tlearn: 0.1852726\ttotal: 298ms\tremaining: 750ms\n",
      "284:\tlearn: 0.1850747\ttotal: 299ms\tremaining: 749ms\n",
      "285:\tlearn: 0.1847419\ttotal: 299ms\tremaining: 747ms\n",
      "286:\tlearn: 0.1843477\ttotal: 300ms\tremaining: 746ms\n",
      "287:\tlearn: 0.1837562\ttotal: 301ms\tremaining: 744ms\n",
      "288:\tlearn: 0.1831810\ttotal: 302ms\tremaining: 742ms\n",
      "289:\tlearn: 0.1826785\ttotal: 303ms\tremaining: 741ms\n",
      "290:\tlearn: 0.1822010\ttotal: 304ms\tremaining: 740ms\n",
      "291:\tlearn: 0.1816774\ttotal: 305ms\tremaining: 738ms\n",
      "292:\tlearn: 0.1812903\ttotal: 305ms\tremaining: 737ms\n",
      "293:\tlearn: 0.1809233\ttotal: 306ms\tremaining: 735ms\n",
      "294:\tlearn: 0.1803342\ttotal: 307ms\tremaining: 734ms\n",
      "295:\tlearn: 0.1798900\ttotal: 308ms\tremaining: 733ms\n",
      "296:\tlearn: 0.1797307\ttotal: 309ms\tremaining: 731ms\n",
      "297:\tlearn: 0.1795758\ttotal: 310ms\tremaining: 729ms\n",
      "298:\tlearn: 0.1791279\ttotal: 310ms\tremaining: 728ms\n",
      "299:\tlearn: 0.1788262\ttotal: 311ms\tremaining: 727ms\n",
      "300:\tlearn: 0.1784250\ttotal: 312ms\tremaining: 726ms\n",
      "301:\tlearn: 0.1782463\ttotal: 313ms\tremaining: 724ms\n",
      "302:\tlearn: 0.1777144\ttotal: 314ms\tremaining: 723ms\n",
      "303:\tlearn: 0.1773422\ttotal: 315ms\tremaining: 721ms\n",
      "304:\tlearn: 0.1768068\ttotal: 316ms\tremaining: 719ms\n",
      "305:\tlearn: 0.1766422\ttotal: 317ms\tremaining: 718ms\n",
      "306:\tlearn: 0.1762915\ttotal: 318ms\tremaining: 718ms\n",
      "307:\tlearn: 0.1761315\ttotal: 319ms\tremaining: 717ms\n",
      "308:\tlearn: 0.1758212\ttotal: 320ms\tremaining: 715ms\n",
      "309:\tlearn: 0.1756818\ttotal: 321ms\tremaining: 715ms\n",
      "310:\tlearn: 0.1755385\ttotal: 322ms\tremaining: 713ms\n",
      "311:\tlearn: 0.1751629\ttotal: 323ms\tremaining: 712ms\n",
      "312:\tlearn: 0.1750068\ttotal: 324ms\tremaining: 711ms\n",
      "313:\tlearn: 0.1748256\ttotal: 324ms\tremaining: 709ms\n",
      "314:\tlearn: 0.1742282\ttotal: 325ms\tremaining: 707ms\n",
      "315:\tlearn: 0.1738873\ttotal: 326ms\tremaining: 706ms\n",
      "316:\tlearn: 0.1737560\ttotal: 327ms\tremaining: 704ms\n",
      "317:\tlearn: 0.1734060\ttotal: 328ms\tremaining: 703ms\n",
      "318:\tlearn: 0.1731610\ttotal: 329ms\tremaining: 702ms\n",
      "319:\tlearn: 0.1727454\ttotal: 330ms\tremaining: 700ms\n",
      "320:\tlearn: 0.1721833\ttotal: 330ms\tremaining: 699ms\n",
      "321:\tlearn: 0.1718493\ttotal: 331ms\tremaining: 697ms\n",
      "322:\tlearn: 0.1715321\ttotal: 332ms\tremaining: 696ms\n",
      "323:\tlearn: 0.1712345\ttotal: 333ms\tremaining: 695ms\n",
      "324:\tlearn: 0.1711031\ttotal: 334ms\tremaining: 693ms\n",
      "325:\tlearn: 0.1707943\ttotal: 334ms\tremaining: 691ms\n",
      "326:\tlearn: 0.1706606\ttotal: 335ms\tremaining: 690ms\n",
      "327:\tlearn: 0.1703245\ttotal: 336ms\tremaining: 689ms\n",
      "328:\tlearn: 0.1701959\ttotal: 337ms\tremaining: 687ms\n",
      "329:\tlearn: 0.1699224\ttotal: 338ms\tremaining: 686ms\n",
      "330:\tlearn: 0.1696526\ttotal: 339ms\tremaining: 685ms\n",
      "331:\tlearn: 0.1695442\ttotal: 340ms\tremaining: 683ms\n",
      "332:\tlearn: 0.1694040\ttotal: 340ms\tremaining: 682ms\n",
      "333:\tlearn: 0.1690757\ttotal: 341ms\tremaining: 680ms\n",
      "334:\tlearn: 0.1687197\ttotal: 342ms\tremaining: 679ms\n",
      "335:\tlearn: 0.1683019\ttotal: 343ms\tremaining: 678ms\n",
      "336:\tlearn: 0.1681854\ttotal: 344ms\tremaining: 676ms\n",
      "337:\tlearn: 0.1675165\ttotal: 345ms\tremaining: 675ms\n",
      "338:\tlearn: 0.1671595\ttotal: 345ms\tremaining: 673ms\n",
      "339:\tlearn: 0.1669905\ttotal: 346ms\tremaining: 672ms\n",
      "340:\tlearn: 0.1667036\ttotal: 347ms\tremaining: 671ms\n",
      "341:\tlearn: 0.1661665\ttotal: 348ms\tremaining: 670ms\n",
      "342:\tlearn: 0.1656340\ttotal: 349ms\tremaining: 668ms\n",
      "343:\tlearn: 0.1652793\ttotal: 350ms\tremaining: 667ms\n",
      "344:\tlearn: 0.1650468\ttotal: 350ms\tremaining: 665ms\n",
      "345:\tlearn: 0.1646279\ttotal: 351ms\tremaining: 664ms\n",
      "346:\tlearn: 0.1641173\ttotal: 352ms\tremaining: 663ms\n",
      "347:\tlearn: 0.1638654\ttotal: 353ms\tremaining: 661ms\n",
      "348:\tlearn: 0.1636944\ttotal: 354ms\tremaining: 660ms\n",
      "349:\tlearn: 0.1632279\ttotal: 355ms\tremaining: 659ms\n",
      "350:\tlearn: 0.1627489\ttotal: 355ms\tremaining: 657ms\n",
      "351:\tlearn: 0.1624381\ttotal: 356ms\tremaining: 656ms\n",
      "352:\tlearn: 0.1621274\ttotal: 357ms\tremaining: 655ms\n",
      "353:\tlearn: 0.1620241\ttotal: 358ms\tremaining: 653ms\n",
      "354:\tlearn: 0.1618501\ttotal: 359ms\tremaining: 652ms\n",
      "355:\tlearn: 0.1617537\ttotal: 360ms\tremaining: 650ms\n",
      "356:\tlearn: 0.1615983\ttotal: 360ms\tremaining: 649ms\n",
      "357:\tlearn: 0.1609650\ttotal: 361ms\tremaining: 648ms\n",
      "358:\tlearn: 0.1607842\ttotal: 362ms\tremaining: 646ms\n",
      "359:\tlearn: 0.1605694\ttotal: 363ms\tremaining: 645ms\n",
      "360:\tlearn: 0.1601943\ttotal: 364ms\tremaining: 644ms\n",
      "361:\tlearn: 0.1601046\ttotal: 364ms\tremaining: 642ms\n",
      "362:\tlearn: 0.1598767\ttotal: 365ms\tremaining: 641ms\n",
      "363:\tlearn: 0.1597888\ttotal: 366ms\tremaining: 639ms\n",
      "364:\tlearn: 0.1596841\ttotal: 367ms\tremaining: 638ms\n",
      "365:\tlearn: 0.1595873\ttotal: 368ms\tremaining: 637ms\n",
      "366:\tlearn: 0.1593055\ttotal: 369ms\tremaining: 636ms\n",
      "367:\tlearn: 0.1589869\ttotal: 370ms\tremaining: 635ms\n",
      "368:\tlearn: 0.1587465\ttotal: 371ms\tremaining: 634ms\n",
      "369:\tlearn: 0.1586341\ttotal: 371ms\tremaining: 632ms\n",
      "370:\tlearn: 0.1583869\ttotal: 372ms\tremaining: 631ms\n",
      "371:\tlearn: 0.1579377\ttotal: 373ms\tremaining: 629ms\n",
      "372:\tlearn: 0.1575960\ttotal: 374ms\tremaining: 628ms\n",
      "373:\tlearn: 0.1574647\ttotal: 374ms\tremaining: 627ms\n",
      "374:\tlearn: 0.1570795\ttotal: 375ms\tremaining: 625ms\n",
      "375:\tlearn: 0.1566804\ttotal: 376ms\tremaining: 624ms\n",
      "376:\tlearn: 0.1562496\ttotal: 377ms\tremaining: 623ms\n",
      "377:\tlearn: 0.1558724\ttotal: 378ms\tremaining: 621ms\n",
      "378:\tlearn: 0.1556438\ttotal: 378ms\tremaining: 620ms\n",
      "379:\tlearn: 0.1554495\ttotal: 379ms\tremaining: 619ms\n",
      "380:\tlearn: 0.1553847\ttotal: 380ms\tremaining: 618ms\n",
      "381:\tlearn: 0.1550657\ttotal: 381ms\tremaining: 616ms\n"
     ]
    },
    {
     "name": "stdout",
     "output_type": "stream",
     "text": [
      "382:\tlearn: 0.1547009\ttotal: 382ms\tremaining: 616ms\n",
      "383:\tlearn: 0.1545689\ttotal: 383ms\tremaining: 614ms\n",
      "384:\tlearn: 0.1544599\ttotal: 384ms\tremaining: 613ms\n",
      "385:\tlearn: 0.1540049\ttotal: 385ms\tremaining: 612ms\n",
      "386:\tlearn: 0.1536729\ttotal: 386ms\tremaining: 611ms\n",
      "387:\tlearn: 0.1534538\ttotal: 386ms\tremaining: 610ms\n",
      "388:\tlearn: 0.1530205\ttotal: 387ms\tremaining: 608ms\n",
      "389:\tlearn: 0.1528740\ttotal: 388ms\tremaining: 607ms\n",
      "390:\tlearn: 0.1524874\ttotal: 389ms\tremaining: 606ms\n",
      "391:\tlearn: 0.1521582\ttotal: 390ms\tremaining: 604ms\n",
      "392:\tlearn: 0.1518768\ttotal: 390ms\tremaining: 603ms\n",
      "393:\tlearn: 0.1516804\ttotal: 391ms\tremaining: 602ms\n",
      "394:\tlearn: 0.1514942\ttotal: 392ms\tremaining: 601ms\n",
      "395:\tlearn: 0.1511862\ttotal: 393ms\tremaining: 599ms\n",
      "396:\tlearn: 0.1509699\ttotal: 394ms\tremaining: 598ms\n",
      "397:\tlearn: 0.1506127\ttotal: 394ms\tremaining: 597ms\n",
      "398:\tlearn: 0.1504560\ttotal: 395ms\tremaining: 595ms\n",
      "399:\tlearn: 0.1503964\ttotal: 396ms\tremaining: 594ms\n",
      "400:\tlearn: 0.1500170\ttotal: 397ms\tremaining: 593ms\n",
      "401:\tlearn: 0.1495861\ttotal: 398ms\tremaining: 592ms\n",
      "402:\tlearn: 0.1493346\ttotal: 399ms\tremaining: 591ms\n",
      "403:\tlearn: 0.1489446\ttotal: 400ms\tremaining: 590ms\n",
      "404:\tlearn: 0.1486871\ttotal: 400ms\tremaining: 588ms\n",
      "405:\tlearn: 0.1485129\ttotal: 401ms\tremaining: 587ms\n",
      "406:\tlearn: 0.1483957\ttotal: 402ms\tremaining: 586ms\n",
      "407:\tlearn: 0.1481344\ttotal: 403ms\tremaining: 584ms\n",
      "408:\tlearn: 0.1480259\ttotal: 403ms\tremaining: 583ms\n",
      "409:\tlearn: 0.1478142\ttotal: 404ms\tremaining: 582ms\n",
      "410:\tlearn: 0.1473766\ttotal: 405ms\tremaining: 580ms\n",
      "411:\tlearn: 0.1469333\ttotal: 406ms\tremaining: 579ms\n",
      "412:\tlearn: 0.1467372\ttotal: 407ms\tremaining: 578ms\n",
      "413:\tlearn: 0.1463620\ttotal: 407ms\tremaining: 577ms\n",
      "414:\tlearn: 0.1462507\ttotal: 408ms\tremaining: 575ms\n",
      "415:\tlearn: 0.1460662\ttotal: 409ms\tremaining: 574ms\n",
      "416:\tlearn: 0.1457157\ttotal: 410ms\tremaining: 573ms\n",
      "417:\tlearn: 0.1454676\ttotal: 411ms\tremaining: 572ms\n",
      "418:\tlearn: 0.1451260\ttotal: 411ms\tremaining: 570ms\n",
      "419:\tlearn: 0.1448097\ttotal: 412ms\tremaining: 569ms\n",
      "420:\tlearn: 0.1442478\ttotal: 413ms\tremaining: 568ms\n",
      "421:\tlearn: 0.1440180\ttotal: 414ms\tremaining: 567ms\n",
      "422:\tlearn: 0.1438151\ttotal: 415ms\tremaining: 566ms\n",
      "423:\tlearn: 0.1433293\ttotal: 416ms\tremaining: 565ms\n",
      "424:\tlearn: 0.1431019\ttotal: 417ms\tremaining: 564ms\n",
      "425:\tlearn: 0.1428481\ttotal: 418ms\tremaining: 563ms\n",
      "426:\tlearn: 0.1426327\ttotal: 419ms\tremaining: 562ms\n",
      "427:\tlearn: 0.1423142\ttotal: 419ms\tremaining: 561ms\n",
      "428:\tlearn: 0.1418203\ttotal: 420ms\tremaining: 559ms\n",
      "429:\tlearn: 0.1417448\ttotal: 421ms\tremaining: 558ms\n",
      "430:\tlearn: 0.1413170\ttotal: 422ms\tremaining: 557ms\n",
      "431:\tlearn: 0.1410728\ttotal: 423ms\tremaining: 556ms\n",
      "432:\tlearn: 0.1407562\ttotal: 424ms\tremaining: 555ms\n",
      "433:\tlearn: 0.1405811\ttotal: 425ms\tremaining: 554ms\n",
      "434:\tlearn: 0.1401319\ttotal: 426ms\tremaining: 553ms\n",
      "435:\tlearn: 0.1400557\ttotal: 427ms\tremaining: 552ms\n",
      "436:\tlearn: 0.1397995\ttotal: 427ms\tremaining: 551ms\n",
      "437:\tlearn: 0.1395107\ttotal: 429ms\tremaining: 550ms\n",
      "438:\tlearn: 0.1393433\ttotal: 429ms\tremaining: 549ms\n",
      "439:\tlearn: 0.1390809\ttotal: 430ms\tremaining: 548ms\n",
      "440:\tlearn: 0.1387280\ttotal: 431ms\tremaining: 546ms\n",
      "441:\tlearn: 0.1384487\ttotal: 432ms\tremaining: 545ms\n",
      "442:\tlearn: 0.1379801\ttotal: 433ms\tremaining: 544ms\n",
      "443:\tlearn: 0.1376788\ttotal: 433ms\tremaining: 543ms\n",
      "444:\tlearn: 0.1376032\ttotal: 434ms\tremaining: 542ms\n",
      "445:\tlearn: 0.1372410\ttotal: 435ms\tremaining: 540ms\n",
      "446:\tlearn: 0.1368100\ttotal: 436ms\tremaining: 539ms\n",
      "447:\tlearn: 0.1365990\ttotal: 437ms\tremaining: 538ms\n",
      "448:\tlearn: 0.1362042\ttotal: 437ms\tremaining: 537ms\n",
      "449:\tlearn: 0.1358458\ttotal: 438ms\tremaining: 536ms\n",
      "450:\tlearn: 0.1357483\ttotal: 439ms\tremaining: 535ms\n",
      "451:\tlearn: 0.1355613\ttotal: 440ms\tremaining: 534ms\n",
      "452:\tlearn: 0.1352604\ttotal: 441ms\tremaining: 533ms\n",
      "453:\tlearn: 0.1348986\ttotal: 442ms\tremaining: 532ms\n",
      "454:\tlearn: 0.1345479\ttotal: 443ms\tremaining: 530ms\n",
      "455:\tlearn: 0.1342524\ttotal: 444ms\tremaining: 529ms\n",
      "456:\tlearn: 0.1339057\ttotal: 444ms\tremaining: 528ms\n",
      "457:\tlearn: 0.1335471\ttotal: 445ms\tremaining: 527ms\n",
      "458:\tlearn: 0.1333577\ttotal: 446ms\tremaining: 526ms\n",
      "459:\tlearn: 0.1330454\ttotal: 447ms\tremaining: 525ms\n",
      "460:\tlearn: 0.1327626\ttotal: 448ms\tremaining: 523ms\n",
      "461:\tlearn: 0.1325685\ttotal: 449ms\tremaining: 522ms\n",
      "462:\tlearn: 0.1321573\ttotal: 449ms\tremaining: 521ms\n",
      "463:\tlearn: 0.1318495\ttotal: 450ms\tremaining: 520ms\n",
      "464:\tlearn: 0.1315517\ttotal: 451ms\tremaining: 519ms\n",
      "465:\tlearn: 0.1312599\ttotal: 452ms\tremaining: 518ms\n",
      "466:\tlearn: 0.1309303\ttotal: 452ms\tremaining: 516ms\n",
      "467:\tlearn: 0.1307696\ttotal: 453ms\tremaining: 515ms\n",
      "468:\tlearn: 0.1305050\ttotal: 454ms\tremaining: 514ms\n",
      "469:\tlearn: 0.1302593\ttotal: 455ms\tremaining: 513ms\n",
      "470:\tlearn: 0.1299513\ttotal: 456ms\tremaining: 512ms\n",
      "471:\tlearn: 0.1297793\ttotal: 457ms\tremaining: 511ms\n",
      "472:\tlearn: 0.1295430\ttotal: 457ms\tremaining: 510ms\n",
      "473:\tlearn: 0.1293979\ttotal: 458ms\tremaining: 509ms\n",
      "474:\tlearn: 0.1291306\ttotal: 459ms\tremaining: 507ms\n",
      "475:\tlearn: 0.1288956\ttotal: 460ms\tremaining: 506ms\n",
      "476:\tlearn: 0.1287945\ttotal: 461ms\tremaining: 505ms\n",
      "477:\tlearn: 0.1286026\ttotal: 462ms\tremaining: 504ms\n",
      "478:\tlearn: 0.1282703\ttotal: 462ms\tremaining: 503ms\n",
      "479:\tlearn: 0.1279781\ttotal: 463ms\tremaining: 502ms\n",
      "480:\tlearn: 0.1277632\ttotal: 464ms\tremaining: 501ms\n",
      "481:\tlearn: 0.1274553\ttotal: 465ms\tremaining: 500ms\n",
      "482:\tlearn: 0.1271357\ttotal: 466ms\tremaining: 498ms\n",
      "483:\tlearn: 0.1268768\ttotal: 467ms\tremaining: 497ms\n",
      "484:\tlearn: 0.1266961\ttotal: 468ms\tremaining: 496ms\n",
      "485:\tlearn: 0.1265991\ttotal: 468ms\tremaining: 495ms\n",
      "486:\tlearn: 0.1263314\ttotal: 469ms\tremaining: 494ms\n",
      "487:\tlearn: 0.1259162\ttotal: 470ms\tremaining: 494ms\n",
      "488:\tlearn: 0.1255806\ttotal: 471ms\tremaining: 493ms\n",
      "489:\tlearn: 0.1252594\ttotal: 472ms\tremaining: 491ms\n",
      "490:\tlearn: 0.1248909\ttotal: 473ms\tremaining: 490ms\n",
      "491:\tlearn: 0.1247247\ttotal: 474ms\tremaining: 489ms\n",
      "492:\tlearn: 0.1243346\ttotal: 475ms\tremaining: 489ms\n",
      "493:\tlearn: 0.1239474\ttotal: 476ms\tremaining: 488ms\n",
      "494:\tlearn: 0.1237852\ttotal: 477ms\tremaining: 487ms\n",
      "495:\tlearn: 0.1234486\ttotal: 478ms\tremaining: 486ms\n",
      "496:\tlearn: 0.1233965\ttotal: 479ms\tremaining: 485ms\n",
      "497:\tlearn: 0.1230776\ttotal: 480ms\tremaining: 484ms\n",
      "498:\tlearn: 0.1227679\ttotal: 481ms\tremaining: 483ms\n",
      "499:\tlearn: 0.1225633\ttotal: 482ms\tremaining: 482ms\n",
      "500:\tlearn: 0.1223462\ttotal: 482ms\tremaining: 480ms\n",
      "501:\tlearn: 0.1220652\ttotal: 483ms\tremaining: 480ms\n",
      "502:\tlearn: 0.1218178\ttotal: 484ms\tremaining: 479ms\n",
      "503:\tlearn: 0.1214592\ttotal: 485ms\tremaining: 477ms\n",
      "504:\tlearn: 0.1211986\ttotal: 486ms\tremaining: 476ms\n",
      "505:\tlearn: 0.1208510\ttotal: 487ms\tremaining: 475ms\n"
     ]
    },
    {
     "name": "stdout",
     "output_type": "stream",
     "text": [
      "506:\tlearn: 0.1206411\ttotal: 488ms\tremaining: 474ms\n",
      "507:\tlearn: 0.1204125\ttotal: 489ms\tremaining: 473ms\n",
      "508:\tlearn: 0.1202498\ttotal: 490ms\tremaining: 472ms\n",
      "509:\tlearn: 0.1201531\ttotal: 490ms\tremaining: 471ms\n",
      "510:\tlearn: 0.1199150\ttotal: 491ms\tremaining: 470ms\n",
      "511:\tlearn: 0.1196630\ttotal: 492ms\tremaining: 469ms\n",
      "512:\tlearn: 0.1194298\ttotal: 493ms\tremaining: 468ms\n",
      "513:\tlearn: 0.1191399\ttotal: 494ms\tremaining: 467ms\n",
      "514:\tlearn: 0.1190753\ttotal: 495ms\tremaining: 466ms\n",
      "515:\tlearn: 0.1187582\ttotal: 496ms\tremaining: 466ms\n",
      "516:\tlearn: 0.1186782\ttotal: 497ms\tremaining: 464ms\n",
      "517:\tlearn: 0.1184208\ttotal: 498ms\tremaining: 463ms\n",
      "518:\tlearn: 0.1181127\ttotal: 499ms\tremaining: 462ms\n",
      "519:\tlearn: 0.1179008\ttotal: 500ms\tremaining: 461ms\n",
      "520:\tlearn: 0.1177107\ttotal: 500ms\tremaining: 460ms\n",
      "521:\tlearn: 0.1174446\ttotal: 501ms\tremaining: 459ms\n",
      "522:\tlearn: 0.1171219\ttotal: 502ms\tremaining: 458ms\n",
      "523:\tlearn: 0.1169131\ttotal: 503ms\tremaining: 457ms\n",
      "524:\tlearn: 0.1168023\ttotal: 504ms\tremaining: 456ms\n",
      "525:\tlearn: 0.1167353\ttotal: 504ms\tremaining: 455ms\n",
      "526:\tlearn: 0.1165523\ttotal: 505ms\tremaining: 454ms\n",
      "527:\tlearn: 0.1163421\ttotal: 506ms\tremaining: 452ms\n",
      "528:\tlearn: 0.1160399\ttotal: 507ms\tremaining: 451ms\n",
      "529:\tlearn: 0.1157080\ttotal: 508ms\tremaining: 450ms\n",
      "530:\tlearn: 0.1155272\ttotal: 508ms\tremaining: 449ms\n",
      "531:\tlearn: 0.1152805\ttotal: 509ms\tremaining: 448ms\n",
      "532:\tlearn: 0.1150216\ttotal: 510ms\tremaining: 447ms\n",
      "533:\tlearn: 0.1147515\ttotal: 511ms\tremaining: 446ms\n",
      "534:\tlearn: 0.1145343\ttotal: 512ms\tremaining: 445ms\n",
      "535:\tlearn: 0.1143194\ttotal: 513ms\tremaining: 444ms\n",
      "536:\tlearn: 0.1140875\ttotal: 514ms\tremaining: 443ms\n",
      "537:\tlearn: 0.1139399\ttotal: 515ms\tremaining: 442ms\n",
      "538:\tlearn: 0.1138748\ttotal: 516ms\tremaining: 441ms\n",
      "539:\tlearn: 0.1136185\ttotal: 517ms\tremaining: 440ms\n",
      "540:\tlearn: 0.1133511\ttotal: 518ms\tremaining: 439ms\n",
      "541:\tlearn: 0.1131917\ttotal: 518ms\tremaining: 438ms\n",
      "542:\tlearn: 0.1129953\ttotal: 519ms\tremaining: 437ms\n",
      "543:\tlearn: 0.1127255\ttotal: 520ms\tremaining: 436ms\n",
      "544:\tlearn: 0.1123948\ttotal: 521ms\tremaining: 435ms\n",
      "545:\tlearn: 0.1121197\ttotal: 522ms\tremaining: 434ms\n",
      "546:\tlearn: 0.1118743\ttotal: 522ms\tremaining: 433ms\n",
      "547:\tlearn: 0.1115998\ttotal: 523ms\tremaining: 432ms\n",
      "548:\tlearn: 0.1114492\ttotal: 524ms\tremaining: 430ms\n",
      "549:\tlearn: 0.1111249\ttotal: 525ms\tremaining: 429ms\n",
      "550:\tlearn: 0.1109682\ttotal: 526ms\tremaining: 428ms\n",
      "551:\tlearn: 0.1107605\ttotal: 526ms\tremaining: 427ms\n",
      "552:\tlearn: 0.1105594\ttotal: 527ms\tremaining: 426ms\n",
      "553:\tlearn: 0.1103393\ttotal: 528ms\tremaining: 425ms\n",
      "554:\tlearn: 0.1101189\ttotal: 529ms\tremaining: 424ms\n",
      "555:\tlearn: 0.1099764\ttotal: 530ms\tremaining: 423ms\n",
      "556:\tlearn: 0.1097668\ttotal: 531ms\tremaining: 422ms\n",
      "557:\tlearn: 0.1096357\ttotal: 532ms\tremaining: 421ms\n",
      "558:\tlearn: 0.1093785\ttotal: 532ms\tremaining: 420ms\n",
      "559:\tlearn: 0.1091937\ttotal: 533ms\tremaining: 419ms\n",
      "560:\tlearn: 0.1089781\ttotal: 534ms\tremaining: 418ms\n",
      "561:\tlearn: 0.1087451\ttotal: 535ms\tremaining: 417ms\n",
      "562:\tlearn: 0.1085325\ttotal: 535ms\tremaining: 416ms\n",
      "563:\tlearn: 0.1082523\ttotal: 536ms\tremaining: 415ms\n",
      "564:\tlearn: 0.1080396\ttotal: 537ms\tremaining: 414ms\n",
      "565:\tlearn: 0.1077561\ttotal: 538ms\tremaining: 412ms\n",
      "566:\tlearn: 0.1075529\ttotal: 539ms\tremaining: 411ms\n",
      "567:\tlearn: 0.1072348\ttotal: 540ms\tremaining: 410ms\n",
      "568:\tlearn: 0.1069513\ttotal: 541ms\tremaining: 410ms\n",
      "569:\tlearn: 0.1066700\ttotal: 542ms\tremaining: 409ms\n",
      "570:\tlearn: 0.1065130\ttotal: 543ms\tremaining: 408ms\n",
      "571:\tlearn: 0.1062826\ttotal: 544ms\tremaining: 407ms\n",
      "572:\tlearn: 0.1060971\ttotal: 545ms\tremaining: 406ms\n",
      "573:\tlearn: 0.1058346\ttotal: 546ms\tremaining: 405ms\n",
      "574:\tlearn: 0.1055628\ttotal: 547ms\tremaining: 404ms\n",
      "575:\tlearn: 0.1053788\ttotal: 549ms\tremaining: 404ms\n",
      "576:\tlearn: 0.1051380\ttotal: 549ms\tremaining: 403ms\n",
      "577:\tlearn: 0.1049661\ttotal: 550ms\tremaining: 402ms\n",
      "578:\tlearn: 0.1048173\ttotal: 551ms\tremaining: 401ms\n",
      "579:\tlearn: 0.1046370\ttotal: 552ms\tremaining: 400ms\n",
      "580:\tlearn: 0.1045266\ttotal: 553ms\tremaining: 399ms\n",
      "581:\tlearn: 0.1043777\ttotal: 554ms\tremaining: 398ms\n",
      "582:\tlearn: 0.1042077\ttotal: 555ms\tremaining: 397ms\n",
      "583:\tlearn: 0.1040953\ttotal: 555ms\tremaining: 396ms\n",
      "584:\tlearn: 0.1038233\ttotal: 556ms\tremaining: 395ms\n",
      "585:\tlearn: 0.1037325\ttotal: 557ms\tremaining: 394ms\n",
      "586:\tlearn: 0.1036296\ttotal: 558ms\tremaining: 393ms\n",
      "587:\tlearn: 0.1033317\ttotal: 559ms\tremaining: 392ms\n",
      "588:\tlearn: 0.1032559\ttotal: 560ms\tremaining: 391ms\n",
      "589:\tlearn: 0.1031487\ttotal: 561ms\tremaining: 390ms\n",
      "590:\tlearn: 0.1029726\ttotal: 562ms\tremaining: 389ms\n",
      "591:\tlearn: 0.1027703\ttotal: 562ms\tremaining: 388ms\n",
      "592:\tlearn: 0.1025832\ttotal: 563ms\tremaining: 387ms\n",
      "593:\tlearn: 0.1024611\ttotal: 564ms\tremaining: 386ms\n",
      "594:\tlearn: 0.1023005\ttotal: 565ms\tremaining: 385ms\n",
      "595:\tlearn: 0.1021352\ttotal: 566ms\tremaining: 384ms\n",
      "596:\tlearn: 0.1019321\ttotal: 567ms\tremaining: 383ms\n",
      "597:\tlearn: 0.1017288\ttotal: 568ms\tremaining: 382ms\n",
      "598:\tlearn: 0.1014712\ttotal: 568ms\tremaining: 381ms\n",
      "599:\tlearn: 0.1013650\ttotal: 569ms\tremaining: 380ms\n",
      "600:\tlearn: 0.1012328\ttotal: 570ms\tremaining: 378ms\n",
      "601:\tlearn: 0.1010363\ttotal: 571ms\tremaining: 378ms\n"
     ]
    },
    {
     "name": "stdout",
     "output_type": "stream",
     "text": [
      "602:\tlearn: 0.1007987\ttotal: 572ms\tremaining: 377ms\n",
      "603:\tlearn: 0.1006748\ttotal: 573ms\tremaining: 376ms\n",
      "604:\tlearn: 0.1005040\ttotal: 574ms\tremaining: 375ms\n",
      "605:\tlearn: 0.1003469\ttotal: 575ms\tremaining: 374ms\n",
      "606:\tlearn: 0.1000398\ttotal: 576ms\tremaining: 373ms\n",
      "607:\tlearn: 0.0998677\ttotal: 577ms\tremaining: 372ms\n",
      "608:\tlearn: 0.0997380\ttotal: 577ms\tremaining: 371ms\n",
      "609:\tlearn: 0.0994949\ttotal: 578ms\tremaining: 370ms\n",
      "610:\tlearn: 0.0993187\ttotal: 579ms\tremaining: 369ms\n",
      "611:\tlearn: 0.0991036\ttotal: 580ms\tremaining: 368ms\n",
      "612:\tlearn: 0.0989660\ttotal: 581ms\tremaining: 367ms\n",
      "613:\tlearn: 0.0987157\ttotal: 582ms\tremaining: 366ms\n",
      "614:\tlearn: 0.0986288\ttotal: 583ms\tremaining: 365ms\n",
      "615:\tlearn: 0.0985297\ttotal: 583ms\tremaining: 364ms\n",
      "616:\tlearn: 0.0984224\ttotal: 584ms\tremaining: 363ms\n",
      "617:\tlearn: 0.0983297\ttotal: 585ms\tremaining: 362ms\n",
      "618:\tlearn: 0.0983002\ttotal: 586ms\tremaining: 361ms\n",
      "619:\tlearn: 0.0981896\ttotal: 587ms\tremaining: 360ms\n",
      "620:\tlearn: 0.0981222\ttotal: 587ms\tremaining: 358ms\n",
      "621:\tlearn: 0.0979082\ttotal: 588ms\tremaining: 357ms\n",
      "622:\tlearn: 0.0976185\ttotal: 589ms\tremaining: 356ms\n",
      "623:\tlearn: 0.0975192\ttotal: 590ms\tremaining: 355ms\n",
      "624:\tlearn: 0.0973743\ttotal: 591ms\tremaining: 354ms\n",
      "625:\tlearn: 0.0971633\ttotal: 592ms\tremaining: 353ms\n",
      "626:\tlearn: 0.0970725\ttotal: 593ms\tremaining: 353ms\n",
      "627:\tlearn: 0.0969009\ttotal: 594ms\tremaining: 352ms\n",
      "628:\tlearn: 0.0967848\ttotal: 595ms\tremaining: 351ms\n",
      "629:\tlearn: 0.0965079\ttotal: 595ms\tremaining: 350ms\n",
      "630:\tlearn: 0.0962777\ttotal: 596ms\tremaining: 349ms\n",
      "631:\tlearn: 0.0960379\ttotal: 597ms\tremaining: 348ms\n",
      "632:\tlearn: 0.0958037\ttotal: 598ms\tremaining: 347ms\n",
      "633:\tlearn: 0.0956536\ttotal: 599ms\tremaining: 346ms\n",
      "634:\tlearn: 0.0955078\ttotal: 600ms\tremaining: 345ms\n",
      "635:\tlearn: 0.0954003\ttotal: 601ms\tremaining: 344ms\n",
      "636:\tlearn: 0.0952383\ttotal: 601ms\tremaining: 343ms\n",
      "637:\tlearn: 0.0951718\ttotal: 602ms\tremaining: 342ms\n",
      "638:\tlearn: 0.0950485\ttotal: 603ms\tremaining: 341ms\n",
      "639:\tlearn: 0.0949298\ttotal: 604ms\tremaining: 340ms\n",
      "640:\tlearn: 0.0948182\ttotal: 605ms\tremaining: 339ms\n",
      "641:\tlearn: 0.0945938\ttotal: 607ms\tremaining: 338ms\n",
      "642:\tlearn: 0.0944210\ttotal: 608ms\tremaining: 337ms\n",
      "643:\tlearn: 0.0943518\ttotal: 609ms\tremaining: 336ms\n",
      "644:\tlearn: 0.0941563\ttotal: 609ms\tremaining: 335ms\n",
      "645:\tlearn: 0.0939601\ttotal: 610ms\tremaining: 334ms\n",
      "646:\tlearn: 0.0937761\ttotal: 611ms\tremaining: 333ms\n",
      "647:\tlearn: 0.0936490\ttotal: 612ms\tremaining: 332ms\n",
      "648:\tlearn: 0.0935511\ttotal: 613ms\tremaining: 332ms\n",
      "649:\tlearn: 0.0933834\ttotal: 614ms\tremaining: 331ms\n",
      "650:\tlearn: 0.0932293\ttotal: 615ms\tremaining: 330ms\n",
      "651:\tlearn: 0.0930838\ttotal: 615ms\tremaining: 328ms\n",
      "652:\tlearn: 0.0929787\ttotal: 616ms\tremaining: 328ms\n",
      "653:\tlearn: 0.0927043\ttotal: 617ms\tremaining: 327ms\n",
      "654:\tlearn: 0.0925306\ttotal: 618ms\tremaining: 325ms\n",
      "655:\tlearn: 0.0923394\ttotal: 619ms\tremaining: 324ms\n",
      "656:\tlearn: 0.0922364\ttotal: 619ms\tremaining: 323ms\n",
      "657:\tlearn: 0.0919752\ttotal: 620ms\tremaining: 322ms\n",
      "658:\tlearn: 0.0918339\ttotal: 621ms\tremaining: 322ms\n",
      "659:\tlearn: 0.0916974\ttotal: 622ms\tremaining: 321ms\n",
      "660:\tlearn: 0.0915154\ttotal: 623ms\tremaining: 320ms\n",
      "661:\tlearn: 0.0912335\ttotal: 624ms\tremaining: 319ms\n",
      "662:\tlearn: 0.0910353\ttotal: 625ms\tremaining: 318ms\n",
      "663:\tlearn: 0.0909226\ttotal: 626ms\tremaining: 317ms\n",
      "664:\tlearn: 0.0907791\ttotal: 626ms\tremaining: 316ms\n",
      "665:\tlearn: 0.0906502\ttotal: 627ms\tremaining: 315ms\n",
      "666:\tlearn: 0.0905182\ttotal: 628ms\tremaining: 314ms\n",
      "667:\tlearn: 0.0903578\ttotal: 629ms\tremaining: 313ms\n",
      "668:\tlearn: 0.0902739\ttotal: 630ms\tremaining: 312ms\n",
      "669:\tlearn: 0.0901170\ttotal: 631ms\tremaining: 311ms\n",
      "670:\tlearn: 0.0899902\ttotal: 632ms\tremaining: 310ms\n",
      "671:\tlearn: 0.0898550\ttotal: 633ms\tremaining: 309ms\n",
      "672:\tlearn: 0.0896650\ttotal: 633ms\tremaining: 308ms\n",
      "673:\tlearn: 0.0896331\ttotal: 634ms\tremaining: 307ms\n",
      "674:\tlearn: 0.0895264\ttotal: 635ms\tremaining: 306ms\n",
      "675:\tlearn: 0.0894250\ttotal: 636ms\tremaining: 305ms\n",
      "676:\tlearn: 0.0892792\ttotal: 637ms\tremaining: 304ms\n",
      "677:\tlearn: 0.0891224\ttotal: 638ms\tremaining: 303ms\n",
      "678:\tlearn: 0.0889770\ttotal: 638ms\tremaining: 302ms\n",
      "679:\tlearn: 0.0887746\ttotal: 640ms\tremaining: 301ms\n",
      "680:\tlearn: 0.0885296\ttotal: 641ms\tremaining: 300ms\n",
      "681:\tlearn: 0.0883854\ttotal: 641ms\tremaining: 299ms\n",
      "682:\tlearn: 0.0882294\ttotal: 642ms\tremaining: 298ms\n",
      "683:\tlearn: 0.0880092\ttotal: 643ms\tremaining: 297ms\n",
      "684:\tlearn: 0.0878403\ttotal: 644ms\tremaining: 296ms\n",
      "685:\tlearn: 0.0877383\ttotal: 645ms\tremaining: 295ms\n",
      "686:\tlearn: 0.0875910\ttotal: 646ms\tremaining: 294ms\n",
      "687:\tlearn: 0.0873268\ttotal: 647ms\tremaining: 293ms\n",
      "688:\tlearn: 0.0871856\ttotal: 647ms\tremaining: 292ms\n",
      "689:\tlearn: 0.0870239\ttotal: 648ms\tremaining: 291ms\n",
      "690:\tlearn: 0.0868523\ttotal: 649ms\tremaining: 290ms\n",
      "691:\tlearn: 0.0867235\ttotal: 650ms\tremaining: 289ms\n",
      "692:\tlearn: 0.0865935\ttotal: 651ms\tremaining: 288ms\n",
      "693:\tlearn: 0.0864530\ttotal: 652ms\tremaining: 287ms\n",
      "694:\tlearn: 0.0863060\ttotal: 653ms\tremaining: 286ms\n",
      "695:\tlearn: 0.0861260\ttotal: 653ms\tremaining: 285ms\n",
      "696:\tlearn: 0.0860275\ttotal: 654ms\tremaining: 284ms\n",
      "697:\tlearn: 0.0858095\ttotal: 655ms\tremaining: 283ms\n",
      "698:\tlearn: 0.0856938\ttotal: 656ms\tremaining: 282ms\n",
      "699:\tlearn: 0.0855435\ttotal: 657ms\tremaining: 281ms\n",
      "700:\tlearn: 0.0854283\ttotal: 658ms\tremaining: 280ms\n",
      "701:\tlearn: 0.0852552\ttotal: 658ms\tremaining: 279ms\n",
      "702:\tlearn: 0.0851863\ttotal: 659ms\tremaining: 278ms\n",
      "703:\tlearn: 0.0850281\ttotal: 660ms\tremaining: 278ms\n",
      "704:\tlearn: 0.0848519\ttotal: 661ms\tremaining: 277ms\n",
      "705:\tlearn: 0.0847769\ttotal: 662ms\tremaining: 276ms\n",
      "706:\tlearn: 0.0846326\ttotal: 662ms\tremaining: 275ms\n",
      "707:\tlearn: 0.0845020\ttotal: 663ms\tremaining: 274ms\n",
      "708:\tlearn: 0.0843139\ttotal: 664ms\tremaining: 273ms\n",
      "709:\tlearn: 0.0841858\ttotal: 665ms\tremaining: 272ms\n",
      "710:\tlearn: 0.0841161\ttotal: 666ms\tremaining: 271ms\n",
      "711:\tlearn: 0.0839446\ttotal: 667ms\tremaining: 270ms\n",
      "712:\tlearn: 0.0838529\ttotal: 668ms\tremaining: 269ms\n",
      "713:\tlearn: 0.0837814\ttotal: 668ms\tremaining: 268ms\n",
      "714:\tlearn: 0.0835749\ttotal: 669ms\tremaining: 267ms\n",
      "715:\tlearn: 0.0833089\ttotal: 670ms\tremaining: 266ms\n",
      "716:\tlearn: 0.0832334\ttotal: 671ms\tremaining: 265ms\n",
      "717:\tlearn: 0.0829999\ttotal: 672ms\tremaining: 264ms\n",
      "718:\tlearn: 0.0828613\ttotal: 673ms\tremaining: 263ms\n",
      "719:\tlearn: 0.0827009\ttotal: 674ms\tremaining: 262ms\n",
      "720:\tlearn: 0.0825408\ttotal: 675ms\tremaining: 261ms\n",
      "721:\tlearn: 0.0824245\ttotal: 676ms\tremaining: 260ms\n",
      "722:\tlearn: 0.0823264\ttotal: 677ms\tremaining: 259ms\n"
     ]
    },
    {
     "name": "stdout",
     "output_type": "stream",
     "text": [
      "723:\tlearn: 0.0822459\ttotal: 678ms\tremaining: 258ms\n",
      "724:\tlearn: 0.0821583\ttotal: 679ms\tremaining: 258ms\n",
      "725:\tlearn: 0.0819931\ttotal: 680ms\tremaining: 257ms\n",
      "726:\tlearn: 0.0817687\ttotal: 681ms\tremaining: 256ms\n",
      "727:\tlearn: 0.0816415\ttotal: 682ms\tremaining: 255ms\n",
      "728:\tlearn: 0.0814103\ttotal: 682ms\tremaining: 254ms\n",
      "729:\tlearn: 0.0812611\ttotal: 683ms\tremaining: 253ms\n",
      "730:\tlearn: 0.0810655\ttotal: 684ms\tremaining: 252ms\n",
      "731:\tlearn: 0.0809089\ttotal: 685ms\tremaining: 251ms\n",
      "732:\tlearn: 0.0807434\ttotal: 686ms\tremaining: 250ms\n",
      "733:\tlearn: 0.0806137\ttotal: 687ms\tremaining: 249ms\n",
      "734:\tlearn: 0.0804909\ttotal: 688ms\tremaining: 248ms\n",
      "735:\tlearn: 0.0803459\ttotal: 688ms\tremaining: 247ms\n",
      "736:\tlearn: 0.0802216\ttotal: 689ms\tremaining: 246ms\n",
      "737:\tlearn: 0.0801765\ttotal: 690ms\tremaining: 245ms\n",
      "738:\tlearn: 0.0800116\ttotal: 691ms\tremaining: 244ms\n",
      "739:\tlearn: 0.0798903\ttotal: 692ms\tremaining: 243ms\n",
      "740:\tlearn: 0.0797434\ttotal: 692ms\tremaining: 242ms\n",
      "741:\tlearn: 0.0795666\ttotal: 693ms\tremaining: 241ms\n",
      "742:\tlearn: 0.0794213\ttotal: 694ms\tremaining: 240ms\n",
      "743:\tlearn: 0.0792385\ttotal: 695ms\tremaining: 239ms\n",
      "744:\tlearn: 0.0790981\ttotal: 696ms\tremaining: 238ms\n",
      "745:\tlearn: 0.0789065\ttotal: 697ms\tremaining: 237ms\n",
      "746:\tlearn: 0.0788615\ttotal: 698ms\tremaining: 236ms\n",
      "747:\tlearn: 0.0786791\ttotal: 698ms\tremaining: 235ms\n",
      "748:\tlearn: 0.0786605\ttotal: 699ms\tremaining: 234ms\n",
      "749:\tlearn: 0.0785412\ttotal: 700ms\tremaining: 233ms\n",
      "750:\tlearn: 0.0783864\ttotal: 701ms\tremaining: 232ms\n",
      "751:\tlearn: 0.0781711\ttotal: 702ms\tremaining: 231ms\n",
      "752:\tlearn: 0.0781412\ttotal: 702ms\tremaining: 230ms\n",
      "753:\tlearn: 0.0780742\ttotal: 703ms\tremaining: 229ms\n",
      "754:\tlearn: 0.0778872\ttotal: 704ms\tremaining: 228ms\n",
      "755:\tlearn: 0.0777131\ttotal: 705ms\tremaining: 228ms\n",
      "756:\tlearn: 0.0775692\ttotal: 706ms\tremaining: 227ms\n",
      "757:\tlearn: 0.0774207\ttotal: 707ms\tremaining: 226ms\n",
      "758:\tlearn: 0.0773640\ttotal: 707ms\tremaining: 225ms\n",
      "759:\tlearn: 0.0771193\ttotal: 708ms\tremaining: 224ms\n",
      "760:\tlearn: 0.0770020\ttotal: 709ms\tremaining: 223ms\n",
      "761:\tlearn: 0.0769610\ttotal: 710ms\tremaining: 222ms\n",
      "762:\tlearn: 0.0768976\ttotal: 711ms\tremaining: 221ms\n",
      "763:\tlearn: 0.0767296\ttotal: 711ms\tremaining: 220ms\n",
      "764:\tlearn: 0.0766667\ttotal: 712ms\tremaining: 219ms\n",
      "765:\tlearn: 0.0765314\ttotal: 713ms\tremaining: 218ms\n",
      "766:\tlearn: 0.0763838\ttotal: 714ms\tremaining: 217ms\n",
      "767:\tlearn: 0.0762632\ttotal: 715ms\tremaining: 216ms\n",
      "768:\tlearn: 0.0761284\ttotal: 716ms\tremaining: 215ms\n",
      "769:\tlearn: 0.0760279\ttotal: 717ms\tremaining: 214ms\n",
      "770:\tlearn: 0.0759129\ttotal: 717ms\tremaining: 213ms\n",
      "771:\tlearn: 0.0758675\ttotal: 718ms\tremaining: 212ms\n",
      "772:\tlearn: 0.0756559\ttotal: 719ms\tremaining: 211ms\n",
      "773:\tlearn: 0.0755745\ttotal: 720ms\tremaining: 210ms\n",
      "774:\tlearn: 0.0753988\ttotal: 721ms\tremaining: 209ms\n",
      "775:\tlearn: 0.0752837\ttotal: 722ms\tremaining: 208ms\n",
      "776:\tlearn: 0.0752328\ttotal: 722ms\tremaining: 207ms\n",
      "777:\tlearn: 0.0751250\ttotal: 723ms\tremaining: 206ms\n",
      "778:\tlearn: 0.0749431\ttotal: 724ms\tremaining: 205ms\n",
      "779:\tlearn: 0.0747450\ttotal: 725ms\tremaining: 205ms\n",
      "780:\tlearn: 0.0745820\ttotal: 726ms\tremaining: 204ms\n",
      "781:\tlearn: 0.0744454\ttotal: 727ms\tremaining: 203ms\n",
      "782:\tlearn: 0.0743788\ttotal: 728ms\tremaining: 202ms\n",
      "783:\tlearn: 0.0742167\ttotal: 728ms\tremaining: 201ms\n",
      "784:\tlearn: 0.0741145\ttotal: 729ms\tremaining: 200ms\n",
      "785:\tlearn: 0.0740355\ttotal: 730ms\tremaining: 199ms\n",
      "786:\tlearn: 0.0739856\ttotal: 731ms\tremaining: 198ms\n",
      "787:\tlearn: 0.0738440\ttotal: 732ms\tremaining: 197ms\n",
      "788:\tlearn: 0.0738303\ttotal: 733ms\tremaining: 196ms\n",
      "789:\tlearn: 0.0736627\ttotal: 734ms\tremaining: 195ms\n",
      "790:\tlearn: 0.0735865\ttotal: 734ms\tremaining: 194ms\n",
      "791:\tlearn: 0.0734975\ttotal: 735ms\tremaining: 193ms\n",
      "792:\tlearn: 0.0733291\ttotal: 736ms\tremaining: 192ms\n",
      "793:\tlearn: 0.0732360\ttotal: 737ms\tremaining: 191ms\n",
      "794:\tlearn: 0.0731466\ttotal: 738ms\tremaining: 190ms\n",
      "795:\tlearn: 0.0730013\ttotal: 739ms\tremaining: 189ms\n",
      "796:\tlearn: 0.0729199\ttotal: 740ms\tremaining: 188ms\n",
      "797:\tlearn: 0.0727539\ttotal: 740ms\tremaining: 187ms\n",
      "798:\tlearn: 0.0727058\ttotal: 741ms\tremaining: 187ms\n",
      "799:\tlearn: 0.0726067\ttotal: 742ms\tremaining: 186ms\n",
      "800:\tlearn: 0.0724950\ttotal: 743ms\tremaining: 185ms\n",
      "801:\tlearn: 0.0724222\ttotal: 744ms\tremaining: 184ms\n",
      "802:\tlearn: 0.0722570\ttotal: 745ms\tremaining: 183ms\n",
      "803:\tlearn: 0.0721477\ttotal: 746ms\tremaining: 182ms\n",
      "804:\tlearn: 0.0720449\ttotal: 747ms\tremaining: 181ms\n",
      "805:\tlearn: 0.0719149\ttotal: 747ms\tremaining: 180ms\n",
      "806:\tlearn: 0.0718407\ttotal: 748ms\tremaining: 179ms\n",
      "807:\tlearn: 0.0717943\ttotal: 749ms\tremaining: 178ms\n",
      "808:\tlearn: 0.0717004\ttotal: 750ms\tremaining: 177ms\n",
      "809:\tlearn: 0.0716189\ttotal: 751ms\tremaining: 176ms\n",
      "810:\tlearn: 0.0715073\ttotal: 752ms\tremaining: 175ms\n",
      "811:\tlearn: 0.0714715\ttotal: 752ms\tremaining: 174ms\n",
      "812:\tlearn: 0.0712698\ttotal: 753ms\tremaining: 173ms\n",
      "813:\tlearn: 0.0711930\ttotal: 754ms\tremaining: 172ms\n",
      "814:\tlearn: 0.0711188\ttotal: 755ms\tremaining: 171ms\n",
      "815:\tlearn: 0.0710720\ttotal: 755ms\tremaining: 170ms\n",
      "816:\tlearn: 0.0709004\ttotal: 756ms\tremaining: 169ms\n",
      "817:\tlearn: 0.0707444\ttotal: 757ms\tremaining: 168ms\n",
      "818:\tlearn: 0.0706792\ttotal: 758ms\tremaining: 167ms\n",
      "819:\tlearn: 0.0705556\ttotal: 759ms\tremaining: 167ms\n",
      "820:\tlearn: 0.0704011\ttotal: 759ms\tremaining: 166ms\n",
      "821:\tlearn: 0.0703145\ttotal: 760ms\tremaining: 165ms\n",
      "822:\tlearn: 0.0701778\ttotal: 761ms\tremaining: 164ms\n"
     ]
    },
    {
     "name": "stdout",
     "output_type": "stream",
     "text": [
      "823:\tlearn: 0.0700350\ttotal: 762ms\tremaining: 163ms\n",
      "824:\tlearn: 0.0699794\ttotal: 763ms\tremaining: 162ms\n",
      "825:\tlearn: 0.0698835\ttotal: 764ms\tremaining: 161ms\n",
      "826:\tlearn: 0.0697511\ttotal: 765ms\tremaining: 160ms\n",
      "827:\tlearn: 0.0696532\ttotal: 766ms\tremaining: 159ms\n",
      "828:\tlearn: 0.0696252\ttotal: 766ms\tremaining: 158ms\n",
      "829:\tlearn: 0.0694996\ttotal: 767ms\tremaining: 157ms\n",
      "830:\tlearn: 0.0694006\ttotal: 768ms\tremaining: 156ms\n",
      "831:\tlearn: 0.0693454\ttotal: 769ms\tremaining: 155ms\n",
      "832:\tlearn: 0.0692486\ttotal: 770ms\tremaining: 154ms\n",
      "833:\tlearn: 0.0692009\ttotal: 770ms\tremaining: 153ms\n",
      "834:\tlearn: 0.0691004\ttotal: 771ms\tremaining: 152ms\n",
      "835:\tlearn: 0.0690020\ttotal: 772ms\tremaining: 151ms\n",
      "836:\tlearn: 0.0689029\ttotal: 773ms\tremaining: 151ms\n",
      "837:\tlearn: 0.0688515\ttotal: 774ms\tremaining: 150ms\n",
      "838:\tlearn: 0.0687877\ttotal: 775ms\tremaining: 149ms\n",
      "839:\tlearn: 0.0686791\ttotal: 775ms\tremaining: 148ms\n",
      "840:\tlearn: 0.0686446\ttotal: 776ms\tremaining: 147ms\n",
      "841:\tlearn: 0.0685484\ttotal: 777ms\tremaining: 146ms\n",
      "842:\tlearn: 0.0683835\ttotal: 778ms\tremaining: 145ms\n",
      "843:\tlearn: 0.0682998\ttotal: 779ms\tremaining: 144ms\n",
      "844:\tlearn: 0.0682202\ttotal: 779ms\tremaining: 143ms\n",
      "845:\tlearn: 0.0680895\ttotal: 780ms\tremaining: 142ms\n",
      "846:\tlearn: 0.0680254\ttotal: 781ms\tremaining: 141ms\n",
      "847:\tlearn: 0.0679205\ttotal: 782ms\tremaining: 140ms\n",
      "848:\tlearn: 0.0678013\ttotal: 782ms\tremaining: 139ms\n",
      "849:\tlearn: 0.0677677\ttotal: 783ms\tremaining: 138ms\n",
      "850:\tlearn: 0.0676782\ttotal: 784ms\tremaining: 137ms\n",
      "851:\tlearn: 0.0675779\ttotal: 785ms\tremaining: 136ms\n",
      "852:\tlearn: 0.0674584\ttotal: 786ms\tremaining: 135ms\n",
      "853:\tlearn: 0.0673546\ttotal: 786ms\tremaining: 134ms\n",
      "854:\tlearn: 0.0672881\ttotal: 787ms\tremaining: 133ms\n",
      "855:\tlearn: 0.0671617\ttotal: 788ms\tremaining: 133ms\n",
      "856:\tlearn: 0.0670409\ttotal: 789ms\tremaining: 132ms\n",
      "857:\tlearn: 0.0668763\ttotal: 789ms\tremaining: 131ms\n",
      "858:\tlearn: 0.0667851\ttotal: 790ms\tremaining: 130ms\n",
      "859:\tlearn: 0.0666170\ttotal: 791ms\tremaining: 129ms\n",
      "860:\tlearn: 0.0665393\ttotal: 792ms\tremaining: 128ms\n",
      "861:\tlearn: 0.0664006\ttotal: 793ms\tremaining: 127ms\n",
      "862:\tlearn: 0.0662949\ttotal: 793ms\tremaining: 126ms\n",
      "863:\tlearn: 0.0661968\ttotal: 794ms\tremaining: 125ms\n",
      "864:\tlearn: 0.0660866\ttotal: 795ms\tremaining: 124ms\n",
      "865:\tlearn: 0.0660033\ttotal: 796ms\tremaining: 123ms\n",
      "866:\tlearn: 0.0659248\ttotal: 797ms\tremaining: 122ms\n",
      "867:\tlearn: 0.0658665\ttotal: 797ms\tremaining: 121ms\n",
      "868:\tlearn: 0.0657736\ttotal: 798ms\tremaining: 120ms\n",
      "869:\tlearn: 0.0656967\ttotal: 799ms\tremaining: 119ms\n",
      "870:\tlearn: 0.0656258\ttotal: 800ms\tremaining: 118ms\n",
      "871:\tlearn: 0.0655610\ttotal: 801ms\tremaining: 118ms\n",
      "872:\tlearn: 0.0654697\ttotal: 802ms\tremaining: 117ms\n",
      "873:\tlearn: 0.0654000\ttotal: 802ms\tremaining: 116ms\n",
      "874:\tlearn: 0.0653089\ttotal: 803ms\tremaining: 115ms\n",
      "875:\tlearn: 0.0651832\ttotal: 804ms\tremaining: 114ms\n",
      "876:\tlearn: 0.0650754\ttotal: 805ms\tremaining: 113ms\n",
      "877:\tlearn: 0.0650053\ttotal: 806ms\tremaining: 112ms\n",
      "878:\tlearn: 0.0648869\ttotal: 806ms\tremaining: 111ms\n",
      "879:\tlearn: 0.0648041\ttotal: 807ms\tremaining: 110ms\n",
      "880:\tlearn: 0.0647202\ttotal: 808ms\tremaining: 109ms\n",
      "881:\tlearn: 0.0646349\ttotal: 809ms\tremaining: 108ms\n",
      "882:\tlearn: 0.0645437\ttotal: 810ms\tremaining: 107ms\n",
      "883:\tlearn: 0.0643766\ttotal: 811ms\tremaining: 106ms\n",
      "884:\tlearn: 0.0643145\ttotal: 811ms\tremaining: 105ms\n",
      "885:\tlearn: 0.0642349\ttotal: 812ms\tremaining: 104ms\n",
      "886:\tlearn: 0.0641432\ttotal: 813ms\tremaining: 104ms\n",
      "887:\tlearn: 0.0639925\ttotal: 814ms\tremaining: 103ms\n",
      "888:\tlearn: 0.0638534\ttotal: 814ms\tremaining: 102ms\n",
      "889:\tlearn: 0.0636946\ttotal: 815ms\tremaining: 101ms\n",
      "890:\tlearn: 0.0635611\ttotal: 816ms\tremaining: 99.8ms\n",
      "891:\tlearn: 0.0634375\ttotal: 817ms\tremaining: 98.9ms\n",
      "892:\tlearn: 0.0633051\ttotal: 818ms\tremaining: 98ms\n",
      "893:\tlearn: 0.0632768\ttotal: 819ms\tremaining: 97.1ms\n",
      "894:\tlearn: 0.0631629\ttotal: 820ms\tremaining: 96.1ms\n",
      "895:\tlearn: 0.0630348\ttotal: 820ms\tremaining: 95.2ms\n",
      "896:\tlearn: 0.0629190\ttotal: 821ms\tremaining: 94.3ms\n",
      "897:\tlearn: 0.0628951\ttotal: 822ms\tremaining: 93.4ms\n",
      "898:\tlearn: 0.0627802\ttotal: 823ms\tremaining: 92.4ms\n",
      "899:\tlearn: 0.0625970\ttotal: 824ms\tremaining: 91.5ms\n",
      "900:\tlearn: 0.0624629\ttotal: 824ms\tremaining: 90.6ms\n",
      "901:\tlearn: 0.0624354\ttotal: 826ms\tremaining: 89.7ms\n",
      "902:\tlearn: 0.0623577\ttotal: 827ms\tremaining: 88.8ms\n",
      "903:\tlearn: 0.0622240\ttotal: 828ms\tremaining: 87.9ms\n",
      "904:\tlearn: 0.0620577\ttotal: 828ms\tremaining: 86.9ms\n",
      "905:\tlearn: 0.0619745\ttotal: 829ms\tremaining: 86ms\n",
      "906:\tlearn: 0.0619099\ttotal: 830ms\tremaining: 85.1ms\n",
      "907:\tlearn: 0.0618336\ttotal: 831ms\tremaining: 84.2ms\n",
      "908:\tlearn: 0.0617093\ttotal: 832ms\tremaining: 83.3ms\n",
      "909:\tlearn: 0.0616039\ttotal: 833ms\tremaining: 82.4ms\n",
      "910:\tlearn: 0.0615718\ttotal: 834ms\tremaining: 81.4ms\n",
      "911:\tlearn: 0.0614753\ttotal: 834ms\tremaining: 80.5ms\n",
      "912:\tlearn: 0.0613868\ttotal: 835ms\tremaining: 79.6ms\n",
      "913:\tlearn: 0.0613289\ttotal: 836ms\tremaining: 78.7ms\n",
      "914:\tlearn: 0.0612659\ttotal: 837ms\tremaining: 77.8ms\n",
      "915:\tlearn: 0.0612418\ttotal: 838ms\tremaining: 76.8ms\n",
      "916:\tlearn: 0.0611826\ttotal: 839ms\tremaining: 75.9ms\n",
      "917:\tlearn: 0.0611671\ttotal: 840ms\tremaining: 75ms\n",
      "918:\tlearn: 0.0611004\ttotal: 841ms\tremaining: 74.1ms\n",
      "919:\tlearn: 0.0610698\ttotal: 841ms\tremaining: 73.2ms\n",
      "920:\tlearn: 0.0609903\ttotal: 842ms\tremaining: 72.2ms\n",
      "921:\tlearn: 0.0609027\ttotal: 843ms\tremaining: 71.3ms\n",
      "922:\tlearn: 0.0607627\ttotal: 844ms\tremaining: 70.4ms\n",
      "923:\tlearn: 0.0606826\ttotal: 845ms\tremaining: 69.5ms\n",
      "924:\tlearn: 0.0605282\ttotal: 845ms\tremaining: 68.5ms\n",
      "925:\tlearn: 0.0604805\ttotal: 846ms\tremaining: 67.6ms\n",
      "926:\tlearn: 0.0604095\ttotal: 847ms\tremaining: 66.7ms\n",
      "927:\tlearn: 0.0603269\ttotal: 848ms\tremaining: 65.8ms\n",
      "928:\tlearn: 0.0602689\ttotal: 849ms\tremaining: 64.9ms\n",
      "929:\tlearn: 0.0601334\ttotal: 850ms\tremaining: 64ms\n",
      "930:\tlearn: 0.0600712\ttotal: 851ms\tremaining: 63.1ms\n",
      "931:\tlearn: 0.0599294\ttotal: 852ms\tremaining: 62.1ms\n",
      "932:\tlearn: 0.0598422\ttotal: 853ms\tremaining: 61.2ms\n",
      "933:\tlearn: 0.0597912\ttotal: 853ms\tremaining: 60.3ms\n",
      "934:\tlearn: 0.0596695\ttotal: 854ms\tremaining: 59.4ms\n",
      "935:\tlearn: 0.0595459\ttotal: 855ms\tremaining: 58.5ms\n",
      "936:\tlearn: 0.0594728\ttotal: 856ms\tremaining: 57.5ms\n",
      "937:\tlearn: 0.0593852\ttotal: 857ms\tremaining: 56.6ms\n",
      "938:\tlearn: 0.0593377\ttotal: 857ms\tremaining: 55.7ms\n",
      "939:\tlearn: 0.0593239\ttotal: 858ms\tremaining: 54.8ms\n",
      "940:\tlearn: 0.0592112\ttotal: 859ms\tremaining: 53.9ms\n",
      "941:\tlearn: 0.0591327\ttotal: 860ms\tremaining: 52.9ms\n",
      "942:\tlearn: 0.0590669\ttotal: 861ms\tremaining: 52ms\n",
      "943:\tlearn: 0.0590067\ttotal: 861ms\tremaining: 51.1ms\n",
      "944:\tlearn: 0.0589949\ttotal: 862ms\tremaining: 50.2ms\n",
      "945:\tlearn: 0.0589472\ttotal: 863ms\tremaining: 49.3ms\n",
      "946:\tlearn: 0.0589116\ttotal: 864ms\tremaining: 48.3ms\n",
      "947:\tlearn: 0.0588065\ttotal: 865ms\tremaining: 47.4ms\n",
      "948:\tlearn: 0.0587970\ttotal: 865ms\tremaining: 46.5ms\n",
      "949:\tlearn: 0.0586595\ttotal: 866ms\tremaining: 45.6ms\n"
     ]
    },
    {
     "name": "stdout",
     "output_type": "stream",
     "text": [
      "950:\tlearn: 0.0585507\ttotal: 867ms\tremaining: 44.7ms\n",
      "951:\tlearn: 0.0584629\ttotal: 868ms\tremaining: 43.8ms\n",
      "952:\tlearn: 0.0584375\ttotal: 869ms\tremaining: 42.9ms\n",
      "953:\tlearn: 0.0583501\ttotal: 870ms\tremaining: 41.9ms\n",
      "954:\tlearn: 0.0582948\ttotal: 871ms\tremaining: 41ms\n",
      "955:\tlearn: 0.0582237\ttotal: 872ms\tremaining: 40.1ms\n",
      "956:\tlearn: 0.0582117\ttotal: 873ms\tremaining: 39.2ms\n",
      "957:\tlearn: 0.0580970\ttotal: 873ms\tremaining: 38.3ms\n",
      "958:\tlearn: 0.0580163\ttotal: 874ms\tremaining: 37.4ms\n",
      "959:\tlearn: 0.0579881\ttotal: 875ms\tremaining: 36.5ms\n",
      "960:\tlearn: 0.0579192\ttotal: 876ms\tremaining: 35.6ms\n",
      "961:\tlearn: 0.0577524\ttotal: 877ms\tremaining: 34.6ms\n",
      "962:\tlearn: 0.0576678\ttotal: 878ms\tremaining: 33.7ms\n",
      "963:\tlearn: 0.0575273\ttotal: 879ms\tremaining: 32.8ms\n",
      "964:\tlearn: 0.0574202\ttotal: 879ms\tremaining: 31.9ms\n",
      "965:\tlearn: 0.0573828\ttotal: 880ms\tremaining: 31ms\n",
      "966:\tlearn: 0.0572485\ttotal: 881ms\tremaining: 30.1ms\n",
      "967:\tlearn: 0.0571476\ttotal: 882ms\tremaining: 29.2ms\n",
      "968:\tlearn: 0.0570232\ttotal: 883ms\tremaining: 28.2ms\n",
      "969:\tlearn: 0.0569813\ttotal: 884ms\tremaining: 27.3ms\n",
      "970:\tlearn: 0.0568918\ttotal: 885ms\tremaining: 26.4ms\n",
      "971:\tlearn: 0.0568521\ttotal: 885ms\tremaining: 25.5ms\n",
      "972:\tlearn: 0.0568014\ttotal: 886ms\tremaining: 24.6ms\n",
      "973:\tlearn: 0.0567064\ttotal: 887ms\tremaining: 23.7ms\n",
      "974:\tlearn: 0.0566018\ttotal: 888ms\tremaining: 22.8ms\n",
      "975:\tlearn: 0.0565240\ttotal: 888ms\tremaining: 21.8ms\n",
      "976:\tlearn: 0.0564404\ttotal: 889ms\tremaining: 20.9ms\n",
      "977:\tlearn: 0.0563686\ttotal: 890ms\tremaining: 20ms\n",
      "978:\tlearn: 0.0562925\ttotal: 891ms\tremaining: 19.1ms\n",
      "979:\tlearn: 0.0561766\ttotal: 892ms\tremaining: 18.2ms\n",
      "980:\tlearn: 0.0561010\ttotal: 892ms\tremaining: 17.3ms\n",
      "981:\tlearn: 0.0560623\ttotal: 893ms\tremaining: 16.4ms\n",
      "982:\tlearn: 0.0559811\ttotal: 894ms\tremaining: 15.5ms\n",
      "983:\tlearn: 0.0559322\ttotal: 895ms\tremaining: 14.5ms\n",
      "984:\tlearn: 0.0558303\ttotal: 896ms\tremaining: 13.6ms\n",
      "985:\tlearn: 0.0557887\ttotal: 896ms\tremaining: 12.7ms\n",
      "986:\tlearn: 0.0557456\ttotal: 897ms\tremaining: 11.8ms\n",
      "987:\tlearn: 0.0556811\ttotal: 898ms\tremaining: 10.9ms\n",
      "988:\tlearn: 0.0556405\ttotal: 899ms\tremaining: 10ms\n",
      "989:\tlearn: 0.0555971\ttotal: 900ms\tremaining: 9.09ms\n",
      "990:\tlearn: 0.0555762\ttotal: 900ms\tremaining: 8.18ms\n",
      "991:\tlearn: 0.0554918\ttotal: 901ms\tremaining: 7.27ms\n",
      "992:\tlearn: 0.0554472\ttotal: 902ms\tremaining: 6.36ms\n",
      "993:\tlearn: 0.0553874\ttotal: 903ms\tremaining: 5.45ms\n",
      "994:\tlearn: 0.0553334\ttotal: 903ms\tremaining: 4.54ms\n",
      "995:\tlearn: 0.0552408\ttotal: 904ms\tremaining: 3.63ms\n",
      "996:\tlearn: 0.0552022\ttotal: 905ms\tremaining: 2.72ms\n",
      "997:\tlearn: 0.0551056\ttotal: 906ms\tremaining: 1.81ms\n",
      "998:\tlearn: 0.0550965\ttotal: 907ms\tremaining: 907us\n",
      "999:\tlearn: 0.0549906\ttotal: 908ms\tremaining: 0us\n"
     ]
    },
    {
     "data": {
      "text/plain": [
       "<catboost.core.CatBoostRegressor at 0x7ff0c01f8640>"
      ]
     },
     "execution_count": 9,
     "metadata": {},
     "output_type": "execute_result"
    }
   ],
   "source": [
    "#Train the Model \n",
    "prior_model = ctb.CatBoostRegressor()\n",
    "prior_model.fit(X_train,Y_train)"
   ]
  },
  {
   "cell_type": "code",
   "execution_count": 10,
   "id": "af65dcda",
   "metadata": {
    "execution": {
     "iopub.execute_input": "2022-06-11T18:04:21.804693Z",
     "iopub.status.busy": "2022-06-11T18:04:21.804295Z",
     "iopub.status.idle": "2022-06-11T18:04:21.811801Z",
     "shell.execute_reply": "2022-06-11T18:04:21.812050Z"
    },
    "id": "af65dcda",
    "papermill": {
     "duration": 0.020867,
     "end_time": "2022-06-11T18:04:21.812164",
     "exception": false,
     "start_time": "2022-06-11T18:04:21.791297",
     "status": "completed"
    },
    "tags": []
   },
   "outputs": [
    {
     "data": {
      "application/scrapbook.scrap.json+json": {
       "data": 0.06795283272930669,
       "encoder": "json",
       "name": "Prior Model MSE",
       "version": 1
      }
     },
     "metadata": {
      "scrapbook": {
       "data": true,
       "display": false,
       "name": "Prior Model MSE"
      }
     },
     "output_type": "display_data"
    },
    {
     "data": {
      "application/scrapbook.scrap.json+json": {
       "data": 1.1996433483360436,
       "encoder": "json",
       "name": "ABC Pre-generator MSE",
       "version": 1
      }
     },
     "metadata": {
      "scrapbook": {
       "data": true,
       "display": false,
       "name": "ABC Pre-generator MSE"
      }
     },
     "output_type": "display_data"
    },
    {
     "data": {
      "application/scrapbook.scrap.json+json": {
       "data": 0.1969432831366492,
       "encoder": "json",
       "name": "Prior Model MSE",
       "version": 1
      }
     },
     "metadata": {
      "scrapbook": {
       "data": true,
       "display": false,
       "name": "Prior Model MSE"
      }
     },
     "output_type": "display_data"
    },
    {
     "data": {
      "application/scrapbook.scrap.json+json": {
       "data": 0.9048448973920634,
       "encoder": "json",
       "name": "ABC Pre-generator MSE",
       "version": 1
      }
     },
     "metadata": {
      "scrapbook": {
       "data": true,
       "display": false,
       "name": "ABC Pre-generator MSE"
      }
     },
     "output_type": "display_data"
    }
   ],
   "source": [
    "y_pred = prior_model.predict(X_test)\n",
    "y_abc = y_pred + np.random.normal(0,variance, y_pred.shape) + bias \n",
    "mse = mean_squared_error(y_pred,Y_test)\n",
    "sb.glue(\"Prior Model MSE\",mse)\n",
    "mse = mean_squared_error(y_abc,Y_test)\n",
    "sb.glue(\"ABC Pre-generator MSE\",mse)\n",
    "mae = mean_absolute_error(y_pred,Y_test)\n",
    "sb.glue(\"Prior Model MSE\",mae)\n",
    "mae = mean_absolute_error(y_abc,Y_test)\n",
    "sb.glue(\"ABC Pre-generator MSE\",mae)"
   ]
  },
  {
   "cell_type": "markdown",
   "id": "25609da2",
   "metadata": {
    "papermill": {
     "duration": 0.010037,
     "end_time": "2022-06-11T18:04:21.832520",
     "exception": false,
     "start_time": "2022-06-11T18:04:21.822483",
     "status": "completed"
    },
    "tags": []
   },
   "source": [
    "# ABC GAN Model"
   ]
  },
  {
   "cell_type": "code",
   "execution_count": 11,
   "id": "dfc3464d",
   "metadata": {
    "execution": {
     "iopub.execute_input": "2022-06-11T18:04:21.855690Z",
     "iopub.status.busy": "2022-06-11T18:04:21.855319Z",
     "iopub.status.idle": "2022-06-11T18:04:21.857865Z",
     "shell.execute_reply": "2022-06-11T18:04:21.858115Z"
    },
    "papermill": {
     "duration": 0.015512,
     "end_time": "2022-06-11T18:04:21.858224",
     "exception": false,
     "start_time": "2022-06-11T18:04:21.842712",
     "status": "completed"
    },
    "tags": []
   },
   "outputs": [],
   "source": [
    "gen = network.Generator(n_features+1).to(device)\n",
    "disc = network.Discriminator(n_features+1).to(device)\n",
    "\n",
    "criterion = torch.nn.BCELoss()\n",
    "gen_opt = torch.optim.Adam(gen.parameters(), lr=0.001, betas=(0.5, 0.999))\n",
    "disc_opt = torch.optim.Adam(disc.parameters(), lr=0.001, betas=(0.5, 0.999))"
   ]
  },
  {
   "cell_type": "code",
   "execution_count": 12,
   "id": "b75fdd85",
   "metadata": {
    "execution": {
     "iopub.execute_input": "2022-06-11T18:04:21.881293Z",
     "iopub.status.busy": "2022-06-11T18:04:21.880917Z",
     "iopub.status.idle": "2022-06-11T18:05:23.676472Z",
     "shell.execute_reply": "2022-06-11T18:05:23.676915Z"
    },
    "papermill": {
     "duration": 61.80865,
     "end_time": "2022-06-11T18:05:23.677057",
     "exception": false,
     "start_time": "2022-06-11T18:04:21.868407",
     "status": "completed"
    },
    "tags": []
   },
   "outputs": [
    {
     "data": {
      "image/png": "[encoded data removed]",
      "text/plain": [
       "<Figure size 432x288 with 1 Axes>"
      ]
     },
     "metadata": {
      "needs_background": "light"
     },
     "output_type": "display_data"
    },
    {
     "data": {
      "image/png": "[encoded data removed]",
      "text/plain": [
       "<Figure size 432x288 with 1 Axes>"
      ]
     },
     "metadata": {
      "needs_background": "light"
     },
     "output_type": "display_data"
    }
   ],
   "source": [
    "#Training the ABC_GAN \n",
    "ABC_train_test2.training_GAN(disc,gen,disc_opt,gen_opt,train_data,batch_size,n_epochs,criterion,prior_model,variance,bias,device)"
   ]
  },
  {
   "cell_type": "code",
   "execution_count": 13,
   "id": "1fa7c368",
   "metadata": {
    "execution": {
     "iopub.execute_input": "2022-06-11T18:05:23.702610Z",
     "iopub.status.busy": "2022-06-11T18:05:23.702222Z",
     "iopub.status.idle": "2022-06-11T18:05:24.034138Z",
     "shell.execute_reply": "2022-06-11T18:05:24.034564Z"
    },
    "papermill": {
     "duration": 0.346381,
     "end_time": "2022-06-11T18:05:24.034690",
     "exception": false,
     "start_time": "2022-06-11T18:05:23.688309",
     "status": "completed"
    },
    "tags": []
   },
   "outputs": [
    {
     "data": {
      "application/scrapbook.scrap.json+json": {
       "data": 0.07809622898408333,
       "encoder": "json",
       "name": "ABC-GAN Model 1 MSE",
       "version": 1
      }
     },
     "metadata": {
      "scrapbook": {
       "data": true,
       "display": false,
       "name": "ABC-GAN Model 1 MSE"
      }
     },
     "output_type": "display_data"
    },
    {
     "data": {
      "application/scrapbook.scrap.json+json": {
       "data": 0.21457804866025554,
       "encoder": "json",
       "name": "ABC-GAN Model 1 MAE",
       "version": 1
      }
     },
     "metadata": {
      "scrapbook": {
       "data": true,
       "display": false,
       "name": "ABC-GAN Model 1 MAE"
      }
     },
     "output_type": "display_data"
    },
    {
     "data": {
      "application/scrapbook.scrap.json+json": {
       "data": 21.886960963346063,
       "encoder": "json",
       "name": "ABC-GAN Model 1 Manhattan Distance",
       "version": 1
      }
     },
     "metadata": {
      "scrapbook": {
       "data": true,
       "display": false,
       "name": "ABC-GAN Model 1 Manhattan Distance"
      }
     },
     "output_type": "display_data"
    },
    {
     "data": {
      "application/scrapbook.scrap.json+json": {
       "data": 2.8223528506690663,
       "encoder": "json",
       "name": "ABC-GAN Model 1 Euclidean distance",
       "version": 1
      }
     },
     "metadata": {
      "scrapbook": {
       "data": true,
       "display": false,
       "name": "ABC-GAN Model 1 Euclidean distance"
      }
     },
     "output_type": "display_data"
    },
    {
     "data": {
      "application/scrapbook.scrap.json+json": {
       "data": [
        [
         0.07788550038028434,
         0.0777150040770194,
         0.07743688423708257,
         0.07944467095823655,
         0.07789808471342752,
         0.0785811909846959,
         0.07867429873105873,
         0.07779095503708973,
         0.07919695939782863,
         0.0770396630415594,
         0.0775020297718611,
         0.07803625444073206,
         0.07735026814174684,
         0.07800345510804801,
         0.0782820633842185,
         0.07683461073067083,
         0.07856577497988522,
         0.078219638445419,
         0.07856129590787399,
         0.0776292838204501,
         0.0784755023411532,
         0.07739104849156314,
         0.07787445573430625,
         0.0792445648255799,
         0.07782368424818416,
         0.07782754665441158,
         0.07865276922130396,
         0.0780320507349579,
         0.07811622630388718,
         0.0786904340558652,
         0.07811272854336562,
         0.07782568873231203,
         0.07787588452333497,
         0.07877112125065297,
         0.0785441969448338,
         0.07822624162259158,
         0.07629812440216474,
         0.07763715409590584,
         0.07753014076940781,
         0.0796820240557467,
         0.07776811028671236,
         0.07768202416429722,
         0.07830665524317378,
         0.07841715437755606,
         0.07875308482604954,
         0.07779050432272964,
         0.07779105249545072,
         0.07734926943397354,
         0.07781967075585468,
         0.07762160481627502,
         0.07813801367433446,
         0.07718381622614354,
         0.07848501697327052,
         0.07773215668653075,
         0.07855673270591616,
         0.0792559712471739,
         0.07761869987714076,
         0.07854904531510447,
         0.07859187333882613,
         0.078263864453121,
         0.0790474840333419,
         0.07898647499083097,
         0.07824007477107316,
         0.07848063238303234,
         0.07821909048614273,
         0.07859264839707267,
         0.07836472645359865,
         0.07833064052177682,
         0.07771372039921759,
         0.0780335643065875,
         0.0774937161724688,
         0.07806205246858458,
         0.07850826831202506,
         0.07779811444766235,
         0.07788983716545805,
         0.07878101895152287,
         0.07747760433471425,
         0.079248183666197,
         0.07826629648627288,
         0.07820299761665779,
         0.07871766637003658,
         0.07803517151766234,
         0.07740050808331603,
         0.07854869126429836,
         0.07691089510748766,
         0.07839048550919875,
         0.0792230765825745,
         0.07690584171913728,
         0.07839825314380194,
         0.07895524854442411,
         0.07820516068573567,
         0.07799628422094662,
         0.07583666559339852,
         0.07786008283020404,
         0.07832154107563034,
         0.07855029402856906,
         0.07799500739882824,
         0.07724247676263514,
         0.07700808472951241,
         0.07843052181634712
        ],
        [
         0.21507079829918405,
         0.2139020616955617,
         0.2137143572463709,
         0.21683801725214602,
         0.2137123051227308,
         0.21595731793957598,
         0.2168203597778783,
         0.21427159489808129,
         0.216338280953613,
         0.21381573671219395,
         0.21291248390779777,
         0.2146046252227297,
         0.21214095590745702,
         0.21398663327243983,
         0.2150897885508397,
         0.21156079497407465,
         0.21489899631078338,
         0.21569426445400014,
         0.21396824505691434,
         0.2133230694807043,
         0.21532413085886076,
         0.2136750694583444,
         0.21469505299247948,
         0.2158957342891132,
         0.21546330368694136,
         0.21346285139374874,
         0.21465063869368797,
         0.21359692272894523,
         0.21467531874191528,
         0.21654589130890137,
         0.21459902012172868,
         0.21230014566989505,
         0.2145581812981297,
         0.215356885072063,
         0.21406925758164302,
         0.2142452700611423,
         0.21020718934197052,
         0.2150192200114914,
         0.21385957680496515,
         0.21687781350577578,
         0.21366758505795516,
         0.21381901730509364,
         0.21304741772074326,
         0.21587119094443089,
         0.2166745853701643,
         0.21365373483037248,
         0.21365744879871024,
         0.21220292129060803,
         0.2139773882341151,
         0.2154982042517148,
         0.21599948749530548,
         0.2142636891016189,
         0.2156347985945496,
         0.21255994913186513,
         0.21583999686089217,
         0.21748148354099078,
         0.2135289579849033,
         0.21510882438251785,
         0.2159426220345731,
         0.21476533125136413,
         0.21485771377589188,
         0.217469732331879,
         0.21453061272554538,
         0.2152241127309846,
         0.21503577490939813,
         0.2168840337179455,
         0.21656152039912402,
         0.21330231822588863,
         0.21540349670777134,
         0.2163238441388981,
         0.2136740336085067,
         0.21303733292163587,
         0.2161828864584951,
         0.21416926741892217,
         0.2141743803068119,
         0.2166405362533588,
         0.2142733330016627,
         0.2174077027057316,
         0.21511450468325147,
         0.21582738470797444,
         0.21689952274455743,
         0.21431022889766038,
         0.2129088992654693,
         0.2156856717067022,
         0.2116976451201766,
         0.2148220851725223,
         0.21691864999193772,
         0.2129946573473075,
         0.2141307032867974,
         0.21585161173168352,
         0.21393903279129198,
         0.21495212114178666,
         0.21005778774326922,
         0.21478079127914765,
         0.2128655093849874,
         0.21502937003970146,
         0.21336265295451762,
         0.21318087515001202,
         0.2118098060874378,
         0.21461992761960216
        ],
        [
         21.93722142651677,
         21.818010292947292,
         21.79886443912983,
         22.117477759718895,
         21.79865512251854,
         22.02764642983675,
         22.115676697343588,
         21.855702679604292,
         22.066504657268524,
         21.809205144643784,
         21.71707335859537,
         21.88967177271843,
         21.638377502560616,
         21.826636593788862,
         21.93915843218565,
         21.579201087355614,
         21.919697623699903,
         22.000814974308014,
         21.824760995805264,
         21.75895308703184,
         21.963061347603798,
         21.79485708475113,
         21.898895405232906,
         22.021364897489548,
         21.97725697606802,
         21.77321084216237,
         21.894365146756172,
         21.786886118352413,
         21.896882511675358,
         22.08768091350794,
         21.889100052416325,
         21.654614858329296,
         21.88493449240923,
         21.966402277350426,
         21.83506427332759,
         21.853017546236515,
         21.441133312880993,
         21.931960441172123,
         21.813676834106445,
         22.12153697758913,
         21.794093675911427,
         21.809539765119553,
         21.730836607515812,
         22.01886147633195,
         22.100807707756758,
         21.792680952697992,
         21.793059777468443,
         21.644697971642017,
         21.82569359987974,
         21.980816833674908,
         22.03194772452116,
         21.854896288365126,
         21.99474945664406,
         21.681114811450243,
         22.015679679811,
         22.18311132118106,
         21.779953714460135,
         21.94110008701682,
         22.026147447526455,
         21.90606378763914,
         21.915486805140972,
         22.181912697851658,
         21.88212249800563,
         21.95285949856043,
         21.93364904075861,
         22.122171439230442,
         22.08927508071065,
         21.756836459040642,
         21.971156664192677,
         22.065032102167606,
         21.794751428067684,
         21.72980795800686,
         22.0506544187665,
         21.84526527673006,
         21.845786791294813,
         22.097334697842598,
         21.855879966169596,
         22.17558567598462,
         21.94167947769165,
         22.014393240213394,
         22.12375131994486,
         21.85964334756136,
         21.716707725077868,
         21.999938514083624,
         21.593159802258015,
         21.911852687597275,
         22.125702299177647,
         21.725455049425364,
         21.841331735253334,
         22.016864396631718,
         21.82178134471178,
         21.92511635646224,
         21.42589434981346,
         21.90764071047306,
         21.712281957268715,
         21.93299574404955,
         21.762990601360798,
         21.744449265301228,
         21.604600220918655,
         21.89123261719942
        ],
        [
         2.8185671960748073,
         2.815480494668002,
         2.81043807833982,
         2.846639499083108,
         2.818794891575051,
         2.831127245540013,
         2.832803994378713,
         2.816855944804979,
         2.8421980681469963,
         2.8032205818021274,
         2.811620002192656,
         2.821293666557005,
         2.8088658477147277,
         2.820700696816466,
         2.825733615398006,
         2.7994875056925013,
         2.8308495276062082,
         2.824606719781134,
         2.8307688324204685,
         2.8139273177688704,
         2.82922272696895,
         2.8096061905789282,
         2.8183673438533936,
         2.843052164876534,
         2.817448454420201,
         2.8175183688398517,
         2.832416364267973,
         2.82121767592749,
         2.822738932844568,
         2.833094469603555,
         2.822675736145279,
         2.8174847383252715,
         2.8183931985051633,
         2.8345465894154223,
         2.830460755490711,
         2.8247259416630737,
         2.789696881207849,
         2.814069956092491,
         2.8121298615959387,
         2.850888712960603,
         2.8164423035533073,
         2.814883028610303,
         2.8261774245088938,
         2.8281707421071163,
         2.834222054154729,
         2.8168477844779654,
         2.8168577093165306,
         2.8088477143243806,
         2.8173758033136393,
         2.8137881390147426,
         2.8231325499845226,
         2.8058419868315174,
         2.8293942339789955,
         2.8157911822480965,
         2.830686619179779,
         2.843256771241693,
         2.813735486407412,
         2.830548113376746,
         2.83131967120639,
         2.8254051345282045,
         2.839514636588597,
         2.838418652888392,
         2.824975686028016,
         2.829315200374341,
         2.824596826024301,
         2.8313336321425298,
         2.8272251587496635,
         2.8266102195423466,
         2.8154572418561417,
         2.8212450370841458,
         2.81146919769572,
         2.821759974164285,
         2.8298133097125957,
         2.8169855650431646,
         2.818645666073818,
         2.834724666181062,
         2.811176914059457,
         2.843117080591668,
         2.825449033622768,
         2.8243062434691986,
         2.833584650181414,
         2.8212740906905087,
         2.80977789593737,
         2.830541734184188,
         2.800876880722132,
         2.827689785308542,
         2.8426666725844942,
         2.8007848641679,
         2.8278298783108924,
         2.8378575284061136,
         2.8243453028879166,
         2.820571039796118,
         2.7812479016669203,
         2.818107245773448,
         2.8264460351675376,
         2.8305706122465915,
         2.820547952912781,
         2.806908019474237,
         2.802646007331333,
         2.8284117849541293
        ]
       ],
       "encoder": "json",
       "name": "ABC_GAN_1 Metrics",
       "version": 1
      }
     },
     "metadata": {
      "scrapbook": {
       "data": true,
       "display": false,
       "name": "ABC_GAN_1 Metrics"
      }
     },
     "output_type": "display_data"
    },
    {
     "name": "stdout",
     "output_type": "stream",
     "text": [
      "MSE\n",
      "0.07809622898408333\n"
     ]
    }
   ],
   "source": [
    "ABC_GAN1_metrics=ABC_train_test2.test_generator(gen,test_data,prior_model,variance,bias,\"1\",device)\n",
    "sb.glue(\"ABC_GAN_1 Metrics\",ABC_GAN1_metrics)\n",
    "\n",
    "print(\"MSE\")\n",
    "print(mean(ABC_GAN1_metrics[0]))"
   ]
  },
  {
   "cell_type": "code",
   "execution_count": 14,
   "id": "eb22ce5c",
   "metadata": {
    "execution": {
     "iopub.execute_input": "2022-06-11T18:05:24.063062Z",
     "iopub.status.busy": "2022-06-11T18:05:24.062695Z",
     "iopub.status.idle": "2022-06-11T18:05:24.379442Z",
     "shell.execute_reply": "2022-06-11T18:05:24.379738Z"
    },
    "papermill": {
     "duration": 0.332046,
     "end_time": "2022-06-11T18:05:24.379862",
     "exception": false,
     "start_time": "2022-06-11T18:05:24.047816",
     "status": "completed"
    },
    "tags": []
   },
   "outputs": [
    {
     "data": {
      "image/png": "[encoded data removed]",
      "text/plain": [
       "<Figure size 432x288 with 1 Axes>"
      ]
     },
     "metadata": {
      "needs_background": "light"
     },
     "output_type": "display_data"
    },
    {
     "data": {
      "image/png": "[encoded data removed]",
      "text/plain": [
       "<Figure size 432x288 with 1 Axes>"
      ]
     },
     "metadata": {
      "needs_background": "light"
     },
     "output_type": "display_data"
    },
    {
     "data": {
      "image/png": "[encoded data removed]",
      "text/plain": [
       "<Figure size 432x288 with 1 Axes>"
      ]
     },
     "metadata": {
      "needs_background": "light"
     },
     "output_type": "display_data"
    },
    {
     "data": {
      "image/png": "[encoded data removed]",
      "text/plain": [
       "<Figure size 432x288 with 1 Axes>"
      ]
     },
     "metadata": {
      "needs_background": "light"
     },
     "output_type": "display_data"
    }
   ],
   "source": [
    "sanityChecks.discProbVsError(train_data,disc,device)\n",
    "sanityChecks.discProbVsError(test_data,disc,device)"
   ]
  },
  {
   "cell_type": "markdown",
   "id": "130f3a4d",
   "metadata": {
    "id": "130f3a4d",
    "papermill": {
     "duration": 0.014714,
     "end_time": "2022-06-11T18:05:24.409837",
     "exception": false,
     "start_time": "2022-06-11T18:05:24.395123",
     "status": "completed"
    },
    "tags": []
   },
   "source": [
    "# ABC - GAN Model with skip connection"
   ]
  },
  {
   "cell_type": "code",
   "execution_count": 15,
   "id": "4e43dad1",
   "metadata": {
    "execution": {
     "iopub.execute_input": "2022-06-11T18:05:24.443841Z",
     "iopub.status.busy": "2022-06-11T18:05:24.443451Z",
     "iopub.status.idle": "2022-06-11T18:05:24.445691Z",
     "shell.execute_reply": "2022-06-11T18:05:24.446006Z"
    },
    "id": "4e43dad1",
    "papermill": {
     "duration": 0.020716,
     "end_time": "2022-06-11T18:05:24.446122",
     "exception": false,
     "start_time": "2022-06-11T18:05:24.425406",
     "status": "completed"
    },
    "tags": []
   },
   "outputs": [],
   "source": [
    "#Generator\n",
    "gen3 = network.GeneratorWithSkipConnection(n_features+1).to(device)\n",
    "constraints=network.weightConstraint()\n",
    "#Discriminator \n",
    "disc3 = network.Discriminator(n_features+1).to(device)\n",
    "\n",
    "criterion = torch.nn.BCELoss()\n",
    "gen_opt = torch.optim.Adam(gen3.parameters(), lr=0.001, betas=(0.5, 0.999))\n",
    "disc_opt = torch.optim.Adam(disc3.parameters(), lr=0.001, betas=(0.5, 0.999))\n"
   ]
  },
  {
   "cell_type": "code",
   "execution_count": 16,
   "id": "26acbc37",
   "metadata": {
    "execution": {
     "iopub.execute_input": "2022-06-11T18:05:24.478669Z",
     "iopub.status.busy": "2022-06-11T18:05:24.478285Z",
     "iopub.status.idle": "2022-06-11T18:08:19.537120Z",
     "shell.execute_reply": "2022-06-11T18:08:19.537433Z"
    },
    "id": "26acbc37",
    "papermill": {
     "duration": 175.076423,
     "end_time": "2022-06-11T18:08:19.537566",
     "exception": false,
     "start_time": "2022-06-11T18:05:24.461143",
     "status": "completed"
    },
    "tags": []
   },
   "outputs": [
    {
     "data": {
      "image/png": "[encoded data removed]",
      "text/plain": [
       "<Figure size 432x288 with 1 Axes>"
      ]
     },
     "metadata": {
      "needs_background": "light"
     },
     "output_type": "display_data"
    },
    {
     "data": {
      "image/png": "[encoded data removed]",
      "text/plain": [
       "<Figure size 432x288 with 1 Axes>"
      ]
     },
     "metadata": {
      "needs_background": "light"
     },
     "output_type": "display_data"
    }
   ],
   "source": [
    "ABC_train_test2.training_GAN_skip_connection(disc3,gen3,disc_opt,gen_opt,train_data,batch_size,n_epochs,criterion,prior_model,variance,bias,device)"
   ]
  },
  {
   "cell_type": "code",
   "execution_count": 17,
   "id": "c5e0717b",
   "metadata": {
    "execution": {
     "iopub.execute_input": "2022-06-11T18:08:19.573260Z",
     "iopub.status.busy": "2022-06-11T18:08:19.572869Z",
     "iopub.status.idle": "2022-06-11T18:08:20.409163Z",
     "shell.execute_reply": "2022-06-11T18:08:20.409468Z"
    },
    "id": "c5e0717b",
    "papermill": {
     "duration": 0.855853,
     "end_time": "2022-06-11T18:08:20.409593",
     "exception": false,
     "start_time": "2022-06-11T18:08:19.553740",
     "status": "completed"
    },
    "tags": []
   },
   "outputs": [
    {
     "data": {
      "application/scrapbook.scrap.json+json": {
       "data": 0.10302286309023713,
       "encoder": "json",
       "name": "ABC-GAN Model 3 MSE",
       "version": 1
      }
     },
     "metadata": {
      "scrapbook": {
       "data": true,
       "display": false,
       "name": "ABC-GAN Model 3 MSE"
      }
     },
     "output_type": "display_data"
    },
    {
     "data": {
      "application/scrapbook.scrap.json+json": {
       "data": 0.25913417102695974,
       "encoder": "json",
       "name": "ABC-GAN Model 3 MAE",
       "version": 1
      }
     },
     "metadata": {
      "scrapbook": {
       "data": true,
       "display": false,
       "name": "ABC-GAN Model 3 MAE"
      }
     },
     "output_type": "display_data"
    },
    {
     "data": {
      "application/scrapbook.scrap.json+json": {
       "data": 26.431685444749892,
       "encoder": "json",
       "name": "ABC-GAN Model 3 Manhattan Distance",
       "version": 1
      }
     },
     "metadata": {
      "scrapbook": {
       "data": true,
       "display": false,
       "name": "ABC-GAN Model 3 Manhattan Distance"
      }
     },
     "output_type": "display_data"
    },
    {
     "data": {
      "application/scrapbook.scrap.json+json": {
       "data": 3.240644123445983,
       "encoder": "json",
       "name": "ABC-GAN Model 3 Euclidean distance",
       "version": 1
      }
     },
     "metadata": {
      "scrapbook": {
       "data": true,
       "display": false,
       "name": "ABC-GAN Model 3 Euclidean distance"
      }
     },
     "output_type": "display_data"
    },
    {
     "data": {
      "application/scrapbook.scrap.json+json": {
       "data": [
        [
         0.10341290890378045,
         0.09940366450299452,
         0.09688735965604921,
         0.10455512163051811,
         0.10470253123831538,
         0.09589256430309089,
         0.11716182576154029,
         0.0989496624492272,
         0.10223960809519604,
         0.10716135692075902,
         0.09992040858862099,
         0.11084949592785903,
         0.10368844099343308,
         0.09764259860593442,
         0.1050683245739917,
         0.10633860909341149,
         0.0996276936465153,
         0.09751271076416004,
         0.1050577515704752,
         0.10654195830486364,
         0.10905087741528982,
         0.1048360704793975,
         0.10054410252621862,
         0.10449400866229747,
         0.10572635434189595,
         0.11089569602209846,
         0.09974527331291329,
         0.10720413465709604,
         0.11516268552812321,
         0.10751899678375836,
         0.09945615179682571,
         0.1092332139040686,
         0.10165615285561451,
         0.09726623814507368,
         0.09805935292507652,
         0.09573839152823992,
         0.10575601515789607,
         0.10553713923780844,
         0.10983685481173014,
         0.10814981666154466,
         0.0976360269684301,
         0.09555133173209347,
         0.10631036598434583,
         0.10081070617064716,
         0.11788805578475359,
         0.09931704246576811,
         0.10022927939514549,
         0.09407250502711438,
         0.10203861721415065,
         0.10299273802441199,
         0.09844945441403487,
         0.10400132222639177,
         0.10547908026215083,
         0.09936518105361455,
         0.10362957703939767,
         0.09712807920819831,
         0.10642558934930935,
         0.10197125858146106,
         0.1113408592551578,
         0.10236564740779644,
         0.09314121896995135,
         0.1028309123813375,
         0.10056593767628286,
         0.10836182420264641,
         0.10948111864060757,
         0.10877255063242171,
         0.10150536575729752,
         0.10644413093401449,
         0.0943692528477106,
         0.10303107637189374,
         0.09951679972757864,
         0.10096291003194847,
         0.10958386714724996,
         0.1078023908667102,
         0.1091010003976742,
         0.09712561850163463,
         0.09986682081351841,
         0.10047749920748934,
         0.09902868200562298,
         0.11239930337618183,
         0.09663661409934082,
         0.10492710506828967,
         0.10129386613380433,
         0.10107861975244097,
         0.10059445893625767,
         0.09746844315272732,
         0.10064044447874342,
         0.09400256422396364,
         0.09990377311864154,
         0.10044134115200021,
         0.10543970950404873,
         0.09472124879686994,
         0.11072546685857619,
         0.1003952493971489,
         0.10431969349922816,
         0.09917144268504019,
         0.10233657742411262,
         0.09956064945922254,
         0.1087474714368187,
         0.1100284495085891
        ],
        [
         0.2553626622858585,
         0.2593563541258667,
         0.2543326159391333,
         0.26634183953351837,
         0.26087599802835315,
         0.252023461621766,
         0.2741043535152487,
         0.25400354132494507,
         0.25722830519810613,
         0.2611676903405026,
         0.2573434818974313,
         0.26501242202870984,
         0.2639646905602193,
         0.25289822906693993,
         0.2592042741530082,
         0.2623151373118162,
         0.2614630610846421,
         0.25290323103613715,
         0.2633971726594895,
         0.2551600015265684,
         0.2649076227463928,
         0.2527903749735332,
         0.2512303091329979,
         0.2642253680045114,
         0.2605455683215576,
         0.2742242221811823,
         0.2549972713504936,
         0.2613032149406625,
         0.26493246922744257,
         0.26621017199667063,
         0.25236766500508084,
         0.2668918286103244,
         0.25647915793838455,
         0.24739400012528195,
         0.2493714506500492,
         0.25351030912761596,
         0.2591108367504442,
         0.2644592934087211,
         0.26383301206663545,
         0.2596369678264155,
         0.25533335886019115,
         0.24926161696659585,
         0.2587282436662445,
         0.25654817924049556,
         0.27720672107648614,
         0.2567057865580507,
         0.25983313478383363,
         0.2541070508168024,
         0.2587015454602592,
         0.26017499156296253,
         0.2564576902408518,
         0.2592668340121414,
         0.2673561230813171,
         0.2607360961025252,
         0.259970471518589,
         0.2529102296878894,
         0.26191558838621076,
         0.25671174618251186,
         0.2741615873414512,
         0.2582622190170428,
         0.2478319043841432,
         0.2562705577515504,
         0.2584917038752168,
         0.2645393878805871,
         0.26448418243842964,
         0.2704956363886595,
         0.25881212120693103,
         0.26693338108267267,
         0.24332991370237342,
         0.25737986213290226,
         0.25027177464582173,
         0.25899756458752293,
         0.2600774739083706,
         0.2653020759496619,
         0.26597247097422094,
         0.2500989020382072,
         0.2510020550267369,
         0.252120648419448,
         0.24967658684095917,
         0.27037405774143397,
         0.2523547826955716,
         0.2634487998507479,
         0.2560379759536362,
         0.2599648190114428,
         0.2609070072352302,
         0.25686855588619617,
         0.25447806988057553,
         0.24960350566634945,
         0.2637179909164415,
         0.25106802027599484,
         0.2671117602537076,
         0.24947678834638176,
         0.2718754058302033,
         0.2579333787674413,
         0.2610911646967425,
         0.25392754963946107,
         0.26105417446324636,
         0.25448201914482255,
         0.26658436162945104,
         0.2677398593913691
        ],
        [
         26.046991553157568,
         26.454348120838404,
         25.941926825791597,
         27.16686763241887,
         26.60935179889202,
         25.70639308542013,
         27.958644058555365,
         25.908361215144396,
         26.237287130206823,
         26.639104414731264,
         26.24903515353799,
         27.031267046928406,
         26.924398437142372,
         25.79561936482787,
         26.438835963606834,
         26.756144005805254,
         26.669232230633497,
         25.796129565685987,
         26.866511611267924,
         26.026320155709982,
         27.020577520132065,
         25.784618247300386,
         25.625491531565785,
         26.95098753646016,
         26.575647968798876,
         27.970870662480593,
         26.00972167775035,
         26.652927923947573,
         27.02311186119914,
         27.153437543660402,
         25.741501830518246,
         27.222966518253088,
         26.160874109715223,
         25.23418801277876,
         25.435887966305017,
         25.858051531016827,
         26.429305348545313,
         26.974847927689552,
         26.910967230796814,
         26.482970718294382,
         26.0440026037395,
         25.424684930592775,
         26.390280853956938,
         26.167914282530546,
         28.275085549801588,
         26.183990228921175,
         26.50297974795103,
         25.918919183313847,
         26.38755763694644,
         26.53784913942218,
         26.158684404566884,
         26.445217069238424,
         27.270324554294348,
         26.59508180245757,
         26.516988094896078,
         25.79684342816472,
         26.715390015393496,
         26.184598110616207,
         27.96448190882802,
         26.34274633973837,
         25.278854247182608,
         26.13959689065814,
         26.366153795272112,
         26.983017563819885,
         26.977386608719826,
         27.590554911643267,
         26.398836363106966,
         27.227204870432615,
         24.819651197642088,
         26.25274593755603,
         25.527721013873816,
         26.41775158792734,
         26.527902338653803,
         27.06081174686551,
         27.129192039370537,
         25.51008800789714,
         25.602209612727165,
         25.716306138783693,
         25.467011857777834,
         27.578153889626265,
         25.7401878349483,
         26.871777584776282,
         26.115873547270894,
         26.516411539167166,
         26.61251473799348,
         26.200592700392008,
         25.956763127818704,
         25.459557577967644,
         26.89923507347703,
         25.608938068151474,
         27.245399545878172,
         25.44663241133094,
         27.73129139468074,
         26.309204634279013,
         26.631298799067736,
         25.90061006322503,
         26.62752579525113,
         25.957165952771902,
         27.191604886204004,
         27.309465657919645
        ],
        [
         3.2477864320465413,
         3.1842069309806864,
         3.1436460813706457,
         3.2656733465416967,
         3.267974630609633,
         3.1274656766965916,
         3.4569504230863806,
         3.1769270639756866,
         3.229309527702477,
         3.306124378470571,
         3.192472658620484,
         3.362536034697862,
         3.2521102351135287,
         3.155874689813477,
         3.273678222817135,
         3.2934082843656003,
         3.1877930848699325,
         3.1537749599399643,
         3.273513503895847,
         3.296555740025654,
         3.3351445990180943,
         3.270057979439897,
         3.2024207184057336,
         3.2647188061997525,
         3.2839135407122684,
         3.3632366842454076,
         3.1896736318810355,
         3.3067841984356634,
         3.427330436924424,
         3.31163670591195,
         3.185047485246683,
         3.3379316676970783,
         3.2200819230685234,
         3.1497867056036526,
         3.162602409149434,
         3.124950549349616,
         3.2843741483127946,
         3.2809736668032645,
         3.347141943628395,
         3.3213372757787716,
         3.155768488146725,
         3.1218961924883937,
         3.2929708972906626,
         3.206663691347443,
         3.4676478613095734,
         3.1828192426696726,
         3.197403086616518,
         3.0976435419146706,
         3.2261337473581846,
         3.2411817718989497,
         3.1688869260722377,
         3.2570131819033152,
         3.280071064281897,
         3.18359049933698,
         3.251186992164332,
         3.14754890021366,
         3.294754939844472,
         3.2250687396254096,
         3.369980362557932,
         3.2312994345302064,
         3.0822725925743546,
         3.2386344441595174,
         3.2027684341801628,
         3.3245911130047157,
         3.3417172383883664,
         3.3308857927745006,
         3.2176928547088437,
         3.2950419352823834,
         3.102525389173549,
         3.241784969724729,
         3.186018451329656,
         3.2090834864893654,
         3.343284978732668,
         3.315998170748054,
         3.335910976114736,
         3.147509028925371,
         3.1916164749197042,
         3.201359854681119,
         3.178195331406416,
         3.385960564503158,
         3.139575550633041,
         3.271477451697558,
         3.214338866026424,
         3.210921863694129,
         3.203222566650385,
         3.1530590228503783,
         3.2039546402581647,
         3.0964918134631465,
         3.1922068946265743,
         3.2007837786242326,
         3.279458853136134,
         3.1083061910437224,
         3.3606543439596352,
         3.200049286887498,
         3.2619945948638955,
         3.1804853645118536,
         3.2308405867915377,
         3.1867202959846814,
         3.3305017769932967,
         3.3500599770565427
        ]
       ],
       "encoder": "json",
       "name": "ABC_GAN_3 Metrics",
       "version": 1
      }
     },
     "metadata": {
      "scrapbook": {
       "data": true,
       "display": false,
       "name": "ABC_GAN_3 Metrics"
      }
     },
     "output_type": "display_data"
    },
    {
     "name": "stdout",
     "output_type": "stream",
     "text": [
      "MSE\n",
      "0.10302286309023713\n"
     ]
    }
   ],
   "source": [
    "ABC_GAN3_metrics=ABC_train_test2.test_generator(gen3,test_data,prior_model,variance,bias,\"3\",device)\n",
    "sb.glue(\"ABC_GAN_3 Metrics\",ABC_GAN3_metrics)\n",
    "\n",
    "print(\"MSE\")\n",
    "print(mean(ABC_GAN3_metrics[0]))"
   ]
  },
  {
   "cell_type": "code",
   "execution_count": 18,
   "id": "c8e46b48",
   "metadata": {
    "execution": {
     "iopub.execute_input": "2022-06-11T18:08:20.448036Z",
     "iopub.status.busy": "2022-06-11T18:08:20.447587Z",
     "iopub.status.idle": "2022-06-11T18:08:20.772045Z",
     "shell.execute_reply": "2022-06-11T18:08:20.772368Z"
    },
    "id": "c8e46b48",
    "papermill": {
     "duration": 0.345035,
     "end_time": "2022-06-11T18:08:20.772495",
     "exception": false,
     "start_time": "2022-06-11T18:08:20.427460",
     "status": "completed"
    },
    "tags": []
   },
   "outputs": [
    {
     "data": {
      "image/png": "[encoded data removed]",
      "text/plain": [
       "<Figure size 432x288 with 1 Axes>"
      ]
     },
     "metadata": {
      "needs_background": "light"
     },
     "output_type": "display_data"
    },
    {
     "data": {
      "image/png": "[encoded data removed]",
      "text/plain": [
       "<Figure size 432x288 with 1 Axes>"
      ]
     },
     "metadata": {
      "needs_background": "light"
     },
     "output_type": "display_data"
    },
    {
     "data": {
      "image/png": "[encoded data removed]",
      "text/plain": [
       "<Figure size 432x288 with 1 Axes>"
      ]
     },
     "metadata": {
      "needs_background": "light"
     },
     "output_type": "display_data"
    },
    {
     "data": {
      "image/png": "[encoded data removed]",
      "text/plain": [
       "<Figure size 432x288 with 1 Axes>"
      ]
     },
     "metadata": {
      "needs_background": "light"
     },
     "output_type": "display_data"
    }
   ],
   "source": [
    "sanityChecks.discProbVsError(train_data,disc3,device)\n",
    "sanityChecks.discProbVsError(test_data,disc3,device)"
   ]
  },
  {
   "cell_type": "markdown",
   "id": "a5bd74c3",
   "metadata": {
    "id": "a5bd74c3",
    "papermill": {
     "duration": 0.019984,
     "end_time": "2022-06-11T18:08:20.812805",
     "exception": false,
     "start_time": "2022-06-11T18:08:20.792821",
     "status": "completed"
    },
    "tags": []
   },
   "source": [
    "## Skip Connection Model Analysis - ABC-GAN "
   ]
  },
  {
   "cell_type": "markdown",
   "id": "5744a8bf",
   "metadata": {
    "id": "5744a8bf",
    "papermill": {
     "duration": 0.019507,
     "end_time": "2022-06-11T18:08:20.852121",
     "exception": false,
     "start_time": "2022-06-11T18:08:20.832614",
     "status": "completed"
    },
    "tags": []
   },
   "source": [
    "### Weight Analysis \n",
    "\n",
    "Study the weights of the skip connection layer\n",
    "\n",
    "Equation of the skip connection is \n",
    "\n",
    "$output = y_{gan} * w + y_{abc} * (1-w)$"
   ]
  },
  {
   "cell_type": "code",
   "execution_count": 19,
   "id": "52c31dea",
   "metadata": {
    "execution": {
     "iopub.execute_input": "2022-06-11T18:08:20.894079Z",
     "iopub.status.busy": "2022-06-11T18:08:20.893676Z",
     "iopub.status.idle": "2022-06-11T18:08:20.897167Z",
     "shell.execute_reply": "2022-06-11T18:08:20.897379Z"
    },
    "id": "52c31dea",
    "papermill": {
     "duration": 0.02588,
     "end_time": "2022-06-11T18:08:20.897494",
     "exception": false,
     "start_time": "2022-06-11T18:08:20.871614",
     "status": "completed"
    },
    "tags": []
   },
   "outputs": [
    {
     "name": "stdout",
     "output_type": "stream",
     "text": [
      "Weight of the node at skip connection\n",
      "Parameter containing:\n",
      "tensor([[0.4273]], requires_grad=True)\n"
     ]
    },
    {
     "data": {
      "application/scrapbook.scrap.json+json": {
       "data": 0.42732176184654236,
       "encoder": "json",
       "name": "Skip Connection Weight",
       "version": 1
      }
     },
     "metadata": {
      "scrapbook": {
       "data": true,
       "display": false,
       "name": "Skip Connection Weight"
      }
     },
     "output_type": "display_data"
    }
   ],
   "source": [
    "print(\"Weight of the node at skip connection\")\n",
    "for name,param in gen3.named_parameters():\n",
    "    if(name == \"skipNode.weight\"):\n",
    "        print(param)\n",
    "        sb.glue(\"Skip Connection Weight\",param.item())"
   ]
  }
 ],
 "metadata": {
  "colab": {
   "collapsed_sections": [],
   "name": "ABC_GAN_Model-Catboost_Pre-gen.ipynb",
   "provenance": []
  },
  "interpreter": {
   "hash": "31f2aee4e71d21fbe5cf8b01ff0e069b9275f58929596ceb00d14d90e3e16cd6"
  },
  "kernelspec": {
   "display_name": "Python 3 (ipykernel)",
   "language": "python",
   "name": "python3"
  },
  "language_info": {
   "codemirror_mode": {
    "name": "ipython",
    "version": 3
   },
   "file_extension": ".py",
   "mimetype": "text/x-python",
   "name": "python",
   "nbconvert_exporter": "python",
   "pygments_lexer": "ipython3",
   "version": "3.8.11"
  },
  "papermill": {
   "default_parameters": {},
   "duration": 243.466463,
   "end_time": "2022-06-11T18:08:21.225457",
   "environment_variables": {},
   "exception": null,
   "input_path": "ABC_GAN-Catboost.ipynb",
   "output_path": "./ABC_GAN_Catboost/ABC-GAN_output_3_3.ipynb",
   "parameters": {
    "bias": 0.1,
    "variance": 1
   },
   "start_time": "2022-06-11T18:04:17.758994",
   "version": "2.3.3"
  }
 },
 "nbformat": 4,
 "nbformat_minor": 5
}