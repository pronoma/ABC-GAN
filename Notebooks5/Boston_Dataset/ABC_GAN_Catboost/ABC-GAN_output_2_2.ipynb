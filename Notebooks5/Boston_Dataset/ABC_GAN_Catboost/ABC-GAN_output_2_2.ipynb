{
 "cells": [
  {
   "cell_type": "markdown",
   "id": "622780e6",
   "metadata": {
    "id": "622780e6",
    "papermill": {
     "duration": 0.014687,
     "end_time": "2022-06-11T15:57:48.106106",
     "exception": false,
     "start_time": "2022-06-11T15:57:48.091419",
     "status": "completed"
    },
    "tags": []
   },
   "source": [
    "## Import Libraries "
   ]
  },
  {
   "cell_type": "code",
   "execution_count": 1,
   "id": "a62397e3",
   "metadata": {
    "execution": {
     "iopub.execute_input": "2022-06-11T15:57:48.134125Z",
     "iopub.status.busy": "2022-06-11T15:57:48.133557Z",
     "iopub.status.idle": "2022-06-11T15:57:48.136518Z",
     "shell.execute_reply": "2022-06-11T15:57:48.136863Z"
    },
    "id": "a62397e3",
    "papermill": {
     "duration": 0.01941,
     "end_time": "2022-06-11T15:57:48.137130",
     "exception": false,
     "start_time": "2022-06-11T15:57:48.117720",
     "status": "completed"
    },
    "tags": []
   },
   "outputs": [],
   "source": [
    "import warnings\n",
    "import sys\n",
    "sys.path.insert(0, '../../src')\n",
    "warnings.filterwarnings('ignore')"
   ]
  },
  {
   "cell_type": "code",
   "execution_count": 2,
   "id": "d6a4e155",
   "metadata": {
    "execution": {
     "iopub.execute_input": "2022-06-11T15:57:48.155742Z",
     "iopub.status.busy": "2022-06-11T15:57:48.155329Z",
     "iopub.status.idle": "2022-06-11T15:57:49.733513Z",
     "shell.execute_reply": "2022-06-11T15:57:49.733750Z"
    },
    "id": "d6a4e155",
    "papermill": {
     "duration": 1.58857,
     "end_time": "2022-06-11T15:57:49.733879",
     "exception": false,
     "start_time": "2022-06-11T15:57:48.145309",
     "status": "completed"
    },
    "tags": []
   },
   "outputs": [],
   "source": [
    "import ABC_train_test2\n",
    "import bostonDataset\n",
    "import network\n",
    "import dataset\n",
    "import sanityChecks\n",
    "import torch \n",
    "import scrapbook as sb\n",
    "from statistics import mean \n",
    "import catboost as ctb \n",
    "from sklearn.model_selection import train_test_split\n",
    "from sklearn.metrics import mean_squared_error,mean_absolute_error\n",
    "import numpy as np"
   ]
  },
  {
   "cell_type": "markdown",
   "id": "2fa5b0f7",
   "metadata": {
    "id": "2fa5b0f7",
    "papermill": {
     "duration": 0.007408,
     "end_time": "2022-06-11T15:57:49.748492",
     "exception": false,
     "start_time": "2022-06-11T15:57:49.741084",
     "status": "completed"
    },
    "tags": []
   },
   "source": [
    "## Parameters "
   ]
  },
  {
   "cell_type": "code",
   "execution_count": 3,
   "id": "783186fb",
   "metadata": {
    "execution": {
     "iopub.execute_input": "2022-06-11T15:57:49.764772Z",
     "iopub.status.busy": "2022-06-11T15:57:49.764345Z",
     "iopub.status.idle": "2022-06-11T15:57:49.765516Z",
     "shell.execute_reply": "2022-06-11T15:57:49.765792Z"
    },
    "id": "783186fb",
    "papermill": {
     "duration": 0.010373,
     "end_time": "2022-06-11T15:57:49.765911",
     "exception": false,
     "start_time": "2022-06-11T15:57:49.755538",
     "status": "completed"
    },
    "tags": [
     "parameters"
    ]
   },
   "outputs": [],
   "source": [
    "variance = 1\n",
    "bias = 1 "
   ]
  },
  {
   "cell_type": "code",
   "execution_count": 4,
   "id": "6299de80",
   "metadata": {
    "execution": {
     "iopub.execute_input": "2022-06-11T15:57:49.781591Z",
     "iopub.status.busy": "2022-06-11T15:57:49.781218Z",
     "iopub.status.idle": "2022-06-11T15:57:49.782521Z",
     "shell.execute_reply": "2022-06-11T15:57:49.782763Z"
    },
    "papermill": {
     "duration": 0.009977,
     "end_time": "2022-06-11T15:57:49.782865",
     "exception": false,
     "start_time": "2022-06-11T15:57:49.772888",
     "status": "completed"
    },
    "tags": [
     "injected-parameters"
    ]
   },
   "outputs": [],
   "source": [
    "# Parameters\n",
    "variance = 0.01\n",
    "bias = 1\n"
   ]
  },
  {
   "cell_type": "markdown",
   "id": "391cdbfd",
   "metadata": {
    "id": "391cdbfd",
    "papermill": {
     "duration": 0.00678,
     "end_time": "2022-06-11T15:57:49.796554",
     "exception": false,
     "start_time": "2022-06-11T15:57:49.789774",
     "status": "completed"
    },
    "tags": []
   },
   "source": [
    "## Dataset \n"
   ]
  },
  {
   "cell_type": "code",
   "execution_count": 5,
   "id": "5b51f161",
   "metadata": {
    "execution": {
     "iopub.execute_input": "2022-06-11T15:57:49.812226Z",
     "iopub.status.busy": "2022-06-11T15:57:49.811854Z",
     "iopub.status.idle": "2022-06-11T15:57:49.813049Z",
     "shell.execute_reply": "2022-06-11T15:57:49.813285Z"
    },
    "id": "5b51f161",
    "papermill": {
     "duration": 0.009916,
     "end_time": "2022-06-11T15:57:49.813387",
     "exception": false,
     "start_time": "2022-06-11T15:57:49.803471",
     "status": "completed"
    },
    "tags": []
   },
   "outputs": [],
   "source": [
    "#Parameters \n",
    "n_features = 13\n",
    "n_samples= 506\n",
    "n_target = 1 "
   ]
  },
  {
   "cell_type": "code",
   "execution_count": 6,
   "id": "5d6eced4",
   "metadata": {
    "execution": {
     "iopub.execute_input": "2022-06-11T15:57:49.829209Z",
     "iopub.status.busy": "2022-06-11T15:57:49.828804Z",
     "iopub.status.idle": "2022-06-11T15:57:49.838904Z",
     "shell.execute_reply": "2022-06-11T15:57:49.839192Z"
    },
    "id": "5d6eced4",
    "papermill": {
     "duration": 0.018947,
     "end_time": "2022-06-11T15:57:49.839302",
     "exception": false,
     "start_time": "2022-06-11T15:57:49.820355",
     "status": "completed"
    },
    "tags": []
   },
   "outputs": [
    {
     "name": "stdout",
     "output_type": "stream",
     "text": [
      "         X1        X2        X3        X4        X5        X6        X7  \\\n",
      "0 -0.419782  0.284830 -1.287909 -0.272599 -0.144217  0.413672 -0.120013   \n",
      "1 -0.417339 -0.487722 -0.593381 -0.272599 -0.740262  0.194274  0.367166   \n",
      "2 -0.417342 -0.487722 -0.593381 -0.272599 -0.740262  1.282714 -0.265812   \n",
      "3 -0.416750 -0.487722 -1.306878 -0.272599 -0.835284  1.016303 -0.809889   \n",
      "4 -0.412482 -0.487722 -1.306878 -0.272599 -0.835284  1.228577 -0.511180   \n",
      "\n",
      "         X8        X9       X10       X11       X12       X13         Y  \n",
      "0  0.140214 -0.982843 -0.666608 -1.459000  0.441052 -1.075562  0.159686  \n",
      "1  0.557160 -0.867883 -0.987329 -0.303094  0.441052 -0.492439 -0.101524  \n",
      "2  0.557160 -0.867883 -0.987329 -0.303094  0.396427 -1.208727  1.324247  \n",
      "3  1.077737 -0.752922 -1.106115  0.113032  0.416163 -1.361517  1.182758  \n",
      "4  1.077737 -0.752922 -1.106115  0.113032  0.441052 -1.026501  1.487503  \n"
     ]
    }
   ],
   "source": [
    "X,Y = bostonDataset.boston_data()"
   ]
  },
  {
   "cell_type": "code",
   "execution_count": 7,
   "id": "fe007438",
   "metadata": {
    "execution": {
     "iopub.execute_input": "2022-06-11T15:57:49.856980Z",
     "iopub.status.busy": "2022-06-11T15:57:49.856605Z",
     "iopub.status.idle": "2022-06-11T15:57:49.858159Z",
     "shell.execute_reply": "2022-06-11T15:57:49.858399Z"
    },
    "id": "fe007438",
    "papermill": {
     "duration": 0.011885,
     "end_time": "2022-06-11T15:57:49.858512",
     "exception": false,
     "start_time": "2022-06-11T15:57:49.846627",
     "status": "completed"
    },
    "tags": []
   },
   "outputs": [],
   "source": [
    "#Train test split for dataset \n",
    "X_train,X_test,Y_train,Y_test = train_test_split(X,Y,test_size = 0.2)\n",
    "train_data = dataset.CustomDataset(X_train,Y_train)\n",
    "test_data = dataset.CustomDataset(X_test,Y_test)\n"
   ]
  },
  {
   "cell_type": "markdown",
   "id": "a9a1af34",
   "metadata": {
    "id": "a9a1af34",
    "papermill": {
     "duration": 0.007363,
     "end_time": "2022-06-11T15:57:49.873207",
     "exception": false,
     "start_time": "2022-06-11T15:57:49.865844",
     "status": "completed"
    },
    "tags": []
   },
   "source": [
    "## Training Parameters "
   ]
  },
  {
   "cell_type": "code",
   "execution_count": 8,
   "id": "952b7fc8",
   "metadata": {
    "execution": {
     "iopub.execute_input": "2022-06-11T15:57:49.890183Z",
     "iopub.status.busy": "2022-06-11T15:57:49.889813Z",
     "iopub.status.idle": "2022-06-11T15:57:49.891038Z",
     "shell.execute_reply": "2022-06-11T15:57:49.891282Z"
    },
    "id": "952b7fc8",
    "papermill": {
     "duration": 0.011077,
     "end_time": "2022-06-11T15:57:49.891394",
     "exception": false,
     "start_time": "2022-06-11T15:57:49.880317",
     "status": "completed"
    },
    "tags": []
   },
   "outputs": [],
   "source": [
    "batch_size = 32\n",
    "n_epochs = 1000\n",
    "#Select the device \n",
    "device = torch.device('cuda' if torch.cuda.is_available() else 'cpu')"
   ]
  },
  {
   "cell_type": "markdown",
   "id": "a95e1600",
   "metadata": {
    "id": "a95e1600",
    "papermill": {
     "duration": 0.007065,
     "end_time": "2022-06-11T15:57:49.905663",
     "exception": false,
     "start_time": "2022-06-11T15:57:49.898598",
     "status": "completed"
    },
    "tags": []
   },
   "source": [
    "# ABC Pre-generator Model \n",
    "\n",
    "1. The catboost model is used as a pre-generator model for the ABC-GAN. \n",
    "2. The model is first trained on the entire dataset \n",
    "3. It generats X,Y pairs and we add some Gaussian noise with mean 0 and variance 1 to it which is then feed as input to the generator.\n"
   ]
  },
  {
   "cell_type": "code",
   "execution_count": 9,
   "id": "ff8ce7bd",
   "metadata": {
    "execution": {
     "iopub.execute_input": "2022-06-11T15:57:49.924625Z",
     "iopub.status.busy": "2022-06-11T15:57:49.924235Z",
     "iopub.status.idle": "2022-06-11T15:57:50.884378Z",
     "shell.execute_reply": "2022-06-11T15:57:50.884684Z"
    },
    "id": "ff8ce7bd",
    "papermill": {
     "duration": 0.972022,
     "end_time": "2022-06-11T15:57:50.884807",
     "exception": false,
     "start_time": "2022-06-11T15:57:49.912785",
     "status": "completed"
    },
    "tags": []
   },
   "outputs": [
    {
     "name": "stdout",
     "output_type": "stream",
     "text": [
      "Learning rate set to 0.033215\n",
      "0:\tlearn: 0.9671451\ttotal: 59.5ms\tremaining: 59.4s\n",
      "1:\tlearn: 0.9472540\ttotal: 60.5ms\tremaining: 30.2s\n",
      "2:\tlearn: 0.9264491\ttotal: 61.5ms\tremaining: 20.4s\n",
      "3:\tlearn: 0.9106831\ttotal: 62.6ms\tremaining: 15.6s\n",
      "4:\tlearn: 0.8931814\ttotal: 63.5ms\tremaining: 12.6s\n",
      "5:\tlearn: 0.8796369\ttotal: 64.6ms\tremaining: 10.7s\n",
      "6:\tlearn: 0.8622665\ttotal: 65.5ms\tremaining: 9.29s\n",
      "7:\tlearn: 0.8458380\ttotal: 66.5ms\tremaining: 8.25s\n",
      "8:\tlearn: 0.8313578\ttotal: 67.5ms\tremaining: 7.43s\n",
      "9:\tlearn: 0.8144317\ttotal: 68.4ms\tremaining: 6.77s\n",
      "10:\tlearn: 0.7988475\ttotal: 69.3ms\tremaining: 6.23s\n",
      "11:\tlearn: 0.7848933\ttotal: 70.2ms\tremaining: 5.78s\n",
      "12:\tlearn: 0.7705260\ttotal: 71.1ms\tremaining: 5.4s\n",
      "13:\tlearn: 0.7562535\ttotal: 72ms\tremaining: 5.07s\n",
      "14:\tlearn: 0.7423437\ttotal: 72.8ms\tremaining: 4.78s\n",
      "15:\tlearn: 0.7297483\ttotal: 73.6ms\tremaining: 4.53s\n",
      "16:\tlearn: 0.7162472\ttotal: 74.4ms\tremaining: 4.3s\n",
      "17:\tlearn: 0.7034387\ttotal: 75.3ms\tremaining: 4.11s\n",
      "18:\tlearn: 0.6910400\ttotal: 76.1ms\tremaining: 3.93s\n",
      "19:\tlearn: 0.6788002\ttotal: 77ms\tremaining: 3.77s\n",
      "20:\tlearn: 0.6659959\ttotal: 77.8ms\tremaining: 3.63s\n",
      "21:\tlearn: 0.6552659\ttotal: 78.6ms\tremaining: 3.49s\n",
      "22:\tlearn: 0.6442034\ttotal: 79.4ms\tremaining: 3.37s\n",
      "23:\tlearn: 0.6343227\ttotal: 80.2ms\tremaining: 3.26s\n",
      "24:\tlearn: 0.6248025\ttotal: 81.7ms\tremaining: 3.19s\n",
      "25:\tlearn: 0.6156329\ttotal: 82.6ms\tremaining: 3.09s\n",
      "26:\tlearn: 0.6069687\ttotal: 83.5ms\tremaining: 3.01s\n",
      "27:\tlearn: 0.5985072\ttotal: 84.4ms\tremaining: 2.93s\n",
      "28:\tlearn: 0.5900225\ttotal: 85.2ms\tremaining: 2.85s\n",
      "29:\tlearn: 0.5802377\ttotal: 86ms\tremaining: 2.78s\n",
      "30:\tlearn: 0.5713676\ttotal: 86.8ms\tremaining: 2.71s\n",
      "31:\tlearn: 0.5633516\ttotal: 87.7ms\tremaining: 2.65s\n",
      "32:\tlearn: 0.5559661\ttotal: 88.5ms\tremaining: 2.59s\n",
      "33:\tlearn: 0.5489250\ttotal: 89.5ms\tremaining: 2.54s\n",
      "34:\tlearn: 0.5413284\ttotal: 90.4ms\tremaining: 2.49s\n",
      "35:\tlearn: 0.5341418\ttotal: 91.1ms\tremaining: 2.44s\n",
      "36:\tlearn: 0.5280029\ttotal: 92ms\tremaining: 2.39s\n",
      "37:\tlearn: 0.5202677\ttotal: 92.8ms\tremaining: 2.35s\n",
      "38:\tlearn: 0.5133563\ttotal: 94.4ms\tremaining: 2.33s\n",
      "39:\tlearn: 0.5060540\ttotal: 95.2ms\tremaining: 2.28s\n",
      "40:\tlearn: 0.4996544\ttotal: 96ms\tremaining: 2.25s\n",
      "41:\tlearn: 0.4926595\ttotal: 96.8ms\tremaining: 2.21s\n",
      "42:\tlearn: 0.4866671\ttotal: 97.6ms\tremaining: 2.17s\n",
      "43:\tlearn: 0.4810842\ttotal: 98.5ms\tremaining: 2.14s\n",
      "44:\tlearn: 0.4750970\ttotal: 99.3ms\tremaining: 2.11s\n",
      "45:\tlearn: 0.4695990\ttotal: 100ms\tremaining: 2.07s\n",
      "46:\tlearn: 0.4636595\ttotal: 101ms\tremaining: 2.04s\n",
      "47:\tlearn: 0.4582662\ttotal: 102ms\tremaining: 2.02s\n",
      "48:\tlearn: 0.4541636\ttotal: 102ms\tremaining: 1.99s\n",
      "49:\tlearn: 0.4494365\ttotal: 103ms\tremaining: 1.96s\n",
      "50:\tlearn: 0.4440290\ttotal: 104ms\tremaining: 1.93s\n",
      "51:\tlearn: 0.4401991\ttotal: 105ms\tremaining: 1.91s\n",
      "52:\tlearn: 0.4361190\ttotal: 106ms\tremaining: 1.89s\n",
      "53:\tlearn: 0.4330098\ttotal: 106ms\tremaining: 1.86s\n"
     ]
    },
    {
     "name": "stdout",
     "output_type": "stream",
     "text": [
      "54:\tlearn: 0.4287953\ttotal: 107ms\tremaining: 1.84s\n",
      "55:\tlearn: 0.4254237\ttotal: 108ms\tremaining: 1.82s\n",
      "56:\tlearn: 0.4214115\ttotal: 110ms\tremaining: 1.81s\n",
      "57:\tlearn: 0.4170802\ttotal: 110ms\tremaining: 1.79s\n",
      "58:\tlearn: 0.4138736\ttotal: 111ms\tremaining: 1.77s\n",
      "59:\tlearn: 0.4097974\ttotal: 112ms\tremaining: 1.75s\n",
      "60:\tlearn: 0.4057893\ttotal: 113ms\tremaining: 1.73s\n",
      "61:\tlearn: 0.4016041\ttotal: 113ms\tremaining: 1.72s\n",
      "62:\tlearn: 0.3986799\ttotal: 114ms\tremaining: 1.7s\n",
      "63:\tlearn: 0.3949225\ttotal: 115ms\tremaining: 1.68s\n",
      "64:\tlearn: 0.3914492\ttotal: 116ms\tremaining: 1.67s\n",
      "65:\tlearn: 0.3879652\ttotal: 117ms\tremaining: 1.65s\n",
      "66:\tlearn: 0.3849708\ttotal: 118ms\tremaining: 1.64s\n",
      "67:\tlearn: 0.3821708\ttotal: 118ms\tremaining: 1.62s\n",
      "68:\tlearn: 0.3795871\ttotal: 119ms\tremaining: 1.61s\n",
      "69:\tlearn: 0.3762574\ttotal: 120ms\tremaining: 1.59s\n",
      "70:\tlearn: 0.3728635\ttotal: 121ms\tremaining: 1.58s\n",
      "71:\tlearn: 0.3704212\ttotal: 122ms\tremaining: 1.57s\n",
      "72:\tlearn: 0.3678627\ttotal: 123ms\tremaining: 1.56s\n",
      "73:\tlearn: 0.3653253\ttotal: 124ms\tremaining: 1.55s\n",
      "74:\tlearn: 0.3623907\ttotal: 124ms\tremaining: 1.53s\n",
      "75:\tlearn: 0.3599955\ttotal: 125ms\tremaining: 1.52s\n",
      "76:\tlearn: 0.3579015\ttotal: 126ms\tremaining: 1.51s\n",
      "77:\tlearn: 0.3553079\ttotal: 127ms\tremaining: 1.5s\n",
      "78:\tlearn: 0.3537070\ttotal: 128ms\tremaining: 1.49s\n",
      "79:\tlearn: 0.3516632\ttotal: 129ms\tremaining: 1.48s\n",
      "80:\tlearn: 0.3494864\ttotal: 129ms\tremaining: 1.47s\n",
      "81:\tlearn: 0.3466358\ttotal: 130ms\tremaining: 1.46s\n",
      "82:\tlearn: 0.3440194\ttotal: 131ms\tremaining: 1.45s\n",
      "83:\tlearn: 0.3421448\ttotal: 132ms\tremaining: 1.44s\n",
      "84:\tlearn: 0.3404705\ttotal: 133ms\tremaining: 1.43s\n",
      "85:\tlearn: 0.3378121\ttotal: 133ms\tremaining: 1.42s\n",
      "86:\tlearn: 0.3360534\ttotal: 134ms\tremaining: 1.41s\n",
      "87:\tlearn: 0.3335559\ttotal: 135ms\tremaining: 1.4s\n",
      "88:\tlearn: 0.3313629\ttotal: 136ms\tremaining: 1.39s\n",
      "89:\tlearn: 0.3291241\ttotal: 136ms\tremaining: 1.38s\n",
      "90:\tlearn: 0.3269402\ttotal: 137ms\tremaining: 1.37s\n",
      "91:\tlearn: 0.3248609\ttotal: 138ms\tremaining: 1.36s\n",
      "92:\tlearn: 0.3230690\ttotal: 139ms\tremaining: 1.35s\n",
      "93:\tlearn: 0.3213456\ttotal: 140ms\tremaining: 1.35s\n",
      "94:\tlearn: 0.3191873\ttotal: 141ms\tremaining: 1.34s\n",
      "95:\tlearn: 0.3178065\ttotal: 142ms\tremaining: 1.33s\n",
      "96:\tlearn: 0.3159289\ttotal: 142ms\tremaining: 1.33s\n",
      "97:\tlearn: 0.3145601\ttotal: 143ms\tremaining: 1.32s\n",
      "98:\tlearn: 0.3129690\ttotal: 144ms\tremaining: 1.31s\n",
      "99:\tlearn: 0.3119037\ttotal: 145ms\tremaining: 1.3s\n",
      "100:\tlearn: 0.3108795\ttotal: 146ms\tremaining: 1.3s\n",
      "101:\tlearn: 0.3095374\ttotal: 147ms\tremaining: 1.29s\n",
      "102:\tlearn: 0.3084469\ttotal: 147ms\tremaining: 1.28s\n",
      "103:\tlearn: 0.3073305\ttotal: 148ms\tremaining: 1.28s\n",
      "104:\tlearn: 0.3057453\ttotal: 149ms\tremaining: 1.27s\n",
      "105:\tlearn: 0.3044023\ttotal: 150ms\tremaining: 1.26s\n",
      "106:\tlearn: 0.3026335\ttotal: 151ms\tremaining: 1.26s\n",
      "107:\tlearn: 0.3009317\ttotal: 152ms\tremaining: 1.25s\n",
      "108:\tlearn: 0.2995333\ttotal: 152ms\tremaining: 1.25s\n",
      "109:\tlearn: 0.2984876\ttotal: 153ms\tremaining: 1.24s\n",
      "110:\tlearn: 0.2973681\ttotal: 154ms\tremaining: 1.23s\n",
      "111:\tlearn: 0.2963588\ttotal: 155ms\tremaining: 1.23s\n",
      "112:\tlearn: 0.2946450\ttotal: 156ms\tremaining: 1.22s\n",
      "113:\tlearn: 0.2931540\ttotal: 157ms\tremaining: 1.22s\n",
      "114:\tlearn: 0.2921376\ttotal: 157ms\tremaining: 1.21s\n",
      "115:\tlearn: 0.2907349\ttotal: 158ms\tremaining: 1.21s\n",
      "116:\tlearn: 0.2894696\ttotal: 159ms\tremaining: 1.2s\n",
      "117:\tlearn: 0.2882981\ttotal: 160ms\tremaining: 1.2s\n",
      "118:\tlearn: 0.2877406\ttotal: 161ms\tremaining: 1.19s\n",
      "119:\tlearn: 0.2867637\ttotal: 162ms\tremaining: 1.18s\n",
      "120:\tlearn: 0.2857839\ttotal: 162ms\tremaining: 1.18s\n",
      "121:\tlearn: 0.2850264\ttotal: 163ms\tremaining: 1.17s\n",
      "122:\tlearn: 0.2837162\ttotal: 164ms\tremaining: 1.17s\n",
      "123:\tlearn: 0.2823100\ttotal: 165ms\tremaining: 1.17s\n",
      "124:\tlearn: 0.2807183\ttotal: 166ms\tremaining: 1.16s\n",
      "125:\tlearn: 0.2793847\ttotal: 167ms\tremaining: 1.16s\n",
      "126:\tlearn: 0.2782599\ttotal: 167ms\tremaining: 1.15s\n",
      "127:\tlearn: 0.2773122\ttotal: 168ms\tremaining: 1.14s\n",
      "128:\tlearn: 0.2762343\ttotal: 169ms\tremaining: 1.14s\n",
      "129:\tlearn: 0.2755869\ttotal: 170ms\tremaining: 1.14s\n",
      "130:\tlearn: 0.2747375\ttotal: 171ms\tremaining: 1.13s\n",
      "131:\tlearn: 0.2740055\ttotal: 172ms\tremaining: 1.13s\n",
      "132:\tlearn: 0.2728686\ttotal: 172ms\tremaining: 1.12s\n",
      "133:\tlearn: 0.2719774\ttotal: 173ms\tremaining: 1.12s\n",
      "134:\tlearn: 0.2715925\ttotal: 174ms\tremaining: 1.11s\n",
      "135:\tlearn: 0.2706506\ttotal: 175ms\tremaining: 1.11s\n",
      "136:\tlearn: 0.2703299\ttotal: 176ms\tremaining: 1.11s\n",
      "137:\tlearn: 0.2691833\ttotal: 176ms\tremaining: 1.1s\n",
      "138:\tlearn: 0.2680759\ttotal: 177ms\tremaining: 1.1s\n",
      "139:\tlearn: 0.2674476\ttotal: 178ms\tremaining: 1.09s\n",
      "140:\tlearn: 0.2665594\ttotal: 179ms\tremaining: 1.09s\n",
      "141:\tlearn: 0.2660455\ttotal: 180ms\tremaining: 1.08s\n",
      "142:\tlearn: 0.2653951\ttotal: 180ms\tremaining: 1.08s\n",
      "143:\tlearn: 0.2647736\ttotal: 181ms\tremaining: 1.08s\n",
      "144:\tlearn: 0.2634910\ttotal: 182ms\tremaining: 1.07s\n",
      "145:\tlearn: 0.2622669\ttotal: 183ms\tremaining: 1.07s\n",
      "146:\tlearn: 0.2611666\ttotal: 184ms\tremaining: 1.07s\n",
      "147:\tlearn: 0.2602820\ttotal: 185ms\tremaining: 1.06s\n",
      "148:\tlearn: 0.2593166\ttotal: 185ms\tremaining: 1.06s\n",
      "149:\tlearn: 0.2587215\ttotal: 186ms\tremaining: 1.05s\n",
      "150:\tlearn: 0.2579788\ttotal: 187ms\tremaining: 1.05s\n",
      "151:\tlearn: 0.2571512\ttotal: 188ms\tremaining: 1.05s\n",
      "152:\tlearn: 0.2565867\ttotal: 189ms\tremaining: 1.04s\n",
      "153:\tlearn: 0.2560868\ttotal: 189ms\tremaining: 1.04s\n",
      "154:\tlearn: 0.2551846\ttotal: 190ms\tremaining: 1.04s\n",
      "155:\tlearn: 0.2544476\ttotal: 191ms\tremaining: 1.03s\n"
     ]
    },
    {
     "name": "stdout",
     "output_type": "stream",
     "text": [
      "156:\tlearn: 0.2534671\ttotal: 192ms\tremaining: 1.03s\n",
      "157:\tlearn: 0.2525585\ttotal: 193ms\tremaining: 1.03s\n",
      "158:\tlearn: 0.2513672\ttotal: 194ms\tremaining: 1.02s\n",
      "159:\tlearn: 0.2507851\ttotal: 194ms\tremaining: 1.02s\n",
      "160:\tlearn: 0.2500312\ttotal: 195ms\tremaining: 1.02s\n",
      "161:\tlearn: 0.2493016\ttotal: 196ms\tremaining: 1.01s\n",
      "162:\tlearn: 0.2486744\ttotal: 197ms\tremaining: 1.01s\n",
      "163:\tlearn: 0.2479586\ttotal: 198ms\tremaining: 1.01s\n",
      "164:\tlearn: 0.2475931\ttotal: 198ms\tremaining: 1s\n",
      "165:\tlearn: 0.2471816\ttotal: 199ms\tremaining: 1s\n",
      "166:\tlearn: 0.2463600\ttotal: 200ms\tremaining: 998ms\n",
      "167:\tlearn: 0.2460450\ttotal: 201ms\tremaining: 995ms\n",
      "168:\tlearn: 0.2458554\ttotal: 201ms\tremaining: 989ms\n",
      "169:\tlearn: 0.2450342\ttotal: 202ms\tremaining: 986ms\n",
      "170:\tlearn: 0.2442281\ttotal: 203ms\tremaining: 983ms\n",
      "171:\tlearn: 0.2433880\ttotal: 204ms\tremaining: 980ms\n",
      "172:\tlearn: 0.2424542\ttotal: 205ms\tremaining: 978ms\n",
      "173:\tlearn: 0.2415748\ttotal: 205ms\tremaining: 975ms\n",
      "174:\tlearn: 0.2407824\ttotal: 206ms\tremaining: 973ms\n",
      "175:\tlearn: 0.2400283\ttotal: 207ms\tremaining: 969ms\n",
      "176:\tlearn: 0.2393829\ttotal: 208ms\tremaining: 967ms\n",
      "177:\tlearn: 0.2386461\ttotal: 209ms\tremaining: 964ms\n",
      "178:\tlearn: 0.2380391\ttotal: 210ms\tremaining: 961ms\n",
      "179:\tlearn: 0.2376691\ttotal: 210ms\tremaining: 958ms\n",
      "180:\tlearn: 0.2369479\ttotal: 211ms\tremaining: 955ms\n",
      "181:\tlearn: 0.2365610\ttotal: 212ms\tremaining: 953ms\n",
      "182:\tlearn: 0.2359286\ttotal: 213ms\tremaining: 951ms\n",
      "183:\tlearn: 0.2349222\ttotal: 214ms\tremaining: 948ms\n",
      "184:\tlearn: 0.2339865\ttotal: 215ms\tremaining: 945ms\n",
      "185:\tlearn: 0.2333682\ttotal: 215ms\tremaining: 942ms\n",
      "186:\tlearn: 0.2324915\ttotal: 216ms\tremaining: 939ms\n",
      "187:\tlearn: 0.2317264\ttotal: 217ms\tremaining: 937ms\n",
      "188:\tlearn: 0.2313760\ttotal: 218ms\tremaining: 934ms\n",
      "189:\tlearn: 0.2306277\ttotal: 218ms\tremaining: 931ms\n",
      "190:\tlearn: 0.2299381\ttotal: 219ms\tremaining: 929ms\n",
      "191:\tlearn: 0.2291355\ttotal: 220ms\tremaining: 927ms\n",
      "192:\tlearn: 0.2283066\ttotal: 222ms\tremaining: 927ms\n",
      "193:\tlearn: 0.2276151\ttotal: 223ms\tremaining: 924ms\n",
      "194:\tlearn: 0.2269099\ttotal: 223ms\tremaining: 922ms\n",
      "195:\tlearn: 0.2264231\ttotal: 224ms\tremaining: 920ms\n",
      "196:\tlearn: 0.2261653\ttotal: 225ms\tremaining: 918ms\n",
      "197:\tlearn: 0.2255760\ttotal: 226ms\tremaining: 915ms\n",
      "198:\tlearn: 0.2248216\ttotal: 227ms\tremaining: 913ms\n",
      "199:\tlearn: 0.2243415\ttotal: 228ms\tremaining: 910ms\n",
      "200:\tlearn: 0.2237588\ttotal: 229ms\tremaining: 908ms\n",
      "201:\tlearn: 0.2231776\ttotal: 229ms\tremaining: 906ms\n",
      "202:\tlearn: 0.2226013\ttotal: 230ms\tremaining: 903ms\n",
      "203:\tlearn: 0.2221121\ttotal: 231ms\tremaining: 901ms\n",
      "204:\tlearn: 0.2214854\ttotal: 232ms\tremaining: 899ms\n",
      "205:\tlearn: 0.2210451\ttotal: 233ms\tremaining: 897ms\n",
      "206:\tlearn: 0.2206412\ttotal: 234ms\tremaining: 895ms\n",
      "207:\tlearn: 0.2201823\ttotal: 234ms\tremaining: 892ms\n",
      "208:\tlearn: 0.2197204\ttotal: 235ms\tremaining: 890ms\n",
      "209:\tlearn: 0.2192284\ttotal: 236ms\tremaining: 887ms\n",
      "210:\tlearn: 0.2187353\ttotal: 237ms\tremaining: 885ms\n",
      "211:\tlearn: 0.2181798\ttotal: 237ms\tremaining: 882ms\n",
      "212:\tlearn: 0.2176504\ttotal: 238ms\tremaining: 880ms\n",
      "213:\tlearn: 0.2173111\ttotal: 239ms\tremaining: 878ms\n",
      "214:\tlearn: 0.2168350\ttotal: 240ms\tremaining: 876ms\n",
      "215:\tlearn: 0.2164122\ttotal: 241ms\tremaining: 874ms\n",
      "216:\tlearn: 0.2161886\ttotal: 241ms\tremaining: 871ms\n",
      "217:\tlearn: 0.2158576\ttotal: 242ms\tremaining: 869ms\n",
      "218:\tlearn: 0.2150356\ttotal: 243ms\tremaining: 867ms\n",
      "219:\tlearn: 0.2148690\ttotal: 244ms\tremaining: 864ms\n",
      "220:\tlearn: 0.2142395\ttotal: 244ms\tremaining: 862ms\n",
      "221:\tlearn: 0.2136795\ttotal: 245ms\tremaining: 859ms\n",
      "222:\tlearn: 0.2133463\ttotal: 246ms\tremaining: 857ms\n",
      "223:\tlearn: 0.2129236\ttotal: 247ms\tremaining: 855ms\n",
      "224:\tlearn: 0.2123279\ttotal: 247ms\tremaining: 852ms\n",
      "225:\tlearn: 0.2117432\ttotal: 248ms\tremaining: 850ms\n",
      "226:\tlearn: 0.2113809\ttotal: 249ms\tremaining: 848ms\n",
      "227:\tlearn: 0.2111186\ttotal: 250ms\tremaining: 846ms\n",
      "228:\tlearn: 0.2105033\ttotal: 251ms\tremaining: 844ms\n",
      "229:\tlearn: 0.2101231\ttotal: 252ms\tremaining: 842ms\n",
      "230:\tlearn: 0.2094706\ttotal: 252ms\tremaining: 840ms\n",
      "231:\tlearn: 0.2090801\ttotal: 253ms\tremaining: 839ms\n",
      "232:\tlearn: 0.2084955\ttotal: 254ms\tremaining: 836ms\n",
      "233:\tlearn: 0.2081745\ttotal: 255ms\tremaining: 835ms\n",
      "234:\tlearn: 0.2078465\ttotal: 256ms\tremaining: 833ms\n",
      "235:\tlearn: 0.2074811\ttotal: 257ms\tremaining: 830ms\n",
      "236:\tlearn: 0.2067445\ttotal: 257ms\tremaining: 828ms\n",
      "237:\tlearn: 0.2060400\ttotal: 258ms\tremaining: 826ms\n",
      "238:\tlearn: 0.2056593\ttotal: 259ms\tremaining: 825ms\n",
      "239:\tlearn: 0.2049468\ttotal: 260ms\tremaining: 822ms\n",
      "240:\tlearn: 0.2043088\ttotal: 261ms\tremaining: 821ms\n",
      "241:\tlearn: 0.2037516\ttotal: 261ms\tremaining: 819ms\n",
      "242:\tlearn: 0.2035180\ttotal: 262ms\tremaining: 817ms\n",
      "243:\tlearn: 0.2029128\ttotal: 263ms\tremaining: 815ms\n",
      "244:\tlearn: 0.2024541\ttotal: 264ms\tremaining: 814ms\n",
      "245:\tlearn: 0.2021838\ttotal: 265ms\tremaining: 812ms\n",
      "246:\tlearn: 0.2019215\ttotal: 266ms\tremaining: 810ms\n",
      "247:\tlearn: 0.2013415\ttotal: 267ms\tremaining: 809ms\n",
      "248:\tlearn: 0.2006707\ttotal: 268ms\tremaining: 807ms\n",
      "249:\tlearn: 0.1999463\ttotal: 268ms\tremaining: 805ms\n",
      "250:\tlearn: 0.1995126\ttotal: 269ms\tremaining: 803ms\n",
      "251:\tlearn: 0.1993392\ttotal: 270ms\tremaining: 802ms\n",
      "252:\tlearn: 0.1991507\ttotal: 271ms\tremaining: 800ms\n",
      "253:\tlearn: 0.1987000\ttotal: 272ms\tremaining: 798ms\n",
      "254:\tlearn: 0.1985167\ttotal: 272ms\tremaining: 796ms\n",
      "255:\tlearn: 0.1981002\ttotal: 273ms\tremaining: 794ms\n",
      "256:\tlearn: 0.1975164\ttotal: 274ms\tremaining: 792ms\n",
      "257:\tlearn: 0.1972765\ttotal: 275ms\tremaining: 791ms\n",
      "258:\tlearn: 0.1967667\ttotal: 276ms\tremaining: 789ms\n",
      "259:\tlearn: 0.1961320\ttotal: 277ms\tremaining: 787ms\n",
      "260:\tlearn: 0.1957325\ttotal: 277ms\tremaining: 786ms\n",
      "261:\tlearn: 0.1950940\ttotal: 278ms\tremaining: 784ms\n",
      "262:\tlearn: 0.1946707\ttotal: 279ms\tremaining: 782ms\n",
      "263:\tlearn: 0.1940047\ttotal: 280ms\tremaining: 780ms\n",
      "264:\tlearn: 0.1936830\ttotal: 281ms\tremaining: 779ms\n",
      "265:\tlearn: 0.1934973\ttotal: 282ms\tremaining: 779ms\n",
      "266:\tlearn: 0.1932183\ttotal: 283ms\tremaining: 777ms\n",
      "267:\tlearn: 0.1927258\ttotal: 284ms\tremaining: 775ms\n",
      "268:\tlearn: 0.1925349\ttotal: 284ms\tremaining: 773ms\n",
      "269:\tlearn: 0.1922692\ttotal: 285ms\tremaining: 771ms\n",
      "270:\tlearn: 0.1916897\ttotal: 286ms\tremaining: 769ms\n",
      "271:\tlearn: 0.1911427\ttotal: 287ms\tremaining: 768ms\n",
      "272:\tlearn: 0.1909543\ttotal: 288ms\tremaining: 766ms\n",
      "273:\tlearn: 0.1905374\ttotal: 289ms\tremaining: 765ms\n",
      "274:\tlearn: 0.1902111\ttotal: 290ms\tremaining: 764ms\n",
      "275:\tlearn: 0.1895627\ttotal: 291ms\tremaining: 762ms\n",
      "276:\tlearn: 0.1893659\ttotal: 292ms\tremaining: 761ms\n",
      "277:\tlearn: 0.1886976\ttotal: 292ms\tremaining: 760ms\n",
      "278:\tlearn: 0.1883278\ttotal: 293ms\tremaining: 758ms\n",
      "279:\tlearn: 0.1877737\ttotal: 294ms\tremaining: 757ms\n",
      "280:\tlearn: 0.1874285\ttotal: 295ms\tremaining: 755ms\n",
      "281:\tlearn: 0.1869443\ttotal: 296ms\tremaining: 753ms\n",
      "282:\tlearn: 0.1865898\ttotal: 297ms\tremaining: 752ms\n"
     ]
    },
    {
     "name": "stdout",
     "output_type": "stream",
     "text": [
      "283:\tlearn: 0.1860620\ttotal: 298ms\tremaining: 750ms\n",
      "284:\tlearn: 0.1858801\ttotal: 299ms\tremaining: 749ms\n",
      "285:\tlearn: 0.1851595\ttotal: 299ms\tremaining: 747ms\n",
      "286:\tlearn: 0.1847370\ttotal: 300ms\tremaining: 746ms\n",
      "287:\tlearn: 0.1841829\ttotal: 301ms\tremaining: 744ms\n",
      "288:\tlearn: 0.1834377\ttotal: 302ms\tremaining: 743ms\n",
      "289:\tlearn: 0.1829654\ttotal: 303ms\tremaining: 741ms\n",
      "290:\tlearn: 0.1827284\ttotal: 304ms\tremaining: 739ms\n",
      "291:\tlearn: 0.1822324\ttotal: 304ms\tremaining: 738ms\n",
      "292:\tlearn: 0.1820902\ttotal: 305ms\tremaining: 737ms\n",
      "293:\tlearn: 0.1814969\ttotal: 306ms\tremaining: 735ms\n",
      "294:\tlearn: 0.1808909\ttotal: 307ms\tremaining: 733ms\n",
      "295:\tlearn: 0.1804813\ttotal: 308ms\tremaining: 732ms\n",
      "296:\tlearn: 0.1800876\ttotal: 309ms\tremaining: 731ms\n",
      "297:\tlearn: 0.1794470\ttotal: 310ms\tremaining: 729ms\n",
      "298:\tlearn: 0.1791864\ttotal: 310ms\tremaining: 728ms\n",
      "299:\tlearn: 0.1788313\ttotal: 311ms\tremaining: 726ms\n",
      "300:\tlearn: 0.1783330\ttotal: 312ms\tremaining: 725ms\n",
      "301:\tlearn: 0.1780214\ttotal: 313ms\tremaining: 723ms\n",
      "302:\tlearn: 0.1774728\ttotal: 314ms\tremaining: 722ms\n",
      "303:\tlearn: 0.1773677\ttotal: 315ms\tremaining: 720ms\n",
      "304:\tlearn: 0.1767655\ttotal: 315ms\tremaining: 718ms\n",
      "305:\tlearn: 0.1764446\ttotal: 316ms\tremaining: 717ms\n",
      "306:\tlearn: 0.1759720\ttotal: 317ms\tremaining: 716ms\n",
      "307:\tlearn: 0.1755157\ttotal: 318ms\tremaining: 714ms\n",
      "308:\tlearn: 0.1748476\ttotal: 319ms\tremaining: 713ms\n",
      "309:\tlearn: 0.1743848\ttotal: 320ms\tremaining: 711ms\n",
      "310:\tlearn: 0.1740855\ttotal: 320ms\tremaining: 710ms\n",
      "311:\tlearn: 0.1739175\ttotal: 321ms\tremaining: 708ms\n",
      "312:\tlearn: 0.1733143\ttotal: 322ms\tremaining: 707ms\n",
      "313:\tlearn: 0.1727962\ttotal: 323ms\tremaining: 705ms\n",
      "314:\tlearn: 0.1722536\ttotal: 324ms\tremaining: 704ms\n",
      "315:\tlearn: 0.1718827\ttotal: 324ms\tremaining: 702ms\n",
      "316:\tlearn: 0.1712926\ttotal: 325ms\tremaining: 701ms\n",
      "317:\tlearn: 0.1712091\ttotal: 326ms\tremaining: 700ms\n",
      "318:\tlearn: 0.1707614\ttotal: 327ms\tremaining: 698ms\n",
      "319:\tlearn: 0.1703417\ttotal: 328ms\tremaining: 697ms\n",
      "320:\tlearn: 0.1700571\ttotal: 329ms\tremaining: 695ms\n",
      "321:\tlearn: 0.1696007\ttotal: 330ms\tremaining: 694ms\n",
      "322:\tlearn: 0.1695057\ttotal: 330ms\tremaining: 692ms\n",
      "323:\tlearn: 0.1690956\ttotal: 331ms\tremaining: 691ms\n",
      "324:\tlearn: 0.1687586\ttotal: 332ms\tremaining: 689ms\n",
      "325:\tlearn: 0.1684516\ttotal: 333ms\tremaining: 688ms\n",
      "326:\tlearn: 0.1680151\ttotal: 334ms\tremaining: 686ms\n",
      "327:\tlearn: 0.1676957\ttotal: 334ms\tremaining: 685ms\n",
      "328:\tlearn: 0.1671596\ttotal: 335ms\tremaining: 683ms\n",
      "329:\tlearn: 0.1667576\ttotal: 336ms\tremaining: 682ms\n",
      "330:\tlearn: 0.1666534\ttotal: 337ms\tremaining: 681ms\n",
      "331:\tlearn: 0.1661384\ttotal: 338ms\tremaining: 679ms\n",
      "332:\tlearn: 0.1659233\ttotal: 338ms\tremaining: 678ms\n",
      "333:\tlearn: 0.1656512\ttotal: 339ms\tremaining: 677ms\n",
      "334:\tlearn: 0.1652534\ttotal: 340ms\tremaining: 675ms\n",
      "335:\tlearn: 0.1648582\ttotal: 341ms\tremaining: 674ms\n",
      "336:\tlearn: 0.1645488\ttotal: 342ms\tremaining: 672ms\n",
      "337:\tlearn: 0.1642572\ttotal: 343ms\tremaining: 671ms\n",
      "338:\tlearn: 0.1641347\ttotal: 343ms\tremaining: 669ms\n",
      "339:\tlearn: 0.1637000\ttotal: 344ms\tremaining: 668ms\n",
      "340:\tlearn: 0.1631768\ttotal: 345ms\tremaining: 667ms\n",
      "341:\tlearn: 0.1625712\ttotal: 346ms\tremaining: 666ms\n",
      "342:\tlearn: 0.1624641\ttotal: 347ms\tremaining: 664ms\n",
      "343:\tlearn: 0.1623518\ttotal: 348ms\tremaining: 663ms\n",
      "344:\tlearn: 0.1622535\ttotal: 349ms\tremaining: 662ms\n",
      "345:\tlearn: 0.1621577\ttotal: 349ms\tremaining: 660ms\n",
      "346:\tlearn: 0.1618836\ttotal: 350ms\tremaining: 659ms\n",
      "347:\tlearn: 0.1613696\ttotal: 351ms\tremaining: 658ms\n",
      "348:\tlearn: 0.1613085\ttotal: 352ms\tremaining: 656ms\n",
      "349:\tlearn: 0.1609911\ttotal: 353ms\tremaining: 655ms\n",
      "350:\tlearn: 0.1606243\ttotal: 354ms\tremaining: 654ms\n",
      "351:\tlearn: 0.1602613\ttotal: 354ms\tremaining: 652ms\n",
      "352:\tlearn: 0.1602009\ttotal: 355ms\tremaining: 651ms\n",
      "353:\tlearn: 0.1601226\ttotal: 356ms\tremaining: 650ms\n",
      "354:\tlearn: 0.1594843\ttotal: 357ms\tremaining: 648ms\n",
      "355:\tlearn: 0.1590748\ttotal: 358ms\tremaining: 647ms\n",
      "356:\tlearn: 0.1589142\ttotal: 358ms\tremaining: 646ms\n",
      "357:\tlearn: 0.1586379\ttotal: 359ms\tremaining: 644ms\n",
      "358:\tlearn: 0.1582234\ttotal: 360ms\tremaining: 643ms\n",
      "359:\tlearn: 0.1577941\ttotal: 361ms\tremaining: 642ms\n",
      "360:\tlearn: 0.1575486\ttotal: 362ms\tremaining: 640ms\n",
      "361:\tlearn: 0.1574500\ttotal: 363ms\tremaining: 639ms\n",
      "362:\tlearn: 0.1571069\ttotal: 363ms\tremaining: 638ms\n",
      "363:\tlearn: 0.1567270\ttotal: 364ms\tremaining: 636ms\n",
      "364:\tlearn: 0.1562271\ttotal: 365ms\tremaining: 635ms\n",
      "365:\tlearn: 0.1561346\ttotal: 366ms\tremaining: 634ms\n",
      "366:\tlearn: 0.1557909\ttotal: 367ms\tremaining: 632ms\n",
      "367:\tlearn: 0.1556958\ttotal: 367ms\tremaining: 631ms\n",
      "368:\tlearn: 0.1554519\ttotal: 368ms\tremaining: 630ms\n",
      "369:\tlearn: 0.1553765\ttotal: 369ms\tremaining: 628ms\n",
      "370:\tlearn: 0.1547370\ttotal: 370ms\tremaining: 627ms\n",
      "371:\tlearn: 0.1542782\ttotal: 371ms\tremaining: 626ms\n",
      "372:\tlearn: 0.1538622\ttotal: 371ms\tremaining: 624ms\n",
      "373:\tlearn: 0.1537962\ttotal: 372ms\tremaining: 623ms\n",
      "374:\tlearn: 0.1537383\ttotal: 373ms\tremaining: 622ms\n",
      "375:\tlearn: 0.1533164\ttotal: 374ms\tremaining: 620ms\n",
      "376:\tlearn: 0.1528205\ttotal: 375ms\tremaining: 619ms\n",
      "377:\tlearn: 0.1522891\ttotal: 375ms\tremaining: 618ms\n",
      "378:\tlearn: 0.1519927\ttotal: 376ms\tremaining: 617ms\n",
      "379:\tlearn: 0.1518098\ttotal: 377ms\tremaining: 616ms\n",
      "380:\tlearn: 0.1512643\ttotal: 378ms\tremaining: 614ms\n",
      "381:\tlearn: 0.1507401\ttotal: 379ms\tremaining: 613ms\n",
      "382:\tlearn: 0.1503088\ttotal: 380ms\tremaining: 611ms\n",
      "383:\tlearn: 0.1501719\ttotal: 380ms\tremaining: 610ms\n",
      "384:\tlearn: 0.1500018\ttotal: 381ms\tremaining: 609ms\n"
     ]
    },
    {
     "name": "stdout",
     "output_type": "stream",
     "text": [
      "385:\tlearn: 0.1498803\ttotal: 382ms\tremaining: 608ms\n",
      "386:\tlearn: 0.1498241\ttotal: 383ms\tremaining: 607ms\n",
      "387:\tlearn: 0.1496485\ttotal: 384ms\tremaining: 605ms\n",
      "388:\tlearn: 0.1491455\ttotal: 385ms\tremaining: 604ms\n",
      "389:\tlearn: 0.1487087\ttotal: 386ms\tremaining: 603ms\n",
      "390:\tlearn: 0.1486197\ttotal: 386ms\tremaining: 602ms\n",
      "391:\tlearn: 0.1481797\ttotal: 387ms\tremaining: 600ms\n",
      "392:\tlearn: 0.1477731\ttotal: 388ms\tremaining: 599ms\n",
      "393:\tlearn: 0.1472853\ttotal: 389ms\tremaining: 598ms\n",
      "394:\tlearn: 0.1470456\ttotal: 390ms\tremaining: 597ms\n",
      "395:\tlearn: 0.1467626\ttotal: 390ms\tremaining: 595ms\n",
      "396:\tlearn: 0.1462469\ttotal: 391ms\tremaining: 594ms\n",
      "397:\tlearn: 0.1461439\ttotal: 392ms\tremaining: 593ms\n",
      "398:\tlearn: 0.1456603\ttotal: 393ms\tremaining: 592ms\n",
      "399:\tlearn: 0.1452672\ttotal: 394ms\tremaining: 591ms\n",
      "400:\tlearn: 0.1451700\ttotal: 395ms\tremaining: 589ms\n",
      "401:\tlearn: 0.1450208\ttotal: 395ms\tremaining: 588ms\n",
      "402:\tlearn: 0.1449563\ttotal: 396ms\tremaining: 587ms\n",
      "403:\tlearn: 0.1447315\ttotal: 397ms\tremaining: 586ms\n",
      "404:\tlearn: 0.1446008\ttotal: 398ms\tremaining: 585ms\n",
      "405:\tlearn: 0.1442070\ttotal: 399ms\tremaining: 583ms\n",
      "406:\tlearn: 0.1438625\ttotal: 400ms\tremaining: 582ms\n",
      "407:\tlearn: 0.1437965\ttotal: 400ms\tremaining: 581ms\n",
      "408:\tlearn: 0.1437146\ttotal: 401ms\tremaining: 580ms\n",
      "409:\tlearn: 0.1436630\ttotal: 402ms\tremaining: 578ms\n",
      "410:\tlearn: 0.1435848\ttotal: 403ms\tremaining: 577ms\n",
      "411:\tlearn: 0.1433024\ttotal: 404ms\tremaining: 576ms\n",
      "412:\tlearn: 0.1430406\ttotal: 405ms\tremaining: 575ms\n",
      "413:\tlearn: 0.1429173\ttotal: 405ms\tremaining: 574ms\n",
      "414:\tlearn: 0.1425885\ttotal: 406ms\tremaining: 573ms\n",
      "415:\tlearn: 0.1425287\ttotal: 407ms\tremaining: 572ms\n",
      "416:\tlearn: 0.1424674\ttotal: 408ms\tremaining: 571ms\n",
      "417:\tlearn: 0.1422633\ttotal: 409ms\tremaining: 570ms\n",
      "418:\tlearn: 0.1422199\ttotal: 410ms\tremaining: 568ms\n",
      "419:\tlearn: 0.1420155\ttotal: 411ms\tremaining: 567ms\n",
      "420:\tlearn: 0.1419508\ttotal: 411ms\tremaining: 566ms\n",
      "421:\tlearn: 0.1416442\ttotal: 412ms\tremaining: 564ms\n",
      "422:\tlearn: 0.1413687\ttotal: 413ms\tremaining: 563ms\n",
      "423:\tlearn: 0.1411082\ttotal: 414ms\tremaining: 562ms\n",
      "424:\tlearn: 0.1408862\ttotal: 414ms\tremaining: 561ms\n",
      "425:\tlearn: 0.1408316\ttotal: 415ms\tremaining: 559ms\n",
      "426:\tlearn: 0.1407148\ttotal: 416ms\tremaining: 558ms\n",
      "427:\tlearn: 0.1402407\ttotal: 417ms\tremaining: 557ms\n",
      "428:\tlearn: 0.1401186\ttotal: 418ms\tremaining: 556ms\n",
      "429:\tlearn: 0.1400686\ttotal: 419ms\tremaining: 555ms\n",
      "430:\tlearn: 0.1400258\ttotal: 419ms\tremaining: 554ms\n",
      "431:\tlearn: 0.1395820\ttotal: 420ms\tremaining: 552ms\n",
      "432:\tlearn: 0.1395220\ttotal: 421ms\tremaining: 551ms\n",
      "433:\tlearn: 0.1392213\ttotal: 422ms\tremaining: 550ms\n",
      "434:\tlearn: 0.1389854\ttotal: 423ms\tremaining: 549ms\n",
      "435:\tlearn: 0.1386974\ttotal: 424ms\tremaining: 548ms\n",
      "436:\tlearn: 0.1384623\ttotal: 424ms\tremaining: 547ms\n",
      "437:\tlearn: 0.1382150\ttotal: 426ms\tremaining: 546ms\n",
      "438:\tlearn: 0.1379446\ttotal: 427ms\tremaining: 545ms\n",
      "439:\tlearn: 0.1379023\ttotal: 428ms\tremaining: 544ms\n",
      "440:\tlearn: 0.1376107\ttotal: 428ms\tremaining: 543ms\n",
      "441:\tlearn: 0.1374498\ttotal: 429ms\tremaining: 542ms\n",
      "442:\tlearn: 0.1370727\ttotal: 430ms\tremaining: 541ms\n",
      "443:\tlearn: 0.1368417\ttotal: 431ms\tremaining: 539ms\n",
      "444:\tlearn: 0.1367976\ttotal: 432ms\tremaining: 538ms\n",
      "445:\tlearn: 0.1365470\ttotal: 432ms\tremaining: 537ms\n",
      "446:\tlearn: 0.1364991\ttotal: 433ms\tremaining: 536ms\n",
      "447:\tlearn: 0.1361783\ttotal: 434ms\tremaining: 535ms\n",
      "448:\tlearn: 0.1360495\ttotal: 435ms\tremaining: 534ms\n",
      "449:\tlearn: 0.1356517\ttotal: 436ms\tremaining: 532ms\n",
      "450:\tlearn: 0.1353821\ttotal: 436ms\tremaining: 531ms\n",
      "451:\tlearn: 0.1350808\ttotal: 437ms\tremaining: 530ms\n",
      "452:\tlearn: 0.1346142\ttotal: 438ms\tremaining: 529ms\n",
      "453:\tlearn: 0.1345818\ttotal: 440ms\tremaining: 529ms\n",
      "454:\tlearn: 0.1345316\ttotal: 441ms\tremaining: 528ms\n",
      "455:\tlearn: 0.1342891\ttotal: 441ms\tremaining: 526ms\n",
      "456:\tlearn: 0.1340749\ttotal: 442ms\tremaining: 525ms\n",
      "457:\tlearn: 0.1337417\ttotal: 444ms\tremaining: 525ms\n",
      "458:\tlearn: 0.1335097\ttotal: 444ms\tremaining: 524ms\n",
      "459:\tlearn: 0.1331711\ttotal: 445ms\tremaining: 523ms\n",
      "460:\tlearn: 0.1328558\ttotal: 446ms\tremaining: 522ms\n",
      "461:\tlearn: 0.1326357\ttotal: 447ms\tremaining: 520ms\n",
      "462:\tlearn: 0.1324150\ttotal: 448ms\tremaining: 519ms\n",
      "463:\tlearn: 0.1321980\ttotal: 449ms\tremaining: 518ms\n",
      "464:\tlearn: 0.1318951\ttotal: 449ms\tremaining: 517ms\n",
      "465:\tlearn: 0.1315839\ttotal: 450ms\tremaining: 516ms\n",
      "466:\tlearn: 0.1315268\ttotal: 451ms\tremaining: 515ms\n",
      "467:\tlearn: 0.1311738\ttotal: 452ms\tremaining: 514ms\n",
      "468:\tlearn: 0.1310833\ttotal: 453ms\tremaining: 513ms\n",
      "469:\tlearn: 0.1309638\ttotal: 454ms\tremaining: 511ms\n",
      "470:\tlearn: 0.1306228\ttotal: 454ms\tremaining: 510ms\n",
      "471:\tlearn: 0.1304800\ttotal: 455ms\tremaining: 509ms\n",
      "472:\tlearn: 0.1302942\ttotal: 456ms\tremaining: 508ms\n",
      "473:\tlearn: 0.1300518\ttotal: 457ms\tremaining: 507ms\n",
      "474:\tlearn: 0.1295914\ttotal: 458ms\tremaining: 506ms\n",
      "475:\tlearn: 0.1291792\ttotal: 459ms\tremaining: 505ms\n",
      "476:\tlearn: 0.1288388\ttotal: 459ms\tremaining: 504ms\n",
      "477:\tlearn: 0.1287806\ttotal: 460ms\tremaining: 503ms\n",
      "478:\tlearn: 0.1285120\ttotal: 461ms\tremaining: 501ms\n",
      "479:\tlearn: 0.1280907\ttotal: 462ms\tremaining: 500ms\n",
      "480:\tlearn: 0.1278387\ttotal: 463ms\tremaining: 499ms\n",
      "481:\tlearn: 0.1276430\ttotal: 464ms\tremaining: 498ms\n",
      "482:\tlearn: 0.1275763\ttotal: 464ms\tremaining: 497ms\n",
      "483:\tlearn: 0.1272708\ttotal: 465ms\tremaining: 496ms\n",
      "484:\tlearn: 0.1269857\ttotal: 466ms\tremaining: 495ms\n",
      "485:\tlearn: 0.1267933\ttotal: 467ms\tremaining: 494ms\n",
      "486:\tlearn: 0.1265018\ttotal: 468ms\tremaining: 493ms\n",
      "487:\tlearn: 0.1262569\ttotal: 468ms\tremaining: 491ms\n",
      "488:\tlearn: 0.1260735\ttotal: 469ms\tremaining: 490ms\n",
      "489:\tlearn: 0.1258444\ttotal: 470ms\tremaining: 489ms\n",
      "490:\tlearn: 0.1257467\ttotal: 471ms\tremaining: 488ms\n",
      "491:\tlearn: 0.1254249\ttotal: 472ms\tremaining: 487ms\n",
      "492:\tlearn: 0.1252032\ttotal: 472ms\tremaining: 486ms\n",
      "493:\tlearn: 0.1249867\ttotal: 473ms\tremaining: 485ms\n",
      "494:\tlearn: 0.1246789\ttotal: 474ms\tremaining: 483ms\n",
      "495:\tlearn: 0.1245018\ttotal: 475ms\tremaining: 482ms\n",
      "496:\tlearn: 0.1242262\ttotal: 475ms\tremaining: 481ms\n",
      "497:\tlearn: 0.1238889\ttotal: 476ms\tremaining: 480ms\n",
      "498:\tlearn: 0.1237543\ttotal: 477ms\tremaining: 479ms\n",
      "499:\tlearn: 0.1234060\ttotal: 478ms\tremaining: 478ms\n",
      "500:\tlearn: 0.1231970\ttotal: 479ms\tremaining: 477ms\n",
      "501:\tlearn: 0.1231619\ttotal: 480ms\tremaining: 476ms\n",
      "502:\tlearn: 0.1230707\ttotal: 480ms\tremaining: 475ms\n",
      "503:\tlearn: 0.1226819\ttotal: 481ms\tremaining: 474ms\n",
      "504:\tlearn: 0.1223494\ttotal: 482ms\tremaining: 473ms\n",
      "505:\tlearn: 0.1222075\ttotal: 483ms\tremaining: 471ms\n",
      "506:\tlearn: 0.1221873\ttotal: 484ms\tremaining: 470ms\n",
      "507:\tlearn: 0.1219074\ttotal: 485ms\tremaining: 469ms\n",
      "508:\tlearn: 0.1215295\ttotal: 485ms\tremaining: 468ms\n",
      "509:\tlearn: 0.1212386\ttotal: 486ms\tremaining: 467ms\n",
      "510:\tlearn: 0.1211887\ttotal: 487ms\tremaining: 466ms\n"
     ]
    },
    {
     "name": "stdout",
     "output_type": "stream",
     "text": [
      "511:\tlearn: 0.1208940\ttotal: 488ms\tremaining: 465ms\n",
      "512:\tlearn: 0.1205479\ttotal: 489ms\tremaining: 464ms\n",
      "513:\tlearn: 0.1203361\ttotal: 490ms\tremaining: 463ms\n",
      "514:\tlearn: 0.1199657\ttotal: 491ms\tremaining: 462ms\n",
      "515:\tlearn: 0.1197038\ttotal: 492ms\tremaining: 461ms\n",
      "516:\tlearn: 0.1195319\ttotal: 493ms\tremaining: 460ms\n",
      "517:\tlearn: 0.1191596\ttotal: 494ms\tremaining: 459ms\n",
      "518:\tlearn: 0.1188415\ttotal: 494ms\tremaining: 458ms\n",
      "519:\tlearn: 0.1185504\ttotal: 495ms\tremaining: 457ms\n",
      "520:\tlearn: 0.1183010\ttotal: 496ms\tremaining: 456ms\n",
      "521:\tlearn: 0.1180098\ttotal: 497ms\tremaining: 455ms\n",
      "522:\tlearn: 0.1177659\ttotal: 498ms\tremaining: 454ms\n",
      "523:\tlearn: 0.1176170\ttotal: 498ms\tremaining: 453ms\n",
      "524:\tlearn: 0.1173445\ttotal: 499ms\tremaining: 452ms\n",
      "525:\tlearn: 0.1172908\ttotal: 500ms\tremaining: 451ms\n",
      "526:\tlearn: 0.1169768\ttotal: 501ms\tremaining: 450ms\n",
      "527:\tlearn: 0.1167508\ttotal: 502ms\tremaining: 448ms\n",
      "528:\tlearn: 0.1164960\ttotal: 502ms\tremaining: 447ms\n",
      "529:\tlearn: 0.1162466\ttotal: 503ms\tremaining: 446ms\n",
      "530:\tlearn: 0.1160323\ttotal: 504ms\tremaining: 445ms\n",
      "531:\tlearn: 0.1157667\ttotal: 505ms\tremaining: 444ms\n",
      "532:\tlearn: 0.1155401\ttotal: 506ms\tremaining: 443ms\n",
      "533:\tlearn: 0.1152936\ttotal: 507ms\tremaining: 442ms\n",
      "534:\tlearn: 0.1151493\ttotal: 508ms\tremaining: 441ms\n",
      "535:\tlearn: 0.1149155\ttotal: 508ms\tremaining: 440ms\n",
      "536:\tlearn: 0.1146388\ttotal: 509ms\tremaining: 439ms\n",
      "537:\tlearn: 0.1144627\ttotal: 510ms\tremaining: 438ms\n",
      "538:\tlearn: 0.1142433\ttotal: 511ms\tremaining: 437ms\n",
      "539:\tlearn: 0.1139791\ttotal: 512ms\tremaining: 436ms\n",
      "540:\tlearn: 0.1137628\ttotal: 513ms\tremaining: 435ms\n",
      "541:\tlearn: 0.1136138\ttotal: 513ms\tremaining: 434ms\n",
      "542:\tlearn: 0.1134583\ttotal: 514ms\tremaining: 433ms\n",
      "543:\tlearn: 0.1131858\ttotal: 515ms\tremaining: 432ms\n",
      "544:\tlearn: 0.1130796\ttotal: 516ms\tremaining: 431ms\n",
      "545:\tlearn: 0.1128178\ttotal: 517ms\tremaining: 430ms\n",
      "546:\tlearn: 0.1126863\ttotal: 517ms\tremaining: 428ms\n",
      "547:\tlearn: 0.1125972\ttotal: 518ms\tremaining: 427ms\n",
      "548:\tlearn: 0.1125671\ttotal: 519ms\tremaining: 426ms\n",
      "549:\tlearn: 0.1123135\ttotal: 520ms\tremaining: 425ms\n",
      "550:\tlearn: 0.1122255\ttotal: 520ms\tremaining: 424ms\n",
      "551:\tlearn: 0.1118426\ttotal: 521ms\tremaining: 423ms\n",
      "552:\tlearn: 0.1115288\ttotal: 522ms\tremaining: 422ms\n",
      "553:\tlearn: 0.1115048\ttotal: 523ms\tremaining: 421ms\n",
      "554:\tlearn: 0.1112016\ttotal: 523ms\tremaining: 420ms\n",
      "555:\tlearn: 0.1110527\ttotal: 524ms\tremaining: 419ms\n",
      "556:\tlearn: 0.1108408\ttotal: 525ms\tremaining: 418ms\n",
      "557:\tlearn: 0.1105889\ttotal: 526ms\tremaining: 417ms\n",
      "558:\tlearn: 0.1105226\ttotal: 527ms\tremaining: 416ms\n",
      "559:\tlearn: 0.1102390\ttotal: 528ms\tremaining: 415ms\n",
      "560:\tlearn: 0.1102091\ttotal: 529ms\tremaining: 414ms\n",
      "561:\tlearn: 0.1100015\ttotal: 530ms\tremaining: 413ms\n",
      "562:\tlearn: 0.1098133\ttotal: 531ms\tremaining: 412ms\n",
      "563:\tlearn: 0.1095679\ttotal: 531ms\tremaining: 411ms\n",
      "564:\tlearn: 0.1092738\ttotal: 532ms\tremaining: 410ms\n",
      "565:\tlearn: 0.1089869\ttotal: 533ms\tremaining: 409ms\n",
      "566:\tlearn: 0.1088176\ttotal: 534ms\tremaining: 408ms\n",
      "567:\tlearn: 0.1086253\ttotal: 535ms\tremaining: 407ms\n",
      "568:\tlearn: 0.1083769\ttotal: 535ms\tremaining: 405ms\n",
      "569:\tlearn: 0.1080592\ttotal: 536ms\tremaining: 404ms\n",
      "570:\tlearn: 0.1079550\ttotal: 537ms\tremaining: 403ms\n",
      "571:\tlearn: 0.1076612\ttotal: 538ms\tremaining: 402ms\n",
      "572:\tlearn: 0.1074205\ttotal: 539ms\tremaining: 401ms\n",
      "573:\tlearn: 0.1071397\ttotal: 539ms\tremaining: 400ms\n",
      "574:\tlearn: 0.1069437\ttotal: 540ms\tremaining: 399ms\n",
      "575:\tlearn: 0.1067981\ttotal: 541ms\tremaining: 398ms\n",
      "576:\tlearn: 0.1066079\ttotal: 542ms\tremaining: 397ms\n",
      "577:\tlearn: 0.1065312\ttotal: 543ms\tremaining: 396ms\n",
      "578:\tlearn: 0.1062395\ttotal: 544ms\tremaining: 395ms\n",
      "579:\tlearn: 0.1060448\ttotal: 545ms\tremaining: 394ms\n",
      "580:\tlearn: 0.1057603\ttotal: 545ms\tremaining: 393ms\n",
      "581:\tlearn: 0.1054330\ttotal: 546ms\tremaining: 392ms\n",
      "582:\tlearn: 0.1053174\ttotal: 547ms\tremaining: 391ms\n",
      "583:\tlearn: 0.1052720\ttotal: 548ms\tremaining: 390ms\n",
      "584:\tlearn: 0.1052127\ttotal: 549ms\tremaining: 389ms\n",
      "585:\tlearn: 0.1048915\ttotal: 549ms\tremaining: 388ms\n",
      "586:\tlearn: 0.1046463\ttotal: 550ms\tremaining: 387ms\n",
      "587:\tlearn: 0.1044058\ttotal: 551ms\tremaining: 386ms\n",
      "588:\tlearn: 0.1041466\ttotal: 552ms\tremaining: 385ms\n",
      "589:\tlearn: 0.1039699\ttotal: 553ms\tremaining: 384ms\n",
      "590:\tlearn: 0.1037556\ttotal: 554ms\tremaining: 383ms\n",
      "591:\tlearn: 0.1034858\ttotal: 554ms\tremaining: 382ms\n",
      "592:\tlearn: 0.1033234\ttotal: 555ms\tremaining: 381ms\n",
      "593:\tlearn: 0.1031938\ttotal: 556ms\tremaining: 380ms\n",
      "594:\tlearn: 0.1030024\ttotal: 557ms\tremaining: 379ms\n",
      "595:\tlearn: 0.1029462\ttotal: 558ms\tremaining: 378ms\n",
      "596:\tlearn: 0.1027696\ttotal: 558ms\tremaining: 377ms\n",
      "597:\tlearn: 0.1026769\ttotal: 559ms\tremaining: 376ms\n",
      "598:\tlearn: 0.1025174\ttotal: 560ms\tremaining: 375ms\n",
      "599:\tlearn: 0.1024951\ttotal: 561ms\tremaining: 374ms\n",
      "600:\tlearn: 0.1022705\ttotal: 562ms\tremaining: 373ms\n",
      "601:\tlearn: 0.1020693\ttotal: 563ms\tremaining: 372ms\n",
      "602:\tlearn: 0.1019937\ttotal: 563ms\tremaining: 371ms\n",
      "603:\tlearn: 0.1019757\ttotal: 564ms\tremaining: 370ms\n",
      "604:\tlearn: 0.1017971\ttotal: 565ms\tremaining: 369ms\n",
      "605:\tlearn: 0.1015933\ttotal: 566ms\tremaining: 368ms\n",
      "606:\tlearn: 0.1014546\ttotal: 567ms\tremaining: 367ms\n",
      "607:\tlearn: 0.1011947\ttotal: 568ms\tremaining: 366ms\n",
      "608:\tlearn: 0.1010957\ttotal: 568ms\tremaining: 365ms\n",
      "609:\tlearn: 0.1009216\ttotal: 569ms\tremaining: 364ms\n",
      "610:\tlearn: 0.1008672\ttotal: 570ms\tremaining: 363ms\n",
      "611:\tlearn: 0.1006793\ttotal: 572ms\tremaining: 362ms\n"
     ]
    },
    {
     "name": "stdout",
     "output_type": "stream",
     "text": [
      "612:\tlearn: 0.1006538\ttotal: 573ms\tremaining: 361ms\n",
      "613:\tlearn: 0.1004806\ttotal: 574ms\tremaining: 361ms\n",
      "614:\tlearn: 0.1003205\ttotal: 574ms\tremaining: 360ms\n",
      "615:\tlearn: 0.1002263\ttotal: 575ms\tremaining: 359ms\n",
      "616:\tlearn: 0.1000477\ttotal: 576ms\tremaining: 358ms\n",
      "617:\tlearn: 0.0999186\ttotal: 577ms\tremaining: 356ms\n",
      "618:\tlearn: 0.0996316\ttotal: 578ms\tremaining: 355ms\n",
      "619:\tlearn: 0.0994857\ttotal: 578ms\tremaining: 354ms\n",
      "620:\tlearn: 0.0994064\ttotal: 579ms\tremaining: 353ms\n",
      "621:\tlearn: 0.0992156\ttotal: 580ms\tremaining: 352ms\n",
      "622:\tlearn: 0.0990314\ttotal: 581ms\tremaining: 351ms\n",
      "623:\tlearn: 0.0988431\ttotal: 581ms\tremaining: 350ms\n",
      "624:\tlearn: 0.0986785\ttotal: 582ms\tremaining: 349ms\n",
      "625:\tlearn: 0.0985994\ttotal: 583ms\tremaining: 348ms\n",
      "626:\tlearn: 0.0983513\ttotal: 584ms\tremaining: 347ms\n",
      "627:\tlearn: 0.0981302\ttotal: 585ms\tremaining: 346ms\n",
      "628:\tlearn: 0.0979447\ttotal: 585ms\tremaining: 345ms\n",
      "629:\tlearn: 0.0977446\ttotal: 586ms\tremaining: 344ms\n",
      "630:\tlearn: 0.0975698\ttotal: 587ms\tremaining: 343ms\n",
      "631:\tlearn: 0.0974825\ttotal: 588ms\tremaining: 342ms\n",
      "632:\tlearn: 0.0973035\ttotal: 589ms\tremaining: 341ms\n",
      "633:\tlearn: 0.0971201\ttotal: 589ms\tremaining: 340ms\n",
      "634:\tlearn: 0.0969234\ttotal: 590ms\tremaining: 339ms\n",
      "635:\tlearn: 0.0967864\ttotal: 591ms\tremaining: 338ms\n",
      "636:\tlearn: 0.0965541\ttotal: 592ms\tremaining: 337ms\n",
      "637:\tlearn: 0.0964442\ttotal: 593ms\tremaining: 336ms\n",
      "638:\tlearn: 0.0963706\ttotal: 594ms\tremaining: 335ms\n",
      "639:\tlearn: 0.0961939\ttotal: 594ms\tremaining: 334ms\n",
      "640:\tlearn: 0.0959282\ttotal: 595ms\tremaining: 333ms\n",
      "641:\tlearn: 0.0958408\ttotal: 596ms\tremaining: 332ms\n",
      "642:\tlearn: 0.0956598\ttotal: 597ms\tremaining: 331ms\n",
      "643:\tlearn: 0.0954950\ttotal: 598ms\tremaining: 330ms\n",
      "644:\tlearn: 0.0953087\ttotal: 599ms\tremaining: 329ms\n",
      "645:\tlearn: 0.0951214\ttotal: 599ms\tremaining: 328ms\n",
      "646:\tlearn: 0.0951072\ttotal: 600ms\tremaining: 327ms\n",
      "647:\tlearn: 0.0949238\ttotal: 601ms\tremaining: 326ms\n",
      "648:\tlearn: 0.0948145\ttotal: 602ms\tremaining: 325ms\n",
      "649:\tlearn: 0.0946763\ttotal: 603ms\tremaining: 324ms\n",
      "650:\tlearn: 0.0946481\ttotal: 603ms\tremaining: 324ms\n",
      "651:\tlearn: 0.0945661\ttotal: 604ms\tremaining: 322ms\n",
      "652:\tlearn: 0.0944658\ttotal: 605ms\tremaining: 321ms\n",
      "653:\tlearn: 0.0944053\ttotal: 606ms\tremaining: 321ms\n",
      "654:\tlearn: 0.0942789\ttotal: 607ms\tremaining: 320ms\n",
      "655:\tlearn: 0.0941503\ttotal: 608ms\tremaining: 319ms\n",
      "656:\tlearn: 0.0939789\ttotal: 608ms\tremaining: 318ms\n",
      "657:\tlearn: 0.0938686\ttotal: 609ms\tremaining: 317ms\n",
      "658:\tlearn: 0.0936648\ttotal: 610ms\tremaining: 316ms\n",
      "659:\tlearn: 0.0934738\ttotal: 611ms\tremaining: 315ms\n",
      "660:\tlearn: 0.0932435\ttotal: 612ms\tremaining: 314ms\n",
      "661:\tlearn: 0.0930475\ttotal: 612ms\tremaining: 313ms\n",
      "662:\tlearn: 0.0929847\ttotal: 613ms\tremaining: 312ms\n",
      "663:\tlearn: 0.0927796\ttotal: 614ms\tremaining: 311ms\n",
      "664:\tlearn: 0.0926507\ttotal: 615ms\tremaining: 310ms\n",
      "665:\tlearn: 0.0926267\ttotal: 616ms\tremaining: 309ms\n",
      "666:\tlearn: 0.0924199\ttotal: 617ms\tremaining: 308ms\n",
      "667:\tlearn: 0.0921942\ttotal: 618ms\tremaining: 307ms\n",
      "668:\tlearn: 0.0920160\ttotal: 619ms\tremaining: 306ms\n",
      "669:\tlearn: 0.0918354\ttotal: 620ms\tremaining: 305ms\n",
      "670:\tlearn: 0.0915666\ttotal: 621ms\tremaining: 304ms\n",
      "671:\tlearn: 0.0914273\ttotal: 621ms\tremaining: 303ms\n",
      "672:\tlearn: 0.0912658\ttotal: 622ms\tremaining: 302ms\n",
      "673:\tlearn: 0.0911002\ttotal: 623ms\tremaining: 301ms\n",
      "674:\tlearn: 0.0909595\ttotal: 624ms\tremaining: 300ms\n",
      "675:\tlearn: 0.0908520\ttotal: 625ms\tremaining: 299ms\n",
      "676:\tlearn: 0.0906620\ttotal: 625ms\tremaining: 298ms\n",
      "677:\tlearn: 0.0904915\ttotal: 626ms\tremaining: 297ms\n",
      "678:\tlearn: 0.0903084\ttotal: 627ms\tremaining: 296ms\n",
      "679:\tlearn: 0.0902005\ttotal: 628ms\tremaining: 295ms\n",
      "680:\tlearn: 0.0900141\ttotal: 629ms\tremaining: 294ms\n",
      "681:\tlearn: 0.0898374\ttotal: 629ms\tremaining: 294ms\n",
      "682:\tlearn: 0.0896614\ttotal: 630ms\tremaining: 293ms\n",
      "683:\tlearn: 0.0894499\ttotal: 631ms\tremaining: 292ms\n",
      "684:\tlearn: 0.0892419\ttotal: 632ms\tremaining: 291ms\n",
      "685:\tlearn: 0.0891838\ttotal: 633ms\tremaining: 290ms\n",
      "686:\tlearn: 0.0891644\ttotal: 634ms\tremaining: 289ms\n",
      "687:\tlearn: 0.0890564\ttotal: 634ms\tremaining: 288ms\n",
      "688:\tlearn: 0.0888596\ttotal: 635ms\tremaining: 287ms\n",
      "689:\tlearn: 0.0886582\ttotal: 636ms\tremaining: 286ms\n",
      "690:\tlearn: 0.0886173\ttotal: 637ms\tremaining: 285ms\n",
      "691:\tlearn: 0.0885968\ttotal: 637ms\tremaining: 284ms\n",
      "692:\tlearn: 0.0883420\ttotal: 638ms\tremaining: 283ms\n",
      "693:\tlearn: 0.0881179\ttotal: 639ms\tremaining: 282ms\n",
      "694:\tlearn: 0.0879455\ttotal: 640ms\tremaining: 281ms\n",
      "695:\tlearn: 0.0877387\ttotal: 641ms\tremaining: 280ms\n",
      "696:\tlearn: 0.0875698\ttotal: 642ms\tremaining: 279ms\n",
      "697:\tlearn: 0.0873680\ttotal: 643ms\tremaining: 278ms\n",
      "698:\tlearn: 0.0871974\ttotal: 644ms\tremaining: 277ms\n",
      "699:\tlearn: 0.0870664\ttotal: 645ms\tremaining: 276ms\n",
      "700:\tlearn: 0.0868258\ttotal: 645ms\tremaining: 275ms\n",
      "701:\tlearn: 0.0866678\ttotal: 646ms\tremaining: 274ms\n",
      "702:\tlearn: 0.0864697\ttotal: 647ms\tremaining: 273ms\n",
      "703:\tlearn: 0.0862501\ttotal: 648ms\tremaining: 272ms\n",
      "704:\tlearn: 0.0861531\ttotal: 649ms\tremaining: 271ms\n",
      "705:\tlearn: 0.0860402\ttotal: 649ms\tremaining: 270ms\n",
      "706:\tlearn: 0.0858910\ttotal: 651ms\tremaining: 270ms\n",
      "707:\tlearn: 0.0856938\ttotal: 651ms\tremaining: 269ms\n",
      "708:\tlearn: 0.0856046\ttotal: 652ms\tremaining: 268ms\n",
      "709:\tlearn: 0.0854105\ttotal: 653ms\tremaining: 267ms\n",
      "710:\tlearn: 0.0852341\ttotal: 654ms\tremaining: 266ms\n",
      "711:\tlearn: 0.0852067\ttotal: 655ms\tremaining: 265ms\n",
      "712:\tlearn: 0.0850606\ttotal: 656ms\tremaining: 264ms\n",
      "713:\tlearn: 0.0849306\ttotal: 656ms\tremaining: 263ms\n",
      "714:\tlearn: 0.0848058\ttotal: 657ms\tremaining: 262ms\n",
      "715:\tlearn: 0.0847886\ttotal: 658ms\tremaining: 261ms\n",
      "716:\tlearn: 0.0846423\ttotal: 659ms\tremaining: 260ms\n",
      "717:\tlearn: 0.0844830\ttotal: 660ms\tremaining: 259ms\n",
      "718:\tlearn: 0.0843082\ttotal: 660ms\tremaining: 258ms\n",
      "719:\tlearn: 0.0842294\ttotal: 661ms\tremaining: 257ms\n",
      "720:\tlearn: 0.0840775\ttotal: 662ms\tremaining: 256ms\n",
      "721:\tlearn: 0.0838914\ttotal: 663ms\tremaining: 255ms\n",
      "722:\tlearn: 0.0837407\ttotal: 664ms\tremaining: 254ms\n",
      "723:\tlearn: 0.0836453\ttotal: 665ms\tremaining: 253ms\n",
      "724:\tlearn: 0.0835483\ttotal: 666ms\tremaining: 253ms\n",
      "725:\tlearn: 0.0834079\ttotal: 667ms\tremaining: 252ms\n",
      "726:\tlearn: 0.0832747\ttotal: 668ms\tremaining: 251ms\n",
      "727:\tlearn: 0.0831653\ttotal: 669ms\tremaining: 250ms\n",
      "728:\tlearn: 0.0829834\ttotal: 670ms\tremaining: 249ms\n",
      "729:\tlearn: 0.0828998\ttotal: 671ms\tremaining: 248ms\n",
      "730:\tlearn: 0.0828830\ttotal: 672ms\tremaining: 247ms\n",
      "731:\tlearn: 0.0828002\ttotal: 673ms\tremaining: 246ms\n",
      "732:\tlearn: 0.0827006\ttotal: 674ms\tremaining: 245ms\n",
      "733:\tlearn: 0.0824355\ttotal: 675ms\tremaining: 244ms\n",
      "734:\tlearn: 0.0822815\ttotal: 675ms\tremaining: 244ms\n",
      "735:\tlearn: 0.0822636\ttotal: 676ms\tremaining: 243ms\n",
      "736:\tlearn: 0.0821565\ttotal: 677ms\tremaining: 242ms\n",
      "737:\tlearn: 0.0820607\ttotal: 678ms\tremaining: 241ms\n"
     ]
    },
    {
     "name": "stdout",
     "output_type": "stream",
     "text": [
      "738:\tlearn: 0.0819063\ttotal: 679ms\tremaining: 240ms\n",
      "739:\tlearn: 0.0817610\ttotal: 681ms\tremaining: 239ms\n",
      "740:\tlearn: 0.0816038\ttotal: 682ms\tremaining: 238ms\n",
      "741:\tlearn: 0.0815069\ttotal: 683ms\tremaining: 237ms\n",
      "742:\tlearn: 0.0813697\ttotal: 684ms\tremaining: 236ms\n",
      "743:\tlearn: 0.0811742\ttotal: 685ms\tremaining: 236ms\n",
      "744:\tlearn: 0.0810388\ttotal: 686ms\tremaining: 235ms\n",
      "745:\tlearn: 0.0809405\ttotal: 687ms\tremaining: 234ms\n",
      "746:\tlearn: 0.0807791\ttotal: 687ms\tremaining: 233ms\n",
      "747:\tlearn: 0.0806853\ttotal: 688ms\tremaining: 232ms\n",
      "748:\tlearn: 0.0804413\ttotal: 689ms\tremaining: 231ms\n",
      "749:\tlearn: 0.0803688\ttotal: 690ms\tremaining: 230ms\n",
      "750:\tlearn: 0.0802797\ttotal: 691ms\tremaining: 229ms\n",
      "751:\tlearn: 0.0802282\ttotal: 692ms\tremaining: 228ms\n",
      "752:\tlearn: 0.0800685\ttotal: 692ms\tremaining: 227ms\n",
      "753:\tlearn: 0.0799285\ttotal: 693ms\tremaining: 226ms\n",
      "754:\tlearn: 0.0798368\ttotal: 694ms\tremaining: 225ms\n",
      "755:\tlearn: 0.0798054\ttotal: 695ms\tremaining: 224ms\n",
      "756:\tlearn: 0.0796340\ttotal: 696ms\tremaining: 223ms\n",
      "757:\tlearn: 0.0795080\ttotal: 696ms\tremaining: 222ms\n",
      "758:\tlearn: 0.0793953\ttotal: 697ms\tremaining: 221ms\n",
      "759:\tlearn: 0.0793182\ttotal: 698ms\tremaining: 220ms\n",
      "760:\tlearn: 0.0791929\ttotal: 699ms\tremaining: 219ms\n",
      "761:\tlearn: 0.0791021\ttotal: 700ms\tremaining: 218ms\n",
      "762:\tlearn: 0.0789519\ttotal: 700ms\tremaining: 218ms\n",
      "763:\tlearn: 0.0788188\ttotal: 701ms\tremaining: 217ms\n",
      "764:\tlearn: 0.0788001\ttotal: 702ms\tremaining: 216ms\n",
      "765:\tlearn: 0.0786785\ttotal: 703ms\tremaining: 215ms\n",
      "766:\tlearn: 0.0784758\ttotal: 703ms\tremaining: 214ms\n",
      "767:\tlearn: 0.0783323\ttotal: 704ms\tremaining: 213ms\n",
      "768:\tlearn: 0.0782316\ttotal: 705ms\tremaining: 212ms\n",
      "769:\tlearn: 0.0780898\ttotal: 706ms\tremaining: 211ms\n",
      "770:\tlearn: 0.0779419\ttotal: 707ms\tremaining: 210ms\n",
      "771:\tlearn: 0.0778563\ttotal: 708ms\tremaining: 209ms\n",
      "772:\tlearn: 0.0778223\ttotal: 708ms\tremaining: 208ms\n",
      "773:\tlearn: 0.0776525\ttotal: 709ms\tremaining: 207ms\n",
      "774:\tlearn: 0.0775385\ttotal: 710ms\tremaining: 206ms\n",
      "775:\tlearn: 0.0774056\ttotal: 711ms\tremaining: 205ms\n",
      "776:\tlearn: 0.0773530\ttotal: 712ms\tremaining: 204ms\n",
      "777:\tlearn: 0.0772471\ttotal: 713ms\tremaining: 203ms\n",
      "778:\tlearn: 0.0771282\ttotal: 714ms\tremaining: 202ms\n",
      "779:\tlearn: 0.0769836\ttotal: 714ms\tremaining: 201ms\n",
      "780:\tlearn: 0.0769538\ttotal: 715ms\tremaining: 201ms\n",
      "781:\tlearn: 0.0768479\ttotal: 716ms\tremaining: 200ms\n",
      "782:\tlearn: 0.0767065\ttotal: 717ms\tremaining: 199ms\n",
      "783:\tlearn: 0.0765708\ttotal: 718ms\tremaining: 198ms\n",
      "784:\tlearn: 0.0764738\ttotal: 719ms\tremaining: 197ms\n",
      "785:\tlearn: 0.0763315\ttotal: 719ms\tremaining: 196ms\n",
      "786:\tlearn: 0.0761416\ttotal: 720ms\tremaining: 195ms\n",
      "787:\tlearn: 0.0760907\ttotal: 721ms\tremaining: 194ms\n",
      "788:\tlearn: 0.0759807\ttotal: 722ms\tremaining: 193ms\n",
      "789:\tlearn: 0.0758343\ttotal: 722ms\tremaining: 192ms\n",
      "790:\tlearn: 0.0757422\ttotal: 723ms\tremaining: 191ms\n",
      "791:\tlearn: 0.0755639\ttotal: 724ms\tremaining: 190ms\n",
      "792:\tlearn: 0.0753812\ttotal: 725ms\tremaining: 189ms\n",
      "793:\tlearn: 0.0752560\ttotal: 726ms\tremaining: 188ms\n",
      "794:\tlearn: 0.0751365\ttotal: 726ms\tremaining: 187ms\n",
      "795:\tlearn: 0.0750210\ttotal: 727ms\tremaining: 186ms\n",
      "796:\tlearn: 0.0748462\ttotal: 728ms\tremaining: 185ms\n",
      "797:\tlearn: 0.0748324\ttotal: 729ms\tremaining: 184ms\n",
      "798:\tlearn: 0.0746480\ttotal: 730ms\tremaining: 184ms\n",
      "799:\tlearn: 0.0745049\ttotal: 730ms\tremaining: 183ms\n",
      "800:\tlearn: 0.0743776\ttotal: 731ms\tremaining: 182ms\n",
      "801:\tlearn: 0.0742662\ttotal: 732ms\tremaining: 181ms\n",
      "802:\tlearn: 0.0741458\ttotal: 733ms\tremaining: 180ms\n",
      "803:\tlearn: 0.0739906\ttotal: 734ms\tremaining: 179ms\n",
      "804:\tlearn: 0.0738161\ttotal: 734ms\tremaining: 178ms\n",
      "805:\tlearn: 0.0737625\ttotal: 735ms\tremaining: 177ms\n",
      "806:\tlearn: 0.0735685\ttotal: 736ms\tremaining: 176ms\n",
      "807:\tlearn: 0.0734564\ttotal: 737ms\tremaining: 175ms\n",
      "808:\tlearn: 0.0733637\ttotal: 738ms\tremaining: 174ms\n",
      "809:\tlearn: 0.0732532\ttotal: 738ms\tremaining: 173ms\n",
      "810:\tlearn: 0.0732005\ttotal: 739ms\tremaining: 172ms\n",
      "811:\tlearn: 0.0730800\ttotal: 740ms\tremaining: 171ms\n",
      "812:\tlearn: 0.0730152\ttotal: 741ms\tremaining: 170ms\n",
      "813:\tlearn: 0.0729374\ttotal: 742ms\tremaining: 169ms\n",
      "814:\tlearn: 0.0728462\ttotal: 743ms\tremaining: 169ms\n",
      "815:\tlearn: 0.0727611\ttotal: 743ms\tremaining: 168ms\n",
      "816:\tlearn: 0.0726207\ttotal: 744ms\tremaining: 167ms\n",
      "817:\tlearn: 0.0724507\ttotal: 745ms\tremaining: 166ms\n",
      "818:\tlearn: 0.0723204\ttotal: 746ms\tremaining: 165ms\n",
      "819:\tlearn: 0.0722087\ttotal: 747ms\tremaining: 164ms\n",
      "820:\tlearn: 0.0720780\ttotal: 747ms\tremaining: 163ms\n",
      "821:\tlearn: 0.0719457\ttotal: 748ms\tremaining: 162ms\n",
      "822:\tlearn: 0.0718638\ttotal: 749ms\tremaining: 161ms\n",
      "823:\tlearn: 0.0717884\ttotal: 750ms\tremaining: 160ms\n",
      "824:\tlearn: 0.0717741\ttotal: 751ms\tremaining: 159ms\n",
      "825:\tlearn: 0.0716403\ttotal: 752ms\tremaining: 158ms\n",
      "826:\tlearn: 0.0715264\ttotal: 752ms\tremaining: 157ms\n",
      "827:\tlearn: 0.0713266\ttotal: 753ms\tremaining: 156ms\n",
      "828:\tlearn: 0.0712101\ttotal: 754ms\tremaining: 156ms\n",
      "829:\tlearn: 0.0711044\ttotal: 755ms\tremaining: 155ms\n",
      "830:\tlearn: 0.0709843\ttotal: 756ms\tremaining: 154ms\n",
      "831:\tlearn: 0.0709231\ttotal: 756ms\tremaining: 153ms\n",
      "832:\tlearn: 0.0707913\ttotal: 757ms\tremaining: 152ms\n",
      "833:\tlearn: 0.0707009\ttotal: 758ms\tremaining: 151ms\n",
      "834:\tlearn: 0.0706233\ttotal: 759ms\tremaining: 150ms\n",
      "835:\tlearn: 0.0705375\ttotal: 760ms\tremaining: 149ms\n",
      "836:\tlearn: 0.0703648\ttotal: 761ms\tremaining: 148ms\n",
      "837:\tlearn: 0.0702346\ttotal: 762ms\tremaining: 147ms\n",
      "838:\tlearn: 0.0701799\ttotal: 762ms\tremaining: 146ms\n"
     ]
    },
    {
     "name": "stdout",
     "output_type": "stream",
     "text": [
      "839:\tlearn: 0.0701641\ttotal: 763ms\tremaining: 145ms\n",
      "840:\tlearn: 0.0701003\ttotal: 764ms\tremaining: 144ms\n",
      "841:\tlearn: 0.0700311\ttotal: 765ms\tremaining: 144ms\n",
      "842:\tlearn: 0.0699629\ttotal: 766ms\tremaining: 143ms\n",
      "843:\tlearn: 0.0699141\ttotal: 767ms\tremaining: 142ms\n",
      "844:\tlearn: 0.0698611\ttotal: 768ms\tremaining: 141ms\n",
      "845:\tlearn: 0.0697738\ttotal: 768ms\tremaining: 140ms\n",
      "846:\tlearn: 0.0696276\ttotal: 769ms\tremaining: 139ms\n",
      "847:\tlearn: 0.0695333\ttotal: 770ms\tremaining: 138ms\n",
      "848:\tlearn: 0.0694069\ttotal: 771ms\tremaining: 137ms\n",
      "849:\tlearn: 0.0692298\ttotal: 772ms\tremaining: 136ms\n",
      "850:\tlearn: 0.0691085\ttotal: 773ms\tremaining: 135ms\n",
      "851:\tlearn: 0.0689942\ttotal: 773ms\tremaining: 134ms\n",
      "852:\tlearn: 0.0688817\ttotal: 774ms\tremaining: 133ms\n",
      "853:\tlearn: 0.0688364\ttotal: 775ms\tremaining: 132ms\n",
      "854:\tlearn: 0.0687131\ttotal: 776ms\tremaining: 132ms\n",
      "855:\tlearn: 0.0686551\ttotal: 777ms\tremaining: 131ms\n",
      "856:\tlearn: 0.0685945\ttotal: 778ms\tremaining: 130ms\n",
      "857:\tlearn: 0.0685101\ttotal: 778ms\tremaining: 129ms\n",
      "858:\tlearn: 0.0684084\ttotal: 779ms\tremaining: 128ms\n",
      "859:\tlearn: 0.0683762\ttotal: 780ms\tremaining: 127ms\n",
      "860:\tlearn: 0.0682546\ttotal: 781ms\tremaining: 126ms\n",
      "861:\tlearn: 0.0681673\ttotal: 781ms\tremaining: 125ms\n",
      "862:\tlearn: 0.0680877\ttotal: 782ms\tremaining: 124ms\n",
      "863:\tlearn: 0.0680087\ttotal: 783ms\tremaining: 123ms\n",
      "864:\tlearn: 0.0678919\ttotal: 784ms\tremaining: 122ms\n",
      "865:\tlearn: 0.0678492\ttotal: 785ms\tremaining: 121ms\n",
      "866:\tlearn: 0.0677729\ttotal: 786ms\tremaining: 121ms\n",
      "867:\tlearn: 0.0676493\ttotal: 786ms\tremaining: 120ms\n",
      "868:\tlearn: 0.0674944\ttotal: 787ms\tremaining: 119ms\n",
      "869:\tlearn: 0.0674022\ttotal: 788ms\tremaining: 118ms\n",
      "870:\tlearn: 0.0673059\ttotal: 789ms\tremaining: 117ms\n",
      "871:\tlearn: 0.0671547\ttotal: 790ms\tremaining: 116ms\n",
      "872:\tlearn: 0.0670797\ttotal: 790ms\tremaining: 115ms\n",
      "873:\tlearn: 0.0669472\ttotal: 791ms\tremaining: 114ms\n",
      "874:\tlearn: 0.0668084\ttotal: 792ms\tremaining: 113ms\n",
      "875:\tlearn: 0.0666600\ttotal: 793ms\tremaining: 112ms\n",
      "876:\tlearn: 0.0665358\ttotal: 794ms\tremaining: 111ms\n",
      "877:\tlearn: 0.0664578\ttotal: 795ms\tremaining: 110ms\n",
      "878:\tlearn: 0.0662864\ttotal: 796ms\tremaining: 110ms\n",
      "879:\tlearn: 0.0661496\ttotal: 796ms\tremaining: 109ms\n",
      "880:\tlearn: 0.0660060\ttotal: 797ms\tremaining: 108ms\n",
      "881:\tlearn: 0.0659425\ttotal: 798ms\tremaining: 107ms\n",
      "882:\tlearn: 0.0659291\ttotal: 799ms\tremaining: 106ms\n",
      "883:\tlearn: 0.0658293\ttotal: 799ms\tremaining: 105ms\n",
      "884:\tlearn: 0.0658172\ttotal: 800ms\tremaining: 104ms\n",
      "885:\tlearn: 0.0656716\ttotal: 801ms\tremaining: 103ms\n",
      "886:\tlearn: 0.0655755\ttotal: 802ms\tremaining: 102ms\n",
      "887:\tlearn: 0.0654399\ttotal: 803ms\tremaining: 101ms\n",
      "888:\tlearn: 0.0653201\ttotal: 804ms\tremaining: 100ms\n",
      "889:\tlearn: 0.0651965\ttotal: 804ms\tremaining: 99.4ms\n",
      "890:\tlearn: 0.0651638\ttotal: 805ms\tremaining: 98.5ms\n",
      "891:\tlearn: 0.0650354\ttotal: 806ms\tremaining: 97.6ms\n",
      "892:\tlearn: 0.0649431\ttotal: 807ms\tremaining: 96.7ms\n",
      "893:\tlearn: 0.0648228\ttotal: 808ms\tremaining: 95.8ms\n",
      "894:\tlearn: 0.0646381\ttotal: 809ms\tremaining: 94.9ms\n",
      "895:\tlearn: 0.0645947\ttotal: 809ms\tremaining: 93.9ms\n",
      "896:\tlearn: 0.0644856\ttotal: 810ms\tremaining: 93ms\n",
      "897:\tlearn: 0.0643574\ttotal: 811ms\tremaining: 92.1ms\n",
      "898:\tlearn: 0.0642307\ttotal: 812ms\tremaining: 91.2ms\n",
      "899:\tlearn: 0.0641478\ttotal: 813ms\tremaining: 90.3ms\n",
      "900:\tlearn: 0.0640917\ttotal: 814ms\tremaining: 89.4ms\n",
      "901:\tlearn: 0.0640197\ttotal: 814ms\tremaining: 88.5ms\n",
      "902:\tlearn: 0.0639480\ttotal: 815ms\tremaining: 87.6ms\n",
      "903:\tlearn: 0.0638457\ttotal: 816ms\tremaining: 86.7ms\n",
      "904:\tlearn: 0.0637086\ttotal: 817ms\tremaining: 85.7ms\n",
      "905:\tlearn: 0.0635833\ttotal: 818ms\tremaining: 84.8ms\n",
      "906:\tlearn: 0.0635638\ttotal: 818ms\tremaining: 83.9ms\n",
      "907:\tlearn: 0.0634408\ttotal: 819ms\tremaining: 83ms\n",
      "908:\tlearn: 0.0633097\ttotal: 820ms\tremaining: 82.1ms\n",
      "909:\tlearn: 0.0632152\ttotal: 821ms\tremaining: 81.2ms\n",
      "910:\tlearn: 0.0631436\ttotal: 822ms\tremaining: 80.3ms\n",
      "911:\tlearn: 0.0630918\ttotal: 823ms\tremaining: 79.4ms\n",
      "912:\tlearn: 0.0629814\ttotal: 824ms\tremaining: 78.5ms\n",
      "913:\tlearn: 0.0628901\ttotal: 825ms\tremaining: 77.6ms\n",
      "914:\tlearn: 0.0628496\ttotal: 826ms\tremaining: 76.7ms\n",
      "915:\tlearn: 0.0627167\ttotal: 826ms\tremaining: 75.8ms\n",
      "916:\tlearn: 0.0627062\ttotal: 827ms\tremaining: 74.9ms\n",
      "917:\tlearn: 0.0625956\ttotal: 829ms\tremaining: 74ms\n",
      "918:\tlearn: 0.0624804\ttotal: 830ms\tremaining: 73.1ms\n",
      "919:\tlearn: 0.0624297\ttotal: 830ms\tremaining: 72.2ms\n",
      "920:\tlearn: 0.0623523\ttotal: 831ms\tremaining: 71.3ms\n",
      "921:\tlearn: 0.0623212\ttotal: 832ms\tremaining: 70.4ms\n",
      "922:\tlearn: 0.0622125\ttotal: 833ms\tremaining: 69.5ms\n",
      "923:\tlearn: 0.0621735\ttotal: 833ms\tremaining: 68.6ms\n",
      "924:\tlearn: 0.0620906\ttotal: 834ms\tremaining: 67.6ms\n",
      "925:\tlearn: 0.0620277\ttotal: 835ms\tremaining: 66.7ms\n",
      "926:\tlearn: 0.0619047\ttotal: 836ms\tremaining: 65.8ms\n",
      "927:\tlearn: 0.0618904\ttotal: 837ms\tremaining: 64.9ms\n",
      "928:\tlearn: 0.0617636\ttotal: 837ms\tremaining: 64ms\n",
      "929:\tlearn: 0.0616367\ttotal: 838ms\tremaining: 63.1ms\n",
      "930:\tlearn: 0.0615851\ttotal: 839ms\tremaining: 62.2ms\n",
      "931:\tlearn: 0.0614592\ttotal: 840ms\tremaining: 61.3ms\n",
      "932:\tlearn: 0.0614401\ttotal: 841ms\tremaining: 60.4ms\n",
      "933:\tlearn: 0.0613796\ttotal: 842ms\tremaining: 59.5ms\n",
      "934:\tlearn: 0.0612556\ttotal: 842ms\tremaining: 58.6ms\n",
      "935:\tlearn: 0.0611664\ttotal: 843ms\tremaining: 57.7ms\n",
      "936:\tlearn: 0.0611217\ttotal: 844ms\tremaining: 56.8ms\n",
      "937:\tlearn: 0.0611102\ttotal: 845ms\tremaining: 55.8ms\n",
      "938:\tlearn: 0.0609769\ttotal: 846ms\tremaining: 55ms\n",
      "939:\tlearn: 0.0608982\ttotal: 847ms\tremaining: 54ms\n",
      "940:\tlearn: 0.0608483\ttotal: 848ms\tremaining: 53.2ms\n",
      "941:\tlearn: 0.0608052\ttotal: 849ms\tremaining: 52.3ms\n",
      "942:\tlearn: 0.0607094\ttotal: 849ms\tremaining: 51.3ms\n",
      "943:\tlearn: 0.0606260\ttotal: 850ms\tremaining: 50.4ms\n",
      "944:\tlearn: 0.0605223\ttotal: 851ms\tremaining: 49.5ms\n",
      "945:\tlearn: 0.0604596\ttotal: 852ms\tremaining: 48.6ms\n",
      "946:\tlearn: 0.0603865\ttotal: 853ms\tremaining: 47.7ms\n",
      "947:\tlearn: 0.0603132\ttotal: 854ms\tremaining: 46.8ms\n",
      "948:\tlearn: 0.0602598\ttotal: 854ms\tremaining: 45.9ms\n",
      "949:\tlearn: 0.0601430\ttotal: 855ms\tremaining: 45ms\n",
      "950:\tlearn: 0.0600976\ttotal: 856ms\tremaining: 44.1ms\n",
      "951:\tlearn: 0.0600050\ttotal: 857ms\tremaining: 43.2ms\n",
      "952:\tlearn: 0.0599024\ttotal: 858ms\tremaining: 42.3ms\n",
      "953:\tlearn: 0.0597753\ttotal: 858ms\tremaining: 41.4ms\n",
      "954:\tlearn: 0.0596848\ttotal: 859ms\tremaining: 40.5ms\n",
      "955:\tlearn: 0.0595614\ttotal: 860ms\tremaining: 39.6ms\n",
      "956:\tlearn: 0.0593935\ttotal: 861ms\tremaining: 38.7ms\n",
      "957:\tlearn: 0.0593839\ttotal: 862ms\tremaining: 37.8ms\n",
      "958:\tlearn: 0.0592727\ttotal: 863ms\tremaining: 36.9ms\n",
      "959:\tlearn: 0.0591889\ttotal: 863ms\tremaining: 36ms\n",
      "960:\tlearn: 0.0590365\ttotal: 864ms\tremaining: 35.1ms\n",
      "961:\tlearn: 0.0589546\ttotal: 865ms\tremaining: 34.2ms\n",
      "962:\tlearn: 0.0588733\ttotal: 866ms\tremaining: 33.3ms\n",
      "963:\tlearn: 0.0588314\ttotal: 867ms\tremaining: 32.4ms\n",
      "964:\tlearn: 0.0587613\ttotal: 867ms\tremaining: 31.5ms\n",
      "965:\tlearn: 0.0586541\ttotal: 868ms\tremaining: 30.6ms\n",
      "966:\tlearn: 0.0585907\ttotal: 869ms\tremaining: 29.7ms\n"
     ]
    },
    {
     "name": "stdout",
     "output_type": "stream",
     "text": [
      "967:\tlearn: 0.0585236\ttotal: 870ms\tremaining: 28.8ms\n",
      "968:\tlearn: 0.0584318\ttotal: 871ms\tremaining: 27.9ms\n",
      "969:\tlearn: 0.0583232\ttotal: 872ms\tremaining: 27ms\n",
      "970:\tlearn: 0.0582738\ttotal: 872ms\tremaining: 26.1ms\n",
      "971:\tlearn: 0.0581391\ttotal: 873ms\tremaining: 25.2ms\n",
      "972:\tlearn: 0.0580351\ttotal: 874ms\tremaining: 24.3ms\n",
      "973:\tlearn: 0.0579662\ttotal: 875ms\tremaining: 23.4ms\n",
      "974:\tlearn: 0.0579422\ttotal: 876ms\tremaining: 22.5ms\n",
      "975:\tlearn: 0.0578479\ttotal: 877ms\tremaining: 21.6ms\n",
      "976:\tlearn: 0.0578100\ttotal: 877ms\tremaining: 20.7ms\n",
      "977:\tlearn: 0.0577507\ttotal: 878ms\tremaining: 19.8ms\n",
      "978:\tlearn: 0.0577277\ttotal: 879ms\tremaining: 18.9ms\n",
      "979:\tlearn: 0.0576349\ttotal: 880ms\tremaining: 18ms\n",
      "980:\tlearn: 0.0575342\ttotal: 881ms\tremaining: 17.1ms\n",
      "981:\tlearn: 0.0575236\ttotal: 881ms\tremaining: 16.2ms\n",
      "982:\tlearn: 0.0574373\ttotal: 882ms\tremaining: 15.3ms\n",
      "983:\tlearn: 0.0573818\ttotal: 883ms\tremaining: 14.4ms\n",
      "984:\tlearn: 0.0573499\ttotal: 884ms\tremaining: 13.5ms\n",
      "985:\tlearn: 0.0572564\ttotal: 885ms\tremaining: 12.6ms\n",
      "986:\tlearn: 0.0572332\ttotal: 885ms\tremaining: 11.7ms\n",
      "987:\tlearn: 0.0570837\ttotal: 886ms\tremaining: 10.8ms\n",
      "988:\tlearn: 0.0570695\ttotal: 887ms\tremaining: 9.87ms\n",
      "989:\tlearn: 0.0569587\ttotal: 888ms\tremaining: 8.97ms\n",
      "990:\tlearn: 0.0568981\ttotal: 889ms\tremaining: 8.07ms\n",
      "991:\tlearn: 0.0568129\ttotal: 890ms\tremaining: 7.17ms\n",
      "992:\tlearn: 0.0566436\ttotal: 890ms\tremaining: 6.28ms\n",
      "993:\tlearn: 0.0565805\ttotal: 891ms\tremaining: 5.38ms\n",
      "994:\tlearn: 0.0564577\ttotal: 892ms\tremaining: 4.48ms\n",
      "995:\tlearn: 0.0564313\ttotal: 893ms\tremaining: 3.58ms\n",
      "996:\tlearn: 0.0563893\ttotal: 894ms\tremaining: 2.69ms\n",
      "997:\tlearn: 0.0562769\ttotal: 895ms\tremaining: 1.79ms\n",
      "998:\tlearn: 0.0561657\ttotal: 896ms\tremaining: 896us\n",
      "999:\tlearn: 0.0560405\ttotal: 896ms\tremaining: 0us\n"
     ]
    },
    {
     "data": {
      "text/plain": [
       "<catboost.core.CatBoostRegressor at 0x7fef016e2400>"
      ]
     },
     "execution_count": 9,
     "metadata": {},
     "output_type": "execute_result"
    }
   ],
   "source": [
    "#Train the Model \n",
    "prior_model = ctb.CatBoostRegressor()\n",
    "prior_model.fit(X_train,Y_train)"
   ]
  },
  {
   "cell_type": "code",
   "execution_count": 10,
   "id": "af65dcda",
   "metadata": {
    "execution": {
     "iopub.execute_input": "2022-06-11T15:57:50.908615Z",
     "iopub.status.busy": "2022-06-11T15:57:50.908223Z",
     "iopub.status.idle": "2022-06-11T15:57:50.915810Z",
     "shell.execute_reply": "2022-06-11T15:57:50.916112Z"
    },
    "id": "af65dcda",
    "papermill": {
     "duration": 0.021841,
     "end_time": "2022-06-11T15:57:50.916235",
     "exception": false,
     "start_time": "2022-06-11T15:57:50.894394",
     "status": "completed"
    },
    "tags": []
   },
   "outputs": [
    {
     "data": {
      "application/scrapbook.scrap.json+json": {
       "data": 0.14018578172163673,
       "encoder": "json",
       "name": "Prior Model MSE",
       "version": 1
      }
     },
     "metadata": {
      "scrapbook": {
       "data": true,
       "display": false,
       "name": "Prior Model MSE"
      }
     },
     "output_type": "display_data"
    },
    {
     "data": {
      "application/scrapbook.scrap.json+json": {
       "data": 1.1008795160520246,
       "encoder": "json",
       "name": "ABC Pre-generator MSE",
       "version": 1
      }
     },
     "metadata": {
      "scrapbook": {
       "data": true,
       "display": false,
       "name": "ABC Pre-generator MSE"
      }
     },
     "output_type": "display_data"
    },
    {
     "data": {
      "application/scrapbook.scrap.json+json": {
       "data": 0.23937455911182245,
       "encoder": "json",
       "name": "Prior Model MSE",
       "version": 1
      }
     },
     "metadata": {
      "scrapbook": {
       "data": true,
       "display": false,
       "name": "Prior Model MSE"
      }
     },
     "output_type": "display_data"
    },
    {
     "data": {
      "application/scrapbook.scrap.json+json": {
       "data": 0.9964185535368234,
       "encoder": "json",
       "name": "ABC Pre-generator MSE",
       "version": 1
      }
     },
     "metadata": {
      "scrapbook": {
       "data": true,
       "display": false,
       "name": "ABC Pre-generator MSE"
      }
     },
     "output_type": "display_data"
    }
   ],
   "source": [
    "y_pred = prior_model.predict(X_test)\n",
    "y_abc = y_pred + np.random.normal(0,variance, y_pred.shape) + bias \n",
    "mse = mean_squared_error(y_pred,Y_test)\n",
    "sb.glue(\"Prior Model MSE\",mse)\n",
    "mse = mean_squared_error(y_abc,Y_test)\n",
    "sb.glue(\"ABC Pre-generator MSE\",mse)\n",
    "mae = mean_absolute_error(y_pred,Y_test)\n",
    "sb.glue(\"Prior Model MSE\",mae)\n",
    "mae = mean_absolute_error(y_abc,Y_test)\n",
    "sb.glue(\"ABC Pre-generator MSE\",mae)"
   ]
  },
  {
   "cell_type": "markdown",
   "id": "25609da2",
   "metadata": {
    "papermill": {
     "duration": 0.009761,
     "end_time": "2022-06-11T15:57:50.936177",
     "exception": false,
     "start_time": "2022-06-11T15:57:50.926416",
     "status": "completed"
    },
    "tags": []
   },
   "source": [
    "# ABC GAN Model"
   ]
  },
  {
   "cell_type": "code",
   "execution_count": 11,
   "id": "dfc3464d",
   "metadata": {
    "execution": {
     "iopub.execute_input": "2022-06-11T15:57:50.958744Z",
     "iopub.status.busy": "2022-06-11T15:57:50.958370Z",
     "iopub.status.idle": "2022-06-11T15:57:50.961010Z",
     "shell.execute_reply": "2022-06-11T15:57:50.961258Z"
    },
    "papermill": {
     "duration": 0.01529,
     "end_time": "2022-06-11T15:57:50.961365",
     "exception": false,
     "start_time": "2022-06-11T15:57:50.946075",
     "status": "completed"
    },
    "tags": []
   },
   "outputs": [],
   "source": [
    "gen = network.Generator(n_features+1).to(device)\n",
    "disc = network.Discriminator(n_features+1).to(device)\n",
    "\n",
    "criterion = torch.nn.BCELoss()\n",
    "gen_opt = torch.optim.Adam(gen.parameters(), lr=0.001, betas=(0.5, 0.999))\n",
    "disc_opt = torch.optim.Adam(disc.parameters(), lr=0.001, betas=(0.5, 0.999))"
   ]
  },
  {
   "cell_type": "code",
   "execution_count": 12,
   "id": "b75fdd85",
   "metadata": {
    "execution": {
     "iopub.execute_input": "2022-06-11T15:57:50.984202Z",
     "iopub.status.busy": "2022-06-11T15:57:50.983791Z",
     "iopub.status.idle": "2022-06-11T15:58:51.679358Z",
     "shell.execute_reply": "2022-06-11T15:58:51.679668Z"
    },
    "papermill": {
     "duration": 60.708364,
     "end_time": "2022-06-11T15:58:51.679792",
     "exception": false,
     "start_time": "2022-06-11T15:57:50.971428",
     "status": "completed"
    },
    "tags": []
   },
   "outputs": [
    {
     "data": {
      "image/png": "[encoded data removed]",
      "text/plain": [
       "<Figure size 432x288 with 1 Axes>"
      ]
     },
     "metadata": {
      "needs_background": "light"
     },
     "output_type": "display_data"
    },
    {
     "data": {
      "image/png": "[encoded data removed]",
      "text/plain": [
       "<Figure size 432x288 with 1 Axes>"
      ]
     },
     "metadata": {
      "needs_background": "light"
     },
     "output_type": "display_data"
    }
   ],
   "source": [
    "#Training the ABC_GAN \n",
    "ABC_train_test2.training_GAN(disc,gen,disc_opt,gen_opt,train_data,batch_size,n_epochs,criterion,prior_model,variance,bias,device)"
   ]
  },
  {
   "cell_type": "code",
   "execution_count": 13,
   "id": "1fa7c368",
   "metadata": {
    "execution": {
     "iopub.execute_input": "2022-06-11T15:58:51.704817Z",
     "iopub.status.busy": "2022-06-11T15:58:51.704425Z",
     "iopub.status.idle": "2022-06-11T15:58:52.020024Z",
     "shell.execute_reply": "2022-06-11T15:58:52.020402Z"
    },
    "papermill": {
     "duration": 0.329869,
     "end_time": "2022-06-11T15:58:52.020523",
     "exception": false,
     "start_time": "2022-06-11T15:58:51.690654",
     "status": "completed"
    },
    "tags": []
   },
   "outputs": [
    {
     "data": {
      "application/scrapbook.scrap.json+json": {
       "data": 0.13813288369348628,
       "encoder": "json",
       "name": "ABC-GAN Model 1 MSE",
       "version": 1
      }
     },
     "metadata": {
      "scrapbook": {
       "data": true,
       "display": false,
       "name": "ABC-GAN Model 1 MSE"
      }
     },
     "output_type": "display_data"
    },
    {
     "data": {
      "application/scrapbook.scrap.json+json": {
       "data": 0.25262875077332936,
       "encoder": "json",
       "name": "ABC-GAN Model 1 MAE",
       "version": 1
      }
     },
     "metadata": {
      "scrapbook": {
       "data": true,
       "display": false,
       "name": "ABC-GAN Model 1 MAE"
      }
     },
     "output_type": "display_data"
    },
    {
     "data": {
      "application/scrapbook.scrap.json+json": {
       "data": 25.768132578879595,
       "encoder": "json",
       "name": "ABC-GAN Model 1 Manhattan Distance",
       "version": 1
      }
     },
     "metadata": {
      "scrapbook": {
       "data": true,
       "display": false,
       "name": "ABC-GAN Model 1 Manhattan Distance"
      }
     },
     "output_type": "display_data"
    },
    {
     "data": {
      "application/scrapbook.scrap.json+json": {
       "data": 3.753589538895161,
       "encoder": "json",
       "name": "ABC-GAN Model 1 Euclidean distance",
       "version": 1
      }
     },
     "metadata": {
      "scrapbook": {
       "data": true,
       "display": false,
       "name": "ABC-GAN Model 1 Euclidean distance"
      }
     },
     "output_type": "display_data"
    },
    {
     "data": {
      "application/scrapbook.scrap.json+json": {
       "data": [
        [
         0.13758127094245318,
         0.13732931242093213,
         0.13898434041022995,
         0.13744907632870615,
         0.13880770833643305,
         0.13819019678921315,
         0.13799765096712002,
         0.1376327307349699,
         0.1388210577201822,
         0.13751204054457292,
         0.1375492620138855,
         0.1389125927743733,
         0.1375717905812068,
         0.13721681104101732,
         0.13830465043566173,
         0.13824552438310989,
         0.1379122194782751,
         0.13857426845549004,
         0.138713318769381,
         0.13823898585218783,
         0.13850010186835848,
         0.13707475735601304,
         0.13829095520336313,
         0.13773459294555068,
         0.13749011625727797,
         0.13876798534394,
         0.13890160630676757,
         0.1367210800021681,
         0.1389019472463033,
         0.1393663342774928,
         0.13759395892141563,
         0.13951796740616645,
         0.13608974913723604,
         0.13778006682806848,
         0.1378513864131769,
         0.1387359637256376,
         0.13675817054297765,
         0.1367754453861725,
         0.13851944540486802,
         0.13872564190788336,
         0.13738593795356066,
         0.1387727800111776,
         0.1385398057157381,
         0.13934388295399674,
         0.13780744364233438,
         0.14000291930254125,
         0.13959375288743722,
         0.1373433899877869,
         0.13822215681519745,
         0.13863760084008286,
         0.13767605113870968,
         0.13831229134449802,
         0.13804381128555007,
         0.13922420481800712,
         0.13693630492282682,
         0.13833493803481348,
         0.1388289810879506,
         0.13799817922732885,
         0.13868371251018222,
         0.13633808994485436,
         0.13814807775981006,
         0.13810994993334313,
         0.13756252617014106,
         0.13852024783776398,
         0.13819725013122897,
         0.13994599065226943,
         0.13724261912354713,
         0.13730506800762846,
         0.13738057801058545,
         0.1372920111319277,
         0.1378148552986199,
         0.13772258945500576,
         0.13953415946881384,
         0.1385839202309555,
         0.1394245671402873,
         0.13784973197657296,
         0.13729037438481295,
         0.13788170138671596,
         0.13793353850129456,
         0.1393957017341936,
         0.13752115229122355,
         0.13867083009174802,
         0.13760783259466128,
         0.13833585298476703,
         0.13826748066079414,
         0.1372232540225067,
         0.1383567755042642,
         0.1382318209785825,
         0.13640874300999897,
         0.13843245405911447,
         0.1395911321742873,
         0.13839057565022178,
         0.13824049837951452,
         0.13915744593020518,
         0.13697814652683105,
         0.13869832795661058,
         0.13844332037373172,
         0.13806100078632494,
         0.1386159140150749,
         0.1372520371378331
        ],
        [
         0.2527936014949399,
         0.25251971022682446,
         0.253819622775065,
         0.25339640828543436,
         0.2534328183597502,
         0.2530851744151875,
         0.2538626788037957,
         0.2528558364138007,
         0.25348191264578523,
         0.25399061363628683,
         0.2527153206185675,
         0.2533951755795701,
         0.25236581322536167,
         0.2508771055213669,
         0.2533439968110007,
         0.2539768425163393,
         0.2532314488883404,
         0.2521748535663766,
         0.2519775270210469,
         0.2534006761167856,
         0.25340994661126065,
         0.2514585942650835,
         0.2528046272220273,
         0.25261583184713826,
         0.25071884573017267,
         0.253721292605441,
         0.25311117011177187,
         0.2505699651242763,
         0.25242531056716744,
         0.2526774940208769,
         0.25194590872920614,
         0.25311246961720435,
         0.25155206523178253,
         0.2535172065208648,
         0.2533966568937781,
         0.25279544434491913,
         0.2516210419764998,
         0.25031516611503035,
         0.2537672807663387,
         0.2545607445907651,
         0.25189723730014235,
         0.25257117836279613,
         0.25327890441186873,
         0.25326771495462047,
         0.2533709853339721,
         0.25619292870967414,
         0.25480707798737523,
         0.2518942401945299,
         0.2531401061945978,
         0.2528306294561309,
         0.2511210314673828,
         0.2513643858369951,
         0.25090198574916406,
         0.25424296231757776,
         0.2501150960029632,
         0.2531261548728627,
         0.25314179539461346,
         0.2529286425012876,
         0.25282668652852963,
         0.2515250073526712,
         0.2523260092654941,
         0.2514561247993626,
         0.2514424262860534,
         0.2513247201146156,
         0.25307061064842284,
         0.2541862583226141,
         0.25156420796160023,
         0.2520977201889835,
         0.2511930583848381,
         0.2505344542327757,
         0.25227413178585906,
         0.25234316437340837,
         0.2530608618558914,
         0.25232446243000384,
         0.2543078403664278,
         0.2528111202934501,
         0.25193729728241177,
         0.25235619773978696,
         0.25266468249188334,
         0.2533675497763005,
         0.252201840884107,
         0.2535604913627692,
         0.25251844238635957,
         0.2532143262123652,
         0.2526000806258297,
         0.25209353194005935,
         0.25244422426775975,
         0.25248296871123943,
         0.24975933417604834,
         0.2525647647277105,
         0.2529952637668626,
         0.25352647694229496,
         0.25302042806630626,
         0.252826881120164,
         0.2518977653783034,
         0.25159401305969437,
         0.25359358980009955,
         0.2528012257763276,
         0.2528489428371483,
         0.2523486359483179
        ],
        [
         25.78494735248387,
         25.757010443136096,
         25.889601523056626,
         25.846433645114303,
         25.850147472694516,
         25.814687790349126,
         25.89399323798716,
         25.791295314207673,
         25.855155089870095,
         25.907042590901256,
         25.776962703093886,
         25.84630790911615,
         25.741312948986888,
         25.58946476317942,
         25.841087674722075,
         25.905637936666608,
         25.829607786610723,
         25.721835063770413,
         25.70170775614679,
         25.84686896391213,
         25.847814554348588,
         25.648776615038514,
         25.78607197664678,
         25.766814848408103,
         25.57332226447761,
         25.87957184575498,
         25.817339351400733,
         25.558136442676187,
         25.74738167785108,
         25.773104390129447,
         25.698482690379024,
         25.817471900954843,
         25.65831065364182,
         25.858755065128207,
         25.846459003165364,
         25.78513532318175,
         25.66534628160298,
         25.532146943733096,
         25.884262638166547,
         25.965195948258042,
         25.69351820461452,
         25.762260193005204,
         25.83444825001061,
         25.83330692537129,
         25.843840504065156,
         26.13167872838676,
         25.99032195471227,
         25.693212499842048,
         25.82029083184898,
         25.78872420452535,
         25.614345209673047,
         25.639167355373502,
         25.592002546414733,
         25.932782156392932,
         25.51173979230225,
         25.818867797032,
         25.820463130250573,
         25.798721535131335,
         25.78832202591002,
         25.655550749972463,
         25.7372529450804,
         25.648524729534984,
         25.64712748117745,
         25.635121451690793,
         25.81320228613913,
         25.926998348906636,
         25.65954921208322,
         25.71396745927632,
         25.621691955253482,
         25.55451433174312,
         25.731961442157626,
         25.73900276608765,
         25.812207909300923,
         25.73709516786039,
         25.939399717375636,
         25.786734269931912,
         25.697604322806,
         25.74033216945827,
         25.7717976141721,
         25.84349007718265,
         25.724587770178914,
         25.86317011900246,
         25.756881123408675,
         25.827861273661256,
         25.765208223834634,
         25.713540257886052,
         25.749310875311494,
         25.753262808546424,
         25.47545208595693,
         25.761606002226472,
         25.805516904219985,
         25.859700648114085,
         25.808083662763238,
         25.78834187425673,
         25.693572068586946,
         25.662589332088828,
         25.866546159610152,
         25.785725029185414,
         25.79059216938913,
         25.739560866728425
        ],
        [
         3.7461032602065605,
         3.7426714879795524,
         3.7651564007147766,
         3.7443031107975258,
         3.7627631137657565,
         3.75438411360635,
         3.751767636547636,
         3.746803775882442,
         3.762944045220256,
         3.745160628804382,
         3.745667460602492,
         3.7641844353041565,
         3.745974190952614,
         3.7411381591948407,
         3.7559385437514146,
         3.7551356150047646,
         3.7506061359177743,
         3.7595977687061124,
         3.761483552333688,
         3.7550468115488465,
         3.758591543460471,
         3.7392011513575096,
         3.7557525784778516,
         3.748190027259313,
         3.7448620613104504,
         3.762224674987111,
         3.76403557944001,
         3.7343741323307635,
         3.7640401989249446,
         3.770327054289092,
         3.746275992233406,
         3.772377589190798,
         3.72574212902585,
         3.7488087196418793,
         3.749778848698152,
         3.7617905709934245,
         3.7348806400451027,
         3.735116521527755,
         3.7588540050521426,
         3.761650631651496,
         3.743443023643232,
         3.7622896700201216,
         3.759130242889342,
         3.770023350233745,
         3.749181144132423,
         3.7789281243309203,
         3.773402018672089,
         3.7428633128601234,
         3.7548182372985965,
         3.7604567921581613,
         3.747393389564056,
         3.756042294375663,
         3.752395068636311,
         3.7684040244428036,
         3.737312283196085,
         3.756349781310437,
         3.7630514308166134,
         3.751774817494721,
         3.7610821150353235,
         3.7291400046626233,
         3.7538119201021005,
         3.7532938724806773,
         3.7458480574303046,
         3.7588648924179124,
         3.75447992582,
         3.7781597433845326,
         3.741489963985178,
         3.742341103744834,
         3.7433700000240044,
         3.742163162591474,
         3.7492819633176735,
         3.7480266973983234,
         3.7725964886029097,
         3.7597286954722495,
         3.7711146692071438,
         3.749756346965819,
         3.7421408561478446,
         3.750191133988377,
         3.750896016571513,
         3.7707242774946756,
         3.745284706628429,
         3.7609074263212454,
         3.7464648569892463,
         3.756362203574921,
         3.755433800162239,
         3.741225990273199,
         3.756646257160094,
         3.7549494989700483,
         3.730106136160189,
         3.757673524140925,
         3.7733665978509565,
         3.7571050978542795,
         3.7550673542175623,
         3.767500429313967,
         3.737883217241647,
         3.7612802942049237,
         3.7578210013411546,
         3.752628689359653,
         3.760162659983958,
         3.741618338107052
        ]
       ],
       "encoder": "json",
       "name": "ABC_GAN_1 Metrics",
       "version": 1
      }
     },
     "metadata": {
      "scrapbook": {
       "data": true,
       "display": false,
       "name": "ABC_GAN_1 Metrics"
      }
     },
     "output_type": "display_data"
    },
    {
     "name": "stdout",
     "output_type": "stream",
     "text": [
      "MSE\n",
      "0.13813288369348628\n"
     ]
    }
   ],
   "source": [
    "ABC_GAN1_metrics=ABC_train_test2.test_generator(gen,test_data,prior_model,variance,bias,\"1\",device)\n",
    "sb.glue(\"ABC_GAN_1 Metrics\",ABC_GAN1_metrics)\n",
    "\n",
    "print(\"MSE\")\n",
    "print(mean(ABC_GAN1_metrics[0]))"
   ]
  },
  {
   "cell_type": "code",
   "execution_count": 14,
   "id": "eb22ce5c",
   "metadata": {
    "execution": {
     "iopub.execute_input": "2022-06-11T15:58:52.048957Z",
     "iopub.status.busy": "2022-06-11T15:58:52.048594Z",
     "iopub.status.idle": "2022-06-11T15:58:52.371674Z",
     "shell.execute_reply": "2022-06-11T15:58:52.371970Z"
    },
    "papermill": {
     "duration": 0.338075,
     "end_time": "2022-06-11T15:58:52.372088",
     "exception": false,
     "start_time": "2022-06-11T15:58:52.034013",
     "status": "completed"
    },
    "tags": []
   },
   "outputs": [
    {
     "data": {
      "image/png": "[encoded data removed]",
      "text/plain": [
       "<Figure size 432x288 with 1 Axes>"
      ]
     },
     "metadata": {
      "needs_background": "light"
     },
     "output_type": "display_data"
    },
    {
     "data": {
      "image/png": "[encoded data removed]",
      "text/plain": [
       "<Figure size 432x288 with 1 Axes>"
      ]
     },
     "metadata": {
      "needs_background": "light"
     },
     "output_type": "display_data"
    },
    {
     "data": {
      "image/png": "[encoded data removed]",
      "text/plain": [
       "<Figure size 432x288 with 1 Axes>"
      ]
     },
     "metadata": {
      "needs_background": "light"
     },
     "output_type": "display_data"
    },
    {
     "data": {
      "image/png": "[encoded data removed]",
      "text/plain": [
       "<Figure size 432x288 with 1 Axes>"
      ]
     },
     "metadata": {
      "needs_background": "light"
     },
     "output_type": "display_data"
    }
   ],
   "source": [
    "sanityChecks.discProbVsError(train_data,disc,device)\n",
    "sanityChecks.discProbVsError(test_data,disc,device)"
   ]
  },
  {
   "cell_type": "markdown",
   "id": "130f3a4d",
   "metadata": {
    "id": "130f3a4d",
    "papermill": {
     "duration": 0.014356,
     "end_time": "2022-06-11T15:58:52.401366",
     "exception": false,
     "start_time": "2022-06-11T15:58:52.387010",
     "status": "completed"
    },
    "tags": []
   },
   "source": [
    "# ABC - GAN Model with skip connection"
   ]
  },
  {
   "cell_type": "code",
   "execution_count": 15,
   "id": "4e43dad1",
   "metadata": {
    "execution": {
     "iopub.execute_input": "2022-06-11T15:58:52.434411Z",
     "iopub.status.busy": "2022-06-11T15:58:52.434018Z",
     "iopub.status.idle": "2022-06-11T15:58:52.436560Z",
     "shell.execute_reply": "2022-06-11T15:58:52.436820Z"
    },
    "id": "4e43dad1",
    "papermill": {
     "duration": 0.021051,
     "end_time": "2022-06-11T15:58:52.436950",
     "exception": false,
     "start_time": "2022-06-11T15:58:52.415899",
     "status": "completed"
    },
    "tags": []
   },
   "outputs": [],
   "source": [
    "#Generator\n",
    "gen3 = network.GeneratorWithSkipConnection(n_features+1).to(device)\n",
    "constraints=network.weightConstraint()\n",
    "#Discriminator \n",
    "disc3 = network.Discriminator(n_features+1).to(device)\n",
    "\n",
    "criterion = torch.nn.BCELoss()\n",
    "gen_opt = torch.optim.Adam(gen3.parameters(), lr=0.001, betas=(0.5, 0.999))\n",
    "disc_opt = torch.optim.Adam(disc3.parameters(), lr=0.001, betas=(0.5, 0.999))\n"
   ]
  },
  {
   "cell_type": "code",
   "execution_count": 16,
   "id": "26acbc37",
   "metadata": {
    "execution": {
     "iopub.execute_input": "2022-06-11T15:58:52.469108Z",
     "iopub.status.busy": "2022-06-11T15:58:52.468737Z",
     "iopub.status.idle": "2022-06-11T16:13:05.981968Z",
     "shell.execute_reply": "2022-06-11T16:13:05.982277Z"
    },
    "id": "26acbc37",
    "papermill": {
     "duration": 853.530396,
     "end_time": "2022-06-11T16:13:05.982402",
     "exception": false,
     "start_time": "2022-06-11T15:58:52.452006",
     "status": "completed"
    },
    "tags": []
   },
   "outputs": [
    {
     "data": {
      "image/png": "[encoded data removed]",
      "text/plain": [
       "<Figure size 432x288 with 1 Axes>"
      ]
     },
     "metadata": {
      "needs_background": "light"
     },
     "output_type": "display_data"
    },
    {
     "data": {
      "image/png": "[encoded data removed]",
      "text/plain": [
       "<Figure size 432x288 with 1 Axes>"
      ]
     },
     "metadata": {
      "needs_background": "light"
     },
     "output_type": "display_data"
    }
   ],
   "source": [
    "ABC_train_test2.training_GAN_skip_connection(disc3,gen3,disc_opt,gen_opt,train_data,batch_size,n_epochs,criterion,prior_model,variance,bias,device)"
   ]
  },
  {
   "cell_type": "code",
   "execution_count": 17,
   "id": "c5e0717b",
   "metadata": {
    "execution": {
     "iopub.execute_input": "2022-06-11T16:13:06.018778Z",
     "iopub.status.busy": "2022-06-11T16:13:06.018318Z",
     "iopub.status.idle": "2022-06-11T16:13:06.846319Z",
     "shell.execute_reply": "2022-06-11T16:13:06.846625Z"
    },
    "id": "c5e0717b",
    "papermill": {
     "duration": 0.848,
     "end_time": "2022-06-11T16:13:06.846746",
     "exception": false,
     "start_time": "2022-06-11T16:13:05.998746",
     "status": "completed"
    },
    "tags": []
   },
   "outputs": [
    {
     "data": {
      "application/scrapbook.scrap.json+json": {
       "data": 0.15137620929706816,
       "encoder": "json",
       "name": "ABC-GAN Model 3 MSE",
       "version": 1
      }
     },
     "metadata": {
      "scrapbook": {
       "data": true,
       "display": false,
       "name": "ABC-GAN Model 3 MSE"
      }
     },
     "output_type": "display_data"
    },
    {
     "data": {
      "application/scrapbook.scrap.json+json": {
       "data": 0.24581284892106173,
       "encoder": "json",
       "name": "ABC-GAN Model 3 MAE",
       "version": 1
      }
     },
     "metadata": {
      "scrapbook": {
       "data": true,
       "display": false,
       "name": "ABC-GAN Model 3 MAE"
      }
     },
     "output_type": "display_data"
    },
    {
     "data": {
      "application/scrapbook.scrap.json+json": {
       "data": 25.072910589948297,
       "encoder": "json",
       "name": "ABC-GAN Model 3 Manhattan Distance",
       "version": 1
      }
     },
     "metadata": {
      "scrapbook": {
       "data": true,
       "display": false,
       "name": "ABC-GAN Model 3 Manhattan Distance"
      }
     },
     "output_type": "display_data"
    },
    {
     "data": {
      "application/scrapbook.scrap.json+json": {
       "data": 3.9294122771498365,
       "encoder": "json",
       "name": "ABC-GAN Model 3 Euclidean distance",
       "version": 1
      }
     },
     "metadata": {
      "scrapbook": {
       "data": true,
       "display": false,
       "name": "ABC-GAN Model 3 Euclidean distance"
      }
     },
     "output_type": "display_data"
    },
    {
     "data": {
      "application/scrapbook.scrap.json+json": {
       "data": [
        [
         0.1523673255766165,
         0.15056182820217895,
         0.15099361508122947,
         0.15188845456059127,
         0.15102038692427833,
         0.15097740126198217,
         0.15079315870516333,
         0.15353095875213002,
         0.15119575394651127,
         0.1520898210734659,
         0.15197915643742574,
         0.15141618140319954,
         0.15058945332993554,
         0.1506118519657581,
         0.15165027927058705,
         0.15163249138978577,
         0.15122240677833715,
         0.15238751109579726,
         0.15218096212663776,
         0.150104205412026,
         0.15107721937070454,
         0.15187809846446865,
         0.15253485498397157,
         0.15052119183091228,
         0.15144506531045132,
         0.15104104806585986,
         0.15225256966438588,
         0.15198147899600237,
         0.1511283168203649,
         0.15221268578371083,
         0.15145458228882752,
         0.15082366044825898,
         0.15194257760508093,
         0.15252460739149404,
         0.15096015919609232,
         0.1496556700771994,
         0.1521517267943656,
         0.15154123217590545,
         0.1518602166659711,
         0.15166513857613306,
         0.15043439477221607,
         0.15113942863631472,
         0.1522082689771626,
         0.15177871084346983,
         0.15033738549705247,
         0.15123991651391627,
         0.15103530743455243,
         0.15141328334501078,
         0.15116960389826187,
         0.15065025164993817,
         0.1511301604725395,
         0.1520656100612369,
         0.15002823884011035,
         0.15161340854313168,
         0.15129624260759006,
         0.15200387354795047,
         0.1502819415378744,
         0.15086136619711799,
         0.15102944003027838,
         0.15073745704298278,
         0.15193552143877798,
         0.15211183796680375,
         0.15063130623113402,
         0.1520881633484641,
         0.15127701337607297,
         0.15161607134168165,
         0.1516787171590118,
         0.15043576397458758,
         0.15003299909141943,
         0.15118356082822962,
         0.15125394939012296,
         0.15173992667448702,
         0.15215802972512135,
         0.15078851557475795,
         0.15103241642404586,
         0.15303173997118777,
         0.15177227001687238,
         0.15055264503696264,
         0.15237954106071844,
         0.15038124307737827,
         0.15099874898685137,
         0.1515278599578465,
         0.15111754156823934,
         0.1512973206021999,
         0.15079606263100975,
         0.15073152063756917,
         0.15090092083921952,
         0.15124902317233413,
         0.15169414662800304,
         0.15227118639195752,
         0.15196638394510747,
         0.15234574171042664,
         0.15277210613522132,
         0.15180464616900996,
         0.15074097108148068,
         0.15029914985815554,
         0.1506847127640399,
         0.1500082883201411,
         0.15120219552092556,
         0.15283157682673387
        ],
        [
         0.24706596729583016,
         0.24370308638568602,
         0.24631220228312647,
         0.2455453540508946,
         0.24491754358670875,
         0.24521929589921937,
         0.24559184275202306,
         0.24801928281564922,
         0.24583130850292303,
         0.24590498042822467,
         0.24712597690157445,
         0.24625442960463903,
         0.24662030453556308,
         0.24376481985125473,
         0.24609715164657317,
         0.24623954305242673,
         0.244897202040781,
         0.24656919033869223,
         0.24737727154484568,
         0.2446519823964028,
         0.24615374216627256,
         0.24686820200626172,
         0.24841500272718714,
         0.24528581964984245,
         0.24595476549995296,
         0.24513478849229275,
         0.24728746136979146,
         0.2465518164612791,
         0.24647433071525074,
         0.24472283274300544,
         0.24480018613166085,
         0.24520155679726718,
         0.24449213092014485,
         0.24578807234544964,
         0.2462137941380634,
         0.24345073375997006,
         0.24503363824139038,
         0.24640587039803172,
         0.24576353626873562,
         0.24475711534785874,
         0.2460712987162611,
         0.24485778262583063,
         0.24727748869461755,
         0.2471381865040052,
         0.24583326639863207,
         0.2468745665551693,
         0.2436659138321,
         0.24568437983957575,
         0.2451528180207984,
         0.24616075126344666,
         0.24549772731010236,
         0.24873855134800954,
         0.24532038333150102,
         0.24624916160588756,
         0.24585144377003113,
         0.2462885249223487,
         0.24397426531376207,
         0.24548654062856062,
         0.24595500479507096,
         0.2454587388601081,
         0.24604996054561115,
         0.24590276658315868,
         0.2443318397135419,
         0.24642334157126208,
         0.24497783719105462,
         0.24703057674581513,
         0.24692474606939974,
         0.24542050394138284,
         0.2430134881105201,
         0.24571301198254028,
         0.2450960638805055,
         0.2459237760517235,
         0.24730850151721753,
         0.24432303546471337,
         0.24536451648044236,
         0.2486517114710866,
         0.24593504804971755,
         0.24556697534360722,
         0.2466155411310348,
         0.24542803662445614,
         0.24484053993707194,
         0.24603149625381418,
         0.24638424939749873,
         0.24657542369894536,
         0.246628717848045,
         0.24547625736643872,
         0.24565523462917874,
         0.2459511196825142,
         0.24642963628923775,
         0.24626449168678008,
         0.24553557479863658,
         0.24632530011163623,
         0.24597931560128927,
         0.24607311636574714,
         0.2451395682588804,
         0.2447043108918211,
         0.24634904408936992,
         0.2443719355243386,
         0.2440404016341941,
         0.2465269531433781
        ],
        [
         25.200728664174676,
         24.857714811339974,
         25.1238446328789,
         25.045626113191247,
         24.981589445844293,
         25.012368181720376,
         25.050367960706353,
         25.29796684719622,
         25.07479346729815,
         25.082308003678918,
         25.206849643960595,
         25.11795181967318,
         25.155271062627435,
         24.86401162482798,
         25.101909467950463,
         25.116433391347528,
         24.97951460815966,
         25.15005741454661,
         25.232481697574258,
         24.954502204433084,
         25.1076817009598,
         25.180556604638696,
         25.33833027817309,
         25.01915360428393,
         25.087386080995202,
         25.00374842621386,
         25.223321059718728,
         25.14828527905047,
         25.140381732955575,
         24.961728939786553,
         24.969618985429406,
         25.010558793321252,
         24.938197353854775,
         25.070383379235864,
         25.113807002082467,
         24.831974843516946,
         24.99343110062182,
         25.133398780599236,
         25.067880699411035,
         24.96522576548159,
         25.099272469058633,
         24.975493827834725,
         25.22230384685099,
         25.208095023408532,
         25.07499317266047,
         25.181205788627267,
         24.8539232108742,
         25.059806743636727,
         25.005587438121438,
         25.10839662887156,
         25.04076818563044,
         25.371332237496972,
         25.022679099813104,
         25.11741448380053,
         25.076847264543176,
         25.121429542079568,
         24.88537506200373,
         25.039627144113183,
         25.087410489097238,
         25.036791363731027,
         25.097095975652337,
         25.082082191482186,
         24.921847650781274,
         25.13518084026873,
         24.987739393487573,
         25.197118828073144,
         25.186324099078774,
         25.03289140202105,
         24.78737578727305,
         25.06272722221911,
         24.999798515811563,
         25.084225157275796,
         25.22546715475619,
         24.920949617400765,
         25.02718068100512,
         25.362474570050836,
         25.08537490107119,
         25.047831485047936,
         25.154785195365548,
         25.033659735694528,
         24.973735073581338,
         25.095212617889047,
         25.13119343854487,
         25.150693217292428,
         25.15612922050059,
         25.038578251376748,
         25.056833932176232,
         25.08701420761645,
         25.13582290150225,
         25.118978152051568,
         25.04462862946093,
         25.125180611386895,
         25.089890191331506,
         25.099457869306207,
         25.0042359624058,
         24.959839710965753,
         25.12760249711573,
         24.925937423482537,
         24.8921209666878,
         25.145749220624566
        ],
        [
         3.9422667602300687,
         3.918839940163702,
         3.9244552154770993,
         3.9360668649275143,
         3.9248031117848945,
         3.924244504197232,
         3.921849332639725,
         3.9572917244900285,
         3.9270812192446636,
         3.9386751261678747,
         3.93724192254139,
         3.929942811686495,
         3.919199438616696,
         3.919490898127884,
         3.932979593844834,
         3.9327489268650435,
         3.927427337506118,
         3.9425278859852493,
         3.939855090852588,
         3.9128798795805952,
         3.925541539177985,
         3.9359326776986165,
         3.9444334458024644,
         3.9183110604893345,
         3.9303176285977233,
         3.9250715793113518,
         3.940781915529881,
         3.9372720070617726,
         3.9262053328471267,
         3.9402657207272846,
         3.9304411194496227,
         3.9222459593608376,
         3.936768080001444,
         3.94430094616681,
         3.924020417633096,
         3.9070293507822975,
         3.939476631866889,
         3.9315652966652292,
         3.935700966782036,
         3.9331722737207393,
         3.9171811633834395,
         3.9263496687004458,
         3.940208552306666,
         3.9346446479998574,
         3.915917941006853,
         3.9276547053450948,
         3.924996988320417,
         3.929905202570553,
         3.926741600566901,
         3.919990518903546,
         3.9262292811550155,
         3.9383616169983884,
         3.9118896152232177,
         3.9325014521802064,
         3.9283860230346743,
         3.9375620759412735,
         3.915195785253042,
         3.9227362073055634,
         3.9249207486379127,
         3.9211249174674663,
         3.936676667794213,
         3.9389602019586314,
         3.919744026792524,
         3.938653661029786,
         3.9281363729330274,
         3.9325359854490243,
         3.93334833827608,
         3.9171989897639783,
         3.9119516749730923,
         3.926922867141576,
         3.9278369158854525,
         3.9341419039985923,
         3.939558228020291,
         3.9217889525859637,
         3.924959423389327,
         3.9508527531485087,
         3.9345611625340102,
         3.918720428120663,
         3.942424785356504,
         3.9164890902302516,
         3.924521932243319,
         3.9313918293271586,
         3.926065363689251,
         3.928400018000253,
         3.921887095310496,
         3.9210477050186543,
         3.9232504286115093,
         3.9277729521419738,
         3.9335483924894468,
         3.941022838297143,
         3.9370764740351385,
         3.9419875259142456,
         3.9474998196064015,
         3.9349808016353793,
         3.9211706224431278,
         3.91541993731603,
         3.9204388404784574,
         3.9116295081020125,
         3.9271648734340667,
         3.9482680806053247
        ]
       ],
       "encoder": "json",
       "name": "ABC_GAN_3 Metrics",
       "version": 1
      }
     },
     "metadata": {
      "scrapbook": {
       "data": true,
       "display": false,
       "name": "ABC_GAN_3 Metrics"
      }
     },
     "output_type": "display_data"
    },
    {
     "name": "stdout",
     "output_type": "stream",
     "text": [
      "MSE\n",
      "0.15137620929706816\n"
     ]
    }
   ],
   "source": [
    "ABC_GAN3_metrics=ABC_train_test2.test_generator(gen3,test_data,prior_model,variance,bias,\"3\",device)\n",
    "sb.glue(\"ABC_GAN_3 Metrics\",ABC_GAN3_metrics)\n",
    "\n",
    "print(\"MSE\")\n",
    "print(mean(ABC_GAN3_metrics[0]))"
   ]
  },
  {
   "cell_type": "code",
   "execution_count": 18,
   "id": "c8e46b48",
   "metadata": {
    "execution": {
     "iopub.execute_input": "2022-06-11T16:13:06.883662Z",
     "iopub.status.busy": "2022-06-11T16:13:06.883292Z",
     "iopub.status.idle": "2022-06-11T16:13:07.202177Z",
     "shell.execute_reply": "2022-06-11T16:13:07.202564Z"
    },
    "id": "c8e46b48",
    "papermill": {
     "duration": 0.339034,
     "end_time": "2022-06-11T16:13:07.202686",
     "exception": false,
     "start_time": "2022-06-11T16:13:06.863652",
     "status": "completed"
    },
    "tags": []
   },
   "outputs": [
    {
     "data": {
      "image/png": "[encoded data removed]",
      "text/plain": [
       "<Figure size 432x288 with 1 Axes>"
      ]
     },
     "metadata": {
      "needs_background": "light"
     },
     "output_type": "display_data"
    },
    {
     "data": {
      "image/png": "[encoded data removed]",
      "text/plain": [
       "<Figure size 432x288 with 1 Axes>"
      ]
     },
     "metadata": {
      "needs_background": "light"
     },
     "output_type": "display_data"
    },
    {
     "data": {
      "image/png": "[encoded data removed]",
      "text/plain": [
       "<Figure size 432x288 with 1 Axes>"
      ]
     },
     "metadata": {
      "needs_background": "light"
     },
     "output_type": "display_data"
    },
    {
     "data": {
      "image/png": "[encoded data removed]",
      "text/plain": [
       "<Figure size 432x288 with 1 Axes>"
      ]
     },
     "metadata": {
      "needs_background": "light"
     },
     "output_type": "display_data"
    }
   ],
   "source": [
    "sanityChecks.discProbVsError(train_data,disc3,device)\n",
    "sanityChecks.discProbVsError(test_data,disc3,device)"
   ]
  },
  {
   "cell_type": "markdown",
   "id": "a5bd74c3",
   "metadata": {
    "id": "a5bd74c3",
    "papermill": {
     "duration": 0.019252,
     "end_time": "2022-06-11T16:13:07.241208",
     "exception": false,
     "start_time": "2022-06-11T16:13:07.221956",
     "status": "completed"
    },
    "tags": []
   },
   "source": [
    "## Skip Connection Model Analysis - ABC-GAN "
   ]
  },
  {
   "cell_type": "markdown",
   "id": "5744a8bf",
   "metadata": {
    "id": "5744a8bf",
    "papermill": {
     "duration": 0.019168,
     "end_time": "2022-06-11T16:13:07.279268",
     "exception": false,
     "start_time": "2022-06-11T16:13:07.260100",
     "status": "completed"
    },
    "tags": []
   },
   "source": [
    "### Weight Analysis \n",
    "\n",
    "Study the weights of the skip connection layer\n",
    "\n",
    "Equation of the skip connection is \n",
    "\n",
    "$output = y_{gan} * w + y_{abc} * (1-w)$"
   ]
  },
  {
   "cell_type": "code",
   "execution_count": 19,
   "id": "52c31dea",
   "metadata": {
    "execution": {
     "iopub.execute_input": "2022-06-11T16:13:07.319521Z",
     "iopub.status.busy": "2022-06-11T16:13:07.319135Z",
     "iopub.status.idle": "2022-06-11T16:13:07.322565Z",
     "shell.execute_reply": "2022-06-11T16:13:07.322880Z"
    },
    "id": "52c31dea",
    "papermill": {
     "duration": 0.025035,
     "end_time": "2022-06-11T16:13:07.323014",
     "exception": false,
     "start_time": "2022-06-11T16:13:07.297979",
     "status": "completed"
    },
    "tags": []
   },
   "outputs": [
    {
     "name": "stdout",
     "output_type": "stream",
     "text": [
      "Weight of the node at skip connection\n",
      "Parameter containing:\n",
      "tensor([[0.1146]], requires_grad=True)\n"
     ]
    },
    {
     "data": {
      "application/scrapbook.scrap.json+json": {
       "data": 0.11461998522281647,
       "encoder": "json",
       "name": "Skip Connection Weight",
       "version": 1
      }
     },
     "metadata": {
      "scrapbook": {
       "data": true,
       "display": false,
       "name": "Skip Connection Weight"
      }
     },
     "output_type": "display_data"
    }
   ],
   "source": [
    "print(\"Weight of the node at skip connection\")\n",
    "for name,param in gen3.named_parameters():\n",
    "    if(name == \"skipNode.weight\"):\n",
    "        print(param)\n",
    "        sb.glue(\"Skip Connection Weight\",param.item())"
   ]
  }
 ],
 "metadata": {
  "colab": {
   "collapsed_sections": [],
   "name": "ABC_GAN_Model-Catboost_Pre-gen.ipynb",
   "provenance": []
  },
  "interpreter": {
   "hash": "31f2aee4e71d21fbe5cf8b01ff0e069b9275f58929596ceb00d14d90e3e16cd6"
  },
  "kernelspec": {
   "display_name": "Python 3 (ipykernel)",
   "language": "python",
   "name": "python3"
  },
  "language_info": {
   "codemirror_mode": {
    "name": "ipython",
    "version": 3
   },
   "file_extension": ".py",
   "mimetype": "text/x-python",
   "name": "python",
   "nbconvert_exporter": "python",
   "pygments_lexer": "ipython3",
   "version": "3.8.11"
  },
  "papermill": {
   "default_parameters": {},
   "duration": 920.322195,
   "end_time": "2022-06-11T16:13:07.649872",
   "environment_variables": {},
   "exception": null,
   "input_path": "ABC_GAN-Catboost.ipynb",
   "output_path": "./ABC_GAN_Catboost/ABC-GAN_output_2_2.ipynb",
   "parameters": {
    "bias": 1,
    "variance": 0.01
   },
   "start_time": "2022-06-11T15:57:47.327677",
   "version": "2.3.3"
  }
 },
 "nbformat": 4,
 "nbformat_minor": 5
}