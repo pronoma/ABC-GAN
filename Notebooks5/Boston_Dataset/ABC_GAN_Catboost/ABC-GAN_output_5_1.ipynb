{
 "cells": [
  {
   "cell_type": "markdown",
   "id": "622780e6",
   "metadata": {
    "id": "622780e6",
    "papermill": {
     "duration": 0.033469,
     "end_time": "2022-06-12T04:52:22.512132",
     "exception": false,
     "start_time": "2022-06-12T04:52:22.478663",
     "status": "completed"
    },
    "tags": []
   },
   "source": [
    "## Import Libraries "
   ]
  },
  {
   "cell_type": "code",
   "execution_count": 1,
   "id": "a62397e3",
   "metadata": {
    "execution": {
     "iopub.execute_input": "2022-06-12T04:52:22.547708Z",
     "iopub.status.busy": "2022-06-12T04:52:22.547204Z",
     "iopub.status.idle": "2022-06-12T04:52:22.549561Z",
     "shell.execute_reply": "2022-06-12T04:52:22.549963Z"
    },
    "id": "a62397e3",
    "papermill": {
     "duration": 0.021806,
     "end_time": "2022-06-12T04:52:22.550173",
     "exception": false,
     "start_time": "2022-06-12T04:52:22.528367",
     "status": "completed"
    },
    "tags": []
   },
   "outputs": [],
   "source": [
    "import warnings\n",
    "import sys\n",
    "sys.path.insert(0, '../../src')\n",
    "warnings.filterwarnings('ignore')"
   ]
  },
  {
   "cell_type": "code",
   "execution_count": 2,
   "id": "d6a4e155",
   "metadata": {
    "execution": {
     "iopub.execute_input": "2022-06-12T04:52:22.571492Z",
     "iopub.status.busy": "2022-06-12T04:52:22.571035Z",
     "iopub.status.idle": "2022-06-12T04:52:24.410975Z",
     "shell.execute_reply": "2022-06-12T04:52:24.411236Z"
    },
    "id": "d6a4e155",
    "papermill": {
     "duration": 1.851138,
     "end_time": "2022-06-12T04:52:24.411359",
     "exception": false,
     "start_time": "2022-06-12T04:52:22.560221",
     "status": "completed"
    },
    "tags": []
   },
   "outputs": [],
   "source": [
    "import ABC_train_test2\n",
    "import bostonDataset\n",
    "import network\n",
    "import dataset\n",
    "import sanityChecks\n",
    "import torch \n",
    "import scrapbook as sb\n",
    "from statistics import mean \n",
    "import catboost as ctb \n",
    "from sklearn.model_selection import train_test_split\n",
    "from sklearn.metrics import mean_squared_error,mean_absolute_error\n",
    "import numpy as np"
   ]
  },
  {
   "cell_type": "markdown",
   "id": "2fa5b0f7",
   "metadata": {
    "id": "2fa5b0f7",
    "papermill": {
     "duration": 0.006878,
     "end_time": "2022-06-12T04:52:24.425508",
     "exception": false,
     "start_time": "2022-06-12T04:52:24.418630",
     "status": "completed"
    },
    "tags": []
   },
   "source": [
    "## Parameters "
   ]
  },
  {
   "cell_type": "code",
   "execution_count": 3,
   "id": "783186fb",
   "metadata": {
    "execution": {
     "iopub.execute_input": "2022-06-12T04:52:24.441488Z",
     "iopub.status.busy": "2022-06-12T04:52:24.441031Z",
     "iopub.status.idle": "2022-06-12T04:52:24.442221Z",
     "shell.execute_reply": "2022-06-12T04:52:24.442467Z"
    },
    "id": "783186fb",
    "papermill": {
     "duration": 0.010232,
     "end_time": "2022-06-12T04:52:24.442574",
     "exception": false,
     "start_time": "2022-06-12T04:52:24.432342",
     "status": "completed"
    },
    "tags": [
     "parameters"
    ]
   },
   "outputs": [],
   "source": [
    "variance = 1\n",
    "bias = 1 "
   ]
  },
  {
   "cell_type": "code",
   "execution_count": 4,
   "id": "430a5928",
   "metadata": {
    "execution": {
     "iopub.execute_input": "2022-06-12T04:52:24.458308Z",
     "iopub.status.busy": "2022-06-12T04:52:24.457934Z",
     "iopub.status.idle": "2022-06-12T04:52:24.459163Z",
     "shell.execute_reply": "2022-06-12T04:52:24.459396Z"
    },
    "papermill": {
     "duration": 0.009942,
     "end_time": "2022-06-12T04:52:24.459503",
     "exception": false,
     "start_time": "2022-06-12T04:52:24.449561",
     "status": "completed"
    },
    "tags": [
     "injected-parameters"
    ]
   },
   "outputs": [],
   "source": [
    "# Parameters\n",
    "variance = 0.1\n",
    "bias = 1\n"
   ]
  },
  {
   "cell_type": "markdown",
   "id": "391cdbfd",
   "metadata": {
    "id": "391cdbfd",
    "papermill": {
     "duration": 0.006881,
     "end_time": "2022-06-12T04:52:24.473457",
     "exception": false,
     "start_time": "2022-06-12T04:52:24.466576",
     "status": "completed"
    },
    "tags": []
   },
   "source": [
    "## Dataset \n"
   ]
  },
  {
   "cell_type": "code",
   "execution_count": 5,
   "id": "5b51f161",
   "metadata": {
    "execution": {
     "iopub.execute_input": "2022-06-12T04:52:24.489294Z",
     "iopub.status.busy": "2022-06-12T04:52:24.488932Z",
     "iopub.status.idle": "2022-06-12T04:52:24.490208Z",
     "shell.execute_reply": "2022-06-12T04:52:24.490454Z"
    },
    "id": "5b51f161",
    "papermill": {
     "duration": 0.010069,
     "end_time": "2022-06-12T04:52:24.490557",
     "exception": false,
     "start_time": "2022-06-12T04:52:24.480488",
     "status": "completed"
    },
    "tags": []
   },
   "outputs": [],
   "source": [
    "#Parameters \n",
    "n_features = 13\n",
    "n_samples= 506\n",
    "n_target = 1 "
   ]
  },
  {
   "cell_type": "code",
   "execution_count": 6,
   "id": "5d6eced4",
   "metadata": {
    "execution": {
     "iopub.execute_input": "2022-06-12T04:52:24.506497Z",
     "iopub.status.busy": "2022-06-12T04:52:24.506091Z",
     "iopub.status.idle": "2022-06-12T04:52:24.516882Z",
     "shell.execute_reply": "2022-06-12T04:52:24.517137Z"
    },
    "id": "5d6eced4",
    "papermill": {
     "duration": 0.019683,
     "end_time": "2022-06-12T04:52:24.517252",
     "exception": false,
     "start_time": "2022-06-12T04:52:24.497569",
     "status": "completed"
    },
    "tags": []
   },
   "outputs": [
    {
     "name": "stdout",
     "output_type": "stream",
     "text": [
      "         X1        X2        X3        X4        X5        X6        X7  \\\n",
      "0 -0.419782  0.284830 -1.287909 -0.272599 -0.144217  0.413672 -0.120013   \n",
      "1 -0.417339 -0.487722 -0.593381 -0.272599 -0.740262  0.194274  0.367166   \n",
      "2 -0.417342 -0.487722 -0.593381 -0.272599 -0.740262  1.282714 -0.265812   \n",
      "3 -0.416750 -0.487722 -1.306878 -0.272599 -0.835284  1.016303 -0.809889   \n",
      "4 -0.412482 -0.487722 -1.306878 -0.272599 -0.835284  1.228577 -0.511180   \n",
      "\n",
      "         X8        X9       X10       X11       X12       X13         Y  \n",
      "0  0.140214 -0.982843 -0.666608 -1.459000  0.441052 -1.075562  0.159686  \n",
      "1  0.557160 -0.867883 -0.987329 -0.303094  0.441052 -0.492439 -0.101524  \n",
      "2  0.557160 -0.867883 -0.987329 -0.303094  0.396427 -1.208727  1.324247  \n",
      "3  1.077737 -0.752922 -1.106115  0.113032  0.416163 -1.361517  1.182758  \n",
      "4  1.077737 -0.752922 -1.106115  0.113032  0.441052 -1.026501  1.487503  \n"
     ]
    }
   ],
   "source": [
    "X,Y = bostonDataset.boston_data()"
   ]
  },
  {
   "cell_type": "code",
   "execution_count": 7,
   "id": "fe007438",
   "metadata": {
    "execution": {
     "iopub.execute_input": "2022-06-12T04:52:24.534347Z",
     "iopub.status.busy": "2022-06-12T04:52:24.533980Z",
     "iopub.status.idle": "2022-06-12T04:52:24.535627Z",
     "shell.execute_reply": "2022-06-12T04:52:24.535869Z"
    },
    "id": "fe007438",
    "papermill": {
     "duration": 0.011265,
     "end_time": "2022-06-12T04:52:24.535975",
     "exception": false,
     "start_time": "2022-06-12T04:52:24.524710",
     "status": "completed"
    },
    "tags": []
   },
   "outputs": [],
   "source": [
    "#Train test split for dataset \n",
    "X_train,X_test,Y_train,Y_test = train_test_split(X,Y,test_size = 0.2)\n",
    "train_data = dataset.CustomDataset(X_train,Y_train)\n",
    "test_data = dataset.CustomDataset(X_test,Y_test)\n"
   ]
  },
  {
   "cell_type": "markdown",
   "id": "a9a1af34",
   "metadata": {
    "id": "a9a1af34",
    "papermill": {
     "duration": 0.007129,
     "end_time": "2022-06-12T04:52:24.550370",
     "exception": false,
     "start_time": "2022-06-12T04:52:24.543241",
     "status": "completed"
    },
    "tags": []
   },
   "source": [
    "## Training Parameters "
   ]
  },
  {
   "cell_type": "code",
   "execution_count": 8,
   "id": "952b7fc8",
   "metadata": {
    "execution": {
     "iopub.execute_input": "2022-06-12T04:52:24.566898Z",
     "iopub.status.busy": "2022-06-12T04:52:24.566498Z",
     "iopub.status.idle": "2022-06-12T04:52:24.567753Z",
     "shell.execute_reply": "2022-06-12T04:52:24.567987Z"
    },
    "id": "952b7fc8",
    "papermill": {
     "duration": 0.010567,
     "end_time": "2022-06-12T04:52:24.568092",
     "exception": false,
     "start_time": "2022-06-12T04:52:24.557525",
     "status": "completed"
    },
    "tags": []
   },
   "outputs": [],
   "source": [
    "batch_size = 32\n",
    "n_epochs = 1000\n",
    "#Select the device \n",
    "device = torch.device('cuda' if torch.cuda.is_available() else 'cpu')"
   ]
  },
  {
   "cell_type": "markdown",
   "id": "a95e1600",
   "metadata": {
    "id": "a95e1600",
    "papermill": {
     "duration": 0.007139,
     "end_time": "2022-06-12T04:52:24.582516",
     "exception": false,
     "start_time": "2022-06-12T04:52:24.575377",
     "status": "completed"
    },
    "tags": []
   },
   "source": [
    "# ABC Pre-generator Model \n",
    "\n",
    "1. The catboost model is used as a pre-generator model for the ABC-GAN. \n",
    "2. The model is first trained on the entire dataset \n",
    "3. It generats X,Y pairs and we add some Gaussian noise with mean 0 and variance 1 to it which is then feed as input to the generator.\n"
   ]
  },
  {
   "cell_type": "code",
   "execution_count": 9,
   "id": "ff8ce7bd",
   "metadata": {
    "execution": {
     "iopub.execute_input": "2022-06-12T04:52:24.601672Z",
     "iopub.status.busy": "2022-06-12T04:52:24.601296Z",
     "iopub.status.idle": "2022-06-12T04:52:25.632959Z",
     "shell.execute_reply": "2022-06-12T04:52:25.633257Z"
    },
    "id": "ff8ce7bd",
    "papermill": {
     "duration": 1.043607,
     "end_time": "2022-06-12T04:52:25.633385",
     "exception": false,
     "start_time": "2022-06-12T04:52:24.589778",
     "status": "completed"
    },
    "tags": []
   },
   "outputs": [
    {
     "name": "stdout",
     "output_type": "stream",
     "text": [
      "Learning rate set to 0.033215\n",
      "0:\tlearn: 0.9799782\ttotal: 58.6ms\tremaining: 58.6s\n",
      "1:\tlearn: 0.9619133\ttotal: 59.6ms\tremaining: 29.8s\n",
      "2:\tlearn: 0.9427691\ttotal: 60.5ms\tremaining: 20.1s\n",
      "3:\tlearn: 0.9266459\ttotal: 61.6ms\tremaining: 15.3s\n",
      "4:\tlearn: 0.9087545\ttotal: 62.5ms\tremaining: 12.4s\n",
      "5:\tlearn: 0.8919087\ttotal: 63.7ms\tremaining: 10.6s\n",
      "6:\tlearn: 0.8756061\ttotal: 64.7ms\tremaining: 9.18s\n",
      "7:\tlearn: 0.8602357\ttotal: 65.7ms\tremaining: 8.15s\n",
      "8:\tlearn: 0.8450125\ttotal: 66.8ms\tremaining: 7.35s\n",
      "9:\tlearn: 0.8299241\ttotal: 67.8ms\tremaining: 6.71s\n",
      "10:\tlearn: 0.8138891\ttotal: 68.6ms\tremaining: 6.17s\n",
      "11:\tlearn: 0.7989107\ttotal: 69.6ms\tremaining: 5.73s\n",
      "12:\tlearn: 0.7842247\ttotal: 70.7ms\tremaining: 5.37s\n",
      "13:\tlearn: 0.7694829\ttotal: 71.6ms\tremaining: 5.04s\n",
      "14:\tlearn: 0.7562751\ttotal: 72.6ms\tremaining: 4.76s\n",
      "15:\tlearn: 0.7423101\ttotal: 73.5ms\tremaining: 4.52s\n",
      "16:\tlearn: 0.7314503\ttotal: 74.4ms\tremaining: 4.3s\n",
      "17:\tlearn: 0.7195545\ttotal: 75.4ms\tremaining: 4.11s\n",
      "18:\tlearn: 0.7079681\ttotal: 76.3ms\tremaining: 3.94s\n",
      "19:\tlearn: 0.6959733\ttotal: 77.3ms\tremaining: 3.79s\n",
      "20:\tlearn: 0.6828665\ttotal: 78.3ms\tremaining: 3.65s\n",
      "21:\tlearn: 0.6731977\ttotal: 79.3ms\tremaining: 3.52s\n",
      "22:\tlearn: 0.6633841\ttotal: 80.2ms\tremaining: 3.41s\n",
      "23:\tlearn: 0.6543887\ttotal: 81.1ms\tremaining: 3.3s\n",
      "24:\tlearn: 0.6447683\ttotal: 82ms\tremaining: 3.2s\n",
      "25:\tlearn: 0.6351236\ttotal: 82.9ms\tremaining: 3.1s\n",
      "26:\tlearn: 0.6267237\ttotal: 83.6ms\tremaining: 3.01s\n",
      "27:\tlearn: 0.6188007\ttotal: 84.4ms\tremaining: 2.93s\n",
      "28:\tlearn: 0.6100121\ttotal: 85.3ms\tremaining: 2.86s\n",
      "29:\tlearn: 0.6004420\ttotal: 86.4ms\tremaining: 2.79s\n",
      "30:\tlearn: 0.5910834\ttotal: 87.3ms\tremaining: 2.73s\n",
      "31:\tlearn: 0.5835570\ttotal: 88.4ms\tremaining: 2.67s\n",
      "32:\tlearn: 0.5759880\ttotal: 89.3ms\tremaining: 2.62s\n",
      "33:\tlearn: 0.5691803\ttotal: 90.3ms\tremaining: 2.56s\n",
      "34:\tlearn: 0.5617028\ttotal: 91.5ms\tremaining: 2.52s\n",
      "35:\tlearn: 0.5552828\ttotal: 92.4ms\tremaining: 2.48s\n",
      "36:\tlearn: 0.5487397\ttotal: 93.3ms\tremaining: 2.43s\n",
      "37:\tlearn: 0.5436687\ttotal: 94.1ms\tremaining: 2.38s\n",
      "38:\tlearn: 0.5368797\ttotal: 95ms\tremaining: 2.34s\n",
      "39:\tlearn: 0.5303659\ttotal: 96ms\tremaining: 2.3s\n",
      "40:\tlearn: 0.5246419\ttotal: 96.8ms\tremaining: 2.26s\n",
      "41:\tlearn: 0.5171949\ttotal: 97.5ms\tremaining: 2.23s\n",
      "42:\tlearn: 0.5113009\ttotal: 98.4ms\tremaining: 2.19s\n"
     ]
    },
    {
     "name": "stdout",
     "output_type": "stream",
     "text": [
      "43:\tlearn: 0.5059701\ttotal: 108ms\tremaining: 2.35s\n",
      "44:\tlearn: 0.5003851\ttotal: 110ms\tremaining: 2.33s\n",
      "45:\tlearn: 0.4935143\ttotal: 111ms\tremaining: 2.3s\n",
      "46:\tlearn: 0.4881058\ttotal: 112ms\tremaining: 2.27s\n",
      "47:\tlearn: 0.4817926\ttotal: 113ms\tremaining: 2.23s\n",
      "48:\tlearn: 0.4766175\ttotal: 114ms\tremaining: 2.2s\n",
      "49:\tlearn: 0.4714617\ttotal: 114ms\tremaining: 2.17s\n",
      "50:\tlearn: 0.4664423\ttotal: 115ms\tremaining: 2.14s\n",
      "51:\tlearn: 0.4615757\ttotal: 116ms\tremaining: 2.11s\n",
      "52:\tlearn: 0.4561236\ttotal: 117ms\tremaining: 2.09s\n",
      "53:\tlearn: 0.4522423\ttotal: 117ms\tremaining: 2.06s\n",
      "54:\tlearn: 0.4479807\ttotal: 118ms\tremaining: 2.03s\n",
      "55:\tlearn: 0.4448074\ttotal: 119ms\tremaining: 2.01s\n",
      "56:\tlearn: 0.4416719\ttotal: 120ms\tremaining: 1.98s\n",
      "57:\tlearn: 0.4375249\ttotal: 121ms\tremaining: 1.96s\n",
      "58:\tlearn: 0.4342676\ttotal: 122ms\tremaining: 1.94s\n",
      "59:\tlearn: 0.4302724\ttotal: 123ms\tremaining: 1.92s\n",
      "60:\tlearn: 0.4261787\ttotal: 123ms\tremaining: 1.9s\n",
      "61:\tlearn: 0.4219275\ttotal: 124ms\tremaining: 1.88s\n",
      "62:\tlearn: 0.4187249\ttotal: 125ms\tremaining: 1.86s\n",
      "63:\tlearn: 0.4145386\ttotal: 126ms\tremaining: 1.84s\n",
      "64:\tlearn: 0.4105728\ttotal: 127ms\tremaining: 1.82s\n",
      "65:\tlearn: 0.4075684\ttotal: 128ms\tremaining: 1.8s\n",
      "66:\tlearn: 0.4029763\ttotal: 128ms\tremaining: 1.79s\n",
      "67:\tlearn: 0.4003563\ttotal: 129ms\tremaining: 1.77s\n",
      "68:\tlearn: 0.3971030\ttotal: 130ms\tremaining: 1.75s\n",
      "69:\tlearn: 0.3930745\ttotal: 131ms\tremaining: 1.74s\n",
      "70:\tlearn: 0.3890885\ttotal: 132ms\tremaining: 1.72s\n",
      "71:\tlearn: 0.3866459\ttotal: 132ms\tremaining: 1.71s\n",
      "72:\tlearn: 0.3833614\ttotal: 133ms\tremaining: 1.69s\n",
      "73:\tlearn: 0.3798740\ttotal: 134ms\tremaining: 1.68s\n",
      "74:\tlearn: 0.3763563\ttotal: 135ms\tremaining: 1.66s\n",
      "75:\tlearn: 0.3735653\ttotal: 136ms\tremaining: 1.65s\n",
      "76:\tlearn: 0.3699423\ttotal: 136ms\tremaining: 1.63s\n",
      "77:\tlearn: 0.3671255\ttotal: 137ms\tremaining: 1.62s\n",
      "78:\tlearn: 0.3642616\ttotal: 138ms\tremaining: 1.61s\n",
      "79:\tlearn: 0.3620137\ttotal: 139ms\tremaining: 1.6s\n",
      "80:\tlearn: 0.3597006\ttotal: 140ms\tremaining: 1.59s\n",
      "81:\tlearn: 0.3570925\ttotal: 141ms\tremaining: 1.57s\n",
      "82:\tlearn: 0.3545775\ttotal: 142ms\tremaining: 1.56s\n",
      "83:\tlearn: 0.3525314\ttotal: 142ms\tremaining: 1.55s\n",
      "84:\tlearn: 0.3503291\ttotal: 143ms\tremaining: 1.54s\n",
      "85:\tlearn: 0.3480241\ttotal: 144ms\tremaining: 1.53s\n",
      "86:\tlearn: 0.3457580\ttotal: 145ms\tremaining: 1.52s\n",
      "87:\tlearn: 0.3434377\ttotal: 146ms\tremaining: 1.51s\n",
      "88:\tlearn: 0.3408362\ttotal: 146ms\tremaining: 1.5s\n",
      "89:\tlearn: 0.3387791\ttotal: 147ms\tremaining: 1.49s\n",
      "90:\tlearn: 0.3370254\ttotal: 148ms\tremaining: 1.48s\n",
      "91:\tlearn: 0.3349644\ttotal: 150ms\tremaining: 1.48s\n",
      "92:\tlearn: 0.3333153\ttotal: 150ms\tremaining: 1.47s\n",
      "93:\tlearn: 0.3318267\ttotal: 151ms\tremaining: 1.46s\n",
      "94:\tlearn: 0.3296372\ttotal: 152ms\tremaining: 1.45s\n",
      "95:\tlearn: 0.3284101\ttotal: 153ms\tremaining: 1.44s\n",
      "96:\tlearn: 0.3270302\ttotal: 154ms\tremaining: 1.43s\n",
      "97:\tlearn: 0.3248973\ttotal: 154ms\tremaining: 1.42s\n",
      "98:\tlearn: 0.3232353\ttotal: 155ms\tremaining: 1.41s\n",
      "99:\tlearn: 0.3215033\ttotal: 156ms\tremaining: 1.4s\n",
      "100:\tlearn: 0.3194336\ttotal: 157ms\tremaining: 1.4s\n",
      "101:\tlearn: 0.3177070\ttotal: 158ms\tremaining: 1.39s\n",
      "102:\tlearn: 0.3162848\ttotal: 159ms\tremaining: 1.38s\n",
      "103:\tlearn: 0.3147244\ttotal: 160ms\tremaining: 1.37s\n",
      "104:\tlearn: 0.3134789\ttotal: 160ms\tremaining: 1.37s\n",
      "105:\tlearn: 0.3117809\ttotal: 161ms\tremaining: 1.36s\n",
      "106:\tlearn: 0.3100808\ttotal: 162ms\tremaining: 1.35s\n",
      "107:\tlearn: 0.3077739\ttotal: 163ms\tremaining: 1.34s\n",
      "108:\tlearn: 0.3060265\ttotal: 164ms\tremaining: 1.34s\n",
      "109:\tlearn: 0.3044529\ttotal: 164ms\tremaining: 1.33s\n",
      "110:\tlearn: 0.3028680\ttotal: 165ms\tremaining: 1.32s\n",
      "111:\tlearn: 0.3017826\ttotal: 166ms\tremaining: 1.31s\n",
      "112:\tlearn: 0.2997518\ttotal: 167ms\tremaining: 1.31s\n",
      "113:\tlearn: 0.2983323\ttotal: 168ms\tremaining: 1.3s\n",
      "114:\tlearn: 0.2971605\ttotal: 169ms\tremaining: 1.3s\n",
      "115:\tlearn: 0.2958445\ttotal: 169ms\tremaining: 1.29s\n",
      "116:\tlearn: 0.2944958\ttotal: 170ms\tremaining: 1.28s\n",
      "117:\tlearn: 0.2925646\ttotal: 171ms\tremaining: 1.28s\n",
      "118:\tlearn: 0.2912841\ttotal: 172ms\tremaining: 1.27s\n",
      "119:\tlearn: 0.2904468\ttotal: 172ms\tremaining: 1.26s\n",
      "120:\tlearn: 0.2890799\ttotal: 173ms\tremaining: 1.26s\n",
      "121:\tlearn: 0.2879067\ttotal: 174ms\tremaining: 1.25s\n",
      "122:\tlearn: 0.2871469\ttotal: 175ms\tremaining: 1.25s\n",
      "123:\tlearn: 0.2860465\ttotal: 176ms\tremaining: 1.24s\n",
      "124:\tlearn: 0.2848815\ttotal: 177ms\tremaining: 1.24s\n",
      "125:\tlearn: 0.2834717\ttotal: 177ms\tremaining: 1.23s\n",
      "126:\tlearn: 0.2819564\ttotal: 178ms\tremaining: 1.22s\n",
      "127:\tlearn: 0.2809916\ttotal: 179ms\tremaining: 1.22s\n",
      "128:\tlearn: 0.2800741\ttotal: 180ms\tremaining: 1.21s\n",
      "129:\tlearn: 0.2792671\ttotal: 181ms\tremaining: 1.21s\n",
      "130:\tlearn: 0.2782835\ttotal: 181ms\tremaining: 1.2s\n",
      "131:\tlearn: 0.2772645\ttotal: 182ms\tremaining: 1.2s\n",
      "132:\tlearn: 0.2760608\ttotal: 183ms\tremaining: 1.19s\n",
      "133:\tlearn: 0.2751936\ttotal: 184ms\tremaining: 1.19s\n",
      "134:\tlearn: 0.2742445\ttotal: 184ms\tremaining: 1.18s\n",
      "135:\tlearn: 0.2733741\ttotal: 186ms\tremaining: 1.18s\n",
      "136:\tlearn: 0.2725799\ttotal: 186ms\tremaining: 1.17s\n",
      "137:\tlearn: 0.2719379\ttotal: 187ms\tremaining: 1.17s\n",
      "138:\tlearn: 0.2708111\ttotal: 188ms\tremaining: 1.16s\n",
      "139:\tlearn: 0.2696517\ttotal: 189ms\tremaining: 1.16s\n",
      "140:\tlearn: 0.2689587\ttotal: 190ms\tremaining: 1.16s\n",
      "141:\tlearn: 0.2680263\ttotal: 191ms\tremaining: 1.15s\n",
      "142:\tlearn: 0.2678068\ttotal: 191ms\tremaining: 1.15s\n"
     ]
    },
    {
     "name": "stdout",
     "output_type": "stream",
     "text": [
      "143:\tlearn: 0.2670051\ttotal: 192ms\tremaining: 1.14s\n",
      "144:\tlearn: 0.2663857\ttotal: 193ms\tremaining: 1.14s\n",
      "145:\tlearn: 0.2649672\ttotal: 194ms\tremaining: 1.13s\n",
      "146:\tlearn: 0.2639387\ttotal: 195ms\tremaining: 1.13s\n",
      "147:\tlearn: 0.2628940\ttotal: 195ms\tremaining: 1.13s\n",
      "148:\tlearn: 0.2621650\ttotal: 196ms\tremaining: 1.12s\n",
      "149:\tlearn: 0.2613069\ttotal: 197ms\tremaining: 1.12s\n",
      "150:\tlearn: 0.2601391\ttotal: 198ms\tremaining: 1.11s\n",
      "151:\tlearn: 0.2593743\ttotal: 199ms\tremaining: 1.11s\n",
      "152:\tlearn: 0.2585455\ttotal: 200ms\tremaining: 1.11s\n",
      "153:\tlearn: 0.2573810\ttotal: 201ms\tremaining: 1.1s\n",
      "154:\tlearn: 0.2568281\ttotal: 201ms\tremaining: 1.1s\n",
      "155:\tlearn: 0.2560615\ttotal: 202ms\tremaining: 1.09s\n",
      "156:\tlearn: 0.2554771\ttotal: 203ms\tremaining: 1.09s\n",
      "157:\tlearn: 0.2546617\ttotal: 204ms\tremaining: 1.09s\n",
      "158:\tlearn: 0.2536619\ttotal: 205ms\tremaining: 1.08s\n",
      "159:\tlearn: 0.2531228\ttotal: 205ms\tremaining: 1.08s\n",
      "160:\tlearn: 0.2524128\ttotal: 206ms\tremaining: 1.07s\n",
      "161:\tlearn: 0.2516070\ttotal: 207ms\tremaining: 1.07s\n",
      "162:\tlearn: 0.2508771\ttotal: 207ms\tremaining: 1.06s\n",
      "163:\tlearn: 0.2501242\ttotal: 208ms\tremaining: 1.06s\n",
      "164:\tlearn: 0.2493733\ttotal: 209ms\tremaining: 1.06s\n",
      "165:\tlearn: 0.2487916\ttotal: 210ms\tremaining: 1.05s\n",
      "166:\tlearn: 0.2480997\ttotal: 211ms\tremaining: 1.05s\n",
      "167:\tlearn: 0.2470957\ttotal: 212ms\tremaining: 1.05s\n",
      "168:\tlearn: 0.2464827\ttotal: 213ms\tremaining: 1.04s\n",
      "169:\tlearn: 0.2458352\ttotal: 213ms\tremaining: 1.04s\n",
      "170:\tlearn: 0.2447132\ttotal: 214ms\tremaining: 1.04s\n",
      "171:\tlearn: 0.2437009\ttotal: 215ms\tremaining: 1.03s\n",
      "172:\tlearn: 0.2430546\ttotal: 216ms\tremaining: 1.03s\n",
      "173:\tlearn: 0.2427156\ttotal: 217ms\tremaining: 1.03s\n",
      "174:\tlearn: 0.2420763\ttotal: 218ms\tremaining: 1.02s\n",
      "175:\tlearn: 0.2417493\ttotal: 218ms\tremaining: 1.02s\n",
      "176:\tlearn: 0.2412211\ttotal: 219ms\tremaining: 1.02s\n",
      "177:\tlearn: 0.2406079\ttotal: 220ms\tremaining: 1.01s\n",
      "178:\tlearn: 0.2400632\ttotal: 221ms\tremaining: 1.01s\n",
      "179:\tlearn: 0.2394746\ttotal: 222ms\tremaining: 1.01s\n",
      "180:\tlearn: 0.2386935\ttotal: 222ms\tremaining: 1.01s\n",
      "181:\tlearn: 0.2379829\ttotal: 223ms\tremaining: 1s\n",
      "182:\tlearn: 0.2375059\ttotal: 224ms\tremaining: 999ms\n",
      "183:\tlearn: 0.2367600\ttotal: 225ms\tremaining: 996ms\n",
      "184:\tlearn: 0.2361934\ttotal: 225ms\tremaining: 993ms\n",
      "185:\tlearn: 0.2354576\ttotal: 226ms\tremaining: 991ms\n",
      "186:\tlearn: 0.2347136\ttotal: 227ms\tremaining: 988ms\n",
      "187:\tlearn: 0.2342171\ttotal: 228ms\tremaining: 985ms\n",
      "188:\tlearn: 0.2336216\ttotal: 229ms\tremaining: 982ms\n",
      "189:\tlearn: 0.2329380\ttotal: 230ms\tremaining: 979ms\n",
      "190:\tlearn: 0.2323533\ttotal: 231ms\tremaining: 977ms\n",
      "191:\tlearn: 0.2317467\ttotal: 232ms\tremaining: 975ms\n",
      "192:\tlearn: 0.2309849\ttotal: 232ms\tremaining: 971ms\n",
      "193:\tlearn: 0.2304581\ttotal: 233ms\tremaining: 969ms\n",
      "194:\tlearn: 0.2299559\ttotal: 234ms\tremaining: 966ms\n",
      "195:\tlearn: 0.2292828\ttotal: 235ms\tremaining: 963ms\n",
      "196:\tlearn: 0.2286544\ttotal: 236ms\tremaining: 960ms\n",
      "197:\tlearn: 0.2281114\ttotal: 237ms\tremaining: 958ms\n",
      "198:\tlearn: 0.2276963\ttotal: 237ms\tremaining: 955ms\n",
      "199:\tlearn: 0.2271202\ttotal: 238ms\tremaining: 952ms\n",
      "200:\tlearn: 0.2265481\ttotal: 239ms\tremaining: 949ms\n",
      "201:\tlearn: 0.2261800\ttotal: 240ms\tremaining: 947ms\n",
      "202:\tlearn: 0.2257196\ttotal: 241ms\tremaining: 944ms\n",
      "203:\tlearn: 0.2249729\ttotal: 241ms\tremaining: 942ms\n",
      "204:\tlearn: 0.2244865\ttotal: 242ms\tremaining: 939ms\n",
      "205:\tlearn: 0.2236631\ttotal: 243ms\tremaining: 936ms\n",
      "206:\tlearn: 0.2230896\ttotal: 244ms\tremaining: 934ms\n",
      "207:\tlearn: 0.2226217\ttotal: 245ms\tremaining: 931ms\n",
      "208:\tlearn: 0.2219799\ttotal: 245ms\tremaining: 929ms\n",
      "209:\tlearn: 0.2213059\ttotal: 246ms\tremaining: 926ms\n",
      "210:\tlearn: 0.2209352\ttotal: 247ms\tremaining: 923ms\n",
      "211:\tlearn: 0.2204128\ttotal: 248ms\tremaining: 921ms\n",
      "212:\tlearn: 0.2196124\ttotal: 249ms\tremaining: 919ms\n",
      "213:\tlearn: 0.2190799\ttotal: 249ms\tremaining: 916ms\n",
      "214:\tlearn: 0.2185352\ttotal: 250ms\tremaining: 913ms\n",
      "215:\tlearn: 0.2179090\ttotal: 251ms\tremaining: 911ms\n",
      "216:\tlearn: 0.2173813\ttotal: 252ms\tremaining: 909ms\n",
      "217:\tlearn: 0.2170552\ttotal: 253ms\tremaining: 906ms\n",
      "218:\tlearn: 0.2165591\ttotal: 253ms\tremaining: 904ms\n",
      "219:\tlearn: 0.2160346\ttotal: 254ms\tremaining: 902ms\n",
      "220:\tlearn: 0.2156017\ttotal: 255ms\tremaining: 899ms\n",
      "221:\tlearn: 0.2149583\ttotal: 256ms\tremaining: 897ms\n",
      "222:\tlearn: 0.2142806\ttotal: 257ms\tremaining: 895ms\n",
      "223:\tlearn: 0.2138284\ttotal: 258ms\tremaining: 893ms\n",
      "224:\tlearn: 0.2133923\ttotal: 259ms\tremaining: 890ms\n",
      "225:\tlearn: 0.2128979\ttotal: 259ms\tremaining: 888ms\n",
      "226:\tlearn: 0.2122102\ttotal: 260ms\tremaining: 886ms\n",
      "227:\tlearn: 0.2117359\ttotal: 261ms\tremaining: 884ms\n",
      "228:\tlearn: 0.2112178\ttotal: 262ms\tremaining: 881ms\n",
      "229:\tlearn: 0.2108441\ttotal: 262ms\tremaining: 878ms\n",
      "230:\tlearn: 0.2105503\ttotal: 263ms\tremaining: 876ms\n",
      "231:\tlearn: 0.2101405\ttotal: 264ms\tremaining: 873ms\n",
      "232:\tlearn: 0.2098450\ttotal: 265ms\tremaining: 871ms\n",
      "233:\tlearn: 0.2094719\ttotal: 265ms\tremaining: 868ms\n",
      "234:\tlearn: 0.2090003\ttotal: 266ms\tremaining: 866ms\n",
      "235:\tlearn: 0.2083554\ttotal: 267ms\tremaining: 864ms\n",
      "236:\tlearn: 0.2077759\ttotal: 268ms\tremaining: 862ms\n",
      "237:\tlearn: 0.2074868\ttotal: 269ms\tremaining: 860ms\n",
      "238:\tlearn: 0.2069517\ttotal: 270ms\tremaining: 859ms\n",
      "239:\tlearn: 0.2065761\ttotal: 271ms\tremaining: 857ms\n",
      "240:\tlearn: 0.2058819\ttotal: 271ms\tremaining: 855ms\n",
      "241:\tlearn: 0.2053682\ttotal: 272ms\tremaining: 853ms\n",
      "242:\tlearn: 0.2050763\ttotal: 273ms\tremaining: 851ms\n",
      "243:\tlearn: 0.2043787\ttotal: 274ms\tremaining: 848ms\n",
      "244:\tlearn: 0.2041584\ttotal: 275ms\tremaining: 846ms\n",
      "245:\tlearn: 0.2036487\ttotal: 275ms\tremaining: 844ms\n",
      "246:\tlearn: 0.2030731\ttotal: 276ms\tremaining: 842ms\n",
      "247:\tlearn: 0.2024835\ttotal: 277ms\tremaining: 840ms\n",
      "248:\tlearn: 0.2018656\ttotal: 278ms\tremaining: 838ms\n",
      "249:\tlearn: 0.2014160\ttotal: 279ms\tremaining: 837ms\n",
      "250:\tlearn: 0.2010191\ttotal: 280ms\tremaining: 835ms\n",
      "251:\tlearn: 0.2004565\ttotal: 281ms\tremaining: 833ms\n",
      "252:\tlearn: 0.1998807\ttotal: 282ms\tremaining: 831ms\n",
      "253:\tlearn: 0.1996243\ttotal: 282ms\tremaining: 830ms\n"
     ]
    },
    {
     "name": "stdout",
     "output_type": "stream",
     "text": [
      "254:\tlearn: 0.1988854\ttotal: 284ms\tremaining: 828ms\n",
      "255:\tlearn: 0.1983585\ttotal: 284ms\tremaining: 827ms\n",
      "256:\tlearn: 0.1977135\ttotal: 286ms\tremaining: 826ms\n",
      "257:\tlearn: 0.1973600\ttotal: 287ms\tremaining: 824ms\n",
      "258:\tlearn: 0.1967753\ttotal: 287ms\tremaining: 822ms\n",
      "259:\tlearn: 0.1962198\ttotal: 288ms\tremaining: 820ms\n",
      "260:\tlearn: 0.1955964\ttotal: 289ms\tremaining: 819ms\n",
      "261:\tlearn: 0.1949917\ttotal: 290ms\tremaining: 817ms\n",
      "262:\tlearn: 0.1946181\ttotal: 291ms\tremaining: 815ms\n",
      "263:\tlearn: 0.1940444\ttotal: 292ms\tremaining: 813ms\n",
      "264:\tlearn: 0.1936272\ttotal: 292ms\tremaining: 811ms\n",
      "265:\tlearn: 0.1932942\ttotal: 293ms\tremaining: 809ms\n",
      "266:\tlearn: 0.1929469\ttotal: 294ms\tremaining: 808ms\n",
      "267:\tlearn: 0.1925036\ttotal: 295ms\tremaining: 806ms\n",
      "268:\tlearn: 0.1920920\ttotal: 296ms\tremaining: 805ms\n",
      "269:\tlearn: 0.1915096\ttotal: 297ms\tremaining: 804ms\n",
      "270:\tlearn: 0.1909697\ttotal: 298ms\tremaining: 802ms\n",
      "271:\tlearn: 0.1903700\ttotal: 299ms\tremaining: 800ms\n",
      "272:\tlearn: 0.1898778\ttotal: 300ms\tremaining: 798ms\n",
      "273:\tlearn: 0.1893454\ttotal: 300ms\tremaining: 796ms\n",
      "274:\tlearn: 0.1887656\ttotal: 301ms\tremaining: 794ms\n",
      "275:\tlearn: 0.1884295\ttotal: 302ms\tremaining: 793ms\n",
      "276:\tlearn: 0.1882933\ttotal: 303ms\tremaining: 791ms\n",
      "277:\tlearn: 0.1877785\ttotal: 304ms\tremaining: 789ms\n",
      "278:\tlearn: 0.1875648\ttotal: 305ms\tremaining: 788ms\n",
      "279:\tlearn: 0.1873166\ttotal: 306ms\tremaining: 786ms\n",
      "280:\tlearn: 0.1870114\ttotal: 306ms\tremaining: 784ms\n",
      "281:\tlearn: 0.1863988\ttotal: 307ms\tremaining: 782ms\n",
      "282:\tlearn: 0.1861894\ttotal: 308ms\tremaining: 781ms\n",
      "283:\tlearn: 0.1857410\ttotal: 309ms\tremaining: 779ms\n",
      "284:\tlearn: 0.1855387\ttotal: 310ms\tremaining: 779ms\n",
      "285:\tlearn: 0.1853370\ttotal: 311ms\tremaining: 777ms\n",
      "286:\tlearn: 0.1848275\ttotal: 312ms\tremaining: 775ms\n",
      "287:\tlearn: 0.1843312\ttotal: 313ms\tremaining: 774ms\n",
      "288:\tlearn: 0.1840495\ttotal: 314ms\tremaining: 772ms\n",
      "289:\tlearn: 0.1836485\ttotal: 315ms\tremaining: 770ms\n",
      "290:\tlearn: 0.1833041\ttotal: 316ms\tremaining: 770ms\n",
      "291:\tlearn: 0.1827663\ttotal: 317ms\tremaining: 768ms\n",
      "292:\tlearn: 0.1824435\ttotal: 318ms\tremaining: 767ms\n",
      "293:\tlearn: 0.1819508\ttotal: 319ms\tremaining: 765ms\n",
      "294:\tlearn: 0.1816498\ttotal: 319ms\tremaining: 763ms\n",
      "295:\tlearn: 0.1812557\ttotal: 320ms\tremaining: 762ms\n",
      "296:\tlearn: 0.1809120\ttotal: 321ms\tremaining: 760ms\n",
      "297:\tlearn: 0.1804947\ttotal: 322ms\tremaining: 758ms\n",
      "298:\tlearn: 0.1801978\ttotal: 323ms\tremaining: 757ms\n",
      "299:\tlearn: 0.1798279\ttotal: 324ms\tremaining: 755ms\n",
      "300:\tlearn: 0.1795208\ttotal: 324ms\tremaining: 753ms\n",
      "301:\tlearn: 0.1793294\ttotal: 325ms\tremaining: 752ms\n",
      "302:\tlearn: 0.1789480\ttotal: 326ms\tremaining: 750ms\n",
      "303:\tlearn: 0.1786046\ttotal: 327ms\tremaining: 748ms\n",
      "304:\tlearn: 0.1782835\ttotal: 328ms\tremaining: 747ms\n",
      "305:\tlearn: 0.1777414\ttotal: 328ms\tremaining: 745ms\n",
      "306:\tlearn: 0.1773263\ttotal: 329ms\tremaining: 743ms\n",
      "307:\tlearn: 0.1771528\ttotal: 330ms\tremaining: 742ms\n",
      "308:\tlearn: 0.1766039\ttotal: 331ms\tremaining: 740ms\n",
      "309:\tlearn: 0.1761575\ttotal: 332ms\tremaining: 738ms\n",
      "310:\tlearn: 0.1756561\ttotal: 333ms\tremaining: 738ms\n",
      "311:\tlearn: 0.1755305\ttotal: 334ms\tremaining: 736ms\n",
      "312:\tlearn: 0.1754038\ttotal: 335ms\tremaining: 736ms\n",
      "313:\tlearn: 0.1749613\ttotal: 336ms\tremaining: 735ms\n",
      "314:\tlearn: 0.1745883\ttotal: 337ms\tremaining: 733ms\n",
      "315:\tlearn: 0.1743402\ttotal: 338ms\tremaining: 732ms\n",
      "316:\tlearn: 0.1741515\ttotal: 339ms\tremaining: 730ms\n",
      "317:\tlearn: 0.1738817\ttotal: 340ms\tremaining: 728ms\n",
      "318:\tlearn: 0.1733710\ttotal: 340ms\tremaining: 727ms\n",
      "319:\tlearn: 0.1731069\ttotal: 341ms\tremaining: 725ms\n",
      "320:\tlearn: 0.1728240\ttotal: 342ms\tremaining: 723ms\n",
      "321:\tlearn: 0.1725203\ttotal: 343ms\tremaining: 722ms\n",
      "322:\tlearn: 0.1719835\ttotal: 344ms\tremaining: 720ms\n",
      "323:\tlearn: 0.1716271\ttotal: 345ms\tremaining: 719ms\n",
      "324:\tlearn: 0.1712022\ttotal: 346ms\tremaining: 718ms\n",
      "325:\tlearn: 0.1709551\ttotal: 347ms\tremaining: 717ms\n",
      "326:\tlearn: 0.1708310\ttotal: 347ms\tremaining: 715ms\n",
      "327:\tlearn: 0.1706074\ttotal: 348ms\tremaining: 714ms\n",
      "328:\tlearn: 0.1701711\ttotal: 349ms\tremaining: 712ms\n",
      "329:\tlearn: 0.1698467\ttotal: 350ms\tremaining: 711ms\n",
      "330:\tlearn: 0.1693971\ttotal: 351ms\tremaining: 709ms\n",
      "331:\tlearn: 0.1689334\ttotal: 352ms\tremaining: 708ms\n",
      "332:\tlearn: 0.1686453\ttotal: 353ms\tremaining: 706ms\n",
      "333:\tlearn: 0.1684160\ttotal: 354ms\tremaining: 705ms\n",
      "334:\tlearn: 0.1682397\ttotal: 354ms\tremaining: 704ms\n",
      "335:\tlearn: 0.1678569\ttotal: 355ms\tremaining: 702ms\n",
      "336:\tlearn: 0.1674934\ttotal: 356ms\tremaining: 701ms\n",
      "337:\tlearn: 0.1673302\ttotal: 357ms\tremaining: 699ms\n",
      "338:\tlearn: 0.1671080\ttotal: 358ms\tremaining: 697ms\n",
      "339:\tlearn: 0.1667061\ttotal: 359ms\tremaining: 696ms\n",
      "340:\tlearn: 0.1663796\ttotal: 359ms\tremaining: 695ms\n",
      "341:\tlearn: 0.1661620\ttotal: 360ms\tremaining: 693ms\n",
      "342:\tlearn: 0.1658120\ttotal: 361ms\tremaining: 692ms\n",
      "343:\tlearn: 0.1655200\ttotal: 362ms\tremaining: 690ms\n",
      "344:\tlearn: 0.1651588\ttotal: 363ms\tremaining: 689ms\n",
      "345:\tlearn: 0.1647296\ttotal: 364ms\tremaining: 688ms\n",
      "346:\tlearn: 0.1641509\ttotal: 365ms\tremaining: 686ms\n"
     ]
    },
    {
     "name": "stdout",
     "output_type": "stream",
     "text": [
      "347:\tlearn: 0.1638762\ttotal: 366ms\tremaining: 685ms\n",
      "348:\tlearn: 0.1636145\ttotal: 367ms\tremaining: 684ms\n",
      "349:\tlearn: 0.1634355\ttotal: 367ms\tremaining: 682ms\n",
      "350:\tlearn: 0.1632425\ttotal: 368ms\tremaining: 681ms\n",
      "351:\tlearn: 0.1628987\ttotal: 369ms\tremaining: 679ms\n",
      "352:\tlearn: 0.1625797\ttotal: 370ms\tremaining: 678ms\n",
      "353:\tlearn: 0.1622811\ttotal: 371ms\tremaining: 676ms\n",
      "354:\tlearn: 0.1618271\ttotal: 371ms\tremaining: 675ms\n",
      "355:\tlearn: 0.1614739\ttotal: 372ms\tremaining: 673ms\n",
      "356:\tlearn: 0.1612757\ttotal: 373ms\tremaining: 672ms\n",
      "357:\tlearn: 0.1609239\ttotal: 374ms\tremaining: 670ms\n",
      "358:\tlearn: 0.1608349\ttotal: 374ms\tremaining: 669ms\n",
      "359:\tlearn: 0.1605864\ttotal: 375ms\tremaining: 667ms\n",
      "360:\tlearn: 0.1604392\ttotal: 376ms\tremaining: 666ms\n",
      "361:\tlearn: 0.1599905\ttotal: 377ms\tremaining: 664ms\n",
      "362:\tlearn: 0.1597811\ttotal: 378ms\tremaining: 663ms\n",
      "363:\tlearn: 0.1596085\ttotal: 379ms\tremaining: 661ms\n",
      "364:\tlearn: 0.1593192\ttotal: 379ms\tremaining: 660ms\n",
      "365:\tlearn: 0.1591268\ttotal: 380ms\tremaining: 658ms\n",
      "366:\tlearn: 0.1587328\ttotal: 381ms\tremaining: 657ms\n",
      "367:\tlearn: 0.1585888\ttotal: 382ms\tremaining: 656ms\n",
      "368:\tlearn: 0.1583172\ttotal: 383ms\tremaining: 655ms\n",
      "369:\tlearn: 0.1578733\ttotal: 384ms\tremaining: 653ms\n",
      "370:\tlearn: 0.1576336\ttotal: 385ms\tremaining: 652ms\n",
      "371:\tlearn: 0.1573132\ttotal: 385ms\tremaining: 651ms\n",
      "372:\tlearn: 0.1570247\ttotal: 386ms\tremaining: 649ms\n",
      "373:\tlearn: 0.1569362\ttotal: 387ms\tremaining: 648ms\n",
      "374:\tlearn: 0.1565473\ttotal: 388ms\tremaining: 647ms\n",
      "375:\tlearn: 0.1562243\ttotal: 389ms\tremaining: 645ms\n",
      "376:\tlearn: 0.1560395\ttotal: 390ms\tremaining: 644ms\n",
      "377:\tlearn: 0.1557746\ttotal: 390ms\tremaining: 642ms\n",
      "378:\tlearn: 0.1552881\ttotal: 391ms\tremaining: 641ms\n",
      "379:\tlearn: 0.1548963\ttotal: 392ms\tremaining: 640ms\n",
      "380:\tlearn: 0.1545825\ttotal: 393ms\tremaining: 638ms\n",
      "381:\tlearn: 0.1543427\ttotal: 394ms\tremaining: 637ms\n",
      "382:\tlearn: 0.1540691\ttotal: 395ms\tremaining: 636ms\n",
      "383:\tlearn: 0.1539785\ttotal: 395ms\tremaining: 634ms\n",
      "384:\tlearn: 0.1536352\ttotal: 396ms\tremaining: 633ms\n",
      "385:\tlearn: 0.1533566\ttotal: 397ms\tremaining: 632ms\n",
      "386:\tlearn: 0.1532609\ttotal: 398ms\tremaining: 631ms\n",
      "387:\tlearn: 0.1528883\ttotal: 399ms\tremaining: 629ms\n",
      "388:\tlearn: 0.1526888\ttotal: 400ms\tremaining: 628ms\n",
      "389:\tlearn: 0.1526139\ttotal: 401ms\tremaining: 627ms\n",
      "390:\tlearn: 0.1523374\ttotal: 401ms\tremaining: 625ms\n",
      "391:\tlearn: 0.1520609\ttotal: 402ms\tremaining: 624ms\n",
      "392:\tlearn: 0.1516277\ttotal: 403ms\tremaining: 622ms\n",
      "393:\tlearn: 0.1513017\ttotal: 404ms\tremaining: 621ms\n",
      "394:\tlearn: 0.1511773\ttotal: 405ms\tremaining: 620ms\n",
      "395:\tlearn: 0.1510017\ttotal: 406ms\tremaining: 619ms\n",
      "396:\tlearn: 0.1507283\ttotal: 406ms\tremaining: 617ms\n",
      "397:\tlearn: 0.1505871\ttotal: 407ms\tremaining: 616ms\n",
      "398:\tlearn: 0.1502519\ttotal: 408ms\tremaining: 615ms\n",
      "399:\tlearn: 0.1498551\ttotal: 409ms\tremaining: 614ms\n",
      "400:\tlearn: 0.1494994\ttotal: 410ms\tremaining: 612ms\n",
      "401:\tlearn: 0.1492339\ttotal: 411ms\tremaining: 611ms\n",
      "402:\tlearn: 0.1489761\ttotal: 411ms\tremaining: 609ms\n",
      "403:\tlearn: 0.1488940\ttotal: 412ms\tremaining: 608ms\n",
      "404:\tlearn: 0.1487415\ttotal: 413ms\tremaining: 607ms\n",
      "405:\tlearn: 0.1486010\ttotal: 414ms\tremaining: 606ms\n",
      "406:\tlearn: 0.1484846\ttotal: 415ms\tremaining: 604ms\n",
      "407:\tlearn: 0.1482025\ttotal: 416ms\tremaining: 603ms\n",
      "408:\tlearn: 0.1480976\ttotal: 416ms\tremaining: 602ms\n",
      "409:\tlearn: 0.1478102\ttotal: 417ms\tremaining: 600ms\n",
      "410:\tlearn: 0.1476394\ttotal: 418ms\tremaining: 599ms\n",
      "411:\tlearn: 0.1473201\ttotal: 419ms\tremaining: 598ms\n",
      "412:\tlearn: 0.1469571\ttotal: 420ms\tremaining: 596ms\n",
      "413:\tlearn: 0.1466185\ttotal: 420ms\tremaining: 595ms\n",
      "414:\tlearn: 0.1463048\ttotal: 421ms\tremaining: 594ms\n",
      "415:\tlearn: 0.1460205\ttotal: 422ms\tremaining: 593ms\n",
      "416:\tlearn: 0.1459205\ttotal: 423ms\tremaining: 591ms\n",
      "417:\tlearn: 0.1455975\ttotal: 424ms\tremaining: 590ms\n",
      "418:\tlearn: 0.1453611\ttotal: 425ms\tremaining: 589ms\n",
      "419:\tlearn: 0.1452262\ttotal: 426ms\tremaining: 588ms\n",
      "420:\tlearn: 0.1448516\ttotal: 426ms\tremaining: 587ms\n",
      "421:\tlearn: 0.1445703\ttotal: 427ms\tremaining: 585ms\n",
      "422:\tlearn: 0.1442055\ttotal: 428ms\tremaining: 584ms\n",
      "423:\tlearn: 0.1440277\ttotal: 429ms\tremaining: 583ms\n",
      "424:\tlearn: 0.1439523\ttotal: 430ms\tremaining: 582ms\n",
      "425:\tlearn: 0.1435262\ttotal: 431ms\tremaining: 581ms\n",
      "426:\tlearn: 0.1434103\ttotal: 432ms\tremaining: 580ms\n",
      "427:\tlearn: 0.1431336\ttotal: 433ms\tremaining: 578ms\n",
      "428:\tlearn: 0.1429130\ttotal: 433ms\tremaining: 577ms\n",
      "429:\tlearn: 0.1426843\ttotal: 434ms\tremaining: 576ms\n",
      "430:\tlearn: 0.1424458\ttotal: 435ms\tremaining: 575ms\n",
      "431:\tlearn: 0.1421427\ttotal: 436ms\tremaining: 573ms\n",
      "432:\tlearn: 0.1419097\ttotal: 437ms\tremaining: 572ms\n",
      "433:\tlearn: 0.1417616\ttotal: 438ms\tremaining: 571ms\n",
      "434:\tlearn: 0.1414089\ttotal: 439ms\tremaining: 570ms\n",
      "435:\tlearn: 0.1410820\ttotal: 440ms\tremaining: 569ms\n",
      "436:\tlearn: 0.1408142\ttotal: 440ms\tremaining: 568ms\n",
      "437:\tlearn: 0.1406000\ttotal: 441ms\tremaining: 566ms\n",
      "438:\tlearn: 0.1402872\ttotal: 442ms\tremaining: 565ms\n",
      "439:\tlearn: 0.1399964\ttotal: 443ms\tremaining: 564ms\n",
      "440:\tlearn: 0.1398028\ttotal: 444ms\tremaining: 562ms\n",
      "441:\tlearn: 0.1393941\ttotal: 444ms\tremaining: 561ms\n",
      "442:\tlearn: 0.1391482\ttotal: 445ms\tremaining: 560ms\n",
      "443:\tlearn: 0.1388326\ttotal: 446ms\tremaining: 559ms\n",
      "444:\tlearn: 0.1386593\ttotal: 447ms\tremaining: 558ms\n",
      "445:\tlearn: 0.1385140\ttotal: 448ms\tremaining: 556ms\n",
      "446:\tlearn: 0.1382600\ttotal: 449ms\tremaining: 555ms\n",
      "447:\tlearn: 0.1378822\ttotal: 450ms\tremaining: 554ms\n",
      "448:\tlearn: 0.1375968\ttotal: 451ms\tremaining: 553ms\n",
      "449:\tlearn: 0.1373304\ttotal: 451ms\tremaining: 552ms\n",
      "450:\tlearn: 0.1371306\ttotal: 452ms\tremaining: 551ms\n",
      "451:\tlearn: 0.1370697\ttotal: 453ms\tremaining: 549ms\n",
      "452:\tlearn: 0.1370052\ttotal: 454ms\tremaining: 548ms\n",
      "453:\tlearn: 0.1369530\ttotal: 455ms\tremaining: 547ms\n",
      "454:\tlearn: 0.1368597\ttotal: 456ms\tremaining: 546ms\n",
      "455:\tlearn: 0.1366738\ttotal: 456ms\tremaining: 544ms\n",
      "456:\tlearn: 0.1365361\ttotal: 457ms\tremaining: 543ms\n",
      "457:\tlearn: 0.1361939\ttotal: 458ms\tremaining: 542ms\n",
      "458:\tlearn: 0.1358678\ttotal: 459ms\tremaining: 541ms\n",
      "459:\tlearn: 0.1355419\ttotal: 460ms\tremaining: 540ms\n",
      "460:\tlearn: 0.1352346\ttotal: 460ms\tremaining: 538ms\n",
      "461:\tlearn: 0.1350193\ttotal: 461ms\tremaining: 537ms\n",
      "462:\tlearn: 0.1348591\ttotal: 462ms\tremaining: 536ms\n",
      "463:\tlearn: 0.1346084\ttotal: 463ms\tremaining: 535ms\n",
      "464:\tlearn: 0.1344115\ttotal: 464ms\tremaining: 534ms\n",
      "465:\tlearn: 0.1342573\ttotal: 465ms\tremaining: 533ms\n",
      "466:\tlearn: 0.1340728\ttotal: 466ms\tremaining: 531ms\n",
      "467:\tlearn: 0.1338262\ttotal: 466ms\tremaining: 530ms\n",
      "468:\tlearn: 0.1335035\ttotal: 467ms\tremaining: 529ms\n",
      "469:\tlearn: 0.1333055\ttotal: 468ms\tremaining: 528ms\n",
      "470:\tlearn: 0.1329606\ttotal: 469ms\tremaining: 527ms\n",
      "471:\tlearn: 0.1327120\ttotal: 470ms\tremaining: 526ms\n",
      "472:\tlearn: 0.1324345\ttotal: 471ms\tremaining: 524ms\n",
      "473:\tlearn: 0.1321792\ttotal: 472ms\tremaining: 523ms\n",
      "474:\tlearn: 0.1319912\ttotal: 472ms\tremaining: 522ms\n",
      "475:\tlearn: 0.1317237\ttotal: 473ms\tremaining: 521ms\n"
     ]
    },
    {
     "name": "stdout",
     "output_type": "stream",
     "text": [
      "476:\tlearn: 0.1314641\ttotal: 474ms\tremaining: 520ms\n",
      "477:\tlearn: 0.1311509\ttotal: 475ms\tremaining: 519ms\n",
      "478:\tlearn: 0.1309911\ttotal: 476ms\tremaining: 518ms\n",
      "479:\tlearn: 0.1307967\ttotal: 477ms\tremaining: 516ms\n",
      "480:\tlearn: 0.1306193\ttotal: 478ms\tremaining: 516ms\n",
      "481:\tlearn: 0.1303468\ttotal: 479ms\tremaining: 514ms\n",
      "482:\tlearn: 0.1301020\ttotal: 480ms\tremaining: 513ms\n",
      "483:\tlearn: 0.1298327\ttotal: 481ms\tremaining: 512ms\n",
      "484:\tlearn: 0.1297712\ttotal: 481ms\tremaining: 511ms\n",
      "485:\tlearn: 0.1294745\ttotal: 482ms\tremaining: 510ms\n",
      "486:\tlearn: 0.1293159\ttotal: 483ms\tremaining: 509ms\n",
      "487:\tlearn: 0.1290318\ttotal: 484ms\tremaining: 508ms\n",
      "488:\tlearn: 0.1287440\ttotal: 485ms\tremaining: 506ms\n",
      "489:\tlearn: 0.1285527\ttotal: 485ms\tremaining: 505ms\n",
      "490:\tlearn: 0.1283888\ttotal: 486ms\tremaining: 504ms\n",
      "491:\tlearn: 0.1282373\ttotal: 487ms\tremaining: 503ms\n",
      "492:\tlearn: 0.1280231\ttotal: 488ms\tremaining: 501ms\n",
      "493:\tlearn: 0.1278712\ttotal: 488ms\tremaining: 500ms\n",
      "494:\tlearn: 0.1275659\ttotal: 489ms\tremaining: 499ms\n",
      "495:\tlearn: 0.1274892\ttotal: 490ms\tremaining: 498ms\n",
      "496:\tlearn: 0.1274045\ttotal: 491ms\tremaining: 497ms\n",
      "497:\tlearn: 0.1271245\ttotal: 492ms\tremaining: 496ms\n",
      "498:\tlearn: 0.1269468\ttotal: 493ms\tremaining: 495ms\n",
      "499:\tlearn: 0.1268603\ttotal: 494ms\tremaining: 494ms\n",
      "500:\tlearn: 0.1265452\ttotal: 495ms\tremaining: 493ms\n",
      "501:\tlearn: 0.1263671\ttotal: 496ms\tremaining: 492ms\n",
      "502:\tlearn: 0.1261548\ttotal: 497ms\tremaining: 491ms\n",
      "503:\tlearn: 0.1259856\ttotal: 498ms\tremaining: 490ms\n",
      "504:\tlearn: 0.1257334\ttotal: 499ms\tremaining: 489ms\n",
      "505:\tlearn: 0.1256251\ttotal: 500ms\tremaining: 488ms\n",
      "506:\tlearn: 0.1254621\ttotal: 501ms\tremaining: 487ms\n",
      "507:\tlearn: 0.1252961\ttotal: 501ms\tremaining: 486ms\n",
      "508:\tlearn: 0.1251599\ttotal: 502ms\tremaining: 484ms\n",
      "509:\tlearn: 0.1250176\ttotal: 503ms\tremaining: 483ms\n",
      "510:\tlearn: 0.1247603\ttotal: 504ms\tremaining: 482ms\n",
      "511:\tlearn: 0.1243702\ttotal: 505ms\tremaining: 481ms\n",
      "512:\tlearn: 0.1240444\ttotal: 506ms\tremaining: 480ms\n",
      "513:\tlearn: 0.1239916\ttotal: 506ms\tremaining: 479ms\n",
      "514:\tlearn: 0.1238936\ttotal: 507ms\tremaining: 478ms\n",
      "515:\tlearn: 0.1237177\ttotal: 508ms\tremaining: 476ms\n",
      "516:\tlearn: 0.1236131\ttotal: 509ms\tremaining: 475ms\n",
      "517:\tlearn: 0.1232562\ttotal: 510ms\tremaining: 474ms\n",
      "518:\tlearn: 0.1231535\ttotal: 511ms\tremaining: 473ms\n",
      "519:\tlearn: 0.1229336\ttotal: 512ms\tremaining: 473ms\n",
      "520:\tlearn: 0.1226870\ttotal: 513ms\tremaining: 472ms\n",
      "521:\tlearn: 0.1224329\ttotal: 514ms\tremaining: 470ms\n",
      "522:\tlearn: 0.1222878\ttotal: 514ms\tremaining: 469ms\n",
      "523:\tlearn: 0.1222056\ttotal: 515ms\tremaining: 468ms\n",
      "524:\tlearn: 0.1220248\ttotal: 516ms\tremaining: 467ms\n",
      "525:\tlearn: 0.1217610\ttotal: 517ms\tremaining: 466ms\n",
      "526:\tlearn: 0.1212704\ttotal: 518ms\tremaining: 465ms\n",
      "527:\tlearn: 0.1210885\ttotal: 519ms\tremaining: 464ms\n",
      "528:\tlearn: 0.1208406\ttotal: 520ms\tremaining: 463ms\n",
      "529:\tlearn: 0.1206401\ttotal: 520ms\tremaining: 461ms\n",
      "530:\tlearn: 0.1204904\ttotal: 521ms\tremaining: 460ms\n",
      "531:\tlearn: 0.1202612\ttotal: 522ms\tremaining: 459ms\n",
      "532:\tlearn: 0.1200745\ttotal: 523ms\tremaining: 458ms\n",
      "533:\tlearn: 0.1198713\ttotal: 523ms\tremaining: 457ms\n",
      "534:\tlearn: 0.1198127\ttotal: 524ms\tremaining: 456ms\n",
      "535:\tlearn: 0.1196142\ttotal: 525ms\tremaining: 455ms\n",
      "536:\tlearn: 0.1194145\ttotal: 526ms\tremaining: 453ms\n",
      "537:\tlearn: 0.1192728\ttotal: 527ms\tremaining: 452ms\n",
      "538:\tlearn: 0.1191813\ttotal: 528ms\tremaining: 451ms\n",
      "539:\tlearn: 0.1191344\ttotal: 528ms\tremaining: 450ms\n",
      "540:\tlearn: 0.1188672\ttotal: 529ms\tremaining: 449ms\n",
      "541:\tlearn: 0.1185331\ttotal: 530ms\tremaining: 448ms\n",
      "542:\tlearn: 0.1182486\ttotal: 531ms\tremaining: 447ms\n",
      "543:\tlearn: 0.1180223\ttotal: 532ms\tremaining: 446ms\n",
      "544:\tlearn: 0.1179000\ttotal: 533ms\tremaining: 445ms\n",
      "545:\tlearn: 0.1176640\ttotal: 533ms\tremaining: 444ms\n",
      "546:\tlearn: 0.1175203\ttotal: 534ms\tremaining: 442ms\n",
      "547:\tlearn: 0.1173129\ttotal: 535ms\tremaining: 441ms\n",
      "548:\tlearn: 0.1171737\ttotal: 536ms\tremaining: 440ms\n",
      "549:\tlearn: 0.1170516\ttotal: 537ms\tremaining: 439ms\n",
      "550:\tlearn: 0.1168022\ttotal: 538ms\tremaining: 438ms\n",
      "551:\tlearn: 0.1166690\ttotal: 538ms\tremaining: 437ms\n",
      "552:\tlearn: 0.1164919\ttotal: 539ms\tremaining: 436ms\n",
      "553:\tlearn: 0.1162898\ttotal: 540ms\tremaining: 435ms\n",
      "554:\tlearn: 0.1160774\ttotal: 541ms\tremaining: 434ms\n",
      "555:\tlearn: 0.1158912\ttotal: 542ms\tremaining: 433ms\n",
      "556:\tlearn: 0.1157173\ttotal: 542ms\tremaining: 431ms\n",
      "557:\tlearn: 0.1155645\ttotal: 544ms\tremaining: 431ms\n",
      "558:\tlearn: 0.1154469\ttotal: 544ms\tremaining: 430ms\n",
      "559:\tlearn: 0.1152673\ttotal: 545ms\tremaining: 429ms\n",
      "560:\tlearn: 0.1152086\ttotal: 546ms\tremaining: 427ms\n",
      "561:\tlearn: 0.1151246\ttotal: 547ms\tremaining: 426ms\n",
      "562:\tlearn: 0.1150715\ttotal: 548ms\tremaining: 425ms\n",
      "563:\tlearn: 0.1148778\ttotal: 549ms\tremaining: 424ms\n",
      "564:\tlearn: 0.1146399\ttotal: 550ms\tremaining: 423ms\n",
      "565:\tlearn: 0.1145155\ttotal: 550ms\tremaining: 422ms\n",
      "566:\tlearn: 0.1142937\ttotal: 551ms\tremaining: 421ms\n",
      "567:\tlearn: 0.1139677\ttotal: 552ms\tremaining: 420ms\n",
      "568:\tlearn: 0.1138169\ttotal: 553ms\tremaining: 419ms\n",
      "569:\tlearn: 0.1135840\ttotal: 554ms\tremaining: 418ms\n",
      "570:\tlearn: 0.1133712\ttotal: 555ms\tremaining: 417ms\n"
     ]
    },
    {
     "name": "stdout",
     "output_type": "stream",
     "text": [
      "571:\tlearn: 0.1132719\ttotal: 556ms\tremaining: 416ms\n",
      "572:\tlearn: 0.1131092\ttotal: 557ms\tremaining: 415ms\n",
      "573:\tlearn: 0.1130443\ttotal: 558ms\tremaining: 414ms\n",
      "574:\tlearn: 0.1127597\ttotal: 559ms\tremaining: 413ms\n",
      "575:\tlearn: 0.1124990\ttotal: 560ms\tremaining: 412ms\n",
      "576:\tlearn: 0.1123056\ttotal: 561ms\tremaining: 411ms\n",
      "577:\tlearn: 0.1121999\ttotal: 561ms\tremaining: 410ms\n",
      "578:\tlearn: 0.1121024\ttotal: 562ms\tremaining: 409ms\n",
      "579:\tlearn: 0.1118626\ttotal: 563ms\tremaining: 408ms\n",
      "580:\tlearn: 0.1116936\ttotal: 564ms\tremaining: 407ms\n",
      "581:\tlearn: 0.1114871\ttotal: 565ms\tremaining: 405ms\n",
      "582:\tlearn: 0.1113558\ttotal: 565ms\tremaining: 404ms\n",
      "583:\tlearn: 0.1112072\ttotal: 566ms\tremaining: 403ms\n",
      "584:\tlearn: 0.1109963\ttotal: 567ms\tremaining: 402ms\n",
      "585:\tlearn: 0.1109222\ttotal: 568ms\tremaining: 401ms\n",
      "586:\tlearn: 0.1106931\ttotal: 569ms\tremaining: 400ms\n",
      "587:\tlearn: 0.1104206\ttotal: 569ms\tremaining: 399ms\n",
      "588:\tlearn: 0.1103594\ttotal: 570ms\tremaining: 398ms\n",
      "589:\tlearn: 0.1103196\ttotal: 571ms\tremaining: 397ms\n",
      "590:\tlearn: 0.1102296\ttotal: 572ms\tremaining: 396ms\n",
      "591:\tlearn: 0.1100985\ttotal: 573ms\tremaining: 395ms\n",
      "592:\tlearn: 0.1098597\ttotal: 574ms\tremaining: 394ms\n",
      "593:\tlearn: 0.1096561\ttotal: 574ms\tremaining: 393ms\n",
      "594:\tlearn: 0.1094761\ttotal: 575ms\tremaining: 391ms\n",
      "595:\tlearn: 0.1093784\ttotal: 576ms\tremaining: 390ms\n",
      "596:\tlearn: 0.1093031\ttotal: 577ms\tremaining: 389ms\n",
      "597:\tlearn: 0.1092785\ttotal: 578ms\tremaining: 388ms\n",
      "598:\tlearn: 0.1090547\ttotal: 578ms\tremaining: 387ms\n",
      "599:\tlearn: 0.1087577\ttotal: 579ms\tremaining: 386ms\n",
      "600:\tlearn: 0.1085349\ttotal: 580ms\tremaining: 385ms\n",
      "601:\tlearn: 0.1083270\ttotal: 581ms\tremaining: 384ms\n",
      "602:\tlearn: 0.1080688\ttotal: 582ms\tremaining: 383ms\n",
      "603:\tlearn: 0.1078311\ttotal: 583ms\tremaining: 382ms\n",
      "604:\tlearn: 0.1076964\ttotal: 583ms\tremaining: 381ms\n",
      "605:\tlearn: 0.1075445\ttotal: 584ms\tremaining: 380ms\n",
      "606:\tlearn: 0.1074047\ttotal: 585ms\tremaining: 379ms\n",
      "607:\tlearn: 0.1072861\ttotal: 586ms\tremaining: 378ms\n",
      "608:\tlearn: 0.1070286\ttotal: 587ms\tremaining: 377ms\n",
      "609:\tlearn: 0.1069568\ttotal: 588ms\tremaining: 376ms\n",
      "610:\tlearn: 0.1068829\ttotal: 588ms\tremaining: 375ms\n",
      "611:\tlearn: 0.1066073\ttotal: 589ms\tremaining: 374ms\n",
      "612:\tlearn: 0.1065063\ttotal: 590ms\tremaining: 373ms\n",
      "613:\tlearn: 0.1062978\ttotal: 591ms\tremaining: 371ms\n",
      "614:\tlearn: 0.1062765\ttotal: 592ms\tremaining: 370ms\n",
      "615:\tlearn: 0.1060934\ttotal: 592ms\tremaining: 369ms\n",
      "616:\tlearn: 0.1059199\ttotal: 593ms\tremaining: 368ms\n",
      "617:\tlearn: 0.1056922\ttotal: 594ms\tremaining: 367ms\n",
      "618:\tlearn: 0.1054138\ttotal: 595ms\tremaining: 366ms\n",
      "619:\tlearn: 0.1052875\ttotal: 596ms\tremaining: 365ms\n",
      "620:\tlearn: 0.1050618\ttotal: 596ms\tremaining: 364ms\n",
      "621:\tlearn: 0.1048436\ttotal: 597ms\tremaining: 363ms\n",
      "622:\tlearn: 0.1046686\ttotal: 598ms\tremaining: 362ms\n",
      "623:\tlearn: 0.1046002\ttotal: 599ms\tremaining: 361ms\n",
      "624:\tlearn: 0.1043789\ttotal: 600ms\tremaining: 360ms\n",
      "625:\tlearn: 0.1041995\ttotal: 600ms\tremaining: 359ms\n",
      "626:\tlearn: 0.1040464\ttotal: 601ms\tremaining: 358ms\n",
      "627:\tlearn: 0.1039941\ttotal: 602ms\tremaining: 357ms\n",
      "628:\tlearn: 0.1037479\ttotal: 603ms\tremaining: 356ms\n",
      "629:\tlearn: 0.1035715\ttotal: 604ms\tremaining: 355ms\n",
      "630:\tlearn: 0.1035026\ttotal: 605ms\tremaining: 354ms\n",
      "631:\tlearn: 0.1033073\ttotal: 605ms\tremaining: 352ms\n",
      "632:\tlearn: 0.1030926\ttotal: 606ms\tremaining: 352ms\n",
      "633:\tlearn: 0.1029490\ttotal: 607ms\tremaining: 351ms\n",
      "634:\tlearn: 0.1028947\ttotal: 608ms\tremaining: 349ms\n",
      "635:\tlearn: 0.1027354\ttotal: 609ms\tremaining: 348ms\n",
      "636:\tlearn: 0.1026798\ttotal: 610ms\tremaining: 347ms\n",
      "637:\tlearn: 0.1025661\ttotal: 610ms\tremaining: 346ms\n",
      "638:\tlearn: 0.1023964\ttotal: 611ms\tremaining: 345ms\n",
      "639:\tlearn: 0.1022990\ttotal: 612ms\tremaining: 344ms\n",
      "640:\tlearn: 0.1021922\ttotal: 613ms\tremaining: 343ms\n",
      "641:\tlearn: 0.1020258\ttotal: 614ms\tremaining: 342ms\n",
      "642:\tlearn: 0.1020033\ttotal: 614ms\tremaining: 341ms\n",
      "643:\tlearn: 0.1018745\ttotal: 615ms\tremaining: 340ms\n",
      "644:\tlearn: 0.1017535\ttotal: 616ms\tremaining: 339ms\n",
      "645:\tlearn: 0.1015653\ttotal: 617ms\tremaining: 338ms\n",
      "646:\tlearn: 0.1014147\ttotal: 618ms\tremaining: 337ms\n",
      "647:\tlearn: 0.1012399\ttotal: 618ms\tremaining: 336ms\n",
      "648:\tlearn: 0.1011256\ttotal: 619ms\tremaining: 335ms\n",
      "649:\tlearn: 0.1009425\ttotal: 620ms\tremaining: 334ms\n",
      "650:\tlearn: 0.1007327\ttotal: 622ms\tremaining: 333ms\n",
      "651:\tlearn: 0.1005425\ttotal: 623ms\tremaining: 332ms\n",
      "652:\tlearn: 0.1003119\ttotal: 623ms\tremaining: 331ms\n",
      "653:\tlearn: 0.1001828\ttotal: 624ms\tremaining: 330ms\n",
      "654:\tlearn: 0.0999244\ttotal: 625ms\tremaining: 329ms\n",
      "655:\tlearn: 0.0997795\ttotal: 626ms\tremaining: 328ms\n",
      "656:\tlearn: 0.0996237\ttotal: 627ms\tremaining: 328ms\n",
      "657:\tlearn: 0.0996050\ttotal: 628ms\tremaining: 327ms\n",
      "658:\tlearn: 0.0994722\ttotal: 629ms\tremaining: 326ms\n",
      "659:\tlearn: 0.0992808\ttotal: 630ms\tremaining: 325ms\n",
      "660:\tlearn: 0.0990910\ttotal: 631ms\tremaining: 324ms\n",
      "661:\tlearn: 0.0989031\ttotal: 632ms\tremaining: 323ms\n",
      "662:\tlearn: 0.0987124\ttotal: 633ms\tremaining: 322ms\n",
      "663:\tlearn: 0.0984924\ttotal: 634ms\tremaining: 321ms\n",
      "664:\tlearn: 0.0983503\ttotal: 635ms\tremaining: 320ms\n",
      "665:\tlearn: 0.0982482\ttotal: 636ms\tremaining: 319ms\n",
      "666:\tlearn: 0.0981629\ttotal: 637ms\tremaining: 318ms\n",
      "667:\tlearn: 0.0981009\ttotal: 638ms\tremaining: 317ms\n",
      "668:\tlearn: 0.0980256\ttotal: 639ms\tremaining: 316ms\n",
      "669:\tlearn: 0.0978778\ttotal: 640ms\tremaining: 315ms\n",
      "670:\tlearn: 0.0976995\ttotal: 641ms\tremaining: 314ms\n",
      "671:\tlearn: 0.0974998\ttotal: 642ms\tremaining: 313ms\n",
      "672:\tlearn: 0.0973147\ttotal: 643ms\tremaining: 312ms\n",
      "673:\tlearn: 0.0972810\ttotal: 644ms\tremaining: 311ms\n",
      "674:\tlearn: 0.0971035\ttotal: 645ms\tremaining: 310ms\n",
      "675:\tlearn: 0.0968723\ttotal: 646ms\tremaining: 310ms\n",
      "676:\tlearn: 0.0967438\ttotal: 647ms\tremaining: 309ms\n",
      "677:\tlearn: 0.0966455\ttotal: 648ms\tremaining: 308ms\n",
      "678:\tlearn: 0.0965163\ttotal: 649ms\tremaining: 307ms\n",
      "679:\tlearn: 0.0964030\ttotal: 649ms\tremaining: 306ms\n",
      "680:\tlearn: 0.0962413\ttotal: 650ms\tremaining: 305ms\n",
      "681:\tlearn: 0.0959992\ttotal: 651ms\tremaining: 304ms\n",
      "682:\tlearn: 0.0958134\ttotal: 652ms\tremaining: 303ms\n",
      "683:\tlearn: 0.0956936\ttotal: 653ms\tremaining: 302ms\n",
      "684:\tlearn: 0.0955375\ttotal: 654ms\tremaining: 301ms\n",
      "685:\tlearn: 0.0953365\ttotal: 655ms\tremaining: 300ms\n",
      "686:\tlearn: 0.0951204\ttotal: 656ms\tremaining: 299ms\n",
      "687:\tlearn: 0.0950030\ttotal: 657ms\tremaining: 298ms\n",
      "688:\tlearn: 0.0948745\ttotal: 658ms\tremaining: 297ms\n",
      "689:\tlearn: 0.0946749\ttotal: 658ms\tremaining: 296ms\n",
      "690:\tlearn: 0.0946515\ttotal: 659ms\tremaining: 295ms\n",
      "691:\tlearn: 0.0944313\ttotal: 660ms\tremaining: 294ms\n",
      "692:\tlearn: 0.0942225\ttotal: 661ms\tremaining: 293ms\n",
      "693:\tlearn: 0.0940729\ttotal: 662ms\tremaining: 292ms\n",
      "694:\tlearn: 0.0938935\ttotal: 663ms\tremaining: 291ms\n",
      "695:\tlearn: 0.0937122\ttotal: 664ms\tremaining: 290ms\n"
     ]
    },
    {
     "name": "stdout",
     "output_type": "stream",
     "text": [
      "696:\tlearn: 0.0935901\ttotal: 665ms\tremaining: 289ms\n",
      "697:\tlearn: 0.0935235\ttotal: 666ms\tremaining: 288ms\n",
      "698:\tlearn: 0.0932942\ttotal: 667ms\tremaining: 287ms\n",
      "699:\tlearn: 0.0931590\ttotal: 668ms\tremaining: 286ms\n",
      "700:\tlearn: 0.0929694\ttotal: 669ms\tremaining: 285ms\n",
      "701:\tlearn: 0.0927964\ttotal: 670ms\tremaining: 284ms\n",
      "702:\tlearn: 0.0926347\ttotal: 671ms\tremaining: 283ms\n",
      "703:\tlearn: 0.0924160\ttotal: 672ms\tremaining: 283ms\n",
      "704:\tlearn: 0.0923132\ttotal: 673ms\tremaining: 281ms\n",
      "705:\tlearn: 0.0920900\ttotal: 673ms\tremaining: 280ms\n",
      "706:\tlearn: 0.0919427\ttotal: 674ms\tremaining: 279ms\n",
      "707:\tlearn: 0.0917880\ttotal: 675ms\tremaining: 279ms\n",
      "708:\tlearn: 0.0916427\ttotal: 676ms\tremaining: 278ms\n",
      "709:\tlearn: 0.0916204\ttotal: 677ms\tremaining: 277ms\n",
      "710:\tlearn: 0.0915822\ttotal: 678ms\tremaining: 276ms\n",
      "711:\tlearn: 0.0914840\ttotal: 679ms\tremaining: 275ms\n",
      "712:\tlearn: 0.0913323\ttotal: 680ms\tremaining: 274ms\n",
      "713:\tlearn: 0.0911924\ttotal: 681ms\tremaining: 273ms\n",
      "714:\tlearn: 0.0909345\ttotal: 681ms\tremaining: 272ms\n",
      "715:\tlearn: 0.0909163\ttotal: 682ms\tremaining: 271ms\n",
      "716:\tlearn: 0.0908228\ttotal: 683ms\tremaining: 270ms\n",
      "717:\tlearn: 0.0907657\ttotal: 684ms\tremaining: 269ms\n",
      "718:\tlearn: 0.0907333\ttotal: 684ms\tremaining: 267ms\n",
      "719:\tlearn: 0.0905551\ttotal: 685ms\tremaining: 267ms\n",
      "720:\tlearn: 0.0905390\ttotal: 686ms\tremaining: 266ms\n",
      "721:\tlearn: 0.0903377\ttotal: 687ms\tremaining: 265ms\n",
      "722:\tlearn: 0.0902466\ttotal: 688ms\tremaining: 264ms\n",
      "723:\tlearn: 0.0902287\ttotal: 689ms\tremaining: 263ms\n",
      "724:\tlearn: 0.0901498\ttotal: 689ms\tremaining: 262ms\n",
      "725:\tlearn: 0.0900654\ttotal: 690ms\tremaining: 261ms\n",
      "726:\tlearn: 0.0899264\ttotal: 691ms\tremaining: 260ms\n",
      "727:\tlearn: 0.0898805\ttotal: 692ms\tremaining: 259ms\n",
      "728:\tlearn: 0.0897095\ttotal: 693ms\tremaining: 258ms\n",
      "729:\tlearn: 0.0895131\ttotal: 694ms\tremaining: 257ms\n",
      "730:\tlearn: 0.0894983\ttotal: 695ms\tremaining: 256ms\n",
      "731:\tlearn: 0.0893879\ttotal: 696ms\tremaining: 255ms\n",
      "732:\tlearn: 0.0892061\ttotal: 697ms\tremaining: 254ms\n",
      "733:\tlearn: 0.0891219\ttotal: 697ms\tremaining: 253ms\n",
      "734:\tlearn: 0.0890022\ttotal: 698ms\tremaining: 252ms\n",
      "735:\tlearn: 0.0888629\ttotal: 699ms\tremaining: 251ms\n",
      "736:\tlearn: 0.0886664\ttotal: 700ms\tremaining: 250ms\n",
      "737:\tlearn: 0.0885289\ttotal: 701ms\tremaining: 249ms\n",
      "738:\tlearn: 0.0884214\ttotal: 702ms\tremaining: 248ms\n",
      "739:\tlearn: 0.0883413\ttotal: 702ms\tremaining: 247ms\n",
      "740:\tlearn: 0.0882219\ttotal: 703ms\tremaining: 246ms\n",
      "741:\tlearn: 0.0880919\ttotal: 705ms\tremaining: 245ms\n",
      "742:\tlearn: 0.0879472\ttotal: 706ms\tremaining: 244ms\n",
      "743:\tlearn: 0.0879057\ttotal: 707ms\tremaining: 243ms\n",
      "744:\tlearn: 0.0877079\ttotal: 707ms\tremaining: 242ms\n",
      "745:\tlearn: 0.0876420\ttotal: 708ms\tremaining: 241ms\n",
      "746:\tlearn: 0.0874810\ttotal: 709ms\tremaining: 240ms\n",
      "747:\tlearn: 0.0873920\ttotal: 710ms\tremaining: 239ms\n",
      "748:\tlearn: 0.0872522\ttotal: 711ms\tremaining: 238ms\n",
      "749:\tlearn: 0.0871619\ttotal: 711ms\tremaining: 237ms\n",
      "750:\tlearn: 0.0870192\ttotal: 712ms\tremaining: 236ms\n",
      "751:\tlearn: 0.0868269\ttotal: 713ms\tremaining: 235ms\n",
      "752:\tlearn: 0.0867244\ttotal: 714ms\tremaining: 234ms\n",
      "753:\tlearn: 0.0865700\ttotal: 715ms\tremaining: 233ms\n",
      "754:\tlearn: 0.0864642\ttotal: 715ms\tremaining: 232ms\n",
      "755:\tlearn: 0.0864138\ttotal: 716ms\tremaining: 231ms\n",
      "756:\tlearn: 0.0862801\ttotal: 717ms\tremaining: 230ms\n",
      "757:\tlearn: 0.0861840\ttotal: 718ms\tremaining: 229ms\n",
      "758:\tlearn: 0.0859577\ttotal: 719ms\tremaining: 228ms\n",
      "759:\tlearn: 0.0858810\ttotal: 719ms\tremaining: 227ms\n",
      "760:\tlearn: 0.0857839\ttotal: 720ms\tremaining: 226ms\n",
      "761:\tlearn: 0.0856594\ttotal: 721ms\tremaining: 225ms\n",
      "762:\tlearn: 0.0855760\ttotal: 722ms\tremaining: 224ms\n",
      "763:\tlearn: 0.0854328\ttotal: 723ms\tremaining: 223ms\n",
      "764:\tlearn: 0.0854193\ttotal: 724ms\tremaining: 222ms\n",
      "765:\tlearn: 0.0852728\ttotal: 725ms\tremaining: 221ms\n",
      "766:\tlearn: 0.0851808\ttotal: 726ms\tremaining: 220ms\n",
      "767:\tlearn: 0.0850695\ttotal: 726ms\tremaining: 219ms\n",
      "768:\tlearn: 0.0850521\ttotal: 727ms\tremaining: 218ms\n",
      "769:\tlearn: 0.0848841\ttotal: 728ms\tremaining: 217ms\n",
      "770:\tlearn: 0.0847401\ttotal: 729ms\tremaining: 216ms\n",
      "771:\tlearn: 0.0846458\ttotal: 730ms\tremaining: 215ms\n",
      "772:\tlearn: 0.0845706\ttotal: 731ms\tremaining: 215ms\n",
      "773:\tlearn: 0.0844703\ttotal: 731ms\tremaining: 214ms\n",
      "774:\tlearn: 0.0843332\ttotal: 732ms\tremaining: 213ms\n",
      "775:\tlearn: 0.0842038\ttotal: 733ms\tremaining: 212ms\n",
      "776:\tlearn: 0.0840983\ttotal: 734ms\tremaining: 211ms\n",
      "777:\tlearn: 0.0839442\ttotal: 735ms\tremaining: 210ms\n",
      "778:\tlearn: 0.0838103\ttotal: 735ms\tremaining: 209ms\n",
      "779:\tlearn: 0.0836732\ttotal: 736ms\tremaining: 208ms\n",
      "780:\tlearn: 0.0835252\ttotal: 737ms\tremaining: 207ms\n",
      "781:\tlearn: 0.0833786\ttotal: 738ms\tremaining: 206ms\n",
      "782:\tlearn: 0.0833067\ttotal: 739ms\tremaining: 205ms\n",
      "783:\tlearn: 0.0832845\ttotal: 740ms\tremaining: 204ms\n",
      "784:\tlearn: 0.0832716\ttotal: 741ms\tremaining: 203ms\n",
      "785:\tlearn: 0.0832567\ttotal: 742ms\tremaining: 202ms\n",
      "786:\tlearn: 0.0831327\ttotal: 743ms\tremaining: 201ms\n",
      "787:\tlearn: 0.0829391\ttotal: 744ms\tremaining: 200ms\n",
      "788:\tlearn: 0.0827876\ttotal: 745ms\tremaining: 199ms\n",
      "789:\tlearn: 0.0826362\ttotal: 745ms\tremaining: 198ms\n"
     ]
    },
    {
     "name": "stdout",
     "output_type": "stream",
     "text": [
      "790:\tlearn: 0.0825036\ttotal: 746ms\tremaining: 197ms\n",
      "791:\tlearn: 0.0823234\ttotal: 747ms\tremaining: 196ms\n",
      "792:\tlearn: 0.0821985\ttotal: 748ms\tremaining: 195ms\n",
      "793:\tlearn: 0.0820443\ttotal: 749ms\tremaining: 194ms\n",
      "794:\tlearn: 0.0820058\ttotal: 750ms\tremaining: 193ms\n",
      "795:\tlearn: 0.0818979\ttotal: 751ms\tremaining: 192ms\n",
      "796:\tlearn: 0.0818073\ttotal: 751ms\tremaining: 191ms\n",
      "797:\tlearn: 0.0817580\ttotal: 752ms\tremaining: 190ms\n",
      "798:\tlearn: 0.0816324\ttotal: 753ms\tremaining: 189ms\n",
      "799:\tlearn: 0.0815983\ttotal: 754ms\tremaining: 189ms\n",
      "800:\tlearn: 0.0814426\ttotal: 755ms\tremaining: 188ms\n",
      "801:\tlearn: 0.0813134\ttotal: 756ms\tremaining: 187ms\n",
      "802:\tlearn: 0.0811959\ttotal: 757ms\tremaining: 186ms\n",
      "803:\tlearn: 0.0811527\ttotal: 759ms\tremaining: 185ms\n",
      "804:\tlearn: 0.0810314\ttotal: 759ms\tremaining: 184ms\n",
      "805:\tlearn: 0.0808784\ttotal: 760ms\tremaining: 183ms\n",
      "806:\tlearn: 0.0807518\ttotal: 762ms\tremaining: 182ms\n",
      "807:\tlearn: 0.0806755\ttotal: 762ms\tremaining: 181ms\n",
      "808:\tlearn: 0.0805972\ttotal: 763ms\tremaining: 180ms\n",
      "809:\tlearn: 0.0804393\ttotal: 764ms\tremaining: 179ms\n",
      "810:\tlearn: 0.0803244\ttotal: 765ms\tremaining: 178ms\n",
      "811:\tlearn: 0.0802049\ttotal: 766ms\tremaining: 177ms\n",
      "812:\tlearn: 0.0800750\ttotal: 766ms\tremaining: 176ms\n",
      "813:\tlearn: 0.0799768\ttotal: 767ms\tremaining: 175ms\n",
      "814:\tlearn: 0.0798036\ttotal: 769ms\tremaining: 174ms\n",
      "815:\tlearn: 0.0796763\ttotal: 770ms\tremaining: 174ms\n",
      "816:\tlearn: 0.0796448\ttotal: 771ms\tremaining: 173ms\n",
      "817:\tlearn: 0.0795092\ttotal: 772ms\tremaining: 172ms\n",
      "818:\tlearn: 0.0794195\ttotal: 773ms\tremaining: 171ms\n",
      "819:\tlearn: 0.0793417\ttotal: 774ms\tremaining: 170ms\n",
      "820:\tlearn: 0.0791243\ttotal: 775ms\tremaining: 169ms\n",
      "821:\tlearn: 0.0791000\ttotal: 776ms\tremaining: 168ms\n",
      "822:\tlearn: 0.0789762\ttotal: 778ms\tremaining: 167ms\n",
      "823:\tlearn: 0.0788281\ttotal: 779ms\tremaining: 166ms\n",
      "824:\tlearn: 0.0787315\ttotal: 780ms\tremaining: 165ms\n",
      "825:\tlearn: 0.0786092\ttotal: 780ms\tremaining: 164ms\n",
      "826:\tlearn: 0.0785767\ttotal: 781ms\tremaining: 163ms\n",
      "827:\tlearn: 0.0785385\ttotal: 782ms\tremaining: 162ms\n",
      "828:\tlearn: 0.0784927\ttotal: 783ms\tremaining: 161ms\n",
      "829:\tlearn: 0.0784292\ttotal: 783ms\tremaining: 160ms\n",
      "830:\tlearn: 0.0782435\ttotal: 784ms\tremaining: 159ms\n",
      "831:\tlearn: 0.0780828\ttotal: 785ms\tremaining: 159ms\n",
      "832:\tlearn: 0.0779539\ttotal: 786ms\tremaining: 158ms\n",
      "833:\tlearn: 0.0778710\ttotal: 787ms\tremaining: 157ms\n",
      "834:\tlearn: 0.0778313\ttotal: 788ms\tremaining: 156ms\n",
      "835:\tlearn: 0.0776866\ttotal: 789ms\tremaining: 155ms\n",
      "836:\tlearn: 0.0775373\ttotal: 789ms\tremaining: 154ms\n",
      "837:\tlearn: 0.0774489\ttotal: 791ms\tremaining: 153ms\n",
      "838:\tlearn: 0.0773252\ttotal: 793ms\tremaining: 152ms\n",
      "839:\tlearn: 0.0772106\ttotal: 794ms\tremaining: 151ms\n",
      "840:\tlearn: 0.0770750\ttotal: 794ms\tremaining: 150ms\n",
      "841:\tlearn: 0.0769329\ttotal: 795ms\tremaining: 149ms\n",
      "842:\tlearn: 0.0768297\ttotal: 796ms\tremaining: 148ms\n",
      "843:\tlearn: 0.0767304\ttotal: 797ms\tremaining: 147ms\n",
      "844:\tlearn: 0.0765790\ttotal: 798ms\tremaining: 146ms\n",
      "845:\tlearn: 0.0764645\ttotal: 798ms\tremaining: 145ms\n",
      "846:\tlearn: 0.0763023\ttotal: 799ms\tremaining: 144ms\n",
      "847:\tlearn: 0.0762673\ttotal: 801ms\tremaining: 144ms\n",
      "848:\tlearn: 0.0762535\ttotal: 802ms\tremaining: 143ms\n",
      "849:\tlearn: 0.0761014\ttotal: 803ms\tremaining: 142ms\n",
      "850:\tlearn: 0.0759804\ttotal: 804ms\tremaining: 141ms\n",
      "851:\tlearn: 0.0758873\ttotal: 806ms\tremaining: 140ms\n",
      "852:\tlearn: 0.0757449\ttotal: 807ms\tremaining: 139ms\n",
      "853:\tlearn: 0.0757321\ttotal: 807ms\tremaining: 138ms\n",
      "854:\tlearn: 0.0757029\ttotal: 808ms\tremaining: 137ms\n",
      "855:\tlearn: 0.0755759\ttotal: 812ms\tremaining: 137ms\n",
      "856:\tlearn: 0.0754768\ttotal: 813ms\tremaining: 136ms\n",
      "857:\tlearn: 0.0753088\ttotal: 814ms\tremaining: 135ms\n",
      "858:\tlearn: 0.0752029\ttotal: 815ms\tremaining: 134ms\n",
      "859:\tlearn: 0.0751355\ttotal: 816ms\tremaining: 133ms\n",
      "860:\tlearn: 0.0750593\ttotal: 817ms\tremaining: 132ms\n",
      "861:\tlearn: 0.0749901\ttotal: 818ms\tremaining: 131ms\n",
      "862:\tlearn: 0.0748508\ttotal: 819ms\tremaining: 130ms\n",
      "863:\tlearn: 0.0748415\ttotal: 819ms\tremaining: 129ms\n",
      "864:\tlearn: 0.0747359\ttotal: 820ms\tremaining: 128ms\n",
      "865:\tlearn: 0.0746928\ttotal: 821ms\tremaining: 127ms\n",
      "866:\tlearn: 0.0746093\ttotal: 822ms\tremaining: 126ms\n",
      "867:\tlearn: 0.0745622\ttotal: 822ms\tremaining: 125ms\n",
      "868:\tlearn: 0.0744031\ttotal: 823ms\tremaining: 124ms\n",
      "869:\tlearn: 0.0742521\ttotal: 824ms\tremaining: 123ms\n",
      "870:\tlearn: 0.0742232\ttotal: 825ms\tremaining: 122ms\n",
      "871:\tlearn: 0.0740228\ttotal: 825ms\tremaining: 121ms\n",
      "872:\tlearn: 0.0738540\ttotal: 827ms\tremaining: 120ms\n",
      "873:\tlearn: 0.0737525\ttotal: 828ms\tremaining: 119ms\n",
      "874:\tlearn: 0.0737092\ttotal: 829ms\tremaining: 118ms\n",
      "875:\tlearn: 0.0736289\ttotal: 830ms\tremaining: 117ms\n",
      "876:\tlearn: 0.0735529\ttotal: 831ms\tremaining: 117ms\n",
      "877:\tlearn: 0.0734527\ttotal: 832ms\tremaining: 116ms\n",
      "878:\tlearn: 0.0733633\ttotal: 833ms\tremaining: 115ms\n",
      "879:\tlearn: 0.0732406\ttotal: 833ms\tremaining: 114ms\n",
      "880:\tlearn: 0.0731246\ttotal: 834ms\tremaining: 113ms\n",
      "881:\tlearn: 0.0730997\ttotal: 835ms\tremaining: 112ms\n",
      "882:\tlearn: 0.0730477\ttotal: 836ms\tremaining: 111ms\n",
      "883:\tlearn: 0.0728840\ttotal: 836ms\tremaining: 110ms\n",
      "884:\tlearn: 0.0727387\ttotal: 837ms\tremaining: 109ms\n",
      "885:\tlearn: 0.0726371\ttotal: 838ms\tremaining: 108ms\n",
      "886:\tlearn: 0.0725135\ttotal: 841ms\tremaining: 107ms\n",
      "887:\tlearn: 0.0724141\ttotal: 842ms\tremaining: 106ms\n",
      "888:\tlearn: 0.0723789\ttotal: 843ms\tremaining: 105ms\n",
      "889:\tlearn: 0.0722512\ttotal: 843ms\tremaining: 104ms\n",
      "890:\tlearn: 0.0721234\ttotal: 844ms\tremaining: 103ms\n",
      "891:\tlearn: 0.0720277\ttotal: 845ms\tremaining: 102ms\n",
      "892:\tlearn: 0.0718770\ttotal: 846ms\tremaining: 101ms\n",
      "893:\tlearn: 0.0718554\ttotal: 847ms\tremaining: 100ms\n",
      "894:\tlearn: 0.0717578\ttotal: 848ms\tremaining: 99.5ms\n",
      "895:\tlearn: 0.0716410\ttotal: 849ms\tremaining: 98.5ms\n",
      "896:\tlearn: 0.0715205\ttotal: 850ms\tremaining: 97.6ms\n"
     ]
    },
    {
     "name": "stdout",
     "output_type": "stream",
     "text": [
      "897:\tlearn: 0.0714928\ttotal: 851ms\tremaining: 96.6ms\n",
      "898:\tlearn: 0.0713378\ttotal: 852ms\tremaining: 95.7ms\n",
      "899:\tlearn: 0.0712335\ttotal: 852ms\tremaining: 94.7ms\n",
      "900:\tlearn: 0.0711328\ttotal: 853ms\tremaining: 93.7ms\n",
      "901:\tlearn: 0.0710513\ttotal: 854ms\tremaining: 92.8ms\n",
      "902:\tlearn: 0.0710012\ttotal: 855ms\tremaining: 91.8ms\n",
      "903:\tlearn: 0.0707957\ttotal: 856ms\tremaining: 90.9ms\n",
      "904:\tlearn: 0.0706758\ttotal: 858ms\tremaining: 90ms\n",
      "905:\tlearn: 0.0705696\ttotal: 858ms\tremaining: 89.1ms\n",
      "906:\tlearn: 0.0703965\ttotal: 859ms\tremaining: 88.1ms\n",
      "907:\tlearn: 0.0702971\ttotal: 860ms\tremaining: 87.1ms\n",
      "908:\tlearn: 0.0702111\ttotal: 861ms\tremaining: 86.2ms\n",
      "909:\tlearn: 0.0700834\ttotal: 862ms\tremaining: 85.2ms\n",
      "910:\tlearn: 0.0698766\ttotal: 863ms\tremaining: 84.3ms\n",
      "911:\tlearn: 0.0697848\ttotal: 864ms\tremaining: 83.3ms\n",
      "912:\tlearn: 0.0696415\ttotal: 864ms\tremaining: 82.4ms\n",
      "913:\tlearn: 0.0694858\ttotal: 865ms\tremaining: 81.4ms\n",
      "914:\tlearn: 0.0693700\ttotal: 866ms\tremaining: 80.4ms\n",
      "915:\tlearn: 0.0692868\ttotal: 867ms\tremaining: 79.5ms\n",
      "916:\tlearn: 0.0692157\ttotal: 867ms\tremaining: 78.5ms\n",
      "917:\tlearn: 0.0690871\ttotal: 868ms\tremaining: 77.5ms\n",
      "918:\tlearn: 0.0690272\ttotal: 869ms\tremaining: 76.6ms\n",
      "919:\tlearn: 0.0689663\ttotal: 871ms\tremaining: 75.7ms\n",
      "920:\tlearn: 0.0688548\ttotal: 871ms\tremaining: 74.8ms\n",
      "921:\tlearn: 0.0687627\ttotal: 872ms\tremaining: 73.8ms\n",
      "922:\tlearn: 0.0687511\ttotal: 873ms\tremaining: 72.8ms\n",
      "923:\tlearn: 0.0686227\ttotal: 874ms\tremaining: 71.9ms\n",
      "924:\tlearn: 0.0685128\ttotal: 875ms\tremaining: 70.9ms\n",
      "925:\tlearn: 0.0683696\ttotal: 876ms\tremaining: 70ms\n",
      "926:\tlearn: 0.0682255\ttotal: 877ms\tremaining: 69ms\n",
      "927:\tlearn: 0.0681641\ttotal: 878ms\tremaining: 68.1ms\n",
      "928:\tlearn: 0.0680954\ttotal: 879ms\tremaining: 67.2ms\n",
      "929:\tlearn: 0.0680327\ttotal: 879ms\tremaining: 66.2ms\n",
      "930:\tlearn: 0.0679384\ttotal: 880ms\tremaining: 65.2ms\n",
      "931:\tlearn: 0.0679126\ttotal: 881ms\tremaining: 64.2ms\n",
      "932:\tlearn: 0.0678681\ttotal: 881ms\tremaining: 63.3ms\n",
      "933:\tlearn: 0.0678263\ttotal: 882ms\tremaining: 62.3ms\n",
      "934:\tlearn: 0.0677237\ttotal: 882ms\tremaining: 61.3ms\n",
      "935:\tlearn: 0.0676470\ttotal: 883ms\tremaining: 60.4ms\n",
      "936:\tlearn: 0.0675367\ttotal: 884ms\tremaining: 59.5ms\n",
      "937:\tlearn: 0.0674937\ttotal: 885ms\tremaining: 58.5ms\n",
      "938:\tlearn: 0.0674288\ttotal: 886ms\tremaining: 57.6ms\n",
      "939:\tlearn: 0.0673176\ttotal: 887ms\tremaining: 56.6ms\n",
      "940:\tlearn: 0.0672191\ttotal: 888ms\tremaining: 55.7ms\n",
      "941:\tlearn: 0.0670464\ttotal: 889ms\tremaining: 54.7ms\n",
      "942:\tlearn: 0.0670206\ttotal: 890ms\tremaining: 53.8ms\n",
      "943:\tlearn: 0.0669375\ttotal: 891ms\tremaining: 52.8ms\n",
      "944:\tlearn: 0.0667473\ttotal: 892ms\tremaining: 51.9ms\n",
      "945:\tlearn: 0.0665610\ttotal: 893ms\tremaining: 51ms\n",
      "946:\tlearn: 0.0664577\ttotal: 894ms\tremaining: 50ms\n",
      "947:\tlearn: 0.0663402\ttotal: 895ms\tremaining: 49.1ms\n",
      "948:\tlearn: 0.0662137\ttotal: 895ms\tremaining: 48.1ms\n",
      "949:\tlearn: 0.0661253\ttotal: 896ms\tremaining: 47.2ms\n",
      "950:\tlearn: 0.0660270\ttotal: 897ms\tremaining: 46.2ms\n",
      "951:\tlearn: 0.0659950\ttotal: 898ms\tremaining: 45.3ms\n",
      "952:\tlearn: 0.0659166\ttotal: 899ms\tremaining: 44.3ms\n",
      "953:\tlearn: 0.0658323\ttotal: 900ms\tremaining: 43.4ms\n",
      "954:\tlearn: 0.0657332\ttotal: 901ms\tremaining: 42.4ms\n",
      "955:\tlearn: 0.0656421\ttotal: 902ms\tremaining: 41.5ms\n",
      "956:\tlearn: 0.0655730\ttotal: 902ms\tremaining: 40.5ms\n",
      "957:\tlearn: 0.0654213\ttotal: 903ms\tremaining: 39.6ms\n",
      "958:\tlearn: 0.0653023\ttotal: 904ms\tremaining: 38.7ms\n",
      "959:\tlearn: 0.0651712\ttotal: 905ms\tremaining: 37.7ms\n",
      "960:\tlearn: 0.0651499\ttotal: 906ms\tremaining: 36.8ms\n",
      "961:\tlearn: 0.0650050\ttotal: 907ms\tremaining: 35.8ms\n",
      "962:\tlearn: 0.0649081\ttotal: 907ms\tremaining: 34.9ms\n",
      "963:\tlearn: 0.0647738\ttotal: 908ms\tremaining: 33.9ms\n",
      "964:\tlearn: 0.0646540\ttotal: 909ms\tremaining: 33ms\n",
      "965:\tlearn: 0.0645583\ttotal: 910ms\tremaining: 32ms\n",
      "966:\tlearn: 0.0644881\ttotal: 911ms\tremaining: 31.1ms\n",
      "967:\tlearn: 0.0643943\ttotal: 912ms\tremaining: 30.1ms\n",
      "968:\tlearn: 0.0643452\ttotal: 913ms\tremaining: 29.2ms\n",
      "969:\tlearn: 0.0642140\ttotal: 913ms\tremaining: 28.3ms\n",
      "970:\tlearn: 0.0640375\ttotal: 914ms\tremaining: 27.3ms\n",
      "971:\tlearn: 0.0638985\ttotal: 915ms\tremaining: 26.4ms\n",
      "972:\tlearn: 0.0638340\ttotal: 916ms\tremaining: 25.4ms\n",
      "973:\tlearn: 0.0637851\ttotal: 917ms\tremaining: 24.5ms\n",
      "974:\tlearn: 0.0636820\ttotal: 918ms\tremaining: 23.5ms\n",
      "975:\tlearn: 0.0636654\ttotal: 919ms\tremaining: 22.6ms\n",
      "976:\tlearn: 0.0635143\ttotal: 920ms\tremaining: 21.7ms\n",
      "977:\tlearn: 0.0633988\ttotal: 921ms\tremaining: 20.7ms\n",
      "978:\tlearn: 0.0632756\ttotal: 922ms\tremaining: 19.8ms\n",
      "979:\tlearn: 0.0631795\ttotal: 923ms\tremaining: 18.8ms\n",
      "980:\tlearn: 0.0631050\ttotal: 923ms\tremaining: 17.9ms\n",
      "981:\tlearn: 0.0630680\ttotal: 924ms\tremaining: 16.9ms\n",
      "982:\tlearn: 0.0629611\ttotal: 925ms\tremaining: 16ms\n",
      "983:\tlearn: 0.0628449\ttotal: 926ms\tremaining: 15.1ms\n",
      "984:\tlearn: 0.0627423\ttotal: 927ms\tremaining: 14.1ms\n",
      "985:\tlearn: 0.0626389\ttotal: 928ms\tremaining: 13.2ms\n",
      "986:\tlearn: 0.0626162\ttotal: 929ms\tremaining: 12.2ms\n",
      "987:\tlearn: 0.0625005\ttotal: 930ms\tremaining: 11.3ms\n",
      "988:\tlearn: 0.0624792\ttotal: 931ms\tremaining: 10.4ms\n"
     ]
    },
    {
     "name": "stdout",
     "output_type": "stream",
     "text": [
      "989:\tlearn: 0.0624188\ttotal: 932ms\tremaining: 9.41ms\n",
      "990:\tlearn: 0.0623508\ttotal: 933ms\tremaining: 8.47ms\n",
      "991:\tlearn: 0.0621754\ttotal: 934ms\tremaining: 7.53ms\n",
      "992:\tlearn: 0.0620792\ttotal: 935ms\tremaining: 6.59ms\n",
      "993:\tlearn: 0.0620063\ttotal: 936ms\tremaining: 5.65ms\n",
      "994:\tlearn: 0.0619155\ttotal: 937ms\tremaining: 4.71ms\n",
      "995:\tlearn: 0.0618072\ttotal: 938ms\tremaining: 3.77ms\n",
      "996:\tlearn: 0.0617211\ttotal: 939ms\tremaining: 2.83ms\n",
      "997:\tlearn: 0.0617012\ttotal: 940ms\tremaining: 1.88ms\n",
      "998:\tlearn: 0.0615838\ttotal: 941ms\tremaining: 941us\n",
      "999:\tlearn: 0.0615025\ttotal: 942ms\tremaining: 0us\n"
     ]
    },
    {
     "data": {
      "text/plain": [
       "<catboost.core.CatBoostRegressor at 0x7f9be03900a0>"
      ]
     },
     "execution_count": 9,
     "metadata": {},
     "output_type": "execute_result"
    }
   ],
   "source": [
    "#Train the Model \n",
    "prior_model = ctb.CatBoostRegressor()\n",
    "prior_model.fit(X_train,Y_train)"
   ]
  },
  {
   "cell_type": "code",
   "execution_count": 10,
   "id": "af65dcda",
   "metadata": {
    "execution": {
     "iopub.execute_input": "2022-06-12T04:52:25.657049Z",
     "iopub.status.busy": "2022-06-12T04:52:25.656674Z",
     "iopub.status.idle": "2022-06-12T04:52:25.664296Z",
     "shell.execute_reply": "2022-06-12T04:52:25.664595Z"
    },
    "id": "af65dcda",
    "papermill": {
     "duration": 0.021303,
     "end_time": "2022-06-12T04:52:25.664709",
     "exception": false,
     "start_time": "2022-06-12T04:52:25.643406",
     "status": "completed"
    },
    "tags": []
   },
   "outputs": [
    {
     "data": {
      "application/scrapbook.scrap.json+json": {
       "data": 0.06687877576941595,
       "encoder": "json",
       "name": "Prior Model MSE",
       "version": 1
      }
     },
     "metadata": {
      "scrapbook": {
       "data": true,
       "display": false,
       "name": "Prior Model MSE"
      }
     },
     "output_type": "display_data"
    },
    {
     "data": {
      "application/scrapbook.scrap.json+json": {
       "data": 1.085029176004401,
       "encoder": "json",
       "name": "ABC Pre-generator MSE",
       "version": 1
      }
     },
     "metadata": {
      "scrapbook": {
       "data": true,
       "display": false,
       "name": "ABC Pre-generator MSE"
      }
     },
     "output_type": "display_data"
    },
    {
     "data": {
      "application/scrapbook.scrap.json+json": {
       "data": 0.19444036077523738,
       "encoder": "json",
       "name": "Prior Model MSE",
       "version": 1
      }
     },
     "metadata": {
      "scrapbook": {
       "data": true,
       "display": false,
       "name": "Prior Model MSE"
      }
     },
     "output_type": "display_data"
    },
    {
     "data": {
      "application/scrapbook.scrap.json+json": {
       "data": 1.0021235288846941,
       "encoder": "json",
       "name": "ABC Pre-generator MSE",
       "version": 1
      }
     },
     "metadata": {
      "scrapbook": {
       "data": true,
       "display": false,
       "name": "ABC Pre-generator MSE"
      }
     },
     "output_type": "display_data"
    }
   ],
   "source": [
    "y_pred = prior_model.predict(X_test)\n",
    "y_abc = y_pred + np.random.normal(0,variance, y_pred.shape) + bias \n",
    "mse = mean_squared_error(y_pred,Y_test)\n",
    "sb.glue(\"Prior Model MSE\",mse)\n",
    "mse = mean_squared_error(y_abc,Y_test)\n",
    "sb.glue(\"ABC Pre-generator MSE\",mse)\n",
    "mae = mean_absolute_error(y_pred,Y_test)\n",
    "sb.glue(\"Prior Model MSE\",mae)\n",
    "mae = mean_absolute_error(y_abc,Y_test)\n",
    "sb.glue(\"ABC Pre-generator MSE\",mae)"
   ]
  },
  {
   "cell_type": "markdown",
   "id": "25609da2",
   "metadata": {
    "papermill": {
     "duration": 0.010154,
     "end_time": "2022-06-12T04:52:25.685261",
     "exception": false,
     "start_time": "2022-06-12T04:52:25.675107",
     "status": "completed"
    },
    "tags": []
   },
   "source": [
    "# ABC GAN Model"
   ]
  },
  {
   "cell_type": "code",
   "execution_count": 11,
   "id": "dfc3464d",
   "metadata": {
    "execution": {
     "iopub.execute_input": "2022-06-12T04:52:25.708903Z",
     "iopub.status.busy": "2022-06-12T04:52:25.708521Z",
     "iopub.status.idle": "2022-06-12T04:52:25.711221Z",
     "shell.execute_reply": "2022-06-12T04:52:25.711467Z"
    },
    "papermill": {
     "duration": 0.016047,
     "end_time": "2022-06-12T04:52:25.711579",
     "exception": false,
     "start_time": "2022-06-12T04:52:25.695532",
     "status": "completed"
    },
    "tags": []
   },
   "outputs": [],
   "source": [
    "gen = network.Generator(n_features+1).to(device)\n",
    "disc = network.Discriminator(n_features+1).to(device)\n",
    "\n",
    "criterion = torch.nn.BCELoss()\n",
    "gen_opt = torch.optim.Adam(gen.parameters(), lr=0.001, betas=(0.5, 0.999))\n",
    "disc_opt = torch.optim.Adam(disc.parameters(), lr=0.001, betas=(0.5, 0.999))"
   ]
  },
  {
   "cell_type": "code",
   "execution_count": 12,
   "id": "b75fdd85",
   "metadata": {
    "execution": {
     "iopub.execute_input": "2022-06-12T04:52:25.735512Z",
     "iopub.status.busy": "2022-06-12T04:52:25.735146Z",
     "iopub.status.idle": "2022-06-12T04:53:28.226812Z",
     "shell.execute_reply": "2022-06-12T04:53:28.227213Z"
    },
    "papermill": {
     "duration": 62.505256,
     "end_time": "2022-06-12T04:53:28.227348",
     "exception": false,
     "start_time": "2022-06-12T04:52:25.722092",
     "status": "completed"
    },
    "tags": []
   },
   "outputs": [
    {
     "data": {
      "image/png": "[encoded data removed]",
      "text/plain": [
       "<Figure size 432x288 with 1 Axes>"
      ]
     },
     "metadata": {
      "needs_background": "light"
     },
     "output_type": "display_data"
    },
    {
     "data": {
      "image/png": "[encoded data removed]",
      "text/plain": [
       "<Figure size 432x288 with 1 Axes>"
      ]
     },
     "metadata": {
      "needs_background": "light"
     },
     "output_type": "display_data"
    }
   ],
   "source": [
    "#Training the ABC_GAN \n",
    "ABC_train_test2.training_GAN(disc,gen,disc_opt,gen_opt,train_data,batch_size,n_epochs,criterion,prior_model,variance,bias,device)"
   ]
  },
  {
   "cell_type": "code",
   "execution_count": 13,
   "id": "1fa7c368",
   "metadata": {
    "execution": {
     "iopub.execute_input": "2022-06-12T04:53:28.253431Z",
     "iopub.status.busy": "2022-06-12T04:53:28.253046Z",
     "iopub.status.idle": "2022-06-12T04:53:28.561210Z",
     "shell.execute_reply": "2022-06-12T04:53:28.561506Z"
    },
    "papermill": {
     "duration": 0.322677,
     "end_time": "2022-06-12T04:53:28.561639",
     "exception": false,
     "start_time": "2022-06-12T04:53:28.238962",
     "status": "completed"
    },
    "tags": []
   },
   "outputs": [
    {
     "data": {
      "application/scrapbook.scrap.json+json": {
       "data": 0.08884505304688202,
       "encoder": "json",
       "name": "ABC-GAN Model 1 MSE",
       "version": 1
      }
     },
     "metadata": {
      "scrapbook": {
       "data": true,
       "display": false,
       "name": "ABC-GAN Model 1 MSE"
      }
     },
     "output_type": "display_data"
    },
    {
     "data": {
      "application/scrapbook.scrap.json+json": {
       "data": 0.22219482385644726,
       "encoder": "json",
       "name": "ABC-GAN Model 1 MAE",
       "version": 1
      }
     },
     "metadata": {
      "scrapbook": {
       "data": true,
       "display": false,
       "name": "ABC-GAN Model 1 MAE"
      }
     },
     "output_type": "display_data"
    },
    {
     "data": {
      "application/scrapbook.scrap.json+json": {
       "data": 22.66387203335762,
       "encoder": "json",
       "name": "ABC-GAN Model 1 Manhattan Distance",
       "version": 1
      }
     },
     "metadata": {
      "scrapbook": {
       "data": true,
       "display": false,
       "name": "ABC-GAN Model 1 Manhattan Distance"
      }
     },
     "output_type": "display_data"
    },
    {
     "data": {
      "application/scrapbook.scrap.json+json": {
       "data": 3.0095439176673113,
       "encoder": "json",
       "name": "ABC-GAN Model 1 Euclidean distance",
       "version": 1
      }
     },
     "metadata": {
      "scrapbook": {
       "data": true,
       "display": false,
       "name": "ABC-GAN Model 1 Euclidean distance"
      }
     },
     "output_type": "display_data"
    },
    {
     "data": {
      "application/scrapbook.scrap.json+json": {
       "data": [
        [
         0.08061214393024822,
         0.09094022915191652,
         0.09037566977468245,
         0.08520867073027817,
         0.08735540474004506,
         0.08240646060605496,
         0.09089894669269093,
         0.09450581715567434,
         0.0869850656766826,
         0.08568356311740273,
         0.08464314330112739,
         0.09015519363771508,
         0.08954507164588928,
         0.0901189909021156,
         0.08708130487220701,
         0.0989634125943074,
         0.08692051421860288,
         0.09098218784799364,
         0.08467227484241395,
         0.09323063504697365,
         0.0929481588325153,
         0.08564193708655281,
         0.08426142264764137,
         0.08854680551839238,
         0.09205134289930313,
         0.09369666234669781,
         0.0911169857865187,
         0.08792456948230441,
         0.08938447075588471,
         0.09823865219568427,
         0.09553069733245088,
         0.09144940830630834,
         0.09076931324478787,
         0.08799734393788872,
         0.09328475286697556,
         0.08858607216254084,
         0.09291531246280789,
         0.089357207834857,
         0.089686004610741,
         0.08530532984639709,
         0.08627955189908672,
         0.09373002520383449,
         0.09429252257967309,
         0.07794790153327158,
         0.08751678635780505,
         0.08786199440968905,
         0.08841310426725207,
         0.08776868975166792,
         0.08794019426587103,
         0.08823960369412301,
         0.09737498600975605,
         0.09370866925209793,
         0.09248110943243251,
         0.0817294980855949,
         0.08904575259099998,
         0.08841321156559678,
         0.08645609122384204,
         0.08024479319207714,
         0.08180300880424582,
         0.08983468257394552,
         0.08524371341269192,
         0.09274073704453442,
         0.08797597151233724,
         0.08684890543507955,
         0.08964474051016698,
         0.09482953630497352,
         0.09573905736641647,
         0.08539699417455,
         0.08857907550187248,
         0.08368463872068611,
         0.09004625971401366,
         0.0880051868983625,
         0.08290398287072391,
         0.09541773334667898,
         0.08310404395049867,
         0.08902974032710903,
         0.09493123514818101,
         0.0850704733667128,
         0.08855492831581473,
         0.08209215747235005,
         0.0819751787897183,
         0.08451532925797352,
         0.09125622821744127,
         0.08633949303163403,
         0.089256111529783,
         0.09140012893291058,
         0.09121591591545339,
         0.08543725233743167,
         0.08909022209267177,
         0.09260390579466099,
         0.0906081524891279,
         0.08950956039278324,
         0.08721500246303161,
         0.09020629718495796,
         0.08823719041428699,
         0.09238658146438873,
         0.09262168514332927,
         0.08535504774795996,
         0.0914452817568606,
         0.08293230100290816
        ],
        [
         0.21214649250146514,
         0.2239217975578618,
         0.220609819270013,
         0.21510153158805242,
         0.2204405970816665,
         0.2128985193375425,
         0.22604120136512554,
         0.231757819259941,
         0.22181478497919208,
         0.22034577299457261,
         0.21969021167423503,
         0.22170231057623146,
         0.2266465783137463,
         0.21949098486562862,
         0.21686779602668158,
         0.23462267633637085,
         0.2209744393989882,
         0.22311060810826866,
         0.22257234642793441,
         0.2293231277361366,
         0.2288551775501201,
         0.2185615232561295,
         0.2171318909135081,
         0.2210857160115505,
         0.2223463988789887,
         0.23028478454615847,
         0.22600229677068545,
         0.2244048032672236,
         0.2248492184935101,
         0.23768635347083794,
         0.2240274224302494,
         0.22170667606862446,
         0.22884381720431002,
         0.22473844463078707,
         0.22704371902178608,
         0.22161188886920904,
         0.22156105534739645,
         0.22227624521645553,
         0.22152245315887473,
         0.21912486731604325,
         0.22045411919152327,
         0.22941101113261253,
         0.2300839489234575,
         0.21338101071944715,
         0.2277112288820539,
         0.22236655006988668,
         0.2206918814986506,
         0.22261105990037322,
         0.2207007608741668,
         0.2204376846716246,
         0.22999832977303394,
         0.22243833031468824,
         0.22692840309886664,
         0.2151124123940427,
         0.22241514414439306,
         0.21805328697733142,
         0.22651958243702264,
         0.20950569794056753,
         0.2078782864663677,
         0.22178203388865964,
         0.21108640300329118,
         0.22142762297253107,
         0.22637523284328043,
         0.22324195494144863,
         0.23013017491857504,
         0.2283307520362238,
         0.22994429166154826,
         0.2216995972135634,
         0.2269439879603976,
         0.22019629046211348,
         0.2213956140000008,
         0.21668280074007662,
         0.21079762142115072,
         0.22976150455902897,
         0.21275318130010776,
         0.21957134522095906,
         0.23101433834937565,
         0.2214422707409397,
         0.22424845394733198,
         0.21447616717869453,
         0.21410335327370786,
         0.21884577733227142,
         0.22175959608170623,
         0.2163117946600359,
         0.21248807010295637,
         0.22429533500918278,
         0.21781671318389914,
         0.218948505791452,
         0.22602381035868152,
         0.222569097719137,
         0.22906663613028677,
         0.21951361231542393,
         0.22141189337251524,
         0.21836864291781596,
         0.230588177885568,
         0.22780931383992234,
         0.2282037335521012,
         0.21620380970667682,
         0.22669029127185544,
         0.2147196845480186
        ],
        [
         21.638942235149443,
         22.8400233509019,
         22.502201565541327,
         21.940356221981347,
         22.48494090232998,
         21.715648972429335,
         23.056202539242804,
         23.63929756451398,
         22.62510806787759,
         22.475268845446408,
         22.408401590771973,
         22.61363567877561,
         23.11795098800212,
         22.38808045629412,
         22.12051519472152,
         23.931512986309826,
         22.539392818696797,
         22.757282027043402,
         22.70237933564931,
         23.390959029085934,
         23.34322811011225,
         22.29327537212521,
         22.147452873177826,
         22.55074303317815,
         22.679332685656846,
         23.489048023708165,
         23.052234270609915,
         22.889289933256805,
         22.93462028633803,
         24.24400805402547,
         22.85079708788544,
         22.614080958999693,
         23.342069354839623,
         22.92332135234028,
         23.15845934022218,
         22.60441266465932,
         22.59922764543444,
         22.672177012078464,
         22.59529022220522,
         22.350736466236413,
         22.486320157535374,
         23.39992313552648,
         23.468562790192664,
         21.76486309338361,
         23.226545345969498,
         22.68138810712844,
         22.51057191286236,
         22.70632810983807,
         22.511477609165013,
         22.48464383650571,
         23.459829636849463,
         22.6887096920982,
         23.146697116084397,
         21.941466064192355,
         22.686344702728093,
         22.241435271687806,
         23.10499740857631,
         21.36958118993789,
         21.203585219569504,
         22.621767456643283,
         21.5308131063357,
         22.58561754319817,
         23.090273750014603,
         22.77067940402776,
         23.473277841694653,
         23.28973670769483,
         23.454317749477923,
         22.613358915783465,
         23.148286771960557,
         22.460021627135575,
         22.58235262800008,
         22.101645675487816,
         21.501357384957373,
         23.435673465020955,
         21.70082449261099,
         22.396277212537825,
         23.563462511636317,
         22.58711161557585,
         22.87334230262786,
         21.87656905222684,
         21.838542033918202,
         22.322269287891686,
         22.619478800334036,
         22.06380305532366,
         21.67378315050155,
         22.878124170936644,
         22.217304744757712,
         22.332747590728104,
         23.054428656585515,
         22.702047967351973,
         23.364796885289252,
         22.39038845617324,
         22.584013123996556,
         22.273601577617228,
         23.51999414432794,
         23.23655001167208,
         23.276780822314322,
         22.052788590081036,
         23.122409709729254,
         21.901407823897898
        ],
        [
         2.8674794996451705,
         3.045636776356544,
         3.0361683611120136,
         2.9480984404338284,
         2.9850044025904876,
         2.8992169601148525,
         3.044945412097641,
         3.1047694519688225,
         2.978670290418465,
         2.956302325198672,
         2.9382989324973368,
         3.0324626545180955,
         3.022184194896252,
         3.031853735260952,
         2.980317616792733,
         3.1771477908053556,
         2.977564852408339,
         3.046339304886333,
         2.93880452461987,
         3.0837517368931167,
         3.079076517548169,
         2.9555841356368764,
         2.931665927430924,
         3.0052910279831506,
         3.0641861848994942,
         3.091449426945745,
         3.0485951765075185,
         2.9947130225106795,
         3.0194728044975396,
         3.1654924615231343,
         3.1215590860834244,
         3.054151215516915,
         3.0427733979000733,
         2.9959521160500295,
         3.084646623591024,
         3.0059573118358096,
         3.078532421659126,
         3.0190122886724744,
         3.024561533560787,
         2.949770100250611,
         2.9665660777583978,
         3.0919997688860064,
         3.101263823528507,
         2.819696075181455,
         2.9877604001151283,
         2.993647178574703,
         3.003021251216799,
         2.9920572111291803,
         2.9949791009485933,
         3.0000732619055395,
         3.1515470126582463,
         3.091647499912302,
         3.0713308454329877,
         2.8872839840810047,
         3.0137463005837097,
         3.0030230734529613,
         2.9695995192671836,
         2.860938465887001,
         2.8885821605128483,
         3.027067495537957,
         2.948704591527367,
         3.075638987030583,
         2.9955882718188085,
         2.9763380779706647,
         3.0238656603819276,
         3.11008242705998,
         3.12496141598172,
         2.9513545035803648,
         3.0058386019863064,
         2.9216148188133877,
         3.030630048493117,
         2.996085623548328,
         2.9079556827458424,
         3.1197129357300253,
         2.9114622585482475,
         3.013475321512542,
         3.111749666202997,
         2.9457067544826496,
         3.0054288692652675,
         2.893682785341148,
         2.891620347928003,
         2.936079628401331,
         3.0509236762297096,
         2.9675963824662324,
         3.0173039913203747,
         3.053328208882379,
         3.0502497313131993,
         2.952050090770485,
         3.014498739998496,
         3.0733692246548276,
         3.0400709784297866,
         3.0215848755353356,
         2.9826046085978652,
         3.0333219929420134,
         3.000032236869676,
         3.0697607902518476,
         3.073664243963479,
         2.950629571852745,
         3.0540823072078105,
         2.9084522864053715
        ]
       ],
       "encoder": "json",
       "name": "ABC_GAN_1 Metrics",
       "version": 1
      }
     },
     "metadata": {
      "scrapbook": {
       "data": true,
       "display": false,
       "name": "ABC_GAN_1 Metrics"
      }
     },
     "output_type": "display_data"
    },
    {
     "name": "stdout",
     "output_type": "stream",
     "text": [
      "MSE\n",
      "0.08884505304688202\n"
     ]
    }
   ],
   "source": [
    "ABC_GAN1_metrics=ABC_train_test2.test_generator(gen,test_data,prior_model,variance,bias,\"1\",device)\n",
    "sb.glue(\"ABC_GAN_1 Metrics\",ABC_GAN1_metrics)\n",
    "\n",
    "print(\"MSE\")\n",
    "print(mean(ABC_GAN1_metrics[0]))"
   ]
  },
  {
   "cell_type": "code",
   "execution_count": 14,
   "id": "eb22ce5c",
   "metadata": {
    "execution": {
     "iopub.execute_input": "2022-06-12T04:53:28.589888Z",
     "iopub.status.busy": "2022-06-12T04:53:28.589526Z",
     "iopub.status.idle": "2022-06-12T04:53:28.914287Z",
     "shell.execute_reply": "2022-06-12T04:53:28.914598Z"
    },
    "papermill": {
     "duration": 0.339962,
     "end_time": "2022-06-12T04:53:28.914724",
     "exception": false,
     "start_time": "2022-06-12T04:53:28.574762",
     "status": "completed"
    },
    "tags": []
   },
   "outputs": [
    {
     "data": {
      "image/png": "[encoded data removed]",
      "text/plain": [
       "<Figure size 432x288 with 1 Axes>"
      ]
     },
     "metadata": {
      "needs_background": "light"
     },
     "output_type": "display_data"
    },
    {
     "data": {
      "image/png": "[encoded data removed]",
      "text/plain": [
       "<Figure size 432x288 with 1 Axes>"
      ]
     },
     "metadata": {
      "needs_background": "light"
     },
     "output_type": "display_data"
    },
    {
     "data": {
      "image/png": "[encoded data removed]",
      "text/plain": [
       "<Figure size 432x288 with 1 Axes>"
      ]
     },
     "metadata": {
      "needs_background": "light"
     },
     "output_type": "display_data"
    },
    {
     "data": {
      "image/png": "[encoded data removed]",
      "text/plain": [
       "<Figure size 432x288 with 1 Axes>"
      ]
     },
     "metadata": {
      "needs_background": "light"
     },
     "output_type": "display_data"
    }
   ],
   "source": [
    "sanityChecks.discProbVsError(train_data,disc,device)\n",
    "sanityChecks.discProbVsError(test_data,disc,device)"
   ]
  },
  {
   "cell_type": "markdown",
   "id": "130f3a4d",
   "metadata": {
    "id": "130f3a4d",
    "papermill": {
     "duration": 0.015078,
     "end_time": "2022-06-12T04:53:28.945689",
     "exception": false,
     "start_time": "2022-06-12T04:53:28.930611",
     "status": "completed"
    },
    "tags": []
   },
   "source": [
    "# ABC - GAN Model with skip connection"
   ]
  },
  {
   "cell_type": "code",
   "execution_count": 15,
   "id": "4e43dad1",
   "metadata": {
    "execution": {
     "iopub.execute_input": "2022-06-12T04:53:28.978898Z",
     "iopub.status.busy": "2022-06-12T04:53:28.978508Z",
     "iopub.status.idle": "2022-06-12T04:53:28.981027Z",
     "shell.execute_reply": "2022-06-12T04:53:28.981290Z"
    },
    "id": "4e43dad1",
    "papermill": {
     "duration": 0.020654,
     "end_time": "2022-06-12T04:53:28.981411",
     "exception": false,
     "start_time": "2022-06-12T04:53:28.960757",
     "status": "completed"
    },
    "tags": []
   },
   "outputs": [],
   "source": [
    "#Generator\n",
    "gen3 = network.GeneratorWithSkipConnection(n_features+1).to(device)\n",
    "constraints=network.weightConstraint()\n",
    "#Discriminator \n",
    "disc3 = network.Discriminator(n_features+1).to(device)\n",
    "\n",
    "criterion = torch.nn.BCELoss()\n",
    "gen_opt = torch.optim.Adam(gen3.parameters(), lr=0.001, betas=(0.5, 0.999))\n",
    "disc_opt = torch.optim.Adam(disc3.parameters(), lr=0.001, betas=(0.5, 0.999))\n"
   ]
  },
  {
   "cell_type": "code",
   "execution_count": 16,
   "id": "26acbc37",
   "metadata": {
    "execution": {
     "iopub.execute_input": "2022-06-12T04:53:29.017549Z",
     "iopub.status.busy": "2022-06-12T04:53:29.017131Z",
     "iopub.status.idle": "2022-06-12T04:56:28.263088Z",
     "shell.execute_reply": "2022-06-12T04:56:28.263392Z"
    },
    "id": "26acbc37",
    "papermill": {
     "duration": 179.266323,
     "end_time": "2022-06-12T04:56:28.263515",
     "exception": false,
     "start_time": "2022-06-12T04:53:28.997192",
     "status": "completed"
    },
    "tags": []
   },
   "outputs": [
    {
     "data": {
      "image/png": "[encoded data removed]",
      "text/plain": [
       "<Figure size 432x288 with 1 Axes>"
      ]
     },
     "metadata": {
      "needs_background": "light"
     },
     "output_type": "display_data"
    },
    {
     "data": {
      "image/png": "[encoded data removed]",
      "text/plain": [
       "<Figure size 432x288 with 1 Axes>"
      ]
     },
     "metadata": {
      "needs_background": "light"
     },
     "output_type": "display_data"
    }
   ],
   "source": [
    "ABC_train_test2.training_GAN_skip_connection(disc3,gen3,disc_opt,gen_opt,train_data,batch_size,n_epochs,criterion,prior_model,variance,bias,device)"
   ]
  },
  {
   "cell_type": "code",
   "execution_count": 17,
   "id": "c5e0717b",
   "metadata": {
    "execution": {
     "iopub.execute_input": "2022-06-12T04:56:28.298115Z",
     "iopub.status.busy": "2022-06-12T04:56:28.297735Z",
     "iopub.status.idle": "2022-06-12T04:56:29.141193Z",
     "shell.execute_reply": "2022-06-12T04:56:29.141493Z"
    },
    "id": "c5e0717b",
    "papermill": {
     "duration": 0.861924,
     "end_time": "2022-06-12T04:56:29.141614",
     "exception": false,
     "start_time": "2022-06-12T04:56:28.279690",
     "status": "completed"
    },
    "tags": []
   },
   "outputs": [
    {
     "data": {
      "application/scrapbook.scrap.json+json": {
       "data": 0.09015674759696111,
       "encoder": "json",
       "name": "ABC-GAN Model 3 MSE",
       "version": 1
      }
     },
     "metadata": {
      "scrapbook": {
       "data": true,
       "display": false,
       "name": "ABC-GAN Model 3 MSE"
      }
     },
     "output_type": "display_data"
    },
    {
     "data": {
      "application/scrapbook.scrap.json+json": {
       "data": 0.22993841038505528,
       "encoder": "json",
       "name": "ABC-GAN Model 3 MAE",
       "version": 1
      }
     },
     "metadata": {
      "scrapbook": {
       "data": true,
       "display": false,
       "name": "ABC-GAN Model 3 MAE"
      }
     },
     "output_type": "display_data"
    },
    {
     "data": {
      "application/scrapbook.scrap.json+json": {
       "data": 23.45371785927564,
       "encoder": "json",
       "name": "ABC-GAN Model 3 Manhattan Distance",
       "version": 1
      }
     },
     "metadata": {
      "scrapbook": {
       "data": true,
       "display": false,
       "name": "ABC-GAN Model 3 Manhattan Distance"
      }
     },
     "output_type": "display_data"
    },
    {
     "data": {
      "application/scrapbook.scrap.json+json": {
       "data": 3.031732393939902,
       "encoder": "json",
       "name": "ABC-GAN Model 3 Euclidean distance",
       "version": 1
      }
     },
     "metadata": {
      "scrapbook": {
       "data": true,
       "display": false,
       "name": "ABC-GAN Model 3 Euclidean distance"
      }
     },
     "output_type": "display_data"
    },
    {
     "data": {
      "application/scrapbook.scrap.json+json": {
       "data": [
        [
         0.08583265391311165,
         0.09798804285615198,
         0.09639595163737814,
         0.08883831734383262,
         0.08732084587853657,
         0.08692407562375404,
         0.08980904197675679,
         0.09419238943621053,
         0.09237137811564772,
         0.09444042083712874,
         0.09170895029513786,
         0.08600906008118779,
         0.08936899362454646,
         0.08904527840986828,
         0.08439540446694582,
         0.08842692436380126,
         0.09268405968488971,
         0.0865927007534048,
         0.09664593170026115,
         0.08612274640388438,
         0.08613663901234336,
         0.09154702059268216,
         0.08279623978533206,
         0.09048737946153555,
         0.08769981988231415,
         0.08291991824762615,
         0.09223220518746884,
         0.09565735963646983,
         0.0894858761005151,
         0.09520389541079932,
         0.0902744167345474,
         0.08558640666256333,
         0.09015820259181098,
         0.09785581787762687,
         0.08501265927486279,
         0.09676008744290514,
         0.08963552312669165,
         0.08893929158819676,
         0.08990847577834667,
         0.09137719940128419,
         0.08811736387061561,
         0.08652301539220256,
         0.09286731303927222,
         0.08846854278523633,
         0.09387037567691524,
         0.09444261378872139,
         0.08797913188756568,
         0.09706361300287049,
         0.09246605503930029,
         0.09313932127493722,
         0.09771438193235099,
         0.10024162271237048,
         0.08552561954008012,
         0.08716397953077824,
         0.09709789849407637,
         0.08950450947320206,
         0.0880535711983289,
         0.09172034922384076,
         0.0817616509869584,
         0.08591425552328798,
         0.08924097315459774,
         0.08654781265919187,
         0.08881708264235653,
         0.09149280649176511,
         0.08464863678308392,
         0.09341148560502507,
         0.08292447011140971,
         0.08884611251699615,
         0.089170483539372,
         0.09004011062523934,
         0.0939483479495943,
         0.09002211552400513,
         0.08636803392690752,
         0.09514246480452933,
         0.08970600789716192,
         0.09602477468220276,
         0.08854352108325662,
         0.08790122372149697,
         0.08969943565732688,
         0.09186326038036267,
         0.09430018142337544,
         0.08703000059161492,
         0.0877744130181971,
         0.10002782651042333,
         0.09052592478592192,
         0.08702554361713123,
         0.09135241538181915,
         0.09034798027765376,
         0.08608367544774292,
         0.0981410034265311,
         0.08902350459551839,
         0.08692806659401399,
         0.08981787372048262,
         0.08655147675463362,
         0.08996266922423728,
         0.09092293553198887,
         0.09210542725557669,
         0.08447642471657683,
         0.08867896248895803,
         0.0858165090065625
        ],
        [
         0.22410761803279028,
         0.23721544083901772,
         0.23535128818897932,
         0.2310491312824774,
         0.22637642690838844,
         0.23276649186314613,
         0.22986610428265788,
         0.2354928673171968,
         0.22728142073816238,
         0.2289527171547068,
         0.22316851077016955,
         0.22576736400415207,
         0.2277999273866561,
         0.22356632035043017,
         0.2216817998582972,
         0.23215084483700932,
         0.23296811348557764,
         0.22565426419069076,
         0.23892375422349454,
         0.22975738307315052,
         0.2299412379826547,
         0.2352454002453562,
         0.2215290501001565,
         0.2375920085218169,
         0.22251430289892882,
         0.22375327937633677,
         0.23362777109130048,
         0.2384906635144908,
         0.22633899752890654,
         0.23904222532120697,
         0.2307936995217175,
         0.2265780704442923,
         0.23423381358859877,
         0.2328599246273584,
         0.22542238166994033,
         0.2345779129559649,
         0.22123865055504674,
         0.2309816217177785,
         0.22966885410577936,
         0.226404303913096,
         0.22320395873348212,
         0.2230685910337842,
         0.23508938085105197,
         0.22715376760335823,
         0.2357209141220094,
         0.23720938030301647,
         0.22905942612309374,
         0.24042316355432072,
         0.23037628074377484,
         0.23558257115712644,
         0.2366607223235655,
         0.240697816790392,
         0.22018055753855437,
         0.22691085559370763,
         0.23635356308088876,
         0.22299170608212257,
         0.23498624640827379,
         0.22983330974866653,
         0.2201313401718496,
         0.21826394914886824,
         0.2300631830961827,
         0.22570772984923393,
         0.23138450470515617,
         0.22793954162511462,
         0.22913124592171288,
         0.23678598294545913,
         0.22387206836548798,
         0.2318250249578234,
         0.23575783058014863,
         0.22880673325419718,
         0.23038107248972736,
         0.23694188137739605,
         0.22940433146797268,
         0.2348788226954639,
         0.2306681420453185,
         0.2353374109713032,
         0.2231336481887482,
         0.2281330852111911,
         0.22638273660057023,
         0.23508486053997688,
         0.22995483573051353,
         0.23003137043184219,
         0.22801388906972372,
         0.24986553196703978,
         0.22688486431634017,
         0.22078615517410285,
         0.23192491942067064,
         0.22903278459995693,
         0.22463502476503158,
         0.2454164877406084,
         0.22753906457264925,
         0.23057887371739044,
         0.22417048573968748,
         0.2187286805744995,
         0.23028231256038828,
         0.23171341715964908,
         0.230389681708652,
         0.22888897612289177,
         0.22831529500328152,
         0.22043909166263892
        ],
        [
         22.85897703934461,
         24.195974965579808,
         24.00583139527589,
         23.567011390812695,
         23.09039554465562,
         23.742182170040905,
         23.446342636831105,
         24.020272466354072,
         23.18270491529256,
         23.353177149780095,
         22.763188098557293,
         23.028271128423512,
         23.235592593438923,
         22.803764675743878,
         22.611543585546315,
         23.67938617337495,
         23.76274757552892,
         23.01673494745046,
         24.370222930796444,
         23.435253073461354,
         23.454006274230778,
         23.995030825026333,
         22.595963110215962,
         24.234384869225323,
         22.69645889569074,
         22.82283449638635,
         23.83003265131265,
         24.326047678478062,
         23.086577747948468,
         24.38230698276311,
         23.540957351215184,
         23.110963185317814,
         23.891848986037076,
         23.75171231199056,
         22.993082930333912,
         23.92694712150842,
         22.56634235661477,
         23.560125415213406,
         23.426223118789494,
         23.093238999135792,
         22.766803790815175,
         22.752996285445988,
         23.9791168468073,
         23.169684295542538,
         24.043533240444958,
         24.19535679090768,
         23.36406146455556,
         24.523162682540715,
         23.498380635865033,
         24.029422258026898,
         24.13939367700368,
         24.551177312619984,
         22.458416868932545,
         23.14490727055818,
         24.108063434250653,
         22.745154020376503,
         23.968597133643925,
         23.442997594363987,
         22.45339669752866,
         22.26292281318456,
         23.466444675810635,
         23.02218844462186,
         23.60121947992593,
         23.249833245761693,
         23.371387084014714,
         24.152170260436833,
         22.834950973279774,
         23.646152545697987,
         24.04729871917516,
         23.338286791928113,
         23.49886939395219,
         24.168071900494397,
         23.399241809733212,
         23.957639914937317,
         23.528150488622487,
         24.004415919072926,
         22.759632115252316,
         23.269574691541493,
         23.091039133258164,
         23.97865577507764,
         23.45539324451238,
         23.4631997840479,
         23.25741668511182,
         25.486284260638058,
         23.142256160266697,
         22.52018782775849,
         23.656341780908406,
         23.361344029195607,
         22.912772526033223,
         25.032481749542058,
         23.208984586410224,
         23.519045119173825,
         22.865389545448124,
         22.31032541859895,
         23.488795881159604,
         23.634768550284207,
         23.499747534282506,
         23.346675564534962,
         23.288160090334713,
         22.48478734958917
        ],
        [
         2.9588732144411636,
         3.161452256689558,
         3.135663736278583,
         3.0102339392596926,
         2.9844138921420953,
         2.977625851852934,
         3.026635472208239,
         3.0996167057385446,
         3.0695081964047706,
         3.1036950438770763,
         3.058482128459158,
         2.9619122418264108,
         3.0192113787715718,
         3.013738276261985,
         2.9339957831647396,
         3.0032559473191296,
         3.074699023946694,
         2.971944729776664,
         3.1397269042747387,
         2.9638691153956525,
         2.9641081591701446,
         3.055780767734096,
         2.9060654600514195,
         3.038044223686782,
         2.990883084976081,
         2.908235145454691,
         3.0671949610551037,
         3.123627808001446,
         3.0211850923524266,
         3.116215225542281,
         3.0344670877971023,
         2.9546257765716213,
         3.032513258728595,
         3.1593185061841957,
         2.94470562977626,
         3.1415806402472497,
         3.023710197575579,
         3.011944179760984,
         3.028310507426766,
         3.0529451909477476,
         2.997994515472433,
         2.9707486548014557,
         3.0777371443977737,
         3.0039626103022825,
         3.0943138688642033,
         3.103731078307136,
         2.995642076839571,
         3.146504175476776,
         3.07108085435871,
         3.082241192710848,
         3.1570345194659812,
         3.1975999619498663,
         2.9535763394718897,
         2.9817320322489373,
         3.1470598415657407,
         3.0214996220861274,
         2.9969091181131184,
         3.058672198983041,
         2.8878518661229413,
         2.9602793894116433,
         3.0170481039865717,
         2.97117432865148,
         3.0098741550969144,
         3.0548758177968605,
         2.938394281214581,
         3.086741247936495,
         2.90831496770274,
         3.010366003783195,
         3.015856316374496,
         3.0305265687293375,
         3.0955987289793576,
         3.0302237183826084,
         2.9680868350748373,
         3.1152096895814236,
         3.0248988091356894,
         3.1296209063694396,
         3.0052352903711506,
         2.994315417519118,
         3.0247879986946757,
         3.061054158096029,
         3.101389769955446,
         2.9794395547392334,
         2.992154763353009,
         3.1941882073639896,
         3.0386912196147917,
         2.979363262334317,
         3.052531141355572,
         3.035703211501526,
         2.9631967359036047,
         3.163918827894636,
         3.0133697862597075,
         2.9776942073674095,
         3.0267842869106523,
         2.971237221928371,
         3.0292230457449314,
         3.045347176310586,
         3.06508622718331,
         2.9354037747967205,
         3.007532904869657,
         2.9585949230452915
        ]
       ],
       "encoder": "json",
       "name": "ABC_GAN_3 Metrics",
       "version": 1
      }
     },
     "metadata": {
      "scrapbook": {
       "data": true,
       "display": false,
       "name": "ABC_GAN_3 Metrics"
      }
     },
     "output_type": "display_data"
    },
    {
     "name": "stdout",
     "output_type": "stream",
     "text": [
      "MSE\n",
      "0.09015674759696111\n"
     ]
    }
   ],
   "source": [
    "ABC_GAN3_metrics=ABC_train_test2.test_generator(gen3,test_data,prior_model,variance,bias,\"3\",device)\n",
    "sb.glue(\"ABC_GAN_3 Metrics\",ABC_GAN3_metrics)\n",
    "\n",
    "print(\"MSE\")\n",
    "print(mean(ABC_GAN3_metrics[0]))"
   ]
  },
  {
   "cell_type": "code",
   "execution_count": 18,
   "id": "c8e46b48",
   "metadata": {
    "execution": {
     "iopub.execute_input": "2022-06-12T04:56:29.179093Z",
     "iopub.status.busy": "2022-06-12T04:56:29.178718Z",
     "iopub.status.idle": "2022-06-12T04:56:29.517410Z",
     "shell.execute_reply": "2022-06-12T04:56:29.517639Z"
    },
    "id": "c8e46b48",
    "papermill": {
     "duration": 0.358527,
     "end_time": "2022-06-12T04:56:29.517768",
     "exception": false,
     "start_time": "2022-06-12T04:56:29.159241",
     "status": "completed"
    },
    "tags": []
   },
   "outputs": [
    {
     "data": {
      "image/png": "[encoded data removed]",
      "text/plain": [
       "<Figure size 432x288 with 1 Axes>"
      ]
     },
     "metadata": {
      "needs_background": "light"
     },
     "output_type": "display_data"
    },
    {
     "data": {
      "image/png": "[encoded data removed]",
      "text/plain": [
       "<Figure size 432x288 with 1 Axes>"
      ]
     },
     "metadata": {
      "needs_background": "light"
     },
     "output_type": "display_data"
    },
    {
     "data": {
      "image/png": "[encoded data removed]",
      "text/plain": [
       "<Figure size 432x288 with 1 Axes>"
      ]
     },
     "metadata": {
      "needs_background": "light"
     },
     "output_type": "display_data"
    },
    {
     "data": {
      "image/png": "[encoded data removed]",
      "text/plain": [
       "<Figure size 432x288 with 1 Axes>"
      ]
     },
     "metadata": {
      "needs_background": "light"
     },
     "output_type": "display_data"
    }
   ],
   "source": [
    "sanityChecks.discProbVsError(train_data,disc3,device)\n",
    "sanityChecks.discProbVsError(test_data,disc3,device)"
   ]
  },
  {
   "cell_type": "markdown",
   "id": "a5bd74c3",
   "metadata": {
    "id": "a5bd74c3",
    "papermill": {
     "duration": 0.020191,
     "end_time": "2022-06-12T04:56:29.558761",
     "exception": false,
     "start_time": "2022-06-12T04:56:29.538570",
     "status": "completed"
    },
    "tags": []
   },
   "source": [
    "## Skip Connection Model Analysis - ABC-GAN "
   ]
  },
  {
   "cell_type": "markdown",
   "id": "5744a8bf",
   "metadata": {
    "id": "5744a8bf",
    "papermill": {
     "duration": 0.019415,
     "end_time": "2022-06-12T04:56:29.597782",
     "exception": false,
     "start_time": "2022-06-12T04:56:29.578367",
     "status": "completed"
    },
    "tags": []
   },
   "source": [
    "### Weight Analysis \n",
    "\n",
    "Study the weights of the skip connection layer\n",
    "\n",
    "Equation of the skip connection is \n",
    "\n",
    "$output = y_{gan} * w + y_{abc} * (1-w)$"
   ]
  },
  {
   "cell_type": "code",
   "execution_count": 19,
   "id": "52c31dea",
   "metadata": {
    "execution": {
     "iopub.execute_input": "2022-06-12T04:56:29.639435Z",
     "iopub.status.busy": "2022-06-12T04:56:29.639052Z",
     "iopub.status.idle": "2022-06-12T04:56:29.642494Z",
     "shell.execute_reply": "2022-06-12T04:56:29.642754Z"
    },
    "id": "52c31dea",
    "papermill": {
     "duration": 0.025708,
     "end_time": "2022-06-12T04:56:29.642874",
     "exception": false,
     "start_time": "2022-06-12T04:56:29.617166",
     "status": "completed"
    },
    "tags": []
   },
   "outputs": [
    {
     "name": "stdout",
     "output_type": "stream",
     "text": [
      "Weight of the node at skip connection\n",
      "Parameter containing:\n",
      "tensor([[0.1423]], requires_grad=True)\n"
     ]
    },
    {
     "data": {
      "application/scrapbook.scrap.json+json": {
       "data": 0.14234358072280884,
       "encoder": "json",
       "name": "Skip Connection Weight",
       "version": 1
      }
     },
     "metadata": {
      "scrapbook": {
       "data": true,
       "display": false,
       "name": "Skip Connection Weight"
      }
     },
     "output_type": "display_data"
    }
   ],
   "source": [
    "print(\"Weight of the node at skip connection\")\n",
    "for name,param in gen3.named_parameters():\n",
    "    if(name == \"skipNode.weight\"):\n",
    "        print(param)\n",
    "        sb.glue(\"Skip Connection Weight\",param.item())"
   ]
  }
 ],
 "metadata": {
  "colab": {
   "collapsed_sections": [],
   "name": "ABC_GAN_Model-Catboost_Pre-gen.ipynb",
   "provenance": []
  },
  "interpreter": {
   "hash": "31f2aee4e71d21fbe5cf8b01ff0e069b9275f58929596ceb00d14d90e3e16cd6"
  },
  "kernelspec": {
   "display_name": "Python 3 (ipykernel)",
   "language": "python",
   "name": "python3"
  },
  "language_info": {
   "codemirror_mode": {
    "name": "ipython",
    "version": 3
   },
   "file_extension": ".py",
   "mimetype": "text/x-python",
   "name": "python",
   "nbconvert_exporter": "python",
   "pygments_lexer": "ipython3",
   "version": "3.8.11"
  },
  "papermill": {
   "default_parameters": {},
   "duration": 248.464328,
   "end_time": "2022-06-12T04:56:29.971703",
   "environment_variables": {},
   "exception": null,
   "input_path": "ABC_GAN-Catboost.ipynb",
   "output_path": "./ABC_GAN_Catboost/ABC-GAN_output_5_1.ipynb",
   "parameters": {
    "bias": 1,
    "variance": 0.1
   },
   "start_time": "2022-06-12T04:52:21.507375",
   "version": "2.3.3"
  }
 },
 "nbformat": 4,
 "nbformat_minor": 5
}