{
 "cells": [
  {
   "cell_type": "markdown",
   "id": "622780e6",
   "metadata": {
    "id": "622780e6",
    "papermill": {
     "duration": 0.03699,
     "end_time": "2022-06-12T07:15:00.685662",
     "exception": false,
     "start_time": "2022-06-12T07:15:00.648672",
     "status": "completed"
    },
    "tags": []
   },
   "source": [
    "## Import Libraries "
   ]
  },
  {
   "cell_type": "code",
   "execution_count": 1,
   "id": "a62397e3",
   "metadata": {
    "execution": {
     "iopub.execute_input": "2022-06-12T07:15:00.721829Z",
     "iopub.status.busy": "2022-06-12T07:15:00.721332Z",
     "iopub.status.idle": "2022-06-12T07:15:00.723563Z",
     "shell.execute_reply": "2022-06-12T07:15:00.723915Z"
    },
    "id": "a62397e3",
    "papermill": {
     "duration": 0.022058,
     "end_time": "2022-06-12T07:15:00.724128",
     "exception": false,
     "start_time": "2022-06-12T07:15:00.702070",
     "status": "completed"
    },
    "tags": []
   },
   "outputs": [],
   "source": [
    "import warnings\n",
    "import sys\n",
    "sys.path.insert(0, '../../src')\n",
    "warnings.filterwarnings('ignore')"
   ]
  },
  {
   "cell_type": "code",
   "execution_count": 2,
   "id": "d6a4e155",
   "metadata": {
    "execution": {
     "iopub.execute_input": "2022-06-12T07:15:00.744146Z",
     "iopub.status.busy": "2022-06-12T07:15:00.743751Z",
     "iopub.status.idle": "2022-06-12T07:15:02.301576Z",
     "shell.execute_reply": "2022-06-12T07:15:02.301834Z"
    },
    "id": "d6a4e155",
    "papermill": {
     "duration": 1.568529,
     "end_time": "2022-06-12T07:15:02.301963",
     "exception": false,
     "start_time": "2022-06-12T07:15:00.733434",
     "status": "completed"
    },
    "tags": []
   },
   "outputs": [],
   "source": [
    "import ABC_train_test2\n",
    "import bostonDataset\n",
    "import network\n",
    "import dataset\n",
    "import sanityChecks\n",
    "import torch \n",
    "import scrapbook as sb\n",
    "from statistics import mean \n",
    "import catboost as ctb \n",
    "from sklearn.model_selection import train_test_split\n",
    "from sklearn.metrics import mean_squared_error,mean_absolute_error\n",
    "import numpy as np"
   ]
  },
  {
   "cell_type": "markdown",
   "id": "2fa5b0f7",
   "metadata": {
    "id": "2fa5b0f7",
    "papermill": {
     "duration": 0.00668,
     "end_time": "2022-06-12T07:15:02.315749",
     "exception": false,
     "start_time": "2022-06-12T07:15:02.309069",
     "status": "completed"
    },
    "tags": []
   },
   "source": [
    "## Parameters "
   ]
  },
  {
   "cell_type": "code",
   "execution_count": 3,
   "id": "783186fb",
   "metadata": {
    "execution": {
     "iopub.execute_input": "2022-06-12T07:15:02.331260Z",
     "iopub.status.busy": "2022-06-12T07:15:02.330885Z",
     "iopub.status.idle": "2022-06-12T07:15:02.332236Z",
     "shell.execute_reply": "2022-06-12T07:15:02.332478Z"
    },
    "id": "783186fb",
    "papermill": {
     "duration": 0.010142,
     "end_time": "2022-06-12T07:15:02.332591",
     "exception": false,
     "start_time": "2022-06-12T07:15:02.322449",
     "status": "completed"
    },
    "tags": [
     "parameters"
    ]
   },
   "outputs": [],
   "source": [
    "variance = 1\n",
    "bias = 1 "
   ]
  },
  {
   "cell_type": "code",
   "execution_count": 4,
   "id": "01481f6f",
   "metadata": {
    "execution": {
     "iopub.execute_input": "2022-06-12T07:15:02.348125Z",
     "iopub.status.busy": "2022-06-12T07:15:02.347770Z",
     "iopub.status.idle": "2022-06-12T07:15:02.349024Z",
     "shell.execute_reply": "2022-06-12T07:15:02.349274Z"
    },
    "papermill": {
     "duration": 0.009882,
     "end_time": "2022-06-12T07:15:02.349378",
     "exception": false,
     "start_time": "2022-06-12T07:15:02.339496",
     "status": "completed"
    },
    "tags": [
     "injected-parameters"
    ]
   },
   "outputs": [],
   "source": [
    "# Parameters\n",
    "variance = 0.01\n",
    "bias = 0.01\n"
   ]
  },
  {
   "cell_type": "markdown",
   "id": "391cdbfd",
   "metadata": {
    "id": "391cdbfd",
    "papermill": {
     "duration": 0.006758,
     "end_time": "2022-06-12T07:15:02.363236",
     "exception": false,
     "start_time": "2022-06-12T07:15:02.356478",
     "status": "completed"
    },
    "tags": []
   },
   "source": [
    "## Dataset \n"
   ]
  },
  {
   "cell_type": "code",
   "execution_count": 5,
   "id": "5b51f161",
   "metadata": {
    "execution": {
     "iopub.execute_input": "2022-06-12T07:15:02.379053Z",
     "iopub.status.busy": "2022-06-12T07:15:02.378693Z",
     "iopub.status.idle": "2022-06-12T07:15:02.379902Z",
     "shell.execute_reply": "2022-06-12T07:15:02.380181Z"
    },
    "id": "5b51f161",
    "papermill": {
     "duration": 0.010232,
     "end_time": "2022-06-12T07:15:02.380287",
     "exception": false,
     "start_time": "2022-06-12T07:15:02.370055",
     "status": "completed"
    },
    "tags": []
   },
   "outputs": [],
   "source": [
    "#Parameters \n",
    "n_features = 13\n",
    "n_samples= 506\n",
    "n_target = 1 "
   ]
  },
  {
   "cell_type": "code",
   "execution_count": 6,
   "id": "5d6eced4",
   "metadata": {
    "execution": {
     "iopub.execute_input": "2022-06-12T07:15:02.395930Z",
     "iopub.status.busy": "2022-06-12T07:15:02.395555Z",
     "iopub.status.idle": "2022-06-12T07:15:02.405689Z",
     "shell.execute_reply": "2022-06-12T07:15:02.405941Z"
    },
    "id": "5d6eced4",
    "papermill": {
     "duration": 0.018879,
     "end_time": "2022-06-12T07:15:02.406056",
     "exception": false,
     "start_time": "2022-06-12T07:15:02.387177",
     "status": "completed"
    },
    "tags": []
   },
   "outputs": [
    {
     "name": "stdout",
     "output_type": "stream",
     "text": [
      "         X1        X2        X3        X4        X5        X6        X7  \\\n",
      "0 -0.419782  0.284830 -1.287909 -0.272599 -0.144217  0.413672 -0.120013   \n",
      "1 -0.417339 -0.487722 -0.593381 -0.272599 -0.740262  0.194274  0.367166   \n",
      "2 -0.417342 -0.487722 -0.593381 -0.272599 -0.740262  1.282714 -0.265812   \n",
      "3 -0.416750 -0.487722 -1.306878 -0.272599 -0.835284  1.016303 -0.809889   \n",
      "4 -0.412482 -0.487722 -1.306878 -0.272599 -0.835284  1.228577 -0.511180   \n",
      "\n",
      "         X8        X9       X10       X11       X12       X13         Y  \n",
      "0  0.140214 -0.982843 -0.666608 -1.459000  0.441052 -1.075562  0.159686  \n",
      "1  0.557160 -0.867883 -0.987329 -0.303094  0.441052 -0.492439 -0.101524  \n",
      "2  0.557160 -0.867883 -0.987329 -0.303094  0.396427 -1.208727  1.324247  \n",
      "3  1.077737 -0.752922 -1.106115  0.113032  0.416163 -1.361517  1.182758  \n",
      "4  1.077737 -0.752922 -1.106115  0.113032  0.441052 -1.026501  1.487503  \n"
     ]
    }
   ],
   "source": [
    "X,Y = bostonDataset.boston_data()"
   ]
  },
  {
   "cell_type": "code",
   "execution_count": 7,
   "id": "fe007438",
   "metadata": {
    "execution": {
     "iopub.execute_input": "2022-06-12T07:15:02.422930Z",
     "iopub.status.busy": "2022-06-12T07:15:02.422559Z",
     "iopub.status.idle": "2022-06-12T07:15:02.424037Z",
     "shell.execute_reply": "2022-06-12T07:15:02.424279Z"
    },
    "id": "fe007438",
    "papermill": {
     "duration": 0.011011,
     "end_time": "2022-06-12T07:15:02.424388",
     "exception": false,
     "start_time": "2022-06-12T07:15:02.413377",
     "status": "completed"
    },
    "tags": []
   },
   "outputs": [],
   "source": [
    "#Train test split for dataset \n",
    "X_train,X_test,Y_train,Y_test = train_test_split(X,Y,test_size = 0.2)\n",
    "train_data = dataset.CustomDataset(X_train,Y_train)\n",
    "test_data = dataset.CustomDataset(X_test,Y_test)\n"
   ]
  },
  {
   "cell_type": "markdown",
   "id": "a9a1af34",
   "metadata": {
    "id": "a9a1af34",
    "papermill": {
     "duration": 0.007043,
     "end_time": "2022-06-12T07:15:02.438581",
     "exception": false,
     "start_time": "2022-06-12T07:15:02.431538",
     "status": "completed"
    },
    "tags": []
   },
   "source": [
    "## Training Parameters "
   ]
  },
  {
   "cell_type": "code",
   "execution_count": 8,
   "id": "952b7fc8",
   "metadata": {
    "execution": {
     "iopub.execute_input": "2022-06-12T07:15:02.454897Z",
     "iopub.status.busy": "2022-06-12T07:15:02.454530Z",
     "iopub.status.idle": "2022-06-12T07:15:02.455812Z",
     "shell.execute_reply": "2022-06-12T07:15:02.456067Z"
    },
    "id": "952b7fc8",
    "papermill": {
     "duration": 0.01047,
     "end_time": "2022-06-12T07:15:02.456178",
     "exception": false,
     "start_time": "2022-06-12T07:15:02.445708",
     "status": "completed"
    },
    "tags": []
   },
   "outputs": [],
   "source": [
    "batch_size = 32\n",
    "n_epochs = 1000\n",
    "#Select the device \n",
    "device = torch.device('cuda' if torch.cuda.is_available() else 'cpu')"
   ]
  },
  {
   "cell_type": "markdown",
   "id": "a95e1600",
   "metadata": {
    "id": "a95e1600",
    "papermill": {
     "duration": 0.006997,
     "end_time": "2022-06-12T07:15:02.470307",
     "exception": false,
     "start_time": "2022-06-12T07:15:02.463310",
     "status": "completed"
    },
    "tags": []
   },
   "source": [
    "# ABC Pre-generator Model \n",
    "\n",
    "1. The catboost model is used as a pre-generator model for the ABC-GAN. \n",
    "2. The model is first trained on the entire dataset \n",
    "3. It generats X,Y pairs and we add some Gaussian noise with mean 0 and variance 1 to it which is then feed as input to the generator.\n"
   ]
  },
  {
   "cell_type": "code",
   "execution_count": 9,
   "id": "ff8ce7bd",
   "metadata": {
    "execution": {
     "iopub.execute_input": "2022-06-12T07:15:02.489243Z",
     "iopub.status.busy": "2022-06-12T07:15:02.488857Z",
     "iopub.status.idle": "2022-06-12T07:15:03.446031Z",
     "shell.execute_reply": "2022-06-12T07:15:03.446328Z"
    },
    "id": "ff8ce7bd",
    "papermill": {
     "duration": 0.968999,
     "end_time": "2022-06-12T07:15:03.446448",
     "exception": false,
     "start_time": "2022-06-12T07:15:02.477449",
     "status": "completed"
    },
    "tags": []
   },
   "outputs": [
    {
     "name": "stdout",
     "output_type": "stream",
     "text": [
      "Learning rate set to 0.033215\n",
      "0:\tlearn: 0.9663645\ttotal: 58.1ms\tremaining: 58.1s\n",
      "1:\tlearn: 0.9490819\ttotal: 59.2ms\tremaining: 29.5s\n",
      "2:\tlearn: 0.9292486\ttotal: 60.2ms\tremaining: 20s\n",
      "3:\tlearn: 0.9114789\ttotal: 61.2ms\tremaining: 15.2s\n",
      "4:\tlearn: 0.8947213\ttotal: 62ms\tremaining: 12.3s\n",
      "5:\tlearn: 0.8804060\ttotal: 63ms\tremaining: 10.4s\n",
      "6:\tlearn: 0.8640959\ttotal: 63.8ms\tremaining: 9.06s\n",
      "7:\tlearn: 0.8490900\ttotal: 64.8ms\tremaining: 8.04s\n",
      "8:\tlearn: 0.8332225\ttotal: 65.6ms\tremaining: 7.23s\n",
      "9:\tlearn: 0.8169164\ttotal: 66.4ms\tremaining: 6.58s\n",
      "10:\tlearn: 0.8030156\ttotal: 67.3ms\tremaining: 6.05s\n",
      "11:\tlearn: 0.7891375\ttotal: 68.1ms\tremaining: 5.61s\n",
      "12:\tlearn: 0.7751619\ttotal: 69ms\tremaining: 5.24s\n",
      "13:\tlearn: 0.7607168\ttotal: 69.8ms\tremaining: 4.92s\n",
      "14:\tlearn: 0.7486295\ttotal: 70.5ms\tremaining: 4.63s\n",
      "15:\tlearn: 0.7362001\ttotal: 71.4ms\tremaining: 4.39s\n",
      "16:\tlearn: 0.7243138\ttotal: 72.1ms\tremaining: 4.17s\n",
      "17:\tlearn: 0.7116780\ttotal: 72.9ms\tremaining: 3.98s\n",
      "18:\tlearn: 0.6993699\ttotal: 73.8ms\tremaining: 3.81s\n",
      "19:\tlearn: 0.6874734\ttotal: 74.5ms\tremaining: 3.65s\n",
      "20:\tlearn: 0.6741259\ttotal: 75.3ms\tremaining: 3.51s\n",
      "21:\tlearn: 0.6641824\ttotal: 76.1ms\tremaining: 3.38s\n",
      "22:\tlearn: 0.6528452\ttotal: 76.9ms\tremaining: 3.27s\n",
      "23:\tlearn: 0.6421670\ttotal: 77.7ms\tremaining: 3.16s\n",
      "24:\tlearn: 0.6326856\ttotal: 78.4ms\tremaining: 3.06s\n",
      "25:\tlearn: 0.6235548\ttotal: 79.2ms\tremaining: 2.97s\n",
      "26:\tlearn: 0.6150811\ttotal: 79.9ms\tremaining: 2.88s\n",
      "27:\tlearn: 0.6054706\ttotal: 80.6ms\tremaining: 2.8s\n",
      "28:\tlearn: 0.5968215\ttotal: 81.4ms\tremaining: 2.73s\n",
      "29:\tlearn: 0.5868022\ttotal: 82.2ms\tremaining: 2.66s\n",
      "30:\tlearn: 0.5788402\ttotal: 83.1ms\tremaining: 2.6s\n",
      "31:\tlearn: 0.5708568\ttotal: 83.9ms\tremaining: 2.54s\n",
      "32:\tlearn: 0.5634407\ttotal: 84.9ms\tremaining: 2.49s\n",
      "33:\tlearn: 0.5548987\ttotal: 85.6ms\tremaining: 2.43s\n",
      "34:\tlearn: 0.5485929\ttotal: 86.6ms\tremaining: 2.39s\n",
      "35:\tlearn: 0.5413040\ttotal: 87.4ms\tremaining: 2.34s\n",
      "36:\tlearn: 0.5349089\ttotal: 88.3ms\tremaining: 2.3s\n",
      "37:\tlearn: 0.5284575\ttotal: 89.2ms\tremaining: 2.26s\n",
      "38:\tlearn: 0.5213328\ttotal: 90ms\tremaining: 2.22s\n",
      "39:\tlearn: 0.5142284\ttotal: 90.8ms\tremaining: 2.18s\n",
      "40:\tlearn: 0.5082368\ttotal: 91.6ms\tremaining: 2.14s\n",
      "41:\tlearn: 0.5018894\ttotal: 92.4ms\tremaining: 2.11s\n",
      "42:\tlearn: 0.4964931\ttotal: 93.3ms\tremaining: 2.08s\n",
      "43:\tlearn: 0.4912071\ttotal: 94.2ms\tremaining: 2.04s\n",
      "44:\tlearn: 0.4852864\ttotal: 95.1ms\tremaining: 2.02s\n",
      "45:\tlearn: 0.4793323\ttotal: 95.9ms\tremaining: 1.99s\n",
      "46:\tlearn: 0.4752941\ttotal: 96.8ms\tremaining: 1.96s\n",
      "47:\tlearn: 0.4689067\ttotal: 97.5ms\tremaining: 1.93s\n",
      "48:\tlearn: 0.4639774\ttotal: 98.4ms\tremaining: 1.91s\n",
      "49:\tlearn: 0.4584691\ttotal: 99.3ms\tremaining: 1.89s\n",
      "50:\tlearn: 0.4528267\ttotal: 100ms\tremaining: 1.86s\n",
      "51:\tlearn: 0.4485993\ttotal: 101ms\tremaining: 1.84s\n",
      "52:\tlearn: 0.4437426\ttotal: 102ms\tremaining: 1.82s\n",
      "53:\tlearn: 0.4394544\ttotal: 102ms\tremaining: 1.79s\n",
      "54:\tlearn: 0.4350417\ttotal: 103ms\tremaining: 1.77s\n",
      "55:\tlearn: 0.4298505\ttotal: 104ms\tremaining: 1.76s\n",
      "56:\tlearn: 0.4259103\ttotal: 105ms\tremaining: 1.74s\n",
      "57:\tlearn: 0.4221379\ttotal: 106ms\tremaining: 1.72s\n",
      "58:\tlearn: 0.4185426\ttotal: 107ms\tremaining: 1.7s\n",
      "59:\tlearn: 0.4146859\ttotal: 108ms\tremaining: 1.68s\n",
      "60:\tlearn: 0.4106681\ttotal: 108ms\tremaining: 1.67s\n",
      "61:\tlearn: 0.4072931\ttotal: 109ms\tremaining: 1.65s\n"
     ]
    },
    {
     "name": "stdout",
     "output_type": "stream",
     "text": [
      "62:\tlearn: 0.4023631\ttotal: 110ms\tremaining: 1.64s\n",
      "63:\tlearn: 0.3991127\ttotal: 111ms\tremaining: 1.63s\n",
      "64:\tlearn: 0.3955748\ttotal: 112ms\tremaining: 1.61s\n",
      "65:\tlearn: 0.3925651\ttotal: 113ms\tremaining: 1.6s\n",
      "66:\tlearn: 0.3889082\ttotal: 114ms\tremaining: 1.58s\n",
      "67:\tlearn: 0.3855580\ttotal: 115ms\tremaining: 1.57s\n",
      "68:\tlearn: 0.3830096\ttotal: 115ms\tremaining: 1.56s\n",
      "69:\tlearn: 0.3798441\ttotal: 116ms\tremaining: 1.54s\n",
      "70:\tlearn: 0.3764350\ttotal: 117ms\tremaining: 1.53s\n",
      "71:\tlearn: 0.3726904\ttotal: 118ms\tremaining: 1.52s\n",
      "72:\tlearn: 0.3703816\ttotal: 118ms\tremaining: 1.5s\n",
      "73:\tlearn: 0.3674977\ttotal: 119ms\tremaining: 1.49s\n",
      "74:\tlearn: 0.3640371\ttotal: 120ms\tremaining: 1.48s\n",
      "75:\tlearn: 0.3607363\ttotal: 121ms\tremaining: 1.47s\n",
      "76:\tlearn: 0.3583313\ttotal: 122ms\tremaining: 1.46s\n",
      "77:\tlearn: 0.3552148\ttotal: 122ms\tremaining: 1.45s\n",
      "78:\tlearn: 0.3524461\ttotal: 123ms\tremaining: 1.44s\n",
      "79:\tlearn: 0.3501669\ttotal: 124ms\tremaining: 1.43s\n",
      "80:\tlearn: 0.3471840\ttotal: 125ms\tremaining: 1.42s\n",
      "81:\tlearn: 0.3449178\ttotal: 126ms\tremaining: 1.41s\n",
      "82:\tlearn: 0.3423739\ttotal: 126ms\tremaining: 1.4s\n",
      "83:\tlearn: 0.3403497\ttotal: 127ms\tremaining: 1.39s\n",
      "84:\tlearn: 0.3378416\ttotal: 128ms\tremaining: 1.38s\n",
      "85:\tlearn: 0.3355260\ttotal: 129ms\tremaining: 1.37s\n",
      "86:\tlearn: 0.3330669\ttotal: 130ms\tremaining: 1.36s\n",
      "87:\tlearn: 0.3299641\ttotal: 131ms\tremaining: 1.35s\n",
      "88:\tlearn: 0.3284003\ttotal: 131ms\tremaining: 1.34s\n",
      "89:\tlearn: 0.3261566\ttotal: 132ms\tremaining: 1.34s\n",
      "90:\tlearn: 0.3240222\ttotal: 133ms\tremaining: 1.33s\n",
      "91:\tlearn: 0.3219294\ttotal: 134ms\tremaining: 1.32s\n",
      "92:\tlearn: 0.3203102\ttotal: 135ms\tremaining: 1.31s\n",
      "93:\tlearn: 0.3188149\ttotal: 136ms\tremaining: 1.31s\n",
      "94:\tlearn: 0.3173429\ttotal: 136ms\tremaining: 1.3s\n",
      "95:\tlearn: 0.3157571\ttotal: 137ms\tremaining: 1.29s\n",
      "96:\tlearn: 0.3138724\ttotal: 138ms\tremaining: 1.28s\n",
      "97:\tlearn: 0.3120995\ttotal: 139ms\tremaining: 1.28s\n",
      "98:\tlearn: 0.3102609\ttotal: 140ms\tremaining: 1.27s\n",
      "99:\tlearn: 0.3092387\ttotal: 140ms\tremaining: 1.26s\n",
      "100:\tlearn: 0.3072092\ttotal: 141ms\tremaining: 1.26s\n",
      "101:\tlearn: 0.3054563\ttotal: 142ms\tremaining: 1.25s\n",
      "102:\tlearn: 0.3044056\ttotal: 143ms\tremaining: 1.24s\n",
      "103:\tlearn: 0.3028248\ttotal: 144ms\tremaining: 1.24s\n",
      "104:\tlearn: 0.3010398\ttotal: 144ms\tremaining: 1.23s\n",
      "105:\tlearn: 0.2995657\ttotal: 145ms\tremaining: 1.23s\n",
      "106:\tlearn: 0.2977195\ttotal: 146ms\tremaining: 1.22s\n",
      "107:\tlearn: 0.2961374\ttotal: 147ms\tremaining: 1.21s\n",
      "108:\tlearn: 0.2950378\ttotal: 148ms\tremaining: 1.21s\n",
      "109:\tlearn: 0.2935122\ttotal: 149ms\tremaining: 1.2s\n",
      "110:\tlearn: 0.2922528\ttotal: 149ms\tremaining: 1.2s\n",
      "111:\tlearn: 0.2912577\ttotal: 150ms\tremaining: 1.19s\n",
      "112:\tlearn: 0.2900671\ttotal: 151ms\tremaining: 1.19s\n",
      "113:\tlearn: 0.2888806\ttotal: 152ms\tremaining: 1.18s\n",
      "114:\tlearn: 0.2874175\ttotal: 153ms\tremaining: 1.17s\n",
      "115:\tlearn: 0.2859719\ttotal: 154ms\tremaining: 1.17s\n",
      "116:\tlearn: 0.2844740\ttotal: 154ms\tremaining: 1.16s\n",
      "117:\tlearn: 0.2835096\ttotal: 155ms\tremaining: 1.16s\n",
      "118:\tlearn: 0.2825336\ttotal: 156ms\tremaining: 1.15s\n",
      "119:\tlearn: 0.2813520\ttotal: 157ms\tremaining: 1.15s\n",
      "120:\tlearn: 0.2800351\ttotal: 158ms\tremaining: 1.15s\n",
      "121:\tlearn: 0.2788081\ttotal: 159ms\tremaining: 1.14s\n",
      "122:\tlearn: 0.2772414\ttotal: 160ms\tremaining: 1.14s\n",
      "123:\tlearn: 0.2757488\ttotal: 161ms\tremaining: 1.13s\n",
      "124:\tlearn: 0.2746101\ttotal: 161ms\tremaining: 1.13s\n",
      "125:\tlearn: 0.2736065\ttotal: 162ms\tremaining: 1.13s\n",
      "126:\tlearn: 0.2724061\ttotal: 163ms\tremaining: 1.12s\n",
      "127:\tlearn: 0.2713849\ttotal: 164ms\tremaining: 1.12s\n",
      "128:\tlearn: 0.2700953\ttotal: 165ms\tremaining: 1.11s\n",
      "129:\tlearn: 0.2685763\ttotal: 165ms\tremaining: 1.11s\n",
      "130:\tlearn: 0.2676974\ttotal: 166ms\tremaining: 1.1s\n",
      "131:\tlearn: 0.2667898\ttotal: 167ms\tremaining: 1.1s\n",
      "132:\tlearn: 0.2657653\ttotal: 168ms\tremaining: 1.09s\n",
      "133:\tlearn: 0.2647769\ttotal: 169ms\tremaining: 1.09s\n",
      "134:\tlearn: 0.2637920\ttotal: 170ms\tremaining: 1.09s\n",
      "135:\tlearn: 0.2628628\ttotal: 171ms\tremaining: 1.08s\n",
      "136:\tlearn: 0.2618489\ttotal: 171ms\tremaining: 1.08s\n",
      "137:\tlearn: 0.2608648\ttotal: 172ms\tremaining: 1.07s\n",
      "138:\tlearn: 0.2600194\ttotal: 173ms\tremaining: 1.07s\n",
      "139:\tlearn: 0.2593641\ttotal: 174ms\tremaining: 1.07s\n",
      "140:\tlearn: 0.2586374\ttotal: 175ms\tremaining: 1.06s\n",
      "141:\tlearn: 0.2580401\ttotal: 175ms\tremaining: 1.06s\n",
      "142:\tlearn: 0.2571048\ttotal: 176ms\tremaining: 1.05s\n",
      "143:\tlearn: 0.2560304\ttotal: 177ms\tremaining: 1.05s\n",
      "144:\tlearn: 0.2550351\ttotal: 178ms\tremaining: 1.05s\n",
      "145:\tlearn: 0.2542054\ttotal: 179ms\tremaining: 1.04s\n",
      "146:\tlearn: 0.2532897\ttotal: 179ms\tremaining: 1.04s\n",
      "147:\tlearn: 0.2525934\ttotal: 180ms\tremaining: 1.04s\n",
      "148:\tlearn: 0.2516844\ttotal: 181ms\tremaining: 1.03s\n",
      "149:\tlearn: 0.2511303\ttotal: 182ms\tremaining: 1.03s\n",
      "150:\tlearn: 0.2506984\ttotal: 183ms\tremaining: 1.03s\n",
      "151:\tlearn: 0.2500758\ttotal: 184ms\tremaining: 1.02s\n",
      "152:\tlearn: 0.2492205\ttotal: 185ms\tremaining: 1.02s\n",
      "153:\tlearn: 0.2480810\ttotal: 185ms\tremaining: 1.02s\n",
      "154:\tlearn: 0.2474605\ttotal: 186ms\tremaining: 1.01s\n",
      "155:\tlearn: 0.2468178\ttotal: 187ms\tremaining: 1.01s\n",
      "156:\tlearn: 0.2459571\ttotal: 188ms\tremaining: 1.01s\n",
      "157:\tlearn: 0.2453517\ttotal: 189ms\tremaining: 1.01s\n",
      "158:\tlearn: 0.2444000\ttotal: 190ms\tremaining: 1s\n",
      "159:\tlearn: 0.2436323\ttotal: 191ms\tremaining: 1s\n",
      "160:\tlearn: 0.2427931\ttotal: 191ms\tremaining: 998ms\n"
     ]
    },
    {
     "name": "stdout",
     "output_type": "stream",
     "text": [
      "161:\tlearn: 0.2418780\ttotal: 192ms\tremaining: 995ms\n",
      "162:\tlearn: 0.2412458\ttotal: 193ms\tremaining: 993ms\n",
      "163:\tlearn: 0.2406105\ttotal: 194ms\tremaining: 990ms\n",
      "164:\tlearn: 0.2401573\ttotal: 195ms\tremaining: 987ms\n",
      "165:\tlearn: 0.2395951\ttotal: 196ms\tremaining: 984ms\n",
      "166:\tlearn: 0.2388565\ttotal: 197ms\tremaining: 981ms\n",
      "167:\tlearn: 0.2380249\ttotal: 198ms\tremaining: 978ms\n",
      "168:\tlearn: 0.2375661\ttotal: 198ms\tremaining: 975ms\n",
      "169:\tlearn: 0.2368749\ttotal: 199ms\tremaining: 972ms\n",
      "170:\tlearn: 0.2362855\ttotal: 200ms\tremaining: 969ms\n",
      "171:\tlearn: 0.2355044\ttotal: 201ms\tremaining: 966ms\n",
      "172:\tlearn: 0.2348093\ttotal: 201ms\tremaining: 963ms\n",
      "173:\tlearn: 0.2336623\ttotal: 202ms\tremaining: 960ms\n",
      "174:\tlearn: 0.2331739\ttotal: 203ms\tremaining: 958ms\n",
      "175:\tlearn: 0.2324842\ttotal: 204ms\tremaining: 955ms\n",
      "176:\tlearn: 0.2315423\ttotal: 205ms\tremaining: 953ms\n",
      "177:\tlearn: 0.2309437\ttotal: 206ms\tremaining: 951ms\n",
      "178:\tlearn: 0.2304010\ttotal: 207ms\tremaining: 949ms\n",
      "179:\tlearn: 0.2296248\ttotal: 208ms\tremaining: 946ms\n",
      "180:\tlearn: 0.2288334\ttotal: 209ms\tremaining: 947ms\n",
      "181:\tlearn: 0.2284541\ttotal: 210ms\tremaining: 944ms\n",
      "182:\tlearn: 0.2280356\ttotal: 211ms\tremaining: 942ms\n",
      "183:\tlearn: 0.2277078\ttotal: 212ms\tremaining: 938ms\n",
      "184:\tlearn: 0.2269070\ttotal: 212ms\tremaining: 936ms\n",
      "185:\tlearn: 0.2263328\ttotal: 213ms\tremaining: 933ms\n",
      "186:\tlearn: 0.2257536\ttotal: 214ms\tremaining: 931ms\n",
      "187:\tlearn: 0.2250202\ttotal: 215ms\tremaining: 928ms\n",
      "188:\tlearn: 0.2243134\ttotal: 216ms\tremaining: 926ms\n",
      "189:\tlearn: 0.2236709\ttotal: 217ms\tremaining: 924ms\n",
      "190:\tlearn: 0.2231797\ttotal: 218ms\tremaining: 922ms\n",
      "191:\tlearn: 0.2226866\ttotal: 218ms\tremaining: 919ms\n",
      "192:\tlearn: 0.2221496\ttotal: 219ms\tremaining: 916ms\n",
      "193:\tlearn: 0.2214680\ttotal: 220ms\tremaining: 914ms\n",
      "194:\tlearn: 0.2208011\ttotal: 221ms\tremaining: 911ms\n",
      "195:\tlearn: 0.2204658\ttotal: 221ms\tremaining: 908ms\n",
      "196:\tlearn: 0.2201816\ttotal: 222ms\tremaining: 906ms\n",
      "197:\tlearn: 0.2197106\ttotal: 223ms\tremaining: 903ms\n",
      "198:\tlearn: 0.2192413\ttotal: 224ms\tremaining: 901ms\n",
      "199:\tlearn: 0.2185144\ttotal: 225ms\tremaining: 899ms\n",
      "200:\tlearn: 0.2180319\ttotal: 226ms\tremaining: 897ms\n",
      "201:\tlearn: 0.2175401\ttotal: 227ms\tremaining: 895ms\n",
      "202:\tlearn: 0.2166365\ttotal: 228ms\tremaining: 893ms\n",
      "203:\tlearn: 0.2158618\ttotal: 228ms\tremaining: 891ms\n",
      "204:\tlearn: 0.2151509\ttotal: 229ms\tremaining: 889ms\n",
      "205:\tlearn: 0.2146974\ttotal: 230ms\tremaining: 886ms\n",
      "206:\tlearn: 0.2139659\ttotal: 231ms\tremaining: 884ms\n",
      "207:\tlearn: 0.2135058\ttotal: 231ms\tremaining: 881ms\n",
      "208:\tlearn: 0.2131980\ttotal: 232ms\tremaining: 879ms\n",
      "209:\tlearn: 0.2128833\ttotal: 233ms\tremaining: 877ms\n",
      "210:\tlearn: 0.2123732\ttotal: 234ms\tremaining: 875ms\n",
      "211:\tlearn: 0.2119449\ttotal: 235ms\tremaining: 873ms\n",
      "212:\tlearn: 0.2113430\ttotal: 236ms\tremaining: 870ms\n",
      "213:\tlearn: 0.2107167\ttotal: 236ms\tremaining: 868ms\n",
      "214:\tlearn: 0.2101963\ttotal: 238ms\tremaining: 869ms\n",
      "215:\tlearn: 0.2095820\ttotal: 239ms\tremaining: 866ms\n",
      "216:\tlearn: 0.2092220\ttotal: 240ms\tremaining: 864ms\n",
      "217:\tlearn: 0.2087277\ttotal: 240ms\tremaining: 862ms\n",
      "218:\tlearn: 0.2081787\ttotal: 241ms\tremaining: 860ms\n",
      "219:\tlearn: 0.2078186\ttotal: 242ms\tremaining: 858ms\n",
      "220:\tlearn: 0.2072953\ttotal: 243ms\tremaining: 856ms\n",
      "221:\tlearn: 0.2068645\ttotal: 244ms\tremaining: 854ms\n",
      "222:\tlearn: 0.2065905\ttotal: 245ms\tremaining: 853ms\n",
      "223:\tlearn: 0.2058672\ttotal: 246ms\tremaining: 851ms\n",
      "224:\tlearn: 0.2053844\ttotal: 246ms\tremaining: 849ms\n",
      "225:\tlearn: 0.2047567\ttotal: 247ms\tremaining: 847ms\n",
      "226:\tlearn: 0.2043865\ttotal: 248ms\tremaining: 845ms\n",
      "227:\tlearn: 0.2038914\ttotal: 249ms\tremaining: 843ms\n",
      "228:\tlearn: 0.2032103\ttotal: 250ms\tremaining: 841ms\n",
      "229:\tlearn: 0.2026375\ttotal: 251ms\tremaining: 839ms\n",
      "230:\tlearn: 0.2020459\ttotal: 251ms\tremaining: 837ms\n",
      "231:\tlearn: 0.2015550\ttotal: 253ms\tremaining: 837ms\n",
      "232:\tlearn: 0.2010158\ttotal: 254ms\tremaining: 835ms\n",
      "233:\tlearn: 0.2004768\ttotal: 255ms\tremaining: 833ms\n",
      "234:\tlearn: 0.1998515\ttotal: 255ms\tremaining: 831ms\n",
      "235:\tlearn: 0.1995905\ttotal: 256ms\tremaining: 829ms\n",
      "236:\tlearn: 0.1994305\ttotal: 257ms\tremaining: 827ms\n",
      "237:\tlearn: 0.1991867\ttotal: 258ms\tremaining: 825ms\n",
      "238:\tlearn: 0.1989430\ttotal: 258ms\tremaining: 823ms\n",
      "239:\tlearn: 0.1984774\ttotal: 259ms\tremaining: 821ms\n",
      "240:\tlearn: 0.1981561\ttotal: 260ms\tremaining: 819ms\n",
      "241:\tlearn: 0.1975962\ttotal: 261ms\tremaining: 817ms\n",
      "242:\tlearn: 0.1970232\ttotal: 262ms\tremaining: 815ms\n",
      "243:\tlearn: 0.1965185\ttotal: 263ms\tremaining: 813ms\n",
      "244:\tlearn: 0.1960796\ttotal: 263ms\tremaining: 812ms\n",
      "245:\tlearn: 0.1954447\ttotal: 264ms\tremaining: 810ms\n",
      "246:\tlearn: 0.1948088\ttotal: 265ms\tremaining: 808ms\n",
      "247:\tlearn: 0.1943290\ttotal: 266ms\tremaining: 806ms\n",
      "248:\tlearn: 0.1940089\ttotal: 267ms\tremaining: 804ms\n",
      "249:\tlearn: 0.1935096\ttotal: 267ms\tremaining: 802ms\n",
      "250:\tlearn: 0.1930345\ttotal: 268ms\tremaining: 800ms\n",
      "251:\tlearn: 0.1925369\ttotal: 269ms\tremaining: 798ms\n",
      "252:\tlearn: 0.1920262\ttotal: 270ms\tremaining: 796ms\n",
      "253:\tlearn: 0.1916692\ttotal: 271ms\tremaining: 795ms\n",
      "254:\tlearn: 0.1912754\ttotal: 272ms\tremaining: 793ms\n",
      "255:\tlearn: 0.1907910\ttotal: 272ms\tremaining: 792ms\n",
      "256:\tlearn: 0.1905697\ttotal: 273ms\tremaining: 790ms\n",
      "257:\tlearn: 0.1900406\ttotal: 274ms\tremaining: 788ms\n",
      "258:\tlearn: 0.1895537\ttotal: 275ms\tremaining: 786ms\n",
      "259:\tlearn: 0.1891719\ttotal: 276ms\tremaining: 784ms\n",
      "260:\tlearn: 0.1887019\ttotal: 277ms\tremaining: 783ms\n",
      "261:\tlearn: 0.1885367\ttotal: 277ms\tremaining: 781ms\n",
      "262:\tlearn: 0.1881423\ttotal: 278ms\tremaining: 780ms\n",
      "263:\tlearn: 0.1878422\ttotal: 279ms\tremaining: 778ms\n",
      "264:\tlearn: 0.1874332\ttotal: 280ms\tremaining: 776ms\n",
      "265:\tlearn: 0.1869874\ttotal: 281ms\tremaining: 774ms\n",
      "266:\tlearn: 0.1864825\ttotal: 281ms\tremaining: 773ms\n",
      "267:\tlearn: 0.1859876\ttotal: 282ms\tremaining: 771ms\n",
      "268:\tlearn: 0.1854752\ttotal: 283ms\tremaining: 769ms\n",
      "269:\tlearn: 0.1852733\ttotal: 284ms\tremaining: 767ms\n",
      "270:\tlearn: 0.1846283\ttotal: 285ms\tremaining: 766ms\n",
      "271:\tlearn: 0.1840521\ttotal: 285ms\tremaining: 764ms\n",
      "272:\tlearn: 0.1835532\ttotal: 286ms\tremaining: 762ms\n",
      "273:\tlearn: 0.1830633\ttotal: 287ms\tremaining: 760ms\n",
      "274:\tlearn: 0.1829598\ttotal: 288ms\tremaining: 759ms\n",
      "275:\tlearn: 0.1827524\ttotal: 289ms\tremaining: 757ms\n",
      "276:\tlearn: 0.1823995\ttotal: 289ms\tremaining: 755ms\n",
      "277:\tlearn: 0.1820219\ttotal: 290ms\tremaining: 754ms\n",
      "278:\tlearn: 0.1815994\ttotal: 291ms\tremaining: 752ms\n",
      "279:\tlearn: 0.1813593\ttotal: 292ms\tremaining: 752ms\n",
      "280:\tlearn: 0.1809386\ttotal: 293ms\tremaining: 751ms\n",
      "281:\tlearn: 0.1805961\ttotal: 294ms\tremaining: 749ms\n",
      "282:\tlearn: 0.1804251\ttotal: 295ms\tremaining: 747ms\n",
      "283:\tlearn: 0.1799774\ttotal: 296ms\tremaining: 745ms\n",
      "284:\tlearn: 0.1792411\ttotal: 296ms\tremaining: 744ms\n",
      "285:\tlearn: 0.1788660\ttotal: 297ms\tremaining: 742ms\n",
      "286:\tlearn: 0.1786524\ttotal: 298ms\tremaining: 741ms\n",
      "287:\tlearn: 0.1782088\ttotal: 299ms\tremaining: 739ms\n",
      "288:\tlearn: 0.1779168\ttotal: 300ms\tremaining: 737ms\n"
     ]
    },
    {
     "name": "stdout",
     "output_type": "stream",
     "text": [
      "289:\tlearn: 0.1774927\ttotal: 301ms\tremaining: 736ms\n",
      "290:\tlearn: 0.1769453\ttotal: 302ms\tremaining: 735ms\n",
      "291:\tlearn: 0.1765538\ttotal: 303ms\tremaining: 734ms\n",
      "292:\tlearn: 0.1762145\ttotal: 304ms\tremaining: 732ms\n",
      "293:\tlearn: 0.1758838\ttotal: 304ms\tremaining: 731ms\n",
      "294:\tlearn: 0.1752557\ttotal: 305ms\tremaining: 729ms\n",
      "295:\tlearn: 0.1747284\ttotal: 306ms\tremaining: 727ms\n",
      "296:\tlearn: 0.1743777\ttotal: 307ms\tremaining: 726ms\n",
      "297:\tlearn: 0.1740582\ttotal: 308ms\tremaining: 726ms\n",
      "298:\tlearn: 0.1738672\ttotal: 309ms\tremaining: 724ms\n",
      "299:\tlearn: 0.1733674\ttotal: 310ms\tremaining: 723ms\n",
      "300:\tlearn: 0.1730856\ttotal: 311ms\tremaining: 721ms\n",
      "301:\tlearn: 0.1729323\ttotal: 311ms\tremaining: 720ms\n",
      "302:\tlearn: 0.1723302\ttotal: 312ms\tremaining: 718ms\n",
      "303:\tlearn: 0.1719153\ttotal: 313ms\tremaining: 717ms\n",
      "304:\tlearn: 0.1715008\ttotal: 314ms\tremaining: 715ms\n",
      "305:\tlearn: 0.1711929\ttotal: 315ms\tremaining: 714ms\n",
      "306:\tlearn: 0.1706104\ttotal: 316ms\tremaining: 712ms\n",
      "307:\tlearn: 0.1703581\ttotal: 316ms\tremaining: 710ms\n",
      "308:\tlearn: 0.1698844\ttotal: 317ms\tremaining: 709ms\n",
      "309:\tlearn: 0.1694653\ttotal: 318ms\tremaining: 708ms\n",
      "310:\tlearn: 0.1691359\ttotal: 319ms\tremaining: 706ms\n",
      "311:\tlearn: 0.1687968\ttotal: 320ms\tremaining: 705ms\n",
      "312:\tlearn: 0.1684053\ttotal: 321ms\tremaining: 703ms\n",
      "313:\tlearn: 0.1682584\ttotal: 321ms\tremaining: 702ms\n",
      "314:\tlearn: 0.1677209\ttotal: 323ms\tremaining: 702ms\n",
      "315:\tlearn: 0.1675619\ttotal: 323ms\tremaining: 700ms\n",
      "316:\tlearn: 0.1672646\ttotal: 324ms\tremaining: 699ms\n",
      "317:\tlearn: 0.1669035\ttotal: 325ms\tremaining: 697ms\n",
      "318:\tlearn: 0.1666091\ttotal: 326ms\tremaining: 696ms\n",
      "319:\tlearn: 0.1663358\ttotal: 327ms\tremaining: 694ms\n",
      "320:\tlearn: 0.1661698\ttotal: 328ms\tremaining: 693ms\n",
      "321:\tlearn: 0.1659099\ttotal: 328ms\tremaining: 691ms\n",
      "322:\tlearn: 0.1657645\ttotal: 329ms\tremaining: 690ms\n",
      "323:\tlearn: 0.1651238\ttotal: 330ms\tremaining: 689ms\n",
      "324:\tlearn: 0.1649206\ttotal: 331ms\tremaining: 687ms\n",
      "325:\tlearn: 0.1645563\ttotal: 332ms\tremaining: 686ms\n",
      "326:\tlearn: 0.1641144\ttotal: 332ms\tremaining: 684ms\n",
      "327:\tlearn: 0.1639862\ttotal: 333ms\tremaining: 683ms\n",
      "328:\tlearn: 0.1638361\ttotal: 334ms\tremaining: 681ms\n",
      "329:\tlearn: 0.1636096\ttotal: 335ms\tremaining: 680ms\n",
      "330:\tlearn: 0.1634895\ttotal: 336ms\tremaining: 678ms\n",
      "331:\tlearn: 0.1631845\ttotal: 336ms\tremaining: 677ms\n",
      "332:\tlearn: 0.1627825\ttotal: 337ms\tremaining: 675ms\n",
      "333:\tlearn: 0.1626813\ttotal: 338ms\tremaining: 674ms\n",
      "334:\tlearn: 0.1621967\ttotal: 339ms\tremaining: 672ms\n",
      "335:\tlearn: 0.1617164\ttotal: 339ms\tremaining: 671ms\n",
      "336:\tlearn: 0.1614672\ttotal: 340ms\tremaining: 669ms\n",
      "337:\tlearn: 0.1613459\ttotal: 341ms\tremaining: 668ms\n",
      "338:\tlearn: 0.1609646\ttotal: 342ms\tremaining: 667ms\n",
      "339:\tlearn: 0.1606306\ttotal: 343ms\tremaining: 665ms\n",
      "340:\tlearn: 0.1602852\ttotal: 344ms\tremaining: 664ms\n",
      "341:\tlearn: 0.1599925\ttotal: 344ms\tremaining: 663ms\n",
      "342:\tlearn: 0.1596168\ttotal: 345ms\tremaining: 661ms\n",
      "343:\tlearn: 0.1593779\ttotal: 346ms\tremaining: 660ms\n",
      "344:\tlearn: 0.1589682\ttotal: 347ms\tremaining: 659ms\n",
      "345:\tlearn: 0.1588352\ttotal: 348ms\tremaining: 657ms\n",
      "346:\tlearn: 0.1584735\ttotal: 349ms\tremaining: 656ms\n",
      "347:\tlearn: 0.1580702\ttotal: 350ms\tremaining: 655ms\n",
      "348:\tlearn: 0.1576632\ttotal: 350ms\tremaining: 653ms\n",
      "349:\tlearn: 0.1573621\ttotal: 351ms\tremaining: 652ms\n",
      "350:\tlearn: 0.1572603\ttotal: 352ms\tremaining: 651ms\n",
      "351:\tlearn: 0.1571389\ttotal: 353ms\tremaining: 650ms\n",
      "352:\tlearn: 0.1567935\ttotal: 354ms\tremaining: 649ms\n",
      "353:\tlearn: 0.1565241\ttotal: 355ms\tremaining: 647ms\n",
      "354:\tlearn: 0.1561995\ttotal: 356ms\tremaining: 646ms\n",
      "355:\tlearn: 0.1560139\ttotal: 356ms\tremaining: 645ms\n",
      "356:\tlearn: 0.1556800\ttotal: 357ms\tremaining: 644ms\n",
      "357:\tlearn: 0.1555567\ttotal: 358ms\tremaining: 642ms\n",
      "358:\tlearn: 0.1554232\ttotal: 359ms\tremaining: 641ms\n",
      "359:\tlearn: 0.1550649\ttotal: 360ms\tremaining: 640ms\n",
      "360:\tlearn: 0.1550044\ttotal: 361ms\tremaining: 638ms\n",
      "361:\tlearn: 0.1548886\ttotal: 361ms\tremaining: 637ms\n",
      "362:\tlearn: 0.1544939\ttotal: 362ms\tremaining: 635ms\n",
      "363:\tlearn: 0.1544118\ttotal: 363ms\tremaining: 634ms\n",
      "364:\tlearn: 0.1543214\ttotal: 364ms\tremaining: 633ms\n",
      "365:\tlearn: 0.1538900\ttotal: 365ms\tremaining: 631ms\n",
      "366:\tlearn: 0.1536088\ttotal: 365ms\tremaining: 630ms\n",
      "367:\tlearn: 0.1531570\ttotal: 366ms\tremaining: 629ms\n",
      "368:\tlearn: 0.1529226\ttotal: 367ms\tremaining: 628ms\n",
      "369:\tlearn: 0.1525364\ttotal: 368ms\tremaining: 627ms\n",
      "370:\tlearn: 0.1522527\ttotal: 369ms\tremaining: 626ms\n",
      "371:\tlearn: 0.1519707\ttotal: 370ms\tremaining: 624ms\n",
      "372:\tlearn: 0.1518916\ttotal: 371ms\tremaining: 623ms\n",
      "373:\tlearn: 0.1513888\ttotal: 372ms\tremaining: 623ms\n",
      "374:\tlearn: 0.1511399\ttotal: 373ms\tremaining: 622ms\n",
      "375:\tlearn: 0.1509791\ttotal: 374ms\tremaining: 620ms\n",
      "376:\tlearn: 0.1507992\ttotal: 375ms\tremaining: 619ms\n",
      "377:\tlearn: 0.1506575\ttotal: 376ms\tremaining: 618ms\n",
      "378:\tlearn: 0.1504752\ttotal: 376ms\tremaining: 617ms\n",
      "379:\tlearn: 0.1499969\ttotal: 377ms\tremaining: 615ms\n",
      "380:\tlearn: 0.1499090\ttotal: 378ms\tremaining: 614ms\n",
      "381:\tlearn: 0.1495807\ttotal: 379ms\tremaining: 613ms\n",
      "382:\tlearn: 0.1494881\ttotal: 380ms\tremaining: 612ms\n",
      "383:\tlearn: 0.1492571\ttotal: 380ms\tremaining: 610ms\n",
      "384:\tlearn: 0.1487921\ttotal: 381ms\tremaining: 609ms\n",
      "385:\tlearn: 0.1485707\ttotal: 382ms\tremaining: 608ms\n"
     ]
    },
    {
     "name": "stdout",
     "output_type": "stream",
     "text": [
      "386:\tlearn: 0.1481680\ttotal: 383ms\tremaining: 607ms\n",
      "387:\tlearn: 0.1477732\ttotal: 384ms\tremaining: 606ms\n",
      "388:\tlearn: 0.1474430\ttotal: 385ms\tremaining: 604ms\n",
      "389:\tlearn: 0.1470751\ttotal: 386ms\tremaining: 603ms\n",
      "390:\tlearn: 0.1467098\ttotal: 387ms\tremaining: 602ms\n",
      "391:\tlearn: 0.1464650\ttotal: 387ms\tremaining: 601ms\n",
      "392:\tlearn: 0.1463496\ttotal: 388ms\tremaining: 600ms\n",
      "393:\tlearn: 0.1458861\ttotal: 389ms\tremaining: 598ms\n",
      "394:\tlearn: 0.1454157\ttotal: 390ms\tremaining: 597ms\n",
      "395:\tlearn: 0.1449889\ttotal: 391ms\tremaining: 596ms\n",
      "396:\tlearn: 0.1447372\ttotal: 391ms\tremaining: 595ms\n",
      "397:\tlearn: 0.1445197\ttotal: 392ms\tremaining: 593ms\n",
      "398:\tlearn: 0.1443520\ttotal: 393ms\tremaining: 592ms\n",
      "399:\tlearn: 0.1438990\ttotal: 394ms\tremaining: 591ms\n",
      "400:\tlearn: 0.1436560\ttotal: 394ms\tremaining: 589ms\n",
      "401:\tlearn: 0.1432332\ttotal: 395ms\tremaining: 588ms\n",
      "402:\tlearn: 0.1429321\ttotal: 396ms\tremaining: 587ms\n",
      "403:\tlearn: 0.1425946\ttotal: 397ms\tremaining: 586ms\n",
      "404:\tlearn: 0.1422197\ttotal: 398ms\tremaining: 584ms\n",
      "405:\tlearn: 0.1420254\ttotal: 399ms\tremaining: 583ms\n",
      "406:\tlearn: 0.1416582\ttotal: 399ms\tremaining: 582ms\n",
      "407:\tlearn: 0.1412441\ttotal: 400ms\tremaining: 581ms\n",
      "408:\tlearn: 0.1411690\ttotal: 401ms\tremaining: 580ms\n",
      "409:\tlearn: 0.1407437\ttotal: 402ms\tremaining: 578ms\n",
      "410:\tlearn: 0.1404616\ttotal: 403ms\tremaining: 577ms\n",
      "411:\tlearn: 0.1400608\ttotal: 403ms\tremaining: 576ms\n",
      "412:\tlearn: 0.1397062\ttotal: 404ms\tremaining: 574ms\n",
      "413:\tlearn: 0.1393039\ttotal: 405ms\tremaining: 573ms\n",
      "414:\tlearn: 0.1390337\ttotal: 406ms\tremaining: 572ms\n",
      "415:\tlearn: 0.1389327\ttotal: 406ms\tremaining: 570ms\n",
      "416:\tlearn: 0.1388591\ttotal: 407ms\tremaining: 569ms\n",
      "417:\tlearn: 0.1386809\ttotal: 408ms\tremaining: 568ms\n",
      "418:\tlearn: 0.1383548\ttotal: 409ms\tremaining: 567ms\n",
      "419:\tlearn: 0.1380357\ttotal: 410ms\tremaining: 566ms\n",
      "420:\tlearn: 0.1377348\ttotal: 410ms\tremaining: 564ms\n",
      "421:\tlearn: 0.1375768\ttotal: 411ms\tremaining: 563ms\n",
      "422:\tlearn: 0.1372028\ttotal: 412ms\tremaining: 562ms\n",
      "423:\tlearn: 0.1368574\ttotal: 413ms\tremaining: 561ms\n",
      "424:\tlearn: 0.1364931\ttotal: 414ms\tremaining: 560ms\n",
      "425:\tlearn: 0.1361137\ttotal: 415ms\tremaining: 559ms\n",
      "426:\tlearn: 0.1357136\ttotal: 415ms\tremaining: 557ms\n",
      "427:\tlearn: 0.1355986\ttotal: 416ms\tremaining: 556ms\n",
      "428:\tlearn: 0.1353116\ttotal: 417ms\tremaining: 555ms\n",
      "429:\tlearn: 0.1350700\ttotal: 418ms\tremaining: 554ms\n",
      "430:\tlearn: 0.1347953\ttotal: 418ms\tremaining: 552ms\n",
      "431:\tlearn: 0.1344548\ttotal: 419ms\tremaining: 551ms\n",
      "432:\tlearn: 0.1343365\ttotal: 420ms\tremaining: 550ms\n",
      "433:\tlearn: 0.1341359\ttotal: 421ms\tremaining: 549ms\n",
      "434:\tlearn: 0.1340583\ttotal: 422ms\tremaining: 548ms\n",
      "435:\tlearn: 0.1336731\ttotal: 422ms\tremaining: 546ms\n",
      "436:\tlearn: 0.1334368\ttotal: 423ms\tremaining: 545ms\n",
      "437:\tlearn: 0.1331552\ttotal: 424ms\tremaining: 544ms\n",
      "438:\tlearn: 0.1329816\ttotal: 425ms\tremaining: 543ms\n",
      "439:\tlearn: 0.1326575\ttotal: 426ms\tremaining: 542ms\n",
      "440:\tlearn: 0.1325642\ttotal: 427ms\tremaining: 541ms\n",
      "441:\tlearn: 0.1321675\ttotal: 427ms\tremaining: 540ms\n",
      "442:\tlearn: 0.1318999\ttotal: 428ms\tremaining: 538ms\n",
      "443:\tlearn: 0.1316231\ttotal: 429ms\tremaining: 537ms\n",
      "444:\tlearn: 0.1313745\ttotal: 430ms\tremaining: 536ms\n",
      "445:\tlearn: 0.1310525\ttotal: 431ms\tremaining: 535ms\n",
      "446:\tlearn: 0.1309247\ttotal: 432ms\tremaining: 534ms\n",
      "447:\tlearn: 0.1307356\ttotal: 432ms\tremaining: 533ms\n",
      "448:\tlearn: 0.1305788\ttotal: 433ms\tremaining: 531ms\n",
      "449:\tlearn: 0.1302060\ttotal: 434ms\tremaining: 530ms\n",
      "450:\tlearn: 0.1301217\ttotal: 435ms\tremaining: 529ms\n",
      "451:\tlearn: 0.1297409\ttotal: 435ms\tremaining: 528ms\n",
      "452:\tlearn: 0.1295969\ttotal: 436ms\tremaining: 527ms\n",
      "453:\tlearn: 0.1292363\ttotal: 437ms\tremaining: 526ms\n",
      "454:\tlearn: 0.1290834\ttotal: 438ms\tremaining: 525ms\n",
      "455:\tlearn: 0.1288491\ttotal: 439ms\tremaining: 524ms\n",
      "456:\tlearn: 0.1287164\ttotal: 440ms\tremaining: 522ms\n",
      "457:\tlearn: 0.1286273\ttotal: 440ms\tremaining: 521ms\n",
      "458:\tlearn: 0.1283321\ttotal: 441ms\tremaining: 520ms\n",
      "459:\tlearn: 0.1281273\ttotal: 442ms\tremaining: 519ms\n",
      "460:\tlearn: 0.1279894\ttotal: 443ms\tremaining: 518ms\n",
      "461:\tlearn: 0.1278807\ttotal: 444ms\tremaining: 517ms\n",
      "462:\tlearn: 0.1276787\ttotal: 445ms\tremaining: 516ms\n",
      "463:\tlearn: 0.1275247\ttotal: 446ms\tremaining: 515ms\n",
      "464:\tlearn: 0.1272123\ttotal: 446ms\tremaining: 514ms\n",
      "465:\tlearn: 0.1269935\ttotal: 447ms\tremaining: 513ms\n",
      "466:\tlearn: 0.1266609\ttotal: 448ms\tremaining: 511ms\n",
      "467:\tlearn: 0.1264243\ttotal: 449ms\tremaining: 510ms\n",
      "468:\tlearn: 0.1261792\ttotal: 450ms\tremaining: 509ms\n",
      "469:\tlearn: 0.1258883\ttotal: 451ms\tremaining: 508ms\n",
      "470:\tlearn: 0.1255711\ttotal: 452ms\tremaining: 507ms\n",
      "471:\tlearn: 0.1253959\ttotal: 452ms\tremaining: 506ms\n",
      "472:\tlearn: 0.1251151\ttotal: 453ms\tremaining: 505ms\n",
      "473:\tlearn: 0.1249679\ttotal: 454ms\tremaining: 504ms\n",
      "474:\tlearn: 0.1247000\ttotal: 455ms\tremaining: 503ms\n",
      "475:\tlearn: 0.1246423\ttotal: 456ms\tremaining: 502ms\n",
      "476:\tlearn: 0.1243286\ttotal: 457ms\tremaining: 501ms\n",
      "477:\tlearn: 0.1240115\ttotal: 458ms\tremaining: 500ms\n",
      "478:\tlearn: 0.1237767\ttotal: 459ms\tremaining: 499ms\n",
      "479:\tlearn: 0.1236590\ttotal: 460ms\tremaining: 498ms\n",
      "480:\tlearn: 0.1233554\ttotal: 460ms\tremaining: 497ms\n",
      "481:\tlearn: 0.1232619\ttotal: 461ms\tremaining: 496ms\n",
      "482:\tlearn: 0.1230852\ttotal: 462ms\tremaining: 494ms\n",
      "483:\tlearn: 0.1228726\ttotal: 463ms\tremaining: 493ms\n",
      "484:\tlearn: 0.1225820\ttotal: 463ms\tremaining: 492ms\n",
      "485:\tlearn: 0.1222351\ttotal: 464ms\tremaining: 491ms\n",
      "486:\tlearn: 0.1220072\ttotal: 465ms\tremaining: 490ms\n",
      "487:\tlearn: 0.1217008\ttotal: 466ms\tremaining: 489ms\n",
      "488:\tlearn: 0.1214030\ttotal: 467ms\tremaining: 488ms\n",
      "489:\tlearn: 0.1211937\ttotal: 468ms\tremaining: 487ms\n",
      "490:\tlearn: 0.1210488\ttotal: 468ms\tremaining: 486ms\n",
      "491:\tlearn: 0.1208616\ttotal: 469ms\tremaining: 484ms\n",
      "492:\tlearn: 0.1206207\ttotal: 470ms\tremaining: 483ms\n",
      "493:\tlearn: 0.1203621\ttotal: 471ms\tremaining: 482ms\n",
      "494:\tlearn: 0.1200358\ttotal: 472ms\tremaining: 481ms\n",
      "495:\tlearn: 0.1197389\ttotal: 472ms\tremaining: 480ms\n",
      "496:\tlearn: 0.1194499\ttotal: 473ms\tremaining: 479ms\n",
      "497:\tlearn: 0.1193078\ttotal: 474ms\tremaining: 478ms\n",
      "498:\tlearn: 0.1190626\ttotal: 475ms\tremaining: 477ms\n",
      "499:\tlearn: 0.1187497\ttotal: 476ms\tremaining: 476ms\n",
      "500:\tlearn: 0.1186577\ttotal: 476ms\tremaining: 474ms\n",
      "501:\tlearn: 0.1186405\ttotal: 477ms\tremaining: 473ms\n",
      "502:\tlearn: 0.1182527\ttotal: 478ms\tremaining: 472ms\n",
      "503:\tlearn: 0.1181770\ttotal: 479ms\tremaining: 471ms\n",
      "504:\tlearn: 0.1179007\ttotal: 480ms\tremaining: 470ms\n",
      "505:\tlearn: 0.1178852\ttotal: 480ms\tremaining: 469ms\n",
      "506:\tlearn: 0.1177394\ttotal: 481ms\tremaining: 468ms\n",
      "507:\tlearn: 0.1175558\ttotal: 483ms\tremaining: 467ms\n",
      "508:\tlearn: 0.1173830\ttotal: 484ms\tremaining: 467ms\n",
      "509:\tlearn: 0.1171063\ttotal: 485ms\tremaining: 466ms\n",
      "510:\tlearn: 0.1168805\ttotal: 486ms\tremaining: 465ms\n",
      "511:\tlearn: 0.1165933\ttotal: 487ms\tremaining: 464ms\n",
      "512:\tlearn: 0.1162981\ttotal: 487ms\tremaining: 463ms\n",
      "513:\tlearn: 0.1160919\ttotal: 488ms\tremaining: 462ms\n",
      "514:\tlearn: 0.1160022\ttotal: 489ms\tremaining: 460ms\n",
      "515:\tlearn: 0.1157085\ttotal: 490ms\tremaining: 459ms\n",
      "516:\tlearn: 0.1155591\ttotal: 490ms\tremaining: 458ms\n"
     ]
    },
    {
     "name": "stdout",
     "output_type": "stream",
     "text": [
      "517:\tlearn: 0.1152502\ttotal: 492ms\tremaining: 457ms\n",
      "518:\tlearn: 0.1149246\ttotal: 492ms\tremaining: 456ms\n",
      "519:\tlearn: 0.1147556\ttotal: 493ms\tremaining: 455ms\n",
      "520:\tlearn: 0.1145075\ttotal: 494ms\tremaining: 454ms\n",
      "521:\tlearn: 0.1143239\ttotal: 495ms\tremaining: 453ms\n",
      "522:\tlearn: 0.1140320\ttotal: 496ms\tremaining: 452ms\n",
      "523:\tlearn: 0.1137864\ttotal: 497ms\tremaining: 451ms\n",
      "524:\tlearn: 0.1136002\ttotal: 497ms\tremaining: 450ms\n",
      "525:\tlearn: 0.1133564\ttotal: 498ms\tremaining: 449ms\n",
      "526:\tlearn: 0.1130940\ttotal: 499ms\tremaining: 448ms\n",
      "527:\tlearn: 0.1129678\ttotal: 500ms\tremaining: 447ms\n",
      "528:\tlearn: 0.1126847\ttotal: 501ms\tremaining: 446ms\n",
      "529:\tlearn: 0.1126023\ttotal: 502ms\tremaining: 445ms\n",
      "530:\tlearn: 0.1124874\ttotal: 503ms\tremaining: 444ms\n",
      "531:\tlearn: 0.1124738\ttotal: 503ms\tremaining: 443ms\n",
      "532:\tlearn: 0.1122497\ttotal: 504ms\tremaining: 442ms\n",
      "533:\tlearn: 0.1119894\ttotal: 505ms\tremaining: 441ms\n",
      "534:\tlearn: 0.1117973\ttotal: 506ms\tremaining: 440ms\n",
      "535:\tlearn: 0.1117252\ttotal: 507ms\tremaining: 439ms\n",
      "536:\tlearn: 0.1114400\ttotal: 508ms\tremaining: 438ms\n",
      "537:\tlearn: 0.1112277\ttotal: 509ms\tremaining: 437ms\n",
      "538:\tlearn: 0.1109834\ttotal: 509ms\tremaining: 436ms\n",
      "539:\tlearn: 0.1108174\ttotal: 510ms\tremaining: 435ms\n",
      "540:\tlearn: 0.1107355\ttotal: 511ms\tremaining: 434ms\n",
      "541:\tlearn: 0.1105102\ttotal: 512ms\tremaining: 432ms\n",
      "542:\tlearn: 0.1102413\ttotal: 513ms\tremaining: 431ms\n",
      "543:\tlearn: 0.1100119\ttotal: 513ms\tremaining: 430ms\n",
      "544:\tlearn: 0.1098088\ttotal: 514ms\tremaining: 429ms\n",
      "545:\tlearn: 0.1096516\ttotal: 515ms\tremaining: 428ms\n",
      "546:\tlearn: 0.1094912\ttotal: 516ms\tremaining: 427ms\n",
      "547:\tlearn: 0.1093601\ttotal: 517ms\tremaining: 426ms\n",
      "548:\tlearn: 0.1092322\ttotal: 517ms\tremaining: 425ms\n",
      "549:\tlearn: 0.1091520\ttotal: 518ms\tremaining: 424ms\n",
      "550:\tlearn: 0.1089065\ttotal: 519ms\tremaining: 423ms\n",
      "551:\tlearn: 0.1086629\ttotal: 520ms\tremaining: 422ms\n",
      "552:\tlearn: 0.1084774\ttotal: 521ms\tremaining: 421ms\n",
      "553:\tlearn: 0.1081969\ttotal: 521ms\tremaining: 420ms\n",
      "554:\tlearn: 0.1079799\ttotal: 522ms\tremaining: 419ms\n",
      "555:\tlearn: 0.1077483\ttotal: 523ms\tremaining: 418ms\n",
      "556:\tlearn: 0.1075730\ttotal: 524ms\tremaining: 417ms\n",
      "557:\tlearn: 0.1073202\ttotal: 525ms\tremaining: 416ms\n",
      "558:\tlearn: 0.1070332\ttotal: 525ms\tremaining: 414ms\n",
      "559:\tlearn: 0.1068703\ttotal: 526ms\tremaining: 413ms\n",
      "560:\tlearn: 0.1067297\ttotal: 527ms\tremaining: 412ms\n",
      "561:\tlearn: 0.1067178\ttotal: 528ms\tremaining: 411ms\n",
      "562:\tlearn: 0.1064516\ttotal: 529ms\tremaining: 410ms\n",
      "563:\tlearn: 0.1064411\ttotal: 529ms\tremaining: 409ms\n",
      "564:\tlearn: 0.1062600\ttotal: 530ms\tremaining: 408ms\n",
      "565:\tlearn: 0.1062451\ttotal: 531ms\tremaining: 407ms\n",
      "566:\tlearn: 0.1062035\ttotal: 532ms\tremaining: 406ms\n",
      "567:\tlearn: 0.1060045\ttotal: 533ms\tremaining: 405ms\n",
      "568:\tlearn: 0.1056588\ttotal: 533ms\tremaining: 404ms\n",
      "569:\tlearn: 0.1056269\ttotal: 534ms\tremaining: 403ms\n",
      "570:\tlearn: 0.1055112\ttotal: 535ms\tremaining: 402ms\n",
      "571:\tlearn: 0.1054019\ttotal: 536ms\tremaining: 401ms\n",
      "572:\tlearn: 0.1053125\ttotal: 537ms\tremaining: 400ms\n",
      "573:\tlearn: 0.1050523\ttotal: 538ms\tremaining: 399ms\n",
      "574:\tlearn: 0.1048304\ttotal: 539ms\tremaining: 398ms\n",
      "575:\tlearn: 0.1045836\ttotal: 539ms\tremaining: 397ms\n",
      "576:\tlearn: 0.1043381\ttotal: 540ms\tremaining: 396ms\n",
      "577:\tlearn: 0.1042093\ttotal: 541ms\tremaining: 395ms\n",
      "578:\tlearn: 0.1040985\ttotal: 542ms\tremaining: 394ms\n",
      "579:\tlearn: 0.1039128\ttotal: 543ms\tremaining: 393ms\n",
      "580:\tlearn: 0.1038123\ttotal: 543ms\tremaining: 392ms\n",
      "581:\tlearn: 0.1036865\ttotal: 544ms\tremaining: 391ms\n",
      "582:\tlearn: 0.1034420\ttotal: 545ms\tremaining: 390ms\n",
      "583:\tlearn: 0.1034224\ttotal: 546ms\tremaining: 389ms\n",
      "584:\tlearn: 0.1033505\ttotal: 547ms\tremaining: 388ms\n",
      "585:\tlearn: 0.1030884\ttotal: 548ms\tremaining: 387ms\n",
      "586:\tlearn: 0.1028991\ttotal: 548ms\tremaining: 386ms\n",
      "587:\tlearn: 0.1028360\ttotal: 549ms\tremaining: 385ms\n",
      "588:\tlearn: 0.1025785\ttotal: 550ms\tremaining: 384ms\n",
      "589:\tlearn: 0.1025203\ttotal: 551ms\tremaining: 383ms\n",
      "590:\tlearn: 0.1024374\ttotal: 552ms\tremaining: 382ms\n",
      "591:\tlearn: 0.1022095\ttotal: 552ms\tremaining: 381ms\n",
      "592:\tlearn: 0.1021138\ttotal: 553ms\tremaining: 380ms\n",
      "593:\tlearn: 0.1020081\ttotal: 554ms\tremaining: 379ms\n",
      "594:\tlearn: 0.1017867\ttotal: 555ms\tremaining: 378ms\n",
      "595:\tlearn: 0.1015625\ttotal: 556ms\tremaining: 377ms\n",
      "596:\tlearn: 0.1013495\ttotal: 557ms\tremaining: 376ms\n",
      "597:\tlearn: 0.1011982\ttotal: 558ms\tremaining: 375ms\n",
      "598:\tlearn: 0.1011677\ttotal: 558ms\tremaining: 374ms\n",
      "599:\tlearn: 0.1010683\ttotal: 559ms\tremaining: 373ms\n",
      "600:\tlearn: 0.1010222\ttotal: 560ms\tremaining: 372ms\n",
      "601:\tlearn: 0.1008657\ttotal: 561ms\tremaining: 371ms\n",
      "602:\tlearn: 0.1007001\ttotal: 561ms\tremaining: 370ms\n",
      "603:\tlearn: 0.1004362\ttotal: 562ms\tremaining: 369ms\n",
      "604:\tlearn: 0.1002227\ttotal: 563ms\tremaining: 368ms\n",
      "605:\tlearn: 0.1001271\ttotal: 564ms\tremaining: 367ms\n",
      "606:\tlearn: 0.0998124\ttotal: 565ms\tremaining: 366ms\n",
      "607:\tlearn: 0.0996154\ttotal: 566ms\tremaining: 365ms\n",
      "608:\tlearn: 0.0994202\ttotal: 566ms\tremaining: 364ms\n",
      "609:\tlearn: 0.0992440\ttotal: 567ms\tremaining: 363ms\n",
      "610:\tlearn: 0.0990941\ttotal: 568ms\tremaining: 362ms\n",
      "611:\tlearn: 0.0990185\ttotal: 569ms\tremaining: 361ms\n",
      "612:\tlearn: 0.0987640\ttotal: 570ms\tremaining: 360ms\n",
      "613:\tlearn: 0.0985473\ttotal: 570ms\tremaining: 359ms\n",
      "614:\tlearn: 0.0983533\ttotal: 571ms\tremaining: 358ms\n",
      "615:\tlearn: 0.0981736\ttotal: 572ms\tremaining: 357ms\n",
      "616:\tlearn: 0.0981509\ttotal: 573ms\tremaining: 355ms\n"
     ]
    },
    {
     "name": "stdout",
     "output_type": "stream",
     "text": [
      "617:\tlearn: 0.0981224\ttotal: 574ms\tremaining: 355ms\n",
      "618:\tlearn: 0.0979104\ttotal: 575ms\tremaining: 354ms\n",
      "619:\tlearn: 0.0977654\ttotal: 575ms\tremaining: 353ms\n",
      "620:\tlearn: 0.0976113\ttotal: 576ms\tremaining: 352ms\n",
      "621:\tlearn: 0.0973750\ttotal: 577ms\tremaining: 351ms\n",
      "622:\tlearn: 0.0971596\ttotal: 578ms\tremaining: 350ms\n",
      "623:\tlearn: 0.0970173\ttotal: 579ms\tremaining: 349ms\n",
      "624:\tlearn: 0.0968413\ttotal: 580ms\tremaining: 348ms\n",
      "625:\tlearn: 0.0967457\ttotal: 581ms\tremaining: 347ms\n",
      "626:\tlearn: 0.0965377\ttotal: 581ms\tremaining: 346ms\n",
      "627:\tlearn: 0.0964278\ttotal: 582ms\tremaining: 345ms\n",
      "628:\tlearn: 0.0963165\ttotal: 583ms\tremaining: 344ms\n",
      "629:\tlearn: 0.0961871\ttotal: 584ms\tremaining: 343ms\n",
      "630:\tlearn: 0.0961646\ttotal: 585ms\tremaining: 342ms\n",
      "631:\tlearn: 0.0960138\ttotal: 585ms\tremaining: 341ms\n",
      "632:\tlearn: 0.0959868\ttotal: 586ms\tremaining: 340ms\n",
      "633:\tlearn: 0.0959381\ttotal: 587ms\tremaining: 339ms\n",
      "634:\tlearn: 0.0957610\ttotal: 588ms\tremaining: 338ms\n",
      "635:\tlearn: 0.0957172\ttotal: 589ms\tremaining: 337ms\n",
      "636:\tlearn: 0.0956830\ttotal: 590ms\tremaining: 336ms\n",
      "637:\tlearn: 0.0954907\ttotal: 590ms\tremaining: 335ms\n",
      "638:\tlearn: 0.0954292\ttotal: 591ms\tremaining: 334ms\n",
      "639:\tlearn: 0.0952546\ttotal: 592ms\tremaining: 333ms\n",
      "640:\tlearn: 0.0951074\ttotal: 593ms\tremaining: 332ms\n",
      "641:\tlearn: 0.0949393\ttotal: 593ms\tremaining: 331ms\n",
      "642:\tlearn: 0.0948776\ttotal: 594ms\tremaining: 330ms\n",
      "643:\tlearn: 0.0948439\ttotal: 595ms\tremaining: 329ms\n",
      "644:\tlearn: 0.0948112\ttotal: 596ms\tremaining: 328ms\n",
      "645:\tlearn: 0.0946141\ttotal: 597ms\tremaining: 327ms\n",
      "646:\tlearn: 0.0945743\ttotal: 597ms\tremaining: 326ms\n",
      "647:\tlearn: 0.0943908\ttotal: 598ms\tremaining: 325ms\n",
      "648:\tlearn: 0.0943715\ttotal: 599ms\tremaining: 324ms\n",
      "649:\tlearn: 0.0943582\ttotal: 600ms\tremaining: 323ms\n",
      "650:\tlearn: 0.0941398\ttotal: 600ms\tremaining: 322ms\n",
      "651:\tlearn: 0.0941057\ttotal: 602ms\tremaining: 321ms\n",
      "652:\tlearn: 0.0939882\ttotal: 603ms\tremaining: 320ms\n",
      "653:\tlearn: 0.0939321\ttotal: 604ms\tremaining: 319ms\n",
      "654:\tlearn: 0.0937490\ttotal: 605ms\tremaining: 319ms\n",
      "655:\tlearn: 0.0936059\ttotal: 606ms\tremaining: 318ms\n",
      "656:\tlearn: 0.0934561\ttotal: 607ms\tremaining: 317ms\n",
      "657:\tlearn: 0.0932668\ttotal: 608ms\tremaining: 316ms\n",
      "658:\tlearn: 0.0932063\ttotal: 609ms\tremaining: 315ms\n",
      "659:\tlearn: 0.0930472\ttotal: 610ms\tremaining: 314ms\n",
      "660:\tlearn: 0.0930114\ttotal: 611ms\tremaining: 313ms\n",
      "661:\tlearn: 0.0928269\ttotal: 611ms\tremaining: 312ms\n",
      "662:\tlearn: 0.0928156\ttotal: 612ms\tremaining: 311ms\n",
      "663:\tlearn: 0.0926101\ttotal: 613ms\tremaining: 310ms\n",
      "664:\tlearn: 0.0925838\ttotal: 614ms\tremaining: 309ms\n",
      "665:\tlearn: 0.0925596\ttotal: 615ms\tremaining: 308ms\n",
      "666:\tlearn: 0.0923421\ttotal: 616ms\tremaining: 308ms\n",
      "667:\tlearn: 0.0923221\ttotal: 617ms\tremaining: 307ms\n",
      "668:\tlearn: 0.0923026\ttotal: 618ms\tremaining: 306ms\n",
      "669:\tlearn: 0.0921241\ttotal: 619ms\tremaining: 305ms\n",
      "670:\tlearn: 0.0919923\ttotal: 620ms\tremaining: 304ms\n",
      "671:\tlearn: 0.0918301\ttotal: 621ms\tremaining: 303ms\n",
      "672:\tlearn: 0.0916358\ttotal: 622ms\tremaining: 302ms\n",
      "673:\tlearn: 0.0913922\ttotal: 623ms\tremaining: 301ms\n",
      "674:\tlearn: 0.0912060\ttotal: 624ms\tremaining: 300ms\n",
      "675:\tlearn: 0.0911333\ttotal: 624ms\tremaining: 299ms\n",
      "676:\tlearn: 0.0908493\ttotal: 625ms\tremaining: 298ms\n",
      "677:\tlearn: 0.0907086\ttotal: 626ms\tremaining: 297ms\n",
      "678:\tlearn: 0.0905165\ttotal: 627ms\tremaining: 296ms\n",
      "679:\tlearn: 0.0904234\ttotal: 628ms\tremaining: 295ms\n",
      "680:\tlearn: 0.0903053\ttotal: 629ms\tremaining: 294ms\n",
      "681:\tlearn: 0.0901253\ttotal: 629ms\tremaining: 293ms\n",
      "682:\tlearn: 0.0901160\ttotal: 630ms\tremaining: 293ms\n",
      "683:\tlearn: 0.0899538\ttotal: 631ms\tremaining: 292ms\n",
      "684:\tlearn: 0.0899358\ttotal: 632ms\tremaining: 291ms\n",
      "685:\tlearn: 0.0898428\ttotal: 633ms\tremaining: 290ms\n",
      "686:\tlearn: 0.0897341\ttotal: 634ms\tremaining: 289ms\n",
      "687:\tlearn: 0.0897157\ttotal: 634ms\tremaining: 288ms\n",
      "688:\tlearn: 0.0895307\ttotal: 635ms\tremaining: 287ms\n",
      "689:\tlearn: 0.0894630\ttotal: 636ms\tremaining: 286ms\n",
      "690:\tlearn: 0.0892352\ttotal: 637ms\tremaining: 285ms\n",
      "691:\tlearn: 0.0889923\ttotal: 637ms\tremaining: 284ms\n",
      "692:\tlearn: 0.0888645\ttotal: 638ms\tremaining: 283ms\n",
      "693:\tlearn: 0.0887737\ttotal: 639ms\tremaining: 282ms\n",
      "694:\tlearn: 0.0886563\ttotal: 640ms\tremaining: 281ms\n",
      "695:\tlearn: 0.0884586\ttotal: 641ms\tremaining: 280ms\n",
      "696:\tlearn: 0.0884356\ttotal: 642ms\tremaining: 279ms\n",
      "697:\tlearn: 0.0882051\ttotal: 643ms\tremaining: 278ms\n",
      "698:\tlearn: 0.0880872\ttotal: 644ms\tremaining: 277ms\n",
      "699:\tlearn: 0.0880684\ttotal: 644ms\tremaining: 276ms\n",
      "700:\tlearn: 0.0880481\ttotal: 645ms\tremaining: 275ms\n",
      "701:\tlearn: 0.0878003\ttotal: 646ms\tremaining: 274ms\n",
      "702:\tlearn: 0.0877746\ttotal: 647ms\tremaining: 273ms\n",
      "703:\tlearn: 0.0877606\ttotal: 648ms\tremaining: 272ms\n",
      "704:\tlearn: 0.0875765\ttotal: 648ms\tremaining: 271ms\n",
      "705:\tlearn: 0.0874171\ttotal: 649ms\tremaining: 270ms\n",
      "706:\tlearn: 0.0873501\ttotal: 650ms\tremaining: 269ms\n",
      "707:\tlearn: 0.0872479\ttotal: 651ms\tremaining: 268ms\n",
      "708:\tlearn: 0.0872354\ttotal: 652ms\tremaining: 267ms\n",
      "709:\tlearn: 0.0871114\ttotal: 653ms\tremaining: 267ms\n",
      "710:\tlearn: 0.0870285\ttotal: 653ms\tremaining: 266ms\n",
      "711:\tlearn: 0.0869170\ttotal: 654ms\tremaining: 265ms\n",
      "712:\tlearn: 0.0867096\ttotal: 655ms\tremaining: 264ms\n",
      "713:\tlearn: 0.0865832\ttotal: 656ms\tremaining: 263ms\n",
      "714:\tlearn: 0.0864659\ttotal: 657ms\tremaining: 262ms\n",
      "715:\tlearn: 0.0863549\ttotal: 657ms\tremaining: 261ms\n",
      "716:\tlearn: 0.0862230\ttotal: 658ms\tremaining: 260ms\n",
      "717:\tlearn: 0.0861023\ttotal: 659ms\tremaining: 259ms\n",
      "718:\tlearn: 0.0860769\ttotal: 660ms\tremaining: 258ms\n",
      "719:\tlearn: 0.0859102\ttotal: 661ms\tremaining: 257ms\n",
      "720:\tlearn: 0.0858706\ttotal: 662ms\tremaining: 256ms\n",
      "721:\tlearn: 0.0857614\ttotal: 663ms\tremaining: 255ms\n",
      "722:\tlearn: 0.0857051\ttotal: 663ms\tremaining: 254ms\n",
      "723:\tlearn: 0.0855649\ttotal: 664ms\tremaining: 253ms\n",
      "724:\tlearn: 0.0853833\ttotal: 665ms\tremaining: 252ms\n",
      "725:\tlearn: 0.0853303\ttotal: 666ms\tremaining: 251ms\n",
      "726:\tlearn: 0.0851261\ttotal: 667ms\tremaining: 250ms\n",
      "727:\tlearn: 0.0850034\ttotal: 668ms\tremaining: 249ms\n",
      "728:\tlearn: 0.0848532\ttotal: 669ms\tremaining: 249ms\n",
      "729:\tlearn: 0.0847976\ttotal: 669ms\tremaining: 248ms\n",
      "730:\tlearn: 0.0847899\ttotal: 670ms\tremaining: 247ms\n",
      "731:\tlearn: 0.0847640\ttotal: 671ms\tremaining: 246ms\n",
      "732:\tlearn: 0.0846838\ttotal: 672ms\tremaining: 245ms\n",
      "733:\tlearn: 0.0845732\ttotal: 673ms\tremaining: 244ms\n",
      "734:\tlearn: 0.0843071\ttotal: 673ms\tremaining: 243ms\n",
      "735:\tlearn: 0.0841649\ttotal: 674ms\tremaining: 242ms\n",
      "736:\tlearn: 0.0841510\ttotal: 675ms\tremaining: 241ms\n",
      "737:\tlearn: 0.0840143\ttotal: 676ms\tremaining: 240ms\n",
      "738:\tlearn: 0.0839971\ttotal: 677ms\tremaining: 239ms\n",
      "739:\tlearn: 0.0839165\ttotal: 678ms\tremaining: 238ms\n",
      "740:\tlearn: 0.0837434\ttotal: 678ms\tremaining: 237ms\n",
      "741:\tlearn: 0.0835447\ttotal: 679ms\tremaining: 236ms\n",
      "742:\tlearn: 0.0833980\ttotal: 680ms\tremaining: 235ms\n",
      "743:\tlearn: 0.0832789\ttotal: 681ms\tremaining: 234ms\n"
     ]
    },
    {
     "name": "stdout",
     "output_type": "stream",
     "text": [
      "744:\tlearn: 0.0831155\ttotal: 682ms\tremaining: 233ms\n",
      "745:\tlearn: 0.0829567\ttotal: 683ms\tremaining: 233ms\n",
      "746:\tlearn: 0.0828515\ttotal: 684ms\tremaining: 232ms\n",
      "747:\tlearn: 0.0827834\ttotal: 685ms\tremaining: 231ms\n",
      "748:\tlearn: 0.0827724\ttotal: 685ms\tremaining: 230ms\n",
      "749:\tlearn: 0.0825737\ttotal: 686ms\tremaining: 229ms\n",
      "750:\tlearn: 0.0824429\ttotal: 687ms\tremaining: 228ms\n",
      "751:\tlearn: 0.0823592\ttotal: 688ms\tremaining: 227ms\n",
      "752:\tlearn: 0.0822461\ttotal: 689ms\tremaining: 226ms\n",
      "753:\tlearn: 0.0821405\ttotal: 689ms\tremaining: 225ms\n",
      "754:\tlearn: 0.0820073\ttotal: 690ms\tremaining: 224ms\n",
      "755:\tlearn: 0.0819585\ttotal: 691ms\tremaining: 223ms\n",
      "756:\tlearn: 0.0819155\ttotal: 692ms\tremaining: 222ms\n",
      "757:\tlearn: 0.0818022\ttotal: 693ms\tremaining: 221ms\n",
      "758:\tlearn: 0.0816417\ttotal: 694ms\tremaining: 220ms\n",
      "759:\tlearn: 0.0815224\ttotal: 695ms\tremaining: 219ms\n",
      "760:\tlearn: 0.0813768\ttotal: 695ms\tremaining: 218ms\n",
      "761:\tlearn: 0.0811380\ttotal: 696ms\tremaining: 217ms\n",
      "762:\tlearn: 0.0809479\ttotal: 697ms\tremaining: 216ms\n",
      "763:\tlearn: 0.0808101\ttotal: 698ms\tremaining: 216ms\n",
      "764:\tlearn: 0.0807237\ttotal: 699ms\tremaining: 215ms\n",
      "765:\tlearn: 0.0805957\ttotal: 699ms\tremaining: 214ms\n",
      "766:\tlearn: 0.0805142\ttotal: 701ms\tremaining: 213ms\n",
      "767:\tlearn: 0.0805038\ttotal: 702ms\tremaining: 212ms\n",
      "768:\tlearn: 0.0803303\ttotal: 702ms\tremaining: 211ms\n",
      "769:\tlearn: 0.0802031\ttotal: 703ms\tremaining: 210ms\n",
      "770:\tlearn: 0.0800257\ttotal: 704ms\tremaining: 209ms\n",
      "771:\tlearn: 0.0800173\ttotal: 705ms\tremaining: 208ms\n",
      "772:\tlearn: 0.0800062\ttotal: 706ms\tremaining: 207ms\n",
      "773:\tlearn: 0.0799174\ttotal: 707ms\tremaining: 206ms\n",
      "774:\tlearn: 0.0797969\ttotal: 708ms\tremaining: 206ms\n",
      "775:\tlearn: 0.0797051\ttotal: 709ms\tremaining: 205ms\n",
      "776:\tlearn: 0.0796941\ttotal: 710ms\tremaining: 204ms\n",
      "777:\tlearn: 0.0796742\ttotal: 710ms\tremaining: 203ms\n",
      "778:\tlearn: 0.0796586\ttotal: 711ms\tremaining: 202ms\n",
      "779:\tlearn: 0.0794987\ttotal: 712ms\tremaining: 201ms\n",
      "780:\tlearn: 0.0794121\ttotal: 713ms\tremaining: 200ms\n",
      "781:\tlearn: 0.0793818\ttotal: 714ms\tremaining: 199ms\n",
      "782:\tlearn: 0.0793703\ttotal: 714ms\tremaining: 198ms\n",
      "783:\tlearn: 0.0792557\ttotal: 715ms\tremaining: 197ms\n",
      "784:\tlearn: 0.0790743\ttotal: 716ms\tremaining: 196ms\n",
      "785:\tlearn: 0.0789140\ttotal: 717ms\tremaining: 195ms\n",
      "786:\tlearn: 0.0788048\ttotal: 717ms\tremaining: 194ms\n",
      "787:\tlearn: 0.0786812\ttotal: 718ms\tremaining: 193ms\n",
      "788:\tlearn: 0.0785530\ttotal: 719ms\tremaining: 192ms\n",
      "789:\tlearn: 0.0784257\ttotal: 720ms\tremaining: 191ms\n",
      "790:\tlearn: 0.0782866\ttotal: 721ms\tremaining: 190ms\n",
      "791:\tlearn: 0.0782429\ttotal: 722ms\tremaining: 190ms\n",
      "792:\tlearn: 0.0780818\ttotal: 723ms\tremaining: 189ms\n",
      "793:\tlearn: 0.0779421\ttotal: 723ms\tremaining: 188ms\n",
      "794:\tlearn: 0.0779311\ttotal: 724ms\tremaining: 187ms\n",
      "795:\tlearn: 0.0779185\ttotal: 725ms\tremaining: 186ms\n",
      "796:\tlearn: 0.0778211\ttotal: 726ms\tremaining: 185ms\n",
      "797:\tlearn: 0.0777761\ttotal: 727ms\tremaining: 184ms\n",
      "798:\tlearn: 0.0776277\ttotal: 728ms\tremaining: 183ms\n",
      "799:\tlearn: 0.0774310\ttotal: 729ms\tremaining: 182ms\n",
      "800:\tlearn: 0.0773421\ttotal: 729ms\tremaining: 181ms\n",
      "801:\tlearn: 0.0772738\ttotal: 730ms\tremaining: 180ms\n",
      "802:\tlearn: 0.0771653\ttotal: 731ms\tremaining: 179ms\n",
      "803:\tlearn: 0.0770145\ttotal: 732ms\tremaining: 178ms\n",
      "804:\tlearn: 0.0769499\ttotal: 733ms\tremaining: 177ms\n",
      "805:\tlearn: 0.0767350\ttotal: 734ms\tremaining: 177ms\n",
      "806:\tlearn: 0.0766017\ttotal: 734ms\tremaining: 176ms\n",
      "807:\tlearn: 0.0764696\ttotal: 735ms\tremaining: 175ms\n",
      "808:\tlearn: 0.0763007\ttotal: 736ms\tremaining: 174ms\n",
      "809:\tlearn: 0.0761999\ttotal: 737ms\tremaining: 173ms\n",
      "810:\tlearn: 0.0760966\ttotal: 738ms\tremaining: 172ms\n",
      "811:\tlearn: 0.0760546\ttotal: 738ms\tremaining: 171ms\n",
      "812:\tlearn: 0.0760402\ttotal: 739ms\tremaining: 170ms\n",
      "813:\tlearn: 0.0759349\ttotal: 740ms\tremaining: 169ms\n",
      "814:\tlearn: 0.0758458\ttotal: 741ms\tremaining: 168ms\n",
      "815:\tlearn: 0.0757991\ttotal: 742ms\tremaining: 167ms\n",
      "816:\tlearn: 0.0756849\ttotal: 742ms\tremaining: 166ms\n",
      "817:\tlearn: 0.0755517\ttotal: 743ms\tremaining: 165ms\n",
      "818:\tlearn: 0.0754550\ttotal: 744ms\tremaining: 164ms\n",
      "819:\tlearn: 0.0752976\ttotal: 745ms\tremaining: 163ms\n",
      "820:\tlearn: 0.0752878\ttotal: 746ms\tremaining: 163ms\n",
      "821:\tlearn: 0.0752157\ttotal: 746ms\tremaining: 162ms\n",
      "822:\tlearn: 0.0751382\ttotal: 747ms\tremaining: 161ms\n",
      "823:\tlearn: 0.0750070\ttotal: 748ms\tremaining: 160ms\n",
      "824:\tlearn: 0.0748301\ttotal: 749ms\tremaining: 159ms\n",
      "825:\tlearn: 0.0747374\ttotal: 750ms\tremaining: 158ms\n",
      "826:\tlearn: 0.0746518\ttotal: 750ms\tremaining: 157ms\n",
      "827:\tlearn: 0.0745230\ttotal: 751ms\tremaining: 156ms\n",
      "828:\tlearn: 0.0744013\ttotal: 752ms\tremaining: 155ms\n",
      "829:\tlearn: 0.0743175\ttotal: 753ms\tremaining: 154ms\n",
      "830:\tlearn: 0.0742151\ttotal: 754ms\tremaining: 153ms\n",
      "831:\tlearn: 0.0740808\ttotal: 754ms\tremaining: 152ms\n",
      "832:\tlearn: 0.0739717\ttotal: 755ms\tremaining: 151ms\n",
      "833:\tlearn: 0.0738518\ttotal: 756ms\tremaining: 151ms\n",
      "834:\tlearn: 0.0737363\ttotal: 757ms\tremaining: 150ms\n",
      "835:\tlearn: 0.0736298\ttotal: 758ms\tremaining: 149ms\n",
      "836:\tlearn: 0.0734977\ttotal: 759ms\tremaining: 148ms\n",
      "837:\tlearn: 0.0734550\ttotal: 759ms\tremaining: 147ms\n",
      "838:\tlearn: 0.0733469\ttotal: 760ms\tremaining: 146ms\n",
      "839:\tlearn: 0.0733294\ttotal: 762ms\tremaining: 145ms\n",
      "840:\tlearn: 0.0732495\ttotal: 762ms\tremaining: 144ms\n",
      "841:\tlearn: 0.0731300\ttotal: 763ms\tremaining: 143ms\n"
     ]
    },
    {
     "name": "stdout",
     "output_type": "stream",
     "text": [
      "842:\tlearn: 0.0730271\ttotal: 764ms\tremaining: 142ms\n",
      "843:\tlearn: 0.0728531\ttotal: 765ms\tremaining: 141ms\n",
      "844:\tlearn: 0.0728139\ttotal: 766ms\tremaining: 141ms\n",
      "845:\tlearn: 0.0727233\ttotal: 767ms\tremaining: 140ms\n",
      "846:\tlearn: 0.0726272\ttotal: 768ms\tremaining: 139ms\n",
      "847:\tlearn: 0.0725207\ttotal: 769ms\tremaining: 138ms\n",
      "848:\tlearn: 0.0724571\ttotal: 769ms\tremaining: 137ms\n",
      "849:\tlearn: 0.0723987\ttotal: 770ms\tremaining: 136ms\n",
      "850:\tlearn: 0.0722705\ttotal: 771ms\tremaining: 135ms\n",
      "851:\tlearn: 0.0721721\ttotal: 772ms\tremaining: 134ms\n",
      "852:\tlearn: 0.0720555\ttotal: 773ms\tremaining: 133ms\n",
      "853:\tlearn: 0.0719157\ttotal: 773ms\tremaining: 132ms\n",
      "854:\tlearn: 0.0719078\ttotal: 774ms\tremaining: 131ms\n",
      "855:\tlearn: 0.0718214\ttotal: 775ms\tremaining: 130ms\n",
      "856:\tlearn: 0.0717303\ttotal: 776ms\tremaining: 129ms\n",
      "857:\tlearn: 0.0716890\ttotal: 777ms\tremaining: 129ms\n",
      "858:\tlearn: 0.0715820\ttotal: 777ms\tremaining: 128ms\n",
      "859:\tlearn: 0.0715622\ttotal: 778ms\tremaining: 127ms\n",
      "860:\tlearn: 0.0714449\ttotal: 779ms\tremaining: 126ms\n",
      "861:\tlearn: 0.0713477\ttotal: 780ms\tremaining: 125ms\n",
      "862:\tlearn: 0.0712542\ttotal: 780ms\tremaining: 124ms\n",
      "863:\tlearn: 0.0711626\ttotal: 781ms\tremaining: 123ms\n",
      "864:\tlearn: 0.0710722\ttotal: 782ms\tremaining: 122ms\n",
      "865:\tlearn: 0.0710635\ttotal: 783ms\tremaining: 121ms\n",
      "866:\tlearn: 0.0709390\ttotal: 784ms\tremaining: 120ms\n",
      "867:\tlearn: 0.0707724\ttotal: 784ms\tremaining: 119ms\n",
      "868:\tlearn: 0.0706685\ttotal: 785ms\tremaining: 118ms\n",
      "869:\tlearn: 0.0705599\ttotal: 786ms\tremaining: 117ms\n",
      "870:\tlearn: 0.0704822\ttotal: 787ms\tremaining: 117ms\n",
      "871:\tlearn: 0.0703840\ttotal: 788ms\tremaining: 116ms\n",
      "872:\tlearn: 0.0703058\ttotal: 788ms\tremaining: 115ms\n",
      "873:\tlearn: 0.0702647\ttotal: 789ms\tremaining: 114ms\n",
      "874:\tlearn: 0.0702574\ttotal: 790ms\tremaining: 113ms\n",
      "875:\tlearn: 0.0701075\ttotal: 791ms\tremaining: 112ms\n",
      "876:\tlearn: 0.0700160\ttotal: 792ms\tremaining: 111ms\n",
      "877:\tlearn: 0.0699113\ttotal: 793ms\tremaining: 110ms\n",
      "878:\tlearn: 0.0698616\ttotal: 793ms\tremaining: 109ms\n",
      "879:\tlearn: 0.0697172\ttotal: 794ms\tremaining: 108ms\n",
      "880:\tlearn: 0.0695850\ttotal: 795ms\tremaining: 107ms\n",
      "881:\tlearn: 0.0695373\ttotal: 796ms\tremaining: 106ms\n",
      "882:\tlearn: 0.0694410\ttotal: 796ms\tremaining: 106ms\n",
      "883:\tlearn: 0.0693759\ttotal: 797ms\tremaining: 105ms\n",
      "884:\tlearn: 0.0693468\ttotal: 798ms\tremaining: 104ms\n",
      "885:\tlearn: 0.0692457\ttotal: 799ms\tremaining: 103ms\n",
      "886:\tlearn: 0.0691923\ttotal: 800ms\tremaining: 102ms\n",
      "887:\tlearn: 0.0690866\ttotal: 800ms\tremaining: 101ms\n",
      "888:\tlearn: 0.0690787\ttotal: 801ms\tremaining: 100ms\n",
      "889:\tlearn: 0.0689458\ttotal: 802ms\tremaining: 99.1ms\n",
      "890:\tlearn: 0.0688724\ttotal: 803ms\tremaining: 98.2ms\n",
      "891:\tlearn: 0.0688617\ttotal: 804ms\tremaining: 97.3ms\n",
      "892:\tlearn: 0.0687352\ttotal: 804ms\tremaining: 96.4ms\n",
      "893:\tlearn: 0.0686305\ttotal: 805ms\tremaining: 95.5ms\n",
      "894:\tlearn: 0.0684780\ttotal: 806ms\tremaining: 94.6ms\n",
      "895:\tlearn: 0.0683132\ttotal: 807ms\tremaining: 93.7ms\n",
      "896:\tlearn: 0.0682370\ttotal: 808ms\tremaining: 92.7ms\n",
      "897:\tlearn: 0.0681057\ttotal: 809ms\tremaining: 91.8ms\n",
      "898:\tlearn: 0.0679610\ttotal: 809ms\tremaining: 90.9ms\n",
      "899:\tlearn: 0.0679366\ttotal: 810ms\tremaining: 90ms\n",
      "900:\tlearn: 0.0677792\ttotal: 811ms\tremaining: 89.1ms\n",
      "901:\tlearn: 0.0676323\ttotal: 812ms\tremaining: 88.2ms\n",
      "902:\tlearn: 0.0675344\ttotal: 813ms\tremaining: 87.3ms\n",
      "903:\tlearn: 0.0674494\ttotal: 813ms\tremaining: 86.4ms\n",
      "904:\tlearn: 0.0673655\ttotal: 814ms\tremaining: 85.5ms\n",
      "905:\tlearn: 0.0673448\ttotal: 815ms\tremaining: 84.6ms\n",
      "906:\tlearn: 0.0673305\ttotal: 816ms\tremaining: 83.7ms\n",
      "907:\tlearn: 0.0671969\ttotal: 817ms\tremaining: 82.8ms\n",
      "908:\tlearn: 0.0670938\ttotal: 818ms\tremaining: 81.8ms\n",
      "909:\tlearn: 0.0670063\ttotal: 818ms\tremaining: 80.9ms\n",
      "910:\tlearn: 0.0669571\ttotal: 819ms\tremaining: 80ms\n",
      "911:\tlearn: 0.0669425\ttotal: 820ms\tremaining: 79.1ms\n",
      "912:\tlearn: 0.0668177\ttotal: 821ms\tremaining: 78.2ms\n",
      "913:\tlearn: 0.0667815\ttotal: 822ms\tremaining: 77.3ms\n",
      "914:\tlearn: 0.0666981\ttotal: 822ms\tremaining: 76.4ms\n",
      "915:\tlearn: 0.0666792\ttotal: 823ms\tremaining: 75.5ms\n",
      "916:\tlearn: 0.0665804\ttotal: 824ms\tremaining: 74.6ms\n",
      "917:\tlearn: 0.0664332\ttotal: 825ms\tremaining: 73.7ms\n",
      "918:\tlearn: 0.0663896\ttotal: 826ms\tremaining: 72.8ms\n",
      "919:\tlearn: 0.0662552\ttotal: 826ms\tremaining: 71.9ms\n",
      "920:\tlearn: 0.0661187\ttotal: 827ms\tremaining: 71ms\n",
      "921:\tlearn: 0.0660845\ttotal: 828ms\tremaining: 70.1ms\n",
      "922:\tlearn: 0.0659518\ttotal: 829ms\tremaining: 69.1ms\n",
      "923:\tlearn: 0.0658307\ttotal: 830ms\tremaining: 68.2ms\n",
      "924:\tlearn: 0.0656655\ttotal: 831ms\tremaining: 67.3ms\n",
      "925:\tlearn: 0.0655319\ttotal: 831ms\tremaining: 66.4ms\n",
      "926:\tlearn: 0.0653938\ttotal: 832ms\tremaining: 65.5ms\n",
      "927:\tlearn: 0.0653075\ttotal: 833ms\tremaining: 64.6ms\n",
      "928:\tlearn: 0.0651963\ttotal: 834ms\tremaining: 63.8ms\n",
      "929:\tlearn: 0.0651037\ttotal: 835ms\tremaining: 62.9ms\n",
      "930:\tlearn: 0.0650301\ttotal: 836ms\tremaining: 62ms\n",
      "931:\tlearn: 0.0648915\ttotal: 837ms\tremaining: 61.1ms\n",
      "932:\tlearn: 0.0648085\ttotal: 838ms\tremaining: 60.1ms\n",
      "933:\tlearn: 0.0647396\ttotal: 839ms\tremaining: 59.3ms\n",
      "934:\tlearn: 0.0646650\ttotal: 840ms\tremaining: 58.4ms\n",
      "935:\tlearn: 0.0646443\ttotal: 840ms\tremaining: 57.5ms\n",
      "936:\tlearn: 0.0645253\ttotal: 841ms\tremaining: 56.6ms\n",
      "937:\tlearn: 0.0643511\ttotal: 842ms\tremaining: 55.7ms\n",
      "938:\tlearn: 0.0643110\ttotal: 843ms\tremaining: 54.7ms\n",
      "939:\tlearn: 0.0642366\ttotal: 844ms\tremaining: 53.8ms\n",
      "940:\tlearn: 0.0641499\ttotal: 844ms\tremaining: 52.9ms\n",
      "941:\tlearn: 0.0640150\ttotal: 845ms\tremaining: 52ms\n",
      "942:\tlearn: 0.0639229\ttotal: 846ms\tremaining: 51.1ms\n",
      "943:\tlearn: 0.0638640\ttotal: 847ms\tremaining: 50.2ms\n",
      "944:\tlearn: 0.0637889\ttotal: 848ms\tremaining: 49.3ms\n",
      "945:\tlearn: 0.0637772\ttotal: 848ms\tremaining: 48.4ms\n",
      "946:\tlearn: 0.0636497\ttotal: 849ms\tremaining: 47.5ms\n",
      "947:\tlearn: 0.0636328\ttotal: 850ms\tremaining: 46.6ms\n",
      "948:\tlearn: 0.0635266\ttotal: 851ms\tremaining: 45.7ms\n",
      "949:\tlearn: 0.0633862\ttotal: 852ms\tremaining: 44.8ms\n",
      "950:\tlearn: 0.0632681\ttotal: 852ms\tremaining: 43.9ms\n",
      "951:\tlearn: 0.0631908\ttotal: 853ms\tremaining: 43ms\n",
      "952:\tlearn: 0.0631815\ttotal: 854ms\tremaining: 42.1ms\n",
      "953:\tlearn: 0.0631120\ttotal: 855ms\tremaining: 41.2ms\n",
      "954:\tlearn: 0.0630247\ttotal: 856ms\tremaining: 40.3ms\n",
      "955:\tlearn: 0.0629473\ttotal: 856ms\tremaining: 39.4ms\n",
      "956:\tlearn: 0.0628638\ttotal: 857ms\tremaining: 38.5ms\n",
      "957:\tlearn: 0.0627184\ttotal: 858ms\tremaining: 37.6ms\n",
      "958:\tlearn: 0.0625878\ttotal: 859ms\tremaining: 36.7ms\n",
      "959:\tlearn: 0.0625436\ttotal: 860ms\tremaining: 35.8ms\n",
      "960:\tlearn: 0.0624498\ttotal: 860ms\tremaining: 34.9ms\n",
      "961:\tlearn: 0.0624319\ttotal: 861ms\tremaining: 34ms\n",
      "962:\tlearn: 0.0622607\ttotal: 862ms\tremaining: 33.1ms\n",
      "963:\tlearn: 0.0621664\ttotal: 863ms\tremaining: 32.2ms\n",
      "964:\tlearn: 0.0620125\ttotal: 864ms\tremaining: 31.3ms\n",
      "965:\tlearn: 0.0620008\ttotal: 865ms\tremaining: 30.4ms\n",
      "966:\tlearn: 0.0619506\ttotal: 866ms\tremaining: 29.5ms\n",
      "967:\tlearn: 0.0618446\ttotal: 867ms\tremaining: 28.7ms\n",
      "968:\tlearn: 0.0617397\ttotal: 868ms\tremaining: 27.8ms\n",
      "969:\tlearn: 0.0616324\ttotal: 868ms\tremaining: 26.9ms\n",
      "970:\tlearn: 0.0615557\ttotal: 869ms\tremaining: 26ms\n",
      "971:\tlearn: 0.0614265\ttotal: 870ms\tremaining: 25.1ms\n",
      "972:\tlearn: 0.0613632\ttotal: 871ms\tremaining: 24.2ms\n",
      "973:\tlearn: 0.0612747\ttotal: 872ms\tremaining: 23.3ms\n"
     ]
    },
    {
     "name": "stdout",
     "output_type": "stream",
     "text": [
      "974:\tlearn: 0.0611694\ttotal: 873ms\tremaining: 22.4ms\n",
      "975:\tlearn: 0.0610888\ttotal: 874ms\tremaining: 21.5ms\n",
      "976:\tlearn: 0.0610276\ttotal: 875ms\tremaining: 20.6ms\n",
      "977:\tlearn: 0.0609555\ttotal: 876ms\tremaining: 19.7ms\n",
      "978:\tlearn: 0.0607651\ttotal: 877ms\tremaining: 18.8ms\n",
      "979:\tlearn: 0.0606858\ttotal: 877ms\tremaining: 17.9ms\n",
      "980:\tlearn: 0.0606005\ttotal: 878ms\tremaining: 17ms\n",
      "981:\tlearn: 0.0605638\ttotal: 879ms\tremaining: 16.1ms\n",
      "982:\tlearn: 0.0604429\ttotal: 880ms\tremaining: 15.2ms\n",
      "983:\tlearn: 0.0603190\ttotal: 881ms\tremaining: 14.3ms\n",
      "984:\tlearn: 0.0602283\ttotal: 882ms\tremaining: 13.4ms\n",
      "985:\tlearn: 0.0602158\ttotal: 883ms\tremaining: 12.5ms\n",
      "986:\tlearn: 0.0601366\ttotal: 884ms\tremaining: 11.6ms\n",
      "987:\tlearn: 0.0600852\ttotal: 884ms\tremaining: 10.7ms\n",
      "988:\tlearn: 0.0599638\ttotal: 885ms\tremaining: 9.84ms\n",
      "989:\tlearn: 0.0598876\ttotal: 886ms\tremaining: 8.95ms\n",
      "990:\tlearn: 0.0597941\ttotal: 887ms\tremaining: 8.05ms\n",
      "991:\tlearn: 0.0596524\ttotal: 888ms\tremaining: 7.16ms\n",
      "992:\tlearn: 0.0596483\ttotal: 889ms\tremaining: 6.26ms\n",
      "993:\tlearn: 0.0595986\ttotal: 890ms\tremaining: 5.37ms\n",
      "994:\tlearn: 0.0594852\ttotal: 890ms\tremaining: 4.47ms\n",
      "995:\tlearn: 0.0593780\ttotal: 891ms\tremaining: 3.58ms\n",
      "996:\tlearn: 0.0592925\ttotal: 892ms\tremaining: 2.68ms\n",
      "997:\tlearn: 0.0591769\ttotal: 893ms\tremaining: 1.79ms\n",
      "998:\tlearn: 0.0591236\ttotal: 894ms\tremaining: 894us\n",
      "999:\tlearn: 0.0590611\ttotal: 894ms\tremaining: 0us\n"
     ]
    },
    {
     "data": {
      "text/plain": [
       "<catboost.core.CatBoostRegressor at 0x7fcd714f9670>"
      ]
     },
     "execution_count": 9,
     "metadata": {},
     "output_type": "execute_result"
    }
   ],
   "source": [
    "#Train the Model \n",
    "prior_model = ctb.CatBoostRegressor()\n",
    "prior_model.fit(X_train,Y_train)"
   ]
  },
  {
   "cell_type": "code",
   "execution_count": 10,
   "id": "af65dcda",
   "metadata": {
    "execution": {
     "iopub.execute_input": "2022-06-12T07:15:03.469077Z",
     "iopub.status.busy": "2022-06-12T07:15:03.468697Z",
     "iopub.status.idle": "2022-06-12T07:15:03.476140Z",
     "shell.execute_reply": "2022-06-12T07:15:03.476383Z"
    },
    "id": "af65dcda",
    "papermill": {
     "duration": 0.020578,
     "end_time": "2022-06-12T07:15:03.476495",
     "exception": false,
     "start_time": "2022-06-12T07:15:03.455917",
     "status": "completed"
    },
    "tags": []
   },
   "outputs": [
    {
     "data": {
      "application/scrapbook.scrap.json+json": {
       "data": 0.11187641485883801,
       "encoder": "json",
       "name": "Prior Model MSE",
       "version": 1
      }
     },
     "metadata": {
      "scrapbook": {
       "data": true,
       "display": false,
       "name": "Prior Model MSE"
      }
     },
     "output_type": "display_data"
    },
    {
     "data": {
      "application/scrapbook.scrap.json+json": {
       "data": 0.11297457381809752,
       "encoder": "json",
       "name": "ABC Pre-generator MSE",
       "version": 1
      }
     },
     "metadata": {
      "scrapbook": {
       "data": true,
       "display": false,
       "name": "ABC Pre-generator MSE"
      }
     },
     "output_type": "display_data"
    },
    {
     "data": {
      "application/scrapbook.scrap.json+json": {
       "data": 0.24300352659217872,
       "encoder": "json",
       "name": "Prior Model MSE",
       "version": 1
      }
     },
     "metadata": {
      "scrapbook": {
       "data": true,
       "display": false,
       "name": "Prior Model MSE"
      }
     },
     "output_type": "display_data"
    },
    {
     "data": {
      "application/scrapbook.scrap.json+json": {
       "data": 0.2451608464535719,
       "encoder": "json",
       "name": "ABC Pre-generator MSE",
       "version": 1
      }
     },
     "metadata": {
      "scrapbook": {
       "data": true,
       "display": false,
       "name": "ABC Pre-generator MSE"
      }
     },
     "output_type": "display_data"
    }
   ],
   "source": [
    "y_pred = prior_model.predict(X_test)\n",
    "y_abc = y_pred + np.random.normal(0,variance, y_pred.shape) + bias \n",
    "mse = mean_squared_error(y_pred,Y_test)\n",
    "sb.glue(\"Prior Model MSE\",mse)\n",
    "mse = mean_squared_error(y_abc,Y_test)\n",
    "sb.glue(\"ABC Pre-generator MSE\",mse)\n",
    "mae = mean_absolute_error(y_pred,Y_test)\n",
    "sb.glue(\"Prior Model MSE\",mae)\n",
    "mae = mean_absolute_error(y_abc,Y_test)\n",
    "sb.glue(\"ABC Pre-generator MSE\",mae)"
   ]
  },
  {
   "cell_type": "markdown",
   "id": "25609da2",
   "metadata": {
    "papermill": {
     "duration": 0.009716,
     "end_time": "2022-06-12T07:15:03.496307",
     "exception": false,
     "start_time": "2022-06-12T07:15:03.486591",
     "status": "completed"
    },
    "tags": []
   },
   "source": [
    "# ABC GAN Model"
   ]
  },
  {
   "cell_type": "code",
   "execution_count": 11,
   "id": "dfc3464d",
   "metadata": {
    "execution": {
     "iopub.execute_input": "2022-06-12T07:15:03.518791Z",
     "iopub.status.busy": "2022-06-12T07:15:03.518425Z",
     "iopub.status.idle": "2022-06-12T07:15:03.520748Z",
     "shell.execute_reply": "2022-06-12T07:15:03.520994Z"
    },
    "papermill": {
     "duration": 0.015057,
     "end_time": "2022-06-12T07:15:03.521101",
     "exception": false,
     "start_time": "2022-06-12T07:15:03.506044",
     "status": "completed"
    },
    "tags": []
   },
   "outputs": [],
   "source": [
    "gen = network.Generator(n_features+1).to(device)\n",
    "disc = network.Discriminator(n_features+1).to(device)\n",
    "\n",
    "criterion = torch.nn.BCELoss()\n",
    "gen_opt = torch.optim.Adam(gen.parameters(), lr=0.001, betas=(0.5, 0.999))\n",
    "disc_opt = torch.optim.Adam(disc.parameters(), lr=0.001, betas=(0.5, 0.999))"
   ]
  },
  {
   "cell_type": "code",
   "execution_count": 12,
   "id": "b75fdd85",
   "metadata": {
    "execution": {
     "iopub.execute_input": "2022-06-12T07:15:03.543644Z",
     "iopub.status.busy": "2022-06-12T07:15:03.543275Z",
     "iopub.status.idle": "2022-06-12T07:16:03.860337Z",
     "shell.execute_reply": "2022-06-12T07:16:03.860630Z"
    },
    "papermill": {
     "duration": 60.329638,
     "end_time": "2022-06-12T07:16:03.860749",
     "exception": false,
     "start_time": "2022-06-12T07:15:03.531111",
     "status": "completed"
    },
    "tags": []
   },
   "outputs": [
    {
     "data": {
      "image/png": "[encoded data removed]",
      "text/plain": [
       "<Figure size 432x288 with 1 Axes>"
      ]
     },
     "metadata": {
      "needs_background": "light"
     },
     "output_type": "display_data"
    },
    {
     "data": {
      "image/png": "[encoded data removed]",
      "text/plain": [
       "<Figure size 432x288 with 1 Axes>"
      ]
     },
     "metadata": {
      "needs_background": "light"
     },
     "output_type": "display_data"
    }
   ],
   "source": [
    "#Training the ABC_GAN \n",
    "ABC_train_test2.training_GAN(disc,gen,disc_opt,gen_opt,train_data,batch_size,n_epochs,criterion,prior_model,variance,bias,device)"
   ]
  },
  {
   "cell_type": "code",
   "execution_count": 13,
   "id": "1fa7c368",
   "metadata": {
    "execution": {
     "iopub.execute_input": "2022-06-12T07:16:03.884833Z",
     "iopub.status.busy": "2022-06-12T07:16:03.884457Z",
     "iopub.status.idle": "2022-06-12T07:16:04.196329Z",
     "shell.execute_reply": "2022-06-12T07:16:04.196693Z"
    },
    "papermill": {
     "duration": 0.325304,
     "end_time": "2022-06-12T07:16:04.196814",
     "exception": false,
     "start_time": "2022-06-12T07:16:03.871510",
     "status": "completed"
    },
    "tags": []
   },
   "outputs": [
    {
     "data": {
      "application/scrapbook.scrap.json+json": {
       "data": 0.12597136347712048,
       "encoder": "json",
       "name": "ABC-GAN Model 1 MSE",
       "version": 1
      }
     },
     "metadata": {
      "scrapbook": {
       "data": true,
       "display": false,
       "name": "ABC-GAN Model 1 MSE"
      }
     },
     "output_type": "display_data"
    },
    {
     "data": {
      "application/scrapbook.scrap.json+json": {
       "data": 0.2567696803108807,
       "encoder": "json",
       "name": "ABC-GAN Model 1 MAE",
       "version": 1
      }
     },
     "metadata": {
      "scrapbook": {
       "data": true,
       "display": false,
       "name": "ABC-GAN Model 1 MAE"
      }
     },
     "output_type": "display_data"
    },
    {
     "data": {
      "application/scrapbook.scrap.json+json": {
       "data": 26.190507391709833,
       "encoder": "json",
       "name": "ABC-GAN Model 1 Manhattan Distance",
       "version": 1
      }
     },
     "metadata": {
      "scrapbook": {
       "data": true,
       "display": false,
       "name": "ABC-GAN Model 1 Manhattan Distance"
      }
     },
     "output_type": "display_data"
    },
    {
     "data": {
      "application/scrapbook.scrap.json+json": {
       "data": 3.5845404044072273,
       "encoder": "json",
       "name": "ABC-GAN Model 1 Euclidean distance",
       "version": 1
      }
     },
     "metadata": {
      "scrapbook": {
       "data": true,
       "display": false,
       "name": "ABC-GAN Model 1 Euclidean distance"
      }
     },
     "output_type": "display_data"
    },
    {
     "data": {
      "application/scrapbook.scrap.json+json": {
       "data": [
        [
         0.12643873321169244,
         0.12690766224691244,
         0.12368494511795408,
         0.12509307912899822,
         0.1266841510020862,
         0.12639706217324725,
         0.12444483413782854,
         0.12669057986638027,
         0.1256947309396182,
         0.1271672721684769,
         0.12741406906921252,
         0.12660375020933454,
         0.12650828831336805,
         0.1265862461803905,
         0.12606200319283342,
         0.12445406699989424,
         0.12520520956423495,
         0.1263607054632748,
         0.1273550674527252,
         0.12487325104428645,
         0.1252682236587183,
         0.12714511493783118,
         0.12632905759292376,
         0.12478600230092406,
         0.12711217101610067,
         0.12562490478760696,
         0.12699386548149563,
         0.1263741251038439,
         0.12575099020680908,
         0.12787789756890433,
         0.12540618840794157,
         0.12491590931577597,
         0.12648900115628556,
         0.12612177877049874,
         0.12562038954234128,
         0.126412816645555,
         0.12529023054299196,
         0.12558654535501354,
         0.12651475208554105,
         0.12567541429177986,
         0.12589500637994402,
         0.12533189860598815,
         0.1256709179216503,
         0.12505228972679894,
         0.1258062023691159,
         0.12589052171948914,
         0.1257811618742798,
         0.1264355619125488,
         0.12631162976966237,
         0.1272490651857026,
         0.12552151471259484,
         0.12716252247637902,
         0.12579967449660623,
         0.12694228528901164,
         0.12715282618793525,
         0.12455273945962451,
         0.1258416906788282,
         0.12792637228524079,
         0.12640609160851285,
         0.12636134337322613,
         0.12648980213520666,
         0.1261665726324075,
         0.1256340955795523,
         0.1264460694712857,
         0.12489161870636915,
         0.1265481731541908,
         0.12662764242723876,
         0.12608663537791015,
         0.12507758712357486,
         0.1258599636774432,
         0.12551473989995068,
         0.12689330168337806,
         0.12564100892952776,
         0.12551449788354835,
         0.12671057864032853,
         0.12513953962021032,
         0.1268060134024971,
         0.12498691482486719,
         0.12517474738005432,
         0.1258336528481847,
         0.12430377338185342,
         0.12464110260270304,
         0.12639611886432853,
         0.1242532242531247,
         0.12565645265434033,
         0.12645749192008907,
         0.12622715771975457,
         0.12576438547533184,
         0.12523505246760758,
         0.1273799989788619,
         0.12585201669556909,
         0.12616232705732763,
         0.12630722546335155,
         0.12691080869701976,
         0.12638542077361356,
         0.12599515562765187,
         0.12520531755516534,
         0.12407016636499076,
         0.1247739261147722,
         0.1261036673620951
        ],
        [
         0.2573640606475665,
         0.2579623479122186,
         0.254977208498281,
         0.25554499147898135,
         0.25702676681947767,
         0.25741957046785485,
         0.2552755873047692,
         0.2575276917595343,
         0.2566680105348282,
         0.25754070346809776,
         0.25809452581383724,
         0.2570165560179043,
         0.2562113360355736,
         0.2578995378194925,
         0.2561545574434978,
         0.2546085738029112,
         0.25566925481874864,
         0.25836506669464354,
         0.25664786810931917,
         0.25757440290066835,
         0.25562250490902977,
         0.2582565442220691,
         0.2571375955754489,
         0.25591363503104625,
         0.25826843644437547,
         0.2563718161545694,
         0.25937034342182325,
         0.2567873722873628,
         0.2568118214406365,
         0.25994558324672135,
         0.25688801785273585,
         0.25604416372473626,
         0.25679584491230983,
         0.2564907396193959,
         0.2554358543335077,
         0.2582220227055836,
         0.2563763442631884,
         0.25756471785808016,
         0.25894356527201395,
         0.25615235526735586,
         0.2568397437149257,
         0.2556311095809089,
         0.25762418853849467,
         0.25646926249907004,
         0.2563090566089194,
         0.2559466326298813,
         0.25635447047249066,
         0.25656405742298444,
         0.2580410724998835,
         0.25798227733877654,
         0.25531110022326603,
         0.2584586440877733,
         0.25631496968551304,
         0.25807350339806256,
         0.2584725838136293,
         0.2559045845478335,
         0.2567388868123731,
         0.2576148192873042,
         0.2568797597058994,
         0.2584660494535723,
         0.2559274625599238,
         0.25656955814281224,
         0.2562055975545709,
         0.25541159664919855,
         0.2557105845041281,
         0.2579869488345496,
         0.2566397677212223,
         0.2558563824140412,
         0.2551094327834161,
         0.25719661960451334,
         0.2571431266819583,
         0.25764077798664275,
         0.25660357557638896,
         0.2565599382745431,
         0.2569065175713131,
         0.2556115684793422,
         0.2571370744182929,
         0.25779165562205747,
         0.25560260309344707,
         0.2562746250654991,
         0.2554517950698295,
         0.2558311142082162,
         0.2568680018679622,
         0.2541671761348113,
         0.255649527215271,
         0.25831434095059247,
         0.2568697401358947,
         0.25735164147929523,
         0.2558115261935574,
         0.25727999021353964,
         0.257181651296788,
         0.25624012449464084,
         0.25732469119533313,
         0.25721595026370064,
         0.2587010061240518,
         0.2551873321097125,
         0.2554813746965545,
         0.2540291159267665,
         0.2557378003611138,
         0.25744404840082225
        ],
        [
         26.251134186051786,
         26.3121594870463,
         26.007675266824663,
         26.065589130856097,
         26.216730215586722,
         26.256796187721193,
         26.038109905086458,
         26.2678245594725,
         26.180137074552476,
         26.269151753745973,
         26.3256416330114,
         26.21568871382624,
         26.133556275628507,
         26.30575285758823,
         26.127764859236777,
         25.97007452789694,
         26.078263991512358,
         26.353236802853644,
         26.178082547150552,
         26.27258909586817,
         26.073495500721037,
         26.342167510651052,
         26.22803474869579,
         26.103190773166716,
         26.343380517326295,
         26.149925247766078,
         26.455775029025972,
         26.192311973311007,
         26.194805786944926,
         26.51444949116558,
         26.20257782097906,
         26.116504699923098,
         26.193176181055605,
         26.16205544117838,
         26.05445714201778,
         26.338646315969527,
         26.150387114845216,
         26.27160122152418,
         26.41224365774542,
         26.127540237270296,
         26.197653858922422,
         26.07437317725271,
         26.277667230926454,
         26.159864774905145,
         26.14352377410978,
         26.106556528247893,
         26.14815598819405,
         26.169533857144415,
         26.32018939498812,
         26.314192288555205,
         26.041732222773135,
         26.36278169695288,
         26.144126907922328,
         26.32349734660238,
         26.36420354899019,
         26.102267623879015,
         26.187366454862058,
         26.27671156730503,
         26.201735490001738,
         26.363537044264376,
         26.10460118111223,
         26.170094930566847,
         26.132970950566232,
         26.051982858218253,
         26.082479619421065,
         26.314668781124055,
         26.177256307564676,
         26.097351006232202,
         26.02116214390844,
         26.23405519966036,
         26.22859892155975,
         26.279359354637563,
         26.173564708791673,
         26.169113704003394,
         26.20446479227394,
         26.072379984892905,
         26.227981590665877,
         26.294748873449862,
         26.0714655155316,
         26.140011756680906,
         26.05608309712261,
         26.09477364923805,
         26.200536190532148,
         25.925051965750754,
         26.076251775957644,
         26.348062776960433,
         26.200713493861258,
         26.249867430888116,
         26.092775671742857,
         26.242559001781046,
         26.232528432272375,
         26.136492698453367,
         26.24711850192398,
         26.236026926897466,
         26.38750262465328,
         26.029107875190675,
         26.05910021904856,
         25.910969824530184,
         26.085255636833608,
         26.259292936883867
        ],
        [
         3.5912046429565425,
         3.597857911200089,
         3.5518818113827084,
         3.572043402753922,
         3.594688220445939,
         3.5906128086541464,
         3.5627760359105523,
         3.5947794294463717,
         3.580623207744855,
         3.60153602802813,
         3.60502913234549,
         3.5935473450828668,
         3.5921922843806033,
         3.593298917485133,
         3.585850572133341,
         3.5629081989281186,
         3.5736439911597193,
         3.5900963715830834,
         3.604194345506076,
         3.5689034179306702,
         3.5745431614668277,
         3.601222254132446,
         3.5896467617967955,
         3.567656406479504,
         3.6007556767492943,
         3.579628512616345,
         3.599079643341135,
         3.59028700253783,
         3.581424437440293,
         3.6115849086001335,
         3.5765110397718662,
         3.569512957002558,
         3.591918445335462,
         3.5867006335336753,
         3.579564182036524,
         3.590836573536396,
         3.57485713216419,
         3.5790819529889757,
         3.5922840523440214,
         3.580348063772787,
         3.5834746616593076,
         3.5754515320181297,
         3.580284014992153,
         3.5714609828659047,
         3.582210580305103,
         3.5834108354175482,
         3.5818540605636824,
         3.5911596059044735,
         3.5893991470029576,
         3.602694082064374,
         3.578155181191094,
         3.6014687687929015,
         3.5821176416547003,
         3.5983486628562256,
         3.601331458109541,
         3.5643203314070546,
         3.5827157924178787,
         3.612269366076478,
         3.5907410577857477,
         3.5901054335588896,
         3.5919298180492167,
         3.5873375097006917,
         3.5797594540854742,
         3.591308826329356,
         3.56916588407567,
         3.592758503118107,
         3.5938864099437464,
         3.5862008879239933,
         3.5718222081459534,
         3.582975899318778,
         3.578058617434176,
         3.5976543429996943,
         3.579857945619048,
         3.5780551678421517,
         3.595063145664274,
         3.572706682791276,
         3.596416739903025,
         3.5705273156967237,
         3.5732092343949766,
         3.58260137198026,
         3.560756223746446,
         3.5655844493540902,
         3.590599410148883,
         3.5600321450541306,
         3.58007795595888,
         3.591471032299869,
         3.5881987246270177,
         3.581615182914525,
         3.574069858256267,
         3.6045471138332914,
         3.5828627803682407,
         3.5872771512454147,
         3.5893365678439597,
         3.597902512172337,
         3.590447453857051,
         3.5848997020865854,
         3.5736455323138667,
         3.5574087436263286,
         3.567483772031313,
         3.5864430946180788
        ]
       ],
       "encoder": "json",
       "name": "ABC_GAN_1 Metrics",
       "version": 1
      }
     },
     "metadata": {
      "scrapbook": {
       "data": true,
       "display": false,
       "name": "ABC_GAN_1 Metrics"
      }
     },
     "output_type": "display_data"
    },
    {
     "name": "stdout",
     "output_type": "stream",
     "text": [
      "MSE\n",
      "0.12597136347712048\n"
     ]
    }
   ],
   "source": [
    "ABC_GAN1_metrics=ABC_train_test2.test_generator(gen,test_data,prior_model,variance,bias,\"1\",device)\n",
    "sb.glue(\"ABC_GAN_1 Metrics\",ABC_GAN1_metrics)\n",
    "\n",
    "print(\"MSE\")\n",
    "print(mean(ABC_GAN1_metrics[0]))"
   ]
  },
  {
   "cell_type": "code",
   "execution_count": 14,
   "id": "eb22ce5c",
   "metadata": {
    "execution": {
     "iopub.execute_input": "2022-06-12T07:16:04.224051Z",
     "iopub.status.busy": "2022-06-12T07:16:04.223674Z",
     "iopub.status.idle": "2022-06-12T07:16:04.546838Z",
     "shell.execute_reply": "2022-06-12T07:16:04.547131Z"
    },
    "papermill": {
     "duration": 0.33786,
     "end_time": "2022-06-12T07:16:04.547251",
     "exception": false,
     "start_time": "2022-06-12T07:16:04.209391",
     "status": "completed"
    },
    "tags": []
   },
   "outputs": [
    {
     "data": {
      "image/png": "[encoded data removed]",
      "text/plain": [
       "<Figure size 432x288 with 1 Axes>"
      ]
     },
     "metadata": {
      "needs_background": "light"
     },
     "output_type": "display_data"
    },
    {
     "data": {
      "image/png": "[encoded data removed]",
      "text/plain": [
       "<Figure size 432x288 with 1 Axes>"
      ]
     },
     "metadata": {
      "needs_background": "light"
     },
     "output_type": "display_data"
    },
    {
     "data": {
      "image/png": "[encoded data removed]",
      "text/plain": [
       "<Figure size 432x288 with 1 Axes>"
      ]
     },
     "metadata": {
      "needs_background": "light"
     },
     "output_type": "display_data"
    },
    {
     "data": {
      "image/png": "[encoded data removed]",
      "text/plain": [
       "<Figure size 432x288 with 1 Axes>"
      ]
     },
     "metadata": {
      "needs_background": "light"
     },
     "output_type": "display_data"
    }
   ],
   "source": [
    "sanityChecks.discProbVsError(train_data,disc,device)\n",
    "sanityChecks.discProbVsError(test_data,disc,device)"
   ]
  },
  {
   "cell_type": "markdown",
   "id": "130f3a4d",
   "metadata": {
    "id": "130f3a4d",
    "papermill": {
     "duration": 0.014652,
     "end_time": "2022-06-12T07:16:04.576772",
     "exception": false,
     "start_time": "2022-06-12T07:16:04.562120",
     "status": "completed"
    },
    "tags": []
   },
   "source": [
    "# ABC - GAN Model with skip connection"
   ]
  },
  {
   "cell_type": "code",
   "execution_count": 15,
   "id": "4e43dad1",
   "metadata": {
    "execution": {
     "iopub.execute_input": "2022-06-12T07:16:04.609015Z",
     "iopub.status.busy": "2022-06-12T07:16:04.608637Z",
     "iopub.status.idle": "2022-06-12T07:16:04.611009Z",
     "shell.execute_reply": "2022-06-12T07:16:04.611263Z"
    },
    "id": "4e43dad1",
    "papermill": {
     "duration": 0.020045,
     "end_time": "2022-06-12T07:16:04.611371",
     "exception": false,
     "start_time": "2022-06-12T07:16:04.591326",
     "status": "completed"
    },
    "tags": []
   },
   "outputs": [],
   "source": [
    "#Generator\n",
    "gen3 = network.GeneratorWithSkipConnection(n_features+1).to(device)\n",
    "constraints=network.weightConstraint()\n",
    "#Discriminator \n",
    "disc3 = network.Discriminator(n_features+1).to(device)\n",
    "\n",
    "criterion = torch.nn.BCELoss()\n",
    "gen_opt = torch.optim.Adam(gen3.parameters(), lr=0.001, betas=(0.5, 0.999))\n",
    "disc_opt = torch.optim.Adam(disc3.parameters(), lr=0.001, betas=(0.5, 0.999))\n"
   ]
  },
  {
   "cell_type": "code",
   "execution_count": 16,
   "id": "26acbc37",
   "metadata": {
    "execution": {
     "iopub.execute_input": "2022-06-12T07:16:04.642779Z",
     "iopub.status.busy": "2022-06-12T07:16:04.642417Z",
     "iopub.status.idle": "2022-06-12T07:19:02.584756Z",
     "shell.execute_reply": "2022-06-12T07:19:02.585018Z"
    },
    "id": "26acbc37",
    "papermill": {
     "duration": 177.959198,
     "end_time": "2022-06-12T07:19:02.585157",
     "exception": false,
     "start_time": "2022-06-12T07:16:04.625959",
     "status": "completed"
    },
    "tags": []
   },
   "outputs": [
    {
     "data": {
      "image/png": "[encoded data removed]",
      "text/plain": [
       "<Figure size 432x288 with 1 Axes>"
      ]
     },
     "metadata": {
      "needs_background": "light"
     },
     "output_type": "display_data"
    },
    {
     "data": {
      "image/png": "[encoded data removed]",
      "text/plain": [
       "<Figure size 432x288 with 1 Axes>"
      ]
     },
     "metadata": {
      "needs_background": "light"
     },
     "output_type": "display_data"
    }
   ],
   "source": [
    "ABC_train_test2.training_GAN_skip_connection(disc3,gen3,disc_opt,gen_opt,train_data,batch_size,n_epochs,criterion,prior_model,variance,bias,device)"
   ]
  },
  {
   "cell_type": "code",
   "execution_count": 17,
   "id": "c5e0717b",
   "metadata": {
    "execution": {
     "iopub.execute_input": "2022-06-12T07:19:02.619390Z",
     "iopub.status.busy": "2022-06-12T07:19:02.619014Z",
     "iopub.status.idle": "2022-06-12T07:19:03.456697Z",
     "shell.execute_reply": "2022-06-12T07:19:03.456991Z"
    },
    "id": "c5e0717b",
    "papermill": {
     "duration": 0.855939,
     "end_time": "2022-06-12T07:19:03.457113",
     "exception": false,
     "start_time": "2022-06-12T07:19:02.601174",
     "status": "completed"
    },
    "tags": []
   },
   "outputs": [
    {
     "data": {
      "application/scrapbook.scrap.json+json": {
       "data": 0.1308010084568678,
       "encoder": "json",
       "name": "ABC-GAN Model 3 MSE",
       "version": 1
      }
     },
     "metadata": {
      "scrapbook": {
       "data": true,
       "display": false,
       "name": "ABC-GAN Model 3 MSE"
      }
     },
     "output_type": "display_data"
    },
    {
     "data": {
      "application/scrapbook.scrap.json+json": {
       "data": 0.2616088113167743,
       "encoder": "json",
       "name": "ABC-GAN Model 3 MAE",
       "version": 1
      }
     },
     "metadata": {
      "scrapbook": {
       "data": true,
       "display": false,
       "name": "ABC-GAN Model 3 MAE"
      }
     },
     "output_type": "display_data"
    },
    {
     "data": {
      "application/scrapbook.scrap.json+json": {
       "data": 26.68409875431098,
       "encoder": "json",
       "name": "ABC-GAN Model 3 Manhattan Distance",
       "version": 1
      }
     },
     "metadata": {
      "scrapbook": {
       "data": true,
       "display": false,
       "name": "ABC-GAN Model 3 Manhattan Distance"
      }
     },
     "output_type": "display_data"
    },
    {
     "data": {
      "application/scrapbook.scrap.json+json": {
       "data": 3.6526105670837596,
       "encoder": "json",
       "name": "ABC-GAN Model 3 Euclidean distance",
       "version": 1
      }
     },
     "metadata": {
      "scrapbook": {
       "data": true,
       "display": false,
       "name": "ABC-GAN Model 3 Euclidean distance"
      }
     },
     "output_type": "display_data"
    },
    {
     "data": {
      "application/scrapbook.scrap.json+json": {
       "data": [
        [
         0.13045513376763027,
         0.13063377409183494,
         0.13213314052156883,
         0.13027629634626892,
         0.1294903344347007,
         0.13044430021936837,
         0.13092767444473163,
         0.13194389989980992,
         0.1295432032640688,
         0.13040527524623874,
         0.1316510328254003,
         0.13225303995265264,
         0.1310156912594829,
         0.12940649882938576,
         0.13004665392617237,
         0.13020996012871114,
         0.13198439957225105,
         0.12982769214049905,
         0.13031024450479714,
         0.13024002928812628,
         0.1304415470265706,
         0.13036531389485354,
         0.1296775097328759,
         0.13075652341264604,
         0.12994314441277802,
         0.13245872908608639,
         0.1300528385392326,
         0.13071983031522028,
         0.1311002919735383,
         0.1321797378433936,
         0.12835155306392265,
         0.12996319388994068,
         0.1302009365909471,
         0.12993320210433612,
         0.13099713120757914,
         0.13038216672694344,
         0.12991750197561083,
         0.13114514005992486,
         0.13262081036082413,
         0.13159414147182788,
         0.1298384832642373,
         0.13092885016179154,
         0.13004033216460853,
         0.13101008433900613,
         0.1306037236480178,
         0.13097955070750675,
         0.13108267336523982,
         0.1304315205243113,
         0.1305707240791392,
         0.13004595475480007,
         0.13147653092000802,
         0.1310841489416945,
         0.1328525797257713,
         0.1312490860391695,
         0.13084641292370133,
         0.13043327374454106,
         0.13246702326885726,
         0.13099234424260117,
         0.13124020056365096,
         0.1318575890805545,
         0.13140170123654316,
         0.13174736278493365,
         0.13116926071608226,
         0.13029184371653693,
         0.13117705823646247,
         0.13133178182859429,
         0.1316571700859004,
         0.13101239723455912,
         0.13002548026432006,
         0.13078050776450617,
         0.1316241600433188,
         0.13129367735915703,
         0.13231651363409064,
         0.13141573293411868,
         0.1297940063133578,
         0.13053619811395936,
         0.13006609511950723,
         0.1305031336949251,
         0.12999923923261067,
         0.1314926430608602,
         0.13003733331823525,
         0.1303054567390502,
         0.13037649578346153,
         0.13226094937035476,
         0.1292986394297439,
         0.1305500026049178,
         0.13154745947171162,
         0.13045252863713624,
         0.13105267766795595,
         0.13008834868667662,
         0.13056583645734282,
         0.1291737983046724,
         0.13104578926887875,
         0.13153148881957566,
         0.13028829464851635,
         0.13132522324495352,
         0.13228022822774418,
         0.1313869533274505,
         0.13069663632215428,
         0.13017013716994283
        ],
        [
         0.2609858619432677,
         0.2613844282687733,
         0.2643351018629676,
         0.2605184312526356,
         0.26039723795382125,
         0.26059649025510045,
         0.26188124569279014,
         0.26174296530913194,
         0.260596189529215,
         0.26074645126822826,
         0.26346827892805724,
         0.26445381092272846,
         0.26122340208430794,
         0.26161152353583306,
         0.26067836704097835,
         0.26303156456161364,
         0.2640393429399267,
         0.2610036869642927,
         0.26139802550531777,
         0.26133066655921877,
         0.2611796855104758,
         0.26212028639537155,
         0.2600328316272912,
         0.26132667870899917,
         0.2611362167962772,
         0.26333569637591053,
         0.26085289992282495,
         0.26265543424433063,
         0.26046845272146896,
         0.2631123831367814,
         0.2592167446444578,
         0.2614840881478991,
         0.2611919948557282,
         0.26018419528526127,
         0.2619791077175999,
         0.26086735342830125,
         0.260861579575302,
         0.2626543668390927,
         0.2639646773847441,
         0.26242643812963484,
         0.26024384384828747,
         0.26004336328775274,
         0.26090651649214763,
         0.26182882291465703,
         0.26143143418263276,
         0.2611508704813234,
         0.26255126029946935,
         0.26049395951022414,
         0.26081657286404686,
         0.26122913548868953,
         0.2616824772044578,
         0.261535252115744,
         0.2636767810521026,
         0.26121283902366665,
         0.26083102521906587,
         0.2612372620633858,
         0.2634806165964726,
         0.2630593477492677,
         0.2623705580264476,
         0.2619324938540219,
         0.26207251414912297,
         0.2641889855685626,
         0.26275310478191455,
         0.261642116021511,
         0.2632713887895293,
         0.26233168148125213,
         0.261794440475676,
         0.2611170014841299,
         0.2596401505117469,
         0.2609627550814812,
         0.2619502943319579,
         0.2619914125158068,
         0.2635073543562755,
         0.26255840284969,
         0.26176235612080084,
         0.2591476864911908,
         0.2605292170272008,
         0.2616195031441748,
         0.25987864321316867,
         0.2629669262918041,
         0.2605157665378761,
         0.2609950751705351,
         0.26196860970344904,
         0.26239042206868235,
         0.26015105767759916,
         0.2613587970480177,
         0.26326106964409646,
         0.2620836634499331,
         0.26212766256146863,
         0.2595417716759531,
         0.2612478928183954,
         0.2609806388306121,
         0.26004560371203456,
         0.26150434850441184,
         0.26079797922797937,
         0.2605796334991122,
         0.26192637727431517,
         0.2627339364467737,
         0.2616336062167059,
         0.2611626688226619
        ],
        [
         26.620557918213308,
         26.661211683414876,
         26.962180390022695,
         26.57287998776883,
         26.560518271289766,
         26.580842006020248,
         26.711887060664594,
         26.69778246153146,
         26.58081133197993,
         26.59613802935928,
         26.873764450661838,
         26.974288714118302,
         26.64478701259941,
         26.68437540065497,
         26.58919343817979,
         26.82921958528459,
         26.932012979872525,
         26.62237607035786,
         26.662598601542413,
         26.655727989040315,
         26.640327922068536,
         26.736269212327898,
         26.523348825983703,
         26.655321228317916,
         26.635894113220274,
         26.860241030342877,
         26.606995792128146,
         26.790854292921722,
         26.567782177589834,
         26.837463079951704,
         26.440107953734696,
         26.671376991085708,
         26.64158347528428,
         26.53878791909665,
         26.721868987195194,
         26.60847004968673,
         26.6078811166808,
         26.79074541758746,
         26.924397093243897,
         26.767496689222753,
         26.544872072525322,
         26.52442305535078,
         26.61246468219906,
         26.70653993729502,
         26.666006286628544,
         26.637388789094985,
         26.78022855054587,
         26.57038387004286,
         26.60329043213278,
         26.645371819846332,
         26.691612674854696,
         26.676595715805888,
         26.89503166731447,
         26.643709580413997,
         26.60476457234472,
         26.646200730465353,
         26.875022892840207,
         26.832053470425308,
         26.761796918697655,
         26.717114373110235,
         26.731396443210542,
         26.94727652799338,
         26.800816687755287,
         26.687495834194124,
         26.85368165653199,
         26.757831511087716,
         26.70303292851895,
         26.633934151381254,
         26.483295352198184,
         26.618201018311083,
         26.718930021859705,
         26.723124076612294,
         26.877750144340098,
         26.78095709066838,
         26.699760324321687,
         26.433064022101462,
         26.57398013677448,
         26.68518932070583,
         26.507621607743204,
         26.82262648176402,
         26.572608186863363,
         26.62149766739458,
         26.720798189751804,
         26.763823051005602,
         26.535407883115113,
         26.658597298897803,
         26.852629103697836,
         26.73253367189318,
         26.7370215812698,
         26.473260710947216,
         26.647285067476332,
         26.620025160722435,
         26.524651578627527,
         26.673443547450006,
         26.601393881253898,
         26.579122616909444,
         26.716490481980145,
         26.798861517570913,
         26.686627834104,
         26.638592219911516
        ],
        [
         3.6477970947269376,
         3.6502938179504345,
         3.671182416225053,
         3.6452959039451693,
         3.634283163477974,
         3.6476456273020235,
         3.654397733329341,
         3.668552546956444,
         3.6350249975667315,
         3.64709995408905,
         3.6644788644759343,
         3.672847679277017,
         3.6556258709648133,
         3.6331065055400376,
         3.642081643850063,
         3.6443677000446226,
         3.6691155278036165,
         3.6390142344226817,
         3.6457708292608446,
         3.6447884694984536,
         3.647607132999688,
         3.646541103192869,
         3.636908851312243,
         3.652008404712384,
         3.640631913569862,
         3.675702703807915,
         3.6421682458395206,
         3.6514959526408437,
         3.656805953465525,
         3.671829688319727,
         3.618267321871079,
         3.6409127669821957,
         3.644241420690539,
         3.6404926335102337,
         3.6553669286643533,
         3.646776796864353,
         3.6402726823017395,
         3.65743137818228,
         3.6779508774321674,
         3.6636869994755896,
         3.639165466553039,
         3.6544141413505304,
         3.6419931192672603,
         3.655547647422835,
         3.6498739446860093,
         3.6551216357551883,
         3.6565602255746383,
         3.6474669420681187,
         3.6494128097643594,
         3.6420718533534737,
         3.662049447214062,
         3.6565808061702723,
         3.6811632851625404,
         3.6588805359010137,
         3.653263488747771,
         3.6474914560480043,
         3.675817782946189,
         3.6553001398989546,
         3.6587566819197463,
         3.6673524627742773,
         3.661007173733397,
         3.6658192814244446,
         3.6577677062711875,
         3.6455134150194497,
         3.6578764249382685,
         3.660033025331413,
         3.664564278159388,
         3.655579915406724,
         3.6417851373963077,
         3.652343328875262,
         3.6641048462644346,
         3.659502027685463,
         3.673728948994093,
         3.6612026383799225,
         3.6385421041898764,
         3.6489302826477585,
         3.642353868337031,
         3.648468121949589,
         3.641417636268365,
         3.6622738281302425,
         3.6419511252157126,
         3.6457038534942896,
         3.6466974881271783,
         3.6729575053049808,
         3.6315921056519933,
         3.649123218761133,
         3.6630371095737733,
         3.6477606721093827,
         3.656141835614629,
         3.642665447998349,
         3.649344505339139,
         3.629838484984777,
         3.656045747173527,
         3.6628147454651208,
         3.6454637639330154,
         3.6599416349151337,
         3.6732251876559245,
         3.660801720852954,
         3.651171990588739,
         3.643810367092965
        ]
       ],
       "encoder": "json",
       "name": "ABC_GAN_3 Metrics",
       "version": 1
      }
     },
     "metadata": {
      "scrapbook": {
       "data": true,
       "display": false,
       "name": "ABC_GAN_3 Metrics"
      }
     },
     "output_type": "display_data"
    },
    {
     "name": "stdout",
     "output_type": "stream",
     "text": [
      "MSE\n",
      "0.1308010084568678\n"
     ]
    }
   ],
   "source": [
    "ABC_GAN3_metrics=ABC_train_test2.test_generator(gen3,test_data,prior_model,variance,bias,\"3\",device)\n",
    "sb.glue(\"ABC_GAN_3 Metrics\",ABC_GAN3_metrics)\n",
    "\n",
    "print(\"MSE\")\n",
    "print(mean(ABC_GAN3_metrics[0]))"
   ]
  },
  {
   "cell_type": "code",
   "execution_count": 18,
   "id": "c8e46b48",
   "metadata": {
    "execution": {
     "iopub.execute_input": "2022-06-12T07:19:03.494226Z",
     "iopub.status.busy": "2022-06-12T07:19:03.493841Z",
     "iopub.status.idle": "2022-06-12T07:19:03.815079Z",
     "shell.execute_reply": "2022-06-12T07:19:03.815386Z"
    },
    "id": "c8e46b48",
    "papermill": {
     "duration": 0.340924,
     "end_time": "2022-06-12T07:19:03.815509",
     "exception": false,
     "start_time": "2022-06-12T07:19:03.474585",
     "status": "completed"
    },
    "tags": []
   },
   "outputs": [
    {
     "data": {
      "image/png": "[encoded data removed]",
      "text/plain": [
       "<Figure size 432x288 with 1 Axes>"
      ]
     },
     "metadata": {
      "needs_background": "light"
     },
     "output_type": "display_data"
    },
    {
     "data": {
      "image/png": "[encoded data removed]",
      "text/plain": [
       "<Figure size 432x288 with 1 Axes>"
      ]
     },
     "metadata": {
      "needs_background": "light"
     },
     "output_type": "display_data"
    },
    {
     "data": {
      "image/png": "[encoded data removed]",
      "text/plain": [
       "<Figure size 432x288 with 1 Axes>"
      ]
     },
     "metadata": {
      "needs_background": "light"
     },
     "output_type": "display_data"
    },
    {
     "data": {
      "image/png": "[encoded data removed]",
      "text/plain": [
       "<Figure size 432x288 with 1 Axes>"
      ]
     },
     "metadata": {
      "needs_background": "light"
     },
     "output_type": "display_data"
    }
   ],
   "source": [
    "sanityChecks.discProbVsError(train_data,disc3,device)\n",
    "sanityChecks.discProbVsError(test_data,disc3,device)"
   ]
  },
  {
   "cell_type": "markdown",
   "id": "a5bd74c3",
   "metadata": {
    "id": "a5bd74c3",
    "papermill": {
     "duration": 0.01924,
     "end_time": "2022-06-12T07:19:03.854632",
     "exception": false,
     "start_time": "2022-06-12T07:19:03.835392",
     "status": "completed"
    },
    "tags": []
   },
   "source": [
    "## Skip Connection Model Analysis - ABC-GAN "
   ]
  },
  {
   "cell_type": "markdown",
   "id": "5744a8bf",
   "metadata": {
    "id": "5744a8bf",
    "papermill": {
     "duration": 0.01905,
     "end_time": "2022-06-12T07:19:03.892786",
     "exception": false,
     "start_time": "2022-06-12T07:19:03.873736",
     "status": "completed"
    },
    "tags": []
   },
   "source": [
    "### Weight Analysis \n",
    "\n",
    "Study the weights of the skip connection layer\n",
    "\n",
    "Equation of the skip connection is \n",
    "\n",
    "$output = y_{gan} * w + y_{abc} * (1-w)$"
   ]
  },
  {
   "cell_type": "code",
   "execution_count": 19,
   "id": "52c31dea",
   "metadata": {
    "execution": {
     "iopub.execute_input": "2022-06-12T07:19:03.933915Z",
     "iopub.status.busy": "2022-06-12T07:19:03.933516Z",
     "iopub.status.idle": "2022-06-12T07:19:03.936840Z",
     "shell.execute_reply": "2022-06-12T07:19:03.937083Z"
    },
    "id": "52c31dea",
    "papermill": {
     "duration": 0.025317,
     "end_time": "2022-06-12T07:19:03.937193",
     "exception": false,
     "start_time": "2022-06-12T07:19:03.911876",
     "status": "completed"
    },
    "tags": []
   },
   "outputs": [
    {
     "name": "stdout",
     "output_type": "stream",
     "text": [
      "Weight of the node at skip connection\n",
      "Parameter containing:\n",
      "tensor([[0.0926]], requires_grad=True)\n"
     ]
    },
    {
     "data": {
      "application/scrapbook.scrap.json+json": {
       "data": 0.09258434921503067,
       "encoder": "json",
       "name": "Skip Connection Weight",
       "version": 1
      }
     },
     "metadata": {
      "scrapbook": {
       "data": true,
       "display": false,
       "name": "Skip Connection Weight"
      }
     },
     "output_type": "display_data"
    }
   ],
   "source": [
    "print(\"Weight of the node at skip connection\")\n",
    "for name,param in gen3.named_parameters():\n",
    "    if(name == \"skipNode.weight\"):\n",
    "        print(param)\n",
    "        sb.glue(\"Skip Connection Weight\",param.item())"
   ]
  }
 ],
 "metadata": {
  "colab": {
   "collapsed_sections": [],
   "name": "ABC_GAN_Model-Catboost_Pre-gen.ipynb",
   "provenance": []
  },
  "interpreter": {
   "hash": "31f2aee4e71d21fbe5cf8b01ff0e069b9275f58929596ceb00d14d90e3e16cd6"
  },
  "kernelspec": {
   "display_name": "Python 3 (ipykernel)",
   "language": "python",
   "name": "python3"
  },
  "language_info": {
   "codemirror_mode": {
    "name": "ipython",
    "version": 3
   },
   "file_extension": ".py",
   "mimetype": "text/x-python",
   "name": "python",
   "nbconvert_exporter": "python",
   "pygments_lexer": "ipython3",
   "version": "3.8.11"
  },
  "papermill": {
   "default_parameters": {},
   "duration": 244.49232,
   "end_time": "2022-06-12T07:19:04.264449",
   "environment_variables": {},
   "exception": null,
   "input_path": "ABC_GAN-Catboost.ipynb",
   "output_path": "./ABC_GAN_Catboost/ABC-GAN_output_8_8.ipynb",
   "parameters": {
    "bias": 0.01,
    "variance": 0.01
   },
   "start_time": "2022-06-12T07:14:59.772129",
   "version": "2.3.3"
  }
 },
 "nbformat": 4,
 "nbformat_minor": 5
}