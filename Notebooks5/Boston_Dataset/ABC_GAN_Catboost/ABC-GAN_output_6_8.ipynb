{
 "cells": [
  {
   "cell_type": "markdown",
   "id": "622780e6",
   "metadata": {
    "id": "622780e6",
    "papermill": {
     "duration": 0.035043,
     "end_time": "2022-06-12T06:00:49.894946",
     "exception": false,
     "start_time": "2022-06-12T06:00:49.859903",
     "status": "completed"
    },
    "tags": []
   },
   "source": [
    "## Import Libraries "
   ]
  },
  {
   "cell_type": "code",
   "execution_count": 1,
   "id": "a62397e3",
   "metadata": {
    "execution": {
     "iopub.execute_input": "2022-06-12T06:00:49.932791Z",
     "iopub.status.busy": "2022-06-12T06:00:49.932274Z",
     "iopub.status.idle": "2022-06-12T06:00:49.934725Z",
     "shell.execute_reply": "2022-06-12T06:00:49.935071Z"
    },
    "id": "a62397e3",
    "papermill": {
     "duration": 0.02296,
     "end_time": "2022-06-12T06:00:49.935303",
     "exception": false,
     "start_time": "2022-06-12T06:00:49.912343",
     "status": "completed"
    },
    "tags": []
   },
   "outputs": [],
   "source": [
    "import warnings\n",
    "import sys\n",
    "sys.path.insert(0, '../../src')\n",
    "warnings.filterwarnings('ignore')"
   ]
  },
  {
   "cell_type": "code",
   "execution_count": 2,
   "id": "d6a4e155",
   "metadata": {
    "execution": {
     "iopub.execute_input": "2022-06-12T06:00:49.955132Z",
     "iopub.status.busy": "2022-06-12T06:00:49.954709Z",
     "iopub.status.idle": "2022-06-12T06:00:51.730624Z",
     "shell.execute_reply": "2022-06-12T06:00:51.730883Z"
    },
    "id": "d6a4e155",
    "papermill": {
     "duration": 1.786422,
     "end_time": "2022-06-12T06:00:51.731016",
     "exception": false,
     "start_time": "2022-06-12T06:00:49.944594",
     "status": "completed"
    },
    "tags": []
   },
   "outputs": [],
   "source": [
    "import ABC_train_test2\n",
    "import bostonDataset\n",
    "import network\n",
    "import dataset\n",
    "import sanityChecks\n",
    "import torch \n",
    "import scrapbook as sb\n",
    "from statistics import mean \n",
    "import catboost as ctb \n",
    "from sklearn.model_selection import train_test_split\n",
    "from sklearn.metrics import mean_squared_error,mean_absolute_error\n",
    "import numpy as np"
   ]
  },
  {
   "cell_type": "markdown",
   "id": "2fa5b0f7",
   "metadata": {
    "id": "2fa5b0f7",
    "papermill": {
     "duration": 0.006829,
     "end_time": "2022-06-12T06:00:51.745049",
     "exception": false,
     "start_time": "2022-06-12T06:00:51.738220",
     "status": "completed"
    },
    "tags": []
   },
   "source": [
    "## Parameters "
   ]
  },
  {
   "cell_type": "code",
   "execution_count": 3,
   "id": "783186fb",
   "metadata": {
    "execution": {
     "iopub.execute_input": "2022-06-12T06:00:51.760711Z",
     "iopub.status.busy": "2022-06-12T06:00:51.760327Z",
     "iopub.status.idle": "2022-06-12T06:00:51.761654Z",
     "shell.execute_reply": "2022-06-12T06:00:51.761907Z"
    },
    "id": "783186fb",
    "papermill": {
     "duration": 0.010205,
     "end_time": "2022-06-12T06:00:51.762015",
     "exception": false,
     "start_time": "2022-06-12T06:00:51.751810",
     "status": "completed"
    },
    "tags": [
     "parameters"
    ]
   },
   "outputs": [],
   "source": [
    "variance = 1\n",
    "bias = 1 "
   ]
  },
  {
   "cell_type": "code",
   "execution_count": 4,
   "id": "273677ca",
   "metadata": {
    "execution": {
     "iopub.execute_input": "2022-06-12T06:00:51.777580Z",
     "iopub.status.busy": "2022-06-12T06:00:51.777220Z",
     "iopub.status.idle": "2022-06-12T06:00:51.778512Z",
     "shell.execute_reply": "2022-06-12T06:00:51.778758Z"
    },
    "papermill": {
     "duration": 0.009915,
     "end_time": "2022-06-12T06:00:51.778862",
     "exception": false,
     "start_time": "2022-06-12T06:00:51.768947",
     "status": "completed"
    },
    "tags": [
     "injected-parameters"
    ]
   },
   "outputs": [],
   "source": [
    "# Parameters\n",
    "variance = 0.01\n",
    "bias = 0.01\n"
   ]
  },
  {
   "cell_type": "markdown",
   "id": "391cdbfd",
   "metadata": {
    "id": "391cdbfd",
    "papermill": {
     "duration": 0.006765,
     "end_time": "2022-06-12T06:00:51.792497",
     "exception": false,
     "start_time": "2022-06-12T06:00:51.785732",
     "status": "completed"
    },
    "tags": []
   },
   "source": [
    "## Dataset \n"
   ]
  },
  {
   "cell_type": "code",
   "execution_count": 5,
   "id": "5b51f161",
   "metadata": {
    "execution": {
     "iopub.execute_input": "2022-06-12T06:00:51.807976Z",
     "iopub.status.busy": "2022-06-12T06:00:51.807613Z",
     "iopub.status.idle": "2022-06-12T06:00:51.808815Z",
     "shell.execute_reply": "2022-06-12T06:00:51.809040Z"
    },
    "id": "5b51f161",
    "papermill": {
     "duration": 0.009803,
     "end_time": "2022-06-12T06:00:51.809145",
     "exception": false,
     "start_time": "2022-06-12T06:00:51.799342",
     "status": "completed"
    },
    "tags": []
   },
   "outputs": [],
   "source": [
    "#Parameters \n",
    "n_features = 13\n",
    "n_samples= 506\n",
    "n_target = 1 "
   ]
  },
  {
   "cell_type": "code",
   "execution_count": 6,
   "id": "5d6eced4",
   "metadata": {
    "execution": {
     "iopub.execute_input": "2022-06-12T06:00:51.824870Z",
     "iopub.status.busy": "2022-06-12T06:00:51.824517Z",
     "iopub.status.idle": "2022-06-12T06:00:51.835031Z",
     "shell.execute_reply": "2022-06-12T06:00:51.835273Z"
    },
    "id": "5d6eced4",
    "papermill": {
     "duration": 0.019289,
     "end_time": "2022-06-12T06:00:51.835383",
     "exception": false,
     "start_time": "2022-06-12T06:00:51.816094",
     "status": "completed"
    },
    "tags": []
   },
   "outputs": [
    {
     "name": "stdout",
     "output_type": "stream",
     "text": [
      "         X1        X2        X3        X4        X5        X6        X7  \\\n",
      "0 -0.419782  0.284830 -1.287909 -0.272599 -0.144217  0.413672 -0.120013   \n",
      "1 -0.417339 -0.487722 -0.593381 -0.272599 -0.740262  0.194274  0.367166   \n",
      "2 -0.417342 -0.487722 -0.593381 -0.272599 -0.740262  1.282714 -0.265812   \n",
      "3 -0.416750 -0.487722 -1.306878 -0.272599 -0.835284  1.016303 -0.809889   \n",
      "4 -0.412482 -0.487722 -1.306878 -0.272599 -0.835284  1.228577 -0.511180   \n",
      "\n",
      "         X8        X9       X10       X11       X12       X13         Y  \n",
      "0  0.140214 -0.982843 -0.666608 -1.459000  0.441052 -1.075562  0.159686  \n",
      "1  0.557160 -0.867883 -0.987329 -0.303094  0.441052 -0.492439 -0.101524  \n",
      "2  0.557160 -0.867883 -0.987329 -0.303094  0.396427 -1.208727  1.324247  \n",
      "3  1.077737 -0.752922 -1.106115  0.113032  0.416163 -1.361517  1.182758  \n",
      "4  1.077737 -0.752922 -1.106115  0.113032  0.441052 -1.026501  1.487503  \n"
     ]
    }
   ],
   "source": [
    "X,Y = bostonDataset.boston_data()"
   ]
  },
  {
   "cell_type": "code",
   "execution_count": 7,
   "id": "fe007438",
   "metadata": {
    "execution": {
     "iopub.execute_input": "2022-06-12T06:00:51.852543Z",
     "iopub.status.busy": "2022-06-12T06:00:51.852177Z",
     "iopub.status.idle": "2022-06-12T06:00:51.853375Z",
     "shell.execute_reply": "2022-06-12T06:00:51.853616Z"
    },
    "id": "fe007438",
    "papermill": {
     "duration": 0.010987,
     "end_time": "2022-06-12T06:00:51.853722",
     "exception": false,
     "start_time": "2022-06-12T06:00:51.842735",
     "status": "completed"
    },
    "tags": []
   },
   "outputs": [],
   "source": [
    "#Train test split for dataset \n",
    "X_train,X_test,Y_train,Y_test = train_test_split(X,Y,test_size = 0.2)\n",
    "train_data = dataset.CustomDataset(X_train,Y_train)\n",
    "test_data = dataset.CustomDataset(X_test,Y_test)\n"
   ]
  },
  {
   "cell_type": "markdown",
   "id": "a9a1af34",
   "metadata": {
    "id": "a9a1af34",
    "papermill": {
     "duration": 0.007037,
     "end_time": "2022-06-12T06:00:51.867961",
     "exception": false,
     "start_time": "2022-06-12T06:00:51.860924",
     "status": "completed"
    },
    "tags": []
   },
   "source": [
    "## Training Parameters "
   ]
  },
  {
   "cell_type": "code",
   "execution_count": 8,
   "id": "952b7fc8",
   "metadata": {
    "execution": {
     "iopub.execute_input": "2022-06-12T06:00:51.884339Z",
     "iopub.status.busy": "2022-06-12T06:00:51.883977Z",
     "iopub.status.idle": "2022-06-12T06:00:51.885252Z",
     "shell.execute_reply": "2022-06-12T06:00:51.885550Z"
    },
    "id": "952b7fc8",
    "papermill": {
     "duration": 0.010605,
     "end_time": "2022-06-12T06:00:51.885659",
     "exception": false,
     "start_time": "2022-06-12T06:00:51.875054",
     "status": "completed"
    },
    "tags": []
   },
   "outputs": [],
   "source": [
    "batch_size = 32\n",
    "n_epochs = 1000\n",
    "#Select the device \n",
    "device = torch.device('cuda' if torch.cuda.is_available() else 'cpu')"
   ]
  },
  {
   "cell_type": "markdown",
   "id": "a95e1600",
   "metadata": {
    "id": "a95e1600",
    "papermill": {
     "duration": 0.007059,
     "end_time": "2022-06-12T06:00:51.899838",
     "exception": false,
     "start_time": "2022-06-12T06:00:51.892779",
     "status": "completed"
    },
    "tags": []
   },
   "source": [
    "# ABC Pre-generator Model \n",
    "\n",
    "1. The catboost model is used as a pre-generator model for the ABC-GAN. \n",
    "2. The model is first trained on the entire dataset \n",
    "3. It generats X,Y pairs and we add some Gaussian noise with mean 0 and variance 1 to it which is then feed as input to the generator.\n"
   ]
  },
  {
   "cell_type": "code",
   "execution_count": 9,
   "id": "ff8ce7bd",
   "metadata": {
    "execution": {
     "iopub.execute_input": "2022-06-12T06:00:51.920302Z",
     "iopub.status.busy": "2022-06-12T06:00:51.919893Z",
     "iopub.status.idle": "2022-06-12T06:00:52.879653Z",
     "shell.execute_reply": "2022-06-12T06:00:52.879895Z"
    },
    "id": "ff8ce7bd",
    "papermill": {
     "duration": 0.972732,
     "end_time": "2022-06-12T06:00:52.880014",
     "exception": false,
     "start_time": "2022-06-12T06:00:51.907282",
     "status": "completed"
    },
    "tags": []
   },
   "outputs": [
    {
     "name": "stdout",
     "output_type": "stream",
     "text": [
      "Learning rate set to 0.033215\n",
      "0:\tlearn: 1.0005247\ttotal: 58.7ms\tremaining: 58.7s\n",
      "1:\tlearn: 0.9795927\ttotal: 59.7ms\tremaining: 29.8s\n",
      "2:\tlearn: 0.9591347\ttotal: 60.7ms\tremaining: 20.2s\n",
      "3:\tlearn: 0.9429468\ttotal: 61.7ms\tremaining: 15.4s\n",
      "4:\tlearn: 0.9261755\ttotal: 62.7ms\tremaining: 12.5s\n",
      "5:\tlearn: 0.9087872\ttotal: 63.8ms\tremaining: 10.6s\n",
      "6:\tlearn: 0.8927219\ttotal: 64.7ms\tremaining: 9.18s\n",
      "7:\tlearn: 0.8770980\ttotal: 65.6ms\tremaining: 8.14s\n",
      "8:\tlearn: 0.8610781\ttotal: 66.5ms\tremaining: 7.32s\n",
      "9:\tlearn: 0.8448448\ttotal: 67.4ms\tremaining: 6.67s\n",
      "10:\tlearn: 0.8315396\ttotal: 68.3ms\tremaining: 6.14s\n",
      "11:\tlearn: 0.8175196\ttotal: 69ms\tremaining: 5.68s\n",
      "12:\tlearn: 0.8024972\ttotal: 69.8ms\tremaining: 5.3s\n",
      "13:\tlearn: 0.7872545\ttotal: 70.6ms\tremaining: 4.97s\n",
      "14:\tlearn: 0.7742508\ttotal: 71.4ms\tremaining: 4.69s\n",
      "15:\tlearn: 0.7599227\ttotal: 72.2ms\tremaining: 4.44s\n",
      "16:\tlearn: 0.7468316\ttotal: 73.1ms\tremaining: 4.23s\n",
      "17:\tlearn: 0.7353030\ttotal: 74ms\tremaining: 4.03s\n",
      "18:\tlearn: 0.7235286\ttotal: 74.8ms\tremaining: 3.86s\n",
      "19:\tlearn: 0.7101119\ttotal: 75.6ms\tremaining: 3.7s\n",
      "20:\tlearn: 0.6969281\ttotal: 76.4ms\tremaining: 3.56s\n",
      "21:\tlearn: 0.6861006\ttotal: 77.2ms\tremaining: 3.43s\n",
      "22:\tlearn: 0.6758881\ttotal: 78ms\tremaining: 3.31s\n",
      "23:\tlearn: 0.6652964\ttotal: 78.8ms\tremaining: 3.2s\n",
      "24:\tlearn: 0.6564800\ttotal: 79.6ms\tremaining: 3.1s\n",
      "25:\tlearn: 0.6461399\ttotal: 80.4ms\tremaining: 3.01s\n",
      "26:\tlearn: 0.6375638\ttotal: 81.1ms\tremaining: 2.92s\n",
      "27:\tlearn: 0.6283146\ttotal: 81.9ms\tremaining: 2.84s\n",
      "28:\tlearn: 0.6187571\ttotal: 82.6ms\tremaining: 2.76s\n",
      "29:\tlearn: 0.6092380\ttotal: 83.3ms\tremaining: 2.69s\n",
      "30:\tlearn: 0.6005112\ttotal: 84.3ms\tremaining: 2.64s\n",
      "31:\tlearn: 0.5925792\ttotal: 85.3ms\tremaining: 2.58s\n",
      "32:\tlearn: 0.5856407\ttotal: 86.1ms\tremaining: 2.52s\n",
      "33:\tlearn: 0.5778801\ttotal: 86.9ms\tremaining: 2.47s\n",
      "34:\tlearn: 0.5702381\ttotal: 87.7ms\tremaining: 2.42s\n",
      "35:\tlearn: 0.5629485\ttotal: 88.5ms\tremaining: 2.37s\n",
      "36:\tlearn: 0.5569841\ttotal: 89.3ms\tremaining: 2.33s\n",
      "37:\tlearn: 0.5498665\ttotal: 90.3ms\tremaining: 2.29s\n",
      "38:\tlearn: 0.5424544\ttotal: 91.2ms\tremaining: 2.25s\n",
      "39:\tlearn: 0.5348470\ttotal: 91.9ms\tremaining: 2.21s\n",
      "40:\tlearn: 0.5281077\ttotal: 92.6ms\tremaining: 2.17s\n",
      "41:\tlearn: 0.5208813\ttotal: 93.3ms\tremaining: 2.13s\n",
      "42:\tlearn: 0.5149107\ttotal: 94.1ms\tremaining: 2.09s\n",
      "43:\tlearn: 0.5091853\ttotal: 95ms\tremaining: 2.06s\n",
      "44:\tlearn: 0.5021293\ttotal: 95.8ms\tremaining: 2.03s\n",
      "45:\tlearn: 0.4959371\ttotal: 96.7ms\tremaining: 2.01s\n",
      "46:\tlearn: 0.4911155\ttotal: 97.5ms\tremaining: 1.98s\n",
      "47:\tlearn: 0.4851020\ttotal: 98.4ms\tremaining: 1.95s\n",
      "48:\tlearn: 0.4797900\ttotal: 99.3ms\tremaining: 1.93s\n",
      "49:\tlearn: 0.4749417\ttotal: 100ms\tremaining: 1.9s\n",
      "50:\tlearn: 0.4695233\ttotal: 101ms\tremaining: 1.88s\n",
      "51:\tlearn: 0.4649531\ttotal: 102ms\tremaining: 1.85s\n",
      "52:\tlearn: 0.4588621\ttotal: 103ms\tremaining: 1.83s\n",
      "53:\tlearn: 0.4553758\ttotal: 103ms\tremaining: 1.81s\n",
      "54:\tlearn: 0.4505488\ttotal: 104ms\tremaining: 1.79s\n",
      "55:\tlearn: 0.4470440\ttotal: 105ms\tremaining: 1.77s\n",
      "56:\tlearn: 0.4430750\ttotal: 106ms\tremaining: 1.75s\n",
      "57:\tlearn: 0.4382070\ttotal: 106ms\tremaining: 1.73s\n",
      "58:\tlearn: 0.4344784\ttotal: 107ms\tremaining: 1.71s\n"
     ]
    },
    {
     "name": "stdout",
     "output_type": "stream",
     "text": [
      "59:\tlearn: 0.4306270\ttotal: 108ms\tremaining: 1.7s\n",
      "60:\tlearn: 0.4253332\ttotal: 109ms\tremaining: 1.68s\n",
      "61:\tlearn: 0.4207301\ttotal: 110ms\tremaining: 1.67s\n",
      "62:\tlearn: 0.4175643\ttotal: 111ms\tremaining: 1.65s\n",
      "63:\tlearn: 0.4133060\ttotal: 112ms\tremaining: 1.64s\n",
      "64:\tlearn: 0.4092080\ttotal: 113ms\tremaining: 1.62s\n",
      "65:\tlearn: 0.4062491\ttotal: 113ms\tremaining: 1.6s\n",
      "66:\tlearn: 0.4023296\ttotal: 114ms\tremaining: 1.59s\n",
      "67:\tlearn: 0.3987819\ttotal: 115ms\tremaining: 1.58s\n",
      "68:\tlearn: 0.3956114\ttotal: 116ms\tremaining: 1.56s\n",
      "69:\tlearn: 0.3931735\ttotal: 117ms\tremaining: 1.55s\n",
      "70:\tlearn: 0.3902442\ttotal: 117ms\tremaining: 1.54s\n",
      "71:\tlearn: 0.3879540\ttotal: 118ms\tremaining: 1.52s\n",
      "72:\tlearn: 0.3844222\ttotal: 119ms\tremaining: 1.51s\n",
      "73:\tlearn: 0.3805764\ttotal: 120ms\tremaining: 1.5s\n",
      "74:\tlearn: 0.3775834\ttotal: 121ms\tremaining: 1.49s\n",
      "75:\tlearn: 0.3748866\ttotal: 121ms\tremaining: 1.48s\n",
      "76:\tlearn: 0.3713086\ttotal: 122ms\tremaining: 1.47s\n",
      "77:\tlearn: 0.3688906\ttotal: 123ms\tremaining: 1.46s\n",
      "78:\tlearn: 0.3653922\ttotal: 124ms\tremaining: 1.44s\n",
      "79:\tlearn: 0.3624783\ttotal: 125ms\tremaining: 1.44s\n",
      "80:\tlearn: 0.3603304\ttotal: 126ms\tremaining: 1.43s\n",
      "81:\tlearn: 0.3571416\ttotal: 127ms\tremaining: 1.42s\n",
      "82:\tlearn: 0.3554085\ttotal: 127ms\tremaining: 1.41s\n",
      "83:\tlearn: 0.3531364\ttotal: 128ms\tremaining: 1.4s\n",
      "84:\tlearn: 0.3510397\ttotal: 129ms\tremaining: 1.39s\n",
      "85:\tlearn: 0.3487734\ttotal: 130ms\tremaining: 1.38s\n",
      "86:\tlearn: 0.3465065\ttotal: 131ms\tremaining: 1.37s\n",
      "87:\tlearn: 0.3445255\ttotal: 132ms\tremaining: 1.36s\n",
      "88:\tlearn: 0.3418521\ttotal: 133ms\tremaining: 1.36s\n",
      "89:\tlearn: 0.3396517\ttotal: 133ms\tremaining: 1.35s\n",
      "90:\tlearn: 0.3367560\ttotal: 134ms\tremaining: 1.34s\n",
      "91:\tlearn: 0.3345816\ttotal: 135ms\tremaining: 1.33s\n",
      "92:\tlearn: 0.3332062\ttotal: 136ms\tremaining: 1.32s\n",
      "93:\tlearn: 0.3315223\ttotal: 137ms\tremaining: 1.32s\n",
      "94:\tlearn: 0.3290260\ttotal: 137ms\tremaining: 1.31s\n",
      "95:\tlearn: 0.3272209\ttotal: 138ms\tremaining: 1.3s\n",
      "96:\tlearn: 0.3257456\ttotal: 139ms\tremaining: 1.29s\n",
      "97:\tlearn: 0.3241745\ttotal: 140ms\tremaining: 1.29s\n",
      "98:\tlearn: 0.3220505\ttotal: 141ms\tremaining: 1.28s\n",
      "99:\tlearn: 0.3195395\ttotal: 142ms\tremaining: 1.27s\n",
      "100:\tlearn: 0.3176447\ttotal: 142ms\tremaining: 1.27s\n",
      "101:\tlearn: 0.3162004\ttotal: 143ms\tremaining: 1.26s\n",
      "102:\tlearn: 0.3147694\ttotal: 144ms\tremaining: 1.25s\n",
      "103:\tlearn: 0.3132946\ttotal: 145ms\tremaining: 1.25s\n",
      "104:\tlearn: 0.3118704\ttotal: 146ms\tremaining: 1.24s\n",
      "105:\tlearn: 0.3099578\ttotal: 147ms\tremaining: 1.24s\n",
      "106:\tlearn: 0.3083157\ttotal: 147ms\tremaining: 1.23s\n",
      "107:\tlearn: 0.3066138\ttotal: 148ms\tremaining: 1.22s\n",
      "108:\tlearn: 0.3051547\ttotal: 149ms\tremaining: 1.22s\n",
      "109:\tlearn: 0.3034088\ttotal: 150ms\tremaining: 1.21s\n",
      "110:\tlearn: 0.3019263\ttotal: 151ms\tremaining: 1.21s\n",
      "111:\tlearn: 0.3006507\ttotal: 152ms\tremaining: 1.2s\n",
      "112:\tlearn: 0.2982569\ttotal: 153ms\tremaining: 1.2s\n",
      "113:\tlearn: 0.2969546\ttotal: 153ms\tremaining: 1.19s\n",
      "114:\tlearn: 0.2957476\ttotal: 154ms\tremaining: 1.19s\n",
      "115:\tlearn: 0.2940437\ttotal: 155ms\tremaining: 1.18s\n",
      "116:\tlearn: 0.2924222\ttotal: 156ms\tremaining: 1.18s\n",
      "117:\tlearn: 0.2915059\ttotal: 157ms\tremaining: 1.17s\n",
      "118:\tlearn: 0.2898898\ttotal: 157ms\tremaining: 1.17s\n",
      "119:\tlearn: 0.2890466\ttotal: 158ms\tremaining: 1.16s\n",
      "120:\tlearn: 0.2875908\ttotal: 159ms\tremaining: 1.16s\n",
      "121:\tlearn: 0.2865583\ttotal: 160ms\tremaining: 1.15s\n",
      "122:\tlearn: 0.2853274\ttotal: 161ms\tremaining: 1.15s\n",
      "123:\tlearn: 0.2844311\ttotal: 162ms\tremaining: 1.14s\n",
      "124:\tlearn: 0.2830203\ttotal: 163ms\tremaining: 1.14s\n",
      "125:\tlearn: 0.2816700\ttotal: 163ms\tremaining: 1.13s\n",
      "126:\tlearn: 0.2801844\ttotal: 164ms\tremaining: 1.13s\n",
      "127:\tlearn: 0.2791947\ttotal: 165ms\tremaining: 1.12s\n",
      "128:\tlearn: 0.2779923\ttotal: 166ms\tremaining: 1.12s\n",
      "129:\tlearn: 0.2767871\ttotal: 166ms\tremaining: 1.11s\n",
      "130:\tlearn: 0.2758858\ttotal: 167ms\tremaining: 1.11s\n",
      "131:\tlearn: 0.2747118\ttotal: 168ms\tremaining: 1.1s\n",
      "132:\tlearn: 0.2739369\ttotal: 169ms\tremaining: 1.1s\n",
      "133:\tlearn: 0.2726504\ttotal: 170ms\tremaining: 1.1s\n",
      "134:\tlearn: 0.2714995\ttotal: 170ms\tremaining: 1.09s\n",
      "135:\tlearn: 0.2698266\ttotal: 171ms\tremaining: 1.09s\n",
      "136:\tlearn: 0.2690219\ttotal: 172ms\tremaining: 1.08s\n",
      "137:\tlearn: 0.2682911\ttotal: 173ms\tremaining: 1.08s\n",
      "138:\tlearn: 0.2674513\ttotal: 173ms\tremaining: 1.07s\n",
      "139:\tlearn: 0.2663141\ttotal: 174ms\tremaining: 1.07s\n",
      "140:\tlearn: 0.2651905\ttotal: 175ms\tremaining: 1.06s\n",
      "141:\tlearn: 0.2642088\ttotal: 176ms\tremaining: 1.06s\n",
      "142:\tlearn: 0.2635203\ttotal: 177ms\tremaining: 1.06s\n",
      "143:\tlearn: 0.2627945\ttotal: 177ms\tremaining: 1.05s\n",
      "144:\tlearn: 0.2617908\ttotal: 178ms\tremaining: 1.05s\n",
      "145:\tlearn: 0.2605127\ttotal: 179ms\tremaining: 1.05s\n",
      "146:\tlearn: 0.2595595\ttotal: 180ms\tremaining: 1.04s\n",
      "147:\tlearn: 0.2587620\ttotal: 181ms\tremaining: 1.04s\n",
      "148:\tlearn: 0.2579446\ttotal: 181ms\tremaining: 1.04s\n",
      "149:\tlearn: 0.2566770\ttotal: 182ms\tremaining: 1.03s\n",
      "150:\tlearn: 0.2557063\ttotal: 183ms\tremaining: 1.03s\n",
      "151:\tlearn: 0.2545503\ttotal: 184ms\tremaining: 1.02s\n",
      "152:\tlearn: 0.2537294\ttotal: 185ms\tremaining: 1.02s\n",
      "153:\tlearn: 0.2528548\ttotal: 186ms\tremaining: 1.02s\n",
      "154:\tlearn: 0.2521665\ttotal: 186ms\tremaining: 1.01s\n",
      "155:\tlearn: 0.2515799\ttotal: 187ms\tremaining: 1.01s\n",
      "156:\tlearn: 0.2505602\ttotal: 188ms\tremaining: 1.01s\n",
      "157:\tlearn: 0.2498258\ttotal: 189ms\tremaining: 1.01s\n",
      "158:\tlearn: 0.2491094\ttotal: 190ms\tremaining: 1s\n",
      "159:\tlearn: 0.2484809\ttotal: 190ms\tremaining: 1s\n"
     ]
    },
    {
     "name": "stdout",
     "output_type": "stream",
     "text": [
      "160:\tlearn: 0.2476256\ttotal: 191ms\tremaining: 998ms\n",
      "161:\tlearn: 0.2466693\ttotal: 192ms\tremaining: 995ms\n",
      "162:\tlearn: 0.2456310\ttotal: 193ms\tremaining: 992ms\n",
      "163:\tlearn: 0.2447662\ttotal: 194ms\tremaining: 989ms\n",
      "164:\tlearn: 0.2439036\ttotal: 195ms\tremaining: 986ms\n",
      "165:\tlearn: 0.2433782\ttotal: 196ms\tremaining: 983ms\n",
      "166:\tlearn: 0.2426582\ttotal: 196ms\tremaining: 980ms\n",
      "167:\tlearn: 0.2418975\ttotal: 197ms\tremaining: 977ms\n",
      "168:\tlearn: 0.2415046\ttotal: 198ms\tremaining: 974ms\n",
      "169:\tlearn: 0.2408313\ttotal: 199ms\tremaining: 971ms\n",
      "170:\tlearn: 0.2400192\ttotal: 200ms\tremaining: 968ms\n",
      "171:\tlearn: 0.2390668\ttotal: 201ms\tremaining: 966ms\n",
      "172:\tlearn: 0.2384049\ttotal: 201ms\tremaining: 963ms\n",
      "173:\tlearn: 0.2376971\ttotal: 202ms\tremaining: 960ms\n",
      "174:\tlearn: 0.2369577\ttotal: 203ms\tremaining: 958ms\n",
      "175:\tlearn: 0.2363953\ttotal: 204ms\tremaining: 956ms\n",
      "176:\tlearn: 0.2359021\ttotal: 205ms\tremaining: 954ms\n",
      "177:\tlearn: 0.2351189\ttotal: 206ms\tremaining: 951ms\n",
      "178:\tlearn: 0.2345831\ttotal: 207ms\tremaining: 949ms\n",
      "179:\tlearn: 0.2337957\ttotal: 208ms\tremaining: 946ms\n",
      "180:\tlearn: 0.2330626\ttotal: 209ms\tremaining: 943ms\n",
      "181:\tlearn: 0.2321315\ttotal: 209ms\tremaining: 941ms\n",
      "182:\tlearn: 0.2316055\ttotal: 210ms\tremaining: 939ms\n",
      "183:\tlearn: 0.2309468\ttotal: 211ms\tremaining: 936ms\n",
      "184:\tlearn: 0.2301030\ttotal: 212ms\tremaining: 933ms\n",
      "185:\tlearn: 0.2291950\ttotal: 213ms\tremaining: 931ms\n",
      "186:\tlearn: 0.2283133\ttotal: 213ms\tremaining: 928ms\n",
      "187:\tlearn: 0.2276435\ttotal: 214ms\tremaining: 926ms\n",
      "188:\tlearn: 0.2269797\ttotal: 215ms\tremaining: 923ms\n",
      "189:\tlearn: 0.2261054\ttotal: 216ms\tremaining: 921ms\n",
      "190:\tlearn: 0.2254710\ttotal: 217ms\tremaining: 919ms\n",
      "191:\tlearn: 0.2248348\ttotal: 218ms\tremaining: 916ms\n",
      "192:\tlearn: 0.2241211\ttotal: 219ms\tremaining: 914ms\n",
      "193:\tlearn: 0.2235481\ttotal: 219ms\tremaining: 912ms\n",
      "194:\tlearn: 0.2228375\ttotal: 220ms\tremaining: 909ms\n",
      "195:\tlearn: 0.2224480\ttotal: 221ms\tremaining: 907ms\n",
      "196:\tlearn: 0.2217350\ttotal: 222ms\tremaining: 904ms\n",
      "197:\tlearn: 0.2212587\ttotal: 223ms\tremaining: 902ms\n",
      "198:\tlearn: 0.2206939\ttotal: 223ms\tremaining: 900ms\n",
      "199:\tlearn: 0.2199123\ttotal: 224ms\tremaining: 898ms\n",
      "200:\tlearn: 0.2192089\ttotal: 225ms\tremaining: 895ms\n",
      "201:\tlearn: 0.2188877\ttotal: 226ms\tremaining: 892ms\n",
      "202:\tlearn: 0.2183457\ttotal: 227ms\tremaining: 890ms\n",
      "203:\tlearn: 0.2179084\ttotal: 228ms\tremaining: 888ms\n",
      "204:\tlearn: 0.2172314\ttotal: 228ms\tremaining: 886ms\n",
      "205:\tlearn: 0.2167348\ttotal: 229ms\tremaining: 884ms\n",
      "206:\tlearn: 0.2160532\ttotal: 230ms\tremaining: 882ms\n",
      "207:\tlearn: 0.2156999\ttotal: 231ms\tremaining: 880ms\n",
      "208:\tlearn: 0.2153679\ttotal: 232ms\tremaining: 877ms\n",
      "209:\tlearn: 0.2146953\ttotal: 233ms\tremaining: 875ms\n",
      "210:\tlearn: 0.2141653\ttotal: 233ms\tremaining: 873ms\n",
      "211:\tlearn: 0.2135428\ttotal: 234ms\tremaining: 870ms\n",
      "212:\tlearn: 0.2127444\ttotal: 235ms\tremaining: 868ms\n",
      "213:\tlearn: 0.2121687\ttotal: 236ms\tremaining: 866ms\n",
      "214:\tlearn: 0.2116034\ttotal: 236ms\tremaining: 863ms\n",
      "215:\tlearn: 0.2109548\ttotal: 237ms\tremaining: 861ms\n",
      "216:\tlearn: 0.2104773\ttotal: 238ms\tremaining: 859ms\n",
      "217:\tlearn: 0.2099150\ttotal: 239ms\tremaining: 857ms\n",
      "218:\tlearn: 0.2094927\ttotal: 240ms\tremaining: 854ms\n",
      "219:\tlearn: 0.2090195\ttotal: 241ms\tremaining: 853ms\n",
      "220:\tlearn: 0.2084706\ttotal: 241ms\tremaining: 851ms\n",
      "221:\tlearn: 0.2078742\ttotal: 242ms\tremaining: 849ms\n",
      "222:\tlearn: 0.2076741\ttotal: 243ms\tremaining: 847ms\n",
      "223:\tlearn: 0.2070988\ttotal: 244ms\tremaining: 844ms\n",
      "224:\tlearn: 0.2066639\ttotal: 245ms\tremaining: 843ms\n",
      "225:\tlearn: 0.2063063\ttotal: 245ms\tremaining: 841ms\n",
      "226:\tlearn: 0.2058781\ttotal: 246ms\tremaining: 838ms\n",
      "227:\tlearn: 0.2053453\ttotal: 247ms\tremaining: 836ms\n",
      "228:\tlearn: 0.2047621\ttotal: 248ms\tremaining: 835ms\n",
      "229:\tlearn: 0.2043084\ttotal: 249ms\tremaining: 833ms\n",
      "230:\tlearn: 0.2038526\ttotal: 250ms\tremaining: 831ms\n",
      "231:\tlearn: 0.2033896\ttotal: 250ms\tremaining: 829ms\n",
      "232:\tlearn: 0.2028753\ttotal: 251ms\tremaining: 827ms\n",
      "233:\tlearn: 0.2024323\ttotal: 253ms\tremaining: 828ms\n",
      "234:\tlearn: 0.2020714\ttotal: 254ms\tremaining: 826ms\n",
      "235:\tlearn: 0.2016670\ttotal: 255ms\tremaining: 824ms\n",
      "236:\tlearn: 0.2013565\ttotal: 255ms\tremaining: 822ms\n",
      "237:\tlearn: 0.2011194\ttotal: 256ms\tremaining: 821ms\n",
      "238:\tlearn: 0.2008200\ttotal: 257ms\tremaining: 819ms\n",
      "239:\tlearn: 0.2002874\ttotal: 258ms\tremaining: 817ms\n",
      "240:\tlearn: 0.1994969\ttotal: 259ms\tremaining: 815ms\n",
      "241:\tlearn: 0.1987583\ttotal: 260ms\tremaining: 813ms\n",
      "242:\tlearn: 0.1983333\ttotal: 260ms\tremaining: 811ms\n",
      "243:\tlearn: 0.1977139\ttotal: 261ms\tremaining: 809ms\n",
      "244:\tlearn: 0.1971011\ttotal: 262ms\tremaining: 808ms\n",
      "245:\tlearn: 0.1968212\ttotal: 263ms\tremaining: 806ms\n",
      "246:\tlearn: 0.1963726\ttotal: 264ms\tremaining: 804ms\n",
      "247:\tlearn: 0.1958320\ttotal: 265ms\tremaining: 803ms\n",
      "248:\tlearn: 0.1952144\ttotal: 266ms\tremaining: 801ms\n",
      "249:\tlearn: 0.1947715\ttotal: 267ms\tremaining: 800ms\n",
      "250:\tlearn: 0.1943063\ttotal: 267ms\tremaining: 798ms\n",
      "251:\tlearn: 0.1939430\ttotal: 268ms\tremaining: 796ms\n",
      "252:\tlearn: 0.1935153\ttotal: 269ms\tremaining: 794ms\n",
      "253:\tlearn: 0.1926615\ttotal: 270ms\tremaining: 792ms\n",
      "254:\tlearn: 0.1922242\ttotal: 270ms\tremaining: 790ms\n",
      "255:\tlearn: 0.1917947\ttotal: 271ms\tremaining: 789ms\n",
      "256:\tlearn: 0.1911604\ttotal: 272ms\tremaining: 787ms\n",
      "257:\tlearn: 0.1909821\ttotal: 273ms\tremaining: 785ms\n",
      "258:\tlearn: 0.1908767\ttotal: 274ms\tremaining: 783ms\n",
      "259:\tlearn: 0.1905651\ttotal: 275ms\tremaining: 782ms\n",
      "260:\tlearn: 0.1901028\ttotal: 275ms\tremaining: 780ms\n",
      "261:\tlearn: 0.1898889\ttotal: 276ms\tremaining: 778ms\n",
      "262:\tlearn: 0.1894003\ttotal: 277ms\tremaining: 776ms\n",
      "263:\tlearn: 0.1888975\ttotal: 278ms\tremaining: 774ms\n",
      "264:\tlearn: 0.1884239\ttotal: 279ms\tremaining: 774ms\n",
      "265:\tlearn: 0.1879554\ttotal: 280ms\tremaining: 773ms\n",
      "266:\tlearn: 0.1874555\ttotal: 281ms\tremaining: 771ms\n",
      "267:\tlearn: 0.1871037\ttotal: 282ms\tremaining: 769ms\n",
      "268:\tlearn: 0.1867412\ttotal: 282ms\tremaining: 768ms\n",
      "269:\tlearn: 0.1861852\ttotal: 283ms\tremaining: 766ms\n",
      "270:\tlearn: 0.1859905\ttotal: 284ms\tremaining: 764ms\n",
      "271:\tlearn: 0.1854238\ttotal: 285ms\tremaining: 763ms\n",
      "272:\tlearn: 0.1848069\ttotal: 286ms\tremaining: 761ms\n",
      "273:\tlearn: 0.1842606\ttotal: 287ms\tremaining: 760ms\n",
      "274:\tlearn: 0.1837976\ttotal: 288ms\tremaining: 758ms\n",
      "275:\tlearn: 0.1832805\ttotal: 288ms\tremaining: 757ms\n",
      "276:\tlearn: 0.1827921\ttotal: 289ms\tremaining: 755ms\n",
      "277:\tlearn: 0.1824076\ttotal: 290ms\tremaining: 753ms\n",
      "278:\tlearn: 0.1820553\ttotal: 291ms\tremaining: 751ms\n",
      "279:\tlearn: 0.1818624\ttotal: 292ms\tremaining: 750ms\n",
      "280:\tlearn: 0.1816385\ttotal: 293ms\tremaining: 748ms\n",
      "281:\tlearn: 0.1810419\ttotal: 293ms\tremaining: 747ms\n",
      "282:\tlearn: 0.1804194\ttotal: 294ms\tremaining: 745ms\n",
      "283:\tlearn: 0.1802555\ttotal: 295ms\tremaining: 744ms\n",
      "284:\tlearn: 0.1797658\ttotal: 296ms\tremaining: 743ms\n",
      "285:\tlearn: 0.1796397\ttotal: 297ms\tremaining: 741ms\n"
     ]
    },
    {
     "name": "stdout",
     "output_type": "stream",
     "text": [
      "286:\tlearn: 0.1791166\ttotal: 298ms\tremaining: 741ms\n",
      "287:\tlearn: 0.1790264\ttotal: 299ms\tremaining: 740ms\n",
      "288:\tlearn: 0.1788724\ttotal: 300ms\tremaining: 738ms\n",
      "289:\tlearn: 0.1784176\ttotal: 301ms\tremaining: 736ms\n",
      "290:\tlearn: 0.1780141\ttotal: 302ms\tremaining: 735ms\n",
      "291:\tlearn: 0.1777076\ttotal: 303ms\tremaining: 734ms\n",
      "292:\tlearn: 0.1770925\ttotal: 303ms\tremaining: 732ms\n",
      "293:\tlearn: 0.1768039\ttotal: 304ms\tremaining: 731ms\n",
      "294:\tlearn: 0.1765048\ttotal: 305ms\tremaining: 729ms\n",
      "295:\tlearn: 0.1763139\ttotal: 306ms\tremaining: 728ms\n",
      "296:\tlearn: 0.1761670\ttotal: 307ms\tremaining: 727ms\n",
      "297:\tlearn: 0.1755523\ttotal: 308ms\tremaining: 725ms\n",
      "298:\tlearn: 0.1754641\ttotal: 308ms\tremaining: 723ms\n",
      "299:\tlearn: 0.1749935\ttotal: 309ms\tremaining: 721ms\n",
      "300:\tlearn: 0.1748467\ttotal: 310ms\tremaining: 720ms\n",
      "301:\tlearn: 0.1744130\ttotal: 311ms\tremaining: 718ms\n",
      "302:\tlearn: 0.1738543\ttotal: 312ms\tremaining: 717ms\n",
      "303:\tlearn: 0.1734314\ttotal: 312ms\tremaining: 715ms\n",
      "304:\tlearn: 0.1733318\ttotal: 313ms\tremaining: 714ms\n",
      "305:\tlearn: 0.1728939\ttotal: 314ms\tremaining: 712ms\n",
      "306:\tlearn: 0.1725640\ttotal: 315ms\tremaining: 711ms\n",
      "307:\tlearn: 0.1723757\ttotal: 316ms\tremaining: 709ms\n",
      "308:\tlearn: 0.1718972\ttotal: 316ms\tremaining: 707ms\n",
      "309:\tlearn: 0.1717195\ttotal: 317ms\tremaining: 706ms\n",
      "310:\tlearn: 0.1715759\ttotal: 318ms\tremaining: 704ms\n",
      "311:\tlearn: 0.1712693\ttotal: 319ms\tremaining: 703ms\n",
      "312:\tlearn: 0.1707138\ttotal: 320ms\tremaining: 701ms\n",
      "313:\tlearn: 0.1703406\ttotal: 320ms\tremaining: 700ms\n",
      "314:\tlearn: 0.1701662\ttotal: 321ms\tremaining: 698ms\n",
      "315:\tlearn: 0.1699036\ttotal: 322ms\tremaining: 697ms\n",
      "316:\tlearn: 0.1694588\ttotal: 323ms\tremaining: 696ms\n",
      "317:\tlearn: 0.1691480\ttotal: 324ms\tremaining: 694ms\n",
      "318:\tlearn: 0.1685548\ttotal: 324ms\tremaining: 692ms\n",
      "319:\tlearn: 0.1681900\ttotal: 325ms\tremaining: 691ms\n",
      "320:\tlearn: 0.1675329\ttotal: 326ms\tremaining: 689ms\n",
      "321:\tlearn: 0.1672237\ttotal: 327ms\tremaining: 688ms\n",
      "322:\tlearn: 0.1668284\ttotal: 328ms\tremaining: 687ms\n",
      "323:\tlearn: 0.1666829\ttotal: 329ms\tremaining: 686ms\n",
      "324:\tlearn: 0.1664063\ttotal: 330ms\tremaining: 685ms\n",
      "325:\tlearn: 0.1659565\ttotal: 331ms\tremaining: 684ms\n",
      "326:\tlearn: 0.1653972\ttotal: 331ms\tremaining: 682ms\n",
      "327:\tlearn: 0.1651747\ttotal: 332ms\tremaining: 681ms\n",
      "328:\tlearn: 0.1646573\ttotal: 333ms\tremaining: 680ms\n",
      "329:\tlearn: 0.1643107\ttotal: 334ms\tremaining: 678ms\n",
      "330:\tlearn: 0.1638868\ttotal: 335ms\tremaining: 677ms\n",
      "331:\tlearn: 0.1637601\ttotal: 336ms\tremaining: 676ms\n",
      "332:\tlearn: 0.1633538\ttotal: 337ms\tremaining: 674ms\n",
      "333:\tlearn: 0.1630244\ttotal: 337ms\tremaining: 673ms\n",
      "334:\tlearn: 0.1628181\ttotal: 338ms\tremaining: 671ms\n",
      "335:\tlearn: 0.1624383\ttotal: 339ms\tremaining: 670ms\n",
      "336:\tlearn: 0.1622783\ttotal: 340ms\tremaining: 669ms\n",
      "337:\tlearn: 0.1621824\ttotal: 341ms\tremaining: 667ms\n",
      "338:\tlearn: 0.1619003\ttotal: 342ms\tremaining: 666ms\n",
      "339:\tlearn: 0.1617130\ttotal: 342ms\tremaining: 665ms\n",
      "340:\tlearn: 0.1614211\ttotal: 343ms\tremaining: 663ms\n",
      "341:\tlearn: 0.1609218\ttotal: 344ms\tremaining: 662ms\n",
      "342:\tlearn: 0.1604510\ttotal: 345ms\tremaining: 660ms\n",
      "343:\tlearn: 0.1599973\ttotal: 346ms\tremaining: 659ms\n",
      "344:\tlearn: 0.1596005\ttotal: 346ms\tremaining: 658ms\n",
      "345:\tlearn: 0.1591925\ttotal: 347ms\tremaining: 656ms\n",
      "346:\tlearn: 0.1588509\ttotal: 348ms\tremaining: 655ms\n",
      "347:\tlearn: 0.1585410\ttotal: 349ms\tremaining: 654ms\n",
      "348:\tlearn: 0.1581276\ttotal: 350ms\tremaining: 652ms\n",
      "349:\tlearn: 0.1578365\ttotal: 351ms\tremaining: 651ms\n",
      "350:\tlearn: 0.1575203\ttotal: 351ms\tremaining: 650ms\n",
      "351:\tlearn: 0.1569526\ttotal: 352ms\tremaining: 648ms\n",
      "352:\tlearn: 0.1566596\ttotal: 353ms\tremaining: 647ms\n",
      "353:\tlearn: 0.1562405\ttotal: 354ms\tremaining: 645ms\n",
      "354:\tlearn: 0.1561460\ttotal: 355ms\tremaining: 644ms\n",
      "355:\tlearn: 0.1558395\ttotal: 356ms\tremaining: 643ms\n",
      "356:\tlearn: 0.1554591\ttotal: 356ms\tremaining: 642ms\n",
      "357:\tlearn: 0.1551166\ttotal: 358ms\tremaining: 642ms\n",
      "358:\tlearn: 0.1546477\ttotal: 359ms\tremaining: 641ms\n",
      "359:\tlearn: 0.1544810\ttotal: 360ms\tremaining: 639ms\n",
      "360:\tlearn: 0.1541847\ttotal: 360ms\tremaining: 638ms\n",
      "361:\tlearn: 0.1538212\ttotal: 361ms\tremaining: 637ms\n",
      "362:\tlearn: 0.1535507\ttotal: 362ms\tremaining: 635ms\n",
      "363:\tlearn: 0.1531287\ttotal: 363ms\tremaining: 634ms\n",
      "364:\tlearn: 0.1529610\ttotal: 364ms\tremaining: 633ms\n",
      "365:\tlearn: 0.1528141\ttotal: 364ms\tremaining: 631ms\n",
      "366:\tlearn: 0.1525973\ttotal: 365ms\tremaining: 630ms\n",
      "367:\tlearn: 0.1525094\ttotal: 366ms\tremaining: 629ms\n",
      "368:\tlearn: 0.1521536\ttotal: 367ms\tremaining: 628ms\n",
      "369:\tlearn: 0.1519412\ttotal: 368ms\tremaining: 626ms\n",
      "370:\tlearn: 0.1517158\ttotal: 369ms\tremaining: 625ms\n",
      "371:\tlearn: 0.1512164\ttotal: 369ms\tremaining: 624ms\n",
      "372:\tlearn: 0.1507580\ttotal: 370ms\tremaining: 622ms\n",
      "373:\tlearn: 0.1502808\ttotal: 371ms\tremaining: 621ms\n",
      "374:\tlearn: 0.1501853\ttotal: 372ms\tremaining: 620ms\n",
      "375:\tlearn: 0.1500124\ttotal: 372ms\tremaining: 618ms\n",
      "376:\tlearn: 0.1497982\ttotal: 373ms\tremaining: 617ms\n",
      "377:\tlearn: 0.1495990\ttotal: 374ms\tremaining: 616ms\n",
      "378:\tlearn: 0.1494323\ttotal: 375ms\tremaining: 614ms\n",
      "379:\tlearn: 0.1491045\ttotal: 376ms\tremaining: 613ms\n",
      "380:\tlearn: 0.1489204\ttotal: 376ms\tremaining: 612ms\n",
      "381:\tlearn: 0.1486067\ttotal: 377ms\tremaining: 610ms\n",
      "382:\tlearn: 0.1485380\ttotal: 378ms\tremaining: 609ms\n",
      "383:\tlearn: 0.1480685\ttotal: 379ms\tremaining: 608ms\n",
      "384:\tlearn: 0.1475183\ttotal: 380ms\tremaining: 607ms\n",
      "385:\tlearn: 0.1470395\ttotal: 381ms\tremaining: 605ms\n"
     ]
    },
    {
     "name": "stdout",
     "output_type": "stream",
     "text": [
      "386:\tlearn: 0.1467319\ttotal: 382ms\tremaining: 604ms\n",
      "387:\tlearn: 0.1464510\ttotal: 382ms\tremaining: 603ms\n",
      "388:\tlearn: 0.1462320\ttotal: 383ms\tremaining: 602ms\n",
      "389:\tlearn: 0.1457906\ttotal: 384ms\tremaining: 601ms\n",
      "390:\tlearn: 0.1453595\ttotal: 385ms\tremaining: 599ms\n",
      "391:\tlearn: 0.1450877\ttotal: 386ms\tremaining: 598ms\n",
      "392:\tlearn: 0.1450206\ttotal: 387ms\tremaining: 597ms\n",
      "393:\tlearn: 0.1446160\ttotal: 388ms\tremaining: 596ms\n",
      "394:\tlearn: 0.1442079\ttotal: 388ms\tremaining: 595ms\n",
      "395:\tlearn: 0.1438772\ttotal: 389ms\tremaining: 594ms\n",
      "396:\tlearn: 0.1435294\ttotal: 390ms\tremaining: 592ms\n",
      "397:\tlearn: 0.1431549\ttotal: 391ms\tremaining: 591ms\n",
      "398:\tlearn: 0.1430065\ttotal: 392ms\tremaining: 590ms\n",
      "399:\tlearn: 0.1429249\ttotal: 392ms\tremaining: 589ms\n",
      "400:\tlearn: 0.1426837\ttotal: 393ms\tremaining: 587ms\n",
      "401:\tlearn: 0.1425164\ttotal: 394ms\tremaining: 586ms\n",
      "402:\tlearn: 0.1421888\ttotal: 395ms\tremaining: 585ms\n",
      "403:\tlearn: 0.1421015\ttotal: 396ms\tremaining: 584ms\n",
      "404:\tlearn: 0.1420221\ttotal: 396ms\tremaining: 582ms\n",
      "405:\tlearn: 0.1417693\ttotal: 397ms\tremaining: 581ms\n",
      "406:\tlearn: 0.1415973\ttotal: 398ms\tremaining: 580ms\n",
      "407:\tlearn: 0.1413203\ttotal: 399ms\tremaining: 579ms\n",
      "408:\tlearn: 0.1409329\ttotal: 400ms\tremaining: 578ms\n",
      "409:\tlearn: 0.1407391\ttotal: 401ms\tremaining: 576ms\n",
      "410:\tlearn: 0.1404611\ttotal: 401ms\tremaining: 575ms\n",
      "411:\tlearn: 0.1402566\ttotal: 402ms\tremaining: 574ms\n",
      "412:\tlearn: 0.1399874\ttotal: 403ms\tremaining: 573ms\n",
      "413:\tlearn: 0.1396222\ttotal: 404ms\tremaining: 571ms\n",
      "414:\tlearn: 0.1394830\ttotal: 405ms\tremaining: 570ms\n",
      "415:\tlearn: 0.1392568\ttotal: 405ms\tremaining: 569ms\n",
      "416:\tlearn: 0.1388610\ttotal: 406ms\tremaining: 568ms\n",
      "417:\tlearn: 0.1385327\ttotal: 407ms\tremaining: 567ms\n",
      "418:\tlearn: 0.1381529\ttotal: 408ms\tremaining: 566ms\n",
      "419:\tlearn: 0.1378292\ttotal: 409ms\tremaining: 564ms\n",
      "420:\tlearn: 0.1377704\ttotal: 409ms\tremaining: 563ms\n",
      "421:\tlearn: 0.1373713\ttotal: 410ms\tremaining: 562ms\n",
      "422:\tlearn: 0.1371802\ttotal: 411ms\tremaining: 561ms\n",
      "423:\tlearn: 0.1371508\ttotal: 412ms\tremaining: 560ms\n",
      "424:\tlearn: 0.1368408\ttotal: 413ms\tremaining: 558ms\n",
      "425:\tlearn: 0.1365771\ttotal: 414ms\tremaining: 557ms\n",
      "426:\tlearn: 0.1361448\ttotal: 414ms\tremaining: 556ms\n",
      "427:\tlearn: 0.1356545\ttotal: 415ms\tremaining: 555ms\n",
      "428:\tlearn: 0.1354739\ttotal: 416ms\tremaining: 554ms\n",
      "429:\tlearn: 0.1352311\ttotal: 417ms\tremaining: 553ms\n",
      "430:\tlearn: 0.1349401\ttotal: 418ms\tremaining: 552ms\n",
      "431:\tlearn: 0.1346103\ttotal: 419ms\tremaining: 550ms\n",
      "432:\tlearn: 0.1345051\ttotal: 420ms\tremaining: 549ms\n",
      "433:\tlearn: 0.1341044\ttotal: 421ms\tremaining: 548ms\n",
      "434:\tlearn: 0.1337930\ttotal: 421ms\tremaining: 547ms\n",
      "435:\tlearn: 0.1335038\ttotal: 422ms\tremaining: 546ms\n",
      "436:\tlearn: 0.1332473\ttotal: 423ms\tremaining: 545ms\n",
      "437:\tlearn: 0.1331189\ttotal: 424ms\tremaining: 544ms\n",
      "438:\tlearn: 0.1327657\ttotal: 425ms\tremaining: 543ms\n",
      "439:\tlearn: 0.1323793\ttotal: 425ms\tremaining: 541ms\n",
      "440:\tlearn: 0.1321690\ttotal: 426ms\tremaining: 540ms\n",
      "441:\tlearn: 0.1319569\ttotal: 427ms\tremaining: 539ms\n",
      "442:\tlearn: 0.1318437\ttotal: 428ms\tremaining: 538ms\n",
      "443:\tlearn: 0.1314733\ttotal: 429ms\tremaining: 537ms\n",
      "444:\tlearn: 0.1312599\ttotal: 429ms\tremaining: 536ms\n",
      "445:\tlearn: 0.1311948\ttotal: 430ms\tremaining: 534ms\n",
      "446:\tlearn: 0.1309249\ttotal: 431ms\tremaining: 533ms\n",
      "447:\tlearn: 0.1308211\ttotal: 432ms\tremaining: 532ms\n",
      "448:\tlearn: 0.1305064\ttotal: 433ms\tremaining: 531ms\n",
      "449:\tlearn: 0.1302966\ttotal: 433ms\tremaining: 530ms\n",
      "450:\tlearn: 0.1300947\ttotal: 434ms\tremaining: 528ms\n",
      "451:\tlearn: 0.1297695\ttotal: 435ms\tremaining: 527ms\n",
      "452:\tlearn: 0.1295939\ttotal: 436ms\tremaining: 526ms\n",
      "453:\tlearn: 0.1292775\ttotal: 437ms\tremaining: 525ms\n",
      "454:\tlearn: 0.1288642\ttotal: 437ms\tremaining: 524ms\n",
      "455:\tlearn: 0.1287702\ttotal: 438ms\tremaining: 523ms\n",
      "456:\tlearn: 0.1285777\ttotal: 439ms\tremaining: 522ms\n",
      "457:\tlearn: 0.1283765\ttotal: 440ms\tremaining: 521ms\n",
      "458:\tlearn: 0.1283211\ttotal: 441ms\tremaining: 519ms\n",
      "459:\tlearn: 0.1282533\ttotal: 441ms\tremaining: 518ms\n",
      "460:\tlearn: 0.1280965\ttotal: 442ms\tremaining: 517ms\n",
      "461:\tlearn: 0.1278346\ttotal: 443ms\tremaining: 516ms\n",
      "462:\tlearn: 0.1274891\ttotal: 444ms\tremaining: 515ms\n",
      "463:\tlearn: 0.1272938\ttotal: 445ms\tremaining: 514ms\n",
      "464:\tlearn: 0.1269739\ttotal: 446ms\tremaining: 513ms\n",
      "465:\tlearn: 0.1266645\ttotal: 447ms\tremaining: 512ms\n",
      "466:\tlearn: 0.1264779\ttotal: 447ms\tremaining: 511ms\n",
      "467:\tlearn: 0.1263334\ttotal: 448ms\tremaining: 509ms\n",
      "468:\tlearn: 0.1259528\ttotal: 449ms\tremaining: 508ms\n",
      "469:\tlearn: 0.1257429\ttotal: 450ms\tremaining: 507ms\n",
      "470:\tlearn: 0.1255878\ttotal: 451ms\tremaining: 506ms\n",
      "471:\tlearn: 0.1253885\ttotal: 452ms\tremaining: 505ms\n",
      "472:\tlearn: 0.1253452\ttotal: 452ms\tremaining: 504ms\n",
      "473:\tlearn: 0.1250713\ttotal: 453ms\tremaining: 503ms\n",
      "474:\tlearn: 0.1248032\ttotal: 454ms\tremaining: 502ms\n",
      "475:\tlearn: 0.1246001\ttotal: 455ms\tremaining: 501ms\n",
      "476:\tlearn: 0.1244212\ttotal: 456ms\tremaining: 500ms\n",
      "477:\tlearn: 0.1243276\ttotal: 456ms\tremaining: 498ms\n",
      "478:\tlearn: 0.1239851\ttotal: 457ms\tremaining: 497ms\n",
      "479:\tlearn: 0.1239517\ttotal: 458ms\tremaining: 496ms\n",
      "480:\tlearn: 0.1235641\ttotal: 459ms\tremaining: 495ms\n",
      "481:\tlearn: 0.1232131\ttotal: 460ms\tremaining: 494ms\n",
      "482:\tlearn: 0.1228940\ttotal: 460ms\tremaining: 493ms\n",
      "483:\tlearn: 0.1227374\ttotal: 461ms\tremaining: 492ms\n",
      "484:\tlearn: 0.1224114\ttotal: 462ms\tremaining: 491ms\n",
      "485:\tlearn: 0.1223980\ttotal: 463ms\tremaining: 490ms\n",
      "486:\tlearn: 0.1220519\ttotal: 464ms\tremaining: 489ms\n",
      "487:\tlearn: 0.1217960\ttotal: 465ms\tremaining: 488ms\n",
      "488:\tlearn: 0.1214880\ttotal: 466ms\tremaining: 486ms\n",
      "489:\tlearn: 0.1213509\ttotal: 466ms\tremaining: 485ms\n",
      "490:\tlearn: 0.1210028\ttotal: 467ms\tremaining: 484ms\n",
      "491:\tlearn: 0.1209898\ttotal: 468ms\tremaining: 483ms\n",
      "492:\tlearn: 0.1208191\ttotal: 469ms\tremaining: 482ms\n",
      "493:\tlearn: 0.1205897\ttotal: 470ms\tremaining: 481ms\n",
      "494:\tlearn: 0.1204023\ttotal: 471ms\tremaining: 480ms\n",
      "495:\tlearn: 0.1201862\ttotal: 471ms\tremaining: 479ms\n",
      "496:\tlearn: 0.1200177\ttotal: 472ms\tremaining: 478ms\n",
      "497:\tlearn: 0.1197142\ttotal: 473ms\tremaining: 477ms\n",
      "498:\tlearn: 0.1194182\ttotal: 474ms\tremaining: 476ms\n",
      "499:\tlearn: 0.1192861\ttotal: 474ms\tremaining: 474ms\n",
      "500:\tlearn: 0.1190985\ttotal: 475ms\tremaining: 473ms\n",
      "501:\tlearn: 0.1188714\ttotal: 476ms\tremaining: 472ms\n",
      "502:\tlearn: 0.1185615\ttotal: 477ms\tremaining: 471ms\n",
      "503:\tlearn: 0.1184635\ttotal: 478ms\tremaining: 470ms\n",
      "504:\tlearn: 0.1183149\ttotal: 479ms\tremaining: 469ms\n",
      "505:\tlearn: 0.1180738\ttotal: 480ms\tremaining: 469ms\n",
      "506:\tlearn: 0.1179341\ttotal: 481ms\tremaining: 468ms\n",
      "507:\tlearn: 0.1177293\ttotal: 482ms\tremaining: 467ms\n",
      "508:\tlearn: 0.1175686\ttotal: 483ms\tremaining: 465ms\n",
      "509:\tlearn: 0.1175343\ttotal: 483ms\tremaining: 464ms\n",
      "510:\tlearn: 0.1171536\ttotal: 484ms\tremaining: 463ms\n",
      "511:\tlearn: 0.1169983\ttotal: 485ms\tremaining: 462ms\n",
      "512:\tlearn: 0.1167104\ttotal: 486ms\tremaining: 461ms\n",
      "513:\tlearn: 0.1164310\ttotal: 487ms\tremaining: 461ms\n"
     ]
    },
    {
     "name": "stdout",
     "output_type": "stream",
     "text": [
      "514:\tlearn: 0.1161835\ttotal: 488ms\tremaining: 460ms\n",
      "515:\tlearn: 0.1159230\ttotal: 489ms\tremaining: 459ms\n",
      "516:\tlearn: 0.1157708\ttotal: 490ms\tremaining: 458ms\n",
      "517:\tlearn: 0.1153802\ttotal: 491ms\tremaining: 457ms\n",
      "518:\tlearn: 0.1151304\ttotal: 492ms\tremaining: 456ms\n",
      "519:\tlearn: 0.1149393\ttotal: 493ms\tremaining: 455ms\n",
      "520:\tlearn: 0.1147534\ttotal: 494ms\tremaining: 454ms\n",
      "521:\tlearn: 0.1147246\ttotal: 495ms\tremaining: 453ms\n",
      "522:\tlearn: 0.1146988\ttotal: 496ms\tremaining: 452ms\n",
      "523:\tlearn: 0.1144966\ttotal: 497ms\tremaining: 451ms\n",
      "524:\tlearn: 0.1144533\ttotal: 497ms\tremaining: 450ms\n",
      "525:\tlearn: 0.1142566\ttotal: 498ms\tremaining: 449ms\n",
      "526:\tlearn: 0.1141103\ttotal: 499ms\tremaining: 448ms\n",
      "527:\tlearn: 0.1140539\ttotal: 500ms\tremaining: 447ms\n",
      "528:\tlearn: 0.1138627\ttotal: 501ms\tremaining: 446ms\n",
      "529:\tlearn: 0.1136801\ttotal: 501ms\tremaining: 445ms\n",
      "530:\tlearn: 0.1135240\ttotal: 502ms\tremaining: 444ms\n",
      "531:\tlearn: 0.1131845\ttotal: 503ms\tremaining: 443ms\n",
      "532:\tlearn: 0.1129895\ttotal: 504ms\tremaining: 442ms\n",
      "533:\tlearn: 0.1128322\ttotal: 505ms\tremaining: 440ms\n",
      "534:\tlearn: 0.1126222\ttotal: 506ms\tremaining: 439ms\n",
      "535:\tlearn: 0.1123121\ttotal: 506ms\tremaining: 438ms\n",
      "536:\tlearn: 0.1120580\ttotal: 507ms\tremaining: 437ms\n",
      "537:\tlearn: 0.1119898\ttotal: 508ms\tremaining: 436ms\n",
      "538:\tlearn: 0.1117204\ttotal: 509ms\tremaining: 435ms\n",
      "539:\tlearn: 0.1114021\ttotal: 510ms\tremaining: 434ms\n",
      "540:\tlearn: 0.1113933\ttotal: 511ms\tremaining: 433ms\n",
      "541:\tlearn: 0.1112440\ttotal: 511ms\tremaining: 432ms\n",
      "542:\tlearn: 0.1112115\ttotal: 512ms\tremaining: 431ms\n",
      "543:\tlearn: 0.1110813\ttotal: 513ms\tremaining: 430ms\n",
      "544:\tlearn: 0.1109201\ttotal: 514ms\tremaining: 429ms\n",
      "545:\tlearn: 0.1107072\ttotal: 515ms\tremaining: 428ms\n",
      "546:\tlearn: 0.1105037\ttotal: 515ms\tremaining: 427ms\n",
      "547:\tlearn: 0.1103770\ttotal: 516ms\tremaining: 426ms\n",
      "548:\tlearn: 0.1102421\ttotal: 517ms\tremaining: 425ms\n",
      "549:\tlearn: 0.1102170\ttotal: 518ms\tremaining: 424ms\n",
      "550:\tlearn: 0.1099062\ttotal: 519ms\tremaining: 423ms\n",
      "551:\tlearn: 0.1096610\ttotal: 520ms\tremaining: 422ms\n",
      "552:\tlearn: 0.1096368\ttotal: 521ms\tremaining: 421ms\n",
      "553:\tlearn: 0.1094041\ttotal: 522ms\tremaining: 420ms\n",
      "554:\tlearn: 0.1092580\ttotal: 523ms\tremaining: 419ms\n",
      "555:\tlearn: 0.1090545\ttotal: 523ms\tremaining: 418ms\n",
      "556:\tlearn: 0.1089140\ttotal: 524ms\tremaining: 417ms\n",
      "557:\tlearn: 0.1087341\ttotal: 525ms\tremaining: 416ms\n",
      "558:\tlearn: 0.1084877\ttotal: 526ms\tremaining: 415ms\n",
      "559:\tlearn: 0.1083422\ttotal: 527ms\tremaining: 414ms\n",
      "560:\tlearn: 0.1081894\ttotal: 528ms\tremaining: 413ms\n",
      "561:\tlearn: 0.1080165\ttotal: 528ms\tremaining: 412ms\n",
      "562:\tlearn: 0.1077278\ttotal: 529ms\tremaining: 411ms\n",
      "563:\tlearn: 0.1075774\ttotal: 530ms\tremaining: 410ms\n",
      "564:\tlearn: 0.1072989\ttotal: 531ms\tremaining: 409ms\n",
      "565:\tlearn: 0.1071143\ttotal: 532ms\tremaining: 408ms\n",
      "566:\tlearn: 0.1069846\ttotal: 533ms\tremaining: 407ms\n",
      "567:\tlearn: 0.1067967\ttotal: 533ms\tremaining: 406ms\n",
      "568:\tlearn: 0.1064892\ttotal: 534ms\tremaining: 405ms\n",
      "569:\tlearn: 0.1063490\ttotal: 535ms\tremaining: 404ms\n",
      "570:\tlearn: 0.1061354\ttotal: 536ms\tremaining: 403ms\n",
      "571:\tlearn: 0.1060625\ttotal: 537ms\tremaining: 402ms\n",
      "572:\tlearn: 0.1059288\ttotal: 537ms\tremaining: 400ms\n",
      "573:\tlearn: 0.1058941\ttotal: 538ms\tremaining: 399ms\n",
      "574:\tlearn: 0.1057384\ttotal: 539ms\tremaining: 398ms\n",
      "575:\tlearn: 0.1057122\ttotal: 540ms\tremaining: 397ms\n",
      "576:\tlearn: 0.1055503\ttotal: 540ms\tremaining: 396ms\n",
      "577:\tlearn: 0.1053504\ttotal: 541ms\tremaining: 395ms\n",
      "578:\tlearn: 0.1053308\ttotal: 542ms\tremaining: 394ms\n",
      "579:\tlearn: 0.1052677\ttotal: 543ms\tremaining: 393ms\n",
      "580:\tlearn: 0.1051062\ttotal: 544ms\tremaining: 392ms\n",
      "581:\tlearn: 0.1050129\ttotal: 544ms\tremaining: 391ms\n",
      "582:\tlearn: 0.1049042\ttotal: 545ms\tremaining: 390ms\n",
      "583:\tlearn: 0.1046977\ttotal: 546ms\tremaining: 389ms\n",
      "584:\tlearn: 0.1045295\ttotal: 547ms\tremaining: 388ms\n",
      "585:\tlearn: 0.1043413\ttotal: 547ms\tremaining: 387ms\n",
      "586:\tlearn: 0.1041745\ttotal: 548ms\tremaining: 386ms\n",
      "587:\tlearn: 0.1040017\ttotal: 549ms\tremaining: 385ms\n",
      "588:\tlearn: 0.1038174\ttotal: 550ms\tremaining: 384ms\n",
      "589:\tlearn: 0.1036521\ttotal: 551ms\tremaining: 383ms\n",
      "590:\tlearn: 0.1035016\ttotal: 551ms\tremaining: 382ms\n",
      "591:\tlearn: 0.1033788\ttotal: 553ms\tremaining: 381ms\n",
      "592:\tlearn: 0.1032356\ttotal: 554ms\tremaining: 380ms\n",
      "593:\tlearn: 0.1030926\ttotal: 554ms\tremaining: 379ms\n",
      "594:\tlearn: 0.1028862\ttotal: 555ms\tremaining: 378ms\n",
      "595:\tlearn: 0.1027010\ttotal: 556ms\tremaining: 377ms\n",
      "596:\tlearn: 0.1025658\ttotal: 557ms\tremaining: 376ms\n",
      "597:\tlearn: 0.1023747\ttotal: 558ms\tremaining: 375ms\n",
      "598:\tlearn: 0.1021071\ttotal: 559ms\tremaining: 374ms\n",
      "599:\tlearn: 0.1020329\ttotal: 560ms\tremaining: 373ms\n",
      "600:\tlearn: 0.1017609\ttotal: 561ms\tremaining: 372ms\n",
      "601:\tlearn: 0.1016101\ttotal: 562ms\tremaining: 371ms\n",
      "602:\tlearn: 0.1015219\ttotal: 562ms\tremaining: 370ms\n",
      "603:\tlearn: 0.1012882\ttotal: 563ms\tremaining: 369ms\n",
      "604:\tlearn: 0.1011566\ttotal: 564ms\tremaining: 368ms\n",
      "605:\tlearn: 0.1009505\ttotal: 565ms\tremaining: 367ms\n",
      "606:\tlearn: 0.1007599\ttotal: 566ms\tremaining: 366ms\n",
      "607:\tlearn: 0.1004928\ttotal: 567ms\tremaining: 365ms\n",
      "608:\tlearn: 0.1002858\ttotal: 568ms\tremaining: 364ms\n",
      "609:\tlearn: 0.1000268\ttotal: 568ms\tremaining: 363ms\n",
      "610:\tlearn: 0.0998233\ttotal: 569ms\tremaining: 362ms\n",
      "611:\tlearn: 0.0996935\ttotal: 570ms\tremaining: 361ms\n",
      "612:\tlearn: 0.0996549\ttotal: 571ms\tremaining: 360ms\n"
     ]
    },
    {
     "name": "stdout",
     "output_type": "stream",
     "text": [
      "613:\tlearn: 0.0994497\ttotal: 572ms\tremaining: 359ms\n",
      "614:\tlearn: 0.0992522\ttotal: 573ms\tremaining: 358ms\n",
      "615:\tlearn: 0.0991244\ttotal: 573ms\tremaining: 357ms\n",
      "616:\tlearn: 0.0988730\ttotal: 574ms\tremaining: 356ms\n",
      "617:\tlearn: 0.0986057\ttotal: 575ms\tremaining: 355ms\n",
      "618:\tlearn: 0.0985052\ttotal: 576ms\tremaining: 355ms\n",
      "619:\tlearn: 0.0983340\ttotal: 577ms\tremaining: 353ms\n",
      "620:\tlearn: 0.0981274\ttotal: 578ms\tremaining: 352ms\n",
      "621:\tlearn: 0.0979520\ttotal: 578ms\tremaining: 351ms\n",
      "622:\tlearn: 0.0978265\ttotal: 579ms\tremaining: 350ms\n",
      "623:\tlearn: 0.0977732\ttotal: 580ms\tremaining: 349ms\n",
      "624:\tlearn: 0.0976345\ttotal: 581ms\tremaining: 348ms\n",
      "625:\tlearn: 0.0975207\ttotal: 582ms\tremaining: 347ms\n",
      "626:\tlearn: 0.0974147\ttotal: 583ms\tremaining: 347ms\n",
      "627:\tlearn: 0.0972044\ttotal: 583ms\tremaining: 345ms\n",
      "628:\tlearn: 0.0969981\ttotal: 584ms\tremaining: 345ms\n",
      "629:\tlearn: 0.0968100\ttotal: 585ms\tremaining: 344ms\n",
      "630:\tlearn: 0.0965478\ttotal: 586ms\tremaining: 343ms\n",
      "631:\tlearn: 0.0965088\ttotal: 586ms\tremaining: 341ms\n",
      "632:\tlearn: 0.0963614\ttotal: 587ms\tremaining: 340ms\n",
      "633:\tlearn: 0.0962363\ttotal: 588ms\tremaining: 340ms\n",
      "634:\tlearn: 0.0960243\ttotal: 589ms\tremaining: 339ms\n",
      "635:\tlearn: 0.0957999\ttotal: 590ms\tremaining: 338ms\n",
      "636:\tlearn: 0.0956924\ttotal: 591ms\tremaining: 337ms\n",
      "637:\tlearn: 0.0955351\ttotal: 592ms\tremaining: 336ms\n",
      "638:\tlearn: 0.0954071\ttotal: 592ms\tremaining: 335ms\n",
      "639:\tlearn: 0.0952830\ttotal: 593ms\tremaining: 334ms\n",
      "640:\tlearn: 0.0950780\ttotal: 594ms\tremaining: 333ms\n",
      "641:\tlearn: 0.0947969\ttotal: 595ms\tremaining: 332ms\n",
      "642:\tlearn: 0.0945959\ttotal: 596ms\tremaining: 331ms\n",
      "643:\tlearn: 0.0943969\ttotal: 597ms\tremaining: 330ms\n",
      "644:\tlearn: 0.0942435\ttotal: 597ms\tremaining: 329ms\n",
      "645:\tlearn: 0.0940791\ttotal: 598ms\tremaining: 328ms\n",
      "646:\tlearn: 0.0938539\ttotal: 599ms\tremaining: 327ms\n",
      "647:\tlearn: 0.0937425\ttotal: 600ms\tremaining: 326ms\n",
      "648:\tlearn: 0.0935921\ttotal: 601ms\tremaining: 325ms\n",
      "649:\tlearn: 0.0935028\ttotal: 601ms\tremaining: 324ms\n",
      "650:\tlearn: 0.0933739\ttotal: 602ms\tremaining: 323ms\n",
      "651:\tlearn: 0.0931615\ttotal: 603ms\tremaining: 322ms\n",
      "652:\tlearn: 0.0930855\ttotal: 604ms\tremaining: 321ms\n",
      "653:\tlearn: 0.0929329\ttotal: 605ms\tremaining: 320ms\n",
      "654:\tlearn: 0.0928079\ttotal: 605ms\tremaining: 319ms\n",
      "655:\tlearn: 0.0926698\ttotal: 606ms\tremaining: 318ms\n",
      "656:\tlearn: 0.0925968\ttotal: 607ms\tremaining: 317ms\n",
      "657:\tlearn: 0.0923990\ttotal: 608ms\tremaining: 316ms\n",
      "658:\tlearn: 0.0921811\ttotal: 609ms\tremaining: 315ms\n",
      "659:\tlearn: 0.0919985\ttotal: 610ms\tremaining: 314ms\n",
      "660:\tlearn: 0.0919201\ttotal: 611ms\tremaining: 313ms\n",
      "661:\tlearn: 0.0917888\ttotal: 612ms\tremaining: 312ms\n",
      "662:\tlearn: 0.0916387\ttotal: 613ms\tremaining: 311ms\n",
      "663:\tlearn: 0.0915211\ttotal: 613ms\tremaining: 310ms\n",
      "664:\tlearn: 0.0914117\ttotal: 614ms\tremaining: 309ms\n",
      "665:\tlearn: 0.0912807\ttotal: 615ms\tremaining: 308ms\n",
      "666:\tlearn: 0.0910639\ttotal: 616ms\tremaining: 307ms\n",
      "667:\tlearn: 0.0909540\ttotal: 617ms\tremaining: 307ms\n",
      "668:\tlearn: 0.0907375\ttotal: 618ms\tremaining: 306ms\n",
      "669:\tlearn: 0.0905025\ttotal: 618ms\tremaining: 305ms\n",
      "670:\tlearn: 0.0904335\ttotal: 619ms\tremaining: 304ms\n",
      "671:\tlearn: 0.0902548\ttotal: 620ms\tremaining: 303ms\n",
      "672:\tlearn: 0.0900923\ttotal: 621ms\tremaining: 302ms\n",
      "673:\tlearn: 0.0899896\ttotal: 622ms\tremaining: 301ms\n",
      "674:\tlearn: 0.0898607\ttotal: 622ms\tremaining: 300ms\n",
      "675:\tlearn: 0.0896174\ttotal: 623ms\tremaining: 299ms\n",
      "676:\tlearn: 0.0895380\ttotal: 624ms\tremaining: 298ms\n",
      "677:\tlearn: 0.0894937\ttotal: 625ms\tremaining: 297ms\n",
      "678:\tlearn: 0.0894688\ttotal: 626ms\tremaining: 296ms\n",
      "679:\tlearn: 0.0893109\ttotal: 627ms\tremaining: 295ms\n",
      "680:\tlearn: 0.0890868\ttotal: 627ms\tremaining: 294ms\n",
      "681:\tlearn: 0.0890749\ttotal: 628ms\tremaining: 293ms\n",
      "682:\tlearn: 0.0888603\ttotal: 630ms\tremaining: 292ms\n",
      "683:\tlearn: 0.0886745\ttotal: 630ms\tremaining: 291ms\n",
      "684:\tlearn: 0.0884811\ttotal: 631ms\tremaining: 290ms\n",
      "685:\tlearn: 0.0883356\ttotal: 632ms\tremaining: 289ms\n",
      "686:\tlearn: 0.0882152\ttotal: 633ms\tremaining: 288ms\n",
      "687:\tlearn: 0.0881565\ttotal: 633ms\tremaining: 287ms\n",
      "688:\tlearn: 0.0879130\ttotal: 634ms\tremaining: 286ms\n",
      "689:\tlearn: 0.0876899\ttotal: 635ms\tremaining: 285ms\n",
      "690:\tlearn: 0.0875972\ttotal: 636ms\tremaining: 284ms\n",
      "691:\tlearn: 0.0874746\ttotal: 636ms\tremaining: 283ms\n",
      "692:\tlearn: 0.0873406\ttotal: 637ms\tremaining: 282ms\n",
      "693:\tlearn: 0.0871911\ttotal: 638ms\tremaining: 281ms\n",
      "694:\tlearn: 0.0870282\ttotal: 639ms\tremaining: 280ms\n",
      "695:\tlearn: 0.0870082\ttotal: 640ms\tremaining: 279ms\n",
      "696:\tlearn: 0.0868708\ttotal: 640ms\tremaining: 278ms\n",
      "697:\tlearn: 0.0866679\ttotal: 641ms\tremaining: 277ms\n",
      "698:\tlearn: 0.0865300\ttotal: 642ms\tremaining: 276ms\n",
      "699:\tlearn: 0.0863771\ttotal: 643ms\tremaining: 275ms\n",
      "700:\tlearn: 0.0862559\ttotal: 644ms\tremaining: 275ms\n",
      "701:\tlearn: 0.0861380\ttotal: 644ms\tremaining: 274ms\n",
      "702:\tlearn: 0.0858879\ttotal: 645ms\tremaining: 273ms\n",
      "703:\tlearn: 0.0858693\ttotal: 646ms\tremaining: 272ms\n",
      "704:\tlearn: 0.0856575\ttotal: 647ms\tremaining: 271ms\n",
      "705:\tlearn: 0.0856177\ttotal: 648ms\tremaining: 270ms\n",
      "706:\tlearn: 0.0854489\ttotal: 649ms\tremaining: 269ms\n",
      "707:\tlearn: 0.0853449\ttotal: 650ms\tremaining: 268ms\n",
      "708:\tlearn: 0.0852325\ttotal: 651ms\tremaining: 267ms\n",
      "709:\tlearn: 0.0851410\ttotal: 652ms\tremaining: 266ms\n",
      "710:\tlearn: 0.0849446\ttotal: 652ms\tremaining: 265ms\n",
      "711:\tlearn: 0.0848170\ttotal: 653ms\tremaining: 264ms\n",
      "712:\tlearn: 0.0846639\ttotal: 654ms\tremaining: 263ms\n",
      "713:\tlearn: 0.0846057\ttotal: 655ms\tremaining: 262ms\n",
      "714:\tlearn: 0.0844293\ttotal: 655ms\tremaining: 261ms\n",
      "715:\tlearn: 0.0843280\ttotal: 656ms\tremaining: 260ms\n",
      "716:\tlearn: 0.0841995\ttotal: 657ms\tremaining: 259ms\n",
      "717:\tlearn: 0.0841021\ttotal: 658ms\tremaining: 258ms\n",
      "718:\tlearn: 0.0840085\ttotal: 659ms\tremaining: 258ms\n",
      "719:\tlearn: 0.0837868\ttotal: 660ms\tremaining: 257ms\n",
      "720:\tlearn: 0.0836760\ttotal: 661ms\tremaining: 256ms\n",
      "721:\tlearn: 0.0834488\ttotal: 662ms\tremaining: 255ms\n",
      "722:\tlearn: 0.0832625\ttotal: 662ms\tremaining: 254ms\n",
      "723:\tlearn: 0.0831444\ttotal: 663ms\tremaining: 253ms\n",
      "724:\tlearn: 0.0830988\ttotal: 664ms\tremaining: 252ms\n",
      "725:\tlearn: 0.0829558\ttotal: 665ms\tremaining: 251ms\n",
      "726:\tlearn: 0.0827887\ttotal: 666ms\tremaining: 250ms\n",
      "727:\tlearn: 0.0827353\ttotal: 667ms\tremaining: 249ms\n",
      "728:\tlearn: 0.0826079\ttotal: 668ms\tremaining: 248ms\n",
      "729:\tlearn: 0.0824410\ttotal: 668ms\tremaining: 247ms\n",
      "730:\tlearn: 0.0823345\ttotal: 669ms\tremaining: 246ms\n",
      "731:\tlearn: 0.0822115\ttotal: 670ms\tremaining: 245ms\n",
      "732:\tlearn: 0.0820870\ttotal: 671ms\tremaining: 244ms\n",
      "733:\tlearn: 0.0819902\ttotal: 672ms\tremaining: 243ms\n",
      "734:\tlearn: 0.0818774\ttotal: 672ms\tremaining: 242ms\n",
      "735:\tlearn: 0.0817604\ttotal: 673ms\tremaining: 241ms\n",
      "736:\tlearn: 0.0815888\ttotal: 674ms\tremaining: 240ms\n",
      "737:\tlearn: 0.0814886\ttotal: 675ms\tremaining: 239ms\n",
      "738:\tlearn: 0.0814776\ttotal: 675ms\tremaining: 239ms\n",
      "739:\tlearn: 0.0812946\ttotal: 676ms\tremaining: 238ms\n",
      "740:\tlearn: 0.0812241\ttotal: 677ms\tremaining: 237ms\n"
     ]
    },
    {
     "name": "stdout",
     "output_type": "stream",
     "text": [
      "741:\tlearn: 0.0810774\ttotal: 678ms\tremaining: 236ms\n",
      "742:\tlearn: 0.0809955\ttotal: 679ms\tremaining: 235ms\n",
      "743:\tlearn: 0.0808867\ttotal: 680ms\tremaining: 234ms\n",
      "744:\tlearn: 0.0808782\ttotal: 681ms\tremaining: 233ms\n",
      "745:\tlearn: 0.0807313\ttotal: 682ms\tremaining: 232ms\n",
      "746:\tlearn: 0.0806276\ttotal: 683ms\tremaining: 231ms\n",
      "747:\tlearn: 0.0804773\ttotal: 684ms\tremaining: 230ms\n",
      "748:\tlearn: 0.0803426\ttotal: 684ms\tremaining: 229ms\n",
      "749:\tlearn: 0.0801351\ttotal: 685ms\tremaining: 228ms\n",
      "750:\tlearn: 0.0799962\ttotal: 686ms\tremaining: 227ms\n",
      "751:\tlearn: 0.0798511\ttotal: 687ms\tremaining: 226ms\n",
      "752:\tlearn: 0.0798378\ttotal: 687ms\tremaining: 225ms\n",
      "753:\tlearn: 0.0797240\ttotal: 688ms\tremaining: 225ms\n",
      "754:\tlearn: 0.0796667\ttotal: 689ms\tremaining: 224ms\n",
      "755:\tlearn: 0.0794697\ttotal: 690ms\tremaining: 223ms\n",
      "756:\tlearn: 0.0793407\ttotal: 691ms\tremaining: 222ms\n",
      "757:\tlearn: 0.0792505\ttotal: 692ms\tremaining: 221ms\n",
      "758:\tlearn: 0.0791419\ttotal: 692ms\tremaining: 220ms\n",
      "759:\tlearn: 0.0789560\ttotal: 693ms\tremaining: 219ms\n",
      "760:\tlearn: 0.0789073\ttotal: 694ms\tremaining: 218ms\n",
      "761:\tlearn: 0.0788140\ttotal: 695ms\tremaining: 217ms\n",
      "762:\tlearn: 0.0787166\ttotal: 696ms\tremaining: 216ms\n",
      "763:\tlearn: 0.0785598\ttotal: 696ms\tremaining: 215ms\n",
      "764:\tlearn: 0.0783472\ttotal: 697ms\tremaining: 214ms\n",
      "765:\tlearn: 0.0782052\ttotal: 698ms\tremaining: 213ms\n",
      "766:\tlearn: 0.0781283\ttotal: 699ms\tremaining: 212ms\n",
      "767:\tlearn: 0.0779596\ttotal: 700ms\tremaining: 211ms\n",
      "768:\tlearn: 0.0778093\ttotal: 700ms\tremaining: 210ms\n",
      "769:\tlearn: 0.0776672\ttotal: 701ms\tremaining: 209ms\n",
      "770:\tlearn: 0.0774734\ttotal: 702ms\tremaining: 209ms\n",
      "771:\tlearn: 0.0773742\ttotal: 703ms\tremaining: 208ms\n",
      "772:\tlearn: 0.0772399\ttotal: 704ms\tremaining: 207ms\n",
      "773:\tlearn: 0.0771347\ttotal: 705ms\tremaining: 206ms\n",
      "774:\tlearn: 0.0770643\ttotal: 705ms\tremaining: 205ms\n",
      "775:\tlearn: 0.0769008\ttotal: 706ms\tremaining: 204ms\n",
      "776:\tlearn: 0.0767492\ttotal: 707ms\tremaining: 203ms\n",
      "777:\tlearn: 0.0766217\ttotal: 708ms\tremaining: 202ms\n",
      "778:\tlearn: 0.0765078\ttotal: 709ms\tremaining: 201ms\n",
      "779:\tlearn: 0.0763834\ttotal: 710ms\tremaining: 200ms\n",
      "780:\tlearn: 0.0763563\ttotal: 710ms\tremaining: 199ms\n",
      "781:\tlearn: 0.0762067\ttotal: 711ms\tremaining: 198ms\n",
      "782:\tlearn: 0.0761949\ttotal: 712ms\tremaining: 197ms\n",
      "783:\tlearn: 0.0760661\ttotal: 713ms\tremaining: 196ms\n",
      "784:\tlearn: 0.0759872\ttotal: 714ms\tremaining: 195ms\n",
      "785:\tlearn: 0.0758643\ttotal: 715ms\tremaining: 195ms\n",
      "786:\tlearn: 0.0757056\ttotal: 715ms\tremaining: 194ms\n",
      "787:\tlearn: 0.0756108\ttotal: 716ms\tremaining: 193ms\n",
      "788:\tlearn: 0.0754961\ttotal: 717ms\tremaining: 192ms\n",
      "789:\tlearn: 0.0753851\ttotal: 718ms\tremaining: 191ms\n",
      "790:\tlearn: 0.0752577\ttotal: 718ms\tremaining: 190ms\n",
      "791:\tlearn: 0.0751121\ttotal: 719ms\tremaining: 189ms\n",
      "792:\tlearn: 0.0749508\ttotal: 720ms\tremaining: 188ms\n",
      "793:\tlearn: 0.0748655\ttotal: 721ms\tremaining: 187ms\n",
      "794:\tlearn: 0.0747443\ttotal: 721ms\tremaining: 186ms\n",
      "795:\tlearn: 0.0746291\ttotal: 722ms\tremaining: 185ms\n",
      "796:\tlearn: 0.0744860\ttotal: 723ms\tremaining: 184ms\n",
      "797:\tlearn: 0.0743589\ttotal: 724ms\tremaining: 183ms\n",
      "798:\tlearn: 0.0742125\ttotal: 725ms\tremaining: 182ms\n",
      "799:\tlearn: 0.0740796\ttotal: 726ms\tremaining: 181ms\n",
      "800:\tlearn: 0.0739796\ttotal: 727ms\tremaining: 181ms\n",
      "801:\tlearn: 0.0739209\ttotal: 727ms\tremaining: 180ms\n",
      "802:\tlearn: 0.0738716\ttotal: 728ms\tremaining: 179ms\n",
      "803:\tlearn: 0.0737531\ttotal: 729ms\tremaining: 178ms\n",
      "804:\tlearn: 0.0736491\ttotal: 730ms\tremaining: 177ms\n",
      "805:\tlearn: 0.0735574\ttotal: 731ms\tremaining: 176ms\n",
      "806:\tlearn: 0.0735112\ttotal: 732ms\tremaining: 175ms\n",
      "807:\tlearn: 0.0734213\ttotal: 732ms\tremaining: 174ms\n",
      "808:\tlearn: 0.0733219\ttotal: 733ms\tremaining: 173ms\n",
      "809:\tlearn: 0.0732415\ttotal: 734ms\tremaining: 172ms\n",
      "810:\tlearn: 0.0732333\ttotal: 735ms\tremaining: 171ms\n",
      "811:\tlearn: 0.0731353\ttotal: 736ms\tremaining: 170ms\n",
      "812:\tlearn: 0.0730391\ttotal: 736ms\tremaining: 169ms\n",
      "813:\tlearn: 0.0729023\ttotal: 737ms\tremaining: 168ms\n",
      "814:\tlearn: 0.0727869\ttotal: 738ms\tremaining: 168ms\n",
      "815:\tlearn: 0.0727555\ttotal: 739ms\tremaining: 167ms\n",
      "816:\tlearn: 0.0726389\ttotal: 740ms\tremaining: 166ms\n",
      "817:\tlearn: 0.0725262\ttotal: 741ms\tremaining: 165ms\n",
      "818:\tlearn: 0.0724449\ttotal: 742ms\tremaining: 164ms\n",
      "819:\tlearn: 0.0723864\ttotal: 742ms\tremaining: 163ms\n",
      "820:\tlearn: 0.0722266\ttotal: 743ms\tremaining: 162ms\n",
      "821:\tlearn: 0.0721625\ttotal: 745ms\tremaining: 161ms\n",
      "822:\tlearn: 0.0721506\ttotal: 745ms\tremaining: 160ms\n",
      "823:\tlearn: 0.0720252\ttotal: 746ms\tremaining: 159ms\n",
      "824:\tlearn: 0.0718302\ttotal: 747ms\tremaining: 158ms\n",
      "825:\tlearn: 0.0717735\ttotal: 748ms\tremaining: 157ms\n",
      "826:\tlearn: 0.0716493\ttotal: 749ms\tremaining: 157ms\n",
      "827:\tlearn: 0.0715984\ttotal: 749ms\tremaining: 156ms\n",
      "828:\tlearn: 0.0715680\ttotal: 750ms\tremaining: 155ms\n",
      "829:\tlearn: 0.0714637\ttotal: 751ms\tremaining: 154ms\n",
      "830:\tlearn: 0.0713222\ttotal: 752ms\tremaining: 153ms\n",
      "831:\tlearn: 0.0713049\ttotal: 753ms\tremaining: 152ms\n",
      "832:\tlearn: 0.0711844\ttotal: 754ms\tremaining: 151ms\n",
      "833:\tlearn: 0.0711662\ttotal: 755ms\tremaining: 150ms\n",
      "834:\tlearn: 0.0711526\ttotal: 756ms\tremaining: 149ms\n",
      "835:\tlearn: 0.0709994\ttotal: 756ms\tremaining: 148ms\n",
      "836:\tlearn: 0.0709249\ttotal: 757ms\tremaining: 147ms\n",
      "837:\tlearn: 0.0708132\ttotal: 758ms\tremaining: 147ms\n",
      "838:\tlearn: 0.0707274\ttotal: 759ms\tremaining: 146ms\n",
      "839:\tlearn: 0.0705863\ttotal: 760ms\tremaining: 145ms\n",
      "840:\tlearn: 0.0705395\ttotal: 761ms\tremaining: 144ms\n"
     ]
    },
    {
     "name": "stdout",
     "output_type": "stream",
     "text": [
      "841:\tlearn: 0.0704685\ttotal: 762ms\tremaining: 143ms\n",
      "842:\tlearn: 0.0704448\ttotal: 763ms\tremaining: 142ms\n",
      "843:\tlearn: 0.0703418\ttotal: 764ms\tremaining: 141ms\n",
      "844:\tlearn: 0.0702342\ttotal: 764ms\tremaining: 140ms\n",
      "845:\tlearn: 0.0701405\ttotal: 765ms\tremaining: 139ms\n",
      "846:\tlearn: 0.0701270\ttotal: 766ms\tremaining: 138ms\n",
      "847:\tlearn: 0.0699247\ttotal: 767ms\tremaining: 137ms\n",
      "848:\tlearn: 0.0698401\ttotal: 768ms\tremaining: 137ms\n",
      "849:\tlearn: 0.0696486\ttotal: 769ms\tremaining: 136ms\n",
      "850:\tlearn: 0.0696342\ttotal: 769ms\tremaining: 135ms\n",
      "851:\tlearn: 0.0694818\ttotal: 770ms\tremaining: 134ms\n",
      "852:\tlearn: 0.0694011\ttotal: 771ms\tremaining: 133ms\n",
      "853:\tlearn: 0.0693191\ttotal: 772ms\tremaining: 132ms\n",
      "854:\tlearn: 0.0692662\ttotal: 773ms\tremaining: 131ms\n",
      "855:\tlearn: 0.0692036\ttotal: 773ms\tremaining: 130ms\n",
      "856:\tlearn: 0.0690615\ttotal: 774ms\tremaining: 129ms\n",
      "857:\tlearn: 0.0689931\ttotal: 775ms\tremaining: 128ms\n",
      "858:\tlearn: 0.0689627\ttotal: 776ms\tremaining: 127ms\n",
      "859:\tlearn: 0.0688448\ttotal: 777ms\tremaining: 126ms\n",
      "860:\tlearn: 0.0688398\ttotal: 778ms\tremaining: 126ms\n",
      "861:\tlearn: 0.0687127\ttotal: 779ms\tremaining: 125ms\n",
      "862:\tlearn: 0.0686590\ttotal: 780ms\tremaining: 124ms\n",
      "863:\tlearn: 0.0685492\ttotal: 780ms\tremaining: 123ms\n",
      "864:\tlearn: 0.0684659\ttotal: 781ms\tremaining: 122ms\n",
      "865:\tlearn: 0.0683564\ttotal: 782ms\tremaining: 121ms\n",
      "866:\tlearn: 0.0683475\ttotal: 783ms\tremaining: 120ms\n",
      "867:\tlearn: 0.0683133\ttotal: 784ms\tremaining: 119ms\n",
      "868:\tlearn: 0.0683044\ttotal: 784ms\tremaining: 118ms\n",
      "869:\tlearn: 0.0681704\ttotal: 785ms\tremaining: 117ms\n",
      "870:\tlearn: 0.0681478\ttotal: 786ms\tremaining: 116ms\n",
      "871:\tlearn: 0.0681239\ttotal: 787ms\tremaining: 116ms\n",
      "872:\tlearn: 0.0680297\ttotal: 788ms\tremaining: 115ms\n",
      "873:\tlearn: 0.0679548\ttotal: 789ms\tremaining: 114ms\n",
      "874:\tlearn: 0.0678491\ttotal: 790ms\tremaining: 113ms\n",
      "875:\tlearn: 0.0677477\ttotal: 791ms\tremaining: 112ms\n",
      "876:\tlearn: 0.0676675\ttotal: 791ms\tremaining: 111ms\n",
      "877:\tlearn: 0.0676481\ttotal: 793ms\tremaining: 110ms\n",
      "878:\tlearn: 0.0675357\ttotal: 794ms\tremaining: 109ms\n",
      "879:\tlearn: 0.0675230\ttotal: 795ms\tremaining: 108ms\n",
      "880:\tlearn: 0.0674802\ttotal: 796ms\tremaining: 107ms\n",
      "881:\tlearn: 0.0673856\ttotal: 796ms\tremaining: 107ms\n",
      "882:\tlearn: 0.0672502\ttotal: 797ms\tremaining: 106ms\n",
      "883:\tlearn: 0.0671764\ttotal: 798ms\tremaining: 105ms\n",
      "884:\tlearn: 0.0670905\ttotal: 799ms\tremaining: 104ms\n",
      "885:\tlearn: 0.0669434\ttotal: 800ms\tremaining: 103ms\n",
      "886:\tlearn: 0.0668602\ttotal: 801ms\tremaining: 102ms\n",
      "887:\tlearn: 0.0667755\ttotal: 802ms\tremaining: 101ms\n",
      "888:\tlearn: 0.0666533\ttotal: 803ms\tremaining: 100ms\n",
      "889:\tlearn: 0.0665920\ttotal: 803ms\tremaining: 99.3ms\n",
      "890:\tlearn: 0.0664412\ttotal: 804ms\tremaining: 98.4ms\n",
      "891:\tlearn: 0.0663774\ttotal: 806ms\tremaining: 97.5ms\n",
      "892:\tlearn: 0.0663343\ttotal: 806ms\tremaining: 96.6ms\n",
      "893:\tlearn: 0.0661765\ttotal: 807ms\tremaining: 95.7ms\n",
      "894:\tlearn: 0.0660900\ttotal: 808ms\tremaining: 94.8ms\n",
      "895:\tlearn: 0.0659986\ttotal: 809ms\tremaining: 93.9ms\n",
      "896:\tlearn: 0.0659537\ttotal: 810ms\tremaining: 93ms\n",
      "897:\tlearn: 0.0657873\ttotal: 810ms\tremaining: 92.1ms\n",
      "898:\tlearn: 0.0656825\ttotal: 811ms\tremaining: 91.1ms\n",
      "899:\tlearn: 0.0655204\ttotal: 812ms\tremaining: 90.2ms\n",
      "900:\tlearn: 0.0655132\ttotal: 813ms\tremaining: 89.3ms\n",
      "901:\tlearn: 0.0654095\ttotal: 814ms\tremaining: 88.4ms\n",
      "902:\tlearn: 0.0653308\ttotal: 815ms\tremaining: 87.5ms\n",
      "903:\tlearn: 0.0651758\ttotal: 816ms\tremaining: 86.6ms\n",
      "904:\tlearn: 0.0651205\ttotal: 816ms\tremaining: 85.7ms\n",
      "905:\tlearn: 0.0649692\ttotal: 817ms\tremaining: 84.8ms\n",
      "906:\tlearn: 0.0648169\ttotal: 818ms\tremaining: 83.9ms\n",
      "907:\tlearn: 0.0647759\ttotal: 819ms\tremaining: 83ms\n",
      "908:\tlearn: 0.0646332\ttotal: 820ms\tremaining: 82.1ms\n",
      "909:\tlearn: 0.0645154\ttotal: 821ms\tremaining: 81.2ms\n",
      "910:\tlearn: 0.0645039\ttotal: 822ms\tremaining: 80.3ms\n",
      "911:\tlearn: 0.0644187\ttotal: 823ms\tremaining: 79.4ms\n",
      "912:\tlearn: 0.0642644\ttotal: 823ms\tremaining: 78.5ms\n",
      "913:\tlearn: 0.0641699\ttotal: 824ms\tremaining: 77.6ms\n",
      "914:\tlearn: 0.0640786\ttotal: 825ms\tremaining: 76.6ms\n",
      "915:\tlearn: 0.0640599\ttotal: 826ms\tremaining: 75.7ms\n",
      "916:\tlearn: 0.0639781\ttotal: 827ms\tremaining: 74.8ms\n",
      "917:\tlearn: 0.0638942\ttotal: 827ms\tremaining: 73.9ms\n",
      "918:\tlearn: 0.0638165\ttotal: 829ms\tremaining: 73ms\n",
      "919:\tlearn: 0.0638104\ttotal: 830ms\tremaining: 72.1ms\n",
      "920:\tlearn: 0.0637251\ttotal: 830ms\tremaining: 71.2ms\n",
      "921:\tlearn: 0.0636686\ttotal: 831ms\tremaining: 70.3ms\n",
      "922:\tlearn: 0.0635181\ttotal: 832ms\tremaining: 69.4ms\n",
      "923:\tlearn: 0.0634237\ttotal: 833ms\tremaining: 68.5ms\n",
      "924:\tlearn: 0.0632858\ttotal: 834ms\tremaining: 67.6ms\n",
      "925:\tlearn: 0.0632724\ttotal: 834ms\tremaining: 66.7ms\n",
      "926:\tlearn: 0.0632235\ttotal: 835ms\tremaining: 65.8ms\n",
      "927:\tlearn: 0.0630637\ttotal: 836ms\tremaining: 64.9ms\n",
      "928:\tlearn: 0.0629778\ttotal: 837ms\tremaining: 64ms\n",
      "929:\tlearn: 0.0629419\ttotal: 838ms\tremaining: 63.1ms\n",
      "930:\tlearn: 0.0629054\ttotal: 839ms\tremaining: 62.2ms\n",
      "931:\tlearn: 0.0628605\ttotal: 840ms\tremaining: 61.3ms\n",
      "932:\tlearn: 0.0627473\ttotal: 841ms\tremaining: 60.4ms\n",
      "933:\tlearn: 0.0626038\ttotal: 841ms\tremaining: 59.5ms\n",
      "934:\tlearn: 0.0625045\ttotal: 842ms\tremaining: 58.5ms\n",
      "935:\tlearn: 0.0623814\ttotal: 843ms\tremaining: 57.6ms\n",
      "936:\tlearn: 0.0622716\ttotal: 844ms\tremaining: 56.7ms\n",
      "937:\tlearn: 0.0621864\ttotal: 845ms\tremaining: 55.8ms\n",
      "938:\tlearn: 0.0620507\ttotal: 846ms\tremaining: 54.9ms\n",
      "939:\tlearn: 0.0620110\ttotal: 846ms\tremaining: 54ms\n",
      "940:\tlearn: 0.0619596\ttotal: 847ms\tremaining: 53.1ms\n",
      "941:\tlearn: 0.0619223\ttotal: 848ms\tremaining: 52.2ms\n",
      "942:\tlearn: 0.0618730\ttotal: 849ms\tremaining: 51.3ms\n",
      "943:\tlearn: 0.0617619\ttotal: 850ms\tremaining: 50.4ms\n",
      "944:\tlearn: 0.0617123\ttotal: 851ms\tremaining: 49.5ms\n",
      "945:\tlearn: 0.0615955\ttotal: 852ms\tremaining: 48.6ms\n",
      "946:\tlearn: 0.0615817\ttotal: 853ms\tremaining: 47.7ms\n",
      "947:\tlearn: 0.0614531\ttotal: 854ms\tremaining: 46.8ms\n",
      "948:\tlearn: 0.0613891\ttotal: 854ms\tremaining: 45.9ms\n",
      "949:\tlearn: 0.0613350\ttotal: 855ms\tremaining: 45ms\n",
      "950:\tlearn: 0.0612408\ttotal: 856ms\tremaining: 44.1ms\n",
      "951:\tlearn: 0.0612339\ttotal: 857ms\tremaining: 43.2ms\n",
      "952:\tlearn: 0.0611757\ttotal: 858ms\tremaining: 42.3ms\n",
      "953:\tlearn: 0.0610223\ttotal: 859ms\tremaining: 41.4ms\n",
      "954:\tlearn: 0.0609433\ttotal: 859ms\tremaining: 40.5ms\n",
      "955:\tlearn: 0.0607891\ttotal: 860ms\tremaining: 39.6ms\n",
      "956:\tlearn: 0.0606820\ttotal: 861ms\tremaining: 38.7ms\n",
      "957:\tlearn: 0.0605962\ttotal: 862ms\tremaining: 37.8ms\n",
      "958:\tlearn: 0.0605046\ttotal: 863ms\tremaining: 36.9ms\n",
      "959:\tlearn: 0.0603316\ttotal: 863ms\tremaining: 36ms\n",
      "960:\tlearn: 0.0602360\ttotal: 864ms\tremaining: 35.1ms\n",
      "961:\tlearn: 0.0601145\ttotal: 865ms\tremaining: 34.2ms\n",
      "962:\tlearn: 0.0600209\ttotal: 866ms\tremaining: 33.3ms\n",
      "963:\tlearn: 0.0598628\ttotal: 867ms\tremaining: 32.4ms\n",
      "964:\tlearn: 0.0597678\ttotal: 867ms\tremaining: 31.5ms\n",
      "965:\tlearn: 0.0596878\ttotal: 868ms\tremaining: 30.6ms\n",
      "966:\tlearn: 0.0596794\ttotal: 869ms\tremaining: 29.7ms\n"
     ]
    },
    {
     "name": "stdout",
     "output_type": "stream",
     "text": [
      "967:\tlearn: 0.0596222\ttotal: 870ms\tremaining: 28.8ms\n",
      "968:\tlearn: 0.0595579\ttotal: 871ms\tremaining: 27.9ms\n",
      "969:\tlearn: 0.0594380\ttotal: 872ms\tremaining: 27ms\n",
      "970:\tlearn: 0.0592879\ttotal: 872ms\tremaining: 26.1ms\n",
      "971:\tlearn: 0.0592071\ttotal: 873ms\tremaining: 25.2ms\n",
      "972:\tlearn: 0.0591045\ttotal: 874ms\tremaining: 24.3ms\n",
      "973:\tlearn: 0.0590537\ttotal: 875ms\tremaining: 23.4ms\n",
      "974:\tlearn: 0.0589719\ttotal: 876ms\tremaining: 22.5ms\n",
      "975:\tlearn: 0.0588847\ttotal: 876ms\tremaining: 21.5ms\n",
      "976:\tlearn: 0.0587773\ttotal: 877ms\tremaining: 20.7ms\n",
      "977:\tlearn: 0.0586327\ttotal: 878ms\tremaining: 19.8ms\n",
      "978:\tlearn: 0.0585690\ttotal: 879ms\tremaining: 18.9ms\n",
      "979:\tlearn: 0.0584327\ttotal: 880ms\tremaining: 18ms\n",
      "980:\tlearn: 0.0584210\ttotal: 881ms\tremaining: 17.1ms\n",
      "981:\tlearn: 0.0583275\ttotal: 881ms\tremaining: 16.2ms\n",
      "982:\tlearn: 0.0581398\ttotal: 882ms\tremaining: 15.3ms\n",
      "983:\tlearn: 0.0580404\ttotal: 883ms\tremaining: 14.4ms\n",
      "984:\tlearn: 0.0580300\ttotal: 884ms\tremaining: 13.5ms\n",
      "985:\tlearn: 0.0579691\ttotal: 885ms\tremaining: 12.6ms\n",
      "986:\tlearn: 0.0578618\ttotal: 885ms\tremaining: 11.7ms\n",
      "987:\tlearn: 0.0578007\ttotal: 886ms\tremaining: 10.8ms\n",
      "988:\tlearn: 0.0577291\ttotal: 887ms\tremaining: 9.87ms\n",
      "989:\tlearn: 0.0576563\ttotal: 888ms\tremaining: 8.97ms\n",
      "990:\tlearn: 0.0575804\ttotal: 889ms\tremaining: 8.07ms\n",
      "991:\tlearn: 0.0575298\ttotal: 889ms\tremaining: 7.17ms\n",
      "992:\tlearn: 0.0574604\ttotal: 890ms\tremaining: 6.28ms\n",
      "993:\tlearn: 0.0573710\ttotal: 891ms\tremaining: 5.38ms\n",
      "994:\tlearn: 0.0572142\ttotal: 892ms\tremaining: 4.48ms\n",
      "995:\tlearn: 0.0571433\ttotal: 893ms\tremaining: 3.58ms\n",
      "996:\tlearn: 0.0570871\ttotal: 893ms\tremaining: 2.69ms\n",
      "997:\tlearn: 0.0570032\ttotal: 894ms\tremaining: 1.79ms\n",
      "998:\tlearn: 0.0569143\ttotal: 895ms\tremaining: 895us\n",
      "999:\tlearn: 0.0568982\ttotal: 896ms\tremaining: 0us\n"
     ]
    },
    {
     "data": {
      "text/plain": [
       "<catboost.core.CatBoostRegressor at 0x7fdc501f82b0>"
      ]
     },
     "execution_count": 9,
     "metadata": {},
     "output_type": "execute_result"
    }
   ],
   "source": [
    "#Train the Model \n",
    "prior_model = ctb.CatBoostRegressor()\n",
    "prior_model.fit(X_train,Y_train)"
   ]
  },
  {
   "cell_type": "code",
   "execution_count": 10,
   "id": "af65dcda",
   "metadata": {
    "execution": {
     "iopub.execute_input": "2022-06-12T06:00:52.903077Z",
     "iopub.status.busy": "2022-06-12T06:00:52.902692Z",
     "iopub.status.idle": "2022-06-12T06:00:52.910037Z",
     "shell.execute_reply": "2022-06-12T06:00:52.910399Z"
    },
    "id": "af65dcda",
    "papermill": {
     "duration": 0.020755,
     "end_time": "2022-06-12T06:00:52.910513",
     "exception": false,
     "start_time": "2022-06-12T06:00:52.889758",
     "status": "completed"
    },
    "tags": []
   },
   "outputs": [
    {
     "data": {
      "application/scrapbook.scrap.json+json": {
       "data": 0.08583362644434124,
       "encoder": "json",
       "name": "Prior Model MSE",
       "version": 1
      }
     },
     "metadata": {
      "scrapbook": {
       "data": true,
       "display": false,
       "name": "Prior Model MSE"
      }
     },
     "output_type": "display_data"
    },
    {
     "data": {
      "application/scrapbook.scrap.json+json": {
       "data": 0.08736659288988802,
       "encoder": "json",
       "name": "ABC Pre-generator MSE",
       "version": 1
      }
     },
     "metadata": {
      "scrapbook": {
       "data": true,
       "display": false,
       "name": "ABC Pre-generator MSE"
      }
     },
     "output_type": "display_data"
    },
    {
     "data": {
      "application/scrapbook.scrap.json+json": {
       "data": 0.20597183062767654,
       "encoder": "json",
       "name": "Prior Model MSE",
       "version": 1
      }
     },
     "metadata": {
      "scrapbook": {
       "data": true,
       "display": false,
       "name": "Prior Model MSE"
      }
     },
     "output_type": "display_data"
    },
    {
     "data": {
      "application/scrapbook.scrap.json+json": {
       "data": 0.20873565608236364,
       "encoder": "json",
       "name": "ABC Pre-generator MSE",
       "version": 1
      }
     },
     "metadata": {
      "scrapbook": {
       "data": true,
       "display": false,
       "name": "ABC Pre-generator MSE"
      }
     },
     "output_type": "display_data"
    }
   ],
   "source": [
    "y_pred = prior_model.predict(X_test)\n",
    "y_abc = y_pred + np.random.normal(0,variance, y_pred.shape) + bias \n",
    "mse = mean_squared_error(y_pred,Y_test)\n",
    "sb.glue(\"Prior Model MSE\",mse)\n",
    "mse = mean_squared_error(y_abc,Y_test)\n",
    "sb.glue(\"ABC Pre-generator MSE\",mse)\n",
    "mae = mean_absolute_error(y_pred,Y_test)\n",
    "sb.glue(\"Prior Model MSE\",mae)\n",
    "mae = mean_absolute_error(y_abc,Y_test)\n",
    "sb.glue(\"ABC Pre-generator MSE\",mae)"
   ]
  },
  {
   "cell_type": "markdown",
   "id": "25609da2",
   "metadata": {
    "papermill": {
     "duration": 0.009932,
     "end_time": "2022-06-12T06:00:52.930666",
     "exception": false,
     "start_time": "2022-06-12T06:00:52.920734",
     "status": "completed"
    },
    "tags": []
   },
   "source": [
    "# ABC GAN Model"
   ]
  },
  {
   "cell_type": "code",
   "execution_count": 11,
   "id": "dfc3464d",
   "metadata": {
    "execution": {
     "iopub.execute_input": "2022-06-12T06:00:52.953494Z",
     "iopub.status.busy": "2022-06-12T06:00:52.953104Z",
     "iopub.status.idle": "2022-06-12T06:00:52.955370Z",
     "shell.execute_reply": "2022-06-12T06:00:52.955611Z"
    },
    "papermill": {
     "duration": 0.015103,
     "end_time": "2022-06-12T06:00:52.955717",
     "exception": false,
     "start_time": "2022-06-12T06:00:52.940614",
     "status": "completed"
    },
    "tags": []
   },
   "outputs": [],
   "source": [
    "gen = network.Generator(n_features+1).to(device)\n",
    "disc = network.Discriminator(n_features+1).to(device)\n",
    "\n",
    "criterion = torch.nn.BCELoss()\n",
    "gen_opt = torch.optim.Adam(gen.parameters(), lr=0.001, betas=(0.5, 0.999))\n",
    "disc_opt = torch.optim.Adam(disc.parameters(), lr=0.001, betas=(0.5, 0.999))"
   ]
  },
  {
   "cell_type": "code",
   "execution_count": 12,
   "id": "b75fdd85",
   "metadata": {
    "execution": {
     "iopub.execute_input": "2022-06-12T06:00:52.978003Z",
     "iopub.status.busy": "2022-06-12T06:00:52.977185Z",
     "iopub.status.idle": "2022-06-12T06:01:52.887018Z",
     "shell.execute_reply": "2022-06-12T06:01:52.887331Z"
    },
    "papermill": {
     "duration": 59.921807,
     "end_time": "2022-06-12T06:01:52.887452",
     "exception": false,
     "start_time": "2022-06-12T06:00:52.965645",
     "status": "completed"
    },
    "tags": []
   },
   "outputs": [
    {
     "data": {
      "image/png": "[encoded data removed]",
      "text/plain": [
       "<Figure size 432x288 with 1 Axes>"
      ]
     },
     "metadata": {
      "needs_background": "light"
     },
     "output_type": "display_data"
    },
    {
     "data": {
      "image/png": "[encoded data removed]",
      "text/plain": [
       "<Figure size 432x288 with 1 Axes>"
      ]
     },
     "metadata": {
      "needs_background": "light"
     },
     "output_type": "display_data"
    }
   ],
   "source": [
    "#Training the ABC_GAN \n",
    "ABC_train_test2.training_GAN(disc,gen,disc_opt,gen_opt,train_data,batch_size,n_epochs,criterion,prior_model,variance,bias,device)"
   ]
  },
  {
   "cell_type": "code",
   "execution_count": 13,
   "id": "1fa7c368",
   "metadata": {
    "execution": {
     "iopub.execute_input": "2022-06-12T06:01:52.911919Z",
     "iopub.status.busy": "2022-06-12T06:01:52.911522Z",
     "iopub.status.idle": "2022-06-12T06:01:53.213712Z",
     "shell.execute_reply": "2022-06-12T06:01:53.214019Z"
    },
    "papermill": {
     "duration": 0.315743,
     "end_time": "2022-06-12T06:01:53.214139",
     "exception": false,
     "start_time": "2022-06-12T06:01:52.898396",
     "status": "completed"
    },
    "tags": []
   },
   "outputs": [
    {
     "data": {
      "application/scrapbook.scrap.json+json": {
       "data": 0.07048129985551851,
       "encoder": "json",
       "name": "ABC-GAN Model 1 MSE",
       "version": 1
      }
     },
     "metadata": {
      "scrapbook": {
       "data": true,
       "display": false,
       "name": "ABC-GAN Model 1 MSE"
      }
     },
     "output_type": "display_data"
    },
    {
     "data": {
      "application/scrapbook.scrap.json+json": {
       "data": 0.20593523758226165,
       "encoder": "json",
       "name": "ABC-GAN Model 1 MAE",
       "version": 1
      }
     },
     "metadata": {
      "scrapbook": {
       "data": true,
       "display": false,
       "name": "ABC-GAN Model 1 MAE"
      }
     },
     "output_type": "display_data"
    },
    {
     "data": {
      "application/scrapbook.scrap.json+json": {
       "data": 21.00539423339069,
       "encoder": "json",
       "name": "ABC-GAN Model 1 Manhattan Distance",
       "version": 1
      }
     },
     "metadata": {
      "scrapbook": {
       "data": true,
       "display": false,
       "name": "ABC-GAN Model 1 Manhattan Distance"
      }
     },
     "output_type": "display_data"
    },
    {
     "data": {
      "application/scrapbook.scrap.json+json": {
       "data": 2.6812273917149727,
       "encoder": "json",
       "name": "ABC-GAN Model 1 Euclidean distance",
       "version": 1
      }
     },
     "metadata": {
      "scrapbook": {
       "data": true,
       "display": false,
       "name": "ABC-GAN Model 1 Euclidean distance"
      }
     },
     "output_type": "display_data"
    },
    {
     "data": {
      "application/scrapbook.scrap.json+json": {
       "data": [
        [
         0.07077728451722527,
         0.06969351205211716,
         0.06954235602751396,
         0.07111327195834681,
         0.07070071585008035,
         0.07088158739669619,
         0.06940920925168889,
         0.07097466163858213,
         0.06944605794158673,
         0.07085769583108098,
         0.07104633390278599,
         0.07146806018363251,
         0.06949790341087109,
         0.06999577180612157,
         0.07125225185329144,
         0.07145902630467711,
         0.0702616323677365,
         0.07042939770438834,
         0.06990300932642643,
         0.06975010876431416,
         0.07082788432737823,
         0.07085413407615661,
         0.07043457373910014,
         0.07040424729234267,
         0.07067204407537205,
         0.07075158371573068,
         0.070956819322379,
         0.07125524367132903,
         0.06980945693849744,
         0.07027991256620128,
         0.07081494851755979,
         0.07044756240259137,
         0.07123624260254999,
         0.07057093578307984,
         0.0703905592272358,
         0.0702370089578975,
         0.07097905737833367,
         0.06951176542019315,
         0.06962532491213601,
         0.0708136521166085,
         0.07008375538821518,
         0.0700550604979611,
         0.07059131501011533,
         0.06995960170051681,
         0.07002090006181354,
         0.07071794022936706,
         0.07050776191451341,
         0.07118964099585291,
         0.07079835749926205,
         0.07120394169897831,
         0.07043295962753984,
         0.070795217912496,
         0.0702952611514502,
         0.07032952698293708,
         0.07058932254018307,
         0.0701678099484217,
         0.07056590656655692,
         0.07056341404553643,
         0.07094714396707202,
         0.06994351393590052,
         0.07060717240157181,
         0.07054195164653364,
         0.07032032250791241,
         0.07056450065441505,
         0.07107127267782938,
         0.07126876860990224,
         0.07037262107648803,
         0.07000157415293015,
         0.07112095435878994,
         0.07097534957464867,
         0.07200310709573067,
         0.07093343027120332,
         0.07138755636537938,
         0.07012062033033349,
         0.07040656779043933,
         0.07064526581911107,
         0.07033061141129565,
         0.07086184084465467,
         0.07028436153879328,
         0.07006174800752929,
         0.07044842194102253,
         0.06973999192140129,
         0.07098732425889799,
         0.07106944785806321,
         0.06900985646012414,
         0.07066792467793442,
         0.06992578440828266,
         0.07077488051965407,
         0.07040114593970513,
         0.06999396002502942,
         0.07009422697100491,
         0.07002284575774319,
         0.07072208150266263,
         0.06914539115418182,
         0.070963574429972,
         0.07014557686329245,
         0.07037793066657463,
         0.06926371944981435,
         0.07070786474784757,
         0.07069728205662525
        ],
        [
         0.20579264214371934,
         0.2058154314245079,
         0.20606370478430214,
         0.20697150470725462,
         0.20774545400019953,
         0.20689415650478765,
         0.2049683090299368,
         0.20713004809530342,
         0.20428272625248806,
         0.2058524596413561,
         0.2072290097746779,
         0.2065833966229476,
         0.20535324020859072,
         0.2050023998919071,
         0.2071158827885109,
         0.20733917895339282,
         0.20577277889584794,
         0.20599830789747192,
         0.20539436923960844,
         0.20555602777384074,
         0.20526298025951667,
         0.20539628498840565,
         0.2052999450368624,
         0.20562458166158668,
         0.20639731771513528,
         0.20647899861283162,
         0.20680346387420215,
         0.20678021974277264,
         0.2050932568370127,
         0.206753210438525,
         0.2062654510943913,
         0.20683833989588654,
         0.20738103408731667,
         0.2062205124792515,
         0.2060025205433953,
         0.2053849788419172,
         0.20576533503538252,
         0.20522813539148546,
         0.2045110995132549,
         0.20579028228188262,
         0.20541873227293586,
         0.20515784997419984,
         0.2055598838145242,
         0.20318402002985572,
         0.20685562173671582,
         0.2066899898516781,
         0.20615176418248346,
         0.20577340715510004,
         0.20692593688327893,
         0.20645870849051895,
         0.20546260556461765,
         0.20582902384008847,
         0.2051844733821995,
         0.20584231282712198,
         0.20636394528635577,
         0.2044548066880773,
         0.20650154775848575,
         0.20545255469486995,
         0.20625059693759562,
         0.20631989223115585,
         0.2057970710390923,
         0.204811948187211,
         0.2064202014064672,
         0.2056002666187637,
         0.20659790505819461,
         0.20749692374146453,
         0.20546436160072393,
         0.2052127787952914,
         0.2065129555834859,
         0.20700385585865555,
         0.20776287758467243,
         0.2069297435456047,
         0.2068214026809323,
         0.20576135540271506,
         0.2057504517701911,
         0.20624647921352995,
         0.20644209606974734,
         0.20515294186770916,
         0.20529642259227296,
         0.20536691870759516,
         0.20624157855761985,
         0.20476332317818613,
         0.2058695303093569,
         0.20672341154924795,
         0.20267419447647592,
         0.2059472638967575,
         0.2053088200662066,
         0.20837612643691839,
         0.20608588129135907,
         0.2052794262839883,
         0.20545196927645626,
         0.2056781563761772,
         0.2064759178707997,
         0.20401607567042696,
         0.20688020879877547,
         0.20594576559960842,
         0.20558099496160068,
         0.2041137686693201,
         0.20664501226708,
         0.20504072480195878
        ],
        [
         20.990849498659372,
         20.993174005299807,
         21.01849788799882,
         21.11109348013997,
         21.190036308020353,
         21.10320396348834,
         20.906767521053553,
         21.12726490572095,
         20.836838077753782,
         20.99695088341832,
         21.137358997017145,
         21.071506455540657,
         20.946030501276255,
         20.910244788974524,
         21.12582004442811,
         21.14859625324607,
         20.98882344737649,
         21.011827405542135,
         20.95022566244006,
         20.966714832931757,
         20.9368239864707,
         20.950421068817377,
         20.940594393759966,
         20.97370732948184,
         21.052526406943798,
         21.060857858508825,
         21.09395331516862,
         21.091582413762808,
         20.919512197375298,
         21.088827464729548,
         21.039076011627913,
         21.097510669380426,
         21.1528654769063,
         21.034492272883654,
         21.01225709542632,
         20.949267841875553,
         20.98806417360902,
         20.933269809931517,
         20.860132150352,
         20.990608792752028,
         20.952710691839457,
         20.926100697368383,
         20.96710814908147,
         20.724770043045282,
         21.099273417145014,
         21.082378964871168,
         21.02747994661331,
         20.988887529820204,
         21.10644556209445,
         21.058788266032934,
         20.957185767591,
         20.994560431689024,
         20.92881628498435,
         20.99591590836644,
         21.049122419208288,
         20.854390282183886,
         21.063157871365547,
         20.956160578876734,
         21.037560887634754,
         21.044629007577896,
         20.991301245987415,
         20.89081871509552,
         21.054860543459654,
         20.971227195113897,
         21.07298631593585,
         21.16468622162938,
         20.95736488327384,
         20.931703437119722,
         21.064321469515562,
         21.114393297582865,
         21.19181351363659,
         21.106833841651678,
         21.095783073455095,
         20.987658251076937,
         20.986546080559492,
         21.037140879780054,
         21.057093799114227,
         20.925600070506334,
         20.94023510441184,
         20.947425708174706,
         21.036641012877226,
         20.885858964174986,
         20.998692091554403,
         21.08578797802329,
         20.672767836600542,
         21.006620917469263,
         20.941499646753073,
         21.254364896565676,
         21.020759891718626,
         20.938501480966806,
         20.95610086619854,
         20.979171950370073,
         21.06054362282157,
         20.80963971838355,
         21.1017812974751,
         21.00646809116006,
         20.96926148608327,
         20.81960440427065,
         21.07779125124216,
         20.914153929799795
        ],
        [
         2.6868723491742172,
         2.6662217142083193,
         2.66332880335989,
         2.693242235624448,
         2.6854185924559686,
         2.6888514117487063,
         2.660777958355839,
         2.690616190974732,
         2.6614841555120794,
         2.6883982172978507,
         2.6919743791656288,
         2.6999522474907804,
         2.662477445521154,
         2.671997141507528,
         2.6958727138045164,
         2.6997815991440985,
         2.6770667719556647,
         2.680260913763362,
         2.6702260112761045,
         2.6673040872686493,
         2.6878326215359056,
         2.688330648519258,
         2.6803594015333494,
         2.6797823090353727,
         2.6848740185878275,
         2.6863844734148774,
         2.6902779727906667,
         2.6959293118469483,
         2.6684386085736986,
         2.677414999911768,
         2.687587161152378,
         2.6806065293258388,
         2.695569836873105,
         2.6829527483491287,
         2.6795217933762085,
         2.676597637618614,
         2.6906995099025894,
         2.662742960343657,
         2.664917098342437,
         2.687562560368422,
         2.673675943265741,
         2.6731285361523556,
         2.6833401072230414,
         2.671306679034198,
         2.672476717635718,
         2.6857456885184496,
         2.681751613270768,
         2.694687993363424,
         2.6872723094105537,
         2.694958636657674,
         2.680328689173972,
         2.6872127245669617,
         2.67770734723717,
         2.678359899688535,
         2.6833022377471147,
         2.6752787919652437,
         2.682857146735324,
         2.6828097645276148,
         2.690094549386944,
         2.6709995173084278,
         2.683641478469195,
         2.6824017350028746,
         2.678184626908135,
         2.6828304207963525,
         2.69244680785686,
         2.6961851565146686,
         2.6791803503687057,
         2.6721078877169004,
         2.6933877078127044,
         2.6906292306102237,
         2.710040022539248,
         2.689834546521912,
         2.6984311644488357,
         2.6743790445062228,
         2.6798264709911375,
         2.6843653092582853,
         2.6783805487555643,
         2.6884768487295507,
         2.67749974359605,
         2.6732561225531657,
         2.6806228824630107,
         2.667110641871261,
         2.690856197273945,
         2.692412242120892,
         2.653112390934968,
         2.684795768238119,
         2.6706609686826277,
         2.6868267180830094,
         2.6797232853132282,
         2.671962560095669,
         2.673875679803102,
         2.6725138479135717,
         2.6858243265842217,
         2.655716456575616,
         2.6904060273232266,
         2.6748549194406466,
         2.6792814200808794,
         2.6579878449460717,
         2.685554356977429,
         2.6853533789383803
        ]
       ],
       "encoder": "json",
       "name": "ABC_GAN_1 Metrics",
       "version": 1
      }
     },
     "metadata": {
      "scrapbook": {
       "data": true,
       "display": false,
       "name": "ABC_GAN_1 Metrics"
      }
     },
     "output_type": "display_data"
    },
    {
     "name": "stdout",
     "output_type": "stream",
     "text": [
      "MSE\n",
      "0.07048129985551851\n"
     ]
    }
   ],
   "source": [
    "ABC_GAN1_metrics=ABC_train_test2.test_generator(gen,test_data,prior_model,variance,bias,\"1\",device)\n",
    "sb.glue(\"ABC_GAN_1 Metrics\",ABC_GAN1_metrics)\n",
    "\n",
    "print(\"MSE\")\n",
    "print(mean(ABC_GAN1_metrics[0]))"
   ]
  },
  {
   "cell_type": "code",
   "execution_count": 14,
   "id": "eb22ce5c",
   "metadata": {
    "execution": {
     "iopub.execute_input": "2022-06-12T06:01:53.241543Z",
     "iopub.status.busy": "2022-06-12T06:01:53.241152Z",
     "iopub.status.idle": "2022-06-12T06:01:53.560457Z",
     "shell.execute_reply": "2022-06-12T06:01:53.560828Z"
    },
    "papermill": {
     "duration": 0.334026,
     "end_time": "2022-06-12T06:01:53.560953",
     "exception": false,
     "start_time": "2022-06-12T06:01:53.226927",
     "status": "completed"
    },
    "tags": []
   },
   "outputs": [
    {
     "data": {
      "image/png": "[encoded data removed]",
      "text/plain": [
       "<Figure size 432x288 with 1 Axes>"
      ]
     },
     "metadata": {
      "needs_background": "light"
     },
     "output_type": "display_data"
    },
    {
     "data": {
      "image/png": "[encoded data removed]",
      "text/plain": [
       "<Figure size 432x288 with 1 Axes>"
      ]
     },
     "metadata": {
      "needs_background": "light"
     },
     "output_type": "display_data"
    },
    {
     "data": {
      "image/png": "[encoded data removed]",
      "text/plain": [
       "<Figure size 432x288 with 1 Axes>"
      ]
     },
     "metadata": {
      "needs_background": "light"
     },
     "output_type": "display_data"
    },
    {
     "data": {
      "image/png": "[encoded data removed]",
      "text/plain": [
       "<Figure size 432x288 with 1 Axes>"
      ]
     },
     "metadata": {
      "needs_background": "light"
     },
     "output_type": "display_data"
    }
   ],
   "source": [
    "sanityChecks.discProbVsError(train_data,disc,device)\n",
    "sanityChecks.discProbVsError(test_data,disc,device)"
   ]
  },
  {
   "cell_type": "markdown",
   "id": "130f3a4d",
   "metadata": {
    "id": "130f3a4d",
    "papermill": {
     "duration": 0.014561,
     "end_time": "2022-06-12T06:01:53.590655",
     "exception": false,
     "start_time": "2022-06-12T06:01:53.576094",
     "status": "completed"
    },
    "tags": []
   },
   "source": [
    "# ABC - GAN Model with skip connection"
   ]
  },
  {
   "cell_type": "code",
   "execution_count": 15,
   "id": "4e43dad1",
   "metadata": {
    "execution": {
     "iopub.execute_input": "2022-06-12T06:01:53.623461Z",
     "iopub.status.busy": "2022-06-12T06:01:53.623085Z",
     "iopub.status.idle": "2022-06-12T06:01:53.625425Z",
     "shell.execute_reply": "2022-06-12T06:01:53.625681Z"
    },
    "id": "4e43dad1",
    "papermill": {
     "duration": 0.020214,
     "end_time": "2022-06-12T06:01:53.625795",
     "exception": false,
     "start_time": "2022-06-12T06:01:53.605581",
     "status": "completed"
    },
    "tags": []
   },
   "outputs": [],
   "source": [
    "#Generator\n",
    "gen3 = network.GeneratorWithSkipConnection(n_features+1).to(device)\n",
    "constraints=network.weightConstraint()\n",
    "#Discriminator \n",
    "disc3 = network.Discriminator(n_features+1).to(device)\n",
    "\n",
    "criterion = torch.nn.BCELoss()\n",
    "gen_opt = torch.optim.Adam(gen3.parameters(), lr=0.001, betas=(0.5, 0.999))\n",
    "disc_opt = torch.optim.Adam(disc3.parameters(), lr=0.001, betas=(0.5, 0.999))\n"
   ]
  },
  {
   "cell_type": "code",
   "execution_count": 16,
   "id": "26acbc37",
   "metadata": {
    "execution": {
     "iopub.execute_input": "2022-06-12T06:01:53.657706Z",
     "iopub.status.busy": "2022-06-12T06:01:53.657332Z",
     "iopub.status.idle": "2022-06-12T06:04:48.356407Z",
     "shell.execute_reply": "2022-06-12T06:04:48.356724Z"
    },
    "id": "26acbc37",
    "papermill": {
     "duration": 174.716154,
     "end_time": "2022-06-12T06:04:48.356875",
     "exception": false,
     "start_time": "2022-06-12T06:01:53.640721",
     "status": "completed"
    },
    "tags": []
   },
   "outputs": [
    {
     "data": {
      "image/png": "[encoded data removed]",
      "text/plain": [
       "<Figure size 432x288 with 1 Axes>"
      ]
     },
     "metadata": {
      "needs_background": "light"
     },
     "output_type": "display_data"
    },
    {
     "data": {
      "image/png": "[encoded data removed]",
      "text/plain": [
       "<Figure size 432x288 with 1 Axes>"
      ]
     },
     "metadata": {
      "needs_background": "light"
     },
     "output_type": "display_data"
    }
   ],
   "source": [
    "ABC_train_test2.training_GAN_skip_connection(disc3,gen3,disc_opt,gen_opt,train_data,batch_size,n_epochs,criterion,prior_model,variance,bias,device)"
   ]
  },
  {
   "cell_type": "code",
   "execution_count": 17,
   "id": "c5e0717b",
   "metadata": {
    "execution": {
     "iopub.execute_input": "2022-06-12T06:04:48.390648Z",
     "iopub.status.busy": "2022-06-12T06:04:48.390263Z",
     "iopub.status.idle": "2022-06-12T06:04:49.212343Z",
     "shell.execute_reply": "2022-06-12T06:04:49.212653Z"
    },
    "id": "c5e0717b",
    "papermill": {
     "duration": 0.840201,
     "end_time": "2022-06-12T06:04:49.212778",
     "exception": false,
     "start_time": "2022-06-12T06:04:48.372577",
     "status": "completed"
    },
    "tags": []
   },
   "outputs": [
    {
     "data": {
      "application/scrapbook.scrap.json+json": {
       "data": 0.08698271370910315,
       "encoder": "json",
       "name": "ABC-GAN Model 3 MSE",
       "version": 1
      }
     },
     "metadata": {
      "scrapbook": {
       "data": true,
       "display": false,
       "name": "ABC-GAN Model 3 MSE"
      }
     },
     "output_type": "display_data"
    },
    {
     "data": {
      "application/scrapbook.scrap.json+json": {
       "data": 0.20829303691280932,
       "encoder": "json",
       "name": "ABC-GAN Model 3 MAE",
       "version": 1
      }
     },
     "metadata": {
      "scrapbook": {
       "data": true,
       "display": false,
       "name": "ABC-GAN Model 3 MAE"
      }
     },
     "output_type": "display_data"
    },
    {
     "data": {
      "application/scrapbook.scrap.json+json": {
       "data": 21.24588976510655,
       "encoder": "json",
       "name": "ABC-GAN Model 3 Manhattan Distance",
       "version": 1
      }
     },
     "metadata": {
      "scrapbook": {
       "data": true,
       "display": false,
       "name": "ABC-GAN Model 3 Manhattan Distance"
      }
     },
     "output_type": "display_data"
    },
    {
     "data": {
      "application/scrapbook.scrap.json+json": {
       "data": 2.978612940541283,
       "encoder": "json",
       "name": "ABC-GAN Model 3 Euclidean distance",
       "version": 1
      }
     },
     "metadata": {
      "scrapbook": {
       "data": true,
       "display": false,
       "name": "ABC-GAN Model 3 Euclidean distance"
      }
     },
     "output_type": "display_data"
    },
    {
     "data": {
      "application/scrapbook.scrap.json+json": {
       "data": [
        [
         0.08697105043031986,
         0.08735344985161987,
         0.08740350781224385,
         0.08642434440468433,
         0.08569133402586857,
         0.08611848242990908,
         0.08792470332729015,
         0.08694021499346895,
         0.08771094824783766,
         0.08755316729813341,
         0.08646997336641694,
         0.08620098313977756,
         0.08724696091980592,
         0.08676991041703994,
         0.08679127727768414,
         0.08723266378912932,
         0.08757110096015978,
         0.08652139121169035,
         0.08575797563549103,
         0.08681933587151863,
         0.08716718063540364,
         0.08745476296829258,
         0.08624450524886773,
         0.08696520870920646,
         0.08719275872423349,
         0.08723227843460214,
         0.08645607455421925,
         0.08719057247590908,
         0.0875507783656063,
         0.0870308578892024,
         0.08803435574740061,
         0.08746033495092193,
         0.08730718562095731,
         0.08677077629918446,
         0.0868265623008603,
         0.08631357189431063,
         0.08756373609718665,
         0.08681778487944286,
         0.08742752513272233,
         0.08679772634871784,
         0.08752868066234172,
         0.08575409142094868,
         0.08726385966662739,
         0.08622736985019996,
         0.0886615374659452,
         0.08712813052021218,
         0.0873553271172301,
         0.08794139602613506,
         0.08643613001432618,
         0.08709027735153951,
         0.08780357525832312,
         0.08681784591306847,
         0.08638940804429689,
         0.08706642316400426,
         0.0860232076596959,
         0.08770870664796938,
         0.08648435030325413,
         0.08618486730936187,
         0.08604221575855613,
         0.08590558491277572,
         0.08678081731089599,
         0.08733643512182014,
         0.08648155990922413,
         0.08796885771399007,
         0.0863684272199369,
         0.08650915496949638,
         0.08693219281885381,
         0.08691404339362567,
         0.08758474989693762,
         0.08719532730429727,
         0.08714648964436573,
         0.08701530806002065,
         0.08698632522057949,
         0.08647212925079932,
         0.08749634161248561,
         0.08680203084500597,
         0.08699457810630457,
         0.08741313057579696,
         0.0878159010915547,
         0.08665643409305815,
         0.0874666636041392,
         0.08658590279324532,
         0.08667744717699115,
         0.08652597112998117,
         0.08635332868410502,
         0.08699540755615288,
         0.08745197615056072,
         0.08685609426124269,
         0.08684052837535476,
         0.08760015738250046,
         0.0864695922699799,
         0.08627797208924004,
         0.08644307199937959,
         0.08699839333825368,
         0.08705484037588737,
         0.0865209295898563,
         0.08792390341102617,
         0.08843867936899028,
         0.08709976192695965,
         0.0877302175132702
        ],
        [
         0.20910112503185577,
         0.20780839666486808,
         0.20921715429308368,
         0.20775297660307557,
         0.20493868460385678,
         0.20664325373831624,
         0.2088978401494815,
         0.2088517410698913,
         0.20955979195879956,
         0.2085404566069152,
         0.20770263524872123,
         0.20764587535614185,
         0.2095344675677445,
         0.20810549829027378,
         0.20795333237551591,
         0.20880048594314277,
         0.2094540369203862,
         0.20952751188009394,
         0.20761860291674442,
         0.20840316422868008,
         0.20746112047858975,
         0.20838521390824633,
         0.2068299302995643,
         0.2088691427180653,
         0.2083029298627676,
         0.208964994679406,
         0.20748677316541767,
         0.20930576823450917,
         0.20806835946973926,
         0.2080700950053356,
         0.20896392080969378,
         0.2079178828873909,
         0.20852675239610322,
         0.2066500035808513,
         0.20783009459538496,
         0.2066610261396158,
         0.20812673751817212,
         0.2074288445725745,
         0.20973554487892554,
         0.20974684308520428,
         0.20852747794717788,
         0.2075675667227045,
         0.20830218110224416,
         0.20746888444010242,
         0.21032991828214304,
         0.20861122415711483,
         0.20879361474448266,
         0.20997918324143278,
         0.20702903487664812,
         0.20806860245362507,
         0.20863089312379265,
         0.2075817429177536,
         0.20787228327061907,
         0.20925020236595004,
         0.2065865461732827,
         0.20948556050037345,
         0.2074420328306801,
         0.20600498834734454,
         0.20685814025209232,
         0.207525770524608,
         0.2088570224449915,
         0.20824010388962194,
         0.20785334685990842,
         0.2095650477590514,
         0.20757065076088788,
         0.20805233961665162,
         0.2082154606012445,
         0.20953185238199784,
         0.2094964236021042,
         0.208981426852737,
         0.20870979805020431,
         0.20777165113181315,
         0.20883711670324498,
         0.20880365329931544,
         0.20889839457174508,
         0.20796614406886055,
         0.2074722339965257,
         0.20885568883671773,
         0.2092482578739816,
         0.20831027420639409,
         0.2092377130289142,
         0.20793549236202358,
         0.20743811458769237,
         0.20774631776536504,
         0.20765494330621817,
         0.20820010694967328,
         0.20939353844333514,
         0.20852049673889198,
         0.2089031546413168,
         0.20861780582744555,
         0.20726862440214439,
         0.20751348918522983,
         0.20766308141430592,
         0.2076269612811944,
         0.2095490600183314,
         0.20884410925118216,
         0.20865854830937644,
         0.20913187707043893,
         0.20777431025407186,
         0.2090842009284625
        ],
        [
         21.328314753249288,
         21.196456459816545,
         21.340149737894535,
         21.190803613513708,
         20.90374582959339,
         21.077611881308258,
         21.307579695247114,
         21.30287758912891,
         21.375098779797554,
         21.27112657390535,
         21.185668795369565,
         21.179879286326468,
         21.37251569190994,
         21.226760825607926,
         21.211239902302623,
         21.297649566200562,
         21.364311765879393,
         21.37180621176958,
         21.17709749750793,
         21.25712275132537,
         21.161034288816154,
         21.255291818641126,
         21.09665289055556,
         21.30465255724266,
         21.246898846002296,
         21.31442945729941,
         21.1636508628726,
         21.349188359919935,
         21.222972665913403,
         21.223149690544233,
         21.314319922588766,
         21.20762405451387,
         21.269728744402528,
         21.078300365246832,
         21.198669648729265,
         21.07942466624081,
         21.228927226853557,
         21.157742146402597,
         21.393025577650405,
         21.394177994690835,
         21.269802750612143,
         21.17189180571586,
         21.246822472428903,
         21.161826212890446,
         21.45365166477859,
         21.278344864025712,
         21.296948703937232,
         21.417876690626144,
         21.116961557418108,
         21.22299745026976,
         21.280351098626852,
         21.173337777610868,
         21.202972893603146,
         21.343520641326904,
         21.071827709674835,
         21.36752717103809,
         21.159087348729372,
         21.012508811429143,
         21.099530305713415,
         21.167628593510017,
         21.303416289389133,
         21.240490596741438,
         21.20104137971066,
         21.375634871423244,
         21.172206377610564,
         21.221338640898466,
         21.237976981326938,
         21.37224894296378,
         21.368635207414627,
         21.316105538979173,
         21.28839940112084,
         21.19270841544494,
         21.30138590373099,
         21.297972636530176,
         21.307636246317998,
         21.212546695023775,
         21.16216786764562,
         21.303280261345208,
         21.343322303146124,
         21.247647969052196,
         21.34224672894925,
         21.209420220926404,
         21.15868768794462,
         21.190124412067235,
         21.180804217234254,
         21.236410908866674,
         21.358140921220183,
         21.26909066736698,
         21.308121773414314,
         21.279016194399446,
         21.141399689018726,
         21.16637589689344,
         21.181634304259205,
         21.17795005068183,
         21.374004121869802,
         21.30209914362058,
         21.283171927556396,
         21.33145146118477,
         21.19297964591533,
         21.326588494703174
        ],
        [
         2.978430315433387,
         2.98497100234914,
         2.9858261498032452,
         2.9690542482881317,
         2.956436380279236,
         2.9637957432742774,
         2.9947153018915826,
         2.977902269943362,
         2.991072837842543,
         2.9883813452117534,
         2.9698379220715947,
         2.9652150478940498,
         2.98315102095422,
         2.9749841785357574,
         2.975350446976588,
         2.9829065869536024,
         2.9886873871210247,
         2.9707207717307287,
         2.9575857578133022,
         2.975831355923064,
         2.981786783928585,
         2.9867014954236457,
         2.965963508774932,
         2.9783302853006512,
         2.982224235343784,
         2.9828999983789966,
         2.9695992329825187,
         2.9821868473559343,
         2.988340575184134,
         2.9794542293344004,
         2.9965821006998725,
         2.9867966393770486,
         2.9841804458406402,
         2.9749990222715734,
         2.9759552003831895,
         2.9671508780679967,
         2.9885617078978033,
         2.975804774796756,
         2.986236354265629,
         2.9754609874050133,
         2.9879634247357942,
         2.9575187784588564,
         2.9834399082260714,
         2.9656688494706205,
         3.0072374069112677,
         2.981118802238791,
         2.9850030763731996,
         2.9949995650526855,
         2.969256685007423,
         2.980471152327603,
         2.9926517800019696,
         2.975805820804338,
         2.968454079233547,
         2.9800629461017145,
         2.962155833390435,
         2.991034616665758,
         2.970084801976523,
         2.9649378518874405,
         2.9624830813648075,
         2.960130007466416,
         2.9751711489780535,
         2.9846802814414906,
         2.970036887101044,
         2.9954671566930906,
         2.9680935929369823,
         2.9705106979926255,
         2.9777648778107193,
         2.9774540174702646,
         2.9889202882458465,
         2.9822681611549156,
         2.981432867553,
         2.9791880474589227,
         2.978691855915799,
         2.969874944098073,
         2.9874113952506662,
         2.97553476642277,
         2.9788331552544296,
         2.9859905088146697,
         2.9928618263024735,
         2.973038223348622,
         2.9869047001238918,
         2.9718280712233374,
         2.9733986634915093,
         2.9707993966705457,
         2.9678341472829497,
         2.9788473560636826,
         2.9866539081984698,
         2.9764612570377516,
         2.976194532332553,
         2.989183174884913,
         2.9698313776270107,
         2.966538918184369,
         2.96937591825904,
         2.978898474352873,
         2.9798647147715465,
         2.970712846803834,
         2.994701679287048,
         3.0034555591246908,
         2.980633442164581,
         2.9914013750002795
        ]
       ],
       "encoder": "json",
       "name": "ABC_GAN_3 Metrics",
       "version": 1
      }
     },
     "metadata": {
      "scrapbook": {
       "data": true,
       "display": false,
       "name": "ABC_GAN_3 Metrics"
      }
     },
     "output_type": "display_data"
    },
    {
     "name": "stdout",
     "output_type": "stream",
     "text": [
      "MSE\n",
      "0.08698271370910315\n"
     ]
    }
   ],
   "source": [
    "ABC_GAN3_metrics=ABC_train_test2.test_generator(gen3,test_data,prior_model,variance,bias,\"3\",device)\n",
    "sb.glue(\"ABC_GAN_3 Metrics\",ABC_GAN3_metrics)\n",
    "\n",
    "print(\"MSE\")\n",
    "print(mean(ABC_GAN3_metrics[0]))"
   ]
  },
  {
   "cell_type": "code",
   "execution_count": 18,
   "id": "c8e46b48",
   "metadata": {
    "execution": {
     "iopub.execute_input": "2022-06-12T06:04:49.249521Z",
     "iopub.status.busy": "2022-06-12T06:04:49.249138Z",
     "iopub.status.idle": "2022-06-12T06:04:49.568046Z",
     "shell.execute_reply": "2022-06-12T06:04:49.568337Z"
    },
    "id": "c8e46b48",
    "papermill": {
     "duration": 0.338262,
     "end_time": "2022-06-12T06:04:49.568457",
     "exception": false,
     "start_time": "2022-06-12T06:04:49.230195",
     "status": "completed"
    },
    "tags": []
   },
   "outputs": [
    {
     "data": {
      "image/png": "[encoded data removed]",
      "text/plain": [
       "<Figure size 432x288 with 1 Axes>"
      ]
     },
     "metadata": {
      "needs_background": "light"
     },
     "output_type": "display_data"
    },
    {
     "data": {
      "image/png": "[encoded data removed]",
      "text/plain": [
       "<Figure size 432x288 with 1 Axes>"
      ]
     },
     "metadata": {
      "needs_background": "light"
     },
     "output_type": "display_data"
    },
    {
     "data": {
      "image/png": "[encoded data removed]",
      "text/plain": [
       "<Figure size 432x288 with 1 Axes>"
      ]
     },
     "metadata": {
      "needs_background": "light"
     },
     "output_type": "display_data"
    },
    {
     "data": {
      "image/png": "[encoded data removed]",
      "text/plain": [
       "<Figure size 432x288 with 1 Axes>"
      ]
     },
     "metadata": {
      "needs_background": "light"
     },
     "output_type": "display_data"
    }
   ],
   "source": [
    "sanityChecks.discProbVsError(train_data,disc3,device)\n",
    "sanityChecks.discProbVsError(test_data,disc3,device)"
   ]
  },
  {
   "cell_type": "markdown",
   "id": "a5bd74c3",
   "metadata": {
    "id": "a5bd74c3",
    "papermill": {
     "duration": 0.019401,
     "end_time": "2022-06-12T06:04:49.608153",
     "exception": false,
     "start_time": "2022-06-12T06:04:49.588752",
     "status": "completed"
    },
    "tags": []
   },
   "source": [
    "## Skip Connection Model Analysis - ABC-GAN "
   ]
  },
  {
   "cell_type": "markdown",
   "id": "5744a8bf",
   "metadata": {
    "id": "5744a8bf",
    "papermill": {
     "duration": 0.019118,
     "end_time": "2022-06-12T06:04:49.646435",
     "exception": false,
     "start_time": "2022-06-12T06:04:49.627317",
     "status": "completed"
    },
    "tags": []
   },
   "source": [
    "### Weight Analysis \n",
    "\n",
    "Study the weights of the skip connection layer\n",
    "\n",
    "Equation of the skip connection is \n",
    "\n",
    "$output = y_{gan} * w + y_{abc} * (1-w)$"
   ]
  },
  {
   "cell_type": "code",
   "execution_count": 19,
   "id": "52c31dea",
   "metadata": {
    "execution": {
     "iopub.execute_input": "2022-06-12T06:04:49.687688Z",
     "iopub.status.busy": "2022-06-12T06:04:49.687305Z",
     "iopub.status.idle": "2022-06-12T06:04:49.690386Z",
     "shell.execute_reply": "2022-06-12T06:04:49.690623Z"
    },
    "id": "52c31dea",
    "papermill": {
     "duration": 0.025173,
     "end_time": "2022-06-12T06:04:49.690735",
     "exception": false,
     "start_time": "2022-06-12T06:04:49.665562",
     "status": "completed"
    },
    "tags": []
   },
   "outputs": [
    {
     "name": "stdout",
     "output_type": "stream",
     "text": [
      "Weight of the node at skip connection\n",
      "Parameter containing:\n",
      "tensor([[0.]], requires_grad=True)\n"
     ]
    },
    {
     "data": {
      "application/scrapbook.scrap.json+json": {
       "data": 0.0,
       "encoder": "json",
       "name": "Skip Connection Weight",
       "version": 1
      }
     },
     "metadata": {
      "scrapbook": {
       "data": true,
       "display": false,
       "name": "Skip Connection Weight"
      }
     },
     "output_type": "display_data"
    }
   ],
   "source": [
    "print(\"Weight of the node at skip connection\")\n",
    "for name,param in gen3.named_parameters():\n",
    "    if(name == \"skipNode.weight\"):\n",
    "        print(param)\n",
    "        sb.glue(\"Skip Connection Weight\",param.item())"
   ]
  }
 ],
 "metadata": {
  "colab": {
   "collapsed_sections": [],
   "name": "ABC_GAN_Model-Catboost_Pre-gen.ipynb",
   "provenance": []
  },
  "interpreter": {
   "hash": "31f2aee4e71d21fbe5cf8b01ff0e069b9275f58929596ceb00d14d90e3e16cd6"
  },
  "kernelspec": {
   "display_name": "Python 3 (ipykernel)",
   "language": "python",
   "name": "python3"
  },
  "language_info": {
   "codemirror_mode": {
    "name": "ipython",
    "version": 3
   },
   "file_extension": ".py",
   "mimetype": "text/x-python",
   "name": "python",
   "nbconvert_exporter": "python",
   "pygments_lexer": "ipython3",
   "version": "3.8.11"
  },
  "papermill": {
   "default_parameters": {},
   "duration": 241.337927,
   "end_time": "2022-06-12T06:04:50.018220",
   "environment_variables": {},
   "exception": null,
   "input_path": "ABC_GAN-Catboost.ipynb",
   "output_path": "./ABC_GAN_Catboost/ABC-GAN_output_6_8.ipynb",
   "parameters": {
    "bias": 0.01,
    "variance": 0.01
   },
   "start_time": "2022-06-12T06:00:48.680293",
   "version": "2.3.3"
  }
 },
 "nbformat": 4,
 "nbformat_minor": 5
}