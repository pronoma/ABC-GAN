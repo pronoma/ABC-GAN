{
 "cells": [
  {
   "cell_type": "markdown",
   "id": "622780e6",
   "metadata": {
    "id": "622780e6",
    "papermill": {
     "duration": 0.012047,
     "end_time": "2022-06-11T14:09:23.696007",
     "exception": false,
     "start_time": "2022-06-11T14:09:23.683960",
     "status": "completed"
    },
    "tags": []
   },
   "source": [
    "## Import Libraries "
   ]
  },
  {
   "cell_type": "code",
   "execution_count": 1,
   "id": "a62397e3",
   "metadata": {
    "execution": {
     "iopub.execute_input": "2022-06-11T14:09:23.721885Z",
     "iopub.status.busy": "2022-06-11T14:09:23.721409Z",
     "iopub.status.idle": "2022-06-11T14:09:23.723754Z",
     "shell.execute_reply": "2022-06-11T14:09:23.724054Z"
    },
    "id": "a62397e3",
    "papermill": {
     "duration": 0.017806,
     "end_time": "2022-06-11T14:09:23.724277",
     "exception": false,
     "start_time": "2022-06-11T14:09:23.706471",
     "status": "completed"
    },
    "tags": []
   },
   "outputs": [],
   "source": [
    "import warnings\n",
    "import sys\n",
    "sys.path.insert(0, '../../src')\n",
    "warnings.filterwarnings('ignore')"
   ]
  },
  {
   "cell_type": "code",
   "execution_count": 2,
   "id": "d6a4e155",
   "metadata": {
    "execution": {
     "iopub.execute_input": "2022-06-11T14:09:23.741742Z",
     "iopub.status.busy": "2022-06-11T14:09:23.741355Z",
     "iopub.status.idle": "2022-06-11T14:09:25.595344Z",
     "shell.execute_reply": "2022-06-11T14:09:25.595601Z"
    },
    "id": "d6a4e155",
    "papermill": {
     "duration": 1.863819,
     "end_time": "2022-06-11T14:09:25.595724",
     "exception": false,
     "start_time": "2022-06-11T14:09:23.731905",
     "status": "completed"
    },
    "tags": []
   },
   "outputs": [],
   "source": [
    "import ABC_train_test2\n",
    "import bostonDataset\n",
    "import network\n",
    "import dataset\n",
    "import sanityChecks\n",
    "import torch \n",
    "import scrapbook as sb\n",
    "from statistics import mean \n",
    "import catboost as ctb \n",
    "from sklearn.model_selection import train_test_split\n",
    "from sklearn.metrics import mean_squared_error,mean_absolute_error\n",
    "import numpy as np"
   ]
  },
  {
   "cell_type": "markdown",
   "id": "2fa5b0f7",
   "metadata": {
    "id": "2fa5b0f7",
    "papermill": {
     "duration": 0.007207,
     "end_time": "2022-06-11T14:09:25.609880",
     "exception": false,
     "start_time": "2022-06-11T14:09:25.602673",
     "status": "completed"
    },
    "tags": []
   },
   "source": [
    "## Parameters "
   ]
  },
  {
   "cell_type": "code",
   "execution_count": 3,
   "id": "783186fb",
   "metadata": {
    "execution": {
     "iopub.execute_input": "2022-06-11T14:09:25.625939Z",
     "iopub.status.busy": "2022-06-11T14:09:25.625550Z",
     "iopub.status.idle": "2022-06-11T14:09:25.626747Z",
     "shell.execute_reply": "2022-06-11T14:09:25.626991Z"
    },
    "id": "783186fb",
    "papermill": {
     "duration": 0.010577,
     "end_time": "2022-06-11T14:09:25.627105",
     "exception": false,
     "start_time": "2022-06-11T14:09:25.616528",
     "status": "completed"
    },
    "tags": [
     "parameters"
    ]
   },
   "outputs": [],
   "source": [
    "variance = 1\n",
    "bias = 1 "
   ]
  },
  {
   "cell_type": "code",
   "execution_count": 4,
   "id": "2b5353f4",
   "metadata": {
    "execution": {
     "iopub.execute_input": "2022-06-11T14:09:25.642940Z",
     "iopub.status.busy": "2022-06-11T14:09:25.642575Z",
     "iopub.status.idle": "2022-06-11T14:09:25.643782Z",
     "shell.execute_reply": "2022-06-11T14:09:25.644066Z"
    },
    "papermill": {
     "duration": 0.0102,
     "end_time": "2022-06-11T14:09:25.644173",
     "exception": false,
     "start_time": "2022-06-11T14:09:25.633973",
     "status": "completed"
    },
    "tags": [
     "injected-parameters"
    ]
   },
   "outputs": [],
   "source": [
    "# Parameters\n",
    "variance = 0.1\n",
    "bias = 1\n"
   ]
  },
  {
   "cell_type": "markdown",
   "id": "391cdbfd",
   "metadata": {
    "id": "391cdbfd",
    "papermill": {
     "duration": 0.006719,
     "end_time": "2022-06-11T14:09:25.657706",
     "exception": false,
     "start_time": "2022-06-11T14:09:25.650987",
     "status": "completed"
    },
    "tags": []
   },
   "source": [
    "## Dataset \n"
   ]
  },
  {
   "cell_type": "code",
   "execution_count": 5,
   "id": "5b51f161",
   "metadata": {
    "execution": {
     "iopub.execute_input": "2022-06-11T14:09:25.673153Z",
     "iopub.status.busy": "2022-06-11T14:09:25.672780Z",
     "iopub.status.idle": "2022-06-11T14:09:25.673991Z",
     "shell.execute_reply": "2022-06-11T14:09:25.674232Z"
    },
    "id": "5b51f161",
    "papermill": {
     "duration": 0.009861,
     "end_time": "2022-06-11T14:09:25.674338",
     "exception": false,
     "start_time": "2022-06-11T14:09:25.664477",
     "status": "completed"
    },
    "tags": []
   },
   "outputs": [],
   "source": [
    "#Parameters \n",
    "n_features = 13\n",
    "n_samples= 506\n",
    "n_target = 1 "
   ]
  },
  {
   "cell_type": "code",
   "execution_count": 6,
   "id": "5d6eced4",
   "metadata": {
    "execution": {
     "iopub.execute_input": "2022-06-11T14:09:25.690261Z",
     "iopub.status.busy": "2022-06-11T14:09:25.689855Z",
     "iopub.status.idle": "2022-06-11T14:09:25.701091Z",
     "shell.execute_reply": "2022-06-11T14:09:25.701340Z"
    },
    "id": "5d6eced4",
    "papermill": {
     "duration": 0.020257,
     "end_time": "2022-06-11T14:09:25.701460",
     "exception": false,
     "start_time": "2022-06-11T14:09:25.681203",
     "status": "completed"
    },
    "tags": []
   },
   "outputs": [
    {
     "name": "stdout",
     "output_type": "stream",
     "text": [
      "         X1        X2        X3        X4        X5        X6        X7  \\\n",
      "0 -0.419782  0.284830 -1.287909 -0.272599 -0.144217  0.413672 -0.120013   \n",
      "1 -0.417339 -0.487722 -0.593381 -0.272599 -0.740262  0.194274  0.367166   \n",
      "2 -0.417342 -0.487722 -0.593381 -0.272599 -0.740262  1.282714 -0.265812   \n",
      "3 -0.416750 -0.487722 -1.306878 -0.272599 -0.835284  1.016303 -0.809889   \n",
      "4 -0.412482 -0.487722 -1.306878 -0.272599 -0.835284  1.228577 -0.511180   \n",
      "\n",
      "         X8        X9       X10       X11       X12       X13         Y  \n",
      "0  0.140214 -0.982843 -0.666608 -1.459000  0.441052 -1.075562  0.159686  \n",
      "1  0.557160 -0.867883 -0.987329 -0.303094  0.441052 -0.492439 -0.101524  \n",
      "2  0.557160 -0.867883 -0.987329 -0.303094  0.396427 -1.208727  1.324247  \n",
      "3  1.077737 -0.752922 -1.106115  0.113032  0.416163 -1.361517  1.182758  \n",
      "4  1.077737 -0.752922 -1.106115  0.113032  0.441052 -1.026501  1.487503  \n"
     ]
    }
   ],
   "source": [
    "X,Y = bostonDataset.boston_data()"
   ]
  },
  {
   "cell_type": "code",
   "execution_count": 7,
   "id": "fe007438",
   "metadata": {
    "execution": {
     "iopub.execute_input": "2022-06-11T14:09:25.719719Z",
     "iopub.status.busy": "2022-06-11T14:09:25.719328Z",
     "iopub.status.idle": "2022-06-11T14:09:25.720856Z",
     "shell.execute_reply": "2022-06-11T14:09:25.720590Z"
    },
    "id": "fe007438",
    "papermill": {
     "duration": 0.011902,
     "end_time": "2022-06-11T14:09:25.720959",
     "exception": false,
     "start_time": "2022-06-11T14:09:25.709057",
     "status": "completed"
    },
    "tags": []
   },
   "outputs": [],
   "source": [
    "#Train test split for dataset \n",
    "X_train,X_test,Y_train,Y_test = train_test_split(X,Y,test_size = 0.2)\n",
    "train_data = dataset.CustomDataset(X_train,Y_train)\n",
    "test_data = dataset.CustomDataset(X_test,Y_test)\n"
   ]
  },
  {
   "cell_type": "markdown",
   "id": "a9a1af34",
   "metadata": {
    "id": "a9a1af34",
    "papermill": {
     "duration": 0.006981,
     "end_time": "2022-06-11T14:09:25.735298",
     "exception": false,
     "start_time": "2022-06-11T14:09:25.728317",
     "status": "completed"
    },
    "tags": []
   },
   "source": [
    "## Training Parameters "
   ]
  },
  {
   "cell_type": "code",
   "execution_count": 8,
   "id": "952b7fc8",
   "metadata": {
    "execution": {
     "iopub.execute_input": "2022-06-11T14:09:25.751841Z",
     "iopub.status.busy": "2022-06-11T14:09:25.751478Z",
     "iopub.status.idle": "2022-06-11T14:09:25.752774Z",
     "shell.execute_reply": "2022-06-11T14:09:25.753082Z"
    },
    "id": "952b7fc8",
    "papermill": {
     "duration": 0.010814,
     "end_time": "2022-06-11T14:09:25.753195",
     "exception": false,
     "start_time": "2022-06-11T14:09:25.742381",
     "status": "completed"
    },
    "tags": []
   },
   "outputs": [],
   "source": [
    "batch_size = 32\n",
    "n_epochs = 1000\n",
    "#Select the device \n",
    "device = torch.device('cuda' if torch.cuda.is_available() else 'cpu')"
   ]
  },
  {
   "cell_type": "markdown",
   "id": "a95e1600",
   "metadata": {
    "id": "a95e1600",
    "papermill": {
     "duration": 0.007395,
     "end_time": "2022-06-11T14:09:25.768046",
     "exception": false,
     "start_time": "2022-06-11T14:09:25.760651",
     "status": "completed"
    },
    "tags": []
   },
   "source": [
    "# ABC Pre-generator Model \n",
    "\n",
    "1. The catboost model is used as a pre-generator model for the ABC-GAN. \n",
    "2. The model is first trained on the entire dataset \n",
    "3. It generats X,Y pairs and we add some Gaussian noise with mean 0 and variance 1 to it which is then feed as input to the generator.\n"
   ]
  },
  {
   "cell_type": "code",
   "execution_count": 9,
   "id": "ff8ce7bd",
   "metadata": {
    "execution": {
     "iopub.execute_input": "2022-06-11T14:09:25.788298Z",
     "iopub.status.busy": "2022-06-11T14:09:25.787848Z",
     "iopub.status.idle": "2022-06-11T14:09:26.810266Z",
     "shell.execute_reply": "2022-06-11T14:09:26.810569Z"
    },
    "id": "ff8ce7bd",
    "papermill": {
     "duration": 1.035172,
     "end_time": "2022-06-11T14:09:26.810691",
     "exception": false,
     "start_time": "2022-06-11T14:09:25.775519",
     "status": "completed"
    },
    "tags": []
   },
   "outputs": [
    {
     "name": "stdout",
     "output_type": "stream",
     "text": [
      "Learning rate set to 0.033215\n",
      "0:\tlearn: 0.9741921\ttotal: 58.4ms\tremaining: 58.3s\n",
      "1:\tlearn: 0.9554355\ttotal: 59.6ms\tremaining: 29.7s\n",
      "2:\tlearn: 0.9363590\ttotal: 60.7ms\tremaining: 20.2s\n",
      "3:\tlearn: 0.9205124\ttotal: 61.8ms\tremaining: 15.4s\n",
      "4:\tlearn: 0.9056136\ttotal: 62.9ms\tremaining: 12.5s\n",
      "5:\tlearn: 0.8901655\ttotal: 64ms\tremaining: 10.6s\n",
      "6:\tlearn: 0.8743311\ttotal: 65ms\tremaining: 9.23s\n",
      "7:\tlearn: 0.8587479\ttotal: 65.9ms\tremaining: 8.18s\n",
      "8:\tlearn: 0.8436995\ttotal: 66.9ms\tremaining: 7.37s\n",
      "9:\tlearn: 0.8269150\ttotal: 67.8ms\tremaining: 6.71s\n",
      "10:\tlearn: 0.8115099\ttotal: 68.8ms\tremaining: 6.19s\n",
      "11:\tlearn: 0.7976493\ttotal: 69.8ms\tremaining: 5.75s\n",
      "12:\tlearn: 0.7832164\ttotal: 70.8ms\tremaining: 5.37s\n",
      "13:\tlearn: 0.7687639\ttotal: 71.7ms\tremaining: 5.05s\n",
      "14:\tlearn: 0.7573833\ttotal: 72.7ms\tremaining: 4.77s\n",
      "15:\tlearn: 0.7449150\ttotal: 73.5ms\tremaining: 4.52s\n",
      "16:\tlearn: 0.7318205\ttotal: 74.3ms\tremaining: 4.29s\n",
      "17:\tlearn: 0.7201282\ttotal: 75.2ms\tremaining: 4.1s\n",
      "18:\tlearn: 0.7080342\ttotal: 76.1ms\tremaining: 3.93s\n",
      "19:\tlearn: 0.6962413\ttotal: 77ms\tremaining: 3.77s\n",
      "20:\tlearn: 0.6835523\ttotal: 77.8ms\tremaining: 3.63s\n",
      "21:\tlearn: 0.6741580\ttotal: 78.7ms\tremaining: 3.5s\n",
      "22:\tlearn: 0.6629937\ttotal: 79.6ms\tremaining: 3.38s\n",
      "23:\tlearn: 0.6532855\ttotal: 80.5ms\tremaining: 3.27s\n",
      "24:\tlearn: 0.6439890\ttotal: 81.4ms\tremaining: 3.17s\n",
      "25:\tlearn: 0.6364278\ttotal: 82.3ms\tremaining: 3.08s\n",
      "26:\tlearn: 0.6282244\ttotal: 83.3ms\tremaining: 3s\n",
      "27:\tlearn: 0.6188777\ttotal: 84.1ms\tremaining: 2.92s\n",
      "28:\tlearn: 0.6100048\ttotal: 85ms\tremaining: 2.85s\n",
      "29:\tlearn: 0.6004473\ttotal: 85.9ms\tremaining: 2.78s\n",
      "30:\tlearn: 0.5904151\ttotal: 86.7ms\tremaining: 2.71s\n",
      "31:\tlearn: 0.5824709\ttotal: 87.5ms\tremaining: 2.65s\n",
      "32:\tlearn: 0.5747004\ttotal: 88.4ms\tremaining: 2.59s\n",
      "33:\tlearn: 0.5674390\ttotal: 89.3ms\tremaining: 2.54s\n",
      "34:\tlearn: 0.5617394\ttotal: 90ms\tremaining: 2.48s\n",
      "35:\tlearn: 0.5547654\ttotal: 90.8ms\tremaining: 2.43s\n",
      "36:\tlearn: 0.5489218\ttotal: 91.6ms\tremaining: 2.38s\n",
      "37:\tlearn: 0.5422785\ttotal: 92.4ms\tremaining: 2.34s\n",
      "38:\tlearn: 0.5353120\ttotal: 93.3ms\tremaining: 2.3s\n",
      "39:\tlearn: 0.5288851\ttotal: 94.1ms\tremaining: 2.26s\n",
      "40:\tlearn: 0.5225576\ttotal: 95ms\tremaining: 2.22s\n",
      "41:\tlearn: 0.5156518\ttotal: 95.8ms\tremaining: 2.18s\n",
      "42:\tlearn: 0.5107638\ttotal: 96.7ms\tremaining: 2.15s\n",
      "43:\tlearn: 0.5058568\ttotal: 97.6ms\tremaining: 2.12s\n",
      "44:\tlearn: 0.4997060\ttotal: 98.6ms\tremaining: 2.09s\n",
      "45:\tlearn: 0.4930508\ttotal: 99.6ms\tremaining: 2.06s\n",
      "46:\tlearn: 0.4880648\ttotal: 101ms\tremaining: 2.04s\n",
      "47:\tlearn: 0.4823286\ttotal: 102ms\tremaining: 2.02s\n",
      "48:\tlearn: 0.4775894\ttotal: 103ms\tremaining: 2s\n",
      "49:\tlearn: 0.4720431\ttotal: 104ms\tremaining: 1.98s\n",
      "50:\tlearn: 0.4672187\ttotal: 105ms\tremaining: 1.96s\n"
     ]
    },
    {
     "name": "stdout",
     "output_type": "stream",
     "text": [
      "51:\tlearn: 0.4635262\ttotal: 107ms\tremaining: 1.95s\n",
      "52:\tlearn: 0.4586525\ttotal: 108ms\tremaining: 1.93s\n",
      "53:\tlearn: 0.4553886\ttotal: 109ms\tremaining: 1.91s\n",
      "54:\tlearn: 0.4503699\ttotal: 110ms\tremaining: 1.89s\n",
      "55:\tlearn: 0.4463935\ttotal: 111ms\tremaining: 1.87s\n",
      "56:\tlearn: 0.4431039\ttotal: 112ms\tremaining: 1.85s\n",
      "57:\tlearn: 0.4385443\ttotal: 113ms\tremaining: 1.83s\n",
      "58:\tlearn: 0.4354021\ttotal: 114ms\tremaining: 1.81s\n",
      "59:\tlearn: 0.4308483\ttotal: 115ms\tremaining: 1.8s\n",
      "60:\tlearn: 0.4269928\ttotal: 115ms\tremaining: 1.78s\n",
      "61:\tlearn: 0.4230296\ttotal: 116ms\tremaining: 1.76s\n",
      "62:\tlearn: 0.4195787\ttotal: 117ms\tremaining: 1.74s\n",
      "63:\tlearn: 0.4157440\ttotal: 118ms\tremaining: 1.73s\n",
      "64:\tlearn: 0.4122576\ttotal: 119ms\tremaining: 1.72s\n",
      "65:\tlearn: 0.4096398\ttotal: 120ms\tremaining: 1.7s\n",
      "66:\tlearn: 0.4068277\ttotal: 121ms\tremaining: 1.69s\n",
      "67:\tlearn: 0.4031719\ttotal: 122ms\tremaining: 1.67s\n",
      "68:\tlearn: 0.4005983\ttotal: 123ms\tremaining: 1.66s\n",
      "69:\tlearn: 0.3979806\ttotal: 124ms\tremaining: 1.64s\n",
      "70:\tlearn: 0.3948808\ttotal: 125ms\tremaining: 1.63s\n",
      "71:\tlearn: 0.3923529\ttotal: 126ms\tremaining: 1.62s\n",
      "72:\tlearn: 0.3889300\ttotal: 126ms\tremaining: 1.6s\n",
      "73:\tlearn: 0.3852153\ttotal: 127ms\tremaining: 1.59s\n",
      "74:\tlearn: 0.3830352\ttotal: 128ms\tremaining: 1.58s\n",
      "75:\tlearn: 0.3796837\ttotal: 129ms\tremaining: 1.57s\n",
      "76:\tlearn: 0.3770371\ttotal: 130ms\tremaining: 1.56s\n",
      "77:\tlearn: 0.3742597\ttotal: 131ms\tremaining: 1.55s\n",
      "78:\tlearn: 0.3715408\ttotal: 132ms\tremaining: 1.54s\n",
      "79:\tlearn: 0.3693026\ttotal: 133ms\tremaining: 1.52s\n",
      "80:\tlearn: 0.3666938\ttotal: 133ms\tremaining: 1.51s\n",
      "81:\tlearn: 0.3641101\ttotal: 134ms\tremaining: 1.5s\n",
      "82:\tlearn: 0.3624791\ttotal: 135ms\tremaining: 1.49s\n",
      "83:\tlearn: 0.3599433\ttotal: 136ms\tremaining: 1.49s\n",
      "84:\tlearn: 0.3578323\ttotal: 137ms\tremaining: 1.48s\n",
      "85:\tlearn: 0.3551787\ttotal: 139ms\tremaining: 1.47s\n",
      "86:\tlearn: 0.3525273\ttotal: 140ms\tremaining: 1.47s\n",
      "87:\tlearn: 0.3503820\ttotal: 141ms\tremaining: 1.46s\n",
      "88:\tlearn: 0.3487749\ttotal: 142ms\tremaining: 1.45s\n",
      "89:\tlearn: 0.3467086\ttotal: 142ms\tremaining: 1.44s\n",
      "90:\tlearn: 0.3442116\ttotal: 143ms\tremaining: 1.43s\n",
      "91:\tlearn: 0.3423671\ttotal: 144ms\tremaining: 1.42s\n",
      "92:\tlearn: 0.3408538\ttotal: 145ms\tremaining: 1.42s\n",
      "93:\tlearn: 0.3389903\ttotal: 146ms\tremaining: 1.41s\n",
      "94:\tlearn: 0.3369772\ttotal: 147ms\tremaining: 1.4s\n",
      "95:\tlearn: 0.3362527\ttotal: 148ms\tremaining: 1.39s\n",
      "96:\tlearn: 0.3336540\ttotal: 149ms\tremaining: 1.39s\n",
      "97:\tlearn: 0.3320263\ttotal: 150ms\tremaining: 1.38s\n",
      "98:\tlearn: 0.3303005\ttotal: 150ms\tremaining: 1.37s\n",
      "99:\tlearn: 0.3289206\ttotal: 151ms\tremaining: 1.36s\n",
      "100:\tlearn: 0.3267670\ttotal: 152ms\tremaining: 1.35s\n",
      "101:\tlearn: 0.3248941\ttotal: 153ms\tremaining: 1.35s\n",
      "102:\tlearn: 0.3234432\ttotal: 154ms\tremaining: 1.34s\n",
      "103:\tlearn: 0.3214763\ttotal: 155ms\tremaining: 1.33s\n",
      "104:\tlearn: 0.3201349\ttotal: 156ms\tremaining: 1.33s\n",
      "105:\tlearn: 0.3182719\ttotal: 157ms\tremaining: 1.32s\n",
      "106:\tlearn: 0.3167769\ttotal: 158ms\tremaining: 1.32s\n",
      "107:\tlearn: 0.3146496\ttotal: 159ms\tremaining: 1.31s\n",
      "108:\tlearn: 0.3133646\ttotal: 159ms\tremaining: 1.3s\n",
      "109:\tlearn: 0.3122031\ttotal: 160ms\tremaining: 1.3s\n",
      "110:\tlearn: 0.3107923\ttotal: 161ms\tremaining: 1.29s\n",
      "111:\tlearn: 0.3094246\ttotal: 162ms\tremaining: 1.29s\n",
      "112:\tlearn: 0.3079738\ttotal: 163ms\tremaining: 1.28s\n",
      "113:\tlearn: 0.3066011\ttotal: 164ms\tremaining: 1.27s\n",
      "114:\tlearn: 0.3050692\ttotal: 165ms\tremaining: 1.27s\n",
      "115:\tlearn: 0.3038560\ttotal: 166ms\tremaining: 1.26s\n",
      "116:\tlearn: 0.3025291\ttotal: 167ms\tremaining: 1.26s\n",
      "117:\tlearn: 0.3010407\ttotal: 167ms\tremaining: 1.25s\n",
      "118:\tlearn: 0.3000729\ttotal: 168ms\tremaining: 1.25s\n",
      "119:\tlearn: 0.2989300\ttotal: 169ms\tremaining: 1.24s\n",
      "120:\tlearn: 0.2980765\ttotal: 170ms\tremaining: 1.24s\n",
      "121:\tlearn: 0.2967883\ttotal: 171ms\tremaining: 1.23s\n",
      "122:\tlearn: 0.2956541\ttotal: 172ms\tremaining: 1.23s\n",
      "123:\tlearn: 0.2945882\ttotal: 173ms\tremaining: 1.22s\n",
      "124:\tlearn: 0.2936142\ttotal: 174ms\tremaining: 1.21s\n",
      "125:\tlearn: 0.2925237\ttotal: 175ms\tremaining: 1.21s\n",
      "126:\tlearn: 0.2914091\ttotal: 175ms\tremaining: 1.21s\n",
      "127:\tlearn: 0.2903873\ttotal: 176ms\tremaining: 1.2s\n",
      "128:\tlearn: 0.2893124\ttotal: 177ms\tremaining: 1.2s\n",
      "129:\tlearn: 0.2884680\ttotal: 178ms\tremaining: 1.19s\n",
      "130:\tlearn: 0.2874516\ttotal: 179ms\tremaining: 1.19s\n",
      "131:\tlearn: 0.2866297\ttotal: 180ms\tremaining: 1.18s\n",
      "132:\tlearn: 0.2857793\ttotal: 180ms\tremaining: 1.18s\n",
      "133:\tlearn: 0.2849995\ttotal: 181ms\tremaining: 1.17s\n",
      "134:\tlearn: 0.2837649\ttotal: 182ms\tremaining: 1.17s\n",
      "135:\tlearn: 0.2829496\ttotal: 183ms\tremaining: 1.16s\n",
      "136:\tlearn: 0.2822221\ttotal: 184ms\tremaining: 1.16s\n",
      "137:\tlearn: 0.2814264\ttotal: 185ms\tremaining: 1.15s\n",
      "138:\tlearn: 0.2809987\ttotal: 186ms\tremaining: 1.15s\n",
      "139:\tlearn: 0.2803604\ttotal: 187ms\tremaining: 1.15s\n",
      "140:\tlearn: 0.2793417\ttotal: 187ms\tremaining: 1.14s\n",
      "141:\tlearn: 0.2783952\ttotal: 188ms\tremaining: 1.14s\n",
      "142:\tlearn: 0.2774394\ttotal: 189ms\tremaining: 1.13s\n",
      "143:\tlearn: 0.2762169\ttotal: 190ms\tremaining: 1.13s\n",
      "144:\tlearn: 0.2750959\ttotal: 191ms\tremaining: 1.13s\n"
     ]
    },
    {
     "name": "stdout",
     "output_type": "stream",
     "text": [
      "145:\tlearn: 0.2743735\ttotal: 192ms\tremaining: 1.12s\n",
      "146:\tlearn: 0.2732708\ttotal: 193ms\tremaining: 1.12s\n",
      "147:\tlearn: 0.2721644\ttotal: 194ms\tremaining: 1.12s\n",
      "148:\tlearn: 0.2707857\ttotal: 195ms\tremaining: 1.11s\n",
      "149:\tlearn: 0.2697723\ttotal: 196ms\tremaining: 1.11s\n",
      "150:\tlearn: 0.2687405\ttotal: 197ms\tremaining: 1.1s\n",
      "151:\tlearn: 0.2675834\ttotal: 197ms\tremaining: 1.1s\n",
      "152:\tlearn: 0.2662293\ttotal: 198ms\tremaining: 1.1s\n",
      "153:\tlearn: 0.2655083\ttotal: 199ms\tremaining: 1.09s\n",
      "154:\tlearn: 0.2645865\ttotal: 200ms\tremaining: 1.09s\n",
      "155:\tlearn: 0.2640463\ttotal: 201ms\tremaining: 1.09s\n",
      "156:\tlearn: 0.2632664\ttotal: 202ms\tremaining: 1.08s\n",
      "157:\tlearn: 0.2625708\ttotal: 203ms\tremaining: 1.08s\n",
      "158:\tlearn: 0.2617729\ttotal: 204ms\tremaining: 1.08s\n",
      "159:\tlearn: 0.2611328\ttotal: 204ms\tremaining: 1.07s\n",
      "160:\tlearn: 0.2601306\ttotal: 205ms\tremaining: 1.07s\n",
      "161:\tlearn: 0.2596649\ttotal: 206ms\tremaining: 1.07s\n",
      "162:\tlearn: 0.2590312\ttotal: 207ms\tremaining: 1.06s\n",
      "163:\tlearn: 0.2580369\ttotal: 208ms\tremaining: 1.06s\n",
      "164:\tlearn: 0.2576531\ttotal: 209ms\tremaining: 1.06s\n",
      "165:\tlearn: 0.2567677\ttotal: 210ms\tremaining: 1.05s\n",
      "166:\tlearn: 0.2559266\ttotal: 211ms\tremaining: 1.05s\n",
      "167:\tlearn: 0.2551912\ttotal: 211ms\tremaining: 1.05s\n",
      "168:\tlearn: 0.2543887\ttotal: 212ms\tremaining: 1.04s\n",
      "169:\tlearn: 0.2534351\ttotal: 213ms\tremaining: 1.04s\n",
      "170:\tlearn: 0.2526287\ttotal: 214ms\tremaining: 1.04s\n",
      "171:\tlearn: 0.2519937\ttotal: 215ms\tremaining: 1.03s\n",
      "172:\tlearn: 0.2514212\ttotal: 216ms\tremaining: 1.03s\n",
      "173:\tlearn: 0.2510915\ttotal: 217ms\tremaining: 1.03s\n",
      "174:\tlearn: 0.2504275\ttotal: 218ms\tremaining: 1.03s\n",
      "175:\tlearn: 0.2500214\ttotal: 218ms\tremaining: 1.02s\n",
      "176:\tlearn: 0.2494137\ttotal: 219ms\tremaining: 1.02s\n",
      "177:\tlearn: 0.2489958\ttotal: 220ms\tremaining: 1.02s\n",
      "178:\tlearn: 0.2481610\ttotal: 221ms\tremaining: 1.01s\n",
      "179:\tlearn: 0.2474330\ttotal: 222ms\tremaining: 1.01s\n",
      "180:\tlearn: 0.2465473\ttotal: 223ms\tremaining: 1.01s\n",
      "181:\tlearn: 0.2459979\ttotal: 224ms\tremaining: 1.01s\n",
      "182:\tlearn: 0.2455526\ttotal: 225ms\tremaining: 1.01s\n",
      "183:\tlearn: 0.2446412\ttotal: 226ms\tremaining: 1s\n",
      "184:\tlearn: 0.2438957\ttotal: 227ms\tremaining: 1s\n",
      "185:\tlearn: 0.2431651\ttotal: 228ms\tremaining: 997ms\n",
      "186:\tlearn: 0.2423596\ttotal: 229ms\tremaining: 995ms\n",
      "187:\tlearn: 0.2416983\ttotal: 230ms\tremaining: 992ms\n",
      "188:\tlearn: 0.2410158\ttotal: 231ms\tremaining: 989ms\n",
      "189:\tlearn: 0.2402679\ttotal: 231ms\tremaining: 986ms\n",
      "190:\tlearn: 0.2396515\ttotal: 232ms\tremaining: 984ms\n",
      "191:\tlearn: 0.2391119\ttotal: 233ms\tremaining: 981ms\n",
      "192:\tlearn: 0.2382491\ttotal: 234ms\tremaining: 979ms\n",
      "193:\tlearn: 0.2376661\ttotal: 235ms\tremaining: 977ms\n",
      "194:\tlearn: 0.2368180\ttotal: 236ms\tremaining: 974ms\n",
      "195:\tlearn: 0.2359839\ttotal: 237ms\tremaining: 972ms\n",
      "196:\tlearn: 0.2355371\ttotal: 238ms\tremaining: 969ms\n",
      "197:\tlearn: 0.2350763\ttotal: 239ms\tremaining: 967ms\n",
      "198:\tlearn: 0.2346320\ttotal: 240ms\tremaining: 964ms\n",
      "199:\tlearn: 0.2340724\ttotal: 240ms\tremaining: 962ms\n",
      "200:\tlearn: 0.2335312\ttotal: 241ms\tremaining: 959ms\n",
      "201:\tlearn: 0.2327782\ttotal: 242ms\tremaining: 957ms\n",
      "202:\tlearn: 0.2323026\ttotal: 243ms\tremaining: 955ms\n",
      "203:\tlearn: 0.2317505\ttotal: 244ms\tremaining: 952ms\n",
      "204:\tlearn: 0.2311920\ttotal: 245ms\tremaining: 950ms\n",
      "205:\tlearn: 0.2304574\ttotal: 246ms\tremaining: 947ms\n",
      "206:\tlearn: 0.2298769\ttotal: 246ms\tremaining: 944ms\n",
      "207:\tlearn: 0.2294969\ttotal: 247ms\tremaining: 941ms\n",
      "208:\tlearn: 0.2289261\ttotal: 248ms\tremaining: 939ms\n",
      "209:\tlearn: 0.2281316\ttotal: 249ms\tremaining: 937ms\n",
      "210:\tlearn: 0.2275444\ttotal: 250ms\tremaining: 935ms\n",
      "211:\tlearn: 0.2270244\ttotal: 251ms\tremaining: 932ms\n",
      "212:\tlearn: 0.2261368\ttotal: 252ms\tremaining: 931ms\n",
      "213:\tlearn: 0.2255099\ttotal: 253ms\tremaining: 929ms\n",
      "214:\tlearn: 0.2248331\ttotal: 254ms\tremaining: 927ms\n",
      "215:\tlearn: 0.2243147\ttotal: 255ms\tremaining: 924ms\n",
      "216:\tlearn: 0.2237965\ttotal: 256ms\tremaining: 922ms\n",
      "217:\tlearn: 0.2230065\ttotal: 257ms\tremaining: 921ms\n",
      "218:\tlearn: 0.2223663\ttotal: 258ms\tremaining: 919ms\n",
      "219:\tlearn: 0.2220426\ttotal: 259ms\tremaining: 918ms\n",
      "220:\tlearn: 0.2214800\ttotal: 260ms\tremaining: 916ms\n",
      "221:\tlearn: 0.2212310\ttotal: 261ms\tremaining: 915ms\n",
      "222:\tlearn: 0.2204845\ttotal: 262ms\tremaining: 913ms\n",
      "223:\tlearn: 0.2198647\ttotal: 263ms\tremaining: 911ms\n",
      "224:\tlearn: 0.2193765\ttotal: 264ms\tremaining: 909ms\n",
      "225:\tlearn: 0.2188023\ttotal: 265ms\tremaining: 907ms\n",
      "226:\tlearn: 0.2181661\ttotal: 266ms\tremaining: 904ms\n",
      "227:\tlearn: 0.2176935\ttotal: 266ms\tremaining: 902ms\n",
      "228:\tlearn: 0.2171506\ttotal: 267ms\tremaining: 900ms\n",
      "229:\tlearn: 0.2165020\ttotal: 268ms\tremaining: 897ms\n",
      "230:\tlearn: 0.2159017\ttotal: 269ms\tremaining: 896ms\n",
      "231:\tlearn: 0.2155645\ttotal: 270ms\tremaining: 893ms\n",
      "232:\tlearn: 0.2150325\ttotal: 271ms\tremaining: 891ms\n",
      "233:\tlearn: 0.2145852\ttotal: 272ms\tremaining: 890ms\n",
      "234:\tlearn: 0.2140458\ttotal: 273ms\tremaining: 888ms\n",
      "235:\tlearn: 0.2132610\ttotal: 274ms\tremaining: 886ms\n",
      "236:\tlearn: 0.2128977\ttotal: 274ms\tremaining: 884ms\n",
      "237:\tlearn: 0.2125416\ttotal: 275ms\tremaining: 881ms\n",
      "238:\tlearn: 0.2120089\ttotal: 276ms\tremaining: 879ms\n",
      "239:\tlearn: 0.2114692\ttotal: 277ms\tremaining: 878ms\n",
      "240:\tlearn: 0.2107094\ttotal: 278ms\tremaining: 876ms\n",
      "241:\tlearn: 0.2103107\ttotal: 279ms\tremaining: 874ms\n",
      "242:\tlearn: 0.2098725\ttotal: 280ms\tremaining: 872ms\n",
      "243:\tlearn: 0.2094156\ttotal: 281ms\tremaining: 870ms\n",
      "244:\tlearn: 0.2086606\ttotal: 282ms\tremaining: 868ms\n",
      "245:\tlearn: 0.2081304\ttotal: 282ms\tremaining: 866ms\n",
      "246:\tlearn: 0.2076019\ttotal: 283ms\tremaining: 864ms\n",
      "247:\tlearn: 0.2069424\ttotal: 284ms\tremaining: 862ms\n",
      "248:\tlearn: 0.2063951\ttotal: 285ms\tremaining: 860ms\n",
      "249:\tlearn: 0.2056958\ttotal: 286ms\tremaining: 858ms\n",
      "250:\tlearn: 0.2052086\ttotal: 287ms\tremaining: 858ms\n",
      "251:\tlearn: 0.2047808\ttotal: 288ms\tremaining: 855ms\n",
      "252:\tlearn: 0.2043835\ttotal: 289ms\tremaining: 853ms\n",
      "253:\tlearn: 0.2039477\ttotal: 290ms\tremaining: 852ms\n",
      "254:\tlearn: 0.2034276\ttotal: 291ms\tremaining: 850ms\n",
      "255:\tlearn: 0.2029850\ttotal: 292ms\tremaining: 848ms\n",
      "256:\tlearn: 0.2027539\ttotal: 293ms\tremaining: 846ms\n",
      "257:\tlearn: 0.2023560\ttotal: 294ms\tremaining: 844ms\n",
      "258:\tlearn: 0.2018503\ttotal: 294ms\tremaining: 842ms\n",
      "259:\tlearn: 0.2014768\ttotal: 295ms\tremaining: 841ms\n",
      "260:\tlearn: 0.2009673\ttotal: 296ms\tremaining: 839ms\n",
      "261:\tlearn: 0.2006827\ttotal: 297ms\tremaining: 837ms\n"
     ]
    },
    {
     "name": "stdout",
     "output_type": "stream",
     "text": [
      "262:\tlearn: 0.2003221\ttotal: 298ms\tremaining: 836ms\n",
      "263:\tlearn: 0.1997772\ttotal: 299ms\tremaining: 835ms\n",
      "264:\tlearn: 0.1991183\ttotal: 300ms\tremaining: 833ms\n",
      "265:\tlearn: 0.1987000\ttotal: 301ms\tremaining: 832ms\n",
      "266:\tlearn: 0.1981749\ttotal: 302ms\tremaining: 830ms\n",
      "267:\tlearn: 0.1978367\ttotal: 303ms\tremaining: 828ms\n",
      "268:\tlearn: 0.1972285\ttotal: 304ms\tremaining: 827ms\n",
      "269:\tlearn: 0.1968444\ttotal: 305ms\tremaining: 825ms\n",
      "270:\tlearn: 0.1962272\ttotal: 306ms\tremaining: 824ms\n",
      "271:\tlearn: 0.1956555\ttotal: 307ms\tremaining: 822ms\n",
      "272:\tlearn: 0.1949166\ttotal: 308ms\tremaining: 820ms\n",
      "273:\tlearn: 0.1945167\ttotal: 309ms\tremaining: 818ms\n",
      "274:\tlearn: 0.1938278\ttotal: 310ms\tremaining: 817ms\n",
      "275:\tlearn: 0.1932435\ttotal: 311ms\tremaining: 815ms\n",
      "276:\tlearn: 0.1928136\ttotal: 311ms\tremaining: 813ms\n",
      "277:\tlearn: 0.1922907\ttotal: 312ms\tremaining: 811ms\n",
      "278:\tlearn: 0.1916671\ttotal: 313ms\tremaining: 809ms\n",
      "279:\tlearn: 0.1912029\ttotal: 314ms\tremaining: 808ms\n",
      "280:\tlearn: 0.1907430\ttotal: 316ms\tremaining: 808ms\n",
      "281:\tlearn: 0.1902165\ttotal: 317ms\tremaining: 806ms\n",
      "282:\tlearn: 0.1897031\ttotal: 317ms\tremaining: 804ms\n",
      "283:\tlearn: 0.1891949\ttotal: 318ms\tremaining: 802ms\n",
      "284:\tlearn: 0.1887893\ttotal: 319ms\tremaining: 800ms\n",
      "285:\tlearn: 0.1883142\ttotal: 320ms\tremaining: 799ms\n",
      "286:\tlearn: 0.1880113\ttotal: 321ms\tremaining: 797ms\n",
      "287:\tlearn: 0.1873990\ttotal: 322ms\tremaining: 795ms\n",
      "288:\tlearn: 0.1867968\ttotal: 323ms\tremaining: 794ms\n",
      "289:\tlearn: 0.1861655\ttotal: 323ms\tremaining: 792ms\n",
      "290:\tlearn: 0.1857785\ttotal: 324ms\tremaining: 790ms\n",
      "291:\tlearn: 0.1852377\ttotal: 325ms\tremaining: 788ms\n",
      "292:\tlearn: 0.1848094\ttotal: 326ms\tremaining: 786ms\n",
      "293:\tlearn: 0.1843677\ttotal: 327ms\tremaining: 785ms\n",
      "294:\tlearn: 0.1838913\ttotal: 328ms\tremaining: 783ms\n",
      "295:\tlearn: 0.1834816\ttotal: 329ms\tremaining: 781ms\n",
      "296:\tlearn: 0.1830143\ttotal: 329ms\tremaining: 780ms\n",
      "297:\tlearn: 0.1826690\ttotal: 330ms\tremaining: 778ms\n",
      "298:\tlearn: 0.1821703\ttotal: 331ms\tremaining: 776ms\n",
      "299:\tlearn: 0.1815189\ttotal: 332ms\tremaining: 775ms\n",
      "300:\tlearn: 0.1813380\ttotal: 333ms\tremaining: 773ms\n",
      "301:\tlearn: 0.1810714\ttotal: 334ms\tremaining: 771ms\n",
      "302:\tlearn: 0.1807491\ttotal: 335ms\tremaining: 770ms\n",
      "303:\tlearn: 0.1804527\ttotal: 336ms\tremaining: 768ms\n",
      "304:\tlearn: 0.1801086\ttotal: 336ms\tremaining: 767ms\n",
      "305:\tlearn: 0.1795321\ttotal: 337ms\tremaining: 765ms\n",
      "306:\tlearn: 0.1793395\ttotal: 338ms\tremaining: 763ms\n",
      "307:\tlearn: 0.1790286\ttotal: 339ms\tremaining: 762ms\n",
      "308:\tlearn: 0.1785900\ttotal: 340ms\tremaining: 760ms\n",
      "309:\tlearn: 0.1783307\ttotal: 341ms\tremaining: 758ms\n",
      "310:\tlearn: 0.1778976\ttotal: 342ms\tremaining: 757ms\n",
      "311:\tlearn: 0.1774791\ttotal: 343ms\tremaining: 755ms\n",
      "312:\tlearn: 0.1770281\ttotal: 344ms\tremaining: 754ms\n",
      "313:\tlearn: 0.1768200\ttotal: 344ms\tremaining: 752ms\n",
      "314:\tlearn: 0.1764873\ttotal: 345ms\tremaining: 751ms\n",
      "315:\tlearn: 0.1760373\ttotal: 346ms\tremaining: 749ms\n",
      "316:\tlearn: 0.1758227\ttotal: 347ms\tremaining: 747ms\n",
      "317:\tlearn: 0.1754660\ttotal: 348ms\tremaining: 746ms\n",
      "318:\tlearn: 0.1748376\ttotal: 349ms\tremaining: 744ms\n",
      "319:\tlearn: 0.1743980\ttotal: 350ms\tremaining: 743ms\n",
      "320:\tlearn: 0.1739791\ttotal: 350ms\tremaining: 741ms\n",
      "321:\tlearn: 0.1735558\ttotal: 351ms\tremaining: 740ms\n",
      "322:\tlearn: 0.1733938\ttotal: 352ms\tremaining: 738ms\n",
      "323:\tlearn: 0.1731157\ttotal: 353ms\tremaining: 737ms\n",
      "324:\tlearn: 0.1727556\ttotal: 354ms\tremaining: 735ms\n",
      "325:\tlearn: 0.1723726\ttotal: 355ms\tremaining: 734ms\n",
      "326:\tlearn: 0.1719906\ttotal: 356ms\tremaining: 732ms\n",
      "327:\tlearn: 0.1717119\ttotal: 357ms\tremaining: 730ms\n",
      "328:\tlearn: 0.1712924\ttotal: 357ms\tremaining: 729ms\n",
      "329:\tlearn: 0.1710047\ttotal: 358ms\tremaining: 727ms\n",
      "330:\tlearn: 0.1705937\ttotal: 359ms\tremaining: 726ms\n",
      "331:\tlearn: 0.1704073\ttotal: 360ms\tremaining: 724ms\n",
      "332:\tlearn: 0.1700495\ttotal: 361ms\tremaining: 723ms\n",
      "333:\tlearn: 0.1696301\ttotal: 362ms\tremaining: 721ms\n",
      "334:\tlearn: 0.1693074\ttotal: 363ms\tremaining: 720ms\n",
      "335:\tlearn: 0.1689623\ttotal: 364ms\tremaining: 719ms\n",
      "336:\tlearn: 0.1685075\ttotal: 365ms\tremaining: 717ms\n",
      "337:\tlearn: 0.1680700\ttotal: 365ms\tremaining: 716ms\n",
      "338:\tlearn: 0.1676678\ttotal: 366ms\tremaining: 714ms\n",
      "339:\tlearn: 0.1672834\ttotal: 367ms\tremaining: 713ms\n",
      "340:\tlearn: 0.1670390\ttotal: 368ms\tremaining: 711ms\n",
      "341:\tlearn: 0.1667338\ttotal: 369ms\tremaining: 710ms\n",
      "342:\tlearn: 0.1662829\ttotal: 370ms\tremaining: 708ms\n",
      "343:\tlearn: 0.1659603\ttotal: 371ms\tremaining: 707ms\n",
      "344:\tlearn: 0.1657983\ttotal: 372ms\tremaining: 706ms\n",
      "345:\tlearn: 0.1654236\ttotal: 372ms\tremaining: 704ms\n",
      "346:\tlearn: 0.1650319\ttotal: 373ms\tremaining: 702ms\n",
      "347:\tlearn: 0.1646301\ttotal: 374ms\tremaining: 701ms\n",
      "348:\tlearn: 0.1643094\ttotal: 375ms\tremaining: 699ms\n",
      "349:\tlearn: 0.1640978\ttotal: 376ms\tremaining: 698ms\n",
      "350:\tlearn: 0.1636944\ttotal: 377ms\tremaining: 696ms\n",
      "351:\tlearn: 0.1635473\ttotal: 378ms\tremaining: 695ms\n",
      "352:\tlearn: 0.1630637\ttotal: 379ms\tremaining: 694ms\n",
      "353:\tlearn: 0.1627101\ttotal: 380ms\tremaining: 693ms\n",
      "354:\tlearn: 0.1622671\ttotal: 380ms\tremaining: 691ms\n",
      "355:\tlearn: 0.1619807\ttotal: 381ms\tremaining: 690ms\n",
      "356:\tlearn: 0.1617783\ttotal: 382ms\tremaining: 688ms\n"
     ]
    },
    {
     "name": "stdout",
     "output_type": "stream",
     "text": [
      "357:\tlearn: 0.1613695\ttotal: 383ms\tremaining: 687ms\n",
      "358:\tlearn: 0.1609747\ttotal: 384ms\tremaining: 686ms\n",
      "359:\tlearn: 0.1608249\ttotal: 385ms\tremaining: 684ms\n",
      "360:\tlearn: 0.1604009\ttotal: 386ms\tremaining: 683ms\n",
      "361:\tlearn: 0.1601340\ttotal: 387ms\tremaining: 682ms\n",
      "362:\tlearn: 0.1597958\ttotal: 388ms\tremaining: 680ms\n",
      "363:\tlearn: 0.1595240\ttotal: 389ms\tremaining: 679ms\n",
      "364:\tlearn: 0.1593415\ttotal: 389ms\tremaining: 678ms\n",
      "365:\tlearn: 0.1588470\ttotal: 390ms\tremaining: 676ms\n",
      "366:\tlearn: 0.1585657\ttotal: 391ms\tremaining: 675ms\n",
      "367:\tlearn: 0.1581166\ttotal: 392ms\tremaining: 674ms\n",
      "368:\tlearn: 0.1579310\ttotal: 393ms\tremaining: 672ms\n",
      "369:\tlearn: 0.1575936\ttotal: 394ms\tremaining: 671ms\n",
      "370:\tlearn: 0.1573502\ttotal: 395ms\tremaining: 670ms\n",
      "371:\tlearn: 0.1571532\ttotal: 396ms\tremaining: 668ms\n",
      "372:\tlearn: 0.1568208\ttotal: 397ms\tremaining: 667ms\n",
      "373:\tlearn: 0.1565240\ttotal: 398ms\tremaining: 666ms\n",
      "374:\tlearn: 0.1562316\ttotal: 399ms\tremaining: 664ms\n",
      "375:\tlearn: 0.1560827\ttotal: 399ms\tremaining: 663ms\n",
      "376:\tlearn: 0.1558820\ttotal: 400ms\tremaining: 661ms\n",
      "377:\tlearn: 0.1555588\ttotal: 401ms\tremaining: 660ms\n",
      "378:\tlearn: 0.1552469\ttotal: 402ms\tremaining: 659ms\n",
      "379:\tlearn: 0.1549277\ttotal: 404ms\tremaining: 659ms\n",
      "380:\tlearn: 0.1547345\ttotal: 405ms\tremaining: 657ms\n",
      "381:\tlearn: 0.1542740\ttotal: 405ms\tremaining: 656ms\n",
      "382:\tlearn: 0.1540269\ttotal: 406ms\tremaining: 655ms\n",
      "383:\tlearn: 0.1537133\ttotal: 407ms\tremaining: 653ms\n",
      "384:\tlearn: 0.1535731\ttotal: 408ms\tremaining: 652ms\n",
      "385:\tlearn: 0.1534359\ttotal: 409ms\tremaining: 651ms\n",
      "386:\tlearn: 0.1531944\ttotal: 410ms\tremaining: 650ms\n",
      "387:\tlearn: 0.1528081\ttotal: 411ms\tremaining: 648ms\n",
      "388:\tlearn: 0.1526203\ttotal: 412ms\tremaining: 647ms\n",
      "389:\tlearn: 0.1524143\ttotal: 413ms\tremaining: 646ms\n",
      "390:\tlearn: 0.1522129\ttotal: 414ms\tremaining: 644ms\n",
      "391:\tlearn: 0.1518327\ttotal: 415ms\tremaining: 643ms\n",
      "392:\tlearn: 0.1516510\ttotal: 416ms\tremaining: 642ms\n",
      "393:\tlearn: 0.1515309\ttotal: 416ms\tremaining: 640ms\n",
      "394:\tlearn: 0.1513398\ttotal: 417ms\tremaining: 639ms\n",
      "395:\tlearn: 0.1511091\ttotal: 418ms\tremaining: 638ms\n",
      "396:\tlearn: 0.1506622\ttotal: 419ms\tremaining: 636ms\n",
      "397:\tlearn: 0.1504771\ttotal: 420ms\tremaining: 635ms\n",
      "398:\tlearn: 0.1502329\ttotal: 421ms\tremaining: 634ms\n",
      "399:\tlearn: 0.1499199\ttotal: 422ms\tremaining: 633ms\n",
      "400:\tlearn: 0.1497532\ttotal: 423ms\tremaining: 631ms\n",
      "401:\tlearn: 0.1492529\ttotal: 423ms\tremaining: 630ms\n",
      "402:\tlearn: 0.1489047\ttotal: 425ms\tremaining: 629ms\n",
      "403:\tlearn: 0.1486502\ttotal: 425ms\tremaining: 628ms\n",
      "404:\tlearn: 0.1483183\ttotal: 426ms\tremaining: 626ms\n",
      "405:\tlearn: 0.1481501\ttotal: 427ms\tremaining: 625ms\n",
      "406:\tlearn: 0.1480315\ttotal: 428ms\tremaining: 624ms\n",
      "407:\tlearn: 0.1478949\ttotal: 429ms\tremaining: 622ms\n",
      "408:\tlearn: 0.1475393\ttotal: 430ms\tremaining: 621ms\n",
      "409:\tlearn: 0.1474438\ttotal: 430ms\tremaining: 619ms\n",
      "410:\tlearn: 0.1472086\ttotal: 431ms\tremaining: 618ms\n",
      "411:\tlearn: 0.1469397\ttotal: 432ms\tremaining: 617ms\n",
      "412:\tlearn: 0.1466332\ttotal: 433ms\tremaining: 615ms\n",
      "413:\tlearn: 0.1464527\ttotal: 434ms\tremaining: 614ms\n",
      "414:\tlearn: 0.1461099\ttotal: 435ms\tremaining: 613ms\n",
      "415:\tlearn: 0.1459790\ttotal: 436ms\tremaining: 612ms\n",
      "416:\tlearn: 0.1456059\ttotal: 437ms\tremaining: 611ms\n",
      "417:\tlearn: 0.1454914\ttotal: 438ms\tremaining: 609ms\n",
      "418:\tlearn: 0.1451868\ttotal: 439ms\tremaining: 608ms\n",
      "419:\tlearn: 0.1449448\ttotal: 439ms\tremaining: 607ms\n",
      "420:\tlearn: 0.1446834\ttotal: 440ms\tremaining: 605ms\n",
      "421:\tlearn: 0.1443421\ttotal: 441ms\tremaining: 604ms\n",
      "422:\tlearn: 0.1440989\ttotal: 442ms\tremaining: 603ms\n",
      "423:\tlearn: 0.1438474\ttotal: 443ms\tremaining: 602ms\n",
      "424:\tlearn: 0.1437361\ttotal: 444ms\tremaining: 601ms\n",
      "425:\tlearn: 0.1433594\ttotal: 445ms\tremaining: 599ms\n",
      "426:\tlearn: 0.1431381\ttotal: 446ms\tremaining: 598ms\n",
      "427:\tlearn: 0.1430075\ttotal: 447ms\tremaining: 597ms\n",
      "428:\tlearn: 0.1428004\ttotal: 448ms\tremaining: 596ms\n",
      "429:\tlearn: 0.1426279\ttotal: 449ms\tremaining: 595ms\n",
      "430:\tlearn: 0.1423566\ttotal: 449ms\tremaining: 593ms\n",
      "431:\tlearn: 0.1420822\ttotal: 450ms\tremaining: 592ms\n",
      "432:\tlearn: 0.1418437\ttotal: 451ms\tremaining: 591ms\n",
      "433:\tlearn: 0.1415500\ttotal: 452ms\tremaining: 590ms\n",
      "434:\tlearn: 0.1411433\ttotal: 453ms\tremaining: 588ms\n",
      "435:\tlearn: 0.1409069\ttotal: 454ms\tremaining: 587ms\n",
      "436:\tlearn: 0.1407828\ttotal: 455ms\tremaining: 586ms\n",
      "437:\tlearn: 0.1405803\ttotal: 456ms\tremaining: 585ms\n",
      "438:\tlearn: 0.1403391\ttotal: 457ms\tremaining: 583ms\n",
      "439:\tlearn: 0.1401997\ttotal: 457ms\tremaining: 582ms\n",
      "440:\tlearn: 0.1400427\ttotal: 458ms\tremaining: 581ms\n",
      "441:\tlearn: 0.1396075\ttotal: 459ms\tremaining: 580ms\n",
      "442:\tlearn: 0.1393530\ttotal: 460ms\tremaining: 578ms\n",
      "443:\tlearn: 0.1392520\ttotal: 461ms\tremaining: 577ms\n",
      "444:\tlearn: 0.1390344\ttotal: 462ms\tremaining: 576ms\n",
      "445:\tlearn: 0.1388877\ttotal: 463ms\tremaining: 575ms\n",
      "446:\tlearn: 0.1387642\ttotal: 464ms\tremaining: 574ms\n",
      "447:\tlearn: 0.1386811\ttotal: 465ms\tremaining: 572ms\n",
      "448:\tlearn: 0.1385377\ttotal: 465ms\tremaining: 571ms\n",
      "449:\tlearn: 0.1382386\ttotal: 466ms\tremaining: 570ms\n",
      "450:\tlearn: 0.1379794\ttotal: 467ms\tremaining: 569ms\n",
      "451:\tlearn: 0.1376295\ttotal: 468ms\tremaining: 567ms\n",
      "452:\tlearn: 0.1374946\ttotal: 469ms\tremaining: 566ms\n",
      "453:\tlearn: 0.1372885\ttotal: 470ms\tremaining: 565ms\n",
      "454:\tlearn: 0.1370213\ttotal: 471ms\tremaining: 564ms\n",
      "455:\tlearn: 0.1369050\ttotal: 472ms\tremaining: 563ms\n",
      "456:\tlearn: 0.1366378\ttotal: 472ms\tremaining: 561ms\n",
      "457:\tlearn: 0.1364148\ttotal: 473ms\tremaining: 560ms\n",
      "458:\tlearn: 0.1363826\ttotal: 474ms\tremaining: 559ms\n",
      "459:\tlearn: 0.1361491\ttotal: 475ms\tremaining: 557ms\n",
      "460:\tlearn: 0.1359416\ttotal: 476ms\tremaining: 556ms\n",
      "461:\tlearn: 0.1355954\ttotal: 477ms\tremaining: 555ms\n",
      "462:\tlearn: 0.1355638\ttotal: 477ms\tremaining: 554ms\n",
      "463:\tlearn: 0.1351535\ttotal: 478ms\tremaining: 553ms\n",
      "464:\tlearn: 0.1349347\ttotal: 479ms\tremaining: 551ms\n",
      "465:\tlearn: 0.1348400\ttotal: 480ms\tremaining: 550ms\n",
      "466:\tlearn: 0.1346359\ttotal: 481ms\tremaining: 549ms\n",
      "467:\tlearn: 0.1344191\ttotal: 482ms\tremaining: 548ms\n",
      "468:\tlearn: 0.1341150\ttotal: 483ms\tremaining: 546ms\n",
      "469:\tlearn: 0.1337831\ttotal: 484ms\tremaining: 545ms\n",
      "470:\tlearn: 0.1334999\ttotal: 484ms\tremaining: 544ms\n",
      "471:\tlearn: 0.1334069\ttotal: 485ms\tremaining: 543ms\n",
      "472:\tlearn: 0.1332038\ttotal: 486ms\tremaining: 542ms\n",
      "473:\tlearn: 0.1329704\ttotal: 487ms\tremaining: 541ms\n",
      "474:\tlearn: 0.1328704\ttotal: 488ms\tremaining: 539ms\n",
      "475:\tlearn: 0.1325902\ttotal: 489ms\tremaining: 538ms\n"
     ]
    },
    {
     "name": "stdout",
     "output_type": "stream",
     "text": [
      "476:\tlearn: 0.1324335\ttotal: 490ms\tremaining: 537ms\n",
      "477:\tlearn: 0.1321210\ttotal: 491ms\tremaining: 536ms\n",
      "478:\tlearn: 0.1318713\ttotal: 492ms\tremaining: 535ms\n",
      "479:\tlearn: 0.1317750\ttotal: 493ms\tremaining: 534ms\n",
      "480:\tlearn: 0.1315641\ttotal: 494ms\tremaining: 533ms\n",
      "481:\tlearn: 0.1312383\ttotal: 494ms\tremaining: 531ms\n",
      "482:\tlearn: 0.1310446\ttotal: 495ms\tremaining: 530ms\n",
      "483:\tlearn: 0.1307967\ttotal: 496ms\tremaining: 529ms\n",
      "484:\tlearn: 0.1304078\ttotal: 497ms\tremaining: 528ms\n",
      "485:\tlearn: 0.1302234\ttotal: 498ms\tremaining: 527ms\n",
      "486:\tlearn: 0.1301257\ttotal: 499ms\tremaining: 526ms\n",
      "487:\tlearn: 0.1299469\ttotal: 500ms\tremaining: 524ms\n",
      "488:\tlearn: 0.1296391\ttotal: 501ms\tremaining: 523ms\n",
      "489:\tlearn: 0.1293139\ttotal: 502ms\tremaining: 522ms\n",
      "490:\tlearn: 0.1290749\ttotal: 502ms\tremaining: 521ms\n",
      "491:\tlearn: 0.1289545\ttotal: 503ms\tremaining: 520ms\n",
      "492:\tlearn: 0.1287269\ttotal: 504ms\tremaining: 519ms\n",
      "493:\tlearn: 0.1286190\ttotal: 505ms\tremaining: 517ms\n",
      "494:\tlearn: 0.1284318\ttotal: 506ms\tremaining: 516ms\n",
      "495:\tlearn: 0.1282473\ttotal: 507ms\tremaining: 515ms\n",
      "496:\tlearn: 0.1281615\ttotal: 508ms\tremaining: 514ms\n",
      "497:\tlearn: 0.1279804\ttotal: 509ms\tremaining: 513ms\n",
      "498:\tlearn: 0.1277445\ttotal: 510ms\tremaining: 512ms\n",
      "499:\tlearn: 0.1275354\ttotal: 510ms\tremaining: 510ms\n",
      "500:\tlearn: 0.1272935\ttotal: 511ms\tremaining: 509ms\n",
      "501:\tlearn: 0.1271124\ttotal: 512ms\tremaining: 508ms\n",
      "502:\tlearn: 0.1269560\ttotal: 513ms\tremaining: 507ms\n",
      "503:\tlearn: 0.1266650\ttotal: 514ms\tremaining: 506ms\n",
      "504:\tlearn: 0.1264341\ttotal: 515ms\tremaining: 505ms\n",
      "505:\tlearn: 0.1262490\ttotal: 516ms\tremaining: 503ms\n",
      "506:\tlearn: 0.1260749\ttotal: 517ms\tremaining: 502ms\n",
      "507:\tlearn: 0.1259003\ttotal: 517ms\tremaining: 501ms\n",
      "508:\tlearn: 0.1256705\ttotal: 518ms\tremaining: 500ms\n",
      "509:\tlearn: 0.1253581\ttotal: 519ms\tremaining: 499ms\n",
      "510:\tlearn: 0.1251873\ttotal: 520ms\tremaining: 498ms\n",
      "511:\tlearn: 0.1251427\ttotal: 521ms\tremaining: 497ms\n",
      "512:\tlearn: 0.1248825\ttotal: 522ms\tremaining: 496ms\n",
      "513:\tlearn: 0.1247224\ttotal: 523ms\tremaining: 494ms\n",
      "514:\tlearn: 0.1245394\ttotal: 524ms\tremaining: 493ms\n",
      "515:\tlearn: 0.1243864\ttotal: 525ms\tremaining: 492ms\n",
      "516:\tlearn: 0.1242329\ttotal: 525ms\tremaining: 491ms\n",
      "517:\tlearn: 0.1239428\ttotal: 526ms\tremaining: 490ms\n",
      "518:\tlearn: 0.1237233\ttotal: 527ms\tremaining: 489ms\n",
      "519:\tlearn: 0.1235022\ttotal: 528ms\tremaining: 487ms\n",
      "520:\tlearn: 0.1232112\ttotal: 529ms\tremaining: 486ms\n",
      "521:\tlearn: 0.1229522\ttotal: 530ms\tremaining: 485ms\n",
      "522:\tlearn: 0.1226322\ttotal: 531ms\tremaining: 484ms\n",
      "523:\tlearn: 0.1224728\ttotal: 532ms\tremaining: 483ms\n",
      "524:\tlearn: 0.1223084\ttotal: 533ms\tremaining: 482ms\n",
      "525:\tlearn: 0.1220927\ttotal: 534ms\tremaining: 481ms\n",
      "526:\tlearn: 0.1219182\ttotal: 535ms\tremaining: 480ms\n",
      "527:\tlearn: 0.1216890\ttotal: 536ms\tremaining: 479ms\n",
      "528:\tlearn: 0.1214010\ttotal: 536ms\tremaining: 478ms\n",
      "529:\tlearn: 0.1212966\ttotal: 537ms\tremaining: 476ms\n",
      "530:\tlearn: 0.1209726\ttotal: 538ms\tremaining: 475ms\n",
      "531:\tlearn: 0.1208296\ttotal: 539ms\tremaining: 474ms\n",
      "532:\tlearn: 0.1206648\ttotal: 540ms\tremaining: 473ms\n",
      "533:\tlearn: 0.1204619\ttotal: 541ms\tremaining: 472ms\n",
      "534:\tlearn: 0.1202740\ttotal: 542ms\tremaining: 471ms\n",
      "535:\tlearn: 0.1201234\ttotal: 542ms\tremaining: 470ms\n",
      "536:\tlearn: 0.1199487\ttotal: 543ms\tremaining: 469ms\n",
      "537:\tlearn: 0.1198483\ttotal: 544ms\tremaining: 468ms\n",
      "538:\tlearn: 0.1196205\ttotal: 545ms\tremaining: 466ms\n",
      "539:\tlearn: 0.1194374\ttotal: 546ms\tremaining: 465ms\n",
      "540:\tlearn: 0.1192045\ttotal: 547ms\tremaining: 464ms\n",
      "541:\tlearn: 0.1189550\ttotal: 548ms\tremaining: 463ms\n",
      "542:\tlearn: 0.1188184\ttotal: 549ms\tremaining: 462ms\n",
      "543:\tlearn: 0.1185518\ttotal: 550ms\tremaining: 461ms\n",
      "544:\tlearn: 0.1183795\ttotal: 551ms\tremaining: 460ms\n",
      "545:\tlearn: 0.1181628\ttotal: 552ms\tremaining: 459ms\n",
      "546:\tlearn: 0.1179019\ttotal: 552ms\tremaining: 457ms\n",
      "547:\tlearn: 0.1178154\ttotal: 553ms\tremaining: 456ms\n",
      "548:\tlearn: 0.1176688\ttotal: 554ms\tremaining: 455ms\n",
      "549:\tlearn: 0.1175784\ttotal: 555ms\tremaining: 454ms\n",
      "550:\tlearn: 0.1172821\ttotal: 556ms\tremaining: 453ms\n",
      "551:\tlearn: 0.1171951\ttotal: 557ms\tremaining: 452ms\n",
      "552:\tlearn: 0.1169667\ttotal: 558ms\tremaining: 451ms\n",
      "553:\tlearn: 0.1168641\ttotal: 559ms\tremaining: 450ms\n",
      "554:\tlearn: 0.1168336\ttotal: 560ms\tremaining: 449ms\n",
      "555:\tlearn: 0.1167210\ttotal: 561ms\tremaining: 448ms\n",
      "556:\tlearn: 0.1165612\ttotal: 562ms\tremaining: 447ms\n",
      "557:\tlearn: 0.1163843\ttotal: 562ms\tremaining: 446ms\n",
      "558:\tlearn: 0.1162970\ttotal: 563ms\tremaining: 444ms\n",
      "559:\tlearn: 0.1161020\ttotal: 564ms\tremaining: 443ms\n",
      "560:\tlearn: 0.1158485\ttotal: 565ms\tremaining: 442ms\n",
      "561:\tlearn: 0.1156187\ttotal: 566ms\tremaining: 441ms\n",
      "562:\tlearn: 0.1155128\ttotal: 567ms\tremaining: 440ms\n",
      "563:\tlearn: 0.1152773\ttotal: 568ms\tremaining: 439ms\n",
      "564:\tlearn: 0.1149276\ttotal: 569ms\tremaining: 438ms\n",
      "565:\tlearn: 0.1147229\ttotal: 569ms\tremaining: 437ms\n",
      "566:\tlearn: 0.1145020\ttotal: 570ms\tremaining: 435ms\n",
      "567:\tlearn: 0.1144127\ttotal: 571ms\tremaining: 434ms\n",
      "568:\tlearn: 0.1141205\ttotal: 572ms\tremaining: 433ms\n",
      "569:\tlearn: 0.1138451\ttotal: 573ms\tremaining: 432ms\n",
      "570:\tlearn: 0.1135924\ttotal: 574ms\tremaining: 431ms\n"
     ]
    },
    {
     "name": "stdout",
     "output_type": "stream",
     "text": [
      "571:\tlearn: 0.1133504\ttotal: 575ms\tremaining: 430ms\n",
      "572:\tlearn: 0.1131680\ttotal: 576ms\tremaining: 429ms\n",
      "573:\tlearn: 0.1129696\ttotal: 577ms\tremaining: 428ms\n",
      "574:\tlearn: 0.1126891\ttotal: 578ms\tremaining: 427ms\n",
      "575:\tlearn: 0.1124151\ttotal: 579ms\tremaining: 426ms\n",
      "576:\tlearn: 0.1122985\ttotal: 580ms\tremaining: 425ms\n",
      "577:\tlearn: 0.1121456\ttotal: 580ms\tremaining: 424ms\n",
      "578:\tlearn: 0.1118563\ttotal: 581ms\tremaining: 423ms\n",
      "579:\tlearn: 0.1116857\ttotal: 582ms\tremaining: 422ms\n",
      "580:\tlearn: 0.1115490\ttotal: 583ms\tremaining: 420ms\n",
      "581:\tlearn: 0.1113737\ttotal: 584ms\tremaining: 419ms\n",
      "582:\tlearn: 0.1112220\ttotal: 585ms\tremaining: 418ms\n",
      "583:\tlearn: 0.1111218\ttotal: 586ms\tremaining: 417ms\n",
      "584:\tlearn: 0.1110984\ttotal: 587ms\tremaining: 416ms\n",
      "585:\tlearn: 0.1110591\ttotal: 587ms\tremaining: 415ms\n",
      "586:\tlearn: 0.1110394\ttotal: 588ms\tremaining: 414ms\n",
      "587:\tlearn: 0.1107811\ttotal: 589ms\tremaining: 413ms\n",
      "588:\tlearn: 0.1106055\ttotal: 590ms\tremaining: 412ms\n",
      "589:\tlearn: 0.1103134\ttotal: 591ms\tremaining: 411ms\n",
      "590:\tlearn: 0.1101544\ttotal: 592ms\tremaining: 410ms\n",
      "591:\tlearn: 0.1100068\ttotal: 593ms\tremaining: 409ms\n",
      "592:\tlearn: 0.1098807\ttotal: 594ms\tremaining: 407ms\n",
      "593:\tlearn: 0.1097051\ttotal: 594ms\tremaining: 406ms\n",
      "594:\tlearn: 0.1095661\ttotal: 595ms\tremaining: 405ms\n",
      "595:\tlearn: 0.1094069\ttotal: 596ms\tremaining: 404ms\n",
      "596:\tlearn: 0.1091761\ttotal: 597ms\tremaining: 403ms\n",
      "597:\tlearn: 0.1090905\ttotal: 598ms\tremaining: 402ms\n",
      "598:\tlearn: 0.1090030\ttotal: 599ms\tremaining: 401ms\n",
      "599:\tlearn: 0.1087601\ttotal: 600ms\tremaining: 400ms\n",
      "600:\tlearn: 0.1085801\ttotal: 601ms\tremaining: 399ms\n",
      "601:\tlearn: 0.1083658\ttotal: 602ms\tremaining: 398ms\n",
      "602:\tlearn: 0.1081495\ttotal: 602ms\tremaining: 397ms\n",
      "603:\tlearn: 0.1080684\ttotal: 603ms\tremaining: 396ms\n",
      "604:\tlearn: 0.1079329\ttotal: 604ms\tremaining: 394ms\n",
      "605:\tlearn: 0.1076506\ttotal: 605ms\tremaining: 393ms\n",
      "606:\tlearn: 0.1075237\ttotal: 606ms\tremaining: 392ms\n",
      "607:\tlearn: 0.1074168\ttotal: 607ms\tremaining: 391ms\n",
      "608:\tlearn: 0.1071872\ttotal: 608ms\tremaining: 390ms\n",
      "609:\tlearn: 0.1070702\ttotal: 609ms\tremaining: 389ms\n",
      "610:\tlearn: 0.1068593\ttotal: 610ms\tremaining: 388ms\n",
      "611:\tlearn: 0.1066625\ttotal: 610ms\tremaining: 387ms\n",
      "612:\tlearn: 0.1065088\ttotal: 611ms\tremaining: 386ms\n",
      "613:\tlearn: 0.1062587\ttotal: 612ms\tremaining: 385ms\n",
      "614:\tlearn: 0.1059796\ttotal: 613ms\tremaining: 384ms\n",
      "615:\tlearn: 0.1057476\ttotal: 614ms\tremaining: 383ms\n",
      "616:\tlearn: 0.1055801\ttotal: 615ms\tremaining: 382ms\n",
      "617:\tlearn: 0.1054476\ttotal: 616ms\tremaining: 381ms\n",
      "618:\tlearn: 0.1052564\ttotal: 617ms\tremaining: 379ms\n",
      "619:\tlearn: 0.1050927\ttotal: 617ms\tremaining: 378ms\n",
      "620:\tlearn: 0.1049865\ttotal: 618ms\tremaining: 377ms\n",
      "621:\tlearn: 0.1048659\ttotal: 619ms\tremaining: 376ms\n",
      "622:\tlearn: 0.1047255\ttotal: 620ms\tremaining: 375ms\n",
      "623:\tlearn: 0.1045129\ttotal: 621ms\tremaining: 374ms\n",
      "624:\tlearn: 0.1043634\ttotal: 622ms\tremaining: 373ms\n",
      "625:\tlearn: 0.1042708\ttotal: 623ms\tremaining: 372ms\n",
      "626:\tlearn: 0.1041215\ttotal: 624ms\tremaining: 371ms\n",
      "627:\tlearn: 0.1039807\ttotal: 624ms\tremaining: 370ms\n",
      "628:\tlearn: 0.1037449\ttotal: 625ms\tremaining: 369ms\n",
      "629:\tlearn: 0.1035399\ttotal: 626ms\tremaining: 368ms\n",
      "630:\tlearn: 0.1033975\ttotal: 627ms\tremaining: 367ms\n",
      "631:\tlearn: 0.1033252\ttotal: 628ms\tremaining: 366ms\n",
      "632:\tlearn: 0.1032115\ttotal: 629ms\tremaining: 365ms\n",
      "633:\tlearn: 0.1030865\ttotal: 630ms\tremaining: 364ms\n",
      "634:\tlearn: 0.1030046\ttotal: 631ms\tremaining: 362ms\n",
      "635:\tlearn: 0.1027984\ttotal: 631ms\tremaining: 361ms\n",
      "636:\tlearn: 0.1025908\ttotal: 632ms\tremaining: 360ms\n",
      "637:\tlearn: 0.1024428\ttotal: 633ms\tremaining: 359ms\n",
      "638:\tlearn: 0.1021645\ttotal: 634ms\tremaining: 358ms\n",
      "639:\tlearn: 0.1019582\ttotal: 635ms\tremaining: 357ms\n",
      "640:\tlearn: 0.1017408\ttotal: 636ms\tremaining: 356ms\n",
      "641:\tlearn: 0.1016473\ttotal: 637ms\tremaining: 355ms\n",
      "642:\tlearn: 0.1014999\ttotal: 638ms\tremaining: 354ms\n",
      "643:\tlearn: 0.1012269\ttotal: 639ms\tremaining: 353ms\n",
      "644:\tlearn: 0.1010195\ttotal: 639ms\tremaining: 352ms\n",
      "645:\tlearn: 0.1009613\ttotal: 640ms\tremaining: 351ms\n",
      "646:\tlearn: 0.1008023\ttotal: 641ms\tremaining: 350ms\n",
      "647:\tlearn: 0.1006797\ttotal: 642ms\tremaining: 349ms\n",
      "648:\tlearn: 0.1005576\ttotal: 643ms\tremaining: 348ms\n",
      "649:\tlearn: 0.1004449\ttotal: 644ms\tremaining: 347ms\n",
      "650:\tlearn: 0.1002903\ttotal: 645ms\tremaining: 346ms\n",
      "651:\tlearn: 0.1002579\ttotal: 646ms\tremaining: 345ms\n",
      "652:\tlearn: 0.1000270\ttotal: 647ms\tremaining: 344ms\n",
      "653:\tlearn: 0.0999046\ttotal: 648ms\tremaining: 343ms\n",
      "654:\tlearn: 0.0997189\ttotal: 649ms\tremaining: 342ms\n",
      "655:\tlearn: 0.0994915\ttotal: 650ms\tremaining: 341ms\n",
      "656:\tlearn: 0.0993311\ttotal: 651ms\tremaining: 340ms\n",
      "657:\tlearn: 0.0991399\ttotal: 652ms\tremaining: 339ms\n",
      "658:\tlearn: 0.0990144\ttotal: 653ms\tremaining: 338ms\n",
      "659:\tlearn: 0.0989459\ttotal: 654ms\tremaining: 337ms\n",
      "660:\tlearn: 0.0988489\ttotal: 655ms\tremaining: 336ms\n",
      "661:\tlearn: 0.0986655\ttotal: 655ms\tremaining: 335ms\n",
      "662:\tlearn: 0.0985356\ttotal: 656ms\tremaining: 334ms\n",
      "663:\tlearn: 0.0984505\ttotal: 657ms\tremaining: 332ms\n",
      "664:\tlearn: 0.0982295\ttotal: 658ms\tremaining: 331ms\n",
      "665:\tlearn: 0.0980634\ttotal: 659ms\tremaining: 330ms\n",
      "666:\tlearn: 0.0979679\ttotal: 659ms\tremaining: 329ms\n",
      "667:\tlearn: 0.0977890\ttotal: 660ms\tremaining: 328ms\n",
      "668:\tlearn: 0.0976540\ttotal: 661ms\tremaining: 327ms\n",
      "669:\tlearn: 0.0975020\ttotal: 662ms\tremaining: 326ms\n",
      "670:\tlearn: 0.0974005\ttotal: 663ms\tremaining: 325ms\n",
      "671:\tlearn: 0.0973029\ttotal: 664ms\tremaining: 324ms\n",
      "672:\tlearn: 0.0970876\ttotal: 665ms\tremaining: 323ms\n",
      "673:\tlearn: 0.0969751\ttotal: 666ms\tremaining: 322ms\n",
      "674:\tlearn: 0.0968659\ttotal: 666ms\tremaining: 321ms\n",
      "675:\tlearn: 0.0967163\ttotal: 667ms\tremaining: 320ms\n",
      "676:\tlearn: 0.0965672\ttotal: 669ms\tremaining: 319ms\n",
      "677:\tlearn: 0.0964876\ttotal: 670ms\tremaining: 318ms\n",
      "678:\tlearn: 0.0963843\ttotal: 671ms\tremaining: 317ms\n",
      "679:\tlearn: 0.0962698\ttotal: 672ms\tremaining: 316ms\n",
      "680:\tlearn: 0.0961821\ttotal: 672ms\tremaining: 315ms\n",
      "681:\tlearn: 0.0959899\ttotal: 673ms\tremaining: 314ms\n",
      "682:\tlearn: 0.0957597\ttotal: 674ms\tremaining: 313ms\n",
      "683:\tlearn: 0.0956378\ttotal: 675ms\tremaining: 312ms\n",
      "684:\tlearn: 0.0955043\ttotal: 676ms\tremaining: 311ms\n",
      "685:\tlearn: 0.0954067\ttotal: 677ms\tremaining: 310ms\n",
      "686:\tlearn: 0.0952545\ttotal: 678ms\tremaining: 309ms\n",
      "687:\tlearn: 0.0951240\ttotal: 679ms\tremaining: 308ms\n",
      "688:\tlearn: 0.0949784\ttotal: 680ms\tremaining: 307ms\n",
      "689:\tlearn: 0.0948681\ttotal: 680ms\tremaining: 306ms\n"
     ]
    },
    {
     "name": "stdout",
     "output_type": "stream",
     "text": [
      "690:\tlearn: 0.0947049\ttotal: 681ms\tremaining: 305ms\n",
      "691:\tlearn: 0.0945028\ttotal: 683ms\tremaining: 304ms\n",
      "692:\tlearn: 0.0943368\ttotal: 683ms\tremaining: 303ms\n",
      "693:\tlearn: 0.0942523\ttotal: 684ms\tremaining: 302ms\n",
      "694:\tlearn: 0.0940511\ttotal: 685ms\tremaining: 301ms\n",
      "695:\tlearn: 0.0940112\ttotal: 686ms\tremaining: 300ms\n",
      "696:\tlearn: 0.0939746\ttotal: 687ms\tremaining: 299ms\n",
      "697:\tlearn: 0.0938787\ttotal: 688ms\tremaining: 298ms\n",
      "698:\tlearn: 0.0937521\ttotal: 689ms\tremaining: 297ms\n",
      "699:\tlearn: 0.0936091\ttotal: 690ms\tremaining: 296ms\n",
      "700:\tlearn: 0.0934688\ttotal: 691ms\tremaining: 295ms\n",
      "701:\tlearn: 0.0932811\ttotal: 691ms\tremaining: 294ms\n",
      "702:\tlearn: 0.0931730\ttotal: 692ms\tremaining: 292ms\n",
      "703:\tlearn: 0.0930260\ttotal: 693ms\tremaining: 291ms\n",
      "704:\tlearn: 0.0928979\ttotal: 694ms\tremaining: 290ms\n",
      "705:\tlearn: 0.0928268\ttotal: 695ms\tremaining: 289ms\n",
      "706:\tlearn: 0.0927282\ttotal: 696ms\tremaining: 288ms\n",
      "707:\tlearn: 0.0926244\ttotal: 697ms\tremaining: 287ms\n",
      "708:\tlearn: 0.0924598\ttotal: 697ms\tremaining: 286ms\n",
      "709:\tlearn: 0.0922481\ttotal: 698ms\tremaining: 285ms\n",
      "710:\tlearn: 0.0920843\ttotal: 699ms\tremaining: 284ms\n",
      "711:\tlearn: 0.0918686\ttotal: 700ms\tremaining: 283ms\n",
      "712:\tlearn: 0.0916897\ttotal: 701ms\tremaining: 282ms\n",
      "713:\tlearn: 0.0915638\ttotal: 702ms\tremaining: 281ms\n",
      "714:\tlearn: 0.0913798\ttotal: 703ms\tremaining: 280ms\n",
      "715:\tlearn: 0.0912024\ttotal: 704ms\tremaining: 279ms\n",
      "716:\tlearn: 0.0910723\ttotal: 705ms\tremaining: 278ms\n",
      "717:\tlearn: 0.0909482\ttotal: 706ms\tremaining: 277ms\n",
      "718:\tlearn: 0.0908665\ttotal: 707ms\tremaining: 276ms\n",
      "719:\tlearn: 0.0907000\ttotal: 707ms\tremaining: 275ms\n",
      "720:\tlearn: 0.0905825\ttotal: 708ms\tremaining: 274ms\n",
      "721:\tlearn: 0.0904559\ttotal: 709ms\tremaining: 273ms\n",
      "722:\tlearn: 0.0903356\ttotal: 710ms\tremaining: 272ms\n",
      "723:\tlearn: 0.0902013\ttotal: 711ms\tremaining: 271ms\n",
      "724:\tlearn: 0.0900683\ttotal: 712ms\tremaining: 270ms\n",
      "725:\tlearn: 0.0899164\ttotal: 713ms\tremaining: 269ms\n",
      "726:\tlearn: 0.0897540\ttotal: 714ms\tremaining: 268ms\n",
      "727:\tlearn: 0.0895338\ttotal: 715ms\tremaining: 267ms\n",
      "728:\tlearn: 0.0894093\ttotal: 715ms\tremaining: 266ms\n",
      "729:\tlearn: 0.0892924\ttotal: 716ms\tremaining: 265ms\n",
      "730:\tlearn: 0.0891881\ttotal: 717ms\tremaining: 264ms\n",
      "731:\tlearn: 0.0891019\ttotal: 718ms\tremaining: 263ms\n",
      "732:\tlearn: 0.0889895\ttotal: 719ms\tremaining: 262ms\n",
      "733:\tlearn: 0.0889284\ttotal: 720ms\tremaining: 261ms\n",
      "734:\tlearn: 0.0887534\ttotal: 721ms\tremaining: 260ms\n",
      "735:\tlearn: 0.0885339\ttotal: 722ms\tremaining: 259ms\n",
      "736:\tlearn: 0.0884132\ttotal: 723ms\tremaining: 258ms\n",
      "737:\tlearn: 0.0882948\ttotal: 723ms\tremaining: 257ms\n",
      "738:\tlearn: 0.0881472\ttotal: 724ms\tremaining: 256ms\n",
      "739:\tlearn: 0.0880121\ttotal: 725ms\tremaining: 255ms\n",
      "740:\tlearn: 0.0878575\ttotal: 726ms\tremaining: 254ms\n",
      "741:\tlearn: 0.0877732\ttotal: 727ms\tremaining: 253ms\n",
      "742:\tlearn: 0.0876989\ttotal: 728ms\tremaining: 252ms\n",
      "743:\tlearn: 0.0875359\ttotal: 729ms\tremaining: 251ms\n",
      "744:\tlearn: 0.0874160\ttotal: 729ms\tremaining: 250ms\n",
      "745:\tlearn: 0.0872098\ttotal: 730ms\tremaining: 249ms\n",
      "746:\tlearn: 0.0870485\ttotal: 731ms\tremaining: 248ms\n",
      "747:\tlearn: 0.0869216\ttotal: 732ms\tremaining: 247ms\n",
      "748:\tlearn: 0.0868097\ttotal: 733ms\tremaining: 246ms\n",
      "749:\tlearn: 0.0867172\ttotal: 734ms\tremaining: 245ms\n",
      "750:\tlearn: 0.0866302\ttotal: 735ms\tremaining: 244ms\n",
      "751:\tlearn: 0.0864852\ttotal: 736ms\tremaining: 243ms\n",
      "752:\tlearn: 0.0862906\ttotal: 736ms\tremaining: 242ms\n",
      "753:\tlearn: 0.0860994\ttotal: 737ms\tremaining: 241ms\n",
      "754:\tlearn: 0.0860389\ttotal: 738ms\tremaining: 240ms\n",
      "755:\tlearn: 0.0859898\ttotal: 739ms\tremaining: 239ms\n",
      "756:\tlearn: 0.0857843\ttotal: 740ms\tremaining: 238ms\n",
      "757:\tlearn: 0.0856662\ttotal: 741ms\tremaining: 237ms\n",
      "758:\tlearn: 0.0856195\ttotal: 742ms\tremaining: 236ms\n",
      "759:\tlearn: 0.0854521\ttotal: 743ms\tremaining: 235ms\n",
      "760:\tlearn: 0.0853339\ttotal: 745ms\tremaining: 234ms\n",
      "761:\tlearn: 0.0852458\ttotal: 746ms\tremaining: 233ms\n",
      "762:\tlearn: 0.0850701\ttotal: 746ms\tremaining: 232ms\n",
      "763:\tlearn: 0.0849890\ttotal: 747ms\tremaining: 231ms\n",
      "764:\tlearn: 0.0848964\ttotal: 748ms\tremaining: 230ms\n",
      "765:\tlearn: 0.0848104\ttotal: 749ms\tremaining: 229ms\n",
      "766:\tlearn: 0.0847030\ttotal: 750ms\tremaining: 228ms\n",
      "767:\tlearn: 0.0845401\ttotal: 751ms\tremaining: 227ms\n",
      "768:\tlearn: 0.0844157\ttotal: 752ms\tremaining: 226ms\n",
      "769:\tlearn: 0.0842969\ttotal: 753ms\tremaining: 225ms\n",
      "770:\tlearn: 0.0841865\ttotal: 754ms\tremaining: 224ms\n",
      "771:\tlearn: 0.0840285\ttotal: 755ms\tremaining: 223ms\n",
      "772:\tlearn: 0.0839094\ttotal: 756ms\tremaining: 222ms\n",
      "773:\tlearn: 0.0837646\ttotal: 756ms\tremaining: 221ms\n",
      "774:\tlearn: 0.0836324\ttotal: 757ms\tremaining: 220ms\n",
      "775:\tlearn: 0.0835355\ttotal: 758ms\tremaining: 219ms\n",
      "776:\tlearn: 0.0834185\ttotal: 759ms\tremaining: 218ms\n",
      "777:\tlearn: 0.0833195\ttotal: 760ms\tremaining: 217ms\n",
      "778:\tlearn: 0.0831740\ttotal: 761ms\tremaining: 216ms\n",
      "779:\tlearn: 0.0830536\ttotal: 762ms\tremaining: 215ms\n",
      "780:\tlearn: 0.0829189\ttotal: 763ms\tremaining: 214ms\n",
      "781:\tlearn: 0.0828179\ttotal: 764ms\tremaining: 213ms\n",
      "782:\tlearn: 0.0827152\ttotal: 765ms\tremaining: 212ms\n",
      "783:\tlearn: 0.0825750\ttotal: 766ms\tremaining: 211ms\n"
     ]
    },
    {
     "name": "stdout",
     "output_type": "stream",
     "text": [
      "784:\tlearn: 0.0824722\ttotal: 767ms\tremaining: 210ms\n",
      "785:\tlearn: 0.0823442\ttotal: 768ms\tremaining: 209ms\n",
      "786:\tlearn: 0.0821979\ttotal: 768ms\tremaining: 208ms\n",
      "787:\tlearn: 0.0820038\ttotal: 769ms\tremaining: 207ms\n",
      "788:\tlearn: 0.0818915\ttotal: 770ms\tremaining: 206ms\n",
      "789:\tlearn: 0.0817876\ttotal: 771ms\tremaining: 205ms\n",
      "790:\tlearn: 0.0815931\ttotal: 772ms\tremaining: 204ms\n",
      "791:\tlearn: 0.0815400\ttotal: 773ms\tremaining: 203ms\n",
      "792:\tlearn: 0.0813875\ttotal: 774ms\tremaining: 202ms\n",
      "793:\tlearn: 0.0812309\ttotal: 775ms\tremaining: 201ms\n",
      "794:\tlearn: 0.0810831\ttotal: 776ms\tremaining: 200ms\n",
      "795:\tlearn: 0.0809262\ttotal: 776ms\tremaining: 199ms\n",
      "796:\tlearn: 0.0807028\ttotal: 777ms\tremaining: 198ms\n",
      "797:\tlearn: 0.0805965\ttotal: 778ms\tremaining: 197ms\n",
      "798:\tlearn: 0.0805015\ttotal: 779ms\tremaining: 196ms\n",
      "799:\tlearn: 0.0803151\ttotal: 780ms\tremaining: 195ms\n",
      "800:\tlearn: 0.0802597\ttotal: 781ms\tremaining: 194ms\n",
      "801:\tlearn: 0.0801718\ttotal: 782ms\tremaining: 193ms\n",
      "802:\tlearn: 0.0800818\ttotal: 783ms\tremaining: 192ms\n",
      "803:\tlearn: 0.0800264\ttotal: 784ms\tremaining: 191ms\n",
      "804:\tlearn: 0.0798979\ttotal: 785ms\tremaining: 190ms\n",
      "805:\tlearn: 0.0798075\ttotal: 786ms\tremaining: 189ms\n",
      "806:\tlearn: 0.0796533\ttotal: 786ms\tremaining: 188ms\n",
      "807:\tlearn: 0.0794758\ttotal: 787ms\tremaining: 187ms\n",
      "808:\tlearn: 0.0793975\ttotal: 788ms\tremaining: 186ms\n",
      "809:\tlearn: 0.0793599\ttotal: 789ms\tremaining: 185ms\n",
      "810:\tlearn: 0.0792392\ttotal: 790ms\tremaining: 184ms\n",
      "811:\tlearn: 0.0790571\ttotal: 791ms\tremaining: 183ms\n",
      "812:\tlearn: 0.0790140\ttotal: 792ms\tremaining: 182ms\n",
      "813:\tlearn: 0.0788348\ttotal: 793ms\tremaining: 181ms\n",
      "814:\tlearn: 0.0787612\ttotal: 794ms\tremaining: 180ms\n",
      "815:\tlearn: 0.0786506\ttotal: 794ms\tremaining: 179ms\n",
      "816:\tlearn: 0.0785144\ttotal: 795ms\tremaining: 178ms\n",
      "817:\tlearn: 0.0784187\ttotal: 796ms\tremaining: 177ms\n",
      "818:\tlearn: 0.0783323\ttotal: 797ms\tremaining: 176ms\n",
      "819:\tlearn: 0.0782515\ttotal: 798ms\tremaining: 175ms\n",
      "820:\tlearn: 0.0781808\ttotal: 799ms\tremaining: 174ms\n",
      "821:\tlearn: 0.0781130\ttotal: 800ms\tremaining: 173ms\n",
      "822:\tlearn: 0.0779861\ttotal: 801ms\tremaining: 172ms\n",
      "823:\tlearn: 0.0778671\ttotal: 802ms\tremaining: 171ms\n",
      "824:\tlearn: 0.0777485\ttotal: 803ms\tremaining: 170ms\n",
      "825:\tlearn: 0.0776815\ttotal: 804ms\tremaining: 169ms\n",
      "826:\tlearn: 0.0775840\ttotal: 804ms\tremaining: 168ms\n",
      "827:\tlearn: 0.0774579\ttotal: 805ms\tremaining: 167ms\n",
      "828:\tlearn: 0.0773601\ttotal: 806ms\tremaining: 166ms\n",
      "829:\tlearn: 0.0772990\ttotal: 807ms\tremaining: 165ms\n",
      "830:\tlearn: 0.0772095\ttotal: 808ms\tremaining: 164ms\n",
      "831:\tlearn: 0.0771684\ttotal: 809ms\tremaining: 163ms\n",
      "832:\tlearn: 0.0770362\ttotal: 810ms\tremaining: 162ms\n",
      "833:\tlearn: 0.0769150\ttotal: 811ms\tremaining: 161ms\n",
      "834:\tlearn: 0.0768383\ttotal: 811ms\tremaining: 160ms\n",
      "835:\tlearn: 0.0767141\ttotal: 812ms\tremaining: 159ms\n",
      "836:\tlearn: 0.0765009\ttotal: 813ms\tremaining: 158ms\n",
      "837:\tlearn: 0.0763435\ttotal: 814ms\tremaining: 157ms\n",
      "838:\tlearn: 0.0762349\ttotal: 815ms\tremaining: 156ms\n",
      "839:\tlearn: 0.0761419\ttotal: 816ms\tremaining: 155ms\n",
      "840:\tlearn: 0.0760684\ttotal: 817ms\tremaining: 154ms\n",
      "841:\tlearn: 0.0758840\ttotal: 818ms\tremaining: 153ms\n",
      "842:\tlearn: 0.0757751\ttotal: 819ms\tremaining: 152ms\n",
      "843:\tlearn: 0.0757293\ttotal: 820ms\tremaining: 151ms\n",
      "844:\tlearn: 0.0756111\ttotal: 820ms\tremaining: 150ms\n",
      "845:\tlearn: 0.0755667\ttotal: 821ms\tremaining: 150ms\n",
      "846:\tlearn: 0.0754638\ttotal: 822ms\tremaining: 149ms\n",
      "847:\tlearn: 0.0753325\ttotal: 823ms\tremaining: 148ms\n",
      "848:\tlearn: 0.0752913\ttotal: 824ms\tremaining: 147ms\n",
      "849:\tlearn: 0.0751310\ttotal: 825ms\tremaining: 146ms\n",
      "850:\tlearn: 0.0750624\ttotal: 826ms\tremaining: 145ms\n",
      "851:\tlearn: 0.0749325\ttotal: 827ms\tremaining: 144ms\n",
      "852:\tlearn: 0.0748486\ttotal: 828ms\tremaining: 143ms\n",
      "853:\tlearn: 0.0747484\ttotal: 828ms\tremaining: 142ms\n",
      "854:\tlearn: 0.0745687\ttotal: 829ms\tremaining: 141ms\n",
      "855:\tlearn: 0.0744228\ttotal: 830ms\tremaining: 140ms\n",
      "856:\tlearn: 0.0743115\ttotal: 831ms\tremaining: 139ms\n",
      "857:\tlearn: 0.0741874\ttotal: 832ms\tremaining: 138ms\n",
      "858:\tlearn: 0.0740959\ttotal: 833ms\tremaining: 137ms\n",
      "859:\tlearn: 0.0740316\ttotal: 834ms\tremaining: 136ms\n",
      "860:\tlearn: 0.0739730\ttotal: 835ms\tremaining: 135ms\n",
      "861:\tlearn: 0.0739251\ttotal: 836ms\tremaining: 134ms\n",
      "862:\tlearn: 0.0738016\ttotal: 836ms\tremaining: 133ms\n",
      "863:\tlearn: 0.0736305\ttotal: 837ms\tremaining: 132ms\n",
      "864:\tlearn: 0.0735708\ttotal: 838ms\tremaining: 131ms\n",
      "865:\tlearn: 0.0734579\ttotal: 839ms\tremaining: 130ms\n",
      "866:\tlearn: 0.0733726\ttotal: 840ms\tremaining: 129ms\n",
      "867:\tlearn: 0.0732708\ttotal: 841ms\tremaining: 128ms\n",
      "868:\tlearn: 0.0731923\ttotal: 842ms\tremaining: 127ms\n",
      "869:\tlearn: 0.0730683\ttotal: 843ms\tremaining: 126ms\n",
      "870:\tlearn: 0.0729390\ttotal: 843ms\tremaining: 125ms\n",
      "871:\tlearn: 0.0728714\ttotal: 844ms\tremaining: 124ms\n",
      "872:\tlearn: 0.0727646\ttotal: 845ms\tremaining: 123ms\n",
      "873:\tlearn: 0.0727279\ttotal: 846ms\tremaining: 122ms\n",
      "874:\tlearn: 0.0726203\ttotal: 847ms\tremaining: 121ms\n",
      "875:\tlearn: 0.0725217\ttotal: 848ms\tremaining: 120ms\n",
      "876:\tlearn: 0.0723982\ttotal: 849ms\tremaining: 119ms\n",
      "877:\tlearn: 0.0722839\ttotal: 850ms\tremaining: 118ms\n",
      "878:\tlearn: 0.0721596\ttotal: 851ms\tremaining: 117ms\n",
      "879:\tlearn: 0.0721016\ttotal: 852ms\tremaining: 116ms\n",
      "880:\tlearn: 0.0719633\ttotal: 852ms\tremaining: 115ms\n",
      "881:\tlearn: 0.0718352\ttotal: 853ms\tremaining: 114ms\n",
      "882:\tlearn: 0.0717120\ttotal: 854ms\tremaining: 113ms\n",
      "883:\tlearn: 0.0716162\ttotal: 855ms\tremaining: 112ms\n",
      "884:\tlearn: 0.0715179\ttotal: 856ms\tremaining: 111ms\n",
      "885:\tlearn: 0.0714462\ttotal: 857ms\tremaining: 110ms\n",
      "886:\tlearn: 0.0713458\ttotal: 858ms\tremaining: 109ms\n",
      "887:\tlearn: 0.0712617\ttotal: 859ms\tremaining: 108ms\n",
      "888:\tlearn: 0.0711967\ttotal: 860ms\tremaining: 107ms\n",
      "889:\tlearn: 0.0710852\ttotal: 860ms\tremaining: 106ms\n",
      "890:\tlearn: 0.0709828\ttotal: 861ms\tremaining: 105ms\n",
      "891:\tlearn: 0.0708619\ttotal: 862ms\tremaining: 104ms\n",
      "892:\tlearn: 0.0707425\ttotal: 863ms\tremaining: 103ms\n",
      "893:\tlearn: 0.0706677\ttotal: 864ms\tremaining: 102ms\n",
      "894:\tlearn: 0.0705248\ttotal: 865ms\tremaining: 101ms\n",
      "895:\tlearn: 0.0704767\ttotal: 865ms\tremaining: 100ms\n",
      "896:\tlearn: 0.0703695\ttotal: 866ms\tremaining: 99.5ms\n",
      "897:\tlearn: 0.0703110\ttotal: 867ms\tremaining: 98.5ms\n",
      "898:\tlearn: 0.0702547\ttotal: 868ms\tremaining: 97.5ms\n",
      "899:\tlearn: 0.0701389\ttotal: 869ms\tremaining: 96.6ms\n",
      "900:\tlearn: 0.0700213\ttotal: 870ms\tremaining: 95.6ms\n",
      "901:\tlearn: 0.0699015\ttotal: 871ms\tremaining: 94.6ms\n",
      "902:\tlearn: 0.0697623\ttotal: 872ms\tremaining: 93.6ms\n",
      "903:\tlearn: 0.0696964\ttotal: 872ms\tremaining: 92.7ms\n"
     ]
    },
    {
     "name": "stdout",
     "output_type": "stream",
     "text": [
      "904:\tlearn: 0.0696015\ttotal: 874ms\tremaining: 91.7ms\n",
      "905:\tlearn: 0.0694483\ttotal: 875ms\tremaining: 90.7ms\n",
      "906:\tlearn: 0.0693290\ttotal: 875ms\tremaining: 89.8ms\n",
      "907:\tlearn: 0.0692676\ttotal: 876ms\tremaining: 88.8ms\n",
      "908:\tlearn: 0.0691749\ttotal: 877ms\tremaining: 87.8ms\n",
      "909:\tlearn: 0.0690244\ttotal: 878ms\tremaining: 86.8ms\n",
      "910:\tlearn: 0.0689364\ttotal: 879ms\tremaining: 85.9ms\n",
      "911:\tlearn: 0.0688067\ttotal: 880ms\tremaining: 84.9ms\n",
      "912:\tlearn: 0.0686488\ttotal: 881ms\tremaining: 83.9ms\n",
      "913:\tlearn: 0.0685799\ttotal: 882ms\tremaining: 83ms\n",
      "914:\tlearn: 0.0685250\ttotal: 883ms\tremaining: 82ms\n",
      "915:\tlearn: 0.0684390\ttotal: 884ms\tremaining: 81.1ms\n",
      "916:\tlearn: 0.0683091\ttotal: 885ms\tremaining: 80.1ms\n",
      "917:\tlearn: 0.0682448\ttotal: 886ms\tremaining: 79.1ms\n",
      "918:\tlearn: 0.0681758\ttotal: 886ms\tremaining: 78.1ms\n",
      "919:\tlearn: 0.0680750\ttotal: 887ms\tremaining: 77.2ms\n",
      "920:\tlearn: 0.0680085\ttotal: 888ms\tremaining: 76.2ms\n",
      "921:\tlearn: 0.0678756\ttotal: 889ms\tremaining: 75.2ms\n",
      "922:\tlearn: 0.0677781\ttotal: 890ms\tremaining: 74.2ms\n",
      "923:\tlearn: 0.0676224\ttotal: 891ms\tremaining: 73.3ms\n",
      "924:\tlearn: 0.0675136\ttotal: 892ms\tremaining: 72.3ms\n",
      "925:\tlearn: 0.0674170\ttotal: 893ms\tremaining: 71.3ms\n",
      "926:\tlearn: 0.0673879\ttotal: 893ms\tremaining: 70.4ms\n",
      "927:\tlearn: 0.0672560\ttotal: 894ms\tremaining: 69.4ms\n",
      "928:\tlearn: 0.0671730\ttotal: 895ms\tremaining: 68.4ms\n",
      "929:\tlearn: 0.0670672\ttotal: 896ms\tremaining: 67.5ms\n",
      "930:\tlearn: 0.0669970\ttotal: 897ms\tremaining: 66.5ms\n",
      "931:\tlearn: 0.0669480\ttotal: 898ms\tremaining: 65.5ms\n",
      "932:\tlearn: 0.0668325\ttotal: 899ms\tremaining: 64.5ms\n",
      "933:\tlearn: 0.0667516\ttotal: 900ms\tremaining: 63.6ms\n",
      "934:\tlearn: 0.0666751\ttotal: 901ms\tremaining: 62.6ms\n",
      "935:\tlearn: 0.0666416\ttotal: 901ms\tremaining: 61.6ms\n",
      "936:\tlearn: 0.0665696\ttotal: 902ms\tremaining: 60.7ms\n",
      "937:\tlearn: 0.0665384\ttotal: 903ms\tremaining: 59.7ms\n",
      "938:\tlearn: 0.0664176\ttotal: 904ms\tremaining: 58.7ms\n",
      "939:\tlearn: 0.0663665\ttotal: 905ms\tremaining: 57.8ms\n",
      "940:\tlearn: 0.0662974\ttotal: 906ms\tremaining: 56.8ms\n",
      "941:\tlearn: 0.0661813\ttotal: 907ms\tremaining: 55.8ms\n",
      "942:\tlearn: 0.0661485\ttotal: 907ms\tremaining: 54.8ms\n",
      "943:\tlearn: 0.0660479\ttotal: 908ms\tremaining: 53.9ms\n",
      "944:\tlearn: 0.0659111\ttotal: 909ms\tremaining: 52.9ms\n",
      "945:\tlearn: 0.0658337\ttotal: 910ms\tremaining: 51.9ms\n",
      "946:\tlearn: 0.0657817\ttotal: 911ms\tremaining: 51ms\n",
      "947:\tlearn: 0.0656864\ttotal: 912ms\tremaining: 50ms\n",
      "948:\tlearn: 0.0656182\ttotal: 913ms\tremaining: 49ms\n",
      "949:\tlearn: 0.0655969\ttotal: 913ms\tremaining: 48.1ms\n",
      "950:\tlearn: 0.0654593\ttotal: 914ms\tremaining: 47.1ms\n",
      "951:\tlearn: 0.0653919\ttotal: 915ms\tremaining: 46.1ms\n",
      "952:\tlearn: 0.0652377\ttotal: 916ms\tremaining: 45.2ms\n",
      "953:\tlearn: 0.0651775\ttotal: 917ms\tremaining: 44.2ms\n",
      "954:\tlearn: 0.0650061\ttotal: 918ms\tremaining: 43.3ms\n",
      "955:\tlearn: 0.0649156\ttotal: 919ms\tremaining: 42.3ms\n",
      "956:\tlearn: 0.0648024\ttotal: 920ms\tremaining: 41.3ms\n",
      "957:\tlearn: 0.0647431\ttotal: 921ms\tremaining: 40.4ms\n",
      "958:\tlearn: 0.0646807\ttotal: 922ms\tremaining: 39.4ms\n",
      "959:\tlearn: 0.0645625\ttotal: 923ms\tremaining: 38.4ms\n",
      "960:\tlearn: 0.0644647\ttotal: 923ms\tremaining: 37.5ms\n",
      "961:\tlearn: 0.0643599\ttotal: 924ms\tremaining: 36.5ms\n",
      "962:\tlearn: 0.0643492\ttotal: 925ms\tremaining: 35.5ms\n",
      "963:\tlearn: 0.0642655\ttotal: 926ms\tremaining: 34.6ms\n",
      "964:\tlearn: 0.0642357\ttotal: 927ms\tremaining: 33.6ms\n",
      "965:\tlearn: 0.0641556\ttotal: 928ms\tremaining: 32.7ms\n",
      "966:\tlearn: 0.0640848\ttotal: 929ms\tremaining: 31.7ms\n",
      "967:\tlearn: 0.0640498\ttotal: 930ms\tremaining: 30.7ms\n",
      "968:\tlearn: 0.0639298\ttotal: 931ms\tremaining: 29.8ms\n",
      "969:\tlearn: 0.0638842\ttotal: 932ms\tremaining: 28.8ms\n",
      "970:\tlearn: 0.0638144\ttotal: 933ms\tremaining: 27.9ms\n",
      "971:\tlearn: 0.0637567\ttotal: 934ms\tremaining: 26.9ms\n",
      "972:\tlearn: 0.0637479\ttotal: 935ms\tremaining: 25.9ms\n",
      "973:\tlearn: 0.0637388\ttotal: 936ms\tremaining: 25ms\n",
      "974:\tlearn: 0.0636404\ttotal: 937ms\tremaining: 24ms\n",
      "975:\tlearn: 0.0635652\ttotal: 938ms\tremaining: 23.1ms\n",
      "976:\tlearn: 0.0634243\ttotal: 938ms\tremaining: 22.1ms\n",
      "977:\tlearn: 0.0633700\ttotal: 939ms\tremaining: 21.1ms\n",
      "978:\tlearn: 0.0633146\ttotal: 940ms\tremaining: 20.2ms\n",
      "979:\tlearn: 0.0632140\ttotal: 941ms\tremaining: 19.2ms\n",
      "980:\tlearn: 0.0631649\ttotal: 942ms\tremaining: 18.2ms\n",
      "981:\tlearn: 0.0631060\ttotal: 943ms\tremaining: 17.3ms\n",
      "982:\tlearn: 0.0630965\ttotal: 944ms\tremaining: 16.3ms\n",
      "983:\tlearn: 0.0630448\ttotal: 945ms\tremaining: 15.4ms\n",
      "984:\tlearn: 0.0629412\ttotal: 945ms\tremaining: 14.4ms\n",
      "985:\tlearn: 0.0628660\ttotal: 946ms\tremaining: 13.4ms\n",
      "986:\tlearn: 0.0627656\ttotal: 947ms\tremaining: 12.5ms\n",
      "987:\tlearn: 0.0626889\ttotal: 948ms\tremaining: 11.5ms\n",
      "988:\tlearn: 0.0625900\ttotal: 949ms\tremaining: 10.6ms\n",
      "989:\tlearn: 0.0625793\ttotal: 950ms\tremaining: 9.6ms\n",
      "990:\tlearn: 0.0624883\ttotal: 951ms\tremaining: 8.64ms\n",
      "991:\tlearn: 0.0624023\ttotal: 952ms\tremaining: 7.68ms\n",
      "992:\tlearn: 0.0623202\ttotal: 953ms\tremaining: 6.72ms\n",
      "993:\tlearn: 0.0622193\ttotal: 954ms\tremaining: 5.76ms\n",
      "994:\tlearn: 0.0620968\ttotal: 955ms\tremaining: 4.8ms\n",
      "995:\tlearn: 0.0620156\ttotal: 956ms\tremaining: 3.84ms\n",
      "996:\tlearn: 0.0619308\ttotal: 957ms\tremaining: 2.88ms\n"
     ]
    },
    {
     "name": "stdout",
     "output_type": "stream",
     "text": [
      "997:\tlearn: 0.0617908\ttotal: 958ms\tremaining: 1.92ms\n",
      "998:\tlearn: 0.0617086\ttotal: 959ms\tremaining: 959us\n",
      "999:\tlearn: 0.0616977\ttotal: 960ms\tremaining: 0us\n"
     ]
    },
    {
     "data": {
      "text/plain": [
       "<catboost.core.CatBoostRegressor at 0x7fdbe2c80e20>"
      ]
     },
     "execution_count": 9,
     "metadata": {},
     "output_type": "execute_result"
    }
   ],
   "source": [
    "#Train the Model \n",
    "prior_model = ctb.CatBoostRegressor()\n",
    "prior_model.fit(X_train,Y_train)"
   ]
  },
  {
   "cell_type": "code",
   "execution_count": 10,
   "id": "af65dcda",
   "metadata": {
    "execution": {
     "iopub.execute_input": "2022-06-11T14:09:26.834311Z",
     "iopub.status.busy": "2022-06-11T14:09:26.833929Z",
     "iopub.status.idle": "2022-06-11T14:09:26.841760Z",
     "shell.execute_reply": "2022-06-11T14:09:26.842112Z"
    },
    "id": "af65dcda",
    "papermill": {
     "duration": 0.02197,
     "end_time": "2022-06-11T14:09:26.842236",
     "exception": false,
     "start_time": "2022-06-11T14:09:26.820266",
     "status": "completed"
    },
    "tags": []
   },
   "outputs": [
    {
     "data": {
      "application/scrapbook.scrap.json+json": {
       "data": 0.06853735115320858,
       "encoder": "json",
       "name": "Prior Model MSE",
       "version": 1
      }
     },
     "metadata": {
      "scrapbook": {
       "data": true,
       "display": false,
       "name": "Prior Model MSE"
      }
     },
     "output_type": "display_data"
    },
    {
     "data": {
      "application/scrapbook.scrap.json+json": {
       "data": 1.092022426539102,
       "encoder": "json",
       "name": "ABC Pre-generator MSE",
       "version": 1
      }
     },
     "metadata": {
      "scrapbook": {
       "data": true,
       "display": false,
       "name": "ABC Pre-generator MSE"
      }
     },
     "output_type": "display_data"
    },
    {
     "data": {
      "application/scrapbook.scrap.json+json": {
       "data": 0.1916375259280534,
       "encoder": "json",
       "name": "Prior Model MSE",
       "version": 1
      }
     },
     "metadata": {
      "scrapbook": {
       "data": true,
       "display": false,
       "name": "Prior Model MSE"
      }
     },
     "output_type": "display_data"
    },
    {
     "data": {
      "application/scrapbook.scrap.json+json": {
       "data": 1.007542396498095,
       "encoder": "json",
       "name": "ABC Pre-generator MSE",
       "version": 1
      }
     },
     "metadata": {
      "scrapbook": {
       "data": true,
       "display": false,
       "name": "ABC Pre-generator MSE"
      }
     },
     "output_type": "display_data"
    }
   ],
   "source": [
    "y_pred = prior_model.predict(X_test)\n",
    "y_abc = y_pred + np.random.normal(0,variance, y_pred.shape) + bias \n",
    "mse = mean_squared_error(y_pred,Y_test)\n",
    "sb.glue(\"Prior Model MSE\",mse)\n",
    "mse = mean_squared_error(y_abc,Y_test)\n",
    "sb.glue(\"ABC Pre-generator MSE\",mse)\n",
    "mae = mean_absolute_error(y_pred,Y_test)\n",
    "sb.glue(\"Prior Model MSE\",mae)\n",
    "mae = mean_absolute_error(y_abc,Y_test)\n",
    "sb.glue(\"ABC Pre-generator MSE\",mae)"
   ]
  },
  {
   "cell_type": "markdown",
   "id": "25609da2",
   "metadata": {
    "papermill": {
     "duration": 0.009929,
     "end_time": "2022-06-11T14:09:26.862348",
     "exception": false,
     "start_time": "2022-06-11T14:09:26.852419",
     "status": "completed"
    },
    "tags": []
   },
   "source": [
    "# ABC GAN Model"
   ]
  },
  {
   "cell_type": "code",
   "execution_count": 11,
   "id": "dfc3464d",
   "metadata": {
    "execution": {
     "iopub.execute_input": "2022-06-11T14:09:26.885278Z",
     "iopub.status.busy": "2022-06-11T14:09:26.884904Z",
     "iopub.status.idle": "2022-06-11T14:09:26.887288Z",
     "shell.execute_reply": "2022-06-11T14:09:26.887533Z"
    },
    "papermill": {
     "duration": 0.015382,
     "end_time": "2022-06-11T14:09:26.887644",
     "exception": false,
     "start_time": "2022-06-11T14:09:26.872262",
     "status": "completed"
    },
    "tags": []
   },
   "outputs": [],
   "source": [
    "gen = network.Generator(n_features+1).to(device)\n",
    "disc = network.Discriminator(n_features+1).to(device)\n",
    "\n",
    "criterion = torch.nn.BCELoss()\n",
    "gen_opt = torch.optim.Adam(gen.parameters(), lr=0.001, betas=(0.5, 0.999))\n",
    "disc_opt = torch.optim.Adam(disc.parameters(), lr=0.001, betas=(0.5, 0.999))"
   ]
  },
  {
   "cell_type": "code",
   "execution_count": 12,
   "id": "b75fdd85",
   "metadata": {
    "execution": {
     "iopub.execute_input": "2022-06-11T14:09:26.910524Z",
     "iopub.status.busy": "2022-06-11T14:09:26.910155Z",
     "iopub.status.idle": "2022-06-11T14:10:26.434415Z",
     "shell.execute_reply": "2022-06-11T14:10:26.434723Z"
    },
    "papermill": {
     "duration": 59.537113,
     "end_time": "2022-06-11T14:10:26.434847",
     "exception": false,
     "start_time": "2022-06-11T14:09:26.897734",
     "status": "completed"
    },
    "tags": []
   },
   "outputs": [
    {
     "data": {
      "image/png": "[encoded data removed]",
      "text/plain": [
       "<Figure size 432x288 with 1 Axes>"
      ]
     },
     "metadata": {
      "needs_background": "light"
     },
     "output_type": "display_data"
    },
    {
     "data": {
      "image/png": "[encoded data removed]",
      "text/plain": [
       "<Figure size 432x288 with 1 Axes>"
      ]
     },
     "metadata": {
      "needs_background": "light"
     },
     "output_type": "display_data"
    }
   ],
   "source": [
    "#Training the ABC_GAN \n",
    "ABC_train_test2.training_GAN(disc,gen,disc_opt,gen_opt,train_data,batch_size,n_epochs,criterion,prior_model,variance,bias,device)"
   ]
  },
  {
   "cell_type": "code",
   "execution_count": 13,
   "id": "1fa7c368",
   "metadata": {
    "execution": {
     "iopub.execute_input": "2022-06-11T14:10:26.460504Z",
     "iopub.status.busy": "2022-06-11T14:10:26.460116Z",
     "iopub.status.idle": "2022-06-11T14:10:26.774372Z",
     "shell.execute_reply": "2022-06-11T14:10:26.774686Z"
    },
    "papermill": {
     "duration": 0.329029,
     "end_time": "2022-06-11T14:10:26.774812",
     "exception": false,
     "start_time": "2022-06-11T14:10:26.445783",
     "status": "completed"
    },
    "tags": []
   },
   "outputs": [
    {
     "data": {
      "application/scrapbook.scrap.json+json": {
       "data": 0.07985736710969384,
       "encoder": "json",
       "name": "ABC-GAN Model 1 MSE",
       "version": 1
      }
     },
     "metadata": {
      "scrapbook": {
       "data": true,
       "display": false,
       "name": "ABC-GAN Model 1 MSE"
      }
     },
     "output_type": "display_data"
    },
    {
     "data": {
      "application/scrapbook.scrap.json+json": {
       "data": 0.2015743087681339,
       "encoder": "json",
       "name": "ABC-GAN Model 1 MAE",
       "version": 1
      }
     },
     "metadata": {
      "scrapbook": {
       "data": true,
       "display": false,
       "name": "ABC-GAN Model 1 MAE"
      }
     },
     "output_type": "display_data"
    },
    {
     "data": {
      "application/scrapbook.scrap.json+json": {
       "data": 20.560579494349657,
       "encoder": "json",
       "name": "ABC-GAN Model 1 Manhattan Distance",
       "version": 1
      }
     },
     "metadata": {
      "scrapbook": {
       "data": true,
       "display": false,
       "name": "ABC-GAN Model 1 Manhattan Distance"
      }
     },
     "output_type": "display_data"
    },
    {
     "data": {
      "application/scrapbook.scrap.json+json": {
       "data": 2.853373672669552,
       "encoder": "json",
       "name": "ABC-GAN Model 1 Euclidean distance",
       "version": 1
      }
     },
     "metadata": {
      "scrapbook": {
       "data": true,
       "display": false,
       "name": "ABC-GAN Model 1 Euclidean distance"
      }
     },
     "output_type": "display_data"
    },
    {
     "data": {
      "application/scrapbook.scrap.json+json": {
       "data": [
        [
         0.08556616111936244,
         0.07504243861397229,
         0.07419312786676475,
         0.08580840280862344,
         0.07644085990898154,
         0.08649569837457445,
         0.0741969961112996,
         0.08283289451417457,
         0.08031134631279967,
         0.07911371995184341,
         0.08113198162696209,
         0.08514978058915465,
         0.07699436958011519,
         0.07982901607116788,
         0.07779181014608381,
         0.07994932044306155,
         0.07514608567368747,
         0.07857876994342236,
         0.07420189656561775,
         0.08246321168575185,
         0.07470514442470289,
         0.07993027370820276,
         0.07500783453831963,
         0.0869809867394931,
         0.08362483127338446,
         0.08120048904074624,
         0.08412880358338368,
         0.08097079186782646,
         0.07865888126580468,
         0.0728306448582996,
         0.08124963699106934,
         0.0785021892151615,
         0.07919468059141412,
         0.07852953339749887,
         0.0801830446423565,
         0.08355930694336192,
         0.08357362916338407,
         0.08303226061651102,
         0.07955891492826023,
         0.08106945074988242,
         0.07616334364225082,
         0.08189083174729087,
         0.08113256650568428,
         0.08364360607057146,
         0.08145406978987002,
         0.08053347283180816,
         0.07568902657985643,
         0.08348006971400153,
         0.08554932377870843,
         0.07649766939854781,
         0.08284459518050252,
         0.07251462254948689,
         0.07772937987139307,
         0.0766139038496927,
         0.07929600929940504,
         0.08193882937132499,
         0.0788869826250308,
         0.08095884295187084,
         0.07866198337396665,
         0.08003027813045936,
         0.08107939364973521,
         0.07660125717213155,
         0.07767014556297046,
         0.07874145969179001,
         0.07726556538570474,
         0.08114987916501121,
         0.08045154834421103,
         0.08052644717392514,
         0.08072775314715418,
         0.08204018863707585,
         0.08572612796569168,
         0.08036671299787514,
         0.08950689324193965,
         0.07841766551145948,
         0.07344435159076346,
         0.08227326629529533,
         0.07711714484053181,
         0.08023811312438703,
         0.07924582647397865,
         0.07746826647798014,
         0.0759073924360395,
         0.07880879111179455,
         0.08033580308122353,
         0.08507388930883779,
         0.07904027496663647,
         0.08257947792245919,
         0.08129026505534083,
         0.0840804662148413,
         0.08108454371982254,
         0.07846725710161219,
         0.07494079429437002,
         0.08142682403944743,
         0.07464094555415812,
         0.0772643296957897,
         0.07745542809895847,
         0.07921012655845383,
         0.08579146217060597,
         0.07789760017661294,
         0.07772890957188193,
         0.07941549973267858
        ],
        [
         0.21139686800283836,
         0.19300558276510998,
         0.1930935519345689,
         0.21307011681846252,
         0.19961736896349228,
         0.20957519100321567,
         0.1982334975025379,
         0.20881081895683617,
         0.20406606717619533,
         0.1948464308025352,
         0.2028821482797902,
         0.2049765436106599,
         0.19635059228897386,
         0.20135234328279017,
         0.19916244575242495,
         0.20178051547640385,
         0.194474679682696,
         0.20324484343804858,
         0.1969746354255168,
         0.20534752018055788,
         0.1954908924743387,
         0.2002172034836429,
         0.19328546486612336,
         0.20413787295019217,
         0.20618494235746124,
         0.2027416268053154,
         0.2044429885789606,
         0.20655321601011298,
         0.20171188238971666,
         0.18978243727492644,
         0.1996465233410252,
         0.19818855008548675,
         0.20309827539741115,
         0.20224673615987687,
         0.20268516915430332,
         0.2024238579723911,
         0.21026527367568776,
         0.20149365041003214,
         0.20122937577794872,
         0.20253484733585342,
         0.1911169754834298,
         0.2070205122615923,
         0.2040992688990253,
         0.20292207453509464,
         0.20814589892203608,
         0.20096498202788188,
         0.19873802107302288,
         0.20170524611375204,
         0.2038275236172565,
         0.1979757132757382,
         0.20303035437074654,
         0.1909941765844968,
         0.1982314154304856,
         0.2010936776596103,
         0.20189029227613525,
         0.20520623659203743,
         0.20127174551324808,
         0.19928672755429266,
         0.20727022245124566,
         0.20719590060887674,
         0.20635298368356683,
         0.19532634917756214,
         0.20045586563098958,
         0.20127055137509517,
         0.1952247765262191,
         0.20681273366562,
         0.19975375940146692,
         0.2067328146111001,
         0.2003821917334754,
         0.20314271007573195,
         0.21151817222034522,
         0.1985951207815578,
         0.2135586963656048,
         0.19612384106342992,
         0.19758067916457853,
         0.20431422722507633,
         0.20028955488483988,
         0.20333298891965373,
         0.20405556603937464,
         0.2021650853201601,
         0.19039112838058203,
         0.1972815379336038,
         0.20026989022781158,
         0.20609875594028362,
         0.20050139861254423,
         0.20517715840034334,
         0.2037451700490041,
         0.21259550860736007,
         0.20307168880404503,
         0.19845775645408853,
         0.1923213252414237,
         0.2030717615567732,
         0.19755644414245205,
         0.19786964136851476,
         0.20013239781609646,
         0.20544068450473396,
         0.20726788981689834,
         0.1983493461237088,
         0.19414813897809854,
         0.20408507289511024
        ],
        [
         21.562480536289513,
         19.68656944204122,
         19.69554229732603,
         21.733151915483177,
         20.36097163427621,
         21.376669482327998,
         20.219816745258868,
         21.29870353359729,
         20.814738851971924,
         19.87433594185859,
         20.6939791245386,
         20.907607448287308,
         20.027760413475335,
         20.537939014844596,
         20.314569466747344,
         20.581612578593194,
         19.83641732763499,
         20.730974030680954,
         20.091412813402712,
         20.945447058416903,
         19.940071032382548,
         20.422154755331576,
         19.715117416344583,
         20.822063040919602,
         21.030864120461047,
         20.679645934142172,
         20.85318483505398,
         21.068428033031523,
         20.5746120037511,
         19.357808602042496,
         20.36394538078457,
         20.215232108719647,
         20.71602409053594,
         20.62916708830744,
         20.67388725373894,
         20.64723351318389,
         21.44705791492015,
         20.55235234182328,
         20.52539632935077,
         20.658554428257048,
         19.493931499309838,
         21.116092250682414,
         20.81812542770058,
         20.698051602579653,
         21.23088169004768,
         20.49842816684395,
         20.271278149448335,
         20.573935103602707,
         20.790407408960164,
         20.193522754125297,
         20.709096145816147,
         19.481406011618674,
         20.219604373909533,
         20.511555121280253,
         20.592809812165797,
         20.931036132387817,
         20.529718042351305,
         20.32724621053785,
         21.141562690027058,
         21.13398186210543,
         21.048004335723817,
         19.923287616111338,
         20.446498294360936,
         20.529596240259707,
         19.91292720567435,
         21.09489883389324,
         20.374883458949625,
         21.08674709033221,
         20.43898355681449,
         20.72055642772466,
         21.574853566475213,
         20.256702319718897,
         21.78298702929169,
         20.00463178846985,
         20.15322927478701,
         20.840051176957786,
         20.429534598253667,
         20.73996486980468,
         20.813667736016214,
         20.62083870265633,
         19.419895094819367,
         20.122716869227588,
         20.427528803236783,
         21.02207310590893,
         20.45114265847951,
         20.92807015683502,
         20.78200734499842,
         21.684741877950728,
         20.713312258012593,
         20.24269115831703,
         19.616775174625218,
         20.713319678790867,
         20.15075730253011,
         20.182703419588506,
         20.413504577241838,
         20.954949819482863,
         21.14132476132363,
         20.2316333046183,
         19.80311017576605,
         20.816677435301244
        ],
        [
         2.9542762961806686,
         2.766645755897414,
         2.7509451180294393,
         2.958455185815663,
         2.7923050891183285,
         2.970279655892117,
         2.7510168308013965,
         2.9067086610883113,
         2.8621246171167263,
         2.840704038629865,
         2.8767102957979853,
         2.947079506917615,
         2.802396420418023,
         2.85351706482704,
         2.8168714267606445,
         2.8556664170018666,
         2.7685557134932504,
         2.8310836325034767,
         2.7511076768627234,
         2.90021509408297,
         2.760421114851807,
         2.855326236743655,
         2.766007795164106,
         2.97860045112269,
         2.920570627443414,
         2.8779245789554873,
         2.9293579442439492,
         2.8738512088342882,
         2.8325264145479876,
         2.7255688902587947,
         2.8787954031311553,
         2.829703747735171,
         2.842157177272967,
         2.8301965314346784,
         2.8598375047404985,
         2.9194261950292417,
         2.919676381838434,
         2.910204560316014,
         2.848685542962323,
         2.875601498206594,
         2.787231790057939,
         2.890132321922937,
         2.8767206648508292,
         2.920898460953117,
         2.8824148068185362,
         2.8660799411119764,
         2.778539312506727,
         2.918041656801382,
         2.9539856169975267,
         2.7933424921859973,
         2.906913949261529,
         2.7196491501750115,
         2.815740887738446,
         2.7954638600183435,
         2.843974850194585,
         2.890979175967055,
         2.8366304355261267,
         2.873639152901913,
         2.8325822678511208,
         2.857111893032342,
         2.8757778343037894,
         2.795233126513318,
         2.81466780409749,
         2.8340128596325354,
         2.807327495918829,
         2.8770275763070368,
         2.864621778020534,
         2.8659549214424787,
         2.8695349485604327,
         2.8927667104316823,
         2.957036532155217,
         2.8631110222593996,
         3.0215398575358625,
         2.8281799592969445,
         2.737028290364912,
         2.8968729972368688,
         2.804629881773038,
         2.8608193823950985,
         2.8430747968257575,
         2.8110075027921884,
         2.782544524077922,
         2.8352242756796233,
         2.8625603774042565,
         2.9457658952302124,
         2.83938515291549,
         2.902258904386519,
         2.8795150695290275,
         2.9285162717515867,
         2.875869165908265,
         2.8290740931202993,
         2.7647714223830047,
         2.881932693874657,
         2.759234757414477,
         2.8073050473667,
         2.8107745669287962,
         2.842434327994631,
         2.958163136373957,
         2.818786124915212,
         2.815732369443509,
         2.8461168234514225
        ]
       ],
       "encoder": "json",
       "name": "ABC_GAN_1 Metrics",
       "version": 1
      }
     },
     "metadata": {
      "scrapbook": {
       "data": true,
       "display": false,
       "name": "ABC_GAN_1 Metrics"
      }
     },
     "output_type": "display_data"
    },
    {
     "name": "stdout",
     "output_type": "stream",
     "text": [
      "MSE\n",
      "0.07985736710969384\n"
     ]
    }
   ],
   "source": [
    "ABC_GAN1_metrics=ABC_train_test2.test_generator(gen,test_data,prior_model,variance,bias,\"1\",device)\n",
    "sb.glue(\"ABC_GAN_1 Metrics\",ABC_GAN1_metrics)\n",
    "\n",
    "print(\"MSE\")\n",
    "print(mean(ABC_GAN1_metrics[0]))"
   ]
  },
  {
   "cell_type": "code",
   "execution_count": 14,
   "id": "eb22ce5c",
   "metadata": {
    "execution": {
     "iopub.execute_input": "2022-06-11T14:10:26.803262Z",
     "iopub.status.busy": "2022-06-11T14:10:26.802867Z",
     "iopub.status.idle": "2022-06-11T14:10:27.133746Z",
     "shell.execute_reply": "2022-06-11T14:10:27.134010Z"
    },
    "papermill": {
     "duration": 0.346568,
     "end_time": "2022-06-11T14:10:27.134133",
     "exception": false,
     "start_time": "2022-06-11T14:10:26.787565",
     "status": "completed"
    },
    "tags": []
   },
   "outputs": [
    {
     "data": {
      "image/png": "[encoded data removed]",
      "text/plain": [
       "<Figure size 432x288 with 1 Axes>"
      ]
     },
     "metadata": {
      "needs_background": "light"
     },
     "output_type": "display_data"
    },
    {
     "data": {
      "image/png": "[encoded data removed]",
      "text/plain": [
       "<Figure size 432x288 with 1 Axes>"
      ]
     },
     "metadata": {
      "needs_background": "light"
     },
     "output_type": "display_data"
    },
    {
     "data": {
      "image/png": "[encoded data removed]",
      "text/plain": [
       "<Figure size 432x288 with 1 Axes>"
      ]
     },
     "metadata": {
      "needs_background": "light"
     },
     "output_type": "display_data"
    },
    {
     "data": {
      "image/png": "[encoded data removed]",
      "text/plain": [
       "<Figure size 432x288 with 1 Axes>"
      ]
     },
     "metadata": {
      "needs_background": "light"
     },
     "output_type": "display_data"
    }
   ],
   "source": [
    "sanityChecks.discProbVsError(train_data,disc,device)\n",
    "sanityChecks.discProbVsError(test_data,disc,device)"
   ]
  },
  {
   "cell_type": "markdown",
   "id": "130f3a4d",
   "metadata": {
    "id": "130f3a4d",
    "papermill": {
     "duration": 0.014304,
     "end_time": "2022-06-11T14:10:27.163233",
     "exception": false,
     "start_time": "2022-06-11T14:10:27.148929",
     "status": "completed"
    },
    "tags": []
   },
   "source": [
    "# ABC - GAN Model with skip connection"
   ]
  },
  {
   "cell_type": "code",
   "execution_count": 15,
   "id": "4e43dad1",
   "metadata": {
    "execution": {
     "iopub.execute_input": "2022-06-11T14:10:27.196316Z",
     "iopub.status.busy": "2022-06-11T14:10:27.195935Z",
     "iopub.status.idle": "2022-06-11T14:10:27.198491Z",
     "shell.execute_reply": "2022-06-11T14:10:27.198747Z"
    },
    "id": "4e43dad1",
    "papermill": {
     "duration": 0.020961,
     "end_time": "2022-06-11T14:10:27.198858",
     "exception": false,
     "start_time": "2022-06-11T14:10:27.177897",
     "status": "completed"
    },
    "tags": []
   },
   "outputs": [],
   "source": [
    "#Generator\n",
    "gen3 = network.GeneratorWithSkipConnection(n_features+1).to(device)\n",
    "constraints=network.weightConstraint()\n",
    "#Discriminator \n",
    "disc3 = network.Discriminator(n_features+1).to(device)\n",
    "\n",
    "criterion = torch.nn.BCELoss()\n",
    "gen_opt = torch.optim.Adam(gen3.parameters(), lr=0.001, betas=(0.5, 0.999))\n",
    "disc_opt = torch.optim.Adam(disc3.parameters(), lr=0.001, betas=(0.5, 0.999))\n"
   ]
  },
  {
   "cell_type": "code",
   "execution_count": 16,
   "id": "26acbc37",
   "metadata": {
    "execution": {
     "iopub.execute_input": "2022-06-11T14:10:27.231076Z",
     "iopub.status.busy": "2022-06-11T14:10:27.230699Z",
     "iopub.status.idle": "2022-06-11T14:56:10.343519Z",
     "shell.execute_reply": "2022-06-11T14:56:10.343840Z"
    },
    "id": "26acbc37",
    "papermill": {
     "duration": 2743.130142,
     "end_time": "2022-06-11T14:56:10.343980",
     "exception": false,
     "start_time": "2022-06-11T14:10:27.213838",
     "status": "completed"
    },
    "tags": []
   },
   "outputs": [
    {
     "data": {
      "image/png": "[encoded data removed]",
      "text/plain": [
       "<Figure size 432x288 with 1 Axes>"
      ]
     },
     "metadata": {
      "needs_background": "light"
     },
     "output_type": "display_data"
    },
    {
     "data": {
      "image/png": "[encoded data removed]",
      "text/plain": [
       "<Figure size 432x288 with 1 Axes>"
      ]
     },
     "metadata": {
      "needs_background": "light"
     },
     "output_type": "display_data"
    }
   ],
   "source": [
    "ABC_train_test2.training_GAN_skip_connection(disc3,gen3,disc_opt,gen_opt,train_data,batch_size,n_epochs,criterion,prior_model,variance,bias,device)"
   ]
  },
  {
   "cell_type": "code",
   "execution_count": 17,
   "id": "c5e0717b",
   "metadata": {
    "execution": {
     "iopub.execute_input": "2022-06-11T14:56:10.378462Z",
     "iopub.status.busy": "2022-06-11T14:56:10.378083Z",
     "iopub.status.idle": "2022-06-11T14:56:11.235004Z",
     "shell.execute_reply": "2022-06-11T14:56:11.235297Z"
    },
    "id": "c5e0717b",
    "papermill": {
     "duration": 0.875492,
     "end_time": "2022-06-11T14:56:11.235451",
     "exception": false,
     "start_time": "2022-06-11T14:56:10.359959",
     "status": "completed"
    },
    "tags": []
   },
   "outputs": [
    {
     "data": {
      "application/scrapbook.scrap.json+json": {
       "data": 0.0754462061283809,
       "encoder": "json",
       "name": "ABC-GAN Model 3 MSE",
       "version": 1
      }
     },
     "metadata": {
      "scrapbook": {
       "data": true,
       "display": false,
       "name": "ABC-GAN Model 3 MSE"
      }
     },
     "output_type": "display_data"
    },
    {
     "data": {
      "application/scrapbook.scrap.json+json": {
       "data": 0.1937729071086163,
       "encoder": "json",
       "name": "ABC-GAN Model 3 MAE",
       "version": 1
      }
     },
     "metadata": {
      "scrapbook": {
       "data": true,
       "display": false,
       "name": "ABC-GAN Model 3 MAE"
      }
     },
     "output_type": "display_data"
    },
    {
     "data": {
      "application/scrapbook.scrap.json+json": {
       "data": 19.764836525078863,
       "encoder": "json",
       "name": "ABC-GAN Model 3 Manhattan Distance",
       "version": 1
      }
     },
     "metadata": {
      "scrapbook": {
       "data": true,
       "display": false,
       "name": "ABC-GAN Model 3 Manhattan Distance"
      }
     },
     "output_type": "display_data"
    },
    {
     "data": {
      "application/scrapbook.scrap.json+json": {
       "data": 2.7727619232058767,
       "encoder": "json",
       "name": "ABC-GAN Model 3 Euclidean distance",
       "version": 1
      }
     },
     "metadata": {
      "scrapbook": {
       "data": true,
       "display": false,
       "name": "ABC-GAN Model 3 Euclidean distance"
      }
     },
     "output_type": "display_data"
    },
    {
     "data": {
      "application/scrapbook.scrap.json+json": {
       "data": [
        [
         0.07583050316501874,
         0.08217741221958032,
         0.07462461194845182,
         0.08800977648966461,
         0.08036765481119147,
         0.07685402224853766,
         0.07819689162963987,
         0.0719980245326306,
         0.0829741776909114,
         0.07871238865948205,
         0.0781460801648262,
         0.08094416650209536,
         0.07974189088767475,
         0.0742462396277294,
         0.07394717508076507,
         0.06624401410711919,
         0.07855494942461899,
         0.07562341021994949,
         0.07320912965821955,
         0.08043714373806957,
         0.08230116879310159,
         0.07912631534112258,
         0.0721894731758478,
         0.07521748811109581,
         0.08066771271424311,
         0.07776149381792177,
         0.08040664269458642,
         0.0674765825944403,
         0.07755757369241338,
         0.08055616536872705,
         0.0771662141085615,
         0.07640117694063094,
         0.06972186642508836,
         0.07487606024006188,
         0.07383216669789601,
         0.0816632244066999,
         0.0699584418804305,
         0.07792501499902538,
         0.07583230119174299,
         0.07357039430096306,
         0.0758805420395621,
         0.07142156287196288,
         0.0740787274663363,
         0.0691381806361942,
         0.07206961262783601,
         0.07658527061292626,
         0.07286617184962291,
         0.07384900756702102,
         0.07855415703420499,
         0.07666873938563416,
         0.08146219856075342,
         0.07585894204568856,
         0.07950646175199579,
         0.07974253898653023,
         0.07385425833275856,
         0.07409530059444153,
         0.08320882328701688,
         0.06511244630249984,
         0.0743734338720548,
         0.07707398545166173,
         0.079626272114587,
         0.07045002495344974,
         0.08094784962408748,
         0.07238779447138176,
         0.071744009435386,
         0.07699295423391567,
         0.07452252337054156,
         0.07747572729783303,
         0.06926727988851612,
         0.06545413096194654,
         0.06860065096564343,
         0.07698040717518036,
         0.07033591706759582,
         0.08542432555864389,
         0.08063243018958167,
         0.07549210958014932,
         0.07686835877153045,
         0.08252978352457986,
         0.07941979700955881,
         0.0750119590373387,
         0.07406953986428552,
         0.07939769316201849,
         0.07340448125675322,
         0.07466645600640014,
         0.07325325512121651,
         0.07167839802004311,
         0.07419885742203573,
         0.07125996548711987,
         0.07428752081154025,
         0.06619724224978639,
         0.07533456665744546,
         0.07013686282512527,
         0.0754831812237461,
         0.0719319485458374,
         0.07259123346509976,
         0.07368251836658586,
         0.06921865308707775,
         0.06407814406758826,
         0.06794316450582424,
         0.08119512388363484
        ],
        [
         0.19379947242308773,
         0.2046618358889485,
         0.19055808172104696,
         0.20666424693612784,
         0.20111279228848278,
         0.2010896651202119,
         0.19140087983881435,
         0.18792211875209913,
         0.1950154399006244,
         0.19161519228352927,
         0.19769815323582174,
         0.19803627006088695,
         0.20032959341016762,
         0.19283328215390735,
         0.18687100048341296,
         0.18368746627889135,
         0.2031172900825885,
         0.19741659170454917,
         0.1956514401598742,
         0.20021676647422068,
         0.19667633238485924,
         0.19778079609843155,
         0.18795643435498954,
         0.19244869211323412,
         0.2007717561323707,
         0.1922516256990824,
         0.1989523531485568,
         0.18220380017095628,
         0.20023249917864508,
         0.1985954370294862,
         0.19649345729974846,
         0.19400140684207573,
         0.18751932573778665,
         0.19573802775794677,
         0.1892985622215943,
         0.20343219265159146,
         0.18835470881130473,
         0.19729504117961316,
         0.19400235861722454,
         0.19086457722290767,
         0.19191274758172677,
         0.19115802014757896,
         0.19274721976698322,
         0.18861747135901274,
         0.19104366644523016,
         0.18428303486685835,
         0.18940727263871654,
         0.19668295713798964,
         0.19332735807470539,
         0.19717612503753865,
         0.2049989885394918,
         0.19622194559733366,
         0.18968185370641888,
         0.2006794339429368,
         0.1955438739364492,
         0.19034819243767975,
         0.19955911088333117,
         0.18338227179814495,
         0.18316555135499904,
         0.1947906624580569,
         0.20147385416260244,
         0.18809003088002405,
         0.20247684007364453,
         0.1919441450588113,
         0.18919951361877954,
         0.1911532963333907,
         0.18921438601854093,
         0.199992284151342,
         0.18583046978193463,
         0.18014905434649656,
         0.18511171050041036,
         0.19417811428908915,
         0.18373719846610637,
         0.19990908614743283,
         0.20020789122574179,
         0.199047303347684,
         0.2001401024834052,
         0.20442798217831581,
         0.1973080963316355,
         0.1991925991469008,
         0.1983850593496041,
         0.20066958559019601,
         0.1950651888881682,
         0.19393089058462018,
         0.19285420630601982,
         0.18636065309721173,
         0.1966162693102424,
         0.18478272412447075,
         0.19582885484594634,
         0.18455876597185053,
         0.19843867898681292,
         0.18705164054043444,
         0.1984310028618019,
         0.1921401391737163,
         0.1918488236454626,
         0.19061669251680666,
         0.18541615700130076,
         0.18111052242673786,
         0.18634094074185864,
         0.19476523479519814
        ],
        [
         19.76754618715495,
         20.875507260672748,
         19.43692433554679,
         21.07975318748504,
         20.513504813425243,
         20.511145842261612,
         19.522889743559062,
         19.168056112714112,
         19.89157486986369,
         19.544749612919986,
         20.16521163005382,
         20.199699546210468,
         20.433618527837098,
         19.66899477969855,
         19.06084204930812,
         18.736121560446918,
         20.717963588424027,
         20.136492353864014,
         19.95644689630717,
         20.42211018037051,
         20.06098590325564,
         20.173641202040017,
         19.171556304208934,
         19.62976659554988,
         20.47871912550181,
         19.609665821306407,
         20.293140021152794,
         18.58478761743754,
         20.423714916221797,
         20.25673457700759,
         20.042332644574344,
         19.788143497891724,
         19.126971225254238,
         19.96527883131057,
         19.30845334660262,
         20.75008365046233,
         19.212180298753083,
         20.124094200320542,
         19.788240578956902,
         19.46818687673658,
         19.57510025333613,
         19.498118055053055,
         19.660216416232288,
         19.2389820786193,
         19.486453977413476,
         18.79686955641955,
         19.319541809149086,
         20.061661628074944,
         19.71939052361995,
         20.111964753828943,
         20.909896831028163,
         20.014638450928032,
         19.347549078054726,
         20.469302262179554,
         19.945475141517818,
         19.415515628643334,
         20.35502931009978,
         18.704991723410785,
         18.682886238209903,
         19.868647570721805,
         20.55033312458545,
         19.18518314976245,
         20.652637687511742,
         19.578302795998752,
         19.298350389115512,
         19.497636226005852,
         19.299867373891175,
         20.399212983436882,
         18.954707917757332,
         18.37520354334265,
         18.881394471041858,
         19.806167657487094,
         18.74119424354285,
         20.390726787038147,
         20.42120490502566,
         20.30282494146377,
         20.41429045330733,
         20.851654182188213,
         20.125425825826824,
         20.317645112983882,
         20.235276053659618,
         20.468297730199993,
         19.89664926659316,
         19.78095083963126,
         19.671129043214023,
         19.008786615915596,
         20.054859469644725,
         18.847837860696018,
         19.974543194286525,
         18.824994129128754,
         20.240745256654918,
         19.079267335124314,
         20.239962291903794,
         19.598294195719063,
         19.568580011837184,
         19.44290263671428,
         18.91244801413268,
         18.473273287527263,
         19.006775955669582,
         19.86605394911021
        ],
        [
         2.781134898352094,
         2.895184976197064,
         2.7589328405639173,
         2.9961637475187817,
         2.8631277985345904,
         2.799841115019001,
         2.8241959822617244,
         2.7099443725523815,
         2.9091865056185315,
         2.833489658224848,
         2.823278267690288,
         2.8733786703485023,
         2.8519594791200706,
         2.7519295852235026,
         2.7463815937043483,
         2.599401746349755,
         2.8306544899212156,
         2.7773346651843824,
         2.732641803299216,
         2.8643653156123596,
         2.897364184374543,
         2.8409301583802624,
         2.713544962578744,
         2.7698707167179792,
         2.8684676565812626,
         2.8163224903103727,
         2.8638221933017793,
         2.6234731606465713,
         2.812627333406643,
         2.866483711380575,
         2.8055220261251335,
         2.791580206253146,
         2.6667640269358315,
         2.7635770560066373,
         2.744245069811621,
         2.886113110999531,
         2.671284535912247,
         2.8192820947717507,
         2.7811678700786446,
         2.7393758812361315,
         2.7820523517783298,
         2.699073806501077,
         2.7488234213143454,
         2.655577983206633,
         2.711291295312858,
         2.7949414309638905,
         2.726233579255735,
         2.744558028505891,
         2.8306402133596755,
         2.796464091908688,
         2.88255862962002,
         2.7816563570398545,
         2.8477463192327317,
         2.851971068686722,
         2.7446555976918803,
         2.749130891869835,
         2.9132970969806222,
         2.5771048723043815,
         2.75428579761607,
         2.8038449522164197,
         2.8498911831310108,
         2.680653380288446,
         2.8734440418523763,
         2.717269776095289,
         2.705159692589214,
         2.8023706628244947,
         2.7570450456594355,
         2.8111428608982094,
         2.658056159795847,
         2.583857844022876,
         2.6452346584935764,
         2.8021423111377475,
         2.6784815737456125,
         2.951826757616659,
         2.867840281350642,
         2.77492255336527,
         2.800102247186003,
         2.901385517215378,
         2.8461938259674096,
         2.7660838421509473,
         2.748652954841175,
         2.8457977269169863,
         2.736285271712149,
         2.7597062366586798,
         2.7334652041619414,
         2.703922446751089,
         2.7510513366797875,
         2.6960186348922415,
         2.75269452042487,
         2.5984839251914202,
         2.772025576912925,
         2.6746887684668614,
         2.7747584552213014,
         2.708700565155812,
         2.721085410905026,
         2.7414625427664987,
         2.657122995813692,
         2.556554457642943,
         2.6325278307349524,
         2.8778295008792227
        ]
       ],
       "encoder": "json",
       "name": "ABC_GAN_3 Metrics",
       "version": 1
      }
     },
     "metadata": {
      "scrapbook": {
       "data": true,
       "display": false,
       "name": "ABC_GAN_3 Metrics"
      }
     },
     "output_type": "display_data"
    },
    {
     "name": "stdout",
     "output_type": "stream",
     "text": [
      "MSE\n",
      "0.0754462061283809\n"
     ]
    }
   ],
   "source": [
    "ABC_GAN3_metrics=ABC_train_test2.test_generator(gen3,test_data,prior_model,variance,bias,\"3\",device)\n",
    "sb.glue(\"ABC_GAN_3 Metrics\",ABC_GAN3_metrics)\n",
    "\n",
    "print(\"MSE\")\n",
    "print(mean(ABC_GAN3_metrics[0]))"
   ]
  },
  {
   "cell_type": "code",
   "execution_count": 18,
   "id": "c8e46b48",
   "metadata": {
    "execution": {
     "iopub.execute_input": "2022-06-11T14:56:11.273905Z",
     "iopub.status.busy": "2022-06-11T14:56:11.273524Z",
     "iopub.status.idle": "2022-06-11T14:56:11.602639Z",
     "shell.execute_reply": "2022-06-11T14:56:11.602915Z"
    },
    "id": "c8e46b48",
    "papermill": {
     "duration": 0.34912,
     "end_time": "2022-06-11T14:56:11.603056",
     "exception": false,
     "start_time": "2022-06-11T14:56:11.253936",
     "status": "completed"
    },
    "tags": []
   },
   "outputs": [
    {
     "data": {
      "image/png": "[encoded data removed]",
      "text/plain": [
       "<Figure size 432x288 with 1 Axes>"
      ]
     },
     "metadata": {
      "needs_background": "light"
     },
     "output_type": "display_data"
    },
    {
     "data": {
      "image/png": "[encoded data removed]",
      "text/plain": [
       "<Figure size 432x288 with 1 Axes>"
      ]
     },
     "metadata": {
      "needs_background": "light"
     },
     "output_type": "display_data"
    },
    {
     "data": {
      "image/png": "[encoded data removed]",
      "text/plain": [
       "<Figure size 432x288 with 1 Axes>"
      ]
     },
     "metadata": {
      "needs_background": "light"
     },
     "output_type": "display_data"
    },
    {
     "data": {
      "image/png": "[encoded data removed]",
      "text/plain": [
       "<Figure size 432x288 with 1 Axes>"
      ]
     },
     "metadata": {
      "needs_background": "light"
     },
     "output_type": "display_data"
    }
   ],
   "source": [
    "sanityChecks.discProbVsError(train_data,disc3,device)\n",
    "sanityChecks.discProbVsError(test_data,disc3,device)"
   ]
  },
  {
   "cell_type": "markdown",
   "id": "a5bd74c3",
   "metadata": {
    "id": "a5bd74c3",
    "papermill": {
     "duration": 0.03041,
     "end_time": "2022-06-11T14:56:11.656666",
     "exception": false,
     "start_time": "2022-06-11T14:56:11.626256",
     "status": "completed"
    },
    "tags": []
   },
   "source": [
    "## Skip Connection Model Analysis - ABC-GAN "
   ]
  },
  {
   "cell_type": "markdown",
   "id": "5744a8bf",
   "metadata": {
    "id": "5744a8bf",
    "papermill": {
     "duration": 0.03938,
     "end_time": "2022-06-11T14:56:11.717093",
     "exception": false,
     "start_time": "2022-06-11T14:56:11.677713",
     "status": "completed"
    },
    "tags": []
   },
   "source": [
    "### Weight Analysis \n",
    "\n",
    "Study the weights of the skip connection layer\n",
    "\n",
    "Equation of the skip connection is \n",
    "\n",
    "$output = y_{gan} * w + y_{abc} * (1-w)$"
   ]
  },
  {
   "cell_type": "code",
   "execution_count": 19,
   "id": "52c31dea",
   "metadata": {
    "execution": {
     "iopub.execute_input": "2022-06-11T14:56:11.760219Z",
     "iopub.status.busy": "2022-06-11T14:56:11.759837Z",
     "iopub.status.idle": "2022-06-11T14:56:11.763534Z",
     "shell.execute_reply": "2022-06-11T14:56:11.763837Z"
    },
    "id": "52c31dea",
    "papermill": {
     "duration": 0.02684,
     "end_time": "2022-06-11T14:56:11.763952",
     "exception": false,
     "start_time": "2022-06-11T14:56:11.737112",
     "status": "completed"
    },
    "tags": []
   },
   "outputs": [
    {
     "name": "stdout",
     "output_type": "stream",
     "text": [
      "Weight of the node at skip connection\n",
      "Parameter containing:\n",
      "tensor([[0.7064]], requires_grad=True)\n"
     ]
    },
    {
     "data": {
      "application/scrapbook.scrap.json+json": {
       "data": 0.706366777420044,
       "encoder": "json",
       "name": "Skip Connection Weight",
       "version": 1
      }
     },
     "metadata": {
      "scrapbook": {
       "data": true,
       "display": false,
       "name": "Skip Connection Weight"
      }
     },
     "output_type": "display_data"
    }
   ],
   "source": [
    "print(\"Weight of the node at skip connection\")\n",
    "for name,param in gen3.named_parameters():\n",
    "    if(name == \"skipNode.weight\"):\n",
    "        print(param)\n",
    "        sb.glue(\"Skip Connection Weight\",param.item())"
   ]
  }
 ],
 "metadata": {
  "colab": {
   "collapsed_sections": [],
   "name": "ABC_GAN_Model-Catboost_Pre-gen.ipynb",
   "provenance": []
  },
  "interpreter": {
   "hash": "31f2aee4e71d21fbe5cf8b01ff0e069b9275f58929596ceb00d14d90e3e16cd6"
  },
  "kernelspec": {
   "display_name": "Python 3 (ipykernel)",
   "language": "python",
   "name": "python3"
  },
  "language_info": {
   "codemirror_mode": {
    "name": "ipython",
    "version": 3
   },
   "file_extension": ".py",
   "mimetype": "text/x-python",
   "name": "python",
   "nbconvert_exporter": "python",
   "pygments_lexer": "ipython3",
   "version": "3.8.11"
  },
  "papermill": {
   "default_parameters": {},
   "duration": 2809.412706,
   "end_time": "2022-06-11T14:56:12.091243",
   "environment_variables": {},
   "exception": null,
   "input_path": "ABC_GAN-Catboost.ipynb",
   "output_path": "./ABC_GAN_Catboost/ABC-GAN_output_1_1.ipynb",
   "parameters": {
    "bias": 1,
    "variance": 0.1
   },
   "start_time": "2022-06-11T14:09:22.678537",
   "version": "2.3.3"
  }
 },
 "nbformat": 4,
 "nbformat_minor": 5
}