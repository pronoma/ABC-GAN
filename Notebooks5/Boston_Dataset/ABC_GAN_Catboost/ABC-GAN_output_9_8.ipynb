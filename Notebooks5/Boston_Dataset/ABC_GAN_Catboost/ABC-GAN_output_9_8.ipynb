{
 "cells": [
  {
   "cell_type": "markdown",
   "id": "622780e6",
   "metadata": {
    "id": "622780e6",
    "papermill": {
     "duration": 0.034396,
     "end_time": "2022-06-12T08:15:15.556853",
     "exception": false,
     "start_time": "2022-06-12T08:15:15.522457",
     "status": "completed"
    },
    "tags": []
   },
   "source": [
    "## Import Libraries "
   ]
  },
  {
   "cell_type": "code",
   "execution_count": 1,
   "id": "a62397e3",
   "metadata": {
    "execution": {
     "iopub.execute_input": "2022-06-12T08:15:15.593486Z",
     "iopub.status.busy": "2022-06-12T08:15:15.592974Z",
     "iopub.status.idle": "2022-06-12T08:15:15.595270Z",
     "shell.execute_reply": "2022-06-12T08:15:15.595596Z"
    },
    "id": "a62397e3",
    "papermill": {
     "duration": 0.021959,
     "end_time": "2022-06-12T08:15:15.595806",
     "exception": false,
     "start_time": "2022-06-12T08:15:15.573847",
     "status": "completed"
    },
    "tags": []
   },
   "outputs": [],
   "source": [
    "import warnings\n",
    "import sys\n",
    "sys.path.insert(0, '../../src')\n",
    "warnings.filterwarnings('ignore')"
   ]
  },
  {
   "cell_type": "code",
   "execution_count": 2,
   "id": "d6a4e155",
   "metadata": {
    "execution": {
     "iopub.execute_input": "2022-06-12T08:15:15.616560Z",
     "iopub.status.busy": "2022-06-12T08:15:15.616128Z",
     "iopub.status.idle": "2022-06-12T08:15:17.547774Z",
     "shell.execute_reply": "2022-06-12T08:15:17.548026Z"
    },
    "id": "d6a4e155",
    "papermill": {
     "duration": 1.942424,
     "end_time": "2022-06-12T08:15:17.548149",
     "exception": false,
     "start_time": "2022-06-12T08:15:15.605725",
     "status": "completed"
    },
    "tags": []
   },
   "outputs": [],
   "source": [
    "import ABC_train_test2\n",
    "import bostonDataset\n",
    "import network\n",
    "import dataset\n",
    "import sanityChecks\n",
    "import torch \n",
    "import scrapbook as sb\n",
    "from statistics import mean \n",
    "import catboost as ctb \n",
    "from sklearn.model_selection import train_test_split\n",
    "from sklearn.metrics import mean_squared_error,mean_absolute_error\n",
    "import numpy as np"
   ]
  },
  {
   "cell_type": "markdown",
   "id": "2fa5b0f7",
   "metadata": {
    "id": "2fa5b0f7",
    "papermill": {
     "duration": 0.00676,
     "end_time": "2022-06-12T08:15:17.562032",
     "exception": false,
     "start_time": "2022-06-12T08:15:17.555272",
     "status": "completed"
    },
    "tags": []
   },
   "source": [
    "## Parameters "
   ]
  },
  {
   "cell_type": "code",
   "execution_count": 3,
   "id": "783186fb",
   "metadata": {
    "execution": {
     "iopub.execute_input": "2022-06-12T08:15:17.577735Z",
     "iopub.status.busy": "2022-06-12T08:15:17.577363Z",
     "iopub.status.idle": "2022-06-12T08:15:17.578657Z",
     "shell.execute_reply": "2022-06-12T08:15:17.578898Z"
    },
    "id": "783186fb",
    "papermill": {
     "duration": 0.010222,
     "end_time": "2022-06-12T08:15:17.579005",
     "exception": false,
     "start_time": "2022-06-12T08:15:17.568783",
     "status": "completed"
    },
    "tags": [
     "parameters"
    ]
   },
   "outputs": [],
   "source": [
    "variance = 1\n",
    "bias = 1 "
   ]
  },
  {
   "cell_type": "code",
   "execution_count": 4,
   "id": "74385fa0",
   "metadata": {
    "execution": {
     "iopub.execute_input": "2022-06-12T08:15:17.594582Z",
     "iopub.status.busy": "2022-06-12T08:15:17.594218Z",
     "iopub.status.idle": "2022-06-12T08:15:17.595527Z",
     "shell.execute_reply": "2022-06-12T08:15:17.595777Z"
    },
    "papermill": {
     "duration": 0.009955,
     "end_time": "2022-06-12T08:15:17.595882",
     "exception": false,
     "start_time": "2022-06-12T08:15:17.585927",
     "status": "completed"
    },
    "tags": [
     "injected-parameters"
    ]
   },
   "outputs": [],
   "source": [
    "# Parameters\n",
    "variance = 0.01\n",
    "bias = 0.01\n"
   ]
  },
  {
   "cell_type": "markdown",
   "id": "391cdbfd",
   "metadata": {
    "id": "391cdbfd",
    "papermill": {
     "duration": 0.007133,
     "end_time": "2022-06-12T08:15:17.609932",
     "exception": false,
     "start_time": "2022-06-12T08:15:17.602799",
     "status": "completed"
    },
    "tags": []
   },
   "source": [
    "## Dataset \n"
   ]
  },
  {
   "cell_type": "code",
   "execution_count": 5,
   "id": "5b51f161",
   "metadata": {
    "execution": {
     "iopub.execute_input": "2022-06-12T08:15:17.626113Z",
     "iopub.status.busy": "2022-06-12T08:15:17.625725Z",
     "iopub.status.idle": "2022-06-12T08:15:17.626931Z",
     "shell.execute_reply": "2022-06-12T08:15:17.627176Z"
    },
    "id": "5b51f161",
    "papermill": {
     "duration": 0.010312,
     "end_time": "2022-06-12T08:15:17.627284",
     "exception": false,
     "start_time": "2022-06-12T08:15:17.616972",
     "status": "completed"
    },
    "tags": []
   },
   "outputs": [],
   "source": [
    "#Parameters \n",
    "n_features = 13\n",
    "n_samples= 506\n",
    "n_target = 1 "
   ]
  },
  {
   "cell_type": "code",
   "execution_count": 6,
   "id": "5d6eced4",
   "metadata": {
    "execution": {
     "iopub.execute_input": "2022-06-12T08:15:17.643079Z",
     "iopub.status.busy": "2022-06-12T08:15:17.642671Z",
     "iopub.status.idle": "2022-06-12T08:15:17.653666Z",
     "shell.execute_reply": "2022-06-12T08:15:17.653918Z"
    },
    "id": "5d6eced4",
    "papermill": {
     "duration": 0.019838,
     "end_time": "2022-06-12T08:15:17.654034",
     "exception": false,
     "start_time": "2022-06-12T08:15:17.634196",
     "status": "completed"
    },
    "tags": []
   },
   "outputs": [
    {
     "name": "stdout",
     "output_type": "stream",
     "text": [
      "         X1        X2        X3        X4        X5        X6        X7  \\\n",
      "0 -0.419782  0.284830 -1.287909 -0.272599 -0.144217  0.413672 -0.120013   \n",
      "1 -0.417339 -0.487722 -0.593381 -0.272599 -0.740262  0.194274  0.367166   \n",
      "2 -0.417342 -0.487722 -0.593381 -0.272599 -0.740262  1.282714 -0.265812   \n",
      "3 -0.416750 -0.487722 -1.306878 -0.272599 -0.835284  1.016303 -0.809889   \n",
      "4 -0.412482 -0.487722 -1.306878 -0.272599 -0.835284  1.228577 -0.511180   \n",
      "\n",
      "         X8        X9       X10       X11       X12       X13         Y  \n",
      "0  0.140214 -0.982843 -0.666608 -1.459000  0.441052 -1.075562  0.159686  \n",
      "1  0.557160 -0.867883 -0.987329 -0.303094  0.441052 -0.492439 -0.101524  \n",
      "2  0.557160 -0.867883 -0.987329 -0.303094  0.396427 -1.208727  1.324247  \n",
      "3  1.077737 -0.752922 -1.106115  0.113032  0.416163 -1.361517  1.182758  \n",
      "4  1.077737 -0.752922 -1.106115  0.113032  0.441052 -1.026501  1.487503  \n"
     ]
    }
   ],
   "source": [
    "X,Y = bostonDataset.boston_data()"
   ]
  },
  {
   "cell_type": "code",
   "execution_count": 7,
   "id": "fe007438",
   "metadata": {
    "execution": {
     "iopub.execute_input": "2022-06-12T08:15:17.673446Z",
     "iopub.status.busy": "2022-06-12T08:15:17.671076Z",
     "iopub.status.idle": "2022-06-12T08:15:17.674100Z",
     "shell.execute_reply": "2022-06-12T08:15:17.674343Z"
    },
    "id": "fe007438",
    "papermill": {
     "duration": 0.013081,
     "end_time": "2022-06-12T08:15:17.674468",
     "exception": false,
     "start_time": "2022-06-12T08:15:17.661387",
     "status": "completed"
    },
    "tags": []
   },
   "outputs": [],
   "source": [
    "#Train test split for dataset \n",
    "X_train,X_test,Y_train,Y_test = train_test_split(X,Y,test_size = 0.2)\n",
    "train_data = dataset.CustomDataset(X_train,Y_train)\n",
    "test_data = dataset.CustomDataset(X_test,Y_test)\n"
   ]
  },
  {
   "cell_type": "markdown",
   "id": "a9a1af34",
   "metadata": {
    "id": "a9a1af34",
    "papermill": {
     "duration": 0.007413,
     "end_time": "2022-06-12T08:15:17.689406",
     "exception": false,
     "start_time": "2022-06-12T08:15:17.681993",
     "status": "completed"
    },
    "tags": []
   },
   "source": [
    "## Training Parameters "
   ]
  },
  {
   "cell_type": "code",
   "execution_count": 8,
   "id": "952b7fc8",
   "metadata": {
    "execution": {
     "iopub.execute_input": "2022-06-12T08:15:17.706244Z",
     "iopub.status.busy": "2022-06-12T08:15:17.705842Z",
     "iopub.status.idle": "2022-06-12T08:15:17.707148Z",
     "shell.execute_reply": "2022-06-12T08:15:17.707447Z"
    },
    "id": "952b7fc8",
    "papermill": {
     "duration": 0.011028,
     "end_time": "2022-06-12T08:15:17.707566",
     "exception": false,
     "start_time": "2022-06-12T08:15:17.696538",
     "status": "completed"
    },
    "tags": []
   },
   "outputs": [],
   "source": [
    "batch_size = 32\n",
    "n_epochs = 1000\n",
    "#Select the device \n",
    "device = torch.device('cuda' if torch.cuda.is_available() else 'cpu')"
   ]
  },
  {
   "cell_type": "markdown",
   "id": "a95e1600",
   "metadata": {
    "id": "a95e1600",
    "papermill": {
     "duration": 0.007026,
     "end_time": "2022-06-12T08:15:17.721917",
     "exception": false,
     "start_time": "2022-06-12T08:15:17.714891",
     "status": "completed"
    },
    "tags": []
   },
   "source": [
    "# ABC Pre-generator Model \n",
    "\n",
    "1. The catboost model is used as a pre-generator model for the ABC-GAN. \n",
    "2. The model is first trained on the entire dataset \n",
    "3. It generats X,Y pairs and we add some Gaussian noise with mean 0 and variance 1 to it which is then feed as input to the generator.\n"
   ]
  },
  {
   "cell_type": "code",
   "execution_count": 9,
   "id": "ff8ce7bd",
   "metadata": {
    "execution": {
     "iopub.execute_input": "2022-06-12T08:15:17.741139Z",
     "iopub.status.busy": "2022-06-12T08:15:17.740741Z",
     "iopub.status.idle": "2022-06-12T08:15:18.732076Z",
     "shell.execute_reply": "2022-06-12T08:15:18.732469Z"
    },
    "id": "ff8ce7bd",
    "papermill": {
     "duration": 1.003548,
     "end_time": "2022-06-12T08:15:18.732590",
     "exception": false,
     "start_time": "2022-06-12T08:15:17.729042",
     "status": "completed"
    },
    "tags": []
   },
   "outputs": [
    {
     "name": "stdout",
     "output_type": "stream",
     "text": [
      "Learning rate set to 0.033215\n",
      "0:\tlearn: 0.9920499\ttotal: 58.5ms\tremaining: 58.4s\n",
      "1:\tlearn: 0.9722604\ttotal: 59.4ms\tremaining: 29.6s\n",
      "2:\tlearn: 0.9516945\ttotal: 60.4ms\tremaining: 20.1s\n",
      "3:\tlearn: 0.9351168\ttotal: 61.4ms\tremaining: 15.3s\n",
      "4:\tlearn: 0.9197623\ttotal: 62.4ms\tremaining: 12.4s\n",
      "5:\tlearn: 0.9020880\ttotal: 63.4ms\tremaining: 10.5s\n",
      "6:\tlearn: 0.8857014\ttotal: 64.3ms\tremaining: 9.12s\n",
      "7:\tlearn: 0.8693335\ttotal: 65.1ms\tremaining: 8.07s\n",
      "8:\tlearn: 0.8539877\ttotal: 65.9ms\tremaining: 7.26s\n",
      "9:\tlearn: 0.8374073\ttotal: 66.7ms\tremaining: 6.61s\n",
      "10:\tlearn: 0.8220297\ttotal: 67.5ms\tremaining: 6.07s\n",
      "11:\tlearn: 0.8082803\ttotal: 68.4ms\tremaining: 5.63s\n",
      "12:\tlearn: 0.7933271\ttotal: 69.1ms\tremaining: 5.25s\n",
      "13:\tlearn: 0.7787337\ttotal: 69.9ms\tremaining: 4.92s\n",
      "14:\tlearn: 0.7665374\ttotal: 70.7ms\tremaining: 4.64s\n",
      "15:\tlearn: 0.7521253\ttotal: 71.7ms\tremaining: 4.41s\n",
      "16:\tlearn: 0.7405634\ttotal: 72.5ms\tremaining: 4.19s\n",
      "17:\tlearn: 0.7289758\ttotal: 73.2ms\tremaining: 4s\n",
      "18:\tlearn: 0.7165234\ttotal: 73.9ms\tremaining: 3.82s\n",
      "19:\tlearn: 0.7035444\ttotal: 74.7ms\tremaining: 3.66s\n",
      "20:\tlearn: 0.6920645\ttotal: 75.5ms\tremaining: 3.52s\n",
      "21:\tlearn: 0.6793342\ttotal: 76.4ms\tremaining: 3.4s\n",
      "22:\tlearn: 0.6671325\ttotal: 77.3ms\tremaining: 3.28s\n",
      "23:\tlearn: 0.6576321\ttotal: 78ms\tremaining: 3.17s\n",
      "24:\tlearn: 0.6473779\ttotal: 78.6ms\tremaining: 3.07s\n",
      "25:\tlearn: 0.6372523\ttotal: 79.4ms\tremaining: 2.97s\n",
      "26:\tlearn: 0.6288146\ttotal: 80.2ms\tremaining: 2.89s\n",
      "27:\tlearn: 0.6201972\ttotal: 80.9ms\tremaining: 2.81s\n",
      "28:\tlearn: 0.6108958\ttotal: 81.6ms\tremaining: 2.73s\n",
      "29:\tlearn: 0.6008834\ttotal: 82.3ms\tremaining: 2.66s\n",
      "30:\tlearn: 0.5922123\ttotal: 83.2ms\tremaining: 2.6s\n",
      "31:\tlearn: 0.5825568\ttotal: 84ms\tremaining: 2.54s\n",
      "32:\tlearn: 0.5745646\ttotal: 84.8ms\tremaining: 2.48s\n",
      "33:\tlearn: 0.5670434\ttotal: 85.7ms\tremaining: 2.44s\n",
      "34:\tlearn: 0.5591287\ttotal: 86.5ms\tremaining: 2.38s\n",
      "35:\tlearn: 0.5528633\ttotal: 87.3ms\tremaining: 2.34s\n",
      "36:\tlearn: 0.5461151\ttotal: 88.3ms\tremaining: 2.3s\n",
      "37:\tlearn: 0.5388262\ttotal: 89.1ms\tremaining: 2.25s\n",
      "38:\tlearn: 0.5310691\ttotal: 89.9ms\tremaining: 2.22s\n",
      "39:\tlearn: 0.5231692\ttotal: 90.8ms\tremaining: 2.18s\n",
      "40:\tlearn: 0.5176319\ttotal: 91.6ms\tremaining: 2.14s\n",
      "41:\tlearn: 0.5107538\ttotal: 92.3ms\tremaining: 2.1s\n",
      "42:\tlearn: 0.5057672\ttotal: 93.1ms\tremaining: 2.07s\n",
      "43:\tlearn: 0.4989992\ttotal: 93.9ms\tremaining: 2.04s\n",
      "44:\tlearn: 0.4927546\ttotal: 94.7ms\tremaining: 2.01s\n",
      "45:\tlearn: 0.4856540\ttotal: 95.5ms\tremaining: 1.98s\n",
      "46:\tlearn: 0.4804093\ttotal: 96.5ms\tremaining: 1.96s\n",
      "47:\tlearn: 0.4746087\ttotal: 97.3ms\tremaining: 1.93s\n",
      "48:\tlearn: 0.4692221\ttotal: 98.2ms\tremaining: 1.91s\n",
      "49:\tlearn: 0.4646194\ttotal: 99.1ms\tremaining: 1.88s\n",
      "50:\tlearn: 0.4594082\ttotal: 99.8ms\tremaining: 1.86s\n",
      "51:\tlearn: 0.4551302\ttotal: 101ms\tremaining: 1.83s\n",
      "52:\tlearn: 0.4496639\ttotal: 101ms\tremaining: 1.81s\n",
      "53:\tlearn: 0.4452513\ttotal: 102ms\tremaining: 1.79s\n",
      "54:\tlearn: 0.4405564\ttotal: 103ms\tremaining: 1.77s\n",
      "55:\tlearn: 0.4369153\ttotal: 104ms\tremaining: 1.75s\n"
     ]
    },
    {
     "name": "stdout",
     "output_type": "stream",
     "text": [
      "56:\tlearn: 0.4329715\ttotal: 105ms\tremaining: 1.73s\n",
      "57:\tlearn: 0.4288391\ttotal: 106ms\tremaining: 1.71s\n",
      "58:\tlearn: 0.4255193\ttotal: 106ms\tremaining: 1.7s\n",
      "59:\tlearn: 0.4216151\ttotal: 107ms\tremaining: 1.68s\n",
      "60:\tlearn: 0.4174026\ttotal: 108ms\tremaining: 1.66s\n",
      "61:\tlearn: 0.4130052\ttotal: 109ms\tremaining: 1.65s\n",
      "62:\tlearn: 0.4083933\ttotal: 110ms\tremaining: 1.63s\n",
      "63:\tlearn: 0.4045947\ttotal: 111ms\tremaining: 1.62s\n",
      "64:\tlearn: 0.4008681\ttotal: 111ms\tremaining: 1.6s\n",
      "65:\tlearn: 0.3965285\ttotal: 112ms\tremaining: 1.59s\n",
      "66:\tlearn: 0.3928427\ttotal: 113ms\tremaining: 1.58s\n",
      "67:\tlearn: 0.3901451\ttotal: 114ms\tremaining: 1.56s\n",
      "68:\tlearn: 0.3873045\ttotal: 115ms\tremaining: 1.55s\n",
      "69:\tlearn: 0.3840204\ttotal: 116ms\tremaining: 1.54s\n",
      "70:\tlearn: 0.3802842\ttotal: 116ms\tremaining: 1.52s\n",
      "71:\tlearn: 0.3770351\ttotal: 117ms\tremaining: 1.51s\n",
      "72:\tlearn: 0.3734200\ttotal: 118ms\tremaining: 1.5s\n",
      "73:\tlearn: 0.3700013\ttotal: 119ms\tremaining: 1.49s\n",
      "74:\tlearn: 0.3671007\ttotal: 120ms\tremaining: 1.48s\n",
      "75:\tlearn: 0.3641944\ttotal: 121ms\tremaining: 1.47s\n",
      "76:\tlearn: 0.3610806\ttotal: 121ms\tremaining: 1.45s\n",
      "77:\tlearn: 0.3587875\ttotal: 122ms\tremaining: 1.44s\n",
      "78:\tlearn: 0.3561531\ttotal: 123ms\tremaining: 1.43s\n",
      "79:\tlearn: 0.3542578\ttotal: 124ms\tremaining: 1.42s\n",
      "80:\tlearn: 0.3516479\ttotal: 125ms\tremaining: 1.41s\n",
      "81:\tlearn: 0.3493924\ttotal: 125ms\tremaining: 1.4s\n",
      "82:\tlearn: 0.3475128\ttotal: 126ms\tremaining: 1.39s\n",
      "83:\tlearn: 0.3451621\ttotal: 127ms\tremaining: 1.39s\n",
      "84:\tlearn: 0.3429600\ttotal: 128ms\tremaining: 1.38s\n",
      "85:\tlearn: 0.3404571\ttotal: 129ms\tremaining: 1.37s\n",
      "86:\tlearn: 0.3380230\ttotal: 129ms\tremaining: 1.36s\n",
      "87:\tlearn: 0.3354692\ttotal: 130ms\tremaining: 1.35s\n",
      "88:\tlearn: 0.3335028\ttotal: 131ms\tremaining: 1.34s\n",
      "89:\tlearn: 0.3306721\ttotal: 132ms\tremaining: 1.33s\n",
      "90:\tlearn: 0.3282532\ttotal: 133ms\tremaining: 1.32s\n",
      "91:\tlearn: 0.3263357\ttotal: 134ms\tremaining: 1.32s\n",
      "92:\tlearn: 0.3246972\ttotal: 134ms\tremaining: 1.31s\n",
      "93:\tlearn: 0.3223911\ttotal: 135ms\tremaining: 1.3s\n",
      "94:\tlearn: 0.3205654\ttotal: 136ms\tremaining: 1.29s\n",
      "95:\tlearn: 0.3188537\ttotal: 137ms\tremaining: 1.29s\n",
      "96:\tlearn: 0.3164370\ttotal: 138ms\tremaining: 1.28s\n",
      "97:\tlearn: 0.3140683\ttotal: 139ms\tremaining: 1.28s\n",
      "98:\tlearn: 0.3125557\ttotal: 139ms\tremaining: 1.27s\n",
      "99:\tlearn: 0.3107830\ttotal: 140ms\tremaining: 1.26s\n",
      "100:\tlearn: 0.3091949\ttotal: 141ms\tremaining: 1.26s\n",
      "101:\tlearn: 0.3072122\ttotal: 142ms\tremaining: 1.25s\n",
      "102:\tlearn: 0.3056604\ttotal: 143ms\tremaining: 1.24s\n",
      "103:\tlearn: 0.3042426\ttotal: 144ms\tremaining: 1.24s\n",
      "104:\tlearn: 0.3028117\ttotal: 144ms\tremaining: 1.23s\n",
      "105:\tlearn: 0.3011593\ttotal: 145ms\tremaining: 1.22s\n",
      "106:\tlearn: 0.2993367\ttotal: 146ms\tremaining: 1.22s\n",
      "107:\tlearn: 0.2976155\ttotal: 147ms\tremaining: 1.21s\n",
      "108:\tlearn: 0.2961985\ttotal: 148ms\tremaining: 1.21s\n",
      "109:\tlearn: 0.2949587\ttotal: 149ms\tremaining: 1.2s\n",
      "110:\tlearn: 0.2934330\ttotal: 150ms\tremaining: 1.2s\n",
      "111:\tlearn: 0.2923871\ttotal: 150ms\tremaining: 1.19s\n",
      "112:\tlearn: 0.2909922\ttotal: 151ms\tremaining: 1.19s\n",
      "113:\tlearn: 0.2895060\ttotal: 152ms\tremaining: 1.18s\n",
      "114:\tlearn: 0.2882062\ttotal: 153ms\tremaining: 1.18s\n",
      "115:\tlearn: 0.2869565\ttotal: 154ms\tremaining: 1.17s\n",
      "116:\tlearn: 0.2858108\ttotal: 154ms\tremaining: 1.16s\n",
      "117:\tlearn: 0.2844456\ttotal: 155ms\tremaining: 1.16s\n",
      "118:\tlearn: 0.2832543\ttotal: 156ms\tremaining: 1.15s\n",
      "119:\tlearn: 0.2825588\ttotal: 157ms\tremaining: 1.15s\n",
      "120:\tlearn: 0.2813711\ttotal: 158ms\tremaining: 1.14s\n",
      "121:\tlearn: 0.2801541\ttotal: 158ms\tremaining: 1.14s\n",
      "122:\tlearn: 0.2788993\ttotal: 159ms\tremaining: 1.14s\n",
      "123:\tlearn: 0.2780596\ttotal: 160ms\tremaining: 1.13s\n",
      "124:\tlearn: 0.2769541\ttotal: 161ms\tremaining: 1.13s\n",
      "125:\tlearn: 0.2759758\ttotal: 162ms\tremaining: 1.12s\n",
      "126:\tlearn: 0.2746019\ttotal: 162ms\tremaining: 1.12s\n",
      "127:\tlearn: 0.2734649\ttotal: 163ms\tremaining: 1.11s\n",
      "128:\tlearn: 0.2721518\ttotal: 164ms\tremaining: 1.11s\n",
      "129:\tlearn: 0.2710215\ttotal: 165ms\tremaining: 1.11s\n",
      "130:\tlearn: 0.2699503\ttotal: 167ms\tremaining: 1.1s\n",
      "131:\tlearn: 0.2687755\ttotal: 168ms\tremaining: 1.1s\n",
      "132:\tlearn: 0.2680885\ttotal: 169ms\tremaining: 1.1s\n",
      "133:\tlearn: 0.2672537\ttotal: 170ms\tremaining: 1.1s\n",
      "134:\tlearn: 0.2665129\ttotal: 171ms\tremaining: 1.1s\n",
      "135:\tlearn: 0.2655548\ttotal: 173ms\tremaining: 1.1s\n",
      "136:\tlearn: 0.2646853\ttotal: 175ms\tremaining: 1.1s\n",
      "137:\tlearn: 0.2633001\ttotal: 176ms\tremaining: 1.1s\n",
      "138:\tlearn: 0.2621645\ttotal: 177ms\tremaining: 1.1s\n",
      "139:\tlearn: 0.2615095\ttotal: 178ms\tremaining: 1.09s\n",
      "140:\tlearn: 0.2604139\ttotal: 179ms\tremaining: 1.09s\n",
      "141:\tlearn: 0.2592367\ttotal: 180ms\tremaining: 1.09s\n",
      "142:\tlearn: 0.2582272\ttotal: 181ms\tremaining: 1.08s\n",
      "143:\tlearn: 0.2573079\ttotal: 182ms\tremaining: 1.08s\n",
      "144:\tlearn: 0.2564377\ttotal: 183ms\tremaining: 1.08s\n",
      "145:\tlearn: 0.2558443\ttotal: 184ms\tremaining: 1.07s\n",
      "146:\tlearn: 0.2553176\ttotal: 184ms\tremaining: 1.07s\n",
      "147:\tlearn: 0.2545817\ttotal: 185ms\tremaining: 1.07s\n",
      "148:\tlearn: 0.2537843\ttotal: 186ms\tremaining: 1.06s\n",
      "149:\tlearn: 0.2531712\ttotal: 187ms\tremaining: 1.06s\n",
      "150:\tlearn: 0.2521834\ttotal: 188ms\tremaining: 1.05s\n",
      "151:\tlearn: 0.2512831\ttotal: 189ms\tremaining: 1.05s\n",
      "152:\tlearn: 0.2504423\ttotal: 189ms\tremaining: 1.05s\n"
     ]
    },
    {
     "name": "stdout",
     "output_type": "stream",
     "text": [
      "153:\tlearn: 0.2500480\ttotal: 190ms\tremaining: 1.04s\n",
      "154:\tlearn: 0.2492271\ttotal: 191ms\tremaining: 1.04s\n",
      "155:\tlearn: 0.2483025\ttotal: 192ms\tremaining: 1.04s\n",
      "156:\tlearn: 0.2476259\ttotal: 193ms\tremaining: 1.03s\n",
      "157:\tlearn: 0.2466655\ttotal: 194ms\tremaining: 1.03s\n",
      "158:\tlearn: 0.2461124\ttotal: 195ms\tremaining: 1.03s\n",
      "159:\tlearn: 0.2452522\ttotal: 196ms\tremaining: 1.03s\n",
      "160:\tlearn: 0.2444240\ttotal: 196ms\tremaining: 1.02s\n",
      "161:\tlearn: 0.2435437\ttotal: 197ms\tremaining: 1.02s\n",
      "162:\tlearn: 0.2430437\ttotal: 198ms\tremaining: 1.01s\n",
      "163:\tlearn: 0.2424370\ttotal: 199ms\tremaining: 1.01s\n",
      "164:\tlearn: 0.2420434\ttotal: 200ms\tremaining: 1.01s\n",
      "165:\tlearn: 0.2414809\ttotal: 201ms\tremaining: 1.01s\n",
      "166:\tlearn: 0.2410266\ttotal: 202ms\tremaining: 1s\n",
      "167:\tlearn: 0.2403032\ttotal: 202ms\tremaining: 1s\n",
      "168:\tlearn: 0.2397405\ttotal: 203ms\tremaining: 999ms\n",
      "169:\tlearn: 0.2387813\ttotal: 204ms\tremaining: 997ms\n",
      "170:\tlearn: 0.2379911\ttotal: 205ms\tremaining: 994ms\n",
      "171:\tlearn: 0.2373997\ttotal: 206ms\tremaining: 991ms\n",
      "172:\tlearn: 0.2368405\ttotal: 207ms\tremaining: 987ms\n",
      "173:\tlearn: 0.2361054\ttotal: 207ms\tremaining: 984ms\n",
      "174:\tlearn: 0.2350405\ttotal: 208ms\tremaining: 981ms\n",
      "175:\tlearn: 0.2343588\ttotal: 209ms\tremaining: 979ms\n",
      "176:\tlearn: 0.2336875\ttotal: 210ms\tremaining: 976ms\n",
      "177:\tlearn: 0.2330560\ttotal: 211ms\tremaining: 972ms\n",
      "178:\tlearn: 0.2325857\ttotal: 211ms\tremaining: 970ms\n",
      "179:\tlearn: 0.2319138\ttotal: 212ms\tremaining: 967ms\n",
      "180:\tlearn: 0.2310957\ttotal: 213ms\tremaining: 965ms\n",
      "181:\tlearn: 0.2307135\ttotal: 214ms\tremaining: 963ms\n",
      "182:\tlearn: 0.2299980\ttotal: 215ms\tremaining: 959ms\n",
      "183:\tlearn: 0.2293386\ttotal: 216ms\tremaining: 957ms\n",
      "184:\tlearn: 0.2288490\ttotal: 217ms\tremaining: 955ms\n",
      "185:\tlearn: 0.2284754\ttotal: 217ms\tremaining: 952ms\n",
      "186:\tlearn: 0.2277516\ttotal: 218ms\tremaining: 949ms\n",
      "187:\tlearn: 0.2271913\ttotal: 219ms\tremaining: 946ms\n",
      "188:\tlearn: 0.2265921\ttotal: 220ms\tremaining: 943ms\n",
      "189:\tlearn: 0.2263070\ttotal: 221ms\tremaining: 941ms\n",
      "190:\tlearn: 0.2257758\ttotal: 221ms\tremaining: 938ms\n",
      "191:\tlearn: 0.2250916\ttotal: 222ms\tremaining: 935ms\n",
      "192:\tlearn: 0.2246204\ttotal: 223ms\tremaining: 932ms\n",
      "193:\tlearn: 0.2239400\ttotal: 224ms\tremaining: 930ms\n",
      "194:\tlearn: 0.2230905\ttotal: 225ms\tremaining: 927ms\n",
      "195:\tlearn: 0.2222495\ttotal: 225ms\tremaining: 925ms\n",
      "196:\tlearn: 0.2213665\ttotal: 226ms\tremaining: 922ms\n",
      "197:\tlearn: 0.2209505\ttotal: 227ms\tremaining: 920ms\n",
      "198:\tlearn: 0.2205159\ttotal: 228ms\tremaining: 917ms\n",
      "199:\tlearn: 0.2199814\ttotal: 229ms\tremaining: 915ms\n",
      "200:\tlearn: 0.2192782\ttotal: 229ms\tremaining: 912ms\n",
      "201:\tlearn: 0.2187256\ttotal: 230ms\tremaining: 910ms\n",
      "202:\tlearn: 0.2180392\ttotal: 231ms\tremaining: 907ms\n",
      "203:\tlearn: 0.2176032\ttotal: 232ms\tremaining: 905ms\n",
      "204:\tlearn: 0.2171656\ttotal: 233ms\tremaining: 902ms\n",
      "205:\tlearn: 0.2165937\ttotal: 234ms\tremaining: 902ms\n",
      "206:\tlearn: 0.2160781\ttotal: 235ms\tremaining: 900ms\n",
      "207:\tlearn: 0.2158228\ttotal: 236ms\tremaining: 897ms\n",
      "208:\tlearn: 0.2153791\ttotal: 236ms\tremaining: 895ms\n",
      "209:\tlearn: 0.2146503\ttotal: 237ms\tremaining: 893ms\n",
      "210:\tlearn: 0.2141580\ttotal: 238ms\tremaining: 891ms\n",
      "211:\tlearn: 0.2135753\ttotal: 239ms\tremaining: 888ms\n",
      "212:\tlearn: 0.2129371\ttotal: 240ms\tremaining: 886ms\n",
      "213:\tlearn: 0.2125940\ttotal: 241ms\tremaining: 884ms\n",
      "214:\tlearn: 0.2120923\ttotal: 242ms\tremaining: 882ms\n",
      "215:\tlearn: 0.2114928\ttotal: 243ms\tremaining: 882ms\n",
      "216:\tlearn: 0.2111104\ttotal: 244ms\tremaining: 880ms\n",
      "217:\tlearn: 0.2107040\ttotal: 245ms\tremaining: 877ms\n",
      "218:\tlearn: 0.2101938\ttotal: 245ms\tremaining: 875ms\n",
      "219:\tlearn: 0.2096254\ttotal: 246ms\tremaining: 873ms\n",
      "220:\tlearn: 0.2089897\ttotal: 247ms\tremaining: 870ms\n",
      "221:\tlearn: 0.2085502\ttotal: 248ms\tremaining: 868ms\n",
      "222:\tlearn: 0.2079774\ttotal: 248ms\tremaining: 866ms\n",
      "223:\tlearn: 0.2071951\ttotal: 249ms\tremaining: 863ms\n",
      "224:\tlearn: 0.2066956\ttotal: 251ms\tremaining: 864ms\n",
      "225:\tlearn: 0.2062118\ttotal: 252ms\tremaining: 862ms\n",
      "226:\tlearn: 0.2059641\ttotal: 252ms\tremaining: 860ms\n",
      "227:\tlearn: 0.2056868\ttotal: 253ms\tremaining: 857ms\n",
      "228:\tlearn: 0.2052205\ttotal: 254ms\tremaining: 855ms\n",
      "229:\tlearn: 0.2049179\ttotal: 255ms\tremaining: 853ms\n",
      "230:\tlearn: 0.2045230\ttotal: 256ms\tremaining: 851ms\n",
      "231:\tlearn: 0.2038095\ttotal: 256ms\tremaining: 848ms\n",
      "232:\tlearn: 0.2034377\ttotal: 257ms\tremaining: 846ms\n",
      "233:\tlearn: 0.2029730\ttotal: 258ms\tremaining: 844ms\n",
      "234:\tlearn: 0.2026925\ttotal: 259ms\tremaining: 842ms\n",
      "235:\tlearn: 0.2023035\ttotal: 259ms\tremaining: 840ms\n",
      "236:\tlearn: 0.2019690\ttotal: 260ms\tremaining: 838ms\n",
      "237:\tlearn: 0.2015667\ttotal: 261ms\tremaining: 836ms\n",
      "238:\tlearn: 0.2009374\ttotal: 262ms\tremaining: 834ms\n",
      "239:\tlearn: 0.2003881\ttotal: 263ms\tremaining: 832ms\n",
      "240:\tlearn: 0.1997480\ttotal: 264ms\tremaining: 830ms\n",
      "241:\tlearn: 0.1993174\ttotal: 264ms\tremaining: 828ms\n",
      "242:\tlearn: 0.1986738\ttotal: 265ms\tremaining: 826ms\n",
      "243:\tlearn: 0.1981857\ttotal: 266ms\tremaining: 824ms\n",
      "244:\tlearn: 0.1977294\ttotal: 267ms\tremaining: 822ms\n",
      "245:\tlearn: 0.1971702\ttotal: 268ms\tremaining: 821ms\n",
      "246:\tlearn: 0.1966672\ttotal: 269ms\tremaining: 819ms\n",
      "247:\tlearn: 0.1961382\ttotal: 269ms\tremaining: 817ms\n",
      "248:\tlearn: 0.1958634\ttotal: 270ms\tremaining: 815ms\n",
      "249:\tlearn: 0.1952347\ttotal: 271ms\tremaining: 813ms\n",
      "250:\tlearn: 0.1946258\ttotal: 272ms\tremaining: 811ms\n",
      "251:\tlearn: 0.1942878\ttotal: 273ms\tremaining: 811ms\n",
      "252:\tlearn: 0.1941006\ttotal: 274ms\tremaining: 810ms\n",
      "253:\tlearn: 0.1937050\ttotal: 275ms\tremaining: 808ms\n",
      "254:\tlearn: 0.1931493\ttotal: 276ms\tremaining: 806ms\n",
      "255:\tlearn: 0.1928511\ttotal: 277ms\tremaining: 804ms\n",
      "256:\tlearn: 0.1926438\ttotal: 278ms\tremaining: 802ms\n",
      "257:\tlearn: 0.1923045\ttotal: 278ms\tremaining: 801ms\n",
      "258:\tlearn: 0.1918338\ttotal: 279ms\tremaining: 799ms\n",
      "259:\tlearn: 0.1914849\ttotal: 280ms\tremaining: 797ms\n",
      "260:\tlearn: 0.1910407\ttotal: 281ms\tremaining: 795ms\n",
      "261:\tlearn: 0.1905499\ttotal: 282ms\tremaining: 794ms\n",
      "262:\tlearn: 0.1901875\ttotal: 282ms\tremaining: 792ms\n",
      "263:\tlearn: 0.1898749\ttotal: 283ms\tremaining: 790ms\n",
      "264:\tlearn: 0.1895733\ttotal: 284ms\tremaining: 788ms\n",
      "265:\tlearn: 0.1893120\ttotal: 285ms\tremaining: 786ms\n",
      "266:\tlearn: 0.1888212\ttotal: 286ms\tremaining: 784ms\n",
      "267:\tlearn: 0.1884714\ttotal: 287ms\tremaining: 783ms\n",
      "268:\tlearn: 0.1879917\ttotal: 287ms\tremaining: 781ms\n",
      "269:\tlearn: 0.1874009\ttotal: 288ms\tremaining: 779ms\n",
      "270:\tlearn: 0.1871944\ttotal: 289ms\tremaining: 777ms\n",
      "271:\tlearn: 0.1867281\ttotal: 290ms\tremaining: 775ms\n",
      "272:\tlearn: 0.1863198\ttotal: 290ms\tremaining: 774ms\n",
      "273:\tlearn: 0.1858307\ttotal: 291ms\tremaining: 772ms\n",
      "274:\tlearn: 0.1851180\ttotal: 292ms\tremaining: 770ms\n",
      "275:\tlearn: 0.1849435\ttotal: 293ms\tremaining: 769ms\n",
      "276:\tlearn: 0.1845550\ttotal: 294ms\tremaining: 767ms\n"
     ]
    },
    {
     "name": "stdout",
     "output_type": "stream",
     "text": [
      "277:\tlearn: 0.1843753\ttotal: 295ms\tremaining: 765ms\n",
      "278:\tlearn: 0.1841276\ttotal: 296ms\tremaining: 764ms\n",
      "279:\tlearn: 0.1836896\ttotal: 296ms\tremaining: 762ms\n",
      "280:\tlearn: 0.1831827\ttotal: 298ms\tremaining: 762ms\n",
      "281:\tlearn: 0.1824442\ttotal: 299ms\tremaining: 761ms\n",
      "282:\tlearn: 0.1820525\ttotal: 300ms\tremaining: 761ms\n",
      "283:\tlearn: 0.1816789\ttotal: 301ms\tremaining: 759ms\n",
      "284:\tlearn: 0.1814677\ttotal: 302ms\tremaining: 757ms\n",
      "285:\tlearn: 0.1808384\ttotal: 303ms\tremaining: 755ms\n",
      "286:\tlearn: 0.1805591\ttotal: 303ms\tremaining: 754ms\n",
      "287:\tlearn: 0.1802812\ttotal: 304ms\tremaining: 752ms\n",
      "288:\tlearn: 0.1798467\ttotal: 305ms\tremaining: 750ms\n",
      "289:\tlearn: 0.1793158\ttotal: 306ms\tremaining: 748ms\n",
      "290:\tlearn: 0.1787079\ttotal: 306ms\tremaining: 747ms\n",
      "291:\tlearn: 0.1784125\ttotal: 307ms\tremaining: 745ms\n",
      "292:\tlearn: 0.1780542\ttotal: 308ms\tremaining: 743ms\n",
      "293:\tlearn: 0.1776175\ttotal: 309ms\tremaining: 742ms\n",
      "294:\tlearn: 0.1771564\ttotal: 310ms\tremaining: 740ms\n",
      "295:\tlearn: 0.1769775\ttotal: 311ms\tremaining: 739ms\n",
      "296:\tlearn: 0.1766333\ttotal: 311ms\tremaining: 737ms\n",
      "297:\tlearn: 0.1763321\ttotal: 312ms\tremaining: 736ms\n",
      "298:\tlearn: 0.1760346\ttotal: 313ms\tremaining: 734ms\n",
      "299:\tlearn: 0.1757653\ttotal: 314ms\tremaining: 732ms\n",
      "300:\tlearn: 0.1752818\ttotal: 315ms\tremaining: 731ms\n",
      "301:\tlearn: 0.1747398\ttotal: 315ms\tremaining: 729ms\n",
      "302:\tlearn: 0.1744762\ttotal: 316ms\tremaining: 727ms\n",
      "303:\tlearn: 0.1741201\ttotal: 317ms\tremaining: 726ms\n",
      "304:\tlearn: 0.1737945\ttotal: 318ms\tremaining: 725ms\n",
      "305:\tlearn: 0.1733846\ttotal: 319ms\tremaining: 723ms\n",
      "306:\tlearn: 0.1731259\ttotal: 320ms\tremaining: 722ms\n",
      "307:\tlearn: 0.1728899\ttotal: 321ms\tremaining: 721ms\n",
      "308:\tlearn: 0.1726719\ttotal: 322ms\tremaining: 719ms\n",
      "309:\tlearn: 0.1723602\ttotal: 322ms\tremaining: 717ms\n",
      "310:\tlearn: 0.1720483\ttotal: 323ms\tremaining: 716ms\n",
      "311:\tlearn: 0.1719303\ttotal: 324ms\tremaining: 714ms\n",
      "312:\tlearn: 0.1714509\ttotal: 325ms\tremaining: 712ms\n",
      "313:\tlearn: 0.1709008\ttotal: 325ms\tremaining: 711ms\n",
      "314:\tlearn: 0.1706602\ttotal: 326ms\tremaining: 709ms\n",
      "315:\tlearn: 0.1704768\ttotal: 327ms\tremaining: 708ms\n",
      "316:\tlearn: 0.1702517\ttotal: 328ms\tremaining: 706ms\n",
      "317:\tlearn: 0.1700310\ttotal: 329ms\tremaining: 705ms\n",
      "318:\tlearn: 0.1695481\ttotal: 329ms\tremaining: 703ms\n",
      "319:\tlearn: 0.1689938\ttotal: 330ms\tremaining: 702ms\n",
      "320:\tlearn: 0.1686536\ttotal: 331ms\tremaining: 700ms\n",
      "321:\tlearn: 0.1683006\ttotal: 332ms\tremaining: 699ms\n",
      "322:\tlearn: 0.1680513\ttotal: 333ms\tremaining: 697ms\n",
      "323:\tlearn: 0.1676400\ttotal: 333ms\tremaining: 696ms\n",
      "324:\tlearn: 0.1671636\ttotal: 334ms\tremaining: 694ms\n",
      "325:\tlearn: 0.1669005\ttotal: 335ms\tremaining: 693ms\n",
      "326:\tlearn: 0.1666695\ttotal: 336ms\tremaining: 691ms\n",
      "327:\tlearn: 0.1665353\ttotal: 337ms\tremaining: 690ms\n",
      "328:\tlearn: 0.1663265\ttotal: 337ms\tremaining: 688ms\n",
      "329:\tlearn: 0.1659237\ttotal: 338ms\tremaining: 687ms\n",
      "330:\tlearn: 0.1654525\ttotal: 339ms\tremaining: 685ms\n",
      "331:\tlearn: 0.1649444\ttotal: 340ms\tremaining: 684ms\n",
      "332:\tlearn: 0.1647509\ttotal: 341ms\tremaining: 682ms\n",
      "333:\tlearn: 0.1645009\ttotal: 341ms\tremaining: 681ms\n",
      "334:\tlearn: 0.1640985\ttotal: 342ms\tremaining: 680ms\n",
      "335:\tlearn: 0.1636451\ttotal: 343ms\tremaining: 678ms\n",
      "336:\tlearn: 0.1631357\ttotal: 344ms\tremaining: 677ms\n",
      "337:\tlearn: 0.1629717\ttotal: 345ms\tremaining: 675ms\n",
      "338:\tlearn: 0.1624755\ttotal: 346ms\tremaining: 674ms\n",
      "339:\tlearn: 0.1620782\ttotal: 346ms\tremaining: 672ms\n",
      "340:\tlearn: 0.1616236\ttotal: 347ms\tremaining: 671ms\n",
      "341:\tlearn: 0.1610955\ttotal: 348ms\tremaining: 670ms\n",
      "342:\tlearn: 0.1609382\ttotal: 349ms\tremaining: 668ms\n",
      "343:\tlearn: 0.1606156\ttotal: 350ms\tremaining: 667ms\n",
      "344:\tlearn: 0.1604031\ttotal: 350ms\tremaining: 665ms\n",
      "345:\tlearn: 0.1603096\ttotal: 351ms\tremaining: 664ms\n",
      "346:\tlearn: 0.1599435\ttotal: 352ms\tremaining: 663ms\n",
      "347:\tlearn: 0.1594613\ttotal: 353ms\tremaining: 661ms\n",
      "348:\tlearn: 0.1587891\ttotal: 354ms\tremaining: 660ms\n",
      "349:\tlearn: 0.1584019\ttotal: 354ms\tremaining: 658ms\n",
      "350:\tlearn: 0.1583269\ttotal: 355ms\tremaining: 657ms\n",
      "351:\tlearn: 0.1581903\ttotal: 356ms\tremaining: 655ms\n",
      "352:\tlearn: 0.1577783\ttotal: 357ms\tremaining: 654ms\n",
      "353:\tlearn: 0.1577204\ttotal: 358ms\tremaining: 652ms\n",
      "354:\tlearn: 0.1571869\ttotal: 358ms\tremaining: 651ms\n",
      "355:\tlearn: 0.1571214\ttotal: 359ms\tremaining: 649ms\n",
      "356:\tlearn: 0.1568185\ttotal: 360ms\tremaining: 648ms\n",
      "357:\tlearn: 0.1564686\ttotal: 361ms\tremaining: 647ms\n",
      "358:\tlearn: 0.1561829\ttotal: 361ms\tremaining: 645ms\n",
      "359:\tlearn: 0.1558527\ttotal: 362ms\tremaining: 644ms\n",
      "360:\tlearn: 0.1555013\ttotal: 364ms\tremaining: 644ms\n",
      "361:\tlearn: 0.1552575\ttotal: 364ms\tremaining: 642ms\n",
      "362:\tlearn: 0.1550984\ttotal: 365ms\tremaining: 641ms\n",
      "363:\tlearn: 0.1546946\ttotal: 366ms\tremaining: 639ms\n",
      "364:\tlearn: 0.1546578\ttotal: 367ms\tremaining: 638ms\n",
      "365:\tlearn: 0.1544711\ttotal: 367ms\tremaining: 637ms\n",
      "366:\tlearn: 0.1540184\ttotal: 368ms\tremaining: 635ms\n",
      "367:\tlearn: 0.1536508\ttotal: 369ms\tremaining: 634ms\n",
      "368:\tlearn: 0.1533897\ttotal: 370ms\tremaining: 633ms\n",
      "369:\tlearn: 0.1529775\ttotal: 371ms\tremaining: 631ms\n",
      "370:\tlearn: 0.1525941\ttotal: 371ms\tremaining: 630ms\n",
      "371:\tlearn: 0.1522729\ttotal: 372ms\tremaining: 629ms\n",
      "372:\tlearn: 0.1519007\ttotal: 373ms\tremaining: 627ms\n",
      "373:\tlearn: 0.1518385\ttotal: 374ms\tremaining: 626ms\n",
      "374:\tlearn: 0.1515485\ttotal: 375ms\tremaining: 625ms\n",
      "375:\tlearn: 0.1513741\ttotal: 376ms\tremaining: 624ms\n",
      "376:\tlearn: 0.1510144\ttotal: 377ms\tremaining: 623ms\n",
      "377:\tlearn: 0.1505893\ttotal: 378ms\tremaining: 622ms\n",
      "378:\tlearn: 0.1502573\ttotal: 379ms\tremaining: 620ms\n",
      "379:\tlearn: 0.1499968\ttotal: 379ms\tremaining: 619ms\n"
     ]
    },
    {
     "name": "stdout",
     "output_type": "stream",
     "text": [
      "380:\tlearn: 0.1494951\ttotal: 381ms\tremaining: 618ms\n",
      "381:\tlearn: 0.1494481\ttotal: 382ms\tremaining: 617ms\n",
      "382:\tlearn: 0.1490150\ttotal: 382ms\tremaining: 616ms\n",
      "383:\tlearn: 0.1488115\ttotal: 383ms\tremaining: 615ms\n",
      "384:\tlearn: 0.1485434\ttotal: 384ms\tremaining: 613ms\n",
      "385:\tlearn: 0.1482817\ttotal: 385ms\tremaining: 612ms\n",
      "386:\tlearn: 0.1478007\ttotal: 386ms\tremaining: 611ms\n",
      "387:\tlearn: 0.1476553\ttotal: 387ms\tremaining: 610ms\n",
      "388:\tlearn: 0.1474563\ttotal: 387ms\tremaining: 609ms\n",
      "389:\tlearn: 0.1472820\ttotal: 388ms\tremaining: 607ms\n",
      "390:\tlearn: 0.1470304\ttotal: 389ms\tremaining: 606ms\n",
      "391:\tlearn: 0.1469684\ttotal: 390ms\tremaining: 605ms\n",
      "392:\tlearn: 0.1467536\ttotal: 391ms\tremaining: 604ms\n",
      "393:\tlearn: 0.1464755\ttotal: 392ms\tremaining: 603ms\n",
      "394:\tlearn: 0.1460910\ttotal: 393ms\tremaining: 601ms\n",
      "395:\tlearn: 0.1457416\ttotal: 393ms\tremaining: 600ms\n",
      "396:\tlearn: 0.1454254\ttotal: 394ms\tremaining: 599ms\n",
      "397:\tlearn: 0.1450720\ttotal: 395ms\tremaining: 598ms\n",
      "398:\tlearn: 0.1446364\ttotal: 396ms\tremaining: 596ms\n",
      "399:\tlearn: 0.1442718\ttotal: 396ms\tremaining: 595ms\n",
      "400:\tlearn: 0.1440487\ttotal: 397ms\tremaining: 593ms\n",
      "401:\tlearn: 0.1437835\ttotal: 399ms\tremaining: 593ms\n",
      "402:\tlearn: 0.1434926\ttotal: 400ms\tremaining: 592ms\n",
      "403:\tlearn: 0.1431560\ttotal: 400ms\tremaining: 591ms\n",
      "404:\tlearn: 0.1428301\ttotal: 401ms\tremaining: 589ms\n",
      "405:\tlearn: 0.1425335\ttotal: 402ms\tremaining: 589ms\n",
      "406:\tlearn: 0.1422164\ttotal: 404ms\tremaining: 588ms\n",
      "407:\tlearn: 0.1417753\ttotal: 405ms\tremaining: 588ms\n",
      "408:\tlearn: 0.1412753\ttotal: 406ms\tremaining: 587ms\n",
      "409:\tlearn: 0.1410123\ttotal: 407ms\tremaining: 586ms\n",
      "410:\tlearn: 0.1408035\ttotal: 408ms\tremaining: 585ms\n",
      "411:\tlearn: 0.1405545\ttotal: 410ms\tremaining: 585ms\n",
      "412:\tlearn: 0.1402212\ttotal: 411ms\tremaining: 584ms\n",
      "413:\tlearn: 0.1399265\ttotal: 412ms\tremaining: 583ms\n",
      "414:\tlearn: 0.1396567\ttotal: 413ms\tremaining: 582ms\n",
      "415:\tlearn: 0.1391734\ttotal: 414ms\tremaining: 581ms\n",
      "416:\tlearn: 0.1391048\ttotal: 414ms\tremaining: 579ms\n",
      "417:\tlearn: 0.1387724\ttotal: 415ms\tremaining: 578ms\n",
      "418:\tlearn: 0.1385397\ttotal: 416ms\tremaining: 577ms\n",
      "419:\tlearn: 0.1383159\ttotal: 417ms\tremaining: 576ms\n",
      "420:\tlearn: 0.1382203\ttotal: 418ms\tremaining: 575ms\n",
      "421:\tlearn: 0.1379911\ttotal: 419ms\tremaining: 574ms\n",
      "422:\tlearn: 0.1378217\ttotal: 420ms\tremaining: 572ms\n",
      "423:\tlearn: 0.1376446\ttotal: 421ms\tremaining: 571ms\n",
      "424:\tlearn: 0.1374532\ttotal: 422ms\tremaining: 571ms\n",
      "425:\tlearn: 0.1371841\ttotal: 423ms\tremaining: 570ms\n",
      "426:\tlearn: 0.1368122\ttotal: 424ms\tremaining: 569ms\n",
      "427:\tlearn: 0.1366739\ttotal: 425ms\tremaining: 568ms\n",
      "428:\tlearn: 0.1363510\ttotal: 426ms\tremaining: 567ms\n",
      "429:\tlearn: 0.1361096\ttotal: 427ms\tremaining: 566ms\n",
      "430:\tlearn: 0.1358438\ttotal: 427ms\tremaining: 564ms\n",
      "431:\tlearn: 0.1356227\ttotal: 428ms\tremaining: 563ms\n",
      "432:\tlearn: 0.1354730\ttotal: 429ms\tremaining: 562ms\n",
      "433:\tlearn: 0.1353229\ttotal: 430ms\tremaining: 561ms\n",
      "434:\tlearn: 0.1351664\ttotal: 431ms\tremaining: 559ms\n",
      "435:\tlearn: 0.1349298\ttotal: 432ms\tremaining: 558ms\n",
      "436:\tlearn: 0.1348571\ttotal: 432ms\tremaining: 557ms\n",
      "437:\tlearn: 0.1344889\ttotal: 433ms\tremaining: 556ms\n",
      "438:\tlearn: 0.1341476\ttotal: 434ms\tremaining: 555ms\n",
      "439:\tlearn: 0.1339953\ttotal: 435ms\tremaining: 553ms\n",
      "440:\tlearn: 0.1339216\ttotal: 436ms\tremaining: 552ms\n",
      "441:\tlearn: 0.1336365\ttotal: 437ms\tremaining: 552ms\n",
      "442:\tlearn: 0.1333272\ttotal: 438ms\tremaining: 551ms\n",
      "443:\tlearn: 0.1330014\ttotal: 439ms\tremaining: 549ms\n",
      "444:\tlearn: 0.1326582\ttotal: 439ms\tremaining: 548ms\n",
      "445:\tlearn: 0.1324188\ttotal: 440ms\tremaining: 547ms\n",
      "446:\tlearn: 0.1320150\ttotal: 441ms\tremaining: 546ms\n",
      "447:\tlearn: 0.1317430\ttotal: 442ms\tremaining: 544ms\n",
      "448:\tlearn: 0.1317093\ttotal: 443ms\tremaining: 543ms\n",
      "449:\tlearn: 0.1313605\ttotal: 443ms\tremaining: 542ms\n",
      "450:\tlearn: 0.1311851\ttotal: 444ms\tremaining: 541ms\n",
      "451:\tlearn: 0.1307890\ttotal: 445ms\tremaining: 540ms\n",
      "452:\tlearn: 0.1307334\ttotal: 446ms\tremaining: 539ms\n",
      "453:\tlearn: 0.1303382\ttotal: 447ms\tremaining: 537ms\n",
      "454:\tlearn: 0.1301050\ttotal: 448ms\tremaining: 536ms\n",
      "455:\tlearn: 0.1299694\ttotal: 449ms\tremaining: 535ms\n",
      "456:\tlearn: 0.1296622\ttotal: 449ms\tremaining: 534ms\n",
      "457:\tlearn: 0.1292872\ttotal: 450ms\tremaining: 533ms\n",
      "458:\tlearn: 0.1290922\ttotal: 451ms\tremaining: 531ms\n",
      "459:\tlearn: 0.1290505\ttotal: 452ms\tremaining: 530ms\n",
      "460:\tlearn: 0.1289269\ttotal: 453ms\tremaining: 529ms\n",
      "461:\tlearn: 0.1287308\ttotal: 453ms\tremaining: 528ms\n",
      "462:\tlearn: 0.1283925\ttotal: 454ms\tremaining: 527ms\n",
      "463:\tlearn: 0.1282784\ttotal: 455ms\tremaining: 526ms\n",
      "464:\tlearn: 0.1279236\ttotal: 456ms\tremaining: 524ms\n",
      "465:\tlearn: 0.1277618\ttotal: 457ms\tremaining: 523ms\n",
      "466:\tlearn: 0.1275402\ttotal: 457ms\tremaining: 522ms\n",
      "467:\tlearn: 0.1272385\ttotal: 458ms\tremaining: 521ms\n",
      "468:\tlearn: 0.1269720\ttotal: 459ms\tremaining: 520ms\n",
      "469:\tlearn: 0.1269350\ttotal: 460ms\tremaining: 519ms\n",
      "470:\tlearn: 0.1267332\ttotal: 461ms\tremaining: 517ms\n",
      "471:\tlearn: 0.1266976\ttotal: 461ms\tremaining: 516ms\n",
      "472:\tlearn: 0.1265152\ttotal: 462ms\tremaining: 515ms\n",
      "473:\tlearn: 0.1263417\ttotal: 463ms\tremaining: 514ms\n",
      "474:\tlearn: 0.1263045\ttotal: 464ms\tremaining: 513ms\n",
      "475:\tlearn: 0.1260768\ttotal: 465ms\tremaining: 512ms\n",
      "476:\tlearn: 0.1259146\ttotal: 466ms\tremaining: 511ms\n",
      "477:\tlearn: 0.1256223\ttotal: 466ms\tremaining: 509ms\n",
      "478:\tlearn: 0.1253463\ttotal: 467ms\tremaining: 508ms\n",
      "479:\tlearn: 0.1250250\ttotal: 468ms\tremaining: 507ms\n",
      "480:\tlearn: 0.1246891\ttotal: 469ms\tremaining: 506ms\n",
      "481:\tlearn: 0.1244533\ttotal: 470ms\tremaining: 505ms\n",
      "482:\tlearn: 0.1242493\ttotal: 470ms\tremaining: 503ms\n",
      "483:\tlearn: 0.1241414\ttotal: 471ms\tremaining: 502ms\n",
      "484:\tlearn: 0.1238107\ttotal: 472ms\tremaining: 501ms\n",
      "485:\tlearn: 0.1235061\ttotal: 473ms\tremaining: 500ms\n",
      "486:\tlearn: 0.1231521\ttotal: 474ms\tremaining: 499ms\n",
      "487:\tlearn: 0.1228006\ttotal: 474ms\tremaining: 498ms\n",
      "488:\tlearn: 0.1224511\ttotal: 475ms\tremaining: 497ms\n",
      "489:\tlearn: 0.1223058\ttotal: 476ms\tremaining: 496ms\n",
      "490:\tlearn: 0.1219937\ttotal: 477ms\tremaining: 494ms\n",
      "491:\tlearn: 0.1217345\ttotal: 478ms\tremaining: 493ms\n",
      "492:\tlearn: 0.1217059\ttotal: 479ms\tremaining: 492ms\n",
      "493:\tlearn: 0.1216431\ttotal: 479ms\tremaining: 491ms\n",
      "494:\tlearn: 0.1213584\ttotal: 480ms\tremaining: 490ms\n",
      "495:\tlearn: 0.1210852\ttotal: 481ms\tremaining: 489ms\n",
      "496:\tlearn: 0.1207836\ttotal: 482ms\tremaining: 488ms\n",
      "497:\tlearn: 0.1205889\ttotal: 483ms\tremaining: 487ms\n",
      "498:\tlearn: 0.1203377\ttotal: 484ms\tremaining: 485ms\n",
      "499:\tlearn: 0.1202365\ttotal: 484ms\tremaining: 484ms\n"
     ]
    },
    {
     "name": "stdout",
     "output_type": "stream",
     "text": [
      "500:\tlearn: 0.1199168\ttotal: 486ms\tremaining: 484ms\n",
      "501:\tlearn: 0.1196808\ttotal: 486ms\tremaining: 483ms\n",
      "502:\tlearn: 0.1194213\ttotal: 488ms\tremaining: 482ms\n",
      "503:\tlearn: 0.1190785\ttotal: 489ms\tremaining: 481ms\n",
      "504:\tlearn: 0.1187594\ttotal: 489ms\tremaining: 480ms\n",
      "505:\tlearn: 0.1184472\ttotal: 490ms\tremaining: 479ms\n",
      "506:\tlearn: 0.1182243\ttotal: 491ms\tremaining: 478ms\n",
      "507:\tlearn: 0.1181024\ttotal: 492ms\tremaining: 476ms\n",
      "508:\tlearn: 0.1178141\ttotal: 493ms\tremaining: 476ms\n",
      "509:\tlearn: 0.1175777\ttotal: 494ms\tremaining: 475ms\n",
      "510:\tlearn: 0.1175194\ttotal: 495ms\tremaining: 474ms\n",
      "511:\tlearn: 0.1174055\ttotal: 496ms\tremaining: 473ms\n",
      "512:\tlearn: 0.1171188\ttotal: 497ms\tremaining: 472ms\n",
      "513:\tlearn: 0.1169019\ttotal: 498ms\tremaining: 471ms\n",
      "514:\tlearn: 0.1168445\ttotal: 498ms\tremaining: 469ms\n",
      "515:\tlearn: 0.1167267\ttotal: 499ms\tremaining: 468ms\n",
      "516:\tlearn: 0.1165745\ttotal: 500ms\tremaining: 467ms\n",
      "517:\tlearn: 0.1163107\ttotal: 501ms\tremaining: 466ms\n",
      "518:\tlearn: 0.1160192\ttotal: 502ms\tremaining: 465ms\n",
      "519:\tlearn: 0.1157463\ttotal: 503ms\tremaining: 464ms\n",
      "520:\tlearn: 0.1157259\ttotal: 503ms\tremaining: 463ms\n",
      "521:\tlearn: 0.1154704\ttotal: 504ms\tremaining: 462ms\n",
      "522:\tlearn: 0.1153201\ttotal: 505ms\tremaining: 461ms\n",
      "523:\tlearn: 0.1150614\ttotal: 506ms\tremaining: 459ms\n",
      "524:\tlearn: 0.1149269\ttotal: 507ms\tremaining: 458ms\n",
      "525:\tlearn: 0.1146491\ttotal: 507ms\tremaining: 457ms\n",
      "526:\tlearn: 0.1144229\ttotal: 508ms\tremaining: 456ms\n",
      "527:\tlearn: 0.1141927\ttotal: 509ms\tremaining: 455ms\n",
      "528:\tlearn: 0.1139170\ttotal: 510ms\tremaining: 454ms\n",
      "529:\tlearn: 0.1136830\ttotal: 510ms\tremaining: 453ms\n",
      "530:\tlearn: 0.1133461\ttotal: 511ms\tremaining: 452ms\n",
      "531:\tlearn: 0.1131404\ttotal: 512ms\tremaining: 450ms\n",
      "532:\tlearn: 0.1128850\ttotal: 513ms\tremaining: 449ms\n",
      "533:\tlearn: 0.1126575\ttotal: 514ms\tremaining: 448ms\n",
      "534:\tlearn: 0.1124345\ttotal: 514ms\tremaining: 447ms\n",
      "535:\tlearn: 0.1123821\ttotal: 515ms\tremaining: 446ms\n",
      "536:\tlearn: 0.1121804\ttotal: 516ms\tremaining: 445ms\n",
      "537:\tlearn: 0.1119982\ttotal: 517ms\tremaining: 444ms\n",
      "538:\tlearn: 0.1118217\ttotal: 518ms\tremaining: 443ms\n",
      "539:\tlearn: 0.1115919\ttotal: 518ms\tremaining: 442ms\n",
      "540:\tlearn: 0.1114016\ttotal: 519ms\tremaining: 440ms\n",
      "541:\tlearn: 0.1111746\ttotal: 520ms\tremaining: 439ms\n",
      "542:\tlearn: 0.1108436\ttotal: 521ms\tremaining: 439ms\n",
      "543:\tlearn: 0.1106346\ttotal: 522ms\tremaining: 438ms\n",
      "544:\tlearn: 0.1104781\ttotal: 523ms\tremaining: 437ms\n",
      "545:\tlearn: 0.1103509\ttotal: 524ms\tremaining: 435ms\n",
      "546:\tlearn: 0.1101814\ttotal: 524ms\tremaining: 434ms\n",
      "547:\tlearn: 0.1099557\ttotal: 525ms\tremaining: 433ms\n",
      "548:\tlearn: 0.1098442\ttotal: 526ms\tremaining: 432ms\n",
      "549:\tlearn: 0.1095417\ttotal: 527ms\tremaining: 431ms\n",
      "550:\tlearn: 0.1093798\ttotal: 528ms\tremaining: 430ms\n",
      "551:\tlearn: 0.1092318\ttotal: 529ms\tremaining: 430ms\n",
      "552:\tlearn: 0.1091228\ttotal: 530ms\tremaining: 429ms\n",
      "553:\tlearn: 0.1088596\ttotal: 531ms\tremaining: 428ms\n",
      "554:\tlearn: 0.1088136\ttotal: 532ms\tremaining: 427ms\n",
      "555:\tlearn: 0.1085582\ttotal: 533ms\tremaining: 425ms\n",
      "556:\tlearn: 0.1083081\ttotal: 534ms\tremaining: 425ms\n",
      "557:\tlearn: 0.1081227\ttotal: 535ms\tremaining: 424ms\n",
      "558:\tlearn: 0.1079365\ttotal: 535ms\tremaining: 422ms\n",
      "559:\tlearn: 0.1077942\ttotal: 536ms\tremaining: 421ms\n",
      "560:\tlearn: 0.1075855\ttotal: 537ms\tremaining: 420ms\n",
      "561:\tlearn: 0.1073859\ttotal: 538ms\tremaining: 419ms\n",
      "562:\tlearn: 0.1071385\ttotal: 539ms\tremaining: 418ms\n",
      "563:\tlearn: 0.1069704\ttotal: 540ms\tremaining: 417ms\n",
      "564:\tlearn: 0.1068009\ttotal: 541ms\tremaining: 416ms\n",
      "565:\tlearn: 0.1065468\ttotal: 542ms\tremaining: 416ms\n",
      "566:\tlearn: 0.1064976\ttotal: 543ms\tremaining: 414ms\n",
      "567:\tlearn: 0.1062828\ttotal: 543ms\tremaining: 413ms\n",
      "568:\tlearn: 0.1061016\ttotal: 544ms\tremaining: 412ms\n",
      "569:\tlearn: 0.1058250\ttotal: 545ms\tremaining: 411ms\n",
      "570:\tlearn: 0.1056892\ttotal: 546ms\tremaining: 410ms\n",
      "571:\tlearn: 0.1054110\ttotal: 547ms\tremaining: 409ms\n",
      "572:\tlearn: 0.1050941\ttotal: 548ms\tremaining: 408ms\n",
      "573:\tlearn: 0.1049358\ttotal: 548ms\tremaining: 407ms\n",
      "574:\tlearn: 0.1046546\ttotal: 550ms\tremaining: 407ms\n",
      "575:\tlearn: 0.1043708\ttotal: 551ms\tremaining: 405ms\n",
      "576:\tlearn: 0.1041835\ttotal: 552ms\tremaining: 404ms\n",
      "577:\tlearn: 0.1040119\ttotal: 552ms\tremaining: 403ms\n",
      "578:\tlearn: 0.1039385\ttotal: 553ms\tremaining: 402ms\n",
      "579:\tlearn: 0.1037342\ttotal: 554ms\tremaining: 401ms\n",
      "580:\tlearn: 0.1035663\ttotal: 555ms\tremaining: 400ms\n",
      "581:\tlearn: 0.1034205\ttotal: 556ms\tremaining: 399ms\n",
      "582:\tlearn: 0.1032025\ttotal: 557ms\tremaining: 398ms\n",
      "583:\tlearn: 0.1029771\ttotal: 558ms\tremaining: 397ms\n",
      "584:\tlearn: 0.1028146\ttotal: 558ms\tremaining: 396ms\n",
      "585:\tlearn: 0.1026845\ttotal: 559ms\tremaining: 395ms\n",
      "586:\tlearn: 0.1024930\ttotal: 560ms\tremaining: 394ms\n",
      "587:\tlearn: 0.1022984\ttotal: 561ms\tremaining: 393ms\n",
      "588:\tlearn: 0.1021124\ttotal: 562ms\tremaining: 392ms\n",
      "589:\tlearn: 0.1020766\ttotal: 562ms\tremaining: 391ms\n",
      "590:\tlearn: 0.1019533\ttotal: 563ms\tremaining: 390ms\n",
      "591:\tlearn: 0.1019079\ttotal: 564ms\tremaining: 389ms\n",
      "592:\tlearn: 0.1017295\ttotal: 565ms\tremaining: 388ms\n",
      "593:\tlearn: 0.1015389\ttotal: 566ms\tremaining: 387ms\n",
      "594:\tlearn: 0.1013257\ttotal: 566ms\tremaining: 386ms\n",
      "595:\tlearn: 0.1011613\ttotal: 567ms\tremaining: 385ms\n",
      "596:\tlearn: 0.1010635\ttotal: 568ms\tremaining: 383ms\n",
      "597:\tlearn: 0.1008551\ttotal: 569ms\tremaining: 382ms\n",
      "598:\tlearn: 0.1008082\ttotal: 569ms\tremaining: 381ms\n",
      "599:\tlearn: 0.1006165\ttotal: 570ms\tremaining: 380ms\n"
     ]
    },
    {
     "name": "stdout",
     "output_type": "stream",
     "text": [
      "600:\tlearn: 0.1004880\ttotal: 571ms\tremaining: 379ms\n",
      "601:\tlearn: 0.1001930\ttotal: 572ms\tremaining: 378ms\n",
      "602:\tlearn: 0.1000030\ttotal: 573ms\tremaining: 377ms\n",
      "603:\tlearn: 0.0998869\ttotal: 574ms\tremaining: 376ms\n",
      "604:\tlearn: 0.0996156\ttotal: 575ms\tremaining: 375ms\n",
      "605:\tlearn: 0.0993942\ttotal: 576ms\tremaining: 374ms\n",
      "606:\tlearn: 0.0992325\ttotal: 576ms\tremaining: 373ms\n",
      "607:\tlearn: 0.0990770\ttotal: 577ms\tremaining: 372ms\n",
      "608:\tlearn: 0.0988889\ttotal: 578ms\tremaining: 371ms\n",
      "609:\tlearn: 0.0987229\ttotal: 579ms\tremaining: 370ms\n",
      "610:\tlearn: 0.0985496\ttotal: 579ms\tremaining: 369ms\n",
      "611:\tlearn: 0.0983831\ttotal: 580ms\tremaining: 368ms\n",
      "612:\tlearn: 0.0982035\ttotal: 581ms\tremaining: 367ms\n",
      "613:\tlearn: 0.0980443\ttotal: 582ms\tremaining: 366ms\n",
      "614:\tlearn: 0.0978456\ttotal: 583ms\tremaining: 365ms\n",
      "615:\tlearn: 0.0977991\ttotal: 584ms\tremaining: 364ms\n",
      "616:\tlearn: 0.0976003\ttotal: 584ms\tremaining: 363ms\n",
      "617:\tlearn: 0.0975599\ttotal: 585ms\tremaining: 362ms\n",
      "618:\tlearn: 0.0974126\ttotal: 586ms\tremaining: 361ms\n",
      "619:\tlearn: 0.0971700\ttotal: 587ms\tremaining: 360ms\n",
      "620:\tlearn: 0.0968783\ttotal: 588ms\tremaining: 359ms\n",
      "621:\tlearn: 0.0966698\ttotal: 588ms\tremaining: 358ms\n",
      "622:\tlearn: 0.0966148\ttotal: 589ms\tremaining: 357ms\n",
      "623:\tlearn: 0.0964382\ttotal: 590ms\tremaining: 356ms\n",
      "624:\tlearn: 0.0962033\ttotal: 591ms\tremaining: 355ms\n",
      "625:\tlearn: 0.0960396\ttotal: 592ms\tremaining: 354ms\n",
      "626:\tlearn: 0.0958831\ttotal: 593ms\tremaining: 353ms\n",
      "627:\tlearn: 0.0957990\ttotal: 593ms\tremaining: 352ms\n",
      "628:\tlearn: 0.0955398\ttotal: 594ms\tremaining: 351ms\n",
      "629:\tlearn: 0.0955152\ttotal: 595ms\tremaining: 350ms\n",
      "630:\tlearn: 0.0952402\ttotal: 596ms\tremaining: 348ms\n",
      "631:\tlearn: 0.0950667\ttotal: 597ms\tremaining: 347ms\n",
      "632:\tlearn: 0.0947983\ttotal: 597ms\tremaining: 346ms\n",
      "633:\tlearn: 0.0946436\ttotal: 598ms\tremaining: 345ms\n",
      "634:\tlearn: 0.0944591\ttotal: 599ms\tremaining: 344ms\n",
      "635:\tlearn: 0.0942691\ttotal: 600ms\tremaining: 343ms\n",
      "636:\tlearn: 0.0941207\ttotal: 601ms\tremaining: 342ms\n",
      "637:\tlearn: 0.0940923\ttotal: 601ms\tremaining: 341ms\n",
      "638:\tlearn: 0.0939080\ttotal: 602ms\tremaining: 340ms\n",
      "639:\tlearn: 0.0937647\ttotal: 603ms\tremaining: 339ms\n",
      "640:\tlearn: 0.0937397\ttotal: 604ms\tremaining: 338ms\n",
      "641:\tlearn: 0.0936371\ttotal: 605ms\tremaining: 337ms\n",
      "642:\tlearn: 0.0935097\ttotal: 605ms\tremaining: 336ms\n",
      "643:\tlearn: 0.0933594\ttotal: 606ms\tremaining: 335ms\n",
      "644:\tlearn: 0.0932162\ttotal: 607ms\tremaining: 334ms\n",
      "645:\tlearn: 0.0930512\ttotal: 608ms\tremaining: 333ms\n",
      "646:\tlearn: 0.0928386\ttotal: 609ms\tremaining: 332ms\n",
      "647:\tlearn: 0.0926489\ttotal: 609ms\tremaining: 331ms\n",
      "648:\tlearn: 0.0925054\ttotal: 610ms\tremaining: 330ms\n",
      "649:\tlearn: 0.0922336\ttotal: 611ms\tremaining: 329ms\n",
      "650:\tlearn: 0.0922074\ttotal: 612ms\tremaining: 328ms\n",
      "651:\tlearn: 0.0919591\ttotal: 613ms\tremaining: 327ms\n",
      "652:\tlearn: 0.0918657\ttotal: 613ms\tremaining: 326ms\n",
      "653:\tlearn: 0.0916885\ttotal: 614ms\tremaining: 325ms\n",
      "654:\tlearn: 0.0915428\ttotal: 615ms\tremaining: 324ms\n",
      "655:\tlearn: 0.0914605\ttotal: 616ms\tremaining: 323ms\n",
      "656:\tlearn: 0.0914275\ttotal: 617ms\tremaining: 322ms\n",
      "657:\tlearn: 0.0912196\ttotal: 618ms\tremaining: 321ms\n",
      "658:\tlearn: 0.0910391\ttotal: 619ms\tremaining: 320ms\n",
      "659:\tlearn: 0.0908637\ttotal: 620ms\tremaining: 319ms\n",
      "660:\tlearn: 0.0906660\ttotal: 620ms\tremaining: 318ms\n",
      "661:\tlearn: 0.0905091\ttotal: 621ms\tremaining: 317ms\n",
      "662:\tlearn: 0.0903107\ttotal: 622ms\tremaining: 316ms\n",
      "663:\tlearn: 0.0901248\ttotal: 623ms\tremaining: 315ms\n",
      "664:\tlearn: 0.0899970\ttotal: 624ms\tremaining: 314ms\n",
      "665:\tlearn: 0.0898700\ttotal: 624ms\tremaining: 313ms\n",
      "666:\tlearn: 0.0896879\ttotal: 625ms\tremaining: 312ms\n",
      "667:\tlearn: 0.0895076\ttotal: 626ms\tremaining: 311ms\n",
      "668:\tlearn: 0.0894656\ttotal: 627ms\tremaining: 310ms\n",
      "669:\tlearn: 0.0892212\ttotal: 628ms\tremaining: 309ms\n",
      "670:\tlearn: 0.0890919\ttotal: 628ms\tremaining: 308ms\n",
      "671:\tlearn: 0.0890576\ttotal: 629ms\tremaining: 307ms\n",
      "672:\tlearn: 0.0889002\ttotal: 630ms\tremaining: 306ms\n",
      "673:\tlearn: 0.0888245\ttotal: 631ms\tremaining: 305ms\n",
      "674:\tlearn: 0.0886771\ttotal: 632ms\tremaining: 304ms\n",
      "675:\tlearn: 0.0884629\ttotal: 633ms\tremaining: 303ms\n",
      "676:\tlearn: 0.0883145\ttotal: 633ms\tremaining: 302ms\n",
      "677:\tlearn: 0.0880755\ttotal: 634ms\tremaining: 301ms\n",
      "678:\tlearn: 0.0879067\ttotal: 635ms\tremaining: 300ms\n",
      "679:\tlearn: 0.0876744\ttotal: 636ms\tremaining: 299ms\n",
      "680:\tlearn: 0.0875321\ttotal: 637ms\tremaining: 298ms\n",
      "681:\tlearn: 0.0874897\ttotal: 638ms\tremaining: 297ms\n",
      "682:\tlearn: 0.0873298\ttotal: 639ms\tremaining: 296ms\n",
      "683:\tlearn: 0.0872399\ttotal: 640ms\tremaining: 295ms\n",
      "684:\tlearn: 0.0871223\ttotal: 641ms\tremaining: 295ms\n",
      "685:\tlearn: 0.0869442\ttotal: 642ms\tremaining: 294ms\n",
      "686:\tlearn: 0.0868560\ttotal: 644ms\tremaining: 293ms\n",
      "687:\tlearn: 0.0867548\ttotal: 646ms\tremaining: 293ms\n",
      "688:\tlearn: 0.0866377\ttotal: 648ms\tremaining: 292ms\n",
      "689:\tlearn: 0.0865727\ttotal: 648ms\tremaining: 291ms\n",
      "690:\tlearn: 0.0865051\ttotal: 649ms\tremaining: 290ms\n",
      "691:\tlearn: 0.0863482\ttotal: 650ms\tremaining: 289ms\n",
      "692:\tlearn: 0.0861645\ttotal: 651ms\tremaining: 288ms\n",
      "693:\tlearn: 0.0859548\ttotal: 652ms\tremaining: 288ms\n",
      "694:\tlearn: 0.0858500\ttotal: 654ms\tremaining: 287ms\n",
      "695:\tlearn: 0.0857330\ttotal: 656ms\tremaining: 286ms\n",
      "696:\tlearn: 0.0857092\ttotal: 657ms\tremaining: 285ms\n",
      "697:\tlearn: 0.0856768\ttotal: 658ms\tremaining: 285ms\n",
      "698:\tlearn: 0.0855704\ttotal: 659ms\tremaining: 284ms\n",
      "699:\tlearn: 0.0853941\ttotal: 659ms\tremaining: 283ms\n",
      "700:\tlearn: 0.0852672\ttotal: 660ms\tremaining: 281ms\n",
      "701:\tlearn: 0.0851151\ttotal: 661ms\tremaining: 280ms\n",
      "702:\tlearn: 0.0849426\ttotal: 661ms\tremaining: 279ms\n",
      "703:\tlearn: 0.0847973\ttotal: 662ms\tremaining: 279ms\n",
      "704:\tlearn: 0.0846564\ttotal: 663ms\tremaining: 278ms\n",
      "705:\tlearn: 0.0845292\ttotal: 664ms\tremaining: 277ms\n",
      "706:\tlearn: 0.0845028\ttotal: 665ms\tremaining: 276ms\n",
      "707:\tlearn: 0.0843339\ttotal: 666ms\tremaining: 275ms\n",
      "708:\tlearn: 0.0842942\ttotal: 667ms\tremaining: 274ms\n",
      "709:\tlearn: 0.0842589\ttotal: 669ms\tremaining: 273ms\n",
      "710:\tlearn: 0.0842277\ttotal: 670ms\tremaining: 272ms\n",
      "711:\tlearn: 0.0841158\ttotal: 671ms\tremaining: 271ms\n",
      "712:\tlearn: 0.0839737\ttotal: 672ms\tremaining: 271ms\n",
      "713:\tlearn: 0.0839355\ttotal: 673ms\tremaining: 270ms\n",
      "714:\tlearn: 0.0838064\ttotal: 674ms\tremaining: 269ms\n",
      "715:\tlearn: 0.0836442\ttotal: 675ms\tremaining: 268ms\n"
     ]
    },
    {
     "name": "stdout",
     "output_type": "stream",
     "text": [
      "716:\tlearn: 0.0834624\ttotal: 676ms\tremaining: 267ms\n",
      "717:\tlearn: 0.0833657\ttotal: 677ms\tremaining: 266ms\n",
      "718:\tlearn: 0.0832369\ttotal: 678ms\tremaining: 265ms\n",
      "719:\tlearn: 0.0831905\ttotal: 679ms\tremaining: 264ms\n",
      "720:\tlearn: 0.0830382\ttotal: 680ms\tremaining: 263ms\n",
      "721:\tlearn: 0.0828258\ttotal: 681ms\tremaining: 262ms\n",
      "722:\tlearn: 0.0827474\ttotal: 682ms\tremaining: 261ms\n",
      "723:\tlearn: 0.0825469\ttotal: 683ms\tremaining: 260ms\n",
      "724:\tlearn: 0.0824069\ttotal: 684ms\tremaining: 259ms\n",
      "725:\tlearn: 0.0822189\ttotal: 685ms\tremaining: 258ms\n",
      "726:\tlearn: 0.0821394\ttotal: 686ms\tremaining: 258ms\n",
      "727:\tlearn: 0.0820350\ttotal: 687ms\tremaining: 257ms\n",
      "728:\tlearn: 0.0819297\ttotal: 688ms\tremaining: 256ms\n",
      "729:\tlearn: 0.0818549\ttotal: 689ms\tremaining: 255ms\n",
      "730:\tlearn: 0.0817537\ttotal: 690ms\tremaining: 254ms\n",
      "731:\tlearn: 0.0816433\ttotal: 691ms\tremaining: 253ms\n",
      "732:\tlearn: 0.0815741\ttotal: 692ms\tremaining: 252ms\n",
      "733:\tlearn: 0.0814139\ttotal: 693ms\tremaining: 251ms\n",
      "734:\tlearn: 0.0812724\ttotal: 694ms\tremaining: 250ms\n",
      "735:\tlearn: 0.0811507\ttotal: 695ms\tremaining: 249ms\n",
      "736:\tlearn: 0.0810626\ttotal: 696ms\tremaining: 248ms\n",
      "737:\tlearn: 0.0810131\ttotal: 697ms\tremaining: 247ms\n",
      "738:\tlearn: 0.0808562\ttotal: 698ms\tremaining: 246ms\n",
      "739:\tlearn: 0.0807108\ttotal: 699ms\tremaining: 245ms\n",
      "740:\tlearn: 0.0806047\ttotal: 699ms\tremaining: 244ms\n",
      "741:\tlearn: 0.0804633\ttotal: 700ms\tremaining: 244ms\n",
      "742:\tlearn: 0.0803236\ttotal: 701ms\tremaining: 243ms\n",
      "743:\tlearn: 0.0802461\ttotal: 702ms\tremaining: 241ms\n",
      "744:\tlearn: 0.0800057\ttotal: 703ms\tremaining: 240ms\n",
      "745:\tlearn: 0.0798797\ttotal: 703ms\tremaining: 239ms\n",
      "746:\tlearn: 0.0797478\ttotal: 704ms\tremaining: 238ms\n",
      "747:\tlearn: 0.0796283\ttotal: 705ms\tremaining: 238ms\n",
      "748:\tlearn: 0.0794961\ttotal: 706ms\tremaining: 237ms\n",
      "749:\tlearn: 0.0793287\ttotal: 707ms\tremaining: 236ms\n",
      "750:\tlearn: 0.0792991\ttotal: 708ms\tremaining: 235ms\n",
      "751:\tlearn: 0.0791325\ttotal: 709ms\tremaining: 234ms\n",
      "752:\tlearn: 0.0790111\ttotal: 710ms\tremaining: 233ms\n",
      "753:\tlearn: 0.0788851\ttotal: 711ms\tremaining: 232ms\n",
      "754:\tlearn: 0.0788345\ttotal: 712ms\tremaining: 231ms\n",
      "755:\tlearn: 0.0786863\ttotal: 713ms\tremaining: 230ms\n",
      "756:\tlearn: 0.0785731\ttotal: 713ms\tremaining: 229ms\n",
      "757:\tlearn: 0.0784087\ttotal: 714ms\tremaining: 228ms\n",
      "758:\tlearn: 0.0783105\ttotal: 715ms\tremaining: 227ms\n",
      "759:\tlearn: 0.0781986\ttotal: 716ms\tremaining: 226ms\n",
      "760:\tlearn: 0.0780372\ttotal: 717ms\tremaining: 225ms\n",
      "761:\tlearn: 0.0778953\ttotal: 718ms\tremaining: 224ms\n",
      "762:\tlearn: 0.0777262\ttotal: 719ms\tremaining: 223ms\n",
      "763:\tlearn: 0.0776531\ttotal: 720ms\tremaining: 222ms\n",
      "764:\tlearn: 0.0776011\ttotal: 721ms\tremaining: 221ms\n",
      "765:\tlearn: 0.0774700\ttotal: 721ms\tremaining: 220ms\n",
      "766:\tlearn: 0.0773514\ttotal: 722ms\tremaining: 219ms\n",
      "767:\tlearn: 0.0772197\ttotal: 723ms\tremaining: 218ms\n",
      "768:\tlearn: 0.0770979\ttotal: 724ms\tremaining: 218ms\n",
      "769:\tlearn: 0.0769989\ttotal: 725ms\tremaining: 217ms\n",
      "770:\tlearn: 0.0768335\ttotal: 726ms\tremaining: 216ms\n",
      "771:\tlearn: 0.0767093\ttotal: 727ms\tremaining: 215ms\n",
      "772:\tlearn: 0.0766115\ttotal: 728ms\tremaining: 214ms\n",
      "773:\tlearn: 0.0764767\ttotal: 728ms\tremaining: 213ms\n",
      "774:\tlearn: 0.0763299\ttotal: 729ms\tremaining: 212ms\n",
      "775:\tlearn: 0.0762334\ttotal: 731ms\tremaining: 211ms\n",
      "776:\tlearn: 0.0761175\ttotal: 732ms\tremaining: 210ms\n",
      "777:\tlearn: 0.0760261\ttotal: 732ms\tremaining: 209ms\n",
      "778:\tlearn: 0.0758834\ttotal: 733ms\tremaining: 208ms\n",
      "779:\tlearn: 0.0757871\ttotal: 734ms\tremaining: 207ms\n",
      "780:\tlearn: 0.0756590\ttotal: 735ms\tremaining: 206ms\n",
      "781:\tlearn: 0.0755425\ttotal: 735ms\tremaining: 205ms\n",
      "782:\tlearn: 0.0754137\ttotal: 736ms\tremaining: 204ms\n",
      "783:\tlearn: 0.0753709\ttotal: 737ms\tremaining: 203ms\n",
      "784:\tlearn: 0.0752130\ttotal: 738ms\tremaining: 202ms\n",
      "785:\tlearn: 0.0751761\ttotal: 739ms\tremaining: 201ms\n",
      "786:\tlearn: 0.0750674\ttotal: 740ms\tremaining: 200ms\n",
      "787:\tlearn: 0.0748950\ttotal: 741ms\tremaining: 199ms\n",
      "788:\tlearn: 0.0748348\ttotal: 741ms\tremaining: 198ms\n",
      "789:\tlearn: 0.0747679\ttotal: 742ms\tremaining: 197ms\n",
      "790:\tlearn: 0.0746438\ttotal: 743ms\tremaining: 196ms\n",
      "791:\tlearn: 0.0744661\ttotal: 744ms\tremaining: 195ms\n",
      "792:\tlearn: 0.0743756\ttotal: 745ms\tremaining: 194ms\n",
      "793:\tlearn: 0.0742516\ttotal: 746ms\tremaining: 193ms\n",
      "794:\tlearn: 0.0741742\ttotal: 747ms\tremaining: 193ms\n",
      "795:\tlearn: 0.0740319\ttotal: 747ms\tremaining: 192ms\n",
      "796:\tlearn: 0.0739384\ttotal: 748ms\tremaining: 191ms\n",
      "797:\tlearn: 0.0737894\ttotal: 749ms\tremaining: 190ms\n",
      "798:\tlearn: 0.0737435\ttotal: 750ms\tremaining: 189ms\n",
      "799:\tlearn: 0.0736408\ttotal: 751ms\tremaining: 188ms\n",
      "800:\tlearn: 0.0736044\ttotal: 751ms\tremaining: 187ms\n",
      "801:\tlearn: 0.0735202\ttotal: 752ms\tremaining: 186ms\n",
      "802:\tlearn: 0.0734648\ttotal: 753ms\tremaining: 185ms\n",
      "803:\tlearn: 0.0733874\ttotal: 754ms\tremaining: 184ms\n",
      "804:\tlearn: 0.0733257\ttotal: 755ms\tremaining: 183ms\n",
      "805:\tlearn: 0.0732295\ttotal: 756ms\tremaining: 182ms\n",
      "806:\tlearn: 0.0730415\ttotal: 756ms\tremaining: 181ms\n",
      "807:\tlearn: 0.0728962\ttotal: 757ms\tremaining: 180ms\n",
      "808:\tlearn: 0.0727323\ttotal: 758ms\tremaining: 179ms\n",
      "809:\tlearn: 0.0725881\ttotal: 759ms\tremaining: 178ms\n",
      "810:\tlearn: 0.0724928\ttotal: 760ms\tremaining: 177ms\n",
      "811:\tlearn: 0.0724534\ttotal: 761ms\tremaining: 176ms\n"
     ]
    },
    {
     "name": "stdout",
     "output_type": "stream",
     "text": [
      "812:\tlearn: 0.0722734\ttotal: 762ms\tremaining: 175ms\n",
      "813:\tlearn: 0.0721380\ttotal: 763ms\tremaining: 174ms\n",
      "814:\tlearn: 0.0720607\ttotal: 763ms\tremaining: 173ms\n",
      "815:\tlearn: 0.0718895\ttotal: 764ms\tremaining: 172ms\n",
      "816:\tlearn: 0.0717709\ttotal: 765ms\tremaining: 171ms\n",
      "817:\tlearn: 0.0717185\ttotal: 766ms\tremaining: 170ms\n",
      "818:\tlearn: 0.0716026\ttotal: 767ms\tremaining: 169ms\n",
      "819:\tlearn: 0.0714533\ttotal: 767ms\tremaining: 168ms\n",
      "820:\tlearn: 0.0712973\ttotal: 768ms\tremaining: 167ms\n",
      "821:\tlearn: 0.0711736\ttotal: 769ms\tremaining: 167ms\n",
      "822:\tlearn: 0.0710459\ttotal: 770ms\tremaining: 166ms\n",
      "823:\tlearn: 0.0709079\ttotal: 771ms\tremaining: 165ms\n",
      "824:\tlearn: 0.0707944\ttotal: 772ms\tremaining: 164ms\n",
      "825:\tlearn: 0.0707175\ttotal: 772ms\tremaining: 163ms\n",
      "826:\tlearn: 0.0705753\ttotal: 773ms\tremaining: 162ms\n",
      "827:\tlearn: 0.0705116\ttotal: 774ms\tremaining: 161ms\n",
      "828:\tlearn: 0.0703955\ttotal: 775ms\tremaining: 160ms\n",
      "829:\tlearn: 0.0703176\ttotal: 776ms\tremaining: 159ms\n",
      "830:\tlearn: 0.0702173\ttotal: 776ms\tremaining: 158ms\n",
      "831:\tlearn: 0.0701234\ttotal: 777ms\tremaining: 157ms\n",
      "832:\tlearn: 0.0700531\ttotal: 778ms\tremaining: 156ms\n",
      "833:\tlearn: 0.0699403\ttotal: 779ms\tremaining: 155ms\n",
      "834:\tlearn: 0.0698097\ttotal: 780ms\tremaining: 154ms\n",
      "835:\tlearn: 0.0696634\ttotal: 781ms\tremaining: 153ms\n",
      "836:\tlearn: 0.0695793\ttotal: 782ms\tremaining: 152ms\n",
      "837:\tlearn: 0.0695365\ttotal: 783ms\tremaining: 151ms\n",
      "838:\tlearn: 0.0694490\ttotal: 784ms\tremaining: 150ms\n",
      "839:\tlearn: 0.0693274\ttotal: 785ms\tremaining: 149ms\n",
      "840:\tlearn: 0.0692031\ttotal: 786ms\tremaining: 149ms\n",
      "841:\tlearn: 0.0691080\ttotal: 787ms\tremaining: 148ms\n",
      "842:\tlearn: 0.0690682\ttotal: 788ms\tremaining: 147ms\n",
      "843:\tlearn: 0.0689696\ttotal: 788ms\tremaining: 146ms\n",
      "844:\tlearn: 0.0689137\ttotal: 789ms\tremaining: 145ms\n",
      "845:\tlearn: 0.0688132\ttotal: 790ms\tremaining: 144ms\n",
      "846:\tlearn: 0.0686463\ttotal: 791ms\tremaining: 143ms\n",
      "847:\tlearn: 0.0685488\ttotal: 792ms\tremaining: 142ms\n",
      "848:\tlearn: 0.0684381\ttotal: 792ms\tremaining: 141ms\n",
      "849:\tlearn: 0.0683292\ttotal: 793ms\tremaining: 140ms\n",
      "850:\tlearn: 0.0682224\ttotal: 794ms\tremaining: 139ms\n",
      "851:\tlearn: 0.0681286\ttotal: 795ms\tremaining: 138ms\n",
      "852:\tlearn: 0.0680380\ttotal: 796ms\tremaining: 137ms\n",
      "853:\tlearn: 0.0679753\ttotal: 797ms\tremaining: 136ms\n",
      "854:\tlearn: 0.0679001\ttotal: 797ms\tremaining: 135ms\n",
      "855:\tlearn: 0.0678131\ttotal: 798ms\tremaining: 134ms\n",
      "856:\tlearn: 0.0677241\ttotal: 799ms\tremaining: 133ms\n",
      "857:\tlearn: 0.0676261\ttotal: 800ms\tremaining: 132ms\n",
      "858:\tlearn: 0.0675153\ttotal: 801ms\tremaining: 131ms\n",
      "859:\tlearn: 0.0674025\ttotal: 802ms\tremaining: 130ms\n",
      "860:\tlearn: 0.0672461\ttotal: 802ms\tremaining: 130ms\n",
      "861:\tlearn: 0.0671738\ttotal: 803ms\tremaining: 129ms\n",
      "862:\tlearn: 0.0670622\ttotal: 804ms\tremaining: 128ms\n",
      "863:\tlearn: 0.0669617\ttotal: 805ms\tremaining: 127ms\n",
      "864:\tlearn: 0.0668388\ttotal: 806ms\tremaining: 126ms\n",
      "865:\tlearn: 0.0667269\ttotal: 807ms\tremaining: 125ms\n",
      "866:\tlearn: 0.0666373\ttotal: 807ms\tremaining: 124ms\n",
      "867:\tlearn: 0.0665361\ttotal: 808ms\tremaining: 123ms\n",
      "868:\tlearn: 0.0664556\ttotal: 809ms\tremaining: 122ms\n",
      "869:\tlearn: 0.0663661\ttotal: 811ms\tremaining: 121ms\n",
      "870:\tlearn: 0.0662816\ttotal: 812ms\tremaining: 120ms\n",
      "871:\tlearn: 0.0661713\ttotal: 812ms\tremaining: 119ms\n",
      "872:\tlearn: 0.0660946\ttotal: 813ms\tremaining: 118ms\n",
      "873:\tlearn: 0.0659699\ttotal: 814ms\tremaining: 117ms\n",
      "874:\tlearn: 0.0658435\ttotal: 815ms\tremaining: 116ms\n",
      "875:\tlearn: 0.0657956\ttotal: 816ms\tremaining: 116ms\n",
      "876:\tlearn: 0.0657397\ttotal: 817ms\tremaining: 115ms\n",
      "877:\tlearn: 0.0656351\ttotal: 818ms\tremaining: 114ms\n",
      "878:\tlearn: 0.0655162\ttotal: 818ms\tremaining: 113ms\n",
      "879:\tlearn: 0.0654786\ttotal: 819ms\tremaining: 112ms\n",
      "880:\tlearn: 0.0654283\ttotal: 820ms\tremaining: 111ms\n",
      "881:\tlearn: 0.0653694\ttotal: 821ms\tremaining: 110ms\n",
      "882:\tlearn: 0.0653035\ttotal: 822ms\tremaining: 109ms\n",
      "883:\tlearn: 0.0651606\ttotal: 823ms\tremaining: 108ms\n",
      "884:\tlearn: 0.0650656\ttotal: 824ms\tremaining: 107ms\n",
      "885:\tlearn: 0.0649743\ttotal: 824ms\tremaining: 106ms\n",
      "886:\tlearn: 0.0649003\ttotal: 825ms\tremaining: 105ms\n",
      "887:\tlearn: 0.0647977\ttotal: 826ms\tremaining: 104ms\n",
      "888:\tlearn: 0.0646798\ttotal: 827ms\tremaining: 103ms\n",
      "889:\tlearn: 0.0646205\ttotal: 828ms\tremaining: 102ms\n",
      "890:\tlearn: 0.0645558\ttotal: 829ms\tremaining: 101ms\n",
      "891:\tlearn: 0.0645370\ttotal: 829ms\tremaining: 100ms\n",
      "892:\tlearn: 0.0644965\ttotal: 830ms\tremaining: 99.4ms\n",
      "893:\tlearn: 0.0644669\ttotal: 831ms\tremaining: 98.5ms\n",
      "894:\tlearn: 0.0643539\ttotal: 831ms\tremaining: 97.5ms\n",
      "895:\tlearn: 0.0642298\ttotal: 832ms\tremaining: 96.6ms\n",
      "896:\tlearn: 0.0641314\ttotal: 833ms\tremaining: 95.7ms\n",
      "897:\tlearn: 0.0640360\ttotal: 834ms\tremaining: 94.7ms\n",
      "898:\tlearn: 0.0639670\ttotal: 835ms\tremaining: 93.8ms\n",
      "899:\tlearn: 0.0638851\ttotal: 836ms\tremaining: 92.9ms\n",
      "900:\tlearn: 0.0637522\ttotal: 837ms\tremaining: 91.9ms\n",
      "901:\tlearn: 0.0636713\ttotal: 838ms\tremaining: 91ms\n",
      "902:\tlearn: 0.0635445\ttotal: 838ms\tremaining: 90.1ms\n",
      "903:\tlearn: 0.0634797\ttotal: 839ms\tremaining: 89.1ms\n",
      "904:\tlearn: 0.0633602\ttotal: 840ms\tremaining: 88.2ms\n",
      "905:\tlearn: 0.0632429\ttotal: 841ms\tremaining: 87.2ms\n",
      "906:\tlearn: 0.0631656\ttotal: 842ms\tremaining: 86.3ms\n",
      "907:\tlearn: 0.0631087\ttotal: 842ms\tremaining: 85.3ms\n",
      "908:\tlearn: 0.0630344\ttotal: 843ms\tremaining: 84.4ms\n",
      "909:\tlearn: 0.0629771\ttotal: 844ms\tremaining: 83.5ms\n",
      "910:\tlearn: 0.0629117\ttotal: 845ms\tremaining: 82.5ms\n",
      "911:\tlearn: 0.0628764\ttotal: 846ms\tremaining: 81.6ms\n",
      "912:\tlearn: 0.0627316\ttotal: 847ms\tremaining: 80.7ms\n",
      "913:\tlearn: 0.0626280\ttotal: 848ms\tremaining: 79.7ms\n",
      "914:\tlearn: 0.0625195\ttotal: 848ms\tremaining: 78.8ms\n",
      "915:\tlearn: 0.0624494\ttotal: 849ms\tremaining: 77.9ms\n",
      "916:\tlearn: 0.0623694\ttotal: 850ms\tremaining: 77ms\n",
      "917:\tlearn: 0.0622770\ttotal: 851ms\tremaining: 76ms\n",
      "918:\tlearn: 0.0621893\ttotal: 852ms\tremaining: 75.1ms\n",
      "919:\tlearn: 0.0621341\ttotal: 853ms\tremaining: 74.1ms\n",
      "920:\tlearn: 0.0620546\ttotal: 854ms\tremaining: 73.2ms\n",
      "921:\tlearn: 0.0619587\ttotal: 854ms\tremaining: 72.3ms\n",
      "922:\tlearn: 0.0618570\ttotal: 855ms\tremaining: 71.3ms\n",
      "923:\tlearn: 0.0617864\ttotal: 856ms\tremaining: 70.4ms\n",
      "924:\tlearn: 0.0617081\ttotal: 857ms\tremaining: 69.5ms\n",
      "925:\tlearn: 0.0615977\ttotal: 858ms\tremaining: 68.5ms\n",
      "926:\tlearn: 0.0615405\ttotal: 859ms\tremaining: 67.6ms\n",
      "927:\tlearn: 0.0614888\ttotal: 859ms\tremaining: 66.7ms\n",
      "928:\tlearn: 0.0614063\ttotal: 860ms\tremaining: 65.8ms\n",
      "929:\tlearn: 0.0613554\ttotal: 861ms\tremaining: 64.8ms\n",
      "930:\tlearn: 0.0612956\ttotal: 862ms\tremaining: 63.9ms\n",
      "931:\tlearn: 0.0612208\ttotal: 863ms\tremaining: 63ms\n",
      "932:\tlearn: 0.0611212\ttotal: 864ms\tremaining: 62ms\n",
      "933:\tlearn: 0.0610327\ttotal: 864ms\tremaining: 61.1ms\n",
      "934:\tlearn: 0.0609999\ttotal: 865ms\tremaining: 60.1ms\n"
     ]
    },
    {
     "name": "stdout",
     "output_type": "stream",
     "text": [
      "935:\tlearn: 0.0609485\ttotal: 866ms\tremaining: 59.2ms\n",
      "936:\tlearn: 0.0608388\ttotal: 867ms\tremaining: 58.3ms\n",
      "937:\tlearn: 0.0607429\ttotal: 868ms\tremaining: 57.4ms\n",
      "938:\tlearn: 0.0606913\ttotal: 869ms\tremaining: 56.4ms\n",
      "939:\tlearn: 0.0605818\ttotal: 870ms\tremaining: 55.5ms\n",
      "940:\tlearn: 0.0604894\ttotal: 870ms\tremaining: 54.6ms\n",
      "941:\tlearn: 0.0603342\ttotal: 872ms\tremaining: 53.7ms\n",
      "942:\tlearn: 0.0602227\ttotal: 873ms\tremaining: 52.8ms\n",
      "943:\tlearn: 0.0601460\ttotal: 874ms\tremaining: 51.8ms\n",
      "944:\tlearn: 0.0600191\ttotal: 874ms\tremaining: 50.9ms\n",
      "945:\tlearn: 0.0599818\ttotal: 875ms\tremaining: 49.9ms\n",
      "946:\tlearn: 0.0598477\ttotal: 876ms\tremaining: 49ms\n",
      "947:\tlearn: 0.0597750\ttotal: 877ms\tremaining: 48.1ms\n",
      "948:\tlearn: 0.0596965\ttotal: 877ms\tremaining: 47.2ms\n",
      "949:\tlearn: 0.0595799\ttotal: 879ms\tremaining: 46.2ms\n",
      "950:\tlearn: 0.0594859\ttotal: 880ms\tremaining: 45.3ms\n",
      "951:\tlearn: 0.0594052\ttotal: 881ms\tremaining: 44.4ms\n",
      "952:\tlearn: 0.0593312\ttotal: 882ms\tremaining: 43.5ms\n",
      "953:\tlearn: 0.0592669\ttotal: 884ms\tremaining: 42.6ms\n",
      "954:\tlearn: 0.0591563\ttotal: 886ms\tremaining: 41.7ms\n",
      "955:\tlearn: 0.0590774\ttotal: 887ms\tremaining: 40.8ms\n",
      "956:\tlearn: 0.0589808\ttotal: 888ms\tremaining: 39.9ms\n",
      "957:\tlearn: 0.0588884\ttotal: 889ms\tremaining: 39ms\n",
      "958:\tlearn: 0.0587672\ttotal: 890ms\tremaining: 38ms\n",
      "959:\tlearn: 0.0587085\ttotal: 891ms\tremaining: 37.1ms\n",
      "960:\tlearn: 0.0586740\ttotal: 892ms\tremaining: 36.2ms\n",
      "961:\tlearn: 0.0585549\ttotal: 892ms\tremaining: 35.3ms\n",
      "962:\tlearn: 0.0584920\ttotal: 893ms\tremaining: 34.3ms\n",
      "963:\tlearn: 0.0583858\ttotal: 894ms\tremaining: 33.4ms\n",
      "964:\tlearn: 0.0583026\ttotal: 895ms\tremaining: 32.5ms\n",
      "965:\tlearn: 0.0582213\ttotal: 896ms\tremaining: 31.5ms\n",
      "966:\tlearn: 0.0580801\ttotal: 897ms\tremaining: 30.6ms\n",
      "967:\tlearn: 0.0580305\ttotal: 897ms\tremaining: 29.7ms\n",
      "968:\tlearn: 0.0579712\ttotal: 898ms\tremaining: 28.7ms\n",
      "969:\tlearn: 0.0579029\ttotal: 899ms\tremaining: 27.8ms\n",
      "970:\tlearn: 0.0577871\ttotal: 900ms\tremaining: 26.9ms\n",
      "971:\tlearn: 0.0576809\ttotal: 900ms\tremaining: 25.9ms\n",
      "972:\tlearn: 0.0576038\ttotal: 901ms\tremaining: 25ms\n",
      "973:\tlearn: 0.0575083\ttotal: 902ms\tremaining: 24.1ms\n",
      "974:\tlearn: 0.0574685\ttotal: 903ms\tremaining: 23.2ms\n",
      "975:\tlearn: 0.0573644\ttotal: 904ms\tremaining: 22.2ms\n",
      "976:\tlearn: 0.0572702\ttotal: 905ms\tremaining: 21.3ms\n",
      "977:\tlearn: 0.0572282\ttotal: 906ms\tremaining: 20.4ms\n",
      "978:\tlearn: 0.0571327\ttotal: 907ms\tremaining: 19.4ms\n",
      "979:\tlearn: 0.0570318\ttotal: 908ms\tremaining: 18.5ms\n",
      "980:\tlearn: 0.0568967\ttotal: 908ms\tremaining: 17.6ms\n",
      "981:\tlearn: 0.0568064\ttotal: 909ms\tremaining: 16.7ms\n",
      "982:\tlearn: 0.0566592\ttotal: 910ms\tremaining: 15.7ms\n",
      "983:\tlearn: 0.0566544\ttotal: 911ms\tremaining: 14.8ms\n",
      "984:\tlearn: 0.0566383\ttotal: 912ms\tremaining: 13.9ms\n",
      "985:\tlearn: 0.0565864\ttotal: 912ms\tremaining: 13ms\n",
      "986:\tlearn: 0.0565219\ttotal: 913ms\tremaining: 12ms\n",
      "987:\tlearn: 0.0564852\ttotal: 914ms\tremaining: 11.1ms\n",
      "988:\tlearn: 0.0563326\ttotal: 915ms\tremaining: 10.2ms\n",
      "989:\tlearn: 0.0562640\ttotal: 916ms\tremaining: 9.25ms\n",
      "990:\tlearn: 0.0562066\ttotal: 917ms\tremaining: 8.32ms\n",
      "991:\tlearn: 0.0560549\ttotal: 918ms\tremaining: 7.4ms\n",
      "992:\tlearn: 0.0559819\ttotal: 918ms\tremaining: 6.47ms\n",
      "993:\tlearn: 0.0559498\ttotal: 919ms\tremaining: 5.55ms\n",
      "994:\tlearn: 0.0558627\ttotal: 920ms\tremaining: 4.62ms\n",
      "995:\tlearn: 0.0558579\ttotal: 921ms\tremaining: 3.7ms\n",
      "996:\tlearn: 0.0558519\ttotal: 921ms\tremaining: 2.77ms\n",
      "997:\tlearn: 0.0558096\ttotal: 922ms\tremaining: 1.85ms\n",
      "998:\tlearn: 0.0557605\ttotal: 923ms\tremaining: 924us\n",
      "999:\tlearn: 0.0557049\ttotal: 924ms\tremaining: 0us\n"
     ]
    },
    {
     "data": {
      "text/plain": [
       "<catboost.core.CatBoostRegressor at 0x7fa380e684c0>"
      ]
     },
     "execution_count": 9,
     "metadata": {},
     "output_type": "execute_result"
    }
   ],
   "source": [
    "#Train the Model \n",
    "prior_model = ctb.CatBoostRegressor()\n",
    "prior_model.fit(X_train,Y_train)"
   ]
  },
  {
   "cell_type": "code",
   "execution_count": 10,
   "id": "af65dcda",
   "metadata": {
    "execution": {
     "iopub.execute_input": "2022-06-12T08:15:18.755568Z",
     "iopub.status.busy": "2022-06-12T08:15:18.755176Z",
     "iopub.status.idle": "2022-06-12T08:15:18.762682Z",
     "shell.execute_reply": "2022-06-12T08:15:18.762971Z"
    },
    "id": "af65dcda",
    "papermill": {
     "duration": 0.020867,
     "end_time": "2022-06-12T08:15:18.763085",
     "exception": false,
     "start_time": "2022-06-12T08:15:18.742218",
     "status": "completed"
    },
    "tags": []
   },
   "outputs": [
    {
     "data": {
      "application/scrapbook.scrap.json+json": {
       "data": 0.11037009094815382,
       "encoder": "json",
       "name": "Prior Model MSE",
       "version": 1
      }
     },
     "metadata": {
      "scrapbook": {
       "data": true,
       "display": false,
       "name": "Prior Model MSE"
      }
     },
     "output_type": "display_data"
    },
    {
     "data": {
      "application/scrapbook.scrap.json+json": {
       "data": 0.10888010933578572,
       "encoder": "json",
       "name": "ABC Pre-generator MSE",
       "version": 1
      }
     },
     "metadata": {
      "scrapbook": {
       "data": true,
       "display": false,
       "name": "ABC Pre-generator MSE"
      }
     },
     "output_type": "display_data"
    },
    {
     "data": {
      "application/scrapbook.scrap.json+json": {
       "data": 0.22652194607157283,
       "encoder": "json",
       "name": "Prior Model MSE",
       "version": 1
      }
     },
     "metadata": {
      "scrapbook": {
       "data": true,
       "display": false,
       "name": "Prior Model MSE"
      }
     },
     "output_type": "display_data"
    },
    {
     "data": {
      "application/scrapbook.scrap.json+json": {
       "data": 0.2253619089238485,
       "encoder": "json",
       "name": "ABC Pre-generator MSE",
       "version": 1
      }
     },
     "metadata": {
      "scrapbook": {
       "data": true,
       "display": false,
       "name": "ABC Pre-generator MSE"
      }
     },
     "output_type": "display_data"
    }
   ],
   "source": [
    "y_pred = prior_model.predict(X_test)\n",
    "y_abc = y_pred + np.random.normal(0,variance, y_pred.shape) + bias \n",
    "mse = mean_squared_error(y_pred,Y_test)\n",
    "sb.glue(\"Prior Model MSE\",mse)\n",
    "mse = mean_squared_error(y_abc,Y_test)\n",
    "sb.glue(\"ABC Pre-generator MSE\",mse)\n",
    "mae = mean_absolute_error(y_pred,Y_test)\n",
    "sb.glue(\"Prior Model MSE\",mae)\n",
    "mae = mean_absolute_error(y_abc,Y_test)\n",
    "sb.glue(\"ABC Pre-generator MSE\",mae)"
   ]
  },
  {
   "cell_type": "markdown",
   "id": "25609da2",
   "metadata": {
    "papermill": {
     "duration": 0.009792,
     "end_time": "2022-06-12T08:15:18.783110",
     "exception": false,
     "start_time": "2022-06-12T08:15:18.773318",
     "status": "completed"
    },
    "tags": []
   },
   "source": [
    "# ABC GAN Model"
   ]
  },
  {
   "cell_type": "code",
   "execution_count": 11,
   "id": "dfc3464d",
   "metadata": {
    "execution": {
     "iopub.execute_input": "2022-06-12T08:15:18.805569Z",
     "iopub.status.busy": "2022-06-12T08:15:18.805207Z",
     "iopub.status.idle": "2022-06-12T08:15:18.807870Z",
     "shell.execute_reply": "2022-06-12T08:15:18.808111Z"
    },
    "papermill": {
     "duration": 0.0153,
     "end_time": "2022-06-12T08:15:18.808221",
     "exception": false,
     "start_time": "2022-06-12T08:15:18.792921",
     "status": "completed"
    },
    "tags": []
   },
   "outputs": [],
   "source": [
    "gen = network.Generator(n_features+1).to(device)\n",
    "disc = network.Discriminator(n_features+1).to(device)\n",
    "\n",
    "criterion = torch.nn.BCELoss()\n",
    "gen_opt = torch.optim.Adam(gen.parameters(), lr=0.001, betas=(0.5, 0.999))\n",
    "disc_opt = torch.optim.Adam(disc.parameters(), lr=0.001, betas=(0.5, 0.999))"
   ]
  },
  {
   "cell_type": "code",
   "execution_count": 12,
   "id": "b75fdd85",
   "metadata": {
    "execution": {
     "iopub.execute_input": "2022-06-12T08:15:18.834589Z",
     "iopub.status.busy": "2022-06-12T08:15:18.834089Z",
     "iopub.status.idle": "2022-06-12T08:16:19.573174Z",
     "shell.execute_reply": "2022-06-12T08:16:19.573533Z"
    },
    "papermill": {
     "duration": 60.755418,
     "end_time": "2022-06-12T08:16:19.573656",
     "exception": false,
     "start_time": "2022-06-12T08:15:18.818238",
     "status": "completed"
    },
    "tags": []
   },
   "outputs": [
    {
     "data": {
      "image/png": "[encoded data removed]",
      "text/plain": [
       "<Figure size 432x288 with 1 Axes>"
      ]
     },
     "metadata": {
      "needs_background": "light"
     },
     "output_type": "display_data"
    },
    {
     "data": {
      "image/png": "[encoded data removed]",
      "text/plain": [
       "<Figure size 432x288 with 1 Axes>"
      ]
     },
     "metadata": {
      "needs_background": "light"
     },
     "output_type": "display_data"
    }
   ],
   "source": [
    "#Training the ABC_GAN \n",
    "ABC_train_test2.training_GAN(disc,gen,disc_opt,gen_opt,train_data,batch_size,n_epochs,criterion,prior_model,variance,bias,device)"
   ]
  },
  {
   "cell_type": "code",
   "execution_count": 13,
   "id": "1fa7c368",
   "metadata": {
    "execution": {
     "iopub.execute_input": "2022-06-12T08:16:19.597927Z",
     "iopub.status.busy": "2022-06-12T08:16:19.597530Z",
     "iopub.status.idle": "2022-06-12T08:16:19.901783Z",
     "shell.execute_reply": "2022-06-12T08:16:19.902116Z"
    },
    "papermill": {
     "duration": 0.317702,
     "end_time": "2022-06-12T08:16:19.902241",
     "exception": false,
     "start_time": "2022-06-12T08:16:19.584539",
     "status": "completed"
    },
    "tags": []
   },
   "outputs": [
    {
     "data": {
      "application/scrapbook.scrap.json+json": {
       "data": 0.11687708946442574,
       "encoder": "json",
       "name": "ABC-GAN Model 1 MSE",
       "version": 1
      }
     },
     "metadata": {
      "scrapbook": {
       "data": true,
       "display": false,
       "name": "ABC-GAN Model 1 MSE"
      }
     },
     "output_type": "display_data"
    },
    {
     "data": {
      "application/scrapbook.scrap.json+json": {
       "data": 0.24039261438737752,
       "encoder": "json",
       "name": "ABC-GAN Model 1 MAE",
       "version": 1
      }
     },
     "metadata": {
      "scrapbook": {
       "data": true,
       "display": false,
       "name": "ABC-GAN Model 1 MAE"
      }
     },
     "output_type": "display_data"
    },
    {
     "data": {
      "application/scrapbook.scrap.json+json": {
       "data": 24.520046667512506,
       "encoder": "json",
       "name": "ABC-GAN Model 1 Manhattan Distance",
       "version": 1
      }
     },
     "metadata": {
      "scrapbook": {
       "data": true,
       "display": false,
       "name": "ABC-GAN Model 1 Manhattan Distance"
      }
     },
     "output_type": "display_data"
    },
    {
     "data": {
      "application/scrapbook.scrap.json+json": {
       "data": 3.4527301042838126,
       "encoder": "json",
       "name": "ABC-GAN Model 1 Euclidean distance",
       "version": 1
      }
     },
     "metadata": {
      "scrapbook": {
       "data": true,
       "display": false,
       "name": "ABC-GAN Model 1 Euclidean distance"
      }
     },
     "output_type": "display_data"
    },
    {
     "data": {
      "application/scrapbook.scrap.json+json": {
       "data": [
        [
         0.11677920259376992,
         0.11571941074060994,
         0.11751650569636639,
         0.11674540784837692,
         0.11537514020534649,
         0.11697082760250513,
         0.1170485315042168,
         0.11710375094356121,
         0.11797995277355959,
         0.11630410253889005,
         0.11655579137577327,
         0.11785088427424015,
         0.11716892860323462,
         0.1177527813091858,
         0.11661344549509473,
         0.11781482069537759,
         0.11752308102951602,
         0.11696568782722334,
         0.11740442932752433,
         0.11752207164737839,
         0.11781302606754937,
         0.11546936005761499,
         0.11646809783936811,
         0.11673395379102665,
         0.11687733226221701,
         0.11665004953065668,
         0.1161701737727198,
         0.11616150432472214,
         0.11654983385434745,
         0.11751063604950149,
         0.1180537672307972,
         0.11710761139821046,
         0.11694952359145383,
         0.11917138563346084,
         0.11716958827107382,
         0.11702284421500697,
         0.11669764922122675,
         0.11687356860824184,
         0.11492232307341235,
         0.11631091744747263,
         0.11844903250132474,
         0.11695268313568673,
         0.11601437060085025,
         0.11713362264710134,
         0.11693897991091895,
         0.11680251726677866,
         0.11653168938963825,
         0.11497884899043505,
         0.11636314448156554,
         0.11719362725665652,
         0.1161036680246616,
         0.1170506223906204,
         0.11643187336547216,
         0.11781294430472404,
         0.11720332532218493,
         0.11730433962492967,
         0.11607937475934349,
         0.11707165274717234,
         0.11589510057251941,
         0.11641537984349651,
         0.11665697011126878,
         0.11713089971267487,
         0.11678905279904249,
         0.11736510343014554,
         0.11693797258864981,
         0.11740301903566346,
         0.11750174118271794,
         0.11625628137833571,
         0.11725224198816282,
         0.11734416078890471,
         0.11650875674859688,
         0.11758683641109016,
         0.11797686862016793,
         0.11690902630532855,
         0.11869596807456012,
         0.1160028243377964,
         0.11654013479685628,
         0.11606474717933846,
         0.11573167288861204,
         0.1167933409488085,
         0.1166436748636321,
         0.116904422334708,
         0.11719516576879022,
         0.11593496037172012,
         0.11760095736970169,
         0.11681206417148875,
         0.11647575173733286,
         0.11575656429042977,
         0.11537911097479704,
         0.1167715326088751,
         0.11732236991706009,
         0.1174230454942769,
         0.11695134599101613,
         0.1176727129281763,
         0.11679431923405222,
         0.116705458213215,
         0.11701827181698646,
         0.11689071209635092,
         0.11611858410404866,
         0.11776560542128263
        ],
        [
         0.23948140615853025,
         0.23942242873211703,
         0.24049537851676053,
         0.24183281078277266,
         0.23763132254209587,
         0.24011603388570102,
         0.240370872320936,
         0.24018324895159288,
         0.24170511451495044,
         0.24032194779126667,
         0.24042546318150035,
         0.24233101892705058,
         0.2398507378484104,
         0.24034344572939126,
         0.2400889393015235,
         0.24199055211947246,
         0.23981757014624627,
         0.24035571385905438,
         0.24147377301957093,
         0.2402777222222557,
         0.24174181866806513,
         0.23851985537319206,
         0.24079010359869868,
         0.24050794233221048,
         0.24014979184550397,
         0.2394057289313744,
         0.2397868551642579,
         0.2384115440551849,
         0.24042226750330598,
         0.24003035754111468,
         0.24236703284230887,
         0.24051912643891923,
         0.23950916022865795,
         0.2432905557729742,
         0.24163750347261334,
         0.23952959059719361,
         0.2407060363238641,
         0.2405665456956508,
         0.23615185916423798,
         0.23937872205586994,
         0.2425037140538003,
         0.24136405734016614,
         0.23899055000248492,
         0.24104624710904032,
         0.24108434603640846,
         0.24003501503052665,
         0.24124077263781252,
         0.23831449259145587,
         0.2417445123999142,
         0.2406869907041683,
         0.23902786681976387,
         0.23985433335616893,
         0.23907152966906628,
         0.24089150987200292,
         0.24032114141200686,
         0.23995183033905193,
         0.24025930035128898,
         0.24279116999869252,
         0.2382960341067291,
         0.23878367659727148,
         0.24062531682498314,
         0.23911167189990187,
         0.24223417310299827,
         0.240990458001547,
         0.2393635235288564,
         0.2416031543055878,
         0.24175161141536983,
         0.23937467797933257,
         0.24189559461585447,
         0.24224946487183666,
         0.24012880282951335,
         0.24146778711720424,
         0.24191683808378145,
         0.24080336709305936,
         0.2421937670887393,
         0.24055372240642706,
         0.23942298955265798,
         0.23993683124289794,
         0.23952529084521765,
         0.2398541745930618,
         0.24210245010680428,
         0.24008335328350464,
         0.24006801617203974,
         0.23931612494383372,
         0.24178988181565905,
         0.2400298343934849,
         0.24025489861036048,
         0.2397503210414274,
         0.2392745914814227,
         0.2395549931873878,
         0.24066098684481546,
         0.24118079203089662,
         0.23984565226105498,
         0.24199392263065367,
         0.24014046001156755,
         0.23866547669704055,
         0.23990346100546567,
         0.24004272587013012,
         0.2398896025238084,
         0.24151368784334729
        ],
        [
         24.427103428170085,
         24.421087730675936,
         24.530528608709574,
         24.66694669984281,
         24.23839489929378,
         24.491835456341505,
         24.517828976735473,
         24.498691393062472,
         24.653921680524945,
         24.5128386747092,
         24.523397244513035,
         24.71776393055916,
         24.464775260537863,
         24.515031464397907,
         24.489071808755398,
         24.68303631618619,
         24.46139215491712,
         24.516282813623548,
         24.630324847996235,
         24.508327666670084,
         24.657665504142642,
         24.32902524806559,
         24.560590567067266,
         24.53181011788547,
         24.495278768241405,
         24.41938435100019,
         24.458259226754308,
         24.31797749362886,
         24.52307128533721,
         24.483096469193697,
         24.721437349915504,
         24.532950896769762,
         24.42993434332311,
         24.81563668884337,
         24.647025354206562,
         24.43201824091375,
         24.552015705034137,
         24.537787660956383,
         24.087489634752274,
         24.416629649698734,
         24.73537883348763,
         24.619133848696947,
         24.377036100253463,
         24.586717205122113,
         24.590603295713663,
         24.483571533113718,
         24.606558809056878,
         24.3080782443285,
         24.65794026479125,
         24.550073051825166,
         24.380842415615916,
         24.46514200232923,
         24.38529602624476,
         24.5709340069443,
         24.5127564240247,
         24.475086694583297,
         24.506448635831475,
         24.764699339866638,
         24.306195478886366,
         24.35593501292169,
         24.54378231614828,
         24.389390533789992,
         24.707885656505823,
         24.581026716157794,
         24.41507939994335,
         24.643521739169955,
         24.658664364367723,
         24.41621715389192,
         24.673350650817156,
         24.709445416927338,
         24.493137888610363,
         24.629714285954833,
         24.675517484545708,
         24.561943443492055,
         24.70376424305141,
         24.53647968545556,
         24.421144934371114,
         24.47355678677559,
         24.4315796662122,
         24.465125808492303,
         24.694449910894036,
         24.488502034917474,
         24.486937649548054,
         24.41024474427104,
         24.662567945197225,
         24.483043108135462,
         24.50599965825677,
         24.454532746225595,
         24.406008331105113,
         24.434609305113554,
         24.547420658171177,
         24.600440787151456,
         24.46425653062761,
         24.683380108326674,
         24.49432692117989,
         24.343878623098135,
         24.470153022557497,
         24.48435803875327,
         24.468739457428455,
         24.634396160021424
        ],
        [
         3.451301010425565,
         3.4356047350564363,
         3.462179022094231,
         3.450801588114629,
         3.4304903878229034,
         3.454131499444617,
         3.4552786014198786,
         3.456093545644163,
         3.468999161559869,
         3.444273284593831,
         3.447998074293092,
         3.4671011228362647,
         3.457055208921305,
         3.4656577577044367,
         3.4488507419863303,
         3.4665705980015047,
         3.4622758793906985,
         3.454055610203283,
         3.4605276752841436,
         3.4622610109627194,
         3.466544195432972,
         3.4318908382809505,
         3.446700738331593,
         3.450632302446135,
         3.452750771594459,
         3.449391982962646,
         3.4422896050183542,
         3.4421611585051703,
         3.447909954326452,
         3.462092557550873,
         3.4700841859443856,
         3.4561505121475045,
         3.453816932949441,
         3.4864711865456455,
         3.4570649406179115,
         3.454899435574168,
         3.4500956828130325,
         3.4526951788480633,
         3.423751882582623,
         3.4443741927441915,
         3.4758885648327564,
         3.4538635873236285,
         3.439980494317769,
         3.4565343206750216,
         3.4536612385863394,
         3.4516455149988126,
         3.447641558767833,
         3.4245937856955195,
         3.445147418779011,
         3.4574195551276334,
         3.441304133394123,
         3.45530946281853,
         3.446164691839053,
         3.4665429925333173,
         3.457562607222443,
         3.459052275080968,
         3.440944089265769,
         3.45561985470213,
         3.4382117820746547,
         3.445920594563467,
         3.449494303713142,
         3.4564941444609505,
         3.451446564196284,
         3.459948055950384,
         3.4536463634892143,
         3.4605068908525047,
         3.4619615250082187,
         3.4435651149049344,
         3.458284066237561,
         3.459639345433029,
         3.44730230591355,
         3.4632148812817247,
         3.4689538191300735,
         3.453218887233114,
         3.4795098424354443,
         3.4398093090250264,
         3.4477664870578657,
         3.4407272795576986,
         3.435786756281364,
         3.451509927086761,
         3.449297730856307,
         3.4531508913078515,
         3.4574422494694836,
         3.4388029832945417,
         3.463422823120152,
         3.451786572992578,
         3.446813989354219,
         3.436156218454544,
         3.4305494194704864,
         3.4511876689199696,
         3.4593181021033796,
         3.4608020227132665,
         3.453843842892095,
         3.464479285357899,
         3.451524382337943,
         3.4502111149533903,
         3.4548319387971125,
         3.452948397214733,
         3.4415251820396375,
         3.4658464699075786
        ]
       ],
       "encoder": "json",
       "name": "ABC_GAN_1 Metrics",
       "version": 1
      }
     },
     "metadata": {
      "scrapbook": {
       "data": true,
       "display": false,
       "name": "ABC_GAN_1 Metrics"
      }
     },
     "output_type": "display_data"
    },
    {
     "name": "stdout",
     "output_type": "stream",
     "text": [
      "MSE\n",
      "0.11687708946442574\n"
     ]
    }
   ],
   "source": [
    "ABC_GAN1_metrics=ABC_train_test2.test_generator(gen,test_data,prior_model,variance,bias,\"1\",device)\n",
    "sb.glue(\"ABC_GAN_1 Metrics\",ABC_GAN1_metrics)\n",
    "\n",
    "print(\"MSE\")\n",
    "print(mean(ABC_GAN1_metrics[0]))"
   ]
  },
  {
   "cell_type": "code",
   "execution_count": 14,
   "id": "eb22ce5c",
   "metadata": {
    "execution": {
     "iopub.execute_input": "2022-06-12T08:16:19.929568Z",
     "iopub.status.busy": "2022-06-12T08:16:19.929157Z",
     "iopub.status.idle": "2022-06-12T08:16:20.254023Z",
     "shell.execute_reply": "2022-06-12T08:16:20.254391Z"
    },
    "papermill": {
     "duration": 0.339619,
     "end_time": "2022-06-12T08:16:20.254515",
     "exception": false,
     "start_time": "2022-06-12T08:16:19.914896",
     "status": "completed"
    },
    "tags": []
   },
   "outputs": [
    {
     "data": {
      "image/png": "[encoded data removed]",
      "text/plain": [
       "<Figure size 432x288 with 1 Axes>"
      ]
     },
     "metadata": {
      "needs_background": "light"
     },
     "output_type": "display_data"
    },
    {
     "data": {
      "image/png": "[encoded data removed]",
      "text/plain": [
       "<Figure size 432x288 with 1 Axes>"
      ]
     },
     "metadata": {
      "needs_background": "light"
     },
     "output_type": "display_data"
    },
    {
     "data": {
      "image/png": "[encoded data removed]",
      "text/plain": [
       "<Figure size 432x288 with 1 Axes>"
      ]
     },
     "metadata": {
      "needs_background": "light"
     },
     "output_type": "display_data"
    },
    {
     "data": {
      "image/png": "[encoded data removed]",
      "text/plain": [
       "<Figure size 432x288 with 1 Axes>"
      ]
     },
     "metadata": {
      "needs_background": "light"
     },
     "output_type": "display_data"
    }
   ],
   "source": [
    "sanityChecks.discProbVsError(train_data,disc,device)\n",
    "sanityChecks.discProbVsError(test_data,disc,device)"
   ]
  },
  {
   "cell_type": "markdown",
   "id": "130f3a4d",
   "metadata": {
    "id": "130f3a4d",
    "papermill": {
     "duration": 0.014672,
     "end_time": "2022-06-12T08:16:20.285026",
     "exception": false,
     "start_time": "2022-06-12T08:16:20.270354",
     "status": "completed"
    },
    "tags": []
   },
   "source": [
    "# ABC - GAN Model with skip connection"
   ]
  },
  {
   "cell_type": "code",
   "execution_count": 15,
   "id": "4e43dad1",
   "metadata": {
    "execution": {
     "iopub.execute_input": "2022-06-12T08:16:20.317272Z",
     "iopub.status.busy": "2022-06-12T08:16:20.316904Z",
     "iopub.status.idle": "2022-06-12T08:16:20.319218Z",
     "shell.execute_reply": "2022-06-12T08:16:20.319472Z"
    },
    "id": "4e43dad1",
    "papermill": {
     "duration": 0.019987,
     "end_time": "2022-06-12T08:16:20.319585",
     "exception": false,
     "start_time": "2022-06-12T08:16:20.299598",
     "status": "completed"
    },
    "tags": []
   },
   "outputs": [],
   "source": [
    "#Generator\n",
    "gen3 = network.GeneratorWithSkipConnection(n_features+1).to(device)\n",
    "constraints=network.weightConstraint()\n",
    "#Discriminator \n",
    "disc3 = network.Discriminator(n_features+1).to(device)\n",
    "\n",
    "criterion = torch.nn.BCELoss()\n",
    "gen_opt = torch.optim.Adam(gen3.parameters(), lr=0.001, betas=(0.5, 0.999))\n",
    "disc_opt = torch.optim.Adam(disc3.parameters(), lr=0.001, betas=(0.5, 0.999))\n"
   ]
  },
  {
   "cell_type": "code",
   "execution_count": 16,
   "id": "26acbc37",
   "metadata": {
    "execution": {
     "iopub.execute_input": "2022-06-12T08:16:20.351353Z",
     "iopub.status.busy": "2022-06-12T08:16:20.350980Z",
     "iopub.status.idle": "2022-06-12T08:19:18.449004Z",
     "shell.execute_reply": "2022-06-12T08:19:18.449297Z"
    },
    "id": "26acbc37",
    "papermill": {
     "duration": 178.114977,
     "end_time": "2022-06-12T08:19:18.449423",
     "exception": false,
     "start_time": "2022-06-12T08:16:20.334446",
     "status": "completed"
    },
    "tags": []
   },
   "outputs": [
    {
     "data": {
      "image/png": "[encoded data removed]",
      "text/plain": [
       "<Figure size 432x288 with 1 Axes>"
      ]
     },
     "metadata": {
      "needs_background": "light"
     },
     "output_type": "display_data"
    },
    {
     "data": {
      "image/png": "[encoded data removed]",
      "text/plain": [
       "<Figure size 432x288 with 1 Axes>"
      ]
     },
     "metadata": {
      "needs_background": "light"
     },
     "output_type": "display_data"
    }
   ],
   "source": [
    "ABC_train_test2.training_GAN_skip_connection(disc3,gen3,disc_opt,gen_opt,train_data,batch_size,n_epochs,criterion,prior_model,variance,bias,device)"
   ]
  },
  {
   "cell_type": "code",
   "execution_count": 17,
   "id": "c5e0717b",
   "metadata": {
    "execution": {
     "iopub.execute_input": "2022-06-12T08:19:18.483687Z",
     "iopub.status.busy": "2022-06-12T08:19:18.483321Z",
     "iopub.status.idle": "2022-06-12T08:19:19.319303Z",
     "shell.execute_reply": "2022-06-12T08:19:19.319713Z"
    },
    "id": "c5e0717b",
    "papermill": {
     "duration": 0.854464,
     "end_time": "2022-06-12T08:19:19.319832",
     "exception": false,
     "start_time": "2022-06-12T08:19:18.465368",
     "status": "completed"
    },
    "tags": []
   },
   "outputs": [
    {
     "data": {
      "application/scrapbook.scrap.json+json": {
       "data": 0.11820950849695898,
       "encoder": "json",
       "name": "ABC-GAN Model 3 MSE",
       "version": 1
      }
     },
     "metadata": {
      "scrapbook": {
       "data": true,
       "display": false,
       "name": "ABC-GAN Model 3 MSE"
      }
     },
     "output_type": "display_data"
    },
    {
     "data": {
      "application/scrapbook.scrap.json+json": {
       "data": 0.22884637039049766,
       "encoder": "json",
       "name": "ABC-GAN Model 3 MAE",
       "version": 1
      }
     },
     "metadata": {
      "scrapbook": {
       "data": true,
       "display": false,
       "name": "ABC-GAN Model 3 MAE"
      }
     },
     "output_type": "display_data"
    },
    {
     "data": {
      "application/scrapbook.scrap.json+json": {
       "data": 23.342329779830763,
       "encoder": "json",
       "name": "ABC-GAN Model 3 Manhattan Distance",
       "version": 1
      }
     },
     "metadata": {
      "scrapbook": {
       "data": true,
       "display": false,
       "name": "ABC-GAN Model 3 Manhattan Distance"
      }
     },
     "output_type": "display_data"
    },
    {
     "data": {
      "application/scrapbook.scrap.json+json": {
       "data": 3.4723552699365356,
       "encoder": "json",
       "name": "ABC-GAN Model 3 Euclidean distance",
       "version": 1
      }
     },
     "metadata": {
      "scrapbook": {
       "data": true,
       "display": false,
       "name": "ABC-GAN Model 3 Euclidean distance"
      }
     },
     "output_type": "display_data"
    },
    {
     "data": {
      "application/scrapbook.scrap.json+json": {
       "data": [
        [
         0.11858024233944094,
         0.11908692219558305,
         0.11722007496895917,
         0.11784637625657726,
         0.11886756147652555,
         0.11699712543240955,
         0.11941916958019544,
         0.11881289934684958,
         0.11904438477690803,
         0.11913385724274733,
         0.11913732035099209,
         0.11765313096677549,
         0.11822591280620709,
         0.1184968572045197,
         0.1180798133810664,
         0.11976771481447769,
         0.11903915433973693,
         0.1193414235308755,
         0.11845111474433798,
         0.1183318499049829,
         0.11754322757443622,
         0.1161579833341807,
         0.11748415063981249,
         0.11863146896626302,
         0.11852911451920914,
         0.11836537255922946,
         0.11815792732910761,
         0.11770918551013317,
         0.11824398595560179,
         0.11881484649400577,
         0.11832252577947788,
         0.11780559082111115,
         0.11783369952240033,
         0.11733633526400701,
         0.11804633705846285,
         0.11805395114998839,
         0.11873507508277362,
         0.11696137833542398,
         0.1196760823528194,
         0.11857838970537779,
         0.11914297987000197,
         0.11774689621272928,
         0.11852714826070994,
         0.11799208670008654,
         0.11852118045190405,
         0.11772615668860734,
         0.1184878141303278,
         0.11868565580069113,
         0.11652411861674783,
         0.11826616080076216,
         0.1187743682981474,
         0.11878137131614357,
         0.11798376686848448,
         0.11878032852798054,
         0.1194195084830225,
         0.1186145113954813,
         0.11881202389974523,
         0.11821478886544359,
         0.11773641970006536,
         0.11752053396898408,
         0.1171585067711335,
         0.1180490186414503,
         0.11842183434805936,
         0.11836238929176457,
         0.11880868799479713,
         0.11800317932916828,
         0.11921139842954458,
         0.11811079238623072,
         0.11832787134396232,
         0.1169001870800301,
         0.11670542383245362,
         0.11815513952628155,
         0.11848894262966143,
         0.11749787940208342,
         0.11876174278982332,
         0.11846651622404925,
         0.11791418145009125,
         0.11747977127941969,
         0.11704086179962851,
         0.11815283849759331,
         0.11677523896008425,
         0.11845354720665198,
         0.11781367279053172,
         0.12036096537100853,
         0.11720537120620574,
         0.11778882611810179,
         0.11802775924506845,
         0.11876750984348533,
         0.1178176255376287,
         0.11805986124641901,
         0.11724042738544031,
         0.11858915350806053,
         0.11819881204933043,
         0.11946641298039093,
         0.11784435492243851,
         0.11778354880042656,
         0.11870175584157414,
         0.11785723393152457,
         0.1173937844578936,
         0.11801047277635078
        ],
        [
         0.2284268096965902,
         0.23008522714542992,
         0.22722825521201478,
         0.22924115382792318,
         0.23085564393184932,
         0.22801002513105964,
         0.22926516491262353,
         0.22874988458466297,
         0.22976196513456457,
         0.23095918611130295,
         0.22950995315377618,
         0.22840950347702293,
         0.22932790139434384,
         0.22906686722611388,
         0.22871916859830713,
         0.22952120762099237,
         0.2291926621258551,
         0.22941537685783617,
         0.23006477000593556,
         0.2297379354599352,
         0.2307538172851006,
         0.22745036391322226,
         0.2275067042449818,
         0.22858460050295382,
         0.22845300246833586,
         0.22777269265669234,
         0.2276080887326423,
         0.22749027447300216,
         0.22878438418767616,
         0.23049331029110096,
         0.22826167739306888,
         0.22971427782128254,
         0.22884751265576364,
         0.22875780249288416,
         0.23000484538337618,
         0.22851160376825752,
         0.2292051594384818,
         0.2278005448717843,
         0.23057790257621044,
         0.2290849966617922,
         0.22875790159199752,
         0.2282098344362834,
         0.2296444616992684,
         0.22943280366998092,
         0.22943913764959456,
         0.22708297638660846,
         0.22892469162230983,
         0.22898219029108682,
         0.22526539232143583,
         0.22874285921673565,
         0.22937395343301342,
         0.22993707700687296,
         0.2288677709944108,
         0.23060933690445096,
         0.22897844953352914,
         0.22746777604790588,
         0.2296288165939497,
         0.22839773365972088,
         0.2277497752916579,
         0.2275732366879489,
         0.22812968413984658,
         0.22882125970414458,
         0.22933423249781423,
         0.2286232978507292,
         0.22957437640676895,
         0.22911902027679423,
         0.23003421097482538,
         0.22997277757773796,
         0.2293020743584516,
         0.22713902441090814,
         0.22779814400436246,
         0.2304891269361856,
         0.2283148498584827,
         0.22844578596014603,
         0.2300036807690619,
         0.22818231922300422,
         0.22917215655758685,
         0.22725654252823077,
         0.22860059022501694,
         0.2283323714281341,
         0.22853293615009854,
         0.22857801747672699,
         0.2287530198638492,
         0.2310255520027496,
         0.22786298277331332,
         0.22888576766183855,
         0.22867439774905934,
         0.228940096665539,
         0.22791611148482738,
         0.22942129942570247,
         0.22918734714096667,
         0.2278061105833188,
         0.22836434344450632,
         0.22957694999800593,
         0.22824390634310013,
         0.22791566825745738,
         0.2300940340056139,
         0.22853236627198903,
         0.22749666126408413,
         0.2279055463332756
        ],
        [
         23.2995345890522,
         23.468693168833852,
         23.17728203162551,
         23.382597690448165,
         23.54727568104863,
         23.257022563368082,
         23.3850468210876,
         23.332488227635622,
         23.435720443725586,
         23.5578369833529,
         23.41001522168517,
         23.29776935465634,
         23.391445942223072,
         23.364820457063615,
         23.329355197027326,
         23.411163177341223,
         23.37765153683722,
         23.40036843949929,
         23.466606540605426,
         23.43326941691339,
         23.536889363080263,
         23.19993711914867,
         23.205683832988143,
         23.31562925130129,
         23.302206251770258,
         23.23281465098262,
         23.216025050729513,
         23.20400799624622,
         23.336007187142968,
         23.510317649692297,
         23.282691094093025,
         23.43085633777082,
         23.342446290887892,
         23.333295854274184,
         23.46049422910437,
         23.30818358436227,
         23.378926262725145,
         23.235655576922,
         23.518946062773466,
         23.366669659502804,
         23.333305962383747,
         23.277403112500906,
         23.423735093325377,
         23.402145974338055,
         23.402792040258646,
         23.16246359143406,
         23.350318545475602,
         23.356183409690857,
         22.977070016786456,
         23.331771640107036,
         23.39614325016737,
         23.453581854701042,
         23.3445126414299,
         23.522152364253998,
         23.355801852419972,
         23.2017131568864,
         23.42213929258287,
         23.29656883329153,
         23.230477079749107,
         23.212470142170787,
         23.269227782264352,
         23.339768489822745,
         23.392091714777052,
         23.31957638077438,
         23.416586393490434,
         23.370140068233013,
         23.463489519432187,
         23.457223312929273,
         23.388811584562063,
         23.16818048991263,
         23.235410688444972,
         23.50989094749093,
         23.288114685565233,
         23.301470167934895,
         23.460375438444316,
         23.27459656074643,
         23.37555996887386,
         23.18016733787954,
         23.31726020295173,
         23.28990188566968,
         23.310359487310052,
         23.314957782626152,
         23.332808026112616,
         23.56460630428046,
         23.24202424287796,
         23.346348301507533,
         23.324788570404053,
         23.351889859884977,
         23.24744337145239,
         23.400972541421652,
         23.3771094083786,
         23.236223279498518,
         23.293163031339645,
         23.416848899796605,
         23.280878446996212,
         23.24739816226065,
         23.469591468572617,
         23.31030135974288,
         23.20465944893658,
         23.24636572599411
        ],
        [
         3.4778132092771994,
         3.4852354388117694,
         3.457809660295637,
         3.467034810637308,
         3.482024019245933,
         3.454519763166188,
         3.490093880854774,
         3.48122330989821,
         3.4846129264589223,
         3.485922179102715,
         3.485972844960383,
         3.4641910106994813,
         3.4726132963854646,
         3.476590202319078,
         3.4704669663993015,
         3.4951833873313025,
         3.4845363741325994,
         3.488957609394144,
         3.4759191164240963,
         3.4741687768886886,
         3.4625726292155212,
         3.4421089901521738,
         3.4617023796480355,
         3.4785643352622966,
         3.477063370282361,
         3.474660846908861,
         3.471614694572105,
         3.465016150327957,
         3.4728787147655154,
         3.4812518355310904,
         3.474031898170588,
         3.4664348059286128,
         3.4668483311625895,
         3.4595239841528365,
         3.4699749826134494,
         3.4700868890128413,
         3.4800829959130155,
         3.4539919788866396,
         3.493846075600294,
         3.477786041427581,
         3.486055643092949,
         3.465571152594963,
         3.477034529968376,
         3.4691775456740204,
         3.476946995007863,
         3.4652659323979664,
         3.4764575419949297,
         3.4793586897114364,
         3.447529564616999,
         3.4732043420561562,
         3.4806587833930274,
         3.480761392891883,
         3.4690552345826693,
         3.480746113960915,
         3.490098833166232,
         3.4783157076865656,
         3.481210484554763,
         3.4724499225007186,
         3.465416974825203,
         3.462238360488251,
         3.456901458048178,
         3.470014394988575,
         3.4754894768222298,
         3.4746170591534224,
         3.4811616129489455,
         3.469340613369514,
         3.4870564434510585,
         3.4709221863066197,
         3.47411037203543,
         3.4530883397566097,
         3.450210606747111,
         3.471573739916915,
         3.476474097160146,
         3.4619046345924236,
         3.4804737844957216,
         3.476145085414736,
         3.4680320800000253,
         3.461637859525575,
         3.4551653945306446,
         3.47153993592966,
         3.4512424391700725,
         3.4759548062479895,
         3.4665537100460786,
         3.5038291151029135,
         3.4575927844430994,
         3.4661881460830104,
         3.469701924228791,
         3.480558289130567,
         3.466611862444096,
         3.470173748839492,
         3.4581098295622286,
         3.477943883650535,
         3.4722152624847014,
         3.4907841703548312,
         3.467005076732471,
         3.4661104970331666,
         3.479594674073484,
         3.467194523100125,
         3.460370791505607,
         3.469447826843311
        ]
       ],
       "encoder": "json",
       "name": "ABC_GAN_3 Metrics",
       "version": 1
      }
     },
     "metadata": {
      "scrapbook": {
       "data": true,
       "display": false,
       "name": "ABC_GAN_3 Metrics"
      }
     },
     "output_type": "display_data"
    },
    {
     "name": "stdout",
     "output_type": "stream",
     "text": [
      "MSE\n",
      "0.11820950849695898\n"
     ]
    }
   ],
   "source": [
    "ABC_GAN3_metrics=ABC_train_test2.test_generator(gen3,test_data,prior_model,variance,bias,\"3\",device)\n",
    "sb.glue(\"ABC_GAN_3 Metrics\",ABC_GAN3_metrics)\n",
    "\n",
    "print(\"MSE\")\n",
    "print(mean(ABC_GAN3_metrics[0]))"
   ]
  },
  {
   "cell_type": "code",
   "execution_count": 18,
   "id": "c8e46b48",
   "metadata": {
    "execution": {
     "iopub.execute_input": "2022-06-12T08:19:19.356439Z",
     "iopub.status.busy": "2022-06-12T08:19:19.356082Z",
     "iopub.status.idle": "2022-06-12T08:19:19.694777Z",
     "shell.execute_reply": "2022-06-12T08:19:19.695023Z"
    },
    "id": "c8e46b48",
    "papermill": {
     "duration": 0.357995,
     "end_time": "2022-06-12T08:19:19.695147",
     "exception": false,
     "start_time": "2022-06-12T08:19:19.337152",
     "status": "completed"
    },
    "tags": []
   },
   "outputs": [
    {
     "data": {
      "image/png": "[encoded data removed]",
      "text/plain": [
       "<Figure size 432x288 with 1 Axes>"
      ]
     },
     "metadata": {
      "needs_background": "light"
     },
     "output_type": "display_data"
    },
    {
     "data": {
      "image/png": "[encoded data removed]",
      "text/plain": [
       "<Figure size 432x288 with 1 Axes>"
      ]
     },
     "metadata": {
      "needs_background": "light"
     },
     "output_type": "display_data"
    },
    {
     "data": {
      "image/png": "[encoded data removed]",
      "text/plain": [
       "<Figure size 432x288 with 1 Axes>"
      ]
     },
     "metadata": {
      "needs_background": "light"
     },
     "output_type": "display_data"
    },
    {
     "data": {
      "image/png": "[encoded data removed]",
      "text/plain": [
       "<Figure size 432x288 with 1 Axes>"
      ]
     },
     "metadata": {
      "needs_background": "light"
     },
     "output_type": "display_data"
    }
   ],
   "source": [
    "sanityChecks.discProbVsError(train_data,disc3,device)\n",
    "sanityChecks.discProbVsError(test_data,disc3,device)"
   ]
  },
  {
   "cell_type": "markdown",
   "id": "a5bd74c3",
   "metadata": {
    "id": "a5bd74c3",
    "papermill": {
     "duration": 0.01907,
     "end_time": "2022-06-12T08:19:19.733866",
     "exception": false,
     "start_time": "2022-06-12T08:19:19.714796",
     "status": "completed"
    },
    "tags": []
   },
   "source": [
    "## Skip Connection Model Analysis - ABC-GAN "
   ]
  },
  {
   "cell_type": "markdown",
   "id": "5744a8bf",
   "metadata": {
    "id": "5744a8bf",
    "papermill": {
     "duration": 0.018913,
     "end_time": "2022-06-12T08:19:19.771781",
     "exception": false,
     "start_time": "2022-06-12T08:19:19.752868",
     "status": "completed"
    },
    "tags": []
   },
   "source": [
    "### Weight Analysis \n",
    "\n",
    "Study the weights of the skip connection layer\n",
    "\n",
    "Equation of the skip connection is \n",
    "\n",
    "$output = y_{gan} * w + y_{abc} * (1-w)$"
   ]
  },
  {
   "cell_type": "code",
   "execution_count": 19,
   "id": "52c31dea",
   "metadata": {
    "execution": {
     "iopub.execute_input": "2022-06-12T08:19:19.812586Z",
     "iopub.status.busy": "2022-06-12T08:19:19.812207Z",
     "iopub.status.idle": "2022-06-12T08:19:19.815980Z",
     "shell.execute_reply": "2022-06-12T08:19:19.815644Z"
    },
    "id": "52c31dea",
    "papermill": {
     "duration": 0.02536,
     "end_time": "2022-06-12T08:19:19.816084",
     "exception": false,
     "start_time": "2022-06-12T08:19:19.790724",
     "status": "completed"
    },
    "tags": []
   },
   "outputs": [
    {
     "name": "stdout",
     "output_type": "stream",
     "text": [
      "Weight of the node at skip connection\n",
      "Parameter containing:\n",
      "tensor([[0.0920]], requires_grad=True)\n"
     ]
    },
    {
     "data": {
      "application/scrapbook.scrap.json+json": {
       "data": 0.0920403003692627,
       "encoder": "json",
       "name": "Skip Connection Weight",
       "version": 1
      }
     },
     "metadata": {
      "scrapbook": {
       "data": true,
       "display": false,
       "name": "Skip Connection Weight"
      }
     },
     "output_type": "display_data"
    }
   ],
   "source": [
    "print(\"Weight of the node at skip connection\")\n",
    "for name,param in gen3.named_parameters():\n",
    "    if(name == \"skipNode.weight\"):\n",
    "        print(param)\n",
    "        sb.glue(\"Skip Connection Weight\",param.item())"
   ]
  }
 ],
 "metadata": {
  "colab": {
   "collapsed_sections": [],
   "name": "ABC_GAN_Model-Catboost_Pre-gen.ipynb",
   "provenance": []
  },
  "interpreter": {
   "hash": "31f2aee4e71d21fbe5cf8b01ff0e069b9275f58929596ceb00d14d90e3e16cd6"
  },
  "kernelspec": {
   "display_name": "Python 3 (ipykernel)",
   "language": "python",
   "name": "python3"
  },
  "language_info": {
   "codemirror_mode": {
    "name": "ipython",
    "version": 3
   },
   "file_extension": ".py",
   "mimetype": "text/x-python",
   "name": "python",
   "nbconvert_exporter": "python",
   "pygments_lexer": "ipython3",
   "version": "3.8.11"
  },
  "papermill": {
   "default_parameters": {},
   "duration": 245.593234,
   "end_time": "2022-06-12T08:19:20.143347",
   "environment_variables": {},
   "exception": null,
   "input_path": "ABC_GAN-Catboost.ipynb",
   "output_path": "./ABC_GAN_Catboost/ABC-GAN_output_9_8.ipynb",
   "parameters": {
    "bias": 0.01,
    "variance": 0.01
   },
   "start_time": "2022-06-12T08:15:14.550113",
   "version": "2.3.3"
  }
 },
 "nbformat": 4,
 "nbformat_minor": 5
}