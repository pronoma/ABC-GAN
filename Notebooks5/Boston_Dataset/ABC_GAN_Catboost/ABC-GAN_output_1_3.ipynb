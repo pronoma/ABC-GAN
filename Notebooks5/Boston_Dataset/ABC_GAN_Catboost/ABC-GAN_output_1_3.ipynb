{
 "cells": [
  {
   "cell_type": "markdown",
   "id": "622780e6",
   "metadata": {
    "id": "622780e6",
    "papermill": {
     "duration": 0.033569,
     "end_time": "2022-06-11T15:00:20.501259",
     "exception": false,
     "start_time": "2022-06-11T15:00:20.467690",
     "status": "completed"
    },
    "tags": []
   },
   "source": [
    "## Import Libraries "
   ]
  },
  {
   "cell_type": "code",
   "execution_count": 1,
   "id": "a62397e3",
   "metadata": {
    "execution": {
     "iopub.execute_input": "2022-06-11T15:00:20.537896Z",
     "iopub.status.busy": "2022-06-11T15:00:20.537319Z",
     "iopub.status.idle": "2022-06-11T15:00:20.539696Z",
     "shell.execute_reply": "2022-06-11T15:00:20.540022Z"
    },
    "id": "a62397e3",
    "papermill": {
     "duration": 0.02291,
     "end_time": "2022-06-11T15:00:20.540222",
     "exception": false,
     "start_time": "2022-06-11T15:00:20.517312",
     "status": "completed"
    },
    "tags": []
   },
   "outputs": [],
   "source": [
    "import warnings\n",
    "import sys\n",
    "sys.path.insert(0, '../../src')\n",
    "warnings.filterwarnings('ignore')"
   ]
  },
  {
   "cell_type": "code",
   "execution_count": 2,
   "id": "d6a4e155",
   "metadata": {
    "execution": {
     "iopub.execute_input": "2022-06-11T15:00:20.562323Z",
     "iopub.status.busy": "2022-06-11T15:00:20.561911Z",
     "iopub.status.idle": "2022-06-11T15:00:22.308325Z",
     "shell.execute_reply": "2022-06-11T15:00:22.308582Z"
    },
    "id": "d6a4e155",
    "papermill": {
     "duration": 1.757705,
     "end_time": "2022-06-11T15:00:22.308704",
     "exception": false,
     "start_time": "2022-06-11T15:00:20.550999",
     "status": "completed"
    },
    "tags": []
   },
   "outputs": [],
   "source": [
    "import ABC_train_test2\n",
    "import bostonDataset\n",
    "import network\n",
    "import dataset\n",
    "import sanityChecks\n",
    "import torch \n",
    "import scrapbook as sb\n",
    "from statistics import mean \n",
    "import catboost as ctb \n",
    "from sklearn.model_selection import train_test_split\n",
    "from sklearn.metrics import mean_squared_error,mean_absolute_error\n",
    "import numpy as np"
   ]
  },
  {
   "cell_type": "markdown",
   "id": "2fa5b0f7",
   "metadata": {
    "id": "2fa5b0f7",
    "papermill": {
     "duration": 0.006709,
     "end_time": "2022-06-11T15:00:22.322461",
     "exception": false,
     "start_time": "2022-06-11T15:00:22.315752",
     "status": "completed"
    },
    "tags": []
   },
   "source": [
    "## Parameters "
   ]
  },
  {
   "cell_type": "code",
   "execution_count": 3,
   "id": "783186fb",
   "metadata": {
    "execution": {
     "iopub.execute_input": "2022-06-11T15:00:22.337908Z",
     "iopub.status.busy": "2022-06-11T15:00:22.337533Z",
     "iopub.status.idle": "2022-06-11T15:00:22.338890Z",
     "shell.execute_reply": "2022-06-11T15:00:22.339134Z"
    },
    "id": "783186fb",
    "papermill": {
     "duration": 0.010101,
     "end_time": "2022-06-11T15:00:22.339238",
     "exception": false,
     "start_time": "2022-06-11T15:00:22.329137",
     "status": "completed"
    },
    "tags": [
     "parameters"
    ]
   },
   "outputs": [],
   "source": [
    "variance = 1\n",
    "bias = 1 "
   ]
  },
  {
   "cell_type": "code",
   "execution_count": 4,
   "id": "29cdc446",
   "metadata": {
    "execution": {
     "iopub.execute_input": "2022-06-11T15:00:22.354721Z",
     "iopub.status.busy": "2022-06-11T15:00:22.354349Z",
     "iopub.status.idle": "2022-06-11T15:00:22.355695Z",
     "shell.execute_reply": "2022-06-11T15:00:22.355970Z"
    },
    "papermill": {
     "duration": 0.010046,
     "end_time": "2022-06-11T15:00:22.356075",
     "exception": false,
     "start_time": "2022-06-11T15:00:22.346029",
     "status": "completed"
    },
    "tags": [
     "injected-parameters"
    ]
   },
   "outputs": [],
   "source": [
    "# Parameters\n",
    "variance = 1\n",
    "bias = 0.1\n"
   ]
  },
  {
   "cell_type": "markdown",
   "id": "391cdbfd",
   "metadata": {
    "id": "391cdbfd",
    "papermill": {
     "duration": 0.0068,
     "end_time": "2022-06-11T15:00:22.369746",
     "exception": false,
     "start_time": "2022-06-11T15:00:22.362946",
     "status": "completed"
    },
    "tags": []
   },
   "source": [
    "## Dataset \n"
   ]
  },
  {
   "cell_type": "code",
   "execution_count": 5,
   "id": "5b51f161",
   "metadata": {
    "execution": {
     "iopub.execute_input": "2022-06-11T15:00:22.385237Z",
     "iopub.status.busy": "2022-06-11T15:00:22.384881Z",
     "iopub.status.idle": "2022-06-11T15:00:22.386294Z",
     "shell.execute_reply": "2022-06-11T15:00:22.386571Z"
    },
    "id": "5b51f161",
    "papermill": {
     "duration": 0.010136,
     "end_time": "2022-06-11T15:00:22.386681",
     "exception": false,
     "start_time": "2022-06-11T15:00:22.376545",
     "status": "completed"
    },
    "tags": []
   },
   "outputs": [],
   "source": [
    "#Parameters \n",
    "n_features = 13\n",
    "n_samples= 506\n",
    "n_target = 1 "
   ]
  },
  {
   "cell_type": "code",
   "execution_count": 6,
   "id": "5d6eced4",
   "metadata": {
    "execution": {
     "iopub.execute_input": "2022-06-11T15:00:22.402514Z",
     "iopub.status.busy": "2022-06-11T15:00:22.402160Z",
     "iopub.status.idle": "2022-06-11T15:00:22.412863Z",
     "shell.execute_reply": "2022-06-11T15:00:22.413103Z"
    },
    "id": "5d6eced4",
    "papermill": {
     "duration": 0.019563,
     "end_time": "2022-06-11T15:00:22.413214",
     "exception": false,
     "start_time": "2022-06-11T15:00:22.393651",
     "status": "completed"
    },
    "tags": []
   },
   "outputs": [
    {
     "name": "stdout",
     "output_type": "stream",
     "text": [
      "         X1        X2        X3        X4        X5        X6        X7  \\\n",
      "0 -0.419782  0.284830 -1.287909 -0.272599 -0.144217  0.413672 -0.120013   \n",
      "1 -0.417339 -0.487722 -0.593381 -0.272599 -0.740262  0.194274  0.367166   \n",
      "2 -0.417342 -0.487722 -0.593381 -0.272599 -0.740262  1.282714 -0.265812   \n",
      "3 -0.416750 -0.487722 -1.306878 -0.272599 -0.835284  1.016303 -0.809889   \n",
      "4 -0.412482 -0.487722 -1.306878 -0.272599 -0.835284  1.228577 -0.511180   \n",
      "\n",
      "         X8        X9       X10       X11       X12       X13         Y  \n",
      "0  0.140214 -0.982843 -0.666608 -1.459000  0.441052 -1.075562  0.159686  \n",
      "1  0.557160 -0.867883 -0.987329 -0.303094  0.441052 -0.492439 -0.101524  \n",
      "2  0.557160 -0.867883 -0.987329 -0.303094  0.396427 -1.208727  1.324247  \n",
      "3  1.077737 -0.752922 -1.106115  0.113032  0.416163 -1.361517  1.182758  \n",
      "4  1.077737 -0.752922 -1.106115  0.113032  0.441052 -1.026501  1.487503  \n"
     ]
    }
   ],
   "source": [
    "X,Y = bostonDataset.boston_data()"
   ]
  },
  {
   "cell_type": "code",
   "execution_count": 7,
   "id": "fe007438",
   "metadata": {
    "execution": {
     "iopub.execute_input": "2022-06-11T15:00:22.430259Z",
     "iopub.status.busy": "2022-06-11T15:00:22.429842Z",
     "iopub.status.idle": "2022-06-11T15:00:22.431314Z",
     "shell.execute_reply": "2022-06-11T15:00:22.431556Z"
    },
    "id": "fe007438",
    "papermill": {
     "duration": 0.011231,
     "end_time": "2022-06-11T15:00:22.431673",
     "exception": false,
     "start_time": "2022-06-11T15:00:22.420442",
     "status": "completed"
    },
    "tags": []
   },
   "outputs": [],
   "source": [
    "#Train test split for dataset \n",
    "X_train,X_test,Y_train,Y_test = train_test_split(X,Y,test_size = 0.2)\n",
    "train_data = dataset.CustomDataset(X_train,Y_train)\n",
    "test_data = dataset.CustomDataset(X_test,Y_test)\n"
   ]
  },
  {
   "cell_type": "markdown",
   "id": "a9a1af34",
   "metadata": {
    "id": "a9a1af34",
    "papermill": {
     "duration": 0.007091,
     "end_time": "2022-06-11T15:00:22.446039",
     "exception": false,
     "start_time": "2022-06-11T15:00:22.438948",
     "status": "completed"
    },
    "tags": []
   },
   "source": [
    "## Training Parameters "
   ]
  },
  {
   "cell_type": "code",
   "execution_count": 8,
   "id": "952b7fc8",
   "metadata": {
    "execution": {
     "iopub.execute_input": "2022-06-11T15:00:22.462378Z",
     "iopub.status.busy": "2022-06-11T15:00:22.462011Z",
     "iopub.status.idle": "2022-06-11T15:00:22.463494Z",
     "shell.execute_reply": "2022-06-11T15:00:22.463742Z"
    },
    "id": "952b7fc8",
    "papermill": {
     "duration": 0.01078,
     "end_time": "2022-06-11T15:00:22.463846",
     "exception": false,
     "start_time": "2022-06-11T15:00:22.453066",
     "status": "completed"
    },
    "tags": []
   },
   "outputs": [],
   "source": [
    "batch_size = 32\n",
    "n_epochs = 1000\n",
    "#Select the device \n",
    "device = torch.device('cuda' if torch.cuda.is_available() else 'cpu')"
   ]
  },
  {
   "cell_type": "markdown",
   "id": "a95e1600",
   "metadata": {
    "id": "a95e1600",
    "papermill": {
     "duration": 0.007094,
     "end_time": "2022-06-11T15:00:22.478050",
     "exception": false,
     "start_time": "2022-06-11T15:00:22.470956",
     "status": "completed"
    },
    "tags": []
   },
   "source": [
    "# ABC Pre-generator Model \n",
    "\n",
    "1. The catboost model is used as a pre-generator model for the ABC-GAN. \n",
    "2. The model is first trained on the entire dataset \n",
    "3. It generats X,Y pairs and we add some Gaussian noise with mean 0 and variance 1 to it which is then feed as input to the generator.\n"
   ]
  },
  {
   "cell_type": "code",
   "execution_count": 9,
   "id": "ff8ce7bd",
   "metadata": {
    "execution": {
     "iopub.execute_input": "2022-06-11T15:00:22.497050Z",
     "iopub.status.busy": "2022-06-11T15:00:22.496670Z",
     "iopub.status.idle": "2022-06-11T15:00:23.701861Z",
     "shell.execute_reply": "2022-06-11T15:00:23.702110Z"
    },
    "id": "ff8ce7bd",
    "papermill": {
     "duration": 1.217005,
     "end_time": "2022-06-11T15:00:23.702231",
     "exception": false,
     "start_time": "2022-06-11T15:00:22.485226",
     "status": "completed"
    },
    "tags": []
   },
   "outputs": [
    {
     "name": "stdout",
     "output_type": "stream",
     "text": [
      "Learning rate set to 0.033215\n"
     ]
    },
    {
     "name": "stdout",
     "output_type": "stream",
     "text": [
      "0:\tlearn: 0.9634969\ttotal: 115ms\tremaining: 1m 54s\n",
      "1:\tlearn: 0.9453590\ttotal: 117ms\tremaining: 58.3s\n",
      "2:\tlearn: 0.9254723\ttotal: 118ms\tremaining: 39.2s\n",
      "3:\tlearn: 0.9106737\ttotal: 119ms\tremaining: 29.7s\n",
      "4:\tlearn: 0.8956714\ttotal: 121ms\tremaining: 24s\n",
      "5:\tlearn: 0.8790963\ttotal: 122ms\tremaining: 20.2s\n",
      "6:\tlearn: 0.8645549\ttotal: 124ms\tremaining: 17.6s\n",
      "7:\tlearn: 0.8498813\ttotal: 125ms\tremaining: 15.5s\n",
      "8:\tlearn: 0.8349446\ttotal: 126ms\tremaining: 13.8s\n",
      "9:\tlearn: 0.8193324\ttotal: 127ms\tremaining: 12.6s\n",
      "10:\tlearn: 0.8043059\ttotal: 128ms\tremaining: 11.5s\n",
      "11:\tlearn: 0.7902990\ttotal: 130ms\tremaining: 10.7s\n",
      "12:\tlearn: 0.7757679\ttotal: 131ms\tremaining: 9.93s\n",
      "13:\tlearn: 0.7617237\ttotal: 132ms\tremaining: 9.3s\n",
      "14:\tlearn: 0.7499827\ttotal: 133ms\tremaining: 8.73s\n",
      "15:\tlearn: 0.7363725\ttotal: 133ms\tremaining: 8.21s\n",
      "16:\tlearn: 0.7252721\ttotal: 134ms\tremaining: 7.75s\n",
      "17:\tlearn: 0.7140333\ttotal: 135ms\tremaining: 7.35s\n",
      "18:\tlearn: 0.7015246\ttotal: 135ms\tremaining: 6.98s\n",
      "19:\tlearn: 0.6903100\ttotal: 136ms\tremaining: 6.65s\n",
      "20:\tlearn: 0.6770656\ttotal: 136ms\tremaining: 6.36s\n",
      "21:\tlearn: 0.6676377\ttotal: 138ms\tremaining: 6.13s\n",
      "22:\tlearn: 0.6565671\ttotal: 139ms\tremaining: 5.92s\n",
      "23:\tlearn: 0.6470639\ttotal: 141ms\tremaining: 5.72s\n",
      "24:\tlearn: 0.6373999\ttotal: 142ms\tremaining: 5.54s\n",
      "25:\tlearn: 0.6278567\ttotal: 143ms\tremaining: 5.36s\n",
      "26:\tlearn: 0.6190589\ttotal: 144ms\tremaining: 5.18s\n",
      "27:\tlearn: 0.6101047\ttotal: 145ms\tremaining: 5.02s\n",
      "28:\tlearn: 0.6011732\ttotal: 155ms\tremaining: 5.2s\n",
      "29:\tlearn: 0.5925032\ttotal: 156ms\tremaining: 5.05s\n",
      "30:\tlearn: 0.5843745\ttotal: 157ms\tremaining: 4.92s\n",
      "31:\tlearn: 0.5756211\ttotal: 159ms\tremaining: 4.8s\n",
      "32:\tlearn: 0.5670441\ttotal: 160ms\tremaining: 4.68s\n",
      "33:\tlearn: 0.5601982\ttotal: 161ms\tremaining: 4.58s\n",
      "34:\tlearn: 0.5532934\ttotal: 162ms\tremaining: 4.48s\n",
      "35:\tlearn: 0.5465473\ttotal: 164ms\tremaining: 4.38s\n",
      "36:\tlearn: 0.5406432\ttotal: 165ms\tremaining: 4.29s\n",
      "37:\tlearn: 0.5316011\ttotal: 166ms\tremaining: 4.19s\n",
      "38:\tlearn: 0.5247238\ttotal: 166ms\tremaining: 4.09s\n",
      "39:\tlearn: 0.5173344\ttotal: 167ms\tremaining: 4s\n",
      "40:\tlearn: 0.5111889\ttotal: 167ms\tremaining: 3.91s\n",
      "41:\tlearn: 0.5050903\ttotal: 168ms\tremaining: 3.83s\n",
      "42:\tlearn: 0.4993930\ttotal: 169ms\tremaining: 3.76s\n",
      "43:\tlearn: 0.4924058\ttotal: 170ms\tremaining: 3.7s\n",
      "44:\tlearn: 0.4874494\ttotal: 171ms\tremaining: 3.64s\n",
      "45:\tlearn: 0.4811185\ttotal: 173ms\tremaining: 3.58s\n",
      "46:\tlearn: 0.4764955\ttotal: 174ms\tremaining: 3.53s\n",
      "47:\tlearn: 0.4713605\ttotal: 175ms\tremaining: 3.47s\n",
      "48:\tlearn: 0.4657678\ttotal: 196ms\tremaining: 3.8s\n"
     ]
    },
    {
     "name": "stdout",
     "output_type": "stream",
     "text": [
      "49:\tlearn: 0.4601491\ttotal: 216ms\tremaining: 4.11s\n",
      "50:\tlearn: 0.4555060\ttotal: 218ms\tremaining: 4.05s\n",
      "51:\tlearn: 0.4513561\ttotal: 219ms\tremaining: 4s\n",
      "52:\tlearn: 0.4459267\ttotal: 220ms\tremaining: 3.93s\n",
      "53:\tlearn: 0.4427063\ttotal: 221ms\tremaining: 3.87s\n",
      "54:\tlearn: 0.4383482\ttotal: 222ms\tremaining: 3.81s\n",
      "55:\tlearn: 0.4348017\ttotal: 222ms\tremaining: 3.75s\n",
      "56:\tlearn: 0.4302404\ttotal: 223ms\tremaining: 3.69s\n",
      "57:\tlearn: 0.4262390\ttotal: 224ms\tremaining: 3.63s\n",
      "58:\tlearn: 0.4228225\ttotal: 225ms\tremaining: 3.58s\n",
      "59:\tlearn: 0.4188142\ttotal: 225ms\tremaining: 3.53s\n",
      "60:\tlearn: 0.4146418\ttotal: 226ms\tremaining: 3.48s\n",
      "61:\tlearn: 0.4112177\ttotal: 227ms\tremaining: 3.43s\n",
      "62:\tlearn: 0.4084620\ttotal: 227ms\tremaining: 3.38s\n",
      "63:\tlearn: 0.4048257\ttotal: 228ms\tremaining: 3.33s\n",
      "64:\tlearn: 0.4014993\ttotal: 229ms\tremaining: 3.29s\n",
      "65:\tlearn: 0.3976617\ttotal: 229ms\tremaining: 3.25s\n",
      "66:\tlearn: 0.3941431\ttotal: 230ms\tremaining: 3.2s\n",
      "67:\tlearn: 0.3908904\ttotal: 231ms\tremaining: 3.16s\n",
      "68:\tlearn: 0.3880707\ttotal: 232ms\tremaining: 3.13s\n",
      "69:\tlearn: 0.3849884\ttotal: 233ms\tremaining: 3.09s\n",
      "70:\tlearn: 0.3809169\ttotal: 235ms\tremaining: 3.07s\n",
      "71:\tlearn: 0.3787506\ttotal: 236ms\tremaining: 3.04s\n",
      "72:\tlearn: 0.3761272\ttotal: 237ms\tremaining: 3s\n",
      "73:\tlearn: 0.3723733\ttotal: 237ms\tremaining: 2.97s\n",
      "74:\tlearn: 0.3692111\ttotal: 238ms\tremaining: 2.94s\n",
      "75:\tlearn: 0.3667101\ttotal: 240ms\tremaining: 2.91s\n",
      "76:\tlearn: 0.3645024\ttotal: 240ms\tremaining: 2.88s\n",
      "77:\tlearn: 0.3610201\ttotal: 241ms\tremaining: 2.85s\n",
      "78:\tlearn: 0.3591778\ttotal: 242ms\tremaining: 2.82s\n",
      "79:\tlearn: 0.3568736\ttotal: 243ms\tremaining: 2.8s\n",
      "80:\tlearn: 0.3542411\ttotal: 244ms\tremaining: 2.77s\n",
      "81:\tlearn: 0.3513918\ttotal: 245ms\tremaining: 2.75s\n",
      "82:\tlearn: 0.3492859\ttotal: 247ms\tremaining: 2.72s\n",
      "83:\tlearn: 0.3473253\ttotal: 248ms\tremaining: 2.7s\n",
      "84:\tlearn: 0.3450151\ttotal: 249ms\tremaining: 2.68s\n",
      "85:\tlearn: 0.3428153\ttotal: 250ms\tremaining: 2.66s\n",
      "86:\tlearn: 0.3405320\ttotal: 251ms\tremaining: 2.64s\n",
      "87:\tlearn: 0.3374894\ttotal: 252ms\tremaining: 2.62s\n",
      "88:\tlearn: 0.3350942\ttotal: 254ms\tremaining: 2.59s\n",
      "89:\tlearn: 0.3325761\ttotal: 254ms\tremaining: 2.57s\n",
      "90:\tlearn: 0.3307613\ttotal: 255ms\tremaining: 2.55s\n",
      "91:\tlearn: 0.3288631\ttotal: 256ms\tremaining: 2.53s\n",
      "92:\tlearn: 0.3272767\ttotal: 257ms\tremaining: 2.51s\n",
      "93:\tlearn: 0.3251051\ttotal: 258ms\tremaining: 2.48s\n",
      "94:\tlearn: 0.3225926\ttotal: 259ms\tremaining: 2.46s\n",
      "95:\tlearn: 0.3216220\ttotal: 260ms\tremaining: 2.44s\n",
      "96:\tlearn: 0.3204138\ttotal: 261ms\tremaining: 2.43s\n",
      "97:\tlearn: 0.3184301\ttotal: 262ms\tremaining: 2.41s\n",
      "98:\tlearn: 0.3168917\ttotal: 263ms\tremaining: 2.39s\n",
      "99:\tlearn: 0.3156702\ttotal: 264ms\tremaining: 2.38s\n",
      "100:\tlearn: 0.3139427\ttotal: 265ms\tremaining: 2.36s\n",
      "101:\tlearn: 0.3121182\ttotal: 266ms\tremaining: 2.34s\n",
      "102:\tlearn: 0.3107524\ttotal: 267ms\tremaining: 2.32s\n",
      "103:\tlearn: 0.3097922\ttotal: 268ms\tremaining: 2.3s\n",
      "104:\tlearn: 0.3081275\ttotal: 268ms\tremaining: 2.29s\n",
      "105:\tlearn: 0.3064545\ttotal: 269ms\tremaining: 2.27s\n",
      "106:\tlearn: 0.3048456\ttotal: 270ms\tremaining: 2.25s\n",
      "107:\tlearn: 0.3035387\ttotal: 271ms\tremaining: 2.23s\n",
      "108:\tlearn: 0.3017904\ttotal: 271ms\tremaining: 2.22s\n",
      "109:\tlearn: 0.2999644\ttotal: 272ms\tremaining: 2.2s\n",
      "110:\tlearn: 0.2984607\ttotal: 273ms\tremaining: 2.19s\n",
      "111:\tlearn: 0.2971049\ttotal: 274ms\tremaining: 2.17s\n",
      "112:\tlearn: 0.2957336\ttotal: 275ms\tremaining: 2.16s\n",
      "113:\tlearn: 0.2946556\ttotal: 276ms\tremaining: 2.14s\n",
      "114:\tlearn: 0.2935882\ttotal: 277ms\tremaining: 2.13s\n",
      "115:\tlearn: 0.2922036\ttotal: 277ms\tremaining: 2.11s\n",
      "116:\tlearn: 0.2910193\ttotal: 278ms\tremaining: 2.1s\n",
      "117:\tlearn: 0.2893276\ttotal: 279ms\tremaining: 2.09s\n",
      "118:\tlearn: 0.2879310\ttotal: 280ms\tremaining: 2.07s\n",
      "119:\tlearn: 0.2871813\ttotal: 281ms\tremaining: 2.06s\n",
      "120:\tlearn: 0.2858827\ttotal: 282ms\tremaining: 2.05s\n",
      "121:\tlearn: 0.2849686\ttotal: 283ms\tremaining: 2.03s\n",
      "122:\tlearn: 0.2836679\ttotal: 284ms\tremaining: 2.02s\n",
      "123:\tlearn: 0.2828563\ttotal: 285ms\tremaining: 2.01s\n",
      "124:\tlearn: 0.2819054\ttotal: 286ms\tremaining: 2s\n",
      "125:\tlearn: 0.2808786\ttotal: 286ms\tremaining: 1.99s\n",
      "126:\tlearn: 0.2795059\ttotal: 287ms\tremaining: 1.98s\n",
      "127:\tlearn: 0.2786419\ttotal: 288ms\tremaining: 1.96s\n",
      "128:\tlearn: 0.2772474\ttotal: 289ms\tremaining: 1.95s\n",
      "129:\tlearn: 0.2762195\ttotal: 290ms\tremaining: 1.94s\n",
      "130:\tlearn: 0.2752532\ttotal: 291ms\tremaining: 1.93s\n",
      "131:\tlearn: 0.2742980\ttotal: 292ms\tremaining: 1.92s\n",
      "132:\tlearn: 0.2733445\ttotal: 293ms\tremaining: 1.91s\n",
      "133:\tlearn: 0.2720915\ttotal: 294ms\tremaining: 1.9s\n",
      "134:\tlearn: 0.2714159\ttotal: 295ms\tremaining: 1.89s\n",
      "135:\tlearn: 0.2703834\ttotal: 296ms\tremaining: 1.88s\n",
      "136:\tlearn: 0.2693896\ttotal: 296ms\tremaining: 1.87s\n",
      "137:\tlearn: 0.2681076\ttotal: 297ms\tremaining: 1.85s\n",
      "138:\tlearn: 0.2669707\ttotal: 298ms\tremaining: 1.84s\n",
      "139:\tlearn: 0.2659179\ttotal: 299ms\tremaining: 1.83s\n",
      "140:\tlearn: 0.2651134\ttotal: 300ms\tremaining: 1.82s\n",
      "141:\tlearn: 0.2640246\ttotal: 301ms\tremaining: 1.82s\n",
      "142:\tlearn: 0.2628177\ttotal: 302ms\tremaining: 1.81s\n",
      "143:\tlearn: 0.2618909\ttotal: 303ms\tremaining: 1.8s\n",
      "144:\tlearn: 0.2609716\ttotal: 304ms\tremaining: 1.79s\n",
      "145:\tlearn: 0.2599911\ttotal: 305ms\tremaining: 1.78s\n",
      "146:\tlearn: 0.2593300\ttotal: 306ms\tremaining: 1.77s\n",
      "147:\tlearn: 0.2580562\ttotal: 307ms\tremaining: 1.76s\n"
     ]
    },
    {
     "name": "stdout",
     "output_type": "stream",
     "text": [
      "148:\tlearn: 0.2570046\ttotal: 308ms\tremaining: 1.76s\n",
      "149:\tlearn: 0.2564349\ttotal: 309ms\tremaining: 1.75s\n",
      "150:\tlearn: 0.2553020\ttotal: 309ms\tremaining: 1.74s\n",
      "151:\tlearn: 0.2545803\ttotal: 310ms\tremaining: 1.73s\n",
      "152:\tlearn: 0.2538975\ttotal: 312ms\tremaining: 1.72s\n",
      "153:\tlearn: 0.2532864\ttotal: 313ms\tremaining: 1.72s\n",
      "154:\tlearn: 0.2523321\ttotal: 314ms\tremaining: 1.71s\n",
      "155:\tlearn: 0.2514234\ttotal: 314ms\tremaining: 1.7s\n",
      "156:\tlearn: 0.2506607\ttotal: 316ms\tremaining: 1.7s\n",
      "157:\tlearn: 0.2498061\ttotal: 317ms\tremaining: 1.69s\n",
      "158:\tlearn: 0.2490171\ttotal: 319ms\tremaining: 1.68s\n",
      "159:\tlearn: 0.2482424\ttotal: 319ms\tremaining: 1.68s\n",
      "160:\tlearn: 0.2476469\ttotal: 320ms\tremaining: 1.67s\n",
      "161:\tlearn: 0.2468541\ttotal: 321ms\tremaining: 1.66s\n",
      "162:\tlearn: 0.2463866\ttotal: 322ms\tremaining: 1.65s\n",
      "163:\tlearn: 0.2455086\ttotal: 323ms\tremaining: 1.65s\n",
      "164:\tlearn: 0.2448314\ttotal: 325ms\tremaining: 1.64s\n",
      "165:\tlearn: 0.2441217\ttotal: 325ms\tremaining: 1.63s\n",
      "166:\tlearn: 0.2434403\ttotal: 326ms\tremaining: 1.63s\n",
      "167:\tlearn: 0.2424158\ttotal: 327ms\tremaining: 1.62s\n",
      "168:\tlearn: 0.2417142\ttotal: 328ms\tremaining: 1.61s\n",
      "169:\tlearn: 0.2412538\ttotal: 329ms\tremaining: 1.6s\n",
      "170:\tlearn: 0.2404954\ttotal: 329ms\tremaining: 1.6s\n",
      "171:\tlearn: 0.2397443\ttotal: 330ms\tremaining: 1.59s\n",
      "172:\tlearn: 0.2390970\ttotal: 331ms\tremaining: 1.58s\n",
      "173:\tlearn: 0.2383819\ttotal: 332ms\tremaining: 1.57s\n",
      "174:\tlearn: 0.2377765\ttotal: 333ms\tremaining: 1.57s\n",
      "175:\tlearn: 0.2370380\ttotal: 334ms\tremaining: 1.56s\n",
      "176:\tlearn: 0.2360793\ttotal: 335ms\tremaining: 1.56s\n",
      "177:\tlearn: 0.2354026\ttotal: 336ms\tremaining: 1.55s\n",
      "178:\tlearn: 0.2349674\ttotal: 337ms\tremaining: 1.54s\n",
      "179:\tlearn: 0.2344314\ttotal: 338ms\tremaining: 1.54s\n",
      "180:\tlearn: 0.2337731\ttotal: 338ms\tremaining: 1.53s\n",
      "181:\tlearn: 0.2331524\ttotal: 339ms\tremaining: 1.52s\n",
      "182:\tlearn: 0.2326270\ttotal: 340ms\tremaining: 1.52s\n",
      "183:\tlearn: 0.2318540\ttotal: 341ms\tremaining: 1.51s\n",
      "184:\tlearn: 0.2310081\ttotal: 342ms\tremaining: 1.51s\n",
      "185:\tlearn: 0.2304078\ttotal: 343ms\tremaining: 1.5s\n",
      "186:\tlearn: 0.2297022\ttotal: 344ms\tremaining: 1.5s\n",
      "187:\tlearn: 0.2290732\ttotal: 345ms\tremaining: 1.49s\n",
      "188:\tlearn: 0.2285206\ttotal: 346ms\tremaining: 1.48s\n",
      "189:\tlearn: 0.2278872\ttotal: 346ms\tremaining: 1.48s\n",
      "190:\tlearn: 0.2273122\ttotal: 347ms\tremaining: 1.47s\n",
      "191:\tlearn: 0.2267971\ttotal: 348ms\tremaining: 1.47s\n",
      "192:\tlearn: 0.2260359\ttotal: 349ms\tremaining: 1.46s\n",
      "193:\tlearn: 0.2253533\ttotal: 350ms\tremaining: 1.45s\n",
      "194:\tlearn: 0.2244792\ttotal: 350ms\tremaining: 1.45s\n",
      "195:\tlearn: 0.2239152\ttotal: 351ms\tremaining: 1.44s\n",
      "196:\tlearn: 0.2234899\ttotal: 352ms\tremaining: 1.44s\n",
      "197:\tlearn: 0.2230433\ttotal: 353ms\tremaining: 1.43s\n",
      "198:\tlearn: 0.2225592\ttotal: 354ms\tremaining: 1.42s\n",
      "199:\tlearn: 0.2218791\ttotal: 355ms\tremaining: 1.42s\n",
      "200:\tlearn: 0.2213019\ttotal: 356ms\tremaining: 1.41s\n",
      "201:\tlearn: 0.2207118\ttotal: 356ms\tremaining: 1.41s\n",
      "202:\tlearn: 0.2200980\ttotal: 357ms\tremaining: 1.4s\n",
      "203:\tlearn: 0.2196446\ttotal: 358ms\tremaining: 1.4s\n",
      "204:\tlearn: 0.2189196\ttotal: 359ms\tremaining: 1.39s\n",
      "205:\tlearn: 0.2183744\ttotal: 359ms\tremaining: 1.39s\n",
      "206:\tlearn: 0.2177277\ttotal: 360ms\tremaining: 1.38s\n",
      "207:\tlearn: 0.2173107\ttotal: 361ms\tremaining: 1.37s\n",
      "208:\tlearn: 0.2165455\ttotal: 362ms\tremaining: 1.37s\n",
      "209:\tlearn: 0.2161238\ttotal: 363ms\tremaining: 1.36s\n",
      "210:\tlearn: 0.2154396\ttotal: 363ms\tremaining: 1.36s\n",
      "211:\tlearn: 0.2148662\ttotal: 364ms\tremaining: 1.35s\n",
      "212:\tlearn: 0.2143237\ttotal: 365ms\tremaining: 1.35s\n",
      "213:\tlearn: 0.2138978\ttotal: 366ms\tremaining: 1.34s\n",
      "214:\tlearn: 0.2135521\ttotal: 367ms\tremaining: 1.34s\n",
      "215:\tlearn: 0.2129120\ttotal: 368ms\tremaining: 1.33s\n",
      "216:\tlearn: 0.2124525\ttotal: 369ms\tremaining: 1.33s\n",
      "217:\tlearn: 0.2120498\ttotal: 370ms\tremaining: 1.33s\n",
      "218:\tlearn: 0.2116481\ttotal: 371ms\tremaining: 1.32s\n",
      "219:\tlearn: 0.2112284\ttotal: 371ms\tremaining: 1.32s\n",
      "220:\tlearn: 0.2107465\ttotal: 372ms\tremaining: 1.31s\n",
      "221:\tlearn: 0.2103099\ttotal: 373ms\tremaining: 1.31s\n",
      "222:\tlearn: 0.2097604\ttotal: 374ms\tremaining: 1.3s\n",
      "223:\tlearn: 0.2091149\ttotal: 375ms\tremaining: 1.3s\n",
      "224:\tlearn: 0.2085754\ttotal: 376ms\tremaining: 1.29s\n",
      "225:\tlearn: 0.2079539\ttotal: 377ms\tremaining: 1.29s\n",
      "226:\tlearn: 0.2073840\ttotal: 378ms\tremaining: 1.28s\n",
      "227:\tlearn: 0.2067519\ttotal: 378ms\tremaining: 1.28s\n",
      "228:\tlearn: 0.2063107\ttotal: 379ms\tremaining: 1.28s\n",
      "229:\tlearn: 0.2057084\ttotal: 380ms\tremaining: 1.27s\n",
      "230:\tlearn: 0.2051506\ttotal: 381ms\tremaining: 1.27s\n",
      "231:\tlearn: 0.2047947\ttotal: 382ms\tremaining: 1.26s\n",
      "232:\tlearn: 0.2042672\ttotal: 383ms\tremaining: 1.26s\n",
      "233:\tlearn: 0.2037803\ttotal: 383ms\tremaining: 1.25s\n",
      "234:\tlearn: 0.2033734\ttotal: 384ms\tremaining: 1.25s\n",
      "235:\tlearn: 0.2027741\ttotal: 385ms\tremaining: 1.25s\n",
      "236:\tlearn: 0.2022560\ttotal: 386ms\tremaining: 1.24s\n",
      "237:\tlearn: 0.2019430\ttotal: 386ms\tremaining: 1.24s\n",
      "238:\tlearn: 0.2014172\ttotal: 387ms\tremaining: 1.23s\n",
      "239:\tlearn: 0.2009317\ttotal: 388ms\tremaining: 1.23s\n",
      "240:\tlearn: 0.2003213\ttotal: 389ms\tremaining: 1.23s\n",
      "241:\tlearn: 0.1997655\ttotal: 390ms\tremaining: 1.22s\n",
      "242:\tlearn: 0.1994943\ttotal: 391ms\tremaining: 1.22s\n",
      "243:\tlearn: 0.1989415\ttotal: 392ms\tremaining: 1.21s\n",
      "244:\tlearn: 0.1982923\ttotal: 392ms\tremaining: 1.21s\n",
      "245:\tlearn: 0.1976476\ttotal: 393ms\tremaining: 1.21s\n",
      "246:\tlearn: 0.1972270\ttotal: 394ms\tremaining: 1.2s\n",
      "247:\tlearn: 0.1967018\ttotal: 395ms\tremaining: 1.2s\n",
      "248:\tlearn: 0.1962764\ttotal: 396ms\tremaining: 1.19s\n",
      "249:\tlearn: 0.1959213\ttotal: 397ms\tremaining: 1.19s\n",
      "250:\tlearn: 0.1955078\ttotal: 398ms\tremaining: 1.19s\n",
      "251:\tlearn: 0.1951097\ttotal: 398ms\tremaining: 1.18s\n",
      "252:\tlearn: 0.1947480\ttotal: 399ms\tremaining: 1.18s\n",
      "253:\tlearn: 0.1944136\ttotal: 400ms\tremaining: 1.17s\n",
      "254:\tlearn: 0.1938358\ttotal: 401ms\tremaining: 1.17s\n",
      "255:\tlearn: 0.1934728\ttotal: 402ms\tremaining: 1.17s\n",
      "256:\tlearn: 0.1929402\ttotal: 403ms\tremaining: 1.16s\n",
      "257:\tlearn: 0.1925434\ttotal: 403ms\tremaining: 1.16s\n",
      "258:\tlearn: 0.1920551\ttotal: 404ms\tremaining: 1.16s\n",
      "259:\tlearn: 0.1916581\ttotal: 405ms\tremaining: 1.15s\n"
     ]
    },
    {
     "name": "stdout",
     "output_type": "stream",
     "text": [
      "260:\tlearn: 0.1911454\ttotal: 407ms\tremaining: 1.15s\n",
      "261:\tlearn: 0.1907303\ttotal: 408ms\tremaining: 1.15s\n",
      "262:\tlearn: 0.1902405\ttotal: 409ms\tremaining: 1.15s\n",
      "263:\tlearn: 0.1898314\ttotal: 410ms\tremaining: 1.14s\n",
      "264:\tlearn: 0.1894009\ttotal: 410ms\tremaining: 1.14s\n",
      "265:\tlearn: 0.1890732\ttotal: 411ms\tremaining: 1.13s\n",
      "266:\tlearn: 0.1887084\ttotal: 412ms\tremaining: 1.13s\n",
      "267:\tlearn: 0.1883582\ttotal: 413ms\tremaining: 1.13s\n",
      "268:\tlearn: 0.1879612\ttotal: 414ms\tremaining: 1.12s\n",
      "269:\tlearn: 0.1874613\ttotal: 414ms\tremaining: 1.12s\n",
      "270:\tlearn: 0.1867690\ttotal: 415ms\tremaining: 1.12s\n",
      "271:\tlearn: 0.1863469\ttotal: 416ms\tremaining: 1.11s\n",
      "272:\tlearn: 0.1859709\ttotal: 417ms\tremaining: 1.11s\n",
      "273:\tlearn: 0.1854857\ttotal: 418ms\tremaining: 1.11s\n",
      "274:\tlearn: 0.1851672\ttotal: 418ms\tremaining: 1.1s\n",
      "275:\tlearn: 0.1847888\ttotal: 419ms\tremaining: 1.1s\n",
      "276:\tlearn: 0.1843572\ttotal: 420ms\tremaining: 1.1s\n",
      "277:\tlearn: 0.1840011\ttotal: 421ms\tremaining: 1.09s\n",
      "278:\tlearn: 0.1837256\ttotal: 422ms\tremaining: 1.09s\n",
      "279:\tlearn: 0.1833250\ttotal: 423ms\tremaining: 1.09s\n",
      "280:\tlearn: 0.1828323\ttotal: 423ms\tremaining: 1.08s\n",
      "281:\tlearn: 0.1823755\ttotal: 424ms\tremaining: 1.08s\n",
      "282:\tlearn: 0.1820173\ttotal: 425ms\tremaining: 1.08s\n",
      "283:\tlearn: 0.1818428\ttotal: 426ms\tremaining: 1.07s\n",
      "284:\tlearn: 0.1813107\ttotal: 427ms\tremaining: 1.07s\n",
      "285:\tlearn: 0.1809074\ttotal: 428ms\tremaining: 1.07s\n",
      "286:\tlearn: 0.1805927\ttotal: 428ms\tremaining: 1.06s\n",
      "287:\tlearn: 0.1799613\ttotal: 430ms\tremaining: 1.06s\n",
      "288:\tlearn: 0.1795865\ttotal: 431ms\tremaining: 1.06s\n",
      "289:\tlearn: 0.1791331\ttotal: 431ms\tremaining: 1.06s\n",
      "290:\tlearn: 0.1789000\ttotal: 432ms\tremaining: 1.05s\n",
      "291:\tlearn: 0.1786543\ttotal: 433ms\tremaining: 1.05s\n",
      "292:\tlearn: 0.1784329\ttotal: 435ms\tremaining: 1.05s\n",
      "293:\tlearn: 0.1781826\ttotal: 436ms\tremaining: 1.04s\n",
      "294:\tlearn: 0.1776996\ttotal: 436ms\tremaining: 1.04s\n",
      "295:\tlearn: 0.1775235\ttotal: 437ms\tremaining: 1.04s\n",
      "296:\tlearn: 0.1771391\ttotal: 438ms\tremaining: 1.04s\n",
      "297:\tlearn: 0.1768169\ttotal: 439ms\tremaining: 1.03s\n",
      "298:\tlearn: 0.1764661\ttotal: 440ms\tremaining: 1.03s\n",
      "299:\tlearn: 0.1760751\ttotal: 441ms\tremaining: 1.03s\n",
      "300:\tlearn: 0.1755896\ttotal: 442ms\tremaining: 1.03s\n",
      "301:\tlearn: 0.1752599\ttotal: 443ms\tremaining: 1.02s\n",
      "302:\tlearn: 0.1748688\ttotal: 444ms\tremaining: 1.02s\n",
      "303:\tlearn: 0.1742968\ttotal: 445ms\tremaining: 1.02s\n",
      "304:\tlearn: 0.1739957\ttotal: 446ms\tremaining: 1.01s\n",
      "305:\tlearn: 0.1735851\ttotal: 446ms\tremaining: 1.01s\n",
      "306:\tlearn: 0.1732025\ttotal: 447ms\tremaining: 1.01s\n",
      "307:\tlearn: 0.1726582\ttotal: 448ms\tremaining: 1s\n",
      "308:\tlearn: 0.1722327\ttotal: 449ms\tremaining: 1s\n",
      "309:\tlearn: 0.1719196\ttotal: 449ms\tremaining: 1s\n",
      "310:\tlearn: 0.1713758\ttotal: 450ms\tremaining: 997ms\n",
      "311:\tlearn: 0.1710711\ttotal: 451ms\tremaining: 995ms\n",
      "312:\tlearn: 0.1708339\ttotal: 452ms\tremaining: 992ms\n",
      "313:\tlearn: 0.1704577\ttotal: 453ms\tremaining: 989ms\n",
      "314:\tlearn: 0.1700751\ttotal: 454ms\tremaining: 987ms\n",
      "315:\tlearn: 0.1696698\ttotal: 455ms\tremaining: 984ms\n",
      "316:\tlearn: 0.1692582\ttotal: 456ms\tremaining: 982ms\n",
      "317:\tlearn: 0.1688078\ttotal: 457ms\tremaining: 980ms\n",
      "318:\tlearn: 0.1686106\ttotal: 458ms\tremaining: 977ms\n",
      "319:\tlearn: 0.1681211\ttotal: 458ms\tremaining: 974ms\n",
      "320:\tlearn: 0.1677888\ttotal: 459ms\tremaining: 972ms\n",
      "321:\tlearn: 0.1675378\ttotal: 460ms\tremaining: 969ms\n",
      "322:\tlearn: 0.1671197\ttotal: 461ms\tremaining: 967ms\n",
      "323:\tlearn: 0.1668564\ttotal: 462ms\tremaining: 964ms\n",
      "324:\tlearn: 0.1663879\ttotal: 463ms\tremaining: 961ms\n",
      "325:\tlearn: 0.1661339\ttotal: 464ms\tremaining: 960ms\n",
      "326:\tlearn: 0.1659868\ttotal: 465ms\tremaining: 957ms\n",
      "327:\tlearn: 0.1655373\ttotal: 466ms\tremaining: 955ms\n",
      "328:\tlearn: 0.1652008\ttotal: 467ms\tremaining: 952ms\n",
      "329:\tlearn: 0.1649517\ttotal: 468ms\tremaining: 949ms\n",
      "330:\tlearn: 0.1646051\ttotal: 468ms\tremaining: 947ms\n",
      "331:\tlearn: 0.1641974\ttotal: 469ms\tremaining: 944ms\n",
      "332:\tlearn: 0.1639158\ttotal: 470ms\tremaining: 942ms\n",
      "333:\tlearn: 0.1637858\ttotal: 472ms\tremaining: 940ms\n",
      "334:\tlearn: 0.1634849\ttotal: 472ms\tremaining: 938ms\n",
      "335:\tlearn: 0.1632599\ttotal: 473ms\tremaining: 935ms\n",
      "336:\tlearn: 0.1628484\ttotal: 474ms\tremaining: 933ms\n",
      "337:\tlearn: 0.1626004\ttotal: 475ms\tremaining: 930ms\n",
      "338:\tlearn: 0.1623153\ttotal: 476ms\tremaining: 927ms\n",
      "339:\tlearn: 0.1620937\ttotal: 477ms\tremaining: 925ms\n",
      "340:\tlearn: 0.1617698\ttotal: 477ms\tremaining: 923ms\n",
      "341:\tlearn: 0.1614074\ttotal: 478ms\tremaining: 920ms\n",
      "342:\tlearn: 0.1611223\ttotal: 479ms\tremaining: 917ms\n",
      "343:\tlearn: 0.1606644\ttotal: 480ms\tremaining: 915ms\n",
      "344:\tlearn: 0.1604536\ttotal: 481ms\tremaining: 912ms\n",
      "345:\tlearn: 0.1600685\ttotal: 482ms\tremaining: 910ms\n",
      "346:\tlearn: 0.1598052\ttotal: 483ms\tremaining: 908ms\n",
      "347:\tlearn: 0.1594323\ttotal: 483ms\tremaining: 905ms\n",
      "348:\tlearn: 0.1590373\ttotal: 484ms\tremaining: 903ms\n",
      "349:\tlearn: 0.1587571\ttotal: 485ms\tremaining: 901ms\n",
      "350:\tlearn: 0.1585692\ttotal: 486ms\tremaining: 898ms\n",
      "351:\tlearn: 0.1581881\ttotal: 487ms\tremaining: 896ms\n",
      "352:\tlearn: 0.1577839\ttotal: 487ms\tremaining: 893ms\n",
      "353:\tlearn: 0.1574670\ttotal: 488ms\tremaining: 891ms\n",
      "354:\tlearn: 0.1572578\ttotal: 489ms\tremaining: 889ms\n",
      "355:\tlearn: 0.1570510\ttotal: 490ms\tremaining: 886ms\n",
      "356:\tlearn: 0.1566902\ttotal: 492ms\tremaining: 885ms\n",
      "357:\tlearn: 0.1564337\ttotal: 492ms\tremaining: 883ms\n",
      "358:\tlearn: 0.1560795\ttotal: 493ms\tremaining: 880ms\n",
      "359:\tlearn: 0.1558012\ttotal: 494ms\tremaining: 878ms\n",
      "360:\tlearn: 0.1553560\ttotal: 495ms\tremaining: 875ms\n",
      "361:\tlearn: 0.1550906\ttotal: 495ms\tremaining: 873ms\n",
      "362:\tlearn: 0.1548652\ttotal: 496ms\tremaining: 871ms\n",
      "363:\tlearn: 0.1545531\ttotal: 497ms\tremaining: 868ms\n"
     ]
    },
    {
     "name": "stdout",
     "output_type": "stream",
     "text": [
      "364:\tlearn: 0.1543151\ttotal: 500ms\tremaining: 870ms\n",
      "365:\tlearn: 0.1542806\ttotal: 501ms\tremaining: 867ms\n",
      "366:\tlearn: 0.1541517\ttotal: 501ms\tremaining: 865ms\n",
      "367:\tlearn: 0.1538971\ttotal: 502ms\tremaining: 863ms\n",
      "368:\tlearn: 0.1536353\ttotal: 503ms\tremaining: 860ms\n",
      "369:\tlearn: 0.1533089\ttotal: 504ms\tremaining: 858ms\n",
      "370:\tlearn: 0.1529135\ttotal: 505ms\tremaining: 856ms\n",
      "371:\tlearn: 0.1525971\ttotal: 505ms\tremaining: 853ms\n",
      "372:\tlearn: 0.1522724\ttotal: 506ms\tremaining: 851ms\n",
      "373:\tlearn: 0.1518716\ttotal: 507ms\tremaining: 849ms\n",
      "374:\tlearn: 0.1515787\ttotal: 508ms\tremaining: 847ms\n",
      "375:\tlearn: 0.1512378\ttotal: 509ms\tremaining: 844ms\n",
      "376:\tlearn: 0.1508323\ttotal: 509ms\tremaining: 842ms\n",
      "377:\tlearn: 0.1507614\ttotal: 510ms\tremaining: 840ms\n",
      "378:\tlearn: 0.1505732\ttotal: 511ms\tremaining: 837ms\n",
      "379:\tlearn: 0.1501792\ttotal: 512ms\tremaining: 835ms\n",
      "380:\tlearn: 0.1498027\ttotal: 513ms\tremaining: 833ms\n",
      "381:\tlearn: 0.1493305\ttotal: 513ms\tremaining: 831ms\n",
      "382:\tlearn: 0.1492221\ttotal: 514ms\tremaining: 828ms\n",
      "383:\tlearn: 0.1489378\ttotal: 515ms\tremaining: 826ms\n",
      "384:\tlearn: 0.1487554\ttotal: 516ms\tremaining: 824ms\n",
      "385:\tlearn: 0.1484977\ttotal: 517ms\tremaining: 822ms\n",
      "386:\tlearn: 0.1482550\ttotal: 518ms\tremaining: 820ms\n",
      "387:\tlearn: 0.1479046\ttotal: 519ms\tremaining: 818ms\n",
      "388:\tlearn: 0.1477067\ttotal: 519ms\tremaining: 816ms\n",
      "389:\tlearn: 0.1472907\ttotal: 520ms\tremaining: 814ms\n",
      "390:\tlearn: 0.1468836\ttotal: 521ms\tremaining: 812ms\n",
      "391:\tlearn: 0.1466551\ttotal: 522ms\tremaining: 810ms\n",
      "392:\tlearn: 0.1463632\ttotal: 523ms\tremaining: 808ms\n",
      "393:\tlearn: 0.1459680\ttotal: 524ms\tremaining: 806ms\n",
      "394:\tlearn: 0.1457620\ttotal: 525ms\tremaining: 803ms\n",
      "395:\tlearn: 0.1453812\ttotal: 525ms\tremaining: 801ms\n",
      "396:\tlearn: 0.1451430\ttotal: 526ms\tremaining: 799ms\n",
      "397:\tlearn: 0.1447979\ttotal: 527ms\tremaining: 797ms\n",
      "398:\tlearn: 0.1443555\ttotal: 528ms\tremaining: 795ms\n",
      "399:\tlearn: 0.1439206\ttotal: 529ms\tremaining: 793ms\n",
      "400:\tlearn: 0.1436656\ttotal: 529ms\tremaining: 791ms\n",
      "401:\tlearn: 0.1433829\ttotal: 530ms\tremaining: 789ms\n",
      "402:\tlearn: 0.1431151\ttotal: 531ms\tremaining: 787ms\n",
      "403:\tlearn: 0.1427425\ttotal: 532ms\tremaining: 785ms\n",
      "404:\tlearn: 0.1427065\ttotal: 533ms\tremaining: 783ms\n",
      "405:\tlearn: 0.1424120\ttotal: 534ms\tremaining: 781ms\n",
      "406:\tlearn: 0.1423881\ttotal: 535ms\tremaining: 779ms\n",
      "407:\tlearn: 0.1421477\ttotal: 535ms\tremaining: 777ms\n",
      "408:\tlearn: 0.1418387\ttotal: 537ms\tremaining: 775ms\n",
      "409:\tlearn: 0.1417217\ttotal: 537ms\tremaining: 773ms\n",
      "410:\tlearn: 0.1413735\ttotal: 538ms\tremaining: 771ms\n",
      "411:\tlearn: 0.1411951\ttotal: 539ms\tremaining: 769ms\n",
      "412:\tlearn: 0.1411021\ttotal: 540ms\tremaining: 767ms\n",
      "413:\tlearn: 0.1409022\ttotal: 541ms\tremaining: 765ms\n",
      "414:\tlearn: 0.1406841\ttotal: 541ms\tremaining: 763ms\n",
      "415:\tlearn: 0.1403859\ttotal: 542ms\tremaining: 761ms\n",
      "416:\tlearn: 0.1401925\ttotal: 543ms\tremaining: 759ms\n",
      "417:\tlearn: 0.1399028\ttotal: 544ms\tremaining: 757ms\n",
      "418:\tlearn: 0.1394779\ttotal: 545ms\tremaining: 755ms\n",
      "419:\tlearn: 0.1391363\ttotal: 546ms\tremaining: 754ms\n",
      "420:\tlearn: 0.1387676\ttotal: 547ms\tremaining: 752ms\n",
      "421:\tlearn: 0.1383257\ttotal: 548ms\tremaining: 750ms\n",
      "422:\tlearn: 0.1380514\ttotal: 548ms\tremaining: 748ms\n",
      "423:\tlearn: 0.1378240\ttotal: 549ms\tremaining: 746ms\n",
      "424:\tlearn: 0.1375873\ttotal: 550ms\tremaining: 744ms\n",
      "425:\tlearn: 0.1373152\ttotal: 551ms\tremaining: 742ms\n",
      "426:\tlearn: 0.1371473\ttotal: 552ms\tremaining: 740ms\n",
      "427:\tlearn: 0.1368919\ttotal: 553ms\tremaining: 739ms\n",
      "428:\tlearn: 0.1366748\ttotal: 554ms\tremaining: 737ms\n",
      "429:\tlearn: 0.1363734\ttotal: 555ms\tremaining: 735ms\n",
      "430:\tlearn: 0.1361862\ttotal: 555ms\tremaining: 733ms\n",
      "431:\tlearn: 0.1359871\ttotal: 556ms\tremaining: 732ms\n",
      "432:\tlearn: 0.1356320\ttotal: 557ms\tremaining: 730ms\n",
      "433:\tlearn: 0.1355483\ttotal: 558ms\tremaining: 728ms\n",
      "434:\tlearn: 0.1352769\ttotal: 559ms\tremaining: 726ms\n",
      "435:\tlearn: 0.1352477\ttotal: 560ms\tremaining: 724ms\n",
      "436:\tlearn: 0.1349249\ttotal: 560ms\tremaining: 722ms\n",
      "437:\tlearn: 0.1346581\ttotal: 561ms\tremaining: 720ms\n",
      "438:\tlearn: 0.1345001\ttotal: 562ms\tremaining: 718ms\n",
      "439:\tlearn: 0.1344700\ttotal: 563ms\tremaining: 717ms\n",
      "440:\tlearn: 0.1341230\ttotal: 564ms\tremaining: 715ms\n",
      "441:\tlearn: 0.1338784\ttotal: 565ms\tremaining: 713ms\n",
      "442:\tlearn: 0.1336677\ttotal: 566ms\tremaining: 711ms\n",
      "443:\tlearn: 0.1334517\ttotal: 567ms\tremaining: 709ms\n",
      "444:\tlearn: 0.1332474\ttotal: 567ms\tremaining: 708ms\n",
      "445:\tlearn: 0.1329924\ttotal: 568ms\tremaining: 706ms\n",
      "446:\tlearn: 0.1327010\ttotal: 569ms\tremaining: 704ms\n",
      "447:\tlearn: 0.1326743\ttotal: 570ms\tremaining: 703ms\n",
      "448:\tlearn: 0.1324386\ttotal: 571ms\tremaining: 701ms\n",
      "449:\tlearn: 0.1320567\ttotal: 572ms\tremaining: 699ms\n",
      "450:\tlearn: 0.1318743\ttotal: 573ms\tremaining: 697ms\n",
      "451:\tlearn: 0.1316027\ttotal: 573ms\tremaining: 695ms\n",
      "452:\tlearn: 0.1313330\ttotal: 574ms\tremaining: 693ms\n",
      "453:\tlearn: 0.1311737\ttotal: 575ms\tremaining: 692ms\n",
      "454:\tlearn: 0.1309615\ttotal: 576ms\tremaining: 690ms\n",
      "455:\tlearn: 0.1307368\ttotal: 577ms\tremaining: 688ms\n",
      "456:\tlearn: 0.1304178\ttotal: 578ms\tremaining: 686ms\n",
      "457:\tlearn: 0.1302719\ttotal: 580ms\tremaining: 686ms\n",
      "458:\tlearn: 0.1301116\ttotal: 580ms\tremaining: 684ms\n",
      "459:\tlearn: 0.1298888\ttotal: 581ms\tremaining: 682ms\n",
      "460:\tlearn: 0.1296675\ttotal: 582ms\tremaining: 681ms\n",
      "461:\tlearn: 0.1296551\ttotal: 583ms\tremaining: 679ms\n",
      "462:\tlearn: 0.1294351\ttotal: 584ms\tremaining: 678ms\n",
      "463:\tlearn: 0.1293237\ttotal: 585ms\tremaining: 676ms\n",
      "464:\tlearn: 0.1291305\ttotal: 586ms\tremaining: 674ms\n",
      "465:\tlearn: 0.1290665\ttotal: 587ms\tremaining: 672ms\n",
      "466:\tlearn: 0.1288894\ttotal: 587ms\tremaining: 670ms\n",
      "467:\tlearn: 0.1286597\ttotal: 588ms\tremaining: 669ms\n",
      "468:\tlearn: 0.1284350\ttotal: 589ms\tremaining: 667ms\n",
      "469:\tlearn: 0.1282873\ttotal: 590ms\tremaining: 665ms\n",
      "470:\tlearn: 0.1281416\ttotal: 591ms\tremaining: 664ms\n",
      "471:\tlearn: 0.1279040\ttotal: 592ms\tremaining: 662ms\n",
      "472:\tlearn: 0.1277365\ttotal: 593ms\tremaining: 661ms\n",
      "473:\tlearn: 0.1276304\ttotal: 594ms\tremaining: 659ms\n",
      "474:\tlearn: 0.1275069\ttotal: 595ms\tremaining: 658ms\n",
      "475:\tlearn: 0.1274201\ttotal: 596ms\tremaining: 656ms\n"
     ]
    },
    {
     "name": "stdout",
     "output_type": "stream",
     "text": [
      "476:\tlearn: 0.1271972\ttotal: 597ms\tremaining: 655ms\n",
      "477:\tlearn: 0.1270149\ttotal: 598ms\tremaining: 653ms\n",
      "478:\tlearn: 0.1267982\ttotal: 599ms\tremaining: 652ms\n",
      "479:\tlearn: 0.1266335\ttotal: 600ms\tremaining: 650ms\n",
      "480:\tlearn: 0.1263812\ttotal: 601ms\tremaining: 648ms\n",
      "481:\tlearn: 0.1261741\ttotal: 602ms\tremaining: 647ms\n",
      "482:\tlearn: 0.1260272\ttotal: 603ms\tremaining: 645ms\n",
      "483:\tlearn: 0.1259206\ttotal: 603ms\tremaining: 643ms\n",
      "484:\tlearn: 0.1258283\ttotal: 604ms\tremaining: 641ms\n",
      "485:\tlearn: 0.1256982\ttotal: 605ms\tremaining: 640ms\n",
      "486:\tlearn: 0.1254812\ttotal: 606ms\tremaining: 638ms\n",
      "487:\tlearn: 0.1252513\ttotal: 607ms\tremaining: 636ms\n",
      "488:\tlearn: 0.1250444\ttotal: 608ms\tremaining: 635ms\n",
      "489:\tlearn: 0.1248150\ttotal: 608ms\tremaining: 633ms\n",
      "490:\tlearn: 0.1246612\ttotal: 609ms\tremaining: 632ms\n",
      "491:\tlearn: 0.1244097\ttotal: 610ms\tremaining: 630ms\n",
      "492:\tlearn: 0.1241802\ttotal: 611ms\tremaining: 629ms\n",
      "493:\tlearn: 0.1240165\ttotal: 612ms\tremaining: 627ms\n",
      "494:\tlearn: 0.1237382\ttotal: 613ms\tremaining: 626ms\n",
      "495:\tlearn: 0.1234366\ttotal: 614ms\tremaining: 624ms\n",
      "496:\tlearn: 0.1231837\ttotal: 615ms\tremaining: 623ms\n",
      "497:\tlearn: 0.1229007\ttotal: 616ms\tremaining: 621ms\n",
      "498:\tlearn: 0.1226730\ttotal: 617ms\tremaining: 619ms\n",
      "499:\tlearn: 0.1224668\ttotal: 618ms\tremaining: 618ms\n",
      "500:\tlearn: 0.1221630\ttotal: 619ms\tremaining: 616ms\n",
      "501:\tlearn: 0.1218535\ttotal: 619ms\tremaining: 614ms\n",
      "502:\tlearn: 0.1216577\ttotal: 620ms\tremaining: 613ms\n",
      "503:\tlearn: 0.1212886\ttotal: 621ms\tremaining: 611ms\n",
      "504:\tlearn: 0.1210692\ttotal: 622ms\tremaining: 610ms\n",
      "505:\tlearn: 0.1208609\ttotal: 623ms\tremaining: 608ms\n",
      "506:\tlearn: 0.1208173\ttotal: 623ms\tremaining: 606ms\n",
      "507:\tlearn: 0.1206404\ttotal: 624ms\tremaining: 605ms\n",
      "508:\tlearn: 0.1204508\ttotal: 625ms\tremaining: 603ms\n",
      "509:\tlearn: 0.1203296\ttotal: 626ms\tremaining: 602ms\n",
      "510:\tlearn: 0.1200520\ttotal: 627ms\tremaining: 600ms\n",
      "511:\tlearn: 0.1198489\ttotal: 628ms\tremaining: 599ms\n",
      "512:\tlearn: 0.1198241\ttotal: 629ms\tremaining: 597ms\n",
      "513:\tlearn: 0.1196769\ttotal: 630ms\tremaining: 596ms\n",
      "514:\tlearn: 0.1193847\ttotal: 631ms\tremaining: 595ms\n",
      "515:\tlearn: 0.1192057\ttotal: 632ms\tremaining: 593ms\n",
      "516:\tlearn: 0.1189884\ttotal: 633ms\tremaining: 592ms\n",
      "517:\tlearn: 0.1188231\ttotal: 634ms\tremaining: 590ms\n",
      "518:\tlearn: 0.1186305\ttotal: 635ms\tremaining: 589ms\n",
      "519:\tlearn: 0.1183900\ttotal: 636ms\tremaining: 587ms\n",
      "520:\tlearn: 0.1182717\ttotal: 637ms\tremaining: 586ms\n",
      "521:\tlearn: 0.1182531\ttotal: 638ms\tremaining: 584ms\n",
      "522:\tlearn: 0.1182086\ttotal: 639ms\tremaining: 582ms\n",
      "523:\tlearn: 0.1179420\ttotal: 640ms\tremaining: 581ms\n",
      "524:\tlearn: 0.1177915\ttotal: 641ms\tremaining: 580ms\n",
      "525:\tlearn: 0.1176161\ttotal: 642ms\tremaining: 579ms\n",
      "526:\tlearn: 0.1174230\ttotal: 643ms\tremaining: 577ms\n",
      "527:\tlearn: 0.1171300\ttotal: 644ms\tremaining: 576ms\n",
      "528:\tlearn: 0.1169698\ttotal: 646ms\tremaining: 575ms\n",
      "529:\tlearn: 0.1166934\ttotal: 647ms\tremaining: 574ms\n",
      "530:\tlearn: 0.1166722\ttotal: 648ms\tremaining: 572ms\n",
      "531:\tlearn: 0.1165386\ttotal: 649ms\tremaining: 571ms\n",
      "532:\tlearn: 0.1163815\ttotal: 650ms\tremaining: 569ms\n",
      "533:\tlearn: 0.1161690\ttotal: 651ms\tremaining: 568ms\n",
      "534:\tlearn: 0.1159901\ttotal: 652ms\tremaining: 567ms\n",
      "535:\tlearn: 0.1157913\ttotal: 653ms\tremaining: 565ms\n",
      "536:\tlearn: 0.1156308\ttotal: 654ms\tremaining: 564ms\n",
      "537:\tlearn: 0.1156132\ttotal: 656ms\tremaining: 563ms\n",
      "538:\tlearn: 0.1154390\ttotal: 657ms\tremaining: 562ms\n",
      "539:\tlearn: 0.1152498\ttotal: 668ms\tremaining: 569ms\n",
      "540:\tlearn: 0.1149217\ttotal: 669ms\tremaining: 567ms\n",
      "541:\tlearn: 0.1148796\ttotal: 669ms\tremaining: 566ms\n",
      "542:\tlearn: 0.1148172\ttotal: 670ms\tremaining: 564ms\n",
      "543:\tlearn: 0.1146339\ttotal: 671ms\tremaining: 562ms\n",
      "544:\tlearn: 0.1144410\ttotal: 672ms\tremaining: 561ms\n",
      "545:\tlearn: 0.1142260\ttotal: 672ms\tremaining: 559ms\n",
      "546:\tlearn: 0.1140017\ttotal: 673ms\tremaining: 557ms\n",
      "547:\tlearn: 0.1137859\ttotal: 674ms\tremaining: 556ms\n",
      "548:\tlearn: 0.1136789\ttotal: 676ms\tremaining: 555ms\n",
      "549:\tlearn: 0.1134073\ttotal: 677ms\tremaining: 554ms\n",
      "550:\tlearn: 0.1131834\ttotal: 688ms\tremaining: 560ms\n",
      "551:\tlearn: 0.1129176\ttotal: 688ms\tremaining: 559ms\n",
      "552:\tlearn: 0.1127542\ttotal: 689ms\tremaining: 557ms\n",
      "553:\tlearn: 0.1125072\ttotal: 690ms\tremaining: 555ms\n",
      "554:\tlearn: 0.1123372\ttotal: 691ms\tremaining: 554ms\n",
      "555:\tlearn: 0.1122867\ttotal: 691ms\tremaining: 552ms\n"
     ]
    },
    {
     "name": "stdout",
     "output_type": "stream",
     "text": [
      "556:\tlearn: 0.1121437\ttotal: 700ms\tremaining: 557ms\n",
      "557:\tlearn: 0.1119376\ttotal: 701ms\tremaining: 555ms\n",
      "558:\tlearn: 0.1116742\ttotal: 702ms\tremaining: 554ms\n",
      "559:\tlearn: 0.1115274\ttotal: 703ms\tremaining: 553ms\n",
      "560:\tlearn: 0.1113401\ttotal: 704ms\tremaining: 551ms\n",
      "561:\tlearn: 0.1111890\ttotal: 705ms\tremaining: 550ms\n",
      "562:\tlearn: 0.1111390\ttotal: 706ms\tremaining: 548ms\n",
      "563:\tlearn: 0.1109329\ttotal: 707ms\tremaining: 547ms\n",
      "564:\tlearn: 0.1108069\ttotal: 708ms\tremaining: 545ms\n",
      "565:\tlearn: 0.1106254\ttotal: 709ms\tremaining: 543ms\n",
      "566:\tlearn: 0.1104684\ttotal: 710ms\tremaining: 542ms\n",
      "567:\tlearn: 0.1103126\ttotal: 710ms\tremaining: 540ms\n",
      "568:\tlearn: 0.1100538\ttotal: 712ms\tremaining: 539ms\n",
      "569:\tlearn: 0.1099320\ttotal: 716ms\tremaining: 540ms\n",
      "570:\tlearn: 0.1097711\ttotal: 717ms\tremaining: 539ms\n",
      "571:\tlearn: 0.1096615\ttotal: 718ms\tremaining: 538ms\n",
      "572:\tlearn: 0.1094103\ttotal: 720ms\tremaining: 536ms\n",
      "573:\tlearn: 0.1090383\ttotal: 721ms\tremaining: 535ms\n",
      "574:\tlearn: 0.1088632\ttotal: 722ms\tremaining: 534ms\n",
      "575:\tlearn: 0.1088341\ttotal: 723ms\tremaining: 532ms\n",
      "576:\tlearn: 0.1087026\ttotal: 724ms\tremaining: 531ms\n",
      "577:\tlearn: 0.1084055\ttotal: 725ms\tremaining: 529ms\n",
      "578:\tlearn: 0.1081708\ttotal: 725ms\tremaining: 528ms\n",
      "579:\tlearn: 0.1081281\ttotal: 726ms\tremaining: 526ms\n",
      "580:\tlearn: 0.1079232\ttotal: 727ms\tremaining: 524ms\n",
      "581:\tlearn: 0.1076772\ttotal: 729ms\tremaining: 523ms\n",
      "582:\tlearn: 0.1076355\ttotal: 730ms\tremaining: 522ms\n",
      "583:\tlearn: 0.1075068\ttotal: 731ms\tremaining: 521ms\n",
      "584:\tlearn: 0.1074113\ttotal: 732ms\tremaining: 519ms\n",
      "585:\tlearn: 0.1072858\ttotal: 732ms\tremaining: 517ms\n",
      "586:\tlearn: 0.1071958\ttotal: 733ms\tremaining: 516ms\n",
      "587:\tlearn: 0.1071688\ttotal: 734ms\tremaining: 515ms\n",
      "588:\tlearn: 0.1070242\ttotal: 735ms\tremaining: 513ms\n",
      "589:\tlearn: 0.1068360\ttotal: 736ms\tremaining: 511ms\n",
      "590:\tlearn: 0.1067019\ttotal: 737ms\tremaining: 510ms\n",
      "591:\tlearn: 0.1066063\ttotal: 738ms\tremaining: 508ms\n",
      "592:\tlearn: 0.1065270\ttotal: 739ms\tremaining: 507ms\n",
      "593:\tlearn: 0.1063185\ttotal: 740ms\tremaining: 506ms\n",
      "594:\tlearn: 0.1061535\ttotal: 741ms\tremaining: 504ms\n",
      "595:\tlearn: 0.1059221\ttotal: 742ms\tremaining: 503ms\n",
      "596:\tlearn: 0.1058610\ttotal: 742ms\tremaining: 501ms\n",
      "597:\tlearn: 0.1056964\ttotal: 743ms\tremaining: 500ms\n",
      "598:\tlearn: 0.1055026\ttotal: 744ms\tremaining: 498ms\n",
      "599:\tlearn: 0.1053900\ttotal: 745ms\tremaining: 497ms\n",
      "600:\tlearn: 0.1051450\ttotal: 746ms\tremaining: 495ms\n",
      "601:\tlearn: 0.1049132\ttotal: 747ms\tremaining: 494ms\n",
      "602:\tlearn: 0.1047540\ttotal: 749ms\tremaining: 493ms\n",
      "603:\tlearn: 0.1045583\ttotal: 750ms\tremaining: 492ms\n",
      "604:\tlearn: 0.1043626\ttotal: 751ms\tremaining: 490ms\n",
      "605:\tlearn: 0.1040820\ttotal: 752ms\tremaining: 489ms\n",
      "606:\tlearn: 0.1039006\ttotal: 753ms\tremaining: 488ms\n",
      "607:\tlearn: 0.1037379\ttotal: 754ms\tremaining: 486ms\n",
      "608:\tlearn: 0.1035552\ttotal: 755ms\tremaining: 485ms\n",
      "609:\tlearn: 0.1034067\ttotal: 756ms\tremaining: 483ms\n",
      "610:\tlearn: 0.1032997\ttotal: 757ms\tremaining: 482ms\n",
      "611:\tlearn: 0.1031475\ttotal: 757ms\tremaining: 480ms\n",
      "612:\tlearn: 0.1030556\ttotal: 758ms\tremaining: 479ms\n",
      "613:\tlearn: 0.1029039\ttotal: 759ms\tremaining: 477ms\n",
      "614:\tlearn: 0.1027505\ttotal: 760ms\tremaining: 476ms\n",
      "615:\tlearn: 0.1025281\ttotal: 761ms\tremaining: 475ms\n",
      "616:\tlearn: 0.1023753\ttotal: 762ms\tremaining: 473ms\n",
      "617:\tlearn: 0.1022229\ttotal: 763ms\tremaining: 472ms\n",
      "618:\tlearn: 0.1020745\ttotal: 765ms\tremaining: 471ms\n",
      "619:\tlearn: 0.1020571\ttotal: 766ms\tremaining: 469ms\n",
      "620:\tlearn: 0.1019735\ttotal: 767ms\tremaining: 468ms\n",
      "621:\tlearn: 0.1017663\ttotal: 767ms\tremaining: 466ms\n",
      "622:\tlearn: 0.1015685\ttotal: 768ms\tremaining: 465ms\n",
      "623:\tlearn: 0.1013197\ttotal: 769ms\tremaining: 463ms\n",
      "624:\tlearn: 0.1011273\ttotal: 770ms\tremaining: 462ms\n",
      "625:\tlearn: 0.1009223\ttotal: 771ms\tremaining: 460ms\n",
      "626:\tlearn: 0.1007671\ttotal: 772ms\tremaining: 459ms\n",
      "627:\tlearn: 0.1007476\ttotal: 772ms\tremaining: 458ms\n",
      "628:\tlearn: 0.1004994\ttotal: 773ms\tremaining: 456ms\n",
      "629:\tlearn: 0.1003956\ttotal: 780ms\tremaining: 458ms\n",
      "630:\tlearn: 0.1003478\ttotal: 781ms\tremaining: 457ms\n",
      "631:\tlearn: 0.1000794\ttotal: 783ms\tremaining: 456ms\n",
      "632:\tlearn: 0.1000640\ttotal: 784ms\tremaining: 454ms\n",
      "633:\tlearn: 0.0999248\ttotal: 784ms\tremaining: 453ms\n",
      "634:\tlearn: 0.0996956\ttotal: 785ms\tremaining: 451ms\n",
      "635:\tlearn: 0.0994656\ttotal: 786ms\tremaining: 450ms\n",
      "636:\tlearn: 0.0992360\ttotal: 787ms\tremaining: 448ms\n"
     ]
    },
    {
     "name": "stdout",
     "output_type": "stream",
     "text": [
      "637:\tlearn: 0.0990788\ttotal: 788ms\tremaining: 447ms\n",
      "638:\tlearn: 0.0989607\ttotal: 789ms\tremaining: 446ms\n",
      "639:\tlearn: 0.0988430\ttotal: 791ms\tremaining: 445ms\n",
      "640:\tlearn: 0.0987217\ttotal: 791ms\tremaining: 443ms\n",
      "641:\tlearn: 0.0986837\ttotal: 792ms\tremaining: 442ms\n",
      "642:\tlearn: 0.0985570\ttotal: 793ms\tremaining: 440ms\n",
      "643:\tlearn: 0.0983809\ttotal: 794ms\tremaining: 439ms\n",
      "644:\tlearn: 0.0982551\ttotal: 795ms\tremaining: 438ms\n",
      "645:\tlearn: 0.0981979\ttotal: 796ms\tremaining: 436ms\n",
      "646:\tlearn: 0.0981835\ttotal: 797ms\tremaining: 435ms\n",
      "647:\tlearn: 0.0980433\ttotal: 797ms\tremaining: 433ms\n",
      "648:\tlearn: 0.0978884\ttotal: 798ms\tremaining: 432ms\n",
      "649:\tlearn: 0.0976336\ttotal: 799ms\tremaining: 430ms\n",
      "650:\tlearn: 0.0975260\ttotal: 800ms\tremaining: 429ms\n",
      "651:\tlearn: 0.0974242\ttotal: 800ms\tremaining: 427ms\n",
      "652:\tlearn: 0.0974102\ttotal: 801ms\tremaining: 426ms\n",
      "653:\tlearn: 0.0972586\ttotal: 802ms\tremaining: 424ms\n",
      "654:\tlearn: 0.0970903\ttotal: 803ms\tremaining: 423ms\n",
      "655:\tlearn: 0.0969226\ttotal: 804ms\tremaining: 421ms\n",
      "656:\tlearn: 0.0968034\ttotal: 804ms\tremaining: 420ms\n",
      "657:\tlearn: 0.0967760\ttotal: 807ms\tremaining: 419ms\n",
      "658:\tlearn: 0.0966840\ttotal: 808ms\tremaining: 418ms\n",
      "659:\tlearn: 0.0964836\ttotal: 809ms\tremaining: 417ms\n",
      "660:\tlearn: 0.0963076\ttotal: 810ms\tremaining: 415ms\n",
      "661:\tlearn: 0.0961948\ttotal: 810ms\tremaining: 414ms\n",
      "662:\tlearn: 0.0960898\ttotal: 811ms\tremaining: 412ms\n",
      "663:\tlearn: 0.0959502\ttotal: 812ms\tremaining: 411ms\n",
      "664:\tlearn: 0.0957802\ttotal: 813ms\tremaining: 409ms\n",
      "665:\tlearn: 0.0956847\ttotal: 814ms\tremaining: 408ms\n",
      "666:\tlearn: 0.0955599\ttotal: 815ms\tremaining: 407ms\n",
      "667:\tlearn: 0.0953930\ttotal: 816ms\tremaining: 405ms\n",
      "668:\tlearn: 0.0952230\ttotal: 817ms\tremaining: 404ms\n",
      "669:\tlearn: 0.0950677\ttotal: 817ms\tremaining: 403ms\n",
      "670:\tlearn: 0.0949736\ttotal: 818ms\tremaining: 401ms\n",
      "671:\tlearn: 0.0949558\ttotal: 819ms\tremaining: 400ms\n",
      "672:\tlearn: 0.0948143\ttotal: 820ms\tremaining: 398ms\n",
      "673:\tlearn: 0.0945665\ttotal: 821ms\tremaining: 397ms\n",
      "674:\tlearn: 0.0944510\ttotal: 822ms\tremaining: 396ms\n",
      "675:\tlearn: 0.0943494\ttotal: 823ms\tremaining: 394ms\n",
      "676:\tlearn: 0.0943150\ttotal: 823ms\tremaining: 393ms\n",
      "677:\tlearn: 0.0941960\ttotal: 824ms\tremaining: 391ms\n",
      "678:\tlearn: 0.0939434\ttotal: 825ms\tremaining: 390ms\n",
      "679:\tlearn: 0.0938454\ttotal: 826ms\tremaining: 389ms\n",
      "680:\tlearn: 0.0937651\ttotal: 827ms\tremaining: 387ms\n",
      "681:\tlearn: 0.0936382\ttotal: 827ms\tremaining: 386ms\n",
      "682:\tlearn: 0.0934968\ttotal: 829ms\tremaining: 385ms\n",
      "683:\tlearn: 0.0932333\ttotal: 830ms\tremaining: 383ms\n",
      "684:\tlearn: 0.0931197\ttotal: 830ms\tremaining: 382ms\n",
      "685:\tlearn: 0.0930256\ttotal: 831ms\tremaining: 380ms\n",
      "686:\tlearn: 0.0928903\ttotal: 832ms\tremaining: 379ms\n",
      "687:\tlearn: 0.0926857\ttotal: 833ms\tremaining: 378ms\n",
      "688:\tlearn: 0.0925772\ttotal: 834ms\tremaining: 376ms\n",
      "689:\tlearn: 0.0923636\ttotal: 834ms\tremaining: 375ms\n",
      "690:\tlearn: 0.0922581\ttotal: 835ms\tremaining: 373ms\n",
      "691:\tlearn: 0.0920519\ttotal: 836ms\tremaining: 372ms\n",
      "692:\tlearn: 0.0920399\ttotal: 837ms\tremaining: 371ms\n",
      "693:\tlearn: 0.0919202\ttotal: 838ms\tremaining: 370ms\n",
      "694:\tlearn: 0.0918112\ttotal: 839ms\tremaining: 368ms\n",
      "695:\tlearn: 0.0916477\ttotal: 840ms\tremaining: 367ms\n",
      "696:\tlearn: 0.0914909\ttotal: 841ms\tremaining: 365ms\n",
      "697:\tlearn: 0.0913021\ttotal: 842ms\tremaining: 364ms\n",
      "698:\tlearn: 0.0911223\ttotal: 842ms\tremaining: 363ms\n",
      "699:\tlearn: 0.0909425\ttotal: 843ms\tremaining: 361ms\n",
      "700:\tlearn: 0.0908399\ttotal: 844ms\tremaining: 360ms\n",
      "701:\tlearn: 0.0906266\ttotal: 845ms\tremaining: 359ms\n",
      "702:\tlearn: 0.0904654\ttotal: 846ms\tremaining: 357ms\n",
      "703:\tlearn: 0.0903825\ttotal: 847ms\tremaining: 356ms\n",
      "704:\tlearn: 0.0902746\ttotal: 847ms\tremaining: 355ms\n",
      "705:\tlearn: 0.0901409\ttotal: 848ms\tremaining: 353ms\n",
      "706:\tlearn: 0.0899070\ttotal: 849ms\tremaining: 352ms\n",
      "707:\tlearn: 0.0897924\ttotal: 850ms\tremaining: 351ms\n",
      "708:\tlearn: 0.0896688\ttotal: 851ms\tremaining: 349ms\n",
      "709:\tlearn: 0.0895081\ttotal: 852ms\tremaining: 348ms\n",
      "710:\tlearn: 0.0894547\ttotal: 853ms\tremaining: 347ms\n",
      "711:\tlearn: 0.0894442\ttotal: 853ms\tremaining: 345ms\n",
      "712:\tlearn: 0.0892257\ttotal: 854ms\tremaining: 344ms\n",
      "713:\tlearn: 0.0890246\ttotal: 855ms\tremaining: 343ms\n",
      "714:\tlearn: 0.0889389\ttotal: 856ms\tremaining: 341ms\n",
      "715:\tlearn: 0.0888431\ttotal: 857ms\tremaining: 340ms\n",
      "716:\tlearn: 0.0886424\ttotal: 858ms\tremaining: 338ms\n",
      "717:\tlearn: 0.0885406\ttotal: 858ms\tremaining: 337ms\n",
      "718:\tlearn: 0.0884573\ttotal: 859ms\tremaining: 336ms\n",
      "719:\tlearn: 0.0883003\ttotal: 860ms\tremaining: 335ms\n",
      "720:\tlearn: 0.0881773\ttotal: 861ms\tremaining: 333ms\n",
      "721:\tlearn: 0.0880968\ttotal: 862ms\tremaining: 332ms\n",
      "722:\tlearn: 0.0880076\ttotal: 863ms\tremaining: 330ms\n",
      "723:\tlearn: 0.0878433\ttotal: 863ms\tremaining: 329ms\n",
      "724:\tlearn: 0.0877542\ttotal: 864ms\tremaining: 328ms\n",
      "725:\tlearn: 0.0875816\ttotal: 865ms\tremaining: 327ms\n",
      "726:\tlearn: 0.0874636\ttotal: 866ms\tremaining: 325ms\n",
      "727:\tlearn: 0.0872490\ttotal: 867ms\tremaining: 324ms\n",
      "728:\tlearn: 0.0870956\ttotal: 868ms\tremaining: 323ms\n",
      "729:\tlearn: 0.0870379\ttotal: 870ms\tremaining: 322ms\n",
      "730:\tlearn: 0.0869553\ttotal: 871ms\tremaining: 321ms\n",
      "731:\tlearn: 0.0868736\ttotal: 872ms\tremaining: 319ms\n",
      "732:\tlearn: 0.0867521\ttotal: 873ms\tremaining: 318ms\n",
      "733:\tlearn: 0.0867002\ttotal: 875ms\tremaining: 317ms\n",
      "734:\tlearn: 0.0866031\ttotal: 876ms\tremaining: 316ms\n",
      "735:\tlearn: 0.0864827\ttotal: 876ms\tremaining: 314ms\n",
      "736:\tlearn: 0.0863925\ttotal: 877ms\tremaining: 313ms\n",
      "737:\tlearn: 0.0863785\ttotal: 878ms\tremaining: 312ms\n",
      "738:\tlearn: 0.0862268\ttotal: 879ms\tremaining: 310ms\n",
      "739:\tlearn: 0.0861468\ttotal: 880ms\tremaining: 309ms\n",
      "740:\tlearn: 0.0860688\ttotal: 881ms\tremaining: 308ms\n",
      "741:\tlearn: 0.0859101\ttotal: 881ms\tremaining: 306ms\n",
      "742:\tlearn: 0.0857315\ttotal: 882ms\tremaining: 305ms\n",
      "743:\tlearn: 0.0856754\ttotal: 883ms\tremaining: 304ms\n",
      "744:\tlearn: 0.0855058\ttotal: 884ms\tremaining: 303ms\n",
      "745:\tlearn: 0.0854336\ttotal: 885ms\tremaining: 301ms\n",
      "746:\tlearn: 0.0853393\ttotal: 886ms\tremaining: 300ms\n",
      "747:\tlearn: 0.0852679\ttotal: 887ms\tremaining: 299ms\n",
      "748:\tlearn: 0.0850606\ttotal: 888ms\tremaining: 298ms\n"
     ]
    },
    {
     "name": "stdout",
     "output_type": "stream",
     "text": [
      "749:\tlearn: 0.0850200\ttotal: 890ms\tremaining: 297ms\n",
      "750:\tlearn: 0.0849559\ttotal: 891ms\tremaining: 295ms\n",
      "751:\tlearn: 0.0848490\ttotal: 892ms\tremaining: 294ms\n",
      "752:\tlearn: 0.0847117\ttotal: 894ms\tremaining: 293ms\n",
      "753:\tlearn: 0.0846025\ttotal: 895ms\tremaining: 292ms\n",
      "754:\tlearn: 0.0845027\ttotal: 895ms\tremaining: 291ms\n",
      "755:\tlearn: 0.0844075\ttotal: 897ms\tremaining: 289ms\n",
      "756:\tlearn: 0.0843197\ttotal: 898ms\tremaining: 288ms\n",
      "757:\tlearn: 0.0841373\ttotal: 899ms\tremaining: 287ms\n",
      "758:\tlearn: 0.0840087\ttotal: 900ms\tremaining: 286ms\n",
      "759:\tlearn: 0.0838442\ttotal: 902ms\tremaining: 285ms\n",
      "760:\tlearn: 0.0837741\ttotal: 903ms\tremaining: 284ms\n",
      "761:\tlearn: 0.0836512\ttotal: 904ms\tremaining: 282ms\n",
      "762:\tlearn: 0.0835394\ttotal: 905ms\tremaining: 281ms\n",
      "763:\tlearn: 0.0833605\ttotal: 906ms\tremaining: 280ms\n",
      "764:\tlearn: 0.0832355\ttotal: 907ms\tremaining: 279ms\n",
      "765:\tlearn: 0.0831552\ttotal: 908ms\tremaining: 277ms\n",
      "766:\tlearn: 0.0831356\ttotal: 909ms\tremaining: 276ms\n",
      "767:\tlearn: 0.0830317\ttotal: 910ms\tremaining: 275ms\n",
      "768:\tlearn: 0.0829772\ttotal: 911ms\tremaining: 274ms\n",
      "769:\tlearn: 0.0828620\ttotal: 913ms\tremaining: 273ms\n",
      "770:\tlearn: 0.0827705\ttotal: 914ms\tremaining: 271ms\n",
      "771:\tlearn: 0.0826758\ttotal: 915ms\tremaining: 270ms\n",
      "772:\tlearn: 0.0826207\ttotal: 915ms\tremaining: 269ms\n",
      "773:\tlearn: 0.0825445\ttotal: 916ms\tremaining: 267ms\n",
      "774:\tlearn: 0.0824825\ttotal: 917ms\tremaining: 266ms\n",
      "775:\tlearn: 0.0823524\ttotal: 918ms\tremaining: 265ms\n",
      "776:\tlearn: 0.0821684\ttotal: 920ms\tremaining: 264ms\n",
      "777:\tlearn: 0.0820310\ttotal: 921ms\tremaining: 263ms\n",
      "778:\tlearn: 0.0819317\ttotal: 922ms\tremaining: 262ms\n",
      "779:\tlearn: 0.0818329\ttotal: 923ms\tremaining: 260ms\n",
      "780:\tlearn: 0.0817571\ttotal: 924ms\tremaining: 259ms\n",
      "781:\tlearn: 0.0817319\ttotal: 935ms\tremaining: 261ms\n",
      "782:\tlearn: 0.0816682\ttotal: 936ms\tremaining: 259ms\n",
      "783:\tlearn: 0.0816086\ttotal: 937ms\tremaining: 258ms\n",
      "784:\tlearn: 0.0814639\ttotal: 938ms\tremaining: 257ms\n",
      "785:\tlearn: 0.0813769\ttotal: 939ms\tremaining: 256ms\n",
      "786:\tlearn: 0.0813648\ttotal: 940ms\tremaining: 255ms\n",
      "787:\tlearn: 0.0811850\ttotal: 942ms\tremaining: 253ms\n",
      "788:\tlearn: 0.0810724\ttotal: 943ms\tremaining: 252ms\n",
      "789:\tlearn: 0.0809519\ttotal: 944ms\tremaining: 251ms\n",
      "790:\tlearn: 0.0808862\ttotal: 945ms\tremaining: 250ms\n",
      "791:\tlearn: 0.0807520\ttotal: 946ms\tremaining: 249ms\n",
      "792:\tlearn: 0.0806020\ttotal: 947ms\tremaining: 247ms\n",
      "793:\tlearn: 0.0804271\ttotal: 948ms\tremaining: 246ms\n",
      "794:\tlearn: 0.0803274\ttotal: 949ms\tremaining: 245ms\n",
      "795:\tlearn: 0.0802034\ttotal: 950ms\tremaining: 244ms\n",
      "796:\tlearn: 0.0799671\ttotal: 952ms\tremaining: 242ms\n",
      "797:\tlearn: 0.0799117\ttotal: 953ms\tremaining: 241ms\n",
      "798:\tlearn: 0.0798470\ttotal: 954ms\tremaining: 240ms\n",
      "799:\tlearn: 0.0797939\ttotal: 955ms\tremaining: 239ms\n",
      "800:\tlearn: 0.0796834\ttotal: 956ms\tremaining: 238ms\n",
      "801:\tlearn: 0.0796164\ttotal: 957ms\tremaining: 236ms\n",
      "802:\tlearn: 0.0794463\ttotal: 958ms\tremaining: 235ms\n",
      "803:\tlearn: 0.0792651\ttotal: 959ms\tremaining: 234ms\n",
      "804:\tlearn: 0.0791931\ttotal: 960ms\tremaining: 232ms\n",
      "805:\tlearn: 0.0790830\ttotal: 961ms\tremaining: 231ms\n",
      "806:\tlearn: 0.0789083\ttotal: 961ms\tremaining: 230ms\n",
      "807:\tlearn: 0.0788588\ttotal: 962ms\tremaining: 229ms\n",
      "808:\tlearn: 0.0788454\ttotal: 966ms\tremaining: 228ms\n",
      "809:\tlearn: 0.0786505\ttotal: 967ms\tremaining: 227ms\n",
      "810:\tlearn: 0.0786011\ttotal: 968ms\tremaining: 226ms\n",
      "811:\tlearn: 0.0785345\ttotal: 969ms\tremaining: 224ms\n",
      "812:\tlearn: 0.0785106\ttotal: 971ms\tremaining: 223ms\n",
      "813:\tlearn: 0.0783917\ttotal: 972ms\tremaining: 222ms\n",
      "814:\tlearn: 0.0782468\ttotal: 973ms\tremaining: 221ms\n",
      "815:\tlearn: 0.0780692\ttotal: 975ms\tremaining: 220ms\n",
      "816:\tlearn: 0.0780034\ttotal: 975ms\tremaining: 218ms\n",
      "817:\tlearn: 0.0779150\ttotal: 977ms\tremaining: 217ms\n",
      "818:\tlearn: 0.0777416\ttotal: 978ms\tremaining: 216ms\n",
      "819:\tlearn: 0.0775116\ttotal: 979ms\tremaining: 215ms\n",
      "820:\tlearn: 0.0774449\ttotal: 980ms\tremaining: 214ms\n"
     ]
    },
    {
     "name": "stdout",
     "output_type": "stream",
     "text": [
      "821:\tlearn: 0.0773792\ttotal: 981ms\tremaining: 212ms\n",
      "822:\tlearn: 0.0772794\ttotal: 982ms\tremaining: 211ms\n",
      "823:\tlearn: 0.0771597\ttotal: 984ms\tremaining: 210ms\n",
      "824:\tlearn: 0.0770929\ttotal: 985ms\tremaining: 209ms\n",
      "825:\tlearn: 0.0769988\ttotal: 986ms\tremaining: 208ms\n",
      "826:\tlearn: 0.0769676\ttotal: 986ms\tremaining: 206ms\n",
      "827:\tlearn: 0.0768988\ttotal: 988ms\tremaining: 205ms\n",
      "828:\tlearn: 0.0768786\ttotal: 988ms\tremaining: 204ms\n",
      "829:\tlearn: 0.0767774\ttotal: 989ms\tremaining: 203ms\n",
      "830:\tlearn: 0.0767645\ttotal: 990ms\tremaining: 201ms\n",
      "831:\tlearn: 0.0765849\ttotal: 991ms\tremaining: 200ms\n",
      "832:\tlearn: 0.0765732\ttotal: 992ms\tremaining: 199ms\n",
      "833:\tlearn: 0.0765112\ttotal: 993ms\tremaining: 198ms\n",
      "834:\tlearn: 0.0764638\ttotal: 994ms\tremaining: 196ms\n",
      "835:\tlearn: 0.0764060\ttotal: 995ms\tremaining: 195ms\n",
      "836:\tlearn: 0.0762760\ttotal: 997ms\tremaining: 194ms\n",
      "837:\tlearn: 0.0761212\ttotal: 999ms\tremaining: 193ms\n",
      "838:\tlearn: 0.0760129\ttotal: 1000ms\tremaining: 192ms\n",
      "839:\tlearn: 0.0759530\ttotal: 1s\tremaining: 191ms\n",
      "840:\tlearn: 0.0757636\ttotal: 1s\tremaining: 189ms\n",
      "841:\tlearn: 0.0756494\ttotal: 1s\tremaining: 188ms\n",
      "842:\tlearn: 0.0754974\ttotal: 1s\tremaining: 187ms\n",
      "843:\tlearn: 0.0754205\ttotal: 1s\tremaining: 186ms\n",
      "844:\tlearn: 0.0753288\ttotal: 1s\tremaining: 184ms\n",
      "845:\tlearn: 0.0751868\ttotal: 1.01s\tremaining: 183ms\n",
      "846:\tlearn: 0.0751654\ttotal: 1.01s\tremaining: 182ms\n",
      "847:\tlearn: 0.0751069\ttotal: 1.01s\tremaining: 181ms\n",
      "848:\tlearn: 0.0750108\ttotal: 1.01s\tremaining: 179ms\n",
      "849:\tlearn: 0.0748796\ttotal: 1.01s\tremaining: 178ms\n",
      "850:\tlearn: 0.0747610\ttotal: 1.01s\tremaining: 177ms\n",
      "851:\tlearn: 0.0746586\ttotal: 1.01s\tremaining: 176ms\n",
      "852:\tlearn: 0.0745994\ttotal: 1.01s\tremaining: 174ms\n",
      "853:\tlearn: 0.0745744\ttotal: 1.01s\tremaining: 173ms\n",
      "854:\tlearn: 0.0745018\ttotal: 1.01s\tremaining: 172ms\n",
      "855:\tlearn: 0.0744310\ttotal: 1.01s\tremaining: 171ms\n",
      "856:\tlearn: 0.0743075\ttotal: 1.01s\tremaining: 169ms\n",
      "857:\tlearn: 0.0742642\ttotal: 1.02s\tremaining: 168ms\n",
      "858:\tlearn: 0.0742031\ttotal: 1.02s\tremaining: 167ms\n",
      "859:\tlearn: 0.0741653\ttotal: 1.02s\tremaining: 166ms\n",
      "860:\tlearn: 0.0740790\ttotal: 1.02s\tremaining: 165ms\n",
      "861:\tlearn: 0.0739235\ttotal: 1.02s\tremaining: 163ms\n",
      "862:\tlearn: 0.0738688\ttotal: 1.02s\tremaining: 162ms\n",
      "863:\tlearn: 0.0738155\ttotal: 1.02s\tremaining: 161ms\n",
      "864:\tlearn: 0.0736571\ttotal: 1.02s\tremaining: 160ms\n",
      "865:\tlearn: 0.0735620\ttotal: 1.02s\tremaining: 158ms\n",
      "866:\tlearn: 0.0734014\ttotal: 1.02s\tremaining: 157ms\n",
      "867:\tlearn: 0.0732588\ttotal: 1.02s\tremaining: 156ms\n",
      "868:\tlearn: 0.0731877\ttotal: 1.03s\tremaining: 155ms\n",
      "869:\tlearn: 0.0730306\ttotal: 1.03s\tremaining: 153ms\n",
      "870:\tlearn: 0.0729140\ttotal: 1.03s\tremaining: 152ms\n",
      "871:\tlearn: 0.0727608\ttotal: 1.03s\tremaining: 151ms\n",
      "872:\tlearn: 0.0725944\ttotal: 1.03s\tremaining: 150ms\n",
      "873:\tlearn: 0.0725028\ttotal: 1.03s\tremaining: 149ms\n",
      "874:\tlearn: 0.0724434\ttotal: 1.03s\tremaining: 147ms\n",
      "875:\tlearn: 0.0723387\ttotal: 1.03s\tremaining: 146ms\n",
      "876:\tlearn: 0.0721835\ttotal: 1.03s\tremaining: 145ms\n",
      "877:\tlearn: 0.0721706\ttotal: 1.03s\tremaining: 144ms\n",
      "878:\tlearn: 0.0720914\ttotal: 1.03s\tremaining: 143ms\n",
      "879:\tlearn: 0.0719848\ttotal: 1.04s\tremaining: 141ms\n",
      "880:\tlearn: 0.0718541\ttotal: 1.04s\tremaining: 140ms\n",
      "881:\tlearn: 0.0717338\ttotal: 1.04s\tremaining: 139ms\n",
      "882:\tlearn: 0.0716048\ttotal: 1.04s\tremaining: 138ms\n",
      "883:\tlearn: 0.0715337\ttotal: 1.04s\tremaining: 136ms\n",
      "884:\tlearn: 0.0714381\ttotal: 1.04s\tremaining: 135ms\n",
      "885:\tlearn: 0.0713949\ttotal: 1.04s\tremaining: 134ms\n",
      "886:\tlearn: 0.0713351\ttotal: 1.04s\tremaining: 133ms\n",
      "887:\tlearn: 0.0711555\ttotal: 1.04s\tremaining: 132ms\n",
      "888:\tlearn: 0.0711099\ttotal: 1.04s\tremaining: 130ms\n",
      "889:\tlearn: 0.0709617\ttotal: 1.04s\tremaining: 129ms\n",
      "890:\tlearn: 0.0708432\ttotal: 1.04s\tremaining: 128ms\n",
      "891:\tlearn: 0.0707617\ttotal: 1.05s\tremaining: 127ms\n",
      "892:\tlearn: 0.0705463\ttotal: 1.05s\tremaining: 125ms\n",
      "893:\tlearn: 0.0704380\ttotal: 1.05s\tremaining: 124ms\n",
      "894:\tlearn: 0.0702937\ttotal: 1.05s\tremaining: 123ms\n",
      "895:\tlearn: 0.0702232\ttotal: 1.05s\tremaining: 122ms\n",
      "896:\tlearn: 0.0701051\ttotal: 1.05s\tremaining: 121ms\n",
      "897:\tlearn: 0.0700454\ttotal: 1.05s\tremaining: 119ms\n",
      "898:\tlearn: 0.0700337\ttotal: 1.05s\tremaining: 118ms\n",
      "899:\tlearn: 0.0699259\ttotal: 1.05s\tremaining: 117ms\n",
      "900:\tlearn: 0.0697967\ttotal: 1.05s\tremaining: 116ms\n",
      "901:\tlearn: 0.0697868\ttotal: 1.05s\tremaining: 115ms\n",
      "902:\tlearn: 0.0696984\ttotal: 1.05s\tremaining: 113ms\n",
      "903:\tlearn: 0.0696288\ttotal: 1.06s\tremaining: 112ms\n",
      "904:\tlearn: 0.0694519\ttotal: 1.06s\tremaining: 111ms\n",
      "905:\tlearn: 0.0693442\ttotal: 1.06s\tremaining: 110ms\n",
      "906:\tlearn: 0.0692869\ttotal: 1.06s\tremaining: 109ms\n",
      "907:\tlearn: 0.0692317\ttotal: 1.06s\tremaining: 107ms\n",
      "908:\tlearn: 0.0691251\ttotal: 1.06s\tremaining: 106ms\n",
      "909:\tlearn: 0.0689541\ttotal: 1.06s\tremaining: 105ms\n",
      "910:\tlearn: 0.0689028\ttotal: 1.06s\tremaining: 104ms\n",
      "911:\tlearn: 0.0687732\ttotal: 1.06s\tremaining: 103ms\n",
      "912:\tlearn: 0.0687220\ttotal: 1.06s\tremaining: 101ms\n",
      "913:\tlearn: 0.0686987\ttotal: 1.06s\tremaining: 100ms\n",
      "914:\tlearn: 0.0686077\ttotal: 1.06s\tremaining: 98.9ms\n",
      "915:\tlearn: 0.0685341\ttotal: 1.06s\tremaining: 97.7ms\n",
      "916:\tlearn: 0.0683847\ttotal: 1.07s\tremaining: 96.6ms\n",
      "917:\tlearn: 0.0683309\ttotal: 1.07s\tremaining: 95.4ms\n",
      "918:\tlearn: 0.0682115\ttotal: 1.07s\tremaining: 94.2ms\n",
      "919:\tlearn: 0.0681993\ttotal: 1.07s\tremaining: 93ms\n",
      "920:\tlearn: 0.0680770\ttotal: 1.07s\tremaining: 91.8ms\n",
      "921:\tlearn: 0.0680121\ttotal: 1.07s\tremaining: 90.6ms\n",
      "922:\tlearn: 0.0679620\ttotal: 1.07s\tremaining: 89.4ms\n",
      "923:\tlearn: 0.0678597\ttotal: 1.07s\tremaining: 88.2ms\n",
      "924:\tlearn: 0.0677768\ttotal: 1.07s\tremaining: 87ms\n",
      "925:\tlearn: 0.0676579\ttotal: 1.07s\tremaining: 85.8ms\n",
      "926:\tlearn: 0.0675928\ttotal: 1.07s\tremaining: 84.6ms\n",
      "927:\tlearn: 0.0675833\ttotal: 1.07s\tremaining: 83.5ms\n",
      "928:\tlearn: 0.0674549\ttotal: 1.08s\tremaining: 82.3ms\n",
      "929:\tlearn: 0.0673944\ttotal: 1.08s\tremaining: 81.1ms\n",
      "930:\tlearn: 0.0673005\ttotal: 1.08s\tremaining: 79.9ms\n",
      "931:\tlearn: 0.0672903\ttotal: 1.08s\tremaining: 78.7ms\n",
      "932:\tlearn: 0.0672080\ttotal: 1.08s\tremaining: 77.5ms\n"
     ]
    },
    {
     "name": "stdout",
     "output_type": "stream",
     "text": [
      "933:\tlearn: 0.0671976\ttotal: 1.08s\tremaining: 76.6ms\n",
      "934:\tlearn: 0.0671907\ttotal: 1.08s\tremaining: 75.5ms\n",
      "935:\tlearn: 0.0670515\ttotal: 1.09s\tremaining: 74.3ms\n",
      "936:\tlearn: 0.0669789\ttotal: 1.09s\tremaining: 73.1ms\n",
      "937:\tlearn: 0.0668459\ttotal: 1.09s\tremaining: 71.9ms\n",
      "938:\tlearn: 0.0667064\ttotal: 1.09s\tremaining: 70.7ms\n",
      "939:\tlearn: 0.0666347\ttotal: 1.09s\tremaining: 69.5ms\n",
      "940:\tlearn: 0.0664825\ttotal: 1.09s\tremaining: 68.4ms\n",
      "941:\tlearn: 0.0664006\ttotal: 1.09s\tremaining: 67.2ms\n",
      "942:\tlearn: 0.0663222\ttotal: 1.09s\tremaining: 66ms\n",
      "943:\tlearn: 0.0661484\ttotal: 1.09s\tremaining: 64.8ms\n",
      "944:\tlearn: 0.0660830\ttotal: 1.09s\tremaining: 63.6ms\n",
      "945:\tlearn: 0.0660325\ttotal: 1.09s\tremaining: 62.5ms\n",
      "946:\tlearn: 0.0659597\ttotal: 1.09s\tremaining: 61.3ms\n",
      "947:\tlearn: 0.0657707\ttotal: 1.09s\tremaining: 60.1ms\n",
      "948:\tlearn: 0.0656736\ttotal: 1.1s\tremaining: 59ms\n",
      "949:\tlearn: 0.0654957\ttotal: 1.1s\tremaining: 57.8ms\n",
      "950:\tlearn: 0.0654632\ttotal: 1.1s\tremaining: 56.6ms\n",
      "951:\tlearn: 0.0653784\ttotal: 1.1s\tremaining: 55.4ms\n",
      "952:\tlearn: 0.0652724\ttotal: 1.1s\tremaining: 54.3ms\n",
      "953:\tlearn: 0.0652642\ttotal: 1.1s\tremaining: 53.1ms\n",
      "954:\tlearn: 0.0652158\ttotal: 1.1s\tremaining: 51.9ms\n",
      "955:\tlearn: 0.0651609\ttotal: 1.1s\tremaining: 50.7ms\n",
      "956:\tlearn: 0.0651497\ttotal: 1.1s\tremaining: 49.6ms\n",
      "957:\tlearn: 0.0650372\ttotal: 1.1s\tremaining: 48.4ms\n",
      "958:\tlearn: 0.0649707\ttotal: 1.1s\tremaining: 47.2ms\n",
      "959:\tlearn: 0.0648708\ttotal: 1.1s\tremaining: 46.1ms\n",
      "960:\tlearn: 0.0648152\ttotal: 1.11s\tremaining: 44.9ms\n",
      "961:\tlearn: 0.0647607\ttotal: 1.11s\tremaining: 43.8ms\n",
      "962:\tlearn: 0.0646372\ttotal: 1.11s\tremaining: 42.6ms\n",
      "963:\tlearn: 0.0646291\ttotal: 1.11s\tremaining: 41.4ms\n",
      "964:\tlearn: 0.0645738\ttotal: 1.11s\tremaining: 40.3ms\n",
      "965:\tlearn: 0.0644648\ttotal: 1.11s\tremaining: 39.1ms\n",
      "966:\tlearn: 0.0643256\ttotal: 1.11s\tremaining: 38ms\n",
      "967:\tlearn: 0.0642283\ttotal: 1.11s\tremaining: 36.8ms\n",
      "968:\tlearn: 0.0641342\ttotal: 1.11s\tremaining: 35.6ms\n",
      "969:\tlearn: 0.0640811\ttotal: 1.11s\tremaining: 34.5ms\n",
      "970:\tlearn: 0.0640355\ttotal: 1.11s\tremaining: 33.3ms\n",
      "971:\tlearn: 0.0639494\ttotal: 1.11s\tremaining: 32.1ms\n",
      "972:\tlearn: 0.0638993\ttotal: 1.12s\tremaining: 31ms\n",
      "973:\tlearn: 0.0638842\ttotal: 1.12s\tremaining: 29.8ms\n",
      "974:\tlearn: 0.0637780\ttotal: 1.12s\tremaining: 28.7ms\n",
      "975:\tlearn: 0.0637055\ttotal: 1.12s\tremaining: 27.5ms\n",
      "976:\tlearn: 0.0636204\ttotal: 1.12s\tremaining: 26.4ms\n",
      "977:\tlearn: 0.0635887\ttotal: 1.12s\tremaining: 25.2ms\n",
      "978:\tlearn: 0.0635091\ttotal: 1.12s\tremaining: 24.1ms\n",
      "979:\tlearn: 0.0633782\ttotal: 1.12s\tremaining: 22.9ms\n",
      "980:\tlearn: 0.0633542\ttotal: 1.12s\tremaining: 21.7ms\n",
      "981:\tlearn: 0.0633300\ttotal: 1.12s\tremaining: 20.6ms\n",
      "982:\tlearn: 0.0632315\ttotal: 1.12s\tremaining: 19.4ms\n",
      "983:\tlearn: 0.0631336\ttotal: 1.13s\tremaining: 18.3ms\n",
      "984:\tlearn: 0.0630459\ttotal: 1.13s\tremaining: 17.2ms\n",
      "985:\tlearn: 0.0628500\ttotal: 1.13s\tremaining: 16ms\n",
      "986:\tlearn: 0.0627429\ttotal: 1.13s\tremaining: 14.9ms\n",
      "987:\tlearn: 0.0626042\ttotal: 1.13s\tremaining: 13.7ms\n",
      "988:\tlearn: 0.0624971\ttotal: 1.13s\tremaining: 12.6ms\n",
      "989:\tlearn: 0.0624462\ttotal: 1.13s\tremaining: 11.4ms\n",
      "990:\tlearn: 0.0624042\ttotal: 1.13s\tremaining: 10.3ms\n",
      "991:\tlearn: 0.0623553\ttotal: 1.13s\tremaining: 9.13ms\n",
      "992:\tlearn: 0.0621903\ttotal: 1.13s\tremaining: 7.99ms\n",
      "993:\tlearn: 0.0621138\ttotal: 1.13s\tremaining: 6.84ms\n",
      "994:\tlearn: 0.0620431\ttotal: 1.13s\tremaining: 5.7ms\n",
      "995:\tlearn: 0.0619479\ttotal: 1.14s\tremaining: 4.56ms\n",
      "996:\tlearn: 0.0618571\ttotal: 1.14s\tremaining: 3.42ms\n",
      "997:\tlearn: 0.0617747\ttotal: 1.14s\tremaining: 2.28ms\n",
      "998:\tlearn: 0.0617593\ttotal: 1.14s\tremaining: 1.14ms\n",
      "999:\tlearn: 0.0617173\ttotal: 1.14s\tremaining: 0us\n"
     ]
    },
    {
     "data": {
      "text/plain": [
       "<catboost.core.CatBoostRegressor at 0x7fc5d820d3d0>"
      ]
     },
     "execution_count": 9,
     "metadata": {},
     "output_type": "execute_result"
    }
   ],
   "source": [
    "#Train the Model \n",
    "prior_model = ctb.CatBoostRegressor()\n",
    "prior_model.fit(X_train,Y_train)"
   ]
  },
  {
   "cell_type": "code",
   "execution_count": 10,
   "id": "af65dcda",
   "metadata": {
    "execution": {
     "iopub.execute_input": "2022-06-11T15:00:23.735048Z",
     "iopub.status.busy": "2022-06-11T15:00:23.734508Z",
     "iopub.status.idle": "2022-06-11T15:00:23.742032Z",
     "shell.execute_reply": "2022-06-11T15:00:23.742333Z"
    },
    "id": "af65dcda",
    "papermill": {
     "duration": 0.030448,
     "end_time": "2022-06-11T15:00:23.742451",
     "exception": false,
     "start_time": "2022-06-11T15:00:23.712003",
     "status": "completed"
    },
    "tags": []
   },
   "outputs": [
    {
     "data": {
      "application/scrapbook.scrap.json+json": {
       "data": 0.07281314029343598,
       "encoder": "json",
       "name": "Prior Model MSE",
       "version": 1
      }
     },
     "metadata": {
      "scrapbook": {
       "data": true,
       "display": false,
       "name": "Prior Model MSE"
      }
     },
     "output_type": "display_data"
    },
    {
     "data": {
      "application/scrapbook.scrap.json+json": {
       "data": 1.1274870396915226,
       "encoder": "json",
       "name": "ABC Pre-generator MSE",
       "version": 1
      }
     },
     "metadata": {
      "scrapbook": {
       "data": true,
       "display": false,
       "name": "ABC Pre-generator MSE"
      }
     },
     "output_type": "display_data"
    },
    {
     "data": {
      "application/scrapbook.scrap.json+json": {
       "data": 0.2026394250305042,
       "encoder": "json",
       "name": "Prior Model MSE",
       "version": 1
      }
     },
     "metadata": {
      "scrapbook": {
       "data": true,
       "display": false,
       "name": "Prior Model MSE"
      }
     },
     "output_type": "display_data"
    },
    {
     "data": {
      "application/scrapbook.scrap.json+json": {
       "data": 0.8552413148631386,
       "encoder": "json",
       "name": "ABC Pre-generator MSE",
       "version": 1
      }
     },
     "metadata": {
      "scrapbook": {
       "data": true,
       "display": false,
       "name": "ABC Pre-generator MSE"
      }
     },
     "output_type": "display_data"
    }
   ],
   "source": [
    "y_pred = prior_model.predict(X_test)\n",
    "y_abc = y_pred + np.random.normal(0,variance, y_pred.shape) + bias \n",
    "mse = mean_squared_error(y_pred,Y_test)\n",
    "sb.glue(\"Prior Model MSE\",mse)\n",
    "mse = mean_squared_error(y_abc,Y_test)\n",
    "sb.glue(\"ABC Pre-generator MSE\",mse)\n",
    "mae = mean_absolute_error(y_pred,Y_test)\n",
    "sb.glue(\"Prior Model MSE\",mae)\n",
    "mae = mean_absolute_error(y_abc,Y_test)\n",
    "sb.glue(\"ABC Pre-generator MSE\",mae)"
   ]
  },
  {
   "cell_type": "markdown",
   "id": "25609da2",
   "metadata": {
    "papermill": {
     "duration": 0.009909,
     "end_time": "2022-06-11T15:00:23.762498",
     "exception": false,
     "start_time": "2022-06-11T15:00:23.752589",
     "status": "completed"
    },
    "tags": []
   },
   "source": [
    "# ABC GAN Model"
   ]
  },
  {
   "cell_type": "code",
   "execution_count": 11,
   "id": "dfc3464d",
   "metadata": {
    "execution": {
     "iopub.execute_input": "2022-06-11T15:00:23.785274Z",
     "iopub.status.busy": "2022-06-11T15:00:23.784908Z",
     "iopub.status.idle": "2022-06-11T15:00:23.787368Z",
     "shell.execute_reply": "2022-06-11T15:00:23.787602Z"
    },
    "papermill": {
     "duration": 0.015248,
     "end_time": "2022-06-11T15:00:23.787709",
     "exception": false,
     "start_time": "2022-06-11T15:00:23.772461",
     "status": "completed"
    },
    "tags": []
   },
   "outputs": [],
   "source": [
    "gen = network.Generator(n_features+1).to(device)\n",
    "disc = network.Discriminator(n_features+1).to(device)\n",
    "\n",
    "criterion = torch.nn.BCELoss()\n",
    "gen_opt = torch.optim.Adam(gen.parameters(), lr=0.001, betas=(0.5, 0.999))\n",
    "disc_opt = torch.optim.Adam(disc.parameters(), lr=0.001, betas=(0.5, 0.999))"
   ]
  },
  {
   "cell_type": "code",
   "execution_count": 12,
   "id": "b75fdd85",
   "metadata": {
    "execution": {
     "iopub.execute_input": "2022-06-11T15:00:23.810604Z",
     "iopub.status.busy": "2022-06-11T15:00:23.810242Z",
     "iopub.status.idle": "2022-06-11T15:01:24.765451Z",
     "shell.execute_reply": "2022-06-11T15:01:24.765744Z"
    },
    "papermill": {
     "duration": 60.967992,
     "end_time": "2022-06-11T15:01:24.765862",
     "exception": false,
     "start_time": "2022-06-11T15:00:23.797870",
     "status": "completed"
    },
    "tags": []
   },
   "outputs": [
    {
     "data": {
      "image/png": "[encoded data removed]",
      "text/plain": [
       "<Figure size 432x288 with 1 Axes>"
      ]
     },
     "metadata": {
      "needs_background": "light"
     },
     "output_type": "display_data"
    },
    {
     "data": {
      "image/png": "[encoded data removed]",
      "text/plain": [
       "<Figure size 432x288 with 1 Axes>"
      ]
     },
     "metadata": {
      "needs_background": "light"
     },
     "output_type": "display_data"
    }
   ],
   "source": [
    "#Training the ABC_GAN \n",
    "ABC_train_test2.training_GAN(disc,gen,disc_opt,gen_opt,train_data,batch_size,n_epochs,criterion,prior_model,variance,bias,device)"
   ]
  },
  {
   "cell_type": "code",
   "execution_count": 13,
   "id": "1fa7c368",
   "metadata": {
    "execution": {
     "iopub.execute_input": "2022-06-11T15:01:24.791249Z",
     "iopub.status.busy": "2022-06-11T15:01:24.790865Z",
     "iopub.status.idle": "2022-06-11T15:01:25.095473Z",
     "shell.execute_reply": "2022-06-11T15:01:25.095780Z"
    },
    "papermill": {
     "duration": 0.319129,
     "end_time": "2022-06-11T15:01:25.095896",
     "exception": false,
     "start_time": "2022-06-11T15:01:24.776767",
     "status": "completed"
    },
    "tags": []
   },
   "outputs": [
    {
     "data": {
      "application/scrapbook.scrap.json+json": {
       "data": 0.08545966470165509,
       "encoder": "json",
       "name": "ABC-GAN Model 1 MSE",
       "version": 1
      }
     },
     "metadata": {
      "scrapbook": {
       "data": true,
       "display": false,
       "name": "ABC-GAN Model 1 MSE"
      }
     },
     "output_type": "display_data"
    },
    {
     "data": {
      "application/scrapbook.scrap.json+json": {
       "data": 0.2165214078844178,
       "encoder": "json",
       "name": "ABC-GAN Model 1 MAE",
       "version": 1
      }
     },
     "metadata": {
      "scrapbook": {
       "data": true,
       "display": false,
       "name": "ABC-GAN Model 1 MAE"
      }
     },
     "output_type": "display_data"
    },
    {
     "data": {
      "application/scrapbook.scrap.json+json": {
       "data": 22.085183604210616,
       "encoder": "json",
       "name": "ABC-GAN Model 1 Manhattan Distance",
       "version": 1
      }
     },
     "metadata": {
      "scrapbook": {
       "data": true,
       "display": false,
       "name": "ABC-GAN Model 1 Manhattan Distance"
      }
     },
     "output_type": "display_data"
    },
    {
     "data": {
      "application/scrapbook.scrap.json+json": {
       "data": 2.952415718883592,
       "encoder": "json",
       "name": "ABC-GAN Model 1 Euclidean distance",
       "version": 1
      }
     },
     "metadata": {
      "scrapbook": {
       "data": true,
       "display": false,
       "name": "ABC-GAN Model 1 Euclidean distance"
      }
     },
     "output_type": "display_data"
    },
    {
     "data": {
      "application/scrapbook.scrap.json+json": {
       "data": [
        [
         0.0852142949759848,
         0.08521978284082277,
         0.08595704604351898,
         0.08643004193887344,
         0.08501680830957765,
         0.08427886371501679,
         0.08526093721942601,
         0.08493281726852105,
         0.08597053084064829,
         0.08498208344133075,
         0.08610085044472728,
         0.08502322731651484,
         0.08583494686856273,
         0.08530941224896008,
         0.08508262047269578,
         0.08514083944644268,
         0.08496735739050226,
         0.0855663755078006,
         0.08492050861349468,
         0.0852813533419503,
         0.08559214243867852,
         0.08461889871036588,
         0.08580761899038965,
         0.08575964894047385,
         0.08528727895409083,
         0.08530469066443672,
         0.08549637355658286,
         0.08511385968824907,
         0.08586044787857128,
         0.08584591383713248,
         0.08509480241394171,
         0.0861972327120289,
         0.08474203130937012,
         0.08555156512251372,
         0.0853158673251734,
         0.08489029067067613,
         0.0853327042082417,
         0.0871286285896021,
         0.0846206735503932,
         0.0862338799084424,
         0.08545891412760365,
         0.08611441629756202,
         0.0861839464810305,
         0.0868607088834782,
         0.08547044585447382,
         0.08591847545966286,
         0.08492051895134638,
         0.08633116643830542,
         0.08525611961618618,
         0.08662521504067712,
         0.0853449941350855,
         0.08660724315533386,
         0.08576195492488133,
         0.08564313495658293,
         0.08483153402903197,
         0.08450785301944753,
         0.085706350277412,
         0.08601866199927467,
         0.08458336103232456,
         0.08698064676124491,
         0.08434559161130163,
         0.08464366047315453,
         0.08501032574500189,
         0.08508421147574784,
         0.08503625620678067,
         0.08528496357315717,
         0.08545433421466699,
         0.0858777449533947,
         0.08434341501196548,
         0.08599379558182874,
         0.08596630664960021,
         0.08523213624330818,
         0.08624846272828264,
         0.08409559045004801,
         0.08524520754011948,
         0.08565475981221857,
         0.08543882871285556,
         0.08508039823586479,
         0.08490522347054459,
         0.08469215956395375,
         0.08668299612040879,
         0.08622743422877369,
         0.08637730106958327,
         0.0864893564376948,
         0.0847354881814208,
         0.08566626537362744,
         0.08432513725517658,
         0.08499959185340555,
         0.08554734245897994,
         0.08466683454798223,
         0.08544912489767198,
         0.08540605496010888,
         0.08575029676760407,
         0.08525143524449288,
         0.0860487814806088,
         0.08522582115405146,
         0.08696117140623214,
         0.0845097768952586,
         0.08516350149966431,
         0.08543847692329488
        ],
        [
         0.21662528336267262,
         0.2156679876258268,
         0.2168804568366385,
         0.21774690340766134,
         0.21564770882547485,
         0.21467612586988538,
         0.2170861304061962,
         0.21596859481331765,
         0.21766746875044762,
         0.21629431191831827,
         0.21814303719164693,
         0.21591410798696326,
         0.2169532607693006,
         0.21558813697786308,
         0.21573205823626587,
         0.21585974416823364,
         0.2148870405576685,
         0.2159372147209212,
         0.21528117575993141,
         0.21639711232673303,
         0.21655655146448635,
         0.2160337291037043,
         0.2170711024390424,
         0.21726613190463362,
         0.2163636475326676,
         0.21555094294907415,
         0.2171216955335409,
         0.2157946771522071,
         0.2165797031210626,
         0.2169202535285377,
         0.21588041047182152,
         0.2182565639525944,
         0.21517724213281683,
         0.21575634413417064,
         0.21593698346074305,
         0.215582498641429,
         0.21649691321905337,
         0.21858576340053013,
         0.21500729672683805,
         0.21819681241450942,
         0.2156718216069481,
         0.2178853090450752,
         0.21664878439304291,
         0.2187720859861549,
         0.2171886579918803,
         0.2171418606760163,
         0.2149557580660079,
         0.2182811371361216,
         0.2161575448973214,
         0.21870553886116134,
         0.21599346390176638,
         0.2182559805429157,
         0.217030655355284,
         0.21626713855520768,
         0.21553815220135683,
         0.2146928984416174,
         0.2158637358533109,
         0.21831137604792328,
         0.21539509185023753,
         0.2188290175525289,
         0.21553969666288764,
         0.21548526892986367,
         0.21647997790326676,
         0.21541519870287648,
         0.21570368657144262,
         0.21626983997503332,
         0.21737234365633307,
         0.21722940039620095,
         0.21514827924250973,
         0.21825571736211286,
         0.21678888204270133,
         0.21650493106640437,
         0.21763512249305553,
         0.21501448149701544,
         0.21605534462586923,
         0.21632921715796577,
         0.21676726790838965,
         0.2162747676575593,
         0.2151919611930555,
         0.21595265751010648,
         0.21859838234662426,
         0.21790481802514372,
         0.21762642927248688,
         0.21954139101081618,
         0.21389488231244624,
         0.21785063163249516,
         0.2143781108270381,
         0.21579528269449286,
         0.21755970238397518,
         0.21604019080233924,
         0.21599715595663177,
         0.21586957279884933,
         0.2166285843351016,
         0.21605804619178468,
         0.21716787788432604,
         0.21620257569513485,
         0.21884344772015715,
         0.21495707192476474,
         0.21649400113771358,
         0.21664345817749991
        ],
        [
         22.095778902992606,
         21.998134737834334,
         22.121806597337127,
         22.210184147581458,
         21.996066300198436,
         21.89696483872831,
         22.142785301432014,
         22.0287966709584,
         22.202081812545657,
         22.062019815668464,
         22.250589793547988,
         22.023239014670253,
         22.12923259846866,
         21.989989971742034,
         22.00466994009912,
         22.01769390515983,
         21.918478136882186,
         22.02559590153396,
         21.958679927513003,
         22.07250545732677,
         22.08876824937761,
         22.035440368577838,
         22.141252448782325,
         22.161145454272628,
         22.069092048332095,
         21.986196180805564,
         22.146412944421172,
         22.011057069525123,
         22.091129718348384,
         22.125865859910846,
         22.019801868125796,
         22.26216952316463,
         21.948078697547317,
         22.007147101685405,
         22.02557231299579,
         21.989414861425757,
         22.082685148343444,
         22.29574786685407,
         21.93074426613748,
         22.25607486627996,
         21.998525803908706,
         22.22430152259767,
         22.098176008090377,
         22.314752770587802,
         22.15324311517179,
         22.148469788953662,
         21.925487322732806,
         22.264675987884402,
         22.048069579526782,
         22.307964963838458,
         22.03133331798017,
         22.262110015377402,
         22.13712684623897,
         22.059248132631183,
         21.984891524538398,
         21.898675641044974,
         22.01810105703771,
         22.267760356888175,
         21.970299368724227,
         22.320559790357947,
         21.98504905961454,
         21.979497430846095,
         22.08095774613321,
         21.9723502676934,
         22.001776030287147,
         22.0595236774534,
         22.17197905294597,
         22.157398840412498,
         21.94512448273599,
         22.26208317093551,
         22.112465968355536,
         22.083502968773246,
         22.198782494291663,
         21.931477112695575,
         22.03764515183866,
         22.06558015011251,
         22.110261326655746,
         22.060026301071048,
         21.94958004169166,
         22.02717106603086,
         22.297034999355674,
         22.226291438564658,
         22.197895785793662,
         22.39322188310325,
         21.817277995869517,
         22.220764426514506,
         21.866567304357886,
         22.01111883483827,
         22.19108964316547,
         22.036099461838603,
         22.03170990757644,
         22.01869642548263,
         22.09611560218036,
         22.037920711562037,
         22.151123544201255,
         22.052662720903754,
         22.32203166745603,
         21.925621336326003,
         22.082388116046786,
         22.09763273410499
        ],
        [
         2.948195734267053,
         2.948290665752602,
         2.9610164971575106,
         2.9691521142853365,
         2.9447774869380066,
         2.931969320939718,
         2.9490024748008357,
         2.9433225038023174,
         2.961248747698532,
         2.9441760326134947,
         2.9634923224739724,
         2.9448886543101276,
         2.95891273622481,
         2.949840682035884,
         2.945917053858606,
         2.9469247739868,
         2.943920931993797,
         2.9542799971897824,
         2.9431092196139197,
         2.9493555297520393,
         2.954724780541363,
         2.9378780894477767,
         2.9584416737565986,
         2.957614611799234,
         2.9494579931433607,
         2.9497590491042724,
         2.9530712999809956,
         2.946457820536619,
         2.9593522405442494,
         2.9591017575249947,
         2.9461279412513726,
         2.965150541983821,
         2.9400148287986148,
         2.954024313118698,
         2.949952282184864,
         2.9425855379935797,
         2.9502433508510197,
         2.9811273230339244,
         2.9379088995644684,
         2.9657807994963354,
         2.952424298947489,
         2.963725773810952,
         2.964922012644702,
         2.9765403249603013,
         2.952623490585335,
         2.9603520900199705,
         2.9431093987545434,
         2.9674532813015184,
         2.948919158073172,
         2.9725026382072506,
         2.950455795598151,
         2.972194273906746,
         2.9576543750644513,
         2.955604805377649,
         2.941567009429032,
         2.9359497625101905,
         2.9566954067499114,
         2.9620775688570364,
         2.9372611094856893,
         2.978594629963429,
         2.933129786482822,
         2.9383079090288953,
         2.9446652145855547,
         2.945944597328041,
         2.9451142818389284,
         2.9494179568962466,
         2.952345184746531,
         2.959650314690278,
         2.9330919404649562,
         2.9616493967629816,
         2.9611759958265256,
         2.9485043491264227,
         2.966031557196388,
         2.9287796478917456,
         2.94873043343948,
         2.9558053895421277,
         2.952077324311012,
         2.9458785820291724,
         2.9428443373708277,
         2.9391495837271164,
         2.9734938379424456,
         2.9656699565755655,
         2.968246066130215,
         2.9701707622028857,
         2.939901323940129,
         2.9560039019104827,
         2.9327741133657073,
         2.94447930355222,
         2.9539514096910864,
         2.93871011225915,
         2.9522551955348537,
         2.951511071626041,
         2.957453342031893,
         2.9488381432249335,
         2.9625961100059004,
         2.9483951156032746,
         2.978261150979826,
         2.935983181715518,
         2.947316941383427,
         2.9520712467987753
        ]
       ],
       "encoder": "json",
       "name": "ABC_GAN_1 Metrics",
       "version": 1
      }
     },
     "metadata": {
      "scrapbook": {
       "data": true,
       "display": false,
       "name": "ABC_GAN_1 Metrics"
      }
     },
     "output_type": "display_data"
    },
    {
     "name": "stdout",
     "output_type": "stream",
     "text": [
      "MSE\n",
      "0.08545966470165509\n"
     ]
    }
   ],
   "source": [
    "ABC_GAN1_metrics=ABC_train_test2.test_generator(gen,test_data,prior_model,variance,bias,\"1\",device)\n",
    "sb.glue(\"ABC_GAN_1 Metrics\",ABC_GAN1_metrics)\n",
    "\n",
    "print(\"MSE\")\n",
    "print(mean(ABC_GAN1_metrics[0]))"
   ]
  },
  {
   "cell_type": "code",
   "execution_count": 14,
   "id": "eb22ce5c",
   "metadata": {
    "execution": {
     "iopub.execute_input": "2022-06-11T15:01:25.124889Z",
     "iopub.status.busy": "2022-06-11T15:01:25.124514Z",
     "iopub.status.idle": "2022-06-11T15:01:25.442212Z",
     "shell.execute_reply": "2022-06-11T15:01:25.442525Z"
    },
    "papermill": {
     "duration": 0.333957,
     "end_time": "2022-06-11T15:01:25.442652",
     "exception": false,
     "start_time": "2022-06-11T15:01:25.108695",
     "status": "completed"
    },
    "tags": []
   },
   "outputs": [
    {
     "data": {
      "image/png": "[encoded data removed]",
      "text/plain": [
       "<Figure size 432x288 with 1 Axes>"
      ]
     },
     "metadata": {
      "needs_background": "light"
     },
     "output_type": "display_data"
    },
    {
     "data": {
      "image/png": "[encoded data removed]",
      "text/plain": [
       "<Figure size 432x288 with 1 Axes>"
      ]
     },
     "metadata": {
      "needs_background": "light"
     },
     "output_type": "display_data"
    },
    {
     "data": {
      "image/png": "[encoded data removed]",
      "text/plain": [
       "<Figure size 432x288 with 1 Axes>"
      ]
     },
     "metadata": {
      "needs_background": "light"
     },
     "output_type": "display_data"
    },
    {
     "data": {
      "image/png": "[encoded data removed]",
      "text/plain": [
       "<Figure size 432x288 with 1 Axes>"
      ]
     },
     "metadata": {
      "needs_background": "light"
     },
     "output_type": "display_data"
    }
   ],
   "source": [
    "sanityChecks.discProbVsError(train_data,disc,device)\n",
    "sanityChecks.discProbVsError(test_data,disc,device)"
   ]
  },
  {
   "cell_type": "markdown",
   "id": "130f3a4d",
   "metadata": {
    "id": "130f3a4d",
    "papermill": {
     "duration": 0.014571,
     "end_time": "2022-06-11T15:01:25.472386",
     "exception": false,
     "start_time": "2022-06-11T15:01:25.457815",
     "status": "completed"
    },
    "tags": []
   },
   "source": [
    "# ABC - GAN Model with skip connection"
   ]
  },
  {
   "cell_type": "code",
   "execution_count": 15,
   "id": "4e43dad1",
   "metadata": {
    "execution": {
     "iopub.execute_input": "2022-06-11T15:01:25.505528Z",
     "iopub.status.busy": "2022-06-11T15:01:25.505162Z",
     "iopub.status.idle": "2022-06-11T15:01:25.507552Z",
     "shell.execute_reply": "2022-06-11T15:01:25.507822Z"
    },
    "id": "4e43dad1",
    "papermill": {
     "duration": 0.020865,
     "end_time": "2022-06-11T15:01:25.507938",
     "exception": false,
     "start_time": "2022-06-11T15:01:25.487073",
     "status": "completed"
    },
    "tags": []
   },
   "outputs": [],
   "source": [
    "#Generator\n",
    "gen3 = network.GeneratorWithSkipConnection(n_features+1).to(device)\n",
    "constraints=network.weightConstraint()\n",
    "#Discriminator \n",
    "disc3 = network.Discriminator(n_features+1).to(device)\n",
    "\n",
    "criterion = torch.nn.BCELoss()\n",
    "gen_opt = torch.optim.Adam(gen3.parameters(), lr=0.001, betas=(0.5, 0.999))\n",
    "disc_opt = torch.optim.Adam(disc3.parameters(), lr=0.001, betas=(0.5, 0.999))\n"
   ]
  },
  {
   "cell_type": "code",
   "execution_count": 16,
   "id": "26acbc37",
   "metadata": {
    "execution": {
     "iopub.execute_input": "2022-06-11T15:01:25.540154Z",
     "iopub.status.busy": "2022-06-11T15:01:25.539786Z",
     "iopub.status.idle": "2022-06-11T15:06:07.186285Z",
     "shell.execute_reply": "2022-06-11T15:06:07.186524Z"
    },
    "id": "26acbc37",
    "papermill": {
     "duration": 281.663621,
     "end_time": "2022-06-11T15:06:07.186644",
     "exception": false,
     "start_time": "2022-06-11T15:01:25.523023",
     "status": "completed"
    },
    "tags": []
   },
   "outputs": [
    {
     "data": {
      "image/png": "[encoded data removed]",
      "text/plain": [
       "<Figure size 432x288 with 1 Axes>"
      ]
     },
     "metadata": {
      "needs_background": "light"
     },
     "output_type": "display_data"
    },
    {
     "data": {
      "image/png": "[encoded data removed]",
      "text/plain": [
       "<Figure size 432x288 with 1 Axes>"
      ]
     },
     "metadata": {
      "needs_background": "light"
     },
     "output_type": "display_data"
    }
   ],
   "source": [
    "ABC_train_test2.training_GAN_skip_connection(disc3,gen3,disc_opt,gen_opt,train_data,batch_size,n_epochs,criterion,prior_model,variance,bias,device)"
   ]
  },
  {
   "cell_type": "code",
   "execution_count": 17,
   "id": "c5e0717b",
   "metadata": {
    "execution": {
     "iopub.execute_input": "2022-06-11T15:06:07.221070Z",
     "iopub.status.busy": "2022-06-11T15:06:07.220701Z",
     "iopub.status.idle": "2022-06-11T15:06:08.034315Z",
     "shell.execute_reply": "2022-06-11T15:06:08.034667Z"
    },
    "id": "c5e0717b",
    "papermill": {
     "duration": 0.832759,
     "end_time": "2022-06-11T15:06:08.034789",
     "exception": false,
     "start_time": "2022-06-11T15:06:07.202030",
     "status": "completed"
    },
    "tags": []
   },
   "outputs": [
    {
     "data": {
      "application/scrapbook.scrap.json+json": {
       "data": 0.07326008206000595,
       "encoder": "json",
       "name": "ABC-GAN Model 3 MSE",
       "version": 1
      }
     },
     "metadata": {
      "scrapbook": {
       "data": true,
       "display": false,
       "name": "ABC-GAN Model 3 MSE"
      }
     },
     "output_type": "display_data"
    },
    {
     "data": {
      "application/scrapbook.scrap.json+json": {
       "data": 0.20413834873520698,
       "encoder": "json",
       "name": "ABC-GAN Model 3 MAE",
       "version": 1
      }
     },
     "metadata": {
      "scrapbook": {
       "data": true,
       "display": false,
       "name": "ABC-GAN Model 3 MAE"
      }
     },
     "output_type": "display_data"
    },
    {
     "data": {
      "application/scrapbook.scrap.json+json": {
       "data": 20.82211157099111,
       "encoder": "json",
       "name": "ABC-GAN Model 3 Manhattan Distance",
       "version": 1
      }
     },
     "metadata": {
      "scrapbook": {
       "data": true,
       "display": false,
       "name": "ABC-GAN Model 3 Manhattan Distance"
      }
     },
     "output_type": "display_data"
    },
    {
     "data": {
      "application/scrapbook.scrap.json+json": {
       "data": 2.733566419413065,
       "encoder": "json",
       "name": "ABC-GAN Model 3 Euclidean distance",
       "version": 1
      }
     },
     "metadata": {
      "scrapbook": {
       "data": true,
       "display": false,
       "name": "ABC-GAN Model 3 Euclidean distance"
      }
     },
     "output_type": "display_data"
    },
    {
     "data": {
      "application/scrapbook.scrap.json+json": {
       "data": [
        [
         0.0732416237765311,
         0.0720526556057345,
         0.07355212123942266,
         0.07285951461420193,
         0.07260658224437708,
         0.0721917148655452,
         0.07349375800843949,
         0.07363736689481921,
         0.07350057966539747,
         0.07265600048981798,
         0.07247414081103054,
         0.07434335426113527,
         0.07272513288851014,
         0.07321485326959741,
         0.07466056310827505,
         0.07323005288802353,
         0.07232939532262077,
         0.0731018949897464,
         0.07360122246322962,
         0.07297234779036267,
         0.07313539438219806,
         0.07344018748554465,
         0.07253170973065687,
         0.07423916091364068,
         0.0731988477319328,
         0.07431731789436583,
         0.07346019657714006,
         0.07426645429640236,
         0.07371737616899054,
         0.07370183201980453,
         0.07357522583430215,
         0.07326200505555609,
         0.07346837670416623,
         0.07394052920042715,
         0.07228954250759036,
         0.07243946243356507,
         0.07307961346134056,
         0.07452276109041038,
         0.07384573286772202,
         0.07297701602522842,
         0.07319826818373466,
         0.0732033571156684,
         0.07357254195559673,
         0.07150921978009114,
         0.0731225437321199,
         0.07416939718047766,
         0.07346092764727678,
         0.07455982761756821,
         0.07341265059775452,
         0.07395947054602967,
         0.07331423494364615,
         0.07270213357137413,
         0.07207165579069275,
         0.07381512242383895,
         0.07298710332273432,
         0.07333448203116878,
         0.07413408411227278,
         0.07344932139723995,
         0.0731215090106645,
         0.07353705412645711,
         0.07275243089142105,
         0.07325508424008251,
         0.07315149814610158,
         0.07329183666636055,
         0.07283544100211307,
         0.07326049657092834,
         0.07393490914093573,
         0.07396941802051493,
         0.07245495856172371,
         0.07219326207211894,
         0.0735573287476911,
         0.0748373279826501,
         0.07286026684494959,
         0.07417242331351444,
         0.0725659358361463,
         0.07219382670327472,
         0.07402481086544939,
         0.07315550949719361,
         0.07254963972919996,
         0.07319053022988045,
         0.07356197121578248,
         0.07312162988413103,
         0.07307414820512102,
         0.07274167113921895,
         0.07381678861580378,
         0.07260680590863033,
         0.07343637682142076,
         0.07284525114639535,
         0.07296930296578369,
         0.0729096172914596,
         0.07372212489888673,
         0.07275958784629526,
         0.07362997971326306,
         0.07396976550592509,
         0.07196170687271093,
         0.0733998492956787,
         0.07377325102079751,
         0.07323692249852044,
         0.07291166826046622,
         0.07286432916784444
        ],
        [
         0.20393827992180982,
         0.20165857094951778,
         0.20459517995443413,
         0.20310194557532668,
         0.20151376678590097,
         0.20141316851710572,
         0.20352719692221166,
         0.2055788904647617,
         0.20392666156312414,
         0.20290059754259737,
         0.20327055200423097,
         0.20624213493611737,
         0.20296040251303246,
         0.2050482583707016,
         0.20595162028136352,
         0.20447720541600503,
         0.20371107465824953,
         0.20297721858300707,
         0.20489649688277176,
         0.20315307300702176,
         0.2045924061653661,
         0.20405243472287468,
         0.2032567226926011,
         0.20539508464143558,
         0.2040022402892218,
         0.20545794669648304,
         0.2044962989166379,
         0.20635822797924572,
         0.20517582728929235,
         0.2043081490761217,
         0.2048910396064029,
         0.20473997425470575,
         0.2040515612883895,
         0.2034224854490044,
         0.20294810724718607,
         0.20266321340721904,
         0.20354700952257013,
         0.20757307972320738,
         0.20388825946286612,
         0.20464179853853934,
         0.20378012563941963,
         0.20342618784885488,
         0.20423009611584028,
         0.2026232640605931,
         0.2035306259149722,
         0.20611060425346972,
         0.2050092516594804,
         0.20649739743812995,
         0.20273341901381225,
         0.20485179497878633,
         0.2047166588999258,
         0.20390509428712084,
         0.20210570824222968,
         0.2044404112396068,
         0.20443879902435869,
         0.20490683192460268,
         0.20509509127769693,
         0.20492991369546337,
         0.20382102862612217,
         0.20421335471830532,
         0.20344755055346325,
         0.2044435433459048,
         0.20389125838547068,
         0.2036405401121752,
         0.20426205836017342,
         0.20561407021173805,
         0.20493970128397146,
         0.2063231028105114,
         0.20291721108643448,
         0.20218757266297424,
         0.2047851406238681,
         0.20714093301920036,
         0.20267330561125396,
         0.20590370188595034,
         0.20435794606330057,
         0.20415014910566456,
         0.204606359002783,
         0.2053762039434457,
         0.2032162111946473,
         0.2036081851259166,
         0.20373451371914617,
         0.2046508679312526,
         0.2031554537551368,
         0.20260186707053116,
         0.20387065223436437,
         0.20268488987622893,
         0.2041961743026132,
         0.2038300257431818,
         0.2032215591045279,
         0.20348999304149082,
         0.20575519375430018,
         0.20276617893364793,
         0.2041543873606761,
         0.2051348983876261,
         0.2016266947338248,
         0.20566025289579057,
         0.2038141596313639,
         0.20402192775452255,
         0.20373016930933968,
         0.2045804489148306
        ],
        [
         20.801704552024603,
         20.569174236850813,
         20.868708355352283,
         20.71639844868332,
         20.5544042121619,
         20.544143188744783,
         20.75977408606559,
         20.96904682740569,
         20.800519479438663,
         20.695860949344933,
         20.733596304431558,
         21.03669776348397,
         20.70196105632931,
         20.914922353811562,
         21.00706526869908,
         20.856674952432513,
         20.77852961514145,
         20.70367629546672,
         20.899442682042718,
         20.72161344671622,
         20.86842542886734,
         20.813348341733217,
         20.73218571464531,
         20.950298633426428,
         20.808228509500623,
         20.95671056304127,
         20.858622489497066,
         21.048539253883064,
         20.927934383507818,
         20.839431205764413,
         20.898886039853096,
         20.883477373979986,
         20.81325925141573,
         20.74909351579845,
         20.700706939212978,
         20.671647767536342,
         20.76179497130215,
         21.172454131767154,
         20.796602465212345,
         20.873463450931013,
         20.785572815220803,
         20.749471160583198,
         20.831469803815708,
         20.667572934180498,
         20.760123843327165,
         21.023281633853912,
         20.910943669267,
         21.062734538689256,
         20.67880873940885,
         20.894883087836206,
         20.88109920779243,
         20.798319617286325,
         20.614782240707427,
         20.852921946439892,
         20.852757500484586,
         20.900496856309474,
         20.919699310325086,
         20.902851196937263,
         20.78974491986446,
         20.829762181267142,
         20.751650156453252,
         20.85324142128229,
         20.79690835531801,
         20.77133509144187,
         20.83472995273769,
         20.97263516159728,
         20.90384953096509,
         21.044956486672163,
         20.697555530816317,
         20.623132411623374,
         20.888084343634546,
         21.12837516795844,
         20.672677172347903,
         21.002177592366934,
         20.844510498456657,
         20.823315208777785,
         20.869848618283868,
         20.94837280223146,
         20.728053541854024,
         20.768034882843494,
         20.780920399352908,
         20.874388528987765,
         20.721856283023953,
         20.665390441194177,
         20.794806527905166,
         20.67385876737535,
         20.828009778866544,
         20.790662625804543,
         20.728599028661847,
         20.755979290232062,
         20.98702976293862,
         20.682150251232088,
         20.823747510788962,
         20.923759635537863,
         20.56592286285013,
         20.97734579537064,
         20.789044282399118,
         20.8102366309613,
         20.780477269552648,
         20.86720578931272
        ],
        [
         2.7332481821463213,
         2.7109723111431663,
         2.7390356635905837,
         2.7261090386572207,
         2.7213730705154084,
         2.7135870939193403,
         2.737948742555424,
         2.7406224517929427,
         2.7380758071811195,
         2.722299037571265,
         2.7188899136826254,
         2.753728769257386,
         2.723593867416365,
         2.732748622449371,
         2.7595973324099394,
         2.733032271045917,
         2.716173470694999,
         2.7306397215586915,
         2.7399497607163203,
         2.7282191031178185,
         2.7312653161097695,
         2.7369506980443683,
         2.719969557279456,
         2.7517983961750083,
         2.7324499023142486,
         2.7532465246006055,
         2.7373235195841006,
         2.7523041870827143,
         2.742110933065443,
         2.7418218151477425,
         2.7394658302484483,
         2.7336284523809598,
         2.737475922053919,
         2.74625817767441,
         2.715425074601437,
         2.7182393507974307,
         2.7302235390269307,
         2.7570494430136465,
         2.7444971766259196,
         2.728306367432605,
         2.7324390852754497,
         2.7325340667223488,
         2.739415864645393,
         2.700729608377946,
         2.731025349694915,
         2.7505051376808445,
         2.737337140365109,
         2.757735015731562,
         2.736437530982748,
         2.746609909633151,
         2.734602706839132,
         2.7231631651959747,
         2.7113297273940438,
         2.7439282948414623,
         2.728494921915542,
         2.7349802864333803,
         2.7498502830975764,
         2.7371208929308315,
         2.7310060269226395,
         2.7387551042213736,
         2.724104981626984,
         2.733499330983715,
         2.731565999733918,
         2.734184949846805,
         2.7256586327373307,
         2.733600309159094,
         2.746153807122872,
         2.74679461155954,
         2.718530075849046,
         2.713616172445199,
         2.7391326240736302,
         2.762862185167822,
         2.726123111340509,
         2.7505612478144306,
         2.7206112282512778,
         2.7136267841643256,
         2.7478229033683808,
         2.7316408930739318,
         2.720305727740615,
         2.7322946553122347,
         2.739219060975192,
         2.7310082841656422,
         2.730121447284414,
         2.7239035328367147,
         2.7439592633295393,
         2.721377262100993,
         2.7368796896803698,
         2.725842184891181,
         2.7281621840554013,
         2.72704619757878,
         2.7421992523677865,
         2.7242389690190754,
         2.7404849809391094,
         2.746801063347027,
         2.7092608034326475,
         2.736198937972023,
         2.7431499419684204,
         2.73316045903805,
         2.7270845536153727,
         2.7261991077542613
        ]
       ],
       "encoder": "json",
       "name": "ABC_GAN_3 Metrics",
       "version": 1
      }
     },
     "metadata": {
      "scrapbook": {
       "data": true,
       "display": false,
       "name": "ABC_GAN_3 Metrics"
      }
     },
     "output_type": "display_data"
    },
    {
     "name": "stdout",
     "output_type": "stream",
     "text": [
      "MSE\n",
      "0.07326008206000595\n"
     ]
    }
   ],
   "source": [
    "ABC_GAN3_metrics=ABC_train_test2.test_generator(gen3,test_data,prior_model,variance,bias,\"3\",device)\n",
    "sb.glue(\"ABC_GAN_3 Metrics\",ABC_GAN3_metrics)\n",
    "\n",
    "print(\"MSE\")\n",
    "print(mean(ABC_GAN3_metrics[0]))"
   ]
  },
  {
   "cell_type": "code",
   "execution_count": 18,
   "id": "c8e46b48",
   "metadata": {
    "execution": {
     "iopub.execute_input": "2022-06-11T15:06:08.071922Z",
     "iopub.status.busy": "2022-06-11T15:06:08.071554Z",
     "iopub.status.idle": "2022-06-11T15:06:08.397956Z",
     "shell.execute_reply": "2022-06-11T15:06:08.398269Z"
    },
    "id": "c8e46b48",
    "papermill": {
     "duration": 0.34637,
     "end_time": "2022-06-11T15:06:08.398393",
     "exception": false,
     "start_time": "2022-06-11T15:06:08.052023",
     "status": "completed"
    },
    "tags": []
   },
   "outputs": [
    {
     "data": {
      "image/png": "[encoded data removed]",
      "text/plain": [
       "<Figure size 432x288 with 1 Axes>"
      ]
     },
     "metadata": {
      "needs_background": "light"
     },
     "output_type": "display_data"
    },
    {
     "data": {
      "image/png": "[encoded data removed]",
      "text/plain": [
       "<Figure size 432x288 with 1 Axes>"
      ]
     },
     "metadata": {
      "needs_background": "light"
     },
     "output_type": "display_data"
    },
    {
     "data": {
      "image/png": "[encoded data removed]",
      "text/plain": [
       "<Figure size 432x288 with 1 Axes>"
      ]
     },
     "metadata": {
      "needs_background": "light"
     },
     "output_type": "display_data"
    },
    {
     "data": {
      "image/png": "[encoded data removed]",
      "text/plain": [
       "<Figure size 432x288 with 1 Axes>"
      ]
     },
     "metadata": {
      "needs_background": "light"
     },
     "output_type": "display_data"
    }
   ],
   "source": [
    "sanityChecks.discProbVsError(train_data,disc3,device)\n",
    "sanityChecks.discProbVsError(test_data,disc3,device)"
   ]
  },
  {
   "cell_type": "markdown",
   "id": "a5bd74c3",
   "metadata": {
    "id": "a5bd74c3",
    "papermill": {
     "duration": 0.019957,
     "end_time": "2022-06-11T15:06:08.438026",
     "exception": false,
     "start_time": "2022-06-11T15:06:08.418069",
     "status": "completed"
    },
    "tags": []
   },
   "source": [
    "## Skip Connection Model Analysis - ABC-GAN "
   ]
  },
  {
   "cell_type": "markdown",
   "id": "5744a8bf",
   "metadata": {
    "id": "5744a8bf",
    "papermill": {
     "duration": 0.019474,
     "end_time": "2022-06-11T15:06:08.476868",
     "exception": false,
     "start_time": "2022-06-11T15:06:08.457394",
     "status": "completed"
    },
    "tags": []
   },
   "source": [
    "### Weight Analysis \n",
    "\n",
    "Study the weights of the skip connection layer\n",
    "\n",
    "Equation of the skip connection is \n",
    "\n",
    "$output = y_{gan} * w + y_{abc} * (1-w)$"
   ]
  },
  {
   "cell_type": "code",
   "execution_count": 19,
   "id": "52c31dea",
   "metadata": {
    "execution": {
     "iopub.execute_input": "2022-06-11T15:06:08.518362Z",
     "iopub.status.busy": "2022-06-11T15:06:08.517914Z",
     "iopub.status.idle": "2022-06-11T15:06:08.521394Z",
     "shell.execute_reply": "2022-06-11T15:06:08.521628Z"
    },
    "id": "52c31dea",
    "papermill": {
     "duration": 0.025537,
     "end_time": "2022-06-11T15:06:08.521741",
     "exception": false,
     "start_time": "2022-06-11T15:06:08.496204",
     "status": "completed"
    },
    "tags": []
   },
   "outputs": [
    {
     "name": "stdout",
     "output_type": "stream",
     "text": [
      "Weight of the node at skip connection\n",
      "Parameter containing:\n",
      "tensor([[0.9862]], requires_grad=True)\n"
     ]
    },
    {
     "data": {
      "application/scrapbook.scrap.json+json": {
       "data": 0.9862037301063538,
       "encoder": "json",
       "name": "Skip Connection Weight",
       "version": 1
      }
     },
     "metadata": {
      "scrapbook": {
       "data": true,
       "display": false,
       "name": "Skip Connection Weight"
      }
     },
     "output_type": "display_data"
    }
   ],
   "source": [
    "print(\"Weight of the node at skip connection\")\n",
    "for name,param in gen3.named_parameters():\n",
    "    if(name == \"skipNode.weight\"):\n",
    "        print(param)\n",
    "        sb.glue(\"Skip Connection Weight\",param.item())"
   ]
  }
 ],
 "metadata": {
  "colab": {
   "collapsed_sections": [],
   "name": "ABC_GAN_Model-Catboost_Pre-gen.ipynb",
   "provenance": []
  },
  "interpreter": {
   "hash": "31f2aee4e71d21fbe5cf8b01ff0e069b9275f58929596ceb00d14d90e3e16cd6"
  },
  "kernelspec": {
   "display_name": "Python 3 (ipykernel)",
   "language": "python",
   "name": "python3"
  },
  "language_info": {
   "codemirror_mode": {
    "name": "ipython",
    "version": 3
   },
   "file_extension": ".py",
   "mimetype": "text/x-python",
   "name": "python",
   "nbconvert_exporter": "python",
   "pygments_lexer": "ipython3",
   "version": "3.8.11"
  },
  "papermill": {
   "default_parameters": {},
   "duration": 349.374299,
   "end_time": "2022-06-11T15:06:08.849246",
   "environment_variables": {},
   "exception": null,
   "input_path": "ABC_GAN-Catboost.ipynb",
   "output_path": "./ABC_GAN_Catboost/ABC-GAN_output_1_3.ipynb",
   "parameters": {
    "bias": 0.1,
    "variance": 1
   },
   "start_time": "2022-06-11T15:00:19.474947",
   "version": "2.3.3"
  }
 },
 "nbformat": 4,
 "nbformat_minor": 5
}