{
 "cells": [
  {
   "cell_type": "markdown",
   "id": "622780e6",
   "metadata": {
    "id": "622780e6",
    "papermill": {
     "duration": 0.025306,
     "end_time": "2022-06-11T20:51:56.699596",
     "exception": false,
     "start_time": "2022-06-11T20:51:56.674290",
     "status": "completed"
    },
    "tags": []
   },
   "source": [
    "## Import Libraries "
   ]
  },
  {
   "cell_type": "code",
   "execution_count": 1,
   "id": "a62397e3",
   "metadata": {
    "execution": {
     "iopub.execute_input": "2022-06-11T20:51:56.735831Z",
     "iopub.status.busy": "2022-06-11T20:51:56.735213Z",
     "iopub.status.idle": "2022-06-11T20:51:56.737741Z",
     "shell.execute_reply": "2022-06-11T20:51:56.738070Z"
    },
    "id": "a62397e3",
    "papermill": {
     "duration": 0.022725,
     "end_time": "2022-06-11T20:51:56.738287",
     "exception": false,
     "start_time": "2022-06-11T20:51:56.715562",
     "status": "completed"
    },
    "tags": []
   },
   "outputs": [],
   "source": [
    "import warnings\n",
    "import sys\n",
    "sys.path.insert(0, '../../src')\n",
    "warnings.filterwarnings('ignore')"
   ]
  },
  {
   "cell_type": "code",
   "execution_count": 2,
   "id": "d6a4e155",
   "metadata": {
    "execution": {
     "iopub.execute_input": "2022-06-11T20:51:56.759444Z",
     "iopub.status.busy": "2022-06-11T20:51:56.759010Z",
     "iopub.status.idle": "2022-06-11T20:51:58.415655Z",
     "shell.execute_reply": "2022-06-11T20:51:58.415915Z"
    },
    "id": "d6a4e155",
    "papermill": {
     "duration": 1.667925,
     "end_time": "2022-06-11T20:51:58.416039",
     "exception": false,
     "start_time": "2022-06-11T20:51:56.748114",
     "status": "completed"
    },
    "tags": []
   },
   "outputs": [],
   "source": [
    "import ABC_train_test2\n",
    "import bostonDataset\n",
    "import network\n",
    "import dataset\n",
    "import sanityChecks\n",
    "import torch \n",
    "import scrapbook as sb\n",
    "from statistics import mean \n",
    "import catboost as ctb \n",
    "from sklearn.model_selection import train_test_split\n",
    "from sklearn.metrics import mean_squared_error,mean_absolute_error\n",
    "import numpy as np"
   ]
  },
  {
   "cell_type": "markdown",
   "id": "2fa5b0f7",
   "metadata": {
    "id": "2fa5b0f7",
    "papermill": {
     "duration": 0.006778,
     "end_time": "2022-06-11T20:51:58.430023",
     "exception": false,
     "start_time": "2022-06-11T20:51:58.423245",
     "status": "completed"
    },
    "tags": []
   },
   "source": [
    "## Parameters "
   ]
  },
  {
   "cell_type": "code",
   "execution_count": 3,
   "id": "783186fb",
   "metadata": {
    "execution": {
     "iopub.execute_input": "2022-06-11T20:51:58.445610Z",
     "iopub.status.busy": "2022-06-11T20:51:58.445241Z",
     "iopub.status.idle": "2022-06-11T20:51:58.446667Z",
     "shell.execute_reply": "2022-06-11T20:51:58.446902Z"
    },
    "id": "783186fb",
    "papermill": {
     "duration": 0.010248,
     "end_time": "2022-06-11T20:51:58.447006",
     "exception": false,
     "start_time": "2022-06-11T20:51:58.436758",
     "status": "completed"
    },
    "tags": [
     "parameters"
    ]
   },
   "outputs": [],
   "source": [
    "variance = 1\n",
    "bias = 1 "
   ]
  },
  {
   "cell_type": "code",
   "execution_count": 4,
   "id": "2e1da1c2",
   "metadata": {
    "execution": {
     "iopub.execute_input": "2022-06-11T20:51:58.462422Z",
     "iopub.status.busy": "2022-06-11T20:51:58.462057Z",
     "iopub.status.idle": "2022-06-11T20:51:58.463468Z",
     "shell.execute_reply": "2022-06-11T20:51:58.463713Z"
    },
    "papermill": {
     "duration": 0.009989,
     "end_time": "2022-06-11T20:51:58.463817",
     "exception": false,
     "start_time": "2022-06-11T20:51:58.453828",
     "status": "completed"
    },
    "tags": [
     "injected-parameters"
    ]
   },
   "outputs": [],
   "source": [
    "# Parameters\n",
    "variance = 0.01\n",
    "bias = 0.1\n"
   ]
  },
  {
   "cell_type": "markdown",
   "id": "391cdbfd",
   "metadata": {
    "id": "391cdbfd",
    "papermill": {
     "duration": 0.00674,
     "end_time": "2022-06-11T20:51:58.477451",
     "exception": false,
     "start_time": "2022-06-11T20:51:58.470711",
     "status": "completed"
    },
    "tags": []
   },
   "source": [
    "## Dataset \n"
   ]
  },
  {
   "cell_type": "code",
   "execution_count": 5,
   "id": "5b51f161",
   "metadata": {
    "execution": {
     "iopub.execute_input": "2022-06-11T20:51:58.492929Z",
     "iopub.status.busy": "2022-06-11T20:51:58.492570Z",
     "iopub.status.idle": "2022-06-11T20:51:58.493923Z",
     "shell.execute_reply": "2022-06-11T20:51:58.494161Z"
    },
    "id": "5b51f161",
    "papermill": {
     "duration": 0.010008,
     "end_time": "2022-06-11T20:51:58.494272",
     "exception": false,
     "start_time": "2022-06-11T20:51:58.484264",
     "status": "completed"
    },
    "tags": []
   },
   "outputs": [],
   "source": [
    "#Parameters \n",
    "n_features = 13\n",
    "n_samples= 506\n",
    "n_target = 1 "
   ]
  },
  {
   "cell_type": "code",
   "execution_count": 6,
   "id": "5d6eced4",
   "metadata": {
    "execution": {
     "iopub.execute_input": "2022-06-11T20:51:58.509794Z",
     "iopub.status.busy": "2022-06-11T20:51:58.509433Z",
     "iopub.status.idle": "2022-06-11T20:51:58.519763Z",
     "shell.execute_reply": "2022-06-11T20:51:58.520004Z"
    },
    "id": "5d6eced4",
    "papermill": {
     "duration": 0.018986,
     "end_time": "2022-06-11T20:51:58.520112",
     "exception": false,
     "start_time": "2022-06-11T20:51:58.501126",
     "status": "completed"
    },
    "tags": []
   },
   "outputs": [
    {
     "name": "stdout",
     "output_type": "stream",
     "text": [
      "         X1        X2        X3        X4        X5        X6        X7  \\\n",
      "0 -0.419782  0.284830 -1.287909 -0.272599 -0.144217  0.413672 -0.120013   \n",
      "1 -0.417339 -0.487722 -0.593381 -0.272599 -0.740262  0.194274  0.367166   \n",
      "2 -0.417342 -0.487722 -0.593381 -0.272599 -0.740262  1.282714 -0.265812   \n",
      "3 -0.416750 -0.487722 -1.306878 -0.272599 -0.835284  1.016303 -0.809889   \n",
      "4 -0.412482 -0.487722 -1.306878 -0.272599 -0.835284  1.228577 -0.511180   \n",
      "\n",
      "         X8        X9       X10       X11       X12       X13         Y  \n",
      "0  0.140214 -0.982843 -0.666608 -1.459000  0.441052 -1.075562  0.159686  \n",
      "1  0.557160 -0.867883 -0.987329 -0.303094  0.441052 -0.492439 -0.101524  \n",
      "2  0.557160 -0.867883 -0.987329 -0.303094  0.396427 -1.208727  1.324247  \n",
      "3  1.077737 -0.752922 -1.106115  0.113032  0.416163 -1.361517  1.182758  \n",
      "4  1.077737 -0.752922 -1.106115  0.113032  0.441052 -1.026501  1.487503  \n"
     ]
    }
   ],
   "source": [
    "X,Y = bostonDataset.boston_data()"
   ]
  },
  {
   "cell_type": "code",
   "execution_count": 7,
   "id": "fe007438",
   "metadata": {
    "execution": {
     "iopub.execute_input": "2022-06-11T20:51:58.537117Z",
     "iopub.status.busy": "2022-06-11T20:51:58.536736Z",
     "iopub.status.idle": "2022-06-11T20:51:58.538109Z",
     "shell.execute_reply": "2022-06-11T20:51:58.538349Z"
    },
    "id": "fe007438",
    "papermill": {
     "duration": 0.011016,
     "end_time": "2022-06-11T20:51:58.538457",
     "exception": false,
     "start_time": "2022-06-11T20:51:58.527441",
     "status": "completed"
    },
    "tags": []
   },
   "outputs": [],
   "source": [
    "#Train test split for dataset \n",
    "X_train,X_test,Y_train,Y_test = train_test_split(X,Y,test_size = 0.2)\n",
    "train_data = dataset.CustomDataset(X_train,Y_train)\n",
    "test_data = dataset.CustomDataset(X_test,Y_test)\n"
   ]
  },
  {
   "cell_type": "markdown",
   "id": "a9a1af34",
   "metadata": {
    "id": "a9a1af34",
    "papermill": {
     "duration": 0.007029,
     "end_time": "2022-06-11T20:51:58.552632",
     "exception": false,
     "start_time": "2022-06-11T20:51:58.545603",
     "status": "completed"
    },
    "tags": []
   },
   "source": [
    "## Training Parameters "
   ]
  },
  {
   "cell_type": "code",
   "execution_count": 8,
   "id": "952b7fc8",
   "metadata": {
    "execution": {
     "iopub.execute_input": "2022-06-11T20:51:58.569177Z",
     "iopub.status.busy": "2022-06-11T20:51:58.568800Z",
     "iopub.status.idle": "2022-06-11T20:51:58.570312Z",
     "shell.execute_reply": "2022-06-11T20:51:58.570552Z"
    },
    "id": "952b7fc8",
    "papermill": {
     "duration": 0.011036,
     "end_time": "2022-06-11T20:51:58.570657",
     "exception": false,
     "start_time": "2022-06-11T20:51:58.559621",
     "status": "completed"
    },
    "tags": []
   },
   "outputs": [],
   "source": [
    "batch_size = 32\n",
    "n_epochs = 1000\n",
    "#Select the device \n",
    "device = torch.device('cuda' if torch.cuda.is_available() else 'cpu')"
   ]
  },
  {
   "cell_type": "markdown",
   "id": "a95e1600",
   "metadata": {
    "id": "a95e1600",
    "papermill": {
     "duration": 0.007094,
     "end_time": "2022-06-11T20:51:58.585460",
     "exception": false,
     "start_time": "2022-06-11T20:51:58.578366",
     "status": "completed"
    },
    "tags": []
   },
   "source": [
    "# ABC Pre-generator Model \n",
    "\n",
    "1. The catboost model is used as a pre-generator model for the ABC-GAN. \n",
    "2. The model is first trained on the entire dataset \n",
    "3. It generats X,Y pairs and we add some Gaussian noise with mean 0 and variance 1 to it which is then feed as input to the generator.\n"
   ]
  },
  {
   "cell_type": "code",
   "execution_count": 9,
   "id": "ff8ce7bd",
   "metadata": {
    "execution": {
     "iopub.execute_input": "2022-06-11T20:51:58.604140Z",
     "iopub.status.busy": "2022-06-11T20:51:58.603769Z",
     "iopub.status.idle": "2022-06-11T20:51:59.573991Z",
     "shell.execute_reply": "2022-06-11T20:51:59.574302Z"
    },
    "id": "ff8ce7bd",
    "papermill": {
     "duration": 0.981868,
     "end_time": "2022-06-11T20:51:59.574432",
     "exception": false,
     "start_time": "2022-06-11T20:51:58.592564",
     "status": "completed"
    },
    "tags": []
   },
   "outputs": [
    {
     "name": "stdout",
     "output_type": "stream",
     "text": [
      "Learning rate set to 0.033215\n",
      "0:\tlearn: 0.9589765\ttotal: 70.2ms\tremaining: 1m 10s\n",
      "1:\tlearn: 0.9403369\ttotal: 71.4ms\tremaining: 35.6s\n",
      "2:\tlearn: 0.9205208\ttotal: 72.5ms\tremaining: 24.1s\n",
      "3:\tlearn: 0.9046535\ttotal: 73.6ms\tremaining: 18.3s\n",
      "4:\tlearn: 0.8873150\ttotal: 74.7ms\tremaining: 14.9s\n",
      "5:\tlearn: 0.8706391\ttotal: 75.8ms\tremaining: 12.6s\n",
      "6:\tlearn: 0.8548607\ttotal: 76.8ms\tremaining: 10.9s\n",
      "7:\tlearn: 0.8379575\ttotal: 77.8ms\tremaining: 9.64s\n",
      "8:\tlearn: 0.8226380\ttotal: 78.8ms\tremaining: 8.68s\n",
      "9:\tlearn: 0.8058438\ttotal: 79.8ms\tremaining: 7.9s\n",
      "10:\tlearn: 0.7901061\ttotal: 80.8ms\tremaining: 7.26s\n",
      "11:\tlearn: 0.7748707\ttotal: 81.8ms\tremaining: 6.74s\n",
      "12:\tlearn: 0.7596402\ttotal: 82.7ms\tremaining: 6.28s\n",
      "13:\tlearn: 0.7446502\ttotal: 83.6ms\tremaining: 5.89s\n",
      "14:\tlearn: 0.7303546\ttotal: 84.5ms\tremaining: 5.55s\n",
      "15:\tlearn: 0.7163294\ttotal: 85.4ms\tremaining: 5.25s\n",
      "16:\tlearn: 0.7039438\ttotal: 86.4ms\tremaining: 5s\n",
      "17:\tlearn: 0.6910926\ttotal: 87.3ms\tremaining: 4.76s\n",
      "18:\tlearn: 0.6790864\ttotal: 88.2ms\tremaining: 4.55s\n",
      "19:\tlearn: 0.6674363\ttotal: 89.1ms\tremaining: 4.37s\n",
      "20:\tlearn: 0.6557958\ttotal: 89.9ms\tremaining: 4.19s\n",
      "21:\tlearn: 0.6452622\ttotal: 90.8ms\tremaining: 4.04s\n",
      "22:\tlearn: 0.6347335\ttotal: 91.6ms\tremaining: 3.89s\n",
      "23:\tlearn: 0.6256539\ttotal: 92.6ms\tremaining: 3.77s\n",
      "24:\tlearn: 0.6159706\ttotal: 93.4ms\tremaining: 3.64s\n",
      "25:\tlearn: 0.6073063\ttotal: 94.3ms\tremaining: 3.53s\n",
      "26:\tlearn: 0.5976598\ttotal: 95ms\tremaining: 3.42s\n",
      "27:\tlearn: 0.5889948\ttotal: 95.8ms\tremaining: 3.32s\n",
      "28:\tlearn: 0.5791057\ttotal: 96.5ms\tremaining: 3.23s\n",
      "29:\tlearn: 0.5695341\ttotal: 97.3ms\tremaining: 3.15s\n",
      "30:\tlearn: 0.5603768\ttotal: 98.1ms\tremaining: 3.06s\n",
      "31:\tlearn: 0.5524036\ttotal: 98.9ms\tremaining: 2.99s\n",
      "32:\tlearn: 0.5453771\ttotal: 99.5ms\tremaining: 2.92s\n",
      "33:\tlearn: 0.5378640\ttotal: 100ms\tremaining: 2.85s\n",
      "34:\tlearn: 0.5307185\ttotal: 101ms\tremaining: 2.79s\n",
      "35:\tlearn: 0.5235474\ttotal: 102ms\tremaining: 2.73s\n",
      "36:\tlearn: 0.5181451\ttotal: 103ms\tremaining: 2.67s\n",
      "37:\tlearn: 0.5111277\ttotal: 103ms\tremaining: 2.62s\n",
      "38:\tlearn: 0.5038897\ttotal: 104ms\tremaining: 2.57s\n",
      "39:\tlearn: 0.4966776\ttotal: 105ms\tremaining: 2.52s\n",
      "40:\tlearn: 0.4905036\ttotal: 106ms\tremaining: 2.47s\n",
      "41:\tlearn: 0.4845607\ttotal: 106ms\tremaining: 2.43s\n",
      "42:\tlearn: 0.4787920\ttotal: 107ms\tremaining: 2.39s\n",
      "43:\tlearn: 0.4741091\ttotal: 108ms\tremaining: 2.35s\n"
     ]
    },
    {
     "name": "stdout",
     "output_type": "stream",
     "text": [
      "44:\tlearn: 0.4692268\ttotal: 109ms\tremaining: 2.31s\n",
      "45:\tlearn: 0.4637634\ttotal: 110ms\tremaining: 2.28s\n",
      "46:\tlearn: 0.4593033\ttotal: 111ms\tremaining: 2.25s\n",
      "47:\tlearn: 0.4535691\ttotal: 111ms\tremaining: 2.21s\n",
      "48:\tlearn: 0.4492552\ttotal: 112ms\tremaining: 2.18s\n",
      "49:\tlearn: 0.4443767\ttotal: 113ms\tremaining: 2.15s\n",
      "50:\tlearn: 0.4395486\ttotal: 114ms\tremaining: 2.12s\n",
      "51:\tlearn: 0.4349793\ttotal: 114ms\tremaining: 2.09s\n",
      "52:\tlearn: 0.4305922\ttotal: 115ms\tremaining: 2.06s\n",
      "53:\tlearn: 0.4274215\ttotal: 116ms\tremaining: 2.03s\n",
      "54:\tlearn: 0.4231024\ttotal: 117ms\tremaining: 2s\n",
      "55:\tlearn: 0.4194115\ttotal: 117ms\tremaining: 1.98s\n",
      "56:\tlearn: 0.4152439\ttotal: 118ms\tremaining: 1.95s\n",
      "57:\tlearn: 0.4111680\ttotal: 119ms\tremaining: 1.93s\n",
      "58:\tlearn: 0.4074321\ttotal: 119ms\tremaining: 1.91s\n",
      "59:\tlearn: 0.4036412\ttotal: 120ms\tremaining: 1.88s\n",
      "60:\tlearn: 0.3995203\ttotal: 121ms\tremaining: 1.86s\n",
      "61:\tlearn: 0.3964661\ttotal: 122ms\tremaining: 1.84s\n",
      "62:\tlearn: 0.3933079\ttotal: 122ms\tremaining: 1.82s\n",
      "63:\tlearn: 0.3897305\ttotal: 123ms\tremaining: 1.8s\n",
      "64:\tlearn: 0.3865228\ttotal: 124ms\tremaining: 1.78s\n",
      "65:\tlearn: 0.3831155\ttotal: 125ms\tremaining: 1.76s\n",
      "66:\tlearn: 0.3798631\ttotal: 126ms\tremaining: 1.75s\n",
      "67:\tlearn: 0.3765745\ttotal: 126ms\tremaining: 1.73s\n",
      "68:\tlearn: 0.3733299\ttotal: 127ms\tremaining: 1.72s\n",
      "69:\tlearn: 0.3705200\ttotal: 129ms\tremaining: 1.71s\n",
      "70:\tlearn: 0.3677423\ttotal: 130ms\tremaining: 1.7s\n",
      "71:\tlearn: 0.3641602\ttotal: 130ms\tremaining: 1.68s\n",
      "72:\tlearn: 0.3616687\ttotal: 131ms\tremaining: 1.66s\n",
      "73:\tlearn: 0.3588074\ttotal: 132ms\tremaining: 1.65s\n",
      "74:\tlearn: 0.3564513\ttotal: 133ms\tremaining: 1.64s\n",
      "75:\tlearn: 0.3542073\ttotal: 134ms\tremaining: 1.62s\n",
      "76:\tlearn: 0.3509647\ttotal: 134ms\tremaining: 1.61s\n",
      "77:\tlearn: 0.3477319\ttotal: 135ms\tremaining: 1.6s\n",
      "78:\tlearn: 0.3460237\ttotal: 136ms\tremaining: 1.59s\n",
      "79:\tlearn: 0.3441214\ttotal: 137ms\tremaining: 1.58s\n",
      "80:\tlearn: 0.3417474\ttotal: 138ms\tremaining: 1.56s\n",
      "81:\tlearn: 0.3386777\ttotal: 139ms\tremaining: 1.55s\n",
      "82:\tlearn: 0.3370873\ttotal: 140ms\tremaining: 1.54s\n",
      "83:\tlearn: 0.3350936\ttotal: 140ms\tremaining: 1.53s\n",
      "84:\tlearn: 0.3327631\ttotal: 141ms\tremaining: 1.52s\n",
      "85:\tlearn: 0.3306118\ttotal: 142ms\tremaining: 1.51s\n",
      "86:\tlearn: 0.3288795\ttotal: 143ms\tremaining: 1.5s\n",
      "87:\tlearn: 0.3269474\ttotal: 144ms\tremaining: 1.49s\n",
      "88:\tlearn: 0.3245606\ttotal: 145ms\tremaining: 1.48s\n",
      "89:\tlearn: 0.3223125\ttotal: 146ms\tremaining: 1.47s\n",
      "90:\tlearn: 0.3201604\ttotal: 146ms\tremaining: 1.46s\n",
      "91:\tlearn: 0.3185533\ttotal: 147ms\tremaining: 1.45s\n",
      "92:\tlearn: 0.3169767\ttotal: 148ms\tremaining: 1.44s\n",
      "93:\tlearn: 0.3153353\ttotal: 149ms\tremaining: 1.43s\n",
      "94:\tlearn: 0.3131026\ttotal: 149ms\tremaining: 1.42s\n",
      "95:\tlearn: 0.3124373\ttotal: 150ms\tremaining: 1.42s\n",
      "96:\tlearn: 0.3110296\ttotal: 151ms\tremaining: 1.41s\n",
      "97:\tlearn: 0.3095505\ttotal: 152ms\tremaining: 1.4s\n",
      "98:\tlearn: 0.3084390\ttotal: 153ms\tremaining: 1.39s\n",
      "99:\tlearn: 0.3071478\ttotal: 154ms\tremaining: 1.38s\n",
      "100:\tlearn: 0.3055127\ttotal: 154ms\tremaining: 1.37s\n",
      "101:\tlearn: 0.3036775\ttotal: 156ms\tremaining: 1.37s\n",
      "102:\tlearn: 0.3023983\ttotal: 157ms\tremaining: 1.37s\n",
      "103:\tlearn: 0.3012096\ttotal: 158ms\tremaining: 1.36s\n",
      "104:\tlearn: 0.2998648\ttotal: 159ms\tremaining: 1.35s\n",
      "105:\tlearn: 0.2985413\ttotal: 159ms\tremaining: 1.34s\n",
      "106:\tlearn: 0.2973019\ttotal: 160ms\tremaining: 1.33s\n",
      "107:\tlearn: 0.2959836\ttotal: 161ms\tremaining: 1.33s\n",
      "108:\tlearn: 0.2946309\ttotal: 162ms\tremaining: 1.32s\n",
      "109:\tlearn: 0.2939635\ttotal: 162ms\tremaining: 1.31s\n",
      "110:\tlearn: 0.2925061\ttotal: 163ms\tremaining: 1.31s\n",
      "111:\tlearn: 0.2910162\ttotal: 164ms\tremaining: 1.3s\n",
      "112:\tlearn: 0.2894701\ttotal: 165ms\tremaining: 1.29s\n",
      "113:\tlearn: 0.2883112\ttotal: 166ms\tremaining: 1.29s\n",
      "114:\tlearn: 0.2871778\ttotal: 167ms\tremaining: 1.28s\n",
      "115:\tlearn: 0.2863535\ttotal: 168ms\tremaining: 1.28s\n",
      "116:\tlearn: 0.2851656\ttotal: 168ms\tremaining: 1.27s\n",
      "117:\tlearn: 0.2839754\ttotal: 169ms\tremaining: 1.26s\n",
      "118:\tlearn: 0.2827336\ttotal: 170ms\tremaining: 1.26s\n",
      "119:\tlearn: 0.2820435\ttotal: 171ms\tremaining: 1.25s\n",
      "120:\tlearn: 0.2809141\ttotal: 172ms\tremaining: 1.25s\n",
      "121:\tlearn: 0.2799059\ttotal: 173ms\tremaining: 1.24s\n",
      "122:\tlearn: 0.2786530\ttotal: 173ms\tremaining: 1.24s\n",
      "123:\tlearn: 0.2776313\ttotal: 174ms\tremaining: 1.23s\n",
      "124:\tlearn: 0.2769357\ttotal: 175ms\tremaining: 1.22s\n",
      "125:\tlearn: 0.2756458\ttotal: 176ms\tremaining: 1.22s\n",
      "126:\tlearn: 0.2741452\ttotal: 176ms\tremaining: 1.21s\n",
      "127:\tlearn: 0.2734877\ttotal: 177ms\tremaining: 1.21s\n",
      "128:\tlearn: 0.2724202\ttotal: 178ms\tremaining: 1.2s\n",
      "129:\tlearn: 0.2714341\ttotal: 179ms\tremaining: 1.2s\n",
      "130:\tlearn: 0.2706606\ttotal: 180ms\tremaining: 1.19s\n",
      "131:\tlearn: 0.2694132\ttotal: 180ms\tremaining: 1.19s\n",
      "132:\tlearn: 0.2686279\ttotal: 181ms\tremaining: 1.18s\n",
      "133:\tlearn: 0.2676621\ttotal: 182ms\tremaining: 1.18s\n",
      "134:\tlearn: 0.2669021\ttotal: 183ms\tremaining: 1.17s\n",
      "135:\tlearn: 0.2662056\ttotal: 184ms\tremaining: 1.17s\n",
      "136:\tlearn: 0.2655626\ttotal: 185ms\tremaining: 1.16s\n",
      "137:\tlearn: 0.2648484\ttotal: 186ms\tremaining: 1.16s\n",
      "138:\tlearn: 0.2639843\ttotal: 186ms\tremaining: 1.15s\n",
      "139:\tlearn: 0.2632092\ttotal: 187ms\tremaining: 1.15s\n",
      "140:\tlearn: 0.2620518\ttotal: 188ms\tremaining: 1.15s\n",
      "141:\tlearn: 0.2614245\ttotal: 189ms\tremaining: 1.14s\n",
      "142:\tlearn: 0.2608606\ttotal: 190ms\tremaining: 1.14s\n",
      "143:\tlearn: 0.2602033\ttotal: 191ms\tremaining: 1.13s\n",
      "144:\tlearn: 0.2597980\ttotal: 191ms\tremaining: 1.13s\n"
     ]
    },
    {
     "name": "stdout",
     "output_type": "stream",
     "text": [
      "145:\tlearn: 0.2589232\ttotal: 192ms\tremaining: 1.12s\n",
      "146:\tlearn: 0.2580584\ttotal: 193ms\tremaining: 1.12s\n",
      "147:\tlearn: 0.2575338\ttotal: 195ms\tremaining: 1.12s\n",
      "148:\tlearn: 0.2565092\ttotal: 195ms\tremaining: 1.12s\n",
      "149:\tlearn: 0.2558862\ttotal: 196ms\tremaining: 1.11s\n",
      "150:\tlearn: 0.2551341\ttotal: 197ms\tremaining: 1.11s\n",
      "151:\tlearn: 0.2543579\ttotal: 198ms\tremaining: 1.1s\n",
      "152:\tlearn: 0.2536742\ttotal: 199ms\tremaining: 1.1s\n",
      "153:\tlearn: 0.2532377\ttotal: 199ms\tremaining: 1.09s\n",
      "154:\tlearn: 0.2526112\ttotal: 200ms\tremaining: 1.09s\n",
      "155:\tlearn: 0.2515814\ttotal: 201ms\tremaining: 1.09s\n",
      "156:\tlearn: 0.2503980\ttotal: 202ms\tremaining: 1.08s\n",
      "157:\tlearn: 0.2501227\ttotal: 203ms\tremaining: 1.08s\n",
      "158:\tlearn: 0.2493163\ttotal: 204ms\tremaining: 1.08s\n",
      "159:\tlearn: 0.2485562\ttotal: 205ms\tremaining: 1.08s\n",
      "160:\tlearn: 0.2478166\ttotal: 206ms\tremaining: 1.07s\n",
      "161:\tlearn: 0.2471876\ttotal: 207ms\tremaining: 1.07s\n",
      "162:\tlearn: 0.2468533\ttotal: 208ms\tremaining: 1.07s\n",
      "163:\tlearn: 0.2465550\ttotal: 208ms\tremaining: 1.06s\n",
      "164:\tlearn: 0.2459169\ttotal: 209ms\tremaining: 1.06s\n",
      "165:\tlearn: 0.2452033\ttotal: 210ms\tremaining: 1.05s\n",
      "166:\tlearn: 0.2445712\ttotal: 211ms\tremaining: 1.05s\n",
      "167:\tlearn: 0.2437602\ttotal: 212ms\tremaining: 1.05s\n",
      "168:\tlearn: 0.2433388\ttotal: 213ms\tremaining: 1.04s\n",
      "169:\tlearn: 0.2426030\ttotal: 214ms\tremaining: 1.04s\n",
      "170:\tlearn: 0.2420919\ttotal: 214ms\tremaining: 1.04s\n",
      "171:\tlearn: 0.2414169\ttotal: 215ms\tremaining: 1.03s\n",
      "172:\tlearn: 0.2408156\ttotal: 216ms\tremaining: 1.03s\n",
      "173:\tlearn: 0.2403223\ttotal: 217ms\tremaining: 1.03s\n",
      "174:\tlearn: 0.2395360\ttotal: 217ms\tremaining: 1.02s\n",
      "175:\tlearn: 0.2393350\ttotal: 218ms\tremaining: 1.02s\n",
      "176:\tlearn: 0.2388805\ttotal: 219ms\tremaining: 1.02s\n",
      "177:\tlearn: 0.2379729\ttotal: 220ms\tremaining: 1.01s\n",
      "178:\tlearn: 0.2374591\ttotal: 221ms\tremaining: 1.01s\n",
      "179:\tlearn: 0.2370811\ttotal: 221ms\tremaining: 1.01s\n",
      "180:\tlearn: 0.2362373\ttotal: 222ms\tremaining: 1s\n",
      "181:\tlearn: 0.2355898\ttotal: 223ms\tremaining: 1s\n",
      "182:\tlearn: 0.2350492\ttotal: 224ms\tremaining: 999ms\n",
      "183:\tlearn: 0.2347792\ttotal: 225ms\tremaining: 996ms\n",
      "184:\tlearn: 0.2336193\ttotal: 226ms\tremaining: 994ms\n",
      "185:\tlearn: 0.2330775\ttotal: 226ms\tremaining: 990ms\n",
      "186:\tlearn: 0.2322350\ttotal: 227ms\tremaining: 987ms\n",
      "187:\tlearn: 0.2319463\ttotal: 228ms\tremaining: 984ms\n",
      "188:\tlearn: 0.2312649\ttotal: 229ms\tremaining: 981ms\n",
      "189:\tlearn: 0.2307028\ttotal: 229ms\tremaining: 978ms\n",
      "190:\tlearn: 0.2301328\ttotal: 230ms\tremaining: 976ms\n",
      "191:\tlearn: 0.2293728\ttotal: 231ms\tremaining: 972ms\n",
      "192:\tlearn: 0.2287937\ttotal: 232ms\tremaining: 969ms\n",
      "193:\tlearn: 0.2280410\ttotal: 233ms\tremaining: 969ms\n",
      "194:\tlearn: 0.2274517\ttotal: 234ms\tremaining: 966ms\n",
      "195:\tlearn: 0.2269001\ttotal: 235ms\tremaining: 964ms\n",
      "196:\tlearn: 0.2264087\ttotal: 236ms\tremaining: 962ms\n",
      "197:\tlearn: 0.2259916\ttotal: 237ms\tremaining: 959ms\n",
      "198:\tlearn: 0.2255107\ttotal: 238ms\tremaining: 956ms\n",
      "199:\tlearn: 0.2249284\ttotal: 239ms\tremaining: 954ms\n",
      "200:\tlearn: 0.2246639\ttotal: 239ms\tremaining: 952ms\n",
      "201:\tlearn: 0.2241177\ttotal: 240ms\tremaining: 949ms\n",
      "202:\tlearn: 0.2236913\ttotal: 241ms\tremaining: 947ms\n",
      "203:\tlearn: 0.2229435\ttotal: 242ms\tremaining: 944ms\n",
      "204:\tlearn: 0.2223451\ttotal: 243ms\tremaining: 942ms\n",
      "205:\tlearn: 0.2215494\ttotal: 244ms\tremaining: 939ms\n",
      "206:\tlearn: 0.2210842\ttotal: 244ms\tremaining: 936ms\n",
      "207:\tlearn: 0.2207976\ttotal: 245ms\tremaining: 934ms\n",
      "208:\tlearn: 0.2201648\ttotal: 246ms\tremaining: 932ms\n",
      "209:\tlearn: 0.2196329\ttotal: 247ms\tremaining: 929ms\n",
      "210:\tlearn: 0.2191561\ttotal: 248ms\tremaining: 927ms\n",
      "211:\tlearn: 0.2186608\ttotal: 249ms\tremaining: 924ms\n",
      "212:\tlearn: 0.2183545\ttotal: 249ms\tremaining: 922ms\n",
      "213:\tlearn: 0.2179547\ttotal: 250ms\tremaining: 919ms\n",
      "214:\tlearn: 0.2174781\ttotal: 251ms\tremaining: 917ms\n",
      "215:\tlearn: 0.2170227\ttotal: 252ms\tremaining: 914ms\n",
      "216:\tlearn: 0.2166499\ttotal: 253ms\tremaining: 912ms\n",
      "217:\tlearn: 0.2160831\ttotal: 253ms\tremaining: 909ms\n",
      "218:\tlearn: 0.2155061\ttotal: 254ms\tremaining: 907ms\n",
      "219:\tlearn: 0.2151420\ttotal: 255ms\tremaining: 904ms\n",
      "220:\tlearn: 0.2145892\ttotal: 256ms\tremaining: 902ms\n",
      "221:\tlearn: 0.2141611\ttotal: 257ms\tremaining: 900ms\n",
      "222:\tlearn: 0.2137420\ttotal: 257ms\tremaining: 897ms\n",
      "223:\tlearn: 0.2132420\ttotal: 258ms\tremaining: 895ms\n",
      "224:\tlearn: 0.2128645\ttotal: 259ms\tremaining: 892ms\n",
      "225:\tlearn: 0.2124386\ttotal: 260ms\tremaining: 890ms\n",
      "226:\tlearn: 0.2119250\ttotal: 261ms\tremaining: 889ms\n",
      "227:\tlearn: 0.2116447\ttotal: 262ms\tremaining: 886ms\n",
      "228:\tlearn: 0.2109651\ttotal: 262ms\tremaining: 884ms\n",
      "229:\tlearn: 0.2105454\ttotal: 263ms\tremaining: 881ms\n",
      "230:\tlearn: 0.2101034\ttotal: 264ms\tremaining: 879ms\n",
      "231:\tlearn: 0.2097431\ttotal: 265ms\tremaining: 877ms\n",
      "232:\tlearn: 0.2092621\ttotal: 266ms\tremaining: 875ms\n",
      "233:\tlearn: 0.2087806\ttotal: 267ms\tremaining: 873ms\n",
      "234:\tlearn: 0.2083520\ttotal: 267ms\tremaining: 870ms\n",
      "235:\tlearn: 0.2079505\ttotal: 268ms\tremaining: 868ms\n",
      "236:\tlearn: 0.2075029\ttotal: 269ms\tremaining: 866ms\n",
      "237:\tlearn: 0.2069203\ttotal: 270ms\tremaining: 864ms\n",
      "238:\tlearn: 0.2065610\ttotal: 271ms\tremaining: 862ms\n",
      "239:\tlearn: 0.2063076\ttotal: 271ms\tremaining: 859ms\n",
      "240:\tlearn: 0.2056652\ttotal: 272ms\tremaining: 857ms\n",
      "241:\tlearn: 0.2051793\ttotal: 273ms\tremaining: 855ms\n",
      "242:\tlearn: 0.2047613\ttotal: 274ms\tremaining: 853ms\n",
      "243:\tlearn: 0.2046696\ttotal: 275ms\tremaining: 851ms\n",
      "244:\tlearn: 0.2041203\ttotal: 275ms\tremaining: 848ms\n",
      "245:\tlearn: 0.2037593\ttotal: 276ms\tremaining: 846ms\n",
      "246:\tlearn: 0.2031081\ttotal: 277ms\tremaining: 845ms\n",
      "247:\tlearn: 0.2027753\ttotal: 278ms\tremaining: 842ms\n",
      "248:\tlearn: 0.2020406\ttotal: 279ms\tremaining: 840ms\n",
      "249:\tlearn: 0.2016930\ttotal: 279ms\tremaining: 838ms\n",
      "250:\tlearn: 0.2011943\ttotal: 280ms\tremaining: 837ms\n",
      "251:\tlearn: 0.2007390\ttotal: 281ms\tremaining: 835ms\n",
      "252:\tlearn: 0.2002616\ttotal: 282ms\tremaining: 833ms\n",
      "253:\tlearn: 0.2000448\ttotal: 283ms\tremaining: 831ms\n",
      "254:\tlearn: 0.1998449\ttotal: 284ms\tremaining: 830ms\n",
      "255:\tlearn: 0.1996994\ttotal: 285ms\tremaining: 828ms\n",
      "256:\tlearn: 0.1992697\ttotal: 286ms\tremaining: 826ms\n",
      "257:\tlearn: 0.1990194\ttotal: 287ms\tremaining: 826ms\n",
      "258:\tlearn: 0.1987032\ttotal: 288ms\tremaining: 824ms\n",
      "259:\tlearn: 0.1984217\ttotal: 289ms\tremaining: 822ms\n",
      "260:\tlearn: 0.1977246\ttotal: 290ms\tremaining: 820ms\n",
      "261:\tlearn: 0.1973983\ttotal: 290ms\tremaining: 818ms\n",
      "262:\tlearn: 0.1970626\ttotal: 291ms\tremaining: 816ms\n",
      "263:\tlearn: 0.1966987\ttotal: 292ms\tremaining: 814ms\n",
      "264:\tlearn: 0.1966512\ttotal: 293ms\tremaining: 812ms\n",
      "265:\tlearn: 0.1963490\ttotal: 294ms\tremaining: 810ms\n",
      "266:\tlearn: 0.1959742\ttotal: 294ms\tremaining: 808ms\n",
      "267:\tlearn: 0.1956124\ttotal: 295ms\tremaining: 806ms\n",
      "268:\tlearn: 0.1951089\ttotal: 296ms\tremaining: 805ms\n",
      "269:\tlearn: 0.1950316\ttotal: 297ms\tremaining: 803ms\n",
      "270:\tlearn: 0.1948928\ttotal: 298ms\tremaining: 801ms\n"
     ]
    },
    {
     "name": "stdout",
     "output_type": "stream",
     "text": [
      "271:\tlearn: 0.1945832\ttotal: 299ms\tremaining: 800ms\n",
      "272:\tlearn: 0.1945114\ttotal: 300ms\tremaining: 799ms\n",
      "273:\tlearn: 0.1942150\ttotal: 301ms\tremaining: 797ms\n",
      "274:\tlearn: 0.1938616\ttotal: 301ms\tremaining: 795ms\n",
      "275:\tlearn: 0.1936784\ttotal: 302ms\tremaining: 793ms\n",
      "276:\tlearn: 0.1932299\ttotal: 303ms\tremaining: 791ms\n",
      "277:\tlearn: 0.1928875\ttotal: 304ms\tremaining: 789ms\n",
      "278:\tlearn: 0.1926561\ttotal: 305ms\tremaining: 787ms\n",
      "279:\tlearn: 0.1925083\ttotal: 305ms\tremaining: 785ms\n",
      "280:\tlearn: 0.1919186\ttotal: 306ms\tremaining: 783ms\n",
      "281:\tlearn: 0.1912086\ttotal: 307ms\tremaining: 781ms\n",
      "282:\tlearn: 0.1909372\ttotal: 308ms\tremaining: 780ms\n",
      "283:\tlearn: 0.1907332\ttotal: 309ms\tremaining: 778ms\n",
      "284:\tlearn: 0.1902318\ttotal: 309ms\tremaining: 776ms\n",
      "285:\tlearn: 0.1898868\ttotal: 310ms\tremaining: 774ms\n",
      "286:\tlearn: 0.1897711\ttotal: 311ms\tremaining: 773ms\n",
      "287:\tlearn: 0.1894571\ttotal: 312ms\tremaining: 771ms\n",
      "288:\tlearn: 0.1891458\ttotal: 313ms\tremaining: 770ms\n",
      "289:\tlearn: 0.1889032\ttotal: 314ms\tremaining: 768ms\n",
      "290:\tlearn: 0.1882798\ttotal: 315ms\tremaining: 767ms\n",
      "291:\tlearn: 0.1875807\ttotal: 315ms\tremaining: 765ms\n",
      "292:\tlearn: 0.1869306\ttotal: 316ms\tremaining: 763ms\n",
      "293:\tlearn: 0.1868318\ttotal: 317ms\tremaining: 762ms\n",
      "294:\tlearn: 0.1860365\ttotal: 318ms\tremaining: 760ms\n",
      "295:\tlearn: 0.1853683\ttotal: 319ms\tremaining: 759ms\n",
      "296:\tlearn: 0.1850949\ttotal: 320ms\tremaining: 757ms\n",
      "297:\tlearn: 0.1847474\ttotal: 321ms\tremaining: 755ms\n",
      "298:\tlearn: 0.1840106\ttotal: 322ms\tremaining: 754ms\n",
      "299:\tlearn: 0.1834124\ttotal: 322ms\tremaining: 752ms\n",
      "300:\tlearn: 0.1830420\ttotal: 323ms\tremaining: 751ms\n",
      "301:\tlearn: 0.1824724\ttotal: 324ms\tremaining: 749ms\n",
      "302:\tlearn: 0.1818715\ttotal: 325ms\tremaining: 747ms\n",
      "303:\tlearn: 0.1816595\ttotal: 326ms\tremaining: 745ms\n",
      "304:\tlearn: 0.1813256\ttotal: 326ms\tremaining: 744ms\n",
      "305:\tlearn: 0.1808211\ttotal: 327ms\tremaining: 742ms\n",
      "306:\tlearn: 0.1802980\ttotal: 328ms\tremaining: 741ms\n",
      "307:\tlearn: 0.1797480\ttotal: 329ms\tremaining: 739ms\n",
      "308:\tlearn: 0.1792812\ttotal: 330ms\tremaining: 738ms\n",
      "309:\tlearn: 0.1789807\ttotal: 331ms\tremaining: 736ms\n",
      "310:\tlearn: 0.1784186\ttotal: 332ms\tremaining: 735ms\n",
      "311:\tlearn: 0.1778631\ttotal: 332ms\tremaining: 733ms\n",
      "312:\tlearn: 0.1774819\ttotal: 333ms\tremaining: 731ms\n",
      "313:\tlearn: 0.1772621\ttotal: 334ms\tremaining: 730ms\n",
      "314:\tlearn: 0.1770202\ttotal: 335ms\tremaining: 728ms\n",
      "315:\tlearn: 0.1764940\ttotal: 335ms\tremaining: 726ms\n",
      "316:\tlearn: 0.1760421\ttotal: 336ms\tremaining: 724ms\n",
      "317:\tlearn: 0.1755530\ttotal: 337ms\tremaining: 723ms\n",
      "318:\tlearn: 0.1751610\ttotal: 338ms\tremaining: 721ms\n",
      "319:\tlearn: 0.1747335\ttotal: 339ms\tremaining: 720ms\n",
      "320:\tlearn: 0.1741011\ttotal: 339ms\tremaining: 718ms\n",
      "321:\tlearn: 0.1735475\ttotal: 340ms\tremaining: 716ms\n",
      "322:\tlearn: 0.1730180\ttotal: 341ms\tremaining: 715ms\n",
      "323:\tlearn: 0.1728173\ttotal: 342ms\tremaining: 713ms\n",
      "324:\tlearn: 0.1722556\ttotal: 343ms\tremaining: 712ms\n",
      "325:\tlearn: 0.1719811\ttotal: 343ms\tremaining: 710ms\n",
      "326:\tlearn: 0.1715527\ttotal: 344ms\tremaining: 708ms\n",
      "327:\tlearn: 0.1712709\ttotal: 345ms\tremaining: 707ms\n",
      "328:\tlearn: 0.1708021\ttotal: 346ms\tremaining: 705ms\n",
      "329:\tlearn: 0.1704858\ttotal: 346ms\tremaining: 703ms\n",
      "330:\tlearn: 0.1702934\ttotal: 347ms\tremaining: 702ms\n",
      "331:\tlearn: 0.1698885\ttotal: 348ms\tremaining: 700ms\n",
      "332:\tlearn: 0.1696612\ttotal: 349ms\tremaining: 699ms\n",
      "333:\tlearn: 0.1693565\ttotal: 350ms\tremaining: 698ms\n",
      "334:\tlearn: 0.1691843\ttotal: 351ms\tremaining: 696ms\n",
      "335:\tlearn: 0.1691439\ttotal: 352ms\tremaining: 695ms\n",
      "336:\tlearn: 0.1687979\ttotal: 353ms\tremaining: 694ms\n",
      "337:\tlearn: 0.1684784\ttotal: 353ms\tremaining: 692ms\n",
      "338:\tlearn: 0.1684455\ttotal: 354ms\tremaining: 691ms\n",
      "339:\tlearn: 0.1679834\ttotal: 355ms\tremaining: 689ms\n",
      "340:\tlearn: 0.1674487\ttotal: 356ms\tremaining: 687ms\n",
      "341:\tlearn: 0.1671902\ttotal: 357ms\tremaining: 686ms\n",
      "342:\tlearn: 0.1667176\ttotal: 358ms\tremaining: 685ms\n",
      "343:\tlearn: 0.1663734\ttotal: 358ms\tremaining: 684ms\n",
      "344:\tlearn: 0.1661813\ttotal: 359ms\tremaining: 682ms\n",
      "345:\tlearn: 0.1657156\ttotal: 360ms\tremaining: 681ms\n",
      "346:\tlearn: 0.1652837\ttotal: 361ms\tremaining: 679ms\n",
      "347:\tlearn: 0.1652510\ttotal: 362ms\tremaining: 678ms\n",
      "348:\tlearn: 0.1646760\ttotal: 362ms\tremaining: 676ms\n",
      "349:\tlearn: 0.1642232\ttotal: 363ms\tremaining: 675ms\n",
      "350:\tlearn: 0.1640188\ttotal: 364ms\tremaining: 673ms\n",
      "351:\tlearn: 0.1638946\ttotal: 365ms\tremaining: 672ms\n",
      "352:\tlearn: 0.1637063\ttotal: 366ms\tremaining: 671ms\n",
      "353:\tlearn: 0.1633359\ttotal: 367ms\tremaining: 669ms\n",
      "354:\tlearn: 0.1627491\ttotal: 368ms\tremaining: 668ms\n",
      "355:\tlearn: 0.1626600\ttotal: 368ms\tremaining: 666ms\n",
      "356:\tlearn: 0.1620923\ttotal: 369ms\tremaining: 665ms\n",
      "357:\tlearn: 0.1616479\ttotal: 370ms\tremaining: 664ms\n",
      "358:\tlearn: 0.1612822\ttotal: 371ms\tremaining: 662ms\n",
      "359:\tlearn: 0.1609600\ttotal: 372ms\tremaining: 661ms\n",
      "360:\tlearn: 0.1608473\ttotal: 373ms\tremaining: 659ms\n",
      "361:\tlearn: 0.1608205\ttotal: 373ms\tremaining: 658ms\n",
      "362:\tlearn: 0.1605124\ttotal: 374ms\tremaining: 657ms\n",
      "363:\tlearn: 0.1603316\ttotal: 375ms\tremaining: 655ms\n",
      "364:\tlearn: 0.1598053\ttotal: 376ms\tremaining: 654ms\n",
      "365:\tlearn: 0.1595077\ttotal: 377ms\tremaining: 652ms\n",
      "366:\tlearn: 0.1591702\ttotal: 377ms\tremaining: 651ms\n",
      "367:\tlearn: 0.1587353\ttotal: 378ms\tremaining: 649ms\n",
      "368:\tlearn: 0.1584033\ttotal: 379ms\tremaining: 648ms\n",
      "369:\tlearn: 0.1579413\ttotal: 380ms\tremaining: 647ms\n",
      "370:\tlearn: 0.1575734\ttotal: 381ms\tremaining: 645ms\n",
      "371:\tlearn: 0.1571563\ttotal: 381ms\tremaining: 644ms\n"
     ]
    },
    {
     "name": "stdout",
     "output_type": "stream",
     "text": [
      "372:\tlearn: 0.1569390\ttotal: 382ms\tremaining: 643ms\n",
      "373:\tlearn: 0.1565358\ttotal: 384ms\tremaining: 643ms\n",
      "374:\tlearn: 0.1561819\ttotal: 385ms\tremaining: 641ms\n",
      "375:\tlearn: 0.1560240\ttotal: 386ms\tremaining: 640ms\n",
      "376:\tlearn: 0.1558614\ttotal: 387ms\tremaining: 639ms\n",
      "377:\tlearn: 0.1557040\ttotal: 387ms\tremaining: 637ms\n",
      "378:\tlearn: 0.1553608\ttotal: 388ms\tremaining: 636ms\n",
      "379:\tlearn: 0.1549739\ttotal: 389ms\tremaining: 635ms\n",
      "380:\tlearn: 0.1544476\ttotal: 390ms\tremaining: 633ms\n",
      "381:\tlearn: 0.1543038\ttotal: 391ms\tremaining: 632ms\n",
      "382:\tlearn: 0.1541832\ttotal: 391ms\tremaining: 630ms\n",
      "383:\tlearn: 0.1537263\ttotal: 392ms\tremaining: 629ms\n",
      "384:\tlearn: 0.1536043\ttotal: 393ms\tremaining: 628ms\n",
      "385:\tlearn: 0.1532972\ttotal: 394ms\tremaining: 627ms\n",
      "386:\tlearn: 0.1531124\ttotal: 395ms\tremaining: 626ms\n",
      "387:\tlearn: 0.1526709\ttotal: 396ms\tremaining: 624ms\n",
      "388:\tlearn: 0.1525051\ttotal: 397ms\tremaining: 623ms\n",
      "389:\tlearn: 0.1523565\ttotal: 398ms\tremaining: 622ms\n",
      "390:\tlearn: 0.1521557\ttotal: 398ms\tremaining: 620ms\n",
      "391:\tlearn: 0.1521348\ttotal: 399ms\tremaining: 619ms\n",
      "392:\tlearn: 0.1518105\ttotal: 400ms\tremaining: 618ms\n",
      "393:\tlearn: 0.1514770\ttotal: 401ms\tremaining: 617ms\n",
      "394:\tlearn: 0.1510163\ttotal: 402ms\tremaining: 615ms\n",
      "395:\tlearn: 0.1506560\ttotal: 403ms\tremaining: 614ms\n",
      "396:\tlearn: 0.1503414\ttotal: 403ms\tremaining: 613ms\n",
      "397:\tlearn: 0.1498965\ttotal: 404ms\tremaining: 612ms\n",
      "398:\tlearn: 0.1496835\ttotal: 406ms\tremaining: 612ms\n",
      "399:\tlearn: 0.1493822\ttotal: 407ms\tremaining: 610ms\n",
      "400:\tlearn: 0.1489728\ttotal: 407ms\tremaining: 609ms\n",
      "401:\tlearn: 0.1488479\ttotal: 408ms\tremaining: 607ms\n",
      "402:\tlearn: 0.1484269\ttotal: 409ms\tremaining: 606ms\n",
      "403:\tlearn: 0.1480801\ttotal: 410ms\tremaining: 605ms\n",
      "404:\tlearn: 0.1479344\ttotal: 411ms\tremaining: 603ms\n",
      "405:\tlearn: 0.1475120\ttotal: 411ms\tremaining: 602ms\n",
      "406:\tlearn: 0.1471867\ttotal: 412ms\tremaining: 601ms\n",
      "407:\tlearn: 0.1469421\ttotal: 413ms\tremaining: 600ms\n",
      "408:\tlearn: 0.1466355\ttotal: 414ms\tremaining: 598ms\n",
      "409:\tlearn: 0.1464735\ttotal: 415ms\tremaining: 597ms\n",
      "410:\tlearn: 0.1461841\ttotal: 416ms\tremaining: 596ms\n",
      "411:\tlearn: 0.1460672\ttotal: 417ms\tremaining: 594ms\n",
      "412:\tlearn: 0.1457700\ttotal: 417ms\tremaining: 593ms\n",
      "413:\tlearn: 0.1455009\ttotal: 418ms\tremaining: 592ms\n",
      "414:\tlearn: 0.1451499\ttotal: 419ms\tremaining: 591ms\n",
      "415:\tlearn: 0.1447277\ttotal: 420ms\tremaining: 589ms\n",
      "416:\tlearn: 0.1444638\ttotal: 421ms\tremaining: 588ms\n",
      "417:\tlearn: 0.1440781\ttotal: 422ms\tremaining: 587ms\n",
      "418:\tlearn: 0.1440071\ttotal: 422ms\tremaining: 586ms\n",
      "419:\tlearn: 0.1438782\ttotal: 423ms\tremaining: 584ms\n",
      "420:\tlearn: 0.1436236\ttotal: 424ms\tremaining: 583ms\n",
      "421:\tlearn: 0.1433899\ttotal: 425ms\tremaining: 582ms\n",
      "422:\tlearn: 0.1432926\ttotal: 425ms\tremaining: 580ms\n",
      "423:\tlearn: 0.1428868\ttotal: 426ms\tremaining: 579ms\n",
      "424:\tlearn: 0.1426026\ttotal: 427ms\tremaining: 578ms\n",
      "425:\tlearn: 0.1422874\ttotal: 428ms\tremaining: 577ms\n",
      "426:\tlearn: 0.1421543\ttotal: 429ms\tremaining: 575ms\n",
      "427:\tlearn: 0.1418629\ttotal: 430ms\tremaining: 574ms\n",
      "428:\tlearn: 0.1414633\ttotal: 430ms\tremaining: 573ms\n",
      "429:\tlearn: 0.1413259\ttotal: 431ms\tremaining: 571ms\n",
      "430:\tlearn: 0.1412235\ttotal: 432ms\tremaining: 570ms\n",
      "431:\tlearn: 0.1409880\ttotal: 433ms\tremaining: 569ms\n",
      "432:\tlearn: 0.1406795\ttotal: 433ms\tremaining: 567ms\n",
      "433:\tlearn: 0.1404818\ttotal: 434ms\tremaining: 566ms\n",
      "434:\tlearn: 0.1403232\ttotal: 435ms\tremaining: 565ms\n",
      "435:\tlearn: 0.1401242\ttotal: 436ms\tremaining: 564ms\n",
      "436:\tlearn: 0.1398624\ttotal: 437ms\tremaining: 562ms\n",
      "437:\tlearn: 0.1396192\ttotal: 437ms\tremaining: 561ms\n",
      "438:\tlearn: 0.1392488\ttotal: 438ms\tremaining: 560ms\n",
      "439:\tlearn: 0.1390076\ttotal: 439ms\tremaining: 559ms\n",
      "440:\tlearn: 0.1387522\ttotal: 440ms\tremaining: 557ms\n",
      "441:\tlearn: 0.1385420\ttotal: 440ms\tremaining: 556ms\n",
      "442:\tlearn: 0.1384266\ttotal: 441ms\tremaining: 555ms\n",
      "443:\tlearn: 0.1381579\ttotal: 442ms\tremaining: 554ms\n",
      "444:\tlearn: 0.1378704\ttotal: 443ms\tremaining: 553ms\n",
      "445:\tlearn: 0.1374551\ttotal: 444ms\tremaining: 551ms\n",
      "446:\tlearn: 0.1371884\ttotal: 445ms\tremaining: 550ms\n",
      "447:\tlearn: 0.1368695\ttotal: 445ms\tremaining: 549ms\n",
      "448:\tlearn: 0.1367056\ttotal: 446ms\tremaining: 547ms\n",
      "449:\tlearn: 0.1364144\ttotal: 447ms\tremaining: 546ms\n",
      "450:\tlearn: 0.1360833\ttotal: 448ms\tremaining: 545ms\n",
      "451:\tlearn: 0.1358037\ttotal: 449ms\tremaining: 544ms\n",
      "452:\tlearn: 0.1355084\ttotal: 449ms\tremaining: 543ms\n",
      "453:\tlearn: 0.1352031\ttotal: 450ms\tremaining: 541ms\n",
      "454:\tlearn: 0.1350386\ttotal: 451ms\tremaining: 540ms\n",
      "455:\tlearn: 0.1347442\ttotal: 452ms\tremaining: 539ms\n",
      "456:\tlearn: 0.1345420\ttotal: 453ms\tremaining: 538ms\n",
      "457:\tlearn: 0.1342668\ttotal: 453ms\tremaining: 537ms\n",
      "458:\tlearn: 0.1342495\ttotal: 455ms\tremaining: 536ms\n",
      "459:\tlearn: 0.1338244\ttotal: 456ms\tremaining: 535ms\n",
      "460:\tlearn: 0.1336435\ttotal: 457ms\tremaining: 534ms\n",
      "461:\tlearn: 0.1333961\ttotal: 457ms\tremaining: 533ms\n",
      "462:\tlearn: 0.1330428\ttotal: 458ms\tremaining: 532ms\n",
      "463:\tlearn: 0.1328525\ttotal: 459ms\tremaining: 530ms\n",
      "464:\tlearn: 0.1326182\ttotal: 460ms\tremaining: 529ms\n",
      "465:\tlearn: 0.1322897\ttotal: 461ms\tremaining: 528ms\n",
      "466:\tlearn: 0.1321866\ttotal: 462ms\tremaining: 527ms\n",
      "467:\tlearn: 0.1321677\ttotal: 462ms\tremaining: 526ms\n",
      "468:\tlearn: 0.1318271\ttotal: 463ms\tremaining: 524ms\n",
      "469:\tlearn: 0.1314215\ttotal: 464ms\tremaining: 523ms\n",
      "470:\tlearn: 0.1313314\ttotal: 465ms\tremaining: 522ms\n",
      "471:\tlearn: 0.1310487\ttotal: 465ms\tremaining: 521ms\n",
      "472:\tlearn: 0.1309681\ttotal: 466ms\tremaining: 519ms\n",
      "473:\tlearn: 0.1308193\ttotal: 467ms\tremaining: 518ms\n",
      "474:\tlearn: 0.1308033\ttotal: 468ms\tremaining: 517ms\n",
      "475:\tlearn: 0.1304516\ttotal: 469ms\tremaining: 516ms\n",
      "476:\tlearn: 0.1301115\ttotal: 469ms\tremaining: 515ms\n",
      "477:\tlearn: 0.1300260\ttotal: 470ms\tremaining: 514ms\n",
      "478:\tlearn: 0.1297367\ttotal: 471ms\tremaining: 512ms\n",
      "479:\tlearn: 0.1296411\ttotal: 472ms\tremaining: 511ms\n",
      "480:\tlearn: 0.1294389\ttotal: 473ms\tremaining: 510ms\n",
      "481:\tlearn: 0.1291065\ttotal: 473ms\tremaining: 509ms\n",
      "482:\tlearn: 0.1290539\ttotal: 474ms\tremaining: 508ms\n",
      "483:\tlearn: 0.1288464\ttotal: 475ms\tremaining: 506ms\n",
      "484:\tlearn: 0.1287169\ttotal: 476ms\tremaining: 505ms\n",
      "485:\tlearn: 0.1285003\ttotal: 477ms\tremaining: 504ms\n",
      "486:\tlearn: 0.1284102\ttotal: 478ms\tremaining: 503ms\n",
      "487:\tlearn: 0.1280725\ttotal: 478ms\tremaining: 502ms\n",
      "488:\tlearn: 0.1278818\ttotal: 479ms\tremaining: 501ms\n",
      "489:\tlearn: 0.1275916\ttotal: 480ms\tremaining: 500ms\n",
      "490:\tlearn: 0.1275302\ttotal: 481ms\tremaining: 498ms\n",
      "491:\tlearn: 0.1272820\ttotal: 482ms\tremaining: 497ms\n",
      "492:\tlearn: 0.1270929\ttotal: 482ms\tremaining: 496ms\n",
      "493:\tlearn: 0.1267317\ttotal: 483ms\tremaining: 495ms\n",
      "494:\tlearn: 0.1264972\ttotal: 484ms\tremaining: 494ms\n",
      "495:\tlearn: 0.1264492\ttotal: 485ms\tremaining: 493ms\n",
      "496:\tlearn: 0.1262834\ttotal: 486ms\tremaining: 492ms\n",
      "497:\tlearn: 0.1261120\ttotal: 486ms\tremaining: 490ms\n",
      "498:\tlearn: 0.1259418\ttotal: 487ms\tremaining: 489ms\n",
      "499:\tlearn: 0.1258974\ttotal: 488ms\tremaining: 488ms\n",
      "500:\tlearn: 0.1256219\ttotal: 489ms\tremaining: 487ms\n"
     ]
    },
    {
     "name": "stdout",
     "output_type": "stream",
     "text": [
      "501:\tlearn: 0.1255809\ttotal: 490ms\tremaining: 486ms\n",
      "502:\tlearn: 0.1255715\ttotal: 491ms\tremaining: 485ms\n",
      "503:\tlearn: 0.1253030\ttotal: 492ms\tremaining: 484ms\n",
      "504:\tlearn: 0.1251926\ttotal: 492ms\tremaining: 482ms\n",
      "505:\tlearn: 0.1249242\ttotal: 493ms\tremaining: 481ms\n",
      "506:\tlearn: 0.1246048\ttotal: 494ms\tremaining: 480ms\n",
      "507:\tlearn: 0.1244017\ttotal: 495ms\tremaining: 479ms\n",
      "508:\tlearn: 0.1243342\ttotal: 496ms\tremaining: 478ms\n",
      "509:\tlearn: 0.1242419\ttotal: 497ms\tremaining: 477ms\n",
      "510:\tlearn: 0.1241398\ttotal: 497ms\tremaining: 476ms\n",
      "511:\tlearn: 0.1240564\ttotal: 498ms\tremaining: 475ms\n",
      "512:\tlearn: 0.1237219\ttotal: 499ms\tremaining: 474ms\n",
      "513:\tlearn: 0.1234423\ttotal: 500ms\tremaining: 473ms\n",
      "514:\tlearn: 0.1232138\ttotal: 501ms\tremaining: 471ms\n",
      "515:\tlearn: 0.1230645\ttotal: 501ms\tremaining: 470ms\n",
      "516:\tlearn: 0.1229297\ttotal: 502ms\tremaining: 469ms\n",
      "517:\tlearn: 0.1226162\ttotal: 503ms\tremaining: 468ms\n",
      "518:\tlearn: 0.1223215\ttotal: 504ms\tremaining: 467ms\n",
      "519:\tlearn: 0.1220709\ttotal: 505ms\tremaining: 466ms\n",
      "520:\tlearn: 0.1218644\ttotal: 505ms\tremaining: 465ms\n",
      "521:\tlearn: 0.1217754\ttotal: 506ms\tremaining: 464ms\n",
      "522:\tlearn: 0.1215674\ttotal: 507ms\tremaining: 462ms\n",
      "523:\tlearn: 0.1213004\ttotal: 508ms\tremaining: 461ms\n",
      "524:\tlearn: 0.1210684\ttotal: 509ms\tremaining: 460ms\n",
      "525:\tlearn: 0.1210097\ttotal: 510ms\tremaining: 459ms\n",
      "526:\tlearn: 0.1209389\ttotal: 510ms\tremaining: 458ms\n",
      "527:\tlearn: 0.1206736\ttotal: 511ms\tremaining: 457ms\n",
      "528:\tlearn: 0.1204296\ttotal: 512ms\tremaining: 456ms\n",
      "529:\tlearn: 0.1202789\ttotal: 513ms\tremaining: 455ms\n",
      "530:\tlearn: 0.1202303\ttotal: 514ms\tremaining: 454ms\n",
      "531:\tlearn: 0.1200603\ttotal: 514ms\tremaining: 452ms\n",
      "532:\tlearn: 0.1199072\ttotal: 515ms\tremaining: 451ms\n",
      "533:\tlearn: 0.1196883\ttotal: 516ms\tremaining: 450ms\n",
      "534:\tlearn: 0.1195375\ttotal: 517ms\tremaining: 449ms\n",
      "535:\tlearn: 0.1194865\ttotal: 518ms\tremaining: 448ms\n",
      "536:\tlearn: 0.1193327\ttotal: 518ms\tremaining: 447ms\n",
      "537:\tlearn: 0.1192501\ttotal: 519ms\tremaining: 446ms\n",
      "538:\tlearn: 0.1190738\ttotal: 520ms\tremaining: 445ms\n",
      "539:\tlearn: 0.1190171\ttotal: 521ms\tremaining: 444ms\n",
      "540:\tlearn: 0.1189594\ttotal: 521ms\tremaining: 442ms\n",
      "541:\tlearn: 0.1187421\ttotal: 522ms\tremaining: 441ms\n",
      "542:\tlearn: 0.1183692\ttotal: 523ms\tremaining: 440ms\n",
      "543:\tlearn: 0.1180777\ttotal: 524ms\tremaining: 440ms\n",
      "544:\tlearn: 0.1177316\ttotal: 525ms\tremaining: 439ms\n",
      "545:\tlearn: 0.1175254\ttotal: 526ms\tremaining: 438ms\n",
      "546:\tlearn: 0.1172474\ttotal: 527ms\tremaining: 436ms\n",
      "547:\tlearn: 0.1169617\ttotal: 528ms\tremaining: 435ms\n",
      "548:\tlearn: 0.1168198\ttotal: 529ms\tremaining: 434ms\n",
      "549:\tlearn: 0.1165935\ttotal: 529ms\tremaining: 433ms\n",
      "550:\tlearn: 0.1163104\ttotal: 530ms\tremaining: 432ms\n",
      "551:\tlearn: 0.1162750\ttotal: 531ms\tremaining: 431ms\n",
      "552:\tlearn: 0.1162217\ttotal: 532ms\tremaining: 430ms\n",
      "553:\tlearn: 0.1160129\ttotal: 533ms\tremaining: 429ms\n",
      "554:\tlearn: 0.1159566\ttotal: 533ms\tremaining: 428ms\n",
      "555:\tlearn: 0.1156658\ttotal: 534ms\tremaining: 427ms\n",
      "556:\tlearn: 0.1155664\ttotal: 535ms\tremaining: 426ms\n",
      "557:\tlearn: 0.1153292\ttotal: 536ms\tremaining: 425ms\n",
      "558:\tlearn: 0.1152663\ttotal: 537ms\tremaining: 423ms\n",
      "559:\tlearn: 0.1150582\ttotal: 538ms\tremaining: 422ms\n",
      "560:\tlearn: 0.1149730\ttotal: 538ms\tremaining: 421ms\n",
      "561:\tlearn: 0.1149039\ttotal: 539ms\tremaining: 420ms\n",
      "562:\tlearn: 0.1147536\ttotal: 540ms\tremaining: 419ms\n",
      "563:\tlearn: 0.1147440\ttotal: 541ms\tremaining: 418ms\n",
      "564:\tlearn: 0.1145120\ttotal: 542ms\tremaining: 417ms\n",
      "565:\tlearn: 0.1140939\ttotal: 542ms\tremaining: 416ms\n",
      "566:\tlearn: 0.1138855\ttotal: 543ms\tremaining: 415ms\n",
      "567:\tlearn: 0.1137369\ttotal: 544ms\tremaining: 414ms\n",
      "568:\tlearn: 0.1134681\ttotal: 545ms\tremaining: 413ms\n",
      "569:\tlearn: 0.1132134\ttotal: 546ms\tremaining: 412ms\n",
      "570:\tlearn: 0.1130882\ttotal: 546ms\tremaining: 410ms\n",
      "571:\tlearn: 0.1130656\ttotal: 547ms\tremaining: 409ms\n",
      "572:\tlearn: 0.1127672\ttotal: 548ms\tremaining: 408ms\n",
      "573:\tlearn: 0.1127225\ttotal: 549ms\tremaining: 407ms\n",
      "574:\tlearn: 0.1124258\ttotal: 550ms\tremaining: 406ms\n",
      "575:\tlearn: 0.1121385\ttotal: 550ms\tremaining: 405ms\n",
      "576:\tlearn: 0.1120644\ttotal: 551ms\tremaining: 404ms\n",
      "577:\tlearn: 0.1118187\ttotal: 552ms\tremaining: 403ms\n",
      "578:\tlearn: 0.1117458\ttotal: 553ms\tremaining: 402ms\n",
      "579:\tlearn: 0.1115500\ttotal: 554ms\tremaining: 401ms\n",
      "580:\tlearn: 0.1114268\ttotal: 555ms\tremaining: 400ms\n",
      "581:\tlearn: 0.1112258\ttotal: 555ms\tremaining: 399ms\n",
      "582:\tlearn: 0.1110881\ttotal: 556ms\tremaining: 398ms\n",
      "583:\tlearn: 0.1110399\ttotal: 557ms\tremaining: 397ms\n",
      "584:\tlearn: 0.1107781\ttotal: 558ms\tremaining: 396ms\n",
      "585:\tlearn: 0.1106570\ttotal: 559ms\tremaining: 395ms\n",
      "586:\tlearn: 0.1104918\ttotal: 559ms\tremaining: 394ms\n",
      "587:\tlearn: 0.1104470\ttotal: 560ms\tremaining: 393ms\n",
      "588:\tlearn: 0.1103688\ttotal: 561ms\tremaining: 392ms\n",
      "589:\tlearn: 0.1101217\ttotal: 562ms\tremaining: 391ms\n",
      "590:\tlearn: 0.1099849\ttotal: 563ms\tremaining: 389ms\n",
      "591:\tlearn: 0.1098464\ttotal: 564ms\tremaining: 388ms\n",
      "592:\tlearn: 0.1096524\ttotal: 564ms\tremaining: 387ms\n",
      "593:\tlearn: 0.1095059\ttotal: 565ms\tremaining: 386ms\n",
      "594:\tlearn: 0.1092302\ttotal: 566ms\tremaining: 385ms\n",
      "595:\tlearn: 0.1089106\ttotal: 567ms\tremaining: 384ms\n",
      "596:\tlearn: 0.1087998\ttotal: 568ms\tremaining: 383ms\n",
      "597:\tlearn: 0.1085342\ttotal: 569ms\tremaining: 382ms\n",
      "598:\tlearn: 0.1084932\ttotal: 570ms\tremaining: 381ms\n",
      "599:\tlearn: 0.1081675\ttotal: 571ms\tremaining: 380ms\n",
      "600:\tlearn: 0.1081452\ttotal: 571ms\tremaining: 379ms\n",
      "601:\tlearn: 0.1079843\ttotal: 572ms\tremaining: 378ms\n"
     ]
    },
    {
     "name": "stdout",
     "output_type": "stream",
     "text": [
      "602:\tlearn: 0.1079575\ttotal: 573ms\tremaining: 377ms\n",
      "603:\tlearn: 0.1078875\ttotal: 574ms\tremaining: 376ms\n",
      "604:\tlearn: 0.1075640\ttotal: 575ms\tremaining: 375ms\n",
      "605:\tlearn: 0.1073909\ttotal: 576ms\tremaining: 374ms\n",
      "606:\tlearn: 0.1073436\ttotal: 576ms\tremaining: 373ms\n",
      "607:\tlearn: 0.1071659\ttotal: 577ms\tremaining: 372ms\n",
      "608:\tlearn: 0.1069440\ttotal: 578ms\tremaining: 371ms\n",
      "609:\tlearn: 0.1067412\ttotal: 579ms\tremaining: 370ms\n",
      "610:\tlearn: 0.1065637\ttotal: 580ms\tremaining: 369ms\n",
      "611:\tlearn: 0.1064409\ttotal: 581ms\tremaining: 368ms\n",
      "612:\tlearn: 0.1063170\ttotal: 582ms\tremaining: 367ms\n",
      "613:\tlearn: 0.1060250\ttotal: 583ms\tremaining: 367ms\n",
      "614:\tlearn: 0.1057723\ttotal: 584ms\tremaining: 366ms\n",
      "615:\tlearn: 0.1055674\ttotal: 585ms\tremaining: 365ms\n",
      "616:\tlearn: 0.1053393\ttotal: 586ms\tremaining: 364ms\n",
      "617:\tlearn: 0.1052113\ttotal: 587ms\tremaining: 363ms\n",
      "618:\tlearn: 0.1050910\ttotal: 587ms\tremaining: 362ms\n",
      "619:\tlearn: 0.1047723\ttotal: 588ms\tremaining: 361ms\n",
      "620:\tlearn: 0.1046859\ttotal: 589ms\tremaining: 360ms\n",
      "621:\tlearn: 0.1044930\ttotal: 590ms\tremaining: 359ms\n",
      "622:\tlearn: 0.1042821\ttotal: 591ms\tremaining: 358ms\n",
      "623:\tlearn: 0.1041954\ttotal: 592ms\tremaining: 357ms\n",
      "624:\tlearn: 0.1039800\ttotal: 593ms\tremaining: 356ms\n",
      "625:\tlearn: 0.1036847\ttotal: 594ms\tremaining: 355ms\n",
      "626:\tlearn: 0.1035727\ttotal: 594ms\tremaining: 354ms\n",
      "627:\tlearn: 0.1034033\ttotal: 595ms\tremaining: 353ms\n",
      "628:\tlearn: 0.1031954\ttotal: 597ms\tremaining: 352ms\n",
      "629:\tlearn: 0.1029857\ttotal: 597ms\tremaining: 351ms\n",
      "630:\tlearn: 0.1027924\ttotal: 598ms\tremaining: 350ms\n",
      "631:\tlearn: 0.1025795\ttotal: 599ms\tremaining: 349ms\n",
      "632:\tlearn: 0.1025121\ttotal: 600ms\tremaining: 348ms\n",
      "633:\tlearn: 0.1025008\ttotal: 600ms\tremaining: 347ms\n",
      "634:\tlearn: 0.1022799\ttotal: 601ms\tremaining: 346ms\n",
      "635:\tlearn: 0.1020810\ttotal: 602ms\tremaining: 345ms\n",
      "636:\tlearn: 0.1020004\ttotal: 603ms\tremaining: 344ms\n",
      "637:\tlearn: 0.1018693\ttotal: 604ms\tremaining: 343ms\n",
      "638:\tlearn: 0.1015869\ttotal: 605ms\tremaining: 342ms\n",
      "639:\tlearn: 0.1014450\ttotal: 605ms\tremaining: 341ms\n",
      "640:\tlearn: 0.1013099\ttotal: 606ms\tremaining: 340ms\n",
      "641:\tlearn: 0.1012325\ttotal: 607ms\tremaining: 338ms\n",
      "642:\tlearn: 0.1011302\ttotal: 608ms\tremaining: 337ms\n",
      "643:\tlearn: 0.1010693\ttotal: 609ms\tremaining: 337ms\n",
      "644:\tlearn: 0.1009335\ttotal: 610ms\tremaining: 336ms\n",
      "645:\tlearn: 0.1008312\ttotal: 611ms\tremaining: 335ms\n",
      "646:\tlearn: 0.1007000\ttotal: 612ms\tremaining: 334ms\n",
      "647:\tlearn: 0.1005513\ttotal: 612ms\tremaining: 333ms\n",
      "648:\tlearn: 0.1002847\ttotal: 613ms\tremaining: 332ms\n",
      "649:\tlearn: 0.1001301\ttotal: 614ms\tremaining: 331ms\n",
      "650:\tlearn: 0.0999316\ttotal: 615ms\tremaining: 330ms\n",
      "651:\tlearn: 0.0998323\ttotal: 616ms\tremaining: 329ms\n",
      "652:\tlearn: 0.0995109\ttotal: 616ms\tremaining: 328ms\n",
      "653:\tlearn: 0.0992719\ttotal: 617ms\tremaining: 327ms\n",
      "654:\tlearn: 0.0990813\ttotal: 618ms\tremaining: 326ms\n",
      "655:\tlearn: 0.0989515\ttotal: 619ms\tremaining: 324ms\n",
      "656:\tlearn: 0.0988181\ttotal: 620ms\tremaining: 323ms\n",
      "657:\tlearn: 0.0986741\ttotal: 620ms\tremaining: 322ms\n",
      "658:\tlearn: 0.0986558\ttotal: 621ms\tremaining: 321ms\n",
      "659:\tlearn: 0.0984922\ttotal: 622ms\tremaining: 320ms\n",
      "660:\tlearn: 0.0984832\ttotal: 623ms\tremaining: 319ms\n",
      "661:\tlearn: 0.0983330\ttotal: 624ms\tremaining: 318ms\n",
      "662:\tlearn: 0.0983232\ttotal: 624ms\tremaining: 317ms\n",
      "663:\tlearn: 0.0983097\ttotal: 625ms\tremaining: 316ms\n",
      "664:\tlearn: 0.0981984\ttotal: 626ms\tremaining: 315ms\n",
      "665:\tlearn: 0.0980562\ttotal: 627ms\tremaining: 314ms\n",
      "666:\tlearn: 0.0978572\ttotal: 628ms\tremaining: 313ms\n",
      "667:\tlearn: 0.0976514\ttotal: 628ms\tremaining: 312ms\n",
      "668:\tlearn: 0.0975387\ttotal: 629ms\tremaining: 311ms\n",
      "669:\tlearn: 0.0973211\ttotal: 630ms\tremaining: 310ms\n",
      "670:\tlearn: 0.0970622\ttotal: 631ms\tremaining: 309ms\n",
      "671:\tlearn: 0.0969271\ttotal: 632ms\tremaining: 308ms\n",
      "672:\tlearn: 0.0968230\ttotal: 633ms\tremaining: 307ms\n",
      "673:\tlearn: 0.0967522\ttotal: 634ms\tremaining: 307ms\n",
      "674:\tlearn: 0.0965707\ttotal: 635ms\tremaining: 306ms\n",
      "675:\tlearn: 0.0964516\ttotal: 636ms\tremaining: 305ms\n",
      "676:\tlearn: 0.0962327\ttotal: 636ms\tremaining: 304ms\n",
      "677:\tlearn: 0.0960571\ttotal: 637ms\tremaining: 303ms\n",
      "678:\tlearn: 0.0958724\ttotal: 638ms\tremaining: 302ms\n",
      "679:\tlearn: 0.0957962\ttotal: 639ms\tremaining: 301ms\n",
      "680:\tlearn: 0.0956148\ttotal: 640ms\tremaining: 300ms\n",
      "681:\tlearn: 0.0955999\ttotal: 640ms\tremaining: 299ms\n",
      "682:\tlearn: 0.0953898\ttotal: 641ms\tremaining: 298ms\n",
      "683:\tlearn: 0.0953610\ttotal: 642ms\tremaining: 297ms\n",
      "684:\tlearn: 0.0951515\ttotal: 643ms\tremaining: 296ms\n",
      "685:\tlearn: 0.0951435\ttotal: 644ms\tremaining: 295ms\n",
      "686:\tlearn: 0.0949621\ttotal: 645ms\tremaining: 294ms\n",
      "687:\tlearn: 0.0947604\ttotal: 645ms\tremaining: 293ms\n",
      "688:\tlearn: 0.0946352\ttotal: 646ms\tremaining: 292ms\n",
      "689:\tlearn: 0.0945163\ttotal: 647ms\tremaining: 291ms\n",
      "690:\tlearn: 0.0944878\ttotal: 648ms\tremaining: 290ms\n",
      "691:\tlearn: 0.0942966\ttotal: 649ms\tremaining: 289ms\n",
      "692:\tlearn: 0.0942546\ttotal: 650ms\tremaining: 288ms\n",
      "693:\tlearn: 0.0942481\ttotal: 651ms\tremaining: 287ms\n",
      "694:\tlearn: 0.0940778\ttotal: 651ms\tremaining: 286ms\n",
      "695:\tlearn: 0.0938708\ttotal: 652ms\tremaining: 285ms\n",
      "696:\tlearn: 0.0937711\ttotal: 653ms\tremaining: 284ms\n",
      "697:\tlearn: 0.0937175\ttotal: 654ms\tremaining: 283ms\n",
      "698:\tlearn: 0.0937095\ttotal: 655ms\tremaining: 282ms\n",
      "699:\tlearn: 0.0934983\ttotal: 655ms\tremaining: 281ms\n",
      "700:\tlearn: 0.0932641\ttotal: 656ms\tremaining: 280ms\n",
      "701:\tlearn: 0.0930829\ttotal: 657ms\tremaining: 279ms\n",
      "702:\tlearn: 0.0929805\ttotal: 658ms\tremaining: 278ms\n",
      "703:\tlearn: 0.0927731\ttotal: 659ms\tremaining: 277ms\n",
      "704:\tlearn: 0.0925523\ttotal: 660ms\tremaining: 276ms\n",
      "705:\tlearn: 0.0924557\ttotal: 660ms\tremaining: 275ms\n",
      "706:\tlearn: 0.0922648\ttotal: 661ms\tremaining: 274ms\n",
      "707:\tlearn: 0.0921387\ttotal: 662ms\tremaining: 273ms\n",
      "708:\tlearn: 0.0919882\ttotal: 663ms\tremaining: 272ms\n",
      "709:\tlearn: 0.0918457\ttotal: 664ms\tremaining: 271ms\n",
      "710:\tlearn: 0.0918379\ttotal: 665ms\tremaining: 270ms\n",
      "711:\tlearn: 0.0916671\ttotal: 665ms\tremaining: 269ms\n",
      "712:\tlearn: 0.0914485\ttotal: 666ms\tremaining: 268ms\n",
      "713:\tlearn: 0.0913387\ttotal: 668ms\tremaining: 267ms\n",
      "714:\tlearn: 0.0912636\ttotal: 669ms\tremaining: 267ms\n",
      "715:\tlearn: 0.0910778\ttotal: 670ms\tremaining: 266ms\n",
      "716:\tlearn: 0.0909773\ttotal: 670ms\tremaining: 265ms\n",
      "717:\tlearn: 0.0908634\ttotal: 671ms\tremaining: 264ms\n",
      "718:\tlearn: 0.0907893\ttotal: 672ms\tremaining: 263ms\n",
      "719:\tlearn: 0.0906183\ttotal: 673ms\tremaining: 262ms\n",
      "720:\tlearn: 0.0903874\ttotal: 674ms\tremaining: 261ms\n",
      "721:\tlearn: 0.0903592\ttotal: 675ms\tremaining: 260ms\n",
      "722:\tlearn: 0.0901914\ttotal: 675ms\tremaining: 259ms\n",
      "723:\tlearn: 0.0900431\ttotal: 676ms\tremaining: 258ms\n",
      "724:\tlearn: 0.0899738\ttotal: 677ms\tremaining: 257ms\n",
      "725:\tlearn: 0.0897888\ttotal: 678ms\tremaining: 256ms\n",
      "726:\tlearn: 0.0897640\ttotal: 679ms\tremaining: 255ms\n",
      "727:\tlearn: 0.0895865\ttotal: 679ms\tremaining: 254ms\n"
     ]
    },
    {
     "name": "stdout",
     "output_type": "stream",
     "text": [
      "728:\tlearn: 0.0895121\ttotal: 680ms\tremaining: 253ms\n",
      "729:\tlearn: 0.0894635\ttotal: 681ms\tremaining: 252ms\n",
      "730:\tlearn: 0.0892783\ttotal: 682ms\tremaining: 251ms\n",
      "731:\tlearn: 0.0890958\ttotal: 683ms\tremaining: 250ms\n",
      "732:\tlearn: 0.0890886\ttotal: 684ms\tremaining: 249ms\n",
      "733:\tlearn: 0.0889691\ttotal: 685ms\tremaining: 248ms\n",
      "734:\tlearn: 0.0889556\ttotal: 685ms\tremaining: 247ms\n",
      "735:\tlearn: 0.0887561\ttotal: 686ms\tremaining: 246ms\n",
      "736:\tlearn: 0.0887069\ttotal: 687ms\tremaining: 245ms\n",
      "737:\tlearn: 0.0884573\ttotal: 688ms\tremaining: 244ms\n",
      "738:\tlearn: 0.0882839\ttotal: 689ms\tremaining: 243ms\n",
      "739:\tlearn: 0.0880800\ttotal: 690ms\tremaining: 242ms\n",
      "740:\tlearn: 0.0879147\ttotal: 691ms\tremaining: 241ms\n",
      "741:\tlearn: 0.0877452\ttotal: 691ms\tremaining: 240ms\n",
      "742:\tlearn: 0.0875550\ttotal: 692ms\tremaining: 239ms\n",
      "743:\tlearn: 0.0874200\ttotal: 693ms\tremaining: 238ms\n",
      "744:\tlearn: 0.0872821\ttotal: 694ms\tremaining: 238ms\n",
      "745:\tlearn: 0.0872364\ttotal: 695ms\tremaining: 237ms\n",
      "746:\tlearn: 0.0870135\ttotal: 696ms\tremaining: 236ms\n",
      "747:\tlearn: 0.0868114\ttotal: 697ms\tremaining: 235ms\n",
      "748:\tlearn: 0.0866453\ttotal: 697ms\tremaining: 234ms\n",
      "749:\tlearn: 0.0865678\ttotal: 698ms\tremaining: 233ms\n",
      "750:\tlearn: 0.0864292\ttotal: 699ms\tremaining: 232ms\n",
      "751:\tlearn: 0.0864233\ttotal: 700ms\tremaining: 231ms\n",
      "752:\tlearn: 0.0862558\ttotal: 701ms\tremaining: 230ms\n",
      "753:\tlearn: 0.0860848\ttotal: 702ms\tremaining: 229ms\n",
      "754:\tlearn: 0.0859477\ttotal: 703ms\tremaining: 228ms\n",
      "755:\tlearn: 0.0857876\ttotal: 703ms\tremaining: 227ms\n",
      "756:\tlearn: 0.0857352\ttotal: 704ms\tremaining: 226ms\n",
      "757:\tlearn: 0.0855587\ttotal: 705ms\tremaining: 225ms\n",
      "758:\tlearn: 0.0853962\ttotal: 706ms\tremaining: 224ms\n",
      "759:\tlearn: 0.0851846\ttotal: 706ms\tremaining: 223ms\n",
      "760:\tlearn: 0.0850203\ttotal: 707ms\tremaining: 222ms\n",
      "761:\tlearn: 0.0849540\ttotal: 708ms\tremaining: 221ms\n",
      "762:\tlearn: 0.0849419\ttotal: 709ms\tremaining: 220ms\n",
      "763:\tlearn: 0.0848417\ttotal: 710ms\tremaining: 219ms\n",
      "764:\tlearn: 0.0846689\ttotal: 711ms\tremaining: 218ms\n",
      "765:\tlearn: 0.0846071\ttotal: 711ms\tremaining: 217ms\n",
      "766:\tlearn: 0.0844118\ttotal: 712ms\tremaining: 216ms\n",
      "767:\tlearn: 0.0842031\ttotal: 713ms\tremaining: 215ms\n",
      "768:\tlearn: 0.0840753\ttotal: 714ms\tremaining: 214ms\n",
      "769:\tlearn: 0.0839165\ttotal: 715ms\tremaining: 214ms\n",
      "770:\tlearn: 0.0838409\ttotal: 716ms\tremaining: 213ms\n",
      "771:\tlearn: 0.0837794\ttotal: 716ms\tremaining: 212ms\n",
      "772:\tlearn: 0.0837546\ttotal: 717ms\tremaining: 211ms\n",
      "773:\tlearn: 0.0836531\ttotal: 718ms\tremaining: 210ms\n",
      "774:\tlearn: 0.0835231\ttotal: 719ms\tremaining: 209ms\n",
      "775:\tlearn: 0.0833669\ttotal: 720ms\tremaining: 208ms\n",
      "776:\tlearn: 0.0831856\ttotal: 720ms\tremaining: 207ms\n",
      "777:\tlearn: 0.0830468\ttotal: 721ms\tremaining: 206ms\n",
      "778:\tlearn: 0.0829567\ttotal: 722ms\tremaining: 205ms\n",
      "779:\tlearn: 0.0827600\ttotal: 723ms\tremaining: 204ms\n",
      "780:\tlearn: 0.0825243\ttotal: 724ms\tremaining: 203ms\n",
      "781:\tlearn: 0.0824880\ttotal: 725ms\tremaining: 202ms\n",
      "782:\tlearn: 0.0823956\ttotal: 726ms\tremaining: 201ms\n",
      "783:\tlearn: 0.0823112\ttotal: 727ms\tremaining: 200ms\n",
      "784:\tlearn: 0.0822388\ttotal: 727ms\tremaining: 199ms\n",
      "785:\tlearn: 0.0822323\ttotal: 728ms\tremaining: 198ms\n",
      "786:\tlearn: 0.0820981\ttotal: 729ms\tremaining: 197ms\n",
      "787:\tlearn: 0.0819057\ttotal: 730ms\tremaining: 196ms\n",
      "788:\tlearn: 0.0818641\ttotal: 731ms\tremaining: 195ms\n",
      "789:\tlearn: 0.0818011\ttotal: 732ms\tremaining: 195ms\n",
      "790:\tlearn: 0.0817573\ttotal: 732ms\tremaining: 194ms\n",
      "791:\tlearn: 0.0816287\ttotal: 733ms\tremaining: 193ms\n",
      "792:\tlearn: 0.0815011\ttotal: 734ms\tremaining: 192ms\n",
      "793:\tlearn: 0.0813887\ttotal: 735ms\tremaining: 191ms\n",
      "794:\tlearn: 0.0811621\ttotal: 736ms\tremaining: 190ms\n",
      "795:\tlearn: 0.0809796\ttotal: 737ms\tremaining: 189ms\n",
      "796:\tlearn: 0.0808855\ttotal: 738ms\tremaining: 188ms\n",
      "797:\tlearn: 0.0808571\ttotal: 738ms\tremaining: 187ms\n",
      "798:\tlearn: 0.0807357\ttotal: 739ms\tremaining: 186ms\n",
      "799:\tlearn: 0.0806751\ttotal: 740ms\tremaining: 185ms\n",
      "800:\tlearn: 0.0805623\ttotal: 741ms\tremaining: 184ms\n",
      "801:\tlearn: 0.0804037\ttotal: 742ms\tremaining: 183ms\n",
      "802:\tlearn: 0.0803206\ttotal: 743ms\tremaining: 182ms\n",
      "803:\tlearn: 0.0801236\ttotal: 743ms\tremaining: 181ms\n",
      "804:\tlearn: 0.0799928\ttotal: 744ms\tremaining: 180ms\n",
      "805:\tlearn: 0.0799887\ttotal: 745ms\tremaining: 179ms\n",
      "806:\tlearn: 0.0798471\ttotal: 746ms\tremaining: 178ms\n",
      "807:\tlearn: 0.0796682\ttotal: 747ms\tremaining: 177ms\n",
      "808:\tlearn: 0.0796273\ttotal: 748ms\tremaining: 177ms\n",
      "809:\tlearn: 0.0794666\ttotal: 749ms\tremaining: 176ms\n",
      "810:\tlearn: 0.0794136\ttotal: 749ms\tremaining: 175ms\n",
      "811:\tlearn: 0.0792807\ttotal: 750ms\tremaining: 174ms\n",
      "812:\tlearn: 0.0791747\ttotal: 751ms\tremaining: 173ms\n",
      "813:\tlearn: 0.0789710\ttotal: 752ms\tremaining: 172ms\n",
      "814:\tlearn: 0.0788563\ttotal: 752ms\tremaining: 171ms\n",
      "815:\tlearn: 0.0787047\ttotal: 753ms\tremaining: 170ms\n",
      "816:\tlearn: 0.0785966\ttotal: 754ms\tremaining: 169ms\n",
      "817:\tlearn: 0.0784516\ttotal: 755ms\tremaining: 168ms\n",
      "818:\tlearn: 0.0783472\ttotal: 755ms\tremaining: 167ms\n",
      "819:\tlearn: 0.0781538\ttotal: 756ms\tremaining: 166ms\n",
      "820:\tlearn: 0.0779585\ttotal: 757ms\tremaining: 165ms\n",
      "821:\tlearn: 0.0778786\ttotal: 758ms\tremaining: 164ms\n",
      "822:\tlearn: 0.0777219\ttotal: 759ms\tremaining: 163ms\n",
      "823:\tlearn: 0.0776111\ttotal: 760ms\tremaining: 162ms\n",
      "824:\tlearn: 0.0774661\ttotal: 761ms\tremaining: 161ms\n",
      "825:\tlearn: 0.0773512\ttotal: 761ms\tremaining: 160ms\n",
      "826:\tlearn: 0.0772370\ttotal: 762ms\tremaining: 159ms\n",
      "827:\tlearn: 0.0771215\ttotal: 763ms\tremaining: 159ms\n"
     ]
    },
    {
     "name": "stdout",
     "output_type": "stream",
     "text": [
      "828:\tlearn: 0.0770609\ttotal: 764ms\tremaining: 158ms\n",
      "829:\tlearn: 0.0769881\ttotal: 765ms\tremaining: 157ms\n",
      "830:\tlearn: 0.0768498\ttotal: 766ms\tremaining: 156ms\n",
      "831:\tlearn: 0.0767241\ttotal: 767ms\tremaining: 155ms\n",
      "832:\tlearn: 0.0765683\ttotal: 767ms\tremaining: 154ms\n",
      "833:\tlearn: 0.0764472\ttotal: 768ms\tremaining: 153ms\n",
      "834:\tlearn: 0.0763798\ttotal: 769ms\tremaining: 152ms\n",
      "835:\tlearn: 0.0763733\ttotal: 770ms\tremaining: 151ms\n",
      "836:\tlearn: 0.0762622\ttotal: 771ms\tremaining: 150ms\n",
      "837:\tlearn: 0.0761406\ttotal: 772ms\tremaining: 149ms\n",
      "838:\tlearn: 0.0760101\ttotal: 773ms\tremaining: 148ms\n",
      "839:\tlearn: 0.0757681\ttotal: 773ms\tremaining: 147ms\n",
      "840:\tlearn: 0.0757041\ttotal: 774ms\tremaining: 146ms\n",
      "841:\tlearn: 0.0756267\ttotal: 775ms\tremaining: 145ms\n",
      "842:\tlearn: 0.0755572\ttotal: 776ms\tremaining: 145ms\n",
      "843:\tlearn: 0.0754482\ttotal: 777ms\tremaining: 144ms\n",
      "844:\tlearn: 0.0753287\ttotal: 778ms\tremaining: 143ms\n",
      "845:\tlearn: 0.0751571\ttotal: 779ms\tremaining: 142ms\n",
      "846:\tlearn: 0.0751083\ttotal: 779ms\tremaining: 141ms\n",
      "847:\tlearn: 0.0750624\ttotal: 780ms\tremaining: 140ms\n",
      "848:\tlearn: 0.0749666\ttotal: 781ms\tremaining: 139ms\n",
      "849:\tlearn: 0.0748926\ttotal: 782ms\tremaining: 138ms\n",
      "850:\tlearn: 0.0748123\ttotal: 783ms\tremaining: 137ms\n",
      "851:\tlearn: 0.0746696\ttotal: 783ms\tremaining: 136ms\n",
      "852:\tlearn: 0.0745437\ttotal: 784ms\tremaining: 135ms\n",
      "853:\tlearn: 0.0744201\ttotal: 785ms\tremaining: 134ms\n",
      "854:\tlearn: 0.0743397\ttotal: 786ms\tremaining: 133ms\n",
      "855:\tlearn: 0.0743257\ttotal: 787ms\tremaining: 132ms\n",
      "856:\tlearn: 0.0741761\ttotal: 788ms\tremaining: 131ms\n",
      "857:\tlearn: 0.0741645\ttotal: 788ms\tremaining: 130ms\n",
      "858:\tlearn: 0.0741105\ttotal: 789ms\tremaining: 130ms\n",
      "859:\tlearn: 0.0740178\ttotal: 790ms\tremaining: 129ms\n",
      "860:\tlearn: 0.0738792\ttotal: 791ms\tremaining: 128ms\n",
      "861:\tlearn: 0.0737650\ttotal: 792ms\tremaining: 127ms\n",
      "862:\tlearn: 0.0736471\ttotal: 793ms\tremaining: 126ms\n",
      "863:\tlearn: 0.0736415\ttotal: 793ms\tremaining: 125ms\n",
      "864:\tlearn: 0.0736052\ttotal: 794ms\tremaining: 124ms\n",
      "865:\tlearn: 0.0735499\ttotal: 795ms\tremaining: 123ms\n",
      "866:\tlearn: 0.0735089\ttotal: 796ms\tremaining: 122ms\n",
      "867:\tlearn: 0.0734709\ttotal: 797ms\tremaining: 121ms\n",
      "868:\tlearn: 0.0734186\ttotal: 798ms\tremaining: 120ms\n",
      "869:\tlearn: 0.0732727\ttotal: 798ms\tremaining: 119ms\n",
      "870:\tlearn: 0.0731771\ttotal: 799ms\tremaining: 118ms\n",
      "871:\tlearn: 0.0731209\ttotal: 800ms\tremaining: 117ms\n",
      "872:\tlearn: 0.0729455\ttotal: 801ms\tremaining: 117ms\n",
      "873:\tlearn: 0.0728560\ttotal: 802ms\tremaining: 116ms\n",
      "874:\tlearn: 0.0727432\ttotal: 803ms\tremaining: 115ms\n",
      "875:\tlearn: 0.0726615\ttotal: 804ms\tremaining: 114ms\n",
      "876:\tlearn: 0.0725458\ttotal: 805ms\tremaining: 113ms\n",
      "877:\tlearn: 0.0724350\ttotal: 806ms\tremaining: 112ms\n",
      "878:\tlearn: 0.0723349\ttotal: 807ms\tremaining: 111ms\n",
      "879:\tlearn: 0.0721441\ttotal: 808ms\tremaining: 110ms\n",
      "880:\tlearn: 0.0720599\ttotal: 809ms\tremaining: 109ms\n",
      "881:\tlearn: 0.0719550\ttotal: 810ms\tremaining: 108ms\n",
      "882:\tlearn: 0.0718325\ttotal: 811ms\tremaining: 107ms\n",
      "883:\tlearn: 0.0717175\ttotal: 811ms\tremaining: 106ms\n",
      "884:\tlearn: 0.0716782\ttotal: 812ms\tremaining: 106ms\n",
      "885:\tlearn: 0.0716738\ttotal: 813ms\tremaining: 105ms\n",
      "886:\tlearn: 0.0715740\ttotal: 814ms\tremaining: 104ms\n",
      "887:\tlearn: 0.0714598\ttotal: 814ms\tremaining: 103ms\n",
      "888:\tlearn: 0.0713799\ttotal: 815ms\tremaining: 102ms\n",
      "889:\tlearn: 0.0713022\ttotal: 816ms\tremaining: 101ms\n",
      "890:\tlearn: 0.0712454\ttotal: 817ms\tremaining: 99.9ms\n",
      "891:\tlearn: 0.0711641\ttotal: 818ms\tremaining: 99ms\n",
      "892:\tlearn: 0.0710969\ttotal: 818ms\tremaining: 98.1ms\n",
      "893:\tlearn: 0.0709862\ttotal: 819ms\tremaining: 97.1ms\n",
      "894:\tlearn: 0.0708793\ttotal: 820ms\tremaining: 96.2ms\n",
      "895:\tlearn: 0.0707255\ttotal: 821ms\tremaining: 95.3ms\n",
      "896:\tlearn: 0.0705735\ttotal: 821ms\tremaining: 94.3ms\n",
      "897:\tlearn: 0.0704953\ttotal: 822ms\tremaining: 93.4ms\n",
      "898:\tlearn: 0.0703925\ttotal: 823ms\tremaining: 92.5ms\n",
      "899:\tlearn: 0.0702951\ttotal: 824ms\tremaining: 91.5ms\n",
      "900:\tlearn: 0.0702187\ttotal: 825ms\tremaining: 90.6ms\n",
      "901:\tlearn: 0.0701671\ttotal: 825ms\tremaining: 89.7ms\n",
      "902:\tlearn: 0.0701072\ttotal: 826ms\tremaining: 88.7ms\n",
      "903:\tlearn: 0.0699853\ttotal: 827ms\tremaining: 87.8ms\n",
      "904:\tlearn: 0.0698232\ttotal: 828ms\tremaining: 86.9ms\n",
      "905:\tlearn: 0.0696068\ttotal: 829ms\tremaining: 86ms\n",
      "906:\tlearn: 0.0694433\ttotal: 829ms\tremaining: 85ms\n",
      "907:\tlearn: 0.0692977\ttotal: 830ms\tremaining: 84.1ms\n",
      "908:\tlearn: 0.0691700\ttotal: 831ms\tremaining: 83.2ms\n",
      "909:\tlearn: 0.0690587\ttotal: 832ms\tremaining: 82.3ms\n",
      "910:\tlearn: 0.0690142\ttotal: 833ms\tremaining: 81.4ms\n",
      "911:\tlearn: 0.0689077\ttotal: 834ms\tremaining: 80.4ms\n",
      "912:\tlearn: 0.0687627\ttotal: 834ms\tremaining: 79.5ms\n",
      "913:\tlearn: 0.0686476\ttotal: 835ms\tremaining: 78.6ms\n",
      "914:\tlearn: 0.0686284\ttotal: 836ms\tremaining: 77.7ms\n",
      "915:\tlearn: 0.0685436\ttotal: 837ms\tremaining: 76.7ms\n",
      "916:\tlearn: 0.0684946\ttotal: 838ms\tremaining: 75.8ms\n",
      "917:\tlearn: 0.0683819\ttotal: 838ms\tremaining: 74.9ms\n",
      "918:\tlearn: 0.0682554\ttotal: 839ms\tremaining: 74ms\n",
      "919:\tlearn: 0.0681436\ttotal: 840ms\tremaining: 73ms\n",
      "920:\tlearn: 0.0680506\ttotal: 841ms\tremaining: 72.1ms\n",
      "921:\tlearn: 0.0678992\ttotal: 842ms\tremaining: 71.2ms\n",
      "922:\tlearn: 0.0678342\ttotal: 842ms\tremaining: 70.3ms\n",
      "923:\tlearn: 0.0677307\ttotal: 843ms\tremaining: 69.4ms\n",
      "924:\tlearn: 0.0676201\ttotal: 844ms\tremaining: 68.4ms\n",
      "925:\tlearn: 0.0675309\ttotal: 845ms\tremaining: 67.5ms\n",
      "926:\tlearn: 0.0674779\ttotal: 846ms\tremaining: 66.6ms\n",
      "927:\tlearn: 0.0673882\ttotal: 847ms\tremaining: 65.7ms\n",
      "928:\tlearn: 0.0673026\ttotal: 847ms\tremaining: 64.8ms\n",
      "929:\tlearn: 0.0672656\ttotal: 848ms\tremaining: 63.8ms\n",
      "930:\tlearn: 0.0671865\ttotal: 849ms\tremaining: 62.9ms\n",
      "931:\tlearn: 0.0671096\ttotal: 850ms\tremaining: 62ms\n",
      "932:\tlearn: 0.0669783\ttotal: 850ms\tremaining: 61.1ms\n",
      "933:\tlearn: 0.0668321\ttotal: 851ms\tremaining: 60.2ms\n",
      "934:\tlearn: 0.0667982\ttotal: 852ms\tremaining: 59.2ms\n",
      "935:\tlearn: 0.0667405\ttotal: 853ms\tremaining: 58.3ms\n",
      "936:\tlearn: 0.0666928\ttotal: 854ms\tremaining: 57.4ms\n",
      "937:\tlearn: 0.0666332\ttotal: 855ms\tremaining: 56.5ms\n",
      "938:\tlearn: 0.0664773\ttotal: 856ms\tremaining: 55.6ms\n",
      "939:\tlearn: 0.0663620\ttotal: 856ms\tremaining: 54.7ms\n",
      "940:\tlearn: 0.0662782\ttotal: 857ms\tremaining: 53.8ms\n",
      "941:\tlearn: 0.0661624\ttotal: 858ms\tremaining: 52.8ms\n",
      "942:\tlearn: 0.0661128\ttotal: 859ms\tremaining: 51.9ms\n",
      "943:\tlearn: 0.0660432\ttotal: 860ms\tremaining: 51ms\n",
      "944:\tlearn: 0.0660077\ttotal: 861ms\tremaining: 50.1ms\n",
      "945:\tlearn: 0.0659661\ttotal: 862ms\tremaining: 49.2ms\n",
      "946:\tlearn: 0.0659248\ttotal: 862ms\tremaining: 48.3ms\n",
      "947:\tlearn: 0.0658352\ttotal: 863ms\tremaining: 47.3ms\n",
      "948:\tlearn: 0.0657509\ttotal: 864ms\tremaining: 46.4ms\n",
      "949:\tlearn: 0.0656036\ttotal: 865ms\tremaining: 45.5ms\n",
      "950:\tlearn: 0.0655345\ttotal: 866ms\tremaining: 44.6ms\n",
      "951:\tlearn: 0.0654351\ttotal: 866ms\tremaining: 43.7ms\n",
      "952:\tlearn: 0.0653540\ttotal: 867ms\tremaining: 42.8ms\n",
      "953:\tlearn: 0.0653029\ttotal: 868ms\tremaining: 41.9ms\n",
      "954:\tlearn: 0.0652709\ttotal: 869ms\tremaining: 41ms\n",
      "955:\tlearn: 0.0651834\ttotal: 870ms\tremaining: 40ms\n"
     ]
    },
    {
     "name": "stdout",
     "output_type": "stream",
     "text": [
      "956:\tlearn: 0.0651799\ttotal: 871ms\tremaining: 39.1ms\n",
      "957:\tlearn: 0.0650609\ttotal: 872ms\tremaining: 38.2ms\n",
      "958:\tlearn: 0.0649213\ttotal: 873ms\tremaining: 37.3ms\n",
      "959:\tlearn: 0.0648060\ttotal: 874ms\tremaining: 36.4ms\n",
      "960:\tlearn: 0.0647257\ttotal: 875ms\tremaining: 35.5ms\n",
      "961:\tlearn: 0.0646520\ttotal: 876ms\tremaining: 34.6ms\n",
      "962:\tlearn: 0.0645649\ttotal: 877ms\tremaining: 33.7ms\n",
      "963:\tlearn: 0.0645158\ttotal: 877ms\tremaining: 32.8ms\n",
      "964:\tlearn: 0.0644342\ttotal: 878ms\tremaining: 31.9ms\n",
      "965:\tlearn: 0.0643581\ttotal: 879ms\tremaining: 30.9ms\n",
      "966:\tlearn: 0.0642938\ttotal: 880ms\tremaining: 30ms\n",
      "967:\tlearn: 0.0642124\ttotal: 881ms\tremaining: 29.1ms\n",
      "968:\tlearn: 0.0641812\ttotal: 882ms\tremaining: 28.2ms\n",
      "969:\tlearn: 0.0640892\ttotal: 882ms\tremaining: 27.3ms\n",
      "970:\tlearn: 0.0640466\ttotal: 883ms\tremaining: 26.4ms\n",
      "971:\tlearn: 0.0639677\ttotal: 884ms\tremaining: 25.5ms\n",
      "972:\tlearn: 0.0638659\ttotal: 885ms\tremaining: 24.6ms\n",
      "973:\tlearn: 0.0637898\ttotal: 886ms\tremaining: 23.6ms\n",
      "974:\tlearn: 0.0636708\ttotal: 887ms\tremaining: 22.7ms\n",
      "975:\tlearn: 0.0635663\ttotal: 887ms\tremaining: 21.8ms\n",
      "976:\tlearn: 0.0634637\ttotal: 888ms\tremaining: 20.9ms\n",
      "977:\tlearn: 0.0633959\ttotal: 889ms\tremaining: 20ms\n",
      "978:\tlearn: 0.0633307\ttotal: 890ms\tremaining: 19.1ms\n",
      "979:\tlearn: 0.0632863\ttotal: 891ms\tremaining: 18.2ms\n",
      "980:\tlearn: 0.0632288\ttotal: 892ms\tremaining: 17.3ms\n",
      "981:\tlearn: 0.0631499\ttotal: 893ms\tremaining: 16.4ms\n",
      "982:\tlearn: 0.0630752\ttotal: 893ms\tremaining: 15.5ms\n",
      "983:\tlearn: 0.0630064\ttotal: 894ms\tremaining: 14.5ms\n",
      "984:\tlearn: 0.0629553\ttotal: 895ms\tremaining: 13.6ms\n",
      "985:\tlearn: 0.0629454\ttotal: 896ms\tremaining: 12.7ms\n",
      "986:\tlearn: 0.0628686\ttotal: 897ms\tremaining: 11.8ms\n",
      "987:\tlearn: 0.0628178\ttotal: 898ms\tremaining: 10.9ms\n",
      "988:\tlearn: 0.0627491\ttotal: 898ms\tremaining: 9.99ms\n",
      "989:\tlearn: 0.0626643\ttotal: 899ms\tremaining: 9.08ms\n",
      "990:\tlearn: 0.0626103\ttotal: 900ms\tremaining: 8.17ms\n",
      "991:\tlearn: 0.0624971\ttotal: 901ms\tremaining: 7.26ms\n",
      "992:\tlearn: 0.0624549\ttotal: 902ms\tremaining: 6.36ms\n",
      "993:\tlearn: 0.0623392\ttotal: 902ms\tremaining: 5.45ms\n",
      "994:\tlearn: 0.0623035\ttotal: 903ms\tremaining: 4.54ms\n",
      "995:\tlearn: 0.0622287\ttotal: 904ms\tremaining: 3.63ms\n",
      "996:\tlearn: 0.0621589\ttotal: 905ms\tremaining: 2.72ms\n",
      "997:\tlearn: 0.0620849\ttotal: 905ms\tremaining: 1.81ms\n",
      "998:\tlearn: 0.0619960\ttotal: 906ms\tremaining: 907us\n",
      "999:\tlearn: 0.0619892\ttotal: 907ms\tremaining: 0us\n"
     ]
    },
    {
     "data": {
      "text/plain": [
       "<catboost.core.CatBoostRegressor at 0x7fae84839a00>"
      ]
     },
     "execution_count": 9,
     "metadata": {},
     "output_type": "execute_result"
    }
   ],
   "source": [
    "#Train the Model \n",
    "prior_model = ctb.CatBoostRegressor()\n",
    "prior_model.fit(X_train,Y_train)"
   ]
  },
  {
   "cell_type": "code",
   "execution_count": 10,
   "id": "af65dcda",
   "metadata": {
    "execution": {
     "iopub.execute_input": "2022-06-11T20:51:59.597151Z",
     "iopub.status.busy": "2022-06-11T20:51:59.596741Z",
     "iopub.status.idle": "2022-06-11T20:51:59.604254Z",
     "shell.execute_reply": "2022-06-11T20:51:59.604557Z"
    },
    "id": "af65dcda",
    "papermill": {
     "duration": 0.020733,
     "end_time": "2022-06-11T20:51:59.604670",
     "exception": false,
     "start_time": "2022-06-11T20:51:59.583937",
     "status": "completed"
    },
    "tags": []
   },
   "outputs": [
    {
     "data": {
      "application/scrapbook.scrap.json+json": {
       "data": 0.1568195206011588,
       "encoder": "json",
       "name": "Prior Model MSE",
       "version": 1
      }
     },
     "metadata": {
      "scrapbook": {
       "data": true,
       "display": false,
       "name": "Prior Model MSE"
      }
     },
     "output_type": "display_data"
    },
    {
     "data": {
      "application/scrapbook.scrap.json+json": {
       "data": 0.1650153647858198,
       "encoder": "json",
       "name": "ABC Pre-generator MSE",
       "version": 1
      }
     },
     "metadata": {
      "scrapbook": {
       "data": true,
       "display": false,
       "name": "ABC Pre-generator MSE"
      }
     },
     "output_type": "display_data"
    },
    {
     "data": {
      "application/scrapbook.scrap.json+json": {
       "data": 0.26517948611432407,
       "encoder": "json",
       "name": "Prior Model MSE",
       "version": 1
      }
     },
     "metadata": {
      "scrapbook": {
       "data": true,
       "display": false,
       "name": "Prior Model MSE"
      }
     },
     "output_type": "display_data"
    },
    {
     "data": {
      "application/scrapbook.scrap.json+json": {
       "data": 0.2786160333759434,
       "encoder": "json",
       "name": "ABC Pre-generator MSE",
       "version": 1
      }
     },
     "metadata": {
      "scrapbook": {
       "data": true,
       "display": false,
       "name": "ABC Pre-generator MSE"
      }
     },
     "output_type": "display_data"
    }
   ],
   "source": [
    "y_pred = prior_model.predict(X_test)\n",
    "y_abc = y_pred + np.random.normal(0,variance, y_pred.shape) + bias \n",
    "mse = mean_squared_error(y_pred,Y_test)\n",
    "sb.glue(\"Prior Model MSE\",mse)\n",
    "mse = mean_squared_error(y_abc,Y_test)\n",
    "sb.glue(\"ABC Pre-generator MSE\",mse)\n",
    "mae = mean_absolute_error(y_pred,Y_test)\n",
    "sb.glue(\"Prior Model MSE\",mae)\n",
    "mae = mean_absolute_error(y_abc,Y_test)\n",
    "sb.glue(\"ABC Pre-generator MSE\",mae)"
   ]
  },
  {
   "cell_type": "markdown",
   "id": "25609da2",
   "metadata": {
    "papermill": {
     "duration": 0.009726,
     "end_time": "2022-06-11T20:51:59.624532",
     "exception": false,
     "start_time": "2022-06-11T20:51:59.614806",
     "status": "completed"
    },
    "tags": []
   },
   "source": [
    "# ABC GAN Model"
   ]
  },
  {
   "cell_type": "code",
   "execution_count": 11,
   "id": "dfc3464d",
   "metadata": {
    "execution": {
     "iopub.execute_input": "2022-06-11T20:51:59.647003Z",
     "iopub.status.busy": "2022-06-11T20:51:59.646633Z",
     "iopub.status.idle": "2022-06-11T20:51:59.649056Z",
     "shell.execute_reply": "2022-06-11T20:51:59.649298Z"
    },
    "papermill": {
     "duration": 0.015157,
     "end_time": "2022-06-11T20:51:59.649405",
     "exception": false,
     "start_time": "2022-06-11T20:51:59.634248",
     "status": "completed"
    },
    "tags": []
   },
   "outputs": [],
   "source": [
    "gen = network.Generator(n_features+1).to(device)\n",
    "disc = network.Discriminator(n_features+1).to(device)\n",
    "\n",
    "criterion = torch.nn.BCELoss()\n",
    "gen_opt = torch.optim.Adam(gen.parameters(), lr=0.001, betas=(0.5, 0.999))\n",
    "disc_opt = torch.optim.Adam(disc.parameters(), lr=0.001, betas=(0.5, 0.999))"
   ]
  },
  {
   "cell_type": "code",
   "execution_count": 12,
   "id": "b75fdd85",
   "metadata": {
    "execution": {
     "iopub.execute_input": "2022-06-11T20:51:59.671858Z",
     "iopub.status.busy": "2022-06-11T20:51:59.671488Z",
     "iopub.status.idle": "2022-06-11T21:47:51.620218Z",
     "shell.execute_reply": "2022-06-11T21:47:51.620503Z"
    },
    "papermill": {
     "duration": 3351.961331,
     "end_time": "2022-06-11T21:47:51.620623",
     "exception": false,
     "start_time": "2022-06-11T20:51:59.659292",
     "status": "completed"
    },
    "tags": []
   },
   "outputs": [
    {
     "data": {
      "image/png": "[encoded data removed]",
      "text/plain": [
       "<Figure size 432x288 with 1 Axes>"
      ]
     },
     "metadata": {
      "needs_background": "light"
     },
     "output_type": "display_data"
    },
    {
     "data": {
      "image/png": "[encoded data removed]",
      "text/plain": [
       "<Figure size 432x288 with 1 Axes>"
      ]
     },
     "metadata": {
      "needs_background": "light"
     },
     "output_type": "display_data"
    }
   ],
   "source": [
    "#Training the ABC_GAN \n",
    "ABC_train_test2.training_GAN(disc,gen,disc_opt,gen_opt,train_data,batch_size,n_epochs,criterion,prior_model,variance,bias,device)"
   ]
  },
  {
   "cell_type": "code",
   "execution_count": 13,
   "id": "1fa7c368",
   "metadata": {
    "execution": {
     "iopub.execute_input": "2022-06-11T21:47:51.644941Z",
     "iopub.status.busy": "2022-06-11T21:47:51.644562Z",
     "iopub.status.idle": "2022-06-11T21:47:51.946645Z",
     "shell.execute_reply": "2022-06-11T21:47:51.946946Z"
    },
    "papermill": {
     "duration": 0.315683,
     "end_time": "2022-06-11T21:47:51.947068",
     "exception": false,
     "start_time": "2022-06-11T21:47:51.631385",
     "status": "completed"
    },
    "tags": []
   },
   "outputs": [
    {
     "data": {
      "application/scrapbook.scrap.json+json": {
       "data": 0.18427884013102075,
       "encoder": "json",
       "name": "ABC-GAN Model 1 MSE",
       "version": 1
      }
     },
     "metadata": {
      "scrapbook": {
       "data": true,
       "display": false,
       "name": "ABC-GAN Model 1 MSE"
      }
     },
     "output_type": "display_data"
    },
    {
     "data": {
      "application/scrapbook.scrap.json+json": {
       "data": 0.2845242761301936,
       "encoder": "json",
       "name": "ABC-GAN Model 1 MAE",
       "version": 1
      }
     },
     "metadata": {
      "scrapbook": {
       "data": true,
       "display": false,
       "name": "ABC-GAN Model 1 MAE"
      }
     },
     "output_type": "display_data"
    },
    {
     "data": {
      "application/scrapbook.scrap.json+json": {
       "data": 29.021476165279747,
       "encoder": "json",
       "name": "ABC-GAN Model 1 Manhattan Distance",
       "version": 1
      }
     },
     "metadata": {
      "scrapbook": {
       "data": true,
       "display": false,
       "name": "ABC-GAN Model 1 Manhattan Distance"
      }
     },
     "output_type": "display_data"
    },
    {
     "data": {
      "application/scrapbook.scrap.json+json": {
       "data": 4.335477337456903,
       "encoder": "json",
       "name": "ABC-GAN Model 1 Euclidean distance",
       "version": 1
      }
     },
     "metadata": {
      "scrapbook": {
       "data": true,
       "display": false,
       "name": "ABC-GAN Model 1 Euclidean distance"
      }
     },
     "output_type": "display_data"
    },
    {
     "data": {
      "application/scrapbook.scrap.json+json": {
       "data": [
        [
         0.18465686042383592,
         0.1849502142750898,
         0.18491063848898867,
         0.1851097092074438,
         0.1847965462841946,
         0.18314637396150776,
         0.18450353715856496,
         0.18552638707109062,
         0.18486949870490496,
         0.18484516442497162,
         0.1853153531892428,
         0.18317201722438764,
         0.1848129512453069,
         0.18391102257766118,
         0.1838467193784738,
         0.18446837245924036,
         0.18460461563013802,
         0.1854120628367216,
         0.1835685938318852,
         0.18408557398411451,
         0.18566816697800503,
         0.18482626153944723,
         0.18405798336185614,
         0.18442013345702193,
         0.18375663119803348,
         0.1844065371359647,
         0.18437556230426796,
         0.18492946008335748,
         0.18363241474428738,
         0.18253418041469568,
         0.18482725083962892,
         0.18506546745782437,
         0.1840520446292142,
         0.18346073558884401,
         0.18252777935936804,
         0.1835510057387371,
         0.1852036051363693,
         0.18399913105140184,
         0.18483750403459084,
         0.1853149808772115,
         0.18299047520584388,
         0.18407740361591374,
         0.18442764285869365,
         0.1849621151923329,
         0.18389367882638938,
         0.18366544571269608,
         0.18475076872535703,
         0.18367288788223973,
         0.18558751047244904,
         0.18480823386899295,
         0.1834412096898696,
         0.18428899389721212,
         0.18347081045982755,
         0.18475538615091922,
         0.1827968783174633,
         0.18446540094252223,
         0.18471309868764552,
         0.18439721258090455,
         0.18502855579207939,
         0.18418288798194965,
         0.18431861965868349,
         0.1840732281573942,
         0.1842690681700485,
         0.18379007343710624,
         0.1836697626244188,
         0.18292022559844778,
         0.18346258066531212,
         0.18297475368383495,
         0.18473166703435856,
         0.18450256400298837,
         0.1838181103968137,
         0.18461810310777135,
         0.18413901810578095,
         0.18388493688521887,
         0.1862077648447641,
         0.18446467533533467,
         0.1839927610434667,
         0.18419513636177132,
         0.18450658982365528,
         0.1841737818929719,
         0.1844439993913288,
         0.1850855872945192,
         0.18425570608534847,
         0.18494218168020407,
         0.18536265117264933,
         0.1838293367274317,
         0.1847386533947024,
         0.18466574943484151,
         0.18415405818205308,
         0.18229421782153557,
         0.18399521127275925,
         0.18357384407168073,
         0.18479677851568632,
         0.1852435021979629,
         0.1841096104512035,
         0.18244375674132468,
         0.183642713882462,
         0.18445323932153568,
         0.18439042643536366,
         0.18441372304814577
        ],
        [
         0.2852584893139554,
         0.28524146210767476,
         0.28489536810301097,
         0.28474010998273597,
         0.2854079931024827,
         0.2832393285763614,
         0.28496174853952494,
         0.2854941887233187,
         0.28662448299720006,
         0.28557860248667355,
         0.2851350571521941,
         0.2835682090371847,
         0.2854715198205382,
         0.28535366463748846,
         0.28383416350127433,
         0.28465643090506393,
         0.2839727834524477,
         0.2849506827473056,
         0.2839349303394556,
         0.28431247667792964,
         0.2855007057169489,
         0.2848859741626417,
         0.28573802482409805,
         0.28426666853620725,
         0.2831486675011761,
         0.28385345495360736,
         0.2837113204466946,
         0.28464084173388343,
         0.2847731221905526,
         0.2843394246244547,
         0.2846586080085413,
         0.28642982649890814,
         0.2841979430659729,
         0.2847954069501629,
         0.2822879083527654,
         0.2842291785294519,
         0.28425818597715274,
         0.28429376315690724,
         0.28692413315030874,
         0.28511048199645445,
         0.2833821968193732,
         0.2826786457980965,
         0.2847484293594664,
         0.2837324753476709,
         0.2837062157033121,
         0.28468223168131185,
         0.28597348398875955,
         0.2823721549163262,
         0.28509664086296277,
         0.2854368274337521,
         0.28439737480206817,
         0.28504838768904117,
         0.28400453154508976,
         0.2859018485554877,
         0.28346036495093035,
         0.284984890846353,
         0.28546794792454616,
         0.286929761844815,
         0.2841227925656473,
         0.28612459849054905,
         0.2844690081900826,
         0.28352620573166537,
         0.2835195392151089,
         0.2840828960213591,
         0.2843870433303071,
         0.2821389609473009,
         0.28398466077359286,
         0.2824288848057097,
         0.2839443373548634,
         0.2848587281198478,
         0.2840466801369307,
         0.2829873972736737,
         0.284137907748421,
         0.28366200965555277,
         0.2875345917966436,
         0.28438752075182455,
         0.2848589089790396,
         0.2840533569528192,
         0.28411502796499166,
         0.2841364819118205,
         0.28408155309072897,
         0.2844895325674146,
         0.28409275912917126,
         0.28538341371013837,
         0.2856312913126221,
         0.2839459146866027,
         0.2842213769680729,
         0.28559440319590707,
         0.2845123287874694,
         0.28235209298630554,
         0.28403677868054195,
         0.28306071668425026,
         0.2857201757895596,
         0.28627057903099296,
         0.28566786964588303,
         0.28192025740795273,
         0.28373987771862863,
         0.2853462782633655,
         0.28545414543181075,
         0.284718986564115
        ],
        [
         29.09636591002345,
         29.094629134982824,
         29.05932754650712,
         29.04349121823907,
         29.111615296453238,
         28.890411514788866,
         29.066098351031542,
         29.12040724977851,
         29.235697265714407,
         29.1290174536407,
         29.083775829523802,
         28.92395732179284,
         29.1180950216949,
         29.106073793023825,
         28.951084677129984,
         29.034955952316523,
         28.965223912149668,
         29.064969640225172,
         28.96136289462447,
         28.999872621148825,
         29.121071983128786,
         29.058369364589453,
         29.145278532058,
         28.99520019069314,
         28.881164085119963,
         28.953052405267954,
         28.93855468556285,
         29.033365856856108,
         29.046858463436365,
         29.002621311694384,
         29.035178016871214,
         29.215842302888632,
         28.988190192729235,
         29.049131508916616,
         28.79336665198207,
         28.99137621000409,
         28.99433496966958,
         28.997963842004538,
         29.26626158133149,
         29.081269163638353,
         28.904984075576067,
         28.83322187140584,
         29.044339794665575,
         28.940712485462427,
         28.938034001737833,
         29.037587631493807,
         29.169295366853476,
         28.801959801465273,
         29.079857368022203,
         29.114556398242712,
         29.008532229810953,
         29.074935544282198,
         28.968462217599154,
         29.16198855265975,
         28.912957224994898,
         29.068458866328,
         29.11773068830371,
         29.26683570817113,
         28.980524841696024,
         29.184709046036005,
         29.015838835388422,
         28.91967298462987,
         28.91899299994111,
         28.97645539417863,
         29.007478419691324,
         28.77817401662469,
         28.96643539890647,
         28.80774625018239,
         28.962322410196066,
         29.055590268224478,
         28.972761373966932,
         28.86471452191472,
         28.982066590338945,
         28.93352498486638,
         29.328528363257647,
         29.007527116686106,
         29.055608715862036,
         28.973442409187555,
         28.97973285242915,
         28.981921155005693,
         28.976318415254354,
         29.017932321876287,
         28.97746143117547,
         29.109108198434114,
         29.134391713887453,
         28.962483298033476,
         28.990580450743437,
         29.130629125982523,
         29.02025753632188,
         28.799913484603167,
         28.971751425415277,
         28.872193101793528,
         29.143457930535078,
         29.19959906116128,
         29.13812270388007,
         28.75586625561118,
         28.94146752730012,
         29.105320382863283,
         29.116322834044695,
         29.041336629539728
        ],
        [
         4.339930847747607,
         4.343376780347194,
         4.342912055968534,
         4.345249168823263,
         4.34157203337545,
         4.322144160491848,
         4.338128719871463,
         4.350136949712185,
         4.342428913396315,
         4.342143108114598,
         4.347662133296787,
         4.322446732683647,
         4.341764736489219,
         4.331157386071468,
         4.330400140472509,
         4.33771529619482,
         4.339316858017408,
         4.348796432272452,
         4.327123359791386,
         4.3332122664808,
         4.35179882712385,
         4.341921081390542,
         4.332887524839448,
         4.337148096689371,
         4.329339023707823,
         4.336988216247353,
         4.336623958223186,
         4.343133077457154,
         4.327875495426979,
         4.314914414249599,
         4.341932701648213,
         4.344729874307272,
         4.332817622769258,
         4.325851942688524,
         4.314838756507077,
         4.326916059429762,
         4.346351081529155,
         4.332194751767629,
         4.3420531331995775,
         4.347657765909775,
         4.320304210468989,
         4.333116103778342,
         4.33723639793668,
         4.343516518860951,
         4.330953156095285,
         4.328264717261988,
         4.341034255795089,
         4.3283524075551485,
         4.350853487327492,
         4.341709324060891,
         4.325621734313657,
         4.335605768230737,
         4.325970719607613,
         4.3410885025986,
         4.318018247805497,
         4.33768035891734,
         4.340591672357565,
         4.336878564503767,
         4.344296570308258,
         4.3343574580506,
         4.335954243898996,
         4.3330669591011635,
         4.335371374328265,
         4.32973295834568,
         4.328315583190615,
         4.319474853618397,
         4.325873695320037,
         4.320118618250101,
         4.340809836597841,
         4.338117279224343,
         4.330063193589095,
         4.339475373474618,
         4.333841234608122,
         4.330850212405449,
         4.358117944040288,
         4.337671827628749,
         4.332119761321656,
         4.3345015756025145,
         4.338164607528491,
         4.33425031038623,
         4.337428724246144,
         4.344966041759239,
         4.335214183948187,
         4.34328246046476,
         4.348216924166759,
         4.330195416629373,
         4.340891918288182,
         4.34003530427505,
         4.334018220378107,
         4.312077250907806,
         4.332148606617904,
         4.327185239311051,
         4.3415747613740345,
         4.346819207672688,
         4.333495155878538,
         4.313845521992543,
         4.327996859519554,
         4.337537367077849,
         4.3367987613454115,
         4.33707271681152
        ]
       ],
       "encoder": "json",
       "name": "ABC_GAN_1 Metrics",
       "version": 1
      }
     },
     "metadata": {
      "scrapbook": {
       "data": true,
       "display": false,
       "name": "ABC_GAN_1 Metrics"
      }
     },
     "output_type": "display_data"
    },
    {
     "name": "stdout",
     "output_type": "stream",
     "text": [
      "MSE\n",
      "0.18427884013102075\n"
     ]
    }
   ],
   "source": [
    "ABC_GAN1_metrics=ABC_train_test2.test_generator(gen,test_data,prior_model,variance,bias,\"1\",device)\n",
    "sb.glue(\"ABC_GAN_1 Metrics\",ABC_GAN1_metrics)\n",
    "\n",
    "print(\"MSE\")\n",
    "print(mean(ABC_GAN1_metrics[0]))"
   ]
  },
  {
   "cell_type": "code",
   "execution_count": 14,
   "id": "eb22ce5c",
   "metadata": {
    "execution": {
     "iopub.execute_input": "2022-06-11T21:47:51.974509Z",
     "iopub.status.busy": "2022-06-11T21:47:51.974146Z",
     "iopub.status.idle": "2022-06-11T21:47:52.282757Z",
     "shell.execute_reply": "2022-06-11T21:47:52.283063Z"
    },
    "papermill": {
     "duration": 0.323379,
     "end_time": "2022-06-11T21:47:52.283201",
     "exception": false,
     "start_time": "2022-06-11T21:47:51.959822",
     "status": "completed"
    },
    "tags": []
   },
   "outputs": [
    {
     "data": {
      "image/png": "[encoded data removed]",
      "text/plain": [
       "<Figure size 432x288 with 1 Axes>"
      ]
     },
     "metadata": {
      "needs_background": "light"
     },
     "output_type": "display_data"
    },
    {
     "data": {
      "image/png": "[encoded data removed]",
      "text/plain": [
       "<Figure size 432x288 with 1 Axes>"
      ]
     },
     "metadata": {
      "needs_background": "light"
     },
     "output_type": "display_data"
    },
    {
     "data": {
      "image/png": "[encoded data removed]",
      "text/plain": [
       "<Figure size 432x288 with 1 Axes>"
      ]
     },
     "metadata": {
      "needs_background": "light"
     },
     "output_type": "display_data"
    },
    {
     "data": {
      "image/png": "[encoded data removed]",
      "text/plain": [
       "<Figure size 432x288 with 1 Axes>"
      ]
     },
     "metadata": {
      "needs_background": "light"
     },
     "output_type": "display_data"
    }
   ],
   "source": [
    "sanityChecks.discProbVsError(train_data,disc,device)\n",
    "sanityChecks.discProbVsError(test_data,disc,device)"
   ]
  },
  {
   "cell_type": "markdown",
   "id": "130f3a4d",
   "metadata": {
    "id": "130f3a4d",
    "papermill": {
     "duration": 0.014461,
     "end_time": "2022-06-11T21:47:52.312545",
     "exception": false,
     "start_time": "2022-06-11T21:47:52.298084",
     "status": "completed"
    },
    "tags": []
   },
   "source": [
    "# ABC - GAN Model with skip connection"
   ]
  },
  {
   "cell_type": "code",
   "execution_count": 15,
   "id": "4e43dad1",
   "metadata": {
    "execution": {
     "iopub.execute_input": "2022-06-11T21:47:52.345003Z",
     "iopub.status.busy": "2022-06-11T21:47:52.344633Z",
     "iopub.status.idle": "2022-06-11T21:47:52.347144Z",
     "shell.execute_reply": "2022-06-11T21:47:52.347388Z"
    },
    "id": "4e43dad1",
    "papermill": {
     "duration": 0.020134,
     "end_time": "2022-06-11T21:47:52.347500",
     "exception": false,
     "start_time": "2022-06-11T21:47:52.327366",
     "status": "completed"
    },
    "tags": []
   },
   "outputs": [],
   "source": [
    "#Generator\n",
    "gen3 = network.GeneratorWithSkipConnection(n_features+1).to(device)\n",
    "constraints=network.weightConstraint()\n",
    "#Discriminator \n",
    "disc3 = network.Discriminator(n_features+1).to(device)\n",
    "\n",
    "criterion = torch.nn.BCELoss()\n",
    "gen_opt = torch.optim.Adam(gen3.parameters(), lr=0.001, betas=(0.5, 0.999))\n",
    "disc_opt = torch.optim.Adam(disc3.parameters(), lr=0.001, betas=(0.5, 0.999))\n"
   ]
  },
  {
   "cell_type": "code",
   "execution_count": 16,
   "id": "26acbc37",
   "metadata": {
    "execution": {
     "iopub.execute_input": "2022-06-11T21:47:52.379133Z",
     "iopub.status.busy": "2022-06-11T21:47:52.378776Z",
     "iopub.status.idle": "2022-06-12T02:32:46.029590Z",
     "shell.execute_reply": "2022-06-12T02:32:46.029849Z"
    },
    "id": "26acbc37",
    "papermill": {
     "duration": 17093.667695,
     "end_time": "2022-06-12T02:32:46.030074",
     "exception": false,
     "start_time": "2022-06-11T21:47:52.362379",
     "status": "completed"
    },
    "tags": []
   },
   "outputs": [
    {
     "data": {
      "image/png": "[encoded data removed]",
      "text/plain": [
       "<Figure size 432x288 with 1 Axes>"
      ]
     },
     "metadata": {
      "needs_background": "light"
     },
     "output_type": "display_data"
    },
    {
     "data": {
      "image/png": "[encoded data removed]",
      "text/plain": [
       "<Figure size 432x288 with 1 Axes>"
      ]
     },
     "metadata": {
      "needs_background": "light"
     },
     "output_type": "display_data"
    }
   ],
   "source": [
    "ABC_train_test2.training_GAN_skip_connection(disc3,gen3,disc_opt,gen_opt,train_data,batch_size,n_epochs,criterion,prior_model,variance,bias,device)"
   ]
  },
  {
   "cell_type": "code",
   "execution_count": 17,
   "id": "c5e0717b",
   "metadata": {
    "execution": {
     "iopub.execute_input": "2022-06-12T02:32:46.068911Z",
     "iopub.status.busy": "2022-06-12T02:32:46.068527Z",
     "iopub.status.idle": "2022-06-12T02:32:46.887001Z",
     "shell.execute_reply": "2022-06-12T02:32:46.887380Z"
    },
    "id": "c5e0717b",
    "papermill": {
     "duration": 0.840012,
     "end_time": "2022-06-12T02:32:46.887503",
     "exception": false,
     "start_time": "2022-06-12T02:32:46.047491",
     "status": "completed"
    },
    "tags": []
   },
   "outputs": [
    {
     "data": {
      "application/scrapbook.scrap.json+json": {
       "data": 0.16901836012662821,
       "encoder": "json",
       "name": "ABC-GAN Model 3 MSE",
       "version": 1
      }
     },
     "metadata": {
      "scrapbook": {
       "data": true,
       "display": false,
       "name": "ABC-GAN Model 3 MSE"
      }
     },
     "output_type": "display_data"
    },
    {
     "data": {
      "application/scrapbook.scrap.json+json": {
       "data": 0.2832737991211972,
       "encoder": "json",
       "name": "ABC-GAN Model 3 MAE",
       "version": 1
      }
     },
     "metadata": {
      "scrapbook": {
       "data": true,
       "display": false,
       "name": "ABC-GAN Model 3 MAE"
      }
     },
     "output_type": "display_data"
    },
    {
     "data": {
      "application/scrapbook.scrap.json+json": {
       "data": 28.89392751036212,
       "encoder": "json",
       "name": "ABC-GAN Model 3 Manhattan Distance",
       "version": 1
      }
     },
     "metadata": {
      "scrapbook": {
       "data": true,
       "display": false,
       "name": "ABC-GAN Model 3 Manhattan Distance"
      }
     },
     "output_type": "display_data"
    },
    {
     "data": {
      "application/scrapbook.scrap.json+json": {
       "data": 4.152077437785429,
       "encoder": "json",
       "name": "ABC-GAN Model 3 Euclidean distance",
       "version": 1
      }
     },
     "metadata": {
      "scrapbook": {
       "data": true,
       "display": false,
       "name": "ABC-GAN Model 3 Euclidean distance"
      }
     },
     "output_type": "display_data"
    },
    {
     "data": {
      "application/scrapbook.scrap.json+json": {
       "data": [
        [
         0.16862126144255582,
         0.1695991774036664,
         0.17016886377620563,
         0.16978849880411317,
         0.16950903360397085,
         0.17094567883712805,
         0.16938210535704468,
         0.16834297748783814,
         0.1684651632258614,
         0.16900834926460762,
         0.1693108106842645,
         0.16896163068984366,
         0.166709777512584,
         0.16946022683950987,
         0.1690231263321711,
         0.16874827036562307,
         0.16835293538465587,
         0.16917175641397364,
         0.16810864282703836,
         0.16942336306415257,
         0.16925454468926845,
         0.16906977651952793,
         0.16977409780776348,
         0.1703447270271904,
         0.16867051413718476,
         0.1684632682483296,
         0.16904371733242698,
         0.16775038025596875,
         0.169846298356781,
         0.16927835685925696,
         0.16897364958278036,
         0.1697988762756864,
         0.1689352631159959,
         0.16794716741217158,
         0.17029258973067007,
         0.16777289725049999,
         0.16967079262225004,
         0.16835717873669662,
         0.16940854179724604,
         0.16898352386107862,
         0.16796556479009372,
         0.16985884154793118,
         0.167534924421117,
         0.16878337065323942,
         0.16848764176482037,
         0.1694895871109121,
         0.17195604667654402,
         0.16758232309211377,
         0.1684028831043613,
         0.16960662783927674,
         0.16727320295992573,
         0.1696516281177861,
         0.16778802117482605,
         0.16864810288742924,
         0.16943572382049,
         0.16907488231773576,
         0.16829988504463814,
         0.1692423437875802,
         0.1683545987551849,
         0.1680798226138621,
         0.1700151846929909,
         0.17071933545645365,
         0.17036324463934197,
         0.16914467208462192,
         0.16801249791120298,
         0.16948966329279327,
         0.1693136190561757,
         0.16836071986587683,
         0.16897198642107386,
         0.16875117638104592,
         0.16887731027245076,
         0.16913820080096031,
         0.16906272987613657,
         0.1675492075702675,
         0.1697248492497206,
         0.16883325888730163,
         0.16852082275221786,
         0.16880581265518305,
         0.16948882699538914,
         0.16963331767610498,
         0.17070321396500163,
         0.16855734779457696,
         0.16768975068380096,
         0.16952426355158504,
         0.16822945889119365,
         0.16843667477984203,
         0.17041690795423006,
         0.16787513769833534,
         0.16990079319514031,
         0.1704175741083236,
         0.169319540073431,
         0.1677462316523472,
         0.16812397506019935,
         0.16816843211377722,
         0.16925170612568316,
         0.1695891018455704,
         0.16718838278137363,
         0.16878169171755247,
         0.17088249294709784,
         0.1700030657709992
        ],
        [
         0.2836389051494645,
         0.28358069661201213,
         0.2835629817244469,
         0.2841208236036347,
         0.283785292477,
         0.28487003485069556,
         0.2815645347696309,
         0.28192170559629504,
         0.28292857424593437,
         0.28307023542184456,
         0.28525203261889664,
         0.28347572582025155,
         0.28012549800469594,
         0.28385061226493,
         0.2846534797446985,
         0.2830999869962825,
         0.283352638174798,
         0.2822704312263751,
         0.2817388058585279,
         0.2840016928008374,
         0.2831580784244865,
         0.28340327034832213,
         0.2839993883070408,
         0.2842424521405323,
         0.2827939567539622,
         0.2822049661886458,
         0.2834500156562118,
         0.28261879641635745,
         0.2837217562996289,
         0.28311150122945217,
         0.28303801735826567,
         0.28535964077009873,
         0.28359258784821223,
         0.28335218416417346,
         0.2845669253272753,
         0.28202895593701627,
         0.28412333433972853,
         0.2810037730298206,
         0.2828006048266794,
         0.284233122808384,
         0.2840144648855808,
         0.2835918782534553,
         0.2815651543000165,
         0.2833452534807079,
         0.28200082236206997,
         0.2833214971583848,
         0.28651705544953254,
         0.28361615874603685,
         0.2828278143104969,
         0.2824952773676783,
         0.2817582460668157,
         0.2847335791470958,
         0.28251459230394926,
         0.28322482591166215,
         0.2824046107776025,
         0.28271029290615346,
         0.282456122192682,
         0.2814414584826605,
         0.28251020643202696,
         0.2827729967002775,
         0.2833630662119272,
         0.2845108350191046,
         0.28428530163478616,
         0.28414336076992397,
         0.2810747663253078,
         0.28314323474963504,
         0.2840506901562798,
         0.2833327859201852,
         0.2831875186997886,
         0.28348223127278627,
         0.2833752165749377,
         0.28280625981735247,
         0.28296792715349617,
         0.2828678090271412,
         0.2842727780122967,
         0.28365332600386706,
         0.2830479823272018,
         0.28371466517302335,
         0.2833864129349297,
         0.28455641405547366,
         0.28619974537515175,
         0.28375079446271356,
         0.2821341406407894,
         0.2830760025364511,
         0.2823907950637387,
         0.282861155403011,
         0.2850108358862938,
         0.2809814127782981,
         0.2839744411335856,
         0.2833077572286129,
         0.28372793410922964,
         0.2806621020404147,
         0.2824644481799766,
         0.28287479515169184,
         0.28253707987274607,
         0.28453622791258726,
         0.28204457505660896,
         0.2825010290332869,
         0.28641964181088936,
         0.28521209323377
        ],
        [
         28.93116832524538,
         28.92523105442524,
         28.923424135893583,
         28.980324007570744,
         28.946099832654,
         29.056743554770947,
         28.71958254650235,
         28.756013970822096,
         28.858714573085308,
         28.873164013028145,
         29.095707327127457,
         28.914524033665657,
         28.572800796478987,
         28.952762451022863,
         29.034654933959246,
         28.87619867362082,
         28.901969093829393,
         28.791583985090256,
         28.737358197569847,
         28.968172665685415,
         28.88212399929762,
         28.90713357552886,
         28.967937607318163,
         28.992730118334293,
         28.844983588904142,
         28.784906551241875,
         28.911901596933603,
         28.82711723446846,
         28.93961914256215,
         28.87737312540412,
         28.8698777705431,
         29.10668335855007,
         28.926443960517645,
         28.901922784745693,
         29.025826383382082,
         28.766953505575657,
         28.98058010265231,
         28.6623848490417,
         28.8456616923213,
         28.991778526455164,
         28.96947541832924,
         28.926371581852436,
         28.719645738601685,
         28.901215855032206,
         28.76408388093114,
         28.89879271015525,
         29.224739655852318,
         28.928848192095757,
         28.848437059670687,
         28.81451829150319,
         28.739341098815203,
         29.04282507300377,
         28.816488415002823,
         28.88893224298954,
         28.805270299315453,
         28.83644987642765,
         28.810524463653564,
         28.70702876523137,
         28.81604105606675,
         28.842845663428307,
         28.90303275361657,
         29.02010517194867,
         28.99710076674819,
         28.982622798532248,
         28.6696261651814,
         28.880609944462776,
         28.973170395940542,
         28.89994416385889,
         28.885126907378435,
         28.9151875898242,
         28.904272090643644,
         28.846238501369953,
         28.86272856965661,
         28.852516520768404,
         28.995823357254267,
         28.932639252394438,
         28.870894197374582,
         28.938895847648382,
         28.90541411936283,
         29.024754233658314,
         29.192374028265476,
         28.94258103519678,
         28.777682345360518,
         28.873752258718014,
         28.80386109650135,
         28.85183785110712,
         29.071105260401964,
         28.660104103386402,
         28.965392995625734,
         28.897391237318516,
         28.940249279141426,
         28.6275344081223,
         28.811373714357615,
         28.853229105472565,
         28.8187821470201,
         29.022695247083902,
         28.768546655774117,
         28.815104961395264,
         29.214803464710712,
         29.09163350984454
        ],
        [
         4.147212156032133,
         4.159220611505714,
         4.166200199843134,
         4.161541406500667,
         4.158115129190752,
         4.175698653086339,
         4.156558040785495,
         4.1437885689015905,
         4.14529210659971,
         4.151969607907792,
         4.155683179670339,
         4.15139570871822,
         4.123638842852702,
         4.15751646270102,
         4.152151115491999,
         4.14877374380594,
         4.1439111246785805,
         4.153976306411161,
         4.14090347247529,
         4.1570642324293665,
         4.154992606287691,
         4.152724070413522,
         4.161364917475019,
         4.1683524511218355,
         4.147817792766799,
         4.145268792410164,
         4.15240402272076,
         4.136488702524015,
         4.162249684052083,
         4.155284875871232,
         4.1515433584925505,
         4.161668581244789,
         4.151071769776039,
         4.138914238787934,
         4.167714499882201,
         4.136766311933875,
         4.160098658381734,
         4.143963348190118,
         4.156882397099909,
         4.151664658161834,
         4.139140926398805,
         4.162403372799059,
         4.1338314299151016,
         4.149205201798342,
         4.145568653395053,
         4.157876607754615,
         4.188020625666437,
         4.1344161565323345,
         4.144525796354132,
         4.159311967093382,
         4.130601251865451,
         4.15986370786522,
         4.136952762581687,
         4.147542223355632,
         4.1572158748001025,
         4.152786774734413,
         4.143258171361409,
         4.154842844962151,
         4.1439315960846725,
         4.140548503110901,
         4.164318532327356,
         4.1729332868568925,
         4.168579008872553,
         4.15364376814279,
         4.139719167642016,
         4.157877542192039,
         4.155717644851479,
         4.144006928845491,
         4.151522927185821,
         4.148809466686399,
         4.150359701012669,
         4.153564310528723,
         4.152637529012848,
         4.134007640555019,
         4.160761303352008,
         4.149818358254342,
         4.1459768355269695,
         4.149481038735889,
         4.15786728426121,
         4.159639215480437,
         4.172736251481774,
         4.14642610871662,
         4.1357411149330545,
         4.158301922932205,
         4.14239119433471,
         4.144941595190925,
         4.169235494827734,
         4.13802658827009,
         4.162917355161439,
         4.169243643522049,
         4.155790308411863,
         4.136437552839329,
         4.141092302296621,
         4.141639781005257,
         4.154957764504916,
         4.159097064057075,
         4.129553855285109,
         4.149184565091116,
         4.174926859311906,
         4.164170110435201
        ]
       ],
       "encoder": "json",
       "name": "ABC_GAN_3 Metrics",
       "version": 1
      }
     },
     "metadata": {
      "scrapbook": {
       "data": true,
       "display": false,
       "name": "ABC_GAN_3 Metrics"
      }
     },
     "output_type": "display_data"
    },
    {
     "name": "stdout",
     "output_type": "stream",
     "text": [
      "MSE\n",
      "0.16901836012662821\n"
     ]
    }
   ],
   "source": [
    "ABC_GAN3_metrics=ABC_train_test2.test_generator(gen3,test_data,prior_model,variance,bias,\"3\",device)\n",
    "sb.glue(\"ABC_GAN_3 Metrics\",ABC_GAN3_metrics)\n",
    "\n",
    "print(\"MSE\")\n",
    "print(mean(ABC_GAN3_metrics[0]))"
   ]
  },
  {
   "cell_type": "code",
   "execution_count": 18,
   "id": "c8e46b48",
   "metadata": {
    "execution": {
     "iopub.execute_input": "2022-06-12T02:32:46.924191Z",
     "iopub.status.busy": "2022-06-12T02:32:46.923829Z",
     "iopub.status.idle": "2022-06-12T02:32:47.247797Z",
     "shell.execute_reply": "2022-06-12T02:32:47.248109Z"
    },
    "id": "c8e46b48",
    "papermill": {
     "duration": 0.343539,
     "end_time": "2022-06-12T02:32:47.248235",
     "exception": false,
     "start_time": "2022-06-12T02:32:46.904696",
     "status": "completed"
    },
    "tags": []
   },
   "outputs": [
    {
     "data": {
      "image/png": "[encoded data removed]",
      "text/plain": [
       "<Figure size 432x288 with 1 Axes>"
      ]
     },
     "metadata": {
      "needs_background": "light"
     },
     "output_type": "display_data"
    },
    {
     "data": {
      "image/png": "[encoded data removed]",
      "text/plain": [
       "<Figure size 432x288 with 1 Axes>"
      ]
     },
     "metadata": {
      "needs_background": "light"
     },
     "output_type": "display_data"
    },
    {
     "data": {
      "image/png": "[encoded data removed]",
      "text/plain": [
       "<Figure size 432x288 with 1 Axes>"
      ]
     },
     "metadata": {
      "needs_background": "light"
     },
     "output_type": "display_data"
    },
    {
     "data": {
      "image/png": "[encoded data removed]",
      "text/plain": [
       "<Figure size 432x288 with 1 Axes>"
      ]
     },
     "metadata": {
      "needs_background": "light"
     },
     "output_type": "display_data"
    }
   ],
   "source": [
    "sanityChecks.discProbVsError(train_data,disc3,device)\n",
    "sanityChecks.discProbVsError(test_data,disc3,device)"
   ]
  },
  {
   "cell_type": "markdown",
   "id": "a5bd74c3",
   "metadata": {
    "id": "a5bd74c3",
    "papermill": {
     "duration": 0.020272,
     "end_time": "2022-06-12T02:32:47.288419",
     "exception": false,
     "start_time": "2022-06-12T02:32:47.268147",
     "status": "completed"
    },
    "tags": []
   },
   "source": [
    "## Skip Connection Model Analysis - ABC-GAN "
   ]
  },
  {
   "cell_type": "markdown",
   "id": "5744a8bf",
   "metadata": {
    "id": "5744a8bf",
    "papermill": {
     "duration": 0.018955,
     "end_time": "2022-06-12T02:32:47.326506",
     "exception": false,
     "start_time": "2022-06-12T02:32:47.307551",
     "status": "completed"
    },
    "tags": []
   },
   "source": [
    "### Weight Analysis \n",
    "\n",
    "Study the weights of the skip connection layer\n",
    "\n",
    "Equation of the skip connection is \n",
    "\n",
    "$output = y_{gan} * w + y_{abc} * (1-w)$"
   ]
  },
  {
   "cell_type": "code",
   "execution_count": 19,
   "id": "52c31dea",
   "metadata": {
    "execution": {
     "iopub.execute_input": "2022-06-12T02:32:47.368523Z",
     "iopub.status.busy": "2022-06-12T02:32:47.368120Z",
     "iopub.status.idle": "2022-06-12T02:32:47.371879Z",
     "shell.execute_reply": "2022-06-12T02:32:47.372132Z"
    },
    "id": "52c31dea",
    "papermill": {
     "duration": 0.026899,
     "end_time": "2022-06-12T02:32:47.372247",
     "exception": false,
     "start_time": "2022-06-12T02:32:47.345348",
     "status": "completed"
    },
    "tags": []
   },
   "outputs": [
    {
     "name": "stdout",
     "output_type": "stream",
     "text": [
      "Weight of the node at skip connection\n",
      "Parameter containing:\n",
      "tensor([[0.1054]], requires_grad=True)\n"
     ]
    },
    {
     "data": {
      "application/scrapbook.scrap.json+json": {
       "data": 0.1054050400853157,
       "encoder": "json",
       "name": "Skip Connection Weight",
       "version": 1
      }
     },
     "metadata": {
      "scrapbook": {
       "data": true,
       "display": false,
       "name": "Skip Connection Weight"
      }
     },
     "output_type": "display_data"
    }
   ],
   "source": [
    "print(\"Weight of the node at skip connection\")\n",
    "for name,param in gen3.named_parameters():\n",
    "    if(name == \"skipNode.weight\"):\n",
    "        print(param)\n",
    "        sb.glue(\"Skip Connection Weight\",param.item())"
   ]
  }
 ],
 "metadata": {
  "colab": {
   "collapsed_sections": [],
   "name": "ABC_GAN_Model-Catboost_Pre-gen.ipynb",
   "provenance": []
  },
  "interpreter": {
   "hash": "31f2aee4e71d21fbe5cf8b01ff0e069b9275f58929596ceb00d14d90e3e16cd6"
  },
  "kernelspec": {
   "display_name": "Python 3 (ipykernel)",
   "language": "python",
   "name": "python3"
  },
  "language_info": {
   "codemirror_mode": {
    "name": "ipython",
    "version": 3
   },
   "file_extension": ".py",
   "mimetype": "text/x-python",
   "name": "python",
   "nbconvert_exporter": "python",
   "pygments_lexer": "ipython3",
   "version": "3.8.11"
  },
  "papermill": {
   "default_parameters": {},
   "duration": 20452.092122,
   "end_time": "2022-06-12T02:32:47.808440",
   "environment_variables": {},
   "exception": null,
   "input_path": "ABC_GAN-Catboost.ipynb",
   "output_path": "./ABC_GAN_Catboost/ABC-GAN_output_3_5.ipynb",
   "parameters": {
    "bias": 0.1,
    "variance": 0.01
   },
   "start_time": "2022-06-11T20:51:55.716318",
   "version": "2.3.3"
  }
 },
 "nbformat": 4,
 "nbformat_minor": 5
}