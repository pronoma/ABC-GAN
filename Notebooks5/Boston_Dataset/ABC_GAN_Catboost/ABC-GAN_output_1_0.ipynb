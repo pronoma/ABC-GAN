{
 "cells": [
  {
   "cell_type": "markdown",
   "id": "622780e6",
   "metadata": {
    "id": "622780e6",
    "papermill": {
     "duration": 0.024876,
     "end_time": "2022-06-11T12:46:39.708189",
     "exception": false,
     "start_time": "2022-06-11T12:46:39.683313",
     "status": "completed"
    },
    "tags": []
   },
   "source": [
    "## Import Libraries "
   ]
  },
  {
   "cell_type": "code",
   "execution_count": 1,
   "id": "a62397e3",
   "metadata": {
    "execution": {
     "iopub.execute_input": "2022-06-11T12:46:39.743889Z",
     "iopub.status.busy": "2022-06-11T12:46:39.743288Z",
     "iopub.status.idle": "2022-06-11T12:46:39.745748Z",
     "shell.execute_reply": "2022-06-11T12:46:39.746092Z"
    },
    "id": "a62397e3",
    "papermill": {
     "duration": 0.022419,
     "end_time": "2022-06-11T12:46:39.746287",
     "exception": false,
     "start_time": "2022-06-11T12:46:39.723868",
     "status": "completed"
    },
    "tags": []
   },
   "outputs": [],
   "source": [
    "import warnings\n",
    "import sys\n",
    "sys.path.insert(0, '../../src')\n",
    "warnings.filterwarnings('ignore')"
   ]
  },
  {
   "cell_type": "code",
   "execution_count": 2,
   "id": "d6a4e155",
   "metadata": {
    "execution": {
     "iopub.execute_input": "2022-06-11T12:46:39.767298Z",
     "iopub.status.busy": "2022-06-11T12:46:39.766868Z",
     "iopub.status.idle": "2022-06-11T12:46:41.785245Z",
     "shell.execute_reply": "2022-06-11T12:46:41.785749Z"
    },
    "id": "d6a4e155",
    "papermill": {
     "duration": 2.029904,
     "end_time": "2022-06-11T12:46:41.785941",
     "exception": false,
     "start_time": "2022-06-11T12:46:39.756037",
     "status": "completed"
    },
    "tags": []
   },
   "outputs": [],
   "source": [
    "import ABC_train_test2\n",
    "import bostonDataset\n",
    "import network\n",
    "import dataset\n",
    "import sanityChecks\n",
    "import torch \n",
    "import scrapbook as sb\n",
    "from statistics import mean \n",
    "import catboost as ctb \n",
    "from sklearn.model_selection import train_test_split\n",
    "from sklearn.metrics import mean_squared_error,mean_absolute_error\n",
    "import numpy as np"
   ]
  },
  {
   "cell_type": "markdown",
   "id": "2fa5b0f7",
   "metadata": {
    "id": "2fa5b0f7",
    "papermill": {
     "duration": 0.010549,
     "end_time": "2022-06-11T12:46:41.809972",
     "exception": false,
     "start_time": "2022-06-11T12:46:41.799423",
     "status": "completed"
    },
    "tags": []
   },
   "source": [
    "## Parameters "
   ]
  },
  {
   "cell_type": "code",
   "execution_count": 3,
   "id": "783186fb",
   "metadata": {
    "execution": {
     "iopub.execute_input": "2022-06-11T12:46:41.830588Z",
     "iopub.status.busy": "2022-06-11T12:46:41.830163Z",
     "iopub.status.idle": "2022-06-11T12:46:41.831696Z",
     "shell.execute_reply": "2022-06-11T12:46:41.831980Z"
    },
    "id": "783186fb",
    "papermill": {
     "duration": 0.012596,
     "end_time": "2022-06-11T12:46:41.832097",
     "exception": false,
     "start_time": "2022-06-11T12:46:41.819501",
     "status": "completed"
    },
    "tags": [
     "parameters"
    ]
   },
   "outputs": [],
   "source": [
    "variance = 1\n",
    "bias = 1 "
   ]
  },
  {
   "cell_type": "code",
   "execution_count": 4,
   "id": "8b25502a",
   "metadata": {
    "execution": {
     "iopub.execute_input": "2022-06-11T12:46:41.849008Z",
     "iopub.status.busy": "2022-06-11T12:46:41.848634Z",
     "iopub.status.idle": "2022-06-11T12:46:41.849930Z",
     "shell.execute_reply": "2022-06-11T12:46:41.850174Z"
    },
    "papermill": {
     "duration": 0.01038,
     "end_time": "2022-06-11T12:46:41.850282",
     "exception": false,
     "start_time": "2022-06-11T12:46:41.839902",
     "status": "completed"
    },
    "tags": [
     "injected-parameters"
    ]
   },
   "outputs": [],
   "source": [
    "# Parameters\n",
    "variance = 1\n",
    "bias = 1\n"
   ]
  },
  {
   "cell_type": "markdown",
   "id": "391cdbfd",
   "metadata": {
    "id": "391cdbfd",
    "papermill": {
     "duration": 0.006935,
     "end_time": "2022-06-11T12:46:41.864390",
     "exception": false,
     "start_time": "2022-06-11T12:46:41.857455",
     "status": "completed"
    },
    "tags": []
   },
   "source": [
    "## Dataset \n"
   ]
  },
  {
   "cell_type": "code",
   "execution_count": 5,
   "id": "5b51f161",
   "metadata": {
    "execution": {
     "iopub.execute_input": "2022-06-11T12:46:41.879814Z",
     "iopub.status.busy": "2022-06-11T12:46:41.879467Z",
     "iopub.status.idle": "2022-06-11T12:46:41.880727Z",
     "shell.execute_reply": "2022-06-11T12:46:41.880957Z"
    },
    "id": "5b51f161",
    "papermill": {
     "duration": 0.009806,
     "end_time": "2022-06-11T12:46:41.881055",
     "exception": false,
     "start_time": "2022-06-11T12:46:41.871249",
     "status": "completed"
    },
    "tags": []
   },
   "outputs": [],
   "source": [
    "#Parameters \n",
    "n_features = 13\n",
    "n_samples= 506\n",
    "n_target = 1 "
   ]
  },
  {
   "cell_type": "code",
   "execution_count": 6,
   "id": "5d6eced4",
   "metadata": {
    "execution": {
     "iopub.execute_input": "2022-06-11T12:46:41.896528Z",
     "iopub.status.busy": "2022-06-11T12:46:41.896138Z",
     "iopub.status.idle": "2022-06-11T12:46:41.906827Z",
     "shell.execute_reply": "2022-06-11T12:46:41.907057Z"
    },
    "id": "5d6eced4",
    "papermill": {
     "duration": 0.019306,
     "end_time": "2022-06-11T12:46:41.907160",
     "exception": false,
     "start_time": "2022-06-11T12:46:41.887854",
     "status": "completed"
    },
    "tags": []
   },
   "outputs": [
    {
     "name": "stdout",
     "output_type": "stream",
     "text": [
      "         X1        X2        X3        X4        X5        X6        X7  \\\n",
      "0 -0.419782  0.284830 -1.287909 -0.272599 -0.144217  0.413672 -0.120013   \n",
      "1 -0.417339 -0.487722 -0.593381 -0.272599 -0.740262  0.194274  0.367166   \n",
      "2 -0.417342 -0.487722 -0.593381 -0.272599 -0.740262  1.282714 -0.265812   \n",
      "3 -0.416750 -0.487722 -1.306878 -0.272599 -0.835284  1.016303 -0.809889   \n",
      "4 -0.412482 -0.487722 -1.306878 -0.272599 -0.835284  1.228577 -0.511180   \n",
      "\n",
      "         X8        X9       X10       X11       X12       X13         Y  \n",
      "0  0.140214 -0.982843 -0.666608 -1.459000  0.441052 -1.075562  0.159686  \n",
      "1  0.557160 -0.867883 -0.987329 -0.303094  0.441052 -0.492439 -0.101524  \n",
      "2  0.557160 -0.867883 -0.987329 -0.303094  0.396427 -1.208727  1.324247  \n",
      "3  1.077737 -0.752922 -1.106115  0.113032  0.416163 -1.361517  1.182758  \n",
      "4  1.077737 -0.752922 -1.106115  0.113032  0.441052 -1.026501  1.487503  \n"
     ]
    }
   ],
   "source": [
    "X,Y = bostonDataset.boston_data()"
   ]
  },
  {
   "cell_type": "code",
   "execution_count": 7,
   "id": "fe007438",
   "metadata": {
    "execution": {
     "iopub.execute_input": "2022-06-11T12:46:41.923802Z",
     "iopub.status.busy": "2022-06-11T12:46:41.923413Z",
     "iopub.status.idle": "2022-06-11T12:46:41.925119Z",
     "shell.execute_reply": "2022-06-11T12:46:41.925368Z"
    },
    "id": "fe007438",
    "papermill": {
     "duration": 0.011139,
     "end_time": "2022-06-11T12:46:41.925476",
     "exception": false,
     "start_time": "2022-06-11T12:46:41.914337",
     "status": "completed"
    },
    "tags": []
   },
   "outputs": [],
   "source": [
    "#Train test split for dataset \n",
    "X_train,X_test,Y_train,Y_test = train_test_split(X,Y,test_size = 0.2)\n",
    "train_data = dataset.CustomDataset(X_train,Y_train)\n",
    "test_data = dataset.CustomDataset(X_test,Y_test)\n"
   ]
  },
  {
   "cell_type": "markdown",
   "id": "a9a1af34",
   "metadata": {
    "id": "a9a1af34",
    "papermill": {
     "duration": 0.007054,
     "end_time": "2022-06-11T12:46:41.939659",
     "exception": false,
     "start_time": "2022-06-11T12:46:41.932605",
     "status": "completed"
    },
    "tags": []
   },
   "source": [
    "## Training Parameters "
   ]
  },
  {
   "cell_type": "code",
   "execution_count": 8,
   "id": "952b7fc8",
   "metadata": {
    "execution": {
     "iopub.execute_input": "2022-06-11T12:46:41.955846Z",
     "iopub.status.busy": "2022-06-11T12:46:41.955500Z",
     "iopub.status.idle": "2022-06-11T12:46:41.956832Z",
     "shell.execute_reply": "2022-06-11T12:46:41.957083Z"
    },
    "id": "952b7fc8",
    "papermill": {
     "duration": 0.01056,
     "end_time": "2022-06-11T12:46:41.957195",
     "exception": false,
     "start_time": "2022-06-11T12:46:41.946635",
     "status": "completed"
    },
    "tags": []
   },
   "outputs": [],
   "source": [
    "batch_size = 32\n",
    "n_epochs = 1000\n",
    "#Select the device \n",
    "device = torch.device('cuda' if torch.cuda.is_available() else 'cpu')"
   ]
  },
  {
   "cell_type": "markdown",
   "id": "a95e1600",
   "metadata": {
    "id": "a95e1600",
    "papermill": {
     "duration": 0.007052,
     "end_time": "2022-06-11T12:46:41.971467",
     "exception": false,
     "start_time": "2022-06-11T12:46:41.964415",
     "status": "completed"
    },
    "tags": []
   },
   "source": [
    "# ABC Pre-generator Model \n",
    "\n",
    "1. The catboost model is used as a pre-generator model for the ABC-GAN. \n",
    "2. The model is first trained on the entire dataset \n",
    "3. It generats X,Y pairs and we add some Gaussian noise with mean 0 and variance 1 to it which is then feed as input to the generator.\n"
   ]
  },
  {
   "cell_type": "code",
   "execution_count": 9,
   "id": "ff8ce7bd",
   "metadata": {
    "execution": {
     "iopub.execute_input": "2022-06-11T12:46:41.999304Z",
     "iopub.status.busy": "2022-06-11T12:46:41.998905Z",
     "iopub.status.idle": "2022-06-11T12:46:42.975349Z",
     "shell.execute_reply": "2022-06-11T12:46:42.975601Z"
    },
    "id": "ff8ce7bd",
    "papermill": {
     "duration": 0.997155,
     "end_time": "2022-06-11T12:46:42.975722",
     "exception": false,
     "start_time": "2022-06-11T12:46:41.978567",
     "status": "completed"
    },
    "tags": []
   },
   "outputs": [
    {
     "name": "stdout",
     "output_type": "stream",
     "text": [
      "Learning rate set to 0.033215\n",
      "0:\tlearn: 1.0127823\ttotal: 71.5ms\tremaining: 1m 11s\n",
      "1:\tlearn: 0.9922140\ttotal: 72.6ms\tremaining: 36.2s\n",
      "2:\tlearn: 0.9711011\ttotal: 73.6ms\tremaining: 24.5s\n",
      "3:\tlearn: 0.9536148\ttotal: 74.7ms\tremaining: 18.6s\n",
      "4:\tlearn: 0.9353292\ttotal: 75.6ms\tremaining: 15s\n",
      "5:\tlearn: 0.9179908\ttotal: 76.5ms\tremaining: 12.7s\n",
      "6:\tlearn: 0.9015004\ttotal: 77.3ms\tremaining: 11s\n",
      "7:\tlearn: 0.8833443\ttotal: 78.1ms\tremaining: 9.68s\n",
      "8:\tlearn: 0.8670455\ttotal: 78.8ms\tremaining: 8.68s\n",
      "9:\tlearn: 0.8505472\ttotal: 79.6ms\tremaining: 7.88s\n",
      "10:\tlearn: 0.8331123\ttotal: 80.4ms\tremaining: 7.23s\n",
      "11:\tlearn: 0.8190686\ttotal: 81.2ms\tremaining: 6.68s\n",
      "12:\tlearn: 0.8043704\ttotal: 82.1ms\tremaining: 6.23s\n",
      "13:\tlearn: 0.7908402\ttotal: 83ms\tremaining: 5.84s\n",
      "14:\tlearn: 0.7771120\ttotal: 83.8ms\tremaining: 5.5s\n",
      "15:\tlearn: 0.7628410\ttotal: 84.8ms\tremaining: 5.21s\n",
      "16:\tlearn: 0.7512021\ttotal: 85.8ms\tremaining: 4.96s\n",
      "17:\tlearn: 0.7391426\ttotal: 86.6ms\tremaining: 4.72s\n",
      "18:\tlearn: 0.7257375\ttotal: 87.4ms\tremaining: 4.51s\n",
      "19:\tlearn: 0.7122283\ttotal: 88.2ms\tremaining: 4.32s\n",
      "20:\tlearn: 0.6978074\ttotal: 89ms\tremaining: 4.15s\n",
      "21:\tlearn: 0.6877512\ttotal: 89.9ms\tremaining: 4s\n",
      "22:\tlearn: 0.6774949\ttotal: 90.7ms\tremaining: 3.85s\n",
      "23:\tlearn: 0.6672920\ttotal: 91.6ms\tremaining: 3.73s\n",
      "24:\tlearn: 0.6568830\ttotal: 92.7ms\tremaining: 3.61s\n"
     ]
    },
    {
     "name": "stdout",
     "output_type": "stream",
     "text": [
      "25:\tlearn: 0.6463775\ttotal: 93.8ms\tremaining: 3.51s\n",
      "26:\tlearn: 0.6370848\ttotal: 94.7ms\tremaining: 3.41s\n",
      "27:\tlearn: 0.6274902\ttotal: 95.3ms\tremaining: 3.31s\n",
      "28:\tlearn: 0.6189066\ttotal: 96.1ms\tremaining: 3.22s\n",
      "29:\tlearn: 0.6086585\ttotal: 97ms\tremaining: 3.13s\n",
      "30:\tlearn: 0.6000547\ttotal: 97.8ms\tremaining: 3.06s\n",
      "31:\tlearn: 0.5905413\ttotal: 98.5ms\tremaining: 2.98s\n",
      "32:\tlearn: 0.5824673\ttotal: 99.3ms\tremaining: 2.91s\n",
      "33:\tlearn: 0.5757790\ttotal: 100ms\tremaining: 2.85s\n",
      "34:\tlearn: 0.5689551\ttotal: 101ms\tremaining: 2.78s\n",
      "35:\tlearn: 0.5605003\ttotal: 102ms\tremaining: 2.72s\n",
      "36:\tlearn: 0.5532313\ttotal: 103ms\tremaining: 2.67s\n",
      "37:\tlearn: 0.5453327\ttotal: 103ms\tremaining: 2.62s\n",
      "38:\tlearn: 0.5385438\ttotal: 104ms\tremaining: 2.57s\n",
      "39:\tlearn: 0.5316587\ttotal: 105ms\tremaining: 2.52s\n",
      "40:\tlearn: 0.5248824\ttotal: 106ms\tremaining: 2.48s\n",
      "41:\tlearn: 0.5187172\ttotal: 107ms\tremaining: 2.44s\n",
      "42:\tlearn: 0.5132816\ttotal: 108ms\tremaining: 2.39s\n",
      "43:\tlearn: 0.5061186\ttotal: 108ms\tremaining: 2.35s\n",
      "44:\tlearn: 0.4994525\ttotal: 109ms\tremaining: 2.31s\n",
      "45:\tlearn: 0.4928834\ttotal: 110ms\tremaining: 2.28s\n",
      "46:\tlearn: 0.4866746\ttotal: 110ms\tremaining: 2.24s\n",
      "47:\tlearn: 0.4806987\ttotal: 111ms\tremaining: 2.21s\n",
      "48:\tlearn: 0.4754641\ttotal: 112ms\tremaining: 2.17s\n",
      "49:\tlearn: 0.4694546\ttotal: 113ms\tremaining: 2.14s\n",
      "50:\tlearn: 0.4651304\ttotal: 113ms\tremaining: 2.11s\n",
      "51:\tlearn: 0.4590479\ttotal: 114ms\tremaining: 2.08s\n",
      "52:\tlearn: 0.4545265\ttotal: 116ms\tremaining: 2.07s\n",
      "53:\tlearn: 0.4505943\ttotal: 117ms\tremaining: 2.04s\n",
      "54:\tlearn: 0.4452033\ttotal: 117ms\tremaining: 2.02s\n",
      "55:\tlearn: 0.4415213\ttotal: 118ms\tremaining: 1.99s\n",
      "56:\tlearn: 0.4366168\ttotal: 119ms\tremaining: 1.97s\n",
      "57:\tlearn: 0.4320629\ttotal: 120ms\tremaining: 1.94s\n",
      "58:\tlearn: 0.4287212\ttotal: 120ms\tremaining: 1.92s\n",
      "59:\tlearn: 0.4251138\ttotal: 121ms\tremaining: 1.9s\n",
      "60:\tlearn: 0.4212485\ttotal: 122ms\tremaining: 1.88s\n",
      "61:\tlearn: 0.4168612\ttotal: 123ms\tremaining: 1.85s\n",
      "62:\tlearn: 0.4138693\ttotal: 124ms\tremaining: 1.84s\n",
      "63:\tlearn: 0.4098937\ttotal: 124ms\tremaining: 1.82s\n",
      "64:\tlearn: 0.4061479\ttotal: 125ms\tremaining: 1.8s\n",
      "65:\tlearn: 0.4009933\ttotal: 126ms\tremaining: 1.78s\n",
      "66:\tlearn: 0.3970047\ttotal: 127ms\tremaining: 1.76s\n",
      "67:\tlearn: 0.3939663\ttotal: 128ms\tremaining: 1.75s\n",
      "68:\tlearn: 0.3901590\ttotal: 129ms\tremaining: 1.73s\n",
      "69:\tlearn: 0.3871068\ttotal: 130ms\tremaining: 1.72s\n",
      "70:\tlearn: 0.3835035\ttotal: 130ms\tremaining: 1.7s\n",
      "71:\tlearn: 0.3808205\ttotal: 131ms\tremaining: 1.69s\n",
      "72:\tlearn: 0.3773388\ttotal: 132ms\tremaining: 1.68s\n",
      "73:\tlearn: 0.3740155\ttotal: 133ms\tremaining: 1.66s\n",
      "74:\tlearn: 0.3709817\ttotal: 133ms\tremaining: 1.65s\n",
      "75:\tlearn: 0.3683106\ttotal: 134ms\tremaining: 1.63s\n",
      "76:\tlearn: 0.3652924\ttotal: 135ms\tremaining: 1.62s\n",
      "77:\tlearn: 0.3625955\ttotal: 136ms\tremaining: 1.61s\n",
      "78:\tlearn: 0.3603563\ttotal: 137ms\tremaining: 1.59s\n",
      "79:\tlearn: 0.3573949\ttotal: 138ms\tremaining: 1.58s\n",
      "80:\tlearn: 0.3550761\ttotal: 138ms\tremaining: 1.57s\n",
      "81:\tlearn: 0.3521685\ttotal: 139ms\tremaining: 1.56s\n",
      "82:\tlearn: 0.3500582\ttotal: 140ms\tremaining: 1.55s\n",
      "83:\tlearn: 0.3477351\ttotal: 141ms\tremaining: 1.54s\n",
      "84:\tlearn: 0.3461251\ttotal: 142ms\tremaining: 1.52s\n",
      "85:\tlearn: 0.3437360\ttotal: 143ms\tremaining: 1.51s\n",
      "86:\tlearn: 0.3414102\ttotal: 143ms\tremaining: 1.5s\n",
      "87:\tlearn: 0.3392367\ttotal: 144ms\tremaining: 1.49s\n",
      "88:\tlearn: 0.3365078\ttotal: 145ms\tremaining: 1.48s\n",
      "89:\tlearn: 0.3344468\ttotal: 146ms\tremaining: 1.47s\n",
      "90:\tlearn: 0.3320449\ttotal: 147ms\tremaining: 1.46s\n",
      "91:\tlearn: 0.3300514\ttotal: 147ms\tremaining: 1.45s\n",
      "92:\tlearn: 0.3277872\ttotal: 148ms\tremaining: 1.44s\n",
      "93:\tlearn: 0.3254854\ttotal: 149ms\tremaining: 1.44s\n",
      "94:\tlearn: 0.3233148\ttotal: 150ms\tremaining: 1.43s\n",
      "95:\tlearn: 0.3221310\ttotal: 151ms\tremaining: 1.42s\n",
      "96:\tlearn: 0.3205440\ttotal: 152ms\tremaining: 1.41s\n",
      "97:\tlearn: 0.3186347\ttotal: 152ms\tremaining: 1.4s\n",
      "98:\tlearn: 0.3167278\ttotal: 153ms\tremaining: 1.39s\n",
      "99:\tlearn: 0.3155134\ttotal: 154ms\tremaining: 1.39s\n",
      "100:\tlearn: 0.3139443\ttotal: 155ms\tremaining: 1.38s\n",
      "101:\tlearn: 0.3119041\ttotal: 156ms\tremaining: 1.37s\n",
      "102:\tlearn: 0.3104718\ttotal: 156ms\tremaining: 1.36s\n",
      "103:\tlearn: 0.3088898\ttotal: 157ms\tremaining: 1.35s\n",
      "104:\tlearn: 0.3073101\ttotal: 158ms\tremaining: 1.35s\n",
      "105:\tlearn: 0.3057194\ttotal: 159ms\tremaining: 1.34s\n",
      "106:\tlearn: 0.3037168\ttotal: 160ms\tremaining: 1.33s\n",
      "107:\tlearn: 0.3018278\ttotal: 161ms\tremaining: 1.33s\n",
      "108:\tlearn: 0.3002726\ttotal: 161ms\tremaining: 1.32s\n",
      "109:\tlearn: 0.2991619\ttotal: 162ms\tremaining: 1.31s\n",
      "110:\tlearn: 0.2976846\ttotal: 163ms\tremaining: 1.31s\n",
      "111:\tlearn: 0.2962852\ttotal: 164ms\tremaining: 1.3s\n",
      "112:\tlearn: 0.2950147\ttotal: 165ms\tremaining: 1.29s\n",
      "113:\tlearn: 0.2930219\ttotal: 166ms\tremaining: 1.29s\n",
      "114:\tlearn: 0.2919183\ttotal: 167ms\tremaining: 1.28s\n",
      "115:\tlearn: 0.2902042\ttotal: 167ms\tremaining: 1.27s\n",
      "116:\tlearn: 0.2885111\ttotal: 168ms\tremaining: 1.27s\n",
      "117:\tlearn: 0.2867215\ttotal: 169ms\tremaining: 1.26s\n",
      "118:\tlearn: 0.2855337\ttotal: 170ms\tremaining: 1.26s\n",
      "119:\tlearn: 0.2846786\ttotal: 171ms\tremaining: 1.25s\n",
      "120:\tlearn: 0.2833630\ttotal: 172ms\tremaining: 1.25s\n",
      "121:\tlearn: 0.2822431\ttotal: 172ms\tremaining: 1.24s\n",
      "122:\tlearn: 0.2809843\ttotal: 173ms\tremaining: 1.23s\n",
      "123:\tlearn: 0.2801826\ttotal: 174ms\tremaining: 1.23s\n",
      "124:\tlearn: 0.2792529\ttotal: 175ms\tremaining: 1.22s\n",
      "125:\tlearn: 0.2781497\ttotal: 175ms\tremaining: 1.22s\n",
      "126:\tlearn: 0.2768112\ttotal: 176ms\tremaining: 1.21s\n",
      "127:\tlearn: 0.2758464\ttotal: 177ms\tremaining: 1.21s\n",
      "128:\tlearn: 0.2742824\ttotal: 178ms\tremaining: 1.2s\n",
      "129:\tlearn: 0.2729616\ttotal: 179ms\tremaining: 1.2s\n",
      "130:\tlearn: 0.2720868\ttotal: 180ms\tremaining: 1.19s\n",
      "131:\tlearn: 0.2712709\ttotal: 180ms\tremaining: 1.19s\n",
      "132:\tlearn: 0.2705233\ttotal: 181ms\tremaining: 1.18s\n",
      "133:\tlearn: 0.2696836\ttotal: 182ms\tremaining: 1.18s\n",
      "134:\tlearn: 0.2686122\ttotal: 183ms\tremaining: 1.17s\n",
      "135:\tlearn: 0.2678413\ttotal: 184ms\tremaining: 1.17s\n",
      "136:\tlearn: 0.2663809\ttotal: 185ms\tremaining: 1.16s\n",
      "137:\tlearn: 0.2652845\ttotal: 185ms\tremaining: 1.16s\n",
      "138:\tlearn: 0.2641098\ttotal: 186ms\tremaining: 1.15s\n",
      "139:\tlearn: 0.2631291\ttotal: 187ms\tremaining: 1.15s\n",
      "140:\tlearn: 0.2623717\ttotal: 188ms\tremaining: 1.14s\n"
     ]
    },
    {
     "name": "stdout",
     "output_type": "stream",
     "text": [
      "141:\tlearn: 0.2618248\ttotal: 189ms\tremaining: 1.14s\n",
      "142:\tlearn: 0.2605709\ttotal: 190ms\tremaining: 1.14s\n",
      "143:\tlearn: 0.2597595\ttotal: 191ms\tremaining: 1.13s\n",
      "144:\tlearn: 0.2590687\ttotal: 191ms\tremaining: 1.13s\n",
      "145:\tlearn: 0.2580644\ttotal: 192ms\tremaining: 1.12s\n",
      "146:\tlearn: 0.2571972\ttotal: 193ms\tremaining: 1.12s\n",
      "147:\tlearn: 0.2565970\ttotal: 194ms\tremaining: 1.12s\n",
      "148:\tlearn: 0.2554036\ttotal: 195ms\tremaining: 1.11s\n",
      "149:\tlearn: 0.2547956\ttotal: 195ms\tremaining: 1.11s\n",
      "150:\tlearn: 0.2538413\ttotal: 196ms\tremaining: 1.1s\n",
      "151:\tlearn: 0.2530189\ttotal: 197ms\tremaining: 1.1s\n",
      "152:\tlearn: 0.2522966\ttotal: 198ms\tremaining: 1.1s\n",
      "153:\tlearn: 0.2515071\ttotal: 199ms\tremaining: 1.09s\n",
      "154:\tlearn: 0.2510797\ttotal: 200ms\tremaining: 1.09s\n",
      "155:\tlearn: 0.2501505\ttotal: 201ms\tremaining: 1.08s\n",
      "156:\tlearn: 0.2491695\ttotal: 201ms\tremaining: 1.08s\n",
      "157:\tlearn: 0.2482774\ttotal: 202ms\tremaining: 1.08s\n",
      "158:\tlearn: 0.2476240\ttotal: 203ms\tremaining: 1.07s\n",
      "159:\tlearn: 0.2469101\ttotal: 204ms\tremaining: 1.07s\n",
      "160:\tlearn: 0.2461752\ttotal: 205ms\tremaining: 1.07s\n",
      "161:\tlearn: 0.2453399\ttotal: 205ms\tremaining: 1.06s\n",
      "162:\tlearn: 0.2448856\ttotal: 206ms\tremaining: 1.06s\n",
      "163:\tlearn: 0.2440837\ttotal: 207ms\tremaining: 1.05s\n",
      "164:\tlearn: 0.2435258\ttotal: 208ms\tremaining: 1.05s\n",
      "165:\tlearn: 0.2430729\ttotal: 209ms\tremaining: 1.05s\n",
      "166:\tlearn: 0.2424728\ttotal: 209ms\tremaining: 1.04s\n",
      "167:\tlearn: 0.2415176\ttotal: 210ms\tremaining: 1.04s\n",
      "168:\tlearn: 0.2408826\ttotal: 211ms\tremaining: 1.04s\n",
      "169:\tlearn: 0.2402785\ttotal: 212ms\tremaining: 1.03s\n",
      "170:\tlearn: 0.2393408\ttotal: 212ms\tremaining: 1.03s\n",
      "171:\tlearn: 0.2384583\ttotal: 213ms\tremaining: 1.03s\n",
      "172:\tlearn: 0.2378064\ttotal: 214ms\tremaining: 1.02s\n",
      "173:\tlearn: 0.2370284\ttotal: 215ms\tremaining: 1.02s\n",
      "174:\tlearn: 0.2364038\ttotal: 216ms\tremaining: 1.02s\n",
      "175:\tlearn: 0.2356223\ttotal: 216ms\tremaining: 1.01s\n",
      "176:\tlearn: 0.2348351\ttotal: 217ms\tremaining: 1.01s\n",
      "177:\tlearn: 0.2341950\ttotal: 218ms\tremaining: 1.01s\n",
      "178:\tlearn: 0.2335171\ttotal: 219ms\tremaining: 1s\n",
      "179:\tlearn: 0.2326332\ttotal: 220ms\tremaining: 1000ms\n",
      "180:\tlearn: 0.2321019\ttotal: 220ms\tremaining: 997ms\n",
      "181:\tlearn: 0.2312634\ttotal: 221ms\tremaining: 993ms\n",
      "182:\tlearn: 0.2306868\ttotal: 222ms\tremaining: 991ms\n",
      "183:\tlearn: 0.2297286\ttotal: 223ms\tremaining: 987ms\n",
      "184:\tlearn: 0.2289457\ttotal: 223ms\tremaining: 984ms\n",
      "185:\tlearn: 0.2283380\ttotal: 224ms\tremaining: 982ms\n",
      "186:\tlearn: 0.2277702\ttotal: 225ms\tremaining: 978ms\n",
      "187:\tlearn: 0.2271832\ttotal: 226ms\tremaining: 975ms\n",
      "188:\tlearn: 0.2266167\ttotal: 226ms\tremaining: 972ms\n",
      "189:\tlearn: 0.2261969\ttotal: 228ms\tremaining: 972ms\n",
      "190:\tlearn: 0.2253679\ttotal: 229ms\tremaining: 969ms\n",
      "191:\tlearn: 0.2247396\ttotal: 230ms\tremaining: 966ms\n",
      "192:\tlearn: 0.2240780\ttotal: 230ms\tremaining: 963ms\n",
      "193:\tlearn: 0.2235379\ttotal: 231ms\tremaining: 960ms\n",
      "194:\tlearn: 0.2228551\ttotal: 232ms\tremaining: 957ms\n",
      "195:\tlearn: 0.2222417\ttotal: 233ms\tremaining: 954ms\n",
      "196:\tlearn: 0.2215954\ttotal: 234ms\tremaining: 952ms\n",
      "197:\tlearn: 0.2210815\ttotal: 234ms\tremaining: 949ms\n",
      "198:\tlearn: 0.2203975\ttotal: 235ms\tremaining: 946ms\n",
      "199:\tlearn: 0.2196576\ttotal: 236ms\tremaining: 943ms\n",
      "200:\tlearn: 0.2192447\ttotal: 237ms\tremaining: 941ms\n",
      "201:\tlearn: 0.2186163\ttotal: 238ms\tremaining: 939ms\n",
      "202:\tlearn: 0.2180187\ttotal: 238ms\tremaining: 936ms\n",
      "203:\tlearn: 0.2173167\ttotal: 239ms\tremaining: 934ms\n",
      "204:\tlearn: 0.2168209\ttotal: 240ms\tremaining: 931ms\n",
      "205:\tlearn: 0.2163401\ttotal: 241ms\tremaining: 929ms\n",
      "206:\tlearn: 0.2158084\ttotal: 242ms\tremaining: 926ms\n",
      "207:\tlearn: 0.2153507\ttotal: 243ms\tremaining: 924ms\n",
      "208:\tlearn: 0.2148451\ttotal: 244ms\tremaining: 922ms\n",
      "209:\tlearn: 0.2139866\ttotal: 244ms\tremaining: 920ms\n",
      "210:\tlearn: 0.2134542\ttotal: 245ms\tremaining: 917ms\n",
      "211:\tlearn: 0.2129549\ttotal: 246ms\tremaining: 915ms\n",
      "212:\tlearn: 0.2124160\ttotal: 247ms\tremaining: 912ms\n",
      "213:\tlearn: 0.2120778\ttotal: 248ms\tremaining: 910ms\n",
      "214:\tlearn: 0.2117635\ttotal: 249ms\tremaining: 908ms\n",
      "215:\tlearn: 0.2114173\ttotal: 249ms\tremaining: 905ms\n",
      "216:\tlearn: 0.2109915\ttotal: 250ms\tremaining: 903ms\n",
      "217:\tlearn: 0.2104095\ttotal: 251ms\tremaining: 901ms\n",
      "218:\tlearn: 0.2098835\ttotal: 252ms\tremaining: 898ms\n",
      "219:\tlearn: 0.2094044\ttotal: 253ms\tremaining: 896ms\n",
      "220:\tlearn: 0.2088924\ttotal: 253ms\tremaining: 894ms\n",
      "221:\tlearn: 0.2082626\ttotal: 254ms\tremaining: 891ms\n",
      "222:\tlearn: 0.2073674\ttotal: 255ms\tremaining: 889ms\n",
      "223:\tlearn: 0.2069366\ttotal: 256ms\tremaining: 886ms\n",
      "224:\tlearn: 0.2066141\ttotal: 257ms\tremaining: 884ms\n",
      "225:\tlearn: 0.2059736\ttotal: 257ms\tremaining: 881ms\n",
      "226:\tlearn: 0.2056275\ttotal: 258ms\tremaining: 880ms\n",
      "227:\tlearn: 0.2049023\ttotal: 259ms\tremaining: 877ms\n",
      "228:\tlearn: 0.2044460\ttotal: 260ms\tremaining: 875ms\n",
      "229:\tlearn: 0.2040824\ttotal: 261ms\tremaining: 872ms\n",
      "230:\tlearn: 0.2037265\ttotal: 261ms\tremaining: 870ms\n",
      "231:\tlearn: 0.2032510\ttotal: 262ms\tremaining: 867ms\n",
      "232:\tlearn: 0.2024916\ttotal: 263ms\tremaining: 865ms\n",
      "233:\tlearn: 0.2018825\ttotal: 264ms\tremaining: 863ms\n",
      "234:\tlearn: 0.2011649\ttotal: 265ms\tremaining: 861ms\n",
      "235:\tlearn: 0.2005856\ttotal: 265ms\tremaining: 859ms\n",
      "236:\tlearn: 0.2000315\ttotal: 266ms\tremaining: 857ms\n",
      "237:\tlearn: 0.1995207\ttotal: 267ms\tremaining: 855ms\n",
      "238:\tlearn: 0.1992080\ttotal: 268ms\tremaining: 853ms\n",
      "239:\tlearn: 0.1988675\ttotal: 269ms\tremaining: 851ms\n",
      "240:\tlearn: 0.1983238\ttotal: 270ms\tremaining: 849ms\n",
      "241:\tlearn: 0.1977861\ttotal: 270ms\tremaining: 847ms\n",
      "242:\tlearn: 0.1972112\ttotal: 271ms\tremaining: 845ms\n",
      "243:\tlearn: 0.1966603\ttotal: 272ms\tremaining: 843ms\n",
      "244:\tlearn: 0.1960907\ttotal: 273ms\tremaining: 841ms\n",
      "245:\tlearn: 0.1956004\ttotal: 274ms\tremaining: 838ms\n",
      "246:\tlearn: 0.1950527\ttotal: 274ms\tremaining: 836ms\n",
      "247:\tlearn: 0.1947692\ttotal: 275ms\tremaining: 834ms\n",
      "248:\tlearn: 0.1943428\ttotal: 276ms\tremaining: 832ms\n",
      "249:\tlearn: 0.1940085\ttotal: 277ms\tremaining: 830ms\n",
      "250:\tlearn: 0.1935760\ttotal: 278ms\tremaining: 829ms\n",
      "251:\tlearn: 0.1930897\ttotal: 278ms\tremaining: 826ms\n",
      "252:\tlearn: 0.1924352\ttotal: 279ms\tremaining: 825ms\n",
      "253:\tlearn: 0.1920296\ttotal: 280ms\tremaining: 823ms\n",
      "254:\tlearn: 0.1914392\ttotal: 281ms\tremaining: 821ms\n",
      "255:\tlearn: 0.1909144\ttotal: 282ms\tremaining: 818ms\n",
      "256:\tlearn: 0.1902866\ttotal: 282ms\tremaining: 817ms\n"
     ]
    },
    {
     "name": "stdout",
     "output_type": "stream",
     "text": [
      "257:\tlearn: 0.1898200\ttotal: 283ms\tremaining: 815ms\n",
      "258:\tlearn: 0.1892871\ttotal: 284ms\tremaining: 813ms\n",
      "259:\tlearn: 0.1887639\ttotal: 285ms\tremaining: 811ms\n",
      "260:\tlearn: 0.1881146\ttotal: 286ms\tremaining: 810ms\n",
      "261:\tlearn: 0.1878713\ttotal: 287ms\tremaining: 808ms\n",
      "262:\tlearn: 0.1873549\ttotal: 288ms\tremaining: 806ms\n",
      "263:\tlearn: 0.1869850\ttotal: 288ms\tremaining: 804ms\n",
      "264:\tlearn: 0.1865272\ttotal: 289ms\tremaining: 802ms\n",
      "265:\tlearn: 0.1860769\ttotal: 290ms\tremaining: 800ms\n",
      "266:\tlearn: 0.1859146\ttotal: 291ms\tremaining: 798ms\n",
      "267:\tlearn: 0.1853425\ttotal: 291ms\tremaining: 796ms\n",
      "268:\tlearn: 0.1847738\ttotal: 292ms\tremaining: 794ms\n",
      "269:\tlearn: 0.1844480\ttotal: 293ms\tremaining: 792ms\n",
      "270:\tlearn: 0.1840560\ttotal: 294ms\tremaining: 790ms\n",
      "271:\tlearn: 0.1836153\ttotal: 295ms\tremaining: 789ms\n",
      "272:\tlearn: 0.1831406\ttotal: 296ms\tremaining: 787ms\n",
      "273:\tlearn: 0.1825335\ttotal: 296ms\tremaining: 785ms\n",
      "274:\tlearn: 0.1821103\ttotal: 297ms\tremaining: 783ms\n",
      "275:\tlearn: 0.1817016\ttotal: 298ms\tremaining: 782ms\n",
      "276:\tlearn: 0.1811858\ttotal: 299ms\tremaining: 780ms\n",
      "277:\tlearn: 0.1808659\ttotal: 300ms\tremaining: 778ms\n",
      "278:\tlearn: 0.1805181\ttotal: 300ms\tremaining: 776ms\n",
      "279:\tlearn: 0.1800567\ttotal: 301ms\tremaining: 775ms\n",
      "280:\tlearn: 0.1795132\ttotal: 302ms\tremaining: 773ms\n",
      "281:\tlearn: 0.1791014\ttotal: 303ms\tremaining: 771ms\n",
      "282:\tlearn: 0.1787273\ttotal: 304ms\tremaining: 770ms\n",
      "283:\tlearn: 0.1784235\ttotal: 305ms\tremaining: 768ms\n",
      "284:\tlearn: 0.1781040\ttotal: 306ms\tremaining: 767ms\n",
      "285:\tlearn: 0.1778040\ttotal: 306ms\tremaining: 765ms\n",
      "286:\tlearn: 0.1774366\ttotal: 307ms\tremaining: 763ms\n",
      "287:\tlearn: 0.1768459\ttotal: 308ms\tremaining: 761ms\n",
      "288:\tlearn: 0.1764789\ttotal: 309ms\tremaining: 760ms\n",
      "289:\tlearn: 0.1762344\ttotal: 310ms\tremaining: 758ms\n",
      "290:\tlearn: 0.1756627\ttotal: 311ms\tremaining: 757ms\n",
      "291:\tlearn: 0.1751604\ttotal: 312ms\tremaining: 755ms\n",
      "292:\tlearn: 0.1747583\ttotal: 312ms\tremaining: 754ms\n",
      "293:\tlearn: 0.1744030\ttotal: 313ms\tremaining: 753ms\n",
      "294:\tlearn: 0.1740206\ttotal: 314ms\tremaining: 751ms\n",
      "295:\tlearn: 0.1737103\ttotal: 315ms\tremaining: 750ms\n",
      "296:\tlearn: 0.1735213\ttotal: 316ms\tremaining: 748ms\n",
      "297:\tlearn: 0.1732440\ttotal: 317ms\tremaining: 747ms\n",
      "298:\tlearn: 0.1728982\ttotal: 318ms\tremaining: 745ms\n",
      "299:\tlearn: 0.1725911\ttotal: 318ms\tremaining: 743ms\n",
      "300:\tlearn: 0.1723876\ttotal: 319ms\tremaining: 741ms\n",
      "301:\tlearn: 0.1720749\ttotal: 320ms\tremaining: 740ms\n",
      "302:\tlearn: 0.1718230\ttotal: 321ms\tremaining: 738ms\n",
      "303:\tlearn: 0.1712667\ttotal: 322ms\tremaining: 736ms\n",
      "304:\tlearn: 0.1709782\ttotal: 323ms\tremaining: 737ms\n",
      "305:\tlearn: 0.1705916\ttotal: 324ms\tremaining: 735ms\n",
      "306:\tlearn: 0.1701622\ttotal: 325ms\tremaining: 733ms\n",
      "307:\tlearn: 0.1698361\ttotal: 326ms\tremaining: 731ms\n",
      "308:\tlearn: 0.1694589\ttotal: 326ms\tremaining: 730ms\n",
      "309:\tlearn: 0.1692337\ttotal: 327ms\tremaining: 728ms\n",
      "310:\tlearn: 0.1689256\ttotal: 328ms\tremaining: 726ms\n",
      "311:\tlearn: 0.1685920\ttotal: 329ms\tremaining: 725ms\n",
      "312:\tlearn: 0.1682604\ttotal: 329ms\tremaining: 723ms\n",
      "313:\tlearn: 0.1679800\ttotal: 330ms\tremaining: 722ms\n",
      "314:\tlearn: 0.1676975\ttotal: 331ms\tremaining: 720ms\n",
      "315:\tlearn: 0.1672402\ttotal: 332ms\tremaining: 719ms\n",
      "316:\tlearn: 0.1667876\ttotal: 333ms\tremaining: 717ms\n",
      "317:\tlearn: 0.1663935\ttotal: 333ms\tremaining: 715ms\n",
      "318:\tlearn: 0.1662192\ttotal: 334ms\tremaining: 714ms\n",
      "319:\tlearn: 0.1659105\ttotal: 335ms\tremaining: 712ms\n",
      "320:\tlearn: 0.1656108\ttotal: 336ms\tremaining: 711ms\n",
      "321:\tlearn: 0.1652087\ttotal: 337ms\tremaining: 709ms\n",
      "322:\tlearn: 0.1650080\ttotal: 338ms\tremaining: 708ms\n",
      "323:\tlearn: 0.1647024\ttotal: 339ms\tremaining: 708ms\n",
      "324:\tlearn: 0.1644002\ttotal: 340ms\tremaining: 707ms\n",
      "325:\tlearn: 0.1641274\ttotal: 341ms\tremaining: 705ms\n",
      "326:\tlearn: 0.1637657\ttotal: 342ms\tremaining: 704ms\n",
      "327:\tlearn: 0.1633210\ttotal: 343ms\tremaining: 702ms\n",
      "328:\tlearn: 0.1629200\ttotal: 344ms\tremaining: 701ms\n",
      "329:\tlearn: 0.1627435\ttotal: 344ms\tremaining: 699ms\n",
      "330:\tlearn: 0.1624768\ttotal: 345ms\tremaining: 698ms\n",
      "331:\tlearn: 0.1621419\ttotal: 346ms\tremaining: 696ms\n",
      "332:\tlearn: 0.1619543\ttotal: 347ms\tremaining: 695ms\n",
      "333:\tlearn: 0.1616810\ttotal: 348ms\tremaining: 693ms\n",
      "334:\tlearn: 0.1612956\ttotal: 349ms\tremaining: 692ms\n",
      "335:\tlearn: 0.1609926\ttotal: 350ms\tremaining: 691ms\n",
      "336:\tlearn: 0.1606362\ttotal: 350ms\tremaining: 689ms\n",
      "337:\tlearn: 0.1604065\ttotal: 351ms\tremaining: 688ms\n",
      "338:\tlearn: 0.1599960\ttotal: 352ms\tremaining: 686ms\n",
      "339:\tlearn: 0.1597134\ttotal: 353ms\tremaining: 685ms\n",
      "340:\tlearn: 0.1595637\ttotal: 354ms\tremaining: 683ms\n",
      "341:\tlearn: 0.1592741\ttotal: 355ms\tremaining: 682ms\n",
      "342:\tlearn: 0.1589397\ttotal: 355ms\tremaining: 681ms\n",
      "343:\tlearn: 0.1586950\ttotal: 356ms\tremaining: 679ms\n",
      "344:\tlearn: 0.1583208\ttotal: 357ms\tremaining: 678ms\n",
      "345:\tlearn: 0.1579426\ttotal: 358ms\tremaining: 676ms\n",
      "346:\tlearn: 0.1575299\ttotal: 359ms\tremaining: 675ms\n",
      "347:\tlearn: 0.1571590\ttotal: 360ms\tremaining: 674ms\n",
      "348:\tlearn: 0.1567644\ttotal: 360ms\tremaining: 672ms\n",
      "349:\tlearn: 0.1564583\ttotal: 361ms\tremaining: 671ms\n",
      "350:\tlearn: 0.1562924\ttotal: 362ms\tremaining: 669ms\n",
      "351:\tlearn: 0.1561631\ttotal: 363ms\tremaining: 668ms\n",
      "352:\tlearn: 0.1557857\ttotal: 364ms\tremaining: 667ms\n",
      "353:\tlearn: 0.1555649\ttotal: 365ms\tremaining: 665ms\n",
      "354:\tlearn: 0.1552312\ttotal: 366ms\tremaining: 664ms\n",
      "355:\tlearn: 0.1548415\ttotal: 367ms\tremaining: 663ms\n",
      "356:\tlearn: 0.1545665\ttotal: 367ms\tremaining: 662ms\n",
      "357:\tlearn: 0.1543274\ttotal: 368ms\tremaining: 660ms\n",
      "358:\tlearn: 0.1540458\ttotal: 369ms\tremaining: 659ms\n",
      "359:\tlearn: 0.1537800\ttotal: 370ms\tremaining: 658ms\n",
      "360:\tlearn: 0.1534785\ttotal: 371ms\tremaining: 656ms\n",
      "361:\tlearn: 0.1531812\ttotal: 372ms\tremaining: 655ms\n",
      "362:\tlearn: 0.1529510\ttotal: 372ms\tremaining: 653ms\n",
      "363:\tlearn: 0.1526436\ttotal: 373ms\tremaining: 652ms\n",
      "364:\tlearn: 0.1523974\ttotal: 374ms\tremaining: 650ms\n",
      "365:\tlearn: 0.1519758\ttotal: 375ms\tremaining: 649ms\n",
      "366:\tlearn: 0.1517254\ttotal: 376ms\tremaining: 648ms\n",
      "367:\tlearn: 0.1514611\ttotal: 376ms\tremaining: 646ms\n",
      "368:\tlearn: 0.1511456\ttotal: 377ms\tremaining: 645ms\n",
      "369:\tlearn: 0.1506829\ttotal: 378ms\tremaining: 643ms\n"
     ]
    },
    {
     "name": "stdout",
     "output_type": "stream",
     "text": [
      "370:\tlearn: 0.1504610\ttotal: 379ms\tremaining: 642ms\n",
      "371:\tlearn: 0.1501786\ttotal: 380ms\tremaining: 641ms\n",
      "372:\tlearn: 0.1499552\ttotal: 381ms\tremaining: 640ms\n",
      "373:\tlearn: 0.1496959\ttotal: 382ms\tremaining: 639ms\n",
      "374:\tlearn: 0.1494797\ttotal: 383ms\tremaining: 638ms\n",
      "375:\tlearn: 0.1493013\ttotal: 383ms\tremaining: 636ms\n",
      "376:\tlearn: 0.1490805\ttotal: 384ms\tremaining: 635ms\n",
      "377:\tlearn: 0.1488867\ttotal: 385ms\tremaining: 634ms\n",
      "378:\tlearn: 0.1484950\ttotal: 386ms\tremaining: 632ms\n",
      "379:\tlearn: 0.1480980\ttotal: 387ms\tremaining: 631ms\n",
      "380:\tlearn: 0.1478259\ttotal: 388ms\tremaining: 630ms\n",
      "381:\tlearn: 0.1475625\ttotal: 388ms\tremaining: 628ms\n",
      "382:\tlearn: 0.1473682\ttotal: 389ms\tremaining: 627ms\n",
      "383:\tlearn: 0.1471382\ttotal: 390ms\tremaining: 626ms\n",
      "384:\tlearn: 0.1469471\ttotal: 391ms\tremaining: 624ms\n",
      "385:\tlearn: 0.1466096\ttotal: 392ms\tremaining: 623ms\n",
      "386:\tlearn: 0.1463898\ttotal: 392ms\tremaining: 622ms\n",
      "387:\tlearn: 0.1460073\ttotal: 393ms\tremaining: 620ms\n",
      "388:\tlearn: 0.1457344\ttotal: 394ms\tremaining: 619ms\n",
      "389:\tlearn: 0.1455022\ttotal: 395ms\tremaining: 618ms\n",
      "390:\tlearn: 0.1452059\ttotal: 396ms\tremaining: 617ms\n",
      "391:\tlearn: 0.1448781\ttotal: 397ms\tremaining: 615ms\n",
      "392:\tlearn: 0.1446621\ttotal: 397ms\tremaining: 614ms\n",
      "393:\tlearn: 0.1444514\ttotal: 398ms\tremaining: 613ms\n",
      "394:\tlearn: 0.1441104\ttotal: 399ms\tremaining: 611ms\n",
      "395:\tlearn: 0.1438568\ttotal: 400ms\tremaining: 610ms\n",
      "396:\tlearn: 0.1435701\ttotal: 401ms\tremaining: 609ms\n",
      "397:\tlearn: 0.1433502\ttotal: 401ms\tremaining: 607ms\n",
      "398:\tlearn: 0.1429674\ttotal: 402ms\tremaining: 606ms\n",
      "399:\tlearn: 0.1427206\ttotal: 403ms\tremaining: 605ms\n",
      "400:\tlearn: 0.1424137\ttotal: 404ms\tremaining: 603ms\n",
      "401:\tlearn: 0.1422422\ttotal: 405ms\tremaining: 602ms\n",
      "402:\tlearn: 0.1420756\ttotal: 406ms\tremaining: 601ms\n",
      "403:\tlearn: 0.1418849\ttotal: 406ms\tremaining: 600ms\n",
      "404:\tlearn: 0.1416950\ttotal: 407ms\tremaining: 598ms\n",
      "405:\tlearn: 0.1415247\ttotal: 408ms\tremaining: 597ms\n",
      "406:\tlearn: 0.1413208\ttotal: 409ms\tremaining: 596ms\n",
      "407:\tlearn: 0.1411922\ttotal: 410ms\tremaining: 595ms\n",
      "408:\tlearn: 0.1409149\ttotal: 411ms\tremaining: 593ms\n",
      "409:\tlearn: 0.1407434\ttotal: 412ms\tremaining: 592ms\n",
      "410:\tlearn: 0.1405069\ttotal: 412ms\tremaining: 591ms\n",
      "411:\tlearn: 0.1402822\ttotal: 413ms\tremaining: 590ms\n",
      "412:\tlearn: 0.1401061\ttotal: 414ms\tremaining: 589ms\n",
      "413:\tlearn: 0.1398369\ttotal: 415ms\tremaining: 587ms\n",
      "414:\tlearn: 0.1397302\ttotal: 416ms\tremaining: 586ms\n",
      "415:\tlearn: 0.1395386\ttotal: 416ms\tremaining: 585ms\n",
      "416:\tlearn: 0.1393322\ttotal: 417ms\tremaining: 583ms\n",
      "417:\tlearn: 0.1391387\ttotal: 418ms\tremaining: 582ms\n",
      "418:\tlearn: 0.1389853\ttotal: 419ms\tremaining: 581ms\n",
      "419:\tlearn: 0.1388791\ttotal: 420ms\tremaining: 579ms\n",
      "420:\tlearn: 0.1387023\ttotal: 420ms\tremaining: 578ms\n",
      "421:\tlearn: 0.1385361\ttotal: 421ms\tremaining: 577ms\n",
      "422:\tlearn: 0.1381452\ttotal: 423ms\tremaining: 577ms\n",
      "423:\tlearn: 0.1377418\ttotal: 424ms\tremaining: 576ms\n",
      "424:\tlearn: 0.1375653\ttotal: 425ms\tremaining: 575ms\n",
      "425:\tlearn: 0.1372406\ttotal: 425ms\tremaining: 573ms\n",
      "426:\tlearn: 0.1370574\ttotal: 426ms\tremaining: 572ms\n",
      "427:\tlearn: 0.1368302\ttotal: 427ms\tremaining: 571ms\n",
      "428:\tlearn: 0.1364123\ttotal: 428ms\tremaining: 569ms\n",
      "429:\tlearn: 0.1360655\ttotal: 429ms\tremaining: 568ms\n",
      "430:\tlearn: 0.1357552\ttotal: 430ms\tremaining: 567ms\n",
      "431:\tlearn: 0.1354199\ttotal: 430ms\tremaining: 566ms\n",
      "432:\tlearn: 0.1351348\ttotal: 431ms\tremaining: 565ms\n",
      "433:\tlearn: 0.1349590\ttotal: 432ms\tremaining: 563ms\n",
      "434:\tlearn: 0.1346052\ttotal: 433ms\tremaining: 562ms\n",
      "435:\tlearn: 0.1345166\ttotal: 434ms\tremaining: 561ms\n",
      "436:\tlearn: 0.1341759\ttotal: 434ms\tremaining: 560ms\n",
      "437:\tlearn: 0.1340509\ttotal: 435ms\tremaining: 558ms\n",
      "438:\tlearn: 0.1339003\ttotal: 436ms\tremaining: 557ms\n",
      "439:\tlearn: 0.1335865\ttotal: 437ms\tremaining: 556ms\n",
      "440:\tlearn: 0.1332605\ttotal: 438ms\tremaining: 555ms\n",
      "441:\tlearn: 0.1329766\ttotal: 439ms\tremaining: 554ms\n",
      "442:\tlearn: 0.1327570\ttotal: 439ms\tremaining: 553ms\n",
      "443:\tlearn: 0.1324326\ttotal: 440ms\tremaining: 551ms\n",
      "444:\tlearn: 0.1322925\ttotal: 441ms\tremaining: 550ms\n",
      "445:\tlearn: 0.1320556\ttotal: 442ms\tremaining: 549ms\n",
      "446:\tlearn: 0.1319139\ttotal: 443ms\tremaining: 548ms\n",
      "447:\tlearn: 0.1316498\ttotal: 443ms\tremaining: 546ms\n",
      "448:\tlearn: 0.1314533\ttotal: 444ms\tremaining: 545ms\n",
      "449:\tlearn: 0.1311189\ttotal: 445ms\tremaining: 544ms\n",
      "450:\tlearn: 0.1308137\ttotal: 446ms\tremaining: 543ms\n",
      "451:\tlearn: 0.1306475\ttotal: 447ms\tremaining: 541ms\n",
      "452:\tlearn: 0.1302954\ttotal: 447ms\tremaining: 540ms\n",
      "453:\tlearn: 0.1299871\ttotal: 448ms\tremaining: 539ms\n",
      "454:\tlearn: 0.1298718\ttotal: 449ms\tremaining: 538ms\n",
      "455:\tlearn: 0.1297524\ttotal: 450ms\tremaining: 536ms\n",
      "456:\tlearn: 0.1296661\ttotal: 450ms\tremaining: 535ms\n",
      "457:\tlearn: 0.1294658\ttotal: 451ms\tremaining: 534ms\n",
      "458:\tlearn: 0.1293218\ttotal: 452ms\tremaining: 533ms\n",
      "459:\tlearn: 0.1290336\ttotal: 453ms\tremaining: 532ms\n",
      "460:\tlearn: 0.1287830\ttotal: 454ms\tremaining: 531ms\n",
      "461:\tlearn: 0.1286262\ttotal: 455ms\tremaining: 529ms\n",
      "462:\tlearn: 0.1283071\ttotal: 455ms\tremaining: 528ms\n",
      "463:\tlearn: 0.1281016\ttotal: 456ms\tremaining: 527ms\n",
      "464:\tlearn: 0.1279336\ttotal: 457ms\tremaining: 526ms\n",
      "465:\tlearn: 0.1276372\ttotal: 458ms\tremaining: 525ms\n",
      "466:\tlearn: 0.1275557\ttotal: 459ms\tremaining: 524ms\n",
      "467:\tlearn: 0.1273590\ttotal: 460ms\tremaining: 523ms\n",
      "468:\tlearn: 0.1272433\ttotal: 461ms\tremaining: 522ms\n",
      "469:\tlearn: 0.1271923\ttotal: 461ms\tremaining: 520ms\n",
      "470:\tlearn: 0.1268823\ttotal: 462ms\tremaining: 519ms\n",
      "471:\tlearn: 0.1266711\ttotal: 463ms\tremaining: 518ms\n",
      "472:\tlearn: 0.1263720\ttotal: 464ms\tremaining: 517ms\n",
      "473:\tlearn: 0.1261814\ttotal: 465ms\tremaining: 516ms\n",
      "474:\tlearn: 0.1259335\ttotal: 465ms\tremaining: 514ms\n",
      "475:\tlearn: 0.1257770\ttotal: 466ms\tremaining: 513ms\n",
      "476:\tlearn: 0.1256206\ttotal: 468ms\tremaining: 513ms\n",
      "477:\tlearn: 0.1254497\ttotal: 469ms\tremaining: 512ms\n",
      "478:\tlearn: 0.1252313\ttotal: 469ms\tremaining: 511ms\n",
      "479:\tlearn: 0.1248734\ttotal: 470ms\tremaining: 509ms\n",
      "480:\tlearn: 0.1247772\ttotal: 472ms\tremaining: 509ms\n",
      "481:\tlearn: 0.1247121\ttotal: 473ms\tremaining: 508ms\n"
     ]
    },
    {
     "name": "stdout",
     "output_type": "stream",
     "text": [
      "482:\tlearn: 0.1244263\ttotal: 474ms\tremaining: 507ms\n",
      "483:\tlearn: 0.1242851\ttotal: 475ms\tremaining: 506ms\n",
      "484:\tlearn: 0.1240234\ttotal: 475ms\tremaining: 505ms\n",
      "485:\tlearn: 0.1239285\ttotal: 476ms\tremaining: 504ms\n",
      "486:\tlearn: 0.1237765\ttotal: 477ms\tremaining: 503ms\n",
      "487:\tlearn: 0.1235793\ttotal: 478ms\tremaining: 501ms\n",
      "488:\tlearn: 0.1235066\ttotal: 479ms\tremaining: 500ms\n",
      "489:\tlearn: 0.1232031\ttotal: 480ms\tremaining: 499ms\n",
      "490:\tlearn: 0.1230156\ttotal: 480ms\tremaining: 498ms\n",
      "491:\tlearn: 0.1227113\ttotal: 481ms\tremaining: 497ms\n",
      "492:\tlearn: 0.1224861\ttotal: 482ms\tremaining: 495ms\n",
      "493:\tlearn: 0.1223545\ttotal: 482ms\tremaining: 494ms\n",
      "494:\tlearn: 0.1220770\ttotal: 483ms\tremaining: 493ms\n",
      "495:\tlearn: 0.1218328\ttotal: 484ms\tremaining: 492ms\n",
      "496:\tlearn: 0.1216913\ttotal: 485ms\tremaining: 491ms\n",
      "497:\tlearn: 0.1214980\ttotal: 486ms\tremaining: 490ms\n",
      "498:\tlearn: 0.1212599\ttotal: 486ms\tremaining: 488ms\n",
      "499:\tlearn: 0.1210644\ttotal: 487ms\tremaining: 487ms\n",
      "500:\tlearn: 0.1208376\ttotal: 488ms\tremaining: 486ms\n",
      "501:\tlearn: 0.1205666\ttotal: 489ms\tremaining: 485ms\n",
      "502:\tlearn: 0.1203547\ttotal: 490ms\tremaining: 484ms\n",
      "503:\tlearn: 0.1202387\ttotal: 490ms\tremaining: 483ms\n",
      "504:\tlearn: 0.1200456\ttotal: 491ms\tremaining: 482ms\n",
      "505:\tlearn: 0.1198539\ttotal: 492ms\tremaining: 481ms\n",
      "506:\tlearn: 0.1196989\ttotal: 493ms\tremaining: 479ms\n",
      "507:\tlearn: 0.1194696\ttotal: 494ms\tremaining: 478ms\n",
      "508:\tlearn: 0.1193867\ttotal: 495ms\tremaining: 477ms\n",
      "509:\tlearn: 0.1191816\ttotal: 496ms\tremaining: 476ms\n",
      "510:\tlearn: 0.1190775\ttotal: 496ms\tremaining: 475ms\n",
      "511:\tlearn: 0.1189418\ttotal: 497ms\tremaining: 474ms\n",
      "512:\tlearn: 0.1186748\ttotal: 498ms\tremaining: 473ms\n",
      "513:\tlearn: 0.1183821\ttotal: 499ms\tremaining: 472ms\n",
      "514:\tlearn: 0.1181087\ttotal: 500ms\tremaining: 471ms\n",
      "515:\tlearn: 0.1179559\ttotal: 501ms\tremaining: 469ms\n",
      "516:\tlearn: 0.1176908\ttotal: 501ms\tremaining: 468ms\n",
      "517:\tlearn: 0.1174362\ttotal: 502ms\tremaining: 467ms\n",
      "518:\tlearn: 0.1172459\ttotal: 503ms\tremaining: 466ms\n",
      "519:\tlearn: 0.1170537\ttotal: 504ms\tremaining: 465ms\n",
      "520:\tlearn: 0.1167969\ttotal: 505ms\tremaining: 464ms\n",
      "521:\tlearn: 0.1166250\ttotal: 505ms\tremaining: 463ms\n",
      "522:\tlearn: 0.1164926\ttotal: 506ms\tremaining: 462ms\n",
      "523:\tlearn: 0.1162135\ttotal: 507ms\tremaining: 461ms\n",
      "524:\tlearn: 0.1160365\ttotal: 508ms\tremaining: 460ms\n",
      "525:\tlearn: 0.1158193\ttotal: 509ms\tremaining: 458ms\n",
      "526:\tlearn: 0.1156185\ttotal: 509ms\tremaining: 457ms\n",
      "527:\tlearn: 0.1154406\ttotal: 510ms\tremaining: 456ms\n",
      "528:\tlearn: 0.1151809\ttotal: 511ms\tremaining: 455ms\n",
      "529:\tlearn: 0.1151272\ttotal: 513ms\tremaining: 455ms\n",
      "530:\tlearn: 0.1149180\ttotal: 514ms\tremaining: 454ms\n",
      "531:\tlearn: 0.1147075\ttotal: 514ms\tremaining: 453ms\n",
      "532:\tlearn: 0.1145237\ttotal: 515ms\tremaining: 451ms\n",
      "533:\tlearn: 0.1144680\ttotal: 516ms\tremaining: 450ms\n",
      "534:\tlearn: 0.1142690\ttotal: 517ms\tremaining: 449ms\n",
      "535:\tlearn: 0.1141721\ttotal: 518ms\tremaining: 448ms\n",
      "536:\tlearn: 0.1139316\ttotal: 519ms\tremaining: 447ms\n",
      "537:\tlearn: 0.1137090\ttotal: 520ms\tremaining: 446ms\n",
      "538:\tlearn: 0.1135477\ttotal: 520ms\tremaining: 445ms\n",
      "539:\tlearn: 0.1134503\ttotal: 522ms\tremaining: 445ms\n",
      "540:\tlearn: 0.1132632\ttotal: 523ms\tremaining: 444ms\n",
      "541:\tlearn: 0.1130780\ttotal: 524ms\tremaining: 442ms\n",
      "542:\tlearn: 0.1129894\ttotal: 524ms\tremaining: 441ms\n",
      "543:\tlearn: 0.1128174\ttotal: 525ms\tremaining: 440ms\n",
      "544:\tlearn: 0.1126523\ttotal: 526ms\tremaining: 439ms\n",
      "545:\tlearn: 0.1124964\ttotal: 527ms\tremaining: 438ms\n",
      "546:\tlearn: 0.1122810\ttotal: 528ms\tremaining: 437ms\n",
      "547:\tlearn: 0.1121859\ttotal: 529ms\tremaining: 436ms\n",
      "548:\tlearn: 0.1120405\ttotal: 529ms\tremaining: 435ms\n",
      "549:\tlearn: 0.1117918\ttotal: 530ms\tremaining: 434ms\n",
      "550:\tlearn: 0.1116459\ttotal: 531ms\tremaining: 433ms\n",
      "551:\tlearn: 0.1114290\ttotal: 532ms\tremaining: 432ms\n",
      "552:\tlearn: 0.1111752\ttotal: 533ms\tremaining: 431ms\n",
      "553:\tlearn: 0.1109585\ttotal: 533ms\tremaining: 429ms\n",
      "554:\tlearn: 0.1109054\ttotal: 534ms\tremaining: 428ms\n",
      "555:\tlearn: 0.1108434\ttotal: 535ms\tremaining: 427ms\n",
      "556:\tlearn: 0.1106778\ttotal: 536ms\tremaining: 426ms\n",
      "557:\tlearn: 0.1104841\ttotal: 537ms\tremaining: 425ms\n",
      "558:\tlearn: 0.1102076\ttotal: 538ms\tremaining: 424ms\n",
      "559:\tlearn: 0.1101388\ttotal: 539ms\tremaining: 423ms\n",
      "560:\tlearn: 0.1099635\ttotal: 540ms\tremaining: 422ms\n",
      "561:\tlearn: 0.1097994\ttotal: 541ms\tremaining: 422ms\n",
      "562:\tlearn: 0.1096724\ttotal: 542ms\tremaining: 421ms\n",
      "563:\tlearn: 0.1093883\ttotal: 543ms\tremaining: 419ms\n",
      "564:\tlearn: 0.1092620\ttotal: 543ms\tremaining: 418ms\n",
      "565:\tlearn: 0.1090863\ttotal: 544ms\tremaining: 417ms\n",
      "566:\tlearn: 0.1088854\ttotal: 545ms\tremaining: 416ms\n",
      "567:\tlearn: 0.1086589\ttotal: 546ms\tremaining: 415ms\n",
      "568:\tlearn: 0.1084658\ttotal: 546ms\tremaining: 414ms\n",
      "569:\tlearn: 0.1083120\ttotal: 547ms\tremaining: 413ms\n",
      "570:\tlearn: 0.1081672\ttotal: 548ms\tremaining: 412ms\n",
      "571:\tlearn: 0.1079243\ttotal: 549ms\tremaining: 411ms\n",
      "572:\tlearn: 0.1078280\ttotal: 550ms\tremaining: 410ms\n",
      "573:\tlearn: 0.1076475\ttotal: 551ms\tremaining: 409ms\n",
      "574:\tlearn: 0.1074706\ttotal: 552ms\tremaining: 408ms\n",
      "575:\tlearn: 0.1071708\ttotal: 552ms\tremaining: 407ms\n",
      "576:\tlearn: 0.1070335\ttotal: 553ms\tremaining: 406ms\n",
      "577:\tlearn: 0.1069048\ttotal: 554ms\tremaining: 404ms\n",
      "578:\tlearn: 0.1067058\ttotal: 555ms\tremaining: 403ms\n",
      "579:\tlearn: 0.1064594\ttotal: 556ms\tremaining: 402ms\n",
      "580:\tlearn: 0.1061316\ttotal: 556ms\tremaining: 401ms\n",
      "581:\tlearn: 0.1059861\ttotal: 557ms\tremaining: 400ms\n",
      "582:\tlearn: 0.1057563\ttotal: 558ms\tremaining: 399ms\n",
      "583:\tlearn: 0.1055577\ttotal: 559ms\tremaining: 398ms\n",
      "584:\tlearn: 0.1053815\ttotal: 560ms\tremaining: 397ms\n",
      "585:\tlearn: 0.1051719\ttotal: 561ms\tremaining: 396ms\n",
      "586:\tlearn: 0.1049759\ttotal: 561ms\tremaining: 395ms\n",
      "587:\tlearn: 0.1047821\ttotal: 562ms\tremaining: 394ms\n",
      "588:\tlearn: 0.1045131\ttotal: 563ms\tremaining: 393ms\n",
      "589:\tlearn: 0.1043800\ttotal: 564ms\tremaining: 392ms\n",
      "590:\tlearn: 0.1042058\ttotal: 564ms\tremaining: 391ms\n",
      "591:\tlearn: 0.1041399\ttotal: 565ms\tremaining: 390ms\n",
      "592:\tlearn: 0.1039816\ttotal: 566ms\tremaining: 388ms\n",
      "593:\tlearn: 0.1038603\ttotal: 567ms\tremaining: 387ms\n",
      "594:\tlearn: 0.1035775\ttotal: 568ms\tremaining: 386ms\n",
      "595:\tlearn: 0.1033831\ttotal: 568ms\tremaining: 385ms\n"
     ]
    },
    {
     "name": "stdout",
     "output_type": "stream",
     "text": [
      "596:\tlearn: 0.1032742\ttotal: 569ms\tremaining: 384ms\n",
      "597:\tlearn: 0.1031069\ttotal: 570ms\tremaining: 383ms\n",
      "598:\tlearn: 0.1029042\ttotal: 571ms\tremaining: 382ms\n",
      "599:\tlearn: 0.1028616\ttotal: 572ms\tremaining: 381ms\n",
      "600:\tlearn: 0.1025724\ttotal: 573ms\tremaining: 380ms\n",
      "601:\tlearn: 0.1024718\ttotal: 573ms\tremaining: 379ms\n",
      "602:\tlearn: 0.1023008\ttotal: 574ms\tremaining: 378ms\n",
      "603:\tlearn: 0.1022771\ttotal: 575ms\tremaining: 377ms\n",
      "604:\tlearn: 0.1021232\ttotal: 576ms\tremaining: 376ms\n",
      "605:\tlearn: 0.1021010\ttotal: 577ms\tremaining: 375ms\n",
      "606:\tlearn: 0.1019822\ttotal: 578ms\tremaining: 374ms\n",
      "607:\tlearn: 0.1018393\ttotal: 578ms\tremaining: 373ms\n",
      "608:\tlearn: 0.1017094\ttotal: 579ms\tremaining: 372ms\n",
      "609:\tlearn: 0.1015110\ttotal: 580ms\tremaining: 371ms\n",
      "610:\tlearn: 0.1014842\ttotal: 581ms\tremaining: 370ms\n",
      "611:\tlearn: 0.1013786\ttotal: 582ms\tremaining: 369ms\n",
      "612:\tlearn: 0.1011960\ttotal: 582ms\tremaining: 368ms\n",
      "613:\tlearn: 0.1010394\ttotal: 583ms\tremaining: 367ms\n",
      "614:\tlearn: 0.1008481\ttotal: 584ms\tremaining: 366ms\n",
      "615:\tlearn: 0.1007500\ttotal: 585ms\tremaining: 365ms\n",
      "616:\tlearn: 0.1006072\ttotal: 586ms\tremaining: 364ms\n",
      "617:\tlearn: 0.1003402\ttotal: 587ms\tremaining: 363ms\n",
      "618:\tlearn: 0.1001731\ttotal: 587ms\tremaining: 362ms\n",
      "619:\tlearn: 0.1001354\ttotal: 588ms\tremaining: 361ms\n",
      "620:\tlearn: 0.0999974\ttotal: 589ms\tremaining: 360ms\n",
      "621:\tlearn: 0.0997689\ttotal: 590ms\tremaining: 359ms\n",
      "622:\tlearn: 0.0996819\ttotal: 591ms\tremaining: 357ms\n",
      "623:\tlearn: 0.0995391\ttotal: 591ms\tremaining: 356ms\n",
      "624:\tlearn: 0.0993639\ttotal: 592ms\tremaining: 355ms\n",
      "625:\tlearn: 0.0993482\ttotal: 593ms\tremaining: 354ms\n",
      "626:\tlearn: 0.0992865\ttotal: 594ms\tremaining: 353ms\n",
      "627:\tlearn: 0.0991096\ttotal: 595ms\tremaining: 352ms\n",
      "628:\tlearn: 0.0990763\ttotal: 596ms\tremaining: 351ms\n",
      "629:\tlearn: 0.0989019\ttotal: 596ms\tremaining: 350ms\n",
      "630:\tlearn: 0.0986678\ttotal: 597ms\tremaining: 349ms\n",
      "631:\tlearn: 0.0984425\ttotal: 598ms\tremaining: 348ms\n",
      "632:\tlearn: 0.0983115\ttotal: 599ms\tremaining: 347ms\n",
      "633:\tlearn: 0.0981601\ttotal: 600ms\tremaining: 346ms\n",
      "634:\tlearn: 0.0979315\ttotal: 601ms\tremaining: 345ms\n",
      "635:\tlearn: 0.0977717\ttotal: 601ms\tremaining: 344ms\n",
      "636:\tlearn: 0.0977161\ttotal: 602ms\tremaining: 343ms\n",
      "637:\tlearn: 0.0976258\ttotal: 603ms\tremaining: 342ms\n",
      "638:\tlearn: 0.0975037\ttotal: 604ms\tremaining: 341ms\n",
      "639:\tlearn: 0.0973247\ttotal: 605ms\tremaining: 340ms\n",
      "640:\tlearn: 0.0971158\ttotal: 606ms\tremaining: 339ms\n",
      "641:\tlearn: 0.0969454\ttotal: 606ms\tremaining: 338ms\n",
      "642:\tlearn: 0.0969011\ttotal: 607ms\tremaining: 337ms\n",
      "643:\tlearn: 0.0967332\ttotal: 608ms\tremaining: 336ms\n",
      "644:\tlearn: 0.0965629\ttotal: 609ms\tremaining: 335ms\n",
      "645:\tlearn: 0.0964162\ttotal: 610ms\tremaining: 334ms\n",
      "646:\tlearn: 0.0962738\ttotal: 611ms\tremaining: 333ms\n",
      "647:\tlearn: 0.0961648\ttotal: 611ms\tremaining: 332ms\n",
      "648:\tlearn: 0.0960093\ttotal: 612ms\tremaining: 331ms\n",
      "649:\tlearn: 0.0958792\ttotal: 613ms\tremaining: 330ms\n",
      "650:\tlearn: 0.0956421\ttotal: 614ms\tremaining: 329ms\n",
      "651:\tlearn: 0.0955102\ttotal: 615ms\tremaining: 328ms\n",
      "652:\tlearn: 0.0952934\ttotal: 616ms\tremaining: 327ms\n",
      "653:\tlearn: 0.0950884\ttotal: 616ms\tremaining: 326ms\n",
      "654:\tlearn: 0.0948961\ttotal: 617ms\tremaining: 325ms\n",
      "655:\tlearn: 0.0948212\ttotal: 618ms\tremaining: 324ms\n",
      "656:\tlearn: 0.0946213\ttotal: 619ms\tremaining: 323ms\n",
      "657:\tlearn: 0.0945792\ttotal: 619ms\tremaining: 322ms\n",
      "658:\tlearn: 0.0945011\ttotal: 620ms\tremaining: 321ms\n",
      "659:\tlearn: 0.0944746\ttotal: 621ms\tremaining: 320ms\n",
      "660:\tlearn: 0.0943912\ttotal: 622ms\tremaining: 319ms\n",
      "661:\tlearn: 0.0942196\ttotal: 623ms\tremaining: 318ms\n",
      "662:\tlearn: 0.0940929\ttotal: 623ms\tremaining: 317ms\n",
      "663:\tlearn: 0.0938872\ttotal: 624ms\tremaining: 316ms\n",
      "664:\tlearn: 0.0937179\ttotal: 625ms\tremaining: 315ms\n",
      "665:\tlearn: 0.0936129\ttotal: 626ms\tremaining: 314ms\n",
      "666:\tlearn: 0.0934313\ttotal: 627ms\tremaining: 313ms\n",
      "667:\tlearn: 0.0932766\ttotal: 628ms\tremaining: 312ms\n",
      "668:\tlearn: 0.0931574\ttotal: 628ms\tremaining: 311ms\n",
      "669:\tlearn: 0.0929552\ttotal: 629ms\tremaining: 310ms\n",
      "670:\tlearn: 0.0929188\ttotal: 630ms\tremaining: 309ms\n",
      "671:\tlearn: 0.0927947\ttotal: 631ms\tremaining: 308ms\n",
      "672:\tlearn: 0.0925487\ttotal: 632ms\tremaining: 307ms\n",
      "673:\tlearn: 0.0924498\ttotal: 632ms\tremaining: 306ms\n",
      "674:\tlearn: 0.0923970\ttotal: 633ms\tremaining: 305ms\n",
      "675:\tlearn: 0.0922440\ttotal: 634ms\tremaining: 304ms\n",
      "676:\tlearn: 0.0920713\ttotal: 635ms\tremaining: 303ms\n",
      "677:\tlearn: 0.0919334\ttotal: 636ms\tremaining: 302ms\n",
      "678:\tlearn: 0.0917427\ttotal: 637ms\tremaining: 301ms\n",
      "679:\tlearn: 0.0916882\ttotal: 638ms\tremaining: 300ms\n",
      "680:\tlearn: 0.0915821\ttotal: 638ms\tremaining: 299ms\n",
      "681:\tlearn: 0.0914514\ttotal: 639ms\tremaining: 298ms\n",
      "682:\tlearn: 0.0913786\ttotal: 640ms\tremaining: 297ms\n",
      "683:\tlearn: 0.0912531\ttotal: 641ms\tremaining: 296ms\n",
      "684:\tlearn: 0.0910613\ttotal: 642ms\tremaining: 295ms\n",
      "685:\tlearn: 0.0910359\ttotal: 643ms\tremaining: 294ms\n",
      "686:\tlearn: 0.0909132\ttotal: 644ms\tremaining: 293ms\n",
      "687:\tlearn: 0.0907705\ttotal: 644ms\tremaining: 292ms\n",
      "688:\tlearn: 0.0906086\ttotal: 645ms\tremaining: 291ms\n",
      "689:\tlearn: 0.0905409\ttotal: 646ms\tremaining: 290ms\n",
      "690:\tlearn: 0.0904466\ttotal: 647ms\tremaining: 289ms\n",
      "691:\tlearn: 0.0902971\ttotal: 648ms\tremaining: 288ms\n",
      "692:\tlearn: 0.0901714\ttotal: 648ms\tremaining: 287ms\n",
      "693:\tlearn: 0.0900418\ttotal: 649ms\tremaining: 286ms\n",
      "694:\tlearn: 0.0897862\ttotal: 650ms\tremaining: 285ms\n",
      "695:\tlearn: 0.0896878\ttotal: 651ms\tremaining: 284ms\n",
      "696:\tlearn: 0.0895213\ttotal: 652ms\tremaining: 283ms\n",
      "697:\tlearn: 0.0894473\ttotal: 653ms\tremaining: 283ms\n",
      "698:\tlearn: 0.0893449\ttotal: 654ms\tremaining: 282ms\n",
      "699:\tlearn: 0.0892243\ttotal: 655ms\tremaining: 281ms\n",
      "700:\tlearn: 0.0891271\ttotal: 656ms\tremaining: 280ms\n",
      "701:\tlearn: 0.0890970\ttotal: 657ms\tremaining: 279ms\n",
      "702:\tlearn: 0.0889549\ttotal: 658ms\tremaining: 278ms\n",
      "703:\tlearn: 0.0887830\ttotal: 658ms\tremaining: 277ms\n",
      "704:\tlearn: 0.0886807\ttotal: 659ms\tremaining: 276ms\n",
      "705:\tlearn: 0.0884645\ttotal: 660ms\tremaining: 275ms\n",
      "706:\tlearn: 0.0883960\ttotal: 661ms\tremaining: 274ms\n",
      "707:\tlearn: 0.0883181\ttotal: 661ms\tremaining: 273ms\n",
      "708:\tlearn: 0.0882051\ttotal: 663ms\tremaining: 272ms\n"
     ]
    },
    {
     "name": "stdout",
     "output_type": "stream",
     "text": [
      "709:\tlearn: 0.0880413\ttotal: 664ms\tremaining: 271ms\n",
      "710:\tlearn: 0.0879224\ttotal: 665ms\tremaining: 270ms\n",
      "711:\tlearn: 0.0878591\ttotal: 666ms\tremaining: 269ms\n",
      "712:\tlearn: 0.0877631\ttotal: 667ms\tremaining: 268ms\n",
      "713:\tlearn: 0.0875735\ttotal: 668ms\tremaining: 267ms\n",
      "714:\tlearn: 0.0874707\ttotal: 668ms\tremaining: 266ms\n",
      "715:\tlearn: 0.0874300\ttotal: 669ms\tremaining: 265ms\n",
      "716:\tlearn: 0.0874053\ttotal: 670ms\tremaining: 264ms\n",
      "717:\tlearn: 0.0872929\ttotal: 671ms\tremaining: 263ms\n",
      "718:\tlearn: 0.0871891\ttotal: 671ms\tremaining: 262ms\n",
      "719:\tlearn: 0.0870214\ttotal: 672ms\tremaining: 261ms\n",
      "720:\tlearn: 0.0868445\ttotal: 673ms\tremaining: 260ms\n",
      "721:\tlearn: 0.0867356\ttotal: 674ms\tremaining: 259ms\n",
      "722:\tlearn: 0.0866111\ttotal: 675ms\tremaining: 258ms\n",
      "723:\tlearn: 0.0865345\ttotal: 675ms\tremaining: 258ms\n",
      "724:\tlearn: 0.0864064\ttotal: 676ms\tremaining: 257ms\n",
      "725:\tlearn: 0.0863048\ttotal: 677ms\tremaining: 256ms\n",
      "726:\tlearn: 0.0862385\ttotal: 678ms\tremaining: 255ms\n",
      "727:\tlearn: 0.0861038\ttotal: 679ms\tremaining: 254ms\n",
      "728:\tlearn: 0.0859502\ttotal: 680ms\tremaining: 253ms\n",
      "729:\tlearn: 0.0858268\ttotal: 680ms\tremaining: 252ms\n",
      "730:\tlearn: 0.0857795\ttotal: 681ms\tremaining: 251ms\n",
      "731:\tlearn: 0.0857548\ttotal: 682ms\tremaining: 250ms\n",
      "732:\tlearn: 0.0857074\ttotal: 683ms\tremaining: 249ms\n",
      "733:\tlearn: 0.0855793\ttotal: 684ms\tremaining: 248ms\n",
      "734:\tlearn: 0.0854846\ttotal: 685ms\tremaining: 247ms\n",
      "735:\tlearn: 0.0853668\ttotal: 685ms\tremaining: 246ms\n",
      "736:\tlearn: 0.0852210\ttotal: 686ms\tremaining: 245ms\n",
      "737:\tlearn: 0.0850351\ttotal: 687ms\tremaining: 244ms\n",
      "738:\tlearn: 0.0848823\ttotal: 688ms\tremaining: 243ms\n",
      "739:\tlearn: 0.0847596\ttotal: 689ms\tremaining: 242ms\n",
      "740:\tlearn: 0.0846435\ttotal: 689ms\tremaining: 241ms\n",
      "741:\tlearn: 0.0844904\ttotal: 690ms\tremaining: 240ms\n",
      "742:\tlearn: 0.0843473\ttotal: 691ms\tremaining: 239ms\n",
      "743:\tlearn: 0.0842636\ttotal: 692ms\tremaining: 238ms\n",
      "744:\tlearn: 0.0842123\ttotal: 693ms\tremaining: 237ms\n",
      "745:\tlearn: 0.0839888\ttotal: 694ms\tremaining: 236ms\n",
      "746:\tlearn: 0.0837850\ttotal: 695ms\tremaining: 235ms\n",
      "747:\tlearn: 0.0837523\ttotal: 695ms\tremaining: 234ms\n",
      "748:\tlearn: 0.0836763\ttotal: 696ms\tremaining: 233ms\n",
      "749:\tlearn: 0.0835618\ttotal: 697ms\tremaining: 232ms\n",
      "750:\tlearn: 0.0834029\ttotal: 698ms\tremaining: 231ms\n",
      "751:\tlearn: 0.0833753\ttotal: 699ms\tremaining: 230ms\n",
      "752:\tlearn: 0.0832307\ttotal: 700ms\tremaining: 229ms\n",
      "753:\tlearn: 0.0830764\ttotal: 700ms\tremaining: 229ms\n",
      "754:\tlearn: 0.0830030\ttotal: 701ms\tremaining: 228ms\n",
      "755:\tlearn: 0.0828831\ttotal: 702ms\tremaining: 227ms\n",
      "756:\tlearn: 0.0827401\ttotal: 703ms\tremaining: 226ms\n",
      "757:\tlearn: 0.0825460\ttotal: 704ms\tremaining: 225ms\n",
      "758:\tlearn: 0.0824990\ttotal: 704ms\tremaining: 224ms\n",
      "759:\tlearn: 0.0823939\ttotal: 705ms\tremaining: 223ms\n",
      "760:\tlearn: 0.0823438\ttotal: 706ms\tremaining: 222ms\n",
      "761:\tlearn: 0.0822821\ttotal: 707ms\tremaining: 221ms\n",
      "762:\tlearn: 0.0821983\ttotal: 708ms\tremaining: 220ms\n",
      "763:\tlearn: 0.0819694\ttotal: 708ms\tremaining: 219ms\n",
      "764:\tlearn: 0.0819045\ttotal: 709ms\tremaining: 218ms\n",
      "765:\tlearn: 0.0817950\ttotal: 710ms\tremaining: 217ms\n",
      "766:\tlearn: 0.0817289\ttotal: 711ms\tremaining: 216ms\n",
      "767:\tlearn: 0.0816004\ttotal: 711ms\tremaining: 215ms\n",
      "768:\tlearn: 0.0815012\ttotal: 712ms\tremaining: 214ms\n",
      "769:\tlearn: 0.0813501\ttotal: 713ms\tremaining: 213ms\n",
      "770:\tlearn: 0.0812485\ttotal: 714ms\tremaining: 212ms\n",
      "771:\tlearn: 0.0812251\ttotal: 715ms\tremaining: 211ms\n",
      "772:\tlearn: 0.0811166\ttotal: 716ms\tremaining: 210ms\n",
      "773:\tlearn: 0.0810038\ttotal: 716ms\tremaining: 209ms\n",
      "774:\tlearn: 0.0808933\ttotal: 717ms\tremaining: 208ms\n",
      "775:\tlearn: 0.0806874\ttotal: 718ms\tremaining: 207ms\n",
      "776:\tlearn: 0.0805891\ttotal: 719ms\tremaining: 206ms\n",
      "777:\tlearn: 0.0805314\ttotal: 720ms\tremaining: 205ms\n",
      "778:\tlearn: 0.0803583\ttotal: 720ms\tremaining: 204ms\n",
      "779:\tlearn: 0.0803343\ttotal: 721ms\tremaining: 203ms\n",
      "780:\tlearn: 0.0803103\ttotal: 722ms\tremaining: 202ms\n",
      "781:\tlearn: 0.0802870\ttotal: 723ms\tremaining: 202ms\n",
      "782:\tlearn: 0.0801809\ttotal: 724ms\tremaining: 201ms\n",
      "783:\tlearn: 0.0800672\ttotal: 725ms\tremaining: 200ms\n",
      "784:\tlearn: 0.0798962\ttotal: 725ms\tremaining: 199ms\n",
      "785:\tlearn: 0.0797680\ttotal: 726ms\tremaining: 198ms\n",
      "786:\tlearn: 0.0796373\ttotal: 727ms\tremaining: 197ms\n",
      "787:\tlearn: 0.0795039\ttotal: 728ms\tremaining: 196ms\n",
      "788:\tlearn: 0.0793928\ttotal: 729ms\tremaining: 195ms\n",
      "789:\tlearn: 0.0792398\ttotal: 729ms\tremaining: 194ms\n",
      "790:\tlearn: 0.0791098\ttotal: 730ms\tremaining: 193ms\n",
      "791:\tlearn: 0.0790510\ttotal: 731ms\tremaining: 192ms\n",
      "792:\tlearn: 0.0789307\ttotal: 732ms\tremaining: 191ms\n",
      "793:\tlearn: 0.0787788\ttotal: 733ms\tremaining: 190ms\n",
      "794:\tlearn: 0.0787254\ttotal: 734ms\tremaining: 189ms\n",
      "795:\tlearn: 0.0786095\ttotal: 734ms\tremaining: 188ms\n",
      "796:\tlearn: 0.0784862\ttotal: 735ms\tremaining: 187ms\n",
      "797:\tlearn: 0.0784119\ttotal: 736ms\tremaining: 186ms\n",
      "798:\tlearn: 0.0782769\ttotal: 737ms\tremaining: 185ms\n",
      "799:\tlearn: 0.0781697\ttotal: 737ms\tremaining: 184ms\n",
      "800:\tlearn: 0.0780734\ttotal: 738ms\tremaining: 183ms\n",
      "801:\tlearn: 0.0780352\ttotal: 739ms\tremaining: 182ms\n",
      "802:\tlearn: 0.0779208\ttotal: 740ms\tremaining: 182ms\n",
      "803:\tlearn: 0.0778302\ttotal: 741ms\tremaining: 181ms\n",
      "804:\tlearn: 0.0777257\ttotal: 742ms\tremaining: 180ms\n",
      "805:\tlearn: 0.0776201\ttotal: 742ms\tremaining: 179ms\n",
      "806:\tlearn: 0.0775033\ttotal: 743ms\tremaining: 178ms\n",
      "807:\tlearn: 0.0773783\ttotal: 744ms\tremaining: 177ms\n",
      "808:\tlearn: 0.0772774\ttotal: 745ms\tremaining: 176ms\n",
      "809:\tlearn: 0.0772573\ttotal: 746ms\tremaining: 175ms\n",
      "810:\tlearn: 0.0770358\ttotal: 746ms\tremaining: 174ms\n",
      "811:\tlearn: 0.0769762\ttotal: 747ms\tremaining: 173ms\n",
      "812:\tlearn: 0.0768669\ttotal: 748ms\tremaining: 172ms\n",
      "813:\tlearn: 0.0766915\ttotal: 749ms\tremaining: 171ms\n",
      "814:\tlearn: 0.0765683\ttotal: 750ms\tremaining: 170ms\n",
      "815:\tlearn: 0.0764732\ttotal: 750ms\tremaining: 169ms\n",
      "816:\tlearn: 0.0762721\ttotal: 751ms\tremaining: 168ms\n",
      "817:\tlearn: 0.0761897\ttotal: 752ms\tremaining: 167ms\n",
      "818:\tlearn: 0.0761012\ttotal: 753ms\tremaining: 166ms\n",
      "819:\tlearn: 0.0759292\ttotal: 754ms\tremaining: 165ms\n",
      "820:\tlearn: 0.0758791\ttotal: 754ms\tremaining: 164ms\n",
      "821:\tlearn: 0.0758516\ttotal: 755ms\tremaining: 164ms\n",
      "822:\tlearn: 0.0756853\ttotal: 756ms\tremaining: 163ms\n",
      "823:\tlearn: 0.0755059\ttotal: 757ms\tremaining: 162ms\n",
      "824:\tlearn: 0.0754296\ttotal: 758ms\tremaining: 161ms\n",
      "825:\tlearn: 0.0753123\ttotal: 759ms\tremaining: 160ms\n"
     ]
    },
    {
     "name": "stdout",
     "output_type": "stream",
     "text": [
      "826:\tlearn: 0.0752855\ttotal: 760ms\tremaining: 159ms\n",
      "827:\tlearn: 0.0751287\ttotal: 760ms\tremaining: 158ms\n",
      "828:\tlearn: 0.0749708\ttotal: 761ms\tremaining: 157ms\n",
      "829:\tlearn: 0.0748526\ttotal: 762ms\tremaining: 156ms\n",
      "830:\tlearn: 0.0746929\ttotal: 763ms\tremaining: 155ms\n",
      "831:\tlearn: 0.0746337\ttotal: 764ms\tremaining: 154ms\n",
      "832:\tlearn: 0.0744719\ttotal: 765ms\tremaining: 153ms\n",
      "833:\tlearn: 0.0743059\ttotal: 766ms\tremaining: 152ms\n",
      "834:\tlearn: 0.0741881\ttotal: 767ms\tremaining: 152ms\n",
      "835:\tlearn: 0.0740427\ttotal: 768ms\tremaining: 151ms\n",
      "836:\tlearn: 0.0740175\ttotal: 768ms\tremaining: 150ms\n",
      "837:\tlearn: 0.0739314\ttotal: 770ms\tremaining: 149ms\n",
      "838:\tlearn: 0.0738935\ttotal: 771ms\tremaining: 148ms\n",
      "839:\tlearn: 0.0737540\ttotal: 772ms\tremaining: 147ms\n",
      "840:\tlearn: 0.0736819\ttotal: 772ms\tremaining: 146ms\n",
      "841:\tlearn: 0.0736055\ttotal: 773ms\tremaining: 145ms\n",
      "842:\tlearn: 0.0735199\ttotal: 774ms\tremaining: 144ms\n",
      "843:\tlearn: 0.0734257\ttotal: 775ms\tremaining: 143ms\n",
      "844:\tlearn: 0.0733897\ttotal: 775ms\tremaining: 142ms\n",
      "845:\tlearn: 0.0732964\ttotal: 776ms\tremaining: 141ms\n",
      "846:\tlearn: 0.0731600\ttotal: 777ms\tremaining: 140ms\n",
      "847:\tlearn: 0.0730735\ttotal: 778ms\tremaining: 139ms\n",
      "848:\tlearn: 0.0730038\ttotal: 779ms\tremaining: 139ms\n",
      "849:\tlearn: 0.0729122\ttotal: 780ms\tremaining: 138ms\n",
      "850:\tlearn: 0.0727963\ttotal: 781ms\tremaining: 137ms\n",
      "851:\tlearn: 0.0726146\ttotal: 781ms\tremaining: 136ms\n",
      "852:\tlearn: 0.0724324\ttotal: 782ms\tremaining: 135ms\n",
      "853:\tlearn: 0.0723884\ttotal: 783ms\tremaining: 134ms\n",
      "854:\tlearn: 0.0722597\ttotal: 784ms\tremaining: 133ms\n",
      "855:\tlearn: 0.0721602\ttotal: 784ms\tremaining: 132ms\n",
      "856:\tlearn: 0.0720717\ttotal: 785ms\tremaining: 131ms\n",
      "857:\tlearn: 0.0719322\ttotal: 786ms\tremaining: 130ms\n",
      "858:\tlearn: 0.0717917\ttotal: 787ms\tremaining: 129ms\n",
      "859:\tlearn: 0.0717273\ttotal: 788ms\tremaining: 128ms\n",
      "860:\tlearn: 0.0716742\ttotal: 789ms\tremaining: 127ms\n",
      "861:\tlearn: 0.0715701\ttotal: 789ms\tremaining: 126ms\n",
      "862:\tlearn: 0.0714390\ttotal: 790ms\tremaining: 125ms\n",
      "863:\tlearn: 0.0713170\ttotal: 791ms\tremaining: 125ms\n",
      "864:\tlearn: 0.0712659\ttotal: 792ms\tremaining: 124ms\n",
      "865:\tlearn: 0.0712067\ttotal: 793ms\tremaining: 123ms\n",
      "866:\tlearn: 0.0711577\ttotal: 794ms\tremaining: 122ms\n",
      "867:\tlearn: 0.0711168\ttotal: 794ms\tremaining: 121ms\n",
      "868:\tlearn: 0.0710000\ttotal: 795ms\tremaining: 120ms\n",
      "869:\tlearn: 0.0709409\ttotal: 796ms\tremaining: 119ms\n",
      "870:\tlearn: 0.0708617\ttotal: 797ms\tremaining: 118ms\n",
      "871:\tlearn: 0.0708329\ttotal: 798ms\tremaining: 117ms\n",
      "872:\tlearn: 0.0707730\ttotal: 799ms\tremaining: 116ms\n",
      "873:\tlearn: 0.0707421\ttotal: 800ms\tremaining: 115ms\n",
      "874:\tlearn: 0.0706463\ttotal: 800ms\tremaining: 114ms\n",
      "875:\tlearn: 0.0705850\ttotal: 801ms\tremaining: 113ms\n",
      "876:\tlearn: 0.0704631\ttotal: 802ms\tremaining: 112ms\n",
      "877:\tlearn: 0.0703229\ttotal: 803ms\tremaining: 112ms\n",
      "878:\tlearn: 0.0702904\ttotal: 803ms\tremaining: 111ms\n",
      "879:\tlearn: 0.0702045\ttotal: 804ms\tremaining: 110ms\n",
      "880:\tlearn: 0.0701145\ttotal: 805ms\tremaining: 109ms\n",
      "881:\tlearn: 0.0700416\ttotal: 806ms\tremaining: 108ms\n",
      "882:\tlearn: 0.0699253\ttotal: 807ms\tremaining: 107ms\n",
      "883:\tlearn: 0.0698260\ttotal: 808ms\tremaining: 106ms\n",
      "884:\tlearn: 0.0697406\ttotal: 808ms\tremaining: 105ms\n",
      "885:\tlearn: 0.0697181\ttotal: 809ms\tremaining: 104ms\n",
      "886:\tlearn: 0.0695447\ttotal: 810ms\tremaining: 103ms\n",
      "887:\tlearn: 0.0695020\ttotal: 811ms\tremaining: 102ms\n",
      "888:\tlearn: 0.0693885\ttotal: 812ms\tremaining: 101ms\n",
      "889:\tlearn: 0.0692970\ttotal: 812ms\tremaining: 100ms\n",
      "890:\tlearn: 0.0691955\ttotal: 813ms\tremaining: 99.5ms\n",
      "891:\tlearn: 0.0691508\ttotal: 814ms\tremaining: 98.6ms\n",
      "892:\tlearn: 0.0690346\ttotal: 815ms\tremaining: 97.6ms\n",
      "893:\tlearn: 0.0689394\ttotal: 816ms\tremaining: 96.7ms\n",
      "894:\tlearn: 0.0688247\ttotal: 817ms\tremaining: 95.8ms\n",
      "895:\tlearn: 0.0687341\ttotal: 817ms\tremaining: 94.9ms\n",
      "896:\tlearn: 0.0686209\ttotal: 818ms\tremaining: 93.9ms\n",
      "897:\tlearn: 0.0685434\ttotal: 819ms\tremaining: 93ms\n",
      "898:\tlearn: 0.0684766\ttotal: 820ms\tremaining: 92.1ms\n",
      "899:\tlearn: 0.0683993\ttotal: 820ms\tremaining: 91.2ms\n",
      "900:\tlearn: 0.0683249\ttotal: 821ms\tremaining: 90.3ms\n",
      "901:\tlearn: 0.0683046\ttotal: 822ms\tremaining: 89.3ms\n",
      "902:\tlearn: 0.0682884\ttotal: 823ms\tremaining: 88.4ms\n",
      "903:\tlearn: 0.0681872\ttotal: 824ms\tremaining: 87.5ms\n",
      "904:\tlearn: 0.0680174\ttotal: 825ms\tremaining: 86.6ms\n",
      "905:\tlearn: 0.0679454\ttotal: 825ms\tremaining: 85.6ms\n",
      "906:\tlearn: 0.0678910\ttotal: 826ms\tremaining: 84.7ms\n",
      "907:\tlearn: 0.0677884\ttotal: 827ms\tremaining: 83.8ms\n",
      "908:\tlearn: 0.0676720\ttotal: 828ms\tremaining: 82.9ms\n",
      "909:\tlearn: 0.0676121\ttotal: 829ms\tremaining: 82ms\n",
      "910:\tlearn: 0.0675316\ttotal: 830ms\tremaining: 81ms\n",
      "911:\tlearn: 0.0674535\ttotal: 830ms\tremaining: 80.1ms\n",
      "912:\tlearn: 0.0672992\ttotal: 831ms\tremaining: 79.2ms\n",
      "913:\tlearn: 0.0671671\ttotal: 832ms\tremaining: 78.3ms\n",
      "914:\tlearn: 0.0670795\ttotal: 833ms\tremaining: 77.4ms\n",
      "915:\tlearn: 0.0670487\ttotal: 834ms\tremaining: 76.4ms\n",
      "916:\tlearn: 0.0669013\ttotal: 834ms\tremaining: 75.5ms\n",
      "917:\tlearn: 0.0668532\ttotal: 835ms\tremaining: 74.6ms\n",
      "918:\tlearn: 0.0667399\ttotal: 836ms\tremaining: 73.7ms\n",
      "919:\tlearn: 0.0667038\ttotal: 837ms\tremaining: 72.8ms\n",
      "920:\tlearn: 0.0666477\ttotal: 838ms\tremaining: 71.9ms\n",
      "921:\tlearn: 0.0665661\ttotal: 839ms\tremaining: 70.9ms\n",
      "922:\tlearn: 0.0664763\ttotal: 839ms\tremaining: 70ms\n",
      "923:\tlearn: 0.0663621\ttotal: 840ms\tremaining: 69.1ms\n",
      "924:\tlearn: 0.0662415\ttotal: 841ms\tremaining: 68.2ms\n",
      "925:\tlearn: 0.0661415\ttotal: 842ms\tremaining: 67.3ms\n",
      "926:\tlearn: 0.0659974\ttotal: 843ms\tremaining: 66.4ms\n",
      "927:\tlearn: 0.0658900\ttotal: 843ms\tremaining: 65.4ms\n",
      "928:\tlearn: 0.0658098\ttotal: 844ms\tremaining: 64.5ms\n",
      "929:\tlearn: 0.0657670\ttotal: 845ms\tremaining: 63.6ms\n",
      "930:\tlearn: 0.0656962\ttotal: 846ms\tremaining: 62.7ms\n",
      "931:\tlearn: 0.0655826\ttotal: 847ms\tremaining: 61.8ms\n",
      "932:\tlearn: 0.0654208\ttotal: 848ms\tremaining: 60.9ms\n",
      "933:\tlearn: 0.0652885\ttotal: 848ms\tremaining: 60ms\n",
      "934:\tlearn: 0.0652326\ttotal: 849ms\tremaining: 59ms\n",
      "935:\tlearn: 0.0651395\ttotal: 850ms\tremaining: 58.1ms\n",
      "936:\tlearn: 0.0651091\ttotal: 851ms\tremaining: 57.2ms\n",
      "937:\tlearn: 0.0650066\ttotal: 852ms\tremaining: 56.3ms\n",
      "938:\tlearn: 0.0649345\ttotal: 852ms\tremaining: 55.4ms\n",
      "939:\tlearn: 0.0648124\ttotal: 853ms\tremaining: 54.5ms\n"
     ]
    },
    {
     "name": "stdout",
     "output_type": "stream",
     "text": [
      "940:\tlearn: 0.0647754\ttotal: 854ms\tremaining: 53.5ms\n",
      "941:\tlearn: 0.0646805\ttotal: 855ms\tremaining: 52.6ms\n",
      "942:\tlearn: 0.0646140\ttotal: 856ms\tremaining: 51.7ms\n",
      "943:\tlearn: 0.0645576\ttotal: 857ms\tremaining: 50.8ms\n",
      "944:\tlearn: 0.0644208\ttotal: 858ms\tremaining: 49.9ms\n",
      "945:\tlearn: 0.0643401\ttotal: 859ms\tremaining: 49ms\n",
      "946:\tlearn: 0.0643108\ttotal: 859ms\tremaining: 48.1ms\n",
      "947:\tlearn: 0.0642254\ttotal: 860ms\tremaining: 47.2ms\n",
      "948:\tlearn: 0.0641506\ttotal: 861ms\tremaining: 46.3ms\n",
      "949:\tlearn: 0.0641305\ttotal: 862ms\tremaining: 45.4ms\n",
      "950:\tlearn: 0.0641067\ttotal: 863ms\tremaining: 44.5ms\n",
      "951:\tlearn: 0.0640190\ttotal: 864ms\tremaining: 43.6ms\n",
      "952:\tlearn: 0.0639367\ttotal: 865ms\tremaining: 42.7ms\n",
      "953:\tlearn: 0.0638888\ttotal: 866ms\tremaining: 41.7ms\n",
      "954:\tlearn: 0.0638078\ttotal: 867ms\tremaining: 40.8ms\n",
      "955:\tlearn: 0.0637656\ttotal: 867ms\tremaining: 39.9ms\n",
      "956:\tlearn: 0.0636298\ttotal: 868ms\tremaining: 39ms\n",
      "957:\tlearn: 0.0635541\ttotal: 869ms\tremaining: 38.1ms\n",
      "958:\tlearn: 0.0634842\ttotal: 870ms\tremaining: 37.2ms\n",
      "959:\tlearn: 0.0634527\ttotal: 871ms\tremaining: 36.3ms\n",
      "960:\tlearn: 0.0634147\ttotal: 871ms\tremaining: 35.4ms\n",
      "961:\tlearn: 0.0633812\ttotal: 872ms\tremaining: 34.4ms\n",
      "962:\tlearn: 0.0632352\ttotal: 873ms\tremaining: 33.5ms\n",
      "963:\tlearn: 0.0631939\ttotal: 874ms\tremaining: 32.6ms\n",
      "964:\tlearn: 0.0631208\ttotal: 874ms\tremaining: 31.7ms\n",
      "965:\tlearn: 0.0630139\ttotal: 875ms\tremaining: 30.8ms\n",
      "966:\tlearn: 0.0629392\ttotal: 876ms\tremaining: 29.9ms\n",
      "967:\tlearn: 0.0628953\ttotal: 877ms\tremaining: 29ms\n",
      "968:\tlearn: 0.0628596\ttotal: 878ms\tremaining: 28.1ms\n",
      "969:\tlearn: 0.0626838\ttotal: 879ms\tremaining: 27.2ms\n",
      "970:\tlearn: 0.0626259\ttotal: 880ms\tremaining: 26.3ms\n",
      "971:\tlearn: 0.0625955\ttotal: 880ms\tremaining: 25.4ms\n",
      "972:\tlearn: 0.0625050\ttotal: 881ms\tremaining: 24.5ms\n",
      "973:\tlearn: 0.0623829\ttotal: 882ms\tremaining: 23.5ms\n",
      "974:\tlearn: 0.0622980\ttotal: 883ms\tremaining: 22.6ms\n",
      "975:\tlearn: 0.0622282\ttotal: 884ms\tremaining: 21.7ms\n",
      "976:\tlearn: 0.0621446\ttotal: 884ms\tremaining: 20.8ms\n",
      "977:\tlearn: 0.0619915\ttotal: 885ms\tremaining: 19.9ms\n",
      "978:\tlearn: 0.0619371\ttotal: 886ms\tremaining: 19ms\n",
      "979:\tlearn: 0.0617994\ttotal: 887ms\tremaining: 18.1ms\n",
      "980:\tlearn: 0.0617316\ttotal: 888ms\tremaining: 17.2ms\n",
      "981:\tlearn: 0.0616359\ttotal: 889ms\tremaining: 16.3ms\n",
      "982:\tlearn: 0.0615539\ttotal: 890ms\tremaining: 15.4ms\n",
      "983:\tlearn: 0.0614620\ttotal: 890ms\tremaining: 14.5ms\n",
      "984:\tlearn: 0.0613647\ttotal: 891ms\tremaining: 13.6ms\n",
      "985:\tlearn: 0.0612300\ttotal: 892ms\tremaining: 12.7ms\n",
      "986:\tlearn: 0.0611596\ttotal: 893ms\tremaining: 11.8ms\n",
      "987:\tlearn: 0.0611249\ttotal: 894ms\tremaining: 10.9ms\n",
      "988:\tlearn: 0.0610740\ttotal: 894ms\tremaining: 9.95ms\n",
      "989:\tlearn: 0.0609994\ttotal: 895ms\tremaining: 9.04ms\n",
      "990:\tlearn: 0.0609703\ttotal: 896ms\tremaining: 8.14ms\n",
      "991:\tlearn: 0.0609179\ttotal: 897ms\tremaining: 7.23ms\n",
      "992:\tlearn: 0.0608089\ttotal: 898ms\tremaining: 6.33ms\n",
      "993:\tlearn: 0.0607813\ttotal: 899ms\tremaining: 5.42ms\n",
      "994:\tlearn: 0.0607134\ttotal: 900ms\tremaining: 4.52ms\n",
      "995:\tlearn: 0.0606006\ttotal: 900ms\tremaining: 3.62ms\n",
      "996:\tlearn: 0.0604756\ttotal: 901ms\tremaining: 2.71ms\n",
      "997:\tlearn: 0.0604016\ttotal: 902ms\tremaining: 1.81ms\n",
      "998:\tlearn: 0.0603421\ttotal: 903ms\tremaining: 903us\n",
      "999:\tlearn: 0.0602794\ttotal: 904ms\tremaining: 0us\n"
     ]
    },
    {
     "data": {
      "text/plain": [
       "<catboost.core.CatBoostRegressor at 0x7fd58b210ca0>"
      ]
     },
     "execution_count": 9,
     "metadata": {},
     "output_type": "execute_result"
    }
   ],
   "source": [
    "#Train the Model \n",
    "prior_model = ctb.CatBoostRegressor()\n",
    "prior_model.fit(X_train,Y_train)"
   ]
  },
  {
   "cell_type": "code",
   "execution_count": 10,
   "id": "af65dcda",
   "metadata": {
    "execution": {
     "iopub.execute_input": "2022-06-11T12:46:42.998383Z",
     "iopub.status.busy": "2022-06-11T12:46:42.997920Z",
     "iopub.status.idle": "2022-06-11T12:46:43.006032Z",
     "shell.execute_reply": "2022-06-11T12:46:43.006272Z"
    },
    "id": "af65dcda",
    "papermill": {
     "duration": 0.021241,
     "end_time": "2022-06-11T12:46:43.006383",
     "exception": false,
     "start_time": "2022-06-11T12:46:42.985142",
     "status": "completed"
    },
    "tags": []
   },
   "outputs": [
    {
     "data": {
      "application/scrapbook.scrap.json+json": {
       "data": 0.08211419138331799,
       "encoder": "json",
       "name": "Prior Model MSE",
       "version": 1
      }
     },
     "metadata": {
      "scrapbook": {
       "data": true,
       "display": false,
       "name": "Prior Model MSE"
      }
     },
     "output_type": "display_data"
    },
    {
     "data": {
      "application/scrapbook.scrap.json+json": {
       "data": 1.943514673366254,
       "encoder": "json",
       "name": "ABC Pre-generator MSE",
       "version": 1
      }
     },
     "metadata": {
      "scrapbook": {
       "data": true,
       "display": false,
       "name": "ABC Pre-generator MSE"
      }
     },
     "output_type": "display_data"
    },
    {
     "data": {
      "application/scrapbook.scrap.json+json": {
       "data": 0.21123250680962904,
       "encoder": "json",
       "name": "Prior Model MSE",
       "version": 1
      }
     },
     "metadata": {
      "scrapbook": {
       "data": true,
       "display": false,
       "name": "Prior Model MSE"
      }
     },
     "output_type": "display_data"
    },
    {
     "data": {
      "application/scrapbook.scrap.json+json": {
       "data": 1.1729247811774257,
       "encoder": "json",
       "name": "ABC Pre-generator MSE",
       "version": 1
      }
     },
     "metadata": {
      "scrapbook": {
       "data": true,
       "display": false,
       "name": "ABC Pre-generator MSE"
      }
     },
     "output_type": "display_data"
    }
   ],
   "source": [
    "y_pred = prior_model.predict(X_test)\n",
    "y_abc = y_pred + np.random.normal(0,variance, y_pred.shape) + bias \n",
    "mse = mean_squared_error(y_pred,Y_test)\n",
    "sb.glue(\"Prior Model MSE\",mse)\n",
    "mse = mean_squared_error(y_abc,Y_test)\n",
    "sb.glue(\"ABC Pre-generator MSE\",mse)\n",
    "mae = mean_absolute_error(y_pred,Y_test)\n",
    "sb.glue(\"Prior Model MSE\",mae)\n",
    "mae = mean_absolute_error(y_abc,Y_test)\n",
    "sb.glue(\"ABC Pre-generator MSE\",mae)"
   ]
  },
  {
   "cell_type": "markdown",
   "id": "25609da2",
   "metadata": {
    "papermill": {
     "duration": 0.009609,
     "end_time": "2022-06-11T12:46:43.026036",
     "exception": false,
     "start_time": "2022-06-11T12:46:43.016427",
     "status": "completed"
    },
    "tags": []
   },
   "source": [
    "# ABC GAN Model"
   ]
  },
  {
   "cell_type": "code",
   "execution_count": 11,
   "id": "dfc3464d",
   "metadata": {
    "execution": {
     "iopub.execute_input": "2022-06-11T12:46:43.048306Z",
     "iopub.status.busy": "2022-06-11T12:46:43.047925Z",
     "iopub.status.idle": "2022-06-11T12:46:43.050389Z",
     "shell.execute_reply": "2022-06-11T12:46:43.050621Z"
    },
    "papermill": {
     "duration": 0.015028,
     "end_time": "2022-06-11T12:46:43.050728",
     "exception": false,
     "start_time": "2022-06-11T12:46:43.035700",
     "status": "completed"
    },
    "tags": []
   },
   "outputs": [],
   "source": [
    "gen = network.Generator(n_features+1).to(device)\n",
    "disc = network.Discriminator(n_features+1).to(device)\n",
    "\n",
    "criterion = torch.nn.BCELoss()\n",
    "gen_opt = torch.optim.Adam(gen.parameters(), lr=0.001, betas=(0.5, 0.999))\n",
    "disc_opt = torch.optim.Adam(disc.parameters(), lr=0.001, betas=(0.5, 0.999))"
   ]
  },
  {
   "cell_type": "code",
   "execution_count": 12,
   "id": "b75fdd85",
   "metadata": {
    "execution": {
     "iopub.execute_input": "2022-06-11T12:46:43.073081Z",
     "iopub.status.busy": "2022-06-11T12:46:43.072707Z",
     "iopub.status.idle": "2022-06-11T13:07:55.441517Z",
     "shell.execute_reply": "2022-06-11T13:07:55.441805Z"
    },
    "papermill": {
     "duration": 1272.381357,
     "end_time": "2022-06-11T13:07:55.441922",
     "exception": false,
     "start_time": "2022-06-11T12:46:43.060565",
     "status": "completed"
    },
    "tags": []
   },
   "outputs": [
    {
     "data": {
      "image/png": "[encoded data removed]",
      "text/plain": [
       "<Figure size 432x288 with 1 Axes>"
      ]
     },
     "metadata": {
      "needs_background": "light"
     },
     "output_type": "display_data"
    },
    {
     "data": {
      "image/png": "[encoded data removed]",
      "text/plain": [
       "<Figure size 432x288 with 1 Axes>"
      ]
     },
     "metadata": {
      "needs_background": "light"
     },
     "output_type": "display_data"
    }
   ],
   "source": [
    "#Training the ABC_GAN \n",
    "ABC_train_test2.training_GAN(disc,gen,disc_opt,gen_opt,train_data,batch_size,n_epochs,criterion,prior_model,variance,bias,device)"
   ]
  },
  {
   "cell_type": "code",
   "execution_count": 13,
   "id": "1fa7c368",
   "metadata": {
    "execution": {
     "iopub.execute_input": "2022-06-11T13:07:55.466139Z",
     "iopub.status.busy": "2022-06-11T13:07:55.465766Z",
     "iopub.status.idle": "2022-06-11T13:07:55.777883Z",
     "shell.execute_reply": "2022-06-11T13:07:55.778192Z"
    },
    "papermill": {
     "duration": 0.325446,
     "end_time": "2022-06-11T13:07:55.778317",
     "exception": false,
     "start_time": "2022-06-11T13:07:55.452871",
     "status": "completed"
    },
    "tags": []
   },
   "outputs": [
    {
     "data": {
      "application/scrapbook.scrap.json+json": {
       "data": 0.08814754729180133,
       "encoder": "json",
       "name": "ABC-GAN Model 1 MSE",
       "version": 1
      }
     },
     "metadata": {
      "scrapbook": {
       "data": true,
       "display": false,
       "name": "ABC-GAN Model 1 MSE"
      }
     },
     "output_type": "display_data"
    },
    {
     "data": {
      "application/scrapbook.scrap.json+json": {
       "data": 0.21026968134603663,
       "encoder": "json",
       "name": "ABC-GAN Model 1 MAE",
       "version": 1
      }
     },
     "metadata": {
      "scrapbook": {
       "data": true,
       "display": false,
       "name": "ABC-GAN Model 1 MAE"
      }
     },
     "output_type": "display_data"
    },
    {
     "data": {
      "application/scrapbook.scrap.json+json": {
       "data": 21.44750749729574,
       "encoder": "json",
       "name": "ABC-GAN Model 1 Manhattan Distance",
       "version": 1
      }
     },
     "metadata": {
      "scrapbook": {
       "data": true,
       "display": false,
       "name": "ABC-GAN Model 1 Manhattan Distance"
      }
     },
     "output_type": "display_data"
    },
    {
     "data": {
      "application/scrapbook.scrap.json+json": {
       "data": 2.998453572192354,
       "encoder": "json",
       "name": "ABC-GAN Model 1 Euclidean distance",
       "version": 1
      }
     },
     "metadata": {
      "scrapbook": {
       "data": true,
       "display": false,
       "name": "ABC-GAN Model 1 Euclidean distance"
      }
     },
     "output_type": "display_data"
    },
    {
     "data": {
      "application/scrapbook.scrap.json+json": {
       "data": [
        [
         0.08766302746321375,
         0.08814163214615782,
         0.0870366067159473,
         0.08948095949226488,
         0.08834876597090759,
         0.08985491370460681,
         0.08741608074879575,
         0.08867555360668618,
         0.08875865458140042,
         0.09054609248315298,
         0.08804668468350836,
         0.08679362108499585,
         0.08823689238481454,
         0.08904475499583601,
         0.08659965937372117,
         0.08872375883000651,
         0.0891518119429908,
         0.08676450995877982,
         0.08982695603111288,
         0.09024811551314255,
         0.08866320969472984,
         0.0869350120372759,
         0.0869649631874969,
         0.08837641016563832,
         0.08843561787001801,
         0.08878238078310739,
         0.0883437175389884,
         0.08803016863644243,
         0.08796943922875856,
         0.08801238980391776,
         0.08803699064384005,
         0.08820923671163142,
         0.08901873713648013,
         0.08691538563295546,
         0.08775933407317495,
         0.09104016149664128,
         0.08707371211048962,
         0.08850175330542842,
         0.08672675885402238,
         0.08615816650767331,
         0.08915406887276035,
         0.08726279064208556,
         0.0863849221332602,
         0.0879674580842769,
         0.08716806525085974,
         0.08885362057612972,
         0.08684125690494449,
         0.0888478027223688,
         0.0884876520684831,
         0.08705825898770524,
         0.08860528493079708,
         0.08738489674283569,
         0.0866483618177646,
         0.08656862035622426,
         0.08998010286941382,
         0.09046895911236869,
         0.0880940431769629,
         0.08742885398825699,
         0.08866624437484692,
         0.08932914997727294,
         0.08832663406143057,
         0.08825764047798614,
         0.0888299398951434,
         0.0885458846371782,
         0.0876010143842446,
         0.08818914612986341,
         0.08844354670714662,
         0.0873722605543129,
         0.08777758753529977,
         0.08985073263277574,
         0.08715254529278542,
         0.08700677371431471,
         0.08740120886487424,
         0.08828050721195238,
         0.08947646459284705,
         0.08886197421600205,
         0.08797034483000749,
         0.08854551480806949,
         0.08839338018668616,
         0.086730022105863,
         0.08785899054248171,
         0.08852069602835347,
         0.0901124862060746,
         0.0876072854656809,
         0.0883972064823421,
         0.08741572780615674,
         0.08804809068773714,
         0.0857985028237701,
         0.08645544649019972,
         0.0879077294898359,
         0.08945129242329368,
         0.08889710237062422,
         0.08846274763100438,
         0.08851429867233572,
         0.08729400574316973,
         0.08799356098621441,
         0.08674768586952968,
         0.09031058717365527,
         0.08737066423861686,
         0.08806448848990277
        ],
        [
         0.20883556406068451,
         0.21046693398452856,
         0.20927006460945397,
         0.21371448940287033,
         0.21064833743388162,
         0.21277258802643595,
         0.20903679007189532,
         0.21062693936640725,
         0.21086214104776874,
         0.21254772366042815,
         0.2111755157546962,
         0.20892173272794953,
         0.2099647933032875,
         0.21249082313814,
         0.20744989514716117,
         0.21133605158869542,
         0.21300914034466534,
         0.20816170170391893,
         0.21257756878713183,
         0.21377816768910954,
         0.20893942924472048,
         0.2079283058387684,
         0.21125371923998876,
         0.21159410522337638,
         0.21189055301468163,
         0.21074046788043252,
         0.2103761309465649,
         0.20880346199241923,
         0.2110583257916219,
         0.2099140105111634,
         0.21051496875417583,
         0.20976932852656818,
         0.2105843375309133,
         0.20821754577770538,
         0.20915779045910812,
         0.21244687201710893,
         0.20878855641200847,
         0.21195263906802034,
         0.20838781177778454,
         0.20884093198486986,
         0.21175905304285242,
         0.20880865680017308,
         0.20919134170182196,
         0.2109021154214062,
         0.20765312711763032,
         0.20952018103836215,
         0.20772949907490434,
         0.21171535063973246,
         0.21058060274477683,
         0.2091710442750185,
         0.21018788461372548,
         0.20907966823627552,
         0.20685297004221118,
         0.20841930961857238,
         0.21374725442671894,
         0.21220315994658306,
         0.21077048203305287,
         0.2100060505646409,
         0.21158564611173727,
         0.21101862792948298,
         0.2099141127375119,
         0.2102357881947183,
         0.21121458134011312,
         0.21158757676169568,
         0.2108106790840918,
         0.20951498842195554,
         0.20979052484400718,
         0.20998753893974365,
         0.2091067367068985,
         0.21279455525983199,
         0.2087587998522555,
         0.2094750166414123,
         0.20821233066346714,
         0.20886181136045387,
         0.2114916730343419,
         0.21000728254005605,
         0.20956507487697343,
         0.21141195759250253,
         0.21141961554759273,
         0.20821539285209248,
         0.2108414115603356,
         0.20973085087961427,
         0.2134497831301654,
         0.20945706841188902,
         0.21011393782043575,
         0.21003979789640972,
         0.20947906340235004,
         0.20690303772468777,
         0.2081191687132506,
         0.21030300134318133,
         0.21115491716373785,
         0.21150239602680884,
         0.21150253912178324,
         0.20958888094287878,
         0.2107753122006269,
         0.2097937440791843,
         0.20966069277960295,
         0.21214239403386326,
         0.2096221688221775,
         0.21070365207817623
        ],
        [
         21.30122753418982,
         21.467627266421914,
         21.345546590164304,
         21.798877919092774,
         21.486130418255925,
         21.702803978696465,
         21.32175258733332,
         21.48394781537354,
         21.50793838687241,
         21.67986781336367,
         21.539902606979012,
         21.31001673825085,
         21.416408916935325,
         21.67406396009028,
         21.159889305010438,
         21.556277262046933,
         21.726932315155864,
         21.23249357379973,
         21.682912016287446,
         21.805373104289174,
         21.311821782961488,
         21.208687195554376,
         21.547879362478852,
         21.58259873278439,
         21.612836407497525,
         21.495527723804116,
         21.45836535654962,
         21.297953123226762,
         21.527949230745435,
         21.411229072138667,
         21.472526812925935,
         21.396471509709954,
         21.479602428153157,
         21.238189669325948,
         21.334094626829028,
         21.66958094574511,
         21.296432754024863,
         21.619169184938073,
         21.255556801334023,
         21.301775062456727,
         21.599423410370946,
         21.298482993617654,
         21.33751685358584,
         21.512015772983432,
         21.180618965998292,
         21.371058465912938,
         21.188408905640244,
         21.59496576525271,
         21.479221479967237,
         21.33544651605189,
         21.4391642306,
         21.326126160100102,
         21.09900294430554,
         21.258769581094384,
         21.80221995152533,
         21.644722314551473,
         21.498589167371392,
         21.42061715759337,
         21.581735903397202,
         21.523900048807263,
         21.411239499226213,
         21.444050395861268,
         21.543887296691537,
         21.58193282969296,
         21.502689266577363,
         21.370528819039464,
         21.39863353408873,
         21.418728971853852,
         21.328887144103646,
         21.705044636502862,
         21.293397584930062,
         21.366451697424054,
         21.23765772767365,
         21.303904758766294,
         21.572150649502873,
         21.420742819085717,
         21.37563763745129,
         21.564019674435258,
         21.56480078585446,
         21.237970070913434,
         21.50582397915423,
         21.392546789720654,
         21.77187787927687,
         21.36462097801268,
         21.431621657684445,
         21.424059385433793,
         21.366864467039704,
         21.104109847918153,
         21.22815520875156,
         21.450906137004495,
         21.53780155070126,
         21.573244394734502,
         21.57325899042189,
         21.378065856173635,
         21.499081844463944,
         21.3989618960768,
         21.3853906635195,
         21.638524191454053,
         21.381461219862103,
         21.491772511973977
        ],
        [
         2.9902556414540555,
         2.9984073237150577,
         2.979552631692655,
         3.021102094966507,
         3.0019284017165653,
         3.0274083302174306,
         2.986040896635069,
         3.0074750984641563,
         3.0088839737189677,
         3.0390296861468142,
         2.9967919243280567,
         2.9753906215267896,
         3.0000271704188073,
         3.0137294187725727,
         2.9720641406469612,
         3.0082924393517096,
         3.0155405515736415,
         2.974891597318386,
         3.0269373160297706,
         3.034025013466523,
         3.0072657662505384,
         2.977813162003644,
         2.9783260810604126,
         3.0023980144036715,
         3.003403573072029,
         3.009286101366394,
         3.001842632280516,
         2.9965108377773513,
         2.9954770573872493,
         2.9962082304138358,
         2.9966269446949316,
         2.999556991388295,
         3.0132890979660365,
         2.9774770082338935,
         2.991897738136089,
         3.047309710655845,
         2.980187684571216,
         3.0045263914889637,
         2.9742443415278244,
         2.9644785348831038,
         3.0155787214101304,
         2.983421633878242,
         2.968377007321094,
         2.995443326887731,
         2.9818019142102132,
         3.0104931985914254,
         2.9762070163724057,
         3.0103946381963964,
         3.004287022071173,
         2.979923223297192,
         3.0062832639226302,
         2.985508242790369,
         2.9728997469494303,
         2.97153146985437,
         3.0295165443813317,
         3.0377349834147154,
         2.9975977722253218,
         2.9862590488439222,
         3.0073172307281424,
         3.018538271694073,
         3.001552377398388,
         3.0003798640763115,
         3.0100920034617924,
         3.0052754005235816,
         2.9891977965991057,
         2.999215381603339,
         3.003538207536064,
         2.9852923770612336,
         2.9922088711519748,
         3.027337894676298,
         2.981536452881988,
         2.979041946475427,
         2.9857868819152467,
         3.0007685241649584,
         3.021026214462627,
         3.010634712154931,
         2.9954924758144132,
         3.0052691244584215,
         3.002686260507744,
         2.974300296674501,
         2.993596004028121,
         3.0048479154346652,
         3.031744315244873,
         2.9893047883244446,
         3.002751248638304,
         2.986034868555286,
         2.9968158518916685,
         2.958284517761019,
         2.969588446569721,
         2.9944262234964576,
         3.0206012360415855,
         3.0112297225226214,
         3.0038642210263844,
         3.0047393338820996,
         2.9839551916547458,
         2.995887718288832,
         2.974603159867216,
         3.0350749400489,
         2.985265105872327,
         2.997094897725142
        ]
       ],
       "encoder": "json",
       "name": "ABC_GAN_1 Metrics",
       "version": 1
      }
     },
     "metadata": {
      "scrapbook": {
       "data": true,
       "display": false,
       "name": "ABC_GAN_1 Metrics"
      }
     },
     "output_type": "display_data"
    },
    {
     "name": "stdout",
     "output_type": "stream",
     "text": [
      "MSE\n",
      "0.08814754729180133\n"
     ]
    }
   ],
   "source": [
    "ABC_GAN1_metrics=ABC_train_test2.test_generator(gen,test_data,prior_model,variance,bias,\"1\",device)\n",
    "sb.glue(\"ABC_GAN_1 Metrics\",ABC_GAN1_metrics)\n",
    "\n",
    "print(\"MSE\")\n",
    "print(mean(ABC_GAN1_metrics[0]))"
   ]
  },
  {
   "cell_type": "code",
   "execution_count": 14,
   "id": "eb22ce5c",
   "metadata": {
    "execution": {
     "iopub.execute_input": "2022-06-11T13:07:55.805683Z",
     "iopub.status.busy": "2022-06-11T13:07:55.805307Z",
     "iopub.status.idle": "2022-06-11T13:07:56.116565Z",
     "shell.execute_reply": "2022-06-11T13:07:56.116850Z"
    },
    "papermill": {
     "duration": 0.325955,
     "end_time": "2022-06-11T13:07:56.116969",
     "exception": false,
     "start_time": "2022-06-11T13:07:55.791014",
     "status": "completed"
    },
    "tags": []
   },
   "outputs": [
    {
     "data": {
      "image/png": "[encoded data removed]",
      "text/plain": [
       "<Figure size 432x288 with 1 Axes>"
      ]
     },
     "metadata": {
      "needs_background": "light"
     },
     "output_type": "display_data"
    },
    {
     "data": {
      "image/png": "[encoded data removed]",
      "text/plain": [
       "<Figure size 432x288 with 1 Axes>"
      ]
     },
     "metadata": {
      "needs_background": "light"
     },
     "output_type": "display_data"
    },
    {
     "data": {
      "image/png": "[encoded data removed]",
      "text/plain": [
       "<Figure size 432x288 with 1 Axes>"
      ]
     },
     "metadata": {
      "needs_background": "light"
     },
     "output_type": "display_data"
    },
    {
     "data": {
      "image/png": "[encoded data removed]",
      "text/plain": [
       "<Figure size 432x288 with 1 Axes>"
      ]
     },
     "metadata": {
      "needs_background": "light"
     },
     "output_type": "display_data"
    }
   ],
   "source": [
    "sanityChecks.discProbVsError(train_data,disc,device)\n",
    "sanityChecks.discProbVsError(test_data,disc,device)"
   ]
  },
  {
   "cell_type": "markdown",
   "id": "130f3a4d",
   "metadata": {
    "id": "130f3a4d",
    "papermill": {
     "duration": 0.014283,
     "end_time": "2022-06-11T13:07:56.146007",
     "exception": false,
     "start_time": "2022-06-11T13:07:56.131724",
     "status": "completed"
    },
    "tags": []
   },
   "source": [
    "# ABC - GAN Model with skip connection"
   ]
  },
  {
   "cell_type": "code",
   "execution_count": 15,
   "id": "4e43dad1",
   "metadata": {
    "execution": {
     "iopub.execute_input": "2022-06-11T13:07:56.178173Z",
     "iopub.status.busy": "2022-06-11T13:07:56.177804Z",
     "iopub.status.idle": "2022-06-11T13:07:56.180212Z",
     "shell.execute_reply": "2022-06-11T13:07:56.180506Z"
    },
    "id": "4e43dad1",
    "papermill": {
     "duration": 0.020153,
     "end_time": "2022-06-11T13:07:56.180621",
     "exception": false,
     "start_time": "2022-06-11T13:07:56.160468",
     "status": "completed"
    },
    "tags": []
   },
   "outputs": [],
   "source": [
    "#Generator\n",
    "gen3 = network.GeneratorWithSkipConnection(n_features+1).to(device)\n",
    "constraints=network.weightConstraint()\n",
    "#Discriminator \n",
    "disc3 = network.Discriminator(n_features+1).to(device)\n",
    "\n",
    "criterion = torch.nn.BCELoss()\n",
    "gen_opt = torch.optim.Adam(gen3.parameters(), lr=0.001, betas=(0.5, 0.999))\n",
    "disc_opt = torch.optim.Adam(disc3.parameters(), lr=0.001, betas=(0.5, 0.999))\n"
   ]
  },
  {
   "cell_type": "code",
   "execution_count": 16,
   "id": "26acbc37",
   "metadata": {
    "execution": {
     "iopub.execute_input": "2022-06-11T13:07:56.212310Z",
     "iopub.status.busy": "2022-06-11T13:07:56.211925Z",
     "iopub.status.idle": "2022-06-11T14:09:19.665793Z",
     "shell.execute_reply": "2022-06-11T14:09:19.666132Z"
    },
    "id": "26acbc37",
    "papermill": {
     "duration": 3683.47097,
     "end_time": "2022-06-11T14:09:19.666340",
     "exception": false,
     "start_time": "2022-06-11T13:07:56.195370",
     "status": "completed"
    },
    "tags": []
   },
   "outputs": [
    {
     "data": {
      "image/png": "[encoded data removed]",
      "text/plain": [
       "<Figure size 432x288 with 1 Axes>"
      ]
     },
     "metadata": {
      "needs_background": "light"
     },
     "output_type": "display_data"
    },
    {
     "data": {
      "image/png": "[encoded data removed]",
      "text/plain": [
       "<Figure size 432x288 with 1 Axes>"
      ]
     },
     "metadata": {
      "needs_background": "light"
     },
     "output_type": "display_data"
    }
   ],
   "source": [
    "ABC_train_test2.training_GAN_skip_connection(disc3,gen3,disc_opt,gen_opt,train_data,batch_size,n_epochs,criterion,prior_model,variance,bias,device)"
   ]
  },
  {
   "cell_type": "code",
   "execution_count": 17,
   "id": "c5e0717b",
   "metadata": {
    "execution": {
     "iopub.execute_input": "2022-06-11T14:09:19.704522Z",
     "iopub.status.busy": "2022-06-11T14:09:19.704018Z",
     "iopub.status.idle": "2022-06-11T14:09:20.651535Z",
     "shell.execute_reply": "2022-06-11T14:09:20.651849Z"
    },
    "id": "c5e0717b",
    "papermill": {
     "duration": 0.967673,
     "end_time": "2022-06-11T14:09:20.651980",
     "exception": false,
     "start_time": "2022-06-11T14:09:19.684307",
     "status": "completed"
    },
    "tags": []
   },
   "outputs": [
    {
     "data": {
      "application/scrapbook.scrap.json+json": {
       "data": 0.09409455248263597,
       "encoder": "json",
       "name": "ABC-GAN Model 3 MSE",
       "version": 1
      }
     },
     "metadata": {
      "scrapbook": {
       "data": true,
       "display": false,
       "name": "ABC-GAN Model 3 MSE"
      }
     },
     "output_type": "display_data"
    },
    {
     "data": {
      "application/scrapbook.scrap.json+json": {
       "data": 0.22212039128566782,
       "encoder": "json",
       "name": "ABC-GAN Model 3 MAE",
       "version": 1
      }
     },
     "metadata": {
      "scrapbook": {
       "data": true,
       "display": false,
       "name": "ABC-GAN Model 3 MAE"
      }
     },
     "output_type": "display_data"
    },
    {
     "data": {
      "application/scrapbook.scrap.json+json": {
       "data": 22.656279911138117,
       "encoder": "json",
       "name": "ABC-GAN Model 3 Manhattan Distance",
       "version": 1
      }
     },
     "metadata": {
      "scrapbook": {
       "data": true,
       "display": false,
       "name": "ABC-GAN Model 3 Manhattan Distance"
      }
     },
     "output_type": "display_data"
    },
    {
     "data": {
      "application/scrapbook.scrap.json+json": {
       "data": 3.0955099113486333,
       "encoder": "json",
       "name": "ABC-GAN Model 3 Euclidean distance",
       "version": 1
      }
     },
     "metadata": {
      "scrapbook": {
       "data": true,
       "display": false,
       "name": "ABC-GAN Model 3 Euclidean distance"
      }
     },
     "output_type": "display_data"
    },
    {
     "data": {
      "application/scrapbook.scrap.json+json": {
       "data": [
        [
         0.09205200794465582,
         0.09029599637474527,
         0.0986668259775939,
         0.08949974892455924,
         0.09505412805740472,
         0.09293572088943163,
         0.09094367133491135,
         0.10047705084727392,
         0.08308379042406,
         0.09281666713482002,
         0.09016114402790826,
         0.08478755333184104,
         0.08453026710956418,
         0.07974852171627773,
         0.09172564325628564,
         0.09648457172698717,
         0.09289575475693934,
         0.09917827165126197,
         0.09490374534560685,
         0.09154436311782542,
         0.09307723301678578,
         0.09081854450033151,
         0.10278276370409738,
         0.09412319293333897,
         0.08625556527758392,
         0.10085727740804852,
         0.08919324550793195,
         0.0941640570722214,
         0.09329005778759704,
         0.10112230698626322,
         0.09387315810277667,
         0.10245978718347258,
         0.10589856776461239,
         0.09306711617935388,
         0.10504226338722485,
         0.09168331853842218,
         0.09588467256976277,
         0.08852674361037358,
         0.09338577485449306,
         0.1045095475442123,
         0.08333823397604846,
         0.09493405585697769,
         0.10660313177845132,
         0.0959540141007405,
         0.09447819473945337,
         0.10044817794021109,
         0.10367061099012904,
         0.08405677694611675,
         0.09454198995276268,
         0.10147978941415271,
         0.08859374234810208,
         0.09787093241475821,
         0.08766530901733101,
         0.0958570612976585,
         0.08923822682855356,
         0.08746796831779012,
         0.08851176388042603,
         0.0754551280922464,
         0.09210136334068372,
         0.10640267800796163,
         0.08871422812453758,
         0.09241650086514933,
         0.09976407326150703,
         0.08202944809369489,
         0.10152234004558743,
         0.10285203583139631,
         0.10513813287654696,
         0.08622659532612532,
         0.10518952958085453,
         0.10969979542582818,
         0.08449954972720397,
         0.08965306945951003,
         0.10522606128854232,
         0.10348554155813453,
         0.07740576052412158,
         0.09932350774531648,
         0.09334226784629976,
         0.0901010458218032,
         0.0820375265971377,
         0.10397459195490635,
         0.0913882201939885,
         0.08944943777991801,
         0.0974698062576471,
         0.10454198374250705,
         0.09528631278005577,
         0.08654723450098366,
         0.10173120603918118,
         0.09798533829356905,
         0.08755898901143905,
         0.09430664570778344,
         0.08281820018739938,
         0.0986125097023718,
         0.07744813047634526,
         0.10343297452287521,
         0.08238883219867568,
         0.09173676056903492,
         0.09984232264101406,
         0.10302122240614651,
         0.10011757444345715,
         0.1007001577355886
        ],
        [
         0.21654731489937096,
         0.2125217981234777,
         0.2370063569944571,
         0.2188779611103967,
         0.21917490173569498,
         0.2244243197070033,
         0.2166053972791369,
         0.23067940751492394,
         0.21561073769322214,
         0.21958875785782642,
         0.2212596792983366,
         0.21171192253264143,
         0.2096930003962388,
         0.20943053097774586,
         0.21703067650178484,
         0.22902363452914298,
         0.21722123375637273,
         0.22130345153238842,
         0.22059958174313402,
         0.2225941945707389,
         0.2191195082028999,
         0.21693902961252368,
         0.22649165208214053,
         0.23091860475274278,
         0.2239101565826465,
         0.22180426626594044,
         0.22234762191553326,
         0.2165815155478377,
         0.21754260567546474,
         0.22952050187935433,
         0.21831792419520663,
         0.23489406947776967,
         0.23362759436827665,
         0.2236247460230016,
         0.23017573570284774,
         0.2178447201446283,
         0.2235809017666707,
         0.22273823912894608,
         0.22486201419915056,
         0.23457563966147454,
         0.21668854065458565,
         0.21619927957106164,
         0.23450695589988255,
         0.22035574359709725,
         0.22781246464115149,
         0.22834857576983233,
         0.228827022545624,
         0.21112594653067052,
         0.22161894600254065,
         0.2276612441329395,
         0.21881976623234212,
         0.23108684496187112,
         0.21888384334377797,
         0.22976960484668904,
         0.2194707519466094,
         0.218471394066571,
         0.22004929719967584,
         0.19993987020251214,
         0.21731921652441516,
         0.2343387650691119,
         0.2142980467783762,
         0.22372023938406332,
         0.2252587749275799,
         0.21116788928196126,
         0.22694823534830527,
         0.22982512233669267,
         0.23361682696450575,
         0.21742748434417972,
         0.23339086283436594,
         0.23980283687877305,
         0.21385586380447244,
         0.21435707707104146,
         0.2323199779562214,
         0.22653418591282531,
         0.21289017717993142,
         0.22548187460165983,
         0.21772744749471837,
         0.2099284124469348,
         0.2126728246061533,
         0.23520655705429175,
         0.22101596751999036,
         0.220980009118862,
         0.22123484570971308,
         0.22598058629927098,
         0.22386507923696555,
         0.20646326841019533,
         0.2294209314071957,
         0.2239964193317528,
         0.21087188279146657,
         0.22545693005782133,
         0.21226510005619595,
         0.22290291777793683,
         0.2096491702375751,
         0.22779822577813677,
         0.21552017610520124,
         0.21546348266522675,
         0.23242998497524098,
         0.23655846906716332,
         0.22728648155416345,
         0.2248325035816022
        ],
        [
         22.087826119735837,
         21.677223408594728,
         24.174648413434625,
         22.325552033260465,
         22.355839977040887,
         22.891280610114336,
         22.093750522471964,
         23.52929956652224,
         21.992295244708657,
         22.398053301498294,
         22.568487288430333,
         21.594616098329425,
         21.38868604041636,
         21.361914159730077,
         22.137129003182054,
         23.360410721972585,
         22.15656584315002,
         22.57295205630362,
         22.50115733779967,
         22.704607846215367,
         22.35018983669579,
         22.127781020477414,
         23.102148512378335,
         23.553697684779763,
         22.838835971429944,
         22.624035159125924,
         22.679457435384393,
         22.091314585879445,
         22.189345778897405,
         23.41109119169414,
         22.268428267911077,
         23.959195086732507,
         23.830014625564218,
         22.809724094346166,
         23.47792504169047,
         22.220161454752088,
         22.80525198020041,
         22.7193003911525,
         22.935925448313355,
         23.926715245470405,
         22.102231146767735,
         22.052326516248286,
         23.91970950178802,
         22.47628584690392,
         23.23687139339745,
         23.291554728522897,
         23.34035629965365,
         21.534846546128392,
         22.605132492259145,
         23.22144690155983,
         22.319616155698895,
         23.570858186110854,
         22.326152021065354,
         23.436499694362283,
         22.386016698554158,
         22.284082194790244,
         22.445028314366937,
         20.393866760656238,
         22.166560085490346,
         23.902554037049413,
         21.858400771394372,
         22.81946441717446,
         22.97639504261315,
         21.53912470676005,
         23.14872000552714,
         23.442162478342652,
         23.828916350379586,
         22.177603403106332,
         23.805868009105325,
         24.45988936163485,
         21.813298108056188,
         21.864421861246228,
         23.69663775153458,
         23.106486963108182,
         21.714798072353005,
         22.999151209369302,
         22.208199644461274,
         21.41269806958735,
         21.692628109827638,
         23.99106881953776,
         22.543628687039018,
         22.539960930123925,
         22.565954262390733,
         23.05001980252564,
         22.834238082170486,
         21.059253377839923,
         23.40093500353396,
         22.847634771838784,
         21.50893204472959,
         22.996606865897775,
         21.651040205731988,
         22.736097613349557,
         21.38421536423266,
         23.23541902936995,
         21.983057962730527,
         21.977275231853127,
         23.70785846747458,
         24.12896384485066,
         23.18322111852467,
         22.932915365323424
        ],
        [
         3.0641972538260145,
         3.034829753087315,
         3.1723833705456492,
         3.0214192675471314,
         3.1137631672712813,
         3.0788704959322377,
         3.0456944160832933,
         3.2013527119675427,
         2.9111074564938546,
         3.0768977961173234,
         3.0325627266136874,
         2.9408043865323292,
         2.9363390889295373,
         2.8520780520631495,
         3.0587604698866393,
         3.1371047665248115,
         3.0782084050966736,
         3.18059486706948,
         3.1112990896491928,
         3.055736415010004,
         3.0812136842017543,
         3.0435984523313544,
         3.2378761399747717,
         3.09847796170968,
         2.9661536808320568,
         3.2074042925114603,
         3.016241210813395,
         3.0991504999542347,
         3.084734331240682,
         3.211615685694483,
         3.094359728034738,
         3.232784912844373,
         3.286586970093818,
         3.081046226575332,
         3.2732721954486057,
         3.0580546906357085,
         3.127336982500575,
         3.004950556707731,
         3.086316418509011,
         3.2649615387489095,
         2.9155616723981237,
         3.1117958958472385,
         3.2975020002119835,
         3.12846758625937,
         3.1043156835966674,
         3.2008927114012313,
         3.2518306107473007,
         2.9281036949711856,
         3.1053635818019427,
         3.217287447562554,
         3.006087443755822,
         3.1595624865328005,
         2.9902945540143304,
         3.1268866708534806,
         3.017001679898847,
         2.9869269774158513,
         3.0046963100791824,
         2.7742427913593164,
         3.065018606917377,
         3.2944002727070187,
         3.0081308596373986,
         3.0702578211357476,
         3.1899742119135874,
         2.8925773465124274,
         3.2179618836539863,
         3.2389670660262078,
         3.274765572282661,
         2.965655530108779,
         3.2755659079382236,
         3.3450529343247277,
         2.935805523561601,
         3.024006131751393,
         3.2761346509921276,
         3.248926782636032,
         2.80987323085231,
         3.1829228375853345,
         3.085597400880837,
         3.031551859002897,
         2.892719777805663,
         3.256594598564649,
         3.053129289726661,
         3.020569921976916,
         3.1530810706799155,
         3.265468165782009,
         3.117563776984471,
         2.9711644045896097,
         3.2212704040481417,
         3.1614086268535484,
         2.988480697472678,
         3.1014960683827906,
         2.90645082860776,
         3.1715100488004007,
         2.8106421523536604,
         3.2481015072397708,
         2.898906842978042,
         3.0589458279024093,
         3.1912249857043027,
         3.2416299427027355,
         3.1956208462883433,
         3.204905004681111
        ]
       ],
       "encoder": "json",
       "name": "ABC_GAN_3 Metrics",
       "version": 1
      }
     },
     "metadata": {
      "scrapbook": {
       "data": true,
       "display": false,
       "name": "ABC_GAN_3 Metrics"
      }
     },
     "output_type": "display_data"
    },
    {
     "name": "stdout",
     "output_type": "stream",
     "text": [
      "MSE\n",
      "0.09409455248263597\n"
     ]
    }
   ],
   "source": [
    "ABC_GAN3_metrics=ABC_train_test2.test_generator(gen3,test_data,prior_model,variance,bias,\"3\",device)\n",
    "sb.glue(\"ABC_GAN_3 Metrics\",ABC_GAN3_metrics)\n",
    "\n",
    "print(\"MSE\")\n",
    "print(mean(ABC_GAN3_metrics[0]))"
   ]
  },
  {
   "cell_type": "code",
   "execution_count": 18,
   "id": "c8e46b48",
   "metadata": {
    "execution": {
     "iopub.execute_input": "2022-06-11T14:09:20.689965Z",
     "iopub.status.busy": "2022-06-11T14:09:20.689560Z",
     "iopub.status.idle": "2022-06-11T14:09:21.024661Z",
     "shell.execute_reply": "2022-06-11T14:09:21.024916Z"
    },
    "id": "c8e46b48",
    "papermill": {
     "duration": 0.355506,
     "end_time": "2022-06-11T14:09:21.025041",
     "exception": false,
     "start_time": "2022-06-11T14:09:20.669535",
     "status": "completed"
    },
    "tags": []
   },
   "outputs": [
    {
     "data": {
      "image/png": "[encoded data removed]",
      "text/plain": [
       "<Figure size 432x288 with 1 Axes>"
      ]
     },
     "metadata": {
      "needs_background": "light"
     },
     "output_type": "display_data"
    },
    {
     "data": {
      "image/png": "[encoded data removed]",
      "text/plain": [
       "<Figure size 432x288 with 1 Axes>"
      ]
     },
     "metadata": {
      "needs_background": "light"
     },
     "output_type": "display_data"
    },
    {
     "data": {
      "image/png": "[encoded data removed]",
      "text/plain": [
       "<Figure size 432x288 with 1 Axes>"
      ]
     },
     "metadata": {
      "needs_background": "light"
     },
     "output_type": "display_data"
    },
    {
     "data": {
      "image/png": "[encoded data removed]",
      "text/plain": [
       "<Figure size 432x288 with 1 Axes>"
      ]
     },
     "metadata": {
      "needs_background": "light"
     },
     "output_type": "display_data"
    }
   ],
   "source": [
    "sanityChecks.discProbVsError(train_data,disc3,device)\n",
    "sanityChecks.discProbVsError(test_data,disc3,device)"
   ]
  },
  {
   "cell_type": "markdown",
   "id": "a5bd74c3",
   "metadata": {
    "id": "a5bd74c3",
    "papermill": {
     "duration": 0.020128,
     "end_time": "2022-06-11T14:09:21.064828",
     "exception": false,
     "start_time": "2022-06-11T14:09:21.044700",
     "status": "completed"
    },
    "tags": []
   },
   "source": [
    "## Skip Connection Model Analysis - ABC-GAN "
   ]
  },
  {
   "cell_type": "markdown",
   "id": "5744a8bf",
   "metadata": {
    "id": "5744a8bf",
    "papermill": {
     "duration": 0.019421,
     "end_time": "2022-06-11T14:09:21.103868",
     "exception": false,
     "start_time": "2022-06-11T14:09:21.084447",
     "status": "completed"
    },
    "tags": []
   },
   "source": [
    "### Weight Analysis \n",
    "\n",
    "Study the weights of the skip connection layer\n",
    "\n",
    "Equation of the skip connection is \n",
    "\n",
    "$output = y_{gan} * w + y_{abc} * (1-w)$"
   ]
  },
  {
   "cell_type": "code",
   "execution_count": 19,
   "id": "52c31dea",
   "metadata": {
    "execution": {
     "iopub.execute_input": "2022-06-11T14:09:21.145661Z",
     "iopub.status.busy": "2022-06-11T14:09:21.145274Z",
     "iopub.status.idle": "2022-06-11T14:09:21.148583Z",
     "shell.execute_reply": "2022-06-11T14:09:21.148834Z"
    },
    "id": "52c31dea",
    "papermill": {
     "duration": 0.025553,
     "end_time": "2022-06-11T14:09:21.148949",
     "exception": false,
     "start_time": "2022-06-11T14:09:21.123396",
     "status": "completed"
    },
    "tags": []
   },
   "outputs": [
    {
     "name": "stdout",
     "output_type": "stream",
     "text": [
      "Weight of the node at skip connection\n",
      "Parameter containing:\n",
      "tensor([[0.1878]], requires_grad=True)\n"
     ]
    },
    {
     "data": {
      "application/scrapbook.scrap.json+json": {
       "data": 0.18783672153949738,
       "encoder": "json",
       "name": "Skip Connection Weight",
       "version": 1
      }
     },
     "metadata": {
      "scrapbook": {
       "data": true,
       "display": false,
       "name": "Skip Connection Weight"
      }
     },
     "output_type": "display_data"
    }
   ],
   "source": [
    "print(\"Weight of the node at skip connection\")\n",
    "for name,param in gen3.named_parameters():\n",
    "    if(name == \"skipNode.weight\"):\n",
    "        print(param)\n",
    "        sb.glue(\"Skip Connection Weight\",param.item())"
   ]
  }
 ],
 "metadata": {
  "colab": {
   "collapsed_sections": [],
   "name": "ABC_GAN_Model-Catboost_Pre-gen.ipynb",
   "provenance": []
  },
  "interpreter": {
   "hash": "31f2aee4e71d21fbe5cf8b01ff0e069b9275f58929596ceb00d14d90e3e16cd6"
  },
  "kernelspec": {
   "display_name": "Python 3 (ipykernel)",
   "language": "python",
   "name": "python3"
  },
  "language_info": {
   "codemirror_mode": {
    "name": "ipython",
    "version": 3
   },
   "file_extension": ".py",
   "mimetype": "text/x-python",
   "name": "python",
   "nbconvert_exporter": "python",
   "pygments_lexer": "ipython3",
   "version": "3.8.11"
  },
  "papermill": {
   "default_parameters": {},
   "duration": 5167.155996,
   "end_time": "2022-06-11T14:09:21.475407",
   "environment_variables": {},
   "exception": null,
   "input_path": "ABC_GAN-Catboost.ipynb",
   "output_path": "./ABC_GAN_Catboost/ABC-GAN_output_1_0.ipynb",
   "parameters": {
    "bias": 1,
    "variance": 1
   },
   "start_time": "2022-06-11T12:43:14.319411",
   "version": "2.3.3"
  }
 },
 "nbformat": 4,
 "nbformat_minor": 5
}