{
 "cells": [
  {
   "cell_type": "markdown",
   "id": "622780e6",
   "metadata": {
    "id": "622780e6",
    "papermill": {
     "duration": 0.023653,
     "end_time": "2022-06-11T16:13:09.622480",
     "exception": false,
     "start_time": "2022-06-11T16:13:09.598827",
     "status": "completed"
    },
    "tags": []
   },
   "source": [
    "## Import Libraries "
   ]
  },
  {
   "cell_type": "code",
   "execution_count": 1,
   "id": "a62397e3",
   "metadata": {
    "execution": {
     "iopub.execute_input": "2022-06-11T16:13:09.658150Z",
     "iopub.status.busy": "2022-06-11T16:13:09.657544Z",
     "iopub.status.idle": "2022-06-11T16:13:09.660020Z",
     "shell.execute_reply": "2022-06-11T16:13:09.660363Z"
    },
    "id": "a62397e3",
    "papermill": {
     "duration": 0.023156,
     "end_time": "2022-06-11T16:13:09.660583",
     "exception": false,
     "start_time": "2022-06-11T16:13:09.637427",
     "status": "completed"
    },
    "tags": []
   },
   "outputs": [],
   "source": [
    "import warnings\n",
    "import sys\n",
    "sys.path.insert(0, '../../src')\n",
    "warnings.filterwarnings('ignore')"
   ]
  },
  {
   "cell_type": "code",
   "execution_count": 2,
   "id": "d6a4e155",
   "metadata": {
    "execution": {
     "iopub.execute_input": "2022-06-11T16:13:09.681052Z",
     "iopub.status.busy": "2022-06-11T16:13:09.680652Z",
     "iopub.status.idle": "2022-06-11T16:13:11.233416Z",
     "shell.execute_reply": "2022-06-11T16:13:11.233650Z"
    },
    "id": "d6a4e155",
    "papermill": {
     "duration": 1.563717,
     "end_time": "2022-06-11T16:13:11.233778",
     "exception": false,
     "start_time": "2022-06-11T16:13:09.670061",
     "status": "completed"
    },
    "tags": []
   },
   "outputs": [],
   "source": [
    "import ABC_train_test2\n",
    "import bostonDataset\n",
    "import network\n",
    "import dataset\n",
    "import sanityChecks\n",
    "import torch \n",
    "import scrapbook as sb\n",
    "from statistics import mean \n",
    "import catboost as ctb \n",
    "from sklearn.model_selection import train_test_split\n",
    "from sklearn.metrics import mean_squared_error,mean_absolute_error\n",
    "import numpy as np"
   ]
  },
  {
   "cell_type": "markdown",
   "id": "2fa5b0f7",
   "metadata": {
    "id": "2fa5b0f7",
    "papermill": {
     "duration": 0.007116,
     "end_time": "2022-06-11T16:13:11.247871",
     "exception": false,
     "start_time": "2022-06-11T16:13:11.240755",
     "status": "completed"
    },
    "tags": []
   },
   "source": [
    "## Parameters "
   ]
  },
  {
   "cell_type": "code",
   "execution_count": 3,
   "id": "783186fb",
   "metadata": {
    "execution": {
     "iopub.execute_input": "2022-06-11T16:13:11.263658Z",
     "iopub.status.busy": "2022-06-11T16:13:11.263284Z",
     "iopub.status.idle": "2022-06-11T16:13:11.264575Z",
     "shell.execute_reply": "2022-06-11T16:13:11.264892Z"
    },
    "id": "783186fb",
    "papermill": {
     "duration": 0.010345,
     "end_time": "2022-06-11T16:13:11.265035",
     "exception": false,
     "start_time": "2022-06-11T16:13:11.254690",
     "status": "completed"
    },
    "tags": [
     "parameters"
    ]
   },
   "outputs": [],
   "source": [
    "variance = 1\n",
    "bias = 1 "
   ]
  },
  {
   "cell_type": "code",
   "execution_count": 4,
   "id": "020199df",
   "metadata": {
    "execution": {
     "iopub.execute_input": "2022-06-11T16:13:11.280491Z",
     "iopub.status.busy": "2022-06-11T16:13:11.280138Z",
     "iopub.status.idle": "2022-06-11T16:13:11.281446Z",
     "shell.execute_reply": "2022-06-11T16:13:11.281698Z"
    },
    "papermill": {
     "duration": 0.009873,
     "end_time": "2022-06-11T16:13:11.281803",
     "exception": false,
     "start_time": "2022-06-11T16:13:11.271930",
     "status": "completed"
    },
    "tags": [
     "injected-parameters"
    ]
   },
   "outputs": [],
   "source": [
    "# Parameters\n",
    "variance = 1\n",
    "bias = 0.1\n"
   ]
  },
  {
   "cell_type": "markdown",
   "id": "391cdbfd",
   "metadata": {
    "id": "391cdbfd",
    "papermill": {
     "duration": 0.006592,
     "end_time": "2022-06-11T16:13:11.295124",
     "exception": false,
     "start_time": "2022-06-11T16:13:11.288532",
     "status": "completed"
    },
    "tags": []
   },
   "source": [
    "## Dataset \n"
   ]
  },
  {
   "cell_type": "code",
   "execution_count": 5,
   "id": "5b51f161",
   "metadata": {
    "execution": {
     "iopub.execute_input": "2022-06-11T16:13:11.310377Z",
     "iopub.status.busy": "2022-06-11T16:13:11.310004Z",
     "iopub.status.idle": "2022-06-11T16:13:11.311216Z",
     "shell.execute_reply": "2022-06-11T16:13:11.311440Z"
    },
    "id": "5b51f161",
    "papermill": {
     "duration": 0.009728,
     "end_time": "2022-06-11T16:13:11.311541",
     "exception": false,
     "start_time": "2022-06-11T16:13:11.301813",
     "status": "completed"
    },
    "tags": []
   },
   "outputs": [],
   "source": [
    "#Parameters \n",
    "n_features = 13\n",
    "n_samples= 506\n",
    "n_target = 1 "
   ]
  },
  {
   "cell_type": "code",
   "execution_count": 6,
   "id": "5d6eced4",
   "metadata": {
    "execution": {
     "iopub.execute_input": "2022-06-11T16:13:11.327006Z",
     "iopub.status.busy": "2022-06-11T16:13:11.326583Z",
     "iopub.status.idle": "2022-06-11T16:13:11.336692Z",
     "shell.execute_reply": "2022-06-11T16:13:11.336919Z"
    },
    "id": "5d6eced4",
    "papermill": {
     "duration": 0.018717,
     "end_time": "2022-06-11T16:13:11.337025",
     "exception": false,
     "start_time": "2022-06-11T16:13:11.318308",
     "status": "completed"
    },
    "tags": []
   },
   "outputs": [
    {
     "name": "stdout",
     "output_type": "stream",
     "text": [
      "         X1        X2        X3        X4        X5        X6        X7  \\\n",
      "0 -0.419782  0.284830 -1.287909 -0.272599 -0.144217  0.413672 -0.120013   \n",
      "1 -0.417339 -0.487722 -0.593381 -0.272599 -0.740262  0.194274  0.367166   \n",
      "2 -0.417342 -0.487722 -0.593381 -0.272599 -0.740262  1.282714 -0.265812   \n",
      "3 -0.416750 -0.487722 -1.306878 -0.272599 -0.835284  1.016303 -0.809889   \n",
      "4 -0.412482 -0.487722 -1.306878 -0.272599 -0.835284  1.228577 -0.511180   \n",
      "\n",
      "         X8        X9       X10       X11       X12       X13         Y  \n",
      "0  0.140214 -0.982843 -0.666608 -1.459000  0.441052 -1.075562  0.159686  \n",
      "1  0.557160 -0.867883 -0.987329 -0.303094  0.441052 -0.492439 -0.101524  \n",
      "2  0.557160 -0.867883 -0.987329 -0.303094  0.396427 -1.208727  1.324247  \n",
      "3  1.077737 -0.752922 -1.106115  0.113032  0.416163 -1.361517  1.182758  \n",
      "4  1.077737 -0.752922 -1.106115  0.113032  0.441052 -1.026501  1.487503  \n"
     ]
    }
   ],
   "source": [
    "X,Y = bostonDataset.boston_data()"
   ]
  },
  {
   "cell_type": "code",
   "execution_count": 7,
   "id": "fe007438",
   "metadata": {
    "execution": {
     "iopub.execute_input": "2022-06-11T16:13:11.354822Z",
     "iopub.status.busy": "2022-06-11T16:13:11.354458Z",
     "iopub.status.idle": "2022-06-11T16:13:11.356190Z",
     "shell.execute_reply": "2022-06-11T16:13:11.355939Z"
    },
    "id": "fe007438",
    "papermill": {
     "duration": 0.012118,
     "end_time": "2022-06-11T16:13:11.356287",
     "exception": false,
     "start_time": "2022-06-11T16:13:11.344169",
     "status": "completed"
    },
    "tags": []
   },
   "outputs": [],
   "source": [
    "#Train test split for dataset \n",
    "X_train,X_test,Y_train,Y_test = train_test_split(X,Y,test_size = 0.2)\n",
    "train_data = dataset.CustomDataset(X_train,Y_train)\n",
    "test_data = dataset.CustomDataset(X_test,Y_test)\n"
   ]
  },
  {
   "cell_type": "markdown",
   "id": "a9a1af34",
   "metadata": {
    "id": "a9a1af34",
    "papermill": {
     "duration": 0.00716,
     "end_time": "2022-06-11T16:13:11.370459",
     "exception": false,
     "start_time": "2022-06-11T16:13:11.363299",
     "status": "completed"
    },
    "tags": []
   },
   "source": [
    "## Training Parameters "
   ]
  },
  {
   "cell_type": "code",
   "execution_count": 8,
   "id": "952b7fc8",
   "metadata": {
    "execution": {
     "iopub.execute_input": "2022-06-11T16:13:11.387072Z",
     "iopub.status.busy": "2022-06-11T16:13:11.386634Z",
     "iopub.status.idle": "2022-06-11T16:13:11.387759Z",
     "shell.execute_reply": "2022-06-11T16:13:11.387988Z"
    },
    "id": "952b7fc8",
    "papermill": {
     "duration": 0.010686,
     "end_time": "2022-06-11T16:13:11.388098",
     "exception": false,
     "start_time": "2022-06-11T16:13:11.377412",
     "status": "completed"
    },
    "tags": []
   },
   "outputs": [],
   "source": [
    "batch_size = 32\n",
    "n_epochs = 1000\n",
    "#Select the device \n",
    "device = torch.device('cuda' if torch.cuda.is_available() else 'cpu')"
   ]
  },
  {
   "cell_type": "markdown",
   "id": "a95e1600",
   "metadata": {
    "id": "a95e1600",
    "papermill": {
     "duration": 0.006899,
     "end_time": "2022-06-11T16:13:11.402019",
     "exception": false,
     "start_time": "2022-06-11T16:13:11.395120",
     "status": "completed"
    },
    "tags": []
   },
   "source": [
    "# ABC Pre-generator Model \n",
    "\n",
    "1. The catboost model is used as a pre-generator model for the ABC-GAN. \n",
    "2. The model is first trained on the entire dataset \n",
    "3. It generats X,Y pairs and we add some Gaussian noise with mean 0 and variance 1 to it which is then feed as input to the generator.\n"
   ]
  },
  {
   "cell_type": "code",
   "execution_count": 9,
   "id": "ff8ce7bd",
   "metadata": {
    "execution": {
     "iopub.execute_input": "2022-06-11T16:13:11.420794Z",
     "iopub.status.busy": "2022-06-11T16:13:11.420404Z",
     "iopub.status.idle": "2022-06-11T16:13:12.400082Z",
     "shell.execute_reply": "2022-06-11T16:13:12.400369Z"
    },
    "id": "ff8ce7bd",
    "papermill": {
     "duration": 0.991547,
     "end_time": "2022-06-11T16:13:12.400495",
     "exception": false,
     "start_time": "2022-06-11T16:13:11.408948",
     "status": "completed"
    },
    "tags": []
   },
   "outputs": [
    {
     "name": "stdout",
     "output_type": "stream",
     "text": [
      "Learning rate set to 0.033215\n",
      "0:\tlearn: 0.9566736\ttotal: 58.7ms\tremaining: 58.6s\n",
      "1:\tlearn: 0.9378739\ttotal: 59.8ms\tremaining: 29.8s\n",
      "2:\tlearn: 0.9189575\ttotal: 60.8ms\tremaining: 20.2s\n",
      "3:\tlearn: 0.9036472\ttotal: 61.9ms\tremaining: 15.4s\n",
      "4:\tlearn: 0.8875400\ttotal: 63ms\tremaining: 12.5s\n",
      "5:\tlearn: 0.8712156\ttotal: 64ms\tremaining: 10.6s\n",
      "6:\tlearn: 0.8557262\ttotal: 65.1ms\tremaining: 9.23s\n",
      "7:\tlearn: 0.8406689\ttotal: 66ms\tremaining: 8.19s\n",
      "8:\tlearn: 0.8263517\ttotal: 67ms\tremaining: 7.38s\n",
      "9:\tlearn: 0.8119056\ttotal: 67.9ms\tremaining: 6.72s\n",
      "10:\tlearn: 0.7974377\ttotal: 68.8ms\tremaining: 6.19s\n",
      "11:\tlearn: 0.7829226\ttotal: 69.7ms\tremaining: 5.74s\n",
      "12:\tlearn: 0.7684408\ttotal: 70.6ms\tremaining: 5.36s\n",
      "13:\tlearn: 0.7547186\ttotal: 71.5ms\tremaining: 5.03s\n",
      "14:\tlearn: 0.7432879\ttotal: 72.4ms\tremaining: 4.75s\n",
      "15:\tlearn: 0.7290189\ttotal: 73.2ms\tremaining: 4.5s\n",
      "16:\tlearn: 0.7175678\ttotal: 74.1ms\tremaining: 4.29s\n",
      "17:\tlearn: 0.7059070\ttotal: 75ms\tremaining: 4.09s\n",
      "18:\tlearn: 0.6939039\ttotal: 75.8ms\tremaining: 3.92s\n",
      "19:\tlearn: 0.6820916\ttotal: 76.6ms\tremaining: 3.75s\n",
      "20:\tlearn: 0.6696860\ttotal: 77.4ms\tremaining: 3.61s\n",
      "21:\tlearn: 0.6590326\ttotal: 78.3ms\tremaining: 3.48s\n",
      "22:\tlearn: 0.6491923\ttotal: 79.2ms\tremaining: 3.36s\n",
      "23:\tlearn: 0.6394381\ttotal: 80ms\tremaining: 3.25s\n",
      "24:\tlearn: 0.6301658\ttotal: 80.8ms\tremaining: 3.15s\n",
      "25:\tlearn: 0.6219321\ttotal: 81.6ms\tremaining: 3.06s\n",
      "26:\tlearn: 0.6133756\ttotal: 82.4ms\tremaining: 2.97s\n",
      "27:\tlearn: 0.6050907\ttotal: 83.2ms\tremaining: 2.89s\n",
      "28:\tlearn: 0.5961426\ttotal: 84.1ms\tremaining: 2.82s\n",
      "29:\tlearn: 0.5864030\ttotal: 84.9ms\tremaining: 2.75s\n",
      "30:\tlearn: 0.5783050\ttotal: 85.7ms\tremaining: 2.68s\n",
      "31:\tlearn: 0.5703188\ttotal: 86.6ms\tremaining: 2.62s\n",
      "32:\tlearn: 0.5635513\ttotal: 87.3ms\tremaining: 2.56s\n",
      "33:\tlearn: 0.5561462\ttotal: 88.2ms\tremaining: 2.5s\n",
      "34:\tlearn: 0.5491902\ttotal: 88.9ms\tremaining: 2.45s\n",
      "35:\tlearn: 0.5421347\ttotal: 89.7ms\tremaining: 2.4s\n",
      "36:\tlearn: 0.5364732\ttotal: 90.7ms\tremaining: 2.36s\n",
      "37:\tlearn: 0.5299772\ttotal: 91.5ms\tremaining: 2.31s\n",
      "38:\tlearn: 0.5231702\ttotal: 92.3ms\tremaining: 2.27s\n",
      "39:\tlearn: 0.5164861\ttotal: 93ms\tremaining: 2.23s\n",
      "40:\tlearn: 0.5104256\ttotal: 93.7ms\tremaining: 2.19s\n",
      "41:\tlearn: 0.5049793\ttotal: 94.5ms\tremaining: 2.16s\n",
      "42:\tlearn: 0.4994043\ttotal: 95.3ms\tremaining: 2.12s\n",
      "43:\tlearn: 0.4949449\ttotal: 96ms\tremaining: 2.08s\n",
      "44:\tlearn: 0.4893139\ttotal: 96.7ms\tremaining: 2.05s\n",
      "45:\tlearn: 0.4833342\ttotal: 97.5ms\tremaining: 2.02s\n",
      "46:\tlearn: 0.4785077\ttotal: 98.2ms\tremaining: 1.99s\n",
      "47:\tlearn: 0.4727235\ttotal: 99ms\tremaining: 1.96s\n",
      "48:\tlearn: 0.4667369\ttotal: 99.7ms\tremaining: 1.93s\n",
      "49:\tlearn: 0.4621603\ttotal: 100ms\tremaining: 1.91s\n",
      "50:\tlearn: 0.4571406\ttotal: 101ms\tremaining: 1.88s\n",
      "51:\tlearn: 0.4525684\ttotal: 102ms\tremaining: 1.86s\n",
      "52:\tlearn: 0.4471215\ttotal: 103ms\tremaining: 1.85s\n",
      "53:\tlearn: 0.4432952\ttotal: 104ms\tremaining: 1.82s\n",
      "54:\tlearn: 0.4393469\ttotal: 105ms\tremaining: 1.8s\n",
      "55:\tlearn: 0.4354436\ttotal: 106ms\tremaining: 1.78s\n",
      "56:\tlearn: 0.4318524\ttotal: 107ms\tremaining: 1.76s\n",
      "57:\tlearn: 0.4273294\ttotal: 107ms\tremaining: 1.74s\n",
      "58:\tlearn: 0.4234982\ttotal: 108ms\tremaining: 1.72s\n"
     ]
    },
    {
     "name": "stdout",
     "output_type": "stream",
     "text": [
      "59:\tlearn: 0.4200428\ttotal: 109ms\tremaining: 1.71s\n",
      "60:\tlearn: 0.4165481\ttotal: 110ms\tremaining: 1.69s\n",
      "61:\tlearn: 0.4123788\ttotal: 110ms\tremaining: 1.67s\n",
      "62:\tlearn: 0.4087110\ttotal: 111ms\tremaining: 1.65s\n",
      "63:\tlearn: 0.4053071\ttotal: 112ms\tremaining: 1.64s\n",
      "64:\tlearn: 0.4019224\ttotal: 113ms\tremaining: 1.62s\n",
      "65:\tlearn: 0.3990057\ttotal: 114ms\tremaining: 1.61s\n",
      "66:\tlearn: 0.3946206\ttotal: 114ms\tremaining: 1.59s\n",
      "67:\tlearn: 0.3915110\ttotal: 115ms\tremaining: 1.58s\n",
      "68:\tlearn: 0.3883431\ttotal: 116ms\tremaining: 1.56s\n",
      "69:\tlearn: 0.3852920\ttotal: 117ms\tremaining: 1.55s\n",
      "70:\tlearn: 0.3817900\ttotal: 118ms\tremaining: 1.54s\n",
      "71:\tlearn: 0.3794294\ttotal: 118ms\tremaining: 1.53s\n",
      "72:\tlearn: 0.3769278\ttotal: 119ms\tremaining: 1.51s\n",
      "73:\tlearn: 0.3742940\ttotal: 121ms\tremaining: 1.51s\n",
      "74:\tlearn: 0.3718350\ttotal: 121ms\tremaining: 1.5s\n",
      "75:\tlearn: 0.3697811\ttotal: 122ms\tremaining: 1.49s\n",
      "76:\tlearn: 0.3672883\ttotal: 123ms\tremaining: 1.48s\n",
      "77:\tlearn: 0.3640458\ttotal: 124ms\tremaining: 1.46s\n",
      "78:\tlearn: 0.3607142\ttotal: 125ms\tremaining: 1.45s\n",
      "79:\tlearn: 0.3585078\ttotal: 126ms\tremaining: 1.44s\n",
      "80:\tlearn: 0.3564388\ttotal: 126ms\tremaining: 1.43s\n",
      "81:\tlearn: 0.3542127\ttotal: 127ms\tremaining: 1.42s\n",
      "82:\tlearn: 0.3515502\ttotal: 128ms\tremaining: 1.41s\n",
      "83:\tlearn: 0.3493772\ttotal: 129ms\tremaining: 1.4s\n",
      "84:\tlearn: 0.3470879\ttotal: 129ms\tremaining: 1.39s\n",
      "85:\tlearn: 0.3448025\ttotal: 130ms\tremaining: 1.38s\n",
      "86:\tlearn: 0.3416970\ttotal: 131ms\tremaining: 1.38s\n",
      "87:\tlearn: 0.3391253\ttotal: 132ms\tremaining: 1.37s\n",
      "88:\tlearn: 0.3370493\ttotal: 133ms\tremaining: 1.36s\n",
      "89:\tlearn: 0.3344126\ttotal: 133ms\tremaining: 1.35s\n",
      "90:\tlearn: 0.3324338\ttotal: 134ms\tremaining: 1.34s\n",
      "91:\tlearn: 0.3303611\ttotal: 135ms\tremaining: 1.33s\n",
      "92:\tlearn: 0.3289715\ttotal: 136ms\tremaining: 1.33s\n",
      "93:\tlearn: 0.3265701\ttotal: 137ms\tremaining: 1.32s\n",
      "94:\tlearn: 0.3250565\ttotal: 138ms\tremaining: 1.31s\n",
      "95:\tlearn: 0.3230682\ttotal: 139ms\tremaining: 1.31s\n",
      "96:\tlearn: 0.3210041\ttotal: 140ms\tremaining: 1.3s\n",
      "97:\tlearn: 0.3190836\ttotal: 140ms\tremaining: 1.29s\n",
      "98:\tlearn: 0.3172630\ttotal: 141ms\tremaining: 1.28s\n",
      "99:\tlearn: 0.3154243\ttotal: 142ms\tremaining: 1.28s\n",
      "100:\tlearn: 0.3138098\ttotal: 143ms\tremaining: 1.27s\n",
      "101:\tlearn: 0.3122959\ttotal: 144ms\tremaining: 1.26s\n",
      "102:\tlearn: 0.3108633\ttotal: 145ms\tremaining: 1.26s\n",
      "103:\tlearn: 0.3089858\ttotal: 145ms\tremaining: 1.25s\n",
      "104:\tlearn: 0.3073329\ttotal: 146ms\tremaining: 1.25s\n",
      "105:\tlearn: 0.3056348\ttotal: 147ms\tremaining: 1.24s\n",
      "106:\tlearn: 0.3040025\ttotal: 148ms\tremaining: 1.23s\n",
      "107:\tlearn: 0.3027824\ttotal: 149ms\tremaining: 1.23s\n",
      "108:\tlearn: 0.3016736\ttotal: 150ms\tremaining: 1.22s\n",
      "109:\tlearn: 0.3002789\ttotal: 150ms\tremaining: 1.22s\n",
      "110:\tlearn: 0.2992793\ttotal: 151ms\tremaining: 1.21s\n",
      "111:\tlearn: 0.2980309\ttotal: 152ms\tremaining: 1.2s\n",
      "112:\tlearn: 0.2968750\ttotal: 153ms\tremaining: 1.2s\n",
      "113:\tlearn: 0.2957936\ttotal: 153ms\tremaining: 1.19s\n",
      "114:\tlearn: 0.2946732\ttotal: 154ms\tremaining: 1.19s\n",
      "115:\tlearn: 0.2934210\ttotal: 155ms\tremaining: 1.18s\n",
      "116:\tlearn: 0.2923618\ttotal: 156ms\tremaining: 1.18s\n",
      "117:\tlearn: 0.2906727\ttotal: 157ms\tremaining: 1.17s\n",
      "118:\tlearn: 0.2894052\ttotal: 157ms\tremaining: 1.16s\n",
      "119:\tlearn: 0.2883847\ttotal: 158ms\tremaining: 1.16s\n",
      "120:\tlearn: 0.2867522\ttotal: 159ms\tremaining: 1.15s\n",
      "121:\tlearn: 0.2858322\ttotal: 160ms\tremaining: 1.15s\n",
      "122:\tlearn: 0.2847108\ttotal: 161ms\tremaining: 1.14s\n",
      "123:\tlearn: 0.2837502\ttotal: 161ms\tremaining: 1.14s\n",
      "124:\tlearn: 0.2827530\ttotal: 162ms\tremaining: 1.14s\n",
      "125:\tlearn: 0.2818970\ttotal: 163ms\tremaining: 1.13s\n",
      "126:\tlearn: 0.2806244\ttotal: 164ms\tremaining: 1.13s\n",
      "127:\tlearn: 0.2794398\ttotal: 165ms\tremaining: 1.12s\n",
      "128:\tlearn: 0.2782070\ttotal: 166ms\tremaining: 1.12s\n",
      "129:\tlearn: 0.2770890\ttotal: 166ms\tremaining: 1.11s\n",
      "130:\tlearn: 0.2760870\ttotal: 167ms\tremaining: 1.11s\n",
      "131:\tlearn: 0.2752990\ttotal: 168ms\tremaining: 1.1s\n",
      "132:\tlearn: 0.2739593\ttotal: 169ms\tremaining: 1.1s\n",
      "133:\tlearn: 0.2730730\ttotal: 170ms\tremaining: 1.1s\n",
      "134:\tlearn: 0.2720886\ttotal: 171ms\tremaining: 1.09s\n",
      "135:\tlearn: 0.2711715\ttotal: 171ms\tremaining: 1.09s\n",
      "136:\tlearn: 0.2703063\ttotal: 172ms\tremaining: 1.08s\n",
      "137:\tlearn: 0.2691475\ttotal: 173ms\tremaining: 1.08s\n",
      "138:\tlearn: 0.2679099\ttotal: 174ms\tremaining: 1.08s\n",
      "139:\tlearn: 0.2669511\ttotal: 175ms\tremaining: 1.07s\n",
      "140:\tlearn: 0.2660877\ttotal: 176ms\tremaining: 1.07s\n",
      "141:\tlearn: 0.2653040\ttotal: 176ms\tremaining: 1.06s\n",
      "142:\tlearn: 0.2649179\ttotal: 177ms\tremaining: 1.06s\n",
      "143:\tlearn: 0.2638644\ttotal: 178ms\tremaining: 1.06s\n",
      "144:\tlearn: 0.2628691\ttotal: 179ms\tremaining: 1.05s\n",
      "145:\tlearn: 0.2617713\ttotal: 180ms\tremaining: 1.05s\n",
      "146:\tlearn: 0.2610614\ttotal: 180ms\tremaining: 1.05s\n",
      "147:\tlearn: 0.2604512\ttotal: 181ms\tremaining: 1.04s\n",
      "148:\tlearn: 0.2595305\ttotal: 182ms\tremaining: 1.04s\n",
      "149:\tlearn: 0.2589464\ttotal: 183ms\tremaining: 1.04s\n",
      "150:\tlearn: 0.2578528\ttotal: 184ms\tremaining: 1.03s\n",
      "151:\tlearn: 0.2572462\ttotal: 185ms\tremaining: 1.03s\n",
      "152:\tlearn: 0.2566397\ttotal: 186ms\tremaining: 1.03s\n",
      "153:\tlearn: 0.2558019\ttotal: 186ms\tremaining: 1.02s\n",
      "154:\tlearn: 0.2551018\ttotal: 187ms\tremaining: 1.02s\n",
      "155:\tlearn: 0.2541322\ttotal: 188ms\tremaining: 1.02s\n",
      "156:\tlearn: 0.2533736\ttotal: 189ms\tremaining: 1.01s\n",
      "157:\tlearn: 0.2526441\ttotal: 190ms\tremaining: 1.01s\n",
      "158:\tlearn: 0.2515093\ttotal: 190ms\tremaining: 1.01s\n"
     ]
    },
    {
     "name": "stdout",
     "output_type": "stream",
     "text": [
      "159:\tlearn: 0.2509101\ttotal: 191ms\tremaining: 1s\n",
      "160:\tlearn: 0.2500356\ttotal: 192ms\tremaining: 1s\n",
      "161:\tlearn: 0.2493808\ttotal: 193ms\tremaining: 999ms\n",
      "162:\tlearn: 0.2486164\ttotal: 194ms\tremaining: 996ms\n",
      "163:\tlearn: 0.2480209\ttotal: 195ms\tremaining: 994ms\n",
      "164:\tlearn: 0.2474730\ttotal: 196ms\tremaining: 991ms\n",
      "165:\tlearn: 0.2467830\ttotal: 197ms\tremaining: 991ms\n",
      "166:\tlearn: 0.2463078\ttotal: 198ms\tremaining: 988ms\n",
      "167:\tlearn: 0.2455574\ttotal: 199ms\tremaining: 986ms\n",
      "168:\tlearn: 0.2449641\ttotal: 200ms\tremaining: 983ms\n",
      "169:\tlearn: 0.2442056\ttotal: 201ms\tremaining: 980ms\n",
      "170:\tlearn: 0.2435432\ttotal: 202ms\tremaining: 977ms\n",
      "171:\tlearn: 0.2426909\ttotal: 203ms\tremaining: 975ms\n",
      "172:\tlearn: 0.2420099\ttotal: 203ms\tremaining: 972ms\n",
      "173:\tlearn: 0.2411460\ttotal: 204ms\tremaining: 969ms\n",
      "174:\tlearn: 0.2404558\ttotal: 205ms\tremaining: 966ms\n",
      "175:\tlearn: 0.2398034\ttotal: 206ms\tremaining: 963ms\n",
      "176:\tlearn: 0.2389417\ttotal: 207ms\tremaining: 961ms\n",
      "177:\tlearn: 0.2384876\ttotal: 207ms\tremaining: 958ms\n",
      "178:\tlearn: 0.2378229\ttotal: 208ms\tremaining: 955ms\n",
      "179:\tlearn: 0.2371659\ttotal: 209ms\tremaining: 952ms\n",
      "180:\tlearn: 0.2363809\ttotal: 210ms\tremaining: 949ms\n",
      "181:\tlearn: 0.2359564\ttotal: 211ms\tremaining: 947ms\n",
      "182:\tlearn: 0.2351749\ttotal: 211ms\tremaining: 944ms\n",
      "183:\tlearn: 0.2347448\ttotal: 212ms\tremaining: 941ms\n",
      "184:\tlearn: 0.2341621\ttotal: 213ms\tremaining: 939ms\n",
      "185:\tlearn: 0.2334385\ttotal: 214ms\tremaining: 937ms\n",
      "186:\tlearn: 0.2327336\ttotal: 215ms\tremaining: 934ms\n",
      "187:\tlearn: 0.2321572\ttotal: 216ms\tremaining: 931ms\n",
      "188:\tlearn: 0.2315688\ttotal: 216ms\tremaining: 929ms\n",
      "189:\tlearn: 0.2310425\ttotal: 217ms\tremaining: 926ms\n",
      "190:\tlearn: 0.2304581\ttotal: 218ms\tremaining: 924ms\n",
      "191:\tlearn: 0.2300086\ttotal: 219ms\tremaining: 922ms\n",
      "192:\tlearn: 0.2293616\ttotal: 220ms\tremaining: 919ms\n",
      "193:\tlearn: 0.2286421\ttotal: 221ms\tremaining: 917ms\n",
      "194:\tlearn: 0.2277864\ttotal: 221ms\tremaining: 914ms\n",
      "195:\tlearn: 0.2273039\ttotal: 222ms\tremaining: 912ms\n",
      "196:\tlearn: 0.2269244\ttotal: 223ms\tremaining: 909ms\n",
      "197:\tlearn: 0.2265617\ttotal: 224ms\tremaining: 907ms\n",
      "198:\tlearn: 0.2260920\ttotal: 225ms\tremaining: 905ms\n",
      "199:\tlearn: 0.2256607\ttotal: 226ms\tremaining: 903ms\n",
      "200:\tlearn: 0.2249670\ttotal: 227ms\tremaining: 901ms\n",
      "201:\tlearn: 0.2244406\ttotal: 227ms\tremaining: 899ms\n",
      "202:\tlearn: 0.2238219\ttotal: 228ms\tremaining: 896ms\n",
      "203:\tlearn: 0.2233263\ttotal: 229ms\tremaining: 893ms\n",
      "204:\tlearn: 0.2230298\ttotal: 230ms\tremaining: 891ms\n",
      "205:\tlearn: 0.2224935\ttotal: 231ms\tremaining: 889ms\n",
      "206:\tlearn: 0.2218100\ttotal: 231ms\tremaining: 886ms\n",
      "207:\tlearn: 0.2213937\ttotal: 232ms\tremaining: 884ms\n",
      "208:\tlearn: 0.2207626\ttotal: 233ms\tremaining: 882ms\n",
      "209:\tlearn: 0.2201331\ttotal: 234ms\tremaining: 879ms\n",
      "210:\tlearn: 0.2194925\ttotal: 235ms\tremaining: 877ms\n",
      "211:\tlearn: 0.2189453\ttotal: 235ms\tremaining: 875ms\n",
      "212:\tlearn: 0.2184557\ttotal: 236ms\tremaining: 874ms\n",
      "213:\tlearn: 0.2179647\ttotal: 237ms\tremaining: 872ms\n",
      "214:\tlearn: 0.2171795\ttotal: 238ms\tremaining: 870ms\n",
      "215:\tlearn: 0.2164221\ttotal: 239ms\tremaining: 868ms\n",
      "216:\tlearn: 0.2161282\ttotal: 240ms\tremaining: 866ms\n",
      "217:\tlearn: 0.2154568\ttotal: 241ms\tremaining: 864ms\n",
      "218:\tlearn: 0.2148479\ttotal: 242ms\tremaining: 862ms\n",
      "219:\tlearn: 0.2142427\ttotal: 242ms\tremaining: 859ms\n",
      "220:\tlearn: 0.2135846\ttotal: 243ms\tremaining: 857ms\n",
      "221:\tlearn: 0.2133264\ttotal: 244ms\tremaining: 855ms\n",
      "222:\tlearn: 0.2126673\ttotal: 245ms\tremaining: 853ms\n",
      "223:\tlearn: 0.2121626\ttotal: 246ms\tremaining: 851ms\n",
      "224:\tlearn: 0.2115588\ttotal: 246ms\tremaining: 849ms\n",
      "225:\tlearn: 0.2111656\ttotal: 247ms\tremaining: 847ms\n",
      "226:\tlearn: 0.2106094\ttotal: 248ms\tremaining: 845ms\n",
      "227:\tlearn: 0.2104030\ttotal: 249ms\tremaining: 843ms\n",
      "228:\tlearn: 0.2100390\ttotal: 250ms\tremaining: 841ms\n",
      "229:\tlearn: 0.2097449\ttotal: 250ms\tremaining: 839ms\n",
      "230:\tlearn: 0.2095351\ttotal: 251ms\tremaining: 837ms\n",
      "231:\tlearn: 0.2092024\ttotal: 252ms\tremaining: 834ms\n",
      "232:\tlearn: 0.2086570\ttotal: 253ms\tremaining: 832ms\n",
      "233:\tlearn: 0.2084356\ttotal: 254ms\tremaining: 831ms\n",
      "234:\tlearn: 0.2078306\ttotal: 254ms\tremaining: 828ms\n",
      "235:\tlearn: 0.2075083\ttotal: 255ms\tremaining: 826ms\n",
      "236:\tlearn: 0.2073305\ttotal: 256ms\tremaining: 824ms\n",
      "237:\tlearn: 0.2071346\ttotal: 257ms\tremaining: 823ms\n",
      "238:\tlearn: 0.2069042\ttotal: 258ms\tremaining: 820ms\n",
      "239:\tlearn: 0.2061188\ttotal: 259ms\tremaining: 819ms\n",
      "240:\tlearn: 0.2055406\ttotal: 259ms\tremaining: 817ms\n",
      "241:\tlearn: 0.2053232\ttotal: 260ms\tremaining: 815ms\n",
      "242:\tlearn: 0.2051202\ttotal: 261ms\tremaining: 813ms\n",
      "243:\tlearn: 0.2049362\ttotal: 262ms\tremaining: 811ms\n",
      "244:\tlearn: 0.2047765\ttotal: 263ms\tremaining: 809ms\n",
      "245:\tlearn: 0.2046466\ttotal: 263ms\tremaining: 807ms\n",
      "246:\tlearn: 0.2041792\ttotal: 264ms\tremaining: 806ms\n",
      "247:\tlearn: 0.2039973\ttotal: 265ms\tremaining: 803ms\n",
      "248:\tlearn: 0.2032559\ttotal: 266ms\tremaining: 802ms\n",
      "249:\tlearn: 0.2030613\ttotal: 267ms\tremaining: 800ms\n",
      "250:\tlearn: 0.2024757\ttotal: 267ms\tremaining: 798ms\n",
      "251:\tlearn: 0.2020499\ttotal: 268ms\tremaining: 796ms\n",
      "252:\tlearn: 0.2012355\ttotal: 269ms\tremaining: 795ms\n",
      "253:\tlearn: 0.2007411\ttotal: 270ms\tremaining: 793ms\n",
      "254:\tlearn: 0.2004060\ttotal: 271ms\tremaining: 791ms\n",
      "255:\tlearn: 0.1996808\ttotal: 272ms\tremaining: 790ms\n",
      "256:\tlearn: 0.1993204\ttotal: 273ms\tremaining: 788ms\n",
      "257:\tlearn: 0.1989218\ttotal: 273ms\tremaining: 786ms\n",
      "258:\tlearn: 0.1984645\ttotal: 274ms\tremaining: 784ms\n",
      "259:\tlearn: 0.1980291\ttotal: 275ms\tremaining: 782ms\n",
      "260:\tlearn: 0.1974861\ttotal: 276ms\tremaining: 781ms\n",
      "261:\tlearn: 0.1971554\ttotal: 277ms\tremaining: 780ms\n",
      "262:\tlearn: 0.1965326\ttotal: 278ms\tremaining: 778ms\n",
      "263:\tlearn: 0.1962639\ttotal: 279ms\tremaining: 777ms\n",
      "264:\tlearn: 0.1957284\ttotal: 279ms\tremaining: 775ms\n",
      "265:\tlearn: 0.1954718\ttotal: 280ms\tremaining: 773ms\n",
      "266:\tlearn: 0.1950645\ttotal: 281ms\tremaining: 771ms\n",
      "267:\tlearn: 0.1943071\ttotal: 282ms\tremaining: 770ms\n",
      "268:\tlearn: 0.1935235\ttotal: 283ms\tremaining: 768ms\n",
      "269:\tlearn: 0.1928637\ttotal: 284ms\tremaining: 767ms\n",
      "270:\tlearn: 0.1926188\ttotal: 284ms\tremaining: 765ms\n",
      "271:\tlearn: 0.1920052\ttotal: 285ms\tremaining: 763ms\n",
      "272:\tlearn: 0.1914361\ttotal: 286ms\tremaining: 761ms\n",
      "273:\tlearn: 0.1912699\ttotal: 287ms\tremaining: 760ms\n",
      "274:\tlearn: 0.1911473\ttotal: 288ms\tremaining: 758ms\n",
      "275:\tlearn: 0.1907244\ttotal: 288ms\tremaining: 756ms\n",
      "276:\tlearn: 0.1905654\ttotal: 289ms\tremaining: 755ms\n",
      "277:\tlearn: 0.1902121\ttotal: 290ms\tremaining: 753ms\n",
      "278:\tlearn: 0.1898665\ttotal: 291ms\tremaining: 751ms\n",
      "279:\tlearn: 0.1897383\ttotal: 292ms\tremaining: 750ms\n",
      "280:\tlearn: 0.1890680\ttotal: 292ms\tremaining: 748ms\n",
      "281:\tlearn: 0.1887237\ttotal: 293ms\tremaining: 746ms\n",
      "282:\tlearn: 0.1880290\ttotal: 294ms\tremaining: 745ms\n",
      "283:\tlearn: 0.1873474\ttotal: 295ms\tremaining: 743ms\n",
      "284:\tlearn: 0.1872227\ttotal: 295ms\tremaining: 741ms\n",
      "285:\tlearn: 0.1866766\ttotal: 296ms\tremaining: 740ms\n",
      "286:\tlearn: 0.1861451\ttotal: 297ms\tremaining: 738ms\n",
      "287:\tlearn: 0.1859850\ttotal: 298ms\tremaining: 736ms\n"
     ]
    },
    {
     "name": "stdout",
     "output_type": "stream",
     "text": [
      "288:\tlearn: 0.1858022\ttotal: 299ms\tremaining: 735ms\n",
      "289:\tlearn: 0.1856820\ttotal: 300ms\tremaining: 734ms\n",
      "290:\tlearn: 0.1855382\ttotal: 300ms\tremaining: 732ms\n",
      "291:\tlearn: 0.1849286\ttotal: 301ms\tremaining: 730ms\n",
      "292:\tlearn: 0.1848307\ttotal: 302ms\tremaining: 729ms\n",
      "293:\tlearn: 0.1843243\ttotal: 303ms\tremaining: 728ms\n",
      "294:\tlearn: 0.1836786\ttotal: 304ms\tremaining: 726ms\n",
      "295:\tlearn: 0.1831802\ttotal: 305ms\tremaining: 724ms\n",
      "296:\tlearn: 0.1826935\ttotal: 305ms\tremaining: 723ms\n",
      "297:\tlearn: 0.1824016\ttotal: 306ms\tremaining: 722ms\n",
      "298:\tlearn: 0.1818401\ttotal: 307ms\tremaining: 720ms\n",
      "299:\tlearn: 0.1812174\ttotal: 308ms\tremaining: 719ms\n",
      "300:\tlearn: 0.1806913\ttotal: 309ms\tremaining: 717ms\n",
      "301:\tlearn: 0.1802835\ttotal: 310ms\tremaining: 716ms\n",
      "302:\tlearn: 0.1800909\ttotal: 311ms\tremaining: 715ms\n",
      "303:\tlearn: 0.1797039\ttotal: 312ms\tremaining: 713ms\n",
      "304:\tlearn: 0.1793010\ttotal: 312ms\tremaining: 712ms\n",
      "305:\tlearn: 0.1791957\ttotal: 313ms\tremaining: 710ms\n",
      "306:\tlearn: 0.1790595\ttotal: 314ms\tremaining: 709ms\n",
      "307:\tlearn: 0.1789057\ttotal: 315ms\tremaining: 707ms\n",
      "308:\tlearn: 0.1786457\ttotal: 316ms\tremaining: 706ms\n",
      "309:\tlearn: 0.1782133\ttotal: 317ms\tremaining: 705ms\n",
      "310:\tlearn: 0.1776374\ttotal: 317ms\tremaining: 703ms\n",
      "311:\tlearn: 0.1771253\ttotal: 318ms\tremaining: 702ms\n",
      "312:\tlearn: 0.1767921\ttotal: 319ms\tremaining: 700ms\n",
      "313:\tlearn: 0.1763768\ttotal: 320ms\tremaining: 699ms\n",
      "314:\tlearn: 0.1759863\ttotal: 321ms\tremaining: 698ms\n",
      "315:\tlearn: 0.1756447\ttotal: 322ms\tremaining: 696ms\n",
      "316:\tlearn: 0.1751999\ttotal: 322ms\tremaining: 695ms\n",
      "317:\tlearn: 0.1745805\ttotal: 323ms\tremaining: 693ms\n",
      "318:\tlearn: 0.1741357\ttotal: 324ms\tremaining: 692ms\n",
      "319:\tlearn: 0.1739379\ttotal: 325ms\tremaining: 691ms\n",
      "320:\tlearn: 0.1735306\ttotal: 326ms\tremaining: 689ms\n",
      "321:\tlearn: 0.1734163\ttotal: 327ms\tremaining: 688ms\n",
      "322:\tlearn: 0.1730006\ttotal: 327ms\tremaining: 686ms\n",
      "323:\tlearn: 0.1725380\ttotal: 328ms\tremaining: 685ms\n",
      "324:\tlearn: 0.1723202\ttotal: 329ms\tremaining: 684ms\n",
      "325:\tlearn: 0.1720191\ttotal: 330ms\tremaining: 682ms\n",
      "326:\tlearn: 0.1715644\ttotal: 331ms\tremaining: 681ms\n",
      "327:\tlearn: 0.1710756\ttotal: 332ms\tremaining: 680ms\n",
      "328:\tlearn: 0.1706657\ttotal: 332ms\tremaining: 678ms\n",
      "329:\tlearn: 0.1705452\ttotal: 333ms\tremaining: 677ms\n",
      "330:\tlearn: 0.1702404\ttotal: 334ms\tremaining: 676ms\n",
      "331:\tlearn: 0.1699654\ttotal: 335ms\tremaining: 674ms\n",
      "332:\tlearn: 0.1694883\ttotal: 336ms\tremaining: 673ms\n",
      "333:\tlearn: 0.1692560\ttotal: 337ms\tremaining: 672ms\n",
      "334:\tlearn: 0.1690287\ttotal: 338ms\tremaining: 670ms\n",
      "335:\tlearn: 0.1687828\ttotal: 339ms\tremaining: 669ms\n",
      "336:\tlearn: 0.1686680\ttotal: 339ms\tremaining: 668ms\n",
      "337:\tlearn: 0.1685112\ttotal: 340ms\tremaining: 666ms\n",
      "338:\tlearn: 0.1684084\ttotal: 341ms\tremaining: 665ms\n",
      "339:\tlearn: 0.1678923\ttotal: 342ms\tremaining: 664ms\n",
      "340:\tlearn: 0.1677171\ttotal: 343ms\tremaining: 662ms\n",
      "341:\tlearn: 0.1673958\ttotal: 344ms\tremaining: 661ms\n",
      "342:\tlearn: 0.1672746\ttotal: 344ms\tremaining: 660ms\n",
      "343:\tlearn: 0.1667692\ttotal: 345ms\tremaining: 659ms\n",
      "344:\tlearn: 0.1663037\ttotal: 346ms\tremaining: 657ms\n",
      "345:\tlearn: 0.1661099\ttotal: 347ms\tremaining: 656ms\n",
      "346:\tlearn: 0.1656338\ttotal: 348ms\tremaining: 655ms\n",
      "347:\tlearn: 0.1651829\ttotal: 349ms\tremaining: 654ms\n",
      "348:\tlearn: 0.1646911\ttotal: 350ms\tremaining: 652ms\n",
      "349:\tlearn: 0.1642509\ttotal: 350ms\tremaining: 651ms\n",
      "350:\tlearn: 0.1638597\ttotal: 351ms\tremaining: 649ms\n",
      "351:\tlearn: 0.1637667\ttotal: 352ms\tremaining: 648ms\n",
      "352:\tlearn: 0.1634125\ttotal: 353ms\tremaining: 647ms\n",
      "353:\tlearn: 0.1629339\ttotal: 354ms\tremaining: 645ms\n",
      "354:\tlearn: 0.1625899\ttotal: 355ms\tremaining: 644ms\n",
      "355:\tlearn: 0.1622013\ttotal: 355ms\tremaining: 643ms\n",
      "356:\tlearn: 0.1618728\ttotal: 356ms\tremaining: 642ms\n",
      "357:\tlearn: 0.1616357\ttotal: 357ms\tremaining: 640ms\n",
      "358:\tlearn: 0.1611435\ttotal: 358ms\tremaining: 639ms\n",
      "359:\tlearn: 0.1608925\ttotal: 359ms\tremaining: 638ms\n",
      "360:\tlearn: 0.1607192\ttotal: 360ms\tremaining: 636ms\n",
      "361:\tlearn: 0.1603391\ttotal: 360ms\tremaining: 635ms\n",
      "362:\tlearn: 0.1600284\ttotal: 361ms\tremaining: 634ms\n",
      "363:\tlearn: 0.1596138\ttotal: 362ms\tremaining: 633ms\n",
      "364:\tlearn: 0.1594835\ttotal: 363ms\tremaining: 631ms\n",
      "365:\tlearn: 0.1593029\ttotal: 364ms\tremaining: 630ms\n",
      "366:\tlearn: 0.1588588\ttotal: 364ms\tremaining: 629ms\n",
      "367:\tlearn: 0.1582267\ttotal: 365ms\tremaining: 627ms\n",
      "368:\tlearn: 0.1577818\ttotal: 366ms\tremaining: 626ms\n",
      "369:\tlearn: 0.1575985\ttotal: 367ms\tremaining: 624ms\n",
      "370:\tlearn: 0.1574407\ttotal: 367ms\tremaining: 623ms\n",
      "371:\tlearn: 0.1569929\ttotal: 368ms\tremaining: 622ms\n",
      "372:\tlearn: 0.1567550\ttotal: 369ms\tremaining: 621ms\n",
      "373:\tlearn: 0.1564931\ttotal: 370ms\tremaining: 619ms\n",
      "374:\tlearn: 0.1561640\ttotal: 371ms\tremaining: 618ms\n",
      "375:\tlearn: 0.1557086\ttotal: 372ms\tremaining: 617ms\n",
      "376:\tlearn: 0.1554935\ttotal: 373ms\tremaining: 616ms\n",
      "377:\tlearn: 0.1553319\ttotal: 373ms\tremaining: 615ms\n",
      "378:\tlearn: 0.1549898\ttotal: 374ms\tremaining: 613ms\n",
      "379:\tlearn: 0.1547299\ttotal: 375ms\tremaining: 612ms\n",
      "380:\tlearn: 0.1544608\ttotal: 376ms\tremaining: 611ms\n",
      "381:\tlearn: 0.1542493\ttotal: 377ms\tremaining: 610ms\n",
      "382:\tlearn: 0.1539684\ttotal: 378ms\tremaining: 608ms\n",
      "383:\tlearn: 0.1536669\ttotal: 379ms\tremaining: 607ms\n",
      "384:\tlearn: 0.1531692\ttotal: 380ms\tremaining: 606ms\n",
      "385:\tlearn: 0.1529528\ttotal: 380ms\tremaining: 605ms\n"
     ]
    },
    {
     "name": "stdout",
     "output_type": "stream",
     "text": [
      "386:\tlearn: 0.1525830\ttotal: 381ms\tremaining: 604ms\n",
      "387:\tlearn: 0.1522390\ttotal: 382ms\tremaining: 603ms\n",
      "388:\tlearn: 0.1518874\ttotal: 383ms\tremaining: 602ms\n",
      "389:\tlearn: 0.1516770\ttotal: 384ms\tremaining: 601ms\n",
      "390:\tlearn: 0.1515183\ttotal: 385ms\tremaining: 600ms\n",
      "391:\tlearn: 0.1511743\ttotal: 386ms\tremaining: 598ms\n",
      "392:\tlearn: 0.1507941\ttotal: 387ms\tremaining: 597ms\n",
      "393:\tlearn: 0.1503753\ttotal: 387ms\tremaining: 596ms\n",
      "394:\tlearn: 0.1502814\ttotal: 388ms\tremaining: 595ms\n",
      "395:\tlearn: 0.1500724\ttotal: 389ms\tremaining: 593ms\n",
      "396:\tlearn: 0.1499959\ttotal: 390ms\tremaining: 592ms\n",
      "397:\tlearn: 0.1497098\ttotal: 391ms\tremaining: 591ms\n",
      "398:\tlearn: 0.1495829\ttotal: 391ms\tremaining: 590ms\n",
      "399:\tlearn: 0.1492563\ttotal: 392ms\tremaining: 588ms\n",
      "400:\tlearn: 0.1490350\ttotal: 393ms\tremaining: 587ms\n",
      "401:\tlearn: 0.1486666\ttotal: 394ms\tremaining: 586ms\n",
      "402:\tlearn: 0.1483590\ttotal: 395ms\tremaining: 585ms\n",
      "403:\tlearn: 0.1480148\ttotal: 396ms\tremaining: 584ms\n",
      "404:\tlearn: 0.1475933\ttotal: 396ms\tremaining: 582ms\n",
      "405:\tlearn: 0.1472367\ttotal: 397ms\tremaining: 581ms\n",
      "406:\tlearn: 0.1471534\ttotal: 398ms\tremaining: 580ms\n",
      "407:\tlearn: 0.1467860\ttotal: 399ms\tremaining: 579ms\n",
      "408:\tlearn: 0.1464501\ttotal: 400ms\tremaining: 578ms\n",
      "409:\tlearn: 0.1463175\ttotal: 400ms\tremaining: 576ms\n",
      "410:\tlearn: 0.1460323\ttotal: 401ms\tremaining: 575ms\n",
      "411:\tlearn: 0.1457408\ttotal: 402ms\tremaining: 574ms\n",
      "412:\tlearn: 0.1453660\ttotal: 403ms\tremaining: 573ms\n",
      "413:\tlearn: 0.1451167\ttotal: 404ms\tremaining: 572ms\n",
      "414:\tlearn: 0.1447518\ttotal: 405ms\tremaining: 571ms\n",
      "415:\tlearn: 0.1444598\ttotal: 406ms\tremaining: 570ms\n",
      "416:\tlearn: 0.1442332\ttotal: 407ms\tremaining: 568ms\n",
      "417:\tlearn: 0.1439984\ttotal: 407ms\tremaining: 567ms\n",
      "418:\tlearn: 0.1438755\ttotal: 408ms\tremaining: 566ms\n",
      "419:\tlearn: 0.1435449\ttotal: 409ms\tremaining: 565ms\n",
      "420:\tlearn: 0.1433280\ttotal: 410ms\tremaining: 564ms\n",
      "421:\tlearn: 0.1429747\ttotal: 411ms\tremaining: 563ms\n",
      "422:\tlearn: 0.1427407\ttotal: 411ms\tremaining: 561ms\n",
      "423:\tlearn: 0.1424995\ttotal: 412ms\tremaining: 560ms\n",
      "424:\tlearn: 0.1422618\ttotal: 413ms\tremaining: 559ms\n",
      "425:\tlearn: 0.1420279\ttotal: 414ms\tremaining: 558ms\n",
      "426:\tlearn: 0.1419680\ttotal: 415ms\tremaining: 556ms\n",
      "427:\tlearn: 0.1418464\ttotal: 415ms\tremaining: 555ms\n",
      "428:\tlearn: 0.1414603\ttotal: 416ms\tremaining: 554ms\n",
      "429:\tlearn: 0.1413517\ttotal: 417ms\tremaining: 553ms\n",
      "430:\tlearn: 0.1412100\ttotal: 418ms\tremaining: 552ms\n",
      "431:\tlearn: 0.1408937\ttotal: 419ms\tremaining: 550ms\n",
      "432:\tlearn: 0.1407561\ttotal: 419ms\tremaining: 549ms\n",
      "433:\tlearn: 0.1404257\ttotal: 420ms\tremaining: 548ms\n",
      "434:\tlearn: 0.1401347\ttotal: 421ms\tremaining: 547ms\n",
      "435:\tlearn: 0.1399035\ttotal: 422ms\tremaining: 546ms\n",
      "436:\tlearn: 0.1395587\ttotal: 423ms\tremaining: 545ms\n",
      "437:\tlearn: 0.1391549\ttotal: 423ms\tremaining: 543ms\n",
      "438:\tlearn: 0.1389758\ttotal: 424ms\tremaining: 542ms\n",
      "439:\tlearn: 0.1388486\ttotal: 425ms\tremaining: 541ms\n",
      "440:\tlearn: 0.1387094\ttotal: 426ms\tremaining: 540ms\n",
      "441:\tlearn: 0.1383084\ttotal: 427ms\tremaining: 538ms\n",
      "442:\tlearn: 0.1381784\ttotal: 427ms\tremaining: 537ms\n",
      "443:\tlearn: 0.1378005\ttotal: 428ms\tremaining: 536ms\n",
      "444:\tlearn: 0.1374568\ttotal: 429ms\tremaining: 535ms\n",
      "445:\tlearn: 0.1372562\ttotal: 430ms\tremaining: 534ms\n",
      "446:\tlearn: 0.1369077\ttotal: 431ms\tremaining: 533ms\n",
      "447:\tlearn: 0.1365803\ttotal: 432ms\tremaining: 532ms\n",
      "448:\tlearn: 0.1363402\ttotal: 433ms\tremaining: 531ms\n",
      "449:\tlearn: 0.1362778\ttotal: 433ms\tremaining: 530ms\n",
      "450:\tlearn: 0.1360825\ttotal: 434ms\tremaining: 529ms\n",
      "451:\tlearn: 0.1358332\ttotal: 435ms\tremaining: 528ms\n",
      "452:\tlearn: 0.1354568\ttotal: 436ms\tremaining: 527ms\n",
      "453:\tlearn: 0.1353227\ttotal: 437ms\tremaining: 525ms\n",
      "454:\tlearn: 0.1350211\ttotal: 437ms\tremaining: 524ms\n",
      "455:\tlearn: 0.1348821\ttotal: 438ms\tremaining: 523ms\n",
      "456:\tlearn: 0.1345285\ttotal: 439ms\tremaining: 522ms\n",
      "457:\tlearn: 0.1341689\ttotal: 440ms\tremaining: 521ms\n",
      "458:\tlearn: 0.1338156\ttotal: 441ms\tremaining: 519ms\n",
      "459:\tlearn: 0.1336665\ttotal: 442ms\tremaining: 518ms\n",
      "460:\tlearn: 0.1334790\ttotal: 443ms\tremaining: 517ms\n",
      "461:\tlearn: 0.1332824\ttotal: 443ms\tremaining: 516ms\n",
      "462:\tlearn: 0.1329376\ttotal: 444ms\tremaining: 515ms\n",
      "463:\tlearn: 0.1325605\ttotal: 445ms\tremaining: 514ms\n",
      "464:\tlearn: 0.1322414\ttotal: 446ms\tremaining: 513ms\n",
      "465:\tlearn: 0.1321463\ttotal: 447ms\tremaining: 512ms\n",
      "466:\tlearn: 0.1320565\ttotal: 448ms\tremaining: 511ms\n",
      "467:\tlearn: 0.1317583\ttotal: 448ms\tremaining: 510ms\n",
      "468:\tlearn: 0.1313234\ttotal: 449ms\tremaining: 509ms\n",
      "469:\tlearn: 0.1308868\ttotal: 450ms\tremaining: 507ms\n",
      "470:\tlearn: 0.1305244\ttotal: 451ms\tremaining: 507ms\n",
      "471:\tlearn: 0.1303140\ttotal: 452ms\tremaining: 505ms\n",
      "472:\tlearn: 0.1301820\ttotal: 453ms\tremaining: 504ms\n",
      "473:\tlearn: 0.1301243\ttotal: 453ms\tremaining: 503ms\n",
      "474:\tlearn: 0.1299252\ttotal: 454ms\tremaining: 502ms\n",
      "475:\tlearn: 0.1297281\ttotal: 455ms\tremaining: 501ms\n",
      "476:\tlearn: 0.1293310\ttotal: 456ms\tremaining: 500ms\n",
      "477:\tlearn: 0.1291461\ttotal: 457ms\tremaining: 499ms\n",
      "478:\tlearn: 0.1288527\ttotal: 457ms\tremaining: 497ms\n",
      "479:\tlearn: 0.1284948\ttotal: 458ms\tremaining: 496ms\n",
      "480:\tlearn: 0.1282460\ttotal: 459ms\tremaining: 495ms\n",
      "481:\tlearn: 0.1279407\ttotal: 460ms\tremaining: 494ms\n",
      "482:\tlearn: 0.1277484\ttotal: 461ms\tremaining: 493ms\n",
      "483:\tlearn: 0.1275470\ttotal: 461ms\tremaining: 492ms\n",
      "484:\tlearn: 0.1273962\ttotal: 462ms\tremaining: 491ms\n",
      "485:\tlearn: 0.1272064\ttotal: 463ms\tremaining: 490ms\n",
      "486:\tlearn: 0.1268263\ttotal: 464ms\tremaining: 489ms\n",
      "487:\tlearn: 0.1266743\ttotal: 465ms\tremaining: 488ms\n",
      "488:\tlearn: 0.1265047\ttotal: 466ms\tremaining: 486ms\n",
      "489:\tlearn: 0.1262851\ttotal: 466ms\tremaining: 485ms\n",
      "490:\tlearn: 0.1259851\ttotal: 467ms\tremaining: 484ms\n",
      "491:\tlearn: 0.1256295\ttotal: 468ms\tremaining: 483ms\n",
      "492:\tlearn: 0.1254183\ttotal: 469ms\tremaining: 482ms\n",
      "493:\tlearn: 0.1251688\ttotal: 470ms\tremaining: 481ms\n",
      "494:\tlearn: 0.1248168\ttotal: 471ms\tremaining: 481ms\n",
      "495:\tlearn: 0.1245091\ttotal: 472ms\tremaining: 479ms\n",
      "496:\tlearn: 0.1242999\ttotal: 473ms\tremaining: 478ms\n",
      "497:\tlearn: 0.1241950\ttotal: 473ms\tremaining: 477ms\n",
      "498:\tlearn: 0.1238946\ttotal: 474ms\tremaining: 476ms\n",
      "499:\tlearn: 0.1235701\ttotal: 475ms\tremaining: 475ms\n",
      "500:\tlearn: 0.1232784\ttotal: 476ms\tremaining: 474ms\n",
      "501:\tlearn: 0.1230477\ttotal: 477ms\tremaining: 473ms\n",
      "502:\tlearn: 0.1228800\ttotal: 478ms\tremaining: 472ms\n",
      "503:\tlearn: 0.1225720\ttotal: 479ms\tremaining: 471ms\n",
      "504:\tlearn: 0.1222919\ttotal: 479ms\tremaining: 470ms\n",
      "505:\tlearn: 0.1220977\ttotal: 480ms\tremaining: 469ms\n",
      "506:\tlearn: 0.1219706\ttotal: 481ms\tremaining: 468ms\n",
      "507:\tlearn: 0.1217820\ttotal: 482ms\tremaining: 467ms\n",
      "508:\tlearn: 0.1214975\ttotal: 483ms\tremaining: 466ms\n",
      "509:\tlearn: 0.1212450\ttotal: 484ms\tremaining: 465ms\n",
      "510:\tlearn: 0.1209981\ttotal: 484ms\tremaining: 464ms\n",
      "511:\tlearn: 0.1207554\ttotal: 485ms\tremaining: 463ms\n",
      "512:\tlearn: 0.1205194\ttotal: 486ms\tremaining: 462ms\n",
      "513:\tlearn: 0.1202309\ttotal: 487ms\tremaining: 461ms\n"
     ]
    },
    {
     "name": "stdout",
     "output_type": "stream",
     "text": [
      "514:\tlearn: 0.1200941\ttotal: 488ms\tremaining: 460ms\n",
      "515:\tlearn: 0.1198328\ttotal: 489ms\tremaining: 459ms\n",
      "516:\tlearn: 0.1196086\ttotal: 490ms\tremaining: 458ms\n",
      "517:\tlearn: 0.1193673\ttotal: 491ms\tremaining: 457ms\n",
      "518:\tlearn: 0.1191305\ttotal: 491ms\tremaining: 455ms\n",
      "519:\tlearn: 0.1189229\ttotal: 493ms\tremaining: 455ms\n",
      "520:\tlearn: 0.1186489\ttotal: 494ms\tremaining: 454ms\n",
      "521:\tlearn: 0.1184628\ttotal: 495ms\tremaining: 453ms\n",
      "522:\tlearn: 0.1182662\ttotal: 495ms\tremaining: 452ms\n",
      "523:\tlearn: 0.1182028\ttotal: 496ms\tremaining: 451ms\n",
      "524:\tlearn: 0.1180817\ttotal: 497ms\tremaining: 450ms\n",
      "525:\tlearn: 0.1177481\ttotal: 498ms\tremaining: 449ms\n",
      "526:\tlearn: 0.1175988\ttotal: 499ms\tremaining: 448ms\n",
      "527:\tlearn: 0.1173796\ttotal: 500ms\tremaining: 447ms\n",
      "528:\tlearn: 0.1171906\ttotal: 501ms\tremaining: 446ms\n",
      "529:\tlearn: 0.1170892\ttotal: 501ms\tremaining: 445ms\n",
      "530:\tlearn: 0.1169437\ttotal: 502ms\tremaining: 444ms\n",
      "531:\tlearn: 0.1167107\ttotal: 503ms\tremaining: 442ms\n",
      "532:\tlearn: 0.1165136\ttotal: 504ms\tremaining: 441ms\n",
      "533:\tlearn: 0.1163117\ttotal: 505ms\tremaining: 440ms\n",
      "534:\tlearn: 0.1161628\ttotal: 505ms\tremaining: 439ms\n",
      "535:\tlearn: 0.1159880\ttotal: 506ms\tremaining: 438ms\n",
      "536:\tlearn: 0.1158121\ttotal: 507ms\tremaining: 437ms\n",
      "537:\tlearn: 0.1157264\ttotal: 508ms\tremaining: 436ms\n",
      "538:\tlearn: 0.1154932\ttotal: 509ms\tremaining: 435ms\n",
      "539:\tlearn: 0.1153162\ttotal: 509ms\tremaining: 434ms\n",
      "540:\tlearn: 0.1151418\ttotal: 510ms\tremaining: 433ms\n",
      "541:\tlearn: 0.1150036\ttotal: 511ms\tremaining: 432ms\n",
      "542:\tlearn: 0.1147020\ttotal: 512ms\tremaining: 431ms\n",
      "543:\tlearn: 0.1144440\ttotal: 512ms\tremaining: 429ms\n",
      "544:\tlearn: 0.1142295\ttotal: 513ms\tremaining: 428ms\n",
      "545:\tlearn: 0.1140489\ttotal: 515ms\tremaining: 428ms\n",
      "546:\tlearn: 0.1138809\ttotal: 515ms\tremaining: 427ms\n",
      "547:\tlearn: 0.1136387\ttotal: 516ms\tremaining: 426ms\n",
      "548:\tlearn: 0.1135274\ttotal: 517ms\tremaining: 425ms\n",
      "549:\tlearn: 0.1132929\ttotal: 518ms\tremaining: 424ms\n",
      "550:\tlearn: 0.1132566\ttotal: 519ms\tremaining: 423ms\n",
      "551:\tlearn: 0.1132132\ttotal: 519ms\tremaining: 422ms\n",
      "552:\tlearn: 0.1130173\ttotal: 520ms\tremaining: 421ms\n",
      "553:\tlearn: 0.1128845\ttotal: 521ms\tremaining: 420ms\n",
      "554:\tlearn: 0.1126577\ttotal: 522ms\tremaining: 418ms\n",
      "555:\tlearn: 0.1125483\ttotal: 523ms\tremaining: 417ms\n",
      "556:\tlearn: 0.1123211\ttotal: 524ms\tremaining: 417ms\n",
      "557:\tlearn: 0.1120129\ttotal: 525ms\tremaining: 416ms\n",
      "558:\tlearn: 0.1119445\ttotal: 526ms\tremaining: 415ms\n",
      "559:\tlearn: 0.1116999\ttotal: 527ms\tremaining: 414ms\n",
      "560:\tlearn: 0.1114609\ttotal: 528ms\tremaining: 413ms\n",
      "561:\tlearn: 0.1112083\ttotal: 528ms\tremaining: 412ms\n",
      "562:\tlearn: 0.1110557\ttotal: 529ms\tremaining: 411ms\n",
      "563:\tlearn: 0.1107874\ttotal: 530ms\tremaining: 410ms\n",
      "564:\tlearn: 0.1105710\ttotal: 531ms\tremaining: 408ms\n",
      "565:\tlearn: 0.1104409\ttotal: 531ms\tremaining: 407ms\n",
      "566:\tlearn: 0.1104085\ttotal: 532ms\tremaining: 406ms\n",
      "567:\tlearn: 0.1102319\ttotal: 533ms\tremaining: 405ms\n",
      "568:\tlearn: 0.1099859\ttotal: 534ms\tremaining: 404ms\n",
      "569:\tlearn: 0.1097147\ttotal: 535ms\tremaining: 403ms\n",
      "570:\tlearn: 0.1094583\ttotal: 535ms\tremaining: 402ms\n",
      "571:\tlearn: 0.1093359\ttotal: 536ms\tremaining: 401ms\n",
      "572:\tlearn: 0.1090732\ttotal: 537ms\tremaining: 400ms\n",
      "573:\tlearn: 0.1088248\ttotal: 538ms\tremaining: 399ms\n",
      "574:\tlearn: 0.1087251\ttotal: 539ms\tremaining: 398ms\n",
      "575:\tlearn: 0.1085383\ttotal: 539ms\tremaining: 397ms\n",
      "576:\tlearn: 0.1083788\ttotal: 540ms\tremaining: 396ms\n",
      "577:\tlearn: 0.1082372\ttotal: 541ms\tremaining: 395ms\n",
      "578:\tlearn: 0.1079828\ttotal: 542ms\tremaining: 394ms\n",
      "579:\tlearn: 0.1078350\ttotal: 543ms\tremaining: 393ms\n",
      "580:\tlearn: 0.1076732\ttotal: 544ms\tremaining: 392ms\n",
      "581:\tlearn: 0.1074744\ttotal: 545ms\tremaining: 391ms\n",
      "582:\tlearn: 0.1072723\ttotal: 545ms\tremaining: 390ms\n",
      "583:\tlearn: 0.1071362\ttotal: 546ms\tremaining: 389ms\n",
      "584:\tlearn: 0.1069060\ttotal: 547ms\tremaining: 388ms\n",
      "585:\tlearn: 0.1067628\ttotal: 548ms\tremaining: 387ms\n",
      "586:\tlearn: 0.1065415\ttotal: 549ms\tremaining: 386ms\n",
      "587:\tlearn: 0.1064045\ttotal: 550ms\tremaining: 385ms\n",
      "588:\tlearn: 0.1062397\ttotal: 551ms\tremaining: 384ms\n",
      "589:\tlearn: 0.1061995\ttotal: 552ms\tremaining: 383ms\n",
      "590:\tlearn: 0.1061256\ttotal: 553ms\tremaining: 383ms\n",
      "591:\tlearn: 0.1059021\ttotal: 554ms\tremaining: 382ms\n",
      "592:\tlearn: 0.1056986\ttotal: 555ms\tremaining: 381ms\n",
      "593:\tlearn: 0.1055465\ttotal: 555ms\tremaining: 380ms\n",
      "594:\tlearn: 0.1053555\ttotal: 556ms\tremaining: 379ms\n",
      "595:\tlearn: 0.1052395\ttotal: 557ms\tremaining: 378ms\n",
      "596:\tlearn: 0.1050011\ttotal: 558ms\tremaining: 377ms\n",
      "597:\tlearn: 0.1047310\ttotal: 559ms\tremaining: 376ms\n",
      "598:\tlearn: 0.1045383\ttotal: 560ms\tremaining: 375ms\n",
      "599:\tlearn: 0.1042625\ttotal: 561ms\tremaining: 374ms\n",
      "600:\tlearn: 0.1041123\ttotal: 562ms\tremaining: 373ms\n",
      "601:\tlearn: 0.1038938\ttotal: 563ms\tremaining: 372ms\n",
      "602:\tlearn: 0.1037437\ttotal: 564ms\tremaining: 371ms\n",
      "603:\tlearn: 0.1036414\ttotal: 565ms\tremaining: 370ms\n",
      "604:\tlearn: 0.1035343\ttotal: 566ms\tremaining: 369ms\n",
      "605:\tlearn: 0.1034068\ttotal: 566ms\tremaining: 368ms\n",
      "606:\tlearn: 0.1032481\ttotal: 567ms\tremaining: 367ms\n",
      "607:\tlearn: 0.1031127\ttotal: 569ms\tremaining: 367ms\n",
      "608:\tlearn: 0.1029255\ttotal: 570ms\tremaining: 366ms\n",
      "609:\tlearn: 0.1026469\ttotal: 570ms\tremaining: 365ms\n"
     ]
    },
    {
     "name": "stdout",
     "output_type": "stream",
     "text": [
      "610:\tlearn: 0.1024576\ttotal: 571ms\tremaining: 364ms\n",
      "611:\tlearn: 0.1022682\ttotal: 572ms\tremaining: 363ms\n",
      "612:\tlearn: 0.1020687\ttotal: 573ms\tremaining: 362ms\n",
      "613:\tlearn: 0.1019463\ttotal: 574ms\tremaining: 361ms\n",
      "614:\tlearn: 0.1017626\ttotal: 575ms\tremaining: 360ms\n",
      "615:\tlearn: 0.1016135\ttotal: 576ms\tremaining: 359ms\n",
      "616:\tlearn: 0.1014655\ttotal: 577ms\tremaining: 358ms\n",
      "617:\tlearn: 0.1013240\ttotal: 577ms\tremaining: 357ms\n",
      "618:\tlearn: 0.1011683\ttotal: 578ms\tremaining: 356ms\n",
      "619:\tlearn: 0.1009522\ttotal: 579ms\tremaining: 355ms\n",
      "620:\tlearn: 0.1007053\ttotal: 580ms\tremaining: 354ms\n",
      "621:\tlearn: 0.1005630\ttotal: 581ms\tremaining: 353ms\n",
      "622:\tlearn: 0.1003581\ttotal: 581ms\tremaining: 352ms\n",
      "623:\tlearn: 0.1000839\ttotal: 582ms\tremaining: 351ms\n",
      "624:\tlearn: 0.0999172\ttotal: 583ms\tremaining: 350ms\n",
      "625:\tlearn: 0.0998180\ttotal: 584ms\tremaining: 349ms\n",
      "626:\tlearn: 0.0996011\ttotal: 585ms\tremaining: 348ms\n",
      "627:\tlearn: 0.0994960\ttotal: 585ms\tremaining: 347ms\n",
      "628:\tlearn: 0.0993536\ttotal: 586ms\tremaining: 346ms\n",
      "629:\tlearn: 0.0991506\ttotal: 587ms\tremaining: 345ms\n",
      "630:\tlearn: 0.0991164\ttotal: 588ms\tremaining: 344ms\n",
      "631:\tlearn: 0.0989215\ttotal: 589ms\tremaining: 343ms\n",
      "632:\tlearn: 0.0988134\ttotal: 590ms\tremaining: 342ms\n",
      "633:\tlearn: 0.0986935\ttotal: 590ms\tremaining: 341ms\n",
      "634:\tlearn: 0.0985022\ttotal: 591ms\tremaining: 340ms\n",
      "635:\tlearn: 0.0982661\ttotal: 592ms\tremaining: 339ms\n",
      "636:\tlearn: 0.0981295\ttotal: 593ms\tremaining: 338ms\n",
      "637:\tlearn: 0.0979422\ttotal: 594ms\tremaining: 337ms\n",
      "638:\tlearn: 0.0978773\ttotal: 595ms\tremaining: 336ms\n",
      "639:\tlearn: 0.0976688\ttotal: 595ms\tremaining: 335ms\n",
      "640:\tlearn: 0.0975097\ttotal: 596ms\tremaining: 334ms\n",
      "641:\tlearn: 0.0974266\ttotal: 597ms\tremaining: 333ms\n",
      "642:\tlearn: 0.0972982\ttotal: 598ms\tremaining: 332ms\n",
      "643:\tlearn: 0.0971306\ttotal: 599ms\tremaining: 331ms\n",
      "644:\tlearn: 0.0969378\ttotal: 599ms\tremaining: 330ms\n",
      "645:\tlearn: 0.0969202\ttotal: 600ms\tremaining: 329ms\n",
      "646:\tlearn: 0.0967191\ttotal: 601ms\tremaining: 328ms\n",
      "647:\tlearn: 0.0965505\ttotal: 602ms\tremaining: 327ms\n",
      "648:\tlearn: 0.0963673\ttotal: 603ms\tremaining: 326ms\n",
      "649:\tlearn: 0.0962236\ttotal: 603ms\tremaining: 325ms\n",
      "650:\tlearn: 0.0961973\ttotal: 604ms\tremaining: 324ms\n",
      "651:\tlearn: 0.0959996\ttotal: 605ms\tremaining: 323ms\n",
      "652:\tlearn: 0.0959253\ttotal: 606ms\tremaining: 322ms\n",
      "653:\tlearn: 0.0959034\ttotal: 607ms\tremaining: 321ms\n",
      "654:\tlearn: 0.0957110\ttotal: 607ms\tremaining: 320ms\n",
      "655:\tlearn: 0.0955963\ttotal: 608ms\tremaining: 319ms\n",
      "656:\tlearn: 0.0953944\ttotal: 609ms\tremaining: 318ms\n",
      "657:\tlearn: 0.0953024\ttotal: 610ms\tremaining: 317ms\n",
      "658:\tlearn: 0.0951798\ttotal: 611ms\tremaining: 316ms\n",
      "659:\tlearn: 0.0949903\ttotal: 611ms\tremaining: 315ms\n",
      "660:\tlearn: 0.0947635\ttotal: 612ms\tremaining: 314ms\n",
      "661:\tlearn: 0.0945843\ttotal: 613ms\tremaining: 313ms\n",
      "662:\tlearn: 0.0944338\ttotal: 614ms\tremaining: 312ms\n",
      "663:\tlearn: 0.0944166\ttotal: 615ms\tremaining: 311ms\n",
      "664:\tlearn: 0.0943039\ttotal: 616ms\tremaining: 310ms\n",
      "665:\tlearn: 0.0941271\ttotal: 616ms\tremaining: 309ms\n",
      "666:\tlearn: 0.0940235\ttotal: 617ms\tremaining: 308ms\n",
      "667:\tlearn: 0.0939109\ttotal: 618ms\tremaining: 307ms\n",
      "668:\tlearn: 0.0936478\ttotal: 619ms\tremaining: 306ms\n",
      "669:\tlearn: 0.0935814\ttotal: 620ms\tremaining: 305ms\n",
      "670:\tlearn: 0.0934617\ttotal: 621ms\tremaining: 304ms\n",
      "671:\tlearn: 0.0932521\ttotal: 622ms\tremaining: 303ms\n",
      "672:\tlearn: 0.0931105\ttotal: 622ms\tremaining: 302ms\n",
      "673:\tlearn: 0.0930144\ttotal: 623ms\tremaining: 301ms\n",
      "674:\tlearn: 0.0927746\ttotal: 624ms\tremaining: 300ms\n",
      "675:\tlearn: 0.0926108\ttotal: 625ms\tremaining: 299ms\n",
      "676:\tlearn: 0.0924787\ttotal: 626ms\tremaining: 298ms\n",
      "677:\tlearn: 0.0923216\ttotal: 626ms\tremaining: 297ms\n",
      "678:\tlearn: 0.0921815\ttotal: 627ms\tremaining: 297ms\n",
      "679:\tlearn: 0.0920894\ttotal: 628ms\tremaining: 296ms\n",
      "680:\tlearn: 0.0919830\ttotal: 629ms\tremaining: 295ms\n",
      "681:\tlearn: 0.0918337\ttotal: 630ms\tremaining: 294ms\n",
      "682:\tlearn: 0.0916447\ttotal: 631ms\tremaining: 293ms\n",
      "683:\tlearn: 0.0914587\ttotal: 631ms\tremaining: 292ms\n",
      "684:\tlearn: 0.0912576\ttotal: 632ms\tremaining: 291ms\n",
      "685:\tlearn: 0.0911599\ttotal: 633ms\tremaining: 290ms\n",
      "686:\tlearn: 0.0910407\ttotal: 634ms\tremaining: 289ms\n",
      "687:\tlearn: 0.0909228\ttotal: 635ms\tremaining: 288ms\n",
      "688:\tlearn: 0.0909084\ttotal: 636ms\tremaining: 287ms\n",
      "689:\tlearn: 0.0907974\ttotal: 637ms\tremaining: 286ms\n",
      "690:\tlearn: 0.0907204\ttotal: 637ms\tremaining: 285ms\n",
      "691:\tlearn: 0.0905319\ttotal: 638ms\tremaining: 284ms\n",
      "692:\tlearn: 0.0903639\ttotal: 639ms\tremaining: 283ms\n",
      "693:\tlearn: 0.0902441\ttotal: 640ms\tremaining: 282ms\n",
      "694:\tlearn: 0.0902179\ttotal: 641ms\tremaining: 281ms\n",
      "695:\tlearn: 0.0900319\ttotal: 641ms\tremaining: 280ms\n",
      "696:\tlearn: 0.0899667\ttotal: 642ms\tremaining: 279ms\n",
      "697:\tlearn: 0.0898225\ttotal: 643ms\tremaining: 278ms\n",
      "698:\tlearn: 0.0896085\ttotal: 644ms\tremaining: 277ms\n",
      "699:\tlearn: 0.0894505\ttotal: 644ms\tremaining: 276ms\n",
      "700:\tlearn: 0.0893380\ttotal: 645ms\tremaining: 275ms\n",
      "701:\tlearn: 0.0892574\ttotal: 646ms\tremaining: 274ms\n",
      "702:\tlearn: 0.0891183\ttotal: 647ms\tremaining: 273ms\n",
      "703:\tlearn: 0.0889383\ttotal: 648ms\tremaining: 272ms\n",
      "704:\tlearn: 0.0887976\ttotal: 648ms\tremaining: 271ms\n",
      "705:\tlearn: 0.0886680\ttotal: 649ms\tremaining: 270ms\n",
      "706:\tlearn: 0.0885408\ttotal: 650ms\tremaining: 269ms\n",
      "707:\tlearn: 0.0883373\ttotal: 651ms\tremaining: 268ms\n",
      "708:\tlearn: 0.0881122\ttotal: 652ms\tremaining: 268ms\n",
      "709:\tlearn: 0.0879511\ttotal: 653ms\tremaining: 267ms\n",
      "710:\tlearn: 0.0878462\ttotal: 653ms\tremaining: 266ms\n",
      "711:\tlearn: 0.0877438\ttotal: 654ms\tremaining: 265ms\n",
      "712:\tlearn: 0.0876865\ttotal: 655ms\tremaining: 264ms\n",
      "713:\tlearn: 0.0875280\ttotal: 656ms\tremaining: 263ms\n",
      "714:\tlearn: 0.0873591\ttotal: 657ms\tremaining: 262ms\n",
      "715:\tlearn: 0.0871062\ttotal: 658ms\tremaining: 261ms\n",
      "716:\tlearn: 0.0870765\ttotal: 659ms\tremaining: 260ms\n",
      "717:\tlearn: 0.0869253\ttotal: 659ms\tremaining: 259ms\n",
      "718:\tlearn: 0.0867821\ttotal: 660ms\tremaining: 258ms\n",
      "719:\tlearn: 0.0866926\ttotal: 661ms\tremaining: 257ms\n",
      "720:\tlearn: 0.0865189\ttotal: 662ms\tremaining: 256ms\n",
      "721:\tlearn: 0.0863748\ttotal: 663ms\tremaining: 255ms\n",
      "722:\tlearn: 0.0862003\ttotal: 664ms\tremaining: 254ms\n",
      "723:\tlearn: 0.0860632\ttotal: 664ms\tremaining: 253ms\n",
      "724:\tlearn: 0.0859253\ttotal: 665ms\tremaining: 252ms\n",
      "725:\tlearn: 0.0857874\ttotal: 666ms\tremaining: 251ms\n",
      "726:\tlearn: 0.0856455\ttotal: 667ms\tremaining: 250ms\n",
      "727:\tlearn: 0.0854419\ttotal: 668ms\tremaining: 250ms\n",
      "728:\tlearn: 0.0853309\ttotal: 669ms\tremaining: 249ms\n",
      "729:\tlearn: 0.0851405\ttotal: 670ms\tremaining: 248ms\n",
      "730:\tlearn: 0.0850197\ttotal: 670ms\tremaining: 247ms\n",
      "731:\tlearn: 0.0849983\ttotal: 671ms\tremaining: 246ms\n",
      "732:\tlearn: 0.0848371\ttotal: 672ms\tremaining: 245ms\n",
      "733:\tlearn: 0.0847506\ttotal: 673ms\tremaining: 244ms\n",
      "734:\tlearn: 0.0846258\ttotal: 674ms\tremaining: 243ms\n",
      "735:\tlearn: 0.0845034\ttotal: 675ms\tremaining: 242ms\n",
      "736:\tlearn: 0.0844419\ttotal: 676ms\tremaining: 241ms\n",
      "737:\tlearn: 0.0842706\ttotal: 676ms\tremaining: 240ms\n",
      "738:\tlearn: 0.0842260\ttotal: 677ms\tremaining: 239ms\n"
     ]
    },
    {
     "name": "stdout",
     "output_type": "stream",
     "text": [
      "739:\tlearn: 0.0840463\ttotal: 678ms\tremaining: 238ms\n",
      "740:\tlearn: 0.0839646\ttotal: 679ms\tremaining: 237ms\n",
      "741:\tlearn: 0.0839383\ttotal: 681ms\tremaining: 237ms\n",
      "742:\tlearn: 0.0837853\ttotal: 681ms\tremaining: 236ms\n",
      "743:\tlearn: 0.0836852\ttotal: 682ms\tremaining: 235ms\n",
      "744:\tlearn: 0.0836600\ttotal: 683ms\tremaining: 234ms\n",
      "745:\tlearn: 0.0835651\ttotal: 684ms\tremaining: 233ms\n",
      "746:\tlearn: 0.0835423\ttotal: 685ms\tremaining: 232ms\n",
      "747:\tlearn: 0.0835058\ttotal: 686ms\tremaining: 231ms\n",
      "748:\tlearn: 0.0833140\ttotal: 687ms\tremaining: 230ms\n",
      "749:\tlearn: 0.0831027\ttotal: 687ms\tremaining: 229ms\n",
      "750:\tlearn: 0.0829305\ttotal: 688ms\tremaining: 228ms\n",
      "751:\tlearn: 0.0828313\ttotal: 689ms\tremaining: 227ms\n",
      "752:\tlearn: 0.0826915\ttotal: 690ms\tremaining: 226ms\n",
      "753:\tlearn: 0.0825907\ttotal: 691ms\tremaining: 225ms\n",
      "754:\tlearn: 0.0824319\ttotal: 692ms\tremaining: 224ms\n",
      "755:\tlearn: 0.0822614\ttotal: 692ms\tremaining: 223ms\n",
      "756:\tlearn: 0.0820501\ttotal: 693ms\tremaining: 222ms\n",
      "757:\tlearn: 0.0820229\ttotal: 695ms\tremaining: 222ms\n",
      "758:\tlearn: 0.0819153\ttotal: 695ms\tremaining: 221ms\n",
      "759:\tlearn: 0.0818278\ttotal: 696ms\tremaining: 220ms\n",
      "760:\tlearn: 0.0817804\ttotal: 697ms\tremaining: 219ms\n",
      "761:\tlearn: 0.0816648\ttotal: 698ms\tremaining: 218ms\n",
      "762:\tlearn: 0.0815630\ttotal: 699ms\tremaining: 217ms\n",
      "763:\tlearn: 0.0815221\ttotal: 700ms\tremaining: 216ms\n",
      "764:\tlearn: 0.0814397\ttotal: 700ms\tremaining: 215ms\n",
      "765:\tlearn: 0.0813718\ttotal: 701ms\tremaining: 214ms\n",
      "766:\tlearn: 0.0811478\ttotal: 702ms\tremaining: 213ms\n",
      "767:\tlearn: 0.0810863\ttotal: 703ms\tremaining: 212ms\n",
      "768:\tlearn: 0.0809644\ttotal: 704ms\tremaining: 211ms\n",
      "769:\tlearn: 0.0807545\ttotal: 705ms\tremaining: 210ms\n",
      "770:\tlearn: 0.0806372\ttotal: 706ms\tremaining: 210ms\n",
      "771:\tlearn: 0.0805522\ttotal: 706ms\tremaining: 209ms\n",
      "772:\tlearn: 0.0804748\ttotal: 707ms\tremaining: 208ms\n",
      "773:\tlearn: 0.0803608\ttotal: 708ms\tremaining: 207ms\n",
      "774:\tlearn: 0.0802852\ttotal: 709ms\tremaining: 206ms\n",
      "775:\tlearn: 0.0801633\ttotal: 710ms\tremaining: 205ms\n",
      "776:\tlearn: 0.0800738\ttotal: 710ms\tremaining: 204ms\n",
      "777:\tlearn: 0.0800010\ttotal: 711ms\tremaining: 203ms\n",
      "778:\tlearn: 0.0798095\ttotal: 713ms\tremaining: 202ms\n",
      "779:\tlearn: 0.0796963\ttotal: 713ms\tremaining: 201ms\n",
      "780:\tlearn: 0.0796371\ttotal: 714ms\tremaining: 200ms\n",
      "781:\tlearn: 0.0795589\ttotal: 715ms\tremaining: 199ms\n",
      "782:\tlearn: 0.0794844\ttotal: 716ms\tremaining: 198ms\n",
      "783:\tlearn: 0.0793712\ttotal: 717ms\tremaining: 197ms\n",
      "784:\tlearn: 0.0792729\ttotal: 718ms\tremaining: 197ms\n",
      "785:\tlearn: 0.0791400\ttotal: 719ms\tremaining: 196ms\n",
      "786:\tlearn: 0.0790018\ttotal: 719ms\tremaining: 195ms\n",
      "787:\tlearn: 0.0788789\ttotal: 720ms\tremaining: 194ms\n",
      "788:\tlearn: 0.0787720\ttotal: 721ms\tremaining: 193ms\n",
      "789:\tlearn: 0.0785722\ttotal: 722ms\tremaining: 192ms\n",
      "790:\tlearn: 0.0785095\ttotal: 723ms\tremaining: 191ms\n",
      "791:\tlearn: 0.0783859\ttotal: 723ms\tremaining: 190ms\n",
      "792:\tlearn: 0.0782574\ttotal: 724ms\tremaining: 189ms\n",
      "793:\tlearn: 0.0781844\ttotal: 725ms\tremaining: 188ms\n",
      "794:\tlearn: 0.0780163\ttotal: 726ms\tremaining: 187ms\n",
      "795:\tlearn: 0.0779927\ttotal: 726ms\tremaining: 186ms\n",
      "796:\tlearn: 0.0778603\ttotal: 727ms\tremaining: 185ms\n",
      "797:\tlearn: 0.0776847\ttotal: 728ms\tremaining: 184ms\n",
      "798:\tlearn: 0.0775704\ttotal: 729ms\tremaining: 183ms\n",
      "799:\tlearn: 0.0774515\ttotal: 730ms\tremaining: 182ms\n",
      "800:\tlearn: 0.0773083\ttotal: 731ms\tremaining: 181ms\n",
      "801:\tlearn: 0.0772254\ttotal: 731ms\tremaining: 181ms\n",
      "802:\tlearn: 0.0770812\ttotal: 732ms\tremaining: 180ms\n",
      "803:\tlearn: 0.0769562\ttotal: 733ms\tremaining: 179ms\n",
      "804:\tlearn: 0.0768059\ttotal: 734ms\tremaining: 178ms\n",
      "805:\tlearn: 0.0767091\ttotal: 735ms\tremaining: 177ms\n",
      "806:\tlearn: 0.0765611\ttotal: 735ms\tremaining: 176ms\n",
      "807:\tlearn: 0.0764550\ttotal: 736ms\tremaining: 175ms\n",
      "808:\tlearn: 0.0763922\ttotal: 737ms\tremaining: 174ms\n",
      "809:\tlearn: 0.0763236\ttotal: 738ms\tremaining: 173ms\n",
      "810:\tlearn: 0.0762899\ttotal: 739ms\tremaining: 172ms\n",
      "811:\tlearn: 0.0762297\ttotal: 740ms\tremaining: 171ms\n",
      "812:\tlearn: 0.0761693\ttotal: 741ms\tremaining: 170ms\n",
      "813:\tlearn: 0.0760256\ttotal: 742ms\tremaining: 169ms\n",
      "814:\tlearn: 0.0759124\ttotal: 742ms\tremaining: 169ms\n",
      "815:\tlearn: 0.0758431\ttotal: 743ms\tremaining: 168ms\n",
      "816:\tlearn: 0.0756896\ttotal: 744ms\tremaining: 167ms\n",
      "817:\tlearn: 0.0755499\ttotal: 745ms\tremaining: 166ms\n",
      "818:\tlearn: 0.0754100\ttotal: 746ms\tremaining: 165ms\n",
      "819:\tlearn: 0.0752609\ttotal: 746ms\tremaining: 164ms\n",
      "820:\tlearn: 0.0751496\ttotal: 747ms\tremaining: 163ms\n",
      "821:\tlearn: 0.0750249\ttotal: 748ms\tremaining: 162ms\n",
      "822:\tlearn: 0.0748756\ttotal: 749ms\tremaining: 161ms\n",
      "823:\tlearn: 0.0747619\ttotal: 750ms\tremaining: 160ms\n",
      "824:\tlearn: 0.0746574\ttotal: 751ms\tremaining: 159ms\n",
      "825:\tlearn: 0.0746083\ttotal: 752ms\tremaining: 158ms\n",
      "826:\tlearn: 0.0744755\ttotal: 752ms\tremaining: 157ms\n",
      "827:\tlearn: 0.0743365\ttotal: 753ms\tremaining: 156ms\n",
      "828:\tlearn: 0.0742622\ttotal: 754ms\tremaining: 156ms\n",
      "829:\tlearn: 0.0741281\ttotal: 755ms\tremaining: 155ms\n",
      "830:\tlearn: 0.0740331\ttotal: 756ms\tremaining: 154ms\n",
      "831:\tlearn: 0.0739395\ttotal: 757ms\tremaining: 153ms\n",
      "832:\tlearn: 0.0738742\ttotal: 758ms\tremaining: 152ms\n",
      "833:\tlearn: 0.0737733\ttotal: 758ms\tremaining: 151ms\n",
      "834:\tlearn: 0.0736629\ttotal: 759ms\tremaining: 150ms\n",
      "835:\tlearn: 0.0736448\ttotal: 760ms\tremaining: 149ms\n",
      "836:\tlearn: 0.0735719\ttotal: 761ms\tremaining: 148ms\n"
     ]
    },
    {
     "name": "stdout",
     "output_type": "stream",
     "text": [
      "837:\tlearn: 0.0734388\ttotal: 762ms\tremaining: 147ms\n",
      "838:\tlearn: 0.0733434\ttotal: 763ms\tremaining: 146ms\n",
      "839:\tlearn: 0.0732312\ttotal: 764ms\tremaining: 145ms\n",
      "840:\tlearn: 0.0731792\ttotal: 765ms\tremaining: 145ms\n",
      "841:\tlearn: 0.0730196\ttotal: 765ms\tremaining: 144ms\n",
      "842:\tlearn: 0.0729101\ttotal: 766ms\tremaining: 143ms\n",
      "843:\tlearn: 0.0728549\ttotal: 767ms\tremaining: 142ms\n",
      "844:\tlearn: 0.0727218\ttotal: 768ms\tremaining: 141ms\n",
      "845:\tlearn: 0.0727030\ttotal: 769ms\tremaining: 140ms\n",
      "846:\tlearn: 0.0726433\ttotal: 770ms\tremaining: 139ms\n",
      "847:\tlearn: 0.0725278\ttotal: 770ms\tremaining: 138ms\n",
      "848:\tlearn: 0.0725112\ttotal: 771ms\tremaining: 137ms\n",
      "849:\tlearn: 0.0724782\ttotal: 773ms\tremaining: 136ms\n",
      "850:\tlearn: 0.0722919\ttotal: 773ms\tremaining: 135ms\n",
      "851:\tlearn: 0.0722216\ttotal: 774ms\tremaining: 134ms\n",
      "852:\tlearn: 0.0721462\ttotal: 775ms\tremaining: 134ms\n",
      "853:\tlearn: 0.0720299\ttotal: 776ms\tremaining: 133ms\n",
      "854:\tlearn: 0.0719165\ttotal: 777ms\tremaining: 132ms\n",
      "855:\tlearn: 0.0718446\ttotal: 778ms\tremaining: 131ms\n",
      "856:\tlearn: 0.0717655\ttotal: 778ms\tremaining: 130ms\n",
      "857:\tlearn: 0.0716645\ttotal: 779ms\tremaining: 129ms\n",
      "858:\tlearn: 0.0715556\ttotal: 780ms\tremaining: 128ms\n",
      "859:\tlearn: 0.0714958\ttotal: 781ms\tremaining: 127ms\n",
      "860:\tlearn: 0.0713556\ttotal: 782ms\tremaining: 126ms\n",
      "861:\tlearn: 0.0713161\ttotal: 783ms\tremaining: 125ms\n",
      "862:\tlearn: 0.0711760\ttotal: 783ms\tremaining: 124ms\n",
      "863:\tlearn: 0.0711139\ttotal: 784ms\tremaining: 123ms\n",
      "864:\tlearn: 0.0709736\ttotal: 785ms\tremaining: 122ms\n",
      "865:\tlearn: 0.0708992\ttotal: 786ms\tremaining: 122ms\n",
      "866:\tlearn: 0.0708832\ttotal: 786ms\tremaining: 121ms\n",
      "867:\tlearn: 0.0708567\ttotal: 787ms\tremaining: 120ms\n",
      "868:\tlearn: 0.0708190\ttotal: 788ms\tremaining: 119ms\n",
      "869:\tlearn: 0.0707154\ttotal: 789ms\tremaining: 118ms\n",
      "870:\tlearn: 0.0706619\ttotal: 790ms\tremaining: 117ms\n",
      "871:\tlearn: 0.0705031\ttotal: 790ms\tremaining: 116ms\n",
      "872:\tlearn: 0.0704020\ttotal: 791ms\tremaining: 115ms\n",
      "873:\tlearn: 0.0703852\ttotal: 793ms\tremaining: 114ms\n",
      "874:\tlearn: 0.0703271\ttotal: 794ms\tremaining: 113ms\n",
      "875:\tlearn: 0.0702537\ttotal: 794ms\tremaining: 112ms\n",
      "876:\tlearn: 0.0702149\ttotal: 795ms\tremaining: 112ms\n",
      "877:\tlearn: 0.0701997\ttotal: 796ms\tremaining: 111ms\n",
      "878:\tlearn: 0.0701388\ttotal: 797ms\tremaining: 110ms\n",
      "879:\tlearn: 0.0699991\ttotal: 798ms\tremaining: 109ms\n",
      "880:\tlearn: 0.0698652\ttotal: 799ms\tremaining: 108ms\n",
      "881:\tlearn: 0.0697172\ttotal: 800ms\tremaining: 107ms\n",
      "882:\tlearn: 0.0696327\ttotal: 800ms\tremaining: 106ms\n",
      "883:\tlearn: 0.0696176\ttotal: 801ms\tremaining: 105ms\n",
      "884:\tlearn: 0.0696027\ttotal: 802ms\tremaining: 104ms\n",
      "885:\tlearn: 0.0695072\ttotal: 803ms\tremaining: 103ms\n",
      "886:\tlearn: 0.0694310\ttotal: 804ms\tremaining: 102ms\n",
      "887:\tlearn: 0.0692645\ttotal: 804ms\tremaining: 101ms\n",
      "888:\tlearn: 0.0691390\ttotal: 805ms\tremaining: 101ms\n",
      "889:\tlearn: 0.0690046\ttotal: 806ms\tremaining: 99.6ms\n",
      "890:\tlearn: 0.0689163\ttotal: 807ms\tremaining: 98.7ms\n",
      "891:\tlearn: 0.0688474\ttotal: 808ms\tremaining: 97.8ms\n",
      "892:\tlearn: 0.0688234\ttotal: 809ms\tremaining: 96.9ms\n",
      "893:\tlearn: 0.0687741\ttotal: 810ms\tremaining: 96ms\n",
      "894:\tlearn: 0.0687266\ttotal: 810ms\tremaining: 95.1ms\n",
      "895:\tlearn: 0.0686731\ttotal: 811ms\tremaining: 94.2ms\n",
      "896:\tlearn: 0.0685669\ttotal: 812ms\tremaining: 93.3ms\n",
      "897:\tlearn: 0.0684960\ttotal: 813ms\tremaining: 92.4ms\n",
      "898:\tlearn: 0.0684085\ttotal: 814ms\tremaining: 91.4ms\n",
      "899:\tlearn: 0.0683946\ttotal: 815ms\tremaining: 90.5ms\n",
      "900:\tlearn: 0.0683182\ttotal: 815ms\tremaining: 89.6ms\n",
      "901:\tlearn: 0.0682520\ttotal: 816ms\tremaining: 88.7ms\n",
      "902:\tlearn: 0.0681855\ttotal: 817ms\tremaining: 87.8ms\n",
      "903:\tlearn: 0.0681031\ttotal: 818ms\tremaining: 86.8ms\n",
      "904:\tlearn: 0.0680215\ttotal: 819ms\tremaining: 85.9ms\n",
      "905:\tlearn: 0.0678899\ttotal: 819ms\tremaining: 85ms\n",
      "906:\tlearn: 0.0677867\ttotal: 820ms\tremaining: 84.1ms\n",
      "907:\tlearn: 0.0676857\ttotal: 821ms\tremaining: 83.2ms\n",
      "908:\tlearn: 0.0676203\ttotal: 822ms\tremaining: 82.3ms\n",
      "909:\tlearn: 0.0675305\ttotal: 823ms\tremaining: 81.4ms\n",
      "910:\tlearn: 0.0675188\ttotal: 823ms\tremaining: 80.4ms\n",
      "911:\tlearn: 0.0673987\ttotal: 824ms\tremaining: 79.5ms\n",
      "912:\tlearn: 0.0673523\ttotal: 825ms\tremaining: 78.6ms\n",
      "913:\tlearn: 0.0672791\ttotal: 826ms\tremaining: 77.7ms\n",
      "914:\tlearn: 0.0671921\ttotal: 827ms\tremaining: 76.8ms\n",
      "915:\tlearn: 0.0671766\ttotal: 828ms\tremaining: 75.9ms\n",
      "916:\tlearn: 0.0670466\ttotal: 829ms\tremaining: 75ms\n",
      "917:\tlearn: 0.0669182\ttotal: 829ms\tremaining: 74.1ms\n",
      "918:\tlearn: 0.0668533\ttotal: 830ms\tremaining: 73.2ms\n",
      "919:\tlearn: 0.0668451\ttotal: 831ms\tremaining: 72.2ms\n",
      "920:\tlearn: 0.0667952\ttotal: 832ms\tremaining: 71.3ms\n",
      "921:\tlearn: 0.0667373\ttotal: 833ms\tremaining: 70.4ms\n",
      "922:\tlearn: 0.0667246\ttotal: 833ms\tremaining: 69.5ms\n",
      "923:\tlearn: 0.0666092\ttotal: 834ms\tremaining: 68.6ms\n",
      "924:\tlearn: 0.0665661\ttotal: 835ms\tremaining: 67.7ms\n",
      "925:\tlearn: 0.0664960\ttotal: 836ms\tremaining: 66.8ms\n",
      "926:\tlearn: 0.0664592\ttotal: 837ms\tremaining: 65.9ms\n",
      "927:\tlearn: 0.0663223\ttotal: 838ms\tremaining: 65ms\n",
      "928:\tlearn: 0.0662270\ttotal: 838ms\tremaining: 64.1ms\n",
      "929:\tlearn: 0.0662146\ttotal: 839ms\tremaining: 63.2ms\n",
      "930:\tlearn: 0.0661642\ttotal: 840ms\tremaining: 62.3ms\n",
      "931:\tlearn: 0.0660340\ttotal: 841ms\tremaining: 61.4ms\n",
      "932:\tlearn: 0.0659442\ttotal: 842ms\tremaining: 60.5ms\n",
      "933:\tlearn: 0.0659095\ttotal: 843ms\tremaining: 59.6ms\n",
      "934:\tlearn: 0.0658404\ttotal: 844ms\tremaining: 58.6ms\n",
      "935:\tlearn: 0.0657719\ttotal: 844ms\tremaining: 57.7ms\n",
      "936:\tlearn: 0.0656413\ttotal: 845ms\tremaining: 56.8ms\n",
      "937:\tlearn: 0.0655368\ttotal: 846ms\tremaining: 55.9ms\n",
      "938:\tlearn: 0.0654087\ttotal: 847ms\tremaining: 55ms\n",
      "939:\tlearn: 0.0654037\ttotal: 848ms\tremaining: 54.1ms\n",
      "940:\tlearn: 0.0653389\ttotal: 848ms\tremaining: 53.2ms\n",
      "941:\tlearn: 0.0652554\ttotal: 849ms\tremaining: 52.3ms\n",
      "942:\tlearn: 0.0652267\ttotal: 850ms\tremaining: 51.4ms\n",
      "943:\tlearn: 0.0652126\ttotal: 851ms\tremaining: 50.5ms\n",
      "944:\tlearn: 0.0651203\ttotal: 851ms\tremaining: 49.6ms\n",
      "945:\tlearn: 0.0650052\ttotal: 852ms\tremaining: 48.6ms\n",
      "946:\tlearn: 0.0648697\ttotal: 853ms\tremaining: 47.7ms\n",
      "947:\tlearn: 0.0647799\ttotal: 854ms\tremaining: 46.8ms\n",
      "948:\tlearn: 0.0646984\ttotal: 855ms\tremaining: 45.9ms\n",
      "949:\tlearn: 0.0646039\ttotal: 855ms\tremaining: 45ms\n",
      "950:\tlearn: 0.0645824\ttotal: 856ms\tremaining: 44.1ms\n",
      "951:\tlearn: 0.0644925\ttotal: 857ms\tremaining: 43.2ms\n",
      "952:\tlearn: 0.0643657\ttotal: 858ms\tremaining: 42.3ms\n",
      "953:\tlearn: 0.0642455\ttotal: 859ms\tremaining: 41.4ms\n",
      "954:\tlearn: 0.0641739\ttotal: 859ms\tremaining: 40.5ms\n",
      "955:\tlearn: 0.0640876\ttotal: 860ms\tremaining: 39.6ms\n",
      "956:\tlearn: 0.0639872\ttotal: 861ms\tremaining: 38.7ms\n",
      "957:\tlearn: 0.0639104\ttotal: 862ms\tremaining: 37.8ms\n",
      "958:\tlearn: 0.0638143\ttotal: 863ms\tremaining: 36.9ms\n",
      "959:\tlearn: 0.0636835\ttotal: 863ms\tremaining: 36ms\n",
      "960:\tlearn: 0.0635395\ttotal: 864ms\tremaining: 35.1ms\n",
      "961:\tlearn: 0.0634488\ttotal: 865ms\tremaining: 34.2ms\n",
      "962:\tlearn: 0.0633758\ttotal: 866ms\tremaining: 33.3ms\n",
      "963:\tlearn: 0.0633012\ttotal: 867ms\tremaining: 32.4ms\n",
      "964:\tlearn: 0.0631762\ttotal: 868ms\tremaining: 31.5ms\n"
     ]
    },
    {
     "name": "stdout",
     "output_type": "stream",
     "text": [
      "965:\tlearn: 0.0631568\ttotal: 869ms\tremaining: 30.6ms\n",
      "966:\tlearn: 0.0631153\ttotal: 870ms\tremaining: 29.7ms\n",
      "967:\tlearn: 0.0630304\ttotal: 871ms\tremaining: 28.8ms\n",
      "968:\tlearn: 0.0629616\ttotal: 872ms\tremaining: 27.9ms\n",
      "969:\tlearn: 0.0629040\ttotal: 873ms\tremaining: 27ms\n",
      "970:\tlearn: 0.0628091\ttotal: 874ms\tremaining: 26.1ms\n",
      "971:\tlearn: 0.0627259\ttotal: 875ms\tremaining: 25.2ms\n",
      "972:\tlearn: 0.0626081\ttotal: 875ms\tremaining: 24.3ms\n",
      "973:\tlearn: 0.0624723\ttotal: 876ms\tremaining: 23.4ms\n",
      "974:\tlearn: 0.0624278\ttotal: 877ms\tremaining: 22.5ms\n",
      "975:\tlearn: 0.0623973\ttotal: 878ms\tremaining: 21.6ms\n",
      "976:\tlearn: 0.0622528\ttotal: 879ms\tremaining: 20.7ms\n",
      "977:\tlearn: 0.0621500\ttotal: 879ms\tremaining: 19.8ms\n",
      "978:\tlearn: 0.0620728\ttotal: 880ms\tremaining: 18.9ms\n",
      "979:\tlearn: 0.0619690\ttotal: 881ms\tremaining: 18ms\n",
      "980:\tlearn: 0.0619309\ttotal: 882ms\tremaining: 17.1ms\n",
      "981:\tlearn: 0.0618589\ttotal: 883ms\tremaining: 16.2ms\n",
      "982:\tlearn: 0.0617996\ttotal: 884ms\tremaining: 15.3ms\n",
      "983:\tlearn: 0.0617493\ttotal: 884ms\tremaining: 14.4ms\n",
      "984:\tlearn: 0.0616872\ttotal: 885ms\tremaining: 13.5ms\n",
      "985:\tlearn: 0.0615984\ttotal: 886ms\tremaining: 12.6ms\n",
      "986:\tlearn: 0.0615505\ttotal: 887ms\tremaining: 11.7ms\n",
      "987:\tlearn: 0.0614399\ttotal: 888ms\tremaining: 10.8ms\n",
      "988:\tlearn: 0.0613429\ttotal: 888ms\tremaining: 9.88ms\n",
      "989:\tlearn: 0.0612065\ttotal: 889ms\tremaining: 8.98ms\n",
      "990:\tlearn: 0.0611116\ttotal: 890ms\tremaining: 8.08ms\n",
      "991:\tlearn: 0.0610421\ttotal: 891ms\tremaining: 7.18ms\n",
      "992:\tlearn: 0.0609124\ttotal: 891ms\tremaining: 6.28ms\n",
      "993:\tlearn: 0.0608299\ttotal: 892ms\tremaining: 5.38ms\n",
      "994:\tlearn: 0.0607545\ttotal: 893ms\tremaining: 4.49ms\n",
      "995:\tlearn: 0.0606556\ttotal: 894ms\tremaining: 3.59ms\n",
      "996:\tlearn: 0.0605392\ttotal: 895ms\tremaining: 2.69ms\n",
      "997:\tlearn: 0.0604260\ttotal: 895ms\tremaining: 1.79ms\n",
      "998:\tlearn: 0.0603840\ttotal: 896ms\tremaining: 897us\n",
      "999:\tlearn: 0.0603003\ttotal: 897ms\tremaining: 0us\n"
     ]
    },
    {
     "data": {
      "text/plain": [
       "<catboost.core.CatBoostRegressor at 0x7fdc45010ca0>"
      ]
     },
     "execution_count": 9,
     "metadata": {},
     "output_type": "execute_result"
    }
   ],
   "source": [
    "#Train the Model \n",
    "prior_model = ctb.CatBoostRegressor()\n",
    "prior_model.fit(X_train,Y_train)"
   ]
  },
  {
   "cell_type": "code",
   "execution_count": 10,
   "id": "af65dcda",
   "metadata": {
    "execution": {
     "iopub.execute_input": "2022-06-11T16:13:12.423647Z",
     "iopub.status.busy": "2022-06-11T16:13:12.423247Z",
     "iopub.status.idle": "2022-06-11T16:13:12.430783Z",
     "shell.execute_reply": "2022-06-11T16:13:12.431009Z"
    },
    "id": "af65dcda",
    "papermill": {
     "duration": 0.021372,
     "end_time": "2022-06-11T16:13:12.431124",
     "exception": false,
     "start_time": "2022-06-11T16:13:12.409752",
     "status": "completed"
    },
    "tags": []
   },
   "outputs": [
    {
     "data": {
      "application/scrapbook.scrap.json+json": {
       "data": 0.11598049868917343,
       "encoder": "json",
       "name": "Prior Model MSE",
       "version": 1
      }
     },
     "metadata": {
      "scrapbook": {
       "data": true,
       "display": false,
       "name": "Prior Model MSE"
      }
     },
     "output_type": "display_data"
    },
    {
     "data": {
      "application/scrapbook.scrap.json+json": {
       "data": 1.1409137298437158,
       "encoder": "json",
       "name": "ABC Pre-generator MSE",
       "version": 1
      }
     },
     "metadata": {
      "scrapbook": {
       "data": true,
       "display": false,
       "name": "ABC Pre-generator MSE"
      }
     },
     "output_type": "display_data"
    },
    {
     "data": {
      "application/scrapbook.scrap.json+json": {
       "data": 0.22223188400412971,
       "encoder": "json",
       "name": "Prior Model MSE",
       "version": 1
      }
     },
     "metadata": {
      "scrapbook": {
       "data": true,
       "display": false,
       "name": "Prior Model MSE"
      }
     },
     "output_type": "display_data"
    },
    {
     "data": {
      "application/scrapbook.scrap.json+json": {
       "data": 0.8493386228888621,
       "encoder": "json",
       "name": "ABC Pre-generator MSE",
       "version": 1
      }
     },
     "metadata": {
      "scrapbook": {
       "data": true,
       "display": false,
       "name": "ABC Pre-generator MSE"
      }
     },
     "output_type": "display_data"
    }
   ],
   "source": [
    "y_pred = prior_model.predict(X_test)\n",
    "y_abc = y_pred + np.random.normal(0,variance, y_pred.shape) + bias \n",
    "mse = mean_squared_error(y_pred,Y_test)\n",
    "sb.glue(\"Prior Model MSE\",mse)\n",
    "mse = mean_squared_error(y_abc,Y_test)\n",
    "sb.glue(\"ABC Pre-generator MSE\",mse)\n",
    "mae = mean_absolute_error(y_pred,Y_test)\n",
    "sb.glue(\"Prior Model MSE\",mae)\n",
    "mae = mean_absolute_error(y_abc,Y_test)\n",
    "sb.glue(\"ABC Pre-generator MSE\",mae)"
   ]
  },
  {
   "cell_type": "markdown",
   "id": "25609da2",
   "metadata": {
    "papermill": {
     "duration": 0.009576,
     "end_time": "2022-06-11T16:13:12.450524",
     "exception": false,
     "start_time": "2022-06-11T16:13:12.440948",
     "status": "completed"
    },
    "tags": []
   },
   "source": [
    "# ABC GAN Model"
   ]
  },
  {
   "cell_type": "code",
   "execution_count": 11,
   "id": "dfc3464d",
   "metadata": {
    "execution": {
     "iopub.execute_input": "2022-06-11T16:13:12.472584Z",
     "iopub.status.busy": "2022-06-11T16:13:12.472221Z",
     "iopub.status.idle": "2022-06-11T16:13:12.474850Z",
     "shell.execute_reply": "2022-06-11T16:13:12.475089Z"
    },
    "papermill": {
     "duration": 0.015095,
     "end_time": "2022-06-11T16:13:12.475203",
     "exception": false,
     "start_time": "2022-06-11T16:13:12.460108",
     "status": "completed"
    },
    "tags": []
   },
   "outputs": [],
   "source": [
    "gen = network.Generator(n_features+1).to(device)\n",
    "disc = network.Discriminator(n_features+1).to(device)\n",
    "\n",
    "criterion = torch.nn.BCELoss()\n",
    "gen_opt = torch.optim.Adam(gen.parameters(), lr=0.001, betas=(0.5, 0.999))\n",
    "disc_opt = torch.optim.Adam(disc.parameters(), lr=0.001, betas=(0.5, 0.999))"
   ]
  },
  {
   "cell_type": "code",
   "execution_count": 12,
   "id": "b75fdd85",
   "metadata": {
    "execution": {
     "iopub.execute_input": "2022-06-11T16:13:12.497300Z",
     "iopub.status.busy": "2022-06-11T16:13:12.496935Z",
     "iopub.status.idle": "2022-06-11T16:14:11.760570Z",
     "shell.execute_reply": "2022-06-11T16:14:11.760855Z"
    },
    "papermill": {
     "duration": 59.275983,
     "end_time": "2022-06-11T16:14:11.760972",
     "exception": false,
     "start_time": "2022-06-11T16:13:12.484989",
     "status": "completed"
    },
    "tags": []
   },
   "outputs": [
    {
     "data": {
      "image/png": "[encoded data removed]",
      "text/plain": [
       "<Figure size 432x288 with 1 Axes>"
      ]
     },
     "metadata": {
      "needs_background": "light"
     },
     "output_type": "display_data"
    },
    {
     "data": {
      "image/png": "[encoded data removed]",
      "text/plain": [
       "<Figure size 432x288 with 1 Axes>"
      ]
     },
     "metadata": {
      "needs_background": "light"
     },
     "output_type": "display_data"
    }
   ],
   "source": [
    "#Training the ABC_GAN \n",
    "ABC_train_test2.training_GAN(disc,gen,disc_opt,gen_opt,train_data,batch_size,n_epochs,criterion,prior_model,variance,bias,device)"
   ]
  },
  {
   "cell_type": "code",
   "execution_count": 13,
   "id": "1fa7c368",
   "metadata": {
    "execution": {
     "iopub.execute_input": "2022-06-11T16:14:11.785501Z",
     "iopub.status.busy": "2022-06-11T16:14:11.785112Z",
     "iopub.status.idle": "2022-06-11T16:14:12.093496Z",
     "shell.execute_reply": "2022-06-11T16:14:12.093799Z"
    },
    "papermill": {
     "duration": 0.32231,
     "end_time": "2022-06-11T16:14:12.093921",
     "exception": false,
     "start_time": "2022-06-11T16:14:11.771611",
     "status": "completed"
    },
    "tags": []
   },
   "outputs": [
    {
     "data": {
      "application/scrapbook.scrap.json+json": {
       "data": 0.15236838725384064,
       "encoder": "json",
       "name": "ABC-GAN Model 1 MSE",
       "version": 1
      }
     },
     "metadata": {
      "scrapbook": {
       "data": true,
       "display": false,
       "name": "ABC-GAN Model 1 MSE"
      }
     },
     "output_type": "display_data"
    },
    {
     "data": {
      "application/scrapbook.scrap.json+json": {
       "data": 0.2533067190818781,
       "encoder": "json",
       "name": "ABC-GAN Model 1 MAE",
       "version": 1
      }
     },
     "metadata": {
      "scrapbook": {
       "data": true,
       "display": false,
       "name": "ABC-GAN Model 1 MAE"
      }
     },
     "output_type": "display_data"
    },
    {
     "data": {
      "application/scrapbook.scrap.json+json": {
       "data": 25.837285346351564,
       "encoder": "json",
       "name": "ABC-GAN Model 1 Manhattan Distance",
       "version": 1
      }
     },
     "metadata": {
      "scrapbook": {
       "data": true,
       "display": false,
       "name": "ABC-GAN Model 1 Manhattan Distance"
      }
     },
     "output_type": "display_data"
    },
    {
     "data": {
      "application/scrapbook.scrap.json+json": {
       "data": 3.942152088065449,
       "encoder": "json",
       "name": "ABC-GAN Model 1 Euclidean distance",
       "version": 1
      }
     },
     "metadata": {
      "scrapbook": {
       "data": true,
       "display": false,
       "name": "ABC-GAN Model 1 Euclidean distance"
      }
     },
     "output_type": "display_data"
    },
    {
     "data": {
      "application/scrapbook.scrap.json+json": {
       "data": [
        [
         0.14804785431663256,
         0.15252559808527555,
         0.15627283003499784,
         0.1516003123366913,
         0.14797445553260163,
         0.1522128125585224,
         0.15308092918434854,
         0.1507941324283323,
         0.15402439867721773,
         0.1536870519389431,
         0.1511773658363096,
         0.15834694523869566,
         0.15114154411658554,
         0.15760747434110176,
         0.14830120366393826,
         0.14895613511846437,
         0.1540571078806467,
         0.15022963893352811,
         0.15418495112973724,
         0.15222498073062757,
         0.15421652729454186,
         0.14805558391153184,
         0.15110625827229418,
         0.1500411069882179,
         0.15008601526358908,
         0.15697179958803517,
         0.1516424156265099,
         0.1567447086095888,
         0.1559067584599965,
         0.15152943560714288,
         0.15002061325507926,
         0.15262555501487873,
         0.1503334996385273,
         0.1515899644069195,
         0.14810809706348257,
         0.15159748610260423,
         0.1548081496300884,
         0.15264968540359589,
         0.15493535510735937,
         0.15347178355471636,
         0.1503680011876521,
         0.15492285070573522,
         0.15408644327629226,
         0.15308791741256958,
         0.15123379544523205,
         0.15190814521547824,
         0.15360336402012928,
         0.15483575774798364,
         0.15741697759503342,
         0.14982836219590193,
         0.15136535777574936,
         0.15396414025871863,
         0.15062253426585162,
         0.15087169728020375,
         0.15108879695267624,
         0.1537618475050325,
         0.15148892450616586,
         0.15360069949941552,
         0.1573932590642606,
         0.1531034084744997,
         0.1500400178823267,
         0.15153197234285334,
         0.1509321272513109,
         0.15137651174298802,
         0.15012164178465864,
         0.14819031302617813,
         0.15185375595243958,
         0.15189450814983785,
         0.15044571876889895,
         0.15424090706214943,
         0.1518191394375104,
         0.14955994362121305,
         0.15358933679383455,
         0.1508464091798531,
         0.1496143217368164,
         0.1564170862822437,
         0.1522850652907388,
         0.1546174047122826,
         0.15047200391635585,
         0.14933488908552653,
         0.15535664598257415,
         0.15147247795812002,
         0.15506980064010426,
         0.15120276549094536,
         0.153495556422504,
         0.1542876970886241,
         0.15774174965224913,
         0.14897450666730722,
         0.15113098368608072,
         0.15066722600880958,
         0.15070452934352027,
         0.15261539281259065,
         0.1542477067382797,
         0.152459291284596,
         0.14825934363335033,
         0.1511260525377646,
         0.15166408073244897,
         0.15451445724799565,
         0.15485356869284003,
         0.15637101747686405
        ],
        [
         0.251194452154724,
         0.2522421776335321,
         0.2540707196857707,
         0.25016598664589373,
         0.2484460602532707,
         0.2533751678853935,
         0.25410983808265597,
         0.2528237781359577,
         0.2534375270171201,
         0.2539725065706115,
         0.25180170672270014,
         0.25825004734318047,
         0.2533288055154331,
         0.25689169185637845,
         0.25091436043308646,
         0.2521014271450101,
         0.25471284326312005,
         0.25348200084751144,
         0.25571828428655863,
         0.2541518985823381,
         0.25152303890197303,
         0.24809063435988685,
         0.2539013598442954,
         0.25055521483733956,
         0.25002852412780713,
         0.25832995825319316,
         0.2510890875778654,
         0.2564591399631372,
         0.2558804123899808,
         0.2523187000998387,
         0.25192162721399586,
         0.25410972679873894,
         0.2512291921302676,
         0.2532765075527862,
         0.2517898658874865,
         0.25305495518898846,
         0.2552231526659692,
         0.2548987170973537,
         0.2570836767371671,
         0.25517392153029933,
         0.25234968133051605,
         0.2530438852332094,
         0.25428114877100666,
         0.2543077361678668,
         0.25097925667011856,
         0.2539541582376057,
         0.2547268769429887,
         0.25488400366157293,
         0.2568930789061329,
         0.2501536860295078,
         0.2535141436383128,
         0.25578323238547523,
         0.25209547683377476,
         0.2513722426933693,
         0.253555179610118,
         0.2539459971857129,
         0.25283424740693733,
         0.25303247766386644,
         0.2574485523041849,
         0.2535068547791418,
         0.25309415349700287,
         0.2534282692324589,
         0.2509663922566117,
         0.25335125583132695,
         0.25210094683821876,
         0.24922261995208614,
         0.25483736423227715,
         0.2537666608707285,
         0.2506615437895936,
         0.2545111270475329,
         0.2524962824604967,
         0.2510648374719655,
         0.25340941981138554,
         0.2526241518812729,
         0.25154518454755637,
         0.2546052118836373,
         0.25397948151929123,
         0.2542629869946954,
         0.25067568009755775,
         0.2513215374749373,
         0.2546851236701888,
         0.2549509726209091,
         0.25341176181374225,
         0.25355119132162895,
         0.25439415011993227,
         0.2544701266120754,
         0.2564650827142246,
         0.2521709638154682,
         0.2515032517303731,
         0.2518691834902354,
         0.24992716142579036,
         0.2528491551421729,
         0.2546753669157624,
         0.2541377040941049,
         0.25202139516306277,
         0.25358391945779907,
         0.2535997574564581,
         0.25525257738270596,
         0.25610625720126373,
         0.25533108867924004
        ],
        [
         25.62183411978185,
         25.728702118620276,
         25.915213407948613,
         25.51693063788116,
         25.34149814583361,
         25.844267124310136,
         25.91920348443091,
         25.788025369867682,
         25.850627755746245,
         25.905195670202374,
         25.683774085715413,
         26.341504829004407,
         25.839538162574172,
         26.2029525693506,
         25.59326476417482,
         25.714345568791032,
         25.980710012838244,
         25.855164086446166,
         26.08326499722898,
         25.923493655398488,
         25.655349968001246,
         25.305244704708457,
         25.897938704118133,
         25.556631913408637,
         25.502909461036325,
         26.3496557418257,
         25.61108693294227,
         26.15883227623999,
         26.099802063778043,
         25.73650741018355,
         25.696005975827575,
         25.91919213347137,
         25.625377597287297,
         25.834203770384192,
         25.68256632052362,
         25.811605429276824,
         26.03276157192886,
         25.999669143930078,
         26.222535027191043,
         26.02773999609053,
         25.739667495712638,
         25.81047629378736,
         25.936677174642682,
         25.939389089122415,
         25.599884180352092,
         25.90332414023578,
         25.982141448184848,
         25.99816837348044,
         26.203094048425555,
         25.5156759750098,
         25.858442651107907,
         26.089889703318477,
         25.713738637045026,
         25.639968754723668,
         25.862628320232034,
         25.90249171294272,
         25.789093235507607,
         25.809312721714377,
         26.25975233502686,
         25.857699187472463,
         25.815603656694293,
         25.84968346171081,
         25.598572010174394,
         25.841828094795346,
         25.714296577498317,
         25.420707235112786,
         25.99341115169227,
         25.88419940881431,
         25.56747746653855,
         25.960134958848357,
         25.754620810970664,
         25.60861342214048,
         25.847760820761323,
         25.767663491889834,
         25.65760882385075,
         25.969731612131,
         25.905907114967704,
         25.934824673458934,
         25.56891936995089,
         25.634796822443604,
         25.97788261435926,
         26.00499920733273,
         25.847999705001712,
         25.86222151480615,
         25.94820331223309,
         25.95595291443169,
         26.159438436850905,
         25.721438309177756,
         25.653331676498055,
         25.690656716004014,
         25.492570465430617,
         25.790613824501634,
         25.976887425407767,
         25.9220458175987,
         25.7061823066324,
         25.865559784695506,
         25.867175260558724,
         26.035762893036008,
         26.1228382345289,
         26.043771045282483
        ],
        [
         3.8859852213173074,
         3.944313755864016,
         3.9924714981537166,
         3.9323316058469064,
         3.885021810019265,
         3.9402673616100317,
         3.9514876662851357,
         3.921861994982727,
         3.963645880382884,
         3.95930288027731,
         3.926842410296545,
         4.018878999714592,
         3.9263771469245947,
         4.009484054437974,
         3.889308778397738,
         3.8978873485624703,
         3.9640667254507655,
         3.9145144234272355,
         3.9657111613471288,
         3.940424854571396,
         3.9661172176378328,
         3.886086663853014,
         3.9259187897578833,
         3.912057375959385,
         3.9126427842170934,
         4.001390203164344,
         3.9328776225435753,
         3.998494751550645,
         3.987792542612972,
         3.9314122693923332,
         3.911790197852907,
         3.9456059878702576,
         3.9158673321666284,
         3.9321973970676734,
         3.886775771828781,
         3.9322949511024254,
         3.9737175619649943,
         3.945917879425113,
         3.975349823720002,
         3.956529024609963,
         3.916316652307435,
         3.9751894007688473,
         3.964444124235049,
         3.9515778590434087,
         3.927575223393394,
         3.936321990383761,
         3.9582247447628824,
         3.974071877846993,
         4.007060233474586,
         3.9092829194088776,
         3.929283203476995,
         3.962870462983782,
         3.9196298926195654,
         3.9228705207514536,
         3.9256919503665815,
         3.960266208919965,
         3.930886706536951,
         3.9581904134263652,
         4.00675834366818,
         3.9517777853010623,
         3.9120431776754874,
         3.9314451769000973,
         3.9236560730565704,
         3.9294279733549997,
         3.913107136539349,
         3.88785441196943,
         3.9356172460173044,
         3.936145301088802,
         3.917328594134999,
         3.9664307028283305,
         3.9351686396679444,
         3.9057795955946784,
         3.958044005941713,
         3.92254174437252,
         3.906489577249026,
         3.994313808501887,
         3.941202438299174,
         3.9712687243062295,
         3.9176707875303016,
         3.9028398233496215,
         3.980750920394613,
         3.9306733204030384,
         3.977074259463938,
         3.9271722753243754,
         3.9568354470580918,
         3.967032279051893,
         4.01119165143345,
         3.8981277146939832,
         3.9262399743240644,
         3.920211353090363,
         3.9206966208875516,
         3.9454746313826727,
         3.9665181314730593,
         3.9434563153442928,
         3.8887598345233068,
         3.92617592051757,
         3.9331585570263745,
         3.9699464277614065,
         3.9743004424262742,
         3.9937255517423997
        ]
       ],
       "encoder": "json",
       "name": "ABC_GAN_1 Metrics",
       "version": 1
      }
     },
     "metadata": {
      "scrapbook": {
       "data": true,
       "display": false,
       "name": "ABC_GAN_1 Metrics"
      }
     },
     "output_type": "display_data"
    },
    {
     "name": "stdout",
     "output_type": "stream",
     "text": [
      "MSE\n",
      "0.15236838725384064\n"
     ]
    }
   ],
   "source": [
    "ABC_GAN1_metrics=ABC_train_test2.test_generator(gen,test_data,prior_model,variance,bias,\"1\",device)\n",
    "sb.glue(\"ABC_GAN_1 Metrics\",ABC_GAN1_metrics)\n",
    "\n",
    "print(\"MSE\")\n",
    "print(mean(ABC_GAN1_metrics[0]))"
   ]
  },
  {
   "cell_type": "code",
   "execution_count": 14,
   "id": "eb22ce5c",
   "metadata": {
    "execution": {
     "iopub.execute_input": "2022-06-11T16:14:12.121843Z",
     "iopub.status.busy": "2022-06-11T16:14:12.121413Z",
     "iopub.status.idle": "2022-06-11T16:14:12.437605Z",
     "shell.execute_reply": "2022-06-11T16:14:12.437910Z"
    },
    "papermill": {
     "duration": 0.331504,
     "end_time": "2022-06-11T16:14:12.438033",
     "exception": false,
     "start_time": "2022-06-11T16:14:12.106529",
     "status": "completed"
    },
    "tags": []
   },
   "outputs": [
    {
     "data": {
      "image/png": "[encoded data removed]",
      "text/plain": [
       "<Figure size 432x288 with 1 Axes>"
      ]
     },
     "metadata": {
      "needs_background": "light"
     },
     "output_type": "display_data"
    },
    {
     "data": {
      "image/png": "[encoded data removed]",
      "text/plain": [
       "<Figure size 432x288 with 1 Axes>"
      ]
     },
     "metadata": {
      "needs_background": "light"
     },
     "output_type": "display_data"
    },
    {
     "data": {
      "image/png": "[encoded data removed]",
      "text/plain": [
       "<Figure size 432x288 with 1 Axes>"
      ]
     },
     "metadata": {
      "needs_background": "light"
     },
     "output_type": "display_data"
    },
    {
     "data": {
      "image/png": "[encoded data removed]",
      "text/plain": [
       "<Figure size 432x288 with 1 Axes>"
      ]
     },
     "metadata": {
      "needs_background": "light"
     },
     "output_type": "display_data"
    }
   ],
   "source": [
    "sanityChecks.discProbVsError(train_data,disc,device)\n",
    "sanityChecks.discProbVsError(test_data,disc,device)"
   ]
  },
  {
   "cell_type": "markdown",
   "id": "130f3a4d",
   "metadata": {
    "id": "130f3a4d",
    "papermill": {
     "duration": 0.014339,
     "end_time": "2022-06-11T16:14:12.467164",
     "exception": false,
     "start_time": "2022-06-11T16:14:12.452825",
     "status": "completed"
    },
    "tags": []
   },
   "source": [
    "# ABC - GAN Model with skip connection"
   ]
  },
  {
   "cell_type": "code",
   "execution_count": 15,
   "id": "4e43dad1",
   "metadata": {
    "execution": {
     "iopub.execute_input": "2022-06-11T16:14:12.500434Z",
     "iopub.status.busy": "2022-06-11T16:14:12.500030Z",
     "iopub.status.idle": "2022-06-11T16:14:12.501934Z",
     "shell.execute_reply": "2022-06-11T16:14:12.502242Z"
    },
    "id": "4e43dad1",
    "papermill": {
     "duration": 0.020775,
     "end_time": "2022-06-11T16:14:12.502358",
     "exception": false,
     "start_time": "2022-06-11T16:14:12.481583",
     "status": "completed"
    },
    "tags": []
   },
   "outputs": [],
   "source": [
    "#Generator\n",
    "gen3 = network.GeneratorWithSkipConnection(n_features+1).to(device)\n",
    "constraints=network.weightConstraint()\n",
    "#Discriminator \n",
    "disc3 = network.Discriminator(n_features+1).to(device)\n",
    "\n",
    "criterion = torch.nn.BCELoss()\n",
    "gen_opt = torch.optim.Adam(gen3.parameters(), lr=0.001, betas=(0.5, 0.999))\n",
    "disc_opt = torch.optim.Adam(disc3.parameters(), lr=0.001, betas=(0.5, 0.999))\n"
   ]
  },
  {
   "cell_type": "code",
   "execution_count": 16,
   "id": "26acbc37",
   "metadata": {
    "execution": {
     "iopub.execute_input": "2022-06-11T16:14:12.533850Z",
     "iopub.status.busy": "2022-06-11T16:14:12.533463Z",
     "iopub.status.idle": "2022-06-11T16:51:48.273703Z",
     "shell.execute_reply": "2022-06-11T16:51:48.273994Z"
    },
    "id": "26acbc37",
    "papermill": {
     "duration": 2255.757152,
     "end_time": "2022-06-11T16:51:48.274112",
     "exception": false,
     "start_time": "2022-06-11T16:14:12.516960",
     "status": "completed"
    },
    "tags": []
   },
   "outputs": [
    {
     "data": {
      "image/png": "[encoded data removed]",
      "text/plain": [
       "<Figure size 432x288 with 1 Axes>"
      ]
     },
     "metadata": {
      "needs_background": "light"
     },
     "output_type": "display_data"
    },
    {
     "data": {
      "image/png": "[encoded data removed]",
      "text/plain": [
       "<Figure size 432x288 with 1 Axes>"
      ]
     },
     "metadata": {
      "needs_background": "light"
     },
     "output_type": "display_data"
    }
   ],
   "source": [
    "ABC_train_test2.training_GAN_skip_connection(disc3,gen3,disc_opt,gen_opt,train_data,batch_size,n_epochs,criterion,prior_model,variance,bias,device)"
   ]
  },
  {
   "cell_type": "code",
   "execution_count": 17,
   "id": "c5e0717b",
   "metadata": {
    "execution": {
     "iopub.execute_input": "2022-06-11T16:51:48.308471Z",
     "iopub.status.busy": "2022-06-11T16:51:48.308063Z",
     "iopub.status.idle": "2022-06-11T16:51:49.122570Z",
     "shell.execute_reply": "2022-06-11T16:51:49.122893Z"
    },
    "id": "c5e0717b",
    "papermill": {
     "duration": 0.83356,
     "end_time": "2022-06-11T16:51:49.123012",
     "exception": false,
     "start_time": "2022-06-11T16:51:48.289452",
     "status": "completed"
    },
    "tags": []
   },
   "outputs": [
    {
     "data": {
      "application/scrapbook.scrap.json+json": {
       "data": 0.13470997140435245,
       "encoder": "json",
       "name": "ABC-GAN Model 3 MSE",
       "version": 1
      }
     },
     "metadata": {
      "scrapbook": {
       "data": true,
       "display": false,
       "name": "ABC-GAN Model 3 MSE"
      }
     },
     "output_type": "display_data"
    },
    {
     "data": {
      "application/scrapbook.scrap.json+json": {
       "data": 0.23815440475504718,
       "encoder": "json",
       "name": "ABC-GAN Model 3 MAE",
       "version": 1
      }
     },
     "metadata": {
      "scrapbook": {
       "data": true,
       "display": false,
       "name": "ABC-GAN Model 3 MAE"
      }
     },
     "output_type": "display_data"
    },
    {
     "data": {
      "application/scrapbook.scrap.json+json": {
       "data": 24.291749285014813,
       "encoder": "json",
       "name": "ABC-GAN Model 3 Manhattan Distance",
       "version": 1
      }
     },
     "metadata": {
      "scrapbook": {
       "data": true,
       "display": false,
       "name": "ABC-GAN Model 3 Manhattan Distance"
      }
     },
     "output_type": "display_data"
    },
    {
     "data": {
      "application/scrapbook.scrap.json+json": {
       "data": 3.706732279853845,
       "encoder": "json",
       "name": "ABC-GAN Model 3 Euclidean distance",
       "version": 1
      }
     },
     "metadata": {
      "scrapbook": {
       "data": true,
       "display": false,
       "name": "ABC-GAN Model 3 Euclidean distance"
      }
     },
     "output_type": "display_data"
    },
    {
     "data": {
      "application/scrapbook.scrap.json+json": {
       "data": [
        [
         0.13099518090851484,
         0.13283281001217734,
         0.13353061999397978,
         0.13477929528595475,
         0.13656772303893475,
         0.13582374306288036,
         0.13600077963817456,
         0.13628769648104141,
         0.13590481581459257,
         0.13080880138810733,
         0.1364268644324579,
         0.1346312963023397,
         0.13484969667701727,
         0.13494480801758132,
         0.13155263267068687,
         0.13422998642949907,
         0.13531080199039153,
         0.1347233031561273,
         0.1350420947767756,
         0.13687618753931788,
         0.1360375658298321,
         0.13287278383972467,
         0.1358020504338,
         0.13327924538184702,
         0.1330696734640182,
         0.13501545474506732,
         0.1364917327193778,
         0.13041116895344185,
         0.1366367802938533,
         0.13357541734436865,
         0.1369842794860403,
         0.1345093630780172,
         0.13620549031248277,
         0.13521760434566726,
         0.13273303198641392,
         0.13557758837647424,
         0.13577201228141536,
         0.13347847791785242,
         0.13393983507842566,
         0.1341823336745653,
         0.13305191037373024,
         0.134945863848913,
         0.13275799121758494,
         0.13527791777380868,
         0.1356830826010024,
         0.13547869484024636,
         0.13504377914092192,
         0.13550931881895234,
         0.1339313945285486,
         0.13513927037273937,
         0.13275520931918763,
         0.1359025606150257,
         0.13309308191056246,
         0.1352485657396106,
         0.13403332166341145,
         0.13374202807410515,
         0.13672874080313946,
         0.13567786556565214,
         0.13522349289513966,
         0.1323031415432443,
         0.13544542668685394,
         0.13369482258320228,
         0.1324795000617374,
         0.13271570338847125,
         0.13235742981947235,
         0.13426416402103244,
         0.1372418488469303,
         0.13523498502421988,
         0.13451110518572196,
         0.13197589687610944,
         0.13615504046133586,
         0.13710211712395465,
         0.1361040971780518,
         0.13193459718776437,
         0.13098446910093153,
         0.1357276245821462,
         0.135332827818658,
         0.13357218811138868,
         0.13710972662093002,
         0.13402478531574014,
         0.1306761518434029,
         0.13319304704737586,
         0.13522767580757883,
         0.13487525437964928,
         0.13635196768331986,
         0.13448999918349128,
         0.13449190838518837,
         0.13536369251847977,
         0.136245194172272,
         0.13792472982303658,
         0.13680883068820301,
         0.13674638742671125,
         0.136430116537141,
         0.1380169871384183,
         0.1353053082854192,
         0.1370969656020219,
         0.13260040799549655,
         0.13496386622429876,
         0.13692867100635916,
         0.1338533638879648
        ],
        [
         0.23341767877048136,
         0.2336046740289449,
         0.2401680878235721,
         0.23904887099257288,
         0.23884803042564468,
         0.23967896418317275,
         0.2419223955047189,
         0.24247068965204938,
         0.24101024464357132,
         0.23374130775896357,
         0.24043723546406803,
         0.23774311907005077,
         0.2377673134974697,
         0.23597185372137555,
         0.2385269313658058,
         0.23570362652889362,
         0.23937949235094527,
         0.23756010702573785,
         0.23875041318801687,
         0.24382812488714561,
         0.2372368340307445,
         0.23771855230534486,
         0.24145952962777195,
         0.23889042218854906,
         0.23638834237285397,
         0.23780910976632846,
         0.24137087253963246,
         0.23254878879250848,
         0.2388622035071546,
         0.23734971720213985,
         0.23928570943683677,
         0.2355825054075788,
         0.240273876818737,
         0.23797633809804478,
         0.23663911394154033,
         0.2377777501447674,
         0.23720995121288532,
         0.23505682684481144,
         0.23777427694157643,
         0.2410536006951303,
         0.2386616345348896,
         0.23730449774759074,
         0.23492897085516767,
         0.23923288599825374,
         0.23708918683376967,
         0.23947244113785962,
         0.24072929685387542,
         0.2368113106007085,
         0.23952442794746043,
         0.2408237383682646,
         0.23224034921868758,
         0.24096856510960588,
         0.2345621164148564,
         0.2376152847952885,
         0.2369949438463093,
         0.23450158070772886,
         0.24025582612546928,
         0.23963435489099985,
         0.23789461236447096,
         0.23655707078675428,
         0.23923028231251472,
         0.23400081319770977,
         0.23739069949506836,
         0.23522864206347102,
         0.23747148412261523,
         0.23584779253339067,
         0.2386942653661119,
         0.23886191397540124,
         0.2368342967192624,
         0.23752698046611806,
         0.23912212574927538,
         0.24160567148789472,
         0.24066200458864664,
         0.2335602768021179,
         0.2366101284712261,
         0.23994455453665817,
         0.2397015747139413,
         0.2354378190950728,
         0.24073139019310474,
         0.23692778373757997,
         0.23503294933185565,
         0.2357527128804256,
         0.23650414624488822,
         0.2363703749051281,
         0.24310027015413724,
         0.23798519148326971,
         0.23795740614079086,
         0.23776557459952494,
         0.240714532202201,
         0.2417433818290923,
         0.23910460537801698,
         0.24034264469610564,
         0.24121888796342353,
         0.2413169970535034,
         0.23766374905073248,
         0.23828564929392407,
         0.23684294503547398,
         0.24093505471725674,
         0.24136251500606828,
         0.23640381001556912
        ],
        [
         23.8086032345891,
         23.827676750952378,
         24.497144958004355,
         24.382984841242433,
         24.362499103415757,
         24.44725434668362,
         24.676084341481328,
         24.732010344509035,
         24.583044953644276,
         23.841613391414285,
         24.524598017334938,
         24.249798145145178,
         24.25226597674191,
         24.069129079580307,
         24.329746999312192,
         24.04176990594715,
         24.41670821979642,
         24.23113091662526,
         24.352542145177722,
         24.870468738488853,
         24.198157071135938,
         24.247292335145175,
         24.628872022032738,
         24.366823063232005,
         24.111610922031105,
         24.256529196165502,
         24.61982899904251,
         23.719976456835866,
         24.36394475772977,
         24.209671154618263,
         24.40714236255735,
         24.029415551573038,
         24.507935435511172,
         24.273586486000568,
         24.137189622037113,
         24.253330514766276,
         24.195415023714304,
         23.975796338170767,
         24.252976248040795,
         24.58746727090329,
         24.343486722558737,
         24.205058770254254,
         23.962755027227104,
         24.40175437182188,
         24.183097057044506,
         24.426188996061683,
         24.554388279095292,
         24.15475368127227,
         24.431491650640965,
         24.56402131356299,
         23.688515620306134,
         24.5787936411798,
         23.92533587431535,
         24.236759049119428,
         24.17348427232355,
         23.919161232188344,
         24.506094264797866,
         24.442704198881984,
         24.265250461176038,
         24.128821220248938,
         24.401488795876503,
         23.868082946166396,
         24.213851348496974,
         23.993321490474045,
         24.222091380506754,
         24.056474838405848,
         24.346815067343414,
         24.363915225490928,
         24.157098265364766,
         24.22775200754404,
         24.39045682642609,
         24.64377849176526,
         24.547524468041956,
         23.823148233816028,
         24.13423310406506,
         24.474344562739134,
         24.449560620822012,
         24.014657547697425,
         24.554601799696684,
         24.166633941233158,
         23.973360831849277,
         24.04677671380341,
         24.123422916978598,
         24.109778240323067,
         24.796227555721998,
         24.27448953129351,
         24.271655426360667,
         24.252088609151542,
         24.552882284624502,
         24.657824946567416,
         24.38866974855773,
         24.514949759002775,
         24.6043265722692,
         24.614333699457347,
         24.241702403174713,
         24.305136227980256,
         24.157980393618345,
         24.575375581160188,
         24.618976530618966,
         24.11318862158805
        ],
        [
         3.655339717819469,
         3.680889379109631,
         3.6905451141241907,
         3.707760526135336,
         3.732279162920607,
         3.722099111041214,
         3.7245240666552024,
         3.7284507561541185,
         3.723209799767996,
         3.6527383894260677,
         3.7303538936823006,
         3.705724250782652,
         3.7087287661752457,
         3.7100364442675344,
         3.6631091346573412,
         3.7001971049943956,
         3.715064172126766,
         3.706990278099604,
         3.711373555333808,
         3.7364918210816973,
         3.7250277468285886,
         3.6814431887035703,
         3.7218018679461693,
         3.6870697076334746,
         3.684169742741213,
         3.711007462131659,
         3.7312406431878036,
         3.6471823690694527,
         3.7332226815411147,
         3.6911641211311106,
         3.737966894927791,
         3.7040457656402883,
         3.7273261209442414,
         3.7137845445391764,
         3.6795066602214783,
         3.7187247833632933,
         3.72139023117764,
         3.689824487373478,
         3.6961957710596742,
         3.6995402464097698,
         3.683923839891439,
         3.7100509582199974,
         3.67985259272619,
         3.71461271371976,
         3.7201712897798465,
         3.717368272542435,
         3.711396701024297,
         3.7177883909030025,
         3.696079306767098,
         3.7127086578426023,
         3.6798140374966137,
         3.7231789082358935,
         3.6844937718603044,
         3.714209701328168,
         3.697485471190923,
         3.6934654274216134,
         3.7344787537111817,
         3.7200997685138115,
         3.713865408883882,
         3.67354330822585,
         3.716911825973156,
         3.6928135484325,
         3.6759908876787506,
         3.679266468417865,
         3.674296917994812,
         3.7006681464494102,
         3.741479464381288,
         3.7140232191614566,
         3.704069752170393,
         3.6689973400594287,
         3.726635765278955,
         3.7395743001902466,
         3.7259385276949053,
         3.668423218925532,
         3.6551902615725775,
         3.7207818677502327,
         3.7153665280161956,
         3.6911195032620716,
         3.739678076430491,
         3.6973677261269935,
         3.650885849766752,
         3.685877208865257,
         3.713922849545079,
         3.709080202250179,
         3.7293297928312303,
         3.703779139840295,
         3.7038054289189133,
         3.7157901766495014,
         3.7278693385862844,
         3.750776245252405,
         3.7355723430549035,
         3.7347197374802494,
         3.730398354973417,
         3.7520304753717912,
         3.7149887543723144,
         3.7395040435071367,
         3.677667958848467,
         3.7102984185747747,
         3.7372081080197592,
         3.6950024514974826
        ]
       ],
       "encoder": "json",
       "name": "ABC_GAN_3 Metrics",
       "version": 1
      }
     },
     "metadata": {
      "scrapbook": {
       "data": true,
       "display": false,
       "name": "ABC_GAN_3 Metrics"
      }
     },
     "output_type": "display_data"
    },
    {
     "name": "stdout",
     "output_type": "stream",
     "text": [
      "MSE\n",
      "0.13470997140435245\n"
     ]
    }
   ],
   "source": [
    "ABC_GAN3_metrics=ABC_train_test2.test_generator(gen3,test_data,prior_model,variance,bias,\"3\",device)\n",
    "sb.glue(\"ABC_GAN_3 Metrics\",ABC_GAN3_metrics)\n",
    "\n",
    "print(\"MSE\")\n",
    "print(mean(ABC_GAN3_metrics[0]))"
   ]
  },
  {
   "cell_type": "code",
   "execution_count": 18,
   "id": "c8e46b48",
   "metadata": {
    "execution": {
     "iopub.execute_input": "2022-06-11T16:51:49.159760Z",
     "iopub.status.busy": "2022-06-11T16:51:49.159392Z",
     "iopub.status.idle": "2022-06-11T16:51:49.474435Z",
     "shell.execute_reply": "2022-06-11T16:51:49.474679Z"
    },
    "id": "c8e46b48",
    "papermill": {
     "duration": 0.334906,
     "end_time": "2022-06-11T16:51:49.474798",
     "exception": false,
     "start_time": "2022-06-11T16:51:49.139892",
     "status": "completed"
    },
    "tags": []
   },
   "outputs": [
    {
     "data": {
      "image/png": "[encoded data removed]",
      "text/plain": [
       "<Figure size 432x288 with 1 Axes>"
      ]
     },
     "metadata": {
      "needs_background": "light"
     },
     "output_type": "display_data"
    },
    {
     "data": {
      "image/png": "[encoded data removed]",
      "text/plain": [
       "<Figure size 432x288 with 1 Axes>"
      ]
     },
     "metadata": {
      "needs_background": "light"
     },
     "output_type": "display_data"
    },
    {
     "data": {
      "image/png": "[encoded data removed]",
      "text/plain": [
       "<Figure size 432x288 with 1 Axes>"
      ]
     },
     "metadata": {
      "needs_background": "light"
     },
     "output_type": "display_data"
    },
    {
     "data": {
      "image/png": "[encoded data removed]",
      "text/plain": [
       "<Figure size 432x288 with 1 Axes>"
      ]
     },
     "metadata": {
      "needs_background": "light"
     },
     "output_type": "display_data"
    }
   ],
   "source": [
    "sanityChecks.discProbVsError(train_data,disc3,device)\n",
    "sanityChecks.discProbVsError(test_data,disc3,device)"
   ]
  },
  {
   "cell_type": "markdown",
   "id": "a5bd74c3",
   "metadata": {
    "id": "a5bd74c3",
    "papermill": {
     "duration": 0.01977,
     "end_time": "2022-06-11T16:51:49.513809",
     "exception": false,
     "start_time": "2022-06-11T16:51:49.494039",
     "status": "completed"
    },
    "tags": []
   },
   "source": [
    "## Skip Connection Model Analysis - ABC-GAN "
   ]
  },
  {
   "cell_type": "markdown",
   "id": "5744a8bf",
   "metadata": {
    "id": "5744a8bf",
    "papermill": {
     "duration": 0.01881,
     "end_time": "2022-06-11T16:51:49.552131",
     "exception": false,
     "start_time": "2022-06-11T16:51:49.533321",
     "status": "completed"
    },
    "tags": []
   },
   "source": [
    "### Weight Analysis \n",
    "\n",
    "Study the weights of the skip connection layer\n",
    "\n",
    "Equation of the skip connection is \n",
    "\n",
    "$output = y_{gan} * w + y_{abc} * (1-w)$"
   ]
  },
  {
   "cell_type": "code",
   "execution_count": 19,
   "id": "52c31dea",
   "metadata": {
    "execution": {
     "iopub.execute_input": "2022-06-11T16:51:49.592765Z",
     "iopub.status.busy": "2022-06-11T16:51:49.592372Z",
     "iopub.status.idle": "2022-06-11T16:51:49.595722Z",
     "shell.execute_reply": "2022-06-11T16:51:49.595964Z"
    },
    "id": "52c31dea",
    "papermill": {
     "duration": 0.025028,
     "end_time": "2022-06-11T16:51:49.596076",
     "exception": false,
     "start_time": "2022-06-11T16:51:49.571048",
     "status": "completed"
    },
    "tags": []
   },
   "outputs": [
    {
     "name": "stdout",
     "output_type": "stream",
     "text": [
      "Weight of the node at skip connection\n",
      "Parameter containing:\n",
      "tensor([[0.9589]], requires_grad=True)\n"
     ]
    },
    {
     "data": {
      "application/scrapbook.scrap.json+json": {
       "data": 0.9589354991912842,
       "encoder": "json",
       "name": "Skip Connection Weight",
       "version": 1
      }
     },
     "metadata": {
      "scrapbook": {
       "data": true,
       "display": false,
       "name": "Skip Connection Weight"
      }
     },
     "output_type": "display_data"
    }
   ],
   "source": [
    "print(\"Weight of the node at skip connection\")\n",
    "for name,param in gen3.named_parameters():\n",
    "    if(name == \"skipNode.weight\"):\n",
    "        print(param)\n",
    "        sb.glue(\"Skip Connection Weight\",param.item())"
   ]
  }
 ],
 "metadata": {
  "colab": {
   "collapsed_sections": [],
   "name": "ABC_GAN_Model-Catboost_Pre-gen.ipynb",
   "provenance": []
  },
  "interpreter": {
   "hash": "31f2aee4e71d21fbe5cf8b01ff0e069b9275f58929596ceb00d14d90e3e16cd6"
  },
  "kernelspec": {
   "display_name": "Python 3 (ipykernel)",
   "language": "python",
   "name": "python3"
  },
  "language_info": {
   "codemirror_mode": {
    "name": "ipython",
    "version": 3
   },
   "file_extension": ".py",
   "mimetype": "text/x-python",
   "name": "python",
   "nbconvert_exporter": "python",
   "pygments_lexer": "ipython3",
   "version": "3.8.11"
  },
  "papermill": {
   "default_parameters": {},
   "duration": 2321.263514,
   "end_time": "2022-06-11T16:51:49.923742",
   "environment_variables": {},
   "exception": null,
   "input_path": "ABC_GAN-Catboost.ipynb",
   "output_path": "./ABC_GAN_Catboost/ABC-GAN_output_2_3.ipynb",
   "parameters": {
    "bias": 0.1,
    "variance": 1
   },
   "start_time": "2022-06-11T16:13:08.660228",
   "version": "2.3.3"
  }
 },
 "nbformat": 4,
 "nbformat_minor": 5
}