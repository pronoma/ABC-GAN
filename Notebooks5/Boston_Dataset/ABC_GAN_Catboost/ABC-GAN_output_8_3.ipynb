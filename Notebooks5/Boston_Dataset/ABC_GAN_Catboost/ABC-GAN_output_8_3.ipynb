{
 "cells": [
  {
   "cell_type": "markdown",
   "id": "622780e6",
   "metadata": {
    "id": "622780e6",
    "papermill": {
     "duration": 0.034654,
     "end_time": "2022-06-12T06:53:59.913263",
     "exception": false,
     "start_time": "2022-06-12T06:53:59.878609",
     "status": "completed"
    },
    "tags": []
   },
   "source": [
    "## Import Libraries "
   ]
  },
  {
   "cell_type": "code",
   "execution_count": 1,
   "id": "a62397e3",
   "metadata": {
    "execution": {
     "iopub.execute_input": "2022-06-12T06:53:59.949221Z",
     "iopub.status.busy": "2022-06-12T06:53:59.948593Z",
     "iopub.status.idle": "2022-06-12T06:53:59.950886Z",
     "shell.execute_reply": "2022-06-12T06:53:59.951225Z"
    },
    "id": "a62397e3",
    "papermill": {
     "duration": 0.022067,
     "end_time": "2022-06-12T06:53:59.951435",
     "exception": false,
     "start_time": "2022-06-12T06:53:59.929368",
     "status": "completed"
    },
    "tags": []
   },
   "outputs": [],
   "source": [
    "import warnings\n",
    "import sys\n",
    "sys.path.insert(0, '../../src')\n",
    "warnings.filterwarnings('ignore')"
   ]
  },
  {
   "cell_type": "code",
   "execution_count": 2,
   "id": "d6a4e155",
   "metadata": {
    "execution": {
     "iopub.execute_input": "2022-06-12T06:53:59.972134Z",
     "iopub.status.busy": "2022-06-12T06:53:59.971723Z",
     "iopub.status.idle": "2022-06-12T06:54:01.840917Z",
     "shell.execute_reply": "2022-06-12T06:54:01.841175Z"
    },
    "id": "d6a4e155",
    "papermill": {
     "duration": 1.880234,
     "end_time": "2022-06-12T06:54:01.841300",
     "exception": false,
     "start_time": "2022-06-12T06:53:59.961066",
     "status": "completed"
    },
    "tags": []
   },
   "outputs": [],
   "source": [
    "import ABC_train_test2\n",
    "import bostonDataset\n",
    "import network\n",
    "import dataset\n",
    "import sanityChecks\n",
    "import torch \n",
    "import scrapbook as sb\n",
    "from statistics import mean \n",
    "import catboost as ctb \n",
    "from sklearn.model_selection import train_test_split\n",
    "from sklearn.metrics import mean_squared_error,mean_absolute_error\n",
    "import numpy as np"
   ]
  },
  {
   "cell_type": "markdown",
   "id": "2fa5b0f7",
   "metadata": {
    "id": "2fa5b0f7",
    "papermill": {
     "duration": 0.006839,
     "end_time": "2022-06-12T06:54:01.855379",
     "exception": false,
     "start_time": "2022-06-12T06:54:01.848540",
     "status": "completed"
    },
    "tags": []
   },
   "source": [
    "## Parameters "
   ]
  },
  {
   "cell_type": "code",
   "execution_count": 3,
   "id": "783186fb",
   "metadata": {
    "execution": {
     "iopub.execute_input": "2022-06-12T06:54:01.871068Z",
     "iopub.status.busy": "2022-06-12T06:54:01.870690Z",
     "iopub.status.idle": "2022-06-12T06:54:01.872038Z",
     "shell.execute_reply": "2022-06-12T06:54:01.872286Z"
    },
    "id": "783186fb",
    "papermill": {
     "duration": 0.01024,
     "end_time": "2022-06-12T06:54:01.872396",
     "exception": false,
     "start_time": "2022-06-12T06:54:01.862156",
     "status": "completed"
    },
    "tags": [
     "parameters"
    ]
   },
   "outputs": [],
   "source": [
    "variance = 1\n",
    "bias = 1 "
   ]
  },
  {
   "cell_type": "code",
   "execution_count": 4,
   "id": "393c198e",
   "metadata": {
    "execution": {
     "iopub.execute_input": "2022-06-12T06:54:01.888102Z",
     "iopub.status.busy": "2022-06-12T06:54:01.887746Z",
     "iopub.status.idle": "2022-06-12T06:54:01.888962Z",
     "shell.execute_reply": "2022-06-12T06:54:01.889203Z"
    },
    "papermill": {
     "duration": 0.009903,
     "end_time": "2022-06-12T06:54:01.889312",
     "exception": false,
     "start_time": "2022-06-12T06:54:01.879409",
     "status": "completed"
    },
    "tags": [
     "injected-parameters"
    ]
   },
   "outputs": [],
   "source": [
    "# Parameters\n",
    "variance = 1\n",
    "bias = 0.1\n"
   ]
  },
  {
   "cell_type": "markdown",
   "id": "391cdbfd",
   "metadata": {
    "id": "391cdbfd",
    "papermill": {
     "duration": 0.00684,
     "end_time": "2022-06-12T06:54:01.903040",
     "exception": false,
     "start_time": "2022-06-12T06:54:01.896200",
     "status": "completed"
    },
    "tags": []
   },
   "source": [
    "## Dataset \n"
   ]
  },
  {
   "cell_type": "code",
   "execution_count": 5,
   "id": "5b51f161",
   "metadata": {
    "execution": {
     "iopub.execute_input": "2022-06-12T06:54:01.918649Z",
     "iopub.status.busy": "2022-06-12T06:54:01.918291Z",
     "iopub.status.idle": "2022-06-12T06:54:01.919575Z",
     "shell.execute_reply": "2022-06-12T06:54:01.919829Z"
    },
    "id": "5b51f161",
    "papermill": {
     "duration": 0.009987,
     "end_time": "2022-06-12T06:54:01.919936",
     "exception": false,
     "start_time": "2022-06-12T06:54:01.909949",
     "status": "completed"
    },
    "tags": []
   },
   "outputs": [],
   "source": [
    "#Parameters \n",
    "n_features = 13\n",
    "n_samples= 506\n",
    "n_target = 1 "
   ]
  },
  {
   "cell_type": "code",
   "execution_count": 6,
   "id": "5d6eced4",
   "metadata": {
    "execution": {
     "iopub.execute_input": "2022-06-12T06:54:01.936331Z",
     "iopub.status.busy": "2022-06-12T06:54:01.935944Z",
     "iopub.status.idle": "2022-06-12T06:54:01.946935Z",
     "shell.execute_reply": "2022-06-12T06:54:01.947237Z"
    },
    "id": "5d6eced4",
    "papermill": {
     "duration": 0.02045,
     "end_time": "2022-06-12T06:54:01.947352",
     "exception": false,
     "start_time": "2022-06-12T06:54:01.926902",
     "status": "completed"
    },
    "tags": []
   },
   "outputs": [
    {
     "name": "stdout",
     "output_type": "stream",
     "text": [
      "         X1        X2        X3        X4        X5        X6        X7  \\\n",
      "0 -0.419782  0.284830 -1.287909 -0.272599 -0.144217  0.413672 -0.120013   \n",
      "1 -0.417339 -0.487722 -0.593381 -0.272599 -0.740262  0.194274  0.367166   \n",
      "2 -0.417342 -0.487722 -0.593381 -0.272599 -0.740262  1.282714 -0.265812   \n",
      "3 -0.416750 -0.487722 -1.306878 -0.272599 -0.835284  1.016303 -0.809889   \n",
      "4 -0.412482 -0.487722 -1.306878 -0.272599 -0.835284  1.228577 -0.511180   \n",
      "\n",
      "         X8        X9       X10       X11       X12       X13         Y  \n",
      "0  0.140214 -0.982843 -0.666608 -1.459000  0.441052 -1.075562  0.159686  \n",
      "1  0.557160 -0.867883 -0.987329 -0.303094  0.441052 -0.492439 -0.101524  \n",
      "2  0.557160 -0.867883 -0.987329 -0.303094  0.396427 -1.208727  1.324247  \n",
      "3  1.077737 -0.752922 -1.106115  0.113032  0.416163 -1.361517  1.182758  \n",
      "4  1.077737 -0.752922 -1.106115  0.113032  0.441052 -1.026501  1.487503  \n"
     ]
    }
   ],
   "source": [
    "X,Y = bostonDataset.boston_data()"
   ]
  },
  {
   "cell_type": "code",
   "execution_count": 7,
   "id": "fe007438",
   "metadata": {
    "execution": {
     "iopub.execute_input": "2022-06-12T06:54:01.964643Z",
     "iopub.status.busy": "2022-06-12T06:54:01.964280Z",
     "iopub.status.idle": "2022-06-12T06:54:01.965566Z",
     "shell.execute_reply": "2022-06-12T06:54:01.965810Z"
    },
    "id": "fe007438",
    "papermill": {
     "duration": 0.011181,
     "end_time": "2022-06-12T06:54:01.965917",
     "exception": false,
     "start_time": "2022-06-12T06:54:01.954736",
     "status": "completed"
    },
    "tags": []
   },
   "outputs": [],
   "source": [
    "#Train test split for dataset \n",
    "X_train,X_test,Y_train,Y_test = train_test_split(X,Y,test_size = 0.2)\n",
    "train_data = dataset.CustomDataset(X_train,Y_train)\n",
    "test_data = dataset.CustomDataset(X_test,Y_test)\n"
   ]
  },
  {
   "cell_type": "markdown",
   "id": "a9a1af34",
   "metadata": {
    "id": "a9a1af34",
    "papermill": {
     "duration": 0.007093,
     "end_time": "2022-06-12T06:54:01.980224",
     "exception": false,
     "start_time": "2022-06-12T06:54:01.973131",
     "status": "completed"
    },
    "tags": []
   },
   "source": [
    "## Training Parameters "
   ]
  },
  {
   "cell_type": "code",
   "execution_count": 8,
   "id": "952b7fc8",
   "metadata": {
    "execution": {
     "iopub.execute_input": "2022-06-12T06:54:01.996733Z",
     "iopub.status.busy": "2022-06-12T06:54:01.996373Z",
     "iopub.status.idle": "2022-06-12T06:54:01.997570Z",
     "shell.execute_reply": "2022-06-12T06:54:01.997804Z"
    },
    "id": "952b7fc8",
    "papermill": {
     "duration": 0.010489,
     "end_time": "2022-06-12T06:54:01.997908",
     "exception": false,
     "start_time": "2022-06-12T06:54:01.987419",
     "status": "completed"
    },
    "tags": []
   },
   "outputs": [],
   "source": [
    "batch_size = 32\n",
    "n_epochs = 1000\n",
    "#Select the device \n",
    "device = torch.device('cuda' if torch.cuda.is_available() else 'cpu')"
   ]
  },
  {
   "cell_type": "markdown",
   "id": "a95e1600",
   "metadata": {
    "id": "a95e1600",
    "papermill": {
     "duration": 0.007378,
     "end_time": "2022-06-12T06:54:02.012843",
     "exception": false,
     "start_time": "2022-06-12T06:54:02.005465",
     "status": "completed"
    },
    "tags": []
   },
   "source": [
    "# ABC Pre-generator Model \n",
    "\n",
    "1. The catboost model is used as a pre-generator model for the ABC-GAN. \n",
    "2. The model is first trained on the entire dataset \n",
    "3. It generats X,Y pairs and we add some Gaussian noise with mean 0 and variance 1 to it which is then feed as input to the generator.\n"
   ]
  },
  {
   "cell_type": "code",
   "execution_count": 9,
   "id": "ff8ce7bd",
   "metadata": {
    "execution": {
     "iopub.execute_input": "2022-06-12T06:54:02.032795Z",
     "iopub.status.busy": "2022-06-12T06:54:02.032335Z",
     "iopub.status.idle": "2022-06-12T06:54:02.997371Z",
     "shell.execute_reply": "2022-06-12T06:54:02.997618Z"
    },
    "id": "ff8ce7bd",
    "papermill": {
     "duration": 0.977326,
     "end_time": "2022-06-12T06:54:02.997747",
     "exception": false,
     "start_time": "2022-06-12T06:54:02.020421",
     "status": "completed"
    },
    "tags": []
   },
   "outputs": [
    {
     "name": "stdout",
     "output_type": "stream",
     "text": [
      "Learning rate set to 0.033215\n",
      "0:\tlearn: 0.9885766\ttotal: 58.8ms\tremaining: 58.7s\n",
      "1:\tlearn: 0.9685874\ttotal: 59.8ms\tremaining: 29.8s\n",
      "2:\tlearn: 0.9482875\ttotal: 60.7ms\tremaining: 20.2s\n",
      "3:\tlearn: 0.9310611\ttotal: 61.6ms\tremaining: 15.3s\n",
      "4:\tlearn: 0.9141730\ttotal: 62.6ms\tremaining: 12.5s\n",
      "5:\tlearn: 0.8974838\ttotal: 63.6ms\tremaining: 10.5s\n",
      "6:\tlearn: 0.8810202\ttotal: 64.7ms\tremaining: 9.17s\n",
      "7:\tlearn: 0.8648949\ttotal: 65.5ms\tremaining: 8.13s\n",
      "8:\tlearn: 0.8499578\ttotal: 66.4ms\tremaining: 7.31s\n",
      "9:\tlearn: 0.8329220\ttotal: 67.1ms\tremaining: 6.65s\n",
      "10:\tlearn: 0.8185258\ttotal: 68ms\tremaining: 6.11s\n",
      "11:\tlearn: 0.8032863\ttotal: 69ms\tremaining: 5.68s\n",
      "12:\tlearn: 0.7881488\ttotal: 69.8ms\tremaining: 5.3s\n",
      "13:\tlearn: 0.7734167\ttotal: 70.6ms\tremaining: 4.97s\n",
      "14:\tlearn: 0.7615429\ttotal: 71.4ms\tremaining: 4.69s\n",
      "15:\tlearn: 0.7482069\ttotal: 72.2ms\tremaining: 4.44s\n",
      "16:\tlearn: 0.7357988\ttotal: 73ms\tremaining: 4.22s\n",
      "17:\tlearn: 0.7228612\ttotal: 73.8ms\tremaining: 4.03s\n",
      "18:\tlearn: 0.7106853\ttotal: 75.2ms\tremaining: 3.88s\n",
      "19:\tlearn: 0.6983747\ttotal: 76ms\tremaining: 3.72s\n",
      "20:\tlearn: 0.6881396\ttotal: 76.7ms\tremaining: 3.58s\n",
      "21:\tlearn: 0.6762522\ttotal: 77.4ms\tremaining: 3.44s\n",
      "22:\tlearn: 0.6654227\ttotal: 78.2ms\tremaining: 3.32s\n",
      "23:\tlearn: 0.6551780\ttotal: 79ms\tremaining: 3.21s\n",
      "24:\tlearn: 0.6455635\ttotal: 79.8ms\tremaining: 3.11s\n",
      "25:\tlearn: 0.6364175\ttotal: 80.5ms\tremaining: 3.02s\n",
      "26:\tlearn: 0.6265137\ttotal: 81.3ms\tremaining: 2.93s\n",
      "27:\tlearn: 0.6178516\ttotal: 82.1ms\tremaining: 2.85s\n",
      "28:\tlearn: 0.6086661\ttotal: 83ms\tremaining: 2.78s\n",
      "29:\tlearn: 0.5991037\ttotal: 83.8ms\tremaining: 2.71s\n",
      "30:\tlearn: 0.5883637\ttotal: 84.5ms\tremaining: 2.64s\n",
      "31:\tlearn: 0.5796991\ttotal: 85.3ms\tremaining: 2.58s\n",
      "32:\tlearn: 0.5728238\ttotal: 86.2ms\tremaining: 2.52s\n",
      "33:\tlearn: 0.5649550\ttotal: 86.9ms\tremaining: 2.47s\n",
      "34:\tlearn: 0.5568787\ttotal: 87.6ms\tremaining: 2.41s\n",
      "35:\tlearn: 0.5507028\ttotal: 88.4ms\tremaining: 2.37s\n",
      "36:\tlearn: 0.5441723\ttotal: 89.2ms\tremaining: 2.32s\n",
      "37:\tlearn: 0.5361665\ttotal: 89.9ms\tremaining: 2.28s\n",
      "38:\tlearn: 0.5289874\ttotal: 90.7ms\tremaining: 2.24s\n",
      "39:\tlearn: 0.5213900\ttotal: 91.4ms\tremaining: 2.19s\n",
      "40:\tlearn: 0.5156390\ttotal: 92.4ms\tremaining: 2.16s\n",
      "41:\tlearn: 0.5085787\ttotal: 93.1ms\tremaining: 2.12s\n",
      "42:\tlearn: 0.5032521\ttotal: 94ms\tremaining: 2.09s\n",
      "43:\tlearn: 0.4975282\ttotal: 94.9ms\tremaining: 2.06s\n",
      "44:\tlearn: 0.4915976\ttotal: 95.6ms\tremaining: 2.03s\n",
      "45:\tlearn: 0.4856856\ttotal: 96.5ms\tremaining: 2s\n",
      "46:\tlearn: 0.4804060\ttotal: 97.4ms\tremaining: 1.97s\n",
      "47:\tlearn: 0.4749287\ttotal: 98.2ms\tremaining: 1.95s\n",
      "48:\tlearn: 0.4702113\ttotal: 98.9ms\tremaining: 1.92s\n",
      "49:\tlearn: 0.4647725\ttotal: 99.7ms\tremaining: 1.9s\n",
      "50:\tlearn: 0.4595856\ttotal: 101ms\tremaining: 1.87s\n",
      "51:\tlearn: 0.4549905\ttotal: 101ms\tremaining: 1.85s\n",
      "52:\tlearn: 0.4498024\ttotal: 102ms\tremaining: 1.83s\n",
      "53:\tlearn: 0.4464977\ttotal: 103ms\tremaining: 1.8s\n",
      "54:\tlearn: 0.4410523\ttotal: 104ms\tremaining: 1.78s\n",
      "55:\tlearn: 0.4370516\ttotal: 104ms\tremaining: 1.76s\n",
      "56:\tlearn: 0.4320346\ttotal: 105ms\tremaining: 1.74s\n",
      "57:\tlearn: 0.4283089\ttotal: 106ms\tremaining: 1.72s\n"
     ]
    },
    {
     "name": "stdout",
     "output_type": "stream",
     "text": [
      "58:\tlearn: 0.4248406\ttotal: 107ms\tremaining: 1.71s\n",
      "59:\tlearn: 0.4211115\ttotal: 108ms\tremaining: 1.69s\n",
      "60:\tlearn: 0.4164527\ttotal: 109ms\tremaining: 1.68s\n",
      "61:\tlearn: 0.4125577\ttotal: 110ms\tremaining: 1.66s\n",
      "62:\tlearn: 0.4097020\ttotal: 111ms\tremaining: 1.65s\n",
      "63:\tlearn: 0.4055086\ttotal: 111ms\tremaining: 1.63s\n",
      "64:\tlearn: 0.4025522\ttotal: 112ms\tremaining: 1.61s\n",
      "65:\tlearn: 0.3993750\ttotal: 113ms\tremaining: 1.6s\n",
      "66:\tlearn: 0.3959957\ttotal: 114ms\tremaining: 1.59s\n",
      "67:\tlearn: 0.3927837\ttotal: 115ms\tremaining: 1.57s\n",
      "68:\tlearn: 0.3894439\ttotal: 116ms\tremaining: 1.56s\n",
      "69:\tlearn: 0.3868179\ttotal: 116ms\tremaining: 1.55s\n",
      "70:\tlearn: 0.3835233\ttotal: 117ms\tremaining: 1.53s\n",
      "71:\tlearn: 0.3809700\ttotal: 118ms\tremaining: 1.52s\n",
      "72:\tlearn: 0.3783010\ttotal: 119ms\tremaining: 1.51s\n",
      "73:\tlearn: 0.3748747\ttotal: 120ms\tremaining: 1.5s\n",
      "74:\tlearn: 0.3716300\ttotal: 121ms\tremaining: 1.49s\n",
      "75:\tlearn: 0.3693638\ttotal: 121ms\tremaining: 1.48s\n",
      "76:\tlearn: 0.3659144\ttotal: 122ms\tremaining: 1.47s\n",
      "77:\tlearn: 0.3634534\ttotal: 123ms\tremaining: 1.46s\n",
      "78:\tlearn: 0.3604823\ttotal: 124ms\tremaining: 1.44s\n",
      "79:\tlearn: 0.3576902\ttotal: 125ms\tremaining: 1.43s\n",
      "80:\tlearn: 0.3552307\ttotal: 126ms\tremaining: 1.42s\n",
      "81:\tlearn: 0.3527250\ttotal: 126ms\tremaining: 1.41s\n",
      "82:\tlearn: 0.3511323\ttotal: 127ms\tremaining: 1.41s\n",
      "83:\tlearn: 0.3488329\ttotal: 128ms\tremaining: 1.4s\n",
      "84:\tlearn: 0.3463041\ttotal: 129ms\tremaining: 1.39s\n",
      "85:\tlearn: 0.3434730\ttotal: 129ms\tremaining: 1.38s\n",
      "86:\tlearn: 0.3413881\ttotal: 130ms\tremaining: 1.37s\n",
      "87:\tlearn: 0.3391971\ttotal: 132ms\tremaining: 1.37s\n",
      "88:\tlearn: 0.3365125\ttotal: 133ms\tremaining: 1.36s\n",
      "89:\tlearn: 0.3345291\ttotal: 134ms\tremaining: 1.35s\n",
      "90:\tlearn: 0.3322372\ttotal: 135ms\tremaining: 1.34s\n",
      "91:\tlearn: 0.3301997\ttotal: 135ms\tremaining: 1.34s\n",
      "92:\tlearn: 0.3289803\ttotal: 136ms\tremaining: 1.33s\n",
      "93:\tlearn: 0.3272935\ttotal: 137ms\tremaining: 1.32s\n",
      "94:\tlearn: 0.3253041\ttotal: 138ms\tremaining: 1.31s\n",
      "95:\tlearn: 0.3232373\ttotal: 139ms\tremaining: 1.31s\n",
      "96:\tlearn: 0.3213434\ttotal: 140ms\tremaining: 1.3s\n",
      "97:\tlearn: 0.3195740\ttotal: 140ms\tremaining: 1.29s\n",
      "98:\tlearn: 0.3179568\ttotal: 141ms\tremaining: 1.28s\n",
      "99:\tlearn: 0.3159309\ttotal: 142ms\tremaining: 1.27s\n",
      "100:\tlearn: 0.3139616\ttotal: 143ms\tremaining: 1.27s\n",
      "101:\tlearn: 0.3123713\ttotal: 144ms\tremaining: 1.27s\n",
      "102:\tlearn: 0.3107678\ttotal: 145ms\tremaining: 1.26s\n",
      "103:\tlearn: 0.3092619\ttotal: 146ms\tremaining: 1.25s\n",
      "104:\tlearn: 0.3079519\ttotal: 146ms\tremaining: 1.25s\n",
      "105:\tlearn: 0.3062562\ttotal: 147ms\tremaining: 1.24s\n",
      "106:\tlearn: 0.3045566\ttotal: 148ms\tremaining: 1.24s\n",
      "107:\tlearn: 0.3023732\ttotal: 149ms\tremaining: 1.23s\n",
      "108:\tlearn: 0.3010655\ttotal: 150ms\tremaining: 1.22s\n",
      "109:\tlearn: 0.2994953\ttotal: 150ms\tremaining: 1.22s\n",
      "110:\tlearn: 0.2979304\ttotal: 151ms\tremaining: 1.21s\n",
      "111:\tlearn: 0.2963037\ttotal: 152ms\tremaining: 1.2s\n",
      "112:\tlearn: 0.2945915\ttotal: 153ms\tremaining: 1.2s\n",
      "113:\tlearn: 0.2935054\ttotal: 154ms\tremaining: 1.19s\n",
      "114:\tlearn: 0.2921613\ttotal: 154ms\tremaining: 1.19s\n",
      "115:\tlearn: 0.2903311\ttotal: 155ms\tremaining: 1.18s\n",
      "116:\tlearn: 0.2888950\ttotal: 156ms\tremaining: 1.18s\n",
      "117:\tlearn: 0.2875431\ttotal: 157ms\tremaining: 1.17s\n",
      "118:\tlearn: 0.2860649\ttotal: 158ms\tremaining: 1.17s\n",
      "119:\tlearn: 0.2852189\ttotal: 159ms\tremaining: 1.16s\n",
      "120:\tlearn: 0.2836347\ttotal: 159ms\tremaining: 1.16s\n",
      "121:\tlearn: 0.2827889\ttotal: 160ms\tremaining: 1.15s\n",
      "122:\tlearn: 0.2820411\ttotal: 161ms\tremaining: 1.15s\n",
      "123:\tlearn: 0.2810799\ttotal: 162ms\tremaining: 1.15s\n",
      "124:\tlearn: 0.2800936\ttotal: 163ms\tremaining: 1.14s\n",
      "125:\tlearn: 0.2791146\ttotal: 164ms\tremaining: 1.13s\n",
      "126:\tlearn: 0.2777732\ttotal: 164ms\tremaining: 1.13s\n",
      "127:\tlearn: 0.2766174\ttotal: 165ms\tremaining: 1.12s\n",
      "128:\tlearn: 0.2755146\ttotal: 166ms\tremaining: 1.12s\n",
      "129:\tlearn: 0.2745079\ttotal: 167ms\tremaining: 1.12s\n",
      "130:\tlearn: 0.2733105\ttotal: 168ms\tremaining: 1.11s\n",
      "131:\tlearn: 0.2721637\ttotal: 169ms\tremaining: 1.11s\n",
      "132:\tlearn: 0.2713481\ttotal: 169ms\tremaining: 1.1s\n",
      "133:\tlearn: 0.2707178\ttotal: 170ms\tremaining: 1.1s\n",
      "134:\tlearn: 0.2702390\ttotal: 171ms\tremaining: 1.09s\n",
      "135:\tlearn: 0.2692606\ttotal: 172ms\tremaining: 1.09s\n",
      "136:\tlearn: 0.2683324\ttotal: 172ms\tremaining: 1.08s\n",
      "137:\tlearn: 0.2675830\ttotal: 173ms\tremaining: 1.08s\n",
      "138:\tlearn: 0.2662708\ttotal: 174ms\tremaining: 1.08s\n",
      "139:\tlearn: 0.2654089\ttotal: 175ms\tremaining: 1.07s\n",
      "140:\tlearn: 0.2645538\ttotal: 176ms\tremaining: 1.07s\n",
      "141:\tlearn: 0.2638191\ttotal: 177ms\tremaining: 1.07s\n",
      "142:\tlearn: 0.2632980\ttotal: 177ms\tremaining: 1.06s\n",
      "143:\tlearn: 0.2621627\ttotal: 178ms\tremaining: 1.06s\n",
      "144:\tlearn: 0.2609460\ttotal: 179ms\tremaining: 1.06s\n",
      "145:\tlearn: 0.2601011\ttotal: 180ms\tremaining: 1.05s\n",
      "146:\tlearn: 0.2594521\ttotal: 181ms\tremaining: 1.05s\n",
      "147:\tlearn: 0.2587563\ttotal: 182ms\tremaining: 1.05s\n",
      "148:\tlearn: 0.2577029\ttotal: 183ms\tremaining: 1.04s\n",
      "149:\tlearn: 0.2570471\ttotal: 183ms\tremaining: 1.04s\n",
      "150:\tlearn: 0.2564524\ttotal: 184ms\tremaining: 1.03s\n",
      "151:\tlearn: 0.2556568\ttotal: 185ms\tremaining: 1.03s\n",
      "152:\tlearn: 0.2552841\ttotal: 186ms\tremaining: 1.03s\n",
      "153:\tlearn: 0.2542724\ttotal: 186ms\tremaining: 1.02s\n",
      "154:\tlearn: 0.2532711\ttotal: 187ms\tremaining: 1.02s\n",
      "155:\tlearn: 0.2525620\ttotal: 188ms\tremaining: 1.02s\n",
      "156:\tlearn: 0.2515361\ttotal: 189ms\tremaining: 1.01s\n",
      "157:\tlearn: 0.2510524\ttotal: 190ms\tremaining: 1.01s\n",
      "158:\tlearn: 0.2502575\ttotal: 190ms\tremaining: 1.01s\n"
     ]
    },
    {
     "name": "stdout",
     "output_type": "stream",
     "text": [
      "159:\tlearn: 0.2498460\ttotal: 191ms\tremaining: 1s\n",
      "160:\tlearn: 0.2489551\ttotal: 192ms\tremaining: 1s\n",
      "161:\tlearn: 0.2480473\ttotal: 193ms\tremaining: 999ms\n",
      "162:\tlearn: 0.2471951\ttotal: 194ms\tremaining: 996ms\n",
      "163:\tlearn: 0.2470054\ttotal: 195ms\tremaining: 993ms\n",
      "164:\tlearn: 0.2463171\ttotal: 196ms\tremaining: 990ms\n",
      "165:\tlearn: 0.2456363\ttotal: 196ms\tremaining: 987ms\n",
      "166:\tlearn: 0.2451456\ttotal: 197ms\tremaining: 984ms\n",
      "167:\tlearn: 0.2450021\ttotal: 198ms\tremaining: 981ms\n",
      "168:\tlearn: 0.2446732\ttotal: 199ms\tremaining: 978ms\n",
      "169:\tlearn: 0.2439631\ttotal: 200ms\tremaining: 974ms\n",
      "170:\tlearn: 0.2432887\ttotal: 200ms\tremaining: 971ms\n",
      "171:\tlearn: 0.2427385\ttotal: 201ms\tremaining: 968ms\n",
      "172:\tlearn: 0.2421207\ttotal: 202ms\tremaining: 965ms\n",
      "173:\tlearn: 0.2416899\ttotal: 203ms\tremaining: 962ms\n",
      "174:\tlearn: 0.2410006\ttotal: 204ms\tremaining: 960ms\n",
      "175:\tlearn: 0.2408198\ttotal: 204ms\tremaining: 957ms\n",
      "176:\tlearn: 0.2400332\ttotal: 205ms\tremaining: 955ms\n",
      "177:\tlearn: 0.2393348\ttotal: 206ms\tremaining: 951ms\n",
      "178:\tlearn: 0.2387404\ttotal: 207ms\tremaining: 949ms\n",
      "179:\tlearn: 0.2384472\ttotal: 208ms\tremaining: 946ms\n",
      "180:\tlearn: 0.2376092\ttotal: 208ms\tremaining: 943ms\n",
      "181:\tlearn: 0.2365496\ttotal: 209ms\tremaining: 940ms\n",
      "182:\tlearn: 0.2358508\ttotal: 210ms\tremaining: 937ms\n",
      "183:\tlearn: 0.2350219\ttotal: 211ms\tremaining: 935ms\n",
      "184:\tlearn: 0.2341174\ttotal: 212ms\tremaining: 932ms\n",
      "185:\tlearn: 0.2331596\ttotal: 213ms\tremaining: 930ms\n",
      "186:\tlearn: 0.2323974\ttotal: 213ms\tremaining: 928ms\n",
      "187:\tlearn: 0.2319416\ttotal: 215ms\tremaining: 928ms\n",
      "188:\tlearn: 0.2313013\ttotal: 216ms\tremaining: 925ms\n",
      "189:\tlearn: 0.2306703\ttotal: 216ms\tremaining: 923ms\n",
      "190:\tlearn: 0.2300607\ttotal: 217ms\tremaining: 920ms\n",
      "191:\tlearn: 0.2294663\ttotal: 218ms\tremaining: 918ms\n",
      "192:\tlearn: 0.2290523\ttotal: 219ms\tremaining: 916ms\n",
      "193:\tlearn: 0.2288365\ttotal: 220ms\tremaining: 913ms\n",
      "194:\tlearn: 0.2280994\ttotal: 220ms\tremaining: 910ms\n",
      "195:\tlearn: 0.2278339\ttotal: 221ms\tremaining: 907ms\n",
      "196:\tlearn: 0.2274693\ttotal: 222ms\tremaining: 905ms\n",
      "197:\tlearn: 0.2265175\ttotal: 223ms\tremaining: 903ms\n",
      "198:\tlearn: 0.2256504\ttotal: 224ms\tremaining: 900ms\n",
      "199:\tlearn: 0.2247828\ttotal: 225ms\tremaining: 898ms\n",
      "200:\tlearn: 0.2238973\ttotal: 225ms\tremaining: 896ms\n",
      "201:\tlearn: 0.2232526\ttotal: 226ms\tremaining: 894ms\n",
      "202:\tlearn: 0.2224486\ttotal: 227ms\tremaining: 892ms\n",
      "203:\tlearn: 0.2216743\ttotal: 228ms\tremaining: 889ms\n",
      "204:\tlearn: 0.2212343\ttotal: 229ms\tremaining: 887ms\n",
      "205:\tlearn: 0.2204056\ttotal: 230ms\tremaining: 885ms\n",
      "206:\tlearn: 0.2198552\ttotal: 230ms\tremaining: 882ms\n",
      "207:\tlearn: 0.2196564\ttotal: 231ms\tremaining: 880ms\n",
      "208:\tlearn: 0.2193804\ttotal: 232ms\tremaining: 878ms\n",
      "209:\tlearn: 0.2190877\ttotal: 233ms\tremaining: 876ms\n",
      "210:\tlearn: 0.2185913\ttotal: 234ms\tremaining: 874ms\n",
      "211:\tlearn: 0.2182666\ttotal: 234ms\tremaining: 871ms\n",
      "212:\tlearn: 0.2180515\ttotal: 236ms\tremaining: 871ms\n",
      "213:\tlearn: 0.2174948\ttotal: 237ms\tremaining: 869ms\n",
      "214:\tlearn: 0.2172931\ttotal: 238ms\tremaining: 867ms\n",
      "215:\tlearn: 0.2170246\ttotal: 238ms\tremaining: 865ms\n",
      "216:\tlearn: 0.2164151\ttotal: 239ms\tremaining: 863ms\n",
      "217:\tlearn: 0.2160380\ttotal: 240ms\tremaining: 861ms\n",
      "218:\tlearn: 0.2153507\ttotal: 241ms\tremaining: 858ms\n",
      "219:\tlearn: 0.2147428\ttotal: 242ms\tremaining: 856ms\n",
      "220:\tlearn: 0.2142108\ttotal: 242ms\tremaining: 854ms\n",
      "221:\tlearn: 0.2140780\ttotal: 243ms\tremaining: 852ms\n",
      "222:\tlearn: 0.2135949\ttotal: 244ms\tremaining: 849ms\n",
      "223:\tlearn: 0.2129770\ttotal: 245ms\tremaining: 847ms\n",
      "224:\tlearn: 0.2123990\ttotal: 245ms\tremaining: 845ms\n",
      "225:\tlearn: 0.2121004\ttotal: 246ms\tremaining: 843ms\n",
      "226:\tlearn: 0.2118467\ttotal: 247ms\tremaining: 841ms\n",
      "227:\tlearn: 0.2117154\ttotal: 248ms\tremaining: 839ms\n",
      "228:\tlearn: 0.2114259\ttotal: 249ms\tremaining: 837ms\n",
      "229:\tlearn: 0.2112703\ttotal: 249ms\tremaining: 835ms\n",
      "230:\tlearn: 0.2110864\ttotal: 250ms\tremaining: 833ms\n",
      "231:\tlearn: 0.2106594\ttotal: 251ms\tremaining: 831ms\n",
      "232:\tlearn: 0.2104729\ttotal: 252ms\tremaining: 829ms\n",
      "233:\tlearn: 0.2102165\ttotal: 253ms\tremaining: 827ms\n",
      "234:\tlearn: 0.2099884\ttotal: 254ms\tremaining: 825ms\n",
      "235:\tlearn: 0.2092393\ttotal: 254ms\tremaining: 823ms\n",
      "236:\tlearn: 0.2086698\ttotal: 255ms\tremaining: 821ms\n",
      "237:\tlearn: 0.2084492\ttotal: 256ms\tremaining: 819ms\n",
      "238:\tlearn: 0.2082434\ttotal: 257ms\tremaining: 817ms\n",
      "239:\tlearn: 0.2079615\ttotal: 258ms\tremaining: 816ms\n",
      "240:\tlearn: 0.2076887\ttotal: 258ms\tremaining: 814ms\n",
      "241:\tlearn: 0.2075117\ttotal: 259ms\tremaining: 812ms\n",
      "242:\tlearn: 0.2069272\ttotal: 260ms\tremaining: 810ms\n",
      "243:\tlearn: 0.2067239\ttotal: 261ms\tremaining: 808ms\n",
      "244:\tlearn: 0.2061627\ttotal: 262ms\tremaining: 806ms\n",
      "245:\tlearn: 0.2059341\ttotal: 262ms\tremaining: 804ms\n",
      "246:\tlearn: 0.2057420\ttotal: 263ms\tremaining: 802ms\n",
      "247:\tlearn: 0.2054877\ttotal: 264ms\tremaining: 800ms\n",
      "248:\tlearn: 0.2053425\ttotal: 265ms\tremaining: 799ms\n",
      "249:\tlearn: 0.2048662\ttotal: 265ms\tremaining: 796ms\n",
      "250:\tlearn: 0.2042827\ttotal: 266ms\tremaining: 795ms\n",
      "251:\tlearn: 0.2038482\ttotal: 267ms\tremaining: 793ms\n",
      "252:\tlearn: 0.2035867\ttotal: 268ms\tremaining: 791ms\n",
      "253:\tlearn: 0.2029938\ttotal: 269ms\tremaining: 789ms\n",
      "254:\tlearn: 0.2028214\ttotal: 270ms\tremaining: 787ms\n",
      "255:\tlearn: 0.2025797\ttotal: 270ms\tremaining: 786ms\n",
      "256:\tlearn: 0.2021673\ttotal: 271ms\tremaining: 784ms\n",
      "257:\tlearn: 0.2016739\ttotal: 272ms\tremaining: 782ms\n",
      "258:\tlearn: 0.2011780\ttotal: 273ms\tremaining: 781ms\n",
      "259:\tlearn: 0.2010067\ttotal: 273ms\tremaining: 778ms\n",
      "260:\tlearn: 0.2003069\ttotal: 274ms\tremaining: 776ms\n",
      "261:\tlearn: 0.2001741\ttotal: 275ms\tremaining: 774ms\n",
      "262:\tlearn: 0.1999790\ttotal: 276ms\tremaining: 772ms\n",
      "263:\tlearn: 0.1997281\ttotal: 276ms\tremaining: 771ms\n",
      "264:\tlearn: 0.1995999\ttotal: 277ms\tremaining: 769ms\n",
      "265:\tlearn: 0.1993931\ttotal: 278ms\tremaining: 767ms\n",
      "266:\tlearn: 0.1985918\ttotal: 279ms\tremaining: 766ms\n",
      "267:\tlearn: 0.1980969\ttotal: 280ms\tremaining: 764ms\n",
      "268:\tlearn: 0.1977031\ttotal: 281ms\tremaining: 763ms\n",
      "269:\tlearn: 0.1975094\ttotal: 281ms\tremaining: 761ms\n",
      "270:\tlearn: 0.1971556\ttotal: 282ms\tremaining: 759ms\n",
      "271:\tlearn: 0.1967534\ttotal: 283ms\tremaining: 757ms\n",
      "272:\tlearn: 0.1961265\ttotal: 284ms\tremaining: 756ms\n",
      "273:\tlearn: 0.1956585\ttotal: 285ms\tremaining: 755ms\n",
      "274:\tlearn: 0.1955284\ttotal: 285ms\tremaining: 753ms\n",
      "275:\tlearn: 0.1953075\ttotal: 286ms\tremaining: 751ms\n",
      "276:\tlearn: 0.1950641\ttotal: 287ms\tremaining: 749ms\n",
      "277:\tlearn: 0.1943082\ttotal: 288ms\tremaining: 748ms\n",
      "278:\tlearn: 0.1941201\ttotal: 289ms\tremaining: 746ms\n",
      "279:\tlearn: 0.1936668\ttotal: 289ms\tremaining: 744ms\n",
      "280:\tlearn: 0.1933804\ttotal: 290ms\tremaining: 743ms\n",
      "281:\tlearn: 0.1930676\ttotal: 291ms\tremaining: 741ms\n",
      "282:\tlearn: 0.1929022\ttotal: 292ms\tremaining: 740ms\n",
      "283:\tlearn: 0.1927813\ttotal: 293ms\tremaining: 738ms\n",
      "284:\tlearn: 0.1925457\ttotal: 293ms\tremaining: 736ms\n",
      "285:\tlearn: 0.1921980\ttotal: 295ms\tremaining: 735ms\n",
      "286:\tlearn: 0.1915078\ttotal: 295ms\tremaining: 734ms\n",
      "287:\tlearn: 0.1910615\ttotal: 296ms\tremaining: 733ms\n",
      "288:\tlearn: 0.1908485\ttotal: 297ms\tremaining: 731ms\n"
     ]
    },
    {
     "name": "stdout",
     "output_type": "stream",
     "text": [
      "289:\tlearn: 0.1905706\ttotal: 298ms\tremaining: 730ms\n",
      "290:\tlearn: 0.1902208\ttotal: 299ms\tremaining: 729ms\n",
      "291:\tlearn: 0.1897857\ttotal: 300ms\tremaining: 727ms\n",
      "292:\tlearn: 0.1896295\ttotal: 301ms\tremaining: 726ms\n",
      "293:\tlearn: 0.1892017\ttotal: 302ms\tremaining: 725ms\n",
      "294:\tlearn: 0.1890922\ttotal: 303ms\tremaining: 724ms\n",
      "295:\tlearn: 0.1889502\ttotal: 303ms\tremaining: 722ms\n",
      "296:\tlearn: 0.1887062\ttotal: 304ms\tremaining: 720ms\n",
      "297:\tlearn: 0.1883190\ttotal: 305ms\tremaining: 719ms\n",
      "298:\tlearn: 0.1880959\ttotal: 306ms\tremaining: 717ms\n",
      "299:\tlearn: 0.1879578\ttotal: 307ms\tremaining: 716ms\n",
      "300:\tlearn: 0.1875895\ttotal: 307ms\tremaining: 714ms\n",
      "301:\tlearn: 0.1872888\ttotal: 308ms\tremaining: 712ms\n",
      "302:\tlearn: 0.1867930\ttotal: 309ms\tremaining: 711ms\n",
      "303:\tlearn: 0.1866690\ttotal: 310ms\tremaining: 709ms\n",
      "304:\tlearn: 0.1865795\ttotal: 311ms\tremaining: 708ms\n",
      "305:\tlearn: 0.1860060\ttotal: 311ms\tremaining: 706ms\n",
      "306:\tlearn: 0.1858910\ttotal: 312ms\tremaining: 705ms\n",
      "307:\tlearn: 0.1855499\ttotal: 313ms\tremaining: 703ms\n",
      "308:\tlearn: 0.1853696\ttotal: 314ms\tremaining: 702ms\n",
      "309:\tlearn: 0.1851982\ttotal: 315ms\tremaining: 700ms\n",
      "310:\tlearn: 0.1847045\ttotal: 316ms\tremaining: 699ms\n",
      "311:\tlearn: 0.1844371\ttotal: 316ms\tremaining: 698ms\n",
      "312:\tlearn: 0.1839962\ttotal: 317ms\tremaining: 696ms\n",
      "313:\tlearn: 0.1834416\ttotal: 318ms\tremaining: 695ms\n",
      "314:\tlearn: 0.1832838\ttotal: 319ms\tremaining: 693ms\n",
      "315:\tlearn: 0.1827156\ttotal: 320ms\tremaining: 692ms\n",
      "316:\tlearn: 0.1819722\ttotal: 320ms\tremaining: 690ms\n",
      "317:\tlearn: 0.1815249\ttotal: 321ms\tremaining: 689ms\n",
      "318:\tlearn: 0.1814438\ttotal: 322ms\tremaining: 687ms\n",
      "319:\tlearn: 0.1810746\ttotal: 323ms\tremaining: 686ms\n",
      "320:\tlearn: 0.1804945\ttotal: 324ms\tremaining: 684ms\n",
      "321:\tlearn: 0.1799298\ttotal: 324ms\tremaining: 683ms\n",
      "322:\tlearn: 0.1798399\ttotal: 325ms\tremaining: 682ms\n",
      "323:\tlearn: 0.1794800\ttotal: 326ms\tremaining: 680ms\n",
      "324:\tlearn: 0.1791522\ttotal: 327ms\tremaining: 679ms\n",
      "325:\tlearn: 0.1789289\ttotal: 328ms\tremaining: 677ms\n",
      "326:\tlearn: 0.1787266\ttotal: 328ms\tremaining: 676ms\n",
      "327:\tlearn: 0.1786229\ttotal: 329ms\tremaining: 674ms\n",
      "328:\tlearn: 0.1782465\ttotal: 330ms\tremaining: 673ms\n",
      "329:\tlearn: 0.1780500\ttotal: 331ms\tremaining: 672ms\n",
      "330:\tlearn: 0.1776328\ttotal: 332ms\tremaining: 671ms\n",
      "331:\tlearn: 0.1771934\ttotal: 333ms\tremaining: 669ms\n",
      "332:\tlearn: 0.1767100\ttotal: 333ms\tremaining: 668ms\n",
      "333:\tlearn: 0.1766456\ttotal: 334ms\tremaining: 666ms\n",
      "334:\tlearn: 0.1760654\ttotal: 335ms\tremaining: 665ms\n",
      "335:\tlearn: 0.1755593\ttotal: 336ms\tremaining: 664ms\n",
      "336:\tlearn: 0.1754100\ttotal: 337ms\tremaining: 662ms\n",
      "337:\tlearn: 0.1753087\ttotal: 338ms\tremaining: 661ms\n",
      "338:\tlearn: 0.1747988\ttotal: 338ms\tremaining: 660ms\n",
      "339:\tlearn: 0.1744029\ttotal: 339ms\tremaining: 659ms\n",
      "340:\tlearn: 0.1742596\ttotal: 340ms\tremaining: 657ms\n",
      "341:\tlearn: 0.1739797\ttotal: 341ms\tremaining: 656ms\n",
      "342:\tlearn: 0.1738763\ttotal: 342ms\tremaining: 654ms\n",
      "343:\tlearn: 0.1737209\ttotal: 342ms\tremaining: 653ms\n",
      "344:\tlearn: 0.1736118\ttotal: 343ms\tremaining: 651ms\n",
      "345:\tlearn: 0.1730825\ttotal: 344ms\tremaining: 650ms\n",
      "346:\tlearn: 0.1729670\ttotal: 345ms\tremaining: 649ms\n",
      "347:\tlearn: 0.1728399\ttotal: 346ms\tremaining: 647ms\n",
      "348:\tlearn: 0.1725411\ttotal: 347ms\tremaining: 646ms\n",
      "349:\tlearn: 0.1720324\ttotal: 347ms\tremaining: 645ms\n",
      "350:\tlearn: 0.1719292\ttotal: 348ms\tremaining: 644ms\n",
      "351:\tlearn: 0.1715827\ttotal: 349ms\tremaining: 642ms\n",
      "352:\tlearn: 0.1709890\ttotal: 350ms\tremaining: 641ms\n",
      "353:\tlearn: 0.1708940\ttotal: 350ms\tremaining: 639ms\n",
      "354:\tlearn: 0.1704683\ttotal: 351ms\tremaining: 638ms\n",
      "355:\tlearn: 0.1704161\ttotal: 352ms\tremaining: 637ms\n",
      "356:\tlearn: 0.1703486\ttotal: 353ms\tremaining: 635ms\n",
      "357:\tlearn: 0.1701191\ttotal: 354ms\tremaining: 634ms\n",
      "358:\tlearn: 0.1700326\ttotal: 355ms\tremaining: 633ms\n",
      "359:\tlearn: 0.1698091\ttotal: 355ms\tremaining: 632ms\n",
      "360:\tlearn: 0.1696808\ttotal: 356ms\tremaining: 631ms\n",
      "361:\tlearn: 0.1695983\ttotal: 357ms\tremaining: 629ms\n",
      "362:\tlearn: 0.1690449\ttotal: 358ms\tremaining: 628ms\n",
      "363:\tlearn: 0.1689734\ttotal: 359ms\tremaining: 627ms\n",
      "364:\tlearn: 0.1682500\ttotal: 359ms\tremaining: 625ms\n",
      "365:\tlearn: 0.1680254\ttotal: 360ms\tremaining: 624ms\n",
      "366:\tlearn: 0.1675226\ttotal: 361ms\tremaining: 623ms\n",
      "367:\tlearn: 0.1669259\ttotal: 362ms\tremaining: 622ms\n",
      "368:\tlearn: 0.1665038\ttotal: 363ms\tremaining: 620ms\n",
      "369:\tlearn: 0.1661403\ttotal: 363ms\tremaining: 619ms\n",
      "370:\tlearn: 0.1658723\ttotal: 364ms\tremaining: 618ms\n",
      "371:\tlearn: 0.1653786\ttotal: 365ms\tremaining: 616ms\n",
      "372:\tlearn: 0.1649027\ttotal: 366ms\tremaining: 615ms\n",
      "373:\tlearn: 0.1646373\ttotal: 367ms\tremaining: 615ms\n",
      "374:\tlearn: 0.1641715\ttotal: 368ms\tremaining: 614ms\n",
      "375:\tlearn: 0.1640088\ttotal: 369ms\tremaining: 612ms\n",
      "376:\tlearn: 0.1635065\ttotal: 370ms\tremaining: 611ms\n",
      "377:\tlearn: 0.1630536\ttotal: 371ms\tremaining: 610ms\n",
      "378:\tlearn: 0.1626468\ttotal: 372ms\tremaining: 609ms\n",
      "379:\tlearn: 0.1620191\ttotal: 373ms\tremaining: 608ms\n",
      "380:\tlearn: 0.1615797\ttotal: 374ms\tremaining: 607ms\n",
      "381:\tlearn: 0.1611314\ttotal: 374ms\tremaining: 606ms\n",
      "382:\tlearn: 0.1607930\ttotal: 375ms\tremaining: 604ms\n",
      "383:\tlearn: 0.1605132\ttotal: 376ms\tremaining: 603ms\n",
      "384:\tlearn: 0.1599784\ttotal: 377ms\tremaining: 602ms\n",
      "385:\tlearn: 0.1595924\ttotal: 377ms\tremaining: 600ms\n",
      "386:\tlearn: 0.1592111\ttotal: 378ms\tremaining: 599ms\n",
      "387:\tlearn: 0.1591610\ttotal: 379ms\tremaining: 598ms\n",
      "388:\tlearn: 0.1591148\ttotal: 380ms\tremaining: 597ms\n"
     ]
    },
    {
     "name": "stdout",
     "output_type": "stream",
     "text": [
      "389:\tlearn: 0.1589486\ttotal: 381ms\tremaining: 596ms\n",
      "390:\tlearn: 0.1586869\ttotal: 382ms\tremaining: 596ms\n",
      "391:\tlearn: 0.1583490\ttotal: 383ms\tremaining: 594ms\n",
      "392:\tlearn: 0.1580700\ttotal: 384ms\tremaining: 593ms\n",
      "393:\tlearn: 0.1576611\ttotal: 385ms\tremaining: 592ms\n",
      "394:\tlearn: 0.1574864\ttotal: 386ms\tremaining: 591ms\n",
      "395:\tlearn: 0.1571289\ttotal: 387ms\tremaining: 590ms\n",
      "396:\tlearn: 0.1570201\ttotal: 388ms\tremaining: 589ms\n",
      "397:\tlearn: 0.1567649\ttotal: 389ms\tremaining: 588ms\n",
      "398:\tlearn: 0.1563603\ttotal: 389ms\tremaining: 587ms\n",
      "399:\tlearn: 0.1559692\ttotal: 390ms\tremaining: 585ms\n",
      "400:\tlearn: 0.1555214\ttotal: 391ms\tremaining: 584ms\n",
      "401:\tlearn: 0.1550717\ttotal: 392ms\tremaining: 583ms\n",
      "402:\tlearn: 0.1549326\ttotal: 393ms\tremaining: 583ms\n",
      "403:\tlearn: 0.1546950\ttotal: 394ms\tremaining: 582ms\n",
      "404:\tlearn: 0.1543651\ttotal: 395ms\tremaining: 581ms\n",
      "405:\tlearn: 0.1539332\ttotal: 396ms\tremaining: 579ms\n",
      "406:\tlearn: 0.1538633\ttotal: 397ms\tremaining: 578ms\n",
      "407:\tlearn: 0.1534241\ttotal: 397ms\tremaining: 577ms\n",
      "408:\tlearn: 0.1531700\ttotal: 398ms\tremaining: 575ms\n",
      "409:\tlearn: 0.1528873\ttotal: 399ms\tremaining: 574ms\n",
      "410:\tlearn: 0.1525016\ttotal: 400ms\tremaining: 573ms\n",
      "411:\tlearn: 0.1522745\ttotal: 400ms\tremaining: 571ms\n",
      "412:\tlearn: 0.1521591\ttotal: 401ms\tremaining: 570ms\n",
      "413:\tlearn: 0.1519480\ttotal: 402ms\tremaining: 569ms\n",
      "414:\tlearn: 0.1514542\ttotal: 403ms\tremaining: 568ms\n",
      "415:\tlearn: 0.1511063\ttotal: 404ms\tremaining: 567ms\n",
      "416:\tlearn: 0.1507536\ttotal: 405ms\tremaining: 566ms\n",
      "417:\tlearn: 0.1503834\ttotal: 405ms\tremaining: 564ms\n",
      "418:\tlearn: 0.1499959\ttotal: 406ms\tremaining: 563ms\n",
      "419:\tlearn: 0.1496382\ttotal: 407ms\tremaining: 562ms\n",
      "420:\tlearn: 0.1493271\ttotal: 408ms\tremaining: 561ms\n",
      "421:\tlearn: 0.1491805\ttotal: 409ms\tremaining: 560ms\n",
      "422:\tlearn: 0.1487558\ttotal: 409ms\tremaining: 558ms\n",
      "423:\tlearn: 0.1485452\ttotal: 410ms\tremaining: 558ms\n",
      "424:\tlearn: 0.1482637\ttotal: 411ms\tremaining: 556ms\n",
      "425:\tlearn: 0.1479810\ttotal: 412ms\tremaining: 555ms\n",
      "426:\tlearn: 0.1477228\ttotal: 413ms\tremaining: 554ms\n",
      "427:\tlearn: 0.1472836\ttotal: 414ms\tremaining: 553ms\n",
      "428:\tlearn: 0.1472232\ttotal: 415ms\tremaining: 552ms\n",
      "429:\tlearn: 0.1471289\ttotal: 416ms\tremaining: 552ms\n",
      "430:\tlearn: 0.1467977\ttotal: 417ms\tremaining: 551ms\n",
      "431:\tlearn: 0.1467421\ttotal: 418ms\tremaining: 549ms\n",
      "432:\tlearn: 0.1462702\ttotal: 419ms\tremaining: 548ms\n",
      "433:\tlearn: 0.1460096\ttotal: 419ms\tremaining: 547ms\n",
      "434:\tlearn: 0.1459654\ttotal: 420ms\tremaining: 546ms\n",
      "435:\tlearn: 0.1455382\ttotal: 421ms\tremaining: 545ms\n",
      "436:\tlearn: 0.1451396\ttotal: 422ms\tremaining: 544ms\n",
      "437:\tlearn: 0.1447941\ttotal: 423ms\tremaining: 542ms\n",
      "438:\tlearn: 0.1445557\ttotal: 424ms\tremaining: 541ms\n",
      "439:\tlearn: 0.1442259\ttotal: 424ms\tremaining: 540ms\n",
      "440:\tlearn: 0.1441110\ttotal: 425ms\tremaining: 539ms\n",
      "441:\tlearn: 0.1440530\ttotal: 426ms\tremaining: 538ms\n",
      "442:\tlearn: 0.1439942\ttotal: 427ms\tremaining: 537ms\n",
      "443:\tlearn: 0.1439087\ttotal: 428ms\tremaining: 536ms\n",
      "444:\tlearn: 0.1435239\ttotal: 429ms\tremaining: 535ms\n",
      "445:\tlearn: 0.1432549\ttotal: 429ms\tremaining: 533ms\n",
      "446:\tlearn: 0.1430955\ttotal: 430ms\tremaining: 532ms\n",
      "447:\tlearn: 0.1425627\ttotal: 432ms\tremaining: 532ms\n",
      "448:\tlearn: 0.1422893\ttotal: 433ms\tremaining: 531ms\n",
      "449:\tlearn: 0.1420318\ttotal: 433ms\tremaining: 530ms\n",
      "450:\tlearn: 0.1419352\ttotal: 434ms\tremaining: 529ms\n",
      "451:\tlearn: 0.1417329\ttotal: 435ms\tremaining: 527ms\n",
      "452:\tlearn: 0.1413166\ttotal: 436ms\tremaining: 526ms\n",
      "453:\tlearn: 0.1412694\ttotal: 437ms\tremaining: 525ms\n",
      "454:\tlearn: 0.1409785\ttotal: 438ms\tremaining: 525ms\n",
      "455:\tlearn: 0.1406374\ttotal: 439ms\tremaining: 524ms\n",
      "456:\tlearn: 0.1405553\ttotal: 440ms\tremaining: 523ms\n",
      "457:\tlearn: 0.1404676\ttotal: 441ms\tremaining: 521ms\n",
      "458:\tlearn: 0.1403718\ttotal: 441ms\tremaining: 520ms\n",
      "459:\tlearn: 0.1401248\ttotal: 442ms\tremaining: 519ms\n",
      "460:\tlearn: 0.1396974\ttotal: 443ms\tremaining: 518ms\n",
      "461:\tlearn: 0.1394803\ttotal: 444ms\tremaining: 517ms\n",
      "462:\tlearn: 0.1393346\ttotal: 445ms\tremaining: 516ms\n",
      "463:\tlearn: 0.1389812\ttotal: 446ms\tremaining: 515ms\n",
      "464:\tlearn: 0.1386242\ttotal: 447ms\tremaining: 514ms\n",
      "465:\tlearn: 0.1385572\ttotal: 448ms\tremaining: 513ms\n",
      "466:\tlearn: 0.1383164\ttotal: 449ms\tremaining: 512ms\n",
      "467:\tlearn: 0.1382684\ttotal: 450ms\tremaining: 511ms\n",
      "468:\tlearn: 0.1381327\ttotal: 450ms\tremaining: 510ms\n",
      "469:\tlearn: 0.1378089\ttotal: 451ms\tremaining: 509ms\n",
      "470:\tlearn: 0.1377711\ttotal: 452ms\tremaining: 508ms\n",
      "471:\tlearn: 0.1374927\ttotal: 453ms\tremaining: 507ms\n",
      "472:\tlearn: 0.1371763\ttotal: 454ms\tremaining: 506ms\n",
      "473:\tlearn: 0.1371473\ttotal: 455ms\tremaining: 505ms\n",
      "474:\tlearn: 0.1370836\ttotal: 456ms\tremaining: 504ms\n",
      "475:\tlearn: 0.1368149\ttotal: 456ms\tremaining: 502ms\n",
      "476:\tlearn: 0.1365225\ttotal: 457ms\tremaining: 501ms\n",
      "477:\tlearn: 0.1362564\ttotal: 458ms\tremaining: 500ms\n",
      "478:\tlearn: 0.1361377\ttotal: 459ms\tremaining: 499ms\n",
      "479:\tlearn: 0.1358597\ttotal: 460ms\tremaining: 498ms\n",
      "480:\tlearn: 0.1355261\ttotal: 461ms\tremaining: 497ms\n",
      "481:\tlearn: 0.1354802\ttotal: 461ms\tremaining: 496ms\n",
      "482:\tlearn: 0.1353015\ttotal: 462ms\tremaining: 495ms\n",
      "483:\tlearn: 0.1351037\ttotal: 463ms\tremaining: 494ms\n",
      "484:\tlearn: 0.1347274\ttotal: 464ms\tremaining: 493ms\n",
      "485:\tlearn: 0.1344696\ttotal: 465ms\tremaining: 492ms\n",
      "486:\tlearn: 0.1341719\ttotal: 466ms\tremaining: 490ms\n",
      "487:\tlearn: 0.1340398\ttotal: 466ms\tremaining: 489ms\n",
      "488:\tlearn: 0.1336584\ttotal: 467ms\tremaining: 488ms\n",
      "489:\tlearn: 0.1336041\ttotal: 468ms\tremaining: 487ms\n",
      "490:\tlearn: 0.1333433\ttotal: 469ms\tremaining: 486ms\n",
      "491:\tlearn: 0.1330901\ttotal: 470ms\tremaining: 485ms\n",
      "492:\tlearn: 0.1326267\ttotal: 470ms\tremaining: 484ms\n",
      "493:\tlearn: 0.1323221\ttotal: 471ms\tremaining: 483ms\n",
      "494:\tlearn: 0.1319947\ttotal: 472ms\tremaining: 482ms\n",
      "495:\tlearn: 0.1317017\ttotal: 473ms\tremaining: 481ms\n",
      "496:\tlearn: 0.1314634\ttotal: 474ms\tremaining: 480ms\n",
      "497:\tlearn: 0.1314356\ttotal: 475ms\tremaining: 478ms\n",
      "498:\tlearn: 0.1314058\ttotal: 475ms\tremaining: 477ms\n",
      "499:\tlearn: 0.1313660\ttotal: 476ms\tremaining: 476ms\n",
      "500:\tlearn: 0.1312249\ttotal: 477ms\tremaining: 475ms\n",
      "501:\tlearn: 0.1309222\ttotal: 478ms\tremaining: 474ms\n",
      "502:\tlearn: 0.1308663\ttotal: 479ms\tremaining: 473ms\n",
      "503:\tlearn: 0.1305809\ttotal: 480ms\tremaining: 472ms\n",
      "504:\tlearn: 0.1303297\ttotal: 481ms\tremaining: 471ms\n",
      "505:\tlearn: 0.1300141\ttotal: 481ms\tremaining: 470ms\n",
      "506:\tlearn: 0.1298584\ttotal: 482ms\tremaining: 469ms\n",
      "507:\tlearn: 0.1297123\ttotal: 483ms\tremaining: 468ms\n",
      "508:\tlearn: 0.1294034\ttotal: 484ms\tremaining: 467ms\n",
      "509:\tlearn: 0.1292761\ttotal: 485ms\tremaining: 466ms\n",
      "510:\tlearn: 0.1290180\ttotal: 485ms\tremaining: 465ms\n",
      "511:\tlearn: 0.1286107\ttotal: 486ms\tremaining: 463ms\n",
      "512:\tlearn: 0.1283091\ttotal: 487ms\tremaining: 462ms\n"
     ]
    },
    {
     "name": "stdout",
     "output_type": "stream",
     "text": [
      "513:\tlearn: 0.1281331\ttotal: 488ms\tremaining: 461ms\n",
      "514:\tlearn: 0.1278950\ttotal: 489ms\tremaining: 460ms\n",
      "515:\tlearn: 0.1278672\ttotal: 490ms\tremaining: 459ms\n",
      "516:\tlearn: 0.1276447\ttotal: 491ms\tremaining: 458ms\n",
      "517:\tlearn: 0.1273502\ttotal: 492ms\tremaining: 457ms\n",
      "518:\tlearn: 0.1271273\ttotal: 492ms\tremaining: 456ms\n",
      "519:\tlearn: 0.1268426\ttotal: 493ms\tremaining: 455ms\n",
      "520:\tlearn: 0.1266893\ttotal: 494ms\tremaining: 454ms\n",
      "521:\tlearn: 0.1264633\ttotal: 495ms\tremaining: 453ms\n",
      "522:\tlearn: 0.1262916\ttotal: 496ms\tremaining: 452ms\n",
      "523:\tlearn: 0.1259889\ttotal: 496ms\tremaining: 451ms\n",
      "524:\tlearn: 0.1257060\ttotal: 497ms\tremaining: 450ms\n",
      "525:\tlearn: 0.1254023\ttotal: 498ms\tremaining: 449ms\n",
      "526:\tlearn: 0.1253639\ttotal: 499ms\tremaining: 448ms\n",
      "527:\tlearn: 0.1251221\ttotal: 500ms\tremaining: 447ms\n",
      "528:\tlearn: 0.1250927\ttotal: 500ms\tremaining: 446ms\n",
      "529:\tlearn: 0.1249877\ttotal: 501ms\tremaining: 445ms\n",
      "530:\tlearn: 0.1247059\ttotal: 502ms\tremaining: 443ms\n",
      "531:\tlearn: 0.1243731\ttotal: 503ms\tremaining: 442ms\n",
      "532:\tlearn: 0.1243086\ttotal: 504ms\tremaining: 441ms\n",
      "533:\tlearn: 0.1240174\ttotal: 504ms\tremaining: 440ms\n",
      "534:\tlearn: 0.1237350\ttotal: 505ms\tremaining: 439ms\n",
      "535:\tlearn: 0.1236820\ttotal: 506ms\tremaining: 438ms\n",
      "536:\tlearn: 0.1233860\ttotal: 507ms\tremaining: 437ms\n",
      "537:\tlearn: 0.1231589\ttotal: 508ms\tremaining: 436ms\n",
      "538:\tlearn: 0.1231148\ttotal: 508ms\tremaining: 435ms\n",
      "539:\tlearn: 0.1228598\ttotal: 509ms\tremaining: 434ms\n",
      "540:\tlearn: 0.1227194\ttotal: 510ms\tremaining: 433ms\n",
      "541:\tlearn: 0.1224339\ttotal: 511ms\tremaining: 432ms\n",
      "542:\tlearn: 0.1221835\ttotal: 512ms\tremaining: 431ms\n",
      "543:\tlearn: 0.1220859\ttotal: 512ms\tremaining: 430ms\n",
      "544:\tlearn: 0.1217930\ttotal: 513ms\tremaining: 429ms\n",
      "545:\tlearn: 0.1217640\ttotal: 514ms\tremaining: 427ms\n",
      "546:\tlearn: 0.1215108\ttotal: 515ms\tremaining: 426ms\n",
      "547:\tlearn: 0.1211727\ttotal: 516ms\tremaining: 425ms\n",
      "548:\tlearn: 0.1211484\ttotal: 517ms\tremaining: 424ms\n",
      "549:\tlearn: 0.1211269\ttotal: 517ms\tremaining: 423ms\n",
      "550:\tlearn: 0.1209444\ttotal: 518ms\tremaining: 422ms\n",
      "551:\tlearn: 0.1207269\ttotal: 519ms\tremaining: 421ms\n",
      "552:\tlearn: 0.1207062\ttotal: 520ms\tremaining: 420ms\n",
      "553:\tlearn: 0.1206835\ttotal: 521ms\tremaining: 419ms\n",
      "554:\tlearn: 0.1206627\ttotal: 522ms\tremaining: 418ms\n",
      "555:\tlearn: 0.1206177\ttotal: 522ms\tremaining: 417ms\n",
      "556:\tlearn: 0.1204265\ttotal: 523ms\tremaining: 416ms\n",
      "557:\tlearn: 0.1202227\ttotal: 524ms\tremaining: 415ms\n",
      "558:\tlearn: 0.1199366\ttotal: 525ms\tremaining: 414ms\n",
      "559:\tlearn: 0.1196066\ttotal: 526ms\tremaining: 413ms\n",
      "560:\tlearn: 0.1192934\ttotal: 526ms\tremaining: 412ms\n",
      "561:\tlearn: 0.1191750\ttotal: 527ms\tremaining: 411ms\n",
      "562:\tlearn: 0.1189800\ttotal: 528ms\tremaining: 410ms\n",
      "563:\tlearn: 0.1188630\ttotal: 529ms\tremaining: 409ms\n",
      "564:\tlearn: 0.1185841\ttotal: 530ms\tremaining: 408ms\n",
      "565:\tlearn: 0.1183905\ttotal: 531ms\tremaining: 407ms\n",
      "566:\tlearn: 0.1181685\ttotal: 531ms\tremaining: 406ms\n",
      "567:\tlearn: 0.1179991\ttotal: 532ms\tremaining: 405ms\n",
      "568:\tlearn: 0.1175850\ttotal: 533ms\tremaining: 404ms\n",
      "569:\tlearn: 0.1173466\ttotal: 534ms\tremaining: 403ms\n",
      "570:\tlearn: 0.1172189\ttotal: 535ms\tremaining: 402ms\n",
      "571:\tlearn: 0.1171966\ttotal: 536ms\tremaining: 401ms\n",
      "572:\tlearn: 0.1169479\ttotal: 536ms\tremaining: 400ms\n",
      "573:\tlearn: 0.1169278\ttotal: 537ms\tremaining: 399ms\n",
      "574:\tlearn: 0.1166450\ttotal: 538ms\tremaining: 398ms\n",
      "575:\tlearn: 0.1162995\ttotal: 539ms\tremaining: 397ms\n",
      "576:\tlearn: 0.1162446\ttotal: 540ms\tremaining: 396ms\n",
      "577:\tlearn: 0.1159511\ttotal: 541ms\tremaining: 395ms\n",
      "578:\tlearn: 0.1156230\ttotal: 541ms\tremaining: 394ms\n",
      "579:\tlearn: 0.1153809\ttotal: 542ms\tremaining: 393ms\n",
      "580:\tlearn: 0.1151751\ttotal: 543ms\tremaining: 392ms\n",
      "581:\tlearn: 0.1150339\ttotal: 544ms\tremaining: 391ms\n",
      "582:\tlearn: 0.1147612\ttotal: 545ms\tremaining: 390ms\n",
      "583:\tlearn: 0.1145958\ttotal: 545ms\tremaining: 388ms\n",
      "584:\tlearn: 0.1144318\ttotal: 546ms\tremaining: 387ms\n",
      "585:\tlearn: 0.1142367\ttotal: 547ms\tremaining: 386ms\n",
      "586:\tlearn: 0.1141492\ttotal: 548ms\tremaining: 385ms\n",
      "587:\tlearn: 0.1140064\ttotal: 548ms\tremaining: 384ms\n",
      "588:\tlearn: 0.1138266\ttotal: 549ms\tremaining: 383ms\n",
      "589:\tlearn: 0.1136953\ttotal: 550ms\tremaining: 382ms\n",
      "590:\tlearn: 0.1133402\ttotal: 551ms\tremaining: 381ms\n",
      "591:\tlearn: 0.1130670\ttotal: 552ms\tremaining: 380ms\n",
      "592:\tlearn: 0.1129658\ttotal: 553ms\tremaining: 379ms\n",
      "593:\tlearn: 0.1128781\ttotal: 553ms\tremaining: 378ms\n",
      "594:\tlearn: 0.1125809\ttotal: 554ms\tremaining: 377ms\n",
      "595:\tlearn: 0.1124430\ttotal: 555ms\tremaining: 376ms\n",
      "596:\tlearn: 0.1122496\ttotal: 556ms\tremaining: 375ms\n",
      "597:\tlearn: 0.1120718\ttotal: 557ms\tremaining: 374ms\n",
      "598:\tlearn: 0.1118900\ttotal: 557ms\tremaining: 373ms\n",
      "599:\tlearn: 0.1117107\ttotal: 558ms\tremaining: 372ms\n",
      "600:\tlearn: 0.1114876\ttotal: 559ms\tremaining: 371ms\n",
      "601:\tlearn: 0.1113093\ttotal: 560ms\tremaining: 370ms\n",
      "602:\tlearn: 0.1110467\ttotal: 561ms\tremaining: 369ms\n",
      "603:\tlearn: 0.1107727\ttotal: 561ms\tremaining: 368ms\n",
      "604:\tlearn: 0.1106499\ttotal: 562ms\tremaining: 367ms\n",
      "605:\tlearn: 0.1104506\ttotal: 563ms\tremaining: 366ms\n",
      "606:\tlearn: 0.1104088\ttotal: 564ms\tremaining: 365ms\n",
      "607:\tlearn: 0.1102373\ttotal: 565ms\tremaining: 364ms\n",
      "608:\tlearn: 0.1102212\ttotal: 565ms\tremaining: 363ms\n",
      "609:\tlearn: 0.1101002\ttotal: 566ms\tremaining: 362ms\n",
      "610:\tlearn: 0.1099831\ttotal: 567ms\tremaining: 361ms\n",
      "611:\tlearn: 0.1096343\ttotal: 568ms\tremaining: 360ms\n",
      "612:\tlearn: 0.1093585\ttotal: 569ms\tremaining: 359ms\n",
      "613:\tlearn: 0.1092037\ttotal: 570ms\tremaining: 358ms\n",
      "614:\tlearn: 0.1091473\ttotal: 570ms\tremaining: 357ms\n"
     ]
    },
    {
     "name": "stdout",
     "output_type": "stream",
     "text": [
      "615:\tlearn: 0.1089587\ttotal: 571ms\tremaining: 356ms\n",
      "616:\tlearn: 0.1087270\ttotal: 572ms\tremaining: 355ms\n",
      "617:\tlearn: 0.1087106\ttotal: 573ms\tremaining: 354ms\n",
      "618:\tlearn: 0.1084602\ttotal: 574ms\tremaining: 353ms\n",
      "619:\tlearn: 0.1083934\ttotal: 575ms\tremaining: 352ms\n",
      "620:\tlearn: 0.1081663\ttotal: 576ms\tremaining: 351ms\n",
      "621:\tlearn: 0.1080191\ttotal: 577ms\tremaining: 350ms\n",
      "622:\tlearn: 0.1076930\ttotal: 578ms\tremaining: 349ms\n",
      "623:\tlearn: 0.1075636\ttotal: 579ms\tremaining: 349ms\n",
      "624:\tlearn: 0.1073340\ttotal: 579ms\tremaining: 348ms\n",
      "625:\tlearn: 0.1071049\ttotal: 580ms\tremaining: 347ms\n",
      "626:\tlearn: 0.1070869\ttotal: 581ms\tremaining: 346ms\n",
      "627:\tlearn: 0.1068994\ttotal: 582ms\tremaining: 345ms\n",
      "628:\tlearn: 0.1068861\ttotal: 583ms\tremaining: 344ms\n",
      "629:\tlearn: 0.1067015\ttotal: 584ms\tremaining: 343ms\n",
      "630:\tlearn: 0.1066544\ttotal: 585ms\tremaining: 342ms\n",
      "631:\tlearn: 0.1066263\ttotal: 586ms\tremaining: 341ms\n",
      "632:\tlearn: 0.1064605\ttotal: 587ms\tremaining: 340ms\n",
      "633:\tlearn: 0.1064222\ttotal: 588ms\tremaining: 339ms\n",
      "634:\tlearn: 0.1060746\ttotal: 589ms\tremaining: 339ms\n",
      "635:\tlearn: 0.1060369\ttotal: 590ms\tremaining: 338ms\n",
      "636:\tlearn: 0.1058786\ttotal: 591ms\tremaining: 337ms\n",
      "637:\tlearn: 0.1056636\ttotal: 592ms\tremaining: 336ms\n",
      "638:\tlearn: 0.1054381\ttotal: 593ms\tremaining: 335ms\n",
      "639:\tlearn: 0.1052629\ttotal: 594ms\tremaining: 334ms\n",
      "640:\tlearn: 0.1051314\ttotal: 594ms\tremaining: 333ms\n",
      "641:\tlearn: 0.1049500\ttotal: 595ms\tremaining: 332ms\n",
      "642:\tlearn: 0.1049332\ttotal: 596ms\tremaining: 331ms\n",
      "643:\tlearn: 0.1047418\ttotal: 597ms\tremaining: 330ms\n",
      "644:\tlearn: 0.1047304\ttotal: 598ms\tremaining: 329ms\n",
      "645:\tlearn: 0.1047185\ttotal: 599ms\tremaining: 328ms\n",
      "646:\tlearn: 0.1045547\ttotal: 600ms\tremaining: 327ms\n",
      "647:\tlearn: 0.1043296\ttotal: 601ms\tremaining: 326ms\n",
      "648:\tlearn: 0.1041419\ttotal: 602ms\tremaining: 325ms\n",
      "649:\tlearn: 0.1039177\ttotal: 603ms\tremaining: 325ms\n",
      "650:\tlearn: 0.1037122\ttotal: 604ms\tremaining: 324ms\n",
      "651:\tlearn: 0.1034266\ttotal: 604ms\tremaining: 323ms\n",
      "652:\tlearn: 0.1034091\ttotal: 605ms\tremaining: 322ms\n",
      "653:\tlearn: 0.1033208\ttotal: 606ms\tremaining: 321ms\n",
      "654:\tlearn: 0.1031906\ttotal: 607ms\tremaining: 320ms\n",
      "655:\tlearn: 0.1029763\ttotal: 608ms\tremaining: 319ms\n",
      "656:\tlearn: 0.1028370\ttotal: 609ms\tremaining: 318ms\n",
      "657:\tlearn: 0.1025780\ttotal: 610ms\tremaining: 317ms\n",
      "658:\tlearn: 0.1025435\ttotal: 611ms\tremaining: 316ms\n",
      "659:\tlearn: 0.1024704\ttotal: 612ms\tremaining: 315ms\n",
      "660:\tlearn: 0.1022210\ttotal: 612ms\tremaining: 314ms\n",
      "661:\tlearn: 0.1020470\ttotal: 613ms\tremaining: 313ms\n",
      "662:\tlearn: 0.1018510\ttotal: 614ms\tremaining: 312ms\n",
      "663:\tlearn: 0.1016914\ttotal: 615ms\tremaining: 311ms\n",
      "664:\tlearn: 0.1016700\ttotal: 616ms\tremaining: 311ms\n",
      "665:\tlearn: 0.1014126\ttotal: 617ms\tremaining: 310ms\n",
      "666:\tlearn: 0.1013982\ttotal: 618ms\tremaining: 309ms\n",
      "667:\tlearn: 0.1011535\ttotal: 619ms\tremaining: 308ms\n",
      "668:\tlearn: 0.1011147\ttotal: 620ms\tremaining: 307ms\n",
      "669:\tlearn: 0.1008655\ttotal: 621ms\tremaining: 306ms\n",
      "670:\tlearn: 0.1006304\ttotal: 622ms\tremaining: 305ms\n",
      "671:\tlearn: 0.1005204\ttotal: 623ms\tremaining: 304ms\n",
      "672:\tlearn: 0.1003021\ttotal: 624ms\tremaining: 303ms\n",
      "673:\tlearn: 0.1000888\ttotal: 625ms\tremaining: 302ms\n",
      "674:\tlearn: 0.0998856\ttotal: 626ms\tremaining: 301ms\n",
      "675:\tlearn: 0.0997083\ttotal: 627ms\tremaining: 300ms\n",
      "676:\tlearn: 0.0995942\ttotal: 627ms\tremaining: 299ms\n",
      "677:\tlearn: 0.0993932\ttotal: 628ms\tremaining: 298ms\n",
      "678:\tlearn: 0.0992546\ttotal: 629ms\tremaining: 297ms\n",
      "679:\tlearn: 0.0991237\ttotal: 630ms\tremaining: 297ms\n",
      "680:\tlearn: 0.0990304\ttotal: 631ms\tremaining: 296ms\n",
      "681:\tlearn: 0.0989659\ttotal: 632ms\tremaining: 295ms\n",
      "682:\tlearn: 0.0986938\ttotal: 633ms\tremaining: 294ms\n",
      "683:\tlearn: 0.0984732\ttotal: 634ms\tremaining: 293ms\n",
      "684:\tlearn: 0.0982557\ttotal: 635ms\tremaining: 292ms\n",
      "685:\tlearn: 0.0981673\ttotal: 636ms\tremaining: 291ms\n",
      "686:\tlearn: 0.0980085\ttotal: 636ms\tremaining: 290ms\n",
      "687:\tlearn: 0.0978063\ttotal: 637ms\tremaining: 289ms\n",
      "688:\tlearn: 0.0977940\ttotal: 638ms\tremaining: 288ms\n",
      "689:\tlearn: 0.0976612\ttotal: 639ms\tremaining: 287ms\n",
      "690:\tlearn: 0.0975041\ttotal: 640ms\tremaining: 286ms\n",
      "691:\tlearn: 0.0973958\ttotal: 641ms\tremaining: 285ms\n",
      "692:\tlearn: 0.0972891\ttotal: 642ms\tremaining: 284ms\n",
      "693:\tlearn: 0.0970992\ttotal: 643ms\tremaining: 283ms\n",
      "694:\tlearn: 0.0970116\ttotal: 644ms\tremaining: 282ms\n",
      "695:\tlearn: 0.0969499\ttotal: 644ms\tremaining: 282ms\n",
      "696:\tlearn: 0.0967262\ttotal: 645ms\tremaining: 281ms\n",
      "697:\tlearn: 0.0965643\ttotal: 646ms\tremaining: 280ms\n",
      "698:\tlearn: 0.0965309\ttotal: 647ms\tremaining: 279ms\n",
      "699:\tlearn: 0.0963404\ttotal: 648ms\tremaining: 278ms\n",
      "700:\tlearn: 0.0962335\ttotal: 649ms\tremaining: 277ms\n",
      "701:\tlearn: 0.0960078\ttotal: 650ms\tremaining: 276ms\n",
      "702:\tlearn: 0.0957792\ttotal: 651ms\tremaining: 275ms\n",
      "703:\tlearn: 0.0955470\ttotal: 651ms\tremaining: 274ms\n",
      "704:\tlearn: 0.0953152\ttotal: 652ms\tremaining: 273ms\n",
      "705:\tlearn: 0.0951222\ttotal: 653ms\tremaining: 272ms\n",
      "706:\tlearn: 0.0949684\ttotal: 654ms\tremaining: 271ms\n",
      "707:\tlearn: 0.0949570\ttotal: 655ms\tremaining: 270ms\n",
      "708:\tlearn: 0.0947390\ttotal: 656ms\tremaining: 269ms\n",
      "709:\tlearn: 0.0946077\ttotal: 657ms\tremaining: 268ms\n",
      "710:\tlearn: 0.0944372\ttotal: 658ms\tremaining: 267ms\n",
      "711:\tlearn: 0.0942916\ttotal: 659ms\tremaining: 266ms\n",
      "712:\tlearn: 0.0941220\ttotal: 659ms\tremaining: 265ms\n",
      "713:\tlearn: 0.0939811\ttotal: 660ms\tremaining: 264ms\n",
      "714:\tlearn: 0.0937783\ttotal: 661ms\tremaining: 264ms\n",
      "715:\tlearn: 0.0936696\ttotal: 662ms\tremaining: 263ms\n",
      "716:\tlearn: 0.0935208\ttotal: 663ms\tremaining: 262ms\n",
      "717:\tlearn: 0.0933237\ttotal: 663ms\tremaining: 261ms\n",
      "718:\tlearn: 0.0932725\ttotal: 664ms\tremaining: 260ms\n",
      "719:\tlearn: 0.0930364\ttotal: 665ms\tremaining: 259ms\n",
      "720:\tlearn: 0.0928082\ttotal: 666ms\tremaining: 258ms\n",
      "721:\tlearn: 0.0926068\ttotal: 667ms\tremaining: 257ms\n",
      "722:\tlearn: 0.0924173\ttotal: 667ms\tremaining: 256ms\n",
      "723:\tlearn: 0.0924052\ttotal: 668ms\tremaining: 255ms\n",
      "724:\tlearn: 0.0923126\ttotal: 669ms\tremaining: 254ms\n",
      "725:\tlearn: 0.0921385\ttotal: 670ms\tremaining: 253ms\n",
      "726:\tlearn: 0.0921101\ttotal: 671ms\tremaining: 252ms\n",
      "727:\tlearn: 0.0921001\ttotal: 672ms\tremaining: 251ms\n",
      "728:\tlearn: 0.0919169\ttotal: 673ms\tremaining: 250ms\n",
      "729:\tlearn: 0.0917572\ttotal: 674ms\tremaining: 249ms\n",
      "730:\tlearn: 0.0916662\ttotal: 675ms\tremaining: 248ms\n",
      "731:\tlearn: 0.0915498\ttotal: 675ms\tremaining: 247ms\n",
      "732:\tlearn: 0.0914327\ttotal: 676ms\tremaining: 246ms\n",
      "733:\tlearn: 0.0912632\ttotal: 678ms\tremaining: 246ms\n"
     ]
    },
    {
     "name": "stdout",
     "output_type": "stream",
     "text": [
      "734:\tlearn: 0.0912473\ttotal: 679ms\tremaining: 245ms\n",
      "735:\tlearn: 0.0910300\ttotal: 680ms\tremaining: 244ms\n",
      "736:\tlearn: 0.0909048\ttotal: 680ms\tremaining: 243ms\n",
      "737:\tlearn: 0.0908159\ttotal: 681ms\tremaining: 242ms\n",
      "738:\tlearn: 0.0905983\ttotal: 682ms\tremaining: 241ms\n",
      "739:\tlearn: 0.0904450\ttotal: 683ms\tremaining: 240ms\n",
      "740:\tlearn: 0.0903013\ttotal: 684ms\tremaining: 239ms\n",
      "741:\tlearn: 0.0900414\ttotal: 685ms\tremaining: 238ms\n",
      "742:\tlearn: 0.0898774\ttotal: 685ms\tremaining: 237ms\n",
      "743:\tlearn: 0.0896818\ttotal: 686ms\tremaining: 236ms\n",
      "744:\tlearn: 0.0895468\ttotal: 687ms\tremaining: 235ms\n",
      "745:\tlearn: 0.0894448\ttotal: 688ms\tremaining: 234ms\n",
      "746:\tlearn: 0.0892192\ttotal: 689ms\tremaining: 233ms\n",
      "747:\tlearn: 0.0889907\ttotal: 690ms\tremaining: 232ms\n",
      "748:\tlearn: 0.0888354\ttotal: 690ms\tremaining: 231ms\n",
      "749:\tlearn: 0.0886349\ttotal: 691ms\tremaining: 230ms\n",
      "750:\tlearn: 0.0884591\ttotal: 692ms\tremaining: 229ms\n",
      "751:\tlearn: 0.0883048\ttotal: 693ms\tremaining: 228ms\n",
      "752:\tlearn: 0.0881823\ttotal: 694ms\tremaining: 228ms\n",
      "753:\tlearn: 0.0880315\ttotal: 695ms\tremaining: 227ms\n",
      "754:\tlearn: 0.0879799\ttotal: 695ms\tremaining: 226ms\n",
      "755:\tlearn: 0.0878331\ttotal: 696ms\tremaining: 225ms\n",
      "756:\tlearn: 0.0877653\ttotal: 697ms\tremaining: 224ms\n",
      "757:\tlearn: 0.0875497\ttotal: 698ms\tremaining: 223ms\n",
      "758:\tlearn: 0.0874096\ttotal: 699ms\tremaining: 222ms\n",
      "759:\tlearn: 0.0872356\ttotal: 700ms\tremaining: 221ms\n",
      "760:\tlearn: 0.0871526\ttotal: 701ms\tremaining: 220ms\n",
      "761:\tlearn: 0.0869972\ttotal: 701ms\tremaining: 219ms\n",
      "762:\tlearn: 0.0869588\ttotal: 702ms\tremaining: 218ms\n",
      "763:\tlearn: 0.0869044\ttotal: 703ms\tremaining: 217ms\n",
      "764:\tlearn: 0.0867557\ttotal: 704ms\tremaining: 216ms\n",
      "765:\tlearn: 0.0867168\ttotal: 705ms\tremaining: 215ms\n",
      "766:\tlearn: 0.0865842\ttotal: 706ms\tremaining: 214ms\n",
      "767:\tlearn: 0.0864021\ttotal: 707ms\tremaining: 213ms\n",
      "768:\tlearn: 0.0863915\ttotal: 707ms\tremaining: 212ms\n",
      "769:\tlearn: 0.0863145\ttotal: 708ms\tremaining: 212ms\n",
      "770:\tlearn: 0.0862671\ttotal: 709ms\tremaining: 211ms\n",
      "771:\tlearn: 0.0861792\ttotal: 710ms\tremaining: 210ms\n",
      "772:\tlearn: 0.0860303\ttotal: 711ms\tremaining: 209ms\n",
      "773:\tlearn: 0.0859489\ttotal: 711ms\tremaining: 208ms\n",
      "774:\tlearn: 0.0859269\ttotal: 712ms\tremaining: 207ms\n",
      "775:\tlearn: 0.0859122\ttotal: 713ms\tremaining: 206ms\n",
      "776:\tlearn: 0.0857877\ttotal: 714ms\tremaining: 205ms\n",
      "777:\tlearn: 0.0856832\ttotal: 714ms\tremaining: 204ms\n",
      "778:\tlearn: 0.0854667\ttotal: 715ms\tremaining: 203ms\n",
      "779:\tlearn: 0.0853924\ttotal: 716ms\tremaining: 202ms\n",
      "780:\tlearn: 0.0852702\ttotal: 717ms\tremaining: 201ms\n",
      "781:\tlearn: 0.0851106\ttotal: 718ms\tremaining: 200ms\n",
      "782:\tlearn: 0.0850036\ttotal: 718ms\tremaining: 199ms\n",
      "783:\tlearn: 0.0849951\ttotal: 719ms\tremaining: 198ms\n",
      "784:\tlearn: 0.0849077\ttotal: 720ms\tremaining: 197ms\n",
      "785:\tlearn: 0.0847632\ttotal: 721ms\tremaining: 196ms\n",
      "786:\tlearn: 0.0845231\ttotal: 722ms\tremaining: 195ms\n",
      "787:\tlearn: 0.0844845\ttotal: 723ms\tremaining: 194ms\n",
      "788:\tlearn: 0.0843250\ttotal: 723ms\tremaining: 193ms\n",
      "789:\tlearn: 0.0841060\ttotal: 724ms\tremaining: 193ms\n",
      "790:\tlearn: 0.0840253\ttotal: 725ms\tremaining: 192ms\n",
      "791:\tlearn: 0.0838252\ttotal: 726ms\tremaining: 191ms\n",
      "792:\tlearn: 0.0836467\ttotal: 727ms\tremaining: 190ms\n",
      "793:\tlearn: 0.0835128\ttotal: 727ms\tremaining: 189ms\n",
      "794:\tlearn: 0.0834515\ttotal: 728ms\tremaining: 188ms\n",
      "795:\tlearn: 0.0833155\ttotal: 730ms\tremaining: 187ms\n",
      "796:\tlearn: 0.0832081\ttotal: 730ms\tremaining: 186ms\n",
      "797:\tlearn: 0.0831672\ttotal: 731ms\tremaining: 185ms\n",
      "798:\tlearn: 0.0830252\ttotal: 732ms\tremaining: 184ms\n",
      "799:\tlearn: 0.0829200\ttotal: 733ms\tremaining: 183ms\n",
      "800:\tlearn: 0.0829099\ttotal: 734ms\tremaining: 182ms\n",
      "801:\tlearn: 0.0827178\ttotal: 735ms\tremaining: 182ms\n",
      "802:\tlearn: 0.0825255\ttotal: 736ms\tremaining: 181ms\n",
      "803:\tlearn: 0.0824277\ttotal: 737ms\tremaining: 180ms\n",
      "804:\tlearn: 0.0823204\ttotal: 737ms\tremaining: 179ms\n",
      "805:\tlearn: 0.0822264\ttotal: 738ms\tremaining: 178ms\n",
      "806:\tlearn: 0.0820885\ttotal: 739ms\tremaining: 177ms\n",
      "807:\tlearn: 0.0819722\ttotal: 740ms\tremaining: 176ms\n",
      "808:\tlearn: 0.0818207\ttotal: 741ms\tremaining: 175ms\n",
      "809:\tlearn: 0.0816052\ttotal: 741ms\tremaining: 174ms\n",
      "810:\tlearn: 0.0814674\ttotal: 742ms\tremaining: 173ms\n",
      "811:\tlearn: 0.0813207\ttotal: 743ms\tremaining: 172ms\n",
      "812:\tlearn: 0.0812139\ttotal: 743ms\tremaining: 171ms\n",
      "813:\tlearn: 0.0811561\ttotal: 744ms\tremaining: 170ms\n",
      "814:\tlearn: 0.0810210\ttotal: 745ms\tremaining: 169ms\n",
      "815:\tlearn: 0.0808586\ttotal: 746ms\tremaining: 168ms\n",
      "816:\tlearn: 0.0807843\ttotal: 747ms\tremaining: 167ms\n",
      "817:\tlearn: 0.0805998\ttotal: 747ms\tremaining: 166ms\n",
      "818:\tlearn: 0.0804128\ttotal: 748ms\tremaining: 165ms\n",
      "819:\tlearn: 0.0804017\ttotal: 749ms\tremaining: 164ms\n",
      "820:\tlearn: 0.0802497\ttotal: 750ms\tremaining: 163ms\n",
      "821:\tlearn: 0.0801092\ttotal: 751ms\tremaining: 163ms\n",
      "822:\tlearn: 0.0799808\ttotal: 751ms\tremaining: 162ms\n",
      "823:\tlearn: 0.0798934\ttotal: 752ms\tremaining: 161ms\n",
      "824:\tlearn: 0.0798574\ttotal: 753ms\tremaining: 160ms\n",
      "825:\tlearn: 0.0797090\ttotal: 754ms\tremaining: 159ms\n",
      "826:\tlearn: 0.0797012\ttotal: 755ms\tremaining: 158ms\n",
      "827:\tlearn: 0.0795808\ttotal: 755ms\tremaining: 157ms\n",
      "828:\tlearn: 0.0794056\ttotal: 756ms\tremaining: 156ms\n",
      "829:\tlearn: 0.0792415\ttotal: 757ms\tremaining: 155ms\n",
      "830:\tlearn: 0.0791314\ttotal: 758ms\tremaining: 154ms\n",
      "831:\tlearn: 0.0789750\ttotal: 759ms\tremaining: 153ms\n",
      "832:\tlearn: 0.0789372\ttotal: 760ms\tremaining: 152ms\n",
      "833:\tlearn: 0.0787432\ttotal: 761ms\tremaining: 151ms\n"
     ]
    },
    {
     "name": "stdout",
     "output_type": "stream",
     "text": [
      "834:\tlearn: 0.0786038\ttotal: 761ms\tremaining: 150ms\n",
      "835:\tlearn: 0.0785954\ttotal: 762ms\tremaining: 150ms\n",
      "836:\tlearn: 0.0784710\ttotal: 763ms\tremaining: 149ms\n",
      "837:\tlearn: 0.0783876\ttotal: 764ms\tremaining: 148ms\n",
      "838:\tlearn: 0.0782103\ttotal: 765ms\tremaining: 147ms\n",
      "839:\tlearn: 0.0780886\ttotal: 766ms\tremaining: 146ms\n",
      "840:\tlearn: 0.0778997\ttotal: 767ms\tremaining: 145ms\n",
      "841:\tlearn: 0.0777713\ttotal: 767ms\tremaining: 144ms\n",
      "842:\tlearn: 0.0776456\ttotal: 768ms\tremaining: 143ms\n",
      "843:\tlearn: 0.0776049\ttotal: 769ms\tremaining: 142ms\n",
      "844:\tlearn: 0.0774984\ttotal: 770ms\tremaining: 141ms\n",
      "845:\tlearn: 0.0774683\ttotal: 771ms\tremaining: 140ms\n",
      "846:\tlearn: 0.0773482\ttotal: 771ms\tremaining: 139ms\n",
      "847:\tlearn: 0.0773063\ttotal: 772ms\tremaining: 138ms\n",
      "848:\tlearn: 0.0771539\ttotal: 773ms\tremaining: 137ms\n",
      "849:\tlearn: 0.0771188\ttotal: 774ms\tremaining: 137ms\n",
      "850:\tlearn: 0.0769814\ttotal: 775ms\tremaining: 136ms\n",
      "851:\tlearn: 0.0768368\ttotal: 776ms\tremaining: 135ms\n",
      "852:\tlearn: 0.0767337\ttotal: 777ms\tremaining: 134ms\n",
      "853:\tlearn: 0.0766417\ttotal: 778ms\tremaining: 133ms\n",
      "854:\tlearn: 0.0765090\ttotal: 778ms\tremaining: 132ms\n",
      "855:\tlearn: 0.0763075\ttotal: 779ms\tremaining: 131ms\n",
      "856:\tlearn: 0.0762583\ttotal: 780ms\tremaining: 130ms\n",
      "857:\tlearn: 0.0762137\ttotal: 781ms\tremaining: 129ms\n",
      "858:\tlearn: 0.0760551\ttotal: 782ms\tremaining: 128ms\n",
      "859:\tlearn: 0.0760440\ttotal: 783ms\tremaining: 127ms\n",
      "860:\tlearn: 0.0757543\ttotal: 784ms\tremaining: 126ms\n",
      "861:\tlearn: 0.0756141\ttotal: 784ms\tremaining: 126ms\n",
      "862:\tlearn: 0.0754529\ttotal: 785ms\tremaining: 125ms\n",
      "863:\tlearn: 0.0753693\ttotal: 786ms\tremaining: 124ms\n",
      "864:\tlearn: 0.0752735\ttotal: 787ms\tremaining: 123ms\n",
      "865:\tlearn: 0.0751361\ttotal: 787ms\tremaining: 122ms\n",
      "866:\tlearn: 0.0749621\ttotal: 788ms\tremaining: 121ms\n",
      "867:\tlearn: 0.0748109\ttotal: 789ms\tremaining: 120ms\n",
      "868:\tlearn: 0.0746637\ttotal: 791ms\tremaining: 119ms\n",
      "869:\tlearn: 0.0746154\ttotal: 791ms\tremaining: 118ms\n",
      "870:\tlearn: 0.0745724\ttotal: 792ms\tremaining: 117ms\n",
      "871:\tlearn: 0.0744761\ttotal: 793ms\tremaining: 116ms\n",
      "872:\tlearn: 0.0743980\ttotal: 794ms\tremaining: 116ms\n",
      "873:\tlearn: 0.0743025\ttotal: 795ms\tremaining: 115ms\n",
      "874:\tlearn: 0.0741632\ttotal: 796ms\tremaining: 114ms\n",
      "875:\tlearn: 0.0740440\ttotal: 797ms\tremaining: 113ms\n",
      "876:\tlearn: 0.0738924\ttotal: 798ms\tremaining: 112ms\n",
      "877:\tlearn: 0.0738851\ttotal: 798ms\tremaining: 111ms\n",
      "878:\tlearn: 0.0737002\ttotal: 799ms\tremaining: 110ms\n",
      "879:\tlearn: 0.0736495\ttotal: 800ms\tremaining: 109ms\n",
      "880:\tlearn: 0.0735628\ttotal: 801ms\tremaining: 108ms\n",
      "881:\tlearn: 0.0735533\ttotal: 802ms\tremaining: 107ms\n",
      "882:\tlearn: 0.0734498\ttotal: 802ms\tremaining: 106ms\n",
      "883:\tlearn: 0.0733667\ttotal: 803ms\tremaining: 105ms\n",
      "884:\tlearn: 0.0733357\ttotal: 804ms\tremaining: 104ms\n",
      "885:\tlearn: 0.0733176\ttotal: 805ms\tremaining: 104ms\n",
      "886:\tlearn: 0.0731588\ttotal: 806ms\tremaining: 103ms\n",
      "887:\tlearn: 0.0730622\ttotal: 807ms\tremaining: 102ms\n",
      "888:\tlearn: 0.0729647\ttotal: 807ms\tremaining: 101ms\n",
      "889:\tlearn: 0.0728750\ttotal: 808ms\tremaining: 99.9ms\n",
      "890:\tlearn: 0.0728301\ttotal: 810ms\tremaining: 99.1ms\n",
      "891:\tlearn: 0.0727831\ttotal: 811ms\tremaining: 98.1ms\n",
      "892:\tlearn: 0.0727207\ttotal: 811ms\tremaining: 97.2ms\n",
      "893:\tlearn: 0.0726619\ttotal: 812ms\tremaining: 96.3ms\n",
      "894:\tlearn: 0.0725557\ttotal: 813ms\tremaining: 95.4ms\n",
      "895:\tlearn: 0.0723937\ttotal: 814ms\tremaining: 94.5ms\n",
      "896:\tlearn: 0.0722152\ttotal: 815ms\tremaining: 93.6ms\n",
      "897:\tlearn: 0.0721551\ttotal: 816ms\tremaining: 92.6ms\n",
      "898:\tlearn: 0.0720572\ttotal: 816ms\tremaining: 91.7ms\n",
      "899:\tlearn: 0.0719657\ttotal: 817ms\tremaining: 90.8ms\n",
      "900:\tlearn: 0.0718669\ttotal: 818ms\tremaining: 89.9ms\n",
      "901:\tlearn: 0.0717272\ttotal: 819ms\tremaining: 88.9ms\n",
      "902:\tlearn: 0.0716012\ttotal: 819ms\tremaining: 88ms\n",
      "903:\tlearn: 0.0714610\ttotal: 820ms\tremaining: 87.1ms\n",
      "904:\tlearn: 0.0713948\ttotal: 821ms\tremaining: 86.2ms\n",
      "905:\tlearn: 0.0713514\ttotal: 822ms\tremaining: 85.3ms\n",
      "906:\tlearn: 0.0713440\ttotal: 823ms\tremaining: 84.3ms\n",
      "907:\tlearn: 0.0712154\ttotal: 823ms\tremaining: 83.4ms\n",
      "908:\tlearn: 0.0711337\ttotal: 824ms\tremaining: 82.5ms\n",
      "909:\tlearn: 0.0709930\ttotal: 825ms\tremaining: 81.6ms\n",
      "910:\tlearn: 0.0708621\ttotal: 826ms\tremaining: 80.7ms\n",
      "911:\tlearn: 0.0708273\ttotal: 827ms\tremaining: 79.8ms\n",
      "912:\tlearn: 0.0707147\ttotal: 827ms\tremaining: 78.8ms\n",
      "913:\tlearn: 0.0705664\ttotal: 828ms\tremaining: 77.9ms\n",
      "914:\tlearn: 0.0704121\ttotal: 829ms\tremaining: 77ms\n",
      "915:\tlearn: 0.0703853\ttotal: 830ms\tremaining: 76.1ms\n",
      "916:\tlearn: 0.0702883\ttotal: 830ms\tremaining: 75.2ms\n",
      "917:\tlearn: 0.0701629\ttotal: 831ms\tremaining: 74.3ms\n",
      "918:\tlearn: 0.0701173\ttotal: 832ms\tremaining: 73.3ms\n",
      "919:\tlearn: 0.0700545\ttotal: 833ms\tremaining: 72.4ms\n",
      "920:\tlearn: 0.0699268\ttotal: 834ms\tremaining: 71.5ms\n",
      "921:\tlearn: 0.0698958\ttotal: 835ms\tremaining: 70.6ms\n",
      "922:\tlearn: 0.0698401\ttotal: 835ms\tremaining: 69.7ms\n",
      "923:\tlearn: 0.0696378\ttotal: 836ms\tremaining: 68.8ms\n",
      "924:\tlearn: 0.0696217\ttotal: 837ms\tremaining: 67.9ms\n",
      "925:\tlearn: 0.0695062\ttotal: 838ms\tremaining: 66.9ms\n",
      "926:\tlearn: 0.0693804\ttotal: 839ms\tremaining: 66ms\n",
      "927:\tlearn: 0.0692443\ttotal: 840ms\tremaining: 65.1ms\n",
      "928:\tlearn: 0.0691351\ttotal: 840ms\tremaining: 64.2ms\n",
      "929:\tlearn: 0.0689907\ttotal: 841ms\tremaining: 63.3ms\n",
      "930:\tlearn: 0.0689531\ttotal: 842ms\tremaining: 62.4ms\n",
      "931:\tlearn: 0.0688542\ttotal: 843ms\tremaining: 61.5ms\n",
      "932:\tlearn: 0.0688295\ttotal: 843ms\tremaining: 60.6ms\n",
      "933:\tlearn: 0.0687444\ttotal: 844ms\tremaining: 59.7ms\n",
      "934:\tlearn: 0.0686175\ttotal: 845ms\tremaining: 58.8ms\n",
      "935:\tlearn: 0.0684637\ttotal: 846ms\tremaining: 57.8ms\n",
      "936:\tlearn: 0.0683277\ttotal: 847ms\tremaining: 56.9ms\n",
      "937:\tlearn: 0.0682982\ttotal: 848ms\tremaining: 56ms\n",
      "938:\tlearn: 0.0682421\ttotal: 848ms\tremaining: 55.1ms\n",
      "939:\tlearn: 0.0682357\ttotal: 849ms\tremaining: 54.2ms\n",
      "940:\tlearn: 0.0681838\ttotal: 850ms\tremaining: 53.3ms\n",
      "941:\tlearn: 0.0680499\ttotal: 851ms\tremaining: 52.4ms\n",
      "942:\tlearn: 0.0680301\ttotal: 852ms\tremaining: 51.5ms\n",
      "943:\tlearn: 0.0679861\ttotal: 852ms\tremaining: 50.6ms\n",
      "944:\tlearn: 0.0678834\ttotal: 853ms\tremaining: 49.7ms\n",
      "945:\tlearn: 0.0678012\ttotal: 854ms\tremaining: 48.7ms\n",
      "946:\tlearn: 0.0677574\ttotal: 855ms\tremaining: 47.8ms\n",
      "947:\tlearn: 0.0676606\ttotal: 856ms\tremaining: 46.9ms\n",
      "948:\tlearn: 0.0675489\ttotal: 857ms\tremaining: 46ms\n",
      "949:\tlearn: 0.0674239\ttotal: 858ms\tremaining: 45.1ms\n",
      "950:\tlearn: 0.0673841\ttotal: 858ms\tremaining: 44.2ms\n",
      "951:\tlearn: 0.0672334\ttotal: 859ms\tremaining: 43.3ms\n",
      "952:\tlearn: 0.0670711\ttotal: 861ms\tremaining: 42.4ms\n",
      "953:\tlearn: 0.0669888\ttotal: 861ms\tremaining: 41.5ms\n",
      "954:\tlearn: 0.0668257\ttotal: 862ms\tremaining: 40.6ms\n",
      "955:\tlearn: 0.0666886\ttotal: 863ms\tremaining: 39.7ms\n",
      "956:\tlearn: 0.0664486\ttotal: 864ms\tremaining: 38.8ms\n",
      "957:\tlearn: 0.0663098\ttotal: 865ms\tremaining: 37.9ms\n",
      "958:\tlearn: 0.0662304\ttotal: 866ms\tremaining: 37ms\n",
      "959:\tlearn: 0.0661733\ttotal: 866ms\tremaining: 36.1ms\n",
      "960:\tlearn: 0.0661677\ttotal: 867ms\tremaining: 35.2ms\n",
      "961:\tlearn: 0.0660950\ttotal: 868ms\tremaining: 34.3ms\n"
     ]
    },
    {
     "name": "stdout",
     "output_type": "stream",
     "text": [
      "962:\tlearn: 0.0660679\ttotal: 869ms\tremaining: 33.4ms\n",
      "963:\tlearn: 0.0660603\ttotal: 870ms\tremaining: 32.5ms\n",
      "964:\tlearn: 0.0659023\ttotal: 871ms\tremaining: 31.6ms\n",
      "965:\tlearn: 0.0658670\ttotal: 871ms\tremaining: 30.7ms\n",
      "966:\tlearn: 0.0658301\ttotal: 872ms\tremaining: 29.8ms\n",
      "967:\tlearn: 0.0657639\ttotal: 873ms\tremaining: 28.9ms\n",
      "968:\tlearn: 0.0655969\ttotal: 874ms\tremaining: 28ms\n",
      "969:\tlearn: 0.0654949\ttotal: 875ms\tremaining: 27.1ms\n",
      "970:\tlearn: 0.0653404\ttotal: 876ms\tremaining: 26.2ms\n",
      "971:\tlearn: 0.0652659\ttotal: 877ms\tremaining: 25.3ms\n",
      "972:\tlearn: 0.0651247\ttotal: 878ms\tremaining: 24.4ms\n",
      "973:\tlearn: 0.0650331\ttotal: 878ms\tremaining: 23.4ms\n",
      "974:\tlearn: 0.0649974\ttotal: 879ms\tremaining: 22.5ms\n",
      "975:\tlearn: 0.0648891\ttotal: 880ms\tremaining: 21.6ms\n",
      "976:\tlearn: 0.0648435\ttotal: 881ms\tremaining: 20.7ms\n",
      "977:\tlearn: 0.0648014\ttotal: 882ms\tremaining: 19.8ms\n",
      "978:\tlearn: 0.0647348\ttotal: 882ms\tremaining: 18.9ms\n",
      "979:\tlearn: 0.0647284\ttotal: 883ms\tremaining: 18ms\n",
      "980:\tlearn: 0.0646372\ttotal: 884ms\tremaining: 17.1ms\n",
      "981:\tlearn: 0.0645201\ttotal: 885ms\tremaining: 16.2ms\n",
      "982:\tlearn: 0.0644907\ttotal: 886ms\tremaining: 15.3ms\n",
      "983:\tlearn: 0.0643172\ttotal: 887ms\tremaining: 14.4ms\n",
      "984:\tlearn: 0.0641655\ttotal: 888ms\tremaining: 13.5ms\n",
      "985:\tlearn: 0.0641062\ttotal: 888ms\tremaining: 12.6ms\n",
      "986:\tlearn: 0.0639996\ttotal: 889ms\tremaining: 11.7ms\n",
      "987:\tlearn: 0.0638548\ttotal: 890ms\tremaining: 10.8ms\n",
      "988:\tlearn: 0.0638184\ttotal: 891ms\tremaining: 9.91ms\n",
      "989:\tlearn: 0.0637128\ttotal: 892ms\tremaining: 9.01ms\n",
      "990:\tlearn: 0.0636160\ttotal: 892ms\tremaining: 8.1ms\n",
      "991:\tlearn: 0.0635166\ttotal: 893ms\tremaining: 7.2ms\n",
      "992:\tlearn: 0.0634609\ttotal: 894ms\tremaining: 6.3ms\n",
      "993:\tlearn: 0.0633753\ttotal: 895ms\tremaining: 5.4ms\n",
      "994:\tlearn: 0.0632641\ttotal: 896ms\tremaining: 4.5ms\n",
      "995:\tlearn: 0.0632062\ttotal: 896ms\tremaining: 3.6ms\n",
      "996:\tlearn: 0.0631933\ttotal: 897ms\tremaining: 2.7ms\n",
      "997:\tlearn: 0.0631690\ttotal: 898ms\tremaining: 1.8ms\n",
      "998:\tlearn: 0.0630523\ttotal: 899ms\tremaining: 899us\n",
      "999:\tlearn: 0.0628769\ttotal: 900ms\tremaining: 0us\n"
     ]
    },
    {
     "data": {
      "text/plain": [
       "<catboost.core.CatBoostRegressor at 0x7fbbe81f8790>"
      ]
     },
     "execution_count": 9,
     "metadata": {},
     "output_type": "execute_result"
    }
   ],
   "source": [
    "#Train the Model \n",
    "prior_model = ctb.CatBoostRegressor()\n",
    "prior_model.fit(X_train,Y_train)"
   ]
  },
  {
   "cell_type": "code",
   "execution_count": 10,
   "id": "af65dcda",
   "metadata": {
    "execution": {
     "iopub.execute_input": "2022-06-12T06:54:03.020930Z",
     "iopub.status.busy": "2022-06-12T06:54:03.020493Z",
     "iopub.status.idle": "2022-06-12T06:54:03.027865Z",
     "shell.execute_reply": "2022-06-12T06:54:03.028106Z"
    },
    "id": "af65dcda",
    "papermill": {
     "duration": 0.020801,
     "end_time": "2022-06-12T06:54:03.028222",
     "exception": false,
     "start_time": "2022-06-12T06:54:03.007421",
     "status": "completed"
    },
    "tags": []
   },
   "outputs": [
    {
     "data": {
      "application/scrapbook.scrap.json+json": {
       "data": 0.12275608823077323,
       "encoder": "json",
       "name": "Prior Model MSE",
       "version": 1
      }
     },
     "metadata": {
      "scrapbook": {
       "data": true,
       "display": false,
       "name": "Prior Model MSE"
      }
     },
     "output_type": "display_data"
    },
    {
     "data": {
      "application/scrapbook.scrap.json+json": {
       "data": 1.2994042948202829,
       "encoder": "json",
       "name": "ABC Pre-generator MSE",
       "version": 1
      }
     },
     "metadata": {
      "scrapbook": {
       "data": true,
       "display": false,
       "name": "ABC Pre-generator MSE"
      }
     },
     "output_type": "display_data"
    },
    {
     "data": {
      "application/scrapbook.scrap.json+json": {
       "data": 0.22534496039077792,
       "encoder": "json",
       "name": "Prior Model MSE",
       "version": 1
      }
     },
     "metadata": {
      "scrapbook": {
       "data": true,
       "display": false,
       "name": "Prior Model MSE"
      }
     },
     "output_type": "display_data"
    },
    {
     "data": {
      "application/scrapbook.scrap.json+json": {
       "data": 0.9104285571958527,
       "encoder": "json",
       "name": "ABC Pre-generator MSE",
       "version": 1
      }
     },
     "metadata": {
      "scrapbook": {
       "data": true,
       "display": false,
       "name": "ABC Pre-generator MSE"
      }
     },
     "output_type": "display_data"
    }
   ],
   "source": [
    "y_pred = prior_model.predict(X_test)\n",
    "y_abc = y_pred + np.random.normal(0,variance, y_pred.shape) + bias \n",
    "mse = mean_squared_error(y_pred,Y_test)\n",
    "sb.glue(\"Prior Model MSE\",mse)\n",
    "mse = mean_squared_error(y_abc,Y_test)\n",
    "sb.glue(\"ABC Pre-generator MSE\",mse)\n",
    "mae = mean_absolute_error(y_pred,Y_test)\n",
    "sb.glue(\"Prior Model MSE\",mae)\n",
    "mae = mean_absolute_error(y_abc,Y_test)\n",
    "sb.glue(\"ABC Pre-generator MSE\",mae)"
   ]
  },
  {
   "cell_type": "markdown",
   "id": "25609da2",
   "metadata": {
    "papermill": {
     "duration": 0.009832,
     "end_time": "2022-06-12T06:54:03.048139",
     "exception": false,
     "start_time": "2022-06-12T06:54:03.038307",
     "status": "completed"
    },
    "tags": []
   },
   "source": [
    "# ABC GAN Model"
   ]
  },
  {
   "cell_type": "code",
   "execution_count": 11,
   "id": "dfc3464d",
   "metadata": {
    "execution": {
     "iopub.execute_input": "2022-06-12T06:54:03.070728Z",
     "iopub.status.busy": "2022-06-12T06:54:03.070359Z",
     "iopub.status.idle": "2022-06-12T06:54:03.072772Z",
     "shell.execute_reply": "2022-06-12T06:54:03.073021Z"
    },
    "papermill": {
     "duration": 0.015187,
     "end_time": "2022-06-12T06:54:03.073129",
     "exception": false,
     "start_time": "2022-06-12T06:54:03.057942",
     "status": "completed"
    },
    "tags": []
   },
   "outputs": [],
   "source": [
    "gen = network.Generator(n_features+1).to(device)\n",
    "disc = network.Discriminator(n_features+1).to(device)\n",
    "\n",
    "criterion = torch.nn.BCELoss()\n",
    "gen_opt = torch.optim.Adam(gen.parameters(), lr=0.001, betas=(0.5, 0.999))\n",
    "disc_opt = torch.optim.Adam(disc.parameters(), lr=0.001, betas=(0.5, 0.999))"
   ]
  },
  {
   "cell_type": "code",
   "execution_count": 12,
   "id": "b75fdd85",
   "metadata": {
    "execution": {
     "iopub.execute_input": "2022-06-12T06:54:03.096016Z",
     "iopub.status.busy": "2022-06-12T06:54:03.095602Z",
     "iopub.status.idle": "2022-06-12T06:55:04.830900Z",
     "shell.execute_reply": "2022-06-12T06:55:04.831197Z"
    },
    "papermill": {
     "duration": 61.74815,
     "end_time": "2022-06-12T06:55:04.831321",
     "exception": false,
     "start_time": "2022-06-12T06:54:03.083171",
     "status": "completed"
    },
    "tags": []
   },
   "outputs": [
    {
     "data": {
      "image/png": "[encoded data removed]",
      "text/plain": [
       "<Figure size 432x288 with 1 Axes>"
      ]
     },
     "metadata": {
      "needs_background": "light"
     },
     "output_type": "display_data"
    },
    {
     "data": {
      "image/png": "[encoded data removed]",
      "text/plain": [
       "<Figure size 432x288 with 1 Axes>"
      ]
     },
     "metadata": {
      "needs_background": "light"
     },
     "output_type": "display_data"
    }
   ],
   "source": [
    "#Training the ABC_GAN \n",
    "ABC_train_test2.training_GAN(disc,gen,disc_opt,gen_opt,train_data,batch_size,n_epochs,criterion,prior_model,variance,bias,device)"
   ]
  },
  {
   "cell_type": "code",
   "execution_count": 13,
   "id": "1fa7c368",
   "metadata": {
    "execution": {
     "iopub.execute_input": "2022-06-12T06:55:04.855822Z",
     "iopub.status.busy": "2022-06-12T06:55:04.855386Z",
     "iopub.status.idle": "2022-06-12T06:55:05.168919Z",
     "shell.execute_reply": "2022-06-12T06:55:05.169230Z"
    },
    "papermill": {
     "duration": 0.327097,
     "end_time": "2022-06-12T06:55:05.169359",
     "exception": false,
     "start_time": "2022-06-12T06:55:04.842262",
     "status": "completed"
    },
    "tags": []
   },
   "outputs": [
    {
     "data": {
      "application/scrapbook.scrap.json+json": {
       "data": 0.20263887323160706,
       "encoder": "json",
       "name": "ABC-GAN Model 1 MSE",
       "version": 1
      }
     },
     "metadata": {
      "scrapbook": {
       "data": true,
       "display": false,
       "name": "ABC-GAN Model 1 MSE"
      }
     },
     "output_type": "display_data"
    },
    {
     "data": {
      "application/scrapbook.scrap.json+json": {
       "data": 0.2781333038868273,
       "encoder": "json",
       "name": "ABC-GAN Model 1 MAE",
       "version": 1
      }
     },
     "metadata": {
      "scrapbook": {
       "data": true,
       "display": false,
       "name": "ABC-GAN Model 1 MAE"
      }
     },
     "output_type": "display_data"
    },
    {
     "data": {
      "application/scrapbook.scrap.json+json": {
       "data": 28.369596996456384,
       "encoder": "json",
       "name": "ABC-GAN Model 1 Manhattan Distance",
       "version": 1
      }
     },
     "metadata": {
      "scrapbook": {
       "data": true,
       "display": false,
       "name": "ABC-GAN Model 1 Manhattan Distance"
      }
     },
     "output_type": "display_data"
    },
    {
     "data": {
      "application/scrapbook.scrap.json+json": {
       "data": 4.546321382446288,
       "encoder": "json",
       "name": "ABC-GAN Model 1 Euclidean distance",
       "version": 1
      }
     },
     "metadata": {
      "scrapbook": {
       "data": true,
       "display": false,
       "name": "ABC-GAN Model 1 Euclidean distance"
      }
     },
     "output_type": "display_data"
    },
    {
     "data": {
      "application/scrapbook.scrap.json+json": {
       "data": [
        [
         0.20185655710243508,
         0.20320184887375692,
         0.2015454275629244,
         0.20250035337533326,
         0.20291245490897047,
         0.2030142460157934,
         0.20372978970534178,
         0.20066834710639248,
         0.20389991445904054,
         0.20542580352666082,
         0.2034357255279069,
         0.2031215443996127,
         0.20357649346525974,
         0.20208931411192518,
         0.20197305694189674,
         0.20230308504393832,
         0.20136261404393266,
         0.2020924840739609,
         0.2022499798127711,
         0.20186705614119876,
         0.2018029229247788,
         0.20402644817643079,
         0.20494107753698873,
         0.2025442363380529,
         0.20306010568331026,
         0.20299284444361176,
         0.2031993782972489,
         0.20330267054973314,
         0.20169298240473785,
         0.2012474547246477,
         0.20362874809854323,
         0.20207587527262766,
         0.20290901248220267,
         0.20210220535337392,
         0.20269656667187574,
         0.20379981590648305,
         0.2016882426694853,
         0.20364498899657163,
         0.2039035690499056,
         0.20211087403112282,
         0.20416586822498858,
         0.20261178292486756,
         0.20281612084681433,
         0.20286529654874152,
         0.20265447691524088,
         0.20281473980178924,
         0.2032692125969598,
         0.20215075485283804,
         0.20228819587469335,
         0.20392071189856073,
         0.20394237701011453,
         0.201289469248294,
         0.20156931730118977,
         0.20305689525009563,
         0.20225993661784616,
         0.20375894892857457,
         0.19998549178427952,
         0.20107367506917492,
         0.202538493111737,
         0.20401831921973632,
         0.20238046830858236,
         0.20211725030894365,
         0.20298126582116535,
         0.20418208552076314,
         0.20220540730601924,
         0.2018834518682741,
         0.2027956886676038,
         0.20053703641501697,
         0.20321276660602908,
         0.2026822063741899,
         0.20263170090082971,
         0.20346548682096122,
         0.20361108209787968,
         0.20168004372325762,
         0.19983825694854668,
         0.20296605654255737,
         0.20176197707899926,
         0.20370490813304495,
         0.20151366282717295,
         0.20215546788951005,
         0.20271855983007878,
         0.2026286567754175,
         0.20188388536413657,
         0.20059763105956388,
         0.2027671600718092,
         0.2019051682096502,
         0.20164777760058836,
         0.20341431581690328,
         0.20414758734166777,
         0.20269525907995573,
         0.20393446369565446,
         0.20280382945551945,
         0.202633989861906,
         0.2023976069592204,
         0.20422864295289236,
         0.20345897106786998,
         0.20203143834763665,
         0.2024810599119359,
         0.20191358265892723,
         0.20204526710270398
        ],
        [
         0.2782277620452292,
         0.27984611339428844,
         0.2780397482873762,
         0.2781315902430637,
         0.2779247129299477,
         0.27854784694956797,
         0.2791443815564408,
         0.27769194408228587,
         0.27817947607414395,
         0.27965355007087483,
         0.2795091848089999,
         0.27866555377840996,
         0.2781089147662415,
         0.27727889214806695,
         0.27658458879473163,
         0.27871233195650813,
         0.27673538832687866,
         0.2774350730081399,
         0.2791859370236303,
         0.2769069711440334,
         0.2790325031634055,
         0.2792568124611588,
         0.278406326677285,
         0.2787409327632072,
         0.27793032665024786,
         0.27745550728457813,
         0.2784178735067447,
         0.2761141240742861,
         0.2769807182325452,
         0.2785833480165285,
         0.2788271322189009,
         0.277707075955821,
         0.2782558168047199,
         0.2766782758647905,
         0.27871215285039413,
         0.2789830360561609,
         0.27701342449176547,
         0.2797327485739016,
         0.2787120700539911,
         0.27801739205332365,
         0.27820820270069674,
         0.2769085661891629,
         0.28064318446844233,
         0.27725732005109976,
         0.2778954386126761,
         0.27869161075967197,
         0.2779633861181198,
         0.2787791242932572,
         0.27713488571930167,
         0.2799486829807945,
         0.2787649323250733,
         0.27804328844535586,
         0.27787278983376773,
         0.2792735083357376,
         0.2780708847384827,
         0.27887911345882743,
         0.2760298258679755,
         0.2760030393141742,
         0.27829966098800596,
         0.2787239405819598,
         0.27838168380891576,
         0.2777385177711646,
         0.28005549362769316,
         0.27977764361775387,
         0.27858611086712165,
         0.2779340281644288,
         0.2769503329752707,
         0.2761094929175634,
         0.2778083945752359,
         0.27852045777527723,
         0.2782881169342527,
         0.2785716257697227,
         0.27890262113628433,
         0.27600723793547527,
         0.2762660862987532,
         0.2784201740561163,
         0.27706010438794015,
         0.2790551062892465,
         0.27715550542023837,
         0.2770303922760136,
         0.2779758297564352,
         0.2790206117445932,
         0.2778526509509367,
         0.27594783672076817,
         0.27734254260419633,
         0.2785518621551056,
         0.2784099232624559,
         0.2790843176418075,
         0.28189684472539844,
         0.2781967500261232,
         0.2782521359257254,
         0.27801113692568796,
         0.2788117340966767,
         0.27773714138596667,
         0.2784775838475017,
         0.2791289241217515,
         0.277797641415222,
         0.2766523333083765,
         0.2769519115852959,
         0.27715260495303895
        ],
        [
         28.379231728613377,
         28.544303566217422,
         28.360054325312376,
         28.3694222047925,
         28.348320718854666,
         28.411880388855934,
         28.472726918756962,
         28.324578296393156,
         28.374306559562683,
         28.524662107229233,
         28.509936850517988,
         28.423886485397816,
         28.367109306156635,
         28.28244699910283,
         28.211628057062626,
         28.428657859563828,
         28.22700960934162,
         28.298377446830273,
         28.476965576410294,
         28.244511056691408,
         28.46131532266736,
         28.4841948710382,
         28.39744532108307,
         28.431575141847134,
         28.34889331832528,
         28.300461743026972,
         28.39862309768796,
         28.163640655577183,
         28.25203325971961,
         28.41550149768591,
         28.440367486327887,
         28.326121747493744,
         28.38209331408143,
         28.221184138208628,
         28.428639590740204,
         28.456269677728415,
         28.255369298160076,
         28.532740354537964,
         28.428631145507097,
         28.35777398943901,
         28.377236675471067,
         28.244673751294613,
         28.625604815781116,
         28.280246645212173,
         28.345334738492966,
         28.426544297486544,
         28.352265384048223,
         28.435470677912235,
         28.26775834336877,
         28.554765664041042,
         28.43402309715748,
         28.360415421426296,
         28.34302456304431,
         28.485897850245237,
         28.363230243325233,
         28.445669572800398,
         28.155042238533497,
         28.152310010045767,
         28.386565420776606,
         28.429841939359903,
         28.394931748509407,
         28.329328812658787,
         28.5656603500247,
         28.537319649010897,
         28.415783308446407,
         28.34927087277174,
         28.24893396347761,
         28.163168277591467,
         28.33645624667406,
         28.40908669307828,
         28.385387927293777,
         28.414305828511715,
         28.448067355901003,
         28.152738269418478,
         28.17914080247283,
         28.39885775372386,
         28.260130647569895,
         28.463620841503143,
         28.269861552864313,
         28.257100012153387,
         28.353534635156393,
         28.460102397948503,
         28.340970396995544,
         28.14667934551835,
         28.288939345628023,
         28.412289939820766,
         28.3978121727705,
         28.46660039946437,
         28.753478161990643,
         28.376068502664566,
         28.38171786442399,
         28.357135966420174,
         28.438796877861023,
         28.3291884213686,
         28.404713552445173,
         28.471150260418653,
         28.335359424352646,
         28.218537997454405,
         28.249094981700182,
         28.26956570520997
        ],
        [
         4.537550972104708,
         4.55264632770032,
         4.534052669678451,
         4.544781187723342,
         4.549403301611651,
         4.550544263449256,
         4.5585566301127445,
         4.524176323360091,
         4.560459546451666,
         4.5774918852707325,
         4.555265525065087,
         4.5517466459328,
         4.556841267090229,
         4.540166300854669,
         4.538860188205126,
         4.542566969729969,
         4.531995877368065,
         4.540201909116378,
         4.5419707111453995,
         4.537668974969668,
         4.536948108401443,
         4.561874364117883,
         4.572088134405641,
         4.545273600838722,
         4.551058204384739,
         4.550304400064725,
         4.552618651536651,
         4.553775619864551,
         4.535712094620123,
         4.530699767355377,
         4.557426061501318,
         4.540015338939729,
         4.54936471094423,
         4.540311106746335,
         4.546982493976784,
         4.559339998559141,
         4.535658800250246,
         4.557607802087659,
         4.560500415863414,
         4.540408478449327,
         4.563432760428144,
         4.5460314405354145,
         4.548323243391466,
         4.548874613349067,
         4.5465103810894965,
         4.548307757813064,
         4.553400892178272,
         4.5408564164691985,
         4.542399803982332,
         4.560692120024459,
         4.560934383986649,
         4.5311726808107835,
         4.534321378632238,
         4.551022227534135,
         4.542082510811567,
         4.55888284459193,
         4.516472092462934,
         4.528743187359583,
         4.5452091588173555,
         4.561783484604799,
         4.543435678809088,
         4.540480099230944,
         4.55017462453463,
         4.5636139980412285,
         4.541470196446737,
         4.53785324691797,
         4.5480941331612295,
         4.5226958458790625,
         4.552768629506113,
         4.546821422726802,
         4.546254886374567,
         4.555598715398234,
         4.557228365353631,
         4.53556660845944,
         4.514809210670121,
         4.550004150255343,
         4.536487811298287,
         4.558278252758445,
         4.53369535901693,
         4.540909349979366,
         4.547229167599543,
         4.546220737171985,
         4.537858118886259,
         4.5233790873721285,
         4.547774216836688,
         4.538097305852347,
         4.535203778802008,
         4.555025819172064,
         4.563228452406269,
         4.546967827701828,
         4.560845897084964,
         4.548185418874542,
         4.5462805639241415,
         4.543628055842652,
         4.564134264150763,
         4.555525770854856,
         4.539516131864599,
         4.544564677834112,
         4.538191868047293,
         4.539671490810299
        ]
       ],
       "encoder": "json",
       "name": "ABC_GAN_1 Metrics",
       "version": 1
      }
     },
     "metadata": {
      "scrapbook": {
       "data": true,
       "display": false,
       "name": "ABC_GAN_1 Metrics"
      }
     },
     "output_type": "display_data"
    },
    {
     "name": "stdout",
     "output_type": "stream",
     "text": [
      "MSE\n",
      "0.20263887323160706\n"
     ]
    }
   ],
   "source": [
    "ABC_GAN1_metrics=ABC_train_test2.test_generator(gen,test_data,prior_model,variance,bias,\"1\",device)\n",
    "sb.glue(\"ABC_GAN_1 Metrics\",ABC_GAN1_metrics)\n",
    "\n",
    "print(\"MSE\")\n",
    "print(mean(ABC_GAN1_metrics[0]))"
   ]
  },
  {
   "cell_type": "code",
   "execution_count": 14,
   "id": "eb22ce5c",
   "metadata": {
    "execution": {
     "iopub.execute_input": "2022-06-12T06:55:05.197015Z",
     "iopub.status.busy": "2022-06-12T06:55:05.196619Z",
     "iopub.status.idle": "2022-06-12T06:55:05.510248Z",
     "shell.execute_reply": "2022-06-12T06:55:05.510493Z"
    },
    "papermill": {
     "duration": 0.328357,
     "end_time": "2022-06-12T06:55:05.510617",
     "exception": false,
     "start_time": "2022-06-12T06:55:05.182260",
     "status": "completed"
    },
    "tags": []
   },
   "outputs": [
    {
     "data": {
      "image/png": "[encoded data removed]",
      "text/plain": [
       "<Figure size 432x288 with 1 Axes>"
      ]
     },
     "metadata": {
      "needs_background": "light"
     },
     "output_type": "display_data"
    },
    {
     "data": {
      "image/png": "[encoded data removed]",
      "text/plain": [
       "<Figure size 432x288 with 1 Axes>"
      ]
     },
     "metadata": {
      "needs_background": "light"
     },
     "output_type": "display_data"
    },
    {
     "data": {
      "image/png": "[encoded data removed]",
      "text/plain": [
       "<Figure size 432x288 with 1 Axes>"
      ]
     },
     "metadata": {
      "needs_background": "light"
     },
     "output_type": "display_data"
    },
    {
     "data": {
      "image/png": "[encoded data removed]",
      "text/plain": [
       "<Figure size 432x288 with 1 Axes>"
      ]
     },
     "metadata": {
      "needs_background": "light"
     },
     "output_type": "display_data"
    }
   ],
   "source": [
    "sanityChecks.discProbVsError(train_data,disc,device)\n",
    "sanityChecks.discProbVsError(test_data,disc,device)"
   ]
  },
  {
   "cell_type": "markdown",
   "id": "130f3a4d",
   "metadata": {
    "id": "130f3a4d",
    "papermill": {
     "duration": 0.01482,
     "end_time": "2022-06-12T06:55:05.540534",
     "exception": false,
     "start_time": "2022-06-12T06:55:05.525714",
     "status": "completed"
    },
    "tags": []
   },
   "source": [
    "# ABC - GAN Model with skip connection"
   ]
  },
  {
   "cell_type": "code",
   "execution_count": 15,
   "id": "4e43dad1",
   "metadata": {
    "execution": {
     "iopub.execute_input": "2022-06-12T06:55:05.574351Z",
     "iopub.status.busy": "2022-06-12T06:55:05.573978Z",
     "iopub.status.idle": "2022-06-12T06:55:05.575231Z",
     "shell.execute_reply": "2022-06-12T06:55:05.575467Z"
    },
    "id": "4e43dad1",
    "papermill": {
     "duration": 0.020085,
     "end_time": "2022-06-12T06:55:05.575575",
     "exception": false,
     "start_time": "2022-06-12T06:55:05.555490",
     "status": "completed"
    },
    "tags": []
   },
   "outputs": [],
   "source": [
    "#Generator\n",
    "gen3 = network.GeneratorWithSkipConnection(n_features+1).to(device)\n",
    "constraints=network.weightConstraint()\n",
    "#Discriminator \n",
    "disc3 = network.Discriminator(n_features+1).to(device)\n",
    "\n",
    "criterion = torch.nn.BCELoss()\n",
    "gen_opt = torch.optim.Adam(gen3.parameters(), lr=0.001, betas=(0.5, 0.999))\n",
    "disc_opt = torch.optim.Adam(disc3.parameters(), lr=0.001, betas=(0.5, 0.999))\n"
   ]
  },
  {
   "cell_type": "code",
   "execution_count": 16,
   "id": "26acbc37",
   "metadata": {
    "execution": {
     "iopub.execute_input": "2022-06-12T06:55:05.607455Z",
     "iopub.status.busy": "2022-06-12T06:55:05.607081Z",
     "iopub.status.idle": "2022-06-12T06:58:39.000565Z",
     "shell.execute_reply": "2022-06-12T06:58:39.000992Z"
    },
    "id": "26acbc37",
    "papermill": {
     "duration": 213.410748,
     "end_time": "2022-06-12T06:58:39.001120",
     "exception": false,
     "start_time": "2022-06-12T06:55:05.590372",
     "status": "completed"
    },
    "tags": []
   },
   "outputs": [
    {
     "data": {
      "image/png": "[encoded data removed]",
      "text/plain": [
       "<Figure size 432x288 with 1 Axes>"
      ]
     },
     "metadata": {
      "needs_background": "light"
     },
     "output_type": "display_data"
    },
    {
     "data": {
      "image/png": "[encoded data removed]",
      "text/plain": [
       "<Figure size 432x288 with 1 Axes>"
      ]
     },
     "metadata": {
      "needs_background": "light"
     },
     "output_type": "display_data"
    }
   ],
   "source": [
    "ABC_train_test2.training_GAN_skip_connection(disc3,gen3,disc_opt,gen_opt,train_data,batch_size,n_epochs,criterion,prior_model,variance,bias,device)"
   ]
  },
  {
   "cell_type": "code",
   "execution_count": 17,
   "id": "c5e0717b",
   "metadata": {
    "execution": {
     "iopub.execute_input": "2022-06-12T06:58:39.035447Z",
     "iopub.status.busy": "2022-06-12T06:58:39.035088Z",
     "iopub.status.idle": "2022-06-12T06:58:39.885760Z",
     "shell.execute_reply": "2022-06-12T06:58:39.886135Z"
    },
    "id": "c5e0717b",
    "papermill": {
     "duration": 0.869264,
     "end_time": "2022-06-12T06:58:39.886258",
     "exception": false,
     "start_time": "2022-06-12T06:58:39.016994",
     "status": "completed"
    },
    "tags": []
   },
   "outputs": [
    {
     "data": {
      "application/scrapbook.scrap.json+json": {
       "data": 0.24625588796205258,
       "encoder": "json",
       "name": "ABC-GAN Model 3 MSE",
       "version": 1
      }
     },
     "metadata": {
      "scrapbook": {
       "data": true,
       "display": false,
       "name": "ABC-GAN Model 3 MSE"
      }
     },
     "output_type": "display_data"
    },
    {
     "data": {
      "application/scrapbook.scrap.json+json": {
       "data": 0.2599326154904146,
       "encoder": "json",
       "name": "ABC-GAN Model 3 MAE",
       "version": 1
      }
     },
     "metadata": {
      "scrapbook": {
       "data": true,
       "display": false,
       "name": "ABC-GAN Model 3 MAE"
      }
     },
     "output_type": "display_data"
    },
    {
     "data": {
      "application/scrapbook.scrap.json+json": {
       "data": 26.513126780022287,
       "encoder": "json",
       "name": "ABC-GAN Model 3 Manhattan Distance",
       "version": 1
      }
     },
     "metadata": {
      "scrapbook": {
       "data": true,
       "display": false,
       "name": "ABC-GAN Model 3 Manhattan Distance"
      }
     },
     "output_type": "display_data"
    },
    {
     "data": {
      "application/scrapbook.scrap.json+json": {
       "data": 5.011780198518579,
       "encoder": "json",
       "name": "ABC-GAN Model 3 Euclidean distance",
       "version": 1
      }
     },
     "metadata": {
      "scrapbook": {
       "data": true,
       "display": false,
       "name": "ABC-GAN Model 3 Euclidean distance"
      }
     },
     "output_type": "display_data"
    },
    {
     "data": {
      "application/scrapbook.scrap.json+json": {
       "data": [
        [
         0.24598557314979694,
         0.24555911812456283,
         0.24620239221075454,
         0.24493923385783206,
         0.24530249409057747,
         0.24794413570821783,
         0.24812666119444185,
         0.24641904243072826,
         0.24475984494504002,
         0.24691783443666773,
         0.24455404813714354,
         0.2455849320426266,
         0.2464759865086077,
         0.24401061479473857,
         0.2463863316632932,
         0.24747685025951882,
         0.24683380655253348,
         0.24630892546365865,
         0.24584386984356976,
         0.2455121731622579,
         0.24616107664592904,
         0.2457927321751911,
         0.24588811070583588,
         0.2457012841560793,
         0.24889165678900774,
         0.248478302241263,
         0.24565221159308698,
         0.24644740172476817,
         0.2479641225520902,
         0.24705288053732063,
         0.24444387297096665,
         0.24605887630901147,
         0.24635718946534496,
         0.24518339372116238,
         0.24420843038789167,
         0.24370138870117422,
         0.24709927719620037,
         0.24436797072394734,
         0.24709687160933094,
         0.24634414069624155,
         0.2472193955422981,
         0.24474893751806343,
         0.24544587161638667,
         0.2455085600699069,
         0.24799541664499988,
         0.24590516832342157,
         0.24662021832259598,
         0.2458561344992922,
         0.244571338461138,
         0.24493939785354185,
         0.24523466731537805,
         0.24526789402389051,
         0.24789834054203705,
         0.24723094092112663,
         0.24709208487996198,
         0.24794380202716962,
         0.2463268121417204,
         0.24786689524855235,
         0.24478057940788345,
         0.24604642501420737,
         0.24660063314622743,
         0.24830871345198113,
         0.24595333143168674,
         0.2486561061751277,
         0.24812590053333627,
         0.24620922894693656,
         0.24581753330051642,
         0.246603306190451,
         0.24505886646023792,
         0.2474758086846168,
         0.2484061492961874,
         0.2464980739179593,
         0.24659689447033245,
         0.24488974964881335,
         0.2471726757904773,
         0.2457882674049777,
         0.24857187309049802,
         0.24635973322571225,
         0.24547529461704815,
         0.24652118745086926,
         0.24731469823448216,
         0.24654495176387686,
         0.2437299537720443,
         0.24585714803149958,
         0.24621646511531345,
         0.24491762073574264,
         0.24627502758574718,
         0.24730089890759208,
         0.24563225874817743,
         0.24683675186115292,
         0.24763601040710143,
         0.2429275233757913,
         0.24616373914502432,
         0.24656153563423003,
         0.2461519381676458,
         0.2484456073390575,
         0.24510802452438982,
         0.24725187993135855,
         0.24402549030702608,
         0.24706800553202732
        ],
        [
         0.26094043330636385,
         0.25928353613662514,
         0.2605650071534054,
         0.25898100932439166,
         0.2571379028845067,
         0.2616106178383252,
         0.26069780901603984,
         0.2616245386718005,
         0.2586875234630105,
         0.25985090330005717,
         0.2599934361528094,
         0.26034121356867984,
         0.2587367233206226,
         0.25974080927998705,
         0.2621925176103033,
         0.2604523717937078,
         0.2606024423650667,
         0.26017551319034515,
         0.26011856213695933,
         0.2591017399259441,
         0.2589542279019952,
         0.25991026191132177,
         0.2600355247382586,
         0.2605926705816505,
         0.26103053812060834,
         0.260889589019558,
         0.25816753997887465,
         0.260835437387155,
         0.2612417029906247,
         0.26019481424465957,
         0.2587934092130037,
         0.2593693734584924,
         0.2612814072190839,
         0.2602823306909105,
         0.26041260980727043,
         0.2586300528023903,
         0.2594495320249824,
         0.26094006013704973,
         0.25996433498392646,
         0.26126710523842084,
         0.2602658886416797,
         0.2586998698580097,
         0.25898377415632795,
         0.2584572779973421,
         0.2612902795275052,
         0.2617095811338182,
         0.25928370837651776,
         0.2585009434009336,
         0.25980997396012145,
         0.25937356975148707,
         0.2585490479124893,
         0.25825888397372965,
         0.2608556559129034,
         0.26071536638454407,
         0.2601709139519645,
         0.2606423255056143,
         0.25916829555724546,
         0.2611624701884484,
         0.25807501516800246,
         0.25960001741609007,
         0.25950278222159134,
         0.25937433852060865,
         0.2583161347509161,
         0.2625375481221971,
         0.26053912576753646,
         0.259489612854725,
         0.2591378871881056,
         0.2616308875149116,
         0.2583947401018996,
         0.2602617953511357,
         0.2608557722380604,
         0.2611264331156717,
         0.25960380565740315,
         0.26067123536531833,
         0.2598682768852906,
         0.25823030724674095,
         0.26078351151184453,
         0.2607412231588444,
         0.2587637108266719,
         0.2589007852845551,
         0.26049255181386993,
         0.26028987808910875,
         0.25815534945029545,
         0.25912084432282284,
         0.2605381309894808,
         0.25896090302872016,
         0.26114167720901177,
         0.26133260794677865,
         0.25980588061935905,
         0.25874998733200427,
         0.26026217089783327,
         0.2583665970539418,
         0.2592727043848558,
         0.25972649146227494,
         0.2600981601395224,
         0.261515506106091,
         0.26006292817228494,
         0.26092606123911183,
         0.2583051978875244,
         0.260758015548573
        ],
        [
         26.615924197249115,
         26.446920685935766,
         26.577630729647353,
         26.41606295108795,
         26.228066094219685,
         26.684283019509166,
         26.591176519636065,
         26.685702944523655,
         26.38612739322707,
         26.50479213660583,
         26.519330487586558,
         26.554803784005344,
         26.391145778703503,
         26.493562546558678,
         26.74363679625094,
         26.566141922958195,
         26.5814491212368,
         26.537902345415205,
         26.532093337969854,
         26.4283774724463,
         26.41333124600351,
         26.510846714954823,
         26.523623523302376,
         26.58045239932835,
         26.62511488830205,
         26.610738079994917,
         26.333089077845216,
         26.605214613489807,
         26.646653705043718,
         26.539871052955277,
         26.39692773972638,
         26.455676092766225,
         26.650703536346555,
         26.54879773047287,
         26.562086200341582,
         26.380265385843813,
         26.4638522665482,
         26.615886133979075,
         26.5163621683605,
         26.649244734318927,
         26.54712064145133,
         26.38738672551699,
         26.41634496394545,
         26.362642355728894,
         26.651608511805534,
         26.694377275649458,
         26.446938254404813,
         26.367096226895228,
         26.50061734393239,
         26.45610411465168,
         26.372002887073904,
         26.342406165320426,
         26.607276903116144,
         26.592967371223494,
         26.53743322310038,
         26.585517201572657,
         26.435166146839038,
         26.638571959221736,
         26.32365154713625,
         26.479201776441187,
         26.46928378660232,
         26.45618252910208,
         26.34824574459344,
         26.778829908464104,
         26.57499082828872,
         26.46794051118195,
         26.432064493186772,
         26.686350526520982,
         26.356263490393758,
         26.54670312581584,
         26.60728876828216,
         26.63489617779851,
         26.47958817705512,
         26.58846600726247,
         26.506564242299646,
         26.33949133916758,
         26.599918174208142,
         26.59560476220213,
         26.393898504320532,
         26.407880099024624,
         26.570240285014734,
         26.54956756508909,
         26.331845643930137,
         26.43032612092793,
         26.574889360927045,
         26.414012108929455,
         26.6364510753192,
         26.65592601057142,
         26.500199823174626,
         26.392498707864434,
         26.546741431578994,
         26.35339289950207,
         26.44581584725529,
         26.492102129152045,
         26.530012334231287,
         26.67458162282128,
         26.526418673573062,
         26.614458246389404,
         26.347130184527487,
         26.597317585954443
        ],
        [
         5.009044665530472,
         5.004700795123062,
         5.01125174038353,
         4.998379922884901,
         5.002085004999306,
         5.028946394846361,
         5.030797098058425,
         5.013456126060572,
         4.996549227656432,
         5.01852758411669,
         4.994448208760267,
         5.004963842861196,
         5.014035363245655,
         4.988895940893469,
         5.013123360705969,
         5.024205283074221,
         5.017673591253064,
         5.012335822477698,
         5.007601693829503,
         5.004222383402871,
         5.0108312501904075,
         5.0070808543371355,
         5.008052245334034,
         5.006149316982073,
         5.03854631738945,
         5.0343606176563105,
         5.005649366715059,
         5.013744606172752,
         5.029149083126607,
         5.019899781350889,
         4.9933230461325655,
         5.009790952077657,
         5.012826879662331,
         5.000870540171838,
         4.990917741214029,
         4.985733812340945,
         5.020371129111118,
         4.9925477477779445,
         5.0203466916291495,
         5.01269412103079,
         5.021591216468582,
         4.996437893824207,
         5.003546632626845,
         5.004185560821113,
         5.029466422771901,
         5.00822595027311,
         5.015502195085232,
         5.007726601855157,
         4.994624762986312,
         4.998381596183036,
         5.001393412457028,
         5.001732218985422,
         5.028481951373375,
         5.021708471621478,
         5.020298064632828,
         5.028943010889196,
         5.012517814278118,
         5.028163015988279,
         4.996760860758109,
         5.009664195477492,
         5.015303039788843,
         5.032642325071599,
         5.008716383069823,
         5.03616151745186,
         5.030789386806041,
         5.011321318034549,
         5.007333461699218,
         5.015330221573252,
         4.999600421928164,
         5.024194710183008,
         5.033629627635621,
         5.014260019148573,
         5.015265021509223,
         4.997874994853209,
         5.021116701554415,
         5.007035377876586,
         5.035308436951087,
         5.012852759559435,
         5.003846525518035,
         5.014495101202978,
         5.022559031003735,
         5.014736790691556,
         4.986026001210636,
         5.007736923922119,
         5.01139495966562,
         4.9981593927210595,
         5.01199090319867,
         5.022418908113338,
         5.005446073260015,
         5.017703527495182,
         5.0258206356300015,
         4.977811505504273,
         5.010858348905153,
         5.014905446236395,
         5.010738238333736,
         5.034029394886751,
         5.00010184911145,
         5.0219211217420145,
         4.989048006515537,
         5.020053442371584
        ]
       ],
       "encoder": "json",
       "name": "ABC_GAN_3 Metrics",
       "version": 1
      }
     },
     "metadata": {
      "scrapbook": {
       "data": true,
       "display": false,
       "name": "ABC_GAN_3 Metrics"
      }
     },
     "output_type": "display_data"
    },
    {
     "name": "stdout",
     "output_type": "stream",
     "text": [
      "MSE\n",
      "0.24625588796205258\n"
     ]
    }
   ],
   "source": [
    "ABC_GAN3_metrics=ABC_train_test2.test_generator(gen3,test_data,prior_model,variance,bias,\"3\",device)\n",
    "sb.glue(\"ABC_GAN_3 Metrics\",ABC_GAN3_metrics)\n",
    "\n",
    "print(\"MSE\")\n",
    "print(mean(ABC_GAN3_metrics[0]))"
   ]
  },
  {
   "cell_type": "code",
   "execution_count": 18,
   "id": "c8e46b48",
   "metadata": {
    "execution": {
     "iopub.execute_input": "2022-06-12T06:58:39.924436Z",
     "iopub.status.busy": "2022-06-12T06:58:39.924064Z",
     "iopub.status.idle": "2022-06-12T06:58:40.248236Z",
     "shell.execute_reply": "2022-06-12T06:58:40.248612Z"
    },
    "id": "c8e46b48",
    "papermill": {
     "duration": 0.344248,
     "end_time": "2022-06-12T06:58:40.248733",
     "exception": false,
     "start_time": "2022-06-12T06:58:39.904485",
     "status": "completed"
    },
    "tags": []
   },
   "outputs": [
    {
     "data": {
      "image/png": "[encoded data removed]",
      "text/plain": [
       "<Figure size 432x288 with 1 Axes>"
      ]
     },
     "metadata": {
      "needs_background": "light"
     },
     "output_type": "display_data"
    },
    {
     "data": {
      "image/png": "[encoded data removed]",
      "text/plain": [
       "<Figure size 432x288 with 1 Axes>"
      ]
     },
     "metadata": {
      "needs_background": "light"
     },
     "output_type": "display_data"
    },
    {
     "data": {
      "image/png": "[encoded data removed]",
      "text/plain": [
       "<Figure size 432x288 with 1 Axes>"
      ]
     },
     "metadata": {
      "needs_background": "light"
     },
     "output_type": "display_data"
    },
    {
     "data": {
      "image/png": "[encoded data removed]",
      "text/plain": [
       "<Figure size 432x288 with 1 Axes>"
      ]
     },
     "metadata": {
      "needs_background": "light"
     },
     "output_type": "display_data"
    }
   ],
   "source": [
    "sanityChecks.discProbVsError(train_data,disc3,device)\n",
    "sanityChecks.discProbVsError(test_data,disc3,device)"
   ]
  },
  {
   "cell_type": "markdown",
   "id": "a5bd74c3",
   "metadata": {
    "id": "a5bd74c3",
    "papermill": {
     "duration": 0.019276,
     "end_time": "2022-06-12T06:58:40.287866",
     "exception": false,
     "start_time": "2022-06-12T06:58:40.268590",
     "status": "completed"
    },
    "tags": []
   },
   "source": [
    "## Skip Connection Model Analysis - ABC-GAN "
   ]
  },
  {
   "cell_type": "markdown",
   "id": "5744a8bf",
   "metadata": {
    "id": "5744a8bf",
    "papermill": {
     "duration": 0.019062,
     "end_time": "2022-06-12T06:58:40.326083",
     "exception": false,
     "start_time": "2022-06-12T06:58:40.307021",
     "status": "completed"
    },
    "tags": []
   },
   "source": [
    "### Weight Analysis \n",
    "\n",
    "Study the weights of the skip connection layer\n",
    "\n",
    "Equation of the skip connection is \n",
    "\n",
    "$output = y_{gan} * w + y_{abc} * (1-w)$"
   ]
  },
  {
   "cell_type": "code",
   "execution_count": 19,
   "id": "52c31dea",
   "metadata": {
    "execution": {
     "iopub.execute_input": "2022-06-12T06:58:40.367153Z",
     "iopub.status.busy": "2022-06-12T06:58:40.366742Z",
     "iopub.status.idle": "2022-06-12T06:58:40.370166Z",
     "shell.execute_reply": "2022-06-12T06:58:40.370412Z"
    },
    "id": "52c31dea",
    "papermill": {
     "duration": 0.025384,
     "end_time": "2022-06-12T06:58:40.370523",
     "exception": false,
     "start_time": "2022-06-12T06:58:40.345139",
     "status": "completed"
    },
    "tags": []
   },
   "outputs": [
    {
     "name": "stdout",
     "output_type": "stream",
     "text": [
      "Weight of the node at skip connection\n",
      "Parameter containing:\n",
      "tensor([[0.9878]], requires_grad=True)\n"
     ]
    },
    {
     "data": {
      "application/scrapbook.scrap.json+json": {
       "data": 0.9877781867980957,
       "encoder": "json",
       "name": "Skip Connection Weight",
       "version": 1
      }
     },
     "metadata": {
      "scrapbook": {
       "data": true,
       "display": false,
       "name": "Skip Connection Weight"
      }
     },
     "output_type": "display_data"
    }
   ],
   "source": [
    "print(\"Weight of the node at skip connection\")\n",
    "for name,param in gen3.named_parameters():\n",
    "    if(name == \"skipNode.weight\"):\n",
    "        print(param)\n",
    "        sb.glue(\"Skip Connection Weight\",param.item())"
   ]
  }
 ],
 "metadata": {
  "colab": {
   "collapsed_sections": [],
   "name": "ABC_GAN_Model-Catboost_Pre-gen.ipynb",
   "provenance": []
  },
  "interpreter": {
   "hash": "31f2aee4e71d21fbe5cf8b01ff0e069b9275f58929596ceb00d14d90e3e16cd6"
  },
  "kernelspec": {
   "display_name": "Python 3 (ipykernel)",
   "language": "python",
   "name": "python3"
  },
  "language_info": {
   "codemirror_mode": {
    "name": "ipython",
    "version": 3
   },
   "file_extension": ".py",
   "mimetype": "text/x-python",
   "name": "python",
   "nbconvert_exporter": "python",
   "pygments_lexer": "ipython3",
   "version": "3.8.11"
  },
  "papermill": {
   "default_parameters": {},
   "duration": 281.846617,
   "end_time": "2022-06-12T06:58:40.698464",
   "environment_variables": {},
   "exception": null,
   "input_path": "ABC_GAN-Catboost.ipynb",
   "output_path": "./ABC_GAN_Catboost/ABC-GAN_output_8_3.ipynb",
   "parameters": {
    "bias": 0.1,
    "variance": 1
   },
   "start_time": "2022-06-12T06:53:58.851847",
   "version": "2.3.3"
  }
 },
 "nbformat": 4,
 "nbformat_minor": 5
}