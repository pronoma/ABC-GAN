{
 "cells": [
  {
   "cell_type": "markdown",
   "id": "622780e6",
   "metadata": {
    "id": "622780e6",
    "papermill": {
     "duration": 0.020271,
     "end_time": "2022-06-12T05:17:44.089686",
     "exception": false,
     "start_time": "2022-06-12T05:17:44.069415",
     "status": "completed"
    },
    "tags": []
   },
   "source": [
    "## Import Libraries "
   ]
  },
  {
   "cell_type": "code",
   "execution_count": 1,
   "id": "a62397e3",
   "metadata": {
    "execution": {
     "iopub.execute_input": "2022-06-12T05:17:44.123566Z",
     "iopub.status.busy": "2022-06-12T05:17:44.122945Z",
     "iopub.status.idle": "2022-06-12T05:17:44.125784Z",
     "shell.execute_reply": "2022-06-12T05:17:44.126118Z"
    },
    "id": "a62397e3",
    "papermill": {
     "duration": 0.022446,
     "end_time": "2022-06-12T05:17:44.126337",
     "exception": false,
     "start_time": "2022-06-12T05:17:44.103891",
     "status": "completed"
    },
    "tags": []
   },
   "outputs": [],
   "source": [
    "import warnings\n",
    "import sys\n",
    "sys.path.insert(0, '../../src')\n",
    "warnings.filterwarnings('ignore')"
   ]
  },
  {
   "cell_type": "code",
   "execution_count": 2,
   "id": "d6a4e155",
   "metadata": {
    "execution": {
     "iopub.execute_input": "2022-06-12T05:17:44.146873Z",
     "iopub.status.busy": "2022-06-12T05:17:44.146459Z",
     "iopub.status.idle": "2022-06-12T05:17:46.056340Z",
     "shell.execute_reply": "2022-06-12T05:17:46.056594Z"
    },
    "id": "d6a4e155",
    "papermill": {
     "duration": 1.921194,
     "end_time": "2022-06-12T05:17:46.056718",
     "exception": false,
     "start_time": "2022-06-12T05:17:44.135524",
     "status": "completed"
    },
    "tags": []
   },
   "outputs": [],
   "source": [
    "import ABC_train_test2\n",
    "import bostonDataset\n",
    "import network\n",
    "import dataset\n",
    "import sanityChecks\n",
    "import torch \n",
    "import scrapbook as sb\n",
    "from statistics import mean \n",
    "import catboost as ctb \n",
    "from sklearn.model_selection import train_test_split\n",
    "from sklearn.metrics import mean_squared_error,mean_absolute_error\n",
    "import numpy as np"
   ]
  },
  {
   "cell_type": "markdown",
   "id": "2fa5b0f7",
   "metadata": {
    "id": "2fa5b0f7",
    "papermill": {
     "duration": 0.006977,
     "end_time": "2022-06-12T05:17:46.070983",
     "exception": false,
     "start_time": "2022-06-12T05:17:46.064006",
     "status": "completed"
    },
    "tags": []
   },
   "source": [
    "## Parameters "
   ]
  },
  {
   "cell_type": "code",
   "execution_count": 3,
   "id": "783186fb",
   "metadata": {
    "execution": {
     "iopub.execute_input": "2022-06-12T05:17:46.087202Z",
     "iopub.status.busy": "2022-06-12T05:17:46.086765Z",
     "iopub.status.idle": "2022-06-12T05:17:46.087858Z",
     "shell.execute_reply": "2022-06-12T05:17:46.088098Z"
    },
    "id": "783186fb",
    "papermill": {
     "duration": 0.010265,
     "end_time": "2022-06-12T05:17:46.088209",
     "exception": false,
     "start_time": "2022-06-12T05:17:46.077944",
     "status": "completed"
    },
    "tags": [
     "parameters"
    ]
   },
   "outputs": [],
   "source": [
    "variance = 1\n",
    "bias = 1 "
   ]
  },
  {
   "cell_type": "code",
   "execution_count": 4,
   "id": "1aa880c2",
   "metadata": {
    "execution": {
     "iopub.execute_input": "2022-06-12T05:17:46.104501Z",
     "iopub.status.busy": "2022-06-12T05:17:46.104126Z",
     "iopub.status.idle": "2022-06-12T05:17:46.105337Z",
     "shell.execute_reply": "2022-06-12T05:17:46.105585Z"
    },
    "papermill": {
     "duration": 0.0103,
     "end_time": "2022-06-12T05:17:46.105693",
     "exception": false,
     "start_time": "2022-06-12T05:17:46.095393",
     "status": "completed"
    },
    "tags": [
     "injected-parameters"
    ]
   },
   "outputs": [],
   "source": [
    "# Parameters\n",
    "variance = 0.1\n",
    "bias = 0.01\n"
   ]
  },
  {
   "cell_type": "markdown",
   "id": "391cdbfd",
   "metadata": {
    "id": "391cdbfd",
    "papermill": {
     "duration": 0.007512,
     "end_time": "2022-06-12T05:17:46.120455",
     "exception": false,
     "start_time": "2022-06-12T05:17:46.112943",
     "status": "completed"
    },
    "tags": []
   },
   "source": [
    "## Dataset \n"
   ]
  },
  {
   "cell_type": "code",
   "execution_count": 5,
   "id": "5b51f161",
   "metadata": {
    "execution": {
     "iopub.execute_input": "2022-06-12T05:17:46.137929Z",
     "iopub.status.busy": "2022-06-12T05:17:46.137537Z",
     "iopub.status.idle": "2022-06-12T05:17:46.138875Z",
     "shell.execute_reply": "2022-06-12T05:17:46.139128Z"
    },
    "id": "5b51f161",
    "papermill": {
     "duration": 0.011322,
     "end_time": "2022-06-12T05:17:46.139252",
     "exception": false,
     "start_time": "2022-06-12T05:17:46.127930",
     "status": "completed"
    },
    "tags": []
   },
   "outputs": [],
   "source": [
    "#Parameters \n",
    "n_features = 13\n",
    "n_samples= 506\n",
    "n_target = 1 "
   ]
  },
  {
   "cell_type": "code",
   "execution_count": 6,
   "id": "5d6eced4",
   "metadata": {
    "execution": {
     "iopub.execute_input": "2022-06-12T05:17:46.156276Z",
     "iopub.status.busy": "2022-06-12T05:17:46.155857Z",
     "iopub.status.idle": "2022-06-12T05:17:46.167011Z",
     "shell.execute_reply": "2022-06-12T05:17:46.167263Z"
    },
    "id": "5d6eced4",
    "papermill": {
     "duration": 0.020657,
     "end_time": "2022-06-12T05:17:46.167382",
     "exception": false,
     "start_time": "2022-06-12T05:17:46.146725",
     "status": "completed"
    },
    "tags": []
   },
   "outputs": [
    {
     "name": "stdout",
     "output_type": "stream",
     "text": [
      "         X1        X2        X3        X4        X5        X6        X7  \\\n",
      "0 -0.419782  0.284830 -1.287909 -0.272599 -0.144217  0.413672 -0.120013   \n",
      "1 -0.417339 -0.487722 -0.593381 -0.272599 -0.740262  0.194274  0.367166   \n",
      "2 -0.417342 -0.487722 -0.593381 -0.272599 -0.740262  1.282714 -0.265812   \n",
      "3 -0.416750 -0.487722 -1.306878 -0.272599 -0.835284  1.016303 -0.809889   \n",
      "4 -0.412482 -0.487722 -1.306878 -0.272599 -0.835284  1.228577 -0.511180   \n",
      "\n",
      "         X8        X9       X10       X11       X12       X13         Y  \n",
      "0  0.140214 -0.982843 -0.666608 -1.459000  0.441052 -1.075562  0.159686  \n",
      "1  0.557160 -0.867883 -0.987329 -0.303094  0.441052 -0.492439 -0.101524  \n",
      "2  0.557160 -0.867883 -0.987329 -0.303094  0.396427 -1.208727  1.324247  \n",
      "3  1.077737 -0.752922 -1.106115  0.113032  0.416163 -1.361517  1.182758  \n",
      "4  1.077737 -0.752922 -1.106115  0.113032  0.441052 -1.026501  1.487503  \n"
     ]
    }
   ],
   "source": [
    "X,Y = bostonDataset.boston_data()"
   ]
  },
  {
   "cell_type": "code",
   "execution_count": 7,
   "id": "fe007438",
   "metadata": {
    "execution": {
     "iopub.execute_input": "2022-06-12T05:17:46.184911Z",
     "iopub.status.busy": "2022-06-12T05:17:46.184510Z",
     "iopub.status.idle": "2022-06-12T05:17:46.186007Z",
     "shell.execute_reply": "2022-06-12T05:17:46.186240Z"
    },
    "id": "fe007438",
    "papermill": {
     "duration": 0.011361,
     "end_time": "2022-06-12T05:17:46.186348",
     "exception": false,
     "start_time": "2022-06-12T05:17:46.174987",
     "status": "completed"
    },
    "tags": []
   },
   "outputs": [],
   "source": [
    "#Train test split for dataset \n",
    "X_train,X_test,Y_train,Y_test = train_test_split(X,Y,test_size = 0.2)\n",
    "train_data = dataset.CustomDataset(X_train,Y_train)\n",
    "test_data = dataset.CustomDataset(X_test,Y_test)\n"
   ]
  },
  {
   "cell_type": "markdown",
   "id": "a9a1af34",
   "metadata": {
    "id": "a9a1af34",
    "papermill": {
     "duration": 0.007227,
     "end_time": "2022-06-12T05:17:46.200921",
     "exception": false,
     "start_time": "2022-06-12T05:17:46.193694",
     "status": "completed"
    },
    "tags": []
   },
   "source": [
    "## Training Parameters "
   ]
  },
  {
   "cell_type": "code",
   "execution_count": 8,
   "id": "952b7fc8",
   "metadata": {
    "execution": {
     "iopub.execute_input": "2022-06-12T05:17:46.217684Z",
     "iopub.status.busy": "2022-06-12T05:17:46.217311Z",
     "iopub.status.idle": "2022-06-12T05:17:46.218542Z",
     "shell.execute_reply": "2022-06-12T05:17:46.218800Z"
    },
    "id": "952b7fc8",
    "papermill": {
     "duration": 0.010793,
     "end_time": "2022-06-12T05:17:46.218910",
     "exception": false,
     "start_time": "2022-06-12T05:17:46.208117",
     "status": "completed"
    },
    "tags": []
   },
   "outputs": [],
   "source": [
    "batch_size = 32\n",
    "n_epochs = 1000\n",
    "#Select the device \n",
    "device = torch.device('cuda' if torch.cuda.is_available() else 'cpu')"
   ]
  },
  {
   "cell_type": "markdown",
   "id": "a95e1600",
   "metadata": {
    "id": "a95e1600",
    "papermill": {
     "duration": 0.007245,
     "end_time": "2022-06-12T05:17:46.233609",
     "exception": false,
     "start_time": "2022-06-12T05:17:46.226364",
     "status": "completed"
    },
    "tags": []
   },
   "source": [
    "# ABC Pre-generator Model \n",
    "\n",
    "1. The catboost model is used as a pre-generator model for the ABC-GAN. \n",
    "2. The model is first trained on the entire dataset \n",
    "3. It generats X,Y pairs and we add some Gaussian noise with mean 0 and variance 1 to it which is then feed as input to the generator.\n"
   ]
  },
  {
   "cell_type": "code",
   "execution_count": 9,
   "id": "ff8ce7bd",
   "metadata": {
    "execution": {
     "iopub.execute_input": "2022-06-12T05:17:46.256654Z",
     "iopub.status.busy": "2022-06-12T05:17:46.256269Z",
     "iopub.status.idle": "2022-06-12T05:17:47.594781Z",
     "shell.execute_reply": "2022-06-12T05:17:47.595042Z"
    },
    "id": "ff8ce7bd",
    "papermill": {
     "duration": 1.354255,
     "end_time": "2022-06-12T05:17:47.595166",
     "exception": false,
     "start_time": "2022-06-12T05:17:46.240911",
     "status": "completed"
    },
    "tags": []
   },
   "outputs": [
    {
     "name": "stdout",
     "output_type": "stream",
     "text": [
      "Learning rate set to 0.033215\n",
      "0:\tlearn: 0.9988682\ttotal: 62.1ms\tremaining: 1m 2s\n",
      "1:\tlearn: 0.9810118\ttotal: 63ms\tremaining: 31.5s\n",
      "2:\tlearn: 0.9603896\ttotal: 63.9ms\tremaining: 21.2s\n",
      "3:\tlearn: 0.9426049\ttotal: 64.7ms\tremaining: 16.1s\n",
      "4:\tlearn: 0.9252516\ttotal: 65.6ms\tremaining: 13.1s\n",
      "5:\tlearn: 0.9074753\ttotal: 66.3ms\tremaining: 11s\n",
      "6:\tlearn: 0.8910320\ttotal: 67.1ms\tremaining: 9.51s\n",
      "7:\tlearn: 0.8738340\ttotal: 67.9ms\tremaining: 8.41s\n",
      "8:\tlearn: 0.8582925\ttotal: 69.9ms\tremaining: 7.7s\n",
      "9:\tlearn: 0.8427431\ttotal: 70.8ms\tremaining: 7s\n",
      "10:\tlearn: 0.8296929\ttotal: 71.7ms\tremaining: 6.45s\n",
      "11:\tlearn: 0.8156349\ttotal: 73.9ms\tremaining: 6.08s\n",
      "12:\tlearn: 0.8016414\ttotal: 74.9ms\tremaining: 5.69s\n",
      "13:\tlearn: 0.7870312\ttotal: 76.2ms\tremaining: 5.37s\n",
      "14:\tlearn: 0.7750184\ttotal: 77.7ms\tremaining: 5.1s\n",
      "15:\tlearn: 0.7598897\ttotal: 79.5ms\tremaining: 4.89s\n",
      "16:\tlearn: 0.7485731\ttotal: 81.9ms\tremaining: 4.73s\n",
      "17:\tlearn: 0.7359598\ttotal: 84.9ms\tremaining: 4.63s\n",
      "18:\tlearn: 0.7234375\ttotal: 87.5ms\tremaining: 4.52s\n",
      "19:\tlearn: 0.7117758\ttotal: 89.6ms\tremaining: 4.39s\n",
      "20:\tlearn: 0.6980962\ttotal: 91.7ms\tremaining: 4.28s\n",
      "21:\tlearn: 0.6881313\ttotal: 92.5ms\tremaining: 4.11s\n",
      "22:\tlearn: 0.6773498\ttotal: 93.6ms\tremaining: 3.98s\n",
      "23:\tlearn: 0.6669843\ttotal: 94.9ms\tremaining: 3.86s\n"
     ]
    },
    {
     "name": "stdout",
     "output_type": "stream",
     "text": [
      "24:\tlearn: 0.6572773\ttotal: 96.4ms\tremaining: 3.76s\n",
      "25:\tlearn: 0.6472280\ttotal: 97.3ms\tremaining: 3.64s\n",
      "26:\tlearn: 0.6384653\ttotal: 98.1ms\tremaining: 3.54s\n",
      "27:\tlearn: 0.6294003\ttotal: 98.9ms\tremaining: 3.43s\n",
      "28:\tlearn: 0.6198451\ttotal: 99.7ms\tremaining: 3.34s\n",
      "29:\tlearn: 0.6098980\ttotal: 101ms\tremaining: 3.25s\n",
      "30:\tlearn: 0.6014249\ttotal: 101ms\tremaining: 3.17s\n",
      "31:\tlearn: 0.5927543\ttotal: 102ms\tremaining: 3.1s\n",
      "32:\tlearn: 0.5861245\ttotal: 103ms\tremaining: 3.03s\n",
      "33:\tlearn: 0.5781172\ttotal: 105ms\tremaining: 3s\n",
      "34:\tlearn: 0.5705289\ttotal: 107ms\tremaining: 2.94s\n",
      "35:\tlearn: 0.5631602\ttotal: 108ms\tremaining: 2.9s\n",
      "36:\tlearn: 0.5570177\ttotal: 109ms\tremaining: 2.84s\n",
      "37:\tlearn: 0.5492956\ttotal: 110ms\tremaining: 2.79s\n",
      "38:\tlearn: 0.5417223\ttotal: 114ms\tremaining: 2.81s\n",
      "39:\tlearn: 0.5338700\ttotal: 115ms\tremaining: 2.76s\n",
      "40:\tlearn: 0.5282605\ttotal: 116ms\tremaining: 2.71s\n",
      "41:\tlearn: 0.5225017\ttotal: 117ms\tremaining: 2.66s\n",
      "42:\tlearn: 0.5162326\ttotal: 117ms\tremaining: 2.61s\n",
      "43:\tlearn: 0.5094980\ttotal: 118ms\tremaining: 2.57s\n",
      "44:\tlearn: 0.5028748\ttotal: 119ms\tremaining: 2.53s\n",
      "45:\tlearn: 0.4971428\ttotal: 120ms\tremaining: 2.5s\n",
      "46:\tlearn: 0.4922850\ttotal: 122ms\tremaining: 2.47s\n",
      "47:\tlearn: 0.4864891\ttotal: 123ms\tremaining: 2.43s\n",
      "48:\tlearn: 0.4801508\ttotal: 123ms\tremaining: 2.4s\n",
      "49:\tlearn: 0.4754455\ttotal: 126ms\tremaining: 2.39s\n",
      "50:\tlearn: 0.4692682\ttotal: 127ms\tremaining: 2.35s\n",
      "51:\tlearn: 0.4642144\ttotal: 127ms\tremaining: 2.32s\n",
      "52:\tlearn: 0.4601024\ttotal: 128ms\tremaining: 2.29s\n",
      "53:\tlearn: 0.4565381\ttotal: 129ms\tremaining: 2.26s\n",
      "54:\tlearn: 0.4513047\ttotal: 130ms\tremaining: 2.23s\n",
      "55:\tlearn: 0.4478879\ttotal: 131ms\tremaining: 2.2s\n",
      "56:\tlearn: 0.4436302\ttotal: 131ms\tremaining: 2.17s\n",
      "57:\tlearn: 0.4388617\ttotal: 132ms\tremaining: 2.15s\n",
      "58:\tlearn: 0.4355928\ttotal: 133ms\tremaining: 2.12s\n",
      "59:\tlearn: 0.4316329\ttotal: 134ms\tremaining: 2.1s\n",
      "60:\tlearn: 0.4275551\ttotal: 135ms\tremaining: 2.07s\n",
      "61:\tlearn: 0.4237235\ttotal: 139ms\tremaining: 2.1s\n",
      "62:\tlearn: 0.4207339\ttotal: 140ms\tremaining: 2.08s\n",
      "63:\tlearn: 0.4169891\ttotal: 141ms\tremaining: 2.06s\n",
      "64:\tlearn: 0.4138845\ttotal: 143ms\tremaining: 2.06s\n",
      "65:\tlearn: 0.4091412\ttotal: 144ms\tremaining: 2.04s\n",
      "66:\tlearn: 0.4054487\ttotal: 145ms\tremaining: 2.02s\n",
      "67:\tlearn: 0.4025080\ttotal: 146ms\tremaining: 2s\n",
      "68:\tlearn: 0.3982046\ttotal: 148ms\tremaining: 1.99s\n",
      "69:\tlearn: 0.3955586\ttotal: 150ms\tremaining: 2s\n",
      "70:\tlearn: 0.3914827\ttotal: 152ms\tremaining: 2s\n",
      "71:\tlearn: 0.3886333\ttotal: 154ms\tremaining: 1.98s\n",
      "72:\tlearn: 0.3859057\ttotal: 155ms\tremaining: 1.97s\n",
      "73:\tlearn: 0.3830167\ttotal: 156ms\tremaining: 1.95s\n",
      "74:\tlearn: 0.3805898\ttotal: 158ms\tremaining: 1.95s\n",
      "75:\tlearn: 0.3775227\ttotal: 160ms\tremaining: 1.94s\n",
      "76:\tlearn: 0.3745381\ttotal: 162ms\tremaining: 1.94s\n",
      "77:\tlearn: 0.3713024\ttotal: 163ms\tremaining: 1.93s\n",
      "78:\tlearn: 0.3688154\ttotal: 164ms\tremaining: 1.91s\n",
      "79:\tlearn: 0.3663788\ttotal: 165ms\tremaining: 1.89s\n",
      "80:\tlearn: 0.3637529\ttotal: 166ms\tremaining: 1.88s\n",
      "81:\tlearn: 0.3607567\ttotal: 169ms\tremaining: 1.89s\n",
      "82:\tlearn: 0.3591583\ttotal: 172ms\tremaining: 1.9s\n",
      "83:\tlearn: 0.3571212\ttotal: 173ms\tremaining: 1.89s\n",
      "84:\tlearn: 0.3546121\ttotal: 176ms\tremaining: 1.89s\n",
      "85:\tlearn: 0.3520397\ttotal: 176ms\tremaining: 1.88s\n",
      "86:\tlearn: 0.3497273\ttotal: 177ms\tremaining: 1.86s\n",
      "87:\tlearn: 0.3472464\ttotal: 178ms\tremaining: 1.84s\n",
      "88:\tlearn: 0.3450272\ttotal: 179ms\tremaining: 1.83s\n",
      "89:\tlearn: 0.3430555\ttotal: 180ms\tremaining: 1.82s\n",
      "90:\tlearn: 0.3411103\ttotal: 181ms\tremaining: 1.8s\n",
      "91:\tlearn: 0.3391220\ttotal: 182ms\tremaining: 1.79s\n",
      "92:\tlearn: 0.3370718\ttotal: 182ms\tremaining: 1.78s\n",
      "93:\tlearn: 0.3352617\ttotal: 183ms\tremaining: 1.76s\n",
      "94:\tlearn: 0.3331634\ttotal: 184ms\tremaining: 1.75s\n",
      "95:\tlearn: 0.3321040\ttotal: 185ms\tremaining: 1.74s\n",
      "96:\tlearn: 0.3304874\ttotal: 185ms\tremaining: 1.73s\n",
      "97:\tlearn: 0.3282138\ttotal: 186ms\tremaining: 1.71s\n",
      "98:\tlearn: 0.3256804\ttotal: 187ms\tremaining: 1.7s\n",
      "99:\tlearn: 0.3245459\ttotal: 188ms\tremaining: 1.69s\n",
      "100:\tlearn: 0.3224685\ttotal: 188ms\tremaining: 1.68s\n",
      "101:\tlearn: 0.3203291\ttotal: 189ms\tremaining: 1.67s\n",
      "102:\tlearn: 0.3187438\ttotal: 190ms\tremaining: 1.65s\n"
     ]
    },
    {
     "name": "stdout",
     "output_type": "stream",
     "text": [
      "103:\tlearn: 0.3168705\ttotal: 191ms\tremaining: 1.65s\n",
      "104:\tlearn: 0.3157923\ttotal: 192ms\tremaining: 1.64s\n",
      "105:\tlearn: 0.3137842\ttotal: 193ms\tremaining: 1.63s\n",
      "106:\tlearn: 0.3123690\ttotal: 193ms\tremaining: 1.61s\n",
      "107:\tlearn: 0.3103131\ttotal: 194ms\tremaining: 1.6s\n",
      "108:\tlearn: 0.3089821\ttotal: 195ms\tremaining: 1.59s\n",
      "109:\tlearn: 0.3076972\ttotal: 196ms\tremaining: 1.58s\n",
      "110:\tlearn: 0.3060160\ttotal: 197ms\tremaining: 1.58s\n",
      "111:\tlearn: 0.3045882\ttotal: 198ms\tremaining: 1.57s\n",
      "112:\tlearn: 0.3030393\ttotal: 198ms\tremaining: 1.56s\n",
      "113:\tlearn: 0.3018114\ttotal: 199ms\tremaining: 1.55s\n",
      "114:\tlearn: 0.3009181\ttotal: 200ms\tremaining: 1.54s\n",
      "115:\tlearn: 0.2999064\ttotal: 201ms\tremaining: 1.53s\n",
      "116:\tlearn: 0.2987362\ttotal: 201ms\tremaining: 1.52s\n",
      "117:\tlearn: 0.2977527\ttotal: 203ms\tremaining: 1.52s\n",
      "118:\tlearn: 0.2965347\ttotal: 204ms\tremaining: 1.51s\n",
      "119:\tlearn: 0.2951182\ttotal: 205ms\tremaining: 1.5s\n",
      "120:\tlearn: 0.2940147\ttotal: 205ms\tremaining: 1.49s\n",
      "121:\tlearn: 0.2929081\ttotal: 206ms\tremaining: 1.48s\n",
      "122:\tlearn: 0.2914830\ttotal: 207ms\tremaining: 1.47s\n",
      "123:\tlearn: 0.2901197\ttotal: 208ms\tremaining: 1.47s\n",
      "124:\tlearn: 0.2887623\ttotal: 209ms\tremaining: 1.46s\n",
      "125:\tlearn: 0.2870028\ttotal: 210ms\tremaining: 1.46s\n",
      "126:\tlearn: 0.2860291\ttotal: 211ms\tremaining: 1.45s\n",
      "127:\tlearn: 0.2851678\ttotal: 212ms\tremaining: 1.44s\n",
      "128:\tlearn: 0.2837470\ttotal: 212ms\tremaining: 1.43s\n",
      "129:\tlearn: 0.2827266\ttotal: 213ms\tremaining: 1.43s\n",
      "130:\tlearn: 0.2817922\ttotal: 214ms\tremaining: 1.42s\n",
      "131:\tlearn: 0.2809539\ttotal: 215ms\tremaining: 1.41s\n",
      "132:\tlearn: 0.2799729\ttotal: 216ms\tremaining: 1.41s\n",
      "133:\tlearn: 0.2786884\ttotal: 217ms\tremaining: 1.4s\n",
      "134:\tlearn: 0.2772800\ttotal: 218ms\tremaining: 1.39s\n",
      "135:\tlearn: 0.2761931\ttotal: 218ms\tremaining: 1.39s\n",
      "136:\tlearn: 0.2754093\ttotal: 219ms\tremaining: 1.38s\n",
      "137:\tlearn: 0.2745801\ttotal: 220ms\tremaining: 1.37s\n",
      "138:\tlearn: 0.2732190\ttotal: 221ms\tremaining: 1.37s\n",
      "139:\tlearn: 0.2723732\ttotal: 222ms\tremaining: 1.36s\n",
      "140:\tlearn: 0.2716457\ttotal: 223ms\tremaining: 1.36s\n",
      "141:\tlearn: 0.2709467\ttotal: 224ms\tremaining: 1.35s\n",
      "142:\tlearn: 0.2697334\ttotal: 224ms\tremaining: 1.34s\n",
      "143:\tlearn: 0.2687252\ttotal: 225ms\tremaining: 1.34s\n",
      "144:\tlearn: 0.2673786\ttotal: 226ms\tremaining: 1.33s\n",
      "145:\tlearn: 0.2664647\ttotal: 227ms\tremaining: 1.33s\n",
      "146:\tlearn: 0.2656197\ttotal: 228ms\tremaining: 1.32s\n",
      "147:\tlearn: 0.2649365\ttotal: 229ms\tremaining: 1.31s\n",
      "148:\tlearn: 0.2642927\ttotal: 229ms\tremaining: 1.31s\n",
      "149:\tlearn: 0.2637309\ttotal: 230ms\tremaining: 1.3s\n",
      "150:\tlearn: 0.2630555\ttotal: 232ms\tremaining: 1.3s\n",
      "151:\tlearn: 0.2624274\ttotal: 232ms\tremaining: 1.3s\n",
      "152:\tlearn: 0.2616470\ttotal: 233ms\tremaining: 1.29s\n",
      "153:\tlearn: 0.2608839\ttotal: 235ms\tremaining: 1.29s\n",
      "154:\tlearn: 0.2597083\ttotal: 236ms\tremaining: 1.29s\n",
      "155:\tlearn: 0.2587876\ttotal: 238ms\tremaining: 1.29s\n",
      "156:\tlearn: 0.2580140\ttotal: 239ms\tremaining: 1.28s\n",
      "157:\tlearn: 0.2570602\ttotal: 240ms\tremaining: 1.28s\n",
      "158:\tlearn: 0.2564763\ttotal: 241ms\tremaining: 1.27s\n",
      "159:\tlearn: 0.2558373\ttotal: 242ms\tremaining: 1.27s\n",
      "160:\tlearn: 0.2547518\ttotal: 244ms\tremaining: 1.27s\n",
      "161:\tlearn: 0.2540027\ttotal: 245ms\tremaining: 1.27s\n",
      "162:\tlearn: 0.2535581\ttotal: 246ms\tremaining: 1.26s\n",
      "163:\tlearn: 0.2530674\ttotal: 247ms\tremaining: 1.26s\n",
      "164:\tlearn: 0.2521931\ttotal: 248ms\tremaining: 1.26s\n",
      "165:\tlearn: 0.2514066\ttotal: 250ms\tremaining: 1.25s\n",
      "166:\tlearn: 0.2508110\ttotal: 251ms\tremaining: 1.25s\n",
      "167:\tlearn: 0.2499190\ttotal: 251ms\tremaining: 1.24s\n",
      "168:\tlearn: 0.2493576\ttotal: 252ms\tremaining: 1.24s\n",
      "169:\tlearn: 0.2486117\ttotal: 255ms\tremaining: 1.24s\n",
      "170:\tlearn: 0.2479859\ttotal: 256ms\tremaining: 1.24s\n",
      "171:\tlearn: 0.2471358\ttotal: 257ms\tremaining: 1.24s\n",
      "172:\tlearn: 0.2466603\ttotal: 258ms\tremaining: 1.23s\n",
      "173:\tlearn: 0.2460257\ttotal: 260ms\tremaining: 1.23s\n",
      "174:\tlearn: 0.2453340\ttotal: 261ms\tremaining: 1.23s\n",
      "175:\tlearn: 0.2446956\ttotal: 262ms\tremaining: 1.23s\n",
      "176:\tlearn: 0.2441711\ttotal: 263ms\tremaining: 1.22s\n",
      "177:\tlearn: 0.2436947\ttotal: 265ms\tremaining: 1.22s\n",
      "178:\tlearn: 0.2431400\ttotal: 266ms\tremaining: 1.22s\n",
      "179:\tlearn: 0.2426713\ttotal: 267ms\tremaining: 1.21s\n",
      "180:\tlearn: 0.2421163\ttotal: 267ms\tremaining: 1.21s\n",
      "181:\tlearn: 0.2415729\ttotal: 268ms\tremaining: 1.21s\n",
      "182:\tlearn: 0.2409716\ttotal: 270ms\tremaining: 1.2s\n",
      "183:\tlearn: 0.2404301\ttotal: 271ms\tremaining: 1.2s\n",
      "184:\tlearn: 0.2396526\ttotal: 272ms\tremaining: 1.2s\n",
      "185:\tlearn: 0.2389485\ttotal: 273ms\tremaining: 1.2s\n",
      "186:\tlearn: 0.2381804\ttotal: 274ms\tremaining: 1.19s\n",
      "187:\tlearn: 0.2371805\ttotal: 276ms\tremaining: 1.19s\n",
      "188:\tlearn: 0.2363833\ttotal: 277ms\tremaining: 1.19s\n",
      "189:\tlearn: 0.2358184\ttotal: 277ms\tremaining: 1.18s\n",
      "190:\tlearn: 0.2352581\ttotal: 278ms\tremaining: 1.18s\n",
      "191:\tlearn: 0.2344954\ttotal: 279ms\tremaining: 1.17s\n",
      "192:\tlearn: 0.2337773\ttotal: 280ms\tremaining: 1.17s\n",
      "193:\tlearn: 0.2331914\ttotal: 282ms\tremaining: 1.17s\n",
      "194:\tlearn: 0.2320669\ttotal: 283ms\tremaining: 1.17s\n",
      "195:\tlearn: 0.2313584\ttotal: 284ms\tremaining: 1.16s\n",
      "196:\tlearn: 0.2309587\ttotal: 285ms\tremaining: 1.16s\n",
      "197:\tlearn: 0.2305802\ttotal: 286ms\tremaining: 1.16s\n",
      "198:\tlearn: 0.2297198\ttotal: 287ms\tremaining: 1.16s\n",
      "199:\tlearn: 0.2290899\ttotal: 288ms\tremaining: 1.15s\n"
     ]
    },
    {
     "name": "stdout",
     "output_type": "stream",
     "text": [
      "200:\tlearn: 0.2286686\ttotal: 289ms\tremaining: 1.15s\n",
      "201:\tlearn: 0.2281237\ttotal: 290ms\tremaining: 1.15s\n",
      "202:\tlearn: 0.2275141\ttotal: 291ms\tremaining: 1.14s\n",
      "203:\tlearn: 0.2271273\ttotal: 292ms\tremaining: 1.14s\n",
      "204:\tlearn: 0.2264165\ttotal: 294ms\tremaining: 1.14s\n",
      "205:\tlearn: 0.2257047\ttotal: 295ms\tremaining: 1.14s\n",
      "206:\tlearn: 0.2252442\ttotal: 296ms\tremaining: 1.13s\n",
      "207:\tlearn: 0.2244335\ttotal: 299ms\tremaining: 1.14s\n",
      "208:\tlearn: 0.2238654\ttotal: 300ms\tremaining: 1.14s\n",
      "209:\tlearn: 0.2231717\ttotal: 301ms\tremaining: 1.13s\n",
      "210:\tlearn: 0.2225834\ttotal: 303ms\tremaining: 1.13s\n",
      "211:\tlearn: 0.2222016\ttotal: 304ms\tremaining: 1.13s\n",
      "212:\tlearn: 0.2215286\ttotal: 305ms\tremaining: 1.13s\n",
      "213:\tlearn: 0.2208226\ttotal: 306ms\tremaining: 1.13s\n",
      "214:\tlearn: 0.2200348\ttotal: 308ms\tremaining: 1.12s\n",
      "215:\tlearn: 0.2193933\ttotal: 309ms\tremaining: 1.12s\n",
      "216:\tlearn: 0.2187983\ttotal: 310ms\tremaining: 1.12s\n",
      "217:\tlearn: 0.2180630\ttotal: 312ms\tremaining: 1.12s\n",
      "218:\tlearn: 0.2174459\ttotal: 313ms\tremaining: 1.12s\n",
      "219:\tlearn: 0.2169059\ttotal: 314ms\tremaining: 1.11s\n",
      "220:\tlearn: 0.2163364\ttotal: 316ms\tremaining: 1.11s\n",
      "221:\tlearn: 0.2157594\ttotal: 317ms\tremaining: 1.11s\n",
      "222:\tlearn: 0.2151738\ttotal: 318ms\tremaining: 1.11s\n",
      "223:\tlearn: 0.2146632\ttotal: 318ms\tremaining: 1.1s\n",
      "224:\tlearn: 0.2140835\ttotal: 320ms\tremaining: 1.1s\n",
      "225:\tlearn: 0.2133802\ttotal: 320ms\tremaining: 1.1s\n",
      "226:\tlearn: 0.2128256\ttotal: 322ms\tremaining: 1.09s\n",
      "227:\tlearn: 0.2124345\ttotal: 323ms\tremaining: 1.09s\n",
      "228:\tlearn: 0.2117552\ttotal: 324ms\tremaining: 1.09s\n",
      "229:\tlearn: 0.2111289\ttotal: 325ms\tremaining: 1.09s\n",
      "230:\tlearn: 0.2104605\ttotal: 326ms\tremaining: 1.08s\n",
      "231:\tlearn: 0.2100214\ttotal: 327ms\tremaining: 1.08s\n",
      "232:\tlearn: 0.2093760\ttotal: 329ms\tremaining: 1.08s\n",
      "233:\tlearn: 0.2088545\ttotal: 330ms\tremaining: 1.08s\n",
      "234:\tlearn: 0.2082368\ttotal: 332ms\tremaining: 1.08s\n",
      "235:\tlearn: 0.2077465\ttotal: 333ms\tremaining: 1.08s\n",
      "236:\tlearn: 0.2072499\ttotal: 334ms\tremaining: 1.07s\n",
      "237:\tlearn: 0.2065979\ttotal: 336ms\tremaining: 1.07s\n",
      "238:\tlearn: 0.2062096\ttotal: 338ms\tremaining: 1.08s\n",
      "239:\tlearn: 0.2059334\ttotal: 339ms\tremaining: 1.07s\n",
      "240:\tlearn: 0.2056654\ttotal: 340ms\tremaining: 1.07s\n",
      "241:\tlearn: 0.2051407\ttotal: 342ms\tremaining: 1.07s\n",
      "242:\tlearn: 0.2046765\ttotal: 343ms\tremaining: 1.07s\n",
      "243:\tlearn: 0.2043373\ttotal: 345ms\tremaining: 1.07s\n",
      "244:\tlearn: 0.2037035\ttotal: 345ms\tremaining: 1.06s\n",
      "245:\tlearn: 0.2031084\ttotal: 348ms\tremaining: 1.06s\n",
      "246:\tlearn: 0.2026260\ttotal: 348ms\tremaining: 1.06s\n",
      "247:\tlearn: 0.2020076\ttotal: 349ms\tremaining: 1.06s\n",
      "248:\tlearn: 0.2016721\ttotal: 350ms\tremaining: 1.05s\n",
      "249:\tlearn: 0.2012637\ttotal: 351ms\tremaining: 1.05s\n",
      "250:\tlearn: 0.2009544\ttotal: 352ms\tremaining: 1.05s\n",
      "251:\tlearn: 0.2004446\ttotal: 353ms\tremaining: 1.05s\n",
      "252:\tlearn: 0.1998936\ttotal: 354ms\tremaining: 1.05s\n",
      "253:\tlearn: 0.1992987\ttotal: 355ms\tremaining: 1.04s\n",
      "254:\tlearn: 0.1990135\ttotal: 356ms\tremaining: 1.04s\n",
      "255:\tlearn: 0.1986601\ttotal: 358ms\tremaining: 1.04s\n",
      "256:\tlearn: 0.1980882\ttotal: 359ms\tremaining: 1.04s\n",
      "257:\tlearn: 0.1976776\ttotal: 362ms\tremaining: 1.04s\n",
      "258:\tlearn: 0.1972280\ttotal: 363ms\tremaining: 1.04s\n",
      "259:\tlearn: 0.1966437\ttotal: 364ms\tremaining: 1.03s\n",
      "260:\tlearn: 0.1962833\ttotal: 365ms\tremaining: 1.03s\n",
      "261:\tlearn: 0.1959256\ttotal: 366ms\tremaining: 1.03s\n",
      "262:\tlearn: 0.1956694\ttotal: 366ms\tremaining: 1.03s\n",
      "263:\tlearn: 0.1950645\ttotal: 368ms\tremaining: 1.02s\n",
      "264:\tlearn: 0.1944424\ttotal: 369ms\tremaining: 1.02s\n",
      "265:\tlearn: 0.1938596\ttotal: 370ms\tremaining: 1.02s\n",
      "266:\tlearn: 0.1932148\ttotal: 371ms\tremaining: 1.02s\n",
      "267:\tlearn: 0.1927951\ttotal: 372ms\tremaining: 1.01s\n",
      "268:\tlearn: 0.1923389\ttotal: 373ms\tremaining: 1.01s\n",
      "269:\tlearn: 0.1920716\ttotal: 373ms\tremaining: 1.01s\n",
      "270:\tlearn: 0.1915190\ttotal: 374ms\tremaining: 1.01s\n",
      "271:\tlearn: 0.1911137\ttotal: 375ms\tremaining: 1s\n",
      "272:\tlearn: 0.1907509\ttotal: 377ms\tremaining: 1s\n",
      "273:\tlearn: 0.1901563\ttotal: 377ms\tremaining: 1000ms\n",
      "274:\tlearn: 0.1897764\ttotal: 378ms\tremaining: 997ms\n",
      "275:\tlearn: 0.1891319\ttotal: 379ms\tremaining: 994ms\n",
      "276:\tlearn: 0.1886515\ttotal: 381ms\tremaining: 993ms\n",
      "277:\tlearn: 0.1884004\ttotal: 381ms\tremaining: 990ms\n",
      "278:\tlearn: 0.1880008\ttotal: 382ms\tremaining: 988ms\n",
      "279:\tlearn: 0.1874963\ttotal: 383ms\tremaining: 985ms\n"
     ]
    },
    {
     "name": "stdout",
     "output_type": "stream",
     "text": [
      "280:\tlearn: 0.1870362\ttotal: 384ms\tremaining: 983ms\n",
      "281:\tlearn: 0.1868238\ttotal: 385ms\tremaining: 981ms\n",
      "282:\tlearn: 0.1866166\ttotal: 387ms\tremaining: 982ms\n",
      "283:\tlearn: 0.1864202\ttotal: 389ms\tremaining: 980ms\n",
      "284:\tlearn: 0.1858375\ttotal: 390ms\tremaining: 978ms\n",
      "285:\tlearn: 0.1854881\ttotal: 391ms\tremaining: 976ms\n",
      "286:\tlearn: 0.1852833\ttotal: 392ms\tremaining: 974ms\n",
      "287:\tlearn: 0.1848731\ttotal: 393ms\tremaining: 972ms\n",
      "288:\tlearn: 0.1844534\ttotal: 395ms\tremaining: 972ms\n",
      "289:\tlearn: 0.1839132\ttotal: 396ms\tremaining: 970ms\n",
      "290:\tlearn: 0.1834436\ttotal: 397ms\tremaining: 968ms\n",
      "291:\tlearn: 0.1830136\ttotal: 398ms\tremaining: 965ms\n",
      "292:\tlearn: 0.1826476\ttotal: 399ms\tremaining: 963ms\n",
      "293:\tlearn: 0.1822056\ttotal: 400ms\tremaining: 960ms\n",
      "294:\tlearn: 0.1816518\ttotal: 401ms\tremaining: 957ms\n",
      "295:\tlearn: 0.1812721\ttotal: 402ms\tremaining: 957ms\n",
      "296:\tlearn: 0.1809488\ttotal: 403ms\tremaining: 954ms\n",
      "297:\tlearn: 0.1807020\ttotal: 404ms\tremaining: 951ms\n",
      "298:\tlearn: 0.1801882\ttotal: 404ms\tremaining: 948ms\n",
      "299:\tlearn: 0.1798249\ttotal: 405ms\tremaining: 946ms\n",
      "300:\tlearn: 0.1793964\ttotal: 406ms\tremaining: 944ms\n",
      "301:\tlearn: 0.1789830\ttotal: 407ms\tremaining: 941ms\n",
      "302:\tlearn: 0.1786286\ttotal: 408ms\tremaining: 939ms\n",
      "303:\tlearn: 0.1783755\ttotal: 409ms\tremaining: 936ms\n",
      "304:\tlearn: 0.1782025\ttotal: 410ms\tremaining: 933ms\n",
      "305:\tlearn: 0.1780192\ttotal: 410ms\tremaining: 930ms\n",
      "306:\tlearn: 0.1777550\ttotal: 412ms\tremaining: 930ms\n",
      "307:\tlearn: 0.1773161\ttotal: 413ms\tremaining: 927ms\n",
      "308:\tlearn: 0.1768789\ttotal: 414ms\tremaining: 925ms\n",
      "309:\tlearn: 0.1766201\ttotal: 414ms\tremaining: 922ms\n",
      "310:\tlearn: 0.1763525\ttotal: 415ms\tremaining: 920ms\n",
      "311:\tlearn: 0.1759131\ttotal: 416ms\tremaining: 918ms\n",
      "312:\tlearn: 0.1755949\ttotal: 417ms\tremaining: 916ms\n",
      "313:\tlearn: 0.1754411\ttotal: 418ms\tremaining: 914ms\n",
      "314:\tlearn: 0.1749512\ttotal: 419ms\tremaining: 912ms\n",
      "315:\tlearn: 0.1747987\ttotal: 420ms\tremaining: 909ms\n",
      "316:\tlearn: 0.1743229\ttotal: 421ms\tremaining: 907ms\n",
      "317:\tlearn: 0.1739730\ttotal: 422ms\tremaining: 905ms\n",
      "318:\tlearn: 0.1736981\ttotal: 423ms\tremaining: 902ms\n",
      "319:\tlearn: 0.1733686\ttotal: 424ms\tremaining: 900ms\n",
      "320:\tlearn: 0.1732327\ttotal: 424ms\tremaining: 898ms\n",
      "321:\tlearn: 0.1729364\ttotal: 425ms\tremaining: 896ms\n",
      "322:\tlearn: 0.1724792\ttotal: 426ms\tremaining: 893ms\n",
      "323:\tlearn: 0.1721153\ttotal: 427ms\tremaining: 891ms\n",
      "324:\tlearn: 0.1717313\ttotal: 429ms\tremaining: 891ms\n",
      "325:\tlearn: 0.1714005\ttotal: 431ms\tremaining: 890ms\n",
      "326:\tlearn: 0.1710026\ttotal: 432ms\tremaining: 889ms\n",
      "327:\tlearn: 0.1707229\ttotal: 433ms\tremaining: 887ms\n",
      "328:\tlearn: 0.1702862\ttotal: 434ms\tremaining: 885ms\n",
      "329:\tlearn: 0.1698338\ttotal: 435ms\tremaining: 884ms\n",
      "330:\tlearn: 0.1696797\ttotal: 437ms\tremaining: 882ms\n",
      "331:\tlearn: 0.1694549\ttotal: 438ms\tremaining: 881ms\n",
      "332:\tlearn: 0.1691104\ttotal: 439ms\tremaining: 878ms\n",
      "333:\tlearn: 0.1687355\ttotal: 439ms\tremaining: 876ms\n",
      "334:\tlearn: 0.1682894\ttotal: 440ms\tremaining: 874ms\n",
      "335:\tlearn: 0.1680310\ttotal: 441ms\tremaining: 872ms\n",
      "336:\tlearn: 0.1677978\ttotal: 442ms\tremaining: 869ms\n",
      "337:\tlearn: 0.1675094\ttotal: 443ms\tremaining: 867ms\n",
      "338:\tlearn: 0.1671303\ttotal: 444ms\tremaining: 865ms\n",
      "339:\tlearn: 0.1668482\ttotal: 445ms\tremaining: 864ms\n",
      "340:\tlearn: 0.1665857\ttotal: 446ms\tremaining: 862ms\n",
      "341:\tlearn: 0.1662386\ttotal: 447ms\tremaining: 860ms\n",
      "342:\tlearn: 0.1659406\ttotal: 448ms\tremaining: 857ms\n",
      "343:\tlearn: 0.1655495\ttotal: 448ms\tremaining: 855ms\n",
      "344:\tlearn: 0.1652619\ttotal: 450ms\tremaining: 855ms\n",
      "345:\tlearn: 0.1649110\ttotal: 451ms\tremaining: 853ms\n",
      "346:\tlearn: 0.1645661\ttotal: 452ms\tremaining: 850ms\n",
      "347:\tlearn: 0.1641446\ttotal: 453ms\tremaining: 848ms\n",
      "348:\tlearn: 0.1637520\ttotal: 453ms\tremaining: 846ms\n",
      "349:\tlearn: 0.1633160\ttotal: 454ms\tremaining: 844ms\n",
      "350:\tlearn: 0.1629327\ttotal: 455ms\tremaining: 842ms\n",
      "351:\tlearn: 0.1624802\ttotal: 456ms\tremaining: 840ms\n",
      "352:\tlearn: 0.1621878\ttotal: 457ms\tremaining: 837ms\n",
      "353:\tlearn: 0.1619087\ttotal: 458ms\tremaining: 835ms\n",
      "354:\tlearn: 0.1617829\ttotal: 459ms\tremaining: 833ms\n",
      "355:\tlearn: 0.1613678\ttotal: 459ms\tremaining: 831ms\n",
      "356:\tlearn: 0.1611523\ttotal: 460ms\tremaining: 829ms\n",
      "357:\tlearn: 0.1608183\ttotal: 461ms\tremaining: 827ms\n",
      "358:\tlearn: 0.1602786\ttotal: 462ms\tremaining: 825ms\n",
      "359:\tlearn: 0.1598761\ttotal: 463ms\tremaining: 823ms\n",
      "360:\tlearn: 0.1598311\ttotal: 464ms\tremaining: 821ms\n",
      "361:\tlearn: 0.1595684\ttotal: 464ms\tremaining: 819ms\n",
      "362:\tlearn: 0.1592498\ttotal: 465ms\tremaining: 816ms\n",
      "363:\tlearn: 0.1591411\ttotal: 466ms\tremaining: 814ms\n",
      "364:\tlearn: 0.1586426\ttotal: 467ms\tremaining: 812ms\n",
      "365:\tlearn: 0.1584046\ttotal: 468ms\tremaining: 810ms\n",
      "366:\tlearn: 0.1581092\ttotal: 468ms\tremaining: 808ms\n",
      "367:\tlearn: 0.1579547\ttotal: 470ms\tremaining: 806ms\n",
      "368:\tlearn: 0.1574926\ttotal: 471ms\tremaining: 805ms\n",
      "369:\tlearn: 0.1570911\ttotal: 471ms\tremaining: 803ms\n",
      "370:\tlearn: 0.1569721\ttotal: 473ms\tremaining: 802ms\n",
      "371:\tlearn: 0.1567399\ttotal: 474ms\tremaining: 800ms\n",
      "372:\tlearn: 0.1564829\ttotal: 475ms\tremaining: 799ms\n",
      "373:\tlearn: 0.1562145\ttotal: 476ms\tremaining: 797ms\n",
      "374:\tlearn: 0.1557741\ttotal: 477ms\tremaining: 795ms\n",
      "375:\tlearn: 0.1554919\ttotal: 478ms\tremaining: 793ms\n",
      "376:\tlearn: 0.1553343\ttotal: 478ms\tremaining: 791ms\n",
      "377:\tlearn: 0.1551740\ttotal: 480ms\tremaining: 791ms\n"
     ]
    },
    {
     "name": "stdout",
     "output_type": "stream",
     "text": [
      "378:\tlearn: 0.1547962\ttotal: 481ms\tremaining: 789ms\n",
      "379:\tlearn: 0.1544309\ttotal: 482ms\tremaining: 787ms\n",
      "380:\tlearn: 0.1541319\ttotal: 483ms\tremaining: 785ms\n",
      "381:\tlearn: 0.1540517\ttotal: 484ms\tremaining: 783ms\n",
      "382:\tlearn: 0.1537978\ttotal: 486ms\tremaining: 783ms\n",
      "383:\tlearn: 0.1534692\ttotal: 487ms\tremaining: 781ms\n",
      "384:\tlearn: 0.1531024\ttotal: 488ms\tremaining: 779ms\n",
      "385:\tlearn: 0.1527783\ttotal: 489ms\tremaining: 777ms\n",
      "386:\tlearn: 0.1524076\ttotal: 489ms\tremaining: 775ms\n",
      "387:\tlearn: 0.1521094\ttotal: 491ms\tremaining: 774ms\n",
      "388:\tlearn: 0.1518708\ttotal: 491ms\tremaining: 772ms\n",
      "389:\tlearn: 0.1516056\ttotal: 492ms\tremaining: 770ms\n",
      "390:\tlearn: 0.1514357\ttotal: 493ms\tremaining: 768ms\n",
      "391:\tlearn: 0.1513226\ttotal: 494ms\tremaining: 766ms\n",
      "392:\tlearn: 0.1509903\ttotal: 495ms\tremaining: 765ms\n",
      "393:\tlearn: 0.1506466\ttotal: 496ms\tremaining: 764ms\n",
      "394:\tlearn: 0.1503813\ttotal: 497ms\tremaining: 762ms\n",
      "395:\tlearn: 0.1500346\ttotal: 498ms\tremaining: 760ms\n",
      "396:\tlearn: 0.1497461\ttotal: 499ms\tremaining: 758ms\n",
      "397:\tlearn: 0.1496710\ttotal: 500ms\tremaining: 757ms\n",
      "398:\tlearn: 0.1494721\ttotal: 501ms\tremaining: 755ms\n",
      "399:\tlearn: 0.1491727\ttotal: 503ms\tremaining: 755ms\n",
      "400:\tlearn: 0.1488936\ttotal: 504ms\tremaining: 753ms\n",
      "401:\tlearn: 0.1485767\ttotal: 505ms\tremaining: 752ms\n",
      "402:\tlearn: 0.1482552\ttotal: 507ms\tremaining: 751ms\n",
      "403:\tlearn: 0.1480239\ttotal: 507ms\tremaining: 749ms\n",
      "404:\tlearn: 0.1478131\ttotal: 508ms\tremaining: 747ms\n",
      "405:\tlearn: 0.1475080\ttotal: 509ms\tremaining: 745ms\n",
      "406:\tlearn: 0.1472905\ttotal: 510ms\tremaining: 743ms\n",
      "407:\tlearn: 0.1471195\ttotal: 511ms\tremaining: 741ms\n",
      "408:\tlearn: 0.1468989\ttotal: 511ms\tremaining: 739ms\n",
      "409:\tlearn: 0.1468090\ttotal: 513ms\tremaining: 738ms\n",
      "410:\tlearn: 0.1465886\ttotal: 514ms\tremaining: 737ms\n",
      "411:\tlearn: 0.1461559\ttotal: 515ms\tremaining: 735ms\n",
      "412:\tlearn: 0.1459056\ttotal: 517ms\tremaining: 734ms\n",
      "413:\tlearn: 0.1455923\ttotal: 518ms\tremaining: 733ms\n",
      "414:\tlearn: 0.1451779\ttotal: 519ms\tremaining: 731ms\n",
      "415:\tlearn: 0.1449632\ttotal: 520ms\tremaining: 730ms\n",
      "416:\tlearn: 0.1446492\ttotal: 521ms\tremaining: 728ms\n",
      "417:\tlearn: 0.1442251\ttotal: 522ms\tremaining: 726ms\n",
      "418:\tlearn: 0.1440072\ttotal: 523ms\tremaining: 725ms\n",
      "419:\tlearn: 0.1438759\ttotal: 523ms\tremaining: 723ms\n",
      "420:\tlearn: 0.1436907\ttotal: 524ms\tremaining: 721ms\n",
      "421:\tlearn: 0.1433343\ttotal: 525ms\tremaining: 719ms\n",
      "422:\tlearn: 0.1431435\ttotal: 526ms\tremaining: 717ms\n",
      "423:\tlearn: 0.1428569\ttotal: 527ms\tremaining: 716ms\n",
      "424:\tlearn: 0.1425838\ttotal: 528ms\tremaining: 714ms\n",
      "425:\tlearn: 0.1422337\ttotal: 529ms\tremaining: 713ms\n",
      "426:\tlearn: 0.1419442\ttotal: 530ms\tremaining: 711ms\n",
      "427:\tlearn: 0.1416145\ttotal: 531ms\tremaining: 709ms\n",
      "428:\tlearn: 0.1415080\ttotal: 532ms\tremaining: 708ms\n",
      "429:\tlearn: 0.1414240\ttotal: 533ms\tremaining: 706ms\n",
      "430:\tlearn: 0.1413075\ttotal: 534ms\tremaining: 704ms\n",
      "431:\tlearn: 0.1410450\ttotal: 535ms\tremaining: 703ms\n",
      "432:\tlearn: 0.1408435\ttotal: 541ms\tremaining: 708ms\n",
      "433:\tlearn: 0.1405977\ttotal: 541ms\tremaining: 706ms\n",
      "434:\tlearn: 0.1404897\ttotal: 542ms\tremaining: 704ms\n",
      "435:\tlearn: 0.1403765\ttotal: 543ms\tremaining: 702ms\n",
      "436:\tlearn: 0.1401312\ttotal: 544ms\tremaining: 700ms\n",
      "437:\tlearn: 0.1398424\ttotal: 544ms\tremaining: 699ms\n",
      "438:\tlearn: 0.1395498\ttotal: 545ms\tremaining: 697ms\n",
      "439:\tlearn: 0.1392653\ttotal: 546ms\tremaining: 695ms\n",
      "440:\tlearn: 0.1389864\ttotal: 547ms\tremaining: 693ms\n",
      "441:\tlearn: 0.1385162\ttotal: 549ms\tremaining: 692ms\n",
      "442:\tlearn: 0.1382258\ttotal: 550ms\tremaining: 691ms\n",
      "443:\tlearn: 0.1381635\ttotal: 550ms\tremaining: 689ms\n",
      "444:\tlearn: 0.1380550\ttotal: 552ms\tremaining: 688ms\n",
      "445:\tlearn: 0.1377480\ttotal: 553ms\tremaining: 686ms\n",
      "446:\tlearn: 0.1376316\ttotal: 553ms\tremaining: 685ms\n",
      "447:\tlearn: 0.1373964\ttotal: 554ms\tremaining: 683ms\n",
      "448:\tlearn: 0.1370403\ttotal: 555ms\tremaining: 681ms\n",
      "449:\tlearn: 0.1367817\ttotal: 556ms\tremaining: 679ms\n",
      "450:\tlearn: 0.1365402\ttotal: 557ms\tremaining: 678ms\n",
      "451:\tlearn: 0.1363245\ttotal: 557ms\tremaining: 676ms\n",
      "452:\tlearn: 0.1361180\ttotal: 558ms\tremaining: 674ms\n",
      "453:\tlearn: 0.1358923\ttotal: 559ms\tremaining: 673ms\n",
      "454:\tlearn: 0.1357898\ttotal: 560ms\tremaining: 671ms\n",
      "455:\tlearn: 0.1355795\ttotal: 561ms\tremaining: 669ms\n",
      "456:\tlearn: 0.1355355\ttotal: 562ms\tremaining: 668ms\n",
      "457:\tlearn: 0.1351912\ttotal: 563ms\tremaining: 666ms\n",
      "458:\tlearn: 0.1349854\ttotal: 563ms\tremaining: 664ms\n",
      "459:\tlearn: 0.1346035\ttotal: 564ms\tremaining: 662ms\n",
      "460:\tlearn: 0.1343107\ttotal: 566ms\tremaining: 662ms\n",
      "461:\tlearn: 0.1340890\ttotal: 567ms\tremaining: 660ms\n",
      "462:\tlearn: 0.1338608\ttotal: 568ms\tremaining: 659ms\n",
      "463:\tlearn: 0.1337430\ttotal: 570ms\tremaining: 658ms\n",
      "464:\tlearn: 0.1335418\ttotal: 571ms\tremaining: 656ms\n",
      "465:\tlearn: 0.1333250\ttotal: 571ms\tremaining: 655ms\n",
      "466:\tlearn: 0.1329831\ttotal: 573ms\tremaining: 653ms\n",
      "467:\tlearn: 0.1325890\ttotal: 574ms\tremaining: 652ms\n",
      "468:\tlearn: 0.1322488\ttotal: 575ms\tremaining: 650ms\n",
      "469:\tlearn: 0.1319851\ttotal: 575ms\tremaining: 649ms\n"
     ]
    },
    {
     "name": "stdout",
     "output_type": "stream",
     "text": [
      "470:\tlearn: 0.1319222\ttotal: 577ms\tremaining: 648ms\n",
      "471:\tlearn: 0.1316692\ttotal: 578ms\tremaining: 646ms\n",
      "472:\tlearn: 0.1314648\ttotal: 579ms\tremaining: 645ms\n",
      "473:\tlearn: 0.1312054\ttotal: 580ms\tremaining: 643ms\n",
      "474:\tlearn: 0.1310179\ttotal: 581ms\tremaining: 642ms\n",
      "475:\tlearn: 0.1307700\ttotal: 582ms\tremaining: 641ms\n",
      "476:\tlearn: 0.1306001\ttotal: 583ms\tremaining: 639ms\n",
      "477:\tlearn: 0.1304387\ttotal: 584ms\tremaining: 637ms\n",
      "478:\tlearn: 0.1302765\ttotal: 585ms\tremaining: 636ms\n",
      "479:\tlearn: 0.1300921\ttotal: 585ms\tremaining: 634ms\n",
      "480:\tlearn: 0.1298274\ttotal: 586ms\tremaining: 632ms\n",
      "481:\tlearn: 0.1297212\ttotal: 587ms\tremaining: 631ms\n",
      "482:\tlearn: 0.1295198\ttotal: 589ms\tremaining: 630ms\n",
      "483:\tlearn: 0.1291768\ttotal: 590ms\tremaining: 629ms\n",
      "484:\tlearn: 0.1290763\ttotal: 592ms\tremaining: 629ms\n",
      "485:\tlearn: 0.1288714\ttotal: 594ms\tremaining: 628ms\n",
      "486:\tlearn: 0.1288061\ttotal: 595ms\tremaining: 627ms\n",
      "487:\tlearn: 0.1285917\ttotal: 596ms\tremaining: 625ms\n",
      "488:\tlearn: 0.1282502\ttotal: 597ms\tremaining: 624ms\n",
      "489:\tlearn: 0.1280493\ttotal: 598ms\tremaining: 622ms\n",
      "490:\tlearn: 0.1278089\ttotal: 599ms\tremaining: 621ms\n",
      "491:\tlearn: 0.1275764\ttotal: 600ms\tremaining: 620ms\n",
      "492:\tlearn: 0.1272764\ttotal: 604ms\tremaining: 621ms\n",
      "493:\tlearn: 0.1270859\ttotal: 605ms\tremaining: 620ms\n",
      "494:\tlearn: 0.1269249\ttotal: 606ms\tremaining: 618ms\n",
      "495:\tlearn: 0.1268871\ttotal: 607ms\tremaining: 617ms\n",
      "496:\tlearn: 0.1266633\ttotal: 607ms\tremaining: 615ms\n",
      "497:\tlearn: 0.1264339\ttotal: 608ms\tremaining: 613ms\n",
      "498:\tlearn: 0.1261857\ttotal: 609ms\tremaining: 612ms\n",
      "499:\tlearn: 0.1259962\ttotal: 610ms\tremaining: 610ms\n",
      "500:\tlearn: 0.1257514\ttotal: 611ms\tremaining: 609ms\n",
      "501:\tlearn: 0.1255436\ttotal: 612ms\tremaining: 607ms\n",
      "502:\tlearn: 0.1253742\ttotal: 613ms\tremaining: 605ms\n",
      "503:\tlearn: 0.1250641\ttotal: 614ms\tremaining: 604ms\n",
      "504:\tlearn: 0.1247992\ttotal: 615ms\tremaining: 602ms\n",
      "505:\tlearn: 0.1245945\ttotal: 615ms\tremaining: 601ms\n",
      "506:\tlearn: 0.1243284\ttotal: 616ms\tremaining: 599ms\n",
      "507:\tlearn: 0.1240996\ttotal: 617ms\tremaining: 598ms\n",
      "508:\tlearn: 0.1238348\ttotal: 618ms\tremaining: 596ms\n",
      "509:\tlearn: 0.1236347\ttotal: 619ms\tremaining: 594ms\n",
      "510:\tlearn: 0.1234723\ttotal: 620ms\tremaining: 593ms\n",
      "511:\tlearn: 0.1233182\ttotal: 621ms\tremaining: 591ms\n",
      "512:\tlearn: 0.1230609\ttotal: 621ms\tremaining: 590ms\n",
      "513:\tlearn: 0.1228803\ttotal: 622ms\tremaining: 588ms\n",
      "514:\tlearn: 0.1226326\ttotal: 623ms\tremaining: 587ms\n",
      "515:\tlearn: 0.1224001\ttotal: 624ms\tremaining: 586ms\n",
      "516:\tlearn: 0.1221992\ttotal: 625ms\tremaining: 584ms\n",
      "517:\tlearn: 0.1219169\ttotal: 626ms\tremaining: 583ms\n",
      "518:\tlearn: 0.1216575\ttotal: 628ms\tremaining: 582ms\n",
      "519:\tlearn: 0.1214041\ttotal: 629ms\tremaining: 580ms\n",
      "520:\tlearn: 0.1212705\ttotal: 630ms\tremaining: 579ms\n",
      "521:\tlearn: 0.1211714\ttotal: 631ms\tremaining: 578ms\n",
      "522:\tlearn: 0.1209714\ttotal: 632ms\tremaining: 577ms\n",
      "523:\tlearn: 0.1208907\ttotal: 633ms\tremaining: 575ms\n",
      "524:\tlearn: 0.1206281\ttotal: 634ms\tremaining: 574ms\n",
      "525:\tlearn: 0.1204501\ttotal: 636ms\tremaining: 573ms\n",
      "526:\tlearn: 0.1203908\ttotal: 637ms\tremaining: 571ms\n",
      "527:\tlearn: 0.1201695\ttotal: 638ms\tremaining: 570ms\n",
      "528:\tlearn: 0.1200544\ttotal: 639ms\tremaining: 569ms\n",
      "529:\tlearn: 0.1197560\ttotal: 640ms\tremaining: 567ms\n",
      "530:\tlearn: 0.1195161\ttotal: 641ms\tremaining: 566ms\n",
      "531:\tlearn: 0.1192690\ttotal: 641ms\tremaining: 564ms\n",
      "532:\tlearn: 0.1190155\ttotal: 643ms\tremaining: 563ms\n",
      "533:\tlearn: 0.1189073\ttotal: 644ms\tremaining: 562ms\n",
      "534:\tlearn: 0.1188276\ttotal: 645ms\tremaining: 561ms\n",
      "535:\tlearn: 0.1187705\ttotal: 646ms\tremaining: 559ms\n",
      "536:\tlearn: 0.1185303\ttotal: 647ms\tremaining: 558ms\n",
      "537:\tlearn: 0.1182538\ttotal: 648ms\tremaining: 557ms\n",
      "538:\tlearn: 0.1182027\ttotal: 649ms\tremaining: 555ms\n",
      "539:\tlearn: 0.1180144\ttotal: 650ms\tremaining: 554ms\n",
      "540:\tlearn: 0.1178733\ttotal: 661ms\tremaining: 561ms\n",
      "541:\tlearn: 0.1177708\ttotal: 662ms\tremaining: 559ms\n",
      "542:\tlearn: 0.1177122\ttotal: 663ms\tremaining: 558ms\n",
      "543:\tlearn: 0.1175059\ttotal: 664ms\tremaining: 556ms\n",
      "544:\tlearn: 0.1173009\ttotal: 664ms\tremaining: 555ms\n",
      "545:\tlearn: 0.1170975\ttotal: 665ms\tremaining: 553ms\n",
      "546:\tlearn: 0.1168371\ttotal: 666ms\tremaining: 552ms\n",
      "547:\tlearn: 0.1167287\ttotal: 667ms\tremaining: 550ms\n",
      "548:\tlearn: 0.1165902\ttotal: 668ms\tremaining: 549ms\n",
      "549:\tlearn: 0.1163040\ttotal: 669ms\tremaining: 547ms\n",
      "550:\tlearn: 0.1161451\ttotal: 669ms\tremaining: 545ms\n",
      "551:\tlearn: 0.1159488\ttotal: 670ms\tremaining: 544ms\n"
     ]
    },
    {
     "name": "stdout",
     "output_type": "stream",
     "text": [
      "552:\tlearn: 0.1156990\ttotal: 681ms\tremaining: 550ms\n",
      "553:\tlearn: 0.1155574\ttotal: 682ms\tremaining: 549ms\n",
      "554:\tlearn: 0.1152824\ttotal: 683ms\tremaining: 547ms\n",
      "555:\tlearn: 0.1151324\ttotal: 684ms\tremaining: 546ms\n",
      "556:\tlearn: 0.1151029\ttotal: 685ms\tremaining: 544ms\n",
      "557:\tlearn: 0.1148787\ttotal: 685ms\tremaining: 543ms\n",
      "558:\tlearn: 0.1147471\ttotal: 686ms\tremaining: 541ms\n",
      "559:\tlearn: 0.1146036\ttotal: 687ms\tremaining: 540ms\n",
      "560:\tlearn: 0.1143647\ttotal: 688ms\tremaining: 538ms\n",
      "561:\tlearn: 0.1142179\ttotal: 689ms\tremaining: 537ms\n",
      "562:\tlearn: 0.1141578\ttotal: 690ms\tremaining: 535ms\n",
      "563:\tlearn: 0.1140818\ttotal: 700ms\tremaining: 541ms\n",
      "564:\tlearn: 0.1140664\ttotal: 701ms\tremaining: 540ms\n",
      "565:\tlearn: 0.1139330\ttotal: 702ms\tremaining: 538ms\n",
      "566:\tlearn: 0.1137166\ttotal: 703ms\tremaining: 537ms\n",
      "567:\tlearn: 0.1135315\ttotal: 704ms\tremaining: 535ms\n",
      "568:\tlearn: 0.1134818\ttotal: 704ms\tremaining: 534ms\n",
      "569:\tlearn: 0.1132582\ttotal: 705ms\tremaining: 532ms\n",
      "570:\tlearn: 0.1131279\ttotal: 706ms\tremaining: 530ms\n",
      "571:\tlearn: 0.1129698\ttotal: 707ms\tremaining: 529ms\n",
      "572:\tlearn: 0.1127424\ttotal: 708ms\tremaining: 527ms\n",
      "573:\tlearn: 0.1126736\ttotal: 709ms\tremaining: 526ms\n",
      "574:\tlearn: 0.1125512\ttotal: 710ms\tremaining: 525ms\n",
      "575:\tlearn: 0.1124690\ttotal: 711ms\tremaining: 524ms\n",
      "576:\tlearn: 0.1122312\ttotal: 713ms\tremaining: 523ms\n",
      "577:\tlearn: 0.1120552\ttotal: 714ms\tremaining: 522ms\n",
      "578:\tlearn: 0.1118262\ttotal: 716ms\tremaining: 520ms\n",
      "579:\tlearn: 0.1116940\ttotal: 717ms\tremaining: 519ms\n",
      "580:\tlearn: 0.1115540\ttotal: 718ms\tremaining: 518ms\n",
      "581:\tlearn: 0.1115095\ttotal: 719ms\tremaining: 516ms\n",
      "582:\tlearn: 0.1114366\ttotal: 720ms\tremaining: 515ms\n",
      "583:\tlearn: 0.1112945\ttotal: 720ms\tremaining: 513ms\n",
      "584:\tlearn: 0.1110328\ttotal: 722ms\tremaining: 512ms\n",
      "585:\tlearn: 0.1109949\ttotal: 723ms\tremaining: 511ms\n",
      "586:\tlearn: 0.1108175\ttotal: 724ms\tremaining: 510ms\n",
      "587:\tlearn: 0.1106184\ttotal: 725ms\tremaining: 508ms\n",
      "588:\tlearn: 0.1104505\ttotal: 727ms\tremaining: 507ms\n",
      "589:\tlearn: 0.1101820\ttotal: 728ms\tremaining: 506ms\n",
      "590:\tlearn: 0.1099494\ttotal: 729ms\tremaining: 505ms\n",
      "591:\tlearn: 0.1097957\ttotal: 730ms\tremaining: 503ms\n",
      "592:\tlearn: 0.1096152\ttotal: 731ms\tremaining: 501ms\n",
      "593:\tlearn: 0.1094004\ttotal: 731ms\tremaining: 500ms\n",
      "594:\tlearn: 0.1091484\ttotal: 732ms\tremaining: 498ms\n",
      "595:\tlearn: 0.1089573\ttotal: 733ms\tremaining: 497ms\n",
      "596:\tlearn: 0.1087875\ttotal: 734ms\tremaining: 495ms\n",
      "597:\tlearn: 0.1085348\ttotal: 734ms\tremaining: 494ms\n",
      "598:\tlearn: 0.1084941\ttotal: 735ms\tremaining: 492ms\n",
      "599:\tlearn: 0.1082507\ttotal: 736ms\tremaining: 491ms\n",
      "600:\tlearn: 0.1081133\ttotal: 737ms\tremaining: 489ms\n",
      "601:\tlearn: 0.1078995\ttotal: 738ms\tremaining: 488ms\n",
      "602:\tlearn: 0.1077324\ttotal: 739ms\tremaining: 487ms\n",
      "603:\tlearn: 0.1075710\ttotal: 740ms\tremaining: 485ms\n",
      "604:\tlearn: 0.1073247\ttotal: 751ms\tremaining: 490ms\n",
      "605:\tlearn: 0.1073129\ttotal: 752ms\tremaining: 489ms\n",
      "606:\tlearn: 0.1072663\ttotal: 752ms\tremaining: 487ms\n",
      "607:\tlearn: 0.1069919\ttotal: 753ms\tremaining: 486ms\n",
      "608:\tlearn: 0.1068465\ttotal: 754ms\tremaining: 484ms\n",
      "609:\tlearn: 0.1066861\ttotal: 755ms\tremaining: 483ms\n",
      "610:\tlearn: 0.1065138\ttotal: 756ms\tremaining: 481ms\n",
      "611:\tlearn: 0.1064489\ttotal: 757ms\tremaining: 480ms\n",
      "612:\tlearn: 0.1063243\ttotal: 757ms\tremaining: 478ms\n",
      "613:\tlearn: 0.1061989\ttotal: 758ms\tremaining: 477ms\n",
      "614:\tlearn: 0.1060016\ttotal: 759ms\tremaining: 475ms\n"
     ]
    },
    {
     "name": "stdout",
     "output_type": "stream",
     "text": [
      "615:\tlearn: 0.1058716\ttotal: 780ms\tremaining: 486ms\n",
      "616:\tlearn: 0.1057766\ttotal: 781ms\tremaining: 485ms\n",
      "617:\tlearn: 0.1055180\ttotal: 782ms\tremaining: 483ms\n",
      "618:\tlearn: 0.1052948\ttotal: 783ms\tremaining: 482ms\n",
      "619:\tlearn: 0.1050997\ttotal: 784ms\tremaining: 480ms\n",
      "620:\tlearn: 0.1048997\ttotal: 785ms\tremaining: 479ms\n",
      "621:\tlearn: 0.1046396\ttotal: 786ms\tremaining: 477ms\n",
      "622:\tlearn: 0.1045054\ttotal: 786ms\tremaining: 476ms\n",
      "623:\tlearn: 0.1042365\ttotal: 787ms\tremaining: 474ms\n",
      "624:\tlearn: 0.1038320\ttotal: 788ms\tremaining: 473ms\n",
      "625:\tlearn: 0.1036809\ttotal: 789ms\tremaining: 471ms\n",
      "626:\tlearn: 0.1035845\ttotal: 790ms\tremaining: 470ms\n",
      "627:\tlearn: 0.1035358\ttotal: 791ms\tremaining: 468ms\n",
      "628:\tlearn: 0.1033543\ttotal: 792ms\tremaining: 467ms\n",
      "629:\tlearn: 0.1033224\ttotal: 792ms\tremaining: 465ms\n",
      "630:\tlearn: 0.1030639\ttotal: 793ms\tremaining: 464ms\n",
      "631:\tlearn: 0.1028456\ttotal: 794ms\tremaining: 462ms\n",
      "632:\tlearn: 0.1028047\ttotal: 795ms\tremaining: 461ms\n",
      "633:\tlearn: 0.1025798\ttotal: 796ms\tremaining: 459ms\n",
      "634:\tlearn: 0.1023784\ttotal: 797ms\tremaining: 458ms\n",
      "635:\tlearn: 0.1021891\ttotal: 797ms\tremaining: 456ms\n",
      "636:\tlearn: 0.1021304\ttotal: 798ms\tremaining: 455ms\n",
      "637:\tlearn: 0.1020115\ttotal: 799ms\tremaining: 453ms\n",
      "638:\tlearn: 0.1018346\ttotal: 800ms\tremaining: 452ms\n",
      "639:\tlearn: 0.1016352\ttotal: 801ms\tremaining: 450ms\n",
      "640:\tlearn: 0.1014689\ttotal: 802ms\tremaining: 449ms\n",
      "641:\tlearn: 0.1013206\ttotal: 803ms\tremaining: 448ms\n",
      "642:\tlearn: 0.1012306\ttotal: 804ms\tremaining: 447ms\n",
      "643:\tlearn: 0.1011249\ttotal: 806ms\tremaining: 445ms\n",
      "644:\tlearn: 0.1009476\ttotal: 807ms\tremaining: 444ms\n",
      "645:\tlearn: 0.1008160\ttotal: 808ms\tremaining: 443ms\n",
      "646:\tlearn: 0.1006717\ttotal: 809ms\tremaining: 441ms\n",
      "647:\tlearn: 0.1006294\ttotal: 810ms\tremaining: 440ms\n",
      "648:\tlearn: 0.1004735\ttotal: 811ms\tremaining: 438ms\n",
      "649:\tlearn: 0.1003094\ttotal: 812ms\tremaining: 437ms\n",
      "650:\tlearn: 0.1002052\ttotal: 812ms\tremaining: 436ms\n",
      "651:\tlearn: 0.1000948\ttotal: 814ms\tremaining: 434ms\n",
      "652:\tlearn: 0.0999770\ttotal: 815ms\tremaining: 433ms\n",
      "653:\tlearn: 0.0998007\ttotal: 816ms\tremaining: 432ms\n",
      "654:\tlearn: 0.0997515\ttotal: 818ms\tremaining: 431ms\n",
      "655:\tlearn: 0.0995127\ttotal: 819ms\tremaining: 429ms\n",
      "656:\tlearn: 0.0994067\ttotal: 819ms\tremaining: 428ms\n",
      "657:\tlearn: 0.0992959\ttotal: 820ms\tremaining: 426ms\n",
      "658:\tlearn: 0.0990937\ttotal: 821ms\tremaining: 425ms\n",
      "659:\tlearn: 0.0990717\ttotal: 822ms\tremaining: 423ms\n",
      "660:\tlearn: 0.0989353\ttotal: 823ms\tremaining: 422ms\n",
      "661:\tlearn: 0.0988446\ttotal: 824ms\tremaining: 421ms\n",
      "662:\tlearn: 0.0987290\ttotal: 826ms\tremaining: 420ms\n",
      "663:\tlearn: 0.0986173\ttotal: 827ms\tremaining: 418ms\n",
      "664:\tlearn: 0.0984437\ttotal: 828ms\tremaining: 417ms\n",
      "665:\tlearn: 0.0983237\ttotal: 829ms\tremaining: 416ms\n",
      "666:\tlearn: 0.0981516\ttotal: 830ms\tremaining: 414ms\n",
      "667:\tlearn: 0.0980199\ttotal: 831ms\tremaining: 413ms\n",
      "668:\tlearn: 0.0979471\ttotal: 832ms\tremaining: 412ms\n",
      "669:\tlearn: 0.0978231\ttotal: 833ms\tremaining: 410ms\n",
      "670:\tlearn: 0.0975747\ttotal: 834ms\tremaining: 409ms\n",
      "671:\tlearn: 0.0974380\ttotal: 835ms\tremaining: 408ms\n",
      "672:\tlearn: 0.0973944\ttotal: 837ms\tremaining: 407ms\n",
      "673:\tlearn: 0.0971879\ttotal: 838ms\tremaining: 405ms\n",
      "674:\tlearn: 0.0971470\ttotal: 839ms\tremaining: 404ms\n",
      "675:\tlearn: 0.0969305\ttotal: 840ms\tremaining: 403ms\n",
      "676:\tlearn: 0.0968804\ttotal: 841ms\tremaining: 401ms\n",
      "677:\tlearn: 0.0966962\ttotal: 842ms\tremaining: 400ms\n",
      "678:\tlearn: 0.0966402\ttotal: 843ms\tremaining: 398ms\n",
      "679:\tlearn: 0.0964916\ttotal: 844ms\tremaining: 397ms\n",
      "680:\tlearn: 0.0963826\ttotal: 845ms\tremaining: 396ms\n",
      "681:\tlearn: 0.0962251\ttotal: 846ms\tremaining: 395ms\n",
      "682:\tlearn: 0.0961981\ttotal: 848ms\tremaining: 393ms\n",
      "683:\tlearn: 0.0961653\ttotal: 848ms\tremaining: 392ms\n",
      "684:\tlearn: 0.0959479\ttotal: 849ms\tremaining: 391ms\n",
      "685:\tlearn: 0.0958126\ttotal: 850ms\tremaining: 389ms\n",
      "686:\tlearn: 0.0957006\ttotal: 851ms\tremaining: 388ms\n",
      "687:\tlearn: 0.0955931\ttotal: 852ms\tremaining: 386ms\n",
      "688:\tlearn: 0.0954944\ttotal: 853ms\tremaining: 385ms\n",
      "689:\tlearn: 0.0954302\ttotal: 854ms\tremaining: 384ms\n",
      "690:\tlearn: 0.0952949\ttotal: 856ms\tremaining: 383ms\n",
      "691:\tlearn: 0.0951689\ttotal: 857ms\tremaining: 381ms\n",
      "692:\tlearn: 0.0950467\ttotal: 858ms\tremaining: 380ms\n",
      "693:\tlearn: 0.0947818\ttotal: 859ms\tremaining: 379ms\n",
      "694:\tlearn: 0.0946302\ttotal: 860ms\tremaining: 377ms\n",
      "695:\tlearn: 0.0945461\ttotal: 861ms\tremaining: 376ms\n",
      "696:\tlearn: 0.0944448\ttotal: 862ms\tremaining: 375ms\n",
      "697:\tlearn: 0.0944005\ttotal: 863ms\tremaining: 373ms\n",
      "698:\tlearn: 0.0942652\ttotal: 864ms\tremaining: 372ms\n",
      "699:\tlearn: 0.0940873\ttotal: 866ms\tremaining: 371ms\n",
      "700:\tlearn: 0.0940107\ttotal: 867ms\tremaining: 370ms\n",
      "701:\tlearn: 0.0939098\ttotal: 868ms\tremaining: 368ms\n",
      "702:\tlearn: 0.0938315\ttotal: 869ms\tremaining: 367ms\n",
      "703:\tlearn: 0.0936258\ttotal: 870ms\tremaining: 366ms\n",
      "704:\tlearn: 0.0935266\ttotal: 871ms\tremaining: 365ms\n",
      "705:\tlearn: 0.0933141\ttotal: 872ms\tremaining: 363ms\n",
      "706:\tlearn: 0.0931188\ttotal: 873ms\tremaining: 362ms\n"
     ]
    },
    {
     "name": "stdout",
     "output_type": "stream",
     "text": [
      "707:\tlearn: 0.0930440\ttotal: 875ms\tremaining: 361ms\n",
      "708:\tlearn: 0.0927969\ttotal: 876ms\tremaining: 359ms\n",
      "709:\tlearn: 0.0927289\ttotal: 877ms\tremaining: 358ms\n",
      "710:\tlearn: 0.0925939\ttotal: 878ms\tremaining: 357ms\n",
      "711:\tlearn: 0.0924306\ttotal: 879ms\tremaining: 356ms\n",
      "712:\tlearn: 0.0922756\ttotal: 880ms\tremaining: 354ms\n",
      "713:\tlearn: 0.0921219\ttotal: 882ms\tremaining: 353ms\n",
      "714:\tlearn: 0.0919961\ttotal: 882ms\tremaining: 352ms\n",
      "715:\tlearn: 0.0918899\ttotal: 884ms\tremaining: 350ms\n",
      "716:\tlearn: 0.0917377\ttotal: 885ms\tremaining: 349ms\n",
      "717:\tlearn: 0.0917061\ttotal: 886ms\tremaining: 348ms\n",
      "718:\tlearn: 0.0915499\ttotal: 887ms\tremaining: 347ms\n",
      "719:\tlearn: 0.0914858\ttotal: 898ms\tremaining: 349ms\n",
      "720:\tlearn: 0.0912888\ttotal: 899ms\tremaining: 348ms\n",
      "721:\tlearn: 0.0911438\ttotal: 901ms\tremaining: 347ms\n",
      "722:\tlearn: 0.0910521\ttotal: 902ms\tremaining: 346ms\n",
      "723:\tlearn: 0.0909810\ttotal: 903ms\tremaining: 344ms\n",
      "724:\tlearn: 0.0908444\ttotal: 905ms\tremaining: 343ms\n",
      "725:\tlearn: 0.0905829\ttotal: 906ms\tremaining: 342ms\n",
      "726:\tlearn: 0.0904468\ttotal: 907ms\tremaining: 341ms\n",
      "727:\tlearn: 0.0902857\ttotal: 908ms\tremaining: 339ms\n",
      "728:\tlearn: 0.0901730\ttotal: 909ms\tremaining: 338ms\n",
      "729:\tlearn: 0.0900684\ttotal: 910ms\tremaining: 336ms\n",
      "730:\tlearn: 0.0899522\ttotal: 910ms\tremaining: 335ms\n",
      "731:\tlearn: 0.0897925\ttotal: 911ms\tremaining: 334ms\n",
      "732:\tlearn: 0.0896722\ttotal: 912ms\tremaining: 332ms\n",
      "733:\tlearn: 0.0896344\ttotal: 913ms\tremaining: 331ms\n",
      "734:\tlearn: 0.0895392\ttotal: 914ms\tremaining: 330ms\n",
      "735:\tlearn: 0.0894344\ttotal: 916ms\tremaining: 328ms\n",
      "736:\tlearn: 0.0893589\ttotal: 917ms\tremaining: 327ms\n",
      "737:\tlearn: 0.0892038\ttotal: 918ms\tremaining: 326ms\n",
      "738:\tlearn: 0.0890794\ttotal: 919ms\tremaining: 324ms\n",
      "739:\tlearn: 0.0889776\ttotal: 920ms\tremaining: 323ms\n",
      "740:\tlearn: 0.0888476\ttotal: 921ms\tremaining: 322ms\n",
      "741:\tlearn: 0.0887271\ttotal: 922ms\tremaining: 321ms\n",
      "742:\tlearn: 0.0886592\ttotal: 923ms\tremaining: 319ms\n",
      "743:\tlearn: 0.0884790\ttotal: 924ms\tremaining: 318ms\n",
      "744:\tlearn: 0.0882790\ttotal: 925ms\tremaining: 317ms\n",
      "745:\tlearn: 0.0881928\ttotal: 927ms\tremaining: 316ms\n",
      "746:\tlearn: 0.0879647\ttotal: 928ms\tremaining: 314ms\n",
      "747:\tlearn: 0.0878758\ttotal: 938ms\tremaining: 316ms\n",
      "748:\tlearn: 0.0876665\ttotal: 939ms\tremaining: 315ms\n",
      "749:\tlearn: 0.0875933\ttotal: 940ms\tremaining: 313ms\n",
      "750:\tlearn: 0.0873681\ttotal: 942ms\tremaining: 312ms\n",
      "751:\tlearn: 0.0872965\ttotal: 943ms\tremaining: 311ms\n",
      "752:\tlearn: 0.0872126\ttotal: 944ms\tremaining: 310ms\n",
      "753:\tlearn: 0.0870799\ttotal: 945ms\tremaining: 308ms\n",
      "754:\tlearn: 0.0869561\ttotal: 947ms\tremaining: 307ms\n",
      "755:\tlearn: 0.0868311\ttotal: 948ms\tremaining: 306ms\n",
      "756:\tlearn: 0.0867050\ttotal: 949ms\tremaining: 305ms\n",
      "757:\tlearn: 0.0866351\ttotal: 949ms\tremaining: 303ms\n",
      "758:\tlearn: 0.0864759\ttotal: 950ms\tremaining: 302ms\n",
      "759:\tlearn: 0.0863003\ttotal: 951ms\tremaining: 300ms\n",
      "760:\tlearn: 0.0862369\ttotal: 952ms\tremaining: 299ms\n",
      "761:\tlearn: 0.0861007\ttotal: 953ms\tremaining: 298ms\n",
      "762:\tlearn: 0.0859714\ttotal: 954ms\tremaining: 296ms\n",
      "763:\tlearn: 0.0858239\ttotal: 956ms\tremaining: 295ms\n",
      "764:\tlearn: 0.0857141\ttotal: 957ms\tremaining: 294ms\n",
      "765:\tlearn: 0.0855235\ttotal: 958ms\tremaining: 293ms\n",
      "766:\tlearn: 0.0853548\ttotal: 959ms\tremaining: 291ms\n",
      "767:\tlearn: 0.0851624\ttotal: 959ms\tremaining: 290ms\n",
      "768:\tlearn: 0.0850458\ttotal: 960ms\tremaining: 288ms\n",
      "769:\tlearn: 0.0850117\ttotal: 961ms\tremaining: 287ms\n",
      "770:\tlearn: 0.0848240\ttotal: 962ms\tremaining: 286ms\n",
      "771:\tlearn: 0.0847220\ttotal: 964ms\tremaining: 285ms\n",
      "772:\tlearn: 0.0846226\ttotal: 965ms\tremaining: 283ms\n",
      "773:\tlearn: 0.0844900\ttotal: 966ms\tremaining: 282ms\n",
      "774:\tlearn: 0.0842909\ttotal: 967ms\tremaining: 281ms\n",
      "775:\tlearn: 0.0842201\ttotal: 968ms\tremaining: 279ms\n",
      "776:\tlearn: 0.0841895\ttotal: 969ms\tremaining: 278ms\n",
      "777:\tlearn: 0.0840297\ttotal: 970ms\tremaining: 277ms\n",
      "778:\tlearn: 0.0839063\ttotal: 971ms\tremaining: 275ms\n",
      "779:\tlearn: 0.0838360\ttotal: 972ms\tremaining: 274ms\n"
     ]
    },
    {
     "name": "stdout",
     "output_type": "stream",
     "text": [
      "780:\tlearn: 0.0837702\ttotal: 973ms\tremaining: 273ms\n",
      "781:\tlearn: 0.0835989\ttotal: 975ms\tremaining: 272ms\n",
      "782:\tlearn: 0.0835386\ttotal: 976ms\tremaining: 270ms\n",
      "783:\tlearn: 0.0834036\ttotal: 977ms\tremaining: 269ms\n",
      "784:\tlearn: 0.0833398\ttotal: 978ms\tremaining: 268ms\n",
      "785:\tlearn: 0.0831913\ttotal: 979ms\tremaining: 267ms\n",
      "786:\tlearn: 0.0830844\ttotal: 980ms\tremaining: 265ms\n",
      "787:\tlearn: 0.0829377\ttotal: 981ms\tremaining: 264ms\n",
      "788:\tlearn: 0.0828395\ttotal: 982ms\tremaining: 263ms\n",
      "789:\tlearn: 0.0827422\ttotal: 984ms\tremaining: 261ms\n",
      "790:\tlearn: 0.0826381\ttotal: 985ms\tremaining: 260ms\n",
      "791:\tlearn: 0.0824407\ttotal: 986ms\tremaining: 259ms\n",
      "792:\tlearn: 0.0823188\ttotal: 987ms\tremaining: 258ms\n",
      "793:\tlearn: 0.0822120\ttotal: 998ms\tremaining: 259ms\n",
      "794:\tlearn: 0.0821497\ttotal: 999ms\tremaining: 258ms\n",
      "795:\tlearn: 0.0819612\ttotal: 1s\tremaining: 256ms\n",
      "796:\tlearn: 0.0818214\ttotal: 1s\tremaining: 255ms\n",
      "797:\tlearn: 0.0817204\ttotal: 1s\tremaining: 254ms\n",
      "798:\tlearn: 0.0816241\ttotal: 1s\tremaining: 253ms\n",
      "799:\tlearn: 0.0815486\ttotal: 1s\tremaining: 251ms\n",
      "800:\tlearn: 0.0813715\ttotal: 1.01s\tremaining: 250ms\n",
      "801:\tlearn: 0.0812878\ttotal: 1.01s\tremaining: 249ms\n",
      "802:\tlearn: 0.0811997\ttotal: 1.01s\tremaining: 247ms\n",
      "803:\tlearn: 0.0811629\ttotal: 1.01s\tremaining: 246ms\n",
      "804:\tlearn: 0.0810606\ttotal: 1.01s\tremaining: 245ms\n",
      "805:\tlearn: 0.0809368\ttotal: 1.01s\tremaining: 244ms\n",
      "806:\tlearn: 0.0807732\ttotal: 1.01s\tremaining: 242ms\n",
      "807:\tlearn: 0.0807080\ttotal: 1.01s\tremaining: 241ms\n",
      "808:\tlearn: 0.0806484\ttotal: 1.01s\tremaining: 240ms\n",
      "809:\tlearn: 0.0805373\ttotal: 1.02s\tremaining: 239ms\n",
      "810:\tlearn: 0.0803566\ttotal: 1.02s\tremaining: 237ms\n",
      "811:\tlearn: 0.0802689\ttotal: 1.02s\tremaining: 236ms\n",
      "812:\tlearn: 0.0801688\ttotal: 1.02s\tremaining: 234ms\n",
      "813:\tlearn: 0.0800189\ttotal: 1.02s\tremaining: 233ms\n",
      "814:\tlearn: 0.0798879\ttotal: 1.02s\tremaining: 232ms\n",
      "815:\tlearn: 0.0798212\ttotal: 1.02s\tremaining: 230ms\n",
      "816:\tlearn: 0.0797354\ttotal: 1.02s\tremaining: 229ms\n",
      "817:\tlearn: 0.0796410\ttotal: 1.02s\tremaining: 228ms\n",
      "818:\tlearn: 0.0795363\ttotal: 1.02s\tremaining: 227ms\n",
      "819:\tlearn: 0.0793773\ttotal: 1.03s\tremaining: 225ms\n",
      "820:\tlearn: 0.0791620\ttotal: 1.03s\tremaining: 224ms\n",
      "821:\tlearn: 0.0790312\ttotal: 1.03s\tremaining: 223ms\n",
      "822:\tlearn: 0.0789119\ttotal: 1.03s\tremaining: 221ms\n",
      "823:\tlearn: 0.0788291\ttotal: 1.03s\tremaining: 220ms\n",
      "824:\tlearn: 0.0786802\ttotal: 1.03s\tremaining: 219ms\n",
      "825:\tlearn: 0.0785917\ttotal: 1.03s\tremaining: 218ms\n",
      "826:\tlearn: 0.0783949\ttotal: 1.03s\tremaining: 216ms\n",
      "827:\tlearn: 0.0783634\ttotal: 1.03s\tremaining: 215ms\n",
      "828:\tlearn: 0.0781652\ttotal: 1.04s\tremaining: 214ms\n",
      "829:\tlearn: 0.0780122\ttotal: 1.04s\tremaining: 213ms\n",
      "830:\tlearn: 0.0778519\ttotal: 1.04s\tremaining: 211ms\n",
      "831:\tlearn: 0.0776707\ttotal: 1.04s\tremaining: 210ms\n",
      "832:\tlearn: 0.0775998\ttotal: 1.04s\tremaining: 209ms\n",
      "833:\tlearn: 0.0774864\ttotal: 1.04s\tremaining: 207ms\n",
      "834:\tlearn: 0.0773352\ttotal: 1.04s\tremaining: 206ms\n",
      "835:\tlearn: 0.0773007\ttotal: 1.04s\tremaining: 205ms\n",
      "836:\tlearn: 0.0772165\ttotal: 1.04s\tremaining: 204ms\n",
      "837:\tlearn: 0.0771499\ttotal: 1.05s\tremaining: 202ms\n",
      "838:\tlearn: 0.0771295\ttotal: 1.05s\tremaining: 201ms\n",
      "839:\tlearn: 0.0770148\ttotal: 1.05s\tremaining: 200ms\n",
      "840:\tlearn: 0.0769564\ttotal: 1.05s\tremaining: 198ms\n",
      "841:\tlearn: 0.0768109\ttotal: 1.05s\tremaining: 197ms\n",
      "842:\tlearn: 0.0767576\ttotal: 1.05s\tremaining: 196ms\n",
      "843:\tlearn: 0.0766514\ttotal: 1.05s\tremaining: 195ms\n",
      "844:\tlearn: 0.0764574\ttotal: 1.05s\tremaining: 193ms\n",
      "845:\tlearn: 0.0764189\ttotal: 1.05s\tremaining: 192ms\n",
      "846:\tlearn: 0.0763624\ttotal: 1.06s\tremaining: 191ms\n",
      "847:\tlearn: 0.0762491\ttotal: 1.06s\tremaining: 189ms\n",
      "848:\tlearn: 0.0760797\ttotal: 1.06s\tremaining: 188ms\n",
      "849:\tlearn: 0.0759025\ttotal: 1.06s\tremaining: 187ms\n",
      "850:\tlearn: 0.0758263\ttotal: 1.06s\tremaining: 186ms\n",
      "851:\tlearn: 0.0756654\ttotal: 1.06s\tremaining: 184ms\n",
      "852:\tlearn: 0.0755504\ttotal: 1.06s\tremaining: 183ms\n",
      "853:\tlearn: 0.0753600\ttotal: 1.06s\tremaining: 182ms\n",
      "854:\tlearn: 0.0752485\ttotal: 1.06s\tremaining: 181ms\n",
      "855:\tlearn: 0.0750955\ttotal: 1.06s\tremaining: 179ms\n",
      "856:\tlearn: 0.0750689\ttotal: 1.07s\tremaining: 178ms\n",
      "857:\tlearn: 0.0750026\ttotal: 1.07s\tremaining: 177ms\n"
     ]
    },
    {
     "name": "stdout",
     "output_type": "stream",
     "text": [
      "858:\tlearn: 0.0748253\ttotal: 1.07s\tremaining: 175ms\n",
      "859:\tlearn: 0.0746765\ttotal: 1.07s\tremaining: 174ms\n",
      "860:\tlearn: 0.0745311\ttotal: 1.07s\tremaining: 173ms\n",
      "861:\tlearn: 0.0744232\ttotal: 1.07s\tremaining: 172ms\n",
      "862:\tlearn: 0.0742258\ttotal: 1.07s\tremaining: 170ms\n",
      "863:\tlearn: 0.0740644\ttotal: 1.07s\tremaining: 169ms\n",
      "864:\tlearn: 0.0739870\ttotal: 1.07s\tremaining: 168ms\n",
      "865:\tlearn: 0.0738803\ttotal: 1.08s\tremaining: 167ms\n",
      "866:\tlearn: 0.0738255\ttotal: 1.08s\tremaining: 165ms\n",
      "867:\tlearn: 0.0737089\ttotal: 1.08s\tremaining: 164ms\n",
      "868:\tlearn: 0.0736217\ttotal: 1.08s\tremaining: 163ms\n",
      "869:\tlearn: 0.0734795\ttotal: 1.08s\tremaining: 162ms\n",
      "870:\tlearn: 0.0733877\ttotal: 1.08s\tremaining: 160ms\n",
      "871:\tlearn: 0.0732202\ttotal: 1.08s\tremaining: 159ms\n",
      "872:\tlearn: 0.0731383\ttotal: 1.08s\tremaining: 158ms\n",
      "873:\tlearn: 0.0730436\ttotal: 1.09s\tremaining: 157ms\n",
      "874:\tlearn: 0.0729773\ttotal: 1.09s\tremaining: 155ms\n",
      "875:\tlearn: 0.0729179\ttotal: 1.09s\tremaining: 154ms\n",
      "876:\tlearn: 0.0728730\ttotal: 1.09s\tremaining: 153ms\n",
      "877:\tlearn: 0.0727924\ttotal: 1.09s\tremaining: 151ms\n",
      "878:\tlearn: 0.0726671\ttotal: 1.09s\tremaining: 150ms\n",
      "879:\tlearn: 0.0724530\ttotal: 1.09s\tremaining: 149ms\n",
      "880:\tlearn: 0.0723995\ttotal: 1.09s\tremaining: 148ms\n",
      "881:\tlearn: 0.0722745\ttotal: 1.09s\tremaining: 146ms\n",
      "882:\tlearn: 0.0721598\ttotal: 1.1s\tremaining: 145ms\n",
      "883:\tlearn: 0.0720334\ttotal: 1.1s\tremaining: 144ms\n",
      "884:\tlearn: 0.0718407\ttotal: 1.1s\tremaining: 143ms\n",
      "885:\tlearn: 0.0717870\ttotal: 1.1s\tremaining: 141ms\n",
      "886:\tlearn: 0.0716584\ttotal: 1.1s\tremaining: 140ms\n",
      "887:\tlearn: 0.0715271\ttotal: 1.1s\tremaining: 139ms\n",
      "888:\tlearn: 0.0714792\ttotal: 1.1s\tremaining: 138ms\n",
      "889:\tlearn: 0.0713863\ttotal: 1.1s\tremaining: 136ms\n",
      "890:\tlearn: 0.0712741\ttotal: 1.1s\tremaining: 135ms\n",
      "891:\tlearn: 0.0711535\ttotal: 1.1s\tremaining: 134ms\n",
      "892:\tlearn: 0.0710759\ttotal: 1.11s\tremaining: 133ms\n",
      "893:\tlearn: 0.0710075\ttotal: 1.11s\tremaining: 131ms\n",
      "894:\tlearn: 0.0709836\ttotal: 1.11s\tremaining: 130ms\n",
      "895:\tlearn: 0.0709442\ttotal: 1.11s\tremaining: 129ms\n",
      "896:\tlearn: 0.0708512\ttotal: 1.11s\tremaining: 128ms\n",
      "897:\tlearn: 0.0706825\ttotal: 1.11s\tremaining: 126ms\n",
      "898:\tlearn: 0.0706142\ttotal: 1.11s\tremaining: 125ms\n",
      "899:\tlearn: 0.0705430\ttotal: 1.11s\tremaining: 124ms\n",
      "900:\tlearn: 0.0704574\ttotal: 1.11s\tremaining: 123ms\n",
      "901:\tlearn: 0.0704175\ttotal: 1.12s\tremaining: 121ms\n",
      "902:\tlearn: 0.0702783\ttotal: 1.12s\tremaining: 120ms\n",
      "903:\tlearn: 0.0700910\ttotal: 1.12s\tremaining: 119ms\n",
      "904:\tlearn: 0.0699458\ttotal: 1.12s\tremaining: 118ms\n",
      "905:\tlearn: 0.0698234\ttotal: 1.12s\tremaining: 116ms\n",
      "906:\tlearn: 0.0697764\ttotal: 1.12s\tremaining: 115ms\n",
      "907:\tlearn: 0.0696319\ttotal: 1.12s\tremaining: 114ms\n",
      "908:\tlearn: 0.0695580\ttotal: 1.12s\tremaining: 113ms\n",
      "909:\tlearn: 0.0694737\ttotal: 1.13s\tremaining: 111ms\n",
      "910:\tlearn: 0.0694200\ttotal: 1.13s\tremaining: 110ms\n",
      "911:\tlearn: 0.0693961\ttotal: 1.13s\tremaining: 109ms\n",
      "912:\tlearn: 0.0693506\ttotal: 1.13s\tremaining: 108ms\n",
      "913:\tlearn: 0.0693199\ttotal: 1.13s\tremaining: 106ms\n",
      "914:\tlearn: 0.0692549\ttotal: 1.13s\tremaining: 105ms\n",
      "915:\tlearn: 0.0692087\ttotal: 1.13s\tremaining: 104ms\n",
      "916:\tlearn: 0.0691528\ttotal: 1.13s\tremaining: 103ms\n",
      "917:\tlearn: 0.0690303\ttotal: 1.14s\tremaining: 101ms\n",
      "918:\tlearn: 0.0688728\ttotal: 1.14s\tremaining: 100ms\n",
      "919:\tlearn: 0.0687769\ttotal: 1.14s\tremaining: 98.9ms\n",
      "920:\tlearn: 0.0687606\ttotal: 1.14s\tremaining: 97.6ms\n",
      "921:\tlearn: 0.0686432\ttotal: 1.14s\tremaining: 96.4ms\n",
      "922:\tlearn: 0.0686036\ttotal: 1.14s\tremaining: 95.1ms\n",
      "923:\tlearn: 0.0685360\ttotal: 1.14s\tremaining: 93.9ms\n",
      "924:\tlearn: 0.0685147\ttotal: 1.14s\tremaining: 92.6ms\n",
      "925:\tlearn: 0.0683712\ttotal: 1.14s\tremaining: 91.4ms\n",
      "926:\tlearn: 0.0683507\ttotal: 1.14s\tremaining: 90.2ms\n",
      "927:\tlearn: 0.0682414\ttotal: 1.15s\tremaining: 88.9ms\n",
      "928:\tlearn: 0.0680726\ttotal: 1.15s\tremaining: 87.7ms\n",
      "929:\tlearn: 0.0679658\ttotal: 1.15s\tremaining: 86.4ms\n",
      "930:\tlearn: 0.0679169\ttotal: 1.15s\tremaining: 85.2ms\n",
      "931:\tlearn: 0.0678325\ttotal: 1.15s\tremaining: 83.9ms\n",
      "932:\tlearn: 0.0677094\ttotal: 1.15s\tremaining: 82.6ms\n",
      "933:\tlearn: 0.0675841\ttotal: 1.15s\tremaining: 81.4ms\n",
      "934:\tlearn: 0.0675374\ttotal: 1.15s\tremaining: 80.1ms\n",
      "935:\tlearn: 0.0674148\ttotal: 1.15s\tremaining: 78.9ms\n",
      "936:\tlearn: 0.0673243\ttotal: 1.15s\tremaining: 77.6ms\n",
      "937:\tlearn: 0.0672173\ttotal: 1.16s\tremaining: 76.4ms\n",
      "938:\tlearn: 0.0671820\ttotal: 1.16s\tremaining: 75.2ms\n",
      "939:\tlearn: 0.0671159\ttotal: 1.16s\tremaining: 73.9ms\n",
      "940:\tlearn: 0.0670283\ttotal: 1.16s\tremaining: 72.7ms\n",
      "941:\tlearn: 0.0670131\ttotal: 1.16s\tremaining: 71.5ms\n",
      "942:\tlearn: 0.0669166\ttotal: 1.16s\tremaining: 70.3ms\n",
      "943:\tlearn: 0.0668025\ttotal: 1.16s\tremaining: 69ms\n"
     ]
    },
    {
     "name": "stdout",
     "output_type": "stream",
     "text": [
      "944:\tlearn: 0.0666904\ttotal: 1.17s\tremaining: 68.3ms\n",
      "945:\tlearn: 0.0666434\ttotal: 1.18s\tremaining: 67.6ms\n",
      "946:\tlearn: 0.0665434\ttotal: 1.19s\tremaining: 66.4ms\n",
      "947:\tlearn: 0.0664357\ttotal: 1.19s\tremaining: 65.1ms\n",
      "948:\tlearn: 0.0663935\ttotal: 1.19s\tremaining: 63.8ms\n",
      "949:\tlearn: 0.0663350\ttotal: 1.19s\tremaining: 62.5ms\n",
      "950:\tlearn: 0.0662315\ttotal: 1.19s\tremaining: 61.3ms\n",
      "951:\tlearn: 0.0661377\ttotal: 1.19s\tremaining: 60ms\n",
      "952:\tlearn: 0.0660579\ttotal: 1.19s\tremaining: 58.7ms\n",
      "953:\tlearn: 0.0659999\ttotal: 1.19s\tremaining: 57.4ms\n",
      "954:\tlearn: 0.0658811\ttotal: 1.19s\tremaining: 56.2ms\n",
      "955:\tlearn: 0.0657535\ttotal: 1.19s\tremaining: 54.9ms\n",
      "956:\tlearn: 0.0657130\ttotal: 1.19s\tremaining: 53.6ms\n",
      "957:\tlearn: 0.0656946\ttotal: 1.2s\tremaining: 52.8ms\n",
      "958:\tlearn: 0.0656650\ttotal: 1.21s\tremaining: 51.5ms\n",
      "959:\tlearn: 0.0655757\ttotal: 1.21s\tremaining: 50.3ms\n",
      "960:\tlearn: 0.0654653\ttotal: 1.21s\tremaining: 49ms\n",
      "961:\tlearn: 0.0653353\ttotal: 1.21s\tremaining: 47.7ms\n",
      "962:\tlearn: 0.0652825\ttotal: 1.21s\tremaining: 46.4ms\n",
      "963:\tlearn: 0.0651849\ttotal: 1.21s\tremaining: 45.2ms\n",
      "964:\tlearn: 0.0650517\ttotal: 1.21s\tremaining: 43.9ms\n",
      "965:\tlearn: 0.0649899\ttotal: 1.21s\tremaining: 42.6ms\n",
      "966:\tlearn: 0.0648488\ttotal: 1.21s\tremaining: 41.4ms\n",
      "967:\tlearn: 0.0648099\ttotal: 1.21s\tremaining: 40.1ms\n",
      "968:\tlearn: 0.0647094\ttotal: 1.21s\tremaining: 38.8ms\n",
      "969:\tlearn: 0.0646448\ttotal: 1.21s\tremaining: 37.6ms\n",
      "970:\tlearn: 0.0645979\ttotal: 1.22s\tremaining: 36.3ms\n",
      "971:\tlearn: 0.0645415\ttotal: 1.22s\tremaining: 35.1ms\n",
      "972:\tlearn: 0.0644363\ttotal: 1.22s\tremaining: 33.8ms\n",
      "973:\tlearn: 0.0643286\ttotal: 1.22s\tremaining: 32.6ms\n",
      "974:\tlearn: 0.0642217\ttotal: 1.22s\tremaining: 31.3ms\n",
      "975:\tlearn: 0.0640956\ttotal: 1.22s\tremaining: 30.1ms\n",
      "976:\tlearn: 0.0640240\ttotal: 1.22s\tremaining: 28.8ms\n",
      "977:\tlearn: 0.0639845\ttotal: 1.22s\tremaining: 27.5ms\n",
      "978:\tlearn: 0.0639016\ttotal: 1.22s\tremaining: 26.3ms\n",
      "979:\tlearn: 0.0637971\ttotal: 1.23s\tremaining: 25ms\n",
      "980:\tlearn: 0.0637281\ttotal: 1.23s\tremaining: 23.8ms\n",
      "981:\tlearn: 0.0636842\ttotal: 1.23s\tremaining: 22.5ms\n",
      "982:\tlearn: 0.0635859\ttotal: 1.23s\tremaining: 21.3ms\n",
      "983:\tlearn: 0.0635014\ttotal: 1.23s\tremaining: 20ms\n",
      "984:\tlearn: 0.0634206\ttotal: 1.23s\tremaining: 18.8ms\n",
      "985:\tlearn: 0.0633818\ttotal: 1.24s\tremaining: 17.7ms\n",
      "986:\tlearn: 0.0632231\ttotal: 1.24s\tremaining: 16.4ms\n",
      "987:\tlearn: 0.0631152\ttotal: 1.25s\tremaining: 15.1ms\n",
      "988:\tlearn: 0.0630644\ttotal: 1.25s\tremaining: 13.9ms\n",
      "989:\tlearn: 0.0629233\ttotal: 1.25s\tremaining: 12.6ms\n",
      "990:\tlearn: 0.0628989\ttotal: 1.25s\tremaining: 11.3ms\n",
      "991:\tlearn: 0.0628137\ttotal: 1.25s\tremaining: 10.1ms\n",
      "992:\tlearn: 0.0627912\ttotal: 1.25s\tremaining: 8.83ms\n",
      "993:\tlearn: 0.0627051\ttotal: 1.25s\tremaining: 7.57ms\n",
      "994:\tlearn: 0.0626600\ttotal: 1.25s\tremaining: 6.3ms\n",
      "995:\tlearn: 0.0625269\ttotal: 1.25s\tremaining: 5.04ms\n",
      "996:\tlearn: 0.0624696\ttotal: 1.26s\tremaining: 3.78ms\n",
      "997:\tlearn: 0.0624156\ttotal: 1.26s\tremaining: 2.52ms\n",
      "998:\tlearn: 0.0623739\ttotal: 1.26s\tremaining: 1.26ms\n",
      "999:\tlearn: 0.0623212\ttotal: 1.26s\tremaining: 0us\n"
     ]
    },
    {
     "data": {
      "text/plain": [
       "<catboost.core.CatBoostRegressor at 0x7fc0602eef70>"
      ]
     },
     "execution_count": 9,
     "metadata": {},
     "output_type": "execute_result"
    }
   ],
   "source": [
    "#Train the Model \n",
    "prior_model = ctb.CatBoostRegressor()\n",
    "prior_model.fit(X_train,Y_train)"
   ]
  },
  {
   "cell_type": "code",
   "execution_count": 10,
   "id": "af65dcda",
   "metadata": {
    "execution": {
     "iopub.execute_input": "2022-06-12T05:17:47.630482Z",
     "iopub.status.busy": "2022-06-12T05:17:47.630058Z",
     "iopub.status.idle": "2022-06-12T05:17:47.637869Z",
     "shell.execute_reply": "2022-06-12T05:17:47.638124Z"
    },
    "id": "af65dcda",
    "papermill": {
     "duration": 0.032488,
     "end_time": "2022-06-12T05:17:47.638255",
     "exception": false,
     "start_time": "2022-06-12T05:17:47.605767",
     "status": "completed"
    },
    "tags": []
   },
   "outputs": [
    {
     "data": {
      "application/scrapbook.scrap.json+json": {
       "data": 0.0738547586865069,
       "encoder": "json",
       "name": "Prior Model MSE",
       "version": 1
      }
     },
     "metadata": {
      "scrapbook": {
       "data": true,
       "display": false,
       "name": "Prior Model MSE"
      }
     },
     "output_type": "display_data"
    },
    {
     "data": {
      "application/scrapbook.scrap.json+json": {
       "data": 0.0788575735759927,
       "encoder": "json",
       "name": "ABC Pre-generator MSE",
       "version": 1
      }
     },
     "metadata": {
      "scrapbook": {
       "data": true,
       "display": false,
       "name": "ABC Pre-generator MSE"
      }
     },
     "output_type": "display_data"
    },
    {
     "data": {
      "application/scrapbook.scrap.json+json": {
       "data": 0.1908498926868949,
       "encoder": "json",
       "name": "Prior Model MSE",
       "version": 1
      }
     },
     "metadata": {
      "scrapbook": {
       "data": true,
       "display": false,
       "name": "Prior Model MSE"
      }
     },
     "output_type": "display_data"
    },
    {
     "data": {
      "application/scrapbook.scrap.json+json": {
       "data": 0.20109350051345512,
       "encoder": "json",
       "name": "ABC Pre-generator MSE",
       "version": 1
      }
     },
     "metadata": {
      "scrapbook": {
       "data": true,
       "display": false,
       "name": "ABC Pre-generator MSE"
      }
     },
     "output_type": "display_data"
    }
   ],
   "source": [
    "y_pred = prior_model.predict(X_test)\n",
    "y_abc = y_pred + np.random.normal(0,variance, y_pred.shape) + bias \n",
    "mse = mean_squared_error(y_pred,Y_test)\n",
    "sb.glue(\"Prior Model MSE\",mse)\n",
    "mse = mean_squared_error(y_abc,Y_test)\n",
    "sb.glue(\"ABC Pre-generator MSE\",mse)\n",
    "mae = mean_absolute_error(y_pred,Y_test)\n",
    "sb.glue(\"Prior Model MSE\",mae)\n",
    "mae = mean_absolute_error(y_abc,Y_test)\n",
    "sb.glue(\"ABC Pre-generator MSE\",mae)"
   ]
  },
  {
   "cell_type": "markdown",
   "id": "25609da2",
   "metadata": {
    "papermill": {
     "duration": 0.01042,
     "end_time": "2022-06-12T05:17:47.659844",
     "exception": false,
     "start_time": "2022-06-12T05:17:47.649424",
     "status": "completed"
    },
    "tags": []
   },
   "source": [
    "# ABC GAN Model"
   ]
  },
  {
   "cell_type": "code",
   "execution_count": 11,
   "id": "dfc3464d",
   "metadata": {
    "execution": {
     "iopub.execute_input": "2022-06-12T05:17:47.683969Z",
     "iopub.status.busy": "2022-06-12T05:17:47.683590Z",
     "iopub.status.idle": "2022-06-12T05:17:47.686427Z",
     "shell.execute_reply": "2022-06-12T05:17:47.686666Z"
    },
    "papermill": {
     "duration": 0.01655,
     "end_time": "2022-06-12T05:17:47.686779",
     "exception": false,
     "start_time": "2022-06-12T05:17:47.670229",
     "status": "completed"
    },
    "tags": []
   },
   "outputs": [],
   "source": [
    "gen = network.Generator(n_features+1).to(device)\n",
    "disc = network.Discriminator(n_features+1).to(device)\n",
    "\n",
    "criterion = torch.nn.BCELoss()\n",
    "gen_opt = torch.optim.Adam(gen.parameters(), lr=0.001, betas=(0.5, 0.999))\n",
    "disc_opt = torch.optim.Adam(disc.parameters(), lr=0.001, betas=(0.5, 0.999))"
   ]
  },
  {
   "cell_type": "code",
   "execution_count": 12,
   "id": "b75fdd85",
   "metadata": {
    "execution": {
     "iopub.execute_input": "2022-06-12T05:17:47.710894Z",
     "iopub.status.busy": "2022-06-12T05:17:47.710531Z",
     "iopub.status.idle": "2022-06-12T05:19:00.165851Z",
     "shell.execute_reply": "2022-06-12T05:19:00.166168Z"
    },
    "papermill": {
     "duration": 72.468809,
     "end_time": "2022-06-12T05:19:00.166300",
     "exception": false,
     "start_time": "2022-06-12T05:17:47.697491",
     "status": "completed"
    },
    "tags": []
   },
   "outputs": [
    {
     "data": {
      "image/png": "[encoded data removed]",
      "text/plain": [
       "<Figure size 432x288 with 1 Axes>"
      ]
     },
     "metadata": {
      "needs_background": "light"
     },
     "output_type": "display_data"
    },
    {
     "data": {
      "image/png": "[encoded data removed]",
      "text/plain": [
       "<Figure size 432x288 with 1 Axes>"
      ]
     },
     "metadata": {
      "needs_background": "light"
     },
     "output_type": "display_data"
    }
   ],
   "source": [
    "#Training the ABC_GAN \n",
    "ABC_train_test2.training_GAN(disc,gen,disc_opt,gen_opt,train_data,batch_size,n_epochs,criterion,prior_model,variance,bias,device)"
   ]
  },
  {
   "cell_type": "code",
   "execution_count": 13,
   "id": "1fa7c368",
   "metadata": {
    "execution": {
     "iopub.execute_input": "2022-06-12T05:19:00.192779Z",
     "iopub.status.busy": "2022-06-12T05:19:00.192395Z",
     "iopub.status.idle": "2022-06-12T05:19:00.586744Z",
     "shell.execute_reply": "2022-06-12T05:19:00.587008Z"
    },
    "papermill": {
     "duration": 0.409119,
     "end_time": "2022-06-12T05:19:00.587135",
     "exception": false,
     "start_time": "2022-06-12T05:19:00.178016",
     "status": "completed"
    },
    "tags": []
   },
   "outputs": [
    {
     "data": {
      "application/scrapbook.scrap.json+json": {
       "data": 0.07623748592078762,
       "encoder": "json",
       "name": "ABC-GAN Model 1 MSE",
       "version": 1
      }
     },
     "metadata": {
      "scrapbook": {
       "data": true,
       "display": false,
       "name": "ABC-GAN Model 1 MSE"
      }
     },
     "output_type": "display_data"
    },
    {
     "data": {
      "application/scrapbook.scrap.json+json": {
       "data": 0.2002256520428494,
       "encoder": "json",
       "name": "ABC-GAN Model 1 MAE",
       "version": 1
      }
     },
     "metadata": {
      "scrapbook": {
       "data": true,
       "display": false,
       "name": "ABC-GAN Model 1 MAE"
      }
     },
     "output_type": "display_data"
    },
    {
     "data": {
      "application/scrapbook.scrap.json+json": {
       "data": 20.423016508370637,
       "encoder": "json",
       "name": "ABC-GAN Model 1 Manhattan Distance",
       "version": 1
      }
     },
     "metadata": {
      "scrapbook": {
       "data": true,
       "display": false,
       "name": "ABC-GAN Model 1 Manhattan Distance"
      }
     },
     "output_type": "display_data"
    },
    {
     "data": {
      "application/scrapbook.scrap.json+json": {
       "data": 2.7876404643845447,
       "encoder": "json",
       "name": "ABC-GAN Model 1 Euclidean distance",
       "version": 1
      }
     },
     "metadata": {
      "scrapbook": {
       "data": true,
       "display": false,
       "name": "ABC-GAN Model 1 Euclidean distance"
      }
     },
     "output_type": "display_data"
    },
    {
     "data": {
      "application/scrapbook.scrap.json+json": {
       "data": [
        [
         0.0819109880406334,
         0.07765911218695333,
         0.07542493202547705,
         0.06869655283187386,
         0.07369435762544813,
         0.0730163569297192,
         0.07047770187731107,
         0.07668405648249195,
         0.07346680248438715,
         0.07661918804657182,
         0.07571192741396382,
         0.0764091340848666,
         0.08015030859118241,
         0.07255419079436436,
         0.07744561370690324,
         0.07762356259319125,
         0.07563267172891866,
         0.07318261761526562,
         0.07885415905460652,
         0.07696434523284262,
         0.07810240758647585,
         0.06814043571504616,
         0.08504838352531097,
         0.08280710136886955,
         0.07759357034749184,
         0.079619136389685,
         0.07895382556323666,
         0.06981990919138939,
         0.07091621989170795,
         0.08097533695428409,
         0.07549542682492652,
         0.0722051045664752,
         0.07451381889041309,
         0.07333945403290443,
         0.07106807462618567,
         0.07524334745801825,
         0.07645836471961108,
         0.07380398493716193,
         0.0757355980846675,
         0.0738572862939002,
         0.07725555944742865,
         0.07537564036971431,
         0.08148591433751429,
         0.07222252656474633,
         0.0785464865418683,
         0.07308537031508734,
         0.07834498230086331,
         0.08039256775718451,
         0.07725775354487566,
         0.07945510261674558,
         0.06946042597760159,
         0.07589646107192781,
         0.0823303924094732,
         0.07591469832438794,
         0.07693422098795082,
         0.07040278009999397,
         0.06337997578047558,
         0.07864416093666918,
         0.07345067224170894,
         0.07422022474513358,
         0.07689975317262134,
         0.0816698450991332,
         0.07520655620779579,
         0.08625205524486265,
         0.07601898229755023,
         0.08192579357586954,
         0.07448679697164971,
         0.0688711561945333,
         0.07590933591063564,
         0.08280293312206258,
         0.07920243405444527,
         0.07664457184658177,
         0.07300303585621615,
         0.08128479009202279,
         0.06892220492972559,
         0.08033954964954683,
         0.07405520735675544,
         0.07402761571166201,
         0.07767916174027677,
         0.08292676940645637,
         0.0730289407512741,
         0.08095172273332504,
         0.07866168558279037,
         0.0773277292161907,
         0.07394367362094607,
         0.07325942978982458,
         0.07485257711811846,
         0.07303080121959697,
         0.07394304840122155,
         0.07937407477820213,
         0.07181639999668908,
         0.07823561528603125,
         0.07587768286386996,
         0.0791402221751099,
         0.07559431951529065,
         0.08013550285343304,
         0.0776647706568902,
         0.07961483748561822,
         0.08051302315371373,
         0.07872270375413931
        ],
        [
         0.2095588467120394,
         0.2055192140807562,
         0.20053456960172922,
         0.19140792180619695,
         0.201705432542618,
         0.19354069962476692,
         0.19017989625789078,
         0.19831741512661763,
         0.19875546061780816,
         0.20165474810546227,
         0.19944017810527892,
         0.19913686420220664,
         0.20417366639765747,
         0.19058619120943487,
         0.19673960224049641,
         0.1962023284560179,
         0.19703789876189595,
         0.19813749846984066,
         0.20726085329136135,
         0.201430731936924,
         0.19869822712030774,
         0.19647557703851193,
         0.21037872328295135,
         0.20862071478155023,
         0.20310543746888346,
         0.20422939349002406,
         0.2089740322701925,
         0.18732226021843507,
         0.19819383431846896,
         0.2086989390846415,
         0.19410728015845605,
         0.19422991960035527,
         0.20056724277160623,
         0.1961463820463156,
         0.1916177888839122,
         0.20322138526677794,
         0.203027473607411,
         0.19628619836351158,
         0.1992561300650385,
         0.194547447238994,
         0.20497204515827344,
         0.20420194861899113,
         0.208488696227398,
         0.1961619142059456,
         0.20042471024299077,
         0.19604006350296094,
         0.2070191056905862,
         0.2088332443826777,
         0.1957841419030492,
         0.20272180605131915,
         0.19444517929143473,
         0.2013436045187215,
         0.20582397741393424,
         0.1979598317788366,
         0.1962276992899384,
         0.19453152790483014,
         0.18304088027855636,
         0.2013096341808491,
         0.1949806285602059,
         0.1971752470742692,
         0.19823364624023146,
         0.20212847734892778,
         0.19343624420135336,
         0.21144105328758264,
         0.19901223552833294,
         0.20731588777191207,
         0.1988127383074778,
         0.1968467525827388,
         0.2047913699666513,
         0.2057488617925521,
         0.20478495297149993,
         0.2058394642857214,
         0.19510023594450424,
         0.1998093856735995,
         0.19282663904824385,
         0.21154102123360716,
         0.19595763725502527,
         0.1975105999713289,
         0.20467291702059845,
         0.2073932898084761,
         0.19322184158269973,
         0.20628275670220747,
         0.2037611087218073,
         0.2052492034329357,
         0.19351253792753115,
         0.19726825665280806,
         0.20172034875106284,
         0.19636174933254427,
         0.19907312740699626,
         0.20697853483223155,
         0.19572914295884616,
         0.20445822598412633,
         0.20170112154172623,
         0.20684010286212845,
         0.1932284340682421,
         0.20529277702136076,
         0.19688068446246723,
         0.20180634572627207,
         0.20794514854274251,
         0.20154005463472477
        ],
        [
         21.375002364628017,
         20.962959836237133,
         20.45452609937638,
         19.52360802423209,
         20.573954119347036,
         19.741151361726224,
         19.39834941830486,
         20.228376342915,
         20.27305698301643,
         20.568784306757152,
         20.34289816673845,
         20.311960148625076,
         20.82571397256106,
         19.439791503362358,
         20.067439428530633,
         20.012637502513826,
         20.097865673713386,
         20.210024843923748,
         21.14060703571886,
         20.54593465756625,
         20.26721916627139,
         20.040508857928216,
         21.458629774861038,
         21.279312907718122,
         20.716754621826112,
         20.831398135982454,
         21.315351291559637,
         19.106870542280376,
         20.215771100483835,
         21.287291786633432,
         19.798942576162517,
         19.811451799236238,
         20.457858762703836,
         20.00693096872419,
         19.545014466159046,
         20.72858129721135,
         20.70880230795592,
         20.02119223307818,
         20.324125266633928,
         19.843839618377388,
         20.907148606143892,
         20.828598759137094,
         21.265847015194595,
         20.00851524900645,
         20.44332044478506,
         19.996086477302015,
         21.115948780439794,
         21.300990927033126,
         19.96998247411102,
         20.677624217234552,
         19.833408287726343,
         20.537047660909593,
         20.994045696221292,
         20.191902841441333,
         20.015225327573717,
         19.842215846292675,
         18.67016978841275,
         20.533582686446607,
         19.888024113141,
         20.111875201575458,
         20.21983191650361,
         20.617104689590633,
         19.730496908538043,
         21.56698743533343,
         20.29924802388996,
         21.14622055273503,
         20.278899307362735,
         20.078368763439357,
         20.888719736598432,
         20.986383902840316,
         20.888065203092992,
         20.99562535714358,
         19.900224066339433,
         20.38055733870715,
         19.668317182920873,
         21.57718416582793,
         19.987679000012577,
         20.146081197075546,
         20.876637536101043,
         21.15411556046456,
         19.708627841435373,
         21.04084118362516,
         20.783633089624345,
         20.935418750159442,
         19.738278868608177,
         20.121362178586423,
         20.57547557260841,
         20.028898431919515,
         20.305458995513618,
         21.11181055288762,
         19.96437258180231,
         20.854739050380886,
         20.573514397256076,
         21.0976904919371,
         19.709300274960697,
         20.939863256178796,
         20.08182981517166,
         20.58424726407975,
         21.210405151359737,
         20.557085572741926
        ],
        [
         2.8904879830479495,
         2.8144678792036766,
         2.773687629600467,
         2.647082996215104,
         2.741682782124094,
         2.7290416645466147,
         2.681179887938467,
         2.7967434206973976,
         2.7374465937087233,
         2.79556026240722,
         2.778959624792039,
         2.7917255733070174,
         2.859253657215569,
         2.7203910492841215,
         2.8105964843968856,
         2.8138236235602094,
         2.7775047284117633,
         2.732146957386643,
         2.8360402365921864,
         2.8018499627478177,
         2.822489251320638,
         2.6363467986846323,
         2.9453242808868625,
         2.9062560691764054,
         2.8132799674835365,
         2.849763483475053,
         2.8378319554635607,
         2.6686383676927297,
         2.6895082132156074,
         2.8739318658132755,
         2.774983519976741,
         2.7138387324563835,
         2.7568840249132958,
         2.73507299927374,
         2.6923862300700727,
         2.7703468087439633,
         2.7926247870776213,
         2.7437212802306497,
         2.7793939995322874,
         2.744711861375948,
         2.8071457147140975,
         2.772781152148662,
         2.882978193193014,
         2.714166116803488,
         2.830502009762679,
         2.730331073723278,
         2.826868973738977,
         2.8635715306646032,
         2.8071855766189233,
         2.8468263851011444,
         2.661759465037245,
         2.782344160835722,
         2.8978785388221966,
         2.782678427179032,
         2.8013015797609127,
         2.6797543861703788,
         2.5425887456701504,
         2.8322613607399054,
         2.7371460627183035,
         2.751447423448906,
         2.800673994524778,
         2.8862301017263996,
         2.7696694266997226,
         2.966093328770352,
         2.7845890530471684,
         2.890749201286527,
         2.7563840971657543,
         2.650444855461512,
         2.7825801449167344,
         2.906182922400168,
         2.8422963029130894,
         2.7960233061173403,
         2.7287927105835736,
         2.8794180990933436,
         2.651426955967675,
         2.8626271263043988,
         2.748387008845198,
         2.7478749612363234,
         2.814831166785715,
         2.9083552876941545,
         2.7292768193479304,
         2.8735127838238603,
         2.8325769061835935,
         2.808456583259113,
         2.7463165712161626,
         2.733580406456358,
         2.7631436564261516,
         2.7293115843375033,
         2.7463049606561536,
         2.845374426569659,
         2.7065241176945545,
         2.824895176670311,
         2.7819999374756885,
         2.841179801044139,
         2.776800423249688,
         2.8589895577021904,
         2.8145704125146347,
         2.8496865482949274,
         2.8657160294905006,
         2.83367531360285
        ]
       ],
       "encoder": "json",
       "name": "ABC_GAN_1 Metrics",
       "version": 1
      }
     },
     "metadata": {
      "scrapbook": {
       "data": true,
       "display": false,
       "name": "ABC_GAN_1 Metrics"
      }
     },
     "output_type": "display_data"
    },
    {
     "name": "stdout",
     "output_type": "stream",
     "text": [
      "MSE\n",
      "0.07623748592078762\n"
     ]
    }
   ],
   "source": [
    "ABC_GAN1_metrics=ABC_train_test2.test_generator(gen,test_data,prior_model,variance,bias,\"1\",device)\n",
    "sb.glue(\"ABC_GAN_1 Metrics\",ABC_GAN1_metrics)\n",
    "\n",
    "print(\"MSE\")\n",
    "print(mean(ABC_GAN1_metrics[0]))"
   ]
  },
  {
   "cell_type": "code",
   "execution_count": 14,
   "id": "eb22ce5c",
   "metadata": {
    "execution": {
     "iopub.execute_input": "2022-06-12T05:19:00.617395Z",
     "iopub.status.busy": "2022-06-12T05:19:00.616998Z",
     "iopub.status.idle": "2022-06-12T05:19:00.956645Z",
     "shell.execute_reply": "2022-06-12T05:19:00.957019Z"
    },
    "papermill": {
     "duration": 0.356284,
     "end_time": "2022-06-12T05:19:00.957147",
     "exception": false,
     "start_time": "2022-06-12T05:19:00.600863",
     "status": "completed"
    },
    "tags": []
   },
   "outputs": [
    {
     "data": {
      "image/png": "[encoded data removed]",
      "text/plain": [
       "<Figure size 432x288 with 1 Axes>"
      ]
     },
     "metadata": {
      "needs_background": "light"
     },
     "output_type": "display_data"
    },
    {
     "data": {
      "image/png": "[encoded data removed]",
      "text/plain": [
       "<Figure size 432x288 with 1 Axes>"
      ]
     },
     "metadata": {
      "needs_background": "light"
     },
     "output_type": "display_data"
    },
    {
     "data": {
      "image/png": "[encoded data removed]",
      "text/plain": [
       "<Figure size 432x288 with 1 Axes>"
      ]
     },
     "metadata": {
      "needs_background": "light"
     },
     "output_type": "display_data"
    },
    {
     "data": {
      "image/png": "[encoded data removed]",
      "text/plain": [
       "<Figure size 432x288 with 1 Axes>"
      ]
     },
     "metadata": {
      "needs_background": "light"
     },
     "output_type": "display_data"
    }
   ],
   "source": [
    "sanityChecks.discProbVsError(train_data,disc,device)\n",
    "sanityChecks.discProbVsError(test_data,disc,device)"
   ]
  },
  {
   "cell_type": "markdown",
   "id": "130f3a4d",
   "metadata": {
    "id": "130f3a4d",
    "papermill": {
     "duration": 0.015973,
     "end_time": "2022-06-12T05:19:00.988674",
     "exception": false,
     "start_time": "2022-06-12T05:19:00.972701",
     "status": "completed"
    },
    "tags": []
   },
   "source": [
    "# ABC - GAN Model with skip connection"
   ]
  },
  {
   "cell_type": "code",
   "execution_count": 15,
   "id": "4e43dad1",
   "metadata": {
    "execution": {
     "iopub.execute_input": "2022-06-12T05:19:01.023279Z",
     "iopub.status.busy": "2022-06-12T05:19:01.022898Z",
     "iopub.status.idle": "2022-06-12T05:19:01.025350Z",
     "shell.execute_reply": "2022-06-12T05:19:01.025604Z"
    },
    "id": "4e43dad1",
    "papermill": {
     "duration": 0.021046,
     "end_time": "2022-06-12T05:19:01.025734",
     "exception": false,
     "start_time": "2022-06-12T05:19:01.004688",
     "status": "completed"
    },
    "tags": []
   },
   "outputs": [],
   "source": [
    "#Generator\n",
    "gen3 = network.GeneratorWithSkipConnection(n_features+1).to(device)\n",
    "constraints=network.weightConstraint()\n",
    "#Discriminator \n",
    "disc3 = network.Discriminator(n_features+1).to(device)\n",
    "\n",
    "criterion = torch.nn.BCELoss()\n",
    "gen_opt = torch.optim.Adam(gen3.parameters(), lr=0.001, betas=(0.5, 0.999))\n",
    "disc_opt = torch.optim.Adam(disc3.parameters(), lr=0.001, betas=(0.5, 0.999))\n"
   ]
  },
  {
   "cell_type": "code",
   "execution_count": 16,
   "id": "26acbc37",
   "metadata": {
    "execution": {
     "iopub.execute_input": "2022-06-12T05:19:01.059937Z",
     "iopub.status.busy": "2022-06-12T05:19:01.059558Z",
     "iopub.status.idle": "2022-06-12T05:22:15.269002Z",
     "shell.execute_reply": "2022-06-12T05:22:15.269345Z"
    },
    "id": "26acbc37",
    "papermill": {
     "duration": 194.228315,
     "end_time": "2022-06-12T05:22:15.269516",
     "exception": false,
     "start_time": "2022-06-12T05:19:01.041201",
     "status": "completed"
    },
    "tags": []
   },
   "outputs": [
    {
     "data": {
      "image/png": "[encoded data removed]",
      "text/plain": [
       "<Figure size 432x288 with 1 Axes>"
      ]
     },
     "metadata": {
      "needs_background": "light"
     },
     "output_type": "display_data"
    },
    {
     "data": {
      "image/png": "[encoded data removed]",
      "text/plain": [
       "<Figure size 432x288 with 1 Axes>"
      ]
     },
     "metadata": {
      "needs_background": "light"
     },
     "output_type": "display_data"
    }
   ],
   "source": [
    "ABC_train_test2.training_GAN_skip_connection(disc3,gen3,disc_opt,gen_opt,train_data,batch_size,n_epochs,criterion,prior_model,variance,bias,device)"
   ]
  },
  {
   "cell_type": "code",
   "execution_count": 17,
   "id": "c5e0717b",
   "metadata": {
    "execution": {
     "iopub.execute_input": "2022-06-12T05:22:15.311709Z",
     "iopub.status.busy": "2022-06-12T05:22:15.311308Z",
     "iopub.status.idle": "2022-06-12T05:22:16.162403Z",
     "shell.execute_reply": "2022-06-12T05:22:16.162709Z"
    },
    "id": "c5e0717b",
    "papermill": {
     "duration": 0.876223,
     "end_time": "2022-06-12T05:22:16.162828",
     "exception": false,
     "start_time": "2022-06-12T05:22:15.286605",
     "status": "completed"
    },
    "tags": []
   },
   "outputs": [
    {
     "data": {
      "application/scrapbook.scrap.json+json": {
       "data": 0.06889876488580361,
       "encoder": "json",
       "name": "ABC-GAN Model 3 MSE",
       "version": 1
      }
     },
     "metadata": {
      "scrapbook": {
       "data": true,
       "display": false,
       "name": "ABC-GAN Model 3 MSE"
      }
     },
     "output_type": "display_data"
    },
    {
     "data": {
      "application/scrapbook.scrap.json+json": {
       "data": 0.18036418556989006,
       "encoder": "json",
       "name": "ABC-GAN Model 3 MAE",
       "version": 1
      }
     },
     "metadata": {
      "scrapbook": {
       "data": true,
       "display": false,
       "name": "ABC-GAN Model 3 MAE"
      }
     },
     "output_type": "display_data"
    },
    {
     "data": {
      "application/scrapbook.scrap.json+json": {
       "data": 18.397146928128787,
       "encoder": "json",
       "name": "ABC-GAN Model 3 Manhattan Distance",
       "version": 1
      }
     },
     "metadata": {
      "scrapbook": {
       "data": true,
       "display": false,
       "name": "ABC-GAN Model 3 Manhattan Distance"
      }
     },
     "output_type": "display_data"
    },
    {
     "data": {
      "application/scrapbook.scrap.json+json": {
       "data": 2.649512470812421,
       "encoder": "json",
       "name": "ABC-GAN Model 3 Euclidean distance",
       "version": 1
      }
     },
     "metadata": {
      "scrapbook": {
       "data": true,
       "display": false,
       "name": "ABC-GAN Model 3 Euclidean distance"
      }
     },
     "output_type": "display_data"
    },
    {
     "data": {
      "application/scrapbook.scrap.json+json": {
       "data": [
        [
         0.0736028384215201,
         0.07775731573132887,
         0.0623572157372052,
         0.07292179897209942,
         0.0752013852821125,
         0.06945379307565262,
         0.062193229083423875,
         0.06788635689164302,
         0.07876641912484357,
         0.06546201991500906,
         0.0695276756906784,
         0.06716909628840063,
         0.06827028243568597,
         0.06954762132579868,
         0.06800324365591241,
         0.06602118337808029,
         0.06947660666723281,
         0.07537755472832083,
         0.061863195511244785,
         0.06202690657341121,
         0.07144672809645239,
         0.06773485273577022,
         0.0781965962354432,
         0.06656588887071757,
         0.07223793965683893,
         0.0609672176452286,
         0.0677081214829884,
         0.07174122376065073,
         0.06463897650573672,
         0.06959892214816848,
         0.06877612535743768,
         0.06576035147043073,
         0.07050551878453822,
         0.0729987961440339,
         0.06615328768037498,
         0.07453581998431026,
         0.06712811441709332,
         0.0738739452112057,
         0.06677920427037767,
         0.07900854548537882,
         0.06429370452494267,
         0.07142383160051824,
         0.06156468884171868,
         0.059872915780707435,
         0.05946941254895841,
         0.06919088259987294,
         0.06817316985265862,
         0.06234445347343243,
         0.06467279540218501,
         0.0672884660501615,
         0.06861105044298091,
         0.07540742735973242,
         0.06413784190686629,
         0.06806193875979973,
         0.06492189426590794,
         0.07234937201370377,
         0.06589330233265542,
         0.0695395618701576,
         0.06724397685846392,
         0.07074631049623979,
         0.06379490955759977,
         0.07141758707463947,
         0.06995052369403794,
         0.06658021897436255,
         0.06764205704532625,
         0.07004008024099807,
         0.05942246421680861,
         0.0700986009817435,
         0.06902342582298829,
         0.06746168969737174,
         0.06579493432336617,
         0.07075916147221588,
         0.06807198606513296,
         0.0679022512670876,
         0.07275230192354792,
         0.06894492212740803,
         0.07515015399724541,
         0.07217845039961561,
         0.06623493698075608,
         0.0707146704856546,
         0.07478283928461407,
         0.0644666216315213,
         0.06586147861496748,
         0.06153797361667653,
         0.07352608437157394,
         0.08305355225132682,
         0.07258203433672276,
         0.06711228452140161,
         0.0674089884413873,
         0.07509282555130517,
         0.07804306812815094,
         0.06654308217192202,
         0.06451828267219281,
         0.07074579139439631,
         0.06835408259000793,
         0.06558324666040101,
         0.07074426683178274,
         0.07200624753670672,
         0.07251865105606192,
         0.06701084915489154
        ],
        [
         0.18172466085639363,
         0.18672308678209198,
         0.17368804779378513,
         0.18654343709532245,
         0.19523644981467547,
         0.17451045549858143,
         0.17201921580286295,
         0.16822709061899313,
         0.18469949148814468,
         0.17726718875415184,
         0.18108281090526895,
         0.1823706052302584,
         0.17916560230557532,
         0.17792814804752374,
         0.18136281964789128,
         0.17663621643156396,
         0.18182016895426548,
         0.19115810023675509,
         0.177895065826163,
         0.16926970271685837,
         0.1791833352352328,
         0.17771138402395972,
         0.18737605864218637,
         0.17973582724145815,
         0.17902054018158392,
         0.17345766545109012,
         0.17903312928426793,
         0.1829091599302403,
         0.16936675149618702,
         0.17848215894043154,
         0.18185944767559276,
         0.18119806481306167,
         0.18470872198140212,
         0.1866671751508964,
         0.1767711809507626,
         0.18424581476103732,
         0.17656730465116163,
         0.19216441902715495,
         0.1775436175932341,
         0.1875060958075611,
         0.18314024155009903,
         0.18653993457373158,
         0.1637539083740729,
         0.16171065144533037,
         0.16512999291915229,
         0.18714617431967281,
         0.17762644555164026,
         0.17686714771587184,
         0.18063464884043617,
         0.185280198879613,
         0.1843356336466968,
         0.18888886492955043,
         0.17070046941037564,
         0.1733624442370937,
         0.17339868011756562,
         0.18257961796103594,
         0.17573887742507985,
         0.17642834905863686,
         0.18012459564260117,
         0.17906105002461403,
         0.1709138079473347,
         0.18157124025381954,
         0.18014194185425544,
         0.18247375088542991,
         0.18278441126184428,
         0.1862990765868887,
         0.17288315950838082,
         0.1908607229992163,
         0.18720285179020435,
         0.18524879166929453,
         0.17379320631095885,
         0.1840986836902505,
         0.17992622393420807,
         0.18247191877305216,
         0.17945989645907984,
         0.1835861618301886,
         0.18291051681244783,
         0.18794241999549902,
         0.1763481327478646,
         0.18072818799455667,
         0.1896956792356921,
         0.1748008223378337,
         0.17784680036243564,
         0.17872101706726587,
         0.18084842305374788,
         0.19256108379283665,
         0.18897724320527678,
         0.18071650214237617,
         0.17926799725996806,
         0.18527458461147606,
         0.19066803370072855,
         0.1738111768922239,
         0.17680338531842127,
         0.1843074500359887,
         0.17905498112497084,
         0.17882383507950342,
         0.18512791839848255,
         0.17576516780308357,
         0.1866974729368938,
         0.1777197350565271
        ],
        [
         18.53591540735215,
         19.04575485177338,
         17.716180874966085,
         19.02743058372289,
         19.9141178810969,
         17.800066460855305,
         17.54596001189202,
         17.1591632431373,
         18.839348131790757,
         18.08125325292349,
         18.470446712337434,
         18.601801733486354,
         18.274891435168684,
         18.148671100847423,
         18.49900760408491,
         18.016894076019526,
         18.545657233335078,
         19.49812622414902,
         18.145296714268625,
         17.265509677119553,
         18.276700193993747,
         18.126561170443892,
         19.11235798150301,
         18.33305437862873,
         18.26009509852156,
         17.692681876011193,
         18.261379186995327,
         18.65673431288451,
         17.275408652611077,
         18.205180211924016,
         18.54966366291046,
         18.48220261093229,
         18.840289642103016,
         19.040051865391433,
         18.030660456977785,
         18.79307310562581,
         18.009865074418485,
         19.600770740769804,
         18.109448994509876,
         19.125621772371233,
         18.6803046381101,
         19.027073326520622,
         16.702898654155433,
         16.494486447423697,
         16.843259277753532,
         19.088909780606627,
         18.117897446267307,
         18.040449067018926,
         18.42473418172449,
         18.898580285720527,
         18.802234631963074,
         19.266664222814143,
         17.411447879858315,
         17.68296931218356,
         17.686665371991694,
         18.623121032025665,
         17.925365497358143,
         17.99569160398096,
         18.372708755545318,
         18.26422710251063,
         17.43320841062814,
         18.520266505889595,
         18.374478069134057,
         18.612322590313852,
         18.644009948708117,
         19.002505811862648,
         17.634082269854844,
         19.467793745920062,
         19.094690882600844,
         18.895376750268042,
         17.7269070437178,
         18.77806573640555,
         18.352474841289222,
         18.61213571485132,
         18.304909438826144,
         18.725788506679237,
         18.656872714869678,
         19.1701268395409,
         17.98750954028219,
         18.434275175444782,
         19.348959282040596,
         17.829683878459036,
         18.140373636968434,
         18.229543740861118,
         18.446539151482284,
         19.641230546869338,
         19.27567880693823,
         18.43308321852237,
         18.28533572051674,
         18.898007630370557,
         19.44813943747431,
         17.728740043006837,
         18.03394530247897,
         18.799359903670847,
         18.263608074747026,
         18.240031178109348,
         18.88304767664522,
         17.928047115914524,
         19.043142239563167,
         18.127412975765765
        ],
        [
         2.739979839158502,
         2.816246829486994,
         2.5219904847550336,
         2.727274004414324,
         2.7695742089309454,
         2.6616323738857264,
         2.5186721435131716,
         2.6314270658613337,
         2.8344619861155382,
         2.584013550918595,
         2.663047675211467,
         2.6174888388332938,
         2.6388574816461707,
         2.6634296264837682,
         2.6336914877986493,
         2.5950261471831437,
         2.662069473183926,
         2.7728163628860685,
         2.511980482039414,
         2.515302063468311,
         2.699549270866924,
         2.628489105750405,
         2.8241906479583148,
         2.605709244104797,
         2.7144557180027027,
         2.4937233607225395,
         2.627970393909493,
         2.705107174140495,
         2.5677179758659525,
         2.6644117660589144,
         2.648615635848026,
         2.589894949603928,
         2.6817089543839203,
         2.7287134709770204,
         2.597621093115439,
         2.757290996322232,
         2.6166902129490834,
         2.7450213863543906,
         2.609881000271568,
         2.838815182344324,
         2.5608510033862086,
         2.6991166746276196,
         2.505912660460317,
         2.4712420783144977,
         2.462900745055261,
         2.656589924167266,
         2.6369799629445767,
         2.5217323914900462,
         2.5683895987608403,
         2.6198136454939833,
         2.645435152330152,
         2.7733657513376606,
         2.557745076136471,
         2.6348278413398423,
         2.5733311514693575,
         2.7165485354393697,
         2.592511685206231,
         2.663275297590558,
         2.6189474297059343,
         2.6862843614584917,
         2.550898033021935,
         2.698998681291495,
         2.6711333581069794,
         2.6059897036222117,
         2.626687994152194,
         2.6728427160201185,
         2.461928380378779,
         2.673959105921001,
         2.6533732179896603,
         2.6231836285574666,
         2.5905758628118476,
         2.686528330423117,
         2.635022310843603,
         2.631735098607558,
         2.7241025671222237,
         2.651863883572387,
         2.768630655706722,
         2.7133377859678274,
         2.5992236479451165,
         2.685683598180688,
         2.761856188694595,
         2.5642923792764294,
         2.5918855720742537,
         2.5053688967696965,
         2.738550822223415,
         2.910577662532875,
         2.7209129905871157,
         2.6163816658092838,
         2.622158809267948,
         2.7675744265029487,
         2.8214168336265724,
         2.605262823888608,
         2.565319635554928,
         2.68627450611966,
         2.640476552476997,
         2.5864050648266415,
         2.6862455615304124,
         2.710099121571771,
         2.7197246933684878,
         2.614403682256996
        ]
       ],
       "encoder": "json",
       "name": "ABC_GAN_3 Metrics",
       "version": 1
      }
     },
     "metadata": {
      "scrapbook": {
       "data": true,
       "display": false,
       "name": "ABC_GAN_3 Metrics"
      }
     },
     "output_type": "display_data"
    },
    {
     "name": "stdout",
     "output_type": "stream",
     "text": [
      "MSE\n",
      "0.06889876488580361\n"
     ]
    }
   ],
   "source": [
    "ABC_GAN3_metrics=ABC_train_test2.test_generator(gen3,test_data,prior_model,variance,bias,\"3\",device)\n",
    "sb.glue(\"ABC_GAN_3 Metrics\",ABC_GAN3_metrics)\n",
    "\n",
    "print(\"MSE\")\n",
    "print(mean(ABC_GAN3_metrics[0]))"
   ]
  },
  {
   "cell_type": "code",
   "execution_count": 18,
   "id": "c8e46b48",
   "metadata": {
    "execution": {
     "iopub.execute_input": "2022-06-12T05:22:16.201707Z",
     "iopub.status.busy": "2022-06-12T05:22:16.201337Z",
     "iopub.status.idle": "2022-06-12T05:22:16.528817Z",
     "shell.execute_reply": "2022-06-12T05:22:16.529065Z"
    },
    "id": "c8e46b48",
    "papermill": {
     "duration": 0.348426,
     "end_time": "2022-06-12T05:22:16.529187",
     "exception": false,
     "start_time": "2022-06-12T05:22:16.180761",
     "status": "completed"
    },
    "tags": []
   },
   "outputs": [
    {
     "data": {
      "image/png": "[encoded data removed]",
      "text/plain": [
       "<Figure size 432x288 with 1 Axes>"
      ]
     },
     "metadata": {
      "needs_background": "light"
     },
     "output_type": "display_data"
    },
    {
     "data": {
      "image/png": "[encoded data removed]",
      "text/plain": [
       "<Figure size 432x288 with 1 Axes>"
      ]
     },
     "metadata": {
      "needs_background": "light"
     },
     "output_type": "display_data"
    },
    {
     "data": {
      "image/png": "[encoded data removed]",
      "text/plain": [
       "<Figure size 432x288 with 1 Axes>"
      ]
     },
     "metadata": {
      "needs_background": "light"
     },
     "output_type": "display_data"
    },
    {
     "data": {
      "image/png": "[encoded data removed]",
      "text/plain": [
       "<Figure size 432x288 with 1 Axes>"
      ]
     },
     "metadata": {
      "needs_background": "light"
     },
     "output_type": "display_data"
    }
   ],
   "source": [
    "sanityChecks.discProbVsError(train_data,disc3,device)\n",
    "sanityChecks.discProbVsError(test_data,disc3,device)"
   ]
  },
  {
   "cell_type": "markdown",
   "id": "a5bd74c3",
   "metadata": {
    "id": "a5bd74c3",
    "papermill": {
     "duration": 0.020285,
     "end_time": "2022-06-12T05:22:16.569916",
     "exception": false,
     "start_time": "2022-06-12T05:22:16.549631",
     "status": "completed"
    },
    "tags": []
   },
   "source": [
    "## Skip Connection Model Analysis - ABC-GAN "
   ]
  },
  {
   "cell_type": "markdown",
   "id": "5744a8bf",
   "metadata": {
    "id": "5744a8bf",
    "papermill": {
     "duration": 0.019567,
     "end_time": "2022-06-12T05:22:16.609137",
     "exception": false,
     "start_time": "2022-06-12T05:22:16.589570",
     "status": "completed"
    },
    "tags": []
   },
   "source": [
    "### Weight Analysis \n",
    "\n",
    "Study the weights of the skip connection layer\n",
    "\n",
    "Equation of the skip connection is \n",
    "\n",
    "$output = y_{gan} * w + y_{abc} * (1-w)$"
   ]
  },
  {
   "cell_type": "code",
   "execution_count": 19,
   "id": "52c31dea",
   "metadata": {
    "execution": {
     "iopub.execute_input": "2022-06-12T05:22:16.653187Z",
     "iopub.status.busy": "2022-06-12T05:22:16.652738Z",
     "iopub.status.idle": "2022-06-12T05:22:16.666352Z",
     "shell.execute_reply": "2022-06-12T05:22:16.666598Z"
    },
    "id": "52c31dea",
    "papermill": {
     "duration": 0.037978,
     "end_time": "2022-06-12T05:22:16.666714",
     "exception": false,
     "start_time": "2022-06-12T05:22:16.628736",
     "status": "completed"
    },
    "tags": []
   },
   "outputs": [
    {
     "name": "stdout",
     "output_type": "stream",
     "text": [
      "Weight of the node at skip connection\n",
      "Parameter containing:\n",
      "tensor([[0.2445]], requires_grad=True)\n"
     ]
    },
    {
     "data": {
      "application/scrapbook.scrap.json+json": {
       "data": 0.24454432725906372,
       "encoder": "json",
       "name": "Skip Connection Weight",
       "version": 1
      }
     },
     "metadata": {
      "scrapbook": {
       "data": true,
       "display": false,
       "name": "Skip Connection Weight"
      }
     },
     "output_type": "display_data"
    }
   ],
   "source": [
    "print(\"Weight of the node at skip connection\")\n",
    "for name,param in gen3.named_parameters():\n",
    "    if(name == \"skipNode.weight\"):\n",
    "        print(param)\n",
    "        sb.glue(\"Skip Connection Weight\",param.item())"
   ]
  }
 ],
 "metadata": {
  "colab": {
   "collapsed_sections": [],
   "name": "ABC_GAN_Model-Catboost_Pre-gen.ipynb",
   "provenance": []
  },
  "interpreter": {
   "hash": "31f2aee4e71d21fbe5cf8b01ff0e069b9275f58929596ceb00d14d90e3e16cd6"
  },
  "kernelspec": {
   "display_name": "Python 3 (ipykernel)",
   "language": "python",
   "name": "python3"
  },
  "language_info": {
   "codemirror_mode": {
    "name": "ipython",
    "version": 3
   },
   "file_extension": ".py",
   "mimetype": "text/x-python",
   "name": "python",
   "nbconvert_exporter": "python",
   "pygments_lexer": "ipython3",
   "version": "3.8.11"
  },
  "papermill": {
   "default_parameters": {},
   "duration": 273.925345,
   "end_time": "2022-06-12T05:22:17.096254",
   "environment_variables": {},
   "exception": null,
   "input_path": "ABC_GAN-Catboost.ipynb",
   "output_path": "./ABC_GAN_Catboost/ABC-GAN_output_5_7.ipynb",
   "parameters": {
    "bias": 0.01,
    "variance": 0.1
   },
   "start_time": "2022-06-12T05:17:43.170909",
   "version": "2.3.3"
  }
 },
 "nbformat": 4,
 "nbformat_minor": 5
}