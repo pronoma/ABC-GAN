{
 "cells": [
  {
   "cell_type": "markdown",
   "id": "622780e6",
   "metadata": {
    "id": "622780e6",
    "papermill": {
     "duration": 0.010749,
     "end_time": "2022-06-11T17:47:52.223500",
     "exception": false,
     "start_time": "2022-06-11T17:47:52.212751",
     "status": "completed"
    },
    "tags": []
   },
   "source": [
    "## Import Libraries "
   ]
  },
  {
   "cell_type": "code",
   "execution_count": 1,
   "id": "a62397e3",
   "metadata": {
    "execution": {
     "iopub.execute_input": "2022-06-11T17:47:52.246346Z",
     "iopub.status.busy": "2022-06-11T17:47:52.245905Z",
     "iopub.status.idle": "2022-06-11T17:47:52.247893Z",
     "shell.execute_reply": "2022-06-11T17:47:52.248143Z"
    },
    "id": "a62397e3",
    "papermill": {
     "duration": 0.015973,
     "end_time": "2022-06-11T17:47:52.248317",
     "exception": false,
     "start_time": "2022-06-11T17:47:52.232344",
     "status": "completed"
    },
    "tags": []
   },
   "outputs": [],
   "source": [
    "import warnings\n",
    "import sys\n",
    "sys.path.insert(0, '../../src')\n",
    "warnings.filterwarnings('ignore')"
   ]
  },
  {
   "cell_type": "code",
   "execution_count": 2,
   "id": "d6a4e155",
   "metadata": {
    "execution": {
     "iopub.execute_input": "2022-06-11T17:47:52.266201Z",
     "iopub.status.busy": "2022-06-11T17:47:52.265774Z",
     "iopub.status.idle": "2022-06-11T17:47:54.138901Z",
     "shell.execute_reply": "2022-06-11T17:47:54.139158Z"
    },
    "id": "d6a4e155",
    "papermill": {
     "duration": 1.883138,
     "end_time": "2022-06-11T17:47:54.139281",
     "exception": false,
     "start_time": "2022-06-11T17:47:52.256143",
     "status": "completed"
    },
    "tags": []
   },
   "outputs": [],
   "source": [
    "import ABC_train_test2\n",
    "import bostonDataset\n",
    "import network\n",
    "import dataset\n",
    "import sanityChecks\n",
    "import torch \n",
    "import scrapbook as sb\n",
    "from statistics import mean \n",
    "import catboost as ctb \n",
    "from sklearn.model_selection import train_test_split\n",
    "from sklearn.metrics import mean_squared_error,mean_absolute_error\n",
    "import numpy as np"
   ]
  },
  {
   "cell_type": "markdown",
   "id": "2fa5b0f7",
   "metadata": {
    "id": "2fa5b0f7",
    "papermill": {
     "duration": 0.007181,
     "end_time": "2022-06-11T17:47:54.153493",
     "exception": false,
     "start_time": "2022-06-11T17:47:54.146312",
     "status": "completed"
    },
    "tags": []
   },
   "source": [
    "## Parameters "
   ]
  },
  {
   "cell_type": "code",
   "execution_count": 3,
   "id": "783186fb",
   "metadata": {
    "execution": {
     "iopub.execute_input": "2022-06-11T17:47:54.169419Z",
     "iopub.status.busy": "2022-06-11T17:47:54.169050Z",
     "iopub.status.idle": "2022-06-11T17:47:54.170425Z",
     "shell.execute_reply": "2022-06-11T17:47:54.170678Z"
    },
    "id": "783186fb",
    "papermill": {
     "duration": 0.010596,
     "end_time": "2022-06-11T17:47:54.170794",
     "exception": false,
     "start_time": "2022-06-11T17:47:54.160198",
     "status": "completed"
    },
    "tags": [
     "parameters"
    ]
   },
   "outputs": [],
   "source": [
    "variance = 1\n",
    "bias = 1 "
   ]
  },
  {
   "cell_type": "code",
   "execution_count": 4,
   "id": "a1031319",
   "metadata": {
    "execution": {
     "iopub.execute_input": "2022-06-11T17:47:54.186805Z",
     "iopub.status.busy": "2022-06-11T17:47:54.186449Z",
     "iopub.status.idle": "2022-06-11T17:47:54.187702Z",
     "shell.execute_reply": "2022-06-11T17:47:54.187939Z"
    },
    "papermill": {
     "duration": 0.010287,
     "end_time": "2022-06-11T17:47:54.188046",
     "exception": false,
     "start_time": "2022-06-11T17:47:54.177759",
     "status": "completed"
    },
    "tags": [
     "injected-parameters"
    ]
   },
   "outputs": [],
   "source": [
    "# Parameters\n",
    "variance = 0.01\n",
    "bias = 0.01\n"
   ]
  },
  {
   "cell_type": "markdown",
   "id": "391cdbfd",
   "metadata": {
    "id": "391cdbfd",
    "papermill": {
     "duration": 0.006712,
     "end_time": "2022-06-11T17:47:54.201596",
     "exception": false,
     "start_time": "2022-06-11T17:47:54.194884",
     "status": "completed"
    },
    "tags": []
   },
   "source": [
    "## Dataset \n"
   ]
  },
  {
   "cell_type": "code",
   "execution_count": 5,
   "id": "5b51f161",
   "metadata": {
    "execution": {
     "iopub.execute_input": "2022-06-11T17:47:54.216960Z",
     "iopub.status.busy": "2022-06-11T17:47:54.216584Z",
     "iopub.status.idle": "2022-06-11T17:47:54.217853Z",
     "shell.execute_reply": "2022-06-11T17:47:54.218099Z"
    },
    "id": "5b51f161",
    "papermill": {
     "duration": 0.009832,
     "end_time": "2022-06-11T17:47:54.218203",
     "exception": false,
     "start_time": "2022-06-11T17:47:54.208371",
     "status": "completed"
    },
    "tags": []
   },
   "outputs": [],
   "source": [
    "#Parameters \n",
    "n_features = 13\n",
    "n_samples= 506\n",
    "n_target = 1 "
   ]
  },
  {
   "cell_type": "code",
   "execution_count": 6,
   "id": "5d6eced4",
   "metadata": {
    "execution": {
     "iopub.execute_input": "2022-06-11T17:47:54.233749Z",
     "iopub.status.busy": "2022-06-11T17:47:54.233384Z",
     "iopub.status.idle": "2022-06-11T17:47:54.244343Z",
     "shell.execute_reply": "2022-06-11T17:47:54.244580Z"
    },
    "id": "5d6eced4",
    "papermill": {
     "duration": 0.019632,
     "end_time": "2022-06-11T17:47:54.244687",
     "exception": false,
     "start_time": "2022-06-11T17:47:54.225055",
     "status": "completed"
    },
    "tags": []
   },
   "outputs": [
    {
     "name": "stdout",
     "output_type": "stream",
     "text": [
      "         X1        X2        X3        X4        X5        X6        X7  \\\n",
      "0 -0.419782  0.284830 -1.287909 -0.272599 -0.144217  0.413672 -0.120013   \n",
      "1 -0.417339 -0.487722 -0.593381 -0.272599 -0.740262  0.194274  0.367166   \n",
      "2 -0.417342 -0.487722 -0.593381 -0.272599 -0.740262  1.282714 -0.265812   \n",
      "3 -0.416750 -0.487722 -1.306878 -0.272599 -0.835284  1.016303 -0.809889   \n",
      "4 -0.412482 -0.487722 -1.306878 -0.272599 -0.835284  1.228577 -0.511180   \n",
      "\n",
      "         X8        X9       X10       X11       X12       X13         Y  \n",
      "0  0.140214 -0.982843 -0.666608 -1.459000  0.441052 -1.075562  0.159686  \n",
      "1  0.557160 -0.867883 -0.987329 -0.303094  0.441052 -0.492439 -0.101524  \n",
      "2  0.557160 -0.867883 -0.987329 -0.303094  0.396427 -1.208727  1.324247  \n",
      "3  1.077737 -0.752922 -1.106115  0.113032  0.416163 -1.361517  1.182758  \n",
      "4  1.077737 -0.752922 -1.106115  0.113032  0.441052 -1.026501  1.487503  \n"
     ]
    }
   ],
   "source": [
    "X,Y = bostonDataset.boston_data()"
   ]
  },
  {
   "cell_type": "code",
   "execution_count": 7,
   "id": "fe007438",
   "metadata": {
    "execution": {
     "iopub.execute_input": "2022-06-11T17:47:54.262273Z",
     "iopub.status.busy": "2022-06-11T17:47:54.261848Z",
     "iopub.status.idle": "2022-06-11T17:47:54.263348Z",
     "shell.execute_reply": "2022-06-11T17:47:54.263589Z"
    },
    "id": "fe007438",
    "papermill": {
     "duration": 0.011727,
     "end_time": "2022-06-11T17:47:54.263701",
     "exception": false,
     "start_time": "2022-06-11T17:47:54.251974",
     "status": "completed"
    },
    "tags": []
   },
   "outputs": [],
   "source": [
    "#Train test split for dataset \n",
    "X_train,X_test,Y_train,Y_test = train_test_split(X,Y,test_size = 0.2)\n",
    "train_data = dataset.CustomDataset(X_train,Y_train)\n",
    "test_data = dataset.CustomDataset(X_test,Y_test)\n"
   ]
  },
  {
   "cell_type": "markdown",
   "id": "a9a1af34",
   "metadata": {
    "id": "a9a1af34",
    "papermill": {
     "duration": 0.006998,
     "end_time": "2022-06-11T17:47:54.278080",
     "exception": false,
     "start_time": "2022-06-11T17:47:54.271082",
     "status": "completed"
    },
    "tags": []
   },
   "source": [
    "## Training Parameters "
   ]
  },
  {
   "cell_type": "code",
   "execution_count": 8,
   "id": "952b7fc8",
   "metadata": {
    "execution": {
     "iopub.execute_input": "2022-06-11T17:47:54.294587Z",
     "iopub.status.busy": "2022-06-11T17:47:54.294227Z",
     "iopub.status.idle": "2022-06-11T17:47:54.295504Z",
     "shell.execute_reply": "2022-06-11T17:47:54.295747Z"
    },
    "id": "952b7fc8",
    "papermill": {
     "duration": 0.010731,
     "end_time": "2022-06-11T17:47:54.295853",
     "exception": false,
     "start_time": "2022-06-11T17:47:54.285122",
     "status": "completed"
    },
    "tags": []
   },
   "outputs": [],
   "source": [
    "batch_size = 32\n",
    "n_epochs = 1000\n",
    "#Select the device \n",
    "device = torch.device('cuda' if torch.cuda.is_available() else 'cpu')"
   ]
  },
  {
   "cell_type": "markdown",
   "id": "a95e1600",
   "metadata": {
    "id": "a95e1600",
    "papermill": {
     "duration": 0.006973,
     "end_time": "2022-06-11T17:47:54.310010",
     "exception": false,
     "start_time": "2022-06-11T17:47:54.303037",
     "status": "completed"
    },
    "tags": []
   },
   "source": [
    "# ABC Pre-generator Model \n",
    "\n",
    "1. The catboost model is used as a pre-generator model for the ABC-GAN. \n",
    "2. The model is first trained on the entire dataset \n",
    "3. It generats X,Y pairs and we add some Gaussian noise with mean 0 and variance 1 to it which is then feed as input to the generator.\n"
   ]
  },
  {
   "cell_type": "code",
   "execution_count": 9,
   "id": "ff8ce7bd",
   "metadata": {
    "execution": {
     "iopub.execute_input": "2022-06-11T17:47:54.328815Z",
     "iopub.status.busy": "2022-06-11T17:47:54.328418Z",
     "iopub.status.idle": "2022-06-11T17:47:55.279468Z",
     "shell.execute_reply": "2022-06-11T17:47:55.279766Z"
    },
    "id": "ff8ce7bd",
    "papermill": {
     "duration": 0.962819,
     "end_time": "2022-06-11T17:47:55.279891",
     "exception": false,
     "start_time": "2022-06-11T17:47:54.317072",
     "status": "completed"
    },
    "tags": []
   },
   "outputs": [
    {
     "name": "stdout",
     "output_type": "stream",
     "text": [
      "Learning rate set to 0.033215\n",
      "0:\tlearn: 0.9751839\ttotal: 57.4ms\tremaining: 57.4s\n",
      "1:\tlearn: 0.9574426\ttotal: 58.3ms\tremaining: 29.1s\n",
      "2:\tlearn: 0.9367152\ttotal: 59.1ms\tremaining: 19.6s\n",
      "3:\tlearn: 0.9211290\ttotal: 60ms\tremaining: 14.9s\n",
      "4:\tlearn: 0.9054945\ttotal: 60.8ms\tremaining: 12.1s\n",
      "5:\tlearn: 0.8888678\ttotal: 61.8ms\tremaining: 10.2s\n",
      "6:\tlearn: 0.8749425\ttotal: 62.7ms\tremaining: 8.89s\n",
      "7:\tlearn: 0.8583165\ttotal: 63.6ms\tremaining: 7.89s\n",
      "8:\tlearn: 0.8444480\ttotal: 64.5ms\tremaining: 7.1s\n",
      "9:\tlearn: 0.8295131\ttotal: 65.4ms\tremaining: 6.47s\n",
      "10:\tlearn: 0.8143641\ttotal: 66.2ms\tremaining: 5.95s\n",
      "11:\tlearn: 0.8015793\ttotal: 66.9ms\tremaining: 5.51s\n",
      "12:\tlearn: 0.7866628\ttotal: 67.8ms\tremaining: 5.14s\n",
      "13:\tlearn: 0.7736735\ttotal: 68.6ms\tremaining: 4.83s\n",
      "14:\tlearn: 0.7621830\ttotal: 69.5ms\tremaining: 4.56s\n",
      "15:\tlearn: 0.7497547\ttotal: 70.2ms\tremaining: 4.32s\n",
      "16:\tlearn: 0.7382153\ttotal: 71ms\tremaining: 4.1s\n",
      "17:\tlearn: 0.7252135\ttotal: 71.8ms\tremaining: 3.92s\n",
      "18:\tlearn: 0.7129048\ttotal: 72.6ms\tremaining: 3.75s\n",
      "19:\tlearn: 0.7016254\ttotal: 73.4ms\tremaining: 3.6s\n",
      "20:\tlearn: 0.6881682\ttotal: 74.1ms\tremaining: 3.46s\n",
      "21:\tlearn: 0.6766480\ttotal: 75ms\tremaining: 3.33s\n",
      "22:\tlearn: 0.6676652\ttotal: 75.7ms\tremaining: 3.22s\n",
      "23:\tlearn: 0.6582219\ttotal: 76.5ms\tremaining: 3.11s\n",
      "24:\tlearn: 0.6484179\ttotal: 77.3ms\tremaining: 3.01s\n",
      "25:\tlearn: 0.6384865\ttotal: 78ms\tremaining: 2.92s\n",
      "26:\tlearn: 0.6296115\ttotal: 78.9ms\tremaining: 2.84s\n",
      "27:\tlearn: 0.6211266\ttotal: 79.6ms\tremaining: 2.76s\n",
      "28:\tlearn: 0.6121497\ttotal: 80.4ms\tremaining: 2.69s\n",
      "29:\tlearn: 0.6020107\ttotal: 81.2ms\tremaining: 2.62s\n",
      "30:\tlearn: 0.5925968\ttotal: 81.9ms\tremaining: 2.56s\n",
      "31:\tlearn: 0.5833506\ttotal: 82.6ms\tremaining: 2.5s\n",
      "32:\tlearn: 0.5767752\ttotal: 83.9ms\tremaining: 2.46s\n",
      "33:\tlearn: 0.5698863\ttotal: 84.7ms\tremaining: 2.4s\n",
      "34:\tlearn: 0.5639717\ttotal: 85.4ms\tremaining: 2.35s\n",
      "35:\tlearn: 0.5569456\ttotal: 86.1ms\tremaining: 2.31s\n",
      "36:\tlearn: 0.5507382\ttotal: 86.9ms\tremaining: 2.26s\n",
      "37:\tlearn: 0.5432062\ttotal: 87.6ms\tremaining: 2.22s\n",
      "38:\tlearn: 0.5357274\ttotal: 88.4ms\tremaining: 2.18s\n",
      "39:\tlearn: 0.5284312\ttotal: 89.2ms\tremaining: 2.14s\n",
      "40:\tlearn: 0.5222519\ttotal: 90ms\tremaining: 2.1s\n",
      "41:\tlearn: 0.5144698\ttotal: 90.7ms\tremaining: 2.07s\n",
      "42:\tlearn: 0.5085349\ttotal: 91.5ms\tremaining: 2.04s\n",
      "43:\tlearn: 0.5033385\ttotal: 92.3ms\tremaining: 2s\n",
      "44:\tlearn: 0.4974384\ttotal: 93.1ms\tremaining: 1.98s\n",
      "45:\tlearn: 0.4909444\ttotal: 93.8ms\tremaining: 1.94s\n",
      "46:\tlearn: 0.4851834\ttotal: 94.6ms\tremaining: 1.92s\n",
      "47:\tlearn: 0.4794058\ttotal: 95.4ms\tremaining: 1.89s\n",
      "48:\tlearn: 0.4740527\ttotal: 96.2ms\tremaining: 1.87s\n",
      "49:\tlearn: 0.4694693\ttotal: 96.8ms\tremaining: 1.84s\n",
      "50:\tlearn: 0.4631560\ttotal: 97.6ms\tremaining: 1.82s\n",
      "51:\tlearn: 0.4580188\ttotal: 98.5ms\tremaining: 1.79s\n",
      "52:\tlearn: 0.4522678\ttotal: 99.2ms\tremaining: 1.77s\n",
      "53:\tlearn: 0.4488220\ttotal: 99.7ms\tremaining: 1.75s\n",
      "54:\tlearn: 0.4441789\ttotal: 101ms\tremaining: 1.73s\n",
      "55:\tlearn: 0.4406341\ttotal: 101ms\tremaining: 1.71s\n",
      "56:\tlearn: 0.4373831\ttotal: 102ms\tremaining: 1.69s\n",
      "57:\tlearn: 0.4323416\ttotal: 103ms\tremaining: 1.67s\n",
      "58:\tlearn: 0.4286870\ttotal: 104ms\tremaining: 1.65s\n",
      "59:\tlearn: 0.4240613\ttotal: 104ms\tremaining: 1.64s\n",
      "60:\tlearn: 0.4204271\ttotal: 105ms\tremaining: 1.62s\n",
      "61:\tlearn: 0.4170498\ttotal: 106ms\tremaining: 1.6s\n",
      "62:\tlearn: 0.4143225\ttotal: 107ms\tremaining: 1.59s\n",
      "63:\tlearn: 0.4106485\ttotal: 108ms\tremaining: 1.57s\n"
     ]
    },
    {
     "name": "stdout",
     "output_type": "stream",
     "text": [
      "64:\tlearn: 0.4071516\ttotal: 109ms\tremaining: 1.56s\n",
      "65:\tlearn: 0.4034143\ttotal: 110ms\tremaining: 1.55s\n",
      "66:\tlearn: 0.4000459\ttotal: 111ms\tremaining: 1.54s\n",
      "67:\tlearn: 0.3952238\ttotal: 112ms\tremaining: 1.53s\n",
      "68:\tlearn: 0.3918899\ttotal: 112ms\tremaining: 1.52s\n",
      "69:\tlearn: 0.3896314\ttotal: 113ms\tremaining: 1.5s\n",
      "70:\tlearn: 0.3849728\ttotal: 114ms\tremaining: 1.49s\n",
      "71:\tlearn: 0.3807709\ttotal: 115ms\tremaining: 1.48s\n",
      "72:\tlearn: 0.3779960\ttotal: 116ms\tremaining: 1.47s\n",
      "73:\tlearn: 0.3750587\ttotal: 117ms\tremaining: 1.46s\n",
      "74:\tlearn: 0.3719523\ttotal: 117ms\tremaining: 1.45s\n",
      "75:\tlearn: 0.3686902\ttotal: 118ms\tremaining: 1.44s\n",
      "76:\tlearn: 0.3659721\ttotal: 119ms\tremaining: 1.43s\n",
      "77:\tlearn: 0.3632471\ttotal: 120ms\tremaining: 1.42s\n",
      "78:\tlearn: 0.3596566\ttotal: 121ms\tremaining: 1.41s\n",
      "79:\tlearn: 0.3569076\ttotal: 122ms\tremaining: 1.4s\n",
      "80:\tlearn: 0.3541963\ttotal: 123ms\tremaining: 1.39s\n",
      "81:\tlearn: 0.3508450\ttotal: 123ms\tremaining: 1.38s\n",
      "82:\tlearn: 0.3486219\ttotal: 124ms\tremaining: 1.37s\n",
      "83:\tlearn: 0.3461826\ttotal: 125ms\tremaining: 1.36s\n",
      "84:\tlearn: 0.3437376\ttotal: 126ms\tremaining: 1.35s\n",
      "85:\tlearn: 0.3408592\ttotal: 126ms\tremaining: 1.34s\n",
      "86:\tlearn: 0.3386601\ttotal: 127ms\tremaining: 1.33s\n",
      "87:\tlearn: 0.3360311\ttotal: 128ms\tremaining: 1.33s\n",
      "88:\tlearn: 0.3332946\ttotal: 129ms\tremaining: 1.32s\n",
      "89:\tlearn: 0.3311331\ttotal: 130ms\tremaining: 1.31s\n",
      "90:\tlearn: 0.3294048\ttotal: 130ms\tremaining: 1.3s\n",
      "91:\tlearn: 0.3273639\ttotal: 131ms\tremaining: 1.29s\n",
      "92:\tlearn: 0.3256140\ttotal: 132ms\tremaining: 1.29s\n",
      "93:\tlearn: 0.3233078\ttotal: 133ms\tremaining: 1.28s\n",
      "94:\tlearn: 0.3214498\ttotal: 134ms\tremaining: 1.27s\n",
      "95:\tlearn: 0.3202034\ttotal: 135ms\tremaining: 1.27s\n",
      "96:\tlearn: 0.3181243\ttotal: 136ms\tremaining: 1.26s\n",
      "97:\tlearn: 0.3167243\ttotal: 136ms\tremaining: 1.25s\n",
      "98:\tlearn: 0.3156385\ttotal: 137ms\tremaining: 1.25s\n",
      "99:\tlearn: 0.3143990\ttotal: 138ms\tremaining: 1.24s\n",
      "100:\tlearn: 0.3127533\ttotal: 139ms\tremaining: 1.23s\n",
      "101:\tlearn: 0.3107437\ttotal: 140ms\tremaining: 1.23s\n",
      "102:\tlearn: 0.3094879\ttotal: 141ms\tremaining: 1.22s\n",
      "103:\tlearn: 0.3077064\ttotal: 141ms\tremaining: 1.22s\n",
      "104:\tlearn: 0.3061647\ttotal: 142ms\tremaining: 1.21s\n",
      "105:\tlearn: 0.3048216\ttotal: 143ms\tremaining: 1.21s\n",
      "106:\tlearn: 0.3032544\ttotal: 144ms\tremaining: 1.2s\n",
      "107:\tlearn: 0.3013752\ttotal: 145ms\tremaining: 1.2s\n",
      "108:\tlearn: 0.3002606\ttotal: 146ms\tremaining: 1.19s\n",
      "109:\tlearn: 0.2986422\ttotal: 146ms\tremaining: 1.18s\n",
      "110:\tlearn: 0.2969130\ttotal: 147ms\tremaining: 1.18s\n",
      "111:\tlearn: 0.2953899\ttotal: 148ms\tremaining: 1.17s\n",
      "112:\tlearn: 0.2931996\ttotal: 149ms\tremaining: 1.17s\n",
      "113:\tlearn: 0.2914907\ttotal: 149ms\tremaining: 1.16s\n",
      "114:\tlearn: 0.2903172\ttotal: 150ms\tremaining: 1.16s\n",
      "115:\tlearn: 0.2888028\ttotal: 151ms\tremaining: 1.15s\n",
      "116:\tlearn: 0.2876368\ttotal: 152ms\tremaining: 1.15s\n",
      "117:\tlearn: 0.2863912\ttotal: 153ms\tremaining: 1.14s\n",
      "118:\tlearn: 0.2852180\ttotal: 154ms\tremaining: 1.14s\n",
      "119:\tlearn: 0.2842182\ttotal: 155ms\tremaining: 1.13s\n",
      "120:\tlearn: 0.2823697\ttotal: 156ms\tremaining: 1.13s\n",
      "121:\tlearn: 0.2811119\ttotal: 157ms\tremaining: 1.13s\n",
      "122:\tlearn: 0.2796891\ttotal: 157ms\tremaining: 1.12s\n",
      "123:\tlearn: 0.2779305\ttotal: 158ms\tremaining: 1.12s\n",
      "124:\tlearn: 0.2768678\ttotal: 159ms\tremaining: 1.11s\n",
      "125:\tlearn: 0.2758255\ttotal: 160ms\tremaining: 1.11s\n",
      "126:\tlearn: 0.2742471\ttotal: 161ms\tremaining: 1.1s\n",
      "127:\tlearn: 0.2730979\ttotal: 162ms\tremaining: 1.1s\n",
      "128:\tlearn: 0.2719217\ttotal: 162ms\tremaining: 1.09s\n",
      "129:\tlearn: 0.2709663\ttotal: 163ms\tremaining: 1.09s\n",
      "130:\tlearn: 0.2697539\ttotal: 164ms\tremaining: 1.09s\n",
      "131:\tlearn: 0.2687690\ttotal: 165ms\tremaining: 1.08s\n",
      "132:\tlearn: 0.2680566\ttotal: 165ms\tremaining: 1.08s\n",
      "133:\tlearn: 0.2667994\ttotal: 166ms\tremaining: 1.07s\n",
      "134:\tlearn: 0.2657481\ttotal: 167ms\tremaining: 1.07s\n",
      "135:\tlearn: 0.2647775\ttotal: 168ms\tremaining: 1.07s\n",
      "136:\tlearn: 0.2642539\ttotal: 169ms\tremaining: 1.06s\n",
      "137:\tlearn: 0.2632440\ttotal: 170ms\tremaining: 1.06s\n",
      "138:\tlearn: 0.2627847\ttotal: 170ms\tremaining: 1.05s\n",
      "139:\tlearn: 0.2619398\ttotal: 171ms\tremaining: 1.05s\n",
      "140:\tlearn: 0.2606734\ttotal: 172ms\tremaining: 1.05s\n",
      "141:\tlearn: 0.2598244\ttotal: 173ms\tremaining: 1.04s\n",
      "142:\tlearn: 0.2590077\ttotal: 174ms\tremaining: 1.04s\n",
      "143:\tlearn: 0.2579627\ttotal: 175ms\tremaining: 1.04s\n",
      "144:\tlearn: 0.2570565\ttotal: 175ms\tremaining: 1.03s\n",
      "145:\tlearn: 0.2563806\ttotal: 177ms\tremaining: 1.03s\n",
      "146:\tlearn: 0.2552825\ttotal: 177ms\tremaining: 1.03s\n",
      "147:\tlearn: 0.2542522\ttotal: 178ms\tremaining: 1.03s\n",
      "148:\tlearn: 0.2535030\ttotal: 179ms\tremaining: 1.02s\n",
      "149:\tlearn: 0.2526483\ttotal: 180ms\tremaining: 1.02s\n",
      "150:\tlearn: 0.2513341\ttotal: 181ms\tremaining: 1.02s\n",
      "151:\tlearn: 0.2505127\ttotal: 182ms\tremaining: 1.02s\n",
      "152:\tlearn: 0.2495661\ttotal: 183ms\tremaining: 1.01s\n",
      "153:\tlearn: 0.2487603\ttotal: 184ms\tremaining: 1.01s\n",
      "154:\tlearn: 0.2479618\ttotal: 185ms\tremaining: 1.01s\n",
      "155:\tlearn: 0.2473257\ttotal: 185ms\tremaining: 1s\n",
      "156:\tlearn: 0.2466372\ttotal: 186ms\tremaining: 999ms\n",
      "157:\tlearn: 0.2458771\ttotal: 187ms\tremaining: 995ms\n",
      "158:\tlearn: 0.2449998\ttotal: 187ms\tremaining: 991ms\n",
      "159:\tlearn: 0.2441699\ttotal: 188ms\tremaining: 987ms\n",
      "160:\tlearn: 0.2431913\ttotal: 189ms\tremaining: 983ms\n",
      "161:\tlearn: 0.2425418\ttotal: 189ms\tremaining: 980ms\n",
      "162:\tlearn: 0.2421812\ttotal: 190ms\tremaining: 976ms\n",
      "163:\tlearn: 0.2415117\ttotal: 191ms\tremaining: 973ms\n"
     ]
    },
    {
     "name": "stdout",
     "output_type": "stream",
     "text": [
      "164:\tlearn: 0.2412467\ttotal: 192ms\tremaining: 971ms\n",
      "165:\tlearn: 0.2403751\ttotal: 193ms\tremaining: 968ms\n",
      "166:\tlearn: 0.2395836\ttotal: 194ms\tremaining: 966ms\n",
      "167:\tlearn: 0.2388261\ttotal: 194ms\tremaining: 963ms\n",
      "168:\tlearn: 0.2382044\ttotal: 195ms\tremaining: 959ms\n",
      "169:\tlearn: 0.2376101\ttotal: 196ms\tremaining: 956ms\n",
      "170:\tlearn: 0.2369400\ttotal: 196ms\tremaining: 952ms\n",
      "171:\tlearn: 0.2359272\ttotal: 197ms\tremaining: 949ms\n",
      "172:\tlearn: 0.2350584\ttotal: 198ms\tremaining: 946ms\n",
      "173:\tlearn: 0.2344519\ttotal: 199ms\tremaining: 943ms\n",
      "174:\tlearn: 0.2338987\ttotal: 199ms\tremaining: 939ms\n",
      "175:\tlearn: 0.2335517\ttotal: 200ms\tremaining: 936ms\n",
      "176:\tlearn: 0.2330912\ttotal: 201ms\tremaining: 933ms\n",
      "177:\tlearn: 0.2324432\ttotal: 202ms\tremaining: 931ms\n",
      "178:\tlearn: 0.2318215\ttotal: 202ms\tremaining: 928ms\n",
      "179:\tlearn: 0.2311458\ttotal: 203ms\tremaining: 926ms\n",
      "180:\tlearn: 0.2305402\ttotal: 204ms\tremaining: 923ms\n",
      "181:\tlearn: 0.2297967\ttotal: 205ms\tremaining: 921ms\n",
      "182:\tlearn: 0.2291036\ttotal: 206ms\tremaining: 918ms\n",
      "183:\tlearn: 0.2284984\ttotal: 207ms\tremaining: 916ms\n",
      "184:\tlearn: 0.2279523\ttotal: 207ms\tremaining: 913ms\n",
      "185:\tlearn: 0.2271048\ttotal: 208ms\tremaining: 911ms\n",
      "186:\tlearn: 0.2265497\ttotal: 209ms\tremaining: 909ms\n",
      "187:\tlearn: 0.2261281\ttotal: 210ms\tremaining: 906ms\n",
      "188:\tlearn: 0.2252610\ttotal: 211ms\tremaining: 903ms\n",
      "189:\tlearn: 0.2249056\ttotal: 211ms\tremaining: 901ms\n",
      "190:\tlearn: 0.2243677\ttotal: 212ms\tremaining: 899ms\n",
      "191:\tlearn: 0.2238171\ttotal: 213ms\tremaining: 896ms\n",
      "192:\tlearn: 0.2232319\ttotal: 214ms\tremaining: 894ms\n",
      "193:\tlearn: 0.2227119\ttotal: 215ms\tremaining: 891ms\n",
      "194:\tlearn: 0.2221220\ttotal: 215ms\tremaining: 889ms\n",
      "195:\tlearn: 0.2216602\ttotal: 216ms\tremaining: 887ms\n",
      "196:\tlearn: 0.2211188\ttotal: 217ms\tremaining: 885ms\n",
      "197:\tlearn: 0.2204620\ttotal: 218ms\tremaining: 883ms\n",
      "198:\tlearn: 0.2199568\ttotal: 219ms\tremaining: 881ms\n",
      "199:\tlearn: 0.2192993\ttotal: 220ms\tremaining: 879ms\n",
      "200:\tlearn: 0.2187874\ttotal: 221ms\tremaining: 877ms\n",
      "201:\tlearn: 0.2181928\ttotal: 222ms\tremaining: 875ms\n",
      "202:\tlearn: 0.2174385\ttotal: 222ms\tremaining: 873ms\n",
      "203:\tlearn: 0.2167805\ttotal: 223ms\tremaining: 871ms\n",
      "204:\tlearn: 0.2162197\ttotal: 224ms\tremaining: 869ms\n",
      "205:\tlearn: 0.2154926\ttotal: 225ms\tremaining: 867ms\n",
      "206:\tlearn: 0.2147966\ttotal: 226ms\tremaining: 867ms\n",
      "207:\tlearn: 0.2142985\ttotal: 227ms\tremaining: 865ms\n",
      "208:\tlearn: 0.2139050\ttotal: 228ms\tremaining: 863ms\n",
      "209:\tlearn: 0.2133263\ttotal: 229ms\tremaining: 861ms\n",
      "210:\tlearn: 0.2126167\ttotal: 230ms\tremaining: 859ms\n",
      "211:\tlearn: 0.2122697\ttotal: 231ms\tremaining: 857ms\n",
      "212:\tlearn: 0.2116169\ttotal: 231ms\tremaining: 855ms\n",
      "213:\tlearn: 0.2110454\ttotal: 232ms\tremaining: 853ms\n",
      "214:\tlearn: 0.2106617\ttotal: 233ms\tremaining: 851ms\n",
      "215:\tlearn: 0.2098702\ttotal: 234ms\tremaining: 849ms\n",
      "216:\tlearn: 0.2094734\ttotal: 235ms\tremaining: 847ms\n",
      "217:\tlearn: 0.2088964\ttotal: 235ms\tremaining: 845ms\n",
      "218:\tlearn: 0.2083623\ttotal: 236ms\tremaining: 843ms\n",
      "219:\tlearn: 0.2078347\ttotal: 238ms\tremaining: 843ms\n",
      "220:\tlearn: 0.2072712\ttotal: 238ms\tremaining: 840ms\n",
      "221:\tlearn: 0.2069002\ttotal: 239ms\tremaining: 838ms\n",
      "222:\tlearn: 0.2064453\ttotal: 240ms\tremaining: 836ms\n",
      "223:\tlearn: 0.2057281\ttotal: 241ms\tremaining: 836ms\n",
      "224:\tlearn: 0.2052845\ttotal: 242ms\tremaining: 834ms\n",
      "225:\tlearn: 0.2048810\ttotal: 243ms\tremaining: 832ms\n",
      "226:\tlearn: 0.2043338\ttotal: 244ms\tremaining: 830ms\n",
      "227:\tlearn: 0.2038010\ttotal: 245ms\tremaining: 828ms\n",
      "228:\tlearn: 0.2030542\ttotal: 245ms\tremaining: 826ms\n",
      "229:\tlearn: 0.2027165\ttotal: 246ms\tremaining: 824ms\n",
      "230:\tlearn: 0.2025081\ttotal: 247ms\tremaining: 822ms\n",
      "231:\tlearn: 0.2021772\ttotal: 248ms\tremaining: 820ms\n",
      "232:\tlearn: 0.2015674\ttotal: 249ms\tremaining: 819ms\n",
      "233:\tlearn: 0.2010659\ttotal: 250ms\tremaining: 817ms\n",
      "234:\tlearn: 0.2007424\ttotal: 250ms\tremaining: 815ms\n",
      "235:\tlearn: 0.2001358\ttotal: 251ms\tremaining: 813ms\n",
      "236:\tlearn: 0.1998026\ttotal: 252ms\tremaining: 811ms\n",
      "237:\tlearn: 0.1992493\ttotal: 253ms\tremaining: 809ms\n",
      "238:\tlearn: 0.1986833\ttotal: 254ms\tremaining: 807ms\n",
      "239:\tlearn: 0.1981351\ttotal: 255ms\tremaining: 806ms\n",
      "240:\tlearn: 0.1974994\ttotal: 255ms\tremaining: 804ms\n",
      "241:\tlearn: 0.1968383\ttotal: 256ms\tremaining: 802ms\n",
      "242:\tlearn: 0.1961834\ttotal: 257ms\tremaining: 800ms\n",
      "243:\tlearn: 0.1957657\ttotal: 258ms\tremaining: 799ms\n",
      "244:\tlearn: 0.1949856\ttotal: 259ms\tremaining: 797ms\n",
      "245:\tlearn: 0.1943172\ttotal: 259ms\tremaining: 795ms\n",
      "246:\tlearn: 0.1937570\ttotal: 260ms\tremaining: 793ms\n",
      "247:\tlearn: 0.1934785\ttotal: 261ms\tremaining: 792ms\n",
      "248:\tlearn: 0.1929087\ttotal: 262ms\tremaining: 790ms\n",
      "249:\tlearn: 0.1926735\ttotal: 263ms\tremaining: 788ms\n",
      "250:\tlearn: 0.1920442\ttotal: 263ms\tremaining: 786ms\n",
      "251:\tlearn: 0.1914125\ttotal: 264ms\tremaining: 784ms\n",
      "252:\tlearn: 0.1909149\ttotal: 265ms\tremaining: 783ms\n",
      "253:\tlearn: 0.1902497\ttotal: 266ms\tremaining: 781ms\n",
      "254:\tlearn: 0.1897900\ttotal: 267ms\tremaining: 780ms\n",
      "255:\tlearn: 0.1894766\ttotal: 268ms\tremaining: 778ms\n",
      "256:\tlearn: 0.1890818\ttotal: 268ms\tremaining: 776ms\n",
      "257:\tlearn: 0.1885305\ttotal: 269ms\tremaining: 774ms\n",
      "258:\tlearn: 0.1880259\ttotal: 270ms\tremaining: 773ms\n",
      "259:\tlearn: 0.1877224\ttotal: 271ms\tremaining: 771ms\n",
      "260:\tlearn: 0.1872161\ttotal: 272ms\tremaining: 770ms\n",
      "261:\tlearn: 0.1865808\ttotal: 273ms\tremaining: 768ms\n",
      "262:\tlearn: 0.1861900\ttotal: 273ms\tremaining: 766ms\n",
      "263:\tlearn: 0.1855938\ttotal: 274ms\tremaining: 764ms\n",
      "264:\tlearn: 0.1852804\ttotal: 275ms\tremaining: 763ms\n",
      "265:\tlearn: 0.1848392\ttotal: 276ms\tremaining: 761ms\n",
      "266:\tlearn: 0.1843878\ttotal: 277ms\tremaining: 760ms\n",
      "267:\tlearn: 0.1839288\ttotal: 278ms\tremaining: 758ms\n",
      "268:\tlearn: 0.1833407\ttotal: 278ms\tremaining: 756ms\n",
      "269:\tlearn: 0.1827567\ttotal: 279ms\tremaining: 755ms\n",
      "270:\tlearn: 0.1824854\ttotal: 280ms\tremaining: 754ms\n",
      "271:\tlearn: 0.1822582\ttotal: 281ms\tremaining: 752ms\n",
      "272:\tlearn: 0.1816562\ttotal: 282ms\tremaining: 751ms\n",
      "273:\tlearn: 0.1811866\ttotal: 283ms\tremaining: 749ms\n",
      "274:\tlearn: 0.1806873\ttotal: 284ms\tremaining: 748ms\n",
      "275:\tlearn: 0.1802154\ttotal: 284ms\tremaining: 746ms\n",
      "276:\tlearn: 0.1800627\ttotal: 285ms\tremaining: 744ms\n",
      "277:\tlearn: 0.1796826\ttotal: 286ms\tremaining: 743ms\n",
      "278:\tlearn: 0.1791933\ttotal: 287ms\tremaining: 741ms\n",
      "279:\tlearn: 0.1789261\ttotal: 288ms\tremaining: 740ms\n",
      "280:\tlearn: 0.1784917\ttotal: 288ms\tremaining: 738ms\n",
      "281:\tlearn: 0.1779392\ttotal: 289ms\tremaining: 736ms\n",
      "282:\tlearn: 0.1774914\ttotal: 290ms\tremaining: 735ms\n",
      "283:\tlearn: 0.1769777\ttotal: 291ms\tremaining: 733ms\n",
      "284:\tlearn: 0.1768151\ttotal: 292ms\tremaining: 733ms\n",
      "285:\tlearn: 0.1762349\ttotal: 293ms\tremaining: 731ms\n",
      "286:\tlearn: 0.1758410\ttotal: 294ms\tremaining: 729ms\n",
      "287:\tlearn: 0.1754978\ttotal: 294ms\tremaining: 728ms\n",
      "288:\tlearn: 0.1750370\ttotal: 295ms\tremaining: 726ms\n",
      "289:\tlearn: 0.1746525\ttotal: 296ms\tremaining: 725ms\n",
      "290:\tlearn: 0.1742115\ttotal: 297ms\tremaining: 723ms\n",
      "291:\tlearn: 0.1736422\ttotal: 298ms\tremaining: 722ms\n"
     ]
    },
    {
     "name": "stdout",
     "output_type": "stream",
     "text": [
      "292:\tlearn: 0.1734428\ttotal: 299ms\tremaining: 722ms\n",
      "293:\tlearn: 0.1728355\ttotal: 300ms\tremaining: 720ms\n",
      "294:\tlearn: 0.1722477\ttotal: 301ms\tremaining: 719ms\n",
      "295:\tlearn: 0.1715570\ttotal: 302ms\tremaining: 717ms\n",
      "296:\tlearn: 0.1711931\ttotal: 303ms\tremaining: 716ms\n",
      "297:\tlearn: 0.1709514\ttotal: 303ms\tremaining: 715ms\n",
      "298:\tlearn: 0.1706379\ttotal: 304ms\tremaining: 713ms\n",
      "299:\tlearn: 0.1704813\ttotal: 305ms\tremaining: 712ms\n",
      "300:\tlearn: 0.1701726\ttotal: 306ms\tremaining: 710ms\n",
      "301:\tlearn: 0.1697747\ttotal: 307ms\tremaining: 709ms\n",
      "302:\tlearn: 0.1696326\ttotal: 307ms\tremaining: 707ms\n",
      "303:\tlearn: 0.1693348\ttotal: 308ms\tremaining: 706ms\n",
      "304:\tlearn: 0.1690649\ttotal: 309ms\tremaining: 704ms\n",
      "305:\tlearn: 0.1686191\ttotal: 310ms\tremaining: 703ms\n",
      "306:\tlearn: 0.1683421\ttotal: 311ms\tremaining: 702ms\n",
      "307:\tlearn: 0.1680008\ttotal: 312ms\tremaining: 700ms\n",
      "308:\tlearn: 0.1674413\ttotal: 312ms\tremaining: 699ms\n",
      "309:\tlearn: 0.1670046\ttotal: 313ms\tremaining: 697ms\n",
      "310:\tlearn: 0.1665081\ttotal: 314ms\tremaining: 696ms\n",
      "311:\tlearn: 0.1662309\ttotal: 315ms\tremaining: 694ms\n",
      "312:\tlearn: 0.1660344\ttotal: 315ms\tremaining: 692ms\n",
      "313:\tlearn: 0.1658908\ttotal: 316ms\tremaining: 691ms\n",
      "314:\tlearn: 0.1655528\ttotal: 317ms\tremaining: 690ms\n",
      "315:\tlearn: 0.1653090\ttotal: 318ms\tremaining: 688ms\n",
      "316:\tlearn: 0.1651201\ttotal: 319ms\tremaining: 687ms\n",
      "317:\tlearn: 0.1645745\ttotal: 320ms\tremaining: 685ms\n",
      "318:\tlearn: 0.1641319\ttotal: 320ms\tremaining: 684ms\n",
      "319:\tlearn: 0.1639533\ttotal: 321ms\tremaining: 682ms\n",
      "320:\tlearn: 0.1636504\ttotal: 322ms\tremaining: 681ms\n",
      "321:\tlearn: 0.1633394\ttotal: 323ms\tremaining: 680ms\n",
      "322:\tlearn: 0.1632202\ttotal: 324ms\tremaining: 678ms\n",
      "323:\tlearn: 0.1629013\ttotal: 324ms\tremaining: 677ms\n",
      "324:\tlearn: 0.1627329\ttotal: 325ms\tremaining: 675ms\n",
      "325:\tlearn: 0.1625711\ttotal: 326ms\tremaining: 674ms\n",
      "326:\tlearn: 0.1622913\ttotal: 327ms\tremaining: 672ms\n",
      "327:\tlearn: 0.1621373\ttotal: 327ms\tremaining: 671ms\n",
      "328:\tlearn: 0.1618076\ttotal: 328ms\tremaining: 669ms\n",
      "329:\tlearn: 0.1612407\ttotal: 329ms\tremaining: 668ms\n",
      "330:\tlearn: 0.1611076\ttotal: 330ms\tremaining: 667ms\n",
      "331:\tlearn: 0.1608309\ttotal: 331ms\tremaining: 666ms\n",
      "332:\tlearn: 0.1604128\ttotal: 332ms\tremaining: 665ms\n",
      "333:\tlearn: 0.1601671\ttotal: 333ms\tremaining: 664ms\n",
      "334:\tlearn: 0.1599152\ttotal: 334ms\tremaining: 662ms\n",
      "335:\tlearn: 0.1598098\ttotal: 334ms\tremaining: 661ms\n",
      "336:\tlearn: 0.1595876\ttotal: 335ms\tremaining: 660ms\n",
      "337:\tlearn: 0.1592361\ttotal: 336ms\tremaining: 658ms\n",
      "338:\tlearn: 0.1589108\ttotal: 337ms\tremaining: 657ms\n",
      "339:\tlearn: 0.1585268\ttotal: 338ms\tremaining: 655ms\n",
      "340:\tlearn: 0.1580805\ttotal: 338ms\tremaining: 654ms\n",
      "341:\tlearn: 0.1576676\ttotal: 339ms\tremaining: 653ms\n",
      "342:\tlearn: 0.1572485\ttotal: 340ms\tremaining: 652ms\n",
      "343:\tlearn: 0.1567472\ttotal: 341ms\tremaining: 650ms\n",
      "344:\tlearn: 0.1566034\ttotal: 342ms\tremaining: 649ms\n",
      "345:\tlearn: 0.1560419\ttotal: 342ms\tremaining: 647ms\n",
      "346:\tlearn: 0.1555881\ttotal: 343ms\tremaining: 646ms\n",
      "347:\tlearn: 0.1554943\ttotal: 344ms\tremaining: 645ms\n",
      "348:\tlearn: 0.1549854\ttotal: 345ms\tremaining: 644ms\n",
      "349:\tlearn: 0.1548955\ttotal: 346ms\tremaining: 642ms\n",
      "350:\tlearn: 0.1544969\ttotal: 347ms\tremaining: 641ms\n",
      "351:\tlearn: 0.1540092\ttotal: 347ms\tremaining: 640ms\n",
      "352:\tlearn: 0.1537826\ttotal: 348ms\tremaining: 638ms\n",
      "353:\tlearn: 0.1536841\ttotal: 349ms\tremaining: 637ms\n",
      "354:\tlearn: 0.1533084\ttotal: 350ms\tremaining: 636ms\n",
      "355:\tlearn: 0.1532150\ttotal: 351ms\tremaining: 634ms\n",
      "356:\tlearn: 0.1530808\ttotal: 351ms\tremaining: 633ms\n",
      "357:\tlearn: 0.1528412\ttotal: 352ms\tremaining: 632ms\n",
      "358:\tlearn: 0.1525970\ttotal: 353ms\tremaining: 630ms\n",
      "359:\tlearn: 0.1525067\ttotal: 354ms\tremaining: 629ms\n",
      "360:\tlearn: 0.1523621\ttotal: 355ms\tremaining: 628ms\n",
      "361:\tlearn: 0.1522432\ttotal: 355ms\tremaining: 627ms\n",
      "362:\tlearn: 0.1520126\ttotal: 356ms\tremaining: 625ms\n",
      "363:\tlearn: 0.1519322\ttotal: 357ms\tremaining: 624ms\n",
      "364:\tlearn: 0.1515327\ttotal: 358ms\tremaining: 622ms\n",
      "365:\tlearn: 0.1511505\ttotal: 359ms\tremaining: 621ms\n",
      "366:\tlearn: 0.1510480\ttotal: 359ms\tremaining: 620ms\n",
      "367:\tlearn: 0.1506289\ttotal: 360ms\tremaining: 619ms\n",
      "368:\tlearn: 0.1505023\ttotal: 361ms\tremaining: 617ms\n",
      "369:\tlearn: 0.1504255\ttotal: 362ms\tremaining: 616ms\n",
      "370:\tlearn: 0.1499840\ttotal: 363ms\tremaining: 615ms\n",
      "371:\tlearn: 0.1496790\ttotal: 364ms\tremaining: 615ms\n",
      "372:\tlearn: 0.1493450\ttotal: 365ms\tremaining: 613ms\n",
      "373:\tlearn: 0.1490850\ttotal: 366ms\tremaining: 612ms\n",
      "374:\tlearn: 0.1487986\ttotal: 367ms\tremaining: 611ms\n",
      "375:\tlearn: 0.1487160\ttotal: 367ms\tremaining: 610ms\n",
      "376:\tlearn: 0.1483373\ttotal: 368ms\tremaining: 608ms\n",
      "377:\tlearn: 0.1480011\ttotal: 369ms\tremaining: 607ms\n",
      "378:\tlearn: 0.1478327\ttotal: 370ms\tremaining: 606ms\n",
      "379:\tlearn: 0.1473456\ttotal: 370ms\tremaining: 604ms\n",
      "380:\tlearn: 0.1468955\ttotal: 371ms\tremaining: 603ms\n",
      "381:\tlearn: 0.1468155\ttotal: 372ms\tremaining: 602ms\n",
      "382:\tlearn: 0.1464836\ttotal: 373ms\tremaining: 601ms\n",
      "383:\tlearn: 0.1460377\ttotal: 374ms\tremaining: 599ms\n",
      "384:\tlearn: 0.1456050\ttotal: 375ms\tremaining: 598ms\n",
      "385:\tlearn: 0.1453151\ttotal: 375ms\tremaining: 597ms\n",
      "386:\tlearn: 0.1448349\ttotal: 376ms\tremaining: 596ms\n",
      "387:\tlearn: 0.1447209\ttotal: 377ms\tremaining: 594ms\n",
      "388:\tlearn: 0.1444293\ttotal: 378ms\tremaining: 593ms\n",
      "389:\tlearn: 0.1442010\ttotal: 379ms\tremaining: 592ms\n",
      "390:\tlearn: 0.1439830\ttotal: 379ms\tremaining: 591ms\n",
      "391:\tlearn: 0.1437204\ttotal: 380ms\tremaining: 590ms\n",
      "392:\tlearn: 0.1434612\ttotal: 381ms\tremaining: 589ms\n"
     ]
    },
    {
     "name": "stdout",
     "output_type": "stream",
     "text": [
      "393:\tlearn: 0.1432088\ttotal: 382ms\tremaining: 588ms\n",
      "394:\tlearn: 0.1429904\ttotal: 383ms\tremaining: 587ms\n",
      "395:\tlearn: 0.1424467\ttotal: 384ms\tremaining: 585ms\n",
      "396:\tlearn: 0.1423742\ttotal: 384ms\tremaining: 584ms\n",
      "397:\tlearn: 0.1419509\ttotal: 385ms\tremaining: 583ms\n",
      "398:\tlearn: 0.1417721\ttotal: 386ms\tremaining: 582ms\n",
      "399:\tlearn: 0.1416100\ttotal: 387ms\tremaining: 581ms\n",
      "400:\tlearn: 0.1413861\ttotal: 388ms\tremaining: 579ms\n",
      "401:\tlearn: 0.1409364\ttotal: 389ms\tremaining: 578ms\n",
      "402:\tlearn: 0.1405350\ttotal: 389ms\tremaining: 577ms\n",
      "403:\tlearn: 0.1404003\ttotal: 390ms\tremaining: 576ms\n",
      "404:\tlearn: 0.1401231\ttotal: 391ms\tremaining: 575ms\n",
      "405:\tlearn: 0.1396141\ttotal: 392ms\tremaining: 574ms\n",
      "406:\tlearn: 0.1395356\ttotal: 393ms\tremaining: 572ms\n",
      "407:\tlearn: 0.1392007\ttotal: 394ms\tremaining: 571ms\n",
      "408:\tlearn: 0.1388364\ttotal: 394ms\tremaining: 570ms\n",
      "409:\tlearn: 0.1385960\ttotal: 395ms\tremaining: 568ms\n",
      "410:\tlearn: 0.1384936\ttotal: 396ms\tremaining: 567ms\n",
      "411:\tlearn: 0.1383268\ttotal: 397ms\tremaining: 566ms\n",
      "412:\tlearn: 0.1380874\ttotal: 398ms\tremaining: 565ms\n",
      "413:\tlearn: 0.1377904\ttotal: 398ms\tremaining: 564ms\n",
      "414:\tlearn: 0.1377265\ttotal: 399ms\tremaining: 562ms\n",
      "415:\tlearn: 0.1373407\ttotal: 400ms\tremaining: 561ms\n",
      "416:\tlearn: 0.1370373\ttotal: 401ms\tremaining: 560ms\n",
      "417:\tlearn: 0.1368752\ttotal: 402ms\tremaining: 559ms\n",
      "418:\tlearn: 0.1368103\ttotal: 402ms\tremaining: 558ms\n",
      "419:\tlearn: 0.1365890\ttotal: 403ms\tremaining: 557ms\n",
      "420:\tlearn: 0.1362810\ttotal: 405ms\tremaining: 557ms\n",
      "421:\tlearn: 0.1359437\ttotal: 406ms\tremaining: 556ms\n",
      "422:\tlearn: 0.1356126\ttotal: 407ms\tremaining: 555ms\n",
      "423:\tlearn: 0.1355302\ttotal: 407ms\tremaining: 554ms\n",
      "424:\tlearn: 0.1352193\ttotal: 408ms\tremaining: 553ms\n",
      "425:\tlearn: 0.1349453\ttotal: 409ms\tremaining: 551ms\n",
      "426:\tlearn: 0.1346254\ttotal: 410ms\tremaining: 550ms\n",
      "427:\tlearn: 0.1345720\ttotal: 411ms\tremaining: 549ms\n",
      "428:\tlearn: 0.1341992\ttotal: 412ms\tremaining: 548ms\n",
      "429:\tlearn: 0.1338073\ttotal: 412ms\tremaining: 547ms\n",
      "430:\tlearn: 0.1334694\ttotal: 413ms\tremaining: 545ms\n",
      "431:\tlearn: 0.1331703\ttotal: 414ms\tremaining: 544ms\n",
      "432:\tlearn: 0.1330298\ttotal: 415ms\tremaining: 543ms\n",
      "433:\tlearn: 0.1326295\ttotal: 416ms\tremaining: 542ms\n",
      "434:\tlearn: 0.1323775\ttotal: 416ms\tremaining: 541ms\n",
      "435:\tlearn: 0.1320260\ttotal: 417ms\tremaining: 540ms\n",
      "436:\tlearn: 0.1317374\ttotal: 418ms\tremaining: 539ms\n",
      "437:\tlearn: 0.1313932\ttotal: 419ms\tremaining: 537ms\n",
      "438:\tlearn: 0.1311414\ttotal: 420ms\tremaining: 536ms\n",
      "439:\tlearn: 0.1310961\ttotal: 421ms\tremaining: 535ms\n",
      "440:\tlearn: 0.1307879\ttotal: 422ms\tremaining: 534ms\n",
      "441:\tlearn: 0.1305339\ttotal: 422ms\tremaining: 533ms\n",
      "442:\tlearn: 0.1302812\ttotal: 423ms\tremaining: 532ms\n",
      "443:\tlearn: 0.1299262\ttotal: 424ms\tremaining: 531ms\n",
      "444:\tlearn: 0.1298330\ttotal: 425ms\tremaining: 530ms\n",
      "445:\tlearn: 0.1294301\ttotal: 426ms\tremaining: 529ms\n",
      "446:\tlearn: 0.1291708\ttotal: 426ms\tremaining: 528ms\n",
      "447:\tlearn: 0.1289107\ttotal: 427ms\tremaining: 527ms\n",
      "448:\tlearn: 0.1287376\ttotal: 428ms\tremaining: 526ms\n",
      "449:\tlearn: 0.1284056\ttotal: 430ms\tremaining: 525ms\n",
      "450:\tlearn: 0.1282058\ttotal: 431ms\tremaining: 524ms\n",
      "451:\tlearn: 0.1278805\ttotal: 432ms\tremaining: 523ms\n",
      "452:\tlearn: 0.1278275\ttotal: 432ms\tremaining: 522ms\n",
      "453:\tlearn: 0.1275531\ttotal: 433ms\tremaining: 521ms\n",
      "454:\tlearn: 0.1273177\ttotal: 434ms\tremaining: 520ms\n",
      "455:\tlearn: 0.1270480\ttotal: 435ms\tremaining: 519ms\n",
      "456:\tlearn: 0.1266953\ttotal: 436ms\tremaining: 518ms\n",
      "457:\tlearn: 0.1263240\ttotal: 436ms\tremaining: 517ms\n",
      "458:\tlearn: 0.1260647\ttotal: 437ms\tremaining: 515ms\n",
      "459:\tlearn: 0.1260182\ttotal: 438ms\tremaining: 514ms\n",
      "460:\tlearn: 0.1256619\ttotal: 439ms\tremaining: 513ms\n",
      "461:\tlearn: 0.1253928\ttotal: 440ms\tremaining: 512ms\n",
      "462:\tlearn: 0.1249565\ttotal: 440ms\tremaining: 511ms\n",
      "463:\tlearn: 0.1247416\ttotal: 441ms\tremaining: 510ms\n",
      "464:\tlearn: 0.1244872\ttotal: 442ms\tremaining: 509ms\n",
      "465:\tlearn: 0.1242312\ttotal: 443ms\tremaining: 507ms\n",
      "466:\tlearn: 0.1238669\ttotal: 444ms\tremaining: 506ms\n",
      "467:\tlearn: 0.1237995\ttotal: 445ms\tremaining: 505ms\n",
      "468:\tlearn: 0.1234805\ttotal: 445ms\tremaining: 504ms\n",
      "469:\tlearn: 0.1234056\ttotal: 446ms\tremaining: 503ms\n",
      "470:\tlearn: 0.1231265\ttotal: 447ms\tremaining: 502ms\n",
      "471:\tlearn: 0.1228299\ttotal: 448ms\tremaining: 501ms\n",
      "472:\tlearn: 0.1225165\ttotal: 449ms\tremaining: 500ms\n",
      "473:\tlearn: 0.1223329\ttotal: 449ms\tremaining: 499ms\n",
      "474:\tlearn: 0.1219812\ttotal: 450ms\tremaining: 498ms\n",
      "475:\tlearn: 0.1215972\ttotal: 451ms\tremaining: 497ms\n",
      "476:\tlearn: 0.1214069\ttotal: 452ms\tremaining: 495ms\n",
      "477:\tlearn: 0.1212692\ttotal: 453ms\tremaining: 494ms\n",
      "478:\tlearn: 0.1210342\ttotal: 453ms\tremaining: 493ms\n",
      "479:\tlearn: 0.1207009\ttotal: 454ms\tremaining: 492ms\n",
      "480:\tlearn: 0.1205426\ttotal: 455ms\tremaining: 491ms\n",
      "481:\tlearn: 0.1203410\ttotal: 456ms\tremaining: 490ms\n",
      "482:\tlearn: 0.1201295\ttotal: 457ms\tremaining: 489ms\n",
      "483:\tlearn: 0.1199547\ttotal: 458ms\tremaining: 488ms\n",
      "484:\tlearn: 0.1197368\ttotal: 458ms\tremaining: 487ms\n",
      "485:\tlearn: 0.1195489\ttotal: 459ms\tremaining: 486ms\n",
      "486:\tlearn: 0.1193066\ttotal: 460ms\tremaining: 485ms\n",
      "487:\tlearn: 0.1191032\ttotal: 461ms\tremaining: 484ms\n",
      "488:\tlearn: 0.1189159\ttotal: 462ms\tremaining: 483ms\n",
      "489:\tlearn: 0.1185515\ttotal: 463ms\tremaining: 482ms\n",
      "490:\tlearn: 0.1182379\ttotal: 464ms\tremaining: 481ms\n",
      "491:\tlearn: 0.1180957\ttotal: 465ms\tremaining: 480ms\n",
      "492:\tlearn: 0.1179294\ttotal: 465ms\tremaining: 479ms\n",
      "493:\tlearn: 0.1178273\ttotal: 466ms\tremaining: 477ms\n",
      "494:\tlearn: 0.1176193\ttotal: 467ms\tremaining: 476ms\n",
      "495:\tlearn: 0.1174104\ttotal: 468ms\tremaining: 475ms\n",
      "496:\tlearn: 0.1172075\ttotal: 468ms\tremaining: 474ms\n",
      "497:\tlearn: 0.1168878\ttotal: 469ms\tremaining: 473ms\n",
      "498:\tlearn: 0.1166378\ttotal: 470ms\tremaining: 472ms\n",
      "499:\tlearn: 0.1165257\ttotal: 471ms\tremaining: 471ms\n",
      "500:\tlearn: 0.1162430\ttotal: 472ms\tremaining: 470ms\n",
      "501:\tlearn: 0.1159827\ttotal: 472ms\tremaining: 469ms\n",
      "502:\tlearn: 0.1158117\ttotal: 473ms\tremaining: 468ms\n",
      "503:\tlearn: 0.1156982\ttotal: 474ms\tremaining: 467ms\n",
      "504:\tlearn: 0.1154498\ttotal: 475ms\tremaining: 465ms\n",
      "505:\tlearn: 0.1153063\ttotal: 476ms\tremaining: 464ms\n",
      "506:\tlearn: 0.1151251\ttotal: 476ms\tremaining: 463ms\n",
      "507:\tlearn: 0.1148019\ttotal: 477ms\tremaining: 462ms\n",
      "508:\tlearn: 0.1145218\ttotal: 478ms\tremaining: 461ms\n",
      "509:\tlearn: 0.1143571\ttotal: 479ms\tremaining: 460ms\n",
      "510:\tlearn: 0.1141448\ttotal: 480ms\tremaining: 459ms\n",
      "511:\tlearn: 0.1138097\ttotal: 481ms\tremaining: 458ms\n",
      "512:\tlearn: 0.1136102\ttotal: 481ms\tremaining: 457ms\n",
      "513:\tlearn: 0.1133511\ttotal: 482ms\tremaining: 456ms\n",
      "514:\tlearn: 0.1130842\ttotal: 483ms\tremaining: 455ms\n",
      "515:\tlearn: 0.1128034\ttotal: 484ms\tremaining: 454ms\n",
      "516:\tlearn: 0.1125363\ttotal: 484ms\tremaining: 453ms\n",
      "517:\tlearn: 0.1123217\ttotal: 485ms\tremaining: 452ms\n",
      "518:\tlearn: 0.1121201\ttotal: 486ms\tremaining: 451ms\n",
      "519:\tlearn: 0.1118956\ttotal: 487ms\tremaining: 450ms\n",
      "520:\tlearn: 0.1117264\ttotal: 488ms\tremaining: 449ms\n"
     ]
    },
    {
     "name": "stdout",
     "output_type": "stream",
     "text": [
      "521:\tlearn: 0.1114733\ttotal: 489ms\tremaining: 448ms\n",
      "522:\tlearn: 0.1112288\ttotal: 490ms\tremaining: 447ms\n",
      "523:\tlearn: 0.1111005\ttotal: 491ms\tremaining: 446ms\n",
      "524:\tlearn: 0.1109181\ttotal: 491ms\tremaining: 445ms\n",
      "525:\tlearn: 0.1108383\ttotal: 492ms\tremaining: 444ms\n",
      "526:\tlearn: 0.1105920\ttotal: 493ms\tremaining: 443ms\n",
      "527:\tlearn: 0.1104574\ttotal: 494ms\tremaining: 442ms\n",
      "528:\tlearn: 0.1100880\ttotal: 495ms\tremaining: 441ms\n",
      "529:\tlearn: 0.1098181\ttotal: 496ms\tremaining: 439ms\n",
      "530:\tlearn: 0.1096356\ttotal: 496ms\tremaining: 439ms\n",
      "531:\tlearn: 0.1095569\ttotal: 497ms\tremaining: 437ms\n",
      "532:\tlearn: 0.1093849\ttotal: 498ms\tremaining: 436ms\n",
      "533:\tlearn: 0.1092195\ttotal: 499ms\tremaining: 435ms\n",
      "534:\tlearn: 0.1088903\ttotal: 500ms\tremaining: 434ms\n",
      "535:\tlearn: 0.1086672\ttotal: 500ms\tremaining: 433ms\n",
      "536:\tlearn: 0.1085424\ttotal: 501ms\tremaining: 432ms\n",
      "537:\tlearn: 0.1082645\ttotal: 502ms\tremaining: 431ms\n",
      "538:\tlearn: 0.1079690\ttotal: 503ms\tremaining: 430ms\n",
      "539:\tlearn: 0.1078355\ttotal: 504ms\tremaining: 429ms\n",
      "540:\tlearn: 0.1076585\ttotal: 504ms\tremaining: 428ms\n",
      "541:\tlearn: 0.1075254\ttotal: 505ms\tremaining: 427ms\n",
      "542:\tlearn: 0.1073794\ttotal: 506ms\tremaining: 426ms\n",
      "543:\tlearn: 0.1072518\ttotal: 507ms\tremaining: 425ms\n",
      "544:\tlearn: 0.1071680\ttotal: 508ms\tremaining: 424ms\n",
      "545:\tlearn: 0.1070266\ttotal: 509ms\tremaining: 423ms\n",
      "546:\tlearn: 0.1069236\ttotal: 509ms\tremaining: 422ms\n",
      "547:\tlearn: 0.1067078\ttotal: 510ms\tremaining: 421ms\n",
      "548:\tlearn: 0.1065535\ttotal: 511ms\tremaining: 420ms\n",
      "549:\tlearn: 0.1063998\ttotal: 512ms\tremaining: 419ms\n",
      "550:\tlearn: 0.1061851\ttotal: 512ms\tremaining: 418ms\n",
      "551:\tlearn: 0.1060728\ttotal: 513ms\tremaining: 416ms\n",
      "552:\tlearn: 0.1058337\ttotal: 514ms\tremaining: 415ms\n",
      "553:\tlearn: 0.1056853\ttotal: 515ms\tremaining: 414ms\n",
      "554:\tlearn: 0.1055006\ttotal: 516ms\tremaining: 413ms\n",
      "555:\tlearn: 0.1053523\ttotal: 516ms\tremaining: 412ms\n",
      "556:\tlearn: 0.1052663\ttotal: 517ms\tremaining: 411ms\n",
      "557:\tlearn: 0.1050960\ttotal: 518ms\tremaining: 410ms\n",
      "558:\tlearn: 0.1049027\ttotal: 519ms\tremaining: 410ms\n",
      "559:\tlearn: 0.1047245\ttotal: 520ms\tremaining: 409ms\n",
      "560:\tlearn: 0.1046129\ttotal: 521ms\tremaining: 408ms\n",
      "561:\tlearn: 0.1044420\ttotal: 522ms\tremaining: 407ms\n",
      "562:\tlearn: 0.1043172\ttotal: 523ms\tremaining: 406ms\n",
      "563:\tlearn: 0.1041734\ttotal: 524ms\tremaining: 405ms\n",
      "564:\tlearn: 0.1039422\ttotal: 524ms\tremaining: 404ms\n",
      "565:\tlearn: 0.1037438\ttotal: 525ms\tremaining: 403ms\n",
      "566:\tlearn: 0.1035556\ttotal: 526ms\tremaining: 402ms\n",
      "567:\tlearn: 0.1032737\ttotal: 527ms\tremaining: 401ms\n",
      "568:\tlearn: 0.1030185\ttotal: 528ms\tremaining: 400ms\n",
      "569:\tlearn: 0.1027647\ttotal: 528ms\tremaining: 399ms\n",
      "570:\tlearn: 0.1025814\ttotal: 529ms\tremaining: 398ms\n",
      "571:\tlearn: 0.1024374\ttotal: 530ms\tremaining: 397ms\n",
      "572:\tlearn: 0.1022397\ttotal: 531ms\tremaining: 396ms\n",
      "573:\tlearn: 0.1020183\ttotal: 532ms\tremaining: 395ms\n",
      "574:\tlearn: 0.1018600\ttotal: 532ms\tremaining: 394ms\n",
      "575:\tlearn: 0.1017827\ttotal: 533ms\tremaining: 393ms\n",
      "576:\tlearn: 0.1015788\ttotal: 534ms\tremaining: 391ms\n",
      "577:\tlearn: 0.1013145\ttotal: 535ms\tremaining: 390ms\n",
      "578:\tlearn: 0.1011041\ttotal: 536ms\tremaining: 389ms\n",
      "579:\tlearn: 0.1009633\ttotal: 536ms\tremaining: 388ms\n",
      "580:\tlearn: 0.1008123\ttotal: 537ms\tremaining: 387ms\n",
      "581:\tlearn: 0.1006530\ttotal: 538ms\tremaining: 386ms\n",
      "582:\tlearn: 0.1003958\ttotal: 539ms\tremaining: 385ms\n",
      "583:\tlearn: 0.1002199\ttotal: 540ms\tremaining: 384ms\n",
      "584:\tlearn: 0.1001096\ttotal: 540ms\tremaining: 383ms\n",
      "585:\tlearn: 0.0999128\ttotal: 541ms\tremaining: 382ms\n",
      "586:\tlearn: 0.0997419\ttotal: 542ms\tremaining: 381ms\n",
      "587:\tlearn: 0.0995156\ttotal: 543ms\tremaining: 380ms\n",
      "588:\tlearn: 0.0993631\ttotal: 544ms\tremaining: 379ms\n",
      "589:\tlearn: 0.0991598\ttotal: 544ms\tremaining: 378ms\n",
      "590:\tlearn: 0.0989571\ttotal: 545ms\tremaining: 377ms\n",
      "591:\tlearn: 0.0987423\ttotal: 546ms\tremaining: 376ms\n",
      "592:\tlearn: 0.0985413\ttotal: 547ms\tremaining: 375ms\n",
      "593:\tlearn: 0.0983459\ttotal: 548ms\tremaining: 374ms\n",
      "594:\tlearn: 0.0982603\ttotal: 549ms\tremaining: 373ms\n",
      "595:\tlearn: 0.0981658\ttotal: 549ms\tremaining: 372ms\n",
      "596:\tlearn: 0.0980190\ttotal: 550ms\tremaining: 371ms\n",
      "597:\tlearn: 0.0979589\ttotal: 551ms\tremaining: 370ms\n",
      "598:\tlearn: 0.0977586\ttotal: 552ms\tremaining: 369ms\n",
      "599:\tlearn: 0.0974872\ttotal: 553ms\tremaining: 368ms\n",
      "600:\tlearn: 0.0973214\ttotal: 553ms\tremaining: 367ms\n",
      "601:\tlearn: 0.0972013\ttotal: 554ms\tremaining: 366ms\n",
      "602:\tlearn: 0.0970606\ttotal: 555ms\tremaining: 366ms\n",
      "603:\tlearn: 0.0968393\ttotal: 556ms\tremaining: 365ms\n",
      "604:\tlearn: 0.0967245\ttotal: 557ms\tremaining: 364ms\n",
      "605:\tlearn: 0.0965548\ttotal: 558ms\tremaining: 363ms\n",
      "606:\tlearn: 0.0963758\ttotal: 559ms\tremaining: 362ms\n",
      "607:\tlearn: 0.0962589\ttotal: 560ms\tremaining: 361ms\n",
      "608:\tlearn: 0.0960228\ttotal: 560ms\tremaining: 360ms\n",
      "609:\tlearn: 0.0957826\ttotal: 561ms\tremaining: 359ms\n",
      "610:\tlearn: 0.0957235\ttotal: 562ms\tremaining: 358ms\n",
      "611:\tlearn: 0.0954582\ttotal: 563ms\tremaining: 357ms\n",
      "612:\tlearn: 0.0953464\ttotal: 564ms\tremaining: 356ms\n",
      "613:\tlearn: 0.0951397\ttotal: 564ms\tremaining: 355ms\n",
      "614:\tlearn: 0.0949767\ttotal: 565ms\tremaining: 354ms\n",
      "615:\tlearn: 0.0949103\ttotal: 566ms\tremaining: 353ms\n",
      "616:\tlearn: 0.0947654\ttotal: 567ms\tremaining: 352ms\n",
      "617:\tlearn: 0.0946303\ttotal: 567ms\tremaining: 351ms\n",
      "618:\tlearn: 0.0945133\ttotal: 568ms\tremaining: 350ms\n",
      "619:\tlearn: 0.0942717\ttotal: 569ms\tremaining: 349ms\n",
      "620:\tlearn: 0.0940956\ttotal: 570ms\tremaining: 348ms\n",
      "621:\tlearn: 0.0940203\ttotal: 570ms\tremaining: 347ms\n",
      "622:\tlearn: 0.0938161\ttotal: 571ms\tremaining: 346ms\n"
     ]
    },
    {
     "name": "stdout",
     "output_type": "stream",
     "text": [
      "623:\tlearn: 0.0936115\ttotal: 572ms\tremaining: 345ms\n",
      "624:\tlearn: 0.0933917\ttotal: 573ms\tremaining: 344ms\n",
      "625:\tlearn: 0.0932455\ttotal: 574ms\tremaining: 343ms\n",
      "626:\tlearn: 0.0931755\ttotal: 575ms\tremaining: 342ms\n",
      "627:\tlearn: 0.0929653\ttotal: 575ms\tremaining: 341ms\n",
      "628:\tlearn: 0.0927444\ttotal: 576ms\tremaining: 340ms\n",
      "629:\tlearn: 0.0925737\ttotal: 577ms\tremaining: 339ms\n",
      "630:\tlearn: 0.0924839\ttotal: 578ms\tremaining: 338ms\n",
      "631:\tlearn: 0.0923886\ttotal: 579ms\tremaining: 337ms\n",
      "632:\tlearn: 0.0922665\ttotal: 579ms\tremaining: 336ms\n",
      "633:\tlearn: 0.0921378\ttotal: 580ms\tremaining: 335ms\n",
      "634:\tlearn: 0.0920290\ttotal: 581ms\tremaining: 334ms\n",
      "635:\tlearn: 0.0918951\ttotal: 582ms\tremaining: 333ms\n",
      "636:\tlearn: 0.0916952\ttotal: 583ms\tremaining: 332ms\n",
      "637:\tlearn: 0.0915855\ttotal: 583ms\tremaining: 331ms\n",
      "638:\tlearn: 0.0913904\ttotal: 584ms\tremaining: 330ms\n",
      "639:\tlearn: 0.0911785\ttotal: 585ms\tremaining: 329ms\n",
      "640:\tlearn: 0.0910397\ttotal: 586ms\tremaining: 328ms\n",
      "641:\tlearn: 0.0908247\ttotal: 587ms\tremaining: 327ms\n",
      "642:\tlearn: 0.0906075\ttotal: 588ms\tremaining: 326ms\n",
      "643:\tlearn: 0.0905301\ttotal: 588ms\tremaining: 325ms\n",
      "644:\tlearn: 0.0904044\ttotal: 589ms\tremaining: 324ms\n",
      "645:\tlearn: 0.0901856\ttotal: 590ms\tremaining: 323ms\n",
      "646:\tlearn: 0.0900843\ttotal: 591ms\tremaining: 322ms\n",
      "647:\tlearn: 0.0899029\ttotal: 592ms\tremaining: 321ms\n",
      "648:\tlearn: 0.0897157\ttotal: 593ms\tremaining: 320ms\n",
      "649:\tlearn: 0.0895918\ttotal: 593ms\tremaining: 320ms\n",
      "650:\tlearn: 0.0894312\ttotal: 594ms\tremaining: 319ms\n",
      "651:\tlearn: 0.0892412\ttotal: 595ms\tremaining: 318ms\n",
      "652:\tlearn: 0.0890478\ttotal: 596ms\tremaining: 317ms\n",
      "653:\tlearn: 0.0889014\ttotal: 597ms\tremaining: 316ms\n",
      "654:\tlearn: 0.0888448\ttotal: 598ms\tremaining: 315ms\n",
      "655:\tlearn: 0.0886344\ttotal: 599ms\tremaining: 314ms\n",
      "656:\tlearn: 0.0885131\ttotal: 599ms\tremaining: 313ms\n",
      "657:\tlearn: 0.0883755\ttotal: 600ms\tremaining: 312ms\n",
      "658:\tlearn: 0.0882254\ttotal: 601ms\tremaining: 311ms\n",
      "659:\tlearn: 0.0881141\ttotal: 602ms\tremaining: 310ms\n",
      "660:\tlearn: 0.0880092\ttotal: 603ms\tremaining: 309ms\n",
      "661:\tlearn: 0.0878990\ttotal: 603ms\tremaining: 308ms\n",
      "662:\tlearn: 0.0877516\ttotal: 604ms\tremaining: 307ms\n",
      "663:\tlearn: 0.0875267\ttotal: 605ms\tremaining: 306ms\n",
      "664:\tlearn: 0.0874151\ttotal: 606ms\tremaining: 305ms\n",
      "665:\tlearn: 0.0873506\ttotal: 607ms\tremaining: 304ms\n",
      "666:\tlearn: 0.0872330\ttotal: 607ms\tremaining: 303ms\n",
      "667:\tlearn: 0.0870200\ttotal: 608ms\tremaining: 302ms\n",
      "668:\tlearn: 0.0869409\ttotal: 609ms\tremaining: 301ms\n",
      "669:\tlearn: 0.0868093\ttotal: 610ms\tremaining: 300ms\n",
      "670:\tlearn: 0.0867445\ttotal: 611ms\tremaining: 299ms\n",
      "671:\tlearn: 0.0866695\ttotal: 611ms\tremaining: 298ms\n",
      "672:\tlearn: 0.0866157\ttotal: 612ms\tremaining: 297ms\n",
      "673:\tlearn: 0.0864123\ttotal: 613ms\tremaining: 296ms\n",
      "674:\tlearn: 0.0862262\ttotal: 614ms\tremaining: 295ms\n",
      "675:\tlearn: 0.0861356\ttotal: 615ms\tremaining: 295ms\n",
      "676:\tlearn: 0.0860132\ttotal: 615ms\tremaining: 294ms\n",
      "677:\tlearn: 0.0858373\ttotal: 616ms\tremaining: 293ms\n",
      "678:\tlearn: 0.0857002\ttotal: 617ms\tremaining: 292ms\n",
      "679:\tlearn: 0.0855277\ttotal: 618ms\tremaining: 291ms\n",
      "680:\tlearn: 0.0853816\ttotal: 619ms\tremaining: 290ms\n",
      "681:\tlearn: 0.0852473\ttotal: 620ms\tremaining: 289ms\n",
      "682:\tlearn: 0.0850618\ttotal: 620ms\tremaining: 288ms\n",
      "683:\tlearn: 0.0849618\ttotal: 621ms\tremaining: 287ms\n",
      "684:\tlearn: 0.0848052\ttotal: 622ms\tremaining: 286ms\n",
      "685:\tlearn: 0.0846858\ttotal: 623ms\tremaining: 285ms\n",
      "686:\tlearn: 0.0845763\ttotal: 624ms\tremaining: 284ms\n",
      "687:\tlearn: 0.0843901\ttotal: 624ms\tremaining: 283ms\n",
      "688:\tlearn: 0.0842816\ttotal: 625ms\tremaining: 282ms\n",
      "689:\tlearn: 0.0841699\ttotal: 626ms\tremaining: 281ms\n",
      "690:\tlearn: 0.0840480\ttotal: 627ms\tremaining: 280ms\n",
      "691:\tlearn: 0.0839752\ttotal: 628ms\tremaining: 279ms\n",
      "692:\tlearn: 0.0838504\ttotal: 628ms\tremaining: 278ms\n",
      "693:\tlearn: 0.0837115\ttotal: 629ms\tremaining: 277ms\n",
      "694:\tlearn: 0.0835645\ttotal: 630ms\tremaining: 276ms\n",
      "695:\tlearn: 0.0834708\ttotal: 631ms\tremaining: 276ms\n",
      "696:\tlearn: 0.0833635\ttotal: 632ms\tremaining: 275ms\n",
      "697:\tlearn: 0.0832823\ttotal: 633ms\tremaining: 274ms\n",
      "698:\tlearn: 0.0830976\ttotal: 633ms\tremaining: 273ms\n",
      "699:\tlearn: 0.0829632\ttotal: 634ms\tremaining: 272ms\n",
      "700:\tlearn: 0.0828065\ttotal: 635ms\tremaining: 271ms\n",
      "701:\tlearn: 0.0825854\ttotal: 636ms\tremaining: 270ms\n",
      "702:\tlearn: 0.0824939\ttotal: 637ms\tremaining: 269ms\n",
      "703:\tlearn: 0.0824048\ttotal: 637ms\tremaining: 268ms\n",
      "704:\tlearn: 0.0823158\ttotal: 638ms\tremaining: 267ms\n",
      "705:\tlearn: 0.0821329\ttotal: 639ms\tremaining: 266ms\n",
      "706:\tlearn: 0.0820775\ttotal: 640ms\tremaining: 265ms\n",
      "707:\tlearn: 0.0818987\ttotal: 641ms\tremaining: 264ms\n",
      "708:\tlearn: 0.0818178\ttotal: 641ms\tremaining: 263ms\n",
      "709:\tlearn: 0.0816721\ttotal: 642ms\tremaining: 262ms\n",
      "710:\tlearn: 0.0814654\ttotal: 643ms\tremaining: 261ms\n",
      "711:\tlearn: 0.0813680\ttotal: 644ms\tremaining: 260ms\n",
      "712:\tlearn: 0.0812379\ttotal: 645ms\tremaining: 259ms\n",
      "713:\tlearn: 0.0811204\ttotal: 645ms\tremaining: 259ms\n",
      "714:\tlearn: 0.0810535\ttotal: 646ms\tremaining: 258ms\n",
      "715:\tlearn: 0.0809423\ttotal: 647ms\tremaining: 257ms\n",
      "716:\tlearn: 0.0808133\ttotal: 648ms\tremaining: 256ms\n",
      "717:\tlearn: 0.0807267\ttotal: 649ms\tremaining: 255ms\n",
      "718:\tlearn: 0.0806079\ttotal: 649ms\tremaining: 254ms\n",
      "719:\tlearn: 0.0803933\ttotal: 650ms\tremaining: 253ms\n",
      "720:\tlearn: 0.0802779\ttotal: 651ms\tremaining: 252ms\n",
      "721:\tlearn: 0.0802082\ttotal: 652ms\tremaining: 251ms\n",
      "722:\tlearn: 0.0801039\ttotal: 653ms\tremaining: 250ms\n",
      "723:\tlearn: 0.0799455\ttotal: 654ms\tremaining: 249ms\n",
      "724:\tlearn: 0.0798668\ttotal: 654ms\tremaining: 248ms\n",
      "725:\tlearn: 0.0797184\ttotal: 655ms\tremaining: 247ms\n",
      "726:\tlearn: 0.0795803\ttotal: 656ms\tremaining: 246ms\n",
      "727:\tlearn: 0.0794887\ttotal: 657ms\tremaining: 245ms\n",
      "728:\tlearn: 0.0793834\ttotal: 658ms\tremaining: 244ms\n",
      "729:\tlearn: 0.0792450\ttotal: 658ms\tremaining: 243ms\n",
      "730:\tlearn: 0.0790754\ttotal: 659ms\tremaining: 243ms\n",
      "731:\tlearn: 0.0789896\ttotal: 660ms\tremaining: 242ms\n",
      "732:\tlearn: 0.0788310\ttotal: 661ms\tremaining: 241ms\n",
      "733:\tlearn: 0.0787295\ttotal: 662ms\tremaining: 240ms\n",
      "734:\tlearn: 0.0786216\ttotal: 663ms\tremaining: 239ms\n",
      "735:\tlearn: 0.0784759\ttotal: 663ms\tremaining: 238ms\n",
      "736:\tlearn: 0.0783393\ttotal: 664ms\tremaining: 237ms\n",
      "737:\tlearn: 0.0782063\ttotal: 665ms\tremaining: 236ms\n",
      "738:\tlearn: 0.0781168\ttotal: 666ms\tremaining: 235ms\n",
      "739:\tlearn: 0.0779694\ttotal: 666ms\tremaining: 234ms\n",
      "740:\tlearn: 0.0778528\ttotal: 667ms\tremaining: 233ms\n",
      "741:\tlearn: 0.0776847\ttotal: 668ms\tremaining: 232ms\n",
      "742:\tlearn: 0.0776107\ttotal: 669ms\tremaining: 231ms\n",
      "743:\tlearn: 0.0774996\ttotal: 670ms\tremaining: 230ms\n",
      "744:\tlearn: 0.0773889\ttotal: 670ms\tremaining: 229ms\n",
      "745:\tlearn: 0.0772273\ttotal: 671ms\tremaining: 229ms\n",
      "746:\tlearn: 0.0771760\ttotal: 672ms\tremaining: 228ms\n",
      "747:\tlearn: 0.0770881\ttotal: 673ms\tremaining: 227ms\n",
      "748:\tlearn: 0.0770026\ttotal: 674ms\tremaining: 226ms\n",
      "749:\tlearn: 0.0768795\ttotal: 675ms\tremaining: 225ms\n",
      "750:\tlearn: 0.0767973\ttotal: 675ms\tremaining: 224ms\n",
      "751:\tlearn: 0.0766267\ttotal: 676ms\tremaining: 223ms\n",
      "752:\tlearn: 0.0764963\ttotal: 677ms\tremaining: 222ms\n",
      "753:\tlearn: 0.0763218\ttotal: 678ms\tremaining: 221ms\n"
     ]
    },
    {
     "name": "stdout",
     "output_type": "stream",
     "text": [
      "754:\tlearn: 0.0761720\ttotal: 680ms\tremaining: 221ms\n",
      "755:\tlearn: 0.0760869\ttotal: 681ms\tremaining: 220ms\n",
      "756:\tlearn: 0.0760282\ttotal: 681ms\tremaining: 219ms\n",
      "757:\tlearn: 0.0759197\ttotal: 682ms\tremaining: 218ms\n",
      "758:\tlearn: 0.0757833\ttotal: 683ms\tremaining: 217ms\n",
      "759:\tlearn: 0.0756438\ttotal: 684ms\tremaining: 216ms\n",
      "760:\tlearn: 0.0754971\ttotal: 685ms\tremaining: 215ms\n",
      "761:\tlearn: 0.0754098\ttotal: 686ms\tremaining: 214ms\n",
      "762:\tlearn: 0.0753550\ttotal: 687ms\tremaining: 213ms\n",
      "763:\tlearn: 0.0752791\ttotal: 687ms\tremaining: 212ms\n",
      "764:\tlearn: 0.0750824\ttotal: 688ms\tremaining: 211ms\n",
      "765:\tlearn: 0.0749592\ttotal: 689ms\tremaining: 210ms\n",
      "766:\tlearn: 0.0747459\ttotal: 690ms\tremaining: 210ms\n",
      "767:\tlearn: 0.0746568\ttotal: 691ms\tremaining: 209ms\n",
      "768:\tlearn: 0.0745393\ttotal: 692ms\tremaining: 208ms\n",
      "769:\tlearn: 0.0744369\ttotal: 693ms\tremaining: 207ms\n",
      "770:\tlearn: 0.0743178\ttotal: 693ms\tremaining: 206ms\n",
      "771:\tlearn: 0.0742415\ttotal: 694ms\tremaining: 205ms\n",
      "772:\tlearn: 0.0741173\ttotal: 695ms\tremaining: 204ms\n",
      "773:\tlearn: 0.0738876\ttotal: 696ms\tremaining: 203ms\n",
      "774:\tlearn: 0.0738067\ttotal: 697ms\tremaining: 202ms\n",
      "775:\tlearn: 0.0737164\ttotal: 697ms\tremaining: 201ms\n",
      "776:\tlearn: 0.0735682\ttotal: 698ms\tremaining: 200ms\n",
      "777:\tlearn: 0.0734766\ttotal: 699ms\tremaining: 200ms\n",
      "778:\tlearn: 0.0734290\ttotal: 700ms\tremaining: 199ms\n",
      "779:\tlearn: 0.0733176\ttotal: 701ms\tremaining: 198ms\n",
      "780:\tlearn: 0.0732069\ttotal: 702ms\tremaining: 197ms\n",
      "781:\tlearn: 0.0731739\ttotal: 702ms\tremaining: 196ms\n",
      "782:\tlearn: 0.0730517\ttotal: 703ms\tremaining: 195ms\n",
      "783:\tlearn: 0.0729162\ttotal: 704ms\tremaining: 194ms\n",
      "784:\tlearn: 0.0727992\ttotal: 705ms\tremaining: 193ms\n",
      "785:\tlearn: 0.0727172\ttotal: 706ms\tremaining: 192ms\n",
      "786:\tlearn: 0.0725504\ttotal: 706ms\tremaining: 191ms\n",
      "787:\tlearn: 0.0724525\ttotal: 707ms\tremaining: 190ms\n",
      "788:\tlearn: 0.0722320\ttotal: 708ms\tremaining: 189ms\n",
      "789:\tlearn: 0.0721143\ttotal: 709ms\tremaining: 188ms\n",
      "790:\tlearn: 0.0720101\ttotal: 710ms\tremaining: 188ms\n",
      "791:\tlearn: 0.0719123\ttotal: 711ms\tremaining: 187ms\n",
      "792:\tlearn: 0.0718070\ttotal: 712ms\tremaining: 186ms\n",
      "793:\tlearn: 0.0717341\ttotal: 712ms\tremaining: 185ms\n",
      "794:\tlearn: 0.0715440\ttotal: 713ms\tremaining: 184ms\n",
      "795:\tlearn: 0.0714197\ttotal: 714ms\tremaining: 183ms\n",
      "796:\tlearn: 0.0713525\ttotal: 715ms\tremaining: 182ms\n",
      "797:\tlearn: 0.0712624\ttotal: 716ms\tremaining: 181ms\n",
      "798:\tlearn: 0.0711306\ttotal: 717ms\tremaining: 180ms\n",
      "799:\tlearn: 0.0710032\ttotal: 718ms\tremaining: 180ms\n",
      "800:\tlearn: 0.0708394\ttotal: 719ms\tremaining: 179ms\n",
      "801:\tlearn: 0.0707526\ttotal: 720ms\tremaining: 178ms\n",
      "802:\tlearn: 0.0706675\ttotal: 721ms\tremaining: 177ms\n",
      "803:\tlearn: 0.0705290\ttotal: 722ms\tremaining: 176ms\n",
      "804:\tlearn: 0.0704132\ttotal: 722ms\tremaining: 175ms\n",
      "805:\tlearn: 0.0703390\ttotal: 723ms\tremaining: 174ms\n",
      "806:\tlearn: 0.0702306\ttotal: 724ms\tremaining: 173ms\n",
      "807:\tlearn: 0.0701855\ttotal: 725ms\tremaining: 172ms\n",
      "808:\tlearn: 0.0700486\ttotal: 726ms\tremaining: 171ms\n",
      "809:\tlearn: 0.0699432\ttotal: 727ms\tremaining: 170ms\n",
      "810:\tlearn: 0.0698338\ttotal: 727ms\tremaining: 169ms\n",
      "811:\tlearn: 0.0697193\ttotal: 728ms\tremaining: 169ms\n",
      "812:\tlearn: 0.0696415\ttotal: 729ms\tremaining: 168ms\n",
      "813:\tlearn: 0.0695155\ttotal: 730ms\tremaining: 167ms\n",
      "814:\tlearn: 0.0693660\ttotal: 731ms\tremaining: 166ms\n",
      "815:\tlearn: 0.0692731\ttotal: 731ms\tremaining: 165ms\n",
      "816:\tlearn: 0.0692221\ttotal: 732ms\tremaining: 164ms\n",
      "817:\tlearn: 0.0691343\ttotal: 733ms\tremaining: 163ms\n",
      "818:\tlearn: 0.0689506\ttotal: 734ms\tremaining: 162ms\n",
      "819:\tlearn: 0.0688815\ttotal: 735ms\tremaining: 161ms\n",
      "820:\tlearn: 0.0687433\ttotal: 736ms\tremaining: 160ms\n",
      "821:\tlearn: 0.0686634\ttotal: 737ms\tremaining: 160ms\n",
      "822:\tlearn: 0.0685916\ttotal: 738ms\tremaining: 159ms\n",
      "823:\tlearn: 0.0685185\ttotal: 739ms\tremaining: 158ms\n",
      "824:\tlearn: 0.0684508\ttotal: 739ms\tremaining: 157ms\n",
      "825:\tlearn: 0.0683703\ttotal: 740ms\tremaining: 156ms\n",
      "826:\tlearn: 0.0682671\ttotal: 741ms\tremaining: 155ms\n",
      "827:\tlearn: 0.0682138\ttotal: 742ms\tremaining: 154ms\n",
      "828:\tlearn: 0.0680526\ttotal: 743ms\tremaining: 153ms\n",
      "829:\tlearn: 0.0679881\ttotal: 743ms\tremaining: 152ms\n",
      "830:\tlearn: 0.0678994\ttotal: 744ms\tremaining: 151ms\n",
      "831:\tlearn: 0.0678306\ttotal: 745ms\tremaining: 150ms\n",
      "832:\tlearn: 0.0676962\ttotal: 746ms\tremaining: 150ms\n",
      "833:\tlearn: 0.0676446\ttotal: 747ms\tremaining: 149ms\n",
      "834:\tlearn: 0.0675238\ttotal: 748ms\tremaining: 148ms\n",
      "835:\tlearn: 0.0674120\ttotal: 749ms\tremaining: 147ms\n",
      "836:\tlearn: 0.0673514\ttotal: 749ms\tremaining: 146ms\n",
      "837:\tlearn: 0.0673185\ttotal: 750ms\tremaining: 145ms\n",
      "838:\tlearn: 0.0671937\ttotal: 751ms\tremaining: 144ms\n",
      "839:\tlearn: 0.0671116\ttotal: 752ms\tremaining: 143ms\n",
      "840:\tlearn: 0.0670547\ttotal: 753ms\tremaining: 142ms\n",
      "841:\tlearn: 0.0669537\ttotal: 753ms\tremaining: 141ms\n",
      "842:\tlearn: 0.0667943\ttotal: 754ms\tremaining: 140ms\n",
      "843:\tlearn: 0.0666682\ttotal: 755ms\tremaining: 140ms\n",
      "844:\tlearn: 0.0665504\ttotal: 756ms\tremaining: 139ms\n",
      "845:\tlearn: 0.0664859\ttotal: 757ms\tremaining: 138ms\n",
      "846:\tlearn: 0.0664285\ttotal: 757ms\tremaining: 137ms\n",
      "847:\tlearn: 0.0663704\ttotal: 758ms\tremaining: 136ms\n",
      "848:\tlearn: 0.0662950\ttotal: 759ms\tremaining: 135ms\n",
      "849:\tlearn: 0.0662016\ttotal: 760ms\tremaining: 134ms\n",
      "850:\tlearn: 0.0660656\ttotal: 761ms\tremaining: 133ms\n",
      "851:\tlearn: 0.0659948\ttotal: 762ms\tremaining: 132ms\n"
     ]
    },
    {
     "name": "stdout",
     "output_type": "stream",
     "text": [
      "852:\tlearn: 0.0658894\ttotal: 762ms\tremaining: 131ms\n",
      "853:\tlearn: 0.0657905\ttotal: 763ms\tremaining: 131ms\n",
      "854:\tlearn: 0.0657185\ttotal: 764ms\tremaining: 130ms\n",
      "855:\tlearn: 0.0656478\ttotal: 765ms\tremaining: 129ms\n",
      "856:\tlearn: 0.0655179\ttotal: 766ms\tremaining: 128ms\n",
      "857:\tlearn: 0.0654699\ttotal: 767ms\tremaining: 127ms\n",
      "858:\tlearn: 0.0653402\ttotal: 767ms\tremaining: 126ms\n",
      "859:\tlearn: 0.0651857\ttotal: 768ms\tremaining: 125ms\n",
      "860:\tlearn: 0.0650713\ttotal: 769ms\tremaining: 124ms\n",
      "861:\tlearn: 0.0650369\ttotal: 770ms\tremaining: 123ms\n",
      "862:\tlearn: 0.0650098\ttotal: 771ms\tremaining: 122ms\n",
      "863:\tlearn: 0.0649334\ttotal: 771ms\tremaining: 121ms\n",
      "864:\tlearn: 0.0648134\ttotal: 772ms\tremaining: 121ms\n",
      "865:\tlearn: 0.0646806\ttotal: 774ms\tremaining: 120ms\n",
      "866:\tlearn: 0.0645525\ttotal: 774ms\tremaining: 119ms\n",
      "867:\tlearn: 0.0644622\ttotal: 775ms\tremaining: 118ms\n",
      "868:\tlearn: 0.0643305\ttotal: 776ms\tremaining: 117ms\n",
      "869:\tlearn: 0.0643068\ttotal: 777ms\tremaining: 116ms\n",
      "870:\tlearn: 0.0641838\ttotal: 778ms\tremaining: 115ms\n",
      "871:\tlearn: 0.0640987\ttotal: 779ms\tremaining: 114ms\n",
      "872:\tlearn: 0.0639889\ttotal: 780ms\tremaining: 113ms\n",
      "873:\tlearn: 0.0638604\ttotal: 780ms\tremaining: 113ms\n",
      "874:\tlearn: 0.0638352\ttotal: 781ms\tremaining: 112ms\n",
      "875:\tlearn: 0.0636892\ttotal: 782ms\tremaining: 111ms\n",
      "876:\tlearn: 0.0636602\ttotal: 783ms\tremaining: 110ms\n",
      "877:\tlearn: 0.0635605\ttotal: 784ms\tremaining: 109ms\n",
      "878:\tlearn: 0.0634515\ttotal: 784ms\tremaining: 108ms\n",
      "879:\tlearn: 0.0633262\ttotal: 785ms\tremaining: 107ms\n",
      "880:\tlearn: 0.0632117\ttotal: 787ms\tremaining: 106ms\n",
      "881:\tlearn: 0.0631370\ttotal: 788ms\tremaining: 105ms\n",
      "882:\tlearn: 0.0630520\ttotal: 789ms\tremaining: 105ms\n",
      "883:\tlearn: 0.0629662\ttotal: 790ms\tremaining: 104ms\n",
      "884:\tlearn: 0.0629138\ttotal: 791ms\tremaining: 103ms\n",
      "885:\tlearn: 0.0628112\ttotal: 791ms\tremaining: 102ms\n",
      "886:\tlearn: 0.0627256\ttotal: 792ms\tremaining: 101ms\n",
      "887:\tlearn: 0.0625910\ttotal: 793ms\tremaining: 100ms\n",
      "888:\tlearn: 0.0625328\ttotal: 794ms\tremaining: 99.1ms\n",
      "889:\tlearn: 0.0623951\ttotal: 795ms\tremaining: 98.2ms\n",
      "890:\tlearn: 0.0623228\ttotal: 796ms\tremaining: 97.4ms\n",
      "891:\tlearn: 0.0622671\ttotal: 797ms\tremaining: 96.5ms\n",
      "892:\tlearn: 0.0622027\ttotal: 797ms\tremaining: 95.6ms\n",
      "893:\tlearn: 0.0621365\ttotal: 798ms\tremaining: 94.7ms\n",
      "894:\tlearn: 0.0620806\ttotal: 799ms\tremaining: 93.7ms\n",
      "895:\tlearn: 0.0620109\ttotal: 800ms\tremaining: 92.8ms\n",
      "896:\tlearn: 0.0619121\ttotal: 801ms\tremaining: 92ms\n",
      "897:\tlearn: 0.0618386\ttotal: 802ms\tremaining: 91.1ms\n",
      "898:\tlearn: 0.0617945\ttotal: 803ms\tremaining: 90.2ms\n",
      "899:\tlearn: 0.0617496\ttotal: 803ms\tremaining: 89.3ms\n",
      "900:\tlearn: 0.0616266\ttotal: 804ms\tremaining: 88.4ms\n",
      "901:\tlearn: 0.0615312\ttotal: 805ms\tremaining: 87.5ms\n",
      "902:\tlearn: 0.0614225\ttotal: 806ms\tremaining: 86.6ms\n",
      "903:\tlearn: 0.0613202\ttotal: 807ms\tremaining: 85.7ms\n",
      "904:\tlearn: 0.0612649\ttotal: 807ms\tremaining: 84.8ms\n",
      "905:\tlearn: 0.0612230\ttotal: 808ms\tremaining: 83.8ms\n",
      "906:\tlearn: 0.0611693\ttotal: 809ms\tremaining: 83ms\n",
      "907:\tlearn: 0.0610792\ttotal: 810ms\tremaining: 82.1ms\n",
      "908:\tlearn: 0.0610067\ttotal: 811ms\tremaining: 81.2ms\n",
      "909:\tlearn: 0.0609338\ttotal: 812ms\tremaining: 80.3ms\n",
      "910:\tlearn: 0.0607819\ttotal: 812ms\tremaining: 79.4ms\n",
      "911:\tlearn: 0.0607063\ttotal: 813ms\tremaining: 78.5ms\n",
      "912:\tlearn: 0.0605755\ttotal: 814ms\tremaining: 77.6ms\n",
      "913:\tlearn: 0.0604873\ttotal: 815ms\tremaining: 76.7ms\n",
      "914:\tlearn: 0.0604427\ttotal: 815ms\tremaining: 75.7ms\n",
      "915:\tlearn: 0.0603531\ttotal: 816ms\tremaining: 74.8ms\n",
      "916:\tlearn: 0.0602603\ttotal: 817ms\tremaining: 73.9ms\n",
      "917:\tlearn: 0.0601660\ttotal: 818ms\tremaining: 73ms\n",
      "918:\tlearn: 0.0601213\ttotal: 819ms\tremaining: 72.2ms\n",
      "919:\tlearn: 0.0600043\ttotal: 819ms\tremaining: 71.3ms\n",
      "920:\tlearn: 0.0598973\ttotal: 820ms\tremaining: 70.4ms\n",
      "921:\tlearn: 0.0597913\ttotal: 821ms\tremaining: 69.5ms\n",
      "922:\tlearn: 0.0597236\ttotal: 822ms\tremaining: 68.6ms\n",
      "923:\tlearn: 0.0596800\ttotal: 823ms\tremaining: 67.7ms\n",
      "924:\tlearn: 0.0595777\ttotal: 823ms\tremaining: 66.8ms\n",
      "925:\tlearn: 0.0594330\ttotal: 824ms\tremaining: 65.9ms\n",
      "926:\tlearn: 0.0593101\ttotal: 825ms\tremaining: 65ms\n",
      "927:\tlearn: 0.0592502\ttotal: 826ms\tremaining: 64.1ms\n",
      "928:\tlearn: 0.0592244\ttotal: 827ms\tremaining: 63.2ms\n",
      "929:\tlearn: 0.0590858\ttotal: 828ms\tremaining: 62.3ms\n",
      "930:\tlearn: 0.0590436\ttotal: 828ms\tremaining: 61.4ms\n",
      "931:\tlearn: 0.0589792\ttotal: 829ms\tremaining: 60.5ms\n",
      "932:\tlearn: 0.0588890\ttotal: 830ms\tremaining: 59.6ms\n",
      "933:\tlearn: 0.0588664\ttotal: 831ms\tremaining: 58.7ms\n",
      "934:\tlearn: 0.0587738\ttotal: 832ms\tremaining: 57.8ms\n",
      "935:\tlearn: 0.0587216\ttotal: 833ms\tremaining: 56.9ms\n",
      "936:\tlearn: 0.0586856\ttotal: 833ms\tremaining: 56ms\n",
      "937:\tlearn: 0.0586351\ttotal: 834ms\tremaining: 55.1ms\n",
      "938:\tlearn: 0.0585529\ttotal: 835ms\tremaining: 54.3ms\n",
      "939:\tlearn: 0.0585317\ttotal: 836ms\tremaining: 53.4ms\n",
      "940:\tlearn: 0.0584048\ttotal: 837ms\tremaining: 52.5ms\n",
      "941:\tlearn: 0.0583404\ttotal: 838ms\tremaining: 51.6ms\n",
      "942:\tlearn: 0.0582968\ttotal: 838ms\tremaining: 50.7ms\n",
      "943:\tlearn: 0.0582042\ttotal: 839ms\tremaining: 49.8ms\n",
      "944:\tlearn: 0.0580858\ttotal: 840ms\tremaining: 48.9ms\n",
      "945:\tlearn: 0.0580672\ttotal: 841ms\tremaining: 48ms\n",
      "946:\tlearn: 0.0580364\ttotal: 842ms\tremaining: 47.1ms\n",
      "947:\tlearn: 0.0579333\ttotal: 843ms\tremaining: 46.2ms\n",
      "948:\tlearn: 0.0578686\ttotal: 843ms\tremaining: 45.3ms\n",
      "949:\tlearn: 0.0577884\ttotal: 844ms\tremaining: 44.4ms\n",
      "950:\tlearn: 0.0576685\ttotal: 845ms\tremaining: 43.5ms\n",
      "951:\tlearn: 0.0575454\ttotal: 846ms\tremaining: 42.6ms\n",
      "952:\tlearn: 0.0575186\ttotal: 847ms\tremaining: 41.8ms\n",
      "953:\tlearn: 0.0573586\ttotal: 847ms\tremaining: 40.9ms\n",
      "954:\tlearn: 0.0573255\ttotal: 848ms\tremaining: 40ms\n",
      "955:\tlearn: 0.0572119\ttotal: 849ms\tremaining: 39.1ms\n",
      "956:\tlearn: 0.0570856\ttotal: 850ms\tremaining: 38.2ms\n",
      "957:\tlearn: 0.0570261\ttotal: 850ms\tremaining: 37.3ms\n",
      "958:\tlearn: 0.0570020\ttotal: 851ms\tremaining: 36.4ms\n",
      "959:\tlearn: 0.0569403\ttotal: 852ms\tremaining: 35.5ms\n",
      "960:\tlearn: 0.0568552\ttotal: 853ms\tremaining: 34.6ms\n",
      "961:\tlearn: 0.0567929\ttotal: 854ms\tremaining: 33.7ms\n",
      "962:\tlearn: 0.0567691\ttotal: 855ms\tremaining: 32.8ms\n",
      "963:\tlearn: 0.0567106\ttotal: 856ms\tremaining: 32ms\n",
      "964:\tlearn: 0.0566512\ttotal: 856ms\tremaining: 31.1ms\n",
      "965:\tlearn: 0.0565891\ttotal: 857ms\tremaining: 30.2ms\n",
      "966:\tlearn: 0.0565193\ttotal: 858ms\tremaining: 29.3ms\n",
      "967:\tlearn: 0.0564923\ttotal: 859ms\tremaining: 28.4ms\n",
      "968:\tlearn: 0.0563982\ttotal: 860ms\tremaining: 27.5ms\n",
      "969:\tlearn: 0.0563427\ttotal: 861ms\tremaining: 26.6ms\n",
      "970:\tlearn: 0.0562992\ttotal: 861ms\tremaining: 25.7ms\n",
      "971:\tlearn: 0.0562767\ttotal: 862ms\tremaining: 24.8ms\n",
      "972:\tlearn: 0.0561292\ttotal: 863ms\tremaining: 23.9ms\n",
      "973:\tlearn: 0.0560014\ttotal: 864ms\tremaining: 23.1ms\n",
      "974:\tlearn: 0.0559736\ttotal: 865ms\tremaining: 22.2ms\n",
      "975:\tlearn: 0.0558680\ttotal: 866ms\tremaining: 21.3ms\n",
      "976:\tlearn: 0.0557944\ttotal: 867ms\tremaining: 20.4ms\n",
      "977:\tlearn: 0.0556768\ttotal: 868ms\tremaining: 19.5ms\n",
      "978:\tlearn: 0.0556297\ttotal: 869ms\tremaining: 18.6ms\n",
      "979:\tlearn: 0.0555570\ttotal: 870ms\tremaining: 17.7ms\n"
     ]
    },
    {
     "name": "stdout",
     "output_type": "stream",
     "text": [
      "980:\tlearn: 0.0554845\ttotal: 871ms\tremaining: 16.9ms\n",
      "981:\tlearn: 0.0554335\ttotal: 871ms\tremaining: 16ms\n",
      "982:\tlearn: 0.0553997\ttotal: 873ms\tremaining: 15.1ms\n",
      "983:\tlearn: 0.0553316\ttotal: 874ms\tremaining: 14.2ms\n",
      "984:\tlearn: 0.0551918\ttotal: 875ms\tremaining: 13.3ms\n",
      "985:\tlearn: 0.0551745\ttotal: 875ms\tremaining: 12.4ms\n",
      "986:\tlearn: 0.0550842\ttotal: 876ms\tremaining: 11.5ms\n",
      "987:\tlearn: 0.0550042\ttotal: 877ms\tremaining: 10.7ms\n",
      "988:\tlearn: 0.0549094\ttotal: 878ms\tremaining: 9.76ms\n",
      "989:\tlearn: 0.0548443\ttotal: 879ms\tremaining: 8.88ms\n",
      "990:\tlearn: 0.0547935\ttotal: 879ms\tremaining: 7.99ms\n",
      "991:\tlearn: 0.0547309\ttotal: 880ms\tremaining: 7.1ms\n",
      "992:\tlearn: 0.0546476\ttotal: 881ms\tremaining: 6.21ms\n",
      "993:\tlearn: 0.0545956\ttotal: 882ms\tremaining: 5.32ms\n",
      "994:\tlearn: 0.0545684\ttotal: 883ms\tremaining: 4.43ms\n",
      "995:\tlearn: 0.0545021\ttotal: 883ms\tremaining: 3.55ms\n",
      "996:\tlearn: 0.0544457\ttotal: 884ms\tremaining: 2.66ms\n",
      "997:\tlearn: 0.0543802\ttotal: 885ms\tremaining: 1.77ms\n",
      "998:\tlearn: 0.0543429\ttotal: 886ms\tremaining: 886us\n",
      "999:\tlearn: 0.0542373\ttotal: 887ms\tremaining: 0us\n"
     ]
    },
    {
     "data": {
      "text/plain": [
       "<catboost.core.CatBoostRegressor at 0x7f956054a490>"
      ]
     },
     "execution_count": 9,
     "metadata": {},
     "output_type": "execute_result"
    }
   ],
   "source": [
    "#Train the Model \n",
    "prior_model = ctb.CatBoostRegressor()\n",
    "prior_model.fit(X_train,Y_train)"
   ]
  },
  {
   "cell_type": "code",
   "execution_count": 10,
   "id": "af65dcda",
   "metadata": {
    "execution": {
     "iopub.execute_input": "2022-06-11T17:47:55.303272Z",
     "iopub.status.busy": "2022-06-11T17:47:55.302866Z",
     "iopub.status.idle": "2022-06-11T17:47:55.310274Z",
     "shell.execute_reply": "2022-06-11T17:47:55.310610Z"
    },
    "id": "af65dcda",
    "papermill": {
     "duration": 0.021306,
     "end_time": "2022-06-11T17:47:55.310730",
     "exception": false,
     "start_time": "2022-06-11T17:47:55.289424",
     "status": "completed"
    },
    "tags": []
   },
   "outputs": [
    {
     "data": {
      "application/scrapbook.scrap.json+json": {
       "data": 0.09172260077792405,
       "encoder": "json",
       "name": "Prior Model MSE",
       "version": 1
      }
     },
     "metadata": {
      "scrapbook": {
       "data": true,
       "display": false,
       "name": "Prior Model MSE"
      }
     },
     "output_type": "display_data"
    },
    {
     "data": {
      "application/scrapbook.scrap.json+json": {
       "data": 0.09064921817958482,
       "encoder": "json",
       "name": "ABC Pre-generator MSE",
       "version": 1
      }
     },
     "metadata": {
      "scrapbook": {
       "data": true,
       "display": false,
       "name": "ABC Pre-generator MSE"
      }
     },
     "output_type": "display_data"
    },
    {
     "data": {
      "application/scrapbook.scrap.json+json": {
       "data": 0.20404329140351551,
       "encoder": "json",
       "name": "Prior Model MSE",
       "version": 1
      }
     },
     "metadata": {
      "scrapbook": {
       "data": true,
       "display": false,
       "name": "Prior Model MSE"
      }
     },
     "output_type": "display_data"
    },
    {
     "data": {
      "application/scrapbook.scrap.json+json": {
       "data": 0.20205244892949095,
       "encoder": "json",
       "name": "ABC Pre-generator MSE",
       "version": 1
      }
     },
     "metadata": {
      "scrapbook": {
       "data": true,
       "display": false,
       "name": "ABC Pre-generator MSE"
      }
     },
     "output_type": "display_data"
    }
   ],
   "source": [
    "y_pred = prior_model.predict(X_test)\n",
    "y_abc = y_pred + np.random.normal(0,variance, y_pred.shape) + bias \n",
    "mse = mean_squared_error(y_pred,Y_test)\n",
    "sb.glue(\"Prior Model MSE\",mse)\n",
    "mse = mean_squared_error(y_abc,Y_test)\n",
    "sb.glue(\"ABC Pre-generator MSE\",mse)\n",
    "mae = mean_absolute_error(y_pred,Y_test)\n",
    "sb.glue(\"Prior Model MSE\",mae)\n",
    "mae = mean_absolute_error(y_abc,Y_test)\n",
    "sb.glue(\"ABC Pre-generator MSE\",mae)"
   ]
  },
  {
   "cell_type": "markdown",
   "id": "25609da2",
   "metadata": {
    "papermill": {
     "duration": 0.00969,
     "end_time": "2022-06-11T17:47:55.330623",
     "exception": false,
     "start_time": "2022-06-11T17:47:55.320933",
     "status": "completed"
    },
    "tags": []
   },
   "source": [
    "# ABC GAN Model"
   ]
  },
  {
   "cell_type": "code",
   "execution_count": 11,
   "id": "dfc3464d",
   "metadata": {
    "execution": {
     "iopub.execute_input": "2022-06-11T17:47:55.353128Z",
     "iopub.status.busy": "2022-06-11T17:47:55.352758Z",
     "iopub.status.idle": "2022-06-11T17:47:55.355165Z",
     "shell.execute_reply": "2022-06-11T17:47:55.355408Z"
    },
    "papermill": {
     "duration": 0.015132,
     "end_time": "2022-06-11T17:47:55.355517",
     "exception": false,
     "start_time": "2022-06-11T17:47:55.340385",
     "status": "completed"
    },
    "tags": []
   },
   "outputs": [],
   "source": [
    "gen = network.Generator(n_features+1).to(device)\n",
    "disc = network.Discriminator(n_features+1).to(device)\n",
    "\n",
    "criterion = torch.nn.BCELoss()\n",
    "gen_opt = torch.optim.Adam(gen.parameters(), lr=0.001, betas=(0.5, 0.999))\n",
    "disc_opt = torch.optim.Adam(disc.parameters(), lr=0.001, betas=(0.5, 0.999))"
   ]
  },
  {
   "cell_type": "code",
   "execution_count": 12,
   "id": "b75fdd85",
   "metadata": {
    "execution": {
     "iopub.execute_input": "2022-06-11T17:47:55.377844Z",
     "iopub.status.busy": "2022-06-11T17:47:55.377481Z",
     "iopub.status.idle": "2022-06-11T17:48:56.168613Z",
     "shell.execute_reply": "2022-06-11T17:48:56.168915Z"
    },
    "papermill": {
     "duration": 60.803611,
     "end_time": "2022-06-11T17:48:56.169037",
     "exception": false,
     "start_time": "2022-06-11T17:47:55.365426",
     "status": "completed"
    },
    "tags": []
   },
   "outputs": [
    {
     "data": {
      "image/png": "[encoded data removed]",
      "text/plain": [
       "<Figure size 432x288 with 1 Axes>"
      ]
     },
     "metadata": {
      "needs_background": "light"
     },
     "output_type": "display_data"
    },
    {
     "data": {
      "image/png": "[encoded data removed]",
      "text/plain": [
       "<Figure size 432x288 with 1 Axes>"
      ]
     },
     "metadata": {
      "needs_background": "light"
     },
     "output_type": "display_data"
    }
   ],
   "source": [
    "#Training the ABC_GAN \n",
    "ABC_train_test2.training_GAN(disc,gen,disc_opt,gen_opt,train_data,batch_size,n_epochs,criterion,prior_model,variance,bias,device)"
   ]
  },
  {
   "cell_type": "code",
   "execution_count": 13,
   "id": "1fa7c368",
   "metadata": {
    "execution": {
     "iopub.execute_input": "2022-06-11T17:48:56.194203Z",
     "iopub.status.busy": "2022-06-11T17:48:56.193676Z",
     "iopub.status.idle": "2022-06-11T17:48:56.506826Z",
     "shell.execute_reply": "2022-06-11T17:48:56.507122Z"
    },
    "papermill": {
     "duration": 0.327383,
     "end_time": "2022-06-11T17:48:56.507242",
     "exception": false,
     "start_time": "2022-06-11T17:48:56.179859",
     "status": "completed"
    },
    "tags": []
   },
   "outputs": [
    {
     "data": {
      "application/scrapbook.scrap.json+json": {
       "data": 0.09636823118246987,
       "encoder": "json",
       "name": "ABC-GAN Model 1 MSE",
       "version": 1
      }
     },
     "metadata": {
      "scrapbook": {
       "data": true,
       "display": false,
       "name": "ABC-GAN Model 1 MSE"
      }
     },
     "output_type": "display_data"
    },
    {
     "data": {
      "application/scrapbook.scrap.json+json": {
       "data": 0.23594642345337014,
       "encoder": "json",
       "name": "ABC-GAN Model 1 MAE",
       "version": 1
      }
     },
     "metadata": {
      "scrapbook": {
       "data": true,
       "display": false,
       "name": "ABC-GAN Model 1 MAE"
      }
     },
     "output_type": "display_data"
    },
    {
     "data": {
      "application/scrapbook.scrap.json+json": {
       "data": 24.066535192243755,
       "encoder": "json",
       "name": "ABC-GAN Model 1 Manhattan Distance",
       "version": 1
      }
     },
     "metadata": {
      "scrapbook": {
       "data": true,
       "display": false,
       "name": "ABC-GAN Model 1 Manhattan Distance"
      }
     },
     "output_type": "display_data"
    },
    {
     "data": {
      "application/scrapbook.scrap.json+json": {
       "data": 3.1351944450698137,
       "encoder": "json",
       "name": "ABC-GAN Model 1 Euclidean distance",
       "version": 1
      }
     },
     "metadata": {
      "scrapbook": {
       "data": true,
       "display": false,
       "name": "ABC-GAN Model 1 Euclidean distance"
      }
     },
     "output_type": "display_data"
    },
    {
     "data": {
      "application/scrapbook.scrap.json+json": {
       "data": [
        [
         0.0962697327495877,
         0.09724220338897294,
         0.09619832375254686,
         0.09677349114245917,
         0.09615870601484765,
         0.09568592623334861,
         0.09667802236121581,
         0.09684421992905361,
         0.09639028091405451,
         0.09607663662019188,
         0.09572990663451235,
         0.09632506152301493,
         0.09631479016544532,
         0.09629449823907588,
         0.09504959423429096,
         0.09541990994870922,
         0.09610316667681089,
         0.0962517450404328,
         0.09618360164260346,
         0.09570293361434029,
         0.09750520294855056,
         0.09720446805329398,
         0.09576835452937087,
         0.09538929078655053,
         0.09522483941666819,
         0.09618246705168713,
         0.09631379657813689,
         0.09631766396329187,
         0.09600409929297424,
         0.09593092027656336,
         0.09704711126205783,
         0.09624023119829654,
         0.09631540144114008,
         0.09606909780425074,
         0.09692328045197185,
         0.09717023329253802,
         0.09571356602404599,
         0.09616407935370992,
         0.09633716701518366,
         0.09542078689800167,
         0.09588990860152177,
         0.09530823304111284,
         0.09819417660078347,
         0.09626604249322554,
         0.0964887972978343,
         0.09752610622419607,
         0.09545909404566662,
         0.09621612741248665,
         0.09789595403999217,
         0.09621923004198156,
         0.09684884969127196,
         0.09689272420240026,
         0.0969184003956784,
         0.09639085146672087,
         0.09608108693856454,
         0.09636338035909565,
         0.09563914402693247,
         0.09690558211202518,
         0.09609803434917902,
         0.09671819931532259,
         0.09696113699453648,
         0.09712936968262577,
         0.09614145161069365,
         0.09761301565267225,
         0.09595286573470176,
         0.09617150874083862,
         0.09640124357258363,
         0.09618868994271917,
         0.09596331612336068,
         0.09672666344796224,
         0.09713939656733739,
         0.09635863718673766,
         0.0955462927310651,
         0.09613259456218667,
         0.09616576127033433,
         0.096616048353257,
         0.09547596490249387,
         0.0963913858399057,
         0.09623426079718507,
         0.09477480044775104,
         0.097237951414393,
         0.0953893585186758,
         0.09679797552125838,
         0.09598779885352586,
         0.09595188672549593,
         0.0953543833157077,
         0.0961143744161883,
         0.09575520649935718,
         0.09698477036583127,
         0.09778428452346954,
         0.09574657511188697,
         0.09595402081106766,
         0.09658897511931569,
         0.09734341396909105,
         0.09733953635540588,
         0.09756338869599926,
         0.09658820363919687,
         0.09694907165967112,
         0.097058357998672,
         0.09699444945203854
        ],
        [
         0.23523771778369942,
         0.23764588772410564,
         0.23572970883847744,
         0.23700644617315894,
         0.23509973127796663,
         0.23522369958935122,
         0.23578921238910042,
         0.23583958664105512,
         0.23575190988862338,
         0.23697167372915381,
         0.2364200804400824,
         0.23582691437217826,
         0.23522172883773843,
         0.23519305768879314,
         0.23380224487981668,
         0.23465837451501512,
         0.23553382956842875,
         0.2364660224000759,
         0.23553702630577425,
         0.23513804420865342,
         0.23765036639958328,
         0.23683182735397829,
         0.23515680272533906,
         0.2355218725552892,
         0.23430534701465683,
         0.2359239413841244,
         0.23621003871199256,
         0.23593025187980018,
         0.23513742427652082,
         0.2356693576747442,
         0.23735617452721094,
         0.2349621187621618,
         0.2352268520614826,
         0.23578874738521727,
         0.23723865315938988,
         0.23737406315208942,
         0.2338549323909569,
         0.23492177481781326,
         0.2366588518991336,
         0.2355363310643417,
         0.23513791652615457,
         0.2344016685588833,
         0.2390034400456238,
         0.23583184943223992,
         0.23577929011491291,
         0.23851303245835737,
         0.23358864184724643,
         0.2362444850835292,
         0.23742785641704411,
         0.2362437394411102,
         0.23608866006172463,
         0.2376461007230568,
         0.23778326620402582,
         0.23666461258578828,
         0.23543472384449607,
         0.2354608485018652,
         0.23563566556492566,
         0.23557834211262127,
         0.23631403691080563,
         0.23622897662697176,
         0.23606232642287425,
         0.23724989345589398,
         0.23558273415683822,
         0.23713146063371324,
         0.23516562348231673,
         0.23561127440930874,
         0.23598863609025583,
         0.23648708767495027,
         0.23441181858709337,
         0.2377190121047783,
         0.23873233051021017,
         0.23539221974308877,
         0.23489077594679067,
         0.23573438166732005,
         0.23583850367725187,
         0.23626065693393933,
         0.23509289354414625,
         0.23658518435652642,
         0.23503973394376682,
         0.233660762371751,
         0.2372530152491641,
         0.23437048700254628,
         0.2359321883003063,
         0.23547019766570598,
         0.23619356080341866,
         0.23453561275941776,
         0.23521982923186585,
         0.23584346503348036,
         0.23667113629954994,
         0.23671983490131943,
         0.2350249274487735,
         0.2343161429789867,
         0.23621343749155307,
         0.23647967704991793,
         0.2368042455967881,
         0.2371015008265043,
         0.2364606007878833,
         0.2367376216285515,
         0.23571183694088282,
         0.23658993811912687
        ],
        [
         23.994247213937342,
         24.239880547858775,
         24.0444303015247,
         24.17465750966221,
         23.980172590352595,
         23.992817358113825,
         24.050499663688242,
         24.05563783738762,
         24.046694808639586,
         24.17111072037369,
         24.114848204888403,
         24.054345265962183,
         23.99261634144932,
         23.9896918842569,
         23.8478289777413,
         23.935154200531542,
         24.02445061597973,
         24.11953428480774,
         24.024776683188975,
         23.98408050928265,
         24.240337372757494,
         24.156846390105784,
         23.985993877984583,
         24.0232310006395,
         23.899145395494998,
         24.06424202118069,
         24.09342394862324,
         24.06488569173962,
         23.984017276205122,
         24.03827448282391,
         24.210329801775515,
         23.966136113740504,
         23.993138910271227,
         24.050452233292162,
         24.19834262225777,
         24.21215444151312,
         23.853203103877604,
         23.962021031416953,
         24.139202893711627,
         24.024705768562853,
         23.984067485667765,
         23.9089701930061,
         24.378350884653628,
         24.054848642088473,
         24.049487591721117,
         24.32832931075245,
         23.826041468419135,
         24.096937478519976,
         24.2176413545385,
         24.096861422993243,
         24.081043326295912,
         24.239902273751795,
         24.253893152810633,
         24.139790483750403,
         24.014341832138598,
         24.01700654719025,
         24.034837887622416,
         24.028990895487368,
         24.104031764902174,
         24.09535561595112,
         24.078357295133173,
         24.199489132501185,
         24.0294388839975,
         24.18740898463875,
         23.986893595196307,
         24.03234998974949,
         24.070840881206095,
         24.121682942844927,
         23.910005495883524,
         24.247339234687388,
         24.350697712041438,
         24.010006413795054,
         23.95885914657265,
         24.044906930066645,
         24.05552737507969,
         24.098587007261813,
         23.979475141502917,
         24.131688804365695,
         23.974052862264216,
         23.833397761918604,
         24.199807555414736,
         23.905789674259722,
         24.065083206631243,
         24.01796016190201,
         24.091743201948702,
         23.922632501460612,
         23.992422581650317,
         24.056033433414996,
         24.140455902554095,
         24.14542315993458,
         23.972542599774897,
         23.900246583856642,
         24.093770624138415,
         24.120927059091628,
         24.154033050872386,
         24.18435308430344,
         24.118981280364096,
         24.147237406112254,
         24.04260736797005,
         24.132173688150942
        ],
        [
         3.133610176850008,
         3.1493975210625984,
         3.1324477685605197,
         3.1417982265783446,
         3.1318026779339814,
         3.124094184848075,
         3.140248124088925,
         3.142946139017254,
         3.135571503447746,
         3.1304659294200228,
         3.1248120706244493,
         3.134510532020513,
         3.134343407617522,
         3.1340132131798253,
         3.1136889073730014,
         3.1197485178726088,
         3.1308981141255146,
         3.133317410369423,
         3.132208065813245,
         3.1243718134470977,
         3.1536535479903547,
         3.148786391839876,
         3.1254395150115806,
         3.119247931830388,
         3.1165579764381333,
         3.1321895918465854,
         3.1343272405685343,
         3.134390167840591,
         3.1292839640856145,
         3.1280910901393937,
         3.1462366962340735,
         3.133129997658291,
         3.1343533538827892,
         3.1303431083562665,
         3.144228777633893,
         3.1482318523004107,
         3.124545364441472,
         3.1318901791216134,
         3.1347074880359624,
         3.1197628537432402,
         3.127422369516983,
         3.117922348326447,
         3.1647758235426258,
         3.1335501167699555,
         3.1371734609962347,
         3.1539915717813822,
         3.1203890130331495,
         3.132737620049537,
         3.159966346668773,
         3.1327881294913826,
         3.143021264406231,
         3.1437331102758748,
         3.1441496211788644,
         3.1355807834603024,
         3.1305384309625683,
         3.1351339359950403,
         3.1233303845009917,
         3.1439416940246474,
         3.1308145112120993,
         3.1409005603748272,
         3.144842758142721,
         3.147569809810074,
         3.13152168510626,
         3.1553965830894484,
         3.128448865642457,
         3.1320111576374594,
         3.1357498057727002,
         3.132290914675288,
         3.1286192233288457,
         3.1410379927170804,
         3.1477322709958053,
         3.135056776686387,
         3.1218138731462894,
         3.1313774357849353,
         3.131917567493452,
         3.139241458064704,
         3.120664740092145,
         3.135589474990369,
         3.133032812038979,
         3.1091847236326444,
         3.149328665647344,
         3.1192490392568732,
         3.1421956500460557,
         3.1290182938199065,
         3.128432905785352,
         3.1186771391412393,
         3.131080674535743,
         3.125224961972247,
         3.1452259978123647,
         3.158163552033664,
         3.1250841046942193,
         3.128467695650524,
         3.138801596496694,
         3.1510360557834445,
         3.1509732953884897,
         3.154594371229353,
         3.138789061277944,
         3.144647088193912,
         3.14641899877695,
         3.145382940773338
        ]
       ],
       "encoder": "json",
       "name": "ABC_GAN_1 Metrics",
       "version": 1
      }
     },
     "metadata": {
      "scrapbook": {
       "data": true,
       "display": false,
       "name": "ABC_GAN_1 Metrics"
      }
     },
     "output_type": "display_data"
    },
    {
     "name": "stdout",
     "output_type": "stream",
     "text": [
      "MSE\n",
      "0.09636823118246987\n"
     ]
    }
   ],
   "source": [
    "ABC_GAN1_metrics=ABC_train_test2.test_generator(gen,test_data,prior_model,variance,bias,\"1\",device)\n",
    "sb.glue(\"ABC_GAN_1 Metrics\",ABC_GAN1_metrics)\n",
    "\n",
    "print(\"MSE\")\n",
    "print(mean(ABC_GAN1_metrics[0]))"
   ]
  },
  {
   "cell_type": "code",
   "execution_count": 14,
   "id": "eb22ce5c",
   "metadata": {
    "execution": {
     "iopub.execute_input": "2022-06-11T17:48:56.535525Z",
     "iopub.status.busy": "2022-06-11T17:48:56.535140Z",
     "iopub.status.idle": "2022-06-11T17:48:56.858412Z",
     "shell.execute_reply": "2022-06-11T17:48:56.858713Z"
    },
    "papermill": {
     "duration": 0.33905,
     "end_time": "2022-06-11T17:48:56.858834",
     "exception": false,
     "start_time": "2022-06-11T17:48:56.519784",
     "status": "completed"
    },
    "tags": []
   },
   "outputs": [
    {
     "data": {
      "image/png": "[encoded data removed]",
      "text/plain": [
       "<Figure size 432x288 with 1 Axes>"
      ]
     },
     "metadata": {
      "needs_background": "light"
     },
     "output_type": "display_data"
    },
    {
     "data": {
      "image/png": "[encoded data removed]",
      "text/plain": [
       "<Figure size 432x288 with 1 Axes>"
      ]
     },
     "metadata": {
      "needs_background": "light"
     },
     "output_type": "display_data"
    },
    {
     "data": {
      "image/png": "[encoded data removed]",
      "text/plain": [
       "<Figure size 432x288 with 1 Axes>"
      ]
     },
     "metadata": {
      "needs_background": "light"
     },
     "output_type": "display_data"
    },
    {
     "data": {
      "image/png": "[encoded data removed]",
      "text/plain": [
       "<Figure size 432x288 with 1 Axes>"
      ]
     },
     "metadata": {
      "needs_background": "light"
     },
     "output_type": "display_data"
    }
   ],
   "source": [
    "sanityChecks.discProbVsError(train_data,disc,device)\n",
    "sanityChecks.discProbVsError(test_data,disc,device)"
   ]
  },
  {
   "cell_type": "markdown",
   "id": "130f3a4d",
   "metadata": {
    "id": "130f3a4d",
    "papermill": {
     "duration": 0.014342,
     "end_time": "2022-06-11T17:48:56.887997",
     "exception": false,
     "start_time": "2022-06-11T17:48:56.873655",
     "status": "completed"
    },
    "tags": []
   },
   "source": [
    "# ABC - GAN Model with skip connection"
   ]
  },
  {
   "cell_type": "code",
   "execution_count": 15,
   "id": "4e43dad1",
   "metadata": {
    "execution": {
     "iopub.execute_input": "2022-06-11T17:48:56.921073Z",
     "iopub.status.busy": "2022-06-11T17:48:56.920702Z",
     "iopub.status.idle": "2022-06-11T17:48:56.922847Z",
     "shell.execute_reply": "2022-06-11T17:48:56.923106Z"
    },
    "id": "4e43dad1",
    "papermill": {
     "duration": 0.020749,
     "end_time": "2022-06-11T17:48:56.923223",
     "exception": false,
     "start_time": "2022-06-11T17:48:56.902474",
     "status": "completed"
    },
    "tags": []
   },
   "outputs": [],
   "source": [
    "#Generator\n",
    "gen3 = network.GeneratorWithSkipConnection(n_features+1).to(device)\n",
    "constraints=network.weightConstraint()\n",
    "#Discriminator \n",
    "disc3 = network.Discriminator(n_features+1).to(device)\n",
    "\n",
    "criterion = torch.nn.BCELoss()\n",
    "gen_opt = torch.optim.Adam(gen3.parameters(), lr=0.001, betas=(0.5, 0.999))\n",
    "disc_opt = torch.optim.Adam(disc3.parameters(), lr=0.001, betas=(0.5, 0.999))\n"
   ]
  },
  {
   "cell_type": "code",
   "execution_count": 16,
   "id": "26acbc37",
   "metadata": {
    "execution": {
     "iopub.execute_input": "2022-06-11T17:48:56.955217Z",
     "iopub.status.busy": "2022-06-11T17:48:56.954849Z",
     "iopub.status.idle": "2022-06-11T17:51:58.026068Z",
     "shell.execute_reply": "2022-06-11T17:51:58.026376Z"
    },
    "id": "26acbc37",
    "papermill": {
     "duration": 181.088227,
     "end_time": "2022-06-11T17:51:58.026501",
     "exception": false,
     "start_time": "2022-06-11T17:48:56.938274",
     "status": "completed"
    },
    "tags": []
   },
   "outputs": [
    {
     "data": {
      "image/png": "[encoded data removed]",
      "text/plain": [
       "<Figure size 432x288 with 1 Axes>"
      ]
     },
     "metadata": {
      "needs_background": "light"
     },
     "output_type": "display_data"
    },
    {
     "data": {
      "image/png": "[encoded data removed]",
      "text/plain": [
       "<Figure size 432x288 with 1 Axes>"
      ]
     },
     "metadata": {
      "needs_background": "light"
     },
     "output_type": "display_data"
    }
   ],
   "source": [
    "ABC_train_test2.training_GAN_skip_connection(disc3,gen3,disc_opt,gen_opt,train_data,batch_size,n_epochs,criterion,prior_model,variance,bias,device)"
   ]
  },
  {
   "cell_type": "code",
   "execution_count": 17,
   "id": "c5e0717b",
   "metadata": {
    "execution": {
     "iopub.execute_input": "2022-06-11T17:51:58.060143Z",
     "iopub.status.busy": "2022-06-11T17:51:58.059714Z",
     "iopub.status.idle": "2022-06-11T17:51:58.896685Z",
     "shell.execute_reply": "2022-06-11T17:51:58.896968Z"
    },
    "id": "c5e0717b",
    "papermill": {
     "duration": 0.855186,
     "end_time": "2022-06-11T17:51:58.897089",
     "exception": false,
     "start_time": "2022-06-11T17:51:58.041903",
     "status": "completed"
    },
    "tags": []
   },
   "outputs": [
    {
     "data": {
      "application/scrapbook.scrap.json+json": {
       "data": 0.09148207014646532,
       "encoder": "json",
       "name": "ABC-GAN Model 3 MSE",
       "version": 1
      }
     },
     "metadata": {
      "scrapbook": {
       "data": true,
       "display": false,
       "name": "ABC-GAN Model 3 MSE"
      }
     },
     "output_type": "display_data"
    },
    {
     "data": {
      "application/scrapbook.scrap.json+json": {
       "data": 0.20344890040055155,
       "encoder": "json",
       "name": "ABC-GAN Model 3 MAE",
       "version": 1
      }
     },
     "metadata": {
      "scrapbook": {
       "data": true,
       "display": false,
       "name": "ABC-GAN Model 3 MAE"
      }
     },
     "output_type": "display_data"
    },
    {
     "data": {
      "application/scrapbook.scrap.json+json": {
       "data": 20.75178784085626,
       "encoder": "json",
       "name": "ABC-GAN Model 3 Manhattan Distance",
       "version": 1
      }
     },
     "metadata": {
      "scrapbook": {
       "data": true,
       "display": false,
       "name": "ABC-GAN Model 3 Manhattan Distance"
      }
     },
     "output_type": "display_data"
    },
    {
     "data": {
      "application/scrapbook.scrap.json+json": {
       "data": 3.0546821743007357,
       "encoder": "json",
       "name": "ABC-GAN Model 3 Euclidean distance",
       "version": 1
      }
     },
     "metadata": {
      "scrapbook": {
       "data": true,
       "display": false,
       "name": "ABC-GAN Model 3 Euclidean distance"
      }
     },
     "output_type": "display_data"
    },
    {
     "data": {
      "application/scrapbook.scrap.json+json": {
       "data": [
        [
         0.09085839163083409,
         0.09111571034949487,
         0.09155303902156652,
         0.09176031045305806,
         0.09112756105856416,
         0.0921905719500466,
         0.09079907639613762,
         0.09183164020117776,
         0.09177176868816102,
         0.09175933238755536,
         0.091297397921821,
         0.09157970623423767,
         0.09123116719837288,
         0.09111992665470692,
         0.09103795558785346,
         0.09195379409227568,
         0.09109008054804857,
         0.09159322515501456,
         0.09191201985424757,
         0.09178507670791268,
         0.09056941939854715,
         0.09132016990833076,
         0.09140507046109525,
         0.09206061145097749,
         0.09136387534830039,
         0.09255601483836795,
         0.09098405749507672,
         0.09111518678762284,
         0.09089456382584166,
         0.09190788079044963,
         0.09140229792856841,
         0.09238091076649402,
         0.09033287781057286,
         0.09211107759007973,
         0.0920547948230926,
         0.09161979443034958,
         0.09184244460838001,
         0.0912766126647259,
         0.09182264878952355,
         0.09075341043919624,
         0.09204014269096042,
         0.09214858534431052,
         0.09120634088178627,
         0.09216538245394279,
         0.09050737215173613,
         0.09105699603611257,
         0.09078367980746795,
         0.09074111658846473,
         0.0917641334800629,
         0.09160824642887265,
         0.09207794122784786,
         0.09059583280465028,
         0.09144020728166997,
         0.09199481467303258,
         0.0922291458418392,
         0.09170799796526379,
         0.09199175078662652,
         0.09124847062499307,
         0.09082049992724718,
         0.09190230262177976,
         0.0915391168970313,
         0.09175239275281578,
         0.0913427016767187,
         0.09254608992729307,
         0.09107683584193736,
         0.09161107344148797,
         0.09111210689675846,
         0.09069851827096277,
         0.09087651179288571,
         0.09181288479487215,
         0.08986272406771573,
         0.09094445513721978,
         0.09134994516881044,
         0.09173327276827166,
         0.09146479685510771,
         0.09185608058045452,
         0.09220967151251944,
         0.09169523279364131,
         0.09180882829613356,
         0.0907443277054457,
         0.09161223379654537,
         0.09127172350249643,
         0.09156507823282323,
         0.09198581834074485,
         0.0913298163980412,
         0.0921374457333417,
         0.0917287680227919,
         0.09230695876086506,
         0.09135568823246801,
         0.09316597130742904,
         0.09036109230708991,
         0.0905080357149314,
         0.09106464699511,
         0.09128965793933529,
         0.09153686739576063,
         0.09104101246360795,
         0.09185830488578983,
         0.09181314757180171,
         0.09091746276228053,
         0.09214728523984772
        ],
        [
         0.20379923394534225,
         0.20313968055644163,
         0.20224212594664148,
         0.2040040531999194,
         0.20241870536176743,
         0.20444094699603418,
         0.20335494801767318,
         0.20423701039387607,
         0.2043268787857218,
         0.2041580261646624,
         0.20262886084360526,
         0.20350889964303112,
         0.20163130839058546,
         0.20261727477989944,
         0.2023057720678694,
         0.20273004317035279,
         0.2027977432087794,
         0.20300010291348194,
         0.20413501691484057,
         0.20388009439350344,
         0.20314328385261343,
         0.20214613879957766,
         0.20251746435179466,
         0.2039304385509561,
         0.20423088269764741,
         0.2039821074440089,
         0.2021636954855685,
         0.2028359199563662,
         0.2026627099725838,
         0.20367918505336788,
         0.20195388714508974,
         0.20410161129856372,
         0.20292742852596382,
         0.2040804128628224,
         0.20473390121432936,
         0.20443909953110942,
         0.2035475052509676,
         0.20329339616000652,
         0.20385815647850727,
         0.20414691747111433,
         0.2045430048693008,
         0.2026249696723158,
         0.20394648774983545,
         0.2033906776786727,
         0.20268553642552647,
         0.20387897325460524,
         0.20243172563941164,
         0.20211371630612834,
         0.20390526397044167,
         0.20271151745691895,
         0.20420277240804816,
         0.20262617220663848,
         0.2033053461608349,
         0.20412326041225562,
         0.20395917524857557,
         0.20448645879229183,
         0.20423004116780838,
         0.20302050153030923,
         0.20352055132389069,
         0.20347128340326176,
         0.2038087433057965,
         0.20460125806686633,
         0.2033998497827983,
         0.20525228996605924,
         0.20308611836677015,
         0.20368790394608297,
         0.20311974486628293,
         0.2023701838208545,
         0.2019960283959175,
         0.20513067720457911,
         0.20202294605163237,
         0.20363664253633104,
         0.2039345714546667,
         0.20386855096862122,
         0.20247889650122755,
         0.20401784683595978,
         0.20385101671997166,
         0.20311909923832133,
         0.20503955578668884,
         0.20255824092172964,
         0.20402018208166256,
         0.2023277554624513,
         0.20402663988494954,
         0.20426385325160534,
         0.20348528404172292,
         0.20366936356431858,
         0.20391236591225892,
         0.20406790312343076,
         0.20311138423744077,
         0.2045665729343526,
         0.20267856379003063,
         0.2031251318414933,
         0.20351631492695899,
         0.2033340173006496,
         0.20337674356586136,
         0.20244501448035532,
         0.20258758838891106,
         0.20403474675235794,
         0.20365303575846494,
         0.20479911054466285
        ],
        [
         20.78752186242491,
         20.720247416757047,
         20.628696846557432,
         20.80841342639178,
         20.64670794690028,
         20.852976593595486,
         20.742204697802663,
         20.83217506017536,
         20.841341636143625,
         20.824118668795563,
         20.668143806047738,
         20.757907763589174,
         20.566393455839716,
         20.666962027549744,
         20.63518875092268,
         20.678464403375983,
         20.6853698072955,
         20.706010497175157,
         20.821771725313738,
         20.79576962813735,
         20.72061495296657,
         20.61890615755692,
         20.656781363883056,
         20.800904732197523,
         20.831550035160035,
         20.80617495928891,
         20.62069693952799,
         20.689263835549355,
         20.671596417203546,
         20.775276875443524,
         20.599296488799155,
         20.8183643524535,
         20.69859770964831,
         20.816202112007886,
         20.882857923861593,
         20.85278815217316,
         20.761845535598695,
         20.735926408320665,
         20.79353196080774,
         20.82298558205366,
         20.86338649666868,
         20.667746906576212,
         20.802541750483215,
         20.745849123224616,
         20.6739247154037,
         20.795655271969736,
         20.648036015219986,
         20.61559906322509,
         20.79833692498505,
         20.676574780605733,
         20.828682785620913,
         20.667869565077126,
         20.73714530840516,
         20.820572562050074,
         20.803835875354707,
         20.857618796813767,
         20.831464199116454,
         20.70809115609154,
         20.75909623503685,
         20.7540709071327,
         20.788491817191243,
         20.869328322820365,
         20.746784677845426,
         20.93573357653804,
         20.714784073410556,
         20.776166202500463,
         20.718213976360857,
         20.64175874972716,
         20.603594896383584,
         20.92332907486707,
         20.6063404972665,
         20.770937538705766,
         20.801326288376004,
         20.794592198799364,
         20.65284744312521,
         20.809820377267897,
         20.79280370543711,
         20.718148122308776,
         20.91403469024226,
         20.660940574016422,
         20.81005857232958,
         20.637431057170033,
         20.810717268264852,
         20.834913031663746,
         20.755498972255737,
         20.774275083560497,
         20.79906132305041,
         20.814926118589938,
         20.71736119221896,
         20.865790439303964,
         20.673213506583124,
         20.718763447832316,
         20.758664122549817,
         20.74006976466626,
         20.744427843717858,
         20.649391476996243,
         20.66393401566893,
         20.81154416874051,
         20.772609647363424,
         20.88950927555561
        ],
        [
         3.0442660767983267,
         3.04857383962542,
         3.0558812117292433,
         3.0593384360367715,
         3.048772085278521,
         3.066502623332443,
         3.043272217926953,
         3.0605272912555654,
         3.0595294419554815,
         3.0593221313765975,
         3.0516118016592046,
         3.0563262319150812,
         3.0505047212279535,
         3.0486443739439513,
         3.0472727921800917,
         3.0625621622119144,
         3.0481450450890537,
         3.056551809770527,
         3.061866428362486,
         3.059751268356154,
         3.039421125584904,
         3.0519923542908387,
         3.0534107465311173,
         3.0643404458381744,
         3.052722602125296,
         3.0725744113875457,
         3.0463706052445136,
         3.0485650808761706,
         3.0448720022746194,
         3.061797485240633,
         3.0533644375858544,
         3.069666577689243,
         3.0354494785251216,
         3.06518024171306,
         3.0642436378257263,
         3.0569950984415493,
         3.0607073283891024,
         3.05126440870044,
         3.0603774565454183,
         3.0425068389073537,
         3.0639997641119296,
         3.0658042509461807,
         3.0500896330996894,
         3.0660836600298698,
         3.0383798247548133,
         3.047591441726315,
         3.0430141866842697,
         3.0423007563394187,
         3.059402166268177,
         3.056802436492259,
         3.06462885277165,
         3.0398642973123535,
         3.0539975675711233,
         3.063245190422948,
         3.0671440911485712,
         3.0584662483762846,
         3.063194179322608,
         3.050793995626268,
         3.043631218229175,
         3.0617045689323996,
         3.0556488547438154,
         3.0592064429827563,
         3.052368845835199,
         3.0724096687427433,
         3.0479234334014382,
         3.0568496022918388,
         3.0485135563860237,
         3.0415865701370723,
         3.044569625230197,
         3.060214739046422,
         3.027539901455801,
         3.0457075407852967,
         3.0524898701254792,
         3.0588876773042366,
         3.0544081716792513,
         3.060934533636151,
         3.0668202579018184,
         3.0582533814174733,
         3.0601471347315345,
         3.042354585835691,
         3.0568689614125804,
         3.0511826882791913,
         3.056082129090769,
         3.0630954067341705,
         3.0521535466945635,
         3.0656189366587716,
         3.058812569989337,
         3.0684376796031287,
         3.0525858218421535,
         3.0826821233071953,
         3.0359234864079117,
         3.038390962816175,
         3.0477194742136646,
         3.0514824446180575,
         3.0556113094383566,
         3.0473239524684614,
         3.060971593849012,
         3.060219118351458,
         3.045255523228324,
         3.065782623485309
        ]
       ],
       "encoder": "json",
       "name": "ABC_GAN_3 Metrics",
       "version": 1
      }
     },
     "metadata": {
      "scrapbook": {
       "data": true,
       "display": false,
       "name": "ABC_GAN_3 Metrics"
      }
     },
     "output_type": "display_data"
    },
    {
     "name": "stdout",
     "output_type": "stream",
     "text": [
      "MSE\n",
      "0.09148207014646532\n"
     ]
    }
   ],
   "source": [
    "ABC_GAN3_metrics=ABC_train_test2.test_generator(gen3,test_data,prior_model,variance,bias,\"3\",device)\n",
    "sb.glue(\"ABC_GAN_3 Metrics\",ABC_GAN3_metrics)\n",
    "\n",
    "print(\"MSE\")\n",
    "print(mean(ABC_GAN3_metrics[0]))"
   ]
  },
  {
   "cell_type": "code",
   "execution_count": 18,
   "id": "c8e46b48",
   "metadata": {
    "execution": {
     "iopub.execute_input": "2022-06-11T17:51:58.933427Z",
     "iopub.status.busy": "2022-06-11T17:51:58.933057Z",
     "iopub.status.idle": "2022-06-11T17:51:59.255548Z",
     "shell.execute_reply": "2022-06-11T17:51:59.255868Z"
    },
    "id": "c8e46b48",
    "papermill": {
     "duration": 0.341739,
     "end_time": "2022-06-11T17:51:59.255996",
     "exception": false,
     "start_time": "2022-06-11T17:51:58.914257",
     "status": "completed"
    },
    "tags": []
   },
   "outputs": [
    {
     "data": {
      "image/png": "[encoded data removed]",
      "text/plain": [
       "<Figure size 432x288 with 1 Axes>"
      ]
     },
     "metadata": {
      "needs_background": "light"
     },
     "output_type": "display_data"
    },
    {
     "data": {
      "image/png": "[encoded data removed]",
      "text/plain": [
       "<Figure size 432x288 with 1 Axes>"
      ]
     },
     "metadata": {
      "needs_background": "light"
     },
     "output_type": "display_data"
    },
    {
     "data": {
      "image/png": "[encoded data removed]",
      "text/plain": [
       "<Figure size 432x288 with 1 Axes>"
      ]
     },
     "metadata": {
      "needs_background": "light"
     },
     "output_type": "display_data"
    },
    {
     "data": {
      "image/png": "[encoded data removed]",
      "text/plain": [
       "<Figure size 432x288 with 1 Axes>"
      ]
     },
     "metadata": {
      "needs_background": "light"
     },
     "output_type": "display_data"
    }
   ],
   "source": [
    "sanityChecks.discProbVsError(train_data,disc3,device)\n",
    "sanityChecks.discProbVsError(test_data,disc3,device)"
   ]
  },
  {
   "cell_type": "markdown",
   "id": "a5bd74c3",
   "metadata": {
    "id": "a5bd74c3",
    "papermill": {
     "duration": 0.019336,
     "end_time": "2022-06-11T17:51:59.295157",
     "exception": false,
     "start_time": "2022-06-11T17:51:59.275821",
     "status": "completed"
    },
    "tags": []
   },
   "source": [
    "## Skip Connection Model Analysis - ABC-GAN "
   ]
  },
  {
   "cell_type": "markdown",
   "id": "5744a8bf",
   "metadata": {
    "id": "5744a8bf",
    "papermill": {
     "duration": 0.018911,
     "end_time": "2022-06-11T17:51:59.333175",
     "exception": false,
     "start_time": "2022-06-11T17:51:59.314264",
     "status": "completed"
    },
    "tags": []
   },
   "source": [
    "### Weight Analysis \n",
    "\n",
    "Study the weights of the skip connection layer\n",
    "\n",
    "Equation of the skip connection is \n",
    "\n",
    "$output = y_{gan} * w + y_{abc} * (1-w)$"
   ]
  },
  {
   "cell_type": "code",
   "execution_count": 19,
   "id": "52c31dea",
   "metadata": {
    "execution": {
     "iopub.execute_input": "2022-06-11T17:51:59.374015Z",
     "iopub.status.busy": "2022-06-11T17:51:59.373624Z",
     "iopub.status.idle": "2022-06-11T17:51:59.376623Z",
     "shell.execute_reply": "2022-06-11T17:51:59.376865Z"
    },
    "id": "52c31dea",
    "papermill": {
     "duration": 0.024862,
     "end_time": "2022-06-11T17:51:59.376979",
     "exception": false,
     "start_time": "2022-06-11T17:51:59.352117",
     "status": "completed"
    },
    "tags": []
   },
   "outputs": [
    {
     "name": "stdout",
     "output_type": "stream",
     "text": [
      "Weight of the node at skip connection\n",
      "Parameter containing:\n",
      "tensor([[0.]], requires_grad=True)\n"
     ]
    },
    {
     "data": {
      "application/scrapbook.scrap.json+json": {
       "data": 0.0,
       "encoder": "json",
       "name": "Skip Connection Weight",
       "version": 1
      }
     },
     "metadata": {
      "scrapbook": {
       "data": true,
       "display": false,
       "name": "Skip Connection Weight"
      }
     },
     "output_type": "display_data"
    }
   ],
   "source": [
    "print(\"Weight of the node at skip connection\")\n",
    "for name,param in gen3.named_parameters():\n",
    "    if(name == \"skipNode.weight\"):\n",
    "        print(param)\n",
    "        sb.glue(\"Skip Connection Weight\",param.item())"
   ]
  }
 ],
 "metadata": {
  "colab": {
   "collapsed_sections": [],
   "name": "ABC_GAN_Model-Catboost_Pre-gen.ipynb",
   "provenance": []
  },
  "interpreter": {
   "hash": "31f2aee4e71d21fbe5cf8b01ff0e069b9275f58929596ceb00d14d90e3e16cd6"
  },
  "kernelspec": {
   "display_name": "Python 3 (ipykernel)",
   "language": "python",
   "name": "python3"
  },
  "language_info": {
   "codemirror_mode": {
    "name": "ipython",
    "version": 3
   },
   "file_extension": ".py",
   "mimetype": "text/x-python",
   "name": "python",
   "nbconvert_exporter": "python",
   "pygments_lexer": "ipython3",
   "version": "3.8.11"
  },
  "papermill": {
   "default_parameters": {},
   "duration": 248.474951,
   "end_time": "2022-06-11T17:51:59.703954",
   "environment_variables": {},
   "exception": null,
   "input_path": "ABC_GAN-Catboost.ipynb",
   "output_path": "./ABC_GAN_Catboost/ABC-GAN_output_2_8.ipynb",
   "parameters": {
    "bias": 0.01,
    "variance": 0.01
   },
   "start_time": "2022-06-11T17:47:51.229003",
   "version": "2.3.3"
  }
 },
 "nbformat": 4,
 "nbformat_minor": 5
}