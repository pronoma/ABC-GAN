{
 "cells": [
  {
   "cell_type": "markdown",
   "id": "622780e6",
   "metadata": {
    "id": "622780e6",
    "papermill": {
     "duration": 0.030247,
     "end_time": "2022-06-11T14:56:14.101593",
     "exception": false,
     "start_time": "2022-06-11T14:56:14.071346",
     "status": "completed"
    },
    "tags": []
   },
   "source": [
    "## Import Libraries "
   ]
  },
  {
   "cell_type": "code",
   "execution_count": 1,
   "id": "a62397e3",
   "metadata": {
    "execution": {
     "iopub.execute_input": "2022-06-11T14:56:14.161083Z",
     "iopub.status.busy": "2022-06-11T14:56:14.159994Z",
     "iopub.status.idle": "2022-06-11T14:56:14.162979Z",
     "shell.execute_reply": "2022-06-11T14:56:14.163585Z"
    },
    "id": "a62397e3",
    "papermill": {
     "duration": 0.044323,
     "end_time": "2022-06-11T14:56:14.163823",
     "exception": false,
     "start_time": "2022-06-11T14:56:14.119500",
     "status": "completed"
    },
    "tags": []
   },
   "outputs": [],
   "source": [
    "import warnings\n",
    "import sys\n",
    "sys.path.insert(0, '../../src')\n",
    "warnings.filterwarnings('ignore')"
   ]
  },
  {
   "cell_type": "code",
   "execution_count": 2,
   "id": "d6a4e155",
   "metadata": {
    "execution": {
     "iopub.execute_input": "2022-06-11T14:56:14.184238Z",
     "iopub.status.busy": "2022-06-11T14:56:14.183585Z",
     "iopub.status.idle": "2022-06-11T14:56:16.065186Z",
     "shell.execute_reply": "2022-06-11T14:56:16.064831Z"
    },
    "id": "d6a4e155",
    "papermill": {
     "duration": 1.892504,
     "end_time": "2022-06-11T14:56:16.065295",
     "exception": false,
     "start_time": "2022-06-11T14:56:14.172791",
     "status": "completed"
    },
    "tags": []
   },
   "outputs": [],
   "source": [
    "import ABC_train_test2\n",
    "import bostonDataset\n",
    "import network\n",
    "import dataset\n",
    "import sanityChecks\n",
    "import torch \n",
    "import scrapbook as sb\n",
    "from statistics import mean \n",
    "import catboost as ctb \n",
    "from sklearn.model_selection import train_test_split\n",
    "from sklearn.metrics import mean_squared_error,mean_absolute_error\n",
    "import numpy as np"
   ]
  },
  {
   "cell_type": "markdown",
   "id": "2fa5b0f7",
   "metadata": {
    "id": "2fa5b0f7",
    "papermill": {
     "duration": 0.006842,
     "end_time": "2022-06-11T14:56:16.079630",
     "exception": false,
     "start_time": "2022-06-11T14:56:16.072788",
     "status": "completed"
    },
    "tags": []
   },
   "source": [
    "## Parameters "
   ]
  },
  {
   "cell_type": "code",
   "execution_count": 3,
   "id": "783186fb",
   "metadata": {
    "execution": {
     "iopub.execute_input": "2022-06-11T14:56:16.097907Z",
     "iopub.status.busy": "2022-06-11T14:56:16.097497Z",
     "iopub.status.idle": "2022-06-11T14:56:16.099362Z",
     "shell.execute_reply": "2022-06-11T14:56:16.099710Z"
    },
    "id": "783186fb",
    "papermill": {
     "duration": 0.013404,
     "end_time": "2022-06-11T14:56:16.099852",
     "exception": false,
     "start_time": "2022-06-11T14:56:16.086448",
     "status": "completed"
    },
    "tags": [
     "parameters"
    ]
   },
   "outputs": [],
   "source": [
    "variance = 1\n",
    "bias = 1 "
   ]
  },
  {
   "cell_type": "code",
   "execution_count": 4,
   "id": "daf194eb",
   "metadata": {
    "execution": {
     "iopub.execute_input": "2022-06-11T14:56:16.117770Z",
     "iopub.status.busy": "2022-06-11T14:56:16.117366Z",
     "iopub.status.idle": "2022-06-11T14:56:16.118881Z",
     "shell.execute_reply": "2022-06-11T14:56:16.119154Z"
    },
    "papermill": {
     "duration": 0.011858,
     "end_time": "2022-06-11T14:56:16.119286",
     "exception": false,
     "start_time": "2022-06-11T14:56:16.107428",
     "status": "completed"
    },
    "tags": [
     "injected-parameters"
    ]
   },
   "outputs": [],
   "source": [
    "# Parameters\n",
    "variance = 0.01\n",
    "bias = 1\n"
   ]
  },
  {
   "cell_type": "markdown",
   "id": "391cdbfd",
   "metadata": {
    "id": "391cdbfd",
    "papermill": {
     "duration": 0.007232,
     "end_time": "2022-06-11T14:56:16.134519",
     "exception": false,
     "start_time": "2022-06-11T14:56:16.127287",
     "status": "completed"
    },
    "tags": []
   },
   "source": [
    "## Dataset \n"
   ]
  },
  {
   "cell_type": "code",
   "execution_count": 5,
   "id": "5b51f161",
   "metadata": {
    "execution": {
     "iopub.execute_input": "2022-06-11T14:56:16.151189Z",
     "iopub.status.busy": "2022-06-11T14:56:16.150812Z",
     "iopub.status.idle": "2022-06-11T14:56:16.152007Z",
     "shell.execute_reply": "2022-06-11T14:56:16.152266Z"
    },
    "id": "5b51f161",
    "papermill": {
     "duration": 0.010746,
     "end_time": "2022-06-11T14:56:16.152390",
     "exception": false,
     "start_time": "2022-06-11T14:56:16.141644",
     "status": "completed"
    },
    "tags": []
   },
   "outputs": [],
   "source": [
    "#Parameters \n",
    "n_features = 13\n",
    "n_samples= 506\n",
    "n_target = 1 "
   ]
  },
  {
   "cell_type": "code",
   "execution_count": 6,
   "id": "5d6eced4",
   "metadata": {
    "execution": {
     "iopub.execute_input": "2022-06-11T14:56:16.169734Z",
     "iopub.status.busy": "2022-06-11T14:56:16.169360Z",
     "iopub.status.idle": "2022-06-11T14:56:16.180707Z",
     "shell.execute_reply": "2022-06-11T14:56:16.180963Z"
    },
    "id": "5d6eced4",
    "papermill": {
     "duration": 0.021364,
     "end_time": "2022-06-11T14:56:16.181104",
     "exception": false,
     "start_time": "2022-06-11T14:56:16.159740",
     "status": "completed"
    },
    "tags": []
   },
   "outputs": [
    {
     "name": "stdout",
     "output_type": "stream",
     "text": [
      "         X1        X2        X3        X4        X5        X6        X7  \\\n",
      "0 -0.419782  0.284830 -1.287909 -0.272599 -0.144217  0.413672 -0.120013   \n",
      "1 -0.417339 -0.487722 -0.593381 -0.272599 -0.740262  0.194274  0.367166   \n",
      "2 -0.417342 -0.487722 -0.593381 -0.272599 -0.740262  1.282714 -0.265812   \n",
      "3 -0.416750 -0.487722 -1.306878 -0.272599 -0.835284  1.016303 -0.809889   \n",
      "4 -0.412482 -0.487722 -1.306878 -0.272599 -0.835284  1.228577 -0.511180   \n",
      "\n",
      "         X8        X9       X10       X11       X12       X13         Y  \n",
      "0  0.140214 -0.982843 -0.666608 -1.459000  0.441052 -1.075562  0.159686  \n",
      "1  0.557160 -0.867883 -0.987329 -0.303094  0.441052 -0.492439 -0.101524  \n",
      "2  0.557160 -0.867883 -0.987329 -0.303094  0.396427 -1.208727  1.324247  \n",
      "3  1.077737 -0.752922 -1.106115  0.113032  0.416163 -1.361517  1.182758  \n",
      "4  1.077737 -0.752922 -1.106115  0.113032  0.441052 -1.026501  1.487503  \n"
     ]
    }
   ],
   "source": [
    "X,Y = bostonDataset.boston_data()"
   ]
  },
  {
   "cell_type": "code",
   "execution_count": 7,
   "id": "fe007438",
   "metadata": {
    "execution": {
     "iopub.execute_input": "2022-06-11T14:56:16.199083Z",
     "iopub.status.busy": "2022-06-11T14:56:16.198655Z",
     "iopub.status.idle": "2022-06-11T14:56:16.200135Z",
     "shell.execute_reply": "2022-06-11T14:56:16.200388Z"
    },
    "id": "fe007438",
    "papermill": {
     "duration": 0.011653,
     "end_time": "2022-06-11T14:56:16.200502",
     "exception": false,
     "start_time": "2022-06-11T14:56:16.188849",
     "status": "completed"
    },
    "tags": []
   },
   "outputs": [],
   "source": [
    "#Train test split for dataset \n",
    "X_train,X_test,Y_train,Y_test = train_test_split(X,Y,test_size = 0.2)\n",
    "train_data = dataset.CustomDataset(X_train,Y_train)\n",
    "test_data = dataset.CustomDataset(X_test,Y_test)\n"
   ]
  },
  {
   "cell_type": "markdown",
   "id": "a9a1af34",
   "metadata": {
    "id": "a9a1af34",
    "papermill": {
     "duration": 0.007481,
     "end_time": "2022-06-11T14:56:16.215935",
     "exception": false,
     "start_time": "2022-06-11T14:56:16.208454",
     "status": "completed"
    },
    "tags": []
   },
   "source": [
    "## Training Parameters "
   ]
  },
  {
   "cell_type": "code",
   "execution_count": 8,
   "id": "952b7fc8",
   "metadata": {
    "execution": {
     "iopub.execute_input": "2022-06-11T14:56:16.233740Z",
     "iopub.status.busy": "2022-06-11T14:56:16.233355Z",
     "iopub.status.idle": "2022-06-11T14:56:16.234712Z",
     "shell.execute_reply": "2022-06-11T14:56:16.234954Z"
    },
    "id": "952b7fc8",
    "papermill": {
     "duration": 0.011407,
     "end_time": "2022-06-11T14:56:16.235067",
     "exception": false,
     "start_time": "2022-06-11T14:56:16.223660",
     "status": "completed"
    },
    "tags": []
   },
   "outputs": [],
   "source": [
    "batch_size = 32\n",
    "n_epochs = 1000\n",
    "#Select the device \n",
    "device = torch.device('cuda' if torch.cuda.is_available() else 'cpu')"
   ]
  },
  {
   "cell_type": "markdown",
   "id": "a95e1600",
   "metadata": {
    "id": "a95e1600",
    "papermill": {
     "duration": 0.007737,
     "end_time": "2022-06-11T14:56:16.250354",
     "exception": false,
     "start_time": "2022-06-11T14:56:16.242617",
     "status": "completed"
    },
    "tags": []
   },
   "source": [
    "# ABC Pre-generator Model \n",
    "\n",
    "1. The catboost model is used as a pre-generator model for the ABC-GAN. \n",
    "2. The model is first trained on the entire dataset \n",
    "3. It generats X,Y pairs and we add some Gaussian noise with mean 0 and variance 1 to it which is then feed as input to the generator.\n"
   ]
  },
  {
   "cell_type": "code",
   "execution_count": 9,
   "id": "ff8ce7bd",
   "metadata": {
    "execution": {
     "iopub.execute_input": "2022-06-11T14:56:16.273319Z",
     "iopub.status.busy": "2022-06-11T14:56:16.272509Z",
     "iopub.status.idle": "2022-06-11T14:56:17.506231Z",
     "shell.execute_reply": "2022-06-11T14:56:17.506527Z"
    },
    "id": "ff8ce7bd",
    "papermill": {
     "duration": 1.248388,
     "end_time": "2022-06-11T14:56:17.506653",
     "exception": false,
     "start_time": "2022-06-11T14:56:16.258265",
     "status": "completed"
    },
    "tags": []
   },
   "outputs": [
    {
     "name": "stdout",
     "output_type": "stream",
     "text": [
      "Learning rate set to 0.033215\n",
      "0:\tlearn: 1.0002265\ttotal: 56.1ms\tremaining: 56.1s\n",
      "1:\tlearn: 0.9809663\ttotal: 57.1ms\tremaining: 28.5s\n",
      "2:\tlearn: 0.9614007\ttotal: 58.2ms\tremaining: 19.3s\n",
      "3:\tlearn: 0.9434070\ttotal: 59.1ms\tremaining: 14.7s\n",
      "4:\tlearn: 0.9263269\ttotal: 59.9ms\tremaining: 11.9s\n",
      "5:\tlearn: 0.9089557\ttotal: 60.8ms\tremaining: 10.1s\n",
      "6:\tlearn: 0.8924315\ttotal: 61.7ms\tremaining: 8.76s\n",
      "7:\tlearn: 0.8744368\ttotal: 62.6ms\tremaining: 7.76s\n",
      "8:\tlearn: 0.8588456\ttotal: 63.4ms\tremaining: 6.99s\n",
      "9:\tlearn: 0.8419791\ttotal: 64.8ms\tremaining: 6.41s\n",
      "10:\tlearn: 0.8262627\ttotal: 65.6ms\tremaining: 5.89s\n",
      "11:\tlearn: 0.8122179\ttotal: 66.3ms\tremaining: 5.46s\n",
      "12:\tlearn: 0.7961533\ttotal: 67ms\tremaining: 5.08s\n",
      "13:\tlearn: 0.7812044\ttotal: 67.7ms\tremaining: 4.77s\n",
      "14:\tlearn: 0.7689986\ttotal: 68.4ms\tremaining: 4.49s\n",
      "15:\tlearn: 0.7546862\ttotal: 69.1ms\tremaining: 4.25s\n",
      "16:\tlearn: 0.7421000\ttotal: 69.7ms\tremaining: 4.03s\n",
      "17:\tlearn: 0.7290469\ttotal: 70.3ms\tremaining: 3.84s\n",
      "18:\tlearn: 0.7160525\ttotal: 71.1ms\tremaining: 3.67s\n",
      "19:\tlearn: 0.7025644\ttotal: 71.9ms\tremaining: 3.52s\n",
      "20:\tlearn: 0.6880403\ttotal: 72.7ms\tremaining: 3.39s\n",
      "21:\tlearn: 0.6781080\ttotal: 73.7ms\tremaining: 3.28s\n",
      "22:\tlearn: 0.6669739\ttotal: 74.5ms\tremaining: 3.17s\n",
      "23:\tlearn: 0.6578808\ttotal: 75.7ms\tremaining: 3.08s\n",
      "24:\tlearn: 0.6473403\ttotal: 76.3ms\tremaining: 2.98s\n",
      "25:\tlearn: 0.6365828\ttotal: 77.1ms\tremaining: 2.89s\n",
      "26:\tlearn: 0.6271679\ttotal: 77.9ms\tremaining: 2.81s\n",
      "27:\tlearn: 0.6188865\ttotal: 78.6ms\tremaining: 2.73s\n",
      "28:\tlearn: 0.6093004\ttotal: 79.5ms\tremaining: 2.66s\n",
      "29:\tlearn: 0.5994186\ttotal: 80.2ms\tremaining: 2.59s\n",
      "30:\tlearn: 0.5884830\ttotal: 80.8ms\tremaining: 2.53s\n",
      "31:\tlearn: 0.5811987\ttotal: 81.4ms\tremaining: 2.46s\n",
      "32:\tlearn: 0.5742429\ttotal: 82ms\tremaining: 2.4s\n",
      "33:\tlearn: 0.5667968\ttotal: 82.7ms\tremaining: 2.35s\n",
      "34:\tlearn: 0.5598275\ttotal: 83.2ms\tremaining: 2.29s\n",
      "35:\tlearn: 0.5521519\ttotal: 83.9ms\tremaining: 2.25s\n",
      "36:\tlearn: 0.5461618\ttotal: 84.5ms\tremaining: 2.2s\n",
      "37:\tlearn: 0.5390754\ttotal: 85.2ms\tremaining: 2.16s\n",
      "38:\tlearn: 0.5318232\ttotal: 86ms\tremaining: 2.12s\n",
      "39:\tlearn: 0.5238448\ttotal: 86.7ms\tremaining: 2.08s\n",
      "40:\tlearn: 0.5180342\ttotal: 87.3ms\tremaining: 2.04s\n",
      "41:\tlearn: 0.5115445\ttotal: 88ms\tremaining: 2.01s\n",
      "42:\tlearn: 0.5059328\ttotal: 88.8ms\tremaining: 1.98s\n",
      "43:\tlearn: 0.4989813\ttotal: 89.6ms\tremaining: 1.95s\n",
      "44:\tlearn: 0.4933096\ttotal: 90.3ms\tremaining: 1.92s\n",
      "45:\tlearn: 0.4884324\ttotal: 91ms\tremaining: 1.89s\n",
      "46:\tlearn: 0.4837159\ttotal: 91.8ms\tremaining: 1.86s\n",
      "47:\tlearn: 0.4774057\ttotal: 92.5ms\tremaining: 1.83s\n",
      "48:\tlearn: 0.4720810\ttotal: 93.2ms\tremaining: 1.81s\n",
      "49:\tlearn: 0.4663806\ttotal: 94.1ms\tremaining: 1.79s\n",
      "50:\tlearn: 0.4612942\ttotal: 95.1ms\tremaining: 1.77s\n",
      "51:\tlearn: 0.4564186\ttotal: 96ms\tremaining: 1.75s\n",
      "52:\tlearn: 0.4514190\ttotal: 96.9ms\tremaining: 1.73s\n",
      "53:\tlearn: 0.4477812\ttotal: 97.7ms\tremaining: 1.71s\n",
      "54:\tlearn: 0.4432025\ttotal: 98.7ms\tremaining: 1.7s\n",
      "55:\tlearn: 0.4393980\ttotal: 99.5ms\tremaining: 1.68s\n"
     ]
    },
    {
     "name": "stdout",
     "output_type": "stream",
     "text": [
      "56:\tlearn: 0.4347375\ttotal: 101ms\tremaining: 1.67s\n",
      "57:\tlearn: 0.4303709\ttotal: 102ms\tremaining: 1.66s\n",
      "58:\tlearn: 0.4271111\ttotal: 103ms\tremaining: 1.64s\n",
      "59:\tlearn: 0.4233582\ttotal: 104ms\tremaining: 1.63s\n",
      "60:\tlearn: 0.4191925\ttotal: 105ms\tremaining: 1.61s\n",
      "61:\tlearn: 0.4145193\ttotal: 106ms\tremaining: 1.6s\n",
      "62:\tlearn: 0.4117846\ttotal: 107ms\tremaining: 1.59s\n",
      "63:\tlearn: 0.4084687\ttotal: 108ms\tremaining: 1.57s\n",
      "64:\tlearn: 0.4058767\ttotal: 109ms\tremaining: 1.56s\n",
      "65:\tlearn: 0.4016169\ttotal: 110ms\tremaining: 1.55s\n",
      "66:\tlearn: 0.3977966\ttotal: 111ms\tremaining: 1.54s\n",
      "67:\tlearn: 0.3936138\ttotal: 112ms\tremaining: 1.53s\n",
      "68:\tlearn: 0.3904503\ttotal: 113ms\tremaining: 1.52s\n",
      "69:\tlearn: 0.3878455\ttotal: 114ms\tremaining: 1.51s\n",
      "70:\tlearn: 0.3846725\ttotal: 114ms\tremaining: 1.5s\n",
      "71:\tlearn: 0.3824852\ttotal: 115ms\tremaining: 1.48s\n",
      "72:\tlearn: 0.3798471\ttotal: 116ms\tremaining: 1.47s\n",
      "73:\tlearn: 0.3767821\ttotal: 117ms\tremaining: 1.46s\n",
      "74:\tlearn: 0.3743755\ttotal: 118ms\tremaining: 1.46s\n",
      "75:\tlearn: 0.3720711\ttotal: 119ms\tremaining: 1.45s\n",
      "76:\tlearn: 0.3687092\ttotal: 120ms\tremaining: 1.43s\n",
      "77:\tlearn: 0.3665344\ttotal: 120ms\tremaining: 1.42s\n",
      "78:\tlearn: 0.3634570\ttotal: 121ms\tremaining: 1.41s\n",
      "79:\tlearn: 0.3608238\ttotal: 121ms\tremaining: 1.4s\n",
      "80:\tlearn: 0.3585247\ttotal: 122ms\tremaining: 1.39s\n",
      "81:\tlearn: 0.3558648\ttotal: 123ms\tremaining: 1.38s\n",
      "82:\tlearn: 0.3536733\ttotal: 124ms\tremaining: 1.36s\n",
      "83:\tlearn: 0.3516486\ttotal: 124ms\tremaining: 1.35s\n",
      "84:\tlearn: 0.3494904\ttotal: 125ms\tremaining: 1.34s\n",
      "85:\tlearn: 0.3473055\ttotal: 126ms\tremaining: 1.33s\n",
      "86:\tlearn: 0.3449357\ttotal: 126ms\tremaining: 1.33s\n",
      "87:\tlearn: 0.3419329\ttotal: 127ms\tremaining: 1.32s\n",
      "88:\tlearn: 0.3395575\ttotal: 128ms\tremaining: 1.31s\n",
      "89:\tlearn: 0.3367372\ttotal: 128ms\tremaining: 1.3s\n",
      "90:\tlearn: 0.3336141\ttotal: 129ms\tremaining: 1.29s\n",
      "91:\tlearn: 0.3317291\ttotal: 130ms\tremaining: 1.28s\n",
      "92:\tlearn: 0.3303833\ttotal: 131ms\tremaining: 1.27s\n",
      "93:\tlearn: 0.3288541\ttotal: 131ms\tremaining: 1.27s\n",
      "94:\tlearn: 0.3270389\ttotal: 132ms\tremaining: 1.26s\n",
      "95:\tlearn: 0.3261253\ttotal: 133ms\tremaining: 1.25s\n",
      "96:\tlearn: 0.3246664\ttotal: 134ms\tremaining: 1.25s\n",
      "97:\tlearn: 0.3229748\ttotal: 135ms\tremaining: 1.24s\n",
      "98:\tlearn: 0.3213022\ttotal: 136ms\tremaining: 1.24s\n",
      "99:\tlearn: 0.3193049\ttotal: 137ms\tremaining: 1.23s\n",
      "100:\tlearn: 0.3171608\ttotal: 138ms\tremaining: 1.22s\n",
      "101:\tlearn: 0.3154825\ttotal: 139ms\tremaining: 1.22s\n",
      "102:\tlearn: 0.3138486\ttotal: 139ms\tremaining: 1.21s\n",
      "103:\tlearn: 0.3122905\ttotal: 140ms\tremaining: 1.21s\n",
      "104:\tlearn: 0.3110987\ttotal: 141ms\tremaining: 1.2s\n",
      "105:\tlearn: 0.3095379\ttotal: 142ms\tremaining: 1.2s\n",
      "106:\tlearn: 0.3073700\ttotal: 143ms\tremaining: 1.19s\n",
      "107:\tlearn: 0.3050891\ttotal: 144ms\tremaining: 1.19s\n",
      "108:\tlearn: 0.3033895\ttotal: 145ms\tremaining: 1.18s\n",
      "109:\tlearn: 0.3020610\ttotal: 145ms\tremaining: 1.18s\n",
      "110:\tlearn: 0.3009783\ttotal: 146ms\tremaining: 1.17s\n",
      "111:\tlearn: 0.2997329\ttotal: 147ms\tremaining: 1.17s\n",
      "112:\tlearn: 0.2984201\ttotal: 148ms\tremaining: 1.16s\n",
      "113:\tlearn: 0.2974511\ttotal: 149ms\tremaining: 1.16s\n",
      "114:\tlearn: 0.2958800\ttotal: 150ms\tremaining: 1.15s\n",
      "115:\tlearn: 0.2943849\ttotal: 150ms\tremaining: 1.15s\n",
      "116:\tlearn: 0.2928883\ttotal: 151ms\tremaining: 1.14s\n",
      "117:\tlearn: 0.2908560\ttotal: 152ms\tremaining: 1.14s\n",
      "118:\tlearn: 0.2897354\ttotal: 153ms\tremaining: 1.14s\n",
      "119:\tlearn: 0.2885739\ttotal: 154ms\tremaining: 1.13s\n",
      "120:\tlearn: 0.2873670\ttotal: 155ms\tremaining: 1.12s\n",
      "121:\tlearn: 0.2862272\ttotal: 155ms\tremaining: 1.12s\n",
      "122:\tlearn: 0.2849506\ttotal: 156ms\tremaining: 1.11s\n",
      "123:\tlearn: 0.2836829\ttotal: 157ms\tremaining: 1.11s\n",
      "124:\tlearn: 0.2826707\ttotal: 158ms\tremaining: 1.1s\n",
      "125:\tlearn: 0.2814107\ttotal: 159ms\tremaining: 1.1s\n",
      "126:\tlearn: 0.2798620\ttotal: 159ms\tremaining: 1.09s\n",
      "127:\tlearn: 0.2788684\ttotal: 160ms\tremaining: 1.09s\n",
      "128:\tlearn: 0.2778472\ttotal: 161ms\tremaining: 1.09s\n",
      "129:\tlearn: 0.2768391\ttotal: 162ms\tremaining: 1.08s\n",
      "130:\tlearn: 0.2758673\ttotal: 163ms\tremaining: 1.08s\n",
      "131:\tlearn: 0.2749496\ttotal: 164ms\tremaining: 1.08s\n",
      "132:\tlearn: 0.2742866\ttotal: 164ms\tremaining: 1.07s\n",
      "133:\tlearn: 0.2730084\ttotal: 165ms\tremaining: 1.07s\n",
      "134:\tlearn: 0.2723826\ttotal: 166ms\tremaining: 1.06s\n",
      "135:\tlearn: 0.2713274\ttotal: 167ms\tremaining: 1.06s\n",
      "136:\tlearn: 0.2705363\ttotal: 168ms\tremaining: 1.06s\n",
      "137:\tlearn: 0.2697258\ttotal: 169ms\tremaining: 1.05s\n",
      "138:\tlearn: 0.2690062\ttotal: 170ms\tremaining: 1.05s\n",
      "139:\tlearn: 0.2678975\ttotal: 170ms\tremaining: 1.05s\n",
      "140:\tlearn: 0.2669154\ttotal: 171ms\tremaining: 1.04s\n",
      "141:\tlearn: 0.2658861\ttotal: 172ms\tremaining: 1.04s\n",
      "142:\tlearn: 0.2651946\ttotal: 172ms\tremaining: 1.03s\n",
      "143:\tlearn: 0.2642532\ttotal: 173ms\tremaining: 1.03s\n",
      "144:\tlearn: 0.2635046\ttotal: 173ms\tremaining: 1.02s\n",
      "145:\tlearn: 0.2627897\ttotal: 174ms\tremaining: 1.02s\n",
      "146:\tlearn: 0.2618494\ttotal: 175ms\tremaining: 1.01s\n",
      "147:\tlearn: 0.2609198\ttotal: 175ms\tremaining: 1.01s\n",
      "148:\tlearn: 0.2600134\ttotal: 176ms\tremaining: 1.01s\n",
      "149:\tlearn: 0.2590996\ttotal: 177ms\tremaining: 1s\n",
      "150:\tlearn: 0.2577094\ttotal: 178ms\tremaining: 1s\n",
      "151:\tlearn: 0.2568766\ttotal: 179ms\tremaining: 997ms\n",
      "152:\tlearn: 0.2561956\ttotal: 180ms\tremaining: 994ms\n",
      "153:\tlearn: 0.2554960\ttotal: 180ms\tremaining: 992ms\n",
      "154:\tlearn: 0.2543589\ttotal: 181ms\tremaining: 988ms\n",
      "155:\tlearn: 0.2537204\ttotal: 182ms\tremaining: 986ms\n",
      "156:\tlearn: 0.2525418\ttotal: 183ms\tremaining: 983ms\n",
      "157:\tlearn: 0.2515000\ttotal: 184ms\tremaining: 980ms\n",
      "158:\tlearn: 0.2506511\ttotal: 185ms\tremaining: 976ms\n",
      "159:\tlearn: 0.2500693\ttotal: 185ms\tremaining: 974ms\n",
      "160:\tlearn: 0.2489439\ttotal: 186ms\tremaining: 970ms\n",
      "161:\tlearn: 0.2481619\ttotal: 187ms\tremaining: 968ms\n",
      "162:\tlearn: 0.2476115\ttotal: 188ms\tremaining: 966ms\n",
      "163:\tlearn: 0.2468818\ttotal: 189ms\tremaining: 963ms\n",
      "164:\tlearn: 0.2459423\ttotal: 190ms\tremaining: 960ms\n"
     ]
    },
    {
     "name": "stdout",
     "output_type": "stream",
     "text": [
      "165:\tlearn: 0.2453368\ttotal: 191ms\tremaining: 958ms\n",
      "166:\tlearn: 0.2444656\ttotal: 192ms\tremaining: 957ms\n",
      "167:\tlearn: 0.2435138\ttotal: 193ms\tremaining: 955ms\n",
      "168:\tlearn: 0.2428851\ttotal: 194ms\tremaining: 952ms\n",
      "169:\tlearn: 0.2421006\ttotal: 194ms\tremaining: 949ms\n",
      "170:\tlearn: 0.2413202\ttotal: 195ms\tremaining: 947ms\n",
      "171:\tlearn: 0.2404215\ttotal: 196ms\tremaining: 944ms\n",
      "172:\tlearn: 0.2397352\ttotal: 197ms\tremaining: 941ms\n",
      "173:\tlearn: 0.2392588\ttotal: 198ms\tremaining: 939ms\n",
      "174:\tlearn: 0.2386345\ttotal: 199ms\tremaining: 936ms\n",
      "175:\tlearn: 0.2382056\ttotal: 199ms\tremaining: 933ms\n",
      "176:\tlearn: 0.2376908\ttotal: 200ms\tremaining: 931ms\n",
      "177:\tlearn: 0.2370756\ttotal: 201ms\tremaining: 929ms\n",
      "178:\tlearn: 0.2366097\ttotal: 202ms\tremaining: 927ms\n",
      "179:\tlearn: 0.2359814\ttotal: 203ms\tremaining: 924ms\n",
      "180:\tlearn: 0.2351908\ttotal: 204ms\tremaining: 922ms\n",
      "181:\tlearn: 0.2344020\ttotal: 205ms\tremaining: 919ms\n",
      "182:\tlearn: 0.2338193\ttotal: 205ms\tremaining: 917ms\n",
      "183:\tlearn: 0.2332141\ttotal: 206ms\tremaining: 914ms\n",
      "184:\tlearn: 0.2325778\ttotal: 207ms\tremaining: 912ms\n",
      "185:\tlearn: 0.2317379\ttotal: 208ms\tremaining: 909ms\n",
      "186:\tlearn: 0.2312250\ttotal: 209ms\tremaining: 907ms\n",
      "187:\tlearn: 0.2305591\ttotal: 209ms\tremaining: 904ms\n",
      "188:\tlearn: 0.2298881\ttotal: 210ms\tremaining: 902ms\n",
      "189:\tlearn: 0.2292026\ttotal: 211ms\tremaining: 899ms\n",
      "190:\tlearn: 0.2284316\ttotal: 212ms\tremaining: 897ms\n",
      "191:\tlearn: 0.2277412\ttotal: 213ms\tremaining: 894ms\n",
      "192:\tlearn: 0.2270513\ttotal: 213ms\tremaining: 892ms\n",
      "193:\tlearn: 0.2262387\ttotal: 214ms\tremaining: 890ms\n",
      "194:\tlearn: 0.2256161\ttotal: 215ms\tremaining: 888ms\n",
      "195:\tlearn: 0.2248793\ttotal: 216ms\tremaining: 885ms\n",
      "196:\tlearn: 0.2244324\ttotal: 217ms\tremaining: 883ms\n",
      "197:\tlearn: 0.2239608\ttotal: 218ms\tremaining: 881ms\n",
      "198:\tlearn: 0.2231210\ttotal: 218ms\tremaining: 879ms\n",
      "199:\tlearn: 0.2225239\ttotal: 219ms\tremaining: 877ms\n",
      "200:\tlearn: 0.2216637\ttotal: 220ms\tremaining: 875ms\n",
      "201:\tlearn: 0.2211619\ttotal: 221ms\tremaining: 873ms\n",
      "202:\tlearn: 0.2207270\ttotal: 222ms\tremaining: 871ms\n",
      "203:\tlearn: 0.2200379\ttotal: 223ms\tremaining: 869ms\n",
      "204:\tlearn: 0.2197097\ttotal: 223ms\tremaining: 867ms\n",
      "205:\tlearn: 0.2191045\ttotal: 224ms\tremaining: 864ms\n",
      "206:\tlearn: 0.2184809\ttotal: 225ms\tremaining: 862ms\n",
      "207:\tlearn: 0.2180651\ttotal: 226ms\tremaining: 861ms\n",
      "208:\tlearn: 0.2175115\ttotal: 227ms\tremaining: 859ms\n",
      "209:\tlearn: 0.2168356\ttotal: 228ms\tremaining: 857ms\n",
      "210:\tlearn: 0.2164748\ttotal: 229ms\tremaining: 856ms\n",
      "211:\tlearn: 0.2160607\ttotal: 230ms\tremaining: 854ms\n",
      "212:\tlearn: 0.2154025\ttotal: 230ms\tremaining: 852ms\n",
      "213:\tlearn: 0.2149888\ttotal: 231ms\tremaining: 849ms\n",
      "214:\tlearn: 0.2145542\ttotal: 232ms\tremaining: 847ms\n",
      "215:\tlearn: 0.2140607\ttotal: 233ms\tremaining: 845ms\n",
      "216:\tlearn: 0.2136245\ttotal: 234ms\tremaining: 843ms\n",
      "217:\tlearn: 0.2131776\ttotal: 235ms\tremaining: 842ms\n",
      "218:\tlearn: 0.2124541\ttotal: 235ms\tremaining: 840ms\n",
      "219:\tlearn: 0.2120098\ttotal: 236ms\tremaining: 838ms\n",
      "220:\tlearn: 0.2113641\ttotal: 237ms\tremaining: 836ms\n",
      "221:\tlearn: 0.2107545\ttotal: 238ms\tremaining: 834ms\n",
      "222:\tlearn: 0.2104512\ttotal: 239ms\tremaining: 832ms\n",
      "223:\tlearn: 0.2097752\ttotal: 240ms\tremaining: 830ms\n",
      "224:\tlearn: 0.2089987\ttotal: 240ms\tremaining: 828ms\n",
      "225:\tlearn: 0.2085964\ttotal: 241ms\tremaining: 826ms\n",
      "226:\tlearn: 0.2080616\ttotal: 242ms\tremaining: 824ms\n",
      "227:\tlearn: 0.2076912\ttotal: 243ms\tremaining: 822ms\n",
      "228:\tlearn: 0.2071853\ttotal: 244ms\tremaining: 820ms\n",
      "229:\tlearn: 0.2067257\ttotal: 244ms\tremaining: 818ms\n",
      "230:\tlearn: 0.2064344\ttotal: 245ms\tremaining: 816ms\n",
      "231:\tlearn: 0.2060629\ttotal: 246ms\tremaining: 814ms\n",
      "232:\tlearn: 0.2054357\ttotal: 247ms\tremaining: 813ms\n",
      "233:\tlearn: 0.2050206\ttotal: 248ms\tremaining: 811ms\n",
      "234:\tlearn: 0.2044814\ttotal: 249ms\tremaining: 809ms\n",
      "235:\tlearn: 0.2041833\ttotal: 249ms\tremaining: 807ms\n",
      "236:\tlearn: 0.2037224\ttotal: 250ms\tremaining: 805ms\n",
      "237:\tlearn: 0.2032375\ttotal: 251ms\tremaining: 803ms\n",
      "238:\tlearn: 0.2025893\ttotal: 252ms\tremaining: 802ms\n",
      "239:\tlearn: 0.2019986\ttotal: 253ms\tremaining: 800ms\n",
      "240:\tlearn: 0.2017085\ttotal: 253ms\tremaining: 798ms\n",
      "241:\tlearn: 0.2010430\ttotal: 254ms\tremaining: 796ms\n",
      "242:\tlearn: 0.2007396\ttotal: 255ms\tremaining: 795ms\n",
      "243:\tlearn: 0.2002209\ttotal: 256ms\tremaining: 793ms\n",
      "244:\tlearn: 0.1998140\ttotal: 257ms\tremaining: 791ms\n",
      "245:\tlearn: 0.1992916\ttotal: 258ms\tremaining: 790ms\n",
      "246:\tlearn: 0.1989273\ttotal: 259ms\tremaining: 788ms\n",
      "247:\tlearn: 0.1985889\ttotal: 260ms\tremaining: 787ms\n",
      "248:\tlearn: 0.1980542\ttotal: 261ms\tremaining: 786ms\n",
      "249:\tlearn: 0.1975509\ttotal: 261ms\tremaining: 784ms\n",
      "250:\tlearn: 0.1969647\ttotal: 262ms\tremaining: 783ms\n",
      "251:\tlearn: 0.1966631\ttotal: 263ms\tremaining: 781ms\n",
      "252:\tlearn: 0.1960494\ttotal: 264ms\tremaining: 779ms\n",
      "253:\tlearn: 0.1955975\ttotal: 265ms\tremaining: 777ms\n",
      "254:\tlearn: 0.1951322\ttotal: 265ms\tremaining: 776ms\n",
      "255:\tlearn: 0.1946670\ttotal: 266ms\tremaining: 774ms\n",
      "256:\tlearn: 0.1941720\ttotal: 267ms\tremaining: 772ms\n",
      "257:\tlearn: 0.1937774\ttotal: 268ms\tremaining: 771ms\n",
      "258:\tlearn: 0.1932994\ttotal: 269ms\tremaining: 769ms\n",
      "259:\tlearn: 0.1929520\ttotal: 270ms\tremaining: 767ms\n",
      "260:\tlearn: 0.1923406\ttotal: 270ms\tremaining: 765ms\n",
      "261:\tlearn: 0.1916815\ttotal: 271ms\tremaining: 764ms\n",
      "262:\tlearn: 0.1912756\ttotal: 272ms\tremaining: 762ms\n",
      "263:\tlearn: 0.1907350\ttotal: 273ms\tremaining: 761ms\n",
      "264:\tlearn: 0.1901843\ttotal: 274ms\tremaining: 759ms\n",
      "265:\tlearn: 0.1898178\ttotal: 275ms\tremaining: 758ms\n",
      "266:\tlearn: 0.1893918\ttotal: 275ms\tremaining: 756ms\n",
      "267:\tlearn: 0.1887989\ttotal: 276ms\tremaining: 754ms\n",
      "268:\tlearn: 0.1884230\ttotal: 277ms\tremaining: 753ms\n",
      "269:\tlearn: 0.1881974\ttotal: 278ms\tremaining: 751ms\n",
      "270:\tlearn: 0.1878554\ttotal: 278ms\tremaining: 749ms\n",
      "271:\tlearn: 0.1873887\ttotal: 279ms\tremaining: 748ms\n",
      "272:\tlearn: 0.1869729\ttotal: 280ms\tremaining: 746ms\n",
      "273:\tlearn: 0.1863123\ttotal: 281ms\tremaining: 744ms\n",
      "274:\tlearn: 0.1859287\ttotal: 282ms\tremaining: 743ms\n",
      "275:\tlearn: 0.1853721\ttotal: 283ms\tremaining: 741ms\n",
      "276:\tlearn: 0.1849590\ttotal: 283ms\tremaining: 740ms\n",
      "277:\tlearn: 0.1845307\ttotal: 284ms\tremaining: 738ms\n",
      "278:\tlearn: 0.1842919\ttotal: 285ms\tremaining: 736ms\n",
      "279:\tlearn: 0.1840549\ttotal: 286ms\tremaining: 735ms\n",
      "280:\tlearn: 0.1835821\ttotal: 287ms\tremaining: 733ms\n",
      "281:\tlearn: 0.1832531\ttotal: 287ms\tremaining: 731ms\n",
      "282:\tlearn: 0.1829343\ttotal: 288ms\tremaining: 730ms\n",
      "283:\tlearn: 0.1827239\ttotal: 289ms\tremaining: 728ms\n",
      "284:\tlearn: 0.1821856\ttotal: 290ms\tremaining: 727ms\n"
     ]
    },
    {
     "name": "stdout",
     "output_type": "stream",
     "text": [
      "285:\tlearn: 0.1818193\ttotal: 291ms\tremaining: 726ms\n",
      "286:\tlearn: 0.1812705\ttotal: 292ms\tremaining: 724ms\n",
      "287:\tlearn: 0.1806426\ttotal: 292ms\tremaining: 723ms\n",
      "288:\tlearn: 0.1803207\ttotal: 294ms\tremaining: 723ms\n",
      "289:\tlearn: 0.1799419\ttotal: 295ms\tremaining: 722ms\n",
      "290:\tlearn: 0.1796316\ttotal: 296ms\tremaining: 721ms\n",
      "291:\tlearn: 0.1793231\ttotal: 296ms\tremaining: 719ms\n",
      "292:\tlearn: 0.1787448\ttotal: 297ms\tremaining: 717ms\n",
      "293:\tlearn: 0.1784702\ttotal: 298ms\tremaining: 716ms\n",
      "294:\tlearn: 0.1781055\ttotal: 299ms\tremaining: 714ms\n",
      "295:\tlearn: 0.1775874\ttotal: 300ms\tremaining: 713ms\n",
      "296:\tlearn: 0.1772544\ttotal: 300ms\tremaining: 711ms\n",
      "297:\tlearn: 0.1767665\ttotal: 301ms\tremaining: 710ms\n",
      "298:\tlearn: 0.1764573\ttotal: 302ms\tremaining: 709ms\n",
      "299:\tlearn: 0.1760972\ttotal: 303ms\tremaining: 707ms\n",
      "300:\tlearn: 0.1755771\ttotal: 304ms\tremaining: 706ms\n",
      "301:\tlearn: 0.1749934\ttotal: 305ms\tremaining: 704ms\n",
      "302:\tlearn: 0.1745883\ttotal: 306ms\tremaining: 703ms\n",
      "303:\tlearn: 0.1741113\ttotal: 309ms\tremaining: 707ms\n",
      "304:\tlearn: 0.1737198\ttotal: 310ms\tremaining: 706ms\n",
      "305:\tlearn: 0.1732499\ttotal: 311ms\tremaining: 705ms\n",
      "306:\tlearn: 0.1730882\ttotal: 312ms\tremaining: 705ms\n",
      "307:\tlearn: 0.1727330\ttotal: 314ms\tremaining: 705ms\n",
      "308:\tlearn: 0.1724350\ttotal: 316ms\tremaining: 707ms\n",
      "309:\tlearn: 0.1721173\ttotal: 319ms\tremaining: 711ms\n",
      "310:\tlearn: 0.1717541\ttotal: 322ms\tremaining: 714ms\n",
      "311:\tlearn: 0.1715993\ttotal: 325ms\tremaining: 717ms\n",
      "312:\tlearn: 0.1710373\ttotal: 327ms\tremaining: 717ms\n",
      "313:\tlearn: 0.1707859\ttotal: 328ms\tremaining: 716ms\n",
      "314:\tlearn: 0.1703410\ttotal: 330ms\tremaining: 717ms\n",
      "315:\tlearn: 0.1700019\ttotal: 331ms\tremaining: 717ms\n",
      "316:\tlearn: 0.1696587\ttotal: 332ms\tremaining: 716ms\n",
      "317:\tlearn: 0.1692394\ttotal: 333ms\tremaining: 714ms\n",
      "318:\tlearn: 0.1689497\ttotal: 334ms\tremaining: 713ms\n",
      "319:\tlearn: 0.1684892\ttotal: 335ms\tremaining: 712ms\n",
      "320:\tlearn: 0.1681784\ttotal: 336ms\tremaining: 712ms\n",
      "321:\tlearn: 0.1676009\ttotal: 339ms\tremaining: 713ms\n",
      "322:\tlearn: 0.1674289\ttotal: 341ms\tremaining: 714ms\n",
      "323:\tlearn: 0.1672135\ttotal: 343ms\tremaining: 715ms\n",
      "324:\tlearn: 0.1670516\ttotal: 345ms\tremaining: 716ms\n",
      "325:\tlearn: 0.1668837\ttotal: 346ms\tremaining: 715ms\n",
      "326:\tlearn: 0.1666697\ttotal: 347ms\tremaining: 714ms\n",
      "327:\tlearn: 0.1664158\ttotal: 348ms\tremaining: 713ms\n",
      "328:\tlearn: 0.1661681\ttotal: 349ms\tremaining: 711ms\n",
      "329:\tlearn: 0.1657962\ttotal: 350ms\tremaining: 710ms\n",
      "330:\tlearn: 0.1653274\ttotal: 351ms\tremaining: 709ms\n",
      "331:\tlearn: 0.1651520\ttotal: 352ms\tremaining: 708ms\n",
      "332:\tlearn: 0.1646989\ttotal: 353ms\tremaining: 706ms\n",
      "333:\tlearn: 0.1645382\ttotal: 354ms\tremaining: 705ms\n",
      "334:\tlearn: 0.1643551\ttotal: 354ms\tremaining: 704ms\n",
      "335:\tlearn: 0.1638569\ttotal: 355ms\tremaining: 702ms\n",
      "336:\tlearn: 0.1634057\ttotal: 356ms\tremaining: 701ms\n",
      "337:\tlearn: 0.1631274\ttotal: 357ms\tremaining: 699ms\n",
      "338:\tlearn: 0.1629922\ttotal: 358ms\tremaining: 698ms\n",
      "339:\tlearn: 0.1628502\ttotal: 359ms\tremaining: 697ms\n",
      "340:\tlearn: 0.1626106\ttotal: 360ms\tremaining: 696ms\n",
      "341:\tlearn: 0.1622361\ttotal: 361ms\tremaining: 695ms\n",
      "342:\tlearn: 0.1620115\ttotal: 362ms\tremaining: 693ms\n",
      "343:\tlearn: 0.1618292\ttotal: 363ms\tremaining: 692ms\n",
      "344:\tlearn: 0.1614277\ttotal: 364ms\tremaining: 690ms\n",
      "345:\tlearn: 0.1612462\ttotal: 364ms\tremaining: 689ms\n",
      "346:\tlearn: 0.1608743\ttotal: 365ms\tremaining: 687ms\n",
      "347:\tlearn: 0.1606906\ttotal: 366ms\tremaining: 686ms\n",
      "348:\tlearn: 0.1603895\ttotal: 367ms\tremaining: 685ms\n",
      "349:\tlearn: 0.1600315\ttotal: 368ms\tremaining: 683ms\n",
      "350:\tlearn: 0.1598889\ttotal: 369ms\tremaining: 681ms\n",
      "351:\tlearn: 0.1594665\ttotal: 369ms\tremaining: 680ms\n",
      "352:\tlearn: 0.1593129\ttotal: 370ms\tremaining: 679ms\n",
      "353:\tlearn: 0.1592272\ttotal: 371ms\tremaining: 677ms\n",
      "354:\tlearn: 0.1588332\ttotal: 372ms\tremaining: 675ms\n",
      "355:\tlearn: 0.1585358\ttotal: 373ms\tremaining: 674ms\n",
      "356:\tlearn: 0.1584849\ttotal: 373ms\tremaining: 672ms\n",
      "357:\tlearn: 0.1581036\ttotal: 374ms\tremaining: 671ms\n",
      "358:\tlearn: 0.1576980\ttotal: 375ms\tremaining: 669ms\n",
      "359:\tlearn: 0.1574465\ttotal: 376ms\tremaining: 668ms\n",
      "360:\tlearn: 0.1572596\ttotal: 376ms\tremaining: 666ms\n",
      "361:\tlearn: 0.1570983\ttotal: 377ms\tremaining: 665ms\n",
      "362:\tlearn: 0.1568979\ttotal: 378ms\tremaining: 663ms\n"
     ]
    },
    {
     "name": "stdout",
     "output_type": "stream",
     "text": [
      "363:\tlearn: 0.1565770\ttotal: 379ms\tremaining: 662ms\n",
      "364:\tlearn: 0.1563926\ttotal: 380ms\tremaining: 661ms\n",
      "365:\tlearn: 0.1562771\ttotal: 381ms\tremaining: 660ms\n",
      "366:\tlearn: 0.1561991\ttotal: 382ms\tremaining: 658ms\n",
      "367:\tlearn: 0.1561438\ttotal: 383ms\tremaining: 657ms\n",
      "368:\tlearn: 0.1560989\ttotal: 383ms\tremaining: 655ms\n",
      "369:\tlearn: 0.1559049\ttotal: 384ms\tremaining: 655ms\n",
      "370:\tlearn: 0.1555467\ttotal: 385ms\tremaining: 653ms\n",
      "371:\tlearn: 0.1552037\ttotal: 386ms\tremaining: 652ms\n",
      "372:\tlearn: 0.1549480\ttotal: 387ms\tremaining: 651ms\n",
      "373:\tlearn: 0.1546140\ttotal: 388ms\tremaining: 650ms\n",
      "374:\tlearn: 0.1541835\ttotal: 389ms\tremaining: 648ms\n",
      "375:\tlearn: 0.1540563\ttotal: 390ms\tremaining: 647ms\n",
      "376:\tlearn: 0.1539043\ttotal: 391ms\tremaining: 646ms\n",
      "377:\tlearn: 0.1537742\ttotal: 392ms\tremaining: 644ms\n",
      "378:\tlearn: 0.1535831\ttotal: 392ms\tremaining: 643ms\n",
      "379:\tlearn: 0.1534576\ttotal: 393ms\tremaining: 642ms\n",
      "380:\tlearn: 0.1532278\ttotal: 394ms\tremaining: 640ms\n",
      "381:\tlearn: 0.1531777\ttotal: 395ms\tremaining: 639ms\n",
      "382:\tlearn: 0.1531223\ttotal: 396ms\tremaining: 638ms\n",
      "383:\tlearn: 0.1530334\ttotal: 397ms\tremaining: 637ms\n",
      "384:\tlearn: 0.1529005\ttotal: 398ms\tremaining: 635ms\n",
      "385:\tlearn: 0.1524950\ttotal: 398ms\tremaining: 634ms\n",
      "386:\tlearn: 0.1523331\ttotal: 399ms\tremaining: 632ms\n",
      "387:\tlearn: 0.1519272\ttotal: 400ms\tremaining: 631ms\n",
      "388:\tlearn: 0.1515980\ttotal: 401ms\tremaining: 630ms\n",
      "389:\tlearn: 0.1512328\ttotal: 402ms\tremaining: 628ms\n",
      "390:\tlearn: 0.1510437\ttotal: 403ms\tremaining: 627ms\n",
      "391:\tlearn: 0.1509739\ttotal: 403ms\tremaining: 626ms\n",
      "392:\tlearn: 0.1506757\ttotal: 404ms\tremaining: 624ms\n",
      "393:\tlearn: 0.1505383\ttotal: 405ms\tremaining: 623ms\n",
      "394:\tlearn: 0.1504434\ttotal: 406ms\tremaining: 621ms\n",
      "395:\tlearn: 0.1503898\ttotal: 407ms\tremaining: 620ms\n",
      "396:\tlearn: 0.1503354\ttotal: 407ms\tremaining: 619ms\n",
      "397:\tlearn: 0.1502044\ttotal: 408ms\tremaining: 617ms\n",
      "398:\tlearn: 0.1501266\ttotal: 409ms\tremaining: 616ms\n",
      "399:\tlearn: 0.1500400\ttotal: 410ms\tremaining: 615ms\n",
      "400:\tlearn: 0.1499160\ttotal: 411ms\tremaining: 614ms\n",
      "401:\tlearn: 0.1495463\ttotal: 412ms\tremaining: 612ms\n",
      "402:\tlearn: 0.1491884\ttotal: 414ms\tremaining: 613ms\n",
      "403:\tlearn: 0.1487734\ttotal: 414ms\tremaining: 611ms\n",
      "404:\tlearn: 0.1486226\ttotal: 415ms\tremaining: 610ms\n",
      "405:\tlearn: 0.1485696\ttotal: 417ms\tremaining: 610ms\n",
      "406:\tlearn: 0.1482992\ttotal: 418ms\tremaining: 609ms\n",
      "407:\tlearn: 0.1479253\ttotal: 419ms\tremaining: 608ms\n",
      "408:\tlearn: 0.1476941\ttotal: 420ms\tremaining: 606ms\n",
      "409:\tlearn: 0.1473426\ttotal: 421ms\tremaining: 605ms\n",
      "410:\tlearn: 0.1471696\ttotal: 421ms\tremaining: 604ms\n",
      "411:\tlearn: 0.1467195\ttotal: 422ms\tremaining: 603ms\n",
      "412:\tlearn: 0.1463021\ttotal: 423ms\tremaining: 602ms\n",
      "413:\tlearn: 0.1460313\ttotal: 424ms\tremaining: 600ms\n",
      "414:\tlearn: 0.1458598\ttotal: 425ms\tremaining: 599ms\n",
      "415:\tlearn: 0.1455679\ttotal: 426ms\tremaining: 598ms\n",
      "416:\tlearn: 0.1454070\ttotal: 427ms\tremaining: 597ms\n",
      "417:\tlearn: 0.1452957\ttotal: 428ms\tremaining: 596ms\n",
      "418:\tlearn: 0.1450964\ttotal: 429ms\tremaining: 594ms\n",
      "419:\tlearn: 0.1449358\ttotal: 430ms\tremaining: 593ms\n",
      "420:\tlearn: 0.1447835\ttotal: 430ms\tremaining: 592ms\n",
      "421:\tlearn: 0.1446607\ttotal: 431ms\tremaining: 591ms\n",
      "422:\tlearn: 0.1444552\ttotal: 433ms\tremaining: 590ms\n",
      "423:\tlearn: 0.1441251\ttotal: 433ms\tremaining: 589ms\n",
      "424:\tlearn: 0.1440400\ttotal: 434ms\tremaining: 587ms\n",
      "425:\tlearn: 0.1438315\ttotal: 435ms\tremaining: 586ms\n",
      "426:\tlearn: 0.1436697\ttotal: 436ms\tremaining: 585ms\n",
      "427:\tlearn: 0.1433950\ttotal: 437ms\tremaining: 584ms\n",
      "428:\tlearn: 0.1431759\ttotal: 438ms\tremaining: 583ms\n",
      "429:\tlearn: 0.1428764\ttotal: 439ms\tremaining: 582ms\n",
      "430:\tlearn: 0.1428315\ttotal: 440ms\tremaining: 581ms\n",
      "431:\tlearn: 0.1427218\ttotal: 441ms\tremaining: 580ms\n",
      "432:\tlearn: 0.1425613\ttotal: 442ms\tremaining: 579ms\n",
      "433:\tlearn: 0.1423856\ttotal: 443ms\tremaining: 578ms\n",
      "434:\tlearn: 0.1420385\ttotal: 444ms\tremaining: 577ms\n",
      "435:\tlearn: 0.1415769\ttotal: 445ms\tremaining: 575ms\n",
      "436:\tlearn: 0.1415093\ttotal: 446ms\tremaining: 574ms\n",
      "437:\tlearn: 0.1412167\ttotal: 446ms\tremaining: 573ms\n",
      "438:\tlearn: 0.1409128\ttotal: 447ms\tremaining: 572ms\n",
      "439:\tlearn: 0.1407245\ttotal: 448ms\tremaining: 570ms\n",
      "440:\tlearn: 0.1403516\ttotal: 449ms\tremaining: 569ms\n",
      "441:\tlearn: 0.1400397\ttotal: 450ms\tremaining: 567ms\n",
      "442:\tlearn: 0.1397042\ttotal: 450ms\tremaining: 566ms\n",
      "443:\tlearn: 0.1393592\ttotal: 451ms\tremaining: 565ms\n",
      "444:\tlearn: 0.1390907\ttotal: 452ms\tremaining: 564ms\n",
      "445:\tlearn: 0.1387853\ttotal: 453ms\tremaining: 562ms\n",
      "446:\tlearn: 0.1384566\ttotal: 454ms\tremaining: 561ms\n",
      "447:\tlearn: 0.1382276\ttotal: 454ms\tremaining: 560ms\n",
      "448:\tlearn: 0.1381787\ttotal: 455ms\tremaining: 559ms\n",
      "449:\tlearn: 0.1377534\ttotal: 456ms\tremaining: 558ms\n",
      "450:\tlearn: 0.1374279\ttotal: 457ms\tremaining: 556ms\n",
      "451:\tlearn: 0.1370750\ttotal: 458ms\tremaining: 555ms\n",
      "452:\tlearn: 0.1367609\ttotal: 459ms\tremaining: 554ms\n",
      "453:\tlearn: 0.1364967\ttotal: 460ms\tremaining: 553ms\n"
     ]
    },
    {
     "name": "stdout",
     "output_type": "stream",
     "text": [
      "454:\tlearn: 0.1362515\ttotal: 461ms\tremaining: 552ms\n",
      "455:\tlearn: 0.1359700\ttotal: 462ms\tremaining: 551ms\n",
      "456:\tlearn: 0.1358172\ttotal: 463ms\tremaining: 550ms\n",
      "457:\tlearn: 0.1355129\ttotal: 464ms\tremaining: 549ms\n",
      "458:\tlearn: 0.1352415\ttotal: 465ms\tremaining: 548ms\n",
      "459:\tlearn: 0.1350306\ttotal: 465ms\tremaining: 546ms\n",
      "460:\tlearn: 0.1348100\ttotal: 466ms\tremaining: 545ms\n",
      "461:\tlearn: 0.1345180\ttotal: 467ms\tremaining: 544ms\n",
      "462:\tlearn: 0.1344591\ttotal: 468ms\tremaining: 543ms\n",
      "463:\tlearn: 0.1342540\ttotal: 469ms\tremaining: 542ms\n",
      "464:\tlearn: 0.1340933\ttotal: 470ms\tremaining: 540ms\n",
      "465:\tlearn: 0.1337060\ttotal: 471ms\tremaining: 539ms\n",
      "466:\tlearn: 0.1334734\ttotal: 471ms\tremaining: 538ms\n",
      "467:\tlearn: 0.1333154\ttotal: 472ms\tremaining: 537ms\n",
      "468:\tlearn: 0.1332783\ttotal: 473ms\tremaining: 536ms\n",
      "469:\tlearn: 0.1330318\ttotal: 474ms\tremaining: 535ms\n",
      "470:\tlearn: 0.1327230\ttotal: 475ms\tremaining: 533ms\n",
      "471:\tlearn: 0.1323749\ttotal: 476ms\tremaining: 532ms\n",
      "472:\tlearn: 0.1320408\ttotal: 477ms\tremaining: 531ms\n",
      "473:\tlearn: 0.1317517\ttotal: 477ms\tremaining: 530ms\n",
      "474:\tlearn: 0.1316657\ttotal: 478ms\tremaining: 528ms\n",
      "475:\tlearn: 0.1312997\ttotal: 479ms\tremaining: 527ms\n",
      "476:\tlearn: 0.1312258\ttotal: 480ms\tremaining: 526ms\n",
      "477:\tlearn: 0.1310518\ttotal: 480ms\tremaining: 525ms\n",
      "478:\tlearn: 0.1307393\ttotal: 481ms\tremaining: 524ms\n",
      "479:\tlearn: 0.1306037\ttotal: 482ms\tremaining: 522ms\n",
      "480:\tlearn: 0.1305591\ttotal: 483ms\tremaining: 521ms\n",
      "481:\tlearn: 0.1304044\ttotal: 484ms\tremaining: 520ms\n",
      "482:\tlearn: 0.1301998\ttotal: 485ms\tremaining: 519ms\n",
      "483:\tlearn: 0.1300112\ttotal: 486ms\tremaining: 518ms\n",
      "484:\tlearn: 0.1299248\ttotal: 487ms\tremaining: 517ms\n",
      "485:\tlearn: 0.1296498\ttotal: 488ms\tremaining: 516ms\n",
      "486:\tlearn: 0.1292448\ttotal: 489ms\tremaining: 515ms\n",
      "487:\tlearn: 0.1289882\ttotal: 489ms\tremaining: 513ms\n",
      "488:\tlearn: 0.1288290\ttotal: 490ms\tremaining: 512ms\n",
      "489:\tlearn: 0.1286912\ttotal: 491ms\tremaining: 511ms\n",
      "490:\tlearn: 0.1285330\ttotal: 492ms\tremaining: 510ms\n",
      "491:\tlearn: 0.1284691\ttotal: 493ms\tremaining: 509ms\n",
      "492:\tlearn: 0.1281280\ttotal: 494ms\tremaining: 508ms\n",
      "493:\tlearn: 0.1280288\ttotal: 495ms\tremaining: 507ms\n",
      "494:\tlearn: 0.1278650\ttotal: 495ms\tremaining: 505ms\n",
      "495:\tlearn: 0.1278101\ttotal: 496ms\tremaining: 504ms\n",
      "496:\tlearn: 0.1276668\ttotal: 497ms\tremaining: 503ms\n",
      "497:\tlearn: 0.1275360\ttotal: 498ms\tremaining: 502ms\n",
      "498:\tlearn: 0.1272086\ttotal: 499ms\tremaining: 501ms\n",
      "499:\tlearn: 0.1268720\ttotal: 499ms\tremaining: 499ms\n",
      "500:\tlearn: 0.1267225\ttotal: 500ms\tremaining: 498ms\n",
      "501:\tlearn: 0.1264669\ttotal: 501ms\tremaining: 497ms\n",
      "502:\tlearn: 0.1263052\ttotal: 502ms\tremaining: 496ms\n",
      "503:\tlearn: 0.1260065\ttotal: 503ms\tremaining: 495ms\n",
      "504:\tlearn: 0.1259185\ttotal: 504ms\tremaining: 494ms\n",
      "505:\tlearn: 0.1257751\ttotal: 505ms\tremaining: 493ms\n",
      "506:\tlearn: 0.1255684\ttotal: 505ms\tremaining: 491ms\n",
      "507:\tlearn: 0.1253257\ttotal: 506ms\tremaining: 490ms\n",
      "508:\tlearn: 0.1251210\ttotal: 507ms\tremaining: 489ms\n",
      "509:\tlearn: 0.1250267\ttotal: 508ms\tremaining: 488ms\n",
      "510:\tlearn: 0.1247678\ttotal: 509ms\tremaining: 487ms\n",
      "511:\tlearn: 0.1247325\ttotal: 510ms\tremaining: 486ms\n",
      "512:\tlearn: 0.1246039\ttotal: 510ms\tremaining: 485ms\n",
      "513:\tlearn: 0.1243091\ttotal: 511ms\tremaining: 483ms\n",
      "514:\tlearn: 0.1241499\ttotal: 512ms\tremaining: 482ms\n",
      "515:\tlearn: 0.1238729\ttotal: 513ms\tremaining: 481ms\n",
      "516:\tlearn: 0.1235770\ttotal: 514ms\tremaining: 480ms\n",
      "517:\tlearn: 0.1232913\ttotal: 514ms\tremaining: 479ms\n",
      "518:\tlearn: 0.1232035\ttotal: 515ms\tremaining: 478ms\n",
      "519:\tlearn: 0.1228937\ttotal: 516ms\tremaining: 477ms\n",
      "520:\tlearn: 0.1228036\ttotal: 517ms\tremaining: 475ms\n",
      "521:\tlearn: 0.1224874\ttotal: 518ms\tremaining: 474ms\n",
      "522:\tlearn: 0.1222312\ttotal: 519ms\tremaining: 473ms\n",
      "523:\tlearn: 0.1219240\ttotal: 519ms\tremaining: 472ms\n",
      "524:\tlearn: 0.1217133\ttotal: 520ms\tremaining: 471ms\n",
      "525:\tlearn: 0.1214289\ttotal: 521ms\tremaining: 470ms\n",
      "526:\tlearn: 0.1213675\ttotal: 522ms\tremaining: 469ms\n",
      "527:\tlearn: 0.1209704\ttotal: 523ms\tremaining: 467ms\n",
      "528:\tlearn: 0.1207429\ttotal: 524ms\tremaining: 466ms\n",
      "529:\tlearn: 0.1206280\ttotal: 524ms\tremaining: 465ms\n",
      "530:\tlearn: 0.1205975\ttotal: 525ms\tremaining: 464ms\n",
      "531:\tlearn: 0.1204927\ttotal: 526ms\tremaining: 463ms\n",
      "532:\tlearn: 0.1202066\ttotal: 527ms\tremaining: 462ms\n",
      "533:\tlearn: 0.1199461\ttotal: 528ms\tremaining: 461ms\n",
      "534:\tlearn: 0.1196093\ttotal: 529ms\tremaining: 460ms\n",
      "535:\tlearn: 0.1194814\ttotal: 530ms\tremaining: 459ms\n",
      "536:\tlearn: 0.1193276\ttotal: 531ms\tremaining: 457ms\n",
      "537:\tlearn: 0.1192749\ttotal: 531ms\tremaining: 456ms\n",
      "538:\tlearn: 0.1189856\ttotal: 532ms\tremaining: 455ms\n",
      "539:\tlearn: 0.1188555\ttotal: 533ms\tremaining: 454ms\n",
      "540:\tlearn: 0.1185577\ttotal: 534ms\tremaining: 453ms\n"
     ]
    },
    {
     "name": "stdout",
     "output_type": "stream",
     "text": [
      "541:\tlearn: 0.1185161\ttotal: 539ms\tremaining: 455ms\n",
      "542:\tlearn: 0.1183109\ttotal: 540ms\tremaining: 454ms\n",
      "543:\tlearn: 0.1180971\ttotal: 541ms\tremaining: 453ms\n",
      "544:\tlearn: 0.1180622\ttotal: 542ms\tremaining: 452ms\n",
      "545:\tlearn: 0.1177976\ttotal: 543ms\tremaining: 451ms\n",
      "546:\tlearn: 0.1177639\ttotal: 544ms\tremaining: 451ms\n",
      "547:\tlearn: 0.1174929\ttotal: 546ms\tremaining: 450ms\n",
      "548:\tlearn: 0.1173078\ttotal: 547ms\tremaining: 449ms\n",
      "549:\tlearn: 0.1172826\ttotal: 548ms\tremaining: 448ms\n",
      "550:\tlearn: 0.1171103\ttotal: 549ms\tremaining: 447ms\n",
      "551:\tlearn: 0.1168786\ttotal: 550ms\tremaining: 446ms\n",
      "552:\tlearn: 0.1166791\ttotal: 551ms\tremaining: 445ms\n",
      "553:\tlearn: 0.1163976\ttotal: 552ms\tremaining: 444ms\n",
      "554:\tlearn: 0.1162240\ttotal: 553ms\tremaining: 443ms\n",
      "555:\tlearn: 0.1160551\ttotal: 554ms\tremaining: 442ms\n",
      "556:\tlearn: 0.1158562\ttotal: 555ms\tremaining: 442ms\n",
      "557:\tlearn: 0.1156864\ttotal: 557ms\tremaining: 441ms\n"
     ]
    },
    {
     "name": "stdout",
     "output_type": "stream",
     "text": [
      "558:\tlearn: 0.1153975\ttotal: 558ms\tremaining: 440ms\n",
      "559:\tlearn: 0.1152626\ttotal: 559ms\tremaining: 439ms\n",
      "560:\tlearn: 0.1150250\ttotal: 560ms\tremaining: 438ms\n",
      "561:\tlearn: 0.1147814\ttotal: 561ms\tremaining: 438ms\n",
      "562:\tlearn: 0.1145210\ttotal: 563ms\tremaining: 437ms\n",
      "563:\tlearn: 0.1142913\ttotal: 564ms\tremaining: 436ms\n",
      "564:\tlearn: 0.1139717\ttotal: 565ms\tremaining: 435ms\n",
      "565:\tlearn: 0.1138035\ttotal: 566ms\tremaining: 434ms\n",
      "566:\tlearn: 0.1135430\ttotal: 567ms\tremaining: 433ms\n",
      "567:\tlearn: 0.1132777\ttotal: 568ms\tremaining: 432ms\n",
      "568:\tlearn: 0.1129769\ttotal: 569ms\tremaining: 431ms\n",
      "569:\tlearn: 0.1127519\ttotal: 570ms\tremaining: 430ms\n",
      "570:\tlearn: 0.1126356\ttotal: 571ms\tremaining: 429ms\n",
      "571:\tlearn: 0.1125161\ttotal: 572ms\tremaining: 428ms\n",
      "572:\tlearn: 0.1124206\ttotal: 573ms\tremaining: 427ms\n",
      "573:\tlearn: 0.1121980\ttotal: 574ms\tremaining: 426ms\n",
      "574:\tlearn: 0.1120258\ttotal: 575ms\tremaining: 425ms\n",
      "575:\tlearn: 0.1118117\ttotal: 576ms\tremaining: 424ms\n",
      "576:\tlearn: 0.1116976\ttotal: 577ms\tremaining: 423ms\n",
      "577:\tlearn: 0.1116478\ttotal: 578ms\tremaining: 422ms\n",
      "578:\tlearn: 0.1114498\ttotal: 579ms\tremaining: 421ms\n",
      "579:\tlearn: 0.1112040\ttotal: 580ms\tremaining: 420ms\n",
      "580:\tlearn: 0.1110589\ttotal: 580ms\tremaining: 419ms\n",
      "581:\tlearn: 0.1109502\ttotal: 581ms\tremaining: 417ms\n",
      "582:\tlearn: 0.1106867\ttotal: 582ms\tremaining: 416ms\n",
      "583:\tlearn: 0.1105117\ttotal: 583ms\tremaining: 415ms\n",
      "584:\tlearn: 0.1102690\ttotal: 584ms\tremaining: 414ms\n",
      "585:\tlearn: 0.1099999\ttotal: 585ms\tremaining: 413ms\n",
      "586:\tlearn: 0.1099237\ttotal: 586ms\tremaining: 412ms\n",
      "587:\tlearn: 0.1097684\ttotal: 586ms\tremaining: 411ms\n",
      "588:\tlearn: 0.1095102\ttotal: 587ms\tremaining: 410ms\n",
      "589:\tlearn: 0.1092854\ttotal: 588ms\tremaining: 409ms\n",
      "590:\tlearn: 0.1091205\ttotal: 589ms\tremaining: 407ms\n",
      "591:\tlearn: 0.1089586\ttotal: 590ms\tremaining: 406ms\n",
      "592:\tlearn: 0.1087541\ttotal: 590ms\tremaining: 405ms\n",
      "593:\tlearn: 0.1086319\ttotal: 591ms\tremaining: 404ms\n",
      "594:\tlearn: 0.1083506\ttotal: 592ms\tremaining: 403ms\n",
      "595:\tlearn: 0.1081190\ttotal: 593ms\tremaining: 402ms\n",
      "596:\tlearn: 0.1079783\ttotal: 593ms\tremaining: 401ms\n",
      "597:\tlearn: 0.1077047\ttotal: 594ms\tremaining: 400ms\n",
      "598:\tlearn: 0.1074707\ttotal: 595ms\tremaining: 398ms\n",
      "599:\tlearn: 0.1071549\ttotal: 596ms\tremaining: 397ms\n",
      "600:\tlearn: 0.1069430\ttotal: 597ms\tremaining: 396ms\n",
      "601:\tlearn: 0.1067490\ttotal: 597ms\tremaining: 395ms\n",
      "602:\tlearn: 0.1065328\ttotal: 598ms\tremaining: 394ms\n",
      "603:\tlearn: 0.1063975\ttotal: 599ms\tremaining: 393ms\n",
      "604:\tlearn: 0.1061941\ttotal: 600ms\tremaining: 392ms\n",
      "605:\tlearn: 0.1059823\ttotal: 601ms\tremaining: 391ms\n",
      "606:\tlearn: 0.1057544\ttotal: 602ms\tremaining: 390ms\n",
      "607:\tlearn: 0.1057410\ttotal: 602ms\tremaining: 388ms\n",
      "608:\tlearn: 0.1057022\ttotal: 604ms\tremaining: 388ms\n",
      "609:\tlearn: 0.1056806\ttotal: 605ms\tremaining: 387ms\n",
      "610:\tlearn: 0.1056210\ttotal: 606ms\tremaining: 386ms\n",
      "611:\tlearn: 0.1054600\ttotal: 607ms\tremaining: 385ms\n",
      "612:\tlearn: 0.1052045\ttotal: 607ms\tremaining: 383ms\n",
      "613:\tlearn: 0.1050933\ttotal: 608ms\tremaining: 382ms\n",
      "614:\tlearn: 0.1049818\ttotal: 609ms\tremaining: 381ms\n",
      "615:\tlearn: 0.1048550\ttotal: 610ms\tremaining: 380ms\n",
      "616:\tlearn: 0.1046485\ttotal: 611ms\tremaining: 379ms\n",
      "617:\tlearn: 0.1044633\ttotal: 612ms\tremaining: 378ms\n",
      "618:\tlearn: 0.1042788\ttotal: 613ms\tremaining: 377ms\n",
      "619:\tlearn: 0.1041586\ttotal: 614ms\tremaining: 376ms\n",
      "620:\tlearn: 0.1038936\ttotal: 615ms\tremaining: 375ms\n",
      "621:\tlearn: 0.1037994\ttotal: 615ms\tremaining: 374ms\n",
      "622:\tlearn: 0.1035949\ttotal: 616ms\tremaining: 373ms\n",
      "623:\tlearn: 0.1033856\ttotal: 617ms\tremaining: 372ms\n",
      "624:\tlearn: 0.1032417\ttotal: 618ms\tremaining: 371ms\n",
      "625:\tlearn: 0.1030988\ttotal: 619ms\tremaining: 370ms\n",
      "626:\tlearn: 0.1030002\ttotal: 620ms\tremaining: 369ms\n",
      "627:\tlearn: 0.1027980\ttotal: 620ms\tremaining: 367ms\n",
      "628:\tlearn: 0.1027678\ttotal: 621ms\tremaining: 366ms\n",
      "629:\tlearn: 0.1025226\ttotal: 622ms\tremaining: 365ms\n",
      "630:\tlearn: 0.1024875\ttotal: 623ms\tremaining: 364ms\n",
      "631:\tlearn: 0.1023476\ttotal: 624ms\tremaining: 363ms\n",
      "632:\tlearn: 0.1023277\ttotal: 625ms\tremaining: 362ms\n",
      "633:\tlearn: 0.1022271\ttotal: 625ms\tremaining: 361ms\n",
      "634:\tlearn: 0.1020751\ttotal: 626ms\tremaining: 360ms\n",
      "635:\tlearn: 0.1018431\ttotal: 627ms\tremaining: 359ms\n",
      "636:\tlearn: 0.1016065\ttotal: 628ms\tremaining: 358ms\n",
      "637:\tlearn: 0.1013896\ttotal: 629ms\tremaining: 357ms\n",
      "638:\tlearn: 0.1013344\ttotal: 630ms\tremaining: 356ms\n",
      "639:\tlearn: 0.1011718\ttotal: 630ms\tremaining: 355ms\n",
      "640:\tlearn: 0.1010255\ttotal: 631ms\tremaining: 354ms\n",
      "641:\tlearn: 0.1008940\ttotal: 632ms\tremaining: 352ms\n",
      "642:\tlearn: 0.1007385\ttotal: 633ms\tremaining: 351ms\n",
      "643:\tlearn: 0.1005445\ttotal: 634ms\tremaining: 350ms\n",
      "644:\tlearn: 0.1004721\ttotal: 635ms\tremaining: 349ms\n",
      "645:\tlearn: 0.1003160\ttotal: 636ms\tremaining: 348ms\n",
      "646:\tlearn: 0.1002295\ttotal: 636ms\tremaining: 347ms\n"
     ]
    },
    {
     "name": "stdout",
     "output_type": "stream",
     "text": [
      "647:\tlearn: 0.1001756\ttotal: 637ms\tremaining: 346ms\n",
      "648:\tlearn: 0.0999951\ttotal: 639ms\tremaining: 345ms\n",
      "649:\tlearn: 0.0998083\ttotal: 640ms\tremaining: 345ms\n",
      "650:\tlearn: 0.0996760\ttotal: 641ms\tremaining: 344ms\n",
      "651:\tlearn: 0.0996629\ttotal: 643ms\tremaining: 343ms\n",
      "652:\tlearn: 0.0995077\ttotal: 643ms\tremaining: 342ms\n",
      "653:\tlearn: 0.0992663\ttotal: 644ms\tremaining: 341ms\n",
      "654:\tlearn: 0.0990470\ttotal: 645ms\tremaining: 340ms\n",
      "655:\tlearn: 0.0989950\ttotal: 646ms\tremaining: 339ms\n",
      "656:\tlearn: 0.0987404\ttotal: 646ms\tremaining: 337ms\n",
      "657:\tlearn: 0.0986268\ttotal: 647ms\tremaining: 336ms\n",
      "658:\tlearn: 0.0984331\ttotal: 648ms\tremaining: 335ms\n",
      "659:\tlearn: 0.0982725\ttotal: 649ms\tremaining: 334ms\n",
      "660:\tlearn: 0.0980534\ttotal: 650ms\tremaining: 333ms\n",
      "661:\tlearn: 0.0979688\ttotal: 651ms\tremaining: 332ms\n",
      "662:\tlearn: 0.0978865\ttotal: 651ms\tremaining: 331ms\n",
      "663:\tlearn: 0.0977078\ttotal: 652ms\tremaining: 330ms\n",
      "664:\tlearn: 0.0976937\ttotal: 653ms\tremaining: 329ms\n",
      "665:\tlearn: 0.0974162\ttotal: 654ms\tremaining: 328ms\n",
      "666:\tlearn: 0.0972690\ttotal: 655ms\tremaining: 327ms\n",
      "667:\tlearn: 0.0971001\ttotal: 655ms\tremaining: 326ms\n",
      "668:\tlearn: 0.0969481\ttotal: 656ms\tremaining: 325ms\n",
      "669:\tlearn: 0.0967915\ttotal: 657ms\tremaining: 324ms\n",
      "670:\tlearn: 0.0966537\ttotal: 658ms\tremaining: 323ms\n",
      "671:\tlearn: 0.0965773\ttotal: 659ms\tremaining: 322ms\n",
      "672:\tlearn: 0.0965420\ttotal: 660ms\tremaining: 321ms\n",
      "673:\tlearn: 0.0963254\ttotal: 661ms\tremaining: 319ms\n",
      "674:\tlearn: 0.0961451\ttotal: 661ms\tremaining: 318ms\n",
      "675:\tlearn: 0.0960106\ttotal: 662ms\tremaining: 317ms\n",
      "676:\tlearn: 0.0958028\ttotal: 663ms\tremaining: 316ms\n",
      "677:\tlearn: 0.0956406\ttotal: 664ms\tremaining: 315ms\n",
      "678:\tlearn: 0.0954566\ttotal: 665ms\tremaining: 314ms\n",
      "679:\tlearn: 0.0953358\ttotal: 666ms\tremaining: 313ms\n",
      "680:\tlearn: 0.0951603\ttotal: 666ms\tremaining: 312ms\n",
      "681:\tlearn: 0.0951141\ttotal: 667ms\tremaining: 311ms\n",
      "682:\tlearn: 0.0949690\ttotal: 668ms\tremaining: 310ms\n",
      "683:\tlearn: 0.0949432\ttotal: 669ms\tremaining: 309ms\n",
      "684:\tlearn: 0.0947982\ttotal: 670ms\tremaining: 308ms\n",
      "685:\tlearn: 0.0946026\ttotal: 670ms\tremaining: 307ms\n",
      "686:\tlearn: 0.0945253\ttotal: 671ms\tremaining: 306ms\n",
      "687:\tlearn: 0.0943779\ttotal: 672ms\tremaining: 305ms\n",
      "688:\tlearn: 0.0941765\ttotal: 673ms\tremaining: 304ms\n",
      "689:\tlearn: 0.0941552\ttotal: 674ms\tremaining: 303ms\n",
      "690:\tlearn: 0.0939927\ttotal: 675ms\tremaining: 302ms\n",
      "691:\tlearn: 0.0938893\ttotal: 676ms\tremaining: 301ms\n",
      "692:\tlearn: 0.0937677\ttotal: 676ms\tremaining: 300ms\n",
      "693:\tlearn: 0.0936622\ttotal: 678ms\tremaining: 299ms\n",
      "694:\tlearn: 0.0935233\ttotal: 679ms\tremaining: 298ms\n",
      "695:\tlearn: 0.0933491\ttotal: 680ms\tremaining: 297ms\n",
      "696:\tlearn: 0.0932016\ttotal: 680ms\tremaining: 296ms\n",
      "697:\tlearn: 0.0930663\ttotal: 681ms\tremaining: 295ms\n",
      "698:\tlearn: 0.0929816\ttotal: 682ms\tremaining: 294ms\n",
      "699:\tlearn: 0.0928178\ttotal: 683ms\tremaining: 293ms\n",
      "700:\tlearn: 0.0927833\ttotal: 684ms\tremaining: 292ms\n",
      "701:\tlearn: 0.0926192\ttotal: 685ms\tremaining: 291ms\n",
      "702:\tlearn: 0.0924501\ttotal: 686ms\tremaining: 290ms\n",
      "703:\tlearn: 0.0923391\ttotal: 686ms\tremaining: 289ms\n",
      "704:\tlearn: 0.0921188\ttotal: 687ms\tremaining: 288ms\n",
      "705:\tlearn: 0.0919221\ttotal: 688ms\tremaining: 286ms\n",
      "706:\tlearn: 0.0917923\ttotal: 689ms\tremaining: 285ms\n",
      "707:\tlearn: 0.0916332\ttotal: 690ms\tremaining: 284ms\n",
      "708:\tlearn: 0.0914977\ttotal: 690ms\tremaining: 283ms\n",
      "709:\tlearn: 0.0913748\ttotal: 691ms\tremaining: 282ms\n",
      "710:\tlearn: 0.0911865\ttotal: 692ms\tremaining: 281ms\n",
      "711:\tlearn: 0.0910831\ttotal: 693ms\tremaining: 280ms\n",
      "712:\tlearn: 0.0909382\ttotal: 693ms\tremaining: 279ms\n",
      "713:\tlearn: 0.0907798\ttotal: 694ms\tremaining: 278ms\n",
      "714:\tlearn: 0.0906192\ttotal: 695ms\tremaining: 277ms\n",
      "715:\tlearn: 0.0904185\ttotal: 696ms\tremaining: 276ms\n",
      "716:\tlearn: 0.0903182\ttotal: 696ms\tremaining: 275ms\n",
      "717:\tlearn: 0.0901104\ttotal: 697ms\tremaining: 274ms\n",
      "718:\tlearn: 0.0899081\ttotal: 698ms\tremaining: 273ms\n",
      "719:\tlearn: 0.0897473\ttotal: 699ms\tremaining: 272ms\n",
      "720:\tlearn: 0.0897106\ttotal: 700ms\tremaining: 271ms\n",
      "721:\tlearn: 0.0895165\ttotal: 701ms\tremaining: 270ms\n",
      "722:\tlearn: 0.0893627\ttotal: 701ms\tremaining: 269ms\n",
      "723:\tlearn: 0.0891827\ttotal: 702ms\tremaining: 268ms\n",
      "724:\tlearn: 0.0890344\ttotal: 703ms\tremaining: 267ms\n",
      "725:\tlearn: 0.0888814\ttotal: 704ms\tremaining: 266ms\n",
      "726:\tlearn: 0.0887063\ttotal: 705ms\tremaining: 265ms\n",
      "727:\tlearn: 0.0884481\ttotal: 706ms\tremaining: 264ms\n",
      "728:\tlearn: 0.0882695\ttotal: 707ms\tremaining: 263ms\n",
      "729:\tlearn: 0.0881174\ttotal: 707ms\tremaining: 262ms\n",
      "730:\tlearn: 0.0880458\ttotal: 708ms\tremaining: 261ms\n",
      "731:\tlearn: 0.0879433\ttotal: 709ms\tremaining: 260ms\n",
      "732:\tlearn: 0.0877645\ttotal: 710ms\tremaining: 259ms\n",
      "733:\tlearn: 0.0876268\ttotal: 710ms\tremaining: 257ms\n",
      "734:\tlearn: 0.0874039\ttotal: 711ms\tremaining: 256ms\n",
      "735:\tlearn: 0.0873015\ttotal: 712ms\tremaining: 255ms\n",
      "736:\tlearn: 0.0871537\ttotal: 713ms\tremaining: 254ms\n",
      "737:\tlearn: 0.0869378\ttotal: 714ms\tremaining: 253ms\n",
      "738:\tlearn: 0.0868333\ttotal: 715ms\tremaining: 252ms\n",
      "739:\tlearn: 0.0867873\ttotal: 715ms\tremaining: 251ms\n",
      "740:\tlearn: 0.0865826\ttotal: 716ms\tremaining: 250ms\n",
      "741:\tlearn: 0.0864846\ttotal: 717ms\tremaining: 249ms\n",
      "742:\tlearn: 0.0864750\ttotal: 718ms\tremaining: 248ms\n",
      "743:\tlearn: 0.0863582\ttotal: 719ms\tremaining: 247ms\n",
      "744:\tlearn: 0.0862962\ttotal: 719ms\tremaining: 246ms\n",
      "745:\tlearn: 0.0861823\ttotal: 720ms\tremaining: 245ms\n",
      "746:\tlearn: 0.0860797\ttotal: 721ms\tremaining: 244ms\n",
      "747:\tlearn: 0.0859411\ttotal: 722ms\tremaining: 243ms\n",
      "748:\tlearn: 0.0857736\ttotal: 723ms\tremaining: 242ms\n",
      "749:\tlearn: 0.0856914\ttotal: 724ms\tremaining: 241ms\n",
      "750:\tlearn: 0.0855418\ttotal: 725ms\tremaining: 240ms\n"
     ]
    },
    {
     "name": "stdout",
     "output_type": "stream",
     "text": [
      "751:\tlearn: 0.0854432\ttotal: 725ms\tremaining: 239ms\n",
      "752:\tlearn: 0.0852442\ttotal: 726ms\tremaining: 238ms\n",
      "753:\tlearn: 0.0851029\ttotal: 727ms\tremaining: 237ms\n",
      "754:\tlearn: 0.0849929\ttotal: 728ms\tremaining: 236ms\n",
      "755:\tlearn: 0.0848981\ttotal: 729ms\tremaining: 235ms\n",
      "756:\tlearn: 0.0848117\ttotal: 729ms\tremaining: 234ms\n",
      "757:\tlearn: 0.0846751\ttotal: 730ms\tremaining: 233ms\n",
      "758:\tlearn: 0.0845956\ttotal: 731ms\tremaining: 232ms\n",
      "759:\tlearn: 0.0844734\ttotal: 732ms\tremaining: 231ms\n",
      "760:\tlearn: 0.0843782\ttotal: 732ms\tremaining: 230ms\n",
      "761:\tlearn: 0.0842465\ttotal: 733ms\tremaining: 229ms\n",
      "762:\tlearn: 0.0841294\ttotal: 734ms\tremaining: 228ms\n",
      "763:\tlearn: 0.0840018\ttotal: 735ms\tremaining: 227ms\n",
      "764:\tlearn: 0.0838846\ttotal: 735ms\tremaining: 226ms\n",
      "765:\tlearn: 0.0837843\ttotal: 736ms\tremaining: 225ms\n",
      "766:\tlearn: 0.0836217\ttotal: 737ms\tremaining: 224ms\n",
      "767:\tlearn: 0.0835031\ttotal: 738ms\tremaining: 223ms\n",
      "768:\tlearn: 0.0833722\ttotal: 739ms\tremaining: 222ms\n",
      "769:\tlearn: 0.0833597\ttotal: 739ms\tremaining: 221ms\n",
      "770:\tlearn: 0.0832916\ttotal: 740ms\tremaining: 220ms\n",
      "771:\tlearn: 0.0831753\ttotal: 741ms\tremaining: 219ms\n",
      "772:\tlearn: 0.0830703\ttotal: 742ms\tremaining: 218ms\n",
      "773:\tlearn: 0.0829910\ttotal: 743ms\tremaining: 217ms\n",
      "774:\tlearn: 0.0828856\ttotal: 744ms\tremaining: 216ms\n",
      "775:\tlearn: 0.0827520\ttotal: 745ms\tremaining: 215ms\n",
      "776:\tlearn: 0.0827368\ttotal: 746ms\tremaining: 214ms\n",
      "777:\tlearn: 0.0826165\ttotal: 747ms\tremaining: 213ms\n",
      "778:\tlearn: 0.0824756\ttotal: 748ms\tremaining: 212ms\n",
      "779:\tlearn: 0.0823334\ttotal: 748ms\tremaining: 211ms\n",
      "780:\tlearn: 0.0821774\ttotal: 749ms\tremaining: 210ms\n",
      "781:\tlearn: 0.0820384\ttotal: 751ms\tremaining: 209ms\n",
      "782:\tlearn: 0.0819107\ttotal: 751ms\tremaining: 208ms\n",
      "783:\tlearn: 0.0817222\ttotal: 753ms\tremaining: 207ms\n",
      "784:\tlearn: 0.0815874\ttotal: 753ms\tremaining: 206ms\n",
      "785:\tlearn: 0.0814065\ttotal: 754ms\tremaining: 205ms\n",
      "786:\tlearn: 0.0813498\ttotal: 755ms\tremaining: 204ms\n",
      "787:\tlearn: 0.0812020\ttotal: 756ms\tremaining: 204ms\n",
      "788:\tlearn: 0.0810861\ttotal: 757ms\tremaining: 203ms\n",
      "789:\tlearn: 0.0809806\ttotal: 758ms\tremaining: 202ms\n",
      "790:\tlearn: 0.0808688\ttotal: 759ms\tremaining: 201ms\n",
      "791:\tlearn: 0.0807133\ttotal: 760ms\tremaining: 200ms\n",
      "792:\tlearn: 0.0806189\ttotal: 761ms\tremaining: 199ms\n",
      "793:\tlearn: 0.0804509\ttotal: 762ms\tremaining: 198ms\n",
      "794:\tlearn: 0.0802653\ttotal: 763ms\tremaining: 197ms\n",
      "795:\tlearn: 0.0801445\ttotal: 766ms\tremaining: 196ms\n",
      "796:\tlearn: 0.0800244\ttotal: 768ms\tremaining: 196ms\n",
      "797:\tlearn: 0.0799294\ttotal: 770ms\tremaining: 195ms\n",
      "798:\tlearn: 0.0798452\ttotal: 773ms\tremaining: 194ms\n",
      "799:\tlearn: 0.0797592\ttotal: 775ms\tremaining: 194ms\n",
      "800:\tlearn: 0.0796591\ttotal: 777ms\tremaining: 193ms\n",
      "801:\tlearn: 0.0796067\ttotal: 779ms\tremaining: 192ms\n",
      "802:\tlearn: 0.0795165\ttotal: 781ms\tremaining: 192ms\n",
      "803:\tlearn: 0.0794001\ttotal: 782ms\tremaining: 191ms\n",
      "804:\tlearn: 0.0793547\ttotal: 783ms\tremaining: 190ms\n",
      "805:\tlearn: 0.0792047\ttotal: 785ms\tremaining: 189ms\n",
      "806:\tlearn: 0.0790413\ttotal: 787ms\tremaining: 188ms\n",
      "807:\tlearn: 0.0789688\ttotal: 788ms\tremaining: 187ms\n",
      "808:\tlearn: 0.0788299\ttotal: 790ms\tremaining: 187ms\n"
     ]
    },
    {
     "name": "stdout",
     "output_type": "stream",
     "text": [
      "809:\tlearn: 0.0788180\ttotal: 792ms\tremaining: 186ms\n",
      "810:\tlearn: 0.0786673\ttotal: 794ms\tremaining: 185ms\n",
      "811:\tlearn: 0.0785571\ttotal: 795ms\tremaining: 184ms\n",
      "812:\tlearn: 0.0784551\ttotal: 795ms\tremaining: 183ms\n",
      "813:\tlearn: 0.0783651\ttotal: 796ms\tremaining: 182ms\n",
      "814:\tlearn: 0.0782222\ttotal: 797ms\tremaining: 181ms\n",
      "815:\tlearn: 0.0781290\ttotal: 798ms\tremaining: 180ms\n",
      "816:\tlearn: 0.0779921\ttotal: 799ms\tremaining: 179ms\n",
      "817:\tlearn: 0.0778807\ttotal: 800ms\tremaining: 178ms\n",
      "818:\tlearn: 0.0776838\ttotal: 801ms\tremaining: 177ms\n",
      "819:\tlearn: 0.0776003\ttotal: 802ms\tremaining: 176ms\n",
      "820:\tlearn: 0.0775853\ttotal: 803ms\tremaining: 175ms\n",
      "821:\tlearn: 0.0774943\ttotal: 803ms\tremaining: 174ms\n",
      "822:\tlearn: 0.0774107\ttotal: 804ms\tremaining: 173ms\n",
      "823:\tlearn: 0.0773172\ttotal: 805ms\tremaining: 172ms\n",
      "824:\tlearn: 0.0771965\ttotal: 806ms\tremaining: 171ms\n",
      "825:\tlearn: 0.0770718\ttotal: 807ms\tremaining: 170ms\n",
      "826:\tlearn: 0.0770494\ttotal: 808ms\tremaining: 169ms\n",
      "827:\tlearn: 0.0769021\ttotal: 809ms\tremaining: 168ms\n",
      "828:\tlearn: 0.0768907\ttotal: 810ms\tremaining: 167ms\n",
      "829:\tlearn: 0.0767318\ttotal: 811ms\tremaining: 166ms\n",
      "830:\tlearn: 0.0766067\ttotal: 812ms\tremaining: 165ms\n",
      "831:\tlearn: 0.0764870\ttotal: 813ms\tremaining: 164ms\n",
      "832:\tlearn: 0.0763639\ttotal: 814ms\tremaining: 163ms\n",
      "833:\tlearn: 0.0763018\ttotal: 815ms\tremaining: 162ms\n",
      "834:\tlearn: 0.0761843\ttotal: 815ms\tremaining: 161ms\n",
      "835:\tlearn: 0.0761030\ttotal: 816ms\tremaining: 160ms\n",
      "836:\tlearn: 0.0759462\ttotal: 817ms\tremaining: 159ms\n",
      "837:\tlearn: 0.0758343\ttotal: 818ms\tremaining: 158ms\n",
      "838:\tlearn: 0.0758245\ttotal: 818ms\tremaining: 157ms\n",
      "839:\tlearn: 0.0757537\ttotal: 819ms\tremaining: 156ms\n",
      "840:\tlearn: 0.0756172\ttotal: 820ms\tremaining: 155ms\n",
      "841:\tlearn: 0.0754626\ttotal: 821ms\tremaining: 154ms\n",
      "842:\tlearn: 0.0754430\ttotal: 822ms\tremaining: 153ms\n",
      "843:\tlearn: 0.0754244\ttotal: 823ms\tremaining: 152ms\n",
      "844:\tlearn: 0.0753281\ttotal: 823ms\tremaining: 151ms\n",
      "845:\tlearn: 0.0753125\ttotal: 824ms\tremaining: 150ms\n",
      "846:\tlearn: 0.0751909\ttotal: 825ms\tremaining: 149ms\n",
      "847:\tlearn: 0.0750530\ttotal: 826ms\tremaining: 148ms\n",
      "848:\tlearn: 0.0750102\ttotal: 827ms\tremaining: 147ms\n",
      "849:\tlearn: 0.0749089\ttotal: 827ms\tremaining: 146ms\n",
      "850:\tlearn: 0.0747477\ttotal: 828ms\tremaining: 145ms\n",
      "851:\tlearn: 0.0747065\ttotal: 829ms\tremaining: 144ms\n",
      "852:\tlearn: 0.0746312\ttotal: 830ms\tremaining: 143ms\n",
      "853:\tlearn: 0.0745181\ttotal: 831ms\tremaining: 142ms\n",
      "854:\tlearn: 0.0744578\ttotal: 832ms\tremaining: 141ms\n",
      "855:\tlearn: 0.0743597\ttotal: 832ms\tremaining: 140ms\n",
      "856:\tlearn: 0.0742684\ttotal: 833ms\tremaining: 139ms\n",
      "857:\tlearn: 0.0741930\ttotal: 834ms\tremaining: 138ms\n",
      "858:\tlearn: 0.0740362\ttotal: 835ms\tremaining: 137ms\n",
      "859:\tlearn: 0.0739811\ttotal: 836ms\tremaining: 136ms\n",
      "860:\tlearn: 0.0738946\ttotal: 836ms\tremaining: 135ms\n",
      "861:\tlearn: 0.0738041\ttotal: 837ms\tremaining: 134ms\n",
      "862:\tlearn: 0.0736980\ttotal: 838ms\tremaining: 133ms\n",
      "863:\tlearn: 0.0735466\ttotal: 839ms\tremaining: 132ms\n",
      "864:\tlearn: 0.0733987\ttotal: 840ms\tremaining: 131ms\n",
      "865:\tlearn: 0.0733520\ttotal: 841ms\tremaining: 130ms\n",
      "866:\tlearn: 0.0731927\ttotal: 841ms\tremaining: 129ms\n",
      "867:\tlearn: 0.0731853\ttotal: 842ms\tremaining: 128ms\n",
      "868:\tlearn: 0.0730916\ttotal: 843ms\tremaining: 127ms\n",
      "869:\tlearn: 0.0729333\ttotal: 844ms\tremaining: 126ms\n",
      "870:\tlearn: 0.0728165\ttotal: 845ms\tremaining: 125ms\n",
      "871:\tlearn: 0.0727094\ttotal: 846ms\tremaining: 124ms\n",
      "872:\tlearn: 0.0726885\ttotal: 847ms\tremaining: 123ms\n",
      "873:\tlearn: 0.0725842\ttotal: 847ms\tremaining: 122ms\n",
      "874:\tlearn: 0.0724784\ttotal: 848ms\tremaining: 121ms\n",
      "875:\tlearn: 0.0724097\ttotal: 849ms\tremaining: 120ms\n",
      "876:\tlearn: 0.0723245\ttotal: 850ms\tremaining: 119ms\n",
      "877:\tlearn: 0.0721959\ttotal: 851ms\tremaining: 118ms\n",
      "878:\tlearn: 0.0721268\ttotal: 852ms\tremaining: 117ms\n",
      "879:\tlearn: 0.0719864\ttotal: 853ms\tremaining: 116ms\n",
      "880:\tlearn: 0.0719223\ttotal: 853ms\tremaining: 115ms\n",
      "881:\tlearn: 0.0717652\ttotal: 854ms\tremaining: 114ms\n",
      "882:\tlearn: 0.0715968\ttotal: 855ms\tremaining: 113ms\n",
      "883:\tlearn: 0.0714980\ttotal: 856ms\tremaining: 112ms\n",
      "884:\tlearn: 0.0714142\ttotal: 857ms\tremaining: 111ms\n",
      "885:\tlearn: 0.0712938\ttotal: 858ms\tremaining: 110ms\n",
      "886:\tlearn: 0.0711943\ttotal: 858ms\tremaining: 109ms\n",
      "887:\tlearn: 0.0711302\ttotal: 859ms\tremaining: 108ms\n",
      "888:\tlearn: 0.0710120\ttotal: 860ms\tremaining: 107ms\n",
      "889:\tlearn: 0.0709098\ttotal: 861ms\tremaining: 106ms\n",
      "890:\tlearn: 0.0708482\ttotal: 862ms\tremaining: 105ms\n",
      "891:\tlearn: 0.0707188\ttotal: 863ms\tremaining: 104ms\n",
      "892:\tlearn: 0.0705937\ttotal: 863ms\tremaining: 103ms\n",
      "893:\tlearn: 0.0704945\ttotal: 864ms\tremaining: 102ms\n",
      "894:\tlearn: 0.0703284\ttotal: 865ms\tremaining: 101ms\n",
      "895:\tlearn: 0.0701804\ttotal: 866ms\tremaining: 100ms\n",
      "896:\tlearn: 0.0700406\ttotal: 867ms\tremaining: 99.5ms\n",
      "897:\tlearn: 0.0699816\ttotal: 868ms\tremaining: 98.5ms\n",
      "898:\tlearn: 0.0698722\ttotal: 868ms\tremaining: 97.6ms\n",
      "899:\tlearn: 0.0697661\ttotal: 869ms\tremaining: 96.6ms\n",
      "900:\tlearn: 0.0696324\ttotal: 870ms\tremaining: 95.6ms\n",
      "901:\tlearn: 0.0695731\ttotal: 871ms\tremaining: 94.6ms\n",
      "902:\tlearn: 0.0694907\ttotal: 871ms\tremaining: 93.6ms\n",
      "903:\tlearn: 0.0693979\ttotal: 872ms\tremaining: 92.6ms\n",
      "904:\tlearn: 0.0693056\ttotal: 873ms\tremaining: 91.7ms\n",
      "905:\tlearn: 0.0692273\ttotal: 874ms\tremaining: 90.7ms\n",
      "906:\tlearn: 0.0690792\ttotal: 875ms\tremaining: 89.8ms\n",
      "907:\tlearn: 0.0690163\ttotal: 876ms\tremaining: 88.8ms\n",
      "908:\tlearn: 0.0689623\ttotal: 877ms\tremaining: 87.8ms\n",
      "909:\tlearn: 0.0688907\ttotal: 878ms\tremaining: 86.8ms\n",
      "910:\tlearn: 0.0688131\ttotal: 879ms\tremaining: 85.8ms\n",
      "911:\tlearn: 0.0686909\ttotal: 879ms\tremaining: 84.9ms\n",
      "912:\tlearn: 0.0685717\ttotal: 880ms\tremaining: 83.9ms\n",
      "913:\tlearn: 0.0684945\ttotal: 881ms\tremaining: 82.9ms\n",
      "914:\tlearn: 0.0683989\ttotal: 882ms\tremaining: 81.9ms\n",
      "915:\tlearn: 0.0683259\ttotal: 883ms\tremaining: 80.9ms\n",
      "916:\tlearn: 0.0681981\ttotal: 884ms\tremaining: 80ms\n",
      "917:\tlearn: 0.0681418\ttotal: 884ms\tremaining: 79ms\n",
      "918:\tlearn: 0.0679845\ttotal: 885ms\tremaining: 78ms\n",
      "919:\tlearn: 0.0679111\ttotal: 886ms\tremaining: 77ms\n",
      "920:\tlearn: 0.0678594\ttotal: 887ms\tremaining: 76.1ms\n",
      "921:\tlearn: 0.0677537\ttotal: 888ms\tremaining: 75.1ms\n",
      "922:\tlearn: 0.0677294\ttotal: 889ms\tremaining: 74.1ms\n",
      "923:\tlearn: 0.0676183\ttotal: 889ms\tremaining: 73.1ms\n",
      "924:\tlearn: 0.0675477\ttotal: 890ms\tremaining: 72.2ms\n",
      "925:\tlearn: 0.0674589\ttotal: 891ms\tremaining: 71.2ms\n",
      "926:\tlearn: 0.0673538\ttotal: 892ms\tremaining: 70.2ms\n",
      "927:\tlearn: 0.0672904\ttotal: 893ms\tremaining: 69.3ms\n",
      "928:\tlearn: 0.0672413\ttotal: 894ms\tremaining: 68.3ms\n",
      "929:\tlearn: 0.0671477\ttotal: 896ms\tremaining: 67.4ms\n"
     ]
    },
    {
     "name": "stdout",
     "output_type": "stream",
     "text": [
      "930:\tlearn: 0.0670692\ttotal: 897ms\tremaining: 66.5ms\n",
      "931:\tlearn: 0.0669711\ttotal: 898ms\tremaining: 65.5ms\n",
      "932:\tlearn: 0.0668570\ttotal: 898ms\tremaining: 64.5ms\n",
      "933:\tlearn: 0.0667534\ttotal: 899ms\tremaining: 63.5ms\n",
      "934:\tlearn: 0.0666171\ttotal: 900ms\tremaining: 62.6ms\n",
      "935:\tlearn: 0.0665372\ttotal: 901ms\tremaining: 61.6ms\n",
      "936:\tlearn: 0.0664363\ttotal: 902ms\tremaining: 60.7ms\n",
      "937:\tlearn: 0.0664125\ttotal: 903ms\tremaining: 59.7ms\n",
      "938:\tlearn: 0.0663959\ttotal: 904ms\tremaining: 58.7ms\n",
      "939:\tlearn: 0.0663257\ttotal: 905ms\tremaining: 57.7ms\n",
      "940:\tlearn: 0.0662511\ttotal: 906ms\tremaining: 56.8ms\n",
      "941:\tlearn: 0.0662339\ttotal: 906ms\tremaining: 55.8ms\n",
      "942:\tlearn: 0.0661404\ttotal: 908ms\tremaining: 54.9ms\n",
      "943:\tlearn: 0.0660031\ttotal: 909ms\tremaining: 53.9ms\n",
      "944:\tlearn: 0.0659402\ttotal: 910ms\tremaining: 52.9ms\n",
      "945:\tlearn: 0.0658774\ttotal: 911ms\tremaining: 52ms\n",
      "946:\tlearn: 0.0657401\ttotal: 911ms\tremaining: 51ms\n",
      "947:\tlearn: 0.0656323\ttotal: 912ms\tremaining: 50ms\n",
      "948:\tlearn: 0.0655365\ttotal: 913ms\tremaining: 49.1ms\n",
      "949:\tlearn: 0.0654214\ttotal: 914ms\tremaining: 48.1ms\n",
      "950:\tlearn: 0.0653459\ttotal: 915ms\tremaining: 47.1ms\n",
      "951:\tlearn: 0.0652433\ttotal: 916ms\tremaining: 46.2ms\n",
      "952:\tlearn: 0.0650880\ttotal: 916ms\tremaining: 45.2ms\n",
      "953:\tlearn: 0.0649702\ttotal: 917ms\tremaining: 44.2ms\n",
      "954:\tlearn: 0.0648619\ttotal: 918ms\tremaining: 43.3ms\n",
      "955:\tlearn: 0.0647739\ttotal: 919ms\tremaining: 42.3ms\n",
      "956:\tlearn: 0.0646300\ttotal: 920ms\tremaining: 41.3ms\n",
      "957:\tlearn: 0.0645610\ttotal: 921ms\tremaining: 40.4ms\n",
      "958:\tlearn: 0.0644172\ttotal: 922ms\tremaining: 39.4ms\n",
      "959:\tlearn: 0.0643516\ttotal: 923ms\tremaining: 38.5ms\n",
      "960:\tlearn: 0.0643292\ttotal: 924ms\tremaining: 37.5ms\n",
      "961:\tlearn: 0.0642833\ttotal: 925ms\tremaining: 36.5ms\n",
      "962:\tlearn: 0.0641737\ttotal: 925ms\tremaining: 35.6ms\n",
      "963:\tlearn: 0.0641344\ttotal: 926ms\tremaining: 34.6ms\n",
      "964:\tlearn: 0.0640638\ttotal: 927ms\tremaining: 33.6ms\n",
      "965:\tlearn: 0.0640384\ttotal: 928ms\tremaining: 32.7ms\n",
      "966:\tlearn: 0.0639493\ttotal: 929ms\tremaining: 31.7ms\n",
      "967:\tlearn: 0.0638693\ttotal: 930ms\tremaining: 30.7ms\n",
      "968:\tlearn: 0.0637652\ttotal: 930ms\tremaining: 29.8ms\n",
      "969:\tlearn: 0.0636683\ttotal: 931ms\tremaining: 28.8ms\n",
      "970:\tlearn: 0.0635919\ttotal: 932ms\tremaining: 27.8ms\n",
      "971:\tlearn: 0.0634895\ttotal: 933ms\tremaining: 26.9ms\n",
      "972:\tlearn: 0.0633981\ttotal: 934ms\tremaining: 25.9ms\n",
      "973:\tlearn: 0.0633127\ttotal: 935ms\tremaining: 25ms\n",
      "974:\tlearn: 0.0632755\ttotal: 936ms\tremaining: 24ms\n",
      "975:\tlearn: 0.0631822\ttotal: 937ms\tremaining: 23ms\n",
      "976:\tlearn: 0.0631089\ttotal: 938ms\tremaining: 22.1ms\n",
      "977:\tlearn: 0.0629849\ttotal: 938ms\tremaining: 21.1ms\n",
      "978:\tlearn: 0.0629246\ttotal: 939ms\tremaining: 20.1ms\n",
      "979:\tlearn: 0.0628197\ttotal: 940ms\tremaining: 19.2ms\n",
      "980:\tlearn: 0.0627819\ttotal: 941ms\tremaining: 18.2ms\n",
      "981:\tlearn: 0.0626952\ttotal: 942ms\tremaining: 17.3ms\n",
      "982:\tlearn: 0.0626053\ttotal: 943ms\tremaining: 16.3ms\n",
      "983:\tlearn: 0.0625098\ttotal: 944ms\tremaining: 15.3ms\n",
      "984:\tlearn: 0.0623986\ttotal: 945ms\tremaining: 14.4ms\n",
      "985:\tlearn: 0.0623354\ttotal: 946ms\tremaining: 13.4ms\n",
      "986:\tlearn: 0.0622398\ttotal: 947ms\tremaining: 12.5ms\n",
      "987:\tlearn: 0.0622177\ttotal: 947ms\tremaining: 11.5ms\n",
      "988:\tlearn: 0.0621681\ttotal: 948ms\tremaining: 10.5ms\n"
     ]
    },
    {
     "name": "stdout",
     "output_type": "stream",
     "text": [
      "989:\tlearn: 0.0621171\ttotal: 949ms\tremaining: 9.59ms\n",
      "990:\tlearn: 0.0619568\ttotal: 950ms\tremaining: 8.63ms\n",
      "991:\tlearn: 0.0618335\ttotal: 951ms\tremaining: 7.67ms\n",
      "992:\tlearn: 0.0617540\ttotal: 952ms\tremaining: 6.71ms\n",
      "993:\tlearn: 0.0616648\ttotal: 953ms\tremaining: 5.75ms\n",
      "994:\tlearn: 0.0616576\ttotal: 953ms\tremaining: 4.79ms\n",
      "995:\tlearn: 0.0615582\ttotal: 954ms\tremaining: 3.83ms\n",
      "996:\tlearn: 0.0614304\ttotal: 955ms\tremaining: 2.87ms\n",
      "997:\tlearn: 0.0613796\ttotal: 956ms\tremaining: 1.92ms\n",
      "998:\tlearn: 0.0612684\ttotal: 957ms\tremaining: 957us\n",
      "999:\tlearn: 0.0611393\ttotal: 958ms\tremaining: 0us\n"
     ]
    },
    {
     "data": {
      "text/plain": [
       "<catboost.core.CatBoostRegressor at 0x7f94698ca1c0>"
      ]
     },
     "execution_count": 9,
     "metadata": {},
     "output_type": "execute_result"
    }
   ],
   "source": [
    "#Train the Model \n",
    "prior_model = ctb.CatBoostRegressor()\n",
    "prior_model.fit(X_train,Y_train)"
   ]
  },
  {
   "cell_type": "code",
   "execution_count": 10,
   "id": "af65dcda",
   "metadata": {
    "execution": {
     "iopub.execute_input": "2022-06-11T14:56:17.532126Z",
     "iopub.status.busy": "2022-06-11T14:56:17.531633Z",
     "iopub.status.idle": "2022-06-11T14:56:17.539124Z",
     "shell.execute_reply": "2022-06-11T14:56:17.539367Z"
    },
    "id": "af65dcda",
    "papermill": {
     "duration": 0.022704,
     "end_time": "2022-06-11T14:56:17.539488",
     "exception": false,
     "start_time": "2022-06-11T14:56:17.516784",
     "status": "completed"
    },
    "tags": []
   },
   "outputs": [
    {
     "data": {
      "application/scrapbook.scrap.json+json": {
       "data": 0.06993720302716884,
       "encoder": "json",
       "name": "Prior Model MSE",
       "version": 1
      }
     },
     "metadata": {
      "scrapbook": {
       "data": true,
       "display": false,
       "name": "Prior Model MSE"
      }
     },
     "output_type": "display_data"
    },
    {
     "data": {
      "application/scrapbook.scrap.json+json": {
       "data": 1.0938771216576548,
       "encoder": "json",
       "name": "ABC Pre-generator MSE",
       "version": 1
      }
     },
     "metadata": {
      "scrapbook": {
       "data": true,
       "display": false,
       "name": "ABC Pre-generator MSE"
      }
     },
     "output_type": "display_data"
    },
    {
     "data": {
      "application/scrapbook.scrap.json+json": {
       "data": 0.19369150795030698,
       "encoder": "json",
       "name": "Prior Model MSE",
       "version": 1
      }
     },
     "metadata": {
      "scrapbook": {
       "data": true,
       "display": false,
       "name": "Prior Model MSE"
      }
     },
     "output_type": "display_data"
    },
    {
     "data": {
      "application/scrapbook.scrap.json+json": {
       "data": 1.0117966923233677,
       "encoder": "json",
       "name": "ABC Pre-generator MSE",
       "version": 1
      }
     },
     "metadata": {
      "scrapbook": {
       "data": true,
       "display": false,
       "name": "ABC Pre-generator MSE"
      }
     },
     "output_type": "display_data"
    }
   ],
   "source": [
    "y_pred = prior_model.predict(X_test)\n",
    "y_abc = y_pred + np.random.normal(0,variance, y_pred.shape) + bias \n",
    "mse = mean_squared_error(y_pred,Y_test)\n",
    "sb.glue(\"Prior Model MSE\",mse)\n",
    "mse = mean_squared_error(y_abc,Y_test)\n",
    "sb.glue(\"ABC Pre-generator MSE\",mse)\n",
    "mae = mean_absolute_error(y_pred,Y_test)\n",
    "sb.glue(\"Prior Model MSE\",mae)\n",
    "mae = mean_absolute_error(y_abc,Y_test)\n",
    "sb.glue(\"ABC Pre-generator MSE\",mae)"
   ]
  },
  {
   "cell_type": "markdown",
   "id": "25609da2",
   "metadata": {
    "papermill": {
     "duration": 0.010304,
     "end_time": "2022-06-11T14:56:17.560611",
     "exception": false,
     "start_time": "2022-06-11T14:56:17.550307",
     "status": "completed"
    },
    "tags": []
   },
   "source": [
    "# ABC GAN Model"
   ]
  },
  {
   "cell_type": "code",
   "execution_count": 11,
   "id": "dfc3464d",
   "metadata": {
    "execution": {
     "iopub.execute_input": "2022-06-11T14:56:17.584179Z",
     "iopub.status.busy": "2022-06-11T14:56:17.583802Z",
     "iopub.status.idle": "2022-06-11T14:56:17.586160Z",
     "shell.execute_reply": "2022-06-11T14:56:17.586396Z"
    },
    "papermill": {
     "duration": 0.015675,
     "end_time": "2022-06-11T14:56:17.586513",
     "exception": false,
     "start_time": "2022-06-11T14:56:17.570838",
     "status": "completed"
    },
    "tags": []
   },
   "outputs": [],
   "source": [
    "gen = network.Generator(n_features+1).to(device)\n",
    "disc = network.Discriminator(n_features+1).to(device)\n",
    "\n",
    "criterion = torch.nn.BCELoss()\n",
    "gen_opt = torch.optim.Adam(gen.parameters(), lr=0.001, betas=(0.5, 0.999))\n",
    "disc_opt = torch.optim.Adam(disc.parameters(), lr=0.001, betas=(0.5, 0.999))"
   ]
  },
  {
   "cell_type": "code",
   "execution_count": 12,
   "id": "b75fdd85",
   "metadata": {
    "execution": {
     "iopub.execute_input": "2022-06-11T14:56:17.609788Z",
     "iopub.status.busy": "2022-06-11T14:56:17.609415Z",
     "iopub.status.idle": "2022-06-11T14:57:18.368051Z",
     "shell.execute_reply": "2022-06-11T14:57:18.368357Z"
    },
    "papermill": {
     "duration": 60.771679,
     "end_time": "2022-06-11T14:57:18.368479",
     "exception": false,
     "start_time": "2022-06-11T14:56:17.596800",
     "status": "completed"
    },
    "tags": []
   },
   "outputs": [
    {
     "data": {
      "image/png": "[encoded data removed]",
      "text/plain": [
       "<Figure size 432x288 with 1 Axes>"
      ]
     },
     "metadata": {
      "needs_background": "light"
     },
     "output_type": "display_data"
    },
    {
     "data": {
      "image/png": "[encoded data removed]",
      "text/plain": [
       "<Figure size 432x288 with 1 Axes>"
      ]
     },
     "metadata": {
      "needs_background": "light"
     },
     "output_type": "display_data"
    }
   ],
   "source": [
    "#Training the ABC_GAN \n",
    "ABC_train_test2.training_GAN(disc,gen,disc_opt,gen_opt,train_data,batch_size,n_epochs,criterion,prior_model,variance,bias,device)"
   ]
  },
  {
   "cell_type": "code",
   "execution_count": 13,
   "id": "1fa7c368",
   "metadata": {
    "execution": {
     "iopub.execute_input": "2022-06-11T14:57:18.393191Z",
     "iopub.status.busy": "2022-06-11T14:57:18.392819Z",
     "iopub.status.idle": "2022-06-11T14:57:18.697461Z",
     "shell.execute_reply": "2022-06-11T14:57:18.697837Z"
    },
    "papermill": {
     "duration": 0.318515,
     "end_time": "2022-06-11T14:57:18.697958",
     "exception": false,
     "start_time": "2022-06-11T14:57:18.379443",
     "status": "completed"
    },
    "tags": []
   },
   "outputs": [
    {
     "data": {
      "application/scrapbook.scrap.json+json": {
       "data": 0.07021031207474514,
       "encoder": "json",
       "name": "ABC-GAN Model 1 MSE",
       "version": 1
      }
     },
     "metadata": {
      "scrapbook": {
       "data": true,
       "display": false,
       "name": "ABC-GAN Model 1 MSE"
      }
     },
     "output_type": "display_data"
    },
    {
     "data": {
      "application/scrapbook.scrap.json+json": {
       "data": 0.19940559522120976,
       "encoder": "json",
       "name": "ABC-GAN Model 1 MAE",
       "version": 1
      }
     },
     "metadata": {
      "scrapbook": {
       "data": true,
       "display": false,
       "name": "ABC-GAN Model 1 MAE"
      }
     },
     "output_type": "display_data"
    },
    {
     "data": {
      "application/scrapbook.scrap.json+json": {
       "data": 20.339370712563394,
       "encoder": "json",
       "name": "ABC-GAN Model 1 Manhattan Distance",
       "version": 1
      }
     },
     "metadata": {
      "scrapbook": {
       "data": true,
       "display": false,
       "name": "ABC-GAN Model 1 Manhattan Distance"
      }
     },
     "output_type": "display_data"
    },
    {
     "data": {
      "application/scrapbook.scrap.json+json": {
       "data": 2.6760715426162593,
       "encoder": "json",
       "name": "ABC-GAN Model 1 Euclidean distance",
       "version": 1
      }
     },
     "metadata": {
      "scrapbook": {
       "data": true,
       "display": false,
       "name": "ABC-GAN Model 1 Euclidean distance"
      }
     },
     "output_type": "display_data"
    },
    {
     "data": {
      "application/scrapbook.scrap.json+json": {
       "data": [
        [
         0.07042099281426605,
         0.07084820264623669,
         0.07014699330964669,
         0.07030571821020244,
         0.07071584358299318,
         0.0703201281853634,
         0.06988166743225932,
         0.06872628499348721,
         0.07016249065154119,
         0.07013852813725145,
         0.07033815849490306,
         0.07088151033576502,
         0.06983118588024717,
         0.0701333119311575,
         0.07070333249482637,
         0.07043478200038417,
         0.07029474309317225,
         0.06992045203280677,
         0.06988514307240468,
         0.06992998591098039,
         0.06982199340284163,
         0.07029731608567359,
         0.06999374528978335,
         0.07025959522485542,
         0.06945548444135882,
         0.07018493769080306,
         0.06982276791002484,
         0.06982302488095814,
         0.06997806790486556,
         0.06971195226463549,
         0.07048792777592265,
         0.06982819732989348,
         0.0705053065694294,
         0.07026511756331823,
         0.07024751233144423,
         0.06972379319040917,
         0.07144509855801313,
         0.07027462490390222,
         0.0707192819670019,
         0.06997123698649023,
         0.07035614354853031,
         0.0707355124107288,
         0.0708102353016762,
         0.07042735333377413,
         0.07020125289868463,
         0.06943299521718176,
         0.06929612839510146,
         0.07052635176187178,
         0.0699956374344129,
         0.06920573575710597,
         0.07012699685436696,
         0.06965524850480778,
         0.07009775992188973,
         0.07042398827825724,
         0.07037892874597179,
         0.07035976425898197,
         0.07046488123543342,
         0.06999879237445143,
         0.07063910186406895,
         0.07035624396237558,
         0.06977115511072007,
         0.07083633706377712,
         0.06951343387731342,
         0.07019859345682566,
         0.0698497735662595,
         0.07050919059620941,
         0.06973889632588162,
         0.06957982518502213,
         0.06934790256332811,
         0.06976469832110509,
         0.07063018722472297,
         0.07002642138336734,
         0.07017613104477946,
         0.07090594737782598,
         0.0705357191542625,
         0.07036483294170175,
         0.07006652513910798,
         0.07063552185496191,
         0.0698339157198954,
         0.07027040863343177,
         0.07032799179825613,
         0.0696267955939918,
         0.07063095541380715,
         0.07064380167893648,
         0.06999826802403111,
         0.06926744632810668,
         0.069575070106075,
         0.06972192217113354,
         0.07115816891589219,
         0.07061288992830309,
         0.07071295066627585,
         0.06982589179652458,
         0.07061433211323542,
         0.07119697465467786,
         0.06985236247420436,
         0.07074672047731857,
         0.07066585705817324,
         0.06983240020687685,
         0.07127506907920264,
         0.07186443290779898
        ],
        [
         0.19884555867197468,
         0.1992032581976816,
         0.19887894267837206,
         0.19923253941769695,
         0.19984146266006955,
         0.19913986120738236,
         0.19889640114178844,
         0.19820072516506793,
         0.1977981166074089,
         0.19954397748498356,
         0.20040079768674046,
         0.2002537195735118,
         0.1991336255827371,
         0.1982986293002671,
         0.2001791290354495,
         0.19881843987341022,
         0.19997443229544395,
         0.19886941827979743,
         0.19950271580441326,
         0.19898156777900808,
         0.19964949509092406,
         0.19946275366579785,
         0.1984824416976349,
         0.1990993424665694,
         0.19860258179844595,
         0.2000987420917726,
         0.19936265401980457,
         0.1992175691560203,
         0.19947469541255167,
         0.19858423583939963,
         0.2004483234794701,
         0.19903173619041256,
         0.19978541800496624,
         0.19865526251640975,
         0.19887055383593427,
         0.1989187731900636,
         0.20031679728451898,
         0.19934241291062504,
         0.2003697100661549,
         0.19890028377081834,
         0.19992661322740948,
         0.19991548016083008,
         0.2003875036596083,
         0.1996796296945974,
         0.19828601765866374,
         0.1986716998120149,
         0.19794732456405958,
         0.19953259657703193,
         0.19914163824389963,
         0.1981879658997059,
         0.19848998124692954,
         0.19974106009684356,
         0.19940712171442368,
         0.19972166798862756,
         0.20004028388682535,
         0.19928769058748788,
         0.19978048352926386,
         0.19939273318239287,
         0.199319151759732,
         0.1986755134136069,
         0.19829819417175124,
         0.20040437286975338,
         0.19736975015086286,
         0.19947727645436922,
         0.19916372388309123,
         0.2014850566492361,
         0.1989172214970869,
         0.19870550207355442,
         0.19832218993528217,
         0.19990197700612686,
         0.20148824257593528,
         0.1995584421298083,
         0.19889836429673083,
         0.19984028072041624,
         0.19975563153332354,
         0.19921158042316342,
         0.19910300048250779,
         0.20034970445375816,
         0.19874991359663943,
         0.19943397309558064,
         0.20000414915528952,
         0.1986256157066308,
         0.19990064554354725,
         0.2007243766211996,
         0.20016413108975278,
         0.1976045017295024,
         0.19847127839046366,
         0.19920010251157425,
         0.2009382793570266,
         0.20058894354630918,
         0.20007887862476648,
         0.19964975870999635,
         0.1998499315597263,
         0.20088059382111417,
         0.1987823087941198,
         0.20066410675644875,
         0.1993001493460992,
         0.19867265852642993,
         0.20054637450797885,
         0.2012790819885684
        ],
        [
         20.282246984541416,
         20.31873233616352,
         20.28565215319395,
         20.321719020605087,
         20.383829191327095,
         20.312265843153,
         20.28743291646242,
         20.21647396683693,
         20.175407893955708,
         20.353485703468323,
         20.440881364047527,
         20.425879396498203,
         20.311629809439182,
         20.226460188627243,
         20.41827116161585,
         20.27948086708784,
         20.397392094135284,
         20.284680664539337,
         20.349277012050152,
         20.296119913458824,
         20.364248499274254,
         20.34520087391138,
         20.24520905315876,
         20.30813293159008,
         20.257463343441486,
         20.410071693360806,
         20.334990710020065,
         20.32019205391407,
         20.34641893208027,
         20.255592055618763,
         20.44572899490595,
         20.30123709142208,
         20.378112636506557,
         20.262836776673794,
         20.284796491265297,
         20.289714865386486,
         20.432313323020935,
         20.332926116883755,
         20.4377104267478,
         20.28782894462347,
         20.392514549195766,
         20.391378976404667,
         20.43952537328005,
         20.367322228848934,
         20.2251738011837,
         20.26451338082552,
         20.190627105534077,
         20.352324850857258,
         20.312447100877762,
         20.21517252177,
         20.245978087186813,
         20.373588129878044,
         20.339526414871216,
         20.37161013484001,
         20.404108956456184,
         20.327344439923763,
         20.377609319984913,
         20.338058784604073,
         20.330553479492664,
         20.264902368187904,
         20.226415805518627,
         20.441246032714844,
         20.131714515388012,
         20.34668219834566,
         20.314699836075306,
         20.551475778222084,
         20.289556592702866,
         20.267961211502552,
         20.22886337339878,
         20.39000165462494,
         20.5518007427454,
         20.354961097240448,
         20.287633158266544,
         20.383708633482456,
         20.375074416399002,
         20.31958120316267,
         20.308506049215794,
         20.435669854283333,
         20.272491186857224,
         20.342265255749226,
         20.40042321383953,
         20.25981280207634,
         20.38986584544182,
         20.473886415362358,
         20.416741371154785,
         20.155659176409245,
         20.244070395827293,
         20.318410456180573,
         20.495704494416714,
         20.460072241723537,
         20.40804561972618,
         20.364275388419628,
         20.384693019092083,
         20.489820569753647,
         20.275795497000217,
         20.467738889157772,
         20.328615233302116,
         20.264611169695854,
         20.455730199813843,
         20.530466362833977
        ],
        [
         2.6801009807570937,
         2.688218121714855,
         2.6748819259144807,
         2.6779065064786427,
         2.685705874712513,
         2.67818092646988,
         2.669818360505158,
         2.647655768663233,
         2.6751773859797034,
         2.674720521848899,
         2.678524251613211,
         2.6888499501177145,
         2.6688538663226224,
         2.6746210604453977,
         2.685468285880935,
         2.6803633641801596,
         2.677697480206375,
         2.6705591375864137,
         2.6698847528283456,
         2.6707412010376443,
         2.6686781984888786,
         2.6777464855244806,
         2.671958461420742,
         2.6770279626733924,
         2.6616647822403556,
         2.6756052856245276,
         2.6686929997327407,
         2.6686979105656996,
         2.6716592084875432,
         2.666574418798924,
         2.6813743925726055,
         2.6687967565270188,
         2.6817049185325734,
         2.677133166553068,
         2.6767977618429284,
         2.666800874722696,
         2.699518485381669,
         2.6773142774426066,
         2.685771166840949,
         2.6715288081212982,
         2.678866671178335,
         2.6860793483987653,
         2.687497721072703,
         2.680222013200578,
         2.675916253485118,
         2.661233832670955,
         2.6586096171307942,
         2.6821051209285067,
         2.6719945767740834,
         2.6568750529945526,
         2.674500641081514,
         2.6654897012538603,
         2.6739430644710356,
         2.680157981235852,
         2.6793004184094626,
         2.6789356010207044,
         2.680936009309847,
         2.6720547940104153,
         2.684248198310848,
         2.678868582846555,
         2.667706472101728,
         2.68799300231702,
         2.6627749164144476,
         2.6758655669887856,
         2.669209040850579,
         2.681778782974718,
         2.667089692012611,
         2.664046202465764,
         2.6596026134480066,
         2.6675830312762,
         2.684078817196273,
         2.6725820812658814,
         2.67543741593174,
         2.68931341285062,
         2.682283235181321,
         2.67903209388271,
         2.673347258436325,
         2.684180178230611,
         2.66890603121004,
         2.677233960753158,
         2.678330667304193,
         2.664945243450072,
         2.6840934134653973,
         2.6843374920548873,
         2.672044786011487,
         2.6580593532626167,
         2.663955170572442,
         2.666765093039809,
         2.6940922830187173,
         2.683750132312417,
         2.6856509393367065,
         2.6687526980305813,
         2.6837775383868934,
         2.694826787527752,
         2.6692585060965603,
         2.686292145074041,
         2.6847564917388076,
         2.668877071185827,
         2.696304331131534,
         2.707429067694202
        ]
       ],
       "encoder": "json",
       "name": "ABC_GAN_1 Metrics",
       "version": 1
      }
     },
     "metadata": {
      "scrapbook": {
       "data": true,
       "display": false,
       "name": "ABC_GAN_1 Metrics"
      }
     },
     "output_type": "display_data"
    },
    {
     "name": "stdout",
     "output_type": "stream",
     "text": [
      "MSE\n",
      "0.07021031207474514\n"
     ]
    }
   ],
   "source": [
    "ABC_GAN1_metrics=ABC_train_test2.test_generator(gen,test_data,prior_model,variance,bias,\"1\",device)\n",
    "sb.glue(\"ABC_GAN_1 Metrics\",ABC_GAN1_metrics)\n",
    "\n",
    "print(\"MSE\")\n",
    "print(mean(ABC_GAN1_metrics[0]))"
   ]
  },
  {
   "cell_type": "code",
   "execution_count": 14,
   "id": "eb22ce5c",
   "metadata": {
    "execution": {
     "iopub.execute_input": "2022-06-11T14:57:18.726090Z",
     "iopub.status.busy": "2022-06-11T14:57:18.725715Z",
     "iopub.status.idle": "2022-06-11T14:57:19.042758Z",
     "shell.execute_reply": "2022-06-11T14:57:19.042988Z"
    },
    "papermill": {
     "duration": 0.332147,
     "end_time": "2022-06-11T14:57:19.043108",
     "exception": false,
     "start_time": "2022-06-11T14:57:18.710961",
     "status": "completed"
    },
    "tags": []
   },
   "outputs": [
    {
     "data": {
      "image/png": "[encoded data removed]",
      "text/plain": [
       "<Figure size 432x288 with 1 Axes>"
      ]
     },
     "metadata": {
      "needs_background": "light"
     },
     "output_type": "display_data"
    },
    {
     "data": {
      "image/png": "[encoded data removed]",
      "text/plain": [
       "<Figure size 432x288 with 1 Axes>"
      ]
     },
     "metadata": {
      "needs_background": "light"
     },
     "output_type": "display_data"
    },
    {
     "data": {
      "image/png": "[encoded data removed]",
      "text/plain": [
       "<Figure size 432x288 with 1 Axes>"
      ]
     },
     "metadata": {
      "needs_background": "light"
     },
     "output_type": "display_data"
    },
    {
     "data": {
      "image/png": "[encoded data removed]",
      "text/plain": [
       "<Figure size 432x288 with 1 Axes>"
      ]
     },
     "metadata": {
      "needs_background": "light"
     },
     "output_type": "display_data"
    }
   ],
   "source": [
    "sanityChecks.discProbVsError(train_data,disc,device)\n",
    "sanityChecks.discProbVsError(test_data,disc,device)"
   ]
  },
  {
   "cell_type": "markdown",
   "id": "130f3a4d",
   "metadata": {
    "id": "130f3a4d",
    "papermill": {
     "duration": 0.014656,
     "end_time": "2022-06-11T14:57:19.072792",
     "exception": false,
     "start_time": "2022-06-11T14:57:19.058136",
     "status": "completed"
    },
    "tags": []
   },
   "source": [
    "# ABC - GAN Model with skip connection"
   ]
  },
  {
   "cell_type": "code",
   "execution_count": 15,
   "id": "4e43dad1",
   "metadata": {
    "execution": {
     "iopub.execute_input": "2022-06-11T14:57:19.106031Z",
     "iopub.status.busy": "2022-06-11T14:57:19.105635Z",
     "iopub.status.idle": "2022-06-11T14:57:19.107891Z",
     "shell.execute_reply": "2022-06-11T14:57:19.108135Z"
    },
    "id": "4e43dad1",
    "papermill": {
     "duration": 0.020471,
     "end_time": "2022-06-11T14:57:19.108247",
     "exception": false,
     "start_time": "2022-06-11T14:57:19.087776",
     "status": "completed"
    },
    "tags": []
   },
   "outputs": [],
   "source": [
    "#Generator\n",
    "gen3 = network.GeneratorWithSkipConnection(n_features+1).to(device)\n",
    "constraints=network.weightConstraint()\n",
    "#Discriminator \n",
    "disc3 = network.Discriminator(n_features+1).to(device)\n",
    "\n",
    "criterion = torch.nn.BCELoss()\n",
    "gen_opt = torch.optim.Adam(gen3.parameters(), lr=0.001, betas=(0.5, 0.999))\n",
    "disc_opt = torch.optim.Adam(disc3.parameters(), lr=0.001, betas=(0.5, 0.999))\n"
   ]
  },
  {
   "cell_type": "code",
   "execution_count": 16,
   "id": "26acbc37",
   "metadata": {
    "execution": {
     "iopub.execute_input": "2022-06-11T14:57:19.140988Z",
     "iopub.status.busy": "2022-06-11T14:57:19.140615Z",
     "iopub.status.idle": "2022-06-11T15:00:16.670034Z",
     "shell.execute_reply": "2022-06-11T15:00:16.670361Z"
    },
    "id": "26acbc37",
    "papermill": {
     "duration": 177.54696,
     "end_time": "2022-06-11T15:00:16.670485",
     "exception": false,
     "start_time": "2022-06-11T14:57:19.123525",
     "status": "completed"
    },
    "tags": []
   },
   "outputs": [
    {
     "data": {
      "image/png": "[encoded data removed]",
      "text/plain": [
       "<Figure size 432x288 with 1 Axes>"
      ]
     },
     "metadata": {
      "needs_background": "light"
     },
     "output_type": "display_data"
    },
    {
     "data": {
      "image/png": "[encoded data removed]",
      "text/plain": [
       "<Figure size 432x288 with 1 Axes>"
      ]
     },
     "metadata": {
      "needs_background": "light"
     },
     "output_type": "display_data"
    }
   ],
   "source": [
    "ABC_train_test2.training_GAN_skip_connection(disc3,gen3,disc_opt,gen_opt,train_data,batch_size,n_epochs,criterion,prior_model,variance,bias,device)"
   ]
  },
  {
   "cell_type": "code",
   "execution_count": 17,
   "id": "c5e0717b",
   "metadata": {
    "execution": {
     "iopub.execute_input": "2022-06-11T15:00:16.704670Z",
     "iopub.status.busy": "2022-06-11T15:00:16.704295Z",
     "iopub.status.idle": "2022-06-11T15:00:17.530556Z",
     "shell.execute_reply": "2022-06-11T15:00:17.530804Z"
    },
    "id": "c5e0717b",
    "papermill": {
     "duration": 0.844517,
     "end_time": "2022-06-11T15:00:17.530928",
     "exception": false,
     "start_time": "2022-06-11T15:00:16.686411",
     "status": "completed"
    },
    "tags": []
   },
   "outputs": [
    {
     "data": {
      "application/scrapbook.scrap.json+json": {
       "data": 0.07233546760855118,
       "encoder": "json",
       "name": "ABC-GAN Model 3 MSE",
       "version": 1
      }
     },
     "metadata": {
      "scrapbook": {
       "data": true,
       "display": false,
       "name": "ABC-GAN Model 3 MSE"
      }
     },
     "output_type": "display_data"
    },
    {
     "data": {
      "application/scrapbook.scrap.json+json": {
       "data": 0.19278802045127924,
       "encoder": "json",
       "name": "ABC-GAN Model 3 MAE",
       "version": 1
      }
     },
     "metadata": {
      "scrapbook": {
       "data": true,
       "display": false,
       "name": "ABC-GAN Model 3 MAE"
      }
     },
     "output_type": "display_data"
    },
    {
     "data": {
      "application/scrapbook.scrap.json+json": {
       "data": 19.66437808603048,
       "encoder": "json",
       "name": "ABC-GAN Model 3 Manhattan Distance",
       "version": 1
      }
     },
     "metadata": {
      "scrapbook": {
       "data": true,
       "display": false,
       "name": "ABC-GAN Model 3 Manhattan Distance"
      }
     },
     "output_type": "display_data"
    },
    {
     "data": {
      "application/scrapbook.scrap.json+json": {
       "data": 2.716263458317963,
       "encoder": "json",
       "name": "ABC-GAN Model 3 Euclidean distance",
       "version": 1
      }
     },
     "metadata": {
      "scrapbook": {
       "data": true,
       "display": false,
       "name": "ABC-GAN Model 3 Euclidean distance"
      }
     },
     "output_type": "display_data"
    },
    {
     "data": {
      "application/scrapbook.scrap.json+json": {
       "data": [
        [
         0.0729855162587534,
         0.07306474247128657,
         0.07208912646680594,
         0.07195904238727496,
         0.07276177170995028,
         0.07231257444103426,
         0.07316125082815357,
         0.07290688361497764,
         0.0719056679227763,
         0.07267743993777202,
         0.07160226703513548,
         0.0719425558238791,
         0.0722246911791472,
         0.07091501153011849,
         0.07305765239609562,
         0.07241586249234204,
         0.07181699916247314,
         0.07254770371077764,
         0.07252523214953084,
         0.07188254686590663,
         0.07210840875353786,
         0.07271101009004992,
         0.07322722969966658,
         0.07127375455157715,
         0.07239858779211429,
         0.07246805598559258,
         0.07248140385703905,
         0.07086661727947648,
         0.07072383345171503,
         0.07193294817441193,
         0.07280887363798826,
         0.07283418311708748,
         0.07296619413920116,
         0.07263731280827583,
         0.07308382801388956,
         0.07154891021708554,
         0.07232973686768339,
         0.0715060813083723,
         0.07231639677235409,
         0.07206569308192048,
         0.07302956273636274,
         0.07228168429088576,
         0.07147758893057198,
         0.0711007981611222,
         0.07330118157190502,
         0.0718930372213598,
         0.07229276303891338,
         0.07201138645084065,
         0.07262256622398161,
         0.07154762286219347,
         0.07306089587822151,
         0.0720744796637767,
         0.07103193727785974,
         0.07230337373289489,
         0.07245530548811725,
         0.07250363172969647,
         0.07232417032636482,
         0.07233874808303473,
         0.07266382653001462,
         0.07240175515676786,
         0.07227258180800598,
         0.0719080447602852,
         0.07231287613457606,
         0.07315375972219285,
         0.07240687994203675,
         0.07193927166582598,
         0.07155641237280563,
         0.07223862268657832,
         0.07281343247122277,
         0.07214429757662362,
         0.0722241709555474,
         0.07372954009561065,
         0.07242577945261627,
         0.07287735055902284,
         0.07258083639956885,
         0.07344305104183116,
         0.07173130733586276,
         0.07310021184294274,
         0.07191790911434381,
         0.07209065203315122,
         0.0726535513726445,
         0.0727019563620832,
         0.07331435314627226,
         0.07283501136084426,
         0.07291115733158193,
         0.07131731689035309,
         0.07201540148712234,
         0.07243403668915294,
         0.07200820417823162,
         0.07281633793273408,
         0.07312342736823245,
         0.07223702739584272,
         0.07204443230705826,
         0.07267384007841081,
         0.07294402200943821,
         0.07166434422604344,
         0.07323055297618054,
         0.07166464006872385,
         0.07163963065279033,
         0.0726906157126117
        ],
        [
         0.19425075592509672,
         0.19399155986805758,
         0.19285599379708954,
         0.19298523825173283,
         0.19405206939315095,
         0.19214046896234446,
         0.1948172156790308,
         0.19408192401569263,
         0.19358524187084505,
         0.19268144305576296,
         0.19195573046511294,
         0.1933281566655519,
         0.19289669763369888,
         0.19074739008119293,
         0.19488530445332622,
         0.19302340556739592,
         0.19236968417524122,
         0.19378243843276127,
         0.19314196052066251,
         0.19271046116802037,
         0.192535300939983,
         0.1930995965193884,
         0.19324719617325886,
         0.1906050278933025,
         0.19354083305042163,
         0.19203628734776787,
         0.19355423328484975,
         0.19061699177266336,
         0.19148862380169185,
         0.1918911631858232,
         0.19334295936221002,
         0.1931027967628895,
         0.19468729274676128,
         0.19261765147687174,
         0.1926940694524377,
         0.19265253626394505,
         0.19350362744401484,
         0.19158314099060555,
         0.19091908315963604,
         0.1919540222734213,
         0.19397169983416213,
         0.19326208944560266,
         0.19174461523253544,
         0.1911046742005091,
         0.1947221310772732,
         0.1912744757080195,
         0.19247743008913948,
         0.19186616955580665,
         0.19258216041706355,
         0.19071480617219327,
         0.19344456161500193,
         0.1909956097895024,
         0.19159657979274497,
         0.19350045850025674,
         0.19415270511572266,
         0.19261749735211625,
         0.19174333460921167,
         0.19177485173385517,
         0.1927952500900217,
         0.19211993428568044,
         0.19200294439260865,
         0.19216496910096384,
         0.19278120779085392,
         0.19407312122776227,
         0.1926655601710081,
         0.19204984682009502,
         0.1929170014884542,
         0.19188286879045122,
         0.19372192218753637,
         0.19170596045168006,
         0.1930968298704601,
         0.19467253533794598,
         0.19279683969330555,
         0.193103375570739,
         0.19399267263418318,
         0.19438926455583058,
         0.19198733805587478,
         0.19426773386258706,
         0.1918263229742354,
         0.1924380236761827,
         0.1940678130543115,
         0.1940874285338556,
         0.19482053045694733,
         0.19236040162835635,
         0.193808914436137,
         0.19202556552401945,
         0.1916321164325756,
         0.19319025109357693,
         0.19296225500019157,
         0.19335846708831833,
         0.19233463226141884,
         0.19184846230143426,
         0.19137682141188314,
         0.1935044585854984,
         0.19362428010094399,
         0.19313086821314165,
         0.19428462830974774,
         0.1919030665840004,
         0.19103489673751242,
         0.19249324022116615
        ],
        [
         19.813577104359865,
         19.787139106541872,
         19.671311367303133,
         19.68449430167675,
         19.793311078101397,
         19.598327834159136,
         19.87135599926114,
         19.79635624960065,
         19.745694670826197,
         19.653507191687822,
         19.57948450744152,
         19.719471979886293,
         19.675463158637285,
         19.45623378828168,
         19.878301054239273,
         19.688387367874384,
         19.621707785874605,
         19.76580872014165,
         19.700479973107576,
         19.65646703913808,
         19.638600695878267,
         19.696158844977617,
         19.711214009672403,
         19.441712845116854,
         19.741164971143007,
         19.587701309472322,
         19.742531795054674,
         19.442933160811663,
         19.53183962777257,
         19.572898644953966,
         19.72098185494542,
         19.69648526981473,
         19.85810386016965,
         19.647000450640917,
         19.654795084148645,
         19.650558698922396,
         19.737369999289513,
         19.541480381041765,
         19.473746482282877,
         19.57931027188897,
         19.785113383084536,
         19.71273312345147,
         19.557950753718615,
         19.49267676845193,
         19.86165736988187,
         19.50999652221799,
         19.632697869092226,
         19.570349294692278,
         19.643380362540483,
         19.452910229563713,
         19.731345284730196,
         19.481552198529243,
         19.542851138859987,
         19.737046767026186,
         19.803575921803713,
         19.646984729915857,
         19.55782013013959,
         19.561034876853228,
         19.665115509182215,
         19.596233297139406,
         19.584300328046083,
         19.60082684829831,
         19.6636831946671,
         19.795458365231752,
         19.651887137442827,
         19.58908437564969,
         19.67753415182233,
         19.572052616626024,
         19.75963606312871,
         19.554007966071367,
         19.695876646786928,
         19.85659860447049,
         19.665277648717165,
         19.69654430821538,
         19.787252608686686,
         19.82770498469472,
         19.58270848169923,
         19.81530885398388,
         19.56628494337201,
         19.628678414970636,
         19.794916931539774,
         19.796917710453272,
         19.87169410660863,
         19.620760966092348,
         19.76850927248597,
         19.586607683449984,
         19.546475876122713,
         19.705405611544847,
         19.68215001001954,
         19.72256364300847,
         19.61813249066472,
         19.568543154746294,
         19.52043578401208,
         19.737454775720835,
         19.749676570296288,
         19.69934855774045,
         19.81703208759427,
         19.57411279156804,
         19.485559467226267,
         19.634310502558947
        ],
        [
         2.728465256951762,
         2.7299457379353216,
         2.711658330176242,
         2.709210645834326,
         2.724279852440811,
         2.7158576164787234,
         2.7317480821758915,
         2.7269950731029415,
         2.7082057026974855,
         2.722700658106349,
         2.7024861216264955,
         2.708900273918489,
         2.7142067902562275,
         2.6894852994712735,
         2.7298132801350627,
         2.7177965292160646,
         2.706535407965737,
         2.7202694312327442,
         2.7198480985621503,
         2.7077702598858853,
         2.7120209609921635,
         2.723329401520332,
         2.7329795881722188,
         2.6962794670176287,
         2.7174723466478286,
         2.718775774228254,
         2.7190261479834987,
         2.6885674554503187,
         2.6858575934094,
         2.708719386313395,
         2.72516148348585,
         2.725635096256086,
         2.728104067332938,
         2.7219489169424422,
         2.7303022648448168,
         2.701479010124403,
         2.716179883679228,
         2.7006703414993054,
         2.715929393555752,
         2.7112175667688287,
         2.7292884419036767,
         2.7152774807872486,
         2.7001322321172236,
         2.69300601789793,
         2.7343592522443556,
         2.7079678352186347,
         2.715485560626159,
         2.7101958265014257,
         2.72167260243515,
         2.7014547066245127,
         2.7298738761302865,
         2.711382843809635,
         2.6917016183711175,
         2.715684834577694,
         2.7185365842283526,
         2.719443037908505,
         2.7160753622256526,
         2.7163490763282874,
         2.7224456479535983,
         2.717531789324703,
         2.7151065070115776,
         2.70825046211555,
         2.715863281854732,
         2.7316082244098747,
         2.717627964620571,
         2.708838442933474,
         2.701620636215635,
         2.7144685509379154,
         2.725246798377116,
         2.7126957722560054,
         2.7141970152267563,
         2.7423371582925915,
         2.7179826166049805,
         2.72644269278126,
         2.7208905367096303,
         2.7370040566770775,
         2.7049202110705597,
         2.730608285342326,
         2.7084362148042307,
         2.7116870223868803,
         2.7222531550187865,
         2.723159846379291,
         2.7346049113025033,
         2.7256505936759603,
         2.727074998569228,
         2.6971033207528428,
         2.71027137971209,
         2.718137550289462,
         2.7101359423799436,
         2.7253011703550993,
         2.7310418509352266,
         2.714438578118126,
         2.7108176064279834,
         2.7226332268592297,
         2.727689543361322,
         2.70365735829384,
         2.7330416029710225,
         2.703662938868274,
         2.7031911376342985,
         2.722947447654176
        ]
       ],
       "encoder": "json",
       "name": "ABC_GAN_3 Metrics",
       "version": 1
      }
     },
     "metadata": {
      "scrapbook": {
       "data": true,
       "display": false,
       "name": "ABC_GAN_3 Metrics"
      }
     },
     "output_type": "display_data"
    },
    {
     "name": "stdout",
     "output_type": "stream",
     "text": [
      "MSE\n",
      "0.07233546760855118\n"
     ]
    }
   ],
   "source": [
    "ABC_GAN3_metrics=ABC_train_test2.test_generator(gen3,test_data,prior_model,variance,bias,\"3\",device)\n",
    "sb.glue(\"ABC_GAN_3 Metrics\",ABC_GAN3_metrics)\n",
    "\n",
    "print(\"MSE\")\n",
    "print(mean(ABC_GAN3_metrics[0]))"
   ]
  },
  {
   "cell_type": "code",
   "execution_count": 18,
   "id": "c8e46b48",
   "metadata": {
    "execution": {
     "iopub.execute_input": "2022-06-11T15:00:17.568411Z",
     "iopub.status.busy": "2022-06-11T15:00:17.568034Z",
     "iopub.status.idle": "2022-06-11T15:00:17.885037Z",
     "shell.execute_reply": "2022-06-11T15:00:17.885277Z"
    },
    "id": "c8e46b48",
    "papermill": {
     "duration": 0.336708,
     "end_time": "2022-06-11T15:00:17.885400",
     "exception": false,
     "start_time": "2022-06-11T15:00:17.548692",
     "status": "completed"
    },
    "tags": []
   },
   "outputs": [
    {
     "data": {
      "image/png": "[encoded data removed]",
      "text/plain": [
       "<Figure size 432x288 with 1 Axes>"
      ]
     },
     "metadata": {
      "needs_background": "light"
     },
     "output_type": "display_data"
    },
    {
     "data": {
      "image/png": "[encoded data removed]",
      "text/plain": [
       "<Figure size 432x288 with 1 Axes>"
      ]
     },
     "metadata": {
      "needs_background": "light"
     },
     "output_type": "display_data"
    },
    {
     "data": {
      "image/png": "[encoded data removed]",
      "text/plain": [
       "<Figure size 432x288 with 1 Axes>"
      ]
     },
     "metadata": {
      "needs_background": "light"
     },
     "output_type": "display_data"
    },
    {
     "data": {
      "image/png": "[encoded data removed]",
      "text/plain": [
       "<Figure size 432x288 with 1 Axes>"
      ]
     },
     "metadata": {
      "needs_background": "light"
     },
     "output_type": "display_data"
    }
   ],
   "source": [
    "sanityChecks.discProbVsError(train_data,disc3,device)\n",
    "sanityChecks.discProbVsError(test_data,disc3,device)"
   ]
  },
  {
   "cell_type": "markdown",
   "id": "a5bd74c3",
   "metadata": {
    "id": "a5bd74c3",
    "papermill": {
     "duration": 0.019463,
     "end_time": "2022-06-11T15:00:17.925035",
     "exception": false,
     "start_time": "2022-06-11T15:00:17.905572",
     "status": "completed"
    },
    "tags": []
   },
   "source": [
    "## Skip Connection Model Analysis - ABC-GAN "
   ]
  },
  {
   "cell_type": "markdown",
   "id": "5744a8bf",
   "metadata": {
    "id": "5744a8bf",
    "papermill": {
     "duration": 0.019312,
     "end_time": "2022-06-11T15:00:17.963690",
     "exception": false,
     "start_time": "2022-06-11T15:00:17.944378",
     "status": "completed"
    },
    "tags": []
   },
   "source": [
    "### Weight Analysis \n",
    "\n",
    "Study the weights of the skip connection layer\n",
    "\n",
    "Equation of the skip connection is \n",
    "\n",
    "$output = y_{gan} * w + y_{abc} * (1-w)$"
   ]
  },
  {
   "cell_type": "code",
   "execution_count": 19,
   "id": "52c31dea",
   "metadata": {
    "execution": {
     "iopub.execute_input": "2022-06-11T15:00:18.005431Z",
     "iopub.status.busy": "2022-06-11T15:00:18.004993Z",
     "iopub.status.idle": "2022-06-11T15:00:18.008388Z",
     "shell.execute_reply": "2022-06-11T15:00:18.008633Z"
    },
    "id": "52c31dea",
    "papermill": {
     "duration": 0.02572,
     "end_time": "2022-06-11T15:00:18.008747",
     "exception": false,
     "start_time": "2022-06-11T15:00:17.983027",
     "status": "completed"
    },
    "tags": []
   },
   "outputs": [
    {
     "name": "stdout",
     "output_type": "stream",
     "text": [
      "Weight of the node at skip connection\n",
      "Parameter containing:\n",
      "tensor([[0.1264]], requires_grad=True)\n"
     ]
    },
    {
     "data": {
      "application/scrapbook.scrap.json+json": {
       "data": 0.12637856602668762,
       "encoder": "json",
       "name": "Skip Connection Weight",
       "version": 1
      }
     },
     "metadata": {
      "scrapbook": {
       "data": true,
       "display": false,
       "name": "Skip Connection Weight"
      }
     },
     "output_type": "display_data"
    }
   ],
   "source": [
    "print(\"Weight of the node at skip connection\")\n",
    "for name,param in gen3.named_parameters():\n",
    "    if(name == \"skipNode.weight\"):\n",
    "        print(param)\n",
    "        sb.glue(\"Skip Connection Weight\",param.item())"
   ]
  }
 ],
 "metadata": {
  "colab": {
   "collapsed_sections": [],
   "name": "ABC_GAN_Model-Catboost_Pre-gen.ipynb",
   "provenance": []
  },
  "interpreter": {
   "hash": "31f2aee4e71d21fbe5cf8b01ff0e069b9275f58929596ceb00d14d90e3e16cd6"
  },
  "kernelspec": {
   "display_name": "Python 3 (ipykernel)",
   "language": "python",
   "name": "python3"
  },
  "language_info": {
   "codemirror_mode": {
    "name": "ipython",
    "version": 3
   },
   "file_extension": ".py",
   "mimetype": "text/x-python",
   "name": "python",
   "nbconvert_exporter": "python",
   "pygments_lexer": "ipython3",
   "version": "3.8.11"
  },
  "papermill": {
   "default_parameters": {},
   "duration": 245.096696,
   "end_time": "2022-06-11T15:00:18.336466",
   "environment_variables": {},
   "exception": null,
   "input_path": "ABC_GAN-Catboost.ipynb",
   "output_path": "./ABC_GAN_Catboost/ABC-GAN_output_1_2.ipynb",
   "parameters": {
    "bias": 1,
    "variance": 0.01
   },
   "start_time": "2022-06-11T14:56:13.239770",
   "version": "2.3.3"
  }
 },
 "nbformat": 4,
 "nbformat_minor": 5
}