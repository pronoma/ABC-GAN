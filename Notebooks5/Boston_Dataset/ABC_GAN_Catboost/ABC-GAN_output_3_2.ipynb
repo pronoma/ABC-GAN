{
 "cells": [
  {
   "cell_type": "markdown",
   "id": "622780e6",
   "metadata": {
    "id": "622780e6",
    "papermill": {
     "duration": 0.026461,
     "end_time": "2022-06-11T18:00:05.299444",
     "exception": false,
     "start_time": "2022-06-11T18:00:05.272983",
     "status": "completed"
    },
    "tags": []
   },
   "source": [
    "## Import Libraries "
   ]
  },
  {
   "cell_type": "code",
   "execution_count": 1,
   "id": "a62397e3",
   "metadata": {
    "execution": {
     "iopub.execute_input": "2022-06-11T18:00:05.343411Z",
     "iopub.status.busy": "2022-06-11T18:00:05.342787Z",
     "iopub.status.idle": "2022-06-11T18:00:05.345018Z",
     "shell.execute_reply": "2022-06-11T18:00:05.345390Z"
    },
    "id": "a62397e3",
    "papermill": {
     "duration": 0.028753,
     "end_time": "2022-06-11T18:00:05.345601",
     "exception": false,
     "start_time": "2022-06-11T18:00:05.316848",
     "status": "completed"
    },
    "tags": []
   },
   "outputs": [],
   "source": [
    "import warnings\n",
    "import sys\n",
    "sys.path.insert(0, '../../src')\n",
    "warnings.filterwarnings('ignore')"
   ]
  },
  {
   "cell_type": "code",
   "execution_count": 2,
   "id": "d6a4e155",
   "metadata": {
    "execution": {
     "iopub.execute_input": "2022-06-11T18:00:05.365829Z",
     "iopub.status.busy": "2022-06-11T18:00:05.365454Z",
     "iopub.status.idle": "2022-06-11T18:00:07.233018Z",
     "shell.execute_reply": "2022-06-11T18:00:07.233277Z"
    },
    "id": "d6a4e155",
    "papermill": {
     "duration": 1.878553,
     "end_time": "2022-06-11T18:00:07.233405",
     "exception": false,
     "start_time": "2022-06-11T18:00:05.354852",
     "status": "completed"
    },
    "tags": []
   },
   "outputs": [],
   "source": [
    "import ABC_train_test2\n",
    "import bostonDataset\n",
    "import network\n",
    "import dataset\n",
    "import sanityChecks\n",
    "import torch \n",
    "import scrapbook as sb\n",
    "from statistics import mean \n",
    "import catboost as ctb \n",
    "from sklearn.model_selection import train_test_split\n",
    "from sklearn.metrics import mean_squared_error,mean_absolute_error\n",
    "import numpy as np"
   ]
  },
  {
   "cell_type": "markdown",
   "id": "2fa5b0f7",
   "metadata": {
    "id": "2fa5b0f7",
    "papermill": {
     "duration": 0.006895,
     "end_time": "2022-06-11T18:00:07.247485",
     "exception": false,
     "start_time": "2022-06-11T18:00:07.240590",
     "status": "completed"
    },
    "tags": []
   },
   "source": [
    "## Parameters "
   ]
  },
  {
   "cell_type": "code",
   "execution_count": 3,
   "id": "783186fb",
   "metadata": {
    "execution": {
     "iopub.execute_input": "2022-06-11T18:00:07.263394Z",
     "iopub.status.busy": "2022-06-11T18:00:07.263006Z",
     "iopub.status.idle": "2022-06-11T18:00:07.264266Z",
     "shell.execute_reply": "2022-06-11T18:00:07.264546Z"
    },
    "id": "783186fb",
    "papermill": {
     "duration": 0.010366,
     "end_time": "2022-06-11T18:00:07.264658",
     "exception": false,
     "start_time": "2022-06-11T18:00:07.254292",
     "status": "completed"
    },
    "tags": [
     "parameters"
    ]
   },
   "outputs": [],
   "source": [
    "variance = 1\n",
    "bias = 1 "
   ]
  },
  {
   "cell_type": "code",
   "execution_count": 4,
   "id": "e2b6f7c8",
   "metadata": {
    "execution": {
     "iopub.execute_input": "2022-06-11T18:00:07.280492Z",
     "iopub.status.busy": "2022-06-11T18:00:07.280102Z",
     "iopub.status.idle": "2022-06-11T18:00:07.281421Z",
     "shell.execute_reply": "2022-06-11T18:00:07.281661Z"
    },
    "papermill": {
     "duration": 0.010098,
     "end_time": "2022-06-11T18:00:07.281768",
     "exception": false,
     "start_time": "2022-06-11T18:00:07.271670",
     "status": "completed"
    },
    "tags": [
     "injected-parameters"
    ]
   },
   "outputs": [],
   "source": [
    "# Parameters\n",
    "variance = 0.01\n",
    "bias = 1\n"
   ]
  },
  {
   "cell_type": "markdown",
   "id": "391cdbfd",
   "metadata": {
    "id": "391cdbfd",
    "papermill": {
     "duration": 0.006814,
     "end_time": "2022-06-11T18:00:07.295573",
     "exception": false,
     "start_time": "2022-06-11T18:00:07.288759",
     "status": "completed"
    },
    "tags": []
   },
   "source": [
    "## Dataset \n"
   ]
  },
  {
   "cell_type": "code",
   "execution_count": 5,
   "id": "5b51f161",
   "metadata": {
    "execution": {
     "iopub.execute_input": "2022-06-11T18:00:07.311454Z",
     "iopub.status.busy": "2022-06-11T18:00:07.311046Z",
     "iopub.status.idle": "2022-06-11T18:00:07.312280Z",
     "shell.execute_reply": "2022-06-11T18:00:07.312570Z"
    },
    "id": "5b51f161",
    "papermill": {
     "duration": 0.010049,
     "end_time": "2022-06-11T18:00:07.312676",
     "exception": false,
     "start_time": "2022-06-11T18:00:07.302627",
     "status": "completed"
    },
    "tags": []
   },
   "outputs": [],
   "source": [
    "#Parameters \n",
    "n_features = 13\n",
    "n_samples= 506\n",
    "n_target = 1 "
   ]
  },
  {
   "cell_type": "code",
   "execution_count": 6,
   "id": "5d6eced4",
   "metadata": {
    "execution": {
     "iopub.execute_input": "2022-06-11T18:00:07.328653Z",
     "iopub.status.busy": "2022-06-11T18:00:07.328278Z",
     "iopub.status.idle": "2022-06-11T18:00:07.339009Z",
     "shell.execute_reply": "2022-06-11T18:00:07.339254Z"
    },
    "id": "5d6eced4",
    "papermill": {
     "duration": 0.019658,
     "end_time": "2022-06-11T18:00:07.339371",
     "exception": false,
     "start_time": "2022-06-11T18:00:07.319713",
     "status": "completed"
    },
    "tags": []
   },
   "outputs": [
    {
     "name": "stdout",
     "output_type": "stream",
     "text": [
      "         X1        X2        X3        X4        X5        X6        X7  \\\n",
      "0 -0.419782  0.284830 -1.287909 -0.272599 -0.144217  0.413672 -0.120013   \n",
      "1 -0.417339 -0.487722 -0.593381 -0.272599 -0.740262  0.194274  0.367166   \n",
      "2 -0.417342 -0.487722 -0.593381 -0.272599 -0.740262  1.282714 -0.265812   \n",
      "3 -0.416750 -0.487722 -1.306878 -0.272599 -0.835284  1.016303 -0.809889   \n",
      "4 -0.412482 -0.487722 -1.306878 -0.272599 -0.835284  1.228577 -0.511180   \n",
      "\n",
      "         X8        X9       X10       X11       X12       X13         Y  \n",
      "0  0.140214 -0.982843 -0.666608 -1.459000  0.441052 -1.075562  0.159686  \n",
      "1  0.557160 -0.867883 -0.987329 -0.303094  0.441052 -0.492439 -0.101524  \n",
      "2  0.557160 -0.867883 -0.987329 -0.303094  0.396427 -1.208727  1.324247  \n",
      "3  1.077737 -0.752922 -1.106115  0.113032  0.416163 -1.361517  1.182758  \n",
      "4  1.077737 -0.752922 -1.106115  0.113032  0.441052 -1.026501  1.487503  \n"
     ]
    }
   ],
   "source": [
    "X,Y = bostonDataset.boston_data()"
   ]
  },
  {
   "cell_type": "code",
   "execution_count": 7,
   "id": "fe007438",
   "metadata": {
    "execution": {
     "iopub.execute_input": "2022-06-11T18:00:07.356710Z",
     "iopub.status.busy": "2022-06-11T18:00:07.356263Z",
     "iopub.status.idle": "2022-06-11T18:00:07.357755Z",
     "shell.execute_reply": "2022-06-11T18:00:07.358000Z"
    },
    "id": "fe007438",
    "papermill": {
     "duration": 0.011306,
     "end_time": "2022-06-11T18:00:07.358111",
     "exception": false,
     "start_time": "2022-06-11T18:00:07.346805",
     "status": "completed"
    },
    "tags": []
   },
   "outputs": [],
   "source": [
    "#Train test split for dataset \n",
    "X_train,X_test,Y_train,Y_test = train_test_split(X,Y,test_size = 0.2)\n",
    "train_data = dataset.CustomDataset(X_train,Y_train)\n",
    "test_data = dataset.CustomDataset(X_test,Y_test)\n"
   ]
  },
  {
   "cell_type": "markdown",
   "id": "a9a1af34",
   "metadata": {
    "id": "a9a1af34",
    "papermill": {
     "duration": 0.00712,
     "end_time": "2022-06-11T18:00:07.372572",
     "exception": false,
     "start_time": "2022-06-11T18:00:07.365452",
     "status": "completed"
    },
    "tags": []
   },
   "source": [
    "## Training Parameters "
   ]
  },
  {
   "cell_type": "code",
   "execution_count": 8,
   "id": "952b7fc8",
   "metadata": {
    "execution": {
     "iopub.execute_input": "2022-06-11T18:00:07.389171Z",
     "iopub.status.busy": "2022-06-11T18:00:07.388797Z",
     "iopub.status.idle": "2022-06-11T18:00:07.390108Z",
     "shell.execute_reply": "2022-06-11T18:00:07.390355Z"
    },
    "id": "952b7fc8",
    "papermill": {
     "duration": 0.010669,
     "end_time": "2022-06-11T18:00:07.390466",
     "exception": false,
     "start_time": "2022-06-11T18:00:07.379797",
     "status": "completed"
    },
    "tags": []
   },
   "outputs": [],
   "source": [
    "batch_size = 32\n",
    "n_epochs = 1000\n",
    "#Select the device \n",
    "device = torch.device('cuda' if torch.cuda.is_available() else 'cpu')"
   ]
  },
  {
   "cell_type": "markdown",
   "id": "a95e1600",
   "metadata": {
    "id": "a95e1600",
    "papermill": {
     "duration": 0.007092,
     "end_time": "2022-06-11T18:00:07.404828",
     "exception": false,
     "start_time": "2022-06-11T18:00:07.397736",
     "status": "completed"
    },
    "tags": []
   },
   "source": [
    "# ABC Pre-generator Model \n",
    "\n",
    "1. The catboost model is used as a pre-generator model for the ABC-GAN. \n",
    "2. The model is first trained on the entire dataset \n",
    "3. It generats X,Y pairs and we add some Gaussian noise with mean 0 and variance 1 to it which is then feed as input to the generator.\n"
   ]
  },
  {
   "cell_type": "code",
   "execution_count": 9,
   "id": "ff8ce7bd",
   "metadata": {
    "execution": {
     "iopub.execute_input": "2022-06-11T18:00:07.423893Z",
     "iopub.status.busy": "2022-06-11T18:00:07.423500Z",
     "iopub.status.idle": "2022-06-11T18:00:08.398728Z",
     "shell.execute_reply": "2022-06-11T18:00:08.399041Z"
    },
    "id": "ff8ce7bd",
    "papermill": {
     "duration": 0.987136,
     "end_time": "2022-06-11T18:00:08.399165",
     "exception": false,
     "start_time": "2022-06-11T18:00:07.412029",
     "status": "completed"
    },
    "tags": []
   },
   "outputs": [
    {
     "name": "stdout",
     "output_type": "stream",
     "text": [
      "Learning rate set to 0.033215\n",
      "0:\tlearn: 1.0045382\ttotal: 58.6ms\tremaining: 58.6s\n",
      "1:\tlearn: 0.9852503\ttotal: 59.7ms\tremaining: 29.8s\n",
      "2:\tlearn: 0.9655208\ttotal: 60.7ms\tremaining: 20.2s\n",
      "3:\tlearn: 0.9484004\ttotal: 61.7ms\tremaining: 15.4s\n",
      "4:\tlearn: 0.9306118\ttotal: 62.6ms\tremaining: 12.5s\n",
      "5:\tlearn: 0.9145347\ttotal: 63.6ms\tremaining: 10.5s\n",
      "6:\tlearn: 0.8976368\ttotal: 64.5ms\tremaining: 9.16s\n",
      "7:\tlearn: 0.8809317\ttotal: 65.5ms\tremaining: 8.12s\n",
      "8:\tlearn: 0.8652186\ttotal: 66.3ms\tremaining: 7.3s\n",
      "9:\tlearn: 0.8485678\ttotal: 67.1ms\tremaining: 6.64s\n",
      "10:\tlearn: 0.8326731\ttotal: 67.8ms\tremaining: 6.1s\n",
      "11:\tlearn: 0.8168455\ttotal: 68.6ms\tremaining: 5.65s\n",
      "12:\tlearn: 0.8019848\ttotal: 69.3ms\tremaining: 5.26s\n",
      "13:\tlearn: 0.7866252\ttotal: 70.1ms\tremaining: 4.94s\n",
      "14:\tlearn: 0.7730996\ttotal: 70.8ms\tremaining: 4.65s\n",
      "15:\tlearn: 0.7593153\ttotal: 71.6ms\tremaining: 4.4s\n",
      "16:\tlearn: 0.7479241\ttotal: 72.4ms\tremaining: 4.18s\n",
      "17:\tlearn: 0.7351161\ttotal: 73.2ms\tremaining: 3.99s\n",
      "18:\tlearn: 0.7230949\ttotal: 73.9ms\tremaining: 3.81s\n",
      "19:\tlearn: 0.7104697\ttotal: 74.6ms\tremaining: 3.66s\n",
      "20:\tlearn: 0.6968978\ttotal: 75.5ms\tremaining: 3.52s\n",
      "21:\tlearn: 0.6868657\ttotal: 76.3ms\tremaining: 3.39s\n",
      "22:\tlearn: 0.6747780\ttotal: 77.1ms\tremaining: 3.27s\n",
      "23:\tlearn: 0.6646960\ttotal: 77.9ms\tremaining: 3.17s\n",
      "24:\tlearn: 0.6552190\ttotal: 78.9ms\tremaining: 3.08s\n",
      "25:\tlearn: 0.6473294\ttotal: 79.7ms\tremaining: 2.99s\n",
      "26:\tlearn: 0.6374632\ttotal: 80.7ms\tremaining: 2.91s\n",
      "27:\tlearn: 0.6283931\ttotal: 81.7ms\tremaining: 2.83s\n",
      "28:\tlearn: 0.6195132\ttotal: 82.5ms\tremaining: 2.76s\n",
      "29:\tlearn: 0.6091963\ttotal: 83.3ms\tremaining: 2.69s\n",
      "30:\tlearn: 0.5992619\ttotal: 84.2ms\tremaining: 2.63s\n",
      "31:\tlearn: 0.5911338\ttotal: 85ms\tremaining: 2.57s\n",
      "32:\tlearn: 0.5838011\ttotal: 85.8ms\tremaining: 2.51s\n",
      "33:\tlearn: 0.5763548\ttotal: 86.7ms\tremaining: 2.46s\n",
      "34:\tlearn: 0.5688942\ttotal: 87.7ms\tremaining: 2.42s\n",
      "35:\tlearn: 0.5616953\ttotal: 88.6ms\tremaining: 2.37s\n",
      "36:\tlearn: 0.5559243\ttotal: 89.5ms\tremaining: 2.33s\n",
      "37:\tlearn: 0.5489392\ttotal: 90.3ms\tremaining: 2.29s\n",
      "38:\tlearn: 0.5414368\ttotal: 91.1ms\tremaining: 2.24s\n",
      "39:\tlearn: 0.5340239\ttotal: 91.9ms\tremaining: 2.21s\n",
      "40:\tlearn: 0.5280162\ttotal: 92.7ms\tremaining: 2.17s\n",
      "41:\tlearn: 0.5216450\ttotal: 93.6ms\tremaining: 2.13s\n",
      "42:\tlearn: 0.5156103\ttotal: 94.5ms\tremaining: 2.1s\n",
      "43:\tlearn: 0.5096908\ttotal: 95.3ms\tremaining: 2.07s\n",
      "44:\tlearn: 0.5024014\ttotal: 96.2ms\tremaining: 2.04s\n",
      "45:\tlearn: 0.4958769\ttotal: 97.1ms\tremaining: 2.01s\n",
      "46:\tlearn: 0.4904020\ttotal: 98ms\tremaining: 1.99s\n",
      "47:\tlearn: 0.4846365\ttotal: 98.8ms\tremaining: 1.96s\n",
      "48:\tlearn: 0.4799726\ttotal: 99.6ms\tremaining: 1.93s\n",
      "49:\tlearn: 0.4751658\ttotal: 100ms\tremaining: 1.91s\n",
      "50:\tlearn: 0.4694443\ttotal: 101ms\tremaining: 1.89s\n",
      "51:\tlearn: 0.4647329\ttotal: 102ms\tremaining: 1.87s\n",
      "52:\tlearn: 0.4592853\ttotal: 103ms\tremaining: 1.85s\n",
      "53:\tlearn: 0.4558438\ttotal: 104ms\tremaining: 1.82s\n",
      "54:\tlearn: 0.4508009\ttotal: 105ms\tremaining: 1.8s\n",
      "55:\tlearn: 0.4472317\ttotal: 106ms\tremaining: 1.79s\n",
      "56:\tlearn: 0.4433287\ttotal: 107ms\tremaining: 1.76s\n",
      "57:\tlearn: 0.4389541\ttotal: 107ms\tremaining: 1.75s\n"
     ]
    },
    {
     "name": "stdout",
     "output_type": "stream",
     "text": [
      "58:\tlearn: 0.4353505\ttotal: 108ms\tremaining: 1.73s\n",
      "59:\tlearn: 0.4324383\ttotal: 109ms\tremaining: 1.71s\n",
      "60:\tlearn: 0.4281378\ttotal: 110ms\tremaining: 1.69s\n",
      "61:\tlearn: 0.4240547\ttotal: 111ms\tremaining: 1.68s\n",
      "62:\tlearn: 0.4201824\ttotal: 112ms\tremaining: 1.66s\n",
      "63:\tlearn: 0.4173103\ttotal: 113ms\tremaining: 1.65s\n",
      "64:\tlearn: 0.4139016\ttotal: 114ms\tremaining: 1.63s\n",
      "65:\tlearn: 0.4100509\ttotal: 115ms\tremaining: 1.62s\n",
      "66:\tlearn: 0.4064431\ttotal: 116ms\tremaining: 1.61s\n",
      "67:\tlearn: 0.4023495\ttotal: 117ms\tremaining: 1.6s\n",
      "68:\tlearn: 0.3985394\ttotal: 117ms\tremaining: 1.58s\n",
      "69:\tlearn: 0.3952691\ttotal: 119ms\tremaining: 1.57s\n",
      "70:\tlearn: 0.3918573\ttotal: 119ms\tremaining: 1.56s\n",
      "71:\tlearn: 0.3879251\ttotal: 120ms\tremaining: 1.55s\n",
      "72:\tlearn: 0.3854672\ttotal: 121ms\tremaining: 1.54s\n",
      "73:\tlearn: 0.3824541\ttotal: 122ms\tremaining: 1.53s\n",
      "74:\tlearn: 0.3798917\ttotal: 123ms\tremaining: 1.52s\n",
      "75:\tlearn: 0.3771792\ttotal: 124ms\tremaining: 1.51s\n",
      "76:\tlearn: 0.3741933\ttotal: 125ms\tremaining: 1.5s\n",
      "77:\tlearn: 0.3716556\ttotal: 126ms\tremaining: 1.49s\n",
      "78:\tlearn: 0.3687731\ttotal: 127ms\tremaining: 1.48s\n",
      "79:\tlearn: 0.3664863\ttotal: 128ms\tremaining: 1.47s\n",
      "80:\tlearn: 0.3642579\ttotal: 129ms\tremaining: 1.46s\n",
      "81:\tlearn: 0.3619916\ttotal: 129ms\tremaining: 1.45s\n",
      "82:\tlearn: 0.3598245\ttotal: 130ms\tremaining: 1.44s\n",
      "83:\tlearn: 0.3573762\ttotal: 131ms\tremaining: 1.43s\n",
      "84:\tlearn: 0.3550389\ttotal: 132ms\tremaining: 1.42s\n",
      "85:\tlearn: 0.3525831\ttotal: 134ms\tremaining: 1.42s\n",
      "86:\tlearn: 0.3508556\ttotal: 134ms\tremaining: 1.41s\n",
      "87:\tlearn: 0.3482623\ttotal: 135ms\tremaining: 1.4s\n",
      "88:\tlearn: 0.3466748\ttotal: 136ms\tremaining: 1.39s\n",
      "89:\tlearn: 0.3438148\ttotal: 137ms\tremaining: 1.38s\n",
      "90:\tlearn: 0.3411232\ttotal: 137ms\tremaining: 1.37s\n",
      "91:\tlearn: 0.3393123\ttotal: 138ms\tremaining: 1.36s\n",
      "92:\tlearn: 0.3380969\ttotal: 139ms\tremaining: 1.36s\n",
      "93:\tlearn: 0.3359940\ttotal: 140ms\tremaining: 1.35s\n",
      "94:\tlearn: 0.3334453\ttotal: 141ms\tremaining: 1.34s\n",
      "95:\tlearn: 0.3323421\ttotal: 142ms\tremaining: 1.33s\n",
      "96:\tlearn: 0.3303677\ttotal: 143ms\tremaining: 1.33s\n",
      "97:\tlearn: 0.3281524\ttotal: 143ms\tremaining: 1.32s\n",
      "98:\tlearn: 0.3263645\ttotal: 144ms\tremaining: 1.31s\n",
      "99:\tlearn: 0.3251384\ttotal: 145ms\tremaining: 1.3s\n",
      "100:\tlearn: 0.3232367\ttotal: 146ms\tremaining: 1.3s\n",
      "101:\tlearn: 0.3214011\ttotal: 147ms\tremaining: 1.29s\n",
      "102:\tlearn: 0.3198880\ttotal: 148ms\tremaining: 1.28s\n",
      "103:\tlearn: 0.3180402\ttotal: 148ms\tremaining: 1.28s\n",
      "104:\tlearn: 0.3163043\ttotal: 149ms\tremaining: 1.27s\n",
      "105:\tlearn: 0.3144343\ttotal: 150ms\tremaining: 1.26s\n",
      "106:\tlearn: 0.3126940\ttotal: 151ms\tremaining: 1.26s\n",
      "107:\tlearn: 0.3103507\ttotal: 152ms\tremaining: 1.25s\n",
      "108:\tlearn: 0.3086505\ttotal: 152ms\tremaining: 1.25s\n",
      "109:\tlearn: 0.3068525\ttotal: 153ms\tremaining: 1.24s\n",
      "110:\tlearn: 0.3049926\ttotal: 154ms\tremaining: 1.23s\n",
      "111:\tlearn: 0.3032976\ttotal: 155ms\tremaining: 1.23s\n",
      "112:\tlearn: 0.3013964\ttotal: 156ms\tremaining: 1.23s\n",
      "113:\tlearn: 0.3004628\ttotal: 157ms\tremaining: 1.22s\n",
      "114:\tlearn: 0.2993715\ttotal: 158ms\tremaining: 1.21s\n",
      "115:\tlearn: 0.2978805\ttotal: 158ms\tremaining: 1.21s\n",
      "116:\tlearn: 0.2966183\ttotal: 159ms\tremaining: 1.2s\n",
      "117:\tlearn: 0.2952164\ttotal: 160ms\tremaining: 1.2s\n",
      "118:\tlearn: 0.2940852\ttotal: 161ms\tremaining: 1.19s\n",
      "119:\tlearn: 0.2932902\ttotal: 162ms\tremaining: 1.19s\n",
      "120:\tlearn: 0.2919181\ttotal: 162ms\tremaining: 1.18s\n",
      "121:\tlearn: 0.2908445\ttotal: 163ms\tremaining: 1.17s\n",
      "122:\tlearn: 0.2896770\ttotal: 164ms\tremaining: 1.17s\n",
      "123:\tlearn: 0.2879641\ttotal: 165ms\tremaining: 1.16s\n",
      "124:\tlearn: 0.2867885\ttotal: 166ms\tremaining: 1.16s\n",
      "125:\tlearn: 0.2856663\ttotal: 167ms\tremaining: 1.16s\n",
      "126:\tlearn: 0.2840965\ttotal: 167ms\tremaining: 1.15s\n",
      "127:\tlearn: 0.2829959\ttotal: 168ms\tremaining: 1.15s\n",
      "128:\tlearn: 0.2818704\ttotal: 169ms\tremaining: 1.14s\n",
      "129:\tlearn: 0.2807385\ttotal: 170ms\tremaining: 1.14s\n",
      "130:\tlearn: 0.2796065\ttotal: 170ms\tremaining: 1.13s\n",
      "131:\tlearn: 0.2785502\ttotal: 171ms\tremaining: 1.13s\n",
      "132:\tlearn: 0.2777787\ttotal: 172ms\tremaining: 1.12s\n",
      "133:\tlearn: 0.2766468\ttotal: 173ms\tremaining: 1.12s\n",
      "134:\tlearn: 0.2757803\ttotal: 174ms\tremaining: 1.11s\n",
      "135:\tlearn: 0.2748244\ttotal: 175ms\tremaining: 1.11s\n",
      "136:\tlearn: 0.2741766\ttotal: 176ms\tremaining: 1.11s\n",
      "137:\tlearn: 0.2732805\ttotal: 176ms\tremaining: 1.1s\n",
      "138:\tlearn: 0.2721358\ttotal: 177ms\tremaining: 1.1s\n",
      "139:\tlearn: 0.2711697\ttotal: 178ms\tremaining: 1.09s\n",
      "140:\tlearn: 0.2705207\ttotal: 179ms\tremaining: 1.09s\n",
      "141:\tlearn: 0.2697489\ttotal: 180ms\tremaining: 1.08s\n",
      "142:\tlearn: 0.2687639\ttotal: 180ms\tremaining: 1.08s\n",
      "143:\tlearn: 0.2679672\ttotal: 181ms\tremaining: 1.08s\n",
      "144:\tlearn: 0.2669365\ttotal: 182ms\tremaining: 1.07s\n",
      "145:\tlearn: 0.2661812\ttotal: 183ms\tremaining: 1.07s\n",
      "146:\tlearn: 0.2653673\ttotal: 184ms\tremaining: 1.07s\n",
      "147:\tlearn: 0.2645448\ttotal: 185ms\tremaining: 1.06s\n",
      "148:\tlearn: 0.2634449\ttotal: 186ms\tremaining: 1.06s\n",
      "149:\tlearn: 0.2629291\ttotal: 186ms\tremaining: 1.06s\n",
      "150:\tlearn: 0.2618261\ttotal: 187ms\tremaining: 1.05s\n",
      "151:\tlearn: 0.2608568\ttotal: 188ms\tremaining: 1.05s\n",
      "152:\tlearn: 0.2601755\ttotal: 189ms\tremaining: 1.05s\n",
      "153:\tlearn: 0.2593219\ttotal: 190ms\tremaining: 1.04s\n",
      "154:\tlearn: 0.2586276\ttotal: 191ms\tremaining: 1.04s\n"
     ]
    },
    {
     "name": "stdout",
     "output_type": "stream",
     "text": [
      "155:\tlearn: 0.2577759\ttotal: 192ms\tremaining: 1.04s\n",
      "156:\tlearn: 0.2571236\ttotal: 193ms\tremaining: 1.03s\n",
      "157:\tlearn: 0.2563431\ttotal: 194ms\tremaining: 1.03s\n",
      "158:\tlearn: 0.2556262\ttotal: 195ms\tremaining: 1.03s\n",
      "159:\tlearn: 0.2548671\ttotal: 195ms\tremaining: 1.02s\n",
      "160:\tlearn: 0.2540679\ttotal: 196ms\tremaining: 1.02s\n",
      "161:\tlearn: 0.2533079\ttotal: 197ms\tremaining: 1.02s\n",
      "162:\tlearn: 0.2529148\ttotal: 198ms\tremaining: 1.02s\n",
      "163:\tlearn: 0.2520381\ttotal: 199ms\tremaining: 1.01s\n",
      "164:\tlearn: 0.2513192\ttotal: 200ms\tremaining: 1.01s\n",
      "165:\tlearn: 0.2504310\ttotal: 201ms\tremaining: 1.01s\n",
      "166:\tlearn: 0.2497923\ttotal: 201ms\tremaining: 1s\n",
      "167:\tlearn: 0.2491042\ttotal: 202ms\tremaining: 1s\n",
      "168:\tlearn: 0.2486279\ttotal: 203ms\tremaining: 999ms\n",
      "169:\tlearn: 0.2480020\ttotal: 204ms\tremaining: 995ms\n",
      "170:\tlearn: 0.2476419\ttotal: 205ms\tremaining: 992ms\n",
      "171:\tlearn: 0.2471496\ttotal: 205ms\tremaining: 988ms\n",
      "172:\tlearn: 0.2466173\ttotal: 206ms\tremaining: 985ms\n",
      "173:\tlearn: 0.2461384\ttotal: 207ms\tremaining: 982ms\n",
      "174:\tlearn: 0.2455571\ttotal: 208ms\tremaining: 980ms\n",
      "175:\tlearn: 0.2451401\ttotal: 209ms\tremaining: 976ms\n",
      "176:\tlearn: 0.2443697\ttotal: 209ms\tremaining: 973ms\n",
      "177:\tlearn: 0.2435129\ttotal: 210ms\tremaining: 970ms\n",
      "178:\tlearn: 0.2428011\ttotal: 211ms\tremaining: 968ms\n",
      "179:\tlearn: 0.2422395\ttotal: 212ms\tremaining: 965ms\n",
      "180:\tlearn: 0.2415809\ttotal: 213ms\tremaining: 962ms\n",
      "181:\tlearn: 0.2406354\ttotal: 214ms\tremaining: 960ms\n",
      "182:\tlearn: 0.2399483\ttotal: 214ms\tremaining: 957ms\n",
      "183:\tlearn: 0.2392732\ttotal: 215ms\tremaining: 954ms\n",
      "184:\tlearn: 0.2383283\ttotal: 216ms\tremaining: 952ms\n",
      "185:\tlearn: 0.2374981\ttotal: 217ms\tremaining: 949ms\n",
      "186:\tlearn: 0.2364744\ttotal: 218ms\tremaining: 946ms\n",
      "187:\tlearn: 0.2359816\ttotal: 218ms\tremaining: 943ms\n",
      "188:\tlearn: 0.2351663\ttotal: 219ms\tremaining: 941ms\n",
      "189:\tlearn: 0.2345072\ttotal: 220ms\tremaining: 938ms\n",
      "190:\tlearn: 0.2336706\ttotal: 221ms\tremaining: 935ms\n",
      "191:\tlearn: 0.2330389\ttotal: 222ms\tremaining: 932ms\n",
      "192:\tlearn: 0.2324371\ttotal: 222ms\tremaining: 929ms\n",
      "193:\tlearn: 0.2318793\ttotal: 223ms\tremaining: 927ms\n",
      "194:\tlearn: 0.2312024\ttotal: 224ms\tremaining: 925ms\n",
      "195:\tlearn: 0.2306422\ttotal: 225ms\tremaining: 923ms\n",
      "196:\tlearn: 0.2300403\ttotal: 226ms\tremaining: 920ms\n",
      "197:\tlearn: 0.2292536\ttotal: 227ms\tremaining: 918ms\n",
      "198:\tlearn: 0.2288593\ttotal: 227ms\tremaining: 915ms\n",
      "199:\tlearn: 0.2281542\ttotal: 228ms\tremaining: 913ms\n",
      "200:\tlearn: 0.2277700\ttotal: 229ms\tremaining: 910ms\n",
      "201:\tlearn: 0.2273449\ttotal: 230ms\tremaining: 908ms\n",
      "202:\tlearn: 0.2266562\ttotal: 231ms\tremaining: 905ms\n",
      "203:\tlearn: 0.2260993\ttotal: 231ms\tremaining: 903ms\n",
      "204:\tlearn: 0.2255958\ttotal: 232ms\tremaining: 901ms\n",
      "205:\tlearn: 0.2250166\ttotal: 233ms\tremaining: 898ms\n",
      "206:\tlearn: 0.2242282\ttotal: 234ms\tremaining: 896ms\n",
      "207:\tlearn: 0.2236658\ttotal: 235ms\tremaining: 894ms\n",
      "208:\tlearn: 0.2231908\ttotal: 236ms\tremaining: 891ms\n",
      "209:\tlearn: 0.2225196\ttotal: 236ms\tremaining: 889ms\n",
      "210:\tlearn: 0.2219263\ttotal: 237ms\tremaining: 887ms\n",
      "211:\tlearn: 0.2214970\ttotal: 238ms\tremaining: 885ms\n",
      "212:\tlearn: 0.2210057\ttotal: 239ms\tremaining: 882ms\n",
      "213:\tlearn: 0.2202106\ttotal: 240ms\tremaining: 880ms\n",
      "214:\tlearn: 0.2196599\ttotal: 241ms\tremaining: 880ms\n",
      "215:\tlearn: 0.2187199\ttotal: 242ms\tremaining: 878ms\n",
      "216:\tlearn: 0.2181275\ttotal: 243ms\tremaining: 875ms\n",
      "217:\tlearn: 0.2173977\ttotal: 243ms\tremaining: 873ms\n",
      "218:\tlearn: 0.2169308\ttotal: 244ms\tremaining: 871ms\n",
      "219:\tlearn: 0.2163003\ttotal: 245ms\tremaining: 869ms\n",
      "220:\tlearn: 0.2156693\ttotal: 246ms\tremaining: 866ms\n",
      "221:\tlearn: 0.2150378\ttotal: 247ms\tremaining: 865ms\n",
      "222:\tlearn: 0.2146902\ttotal: 248ms\tremaining: 863ms\n",
      "223:\tlearn: 0.2142653\ttotal: 248ms\tremaining: 860ms\n",
      "224:\tlearn: 0.2139820\ttotal: 249ms\tremaining: 858ms\n",
      "225:\tlearn: 0.2135568\ttotal: 250ms\tremaining: 856ms\n",
      "226:\tlearn: 0.2130049\ttotal: 251ms\tremaining: 854ms\n",
      "227:\tlearn: 0.2126492\ttotal: 252ms\tremaining: 853ms\n",
      "228:\tlearn: 0.2119979\ttotal: 253ms\tremaining: 851ms\n",
      "229:\tlearn: 0.2114003\ttotal: 254ms\tremaining: 849ms\n",
      "230:\tlearn: 0.2107190\ttotal: 254ms\tremaining: 847ms\n",
      "231:\tlearn: 0.2104129\ttotal: 255ms\tremaining: 845ms\n",
      "232:\tlearn: 0.2098836\ttotal: 256ms\tremaining: 843ms\n",
      "233:\tlearn: 0.2092505\ttotal: 257ms\tremaining: 841ms\n",
      "234:\tlearn: 0.2087432\ttotal: 258ms\tremaining: 838ms\n",
      "235:\tlearn: 0.2078235\ttotal: 258ms\tremaining: 837ms\n",
      "236:\tlearn: 0.2072332\ttotal: 259ms\tremaining: 835ms\n",
      "237:\tlearn: 0.2064599\ttotal: 260ms\tremaining: 832ms\n",
      "238:\tlearn: 0.2056696\ttotal: 261ms\tremaining: 830ms\n",
      "239:\tlearn: 0.2052722\ttotal: 262ms\tremaining: 829ms\n",
      "240:\tlearn: 0.2047852\ttotal: 262ms\tremaining: 827ms\n",
      "241:\tlearn: 0.2044753\ttotal: 263ms\tremaining: 825ms\n",
      "242:\tlearn: 0.2037743\ttotal: 264ms\tremaining: 823ms\n",
      "243:\tlearn: 0.2032247\ttotal: 265ms\tremaining: 821ms\n",
      "244:\tlearn: 0.2028304\ttotal: 266ms\tremaining: 819ms\n",
      "245:\tlearn: 0.2023161\ttotal: 267ms\tremaining: 817ms\n",
      "246:\tlearn: 0.2021490\ttotal: 267ms\tremaining: 815ms\n",
      "247:\tlearn: 0.2017256\ttotal: 268ms\tremaining: 814ms\n",
      "248:\tlearn: 0.2010498\ttotal: 269ms\tremaining: 812ms\n",
      "249:\tlearn: 0.2007535\ttotal: 270ms\tremaining: 810ms\n",
      "250:\tlearn: 0.2000975\ttotal: 271ms\tremaining: 808ms\n",
      "251:\tlearn: 0.1997807\ttotal: 272ms\tremaining: 806ms\n",
      "252:\tlearn: 0.1991086\ttotal: 272ms\tremaining: 804ms\n",
      "253:\tlearn: 0.1985843\ttotal: 273ms\tremaining: 803ms\n",
      "254:\tlearn: 0.1981402\ttotal: 274ms\tremaining: 801ms\n",
      "255:\tlearn: 0.1977871\ttotal: 275ms\tremaining: 799ms\n",
      "256:\tlearn: 0.1972312\ttotal: 276ms\tremaining: 797ms\n",
      "257:\tlearn: 0.1967598\ttotal: 276ms\tremaining: 795ms\n",
      "258:\tlearn: 0.1963849\ttotal: 277ms\tremaining: 793ms\n",
      "259:\tlearn: 0.1960273\ttotal: 278ms\tremaining: 791ms\n",
      "260:\tlearn: 0.1956102\ttotal: 279ms\tremaining: 790ms\n",
      "261:\tlearn: 0.1949671\ttotal: 280ms\tremaining: 788ms\n",
      "262:\tlearn: 0.1947262\ttotal: 281ms\tremaining: 786ms\n",
      "263:\tlearn: 0.1941235\ttotal: 281ms\tremaining: 785ms\n",
      "264:\tlearn: 0.1938056\ttotal: 282ms\tremaining: 782ms\n",
      "265:\tlearn: 0.1933316\ttotal: 283ms\tremaining: 781ms\n",
      "266:\tlearn: 0.1929762\ttotal: 284ms\tremaining: 779ms\n",
      "267:\tlearn: 0.1925208\ttotal: 285ms\tremaining: 778ms\n",
      "268:\tlearn: 0.1921609\ttotal: 285ms\tremaining: 776ms\n",
      "269:\tlearn: 0.1919436\ttotal: 286ms\tremaining: 774ms\n",
      "270:\tlearn: 0.1915384\ttotal: 288ms\tremaining: 774ms\n",
      "271:\tlearn: 0.1911711\ttotal: 288ms\tremaining: 772ms\n",
      "272:\tlearn: 0.1907316\ttotal: 289ms\tremaining: 770ms\n",
      "273:\tlearn: 0.1902133\ttotal: 290ms\tremaining: 769ms\n",
      "274:\tlearn: 0.1898799\ttotal: 291ms\tremaining: 767ms\n",
      "275:\tlearn: 0.1895568\ttotal: 292ms\tremaining: 765ms\n",
      "276:\tlearn: 0.1891369\ttotal: 293ms\tremaining: 763ms\n",
      "277:\tlearn: 0.1888471\ttotal: 293ms\tremaining: 762ms\n",
      "278:\tlearn: 0.1884599\ttotal: 294ms\tremaining: 760ms\n",
      "279:\tlearn: 0.1879158\ttotal: 295ms\tremaining: 759ms\n",
      "280:\tlearn: 0.1874692\ttotal: 296ms\tremaining: 757ms\n",
      "281:\tlearn: 0.1870570\ttotal: 297ms\tremaining: 755ms\n",
      "282:\tlearn: 0.1866272\ttotal: 297ms\tremaining: 753ms\n",
      "283:\tlearn: 0.1862156\ttotal: 298ms\tremaining: 752ms\n"
     ]
    },
    {
     "name": "stdout",
     "output_type": "stream",
     "text": [
      "284:\tlearn: 0.1858344\ttotal: 299ms\tremaining: 750ms\n",
      "285:\tlearn: 0.1855292\ttotal: 300ms\tremaining: 749ms\n",
      "286:\tlearn: 0.1849782\ttotal: 301ms\tremaining: 748ms\n",
      "287:\tlearn: 0.1847526\ttotal: 302ms\tremaining: 746ms\n",
      "288:\tlearn: 0.1843375\ttotal: 303ms\tremaining: 745ms\n",
      "289:\tlearn: 0.1836765\ttotal: 304ms\tremaining: 743ms\n",
      "290:\tlearn: 0.1830143\ttotal: 304ms\tremaining: 741ms\n",
      "291:\tlearn: 0.1824141\ttotal: 305ms\tremaining: 740ms\n",
      "292:\tlearn: 0.1821586\ttotal: 306ms\tremaining: 738ms\n",
      "293:\tlearn: 0.1818840\ttotal: 307ms\tremaining: 737ms\n",
      "294:\tlearn: 0.1813692\ttotal: 308ms\tremaining: 736ms\n",
      "295:\tlearn: 0.1811642\ttotal: 309ms\tremaining: 734ms\n",
      "296:\tlearn: 0.1809200\ttotal: 309ms\tremaining: 732ms\n",
      "297:\tlearn: 0.1805163\ttotal: 310ms\tremaining: 731ms\n",
      "298:\tlearn: 0.1799669\ttotal: 311ms\tremaining: 729ms\n",
      "299:\tlearn: 0.1796519\ttotal: 312ms\tremaining: 728ms\n",
      "300:\tlearn: 0.1794634\ttotal: 313ms\tremaining: 726ms\n",
      "301:\tlearn: 0.1792354\ttotal: 313ms\tremaining: 724ms\n",
      "302:\tlearn: 0.1789918\ttotal: 314ms\tremaining: 723ms\n",
      "303:\tlearn: 0.1786320\ttotal: 315ms\tremaining: 721ms\n",
      "304:\tlearn: 0.1781684\ttotal: 316ms\tremaining: 719ms\n",
      "305:\tlearn: 0.1778031\ttotal: 317ms\tremaining: 718ms\n",
      "306:\tlearn: 0.1773942\ttotal: 317ms\tremaining: 717ms\n",
      "307:\tlearn: 0.1770446\ttotal: 319ms\tremaining: 716ms\n",
      "308:\tlearn: 0.1768560\ttotal: 320ms\tremaining: 715ms\n",
      "309:\tlearn: 0.1765823\ttotal: 320ms\tremaining: 713ms\n",
      "310:\tlearn: 0.1762101\ttotal: 321ms\tremaining: 712ms\n",
      "311:\tlearn: 0.1759750\ttotal: 322ms\tremaining: 710ms\n",
      "312:\tlearn: 0.1755617\ttotal: 323ms\tremaining: 709ms\n",
      "313:\tlearn: 0.1752040\ttotal: 324ms\tremaining: 707ms\n",
      "314:\tlearn: 0.1749778\ttotal: 325ms\tremaining: 706ms\n",
      "315:\tlearn: 0.1747593\ttotal: 325ms\tremaining: 705ms\n",
      "316:\tlearn: 0.1743920\ttotal: 326ms\tremaining: 703ms\n",
      "317:\tlearn: 0.1741325\ttotal: 327ms\tremaining: 702ms\n",
      "318:\tlearn: 0.1736554\ttotal: 328ms\tremaining: 700ms\n",
      "319:\tlearn: 0.1734132\ttotal: 329ms\tremaining: 699ms\n",
      "320:\tlearn: 0.1730051\ttotal: 330ms\tremaining: 697ms\n",
      "321:\tlearn: 0.1725713\ttotal: 330ms\tremaining: 696ms\n",
      "322:\tlearn: 0.1722673\ttotal: 331ms\tremaining: 695ms\n",
      "323:\tlearn: 0.1718467\ttotal: 332ms\tremaining: 693ms\n",
      "324:\tlearn: 0.1717190\ttotal: 333ms\tremaining: 692ms\n",
      "325:\tlearn: 0.1711597\ttotal: 334ms\tremaining: 691ms\n",
      "326:\tlearn: 0.1707122\ttotal: 335ms\tremaining: 689ms\n",
      "327:\tlearn: 0.1705014\ttotal: 336ms\tremaining: 688ms\n",
      "328:\tlearn: 0.1700621\ttotal: 337ms\tremaining: 687ms\n",
      "329:\tlearn: 0.1697261\ttotal: 338ms\tremaining: 685ms\n",
      "330:\tlearn: 0.1694297\ttotal: 338ms\tremaining: 684ms\n",
      "331:\tlearn: 0.1690517\ttotal: 339ms\tremaining: 683ms\n",
      "332:\tlearn: 0.1686435\ttotal: 340ms\tremaining: 681ms\n",
      "333:\tlearn: 0.1682963\ttotal: 341ms\tremaining: 680ms\n",
      "334:\tlearn: 0.1680466\ttotal: 342ms\tremaining: 678ms\n",
      "335:\tlearn: 0.1676738\ttotal: 342ms\tremaining: 677ms\n",
      "336:\tlearn: 0.1674808\ttotal: 343ms\tremaining: 675ms\n",
      "337:\tlearn: 0.1672786\ttotal: 344ms\tremaining: 674ms\n",
      "338:\tlearn: 0.1668850\ttotal: 345ms\tremaining: 672ms\n",
      "339:\tlearn: 0.1666438\ttotal: 346ms\tremaining: 671ms\n",
      "340:\tlearn: 0.1662323\ttotal: 347ms\tremaining: 670ms\n",
      "341:\tlearn: 0.1658481\ttotal: 347ms\tremaining: 668ms\n",
      "342:\tlearn: 0.1657538\ttotal: 348ms\tremaining: 667ms\n",
      "343:\tlearn: 0.1654086\ttotal: 349ms\tremaining: 666ms\n",
      "344:\tlearn: 0.1652661\ttotal: 350ms\tremaining: 664ms\n",
      "345:\tlearn: 0.1650646\ttotal: 351ms\tremaining: 663ms\n",
      "346:\tlearn: 0.1647309\ttotal: 352ms\tremaining: 662ms\n",
      "347:\tlearn: 0.1643600\ttotal: 353ms\tremaining: 660ms\n",
      "348:\tlearn: 0.1640760\ttotal: 353ms\tremaining: 659ms\n",
      "349:\tlearn: 0.1637167\ttotal: 354ms\tremaining: 658ms\n",
      "350:\tlearn: 0.1634523\ttotal: 355ms\tremaining: 656ms\n",
      "351:\tlearn: 0.1632597\ttotal: 356ms\tremaining: 655ms\n",
      "352:\tlearn: 0.1630839\ttotal: 357ms\tremaining: 654ms\n",
      "353:\tlearn: 0.1627204\ttotal: 358ms\tremaining: 654ms\n",
      "354:\tlearn: 0.1625599\ttotal: 359ms\tremaining: 652ms\n",
      "355:\tlearn: 0.1624719\ttotal: 360ms\tremaining: 651ms\n",
      "356:\tlearn: 0.1623995\ttotal: 361ms\tremaining: 649ms\n",
      "357:\tlearn: 0.1622163\ttotal: 361ms\tremaining: 648ms\n",
      "358:\tlearn: 0.1617229\ttotal: 362ms\tremaining: 647ms\n",
      "359:\tlearn: 0.1614865\ttotal: 363ms\tremaining: 645ms\n",
      "360:\tlearn: 0.1611517\ttotal: 364ms\tremaining: 644ms\n",
      "361:\tlearn: 0.1610251\ttotal: 364ms\tremaining: 642ms\n",
      "362:\tlearn: 0.1607472\ttotal: 365ms\tremaining: 641ms\n",
      "363:\tlearn: 0.1604229\ttotal: 366ms\tremaining: 640ms\n",
      "364:\tlearn: 0.1603828\ttotal: 367ms\tremaining: 638ms\n",
      "365:\tlearn: 0.1602551\ttotal: 368ms\tremaining: 637ms\n",
      "366:\tlearn: 0.1600907\ttotal: 368ms\tremaining: 635ms\n",
      "367:\tlearn: 0.1598499\ttotal: 369ms\tremaining: 634ms\n",
      "368:\tlearn: 0.1597557\ttotal: 370ms\tremaining: 632ms\n",
      "369:\tlearn: 0.1593863\ttotal: 371ms\tremaining: 631ms\n",
      "370:\tlearn: 0.1593495\ttotal: 371ms\tremaining: 630ms\n",
      "371:\tlearn: 0.1590759\ttotal: 372ms\tremaining: 628ms\n",
      "372:\tlearn: 0.1586540\ttotal: 373ms\tremaining: 627ms\n",
      "373:\tlearn: 0.1584686\ttotal: 374ms\tremaining: 626ms\n",
      "374:\tlearn: 0.1583781\ttotal: 374ms\tremaining: 624ms\n",
      "375:\tlearn: 0.1582279\ttotal: 375ms\tremaining: 623ms\n",
      "376:\tlearn: 0.1578094\ttotal: 376ms\tremaining: 621ms\n",
      "377:\tlearn: 0.1575623\ttotal: 377ms\tremaining: 620ms\n",
      "378:\tlearn: 0.1573279\ttotal: 378ms\tremaining: 619ms\n",
      "379:\tlearn: 0.1569107\ttotal: 379ms\tremaining: 618ms\n",
      "380:\tlearn: 0.1566385\ttotal: 379ms\tremaining: 616ms\n",
      "381:\tlearn: 0.1566086\ttotal: 380ms\tremaining: 615ms\n",
      "382:\tlearn: 0.1564713\ttotal: 381ms\tremaining: 614ms\n"
     ]
    },
    {
     "name": "stdout",
     "output_type": "stream",
     "text": [
      "383:\tlearn: 0.1560327\ttotal: 382ms\tremaining: 613ms\n",
      "384:\tlearn: 0.1556617\ttotal: 383ms\tremaining: 612ms\n",
      "385:\tlearn: 0.1553479\ttotal: 384ms\tremaining: 611ms\n",
      "386:\tlearn: 0.1552636\ttotal: 385ms\tremaining: 609ms\n",
      "387:\tlearn: 0.1550036\ttotal: 385ms\tremaining: 608ms\n",
      "388:\tlearn: 0.1548290\ttotal: 386ms\tremaining: 607ms\n",
      "389:\tlearn: 0.1543916\ttotal: 387ms\tremaining: 606ms\n",
      "390:\tlearn: 0.1542543\ttotal: 388ms\tremaining: 604ms\n",
      "391:\tlearn: 0.1541205\ttotal: 389ms\tremaining: 603ms\n",
      "392:\tlearn: 0.1539721\ttotal: 390ms\tremaining: 602ms\n",
      "393:\tlearn: 0.1538274\ttotal: 391ms\tremaining: 601ms\n",
      "394:\tlearn: 0.1535371\ttotal: 391ms\tremaining: 600ms\n",
      "395:\tlearn: 0.1530300\ttotal: 392ms\tremaining: 598ms\n",
      "396:\tlearn: 0.1529627\ttotal: 393ms\tremaining: 597ms\n",
      "397:\tlearn: 0.1527152\ttotal: 394ms\tremaining: 596ms\n",
      "398:\tlearn: 0.1522990\ttotal: 395ms\tremaining: 595ms\n",
      "399:\tlearn: 0.1522753\ttotal: 396ms\tremaining: 594ms\n",
      "400:\tlearn: 0.1519901\ttotal: 397ms\tremaining: 593ms\n",
      "401:\tlearn: 0.1518238\ttotal: 398ms\tremaining: 592ms\n",
      "402:\tlearn: 0.1516515\ttotal: 399ms\tremaining: 591ms\n",
      "403:\tlearn: 0.1514218\ttotal: 400ms\tremaining: 590ms\n",
      "404:\tlearn: 0.1511874\ttotal: 401ms\tremaining: 589ms\n",
      "405:\tlearn: 0.1508813\ttotal: 402ms\tremaining: 588ms\n",
      "406:\tlearn: 0.1508124\ttotal: 402ms\tremaining: 586ms\n",
      "407:\tlearn: 0.1505632\ttotal: 403ms\tremaining: 585ms\n",
      "408:\tlearn: 0.1500592\ttotal: 404ms\tremaining: 584ms\n",
      "409:\tlearn: 0.1496139\ttotal: 405ms\tremaining: 582ms\n",
      "410:\tlearn: 0.1491733\ttotal: 405ms\tremaining: 581ms\n",
      "411:\tlearn: 0.1490012\ttotal: 406ms\tremaining: 580ms\n",
      "412:\tlearn: 0.1485869\ttotal: 407ms\tremaining: 578ms\n",
      "413:\tlearn: 0.1484131\ttotal: 408ms\tremaining: 577ms\n",
      "414:\tlearn: 0.1481362\ttotal: 409ms\tremaining: 576ms\n",
      "415:\tlearn: 0.1477337\ttotal: 409ms\tremaining: 575ms\n",
      "416:\tlearn: 0.1474694\ttotal: 410ms\tremaining: 574ms\n",
      "417:\tlearn: 0.1471634\ttotal: 411ms\tremaining: 573ms\n",
      "418:\tlearn: 0.1469779\ttotal: 412ms\tremaining: 571ms\n",
      "419:\tlearn: 0.1465631\ttotal: 413ms\tremaining: 570ms\n",
      "420:\tlearn: 0.1462039\ttotal: 414ms\tremaining: 569ms\n",
      "421:\tlearn: 0.1460617\ttotal: 415ms\tremaining: 568ms\n",
      "422:\tlearn: 0.1458423\ttotal: 415ms\tremaining: 567ms\n",
      "423:\tlearn: 0.1457896\ttotal: 416ms\tremaining: 565ms\n",
      "424:\tlearn: 0.1454475\ttotal: 417ms\tremaining: 564ms\n",
      "425:\tlearn: 0.1452467\ttotal: 418ms\tremaining: 563ms\n",
      "426:\tlearn: 0.1448982\ttotal: 419ms\tremaining: 562ms\n",
      "427:\tlearn: 0.1447739\ttotal: 419ms\tremaining: 560ms\n",
      "428:\tlearn: 0.1446943\ttotal: 420ms\tremaining: 559ms\n",
      "429:\tlearn: 0.1444279\ttotal: 421ms\tremaining: 558ms\n",
      "430:\tlearn: 0.1440996\ttotal: 422ms\tremaining: 557ms\n",
      "431:\tlearn: 0.1438955\ttotal: 423ms\tremaining: 556ms\n",
      "432:\tlearn: 0.1436977\ttotal: 423ms\tremaining: 554ms\n",
      "433:\tlearn: 0.1434010\ttotal: 424ms\tremaining: 553ms\n",
      "434:\tlearn: 0.1432875\ttotal: 425ms\tremaining: 552ms\n",
      "435:\tlearn: 0.1428334\ttotal: 426ms\tremaining: 551ms\n",
      "436:\tlearn: 0.1426899\ttotal: 427ms\tremaining: 550ms\n",
      "437:\tlearn: 0.1426368\ttotal: 428ms\tremaining: 549ms\n",
      "438:\tlearn: 0.1425131\ttotal: 429ms\tremaining: 548ms\n",
      "439:\tlearn: 0.1424282\ttotal: 430ms\tremaining: 547ms\n",
      "440:\tlearn: 0.1421269\ttotal: 430ms\tremaining: 546ms\n",
      "441:\tlearn: 0.1419195\ttotal: 431ms\tremaining: 544ms\n",
      "442:\tlearn: 0.1416791\ttotal: 432ms\tremaining: 543ms\n",
      "443:\tlearn: 0.1414515\ttotal: 433ms\tremaining: 542ms\n",
      "444:\tlearn: 0.1413065\ttotal: 434ms\tremaining: 541ms\n",
      "445:\tlearn: 0.1411195\ttotal: 435ms\tremaining: 540ms\n",
      "446:\tlearn: 0.1408971\ttotal: 436ms\tremaining: 539ms\n",
      "447:\tlearn: 0.1405934\ttotal: 436ms\tremaining: 538ms\n",
      "448:\tlearn: 0.1404060\ttotal: 437ms\tremaining: 537ms\n",
      "449:\tlearn: 0.1403133\ttotal: 438ms\tremaining: 535ms\n",
      "450:\tlearn: 0.1401359\ttotal: 439ms\tremaining: 535ms\n",
      "451:\tlearn: 0.1399112\ttotal: 440ms\tremaining: 534ms\n",
      "452:\tlearn: 0.1397566\ttotal: 441ms\tremaining: 532ms\n",
      "453:\tlearn: 0.1392372\ttotal: 442ms\tremaining: 531ms\n",
      "454:\tlearn: 0.1390679\ttotal: 443ms\tremaining: 530ms\n",
      "455:\tlearn: 0.1387929\ttotal: 443ms\tremaining: 529ms\n",
      "456:\tlearn: 0.1385201\ttotal: 444ms\tremaining: 528ms\n",
      "457:\tlearn: 0.1383350\ttotal: 445ms\tremaining: 527ms\n",
      "458:\tlearn: 0.1381457\ttotal: 446ms\tremaining: 525ms\n",
      "459:\tlearn: 0.1379341\ttotal: 447ms\tremaining: 524ms\n",
      "460:\tlearn: 0.1375621\ttotal: 447ms\tremaining: 523ms\n",
      "461:\tlearn: 0.1374480\ttotal: 448ms\tremaining: 522ms\n",
      "462:\tlearn: 0.1373327\ttotal: 449ms\tremaining: 521ms\n",
      "463:\tlearn: 0.1371189\ttotal: 450ms\tremaining: 520ms\n",
      "464:\tlearn: 0.1370212\ttotal: 451ms\tremaining: 518ms\n",
      "465:\tlearn: 0.1366548\ttotal: 451ms\tremaining: 517ms\n",
      "466:\tlearn: 0.1362981\ttotal: 452ms\tremaining: 516ms\n",
      "467:\tlearn: 0.1360707\ttotal: 453ms\tremaining: 515ms\n",
      "468:\tlearn: 0.1357819\ttotal: 454ms\tremaining: 514ms\n",
      "469:\tlearn: 0.1356153\ttotal: 455ms\tremaining: 513ms\n",
      "470:\tlearn: 0.1353613\ttotal: 456ms\tremaining: 512ms\n",
      "471:\tlearn: 0.1351783\ttotal: 457ms\tremaining: 511ms\n",
      "472:\tlearn: 0.1349802\ttotal: 459ms\tremaining: 511ms\n",
      "473:\tlearn: 0.1346061\ttotal: 460ms\tremaining: 510ms\n",
      "474:\tlearn: 0.1344356\ttotal: 461ms\tremaining: 509ms\n",
      "475:\tlearn: 0.1342254\ttotal: 462ms\tremaining: 508ms\n",
      "476:\tlearn: 0.1341150\ttotal: 463ms\tremaining: 507ms\n",
      "477:\tlearn: 0.1339294\ttotal: 463ms\tremaining: 506ms\n",
      "478:\tlearn: 0.1337741\ttotal: 464ms\tremaining: 505ms\n",
      "479:\tlearn: 0.1335668\ttotal: 465ms\tremaining: 504ms\n",
      "480:\tlearn: 0.1334041\ttotal: 466ms\tremaining: 503ms\n",
      "481:\tlearn: 0.1329817\ttotal: 467ms\tremaining: 502ms\n",
      "482:\tlearn: 0.1326146\ttotal: 468ms\tremaining: 501ms\n",
      "483:\tlearn: 0.1322935\ttotal: 469ms\tremaining: 500ms\n",
      "484:\tlearn: 0.1320059\ttotal: 469ms\tremaining: 499ms\n",
      "485:\tlearn: 0.1318426\ttotal: 470ms\tremaining: 497ms\n",
      "486:\tlearn: 0.1317149\ttotal: 471ms\tremaining: 496ms\n",
      "487:\tlearn: 0.1314183\ttotal: 472ms\tremaining: 495ms\n",
      "488:\tlearn: 0.1311704\ttotal: 473ms\tremaining: 494ms\n",
      "489:\tlearn: 0.1308121\ttotal: 473ms\tremaining: 493ms\n",
      "490:\tlearn: 0.1305679\ttotal: 474ms\tremaining: 491ms\n",
      "491:\tlearn: 0.1303068\ttotal: 475ms\tremaining: 490ms\n",
      "492:\tlearn: 0.1300036\ttotal: 476ms\tremaining: 489ms\n",
      "493:\tlearn: 0.1296498\ttotal: 477ms\tremaining: 488ms\n",
      "494:\tlearn: 0.1295756\ttotal: 477ms\tremaining: 487ms\n",
      "495:\tlearn: 0.1293691\ttotal: 478ms\tremaining: 486ms\n",
      "496:\tlearn: 0.1290822\ttotal: 479ms\tremaining: 485ms\n",
      "497:\tlearn: 0.1287195\ttotal: 480ms\tremaining: 484ms\n",
      "498:\tlearn: 0.1283651\ttotal: 481ms\tremaining: 482ms\n",
      "499:\tlearn: 0.1280633\ttotal: 481ms\tremaining: 481ms\n",
      "500:\tlearn: 0.1280317\ttotal: 482ms\tremaining: 480ms\n",
      "501:\tlearn: 0.1276894\ttotal: 483ms\tremaining: 479ms\n",
      "502:\tlearn: 0.1276473\ttotal: 484ms\tremaining: 478ms\n",
      "503:\tlearn: 0.1273600\ttotal: 485ms\tremaining: 477ms\n",
      "504:\tlearn: 0.1273314\ttotal: 486ms\tremaining: 476ms\n",
      "505:\tlearn: 0.1270945\ttotal: 486ms\tremaining: 475ms\n",
      "506:\tlearn: 0.1269396\ttotal: 487ms\tremaining: 474ms\n",
      "507:\tlearn: 0.1267924\ttotal: 488ms\tremaining: 473ms\n",
      "508:\tlearn: 0.1266395\ttotal: 489ms\tremaining: 472ms\n"
     ]
    },
    {
     "name": "stdout",
     "output_type": "stream",
     "text": [
      "509:\tlearn: 0.1264445\ttotal: 490ms\tremaining: 471ms\n",
      "510:\tlearn: 0.1264039\ttotal: 491ms\tremaining: 470ms\n",
      "511:\tlearn: 0.1261893\ttotal: 492ms\tremaining: 469ms\n",
      "512:\tlearn: 0.1258851\ttotal: 493ms\tremaining: 468ms\n",
      "513:\tlearn: 0.1256626\ttotal: 494ms\tremaining: 467ms\n",
      "514:\tlearn: 0.1253901\ttotal: 495ms\tremaining: 466ms\n",
      "515:\tlearn: 0.1251586\ttotal: 496ms\tremaining: 465ms\n",
      "516:\tlearn: 0.1248182\ttotal: 496ms\tremaining: 464ms\n",
      "517:\tlearn: 0.1245521\ttotal: 498ms\tremaining: 463ms\n",
      "518:\tlearn: 0.1241967\ttotal: 499ms\tremaining: 462ms\n",
      "519:\tlearn: 0.1239354\ttotal: 500ms\tremaining: 461ms\n",
      "520:\tlearn: 0.1238961\ttotal: 501ms\tremaining: 460ms\n",
      "521:\tlearn: 0.1238016\ttotal: 501ms\tremaining: 459ms\n",
      "522:\tlearn: 0.1234691\ttotal: 502ms\tremaining: 458ms\n",
      "523:\tlearn: 0.1234534\ttotal: 503ms\tremaining: 457ms\n",
      "524:\tlearn: 0.1234395\ttotal: 504ms\tremaining: 456ms\n",
      "525:\tlearn: 0.1234144\ttotal: 505ms\tremaining: 455ms\n",
      "526:\tlearn: 0.1231757\ttotal: 505ms\tremaining: 454ms\n",
      "527:\tlearn: 0.1230449\ttotal: 506ms\tremaining: 453ms\n",
      "528:\tlearn: 0.1227220\ttotal: 507ms\tremaining: 451ms\n",
      "529:\tlearn: 0.1225021\ttotal: 508ms\tremaining: 450ms\n",
      "530:\tlearn: 0.1222653\ttotal: 509ms\tremaining: 449ms\n",
      "531:\tlearn: 0.1221405\ttotal: 510ms\tremaining: 448ms\n",
      "532:\tlearn: 0.1218942\ttotal: 510ms\tremaining: 447ms\n",
      "533:\tlearn: 0.1216005\ttotal: 511ms\tremaining: 446ms\n",
      "534:\tlearn: 0.1215758\ttotal: 512ms\tremaining: 445ms\n",
      "535:\tlearn: 0.1212716\ttotal: 513ms\tremaining: 444ms\n",
      "536:\tlearn: 0.1209636\ttotal: 514ms\tremaining: 443ms\n",
      "537:\tlearn: 0.1206278\ttotal: 515ms\tremaining: 442ms\n",
      "538:\tlearn: 0.1206087\ttotal: 515ms\tremaining: 441ms\n",
      "539:\tlearn: 0.1204957\ttotal: 516ms\tremaining: 440ms\n",
      "540:\tlearn: 0.1202134\ttotal: 517ms\tremaining: 439ms\n",
      "541:\tlearn: 0.1199920\ttotal: 518ms\tremaining: 438ms\n",
      "542:\tlearn: 0.1198043\ttotal: 519ms\tremaining: 437ms\n",
      "543:\tlearn: 0.1194426\ttotal: 520ms\tremaining: 436ms\n",
      "544:\tlearn: 0.1191587\ttotal: 520ms\tremaining: 435ms\n",
      "545:\tlearn: 0.1189066\ttotal: 521ms\tremaining: 433ms\n",
      "546:\tlearn: 0.1186861\ttotal: 524ms\tremaining: 434ms\n",
      "547:\tlearn: 0.1183802\ttotal: 524ms\tremaining: 433ms\n",
      "548:\tlearn: 0.1182474\ttotal: 525ms\tremaining: 432ms\n",
      "549:\tlearn: 0.1181849\ttotal: 526ms\tremaining: 431ms\n",
      "550:\tlearn: 0.1179946\ttotal: 527ms\tremaining: 430ms\n",
      "551:\tlearn: 0.1178554\ttotal: 528ms\tremaining: 429ms\n",
      "552:\tlearn: 0.1175717\ttotal: 529ms\tremaining: 428ms\n",
      "553:\tlearn: 0.1175595\ttotal: 530ms\tremaining: 426ms\n",
      "554:\tlearn: 0.1174561\ttotal: 531ms\tremaining: 425ms\n",
      "555:\tlearn: 0.1172607\ttotal: 531ms\tremaining: 424ms\n",
      "556:\tlearn: 0.1171390\ttotal: 532ms\tremaining: 423ms\n",
      "557:\tlearn: 0.1169113\ttotal: 533ms\tremaining: 422ms\n",
      "558:\tlearn: 0.1168022\ttotal: 534ms\tremaining: 421ms\n",
      "559:\tlearn: 0.1165225\ttotal: 535ms\tremaining: 420ms\n",
      "560:\tlearn: 0.1162962\ttotal: 536ms\tremaining: 419ms\n",
      "561:\tlearn: 0.1160503\ttotal: 536ms\tremaining: 418ms\n",
      "562:\tlearn: 0.1159053\ttotal: 538ms\tremaining: 417ms\n",
      "563:\tlearn: 0.1157649\ttotal: 538ms\tremaining: 416ms\n",
      "564:\tlearn: 0.1155743\ttotal: 540ms\tremaining: 416ms\n",
      "565:\tlearn: 0.1154028\ttotal: 541ms\tremaining: 415ms\n",
      "566:\tlearn: 0.1152160\ttotal: 542ms\tremaining: 414ms\n",
      "567:\tlearn: 0.1149076\ttotal: 543ms\tremaining: 413ms\n",
      "568:\tlearn: 0.1146529\ttotal: 544ms\tremaining: 412ms\n",
      "569:\tlearn: 0.1143827\ttotal: 545ms\tremaining: 411ms\n",
      "570:\tlearn: 0.1141398\ttotal: 545ms\tremaining: 410ms\n",
      "571:\tlearn: 0.1139282\ttotal: 546ms\tremaining: 409ms\n",
      "572:\tlearn: 0.1136482\ttotal: 547ms\tremaining: 408ms\n",
      "573:\tlearn: 0.1134012\ttotal: 548ms\tremaining: 407ms\n",
      "574:\tlearn: 0.1133814\ttotal: 549ms\tremaining: 405ms\n",
      "575:\tlearn: 0.1132253\ttotal: 549ms\tremaining: 404ms\n",
      "576:\tlearn: 0.1131716\ttotal: 550ms\tremaining: 403ms\n",
      "577:\tlearn: 0.1129122\ttotal: 551ms\tremaining: 402ms\n",
      "578:\tlearn: 0.1126139\ttotal: 552ms\tremaining: 401ms\n",
      "579:\tlearn: 0.1124964\ttotal: 553ms\tremaining: 400ms\n",
      "580:\tlearn: 0.1123231\ttotal: 553ms\tremaining: 399ms\n",
      "581:\tlearn: 0.1122910\ttotal: 554ms\tremaining: 398ms\n",
      "582:\tlearn: 0.1120066\ttotal: 555ms\tremaining: 397ms\n",
      "583:\tlearn: 0.1119469\ttotal: 556ms\tremaining: 396ms\n",
      "584:\tlearn: 0.1116668\ttotal: 557ms\tremaining: 395ms\n",
      "585:\tlearn: 0.1114432\ttotal: 558ms\tremaining: 394ms\n",
      "586:\tlearn: 0.1114233\ttotal: 559ms\tremaining: 393ms\n",
      "587:\tlearn: 0.1112535\ttotal: 560ms\tremaining: 392ms\n",
      "588:\tlearn: 0.1111029\ttotal: 560ms\tremaining: 391ms\n",
      "589:\tlearn: 0.1110930\ttotal: 561ms\tremaining: 390ms\n",
      "590:\tlearn: 0.1109832\ttotal: 562ms\tremaining: 389ms\n",
      "591:\tlearn: 0.1109335\ttotal: 563ms\tremaining: 388ms\n",
      "592:\tlearn: 0.1107975\ttotal: 564ms\tremaining: 387ms\n",
      "593:\tlearn: 0.1106805\ttotal: 565ms\tremaining: 386ms\n",
      "594:\tlearn: 0.1104319\ttotal: 566ms\tremaining: 385ms\n",
      "595:\tlearn: 0.1102773\ttotal: 567ms\tremaining: 384ms\n",
      "596:\tlearn: 0.1100842\ttotal: 568ms\tremaining: 383ms\n",
      "597:\tlearn: 0.1100298\ttotal: 568ms\tremaining: 382ms\n",
      "598:\tlearn: 0.1099158\ttotal: 569ms\tremaining: 381ms\n",
      "599:\tlearn: 0.1098358\ttotal: 570ms\tremaining: 380ms\n",
      "600:\tlearn: 0.1096000\ttotal: 571ms\tremaining: 379ms\n"
     ]
    },
    {
     "name": "stdout",
     "output_type": "stream",
     "text": [
      "601:\tlearn: 0.1093506\ttotal: 572ms\tremaining: 378ms\n",
      "602:\tlearn: 0.1091293\ttotal: 574ms\tremaining: 378ms\n",
      "603:\tlearn: 0.1090983\ttotal: 574ms\tremaining: 377ms\n",
      "604:\tlearn: 0.1090664\ttotal: 575ms\tremaining: 376ms\n",
      "605:\tlearn: 0.1089672\ttotal: 576ms\tremaining: 375ms\n",
      "606:\tlearn: 0.1087693\ttotal: 577ms\tremaining: 373ms\n",
      "607:\tlearn: 0.1086461\ttotal: 578ms\tremaining: 373ms\n",
      "608:\tlearn: 0.1084952\ttotal: 579ms\tremaining: 371ms\n",
      "609:\tlearn: 0.1082921\ttotal: 579ms\tremaining: 370ms\n",
      "610:\tlearn: 0.1081087\ttotal: 580ms\tremaining: 369ms\n",
      "611:\tlearn: 0.1079110\ttotal: 581ms\tremaining: 368ms\n",
      "612:\tlearn: 0.1077593\ttotal: 582ms\tremaining: 367ms\n",
      "613:\tlearn: 0.1075031\ttotal: 583ms\tremaining: 366ms\n",
      "614:\tlearn: 0.1073605\ttotal: 583ms\tremaining: 365ms\n",
      "615:\tlearn: 0.1071840\ttotal: 584ms\tremaining: 364ms\n",
      "616:\tlearn: 0.1070092\ttotal: 585ms\tremaining: 363ms\n",
      "617:\tlearn: 0.1067999\ttotal: 586ms\tremaining: 362ms\n",
      "618:\tlearn: 0.1066328\ttotal: 587ms\tremaining: 361ms\n",
      "619:\tlearn: 0.1065319\ttotal: 588ms\tremaining: 360ms\n",
      "620:\tlearn: 0.1063589\ttotal: 589ms\tremaining: 359ms\n",
      "621:\tlearn: 0.1061998\ttotal: 590ms\tremaining: 358ms\n",
      "622:\tlearn: 0.1061449\ttotal: 590ms\tremaining: 357ms\n",
      "623:\tlearn: 0.1058676\ttotal: 592ms\tremaining: 357ms\n",
      "624:\tlearn: 0.1057629\ttotal: 593ms\tremaining: 356ms\n",
      "625:\tlearn: 0.1057195\ttotal: 593ms\tremaining: 354ms\n",
      "626:\tlearn: 0.1054780\ttotal: 594ms\tremaining: 353ms\n",
      "627:\tlearn: 0.1052591\ttotal: 595ms\tremaining: 352ms\n",
      "628:\tlearn: 0.1049831\ttotal: 596ms\tremaining: 351ms\n",
      "629:\tlearn: 0.1048168\ttotal: 597ms\tremaining: 350ms\n",
      "630:\tlearn: 0.1047181\ttotal: 597ms\tremaining: 349ms\n",
      "631:\tlearn: 0.1046122\ttotal: 598ms\tremaining: 348ms\n",
      "632:\tlearn: 0.1045032\ttotal: 599ms\tremaining: 347ms\n",
      "633:\tlearn: 0.1043388\ttotal: 600ms\tremaining: 346ms\n",
      "634:\tlearn: 0.1040990\ttotal: 601ms\tremaining: 345ms\n",
      "635:\tlearn: 0.1039894\ttotal: 601ms\tremaining: 344ms\n",
      "636:\tlearn: 0.1039653\ttotal: 602ms\tremaining: 343ms\n",
      "637:\tlearn: 0.1036877\ttotal: 603ms\tremaining: 342ms\n",
      "638:\tlearn: 0.1034489\ttotal: 604ms\tremaining: 341ms\n",
      "639:\tlearn: 0.1034318\ttotal: 605ms\tremaining: 340ms\n",
      "640:\tlearn: 0.1032353\ttotal: 605ms\tremaining: 339ms\n",
      "641:\tlearn: 0.1031419\ttotal: 606ms\tremaining: 338ms\n",
      "642:\tlearn: 0.1029489\ttotal: 607ms\tremaining: 337ms\n",
      "643:\tlearn: 0.1029372\ttotal: 608ms\tremaining: 336ms\n",
      "644:\tlearn: 0.1027993\ttotal: 608ms\tremaining: 335ms\n",
      "645:\tlearn: 0.1026149\ttotal: 609ms\tremaining: 334ms\n",
      "646:\tlearn: 0.1024407\ttotal: 610ms\tremaining: 333ms\n",
      "647:\tlearn: 0.1024273\ttotal: 611ms\tremaining: 332ms\n",
      "648:\tlearn: 0.1021773\ttotal: 612ms\tremaining: 331ms\n",
      "649:\tlearn: 0.1019170\ttotal: 612ms\tremaining: 330ms\n",
      "650:\tlearn: 0.1017028\ttotal: 613ms\tremaining: 329ms\n",
      "651:\tlearn: 0.1016155\ttotal: 614ms\tremaining: 328ms\n",
      "652:\tlearn: 0.1015033\ttotal: 615ms\tremaining: 327ms\n",
      "653:\tlearn: 0.1014954\ttotal: 616ms\tremaining: 326ms\n",
      "654:\tlearn: 0.1013009\ttotal: 617ms\tremaining: 325ms\n",
      "655:\tlearn: 0.1012877\ttotal: 618ms\tremaining: 324ms\n",
      "656:\tlearn: 0.1010530\ttotal: 618ms\tremaining: 323ms\n",
      "657:\tlearn: 0.1008925\ttotal: 619ms\tremaining: 322ms\n",
      "658:\tlearn: 0.1007384\ttotal: 620ms\tremaining: 321ms\n",
      "659:\tlearn: 0.1005763\ttotal: 621ms\tremaining: 320ms\n",
      "660:\tlearn: 0.1004081\ttotal: 622ms\tremaining: 319ms\n",
      "661:\tlearn: 0.1001565\ttotal: 622ms\tremaining: 318ms\n",
      "662:\tlearn: 0.1001458\ttotal: 623ms\tremaining: 317ms\n",
      "663:\tlearn: 0.0999439\ttotal: 624ms\tremaining: 316ms\n",
      "664:\tlearn: 0.0998515\ttotal: 625ms\tremaining: 315ms\n",
      "665:\tlearn: 0.0996829\ttotal: 626ms\tremaining: 314ms\n",
      "666:\tlearn: 0.0996104\ttotal: 627ms\tremaining: 313ms\n",
      "667:\tlearn: 0.0995046\ttotal: 628ms\tremaining: 312ms\n",
      "668:\tlearn: 0.0993496\ttotal: 628ms\tremaining: 311ms\n",
      "669:\tlearn: 0.0993052\ttotal: 629ms\tremaining: 310ms\n",
      "670:\tlearn: 0.0991956\ttotal: 630ms\tremaining: 309ms\n",
      "671:\tlearn: 0.0989409\ttotal: 631ms\tremaining: 308ms\n",
      "672:\tlearn: 0.0987681\ttotal: 632ms\tremaining: 307ms\n",
      "673:\tlearn: 0.0985535\ttotal: 632ms\tremaining: 306ms\n",
      "674:\tlearn: 0.0984693\ttotal: 633ms\tremaining: 305ms\n",
      "675:\tlearn: 0.0982614\ttotal: 634ms\tremaining: 304ms\n",
      "676:\tlearn: 0.0981778\ttotal: 635ms\tremaining: 303ms\n",
      "677:\tlearn: 0.0981552\ttotal: 635ms\tremaining: 302ms\n",
      "678:\tlearn: 0.0979450\ttotal: 636ms\tremaining: 301ms\n",
      "679:\tlearn: 0.0977868\ttotal: 637ms\tremaining: 300ms\n",
      "680:\tlearn: 0.0975895\ttotal: 638ms\tremaining: 299ms\n",
      "681:\tlearn: 0.0974126\ttotal: 639ms\tremaining: 298ms\n",
      "682:\tlearn: 0.0972661\ttotal: 640ms\tremaining: 297ms\n",
      "683:\tlearn: 0.0972580\ttotal: 640ms\tremaining: 296ms\n",
      "684:\tlearn: 0.0971629\ttotal: 641ms\tremaining: 295ms\n",
      "685:\tlearn: 0.0970110\ttotal: 642ms\tremaining: 294ms\n",
      "686:\tlearn: 0.0969312\ttotal: 643ms\tremaining: 293ms\n",
      "687:\tlearn: 0.0969005\ttotal: 644ms\tremaining: 292ms\n",
      "688:\tlearn: 0.0967579\ttotal: 644ms\tremaining: 291ms\n",
      "689:\tlearn: 0.0966289\ttotal: 645ms\tremaining: 290ms\n",
      "690:\tlearn: 0.0965528\ttotal: 646ms\tremaining: 289ms\n",
      "691:\tlearn: 0.0963216\ttotal: 647ms\tremaining: 288ms\n",
      "692:\tlearn: 0.0961901\ttotal: 648ms\tremaining: 287ms\n",
      "693:\tlearn: 0.0960875\ttotal: 649ms\tremaining: 286ms\n",
      "694:\tlearn: 0.0959436\ttotal: 650ms\tremaining: 285ms\n",
      "695:\tlearn: 0.0956968\ttotal: 651ms\tremaining: 284ms\n",
      "696:\tlearn: 0.0955780\ttotal: 652ms\tremaining: 283ms\n",
      "697:\tlearn: 0.0954779\ttotal: 652ms\tremaining: 282ms\n",
      "698:\tlearn: 0.0953338\ttotal: 653ms\tremaining: 281ms\n",
      "699:\tlearn: 0.0951344\ttotal: 654ms\tremaining: 280ms\n",
      "700:\tlearn: 0.0949510\ttotal: 655ms\tremaining: 279ms\n",
      "701:\tlearn: 0.0947436\ttotal: 656ms\tremaining: 278ms\n",
      "702:\tlearn: 0.0945358\ttotal: 657ms\tremaining: 277ms\n",
      "703:\tlearn: 0.0943670\ttotal: 657ms\tremaining: 276ms\n",
      "704:\tlearn: 0.0942058\ttotal: 658ms\tremaining: 275ms\n",
      "705:\tlearn: 0.0940605\ttotal: 659ms\tremaining: 274ms\n",
      "706:\tlearn: 0.0938101\ttotal: 660ms\tremaining: 273ms\n",
      "707:\tlearn: 0.0937420\ttotal: 661ms\tremaining: 272ms\n",
      "708:\tlearn: 0.0935269\ttotal: 661ms\tremaining: 271ms\n",
      "709:\tlearn: 0.0934375\ttotal: 662ms\tremaining: 270ms\n",
      "710:\tlearn: 0.0933456\ttotal: 663ms\tremaining: 269ms\n",
      "711:\tlearn: 0.0931208\ttotal: 664ms\tremaining: 268ms\n",
      "712:\tlearn: 0.0930635\ttotal: 664ms\tremaining: 267ms\n",
      "713:\tlearn: 0.0929185\ttotal: 665ms\tremaining: 266ms\n",
      "714:\tlearn: 0.0927278\ttotal: 666ms\tremaining: 266ms\n",
      "715:\tlearn: 0.0925672\ttotal: 667ms\tremaining: 264ms\n",
      "716:\tlearn: 0.0924263\ttotal: 668ms\tremaining: 264ms\n",
      "717:\tlearn: 0.0923460\ttotal: 669ms\tremaining: 263ms\n",
      "718:\tlearn: 0.0922846\ttotal: 669ms\tremaining: 262ms\n",
      "719:\tlearn: 0.0921378\ttotal: 670ms\tremaining: 261ms\n",
      "720:\tlearn: 0.0920607\ttotal: 671ms\tremaining: 260ms\n",
      "721:\tlearn: 0.0918791\ttotal: 672ms\tremaining: 259ms\n",
      "722:\tlearn: 0.0917968\ttotal: 673ms\tremaining: 258ms\n",
      "723:\tlearn: 0.0917780\ttotal: 674ms\tremaining: 257ms\n",
      "724:\tlearn: 0.0916826\ttotal: 674ms\tremaining: 256ms\n",
      "725:\tlearn: 0.0915534\ttotal: 675ms\tremaining: 255ms\n",
      "726:\tlearn: 0.0914085\ttotal: 676ms\tremaining: 254ms\n",
      "727:\tlearn: 0.0912181\ttotal: 677ms\tremaining: 253ms\n",
      "728:\tlearn: 0.0910223\ttotal: 677ms\tremaining: 252ms\n",
      "729:\tlearn: 0.0908521\ttotal: 678ms\tremaining: 251ms\n",
      "730:\tlearn: 0.0906889\ttotal: 679ms\tremaining: 250ms\n",
      "731:\tlearn: 0.0906058\ttotal: 680ms\tremaining: 249ms\n"
     ]
    },
    {
     "name": "stdout",
     "output_type": "stream",
     "text": [
      "732:\tlearn: 0.0904510\ttotal: 681ms\tremaining: 248ms\n",
      "733:\tlearn: 0.0903836\ttotal: 682ms\tremaining: 247ms\n",
      "734:\tlearn: 0.0902385\ttotal: 683ms\tremaining: 246ms\n",
      "735:\tlearn: 0.0901167\ttotal: 684ms\tremaining: 245ms\n",
      "736:\tlearn: 0.0899387\ttotal: 685ms\tremaining: 244ms\n",
      "737:\tlearn: 0.0898914\ttotal: 685ms\tremaining: 243ms\n",
      "738:\tlearn: 0.0896793\ttotal: 686ms\tremaining: 242ms\n",
      "739:\tlearn: 0.0895029\ttotal: 687ms\tremaining: 241ms\n",
      "740:\tlearn: 0.0894778\ttotal: 688ms\tremaining: 240ms\n",
      "741:\tlearn: 0.0893040\ttotal: 689ms\tremaining: 239ms\n",
      "742:\tlearn: 0.0891927\ttotal: 690ms\tremaining: 239ms\n",
      "743:\tlearn: 0.0891066\ttotal: 691ms\tremaining: 238ms\n",
      "744:\tlearn: 0.0890620\ttotal: 692ms\tremaining: 237ms\n",
      "745:\tlearn: 0.0889192\ttotal: 693ms\tremaining: 236ms\n",
      "746:\tlearn: 0.0887071\ttotal: 694ms\tremaining: 235ms\n",
      "747:\tlearn: 0.0885422\ttotal: 695ms\tremaining: 234ms\n",
      "748:\tlearn: 0.0883003\ttotal: 695ms\tremaining: 233ms\n",
      "749:\tlearn: 0.0881303\ttotal: 696ms\tremaining: 232ms\n",
      "750:\tlearn: 0.0879390\ttotal: 697ms\tremaining: 231ms\n",
      "751:\tlearn: 0.0877355\ttotal: 698ms\tremaining: 230ms\n",
      "752:\tlearn: 0.0876790\ttotal: 699ms\tremaining: 229ms\n",
      "753:\tlearn: 0.0876116\ttotal: 699ms\tremaining: 228ms\n",
      "754:\tlearn: 0.0874305\ttotal: 700ms\tremaining: 227ms\n",
      "755:\tlearn: 0.0874222\ttotal: 701ms\tremaining: 226ms\n",
      "756:\tlearn: 0.0873106\ttotal: 702ms\tremaining: 225ms\n",
      "757:\tlearn: 0.0872976\ttotal: 703ms\tremaining: 224ms\n",
      "758:\tlearn: 0.0871859\ttotal: 704ms\tremaining: 223ms\n",
      "759:\tlearn: 0.0871620\ttotal: 705ms\tremaining: 223ms\n",
      "760:\tlearn: 0.0871229\ttotal: 706ms\tremaining: 222ms\n",
      "761:\tlearn: 0.0869462\ttotal: 706ms\tremaining: 221ms\n",
      "762:\tlearn: 0.0867805\ttotal: 707ms\tremaining: 220ms\n",
      "763:\tlearn: 0.0865560\ttotal: 708ms\tremaining: 219ms\n",
      "764:\tlearn: 0.0863484\ttotal: 709ms\tremaining: 218ms\n",
      "765:\tlearn: 0.0861439\ttotal: 709ms\tremaining: 217ms\n",
      "766:\tlearn: 0.0860762\ttotal: 710ms\tremaining: 216ms\n",
      "767:\tlearn: 0.0860657\ttotal: 711ms\tremaining: 215ms\n",
      "768:\tlearn: 0.0859228\ttotal: 712ms\tremaining: 214ms\n",
      "769:\tlearn: 0.0858391\ttotal: 713ms\tremaining: 213ms\n",
      "770:\tlearn: 0.0856651\ttotal: 714ms\tremaining: 212ms\n",
      "771:\tlearn: 0.0854702\ttotal: 715ms\tremaining: 211ms\n",
      "772:\tlearn: 0.0853320\ttotal: 715ms\tremaining: 210ms\n",
      "773:\tlearn: 0.0853258\ttotal: 716ms\tremaining: 209ms\n",
      "774:\tlearn: 0.0851727\ttotal: 717ms\tremaining: 208ms\n",
      "775:\tlearn: 0.0849591\ttotal: 718ms\tremaining: 207ms\n",
      "776:\tlearn: 0.0848709\ttotal: 719ms\tremaining: 206ms\n",
      "777:\tlearn: 0.0847966\ttotal: 719ms\tremaining: 205ms\n",
      "778:\tlearn: 0.0846971\ttotal: 720ms\tremaining: 204ms\n",
      "779:\tlearn: 0.0845403\ttotal: 721ms\tremaining: 203ms\n",
      "780:\tlearn: 0.0844376\ttotal: 722ms\tremaining: 203ms\n",
      "781:\tlearn: 0.0842091\ttotal: 723ms\tremaining: 202ms\n",
      "782:\tlearn: 0.0840951\ttotal: 724ms\tremaining: 201ms\n",
      "783:\tlearn: 0.0840818\ttotal: 725ms\tremaining: 200ms\n",
      "784:\tlearn: 0.0839673\ttotal: 726ms\tremaining: 199ms\n",
      "785:\tlearn: 0.0837778\ttotal: 726ms\tremaining: 198ms\n",
      "786:\tlearn: 0.0837692\ttotal: 727ms\tremaining: 197ms\n",
      "787:\tlearn: 0.0837524\ttotal: 728ms\tremaining: 196ms\n",
      "788:\tlearn: 0.0836207\ttotal: 729ms\tremaining: 195ms\n",
      "789:\tlearn: 0.0834843\ttotal: 730ms\tremaining: 194ms\n",
      "790:\tlearn: 0.0833420\ttotal: 731ms\tremaining: 193ms\n",
      "791:\tlearn: 0.0832845\ttotal: 732ms\tremaining: 192ms\n",
      "792:\tlearn: 0.0831765\ttotal: 733ms\tremaining: 191ms\n",
      "793:\tlearn: 0.0831470\ttotal: 733ms\tremaining: 190ms\n",
      "794:\tlearn: 0.0829876\ttotal: 734ms\tremaining: 189ms\n",
      "795:\tlearn: 0.0828519\ttotal: 735ms\tremaining: 188ms\n",
      "796:\tlearn: 0.0828026\ttotal: 736ms\tremaining: 187ms\n",
      "797:\tlearn: 0.0826631\ttotal: 737ms\tremaining: 186ms\n",
      "798:\tlearn: 0.0824788\ttotal: 737ms\tremaining: 185ms\n",
      "799:\tlearn: 0.0824372\ttotal: 738ms\tremaining: 185ms\n",
      "800:\tlearn: 0.0823729\ttotal: 739ms\tremaining: 184ms\n",
      "801:\tlearn: 0.0823133\ttotal: 740ms\tremaining: 183ms\n",
      "802:\tlearn: 0.0821571\ttotal: 741ms\tremaining: 182ms\n",
      "803:\tlearn: 0.0820197\ttotal: 741ms\tremaining: 181ms\n",
      "804:\tlearn: 0.0820080\ttotal: 742ms\tremaining: 180ms\n",
      "805:\tlearn: 0.0819039\ttotal: 743ms\tremaining: 179ms\n",
      "806:\tlearn: 0.0817662\ttotal: 744ms\tremaining: 178ms\n",
      "807:\tlearn: 0.0817565\ttotal: 745ms\tremaining: 177ms\n",
      "808:\tlearn: 0.0816077\ttotal: 745ms\tremaining: 176ms\n",
      "809:\tlearn: 0.0815474\ttotal: 746ms\tremaining: 175ms\n",
      "810:\tlearn: 0.0815389\ttotal: 747ms\tremaining: 174ms\n",
      "811:\tlearn: 0.0814520\ttotal: 748ms\tremaining: 173ms\n",
      "812:\tlearn: 0.0814358\ttotal: 749ms\tremaining: 172ms\n",
      "813:\tlearn: 0.0813387\ttotal: 750ms\tremaining: 171ms\n",
      "814:\tlearn: 0.0812206\ttotal: 751ms\tremaining: 170ms\n",
      "815:\tlearn: 0.0809950\ttotal: 751ms\tremaining: 169ms\n",
      "816:\tlearn: 0.0808249\ttotal: 752ms\tremaining: 169ms\n",
      "817:\tlearn: 0.0808184\ttotal: 753ms\tremaining: 168ms\n",
      "818:\tlearn: 0.0807216\ttotal: 754ms\tremaining: 167ms\n",
      "819:\tlearn: 0.0805710\ttotal: 755ms\tremaining: 166ms\n",
      "820:\tlearn: 0.0805260\ttotal: 756ms\tremaining: 165ms\n",
      "821:\tlearn: 0.0804076\ttotal: 757ms\tremaining: 164ms\n",
      "822:\tlearn: 0.0802775\ttotal: 758ms\tremaining: 163ms\n",
      "823:\tlearn: 0.0802549\ttotal: 758ms\tremaining: 162ms\n",
      "824:\tlearn: 0.0801553\ttotal: 759ms\tremaining: 161ms\n",
      "825:\tlearn: 0.0799833\ttotal: 760ms\tremaining: 160ms\n",
      "826:\tlearn: 0.0797834\ttotal: 761ms\tremaining: 159ms\n",
      "827:\tlearn: 0.0796878\ttotal: 762ms\tremaining: 158ms\n"
     ]
    },
    {
     "name": "stdout",
     "output_type": "stream",
     "text": [
      "828:\tlearn: 0.0795646\ttotal: 763ms\tremaining: 157ms\n",
      "829:\tlearn: 0.0795339\ttotal: 764ms\tremaining: 156ms\n",
      "830:\tlearn: 0.0794277\ttotal: 764ms\tremaining: 155ms\n",
      "831:\tlearn: 0.0792122\ttotal: 765ms\tremaining: 155ms\n",
      "832:\tlearn: 0.0790576\ttotal: 766ms\tremaining: 154ms\n",
      "833:\tlearn: 0.0789021\ttotal: 767ms\tremaining: 153ms\n",
      "834:\tlearn: 0.0788615\ttotal: 768ms\tremaining: 152ms\n",
      "835:\tlearn: 0.0787183\ttotal: 769ms\tremaining: 151ms\n",
      "836:\tlearn: 0.0785780\ttotal: 770ms\tremaining: 150ms\n",
      "837:\tlearn: 0.0784256\ttotal: 770ms\tremaining: 149ms\n",
      "838:\tlearn: 0.0782116\ttotal: 771ms\tremaining: 148ms\n",
      "839:\tlearn: 0.0781571\ttotal: 772ms\tremaining: 147ms\n",
      "840:\tlearn: 0.0781128\ttotal: 773ms\tremaining: 146ms\n",
      "841:\tlearn: 0.0780712\ttotal: 774ms\tremaining: 145ms\n",
      "842:\tlearn: 0.0779850\ttotal: 775ms\tremaining: 144ms\n",
      "843:\tlearn: 0.0778787\ttotal: 776ms\tremaining: 143ms\n",
      "844:\tlearn: 0.0778267\ttotal: 777ms\tremaining: 142ms\n",
      "845:\tlearn: 0.0777314\ttotal: 778ms\tremaining: 142ms\n",
      "846:\tlearn: 0.0775119\ttotal: 778ms\tremaining: 141ms\n",
      "847:\tlearn: 0.0774536\ttotal: 779ms\tremaining: 140ms\n",
      "848:\tlearn: 0.0774258\ttotal: 780ms\tremaining: 139ms\n",
      "849:\tlearn: 0.0772986\ttotal: 781ms\tremaining: 138ms\n",
      "850:\tlearn: 0.0772131\ttotal: 781ms\tremaining: 137ms\n",
      "851:\tlearn: 0.0771354\ttotal: 782ms\tremaining: 136ms\n",
      "852:\tlearn: 0.0770969\ttotal: 783ms\tremaining: 135ms\n",
      "853:\tlearn: 0.0770914\ttotal: 784ms\tremaining: 134ms\n",
      "854:\tlearn: 0.0769971\ttotal: 785ms\tremaining: 133ms\n",
      "855:\tlearn: 0.0768329\ttotal: 785ms\tremaining: 132ms\n",
      "856:\tlearn: 0.0767346\ttotal: 786ms\tremaining: 131ms\n",
      "857:\tlearn: 0.0766880\ttotal: 787ms\tremaining: 130ms\n",
      "858:\tlearn: 0.0766370\ttotal: 788ms\tremaining: 129ms\n",
      "859:\tlearn: 0.0765135\ttotal: 789ms\tremaining: 128ms\n",
      "860:\tlearn: 0.0763505\ttotal: 790ms\tremaining: 128ms\n",
      "861:\tlearn: 0.0761705\ttotal: 791ms\tremaining: 127ms\n",
      "862:\tlearn: 0.0760161\ttotal: 792ms\tremaining: 126ms\n",
      "863:\tlearn: 0.0758437\ttotal: 793ms\tremaining: 125ms\n",
      "864:\tlearn: 0.0756607\ttotal: 793ms\tremaining: 124ms\n",
      "865:\tlearn: 0.0755576\ttotal: 794ms\tremaining: 123ms\n",
      "866:\tlearn: 0.0754178\ttotal: 795ms\tremaining: 122ms\n",
      "867:\tlearn: 0.0753579\ttotal: 796ms\tremaining: 121ms\n",
      "868:\tlearn: 0.0753140\ttotal: 797ms\tremaining: 120ms\n",
      "869:\tlearn: 0.0752925\ttotal: 797ms\tremaining: 119ms\n",
      "870:\tlearn: 0.0752386\ttotal: 798ms\tremaining: 118ms\n",
      "871:\tlearn: 0.0752069\ttotal: 799ms\tremaining: 117ms\n",
      "872:\tlearn: 0.0750954\ttotal: 800ms\tremaining: 116ms\n",
      "873:\tlearn: 0.0750442\ttotal: 800ms\tremaining: 115ms\n",
      "874:\tlearn: 0.0750048\ttotal: 801ms\tremaining: 114ms\n",
      "875:\tlearn: 0.0749037\ttotal: 802ms\tremaining: 114ms\n",
      "876:\tlearn: 0.0748806\ttotal: 803ms\tremaining: 113ms\n",
      "877:\tlearn: 0.0748120\ttotal: 804ms\tremaining: 112ms\n",
      "878:\tlearn: 0.0747718\ttotal: 805ms\tremaining: 111ms\n",
      "879:\tlearn: 0.0746874\ttotal: 805ms\tremaining: 110ms\n",
      "880:\tlearn: 0.0745781\ttotal: 806ms\tremaining: 109ms\n",
      "881:\tlearn: 0.0744790\ttotal: 807ms\tremaining: 108ms\n",
      "882:\tlearn: 0.0743391\ttotal: 808ms\tremaining: 107ms\n",
      "883:\tlearn: 0.0741759\ttotal: 809ms\tremaining: 106ms\n",
      "884:\tlearn: 0.0740836\ttotal: 810ms\tremaining: 105ms\n",
      "885:\tlearn: 0.0739420\ttotal: 811ms\tremaining: 104ms\n",
      "886:\tlearn: 0.0738560\ttotal: 812ms\tremaining: 103ms\n",
      "887:\tlearn: 0.0737250\ttotal: 812ms\tremaining: 102ms\n",
      "888:\tlearn: 0.0735514\ttotal: 813ms\tremaining: 102ms\n",
      "889:\tlearn: 0.0733929\ttotal: 814ms\tremaining: 101ms\n",
      "890:\tlearn: 0.0732947\ttotal: 815ms\tremaining: 99.7ms\n",
      "891:\tlearn: 0.0732105\ttotal: 816ms\tremaining: 98.8ms\n",
      "892:\tlearn: 0.0730898\ttotal: 817ms\tremaining: 97.9ms\n",
      "893:\tlearn: 0.0730118\ttotal: 818ms\tremaining: 96.9ms\n",
      "894:\tlearn: 0.0728627\ttotal: 818ms\tremaining: 96ms\n",
      "895:\tlearn: 0.0727520\ttotal: 819ms\tremaining: 95.1ms\n",
      "896:\tlearn: 0.0726234\ttotal: 821ms\tremaining: 94.2ms\n",
      "897:\tlearn: 0.0725163\ttotal: 822ms\tremaining: 93.3ms\n",
      "898:\tlearn: 0.0724681\ttotal: 823ms\tremaining: 92.4ms\n",
      "899:\tlearn: 0.0723411\ttotal: 824ms\tremaining: 91.6ms\n",
      "900:\tlearn: 0.0721489\ttotal: 825ms\tremaining: 90.7ms\n",
      "901:\tlearn: 0.0720924\ttotal: 826ms\tremaining: 89.7ms\n",
      "902:\tlearn: 0.0720018\ttotal: 827ms\tremaining: 88.8ms\n",
      "903:\tlearn: 0.0718533\ttotal: 828ms\tremaining: 87.9ms\n",
      "904:\tlearn: 0.0717616\ttotal: 828ms\tremaining: 86.9ms\n",
      "905:\tlearn: 0.0716502\ttotal: 829ms\tremaining: 86ms\n",
      "906:\tlearn: 0.0715279\ttotal: 830ms\tremaining: 85.1ms\n",
      "907:\tlearn: 0.0713545\ttotal: 831ms\tremaining: 84.2ms\n",
      "908:\tlearn: 0.0712418\ttotal: 832ms\tremaining: 83.3ms\n",
      "909:\tlearn: 0.0710747\ttotal: 833ms\tremaining: 82.3ms\n",
      "910:\tlearn: 0.0709092\ttotal: 833ms\tremaining: 81.4ms\n",
      "911:\tlearn: 0.0708428\ttotal: 834ms\tremaining: 80.5ms\n",
      "912:\tlearn: 0.0707589\ttotal: 835ms\tremaining: 79.6ms\n",
      "913:\tlearn: 0.0706230\ttotal: 836ms\tremaining: 78.7ms\n",
      "914:\tlearn: 0.0704439\ttotal: 837ms\tremaining: 77.7ms\n",
      "915:\tlearn: 0.0703224\ttotal: 838ms\tremaining: 76.8ms\n",
      "916:\tlearn: 0.0703070\ttotal: 839ms\tremaining: 76ms\n",
      "917:\tlearn: 0.0701475\ttotal: 840ms\tremaining: 75ms\n",
      "918:\tlearn: 0.0700122\ttotal: 841ms\tremaining: 74.1ms\n",
      "919:\tlearn: 0.0698615\ttotal: 842ms\tremaining: 73.2ms\n",
      "920:\tlearn: 0.0697470\ttotal: 842ms\tremaining: 72.3ms\n",
      "921:\tlearn: 0.0696127\ttotal: 843ms\tremaining: 71.3ms\n",
      "922:\tlearn: 0.0694933\ttotal: 844ms\tremaining: 70.4ms\n",
      "923:\tlearn: 0.0693574\ttotal: 845ms\tremaining: 69.5ms\n",
      "924:\tlearn: 0.0693380\ttotal: 846ms\tremaining: 68.6ms\n",
      "925:\tlearn: 0.0692490\ttotal: 847ms\tremaining: 67.6ms\n",
      "926:\tlearn: 0.0691390\ttotal: 847ms\tremaining: 66.7ms\n",
      "927:\tlearn: 0.0690888\ttotal: 848ms\tremaining: 65.8ms\n",
      "928:\tlearn: 0.0689252\ttotal: 849ms\tremaining: 64.9ms\n",
      "929:\tlearn: 0.0687868\ttotal: 850ms\tremaining: 64ms\n",
      "930:\tlearn: 0.0686569\ttotal: 851ms\tremaining: 63ms\n",
      "931:\tlearn: 0.0685415\ttotal: 851ms\tremaining: 62.1ms\n",
      "932:\tlearn: 0.0683899\ttotal: 852ms\tremaining: 61.2ms\n",
      "933:\tlearn: 0.0683496\ttotal: 853ms\tremaining: 60.3ms\n",
      "934:\tlearn: 0.0683187\ttotal: 854ms\tremaining: 59.4ms\n",
      "935:\tlearn: 0.0681947\ttotal: 855ms\tremaining: 58.5ms\n",
      "936:\tlearn: 0.0681189\ttotal: 856ms\tremaining: 57.6ms\n",
      "937:\tlearn: 0.0679530\ttotal: 857ms\tremaining: 56.6ms\n",
      "938:\tlearn: 0.0678598\ttotal: 858ms\tremaining: 55.7ms\n",
      "939:\tlearn: 0.0677661\ttotal: 859ms\tremaining: 54.8ms\n",
      "940:\tlearn: 0.0676203\ttotal: 860ms\tremaining: 53.9ms\n",
      "941:\tlearn: 0.0675623\ttotal: 860ms\tremaining: 53ms\n",
      "942:\tlearn: 0.0674440\ttotal: 861ms\tremaining: 52ms\n",
      "943:\tlearn: 0.0672843\ttotal: 862ms\tremaining: 51.1ms\n",
      "944:\tlearn: 0.0671569\ttotal: 863ms\tremaining: 50.2ms\n",
      "945:\tlearn: 0.0670007\ttotal: 864ms\tremaining: 49.3ms\n",
      "946:\tlearn: 0.0668864\ttotal: 864ms\tremaining: 48.4ms\n",
      "947:\tlearn: 0.0668443\ttotal: 865ms\tremaining: 47.5ms\n",
      "948:\tlearn: 0.0668168\ttotal: 866ms\tremaining: 46.5ms\n",
      "949:\tlearn: 0.0667172\ttotal: 867ms\tremaining: 45.6ms\n",
      "950:\tlearn: 0.0667087\ttotal: 867ms\tremaining: 44.7ms\n",
      "951:\tlearn: 0.0666934\ttotal: 868ms\tremaining: 43.8ms\n",
      "952:\tlearn: 0.0666079\ttotal: 869ms\tremaining: 42.9ms\n",
      "953:\tlearn: 0.0665378\ttotal: 870ms\tremaining: 41.9ms\n",
      "954:\tlearn: 0.0665287\ttotal: 871ms\tremaining: 41ms\n"
     ]
    },
    {
     "name": "stdout",
     "output_type": "stream",
     "text": [
      "955:\tlearn: 0.0663815\ttotal: 872ms\tremaining: 40.1ms\n",
      "956:\tlearn: 0.0663654\ttotal: 872ms\tremaining: 39.2ms\n",
      "957:\tlearn: 0.0662539\ttotal: 874ms\tremaining: 38.3ms\n",
      "958:\tlearn: 0.0662167\ttotal: 875ms\tremaining: 37.4ms\n",
      "959:\tlearn: 0.0661395\ttotal: 876ms\tremaining: 36.5ms\n",
      "960:\tlearn: 0.0660819\ttotal: 876ms\tremaining: 35.6ms\n",
      "961:\tlearn: 0.0659753\ttotal: 877ms\tremaining: 34.6ms\n",
      "962:\tlearn: 0.0658495\ttotal: 878ms\tremaining: 33.7ms\n",
      "963:\tlearn: 0.0658380\ttotal: 879ms\tremaining: 32.8ms\n",
      "964:\tlearn: 0.0657430\ttotal: 880ms\tremaining: 31.9ms\n",
      "965:\tlearn: 0.0657083\ttotal: 881ms\tremaining: 31ms\n",
      "966:\tlearn: 0.0656832\ttotal: 881ms\tremaining: 30.1ms\n",
      "967:\tlearn: 0.0655683\ttotal: 882ms\tremaining: 29.2ms\n",
      "968:\tlearn: 0.0655287\ttotal: 883ms\tremaining: 28.3ms\n",
      "969:\tlearn: 0.0654229\ttotal: 884ms\tremaining: 27.3ms\n",
      "970:\tlearn: 0.0653581\ttotal: 885ms\tremaining: 26.4ms\n",
      "971:\tlearn: 0.0653151\ttotal: 886ms\tremaining: 25.5ms\n",
      "972:\tlearn: 0.0652398\ttotal: 887ms\tremaining: 24.6ms\n",
      "973:\tlearn: 0.0651792\ttotal: 887ms\tremaining: 23.7ms\n",
      "974:\tlearn: 0.0651604\ttotal: 889ms\tremaining: 22.8ms\n",
      "975:\tlearn: 0.0651094\ttotal: 890ms\tremaining: 21.9ms\n",
      "976:\tlearn: 0.0649596\ttotal: 890ms\tremaining: 21ms\n",
      "977:\tlearn: 0.0648294\ttotal: 891ms\tremaining: 20ms\n",
      "978:\tlearn: 0.0648248\ttotal: 892ms\tremaining: 19.1ms\n",
      "979:\tlearn: 0.0646642\ttotal: 893ms\tremaining: 18.2ms\n",
      "980:\tlearn: 0.0645252\ttotal: 894ms\tremaining: 17.3ms\n",
      "981:\tlearn: 0.0644159\ttotal: 895ms\tremaining: 16.4ms\n",
      "982:\tlearn: 0.0642964\ttotal: 896ms\tremaining: 15.5ms\n",
      "983:\tlearn: 0.0641611\ttotal: 897ms\tremaining: 14.6ms\n",
      "984:\tlearn: 0.0641126\ttotal: 899ms\tremaining: 13.7ms\n",
      "985:\tlearn: 0.0640371\ttotal: 899ms\tremaining: 12.8ms\n",
      "986:\tlearn: 0.0639376\ttotal: 900ms\tremaining: 11.9ms\n",
      "987:\tlearn: 0.0638969\ttotal: 901ms\tremaining: 10.9ms\n",
      "988:\tlearn: 0.0638270\ttotal: 902ms\tremaining: 10ms\n",
      "989:\tlearn: 0.0637702\ttotal: 903ms\tremaining: 9.12ms\n",
      "990:\tlearn: 0.0636930\ttotal: 903ms\tremaining: 8.21ms\n",
      "991:\tlearn: 0.0636180\ttotal: 904ms\tremaining: 7.29ms\n",
      "992:\tlearn: 0.0635193\ttotal: 905ms\tremaining: 6.38ms\n",
      "993:\tlearn: 0.0634067\ttotal: 906ms\tremaining: 5.47ms\n",
      "994:\tlearn: 0.0632875\ttotal: 907ms\tremaining: 4.56ms\n",
      "995:\tlearn: 0.0631421\ttotal: 908ms\tremaining: 3.64ms\n",
      "996:\tlearn: 0.0630999\ttotal: 908ms\tremaining: 2.73ms\n",
      "997:\tlearn: 0.0629900\ttotal: 909ms\tremaining: 1.82ms\n",
      "998:\tlearn: 0.0628826\ttotal: 910ms\tremaining: 910us\n",
      "999:\tlearn: 0.0628463\ttotal: 911ms\tremaining: 0us\n"
     ]
    },
    {
     "data": {
      "text/plain": [
       "<catboost.core.CatBoostRegressor at 0x7faf6b3c9d00>"
      ]
     },
     "execution_count": 9,
     "metadata": {},
     "output_type": "execute_result"
    }
   ],
   "source": [
    "#Train the Model \n",
    "prior_model = ctb.CatBoostRegressor()\n",
    "prior_model.fit(X_train,Y_train)"
   ]
  },
  {
   "cell_type": "code",
   "execution_count": 10,
   "id": "af65dcda",
   "metadata": {
    "execution": {
     "iopub.execute_input": "2022-06-11T18:00:08.422498Z",
     "iopub.status.busy": "2022-06-11T18:00:08.422093Z",
     "iopub.status.idle": "2022-06-11T18:00:08.429767Z",
     "shell.execute_reply": "2022-06-11T18:00:08.430068Z"
    },
    "id": "af65dcda",
    "papermill": {
     "duration": 0.021287,
     "end_time": "2022-06-11T18:00:08.430186",
     "exception": false,
     "start_time": "2022-06-11T18:00:08.408899",
     "status": "completed"
    },
    "tags": []
   },
   "outputs": [
    {
     "data": {
      "application/scrapbook.scrap.json+json": {
       "data": 0.08610159395946562,
       "encoder": "json",
       "name": "Prior Model MSE",
       "version": 1
      }
     },
     "metadata": {
      "scrapbook": {
       "data": true,
       "display": false,
       "name": "Prior Model MSE"
      }
     },
     "output_type": "display_data"
    },
    {
     "data": {
      "application/scrapbook.scrap.json+json": {
       "data": 1.0820099898975468,
       "encoder": "json",
       "name": "ABC Pre-generator MSE",
       "version": 1
      }
     },
     "metadata": {
      "scrapbook": {
       "data": true,
       "display": false,
       "name": "ABC Pre-generator MSE"
      }
     },
     "output_type": "display_data"
    },
    {
     "data": {
      "application/scrapbook.scrap.json+json": {
       "data": 0.19844027866833547,
       "encoder": "json",
       "name": "Prior Model MSE",
       "version": 1
      }
     },
     "metadata": {
      "scrapbook": {
       "data": true,
       "display": false,
       "name": "Prior Model MSE"
      }
     },
     "output_type": "display_data"
    },
    {
     "data": {
      "application/scrapbook.scrap.json+json": {
       "data": 0.9977013195852854,
       "encoder": "json",
       "name": "ABC Pre-generator MSE",
       "version": 1
      }
     },
     "metadata": {
      "scrapbook": {
       "data": true,
       "display": false,
       "name": "ABC Pre-generator MSE"
      }
     },
     "output_type": "display_data"
    }
   ],
   "source": [
    "y_pred = prior_model.predict(X_test)\n",
    "y_abc = y_pred + np.random.normal(0,variance, y_pred.shape) + bias \n",
    "mse = mean_squared_error(y_pred,Y_test)\n",
    "sb.glue(\"Prior Model MSE\",mse)\n",
    "mse = mean_squared_error(y_abc,Y_test)\n",
    "sb.glue(\"ABC Pre-generator MSE\",mse)\n",
    "mae = mean_absolute_error(y_pred,Y_test)\n",
    "sb.glue(\"Prior Model MSE\",mae)\n",
    "mae = mean_absolute_error(y_abc,Y_test)\n",
    "sb.glue(\"ABC Pre-generator MSE\",mae)"
   ]
  },
  {
   "cell_type": "markdown",
   "id": "25609da2",
   "metadata": {
    "papermill": {
     "duration": 0.009907,
     "end_time": "2022-06-11T18:00:08.450358",
     "exception": false,
     "start_time": "2022-06-11T18:00:08.440451",
     "status": "completed"
    },
    "tags": []
   },
   "source": [
    "# ABC GAN Model"
   ]
  },
  {
   "cell_type": "code",
   "execution_count": 11,
   "id": "dfc3464d",
   "metadata": {
    "execution": {
     "iopub.execute_input": "2022-06-11T18:00:08.472957Z",
     "iopub.status.busy": "2022-06-11T18:00:08.472584Z",
     "iopub.status.idle": "2022-06-11T18:00:08.475170Z",
     "shell.execute_reply": "2022-06-11T18:00:08.475425Z"
    },
    "papermill": {
     "duration": 0.0153,
     "end_time": "2022-06-11T18:00:08.475540",
     "exception": false,
     "start_time": "2022-06-11T18:00:08.460240",
     "status": "completed"
    },
    "tags": []
   },
   "outputs": [],
   "source": [
    "gen = network.Generator(n_features+1).to(device)\n",
    "disc = network.Discriminator(n_features+1).to(device)\n",
    "\n",
    "criterion = torch.nn.BCELoss()\n",
    "gen_opt = torch.optim.Adam(gen.parameters(), lr=0.001, betas=(0.5, 0.999))\n",
    "disc_opt = torch.optim.Adam(disc.parameters(), lr=0.001, betas=(0.5, 0.999))"
   ]
  },
  {
   "cell_type": "code",
   "execution_count": 12,
   "id": "b75fdd85",
   "metadata": {
    "execution": {
     "iopub.execute_input": "2022-06-11T18:00:08.498633Z",
     "iopub.status.busy": "2022-06-11T18:00:08.498252Z",
     "iopub.status.idle": "2022-06-11T18:01:09.639403Z",
     "shell.execute_reply": "2022-06-11T18:01:09.639714Z"
    },
    "papermill": {
     "duration": 61.154141,
     "end_time": "2022-06-11T18:01:09.639840",
     "exception": false,
     "start_time": "2022-06-11T18:00:08.485699",
     "status": "completed"
    },
    "tags": []
   },
   "outputs": [
    {
     "data": {
      "image/png": "[encoded data removed]",
      "text/plain": [
       "<Figure size 432x288 with 1 Axes>"
      ]
     },
     "metadata": {
      "needs_background": "light"
     },
     "output_type": "display_data"
    },
    {
     "data": {
      "image/png": "[encoded data removed]",
      "text/plain": [
       "<Figure size 432x288 with 1 Axes>"
      ]
     },
     "metadata": {
      "needs_background": "light"
     },
     "output_type": "display_data"
    }
   ],
   "source": [
    "#Training the ABC_GAN \n",
    "ABC_train_test2.training_GAN(disc,gen,disc_opt,gen_opt,train_data,batch_size,n_epochs,criterion,prior_model,variance,bias,device)"
   ]
  },
  {
   "cell_type": "code",
   "execution_count": 13,
   "id": "1fa7c368",
   "metadata": {
    "execution": {
     "iopub.execute_input": "2022-06-11T18:01:09.664564Z",
     "iopub.status.busy": "2022-06-11T18:01:09.664179Z",
     "iopub.status.idle": "2022-06-11T18:01:09.968105Z",
     "shell.execute_reply": "2022-06-11T18:01:09.968466Z"
    },
    "papermill": {
     "duration": 0.317755,
     "end_time": "2022-06-11T18:01:09.968595",
     "exception": false,
     "start_time": "2022-06-11T18:01:09.650840",
     "status": "completed"
    },
    "tags": []
   },
   "outputs": [
    {
     "data": {
      "application/scrapbook.scrap.json+json": {
       "data": 0.11446531366058527,
       "encoder": "json",
       "name": "ABC-GAN Model 1 MSE",
       "version": 1
      }
     },
     "metadata": {
      "scrapbook": {
       "data": true,
       "display": false,
       "name": "ABC-GAN Model 1 MSE"
      }
     },
     "output_type": "display_data"
    },
    {
     "data": {
      "application/scrapbook.scrap.json+json": {
       "data": 0.23387959066413197,
       "encoder": "json",
       "name": "ABC-GAN Model 1 MAE",
       "version": 1
      }
     },
     "metadata": {
      "scrapbook": {
       "data": true,
       "display": false,
       "name": "ABC-GAN Model 1 MAE"
      }
     },
     "output_type": "display_data"
    },
    {
     "data": {
      "application/scrapbook.scrap.json+json": {
       "data": 23.85571824774146,
       "encoder": "json",
       "name": "ABC-GAN Model 1 Manhattan Distance",
       "version": 1
      }
     },
     "metadata": {
      "scrapbook": {
       "data": true,
       "display": false,
       "name": "ABC-GAN Model 1 Manhattan Distance"
      }
     },
     "output_type": "display_data"
    },
    {
     "data": {
      "application/scrapbook.scrap.json+json": {
       "data": 3.416924235253949,
       "encoder": "json",
       "name": "ABC-GAN Model 1 Euclidean distance",
       "version": 1
      }
     },
     "metadata": {
      "scrapbook": {
       "data": true,
       "display": false,
       "name": "ABC-GAN Model 1 Euclidean distance"
      }
     },
     "output_type": "display_data"
    },
    {
     "data": {
      "application/scrapbook.scrap.json+json": {
       "data": [
        [
         0.11377750741641725,
         0.11518788302279642,
         0.11333135868070732,
         0.11411580475438077,
         0.11492960962680883,
         0.11422864025976436,
         0.11428161558949868,
         0.11467405580434747,
         0.11546667966966306,
         0.11435416472977898,
         0.1144866080359162,
         0.11475031808248731,
         0.1138601482758907,
         0.11353696537538827,
         0.11541828318187357,
         0.11502317452063203,
         0.1132339121676733,
         0.1147390948668277,
         0.1149058762514489,
         0.11353499793607207,
         0.1143332421853438,
         0.11473778669570368,
         0.11412600317050829,
         0.11472039947423096,
         0.11444666964045595,
         0.11546636150096098,
         0.11450435242049053,
         0.1135493229532365,
         0.1137094876406493,
         0.11504248948770972,
         0.11475362483450098,
         0.11504003167407859,
         0.11441539882208272,
         0.11404316683035128,
         0.11420562088022626,
         0.11371547992087172,
         0.11434080905942696,
         0.1137036894381918,
         0.11370652516632329,
         0.11515237114534027,
         0.11375767759600078,
         0.11542526767140254,
         0.11545844330049965,
         0.1143723129940733,
         0.11418672749523882,
         0.11645714797154262,
         0.11352102258953842,
         0.11448368546407801,
         0.1134275841996938,
         0.11468998076846149,
         0.11466116915641505,
         0.1153972504823798,
         0.11451856154734606,
         0.11359719128303747,
         0.1148717822384179,
         0.11530784697151733,
         0.11340410060745669,
         0.11455757574412939,
         0.11527263860159287,
         0.11467408340759382,
         0.11305019804757853,
         0.11334632474759902,
         0.11481694580409688,
         0.11485401737017077,
         0.11475288229163665,
         0.11380942907347663,
         0.11446246413418028,
         0.11449696798748406,
         0.11429924701645287,
         0.11564530681131105,
         0.11533818986990305,
         0.1154713280628244,
         0.11501029095711636,
         0.11404089910551682,
         0.11377668563720642,
         0.11385282632631805,
         0.11484613579032171,
         0.11469440574328114,
         0.11463271703605404,
         0.1140908698474534,
         0.11417422656827553,
         0.1146263648539195,
         0.11500656033219005,
         0.11442505807562355,
         0.11471048828318688,
         0.1143331320604618,
         0.11461890996936629,
         0.11450286304303157,
         0.11440322841074622,
         0.11433222124555628,
         0.11543899435281044,
         0.11404636700273955,
         0.1144980469705713,
         0.1154023260182335,
         0.11473065342121214,
         0.11409155505663159,
         0.11384209227336811,
         0.1135200543481149,
         0.11423209994415016,
         0.11471641088888276
        ],
        [
         0.23233112866314604,
         0.2343729575548102,
         0.2325879808734445,
         0.23437934153366322,
         0.23477654250375196,
         0.23432931512155952,
         0.2334238901807397,
         0.23420536120002175,
         0.23632496924084775,
         0.23372265502956568,
         0.23382645268358437,
         0.23416050921614265,
         0.23304789977184698,
         0.23190516726497343,
         0.23412450176535868,
         0.2349406661210107,
         0.2329808392872413,
         0.23449779630583875,
         0.23468996233799877,
         0.23326865002951203,
         0.23393054898170865,
         0.23398926872394832,
         0.23286928623622538,
         0.2341822522016717,
         0.23384135530567637,
         0.23465472470749826,
         0.23345585218539425,
         0.23318828218707852,
         0.2316153441720149,
         0.23601137905144223,
         0.23379820117763445,
         0.23553169263052007,
         0.23470719706486254,
         0.23417756290120237,
         0.23476692997649604,
         0.23234834182350075,
         0.23296592070483693,
         0.23384539658824602,
         0.23327963499754084,
         0.23367952570026995,
         0.23370076529681683,
         0.23435216576007067,
         0.23505046025064646,
         0.23414760115830338,
         0.2340791531856738,
         0.23561370204768928,
         0.23240045395990214,
         0.23314609736496328,
         0.23349568105357535,
         0.23361997010515018,
         0.23402433970249167,
         0.2342730543996189,
         0.2320455061454399,
         0.2332277884889467,
         0.2342472237845262,
         0.23473157521848584,
         0.2318275197609967,
         0.23446143714382367,
         0.23446325760553866,
         0.2354923970632109,
         0.23236960873884313,
         0.23284474121151016,
         0.23421047171395198,
         0.23461068637084728,
         0.23460257758258604,
         0.23399246849265753,
         0.23375507119093455,
         0.23386022693240174,
         0.23260344265430583,
         0.23446166336390317,
         0.23558998027560757,
         0.2350556896086417,
         0.23526094890400476,
         0.23382095422814875,
         0.23331596647553585,
         0.23294119569746888,
         0.23430372164676003,
         0.23423059956700193,
         0.23381775595686016,
         0.23335140600216156,
         0.23346981088466504,
         0.23295044026100167,
         0.23445802156393433,
         0.2344562724670943,
         0.234257425126784,
         0.23366235879560313,
         0.23347164778148427,
         0.23313991904404818,
         0.23359592306409396,
         0.23316276584770165,
         0.2346517655487154,
         0.23272794567267685,
         0.23427754363008574,
         0.23610539664970895,
         0.23377223612338888,
         0.23302444318930307,
         0.23371822620723762,
         0.23374298777358204,
         0.2331049804228778,
         0.23407434624638043
        ],
        [
         23.697775123640895,
         23.90604167059064,
         23.72397404909134,
         23.90669283643365,
         23.9472073353827,
         23.901590142399073,
         23.80923679843545,
         23.88894684240222,
         24.10514686256647,
         23.8397108130157,
         23.850298173725605,
         23.88437194004655,
         23.77088577672839,
         23.65432706102729,
         23.880699180066586,
         23.96394794434309,
         23.764045607298613,
         23.918775223195553,
         23.938376158475876,
         23.793402303010225,
         23.86091599613428,
         23.86690540984273,
         23.75266719609499,
         23.886589724570513,
         23.85181824117899,
         23.934781920164824,
         23.812496922910213,
         23.78520478308201,
         23.62476510554552,
         24.07316066324711,
         23.847416520118713,
         24.024232648313046,
         23.94013410061598,
         23.88611141592264,
         23.946226857602596,
         23.699530865997076,
         23.762523911893368,
         23.852230452001095,
         23.794522769749165,
         23.835311621427536,
         23.837478060275316,
         23.90392090752721,
         23.97514694556594,
         23.883055318146944,
         23.876073624938726,
         24.032597608864307,
         23.704846303910017,
         23.780901931226254,
         23.816559467464685,
         23.829236950725317,
         23.87048264965415,
         23.89585154876113,
         23.66864162683487,
         23.789234425872564,
         23.89321682602167,
         23.942620672285557,
         23.646407015621662,
         23.915066588670015,
         23.915252275764942,
         24.02022450044751,
         23.701700091362,
         23.750163603574038,
         23.889468114823103,
         23.93029000982642,
         23.929462913423777,
         23.867231786251068,
         23.843017261475325,
         23.85374314710498,
         23.725551150739193,
         23.915089663118124,
         24.030177988111973,
         23.975680340081453,
         23.996616788208485,
         23.84973733127117,
         23.798228580504656,
         23.760001961141825,
         23.898979607969522,
         23.891521155834198,
         23.849411107599735,
         23.801843412220478,
         23.813920710235834,
         23.76094490662217,
         23.914718199521303,
         23.91453979164362,
         23.894257362931967,
         23.833560597151518,
         23.814108073711395,
         23.780271742492914,
         23.826784152537584,
         23.78260211646557,
         23.93448008596897,
         23.738250458613038,
         23.896309450268745,
         24.08275045827031,
         23.844768084585667,
         23.768493205308914,
         23.839259073138237,
         23.84178475290537,
         23.776708003133535,
         23.875583317130804
        ],
        [
         3.406656096008894,
         3.427705364865136,
         3.3999703800815895,
         3.411716882296483,
         3.423860420918835,
         3.4134031854581672,
         3.4141946034356128,
         3.4200517089721676,
         3.4318510058430025,
         3.415278144227415,
         3.4172553342797567,
         3.4211887472651523,
         3.4078930623100323,
         3.4030531098249996,
         3.4311317206646414,
         3.4252538301714903,
         3.3985083553086453,
         3.4210214375850416,
         3.4235068829560995,
         3.403023624584371,
         3.414965695714243,
         3.4210019355390275,
         3.4118693297651137,
         3.420742718529348,
         3.4166592313730244,
         3.431846277603066,
         3.4175201457913946,
         3.4032383021513675,
         3.4056376406403293,
         3.425541406514653,
         3.421238040990293,
         3.4255048140027498,
         3.4161924243011303,
         3.410630882504852,
         3.413059233266114,
         3.4057273748685333,
         3.4150786995414246,
         3.405550810470395,
         3.4055932767970067,
         3.4271769514900607,
         3.4063592169341264,
         3.4312355358504694,
         3.4317286047487734,
         3.415549139654629,
         3.412776905177712,
         3.446538711968479,
         3.4028141741994844,
         3.4172117167854785,
         3.4014134691872977,
         3.420289174672672,
         3.4198595371673286,
         3.4308190784713117,
         3.417732183455763,
         3.403955568286669,
         3.422998946584504,
         3.4294898149863,
         3.401061343457448,
         3.418314310577831,
         3.428966190758152,
         3.4200521205932763,
         3.395750314857235,
         3.400194865629777,
         3.422181829187029,
         3.4227342537447187,
         3.421226971971741,
         3.407133951797994,
         3.4168949854636135,
         3.417409945371402,
         3.414457965135637,
         3.4345045195418984,
         3.4299410150511496,
         3.4319200839192168,
         3.4250619961726048,
         3.4105969724906977,
         3.4066437933830196,
         3.40778348568163,
         3.4226168132896233,
         3.420355154923926,
         3.419435207410357,
         3.411344122840767,
         3.4125900881828892,
         3.4193404649288413,
         3.425006445816326,
         3.4163366233018664,
         3.420594948965028,
         3.414964051079762,
         3.419229272347112,
         3.4174979195881336,
         3.4160107285979233,
         3.4149504486956674,
         3.431439555636477,
         3.4106787351316794,
         3.41742604762682,
         3.430894526775753,
         3.420895591649011,
         3.4113543667840225,
         3.407622838854609,
         3.402799662558423,
         3.4134548765588386,
         3.420683252022327
        ]
       ],
       "encoder": "json",
       "name": "ABC_GAN_1 Metrics",
       "version": 1
      }
     },
     "metadata": {
      "scrapbook": {
       "data": true,
       "display": false,
       "name": "ABC_GAN_1 Metrics"
      }
     },
     "output_type": "display_data"
    },
    {
     "name": "stdout",
     "output_type": "stream",
     "text": [
      "MSE\n",
      "0.11446531366058527\n"
     ]
    }
   ],
   "source": [
    "ABC_GAN1_metrics=ABC_train_test2.test_generator(gen,test_data,prior_model,variance,bias,\"1\",device)\n",
    "sb.glue(\"ABC_GAN_1 Metrics\",ABC_GAN1_metrics)\n",
    "\n",
    "print(\"MSE\")\n",
    "print(mean(ABC_GAN1_metrics[0]))"
   ]
  },
  {
   "cell_type": "code",
   "execution_count": 14,
   "id": "eb22ce5c",
   "metadata": {
    "execution": {
     "iopub.execute_input": "2022-06-11T18:01:09.996732Z",
     "iopub.status.busy": "2022-06-11T18:01:09.996364Z",
     "iopub.status.idle": "2022-06-11T18:01:10.322087Z",
     "shell.execute_reply": "2022-06-11T18:01:10.322464Z"
    },
    "papermill": {
     "duration": 0.341031,
     "end_time": "2022-06-11T18:01:10.322583",
     "exception": false,
     "start_time": "2022-06-11T18:01:09.981552",
     "status": "completed"
    },
    "tags": []
   },
   "outputs": [
    {
     "data": {
      "image/png": "[encoded data removed]",
      "text/plain": [
       "<Figure size 432x288 with 1 Axes>"
      ]
     },
     "metadata": {
      "needs_background": "light"
     },
     "output_type": "display_data"
    },
    {
     "data": {
      "image/png": "[encoded data removed]",
      "text/plain": [
       "<Figure size 432x288 with 1 Axes>"
      ]
     },
     "metadata": {
      "needs_background": "light"
     },
     "output_type": "display_data"
    },
    {
     "data": {
      "image/png": "[encoded data removed]",
      "text/plain": [
       "<Figure size 432x288 with 1 Axes>"
      ]
     },
     "metadata": {
      "needs_background": "light"
     },
     "output_type": "display_data"
    },
    {
     "data": {
      "image/png": "[encoded data removed]",
      "text/plain": [
       "<Figure size 432x288 with 1 Axes>"
      ]
     },
     "metadata": {
      "needs_background": "light"
     },
     "output_type": "display_data"
    }
   ],
   "source": [
    "sanityChecks.discProbVsError(train_data,disc,device)\n",
    "sanityChecks.discProbVsError(test_data,disc,device)"
   ]
  },
  {
   "cell_type": "markdown",
   "id": "130f3a4d",
   "metadata": {
    "id": "130f3a4d",
    "papermill": {
     "duration": 0.014627,
     "end_time": "2022-06-11T18:01:10.353000",
     "exception": false,
     "start_time": "2022-06-11T18:01:10.338373",
     "status": "completed"
    },
    "tags": []
   },
   "source": [
    "# ABC - GAN Model with skip connection"
   ]
  },
  {
   "cell_type": "code",
   "execution_count": 15,
   "id": "4e43dad1",
   "metadata": {
    "execution": {
     "iopub.execute_input": "2022-06-11T18:01:10.386474Z",
     "iopub.status.busy": "2022-06-11T18:01:10.386021Z",
     "iopub.status.idle": "2022-06-11T18:01:10.387977Z",
     "shell.execute_reply": "2022-06-11T18:01:10.388231Z"
    },
    "id": "4e43dad1",
    "papermill": {
     "duration": 0.020596,
     "end_time": "2022-06-11T18:01:10.388353",
     "exception": false,
     "start_time": "2022-06-11T18:01:10.367757",
     "status": "completed"
    },
    "tags": []
   },
   "outputs": [],
   "source": [
    "#Generator\n",
    "gen3 = network.GeneratorWithSkipConnection(n_features+1).to(device)\n",
    "constraints=network.weightConstraint()\n",
    "#Discriminator \n",
    "disc3 = network.Discriminator(n_features+1).to(device)\n",
    "\n",
    "criterion = torch.nn.BCELoss()\n",
    "gen_opt = torch.optim.Adam(gen3.parameters(), lr=0.001, betas=(0.5, 0.999))\n",
    "disc_opt = torch.optim.Adam(disc3.parameters(), lr=0.001, betas=(0.5, 0.999))\n"
   ]
  },
  {
   "cell_type": "code",
   "execution_count": 16,
   "id": "26acbc37",
   "metadata": {
    "execution": {
     "iopub.execute_input": "2022-06-11T18:01:10.420892Z",
     "iopub.status.busy": "2022-06-11T18:01:10.420523Z",
     "iopub.status.idle": "2022-06-11T18:04:14.908946Z",
     "shell.execute_reply": "2022-06-11T18:04:14.909378Z"
    },
    "id": "26acbc37",
    "papermill": {
     "duration": 184.5061,
     "end_time": "2022-06-11T18:04:14.909575",
     "exception": false,
     "start_time": "2022-06-11T18:01:10.403475",
     "status": "completed"
    },
    "tags": []
   },
   "outputs": [
    {
     "data": {
      "image/png": "[encoded data removed]",
      "text/plain": [
       "<Figure size 432x288 with 1 Axes>"
      ]
     },
     "metadata": {
      "needs_background": "light"
     },
     "output_type": "display_data"
    },
    {
     "data": {
      "image/png": "[encoded data removed]",
      "text/plain": [
       "<Figure size 432x288 with 1 Axes>"
      ]
     },
     "metadata": {
      "needs_background": "light"
     },
     "output_type": "display_data"
    }
   ],
   "source": [
    "ABC_train_test2.training_GAN_skip_connection(disc3,gen3,disc_opt,gen_opt,train_data,batch_size,n_epochs,criterion,prior_model,variance,bias,device)"
   ]
  },
  {
   "cell_type": "code",
   "execution_count": 17,
   "id": "c5e0717b",
   "metadata": {
    "execution": {
     "iopub.execute_input": "2022-06-11T18:04:14.944900Z",
     "iopub.status.busy": "2022-06-11T18:04:14.944520Z",
     "iopub.status.idle": "2022-06-11T18:04:15.781336Z",
     "shell.execute_reply": "2022-06-11T18:04:15.781733Z"
    },
    "id": "c5e0717b",
    "papermill": {
     "duration": 0.856062,
     "end_time": "2022-06-11T18:04:15.781866",
     "exception": false,
     "start_time": "2022-06-11T18:04:14.925804",
     "status": "completed"
    },
    "tags": []
   },
   "outputs": [
    {
     "data": {
      "application/scrapbook.scrap.json+json": {
       "data": 0.07815569013349502,
       "encoder": "json",
       "name": "ABC-GAN Model 3 MSE",
       "version": 1
      }
     },
     "metadata": {
      "scrapbook": {
       "data": true,
       "display": false,
       "name": "ABC-GAN Model 3 MSE"
      }
     },
     "output_type": "display_data"
    },
    {
     "data": {
      "application/scrapbook.scrap.json+json": {
       "data": 0.1962030928523517,
       "encoder": "json",
       "name": "ABC-GAN Model 3 MAE",
       "version": 1
      }
     },
     "metadata": {
      "scrapbook": {
       "data": true,
       "display": false,
       "name": "ABC-GAN Model 3 MAE"
      }
     },
     "output_type": "display_data"
    },
    {
     "data": {
      "application/scrapbook.scrap.json+json": {
       "data": 20.012715470939874,
       "encoder": "json",
       "name": "ABC-GAN Model 3 Manhattan Distance",
       "version": 1
      }
     },
     "metadata": {
      "scrapbook": {
       "data": true,
       "display": false,
       "name": "ABC-GAN Model 3 Manhattan Distance"
      }
     },
     "output_type": "display_data"
    },
    {
     "data": {
      "application/scrapbook.scrap.json+json": {
       "data": 2.823435118598101,
       "encoder": "json",
       "name": "ABC-GAN Model 3 Euclidean distance",
       "version": 1
      }
     },
     "metadata": {
      "scrapbook": {
       "data": true,
       "display": false,
       "name": "ABC-GAN Model 3 Euclidean distance"
      }
     },
     "output_type": "display_data"
    },
    {
     "data": {
      "application/scrapbook.scrap.json+json": {
       "data": [
        [
         0.07906839820582404,
         0.07824395746025915,
         0.07878481285717748,
         0.07871925966383705,
         0.07835326052148932,
         0.07933968344380662,
         0.07760883194400335,
         0.0781751822272327,
         0.07843487172485047,
         0.07780346815108816,
         0.07891146532034028,
         0.07803397181171323,
         0.07791038510328488,
         0.07867249264630002,
         0.07802816528290069,
         0.07848895546826096,
         0.07863586405068729,
         0.0782004006554997,
         0.0779222235828147,
         0.07788560368556734,
         0.07876390541779475,
         0.07806933553642038,
         0.07888093667039478,
         0.07815741789225268,
         0.07890294584750948,
         0.07916563500676693,
         0.07823351351458424,
         0.07775166260659373,
         0.07861435468133467,
         0.0787114090247381,
         0.07819944205042878,
         0.07825484499595026,
         0.07735815185155884,
         0.07825290770905882,
         0.07811763795101016,
         0.07793749354267153,
         0.07758233862220146,
         0.0784199378027251,
         0.07842042966995669,
         0.07668064125406288,
         0.07792309142204201,
         0.07839442949692903,
         0.07871753577656877,
         0.07918579401398956,
         0.07749164834336626,
         0.07824133129144155,
         0.07711421465405864,
         0.07764278382252361,
         0.07783698509364413,
         0.07862511866307877,
         0.07820747671180268,
         0.07814661393353446,
         0.07874722818075792,
         0.07816471138332191,
         0.07817793067728104,
         0.07777158018688024,
         0.07845690224165489,
         0.07782501753007728,
         0.07761122255151753,
         0.07787378825111677,
         0.07771075734363715,
         0.07850814914415773,
         0.07836284171426114,
         0.07766109511456308,
         0.07832275370159458,
         0.0774031918345679,
         0.077984800137414,
         0.07891446342235202,
         0.07823194233754181,
         0.07754561123761912,
         0.07732357834092057,
         0.07810199233604402,
         0.07771550651319631,
         0.07770478803826616,
         0.07866611215900582,
         0.07848740852514477,
         0.07806151740178871,
         0.07741057973564161,
         0.07748308821516996,
         0.07882995673499472,
         0.07803507106880318,
         0.07675313700124012,
         0.07817549595698495,
         0.07828850279141303,
         0.07820656248801003,
         0.07792800224758972,
         0.0785038365259549,
         0.07799608950511437,
         0.07853769230104973,
         0.077214741845935,
         0.07922244737965296,
         0.07812753591072,
         0.07812087021188806,
         0.07874139937459271,
         0.07803351284595633,
         0.07743121755490717,
         0.07823359694345185,
         0.07669656614539833,
         0.07835043433090194,
         0.0786905672515174
        ],
        [
         0.19749369826533048,
         0.19593035820506366,
         0.19526859990083703,
         0.1965499244557292,
         0.19672014487578587,
         0.196652732752994,
         0.19395878644404457,
         0.19626250742551157,
         0.19610827010782325,
         0.19456612738762416,
         0.19701727256909304,
         0.19516263343393803,
         0.1948638624493398,
         0.19762163006645792,
         0.19574834278547296,
         0.19700631174240626,
         0.1954353138731391,
         0.1957902563188006,
         0.19673356936112338,
         0.19668359291173665,
         0.19703878129960276,
         0.19563853349901883,
         0.19695878317397014,
         0.19641468830991024,
         0.19813424578922637,
         0.19723472316913745,
         0.1972375041348677,
         0.1967332526384031,
         0.19652736563162476,
         0.19649061761504294,
         0.1970480011009118,
         0.19706434650602295,
         0.1952772259931354,
         0.1960136726425559,
         0.19713640238578414,
         0.19653167644990424,
         0.19540700597652033,
         0.19661553317279207,
         0.1948395838559258,
         0.1952867078065288,
         0.19689704678660513,
         0.19655033124282079,
         0.1962448225959259,
         0.19745950543266885,
         0.19489336061273135,
         0.19618558208001594,
         0.19616745525569307,
         0.1963851228721586,
         0.19602672080052833,
         0.19684997540624702,
         0.19543433353743134,
         0.19690961335950039,
         0.19771910988378757,
         0.1964116867485584,
         0.19618935791739062,
         0.19564937204852992,
         0.19701428320624081,
         0.19597020033089554,
         0.1956007141327741,
         0.19479993624868347,
         0.1965025636714463,
         0.19703258628792622,
         0.1972819557596071,
         0.1951452746768208,
         0.19628131670840815,
         0.1960408254800474,
         0.1969638042809332,
         0.19656013934781738,
         0.1964621312697144,
         0.19595582604262174,
         0.1952027824214276,
         0.19662395554284254,
         0.19578981629627593,
         0.19483013885716596,
         0.1974367706433815,
         0.19667643918564506,
         0.19529169034578053,
         0.19681007776628523,
         0.19405718816115575,
         0.19712383449808055,
         0.19594941825112877,
         0.194766815350044,
         0.19641586345638715,
         0.19498692975178653,
         0.1959609041246129,
         0.19530880710511817,
         0.19528204666487142,
         0.19564694367056967,
         0.1973180545530483,
         0.1947803827112212,
         0.1977329925798318,
         0.19608837099490212,
         0.19356463261533016,
         0.19671173945215403,
         0.19562922765080834,
         0.19628712056460335,
         0.19703726729779852,
         0.19563452925021743,
         0.1975432987525767,
         0.1970337062124528
        ],
        [
         20.144357223063707,
         19.984896536916494,
         19.917397189885378,
         20.048092294484377,
         20.06545477733016,
         20.058578740805387,
         19.783796217292547,
         20.01877575740218,
         20.003043550997972,
         19.845744993537664,
         20.09576180204749,
         19.90658861026168,
         19.87611396983266,
         20.157406266778708,
         19.966330964118242,
         20.09464379772544,
         19.934402015060186,
         19.97060614451766,
         20.066824074834585,
         20.061726476997137,
         20.09795569255948,
         19.95513041689992,
         20.089795883744955,
         20.034298207610846,
         20.20969307050109,
         20.11794176325202,
         20.118225421756506,
         20.066791769117117,
         20.045791294425726,
         20.04204299673438,
         20.098896112293005,
         20.10056334361434,
         19.91827705129981,
         19.9933946095407,
         20.10791304334998,
         20.046230997890234,
         19.931514609605074,
         20.054784383624792,
         19.873637553304434,
         19.919244196265936,
         20.083498772233725,
         20.04813378676772,
         20.01697190478444,
         20.140869554132223,
         19.879122782498598,
         20.010929372161627,
         20.009080436080694,
         20.031282532960176,
         19.99472552165389,
         20.078697491437197,
         19.934302020817995,
         20.08478056266904,
         20.167349208146334,
         20.033992048352957,
         20.011314507573843,
         19.956235948950052,
         20.095456887036562,
         19.988960433751345,
         19.95127284154296,
         19.869593497365713,
         20.043261494487524,
         20.097323801368475,
         20.122759487479925,
         19.904818017035723,
         20.02069430425763,
         19.996164198964834,
         20.090308036655188,
         20.049134213477373,
         20.03913738951087,
         19.987494256347418,
         19.910683806985617,
         20.05564346536994,
         19.970561262220144,
         19.87267416343093,
         20.138550605624914,
         20.060996796935797,
         19.919752415269613,
         20.074627932161093,
         19.793833192437887,
         20.106631118804216,
         19.986840661615133,
         19.86621516570449,
         20.03441807255149,
         19.888666834682226,
         19.988012220710516,
         19.92149832472205,
         19.918768759816885,
         19.955988254398108,
         20.126441564410925,
         19.86759903654456,
         20.168765243142843,
         20.001013841480017,
         19.743592526763678,
         20.06459742411971,
         19.954181220382452,
         20.02128629758954,
         20.09780126437545,
         19.954721983522177,
         20.149416472762823,
         20.097438033670187
        ],
        [
         2.839890247350072,
         2.8250457803275384,
         2.8347929221430093,
         2.833613326781087,
         2.8270183185101416,
         2.8447579354434143,
         2.813556620771713,
         2.823803921517522,
         2.828490218461918,
         2.8170824892805304,
         2.837070577668929,
         2.8212524035957416,
         2.8190174317543795,
         2.832771478591699,
         2.821147436568296,
         2.8294652246957583,
         2.8321119563269566,
         2.8242593483709966,
         2.8192315984053344,
         2.8185690653109545,
         2.834416757044571,
         2.8218916039980835,
         2.8365217327530328,
         2.8234830661808075,
         2.8369174250312543,
         2.841635932115552,
         2.8248572315229654,
         2.816144454013778,
         2.831724594217477,
         2.8334720257174384,
         2.824242037988907,
         2.8252423240470765,
         2.8090089869665777,
         2.8252073528015598,
         2.822764437745919,
         2.819507818991197,
         2.813076347962235,
         2.8282209347711786,
         2.8282298043715577,
         2.7966811416238375,
         2.8192472976041465,
         2.827760917879508,
         2.8335822997065065,
         2.841997711017187,
         2.811431687063258,
         2.8249983702167043,
         2.804576598118507,
         2.814171982999157,
         2.8176892091839547,
         2.8319184493261864,
         2.8243871237144305,
         2.823287909728746,
         2.83411666563628,
         2.8236148039523434,
         2.8238535601342125,
         2.816505135635613,
         2.8288874188713833,
         2.8174725886985805,
         2.813599953841126,
         2.818355265330102,
         2.8154035677058786,
         2.8298111620219624,
         2.8271911599420783,
         2.814503810920396,
         2.826467915537455,
         2.8098266080179974,
         2.820363383327799,
         2.837124471904591,
         2.8248288653349007,
         2.8124104156820975,
         2.8083812046753724,
         2.8224817480856257,
         2.8154895958511412,
         2.8152954338582563,
         2.8326566047120134,
         2.8294373415159355,
         2.821750303443316,
         2.809960699553544,
         2.811276400133458,
         2.835604977243738,
         2.821272274882012,
         2.798002854560104,
         2.823809587704607,
         2.82584983407189,
         2.824370615513662,
         2.819336132718862,
         2.8297334372070098,
         2.820567519050318,
         2.830343550650181,
         2.8064040458004915,
         2.8426553840950546,
         2.822943262429027,
         2.822822835675767,
         2.8340117741831024,
         2.8212441068237157,
         2.810335245233303,
         2.824858737748153,
         2.796971531287122,
         2.8269673329828193,
         2.8330968673264194
        ]
       ],
       "encoder": "json",
       "name": "ABC_GAN_3 Metrics",
       "version": 1
      }
     },
     "metadata": {
      "scrapbook": {
       "data": true,
       "display": false,
       "name": "ABC_GAN_3 Metrics"
      }
     },
     "output_type": "display_data"
    },
    {
     "name": "stdout",
     "output_type": "stream",
     "text": [
      "MSE\n",
      "0.07815569013349502\n"
     ]
    }
   ],
   "source": [
    "ABC_GAN3_metrics=ABC_train_test2.test_generator(gen3,test_data,prior_model,variance,bias,\"3\",device)\n",
    "sb.glue(\"ABC_GAN_3 Metrics\",ABC_GAN3_metrics)\n",
    "\n",
    "print(\"MSE\")\n",
    "print(mean(ABC_GAN3_metrics[0]))"
   ]
  },
  {
   "cell_type": "code",
   "execution_count": 18,
   "id": "c8e46b48",
   "metadata": {
    "execution": {
     "iopub.execute_input": "2022-06-11T18:04:15.819635Z",
     "iopub.status.busy": "2022-06-11T18:04:15.819267Z",
     "iopub.status.idle": "2022-06-11T18:04:16.146627Z",
     "shell.execute_reply": "2022-06-11T18:04:16.146988Z"
    },
    "id": "c8e46b48",
    "papermill": {
     "duration": 0.347595,
     "end_time": "2022-06-11T18:04:16.147107",
     "exception": false,
     "start_time": "2022-06-11T18:04:15.799512",
     "status": "completed"
    },
    "tags": []
   },
   "outputs": [
    {
     "data": {
      "image/png": "[encoded data removed]",
      "text/plain": [
       "<Figure size 432x288 with 1 Axes>"
      ]
     },
     "metadata": {
      "needs_background": "light"
     },
     "output_type": "display_data"
    },
    {
     "data": {
      "image/png": "[encoded data removed]",
      "text/plain": [
       "<Figure size 432x288 with 1 Axes>"
      ]
     },
     "metadata": {
      "needs_background": "light"
     },
     "output_type": "display_data"
    },
    {
     "data": {
      "image/png": "[encoded data removed]",
      "text/plain": [
       "<Figure size 432x288 with 1 Axes>"
      ]
     },
     "metadata": {
      "needs_background": "light"
     },
     "output_type": "display_data"
    },
    {
     "data": {
      "image/png": "[encoded data removed]",
      "text/plain": [
       "<Figure size 432x288 with 1 Axes>"
      ]
     },
     "metadata": {
      "needs_background": "light"
     },
     "output_type": "display_data"
    }
   ],
   "source": [
    "sanityChecks.discProbVsError(train_data,disc3,device)\n",
    "sanityChecks.discProbVsError(test_data,disc3,device)"
   ]
  },
  {
   "cell_type": "markdown",
   "id": "a5bd74c3",
   "metadata": {
    "id": "a5bd74c3",
    "papermill": {
     "duration": 0.019572,
     "end_time": "2022-06-11T18:04:16.186518",
     "exception": false,
     "start_time": "2022-06-11T18:04:16.166946",
     "status": "completed"
    },
    "tags": []
   },
   "source": [
    "## Skip Connection Model Analysis - ABC-GAN "
   ]
  },
  {
   "cell_type": "markdown",
   "id": "5744a8bf",
   "metadata": {
    "id": "5744a8bf",
    "papermill": {
     "duration": 0.019199,
     "end_time": "2022-06-11T18:04:16.224991",
     "exception": false,
     "start_time": "2022-06-11T18:04:16.205792",
     "status": "completed"
    },
    "tags": []
   },
   "source": [
    "### Weight Analysis \n",
    "\n",
    "Study the weights of the skip connection layer\n",
    "\n",
    "Equation of the skip connection is \n",
    "\n",
    "$output = y_{gan} * w + y_{abc} * (1-w)$"
   ]
  },
  {
   "cell_type": "code",
   "execution_count": 19,
   "id": "52c31dea",
   "metadata": {
    "execution": {
     "iopub.execute_input": "2022-06-11T18:04:16.266321Z",
     "iopub.status.busy": "2022-06-11T18:04:16.265912Z",
     "iopub.status.idle": "2022-06-11T18:04:16.269263Z",
     "shell.execute_reply": "2022-06-11T18:04:16.269504Z"
    },
    "id": "52c31dea",
    "papermill": {
     "duration": 0.025449,
     "end_time": "2022-06-11T18:04:16.269615",
     "exception": false,
     "start_time": "2022-06-11T18:04:16.244166",
     "status": "completed"
    },
    "tags": []
   },
   "outputs": [
    {
     "name": "stdout",
     "output_type": "stream",
     "text": [
      "Weight of the node at skip connection\n",
      "Parameter containing:\n",
      "tensor([[0.3311]], requires_grad=True)\n"
     ]
    },
    {
     "data": {
      "application/scrapbook.scrap.json+json": {
       "data": 0.3311346769332886,
       "encoder": "json",
       "name": "Skip Connection Weight",
       "version": 1
      }
     },
     "metadata": {
      "scrapbook": {
       "data": true,
       "display": false,
       "name": "Skip Connection Weight"
      }
     },
     "output_type": "display_data"
    }
   ],
   "source": [
    "print(\"Weight of the node at skip connection\")\n",
    "for name,param in gen3.named_parameters():\n",
    "    if(name == \"skipNode.weight\"):\n",
    "        print(param)\n",
    "        sb.glue(\"Skip Connection Weight\",param.item())"
   ]
  }
 ],
 "metadata": {
  "colab": {
   "collapsed_sections": [],
   "name": "ABC_GAN_Model-Catboost_Pre-gen.ipynb",
   "provenance": []
  },
  "interpreter": {
   "hash": "31f2aee4e71d21fbe5cf8b01ff0e069b9275f58929596ceb00d14d90e3e16cd6"
  },
  "kernelspec": {
   "display_name": "Python 3 (ipykernel)",
   "language": "python",
   "name": "python3"
  },
  "language_info": {
   "codemirror_mode": {
    "name": "ipython",
    "version": 3
   },
   "file_extension": ".py",
   "mimetype": "text/x-python",
   "name": "python",
   "nbconvert_exporter": "python",
   "pygments_lexer": "ipython3",
   "version": "3.8.11"
  },
  "papermill": {
   "default_parameters": {},
   "duration": 252.235539,
   "end_time": "2022-06-11T18:04:16.596996",
   "environment_variables": {},
   "exception": null,
   "input_path": "ABC_GAN-Catboost.ipynb",
   "output_path": "./ABC_GAN_Catboost/ABC-GAN_output_3_2.ipynb",
   "parameters": {
    "bias": 1,
    "variance": 0.01
   },
   "start_time": "2022-06-11T18:00:04.361457",
   "version": "2.3.3"
  }
 },
 "nbformat": 4,
 "nbformat_minor": 5
}