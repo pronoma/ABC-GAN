{
 "cells": [
  {
   "cell_type": "markdown",
   "id": "622780e6",
   "metadata": {
    "id": "622780e6",
    "papermill": {
     "duration": 0.033564,
     "end_time": "2022-06-11T17:39:42.410625",
     "exception": false,
     "start_time": "2022-06-11T17:39:42.377061",
     "status": "completed"
    },
    "tags": []
   },
   "source": [
    "## Import Libraries "
   ]
  },
  {
   "cell_type": "code",
   "execution_count": 1,
   "id": "a62397e3",
   "metadata": {
    "execution": {
     "iopub.execute_input": "2022-06-11T17:39:42.447328Z",
     "iopub.status.busy": "2022-06-11T17:39:42.446807Z",
     "iopub.status.idle": "2022-06-11T17:39:42.449176Z",
     "shell.execute_reply": "2022-06-11T17:39:42.449575Z"
    },
    "id": "a62397e3",
    "papermill": {
     "duration": 0.022682,
     "end_time": "2022-06-11T17:39:42.449787",
     "exception": false,
     "start_time": "2022-06-11T17:39:42.427105",
     "status": "completed"
    },
    "tags": []
   },
   "outputs": [],
   "source": [
    "import warnings\n",
    "import sys\n",
    "sys.path.insert(0, '../../src')\n",
    "warnings.filterwarnings('ignore')"
   ]
  },
  {
   "cell_type": "code",
   "execution_count": 2,
   "id": "d6a4e155",
   "metadata": {
    "execution": {
     "iopub.execute_input": "2022-06-11T17:39:42.470498Z",
     "iopub.status.busy": "2022-06-11T17:39:42.470046Z",
     "iopub.status.idle": "2022-06-11T17:39:44.225007Z",
     "shell.execute_reply": "2022-06-11T17:39:44.225258Z"
    },
    "id": "d6a4e155",
    "papermill": {
     "duration": 1.765857,
     "end_time": "2022-06-11T17:39:44.225379",
     "exception": false,
     "start_time": "2022-06-11T17:39:42.459522",
     "status": "completed"
    },
    "tags": []
   },
   "outputs": [],
   "source": [
    "import ABC_train_test2\n",
    "import bostonDataset\n",
    "import network\n",
    "import dataset\n",
    "import sanityChecks\n",
    "import torch \n",
    "import scrapbook as sb\n",
    "from statistics import mean \n",
    "import catboost as ctb \n",
    "from sklearn.model_selection import train_test_split\n",
    "from sklearn.metrics import mean_squared_error,mean_absolute_error\n",
    "import numpy as np"
   ]
  },
  {
   "cell_type": "markdown",
   "id": "2fa5b0f7",
   "metadata": {
    "id": "2fa5b0f7",
    "papermill": {
     "duration": 0.00667,
     "end_time": "2022-06-11T17:39:44.239081",
     "exception": false,
     "start_time": "2022-06-11T17:39:44.232411",
     "status": "completed"
    },
    "tags": []
   },
   "source": [
    "## Parameters "
   ]
  },
  {
   "cell_type": "code",
   "execution_count": 3,
   "id": "783186fb",
   "metadata": {
    "execution": {
     "iopub.execute_input": "2022-06-11T17:39:44.254909Z",
     "iopub.status.busy": "2022-06-11T17:39:44.254536Z",
     "iopub.status.idle": "2022-06-11T17:39:44.255790Z",
     "shell.execute_reply": "2022-06-11T17:39:44.256041Z"
    },
    "id": "783186fb",
    "papermill": {
     "duration": 0.010266,
     "end_time": "2022-06-11T17:39:44.256151",
     "exception": false,
     "start_time": "2022-06-11T17:39:44.245885",
     "status": "completed"
    },
    "tags": [
     "parameters"
    ]
   },
   "outputs": [],
   "source": [
    "variance = 1\n",
    "bias = 1 "
   ]
  },
  {
   "cell_type": "code",
   "execution_count": 4,
   "id": "2cbc043f",
   "metadata": {
    "execution": {
     "iopub.execute_input": "2022-06-11T17:39:44.271549Z",
     "iopub.status.busy": "2022-06-11T17:39:44.271189Z",
     "iopub.status.idle": "2022-06-11T17:39:44.272466Z",
     "shell.execute_reply": "2022-06-11T17:39:44.272707Z"
    },
    "papermill": {
     "duration": 0.00978,
     "end_time": "2022-06-11T17:39:44.272812",
     "exception": false,
     "start_time": "2022-06-11T17:39:44.263032",
     "status": "completed"
    },
    "tags": [
     "injected-parameters"
    ]
   },
   "outputs": [],
   "source": [
    "# Parameters\n",
    "variance = 1\n",
    "bias = 0.01\n"
   ]
  },
  {
   "cell_type": "markdown",
   "id": "391cdbfd",
   "metadata": {
    "id": "391cdbfd",
    "papermill": {
     "duration": 0.006732,
     "end_time": "2022-06-11T17:39:44.286338",
     "exception": false,
     "start_time": "2022-06-11T17:39:44.279606",
     "status": "completed"
    },
    "tags": []
   },
   "source": [
    "## Dataset \n"
   ]
  },
  {
   "cell_type": "code",
   "execution_count": 5,
   "id": "5b51f161",
   "metadata": {
    "execution": {
     "iopub.execute_input": "2022-06-11T17:39:44.301818Z",
     "iopub.status.busy": "2022-06-11T17:39:44.301436Z",
     "iopub.status.idle": "2022-06-11T17:39:44.302525Z",
     "shell.execute_reply": "2022-06-11T17:39:44.302761Z"
    },
    "id": "5b51f161",
    "papermill": {
     "duration": 0.009752,
     "end_time": "2022-06-11T17:39:44.302878",
     "exception": false,
     "start_time": "2022-06-11T17:39:44.293126",
     "status": "completed"
    },
    "tags": []
   },
   "outputs": [],
   "source": [
    "#Parameters \n",
    "n_features = 13\n",
    "n_samples= 506\n",
    "n_target = 1 "
   ]
  },
  {
   "cell_type": "code",
   "execution_count": 6,
   "id": "5d6eced4",
   "metadata": {
    "execution": {
     "iopub.execute_input": "2022-06-11T17:39:44.318482Z",
     "iopub.status.busy": "2022-06-11T17:39:44.318118Z",
     "iopub.status.idle": "2022-06-11T17:39:44.328550Z",
     "shell.execute_reply": "2022-06-11T17:39:44.328784Z"
    },
    "id": "5d6eced4",
    "papermill": {
     "duration": 0.019151,
     "end_time": "2022-06-11T17:39:44.328899",
     "exception": false,
     "start_time": "2022-06-11T17:39:44.309748",
     "status": "completed"
    },
    "tags": []
   },
   "outputs": [
    {
     "name": "stdout",
     "output_type": "stream",
     "text": [
      "         X1        X2        X3        X4        X5        X6        X7  \\\n",
      "0 -0.419782  0.284830 -1.287909 -0.272599 -0.144217  0.413672 -0.120013   \n",
      "1 -0.417339 -0.487722 -0.593381 -0.272599 -0.740262  0.194274  0.367166   \n",
      "2 -0.417342 -0.487722 -0.593381 -0.272599 -0.740262  1.282714 -0.265812   \n",
      "3 -0.416750 -0.487722 -1.306878 -0.272599 -0.835284  1.016303 -0.809889   \n",
      "4 -0.412482 -0.487722 -1.306878 -0.272599 -0.835284  1.228577 -0.511180   \n",
      "\n",
      "         X8        X9       X10       X11       X12       X13         Y  \n",
      "0  0.140214 -0.982843 -0.666608 -1.459000  0.441052 -1.075562  0.159686  \n",
      "1  0.557160 -0.867883 -0.987329 -0.303094  0.441052 -0.492439 -0.101524  \n",
      "2  0.557160 -0.867883 -0.987329 -0.303094  0.396427 -1.208727  1.324247  \n",
      "3  1.077737 -0.752922 -1.106115  0.113032  0.416163 -1.361517  1.182758  \n",
      "4  1.077737 -0.752922 -1.106115  0.113032  0.441052 -1.026501  1.487503  \n"
     ]
    }
   ],
   "source": [
    "X,Y = bostonDataset.boston_data()"
   ]
  },
  {
   "cell_type": "code",
   "execution_count": 7,
   "id": "fe007438",
   "metadata": {
    "execution": {
     "iopub.execute_input": "2022-06-11T17:39:44.346084Z",
     "iopub.status.busy": "2022-06-11T17:39:44.345713Z",
     "iopub.status.idle": "2022-06-11T17:39:44.347262Z",
     "shell.execute_reply": "2022-06-11T17:39:44.347505Z"
    },
    "id": "fe007438",
    "papermill": {
     "duration": 0.011322,
     "end_time": "2022-06-11T17:39:44.347616",
     "exception": false,
     "start_time": "2022-06-11T17:39:44.336294",
     "status": "completed"
    },
    "tags": []
   },
   "outputs": [],
   "source": [
    "#Train test split for dataset \n",
    "X_train,X_test,Y_train,Y_test = train_test_split(X,Y,test_size = 0.2)\n",
    "train_data = dataset.CustomDataset(X_train,Y_train)\n",
    "test_data = dataset.CustomDataset(X_test,Y_test)\n"
   ]
  },
  {
   "cell_type": "markdown",
   "id": "a9a1af34",
   "metadata": {
    "id": "a9a1af34",
    "papermill": {
     "duration": 0.007131,
     "end_time": "2022-06-11T17:39:44.362022",
     "exception": false,
     "start_time": "2022-06-11T17:39:44.354891",
     "status": "completed"
    },
    "tags": []
   },
   "source": [
    "## Training Parameters "
   ]
  },
  {
   "cell_type": "code",
   "execution_count": 8,
   "id": "952b7fc8",
   "metadata": {
    "execution": {
     "iopub.execute_input": "2022-06-11T17:39:44.378535Z",
     "iopub.status.busy": "2022-06-11T17:39:44.378174Z",
     "iopub.status.idle": "2022-06-11T17:39:44.379453Z",
     "shell.execute_reply": "2022-06-11T17:39:44.379703Z"
    },
    "id": "952b7fc8",
    "papermill": {
     "duration": 0.010662,
     "end_time": "2022-06-11T17:39:44.379809",
     "exception": false,
     "start_time": "2022-06-11T17:39:44.369147",
     "status": "completed"
    },
    "tags": []
   },
   "outputs": [],
   "source": [
    "batch_size = 32\n",
    "n_epochs = 1000\n",
    "#Select the device \n",
    "device = torch.device('cuda' if torch.cuda.is_available() else 'cpu')"
   ]
  },
  {
   "cell_type": "markdown",
   "id": "a95e1600",
   "metadata": {
    "id": "a95e1600",
    "papermill": {
     "duration": 0.007091,
     "end_time": "2022-06-11T17:39:44.394133",
     "exception": false,
     "start_time": "2022-06-11T17:39:44.387042",
     "status": "completed"
    },
    "tags": []
   },
   "source": [
    "# ABC Pre-generator Model \n",
    "\n",
    "1. The catboost model is used as a pre-generator model for the ABC-GAN. \n",
    "2. The model is first trained on the entire dataset \n",
    "3. It generats X,Y pairs and we add some Gaussian noise with mean 0 and variance 1 to it which is then feed as input to the generator.\n"
   ]
  },
  {
   "cell_type": "code",
   "execution_count": 9,
   "id": "ff8ce7bd",
   "metadata": {
    "execution": {
     "iopub.execute_input": "2022-06-11T17:39:44.413333Z",
     "iopub.status.busy": "2022-06-11T17:39:44.412953Z",
     "iopub.status.idle": "2022-06-11T17:39:45.378728Z",
     "shell.execute_reply": "2022-06-11T17:39:45.378978Z"
    },
    "id": "ff8ce7bd",
    "papermill": {
     "duration": 0.977781,
     "end_time": "2022-06-11T17:39:45.379104",
     "exception": false,
     "start_time": "2022-06-11T17:39:44.401323",
     "status": "completed"
    },
    "tags": []
   },
   "outputs": [
    {
     "name": "stdout",
     "output_type": "stream",
     "text": [
      "Learning rate set to 0.033215\n",
      "0:\tlearn: 0.9831350\ttotal: 58.6ms\tremaining: 58.5s\n",
      "1:\tlearn: 0.9630760\ttotal: 59.4ms\tremaining: 29.7s\n",
      "2:\tlearn: 0.9444045\ttotal: 60.4ms\tremaining: 20.1s\n",
      "3:\tlearn: 0.9270757\ttotal: 61.4ms\tremaining: 15.3s\n",
      "4:\tlearn: 0.9109749\ttotal: 62.4ms\tremaining: 12.4s\n",
      "5:\tlearn: 0.8964149\ttotal: 63.3ms\tremaining: 10.5s\n",
      "6:\tlearn: 0.8786969\ttotal: 64.3ms\tremaining: 9.12s\n",
      "7:\tlearn: 0.8617588\ttotal: 65.4ms\tremaining: 8.11s\n",
      "8:\tlearn: 0.8458159\ttotal: 66.1ms\tremaining: 7.28s\n",
      "9:\tlearn: 0.8287198\ttotal: 66.9ms\tremaining: 6.63s\n",
      "10:\tlearn: 0.8138423\ttotal: 67.8ms\tremaining: 6.1s\n",
      "11:\tlearn: 0.7982699\ttotal: 68.6ms\tremaining: 5.65s\n",
      "12:\tlearn: 0.7833736\ttotal: 69.4ms\tremaining: 5.27s\n",
      "13:\tlearn: 0.7682159\ttotal: 70.1ms\tremaining: 4.94s\n",
      "14:\tlearn: 0.7546022\ttotal: 70.9ms\tremaining: 4.66s\n",
      "15:\tlearn: 0.7403394\ttotal: 71.8ms\tremaining: 4.42s\n",
      "16:\tlearn: 0.7272481\ttotal: 72.6ms\tremaining: 4.2s\n",
      "17:\tlearn: 0.7146104\ttotal: 73.4ms\tremaining: 4s\n",
      "18:\tlearn: 0.7023758\ttotal: 74.3ms\tremaining: 3.84s\n",
      "19:\tlearn: 0.6898661\ttotal: 75.1ms\tremaining: 3.68s\n",
      "20:\tlearn: 0.6785775\ttotal: 75.9ms\tremaining: 3.54s\n",
      "21:\tlearn: 0.6680493\ttotal: 76.7ms\tremaining: 3.41s\n",
      "22:\tlearn: 0.6565464\ttotal: 77.5ms\tremaining: 3.29s\n",
      "23:\tlearn: 0.6463393\ttotal: 78.4ms\tremaining: 3.19s\n",
      "24:\tlearn: 0.6357679\ttotal: 79.2ms\tremaining: 3.09s\n",
      "25:\tlearn: 0.6260612\ttotal: 80ms\tremaining: 3s\n",
      "26:\tlearn: 0.6172135\ttotal: 80.7ms\tremaining: 2.91s\n",
      "27:\tlearn: 0.6084565\ttotal: 81.5ms\tremaining: 2.83s\n",
      "28:\tlearn: 0.5988938\ttotal: 82.3ms\tremaining: 2.75s\n",
      "29:\tlearn: 0.5891278\ttotal: 83.2ms\tremaining: 2.69s\n",
      "30:\tlearn: 0.5808435\ttotal: 84ms\tremaining: 2.63s\n",
      "31:\tlearn: 0.5722319\ttotal: 84.8ms\tremaining: 2.56s\n",
      "32:\tlearn: 0.5650798\ttotal: 85.5ms\tremaining: 2.5s\n",
      "33:\tlearn: 0.5577310\ttotal: 86.4ms\tremaining: 2.45s\n",
      "34:\tlearn: 0.5518740\ttotal: 87.2ms\tremaining: 2.4s\n",
      "35:\tlearn: 0.5443051\ttotal: 88ms\tremaining: 2.35s\n",
      "36:\tlearn: 0.5380344\ttotal: 88.8ms\tremaining: 2.31s\n",
      "37:\tlearn: 0.5312052\ttotal: 89.6ms\tremaining: 2.27s\n",
      "38:\tlearn: 0.5243020\ttotal: 90.5ms\tremaining: 2.23s\n",
      "39:\tlearn: 0.5166870\ttotal: 91.4ms\tremaining: 2.19s\n",
      "40:\tlearn: 0.5115623\ttotal: 92.2ms\tremaining: 2.16s\n",
      "41:\tlearn: 0.5043740\ttotal: 93.1ms\tremaining: 2.12s\n",
      "42:\tlearn: 0.4984630\ttotal: 93.8ms\tremaining: 2.09s\n",
      "43:\tlearn: 0.4920766\ttotal: 94.5ms\tremaining: 2.05s\n",
      "44:\tlearn: 0.4869589\ttotal: 95.3ms\tremaining: 2.02s\n",
      "45:\tlearn: 0.4816738\ttotal: 96.1ms\tremaining: 1.99s\n",
      "46:\tlearn: 0.4773410\ttotal: 96.9ms\tremaining: 1.96s\n",
      "47:\tlearn: 0.4709893\ttotal: 97.8ms\tremaining: 1.94s\n",
      "48:\tlearn: 0.4659063\ttotal: 98.6ms\tremaining: 1.91s\n",
      "49:\tlearn: 0.4614558\ttotal: 99.5ms\tremaining: 1.89s\n",
      "50:\tlearn: 0.4562594\ttotal: 100ms\tremaining: 1.87s\n",
      "51:\tlearn: 0.4514559\ttotal: 101ms\tremaining: 1.84s\n",
      "52:\tlearn: 0.4471155\ttotal: 102ms\tremaining: 1.82s\n",
      "53:\tlearn: 0.4433313\ttotal: 103ms\tremaining: 1.8s\n",
      "54:\tlearn: 0.4387746\ttotal: 103ms\tremaining: 1.77s\n",
      "55:\tlearn: 0.4349170\ttotal: 105ms\tremaining: 1.76s\n",
      "56:\tlearn: 0.4299431\ttotal: 105ms\tremaining: 1.74s\n",
      "57:\tlearn: 0.4252578\ttotal: 106ms\tremaining: 1.73s\n",
      "58:\tlearn: 0.4220946\ttotal: 107ms\tremaining: 1.71s\n"
     ]
    },
    {
     "name": "stdout",
     "output_type": "stream",
     "text": [
      "59:\tlearn: 0.4184574\ttotal: 108ms\tremaining: 1.7s\n",
      "60:\tlearn: 0.4140287\ttotal: 109ms\tremaining: 1.68s\n",
      "61:\tlearn: 0.4105371\ttotal: 110ms\tremaining: 1.67s\n",
      "62:\tlearn: 0.4072688\ttotal: 111ms\tremaining: 1.65s\n",
      "63:\tlearn: 0.4040479\ttotal: 112ms\tremaining: 1.63s\n",
      "64:\tlearn: 0.4007007\ttotal: 113ms\tremaining: 1.62s\n",
      "65:\tlearn: 0.3979308\ttotal: 113ms\tremaining: 1.6s\n",
      "66:\tlearn: 0.3947735\ttotal: 114ms\tremaining: 1.59s\n",
      "67:\tlearn: 0.3909468\ttotal: 115ms\tremaining: 1.58s\n",
      "68:\tlearn: 0.3873709\ttotal: 116ms\tremaining: 1.56s\n",
      "69:\tlearn: 0.3845789\ttotal: 117ms\tremaining: 1.55s\n",
      "70:\tlearn: 0.3814406\ttotal: 118ms\tremaining: 1.54s\n",
      "71:\tlearn: 0.3788909\ttotal: 119ms\tremaining: 1.53s\n",
      "72:\tlearn: 0.3766075\ttotal: 120ms\tremaining: 1.52s\n",
      "73:\tlearn: 0.3733997\ttotal: 121ms\tremaining: 1.51s\n",
      "74:\tlearn: 0.3713459\ttotal: 122ms\tremaining: 1.5s\n",
      "75:\tlearn: 0.3688234\ttotal: 123ms\tremaining: 1.49s\n",
      "76:\tlearn: 0.3662351\ttotal: 124ms\tremaining: 1.48s\n",
      "77:\tlearn: 0.3632930\ttotal: 124ms\tremaining: 1.47s\n",
      "78:\tlearn: 0.3609816\ttotal: 125ms\tremaining: 1.46s\n",
      "79:\tlearn: 0.3588031\ttotal: 126ms\tremaining: 1.45s\n",
      "80:\tlearn: 0.3567650\ttotal: 127ms\tremaining: 1.44s\n",
      "81:\tlearn: 0.3541772\ttotal: 128ms\tremaining: 1.43s\n",
      "82:\tlearn: 0.3511294\ttotal: 128ms\tremaining: 1.42s\n",
      "83:\tlearn: 0.3490617\ttotal: 129ms\tremaining: 1.41s\n",
      "84:\tlearn: 0.3465235\ttotal: 130ms\tremaining: 1.4s\n",
      "85:\tlearn: 0.3442521\ttotal: 131ms\tremaining: 1.39s\n",
      "86:\tlearn: 0.3417809\ttotal: 132ms\tremaining: 1.38s\n",
      "87:\tlearn: 0.3386571\ttotal: 133ms\tremaining: 1.38s\n",
      "88:\tlearn: 0.3366371\ttotal: 134ms\tremaining: 1.37s\n",
      "89:\tlearn: 0.3342878\ttotal: 135ms\tremaining: 1.36s\n",
      "90:\tlearn: 0.3318468\ttotal: 136ms\tremaining: 1.36s\n",
      "91:\tlearn: 0.3302215\ttotal: 137ms\tremaining: 1.35s\n",
      "92:\tlearn: 0.3280751\ttotal: 137ms\tremaining: 1.34s\n",
      "93:\tlearn: 0.3256313\ttotal: 138ms\tremaining: 1.33s\n",
      "94:\tlearn: 0.3239330\ttotal: 139ms\tremaining: 1.32s\n",
      "95:\tlearn: 0.3222727\ttotal: 140ms\tremaining: 1.31s\n",
      "96:\tlearn: 0.3207958\ttotal: 140ms\tremaining: 1.3s\n",
      "97:\tlearn: 0.3194761\ttotal: 141ms\tremaining: 1.3s\n",
      "98:\tlearn: 0.3178961\ttotal: 142ms\tremaining: 1.29s\n",
      "99:\tlearn: 0.3157751\ttotal: 143ms\tremaining: 1.29s\n",
      "100:\tlearn: 0.3138127\ttotal: 144ms\tremaining: 1.28s\n",
      "101:\tlearn: 0.3117201\ttotal: 145ms\tremaining: 1.27s\n",
      "102:\tlearn: 0.3099687\ttotal: 145ms\tremaining: 1.27s\n",
      "103:\tlearn: 0.3083627\ttotal: 146ms\tremaining: 1.26s\n",
      "104:\tlearn: 0.3072508\ttotal: 147ms\tremaining: 1.25s\n",
      "105:\tlearn: 0.3058294\ttotal: 148ms\tremaining: 1.25s\n",
      "106:\tlearn: 0.3036465\ttotal: 149ms\tremaining: 1.24s\n",
      "107:\tlearn: 0.3015598\ttotal: 149ms\tremaining: 1.23s\n",
      "108:\tlearn: 0.3000518\ttotal: 150ms\tremaining: 1.23s\n",
      "109:\tlearn: 0.2989018\ttotal: 152ms\tremaining: 1.23s\n",
      "110:\tlearn: 0.2972980\ttotal: 153ms\tremaining: 1.22s\n",
      "111:\tlearn: 0.2960934\ttotal: 154ms\tremaining: 1.22s\n",
      "112:\tlearn: 0.2948521\ttotal: 155ms\tremaining: 1.21s\n",
      "113:\tlearn: 0.2932641\ttotal: 156ms\tremaining: 1.21s\n",
      "114:\tlearn: 0.2917704\ttotal: 156ms\tremaining: 1.2s\n",
      "115:\tlearn: 0.2902960\ttotal: 157ms\tremaining: 1.2s\n",
      "116:\tlearn: 0.2888901\ttotal: 158ms\tremaining: 1.19s\n",
      "117:\tlearn: 0.2873744\ttotal: 159ms\tremaining: 1.19s\n",
      "118:\tlearn: 0.2861540\ttotal: 160ms\tremaining: 1.18s\n",
      "119:\tlearn: 0.2854089\ttotal: 160ms\tremaining: 1.18s\n",
      "120:\tlearn: 0.2841980\ttotal: 161ms\tremaining: 1.17s\n",
      "121:\tlearn: 0.2834102\ttotal: 162ms\tremaining: 1.17s\n",
      "122:\tlearn: 0.2826948\ttotal: 163ms\tremaining: 1.16s\n",
      "123:\tlearn: 0.2811897\ttotal: 164ms\tremaining: 1.16s\n",
      "124:\tlearn: 0.2797342\ttotal: 164ms\tremaining: 1.15s\n",
      "125:\tlearn: 0.2788162\ttotal: 165ms\tremaining: 1.15s\n",
      "126:\tlearn: 0.2777919\ttotal: 166ms\tremaining: 1.14s\n",
      "127:\tlearn: 0.2768068\ttotal: 167ms\tremaining: 1.14s\n",
      "128:\tlearn: 0.2759257\ttotal: 168ms\tremaining: 1.14s\n",
      "129:\tlearn: 0.2751182\ttotal: 169ms\tremaining: 1.13s\n",
      "130:\tlearn: 0.2743440\ttotal: 170ms\tremaining: 1.13s\n",
      "131:\tlearn: 0.2732909\ttotal: 171ms\tremaining: 1.12s\n",
      "132:\tlearn: 0.2722363\ttotal: 172ms\tremaining: 1.12s\n",
      "133:\tlearn: 0.2714720\ttotal: 172ms\tremaining: 1.11s\n",
      "134:\tlearn: 0.2708727\ttotal: 173ms\tremaining: 1.11s\n",
      "135:\tlearn: 0.2703209\ttotal: 174ms\tremaining: 1.1s\n",
      "136:\tlearn: 0.2699265\ttotal: 175ms\tremaining: 1.1s\n",
      "137:\tlearn: 0.2696685\ttotal: 175ms\tremaining: 1.09s\n",
      "138:\tlearn: 0.2686821\ttotal: 176ms\tremaining: 1.09s\n",
      "139:\tlearn: 0.2676623\ttotal: 177ms\tremaining: 1.09s\n",
      "140:\tlearn: 0.2674337\ttotal: 178ms\tremaining: 1.08s\n",
      "141:\tlearn: 0.2665781\ttotal: 179ms\tremaining: 1.08s\n",
      "142:\tlearn: 0.2661299\ttotal: 180ms\tremaining: 1.08s\n",
      "143:\tlearn: 0.2652243\ttotal: 180ms\tremaining: 1.07s\n",
      "144:\tlearn: 0.2644128\ttotal: 181ms\tremaining: 1.07s\n",
      "145:\tlearn: 0.2634328\ttotal: 182ms\tremaining: 1.06s\n",
      "146:\tlearn: 0.2630844\ttotal: 183ms\tremaining: 1.06s\n",
      "147:\tlearn: 0.2623200\ttotal: 183ms\tremaining: 1.06s\n",
      "148:\tlearn: 0.2611294\ttotal: 184ms\tremaining: 1.05s\n",
      "149:\tlearn: 0.2603877\ttotal: 185ms\tremaining: 1.05s\n",
      "150:\tlearn: 0.2595768\ttotal: 186ms\tremaining: 1.04s\n",
      "151:\tlearn: 0.2587679\ttotal: 187ms\tremaining: 1.04s\n",
      "152:\tlearn: 0.2581082\ttotal: 188ms\tremaining: 1.04s\n",
      "153:\tlearn: 0.2572221\ttotal: 188ms\tremaining: 1.03s\n",
      "154:\tlearn: 0.2562911\ttotal: 189ms\tremaining: 1.03s\n",
      "155:\tlearn: 0.2554426\ttotal: 190ms\tremaining: 1.03s\n",
      "156:\tlearn: 0.2547979\ttotal: 191ms\tremaining: 1.02s\n"
     ]
    },
    {
     "name": "stdout",
     "output_type": "stream",
     "text": [
      "157:\tlearn: 0.2543276\ttotal: 192ms\tremaining: 1.02s\n",
      "158:\tlearn: 0.2537708\ttotal: 193ms\tremaining: 1.02s\n",
      "159:\tlearn: 0.2535538\ttotal: 193ms\tremaining: 1.01s\n",
      "160:\tlearn: 0.2525101\ttotal: 195ms\tremaining: 1.01s\n",
      "161:\tlearn: 0.2518956\ttotal: 195ms\tremaining: 1.01s\n",
      "162:\tlearn: 0.2509886\ttotal: 196ms\tremaining: 1.01s\n",
      "163:\tlearn: 0.2502615\ttotal: 197ms\tremaining: 1s\n",
      "164:\tlearn: 0.2492168\ttotal: 198ms\tremaining: 1s\n",
      "165:\tlearn: 0.2485876\ttotal: 199ms\tremaining: 999ms\n",
      "166:\tlearn: 0.2476698\ttotal: 200ms\tremaining: 997ms\n",
      "167:\tlearn: 0.2470499\ttotal: 201ms\tremaining: 994ms\n",
      "168:\tlearn: 0.2464648\ttotal: 202ms\tremaining: 991ms\n",
      "169:\tlearn: 0.2457759\ttotal: 202ms\tremaining: 988ms\n",
      "170:\tlearn: 0.2448462\ttotal: 203ms\tremaining: 984ms\n",
      "171:\tlearn: 0.2443661\ttotal: 204ms\tremaining: 981ms\n",
      "172:\tlearn: 0.2437908\ttotal: 205ms\tremaining: 979ms\n",
      "173:\tlearn: 0.2432453\ttotal: 206ms\tremaining: 976ms\n",
      "174:\tlearn: 0.2424714\ttotal: 206ms\tremaining: 973ms\n",
      "175:\tlearn: 0.2420132\ttotal: 207ms\tremaining: 971ms\n",
      "176:\tlearn: 0.2417905\ttotal: 208ms\tremaining: 968ms\n",
      "177:\tlearn: 0.2411439\ttotal: 209ms\tremaining: 966ms\n",
      "178:\tlearn: 0.2405545\ttotal: 210ms\tremaining: 964ms\n",
      "179:\tlearn: 0.2399885\ttotal: 211ms\tremaining: 960ms\n",
      "180:\tlearn: 0.2392173\ttotal: 212ms\tremaining: 958ms\n",
      "181:\tlearn: 0.2389846\ttotal: 213ms\tremaining: 955ms\n",
      "182:\tlearn: 0.2383658\ttotal: 213ms\tremaining: 953ms\n",
      "183:\tlearn: 0.2380533\ttotal: 214ms\tremaining: 950ms\n",
      "184:\tlearn: 0.2375244\ttotal: 215ms\tremaining: 947ms\n",
      "185:\tlearn: 0.2367423\ttotal: 216ms\tremaining: 945ms\n",
      "186:\tlearn: 0.2360199\ttotal: 217ms\tremaining: 942ms\n",
      "187:\tlearn: 0.2355442\ttotal: 217ms\tremaining: 939ms\n",
      "188:\tlearn: 0.2350428\ttotal: 218ms\tremaining: 936ms\n",
      "189:\tlearn: 0.2342023\ttotal: 219ms\tremaining: 933ms\n",
      "190:\tlearn: 0.2334517\ttotal: 220ms\tremaining: 930ms\n",
      "191:\tlearn: 0.2330363\ttotal: 220ms\tremaining: 928ms\n",
      "192:\tlearn: 0.2328100\ttotal: 221ms\tremaining: 925ms\n",
      "193:\tlearn: 0.2320849\ttotal: 222ms\tremaining: 923ms\n",
      "194:\tlearn: 0.2315688\ttotal: 223ms\tremaining: 920ms\n",
      "195:\tlearn: 0.2311032\ttotal: 224ms\tremaining: 917ms\n",
      "196:\tlearn: 0.2309326\ttotal: 224ms\tremaining: 914ms\n",
      "197:\tlearn: 0.2303240\ttotal: 225ms\tremaining: 912ms\n",
      "198:\tlearn: 0.2299922\ttotal: 226ms\tremaining: 909ms\n",
      "199:\tlearn: 0.2293472\ttotal: 227ms\tremaining: 907ms\n",
      "200:\tlearn: 0.2287872\ttotal: 228ms\tremaining: 904ms\n",
      "201:\tlearn: 0.2281867\ttotal: 228ms\tremaining: 902ms\n",
      "202:\tlearn: 0.2277506\ttotal: 229ms\tremaining: 900ms\n",
      "203:\tlearn: 0.2274766\ttotal: 230ms\tremaining: 897ms\n",
      "204:\tlearn: 0.2267617\ttotal: 231ms\tremaining: 895ms\n",
      "205:\tlearn: 0.2262275\ttotal: 232ms\tremaining: 893ms\n",
      "206:\tlearn: 0.2253896\ttotal: 232ms\tremaining: 890ms\n",
      "207:\tlearn: 0.2247524\ttotal: 233ms\tremaining: 888ms\n",
      "208:\tlearn: 0.2242346\ttotal: 234ms\tremaining: 886ms\n",
      "209:\tlearn: 0.2239118\ttotal: 235ms\tremaining: 883ms\n",
      "210:\tlearn: 0.2230302\ttotal: 236ms\tremaining: 881ms\n",
      "211:\tlearn: 0.2223319\ttotal: 236ms\tremaining: 878ms\n",
      "212:\tlearn: 0.2220542\ttotal: 237ms\tremaining: 876ms\n",
      "213:\tlearn: 0.2214327\ttotal: 238ms\tremaining: 875ms\n",
      "214:\tlearn: 0.2210041\ttotal: 239ms\tremaining: 873ms\n",
      "215:\tlearn: 0.2205282\ttotal: 240ms\tremaining: 870ms\n",
      "216:\tlearn: 0.2200819\ttotal: 241ms\tremaining: 869ms\n",
      "217:\tlearn: 0.2198963\ttotal: 242ms\tremaining: 867ms\n",
      "218:\tlearn: 0.2193827\ttotal: 242ms\tremaining: 865ms\n",
      "219:\tlearn: 0.2190829\ttotal: 243ms\tremaining: 862ms\n",
      "220:\tlearn: 0.2188090\ttotal: 244ms\tremaining: 860ms\n",
      "221:\tlearn: 0.2185183\ttotal: 245ms\tremaining: 857ms\n",
      "222:\tlearn: 0.2179459\ttotal: 245ms\tremaining: 855ms\n",
      "223:\tlearn: 0.2172252\ttotal: 246ms\tremaining: 854ms\n",
      "224:\tlearn: 0.2165493\ttotal: 247ms\tremaining: 852ms\n",
      "225:\tlearn: 0.2160952\ttotal: 248ms\tremaining: 850ms\n",
      "226:\tlearn: 0.2154478\ttotal: 249ms\tremaining: 848ms\n",
      "227:\tlearn: 0.2150925\ttotal: 250ms\tremaining: 846ms\n",
      "228:\tlearn: 0.2142746\ttotal: 251ms\tremaining: 844ms\n",
      "229:\tlearn: 0.2136387\ttotal: 251ms\tremaining: 842ms\n",
      "230:\tlearn: 0.2132337\ttotal: 252ms\tremaining: 840ms\n",
      "231:\tlearn: 0.2126372\ttotal: 253ms\tremaining: 837ms\n",
      "232:\tlearn: 0.2121719\ttotal: 255ms\tremaining: 838ms\n",
      "233:\tlearn: 0.2119578\ttotal: 255ms\tremaining: 836ms\n",
      "234:\tlearn: 0.2112503\ttotal: 256ms\tremaining: 834ms\n",
      "235:\tlearn: 0.2107973\ttotal: 257ms\tremaining: 832ms\n",
      "236:\tlearn: 0.2103376\ttotal: 258ms\tremaining: 830ms\n",
      "237:\tlearn: 0.2098242\ttotal: 258ms\tremaining: 828ms\n",
      "238:\tlearn: 0.2092782\ttotal: 259ms\tremaining: 825ms\n",
      "239:\tlearn: 0.2085731\ttotal: 260ms\tremaining: 824ms\n",
      "240:\tlearn: 0.2081094\ttotal: 261ms\tremaining: 822ms\n",
      "241:\tlearn: 0.2076701\ttotal: 262ms\tremaining: 820ms\n",
      "242:\tlearn: 0.2070130\ttotal: 263ms\tremaining: 819ms\n",
      "243:\tlearn: 0.2064209\ttotal: 264ms\tremaining: 817ms\n",
      "244:\tlearn: 0.2061617\ttotal: 265ms\tremaining: 815ms\n",
      "245:\tlearn: 0.2055675\ttotal: 265ms\tremaining: 814ms\n",
      "246:\tlearn: 0.2048964\ttotal: 266ms\tremaining: 812ms\n",
      "247:\tlearn: 0.2042319\ttotal: 267ms\tremaining: 810ms\n",
      "248:\tlearn: 0.2038861\ttotal: 268ms\tremaining: 809ms\n",
      "249:\tlearn: 0.2032930\ttotal: 269ms\tremaining: 807ms\n",
      "250:\tlearn: 0.2028073\ttotal: 270ms\tremaining: 806ms\n",
      "251:\tlearn: 0.2024853\ttotal: 271ms\tremaining: 804ms\n",
      "252:\tlearn: 0.2017037\ttotal: 272ms\tremaining: 803ms\n",
      "253:\tlearn: 0.2010915\ttotal: 273ms\tremaining: 801ms\n",
      "254:\tlearn: 0.2004180\ttotal: 274ms\tremaining: 800ms\n",
      "255:\tlearn: 0.1998557\ttotal: 275ms\tremaining: 798ms\n",
      "256:\tlearn: 0.1991416\ttotal: 276ms\tremaining: 797ms\n",
      "257:\tlearn: 0.1985546\ttotal: 277ms\tremaining: 795ms\n",
      "258:\tlearn: 0.1983342\ttotal: 278ms\tremaining: 794ms\n",
      "259:\tlearn: 0.1980037\ttotal: 279ms\tremaining: 793ms\n",
      "260:\tlearn: 0.1973373\ttotal: 280ms\tremaining: 792ms\n",
      "261:\tlearn: 0.1969744\ttotal: 281ms\tremaining: 791ms\n",
      "262:\tlearn: 0.1963780\ttotal: 282ms\tremaining: 789ms\n",
      "263:\tlearn: 0.1960640\ttotal: 283ms\tremaining: 788ms\n",
      "264:\tlearn: 0.1955560\ttotal: 283ms\tremaining: 786ms\n",
      "265:\tlearn: 0.1953619\ttotal: 284ms\tremaining: 785ms\n",
      "266:\tlearn: 0.1950341\ttotal: 285ms\tremaining: 783ms\n",
      "267:\tlearn: 0.1946092\ttotal: 286ms\tremaining: 781ms\n",
      "268:\tlearn: 0.1941508\ttotal: 287ms\tremaining: 780ms\n",
      "269:\tlearn: 0.1938266\ttotal: 288ms\tremaining: 779ms\n",
      "270:\tlearn: 0.1931114\ttotal: 289ms\tremaining: 777ms\n",
      "271:\tlearn: 0.1925345\ttotal: 290ms\tremaining: 776ms\n",
      "272:\tlearn: 0.1922202\ttotal: 291ms\tremaining: 774ms\n",
      "273:\tlearn: 0.1914585\ttotal: 291ms\tremaining: 772ms\n",
      "274:\tlearn: 0.1909725\ttotal: 292ms\tremaining: 771ms\n",
      "275:\tlearn: 0.1909095\ttotal: 293ms\tremaining: 769ms\n",
      "276:\tlearn: 0.1901971\ttotal: 294ms\tremaining: 768ms\n",
      "277:\tlearn: 0.1895873\ttotal: 295ms\tremaining: 766ms\n",
      "278:\tlearn: 0.1889644\ttotal: 296ms\tremaining: 764ms\n",
      "279:\tlearn: 0.1885394\ttotal: 297ms\tremaining: 763ms\n",
      "280:\tlearn: 0.1880825\ttotal: 297ms\tremaining: 761ms\n"
     ]
    },
    {
     "name": "stdout",
     "output_type": "stream",
     "text": [
      "281:\tlearn: 0.1873384\ttotal: 298ms\tremaining: 760ms\n",
      "282:\tlearn: 0.1867872\ttotal: 299ms\tremaining: 758ms\n",
      "283:\tlearn: 0.1861830\ttotal: 300ms\tremaining: 756ms\n",
      "284:\tlearn: 0.1856064\ttotal: 301ms\tremaining: 755ms\n",
      "285:\tlearn: 0.1848550\ttotal: 302ms\tremaining: 753ms\n",
      "286:\tlearn: 0.1845864\ttotal: 303ms\tremaining: 752ms\n",
      "287:\tlearn: 0.1841084\ttotal: 303ms\tremaining: 750ms\n",
      "288:\tlearn: 0.1838903\ttotal: 304ms\tremaining: 748ms\n",
      "289:\tlearn: 0.1831994\ttotal: 305ms\tremaining: 747ms\n",
      "290:\tlearn: 0.1826078\ttotal: 306ms\tremaining: 745ms\n",
      "291:\tlearn: 0.1821018\ttotal: 307ms\tremaining: 743ms\n",
      "292:\tlearn: 0.1818806\ttotal: 307ms\tremaining: 742ms\n",
      "293:\tlearn: 0.1812629\ttotal: 308ms\tremaining: 740ms\n",
      "294:\tlearn: 0.1806336\ttotal: 309ms\tremaining: 738ms\n",
      "295:\tlearn: 0.1801105\ttotal: 310ms\tremaining: 737ms\n",
      "296:\tlearn: 0.1795077\ttotal: 311ms\tremaining: 735ms\n",
      "297:\tlearn: 0.1791178\ttotal: 311ms\tremaining: 734ms\n",
      "298:\tlearn: 0.1787275\ttotal: 312ms\tremaining: 732ms\n",
      "299:\tlearn: 0.1785138\ttotal: 313ms\tremaining: 730ms\n",
      "300:\tlearn: 0.1782905\ttotal: 314ms\tremaining: 729ms\n",
      "301:\tlearn: 0.1778189\ttotal: 315ms\tremaining: 727ms\n",
      "302:\tlearn: 0.1775477\ttotal: 315ms\tremaining: 726ms\n",
      "303:\tlearn: 0.1770556\ttotal: 316ms\tremaining: 724ms\n",
      "304:\tlearn: 0.1764939\ttotal: 317ms\tremaining: 723ms\n",
      "305:\tlearn: 0.1762870\ttotal: 318ms\tremaining: 722ms\n",
      "306:\tlearn: 0.1759597\ttotal: 319ms\tremaining: 720ms\n",
      "307:\tlearn: 0.1754344\ttotal: 320ms\tremaining: 719ms\n",
      "308:\tlearn: 0.1750892\ttotal: 321ms\tremaining: 717ms\n",
      "309:\tlearn: 0.1748385\ttotal: 322ms\tremaining: 716ms\n",
      "310:\tlearn: 0.1745616\ttotal: 322ms\tremaining: 714ms\n",
      "311:\tlearn: 0.1741104\ttotal: 323ms\tremaining: 713ms\n",
      "312:\tlearn: 0.1740567\ttotal: 324ms\tremaining: 711ms\n",
      "313:\tlearn: 0.1734978\ttotal: 325ms\tremaining: 710ms\n",
      "314:\tlearn: 0.1730826\ttotal: 326ms\tremaining: 709ms\n",
      "315:\tlearn: 0.1726221\ttotal: 327ms\tremaining: 707ms\n",
      "316:\tlearn: 0.1723579\ttotal: 328ms\tremaining: 707ms\n",
      "317:\tlearn: 0.1719879\ttotal: 329ms\tremaining: 706ms\n",
      "318:\tlearn: 0.1714660\ttotal: 330ms\tremaining: 705ms\n",
      "319:\tlearn: 0.1709665\ttotal: 331ms\tremaining: 703ms\n",
      "320:\tlearn: 0.1708882\ttotal: 332ms\tremaining: 702ms\n",
      "321:\tlearn: 0.1705514\ttotal: 332ms\tremaining: 700ms\n",
      "322:\tlearn: 0.1703094\ttotal: 333ms\tremaining: 699ms\n",
      "323:\tlearn: 0.1700487\ttotal: 334ms\tremaining: 697ms\n",
      "324:\tlearn: 0.1695190\ttotal: 335ms\tremaining: 696ms\n",
      "325:\tlearn: 0.1691110\ttotal: 336ms\tremaining: 694ms\n",
      "326:\tlearn: 0.1686840\ttotal: 337ms\tremaining: 693ms\n",
      "327:\tlearn: 0.1684027\ttotal: 338ms\tremaining: 692ms\n",
      "328:\tlearn: 0.1682067\ttotal: 338ms\tremaining: 690ms\n",
      "329:\tlearn: 0.1679940\ttotal: 339ms\tremaining: 689ms\n",
      "330:\tlearn: 0.1676578\ttotal: 340ms\tremaining: 687ms\n",
      "331:\tlearn: 0.1672282\ttotal: 341ms\tremaining: 686ms\n",
      "332:\tlearn: 0.1669954\ttotal: 342ms\tremaining: 686ms\n",
      "333:\tlearn: 0.1665384\ttotal: 343ms\tremaining: 684ms\n",
      "334:\tlearn: 0.1663813\ttotal: 344ms\tremaining: 683ms\n",
      "335:\tlearn: 0.1660515\ttotal: 345ms\tremaining: 682ms\n",
      "336:\tlearn: 0.1656788\ttotal: 346ms\tremaining: 680ms\n",
      "337:\tlearn: 0.1652365\ttotal: 347ms\tremaining: 679ms\n",
      "338:\tlearn: 0.1647828\ttotal: 347ms\tremaining: 677ms\n",
      "339:\tlearn: 0.1642464\ttotal: 348ms\tremaining: 676ms\n",
      "340:\tlearn: 0.1641028\ttotal: 349ms\tremaining: 675ms\n",
      "341:\tlearn: 0.1636630\ttotal: 350ms\tremaining: 674ms\n",
      "342:\tlearn: 0.1633781\ttotal: 351ms\tremaining: 672ms\n",
      "343:\tlearn: 0.1631420\ttotal: 352ms\tremaining: 671ms\n",
      "344:\tlearn: 0.1629354\ttotal: 352ms\tremaining: 669ms\n",
      "345:\tlearn: 0.1624507\ttotal: 353ms\tremaining: 668ms\n",
      "346:\tlearn: 0.1622447\ttotal: 354ms\tremaining: 666ms\n",
      "347:\tlearn: 0.1618409\ttotal: 355ms\tremaining: 665ms\n",
      "348:\tlearn: 0.1614802\ttotal: 356ms\tremaining: 664ms\n",
      "349:\tlearn: 0.1612491\ttotal: 357ms\tremaining: 662ms\n",
      "350:\tlearn: 0.1608205\ttotal: 357ms\tremaining: 661ms\n",
      "351:\tlearn: 0.1604855\ttotal: 358ms\tremaining: 659ms\n",
      "352:\tlearn: 0.1603768\ttotal: 359ms\tremaining: 658ms\n",
      "353:\tlearn: 0.1601623\ttotal: 360ms\tremaining: 656ms\n",
      "354:\tlearn: 0.1598264\ttotal: 361ms\tremaining: 655ms\n",
      "355:\tlearn: 0.1596257\ttotal: 361ms\tremaining: 654ms\n",
      "356:\tlearn: 0.1591263\ttotal: 362ms\tremaining: 653ms\n",
      "357:\tlearn: 0.1586395\ttotal: 363ms\tremaining: 651ms\n",
      "358:\tlearn: 0.1582022\ttotal: 364ms\tremaining: 650ms\n",
      "359:\tlearn: 0.1577075\ttotal: 365ms\tremaining: 649ms\n",
      "360:\tlearn: 0.1574090\ttotal: 366ms\tremaining: 647ms\n",
      "361:\tlearn: 0.1570427\ttotal: 367ms\tremaining: 646ms\n",
      "362:\tlearn: 0.1567395\ttotal: 367ms\tremaining: 645ms\n",
      "363:\tlearn: 0.1563437\ttotal: 368ms\tremaining: 643ms\n",
      "364:\tlearn: 0.1561037\ttotal: 369ms\tremaining: 642ms\n",
      "365:\tlearn: 0.1557551\ttotal: 370ms\tremaining: 641ms\n",
      "366:\tlearn: 0.1554564\ttotal: 371ms\tremaining: 639ms\n",
      "367:\tlearn: 0.1552302\ttotal: 372ms\tremaining: 638ms\n",
      "368:\tlearn: 0.1549234\ttotal: 372ms\tremaining: 637ms\n",
      "369:\tlearn: 0.1545671\ttotal: 373ms\tremaining: 635ms\n",
      "370:\tlearn: 0.1542027\ttotal: 374ms\tremaining: 635ms\n",
      "371:\tlearn: 0.1538919\ttotal: 375ms\tremaining: 633ms\n",
      "372:\tlearn: 0.1534437\ttotal: 376ms\tremaining: 632ms\n",
      "373:\tlearn: 0.1532525\ttotal: 377ms\tremaining: 631ms\n",
      "374:\tlearn: 0.1528093\ttotal: 377ms\tremaining: 629ms\n",
      "375:\tlearn: 0.1525982\ttotal: 378ms\tremaining: 628ms\n",
      "376:\tlearn: 0.1522656\ttotal: 379ms\tremaining: 627ms\n",
      "377:\tlearn: 0.1518582\ttotal: 380ms\tremaining: 625ms\n",
      "378:\tlearn: 0.1516575\ttotal: 381ms\tremaining: 624ms\n",
      "379:\tlearn: 0.1514232\ttotal: 381ms\tremaining: 622ms\n"
     ]
    },
    {
     "name": "stdout",
     "output_type": "stream",
     "text": [
      "380:\tlearn: 0.1510965\ttotal: 382ms\tremaining: 621ms\n",
      "381:\tlearn: 0.1508410\ttotal: 383ms\tremaining: 620ms\n",
      "382:\tlearn: 0.1504719\ttotal: 385ms\tremaining: 620ms\n",
      "383:\tlearn: 0.1501726\ttotal: 386ms\tremaining: 618ms\n",
      "384:\tlearn: 0.1497263\ttotal: 386ms\tremaining: 617ms\n",
      "385:\tlearn: 0.1495376\ttotal: 387ms\tremaining: 616ms\n",
      "386:\tlearn: 0.1493049\ttotal: 388ms\tremaining: 615ms\n",
      "387:\tlearn: 0.1488853\ttotal: 389ms\tremaining: 613ms\n",
      "388:\tlearn: 0.1485027\ttotal: 390ms\tremaining: 612ms\n",
      "389:\tlearn: 0.1482166\ttotal: 391ms\tremaining: 611ms\n",
      "390:\tlearn: 0.1478458\ttotal: 391ms\tremaining: 609ms\n",
      "391:\tlearn: 0.1475961\ttotal: 392ms\tremaining: 608ms\n",
      "392:\tlearn: 0.1473853\ttotal: 393ms\tremaining: 607ms\n",
      "393:\tlearn: 0.1471245\ttotal: 394ms\tremaining: 606ms\n",
      "394:\tlearn: 0.1468224\ttotal: 395ms\tremaining: 604ms\n",
      "395:\tlearn: 0.1465359\ttotal: 395ms\tremaining: 603ms\n",
      "396:\tlearn: 0.1462839\ttotal: 396ms\tremaining: 602ms\n",
      "397:\tlearn: 0.1458451\ttotal: 397ms\tremaining: 601ms\n",
      "398:\tlearn: 0.1454752\ttotal: 398ms\tremaining: 600ms\n",
      "399:\tlearn: 0.1449717\ttotal: 399ms\tremaining: 598ms\n",
      "400:\tlearn: 0.1446860\ttotal: 400ms\tremaining: 597ms\n",
      "401:\tlearn: 0.1443782\ttotal: 401ms\tremaining: 596ms\n",
      "402:\tlearn: 0.1441210\ttotal: 402ms\tremaining: 595ms\n",
      "403:\tlearn: 0.1438546\ttotal: 402ms\tremaining: 594ms\n",
      "404:\tlearn: 0.1436132\ttotal: 403ms\tremaining: 592ms\n",
      "405:\tlearn: 0.1432563\ttotal: 404ms\tremaining: 591ms\n",
      "406:\tlearn: 0.1429222\ttotal: 405ms\tremaining: 590ms\n",
      "407:\tlearn: 0.1426133\ttotal: 406ms\tremaining: 588ms\n",
      "408:\tlearn: 0.1422522\ttotal: 406ms\tremaining: 587ms\n",
      "409:\tlearn: 0.1418445\ttotal: 407ms\tremaining: 586ms\n",
      "410:\tlearn: 0.1415198\ttotal: 408ms\tremaining: 585ms\n",
      "411:\tlearn: 0.1411321\ttotal: 409ms\tremaining: 584ms\n",
      "412:\tlearn: 0.1407623\ttotal: 410ms\tremaining: 582ms\n",
      "413:\tlearn: 0.1404047\ttotal: 410ms\tremaining: 581ms\n",
      "414:\tlearn: 0.1401390\ttotal: 411ms\tremaining: 579ms\n",
      "415:\tlearn: 0.1399626\ttotal: 412ms\tremaining: 578ms\n",
      "416:\tlearn: 0.1396612\ttotal: 413ms\tremaining: 577ms\n",
      "417:\tlearn: 0.1394503\ttotal: 413ms\tremaining: 576ms\n",
      "418:\tlearn: 0.1392058\ttotal: 414ms\tremaining: 574ms\n",
      "419:\tlearn: 0.1389662\ttotal: 415ms\tremaining: 573ms\n",
      "420:\tlearn: 0.1385363\ttotal: 416ms\tremaining: 572ms\n",
      "421:\tlearn: 0.1381036\ttotal: 417ms\tremaining: 571ms\n",
      "422:\tlearn: 0.1378651\ttotal: 418ms\tremaining: 570ms\n",
      "423:\tlearn: 0.1376911\ttotal: 418ms\tremaining: 568ms\n",
      "424:\tlearn: 0.1375620\ttotal: 419ms\tremaining: 567ms\n",
      "425:\tlearn: 0.1374055\ttotal: 420ms\tremaining: 566ms\n",
      "426:\tlearn: 0.1371070\ttotal: 421ms\tremaining: 564ms\n",
      "427:\tlearn: 0.1368984\ttotal: 421ms\tremaining: 563ms\n",
      "428:\tlearn: 0.1365282\ttotal: 422ms\tremaining: 562ms\n",
      "429:\tlearn: 0.1362682\ttotal: 423ms\tremaining: 560ms\n",
      "430:\tlearn: 0.1360417\ttotal: 424ms\tremaining: 559ms\n",
      "431:\tlearn: 0.1358154\ttotal: 424ms\tremaining: 558ms\n",
      "432:\tlearn: 0.1356155\ttotal: 425ms\tremaining: 557ms\n",
      "433:\tlearn: 0.1352623\ttotal: 426ms\tremaining: 555ms\n",
      "434:\tlearn: 0.1350203\ttotal: 427ms\tremaining: 554ms\n",
      "435:\tlearn: 0.1347067\ttotal: 428ms\tremaining: 553ms\n",
      "436:\tlearn: 0.1343302\ttotal: 428ms\tremaining: 552ms\n",
      "437:\tlearn: 0.1339198\ttotal: 429ms\tremaining: 551ms\n",
      "438:\tlearn: 0.1337150\ttotal: 430ms\tremaining: 550ms\n",
      "439:\tlearn: 0.1335521\ttotal: 431ms\tremaining: 548ms\n",
      "440:\tlearn: 0.1332092\ttotal: 432ms\tremaining: 547ms\n",
      "441:\tlearn: 0.1329186\ttotal: 432ms\tremaining: 546ms\n",
      "442:\tlearn: 0.1326866\ttotal: 433ms\tremaining: 545ms\n",
      "443:\tlearn: 0.1324502\ttotal: 434ms\tremaining: 544ms\n",
      "444:\tlearn: 0.1322253\ttotal: 435ms\tremaining: 543ms\n",
      "445:\tlearn: 0.1320328\ttotal: 436ms\tremaining: 542ms\n",
      "446:\tlearn: 0.1318625\ttotal: 437ms\tremaining: 540ms\n",
      "447:\tlearn: 0.1315361\ttotal: 438ms\tremaining: 539ms\n",
      "448:\tlearn: 0.1312559\ttotal: 438ms\tremaining: 538ms\n",
      "449:\tlearn: 0.1309306\ttotal: 439ms\tremaining: 537ms\n",
      "450:\tlearn: 0.1307881\ttotal: 440ms\tremaining: 536ms\n",
      "451:\tlearn: 0.1303721\ttotal: 441ms\tremaining: 535ms\n",
      "452:\tlearn: 0.1300946\ttotal: 442ms\tremaining: 533ms\n",
      "453:\tlearn: 0.1297517\ttotal: 443ms\tremaining: 532ms\n",
      "454:\tlearn: 0.1295799\ttotal: 443ms\tremaining: 531ms\n",
      "455:\tlearn: 0.1293734\ttotal: 444ms\tremaining: 530ms\n",
      "456:\tlearn: 0.1290639\ttotal: 445ms\tremaining: 528ms\n",
      "457:\tlearn: 0.1288466\ttotal: 446ms\tremaining: 527ms\n",
      "458:\tlearn: 0.1286628\ttotal: 447ms\tremaining: 526ms\n",
      "459:\tlearn: 0.1283729\ttotal: 447ms\tremaining: 525ms\n",
      "460:\tlearn: 0.1280212\ttotal: 448ms\tremaining: 524ms\n",
      "461:\tlearn: 0.1277368\ttotal: 449ms\tremaining: 523ms\n",
      "462:\tlearn: 0.1275273\ttotal: 450ms\tremaining: 522ms\n",
      "463:\tlearn: 0.1273747\ttotal: 451ms\tremaining: 521ms\n",
      "464:\tlearn: 0.1272541\ttotal: 452ms\tremaining: 520ms\n",
      "465:\tlearn: 0.1269684\ttotal: 452ms\tremaining: 518ms\n",
      "466:\tlearn: 0.1266548\ttotal: 453ms\tremaining: 517ms\n",
      "467:\tlearn: 0.1265231\ttotal: 454ms\tremaining: 516ms\n",
      "468:\tlearn: 0.1263315\ttotal: 455ms\tremaining: 515ms\n",
      "469:\tlearn: 0.1260262\ttotal: 455ms\tremaining: 514ms\n",
      "470:\tlearn: 0.1258135\ttotal: 456ms\tremaining: 513ms\n",
      "471:\tlearn: 0.1256542\ttotal: 457ms\tremaining: 511ms\n",
      "472:\tlearn: 0.1255255\ttotal: 458ms\tremaining: 510ms\n",
      "473:\tlearn: 0.1253488\ttotal: 459ms\tremaining: 509ms\n",
      "474:\tlearn: 0.1251849\ttotal: 460ms\tremaining: 508ms\n",
      "475:\tlearn: 0.1249881\ttotal: 461ms\tremaining: 507ms\n",
      "476:\tlearn: 0.1248190\ttotal: 461ms\tremaining: 506ms\n",
      "477:\tlearn: 0.1245310\ttotal: 462ms\tremaining: 505ms\n",
      "478:\tlearn: 0.1243257\ttotal: 463ms\tremaining: 504ms\n",
      "479:\tlearn: 0.1240581\ttotal: 464ms\tremaining: 502ms\n",
      "480:\tlearn: 0.1237822\ttotal: 464ms\tremaining: 501ms\n",
      "481:\tlearn: 0.1235350\ttotal: 465ms\tremaining: 500ms\n",
      "482:\tlearn: 0.1232742\ttotal: 466ms\tremaining: 499ms\n",
      "483:\tlearn: 0.1231522\ttotal: 467ms\tremaining: 498ms\n",
      "484:\tlearn: 0.1229180\ttotal: 468ms\tremaining: 496ms\n",
      "485:\tlearn: 0.1227257\ttotal: 468ms\tremaining: 495ms\n",
      "486:\tlearn: 0.1225963\ttotal: 469ms\tremaining: 494ms\n",
      "487:\tlearn: 0.1223264\ttotal: 470ms\tremaining: 493ms\n",
      "488:\tlearn: 0.1221624\ttotal: 471ms\tremaining: 492ms\n",
      "489:\tlearn: 0.1220294\ttotal: 472ms\tremaining: 491ms\n",
      "490:\tlearn: 0.1219265\ttotal: 473ms\tremaining: 490ms\n",
      "491:\tlearn: 0.1216188\ttotal: 473ms\tremaining: 489ms\n",
      "492:\tlearn: 0.1212930\ttotal: 474ms\tremaining: 488ms\n",
      "493:\tlearn: 0.1210695\ttotal: 475ms\tremaining: 486ms\n",
      "494:\tlearn: 0.1209607\ttotal: 476ms\tremaining: 485ms\n",
      "495:\tlearn: 0.1208699\ttotal: 477ms\tremaining: 484ms\n",
      "496:\tlearn: 0.1206291\ttotal: 477ms\tremaining: 483ms\n",
      "497:\tlearn: 0.1203870\ttotal: 478ms\tremaining: 482ms\n",
      "498:\tlearn: 0.1200483\ttotal: 479ms\tremaining: 481ms\n",
      "499:\tlearn: 0.1197296\ttotal: 480ms\tremaining: 480ms\n",
      "500:\tlearn: 0.1195383\ttotal: 481ms\tremaining: 479ms\n",
      "501:\tlearn: 0.1192583\ttotal: 481ms\tremaining: 478ms\n",
      "502:\tlearn: 0.1191302\ttotal: 482ms\tremaining: 476ms\n",
      "503:\tlearn: 0.1189763\ttotal: 483ms\tremaining: 475ms\n",
      "504:\tlearn: 0.1187189\ttotal: 484ms\tremaining: 474ms\n",
      "505:\tlearn: 0.1186554\ttotal: 485ms\tremaining: 473ms\n",
      "506:\tlearn: 0.1185654\ttotal: 485ms\tremaining: 472ms\n",
      "507:\tlearn: 0.1183619\ttotal: 486ms\tremaining: 471ms\n",
      "508:\tlearn: 0.1181203\ttotal: 487ms\tremaining: 470ms\n",
      "509:\tlearn: 0.1179763\ttotal: 488ms\tremaining: 469ms\n"
     ]
    },
    {
     "name": "stdout",
     "output_type": "stream",
     "text": [
      "510:\tlearn: 0.1177079\ttotal: 489ms\tremaining: 468ms\n",
      "511:\tlearn: 0.1176257\ttotal: 490ms\tremaining: 467ms\n",
      "512:\tlearn: 0.1172636\ttotal: 491ms\tremaining: 466ms\n",
      "513:\tlearn: 0.1169899\ttotal: 491ms\tremaining: 465ms\n",
      "514:\tlearn: 0.1167207\ttotal: 492ms\tremaining: 464ms\n",
      "515:\tlearn: 0.1165265\ttotal: 493ms\tremaining: 462ms\n",
      "516:\tlearn: 0.1162861\ttotal: 494ms\tremaining: 461ms\n",
      "517:\tlearn: 0.1161740\ttotal: 495ms\tremaining: 460ms\n",
      "518:\tlearn: 0.1160267\ttotal: 495ms\tremaining: 459ms\n",
      "519:\tlearn: 0.1158059\ttotal: 496ms\tremaining: 458ms\n",
      "520:\tlearn: 0.1154422\ttotal: 497ms\tremaining: 457ms\n",
      "521:\tlearn: 0.1151446\ttotal: 498ms\tremaining: 456ms\n",
      "522:\tlearn: 0.1150034\ttotal: 499ms\tremaining: 455ms\n",
      "523:\tlearn: 0.1149354\ttotal: 499ms\tremaining: 454ms\n",
      "524:\tlearn: 0.1147245\ttotal: 500ms\tremaining: 452ms\n",
      "525:\tlearn: 0.1146382\ttotal: 501ms\tremaining: 451ms\n",
      "526:\tlearn: 0.1145164\ttotal: 502ms\tremaining: 450ms\n",
      "527:\tlearn: 0.1142027\ttotal: 503ms\tremaining: 449ms\n",
      "528:\tlearn: 0.1140777\ttotal: 503ms\tremaining: 448ms\n",
      "529:\tlearn: 0.1137319\ttotal: 504ms\tremaining: 447ms\n",
      "530:\tlearn: 0.1134105\ttotal: 505ms\tremaining: 446ms\n",
      "531:\tlearn: 0.1132916\ttotal: 506ms\tremaining: 445ms\n",
      "532:\tlearn: 0.1130955\ttotal: 507ms\tremaining: 444ms\n",
      "533:\tlearn: 0.1128719\ttotal: 507ms\tremaining: 443ms\n",
      "534:\tlearn: 0.1126684\ttotal: 508ms\tremaining: 442ms\n",
      "535:\tlearn: 0.1124235\ttotal: 509ms\tremaining: 441ms\n",
      "536:\tlearn: 0.1121264\ttotal: 510ms\tremaining: 440ms\n",
      "537:\tlearn: 0.1119067\ttotal: 511ms\tremaining: 438ms\n",
      "538:\tlearn: 0.1116730\ttotal: 511ms\tremaining: 437ms\n",
      "539:\tlearn: 0.1114395\ttotal: 512ms\tremaining: 436ms\n",
      "540:\tlearn: 0.1112951\ttotal: 513ms\tremaining: 435ms\n",
      "541:\tlearn: 0.1112330\ttotal: 514ms\tremaining: 434ms\n",
      "542:\tlearn: 0.1110850\ttotal: 514ms\tremaining: 433ms\n",
      "543:\tlearn: 0.1109127\ttotal: 515ms\tremaining: 432ms\n",
      "544:\tlearn: 0.1107693\ttotal: 516ms\tremaining: 431ms\n",
      "545:\tlearn: 0.1105932\ttotal: 517ms\tremaining: 430ms\n",
      "546:\tlearn: 0.1104291\ttotal: 518ms\tremaining: 429ms\n",
      "547:\tlearn: 0.1102787\ttotal: 519ms\tremaining: 428ms\n",
      "548:\tlearn: 0.1099999\ttotal: 520ms\tremaining: 427ms\n",
      "549:\tlearn: 0.1098472\ttotal: 521ms\tremaining: 426ms\n",
      "550:\tlearn: 0.1095680\ttotal: 521ms\tremaining: 425ms\n",
      "551:\tlearn: 0.1092713\ttotal: 522ms\tremaining: 424ms\n",
      "552:\tlearn: 0.1090216\ttotal: 523ms\tremaining: 423ms\n",
      "553:\tlearn: 0.1089488\ttotal: 524ms\tremaining: 422ms\n",
      "554:\tlearn: 0.1087348\ttotal: 525ms\tremaining: 421ms\n",
      "555:\tlearn: 0.1085656\ttotal: 525ms\tremaining: 420ms\n",
      "556:\tlearn: 0.1084973\ttotal: 526ms\tremaining: 418ms\n",
      "557:\tlearn: 0.1082583\ttotal: 527ms\tremaining: 417ms\n",
      "558:\tlearn: 0.1081881\ttotal: 528ms\tremaining: 416ms\n",
      "559:\tlearn: 0.1078089\ttotal: 528ms\tremaining: 415ms\n",
      "560:\tlearn: 0.1077063\ttotal: 529ms\tremaining: 414ms\n",
      "561:\tlearn: 0.1075744\ttotal: 530ms\tremaining: 413ms\n",
      "562:\tlearn: 0.1074640\ttotal: 531ms\tremaining: 412ms\n",
      "563:\tlearn: 0.1071817\ttotal: 532ms\tremaining: 411ms\n",
      "564:\tlearn: 0.1068757\ttotal: 533ms\tremaining: 410ms\n",
      "565:\tlearn: 0.1067204\ttotal: 534ms\tremaining: 409ms\n",
      "566:\tlearn: 0.1065304\ttotal: 534ms\tremaining: 408ms\n",
      "567:\tlearn: 0.1063760\ttotal: 535ms\tremaining: 407ms\n",
      "568:\tlearn: 0.1061481\ttotal: 536ms\tremaining: 406ms\n",
      "569:\tlearn: 0.1060731\ttotal: 537ms\tremaining: 405ms\n",
      "570:\tlearn: 0.1059548\ttotal: 538ms\tremaining: 404ms\n",
      "571:\tlearn: 0.1057842\ttotal: 539ms\tremaining: 403ms\n",
      "572:\tlearn: 0.1056013\ttotal: 539ms\tremaining: 402ms\n",
      "573:\tlearn: 0.1053731\ttotal: 540ms\tremaining: 401ms\n",
      "574:\tlearn: 0.1050738\ttotal: 541ms\tremaining: 400ms\n",
      "575:\tlearn: 0.1048527\ttotal: 542ms\tremaining: 399ms\n",
      "576:\tlearn: 0.1046905\ttotal: 543ms\tremaining: 398ms\n",
      "577:\tlearn: 0.1044799\ttotal: 544ms\tremaining: 397ms\n",
      "578:\tlearn: 0.1043521\ttotal: 544ms\tremaining: 396ms\n",
      "579:\tlearn: 0.1041598\ttotal: 545ms\tremaining: 395ms\n",
      "580:\tlearn: 0.1040359\ttotal: 546ms\tremaining: 394ms\n",
      "581:\tlearn: 0.1039321\ttotal: 547ms\tremaining: 393ms\n",
      "582:\tlearn: 0.1037908\ttotal: 548ms\tremaining: 392ms\n",
      "583:\tlearn: 0.1035498\ttotal: 549ms\tremaining: 391ms\n",
      "584:\tlearn: 0.1035224\ttotal: 549ms\tremaining: 390ms\n",
      "585:\tlearn: 0.1033168\ttotal: 550ms\tremaining: 389ms\n",
      "586:\tlearn: 0.1031548\ttotal: 552ms\tremaining: 388ms\n",
      "587:\tlearn: 0.1031320\ttotal: 552ms\tremaining: 387ms\n",
      "588:\tlearn: 0.1028973\ttotal: 553ms\tremaining: 386ms\n",
      "589:\tlearn: 0.1026742\ttotal: 554ms\tremaining: 385ms\n",
      "590:\tlearn: 0.1026311\ttotal: 555ms\tremaining: 384ms\n",
      "591:\tlearn: 0.1024067\ttotal: 556ms\tremaining: 383ms\n",
      "592:\tlearn: 0.1021020\ttotal: 556ms\tremaining: 382ms\n",
      "593:\tlearn: 0.1018371\ttotal: 557ms\tremaining: 381ms\n",
      "594:\tlearn: 0.1016155\ttotal: 558ms\tremaining: 380ms\n",
      "595:\tlearn: 0.1013859\ttotal: 559ms\tremaining: 379ms\n",
      "596:\tlearn: 0.1011853\ttotal: 559ms\tremaining: 378ms\n",
      "597:\tlearn: 0.1009564\ttotal: 560ms\tremaining: 377ms\n",
      "598:\tlearn: 0.1007510\ttotal: 561ms\tremaining: 375ms\n",
      "599:\tlearn: 0.1005270\ttotal: 562ms\tremaining: 374ms\n",
      "600:\tlearn: 0.1004705\ttotal: 563ms\tremaining: 374ms\n",
      "601:\tlearn: 0.1002359\ttotal: 564ms\tremaining: 373ms\n",
      "602:\tlearn: 0.1000354\ttotal: 564ms\tremaining: 372ms\n",
      "603:\tlearn: 0.0997945\ttotal: 565ms\tremaining: 371ms\n",
      "604:\tlearn: 0.0995839\ttotal: 566ms\tremaining: 370ms\n",
      "605:\tlearn: 0.0993719\ttotal: 567ms\tremaining: 369ms\n",
      "606:\tlearn: 0.0992311\ttotal: 568ms\tremaining: 368ms\n",
      "607:\tlearn: 0.0990024\ttotal: 569ms\tremaining: 367ms\n",
      "608:\tlearn: 0.0988010\ttotal: 569ms\tremaining: 366ms\n",
      "609:\tlearn: 0.0987604\ttotal: 570ms\tremaining: 365ms\n",
      "610:\tlearn: 0.0987028\ttotal: 571ms\tremaining: 364ms\n",
      "611:\tlearn: 0.0985407\ttotal: 572ms\tremaining: 363ms\n"
     ]
    },
    {
     "name": "stdout",
     "output_type": "stream",
     "text": [
      "612:\tlearn: 0.0983556\ttotal: 573ms\tremaining: 362ms\n",
      "613:\tlearn: 0.0983080\ttotal: 574ms\tremaining: 361ms\n",
      "614:\tlearn: 0.0981390\ttotal: 575ms\tremaining: 360ms\n",
      "615:\tlearn: 0.0979946\ttotal: 576ms\tremaining: 359ms\n",
      "616:\tlearn: 0.0977628\ttotal: 577ms\tremaining: 358ms\n",
      "617:\tlearn: 0.0975905\ttotal: 578ms\tremaining: 357ms\n",
      "618:\tlearn: 0.0974722\ttotal: 578ms\tremaining: 356ms\n",
      "619:\tlearn: 0.0972360\ttotal: 579ms\tremaining: 355ms\n",
      "620:\tlearn: 0.0970360\ttotal: 580ms\tremaining: 354ms\n",
      "621:\tlearn: 0.0968824\ttotal: 581ms\tremaining: 353ms\n",
      "622:\tlearn: 0.0967179\ttotal: 582ms\tremaining: 352ms\n",
      "623:\tlearn: 0.0965439\ttotal: 582ms\tremaining: 351ms\n",
      "624:\tlearn: 0.0962820\ttotal: 583ms\tremaining: 350ms\n",
      "625:\tlearn: 0.0962500\ttotal: 584ms\tremaining: 349ms\n",
      "626:\tlearn: 0.0960201\ttotal: 585ms\tremaining: 348ms\n",
      "627:\tlearn: 0.0958438\ttotal: 586ms\tremaining: 347ms\n",
      "628:\tlearn: 0.0956720\ttotal: 587ms\tremaining: 346ms\n",
      "629:\tlearn: 0.0956039\ttotal: 588ms\tremaining: 345ms\n",
      "630:\tlearn: 0.0953913\ttotal: 588ms\tremaining: 344ms\n",
      "631:\tlearn: 0.0951579\ttotal: 589ms\tremaining: 343ms\n",
      "632:\tlearn: 0.0949679\ttotal: 590ms\tremaining: 342ms\n",
      "633:\tlearn: 0.0946897\ttotal: 591ms\tremaining: 341ms\n",
      "634:\tlearn: 0.0945627\ttotal: 592ms\tremaining: 340ms\n",
      "635:\tlearn: 0.0944037\ttotal: 593ms\tremaining: 339ms\n",
      "636:\tlearn: 0.0942594\ttotal: 594ms\tremaining: 338ms\n",
      "637:\tlearn: 0.0940405\ttotal: 594ms\tremaining: 337ms\n",
      "638:\tlearn: 0.0939037\ttotal: 595ms\tremaining: 336ms\n",
      "639:\tlearn: 0.0937159\ttotal: 596ms\tremaining: 335ms\n",
      "640:\tlearn: 0.0934955\ttotal: 597ms\tremaining: 334ms\n",
      "641:\tlearn: 0.0932954\ttotal: 598ms\tremaining: 333ms\n",
      "642:\tlearn: 0.0931051\ttotal: 599ms\tremaining: 332ms\n",
      "643:\tlearn: 0.0930223\ttotal: 599ms\tremaining: 331ms\n",
      "644:\tlearn: 0.0928736\ttotal: 600ms\tremaining: 330ms\n",
      "645:\tlearn: 0.0926598\ttotal: 601ms\tremaining: 330ms\n",
      "646:\tlearn: 0.0924535\ttotal: 602ms\tremaining: 329ms\n",
      "647:\tlearn: 0.0922904\ttotal: 603ms\tremaining: 328ms\n",
      "648:\tlearn: 0.0922354\ttotal: 604ms\tremaining: 327ms\n",
      "649:\tlearn: 0.0921124\ttotal: 605ms\tremaining: 326ms\n",
      "650:\tlearn: 0.0919900\ttotal: 605ms\tremaining: 325ms\n",
      "651:\tlearn: 0.0917639\ttotal: 606ms\tremaining: 324ms\n",
      "652:\tlearn: 0.0915971\ttotal: 607ms\tremaining: 323ms\n",
      "653:\tlearn: 0.0914326\ttotal: 608ms\tremaining: 322ms\n",
      "654:\tlearn: 0.0913212\ttotal: 609ms\tremaining: 321ms\n",
      "655:\tlearn: 0.0912665\ttotal: 610ms\tremaining: 320ms\n",
      "656:\tlearn: 0.0911449\ttotal: 610ms\tremaining: 319ms\n",
      "657:\tlearn: 0.0910114\ttotal: 611ms\tremaining: 318ms\n",
      "658:\tlearn: 0.0907905\ttotal: 612ms\tremaining: 317ms\n",
      "659:\tlearn: 0.0906202\ttotal: 613ms\tremaining: 316ms\n",
      "660:\tlearn: 0.0904502\ttotal: 614ms\tremaining: 315ms\n",
      "661:\tlearn: 0.0903807\ttotal: 615ms\tremaining: 314ms\n",
      "662:\tlearn: 0.0901655\ttotal: 616ms\tremaining: 313ms\n",
      "663:\tlearn: 0.0900557\ttotal: 616ms\tremaining: 312ms\n",
      "664:\tlearn: 0.0899293\ttotal: 617ms\tremaining: 311ms\n",
      "665:\tlearn: 0.0897762\ttotal: 618ms\tremaining: 310ms\n",
      "666:\tlearn: 0.0896150\ttotal: 619ms\tremaining: 309ms\n",
      "667:\tlearn: 0.0894588\ttotal: 620ms\tremaining: 308ms\n",
      "668:\tlearn: 0.0893495\ttotal: 621ms\tremaining: 307ms\n",
      "669:\tlearn: 0.0892490\ttotal: 621ms\tremaining: 306ms\n",
      "670:\tlearn: 0.0891237\ttotal: 622ms\tremaining: 305ms\n",
      "671:\tlearn: 0.0889878\ttotal: 623ms\tremaining: 304ms\n",
      "672:\tlearn: 0.0888498\ttotal: 624ms\tremaining: 303ms\n",
      "673:\tlearn: 0.0887416\ttotal: 625ms\tremaining: 302ms\n",
      "674:\tlearn: 0.0886109\ttotal: 626ms\tremaining: 301ms\n",
      "675:\tlearn: 0.0885740\ttotal: 626ms\tremaining: 300ms\n",
      "676:\tlearn: 0.0884007\ttotal: 627ms\tremaining: 299ms\n",
      "677:\tlearn: 0.0881951\ttotal: 628ms\tremaining: 298ms\n",
      "678:\tlearn: 0.0880975\ttotal: 629ms\tremaining: 297ms\n",
      "679:\tlearn: 0.0879461\ttotal: 630ms\tremaining: 296ms\n",
      "680:\tlearn: 0.0878475\ttotal: 631ms\tremaining: 296ms\n",
      "681:\tlearn: 0.0877534\ttotal: 632ms\tremaining: 295ms\n",
      "682:\tlearn: 0.0875641\ttotal: 633ms\tremaining: 294ms\n",
      "683:\tlearn: 0.0874366\ttotal: 633ms\tremaining: 293ms\n",
      "684:\tlearn: 0.0871896\ttotal: 634ms\tremaining: 292ms\n",
      "685:\tlearn: 0.0870272\ttotal: 635ms\tremaining: 291ms\n",
      "686:\tlearn: 0.0869466\ttotal: 636ms\tremaining: 290ms\n",
      "687:\tlearn: 0.0867653\ttotal: 637ms\tremaining: 289ms\n",
      "688:\tlearn: 0.0866384\ttotal: 638ms\tremaining: 288ms\n",
      "689:\tlearn: 0.0865292\ttotal: 638ms\tremaining: 287ms\n",
      "690:\tlearn: 0.0862694\ttotal: 639ms\tremaining: 286ms\n",
      "691:\tlearn: 0.0861380\ttotal: 640ms\tremaining: 285ms\n",
      "692:\tlearn: 0.0860854\ttotal: 641ms\tremaining: 284ms\n",
      "693:\tlearn: 0.0858715\ttotal: 642ms\tremaining: 283ms\n",
      "694:\tlearn: 0.0858206\ttotal: 643ms\tremaining: 282ms\n",
      "695:\tlearn: 0.0856992\ttotal: 644ms\tremaining: 281ms\n",
      "696:\tlearn: 0.0855138\ttotal: 645ms\tremaining: 280ms\n",
      "697:\tlearn: 0.0853356\ttotal: 646ms\tremaining: 279ms\n",
      "698:\tlearn: 0.0851512\ttotal: 646ms\tremaining: 278ms\n",
      "699:\tlearn: 0.0850280\ttotal: 647ms\tremaining: 277ms\n",
      "700:\tlearn: 0.0849194\ttotal: 648ms\tremaining: 276ms\n",
      "701:\tlearn: 0.0847929\ttotal: 649ms\tremaining: 275ms\n",
      "702:\tlearn: 0.0846000\ttotal: 650ms\tremaining: 274ms\n",
      "703:\tlearn: 0.0844942\ttotal: 650ms\tremaining: 273ms\n",
      "704:\tlearn: 0.0843578\ttotal: 651ms\tremaining: 272ms\n",
      "705:\tlearn: 0.0842900\ttotal: 652ms\tremaining: 271ms\n",
      "706:\tlearn: 0.0841986\ttotal: 653ms\tremaining: 270ms\n",
      "707:\tlearn: 0.0840509\ttotal: 653ms\tremaining: 269ms\n",
      "708:\tlearn: 0.0838363\ttotal: 654ms\tremaining: 269ms\n",
      "709:\tlearn: 0.0837689\ttotal: 655ms\tremaining: 268ms\n",
      "710:\tlearn: 0.0836349\ttotal: 656ms\tremaining: 267ms\n",
      "711:\tlearn: 0.0835705\ttotal: 657ms\tremaining: 266ms\n",
      "712:\tlearn: 0.0833797\ttotal: 658ms\tremaining: 265ms\n",
      "713:\tlearn: 0.0832598\ttotal: 659ms\tremaining: 264ms\n",
      "714:\tlearn: 0.0831048\ttotal: 659ms\tremaining: 263ms\n",
      "715:\tlearn: 0.0830048\ttotal: 661ms\tremaining: 262ms\n",
      "716:\tlearn: 0.0829179\ttotal: 662ms\tremaining: 261ms\n",
      "717:\tlearn: 0.0828399\ttotal: 663ms\tremaining: 260ms\n",
      "718:\tlearn: 0.0827226\ttotal: 663ms\tremaining: 259ms\n",
      "719:\tlearn: 0.0826684\ttotal: 664ms\tremaining: 258ms\n",
      "720:\tlearn: 0.0825807\ttotal: 665ms\tremaining: 257ms\n",
      "721:\tlearn: 0.0824746\ttotal: 666ms\tremaining: 256ms\n",
      "722:\tlearn: 0.0823215\ttotal: 666ms\tremaining: 255ms\n",
      "723:\tlearn: 0.0821727\ttotal: 667ms\tremaining: 254ms\n",
      "724:\tlearn: 0.0819908\ttotal: 668ms\tremaining: 253ms\n",
      "725:\tlearn: 0.0818641\ttotal: 669ms\tremaining: 252ms\n",
      "726:\tlearn: 0.0817207\ttotal: 669ms\tremaining: 251ms\n",
      "727:\tlearn: 0.0815434\ttotal: 670ms\tremaining: 250ms\n",
      "728:\tlearn: 0.0813696\ttotal: 671ms\tremaining: 249ms\n",
      "729:\tlearn: 0.0812085\ttotal: 672ms\tremaining: 248ms\n",
      "730:\tlearn: 0.0811117\ttotal: 673ms\tremaining: 248ms\n",
      "731:\tlearn: 0.0809369\ttotal: 674ms\tremaining: 247ms\n",
      "732:\tlearn: 0.0808542\ttotal: 675ms\tremaining: 246ms\n",
      "733:\tlearn: 0.0808193\ttotal: 675ms\tremaining: 245ms\n",
      "734:\tlearn: 0.0806387\ttotal: 676ms\tremaining: 244ms\n",
      "735:\tlearn: 0.0805437\ttotal: 677ms\tremaining: 243ms\n",
      "736:\tlearn: 0.0804239\ttotal: 678ms\tremaining: 242ms\n",
      "737:\tlearn: 0.0803161\ttotal: 679ms\tremaining: 241ms\n"
     ]
    },
    {
     "name": "stdout",
     "output_type": "stream",
     "text": [
      "738:\tlearn: 0.0801727\ttotal: 680ms\tremaining: 240ms\n",
      "739:\tlearn: 0.0800698\ttotal: 681ms\tremaining: 239ms\n",
      "740:\tlearn: 0.0799719\ttotal: 681ms\tremaining: 238ms\n",
      "741:\tlearn: 0.0798874\ttotal: 682ms\tremaining: 237ms\n",
      "742:\tlearn: 0.0797863\ttotal: 683ms\tremaining: 236ms\n",
      "743:\tlearn: 0.0796346\ttotal: 684ms\tremaining: 235ms\n",
      "744:\tlearn: 0.0795316\ttotal: 685ms\tremaining: 234ms\n",
      "745:\tlearn: 0.0794171\ttotal: 686ms\tremaining: 233ms\n",
      "746:\tlearn: 0.0792448\ttotal: 686ms\tremaining: 232ms\n",
      "747:\tlearn: 0.0791914\ttotal: 687ms\tremaining: 231ms\n",
      "748:\tlearn: 0.0791043\ttotal: 688ms\tremaining: 231ms\n",
      "749:\tlearn: 0.0789579\ttotal: 689ms\tremaining: 230ms\n",
      "750:\tlearn: 0.0787453\ttotal: 690ms\tremaining: 229ms\n",
      "751:\tlearn: 0.0785847\ttotal: 691ms\tremaining: 228ms\n",
      "752:\tlearn: 0.0785366\ttotal: 692ms\tremaining: 227ms\n",
      "753:\tlearn: 0.0783543\ttotal: 693ms\tremaining: 226ms\n",
      "754:\tlearn: 0.0782805\ttotal: 693ms\tremaining: 225ms\n",
      "755:\tlearn: 0.0781721\ttotal: 695ms\tremaining: 224ms\n",
      "756:\tlearn: 0.0780086\ttotal: 696ms\tremaining: 223ms\n",
      "757:\tlearn: 0.0779211\ttotal: 697ms\tremaining: 222ms\n",
      "758:\tlearn: 0.0777787\ttotal: 697ms\tremaining: 221ms\n",
      "759:\tlearn: 0.0777437\ttotal: 698ms\tremaining: 220ms\n",
      "760:\tlearn: 0.0775875\ttotal: 699ms\tremaining: 220ms\n",
      "761:\tlearn: 0.0774388\ttotal: 700ms\tremaining: 219ms\n",
      "762:\tlearn: 0.0773315\ttotal: 701ms\tremaining: 218ms\n",
      "763:\tlearn: 0.0771804\ttotal: 701ms\tremaining: 217ms\n",
      "764:\tlearn: 0.0770553\ttotal: 702ms\tremaining: 216ms\n",
      "765:\tlearn: 0.0769423\ttotal: 703ms\tremaining: 215ms\n",
      "766:\tlearn: 0.0767790\ttotal: 705ms\tremaining: 214ms\n",
      "767:\tlearn: 0.0767028\ttotal: 706ms\tremaining: 213ms\n",
      "768:\tlearn: 0.0766174\ttotal: 707ms\tremaining: 212ms\n",
      "769:\tlearn: 0.0765079\ttotal: 707ms\tremaining: 211ms\n",
      "770:\tlearn: 0.0764161\ttotal: 708ms\tremaining: 210ms\n",
      "771:\tlearn: 0.0762089\ttotal: 709ms\tremaining: 209ms\n",
      "772:\tlearn: 0.0761705\ttotal: 710ms\tremaining: 208ms\n",
      "773:\tlearn: 0.0761183\ttotal: 711ms\tremaining: 208ms\n",
      "774:\tlearn: 0.0760176\ttotal: 712ms\tremaining: 207ms\n",
      "775:\tlearn: 0.0759379\ttotal: 713ms\tremaining: 206ms\n",
      "776:\tlearn: 0.0758806\ttotal: 713ms\tremaining: 205ms\n",
      "777:\tlearn: 0.0757813\ttotal: 714ms\tremaining: 204ms\n",
      "778:\tlearn: 0.0755674\ttotal: 715ms\tremaining: 203ms\n",
      "779:\tlearn: 0.0754904\ttotal: 716ms\tremaining: 202ms\n",
      "780:\tlearn: 0.0754135\ttotal: 717ms\tremaining: 201ms\n",
      "781:\tlearn: 0.0753452\ttotal: 717ms\tremaining: 200ms\n",
      "782:\tlearn: 0.0752351\ttotal: 718ms\tremaining: 199ms\n",
      "783:\tlearn: 0.0751947\ttotal: 719ms\tremaining: 198ms\n",
      "784:\tlearn: 0.0750623\ttotal: 720ms\tremaining: 197ms\n",
      "785:\tlearn: 0.0749481\ttotal: 721ms\tremaining: 196ms\n",
      "786:\tlearn: 0.0748791\ttotal: 721ms\tremaining: 195ms\n",
      "787:\tlearn: 0.0747914\ttotal: 722ms\tremaining: 194ms\n",
      "788:\tlearn: 0.0747191\ttotal: 723ms\tremaining: 193ms\n",
      "789:\tlearn: 0.0746843\ttotal: 724ms\tremaining: 192ms\n",
      "790:\tlearn: 0.0745710\ttotal: 725ms\tremaining: 191ms\n",
      "791:\tlearn: 0.0744686\ttotal: 726ms\tremaining: 191ms\n",
      "792:\tlearn: 0.0743561\ttotal: 727ms\tremaining: 190ms\n",
      "793:\tlearn: 0.0742784\ttotal: 728ms\tremaining: 189ms\n",
      "794:\tlearn: 0.0742253\ttotal: 728ms\tremaining: 188ms\n",
      "795:\tlearn: 0.0740734\ttotal: 729ms\tremaining: 187ms\n",
      "796:\tlearn: 0.0739646\ttotal: 730ms\tremaining: 186ms\n",
      "797:\tlearn: 0.0738103\ttotal: 731ms\tremaining: 185ms\n",
      "798:\tlearn: 0.0736606\ttotal: 732ms\tremaining: 184ms\n",
      "799:\tlearn: 0.0735554\ttotal: 733ms\tremaining: 183ms\n",
      "800:\tlearn: 0.0734679\ttotal: 733ms\tremaining: 182ms\n",
      "801:\tlearn: 0.0734273\ttotal: 734ms\tremaining: 181ms\n",
      "802:\tlearn: 0.0733542\ttotal: 735ms\tremaining: 180ms\n",
      "803:\tlearn: 0.0731710\ttotal: 736ms\tremaining: 179ms\n",
      "804:\tlearn: 0.0730424\ttotal: 737ms\tremaining: 178ms\n",
      "805:\tlearn: 0.0729762\ttotal: 738ms\tremaining: 178ms\n",
      "806:\tlearn: 0.0728702\ttotal: 738ms\tremaining: 177ms\n",
      "807:\tlearn: 0.0727601\ttotal: 739ms\tremaining: 176ms\n",
      "808:\tlearn: 0.0727223\ttotal: 740ms\tremaining: 175ms\n",
      "809:\tlearn: 0.0725826\ttotal: 741ms\tremaining: 174ms\n",
      "810:\tlearn: 0.0724945\ttotal: 742ms\tremaining: 173ms\n",
      "811:\tlearn: 0.0723446\ttotal: 743ms\tremaining: 172ms\n",
      "812:\tlearn: 0.0722090\ttotal: 743ms\tremaining: 171ms\n",
      "813:\tlearn: 0.0721012\ttotal: 744ms\tremaining: 170ms\n",
      "814:\tlearn: 0.0719586\ttotal: 745ms\tremaining: 169ms\n",
      "815:\tlearn: 0.0717923\ttotal: 746ms\tremaining: 168ms\n",
      "816:\tlearn: 0.0717514\ttotal: 747ms\tremaining: 167ms\n",
      "817:\tlearn: 0.0716444\ttotal: 748ms\tremaining: 166ms\n",
      "818:\tlearn: 0.0715546\ttotal: 748ms\tremaining: 165ms\n",
      "819:\tlearn: 0.0715218\ttotal: 749ms\tremaining: 164ms\n",
      "820:\tlearn: 0.0714737\ttotal: 750ms\tremaining: 164ms\n",
      "821:\tlearn: 0.0713937\ttotal: 751ms\tremaining: 163ms\n",
      "822:\tlearn: 0.0712625\ttotal: 752ms\tremaining: 162ms\n",
      "823:\tlearn: 0.0710856\ttotal: 752ms\tremaining: 161ms\n",
      "824:\tlearn: 0.0709671\ttotal: 753ms\tremaining: 160ms\n",
      "825:\tlearn: 0.0709139\ttotal: 754ms\tremaining: 159ms\n",
      "826:\tlearn: 0.0708851\ttotal: 755ms\tremaining: 158ms\n",
      "827:\tlearn: 0.0707487\ttotal: 756ms\tremaining: 157ms\n",
      "828:\tlearn: 0.0706459\ttotal: 757ms\tremaining: 156ms\n",
      "829:\tlearn: 0.0705491\ttotal: 758ms\tremaining: 155ms\n",
      "830:\tlearn: 0.0704602\ttotal: 759ms\tremaining: 154ms\n",
      "831:\tlearn: 0.0704084\ttotal: 760ms\tremaining: 153ms\n",
      "832:\tlearn: 0.0701857\ttotal: 760ms\tremaining: 152ms\n",
      "833:\tlearn: 0.0701013\ttotal: 762ms\tremaining: 152ms\n",
      "834:\tlearn: 0.0699669\ttotal: 762ms\tremaining: 151ms\n"
     ]
    },
    {
     "name": "stdout",
     "output_type": "stream",
     "text": [
      "835:\tlearn: 0.0699329\ttotal: 763ms\tremaining: 150ms\n",
      "836:\tlearn: 0.0698595\ttotal: 764ms\tremaining: 149ms\n",
      "837:\tlearn: 0.0696600\ttotal: 765ms\tremaining: 148ms\n",
      "838:\tlearn: 0.0695556\ttotal: 766ms\tremaining: 147ms\n",
      "839:\tlearn: 0.0694706\ttotal: 767ms\tremaining: 146ms\n",
      "840:\tlearn: 0.0694246\ttotal: 768ms\tremaining: 145ms\n",
      "841:\tlearn: 0.0692545\ttotal: 769ms\tremaining: 144ms\n",
      "842:\tlearn: 0.0690936\ttotal: 770ms\tremaining: 143ms\n",
      "843:\tlearn: 0.0689939\ttotal: 771ms\tremaining: 142ms\n",
      "844:\tlearn: 0.0688899\ttotal: 771ms\tremaining: 141ms\n",
      "845:\tlearn: 0.0687829\ttotal: 772ms\tremaining: 141ms\n",
      "846:\tlearn: 0.0686925\ttotal: 773ms\tremaining: 140ms\n",
      "847:\tlearn: 0.0686087\ttotal: 774ms\tremaining: 139ms\n",
      "848:\tlearn: 0.0684931\ttotal: 774ms\tremaining: 138ms\n",
      "849:\tlearn: 0.0684804\ttotal: 775ms\tremaining: 137ms\n",
      "850:\tlearn: 0.0683975\ttotal: 776ms\tremaining: 136ms\n",
      "851:\tlearn: 0.0683409\ttotal: 777ms\tremaining: 135ms\n",
      "852:\tlearn: 0.0682528\ttotal: 778ms\tremaining: 134ms\n",
      "853:\tlearn: 0.0681407\ttotal: 778ms\tremaining: 133ms\n",
      "854:\tlearn: 0.0680611\ttotal: 779ms\tremaining: 132ms\n",
      "855:\tlearn: 0.0679467\ttotal: 780ms\tremaining: 131ms\n",
      "856:\tlearn: 0.0678258\ttotal: 781ms\tremaining: 130ms\n",
      "857:\tlearn: 0.0677079\ttotal: 782ms\tremaining: 129ms\n",
      "858:\tlearn: 0.0676307\ttotal: 783ms\tremaining: 128ms\n",
      "859:\tlearn: 0.0675159\ttotal: 783ms\tremaining: 128ms\n",
      "860:\tlearn: 0.0674442\ttotal: 784ms\tremaining: 127ms\n",
      "861:\tlearn: 0.0673938\ttotal: 785ms\tremaining: 126ms\n",
      "862:\tlearn: 0.0672705\ttotal: 786ms\tremaining: 125ms\n",
      "863:\tlearn: 0.0671407\ttotal: 787ms\tremaining: 124ms\n",
      "864:\tlearn: 0.0670790\ttotal: 788ms\tremaining: 123ms\n",
      "865:\tlearn: 0.0670537\ttotal: 788ms\tremaining: 122ms\n",
      "866:\tlearn: 0.0669695\ttotal: 789ms\tremaining: 121ms\n",
      "867:\tlearn: 0.0668337\ttotal: 790ms\tremaining: 120ms\n",
      "868:\tlearn: 0.0667605\ttotal: 791ms\tremaining: 119ms\n",
      "869:\tlearn: 0.0665965\ttotal: 792ms\tremaining: 118ms\n",
      "870:\tlearn: 0.0665268\ttotal: 792ms\tremaining: 117ms\n",
      "871:\tlearn: 0.0664544\ttotal: 793ms\tremaining: 116ms\n",
      "872:\tlearn: 0.0663512\ttotal: 794ms\tremaining: 116ms\n",
      "873:\tlearn: 0.0662387\ttotal: 795ms\tremaining: 115ms\n",
      "874:\tlearn: 0.0660254\ttotal: 796ms\tremaining: 114ms\n",
      "875:\tlearn: 0.0659112\ttotal: 797ms\tremaining: 113ms\n",
      "876:\tlearn: 0.0658684\ttotal: 797ms\tremaining: 112ms\n",
      "877:\tlearn: 0.0657655\ttotal: 798ms\tremaining: 111ms\n",
      "878:\tlearn: 0.0656827\ttotal: 799ms\tremaining: 110ms\n",
      "879:\tlearn: 0.0656109\ttotal: 800ms\tremaining: 109ms\n",
      "880:\tlearn: 0.0655288\ttotal: 801ms\tremaining: 108ms\n",
      "881:\tlearn: 0.0654253\ttotal: 802ms\tremaining: 107ms\n",
      "882:\tlearn: 0.0652988\ttotal: 802ms\tremaining: 106ms\n",
      "883:\tlearn: 0.0652151\ttotal: 803ms\tremaining: 105ms\n",
      "884:\tlearn: 0.0651541\ttotal: 804ms\tremaining: 104ms\n",
      "885:\tlearn: 0.0650470\ttotal: 805ms\tremaining: 104ms\n",
      "886:\tlearn: 0.0649687\ttotal: 806ms\tremaining: 103ms\n",
      "887:\tlearn: 0.0649024\ttotal: 807ms\tremaining: 102ms\n",
      "888:\tlearn: 0.0647137\ttotal: 807ms\tremaining: 101ms\n",
      "889:\tlearn: 0.0646275\ttotal: 808ms\tremaining: 99.9ms\n",
      "890:\tlearn: 0.0645976\ttotal: 809ms\tremaining: 99ms\n",
      "891:\tlearn: 0.0645600\ttotal: 810ms\tremaining: 98.1ms\n",
      "892:\tlearn: 0.0644804\ttotal: 811ms\tremaining: 97.1ms\n",
      "893:\tlearn: 0.0643801\ttotal: 811ms\tremaining: 96.2ms\n",
      "894:\tlearn: 0.0643553\ttotal: 812ms\tremaining: 95.3ms\n",
      "895:\tlearn: 0.0641833\ttotal: 813ms\tremaining: 94.4ms\n",
      "896:\tlearn: 0.0641433\ttotal: 814ms\tremaining: 93.5ms\n",
      "897:\tlearn: 0.0640479\ttotal: 815ms\tremaining: 92.5ms\n",
      "898:\tlearn: 0.0639089\ttotal: 815ms\tremaining: 91.6ms\n",
      "899:\tlearn: 0.0637988\ttotal: 816ms\tremaining: 90.7ms\n",
      "900:\tlearn: 0.0637431\ttotal: 817ms\tremaining: 89.8ms\n",
      "901:\tlearn: 0.0636375\ttotal: 818ms\tremaining: 88.9ms\n",
      "902:\tlearn: 0.0635819\ttotal: 819ms\tremaining: 87.9ms\n",
      "903:\tlearn: 0.0635022\ttotal: 819ms\tremaining: 87ms\n",
      "904:\tlearn: 0.0634239\ttotal: 820ms\tremaining: 86.1ms\n",
      "905:\tlearn: 0.0633464\ttotal: 821ms\tremaining: 85.2ms\n",
      "906:\tlearn: 0.0633063\ttotal: 822ms\tremaining: 84.3ms\n",
      "907:\tlearn: 0.0632734\ttotal: 823ms\tremaining: 83.4ms\n",
      "908:\tlearn: 0.0630880\ttotal: 823ms\tremaining: 82.4ms\n",
      "909:\tlearn: 0.0630247\ttotal: 824ms\tremaining: 81.5ms\n",
      "910:\tlearn: 0.0629792\ttotal: 825ms\tremaining: 80.6ms\n",
      "911:\tlearn: 0.0629454\ttotal: 826ms\tremaining: 79.7ms\n",
      "912:\tlearn: 0.0628840\ttotal: 827ms\tremaining: 78.8ms\n",
      "913:\tlearn: 0.0628152\ttotal: 828ms\tremaining: 77.9ms\n",
      "914:\tlearn: 0.0626754\ttotal: 829ms\tremaining: 77ms\n",
      "915:\tlearn: 0.0625352\ttotal: 830ms\tremaining: 76.1ms\n",
      "916:\tlearn: 0.0624992\ttotal: 830ms\tremaining: 75.2ms\n",
      "917:\tlearn: 0.0623662\ttotal: 831ms\tremaining: 74.3ms\n",
      "918:\tlearn: 0.0622722\ttotal: 832ms\tremaining: 73.3ms\n",
      "919:\tlearn: 0.0621519\ttotal: 833ms\tremaining: 72.4ms\n",
      "920:\tlearn: 0.0620833\ttotal: 834ms\tremaining: 71.5ms\n",
      "921:\tlearn: 0.0620583\ttotal: 834ms\tremaining: 70.6ms\n",
      "922:\tlearn: 0.0618903\ttotal: 835ms\tremaining: 69.7ms\n",
      "923:\tlearn: 0.0618528\ttotal: 836ms\tremaining: 68.8ms\n",
      "924:\tlearn: 0.0618273\ttotal: 837ms\tremaining: 67.9ms\n",
      "925:\tlearn: 0.0617817\ttotal: 838ms\tremaining: 66.9ms\n",
      "926:\tlearn: 0.0617225\ttotal: 839ms\tremaining: 66ms\n",
      "927:\tlearn: 0.0616408\ttotal: 839ms\tremaining: 65.1ms\n",
      "928:\tlearn: 0.0615042\ttotal: 840ms\tremaining: 64.2ms\n",
      "929:\tlearn: 0.0613750\ttotal: 841ms\tremaining: 63.3ms\n",
      "930:\tlearn: 0.0613174\ttotal: 842ms\tremaining: 62.4ms\n",
      "931:\tlearn: 0.0611822\ttotal: 843ms\tremaining: 61.5ms\n",
      "932:\tlearn: 0.0611230\ttotal: 843ms\tremaining: 60.6ms\n",
      "933:\tlearn: 0.0610501\ttotal: 844ms\tremaining: 59.7ms\n",
      "934:\tlearn: 0.0610391\ttotal: 845ms\tremaining: 58.7ms\n",
      "935:\tlearn: 0.0608985\ttotal: 846ms\tremaining: 57.8ms\n",
      "936:\tlearn: 0.0607772\ttotal: 847ms\tremaining: 56.9ms\n",
      "937:\tlearn: 0.0607076\ttotal: 848ms\tremaining: 56ms\n",
      "938:\tlearn: 0.0606231\ttotal: 849ms\tremaining: 55.2ms\n",
      "939:\tlearn: 0.0605093\ttotal: 850ms\tremaining: 54.2ms\n",
      "940:\tlearn: 0.0603995\ttotal: 850ms\tremaining: 53.3ms\n",
      "941:\tlearn: 0.0603109\ttotal: 851ms\tremaining: 52.4ms\n",
      "942:\tlearn: 0.0602127\ttotal: 852ms\tremaining: 51.5ms\n",
      "943:\tlearn: 0.0601762\ttotal: 853ms\tremaining: 50.6ms\n",
      "944:\tlearn: 0.0600233\ttotal: 855ms\tremaining: 49.7ms\n",
      "945:\tlearn: 0.0599501\ttotal: 855ms\tremaining: 48.8ms\n",
      "946:\tlearn: 0.0599012\ttotal: 856ms\tremaining: 47.9ms\n",
      "947:\tlearn: 0.0598128\ttotal: 857ms\tremaining: 47ms\n",
      "948:\tlearn: 0.0597770\ttotal: 858ms\tremaining: 46.1ms\n",
      "949:\tlearn: 0.0596779\ttotal: 859ms\tremaining: 45.2ms\n",
      "950:\tlearn: 0.0596037\ttotal: 860ms\tremaining: 44.3ms\n",
      "951:\tlearn: 0.0595515\ttotal: 861ms\tremaining: 43.4ms\n",
      "952:\tlearn: 0.0594800\ttotal: 861ms\tremaining: 42.5ms\n",
      "953:\tlearn: 0.0594039\ttotal: 862ms\tremaining: 41.6ms\n",
      "954:\tlearn: 0.0593154\ttotal: 863ms\tremaining: 40.7ms\n",
      "955:\tlearn: 0.0593065\ttotal: 864ms\tremaining: 39.8ms\n",
      "956:\tlearn: 0.0591335\ttotal: 865ms\tremaining: 38.9ms\n",
      "957:\tlearn: 0.0590119\ttotal: 866ms\tremaining: 37.9ms\n",
      "958:\tlearn: 0.0589003\ttotal: 866ms\tremaining: 37ms\n",
      "959:\tlearn: 0.0588736\ttotal: 867ms\tremaining: 36.1ms\n",
      "960:\tlearn: 0.0587880\ttotal: 868ms\tremaining: 35.2ms\n",
      "961:\tlearn: 0.0587278\ttotal: 869ms\tremaining: 34.3ms\n",
      "962:\tlearn: 0.0586957\ttotal: 869ms\tremaining: 33.4ms\n"
     ]
    },
    {
     "name": "stdout",
     "output_type": "stream",
     "text": [
      "963:\tlearn: 0.0585667\ttotal: 870ms\tremaining: 32.5ms\n",
      "964:\tlearn: 0.0584873\ttotal: 871ms\tremaining: 31.6ms\n",
      "965:\tlearn: 0.0584369\ttotal: 872ms\tremaining: 30.7ms\n",
      "966:\tlearn: 0.0583932\ttotal: 873ms\tremaining: 29.8ms\n",
      "967:\tlearn: 0.0583030\ttotal: 874ms\tremaining: 28.9ms\n",
      "968:\tlearn: 0.0581658\ttotal: 874ms\tremaining: 28ms\n",
      "969:\tlearn: 0.0581115\ttotal: 875ms\tremaining: 27.1ms\n",
      "970:\tlearn: 0.0580914\ttotal: 876ms\tremaining: 26.2ms\n",
      "971:\tlearn: 0.0580352\ttotal: 877ms\tremaining: 25.3ms\n",
      "972:\tlearn: 0.0579223\ttotal: 878ms\tremaining: 24.4ms\n",
      "973:\tlearn: 0.0578879\ttotal: 878ms\tremaining: 23.4ms\n",
      "974:\tlearn: 0.0578293\ttotal: 879ms\tremaining: 22.5ms\n",
      "975:\tlearn: 0.0577467\ttotal: 880ms\tremaining: 21.6ms\n",
      "976:\tlearn: 0.0576846\ttotal: 881ms\tremaining: 20.7ms\n",
      "977:\tlearn: 0.0576048\ttotal: 882ms\tremaining: 19.8ms\n",
      "978:\tlearn: 0.0575597\ttotal: 883ms\tremaining: 18.9ms\n",
      "979:\tlearn: 0.0573673\ttotal: 884ms\tremaining: 18ms\n",
      "980:\tlearn: 0.0572592\ttotal: 885ms\tremaining: 17.1ms\n",
      "981:\tlearn: 0.0571846\ttotal: 886ms\tremaining: 16.2ms\n",
      "982:\tlearn: 0.0571362\ttotal: 887ms\tremaining: 15.3ms\n",
      "983:\tlearn: 0.0570064\ttotal: 888ms\tremaining: 14.4ms\n",
      "984:\tlearn: 0.0569428\ttotal: 889ms\tremaining: 13.5ms\n",
      "985:\tlearn: 0.0568438\ttotal: 890ms\tremaining: 12.6ms\n",
      "986:\tlearn: 0.0567743\ttotal: 890ms\tremaining: 11.7ms\n",
      "987:\tlearn: 0.0567018\ttotal: 891ms\tremaining: 10.8ms\n",
      "988:\tlearn: 0.0565658\ttotal: 892ms\tremaining: 9.92ms\n",
      "989:\tlearn: 0.0565375\ttotal: 893ms\tremaining: 9.02ms\n",
      "990:\tlearn: 0.0564760\ttotal: 894ms\tremaining: 8.12ms\n",
      "991:\tlearn: 0.0564304\ttotal: 895ms\tremaining: 7.22ms\n",
      "992:\tlearn: 0.0563744\ttotal: 896ms\tremaining: 6.32ms\n",
      "993:\tlearn: 0.0562971\ttotal: 897ms\tremaining: 5.41ms\n",
      "994:\tlearn: 0.0561882\ttotal: 898ms\tremaining: 4.51ms\n",
      "995:\tlearn: 0.0561052\ttotal: 898ms\tremaining: 3.61ms\n",
      "996:\tlearn: 0.0560191\ttotal: 899ms\tremaining: 2.71ms\n",
      "997:\tlearn: 0.0559056\ttotal: 900ms\tremaining: 1.8ms\n",
      "998:\tlearn: 0.0558394\ttotal: 901ms\tremaining: 901us\n",
      "999:\tlearn: 0.0557803\ttotal: 902ms\tremaining: 0us\n"
     ]
    },
    {
     "data": {
      "text/plain": [
       "<catboost.core.CatBoostRegressor at 0x7f77c1427910>"
      ]
     },
     "execution_count": 9,
     "metadata": {},
     "output_type": "execute_result"
    }
   ],
   "source": [
    "#Train the Model \n",
    "prior_model = ctb.CatBoostRegressor()\n",
    "prior_model.fit(X_train,Y_train)"
   ]
  },
  {
   "cell_type": "code",
   "execution_count": 10,
   "id": "af65dcda",
   "metadata": {
    "execution": {
     "iopub.execute_input": "2022-06-11T17:39:45.402526Z",
     "iopub.status.busy": "2022-06-11T17:39:45.402127Z",
     "iopub.status.idle": "2022-06-11T17:39:45.409678Z",
     "shell.execute_reply": "2022-06-11T17:39:45.409970Z"
    },
    "id": "af65dcda",
    "papermill": {
     "duration": 0.021287,
     "end_time": "2022-06-11T17:39:45.410090",
     "exception": false,
     "start_time": "2022-06-11T17:39:45.388803",
     "status": "completed"
    },
    "tags": []
   },
   "outputs": [
    {
     "data": {
      "application/scrapbook.scrap.json+json": {
       "data": 0.09065239206021161,
       "encoder": "json",
       "name": "Prior Model MSE",
       "version": 1
      }
     },
     "metadata": {
      "scrapbook": {
       "data": true,
       "display": false,
       "name": "Prior Model MSE"
      }
     },
     "output_type": "display_data"
    },
    {
     "data": {
      "application/scrapbook.scrap.json+json": {
       "data": 0.9408438579136279,
       "encoder": "json",
       "name": "ABC Pre-generator MSE",
       "version": 1
      }
     },
     "metadata": {
      "scrapbook": {
       "data": true,
       "display": false,
       "name": "ABC Pre-generator MSE"
      }
     },
     "output_type": "display_data"
    },
    {
     "data": {
      "application/scrapbook.scrap.json+json": {
       "data": 0.2065568968867557,
       "encoder": "json",
       "name": "Prior Model MSE",
       "version": 1
      }
     },
     "metadata": {
      "scrapbook": {
       "data": true,
       "display": false,
       "name": "Prior Model MSE"
      }
     },
     "output_type": "display_data"
    },
    {
     "data": {
      "application/scrapbook.scrap.json+json": {
       "data": 0.7832504635742656,
       "encoder": "json",
       "name": "ABC Pre-generator MSE",
       "version": 1
      }
     },
     "metadata": {
      "scrapbook": {
       "data": true,
       "display": false,
       "name": "ABC Pre-generator MSE"
      }
     },
     "output_type": "display_data"
    }
   ],
   "source": [
    "y_pred = prior_model.predict(X_test)\n",
    "y_abc = y_pred + np.random.normal(0,variance, y_pred.shape) + bias \n",
    "mse = mean_squared_error(y_pred,Y_test)\n",
    "sb.glue(\"Prior Model MSE\",mse)\n",
    "mse = mean_squared_error(y_abc,Y_test)\n",
    "sb.glue(\"ABC Pre-generator MSE\",mse)\n",
    "mae = mean_absolute_error(y_pred,Y_test)\n",
    "sb.glue(\"Prior Model MSE\",mae)\n",
    "mae = mean_absolute_error(y_abc,Y_test)\n",
    "sb.glue(\"ABC Pre-generator MSE\",mae)"
   ]
  },
  {
   "cell_type": "markdown",
   "id": "25609da2",
   "metadata": {
    "papermill": {
     "duration": 0.009893,
     "end_time": "2022-06-11T17:39:45.430157",
     "exception": false,
     "start_time": "2022-06-11T17:39:45.420264",
     "status": "completed"
    },
    "tags": []
   },
   "source": [
    "# ABC GAN Model"
   ]
  },
  {
   "cell_type": "code",
   "execution_count": 11,
   "id": "dfc3464d",
   "metadata": {
    "execution": {
     "iopub.execute_input": "2022-06-11T17:39:45.452901Z",
     "iopub.status.busy": "2022-06-11T17:39:45.452530Z",
     "iopub.status.idle": "2022-06-11T17:39:45.455066Z",
     "shell.execute_reply": "2022-06-11T17:39:45.455307Z"
    },
    "papermill": {
     "duration": 0.015361,
     "end_time": "2022-06-11T17:39:45.455418",
     "exception": false,
     "start_time": "2022-06-11T17:39:45.440057",
     "status": "completed"
    },
    "tags": []
   },
   "outputs": [],
   "source": [
    "gen = network.Generator(n_features+1).to(device)\n",
    "disc = network.Discriminator(n_features+1).to(device)\n",
    "\n",
    "criterion = torch.nn.BCELoss()\n",
    "gen_opt = torch.optim.Adam(gen.parameters(), lr=0.001, betas=(0.5, 0.999))\n",
    "disc_opt = torch.optim.Adam(disc.parameters(), lr=0.001, betas=(0.5, 0.999))"
   ]
  },
  {
   "cell_type": "code",
   "execution_count": 12,
   "id": "b75fdd85",
   "metadata": {
    "execution": {
     "iopub.execute_input": "2022-06-11T17:39:45.478108Z",
     "iopub.status.busy": "2022-06-11T17:39:45.477732Z",
     "iopub.status.idle": "2022-06-11T17:40:46.473457Z",
     "shell.execute_reply": "2022-06-11T17:40:46.473757Z"
    },
    "papermill": {
     "duration": 61.008391,
     "end_time": "2022-06-11T17:40:46.473881",
     "exception": false,
     "start_time": "2022-06-11T17:39:45.465490",
     "status": "completed"
    },
    "tags": []
   },
   "outputs": [
    {
     "data": {
      "image/png": "[encoded data removed]",
      "text/plain": [
       "<Figure size 432x288 with 1 Axes>"
      ]
     },
     "metadata": {
      "needs_background": "light"
     },
     "output_type": "display_data"
    },
    {
     "data": {
      "image/png": "[encoded data removed]",
      "text/plain": [
       "<Figure size 432x288 with 1 Axes>"
      ]
     },
     "metadata": {
      "needs_background": "light"
     },
     "output_type": "display_data"
    }
   ],
   "source": [
    "#Training the ABC_GAN \n",
    "ABC_train_test2.training_GAN(disc,gen,disc_opt,gen_opt,train_data,batch_size,n_epochs,criterion,prior_model,variance,bias,device)"
   ]
  },
  {
   "cell_type": "code",
   "execution_count": 13,
   "id": "1fa7c368",
   "metadata": {
    "execution": {
     "iopub.execute_input": "2022-06-11T17:40:46.498513Z",
     "iopub.status.busy": "2022-06-11T17:40:46.498128Z",
     "iopub.status.idle": "2022-06-11T17:40:46.805124Z",
     "shell.execute_reply": "2022-06-11T17:40:46.805415Z"
    },
    "papermill": {
     "duration": 0.320576,
     "end_time": "2022-06-11T17:40:46.805536",
     "exception": false,
     "start_time": "2022-06-11T17:40:46.484960",
     "status": "completed"
    },
    "tags": []
   },
   "outputs": [
    {
     "data": {
      "application/scrapbook.scrap.json+json": {
       "data": 0.10518038085945192,
       "encoder": "json",
       "name": "ABC-GAN Model 1 MSE",
       "version": 1
      }
     },
     "metadata": {
      "scrapbook": {
       "data": true,
       "display": false,
       "name": "ABC-GAN Model 1 MSE"
      }
     },
     "output_type": "display_data"
    },
    {
     "data": {
      "application/scrapbook.scrap.json+json": {
       "data": 0.2085902379493357,
       "encoder": "json",
       "name": "ABC-GAN Model 1 MAE",
       "version": 1
      }
     },
     "metadata": {
      "scrapbook": {
       "data": true,
       "display": false,
       "name": "ABC-GAN Model 1 MAE"
      }
     },
     "output_type": "display_data"
    },
    {
     "data": {
      "application/scrapbook.scrap.json+json": {
       "data": 21.276204270832242,
       "encoder": "json",
       "name": "ABC-GAN Model 1 Manhattan Distance",
       "version": 1
      }
     },
     "metadata": {
      "scrapbook": {
       "data": true,
       "display": false,
       "name": "ABC-GAN Model 1 Manhattan Distance"
      }
     },
     "output_type": "display_data"
    },
    {
     "data": {
      "application/scrapbook.scrap.json+json": {
       "data": 3.275228556769801,
       "encoder": "json",
       "name": "ABC-GAN Model 1 Euclidean distance",
       "version": 1
      }
     },
     "metadata": {
      "scrapbook": {
       "data": true,
       "display": false,
       "name": "ABC-GAN Model 1 Euclidean distance"
      }
     },
     "output_type": "display_data"
    },
    {
     "data": {
      "application/scrapbook.scrap.json+json": {
       "data": [
        [
         0.10458352616787227,
         0.10328489606607658,
         0.10759474995902714,
         0.10568169970857345,
         0.10859216044162384,
         0.10219943206959095,
         0.10423215812068332,
         0.10321248962617871,
         0.10883300374280866,
         0.10064985712806937,
         0.1070856400162038,
         0.10792273518453824,
         0.10641760391535036,
         0.10262206350760336,
         0.10798422929403464,
         0.10273319654396469,
         0.10394213141628161,
         0.103371033146481,
         0.10570994199969679,
         0.10778521674107604,
         0.10489748200094465,
         0.1075534230408404,
         0.10532806028329733,
         0.10288746953535571,
         0.10588125883008177,
         0.10824099452542842,
         0.1088931026061747,
         0.10956792932318922,
         0.10724940966052599,
         0.10636525667061342,
         0.10388060657156775,
         0.10253863484500632,
         0.10509658174337422,
         0.10887035499448143,
         0.10508305196778853,
         0.10412770715780144,
         0.10297383788824628,
         0.10213957924497354,
         0.10793088774492259,
         0.10276797262077769,
         0.10486360699307004,
         0.1037919786803278,
         0.10345466056171265,
         0.10655447203937882,
         0.10504777754827839,
         0.10751757010764645,
         0.10757162548355405,
         0.10357524936404593,
         0.10293766775946502,
         0.10217699751608703,
         0.10342995310431771,
         0.10459865763274225,
         0.105957438412475,
         0.10131535808950179,
         0.1050576936045838,
         0.10613085993631617,
         0.10272908459263519,
         0.1075166620159526,
         0.10858581333529899,
         0.10604233260561326,
         0.10261332683249788,
         0.10565092921424511,
         0.10691191512708337,
         0.10503536138839517,
         0.10558155244440971,
         0.10529285000198194,
         0.10164034665001805,
         0.1083292424649149,
         0.10501391666937171,
         0.10203269426242409,
         0.1020376568985312,
         0.10158865698805565,
         0.10322308419930999,
         0.10798328355046923,
         0.10770487487469839,
         0.108292177203512,
         0.10326446644536919,
         0.10365656443008195,
         0.10269647271231419,
         0.10293973548663818,
         0.10774978140500734,
         0.10735003778061972,
         0.10508279391310993,
         0.10373433430504057,
         0.10277497155751336,
         0.10589186921464869,
         0.10156534811598723,
         0.10366218286536627,
         0.10657105173706014,
         0.10737356362460095,
         0.1043575229903781,
         0.10368201482909972,
         0.10736233812225364,
         0.1031243624912624,
         0.10902536257918709,
         0.10529811793484573,
         0.10515054913612354,
         0.11173202416779593,
         0.1059831740353611,
         0.10351075186147969
        ],
        [
         0.20827958220615983,
         0.20674957326777718,
         0.21151450757558146,
         0.20744942485665283,
         0.20936840012048683,
         0.20842057319504081,
         0.20731557473795964,
         0.20779637319455838,
         0.20828464984272918,
         0.20722567888122856,
         0.21083034661726333,
         0.20817221532228822,
         0.20856959262278443,
         0.20905869402100935,
         0.21194505544525444,
         0.20786848677979672,
         0.20857804267685495,
         0.20774148425598646,
         0.20898215238041445,
         0.20883069317970498,
         0.20738584065225488,
         0.20918117323890328,
         0.20798063204240272,
         0.206771729249215,
         0.21014186600223184,
         0.20909926659591935,
         0.21039669536163702,
         0.2101036658528827,
         0.20898500091268443,
         0.2088618998634903,
         0.20671794577227795,
         0.2091136949374249,
         0.2094728350548037,
         0.21134258798487923,
         0.20907299993924944,
         0.208760428653263,
         0.20681858682712795,
         0.20735365392494143,
         0.20967810132595546,
         0.20767163608551903,
         0.20703333571516708,
         0.20731448300876745,
         0.20845114453421795,
         0.20821627476891758,
         0.20929881542300185,
         0.20852588722482324,
         0.2101177588452165,
         0.20784540393152365,
         0.2074544703606151,
         0.2084494049697384,
         0.20942399569549688,
         0.2080604494549334,
         0.2085416860348892,
         0.20917668711284504,
         0.20971477958465032,
         0.20920837983744694,
         0.2075495132537303,
         0.20957790124321393,
         0.21069289772205202,
         0.2095857562004205,
         0.20757190487804075,
         0.20902165075691015,
         0.20923938002327785,
         0.20950675060899526,
         0.2106800854991318,
         0.2103210435541091,
         0.20808920482465743,
         0.2076756719627655,
         0.20775456462676326,
         0.20782397927570284,
         0.20500564260189147,
         0.2062417728844665,
         0.20756336139953313,
         0.21016836523388824,
         0.20851923502506872,
         0.20998262598489723,
         0.20826183317010016,
         0.20883911175142025,
         0.20708068678447722,
         0.208058108365638,
         0.20931489436028927,
         0.21065304566211268,
         0.20972516240698158,
         0.20831007589859998,
         0.2081648984138726,
         0.207407101030078,
         0.20597083142538572,
         0.2071103918110477,
         0.20865125069394708,
         0.20858721397634522,
         0.20787064306547537,
         0.20627789359138,
         0.21086655534329077,
         0.20898037775437914,
         0.20851051192913278,
         0.2076071742465537,
         0.20879813947477469,
         0.2112060447734799,
         0.20841788295108607,
         0.20705836053535925
        ],
        [
         21.244517385028303,
         21.088456473313272,
         21.57447977270931,
         21.159841335378587,
         21.355576812289655,
         21.258898465894163,
         21.146188623271883,
         21.195230065844953,
         21.245034283958375,
         21.137019245885313,
         21.50469535496086,
         21.2335659628734,
         21.27409844752401,
         21.323986790142953,
         21.618395655415952,
         21.202585651539266,
         21.274960353039205,
         21.18963139411062,
         21.316179542802274,
         21.300730704329908,
         21.153355746529996,
         21.336479670368135,
         21.21402446832508,
         21.09071638341993,
         21.434470332227647,
         21.328125192783773,
         21.460462926886976,
         21.430573916994035,
         21.316470093093812,
         21.30391378607601,
         21.08523046877235,
         21.32959688361734,
         21.36622917558998,
         21.55694397445768,
         21.32544599380344,
         21.293563722632825,
         21.09549585636705,
         21.150072700344026,
         21.387166335247457,
         21.18250688072294,
         21.117400242947042,
         21.14607726689428,
         21.262016742490232,
         21.238060026429594,
         21.34847917314619,
         21.26964049693197,
         21.432011402212083,
         21.200231201015413,
         21.16035597678274,
         21.261839306913316,
         21.361247560940683,
         21.222165844403207,
         21.271251975558698,
         21.336022085510194,
         21.390907517634332,
         21.339254743419588,
         21.17005035188049,
         21.37694592680782,
         21.490675567649305,
         21.37774713244289,
         21.172334297560155,
         21.320208377204835,
         21.34241676237434,
         21.369688562117517,
         21.489368720911443,
         21.45274644251913,
         21.225098892115057,
         21.18291854020208,
         21.190965591929853,
         21.19804588612169,
         20.91057554539293,
         21.03666083421558,
         21.171462862752378,
         21.4371732538566,
         21.26896197255701,
         21.418227850459516,
         21.242706983350217,
         21.301589398644865,
         21.122230052016675,
         21.221927053295076,
         21.350119224749506,
         21.486610657535493,
         21.39196656551212,
         21.247627741657197,
         21.232819638215005,
         21.155524305067956,
         21.009024805389345,
         21.125259964726865,
         21.282427570782602,
         21.275895825587213,
         21.202805592678487,
         21.04034514632076,
         21.508388645015657,
         21.315998530946672,
         21.268072216771543,
         21.175931773148477,
         21.29741022642702,
         21.54301656689495,
         21.258624061010778,
         21.119952774606645
        ],
        [
         3.2661169098982006,
         3.245775623597511,
         3.3128031175759247,
         3.283219969827561,
         3.32812264873842,
         3.2286749714237692,
         3.2606257264993936,
         3.244637721205593,
         3.331811276433058,
         3.2041044656913225,
         3.304956169399647,
         3.317848548204529,
         3.2946313298100196,
         3.2353439504596007,
         3.318793664570235,
         3.237095310225573,
         3.2560862096174183,
         3.247128790322469,
         3.283658643033571,
         3.3157340224435607,
         3.2710156166084494,
         3.31216683610076,
         3.277722097569641,
         3.2395249486006863,
         3.2863183656895356,
         3.322737040693064,
         3.332731082135163,
         3.3430418470257446,
         3.3074823938115903,
         3.2938209089752535,
         3.2551224048105953,
         3.2340285642199644,
         3.2741184062009996,
         3.3323829626015526,
         3.273907649997848,
         3.2589915817773667,
         3.240884364583396,
         3.227729400520946,
         3.317973862160777,
         3.237643156266503,
         3.270487412189985,
         3.2537335209561076,
         3.2484419922933347,
         3.29674933047944,
         3.2733581090257133,
         3.3116147346845675,
         3.3124471013621504,
         3.2503346650972236,
         3.2403151253335576,
         3.228320576807836,
         3.2480540661510555,
         3.266353177251307,
         3.2875003753722143,
         3.214679847998737,
         3.27351260081087,
         3.2901896166489015,
         3.2370305263387285,
         3.3116007497322446,
         3.3280253845486962,
         3.28881710129532,
         3.2352062278801927,
         3.2827419605952888,
         3.3022742682827704,
         3.273164655439184,
         3.2816639604520423,
         3.277174194363515,
         3.219831572971145,
         3.324091264003039,
         3.2728305028332767,
         3.226040113632696,
         3.226118566272818,
         3.219012738834949,
         3.2448042449937744,
         3.318779131269187,
         3.314498036991308,
         3.3235225401309103,
         3.245454602583074,
         3.2516103044289233,
         3.2365166794960363,
         3.2403476695621865,
         3.315188939308098,
         3.3090336736913413,
         3.2739036300931663,
         3.252829860154715,
         3.2377534030352533,
         3.286483022912816,
         3.218643426636554,
         3.251698425787263,
         3.297005804844774,
         3.3093962424752483,
         3.2625859904404915,
         3.25200945763818,
         3.309223245486751,
         3.243252221784295,
         3.3347544112088796,
         3.2772561738982597,
         3.27495893285467,
         3.375894913221558,
         3.2878995957308113,
         3.2493224970554895
        ]
       ],
       "encoder": "json",
       "name": "ABC_GAN_1 Metrics",
       "version": 1
      }
     },
     "metadata": {
      "scrapbook": {
       "data": true,
       "display": false,
       "name": "ABC_GAN_1 Metrics"
      }
     },
     "output_type": "display_data"
    },
    {
     "name": "stdout",
     "output_type": "stream",
     "text": [
      "MSE\n",
      "0.10518038085945192\n"
     ]
    }
   ],
   "source": [
    "ABC_GAN1_metrics=ABC_train_test2.test_generator(gen,test_data,prior_model,variance,bias,\"1\",device)\n",
    "sb.glue(\"ABC_GAN_1 Metrics\",ABC_GAN1_metrics)\n",
    "\n",
    "print(\"MSE\")\n",
    "print(mean(ABC_GAN1_metrics[0]))"
   ]
  },
  {
   "cell_type": "code",
   "execution_count": 14,
   "id": "eb22ce5c",
   "metadata": {
    "execution": {
     "iopub.execute_input": "2022-06-11T17:40:46.833609Z",
     "iopub.status.busy": "2022-06-11T17:40:46.833251Z",
     "iopub.status.idle": "2022-06-11T17:40:47.159463Z",
     "shell.execute_reply": "2022-06-11T17:40:47.159857Z"
    },
    "papermill": {
     "duration": 0.341362,
     "end_time": "2022-06-11T17:40:47.159984",
     "exception": false,
     "start_time": "2022-06-11T17:40:46.818622",
     "status": "completed"
    },
    "tags": []
   },
   "outputs": [
    {
     "data": {
      "image/png": "[encoded data removed]",
      "text/plain": [
       "<Figure size 432x288 with 1 Axes>"
      ]
     },
     "metadata": {
      "needs_background": "light"
     },
     "output_type": "display_data"
    },
    {
     "data": {
      "image/png": "[encoded data removed]",
      "text/plain": [
       "<Figure size 432x288 with 1 Axes>"
      ]
     },
     "metadata": {
      "needs_background": "light"
     },
     "output_type": "display_data"
    },
    {
     "data": {
      "image/png": "[encoded data removed]",
      "text/plain": [
       "<Figure size 432x288 with 1 Axes>"
      ]
     },
     "metadata": {
      "needs_background": "light"
     },
     "output_type": "display_data"
    },
    {
     "data": {
      "image/png": "[encoded data removed]",
      "text/plain": [
       "<Figure size 432x288 with 1 Axes>"
      ]
     },
     "metadata": {
      "needs_background": "light"
     },
     "output_type": "display_data"
    }
   ],
   "source": [
    "sanityChecks.discProbVsError(train_data,disc,device)\n",
    "sanityChecks.discProbVsError(test_data,disc,device)"
   ]
  },
  {
   "cell_type": "markdown",
   "id": "130f3a4d",
   "metadata": {
    "id": "130f3a4d",
    "papermill": {
     "duration": 0.014695,
     "end_time": "2022-06-11T17:40:47.189698",
     "exception": false,
     "start_time": "2022-06-11T17:40:47.175003",
     "status": "completed"
    },
    "tags": []
   },
   "source": [
    "# ABC - GAN Model with skip connection"
   ]
  },
  {
   "cell_type": "code",
   "execution_count": 15,
   "id": "4e43dad1",
   "metadata": {
    "execution": {
     "iopub.execute_input": "2022-06-11T17:40:47.223567Z",
     "iopub.status.busy": "2022-06-11T17:40:47.223187Z",
     "iopub.status.idle": "2022-06-11T17:40:47.225492Z",
     "shell.execute_reply": "2022-06-11T17:40:47.225774Z"
    },
    "id": "4e43dad1",
    "papermill": {
     "duration": 0.02115,
     "end_time": "2022-06-11T17:40:47.225882",
     "exception": false,
     "start_time": "2022-06-11T17:40:47.204732",
     "status": "completed"
    },
    "tags": []
   },
   "outputs": [],
   "source": [
    "#Generator\n",
    "gen3 = network.GeneratorWithSkipConnection(n_features+1).to(device)\n",
    "constraints=network.weightConstraint()\n",
    "#Discriminator \n",
    "disc3 = network.Discriminator(n_features+1).to(device)\n",
    "\n",
    "criterion = torch.nn.BCELoss()\n",
    "gen_opt = torch.optim.Adam(gen3.parameters(), lr=0.001, betas=(0.5, 0.999))\n",
    "disc_opt = torch.optim.Adam(disc3.parameters(), lr=0.001, betas=(0.5, 0.999))\n"
   ]
  },
  {
   "cell_type": "code",
   "execution_count": 16,
   "id": "26acbc37",
   "metadata": {
    "execution": {
     "iopub.execute_input": "2022-06-11T17:40:47.258139Z",
     "iopub.status.busy": "2022-06-11T17:40:47.257713Z",
     "iopub.status.idle": "2022-06-11T17:43:44.664066Z",
     "shell.execute_reply": "2022-06-11T17:43:44.664392Z"
    },
    "id": "26acbc37",
    "papermill": {
     "duration": 177.423595,
     "end_time": "2022-06-11T17:43:44.664531",
     "exception": false,
     "start_time": "2022-06-11T17:40:47.240936",
     "status": "completed"
    },
    "tags": []
   },
   "outputs": [
    {
     "data": {
      "image/png": "[encoded data removed]",
      "text/plain": [
       "<Figure size 432x288 with 1 Axes>"
      ]
     },
     "metadata": {
      "needs_background": "light"
     },
     "output_type": "display_data"
    },
    {
     "data": {
      "image/png": "[encoded data removed]",
      "text/plain": [
       "<Figure size 432x288 with 1 Axes>"
      ]
     },
     "metadata": {
      "needs_background": "light"
     },
     "output_type": "display_data"
    }
   ],
   "source": [
    "ABC_train_test2.training_GAN_skip_connection(disc3,gen3,disc_opt,gen_opt,train_data,batch_size,n_epochs,criterion,prior_model,variance,bias,device)"
   ]
  },
  {
   "cell_type": "code",
   "execution_count": 17,
   "id": "c5e0717b",
   "metadata": {
    "execution": {
     "iopub.execute_input": "2022-06-11T17:43:44.699030Z",
     "iopub.status.busy": "2022-06-11T17:43:44.698651Z",
     "iopub.status.idle": "2022-06-11T17:43:45.530281Z",
     "shell.execute_reply": "2022-06-11T17:43:45.530577Z"
    },
    "id": "c5e0717b",
    "papermill": {
     "duration": 0.850069,
     "end_time": "2022-06-11T17:43:45.530703",
     "exception": false,
     "start_time": "2022-06-11T17:43:44.680634",
     "status": "completed"
    },
    "tags": []
   },
   "outputs": [
    {
     "data": {
      "application/scrapbook.scrap.json+json": {
       "data": 0.15516658566142863,
       "encoder": "json",
       "name": "ABC-GAN Model 3 MSE",
       "version": 1
      }
     },
     "metadata": {
      "scrapbook": {
       "data": true,
       "display": false,
       "name": "ABC-GAN Model 3 MSE"
      }
     },
     "output_type": "display_data"
    },
    {
     "data": {
      "application/scrapbook.scrap.json+json": {
       "data": 0.23756039216310953,
       "encoder": "json",
       "name": "ABC-GAN Model 3 MAE",
       "version": 1
      }
     },
     "metadata": {
      "scrapbook": {
       "data": true,
       "display": false,
       "name": "ABC-GAN Model 3 MAE"
      }
     },
     "output_type": "display_data"
    },
    {
     "data": {
      "application/scrapbook.scrap.json+json": {
       "data": 24.231160000637175,
       "encoder": "json",
       "name": "ABC-GAN Model 3 Manhattan Distance",
       "version": 1
      }
     },
     "metadata": {
      "scrapbook": {
       "data": true,
       "display": false,
       "name": "ABC-GAN Model 3 Manhattan Distance"
      }
     },
     "output_type": "display_data"
    },
    {
     "data": {
      "application/scrapbook.scrap.json+json": {
       "data": 3.977573932894158,
       "encoder": "json",
       "name": "ABC-GAN Model 3 Euclidean distance",
       "version": 1
      }
     },
     "metadata": {
      "scrapbook": {
       "data": true,
       "display": false,
       "name": "ABC-GAN Model 3 Euclidean distance"
      }
     },
     "output_type": "display_data"
    },
    {
     "data": {
      "application/scrapbook.scrap.json+json": {
       "data": [
        [
         0.15512500789780378,
         0.15255100588499843,
         0.1542785988472096,
         0.15372024062234654,
         0.16542738254445027,
         0.13048747811142236,
         0.16013884962797104,
         0.1515067667373229,
         0.15507987787680952,
         0.15479014875074795,
         0.15411896535704941,
         0.1498032534610297,
         0.15479670464126033,
         0.15525129728765039,
         0.16278787466641909,
         0.14933396995411397,
         0.1612777200040583,
         0.15662015809720278,
         0.14546867268534214,
         0.14010804310776184,
         0.14837192245188485,
         0.15580759096124908,
         0.15422781676365935,
         0.16550171976983344,
         0.15203032216457862,
         0.15913899333831757,
         0.1494923320421215,
         0.1555163630976591,
         0.15922914130960414,
         0.15365881418101407,
         0.14353951867385623,
         0.15468438695194187,
         0.15567988272004427,
         0.13281038272169973,
         0.15542971810644124,
         0.15621284115115683,
         0.15988195176069267,
         0.15253979786848357,
         0.1610807247828033,
         0.16004248284180342,
         0.16005708414108205,
         0.16629216495937965,
         0.16073404605477642,
         0.15421840105502257,
         0.1500440433692115,
         0.1620086852579721,
         0.1447479037852842,
         0.15480198086720648,
         0.156591542966687,
         0.1562895948652447,
         0.154546076362415,
         0.1519360671595386,
         0.14905294093294658,
         0.1624355724241328,
         0.15303129734441268,
         0.15976423099703735,
         0.15447105421660384,
         0.15719819523702272,
         0.15439328125261176,
         0.1497384926079542,
         0.15682537867265584,
         0.15690035199149904,
         0.15326842864583004,
         0.1601841691709214,
         0.15064768935754308,
         0.15986950835249727,
         0.1615216589172937,
         0.15359567726876192,
         0.1533285125429182,
         0.1590855826523765,
         0.1604323141662117,
         0.15590711052773484,
         0.1595476250868438,
         0.15121062556355255,
         0.1624725386362338,
         0.15340795053861286,
         0.15915397786808738,
         0.1514838055070288,
         0.16097479566772202,
         0.15693910928959376,
         0.15515167750890227,
         0.16152617999859928,
         0.15630499941881218,
         0.1604146115558734,
         0.14423772851643543,
         0.15281124256609757,
         0.15541061377100954,
         0.14699909763415772,
         0.15633895068593828,
         0.15652388964144195,
         0.15602739074023173,
         0.15156406525474644,
         0.15856283193825912,
         0.15835832654942125,
         0.16373589486139842,
         0.15609000096861145,
         0.1623385577415039,
         0.15770381596302457,
         0.1564317373124019,
         0.15346876741372165
        ],
        [
         0.23650564248764924,
         0.22741151585554084,
         0.23430940990025798,
         0.239972054072674,
         0.25405467848530877,
         0.2332593889852219,
         0.24165708085010743,
         0.2307074773490575,
         0.2408112509486576,
         0.23917795621844776,
         0.23271303170123228,
         0.2311622674175191,
         0.2332581853147085,
         0.2350579836113634,
         0.2426088898552253,
         0.23017597621233732,
         0.24193147705940932,
         0.2414064849909468,
         0.23694817804932303,
         0.22947034142071418,
         0.239160997236111,
         0.2351983828634462,
         0.23752140924882362,
         0.24975320637481763,
         0.2328353780504389,
         0.23325543725570919,
         0.22930557820398142,
         0.2347894968264097,
         0.24168792351459464,
         0.235545010095937,
         0.22732200213324497,
         0.23350772151139146,
         0.23525727122985557,
         0.23496499632978263,
         0.23856821312002985,
         0.24076895144603708,
         0.24060211505046955,
         0.23003943665318338,
         0.24135515308372824,
         0.23890258443961834,
         0.2421874628840562,
         0.24971778353895335,
         0.24051284153635302,
         0.24039007298757925,
         0.23649245411997624,
         0.24443752434579472,
         0.22470925484473506,
         0.23933489170546332,
         0.23847015442180575,
         0.23954886153303817,
         0.22947713483453674,
         0.23795848466711594,
         0.23067834946856486,
         0.2407813854059022,
         0.23128307759579197,
         0.24852469303261707,
         0.2372247628849365,
         0.24429276551795648,
         0.23521265211314255,
         0.2328615925165222,
         0.23691529297616845,
         0.23789375157588544,
         0.22815873670190864,
         0.23826439637581215,
         0.23634758115946955,
         0.23810466944112205,
         0.2387607862314611,
         0.2404277345768231,
         0.23904436259694836,
         0.24599471610660353,
         0.23904137515152493,
         0.237048965705303,
         0.23897233699430145,
         0.23036166264986,
         0.24578613195312665,
         0.23524494234509036,
         0.23973739106098518,
         0.23568510022196992,
         0.2444155726344416,
         0.24063324898152666,
         0.23110382513636174,
         0.24295232013123585,
         0.23698293575651797,
         0.24011916151343315,
         0.2381610842512957,
         0.2332388856448233,
         0.24151649595439142,
         0.2300458230059959,
         0.23194715233665764,
         0.23771800976429208,
         0.2370011694638022,
         0.24163095060480283,
         0.2367338923755668,
         0.24223267519846559,
         0.24559770596633648,
         0.2356207161758314,
         0.24561098469056042,
         0.2377257542410756,
         0.24070041717084892,
         0.2355237660801732
        ],
        [
         24.123575533740222,
         23.195974617265165,
         23.899559809826314,
         24.477149515412748,
         25.913577205501497,
         23.79245767649263,
         24.649022246710956,
         23.532162689603865,
         24.562747596763074,
         24.39615153428167,
         23.736729233525693,
         23.57855127658695,
         23.792334902100265,
         23.975914328359067,
         24.74610676523298,
         23.477949573658407,
         24.67701066005975,
         24.623461469076574,
         24.168714161030948,
         23.405974824912846,
         24.394421718083322,
         23.99023505207151,
         24.22718374338001,
         25.474827050231397,
         23.74920856114477,
         23.792054600082338,
         23.389168976806104,
         23.94852867629379,
         24.652168198488653,
         24.025591029785573,
         23.186844217590988,
         23.817787594161928,
         23.996241665445268,
         23.96642962563783,
         24.333957738243043,
         24.558433047495782,
         24.541415735147893,
         23.464022538624704,
         24.61822561454028,
         24.36806361284107,
         24.703121214173734,
         25.47121392097324,
         24.53230983670801,
         24.519787444733083,
         24.122230320237577,
         24.932627483271062,
         22.920343994162977,
         24.41215895395726,
         24.323955751024187,
         24.433983876369894,
         23.406667753122747,
         24.271765436045825,
         23.529191645793617,
         24.559701311402023,
         23.590873914770782,
         25.349518689326942,
         24.196925814263523,
         24.91786208283156,
         23.99169051554054,
         23.751882436685264,
         24.16535988356918,
         24.265162660740316,
         23.272191143594682,
         24.30296843033284,
         24.107453278265893,
         24.28667628299445,
         24.353600195609033,
         24.523628926835954,
         24.382524984888732,
         25.09146104287356,
         24.382220265455544,
         24.178994501940906,
         24.37517837341875,
         23.49688959028572,
         25.07018545921892,
         23.994984119199216,
         24.45321388822049,
         24.03988022264093,
         24.930388408713043,
         24.54459139611572,
         23.5725901639089,
         24.781136653386056,
         24.172259447164834,
         24.49215447437018,
         24.29243059363216,
         23.790366335771978,
         24.634682587347925,
         23.464673946611583,
         23.65860953833908,
         24.247236995957792,
         24.174119285307825,
         24.64635696168989,
         24.146857022307813,
         24.70773287024349,
         25.05096600856632,
         24.033313049934804,
         25.052320438437164,
         24.24802693258971,
         24.55144255142659,
         24.023424140177667
        ],
        [
         3.9777821465706213,
         3.9446422651832234,
         3.9669153107188175,
         3.959730362471584,
         4.10774792551027,
         3.648249274291037,
         4.041554485844902,
         3.931118187896025,
         3.9772034827796485,
         3.9734865260343195,
         3.9648624776174817,
         3.908955340372287,
         3.9735706704938005,
         3.979401000570354,
         4.074845176933074,
         3.9028278126660445,
         4.055900324270056,
         3.996905818994824,
         3.8519870993949206,
         3.780346597468505,
         3.890235994138691,
         3.9865240847193437,
         3.9662623854068504,
         4.108670760297424,
         3.9379046281984804,
         4.028917636352024,
         3.904896652703678,
         3.9827966350243433,
         4.030058611680435,
         3.958939131442087,
         3.8263600072044093,
         3.972128833396277,
         3.9848899655378838,
         3.6805786280982193,
         3.9816869850425207,
         3.9917051240563834,
         4.038311414389763,
         3.9444973548711273,
         4.0534224956012075,
         4.040338259337199,
         4.040522563034436,
         4.118470690178178,
         4.049058248233432,
         3.966141312108318,
         3.912095656251207,
         4.0650812902466225,
         3.8424323268079803,
         3.973638389241661,
         3.9965406769607723,
         3.9926856470620065,
         3.970352602599211,
         3.9366837376493597,
         3.8991537511568515,
         4.070433439728691,
         3.950847039449906,
         4.036824440286919,
         3.9693888106475024,
         4.004274705134041,
         3.9683894324733804,
         3.9081103165099265,
         3.999523549700751,
         4.000479459156476,
         3.953906893425116,
         4.042126328485291,
         3.919957182734193,
         4.038154263021005,
         4.058966519887045,
         3.9581257030839367,
         3.9546818177165215,
         4.028241481160532,
         4.045255992511919,
         3.987797045215434,
         4.034086979585103,
         3.92727434838494,
         4.070896577032611,
         3.9557061259576023,
         4.029107313356758,
         3.930820291200926,
         4.052089480515902,
         4.00097352497346,
         3.9781240686921806,
         4.059023325857726,
         3.9928824100790687,
         4.045032803167247,
         3.8356548735094003,
         3.948005413084175,
         3.9814422769447466,
         3.872196787184774,
         3.9933160368252474,
         3.995677257165182,
         3.989335014197685,
         3.931861474668726,
         4.021617691638831,
         4.019023427157517,
         4.086693195710027,
         3.9901353484309743,
         4.069217724530526,
         4.010709317343816,
         3.994500870680214,
         3.9564901461016677
        ]
       ],
       "encoder": "json",
       "name": "ABC_GAN_3 Metrics",
       "version": 1
      }
     },
     "metadata": {
      "scrapbook": {
       "data": true,
       "display": false,
       "name": "ABC_GAN_3 Metrics"
      }
     },
     "output_type": "display_data"
    },
    {
     "name": "stdout",
     "output_type": "stream",
     "text": [
      "MSE\n",
      "0.15516658566142863\n"
     ]
    }
   ],
   "source": [
    "ABC_GAN3_metrics=ABC_train_test2.test_generator(gen3,test_data,prior_model,variance,bias,\"3\",device)\n",
    "sb.glue(\"ABC_GAN_3 Metrics\",ABC_GAN3_metrics)\n",
    "\n",
    "print(\"MSE\")\n",
    "print(mean(ABC_GAN3_metrics[0]))"
   ]
  },
  {
   "cell_type": "code",
   "execution_count": 18,
   "id": "c8e46b48",
   "metadata": {
    "execution": {
     "iopub.execute_input": "2022-06-11T17:43:45.568457Z",
     "iopub.status.busy": "2022-06-11T17:43:45.568076Z",
     "iopub.status.idle": "2022-06-11T17:43:45.883230Z",
     "shell.execute_reply": "2022-06-11T17:43:45.883525Z"
    },
    "id": "c8e46b48",
    "papermill": {
     "duration": 0.335281,
     "end_time": "2022-06-11T17:43:45.883649",
     "exception": false,
     "start_time": "2022-06-11T17:43:45.548368",
     "status": "completed"
    },
    "tags": []
   },
   "outputs": [
    {
     "data": {
      "image/png": "[encoded data removed]",
      "text/plain": [
       "<Figure size 432x288 with 1 Axes>"
      ]
     },
     "metadata": {
      "needs_background": "light"
     },
     "output_type": "display_data"
    },
    {
     "data": {
      "image/png": "[encoded data removed]",
      "text/plain": [
       "<Figure size 432x288 with 1 Axes>"
      ]
     },
     "metadata": {
      "needs_background": "light"
     },
     "output_type": "display_data"
    },
    {
     "data": {
      "image/png": "[encoded data removed]",
      "text/plain": [
       "<Figure size 432x288 with 1 Axes>"
      ]
     },
     "metadata": {
      "needs_background": "light"
     },
     "output_type": "display_data"
    },
    {
     "data": {
      "image/png": "[encoded data removed]",
      "text/plain": [
       "<Figure size 432x288 with 1 Axes>"
      ]
     },
     "metadata": {
      "needs_background": "light"
     },
     "output_type": "display_data"
    }
   ],
   "source": [
    "sanityChecks.discProbVsError(train_data,disc3,device)\n",
    "sanityChecks.discProbVsError(test_data,disc3,device)"
   ]
  },
  {
   "cell_type": "markdown",
   "id": "a5bd74c3",
   "metadata": {
    "id": "a5bd74c3",
    "papermill": {
     "duration": 0.019662,
     "end_time": "2022-06-11T17:43:45.923292",
     "exception": false,
     "start_time": "2022-06-11T17:43:45.903630",
     "status": "completed"
    },
    "tags": []
   },
   "source": [
    "## Skip Connection Model Analysis - ABC-GAN "
   ]
  },
  {
   "cell_type": "markdown",
   "id": "5744a8bf",
   "metadata": {
    "id": "5744a8bf",
    "papermill": {
     "duration": 0.019388,
     "end_time": "2022-06-11T17:43:45.962050",
     "exception": false,
     "start_time": "2022-06-11T17:43:45.942662",
     "status": "completed"
    },
    "tags": []
   },
   "source": [
    "### Weight Analysis \n",
    "\n",
    "Study the weights of the skip connection layer\n",
    "\n",
    "Equation of the skip connection is \n",
    "\n",
    "$output = y_{gan} * w + y_{abc} * (1-w)$"
   ]
  },
  {
   "cell_type": "code",
   "execution_count": 19,
   "id": "52c31dea",
   "metadata": {
    "execution": {
     "iopub.execute_input": "2022-06-11T17:43:46.003586Z",
     "iopub.status.busy": "2022-06-11T17:43:46.003213Z",
     "iopub.status.idle": "2022-06-11T17:43:46.006518Z",
     "shell.execute_reply": "2022-06-11T17:43:46.006757Z"
    },
    "id": "52c31dea",
    "papermill": {
     "duration": 0.02549,
     "end_time": "2022-06-11T17:43:46.006869",
     "exception": false,
     "start_time": "2022-06-11T17:43:45.981379",
     "status": "completed"
    },
    "tags": []
   },
   "outputs": [
    {
     "name": "stdout",
     "output_type": "stream",
     "text": [
      "Weight of the node at skip connection\n",
      "Parameter containing:\n",
      "tensor([[0.6073]], requires_grad=True)\n"
     ]
    },
    {
     "data": {
      "application/scrapbook.scrap.json+json": {
       "data": 0.6073163151741028,
       "encoder": "json",
       "name": "Skip Connection Weight",
       "version": 1
      }
     },
     "metadata": {
      "scrapbook": {
       "data": true,
       "display": false,
       "name": "Skip Connection Weight"
      }
     },
     "output_type": "display_data"
    }
   ],
   "source": [
    "print(\"Weight of the node at skip connection\")\n",
    "for name,param in gen3.named_parameters():\n",
    "    if(name == \"skipNode.weight\"):\n",
    "        print(param)\n",
    "        sb.glue(\"Skip Connection Weight\",param.item())"
   ]
  }
 ],
 "metadata": {
  "colab": {
   "collapsed_sections": [],
   "name": "ABC_GAN_Model-Catboost_Pre-gen.ipynb",
   "provenance": []
  },
  "interpreter": {
   "hash": "31f2aee4e71d21fbe5cf8b01ff0e069b9275f58929596ceb00d14d90e3e16cd6"
  },
  "kernelspec": {
   "display_name": "Python 3 (ipykernel)",
   "language": "python",
   "name": "python3"
  },
  "language_info": {
   "codemirror_mode": {
    "name": "ipython",
    "version": 3
   },
   "file_extension": ".py",
   "mimetype": "text/x-python",
   "name": "python",
   "nbconvert_exporter": "python",
   "pygments_lexer": "ipython3",
   "version": "3.8.11"
  },
  "papermill": {
   "default_parameters": {},
   "duration": 244.782629,
   "end_time": "2022-06-11T17:43:46.334809",
   "environment_variables": {},
   "exception": null,
   "input_path": "ABC_GAN-Catboost.ipynb",
   "output_path": "./ABC_GAN_Catboost/ABC-GAN_output_2_6.ipynb",
   "parameters": {
    "bias": 0.01,
    "variance": 1
   },
   "start_time": "2022-06-11T17:39:41.552180",
   "version": "2.3.3"
  }
 },
 "nbformat": 4,
 "nbformat_minor": 5
}