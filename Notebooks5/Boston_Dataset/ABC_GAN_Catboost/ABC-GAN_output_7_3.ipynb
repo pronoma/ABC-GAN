{
 "cells": [
  {
   "cell_type": "markdown",
   "id": "622780e6",
   "metadata": {
    "id": "622780e6",
    "papermill": {
     "duration": 0.031946,
     "end_time": "2022-06-12T06:17:06.384604",
     "exception": false,
     "start_time": "2022-06-12T06:17:06.352658",
     "status": "completed"
    },
    "tags": []
   },
   "source": [
    "## Import Libraries "
   ]
  },
  {
   "cell_type": "code",
   "execution_count": 1,
   "id": "a62397e3",
   "metadata": {
    "execution": {
     "iopub.execute_input": "2022-06-12T06:17:06.420958Z",
     "iopub.status.busy": "2022-06-12T06:17:06.420466Z",
     "iopub.status.idle": "2022-06-12T06:17:06.422745Z",
     "shell.execute_reply": "2022-06-12T06:17:06.423072Z"
    },
    "id": "a62397e3",
    "papermill": {
     "duration": 0.022257,
     "end_time": "2022-06-12T06:17:06.423275",
     "exception": false,
     "start_time": "2022-06-12T06:17:06.401018",
     "status": "completed"
    },
    "tags": []
   },
   "outputs": [],
   "source": [
    "import warnings\n",
    "import sys\n",
    "sys.path.insert(0, '../../src')\n",
    "warnings.filterwarnings('ignore')"
   ]
  },
  {
   "cell_type": "code",
   "execution_count": 2,
   "id": "d6a4e155",
   "metadata": {
    "execution": {
     "iopub.execute_input": "2022-06-12T06:17:06.443426Z",
     "iopub.status.busy": "2022-06-12T06:17:06.443023Z",
     "iopub.status.idle": "2022-06-12T06:17:08.215394Z",
     "shell.execute_reply": "2022-06-12T06:17:08.215666Z"
    },
    "id": "d6a4e155",
    "papermill": {
     "duration": 1.783029,
     "end_time": "2022-06-12T06:17:08.215795",
     "exception": false,
     "start_time": "2022-06-12T06:17:06.432766",
     "status": "completed"
    },
    "tags": []
   },
   "outputs": [],
   "source": [
    "import ABC_train_test2\n",
    "import bostonDataset\n",
    "import network\n",
    "import dataset\n",
    "import sanityChecks\n",
    "import torch \n",
    "import scrapbook as sb\n",
    "from statistics import mean \n",
    "import catboost as ctb \n",
    "from sklearn.model_selection import train_test_split\n",
    "from sklearn.metrics import mean_squared_error,mean_absolute_error\n",
    "import numpy as np"
   ]
  },
  {
   "cell_type": "markdown",
   "id": "2fa5b0f7",
   "metadata": {
    "id": "2fa5b0f7",
    "papermill": {
     "duration": 0.006781,
     "end_time": "2022-06-12T06:17:08.229749",
     "exception": false,
     "start_time": "2022-06-12T06:17:08.222968",
     "status": "completed"
    },
    "tags": []
   },
   "source": [
    "## Parameters "
   ]
  },
  {
   "cell_type": "code",
   "execution_count": 3,
   "id": "783186fb",
   "metadata": {
    "execution": {
     "iopub.execute_input": "2022-06-12T06:17:08.245487Z",
     "iopub.status.busy": "2022-06-12T06:17:08.245123Z",
     "iopub.status.idle": "2022-06-12T06:17:08.246388Z",
     "shell.execute_reply": "2022-06-12T06:17:08.246631Z"
    },
    "id": "783186fb",
    "papermill": {
     "duration": 0.010217,
     "end_time": "2022-06-12T06:17:08.246736",
     "exception": false,
     "start_time": "2022-06-12T06:17:08.236519",
     "status": "completed"
    },
    "tags": [
     "parameters"
    ]
   },
   "outputs": [],
   "source": [
    "variance = 1\n",
    "bias = 1 "
   ]
  },
  {
   "cell_type": "code",
   "execution_count": 4,
   "id": "83ed0d29",
   "metadata": {
    "execution": {
     "iopub.execute_input": "2022-06-12T06:17:08.262384Z",
     "iopub.status.busy": "2022-06-12T06:17:08.262031Z",
     "iopub.status.idle": "2022-06-12T06:17:08.263329Z",
     "shell.execute_reply": "2022-06-12T06:17:08.263580Z"
    },
    "papermill": {
     "duration": 0.009982,
     "end_time": "2022-06-12T06:17:08.263688",
     "exception": false,
     "start_time": "2022-06-12T06:17:08.253706",
     "status": "completed"
    },
    "tags": [
     "injected-parameters"
    ]
   },
   "outputs": [],
   "source": [
    "# Parameters\n",
    "variance = 1\n",
    "bias = 0.1\n"
   ]
  },
  {
   "cell_type": "markdown",
   "id": "391cdbfd",
   "metadata": {
    "id": "391cdbfd",
    "papermill": {
     "duration": 0.006803,
     "end_time": "2022-06-12T06:17:08.277501",
     "exception": false,
     "start_time": "2022-06-12T06:17:08.270698",
     "status": "completed"
    },
    "tags": []
   },
   "source": [
    "## Dataset \n"
   ]
  },
  {
   "cell_type": "code",
   "execution_count": 5,
   "id": "5b51f161",
   "metadata": {
    "execution": {
     "iopub.execute_input": "2022-06-12T06:17:08.293121Z",
     "iopub.status.busy": "2022-06-12T06:17:08.292770Z",
     "iopub.status.idle": "2022-06-12T06:17:08.294036Z",
     "shell.execute_reply": "2022-06-12T06:17:08.294290Z"
    },
    "id": "5b51f161",
    "papermill": {
     "duration": 0.01003,
     "end_time": "2022-06-12T06:17:08.294397",
     "exception": false,
     "start_time": "2022-06-12T06:17:08.284367",
     "status": "completed"
    },
    "tags": []
   },
   "outputs": [],
   "source": [
    "#Parameters \n",
    "n_features = 13\n",
    "n_samples= 506\n",
    "n_target = 1 "
   ]
  },
  {
   "cell_type": "code",
   "execution_count": 6,
   "id": "5d6eced4",
   "metadata": {
    "execution": {
     "iopub.execute_input": "2022-06-12T06:17:08.310189Z",
     "iopub.status.busy": "2022-06-12T06:17:08.309834Z",
     "iopub.status.idle": "2022-06-12T06:17:08.320724Z",
     "shell.execute_reply": "2022-06-12T06:17:08.320971Z"
    },
    "id": "5d6eced4",
    "papermill": {
     "duration": 0.019674,
     "end_time": "2022-06-12T06:17:08.321089",
     "exception": false,
     "start_time": "2022-06-12T06:17:08.301415",
     "status": "completed"
    },
    "tags": []
   },
   "outputs": [
    {
     "name": "stdout",
     "output_type": "stream",
     "text": [
      "         X1        X2        X3        X4        X5        X6        X7  \\\n",
      "0 -0.419782  0.284830 -1.287909 -0.272599 -0.144217  0.413672 -0.120013   \n",
      "1 -0.417339 -0.487722 -0.593381 -0.272599 -0.740262  0.194274  0.367166   \n",
      "2 -0.417342 -0.487722 -0.593381 -0.272599 -0.740262  1.282714 -0.265812   \n",
      "3 -0.416750 -0.487722 -1.306878 -0.272599 -0.835284  1.016303 -0.809889   \n",
      "4 -0.412482 -0.487722 -1.306878 -0.272599 -0.835284  1.228577 -0.511180   \n",
      "\n",
      "         X8        X9       X10       X11       X12       X13         Y  \n",
      "0  0.140214 -0.982843 -0.666608 -1.459000  0.441052 -1.075562  0.159686  \n",
      "1  0.557160 -0.867883 -0.987329 -0.303094  0.441052 -0.492439 -0.101524  \n",
      "2  0.557160 -0.867883 -0.987329 -0.303094  0.396427 -1.208727  1.324247  \n",
      "3  1.077737 -0.752922 -1.106115  0.113032  0.416163 -1.361517  1.182758  \n",
      "4  1.077737 -0.752922 -1.106115  0.113032  0.441052 -1.026501  1.487503  \n"
     ]
    }
   ],
   "source": [
    "X,Y = bostonDataset.boston_data()"
   ]
  },
  {
   "cell_type": "code",
   "execution_count": 7,
   "id": "fe007438",
   "metadata": {
    "execution": {
     "iopub.execute_input": "2022-06-12T06:17:08.338323Z",
     "iopub.status.busy": "2022-06-12T06:17:08.337982Z",
     "iopub.status.idle": "2022-06-12T06:17:08.339506Z",
     "shell.execute_reply": "2022-06-12T06:17:08.339747Z"
    },
    "id": "fe007438",
    "papermill": {
     "duration": 0.011329,
     "end_time": "2022-06-12T06:17:08.339855",
     "exception": false,
     "start_time": "2022-06-12T06:17:08.328526",
     "status": "completed"
    },
    "tags": []
   },
   "outputs": [],
   "source": [
    "#Train test split for dataset \n",
    "X_train,X_test,Y_train,Y_test = train_test_split(X,Y,test_size = 0.2)\n",
    "train_data = dataset.CustomDataset(X_train,Y_train)\n",
    "test_data = dataset.CustomDataset(X_test,Y_test)\n"
   ]
  },
  {
   "cell_type": "markdown",
   "id": "a9a1af34",
   "metadata": {
    "id": "a9a1af34",
    "papermill": {
     "duration": 0.007058,
     "end_time": "2022-06-12T06:17:08.354144",
     "exception": false,
     "start_time": "2022-06-12T06:17:08.347086",
     "status": "completed"
    },
    "tags": []
   },
   "source": [
    "## Training Parameters "
   ]
  },
  {
   "cell_type": "code",
   "execution_count": 8,
   "id": "952b7fc8",
   "metadata": {
    "execution": {
     "iopub.execute_input": "2022-06-12T06:17:08.370647Z",
     "iopub.status.busy": "2022-06-12T06:17:08.370282Z",
     "iopub.status.idle": "2022-06-12T06:17:08.371555Z",
     "shell.execute_reply": "2022-06-12T06:17:08.371794Z"
    },
    "id": "952b7fc8",
    "papermill": {
     "duration": 0.010642,
     "end_time": "2022-06-12T06:17:08.371896",
     "exception": false,
     "start_time": "2022-06-12T06:17:08.361254",
     "status": "completed"
    },
    "tags": []
   },
   "outputs": [],
   "source": [
    "batch_size = 32\n",
    "n_epochs = 1000\n",
    "#Select the device \n",
    "device = torch.device('cuda' if torch.cuda.is_available() else 'cpu')"
   ]
  },
  {
   "cell_type": "markdown",
   "id": "a95e1600",
   "metadata": {
    "id": "a95e1600",
    "papermill": {
     "duration": 0.007078,
     "end_time": "2022-06-12T06:17:08.386126",
     "exception": false,
     "start_time": "2022-06-12T06:17:08.379048",
     "status": "completed"
    },
    "tags": []
   },
   "source": [
    "# ABC Pre-generator Model \n",
    "\n",
    "1. The catboost model is used as a pre-generator model for the ABC-GAN. \n",
    "2. The model is first trained on the entire dataset \n",
    "3. It generats X,Y pairs and we add some Gaussian noise with mean 0 and variance 1 to it which is then feed as input to the generator.\n"
   ]
  },
  {
   "cell_type": "code",
   "execution_count": 9,
   "id": "ff8ce7bd",
   "metadata": {
    "execution": {
     "iopub.execute_input": "2022-06-12T06:17:08.405265Z",
     "iopub.status.busy": "2022-06-12T06:17:08.404880Z",
     "iopub.status.idle": "2022-06-12T06:17:09.436254Z",
     "shell.execute_reply": "2022-06-12T06:17:09.436879Z"
    },
    "id": "ff8ce7bd",
    "papermill": {
     "duration": 1.043739,
     "end_time": "2022-06-12T06:17:09.437061",
     "exception": false,
     "start_time": "2022-06-12T06:17:08.393322",
     "status": "completed"
    },
    "tags": []
   },
   "outputs": [
    {
     "name": "stdout",
     "output_type": "stream",
     "text": [
      "Learning rate set to 0.033215\n",
      "0:\tlearn: 0.9828726\ttotal: 58.3ms\tremaining: 58.2s\n",
      "1:\tlearn: 0.9643933\ttotal: 59.2ms\tremaining: 29.5s\n",
      "2:\tlearn: 0.9440622\ttotal: 60.8ms\tremaining: 20.2s\n",
      "3:\tlearn: 0.9277588\ttotal: 61.9ms\tremaining: 15.4s\n",
      "4:\tlearn: 0.9115479\ttotal: 62.9ms\tremaining: 12.5s\n",
      "5:\tlearn: 0.8948348\ttotal: 63.7ms\tremaining: 10.6s\n",
      "6:\tlearn: 0.8799960\ttotal: 64.8ms\tremaining: 9.19s\n",
      "7:\tlearn: 0.8644032\ttotal: 65.7ms\tremaining: 8.14s\n",
      "8:\tlearn: 0.8477142\ttotal: 66.6ms\tremaining: 7.34s\n",
      "9:\tlearn: 0.8315909\ttotal: 67.4ms\tremaining: 6.67s\n",
      "10:\tlearn: 0.8164597\ttotal: 68.1ms\tremaining: 6.13s\n",
      "11:\tlearn: 0.8026905\ttotal: 69ms\tremaining: 5.68s\n",
      "12:\tlearn: 0.7879846\ttotal: 69.7ms\tremaining: 5.29s\n",
      "13:\tlearn: 0.7723767\ttotal: 70.4ms\tremaining: 4.96s\n",
      "14:\tlearn: 0.7601735\ttotal: 71.2ms\tremaining: 4.68s\n",
      "15:\tlearn: 0.7474839\ttotal: 72ms\tremaining: 4.43s\n",
      "16:\tlearn: 0.7361254\ttotal: 72.8ms\tremaining: 4.21s\n",
      "17:\tlearn: 0.7236651\ttotal: 73.5ms\tremaining: 4.01s\n",
      "18:\tlearn: 0.7115548\ttotal: 74.4ms\tremaining: 3.84s\n",
      "19:\tlearn: 0.7000435\ttotal: 75.5ms\tremaining: 3.7s\n",
      "20:\tlearn: 0.6869414\ttotal: 77.6ms\tremaining: 3.62s\n",
      "21:\tlearn: 0.6764884\ttotal: 78.4ms\tremaining: 3.48s\n",
      "22:\tlearn: 0.6664884\ttotal: 79.1ms\tremaining: 3.36s\n",
      "23:\tlearn: 0.6569240\ttotal: 79.9ms\tremaining: 3.25s\n",
      "24:\tlearn: 0.6471543\ttotal: 80.7ms\tremaining: 3.15s\n",
      "25:\tlearn: 0.6361918\ttotal: 81.4ms\tremaining: 3.05s\n",
      "26:\tlearn: 0.6275488\ttotal: 82.3ms\tremaining: 2.97s\n",
      "27:\tlearn: 0.6189217\ttotal: 83.1ms\tremaining: 2.88s\n",
      "28:\tlearn: 0.6098357\ttotal: 83.9ms\tremaining: 2.81s\n",
      "29:\tlearn: 0.5998188\ttotal: 84.9ms\tremaining: 2.74s\n",
      "30:\tlearn: 0.5896646\ttotal: 85.5ms\tremaining: 2.67s\n",
      "31:\tlearn: 0.5812767\ttotal: 86.4ms\tremaining: 2.61s\n",
      "32:\tlearn: 0.5746950\ttotal: 87ms\tremaining: 2.55s\n",
      "33:\tlearn: 0.5677514\ttotal: 87.7ms\tremaining: 2.49s\n",
      "34:\tlearn: 0.5606074\ttotal: 88.5ms\tremaining: 2.44s\n",
      "35:\tlearn: 0.5530716\ttotal: 89.3ms\tremaining: 2.39s\n",
      "36:\tlearn: 0.5464910\ttotal: 90.1ms\tremaining: 2.35s\n",
      "37:\tlearn: 0.5396414\ttotal: 91.6ms\tremaining: 2.32s\n",
      "38:\tlearn: 0.5324710\ttotal: 92.5ms\tremaining: 2.28s\n",
      "39:\tlearn: 0.5249933\ttotal: 93.7ms\tremaining: 2.25s\n",
      "40:\tlearn: 0.5205889\ttotal: 94.6ms\tremaining: 2.21s\n",
      "41:\tlearn: 0.5138436\ttotal: 95.4ms\tremaining: 2.18s\n",
      "42:\tlearn: 0.5085123\ttotal: 96.2ms\tremaining: 2.14s\n",
      "43:\tlearn: 0.5034624\ttotal: 96.9ms\tremaining: 2.11s\n",
      "44:\tlearn: 0.4975425\ttotal: 97.8ms\tremaining: 2.07s\n",
      "45:\tlearn: 0.4910060\ttotal: 98.7ms\tremaining: 2.05s\n",
      "46:\tlearn: 0.4857776\ttotal: 99.5ms\tremaining: 2.02s\n",
      "47:\tlearn: 0.4803155\ttotal: 100ms\tremaining: 1.99s\n",
      "48:\tlearn: 0.4748079\ttotal: 101ms\tremaining: 1.96s\n",
      "49:\tlearn: 0.4696282\ttotal: 102ms\tremaining: 1.94s\n",
      "50:\tlearn: 0.4638846\ttotal: 103ms\tremaining: 1.91s\n",
      "51:\tlearn: 0.4590321\ttotal: 104ms\tremaining: 1.89s\n",
      "52:\tlearn: 0.4540486\ttotal: 104ms\tremaining: 1.86s\n",
      "53:\tlearn: 0.4504504\ttotal: 105ms\tremaining: 1.84s\n",
      "54:\tlearn: 0.4456086\ttotal: 106ms\tremaining: 1.82s\n",
      "55:\tlearn: 0.4420247\ttotal: 107ms\tremaining: 1.8s\n",
      "56:\tlearn: 0.4376308\ttotal: 108ms\tremaining: 1.78s\n"
     ]
    },
    {
     "name": "stdout",
     "output_type": "stream",
     "text": [
      "57:\tlearn: 0.4336334\ttotal: 109ms\tremaining: 1.76s\n",
      "58:\tlearn: 0.4301861\ttotal: 110ms\tremaining: 1.75s\n",
      "59:\tlearn: 0.4269256\ttotal: 111ms\tremaining: 1.73s\n",
      "60:\tlearn: 0.4232776\ttotal: 111ms\tremaining: 1.72s\n",
      "61:\tlearn: 0.4200270\ttotal: 112ms\tremaining: 1.7s\n",
      "62:\tlearn: 0.4172353\ttotal: 113ms\tremaining: 1.68s\n",
      "63:\tlearn: 0.4135274\ttotal: 114ms\tremaining: 1.67s\n",
      "64:\tlearn: 0.4100611\ttotal: 115ms\tremaining: 1.65s\n",
      "65:\tlearn: 0.4064382\ttotal: 116ms\tremaining: 1.64s\n",
      "66:\tlearn: 0.4026957\ttotal: 116ms\tremaining: 1.62s\n",
      "67:\tlearn: 0.3989448\ttotal: 117ms\tremaining: 1.61s\n",
      "68:\tlearn: 0.3954742\ttotal: 118ms\tremaining: 1.59s\n",
      "69:\tlearn: 0.3922258\ttotal: 119ms\tremaining: 1.58s\n",
      "70:\tlearn: 0.3881079\ttotal: 120ms\tremaining: 1.57s\n",
      "71:\tlearn: 0.3850535\ttotal: 121ms\tremaining: 1.55s\n",
      "72:\tlearn: 0.3824242\ttotal: 124ms\tremaining: 1.57s\n",
      "73:\tlearn: 0.3788316\ttotal: 125ms\tremaining: 1.56s\n",
      "74:\tlearn: 0.3760214\ttotal: 125ms\tremaining: 1.55s\n",
      "75:\tlearn: 0.3726892\ttotal: 126ms\tremaining: 1.53s\n",
      "76:\tlearn: 0.3690244\ttotal: 127ms\tremaining: 1.52s\n",
      "77:\tlearn: 0.3666052\ttotal: 128ms\tremaining: 1.51s\n",
      "78:\tlearn: 0.3646862\ttotal: 129ms\tremaining: 1.5s\n",
      "79:\tlearn: 0.3624635\ttotal: 130ms\tremaining: 1.49s\n",
      "80:\tlearn: 0.3597961\ttotal: 131ms\tremaining: 1.48s\n",
      "81:\tlearn: 0.3564706\ttotal: 132ms\tremaining: 1.48s\n",
      "82:\tlearn: 0.3549120\ttotal: 133ms\tremaining: 1.47s\n",
      "83:\tlearn: 0.3523503\ttotal: 134ms\tremaining: 1.46s\n",
      "84:\tlearn: 0.3500892\ttotal: 134ms\tremaining: 1.45s\n",
      "85:\tlearn: 0.3473134\ttotal: 135ms\tremaining: 1.44s\n",
      "86:\tlearn: 0.3451559\ttotal: 136ms\tremaining: 1.43s\n",
      "87:\tlearn: 0.3429505\ttotal: 137ms\tremaining: 1.42s\n",
      "88:\tlearn: 0.3404877\ttotal: 141ms\tremaining: 1.44s\n",
      "89:\tlearn: 0.3379272\ttotal: 141ms\tremaining: 1.43s\n",
      "90:\tlearn: 0.3355790\ttotal: 142ms\tremaining: 1.42s\n",
      "91:\tlearn: 0.3334663\ttotal: 143ms\tremaining: 1.41s\n",
      "92:\tlearn: 0.3321563\ttotal: 144ms\tremaining: 1.4s\n",
      "93:\tlearn: 0.3291387\ttotal: 145ms\tremaining: 1.39s\n",
      "94:\tlearn: 0.3269904\ttotal: 146ms\tremaining: 1.39s\n",
      "95:\tlearn: 0.3260405\ttotal: 147ms\tremaining: 1.38s\n",
      "96:\tlearn: 0.3238834\ttotal: 147ms\tremaining: 1.37s\n",
      "97:\tlearn: 0.3222847\ttotal: 148ms\tremaining: 1.36s\n",
      "98:\tlearn: 0.3209069\ttotal: 149ms\tremaining: 1.35s\n",
      "99:\tlearn: 0.3183930\ttotal: 150ms\tremaining: 1.35s\n",
      "100:\tlearn: 0.3166219\ttotal: 151ms\tremaining: 1.34s\n",
      "101:\tlearn: 0.3148762\ttotal: 151ms\tremaining: 1.33s\n",
      "102:\tlearn: 0.3131775\ttotal: 152ms\tremaining: 1.32s\n",
      "103:\tlearn: 0.3119467\ttotal: 153ms\tremaining: 1.32s\n",
      "104:\tlearn: 0.3104708\ttotal: 154ms\tremaining: 1.31s\n",
      "105:\tlearn: 0.3086282\ttotal: 155ms\tremaining: 1.3s\n",
      "106:\tlearn: 0.3072469\ttotal: 156ms\tremaining: 1.3s\n",
      "107:\tlearn: 0.3049766\ttotal: 156ms\tremaining: 1.29s\n",
      "108:\tlearn: 0.3033702\ttotal: 157ms\tremaining: 1.28s\n",
      "109:\tlearn: 0.3019125\ttotal: 158ms\tremaining: 1.28s\n",
      "110:\tlearn: 0.3004634\ttotal: 159ms\tremaining: 1.27s\n",
      "111:\tlearn: 0.2991078\ttotal: 160ms\tremaining: 1.27s\n",
      "112:\tlearn: 0.2973771\ttotal: 160ms\tremaining: 1.26s\n",
      "113:\tlearn: 0.2958494\ttotal: 161ms\tremaining: 1.25s\n",
      "114:\tlearn: 0.2947388\ttotal: 162ms\tremaining: 1.25s\n",
      "115:\tlearn: 0.2938309\ttotal: 163ms\tremaining: 1.24s\n",
      "116:\tlearn: 0.2923269\ttotal: 164ms\tremaining: 1.24s\n",
      "117:\tlearn: 0.2910652\ttotal: 165ms\tremaining: 1.23s\n",
      "118:\tlearn: 0.2898979\ttotal: 166ms\tremaining: 1.23s\n",
      "119:\tlearn: 0.2890260\ttotal: 167ms\tremaining: 1.22s\n",
      "120:\tlearn: 0.2876764\ttotal: 168ms\tremaining: 1.22s\n",
      "121:\tlearn: 0.2866416\ttotal: 168ms\tremaining: 1.21s\n",
      "122:\tlearn: 0.2852417\ttotal: 169ms\tremaining: 1.21s\n",
      "123:\tlearn: 0.2842285\ttotal: 170ms\tremaining: 1.2s\n",
      "124:\tlearn: 0.2827896\ttotal: 171ms\tremaining: 1.2s\n",
      "125:\tlearn: 0.2816201\ttotal: 172ms\tremaining: 1.19s\n",
      "126:\tlearn: 0.2800646\ttotal: 173ms\tremaining: 1.19s\n",
      "127:\tlearn: 0.2793395\ttotal: 174ms\tremaining: 1.19s\n",
      "128:\tlearn: 0.2783100\ttotal: 175ms\tremaining: 1.18s\n",
      "129:\tlearn: 0.2772255\ttotal: 176ms\tremaining: 1.18s\n",
      "130:\tlearn: 0.2760804\ttotal: 177ms\tremaining: 1.17s\n",
      "131:\tlearn: 0.2751783\ttotal: 178ms\tremaining: 1.17s\n",
      "132:\tlearn: 0.2745281\ttotal: 178ms\tremaining: 1.16s\n",
      "133:\tlearn: 0.2732309\ttotal: 179ms\tremaining: 1.16s\n",
      "134:\tlearn: 0.2720625\ttotal: 180ms\tremaining: 1.15s\n",
      "135:\tlearn: 0.2708297\ttotal: 181ms\tremaining: 1.15s\n",
      "136:\tlearn: 0.2700916\ttotal: 182ms\tremaining: 1.15s\n",
      "137:\tlearn: 0.2693562\ttotal: 183ms\tremaining: 1.14s\n",
      "138:\tlearn: 0.2683738\ttotal: 183ms\tremaining: 1.14s\n",
      "139:\tlearn: 0.2674452\ttotal: 184ms\tremaining: 1.13s\n",
      "140:\tlearn: 0.2667832\ttotal: 185ms\tremaining: 1.13s\n",
      "141:\tlearn: 0.2658008\ttotal: 186ms\tremaining: 1.12s\n",
      "142:\tlearn: 0.2647871\ttotal: 187ms\tremaining: 1.12s\n",
      "143:\tlearn: 0.2638237\ttotal: 188ms\tremaining: 1.12s\n",
      "144:\tlearn: 0.2630245\ttotal: 189ms\tremaining: 1.11s\n",
      "145:\tlearn: 0.2622210\ttotal: 190ms\tremaining: 1.11s\n",
      "146:\tlearn: 0.2614523\ttotal: 190ms\tremaining: 1.1s\n",
      "147:\tlearn: 0.2604071\ttotal: 191ms\tremaining: 1.1s\n"
     ]
    },
    {
     "name": "stdout",
     "output_type": "stream",
     "text": [
      "148:\tlearn: 0.2593085\ttotal: 192ms\tremaining: 1.1s\n",
      "149:\tlearn: 0.2585879\ttotal: 193ms\tremaining: 1.09s\n",
      "150:\tlearn: 0.2576551\ttotal: 194ms\tremaining: 1.09s\n",
      "151:\tlearn: 0.2570178\ttotal: 195ms\tremaining: 1.09s\n",
      "152:\tlearn: 0.2560035\ttotal: 196ms\tremaining: 1.08s\n",
      "153:\tlearn: 0.2553716\ttotal: 196ms\tremaining: 1.08s\n",
      "154:\tlearn: 0.2543414\ttotal: 197ms\tremaining: 1.07s\n",
      "155:\tlearn: 0.2533325\ttotal: 198ms\tremaining: 1.07s\n",
      "156:\tlearn: 0.2525915\ttotal: 199ms\tremaining: 1.07s\n",
      "157:\tlearn: 0.2520133\ttotal: 200ms\tremaining: 1.06s\n",
      "158:\tlearn: 0.2509656\ttotal: 200ms\tremaining: 1.06s\n",
      "159:\tlearn: 0.2502633\ttotal: 201ms\tremaining: 1.06s\n",
      "160:\tlearn: 0.2493856\ttotal: 202ms\tremaining: 1.05s\n",
      "161:\tlearn: 0.2487702\ttotal: 203ms\tremaining: 1.05s\n",
      "162:\tlearn: 0.2482863\ttotal: 203ms\tremaining: 1.04s\n",
      "163:\tlearn: 0.2476584\ttotal: 204ms\tremaining: 1.04s\n",
      "164:\tlearn: 0.2470626\ttotal: 205ms\tremaining: 1.04s\n",
      "165:\tlearn: 0.2460679\ttotal: 206ms\tremaining: 1.03s\n",
      "166:\tlearn: 0.2453447\ttotal: 207ms\tremaining: 1.03s\n",
      "167:\tlearn: 0.2445296\ttotal: 207ms\tremaining: 1.03s\n",
      "168:\tlearn: 0.2440301\ttotal: 208ms\tremaining: 1.02s\n",
      "169:\tlearn: 0.2434857\ttotal: 209ms\tremaining: 1.02s\n",
      "170:\tlearn: 0.2431160\ttotal: 210ms\tremaining: 1.02s\n",
      "171:\tlearn: 0.2421998\ttotal: 211ms\tremaining: 1.01s\n",
      "172:\tlearn: 0.2412965\ttotal: 211ms\tremaining: 1.01s\n",
      "173:\tlearn: 0.2404798\ttotal: 212ms\tremaining: 1.01s\n",
      "174:\tlearn: 0.2397415\ttotal: 213ms\tremaining: 1s\n",
      "175:\tlearn: 0.2393776\ttotal: 214ms\tremaining: 1000ms\n",
      "176:\tlearn: 0.2387450\ttotal: 214ms\tremaining: 997ms\n",
      "177:\tlearn: 0.2381799\ttotal: 215ms\tremaining: 995ms\n",
      "178:\tlearn: 0.2377059\ttotal: 216ms\tremaining: 993ms\n",
      "179:\tlearn: 0.2370842\ttotal: 217ms\tremaining: 990ms\n",
      "180:\tlearn: 0.2361755\ttotal: 218ms\tremaining: 988ms\n",
      "181:\tlearn: 0.2356083\ttotal: 219ms\tremaining: 985ms\n",
      "182:\tlearn: 0.2348466\ttotal: 220ms\tremaining: 982ms\n",
      "183:\tlearn: 0.2341010\ttotal: 221ms\tremaining: 979ms\n",
      "184:\tlearn: 0.2334108\ttotal: 222ms\tremaining: 980ms\n",
      "185:\tlearn: 0.2327961\ttotal: 223ms\tremaining: 977ms\n",
      "186:\tlearn: 0.2317484\ttotal: 224ms\tremaining: 974ms\n",
      "187:\tlearn: 0.2310249\ttotal: 225ms\tremaining: 971ms\n",
      "188:\tlearn: 0.2305123\ttotal: 226ms\tremaining: 968ms\n",
      "189:\tlearn: 0.2296366\ttotal: 227ms\tremaining: 966ms\n",
      "190:\tlearn: 0.2289840\ttotal: 227ms\tremaining: 963ms\n",
      "191:\tlearn: 0.2284660\ttotal: 228ms\tremaining: 961ms\n",
      "192:\tlearn: 0.2277423\ttotal: 229ms\tremaining: 958ms\n",
      "193:\tlearn: 0.2270504\ttotal: 230ms\tremaining: 955ms\n",
      "194:\tlearn: 0.2263649\ttotal: 231ms\tremaining: 953ms\n",
      "195:\tlearn: 0.2257180\ttotal: 232ms\tremaining: 951ms\n",
      "196:\tlearn: 0.2248934\ttotal: 233ms\tremaining: 951ms\n",
      "197:\tlearn: 0.2241610\ttotal: 235ms\tremaining: 951ms\n",
      "198:\tlearn: 0.2237845\ttotal: 236ms\tremaining: 949ms\n",
      "199:\tlearn: 0.2231479\ttotal: 237ms\tremaining: 947ms\n",
      "200:\tlearn: 0.2226340\ttotal: 238ms\tremaining: 945ms\n",
      "201:\tlearn: 0.2219744\ttotal: 239ms\tremaining: 943ms\n",
      "202:\tlearn: 0.2213568\ttotal: 240ms\tremaining: 941ms\n",
      "203:\tlearn: 0.2206181\ttotal: 240ms\tremaining: 938ms\n",
      "204:\tlearn: 0.2203337\ttotal: 241ms\tremaining: 936ms\n",
      "205:\tlearn: 0.2197914\ttotal: 242ms\tremaining: 935ms\n",
      "206:\tlearn: 0.2190709\ttotal: 243ms\tremaining: 932ms\n",
      "207:\tlearn: 0.2184763\ttotal: 244ms\tremaining: 930ms\n",
      "208:\tlearn: 0.2178974\ttotal: 245ms\tremaining: 928ms\n",
      "209:\tlearn: 0.2172396\ttotal: 246ms\tremaining: 926ms\n",
      "210:\tlearn: 0.2166575\ttotal: 247ms\tremaining: 924ms\n",
      "211:\tlearn: 0.2161208\ttotal: 248ms\tremaining: 922ms\n",
      "212:\tlearn: 0.2156667\ttotal: 249ms\tremaining: 919ms\n",
      "213:\tlearn: 0.2152262\ttotal: 250ms\tremaining: 917ms\n",
      "214:\tlearn: 0.2147981\ttotal: 251ms\tremaining: 916ms\n",
      "215:\tlearn: 0.2141809\ttotal: 252ms\tremaining: 914ms\n",
      "216:\tlearn: 0.2134637\ttotal: 252ms\tremaining: 911ms\n",
      "217:\tlearn: 0.2128222\ttotal: 253ms\tremaining: 909ms\n",
      "218:\tlearn: 0.2121895\ttotal: 254ms\tremaining: 907ms\n",
      "219:\tlearn: 0.2117758\ttotal: 255ms\tremaining: 905ms\n",
      "220:\tlearn: 0.2112523\ttotal: 256ms\tremaining: 902ms\n",
      "221:\tlearn: 0.2105250\ttotal: 257ms\tremaining: 900ms\n",
      "222:\tlearn: 0.2101572\ttotal: 258ms\tremaining: 898ms\n",
      "223:\tlearn: 0.2094920\ttotal: 259ms\tremaining: 896ms\n",
      "224:\tlearn: 0.2090382\ttotal: 259ms\tremaining: 894ms\n",
      "225:\tlearn: 0.2084796\ttotal: 260ms\tremaining: 891ms\n",
      "226:\tlearn: 0.2078363\ttotal: 261ms\tremaining: 889ms\n",
      "227:\tlearn: 0.2074157\ttotal: 262ms\tremaining: 887ms\n",
      "228:\tlearn: 0.2067438\ttotal: 263ms\tremaining: 885ms\n",
      "229:\tlearn: 0.2061015\ttotal: 264ms\tremaining: 882ms\n",
      "230:\tlearn: 0.2055031\ttotal: 264ms\tremaining: 880ms\n",
      "231:\tlearn: 0.2048553\ttotal: 265ms\tremaining: 878ms\n",
      "232:\tlearn: 0.2044617\ttotal: 266ms\tremaining: 876ms\n",
      "233:\tlearn: 0.2041055\ttotal: 267ms\tremaining: 874ms\n",
      "234:\tlearn: 0.2036393\ttotal: 268ms\tremaining: 872ms\n",
      "235:\tlearn: 0.2031118\ttotal: 269ms\tremaining: 870ms\n",
      "236:\tlearn: 0.2024248\ttotal: 269ms\tremaining: 867ms\n",
      "237:\tlearn: 0.2016971\ttotal: 270ms\tremaining: 865ms\n",
      "238:\tlearn: 0.2012945\ttotal: 271ms\tremaining: 863ms\n",
      "239:\tlearn: 0.2010845\ttotal: 272ms\tremaining: 861ms\n",
      "240:\tlearn: 0.2006745\ttotal: 273ms\tremaining: 859ms\n",
      "241:\tlearn: 0.2004118\ttotal: 274ms\tremaining: 857ms\n",
      "242:\tlearn: 0.1999639\ttotal: 274ms\tremaining: 855ms\n",
      "243:\tlearn: 0.1995508\ttotal: 275ms\tremaining: 853ms\n",
      "244:\tlearn: 0.1989740\ttotal: 276ms\tremaining: 851ms\n",
      "245:\tlearn: 0.1984410\ttotal: 277ms\tremaining: 849ms\n",
      "246:\tlearn: 0.1977309\ttotal: 278ms\tremaining: 849ms\n",
      "247:\tlearn: 0.1971882\ttotal: 279ms\tremaining: 847ms\n",
      "248:\tlearn: 0.1965882\ttotal: 280ms\tremaining: 845ms\n",
      "249:\tlearn: 0.1963127\ttotal: 281ms\tremaining: 843ms\n",
      "250:\tlearn: 0.1959958\ttotal: 282ms\tremaining: 842ms\n",
      "251:\tlearn: 0.1954645\ttotal: 283ms\tremaining: 840ms\n",
      "252:\tlearn: 0.1949653\ttotal: 284ms\tremaining: 838ms\n",
      "253:\tlearn: 0.1943391\ttotal: 284ms\tremaining: 835ms\n",
      "254:\tlearn: 0.1937416\ttotal: 285ms\tremaining: 834ms\n",
      "255:\tlearn: 0.1931690\ttotal: 286ms\tremaining: 831ms\n",
      "256:\tlearn: 0.1928672\ttotal: 287ms\tremaining: 829ms\n",
      "257:\tlearn: 0.1922907\ttotal: 288ms\tremaining: 827ms\n",
      "258:\tlearn: 0.1917420\ttotal: 288ms\tremaining: 825ms\n",
      "259:\tlearn: 0.1912350\ttotal: 289ms\tremaining: 823ms\n",
      "260:\tlearn: 0.1908350\ttotal: 290ms\tremaining: 821ms\n",
      "261:\tlearn: 0.1903816\ttotal: 291ms\tremaining: 819ms\n",
      "262:\tlearn: 0.1900652\ttotal: 292ms\tremaining: 818ms\n",
      "263:\tlearn: 0.1896451\ttotal: 293ms\tremaining: 816ms\n",
      "264:\tlearn: 0.1892227\ttotal: 294ms\tremaining: 814ms\n",
      "265:\tlearn: 0.1887740\ttotal: 294ms\tremaining: 812ms\n",
      "266:\tlearn: 0.1882827\ttotal: 295ms\tremaining: 810ms\n",
      "267:\tlearn: 0.1880355\ttotal: 296ms\tremaining: 808ms\n",
      "268:\tlearn: 0.1874957\ttotal: 297ms\tremaining: 807ms\n",
      "269:\tlearn: 0.1869949\ttotal: 298ms\tremaining: 805ms\n"
     ]
    },
    {
     "name": "stdout",
     "output_type": "stream",
     "text": [
      "270:\tlearn: 0.1864528\ttotal: 299ms\tremaining: 803ms\n",
      "271:\tlearn: 0.1860210\ttotal: 300ms\tremaining: 802ms\n",
      "272:\tlearn: 0.1857674\ttotal: 301ms\tremaining: 800ms\n",
      "273:\tlearn: 0.1854411\ttotal: 301ms\tremaining: 799ms\n",
      "274:\tlearn: 0.1849232\ttotal: 303ms\tremaining: 798ms\n",
      "275:\tlearn: 0.1847367\ttotal: 304ms\tremaining: 796ms\n",
      "276:\tlearn: 0.1843897\ttotal: 304ms\tremaining: 794ms\n",
      "277:\tlearn: 0.1839870\ttotal: 305ms\tremaining: 793ms\n",
      "278:\tlearn: 0.1835523\ttotal: 306ms\tremaining: 791ms\n",
      "279:\tlearn: 0.1831778\ttotal: 307ms\tremaining: 789ms\n",
      "280:\tlearn: 0.1825379\ttotal: 308ms\tremaining: 788ms\n",
      "281:\tlearn: 0.1823040\ttotal: 309ms\tremaining: 786ms\n",
      "282:\tlearn: 0.1820909\ttotal: 309ms\tremaining: 784ms\n",
      "283:\tlearn: 0.1816008\ttotal: 310ms\tremaining: 782ms\n",
      "284:\tlearn: 0.1811725\ttotal: 311ms\tremaining: 781ms\n",
      "285:\tlearn: 0.1807595\ttotal: 312ms\tremaining: 779ms\n",
      "286:\tlearn: 0.1802020\ttotal: 313ms\tremaining: 777ms\n",
      "287:\tlearn: 0.1797861\ttotal: 314ms\tremaining: 776ms\n",
      "288:\tlearn: 0.1792246\ttotal: 315ms\tremaining: 774ms\n",
      "289:\tlearn: 0.1789782\ttotal: 315ms\tremaining: 772ms\n",
      "290:\tlearn: 0.1785524\ttotal: 316ms\tremaining: 770ms\n",
      "291:\tlearn: 0.1781595\ttotal: 317ms\tremaining: 769ms\n",
      "292:\tlearn: 0.1777605\ttotal: 318ms\tremaining: 767ms\n",
      "293:\tlearn: 0.1772456\ttotal: 319ms\tremaining: 765ms\n",
      "294:\tlearn: 0.1770571\ttotal: 319ms\tremaining: 763ms\n",
      "295:\tlearn: 0.1764957\ttotal: 320ms\tremaining: 762ms\n",
      "296:\tlearn: 0.1760034\ttotal: 321ms\tremaining: 760ms\n",
      "297:\tlearn: 0.1756196\ttotal: 322ms\tremaining: 758ms\n",
      "298:\tlearn: 0.1752724\ttotal: 323ms\tremaining: 756ms\n",
      "299:\tlearn: 0.1749079\ttotal: 323ms\tremaining: 755ms\n",
      "300:\tlearn: 0.1745439\ttotal: 324ms\tremaining: 753ms\n",
      "301:\tlearn: 0.1741781\ttotal: 325ms\tremaining: 751ms\n",
      "302:\tlearn: 0.1737557\ttotal: 326ms\tremaining: 750ms\n",
      "303:\tlearn: 0.1734272\ttotal: 327ms\tremaining: 748ms\n",
      "304:\tlearn: 0.1729975\ttotal: 328ms\tremaining: 747ms\n",
      "305:\tlearn: 0.1728015\ttotal: 328ms\tremaining: 745ms\n",
      "306:\tlearn: 0.1725986\ttotal: 329ms\tremaining: 744ms\n",
      "307:\tlearn: 0.1723038\ttotal: 330ms\tremaining: 742ms\n",
      "308:\tlearn: 0.1717866\ttotal: 331ms\tremaining: 740ms\n",
      "309:\tlearn: 0.1712412\ttotal: 332ms\tremaining: 738ms\n",
      "310:\tlearn: 0.1710144\ttotal: 332ms\tremaining: 736ms\n",
      "311:\tlearn: 0.1705247\ttotal: 333ms\tremaining: 735ms\n",
      "312:\tlearn: 0.1701447\ttotal: 334ms\tremaining: 733ms\n",
      "313:\tlearn: 0.1696823\ttotal: 335ms\tremaining: 732ms\n",
      "314:\tlearn: 0.1692461\ttotal: 336ms\tremaining: 730ms\n",
      "315:\tlearn: 0.1687784\ttotal: 337ms\tremaining: 729ms\n",
      "316:\tlearn: 0.1684613\ttotal: 338ms\tremaining: 728ms\n",
      "317:\tlearn: 0.1681215\ttotal: 339ms\tremaining: 726ms\n",
      "318:\tlearn: 0.1676010\ttotal: 339ms\tremaining: 725ms\n",
      "319:\tlearn: 0.1671263\ttotal: 340ms\tremaining: 723ms\n",
      "320:\tlearn: 0.1669262\ttotal: 341ms\tremaining: 721ms\n",
      "321:\tlearn: 0.1664642\ttotal: 342ms\tremaining: 720ms\n",
      "322:\tlearn: 0.1660841\ttotal: 344ms\tremaining: 720ms\n",
      "323:\tlearn: 0.1658758\ttotal: 345ms\tremaining: 720ms\n",
      "324:\tlearn: 0.1653340\ttotal: 346ms\tremaining: 718ms\n",
      "325:\tlearn: 0.1651557\ttotal: 347ms\tremaining: 717ms\n",
      "326:\tlearn: 0.1648352\ttotal: 348ms\tremaining: 715ms\n",
      "327:\tlearn: 0.1645092\ttotal: 348ms\tremaining: 714ms\n",
      "328:\tlearn: 0.1641667\ttotal: 349ms\tremaining: 712ms\n",
      "329:\tlearn: 0.1640064\ttotal: 350ms\tremaining: 711ms\n",
      "330:\tlearn: 0.1635620\ttotal: 351ms\tremaining: 709ms\n",
      "331:\tlearn: 0.1632426\ttotal: 352ms\tremaining: 708ms\n",
      "332:\tlearn: 0.1630059\ttotal: 353ms\tremaining: 706ms\n",
      "333:\tlearn: 0.1627350\ttotal: 353ms\tremaining: 705ms\n",
      "334:\tlearn: 0.1623998\ttotal: 354ms\tremaining: 703ms\n",
      "335:\tlearn: 0.1620649\ttotal: 355ms\tremaining: 702ms\n",
      "336:\tlearn: 0.1619109\ttotal: 356ms\tremaining: 701ms\n",
      "337:\tlearn: 0.1615499\ttotal: 357ms\tremaining: 699ms\n",
      "338:\tlearn: 0.1609335\ttotal: 358ms\tremaining: 697ms\n",
      "339:\tlearn: 0.1604845\ttotal: 359ms\tremaining: 696ms\n",
      "340:\tlearn: 0.1603106\ttotal: 359ms\tremaining: 694ms\n",
      "341:\tlearn: 0.1601365\ttotal: 360ms\tremaining: 693ms\n",
      "342:\tlearn: 0.1598272\ttotal: 361ms\tremaining: 692ms\n",
      "343:\tlearn: 0.1597179\ttotal: 362ms\tremaining: 691ms\n",
      "344:\tlearn: 0.1593009\ttotal: 363ms\tremaining: 689ms\n",
      "345:\tlearn: 0.1589540\ttotal: 364ms\tremaining: 688ms\n",
      "346:\tlearn: 0.1584741\ttotal: 365ms\tremaining: 686ms\n",
      "347:\tlearn: 0.1580632\ttotal: 366ms\tremaining: 685ms\n",
      "348:\tlearn: 0.1576532\ttotal: 366ms\tremaining: 683ms\n",
      "349:\tlearn: 0.1573778\ttotal: 367ms\tremaining: 682ms\n",
      "350:\tlearn: 0.1570430\ttotal: 368ms\tremaining: 681ms\n",
      "351:\tlearn: 0.1567103\ttotal: 369ms\tremaining: 679ms\n",
      "352:\tlearn: 0.1561466\ttotal: 370ms\tremaining: 678ms\n",
      "353:\tlearn: 0.1559846\ttotal: 371ms\tremaining: 677ms\n",
      "354:\tlearn: 0.1555198\ttotal: 372ms\tremaining: 675ms\n",
      "355:\tlearn: 0.1553477\ttotal: 372ms\tremaining: 674ms\n",
      "356:\tlearn: 0.1550613\ttotal: 373ms\tremaining: 673ms\n",
      "357:\tlearn: 0.1548231\ttotal: 377ms\tremaining: 676ms\n",
      "358:\tlearn: 0.1544925\ttotal: 378ms\tremaining: 674ms\n",
      "359:\tlearn: 0.1541441\ttotal: 379ms\tremaining: 673ms\n",
      "360:\tlearn: 0.1539235\ttotal: 380ms\tremaining: 673ms\n",
      "361:\tlearn: 0.1536343\ttotal: 381ms\tremaining: 671ms\n",
      "362:\tlearn: 0.1533758\ttotal: 382ms\tremaining: 670ms\n"
     ]
    },
    {
     "name": "stdout",
     "output_type": "stream",
     "text": [
      "363:\tlearn: 0.1532040\ttotal: 383ms\tremaining: 669ms\n",
      "364:\tlearn: 0.1530553\ttotal: 384ms\tremaining: 667ms\n",
      "365:\tlearn: 0.1527223\ttotal: 384ms\tremaining: 666ms\n",
      "366:\tlearn: 0.1524882\ttotal: 385ms\tremaining: 665ms\n",
      "367:\tlearn: 0.1521471\ttotal: 386ms\tremaining: 663ms\n",
      "368:\tlearn: 0.1518868\ttotal: 387ms\tremaining: 662ms\n",
      "369:\tlearn: 0.1515652\ttotal: 388ms\tremaining: 660ms\n",
      "370:\tlearn: 0.1514096\ttotal: 389ms\tremaining: 659ms\n",
      "371:\tlearn: 0.1510933\ttotal: 389ms\tremaining: 658ms\n",
      "372:\tlearn: 0.1507384\ttotal: 390ms\tremaining: 656ms\n",
      "373:\tlearn: 0.1503740\ttotal: 391ms\tremaining: 655ms\n",
      "374:\tlearn: 0.1502934\ttotal: 392ms\tremaining: 654ms\n",
      "375:\tlearn: 0.1498912\ttotal: 393ms\tremaining: 652ms\n",
      "376:\tlearn: 0.1495597\ttotal: 394ms\tremaining: 651ms\n",
      "377:\tlearn: 0.1492120\ttotal: 395ms\tremaining: 650ms\n",
      "378:\tlearn: 0.1489451\ttotal: 396ms\tremaining: 648ms\n",
      "379:\tlearn: 0.1487159\ttotal: 396ms\tremaining: 647ms\n",
      "380:\tlearn: 0.1484145\ttotal: 397ms\tremaining: 645ms\n",
      "381:\tlearn: 0.1480541\ttotal: 398ms\tremaining: 644ms\n",
      "382:\tlearn: 0.1477458\ttotal: 399ms\tremaining: 643ms\n",
      "383:\tlearn: 0.1474027\ttotal: 400ms\tremaining: 641ms\n",
      "384:\tlearn: 0.1470741\ttotal: 401ms\tremaining: 640ms\n",
      "385:\tlearn: 0.1468056\ttotal: 402ms\tremaining: 640ms\n",
      "386:\tlearn: 0.1465340\ttotal: 403ms\tremaining: 638ms\n",
      "387:\tlearn: 0.1462632\ttotal: 404ms\tremaining: 637ms\n",
      "388:\tlearn: 0.1459572\ttotal: 405ms\tremaining: 635ms\n",
      "389:\tlearn: 0.1457491\ttotal: 405ms\tremaining: 634ms\n",
      "390:\tlearn: 0.1456605\ttotal: 408ms\tremaining: 636ms\n",
      "391:\tlearn: 0.1452240\ttotal: 409ms\tremaining: 634ms\n",
      "392:\tlearn: 0.1449497\ttotal: 410ms\tremaining: 633ms\n",
      "393:\tlearn: 0.1447134\ttotal: 411ms\tremaining: 632ms\n",
      "394:\tlearn: 0.1444866\ttotal: 412ms\tremaining: 630ms\n",
      "395:\tlearn: 0.1442980\ttotal: 412ms\tremaining: 629ms\n",
      "396:\tlearn: 0.1440562\ttotal: 413ms\tremaining: 627ms\n",
      "397:\tlearn: 0.1437678\ttotal: 414ms\tremaining: 626ms\n",
      "398:\tlearn: 0.1435115\ttotal: 415ms\tremaining: 625ms\n",
      "399:\tlearn: 0.1433653\ttotal: 416ms\tremaining: 623ms\n",
      "400:\tlearn: 0.1429700\ttotal: 416ms\tremaining: 622ms\n",
      "401:\tlearn: 0.1426959\ttotal: 417ms\tremaining: 621ms\n",
      "402:\tlearn: 0.1423808\ttotal: 418ms\tremaining: 619ms\n",
      "403:\tlearn: 0.1421213\ttotal: 419ms\tremaining: 618ms\n",
      "404:\tlearn: 0.1417717\ttotal: 420ms\tremaining: 616ms\n",
      "405:\tlearn: 0.1416527\ttotal: 420ms\tremaining: 615ms\n",
      "406:\tlearn: 0.1413523\ttotal: 421ms\tremaining: 614ms\n",
      "407:\tlearn: 0.1411315\ttotal: 422ms\tremaining: 613ms\n",
      "408:\tlearn: 0.1409444\ttotal: 424ms\tremaining: 613ms\n",
      "409:\tlearn: 0.1405194\ttotal: 425ms\tremaining: 611ms\n",
      "410:\tlearn: 0.1404372\ttotal: 426ms\tremaining: 610ms\n",
      "411:\tlearn: 0.1402997\ttotal: 427ms\tremaining: 609ms\n",
      "412:\tlearn: 0.1400115\ttotal: 427ms\tremaining: 608ms\n",
      "413:\tlearn: 0.1397893\ttotal: 428ms\tremaining: 606ms\n",
      "414:\tlearn: 0.1395026\ttotal: 429ms\tremaining: 605ms\n",
      "415:\tlearn: 0.1392635\ttotal: 430ms\tremaining: 603ms\n",
      "416:\tlearn: 0.1390378\ttotal: 431ms\tremaining: 602ms\n",
      "417:\tlearn: 0.1387329\ttotal: 431ms\tremaining: 601ms\n",
      "418:\tlearn: 0.1386276\ttotal: 433ms\tremaining: 600ms\n",
      "419:\tlearn: 0.1385137\ttotal: 434ms\tremaining: 600ms\n",
      "420:\tlearn: 0.1384351\ttotal: 435ms\tremaining: 598ms\n",
      "421:\tlearn: 0.1383091\ttotal: 436ms\tremaining: 597ms\n",
      "422:\tlearn: 0.1380968\ttotal: 437ms\tremaining: 596ms\n",
      "423:\tlearn: 0.1379914\ttotal: 438ms\tremaining: 594ms\n",
      "424:\tlearn: 0.1379555\ttotal: 438ms\tremaining: 593ms\n",
      "425:\tlearn: 0.1376367\ttotal: 439ms\tremaining: 592ms\n",
      "426:\tlearn: 0.1374043\ttotal: 440ms\tremaining: 591ms\n",
      "427:\tlearn: 0.1371496\ttotal: 441ms\tremaining: 590ms\n",
      "428:\tlearn: 0.1369127\ttotal: 442ms\tremaining: 589ms\n",
      "429:\tlearn: 0.1365772\ttotal: 443ms\tremaining: 587ms\n",
      "430:\tlearn: 0.1363751\ttotal: 444ms\tremaining: 587ms\n",
      "431:\tlearn: 0.1362152\ttotal: 445ms\tremaining: 585ms\n",
      "432:\tlearn: 0.1359985\ttotal: 446ms\tremaining: 584ms\n",
      "433:\tlearn: 0.1358538\ttotal: 447ms\tremaining: 583ms\n",
      "434:\tlearn: 0.1355413\ttotal: 448ms\tremaining: 582ms\n",
      "435:\tlearn: 0.1353745\ttotal: 449ms\tremaining: 580ms\n",
      "436:\tlearn: 0.1350816\ttotal: 449ms\tremaining: 579ms\n",
      "437:\tlearn: 0.1349579\ttotal: 450ms\tremaining: 578ms\n",
      "438:\tlearn: 0.1347717\ttotal: 451ms\tremaining: 576ms\n",
      "439:\tlearn: 0.1344615\ttotal: 452ms\tremaining: 575ms\n",
      "440:\tlearn: 0.1343571\ttotal: 453ms\tremaining: 574ms\n",
      "441:\tlearn: 0.1343259\ttotal: 454ms\tremaining: 573ms\n",
      "442:\tlearn: 0.1341288\ttotal: 454ms\tremaining: 571ms\n",
      "443:\tlearn: 0.1340586\ttotal: 455ms\tremaining: 570ms\n",
      "444:\tlearn: 0.1337130\ttotal: 456ms\tremaining: 569ms\n",
      "445:\tlearn: 0.1333729\ttotal: 457ms\tremaining: 567ms\n",
      "446:\tlearn: 0.1331548\ttotal: 458ms\tremaining: 566ms\n",
      "447:\tlearn: 0.1329138\ttotal: 458ms\tremaining: 565ms\n",
      "448:\tlearn: 0.1327389\ttotal: 459ms\tremaining: 564ms\n",
      "449:\tlearn: 0.1324733\ttotal: 460ms\tremaining: 562ms\n",
      "450:\tlearn: 0.1321811\ttotal: 461ms\tremaining: 562ms\n",
      "451:\tlearn: 0.1320555\ttotal: 462ms\tremaining: 561ms\n",
      "452:\tlearn: 0.1318431\ttotal: 463ms\tremaining: 559ms\n",
      "453:\tlearn: 0.1316496\ttotal: 464ms\tremaining: 558ms\n",
      "454:\tlearn: 0.1315132\ttotal: 465ms\tremaining: 557ms\n",
      "455:\tlearn: 0.1312039\ttotal: 466ms\tremaining: 556ms\n",
      "456:\tlearn: 0.1309003\ttotal: 466ms\tremaining: 554ms\n",
      "457:\tlearn: 0.1305559\ttotal: 467ms\tremaining: 553ms\n",
      "458:\tlearn: 0.1303626\ttotal: 468ms\tremaining: 552ms\n",
      "459:\tlearn: 0.1302398\ttotal: 469ms\tremaining: 551ms\n",
      "460:\tlearn: 0.1301046\ttotal: 470ms\tremaining: 549ms\n",
      "461:\tlearn: 0.1299166\ttotal: 472ms\tremaining: 549ms\n",
      "462:\tlearn: 0.1297070\ttotal: 473ms\tremaining: 549ms\n",
      "463:\tlearn: 0.1294017\ttotal: 474ms\tremaining: 547ms\n",
      "464:\tlearn: 0.1290791\ttotal: 475ms\tremaining: 546ms\n",
      "465:\tlearn: 0.1290101\ttotal: 476ms\tremaining: 545ms\n",
      "466:\tlearn: 0.1287363\ttotal: 476ms\tremaining: 544ms\n",
      "467:\tlearn: 0.1284799\ttotal: 477ms\tremaining: 543ms\n",
      "468:\tlearn: 0.1283136\ttotal: 478ms\tremaining: 541ms\n",
      "469:\tlearn: 0.1282589\ttotal: 479ms\tremaining: 540ms\n",
      "470:\tlearn: 0.1279837\ttotal: 480ms\tremaining: 539ms\n",
      "471:\tlearn: 0.1275964\ttotal: 481ms\tremaining: 538ms\n",
      "472:\tlearn: 0.1274604\ttotal: 481ms\tremaining: 536ms\n",
      "473:\tlearn: 0.1272046\ttotal: 482ms\tremaining: 535ms\n",
      "474:\tlearn: 0.1271647\ttotal: 483ms\tremaining: 534ms\n",
      "475:\tlearn: 0.1269106\ttotal: 485ms\tremaining: 534ms\n",
      "476:\tlearn: 0.1266820\ttotal: 485ms\tremaining: 532ms\n",
      "477:\tlearn: 0.1264730\ttotal: 487ms\tremaining: 532ms\n",
      "478:\tlearn: 0.1262330\ttotal: 488ms\tremaining: 531ms\n",
      "479:\tlearn: 0.1261669\ttotal: 489ms\tremaining: 530ms\n"
     ]
    },
    {
     "name": "stdout",
     "output_type": "stream",
     "text": [
      "480:\tlearn: 0.1259144\ttotal: 490ms\tremaining: 529ms\n",
      "481:\tlearn: 0.1257213\ttotal: 491ms\tremaining: 528ms\n",
      "482:\tlearn: 0.1256591\ttotal: 492ms\tremaining: 526ms\n",
      "483:\tlearn: 0.1254049\ttotal: 492ms\tremaining: 525ms\n",
      "484:\tlearn: 0.1251014\ttotal: 493ms\tremaining: 524ms\n",
      "485:\tlearn: 0.1250735\ttotal: 494ms\tremaining: 522ms\n",
      "486:\tlearn: 0.1248569\ttotal: 495ms\tremaining: 521ms\n",
      "487:\tlearn: 0.1245793\ttotal: 496ms\tremaining: 520ms\n",
      "488:\tlearn: 0.1241584\ttotal: 496ms\tremaining: 519ms\n",
      "489:\tlearn: 0.1240979\ttotal: 497ms\tremaining: 518ms\n",
      "490:\tlearn: 0.1239365\ttotal: 498ms\tremaining: 516ms\n",
      "491:\tlearn: 0.1237482\ttotal: 499ms\tremaining: 515ms\n",
      "492:\tlearn: 0.1235576\ttotal: 500ms\tremaining: 514ms\n",
      "493:\tlearn: 0.1233749\ttotal: 501ms\tremaining: 513ms\n",
      "494:\tlearn: 0.1232407\ttotal: 502ms\tremaining: 512ms\n",
      "495:\tlearn: 0.1232091\ttotal: 502ms\tremaining: 511ms\n",
      "496:\tlearn: 0.1230009\ttotal: 503ms\tremaining: 510ms\n",
      "497:\tlearn: 0.1227803\ttotal: 504ms\tremaining: 508ms\n",
      "498:\tlearn: 0.1225190\ttotal: 505ms\tremaining: 507ms\n",
      "499:\tlearn: 0.1223012\ttotal: 506ms\tremaining: 506ms\n",
      "500:\tlearn: 0.1221736\ttotal: 507ms\tremaining: 505ms\n",
      "501:\tlearn: 0.1220718\ttotal: 508ms\tremaining: 504ms\n",
      "502:\tlearn: 0.1218345\ttotal: 508ms\tremaining: 502ms\n",
      "503:\tlearn: 0.1215581\ttotal: 509ms\tremaining: 501ms\n",
      "504:\tlearn: 0.1215308\ttotal: 510ms\tremaining: 500ms\n",
      "505:\tlearn: 0.1212738\ttotal: 511ms\tremaining: 499ms\n",
      "506:\tlearn: 0.1210385\ttotal: 512ms\tremaining: 498ms\n",
      "507:\tlearn: 0.1207970\ttotal: 513ms\tremaining: 497ms\n",
      "508:\tlearn: 0.1205481\ttotal: 514ms\tremaining: 496ms\n",
      "509:\tlearn: 0.1202574\ttotal: 515ms\tremaining: 495ms\n",
      "510:\tlearn: 0.1200312\ttotal: 516ms\tremaining: 493ms\n",
      "511:\tlearn: 0.1198588\ttotal: 516ms\tremaining: 492ms\n",
      "512:\tlearn: 0.1196792\ttotal: 517ms\tremaining: 491ms\n",
      "513:\tlearn: 0.1196135\ttotal: 518ms\tremaining: 490ms\n",
      "514:\tlearn: 0.1195272\ttotal: 519ms\tremaining: 489ms\n",
      "515:\tlearn: 0.1193516\ttotal: 520ms\tremaining: 488ms\n",
      "516:\tlearn: 0.1191520\ttotal: 521ms\tremaining: 487ms\n",
      "517:\tlearn: 0.1190993\ttotal: 522ms\tremaining: 485ms\n",
      "518:\tlearn: 0.1189788\ttotal: 522ms\tremaining: 484ms\n",
      "519:\tlearn: 0.1188523\ttotal: 523ms\tremaining: 483ms\n",
      "520:\tlearn: 0.1185518\ttotal: 524ms\tremaining: 482ms\n",
      "521:\tlearn: 0.1182607\ttotal: 525ms\tremaining: 481ms\n",
      "522:\tlearn: 0.1180873\ttotal: 526ms\tremaining: 479ms\n",
      "523:\tlearn: 0.1179102\ttotal: 526ms\tremaining: 478ms\n",
      "524:\tlearn: 0.1178003\ttotal: 527ms\tremaining: 477ms\n",
      "525:\tlearn: 0.1174272\ttotal: 529ms\tremaining: 477ms\n",
      "526:\tlearn: 0.1173137\ttotal: 530ms\tremaining: 476ms\n",
      "527:\tlearn: 0.1170423\ttotal: 531ms\tremaining: 474ms\n",
      "528:\tlearn: 0.1169743\ttotal: 531ms\tremaining: 473ms\n",
      "529:\tlearn: 0.1167590\ttotal: 532ms\tremaining: 472ms\n",
      "530:\tlearn: 0.1165549\ttotal: 533ms\tremaining: 471ms\n",
      "531:\tlearn: 0.1164946\ttotal: 534ms\tremaining: 470ms\n",
      "532:\tlearn: 0.1163327\ttotal: 535ms\tremaining: 469ms\n",
      "533:\tlearn: 0.1162581\ttotal: 536ms\tremaining: 468ms\n",
      "534:\tlearn: 0.1160122\ttotal: 537ms\tremaining: 466ms\n",
      "535:\tlearn: 0.1158427\ttotal: 538ms\tremaining: 465ms\n",
      "536:\tlearn: 0.1156580\ttotal: 538ms\tremaining: 464ms\n",
      "537:\tlearn: 0.1154969\ttotal: 539ms\tremaining: 463ms\n",
      "538:\tlearn: 0.1152706\ttotal: 540ms\tremaining: 462ms\n",
      "539:\tlearn: 0.1151916\ttotal: 541ms\tremaining: 461ms\n",
      "540:\tlearn: 0.1149919\ttotal: 542ms\tremaining: 460ms\n",
      "541:\tlearn: 0.1147606\ttotal: 542ms\tremaining: 458ms\n",
      "542:\tlearn: 0.1146170\ttotal: 543ms\tremaining: 457ms\n",
      "543:\tlearn: 0.1145257\ttotal: 544ms\tremaining: 456ms\n",
      "544:\tlearn: 0.1142397\ttotal: 545ms\tremaining: 455ms\n",
      "545:\tlearn: 0.1141606\ttotal: 546ms\tremaining: 454ms\n",
      "546:\tlearn: 0.1140564\ttotal: 547ms\tremaining: 453ms\n",
      "547:\tlearn: 0.1138479\ttotal: 547ms\tremaining: 451ms\n",
      "548:\tlearn: 0.1137726\ttotal: 548ms\tremaining: 450ms\n",
      "549:\tlearn: 0.1135988\ttotal: 549ms\tremaining: 449ms\n",
      "550:\tlearn: 0.1135293\ttotal: 550ms\tremaining: 448ms\n",
      "551:\tlearn: 0.1133947\ttotal: 551ms\tremaining: 447ms\n",
      "552:\tlearn: 0.1132710\ttotal: 552ms\tremaining: 446ms\n",
      "553:\tlearn: 0.1131377\ttotal: 553ms\tremaining: 445ms\n",
      "554:\tlearn: 0.1130140\ttotal: 554ms\tremaining: 444ms\n",
      "555:\tlearn: 0.1127996\ttotal: 555ms\tremaining: 443ms\n",
      "556:\tlearn: 0.1127661\ttotal: 555ms\tremaining: 442ms\n",
      "557:\tlearn: 0.1125206\ttotal: 556ms\tremaining: 441ms\n",
      "558:\tlearn: 0.1123612\ttotal: 557ms\tremaining: 439ms\n",
      "559:\tlearn: 0.1122869\ttotal: 558ms\tremaining: 438ms\n",
      "560:\tlearn: 0.1120436\ttotal: 559ms\tremaining: 437ms\n",
      "561:\tlearn: 0.1118062\ttotal: 559ms\tremaining: 436ms\n",
      "562:\tlearn: 0.1116398\ttotal: 560ms\tremaining: 435ms\n",
      "563:\tlearn: 0.1115469\ttotal: 561ms\tremaining: 434ms\n",
      "564:\tlearn: 0.1113749\ttotal: 562ms\tremaining: 433ms\n",
      "565:\tlearn: 0.1112491\ttotal: 563ms\tremaining: 432ms\n",
      "566:\tlearn: 0.1111622\ttotal: 564ms\tremaining: 431ms\n",
      "567:\tlearn: 0.1110102\ttotal: 565ms\tremaining: 429ms\n",
      "568:\tlearn: 0.1108401\ttotal: 565ms\tremaining: 428ms\n",
      "569:\tlearn: 0.1104873\ttotal: 566ms\tremaining: 427ms\n",
      "570:\tlearn: 0.1102441\ttotal: 568ms\tremaining: 427ms\n",
      "571:\tlearn: 0.1099139\ttotal: 569ms\tremaining: 426ms\n",
      "572:\tlearn: 0.1097419\ttotal: 570ms\tremaining: 425ms\n",
      "573:\tlearn: 0.1095806\ttotal: 570ms\tremaining: 423ms\n",
      "574:\tlearn: 0.1094535\ttotal: 571ms\tremaining: 422ms\n",
      "575:\tlearn: 0.1092780\ttotal: 572ms\tremaining: 421ms\n",
      "576:\tlearn: 0.1092129\ttotal: 573ms\tremaining: 420ms\n"
     ]
    },
    {
     "name": "stdout",
     "output_type": "stream",
     "text": [
      "577:\tlearn: 0.1089922\ttotal: 574ms\tremaining: 419ms\n",
      "578:\tlearn: 0.1087425\ttotal: 575ms\tremaining: 418ms\n",
      "579:\tlearn: 0.1085668\ttotal: 576ms\tremaining: 417ms\n",
      "580:\tlearn: 0.1084120\ttotal: 576ms\tremaining: 416ms\n",
      "581:\tlearn: 0.1081536\ttotal: 577ms\tremaining: 415ms\n",
      "582:\tlearn: 0.1078573\ttotal: 578ms\tremaining: 413ms\n",
      "583:\tlearn: 0.1077050\ttotal: 579ms\tremaining: 412ms\n",
      "584:\tlearn: 0.1076058\ttotal: 580ms\tremaining: 411ms\n",
      "585:\tlearn: 0.1074007\ttotal: 581ms\tremaining: 410ms\n",
      "586:\tlearn: 0.1073655\ttotal: 581ms\tremaining: 409ms\n",
      "587:\tlearn: 0.1071825\ttotal: 582ms\tremaining: 408ms\n",
      "588:\tlearn: 0.1070481\ttotal: 583ms\tremaining: 407ms\n",
      "589:\tlearn: 0.1069362\ttotal: 584ms\tremaining: 406ms\n",
      "590:\tlearn: 0.1068871\ttotal: 585ms\tremaining: 405ms\n",
      "591:\tlearn: 0.1068420\ttotal: 585ms\tremaining: 404ms\n",
      "592:\tlearn: 0.1066295\ttotal: 586ms\tremaining: 402ms\n",
      "593:\tlearn: 0.1065820\ttotal: 587ms\tremaining: 401ms\n",
      "594:\tlearn: 0.1063353\ttotal: 588ms\tremaining: 400ms\n",
      "595:\tlearn: 0.1061240\ttotal: 589ms\tremaining: 399ms\n",
      "596:\tlearn: 0.1058466\ttotal: 590ms\tremaining: 398ms\n",
      "597:\tlearn: 0.1056687\ttotal: 590ms\tremaining: 397ms\n",
      "598:\tlearn: 0.1055065\ttotal: 591ms\tremaining: 396ms\n",
      "599:\tlearn: 0.1052261\ttotal: 592ms\tremaining: 395ms\n",
      "600:\tlearn: 0.1050695\ttotal: 593ms\tremaining: 394ms\n",
      "601:\tlearn: 0.1048923\ttotal: 594ms\tremaining: 392ms\n",
      "602:\tlearn: 0.1047498\ttotal: 594ms\tremaining: 391ms\n",
      "603:\tlearn: 0.1044298\ttotal: 595ms\tremaining: 390ms\n",
      "604:\tlearn: 0.1042712\ttotal: 596ms\tremaining: 389ms\n",
      "605:\tlearn: 0.1041050\ttotal: 599ms\tremaining: 389ms\n",
      "606:\tlearn: 0.1039413\ttotal: 600ms\tremaining: 388ms\n",
      "607:\tlearn: 0.1038606\ttotal: 600ms\tremaining: 387ms\n",
      "608:\tlearn: 0.1036933\ttotal: 601ms\tremaining: 386ms\n",
      "609:\tlearn: 0.1035116\ttotal: 602ms\tremaining: 385ms\n",
      "610:\tlearn: 0.1033144\ttotal: 603ms\tremaining: 384ms\n",
      "611:\tlearn: 0.1030918\ttotal: 604ms\tremaining: 383ms\n",
      "612:\tlearn: 0.1029454\ttotal: 604ms\tremaining: 382ms\n",
      "613:\tlearn: 0.1027206\ttotal: 605ms\tremaining: 380ms\n",
      "614:\tlearn: 0.1026092\ttotal: 606ms\tremaining: 379ms\n",
      "615:\tlearn: 0.1024008\ttotal: 607ms\tremaining: 378ms\n",
      "616:\tlearn: 0.1022392\ttotal: 608ms\tremaining: 377ms\n",
      "617:\tlearn: 0.1020273\ttotal: 609ms\tremaining: 376ms\n",
      "618:\tlearn: 0.1018310\ttotal: 609ms\tremaining: 375ms\n",
      "619:\tlearn: 0.1016891\ttotal: 610ms\tremaining: 374ms\n",
      "620:\tlearn: 0.1014878\ttotal: 611ms\tremaining: 373ms\n",
      "621:\tlearn: 0.1012933\ttotal: 612ms\tremaining: 372ms\n",
      "622:\tlearn: 0.1010737\ttotal: 613ms\tremaining: 371ms\n",
      "623:\tlearn: 0.1008952\ttotal: 614ms\tremaining: 370ms\n",
      "624:\tlearn: 0.1007607\ttotal: 615ms\tremaining: 369ms\n",
      "625:\tlearn: 0.1007018\ttotal: 615ms\tremaining: 368ms\n",
      "626:\tlearn: 0.1006236\ttotal: 616ms\tremaining: 367ms\n",
      "627:\tlearn: 0.1005136\ttotal: 617ms\tremaining: 365ms\n",
      "628:\tlearn: 0.1003756\ttotal: 618ms\tremaining: 364ms\n",
      "629:\tlearn: 0.1002383\ttotal: 619ms\tremaining: 363ms\n",
      "630:\tlearn: 0.1000727\ttotal: 620ms\tremaining: 362ms\n",
      "631:\tlearn: 0.0999697\ttotal: 620ms\tremaining: 361ms\n",
      "632:\tlearn: 0.0996768\ttotal: 621ms\tremaining: 360ms\n",
      "633:\tlearn: 0.0995453\ttotal: 622ms\tremaining: 359ms\n",
      "634:\tlearn: 0.0994257\ttotal: 623ms\tremaining: 358ms\n",
      "635:\tlearn: 0.0992297\ttotal: 624ms\tremaining: 357ms\n",
      "636:\tlearn: 0.0991004\ttotal: 624ms\tremaining: 356ms\n",
      "637:\tlearn: 0.0990063\ttotal: 625ms\tremaining: 355ms\n",
      "638:\tlearn: 0.0987946\ttotal: 626ms\tremaining: 354ms\n",
      "639:\tlearn: 0.0986767\ttotal: 627ms\tremaining: 353ms\n",
      "640:\tlearn: 0.0985504\ttotal: 628ms\tremaining: 352ms\n",
      "641:\tlearn: 0.0984767\ttotal: 630ms\tremaining: 351ms\n",
      "642:\tlearn: 0.0983231\ttotal: 631ms\tremaining: 350ms\n",
      "643:\tlearn: 0.0982487\ttotal: 632ms\tremaining: 349ms\n",
      "644:\tlearn: 0.0980838\ttotal: 633ms\tremaining: 348ms\n",
      "645:\tlearn: 0.0978689\ttotal: 634ms\tremaining: 347ms\n",
      "646:\tlearn: 0.0977356\ttotal: 635ms\tremaining: 346ms\n",
      "647:\tlearn: 0.0974683\ttotal: 636ms\tremaining: 345ms\n",
      "648:\tlearn: 0.0973078\ttotal: 636ms\tremaining: 344ms\n",
      "649:\tlearn: 0.0971300\ttotal: 637ms\tremaining: 343ms\n",
      "650:\tlearn: 0.0967927\ttotal: 638ms\tremaining: 342ms\n",
      "651:\tlearn: 0.0966225\ttotal: 639ms\tremaining: 341ms\n",
      "652:\tlearn: 0.0964683\ttotal: 640ms\tremaining: 340ms\n",
      "653:\tlearn: 0.0963423\ttotal: 641ms\tremaining: 339ms\n",
      "654:\tlearn: 0.0961785\ttotal: 641ms\tremaining: 338ms\n",
      "655:\tlearn: 0.0960582\ttotal: 642ms\tremaining: 337ms\n",
      "656:\tlearn: 0.0958788\ttotal: 643ms\tremaining: 336ms\n",
      "657:\tlearn: 0.0956826\ttotal: 645ms\tremaining: 335ms\n",
      "658:\tlearn: 0.0955279\ttotal: 646ms\tremaining: 334ms\n",
      "659:\tlearn: 0.0953361\ttotal: 646ms\tremaining: 333ms\n",
      "660:\tlearn: 0.0951699\ttotal: 647ms\tremaining: 332ms\n",
      "661:\tlearn: 0.0950818\ttotal: 648ms\tremaining: 331ms\n",
      "662:\tlearn: 0.0948893\ttotal: 649ms\tremaining: 330ms\n",
      "663:\tlearn: 0.0946805\ttotal: 650ms\tremaining: 329ms\n",
      "664:\tlearn: 0.0945472\ttotal: 651ms\tremaining: 328ms\n",
      "665:\tlearn: 0.0944055\ttotal: 651ms\tremaining: 327ms\n",
      "666:\tlearn: 0.0941541\ttotal: 652ms\tremaining: 326ms\n",
      "667:\tlearn: 0.0941031\ttotal: 653ms\tremaining: 325ms\n",
      "668:\tlearn: 0.0939846\ttotal: 654ms\tremaining: 324ms\n",
      "669:\tlearn: 0.0937682\ttotal: 655ms\tremaining: 323ms\n",
      "670:\tlearn: 0.0936691\ttotal: 656ms\tremaining: 322ms\n",
      "671:\tlearn: 0.0934789\ttotal: 657ms\tremaining: 320ms\n",
      "672:\tlearn: 0.0933137\ttotal: 657ms\tremaining: 319ms\n",
      "673:\tlearn: 0.0932248\ttotal: 658ms\tremaining: 318ms\n",
      "674:\tlearn: 0.0931002\ttotal: 659ms\tremaining: 317ms\n",
      "675:\tlearn: 0.0928996\ttotal: 660ms\tremaining: 316ms\n",
      "676:\tlearn: 0.0928509\ttotal: 661ms\tremaining: 315ms\n",
      "677:\tlearn: 0.0926823\ttotal: 662ms\tremaining: 314ms\n",
      "678:\tlearn: 0.0925672\ttotal: 662ms\tremaining: 313ms\n",
      "679:\tlearn: 0.0923632\ttotal: 663ms\tremaining: 312ms\n",
      "680:\tlearn: 0.0922438\ttotal: 664ms\tremaining: 311ms\n",
      "681:\tlearn: 0.0921048\ttotal: 665ms\tremaining: 310ms\n",
      "682:\tlearn: 0.0919600\ttotal: 665ms\tremaining: 309ms\n",
      "683:\tlearn: 0.0917652\ttotal: 666ms\tremaining: 308ms\n",
      "684:\tlearn: 0.0915839\ttotal: 667ms\tremaining: 307ms\n",
      "685:\tlearn: 0.0914020\ttotal: 668ms\tremaining: 306ms\n",
      "686:\tlearn: 0.0913618\ttotal: 669ms\tremaining: 305ms\n",
      "687:\tlearn: 0.0911856\ttotal: 670ms\tremaining: 304ms\n",
      "688:\tlearn: 0.0910466\ttotal: 670ms\tremaining: 303ms\n",
      "689:\tlearn: 0.0908995\ttotal: 671ms\tremaining: 302ms\n",
      "690:\tlearn: 0.0907798\ttotal: 672ms\tremaining: 301ms\n",
      "691:\tlearn: 0.0905949\ttotal: 673ms\tremaining: 299ms\n",
      "692:\tlearn: 0.0903861\ttotal: 674ms\tremaining: 298ms\n",
      "693:\tlearn: 0.0901974\ttotal: 675ms\tremaining: 297ms\n",
      "694:\tlearn: 0.0901153\ttotal: 675ms\tremaining: 296ms\n",
      "695:\tlearn: 0.0899493\ttotal: 677ms\tremaining: 296ms\n",
      "696:\tlearn: 0.0897955\ttotal: 678ms\tremaining: 295ms\n",
      "697:\tlearn: 0.0896030\ttotal: 679ms\tremaining: 294ms\n",
      "698:\tlearn: 0.0894306\ttotal: 680ms\tremaining: 293ms\n"
     ]
    },
    {
     "name": "stdout",
     "output_type": "stream",
     "text": [
      "699:\tlearn: 0.0892292\ttotal: 681ms\tremaining: 292ms\n",
      "700:\tlearn: 0.0890585\ttotal: 682ms\tremaining: 291ms\n",
      "701:\tlearn: 0.0888321\ttotal: 683ms\tremaining: 290ms\n",
      "702:\tlearn: 0.0886364\ttotal: 684ms\tremaining: 289ms\n",
      "703:\tlearn: 0.0884505\ttotal: 685ms\tremaining: 288ms\n",
      "704:\tlearn: 0.0882799\ttotal: 686ms\tremaining: 287ms\n",
      "705:\tlearn: 0.0881819\ttotal: 687ms\tremaining: 286ms\n",
      "706:\tlearn: 0.0880208\ttotal: 688ms\tremaining: 285ms\n",
      "707:\tlearn: 0.0879037\ttotal: 689ms\tremaining: 284ms\n",
      "708:\tlearn: 0.0877926\ttotal: 690ms\tremaining: 283ms\n",
      "709:\tlearn: 0.0876828\ttotal: 690ms\tremaining: 282ms\n",
      "710:\tlearn: 0.0875167\ttotal: 691ms\tremaining: 281ms\n",
      "711:\tlearn: 0.0874424\ttotal: 692ms\tremaining: 280ms\n",
      "712:\tlearn: 0.0872873\ttotal: 693ms\tremaining: 279ms\n",
      "713:\tlearn: 0.0871563\ttotal: 694ms\tremaining: 278ms\n",
      "714:\tlearn: 0.0870863\ttotal: 695ms\tremaining: 277ms\n",
      "715:\tlearn: 0.0868212\ttotal: 696ms\tremaining: 276ms\n",
      "716:\tlearn: 0.0866178\ttotal: 697ms\tremaining: 275ms\n",
      "717:\tlearn: 0.0864933\ttotal: 697ms\tremaining: 274ms\n",
      "718:\tlearn: 0.0863653\ttotal: 698ms\tremaining: 273ms\n",
      "719:\tlearn: 0.0863202\ttotal: 699ms\tremaining: 272ms\n",
      "720:\tlearn: 0.0862266\ttotal: 700ms\tremaining: 271ms\n",
      "721:\tlearn: 0.0861373\ttotal: 701ms\tremaining: 270ms\n",
      "722:\tlearn: 0.0859539\ttotal: 702ms\tremaining: 269ms\n",
      "723:\tlearn: 0.0858290\ttotal: 703ms\tremaining: 268ms\n",
      "724:\tlearn: 0.0856848\ttotal: 704ms\tremaining: 267ms\n",
      "725:\tlearn: 0.0855995\ttotal: 705ms\tremaining: 266ms\n",
      "726:\tlearn: 0.0855195\ttotal: 706ms\tremaining: 265ms\n",
      "727:\tlearn: 0.0853663\ttotal: 706ms\tremaining: 264ms\n",
      "728:\tlearn: 0.0851814\ttotal: 707ms\tremaining: 263ms\n",
      "729:\tlearn: 0.0850286\ttotal: 709ms\tremaining: 262ms\n",
      "730:\tlearn: 0.0849089\ttotal: 710ms\tremaining: 261ms\n",
      "731:\tlearn: 0.0847423\ttotal: 711ms\tremaining: 260ms\n",
      "732:\tlearn: 0.0847310\ttotal: 712ms\tremaining: 259ms\n",
      "733:\tlearn: 0.0845730\ttotal: 712ms\tremaining: 258ms\n",
      "734:\tlearn: 0.0844770\ttotal: 713ms\tremaining: 257ms\n",
      "735:\tlearn: 0.0842826\ttotal: 714ms\tremaining: 256ms\n",
      "736:\tlearn: 0.0840717\ttotal: 715ms\tremaining: 255ms\n",
      "737:\tlearn: 0.0839237\ttotal: 716ms\tremaining: 254ms\n",
      "738:\tlearn: 0.0838364\ttotal: 716ms\tremaining: 253ms\n",
      "739:\tlearn: 0.0836710\ttotal: 717ms\tremaining: 252ms\n",
      "740:\tlearn: 0.0835692\ttotal: 718ms\tremaining: 251ms\n",
      "741:\tlearn: 0.0835577\ttotal: 719ms\tremaining: 250ms\n",
      "742:\tlearn: 0.0834634\ttotal: 720ms\tremaining: 249ms\n",
      "743:\tlearn: 0.0832576\ttotal: 720ms\tremaining: 248ms\n",
      "744:\tlearn: 0.0831279\ttotal: 721ms\tremaining: 247ms\n",
      "745:\tlearn: 0.0829049\ttotal: 722ms\tremaining: 246ms\n",
      "746:\tlearn: 0.0827612\ttotal: 723ms\tremaining: 245ms\n",
      "747:\tlearn: 0.0826507\ttotal: 723ms\tremaining: 244ms\n",
      "748:\tlearn: 0.0826369\ttotal: 724ms\tremaining: 243ms\n",
      "749:\tlearn: 0.0824751\ttotal: 725ms\tremaining: 242ms\n",
      "750:\tlearn: 0.0824166\ttotal: 726ms\tremaining: 241ms\n",
      "751:\tlearn: 0.0822925\ttotal: 727ms\tremaining: 240ms\n",
      "752:\tlearn: 0.0821226\ttotal: 727ms\tremaining: 239ms\n",
      "753:\tlearn: 0.0819887\ttotal: 728ms\tremaining: 238ms\n",
      "754:\tlearn: 0.0818814\ttotal: 729ms\tremaining: 237ms\n",
      "755:\tlearn: 0.0817142\ttotal: 730ms\tremaining: 236ms\n",
      "756:\tlearn: 0.0816979\ttotal: 731ms\tremaining: 235ms\n",
      "757:\tlearn: 0.0815944\ttotal: 732ms\tremaining: 234ms\n",
      "758:\tlearn: 0.0815404\ttotal: 732ms\tremaining: 233ms\n",
      "759:\tlearn: 0.0814011\ttotal: 733ms\tremaining: 232ms\n",
      "760:\tlearn: 0.0812516\ttotal: 734ms\tremaining: 230ms\n",
      "761:\tlearn: 0.0811670\ttotal: 735ms\tremaining: 229ms\n",
      "762:\tlearn: 0.0809867\ttotal: 736ms\tremaining: 228ms\n",
      "763:\tlearn: 0.0809197\ttotal: 736ms\tremaining: 227ms\n",
      "764:\tlearn: 0.0807727\ttotal: 737ms\tremaining: 226ms\n",
      "765:\tlearn: 0.0807589\ttotal: 738ms\tremaining: 225ms\n",
      "766:\tlearn: 0.0807471\ttotal: 739ms\tremaining: 225ms\n",
      "767:\tlearn: 0.0806633\ttotal: 741ms\tremaining: 224ms\n",
      "768:\tlearn: 0.0805666\ttotal: 742ms\tremaining: 223ms\n",
      "769:\tlearn: 0.0804822\ttotal: 743ms\tremaining: 222ms\n",
      "770:\tlearn: 0.0802781\ttotal: 743ms\tremaining: 221ms\n",
      "771:\tlearn: 0.0801629\ttotal: 744ms\tremaining: 220ms\n",
      "772:\tlearn: 0.0799802\ttotal: 745ms\tremaining: 219ms\n",
      "773:\tlearn: 0.0799701\ttotal: 746ms\tremaining: 218ms\n",
      "774:\tlearn: 0.0797256\ttotal: 747ms\tremaining: 217ms\n",
      "775:\tlearn: 0.0796482\ttotal: 748ms\tremaining: 216ms\n",
      "776:\tlearn: 0.0794254\ttotal: 748ms\tremaining: 215ms\n",
      "777:\tlearn: 0.0793614\ttotal: 749ms\tremaining: 214ms\n",
      "778:\tlearn: 0.0792272\ttotal: 750ms\tremaining: 213ms\n",
      "779:\tlearn: 0.0792118\ttotal: 751ms\tremaining: 212ms\n",
      "780:\tlearn: 0.0791372\ttotal: 752ms\tremaining: 211ms\n",
      "781:\tlearn: 0.0790372\ttotal: 753ms\tremaining: 210ms\n",
      "782:\tlearn: 0.0788984\ttotal: 754ms\tremaining: 209ms\n",
      "783:\tlearn: 0.0787929\ttotal: 754ms\tremaining: 208ms\n",
      "784:\tlearn: 0.0787706\ttotal: 755ms\tremaining: 207ms\n",
      "785:\tlearn: 0.0785877\ttotal: 756ms\tremaining: 206ms\n",
      "786:\tlearn: 0.0784919\ttotal: 757ms\tremaining: 205ms\n",
      "787:\tlearn: 0.0784004\ttotal: 758ms\tremaining: 204ms\n",
      "788:\tlearn: 0.0783487\ttotal: 759ms\tremaining: 203ms\n",
      "789:\tlearn: 0.0782422\ttotal: 760ms\tremaining: 202ms\n",
      "790:\tlearn: 0.0781643\ttotal: 761ms\tremaining: 201ms\n",
      "791:\tlearn: 0.0779520\ttotal: 762ms\tremaining: 200ms\n",
      "792:\tlearn: 0.0778451\ttotal: 763ms\tremaining: 199ms\n",
      "793:\tlearn: 0.0778321\ttotal: 763ms\tremaining: 198ms\n"
     ]
    },
    {
     "name": "stdout",
     "output_type": "stream",
     "text": [
      "794:\tlearn: 0.0777240\ttotal: 764ms\tremaining: 197ms\n",
      "795:\tlearn: 0.0776383\ttotal: 765ms\tremaining: 196ms\n",
      "796:\tlearn: 0.0774851\ttotal: 766ms\tremaining: 195ms\n",
      "797:\tlearn: 0.0773375\ttotal: 767ms\tremaining: 194ms\n",
      "798:\tlearn: 0.0772599\ttotal: 768ms\tremaining: 193ms\n",
      "799:\tlearn: 0.0771750\ttotal: 769ms\tremaining: 192ms\n",
      "800:\tlearn: 0.0770529\ttotal: 770ms\tremaining: 191ms\n",
      "801:\tlearn: 0.0769525\ttotal: 770ms\tremaining: 190ms\n",
      "802:\tlearn: 0.0768276\ttotal: 771ms\tremaining: 189ms\n",
      "803:\tlearn: 0.0767407\ttotal: 772ms\tremaining: 188ms\n",
      "804:\tlearn: 0.0765912\ttotal: 773ms\tremaining: 187ms\n",
      "805:\tlearn: 0.0764738\ttotal: 773ms\tremaining: 186ms\n",
      "806:\tlearn: 0.0763552\ttotal: 774ms\tremaining: 185ms\n",
      "807:\tlearn: 0.0762149\ttotal: 775ms\tremaining: 184ms\n",
      "808:\tlearn: 0.0761255\ttotal: 776ms\tremaining: 183ms\n",
      "809:\tlearn: 0.0760557\ttotal: 777ms\tremaining: 182ms\n",
      "810:\tlearn: 0.0759242\ttotal: 778ms\tremaining: 181ms\n",
      "811:\tlearn: 0.0758376\ttotal: 779ms\tremaining: 180ms\n",
      "812:\tlearn: 0.0757875\ttotal: 779ms\tremaining: 179ms\n",
      "813:\tlearn: 0.0756642\ttotal: 780ms\tremaining: 178ms\n",
      "814:\tlearn: 0.0756550\ttotal: 781ms\tremaining: 177ms\n",
      "815:\tlearn: 0.0755098\ttotal: 782ms\tremaining: 176ms\n",
      "816:\tlearn: 0.0753735\ttotal: 783ms\tremaining: 175ms\n",
      "817:\tlearn: 0.0752845\ttotal: 783ms\tremaining: 174ms\n",
      "818:\tlearn: 0.0752176\ttotal: 784ms\tremaining: 173ms\n",
      "819:\tlearn: 0.0752081\ttotal: 785ms\tremaining: 172ms\n",
      "820:\tlearn: 0.0750338\ttotal: 786ms\tremaining: 171ms\n",
      "821:\tlearn: 0.0749604\ttotal: 787ms\tremaining: 170ms\n",
      "822:\tlearn: 0.0748895\ttotal: 787ms\tremaining: 169ms\n",
      "823:\tlearn: 0.0747799\ttotal: 788ms\tremaining: 168ms\n",
      "824:\tlearn: 0.0746562\ttotal: 789ms\tremaining: 167ms\n",
      "825:\tlearn: 0.0745070\ttotal: 790ms\tremaining: 166ms\n",
      "826:\tlearn: 0.0744031\ttotal: 791ms\tremaining: 165ms\n",
      "827:\tlearn: 0.0743456\ttotal: 792ms\tremaining: 164ms\n",
      "828:\tlearn: 0.0742735\ttotal: 793ms\tremaining: 164ms\n",
      "829:\tlearn: 0.0741320\ttotal: 793ms\tremaining: 163ms\n",
      "830:\tlearn: 0.0740442\ttotal: 794ms\tremaining: 162ms\n",
      "831:\tlearn: 0.0739660\ttotal: 795ms\tremaining: 161ms\n",
      "832:\tlearn: 0.0738614\ttotal: 796ms\tremaining: 160ms\n",
      "833:\tlearn: 0.0737513\ttotal: 797ms\tremaining: 159ms\n",
      "834:\tlearn: 0.0737441\ttotal: 798ms\tremaining: 158ms\n",
      "835:\tlearn: 0.0735712\ttotal: 798ms\tremaining: 157ms\n",
      "836:\tlearn: 0.0734992\ttotal: 799ms\tremaining: 156ms\n",
      "837:\tlearn: 0.0733861\ttotal: 800ms\tremaining: 155ms\n",
      "838:\tlearn: 0.0733011\ttotal: 801ms\tremaining: 154ms\n",
      "839:\tlearn: 0.0732411\ttotal: 802ms\tremaining: 153ms\n",
      "840:\tlearn: 0.0731438\ttotal: 805ms\tremaining: 152ms\n",
      "841:\tlearn: 0.0731368\ttotal: 806ms\tremaining: 151ms\n",
      "842:\tlearn: 0.0729889\ttotal: 807ms\tremaining: 150ms\n",
      "843:\tlearn: 0.0729577\ttotal: 807ms\tremaining: 149ms\n",
      "844:\tlearn: 0.0729500\ttotal: 808ms\tremaining: 148ms\n",
      "845:\tlearn: 0.0728966\ttotal: 809ms\tremaining: 147ms\n",
      "846:\tlearn: 0.0728827\ttotal: 811ms\tremaining: 146ms\n",
      "847:\tlearn: 0.0728164\ttotal: 812ms\tremaining: 145ms\n",
      "848:\tlearn: 0.0726887\ttotal: 812ms\tremaining: 144ms\n",
      "849:\tlearn: 0.0726260\ttotal: 813ms\tremaining: 144ms\n",
      "850:\tlearn: 0.0725685\ttotal: 814ms\tremaining: 143ms\n",
      "851:\tlearn: 0.0724627\ttotal: 815ms\tremaining: 142ms\n",
      "852:\tlearn: 0.0723019\ttotal: 816ms\tremaining: 141ms\n",
      "853:\tlearn: 0.0721586\ttotal: 817ms\tremaining: 140ms\n",
      "854:\tlearn: 0.0720544\ttotal: 818ms\tremaining: 139ms\n",
      "855:\tlearn: 0.0719385\ttotal: 819ms\tremaining: 138ms\n",
      "856:\tlearn: 0.0718515\ttotal: 820ms\tremaining: 137ms\n",
      "857:\tlearn: 0.0717718\ttotal: 821ms\tremaining: 136ms\n",
      "858:\tlearn: 0.0717337\ttotal: 822ms\tremaining: 135ms\n",
      "859:\tlearn: 0.0716918\ttotal: 823ms\tremaining: 134ms\n",
      "860:\tlearn: 0.0716331\ttotal: 823ms\tremaining: 133ms\n",
      "861:\tlearn: 0.0715211\ttotal: 824ms\tremaining: 132ms\n",
      "862:\tlearn: 0.0714135\ttotal: 825ms\tremaining: 131ms\n",
      "863:\tlearn: 0.0713044\ttotal: 826ms\tremaining: 130ms\n",
      "864:\tlearn: 0.0712275\ttotal: 827ms\tremaining: 129ms\n",
      "865:\tlearn: 0.0711772\ttotal: 828ms\tremaining: 128ms\n",
      "866:\tlearn: 0.0710484\ttotal: 829ms\tremaining: 127ms\n",
      "867:\tlearn: 0.0709549\ttotal: 830ms\tremaining: 126ms\n",
      "868:\tlearn: 0.0709101\ttotal: 831ms\tremaining: 125ms\n",
      "869:\tlearn: 0.0708968\ttotal: 831ms\tremaining: 124ms\n",
      "870:\tlearn: 0.0708125\ttotal: 832ms\tremaining: 123ms\n",
      "871:\tlearn: 0.0706844\ttotal: 833ms\tremaining: 122ms\n",
      "872:\tlearn: 0.0705617\ttotal: 834ms\tremaining: 121ms\n",
      "873:\tlearn: 0.0705043\ttotal: 835ms\tremaining: 120ms\n",
      "874:\tlearn: 0.0703636\ttotal: 836ms\tremaining: 119ms\n",
      "875:\tlearn: 0.0702422\ttotal: 837ms\tremaining: 118ms\n",
      "876:\tlearn: 0.0701858\ttotal: 838ms\tremaining: 117ms\n",
      "877:\tlearn: 0.0700717\ttotal: 839ms\tremaining: 117ms\n",
      "878:\tlearn: 0.0699626\ttotal: 839ms\tremaining: 116ms\n",
      "879:\tlearn: 0.0697832\ttotal: 840ms\tremaining: 115ms\n",
      "880:\tlearn: 0.0696374\ttotal: 841ms\tremaining: 114ms\n",
      "881:\tlearn: 0.0696309\ttotal: 843ms\tremaining: 113ms\n",
      "882:\tlearn: 0.0695808\ttotal: 843ms\tremaining: 112ms\n",
      "883:\tlearn: 0.0695737\ttotal: 844ms\tremaining: 111ms\n",
      "884:\tlearn: 0.0695668\ttotal: 845ms\tremaining: 110ms\n",
      "885:\tlearn: 0.0694780\ttotal: 846ms\tremaining: 109ms\n",
      "886:\tlearn: 0.0693653\ttotal: 847ms\tremaining: 108ms\n",
      "887:\tlearn: 0.0692563\ttotal: 847ms\tremaining: 107ms\n",
      "888:\tlearn: 0.0691366\ttotal: 848ms\tremaining: 106ms\n",
      "889:\tlearn: 0.0690498\ttotal: 849ms\tremaining: 105ms\n",
      "890:\tlearn: 0.0689326\ttotal: 850ms\tremaining: 104ms\n",
      "891:\tlearn: 0.0687910\ttotal: 852ms\tremaining: 103ms\n",
      "892:\tlearn: 0.0687168\ttotal: 853ms\tremaining: 102ms\n",
      "893:\tlearn: 0.0686560\ttotal: 853ms\tremaining: 101ms\n",
      "894:\tlearn: 0.0685461\ttotal: 854ms\tremaining: 100ms\n",
      "895:\tlearn: 0.0684302\ttotal: 855ms\tremaining: 99.3ms\n",
      "896:\tlearn: 0.0684236\ttotal: 856ms\tremaining: 98.3ms\n",
      "897:\tlearn: 0.0683278\ttotal: 857ms\tremaining: 97.3ms\n",
      "898:\tlearn: 0.0681960\ttotal: 858ms\tremaining: 96.3ms\n",
      "899:\tlearn: 0.0680346\ttotal: 858ms\tremaining: 95.4ms\n",
      "900:\tlearn: 0.0680211\ttotal: 859ms\tremaining: 94.4ms\n",
      "901:\tlearn: 0.0678858\ttotal: 860ms\tremaining: 93.4ms\n",
      "902:\tlearn: 0.0677807\ttotal: 861ms\tremaining: 92.5ms\n",
      "903:\tlearn: 0.0676486\ttotal: 862ms\tremaining: 91.5ms\n",
      "904:\tlearn: 0.0675959\ttotal: 862ms\tremaining: 90.5ms\n",
      "905:\tlearn: 0.0674586\ttotal: 863ms\tremaining: 89.5ms\n",
      "906:\tlearn: 0.0674475\ttotal: 864ms\tremaining: 88.6ms\n",
      "907:\tlearn: 0.0674021\ttotal: 865ms\tremaining: 87.6ms\n",
      "908:\tlearn: 0.0673885\ttotal: 866ms\tremaining: 86.7ms\n",
      "909:\tlearn: 0.0672521\ttotal: 866ms\tremaining: 85.7ms\n",
      "910:\tlearn: 0.0671271\ttotal: 867ms\tremaining: 84.7ms\n",
      "911:\tlearn: 0.0670536\ttotal: 868ms\tremaining: 83.8ms\n",
      "912:\tlearn: 0.0669619\ttotal: 869ms\tremaining: 82.8ms\n",
      "913:\tlearn: 0.0668576\ttotal: 870ms\tremaining: 81.9ms\n",
      "914:\tlearn: 0.0667884\ttotal: 871ms\tremaining: 80.9ms\n",
      "915:\tlearn: 0.0667758\ttotal: 872ms\tremaining: 79.9ms\n"
     ]
    },
    {
     "name": "stdout",
     "output_type": "stream",
     "text": [
      "916:\tlearn: 0.0666529\ttotal: 872ms\tremaining: 79ms\n",
      "917:\tlearn: 0.0665488\ttotal: 873ms\tremaining: 78ms\n",
      "918:\tlearn: 0.0665003\ttotal: 874ms\tremaining: 77.1ms\n",
      "919:\tlearn: 0.0664313\ttotal: 875ms\tremaining: 76.1ms\n",
      "920:\tlearn: 0.0663096\ttotal: 876ms\tremaining: 75.2ms\n",
      "921:\tlearn: 0.0662595\ttotal: 877ms\tremaining: 74.2ms\n",
      "922:\tlearn: 0.0661437\ttotal: 878ms\tremaining: 73.2ms\n",
      "923:\tlearn: 0.0660660\ttotal: 879ms\tremaining: 72.3ms\n",
      "924:\tlearn: 0.0659216\ttotal: 880ms\tremaining: 71.3ms\n",
      "925:\tlearn: 0.0658096\ttotal: 880ms\tremaining: 70.4ms\n",
      "926:\tlearn: 0.0656931\ttotal: 881ms\tremaining: 69.4ms\n",
      "927:\tlearn: 0.0655879\ttotal: 882ms\tremaining: 68.4ms\n",
      "928:\tlearn: 0.0655027\ttotal: 883ms\tremaining: 67.5ms\n",
      "929:\tlearn: 0.0654900\ttotal: 884ms\tremaining: 66.5ms\n",
      "930:\tlearn: 0.0653333\ttotal: 885ms\tremaining: 65.6ms\n",
      "931:\tlearn: 0.0653019\ttotal: 886ms\tremaining: 64.6ms\n",
      "932:\tlearn: 0.0651982\ttotal: 886ms\tremaining: 63.7ms\n",
      "933:\tlearn: 0.0651042\ttotal: 887ms\tremaining: 62.7ms\n",
      "934:\tlearn: 0.0649635\ttotal: 888ms\tremaining: 61.7ms\n",
      "935:\tlearn: 0.0648938\ttotal: 889ms\tremaining: 60.8ms\n",
      "936:\tlearn: 0.0647480\ttotal: 890ms\tremaining: 59.9ms\n",
      "937:\tlearn: 0.0646530\ttotal: 891ms\tremaining: 58.9ms\n",
      "938:\tlearn: 0.0645518\ttotal: 892ms\tremaining: 57.9ms\n",
      "939:\tlearn: 0.0644163\ttotal: 893ms\tremaining: 57ms\n",
      "940:\tlearn: 0.0643914\ttotal: 894ms\tremaining: 56ms\n",
      "941:\tlearn: 0.0643842\ttotal: 894ms\tremaining: 55.1ms\n",
      "942:\tlearn: 0.0642936\ttotal: 895ms\tremaining: 54.1ms\n",
      "943:\tlearn: 0.0641819\ttotal: 896ms\tremaining: 53.2ms\n",
      "944:\tlearn: 0.0640774\ttotal: 897ms\tremaining: 52.2ms\n",
      "945:\tlearn: 0.0640334\ttotal: 898ms\tremaining: 51.2ms\n",
      "946:\tlearn: 0.0639359\ttotal: 898ms\tremaining: 50.3ms\n",
      "947:\tlearn: 0.0638590\ttotal: 899ms\tremaining: 49.3ms\n",
      "948:\tlearn: 0.0637417\ttotal: 900ms\tremaining: 48.4ms\n",
      "949:\tlearn: 0.0637000\ttotal: 901ms\tremaining: 47.4ms\n",
      "950:\tlearn: 0.0636721\ttotal: 902ms\tremaining: 46.5ms\n",
      "951:\tlearn: 0.0636263\ttotal: 903ms\tremaining: 45.5ms\n",
      "952:\tlearn: 0.0635052\ttotal: 904ms\tremaining: 44.6ms\n",
      "953:\tlearn: 0.0634121\ttotal: 905ms\tremaining: 43.6ms\n",
      "954:\tlearn: 0.0632997\ttotal: 906ms\tremaining: 42.7ms\n",
      "955:\tlearn: 0.0631855\ttotal: 906ms\tremaining: 41.7ms\n",
      "956:\tlearn: 0.0630691\ttotal: 907ms\tremaining: 40.8ms\n",
      "957:\tlearn: 0.0629565\ttotal: 908ms\tremaining: 39.8ms\n",
      "958:\tlearn: 0.0628552\ttotal: 909ms\tremaining: 38.9ms\n",
      "959:\tlearn: 0.0628198\ttotal: 910ms\tremaining: 37.9ms\n",
      "960:\tlearn: 0.0626974\ttotal: 910ms\tremaining: 36.9ms\n",
      "961:\tlearn: 0.0626037\ttotal: 911ms\tremaining: 36ms\n",
      "962:\tlearn: 0.0624331\ttotal: 912ms\tremaining: 35ms\n",
      "963:\tlearn: 0.0624283\ttotal: 913ms\tremaining: 34.1ms\n",
      "964:\tlearn: 0.0623075\ttotal: 914ms\tremaining: 33.1ms\n",
      "965:\tlearn: 0.0622558\ttotal: 915ms\tremaining: 32.2ms\n",
      "966:\tlearn: 0.0622361\ttotal: 916ms\tremaining: 31.3ms\n",
      "967:\tlearn: 0.0621877\ttotal: 917ms\tremaining: 30.3ms\n",
      "968:\tlearn: 0.0621369\ttotal: 918ms\tremaining: 29.4ms\n",
      "969:\tlearn: 0.0620466\ttotal: 918ms\tremaining: 28.4ms\n",
      "970:\tlearn: 0.0620138\ttotal: 919ms\tremaining: 27.5ms\n",
      "971:\tlearn: 0.0619151\ttotal: 920ms\tremaining: 26.5ms\n",
      "972:\tlearn: 0.0618268\ttotal: 921ms\tremaining: 25.6ms\n",
      "973:\tlearn: 0.0618161\ttotal: 922ms\tremaining: 24.6ms\n",
      "974:\tlearn: 0.0617075\ttotal: 923ms\tremaining: 23.7ms\n",
      "975:\tlearn: 0.0616838\ttotal: 923ms\tremaining: 22.7ms\n",
      "976:\tlearn: 0.0616285\ttotal: 924ms\tremaining: 21.8ms\n",
      "977:\tlearn: 0.0615697\ttotal: 925ms\tremaining: 20.8ms\n",
      "978:\tlearn: 0.0614197\ttotal: 926ms\tremaining: 19.9ms\n",
      "979:\tlearn: 0.0613371\ttotal: 927ms\tremaining: 18.9ms\n",
      "980:\tlearn: 0.0613080\ttotal: 928ms\tremaining: 18ms\n",
      "981:\tlearn: 0.0612564\ttotal: 928ms\tremaining: 17ms\n",
      "982:\tlearn: 0.0611840\ttotal: 929ms\tremaining: 16.1ms\n",
      "983:\tlearn: 0.0610894\ttotal: 930ms\tremaining: 15.1ms\n",
      "984:\tlearn: 0.0609547\ttotal: 931ms\tremaining: 14.2ms\n",
      "985:\tlearn: 0.0608422\ttotal: 932ms\tremaining: 13.2ms\n",
      "986:\tlearn: 0.0608363\ttotal: 933ms\tremaining: 12.3ms\n",
      "987:\tlearn: 0.0607731\ttotal: 935ms\tremaining: 11.4ms\n",
      "988:\tlearn: 0.0607034\ttotal: 937ms\tremaining: 10.4ms\n",
      "989:\tlearn: 0.0606370\ttotal: 939ms\tremaining: 9.49ms\n",
      "990:\tlearn: 0.0605240\ttotal: 942ms\tremaining: 8.56ms\n",
      "991:\tlearn: 0.0604897\ttotal: 951ms\tremaining: 7.67ms\n",
      "992:\tlearn: 0.0604230\ttotal: 953ms\tremaining: 6.72ms\n",
      "993:\tlearn: 0.0604128\ttotal: 955ms\tremaining: 5.76ms\n"
     ]
    },
    {
     "name": "stdout",
     "output_type": "stream",
     "text": [
      "994:\tlearn: 0.0603129\ttotal: 956ms\tremaining: 4.8ms\n",
      "995:\tlearn: 0.0602906\ttotal: 957ms\tremaining: 3.84ms\n",
      "996:\tlearn: 0.0601730\ttotal: 958ms\tremaining: 2.88ms\n",
      "997:\tlearn: 0.0600928\ttotal: 959ms\tremaining: 1.92ms\n",
      "998:\tlearn: 0.0600869\ttotal: 960ms\tremaining: 960us\n",
      "999:\tlearn: 0.0600106\ttotal: 960ms\tremaining: 0us\n"
     ]
    },
    {
     "data": {
      "text/plain": [
       "<catboost.core.CatBoostRegressor at 0x7fe0602f5610>"
      ]
     },
     "execution_count": 9,
     "metadata": {},
     "output_type": "execute_result"
    }
   ],
   "source": [
    "#Train the Model \n",
    "prior_model = ctb.CatBoostRegressor()\n",
    "prior_model.fit(X_train,Y_train)"
   ]
  },
  {
   "cell_type": "code",
   "execution_count": 10,
   "id": "af65dcda",
   "metadata": {
    "execution": {
     "iopub.execute_input": "2022-06-12T06:17:09.461989Z",
     "iopub.status.busy": "2022-06-12T06:17:09.461589Z",
     "iopub.status.idle": "2022-06-12T06:17:09.471539Z",
     "shell.execute_reply": "2022-06-12T06:17:09.471834Z"
    },
    "id": "af65dcda",
    "papermill": {
     "duration": 0.024583,
     "end_time": "2022-06-12T06:17:09.471957",
     "exception": false,
     "start_time": "2022-06-12T06:17:09.447374",
     "status": "completed"
    },
    "tags": []
   },
   "outputs": [
    {
     "data": {
      "application/scrapbook.scrap.json+json": {
       "data": 0.09148063895772066,
       "encoder": "json",
       "name": "Prior Model MSE",
       "version": 1
      }
     },
     "metadata": {
      "scrapbook": {
       "data": true,
       "display": false,
       "name": "Prior Model MSE"
      }
     },
     "output_type": "display_data"
    },
    {
     "data": {
      "application/scrapbook.scrap.json+json": {
       "data": 0.9656783049365985,
       "encoder": "json",
       "name": "ABC Pre-generator MSE",
       "version": 1
      }
     },
     "metadata": {
      "scrapbook": {
       "data": true,
       "display": false,
       "name": "ABC Pre-generator MSE"
      }
     },
     "output_type": "display_data"
    },
    {
     "data": {
      "application/scrapbook.scrap.json+json": {
       "data": 0.19860642040546123,
       "encoder": "json",
       "name": "Prior Model MSE",
       "version": 1
      }
     },
     "metadata": {
      "scrapbook": {
       "data": true,
       "display": false,
       "name": "Prior Model MSE"
      }
     },
     "output_type": "display_data"
    },
    {
     "data": {
      "application/scrapbook.scrap.json+json": {
       "data": 0.7789749254322303,
       "encoder": "json",
       "name": "ABC Pre-generator MSE",
       "version": 1
      }
     },
     "metadata": {
      "scrapbook": {
       "data": true,
       "display": false,
       "name": "ABC Pre-generator MSE"
      }
     },
     "output_type": "display_data"
    }
   ],
   "source": [
    "y_pred = prior_model.predict(X_test)\n",
    "y_abc = y_pred + np.random.normal(0,variance, y_pred.shape) + bias \n",
    "mse = mean_squared_error(y_pred,Y_test)\n",
    "sb.glue(\"Prior Model MSE\",mse)\n",
    "mse = mean_squared_error(y_abc,Y_test)\n",
    "sb.glue(\"ABC Pre-generator MSE\",mse)\n",
    "mae = mean_absolute_error(y_pred,Y_test)\n",
    "sb.glue(\"Prior Model MSE\",mae)\n",
    "mae = mean_absolute_error(y_abc,Y_test)\n",
    "sb.glue(\"ABC Pre-generator MSE\",mae)"
   ]
  },
  {
   "cell_type": "markdown",
   "id": "25609da2",
   "metadata": {
    "papermill": {
     "duration": 0.010788,
     "end_time": "2022-06-12T06:17:09.493094",
     "exception": false,
     "start_time": "2022-06-12T06:17:09.482306",
     "status": "completed"
    },
    "tags": []
   },
   "source": [
    "# ABC GAN Model"
   ]
  },
  {
   "cell_type": "code",
   "execution_count": 11,
   "id": "dfc3464d",
   "metadata": {
    "execution": {
     "iopub.execute_input": "2022-06-12T06:17:09.519869Z",
     "iopub.status.busy": "2022-06-12T06:17:09.519269Z",
     "iopub.status.idle": "2022-06-12T06:17:09.521956Z",
     "shell.execute_reply": "2022-06-12T06:17:09.522255Z"
    },
    "papermill": {
     "duration": 0.018332,
     "end_time": "2022-06-12T06:17:09.522384",
     "exception": false,
     "start_time": "2022-06-12T06:17:09.504052",
     "status": "completed"
    },
    "tags": []
   },
   "outputs": [],
   "source": [
    "gen = network.Generator(n_features+1).to(device)\n",
    "disc = network.Discriminator(n_features+1).to(device)\n",
    "\n",
    "criterion = torch.nn.BCELoss()\n",
    "gen_opt = torch.optim.Adam(gen.parameters(), lr=0.001, betas=(0.5, 0.999))\n",
    "disc_opt = torch.optim.Adam(disc.parameters(), lr=0.001, betas=(0.5, 0.999))"
   ]
  },
  {
   "cell_type": "code",
   "execution_count": 12,
   "id": "b75fdd85",
   "metadata": {
    "execution": {
     "iopub.execute_input": "2022-06-12T06:17:09.546932Z",
     "iopub.status.busy": "2022-06-12T06:17:09.546543Z",
     "iopub.status.idle": "2022-06-12T06:18:09.571485Z",
     "shell.execute_reply": "2022-06-12T06:18:09.571729Z"
    },
    "papermill": {
     "duration": 60.039099,
     "end_time": "2022-06-12T06:18:09.571849",
     "exception": false,
     "start_time": "2022-06-12T06:17:09.532750",
     "status": "completed"
    },
    "tags": []
   },
   "outputs": [
    {
     "data": {
      "image/png": "[encoded data removed]",
      "text/plain": [
       "<Figure size 432x288 with 1 Axes>"
      ]
     },
     "metadata": {
      "needs_background": "light"
     },
     "output_type": "display_data"
    },
    {
     "data": {
      "image/png": "[encoded data removed]",
      "text/plain": [
       "<Figure size 432x288 with 1 Axes>"
      ]
     },
     "metadata": {
      "needs_background": "light"
     },
     "output_type": "display_data"
    }
   ],
   "source": [
    "#Training the ABC_GAN \n",
    "ABC_train_test2.training_GAN(disc,gen,disc_opt,gen_opt,train_data,batch_size,n_epochs,criterion,prior_model,variance,bias,device)"
   ]
  },
  {
   "cell_type": "code",
   "execution_count": 13,
   "id": "1fa7c368",
   "metadata": {
    "execution": {
     "iopub.execute_input": "2022-06-12T06:18:09.596756Z",
     "iopub.status.busy": "2022-06-12T06:18:09.596408Z",
     "iopub.status.idle": "2022-06-12T06:18:09.901267Z",
     "shell.execute_reply": "2022-06-12T06:18:09.901624Z"
    },
    "papermill": {
     "duration": 0.318774,
     "end_time": "2022-06-12T06:18:09.901752",
     "exception": false,
     "start_time": "2022-06-12T06:18:09.582978",
     "status": "completed"
    },
    "tags": []
   },
   "outputs": [
    {
     "data": {
      "application/scrapbook.scrap.json+json": {
       "data": 0.10856275380907429,
       "encoder": "json",
       "name": "ABC-GAN Model 1 MSE",
       "version": 1
      }
     },
     "metadata": {
      "scrapbook": {
       "data": true,
       "display": false,
       "name": "ABC-GAN Model 1 MSE"
      }
     },
     "output_type": "display_data"
    },
    {
     "data": {
      "application/scrapbook.scrap.json+json": {
       "data": 0.23314872079072338,
       "encoder": "json",
       "name": "ABC-GAN Model 1 MAE",
       "version": 1
      }
     },
     "metadata": {
      "scrapbook": {
       "data": true,
       "display": false,
       "name": "ABC-GAN Model 1 MAE"
      }
     },
     "output_type": "display_data"
    },
    {
     "data": {
      "application/scrapbook.scrap.json+json": {
       "data": 23.781169520653783,
       "encoder": "json",
       "name": "ABC-GAN Model 1 Manhattan Distance",
       "version": 1
      }
     },
     "metadata": {
      "scrapbook": {
       "data": true,
       "display": false,
       "name": "ABC-GAN Model 1 Manhattan Distance"
      }
     },
     "output_type": "display_data"
    },
    {
     "data": {
      "application/scrapbook.scrap.json+json": {
       "data": 3.3276358753173825,
       "encoder": "json",
       "name": "ABC-GAN Model 1 Euclidean distance",
       "version": 1
      }
     },
     "metadata": {
      "scrapbook": {
       "data": true,
       "display": false,
       "name": "ABC-GAN Model 1 Euclidean distance"
      }
     },
     "output_type": "display_data"
    },
    {
     "data": {
      "application/scrapbook.scrap.json+json": {
       "data": [
        [
         0.10965404773089238,
         0.10751995625433663,
         0.10864939634866932,
         0.10823989144870996,
         0.10811560603565086,
         0.10816410340748912,
         0.10898757150121005,
         0.10827216051072193,
         0.10880608796741625,
         0.10836134571041513,
         0.10760986915922664,
         0.10879604857231757,
         0.10750956369988682,
         0.10940831341437934,
         0.10861133378811903,
         0.10804165244621729,
         0.10894503263969049,
         0.1083290425295397,
         0.11001232784094107,
         0.10677375819982104,
         0.11029593901226657,
         0.10848055669323262,
         0.10880746024627552,
         0.10617197750858326,
         0.1083202151307721,
         0.10893924123934755,
         0.10816278583406855,
         0.1071554401888484,
         0.10881746411268124,
         0.10862925053973527,
         0.11136276767748131,
         0.10955211980231479,
         0.10781944988072233,
         0.10967043218602672,
         0.10736987880659869,
         0.10799349709719495,
         0.10985766513479418,
         0.10871719547273254,
         0.1083720833914072,
         0.10868771545271319,
         0.11018142965669973,
         0.11012547511001372,
         0.1083240040006789,
         0.10814638326462842,
         0.10905823626399588,
         0.10843734133025472,
         0.10655757135978178,
         0.10793368275614991,
         0.10937657108986819,
         0.10747163457706402,
         0.10801813409923444,
         0.10854103168866314,
         0.10872956280226025,
         0.10904105073220141,
         0.1091253818123906,
         0.10958222245849425,
         0.10627646717091378,
         0.10786632138289749,
         0.10677545025977256,
         0.10968584593006113,
         0.10707314965832239,
         0.10743859921813254,
         0.10909187801800314,
         0.10817632123184591,
         0.10915130968815666,
         0.10926136362116659,
         0.10679997779540007,
         0.10912521615406041,
         0.1098682708226874,
         0.10695347015334067,
         0.10650352757697774,
         0.10972561253453933,
         0.10970235677864136,
         0.10797697225741157,
         0.10959951257809576,
         0.10983521403778922,
         0.10878546651815253,
         0.10851236002781786,
         0.10893738522525963,
         0.1095003632399948,
         0.10876932295853833,
         0.10873514407716618,
         0.11091423456838945,
         0.10773513062075335,
         0.10858459967732198,
         0.1064956831307153,
         0.1075401393376415,
         0.10880192753129665,
         0.10883295537626729,
         0.10972109806174538,
         0.10839787405634982,
         0.10848686881884018,
         0.1092360515257244,
         0.10772683912916056,
         0.10924983225858377,
         0.1094837576445394,
         0.10960818697241706,
         0.10833694897256661,
         0.10750953771872218,
         0.10884687897542172
        ],
        [
         0.23574513124813343,
         0.23326207106640817,
         0.23320837878603853,
         0.23387334178950564,
         0.2320684188082084,
         0.23333455100838169,
         0.232628305141321,
         0.2344034565156143,
         0.23223098821244112,
         0.23395052965839996,
         0.23313490528722897,
         0.23354290225817,
         0.2323093022146792,
         0.23233854731398762,
         0.234879418449732,
         0.2302193241467809,
         0.23424326990931935,
         0.23168946025600912,
         0.234556790267793,
         0.23120801217452275,
         0.23427507855618993,
         0.23199857472825577,
         0.23458284009065405,
         0.23071038588771925,
         0.2330680319436771,
         0.2335478927593167,
         0.2318367960351501,
         0.23342406392718354,
         0.23352065716194464,
         0.2332885283702875,
         0.23605098645659348,
         0.2337722895283471,
         0.23309954826482662,
         0.2343673513307437,
         0.23146565175414377,
         0.23207182792362338,
         0.2349923619470906,
         0.23313815644303082,
         0.23214558173226668,
         0.2331304789119053,
         0.23380556977445296,
         0.23516463938479623,
         0.23192473260831892,
         0.23315002883364463,
         0.2324157369724822,
         0.23331084395484888,
         0.22893858866254782,
         0.2323995317040267,
         0.23376561494032835,
         0.23193778109499344,
         0.2320483496102194,
         0.23392876541680274,
         0.23304197678853775,
         0.2338276584815307,
         0.23351023000135435,
         0.23405573671391489,
         0.23129079060848146,
         0.23121981601249061,
         0.22948245763523029,
         0.23489565205961174,
         0.23169776177325963,
         0.23217354262905085,
         0.23481474708144864,
         0.23231012123070804,
         0.23438968638177304,
         0.23413220786617375,
         0.23154677261653192,
         0.23296694768884896,
         0.23521433092252003,
         0.23055361270648883,
         0.2310768221322374,
         0.23482061258754602,
         0.23480186382235557,
         0.23128736140571682,
         0.23321191058037619,
         0.23484375346999833,
         0.23412037743985945,
         0.23381077115624851,
         0.2343125581905684,
         0.23673458259516195,
         0.23282074461709343,
         0.23310017239704145,
         0.23502459367006726,
         0.23203942772256686,
         0.23514664195952753,
         0.23064282756554438,
         0.2307810070924461,
         0.23372115743547386,
         0.23339215758274875,
         0.2364892060868442,
         0.23254120128010125,
         0.232733550180188,
         0.2341039504435863,
         0.23156529074242593,
         0.23393239589481085,
         0.2331636780781635,
         0.23401353089138865,
         0.23369071954934328,
         0.23104693588125064,
         0.23467385620061382
        ],
        [
         24.04600338730961,
         23.792731248773634,
         23.78725463617593,
         23.855080862529576,
         23.670978718437254,
         23.80012420285493,
         23.728087124414742,
         23.90915256459266,
         23.687560797668993,
         23.862954025156796,
         23.779760339297354,
         23.82137603033334,
         23.695548825897276,
         23.698531826026738,
         23.957700681872666,
         23.48237106297165,
         23.892813530750573,
         23.63232494611293,
         23.924792607314885,
         23.58321724180132,
         23.896058012731373,
         23.663854622282088,
         23.927449689246714,
         23.532459360547364,
         23.772939258255064,
         23.821885061450303,
         23.64735319558531,
         23.809254520572722,
         23.819107030518353,
         23.795429893769324,
         24.077200618572533,
         23.844773531891406,
         23.776153923012316,
         23.905469835735857,
         23.609496478922665,
         23.671326448209584,
         23.96922091860324,
         23.780091957189143,
         23.6788493366912,
         23.779308849014342,
         23.848168116994202,
         23.986793217249215,
         23.65632272604853,
         23.781302941031754,
         23.706405171193182,
         23.797706083394587,
         23.351736043579876,
         23.704752233810723,
         23.84409272391349,
         23.65765367168933,
         23.66893166024238,
         23.86073407251388,
         23.77028163243085,
         23.85042116511613,
         23.818043460138142,
         23.87368514481932,
         23.591660642065108,
         23.584421233274043,
         23.40721067879349,
         23.959356510080397,
         23.63317170087248,
         23.681701348163188,
         23.95110420230776,
         23.69563236553222,
         23.90774801094085,
         23.881485202349722,
         23.617770806886256,
         23.762628664262593,
         23.991861754097044,
         23.51646849606186,
         23.569835857488215,
         23.951702483929694,
         23.94979010988027,
         23.591310863383114,
         23.787614879198372,
         23.95406285393983,
         23.880278498865664,
         23.848698657937348,
         23.899880935437977,
         24.14692742470652,
         23.74771595094353,
         23.776217584498227,
         23.97250855434686,
         23.66802162770182,
         23.98495747987181,
         23.525568411685526,
         23.5396627234295,
         23.839558058418334,
         23.806000073440373,
         24.12189902085811,
         23.71920253057033,
         23.738822118379176,
         23.878602945245802,
         23.619659655727446,
         23.861104381270707,
         23.782695163972676,
         23.869380150921643,
         23.836453394033015,
         23.566787459887564,
         23.93673333246261
        ],
        [
         3.344355374141782,
         3.3116514819561442,
         3.3289996136323396,
         3.322720109754718,
         3.3208119211476563,
         3.3215566452438963,
         3.3341764040199524,
         3.323215366492764,
         3.3313992514672353,
         3.3245837728146275,
         3.3130358667302575,
         3.3312455560009964,
         3.311491430970108,
         3.3406059283110134,
         3.328416447259588,
         3.3196759705601036,
         3.33352566050547,
         3.3240881964853224,
         3.349814538116399,
         3.3001398964864714,
         3.354129660470982,
         3.326411998341415,
         3.331420259456933,
         3.2908269030557484,
         3.32395275889095,
         3.333437056014924,
         3.3215364148350064,
         3.3060331061957826,
         3.3315734029874653,
         3.3286909671901044,
         3.3703118999735158,
         3.3428006551148255,
         3.3162605277380837,
         3.3446052207958306,
         3.309339456488721,
         3.3189360801187293,
         3.3474590130050883,
         3.330038128643382,
         3.3247484876188054,
         3.3295866073998956,
         3.3523880779204798,
         3.3515367312952717,
         3.3240108916893227,
         3.3212845546553362,
         3.335257126358863,
         3.325749361525305,
         3.2967972759479367,
         3.318016823514806,
         3.340121292882424,
         3.3109072362209924,
         3.3193146398197797,
         3.3273390618095466,
         3.3302275306396925,
         3.33499432903334,
         3.3362837026943373,
         3.343259889803126,
         3.2924458463934076,
         3.3169812753549786,
         3.300166045291782,
         3.344840248033713,
         3.3047634204506804,
         3.310398332565058,
         3.335771508637292,
         3.321744235435395,
         3.336680024843853,
         3.338361737343482,
         3.300545066368706,
         3.3362811703623176,
         3.347620591392357,
         3.302915977684074,
         3.2959611364292094,
         3.3454465290186612,
         3.345091985494781,
         3.3186821436009777,
         3.3435236327811064,
         3.347116943259452,
         3.331083545162378,
         3.326899566088134,
         3.333408659762028,
         3.3420109291382434,
         3.3308363727104493,
         3.3303130026877277,
         3.36351779034625,
         3.3149635478111734,
         3.3280067859135807,
         3.295839753284882,
         3.3119622903105985,
         3.3313355592303,
         3.331810536086838,
         3.3453777069709223,
         3.3251440801486605,
         3.326508773402183,
         3.3379750232175027,
         3.314835982544894,
         3.338185568594942,
         3.341757513606129,
         3.343655943901307,
         3.324209499294801,
         3.3114910308363603,
         3.33202365770308
        ]
       ],
       "encoder": "json",
       "name": "ABC_GAN_1 Metrics",
       "version": 1
      }
     },
     "metadata": {
      "scrapbook": {
       "data": true,
       "display": false,
       "name": "ABC_GAN_1 Metrics"
      }
     },
     "output_type": "display_data"
    },
    {
     "name": "stdout",
     "output_type": "stream",
     "text": [
      "MSE\n",
      "0.10856275380907429\n"
     ]
    }
   ],
   "source": [
    "ABC_GAN1_metrics=ABC_train_test2.test_generator(gen,test_data,prior_model,variance,bias,\"1\",device)\n",
    "sb.glue(\"ABC_GAN_1 Metrics\",ABC_GAN1_metrics)\n",
    "\n",
    "print(\"MSE\")\n",
    "print(mean(ABC_GAN1_metrics[0]))"
   ]
  },
  {
   "cell_type": "code",
   "execution_count": 14,
   "id": "eb22ce5c",
   "metadata": {
    "execution": {
     "iopub.execute_input": "2022-06-12T06:18:09.929728Z",
     "iopub.status.busy": "2022-06-12T06:18:09.929359Z",
     "iopub.status.idle": "2022-06-12T06:18:10.242562Z",
     "shell.execute_reply": "2022-06-12T06:18:10.242872Z"
    },
    "papermill": {
     "duration": 0.328355,
     "end_time": "2022-06-12T06:18:10.242994",
     "exception": false,
     "start_time": "2022-06-12T06:18:09.914639",
     "status": "completed"
    },
    "tags": []
   },
   "outputs": [
    {
     "data": {
      "image/png": "[encoded data removed]",
      "text/plain": [
       "<Figure size 432x288 with 1 Axes>"
      ]
     },
     "metadata": {
      "needs_background": "light"
     },
     "output_type": "display_data"
    },
    {
     "data": {
      "image/png": "[encoded data removed]",
      "text/plain": [
       "<Figure size 432x288 with 1 Axes>"
      ]
     },
     "metadata": {
      "needs_background": "light"
     },
     "output_type": "display_data"
    },
    {
     "data": {
      "image/png": "[encoded data removed]",
      "text/plain": [
       "<Figure size 432x288 with 1 Axes>"
      ]
     },
     "metadata": {
      "needs_background": "light"
     },
     "output_type": "display_data"
    },
    {
     "data": {
      "image/png": "[encoded data removed]",
      "text/plain": [
       "<Figure size 432x288 with 1 Axes>"
      ]
     },
     "metadata": {
      "needs_background": "light"
     },
     "output_type": "display_data"
    }
   ],
   "source": [
    "sanityChecks.discProbVsError(train_data,disc,device)\n",
    "sanityChecks.discProbVsError(test_data,disc,device)"
   ]
  },
  {
   "cell_type": "markdown",
   "id": "130f3a4d",
   "metadata": {
    "id": "130f3a4d",
    "papermill": {
     "duration": 0.01466,
     "end_time": "2022-06-12T06:18:10.272804",
     "exception": false,
     "start_time": "2022-06-12T06:18:10.258144",
     "status": "completed"
    },
    "tags": []
   },
   "source": [
    "# ABC - GAN Model with skip connection"
   ]
  },
  {
   "cell_type": "code",
   "execution_count": 15,
   "id": "4e43dad1",
   "metadata": {
    "execution": {
     "iopub.execute_input": "2022-06-12T06:18:10.305662Z",
     "iopub.status.busy": "2022-06-12T06:18:10.305288Z",
     "iopub.status.idle": "2022-06-12T06:18:10.307505Z",
     "shell.execute_reply": "2022-06-12T06:18:10.307792Z"
    },
    "id": "4e43dad1",
    "papermill": {
     "duration": 0.020265,
     "end_time": "2022-06-12T06:18:10.307902",
     "exception": false,
     "start_time": "2022-06-12T06:18:10.287637",
     "status": "completed"
    },
    "tags": []
   },
   "outputs": [],
   "source": [
    "#Generator\n",
    "gen3 = network.GeneratorWithSkipConnection(n_features+1).to(device)\n",
    "constraints=network.weightConstraint()\n",
    "#Discriminator \n",
    "disc3 = network.Discriminator(n_features+1).to(device)\n",
    "\n",
    "criterion = torch.nn.BCELoss()\n",
    "gen_opt = torch.optim.Adam(gen3.parameters(), lr=0.001, betas=(0.5, 0.999))\n",
    "disc_opt = torch.optim.Adam(disc3.parameters(), lr=0.001, betas=(0.5, 0.999))\n"
   ]
  },
  {
   "cell_type": "code",
   "execution_count": 16,
   "id": "26acbc37",
   "metadata": {
    "execution": {
     "iopub.execute_input": "2022-06-12T06:18:10.340640Z",
     "iopub.status.busy": "2022-06-12T06:18:10.340256Z",
     "iopub.status.idle": "2022-06-12T06:21:04.024982Z",
     "shell.execute_reply": "2022-06-12T06:21:04.025283Z"
    },
    "id": "26acbc37",
    "papermill": {
     "duration": 173.702375,
     "end_time": "2022-06-12T06:21:04.025409",
     "exception": false,
     "start_time": "2022-06-12T06:18:10.323034",
     "status": "completed"
    },
    "tags": []
   },
   "outputs": [
    {
     "data": {
      "image/png": "[encoded data removed]",
      "text/plain": [
       "<Figure size 432x288 with 1 Axes>"
      ]
     },
     "metadata": {
      "needs_background": "light"
     },
     "output_type": "display_data"
    },
    {
     "data": {
      "image/png": "[encoded data removed]",
      "text/plain": [
       "<Figure size 432x288 with 1 Axes>"
      ]
     },
     "metadata": {
      "needs_background": "light"
     },
     "output_type": "display_data"
    }
   ],
   "source": [
    "ABC_train_test2.training_GAN_skip_connection(disc3,gen3,disc_opt,gen_opt,train_data,batch_size,n_epochs,criterion,prior_model,variance,bias,device)"
   ]
  },
  {
   "cell_type": "code",
   "execution_count": 17,
   "id": "c5e0717b",
   "metadata": {
    "execution": {
     "iopub.execute_input": "2022-06-12T06:21:04.060059Z",
     "iopub.status.busy": "2022-06-12T06:21:04.059682Z",
     "iopub.status.idle": "2022-06-12T06:21:04.875192Z",
     "shell.execute_reply": "2022-06-12T06:21:04.875446Z"
    },
    "id": "c5e0717b",
    "papermill": {
     "duration": 0.834132,
     "end_time": "2022-06-12T06:21:04.875571",
     "exception": false,
     "start_time": "2022-06-12T06:21:04.041439",
     "status": "completed"
    },
    "tags": []
   },
   "outputs": [
    {
     "data": {
      "application/scrapbook.scrap.json+json": {
       "data": 0.1015663296297055,
       "encoder": "json",
       "name": "ABC-GAN Model 3 MSE",
       "version": 1
      }
     },
     "metadata": {
      "scrapbook": {
       "data": true,
       "display": false,
       "name": "ABC-GAN Model 3 MSE"
      }
     },
     "output_type": "display_data"
    },
    {
     "data": {
      "application/scrapbook.scrap.json+json": {
       "data": 0.23829723280352338,
       "encoder": "json",
       "name": "ABC-GAN Model 3 MAE",
       "version": 1
      }
     },
     "metadata": {
      "scrapbook": {
       "data": true,
       "display": false,
       "name": "ABC-GAN Model 3 MAE"
      }
     },
     "output_type": "display_data"
    },
    {
     "data": {
      "application/scrapbook.scrap.json+json": {
       "data": 24.306317745959387,
       "encoder": "json",
       "name": "ABC-GAN Model 3 Manhattan Distance",
       "version": 1
      }
     },
     "metadata": {
      "scrapbook": {
       "data": true,
       "display": false,
       "name": "ABC-GAN Model 3 Manhattan Distance"
      }
     },
     "output_type": "display_data"
    },
    {
     "data": {
      "application/scrapbook.scrap.json+json": {
       "data": 3.217443504496149,
       "encoder": "json",
       "name": "ABC-GAN Model 3 Euclidean distance",
       "version": 1
      }
     },
     "metadata": {
      "scrapbook": {
       "data": true,
       "display": false,
       "name": "ABC-GAN Model 3 Euclidean distance"
      }
     },
     "output_type": "display_data"
    },
    {
     "data": {
      "application/scrapbook.scrap.json+json": {
       "data": [
        [
         0.099766846502229,
         0.09571971343575669,
         0.10297643566185777,
         0.10110209359159507,
         0.10724786974848467,
         0.10455095499048078,
         0.10612893527797618,
         0.10505977271078411,
         0.10492139420665726,
         0.10254014814315289,
         0.10498719939981518,
         0.10395028913179837,
         0.10721740541051532,
         0.1091230134335127,
         0.11232400535302549,
         0.095530366287524,
         0.09425347631153422,
         0.11091854414266634,
         0.10964877513171147,
         0.09551095431668455,
         0.10768053531599184,
         0.09469045970181564,
         0.1016544862404082,
         0.10072971991223763,
         0.10815397015740673,
         0.0956948260023263,
         0.09777334189197352,
         0.10635562202345916,
         0.10611057869219924,
         0.10539769327018429,
         0.09487011593942174,
         0.11216321928349511,
         0.1032059741679248,
         0.09721150388212006,
         0.09815529752033188,
         0.0947374644868259,
         0.10083071636471043,
         0.09971254009868634,
         0.10658732995660952,
         0.0945288491354271,
         0.10143591880638857,
         0.09884015333804308,
         0.10113569216989707,
         0.10537001905226387,
         0.10031376017751102,
         0.08987344249818964,
         0.1063641212560728,
         0.10428102324399846,
         0.09789823093825563,
         0.10645393816813897,
         0.09406979496055384,
         0.09674421656875118,
         0.09955657352375168,
         0.1061806358973756,
         0.10206269307765511,
         0.101603929474586,
         0.10026403344437941,
         0.101875347083649,
         0.10452940833147259,
         0.10185759356668614,
         0.10364797100165729,
         0.08934051448908222,
         0.09501445730034214,
         0.10329260371955076,
         0.09660148878343977,
         0.11617307708780165,
         0.10947418069117962,
         0.09862943390443048,
         0.10216864765757491,
         0.09469483972126432,
         0.09658256534132591,
         0.10325624542529624,
         0.11396044575970507,
         0.09815874949722042,
         0.10629016404926234,
         0.10303451813278695,
         0.1068490068388381,
         0.09911537945151494,
         0.09779884142676899,
         0.10806072692913316,
         0.1007261128969957,
         0.09499271615900416,
         0.10317368015976314,
         0.10498393902360202,
         0.09526180987869129,
         0.0939625309532868,
         0.10439316923052191,
         0.0898969766042258,
         0.09856928771947869,
         0.10131423098843476,
         0.10785228705468418,
         0.10118810632307326,
         0.10148221792078911,
         0.09373586131818942,
         0.11006535772942418,
         0.10388259920308922,
         0.10686790736383679,
         0.09200520141654249,
         0.09118952733110353,
         0.098512623678702
        ],
        [
         0.23463031274321325,
         0.2314830423588408,
         0.2374350017429713,
         0.2421177612234126,
         0.24443376277043832,
         0.24103395280190834,
         0.23840668798406042,
         0.2398029012222062,
         0.24194173943068759,
         0.2341839925970371,
         0.2427626436704076,
         0.24459894133877813,
         0.24041970159091494,
         0.2434136913267567,
         0.2566566339547874,
         0.23004190789024329,
         0.23373775298287178,
         0.24626437878674445,
         0.2484526728718158,
         0.23202557734889434,
         0.2444209950683894,
         0.22962774249597215,
         0.23555113160617502,
         0.23321477445207683,
         0.23810714250430465,
         0.23529700468312584,
         0.2370797130279243,
         0.24411528087312392,
         0.2399637054597192,
         0.24154953202963167,
         0.23131807868861975,
         0.25051387725397944,
         0.2412092616763331,
         0.23487182791509173,
         0.23404121334098427,
         0.23516093454707196,
         0.24212119448016964,
         0.2372980560541299,
         0.24154549545845858,
         0.22900290612825283,
         0.2427398615114975,
         0.2265296033948806,
         0.243806888048044,
         0.24037589130046613,
         0.2375624690058769,
         0.22759994971291983,
         0.24550332162784888,
         0.24678218290757606,
         0.23893834662386307,
         0.2457770308497928,
         0.23151150394194558,
         0.23384173996929153,
         0.2384974172466672,
         0.2465469684250945,
         0.2370836781246551,
         0.23341919457101645,
         0.23803955923729375,
         0.24412871795870802,
         0.24779844887591168,
         0.23951390587414303,
         0.24277965933559278,
         0.2229878286027587,
         0.23840454298382005,
         0.2395718824209682,
         0.2345335922277003,
         0.2466433545410195,
         0.2415724943172844,
         0.23242065461133332,
         0.2387467850383152,
         0.23626146634456283,
         0.2284879229834997,
         0.2358083814546904,
         0.24159422210947262,
         0.2356637967659124,
         0.24017783689915256,
         0.2443715649949131,
         0.24648566446358375,
         0.2332834310774856,
         0.23135512348666204,
         0.24869521733775152,
         0.23846287014620268,
         0.23287546942375748,
         0.24324978688074386,
         0.2434963992358569,
         0.23031490892354473,
         0.2307961481331172,
         0.23772266124576039,
         0.22344292255629802,
         0.23215480529538848,
         0.23712484491989017,
         0.24096460802042308,
         0.23819509459951638,
         0.24201798618898965,
         0.23228590585766176,
         0.23754489912158427,
         0.24534241465267306,
         0.23915053726009586,
         0.22904472349795932,
         0.23081313180463278,
         0.23902813700374728
        ],
        [
         23.93229189980775,
         23.61127032060176,
         24.218370177783072,
         24.696011644788086,
         24.932243802584708,
         24.58546318579465,
         24.317482174374163,
         24.459895924665034,
         24.678057421930134,
         23.886767244897783,
         24.761789654381573,
         24.94909201655537,
         24.522809562273324,
         24.828196515329182,
         26.178976663388312,
         23.464274604804814,
         23.841250804252923,
         25.118966636247933,
         25.342172632925212,
         23.666608889587224,
         24.93094149697572,
         23.42202973458916,
         24.026215423829854,
         23.787906994111836,
         24.286928535439074,
         24.000294477678835,
         24.18213072884828,
         24.89975864905864,
         24.476297956891358,
         24.63805226702243,
         23.594444026239216,
         25.552415479905903,
         24.603344690985978,
         23.956926447339356,
         23.872203760780394,
         23.98641532380134,
         24.696361836977303,
         24.20440171752125,
         24.637640536762774,
         23.35829642508179,
         24.759465874172747,
         23.10601954627782,
         24.86830258090049,
         24.518340912647545,
         24.231371838599443,
         23.215194870717824,
         25.041338806040585,
         25.17178265657276,
         24.371711355634034,
         25.069257146678865,
         23.61417340207845,
         23.851857476867735,
         24.326736559160054,
         25.14779077935964,
         24.18253516871482,
         23.80875784624368,
         24.280035042203963,
         24.901129231788218,
         25.27544178534299,
         24.43041839916259,
         24.763525252230465,
         22.744758517481387,
         24.317263384349644,
         24.436332006938756,
         23.92242640722543,
         25.157622163183987,
         24.64039442036301,
         23.706906770356,
         24.35217207390815,
         24.098669567145407,
         23.30576814431697,
         24.052454908378422,
         24.64261065516621,
         24.037707270123065,
         24.498139363713562,
         24.925899629481137,
         25.141537775285542,
         23.79490996990353,
         23.598222595639527,
         25.366912168450654,
         24.323212754912674,
         23.75329788122326,
         24.811478261835873,
         24.836632722057402,
         23.49212071020156,
         23.541207109577954,
         24.24771144706756,
         22.7911781007424,
         23.679790140129626,
         24.186734181828797,
         24.578390018083155,
         24.29589964915067,
         24.685834591276944,
         23.6931623974815,
         24.229579710401595,
         25.02492629457265,
         24.393354800529778,
         23.36256179679185,
         23.542939444072545,
         24.38086997438222
        ],
        [
         3.1900185490412665,
         3.1246457031873507,
         3.240925244048293,
         3.2112946838218845,
         3.307458648924493,
         3.2656082755022893,
         3.290159783103788,
         3.273544992282827,
         3.2713884222267207,
         3.234052428548676,
         3.27241414536442,
         3.2562139812124484,
         3.306988864794158,
         3.3362474983457515,
         3.38482622094674,
         3.1215536774701538,
         3.100621644731341,
         3.3635831344790574,
         3.3442749682755695,
         3.1212365082290416,
         3.3141235043720325,
         3.1078009732904706,
         3.2200555269314273,
         3.2053753962754863,
         3.3214010531785343,
         3.124239467812491,
         3.157986838633324,
         3.293671727175134,
         3.289875229640832,
         3.2788053790304166,
         3.1107477920623863,
         3.382402750548269,
         3.244535308041558,
         3.1489003471015473,
         3.1641492295834985,
         3.1085722410225944,
         3.206981925299932,
         3.189150214409162,
         3.29725759618113,
         3.105147760061276,
         3.216591941520035,
         3.175168600323515,
         3.2118282334722537,
         3.2783748936524804,
         3.19875030880907,
         3.027720451893692,
         3.293803328694569,
         3.261389944622973,
         3.1600030942551425,
         3.295193726194283,
         3.0975989227103766,
         3.141322984032781,
         3.1866550643931735,
         3.290961084779385,
         3.2265143256958924,
         3.2192546973496468,
         3.1979573810991755,
         3.223551675176341,
         3.2652717574208436,
         3.223270783505782,
         3.251475517694857,
         3.0187302757759564,
         3.1131133362977477,
         3.245896729625601,
         3.1390049149230155,
         3.442332619453815,
         3.341611352401759,
         3.1717821895981295,
         3.228188665656429,
         3.107872849968118,
         3.138697447161042,
         3.245325412555759,
         3.4093937096630405,
         3.1642048683226065,
         3.29265800426111,
         3.2418391153085104,
         3.301302575887506,
         3.179586247305539,
         3.1583986172632543,
         3.319968997863019,
         3.2053180053613337,
         3.1127571457179917,
         3.244027647276736,
         3.2723633325789785,
         3.117162910023553,
         3.095832385197114,
         3.2631431567605533,
         3.0281168427970258,
         3.1708149342695515,
         3.2146619668046497,
         3.3167654845613948,
         3.212660399879431,
         3.2173259436868507,
         3.092096029306871,
         3.350621806232578,
         3.2551536244415713,
         3.301594546747275,
         3.0634181145392687,
         3.0498084837859167,
         3.1699034078702772
        ]
       ],
       "encoder": "json",
       "name": "ABC_GAN_3 Metrics",
       "version": 1
      }
     },
     "metadata": {
      "scrapbook": {
       "data": true,
       "display": false,
       "name": "ABC_GAN_3 Metrics"
      }
     },
     "output_type": "display_data"
    },
    {
     "name": "stdout",
     "output_type": "stream",
     "text": [
      "MSE\n",
      "0.1015663296297055\n"
     ]
    }
   ],
   "source": [
    "ABC_GAN3_metrics=ABC_train_test2.test_generator(gen3,test_data,prior_model,variance,bias,\"3\",device)\n",
    "sb.glue(\"ABC_GAN_3 Metrics\",ABC_GAN3_metrics)\n",
    "\n",
    "print(\"MSE\")\n",
    "print(mean(ABC_GAN3_metrics[0]))"
   ]
  },
  {
   "cell_type": "code",
   "execution_count": 18,
   "id": "c8e46b48",
   "metadata": {
    "execution": {
     "iopub.execute_input": "2022-06-12T06:21:04.912894Z",
     "iopub.status.busy": "2022-06-12T06:21:04.912522Z",
     "iopub.status.idle": "2022-06-12T06:21:05.245242Z",
     "shell.execute_reply": "2022-06-12T06:21:05.245535Z"
    },
    "id": "c8e46b48",
    "papermill": {
     "duration": 0.352518,
     "end_time": "2022-06-12T06:21:05.245659",
     "exception": false,
     "start_time": "2022-06-12T06:21:04.893141",
     "status": "completed"
    },
    "tags": []
   },
   "outputs": [
    {
     "data": {
      "image/png": "[encoded data removed]",
      "text/plain": [
       "<Figure size 432x288 with 1 Axes>"
      ]
     },
     "metadata": {
      "needs_background": "light"
     },
     "output_type": "display_data"
    },
    {
     "data": {
      "image/png": "[encoded data removed]",
      "text/plain": [
       "<Figure size 432x288 with 1 Axes>"
      ]
     },
     "metadata": {
      "needs_background": "light"
     },
     "output_type": "display_data"
    },
    {
     "data": {
      "image/png": "[encoded data removed]",
      "text/plain": [
       "<Figure size 432x288 with 1 Axes>"
      ]
     },
     "metadata": {
      "needs_background": "light"
     },
     "output_type": "display_data"
    },
    {
     "data": {
      "image/png": "[encoded data removed]",
      "text/plain": [
       "<Figure size 432x288 with 1 Axes>"
      ]
     },
     "metadata": {
      "needs_background": "light"
     },
     "output_type": "display_data"
    }
   ],
   "source": [
    "sanityChecks.discProbVsError(train_data,disc3,device)\n",
    "sanityChecks.discProbVsError(test_data,disc3,device)"
   ]
  },
  {
   "cell_type": "markdown",
   "id": "a5bd74c3",
   "metadata": {
    "id": "a5bd74c3",
    "papermill": {
     "duration": 0.019589,
     "end_time": "2022-06-12T06:21:05.285251",
     "exception": false,
     "start_time": "2022-06-12T06:21:05.265662",
     "status": "completed"
    },
    "tags": []
   },
   "source": [
    "## Skip Connection Model Analysis - ABC-GAN "
   ]
  },
  {
   "cell_type": "markdown",
   "id": "5744a8bf",
   "metadata": {
    "id": "5744a8bf",
    "papermill": {
     "duration": 0.019418,
     "end_time": "2022-06-12T06:21:05.324129",
     "exception": false,
     "start_time": "2022-06-12T06:21:05.304711",
     "status": "completed"
    },
    "tags": []
   },
   "source": [
    "### Weight Analysis \n",
    "\n",
    "Study the weights of the skip connection layer\n",
    "\n",
    "Equation of the skip connection is \n",
    "\n",
    "$output = y_{gan} * w + y_{abc} * (1-w)$"
   ]
  },
  {
   "cell_type": "code",
   "execution_count": 19,
   "id": "52c31dea",
   "metadata": {
    "execution": {
     "iopub.execute_input": "2022-06-12T06:21:05.365809Z",
     "iopub.status.busy": "2022-06-12T06:21:05.365415Z",
     "iopub.status.idle": "2022-06-12T06:21:05.368772Z",
     "shell.execute_reply": "2022-06-12T06:21:05.369012Z"
    },
    "id": "52c31dea",
    "papermill": {
     "duration": 0.025634,
     "end_time": "2022-06-12T06:21:05.369124",
     "exception": false,
     "start_time": "2022-06-12T06:21:05.343490",
     "status": "completed"
    },
    "tags": []
   },
   "outputs": [
    {
     "name": "stdout",
     "output_type": "stream",
     "text": [
      "Weight of the node at skip connection\n",
      "Parameter containing:\n",
      "tensor([[0.3454]], requires_grad=True)\n"
     ]
    },
    {
     "data": {
      "application/scrapbook.scrap.json+json": {
       "data": 0.3454187512397766,
       "encoder": "json",
       "name": "Skip Connection Weight",
       "version": 1
      }
     },
     "metadata": {
      "scrapbook": {
       "data": true,
       "display": false,
       "name": "Skip Connection Weight"
      }
     },
     "output_type": "display_data"
    }
   ],
   "source": [
    "print(\"Weight of the node at skip connection\")\n",
    "for name,param in gen3.named_parameters():\n",
    "    if(name == \"skipNode.weight\"):\n",
    "        print(param)\n",
    "        sb.glue(\"Skip Connection Weight\",param.item())"
   ]
  }
 ],
 "metadata": {
  "colab": {
   "collapsed_sections": [],
   "name": "ABC_GAN_Model-Catboost_Pre-gen.ipynb",
   "provenance": []
  },
  "interpreter": {
   "hash": "31f2aee4e71d21fbe5cf8b01ff0e069b9275f58929596ceb00d14d90e3e16cd6"
  },
  "kernelspec": {
   "display_name": "Python 3 (ipykernel)",
   "language": "python",
   "name": "python3"
  },
  "language_info": {
   "codemirror_mode": {
    "name": "ipython",
    "version": 3
   },
   "file_extension": ".py",
   "mimetype": "text/x-python",
   "name": "python",
   "nbconvert_exporter": "python",
   "pygments_lexer": "ipython3",
   "version": "3.8.11"
  },
  "papermill": {
   "default_parameters": {},
   "duration": 240.244802,
   "end_time": "2022-06-12T06:21:05.696753",
   "environment_variables": {},
   "exception": null,
   "input_path": "ABC_GAN-Catboost.ipynb",
   "output_path": "./ABC_GAN_Catboost/ABC-GAN_output_7_3.ipynb",
   "parameters": {
    "bias": 0.1,
    "variance": 1
   },
   "start_time": "2022-06-12T06:17:05.451951",
   "version": "2.3.3"
  }
 },
 "nbformat": 4,
 "nbformat_minor": 5
}