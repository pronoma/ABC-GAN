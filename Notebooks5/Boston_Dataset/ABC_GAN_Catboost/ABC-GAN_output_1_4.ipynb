{
 "cells": [
  {
   "cell_type": "markdown",
   "id": "622780e6",
   "metadata": {
    "id": "622780e6",
    "papermill": {
     "duration": 0.023509,
     "end_time": "2022-06-11T15:06:10.910485",
     "exception": false,
     "start_time": "2022-06-11T15:06:10.886976",
     "status": "completed"
    },
    "tags": []
   },
   "source": [
    "## Import Libraries "
   ]
  },
  {
   "cell_type": "code",
   "execution_count": 1,
   "id": "a62397e3",
   "metadata": {
    "execution": {
     "iopub.execute_input": "2022-06-11T15:06:10.945760Z",
     "iopub.status.busy": "2022-06-11T15:06:10.945254Z",
     "iopub.status.idle": "2022-06-11T15:06:10.947697Z",
     "shell.execute_reply": "2022-06-11T15:06:10.948040Z"
    },
    "id": "a62397e3",
    "papermill": {
     "duration": 0.022881,
     "end_time": "2022-06-11T15:06:10.948257",
     "exception": false,
     "start_time": "2022-06-11T15:06:10.925376",
     "status": "completed"
    },
    "tags": []
   },
   "outputs": [],
   "source": [
    "import warnings\n",
    "import sys\n",
    "sys.path.insert(0, '../../src')\n",
    "warnings.filterwarnings('ignore')"
   ]
  },
  {
   "cell_type": "code",
   "execution_count": 2,
   "id": "d6a4e155",
   "metadata": {
    "execution": {
     "iopub.execute_input": "2022-06-11T15:06:10.969331Z",
     "iopub.status.busy": "2022-06-11T15:06:10.968858Z",
     "iopub.status.idle": "2022-06-11T15:06:12.669774Z",
     "shell.execute_reply": "2022-06-11T15:06:12.670032Z"
    },
    "id": "d6a4e155",
    "papermill": {
     "duration": 1.712235,
     "end_time": "2022-06-11T15:06:12.670158",
     "exception": false,
     "start_time": "2022-06-11T15:06:10.957923",
     "status": "completed"
    },
    "tags": []
   },
   "outputs": [],
   "source": [
    "import ABC_train_test2\n",
    "import bostonDataset\n",
    "import network\n",
    "import dataset\n",
    "import sanityChecks\n",
    "import torch \n",
    "import scrapbook as sb\n",
    "from statistics import mean \n",
    "import catboost as ctb \n",
    "from sklearn.model_selection import train_test_split\n",
    "from sklearn.metrics import mean_squared_error,mean_absolute_error\n",
    "import numpy as np"
   ]
  },
  {
   "cell_type": "markdown",
   "id": "2fa5b0f7",
   "metadata": {
    "id": "2fa5b0f7",
    "papermill": {
     "duration": 0.007499,
     "end_time": "2022-06-11T15:06:12.684791",
     "exception": false,
     "start_time": "2022-06-11T15:06:12.677292",
     "status": "completed"
    },
    "tags": []
   },
   "source": [
    "## Parameters "
   ]
  },
  {
   "cell_type": "code",
   "execution_count": 3,
   "id": "783186fb",
   "metadata": {
    "execution": {
     "iopub.execute_input": "2022-06-11T15:06:12.701119Z",
     "iopub.status.busy": "2022-06-11T15:06:12.700710Z",
     "iopub.status.idle": "2022-06-11T15:06:12.701989Z",
     "shell.execute_reply": "2022-06-11T15:06:12.702234Z"
    },
    "id": "783186fb",
    "papermill": {
     "duration": 0.010516,
     "end_time": "2022-06-11T15:06:12.702351",
     "exception": false,
     "start_time": "2022-06-11T15:06:12.691835",
     "status": "completed"
    },
    "tags": [
     "parameters"
    ]
   },
   "outputs": [],
   "source": [
    "variance = 1\n",
    "bias = 1 "
   ]
  },
  {
   "cell_type": "code",
   "execution_count": 4,
   "id": "1aa8d97d",
   "metadata": {
    "execution": {
     "iopub.execute_input": "2022-06-11T15:06:12.718060Z",
     "iopub.status.busy": "2022-06-11T15:06:12.717704Z",
     "iopub.status.idle": "2022-06-11T15:06:12.719009Z",
     "shell.execute_reply": "2022-06-11T15:06:12.719279Z"
    },
    "papermill": {
     "duration": 0.010024,
     "end_time": "2022-06-11T15:06:12.719389",
     "exception": false,
     "start_time": "2022-06-11T15:06:12.709365",
     "status": "completed"
    },
    "tags": [
     "injected-parameters"
    ]
   },
   "outputs": [],
   "source": [
    "# Parameters\n",
    "variance = 0.1\n",
    "bias = 0.1\n"
   ]
  },
  {
   "cell_type": "markdown",
   "id": "391cdbfd",
   "metadata": {
    "id": "391cdbfd",
    "papermill": {
     "duration": 0.006675,
     "end_time": "2022-06-11T15:06:12.732955",
     "exception": false,
     "start_time": "2022-06-11T15:06:12.726280",
     "status": "completed"
    },
    "tags": []
   },
   "source": [
    "## Dataset \n"
   ]
  },
  {
   "cell_type": "code",
   "execution_count": 5,
   "id": "5b51f161",
   "metadata": {
    "execution": {
     "iopub.execute_input": "2022-06-11T15:06:12.748420Z",
     "iopub.status.busy": "2022-06-11T15:06:12.748073Z",
     "iopub.status.idle": "2022-06-11T15:06:12.749331Z",
     "shell.execute_reply": "2022-06-11T15:06:12.749564Z"
    },
    "id": "5b51f161",
    "papermill": {
     "duration": 0.009862,
     "end_time": "2022-06-11T15:06:12.749667",
     "exception": false,
     "start_time": "2022-06-11T15:06:12.739805",
     "status": "completed"
    },
    "tags": []
   },
   "outputs": [],
   "source": [
    "#Parameters \n",
    "n_features = 13\n",
    "n_samples= 506\n",
    "n_target = 1 "
   ]
  },
  {
   "cell_type": "code",
   "execution_count": 6,
   "id": "5d6eced4",
   "metadata": {
    "execution": {
     "iopub.execute_input": "2022-06-11T15:06:12.765269Z",
     "iopub.status.busy": "2022-06-11T15:06:12.764901Z",
     "iopub.status.idle": "2022-06-11T15:06:12.775286Z",
     "shell.execute_reply": "2022-06-11T15:06:12.775584Z"
    },
    "id": "5d6eced4",
    "papermill": {
     "duration": 0.019146,
     "end_time": "2022-06-11T15:06:12.775700",
     "exception": false,
     "start_time": "2022-06-11T15:06:12.756554",
     "status": "completed"
    },
    "tags": []
   },
   "outputs": [
    {
     "name": "stdout",
     "output_type": "stream",
     "text": [
      "         X1        X2        X3        X4        X5        X6        X7  \\\n",
      "0 -0.419782  0.284830 -1.287909 -0.272599 -0.144217  0.413672 -0.120013   \n",
      "1 -0.417339 -0.487722 -0.593381 -0.272599 -0.740262  0.194274  0.367166   \n",
      "2 -0.417342 -0.487722 -0.593381 -0.272599 -0.740262  1.282714 -0.265812   \n",
      "3 -0.416750 -0.487722 -1.306878 -0.272599 -0.835284  1.016303 -0.809889   \n",
      "4 -0.412482 -0.487722 -1.306878 -0.272599 -0.835284  1.228577 -0.511180   \n",
      "\n",
      "         X8        X9       X10       X11       X12       X13         Y  \n",
      "0  0.140214 -0.982843 -0.666608 -1.459000  0.441052 -1.075562  0.159686  \n",
      "1  0.557160 -0.867883 -0.987329 -0.303094  0.441052 -0.492439 -0.101524  \n",
      "2  0.557160 -0.867883 -0.987329 -0.303094  0.396427 -1.208727  1.324247  \n",
      "3  1.077737 -0.752922 -1.106115  0.113032  0.416163 -1.361517  1.182758  \n",
      "4  1.077737 -0.752922 -1.106115  0.113032  0.441052 -1.026501  1.487503  \n"
     ]
    }
   ],
   "source": [
    "X,Y = bostonDataset.boston_data()"
   ]
  },
  {
   "cell_type": "code",
   "execution_count": 7,
   "id": "fe007438",
   "metadata": {
    "execution": {
     "iopub.execute_input": "2022-06-11T15:06:12.793459Z",
     "iopub.status.busy": "2022-06-11T15:06:12.793087Z",
     "iopub.status.idle": "2022-06-11T15:06:12.794457Z",
     "shell.execute_reply": "2022-06-11T15:06:12.794707Z"
    },
    "id": "fe007438",
    "papermill": {
     "duration": 0.011837,
     "end_time": "2022-06-11T15:06:12.794821",
     "exception": false,
     "start_time": "2022-06-11T15:06:12.782984",
     "status": "completed"
    },
    "tags": []
   },
   "outputs": [],
   "source": [
    "#Train test split for dataset \n",
    "X_train,X_test,Y_train,Y_test = train_test_split(X,Y,test_size = 0.2)\n",
    "train_data = dataset.CustomDataset(X_train,Y_train)\n",
    "test_data = dataset.CustomDataset(X_test,Y_test)\n"
   ]
  },
  {
   "cell_type": "markdown",
   "id": "a9a1af34",
   "metadata": {
    "id": "a9a1af34",
    "papermill": {
     "duration": 0.00732,
     "end_time": "2022-06-11T15:06:12.809381",
     "exception": false,
     "start_time": "2022-06-11T15:06:12.802061",
     "status": "completed"
    },
    "tags": []
   },
   "source": [
    "## Training Parameters "
   ]
  },
  {
   "cell_type": "code",
   "execution_count": 8,
   "id": "952b7fc8",
   "metadata": {
    "execution": {
     "iopub.execute_input": "2022-06-11T15:06:12.826117Z",
     "iopub.status.busy": "2022-06-11T15:06:12.825755Z",
     "iopub.status.idle": "2022-06-11T15:06:12.827010Z",
     "shell.execute_reply": "2022-06-11T15:06:12.827247Z"
    },
    "id": "952b7fc8",
    "papermill": {
     "duration": 0.01089,
     "end_time": "2022-06-11T15:06:12.827358",
     "exception": false,
     "start_time": "2022-06-11T15:06:12.816468",
     "status": "completed"
    },
    "tags": []
   },
   "outputs": [],
   "source": [
    "batch_size = 32\n",
    "n_epochs = 1000\n",
    "#Select the device \n",
    "device = torch.device('cuda' if torch.cuda.is_available() else 'cpu')"
   ]
  },
  {
   "cell_type": "markdown",
   "id": "a95e1600",
   "metadata": {
    "id": "a95e1600",
    "papermill": {
     "duration": 0.007116,
     "end_time": "2022-06-11T15:06:12.841650",
     "exception": false,
     "start_time": "2022-06-11T15:06:12.834534",
     "status": "completed"
    },
    "tags": []
   },
   "source": [
    "# ABC Pre-generator Model \n",
    "\n",
    "1. The catboost model is used as a pre-generator model for the ABC-GAN. \n",
    "2. The model is first trained on the entire dataset \n",
    "3. It generats X,Y pairs and we add some Gaussian noise with mean 0 and variance 1 to it which is then feed as input to the generator.\n"
   ]
  },
  {
   "cell_type": "code",
   "execution_count": 9,
   "id": "ff8ce7bd",
   "metadata": {
    "execution": {
     "iopub.execute_input": "2022-06-11T15:06:12.860679Z",
     "iopub.status.busy": "2022-06-11T15:06:12.860300Z",
     "iopub.status.idle": "2022-06-11T15:06:13.813399Z",
     "shell.execute_reply": "2022-06-11T15:06:13.813651Z"
    },
    "id": "ff8ce7bd",
    "papermill": {
     "duration": 0.964977,
     "end_time": "2022-06-11T15:06:13.813770",
     "exception": false,
     "start_time": "2022-06-11T15:06:12.848793",
     "status": "completed"
    },
    "tags": []
   },
   "outputs": [
    {
     "name": "stdout",
     "output_type": "stream",
     "text": [
      "Learning rate set to 0.033215\n",
      "0:\tlearn: 0.9785856\ttotal: 58.8ms\tremaining: 58.7s\n",
      "1:\tlearn: 0.9597595\ttotal: 59.8ms\tremaining: 29.8s\n",
      "2:\tlearn: 0.9411286\ttotal: 60.8ms\tremaining: 20.2s\n",
      "3:\tlearn: 0.9238604\ttotal: 61.9ms\tremaining: 15.4s\n",
      "4:\tlearn: 0.9080591\ttotal: 62.9ms\tremaining: 12.5s\n",
      "5:\tlearn: 0.8913823\ttotal: 64.1ms\tremaining: 10.6s\n",
      "6:\tlearn: 0.8750413\ttotal: 65ms\tremaining: 9.22s\n",
      "7:\tlearn: 0.8590289\ttotal: 65.9ms\tremaining: 8.17s\n",
      "8:\tlearn: 0.8432728\ttotal: 66.8ms\tremaining: 7.35s\n",
      "9:\tlearn: 0.8279611\ttotal: 67.7ms\tremaining: 6.7s\n",
      "10:\tlearn: 0.8135336\ttotal: 68.6ms\tremaining: 6.17s\n",
      "11:\tlearn: 0.7986661\ttotal: 69.5ms\tremaining: 5.72s\n",
      "12:\tlearn: 0.7836734\ttotal: 70.3ms\tremaining: 5.34s\n",
      "13:\tlearn: 0.7691342\ttotal: 71.2ms\tremaining: 5.02s\n",
      "14:\tlearn: 0.7569343\ttotal: 72.1ms\tremaining: 4.73s\n",
      "15:\tlearn: 0.7436359\ttotal: 73ms\tremaining: 4.49s\n",
      "16:\tlearn: 0.7299306\ttotal: 73.8ms\tremaining: 4.27s\n",
      "17:\tlearn: 0.7177047\ttotal: 74.6ms\tremaining: 4.07s\n",
      "18:\tlearn: 0.7062172\ttotal: 75.5ms\tremaining: 3.9s\n",
      "19:\tlearn: 0.6927596\ttotal: 76.3ms\tremaining: 3.74s\n",
      "20:\tlearn: 0.6790223\ttotal: 77.2ms\tremaining: 3.6s\n",
      "21:\tlearn: 0.6680380\ttotal: 77.9ms\tremaining: 3.46s\n",
      "22:\tlearn: 0.6588296\ttotal: 78.7ms\tremaining: 3.34s\n",
      "23:\tlearn: 0.6498040\ttotal: 79.5ms\tremaining: 3.23s\n",
      "24:\tlearn: 0.6405823\ttotal: 80.3ms\tremaining: 3.13s\n",
      "25:\tlearn: 0.6314841\ttotal: 81.1ms\tremaining: 3.04s\n",
      "26:\tlearn: 0.6230385\ttotal: 81.8ms\tremaining: 2.95s\n",
      "27:\tlearn: 0.6143537\ttotal: 82.5ms\tremaining: 2.87s\n",
      "28:\tlearn: 0.6061188\ttotal: 83.3ms\tremaining: 2.79s\n",
      "29:\tlearn: 0.5961935\ttotal: 84.1ms\tremaining: 2.72s\n",
      "30:\tlearn: 0.5853383\ttotal: 84.9ms\tremaining: 2.65s\n",
      "31:\tlearn: 0.5770871\ttotal: 85.7ms\tremaining: 2.59s\n",
      "32:\tlearn: 0.5704903\ttotal: 86.4ms\tremaining: 2.53s\n",
      "33:\tlearn: 0.5629972\ttotal: 87.2ms\tremaining: 2.48s\n",
      "34:\tlearn: 0.5555022\ttotal: 87.9ms\tremaining: 2.42s\n",
      "35:\tlearn: 0.5488786\ttotal: 88.6ms\tremaining: 2.37s\n",
      "36:\tlearn: 0.5421852\ttotal: 89.3ms\tremaining: 2.33s\n",
      "37:\tlearn: 0.5354393\ttotal: 90.2ms\tremaining: 2.28s\n",
      "38:\tlearn: 0.5289056\ttotal: 91ms\tremaining: 2.24s\n",
      "39:\tlearn: 0.5211330\ttotal: 91.7ms\tremaining: 2.2s\n",
      "40:\tlearn: 0.5153339\ttotal: 92.6ms\tremaining: 2.17s\n",
      "41:\tlearn: 0.5087086\ttotal: 93.4ms\tremaining: 2.13s\n",
      "42:\tlearn: 0.5031698\ttotal: 94.1ms\tremaining: 2.09s\n",
      "43:\tlearn: 0.4978727\ttotal: 94.9ms\tremaining: 2.06s\n",
      "44:\tlearn: 0.4908555\ttotal: 95.7ms\tremaining: 2.03s\n",
      "45:\tlearn: 0.4854509\ttotal: 96.4ms\tremaining: 2s\n",
      "46:\tlearn: 0.4801860\ttotal: 97.3ms\tremaining: 1.97s\n",
      "47:\tlearn: 0.4742887\ttotal: 98ms\tremaining: 1.94s\n",
      "48:\tlearn: 0.4690763\ttotal: 98.7ms\tremaining: 1.92s\n",
      "49:\tlearn: 0.4643553\ttotal: 99.5ms\tremaining: 1.89s\n",
      "50:\tlearn: 0.4594367\ttotal: 100ms\tremaining: 1.86s\n",
      "51:\tlearn: 0.4556807\ttotal: 101ms\tremaining: 1.84s\n",
      "52:\tlearn: 0.4503671\ttotal: 102ms\tremaining: 1.82s\n",
      "53:\tlearn: 0.4470383\ttotal: 102ms\tremaining: 1.79s\n",
      "54:\tlearn: 0.4423431\ttotal: 103ms\tremaining: 1.77s\n",
      "55:\tlearn: 0.4386841\ttotal: 104ms\tremaining: 1.75s\n",
      "56:\tlearn: 0.4354284\ttotal: 105ms\tremaining: 1.73s\n",
      "57:\tlearn: 0.4312613\ttotal: 105ms\tremaining: 1.71s\n",
      "58:\tlearn: 0.4275167\ttotal: 106ms\tremaining: 1.69s\n",
      "59:\tlearn: 0.4237829\ttotal: 107ms\tremaining: 1.67s\n"
     ]
    },
    {
     "name": "stdout",
     "output_type": "stream",
     "text": [
      "60:\tlearn: 0.4203655\ttotal: 108ms\tremaining: 1.66s\n",
      "61:\tlearn: 0.4163793\ttotal: 109ms\tremaining: 1.64s\n",
      "62:\tlearn: 0.4137290\ttotal: 110ms\tremaining: 1.63s\n",
      "63:\tlearn: 0.4086147\ttotal: 111ms\tremaining: 1.62s\n",
      "64:\tlearn: 0.4052315\ttotal: 111ms\tremaining: 1.6s\n",
      "65:\tlearn: 0.4011599\ttotal: 112ms\tremaining: 1.59s\n",
      "66:\tlearn: 0.3977758\ttotal: 113ms\tremaining: 1.57s\n",
      "67:\tlearn: 0.3949841\ttotal: 114ms\tremaining: 1.56s\n",
      "68:\tlearn: 0.3919790\ttotal: 115ms\tremaining: 1.55s\n",
      "69:\tlearn: 0.3895215\ttotal: 116ms\tremaining: 1.53s\n",
      "70:\tlearn: 0.3870713\ttotal: 116ms\tremaining: 1.52s\n",
      "71:\tlearn: 0.3844414\ttotal: 117ms\tremaining: 1.51s\n",
      "72:\tlearn: 0.3817398\ttotal: 118ms\tremaining: 1.5s\n",
      "73:\tlearn: 0.3782023\ttotal: 119ms\tremaining: 1.49s\n",
      "74:\tlearn: 0.3745557\ttotal: 120ms\tremaining: 1.47s\n",
      "75:\tlearn: 0.3721372\ttotal: 120ms\tremaining: 1.46s\n",
      "76:\tlearn: 0.3683336\ttotal: 121ms\tremaining: 1.45s\n",
      "77:\tlearn: 0.3661486\ttotal: 122ms\tremaining: 1.44s\n",
      "78:\tlearn: 0.3641913\ttotal: 123ms\tremaining: 1.43s\n",
      "79:\tlearn: 0.3616693\ttotal: 124ms\tremaining: 1.43s\n",
      "80:\tlearn: 0.3591501\ttotal: 125ms\tremaining: 1.42s\n",
      "81:\tlearn: 0.3563793\ttotal: 126ms\tremaining: 1.41s\n",
      "82:\tlearn: 0.3542303\ttotal: 127ms\tremaining: 1.4s\n",
      "83:\tlearn: 0.3522948\ttotal: 128ms\tremaining: 1.4s\n",
      "84:\tlearn: 0.3502568\ttotal: 129ms\tremaining: 1.39s\n",
      "85:\tlearn: 0.3479282\ttotal: 130ms\tremaining: 1.38s\n",
      "86:\tlearn: 0.3458518\ttotal: 130ms\tremaining: 1.37s\n",
      "87:\tlearn: 0.3430186\ttotal: 131ms\tremaining: 1.36s\n",
      "88:\tlearn: 0.3400295\ttotal: 132ms\tremaining: 1.35s\n",
      "89:\tlearn: 0.3378042\ttotal: 133ms\tremaining: 1.34s\n",
      "90:\tlearn: 0.3353354\ttotal: 134ms\tremaining: 1.33s\n",
      "91:\tlearn: 0.3334264\ttotal: 134ms\tremaining: 1.33s\n",
      "92:\tlearn: 0.3319849\ttotal: 135ms\tremaining: 1.32s\n",
      "93:\tlearn: 0.3297928\ttotal: 136ms\tremaining: 1.31s\n",
      "94:\tlearn: 0.3276118\ttotal: 137ms\tremaining: 1.3s\n",
      "95:\tlearn: 0.3262180\ttotal: 138ms\tremaining: 1.29s\n",
      "96:\tlearn: 0.3247206\ttotal: 138ms\tremaining: 1.29s\n",
      "97:\tlearn: 0.3225382\ttotal: 139ms\tremaining: 1.28s\n",
      "98:\tlearn: 0.3207212\ttotal: 140ms\tremaining: 1.27s\n",
      "99:\tlearn: 0.3189282\ttotal: 141ms\tremaining: 1.27s\n",
      "100:\tlearn: 0.3174122\ttotal: 142ms\tremaining: 1.26s\n",
      "101:\tlearn: 0.3156961\ttotal: 142ms\tremaining: 1.25s\n",
      "102:\tlearn: 0.3140675\ttotal: 143ms\tremaining: 1.25s\n",
      "103:\tlearn: 0.3128697\ttotal: 144ms\tremaining: 1.24s\n",
      "104:\tlearn: 0.3113849\ttotal: 145ms\tremaining: 1.23s\n",
      "105:\tlearn: 0.3099400\ttotal: 146ms\tremaining: 1.23s\n",
      "106:\tlearn: 0.3081248\ttotal: 146ms\tremaining: 1.22s\n",
      "107:\tlearn: 0.3071424\ttotal: 147ms\tremaining: 1.21s\n",
      "108:\tlearn: 0.3053946\ttotal: 148ms\tremaining: 1.21s\n",
      "109:\tlearn: 0.3036802\ttotal: 149ms\tremaining: 1.2s\n",
      "110:\tlearn: 0.3025460\ttotal: 149ms\tremaining: 1.2s\n",
      "111:\tlearn: 0.3014360\ttotal: 150ms\tremaining: 1.19s\n",
      "112:\tlearn: 0.2997736\ttotal: 151ms\tremaining: 1.19s\n",
      "113:\tlearn: 0.2982476\ttotal: 152ms\tremaining: 1.18s\n",
      "114:\tlearn: 0.2970882\ttotal: 153ms\tremaining: 1.18s\n",
      "115:\tlearn: 0.2961710\ttotal: 154ms\tremaining: 1.17s\n",
      "116:\tlearn: 0.2944950\ttotal: 154ms\tremaining: 1.17s\n",
      "117:\tlearn: 0.2923196\ttotal: 155ms\tremaining: 1.16s\n",
      "118:\tlearn: 0.2909620\ttotal: 156ms\tremaining: 1.15s\n",
      "119:\tlearn: 0.2896592\ttotal: 157ms\tremaining: 1.15s\n",
      "120:\tlearn: 0.2880227\ttotal: 158ms\tremaining: 1.14s\n",
      "121:\tlearn: 0.2868637\ttotal: 158ms\tremaining: 1.14s\n",
      "122:\tlearn: 0.2861093\ttotal: 159ms\tremaining: 1.14s\n",
      "123:\tlearn: 0.2844260\ttotal: 160ms\tremaining: 1.13s\n",
      "124:\tlearn: 0.2829667\ttotal: 161ms\tremaining: 1.13s\n",
      "125:\tlearn: 0.2818949\ttotal: 162ms\tremaining: 1.12s\n",
      "126:\tlearn: 0.2799586\ttotal: 163ms\tremaining: 1.12s\n",
      "127:\tlearn: 0.2788577\ttotal: 164ms\tremaining: 1.11s\n",
      "128:\tlearn: 0.2773400\ttotal: 165ms\tremaining: 1.11s\n",
      "129:\tlearn: 0.2761254\ttotal: 165ms\tremaining: 1.11s\n",
      "130:\tlearn: 0.2753675\ttotal: 166ms\tremaining: 1.1s\n",
      "131:\tlearn: 0.2739663\ttotal: 167ms\tremaining: 1.1s\n",
      "132:\tlearn: 0.2727509\ttotal: 168ms\tremaining: 1.09s\n",
      "133:\tlearn: 0.2718280\ttotal: 169ms\tremaining: 1.09s\n",
      "134:\tlearn: 0.2708538\ttotal: 169ms\tremaining: 1.08s\n",
      "135:\tlearn: 0.2699714\ttotal: 170ms\tremaining: 1.08s\n",
      "136:\tlearn: 0.2687345\ttotal: 171ms\tremaining: 1.08s\n",
      "137:\tlearn: 0.2670352\ttotal: 172ms\tremaining: 1.07s\n",
      "138:\tlearn: 0.2661139\ttotal: 173ms\tremaining: 1.07s\n",
      "139:\tlearn: 0.2649208\ttotal: 174ms\tremaining: 1.07s\n",
      "140:\tlearn: 0.2638011\ttotal: 175ms\tremaining: 1.06s\n",
      "141:\tlearn: 0.2626599\ttotal: 176ms\tremaining: 1.06s\n",
      "142:\tlearn: 0.2615383\ttotal: 177ms\tremaining: 1.06s\n",
      "143:\tlearn: 0.2606125\ttotal: 177ms\tremaining: 1.05s\n",
      "144:\tlearn: 0.2594284\ttotal: 178ms\tremaining: 1.05s\n",
      "145:\tlearn: 0.2582001\ttotal: 179ms\tremaining: 1.05s\n",
      "146:\tlearn: 0.2572233\ttotal: 180ms\tremaining: 1.04s\n",
      "147:\tlearn: 0.2563677\ttotal: 180ms\tremaining: 1.04s\n",
      "148:\tlearn: 0.2552932\ttotal: 181ms\tremaining: 1.03s\n",
      "149:\tlearn: 0.2544884\ttotal: 182ms\tremaining: 1.03s\n",
      "150:\tlearn: 0.2539605\ttotal: 183ms\tremaining: 1.03s\n",
      "151:\tlearn: 0.2531079\ttotal: 184ms\tremaining: 1.02s\n",
      "152:\tlearn: 0.2522175\ttotal: 185ms\tremaining: 1.02s\n",
      "153:\tlearn: 0.2514879\ttotal: 185ms\tremaining: 1.02s\n",
      "154:\tlearn: 0.2508970\ttotal: 186ms\tremaining: 1.01s\n",
      "155:\tlearn: 0.2499369\ttotal: 187ms\tremaining: 1.01s\n",
      "156:\tlearn: 0.2486483\ttotal: 188ms\tremaining: 1.01s\n",
      "157:\tlearn: 0.2477220\ttotal: 189ms\tremaining: 1s\n",
      "158:\tlearn: 0.2466447\ttotal: 189ms\tremaining: 1s\n",
      "159:\tlearn: 0.2458025\ttotal: 190ms\tremaining: 999ms\n",
      "160:\tlearn: 0.2449754\ttotal: 191ms\tremaining: 995ms\n"
     ]
    },
    {
     "name": "stdout",
     "output_type": "stream",
     "text": [
      "161:\tlearn: 0.2442700\ttotal: 192ms\tremaining: 993ms\n",
      "162:\tlearn: 0.2436985\ttotal: 193ms\tremaining: 990ms\n",
      "163:\tlearn: 0.2429022\ttotal: 194ms\tremaining: 988ms\n",
      "164:\tlearn: 0.2421448\ttotal: 195ms\tremaining: 985ms\n",
      "165:\tlearn: 0.2413741\ttotal: 196ms\tremaining: 982ms\n",
      "166:\tlearn: 0.2406704\ttotal: 196ms\tremaining: 979ms\n",
      "167:\tlearn: 0.2398578\ttotal: 197ms\tremaining: 977ms\n",
      "168:\tlearn: 0.2388479\ttotal: 198ms\tremaining: 974ms\n",
      "169:\tlearn: 0.2381062\ttotal: 199ms\tremaining: 972ms\n",
      "170:\tlearn: 0.2371502\ttotal: 200ms\tremaining: 969ms\n",
      "171:\tlearn: 0.2367059\ttotal: 201ms\tremaining: 966ms\n",
      "172:\tlearn: 0.2362415\ttotal: 201ms\tremaining: 963ms\n",
      "173:\tlearn: 0.2357089\ttotal: 202ms\tremaining: 960ms\n",
      "174:\tlearn: 0.2348874\ttotal: 203ms\tremaining: 957ms\n",
      "175:\tlearn: 0.2341622\ttotal: 204ms\tremaining: 955ms\n",
      "176:\tlearn: 0.2332014\ttotal: 205ms\tremaining: 952ms\n",
      "177:\tlearn: 0.2325810\ttotal: 206ms\tremaining: 950ms\n",
      "178:\tlearn: 0.2318892\ttotal: 207ms\tremaining: 947ms\n",
      "179:\tlearn: 0.2310001\ttotal: 207ms\tremaining: 945ms\n",
      "180:\tlearn: 0.2301809\ttotal: 208ms\tremaining: 942ms\n",
      "181:\tlearn: 0.2296214\ttotal: 209ms\tremaining: 939ms\n",
      "182:\tlearn: 0.2289491\ttotal: 210ms\tremaining: 937ms\n",
      "183:\tlearn: 0.2283595\ttotal: 211ms\tremaining: 935ms\n",
      "184:\tlearn: 0.2276219\ttotal: 212ms\tremaining: 932ms\n",
      "185:\tlearn: 0.2267589\ttotal: 212ms\tremaining: 930ms\n",
      "186:\tlearn: 0.2260946\ttotal: 213ms\tremaining: 927ms\n",
      "187:\tlearn: 0.2255616\ttotal: 214ms\tremaining: 924ms\n",
      "188:\tlearn: 0.2248804\ttotal: 216ms\tremaining: 925ms\n",
      "189:\tlearn: 0.2245138\ttotal: 216ms\tremaining: 923ms\n",
      "190:\tlearn: 0.2236740\ttotal: 217ms\tremaining: 920ms\n",
      "191:\tlearn: 0.2230037\ttotal: 219ms\tremaining: 920ms\n",
      "192:\tlearn: 0.2222282\ttotal: 219ms\tremaining: 917ms\n",
      "193:\tlearn: 0.2214778\ttotal: 220ms\tremaining: 915ms\n",
      "194:\tlearn: 0.2209146\ttotal: 221ms\tremaining: 912ms\n",
      "195:\tlearn: 0.2202270\ttotal: 222ms\tremaining: 910ms\n",
      "196:\tlearn: 0.2196315\ttotal: 223ms\tremaining: 907ms\n",
      "197:\tlearn: 0.2191807\ttotal: 223ms\tremaining: 905ms\n",
      "198:\tlearn: 0.2186827\ttotal: 224ms\tremaining: 902ms\n",
      "199:\tlearn: 0.2180056\ttotal: 225ms\tremaining: 900ms\n",
      "200:\tlearn: 0.2172959\ttotal: 226ms\tremaining: 897ms\n",
      "201:\tlearn: 0.2167200\ttotal: 227ms\tremaining: 895ms\n",
      "202:\tlearn: 0.2161331\ttotal: 227ms\tremaining: 893ms\n",
      "203:\tlearn: 0.2152371\ttotal: 228ms\tremaining: 890ms\n",
      "204:\tlearn: 0.2145956\ttotal: 229ms\tremaining: 888ms\n",
      "205:\tlearn: 0.2137328\ttotal: 230ms\tremaining: 886ms\n",
      "206:\tlearn: 0.2133925\ttotal: 231ms\tremaining: 883ms\n",
      "207:\tlearn: 0.2125265\ttotal: 231ms\tremaining: 881ms\n",
      "208:\tlearn: 0.2117325\ttotal: 232ms\tremaining: 878ms\n",
      "209:\tlearn: 0.2112056\ttotal: 233ms\tremaining: 876ms\n",
      "210:\tlearn: 0.2107038\ttotal: 234ms\tremaining: 874ms\n",
      "211:\tlearn: 0.2099851\ttotal: 234ms\tremaining: 871ms\n",
      "212:\tlearn: 0.2093401\ttotal: 235ms\tremaining: 869ms\n",
      "213:\tlearn: 0.2086288\ttotal: 236ms\tremaining: 867ms\n",
      "214:\tlearn: 0.2078677\ttotal: 237ms\tremaining: 865ms\n",
      "215:\tlearn: 0.2073412\ttotal: 238ms\tremaining: 862ms\n",
      "216:\tlearn: 0.2067693\ttotal: 238ms\tremaining: 860ms\n",
      "217:\tlearn: 0.2062356\ttotal: 239ms\tremaining: 858ms\n",
      "218:\tlearn: 0.2058387\ttotal: 240ms\tremaining: 856ms\n",
      "219:\tlearn: 0.2052752\ttotal: 241ms\tremaining: 854ms\n",
      "220:\tlearn: 0.2044520\ttotal: 242ms\tremaining: 851ms\n",
      "221:\tlearn: 0.2039536\ttotal: 242ms\tremaining: 849ms\n",
      "222:\tlearn: 0.2031464\ttotal: 243ms\tremaining: 847ms\n",
      "223:\tlearn: 0.2027440\ttotal: 244ms\tremaining: 845ms\n",
      "224:\tlearn: 0.2021312\ttotal: 245ms\tremaining: 844ms\n",
      "225:\tlearn: 0.2018512\ttotal: 246ms\tremaining: 841ms\n",
      "226:\tlearn: 0.2015008\ttotal: 246ms\tremaining: 839ms\n",
      "227:\tlearn: 0.2008889\ttotal: 247ms\tremaining: 837ms\n",
      "228:\tlearn: 0.2004068\ttotal: 248ms\tremaining: 835ms\n",
      "229:\tlearn: 0.1999976\ttotal: 249ms\tremaining: 833ms\n",
      "230:\tlearn: 0.1995363\ttotal: 250ms\tremaining: 831ms\n",
      "231:\tlearn: 0.1988820\ttotal: 251ms\tremaining: 830ms\n",
      "232:\tlearn: 0.1984775\ttotal: 251ms\tremaining: 828ms\n",
      "233:\tlearn: 0.1979695\ttotal: 252ms\tremaining: 826ms\n",
      "234:\tlearn: 0.1977042\ttotal: 253ms\tremaining: 824ms\n",
      "235:\tlearn: 0.1970029\ttotal: 254ms\tremaining: 822ms\n",
      "236:\tlearn: 0.1965133\ttotal: 255ms\tremaining: 820ms\n",
      "237:\tlearn: 0.1960802\ttotal: 255ms\tremaining: 818ms\n",
      "238:\tlearn: 0.1954528\ttotal: 256ms\tremaining: 816ms\n",
      "239:\tlearn: 0.1952022\ttotal: 257ms\tremaining: 814ms\n",
      "240:\tlearn: 0.1949725\ttotal: 258ms\tremaining: 812ms\n",
      "241:\tlearn: 0.1944382\ttotal: 259ms\tremaining: 810ms\n",
      "242:\tlearn: 0.1940503\ttotal: 259ms\tremaining: 808ms\n",
      "243:\tlearn: 0.1936243\ttotal: 260ms\tremaining: 806ms\n",
      "244:\tlearn: 0.1931453\ttotal: 261ms\tremaining: 804ms\n",
      "245:\tlearn: 0.1925111\ttotal: 262ms\tremaining: 802ms\n",
      "246:\tlearn: 0.1917138\ttotal: 262ms\tremaining: 800ms\n",
      "247:\tlearn: 0.1913975\ttotal: 263ms\tremaining: 798ms\n",
      "248:\tlearn: 0.1907958\ttotal: 264ms\tremaining: 797ms\n",
      "249:\tlearn: 0.1904522\ttotal: 265ms\tremaining: 795ms\n",
      "250:\tlearn: 0.1900638\ttotal: 266ms\tremaining: 793ms\n",
      "251:\tlearn: 0.1895940\ttotal: 267ms\tremaining: 791ms\n",
      "252:\tlearn: 0.1889405\ttotal: 267ms\tremaining: 789ms\n",
      "253:\tlearn: 0.1883394\ttotal: 268ms\tremaining: 788ms\n",
      "254:\tlearn: 0.1879030\ttotal: 269ms\tremaining: 786ms\n",
      "255:\tlearn: 0.1872129\ttotal: 270ms\tremaining: 784ms\n",
      "256:\tlearn: 0.1865819\ttotal: 271ms\tremaining: 783ms\n",
      "257:\tlearn: 0.1859687\ttotal: 272ms\tremaining: 781ms\n",
      "258:\tlearn: 0.1855526\ttotal: 273ms\tremaining: 780ms\n",
      "259:\tlearn: 0.1849345\ttotal: 273ms\tremaining: 778ms\n",
      "260:\tlearn: 0.1846399\ttotal: 274ms\tremaining: 777ms\n",
      "261:\tlearn: 0.1842270\ttotal: 275ms\tremaining: 775ms\n",
      "262:\tlearn: 0.1837208\ttotal: 276ms\tremaining: 773ms\n",
      "263:\tlearn: 0.1831713\ttotal: 277ms\tremaining: 772ms\n",
      "264:\tlearn: 0.1825815\ttotal: 278ms\tremaining: 770ms\n",
      "265:\tlearn: 0.1818991\ttotal: 278ms\tremaining: 768ms\n",
      "266:\tlearn: 0.1817565\ttotal: 279ms\tremaining: 767ms\n",
      "267:\tlearn: 0.1811879\ttotal: 280ms\tremaining: 765ms\n",
      "268:\tlearn: 0.1807596\ttotal: 281ms\tremaining: 763ms\n",
      "269:\tlearn: 0.1802737\ttotal: 282ms\tremaining: 762ms\n",
      "270:\tlearn: 0.1796947\ttotal: 282ms\tremaining: 760ms\n",
      "271:\tlearn: 0.1791917\ttotal: 283ms\tremaining: 758ms\n",
      "272:\tlearn: 0.1785958\ttotal: 284ms\tremaining: 757ms\n",
      "273:\tlearn: 0.1781916\ttotal: 285ms\tremaining: 755ms\n",
      "274:\tlearn: 0.1776878\ttotal: 286ms\tremaining: 754ms\n",
      "275:\tlearn: 0.1771565\ttotal: 287ms\tremaining: 754ms\n",
      "276:\tlearn: 0.1766261\ttotal: 288ms\tremaining: 752ms\n",
      "277:\tlearn: 0.1762572\ttotal: 289ms\tremaining: 751ms\n",
      "278:\tlearn: 0.1756103\ttotal: 290ms\tremaining: 749ms\n",
      "279:\tlearn: 0.1753130\ttotal: 291ms\tremaining: 748ms\n",
      "280:\tlearn: 0.1748339\ttotal: 291ms\tremaining: 746ms\n",
      "281:\tlearn: 0.1743767\ttotal: 292ms\tremaining: 744ms\n",
      "282:\tlearn: 0.1740247\ttotal: 293ms\tremaining: 742ms\n",
      "283:\tlearn: 0.1734968\ttotal: 294ms\tremaining: 740ms\n",
      "284:\tlearn: 0.1731355\ttotal: 294ms\tremaining: 739ms\n",
      "285:\tlearn: 0.1725392\ttotal: 295ms\tremaining: 737ms\n",
      "286:\tlearn: 0.1719676\ttotal: 296ms\tremaining: 736ms\n",
      "287:\tlearn: 0.1714754\ttotal: 297ms\tremaining: 734ms\n"
     ]
    },
    {
     "name": "stdout",
     "output_type": "stream",
     "text": [
      "288:\tlearn: 0.1709690\ttotal: 298ms\tremaining: 733ms\n",
      "289:\tlearn: 0.1705027\ttotal: 299ms\tremaining: 731ms\n",
      "290:\tlearn: 0.1701300\ttotal: 300ms\tremaining: 730ms\n",
      "291:\tlearn: 0.1699082\ttotal: 300ms\tremaining: 728ms\n",
      "292:\tlearn: 0.1696924\ttotal: 301ms\tremaining: 727ms\n",
      "293:\tlearn: 0.1692195\ttotal: 302ms\tremaining: 725ms\n",
      "294:\tlearn: 0.1687950\ttotal: 303ms\tremaining: 724ms\n",
      "295:\tlearn: 0.1685626\ttotal: 304ms\tremaining: 724ms\n",
      "296:\tlearn: 0.1683571\ttotal: 305ms\tremaining: 723ms\n",
      "297:\tlearn: 0.1682194\ttotal: 306ms\tremaining: 721ms\n",
      "298:\tlearn: 0.1677683\ttotal: 307ms\tremaining: 720ms\n",
      "299:\tlearn: 0.1673917\ttotal: 308ms\tremaining: 719ms\n",
      "300:\tlearn: 0.1669087\ttotal: 309ms\tremaining: 717ms\n",
      "301:\tlearn: 0.1664631\ttotal: 310ms\tremaining: 716ms\n",
      "302:\tlearn: 0.1662281\ttotal: 311ms\tremaining: 715ms\n",
      "303:\tlearn: 0.1657913\ttotal: 312ms\tremaining: 714ms\n",
      "304:\tlearn: 0.1652528\ttotal: 313ms\tremaining: 712ms\n",
      "305:\tlearn: 0.1647055\ttotal: 314ms\tremaining: 711ms\n",
      "306:\tlearn: 0.1643604\ttotal: 314ms\tremaining: 710ms\n",
      "307:\tlearn: 0.1638476\ttotal: 315ms\tremaining: 708ms\n",
      "308:\tlearn: 0.1634723\ttotal: 316ms\tremaining: 707ms\n",
      "309:\tlearn: 0.1631307\ttotal: 317ms\tremaining: 706ms\n",
      "310:\tlearn: 0.1627125\ttotal: 318ms\tremaining: 704ms\n",
      "311:\tlearn: 0.1624157\ttotal: 319ms\tremaining: 703ms\n",
      "312:\tlearn: 0.1619855\ttotal: 320ms\tremaining: 701ms\n",
      "313:\tlearn: 0.1618801\ttotal: 320ms\tremaining: 700ms\n",
      "314:\tlearn: 0.1614628\ttotal: 321ms\tremaining: 699ms\n",
      "315:\tlearn: 0.1610587\ttotal: 322ms\tremaining: 697ms\n",
      "316:\tlearn: 0.1607863\ttotal: 323ms\tremaining: 696ms\n",
      "317:\tlearn: 0.1605639\ttotal: 324ms\tremaining: 694ms\n",
      "318:\tlearn: 0.1603612\ttotal: 324ms\tremaining: 693ms\n",
      "319:\tlearn: 0.1599290\ttotal: 325ms\tremaining: 691ms\n",
      "320:\tlearn: 0.1594915\ttotal: 326ms\tremaining: 690ms\n",
      "321:\tlearn: 0.1589883\ttotal: 327ms\tremaining: 688ms\n",
      "322:\tlearn: 0.1586531\ttotal: 328ms\tremaining: 687ms\n",
      "323:\tlearn: 0.1583340\ttotal: 329ms\tremaining: 686ms\n",
      "324:\tlearn: 0.1578503\ttotal: 330ms\tremaining: 685ms\n",
      "325:\tlearn: 0.1574626\ttotal: 331ms\tremaining: 683ms\n",
      "326:\tlearn: 0.1571714\ttotal: 331ms\tremaining: 682ms\n",
      "327:\tlearn: 0.1569139\ttotal: 333ms\tremaining: 681ms\n",
      "328:\tlearn: 0.1562959\ttotal: 334ms\tremaining: 680ms\n",
      "329:\tlearn: 0.1558291\ttotal: 335ms\tremaining: 679ms\n",
      "330:\tlearn: 0.1552709\ttotal: 335ms\tremaining: 678ms\n",
      "331:\tlearn: 0.1548852\ttotal: 336ms\tremaining: 677ms\n",
      "332:\tlearn: 0.1546413\ttotal: 337ms\tremaining: 675ms\n",
      "333:\tlearn: 0.1544160\ttotal: 338ms\tremaining: 674ms\n",
      "334:\tlearn: 0.1540845\ttotal: 339ms\tremaining: 672ms\n",
      "335:\tlearn: 0.1537773\ttotal: 340ms\tremaining: 671ms\n",
      "336:\tlearn: 0.1532022\ttotal: 341ms\tremaining: 670ms\n",
      "337:\tlearn: 0.1528541\ttotal: 342ms\tremaining: 669ms\n",
      "338:\tlearn: 0.1526550\ttotal: 343ms\tremaining: 668ms\n",
      "339:\tlearn: 0.1520393\ttotal: 343ms\tremaining: 667ms\n",
      "340:\tlearn: 0.1516450\ttotal: 345ms\tremaining: 666ms\n",
      "341:\tlearn: 0.1513773\ttotal: 345ms\tremaining: 665ms\n",
      "342:\tlearn: 0.1511616\ttotal: 346ms\tremaining: 663ms\n",
      "343:\tlearn: 0.1507644\ttotal: 347ms\tremaining: 662ms\n",
      "344:\tlearn: 0.1503691\ttotal: 348ms\tremaining: 661ms\n",
      "345:\tlearn: 0.1499557\ttotal: 349ms\tremaining: 660ms\n",
      "346:\tlearn: 0.1497965\ttotal: 350ms\tremaining: 659ms\n",
      "347:\tlearn: 0.1495837\ttotal: 351ms\tremaining: 657ms\n",
      "348:\tlearn: 0.1492365\ttotal: 352ms\tremaining: 656ms\n",
      "349:\tlearn: 0.1489703\ttotal: 352ms\tremaining: 655ms\n",
      "350:\tlearn: 0.1486054\ttotal: 353ms\tremaining: 653ms\n",
      "351:\tlearn: 0.1481564\ttotal: 354ms\tremaining: 652ms\n",
      "352:\tlearn: 0.1476539\ttotal: 355ms\tremaining: 650ms\n",
      "353:\tlearn: 0.1472356\ttotal: 356ms\tremaining: 649ms\n",
      "354:\tlearn: 0.1467870\ttotal: 357ms\tremaining: 648ms\n",
      "355:\tlearn: 0.1465645\ttotal: 357ms\tremaining: 646ms\n",
      "356:\tlearn: 0.1462341\ttotal: 358ms\tremaining: 645ms\n",
      "357:\tlearn: 0.1459909\ttotal: 359ms\tremaining: 644ms\n",
      "358:\tlearn: 0.1457058\ttotal: 360ms\tremaining: 643ms\n",
      "359:\tlearn: 0.1453043\ttotal: 361ms\tremaining: 642ms\n",
      "360:\tlearn: 0.1450305\ttotal: 362ms\tremaining: 641ms\n",
      "361:\tlearn: 0.1448252\ttotal: 363ms\tremaining: 639ms\n",
      "362:\tlearn: 0.1444572\ttotal: 363ms\tremaining: 638ms\n",
      "363:\tlearn: 0.1442002\ttotal: 364ms\tremaining: 636ms\n",
      "364:\tlearn: 0.1437909\ttotal: 365ms\tremaining: 635ms\n",
      "365:\tlearn: 0.1433974\ttotal: 366ms\tremaining: 634ms\n",
      "366:\tlearn: 0.1432859\ttotal: 367ms\tremaining: 632ms\n",
      "367:\tlearn: 0.1431781\ttotal: 368ms\tremaining: 631ms\n",
      "368:\tlearn: 0.1429586\ttotal: 368ms\tremaining: 630ms\n",
      "369:\tlearn: 0.1426199\ttotal: 369ms\tremaining: 629ms\n",
      "370:\tlearn: 0.1422314\ttotal: 370ms\tremaining: 627ms\n",
      "371:\tlearn: 0.1418259\ttotal: 371ms\tremaining: 626ms\n",
      "372:\tlearn: 0.1415326\ttotal: 372ms\tremaining: 625ms\n",
      "373:\tlearn: 0.1410486\ttotal: 373ms\tremaining: 624ms\n",
      "374:\tlearn: 0.1408026\ttotal: 373ms\tremaining: 622ms\n",
      "375:\tlearn: 0.1404308\ttotal: 374ms\tremaining: 621ms\n",
      "376:\tlearn: 0.1401794\ttotal: 375ms\tremaining: 620ms\n",
      "377:\tlearn: 0.1398945\ttotal: 376ms\tremaining: 618ms\n",
      "378:\tlearn: 0.1394598\ttotal: 377ms\tremaining: 617ms\n",
      "379:\tlearn: 0.1393109\ttotal: 377ms\tremaining: 616ms\n",
      "380:\tlearn: 0.1390638\ttotal: 378ms\tremaining: 615ms\n",
      "381:\tlearn: 0.1388724\ttotal: 379ms\tremaining: 613ms\n",
      "382:\tlearn: 0.1384616\ttotal: 380ms\tremaining: 612ms\n",
      "383:\tlearn: 0.1381032\ttotal: 381ms\tremaining: 611ms\n",
      "384:\tlearn: 0.1377395\ttotal: 381ms\tremaining: 609ms\n"
     ]
    },
    {
     "name": "stdout",
     "output_type": "stream",
     "text": [
      "385:\tlearn: 0.1373668\ttotal: 382ms\tremaining: 608ms\n",
      "386:\tlearn: 0.1371026\ttotal: 383ms\tremaining: 607ms\n",
      "387:\tlearn: 0.1368934\ttotal: 384ms\tremaining: 606ms\n",
      "388:\tlearn: 0.1365787\ttotal: 385ms\tremaining: 605ms\n",
      "389:\tlearn: 0.1360976\ttotal: 386ms\tremaining: 603ms\n",
      "390:\tlearn: 0.1357429\ttotal: 387ms\tremaining: 602ms\n",
      "391:\tlearn: 0.1353479\ttotal: 387ms\tremaining: 601ms\n",
      "392:\tlearn: 0.1350847\ttotal: 388ms\tremaining: 599ms\n",
      "393:\tlearn: 0.1348747\ttotal: 389ms\tremaining: 598ms\n",
      "394:\tlearn: 0.1345539\ttotal: 390ms\tremaining: 597ms\n",
      "395:\tlearn: 0.1342151\ttotal: 391ms\tremaining: 596ms\n",
      "396:\tlearn: 0.1340683\ttotal: 391ms\tremaining: 595ms\n",
      "397:\tlearn: 0.1336926\ttotal: 392ms\tremaining: 593ms\n",
      "398:\tlearn: 0.1333201\ttotal: 393ms\tremaining: 592ms\n",
      "399:\tlearn: 0.1331580\ttotal: 394ms\tremaining: 591ms\n",
      "400:\tlearn: 0.1328583\ttotal: 395ms\tremaining: 589ms\n",
      "401:\tlearn: 0.1326112\ttotal: 395ms\tremaining: 588ms\n",
      "402:\tlearn: 0.1323927\ttotal: 396ms\tremaining: 587ms\n",
      "403:\tlearn: 0.1320480\ttotal: 397ms\tremaining: 586ms\n",
      "404:\tlearn: 0.1316669\ttotal: 398ms\tremaining: 585ms\n",
      "405:\tlearn: 0.1313863\ttotal: 399ms\tremaining: 583ms\n",
      "406:\tlearn: 0.1312465\ttotal: 400ms\tremaining: 582ms\n",
      "407:\tlearn: 0.1309985\ttotal: 400ms\tremaining: 581ms\n",
      "408:\tlearn: 0.1306387\ttotal: 401ms\tremaining: 580ms\n",
      "409:\tlearn: 0.1304427\ttotal: 402ms\tremaining: 578ms\n",
      "410:\tlearn: 0.1301466\ttotal: 403ms\tremaining: 577ms\n",
      "411:\tlearn: 0.1300901\ttotal: 404ms\tremaining: 576ms\n",
      "412:\tlearn: 0.1299198\ttotal: 404ms\tremaining: 575ms\n",
      "413:\tlearn: 0.1296445\ttotal: 405ms\tremaining: 574ms\n",
      "414:\tlearn: 0.1293752\ttotal: 406ms\tremaining: 572ms\n",
      "415:\tlearn: 0.1290274\ttotal: 407ms\tremaining: 571ms\n",
      "416:\tlearn: 0.1287722\ttotal: 408ms\tremaining: 570ms\n",
      "417:\tlearn: 0.1285671\ttotal: 409ms\tremaining: 569ms\n",
      "418:\tlearn: 0.1282692\ttotal: 409ms\tremaining: 568ms\n",
      "419:\tlearn: 0.1280636\ttotal: 410ms\tremaining: 566ms\n",
      "420:\tlearn: 0.1277556\ttotal: 411ms\tremaining: 565ms\n",
      "421:\tlearn: 0.1274333\ttotal: 412ms\tremaining: 564ms\n",
      "422:\tlearn: 0.1271948\ttotal: 413ms\tremaining: 563ms\n",
      "423:\tlearn: 0.1270188\ttotal: 413ms\tremaining: 562ms\n",
      "424:\tlearn: 0.1267622\ttotal: 415ms\tremaining: 561ms\n",
      "425:\tlearn: 0.1265233\ttotal: 416ms\tremaining: 560ms\n",
      "426:\tlearn: 0.1261497\ttotal: 417ms\tremaining: 559ms\n",
      "427:\tlearn: 0.1259010\ttotal: 417ms\tremaining: 558ms\n",
      "428:\tlearn: 0.1256922\ttotal: 418ms\tremaining: 557ms\n",
      "429:\tlearn: 0.1254121\ttotal: 419ms\tremaining: 555ms\n",
      "430:\tlearn: 0.1251620\ttotal: 420ms\tremaining: 554ms\n",
      "431:\tlearn: 0.1250244\ttotal: 421ms\tremaining: 553ms\n",
      "432:\tlearn: 0.1247019\ttotal: 422ms\tremaining: 553ms\n",
      "433:\tlearn: 0.1243754\ttotal: 423ms\tremaining: 552ms\n",
      "434:\tlearn: 0.1241796\ttotal: 424ms\tremaining: 550ms\n",
      "435:\tlearn: 0.1238744\ttotal: 424ms\tremaining: 549ms\n",
      "436:\tlearn: 0.1236736\ttotal: 425ms\tremaining: 548ms\n",
      "437:\tlearn: 0.1234685\ttotal: 426ms\tremaining: 547ms\n",
      "438:\tlearn: 0.1233318\ttotal: 427ms\tremaining: 546ms\n",
      "439:\tlearn: 0.1229411\ttotal: 428ms\tremaining: 544ms\n",
      "440:\tlearn: 0.1227358\ttotal: 429ms\tremaining: 543ms\n",
      "441:\tlearn: 0.1225159\ttotal: 429ms\tremaining: 542ms\n",
      "442:\tlearn: 0.1221850\ttotal: 430ms\tremaining: 541ms\n",
      "443:\tlearn: 0.1218904\ttotal: 431ms\tremaining: 539ms\n",
      "444:\tlearn: 0.1216312\ttotal: 432ms\tremaining: 538ms\n",
      "445:\tlearn: 0.1212374\ttotal: 432ms\tremaining: 537ms\n",
      "446:\tlearn: 0.1210074\ttotal: 433ms\tremaining: 536ms\n",
      "447:\tlearn: 0.1207485\ttotal: 434ms\tremaining: 535ms\n",
      "448:\tlearn: 0.1207272\ttotal: 435ms\tremaining: 534ms\n",
      "449:\tlearn: 0.1205321\ttotal: 436ms\tremaining: 533ms\n",
      "450:\tlearn: 0.1204692\ttotal: 437ms\tremaining: 531ms\n",
      "451:\tlearn: 0.1204379\ttotal: 437ms\tremaining: 530ms\n",
      "452:\tlearn: 0.1201536\ttotal: 438ms\tremaining: 529ms\n",
      "453:\tlearn: 0.1198816\ttotal: 439ms\tremaining: 528ms\n",
      "454:\tlearn: 0.1197230\ttotal: 440ms\tremaining: 527ms\n",
      "455:\tlearn: 0.1193916\ttotal: 441ms\tremaining: 526ms\n",
      "456:\tlearn: 0.1193703\ttotal: 441ms\tremaining: 525ms\n",
      "457:\tlearn: 0.1190847\ttotal: 442ms\tremaining: 523ms\n",
      "458:\tlearn: 0.1188777\ttotal: 443ms\tremaining: 522ms\n",
      "459:\tlearn: 0.1188504\ttotal: 444ms\tremaining: 521ms\n",
      "460:\tlearn: 0.1185765\ttotal: 444ms\tremaining: 520ms\n",
      "461:\tlearn: 0.1185333\ttotal: 445ms\tremaining: 518ms\n",
      "462:\tlearn: 0.1185136\ttotal: 446ms\tremaining: 517ms\n",
      "463:\tlearn: 0.1183448\ttotal: 447ms\tremaining: 516ms\n",
      "464:\tlearn: 0.1183196\ttotal: 447ms\tremaining: 515ms\n",
      "465:\tlearn: 0.1182965\ttotal: 448ms\tremaining: 514ms\n",
      "466:\tlearn: 0.1180474\ttotal: 449ms\tremaining: 512ms\n",
      "467:\tlearn: 0.1178009\ttotal: 450ms\tremaining: 511ms\n",
      "468:\tlearn: 0.1175269\ttotal: 451ms\tremaining: 510ms\n",
      "469:\tlearn: 0.1175071\ttotal: 451ms\tremaining: 509ms\n",
      "470:\tlearn: 0.1172582\ttotal: 452ms\tremaining: 508ms\n",
      "471:\tlearn: 0.1169957\ttotal: 453ms\tremaining: 507ms\n",
      "472:\tlearn: 0.1168755\ttotal: 454ms\tremaining: 506ms\n",
      "473:\tlearn: 0.1166305\ttotal: 455ms\tremaining: 505ms\n",
      "474:\tlearn: 0.1164143\ttotal: 456ms\tremaining: 504ms\n",
      "475:\tlearn: 0.1161997\ttotal: 457ms\tremaining: 503ms\n",
      "476:\tlearn: 0.1160341\ttotal: 458ms\tremaining: 502ms\n",
      "477:\tlearn: 0.1157242\ttotal: 459ms\tremaining: 501ms\n",
      "478:\tlearn: 0.1155503\ttotal: 460ms\tremaining: 500ms\n",
      "479:\tlearn: 0.1152923\ttotal: 460ms\tremaining: 499ms\n",
      "480:\tlearn: 0.1151277\ttotal: 461ms\tremaining: 498ms\n",
      "481:\tlearn: 0.1148673\ttotal: 462ms\tremaining: 496ms\n",
      "482:\tlearn: 0.1146693\ttotal: 463ms\tremaining: 495ms\n",
      "483:\tlearn: 0.1144582\ttotal: 464ms\tremaining: 494ms\n",
      "484:\tlearn: 0.1141679\ttotal: 465ms\tremaining: 493ms\n",
      "485:\tlearn: 0.1139834\ttotal: 465ms\tremaining: 492ms\n",
      "486:\tlearn: 0.1137108\ttotal: 466ms\tremaining: 491ms\n",
      "487:\tlearn: 0.1134871\ttotal: 467ms\tremaining: 490ms\n",
      "488:\tlearn: 0.1132168\ttotal: 468ms\tremaining: 489ms\n",
      "489:\tlearn: 0.1130487\ttotal: 469ms\tremaining: 488ms\n",
      "490:\tlearn: 0.1128806\ttotal: 470ms\tremaining: 487ms\n",
      "491:\tlearn: 0.1126478\ttotal: 470ms\tremaining: 486ms\n",
      "492:\tlearn: 0.1126302\ttotal: 471ms\tremaining: 485ms\n",
      "493:\tlearn: 0.1123612\ttotal: 472ms\tremaining: 484ms\n",
      "494:\tlearn: 0.1123199\ttotal: 473ms\tremaining: 483ms\n",
      "495:\tlearn: 0.1121210\ttotal: 474ms\tremaining: 481ms\n",
      "496:\tlearn: 0.1118224\ttotal: 475ms\tremaining: 480ms\n",
      "497:\tlearn: 0.1116764\ttotal: 475ms\tremaining: 479ms\n",
      "498:\tlearn: 0.1114470\ttotal: 476ms\tremaining: 478ms\n",
      "499:\tlearn: 0.1110692\ttotal: 477ms\tremaining: 477ms\n",
      "500:\tlearn: 0.1108014\ttotal: 478ms\tremaining: 476ms\n",
      "501:\tlearn: 0.1105184\ttotal: 479ms\tremaining: 475ms\n",
      "502:\tlearn: 0.1103484\ttotal: 480ms\tremaining: 474ms\n",
      "503:\tlearn: 0.1103307\ttotal: 480ms\tremaining: 473ms\n",
      "504:\tlearn: 0.1101112\ttotal: 481ms\tremaining: 472ms\n",
      "505:\tlearn: 0.1099192\ttotal: 482ms\tremaining: 471ms\n",
      "506:\tlearn: 0.1098592\ttotal: 483ms\tremaining: 469ms\n",
      "507:\tlearn: 0.1096423\ttotal: 484ms\tremaining: 468ms\n",
      "508:\tlearn: 0.1095664\ttotal: 484ms\tremaining: 467ms\n",
      "509:\tlearn: 0.1094337\ttotal: 485ms\tremaining: 466ms\n",
      "510:\tlearn: 0.1092827\ttotal: 486ms\tremaining: 465ms\n",
      "511:\tlearn: 0.1090006\ttotal: 487ms\tremaining: 464ms\n"
     ]
    },
    {
     "name": "stdout",
     "output_type": "stream",
     "text": [
      "512:\tlearn: 0.1089783\ttotal: 488ms\tremaining: 463ms\n",
      "513:\tlearn: 0.1088329\ttotal: 489ms\tremaining: 462ms\n",
      "514:\tlearn: 0.1086477\ttotal: 490ms\tremaining: 461ms\n",
      "515:\tlearn: 0.1084693\ttotal: 490ms\tremaining: 460ms\n",
      "516:\tlearn: 0.1083120\ttotal: 491ms\tremaining: 459ms\n",
      "517:\tlearn: 0.1081764\ttotal: 492ms\tremaining: 458ms\n",
      "518:\tlearn: 0.1079318\ttotal: 493ms\tremaining: 457ms\n",
      "519:\tlearn: 0.1076368\ttotal: 494ms\tremaining: 456ms\n",
      "520:\tlearn: 0.1074966\ttotal: 494ms\tremaining: 455ms\n",
      "521:\tlearn: 0.1073602\ttotal: 495ms\tremaining: 453ms\n",
      "522:\tlearn: 0.1073439\ttotal: 496ms\tremaining: 452ms\n",
      "523:\tlearn: 0.1071940\ttotal: 497ms\tremaining: 451ms\n",
      "524:\tlearn: 0.1069702\ttotal: 498ms\tremaining: 450ms\n",
      "525:\tlearn: 0.1068101\ttotal: 498ms\tremaining: 449ms\n",
      "526:\tlearn: 0.1066454\ttotal: 499ms\tremaining: 448ms\n",
      "527:\tlearn: 0.1066294\ttotal: 500ms\tremaining: 447ms\n",
      "528:\tlearn: 0.1064302\ttotal: 501ms\tremaining: 446ms\n",
      "529:\tlearn: 0.1062853\ttotal: 502ms\tremaining: 445ms\n",
      "530:\tlearn: 0.1060941\ttotal: 503ms\tremaining: 444ms\n",
      "531:\tlearn: 0.1059710\ttotal: 504ms\tremaining: 443ms\n",
      "532:\tlearn: 0.1057660\ttotal: 504ms\tremaining: 442ms\n",
      "533:\tlearn: 0.1056186\ttotal: 505ms\tremaining: 441ms\n",
      "534:\tlearn: 0.1054253\ttotal: 506ms\tremaining: 440ms\n",
      "535:\tlearn: 0.1052871\ttotal: 507ms\tremaining: 439ms\n",
      "536:\tlearn: 0.1050528\ttotal: 507ms\tremaining: 438ms\n",
      "537:\tlearn: 0.1048873\ttotal: 508ms\tremaining: 437ms\n",
      "538:\tlearn: 0.1046476\ttotal: 509ms\tremaining: 436ms\n",
      "539:\tlearn: 0.1046122\ttotal: 510ms\tremaining: 434ms\n",
      "540:\tlearn: 0.1045894\ttotal: 511ms\tremaining: 433ms\n",
      "541:\tlearn: 0.1043862\ttotal: 512ms\tremaining: 432ms\n",
      "542:\tlearn: 0.1042835\ttotal: 512ms\tremaining: 431ms\n",
      "543:\tlearn: 0.1041428\ttotal: 513ms\tremaining: 430ms\n",
      "544:\tlearn: 0.1040197\ttotal: 514ms\tremaining: 429ms\n",
      "545:\tlearn: 0.1037902\ttotal: 515ms\tremaining: 428ms\n",
      "546:\tlearn: 0.1034885\ttotal: 516ms\tremaining: 427ms\n",
      "547:\tlearn: 0.1032509\ttotal: 516ms\tremaining: 426ms\n",
      "548:\tlearn: 0.1031512\ttotal: 517ms\tremaining: 425ms\n",
      "549:\tlearn: 0.1029619\ttotal: 518ms\tremaining: 424ms\n",
      "550:\tlearn: 0.1028208\ttotal: 519ms\tremaining: 423ms\n",
      "551:\tlearn: 0.1027114\ttotal: 520ms\tremaining: 422ms\n",
      "552:\tlearn: 0.1025905\ttotal: 521ms\tremaining: 421ms\n",
      "553:\tlearn: 0.1025720\ttotal: 522ms\tremaining: 420ms\n",
      "554:\tlearn: 0.1023507\ttotal: 523ms\tremaining: 419ms\n",
      "555:\tlearn: 0.1020910\ttotal: 523ms\tremaining: 418ms\n",
      "556:\tlearn: 0.1019189\ttotal: 524ms\tremaining: 417ms\n",
      "557:\tlearn: 0.1016851\ttotal: 525ms\tremaining: 416ms\n",
      "558:\tlearn: 0.1015361\ttotal: 526ms\tremaining: 415ms\n",
      "559:\tlearn: 0.1013751\ttotal: 527ms\tremaining: 414ms\n",
      "560:\tlearn: 0.1012718\ttotal: 528ms\tremaining: 413ms\n",
      "561:\tlearn: 0.1010675\ttotal: 529ms\tremaining: 412ms\n",
      "562:\tlearn: 0.1007951\ttotal: 529ms\tremaining: 411ms\n",
      "563:\tlearn: 0.1006112\ttotal: 530ms\tremaining: 410ms\n",
      "564:\tlearn: 0.1005903\ttotal: 531ms\tremaining: 409ms\n",
      "565:\tlearn: 0.1005002\ttotal: 532ms\tremaining: 408ms\n",
      "566:\tlearn: 0.1002728\ttotal: 533ms\tremaining: 407ms\n",
      "567:\tlearn: 0.1001407\ttotal: 533ms\tremaining: 406ms\n",
      "568:\tlearn: 0.0999860\ttotal: 534ms\tremaining: 405ms\n",
      "569:\tlearn: 0.0998358\ttotal: 535ms\tremaining: 404ms\n",
      "570:\tlearn: 0.0995881\ttotal: 536ms\tremaining: 403ms\n",
      "571:\tlearn: 0.0994488\ttotal: 537ms\tremaining: 402ms\n",
      "572:\tlearn: 0.0992746\ttotal: 538ms\tremaining: 401ms\n",
      "573:\tlearn: 0.0991933\ttotal: 538ms\tremaining: 400ms\n",
      "574:\tlearn: 0.0989779\ttotal: 539ms\tremaining: 399ms\n",
      "575:\tlearn: 0.0988555\ttotal: 540ms\tremaining: 398ms\n",
      "576:\tlearn: 0.0988391\ttotal: 541ms\tremaining: 396ms\n",
      "577:\tlearn: 0.0986742\ttotal: 542ms\tremaining: 396ms\n",
      "578:\tlearn: 0.0986620\ttotal: 543ms\tremaining: 395ms\n",
      "579:\tlearn: 0.0986354\ttotal: 543ms\tremaining: 394ms\n",
      "580:\tlearn: 0.0984949\ttotal: 544ms\tremaining: 393ms\n",
      "581:\tlearn: 0.0983935\ttotal: 545ms\tremaining: 391ms\n",
      "582:\tlearn: 0.0983506\ttotal: 546ms\tremaining: 390ms\n",
      "583:\tlearn: 0.0981916\ttotal: 547ms\tremaining: 389ms\n",
      "584:\tlearn: 0.0979508\ttotal: 547ms\tremaining: 388ms\n",
      "585:\tlearn: 0.0979286\ttotal: 548ms\tremaining: 387ms\n",
      "586:\tlearn: 0.0979091\ttotal: 549ms\tremaining: 386ms\n",
      "587:\tlearn: 0.0977264\ttotal: 550ms\tremaining: 385ms\n",
      "588:\tlearn: 0.0975180\ttotal: 551ms\tremaining: 384ms\n",
      "589:\tlearn: 0.0973949\ttotal: 551ms\tremaining: 383ms\n",
      "590:\tlearn: 0.0972352\ttotal: 552ms\tremaining: 382ms\n",
      "591:\tlearn: 0.0972150\ttotal: 553ms\tremaining: 381ms\n",
      "592:\tlearn: 0.0970459\ttotal: 554ms\tremaining: 380ms\n",
      "593:\tlearn: 0.0969225\ttotal: 555ms\tremaining: 379ms\n",
      "594:\tlearn: 0.0968043\ttotal: 556ms\tremaining: 378ms\n",
      "595:\tlearn: 0.0966208\ttotal: 556ms\tremaining: 377ms\n",
      "596:\tlearn: 0.0964407\ttotal: 557ms\tremaining: 376ms\n",
      "597:\tlearn: 0.0963420\ttotal: 558ms\tremaining: 375ms\n",
      "598:\tlearn: 0.0963148\ttotal: 559ms\tremaining: 374ms\n",
      "599:\tlearn: 0.0961703\ttotal: 560ms\tremaining: 373ms\n",
      "600:\tlearn: 0.0961511\ttotal: 560ms\tremaining: 372ms\n",
      "601:\tlearn: 0.0961267\ttotal: 561ms\tremaining: 371ms\n",
      "602:\tlearn: 0.0960693\ttotal: 562ms\tremaining: 370ms\n",
      "603:\tlearn: 0.0957647\ttotal: 563ms\tremaining: 369ms\n",
      "604:\tlearn: 0.0956308\ttotal: 563ms\tremaining: 368ms\n",
      "605:\tlearn: 0.0953008\ttotal: 564ms\tremaining: 367ms\n",
      "606:\tlearn: 0.0952266\ttotal: 565ms\tremaining: 366ms\n",
      "607:\tlearn: 0.0950181\ttotal: 567ms\tremaining: 365ms\n",
      "608:\tlearn: 0.0950031\ttotal: 567ms\tremaining: 364ms\n",
      "609:\tlearn: 0.0948429\ttotal: 568ms\tremaining: 363ms\n",
      "610:\tlearn: 0.0947086\ttotal: 569ms\tremaining: 362ms\n",
      "611:\tlearn: 0.0945861\ttotal: 570ms\tremaining: 361ms\n",
      "612:\tlearn: 0.0943798\ttotal: 571ms\tremaining: 360ms\n",
      "613:\tlearn: 0.0942144\ttotal: 571ms\tremaining: 359ms\n",
      "614:\tlearn: 0.0940715\ttotal: 572ms\tremaining: 358ms\n"
     ]
    },
    {
     "name": "stdout",
     "output_type": "stream",
     "text": [
      "615:\tlearn: 0.0938959\ttotal: 573ms\tremaining: 357ms\n",
      "616:\tlearn: 0.0937436\ttotal: 574ms\tremaining: 356ms\n",
      "617:\tlearn: 0.0935973\ttotal: 575ms\tremaining: 355ms\n",
      "618:\tlearn: 0.0934708\ttotal: 576ms\tremaining: 354ms\n",
      "619:\tlearn: 0.0932854\ttotal: 577ms\tremaining: 353ms\n",
      "620:\tlearn: 0.0931077\ttotal: 577ms\tremaining: 352ms\n",
      "621:\tlearn: 0.0928881\ttotal: 578ms\tremaining: 351ms\n",
      "622:\tlearn: 0.0927294\ttotal: 579ms\tremaining: 350ms\n",
      "623:\tlearn: 0.0926191\ttotal: 580ms\tremaining: 349ms\n",
      "624:\tlearn: 0.0924658\ttotal: 580ms\tremaining: 348ms\n",
      "625:\tlearn: 0.0922694\ttotal: 581ms\tremaining: 347ms\n",
      "626:\tlearn: 0.0920784\ttotal: 582ms\tremaining: 346ms\n",
      "627:\tlearn: 0.0918983\ttotal: 583ms\tremaining: 345ms\n",
      "628:\tlearn: 0.0916906\ttotal: 584ms\tremaining: 344ms\n",
      "629:\tlearn: 0.0915009\ttotal: 584ms\tremaining: 343ms\n",
      "630:\tlearn: 0.0912940\ttotal: 585ms\tremaining: 342ms\n",
      "631:\tlearn: 0.0910477\ttotal: 586ms\tremaining: 341ms\n",
      "632:\tlearn: 0.0908978\ttotal: 587ms\tremaining: 340ms\n",
      "633:\tlearn: 0.0906908\ttotal: 588ms\tremaining: 339ms\n",
      "634:\tlearn: 0.0904867\ttotal: 589ms\tremaining: 338ms\n",
      "635:\tlearn: 0.0903055\ttotal: 589ms\tremaining: 337ms\n",
      "636:\tlearn: 0.0901923\ttotal: 590ms\tremaining: 336ms\n",
      "637:\tlearn: 0.0900363\ttotal: 591ms\tremaining: 335ms\n",
      "638:\tlearn: 0.0898529\ttotal: 592ms\tremaining: 334ms\n",
      "639:\tlearn: 0.0897258\ttotal: 592ms\tremaining: 333ms\n",
      "640:\tlearn: 0.0896367\ttotal: 593ms\tremaining: 332ms\n",
      "641:\tlearn: 0.0895143\ttotal: 595ms\tremaining: 332ms\n",
      "642:\tlearn: 0.0892440\ttotal: 596ms\tremaining: 331ms\n",
      "643:\tlearn: 0.0890968\ttotal: 597ms\tremaining: 330ms\n",
      "644:\tlearn: 0.0889013\ttotal: 597ms\tremaining: 329ms\n",
      "645:\tlearn: 0.0888856\ttotal: 598ms\tremaining: 328ms\n",
      "646:\tlearn: 0.0888629\ttotal: 599ms\tremaining: 327ms\n",
      "647:\tlearn: 0.0887495\ttotal: 600ms\tremaining: 326ms\n",
      "648:\tlearn: 0.0885662\ttotal: 601ms\tremaining: 325ms\n",
      "649:\tlearn: 0.0884045\ttotal: 602ms\tremaining: 324ms\n",
      "650:\tlearn: 0.0880914\ttotal: 602ms\tremaining: 323ms\n",
      "651:\tlearn: 0.0879183\ttotal: 603ms\tremaining: 322ms\n",
      "652:\tlearn: 0.0878376\ttotal: 604ms\tremaining: 321ms\n",
      "653:\tlearn: 0.0877022\ttotal: 605ms\tremaining: 320ms\n",
      "654:\tlearn: 0.0875951\ttotal: 606ms\tremaining: 319ms\n",
      "655:\tlearn: 0.0874887\ttotal: 607ms\tremaining: 318ms\n",
      "656:\tlearn: 0.0873517\ttotal: 607ms\tremaining: 317ms\n",
      "657:\tlearn: 0.0871485\ttotal: 608ms\tremaining: 316ms\n",
      "658:\tlearn: 0.0870184\ttotal: 609ms\tremaining: 315ms\n",
      "659:\tlearn: 0.0869218\ttotal: 610ms\tremaining: 314ms\n",
      "660:\tlearn: 0.0867047\ttotal: 611ms\tremaining: 313ms\n",
      "661:\tlearn: 0.0865403\ttotal: 611ms\tremaining: 312ms\n",
      "662:\tlearn: 0.0864377\ttotal: 612ms\tremaining: 311ms\n",
      "663:\tlearn: 0.0863411\ttotal: 613ms\tremaining: 310ms\n",
      "664:\tlearn: 0.0861777\ttotal: 614ms\tremaining: 309ms\n",
      "665:\tlearn: 0.0859538\ttotal: 615ms\tremaining: 308ms\n",
      "666:\tlearn: 0.0856818\ttotal: 616ms\tremaining: 307ms\n",
      "667:\tlearn: 0.0856154\ttotal: 616ms\tremaining: 306ms\n",
      "668:\tlearn: 0.0855387\ttotal: 617ms\tremaining: 305ms\n",
      "669:\tlearn: 0.0854455\ttotal: 618ms\tremaining: 304ms\n",
      "670:\tlearn: 0.0854250\ttotal: 619ms\tremaining: 303ms\n",
      "671:\tlearn: 0.0853166\ttotal: 620ms\tremaining: 302ms\n",
      "672:\tlearn: 0.0851065\ttotal: 621ms\tremaining: 302ms\n",
      "673:\tlearn: 0.0850362\ttotal: 621ms\tremaining: 301ms\n",
      "674:\tlearn: 0.0848734\ttotal: 622ms\tremaining: 300ms\n",
      "675:\tlearn: 0.0848158\ttotal: 623ms\tremaining: 299ms\n",
      "676:\tlearn: 0.0846995\ttotal: 624ms\tremaining: 298ms\n",
      "677:\tlearn: 0.0845586\ttotal: 625ms\tremaining: 297ms\n",
      "678:\tlearn: 0.0843664\ttotal: 626ms\tremaining: 296ms\n",
      "679:\tlearn: 0.0842485\ttotal: 626ms\tremaining: 295ms\n",
      "680:\tlearn: 0.0840842\ttotal: 627ms\tremaining: 294ms\n",
      "681:\tlearn: 0.0839734\ttotal: 628ms\tremaining: 293ms\n",
      "682:\tlearn: 0.0838703\ttotal: 629ms\tremaining: 292ms\n",
      "683:\tlearn: 0.0837363\ttotal: 630ms\tremaining: 291ms\n",
      "684:\tlearn: 0.0835271\ttotal: 630ms\tremaining: 290ms\n",
      "685:\tlearn: 0.0834294\ttotal: 631ms\tremaining: 289ms\n",
      "686:\tlearn: 0.0832838\ttotal: 632ms\tremaining: 288ms\n",
      "687:\tlearn: 0.0831448\ttotal: 633ms\tremaining: 287ms\n",
      "688:\tlearn: 0.0831191\ttotal: 634ms\tremaining: 286ms\n",
      "689:\tlearn: 0.0829903\ttotal: 634ms\tremaining: 285ms\n",
      "690:\tlearn: 0.0828844\ttotal: 635ms\tremaining: 284ms\n",
      "691:\tlearn: 0.0827065\ttotal: 636ms\tremaining: 283ms\n",
      "692:\tlearn: 0.0826228\ttotal: 637ms\tremaining: 282ms\n",
      "693:\tlearn: 0.0825054\ttotal: 638ms\tremaining: 281ms\n",
      "694:\tlearn: 0.0823509\ttotal: 639ms\tremaining: 280ms\n",
      "695:\tlearn: 0.0822695\ttotal: 639ms\tremaining: 279ms\n",
      "696:\tlearn: 0.0821026\ttotal: 640ms\tremaining: 278ms\n",
      "697:\tlearn: 0.0820393\ttotal: 641ms\tremaining: 277ms\n",
      "698:\tlearn: 0.0819739\ttotal: 642ms\tremaining: 276ms\n",
      "699:\tlearn: 0.0818641\ttotal: 643ms\tremaining: 275ms\n",
      "700:\tlearn: 0.0817764\ttotal: 643ms\tremaining: 274ms\n",
      "701:\tlearn: 0.0816155\ttotal: 644ms\tremaining: 273ms\n",
      "702:\tlearn: 0.0814301\ttotal: 645ms\tremaining: 272ms\n",
      "703:\tlearn: 0.0812558\ttotal: 646ms\tremaining: 272ms\n",
      "704:\tlearn: 0.0811971\ttotal: 647ms\tremaining: 271ms\n",
      "705:\tlearn: 0.0811214\ttotal: 647ms\tremaining: 270ms\n",
      "706:\tlearn: 0.0809210\ttotal: 648ms\tremaining: 269ms\n",
      "707:\tlearn: 0.0808065\ttotal: 649ms\tremaining: 268ms\n",
      "708:\tlearn: 0.0806556\ttotal: 650ms\tremaining: 267ms\n",
      "709:\tlearn: 0.0805522\ttotal: 650ms\tremaining: 266ms\n",
      "710:\tlearn: 0.0803890\ttotal: 651ms\tremaining: 265ms\n",
      "711:\tlearn: 0.0801773\ttotal: 652ms\tremaining: 264ms\n",
      "712:\tlearn: 0.0800484\ttotal: 653ms\tremaining: 263ms\n",
      "713:\tlearn: 0.0798726\ttotal: 654ms\tremaining: 262ms\n",
      "714:\tlearn: 0.0797394\ttotal: 654ms\tremaining: 261ms\n",
      "715:\tlearn: 0.0796467\ttotal: 655ms\tremaining: 260ms\n",
      "716:\tlearn: 0.0795882\ttotal: 656ms\tremaining: 259ms\n",
      "717:\tlearn: 0.0794072\ttotal: 657ms\tremaining: 258ms\n",
      "718:\tlearn: 0.0792879\ttotal: 657ms\tremaining: 257ms\n",
      "719:\tlearn: 0.0791720\ttotal: 658ms\tremaining: 256ms\n",
      "720:\tlearn: 0.0789747\ttotal: 659ms\tremaining: 255ms\n",
      "721:\tlearn: 0.0788850\ttotal: 660ms\tremaining: 254ms\n",
      "722:\tlearn: 0.0787907\ttotal: 661ms\tremaining: 253ms\n",
      "723:\tlearn: 0.0786779\ttotal: 662ms\tremaining: 252ms\n",
      "724:\tlearn: 0.0785979\ttotal: 663ms\tremaining: 251ms\n",
      "725:\tlearn: 0.0785059\ttotal: 663ms\tremaining: 250ms\n",
      "726:\tlearn: 0.0784459\ttotal: 664ms\tremaining: 249ms\n",
      "727:\tlearn: 0.0783453\ttotal: 665ms\tremaining: 248ms\n",
      "728:\tlearn: 0.0782622\ttotal: 666ms\tremaining: 248ms\n",
      "729:\tlearn: 0.0781191\ttotal: 667ms\tremaining: 247ms\n",
      "730:\tlearn: 0.0780133\ttotal: 668ms\tremaining: 246ms\n",
      "731:\tlearn: 0.0779624\ttotal: 668ms\tremaining: 245ms\n",
      "732:\tlearn: 0.0777997\ttotal: 669ms\tremaining: 244ms\n",
      "733:\tlearn: 0.0777444\ttotal: 670ms\tremaining: 243ms\n",
      "734:\tlearn: 0.0775858\ttotal: 671ms\tremaining: 242ms\n",
      "735:\tlearn: 0.0774919\ttotal: 672ms\tremaining: 241ms\n",
      "736:\tlearn: 0.0773741\ttotal: 673ms\tremaining: 240ms\n",
      "737:\tlearn: 0.0772433\ttotal: 674ms\tremaining: 239ms\n",
      "738:\tlearn: 0.0769963\ttotal: 675ms\tremaining: 238ms\n",
      "739:\tlearn: 0.0769079\ttotal: 676ms\tremaining: 237ms\n",
      "740:\tlearn: 0.0767849\ttotal: 677ms\tremaining: 237ms\n"
     ]
    },
    {
     "name": "stdout",
     "output_type": "stream",
     "text": [
      "741:\tlearn: 0.0766677\ttotal: 678ms\tremaining: 236ms\n",
      "742:\tlearn: 0.0765671\ttotal: 679ms\tremaining: 235ms\n",
      "743:\tlearn: 0.0763567\ttotal: 680ms\tremaining: 234ms\n",
      "744:\tlearn: 0.0762558\ttotal: 681ms\tremaining: 233ms\n",
      "745:\tlearn: 0.0760819\ttotal: 682ms\tremaining: 232ms\n",
      "746:\tlearn: 0.0758950\ttotal: 682ms\tremaining: 231ms\n",
      "747:\tlearn: 0.0757504\ttotal: 683ms\tremaining: 230ms\n",
      "748:\tlearn: 0.0757135\ttotal: 684ms\tremaining: 229ms\n",
      "749:\tlearn: 0.0755582\ttotal: 685ms\tremaining: 228ms\n",
      "750:\tlearn: 0.0754706\ttotal: 686ms\tremaining: 227ms\n",
      "751:\tlearn: 0.0752854\ttotal: 687ms\tremaining: 226ms\n",
      "752:\tlearn: 0.0751467\ttotal: 687ms\tremaining: 226ms\n",
      "753:\tlearn: 0.0750332\ttotal: 688ms\tremaining: 225ms\n",
      "754:\tlearn: 0.0750079\ttotal: 690ms\tremaining: 224ms\n",
      "755:\tlearn: 0.0749138\ttotal: 691ms\tremaining: 223ms\n",
      "756:\tlearn: 0.0748330\ttotal: 691ms\tremaining: 222ms\n",
      "757:\tlearn: 0.0747624\ttotal: 692ms\tremaining: 221ms\n",
      "758:\tlearn: 0.0746076\ttotal: 693ms\tremaining: 220ms\n",
      "759:\tlearn: 0.0745617\ttotal: 694ms\tremaining: 219ms\n",
      "760:\tlearn: 0.0744566\ttotal: 694ms\tremaining: 218ms\n",
      "761:\tlearn: 0.0744019\ttotal: 695ms\tremaining: 217ms\n",
      "762:\tlearn: 0.0742819\ttotal: 696ms\tremaining: 216ms\n",
      "763:\tlearn: 0.0741221\ttotal: 697ms\tremaining: 215ms\n",
      "764:\tlearn: 0.0740312\ttotal: 698ms\tremaining: 214ms\n",
      "765:\tlearn: 0.0738411\ttotal: 699ms\tremaining: 213ms\n",
      "766:\tlearn: 0.0736777\ttotal: 699ms\tremaining: 212ms\n",
      "767:\tlearn: 0.0735147\ttotal: 700ms\tremaining: 212ms\n",
      "768:\tlearn: 0.0734645\ttotal: 701ms\tremaining: 211ms\n",
      "769:\tlearn: 0.0734433\ttotal: 702ms\tremaining: 210ms\n",
      "770:\tlearn: 0.0733653\ttotal: 703ms\tremaining: 209ms\n",
      "771:\tlearn: 0.0731894\ttotal: 704ms\tremaining: 208ms\n",
      "772:\tlearn: 0.0730316\ttotal: 704ms\tremaining: 207ms\n",
      "773:\tlearn: 0.0729554\ttotal: 705ms\tremaining: 206ms\n",
      "774:\tlearn: 0.0728673\ttotal: 706ms\tremaining: 205ms\n",
      "775:\tlearn: 0.0727633\ttotal: 707ms\tremaining: 204ms\n",
      "776:\tlearn: 0.0726680\ttotal: 708ms\tremaining: 203ms\n",
      "777:\tlearn: 0.0725597\ttotal: 708ms\tremaining: 202ms\n",
      "778:\tlearn: 0.0724376\ttotal: 709ms\tremaining: 201ms\n",
      "779:\tlearn: 0.0723930\ttotal: 710ms\tremaining: 200ms\n",
      "780:\tlearn: 0.0722724\ttotal: 711ms\tremaining: 199ms\n",
      "781:\tlearn: 0.0722009\ttotal: 712ms\tremaining: 198ms\n",
      "782:\tlearn: 0.0721274\ttotal: 712ms\tremaining: 197ms\n",
      "783:\tlearn: 0.0720050\ttotal: 713ms\tremaining: 197ms\n",
      "784:\tlearn: 0.0718732\ttotal: 714ms\tremaining: 196ms\n",
      "785:\tlearn: 0.0717721\ttotal: 715ms\tremaining: 195ms\n",
      "786:\tlearn: 0.0716732\ttotal: 716ms\tremaining: 194ms\n",
      "787:\tlearn: 0.0715713\ttotal: 717ms\tremaining: 193ms\n",
      "788:\tlearn: 0.0715493\ttotal: 718ms\tremaining: 192ms\n",
      "789:\tlearn: 0.0713953\ttotal: 718ms\tremaining: 191ms\n",
      "790:\tlearn: 0.0713427\ttotal: 719ms\tremaining: 190ms\n",
      "791:\tlearn: 0.0712682\ttotal: 720ms\tremaining: 189ms\n",
      "792:\tlearn: 0.0712264\ttotal: 721ms\tremaining: 188ms\n",
      "793:\tlearn: 0.0711623\ttotal: 722ms\tremaining: 187ms\n",
      "794:\tlearn: 0.0709498\ttotal: 722ms\tremaining: 186ms\n",
      "795:\tlearn: 0.0708812\ttotal: 723ms\tremaining: 185ms\n",
      "796:\tlearn: 0.0707362\ttotal: 724ms\tremaining: 184ms\n",
      "797:\tlearn: 0.0706640\ttotal: 725ms\tremaining: 184ms\n",
      "798:\tlearn: 0.0705664\ttotal: 726ms\tremaining: 183ms\n",
      "799:\tlearn: 0.0704576\ttotal: 727ms\tremaining: 182ms\n",
      "800:\tlearn: 0.0704341\ttotal: 727ms\tremaining: 181ms\n",
      "801:\tlearn: 0.0703411\ttotal: 728ms\tremaining: 180ms\n",
      "802:\tlearn: 0.0701564\ttotal: 729ms\tremaining: 179ms\n",
      "803:\tlearn: 0.0699846\ttotal: 730ms\tremaining: 178ms\n",
      "804:\tlearn: 0.0699237\ttotal: 730ms\tremaining: 177ms\n",
      "805:\tlearn: 0.0697590\ttotal: 731ms\tremaining: 176ms\n",
      "806:\tlearn: 0.0695915\ttotal: 732ms\tremaining: 175ms\n",
      "807:\tlearn: 0.0694889\ttotal: 733ms\tremaining: 174ms\n",
      "808:\tlearn: 0.0694137\ttotal: 734ms\tremaining: 173ms\n",
      "809:\tlearn: 0.0693009\ttotal: 735ms\tremaining: 172ms\n",
      "810:\tlearn: 0.0691963\ttotal: 735ms\tremaining: 171ms\n",
      "811:\tlearn: 0.0690868\ttotal: 736ms\tremaining: 170ms\n",
      "812:\tlearn: 0.0689839\ttotal: 737ms\tremaining: 170ms\n",
      "813:\tlearn: 0.0689160\ttotal: 738ms\tremaining: 169ms\n",
      "814:\tlearn: 0.0688729\ttotal: 739ms\tremaining: 168ms\n",
      "815:\tlearn: 0.0687365\ttotal: 739ms\tremaining: 167ms\n",
      "816:\tlearn: 0.0686644\ttotal: 740ms\tremaining: 166ms\n",
      "817:\tlearn: 0.0685627\ttotal: 741ms\tremaining: 165ms\n",
      "818:\tlearn: 0.0685195\ttotal: 742ms\tremaining: 164ms\n",
      "819:\tlearn: 0.0683890\ttotal: 743ms\tremaining: 163ms\n",
      "820:\tlearn: 0.0683260\ttotal: 743ms\tremaining: 162ms\n",
      "821:\tlearn: 0.0682888\ttotal: 744ms\tremaining: 161ms\n",
      "822:\tlearn: 0.0682304\ttotal: 745ms\tremaining: 160ms\n",
      "823:\tlearn: 0.0681133\ttotal: 746ms\tremaining: 159ms\n",
      "824:\tlearn: 0.0680236\ttotal: 747ms\tremaining: 158ms\n",
      "825:\tlearn: 0.0678731\ttotal: 747ms\tremaining: 157ms\n",
      "826:\tlearn: 0.0677852\ttotal: 748ms\tremaining: 157ms\n",
      "827:\tlearn: 0.0677266\ttotal: 749ms\tremaining: 156ms\n",
      "828:\tlearn: 0.0676874\ttotal: 750ms\tremaining: 155ms\n",
      "829:\tlearn: 0.0675948\ttotal: 751ms\tremaining: 154ms\n",
      "830:\tlearn: 0.0674911\ttotal: 751ms\tremaining: 153ms\n",
      "831:\tlearn: 0.0674027\ttotal: 752ms\tremaining: 152ms\n",
      "832:\tlearn: 0.0672734\ttotal: 753ms\tremaining: 151ms\n",
      "833:\tlearn: 0.0672178\ttotal: 754ms\tremaining: 150ms\n",
      "834:\tlearn: 0.0670436\ttotal: 755ms\tremaining: 149ms\n",
      "835:\tlearn: 0.0669177\ttotal: 755ms\tremaining: 148ms\n",
      "836:\tlearn: 0.0668639\ttotal: 756ms\tremaining: 147ms\n",
      "837:\tlearn: 0.0667564\ttotal: 757ms\tremaining: 146ms\n",
      "838:\tlearn: 0.0666587\ttotal: 758ms\tremaining: 145ms\n",
      "839:\tlearn: 0.0665827\ttotal: 759ms\tremaining: 144ms\n",
      "840:\tlearn: 0.0664158\ttotal: 759ms\tremaining: 144ms\n",
      "841:\tlearn: 0.0663209\ttotal: 760ms\tremaining: 143ms\n",
      "842:\tlearn: 0.0662801\ttotal: 761ms\tremaining: 142ms\n",
      "843:\tlearn: 0.0661583\ttotal: 762ms\tremaining: 141ms\n",
      "844:\tlearn: 0.0660748\ttotal: 762ms\tremaining: 140ms\n"
     ]
    },
    {
     "name": "stdout",
     "output_type": "stream",
     "text": [
      "845:\tlearn: 0.0660623\ttotal: 763ms\tremaining: 139ms\n",
      "846:\tlearn: 0.0659865\ttotal: 764ms\tremaining: 138ms\n",
      "847:\tlearn: 0.0659180\ttotal: 765ms\tremaining: 137ms\n",
      "848:\tlearn: 0.0658098\ttotal: 766ms\tremaining: 136ms\n",
      "849:\tlearn: 0.0656877\ttotal: 767ms\tremaining: 135ms\n",
      "850:\tlearn: 0.0655950\ttotal: 767ms\tremaining: 134ms\n",
      "851:\tlearn: 0.0655182\ttotal: 768ms\tremaining: 133ms\n",
      "852:\tlearn: 0.0653765\ttotal: 769ms\tremaining: 133ms\n",
      "853:\tlearn: 0.0653049\ttotal: 770ms\tremaining: 132ms\n",
      "854:\tlearn: 0.0652007\ttotal: 771ms\tremaining: 131ms\n",
      "855:\tlearn: 0.0651815\ttotal: 772ms\tremaining: 130ms\n",
      "856:\tlearn: 0.0651247\ttotal: 773ms\tremaining: 129ms\n",
      "857:\tlearn: 0.0649664\ttotal: 773ms\tremaining: 128ms\n",
      "858:\tlearn: 0.0649251\ttotal: 774ms\tremaining: 127ms\n",
      "859:\tlearn: 0.0648436\ttotal: 775ms\tremaining: 126ms\n",
      "860:\tlearn: 0.0648128\ttotal: 776ms\tremaining: 125ms\n",
      "861:\tlearn: 0.0646834\ttotal: 777ms\tremaining: 124ms\n",
      "862:\tlearn: 0.0645620\ttotal: 778ms\tremaining: 123ms\n",
      "863:\tlearn: 0.0645329\ttotal: 778ms\tremaining: 122ms\n",
      "864:\tlearn: 0.0644326\ttotal: 779ms\tremaining: 122ms\n",
      "865:\tlearn: 0.0643511\ttotal: 780ms\tremaining: 121ms\n",
      "866:\tlearn: 0.0642732\ttotal: 781ms\tremaining: 120ms\n",
      "867:\tlearn: 0.0641808\ttotal: 782ms\tremaining: 119ms\n",
      "868:\tlearn: 0.0640047\ttotal: 782ms\tremaining: 118ms\n",
      "869:\tlearn: 0.0639480\ttotal: 783ms\tremaining: 117ms\n",
      "870:\tlearn: 0.0638451\ttotal: 784ms\tremaining: 116ms\n",
      "871:\tlearn: 0.0638108\ttotal: 785ms\tremaining: 115ms\n",
      "872:\tlearn: 0.0637645\ttotal: 785ms\tremaining: 114ms\n",
      "873:\tlearn: 0.0637186\ttotal: 786ms\tremaining: 113ms\n",
      "874:\tlearn: 0.0637019\ttotal: 787ms\tremaining: 112ms\n",
      "875:\tlearn: 0.0636263\ttotal: 788ms\tremaining: 112ms\n",
      "876:\tlearn: 0.0635577\ttotal: 789ms\tremaining: 111ms\n",
      "877:\tlearn: 0.0634957\ttotal: 790ms\tremaining: 110ms\n",
      "878:\tlearn: 0.0634064\ttotal: 790ms\tremaining: 109ms\n",
      "879:\tlearn: 0.0632792\ttotal: 791ms\tremaining: 108ms\n",
      "880:\tlearn: 0.0632032\ttotal: 792ms\tremaining: 107ms\n",
      "881:\tlearn: 0.0630914\ttotal: 793ms\tremaining: 106ms\n",
      "882:\tlearn: 0.0630402\ttotal: 793ms\tremaining: 105ms\n",
      "883:\tlearn: 0.0629073\ttotal: 794ms\tremaining: 104ms\n",
      "884:\tlearn: 0.0628265\ttotal: 795ms\tremaining: 103ms\n",
      "885:\tlearn: 0.0626907\ttotal: 796ms\tremaining: 102ms\n",
      "886:\tlearn: 0.0625794\ttotal: 796ms\tremaining: 101ms\n",
      "887:\tlearn: 0.0624921\ttotal: 797ms\tremaining: 101ms\n",
      "888:\tlearn: 0.0624065\ttotal: 798ms\tremaining: 99.7ms\n",
      "889:\tlearn: 0.0622860\ttotal: 799ms\tremaining: 98.8ms\n",
      "890:\tlearn: 0.0622049\ttotal: 800ms\tremaining: 97.8ms\n",
      "891:\tlearn: 0.0621290\ttotal: 801ms\tremaining: 96.9ms\n",
      "892:\tlearn: 0.0620702\ttotal: 802ms\tremaining: 96ms\n",
      "893:\tlearn: 0.0620056\ttotal: 802ms\tremaining: 95.1ms\n",
      "894:\tlearn: 0.0619006\ttotal: 803ms\tremaining: 94.2ms\n",
      "895:\tlearn: 0.0618153\ttotal: 804ms\tremaining: 93.3ms\n",
      "896:\tlearn: 0.0617197\ttotal: 805ms\tremaining: 92.4ms\n",
      "897:\tlearn: 0.0615607\ttotal: 806ms\tremaining: 91.5ms\n",
      "898:\tlearn: 0.0614701\ttotal: 807ms\tremaining: 90.6ms\n",
      "899:\tlearn: 0.0613999\ttotal: 808ms\tremaining: 89.7ms\n",
      "900:\tlearn: 0.0613604\ttotal: 808ms\tremaining: 88.8ms\n",
      "901:\tlearn: 0.0612543\ttotal: 809ms\tremaining: 87.9ms\n",
      "902:\tlearn: 0.0611882\ttotal: 810ms\tremaining: 87ms\n",
      "903:\tlearn: 0.0610638\ttotal: 811ms\tremaining: 86.1ms\n",
      "904:\tlearn: 0.0609501\ttotal: 811ms\tremaining: 85.2ms\n",
      "905:\tlearn: 0.0608114\ttotal: 812ms\tremaining: 84.3ms\n",
      "906:\tlearn: 0.0607448\ttotal: 813ms\tremaining: 83.4ms\n",
      "907:\tlearn: 0.0606474\ttotal: 814ms\tremaining: 82.4ms\n",
      "908:\tlearn: 0.0606327\ttotal: 814ms\tremaining: 81.5ms\n",
      "909:\tlearn: 0.0605922\ttotal: 815ms\tremaining: 80.6ms\n",
      "910:\tlearn: 0.0605462\ttotal: 816ms\tremaining: 79.7ms\n",
      "911:\tlearn: 0.0604643\ttotal: 817ms\tremaining: 78.8ms\n",
      "912:\tlearn: 0.0603440\ttotal: 817ms\tremaining: 77.9ms\n",
      "913:\tlearn: 0.0602374\ttotal: 818ms\tremaining: 77ms\n",
      "914:\tlearn: 0.0601975\ttotal: 819ms\tremaining: 76.1ms\n",
      "915:\tlearn: 0.0601677\ttotal: 820ms\tremaining: 75.2ms\n",
      "916:\tlearn: 0.0601050\ttotal: 820ms\tremaining: 74.3ms\n",
      "917:\tlearn: 0.0600502\ttotal: 821ms\tremaining: 73.4ms\n",
      "918:\tlearn: 0.0599290\ttotal: 822ms\tremaining: 72.4ms\n",
      "919:\tlearn: 0.0598008\ttotal: 823ms\tremaining: 71.5ms\n",
      "920:\tlearn: 0.0597830\ttotal: 824ms\tremaining: 70.6ms\n",
      "921:\tlearn: 0.0597405\ttotal: 824ms\tremaining: 69.7ms\n",
      "922:\tlearn: 0.0595714\ttotal: 825ms\tremaining: 68.8ms\n",
      "923:\tlearn: 0.0594589\ttotal: 826ms\tremaining: 67.9ms\n",
      "924:\tlearn: 0.0593937\ttotal: 827ms\tremaining: 67.1ms\n",
      "925:\tlearn: 0.0592801\ttotal: 828ms\tremaining: 66.2ms\n",
      "926:\tlearn: 0.0591684\ttotal: 829ms\tremaining: 65.3ms\n",
      "927:\tlearn: 0.0590397\ttotal: 830ms\tremaining: 64.4ms\n",
      "928:\tlearn: 0.0589816\ttotal: 831ms\tremaining: 63.5ms\n",
      "929:\tlearn: 0.0588689\ttotal: 832ms\tremaining: 62.6ms\n",
      "930:\tlearn: 0.0588181\ttotal: 833ms\tremaining: 61.7ms\n",
      "931:\tlearn: 0.0587455\ttotal: 833ms\tremaining: 60.8ms\n",
      "932:\tlearn: 0.0586968\ttotal: 834ms\tremaining: 59.9ms\n",
      "933:\tlearn: 0.0586063\ttotal: 835ms\tremaining: 59ms\n",
      "934:\tlearn: 0.0585729\ttotal: 836ms\tremaining: 58.1ms\n",
      "935:\tlearn: 0.0584451\ttotal: 837ms\tremaining: 57.2ms\n",
      "936:\tlearn: 0.0583048\ttotal: 838ms\tremaining: 56.3ms\n",
      "937:\tlearn: 0.0582144\ttotal: 838ms\tremaining: 55.4ms\n",
      "938:\tlearn: 0.0581663\ttotal: 839ms\tremaining: 54.5ms\n",
      "939:\tlearn: 0.0581156\ttotal: 840ms\tremaining: 53.6ms\n",
      "940:\tlearn: 0.0580063\ttotal: 841ms\tremaining: 52.7ms\n",
      "941:\tlearn: 0.0578966\ttotal: 842ms\tremaining: 51.8ms\n",
      "942:\tlearn: 0.0578247\ttotal: 842ms\tremaining: 50.9ms\n",
      "943:\tlearn: 0.0577459\ttotal: 843ms\tremaining: 50ms\n",
      "944:\tlearn: 0.0577019\ttotal: 844ms\tremaining: 49.1ms\n",
      "945:\tlearn: 0.0576108\ttotal: 845ms\tremaining: 48.2ms\n",
      "946:\tlearn: 0.0574804\ttotal: 846ms\tremaining: 47.3ms\n",
      "947:\tlearn: 0.0574369\ttotal: 847ms\tremaining: 46.4ms\n",
      "948:\tlearn: 0.0573532\ttotal: 847ms\tremaining: 45.5ms\n",
      "949:\tlearn: 0.0572550\ttotal: 848ms\tremaining: 44.6ms\n",
      "950:\tlearn: 0.0571497\ttotal: 849ms\tremaining: 43.7ms\n",
      "951:\tlearn: 0.0570476\ttotal: 850ms\tremaining: 42.8ms\n",
      "952:\tlearn: 0.0569911\ttotal: 851ms\tremaining: 41.9ms\n",
      "953:\tlearn: 0.0569713\ttotal: 851ms\tremaining: 41.1ms\n",
      "954:\tlearn: 0.0569248\ttotal: 852ms\tremaining: 40.2ms\n",
      "955:\tlearn: 0.0568349\ttotal: 853ms\tremaining: 39.3ms\n",
      "956:\tlearn: 0.0567642\ttotal: 854ms\tremaining: 38.4ms\n",
      "957:\tlearn: 0.0567194\ttotal: 855ms\tremaining: 37.5ms\n",
      "958:\tlearn: 0.0566480\ttotal: 856ms\tremaining: 36.6ms\n",
      "959:\tlearn: 0.0565951\ttotal: 856ms\tremaining: 35.7ms\n",
      "960:\tlearn: 0.0565056\ttotal: 857ms\tremaining: 34.8ms\n",
      "961:\tlearn: 0.0563815\ttotal: 858ms\tremaining: 33.9ms\n",
      "962:\tlearn: 0.0563277\ttotal: 859ms\tremaining: 33ms\n",
      "963:\tlearn: 0.0562152\ttotal: 860ms\tremaining: 32.1ms\n",
      "964:\tlearn: 0.0561262\ttotal: 861ms\tremaining: 31.2ms\n",
      "965:\tlearn: 0.0561119\ttotal: 861ms\tremaining: 30.3ms\n",
      "966:\tlearn: 0.0561046\ttotal: 862ms\tremaining: 29.4ms\n",
      "967:\tlearn: 0.0560287\ttotal: 863ms\tremaining: 28.5ms\n",
      "968:\tlearn: 0.0559722\ttotal: 864ms\tremaining: 27.6ms\n",
      "969:\tlearn: 0.0558644\ttotal: 865ms\tremaining: 26.7ms\n",
      "970:\tlearn: 0.0558366\ttotal: 865ms\tremaining: 25.8ms\n",
      "971:\tlearn: 0.0557618\ttotal: 866ms\tremaining: 25ms\n",
      "972:\tlearn: 0.0557158\ttotal: 867ms\tremaining: 24.1ms\n"
     ]
    },
    {
     "name": "stdout",
     "output_type": "stream",
     "text": [
      "973:\tlearn: 0.0555906\ttotal: 868ms\tremaining: 23.2ms\n",
      "974:\tlearn: 0.0554868\ttotal: 869ms\tremaining: 22.3ms\n",
      "975:\tlearn: 0.0554390\ttotal: 870ms\tremaining: 21.4ms\n",
      "976:\tlearn: 0.0553500\ttotal: 871ms\tremaining: 20.5ms\n",
      "977:\tlearn: 0.0552603\ttotal: 871ms\tremaining: 19.6ms\n",
      "978:\tlearn: 0.0551136\ttotal: 872ms\tremaining: 18.7ms\n",
      "979:\tlearn: 0.0550021\ttotal: 873ms\tremaining: 17.8ms\n",
      "980:\tlearn: 0.0549027\ttotal: 874ms\tremaining: 16.9ms\n",
      "981:\tlearn: 0.0548387\ttotal: 874ms\tremaining: 16ms\n",
      "982:\tlearn: 0.0547999\ttotal: 875ms\tremaining: 15.1ms\n",
      "983:\tlearn: 0.0547641\ttotal: 876ms\tremaining: 14.2ms\n",
      "984:\tlearn: 0.0547063\ttotal: 877ms\tremaining: 13.3ms\n",
      "985:\tlearn: 0.0546975\ttotal: 877ms\tremaining: 12.5ms\n",
      "986:\tlearn: 0.0545971\ttotal: 878ms\tremaining: 11.6ms\n",
      "987:\tlearn: 0.0545118\ttotal: 879ms\tremaining: 10.7ms\n",
      "988:\tlearn: 0.0544858\ttotal: 880ms\tremaining: 9.79ms\n",
      "989:\tlearn: 0.0544368\ttotal: 881ms\tremaining: 8.9ms\n",
      "990:\tlearn: 0.0543671\ttotal: 882ms\tremaining: 8.01ms\n",
      "991:\tlearn: 0.0542721\ttotal: 883ms\tremaining: 7.12ms\n",
      "992:\tlearn: 0.0542412\ttotal: 883ms\tremaining: 6.23ms\n",
      "993:\tlearn: 0.0541914\ttotal: 884ms\tremaining: 5.34ms\n",
      "994:\tlearn: 0.0540546\ttotal: 885ms\tremaining: 4.45ms\n",
      "995:\tlearn: 0.0540018\ttotal: 886ms\tremaining: 3.56ms\n",
      "996:\tlearn: 0.0539294\ttotal: 887ms\tremaining: 2.67ms\n",
      "997:\tlearn: 0.0539218\ttotal: 887ms\tremaining: 1.78ms\n",
      "998:\tlearn: 0.0538878\ttotal: 888ms\tremaining: 889us\n",
      "999:\tlearn: 0.0538220\ttotal: 890ms\tremaining: 0us\n"
     ]
    },
    {
     "data": {
      "text/plain": [
       "<catboost.core.CatBoostRegressor at 0x7f880c160d00>"
      ]
     },
     "execution_count": 9,
     "metadata": {},
     "output_type": "execute_result"
    }
   ],
   "source": [
    "#Train the Model \n",
    "prior_model = ctb.CatBoostRegressor()\n",
    "prior_model.fit(X_train,Y_train)"
   ]
  },
  {
   "cell_type": "code",
   "execution_count": 10,
   "id": "af65dcda",
   "metadata": {
    "execution": {
     "iopub.execute_input": "2022-06-11T15:06:13.837680Z",
     "iopub.status.busy": "2022-06-11T15:06:13.837270Z",
     "iopub.status.idle": "2022-06-11T15:06:13.844806Z",
     "shell.execute_reply": "2022-06-11T15:06:13.845175Z"
    },
    "id": "af65dcda",
    "papermill": {
     "duration": 0.021964,
     "end_time": "2022-06-11T15:06:13.845298",
     "exception": false,
     "start_time": "2022-06-11T15:06:13.823334",
     "status": "completed"
    },
    "tags": []
   },
   "outputs": [
    {
     "data": {
      "application/scrapbook.scrap.json+json": {
       "data": 0.08997004434432325,
       "encoder": "json",
       "name": "Prior Model MSE",
       "version": 1
      }
     },
     "metadata": {
      "scrapbook": {
       "data": true,
       "display": false,
       "name": "Prior Model MSE"
      }
     },
     "output_type": "display_data"
    },
    {
     "data": {
      "application/scrapbook.scrap.json+json": {
       "data": 0.12018487786395272,
       "encoder": "json",
       "name": "ABC Pre-generator MSE",
       "version": 1
      }
     },
     "metadata": {
      "scrapbook": {
       "data": true,
       "display": false,
       "name": "ABC Pre-generator MSE"
      }
     },
     "output_type": "display_data"
    },
    {
     "data": {
      "application/scrapbook.scrap.json+json": {
       "data": 0.21650430842931828,
       "encoder": "json",
       "name": "Prior Model MSE",
       "version": 1
      }
     },
     "metadata": {
      "scrapbook": {
       "data": true,
       "display": false,
       "name": "Prior Model MSE"
      }
     },
     "output_type": "display_data"
    },
    {
     "data": {
      "application/scrapbook.scrap.json+json": {
       "data": 0.26048805357532834,
       "encoder": "json",
       "name": "ABC Pre-generator MSE",
       "version": 1
      }
     },
     "metadata": {
      "scrapbook": {
       "data": true,
       "display": false,
       "name": "ABC Pre-generator MSE"
      }
     },
     "output_type": "display_data"
    }
   ],
   "source": [
    "y_pred = prior_model.predict(X_test)\n",
    "y_abc = y_pred + np.random.normal(0,variance, y_pred.shape) + bias \n",
    "mse = mean_squared_error(y_pred,Y_test)\n",
    "sb.glue(\"Prior Model MSE\",mse)\n",
    "mse = mean_squared_error(y_abc,Y_test)\n",
    "sb.glue(\"ABC Pre-generator MSE\",mse)\n",
    "mae = mean_absolute_error(y_pred,Y_test)\n",
    "sb.glue(\"Prior Model MSE\",mae)\n",
    "mae = mean_absolute_error(y_abc,Y_test)\n",
    "sb.glue(\"ABC Pre-generator MSE\",mae)"
   ]
  },
  {
   "cell_type": "markdown",
   "id": "25609da2",
   "metadata": {
    "papermill": {
     "duration": 0.009766,
     "end_time": "2022-06-11T15:06:13.865381",
     "exception": false,
     "start_time": "2022-06-11T15:06:13.855615",
     "status": "completed"
    },
    "tags": []
   },
   "source": [
    "# ABC GAN Model"
   ]
  },
  {
   "cell_type": "code",
   "execution_count": 11,
   "id": "dfc3464d",
   "metadata": {
    "execution": {
     "iopub.execute_input": "2022-06-11T15:06:13.888017Z",
     "iopub.status.busy": "2022-06-11T15:06:13.887646Z",
     "iopub.status.idle": "2022-06-11T15:06:13.890060Z",
     "shell.execute_reply": "2022-06-11T15:06:13.890296Z"
    },
    "papermill": {
     "duration": 0.015226,
     "end_time": "2022-06-11T15:06:13.890404",
     "exception": false,
     "start_time": "2022-06-11T15:06:13.875178",
     "status": "completed"
    },
    "tags": []
   },
   "outputs": [],
   "source": [
    "gen = network.Generator(n_features+1).to(device)\n",
    "disc = network.Discriminator(n_features+1).to(device)\n",
    "\n",
    "criterion = torch.nn.BCELoss()\n",
    "gen_opt = torch.optim.Adam(gen.parameters(), lr=0.001, betas=(0.5, 0.999))\n",
    "disc_opt = torch.optim.Adam(disc.parameters(), lr=0.001, betas=(0.5, 0.999))"
   ]
  },
  {
   "cell_type": "code",
   "execution_count": 12,
   "id": "b75fdd85",
   "metadata": {
    "execution": {
     "iopub.execute_input": "2022-06-11T15:06:13.912980Z",
     "iopub.status.busy": "2022-06-11T15:06:13.912613Z",
     "iopub.status.idle": "2022-06-11T15:08:57.655598Z",
     "shell.execute_reply": "2022-06-11T15:08:57.655886Z"
    },
    "papermill": {
     "duration": 163.755699,
     "end_time": "2022-06-11T15:08:57.656003",
     "exception": false,
     "start_time": "2022-06-11T15:06:13.900304",
     "status": "completed"
    },
    "tags": []
   },
   "outputs": [
    {
     "data": {
      "image/png": "[encoded data removed]",
      "text/plain": [
       "<Figure size 432x288 with 1 Axes>"
      ]
     },
     "metadata": {
      "needs_background": "light"
     },
     "output_type": "display_data"
    },
    {
     "data": {
      "image/png": "[encoded data removed]",
      "text/plain": [
       "<Figure size 432x288 with 1 Axes>"
      ]
     },
     "metadata": {
      "needs_background": "light"
     },
     "output_type": "display_data"
    }
   ],
   "source": [
    "#Training the ABC_GAN \n",
    "ABC_train_test2.training_GAN(disc,gen,disc_opt,gen_opt,train_data,batch_size,n_epochs,criterion,prior_model,variance,bias,device)"
   ]
  },
  {
   "cell_type": "code",
   "execution_count": 13,
   "id": "1fa7c368",
   "metadata": {
    "execution": {
     "iopub.execute_input": "2022-06-11T15:08:57.681027Z",
     "iopub.status.busy": "2022-06-11T15:08:57.680603Z",
     "iopub.status.idle": "2022-06-11T15:08:57.984298Z",
     "shell.execute_reply": "2022-06-11T15:08:57.984715Z"
    },
    "papermill": {
     "duration": 0.318178,
     "end_time": "2022-06-11T15:08:57.984838",
     "exception": false,
     "start_time": "2022-06-11T15:08:57.666660",
     "status": "completed"
    },
    "tags": []
   },
   "outputs": [
    {
     "data": {
      "application/scrapbook.scrap.json+json": {
       "data": 0.08039902714397594,
       "encoder": "json",
       "name": "ABC-GAN Model 1 MSE",
       "version": 1
      }
     },
     "metadata": {
      "scrapbook": {
       "data": true,
       "display": false,
       "name": "ABC-GAN Model 1 MSE"
      }
     },
     "output_type": "display_data"
    },
    {
     "data": {
      "application/scrapbook.scrap.json+json": {
       "data": 0.2005399317126356,
       "encoder": "json",
       "name": "ABC-GAN Model 1 MAE",
       "version": 1
      }
     },
     "metadata": {
      "scrapbook": {
       "data": true,
       "display": false,
       "name": "ABC-GAN Model 1 MAE"
      }
     },
     "output_type": "display_data"
    },
    {
     "data": {
      "application/scrapbook.scrap.json+json": {
       "data": 20.45507303468883,
       "encoder": "json",
       "name": "ABC-GAN Model 1 Manhattan Distance",
       "version": 1
      }
     },
     "metadata": {
      "scrapbook": {
       "data": true,
       "display": false,
       "name": "ABC-GAN Model 1 Manhattan Distance"
      }
     },
     "output_type": "display_data"
    },
    {
     "data": {
      "application/scrapbook.scrap.json+json": {
       "data": 2.8631591326437955,
       "encoder": "json",
       "name": "ABC-GAN Model 1 Euclidean distance",
       "version": 1
      }
     },
     "metadata": {
      "scrapbook": {
       "data": true,
       "display": false,
       "name": "ABC-GAN Model 1 Euclidean distance"
      }
     },
     "output_type": "display_data"
    },
    {
     "data": {
      "application/scrapbook.scrap.json+json": {
       "data": [
        [
         0.07903446935052054,
         0.07896410500652444,
         0.08504578365585033,
         0.08081759191999294,
         0.07801988516539683,
         0.0759708682648447,
         0.08303077333748506,
         0.08465317210956112,
         0.08087611512761025,
         0.07890218305327533,
         0.08371003159392916,
         0.08078042500230598,
         0.08276093439898499,
         0.07978128748418126,
         0.08684020498228331,
         0.08055201838546185,
         0.07617813647483791,
         0.08622757260724735,
         0.08114680214154486,
         0.08067577221462613,
         0.08344655404167191,
         0.08443736595948441,
         0.07073064808627673,
         0.07735711357907742,
         0.08466749030127728,
         0.08275850772216556,
         0.08168752204485696,
         0.08061457604375317,
         0.07937163262915252,
         0.07803250429625287,
         0.0846049989664928,
         0.08204001136747154,
         0.08218002026124013,
         0.08827837956546591,
         0.07565459824189398,
         0.07961675117234779,
         0.0811664088025403,
         0.07871175254099776,
         0.076405391803855,
         0.08186025374549076,
         0.0782435263494455,
         0.07633713540678909,
         0.08306293232991319,
         0.0768721082383918,
         0.07902848198412056,
         0.07803394951580739,
         0.08092273375504952,
         0.0818777002235545,
         0.07873949723840083,
         0.08067406594726971,
         0.08018384799205718,
         0.08164872268031174,
         0.08623417407363167,
         0.08050731300244915,
         0.08055343193200232,
         0.08333571907415409,
         0.08161568318508758,
         0.07841800465468622,
         0.08073281467960298,
         0.07837110002240408,
         0.07727754431935156,
         0.08279814798110434,
         0.08136740531782408,
         0.08087568966844427,
         0.07912777201466344,
         0.0841365367308059,
         0.07687797098790358,
         0.07490762798490604,
         0.08471382886598779,
         0.07845200734666231,
         0.07803494415080868,
         0.08489607983847432,
         0.08129313794092119,
         0.07551390442730213,
         0.08244170128400509,
         0.08382405252008662,
         0.07751340586358207,
         0.0784651114597741,
         0.07663747127460938,
         0.07650855849384554,
         0.08370674488985334,
         0.07867825155131565,
         0.07800048048536135,
         0.07762963468788844,
         0.08769123985916198,
         0.08084016378839723,
         0.07936349118495094,
         0.07908329425027583,
         0.07652064226063145,
         0.08092042735260124,
         0.07981081484675828,
         0.0766030866166931,
         0.07689149872386468,
         0.0771435016562895,
         0.0816709294861689,
         0.08078275965337348,
         0.0833987513987058,
         0.08238834571707129,
         0.07798913310002249,
         0.08214306868378796
        ],
        [
         0.20295726148155974,
         0.1953049263204722,
         0.20562141339349396,
         0.2035025583726226,
         0.1963582854973627,
         0.19291692747570136,
         0.20113495410438262,
         0.2079444067990955,
         0.1991812216994517,
         0.19963299996201314,
         0.20655193232803368,
         0.20223856193250886,
         0.20963724565637462,
         0.2017854910489975,
         0.21031840560117773,
         0.19967520815849887,
         0.19174464050607354,
         0.2100389770542582,
         0.1986136703258928,
         0.1997825892130826,
         0.2129113337061569,
         0.2035627090280839,
         0.18962189571603255,
         0.20183254488031654,
         0.20635254872853265,
         0.20118992310017347,
         0.19889205717938205,
         0.20122822598718546,
         0.1994604224923487,
         0.19904897593911372,
         0.21058742663658717,
         0.19839280757906974,
         0.20329577959708722,
         0.21053028689222594,
         0.19195534582888962,
         0.2024967129908356,
         0.1991306531480422,
         0.19694432643625667,
         0.19658080541400932,
         0.20408192980011888,
         0.20023603030644796,
         0.19541471935443433,
         0.19876245023938371,
         0.19503297530772054,
         0.19771866034716368,
         0.19422104310098232,
         0.2013903907956738,
         0.20294879051838435,
         0.19542337753170846,
         0.19806917729404042,
         0.20153832236560537,
         0.20678447320253826,
         0.21215150821223563,
         0.20327705818721475,
         0.20131833655942305,
         0.2098496896123477,
         0.20144051147223102,
         0.20407193318447647,
         0.19737948577704967,
         0.1981118273026511,
         0.19972933925615222,
         0.2040169610660158,
         0.20708865016771882,
         0.20165580951188708,
         0.19886007957963966,
         0.20661143969525309,
         0.19473858650627673,
         0.19293418999615253,
         0.20592815376014686,
         0.1959175144997882,
         0.19269556910091756,
         0.20218934898502103,
         0.19895215655731804,
         0.1894939846961814,
         0.1929454012207833,
         0.20650446752780208,
         0.1944945493128662,
         0.19780456088483334,
         0.19637465962738382,
         0.19391394244032165,
         0.2042567399239131,
         0.19760925702604593,
         0.1955988990033374,
         0.19850535970181227,
         0.20941114204698333,
         0.2025072230756575,
         0.20104505769981473,
         0.1966875289913778,
         0.19815350625225725,
         0.19992826347622802,
         0.19648411893742343,
         0.19570223612747356,
         0.19598293737234437,
         0.19764030836157354,
         0.20375861863003059,
         0.20188426909347376,
         0.20179796414267198,
         0.1994849930462592,
         0.20159434722553865,
         0.2049318880536685
        ],
        [
         20.701640671119094,
         19.921102484688163,
         20.973384166136384,
         20.757260954007506,
         20.028545120730996,
         19.67752660252154,
         20.515765318647027,
         21.210329493507743,
         20.316484613344073,
         20.36256599612534,
         21.068297097459435,
         20.628333317115903,
         21.38299905695021,
         20.582120086997747,
         21.45247737132013,
         20.366871232166886,
         19.5579533316195,
         21.423975659534335,
         20.258594373241067,
         20.377824099734426,
         21.716956038028002,
         20.763396320864558,
         19.34143336303532,
         20.586919577792287,
         21.04795997031033,
         20.521372156217694,
         20.286989832296968,
         20.525279050692916,
         20.344963094219565,
         20.3029955457896,
         21.47991751693189,
         20.236066373065114,
         20.736169518902898,
         21.474089263007045,
         19.579445274546742,
         20.65466472506523,
         20.311326621100307,
         20.08832129649818,
         20.05124215222895,
         20.816356839612126,
         20.42407509125769,
         19.932301374152303,
         20.273769924417138,
         19.893363481387496,
         20.167303355410695,
         19.810546396300197,
         20.54181986115873,
         20.700776632875204,
         19.933184508234262,
         20.203056083992124,
         20.556908881291747,
         21.092016266658902,
         21.639453837648034,
         20.734259935095906,
         20.53447032906115,
         21.404668340459466,
         20.546932170167565,
         20.8153371848166,
         20.132707549259067,
         20.20740638487041,
         20.372392604127526,
         20.80973002873361,
         21.12304231710732,
         20.568892570212483,
         20.283728117123246,
         21.074366848915815,
         19.863335823640227,
         19.67928737960756,
         21.00467168353498,
         19.983586478978395,
         19.65494804829359,
         20.623313596472144,
         20.29311996884644,
         19.3283864390105,
         19.680430924519897,
         21.063455687835813,
         19.838444029912353,
         20.176065210253,
         20.03021528199315,
         19.779222128912807,
         20.834187472239137,
         20.156144216656685,
         19.951087698340416,
         20.24754668958485,
         21.3599364887923,
         20.655736753717065,
         20.506595885381103,
         20.062127957120538,
         20.21165763773024,
         20.392682874575257,
         20.04138013161719,
         19.961628085002303,
         19.990259611979127,
         20.1593114528805,
         20.78337910026312,
         20.592195447534323,
         20.583392342552543,
         20.347469290718436,
         20.562623417004943,
         20.903052581474185
        ],
        [
         2.8392808726424184,
         2.838016686114705,
         2.945279262293601,
         2.8711312014325086,
         2.820997746697164,
         2.783707700713952,
         2.9101784963165875,
         2.938472997183271,
         2.8721705630091403,
         2.836903712048416,
         2.9220580457240706,
         2.8704709283034395,
         2.9054458020580025,
         2.852663899478255,
         2.976188990671274,
         2.866409927996536,
         2.7875024520946106,
         2.965672336240002,
         2.8769730305370564,
         2.8686109471121846,
         2.9174558286717103,
         2.9347250855689038,
         2.6859869889484247,
         2.808990136163866,
         2.93872149254234,
         2.905403205694674,
         2.886542438381152,
         2.867522756049692,
         2.845330653575003,
         2.8212258750794468,
         2.937636787382379,
         2.892763585134827,
         2.8952309176724564,
         3.0007323632202727,
         2.777907309589934,
         2.849720796776321,
         2.877320576136609,
         2.8334782087007078,
         2.791657207465345,
         2.889592684452267,
         2.8250379975574558,
         2.790409971938261,
         2.910742018395162,
         2.8001705377201516,
         2.8391733237652637,
         2.8212520005508814,
         2.8729982323376126,
         2.889900590470641,
         2.8339775437213475,
         2.8685806118395045,
         2.859851830985275,
         2.8858568421513566,
         2.965785857999601,
         2.8656144064144105,
         2.8664350781178065,
         2.915517680543837,
         2.8852728960843432,
         2.828186074991883,
         2.8696249053351037,
         2.827340128510402,
         2.8075451057060254,
         2.9060989477429433,
         2.8808810010859616,
         2.872163008288582,
         2.840956308269395,
         2.929492574925255,
         2.800277314975459,
         2.764159556621219,
         2.939525564496889,
         2.828799170913262,
         2.8212699805907415,
         2.9426858723833194,
         2.8795659516625,
         2.7753230895852137,
         2.8998368110927415,
         2.9240474272912933,
         2.8118263456489223,
         2.829035413157099,
         2.795893787326363,
         2.7935412949108596,
         2.922000680828983,
         2.83287515754475,
         2.820646913299652,
         2.8139336769306804,
         2.9907367763871364,
         2.871532118297916,
         2.8451847217474286,
         2.84015774447972,
         2.793761892249303,
         2.872957289965399,
         2.8531917416061163,
         2.7952665051659555,
         2.8005236777849594,
         2.805109118900997,
         2.8862492628997285,
         2.870512408028241,
         2.9166200717042305,
         2.898898284373095,
         2.82044173423283,
         2.89457993597454
        ]
       ],
       "encoder": "json",
       "name": "ABC_GAN_1 Metrics",
       "version": 1
      }
     },
     "metadata": {
      "scrapbook": {
       "data": true,
       "display": false,
       "name": "ABC_GAN_1 Metrics"
      }
     },
     "output_type": "display_data"
    },
    {
     "name": "stdout",
     "output_type": "stream",
     "text": [
      "MSE\n",
      "0.08039902714397594\n"
     ]
    }
   ],
   "source": [
    "ABC_GAN1_metrics=ABC_train_test2.test_generator(gen,test_data,prior_model,variance,bias,\"1\",device)\n",
    "sb.glue(\"ABC_GAN_1 Metrics\",ABC_GAN1_metrics)\n",
    "\n",
    "print(\"MSE\")\n",
    "print(mean(ABC_GAN1_metrics[0]))"
   ]
  },
  {
   "cell_type": "code",
   "execution_count": 14,
   "id": "eb22ce5c",
   "metadata": {
    "execution": {
     "iopub.execute_input": "2022-06-11T15:08:58.013234Z",
     "iopub.status.busy": "2022-06-11T15:08:58.012860Z",
     "iopub.status.idle": "2022-06-11T15:08:58.325827Z",
     "shell.execute_reply": "2022-06-11T15:08:58.326092Z"
    },
    "papermill": {
     "duration": 0.328875,
     "end_time": "2022-06-11T15:08:58.326210",
     "exception": false,
     "start_time": "2022-06-11T15:08:57.997335",
     "status": "completed"
    },
    "tags": []
   },
   "outputs": [
    {
     "data": {
      "image/png": "[encoded data removed]",
      "text/plain": [
       "<Figure size 432x288 with 1 Axes>"
      ]
     },
     "metadata": {
      "needs_background": "light"
     },
     "output_type": "display_data"
    },
    {
     "data": {
      "image/png": "[encoded data removed]",
      "text/plain": [
       "<Figure size 432x288 with 1 Axes>"
      ]
     },
     "metadata": {
      "needs_background": "light"
     },
     "output_type": "display_data"
    },
    {
     "data": {
      "image/png": "[encoded data removed]",
      "text/plain": [
       "<Figure size 432x288 with 1 Axes>"
      ]
     },
     "metadata": {
      "needs_background": "light"
     },
     "output_type": "display_data"
    },
    {
     "data": {
      "image/png": "[encoded data removed]",
      "text/plain": [
       "<Figure size 432x288 with 1 Axes>"
      ]
     },
     "metadata": {
      "needs_background": "light"
     },
     "output_type": "display_data"
    }
   ],
   "source": [
    "sanityChecks.discProbVsError(train_data,disc,device)\n",
    "sanityChecks.discProbVsError(test_data,disc,device)"
   ]
  },
  {
   "cell_type": "markdown",
   "id": "130f3a4d",
   "metadata": {
    "id": "130f3a4d",
    "papermill": {
     "duration": 0.014219,
     "end_time": "2022-06-11T15:08:58.355128",
     "exception": false,
     "start_time": "2022-06-11T15:08:58.340909",
     "status": "completed"
    },
    "tags": []
   },
   "source": [
    "# ABC - GAN Model with skip connection"
   ]
  },
  {
   "cell_type": "code",
   "execution_count": 15,
   "id": "4e43dad1",
   "metadata": {
    "execution": {
     "iopub.execute_input": "2022-06-11T15:08:58.388281Z",
     "iopub.status.busy": "2022-06-11T15:08:58.387895Z",
     "iopub.status.idle": "2022-06-11T15:08:58.390044Z",
     "shell.execute_reply": "2022-06-11T15:08:58.390425Z"
    },
    "id": "4e43dad1",
    "papermill": {
     "duration": 0.021021,
     "end_time": "2022-06-11T15:08:58.390550",
     "exception": false,
     "start_time": "2022-06-11T15:08:58.369529",
     "status": "completed"
    },
    "tags": []
   },
   "outputs": [],
   "source": [
    "#Generator\n",
    "gen3 = network.GeneratorWithSkipConnection(n_features+1).to(device)\n",
    "constraints=network.weightConstraint()\n",
    "#Discriminator \n",
    "disc3 = network.Discriminator(n_features+1).to(device)\n",
    "\n",
    "criterion = torch.nn.BCELoss()\n",
    "gen_opt = torch.optim.Adam(gen3.parameters(), lr=0.001, betas=(0.5, 0.999))\n",
    "disc_opt = torch.optim.Adam(disc3.parameters(), lr=0.001, betas=(0.5, 0.999))\n"
   ]
  },
  {
   "cell_type": "code",
   "execution_count": 16,
   "id": "26acbc37",
   "metadata": {
    "execution": {
     "iopub.execute_input": "2022-06-11T15:08:58.423154Z",
     "iopub.status.busy": "2022-06-11T15:08:58.422782Z",
     "iopub.status.idle": "2022-06-11T15:11:50.544419Z",
     "shell.execute_reply": "2022-06-11T15:11:50.544795Z"
    },
    "id": "26acbc37",
    "papermill": {
     "duration": 172.13926,
     "end_time": "2022-06-11T15:11:50.544918",
     "exception": false,
     "start_time": "2022-06-11T15:08:58.405658",
     "status": "completed"
    },
    "tags": []
   },
   "outputs": [
    {
     "data": {
      "image/png": "[encoded data removed]",
      "text/plain": [
       "<Figure size 432x288 with 1 Axes>"
      ]
     },
     "metadata": {
      "needs_background": "light"
     },
     "output_type": "display_data"
    },
    {
     "data": {
      "image/png": "[encoded data removed]",
      "text/plain": [
       "<Figure size 432x288 with 1 Axes>"
      ]
     },
     "metadata": {
      "needs_background": "light"
     },
     "output_type": "display_data"
    }
   ],
   "source": [
    "ABC_train_test2.training_GAN_skip_connection(disc3,gen3,disc_opt,gen_opt,train_data,batch_size,n_epochs,criterion,prior_model,variance,bias,device)"
   ]
  },
  {
   "cell_type": "code",
   "execution_count": 17,
   "id": "c5e0717b",
   "metadata": {
    "execution": {
     "iopub.execute_input": "2022-06-11T15:11:50.579860Z",
     "iopub.status.busy": "2022-06-11T15:11:50.579463Z",
     "iopub.status.idle": "2022-06-11T15:11:51.403907Z",
     "shell.execute_reply": "2022-06-11T15:11:51.404206Z"
    },
    "id": "c5e0717b",
    "papermill": {
     "duration": 0.843733,
     "end_time": "2022-06-11T15:11:51.404326",
     "exception": false,
     "start_time": "2022-06-11T15:11:50.560593",
     "status": "completed"
    },
    "tags": []
   },
   "outputs": [
    {
     "data": {
      "application/scrapbook.scrap.json+json": {
       "data": 0.08426913907973098,
       "encoder": "json",
       "name": "ABC-GAN Model 3 MSE",
       "version": 1
      }
     },
     "metadata": {
      "scrapbook": {
       "data": true,
       "display": false,
       "name": "ABC-GAN Model 3 MSE"
      }
     },
     "output_type": "display_data"
    },
    {
     "data": {
      "application/scrapbook.scrap.json+json": {
       "data": 0.2097021107491124,
       "encoder": "json",
       "name": "ABC-GAN Model 3 MAE",
       "version": 1
      }
     },
     "metadata": {
      "scrapbook": {
       "data": true,
       "display": false,
       "name": "ABC-GAN Model 3 MAE"
      }
     },
     "output_type": "display_data"
    },
    {
     "data": {
      "application/scrapbook.scrap.json+json": {
       "data": 21.389615296409467,
       "encoder": "json",
       "name": "ABC-GAN Model 3 Manhattan Distance",
       "version": 1
      }
     },
     "metadata": {
      "scrapbook": {
       "data": true,
       "display": false,
       "name": "ABC-GAN Model 3 Manhattan Distance"
      }
     },
     "output_type": "display_data"
    },
    {
     "data": {
      "application/scrapbook.scrap.json+json": {
       "data": 2.931047402867201,
       "encoder": "json",
       "name": "ABC-GAN Model 3 Euclidean distance",
       "version": 1
      }
     },
     "metadata": {
      "scrapbook": {
       "data": true,
       "display": false,
       "name": "ABC-GAN Model 3 Euclidean distance"
      }
     },
     "output_type": "display_data"
    },
    {
     "data": {
      "application/scrapbook.scrap.json+json": {
       "data": [
        [
         0.08793154387282012,
         0.08085010543891472,
         0.0807646400248184,
         0.08260452272311931,
         0.07751094335052845,
         0.08068250211662605,
         0.0862770328922327,
         0.08283705811443043,
         0.08689492923510908,
         0.07171334316824668,
         0.08667707337069282,
         0.081997797748659,
         0.08457801562264188,
         0.08968751386489444,
         0.08514943294759483,
         0.0810641876482922,
         0.09128385337496911,
         0.08658562684056409,
         0.07878935691832187,
         0.08679979562263691,
         0.08684802475594346,
         0.08225261268668536,
         0.07807233128124934,
         0.0851022227607919,
         0.0818979885376299,
         0.08004854618044865,
         0.08249464107662477,
         0.0865754095603271,
         0.0821484311406185,
         0.07750543895613732,
         0.0849534996857767,
         0.08710523240008121,
         0.08817521710064202,
         0.07850049005986728,
         0.08211945976095937,
         0.08543793087997321,
         0.0887836868645347,
         0.08435728257184148,
         0.08397823669997004,
         0.08330745640524895,
         0.08808212730806897,
         0.08345995537754869,
         0.08655781634546765,
         0.08299614969686676,
         0.08535877491675242,
         0.09366302864468323,
         0.08213191385628908,
         0.08467999509270274,
         0.08709095822719279,
         0.07948621975076905,
         0.0854386770632668,
         0.08769093888671908,
         0.07792535980334812,
         0.0905845047716315,
         0.08667934109822326,
         0.08251561168987025,
         0.07999574058223108,
         0.09199152905265841,
         0.08532317825463513,
         0.080068380426446,
         0.08452726668592203,
         0.0892212596898248,
         0.0885461355402619,
         0.08566050619941137,
         0.07830453635131751,
         0.08506733977243464,
         0.08772815497699052,
         0.08069194486709615,
         0.08409507208566462,
         0.0850420709591177,
         0.08444788589511568,
         0.08120810260759519,
         0.08160982768224062,
         0.08529495204143685,
         0.08909488596594427,
         0.08040546815988549,
         0.08728175313184823,
         0.08649721143200212,
         0.08138037946183191,
         0.08723220050030062,
         0.0885977378459704,
         0.08347219527057942,
         0.08182303802285475,
         0.07920411971356231,
         0.08463622916374614,
         0.07463977602047342,
         0.08105322507137107,
         0.08523909146072717,
         0.08565241472060747,
         0.08869285324053545,
         0.08321962655758323,
         0.08238243964679474,
         0.08426918265105034,
         0.08833436168308931,
         0.08824736215554017,
         0.08754674248535009,
         0.08184411814534197,
         0.08836786392522059,
         0.08463607478264823,
         0.08965488629697453
        ],
        [
         0.20992919296829723,
         0.2115377454160183,
         0.2074660938780974,
         0.19995967379095508,
         0.19499052931353741,
         0.20624079973455153,
         0.21441772103528767,
         0.20902249956613078,
         0.21237085341457643,
         0.1924401343270552,
         0.21763065072032167,
         0.20595195639294153,
         0.21036972994824835,
         0.21996271425821617,
         0.20946605506298296,
         0.20823206553491308,
         0.22054527142979935,
         0.2105863435906084,
         0.20325764253114662,
         0.21188473117117787,
         0.2147347799812754,
         0.20813932613122696,
         0.20001342065413208,
         0.21048211594860927,
         0.20134396049394912,
         0.20568457490527162,
         0.20855022844511503,
         0.21068226829098136,
         0.21074367714497974,
         0.19253846464276897,
         0.21265997653644458,
         0.21488634317967237,
         0.21779729387558558,
         0.2032531657091835,
         0.20618723276272125,
         0.21082637407908253,
         0.21918071139896034,
         0.20888141069707333,
         0.2083711603875546,
         0.20287436124521727,
         0.2142184465648789,
         0.2029869767161561,
         0.21299103200070413,
         0.2099516236351109,
         0.2115971871158656,
         0.21985857007915482,
         0.2065701571421004,
         0.21315591287452215,
         0.207933861342277,
         0.20322759191998663,
         0.20985173910637112,
         0.21766721422546634,
         0.20278713890515707,
         0.2169662181689751,
         0.21525911188812233,
         0.21135638477098123,
         0.2097516951388588,
         0.22167841569684885,
         0.21066979873998493,
         0.2099299977770915,
         0.208613417257427,
         0.2172226646513331,
         0.21069973128318203,
         0.20028143730379788,
         0.20417235512286425,
         0.2135951659167368,
         0.21353880409151316,
         0.2080873968627523,
         0.20633754672884358,
         0.2110667067817321,
         0.20168782491236925,
         0.20927400571093255,
         0.20478840378642665,
         0.21780201900458218,
         0.22210786622200235,
         0.19957614081966527,
         0.20964748469437017,
         0.20841004051195056,
         0.1996183040204878,
         0.21612172772852228,
         0.20482422920930035,
         0.21144990370992353,
         0.21098470290684523,
         0.20145361061554914,
         0.20850482694439443,
         0.19314738052586714,
         0.20507627499161982,
         0.21171609273947337,
         0.21613372438678555,
         0.21762912529611997,
         0.2100322479929994,
         0.20853856908997484,
         0.2081796941986563,
         0.2142531450874373,
         0.21134571637958288,
         0.21455426548845044,
         0.21327861265151524,
         0.21792341322254608,
         0.21257049447911627,
         0.2234636771803101
        ],
        [
         21.41277768276632,
         21.576850032433867,
         21.161541575565934,
         20.395886726677418,
         19.889033989980817,
         21.036561572924256,
         21.87060754559934,
         21.32029495574534,
         21.661827048286796,
         19.62889370135963,
         22.19832637347281,
         21.007099552080035,
         21.45771245472133,
         22.43619685433805,
         21.365537616424263,
         21.239670684561133,
         22.495617685839534,
         21.47980704624206,
         20.732279538176954,
         21.612242579460144,
         21.90294755809009,
         21.23021126538515,
         20.401368906721473,
         21.469175826758146,
         20.53708397038281,
         20.979826640337706,
         21.272123301401734,
         21.4895913656801,
         21.495855068787932,
         19.638923393562436,
         21.691317606717348,
         21.918407004326582,
         22.21532397530973,
         20.731822902336717,
         21.031097741797566,
         21.504290156066418,
         22.356432562693954,
         21.30590389110148,
         21.253858359530568,
         20.693184847012162,
         21.850281549617648,
         20.704671625047922,
         21.725085264071822,
         21.415065610781312,
         21.58291308581829,
         22.425574148073792,
         21.07015602849424,
         21.74190311320126,
         21.209253856912255,
         20.729214375838637,
         21.404877388849854,
         22.202055850997567,
         20.68428816832602,
         22.13055425323546,
         21.956429412588477,
         21.558351246640086,
         21.3946729041636,
         22.611198401078582,
         21.488319471478462,
         21.412859773263335,
         21.278568560257554,
         22.156711794435978,
         21.491372590884566,
         20.428706604987383,
         20.825580222532153,
         21.786706923507154,
         21.780958017334342,
         21.224914480000734,
         21.046429766342044,
         21.528804091736674,
         20.572158141061664,
         21.34594858251512,
         20.88841718621552,
         22.215805938467383,
         22.65500235464424,
         20.356766363605857,
         21.384043438825756,
         21.257824132218957,
         20.361067010089755,
         22.044416228309274,
         20.892071379348636,
         21.5678901784122,
         21.520439696498215,
         20.54826828278601,
         21.267492348328233,
         19.70103281363845,
         20.91778004914522,
         21.595041459426284,
         22.045639887452126,
         22.198170780204237,
         21.42328929528594,
         21.270934047177434,
         21.234328808262944,
         21.853820798918605,
         21.557263070717454,
         21.884535079821944,
         21.754418490454555,
         22.2281881486997,
         21.68219043686986,
         22.79329507239163
        ],
        [
         2.994831794112592,
         2.8717086820862074,
         2.8701904610202225,
         2.902698971260741,
         2.8117816810260896,
         2.86873059311882,
         2.966522771698834,
         2.906781713110206,
         2.977126598245551,
         2.704581483919677,
         2.9733922519255116,
         2.892019254839638,
         2.937168295060648,
         3.024586982419125,
         2.9470734908811944,
         2.8755081533749483,
         3.0513854302999563,
         2.97182333555303,
         2.8348746719509186,
         2.9754964549649463,
         2.9763229873631376,
         2.8965093637069272,
         2.821945745525139,
         2.9462563910156856,
         2.890258609681537,
         2.857437962652166,
         2.9007677242095284,
         2.971647989778292,
         2.8946744162933222,
         2.811681840736253,
         2.943680853616646,
         2.980727042989391,
         2.9989785168062615,
         2.8296731235438597,
         2.894163937239537,
         2.952061813336108,
         3.009308236153707,
         2.93333305683617,
         2.9267354071382923,
         2.9150232509081966,
         2.997395033261888,
         2.917690087810898,
         2.971346036266678,
         2.90957166419396,
         2.9506939932003697,
         3.0908945180574654,
         2.894383390869545,
         2.9389384987535343,
         2.9804828030327006,
         2.8473837842093648,
         2.952074704416068,
         2.9907316440037457,
         2.819288332175606,
         3.0396742402281216,
         2.9734311480205444,
         2.9011363967188384,
         2.8564953245870313,
         3.0631904876078395,
         2.95007867386156,
         2.8577919454532537,
         2.9362869754102796,
         3.016714850356614,
         3.005279658385674,
         2.9559045370816626,
         2.8261391876258304,
         2.9456525010238956,
         2.9913662108897716,
         2.8688984604624483,
         2.9287706213935203,
         2.9452149731097736,
         2.9349078965619686,
         2.8780594966009145,
         2.885169392529413,
         2.9495906679108126,
         3.014577643472849,
         2.8638012766790086,
         2.9837457699087766,
         2.970305635126495,
         2.881110672137891,
         2.9828986659004464,
         3.0061552289076787,
         2.91790402816801,
         2.8889357691598447,
         2.8423265489354588,
         2.938178921492377,
         2.7592131403877245,
         2.8753137145848715,
         2.94862465040808,
         2.955764926631,
         3.007768446961071,
         2.913486212233291,
         2.898794377663421,
         2.931800919299797,
         3.0016836761516204,
         3.000205149629788,
         2.9882716967347043,
         2.8893078843946145,
         3.0022528408467695,
         2.9381762417918567,
         3.024036772642059
        ]
       ],
       "encoder": "json",
       "name": "ABC_GAN_3 Metrics",
       "version": 1
      }
     },
     "metadata": {
      "scrapbook": {
       "data": true,
       "display": false,
       "name": "ABC_GAN_3 Metrics"
      }
     },
     "output_type": "display_data"
    },
    {
     "name": "stdout",
     "output_type": "stream",
     "text": [
      "MSE\n",
      "0.08426913907973098\n"
     ]
    }
   ],
   "source": [
    "ABC_GAN3_metrics=ABC_train_test2.test_generator(gen3,test_data,prior_model,variance,bias,\"3\",device)\n",
    "sb.glue(\"ABC_GAN_3 Metrics\",ABC_GAN3_metrics)\n",
    "\n",
    "print(\"MSE\")\n",
    "print(mean(ABC_GAN3_metrics[0]))"
   ]
  },
  {
   "cell_type": "code",
   "execution_count": 18,
   "id": "c8e46b48",
   "metadata": {
    "execution": {
     "iopub.execute_input": "2022-06-11T15:11:51.441492Z",
     "iopub.status.busy": "2022-06-11T15:11:51.441064Z",
     "iopub.status.idle": "2022-06-11T15:11:51.769903Z",
     "shell.execute_reply": "2022-06-11T15:11:51.770158Z"
    },
    "id": "c8e46b48",
    "papermill": {
     "duration": 0.348662,
     "end_time": "2022-06-11T15:11:51.770283",
     "exception": false,
     "start_time": "2022-06-11T15:11:51.421621",
     "status": "completed"
    },
    "tags": []
   },
   "outputs": [
    {
     "data": {
      "image/png": "[encoded data removed]",
      "text/plain": [
       "<Figure size 432x288 with 1 Axes>"
      ]
     },
     "metadata": {
      "needs_background": "light"
     },
     "output_type": "display_data"
    },
    {
     "data": {
      "image/png": "[encoded data removed]",
      "text/plain": [
       "<Figure size 432x288 with 1 Axes>"
      ]
     },
     "metadata": {
      "needs_background": "light"
     },
     "output_type": "display_data"
    },
    {
     "data": {
      "image/png": "[encoded data removed]",
      "text/plain": [
       "<Figure size 432x288 with 1 Axes>"
      ]
     },
     "metadata": {
      "needs_background": "light"
     },
     "output_type": "display_data"
    },
    {
     "data": {
      "image/png": "[encoded data removed]",
      "text/plain": [
       "<Figure size 432x288 with 1 Axes>"
      ]
     },
     "metadata": {
      "needs_background": "light"
     },
     "output_type": "display_data"
    }
   ],
   "source": [
    "sanityChecks.discProbVsError(train_data,disc3,device)\n",
    "sanityChecks.discProbVsError(test_data,disc3,device)"
   ]
  },
  {
   "cell_type": "markdown",
   "id": "a5bd74c3",
   "metadata": {
    "id": "a5bd74c3",
    "papermill": {
     "duration": 0.019846,
     "end_time": "2022-06-11T15:11:51.809937",
     "exception": false,
     "start_time": "2022-06-11T15:11:51.790091",
     "status": "completed"
    },
    "tags": []
   },
   "source": [
    "## Skip Connection Model Analysis - ABC-GAN "
   ]
  },
  {
   "cell_type": "markdown",
   "id": "5744a8bf",
   "metadata": {
    "id": "5744a8bf",
    "papermill": {
     "duration": 0.019358,
     "end_time": "2022-06-11T15:11:51.848664",
     "exception": false,
     "start_time": "2022-06-11T15:11:51.829306",
     "status": "completed"
    },
    "tags": []
   },
   "source": [
    "### Weight Analysis \n",
    "\n",
    "Study the weights of the skip connection layer\n",
    "\n",
    "Equation of the skip connection is \n",
    "\n",
    "$output = y_{gan} * w + y_{abc} * (1-w)$"
   ]
  },
  {
   "cell_type": "code",
   "execution_count": 19,
   "id": "52c31dea",
   "metadata": {
    "execution": {
     "iopub.execute_input": "2022-06-11T15:11:51.890007Z",
     "iopub.status.busy": "2022-06-11T15:11:51.889581Z",
     "iopub.status.idle": "2022-06-11T15:11:51.893025Z",
     "shell.execute_reply": "2022-06-11T15:11:51.893264Z"
    },
    "id": "52c31dea",
    "papermill": {
     "duration": 0.025532,
     "end_time": "2022-06-11T15:11:51.893381",
     "exception": false,
     "start_time": "2022-06-11T15:11:51.867849",
     "status": "completed"
    },
    "tags": []
   },
   "outputs": [
    {
     "name": "stdout",
     "output_type": "stream",
     "text": [
      "Weight of the node at skip connection\n",
      "Parameter containing:\n",
      "tensor([[0.3832]], requires_grad=True)\n"
     ]
    },
    {
     "data": {
      "application/scrapbook.scrap.json+json": {
       "data": 0.3832375407218933,
       "encoder": "json",
       "name": "Skip Connection Weight",
       "version": 1
      }
     },
     "metadata": {
      "scrapbook": {
       "data": true,
       "display": false,
       "name": "Skip Connection Weight"
      }
     },
     "output_type": "display_data"
    }
   ],
   "source": [
    "print(\"Weight of the node at skip connection\")\n",
    "for name,param in gen3.named_parameters():\n",
    "    if(name == \"skipNode.weight\"):\n",
    "        print(param)\n",
    "        sb.glue(\"Skip Connection Weight\",param.item())"
   ]
  }
 ],
 "metadata": {
  "colab": {
   "collapsed_sections": [],
   "name": "ABC_GAN_Model-Catboost_Pre-gen.ipynb",
   "provenance": []
  },
  "interpreter": {
   "hash": "31f2aee4e71d21fbe5cf8b01ff0e069b9275f58929596ceb00d14d90e3e16cd6"
  },
  "kernelspec": {
   "display_name": "Python 3 (ipykernel)",
   "language": "python",
   "name": "python3"
  },
  "language_info": {
   "codemirror_mode": {
    "name": "ipython",
    "version": 3
   },
   "file_extension": ".py",
   "mimetype": "text/x-python",
   "name": "python",
   "nbconvert_exporter": "python",
   "pygments_lexer": "ipython3",
   "version": "3.8.11"
  },
  "papermill": {
   "default_parameters": {},
   "duration": 342.28787,
   "end_time": "2022-06-11T15:11:52.220878",
   "environment_variables": {},
   "exception": null,
   "input_path": "ABC_GAN-Catboost.ipynb",
   "output_path": "./ABC_GAN_Catboost/ABC-GAN_output_1_4.ipynb",
   "parameters": {
    "bias": 0.1,
    "variance": 0.1
   },
   "start_time": "2022-06-11T15:06:09.933008",
   "version": "2.3.3"
  }
 },
 "nbformat": 4,
 "nbformat_minor": 5
}