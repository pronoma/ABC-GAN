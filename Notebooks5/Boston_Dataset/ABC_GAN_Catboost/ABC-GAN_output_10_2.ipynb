{
 "cells": [
  {
   "cell_type": "markdown",
   "id": "622780e6",
   "metadata": {
    "id": "622780e6",
    "papermill": {
     "duration": 0.033986,
     "end_time": "2022-06-12T08:27:46.097574",
     "exception": false,
     "start_time": "2022-06-12T08:27:46.063588",
     "status": "completed"
    },
    "tags": []
   },
   "source": [
    "## Import Libraries "
   ]
  },
  {
   "cell_type": "code",
   "execution_count": 1,
   "id": "a62397e3",
   "metadata": {
    "execution": {
     "iopub.execute_input": "2022-06-12T08:27:46.144571Z",
     "iopub.status.busy": "2022-06-12T08:27:46.143885Z",
     "iopub.status.idle": "2022-06-12T08:27:46.147086Z",
     "shell.execute_reply": "2022-06-12T08:27:46.146664Z"
    },
    "id": "a62397e3",
    "papermill": {
     "duration": 0.033872,
     "end_time": "2022-06-12T08:27:46.147273",
     "exception": false,
     "start_time": "2022-06-12T08:27:46.113401",
     "status": "completed"
    },
    "tags": []
   },
   "outputs": [],
   "source": [
    "import warnings\n",
    "import sys\n",
    "sys.path.insert(0, '../../src')\n",
    "warnings.filterwarnings('ignore')"
   ]
  },
  {
   "cell_type": "code",
   "execution_count": 2,
   "id": "d6a4e155",
   "metadata": {
    "execution": {
     "iopub.execute_input": "2022-06-12T08:27:46.167280Z",
     "iopub.status.busy": "2022-06-12T08:27:46.166881Z",
     "iopub.status.idle": "2022-06-12T08:27:48.058492Z",
     "shell.execute_reply": "2022-06-12T08:27:48.058749Z"
    },
    "id": "d6a4e155",
    "papermill": {
     "duration": 1.902384,
     "end_time": "2022-06-12T08:27:48.058871",
     "exception": false,
     "start_time": "2022-06-12T08:27:46.156487",
     "status": "completed"
    },
    "tags": []
   },
   "outputs": [],
   "source": [
    "import ABC_train_test2\n",
    "import bostonDataset\n",
    "import network\n",
    "import dataset\n",
    "import sanityChecks\n",
    "import torch \n",
    "import scrapbook as sb\n",
    "from statistics import mean \n",
    "import catboost as ctb \n",
    "from sklearn.model_selection import train_test_split\n",
    "from sklearn.metrics import mean_squared_error,mean_absolute_error\n",
    "import numpy as np"
   ]
  },
  {
   "cell_type": "markdown",
   "id": "2fa5b0f7",
   "metadata": {
    "id": "2fa5b0f7",
    "papermill": {
     "duration": 0.006839,
     "end_time": "2022-06-12T08:27:48.072852",
     "exception": false,
     "start_time": "2022-06-12T08:27:48.066013",
     "status": "completed"
    },
    "tags": []
   },
   "source": [
    "## Parameters "
   ]
  },
  {
   "cell_type": "code",
   "execution_count": 3,
   "id": "783186fb",
   "metadata": {
    "execution": {
     "iopub.execute_input": "2022-06-12T08:27:48.088675Z",
     "iopub.status.busy": "2022-06-12T08:27:48.088300Z",
     "iopub.status.idle": "2022-06-12T08:27:48.089616Z",
     "shell.execute_reply": "2022-06-12T08:27:48.089871Z"
    },
    "id": "783186fb",
    "papermill": {
     "duration": 0.010345,
     "end_time": "2022-06-12T08:27:48.089987",
     "exception": false,
     "start_time": "2022-06-12T08:27:48.079642",
     "status": "completed"
    },
    "tags": [
     "parameters"
    ]
   },
   "outputs": [],
   "source": [
    "variance = 1\n",
    "bias = 1 "
   ]
  },
  {
   "cell_type": "code",
   "execution_count": 4,
   "id": "d9f96233",
   "metadata": {
    "execution": {
     "iopub.execute_input": "2022-06-12T08:27:48.105695Z",
     "iopub.status.busy": "2022-06-12T08:27:48.105320Z",
     "iopub.status.idle": "2022-06-12T08:27:48.106657Z",
     "shell.execute_reply": "2022-06-12T08:27:48.106909Z"
    },
    "papermill": {
     "duration": 0.010094,
     "end_time": "2022-06-12T08:27:48.107017",
     "exception": false,
     "start_time": "2022-06-12T08:27:48.096923",
     "status": "completed"
    },
    "tags": [
     "injected-parameters"
    ]
   },
   "outputs": [],
   "source": [
    "# Parameters\n",
    "variance = 0.01\n",
    "bias = 1\n"
   ]
  },
  {
   "cell_type": "markdown",
   "id": "391cdbfd",
   "metadata": {
    "id": "391cdbfd",
    "papermill": {
     "duration": 0.006774,
     "end_time": "2022-06-12T08:27:48.120695",
     "exception": false,
     "start_time": "2022-06-12T08:27:48.113921",
     "status": "completed"
    },
    "tags": []
   },
   "source": [
    "## Dataset \n"
   ]
  },
  {
   "cell_type": "code",
   "execution_count": 5,
   "id": "5b51f161",
   "metadata": {
    "execution": {
     "iopub.execute_input": "2022-06-12T08:27:48.136463Z",
     "iopub.status.busy": "2022-06-12T08:27:48.136065Z",
     "iopub.status.idle": "2022-06-12T08:27:48.137500Z",
     "shell.execute_reply": "2022-06-12T08:27:48.137753Z"
    },
    "id": "5b51f161",
    "papermill": {
     "duration": 0.010359,
     "end_time": "2022-06-12T08:27:48.137875",
     "exception": false,
     "start_time": "2022-06-12T08:27:48.127516",
     "status": "completed"
    },
    "tags": []
   },
   "outputs": [],
   "source": [
    "#Parameters \n",
    "n_features = 13\n",
    "n_samples= 506\n",
    "n_target = 1 "
   ]
  },
  {
   "cell_type": "code",
   "execution_count": 6,
   "id": "5d6eced4",
   "metadata": {
    "execution": {
     "iopub.execute_input": "2022-06-12T08:27:48.155041Z",
     "iopub.status.busy": "2022-06-12T08:27:48.154660Z",
     "iopub.status.idle": "2022-06-12T08:27:48.165628Z",
     "shell.execute_reply": "2022-06-12T08:27:48.165882Z"
    },
    "id": "5d6eced4",
    "papermill": {
     "duration": 0.020837,
     "end_time": "2022-06-12T08:27:48.166000",
     "exception": false,
     "start_time": "2022-06-12T08:27:48.145163",
     "status": "completed"
    },
    "tags": []
   },
   "outputs": [
    {
     "name": "stdout",
     "output_type": "stream",
     "text": [
      "         X1        X2        X3        X4        X5        X6        X7  \\\n",
      "0 -0.419782  0.284830 -1.287909 -0.272599 -0.144217  0.413672 -0.120013   \n",
      "1 -0.417339 -0.487722 -0.593381 -0.272599 -0.740262  0.194274  0.367166   \n",
      "2 -0.417342 -0.487722 -0.593381 -0.272599 -0.740262  1.282714 -0.265812   \n",
      "3 -0.416750 -0.487722 -1.306878 -0.272599 -0.835284  1.016303 -0.809889   \n",
      "4 -0.412482 -0.487722 -1.306878 -0.272599 -0.835284  1.228577 -0.511180   \n",
      "\n",
      "         X8        X9       X10       X11       X12       X13         Y  \n",
      "0  0.140214 -0.982843 -0.666608 -1.459000  0.441052 -1.075562  0.159686  \n",
      "1  0.557160 -0.867883 -0.987329 -0.303094  0.441052 -0.492439 -0.101524  \n",
      "2  0.557160 -0.867883 -0.987329 -0.303094  0.396427 -1.208727  1.324247  \n",
      "3  1.077737 -0.752922 -1.106115  0.113032  0.416163 -1.361517  1.182758  \n",
      "4  1.077737 -0.752922 -1.106115  0.113032  0.441052 -1.026501  1.487503  \n"
     ]
    }
   ],
   "source": [
    "X,Y = bostonDataset.boston_data()"
   ]
  },
  {
   "cell_type": "code",
   "execution_count": 7,
   "id": "fe007438",
   "metadata": {
    "execution": {
     "iopub.execute_input": "2022-06-12T08:27:48.183281Z",
     "iopub.status.busy": "2022-06-12T08:27:48.182910Z",
     "iopub.status.idle": "2022-06-12T08:27:48.184307Z",
     "shell.execute_reply": "2022-06-12T08:27:48.184559Z"
    },
    "id": "fe007438",
    "papermill": {
     "duration": 0.011243,
     "end_time": "2022-06-12T08:27:48.184671",
     "exception": false,
     "start_time": "2022-06-12T08:27:48.173428",
     "status": "completed"
    },
    "tags": []
   },
   "outputs": [],
   "source": [
    "#Train test split for dataset \n",
    "X_train,X_test,Y_train,Y_test = train_test_split(X,Y,test_size = 0.2)\n",
    "train_data = dataset.CustomDataset(X_train,Y_train)\n",
    "test_data = dataset.CustomDataset(X_test,Y_test)\n"
   ]
  },
  {
   "cell_type": "markdown",
   "id": "a9a1af34",
   "metadata": {
    "id": "a9a1af34",
    "papermill": {
     "duration": 0.007033,
     "end_time": "2022-06-12T08:27:48.198996",
     "exception": false,
     "start_time": "2022-06-12T08:27:48.191963",
     "status": "completed"
    },
    "tags": []
   },
   "source": [
    "## Training Parameters "
   ]
  },
  {
   "cell_type": "code",
   "execution_count": 8,
   "id": "952b7fc8",
   "metadata": {
    "execution": {
     "iopub.execute_input": "2022-06-12T08:27:48.215581Z",
     "iopub.status.busy": "2022-06-12T08:27:48.215212Z",
     "iopub.status.idle": "2022-06-12T08:27:48.216504Z",
     "shell.execute_reply": "2022-06-12T08:27:48.216758Z"
    },
    "id": "952b7fc8",
    "papermill": {
     "duration": 0.010707,
     "end_time": "2022-06-12T08:27:48.216864",
     "exception": false,
     "start_time": "2022-06-12T08:27:48.206157",
     "status": "completed"
    },
    "tags": []
   },
   "outputs": [],
   "source": [
    "batch_size = 32\n",
    "n_epochs = 1000\n",
    "#Select the device \n",
    "device = torch.device('cuda' if torch.cuda.is_available() else 'cpu')"
   ]
  },
  {
   "cell_type": "markdown",
   "id": "a95e1600",
   "metadata": {
    "id": "a95e1600",
    "papermill": {
     "duration": 0.007047,
     "end_time": "2022-06-12T08:27:48.231059",
     "exception": false,
     "start_time": "2022-06-12T08:27:48.224012",
     "status": "completed"
    },
    "tags": []
   },
   "source": [
    "# ABC Pre-generator Model \n",
    "\n",
    "1. The catboost model is used as a pre-generator model for the ABC-GAN. \n",
    "2. The model is first trained on the entire dataset \n",
    "3. It generats X,Y pairs and we add some Gaussian noise with mean 0 and variance 1 to it which is then feed as input to the generator.\n"
   ]
  },
  {
   "cell_type": "code",
   "execution_count": 9,
   "id": "ff8ce7bd",
   "metadata": {
    "execution": {
     "iopub.execute_input": "2022-06-12T08:27:48.250029Z",
     "iopub.status.busy": "2022-06-12T08:27:48.249648Z",
     "iopub.status.idle": "2022-06-12T08:27:49.267932Z",
     "shell.execute_reply": "2022-06-12T08:27:49.268172Z"
    },
    "id": "ff8ce7bd",
    "papermill": {
     "duration": 1.030107,
     "end_time": "2022-06-12T08:27:49.268297",
     "exception": false,
     "start_time": "2022-06-12T08:27:48.238190",
     "status": "completed"
    },
    "tags": []
   },
   "outputs": [
    {
     "name": "stdout",
     "output_type": "stream",
     "text": [
      "Learning rate set to 0.033215\n",
      "0:\tlearn: 0.9532831\ttotal: 58.5ms\tremaining: 58.4s\n",
      "1:\tlearn: 0.9355302\ttotal: 59.5ms\tremaining: 29.7s\n",
      "2:\tlearn: 0.9168964\ttotal: 60.6ms\tremaining: 20.1s\n",
      "3:\tlearn: 0.9018785\ttotal: 61.5ms\tremaining: 15.3s\n",
      "4:\tlearn: 0.8867171\ttotal: 62.7ms\tremaining: 12.5s\n",
      "5:\tlearn: 0.8730995\ttotal: 63.8ms\tremaining: 10.6s\n",
      "6:\tlearn: 0.8566896\ttotal: 64.7ms\tremaining: 9.18s\n",
      "7:\tlearn: 0.8417684\ttotal: 65.7ms\tremaining: 8.15s\n",
      "8:\tlearn: 0.8280612\ttotal: 66.4ms\tremaining: 7.32s\n",
      "9:\tlearn: 0.8131032\ttotal: 67.4ms\tremaining: 6.67s\n",
      "10:\tlearn: 0.7990506\ttotal: 68.2ms\tremaining: 6.13s\n",
      "11:\tlearn: 0.7866699\ttotal: 69ms\tremaining: 5.68s\n",
      "12:\tlearn: 0.7717493\ttotal: 69.7ms\tremaining: 5.29s\n",
      "13:\tlearn: 0.7584249\ttotal: 71.3ms\tremaining: 5.02s\n",
      "14:\tlearn: 0.7467603\ttotal: 72.1ms\tremaining: 4.74s\n",
      "15:\tlearn: 0.7334136\ttotal: 72.9ms\tremaining: 4.48s\n",
      "16:\tlearn: 0.7228231\ttotal: 73.7ms\tremaining: 4.26s\n",
      "17:\tlearn: 0.7111588\ttotal: 74.5ms\tremaining: 4.06s\n",
      "18:\tlearn: 0.6998199\ttotal: 75.3ms\tremaining: 3.89s\n",
      "19:\tlearn: 0.6881615\ttotal: 76ms\tremaining: 3.72s\n",
      "20:\tlearn: 0.6751281\ttotal: 76.8ms\tremaining: 3.58s\n",
      "21:\tlearn: 0.6645298\ttotal: 77.5ms\tremaining: 3.45s\n",
      "22:\tlearn: 0.6536085\ttotal: 78.4ms\tremaining: 3.33s\n",
      "23:\tlearn: 0.6446248\ttotal: 79.2ms\tremaining: 3.22s\n",
      "24:\tlearn: 0.6353534\ttotal: 80.6ms\tremaining: 3.14s\n",
      "25:\tlearn: 0.6279496\ttotal: 81.5ms\tremaining: 3.05s\n",
      "26:\tlearn: 0.6192937\ttotal: 82.4ms\tremaining: 2.97s\n",
      "27:\tlearn: 0.6107365\ttotal: 83.3ms\tremaining: 2.89s\n",
      "28:\tlearn: 0.6006932\ttotal: 84.1ms\tremaining: 2.81s\n",
      "29:\tlearn: 0.5913191\ttotal: 84.9ms\tremaining: 2.75s\n",
      "30:\tlearn: 0.5823486\ttotal: 85.7ms\tremaining: 2.68s\n",
      "31:\tlearn: 0.5747753\ttotal: 86.4ms\tremaining: 2.61s\n",
      "32:\tlearn: 0.5680892\ttotal: 87ms\tremaining: 2.55s\n",
      "33:\tlearn: 0.5611432\ttotal: 87.9ms\tremaining: 2.5s\n",
      "34:\tlearn: 0.5549468\ttotal: 88.6ms\tremaining: 2.44s\n",
      "35:\tlearn: 0.5483593\ttotal: 89.5ms\tremaining: 2.4s\n",
      "36:\tlearn: 0.5425413\ttotal: 90.4ms\tremaining: 2.35s\n",
      "37:\tlearn: 0.5355296\ttotal: 91.2ms\tremaining: 2.31s\n",
      "38:\tlearn: 0.5282937\ttotal: 92ms\tremaining: 2.27s\n",
      "39:\tlearn: 0.5207218\ttotal: 93ms\tremaining: 2.23s\n",
      "40:\tlearn: 0.5155439\ttotal: 93.9ms\tremaining: 2.19s\n",
      "41:\tlearn: 0.5085836\ttotal: 94.7ms\tremaining: 2.16s\n",
      "42:\tlearn: 0.5033782\ttotal: 95.5ms\tremaining: 2.13s\n",
      "43:\tlearn: 0.4979545\ttotal: 96.4ms\tremaining: 2.09s\n",
      "44:\tlearn: 0.4931268\ttotal: 97.1ms\tremaining: 2.06s\n",
      "45:\tlearn: 0.4862176\ttotal: 97.9ms\tremaining: 2.03s\n",
      "46:\tlearn: 0.4818985\ttotal: 98.9ms\tremaining: 2s\n",
      "47:\tlearn: 0.4763855\ttotal: 99.7ms\tremaining: 1.98s\n",
      "48:\tlearn: 0.4715125\ttotal: 101ms\tremaining: 1.95s\n",
      "49:\tlearn: 0.4670160\ttotal: 101ms\tremaining: 1.93s\n",
      "50:\tlearn: 0.4615948\ttotal: 102ms\tremaining: 1.9s\n",
      "51:\tlearn: 0.4571343\ttotal: 103ms\tremaining: 1.88s\n",
      "52:\tlearn: 0.4508970\ttotal: 104ms\tremaining: 1.86s\n",
      "53:\tlearn: 0.4476779\ttotal: 104ms\tremaining: 1.83s\n",
      "54:\tlearn: 0.4430930\ttotal: 106ms\tremaining: 1.82s\n",
      "55:\tlearn: 0.4397025\ttotal: 107ms\tremaining: 1.8s\n"
     ]
    },
    {
     "name": "stdout",
     "output_type": "stream",
     "text": [
      "56:\tlearn: 0.4361520\ttotal: 108ms\tremaining: 1.78s\n",
      "57:\tlearn: 0.4315866\ttotal: 109ms\tremaining: 1.76s\n",
      "58:\tlearn: 0.4279397\ttotal: 109ms\tremaining: 1.75s\n",
      "59:\tlearn: 0.4236404\ttotal: 110ms\tremaining: 1.73s\n",
      "60:\tlearn: 0.4198909\ttotal: 111ms\tremaining: 1.71s\n",
      "61:\tlearn: 0.4167634\ttotal: 112ms\tremaining: 1.69s\n",
      "62:\tlearn: 0.4122780\ttotal: 114ms\tremaining: 1.69s\n",
      "63:\tlearn: 0.4085542\ttotal: 114ms\tremaining: 1.67s\n",
      "64:\tlearn: 0.4058283\ttotal: 115ms\tremaining: 1.66s\n",
      "65:\tlearn: 0.4029830\ttotal: 116ms\tremaining: 1.64s\n",
      "66:\tlearn: 0.3991142\ttotal: 117ms\tremaining: 1.63s\n",
      "67:\tlearn: 0.3962301\ttotal: 118ms\tremaining: 1.61s\n",
      "68:\tlearn: 0.3927092\ttotal: 118ms\tremaining: 1.6s\n",
      "69:\tlearn: 0.3898790\ttotal: 119ms\tremaining: 1.58s\n",
      "70:\tlearn: 0.3859315\ttotal: 120ms\tremaining: 1.57s\n",
      "71:\tlearn: 0.3820309\ttotal: 121ms\tremaining: 1.56s\n",
      "72:\tlearn: 0.3797053\ttotal: 123ms\tremaining: 1.56s\n",
      "73:\tlearn: 0.3762537\ttotal: 124ms\tremaining: 1.55s\n",
      "74:\tlearn: 0.3732216\ttotal: 124ms\tremaining: 1.53s\n",
      "75:\tlearn: 0.3703831\ttotal: 125ms\tremaining: 1.52s\n",
      "76:\tlearn: 0.3676840\ttotal: 126ms\tremaining: 1.51s\n",
      "77:\tlearn: 0.3644830\ttotal: 127ms\tremaining: 1.5s\n",
      "78:\tlearn: 0.3617601\ttotal: 128ms\tremaining: 1.49s\n",
      "79:\tlearn: 0.3591022\ttotal: 129ms\tremaining: 1.49s\n",
      "80:\tlearn: 0.3564216\ttotal: 130ms\tremaining: 1.48s\n",
      "81:\tlearn: 0.3541560\ttotal: 131ms\tremaining: 1.47s\n",
      "82:\tlearn: 0.3516666\ttotal: 132ms\tremaining: 1.46s\n",
      "83:\tlearn: 0.3492751\ttotal: 133ms\tremaining: 1.45s\n",
      "84:\tlearn: 0.3463337\ttotal: 134ms\tremaining: 1.44s\n",
      "85:\tlearn: 0.3442506\ttotal: 135ms\tremaining: 1.43s\n",
      "86:\tlearn: 0.3420386\ttotal: 135ms\tremaining: 1.42s\n",
      "87:\tlearn: 0.3388820\ttotal: 136ms\tremaining: 1.41s\n",
      "88:\tlearn: 0.3364312\ttotal: 137ms\tremaining: 1.41s\n",
      "89:\tlearn: 0.3341763\ttotal: 138ms\tremaining: 1.4s\n",
      "90:\tlearn: 0.3324401\ttotal: 139ms\tremaining: 1.39s\n",
      "91:\tlearn: 0.3306925\ttotal: 140ms\tremaining: 1.38s\n",
      "92:\tlearn: 0.3287325\ttotal: 141ms\tremaining: 1.37s\n",
      "93:\tlearn: 0.3268864\ttotal: 142ms\tremaining: 1.36s\n",
      "94:\tlearn: 0.3245679\ttotal: 142ms\tremaining: 1.36s\n",
      "95:\tlearn: 0.3230947\ttotal: 143ms\tremaining: 1.35s\n",
      "96:\tlearn: 0.3215584\ttotal: 144ms\tremaining: 1.34s\n",
      "97:\tlearn: 0.3200210\ttotal: 145ms\tremaining: 1.34s\n",
      "98:\tlearn: 0.3184528\ttotal: 146ms\tremaining: 1.33s\n",
      "99:\tlearn: 0.3170875\ttotal: 147ms\tremaining: 1.32s\n",
      "100:\tlearn: 0.3151656\ttotal: 148ms\tremaining: 1.31s\n",
      "101:\tlearn: 0.3133638\ttotal: 148ms\tremaining: 1.31s\n",
      "102:\tlearn: 0.3118470\ttotal: 149ms\tremaining: 1.3s\n",
      "103:\tlearn: 0.3099657\ttotal: 151ms\tremaining: 1.3s\n",
      "104:\tlearn: 0.3086063\ttotal: 152ms\tremaining: 1.3s\n",
      "105:\tlearn: 0.3069429\ttotal: 153ms\tremaining: 1.29s\n",
      "106:\tlearn: 0.3052421\ttotal: 154ms\tremaining: 1.28s\n",
      "107:\tlearn: 0.3035182\ttotal: 155ms\tremaining: 1.28s\n",
      "108:\tlearn: 0.3019699\ttotal: 155ms\tremaining: 1.27s\n",
      "109:\tlearn: 0.3007041\ttotal: 156ms\tremaining: 1.26s\n",
      "110:\tlearn: 0.2991189\ttotal: 157ms\tremaining: 1.26s\n",
      "111:\tlearn: 0.2976913\ttotal: 158ms\tremaining: 1.25s\n",
      "112:\tlearn: 0.2957023\ttotal: 159ms\tremaining: 1.25s\n",
      "113:\tlearn: 0.2942555\ttotal: 161ms\tremaining: 1.25s\n",
      "114:\tlearn: 0.2927136\ttotal: 162ms\tremaining: 1.24s\n",
      "115:\tlearn: 0.2911979\ttotal: 162ms\tremaining: 1.24s\n",
      "116:\tlearn: 0.2899864\ttotal: 163ms\tremaining: 1.23s\n",
      "117:\tlearn: 0.2884441\ttotal: 164ms\tremaining: 1.23s\n",
      "118:\tlearn: 0.2873141\ttotal: 165ms\tremaining: 1.22s\n",
      "119:\tlearn: 0.2865160\ttotal: 166ms\tremaining: 1.22s\n",
      "120:\tlearn: 0.2850927\ttotal: 167ms\tremaining: 1.21s\n",
      "121:\tlearn: 0.2841177\ttotal: 167ms\tremaining: 1.21s\n",
      "122:\tlearn: 0.2835722\ttotal: 168ms\tremaining: 1.2s\n",
      "123:\tlearn: 0.2819333\ttotal: 169ms\tremaining: 1.19s\n",
      "124:\tlearn: 0.2807738\ttotal: 170ms\tremaining: 1.19s\n",
      "125:\tlearn: 0.2797093\ttotal: 171ms\tremaining: 1.18s\n",
      "126:\tlearn: 0.2780310\ttotal: 171ms\tremaining: 1.18s\n",
      "127:\tlearn: 0.2765216\ttotal: 172ms\tremaining: 1.17s\n",
      "128:\tlearn: 0.2752260\ttotal: 173ms\tremaining: 1.17s\n",
      "129:\tlearn: 0.2741462\ttotal: 174ms\tremaining: 1.16s\n",
      "130:\tlearn: 0.2734434\ttotal: 175ms\tremaining: 1.16s\n",
      "131:\tlearn: 0.2725633\ttotal: 176ms\tremaining: 1.16s\n",
      "132:\tlearn: 0.2720549\ttotal: 177ms\tremaining: 1.15s\n",
      "133:\tlearn: 0.2709855\ttotal: 178ms\tremaining: 1.15s\n",
      "134:\tlearn: 0.2701251\ttotal: 178ms\tremaining: 1.14s\n",
      "135:\tlearn: 0.2690434\ttotal: 179ms\tremaining: 1.14s\n",
      "136:\tlearn: 0.2679931\ttotal: 180ms\tremaining: 1.13s\n",
      "137:\tlearn: 0.2672160\ttotal: 181ms\tremaining: 1.13s\n",
      "138:\tlearn: 0.2666202\ttotal: 182ms\tremaining: 1.13s\n",
      "139:\tlearn: 0.2659174\ttotal: 183ms\tremaining: 1.12s\n",
      "140:\tlearn: 0.2647131\ttotal: 183ms\tremaining: 1.12s\n",
      "141:\tlearn: 0.2634774\ttotal: 184ms\tremaining: 1.11s\n",
      "142:\tlearn: 0.2625800\ttotal: 185ms\tremaining: 1.11s\n",
      "143:\tlearn: 0.2618279\ttotal: 186ms\tremaining: 1.1s\n",
      "144:\tlearn: 0.2607525\ttotal: 187ms\tremaining: 1.1s\n",
      "145:\tlearn: 0.2597842\ttotal: 188ms\tremaining: 1.1s\n",
      "146:\tlearn: 0.2587879\ttotal: 188ms\tremaining: 1.09s\n",
      "147:\tlearn: 0.2577434\ttotal: 189ms\tremaining: 1.09s\n",
      "148:\tlearn: 0.2569544\ttotal: 190ms\tremaining: 1.08s\n",
      "149:\tlearn: 0.2560326\ttotal: 191ms\tremaining: 1.08s\n"
     ]
    },
    {
     "name": "stdout",
     "output_type": "stream",
     "text": [
      "150:\tlearn: 0.2552030\ttotal: 192ms\tremaining: 1.08s\n",
      "151:\tlearn: 0.2542872\ttotal: 193ms\tremaining: 1.08s\n",
      "152:\tlearn: 0.2532478\ttotal: 194ms\tremaining: 1.07s\n",
      "153:\tlearn: 0.2524520\ttotal: 195ms\tremaining: 1.07s\n",
      "154:\tlearn: 0.2511728\ttotal: 196ms\tremaining: 1.07s\n",
      "155:\tlearn: 0.2506409\ttotal: 198ms\tremaining: 1.07s\n",
      "156:\tlearn: 0.2499249\ttotal: 199ms\tremaining: 1.06s\n",
      "157:\tlearn: 0.2492934\ttotal: 199ms\tremaining: 1.06s\n",
      "158:\tlearn: 0.2486467\ttotal: 200ms\tremaining: 1.06s\n",
      "159:\tlearn: 0.2480389\ttotal: 201ms\tremaining: 1.05s\n",
      "160:\tlearn: 0.2473355\ttotal: 202ms\tremaining: 1.05s\n",
      "161:\tlearn: 0.2463876\ttotal: 203ms\tremaining: 1.05s\n",
      "162:\tlearn: 0.2458209\ttotal: 204ms\tremaining: 1.04s\n",
      "163:\tlearn: 0.2449731\ttotal: 205ms\tremaining: 1.04s\n",
      "164:\tlearn: 0.2441799\ttotal: 205ms\tremaining: 1.04s\n",
      "165:\tlearn: 0.2432525\ttotal: 206ms\tremaining: 1.03s\n",
      "166:\tlearn: 0.2422143\ttotal: 207ms\tremaining: 1.03s\n",
      "167:\tlearn: 0.2414563\ttotal: 208ms\tremaining: 1.03s\n",
      "168:\tlearn: 0.2407939\ttotal: 209ms\tremaining: 1.03s\n",
      "169:\tlearn: 0.2400418\ttotal: 210ms\tremaining: 1.02s\n",
      "170:\tlearn: 0.2392724\ttotal: 210ms\tremaining: 1.02s\n",
      "171:\tlearn: 0.2382979\ttotal: 212ms\tremaining: 1.02s\n",
      "172:\tlearn: 0.2374851\ttotal: 212ms\tremaining: 1.01s\n",
      "173:\tlearn: 0.2369193\ttotal: 213ms\tremaining: 1.01s\n",
      "174:\tlearn: 0.2362383\ttotal: 214ms\tremaining: 1.01s\n",
      "175:\tlearn: 0.2357188\ttotal: 215ms\tremaining: 1.01s\n",
      "176:\tlearn: 0.2352744\ttotal: 216ms\tremaining: 1s\n",
      "177:\tlearn: 0.2346413\ttotal: 217ms\tremaining: 1s\n",
      "178:\tlearn: 0.2339190\ttotal: 218ms\tremaining: 998ms\n",
      "179:\tlearn: 0.2331897\ttotal: 218ms\tremaining: 995ms\n",
      "180:\tlearn: 0.2325423\ttotal: 219ms\tremaining: 991ms\n",
      "181:\tlearn: 0.2315689\ttotal: 220ms\tremaining: 989ms\n",
      "182:\tlearn: 0.2309909\ttotal: 221ms\tremaining: 986ms\n",
      "183:\tlearn: 0.2302076\ttotal: 222ms\tremaining: 983ms\n",
      "184:\tlearn: 0.2293695\ttotal: 223ms\tremaining: 981ms\n",
      "185:\tlearn: 0.2287198\ttotal: 223ms\tremaining: 977ms\n",
      "186:\tlearn: 0.2281788\ttotal: 224ms\tremaining: 975ms\n",
      "187:\tlearn: 0.2275204\ttotal: 225ms\tremaining: 972ms\n",
      "188:\tlearn: 0.2267548\ttotal: 226ms\tremaining: 969ms\n",
      "189:\tlearn: 0.2262418\ttotal: 227ms\tremaining: 967ms\n",
      "190:\tlearn: 0.2256025\ttotal: 228ms\tremaining: 964ms\n",
      "191:\tlearn: 0.2248141\ttotal: 228ms\tremaining: 961ms\n",
      "192:\tlearn: 0.2238911\ttotal: 229ms\tremaining: 958ms\n",
      "193:\tlearn: 0.2231704\ttotal: 230ms\tremaining: 956ms\n",
      "194:\tlearn: 0.2223681\ttotal: 231ms\tremaining: 953ms\n",
      "195:\tlearn: 0.2216966\ttotal: 232ms\tremaining: 950ms\n",
      "196:\tlearn: 0.2212281\ttotal: 233ms\tremaining: 948ms\n",
      "197:\tlearn: 0.2205685\ttotal: 233ms\tremaining: 946ms\n",
      "198:\tlearn: 0.2202264\ttotal: 234ms\tremaining: 943ms\n",
      "199:\tlearn: 0.2197523\ttotal: 235ms\tremaining: 941ms\n",
      "200:\tlearn: 0.2193586\ttotal: 236ms\tremaining: 939ms\n",
      "201:\tlearn: 0.2187190\ttotal: 237ms\tremaining: 937ms\n",
      "202:\tlearn: 0.2179693\ttotal: 239ms\tremaining: 937ms\n",
      "203:\tlearn: 0.2172651\ttotal: 240ms\tremaining: 935ms\n",
      "204:\tlearn: 0.2164191\ttotal: 240ms\tremaining: 932ms\n",
      "205:\tlearn: 0.2156234\ttotal: 241ms\tremaining: 929ms\n",
      "206:\tlearn: 0.2151025\ttotal: 242ms\tremaining: 927ms\n",
      "207:\tlearn: 0.2146390\ttotal: 243ms\tremaining: 924ms\n",
      "208:\tlearn: 0.2141355\ttotal: 243ms\tremaining: 922ms\n",
      "209:\tlearn: 0.2137490\ttotal: 244ms\tremaining: 919ms\n",
      "210:\tlearn: 0.2130535\ttotal: 245ms\tremaining: 917ms\n",
      "211:\tlearn: 0.2125967\ttotal: 246ms\tremaining: 915ms\n",
      "212:\tlearn: 0.2123422\ttotal: 247ms\tremaining: 912ms\n",
      "213:\tlearn: 0.2116065\ttotal: 248ms\tremaining: 909ms\n",
      "214:\tlearn: 0.2109091\ttotal: 248ms\tremaining: 907ms\n",
      "215:\tlearn: 0.2103566\ttotal: 249ms\tremaining: 905ms\n",
      "216:\tlearn: 0.2097682\ttotal: 250ms\tremaining: 903ms\n",
      "217:\tlearn: 0.2094024\ttotal: 251ms\tremaining: 900ms\n",
      "218:\tlearn: 0.2087919\ttotal: 252ms\tremaining: 898ms\n",
      "219:\tlearn: 0.2084778\ttotal: 253ms\tremaining: 896ms\n",
      "220:\tlearn: 0.2077995\ttotal: 253ms\tremaining: 893ms\n",
      "221:\tlearn: 0.2070511\ttotal: 254ms\tremaining: 891ms\n",
      "222:\tlearn: 0.2064269\ttotal: 255ms\tremaining: 889ms\n",
      "223:\tlearn: 0.2058723\ttotal: 256ms\tremaining: 887ms\n",
      "224:\tlearn: 0.2054274\ttotal: 257ms\tremaining: 885ms\n",
      "225:\tlearn: 0.2049548\ttotal: 258ms\tremaining: 883ms\n",
      "226:\tlearn: 0.2044685\ttotal: 259ms\tremaining: 881ms\n",
      "227:\tlearn: 0.2039654\ttotal: 259ms\tremaining: 878ms\n",
      "228:\tlearn: 0.2033324\ttotal: 260ms\tremaining: 876ms\n",
      "229:\tlearn: 0.2028962\ttotal: 261ms\tremaining: 874ms\n",
      "230:\tlearn: 0.2023439\ttotal: 262ms\tremaining: 872ms\n",
      "231:\tlearn: 0.2020724\ttotal: 263ms\tremaining: 870ms\n",
      "232:\tlearn: 0.2016434\ttotal: 264ms\tremaining: 868ms\n",
      "233:\tlearn: 0.2011938\ttotal: 265ms\tremaining: 866ms\n",
      "234:\tlearn: 0.2006989\ttotal: 265ms\tremaining: 864ms\n",
      "235:\tlearn: 0.2002706\ttotal: 266ms\tremaining: 861ms\n",
      "236:\tlearn: 0.1998018\ttotal: 267ms\tremaining: 859ms\n",
      "237:\tlearn: 0.1992918\ttotal: 268ms\tremaining: 857ms\n",
      "238:\tlearn: 0.1988562\ttotal: 268ms\tremaining: 855ms\n",
      "239:\tlearn: 0.1984849\ttotal: 269ms\tremaining: 853ms\n",
      "240:\tlearn: 0.1979179\ttotal: 270ms\tremaining: 850ms\n",
      "241:\tlearn: 0.1973934\ttotal: 271ms\tremaining: 848ms\n",
      "242:\tlearn: 0.1968131\ttotal: 272ms\tremaining: 847ms\n",
      "243:\tlearn: 0.1961500\ttotal: 273ms\tremaining: 845ms\n",
      "244:\tlearn: 0.1959028\ttotal: 274ms\tremaining: 843ms\n",
      "245:\tlearn: 0.1952127\ttotal: 274ms\tremaining: 841ms\n",
      "246:\tlearn: 0.1948315\ttotal: 275ms\tremaining: 839ms\n",
      "247:\tlearn: 0.1942599\ttotal: 276ms\tremaining: 837ms\n",
      "248:\tlearn: 0.1938535\ttotal: 277ms\tremaining: 835ms\n",
      "249:\tlearn: 0.1932303\ttotal: 278ms\tremaining: 833ms\n",
      "250:\tlearn: 0.1929485\ttotal: 279ms\tremaining: 832ms\n",
      "251:\tlearn: 0.1926899\ttotal: 280ms\tremaining: 830ms\n",
      "252:\tlearn: 0.1924840\ttotal: 280ms\tremaining: 827ms\n",
      "253:\tlearn: 0.1921982\ttotal: 281ms\tremaining: 825ms\n",
      "254:\tlearn: 0.1916962\ttotal: 282ms\tremaining: 823ms\n",
      "255:\tlearn: 0.1911595\ttotal: 283ms\tremaining: 821ms\n",
      "256:\tlearn: 0.1910651\ttotal: 283ms\tremaining: 819ms\n",
      "257:\tlearn: 0.1907141\ttotal: 284ms\tremaining: 817ms\n",
      "258:\tlearn: 0.1904710\ttotal: 285ms\tremaining: 816ms\n",
      "259:\tlearn: 0.1900814\ttotal: 286ms\tremaining: 814ms\n",
      "260:\tlearn: 0.1893910\ttotal: 287ms\tremaining: 812ms\n",
      "261:\tlearn: 0.1890409\ttotal: 288ms\tremaining: 810ms\n",
      "262:\tlearn: 0.1884659\ttotal: 289ms\tremaining: 809ms\n",
      "263:\tlearn: 0.1879271\ttotal: 289ms\tremaining: 807ms\n",
      "264:\tlearn: 0.1873549\ttotal: 290ms\tremaining: 805ms\n",
      "265:\tlearn: 0.1868596\ttotal: 291ms\tremaining: 803ms\n",
      "266:\tlearn: 0.1864534\ttotal: 292ms\tremaining: 801ms\n",
      "267:\tlearn: 0.1859183\ttotal: 293ms\tremaining: 800ms\n",
      "268:\tlearn: 0.1853664\ttotal: 294ms\tremaining: 798ms\n",
      "269:\tlearn: 0.1850463\ttotal: 294ms\tremaining: 796ms\n",
      "270:\tlearn: 0.1846245\ttotal: 295ms\tremaining: 795ms\n",
      "271:\tlearn: 0.1843850\ttotal: 296ms\tremaining: 793ms\n",
      "272:\tlearn: 0.1838564\ttotal: 297ms\tremaining: 791ms\n",
      "273:\tlearn: 0.1836405\ttotal: 298ms\tremaining: 789ms\n"
     ]
    },
    {
     "name": "stdout",
     "output_type": "stream",
     "text": [
      "274:\tlearn: 0.1831008\ttotal: 299ms\tremaining: 788ms\n",
      "275:\tlearn: 0.1826747\ttotal: 300ms\tremaining: 786ms\n",
      "276:\tlearn: 0.1824708\ttotal: 300ms\tremaining: 784ms\n",
      "277:\tlearn: 0.1818150\ttotal: 301ms\tremaining: 782ms\n",
      "278:\tlearn: 0.1813741\ttotal: 302ms\tremaining: 781ms\n",
      "279:\tlearn: 0.1811893\ttotal: 304ms\tremaining: 781ms\n",
      "280:\tlearn: 0.1809897\ttotal: 305ms\tremaining: 780ms\n",
      "281:\tlearn: 0.1805175\ttotal: 305ms\tremaining: 778ms\n",
      "282:\tlearn: 0.1798302\ttotal: 306ms\tremaining: 776ms\n",
      "283:\tlearn: 0.1792850\ttotal: 307ms\tremaining: 774ms\n",
      "284:\tlearn: 0.1789174\ttotal: 308ms\tremaining: 772ms\n",
      "285:\tlearn: 0.1783940\ttotal: 309ms\tremaining: 771ms\n",
      "286:\tlearn: 0.1778397\ttotal: 310ms\tremaining: 769ms\n",
      "287:\tlearn: 0.1773528\ttotal: 311ms\tremaining: 768ms\n",
      "288:\tlearn: 0.1768686\ttotal: 311ms\tremaining: 766ms\n",
      "289:\tlearn: 0.1767755\ttotal: 312ms\tremaining: 765ms\n",
      "290:\tlearn: 0.1764498\ttotal: 313ms\tremaining: 763ms\n",
      "291:\tlearn: 0.1762906\ttotal: 314ms\tremaining: 761ms\n",
      "292:\tlearn: 0.1758118\ttotal: 315ms\tremaining: 760ms\n",
      "293:\tlearn: 0.1753054\ttotal: 316ms\tremaining: 758ms\n",
      "294:\tlearn: 0.1751668\ttotal: 317ms\tremaining: 757ms\n",
      "295:\tlearn: 0.1746238\ttotal: 318ms\tremaining: 757ms\n",
      "296:\tlearn: 0.1741852\ttotal: 319ms\tremaining: 756ms\n",
      "297:\tlearn: 0.1737741\ttotal: 320ms\tremaining: 754ms\n",
      "298:\tlearn: 0.1732445\ttotal: 321ms\tremaining: 752ms\n",
      "299:\tlearn: 0.1728272\ttotal: 322ms\tremaining: 751ms\n",
      "300:\tlearn: 0.1724543\ttotal: 323ms\tremaining: 749ms\n",
      "301:\tlearn: 0.1721602\ttotal: 324ms\tremaining: 749ms\n",
      "302:\tlearn: 0.1719949\ttotal: 325ms\tremaining: 747ms\n",
      "303:\tlearn: 0.1714770\ttotal: 326ms\tremaining: 745ms\n",
      "304:\tlearn: 0.1711419\ttotal: 326ms\tremaining: 744ms\n",
      "305:\tlearn: 0.1709737\ttotal: 327ms\tremaining: 742ms\n",
      "306:\tlearn: 0.1704704\ttotal: 328ms\tremaining: 741ms\n",
      "307:\tlearn: 0.1701347\ttotal: 329ms\tremaining: 739ms\n",
      "308:\tlearn: 0.1695120\ttotal: 330ms\tremaining: 738ms\n",
      "309:\tlearn: 0.1690356\ttotal: 331ms\tremaining: 736ms\n",
      "310:\tlearn: 0.1687535\ttotal: 331ms\tremaining: 734ms\n",
      "311:\tlearn: 0.1683646\ttotal: 332ms\tremaining: 733ms\n",
      "312:\tlearn: 0.1682361\ttotal: 333ms\tremaining: 731ms\n",
      "313:\tlearn: 0.1678984\ttotal: 334ms\tremaining: 729ms\n",
      "314:\tlearn: 0.1675403\ttotal: 335ms\tremaining: 728ms\n",
      "315:\tlearn: 0.1670900\ttotal: 336ms\tremaining: 727ms\n",
      "316:\tlearn: 0.1666243\ttotal: 336ms\tremaining: 725ms\n",
      "317:\tlearn: 0.1662313\ttotal: 337ms\tremaining: 724ms\n",
      "318:\tlearn: 0.1661246\ttotal: 338ms\tremaining: 722ms\n",
      "319:\tlearn: 0.1659142\ttotal: 339ms\tremaining: 720ms\n",
      "320:\tlearn: 0.1656069\ttotal: 340ms\tremaining: 719ms\n",
      "321:\tlearn: 0.1654247\ttotal: 341ms\tremaining: 717ms\n",
      "322:\tlearn: 0.1650664\ttotal: 341ms\tremaining: 716ms\n",
      "323:\tlearn: 0.1647041\ttotal: 342ms\tremaining: 714ms\n",
      "324:\tlearn: 0.1646152\ttotal: 343ms\tremaining: 712ms\n",
      "325:\tlearn: 0.1645440\ttotal: 344ms\tremaining: 711ms\n",
      "326:\tlearn: 0.1642477\ttotal: 344ms\tremaining: 709ms\n",
      "327:\tlearn: 0.1640962\ttotal: 345ms\tremaining: 708ms\n",
      "328:\tlearn: 0.1638837\ttotal: 346ms\tremaining: 706ms\n",
      "329:\tlearn: 0.1634022\ttotal: 347ms\tremaining: 705ms\n",
      "330:\tlearn: 0.1632510\ttotal: 348ms\tremaining: 703ms\n",
      "331:\tlearn: 0.1630593\ttotal: 349ms\tremaining: 702ms\n",
      "332:\tlearn: 0.1629542\ttotal: 350ms\tremaining: 701ms\n",
      "333:\tlearn: 0.1625130\ttotal: 351ms\tremaining: 699ms\n",
      "334:\tlearn: 0.1622864\ttotal: 351ms\tremaining: 697ms\n",
      "335:\tlearn: 0.1621886\ttotal: 352ms\tremaining: 696ms\n",
      "336:\tlearn: 0.1618199\ttotal: 353ms\tremaining: 695ms\n",
      "337:\tlearn: 0.1614711\ttotal: 354ms\tremaining: 694ms\n",
      "338:\tlearn: 0.1613362\ttotal: 355ms\tremaining: 692ms\n",
      "339:\tlearn: 0.1609528\ttotal: 356ms\tremaining: 691ms\n",
      "340:\tlearn: 0.1608582\ttotal: 357ms\tremaining: 689ms\n",
      "341:\tlearn: 0.1607640\ttotal: 357ms\tremaining: 688ms\n",
      "342:\tlearn: 0.1606504\ttotal: 358ms\tremaining: 686ms\n",
      "343:\tlearn: 0.1601413\ttotal: 359ms\tremaining: 685ms\n",
      "344:\tlearn: 0.1598628\ttotal: 360ms\tremaining: 684ms\n",
      "345:\tlearn: 0.1593999\ttotal: 361ms\tremaining: 682ms\n",
      "346:\tlearn: 0.1593271\ttotal: 362ms\tremaining: 681ms\n",
      "347:\tlearn: 0.1589744\ttotal: 363ms\tremaining: 680ms\n",
      "348:\tlearn: 0.1585853\ttotal: 363ms\tremaining: 678ms\n",
      "349:\tlearn: 0.1585002\ttotal: 364ms\tremaining: 677ms\n",
      "350:\tlearn: 0.1580452\ttotal: 365ms\tremaining: 675ms\n",
      "351:\tlearn: 0.1579291\ttotal: 366ms\tremaining: 674ms\n",
      "352:\tlearn: 0.1578440\ttotal: 367ms\tremaining: 672ms\n",
      "353:\tlearn: 0.1575388\ttotal: 367ms\tremaining: 671ms\n",
      "354:\tlearn: 0.1570078\ttotal: 368ms\tremaining: 669ms\n",
      "355:\tlearn: 0.1566969\ttotal: 369ms\tremaining: 668ms\n",
      "356:\tlearn: 0.1564124\ttotal: 370ms\tremaining: 666ms\n",
      "357:\tlearn: 0.1561627\ttotal: 371ms\tremaining: 665ms\n",
      "358:\tlearn: 0.1557179\ttotal: 371ms\tremaining: 663ms\n",
      "359:\tlearn: 0.1551407\ttotal: 372ms\tremaining: 662ms\n",
      "360:\tlearn: 0.1547382\ttotal: 373ms\tremaining: 660ms\n"
     ]
    },
    {
     "name": "stdout",
     "output_type": "stream",
     "text": [
      "361:\tlearn: 0.1542088\ttotal: 374ms\tremaining: 659ms\n",
      "362:\tlearn: 0.1541651\ttotal: 375ms\tremaining: 657ms\n",
      "363:\tlearn: 0.1539593\ttotal: 375ms\tremaining: 656ms\n",
      "364:\tlearn: 0.1539273\ttotal: 376ms\tremaining: 654ms\n",
      "365:\tlearn: 0.1538956\ttotal: 377ms\tremaining: 652ms\n",
      "366:\tlearn: 0.1535092\ttotal: 377ms\tremaining: 651ms\n",
      "367:\tlearn: 0.1533971\ttotal: 378ms\tremaining: 650ms\n",
      "368:\tlearn: 0.1530158\ttotal: 379ms\tremaining: 648ms\n",
      "369:\tlearn: 0.1528929\ttotal: 380ms\tremaining: 647ms\n",
      "370:\tlearn: 0.1525298\ttotal: 381ms\tremaining: 646ms\n",
      "371:\tlearn: 0.1522645\ttotal: 382ms\tremaining: 645ms\n",
      "372:\tlearn: 0.1519181\ttotal: 384ms\tremaining: 645ms\n",
      "373:\tlearn: 0.1515676\ttotal: 384ms\tremaining: 644ms\n",
      "374:\tlearn: 0.1512585\ttotal: 385ms\tremaining: 642ms\n",
      "375:\tlearn: 0.1512179\ttotal: 386ms\tremaining: 641ms\n",
      "376:\tlearn: 0.1511121\ttotal: 387ms\tremaining: 640ms\n",
      "377:\tlearn: 0.1506826\ttotal: 388ms\tremaining: 638ms\n",
      "378:\tlearn: 0.1503544\ttotal: 389ms\tremaining: 637ms\n",
      "379:\tlearn: 0.1501085\ttotal: 389ms\tremaining: 635ms\n",
      "380:\tlearn: 0.1496930\ttotal: 390ms\tremaining: 634ms\n",
      "381:\tlearn: 0.1495716\ttotal: 391ms\tremaining: 632ms\n",
      "382:\tlearn: 0.1493020\ttotal: 392ms\tremaining: 631ms\n",
      "383:\tlearn: 0.1492125\ttotal: 393ms\tremaining: 630ms\n",
      "384:\tlearn: 0.1489264\ttotal: 393ms\tremaining: 628ms\n",
      "385:\tlearn: 0.1486997\ttotal: 394ms\tremaining: 627ms\n",
      "386:\tlearn: 0.1484329\ttotal: 395ms\tremaining: 626ms\n",
      "387:\tlearn: 0.1480821\ttotal: 396ms\tremaining: 624ms\n",
      "388:\tlearn: 0.1476943\ttotal: 396ms\tremaining: 623ms\n",
      "389:\tlearn: 0.1473587\ttotal: 397ms\tremaining: 621ms\n",
      "390:\tlearn: 0.1472239\ttotal: 398ms\tremaining: 620ms\n",
      "391:\tlearn: 0.1467287\ttotal: 399ms\tremaining: 619ms\n",
      "392:\tlearn: 0.1465538\ttotal: 400ms\tremaining: 618ms\n",
      "393:\tlearn: 0.1464552\ttotal: 401ms\tremaining: 617ms\n",
      "394:\tlearn: 0.1464173\ttotal: 402ms\tremaining: 616ms\n",
      "395:\tlearn: 0.1460939\ttotal: 403ms\tremaining: 615ms\n",
      "396:\tlearn: 0.1458470\ttotal: 404ms\tremaining: 613ms\n",
      "397:\tlearn: 0.1456504\ttotal: 405ms\tremaining: 612ms\n",
      "398:\tlearn: 0.1452311\ttotal: 405ms\tremaining: 611ms\n",
      "399:\tlearn: 0.1449332\ttotal: 406ms\tremaining: 609ms\n",
      "400:\tlearn: 0.1448575\ttotal: 407ms\tremaining: 608ms\n",
      "401:\tlearn: 0.1445915\ttotal: 408ms\tremaining: 607ms\n",
      "402:\tlearn: 0.1441368\ttotal: 409ms\tremaining: 606ms\n",
      "403:\tlearn: 0.1437145\ttotal: 410ms\tremaining: 604ms\n",
      "404:\tlearn: 0.1432799\ttotal: 411ms\tremaining: 603ms\n",
      "405:\tlearn: 0.1430242\ttotal: 412ms\tremaining: 602ms\n",
      "406:\tlearn: 0.1427940\ttotal: 412ms\tremaining: 601ms\n",
      "407:\tlearn: 0.1426408\ttotal: 413ms\tremaining: 600ms\n",
      "408:\tlearn: 0.1423110\ttotal: 414ms\tremaining: 599ms\n",
      "409:\tlearn: 0.1422251\ttotal: 415ms\tremaining: 598ms\n",
      "410:\tlearn: 0.1419780\ttotal: 416ms\tremaining: 597ms\n",
      "411:\tlearn: 0.1416779\ttotal: 417ms\tremaining: 595ms\n",
      "412:\tlearn: 0.1412792\ttotal: 418ms\tremaining: 594ms\n",
      "413:\tlearn: 0.1409047\ttotal: 421ms\tremaining: 596ms\n",
      "414:\tlearn: 0.1405884\ttotal: 422ms\tremaining: 594ms\n",
      "415:\tlearn: 0.1404572\ttotal: 422ms\tremaining: 593ms\n",
      "416:\tlearn: 0.1400943\ttotal: 423ms\tremaining: 592ms\n",
      "417:\tlearn: 0.1398379\ttotal: 424ms\tremaining: 591ms\n",
      "418:\tlearn: 0.1395762\ttotal: 425ms\tremaining: 590ms\n",
      "419:\tlearn: 0.1394678\ttotal: 426ms\tremaining: 588ms\n",
      "420:\tlearn: 0.1391724\ttotal: 427ms\tremaining: 587ms\n",
      "421:\tlearn: 0.1390251\ttotal: 428ms\tremaining: 586ms\n",
      "422:\tlearn: 0.1387375\ttotal: 429ms\tremaining: 585ms\n",
      "423:\tlearn: 0.1386433\ttotal: 430ms\tremaining: 584ms\n",
      "424:\tlearn: 0.1382005\ttotal: 430ms\tremaining: 582ms\n",
      "425:\tlearn: 0.1379866\ttotal: 431ms\tremaining: 581ms\n",
      "426:\tlearn: 0.1375174\ttotal: 432ms\tremaining: 580ms\n",
      "427:\tlearn: 0.1373917\ttotal: 433ms\tremaining: 579ms\n",
      "428:\tlearn: 0.1369961\ttotal: 434ms\tremaining: 578ms\n",
      "429:\tlearn: 0.1366953\ttotal: 435ms\tremaining: 577ms\n",
      "430:\tlearn: 0.1366482\ttotal: 436ms\tremaining: 576ms\n",
      "431:\tlearn: 0.1363127\ttotal: 437ms\tremaining: 574ms\n",
      "432:\tlearn: 0.1361443\ttotal: 438ms\tremaining: 573ms\n",
      "433:\tlearn: 0.1360275\ttotal: 438ms\tremaining: 572ms\n",
      "434:\tlearn: 0.1359405\ttotal: 440ms\tremaining: 571ms\n",
      "435:\tlearn: 0.1357961\ttotal: 440ms\tremaining: 570ms\n",
      "436:\tlearn: 0.1355033\ttotal: 441ms\tremaining: 569ms\n",
      "437:\tlearn: 0.1354200\ttotal: 442ms\tremaining: 567ms\n",
      "438:\tlearn: 0.1351702\ttotal: 443ms\tremaining: 566ms\n",
      "439:\tlearn: 0.1347781\ttotal: 444ms\tremaining: 565ms\n",
      "440:\tlearn: 0.1344381\ttotal: 445ms\tremaining: 564ms\n",
      "441:\tlearn: 0.1340703\ttotal: 446ms\tremaining: 564ms\n",
      "442:\tlearn: 0.1337690\ttotal: 447ms\tremaining: 562ms\n",
      "443:\tlearn: 0.1335775\ttotal: 448ms\tremaining: 561ms\n",
      "444:\tlearn: 0.1335253\ttotal: 449ms\tremaining: 560ms\n",
      "445:\tlearn: 0.1332861\ttotal: 450ms\tremaining: 559ms\n",
      "446:\tlearn: 0.1329990\ttotal: 451ms\tremaining: 558ms\n",
      "447:\tlearn: 0.1327511\ttotal: 452ms\tremaining: 556ms\n",
      "448:\tlearn: 0.1326389\ttotal: 452ms\tremaining: 555ms\n",
      "449:\tlearn: 0.1322176\ttotal: 453ms\tremaining: 554ms\n",
      "450:\tlearn: 0.1321328\ttotal: 454ms\tremaining: 553ms\n",
      "451:\tlearn: 0.1319621\ttotal: 455ms\tremaining: 551ms\n",
      "452:\tlearn: 0.1315611\ttotal: 456ms\tremaining: 550ms\n",
      "453:\tlearn: 0.1313313\ttotal: 456ms\tremaining: 549ms\n"
     ]
    },
    {
     "name": "stdout",
     "output_type": "stream",
     "text": [
      "454:\tlearn: 0.1310390\ttotal: 457ms\tremaining: 548ms\n",
      "455:\tlearn: 0.1306618\ttotal: 458ms\tremaining: 547ms\n",
      "456:\tlearn: 0.1304448\ttotal: 459ms\tremaining: 546ms\n",
      "457:\tlearn: 0.1301662\ttotal: 460ms\tremaining: 545ms\n",
      "458:\tlearn: 0.1300785\ttotal: 461ms\tremaining: 543ms\n",
      "459:\tlearn: 0.1298420\ttotal: 462ms\tremaining: 542ms\n",
      "460:\tlearn: 0.1296806\ttotal: 463ms\tremaining: 541ms\n",
      "461:\tlearn: 0.1293503\ttotal: 464ms\tremaining: 540ms\n",
      "462:\tlearn: 0.1292424\ttotal: 465ms\tremaining: 539ms\n",
      "463:\tlearn: 0.1290310\ttotal: 466ms\tremaining: 538ms\n",
      "464:\tlearn: 0.1288503\ttotal: 466ms\tremaining: 537ms\n",
      "465:\tlearn: 0.1285151\ttotal: 467ms\tremaining: 535ms\n",
      "466:\tlearn: 0.1283188\ttotal: 468ms\tremaining: 534ms\n",
      "467:\tlearn: 0.1280732\ttotal: 469ms\tremaining: 533ms\n",
      "468:\tlearn: 0.1279274\ttotal: 470ms\tremaining: 532ms\n",
      "469:\tlearn: 0.1277231\ttotal: 471ms\tremaining: 531ms\n",
      "470:\tlearn: 0.1275522\ttotal: 472ms\tremaining: 530ms\n",
      "471:\tlearn: 0.1274451\ttotal: 473ms\tremaining: 529ms\n",
      "472:\tlearn: 0.1272315\ttotal: 474ms\tremaining: 528ms\n",
      "473:\tlearn: 0.1268628\ttotal: 474ms\tremaining: 526ms\n",
      "474:\tlearn: 0.1264485\ttotal: 475ms\tremaining: 525ms\n",
      "475:\tlearn: 0.1261373\ttotal: 476ms\tremaining: 524ms\n",
      "476:\tlearn: 0.1259137\ttotal: 477ms\tremaining: 523ms\n",
      "477:\tlearn: 0.1256942\ttotal: 478ms\tremaining: 522ms\n",
      "478:\tlearn: 0.1254862\ttotal: 479ms\tremaining: 521ms\n",
      "479:\tlearn: 0.1251623\ttotal: 480ms\tremaining: 520ms\n",
      "480:\tlearn: 0.1248262\ttotal: 481ms\tremaining: 519ms\n",
      "481:\tlearn: 0.1245974\ttotal: 482ms\tremaining: 518ms\n",
      "482:\tlearn: 0.1244369\ttotal: 482ms\tremaining: 516ms\n",
      "483:\tlearn: 0.1241917\ttotal: 483ms\tremaining: 515ms\n",
      "484:\tlearn: 0.1239247\ttotal: 484ms\tremaining: 514ms\n",
      "485:\tlearn: 0.1236909\ttotal: 485ms\tremaining: 513ms\n",
      "486:\tlearn: 0.1233649\ttotal: 486ms\tremaining: 512ms\n",
      "487:\tlearn: 0.1232903\ttotal: 487ms\tremaining: 511ms\n",
      "488:\tlearn: 0.1230767\ttotal: 488ms\tremaining: 510ms\n",
      "489:\tlearn: 0.1228503\ttotal: 489ms\tremaining: 509ms\n",
      "490:\tlearn: 0.1226028\ttotal: 490ms\tremaining: 508ms\n",
      "491:\tlearn: 0.1224491\ttotal: 491ms\tremaining: 507ms\n",
      "492:\tlearn: 0.1222007\ttotal: 492ms\tremaining: 506ms\n",
      "493:\tlearn: 0.1218284\ttotal: 492ms\tremaining: 504ms\n",
      "494:\tlearn: 0.1217965\ttotal: 493ms\tremaining: 503ms\n",
      "495:\tlearn: 0.1217436\ttotal: 494ms\tremaining: 502ms\n",
      "496:\tlearn: 0.1214865\ttotal: 495ms\tremaining: 501ms\n",
      "497:\tlearn: 0.1211897\ttotal: 496ms\tremaining: 500ms\n",
      "498:\tlearn: 0.1209508\ttotal: 497ms\tremaining: 499ms\n",
      "499:\tlearn: 0.1207006\ttotal: 497ms\tremaining: 497ms\n",
      "500:\tlearn: 0.1206634\ttotal: 498ms\tremaining: 496ms\n",
      "501:\tlearn: 0.1204850\ttotal: 499ms\tremaining: 495ms\n",
      "502:\tlearn: 0.1201620\ttotal: 500ms\tremaining: 494ms\n",
      "503:\tlearn: 0.1199831\ttotal: 501ms\tremaining: 493ms\n",
      "504:\tlearn: 0.1197462\ttotal: 502ms\tremaining: 492ms\n",
      "505:\tlearn: 0.1197335\ttotal: 502ms\tremaining: 490ms\n",
      "506:\tlearn: 0.1195596\ttotal: 504ms\tremaining: 490ms\n",
      "507:\tlearn: 0.1195125\ttotal: 504ms\tremaining: 489ms\n",
      "508:\tlearn: 0.1192708\ttotal: 505ms\tremaining: 487ms\n",
      "509:\tlearn: 0.1190398\ttotal: 506ms\tremaining: 486ms\n",
      "510:\tlearn: 0.1187654\ttotal: 507ms\tremaining: 485ms\n",
      "511:\tlearn: 0.1185423\ttotal: 508ms\tremaining: 484ms\n",
      "512:\tlearn: 0.1184695\ttotal: 509ms\tremaining: 483ms\n",
      "513:\tlearn: 0.1184128\ttotal: 510ms\tremaining: 482ms\n",
      "514:\tlearn: 0.1182279\ttotal: 511ms\tremaining: 481ms\n",
      "515:\tlearn: 0.1179415\ttotal: 512ms\tremaining: 480ms\n",
      "516:\tlearn: 0.1176638\ttotal: 513ms\tremaining: 479ms\n",
      "517:\tlearn: 0.1172701\ttotal: 513ms\tremaining: 478ms\n",
      "518:\tlearn: 0.1169187\ttotal: 514ms\tremaining: 477ms\n",
      "519:\tlearn: 0.1166189\ttotal: 515ms\tremaining: 475ms\n",
      "520:\tlearn: 0.1163955\ttotal: 516ms\tremaining: 474ms\n",
      "521:\tlearn: 0.1161385\ttotal: 517ms\tremaining: 473ms\n",
      "522:\tlearn: 0.1159714\ttotal: 518ms\tremaining: 472ms\n",
      "523:\tlearn: 0.1158876\ttotal: 518ms\tremaining: 471ms\n",
      "524:\tlearn: 0.1157752\ttotal: 519ms\tremaining: 470ms\n",
      "525:\tlearn: 0.1157340\ttotal: 520ms\tremaining: 469ms\n",
      "526:\tlearn: 0.1154794\ttotal: 521ms\tremaining: 468ms\n",
      "527:\tlearn: 0.1153756\ttotal: 522ms\tremaining: 466ms\n",
      "528:\tlearn: 0.1153014\ttotal: 522ms\tremaining: 465ms\n",
      "529:\tlearn: 0.1150537\ttotal: 523ms\tremaining: 464ms\n",
      "530:\tlearn: 0.1149143\ttotal: 524ms\tremaining: 463ms\n",
      "531:\tlearn: 0.1147027\ttotal: 525ms\tremaining: 462ms\n",
      "532:\tlearn: 0.1144667\ttotal: 526ms\tremaining: 461ms\n",
      "533:\tlearn: 0.1143705\ttotal: 526ms\tremaining: 459ms\n",
      "534:\tlearn: 0.1141124\ttotal: 527ms\tremaining: 458ms\n",
      "535:\tlearn: 0.1140409\ttotal: 528ms\tremaining: 457ms\n",
      "536:\tlearn: 0.1137135\ttotal: 529ms\tremaining: 456ms\n",
      "537:\tlearn: 0.1135371\ttotal: 530ms\tremaining: 455ms\n",
      "538:\tlearn: 0.1133558\ttotal: 530ms\tremaining: 454ms\n",
      "539:\tlearn: 0.1131680\ttotal: 531ms\tremaining: 452ms\n",
      "540:\tlearn: 0.1129747\ttotal: 532ms\tremaining: 451ms\n",
      "541:\tlearn: 0.1127598\ttotal: 533ms\tremaining: 450ms\n",
      "542:\tlearn: 0.1125223\ttotal: 534ms\tremaining: 449ms\n",
      "543:\tlearn: 0.1124507\ttotal: 535ms\tremaining: 448ms\n",
      "544:\tlearn: 0.1123291\ttotal: 535ms\tremaining: 447ms\n",
      "545:\tlearn: 0.1120820\ttotal: 536ms\tremaining: 446ms\n",
      "546:\tlearn: 0.1119629\ttotal: 537ms\tremaining: 445ms\n",
      "547:\tlearn: 0.1119134\ttotal: 538ms\tremaining: 444ms\n",
      "548:\tlearn: 0.1116707\ttotal: 539ms\tremaining: 443ms\n",
      "549:\tlearn: 0.1116366\ttotal: 540ms\tremaining: 442ms\n",
      "550:\tlearn: 0.1113282\ttotal: 541ms\tremaining: 441ms\n",
      "551:\tlearn: 0.1110291\ttotal: 542ms\tremaining: 439ms\n",
      "552:\tlearn: 0.1109605\ttotal: 542ms\tremaining: 438ms\n",
      "553:\tlearn: 0.1106535\ttotal: 543ms\tremaining: 437ms\n",
      "554:\tlearn: 0.1105058\ttotal: 544ms\tremaining: 436ms\n",
      "555:\tlearn: 0.1103209\ttotal: 545ms\tremaining: 435ms\n",
      "556:\tlearn: 0.1100366\ttotal: 545ms\tremaining: 434ms\n",
      "557:\tlearn: 0.1098131\ttotal: 546ms\tremaining: 433ms\n",
      "558:\tlearn: 0.1096608\ttotal: 547ms\tremaining: 432ms\n"
     ]
    },
    {
     "name": "stdout",
     "output_type": "stream",
     "text": [
      "559:\tlearn: 0.1095627\ttotal: 548ms\tremaining: 431ms\n",
      "560:\tlearn: 0.1094242\ttotal: 549ms\tremaining: 430ms\n",
      "561:\tlearn: 0.1092292\ttotal: 550ms\tremaining: 429ms\n",
      "562:\tlearn: 0.1090767\ttotal: 551ms\tremaining: 428ms\n",
      "563:\tlearn: 0.1090092\ttotal: 552ms\tremaining: 426ms\n",
      "564:\tlearn: 0.1087595\ttotal: 553ms\tremaining: 425ms\n",
      "565:\tlearn: 0.1086863\ttotal: 553ms\tremaining: 424ms\n",
      "566:\tlearn: 0.1085877\ttotal: 554ms\tremaining: 423ms\n",
      "567:\tlearn: 0.1084530\ttotal: 555ms\tremaining: 422ms\n",
      "568:\tlearn: 0.1082977\ttotal: 556ms\tremaining: 421ms\n",
      "569:\tlearn: 0.1081350\ttotal: 557ms\tremaining: 420ms\n",
      "570:\tlearn: 0.1080761\ttotal: 557ms\tremaining: 419ms\n",
      "571:\tlearn: 0.1079302\ttotal: 558ms\tremaining: 418ms\n",
      "572:\tlearn: 0.1078298\ttotal: 559ms\tremaining: 417ms\n",
      "573:\tlearn: 0.1075377\ttotal: 560ms\tremaining: 415ms\n",
      "574:\tlearn: 0.1073306\ttotal: 561ms\tremaining: 414ms\n",
      "575:\tlearn: 0.1070512\ttotal: 561ms\tremaining: 413ms\n",
      "576:\tlearn: 0.1070217\ttotal: 562ms\tremaining: 412ms\n",
      "577:\tlearn: 0.1067362\ttotal: 563ms\tremaining: 411ms\n",
      "578:\tlearn: 0.1064684\ttotal: 564ms\tremaining: 410ms\n",
      "579:\tlearn: 0.1062465\ttotal: 565ms\tremaining: 409ms\n",
      "580:\tlearn: 0.1062068\ttotal: 566ms\tremaining: 408ms\n",
      "581:\tlearn: 0.1060922\ttotal: 566ms\tremaining: 407ms\n",
      "582:\tlearn: 0.1058948\ttotal: 567ms\tremaining: 406ms\n",
      "583:\tlearn: 0.1058069\ttotal: 568ms\tremaining: 405ms\n",
      "584:\tlearn: 0.1057548\ttotal: 569ms\tremaining: 403ms\n",
      "585:\tlearn: 0.1057070\ttotal: 570ms\tremaining: 402ms\n",
      "586:\tlearn: 0.1055222\ttotal: 570ms\tremaining: 401ms\n",
      "587:\tlearn: 0.1053548\ttotal: 571ms\tremaining: 400ms\n",
      "588:\tlearn: 0.1053199\ttotal: 572ms\tremaining: 399ms\n",
      "589:\tlearn: 0.1051853\ttotal: 573ms\tremaining: 398ms\n",
      "590:\tlearn: 0.1051233\ttotal: 574ms\tremaining: 397ms\n",
      "591:\tlearn: 0.1049972\ttotal: 575ms\tremaining: 396ms\n",
      "592:\tlearn: 0.1048241\ttotal: 575ms\tremaining: 395ms\n",
      "593:\tlearn: 0.1047946\ttotal: 576ms\tremaining: 394ms\n",
      "594:\tlearn: 0.1046640\ttotal: 577ms\tremaining: 393ms\n",
      "595:\tlearn: 0.1045598\ttotal: 578ms\tremaining: 392ms\n",
      "596:\tlearn: 0.1043413\ttotal: 579ms\tremaining: 391ms\n",
      "597:\tlearn: 0.1042947\ttotal: 579ms\tremaining: 390ms\n",
      "598:\tlearn: 0.1042608\ttotal: 580ms\tremaining: 388ms\n",
      "599:\tlearn: 0.1040461\ttotal: 581ms\tremaining: 387ms\n",
      "600:\tlearn: 0.1039277\ttotal: 582ms\tremaining: 386ms\n",
      "601:\tlearn: 0.1037031\ttotal: 583ms\tremaining: 386ms\n",
      "602:\tlearn: 0.1035922\ttotal: 584ms\tremaining: 385ms\n",
      "603:\tlearn: 0.1034338\ttotal: 585ms\tremaining: 384ms\n",
      "604:\tlearn: 0.1032222\ttotal: 586ms\tremaining: 383ms\n",
      "605:\tlearn: 0.1030793\ttotal: 587ms\tremaining: 382ms\n",
      "606:\tlearn: 0.1030342\ttotal: 588ms\tremaining: 381ms\n",
      "607:\tlearn: 0.1027775\ttotal: 589ms\tremaining: 379ms\n",
      "608:\tlearn: 0.1026569\ttotal: 590ms\tremaining: 379ms\n",
      "609:\tlearn: 0.1025059\ttotal: 591ms\tremaining: 378ms\n",
      "610:\tlearn: 0.1023313\ttotal: 591ms\tremaining: 376ms\n",
      "611:\tlearn: 0.1021505\ttotal: 592ms\tremaining: 375ms\n",
      "612:\tlearn: 0.1019676\ttotal: 593ms\tremaining: 374ms\n",
      "613:\tlearn: 0.1017040\ttotal: 594ms\tremaining: 373ms\n",
      "614:\tlearn: 0.1015522\ttotal: 595ms\tremaining: 372ms\n",
      "615:\tlearn: 0.1014824\ttotal: 596ms\tremaining: 371ms\n",
      "616:\tlearn: 0.1013388\ttotal: 597ms\tremaining: 370ms\n",
      "617:\tlearn: 0.1013127\ttotal: 597ms\tremaining: 369ms\n",
      "618:\tlearn: 0.1010572\ttotal: 598ms\tremaining: 368ms\n",
      "619:\tlearn: 0.1007967\ttotal: 599ms\tremaining: 367ms\n",
      "620:\tlearn: 0.1006877\ttotal: 600ms\tremaining: 366ms\n",
      "621:\tlearn: 0.1004265\ttotal: 601ms\tremaining: 365ms\n",
      "622:\tlearn: 0.1003237\ttotal: 602ms\tremaining: 364ms\n",
      "623:\tlearn: 0.1001163\ttotal: 602ms\tremaining: 363ms\n",
      "624:\tlearn: 0.0999774\ttotal: 603ms\tremaining: 362ms\n",
      "625:\tlearn: 0.0997334\ttotal: 604ms\tremaining: 361ms\n",
      "626:\tlearn: 0.0995745\ttotal: 605ms\tremaining: 360ms\n",
      "627:\tlearn: 0.0994395\ttotal: 606ms\tremaining: 359ms\n",
      "628:\tlearn: 0.0993960\ttotal: 607ms\tremaining: 358ms\n",
      "629:\tlearn: 0.0990959\ttotal: 608ms\tremaining: 357ms\n",
      "630:\tlearn: 0.0989025\ttotal: 609ms\tremaining: 356ms\n",
      "631:\tlearn: 0.0987677\ttotal: 610ms\tremaining: 355ms\n",
      "632:\tlearn: 0.0985792\ttotal: 611ms\tremaining: 354ms\n",
      "633:\tlearn: 0.0984655\ttotal: 612ms\tremaining: 353ms\n",
      "634:\tlearn: 0.0982800\ttotal: 612ms\tremaining: 352ms\n",
      "635:\tlearn: 0.0981275\ttotal: 613ms\tremaining: 351ms\n",
      "636:\tlearn: 0.0980353\ttotal: 614ms\tremaining: 350ms\n",
      "637:\tlearn: 0.0978030\ttotal: 615ms\tremaining: 349ms\n",
      "638:\tlearn: 0.0975558\ttotal: 616ms\tremaining: 348ms\n",
      "639:\tlearn: 0.0974712\ttotal: 616ms\tremaining: 347ms\n",
      "640:\tlearn: 0.0973045\ttotal: 617ms\tremaining: 346ms\n",
      "641:\tlearn: 0.0972025\ttotal: 618ms\tremaining: 345ms\n",
      "642:\tlearn: 0.0971013\ttotal: 619ms\tremaining: 344ms\n",
      "643:\tlearn: 0.0968594\ttotal: 621ms\tremaining: 343ms\n",
      "644:\tlearn: 0.0967120\ttotal: 621ms\tremaining: 342ms\n",
      "645:\tlearn: 0.0966771\ttotal: 622ms\tremaining: 341ms\n",
      "646:\tlearn: 0.0965176\ttotal: 623ms\tremaining: 340ms\n",
      "647:\tlearn: 0.0964924\ttotal: 624ms\tremaining: 339ms\n",
      "648:\tlearn: 0.0962613\ttotal: 625ms\tremaining: 338ms\n",
      "649:\tlearn: 0.0962400\ttotal: 626ms\tremaining: 337ms\n",
      "650:\tlearn: 0.0960955\ttotal: 626ms\tremaining: 336ms\n",
      "651:\tlearn: 0.0958695\ttotal: 627ms\tremaining: 335ms\n",
      "652:\tlearn: 0.0958035\ttotal: 628ms\tremaining: 334ms\n",
      "653:\tlearn: 0.0956665\ttotal: 629ms\tremaining: 333ms\n",
      "654:\tlearn: 0.0955755\ttotal: 630ms\tremaining: 332ms\n",
      "655:\tlearn: 0.0953558\ttotal: 631ms\tremaining: 331ms\n",
      "656:\tlearn: 0.0951481\ttotal: 631ms\tremaining: 330ms\n",
      "657:\tlearn: 0.0950659\ttotal: 632ms\tremaining: 329ms\n",
      "658:\tlearn: 0.0949437\ttotal: 633ms\tremaining: 328ms\n",
      "659:\tlearn: 0.0947876\ttotal: 634ms\tremaining: 327ms\n",
      "660:\tlearn: 0.0945782\ttotal: 635ms\tremaining: 325ms\n",
      "661:\tlearn: 0.0942887\ttotal: 635ms\tremaining: 324ms\n",
      "662:\tlearn: 0.0942642\ttotal: 636ms\tremaining: 323ms\n",
      "663:\tlearn: 0.0941411\ttotal: 637ms\tremaining: 322ms\n",
      "664:\tlearn: 0.0940192\ttotal: 638ms\tremaining: 321ms\n",
      "665:\tlearn: 0.0940131\ttotal: 639ms\tremaining: 320ms\n",
      "666:\tlearn: 0.0939330\ttotal: 640ms\tremaining: 319ms\n",
      "667:\tlearn: 0.0937230\ttotal: 640ms\tremaining: 318ms\n",
      "668:\tlearn: 0.0935989\ttotal: 641ms\tremaining: 317ms\n",
      "669:\tlearn: 0.0935867\ttotal: 642ms\tremaining: 316ms\n",
      "670:\tlearn: 0.0933943\ttotal: 643ms\tremaining: 315ms\n",
      "671:\tlearn: 0.0933391\ttotal: 643ms\tremaining: 314ms\n",
      "672:\tlearn: 0.0932708\ttotal: 644ms\tremaining: 313ms\n",
      "673:\tlearn: 0.0930786\ttotal: 645ms\tremaining: 312ms\n",
      "674:\tlearn: 0.0928507\ttotal: 646ms\tremaining: 311ms\n",
      "675:\tlearn: 0.0925954\ttotal: 647ms\tremaining: 310ms\n",
      "676:\tlearn: 0.0924897\ttotal: 648ms\tremaining: 309ms\n"
     ]
    },
    {
     "name": "stdout",
     "output_type": "stream",
     "text": [
      "677:\tlearn: 0.0924430\ttotal: 649ms\tremaining: 308ms\n",
      "678:\tlearn: 0.0922722\ttotal: 650ms\tremaining: 307ms\n",
      "679:\tlearn: 0.0921776\ttotal: 650ms\tremaining: 306ms\n",
      "680:\tlearn: 0.0919724\ttotal: 651ms\tremaining: 305ms\n",
      "681:\tlearn: 0.0917971\ttotal: 652ms\tremaining: 304ms\n",
      "682:\tlearn: 0.0917074\ttotal: 653ms\tremaining: 303ms\n",
      "683:\tlearn: 0.0916731\ttotal: 654ms\tremaining: 302ms\n",
      "684:\tlearn: 0.0916160\ttotal: 655ms\tremaining: 301ms\n",
      "685:\tlearn: 0.0914884\ttotal: 656ms\tremaining: 300ms\n",
      "686:\tlearn: 0.0914342\ttotal: 656ms\tremaining: 299ms\n",
      "687:\tlearn: 0.0912808\ttotal: 657ms\tremaining: 298ms\n",
      "688:\tlearn: 0.0912562\ttotal: 658ms\tremaining: 297ms\n",
      "689:\tlearn: 0.0912356\ttotal: 659ms\tremaining: 296ms\n",
      "690:\tlearn: 0.0911043\ttotal: 660ms\tremaining: 295ms\n",
      "691:\tlearn: 0.0909756\ttotal: 660ms\tremaining: 294ms\n",
      "692:\tlearn: 0.0908034\ttotal: 661ms\tremaining: 293ms\n",
      "693:\tlearn: 0.0907521\ttotal: 662ms\tremaining: 292ms\n",
      "694:\tlearn: 0.0905452\ttotal: 663ms\tremaining: 291ms\n",
      "695:\tlearn: 0.0904185\ttotal: 664ms\tremaining: 290ms\n",
      "696:\tlearn: 0.0903865\ttotal: 665ms\tremaining: 289ms\n",
      "697:\tlearn: 0.0902351\ttotal: 665ms\tremaining: 288ms\n",
      "698:\tlearn: 0.0899851\ttotal: 666ms\tremaining: 287ms\n",
      "699:\tlearn: 0.0898588\ttotal: 667ms\tremaining: 286ms\n",
      "700:\tlearn: 0.0897426\ttotal: 668ms\tremaining: 285ms\n",
      "701:\tlearn: 0.0896727\ttotal: 669ms\tremaining: 284ms\n",
      "702:\tlearn: 0.0894888\ttotal: 669ms\tremaining: 283ms\n",
      "703:\tlearn: 0.0894737\ttotal: 670ms\tremaining: 282ms\n",
      "704:\tlearn: 0.0893163\ttotal: 671ms\tremaining: 281ms\n",
      "705:\tlearn: 0.0892196\ttotal: 672ms\tremaining: 280ms\n",
      "706:\tlearn: 0.0890552\ttotal: 673ms\tremaining: 279ms\n",
      "707:\tlearn: 0.0890188\ttotal: 673ms\tremaining: 278ms\n",
      "708:\tlearn: 0.0887954\ttotal: 674ms\tremaining: 277ms\n",
      "709:\tlearn: 0.0885625\ttotal: 675ms\tremaining: 276ms\n",
      "710:\tlearn: 0.0883771\ttotal: 676ms\tremaining: 275ms\n",
      "711:\tlearn: 0.0881646\ttotal: 677ms\tremaining: 274ms\n",
      "712:\tlearn: 0.0879288\ttotal: 678ms\tremaining: 273ms\n",
      "713:\tlearn: 0.0877981\ttotal: 679ms\tremaining: 272ms\n",
      "714:\tlearn: 0.0877583\ttotal: 679ms\tremaining: 271ms\n",
      "715:\tlearn: 0.0876469\ttotal: 680ms\tremaining: 270ms\n",
      "716:\tlearn: 0.0875131\ttotal: 681ms\tremaining: 269ms\n",
      "717:\tlearn: 0.0874204\ttotal: 682ms\tremaining: 268ms\n",
      "718:\tlearn: 0.0871949\ttotal: 683ms\tremaining: 267ms\n",
      "719:\tlearn: 0.0870065\ttotal: 683ms\tremaining: 266ms\n",
      "720:\tlearn: 0.0868943\ttotal: 684ms\tremaining: 265ms\n",
      "721:\tlearn: 0.0868543\ttotal: 685ms\tremaining: 264ms\n",
      "722:\tlearn: 0.0867918\ttotal: 686ms\tremaining: 263ms\n",
      "723:\tlearn: 0.0866241\ttotal: 687ms\tremaining: 262ms\n",
      "724:\tlearn: 0.0865921\ttotal: 688ms\tremaining: 261ms\n",
      "725:\tlearn: 0.0864727\ttotal: 689ms\tremaining: 260ms\n",
      "726:\tlearn: 0.0863392\ttotal: 689ms\tremaining: 259ms\n",
      "727:\tlearn: 0.0861423\ttotal: 690ms\tremaining: 258ms\n",
      "728:\tlearn: 0.0859690\ttotal: 691ms\tremaining: 257ms\n",
      "729:\tlearn: 0.0858439\ttotal: 692ms\tremaining: 256ms\n",
      "730:\tlearn: 0.0857931\ttotal: 693ms\tremaining: 255ms\n",
      "731:\tlearn: 0.0856035\ttotal: 694ms\tremaining: 254ms\n",
      "732:\tlearn: 0.0855001\ttotal: 694ms\tremaining: 253ms\n",
      "733:\tlearn: 0.0853347\ttotal: 695ms\tremaining: 252ms\n",
      "734:\tlearn: 0.0851243\ttotal: 696ms\tremaining: 251ms\n",
      "735:\tlearn: 0.0849511\ttotal: 697ms\tremaining: 250ms\n",
      "736:\tlearn: 0.0848366\ttotal: 698ms\tremaining: 249ms\n",
      "737:\tlearn: 0.0846920\ttotal: 699ms\tremaining: 248ms\n",
      "738:\tlearn: 0.0846486\ttotal: 699ms\tremaining: 247ms\n",
      "739:\tlearn: 0.0845239\ttotal: 700ms\tremaining: 246ms\n",
      "740:\tlearn: 0.0844782\ttotal: 701ms\tremaining: 245ms\n",
      "741:\tlearn: 0.0843450\ttotal: 702ms\tremaining: 244ms\n",
      "742:\tlearn: 0.0843098\ttotal: 703ms\tremaining: 243ms\n",
      "743:\tlearn: 0.0841618\ttotal: 703ms\tremaining: 242ms\n",
      "744:\tlearn: 0.0840387\ttotal: 704ms\tremaining: 241ms\n",
      "745:\tlearn: 0.0839275\ttotal: 705ms\tremaining: 240ms\n",
      "746:\tlearn: 0.0838196\ttotal: 706ms\tremaining: 239ms\n",
      "747:\tlearn: 0.0836954\ttotal: 706ms\tremaining: 238ms\n",
      "748:\tlearn: 0.0835756\ttotal: 707ms\tremaining: 237ms\n",
      "749:\tlearn: 0.0834033\ttotal: 708ms\tremaining: 236ms\n",
      "750:\tlearn: 0.0831821\ttotal: 709ms\tremaining: 235ms\n",
      "751:\tlearn: 0.0830571\ttotal: 710ms\tremaining: 234ms\n",
      "752:\tlearn: 0.0829126\ttotal: 710ms\tremaining: 233ms\n",
      "753:\tlearn: 0.0826893\ttotal: 711ms\tremaining: 232ms\n",
      "754:\tlearn: 0.0825155\ttotal: 712ms\tremaining: 231ms\n",
      "755:\tlearn: 0.0823059\ttotal: 713ms\tremaining: 230ms\n",
      "756:\tlearn: 0.0821879\ttotal: 714ms\tremaining: 229ms\n",
      "757:\tlearn: 0.0820183\ttotal: 715ms\tremaining: 228ms\n",
      "758:\tlearn: 0.0817962\ttotal: 716ms\tremaining: 227ms\n",
      "759:\tlearn: 0.0815727\ttotal: 717ms\tremaining: 226ms\n",
      "760:\tlearn: 0.0814344\ttotal: 717ms\tremaining: 225ms\n",
      "761:\tlearn: 0.0812384\ttotal: 718ms\tremaining: 224ms\n",
      "762:\tlearn: 0.0812188\ttotal: 719ms\tremaining: 223ms\n",
      "763:\tlearn: 0.0811064\ttotal: 720ms\tremaining: 222ms\n",
      "764:\tlearn: 0.0809822\ttotal: 721ms\tremaining: 221ms\n",
      "765:\tlearn: 0.0808462\ttotal: 721ms\tremaining: 220ms\n",
      "766:\tlearn: 0.0808136\ttotal: 722ms\tremaining: 219ms\n",
      "767:\tlearn: 0.0807985\ttotal: 723ms\tremaining: 218ms\n",
      "768:\tlearn: 0.0806592\ttotal: 724ms\tremaining: 217ms\n",
      "769:\tlearn: 0.0804804\ttotal: 725ms\tremaining: 217ms\n",
      "770:\tlearn: 0.0804337\ttotal: 726ms\tremaining: 216ms\n",
      "771:\tlearn: 0.0803721\ttotal: 727ms\tremaining: 215ms\n",
      "772:\tlearn: 0.0802702\ttotal: 727ms\tremaining: 214ms\n",
      "773:\tlearn: 0.0802160\ttotal: 728ms\tremaining: 213ms\n",
      "774:\tlearn: 0.0801764\ttotal: 729ms\tremaining: 212ms\n",
      "775:\tlearn: 0.0800603\ttotal: 731ms\tremaining: 211ms\n",
      "776:\tlearn: 0.0799846\ttotal: 731ms\tremaining: 210ms\n",
      "777:\tlearn: 0.0799553\ttotal: 732ms\tremaining: 209ms\n",
      "778:\tlearn: 0.0798218\ttotal: 733ms\tremaining: 208ms\n",
      "779:\tlearn: 0.0796498\ttotal: 734ms\tremaining: 207ms\n",
      "780:\tlearn: 0.0794786\ttotal: 735ms\tremaining: 206ms\n",
      "781:\tlearn: 0.0793216\ttotal: 736ms\tremaining: 205ms\n",
      "782:\tlearn: 0.0792671\ttotal: 736ms\tremaining: 204ms\n",
      "783:\tlearn: 0.0791619\ttotal: 737ms\tremaining: 203ms\n",
      "784:\tlearn: 0.0789346\ttotal: 738ms\tremaining: 202ms\n"
     ]
    },
    {
     "name": "stdout",
     "output_type": "stream",
     "text": [
      "785:\tlearn: 0.0788708\ttotal: 739ms\tremaining: 201ms\n",
      "786:\tlearn: 0.0787709\ttotal: 740ms\tremaining: 200ms\n",
      "787:\tlearn: 0.0786255\ttotal: 741ms\tremaining: 199ms\n",
      "788:\tlearn: 0.0785692\ttotal: 742ms\tremaining: 198ms\n",
      "789:\tlearn: 0.0784272\ttotal: 743ms\tremaining: 197ms\n",
      "790:\tlearn: 0.0782732\ttotal: 744ms\tremaining: 196ms\n",
      "791:\tlearn: 0.0780816\ttotal: 744ms\tremaining: 196ms\n",
      "792:\tlearn: 0.0779882\ttotal: 745ms\tremaining: 195ms\n",
      "793:\tlearn: 0.0778186\ttotal: 746ms\tremaining: 194ms\n",
      "794:\tlearn: 0.0776618\ttotal: 747ms\tremaining: 193ms\n",
      "795:\tlearn: 0.0775371\ttotal: 748ms\tremaining: 192ms\n",
      "796:\tlearn: 0.0773727\ttotal: 749ms\tremaining: 191ms\n",
      "797:\tlearn: 0.0772406\ttotal: 750ms\tremaining: 190ms\n",
      "798:\tlearn: 0.0771191\ttotal: 750ms\tremaining: 189ms\n",
      "799:\tlearn: 0.0769917\ttotal: 751ms\tremaining: 188ms\n",
      "800:\tlearn: 0.0768773\ttotal: 752ms\tremaining: 187ms\n",
      "801:\tlearn: 0.0767211\ttotal: 753ms\tremaining: 186ms\n",
      "802:\tlearn: 0.0766368\ttotal: 754ms\tremaining: 185ms\n",
      "803:\tlearn: 0.0764914\ttotal: 755ms\tremaining: 184ms\n",
      "804:\tlearn: 0.0764003\ttotal: 755ms\tremaining: 183ms\n",
      "805:\tlearn: 0.0763387\ttotal: 756ms\tremaining: 182ms\n",
      "806:\tlearn: 0.0762592\ttotal: 757ms\tremaining: 181ms\n",
      "807:\tlearn: 0.0762138\ttotal: 758ms\tremaining: 180ms\n",
      "808:\tlearn: 0.0760935\ttotal: 759ms\tremaining: 179ms\n",
      "809:\tlearn: 0.0760050\ttotal: 760ms\tremaining: 178ms\n",
      "810:\tlearn: 0.0758820\ttotal: 761ms\tremaining: 177ms\n",
      "811:\tlearn: 0.0757268\ttotal: 762ms\tremaining: 176ms\n",
      "812:\tlearn: 0.0756140\ttotal: 762ms\tremaining: 175ms\n",
      "813:\tlearn: 0.0755302\ttotal: 763ms\tremaining: 174ms\n",
      "814:\tlearn: 0.0753991\ttotal: 764ms\tremaining: 173ms\n",
      "815:\tlearn: 0.0753169\ttotal: 765ms\tremaining: 172ms\n",
      "816:\tlearn: 0.0751535\ttotal: 766ms\tremaining: 171ms\n",
      "817:\tlearn: 0.0750896\ttotal: 766ms\tremaining: 171ms\n",
      "818:\tlearn: 0.0750005\ttotal: 767ms\tremaining: 170ms\n",
      "819:\tlearn: 0.0748739\ttotal: 768ms\tremaining: 169ms\n",
      "820:\tlearn: 0.0748072\ttotal: 769ms\tremaining: 168ms\n",
      "821:\tlearn: 0.0746499\ttotal: 770ms\tremaining: 167ms\n",
      "822:\tlearn: 0.0745490\ttotal: 771ms\tremaining: 166ms\n",
      "823:\tlearn: 0.0744344\ttotal: 771ms\tremaining: 165ms\n",
      "824:\tlearn: 0.0742899\ttotal: 772ms\tremaining: 164ms\n",
      "825:\tlearn: 0.0741902\ttotal: 773ms\tremaining: 163ms\n",
      "826:\tlearn: 0.0741809\ttotal: 774ms\tremaining: 162ms\n",
      "827:\tlearn: 0.0740960\ttotal: 775ms\tremaining: 161ms\n",
      "828:\tlearn: 0.0739525\ttotal: 775ms\tremaining: 160ms\n",
      "829:\tlearn: 0.0739233\ttotal: 776ms\tremaining: 159ms\n",
      "830:\tlearn: 0.0738832\ttotal: 777ms\tremaining: 158ms\n",
      "831:\tlearn: 0.0737385\ttotal: 778ms\tremaining: 157ms\n",
      "832:\tlearn: 0.0736602\ttotal: 779ms\tremaining: 156ms\n",
      "833:\tlearn: 0.0735805\ttotal: 780ms\tremaining: 155ms\n",
      "834:\tlearn: 0.0734668\ttotal: 781ms\tremaining: 154ms\n",
      "835:\tlearn: 0.0733840\ttotal: 782ms\tremaining: 153ms\n",
      "836:\tlearn: 0.0732680\ttotal: 783ms\tremaining: 152ms\n",
      "837:\tlearn: 0.0731029\ttotal: 784ms\tremaining: 151ms\n",
      "838:\tlearn: 0.0730162\ttotal: 784ms\tremaining: 151ms\n",
      "839:\tlearn: 0.0729195\ttotal: 785ms\tremaining: 150ms\n",
      "840:\tlearn: 0.0728136\ttotal: 786ms\tremaining: 149ms\n",
      "841:\tlearn: 0.0727926\ttotal: 787ms\tremaining: 148ms\n",
      "842:\tlearn: 0.0727248\ttotal: 788ms\tremaining: 147ms\n",
      "843:\tlearn: 0.0727042\ttotal: 789ms\tremaining: 146ms\n",
      "844:\tlearn: 0.0725886\ttotal: 789ms\tremaining: 145ms\n",
      "845:\tlearn: 0.0724622\ttotal: 790ms\tremaining: 144ms\n",
      "846:\tlearn: 0.0723274\ttotal: 791ms\tremaining: 143ms\n",
      "847:\tlearn: 0.0722275\ttotal: 792ms\tremaining: 142ms\n",
      "848:\tlearn: 0.0721312\ttotal: 793ms\tremaining: 141ms\n",
      "849:\tlearn: 0.0719857\ttotal: 794ms\tremaining: 140ms\n",
      "850:\tlearn: 0.0718371\ttotal: 795ms\tremaining: 139ms\n",
      "851:\tlearn: 0.0717504\ttotal: 796ms\tremaining: 138ms\n",
      "852:\tlearn: 0.0716055\ttotal: 796ms\tremaining: 137ms\n",
      "853:\tlearn: 0.0715696\ttotal: 797ms\tremaining: 136ms\n",
      "854:\tlearn: 0.0714918\ttotal: 798ms\tremaining: 135ms\n",
      "855:\tlearn: 0.0713132\ttotal: 799ms\tremaining: 134ms\n",
      "856:\tlearn: 0.0712871\ttotal: 800ms\tremaining: 133ms\n",
      "857:\tlearn: 0.0712292\ttotal: 800ms\tremaining: 132ms\n",
      "858:\tlearn: 0.0711533\ttotal: 801ms\tremaining: 132ms\n",
      "859:\tlearn: 0.0709820\ttotal: 802ms\tremaining: 131ms\n",
      "860:\tlearn: 0.0708312\ttotal: 803ms\tremaining: 130ms\n",
      "861:\tlearn: 0.0706631\ttotal: 804ms\tremaining: 129ms\n",
      "862:\tlearn: 0.0705593\ttotal: 805ms\tremaining: 128ms\n",
      "863:\tlearn: 0.0705188\ttotal: 806ms\tremaining: 127ms\n",
      "864:\tlearn: 0.0704850\ttotal: 806ms\tremaining: 126ms\n",
      "865:\tlearn: 0.0703694\ttotal: 807ms\tremaining: 125ms\n",
      "866:\tlearn: 0.0702920\ttotal: 808ms\tremaining: 124ms\n",
      "867:\tlearn: 0.0702660\ttotal: 809ms\tremaining: 123ms\n",
      "868:\tlearn: 0.0702255\ttotal: 810ms\tremaining: 122ms\n",
      "869:\tlearn: 0.0701145\ttotal: 810ms\tremaining: 121ms\n",
      "870:\tlearn: 0.0699648\ttotal: 811ms\tremaining: 120ms\n",
      "871:\tlearn: 0.0699452\ttotal: 812ms\tremaining: 119ms\n",
      "872:\tlearn: 0.0698304\ttotal: 813ms\tremaining: 118ms\n",
      "873:\tlearn: 0.0697284\ttotal: 814ms\tremaining: 117ms\n",
      "874:\tlearn: 0.0696197\ttotal: 814ms\tremaining: 116ms\n",
      "875:\tlearn: 0.0695757\ttotal: 815ms\tremaining: 115ms\n",
      "876:\tlearn: 0.0694747\ttotal: 816ms\tremaining: 114ms\n",
      "877:\tlearn: 0.0693819\ttotal: 817ms\tremaining: 114ms\n",
      "878:\tlearn: 0.0693388\ttotal: 818ms\tremaining: 113ms\n",
      "879:\tlearn: 0.0692651\ttotal: 818ms\tremaining: 112ms\n",
      "880:\tlearn: 0.0692279\ttotal: 819ms\tremaining: 111ms\n",
      "881:\tlearn: 0.0690674\ttotal: 820ms\tremaining: 110ms\n",
      "882:\tlearn: 0.0689497\ttotal: 821ms\tremaining: 109ms\n",
      "883:\tlearn: 0.0688959\ttotal: 822ms\tremaining: 108ms\n",
      "884:\tlearn: 0.0687660\ttotal: 823ms\tremaining: 107ms\n",
      "885:\tlearn: 0.0686605\ttotal: 823ms\tremaining: 106ms\n",
      "886:\tlearn: 0.0685038\ttotal: 824ms\tremaining: 105ms\n",
      "887:\tlearn: 0.0684030\ttotal: 825ms\tremaining: 104ms\n",
      "888:\tlearn: 0.0683638\ttotal: 826ms\tremaining: 103ms\n",
      "889:\tlearn: 0.0683265\ttotal: 827ms\tremaining: 102ms\n",
      "890:\tlearn: 0.0682474\ttotal: 828ms\tremaining: 101ms\n",
      "891:\tlearn: 0.0681011\ttotal: 829ms\tremaining: 100ms\n",
      "892:\tlearn: 0.0680282\ttotal: 829ms\tremaining: 99.4ms\n",
      "893:\tlearn: 0.0679675\ttotal: 830ms\tremaining: 98.4ms\n",
      "894:\tlearn: 0.0678841\ttotal: 831ms\tremaining: 97.5ms\n",
      "895:\tlearn: 0.0677959\ttotal: 832ms\tremaining: 96.6ms\n",
      "896:\tlearn: 0.0677206\ttotal: 833ms\tremaining: 95.6ms\n",
      "897:\tlearn: 0.0675857\ttotal: 834ms\tremaining: 94.7ms\n",
      "898:\tlearn: 0.0675682\ttotal: 834ms\tremaining: 93.7ms\n",
      "899:\tlearn: 0.0675042\ttotal: 835ms\tremaining: 92.8ms\n",
      "900:\tlearn: 0.0674730\ttotal: 836ms\tremaining: 91.9ms\n",
      "901:\tlearn: 0.0674288\ttotal: 837ms\tremaining: 90.9ms\n",
      "902:\tlearn: 0.0673418\ttotal: 838ms\tremaining: 90ms\n",
      "903:\tlearn: 0.0672583\ttotal: 838ms\tremaining: 89ms\n"
     ]
    },
    {
     "name": "stdout",
     "output_type": "stream",
     "text": [
      "904:\tlearn: 0.0671496\ttotal: 839ms\tremaining: 88.1ms\n",
      "905:\tlearn: 0.0670541\ttotal: 840ms\tremaining: 87.2ms\n",
      "906:\tlearn: 0.0669089\ttotal: 841ms\tremaining: 86.2ms\n",
      "907:\tlearn: 0.0667955\ttotal: 842ms\tremaining: 85.3ms\n",
      "908:\tlearn: 0.0667227\ttotal: 843ms\tremaining: 84.4ms\n",
      "909:\tlearn: 0.0666594\ttotal: 844ms\tremaining: 83.4ms\n",
      "910:\tlearn: 0.0664948\ttotal: 844ms\tremaining: 82.5ms\n",
      "911:\tlearn: 0.0664526\ttotal: 845ms\tremaining: 81.5ms\n",
      "912:\tlearn: 0.0664118\ttotal: 846ms\tremaining: 80.6ms\n",
      "913:\tlearn: 0.0663338\ttotal: 847ms\tremaining: 79.7ms\n",
      "914:\tlearn: 0.0661418\ttotal: 848ms\tremaining: 78.7ms\n",
      "915:\tlearn: 0.0660359\ttotal: 849ms\tremaining: 77.8ms\n",
      "916:\tlearn: 0.0659606\ttotal: 849ms\tremaining: 76.9ms\n",
      "917:\tlearn: 0.0658606\ttotal: 850ms\tremaining: 76ms\n",
      "918:\tlearn: 0.0658452\ttotal: 851ms\tremaining: 75ms\n",
      "919:\tlearn: 0.0657232\ttotal: 852ms\tremaining: 74.1ms\n",
      "920:\tlearn: 0.0656126\ttotal: 853ms\tremaining: 73.2ms\n",
      "921:\tlearn: 0.0654697\ttotal: 854ms\tremaining: 72.3ms\n",
      "922:\tlearn: 0.0653635\ttotal: 855ms\tremaining: 71.3ms\n",
      "923:\tlearn: 0.0652110\ttotal: 856ms\tremaining: 70.4ms\n",
      "924:\tlearn: 0.0651024\ttotal: 857ms\tremaining: 69.5ms\n",
      "925:\tlearn: 0.0650092\ttotal: 858ms\tremaining: 68.5ms\n",
      "926:\tlearn: 0.0649037\ttotal: 858ms\tremaining: 67.6ms\n",
      "927:\tlearn: 0.0647983\ttotal: 859ms\tremaining: 66.7ms\n",
      "928:\tlearn: 0.0646231\ttotal: 860ms\tremaining: 65.7ms\n",
      "929:\tlearn: 0.0644751\ttotal: 861ms\tremaining: 64.8ms\n",
      "930:\tlearn: 0.0644239\ttotal: 862ms\tremaining: 63.9ms\n",
      "931:\tlearn: 0.0643753\ttotal: 863ms\tremaining: 62.9ms\n",
      "932:\tlearn: 0.0642369\ttotal: 864ms\tremaining: 62ms\n",
      "933:\tlearn: 0.0641119\ttotal: 864ms\tremaining: 61.1ms\n",
      "934:\tlearn: 0.0639988\ttotal: 865ms\tremaining: 60.1ms\n",
      "935:\tlearn: 0.0639546\ttotal: 866ms\tremaining: 59.2ms\n",
      "936:\tlearn: 0.0638554\ttotal: 867ms\tremaining: 58.3ms\n",
      "937:\tlearn: 0.0637785\ttotal: 868ms\tremaining: 57.4ms\n",
      "938:\tlearn: 0.0636546\ttotal: 869ms\tremaining: 56.4ms\n",
      "939:\tlearn: 0.0635572\ttotal: 869ms\tremaining: 55.5ms\n",
      "940:\tlearn: 0.0634352\ttotal: 870ms\tremaining: 54.6ms\n",
      "941:\tlearn: 0.0633837\ttotal: 871ms\tremaining: 53.6ms\n",
      "942:\tlearn: 0.0633593\ttotal: 872ms\tremaining: 52.7ms\n",
      "943:\tlearn: 0.0632658\ttotal: 872ms\tremaining: 51.8ms\n",
      "944:\tlearn: 0.0632301\ttotal: 873ms\tremaining: 50.8ms\n",
      "945:\tlearn: 0.0631286\ttotal: 874ms\tremaining: 49.9ms\n",
      "946:\tlearn: 0.0630638\ttotal: 875ms\tremaining: 49ms\n",
      "947:\tlearn: 0.0629877\ttotal: 876ms\tremaining: 48ms\n",
      "948:\tlearn: 0.0628597\ttotal: 876ms\tremaining: 47.1ms\n",
      "949:\tlearn: 0.0628267\ttotal: 877ms\tremaining: 46.2ms\n",
      "950:\tlearn: 0.0626350\ttotal: 878ms\tremaining: 45.2ms\n",
      "951:\tlearn: 0.0625368\ttotal: 879ms\tremaining: 44.3ms\n",
      "952:\tlearn: 0.0624668\ttotal: 880ms\tremaining: 43.4ms\n",
      "953:\tlearn: 0.0623077\ttotal: 882ms\tremaining: 42.5ms\n",
      "954:\tlearn: 0.0622506\ttotal: 882ms\tremaining: 41.6ms\n",
      "955:\tlearn: 0.0621659\ttotal: 883ms\tremaining: 40.7ms\n",
      "956:\tlearn: 0.0621471\ttotal: 884ms\tremaining: 39.7ms\n",
      "957:\tlearn: 0.0620721\ttotal: 885ms\tremaining: 38.8ms\n",
      "958:\tlearn: 0.0620520\ttotal: 886ms\tremaining: 37.9ms\n",
      "959:\tlearn: 0.0619644\ttotal: 887ms\tremaining: 36.9ms\n",
      "960:\tlearn: 0.0618588\ttotal: 887ms\tremaining: 36ms\n",
      "961:\tlearn: 0.0617792\ttotal: 888ms\tremaining: 35.1ms\n",
      "962:\tlearn: 0.0617326\ttotal: 889ms\tremaining: 34.2ms\n",
      "963:\tlearn: 0.0616828\ttotal: 890ms\tremaining: 33.2ms\n",
      "964:\tlearn: 0.0615610\ttotal: 891ms\tremaining: 32.3ms\n",
      "965:\tlearn: 0.0615041\ttotal: 891ms\tremaining: 31.4ms\n",
      "966:\tlearn: 0.0614847\ttotal: 892ms\tremaining: 30.4ms\n",
      "967:\tlearn: 0.0613574\ttotal: 893ms\tremaining: 29.5ms\n",
      "968:\tlearn: 0.0612934\ttotal: 894ms\tremaining: 28.6ms\n",
      "969:\tlearn: 0.0612442\ttotal: 895ms\tremaining: 27.7ms\n",
      "970:\tlearn: 0.0611389\ttotal: 895ms\tremaining: 26.7ms\n",
      "971:\tlearn: 0.0610508\ttotal: 896ms\tremaining: 25.8ms\n",
      "972:\tlearn: 0.0609235\ttotal: 897ms\tremaining: 24.9ms\n",
      "973:\tlearn: 0.0609047\ttotal: 898ms\tremaining: 24ms\n",
      "974:\tlearn: 0.0607732\ttotal: 899ms\tremaining: 23ms\n",
      "975:\tlearn: 0.0606829\ttotal: 899ms\tremaining: 22.1ms\n",
      "976:\tlearn: 0.0605423\ttotal: 900ms\tremaining: 21.2ms\n",
      "977:\tlearn: 0.0604069\ttotal: 901ms\tremaining: 20.3ms\n",
      "978:\tlearn: 0.0602647\ttotal: 902ms\tremaining: 19.3ms\n",
      "979:\tlearn: 0.0601992\ttotal: 903ms\tremaining: 18.4ms\n",
      "980:\tlearn: 0.0601175\ttotal: 903ms\tremaining: 17.5ms\n",
      "981:\tlearn: 0.0600362\ttotal: 904ms\tremaining: 16.6ms\n",
      "982:\tlearn: 0.0598792\ttotal: 905ms\tremaining: 15.7ms\n",
      "983:\tlearn: 0.0597911\ttotal: 906ms\tremaining: 14.7ms\n",
      "984:\tlearn: 0.0596350\ttotal: 907ms\tremaining: 13.8ms\n",
      "985:\tlearn: 0.0595592\ttotal: 908ms\tremaining: 12.9ms\n",
      "986:\tlearn: 0.0594114\ttotal: 908ms\tremaining: 12ms\n",
      "987:\tlearn: 0.0592713\ttotal: 909ms\tremaining: 11ms\n",
      "988:\tlearn: 0.0591588\ttotal: 910ms\tremaining: 10.1ms\n",
      "989:\tlearn: 0.0590223\ttotal: 911ms\tremaining: 9.2ms\n",
      "990:\tlearn: 0.0589411\ttotal: 912ms\tremaining: 8.28ms\n",
      "991:\tlearn: 0.0588238\ttotal: 913ms\tremaining: 7.36ms\n",
      "992:\tlearn: 0.0587413\ttotal: 913ms\tremaining: 6.44ms\n",
      "993:\tlearn: 0.0586835\ttotal: 914ms\tremaining: 5.52ms\n",
      "994:\tlearn: 0.0586753\ttotal: 915ms\tremaining: 4.6ms\n",
      "995:\tlearn: 0.0586545\ttotal: 916ms\tremaining: 3.68ms\n",
      "996:\tlearn: 0.0585463\ttotal: 917ms\tremaining: 2.76ms\n",
      "997:\tlearn: 0.0584838\ttotal: 918ms\tremaining: 1.84ms\n",
      "998:\tlearn: 0.0583985\ttotal: 919ms\tremaining: 919us\n",
      "999:\tlearn: 0.0582662\ttotal: 919ms\tremaining: 0us\n"
     ]
    },
    {
     "data": {
      "text/plain": [
       "<catboost.core.CatBoostRegressor at 0x7f7b923b0ca0>"
      ]
     },
     "execution_count": 9,
     "metadata": {},
     "output_type": "execute_result"
    }
   ],
   "source": [
    "#Train the Model \n",
    "prior_model = ctb.CatBoostRegressor()\n",
    "prior_model.fit(X_train,Y_train)"
   ]
  },
  {
   "cell_type": "code",
   "execution_count": 10,
   "id": "af65dcda",
   "metadata": {
    "execution": {
     "iopub.execute_input": "2022-06-12T08:27:49.292625Z",
     "iopub.status.busy": "2022-06-12T08:27:49.292228Z",
     "iopub.status.idle": "2022-06-12T08:27:49.299549Z",
     "shell.execute_reply": "2022-06-12T08:27:49.299795Z"
    },
    "id": "af65dcda",
    "papermill": {
     "duration": 0.022084,
     "end_time": "2022-06-12T08:27:49.299914",
     "exception": false,
     "start_time": "2022-06-12T08:27:49.277830",
     "status": "completed"
    },
    "tags": []
   },
   "outputs": [
    {
     "data": {
      "application/scrapbook.scrap.json+json": {
       "data": 0.08815243837582391,
       "encoder": "json",
       "name": "Prior Model MSE",
       "version": 1
      }
     },
     "metadata": {
      "scrapbook": {
       "data": true,
       "display": false,
       "name": "Prior Model MSE"
      }
     },
     "output_type": "display_data"
    },
    {
     "data": {
      "application/scrapbook.scrap.json+json": {
       "data": 1.063706858762385,
       "encoder": "json",
       "name": "ABC Pre-generator MSE",
       "version": 1
      }
     },
     "metadata": {
      "scrapbook": {
       "data": true,
       "display": false,
       "name": "ABC Pre-generator MSE"
      }
     },
     "output_type": "display_data"
    },
    {
     "data": {
      "application/scrapbook.scrap.json+json": {
       "data": 0.216073704891824,
       "encoder": "json",
       "name": "Prior Model MSE",
       "version": 1
      }
     },
     "metadata": {
      "scrapbook": {
       "data": true,
       "display": false,
       "name": "Prior Model MSE"
      }
     },
     "output_type": "display_data"
    },
    {
     "data": {
      "application/scrapbook.scrap.json+json": {
       "data": 0.994843826381657,
       "encoder": "json",
       "name": "ABC Pre-generator MSE",
       "version": 1
      }
     },
     "metadata": {
      "scrapbook": {
       "data": true,
       "display": false,
       "name": "ABC Pre-generator MSE"
      }
     },
     "output_type": "display_data"
    }
   ],
   "source": [
    "y_pred = prior_model.predict(X_test)\n",
    "y_abc = y_pred + np.random.normal(0,variance, y_pred.shape) + bias \n",
    "mse = mean_squared_error(y_pred,Y_test)\n",
    "sb.glue(\"Prior Model MSE\",mse)\n",
    "mse = mean_squared_error(y_abc,Y_test)\n",
    "sb.glue(\"ABC Pre-generator MSE\",mse)\n",
    "mae = mean_absolute_error(y_pred,Y_test)\n",
    "sb.glue(\"Prior Model MSE\",mae)\n",
    "mae = mean_absolute_error(y_abc,Y_test)\n",
    "sb.glue(\"ABC Pre-generator MSE\",mae)"
   ]
  },
  {
   "cell_type": "markdown",
   "id": "25609da2",
   "metadata": {
    "papermill": {
     "duration": 0.0097,
     "end_time": "2022-06-12T08:27:49.319721",
     "exception": false,
     "start_time": "2022-06-12T08:27:49.310021",
     "status": "completed"
    },
    "tags": []
   },
   "source": [
    "# ABC GAN Model"
   ]
  },
  {
   "cell_type": "code",
   "execution_count": 11,
   "id": "dfc3464d",
   "metadata": {
    "execution": {
     "iopub.execute_input": "2022-06-12T08:27:49.342152Z",
     "iopub.status.busy": "2022-06-12T08:27:49.341758Z",
     "iopub.status.idle": "2022-06-12T08:27:49.344236Z",
     "shell.execute_reply": "2022-06-12T08:27:49.344469Z"
    },
    "papermill": {
     "duration": 0.015114,
     "end_time": "2022-06-12T08:27:49.344576",
     "exception": false,
     "start_time": "2022-06-12T08:27:49.329462",
     "status": "completed"
    },
    "tags": []
   },
   "outputs": [],
   "source": [
    "gen = network.Generator(n_features+1).to(device)\n",
    "disc = network.Discriminator(n_features+1).to(device)\n",
    "\n",
    "criterion = torch.nn.BCELoss()\n",
    "gen_opt = torch.optim.Adam(gen.parameters(), lr=0.001, betas=(0.5, 0.999))\n",
    "disc_opt = torch.optim.Adam(disc.parameters(), lr=0.001, betas=(0.5, 0.999))"
   ]
  },
  {
   "cell_type": "code",
   "execution_count": 12,
   "id": "b75fdd85",
   "metadata": {
    "execution": {
     "iopub.execute_input": "2022-06-12T08:27:49.367076Z",
     "iopub.status.busy": "2022-06-12T08:27:49.366711Z",
     "iopub.status.idle": "2022-06-12T08:28:51.562357Z",
     "shell.execute_reply": "2022-06-12T08:28:51.562667Z"
    },
    "papermill": {
     "duration": 62.208192,
     "end_time": "2022-06-12T08:28:51.562802",
     "exception": false,
     "start_time": "2022-06-12T08:27:49.354610",
     "status": "completed"
    },
    "tags": []
   },
   "outputs": [
    {
     "data": {
      "image/png": "[encoded data removed]",
      "text/plain": [
       "<Figure size 432x288 with 1 Axes>"
      ]
     },
     "metadata": {
      "needs_background": "light"
     },
     "output_type": "display_data"
    },
    {
     "data": {
      "image/png": "[encoded data removed]",
      "text/plain": [
       "<Figure size 432x288 with 1 Axes>"
      ]
     },
     "metadata": {
      "needs_background": "light"
     },
     "output_type": "display_data"
    }
   ],
   "source": [
    "#Training the ABC_GAN \n",
    "ABC_train_test2.training_GAN(disc,gen,disc_opt,gen_opt,train_data,batch_size,n_epochs,criterion,prior_model,variance,bias,device)"
   ]
  },
  {
   "cell_type": "code",
   "execution_count": 13,
   "id": "1fa7c368",
   "metadata": {
    "execution": {
     "iopub.execute_input": "2022-06-12T08:28:51.588333Z",
     "iopub.status.busy": "2022-06-12T08:28:51.587822Z",
     "iopub.status.idle": "2022-06-12T08:28:51.896890Z",
     "shell.execute_reply": "2022-06-12T08:28:51.897191Z"
    },
    "papermill": {
     "duration": 0.323757,
     "end_time": "2022-06-12T08:28:51.897315",
     "exception": false,
     "start_time": "2022-06-12T08:28:51.573558",
     "status": "completed"
    },
    "tags": []
   },
   "outputs": [
    {
     "data": {
      "application/scrapbook.scrap.json+json": {
       "data": 0.10693867794974714,
       "encoder": "json",
       "name": "ABC-GAN Model 1 MSE",
       "version": 1
      }
     },
     "metadata": {
      "scrapbook": {
       "data": true,
       "display": false,
       "name": "ABC-GAN Model 1 MSE"
      }
     },
     "output_type": "display_data"
    },
    {
     "data": {
      "application/scrapbook.scrap.json+json": {
       "data": 0.22093278360133078,
       "encoder": "json",
       "name": "ABC-GAN Model 1 MAE",
       "version": 1
      }
     },
     "metadata": {
      "scrapbook": {
       "data": true,
       "display": false,
       "name": "ABC-GAN Model 1 MAE"
      }
     },
     "output_type": "display_data"
    },
    {
     "data": {
      "application/scrapbook.scrap.json+json": {
       "data": 22.53514392733574,
       "encoder": "json",
       "name": "ABC-GAN Model 1 Manhattan Distance",
       "version": 1
      }
     },
     "metadata": {
      "scrapbook": {
       "data": true,
       "display": false,
       "name": "ABC-GAN Model 1 Manhattan Distance"
      }
     },
     "output_type": "display_data"
    },
    {
     "data": {
      "application/scrapbook.scrap.json+json": {
       "data": 3.3026705678405253,
       "encoder": "json",
       "name": "ABC-GAN Model 1 Euclidean distance",
       "version": 1
      }
     },
     "metadata": {
      "scrapbook": {
       "data": true,
       "display": false,
       "name": "ABC-GAN Model 1 Euclidean distance"
      }
     },
     "output_type": "display_data"
    },
    {
     "data": {
      "application/scrapbook.scrap.json+json": {
       "data": [
        [
         0.10659771471680488,
         0.10767524617753974,
         0.10750973594155108,
         0.1064195584202693,
         0.10785662662887224,
         0.10748882082770823,
         0.10568110308538947,
         0.10682868117852776,
         0.10775983411256854,
         0.10657127116757566,
         0.1070357471488238,
         0.10581908299718927,
         0.10749179837190925,
         0.10618120987876403,
         0.10779960449894496,
         0.10736944812508607,
         0.10774760390390334,
         0.10706576698481159,
         0.1073990513956777,
         0.10742475811097109,
         0.10632875422958614,
         0.10691265871173351,
         0.10715292520120386,
         0.1065829004591717,
         0.10744874809195813,
         0.10625828935750614,
         0.10669713482822109,
         0.10707526107171664,
         0.1069299553966023,
         0.10718634735736068,
         0.10658551758429206,
         0.1063859299182578,
         0.10772192813682388,
         0.10699629433580309,
         0.10673384830768952,
         0.10595452992540498,
         0.10696685072192205,
         0.10735487123335728,
         0.1063682034762524,
         0.1066776691170261,
         0.10719312385766246,
         0.10722898970370252,
         0.10650005409709198,
         0.1081912342309387,
         0.10522334226626018,
         0.10688452047539145,
         0.10626282015973051,
         0.10668222227405258,
         0.10802842460288217,
         0.10647446729035799,
         0.10677344680752977,
         0.10704604549416812,
         0.1062039319704001,
         0.10733757586974974,
         0.1075202326945855,
         0.10790502724865889,
         0.10578101327226472,
         0.10626450736001654,
         0.1076856329105321,
         0.10717131736152954,
         0.10736683408234098,
         0.10621650418216651,
         0.10560162192881387,
         0.10827934449464655,
         0.10609736492269263,
         0.1071282590832596,
         0.10606442242954756,
         0.10497553978196028,
         0.10773094862683433,
         0.10641282313060095,
         0.10662070990574093,
         0.10721685189989011,
         0.10741551326436961,
         0.10710542281725893,
         0.10824522417389977,
         0.10750901571884773,
         0.10732530272041393,
         0.10706694021378678,
         0.10709750506932277,
         0.10638823364820633,
         0.10587154337821827,
         0.10628813725218811,
         0.1070950449629584,
         0.10679051083017414,
         0.10818781934113902,
         0.10770691498684141,
         0.10670202190827421,
         0.10832721524043652,
         0.10611433003402447,
         0.10648935298647126,
         0.10717993651248615,
         0.10708127378585228,
         0.10701537128744862,
         0.10702273450829557,
         0.10810122665782312,
         0.10708953523991173,
         0.10587556391642221,
         0.1067958015509292,
         0.1067498502909509,
         0.10712001712698473
        ],
        [
         0.2206021445054634,
         0.22095253479246998,
         0.22122769006619267,
         0.21934609195473148,
         0.22247139064996851,
         0.22196823175923497,
         0.21806095861921124,
         0.219509961777458,
         0.22157443957585915,
         0.2199467562285124,
         0.2204901480353346,
         0.21958817198288208,
         0.22190065820719682,
         0.21885033477755153,
         0.2220490117575608,
         0.22201807884608998,
         0.22222558094882497,
         0.22106487106750994,
         0.22207237823921092,
         0.22231425585992196,
         0.22044327570235028,
         0.2204390941005127,
         0.22115768463003868,
         0.22005950681426945,
         0.22159327186790168,
         0.22058374887587978,
         0.2203002672131155,
         0.22082288095764085,
         0.2212998829782009,
         0.22227991890965723,
         0.2207964381896982,
         0.22085807757342563,
         0.22169017587222306,
         0.2212221624658388,
         0.22021282566528694,
         0.21972277658242806,
         0.2204729079031477,
         0.2206159272760737,
         0.2192146569928702,
         0.2201397567256993,
         0.2219040686008977,
         0.22218776216693953,
         0.22064688042098402,
         0.22293469996428958,
         0.21955436774913004,
         0.22214937830964723,
         0.21951414783503495,
         0.220682937359693,
         0.22261057326606676,
         0.22011634911976607,
         0.22093243509823202,
         0.22182835324429998,
         0.21894803285306574,
         0.22267352862685336,
         0.21968579650217412,
         0.2229656757531213,
         0.21950262989483627,
         0.21982474917290257,
         0.22131476237201222,
         0.2212775485480533,
         0.22196957593162855,
         0.2197710981994283,
         0.22034410394582093,
         0.22169297531831497,
         0.2203117359210463,
         0.2210042977011671,
         0.21970930089261018,
         0.2192838303014344,
         0.2223538285961338,
         0.2203587330147332,
         0.22053794329072915,
         0.22148356425995921,
         0.22093060094059683,
         0.22202508385274924,
         0.2222450639249063,
         0.2222634781078965,
         0.22112850859469058,
         0.22074544159512893,
         0.22156529910131997,
         0.21945194140368818,
         0.2207021509461543,
         0.22014826032168724,
         0.22073327560050815,
         0.22068568194905916,
         0.22340222097495022,
         0.2212432268641743,
         0.22049112566838078,
         0.22241731433599604,
         0.22143697241942087,
         0.21991469484626078,
         0.22144908881654926,
         0.22068939233819643,
         0.2206683403574953,
         0.22129747322669216,
         0.22237564637964846,
         0.22056137785023333,
         0.21914868655742384,
         0.221358610718858,
         0.22108842395976477,
         0.22087638730219766
        ],
        [
         22.501418739557266,
         22.53715854883194,
         22.56522438675165,
         22.37330137938261,
         22.692081846296787,
         22.640759639441967,
         22.242217779159546,
         22.390016101300716,
         22.600592836737633,
         22.434569135308266,
         22.48999509960413,
         22.39799354225397,
         22.633867137134075,
         22.322734147310257,
         22.648999199271202,
         22.645844042301178,
         22.667009256780148,
         22.548616848886013,
         22.651382580399513,
         22.67605409771204,
         22.48521412163973,
         22.484787598252296,
         22.558083832263947,
         22.446069695055485,
         22.60251373052597,
         22.499542385339737,
         22.47062725573778,
         22.523933857679367,
         22.572588063776493,
         22.672551728785038,
         22.521236695349216,
         22.527523912489414,
         22.61239793896675,
         22.56466057151556,
         22.461708217859268,
         22.41172321140766,
         22.488236606121063,
         22.50282458215952,
         22.359895013272762,
         22.454255186021328,
         22.634214997291565,
         22.663151741027832,
         22.50598180294037,
         22.739339396357536,
         22.394545510411263,
         22.65923658758402,
         22.390443079173565,
         22.509659610688686,
         22.70627847313881,
         22.45186761021614,
         22.535108380019665,
         22.626492030918598,
         22.332699351012707,
         22.71269991993904,
         22.40795124322176,
         22.74249892681837,
         22.3892682492733,
         22.422124415636063,
         22.574105761945248,
         22.570309951901436,
         22.64089674502611,
         22.416652016341686,
         22.475098602473736,
         22.612683482468128,
         22.471797063946724,
         22.542438365519047,
         22.410348691046238,
         22.366950690746307,
         22.68009051680565,
         22.476590767502785,
         22.494870215654373,
         22.59132355451584,
         22.534921295940876,
         22.646558552980423,
         22.668996520340443,
         22.670874767005444,
         22.55510787665844,
         22.51603504270315,
         22.599660508334637,
         22.384098023176193,
         22.51161939650774,
         22.4551225528121,
         22.51479411125183,
         22.509939558804035,
         22.787026539444923,
         22.56680914014578,
         22.49009481817484,
         22.686566062271595,
         22.58657118678093,
         22.4312988743186,
         22.587807059288025,
         22.510318018496037,
         22.50817071646452,
         22.5723422691226,
         22.682315930724144,
         22.4972605407238,
         22.35316602885723,
         22.578578293323517,
         22.551019243896008,
         22.52939150482416
        ],
        [
         3.297418217502004,
         3.314042110491212,
         3.3114940836483773,
         3.294661584877492,
         3.316832211032834,
         3.3111719563360396,
         3.2832107021496086,
         3.3009885610540715,
         3.3153435839264054,
         3.297009199121639,
         3.304186164425369,
         3.285353324334127,
         3.3112178173497955,
         3.2909699797527665,
         3.315955316178488,
         3.309332819279254,
         3.3151554410311053,
         3.304649487078892,
         3.309789002694752,
         3.3101850895862364,
         3.293255673557367,
         3.3022857521112274,
         3.3059943089065946,
         3.297189082663521,
         3.3105546824331005,
         3.292164259945973,
         3.2989555547898113,
         3.304796004190741,
         3.302552868684078,
         3.306509856397042,
         3.29722956337556,
         3.2941409884311708,
         3.3147604242171145,
         3.3035771554864453,
         3.2995230757466043,
         3.2874552548120417,
         3.303122579262848,
         3.3091081677398275,
         3.293866535635246,
         3.2986546121012212,
         3.3066143762890725,
         3.307167511599262,
         3.2959073891575557,
         3.3219731924799967,
         3.2760923233569805,
         3.3018511608626344,
         3.292234447346135,
         3.2987250070221616,
         3.3194727457073623,
         3.2955114418882707,
         3.3001350842606483,
         3.3043451152089336,
         3.291322084053884,
         3.308841600728942,
         3.311655739180587,
         3.3175763411507506,
         3.2847622979100026,
         3.292260583660061,
         3.3142019487162018,
         3.306278023832238,
         3.3092925341224775,
         3.2915168883937054,
         3.2819758434118635,
         3.3233256142686267,
         3.289670381985806,
         3.305613774549663,
         3.2891596324614345,
         3.272232427221505,
         3.3148992081113255,
         3.2945573237267087,
         3.297773856768468,
         3.306980328606263,
         3.3100426512306,
         3.305261431015768,
         3.32280196005386,
         3.311482991549627,
         3.308652426212553,
         3.304667593239333,
         3.30513925834766,
         3.294176654661532,
         3.286167589241039,
         3.2926266110391538,
         3.305101297422176,
         3.3003987796443255,
         3.3219207655806873,
         3.314529427936614,
         3.2990311054374684,
         3.324060161086818,
         3.2899333828317086,
         3.2957417988398405,
         3.3064109732871363,
         3.304888791798738,
         3.3038716487357305,
         3.303985308660761,
         3.3205910797775084,
         3.305016277489566,
         3.286229985785393,
         3.300480534436581,
         3.2997704056005146,
         3.3054866127322966
        ]
       ],
       "encoder": "json",
       "name": "ABC_GAN_1 Metrics",
       "version": 1
      }
     },
     "metadata": {
      "scrapbook": {
       "data": true,
       "display": false,
       "name": "ABC_GAN_1 Metrics"
      }
     },
     "output_type": "display_data"
    },
    {
     "name": "stdout",
     "output_type": "stream",
     "text": [
      "MSE\n",
      "0.10693867794974714\n"
     ]
    }
   ],
   "source": [
    "ABC_GAN1_metrics=ABC_train_test2.test_generator(gen,test_data,prior_model,variance,bias,\"1\",device)\n",
    "sb.glue(\"ABC_GAN_1 Metrics\",ABC_GAN1_metrics)\n",
    "\n",
    "print(\"MSE\")\n",
    "print(mean(ABC_GAN1_metrics[0]))"
   ]
  },
  {
   "cell_type": "code",
   "execution_count": 14,
   "id": "eb22ce5c",
   "metadata": {
    "execution": {
     "iopub.execute_input": "2022-06-12T08:28:51.924764Z",
     "iopub.status.busy": "2022-06-12T08:28:51.924385Z",
     "iopub.status.idle": "2022-06-12T08:28:52.249412Z",
     "shell.execute_reply": "2022-06-12T08:28:52.249717Z"
    },
    "papermill": {
     "duration": 0.339641,
     "end_time": "2022-06-12T08:28:52.249839",
     "exception": false,
     "start_time": "2022-06-12T08:28:51.910198",
     "status": "completed"
    },
    "tags": []
   },
   "outputs": [
    {
     "data": {
      "image/png": "[encoded data removed]",
      "text/plain": [
       "<Figure size 432x288 with 1 Axes>"
      ]
     },
     "metadata": {
      "needs_background": "light"
     },
     "output_type": "display_data"
    },
    {
     "data": {
      "image/png": "[encoded data removed]",
      "text/plain": [
       "<Figure size 432x288 with 1 Axes>"
      ]
     },
     "metadata": {
      "needs_background": "light"
     },
     "output_type": "display_data"
    },
    {
     "data": {
      "image/png": "[encoded data removed]",
      "text/plain": [
       "<Figure size 432x288 with 1 Axes>"
      ]
     },
     "metadata": {
      "needs_background": "light"
     },
     "output_type": "display_data"
    },
    {
     "data": {
      "image/png": "[encoded data removed]",
      "text/plain": [
       "<Figure size 432x288 with 1 Axes>"
      ]
     },
     "metadata": {
      "needs_background": "light"
     },
     "output_type": "display_data"
    }
   ],
   "source": [
    "sanityChecks.discProbVsError(train_data,disc,device)\n",
    "sanityChecks.discProbVsError(test_data,disc,device)"
   ]
  },
  {
   "cell_type": "markdown",
   "id": "130f3a4d",
   "metadata": {
    "id": "130f3a4d",
    "papermill": {
     "duration": 0.014412,
     "end_time": "2022-06-12T08:28:52.279321",
     "exception": false,
     "start_time": "2022-06-12T08:28:52.264909",
     "status": "completed"
    },
    "tags": []
   },
   "source": [
    "# ABC - GAN Model with skip connection"
   ]
  },
  {
   "cell_type": "code",
   "execution_count": 15,
   "id": "4e43dad1",
   "metadata": {
    "execution": {
     "iopub.execute_input": "2022-06-12T08:28:52.312064Z",
     "iopub.status.busy": "2022-06-12T08:28:52.311680Z",
     "iopub.status.idle": "2022-06-12T08:28:52.313825Z",
     "shell.execute_reply": "2022-06-12T08:28:52.314069Z"
    },
    "id": "4e43dad1",
    "papermill": {
     "duration": 0.020294,
     "end_time": "2022-06-12T08:28:52.314178",
     "exception": false,
     "start_time": "2022-06-12T08:28:52.293884",
     "status": "completed"
    },
    "tags": []
   },
   "outputs": [],
   "source": [
    "#Generator\n",
    "gen3 = network.GeneratorWithSkipConnection(n_features+1).to(device)\n",
    "constraints=network.weightConstraint()\n",
    "#Discriminator \n",
    "disc3 = network.Discriminator(n_features+1).to(device)\n",
    "\n",
    "criterion = torch.nn.BCELoss()\n",
    "gen_opt = torch.optim.Adam(gen3.parameters(), lr=0.001, betas=(0.5, 0.999))\n",
    "disc_opt = torch.optim.Adam(disc3.parameters(), lr=0.001, betas=(0.5, 0.999))\n"
   ]
  },
  {
   "cell_type": "code",
   "execution_count": 16,
   "id": "26acbc37",
   "metadata": {
    "execution": {
     "iopub.execute_input": "2022-06-12T08:28:52.345852Z",
     "iopub.status.busy": "2022-06-12T08:28:52.345477Z",
     "iopub.status.idle": "2022-06-12T08:31:48.920231Z",
     "shell.execute_reply": "2022-06-12T08:31:48.920667Z"
    },
    "id": "26acbc37",
    "papermill": {
     "duration": 176.592,
     "end_time": "2022-06-12T08:31:48.920836",
     "exception": false,
     "start_time": "2022-06-12T08:28:52.328836",
     "status": "completed"
    },
    "tags": []
   },
   "outputs": [
    {
     "data": {
      "image/png": "[encoded data removed]",
      "text/plain": [
       "<Figure size 432x288 with 1 Axes>"
      ]
     },
     "metadata": {
      "needs_background": "light"
     },
     "output_type": "display_data"
    },
    {
     "data": {
      "image/png": "[encoded data removed]",
      "text/plain": [
       "<Figure size 432x288 with 1 Axes>"
      ]
     },
     "metadata": {
      "needs_background": "light"
     },
     "output_type": "display_data"
    }
   ],
   "source": [
    "ABC_train_test2.training_GAN_skip_connection(disc3,gen3,disc_opt,gen_opt,train_data,batch_size,n_epochs,criterion,prior_model,variance,bias,device)"
   ]
  },
  {
   "cell_type": "code",
   "execution_count": 17,
   "id": "c5e0717b",
   "metadata": {
    "execution": {
     "iopub.execute_input": "2022-06-12T08:31:48.956075Z",
     "iopub.status.busy": "2022-06-12T08:31:48.955371Z",
     "iopub.status.idle": "2022-06-12T08:31:49.815873Z",
     "shell.execute_reply": "2022-06-12T08:31:49.816289Z"
    },
    "id": "c5e0717b",
    "papermill": {
     "duration": 0.879319,
     "end_time": "2022-06-12T08:31:49.816416",
     "exception": false,
     "start_time": "2022-06-12T08:31:48.937097",
     "status": "completed"
    },
    "tags": []
   },
   "outputs": [
    {
     "data": {
      "application/scrapbook.scrap.json+json": {
       "data": 0.09960878021334729,
       "encoder": "json",
       "name": "ABC-GAN Model 3 MSE",
       "version": 1
      }
     },
     "metadata": {
      "scrapbook": {
       "data": true,
       "display": false,
       "name": "ABC-GAN Model 3 MSE"
      }
     },
     "output_type": "display_data"
    },
    {
     "data": {
      "application/scrapbook.scrap.json+json": {
       "data": 0.2388844333946997,
       "encoder": "json",
       "name": "ABC-GAN Model 3 MAE",
       "version": 1
      }
     },
     "metadata": {
      "scrapbook": {
       "data": true,
       "display": false,
       "name": "ABC-GAN Model 3 MAE"
      }
     },
     "output_type": "display_data"
    },
    {
     "data": {
      "application/scrapbook.scrap.json+json": {
       "data": 24.36621220625937,
       "encoder": "json",
       "name": "ABC-GAN Model 3 Manhattan Distance",
       "version": 1
      }
     },
     "metadata": {
      "scrapbook": {
       "data": true,
       "display": false,
       "name": "ABC-GAN Model 3 Manhattan Distance"
      }
     },
     "output_type": "display_data"
    },
    {
     "data": {
      "application/scrapbook.scrap.json+json": {
       "data": 3.1874668480209842,
       "encoder": "json",
       "name": "ABC-GAN Model 3 Euclidean distance",
       "version": 1
      }
     },
     "metadata": {
      "scrapbook": {
       "data": true,
       "display": false,
       "name": "ABC-GAN Model 3 Euclidean distance"
      }
     },
     "output_type": "display_data"
    },
    {
     "data": {
      "application/scrapbook.scrap.json+json": {
       "data": [
        [
         0.09996303167825785,
         0.09857924838141073,
         0.09914488080711646,
         0.09964034470325522,
         0.09900868647357829,
         0.09989609729045276,
         0.09968346038506014,
         0.09970128401475536,
         0.09938676266536785,
         0.0998052706111762,
         0.09966413583782546,
         0.09942131497606686,
         0.1008730769546279,
         0.09948825244077428,
         0.09975224286112985,
         0.09821593009487505,
         0.09853524334750535,
         0.09860437182622588,
         0.09873739229431237,
         0.09932185752599222,
         0.09925752886455858,
         0.10124128779679839,
         0.10025320645318485,
         0.09925352165634874,
         0.10009084527172883,
         0.10019953845458598,
         0.09975289179614774,
         0.10133145803070637,
         0.09921655728044843,
         0.09937325379978883,
         0.09826278178566238,
         0.09918719502385595,
         0.09963494424020324,
         0.09939619087137698,
         0.09970475174417108,
         0.10024284726703815,
         0.10060200597082873,
         0.10017983374524043,
         0.10019319073484219,
         0.09944363888577883,
         0.0986395894673058,
         0.10100918204788932,
         0.09960389087001904,
         0.0991965590565404,
         0.09922434916640516,
         0.10028709531394142,
         0.09951924900874816,
         0.09986850103481093,
         0.09896920581249359,
         0.09950324777091224,
         0.10142016818650644,
         0.09925552505958475,
         0.09926916643367538,
         0.09868655667482809,
         0.10011477959856663,
         0.09854575371815948,
         0.0994760715869334,
         0.09926430400905964,
         0.09817219306254762,
         0.09891018476461827,
         0.09982980567224857,
         0.10029606032570092,
         0.09935239413365377,
         0.09932427785002283,
         0.10041953365928934,
         0.10069860017755593,
         0.09839287798623468,
         0.09933076660213766,
         0.10068480412529734,
         0.10001161382031332,
         0.09902459813391315,
         0.09952445907543989,
         0.09810468089203626,
         0.09820056810942325,
         0.09962902716073736,
         0.10139486377222214,
         0.09894132062765641,
         0.09976203307158805,
         0.09991149609827428,
         0.09973171082661701,
         0.10165147831814841,
         0.10013929288011988,
         0.09906795358272279,
         0.09908636377695773,
         0.09985571753105106,
         0.1001218627702351,
         0.10015924422003171,
         0.10009282774899071,
         0.09939779528435276,
         0.09950955535911468,
         0.10047582549005973,
         0.10041031879660248,
         0.0989717228097901,
         0.10097350846633237,
         0.0989049751953076,
         0.09902546047415674,
         0.10017886192276504,
         0.09961580792170881,
         0.09823318870845833,
         0.09926484047085457
        ],
        [
         0.24006921644596493,
         0.23738796227410727,
         0.23894937606711014,
         0.23913555767606287,
         0.23825539305221802,
         0.23871449176587312,
         0.2393994095424811,
         0.23912480773002492,
         0.2371793262222234,
         0.23924488187128423,
         0.2396953744339008,
         0.2385130075409132,
         0.24037536460102774,
         0.23887797788369888,
         0.2394435348025724,
         0.237155341123249,
         0.23838968560391782,
         0.23755955382012853,
         0.2374793236308238,
         0.2393017721672853,
         0.2387301834921042,
         0.2419861944428846,
         0.23942561286921596,
         0.23877613173395978,
         0.23937253018512444,
         0.23900708855659353,
         0.23938529580539347,
         0.24173403903841972,
         0.23910797000223516,
         0.23915224281304023,
         0.23582777972607052,
         0.23825346649277443,
         0.239326573908329,
         0.23919349806565865,
         0.23832946708973715,
         0.23894875343231595,
         0.24129412578893641,
         0.23946914726904794,
         0.2403031214341229,
         0.23789627828142224,
         0.23827428042012103,
         0.23928829479743452,
         0.2399109495328922,
         0.23832850494221144,
         0.2375314695870175,
         0.2394071198707702,
         0.23927297004882028,
         0.23931843056982638,
         0.23865610631365403,
         0.23785256002755725,
         0.24208166501393505,
         0.23870268500610894,
         0.23791714231757558,
         0.23922412258152867,
         0.23915669972113535,
         0.23789231092029928,
         0.23883248814472965,
         0.2391965717223345,
         0.23714822684140766,
         0.23817095050916953,
         0.23874691019163413,
         0.2386619782477033,
         0.23752061387195306,
         0.23888274830053835,
         0.2407231171633683,
         0.23943088488543735,
         0.2366221986126666,
         0.23872168807714594,
         0.24067907627014554,
         0.24097585656187115,
         0.23850013907341397,
         0.2378801208939038,
         0.23625286164529183,
         0.2355567872085992,
         0.23884629596974336,
         0.2424470470378212,
         0.23805578177173933,
         0.23883368695775667,
         0.23843355250417017,
         0.23943757463027449,
         0.24260694847679606,
         0.23936519559984112,
         0.23901763828653916,
         0.23754721127596556,
         0.23918768493276016,
         0.23925095891543463,
         0.23981765738012745,
         0.23999857325472085,
         0.23642201707059263,
         0.23811977349367797,
         0.2394832856953144,
         0.24076968467995233,
         0.23691424011599785,
         0.24022804324825606,
         0.2382470124638548,
         0.23764763429176575,
         0.24002626019657827,
         0.23876823492202104,
         0.23603382392549047,
         0.23784813379832342
        ],
        [
         24.487060077488422,
         24.213572151958942,
         24.372836358845234,
         24.391826882958412,
         24.302050091326237,
         24.348878160119057,
         24.418739773333073,
         24.390730388462543,
         24.192291274666786,
         24.40297795087099,
         24.44892819225788,
         24.328326769173145,
         24.51828718930483,
         24.365553744137287,
         24.423240549862385,
         24.1898447945714,
         24.315747931599617,
         24.23107448965311,
         24.22289101034403,
         24.4087807610631,
         24.35047871619463,
         24.68259183317423,
         24.421412512660027,
         24.3551654368639,
         24.415998078882694,
         24.37872303277254,
         24.417300172150135,
         24.656871981918812,
         24.389012940227985,
         24.393528766930103,
         24.054433532059193,
         24.301853582262993,
         24.41131053864956,
         24.39773680269718,
         24.30960564315319,
         24.372772850096226,
         24.612000830471516,
         24.42585302144289,
         24.510918386280537,
         24.265420384705067,
         24.303976602852345,
         24.40740606933832,
         24.470916852355003,
         24.309507504105568,
         24.228209897875786,
         24.41952622681856,
         24.405842944979668,
         24.41047991812229,
         24.34292284399271,
         24.26096112281084,
         24.692329831421375,
         24.34767387062311,
         24.267548516392708,
         24.400860503315926,
         24.393983371555805,
         24.265015713870525,
         24.360913790762424,
         24.39805031567812,
         24.18911913782358,
         24.29343695193529,
         24.35218483954668,
         24.343521781265736,
         24.227102614939213,
         24.36604032665491,
         24.553757950663567,
         24.42195025831461,
         24.135464258491993,
         24.349612183868885,
         24.549265779554844,
         24.579537369310856,
         24.327014185488224,
         24.26377233117819,
         24.097791887819767,
         24.02679229527712,
         24.362322188913822,
         24.72959879785776,
         24.28168974071741,
         24.36103606969118,
         24.320222355425358,
         24.422632612287998,
         24.745908744633198,
         24.415249951183796,
         24.379799105226994,
         24.229815550148487,
         24.397143863141537,
         24.403597809374332,
         24.461401052773,
         24.479854471981525,
         24.115045741200447,
         24.288216896355152,
         24.42729514092207,
         24.558507837355137,
         24.16525249183178,
         24.503260411322117,
         24.30119527131319,
         24.240058697760105,
         24.482678540050983,
         24.354359962046146,
         24.07545004040003,
         24.26050964742899
        ],
        [
         3.193153493207349,
         3.1709751394332764,
         3.1800594086158003,
         3.187995476742718,
         3.177874450053837,
         3.1920842601075203,
         3.1886851458361534,
         3.1889702051767506,
         3.1839362103954776,
         3.190632790269035,
         3.18837605301793,
         3.184489618064222,
         3.2076555066546724,
         3.185561449565675,
         3.189785066714565,
         3.1651263591959875,
         3.1702673107240567,
         3.171379183616339,
         3.1735176089033845,
         3.182896395997081,
         3.181865481786584,
         3.213504528590777,
         3.197784711049956,
         3.1818012522700982,
         3.1951942378697944,
         3.196928670203289,
         3.1897954422199337,
         3.2149352589332256,
         3.1812087078036444,
         3.1837198192646374,
         3.165881195202618,
         3.180737947777733,
         3.187909081592623,
         3.184087226958528,
         3.189025662785648,
         3.197619492878708,
         3.203342724252983,
         3.196614309236339,
         3.196827404623825,
         3.184847118206686,
         3.171945479617389,
         3.2098187750844605,
         3.187412252712526,
         3.1808880872748593,
         3.181333622079477,
         3.19832514326202,
         3.186057657810402,
         3.19164332367367,
         3.1772407829552893,
         3.1858015118072007,
         3.216342201169468,
         3.1818333639707848,
         3.182052007154328,
         3.1727005501358714,
         3.1955762420968448,
         3.170436386249102,
         3.1853664313336396,
         3.181974074206777,
         3.164421541511158,
         3.176293255666274,
         3.191024941702799,
         3.1984680947637245,
         3.1833856507863882,
         3.182935176955749,
         3.2004362879531763,
         3.2048802189958203,
         3.167976255371232,
         3.1830391441856376,
         3.2046606717061836,
         3.1939293369878987,
         3.1781297974845417,
         3.186141055523886,
         3.1633332816805275,
         3.1648788202964684,
         3.1878144190644484,
         3.215940936143985,
         3.176793147817615,
         3.189941594026759,
         3.1923302777162594,
         3.189456772604847,
         3.220007886395798,
         3.1959674394105186,
         3.1788254537545337,
         3.1791208069605785,
         3.1914390466006406,
         3.195689284421121,
         3.19628579924312,
         3.195225880966328,
         3.1841129249767475,
         3.1859024854238225,
         3.201333191029339,
         3.2002894427306807,
         3.1772811846921236,
         3.209251916501086,
         3.1762096073655735,
         3.178143635577848,
         3.1965988043734903,
         3.1876029250856033,
         3.1654044367604506,
         3.1819826724900877
        ]
       ],
       "encoder": "json",
       "name": "ABC_GAN_3 Metrics",
       "version": 1
      }
     },
     "metadata": {
      "scrapbook": {
       "data": true,
       "display": false,
       "name": "ABC_GAN_3 Metrics"
      }
     },
     "output_type": "display_data"
    },
    {
     "name": "stdout",
     "output_type": "stream",
     "text": [
      "MSE\n",
      "0.09960878021334729\n"
     ]
    }
   ],
   "source": [
    "ABC_GAN3_metrics=ABC_train_test2.test_generator(gen3,test_data,prior_model,variance,bias,\"3\",device)\n",
    "sb.glue(\"ABC_GAN_3 Metrics\",ABC_GAN3_metrics)\n",
    "\n",
    "print(\"MSE\")\n",
    "print(mean(ABC_GAN3_metrics[0]))"
   ]
  },
  {
   "cell_type": "code",
   "execution_count": 18,
   "id": "c8e46b48",
   "metadata": {
    "execution": {
     "iopub.execute_input": "2022-06-12T08:31:49.855112Z",
     "iopub.status.busy": "2022-06-12T08:31:49.854426Z",
     "iopub.status.idle": "2022-06-12T08:31:50.191248Z",
     "shell.execute_reply": "2022-06-12T08:31:50.191629Z"
    },
    "id": "c8e46b48",
    "papermill": {
     "duration": 0.3576,
     "end_time": "2022-06-12T08:31:50.191756",
     "exception": false,
     "start_time": "2022-06-12T08:31:49.834156",
     "status": "completed"
    },
    "tags": []
   },
   "outputs": [
    {
     "data": {
      "image/png": "[encoded data removed]",
      "text/plain": [
       "<Figure size 432x288 with 1 Axes>"
      ]
     },
     "metadata": {
      "needs_background": "light"
     },
     "output_type": "display_data"
    },
    {
     "data": {
      "image/png": "[encoded data removed]",
      "text/plain": [
       "<Figure size 432x288 with 1 Axes>"
      ]
     },
     "metadata": {
      "needs_background": "light"
     },
     "output_type": "display_data"
    },
    {
     "data": {
      "image/png": "[encoded data removed]",
      "text/plain": [
       "<Figure size 432x288 with 1 Axes>"
      ]
     },
     "metadata": {
      "needs_background": "light"
     },
     "output_type": "display_data"
    },
    {
     "data": {
      "image/png": "[encoded data removed]",
      "text/plain": [
       "<Figure size 432x288 with 1 Axes>"
      ]
     },
     "metadata": {
      "needs_background": "light"
     },
     "output_type": "display_data"
    }
   ],
   "source": [
    "sanityChecks.discProbVsError(train_data,disc3,device)\n",
    "sanityChecks.discProbVsError(test_data,disc3,device)"
   ]
  },
  {
   "cell_type": "markdown",
   "id": "a5bd74c3",
   "metadata": {
    "id": "a5bd74c3",
    "papermill": {
     "duration": 0.019736,
     "end_time": "2022-06-12T08:31:50.231361",
     "exception": false,
     "start_time": "2022-06-12T08:31:50.211625",
     "status": "completed"
    },
    "tags": []
   },
   "source": [
    "## Skip Connection Model Analysis - ABC-GAN "
   ]
  },
  {
   "cell_type": "markdown",
   "id": "5744a8bf",
   "metadata": {
    "id": "5744a8bf",
    "papermill": {
     "duration": 0.019581,
     "end_time": "2022-06-12T08:31:50.270587",
     "exception": false,
     "start_time": "2022-06-12T08:31:50.251006",
     "status": "completed"
    },
    "tags": []
   },
   "source": [
    "### Weight Analysis \n",
    "\n",
    "Study the weights of the skip connection layer\n",
    "\n",
    "Equation of the skip connection is \n",
    "\n",
    "$output = y_{gan} * w + y_{abc} * (1-w)$"
   ]
  },
  {
   "cell_type": "code",
   "execution_count": 19,
   "id": "52c31dea",
   "metadata": {
    "execution": {
     "iopub.execute_input": "2022-06-12T08:31:50.312688Z",
     "iopub.status.busy": "2022-06-12T08:31:50.312304Z",
     "iopub.status.idle": "2022-06-12T08:31:50.315817Z",
     "shell.execute_reply": "2022-06-12T08:31:50.316070Z"
    },
    "id": "52c31dea",
    "papermill": {
     "duration": 0.025963,
     "end_time": "2022-06-12T08:31:50.316189",
     "exception": false,
     "start_time": "2022-06-12T08:31:50.290226",
     "status": "completed"
    },
    "tags": []
   },
   "outputs": [
    {
     "name": "stdout",
     "output_type": "stream",
     "text": [
      "Weight of the node at skip connection\n",
      "Parameter containing:\n",
      "tensor([[0.1323]], requires_grad=True)\n"
     ]
    },
    {
     "data": {
      "application/scrapbook.scrap.json+json": {
       "data": 0.132258340716362,
       "encoder": "json",
       "name": "Skip Connection Weight",
       "version": 1
      }
     },
     "metadata": {
      "scrapbook": {
       "data": true,
       "display": false,
       "name": "Skip Connection Weight"
      }
     },
     "output_type": "display_data"
    }
   ],
   "source": [
    "print(\"Weight of the node at skip connection\")\n",
    "for name,param in gen3.named_parameters():\n",
    "    if(name == \"skipNode.weight\"):\n",
    "        print(param)\n",
    "        sb.glue(\"Skip Connection Weight\",param.item())"
   ]
  }
 ],
 "metadata": {
  "colab": {
   "collapsed_sections": [],
   "name": "ABC_GAN_Model-Catboost_Pre-gen.ipynb",
   "provenance": []
  },
  "interpreter": {
   "hash": "31f2aee4e71d21fbe5cf8b01ff0e069b9275f58929596ceb00d14d90e3e16cd6"
  },
  "kernelspec": {
   "display_name": "Python 3 (ipykernel)",
   "language": "python",
   "name": "python3"
  },
  "language_info": {
   "codemirror_mode": {
    "name": "ipython",
    "version": 3
   },
   "file_extension": ".py",
   "mimetype": "text/x-python",
   "name": "python",
   "nbconvert_exporter": "python",
   "pygments_lexer": "ipython3",
   "version": "3.8.11"
  },
  "papermill": {
   "default_parameters": {},
   "duration": 245.630032,
   "end_time": "2022-06-12T08:31:50.643963",
   "environment_variables": {},
   "exception": null,
   "input_path": "ABC_GAN-Catboost.ipynb",
   "output_path": "./ABC_GAN_Catboost/ABC-GAN_output_10_2.ipynb",
   "parameters": {
    "bias": 1,
    "variance": 0.01
   },
   "start_time": "2022-06-12T08:27:45.013931",
   "version": "2.3.3"
  }
 },
 "nbformat": 4,
 "nbformat_minor": 5
}