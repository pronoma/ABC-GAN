{
 "cells": [
  {
   "cell_type": "markdown",
   "id": "622780e6",
   "metadata": {
    "id": "622780e6",
    "papermill": {
     "duration": 0.013644,
     "end_time": "2022-06-12T05:31:37.158277",
     "exception": false,
     "start_time": "2022-06-12T05:31:37.144633",
     "status": "completed"
    },
    "tags": []
   },
   "source": [
    "## Import Libraries "
   ]
  },
  {
   "cell_type": "code",
   "execution_count": 1,
   "id": "a62397e3",
   "metadata": {
    "execution": {
     "iopub.execute_input": "2022-06-12T05:31:37.185126Z",
     "iopub.status.busy": "2022-06-12T05:31:37.184603Z",
     "iopub.status.idle": "2022-06-12T05:31:37.186716Z",
     "shell.execute_reply": "2022-06-12T05:31:37.187006Z"
    },
    "id": "a62397e3",
    "papermill": {
     "duration": 0.018108,
     "end_time": "2022-06-12T05:31:37.187192",
     "exception": false,
     "start_time": "2022-06-12T05:31:37.169084",
     "status": "completed"
    },
    "tags": []
   },
   "outputs": [],
   "source": [
    "import warnings\n",
    "import sys\n",
    "sys.path.insert(0, '../../src')\n",
    "warnings.filterwarnings('ignore')"
   ]
  },
  {
   "cell_type": "code",
   "execution_count": 2,
   "id": "d6a4e155",
   "metadata": {
    "execution": {
     "iopub.execute_input": "2022-06-12T05:31:37.205470Z",
     "iopub.status.busy": "2022-06-12T05:31:37.205075Z",
     "iopub.status.idle": "2022-06-12T05:31:39.123877Z",
     "shell.execute_reply": "2022-06-12T05:31:39.124152Z"
    },
    "id": "d6a4e155",
    "papermill": {
     "duration": 1.929034,
     "end_time": "2022-06-12T05:31:39.124328",
     "exception": false,
     "start_time": "2022-06-12T05:31:37.195294",
     "status": "completed"
    },
    "tags": []
   },
   "outputs": [],
   "source": [
    "import ABC_train_test2\n",
    "import bostonDataset\n",
    "import network\n",
    "import dataset\n",
    "import sanityChecks\n",
    "import torch \n",
    "import scrapbook as sb\n",
    "from statistics import mean \n",
    "import catboost as ctb \n",
    "from sklearn.model_selection import train_test_split\n",
    "from sklearn.metrics import mean_squared_error,mean_absolute_error\n",
    "import numpy as np"
   ]
  },
  {
   "cell_type": "markdown",
   "id": "2fa5b0f7",
   "metadata": {
    "id": "2fa5b0f7",
    "papermill": {
     "duration": 0.006846,
     "end_time": "2022-06-12T05:31:39.138748",
     "exception": false,
     "start_time": "2022-06-12T05:31:39.131902",
     "status": "completed"
    },
    "tags": []
   },
   "source": [
    "## Parameters "
   ]
  },
  {
   "cell_type": "code",
   "execution_count": 3,
   "id": "783186fb",
   "metadata": {
    "execution": {
     "iopub.execute_input": "2022-06-12T05:31:39.154744Z",
     "iopub.status.busy": "2022-06-12T05:31:39.154362Z",
     "iopub.status.idle": "2022-06-12T05:31:39.155660Z",
     "shell.execute_reply": "2022-06-12T05:31:39.155980Z"
    },
    "id": "783186fb",
    "papermill": {
     "duration": 0.010489,
     "end_time": "2022-06-12T05:31:39.156102",
     "exception": false,
     "start_time": "2022-06-12T05:31:39.145613",
     "status": "completed"
    },
    "tags": [
     "parameters"
    ]
   },
   "outputs": [],
   "source": [
    "variance = 1\n",
    "bias = 1 "
   ]
  },
  {
   "cell_type": "code",
   "execution_count": 4,
   "id": "3ea44519",
   "metadata": {
    "execution": {
     "iopub.execute_input": "2022-06-12T05:31:39.171989Z",
     "iopub.status.busy": "2022-06-12T05:31:39.171577Z",
     "iopub.status.idle": "2022-06-12T05:31:39.172711Z",
     "shell.execute_reply": "2022-06-12T05:31:39.172958Z"
    },
    "papermill": {
     "duration": 0.009938,
     "end_time": "2022-06-12T05:31:39.173063",
     "exception": false,
     "start_time": "2022-06-12T05:31:39.163125",
     "status": "completed"
    },
    "tags": [
     "injected-parameters"
    ]
   },
   "outputs": [],
   "source": [
    "# Parameters\n",
    "variance = 0.1\n",
    "bias = 1\n"
   ]
  },
  {
   "cell_type": "markdown",
   "id": "391cdbfd",
   "metadata": {
    "id": "391cdbfd",
    "papermill": {
     "duration": 0.00683,
     "end_time": "2022-06-12T05:31:39.186871",
     "exception": false,
     "start_time": "2022-06-12T05:31:39.180041",
     "status": "completed"
    },
    "tags": []
   },
   "source": [
    "## Dataset \n"
   ]
  },
  {
   "cell_type": "code",
   "execution_count": 5,
   "id": "5b51f161",
   "metadata": {
    "execution": {
     "iopub.execute_input": "2022-06-12T05:31:39.202594Z",
     "iopub.status.busy": "2022-06-12T05:31:39.202230Z",
     "iopub.status.idle": "2022-06-12T05:31:39.203511Z",
     "shell.execute_reply": "2022-06-12T05:31:39.203751Z"
    },
    "id": "5b51f161",
    "papermill": {
     "duration": 0.010038,
     "end_time": "2022-06-12T05:31:39.203870",
     "exception": false,
     "start_time": "2022-06-12T05:31:39.193832",
     "status": "completed"
    },
    "tags": []
   },
   "outputs": [],
   "source": [
    "#Parameters \n",
    "n_features = 13\n",
    "n_samples= 506\n",
    "n_target = 1 "
   ]
  },
  {
   "cell_type": "code",
   "execution_count": 6,
   "id": "5d6eced4",
   "metadata": {
    "execution": {
     "iopub.execute_input": "2022-06-12T05:31:39.220842Z",
     "iopub.status.busy": "2022-06-12T05:31:39.220457Z",
     "iopub.status.idle": "2022-06-12T05:31:39.233270Z",
     "shell.execute_reply": "2022-06-12T05:31:39.233691Z"
    },
    "id": "5d6eced4",
    "papermill": {
     "duration": 0.022845,
     "end_time": "2022-06-12T05:31:39.233847",
     "exception": false,
     "start_time": "2022-06-12T05:31:39.211002",
     "status": "completed"
    },
    "tags": []
   },
   "outputs": [
    {
     "name": "stdout",
     "output_type": "stream",
     "text": [
      "         X1        X2        X3        X4        X5        X6        X7  \\\n",
      "0 -0.419782  0.284830 -1.287909 -0.272599 -0.144217  0.413672 -0.120013   \n",
      "1 -0.417339 -0.487722 -0.593381 -0.272599 -0.740262  0.194274  0.367166   \n",
      "2 -0.417342 -0.487722 -0.593381 -0.272599 -0.740262  1.282714 -0.265812   \n",
      "3 -0.416750 -0.487722 -1.306878 -0.272599 -0.835284  1.016303 -0.809889   \n",
      "4 -0.412482 -0.487722 -1.306878 -0.272599 -0.835284  1.228577 -0.511180   \n",
      "\n",
      "         X8        X9       X10       X11       X12       X13         Y  \n",
      "0  0.140214 -0.982843 -0.666608 -1.459000  0.441052 -1.075562  0.159686  \n",
      "1  0.557160 -0.867883 -0.987329 -0.303094  0.441052 -0.492439 -0.101524  \n",
      "2  0.557160 -0.867883 -0.987329 -0.303094  0.396427 -1.208727  1.324247  \n",
      "3  1.077737 -0.752922 -1.106115  0.113032  0.416163 -1.361517  1.182758  \n",
      "4  1.077737 -0.752922 -1.106115  0.113032  0.441052 -1.026501  1.487503  \n"
     ]
    }
   ],
   "source": [
    "X,Y = bostonDataset.boston_data()"
   ]
  },
  {
   "cell_type": "code",
   "execution_count": 7,
   "id": "fe007438",
   "metadata": {
    "execution": {
     "iopub.execute_input": "2022-06-12T05:31:39.253317Z",
     "iopub.status.busy": "2022-06-12T05:31:39.252920Z",
     "iopub.status.idle": "2022-06-12T05:31:39.254577Z",
     "shell.execute_reply": "2022-06-12T05:31:39.254840Z"
    },
    "id": "fe007438",
    "papermill": {
     "duration": 0.012779,
     "end_time": "2022-06-12T05:31:39.254961",
     "exception": false,
     "start_time": "2022-06-12T05:31:39.242182",
     "status": "completed"
    },
    "tags": []
   },
   "outputs": [],
   "source": [
    "#Train test split for dataset \n",
    "X_train,X_test,Y_train,Y_test = train_test_split(X,Y,test_size = 0.2)\n",
    "train_data = dataset.CustomDataset(X_train,Y_train)\n",
    "test_data = dataset.CustomDataset(X_test,Y_test)\n"
   ]
  },
  {
   "cell_type": "markdown",
   "id": "a9a1af34",
   "metadata": {
    "id": "a9a1af34",
    "papermill": {
     "duration": 0.009952,
     "end_time": "2022-06-12T05:31:39.274289",
     "exception": false,
     "start_time": "2022-06-12T05:31:39.264337",
     "status": "completed"
    },
    "tags": []
   },
   "source": [
    "## Training Parameters "
   ]
  },
  {
   "cell_type": "code",
   "execution_count": 8,
   "id": "952b7fc8",
   "metadata": {
    "execution": {
     "iopub.execute_input": "2022-06-12T05:31:39.293875Z",
     "iopub.status.busy": "2022-06-12T05:31:39.293473Z",
     "iopub.status.idle": "2022-06-12T05:31:39.294680Z",
     "shell.execute_reply": "2022-06-12T05:31:39.294927Z"
    },
    "id": "952b7fc8",
    "papermill": {
     "duration": 0.012412,
     "end_time": "2022-06-12T05:31:39.295055",
     "exception": false,
     "start_time": "2022-06-12T05:31:39.282643",
     "status": "completed"
    },
    "tags": []
   },
   "outputs": [],
   "source": [
    "batch_size = 32\n",
    "n_epochs = 1000\n",
    "#Select the device \n",
    "device = torch.device('cuda' if torch.cuda.is_available() else 'cpu')"
   ]
  },
  {
   "cell_type": "markdown",
   "id": "a95e1600",
   "metadata": {
    "id": "a95e1600",
    "papermill": {
     "duration": 0.008597,
     "end_time": "2022-06-12T05:31:39.311451",
     "exception": false,
     "start_time": "2022-06-12T05:31:39.302854",
     "status": "completed"
    },
    "tags": []
   },
   "source": [
    "# ABC Pre-generator Model \n",
    "\n",
    "1. The catboost model is used as a pre-generator model for the ABC-GAN. \n",
    "2. The model is first trained on the entire dataset \n",
    "3. It generats X,Y pairs and we add some Gaussian noise with mean 0 and variance 1 to it which is then feed as input to the generator.\n"
   ]
  },
  {
   "cell_type": "code",
   "execution_count": 9,
   "id": "ff8ce7bd",
   "metadata": {
    "execution": {
     "iopub.execute_input": "2022-06-12T05:31:39.334603Z",
     "iopub.status.busy": "2022-06-12T05:31:39.334185Z",
     "iopub.status.idle": "2022-06-12T05:31:40.641022Z",
     "shell.execute_reply": "2022-06-12T05:31:40.641404Z"
    },
    "id": "ff8ce7bd",
    "papermill": {
     "duration": 1.321841,
     "end_time": "2022-06-12T05:31:40.641534",
     "exception": false,
     "start_time": "2022-06-12T05:31:39.319693",
     "status": "completed"
    },
    "tags": []
   },
   "outputs": [
    {
     "name": "stdout",
     "output_type": "stream",
     "text": [
      "Learning rate set to 0.033215\n",
      "0:\tlearn: 0.9781897\ttotal: 57.5ms\tremaining: 57.5s\n",
      "1:\tlearn: 0.9604554\ttotal: 58.3ms\tremaining: 29.1s\n",
      "2:\tlearn: 0.9412432\ttotal: 59.1ms\tremaining: 19.6s\n",
      "3:\tlearn: 0.9251199\ttotal: 59.8ms\tremaining: 14.9s\n",
      "4:\tlearn: 0.9075795\ttotal: 60.5ms\tremaining: 12s\n",
      "5:\tlearn: 0.8906865\ttotal: 61.5ms\tremaining: 10.2s\n",
      "6:\tlearn: 0.8737897\ttotal: 62.4ms\tremaining: 8.86s\n",
      "7:\tlearn: 0.8567989\ttotal: 63.4ms\tremaining: 7.86s\n",
      "8:\tlearn: 0.8421993\ttotal: 64.2ms\tremaining: 7.07s\n",
      "9:\tlearn: 0.8257008\ttotal: 65ms\tremaining: 6.43s\n",
      "10:\tlearn: 0.8135614\ttotal: 65.7ms\tremaining: 5.91s\n",
      "11:\tlearn: 0.7986512\ttotal: 66.9ms\tremaining: 5.51s\n",
      "12:\tlearn: 0.7840082\ttotal: 67.9ms\tremaining: 5.16s\n",
      "13:\tlearn: 0.7698162\ttotal: 68.7ms\tremaining: 4.84s\n",
      "14:\tlearn: 0.7580993\ttotal: 69.4ms\tremaining: 4.56s\n",
      "15:\tlearn: 0.7452755\ttotal: 70.2ms\tremaining: 4.31s\n",
      "16:\tlearn: 0.7324809\ttotal: 70.9ms\tremaining: 4.1s\n",
      "17:\tlearn: 0.7199423\ttotal: 71.6ms\tremaining: 3.91s\n",
      "18:\tlearn: 0.7078477\ttotal: 72.4ms\tremaining: 3.74s\n",
      "19:\tlearn: 0.6968172\ttotal: 73.1ms\tremaining: 3.58s\n",
      "20:\tlearn: 0.6834367\ttotal: 73.8ms\tremaining: 3.44s\n",
      "21:\tlearn: 0.6735706\ttotal: 74.5ms\tremaining: 3.31s\n",
      "22:\tlearn: 0.6638262\ttotal: 75.2ms\tremaining: 3.19s\n",
      "23:\tlearn: 0.6551246\ttotal: 76ms\tremaining: 3.09s\n",
      "24:\tlearn: 0.6460023\ttotal: 77ms\tremaining: 3s\n",
      "25:\tlearn: 0.6373606\ttotal: 77.7ms\tremaining: 2.91s\n",
      "26:\tlearn: 0.6284258\ttotal: 78.6ms\tremaining: 2.83s\n",
      "27:\tlearn: 0.6186088\ttotal: 79.6ms\tremaining: 2.76s\n",
      "28:\tlearn: 0.6090216\ttotal: 80.3ms\tremaining: 2.69s\n",
      "29:\tlearn: 0.5992127\ttotal: 81ms\tremaining: 2.62s\n",
      "30:\tlearn: 0.5910625\ttotal: 81.7ms\tremaining: 2.55s\n",
      "31:\tlearn: 0.5832661\ttotal: 82.5ms\tremaining: 2.5s\n",
      "32:\tlearn: 0.5745714\ttotal: 83.2ms\tremaining: 2.44s\n",
      "33:\tlearn: 0.5669160\ttotal: 84ms\tremaining: 2.39s\n",
      "34:\tlearn: 0.5609607\ttotal: 84.8ms\tremaining: 2.34s\n",
      "35:\tlearn: 0.5534377\ttotal: 85.9ms\tremaining: 2.3s\n",
      "36:\tlearn: 0.5471049\ttotal: 86.7ms\tremaining: 2.25s\n",
      "37:\tlearn: 0.5402846\ttotal: 87.4ms\tremaining: 2.21s\n",
      "38:\tlearn: 0.5325180\ttotal: 88ms\tremaining: 2.17s\n",
      "39:\tlearn: 0.5250786\ttotal: 88.7ms\tremaining: 2.13s\n",
      "40:\tlearn: 0.5188784\ttotal: 89.4ms\tremaining: 2.09s\n",
      "41:\tlearn: 0.5113815\ttotal: 90.1ms\tremaining: 2.06s\n",
      "42:\tlearn: 0.5044896\ttotal: 90.8ms\tremaining: 2.02s\n"
     ]
    },
    {
     "name": "stdout",
     "output_type": "stream",
     "text": [
      "43:\tlearn: 0.4985362\ttotal: 91.5ms\tremaining: 1.99s\n",
      "44:\tlearn: 0.4926931\ttotal: 92.4ms\tremaining: 1.96s\n",
      "45:\tlearn: 0.4860050\ttotal: 93.1ms\tremaining: 1.93s\n",
      "46:\tlearn: 0.4797052\ttotal: 93.8ms\tremaining: 1.9s\n",
      "47:\tlearn: 0.4740516\ttotal: 94.6ms\tremaining: 1.88s\n",
      "48:\tlearn: 0.4684348\ttotal: 95.3ms\tremaining: 1.85s\n",
      "49:\tlearn: 0.4635808\ttotal: 96.2ms\tremaining: 1.83s\n",
      "50:\tlearn: 0.4586438\ttotal: 97.2ms\tremaining: 1.81s\n",
      "51:\tlearn: 0.4543245\ttotal: 98.1ms\tremaining: 1.79s\n",
      "52:\tlearn: 0.4498171\ttotal: 98.9ms\tremaining: 1.77s\n",
      "53:\tlearn: 0.4464817\ttotal: 99.5ms\tremaining: 1.74s\n",
      "54:\tlearn: 0.4412555\ttotal: 100ms\tremaining: 1.72s\n",
      "55:\tlearn: 0.4373880\ttotal: 101ms\tremaining: 1.71s\n",
      "56:\tlearn: 0.4334338\ttotal: 103ms\tremaining: 1.7s\n",
      "57:\tlearn: 0.4292776\ttotal: 104ms\tremaining: 1.68s\n",
      "58:\tlearn: 0.4256495\ttotal: 105ms\tremaining: 1.67s\n",
      "59:\tlearn: 0.4209220\ttotal: 105ms\tremaining: 1.65s\n",
      "60:\tlearn: 0.4170474\ttotal: 106ms\tremaining: 1.63s\n",
      "61:\tlearn: 0.4124975\ttotal: 107ms\tremaining: 1.62s\n",
      "62:\tlearn: 0.4099927\ttotal: 108ms\tremaining: 1.6s\n",
      "63:\tlearn: 0.4058571\ttotal: 109ms\tremaining: 1.59s\n",
      "64:\tlearn: 0.4017785\ttotal: 110ms\tremaining: 1.58s\n",
      "65:\tlearn: 0.3979195\ttotal: 111ms\tremaining: 1.56s\n",
      "66:\tlearn: 0.3944584\ttotal: 113ms\tremaining: 1.57s\n",
      "67:\tlearn: 0.3905572\ttotal: 113ms\tremaining: 1.55s\n",
      "68:\tlearn: 0.3879967\ttotal: 114ms\tremaining: 1.54s\n",
      "69:\tlearn: 0.3851562\ttotal: 115ms\tremaining: 1.53s\n",
      "70:\tlearn: 0.3816130\ttotal: 116ms\tremaining: 1.51s\n",
      "71:\tlearn: 0.3789437\ttotal: 117ms\tremaining: 1.5s\n",
      "72:\tlearn: 0.3764766\ttotal: 118ms\tremaining: 1.5s\n",
      "73:\tlearn: 0.3735531\ttotal: 119ms\tremaining: 1.49s\n",
      "74:\tlearn: 0.3713180\ttotal: 120ms\tremaining: 1.47s\n",
      "75:\tlearn: 0.3688730\ttotal: 120ms\tremaining: 1.46s\n",
      "76:\tlearn: 0.3661105\ttotal: 121ms\tremaining: 1.45s\n",
      "77:\tlearn: 0.3627152\ttotal: 122ms\tremaining: 1.44s\n",
      "78:\tlearn: 0.3603729\ttotal: 123ms\tremaining: 1.43s\n",
      "79:\tlearn: 0.3579743\ttotal: 123ms\tremaining: 1.42s\n",
      "80:\tlearn: 0.3559001\ttotal: 124ms\tremaining: 1.41s\n",
      "81:\tlearn: 0.3528076\ttotal: 125ms\tremaining: 1.4s\n",
      "82:\tlearn: 0.3509456\ttotal: 126ms\tremaining: 1.39s\n",
      "83:\tlearn: 0.3487390\ttotal: 127ms\tremaining: 1.38s\n",
      "84:\tlearn: 0.3467104\ttotal: 128ms\tremaining: 1.37s\n",
      "85:\tlearn: 0.3448972\ttotal: 128ms\tremaining: 1.36s\n",
      "86:\tlearn: 0.3421034\ttotal: 130ms\tremaining: 1.36s\n",
      "87:\tlearn: 0.3397606\ttotal: 131ms\tremaining: 1.35s\n",
      "88:\tlearn: 0.3372521\ttotal: 132ms\tremaining: 1.36s\n",
      "89:\tlearn: 0.3351944\ttotal: 133ms\tremaining: 1.35s\n",
      "90:\tlearn: 0.3328347\ttotal: 134ms\tremaining: 1.34s\n",
      "91:\tlearn: 0.3307961\ttotal: 135ms\tremaining: 1.33s\n",
      "92:\tlearn: 0.3292257\ttotal: 136ms\tremaining: 1.32s\n",
      "93:\tlearn: 0.3272001\ttotal: 137ms\tremaining: 1.32s\n",
      "94:\tlearn: 0.3251833\ttotal: 138ms\tremaining: 1.31s\n",
      "95:\tlearn: 0.3227382\ttotal: 139ms\tremaining: 1.31s\n",
      "96:\tlearn: 0.3211276\ttotal: 140ms\tremaining: 1.3s\n",
      "97:\tlearn: 0.3187070\ttotal: 141ms\tremaining: 1.3s\n",
      "98:\tlearn: 0.3164658\ttotal: 142ms\tremaining: 1.29s\n",
      "99:\tlearn: 0.3151593\ttotal: 143ms\tremaining: 1.29s\n",
      "100:\tlearn: 0.3140797\ttotal: 144ms\tremaining: 1.28s\n",
      "101:\tlearn: 0.3120761\ttotal: 145ms\tremaining: 1.28s\n",
      "102:\tlearn: 0.3107080\ttotal: 146ms\tremaining: 1.27s\n",
      "103:\tlearn: 0.3096857\ttotal: 147ms\tremaining: 1.27s\n",
      "104:\tlearn: 0.3078696\ttotal: 148ms\tremaining: 1.26s\n",
      "105:\tlearn: 0.3067240\ttotal: 149ms\tremaining: 1.26s\n",
      "106:\tlearn: 0.3048359\ttotal: 150ms\tremaining: 1.25s\n",
      "107:\tlearn: 0.3027709\ttotal: 151ms\tremaining: 1.25s\n",
      "108:\tlearn: 0.3012834\ttotal: 152ms\tremaining: 1.24s\n",
      "109:\tlearn: 0.3001139\ttotal: 153ms\tremaining: 1.24s\n",
      "110:\tlearn: 0.2986395\ttotal: 154ms\tremaining: 1.23s\n",
      "111:\tlearn: 0.2974290\ttotal: 156ms\tremaining: 1.24s\n",
      "112:\tlearn: 0.2959800\ttotal: 157ms\tremaining: 1.24s\n",
      "113:\tlearn: 0.2945295\ttotal: 159ms\tremaining: 1.24s\n",
      "114:\tlearn: 0.2932347\ttotal: 161ms\tremaining: 1.24s\n",
      "115:\tlearn: 0.2920691\ttotal: 162ms\tremaining: 1.24s\n",
      "116:\tlearn: 0.2904216\ttotal: 164ms\tremaining: 1.24s\n",
      "117:\tlearn: 0.2891350\ttotal: 166ms\tremaining: 1.24s\n",
      "118:\tlearn: 0.2877494\ttotal: 168ms\tremaining: 1.24s\n",
      "119:\tlearn: 0.2864188\ttotal: 170ms\tremaining: 1.25s\n"
     ]
    },
    {
     "name": "stdout",
     "output_type": "stream",
     "text": [
      "120:\tlearn: 0.2852372\ttotal: 172ms\tremaining: 1.25s\n",
      "121:\tlearn: 0.2843297\ttotal: 173ms\tremaining: 1.24s\n",
      "122:\tlearn: 0.2829300\ttotal: 174ms\tremaining: 1.24s\n",
      "123:\tlearn: 0.2820846\ttotal: 175ms\tremaining: 1.24s\n",
      "124:\tlearn: 0.2807138\ttotal: 176ms\tremaining: 1.23s\n",
      "125:\tlearn: 0.2795089\ttotal: 177ms\tremaining: 1.23s\n",
      "126:\tlearn: 0.2779883\ttotal: 178ms\tremaining: 1.22s\n",
      "127:\tlearn: 0.2764523\ttotal: 179ms\tremaining: 1.22s\n",
      "128:\tlearn: 0.2752359\ttotal: 180ms\tremaining: 1.21s\n",
      "129:\tlearn: 0.2738338\ttotal: 181ms\tremaining: 1.21s\n",
      "130:\tlearn: 0.2727042\ttotal: 181ms\tremaining: 1.2s\n",
      "131:\tlearn: 0.2711780\ttotal: 182ms\tremaining: 1.2s\n",
      "132:\tlearn: 0.2701997\ttotal: 184ms\tremaining: 1.2s\n",
      "133:\tlearn: 0.2693035\ttotal: 185ms\tremaining: 1.19s\n",
      "134:\tlearn: 0.2683579\ttotal: 186ms\tremaining: 1.19s\n",
      "135:\tlearn: 0.2671368\ttotal: 187ms\tremaining: 1.19s\n",
      "136:\tlearn: 0.2663686\ttotal: 188ms\tremaining: 1.19s\n",
      "137:\tlearn: 0.2655496\ttotal: 189ms\tremaining: 1.18s\n",
      "138:\tlearn: 0.2644559\ttotal: 190ms\tremaining: 1.18s\n",
      "139:\tlearn: 0.2633684\ttotal: 191ms\tremaining: 1.17s\n",
      "140:\tlearn: 0.2624738\ttotal: 192ms\tremaining: 1.17s\n",
      "141:\tlearn: 0.2612694\ttotal: 193ms\tremaining: 1.17s\n",
      "142:\tlearn: 0.2604315\ttotal: 194ms\tremaining: 1.16s\n",
      "143:\tlearn: 0.2597063\ttotal: 195ms\tremaining: 1.16s\n",
      "144:\tlearn: 0.2585941\ttotal: 196ms\tremaining: 1.15s\n",
      "145:\tlearn: 0.2580592\ttotal: 197ms\tremaining: 1.15s\n",
      "146:\tlearn: 0.2573137\ttotal: 198ms\tremaining: 1.15s\n",
      "147:\tlearn: 0.2565838\ttotal: 199ms\tremaining: 1.14s\n",
      "148:\tlearn: 0.2558319\ttotal: 200ms\tremaining: 1.14s\n",
      "149:\tlearn: 0.2552316\ttotal: 200ms\tremaining: 1.14s\n",
      "150:\tlearn: 0.2544143\ttotal: 201ms\tremaining: 1.13s\n",
      "151:\tlearn: 0.2531872\ttotal: 202ms\tremaining: 1.13s\n",
      "152:\tlearn: 0.2521594\ttotal: 203ms\tremaining: 1.12s\n",
      "153:\tlearn: 0.2514159\ttotal: 204ms\tremaining: 1.12s\n",
      "154:\tlearn: 0.2506889\ttotal: 206ms\tremaining: 1.12s\n",
      "155:\tlearn: 0.2500441\ttotal: 208ms\tremaining: 1.13s\n",
      "156:\tlearn: 0.2495253\ttotal: 214ms\tremaining: 1.15s\n",
      "157:\tlearn: 0.2485707\ttotal: 217ms\tremaining: 1.15s\n",
      "158:\tlearn: 0.2475919\ttotal: 220ms\tremaining: 1.16s\n",
      "159:\tlearn: 0.2469149\ttotal: 221ms\tremaining: 1.16s\n",
      "160:\tlearn: 0.2462608\ttotal: 225ms\tremaining: 1.17s\n",
      "161:\tlearn: 0.2453867\ttotal: 230ms\tremaining: 1.19s\n",
      "162:\tlearn: 0.2446653\ttotal: 233ms\tremaining: 1.2s\n"
     ]
    },
    {
     "name": "stdout",
     "output_type": "stream",
     "text": [
      "163:\tlearn: 0.2440665\ttotal: 243ms\tremaining: 1.24s\n",
      "164:\tlearn: 0.2434957\ttotal: 244ms\tremaining: 1.24s\n",
      "165:\tlearn: 0.2426978\ttotal: 246ms\tremaining: 1.23s\n",
      "166:\tlearn: 0.2420955\ttotal: 247ms\tremaining: 1.23s\n",
      "167:\tlearn: 0.2410821\ttotal: 248ms\tremaining: 1.23s\n",
      "168:\tlearn: 0.2405014\ttotal: 249ms\tremaining: 1.22s\n",
      "169:\tlearn: 0.2398831\ttotal: 250ms\tremaining: 1.22s\n",
      "170:\tlearn: 0.2393060\ttotal: 250ms\tremaining: 1.21s\n",
      "171:\tlearn: 0.2387290\ttotal: 251ms\tremaining: 1.21s\n",
      "172:\tlearn: 0.2381261\ttotal: 252ms\tremaining: 1.21s\n",
      "173:\tlearn: 0.2371311\ttotal: 253ms\tremaining: 1.2s\n",
      "174:\tlearn: 0.2363036\ttotal: 254ms\tremaining: 1.2s\n",
      "175:\tlearn: 0.2355130\ttotal: 255ms\tremaining: 1.19s\n",
      "176:\tlearn: 0.2348264\ttotal: 256ms\tremaining: 1.19s\n",
      "177:\tlearn: 0.2341321\ttotal: 256ms\tremaining: 1.18s\n",
      "178:\tlearn: 0.2335042\ttotal: 257ms\tremaining: 1.18s\n",
      "179:\tlearn: 0.2329906\ttotal: 258ms\tremaining: 1.17s\n",
      "180:\tlearn: 0.2320526\ttotal: 259ms\tremaining: 1.17s\n",
      "181:\tlearn: 0.2313057\ttotal: 259ms\tremaining: 1.17s\n",
      "182:\tlearn: 0.2306968\ttotal: 260ms\tremaining: 1.16s\n",
      "183:\tlearn: 0.2299007\ttotal: 261ms\tremaining: 1.16s\n",
      "184:\tlearn: 0.2291506\ttotal: 262ms\tremaining: 1.15s\n",
      "185:\tlearn: 0.2283332\ttotal: 263ms\tremaining: 1.15s\n",
      "186:\tlearn: 0.2277885\ttotal: 264ms\tremaining: 1.15s\n",
      "187:\tlearn: 0.2272235\ttotal: 265ms\tremaining: 1.15s\n",
      "188:\tlearn: 0.2267558\ttotal: 267ms\tremaining: 1.14s\n",
      "189:\tlearn: 0.2260150\ttotal: 268ms\tremaining: 1.14s\n",
      "190:\tlearn: 0.2253471\ttotal: 269ms\tremaining: 1.14s\n",
      "191:\tlearn: 0.2247077\ttotal: 269ms\tremaining: 1.13s\n",
      "192:\tlearn: 0.2239882\ttotal: 270ms\tremaining: 1.13s\n",
      "193:\tlearn: 0.2234616\ttotal: 271ms\tremaining: 1.13s\n",
      "194:\tlearn: 0.2225656\ttotal: 273ms\tremaining: 1.13s\n",
      "195:\tlearn: 0.2217437\ttotal: 273ms\tremaining: 1.12s\n",
      "196:\tlearn: 0.2214547\ttotal: 274ms\tremaining: 1.12s\n",
      "197:\tlearn: 0.2208611\ttotal: 275ms\tremaining: 1.11s\n",
      "198:\tlearn: 0.2201540\ttotal: 276ms\tremaining: 1.11s\n",
      "199:\tlearn: 0.2194326\ttotal: 277ms\tremaining: 1.11s\n",
      "200:\tlearn: 0.2189555\ttotal: 278ms\tremaining: 1.1s\n",
      "201:\tlearn: 0.2185194\ttotal: 279ms\tremaining: 1.1s\n",
      "202:\tlearn: 0.2179983\ttotal: 280ms\tremaining: 1.1s\n",
      "203:\tlearn: 0.2175349\ttotal: 281ms\tremaining: 1.1s\n",
      "204:\tlearn: 0.2169536\ttotal: 283ms\tremaining: 1.09s\n",
      "205:\tlearn: 0.2162237\ttotal: 284ms\tremaining: 1.09s\n",
      "206:\tlearn: 0.2153883\ttotal: 285ms\tremaining: 1.09s\n",
      "207:\tlearn: 0.2149170\ttotal: 286ms\tremaining: 1.09s\n",
      "208:\tlearn: 0.2142980\ttotal: 287ms\tremaining: 1.08s\n",
      "209:\tlearn: 0.2138125\ttotal: 288ms\tremaining: 1.08s\n",
      "210:\tlearn: 0.2131430\ttotal: 289ms\tremaining: 1.08s\n",
      "211:\tlearn: 0.2124693\ttotal: 290ms\tremaining: 1.08s\n",
      "212:\tlearn: 0.2119490\ttotal: 291ms\tremaining: 1.07s\n",
      "213:\tlearn: 0.2115320\ttotal: 291ms\tremaining: 1.07s\n",
      "214:\tlearn: 0.2109377\ttotal: 292ms\tremaining: 1.07s\n",
      "215:\tlearn: 0.2101993\ttotal: 293ms\tremaining: 1.06s\n",
      "216:\tlearn: 0.2097665\ttotal: 294ms\tremaining: 1.06s\n",
      "217:\tlearn: 0.2090894\ttotal: 295ms\tremaining: 1.06s\n",
      "218:\tlearn: 0.2085779\ttotal: 296ms\tremaining: 1.05s\n",
      "219:\tlearn: 0.2079640\ttotal: 297ms\tremaining: 1.05s\n",
      "220:\tlearn: 0.2076835\ttotal: 298ms\tremaining: 1.05s\n",
      "221:\tlearn: 0.2073332\ttotal: 298ms\tremaining: 1.04s\n",
      "222:\tlearn: 0.2068346\ttotal: 300ms\tremaining: 1.04s\n",
      "223:\tlearn: 0.2062540\ttotal: 301ms\tremaining: 1.04s\n",
      "224:\tlearn: 0.2056507\ttotal: 302ms\tremaining: 1.04s\n",
      "225:\tlearn: 0.2054085\ttotal: 303ms\tremaining: 1.04s\n",
      "226:\tlearn: 0.2046421\ttotal: 304ms\tremaining: 1.03s\n",
      "227:\tlearn: 0.2039517\ttotal: 305ms\tremaining: 1.03s\n",
      "228:\tlearn: 0.2033183\ttotal: 306ms\tremaining: 1.03s\n",
      "229:\tlearn: 0.2027848\ttotal: 307ms\tremaining: 1.03s\n",
      "230:\tlearn: 0.2022889\ttotal: 308ms\tremaining: 1.02s\n",
      "231:\tlearn: 0.2016778\ttotal: 309ms\tremaining: 1.02s\n"
     ]
    },
    {
     "name": "stdout",
     "output_type": "stream",
     "text": [
      "232:\tlearn: 0.2011473\ttotal: 311ms\tremaining: 1.02s\n",
      "233:\tlearn: 0.2006201\ttotal: 312ms\tremaining: 1.02s\n",
      "234:\tlearn: 0.2003123\ttotal: 313ms\tremaining: 1.02s\n",
      "235:\tlearn: 0.1997873\ttotal: 315ms\tremaining: 1.02s\n",
      "236:\tlearn: 0.1994245\ttotal: 316ms\tremaining: 1.02s\n",
      "237:\tlearn: 0.1988369\ttotal: 317ms\tremaining: 1.02s\n",
      "238:\tlearn: 0.1985108\ttotal: 319ms\tremaining: 1.01s\n",
      "239:\tlearn: 0.1979063\ttotal: 321ms\tremaining: 1.02s\n",
      "240:\tlearn: 0.1971970\ttotal: 322ms\tremaining: 1.01s\n",
      "241:\tlearn: 0.1964678\ttotal: 323ms\tremaining: 1.01s\n",
      "242:\tlearn: 0.1961270\ttotal: 324ms\tremaining: 1.01s\n",
      "243:\tlearn: 0.1956972\ttotal: 326ms\tremaining: 1.01s\n",
      "244:\tlearn: 0.1952370\ttotal: 327ms\tremaining: 1.01s\n",
      "245:\tlearn: 0.1945270\ttotal: 327ms\tremaining: 1s\n",
      "246:\tlearn: 0.1940536\ttotal: 328ms\tremaining: 1s\n",
      "247:\tlearn: 0.1937709\ttotal: 329ms\tremaining: 999ms\n",
      "248:\tlearn: 0.1931207\ttotal: 331ms\tremaining: 998ms\n",
      "249:\tlearn: 0.1925251\ttotal: 332ms\tremaining: 996ms\n",
      "250:\tlearn: 0.1921692\ttotal: 333ms\tremaining: 994ms\n",
      "251:\tlearn: 0.1919609\ttotal: 334ms\tremaining: 992ms\n",
      "252:\tlearn: 0.1914321\ttotal: 335ms\tremaining: 989ms\n",
      "253:\tlearn: 0.1908510\ttotal: 336ms\tremaining: 986ms\n",
      "254:\tlearn: 0.1902015\ttotal: 337ms\tremaining: 984ms\n",
      "255:\tlearn: 0.1895858\ttotal: 338ms\tremaining: 981ms\n",
      "256:\tlearn: 0.1892357\ttotal: 338ms\tremaining: 978ms\n",
      "257:\tlearn: 0.1886926\ttotal: 339ms\tremaining: 976ms\n",
      "258:\tlearn: 0.1883624\ttotal: 340ms\tremaining: 973ms\n",
      "259:\tlearn: 0.1881844\ttotal: 341ms\tremaining: 971ms\n",
      "260:\tlearn: 0.1877109\ttotal: 342ms\tremaining: 968ms\n",
      "261:\tlearn: 0.1873474\ttotal: 343ms\tremaining: 965ms\n",
      "262:\tlearn: 0.1865171\ttotal: 344ms\tremaining: 963ms\n",
      "263:\tlearn: 0.1861652\ttotal: 345ms\tremaining: 962ms\n",
      "264:\tlearn: 0.1858570\ttotal: 347ms\tremaining: 962ms\n",
      "265:\tlearn: 0.1854589\ttotal: 349ms\tremaining: 963ms\n",
      "266:\tlearn: 0.1848454\ttotal: 350ms\tremaining: 961ms\n",
      "267:\tlearn: 0.1844453\ttotal: 351ms\tremaining: 958ms\n",
      "268:\tlearn: 0.1839666\ttotal: 352ms\tremaining: 956ms\n",
      "269:\tlearn: 0.1835112\ttotal: 353ms\tremaining: 953ms\n",
      "270:\tlearn: 0.1829269\ttotal: 353ms\tremaining: 951ms\n",
      "271:\tlearn: 0.1823458\ttotal: 354ms\tremaining: 948ms\n",
      "272:\tlearn: 0.1819216\ttotal: 355ms\tremaining: 946ms\n",
      "273:\tlearn: 0.1814287\ttotal: 356ms\tremaining: 944ms\n",
      "274:\tlearn: 0.1811788\ttotal: 358ms\tremaining: 943ms\n",
      "275:\tlearn: 0.1807525\ttotal: 358ms\tremaining: 940ms\n",
      "276:\tlearn: 0.1801662\ttotal: 359ms\tremaining: 938ms\n",
      "277:\tlearn: 0.1799774\ttotal: 360ms\tremaining: 935ms\n",
      "278:\tlearn: 0.1797611\ttotal: 361ms\tremaining: 932ms\n",
      "279:\tlearn: 0.1793608\ttotal: 362ms\tremaining: 931ms\n",
      "280:\tlearn: 0.1790705\ttotal: 363ms\tremaining: 929ms\n",
      "281:\tlearn: 0.1786091\ttotal: 364ms\tremaining: 927ms\n",
      "282:\tlearn: 0.1782919\ttotal: 366ms\tremaining: 927ms\n",
      "283:\tlearn: 0.1778629\ttotal: 367ms\tremaining: 925ms\n",
      "284:\tlearn: 0.1773977\ttotal: 368ms\tremaining: 922ms\n",
      "285:\tlearn: 0.1770676\ttotal: 369ms\tremaining: 920ms\n",
      "286:\tlearn: 0.1768073\ttotal: 370ms\tremaining: 918ms\n",
      "287:\tlearn: 0.1763646\ttotal: 370ms\tremaining: 916ms\n",
      "288:\tlearn: 0.1758989\ttotal: 372ms\tremaining: 915ms\n",
      "289:\tlearn: 0.1756392\ttotal: 373ms\tremaining: 913ms\n",
      "290:\tlearn: 0.1752993\ttotal: 374ms\tremaining: 910ms\n",
      "291:\tlearn: 0.1751178\ttotal: 375ms\tremaining: 910ms\n",
      "292:\tlearn: 0.1749100\ttotal: 376ms\tremaining: 907ms\n",
      "293:\tlearn: 0.1744480\ttotal: 377ms\tremaining: 906ms\n",
      "294:\tlearn: 0.1739826\ttotal: 379ms\tremaining: 905ms\n",
      "295:\tlearn: 0.1738275\ttotal: 380ms\tremaining: 904ms\n",
      "296:\tlearn: 0.1735001\ttotal: 381ms\tremaining: 902ms\n",
      "297:\tlearn: 0.1733102\ttotal: 382ms\tremaining: 900ms\n",
      "298:\tlearn: 0.1729151\ttotal: 383ms\tremaining: 899ms\n",
      "299:\tlearn: 0.1727254\ttotal: 384ms\tremaining: 896ms\n",
      "300:\tlearn: 0.1721332\ttotal: 385ms\tremaining: 894ms\n",
      "301:\tlearn: 0.1716847\ttotal: 385ms\tremaining: 891ms\n",
      "302:\tlearn: 0.1714378\ttotal: 386ms\tremaining: 888ms\n",
      "303:\tlearn: 0.1710403\ttotal: 387ms\tremaining: 886ms\n",
      "304:\tlearn: 0.1707205\ttotal: 388ms\tremaining: 884ms\n",
      "305:\tlearn: 0.1703434\ttotal: 389ms\tremaining: 882ms\n",
      "306:\tlearn: 0.1698252\ttotal: 390ms\tremaining: 880ms\n",
      "307:\tlearn: 0.1693950\ttotal: 391ms\tremaining: 878ms\n",
      "308:\tlearn: 0.1690645\ttotal: 394ms\tremaining: 880ms\n",
      "309:\tlearn: 0.1686834\ttotal: 396ms\tremaining: 881ms\n",
      "310:\tlearn: 0.1685624\ttotal: 398ms\tremaining: 882ms\n",
      "311:\tlearn: 0.1683604\ttotal: 401ms\tremaining: 884ms\n",
      "312:\tlearn: 0.1679544\ttotal: 403ms\tremaining: 883ms\n",
      "313:\tlearn: 0.1675263\ttotal: 404ms\tremaining: 882ms\n",
      "314:\tlearn: 0.1670817\ttotal: 405ms\tremaining: 882ms\n",
      "315:\tlearn: 0.1667264\ttotal: 408ms\tremaining: 882ms\n",
      "316:\tlearn: 0.1664726\ttotal: 410ms\tremaining: 883ms\n",
      "317:\tlearn: 0.1661004\ttotal: 412ms\tremaining: 883ms\n",
      "318:\tlearn: 0.1658270\ttotal: 413ms\tremaining: 881ms\n"
     ]
    },
    {
     "name": "stdout",
     "output_type": "stream",
     "text": [
      "319:\tlearn: 0.1656762\ttotal: 414ms\tremaining: 881ms\n",
      "320:\tlearn: 0.1654667\ttotal: 416ms\tremaining: 879ms\n",
      "321:\tlearn: 0.1651488\ttotal: 417ms\tremaining: 877ms\n",
      "322:\tlearn: 0.1647270\ttotal: 417ms\tremaining: 875ms\n",
      "323:\tlearn: 0.1643004\ttotal: 419ms\tremaining: 873ms\n",
      "324:\tlearn: 0.1640320\ttotal: 419ms\tremaining: 871ms\n",
      "325:\tlearn: 0.1637948\ttotal: 421ms\tremaining: 869ms\n",
      "326:\tlearn: 0.1636764\ttotal: 421ms\tremaining: 867ms\n",
      "327:\tlearn: 0.1635266\ttotal: 422ms\tremaining: 865ms\n",
      "328:\tlearn: 0.1632155\ttotal: 423ms\tremaining: 863ms\n",
      "329:\tlearn: 0.1626978\ttotal: 424ms\tremaining: 862ms\n",
      "330:\tlearn: 0.1625362\ttotal: 426ms\tremaining: 860ms\n",
      "331:\tlearn: 0.1622838\ttotal: 427ms\tremaining: 859ms\n",
      "332:\tlearn: 0.1621562\ttotal: 428ms\tremaining: 857ms\n",
      "333:\tlearn: 0.1619850\ttotal: 429ms\tremaining: 855ms\n",
      "334:\tlearn: 0.1615912\ttotal: 430ms\tremaining: 854ms\n",
      "335:\tlearn: 0.1612942\ttotal: 431ms\tremaining: 853ms\n",
      "336:\tlearn: 0.1609882\ttotal: 432ms\tremaining: 851ms\n",
      "337:\tlearn: 0.1607440\ttotal: 433ms\tremaining: 849ms\n",
      "338:\tlearn: 0.1604548\ttotal: 434ms\tremaining: 846ms\n",
      "339:\tlearn: 0.1601642\ttotal: 435ms\tremaining: 844ms\n",
      "340:\tlearn: 0.1597389\ttotal: 436ms\tremaining: 842ms\n",
      "341:\tlearn: 0.1594717\ttotal: 437ms\tremaining: 841ms\n",
      "342:\tlearn: 0.1593545\ttotal: 438ms\tremaining: 840ms\n",
      "343:\tlearn: 0.1591533\ttotal: 439ms\tremaining: 838ms\n",
      "344:\tlearn: 0.1587165\ttotal: 440ms\tremaining: 836ms\n",
      "345:\tlearn: 0.1583676\ttotal: 442ms\tremaining: 835ms\n",
      "346:\tlearn: 0.1580467\ttotal: 442ms\tremaining: 832ms\n",
      "347:\tlearn: 0.1576936\ttotal: 443ms\tremaining: 830ms\n",
      "348:\tlearn: 0.1572916\ttotal: 444ms\tremaining: 828ms\n",
      "349:\tlearn: 0.1570221\ttotal: 445ms\tremaining: 827ms\n",
      "350:\tlearn: 0.1567341\ttotal: 446ms\tremaining: 825ms\n",
      "351:\tlearn: 0.1564604\ttotal: 448ms\tremaining: 824ms\n",
      "352:\tlearn: 0.1560184\ttotal: 449ms\tremaining: 822ms\n",
      "353:\tlearn: 0.1555907\ttotal: 450ms\tremaining: 821ms\n",
      "354:\tlearn: 0.1554496\ttotal: 451ms\tremaining: 820ms\n",
      "355:\tlearn: 0.1551208\ttotal: 452ms\tremaining: 817ms\n",
      "356:\tlearn: 0.1547016\ttotal: 453ms\tremaining: 815ms\n",
      "357:\tlearn: 0.1544076\ttotal: 454ms\tremaining: 814ms\n",
      "358:\tlearn: 0.1542845\ttotal: 455ms\tremaining: 813ms\n",
      "359:\tlearn: 0.1539611\ttotal: 457ms\tremaining: 812ms\n",
      "360:\tlearn: 0.1536254\ttotal: 457ms\tremaining: 809ms\n",
      "361:\tlearn: 0.1532889\ttotal: 459ms\tremaining: 808ms\n",
      "362:\tlearn: 0.1531934\ttotal: 459ms\tremaining: 806ms\n",
      "363:\tlearn: 0.1529813\ttotal: 460ms\tremaining: 804ms\n",
      "364:\tlearn: 0.1525564\ttotal: 461ms\tremaining: 803ms\n",
      "365:\tlearn: 0.1520210\ttotal: 462ms\tremaining: 801ms\n",
      "366:\tlearn: 0.1517352\ttotal: 463ms\tremaining: 799ms\n",
      "367:\tlearn: 0.1512510\ttotal: 464ms\tremaining: 797ms\n",
      "368:\tlearn: 0.1509137\ttotal: 465ms\tremaining: 795ms\n",
      "369:\tlearn: 0.1507345\ttotal: 466ms\tremaining: 793ms\n",
      "370:\tlearn: 0.1505180\ttotal: 467ms\tremaining: 791ms\n",
      "371:\tlearn: 0.1504285\ttotal: 467ms\tremaining: 789ms\n",
      "372:\tlearn: 0.1501750\ttotal: 468ms\tremaining: 787ms\n",
      "373:\tlearn: 0.1498923\ttotal: 470ms\tremaining: 786ms\n",
      "374:\tlearn: 0.1496103\ttotal: 471ms\tremaining: 785ms\n",
      "375:\tlearn: 0.1492301\ttotal: 473ms\tremaining: 785ms\n",
      "376:\tlearn: 0.1487013\ttotal: 474ms\tremaining: 784ms\n",
      "377:\tlearn: 0.1486315\ttotal: 475ms\tremaining: 782ms\n",
      "378:\tlearn: 0.1482835\ttotal: 476ms\tremaining: 780ms\n",
      "379:\tlearn: 0.1480449\ttotal: 478ms\tremaining: 779ms\n",
      "380:\tlearn: 0.1477057\ttotal: 478ms\tremaining: 777ms\n",
      "381:\tlearn: 0.1473078\ttotal: 482ms\tremaining: 780ms\n"
     ]
    },
    {
     "name": "stdout",
     "output_type": "stream",
     "text": [
      "382:\tlearn: 0.1472255\ttotal: 483ms\tremaining: 778ms\n",
      "383:\tlearn: 0.1470848\ttotal: 484ms\tremaining: 777ms\n",
      "384:\tlearn: 0.1467018\ttotal: 486ms\tremaining: 776ms\n",
      "385:\tlearn: 0.1462790\ttotal: 486ms\tremaining: 774ms\n",
      "386:\tlearn: 0.1461648\ttotal: 487ms\tremaining: 772ms\n",
      "387:\tlearn: 0.1459561\ttotal: 488ms\tremaining: 770ms\n",
      "388:\tlearn: 0.1457835\ttotal: 489ms\tremaining: 768ms\n",
      "389:\tlearn: 0.1456074\ttotal: 490ms\tremaining: 767ms\n",
      "390:\tlearn: 0.1455443\ttotal: 492ms\tremaining: 766ms\n",
      "391:\tlearn: 0.1452603\ttotal: 494ms\tremaining: 766ms\n",
      "392:\tlearn: 0.1450707\ttotal: 495ms\tremaining: 765ms\n",
      "393:\tlearn: 0.1447311\ttotal: 496ms\tremaining: 763ms\n",
      "394:\tlearn: 0.1442850\ttotal: 497ms\tremaining: 761ms\n",
      "395:\tlearn: 0.1440981\ttotal: 497ms\tremaining: 759ms\n",
      "396:\tlearn: 0.1438598\ttotal: 499ms\tremaining: 757ms\n",
      "397:\tlearn: 0.1436522\ttotal: 499ms\tremaining: 755ms\n",
      "398:\tlearn: 0.1433607\ttotal: 500ms\tremaining: 754ms\n",
      "399:\tlearn: 0.1430975\ttotal: 502ms\tremaining: 754ms\n",
      "400:\tlearn: 0.1429199\ttotal: 504ms\tremaining: 752ms\n",
      "401:\tlearn: 0.1426175\ttotal: 505ms\tremaining: 751ms\n",
      "402:\tlearn: 0.1421921\ttotal: 506ms\tremaining: 749ms\n",
      "403:\tlearn: 0.1419543\ttotal: 507ms\tremaining: 747ms\n",
      "404:\tlearn: 0.1418296\ttotal: 507ms\tremaining: 745ms\n",
      "405:\tlearn: 0.1415743\ttotal: 508ms\tremaining: 743ms\n",
      "406:\tlearn: 0.1410567\ttotal: 510ms\tremaining: 743ms\n",
      "407:\tlearn: 0.1407678\ttotal: 510ms\tremaining: 741ms\n",
      "408:\tlearn: 0.1404721\ttotal: 511ms\tremaining: 739ms\n",
      "409:\tlearn: 0.1402574\ttotal: 512ms\tremaining: 737ms\n",
      "410:\tlearn: 0.1399981\ttotal: 513ms\tremaining: 736ms\n",
      "411:\tlearn: 0.1395210\ttotal: 514ms\tremaining: 734ms\n",
      "412:\tlearn: 0.1392639\ttotal: 515ms\tremaining: 733ms\n",
      "413:\tlearn: 0.1388663\ttotal: 516ms\tremaining: 731ms\n",
      "414:\tlearn: 0.1385836\ttotal: 517ms\tremaining: 729ms\n",
      "415:\tlearn: 0.1383415\ttotal: 518ms\tremaining: 727ms\n",
      "416:\tlearn: 0.1379964\ttotal: 519ms\tremaining: 725ms\n",
      "417:\tlearn: 0.1376629\ttotal: 519ms\tremaining: 723ms\n",
      "418:\tlearn: 0.1374290\ttotal: 521ms\tremaining: 722ms\n",
      "419:\tlearn: 0.1372318\ttotal: 522ms\tremaining: 722ms\n",
      "420:\tlearn: 0.1370736\ttotal: 524ms\tremaining: 721ms\n",
      "421:\tlearn: 0.1369865\ttotal: 525ms\tremaining: 720ms\n",
      "422:\tlearn: 0.1367526\ttotal: 527ms\tremaining: 718ms\n",
      "423:\tlearn: 0.1363173\ttotal: 527ms\tremaining: 717ms\n",
      "424:\tlearn: 0.1359312\ttotal: 529ms\tremaining: 716ms\n",
      "425:\tlearn: 0.1356261\ttotal: 530ms\tremaining: 714ms\n",
      "426:\tlearn: 0.1355720\ttotal: 532ms\tremaining: 713ms\n",
      "427:\tlearn: 0.1353867\ttotal: 533ms\tremaining: 712ms\n",
      "428:\tlearn: 0.1350359\ttotal: 533ms\tremaining: 710ms\n",
      "429:\tlearn: 0.1347454\ttotal: 535ms\tremaining: 709ms\n",
      "430:\tlearn: 0.1343717\ttotal: 536ms\tremaining: 707ms\n",
      "431:\tlearn: 0.1339873\ttotal: 537ms\tremaining: 706ms\n",
      "432:\tlearn: 0.1337235\ttotal: 538ms\tremaining: 704ms\n",
      "433:\tlearn: 0.1334603\ttotal: 538ms\tremaining: 702ms\n",
      "434:\tlearn: 0.1331766\ttotal: 540ms\tremaining: 701ms\n",
      "435:\tlearn: 0.1328180\ttotal: 540ms\tremaining: 699ms\n",
      "436:\tlearn: 0.1325327\ttotal: 541ms\tremaining: 697ms\n",
      "437:\tlearn: 0.1324094\ttotal: 542ms\tremaining: 696ms\n",
      "438:\tlearn: 0.1321459\ttotal: 543ms\tremaining: 694ms\n",
      "439:\tlearn: 0.1317919\ttotal: 544ms\tremaining: 693ms\n",
      "440:\tlearn: 0.1317431\ttotal: 546ms\tremaining: 693ms\n",
      "441:\tlearn: 0.1313632\ttotal: 548ms\tremaining: 692ms\n",
      "442:\tlearn: 0.1311267\ttotal: 549ms\tremaining: 690ms\n",
      "443:\tlearn: 0.1309001\ttotal: 550ms\tremaining: 689ms\n",
      "444:\tlearn: 0.1304902\ttotal: 551ms\tremaining: 688ms\n",
      "445:\tlearn: 0.1303043\ttotal: 552ms\tremaining: 686ms\n",
      "446:\tlearn: 0.1299480\ttotal: 553ms\tremaining: 684ms\n",
      "447:\tlearn: 0.1298289\ttotal: 554ms\tremaining: 682ms\n",
      "448:\tlearn: 0.1296582\ttotal: 555ms\tremaining: 681ms\n",
      "449:\tlearn: 0.1294297\ttotal: 556ms\tremaining: 679ms\n",
      "450:\tlearn: 0.1292587\ttotal: 557ms\tremaining: 677ms\n",
      "451:\tlearn: 0.1289609\ttotal: 558ms\tremaining: 677ms\n",
      "452:\tlearn: 0.1288154\ttotal: 559ms\tremaining: 675ms\n",
      "453:\tlearn: 0.1285155\ttotal: 562ms\tremaining: 676ms\n",
      "454:\tlearn: 0.1282841\ttotal: 563ms\tremaining: 674ms\n",
      "455:\tlearn: 0.1279656\ttotal: 564ms\tremaining: 673ms\n",
      "456:\tlearn: 0.1276483\ttotal: 565ms\tremaining: 671ms\n",
      "457:\tlearn: 0.1274562\ttotal: 566ms\tremaining: 670ms\n",
      "458:\tlearn: 0.1272149\ttotal: 568ms\tremaining: 669ms\n",
      "459:\tlearn: 0.1269121\ttotal: 569ms\tremaining: 668ms\n",
      "460:\tlearn: 0.1266973\ttotal: 570ms\tremaining: 666ms\n",
      "461:\tlearn: 0.1264811\ttotal: 570ms\tremaining: 664ms\n",
      "462:\tlearn: 0.1262135\ttotal: 572ms\tremaining: 664ms\n",
      "463:\tlearn: 0.1260351\ttotal: 573ms\tremaining: 662ms\n",
      "464:\tlearn: 0.1257490\ttotal: 575ms\tremaining: 662ms\n",
      "465:\tlearn: 0.1254839\ttotal: 576ms\tremaining: 660ms\n",
      "466:\tlearn: 0.1251350\ttotal: 577ms\tremaining: 659ms\n",
      "467:\tlearn: 0.1248459\ttotal: 578ms\tremaining: 657ms\n",
      "468:\tlearn: 0.1246217\ttotal: 580ms\tremaining: 657ms\n",
      "469:\tlearn: 0.1245323\ttotal: 581ms\tremaining: 655ms\n",
      "470:\tlearn: 0.1244572\ttotal: 582ms\tremaining: 654ms\n",
      "471:\tlearn: 0.1243079\ttotal: 583ms\tremaining: 652ms\n",
      "472:\tlearn: 0.1239926\ttotal: 585ms\tremaining: 651ms\n",
      "473:\tlearn: 0.1237979\ttotal: 585ms\tremaining: 650ms\n",
      "474:\tlearn: 0.1236288\ttotal: 586ms\tremaining: 648ms\n",
      "475:\tlearn: 0.1233566\ttotal: 587ms\tremaining: 646ms\n",
      "476:\tlearn: 0.1229676\ttotal: 589ms\tremaining: 646ms\n"
     ]
    },
    {
     "name": "stdout",
     "output_type": "stream",
     "text": [
      "477:\tlearn: 0.1226633\ttotal: 590ms\tremaining: 645ms\n",
      "478:\tlearn: 0.1224166\ttotal: 592ms\tremaining: 644ms\n",
      "479:\tlearn: 0.1222399\ttotal: 593ms\tremaining: 642ms\n",
      "480:\tlearn: 0.1220266\ttotal: 594ms\tremaining: 641ms\n",
      "481:\tlearn: 0.1217513\ttotal: 595ms\tremaining: 640ms\n",
      "482:\tlearn: 0.1214643\ttotal: 596ms\tremaining: 638ms\n",
      "483:\tlearn: 0.1211461\ttotal: 597ms\tremaining: 636ms\n",
      "484:\tlearn: 0.1208617\ttotal: 598ms\tremaining: 635ms\n",
      "485:\tlearn: 0.1206452\ttotal: 599ms\tremaining: 634ms\n",
      "486:\tlearn: 0.1204374\ttotal: 600ms\tremaining: 632ms\n",
      "487:\tlearn: 0.1202215\ttotal: 601ms\tremaining: 631ms\n",
      "488:\tlearn: 0.1199026\ttotal: 602ms\tremaining: 629ms\n",
      "489:\tlearn: 0.1197229\ttotal: 603ms\tremaining: 628ms\n",
      "490:\tlearn: 0.1193793\ttotal: 604ms\tremaining: 626ms\n",
      "491:\tlearn: 0.1192449\ttotal: 605ms\tremaining: 625ms\n",
      "492:\tlearn: 0.1190775\ttotal: 606ms\tremaining: 624ms\n",
      "493:\tlearn: 0.1189885\ttotal: 608ms\tremaining: 623ms\n",
      "494:\tlearn: 0.1187590\ttotal: 609ms\tremaining: 621ms\n",
      "495:\tlearn: 0.1184459\ttotal: 610ms\tremaining: 620ms\n",
      "496:\tlearn: 0.1182622\ttotal: 611ms\tremaining: 618ms\n",
      "497:\tlearn: 0.1179376\ttotal: 612ms\tremaining: 617ms\n",
      "498:\tlearn: 0.1177312\ttotal: 614ms\tremaining: 616ms\n",
      "499:\tlearn: 0.1174878\ttotal: 614ms\tremaining: 614ms\n",
      "500:\tlearn: 0.1172949\ttotal: 615ms\tremaining: 613ms\n",
      "501:\tlearn: 0.1170547\ttotal: 616ms\tremaining: 611ms\n",
      "502:\tlearn: 0.1168380\ttotal: 617ms\tremaining: 610ms\n",
      "503:\tlearn: 0.1165519\ttotal: 618ms\tremaining: 608ms\n",
      "504:\tlearn: 0.1163320\ttotal: 619ms\tremaining: 607ms\n",
      "505:\tlearn: 0.1161031\ttotal: 620ms\tremaining: 605ms\n",
      "506:\tlearn: 0.1160194\ttotal: 622ms\tremaining: 605ms\n",
      "507:\tlearn: 0.1158337\ttotal: 623ms\tremaining: 604ms\n",
      "508:\tlearn: 0.1156623\ttotal: 624ms\tremaining: 602ms\n",
      "509:\tlearn: 0.1154300\ttotal: 625ms\tremaining: 601ms\n",
      "510:\tlearn: 0.1152298\ttotal: 626ms\tremaining: 599ms\n",
      "511:\tlearn: 0.1150643\ttotal: 628ms\tremaining: 598ms\n",
      "512:\tlearn: 0.1149918\ttotal: 629ms\tremaining: 597ms\n",
      "513:\tlearn: 0.1148120\ttotal: 631ms\tremaining: 596ms\n",
      "514:\tlearn: 0.1147275\ttotal: 632ms\tremaining: 595ms\n",
      "515:\tlearn: 0.1145418\ttotal: 633ms\tremaining: 594ms\n",
      "516:\tlearn: 0.1142997\ttotal: 635ms\tremaining: 593ms\n",
      "517:\tlearn: 0.1140212\ttotal: 636ms\tremaining: 592ms\n",
      "518:\tlearn: 0.1139034\ttotal: 637ms\tremaining: 590ms\n",
      "519:\tlearn: 0.1137015\ttotal: 638ms\tremaining: 589ms\n",
      "520:\tlearn: 0.1135365\ttotal: 640ms\tremaining: 588ms\n",
      "521:\tlearn: 0.1133344\ttotal: 640ms\tremaining: 587ms\n",
      "522:\tlearn: 0.1132730\ttotal: 641ms\tremaining: 585ms\n",
      "523:\tlearn: 0.1131082\ttotal: 642ms\tremaining: 583ms\n",
      "524:\tlearn: 0.1129066\ttotal: 643ms\tremaining: 582ms\n",
      "525:\tlearn: 0.1126557\ttotal: 644ms\tremaining: 580ms\n",
      "526:\tlearn: 0.1126251\ttotal: 645ms\tremaining: 579ms\n",
      "527:\tlearn: 0.1125443\ttotal: 647ms\tremaining: 578ms\n",
      "528:\tlearn: 0.1124158\ttotal: 648ms\tremaining: 577ms\n",
      "529:\tlearn: 0.1122574\ttotal: 649ms\tremaining: 575ms\n",
      "530:\tlearn: 0.1120353\ttotal: 650ms\tremaining: 574ms\n",
      "531:\tlearn: 0.1117127\ttotal: 652ms\tremaining: 573ms\n",
      "532:\tlearn: 0.1116443\ttotal: 653ms\tremaining: 572ms\n",
      "533:\tlearn: 0.1112884\ttotal: 653ms\tremaining: 570ms\n",
      "534:\tlearn: 0.1110120\ttotal: 654ms\tremaining: 569ms\n",
      "535:\tlearn: 0.1108041\ttotal: 656ms\tremaining: 568ms\n",
      "536:\tlearn: 0.1105398\ttotal: 657ms\tremaining: 566ms\n",
      "537:\tlearn: 0.1102520\ttotal: 658ms\tremaining: 565ms\n",
      "538:\tlearn: 0.1100439\ttotal: 659ms\tremaining: 564ms\n",
      "539:\tlearn: 0.1098160\ttotal: 660ms\tremaining: 562ms\n",
      "540:\tlearn: 0.1094609\ttotal: 661ms\tremaining: 561ms\n",
      "541:\tlearn: 0.1092446\ttotal: 662ms\tremaining: 559ms\n",
      "542:\tlearn: 0.1089602\ttotal: 663ms\tremaining: 558ms\n",
      "543:\tlearn: 0.1088512\ttotal: 664ms\tremaining: 557ms\n",
      "544:\tlearn: 0.1086142\ttotal: 665ms\tremaining: 555ms\n",
      "545:\tlearn: 0.1085075\ttotal: 666ms\tremaining: 554ms\n",
      "546:\tlearn: 0.1082736\ttotal: 667ms\tremaining: 552ms\n",
      "547:\tlearn: 0.1080098\ttotal: 668ms\tremaining: 551ms\n",
      "548:\tlearn: 0.1078195\ttotal: 669ms\tremaining: 549ms\n",
      "549:\tlearn: 0.1076330\ttotal: 670ms\tremaining: 548ms\n",
      "550:\tlearn: 0.1073919\ttotal: 671ms\tremaining: 547ms\n",
      "551:\tlearn: 0.1071925\ttotal: 672ms\tremaining: 545ms\n",
      "552:\tlearn: 0.1070243\ttotal: 673ms\tremaining: 544ms\n",
      "553:\tlearn: 0.1068759\ttotal: 673ms\tremaining: 542ms\n",
      "554:\tlearn: 0.1066853\ttotal: 674ms\tremaining: 541ms\n"
     ]
    },
    {
     "name": "stdout",
     "output_type": "stream",
     "text": [
      "555:\tlearn: 0.1065034\ttotal: 675ms\tremaining: 539ms\n",
      "556:\tlearn: 0.1062437\ttotal: 677ms\tremaining: 538ms\n",
      "557:\tlearn: 0.1060817\ttotal: 679ms\tremaining: 537ms\n",
      "558:\tlearn: 0.1059319\ttotal: 680ms\tremaining: 536ms\n",
      "559:\tlearn: 0.1057529\ttotal: 681ms\tremaining: 535ms\n",
      "560:\tlearn: 0.1055805\ttotal: 681ms\tremaining: 533ms\n",
      "561:\tlearn: 0.1054782\ttotal: 683ms\tremaining: 532ms\n",
      "562:\tlearn: 0.1053529\ttotal: 684ms\tremaining: 531ms\n",
      "563:\tlearn: 0.1051692\ttotal: 685ms\tremaining: 529ms\n",
      "564:\tlearn: 0.1049389\ttotal: 686ms\tremaining: 528ms\n",
      "565:\tlearn: 0.1046939\ttotal: 687ms\tremaining: 527ms\n",
      "566:\tlearn: 0.1044658\ttotal: 688ms\tremaining: 525ms\n",
      "567:\tlearn: 0.1043844\ttotal: 690ms\tremaining: 525ms\n",
      "568:\tlearn: 0.1040257\ttotal: 691ms\tremaining: 523ms\n",
      "569:\tlearn: 0.1038093\ttotal: 692ms\tremaining: 522ms\n",
      "570:\tlearn: 0.1036151\ttotal: 693ms\tremaining: 521ms\n",
      "571:\tlearn: 0.1035110\ttotal: 695ms\tremaining: 520ms\n",
      "572:\tlearn: 0.1033892\ttotal: 696ms\tremaining: 518ms\n",
      "573:\tlearn: 0.1032031\ttotal: 697ms\tremaining: 517ms\n",
      "574:\tlearn: 0.1030411\ttotal: 698ms\tremaining: 516ms\n",
      "575:\tlearn: 0.1029599\ttotal: 699ms\tremaining: 514ms\n",
      "576:\tlearn: 0.1027418\ttotal: 701ms\tremaining: 514ms\n",
      "577:\tlearn: 0.1025204\ttotal: 702ms\tremaining: 512ms\n",
      "578:\tlearn: 0.1024616\ttotal: 702ms\tremaining: 511ms\n",
      "579:\tlearn: 0.1023673\ttotal: 704ms\tremaining: 510ms\n",
      "580:\tlearn: 0.1022472\ttotal: 705ms\tremaining: 509ms\n",
      "581:\tlearn: 0.1020691\ttotal: 707ms\tremaining: 508ms\n",
      "582:\tlearn: 0.1018590\ttotal: 708ms\tremaining: 506ms\n",
      "583:\tlearn: 0.1017065\ttotal: 709ms\tremaining: 505ms\n",
      "584:\tlearn: 0.1016301\ttotal: 710ms\tremaining: 504ms\n",
      "585:\tlearn: 0.1013554\ttotal: 711ms\tremaining: 502ms\n",
      "586:\tlearn: 0.1011340\ttotal: 712ms\tremaining: 501ms\n",
      "587:\tlearn: 0.1009882\ttotal: 713ms\tremaining: 500ms\n",
      "588:\tlearn: 0.1008529\ttotal: 715ms\tremaining: 499ms\n",
      "589:\tlearn: 0.1006811\ttotal: 716ms\tremaining: 498ms\n",
      "590:\tlearn: 0.1005569\ttotal: 717ms\tremaining: 496ms\n",
      "591:\tlearn: 0.1004388\ttotal: 718ms\tremaining: 495ms\n",
      "592:\tlearn: 0.1003490\ttotal: 720ms\tremaining: 494ms\n",
      "593:\tlearn: 0.1002101\ttotal: 721ms\tremaining: 493ms\n",
      "594:\tlearn: 0.1000408\ttotal: 722ms\tremaining: 491ms\n",
      "595:\tlearn: 0.0998900\ttotal: 722ms\tremaining: 490ms\n",
      "596:\tlearn: 0.0996402\ttotal: 723ms\tremaining: 488ms\n",
      "597:\tlearn: 0.0995222\ttotal: 724ms\tremaining: 487ms\n",
      "598:\tlearn: 0.0993732\ttotal: 725ms\tremaining: 486ms\n",
      "599:\tlearn: 0.0992774\ttotal: 727ms\tremaining: 485ms\n",
      "600:\tlearn: 0.0992139\ttotal: 728ms\tremaining: 483ms\n",
      "601:\tlearn: 0.0990819\ttotal: 729ms\tremaining: 482ms\n",
      "602:\tlearn: 0.0989305\ttotal: 730ms\tremaining: 481ms\n",
      "603:\tlearn: 0.0987696\ttotal: 731ms\tremaining: 479ms\n",
      "604:\tlearn: 0.0985836\ttotal: 732ms\tremaining: 478ms\n",
      "605:\tlearn: 0.0983784\ttotal: 735ms\tremaining: 478ms\n",
      "606:\tlearn: 0.0982845\ttotal: 736ms\tremaining: 476ms\n",
      "607:\tlearn: 0.0981121\ttotal: 737ms\tremaining: 475ms\n",
      "608:\tlearn: 0.0979998\ttotal: 739ms\tremaining: 474ms\n",
      "609:\tlearn: 0.0977278\ttotal: 739ms\tremaining: 473ms\n",
      "610:\tlearn: 0.0976053\ttotal: 740ms\tremaining: 471ms\n",
      "611:\tlearn: 0.0974216\ttotal: 742ms\tremaining: 470ms\n",
      "612:\tlearn: 0.0973524\ttotal: 743ms\tremaining: 469ms\n",
      "613:\tlearn: 0.0973385\ttotal: 744ms\tremaining: 468ms\n",
      "614:\tlearn: 0.0972037\ttotal: 745ms\tremaining: 467ms\n",
      "615:\tlearn: 0.0970485\ttotal: 746ms\tremaining: 465ms\n",
      "616:\tlearn: 0.0969072\ttotal: 748ms\tremaining: 464ms\n",
      "617:\tlearn: 0.0966524\ttotal: 749ms\tremaining: 463ms\n",
      "618:\tlearn: 0.0964346\ttotal: 750ms\tremaining: 461ms\n",
      "619:\tlearn: 0.0963183\ttotal: 750ms\tremaining: 460ms\n",
      "620:\tlearn: 0.0961910\ttotal: 751ms\tremaining: 459ms\n",
      "621:\tlearn: 0.0961158\ttotal: 753ms\tremaining: 457ms\n",
      "622:\tlearn: 0.0959609\ttotal: 754ms\tremaining: 456ms\n",
      "623:\tlearn: 0.0958003\ttotal: 754ms\tremaining: 455ms\n",
      "624:\tlearn: 0.0956384\ttotal: 756ms\tremaining: 453ms\n",
      "625:\tlearn: 0.0954243\ttotal: 757ms\tremaining: 452ms\n",
      "626:\tlearn: 0.0952051\ttotal: 758ms\tremaining: 451ms\n",
      "627:\tlearn: 0.0950699\ttotal: 759ms\tremaining: 450ms\n",
      "628:\tlearn: 0.0948669\ttotal: 760ms\tremaining: 448ms\n",
      "629:\tlearn: 0.0947407\ttotal: 761ms\tremaining: 447ms\n",
      "630:\tlearn: 0.0945865\ttotal: 762ms\tremaining: 446ms\n",
      "631:\tlearn: 0.0944297\ttotal: 763ms\tremaining: 444ms\n",
      "632:\tlearn: 0.0942003\ttotal: 764ms\tremaining: 443ms\n",
      "633:\tlearn: 0.0939961\ttotal: 765ms\tremaining: 442ms\n",
      "634:\tlearn: 0.0939131\ttotal: 767ms\tremaining: 441ms\n",
      "635:\tlearn: 0.0937277\ttotal: 768ms\tremaining: 439ms\n",
      "636:\tlearn: 0.0935940\ttotal: 768ms\tremaining: 438ms\n",
      "637:\tlearn: 0.0934774\ttotal: 770ms\tremaining: 437ms\n",
      "638:\tlearn: 0.0932846\ttotal: 771ms\tremaining: 435ms\n",
      "639:\tlearn: 0.0931497\ttotal: 771ms\tremaining: 434ms\n",
      "640:\tlearn: 0.0929015\ttotal: 772ms\tremaining: 433ms\n",
      "641:\tlearn: 0.0928154\ttotal: 774ms\tremaining: 431ms\n",
      "642:\tlearn: 0.0927090\ttotal: 775ms\tremaining: 430ms\n",
      "643:\tlearn: 0.0926011\ttotal: 776ms\tremaining: 429ms\n",
      "644:\tlearn: 0.0924909\ttotal: 777ms\tremaining: 428ms\n",
      "645:\tlearn: 0.0923416\ttotal: 778ms\tremaining: 426ms\n",
      "646:\tlearn: 0.0921510\ttotal: 779ms\tremaining: 425ms\n",
      "647:\tlearn: 0.0920736\ttotal: 780ms\tremaining: 424ms\n",
      "648:\tlearn: 0.0919380\ttotal: 781ms\tremaining: 422ms\n"
     ]
    },
    {
     "name": "stdout",
     "output_type": "stream",
     "text": [
      "649:\tlearn: 0.0916999\ttotal: 782ms\tremaining: 421ms\n",
      "650:\tlearn: 0.0915007\ttotal: 783ms\tremaining: 420ms\n",
      "651:\tlearn: 0.0913872\ttotal: 784ms\tremaining: 419ms\n",
      "652:\tlearn: 0.0912309\ttotal: 785ms\tremaining: 417ms\n",
      "653:\tlearn: 0.0910477\ttotal: 786ms\tremaining: 416ms\n",
      "654:\tlearn: 0.0909199\ttotal: 787ms\tremaining: 415ms\n",
      "655:\tlearn: 0.0907313\ttotal: 789ms\tremaining: 414ms\n",
      "656:\tlearn: 0.0906234\ttotal: 790ms\tremaining: 412ms\n",
      "657:\tlearn: 0.0904836\ttotal: 791ms\tremaining: 411ms\n",
      "658:\tlearn: 0.0903085\ttotal: 792ms\tremaining: 410ms\n",
      "659:\tlearn: 0.0902508\ttotal: 793ms\tremaining: 409ms\n",
      "660:\tlearn: 0.0900782\ttotal: 794ms\tremaining: 407ms\n",
      "661:\tlearn: 0.0898940\ttotal: 795ms\tremaining: 406ms\n",
      "662:\tlearn: 0.0898603\ttotal: 796ms\tremaining: 405ms\n",
      "663:\tlearn: 0.0897502\ttotal: 798ms\tremaining: 404ms\n",
      "664:\tlearn: 0.0895752\ttotal: 799ms\tremaining: 402ms\n",
      "665:\tlearn: 0.0894475\ttotal: 800ms\tremaining: 401ms\n",
      "666:\tlearn: 0.0892928\ttotal: 801ms\tremaining: 400ms\n",
      "667:\tlearn: 0.0891832\ttotal: 802ms\tremaining: 399ms\n",
      "668:\tlearn: 0.0889923\ttotal: 803ms\tremaining: 397ms\n",
      "669:\tlearn: 0.0888155\ttotal: 804ms\tremaining: 396ms\n",
      "670:\tlearn: 0.0886969\ttotal: 806ms\tremaining: 395ms\n",
      "671:\tlearn: 0.0885234\ttotal: 807ms\tremaining: 394ms\n",
      "672:\tlearn: 0.0884227\ttotal: 808ms\tremaining: 393ms\n",
      "673:\tlearn: 0.0883142\ttotal: 810ms\tremaining: 392ms\n",
      "674:\tlearn: 0.0881937\ttotal: 810ms\tremaining: 390ms\n",
      "675:\tlearn: 0.0880761\ttotal: 812ms\tremaining: 389ms\n",
      "676:\tlearn: 0.0879775\ttotal: 813ms\tremaining: 388ms\n",
      "677:\tlearn: 0.0877876\ttotal: 816ms\tremaining: 388ms\n",
      "678:\tlearn: 0.0876604\ttotal: 817ms\tremaining: 386ms\n",
      "679:\tlearn: 0.0875576\ttotal: 818ms\tremaining: 385ms\n",
      "680:\tlearn: 0.0874283\ttotal: 820ms\tremaining: 384ms\n",
      "681:\tlearn: 0.0873309\ttotal: 823ms\tremaining: 384ms\n",
      "682:\tlearn: 0.0872530\ttotal: 825ms\tremaining: 383ms\n",
      "683:\tlearn: 0.0871452\ttotal: 827ms\tremaining: 382ms\n",
      "684:\tlearn: 0.0869917\ttotal: 830ms\tremaining: 382ms\n",
      "685:\tlearn: 0.0868607\ttotal: 831ms\tremaining: 380ms\n",
      "686:\tlearn: 0.0867864\ttotal: 834ms\tremaining: 380ms\n",
      "687:\tlearn: 0.0866505\ttotal: 837ms\tremaining: 379ms\n",
      "688:\tlearn: 0.0864993\ttotal: 838ms\tremaining: 378ms\n",
      "689:\tlearn: 0.0863639\ttotal: 838ms\tremaining: 377ms\n",
      "690:\tlearn: 0.0861658\ttotal: 839ms\tremaining: 375ms\n",
      "691:\tlearn: 0.0861238\ttotal: 840ms\tremaining: 374ms\n",
      "692:\tlearn: 0.0859483\ttotal: 841ms\tremaining: 373ms\n",
      "693:\tlearn: 0.0858807\ttotal: 843ms\tremaining: 372ms\n",
      "694:\tlearn: 0.0858068\ttotal: 844ms\tremaining: 370ms\n",
      "695:\tlearn: 0.0856440\ttotal: 847ms\tremaining: 370ms\n",
      "696:\tlearn: 0.0855510\ttotal: 848ms\tremaining: 369ms\n",
      "697:\tlearn: 0.0853826\ttotal: 849ms\tremaining: 367ms\n",
      "698:\tlearn: 0.0853153\ttotal: 850ms\tremaining: 366ms\n",
      "699:\tlearn: 0.0851462\ttotal: 851ms\tremaining: 365ms\n",
      "700:\tlearn: 0.0849991\ttotal: 852ms\tremaining: 363ms\n",
      "701:\tlearn: 0.0849500\ttotal: 853ms\tremaining: 362ms\n",
      "702:\tlearn: 0.0848308\ttotal: 854ms\tremaining: 361ms\n",
      "703:\tlearn: 0.0846902\ttotal: 856ms\tremaining: 360ms\n",
      "704:\tlearn: 0.0845290\ttotal: 856ms\tremaining: 358ms\n",
      "705:\tlearn: 0.0844422\ttotal: 857ms\tremaining: 357ms\n",
      "706:\tlearn: 0.0843858\ttotal: 858ms\tremaining: 356ms\n",
      "707:\tlearn: 0.0843019\ttotal: 859ms\tremaining: 354ms\n",
      "708:\tlearn: 0.0841161\ttotal: 859ms\tremaining: 353ms\n",
      "709:\tlearn: 0.0839642\ttotal: 860ms\tremaining: 351ms\n",
      "710:\tlearn: 0.0837331\ttotal: 861ms\tremaining: 350ms\n",
      "711:\tlearn: 0.0835629\ttotal: 862ms\tremaining: 349ms\n",
      "712:\tlearn: 0.0834225\ttotal: 863ms\tremaining: 347ms\n",
      "713:\tlearn: 0.0832733\ttotal: 864ms\tremaining: 346ms\n",
      "714:\tlearn: 0.0831049\ttotal: 864ms\tremaining: 345ms\n"
     ]
    },
    {
     "name": "stdout",
     "output_type": "stream",
     "text": [
      "715:\tlearn: 0.0830164\ttotal: 866ms\tremaining: 344ms\n",
      "716:\tlearn: 0.0829257\ttotal: 868ms\tremaining: 342ms\n",
      "717:\tlearn: 0.0827464\ttotal: 869ms\tremaining: 341ms\n",
      "718:\tlearn: 0.0826839\ttotal: 869ms\tremaining: 340ms\n",
      "719:\tlearn: 0.0825603\ttotal: 870ms\tremaining: 338ms\n",
      "720:\tlearn: 0.0824157\ttotal: 871ms\tremaining: 337ms\n",
      "721:\tlearn: 0.0823092\ttotal: 872ms\tremaining: 336ms\n",
      "722:\tlearn: 0.0821554\ttotal: 874ms\tremaining: 335ms\n",
      "723:\tlearn: 0.0820138\ttotal: 875ms\tremaining: 334ms\n",
      "724:\tlearn: 0.0818743\ttotal: 876ms\tremaining: 332ms\n",
      "725:\tlearn: 0.0817476\ttotal: 877ms\tremaining: 331ms\n",
      "726:\tlearn: 0.0816193\ttotal: 878ms\tremaining: 330ms\n",
      "727:\tlearn: 0.0814070\ttotal: 878ms\tremaining: 328ms\n",
      "728:\tlearn: 0.0813132\ttotal: 879ms\tremaining: 327ms\n",
      "729:\tlearn: 0.0812260\ttotal: 880ms\tremaining: 326ms\n",
      "730:\tlearn: 0.0811262\ttotal: 881ms\tremaining: 324ms\n",
      "731:\tlearn: 0.0810605\ttotal: 882ms\tremaining: 323ms\n",
      "732:\tlearn: 0.0809188\ttotal: 883ms\tremaining: 322ms\n",
      "733:\tlearn: 0.0807657\ttotal: 885ms\tremaining: 321ms\n",
      "734:\tlearn: 0.0806214\ttotal: 886ms\tremaining: 319ms\n",
      "735:\tlearn: 0.0804482\ttotal: 887ms\tremaining: 318ms\n",
      "736:\tlearn: 0.0802808\ttotal: 888ms\tremaining: 317ms\n",
      "737:\tlearn: 0.0802067\ttotal: 889ms\tremaining: 316ms\n",
      "738:\tlearn: 0.0800774\ttotal: 890ms\tremaining: 314ms\n",
      "739:\tlearn: 0.0800023\ttotal: 891ms\tremaining: 313ms\n",
      "740:\tlearn: 0.0798804\ttotal: 891ms\tremaining: 312ms\n",
      "741:\tlearn: 0.0798253\ttotal: 893ms\tremaining: 310ms\n",
      "742:\tlearn: 0.0796823\ttotal: 894ms\tremaining: 309ms\n",
      "743:\tlearn: 0.0795299\ttotal: 895ms\tremaining: 308ms\n",
      "744:\tlearn: 0.0794174\ttotal: 896ms\tremaining: 307ms\n",
      "745:\tlearn: 0.0793695\ttotal: 897ms\tremaining: 305ms\n",
      "746:\tlearn: 0.0792402\ttotal: 898ms\tremaining: 304ms\n",
      "747:\tlearn: 0.0791721\ttotal: 900ms\tremaining: 303ms\n",
      "748:\tlearn: 0.0790633\ttotal: 901ms\tremaining: 302ms\n",
      "749:\tlearn: 0.0789425\ttotal: 902ms\tremaining: 301ms\n",
      "750:\tlearn: 0.0788536\ttotal: 903ms\tremaining: 300ms\n",
      "751:\tlearn: 0.0787698\ttotal: 904ms\tremaining: 298ms\n",
      "752:\tlearn: 0.0786657\ttotal: 906ms\tremaining: 297ms\n",
      "753:\tlearn: 0.0786359\ttotal: 906ms\tremaining: 296ms\n",
      "754:\tlearn: 0.0785167\ttotal: 908ms\tremaining: 295ms\n",
      "755:\tlearn: 0.0783645\ttotal: 909ms\tremaining: 293ms\n",
      "756:\tlearn: 0.0782610\ttotal: 910ms\tremaining: 292ms\n",
      "757:\tlearn: 0.0781362\ttotal: 913ms\tremaining: 291ms\n",
      "758:\tlearn: 0.0780615\ttotal: 913ms\tremaining: 290ms\n",
      "759:\tlearn: 0.0779208\ttotal: 914ms\tremaining: 289ms\n",
      "760:\tlearn: 0.0778308\ttotal: 916ms\tremaining: 288ms\n",
      "761:\tlearn: 0.0776677\ttotal: 917ms\tremaining: 286ms\n",
      "762:\tlearn: 0.0775113\ttotal: 918ms\tremaining: 285ms\n",
      "763:\tlearn: 0.0773752\ttotal: 919ms\tremaining: 284ms\n",
      "764:\tlearn: 0.0772478\ttotal: 920ms\tremaining: 283ms\n",
      "765:\tlearn: 0.0771601\ttotal: 921ms\tremaining: 281ms\n",
      "766:\tlearn: 0.0770651\ttotal: 922ms\tremaining: 280ms\n",
      "767:\tlearn: 0.0769851\ttotal: 923ms\tremaining: 279ms\n",
      "768:\tlearn: 0.0769510\ttotal: 924ms\tremaining: 278ms\n",
      "769:\tlearn: 0.0768160\ttotal: 925ms\tremaining: 276ms\n",
      "770:\tlearn: 0.0766694\ttotal: 927ms\tremaining: 275ms\n",
      "771:\tlearn: 0.0765229\ttotal: 928ms\tremaining: 274ms\n",
      "772:\tlearn: 0.0764596\ttotal: 929ms\tremaining: 273ms\n",
      "773:\tlearn: 0.0763452\ttotal: 929ms\tremaining: 271ms\n",
      "774:\tlearn: 0.0761598\ttotal: 930ms\tremaining: 270ms\n",
      "775:\tlearn: 0.0760752\ttotal: 931ms\tremaining: 269ms\n",
      "776:\tlearn: 0.0759293\ttotal: 932ms\tremaining: 268ms\n",
      "777:\tlearn: 0.0757949\ttotal: 934ms\tremaining: 266ms\n",
      "778:\tlearn: 0.0756921\ttotal: 934ms\tremaining: 265ms\n",
      "779:\tlearn: 0.0756868\ttotal: 935ms\tremaining: 264ms\n",
      "780:\tlearn: 0.0756043\ttotal: 936ms\tremaining: 263ms\n",
      "781:\tlearn: 0.0754482\ttotal: 937ms\tremaining: 261ms\n",
      "782:\tlearn: 0.0753143\ttotal: 938ms\tremaining: 260ms\n",
      "783:\tlearn: 0.0751863\ttotal: 939ms\tremaining: 259ms\n",
      "784:\tlearn: 0.0751094\ttotal: 941ms\tremaining: 258ms\n",
      "785:\tlearn: 0.0749678\ttotal: 943ms\tremaining: 257ms\n",
      "786:\tlearn: 0.0748984\ttotal: 944ms\tremaining: 255ms\n",
      "787:\tlearn: 0.0748670\ttotal: 945ms\tremaining: 254ms\n",
      "788:\tlearn: 0.0747577\ttotal: 946ms\tremaining: 253ms\n",
      "789:\tlearn: 0.0745413\ttotal: 946ms\tremaining: 252ms\n",
      "790:\tlearn: 0.0744951\ttotal: 947ms\tremaining: 250ms\n",
      "791:\tlearn: 0.0743739\ttotal: 948ms\tremaining: 249ms\n",
      "792:\tlearn: 0.0743672\ttotal: 949ms\tremaining: 248ms\n",
      "793:\tlearn: 0.0742088\ttotal: 950ms\tremaining: 247ms\n",
      "794:\tlearn: 0.0740977\ttotal: 951ms\tremaining: 245ms\n",
      "795:\tlearn: 0.0740135\ttotal: 952ms\tremaining: 244ms\n",
      "796:\tlearn: 0.0738882\ttotal: 953ms\tremaining: 243ms\n",
      "797:\tlearn: 0.0738061\ttotal: 954ms\tremaining: 241ms\n",
      "798:\tlearn: 0.0737081\ttotal: 955ms\tremaining: 240ms\n",
      "799:\tlearn: 0.0736040\ttotal: 955ms\tremaining: 239ms\n",
      "800:\tlearn: 0.0735733\ttotal: 956ms\tremaining: 238ms\n",
      "801:\tlearn: 0.0734053\ttotal: 957ms\tremaining: 236ms\n",
      "802:\tlearn: 0.0733197\ttotal: 958ms\tremaining: 235ms\n",
      "803:\tlearn: 0.0732180\ttotal: 959ms\tremaining: 234ms\n",
      "804:\tlearn: 0.0731251\ttotal: 960ms\tremaining: 233ms\n",
      "805:\tlearn: 0.0731144\ttotal: 961ms\tremaining: 231ms\n",
      "806:\tlearn: 0.0730095\ttotal: 962ms\tremaining: 230ms\n",
      "807:\tlearn: 0.0729313\ttotal: 963ms\tremaining: 229ms\n",
      "808:\tlearn: 0.0728138\ttotal: 964ms\tremaining: 228ms\n",
      "809:\tlearn: 0.0726872\ttotal: 965ms\tremaining: 226ms\n",
      "810:\tlearn: 0.0725447\ttotal: 966ms\tremaining: 225ms\n",
      "811:\tlearn: 0.0724336\ttotal: 967ms\tremaining: 224ms\n",
      "812:\tlearn: 0.0723575\ttotal: 968ms\tremaining: 223ms\n",
      "813:\tlearn: 0.0722688\ttotal: 968ms\tremaining: 221ms\n",
      "814:\tlearn: 0.0722470\ttotal: 969ms\tremaining: 220ms\n",
      "815:\tlearn: 0.0721848\ttotal: 970ms\tremaining: 219ms\n",
      "816:\tlearn: 0.0720912\ttotal: 971ms\tremaining: 217ms\n",
      "817:\tlearn: 0.0719875\ttotal: 972ms\tremaining: 216ms\n",
      "818:\tlearn: 0.0719001\ttotal: 973ms\tremaining: 215ms\n"
     ]
    },
    {
     "name": "stdout",
     "output_type": "stream",
     "text": [
      "819:\tlearn: 0.0717612\ttotal: 974ms\tremaining: 214ms\n",
      "820:\tlearn: 0.0717567\ttotal: 975ms\tremaining: 213ms\n",
      "821:\tlearn: 0.0716436\ttotal: 976ms\tremaining: 211ms\n",
      "822:\tlearn: 0.0714909\ttotal: 977ms\tremaining: 210ms\n",
      "823:\tlearn: 0.0714197\ttotal: 977ms\tremaining: 209ms\n",
      "824:\tlearn: 0.0712912\ttotal: 979ms\tremaining: 208ms\n",
      "825:\tlearn: 0.0712229\ttotal: 979ms\tremaining: 206ms\n",
      "826:\tlearn: 0.0711844\ttotal: 980ms\tremaining: 205ms\n",
      "827:\tlearn: 0.0710340\ttotal: 981ms\tremaining: 204ms\n",
      "828:\tlearn: 0.0709548\ttotal: 982ms\tremaining: 203ms\n",
      "829:\tlearn: 0.0708077\ttotal: 983ms\tremaining: 201ms\n",
      "830:\tlearn: 0.0706131\ttotal: 984ms\tremaining: 200ms\n",
      "831:\tlearn: 0.0705066\ttotal: 984ms\tremaining: 199ms\n",
      "832:\tlearn: 0.0704184\ttotal: 985ms\tremaining: 197ms\n",
      "833:\tlearn: 0.0702533\ttotal: 986ms\tremaining: 196ms\n",
      "834:\tlearn: 0.0702441\ttotal: 987ms\tremaining: 195ms\n",
      "835:\tlearn: 0.0701138\ttotal: 987ms\tremaining: 194ms\n",
      "836:\tlearn: 0.0699830\ttotal: 988ms\tremaining: 192ms\n",
      "837:\tlearn: 0.0698681\ttotal: 989ms\tremaining: 191ms\n",
      "838:\tlearn: 0.0697554\ttotal: 990ms\tremaining: 190ms\n",
      "839:\tlearn: 0.0696298\ttotal: 991ms\tremaining: 189ms\n",
      "840:\tlearn: 0.0695463\ttotal: 991ms\tremaining: 187ms\n",
      "841:\tlearn: 0.0694256\ttotal: 992ms\tremaining: 186ms\n",
      "842:\tlearn: 0.0693376\ttotal: 993ms\tremaining: 185ms\n",
      "843:\tlearn: 0.0692906\ttotal: 994ms\tremaining: 184ms\n",
      "844:\tlearn: 0.0691747\ttotal: 995ms\tremaining: 182ms\n",
      "845:\tlearn: 0.0690903\ttotal: 996ms\tremaining: 181ms\n",
      "846:\tlearn: 0.0688619\ttotal: 996ms\tremaining: 180ms\n",
      "847:\tlearn: 0.0687745\ttotal: 997ms\tremaining: 179ms\n",
      "848:\tlearn: 0.0686851\ttotal: 998ms\tremaining: 178ms\n",
      "849:\tlearn: 0.0685525\ttotal: 999ms\tremaining: 176ms\n",
      "850:\tlearn: 0.0684891\ttotal: 1000ms\tremaining: 175ms\n",
      "851:\tlearn: 0.0684091\ttotal: 1s\tremaining: 174ms\n",
      "852:\tlearn: 0.0682735\ttotal: 1s\tremaining: 173ms\n",
      "853:\tlearn: 0.0681393\ttotal: 1s\tremaining: 171ms\n",
      "854:\tlearn: 0.0680375\ttotal: 1s\tremaining: 170ms\n",
      "855:\tlearn: 0.0679445\ttotal: 1s\tremaining: 169ms\n",
      "856:\tlearn: 0.0678442\ttotal: 1s\tremaining: 168ms\n",
      "857:\tlearn: 0.0678184\ttotal: 1s\tremaining: 166ms\n",
      "858:\tlearn: 0.0677610\ttotal: 1.01s\tremaining: 165ms\n",
      "859:\tlearn: 0.0676218\ttotal: 1.01s\tremaining: 164ms\n",
      "860:\tlearn: 0.0675167\ttotal: 1.01s\tremaining: 163ms\n",
      "861:\tlearn: 0.0673848\ttotal: 1.01s\tremaining: 162ms\n",
      "862:\tlearn: 0.0672673\ttotal: 1.01s\tremaining: 160ms\n",
      "863:\tlearn: 0.0671425\ttotal: 1.01s\tremaining: 159ms\n",
      "864:\tlearn: 0.0670226\ttotal: 1.01s\tremaining: 158ms\n",
      "865:\tlearn: 0.0669397\ttotal: 1.01s\tremaining: 157ms\n",
      "866:\tlearn: 0.0668262\ttotal: 1.01s\tremaining: 156ms\n",
      "867:\tlearn: 0.0667332\ttotal: 1.01s\tremaining: 154ms\n",
      "868:\tlearn: 0.0666280\ttotal: 1.02s\tremaining: 153ms\n",
      "869:\tlearn: 0.0665088\ttotal: 1.02s\tremaining: 152ms\n",
      "870:\tlearn: 0.0664703\ttotal: 1.02s\tremaining: 151ms\n",
      "871:\tlearn: 0.0663519\ttotal: 1.02s\tremaining: 150ms\n",
      "872:\tlearn: 0.0662946\ttotal: 1.02s\tremaining: 148ms\n",
      "873:\tlearn: 0.0662231\ttotal: 1.02s\tremaining: 147ms\n",
      "874:\tlearn: 0.0661121\ttotal: 1.02s\tremaining: 146ms\n",
      "875:\tlearn: 0.0660088\ttotal: 1.02s\tremaining: 145ms\n",
      "876:\tlearn: 0.0659247\ttotal: 1.02s\tremaining: 144ms\n",
      "877:\tlearn: 0.0659158\ttotal: 1.02s\tremaining: 142ms\n",
      "878:\tlearn: 0.0657947\ttotal: 1.02s\tremaining: 141ms\n",
      "879:\tlearn: 0.0656444\ttotal: 1.03s\tremaining: 140ms\n",
      "880:\tlearn: 0.0655350\ttotal: 1.03s\tremaining: 139ms\n",
      "881:\tlearn: 0.0654182\ttotal: 1.03s\tremaining: 138ms\n",
      "882:\tlearn: 0.0653839\ttotal: 1.03s\tremaining: 136ms\n",
      "883:\tlearn: 0.0653047\ttotal: 1.03s\tremaining: 135ms\n",
      "884:\tlearn: 0.0652340\ttotal: 1.03s\tremaining: 134ms\n",
      "885:\tlearn: 0.0651098\ttotal: 1.03s\tremaining: 133ms\n",
      "886:\tlearn: 0.0649653\ttotal: 1.03s\tremaining: 132ms\n",
      "887:\tlearn: 0.0649427\ttotal: 1.03s\tremaining: 130ms\n",
      "888:\tlearn: 0.0648728\ttotal: 1.03s\tremaining: 129ms\n",
      "889:\tlearn: 0.0647941\ttotal: 1.03s\tremaining: 128ms\n",
      "890:\tlearn: 0.0646767\ttotal: 1.04s\tremaining: 127ms\n",
      "891:\tlearn: 0.0646072\ttotal: 1.04s\tremaining: 126ms\n",
      "892:\tlearn: 0.0645008\ttotal: 1.04s\tremaining: 124ms\n",
      "893:\tlearn: 0.0644070\ttotal: 1.04s\tremaining: 123ms\n",
      "894:\tlearn: 0.0642924\ttotal: 1.04s\tremaining: 122ms\n",
      "895:\tlearn: 0.0641338\ttotal: 1.04s\tremaining: 121ms\n",
      "896:\tlearn: 0.0640862\ttotal: 1.04s\tremaining: 120ms\n",
      "897:\tlearn: 0.0639889\ttotal: 1.04s\tremaining: 118ms\n",
      "898:\tlearn: 0.0639099\ttotal: 1.04s\tremaining: 117ms\n",
      "899:\tlearn: 0.0638590\ttotal: 1.04s\tremaining: 116ms\n",
      "900:\tlearn: 0.0637223\ttotal: 1.04s\tremaining: 115ms\n",
      "901:\tlearn: 0.0636625\ttotal: 1.05s\tremaining: 114ms\n",
      "902:\tlearn: 0.0635717\ttotal: 1.05s\tremaining: 113ms\n",
      "903:\tlearn: 0.0635258\ttotal: 1.05s\tremaining: 111ms\n",
      "904:\tlearn: 0.0634667\ttotal: 1.05s\tremaining: 110ms\n",
      "905:\tlearn: 0.0634183\ttotal: 1.05s\tremaining: 109ms\n",
      "906:\tlearn: 0.0633405\ttotal: 1.05s\tremaining: 108ms\n",
      "907:\tlearn: 0.0632792\ttotal: 1.05s\tremaining: 107ms\n",
      "908:\tlearn: 0.0632266\ttotal: 1.05s\tremaining: 105ms\n",
      "909:\tlearn: 0.0631659\ttotal: 1.05s\tremaining: 104ms\n",
      "910:\tlearn: 0.0630391\ttotal: 1.05s\tremaining: 103ms\n",
      "911:\tlearn: 0.0628781\ttotal: 1.05s\tremaining: 102ms\n"
     ]
    },
    {
     "name": "stdout",
     "output_type": "stream",
     "text": [
      "912:\tlearn: 0.0627924\ttotal: 1.06s\tremaining: 101ms\n",
      "913:\tlearn: 0.0627025\ttotal: 1.06s\tremaining: 99.7ms\n",
      "914:\tlearn: 0.0626184\ttotal: 1.06s\tremaining: 98.5ms\n",
      "915:\tlearn: 0.0625214\ttotal: 1.06s\tremaining: 97.3ms\n",
      "916:\tlearn: 0.0624202\ttotal: 1.06s\tremaining: 96.2ms\n",
      "917:\tlearn: 0.0623312\ttotal: 1.06s\tremaining: 95ms\n",
      "918:\tlearn: 0.0622438\ttotal: 1.06s\tremaining: 93.8ms\n",
      "919:\tlearn: 0.0621235\ttotal: 1.06s\tremaining: 92.6ms\n",
      "920:\tlearn: 0.0620070\ttotal: 1.07s\tremaining: 91.5ms\n",
      "921:\tlearn: 0.0619174\ttotal: 1.07s\tremaining: 90.3ms\n",
      "922:\tlearn: 0.0618193\ttotal: 1.07s\tremaining: 89.1ms\n",
      "923:\tlearn: 0.0617248\ttotal: 1.07s\tremaining: 87.9ms\n",
      "924:\tlearn: 0.0615933\ttotal: 1.07s\tremaining: 86.8ms\n",
      "925:\tlearn: 0.0615500\ttotal: 1.07s\tremaining: 85.6ms\n",
      "926:\tlearn: 0.0614334\ttotal: 1.07s\tremaining: 84.5ms\n",
      "927:\tlearn: 0.0613411\ttotal: 1.07s\tremaining: 83.3ms\n",
      "928:\tlearn: 0.0612513\ttotal: 1.07s\tremaining: 82.2ms\n",
      "929:\tlearn: 0.0611464\ttotal: 1.08s\tremaining: 81ms\n",
      "930:\tlearn: 0.0610870\ttotal: 1.08s\tremaining: 79.8ms\n",
      "931:\tlearn: 0.0610259\ttotal: 1.08s\tremaining: 78.7ms\n",
      "932:\tlearn: 0.0609765\ttotal: 1.08s\tremaining: 77.5ms\n",
      "933:\tlearn: 0.0609102\ttotal: 1.08s\tremaining: 76.3ms\n",
      "934:\tlearn: 0.0608184\ttotal: 1.08s\tremaining: 75.1ms\n",
      "935:\tlearn: 0.0607577\ttotal: 1.08s\tremaining: 74ms\n",
      "936:\tlearn: 0.0606556\ttotal: 1.08s\tremaining: 72.8ms\n",
      "937:\tlearn: 0.0606016\ttotal: 1.08s\tremaining: 71.6ms\n",
      "938:\tlearn: 0.0605398\ttotal: 1.08s\tremaining: 70.4ms\n",
      "939:\tlearn: 0.0604435\ttotal: 1.08s\tremaining: 69.3ms\n",
      "940:\tlearn: 0.0603212\ttotal: 1.09s\tremaining: 68.1ms\n",
      "941:\tlearn: 0.0602332\ttotal: 1.09s\tremaining: 66.9ms\n",
      "942:\tlearn: 0.0601328\ttotal: 1.09s\tremaining: 65.8ms\n",
      "943:\tlearn: 0.0600251\ttotal: 1.09s\tremaining: 64.6ms\n",
      "944:\tlearn: 0.0599421\ttotal: 1.09s\tremaining: 63.4ms\n",
      "945:\tlearn: 0.0599142\ttotal: 1.09s\tremaining: 62.3ms\n",
      "946:\tlearn: 0.0598576\ttotal: 1.09s\tremaining: 61.1ms\n",
      "947:\tlearn: 0.0597278\ttotal: 1.09s\tremaining: 59.9ms\n",
      "948:\tlearn: 0.0595970\ttotal: 1.09s\tremaining: 58.8ms\n",
      "949:\tlearn: 0.0595175\ttotal: 1.09s\tremaining: 57.6ms\n",
      "950:\tlearn: 0.0593852\ttotal: 1.09s\tremaining: 56.5ms\n",
      "951:\tlearn: 0.0592964\ttotal: 1.1s\tremaining: 55.3ms\n",
      "952:\tlearn: 0.0591967\ttotal: 1.1s\tremaining: 54.1ms\n",
      "953:\tlearn: 0.0591220\ttotal: 1.1s\tremaining: 53ms\n",
      "954:\tlearn: 0.0590530\ttotal: 1.1s\tremaining: 51.8ms\n",
      "955:\tlearn: 0.0589755\ttotal: 1.1s\tremaining: 50.6ms\n",
      "956:\tlearn: 0.0588268\ttotal: 1.1s\tremaining: 49.5ms\n",
      "957:\tlearn: 0.0587497\ttotal: 1.1s\tremaining: 48.3ms\n",
      "958:\tlearn: 0.0586920\ttotal: 1.1s\tremaining: 47.1ms\n",
      "959:\tlearn: 0.0586521\ttotal: 1.1s\tremaining: 46ms\n",
      "960:\tlearn: 0.0585578\ttotal: 1.1s\tremaining: 44.8ms\n",
      "961:\tlearn: 0.0585102\ttotal: 1.1s\tremaining: 43.6ms\n",
      "962:\tlearn: 0.0584692\ttotal: 1.1s\tremaining: 42.5ms\n",
      "963:\tlearn: 0.0583467\ttotal: 1.11s\tremaining: 41.3ms\n",
      "964:\tlearn: 0.0582759\ttotal: 1.11s\tremaining: 40.2ms\n",
      "965:\tlearn: 0.0582182\ttotal: 1.11s\tremaining: 39ms\n",
      "966:\tlearn: 0.0580827\ttotal: 1.11s\tremaining: 37.8ms\n",
      "967:\tlearn: 0.0579861\ttotal: 1.11s\tremaining: 36.7ms\n",
      "968:\tlearn: 0.0578556\ttotal: 1.11s\tremaining: 35.5ms\n",
      "969:\tlearn: 0.0578511\ttotal: 1.11s\tremaining: 34.4ms\n",
      "970:\tlearn: 0.0577855\ttotal: 1.11s\tremaining: 33.2ms\n",
      "971:\tlearn: 0.0577269\ttotal: 1.11s\tremaining: 32.1ms\n",
      "972:\tlearn: 0.0576176\ttotal: 1.11s\tremaining: 30.9ms\n",
      "973:\tlearn: 0.0574944\ttotal: 1.11s\tremaining: 29.8ms\n",
      "974:\tlearn: 0.0573901\ttotal: 1.11s\tremaining: 28.6ms\n",
      "975:\tlearn: 0.0572843\ttotal: 1.12s\tremaining: 27.4ms\n",
      "976:\tlearn: 0.0572106\ttotal: 1.12s\tremaining: 26.3ms\n",
      "977:\tlearn: 0.0570759\ttotal: 1.12s\tremaining: 25.1ms\n",
      "978:\tlearn: 0.0570406\ttotal: 1.12s\tremaining: 24ms\n",
      "979:\tlearn: 0.0569057\ttotal: 1.12s\tremaining: 22.8ms\n",
      "980:\tlearn: 0.0568810\ttotal: 1.12s\tremaining: 21.7ms\n",
      "981:\tlearn: 0.0567957\ttotal: 1.12s\tremaining: 20.6ms\n",
      "982:\tlearn: 0.0567574\ttotal: 1.12s\tremaining: 19.4ms\n",
      "983:\tlearn: 0.0567155\ttotal: 1.12s\tremaining: 18.3ms\n",
      "984:\tlearn: 0.0566692\ttotal: 1.12s\tremaining: 17.1ms\n",
      "985:\tlearn: 0.0565976\ttotal: 1.13s\tremaining: 16ms\n",
      "986:\tlearn: 0.0565331\ttotal: 1.13s\tremaining: 14.8ms\n",
      "987:\tlearn: 0.0564778\ttotal: 1.13s\tremaining: 13.7ms\n",
      "988:\tlearn: 0.0563868\ttotal: 1.13s\tremaining: 12.6ms\n",
      "989:\tlearn: 0.0562727\ttotal: 1.13s\tremaining: 11.4ms\n",
      "990:\tlearn: 0.0561719\ttotal: 1.13s\tremaining: 10.3ms\n",
      "991:\tlearn: 0.0560503\ttotal: 1.13s\tremaining: 9.12ms\n",
      "992:\tlearn: 0.0559950\ttotal: 1.13s\tremaining: 7.98ms\n",
      "993:\tlearn: 0.0559246\ttotal: 1.13s\tremaining: 6.84ms\n",
      "994:\tlearn: 0.0558395\ttotal: 1.13s\tremaining: 5.7ms\n",
      "995:\tlearn: 0.0557585\ttotal: 1.13s\tremaining: 4.55ms\n",
      "996:\tlearn: 0.0556235\ttotal: 1.14s\tremaining: 3.42ms\n",
      "997:\tlearn: 0.0555289\ttotal: 1.14s\tremaining: 2.28ms\n",
      "998:\tlearn: 0.0554060\ttotal: 1.14s\tremaining: 1.14ms\n",
      "999:\tlearn: 0.0553246\ttotal: 1.14s\tremaining: 0us\n"
     ]
    },
    {
     "data": {
      "text/plain": [
       "<catboost.core.CatBoostRegressor at 0x7f8548320610>"
      ]
     },
     "execution_count": 9,
     "metadata": {},
     "output_type": "execute_result"
    }
   ],
   "source": [
    "#Train the Model \n",
    "prior_model = ctb.CatBoostRegressor()\n",
    "prior_model.fit(X_train,Y_train)"
   ]
  },
  {
   "cell_type": "code",
   "execution_count": 10,
   "id": "af65dcda",
   "metadata": {
    "execution": {
     "iopub.execute_input": "2022-06-12T05:31:40.666994Z",
     "iopub.status.busy": "2022-06-12T05:31:40.666618Z",
     "iopub.status.idle": "2022-06-12T05:31:40.674478Z",
     "shell.execute_reply": "2022-06-12T05:31:40.674850Z"
    },
    "id": "af65dcda",
    "papermill": {
     "duration": 0.023311,
     "end_time": "2022-06-12T05:31:40.674971",
     "exception": false,
     "start_time": "2022-06-12T05:31:40.651660",
     "status": "completed"
    },
    "tags": []
   },
   "outputs": [
    {
     "data": {
      "application/scrapbook.scrap.json+json": {
       "data": 0.10057098435546866,
       "encoder": "json",
       "name": "Prior Model MSE",
       "version": 1
      }
     },
     "metadata": {
      "scrapbook": {
       "data": true,
       "display": false,
       "name": "Prior Model MSE"
      }
     },
     "output_type": "display_data"
    },
    {
     "data": {
      "application/scrapbook.scrap.json+json": {
       "data": 1.1603636720888986,
       "encoder": "json",
       "name": "ABC Pre-generator MSE",
       "version": 1
      }
     },
     "metadata": {
      "scrapbook": {
       "data": true,
       "display": false,
       "name": "ABC Pre-generator MSE"
      }
     },
     "output_type": "display_data"
    },
    {
     "data": {
      "application/scrapbook.scrap.json+json": {
       "data": 0.21307558286315825,
       "encoder": "json",
       "name": "Prior Model MSE",
       "version": 1
      }
     },
     "metadata": {
      "scrapbook": {
       "data": true,
       "display": false,
       "name": "Prior Model MSE"
      }
     },
     "output_type": "display_data"
    },
    {
     "data": {
      "application/scrapbook.scrap.json+json": {
       "data": 1.0297879032513069,
       "encoder": "json",
       "name": "ABC Pre-generator MSE",
       "version": 1
      }
     },
     "metadata": {
      "scrapbook": {
       "data": true,
       "display": false,
       "name": "ABC Pre-generator MSE"
      }
     },
     "output_type": "display_data"
    }
   ],
   "source": [
    "y_pred = prior_model.predict(X_test)\n",
    "y_abc = y_pred + np.random.normal(0,variance, y_pred.shape) + bias \n",
    "mse = mean_squared_error(y_pred,Y_test)\n",
    "sb.glue(\"Prior Model MSE\",mse)\n",
    "mse = mean_squared_error(y_abc,Y_test)\n",
    "sb.glue(\"ABC Pre-generator MSE\",mse)\n",
    "mae = mean_absolute_error(y_pred,Y_test)\n",
    "sb.glue(\"Prior Model MSE\",mae)\n",
    "mae = mean_absolute_error(y_abc,Y_test)\n",
    "sb.glue(\"ABC Pre-generator MSE\",mae)"
   ]
  },
  {
   "cell_type": "markdown",
   "id": "25609da2",
   "metadata": {
    "papermill": {
     "duration": 0.01045,
     "end_time": "2022-06-12T05:31:40.696134",
     "exception": false,
     "start_time": "2022-06-12T05:31:40.685684",
     "status": "completed"
    },
    "tags": []
   },
   "source": [
    "# ABC GAN Model"
   ]
  },
  {
   "cell_type": "code",
   "execution_count": 11,
   "id": "dfc3464d",
   "metadata": {
    "execution": {
     "iopub.execute_input": "2022-06-12T05:31:40.720153Z",
     "iopub.status.busy": "2022-06-12T05:31:40.719772Z",
     "iopub.status.idle": "2022-06-12T05:31:40.722406Z",
     "shell.execute_reply": "2022-06-12T05:31:40.722720Z"
    },
    "papermill": {
     "duration": 0.016323,
     "end_time": "2022-06-12T05:31:40.722838",
     "exception": false,
     "start_time": "2022-06-12T05:31:40.706515",
     "status": "completed"
    },
    "tags": []
   },
   "outputs": [],
   "source": [
    "gen = network.Generator(n_features+1).to(device)\n",
    "disc = network.Discriminator(n_features+1).to(device)\n",
    "\n",
    "criterion = torch.nn.BCELoss()\n",
    "gen_opt = torch.optim.Adam(gen.parameters(), lr=0.001, betas=(0.5, 0.999))\n",
    "disc_opt = torch.optim.Adam(disc.parameters(), lr=0.001, betas=(0.5, 0.999))"
   ]
  },
  {
   "cell_type": "code",
   "execution_count": 12,
   "id": "b75fdd85",
   "metadata": {
    "execution": {
     "iopub.execute_input": "2022-06-12T05:31:40.747455Z",
     "iopub.status.busy": "2022-06-12T05:31:40.747053Z",
     "iopub.status.idle": "2022-06-12T05:32:44.972813Z",
     "shell.execute_reply": "2022-06-12T05:32:44.972537Z"
    },
    "papermill": {
     "duration": 64.239461,
     "end_time": "2022-06-12T05:32:44.972927",
     "exception": false,
     "start_time": "2022-06-12T05:31:40.733466",
     "status": "completed"
    },
    "tags": []
   },
   "outputs": [
    {
     "data": {
      "image/png": "[encoded data removed]",
      "text/plain": [
       "<Figure size 432x288 with 1 Axes>"
      ]
     },
     "metadata": {
      "needs_background": "light"
     },
     "output_type": "display_data"
    },
    {
     "data": {
      "image/png": "[encoded data removed]",
      "text/plain": [
       "<Figure size 432x288 with 1 Axes>"
      ]
     },
     "metadata": {
      "needs_background": "light"
     },
     "output_type": "display_data"
    }
   ],
   "source": [
    "#Training the ABC_GAN \n",
    "ABC_train_test2.training_GAN(disc,gen,disc_opt,gen_opt,train_data,batch_size,n_epochs,criterion,prior_model,variance,bias,device)"
   ]
  },
  {
   "cell_type": "code",
   "execution_count": 13,
   "id": "1fa7c368",
   "metadata": {
    "execution": {
     "iopub.execute_input": "2022-06-12T05:32:44.998481Z",
     "iopub.status.busy": "2022-06-12T05:32:44.998109Z",
     "iopub.status.idle": "2022-06-12T05:32:45.316090Z",
     "shell.execute_reply": "2022-06-12T05:32:45.316363Z"
    },
    "papermill": {
     "duration": 0.332163,
     "end_time": "2022-06-12T05:32:45.316523",
     "exception": false,
     "start_time": "2022-06-12T05:32:44.984360",
     "status": "completed"
    },
    "tags": []
   },
   "outputs": [
    {
     "data": {
      "application/scrapbook.scrap.json+json": {
       "data": 0.09879827919172993,
       "encoder": "json",
       "name": "ABC-GAN Model 1 MSE",
       "version": 1
      }
     },
     "metadata": {
      "scrapbook": {
       "data": true,
       "display": false,
       "name": "ABC-GAN Model 1 MSE"
      }
     },
     "output_type": "display_data"
    },
    {
     "data": {
      "application/scrapbook.scrap.json+json": {
       "data": 0.2122184458776724,
       "encoder": "json",
       "name": "ABC-GAN Model 1 MAE",
       "version": 1
      }
     },
     "metadata": {
      "scrapbook": {
       "data": true,
       "display": false,
       "name": "ABC-GAN Model 1 MAE"
      }
     },
     "output_type": "display_data"
    },
    {
     "data": {
      "application/scrapbook.scrap.json+json": {
       "data": 21.646281479522585,
       "encoder": "json",
       "name": "ABC-GAN Model 1 Manhattan Distance",
       "version": 1
      }
     },
     "metadata": {
      "scrapbook": {
       "data": true,
       "display": false,
       "name": "ABC-GAN Model 1 Manhattan Distance"
      }
     },
     "output_type": "display_data"
    },
    {
     "data": {
      "application/scrapbook.scrap.json+json": {
       "data": 3.1736645579985643,
       "encoder": "json",
       "name": "ABC-GAN Model 1 Euclidean distance",
       "version": 1
      }
     },
     "metadata": {
      "scrapbook": {
       "data": true,
       "display": false,
       "name": "ABC-GAN Model 1 Euclidean distance"
      }
     },
     "output_type": "display_data"
    },
    {
     "data": {
      "application/scrapbook.scrap.json+json": {
       "data": [
        [
         0.09975174082517484,
         0.09742332076614572,
         0.10005933351881068,
         0.09740679966208585,
         0.10553130428368775,
         0.1029904830576813,
         0.10493438240644312,
         0.09935750739686296,
         0.09529404738209339,
         0.09589022275764353,
         0.09769055134503853,
         0.09897706516763888,
         0.10364766936739271,
         0.08914216656929769,
         0.09564154584308376,
         0.09680028440857442,
         0.0969127123615656,
         0.0944161080069402,
         0.09820228607008444,
         0.09090948780913506,
         0.09604771609173969,
         0.09604816564356496,
         0.09611956455686352,
         0.09087814951991727,
         0.10229209136101808,
         0.09661231870790761,
         0.10067018828335143,
         0.10304897245075777,
         0.09612689504632847,
         0.10469895525931748,
         0.10716042849762057,
         0.0915381202273703,
         0.1027073294070496,
         0.1052911301893726,
         0.10215581866305072,
         0.1020165308255107,
         0.0960722729429192,
         0.0966957047474762,
         0.09948360814249015,
         0.09834774223014546,
         0.09466557949945902,
         0.09794290967464424,
         0.09404358142926461,
         0.10915268835895274,
         0.09626370651094605,
         0.10574661204930934,
         0.09124360613221616,
         0.0968834217764629,
         0.10561752856078542,
         0.09740186682278332,
         0.09676067985972509,
         0.09632446140190495,
         0.10404105632226412,
         0.09458705330676154,
         0.1007610837615365,
         0.10360474138720363,
         0.09325601542234986,
         0.10049232727671406,
         0.096936807563569,
         0.10739773551674932,
         0.09972279323090094,
         0.09949464819646947,
         0.10465516124004243,
         0.10274474689177626,
         0.09555371932440733,
         0.09407029422168296,
         0.0961216403335271,
         0.10505668402483606,
         0.10931387116465091,
         0.09699062327786383,
         0.09907036920912052,
         0.09690517348165664,
         0.09525806551483405,
         0.09104111334365322,
         0.09599822311631075,
         0.09806452616095056,
         0.09279172634652097,
         0.10820171615700128,
         0.09347941638082434,
         0.09380689388975434,
         0.09942417545197221,
         0.10127374448383618,
         0.09781183647178732,
         0.10062922630662526,
         0.10345394093907805,
         0.10292043298437399,
         0.09633275728398633,
         0.09465421794410972,
         0.10507707062800341,
         0.09798772944799497,
         0.09191201872382915,
         0.09633312089399595,
         0.09863379398665655,
         0.09989283500787917,
         0.09852492888678815,
         0.09312537572646935,
         0.09840332467593046,
         0.10579370359172523,
         0.10630219416193647,
         0.09488590163647646
        ],
        [
         0.20701099954107227,
         0.2114691467334827,
         0.21205173757876836,
         0.21296547667360774,
         0.22060417267037372,
         0.21502981386056133,
         0.2166919048291211,
         0.2129487764528569,
         0.20469354264730333,
         0.20978449427467935,
         0.21273457956518613,
         0.21546395546665378,
         0.22219560835875718,
         0.2033721565761987,
         0.21191844143265604,
         0.21153309879203638,
         0.21736285273058742,
         0.2110393004236268,
         0.2067634779229468,
         0.2030049824320218,
         0.2070526912370149,
         0.21381855116901444,
         0.20402080207770945,
         0.20911534736846007,
         0.2232287832919289,
         0.21358940348613495,
         0.20786158773390687,
         0.22035407694969691,
         0.21132179952281363,
         0.21421374891902886,
         0.21194452379702353,
         0.20092333948203162,
         0.21964493890603384,
         0.22241499373579726,
         0.2172486706472495,
         0.21475277373603746,
         0.207958759338248,
         0.2093529069029233,
         0.21089353474477926,
         0.20987138827787896,
         0.20742235789258107,
         0.21973302533083103,
         0.2111566597047974,
         0.2158297351835405,
         0.20627751300001845,
         0.2221215896527557,
         0.20517552866801328,
         0.20606410339036407,
         0.2219427024178645,
         0.2113224891397883,
         0.21454432979226112,
         0.20799625128069343,
         0.2153998805830876,
         0.20801515212538196,
         0.210719055879642,
         0.21522855594315948,
         0.21005534362413136,
         0.21440165891659027,
         0.2200703275043006,
         0.21685420068017408,
         0.2147096907172133,
         0.2112592598605974,
         0.2197164940994744,
         0.21998676895072647,
         0.20918341375449123,
         0.20490622677493328,
         0.2096009256281689,
         0.2179716822563433,
         0.22352766300387242,
         0.209346107554202,
         0.21632632485353478,
         0.20593731861342401,
         0.20172884282382095,
         0.21258866337730603,
         0.20238782140408076,
         0.21208503268951295,
         0.20361050192778016,
         0.21630796790122986,
         0.2114819639234566,
         0.20656120904958716,
         0.21364958639092305,
         0.2100147993906456,
         0.20792692611176594,
         0.21305276818719565,
         0.2201777664104513,
         0.22216862001839807,
         0.21043577574777836,
         0.20774101805599296,
         0.22114640087181447,
         0.21165476487401655,
         0.20586496226343454,
         0.20768643411643364,
         0.20852073168783797,
         0.21821183024668225,
         0.21106386659484283,
         0.20737316331588754,
         0.2103085081805201,
         0.21681134125181273,
         0.21486847274297594,
         0.20539137114788972
        ],
        [
         21.115121953189373,
         21.569852966815233,
         21.629277233034372,
         21.72247862070799,
         22.50162561237812,
         21.933041013777256,
         22.102574292570353,
         21.720775198191404,
         20.87874135002494,
         21.398018416017294,
         21.698927115648985,
         21.977323457598686,
         22.66395205259323,
         20.743959970772266,
         21.615681026130915,
         21.57637607678771,
         22.171010978519917,
         21.526008643209934,
         21.089874748140574,
         20.706508208066225,
         21.119374506175518,
         21.809492219239473,
         20.810121811926365,
         21.329765431582928,
         22.76933589577675,
         21.786119155585766,
         21.2018819488585,
         22.476115848869085,
         21.55482355132699,
         21.849802389740944,
         21.6183414272964,
         20.494180627167225,
         22.40378376841545,
         22.68632936105132,
         22.15936440601945,
         21.90478292107582,
         21.211793452501297,
         21.353996504098177,
         21.511140543967485,
         21.406881604343653,
         21.157080505043268,
         22.412768583744764,
         21.537979289889336,
         22.014632988721132,
         21.040306326001883,
         22.65640214458108,
         20.927903924137354,
         21.018538545817137,
         22.63815564662218,
         21.554893892258406,
         21.883521638810635,
         21.21561763063073,
         21.970787819474936,
         21.21754551678896,
         21.493343699723482,
         21.95331270620227,
         21.425645049661398,
         21.868969209492207,
         22.44717340543866,
         22.119128469377756,
         21.900388453155756,
         21.548444505780935,
         22.41108239814639,
         22.4386504329741,
         21.336708202958107,
         20.900435131043196,
         21.37929441407323,
         22.23311159014702,
         22.799821626394987,
         21.353302970528603,
         22.06528513506055,
         21.00560649856925,
         20.576341968029737,
         21.684043664485216,
         20.643557783216238,
         21.63267333433032,
         20.768271196633577,
         22.063412725925446,
         21.571160320192575,
         21.06924332305789,
         21.79225781187415,
         21.42150953784585,
         21.208546463400126,
         21.731382355093956,
         22.458132173866034,
         22.661199241876602,
         21.464449126273394,
         21.189583841711283,
         22.556932888925076,
         21.588786017149687,
         20.998226150870323,
         21.184016279876232,
         21.26911463215947,
         22.25760668516159,
         21.52851439267397,
         21.15206265822053,
         21.45146783441305,
         22.1147568076849,
         21.916584219783545,
         20.94991985708475
        ],
        [
         3.1897770398834826,
         3.1523290942011215,
         3.194691224346836,
         3.1520617959571724,
         3.280882966052911,
         3.2411462897998744,
         3.2715908982415876,
         3.183467567681509,
         3.11769030421136,
         3.127427492569514,
         3.156649527140118,
         3.1773669361751664,
         3.251470786501711,
         3.015377420832816,
         3.1233696028479474,
         3.1422331246542785,
         3.144057356486947,
         3.1032955090851244,
         3.1649065040137616,
         3.0451219608632716,
         3.1299947350366977,
         3.130002060006291,
         3.1311652119937836,
         3.0445970588949143,
         3.2301382816876187,
         3.1391808658002773,
         3.2044280620575405,
         3.242066499931377,
         3.131284607748951,
         3.267918823418107,
         3.306110056661347,
         3.0556322198837624,
         3.2366877513160053,
         3.2771474302075583,
         3.227985982564233,
         3.2257845780836156,
         3.130394837744555,
         3.140535286259744,
         3.1854870947052967,
         3.1672495492895467,
         3.1073926544524135,
         3.160724092168393,
         3.0971673034863625,
         3.33670109728354,
         3.133512097330485,
         3.284228132914879,
         3.0507126750131763,
         3.1435821957122765,
         3.282223013934323,
         3.1519819821699326,
         3.141590257447963,
         3.13450076774505,
         3.257635299549497,
         3.1061035780040687,
         3.2058743805203473,
         3.2507973824117014,
         3.084171456498436,
         3.2015960679362463,
         3.144448182349971,
         3.3097687264684263,
         3.1893141754226564,
         3.1856638422846633,
         3.267235290958447,
         3.2372772792828823,
         3.121935196491039,
         3.097607142717046,
         3.13119902178379,
         3.2734968719296615,
         3.339163796340993,
         3.1453209016477333,
         3.178864209010868,
         3.143935065348675,
         3.117101647767212,
         3.0473256407959797,
         3.129188194702213,
         3.162685831444052,
         3.0764843713799586,
         3.322134110479908,
         3.0878634151859887,
         3.093267394965224,
         3.1845354286145358,
         3.214019591936442,
         3.1586084467882856,
         3.203776066343554,
         3.2484306943177903,
         3.2400438522350505,
         3.134635743266928,
         3.1072061776295428,
         3.2738144730659897,
         3.161447200839433,
         3.061866409533664,
         3.134641659135472,
         3.1718522958421262,
         3.192032138121995,
         3.1701013779455685,
         3.0820104354300737,
         3.168144428043789,
         3.284959324916516,
         3.2928443334779005,
         3.1110065841975647
        ]
       ],
       "encoder": "json",
       "name": "ABC_GAN_1 Metrics",
       "version": 1
      }
     },
     "metadata": {
      "scrapbook": {
       "data": true,
       "display": false,
       "name": "ABC_GAN_1 Metrics"
      }
     },
     "output_type": "display_data"
    },
    {
     "name": "stdout",
     "output_type": "stream",
     "text": [
      "MSE\n",
      "0.09879827919172993\n"
     ]
    }
   ],
   "source": [
    "ABC_GAN1_metrics=ABC_train_test2.test_generator(gen,test_data,prior_model,variance,bias,\"1\",device)\n",
    "sb.glue(\"ABC_GAN_1 Metrics\",ABC_GAN1_metrics)\n",
    "\n",
    "print(\"MSE\")\n",
    "print(mean(ABC_GAN1_metrics[0]))"
   ]
  },
  {
   "cell_type": "code",
   "execution_count": 14,
   "id": "eb22ce5c",
   "metadata": {
    "execution": {
     "iopub.execute_input": "2022-06-12T05:32:45.345922Z",
     "iopub.status.busy": "2022-06-12T05:32:45.345550Z",
     "iopub.status.idle": "2022-06-12T05:32:45.674374Z",
     "shell.execute_reply": "2022-06-12T05:32:45.674683Z"
    },
    "papermill": {
     "duration": 0.344698,
     "end_time": "2022-06-12T05:32:45.674803",
     "exception": false,
     "start_time": "2022-06-12T05:32:45.330105",
     "status": "completed"
    },
    "tags": []
   },
   "outputs": [
    {
     "data": {
      "image/png": "[encoded data removed]",
      "text/plain": [
       "<Figure size 432x288 with 1 Axes>"
      ]
     },
     "metadata": {
      "needs_background": "light"
     },
     "output_type": "display_data"
    },
    {
     "data": {
      "image/png": "[encoded data removed]",
      "text/plain": [
       "<Figure size 432x288 with 1 Axes>"
      ]
     },
     "metadata": {
      "needs_background": "light"
     },
     "output_type": "display_data"
    },
    {
     "data": {
      "image/png": "[encoded data removed]",
      "text/plain": [
       "<Figure size 432x288 with 1 Axes>"
      ]
     },
     "metadata": {
      "needs_background": "light"
     },
     "output_type": "display_data"
    },
    {
     "data": {
      "image/png": "[encoded data removed]",
      "text/plain": [
       "<Figure size 432x288 with 1 Axes>"
      ]
     },
     "metadata": {
      "needs_background": "light"
     },
     "output_type": "display_data"
    }
   ],
   "source": [
    "sanityChecks.discProbVsError(train_data,disc,device)\n",
    "sanityChecks.discProbVsError(test_data,disc,device)"
   ]
  },
  {
   "cell_type": "markdown",
   "id": "130f3a4d",
   "metadata": {
    "id": "130f3a4d",
    "papermill": {
     "duration": 0.014946,
     "end_time": "2022-06-12T05:32:45.705201",
     "exception": false,
     "start_time": "2022-06-12T05:32:45.690255",
     "status": "completed"
    },
    "tags": []
   },
   "source": [
    "# ABC - GAN Model with skip connection"
   ]
  },
  {
   "cell_type": "code",
   "execution_count": 15,
   "id": "4e43dad1",
   "metadata": {
    "execution": {
     "iopub.execute_input": "2022-06-12T05:32:45.740740Z",
     "iopub.status.busy": "2022-06-12T05:32:45.740335Z",
     "iopub.status.idle": "2022-06-12T05:32:45.743071Z",
     "shell.execute_reply": "2022-06-12T05:32:45.743380Z"
    },
    "id": "4e43dad1",
    "papermill": {
     "duration": 0.023183,
     "end_time": "2022-06-12T05:32:45.743515",
     "exception": false,
     "start_time": "2022-06-12T05:32:45.720332",
     "status": "completed"
    },
    "tags": []
   },
   "outputs": [],
   "source": [
    "#Generator\n",
    "gen3 = network.GeneratorWithSkipConnection(n_features+1).to(device)\n",
    "constraints=network.weightConstraint()\n",
    "#Discriminator \n",
    "disc3 = network.Discriminator(n_features+1).to(device)\n",
    "\n",
    "criterion = torch.nn.BCELoss()\n",
    "gen_opt = torch.optim.Adam(gen3.parameters(), lr=0.001, betas=(0.5, 0.999))\n",
    "disc_opt = torch.optim.Adam(disc3.parameters(), lr=0.001, betas=(0.5, 0.999))\n"
   ]
  },
  {
   "cell_type": "code",
   "execution_count": 16,
   "id": "26acbc37",
   "metadata": {
    "execution": {
     "iopub.execute_input": "2022-06-12T05:32:45.796518Z",
     "iopub.status.busy": "2022-06-12T05:32:45.795418Z",
     "iopub.status.idle": "2022-06-12T05:35:48.057723Z",
     "shell.execute_reply": "2022-06-12T05:35:48.058048Z"
    },
    "id": "26acbc37",
    "papermill": {
     "duration": 182.29722,
     "end_time": "2022-06-12T05:35:48.058229",
     "exception": false,
     "start_time": "2022-06-12T05:32:45.761009",
     "status": "completed"
    },
    "tags": []
   },
   "outputs": [
    {
     "data": {
      "image/png": "[encoded data removed]",
      "text/plain": [
       "<Figure size 432x288 with 1 Axes>"
      ]
     },
     "metadata": {
      "needs_background": "light"
     },
     "output_type": "display_data"
    },
    {
     "data": {
      "image/png": "[encoded data removed]",
      "text/plain": [
       "<Figure size 432x288 with 1 Axes>"
      ]
     },
     "metadata": {
      "needs_background": "light"
     },
     "output_type": "display_data"
    }
   ],
   "source": [
    "ABC_train_test2.training_GAN_skip_connection(disc3,gen3,disc_opt,gen_opt,train_data,batch_size,n_epochs,criterion,prior_model,variance,bias,device)"
   ]
  },
  {
   "cell_type": "code",
   "execution_count": 17,
   "id": "c5e0717b",
   "metadata": {
    "execution": {
     "iopub.execute_input": "2022-06-12T05:35:48.095239Z",
     "iopub.status.busy": "2022-06-12T05:35:48.094845Z",
     "iopub.status.idle": "2022-06-12T05:35:48.927630Z",
     "shell.execute_reply": "2022-06-12T05:35:48.927953Z"
    },
    "id": "c5e0717b",
    "papermill": {
     "duration": 0.852883,
     "end_time": "2022-06-12T05:35:48.928074",
     "exception": false,
     "start_time": "2022-06-12T05:35:48.075191",
     "status": "completed"
    },
    "tags": []
   },
   "outputs": [
    {
     "data": {
      "application/scrapbook.scrap.json+json": {
       "data": 0.1114996940602828,
       "encoder": "json",
       "name": "ABC-GAN Model 3 MSE",
       "version": 1
      }
     },
     "metadata": {
      "scrapbook": {
       "data": true,
       "display": false,
       "name": "ABC-GAN Model 3 MSE"
      }
     },
     "output_type": "display_data"
    },
    {
     "data": {
      "application/scrapbook.scrap.json+json": {
       "data": 0.21897069899657484,
       "encoder": "json",
       "name": "ABC-GAN Model 3 MAE",
       "version": 1
      }
     },
     "metadata": {
      "scrapbook": {
       "data": true,
       "display": false,
       "name": "ABC-GAN Model 3 MAE"
      }
     },
     "output_type": "display_data"
    },
    {
     "data": {
      "application/scrapbook.scrap.json+json": {
       "data": 22.335011297650635,
       "encoder": "json",
       "name": "ABC-GAN Model 3 Manhattan Distance",
       "version": 1
      }
     },
     "metadata": {
      "scrapbook": {
       "data": true,
       "display": false,
       "name": "ABC-GAN Model 3 Manhattan Distance"
      }
     },
     "output_type": "display_data"
    },
    {
     "data": {
      "application/scrapbook.scrap.json+json": {
       "data": 3.371355645819136,
       "encoder": "json",
       "name": "ABC-GAN Model 3 Euclidean distance",
       "version": 1
      }
     },
     "metadata": {
      "scrapbook": {
       "data": true,
       "display": false,
       "name": "ABC-GAN Model 3 Euclidean distance"
      }
     },
     "output_type": "display_data"
    },
    {
     "data": {
      "application/scrapbook.scrap.json+json": {
       "data": [
        [
         0.11835784979361859,
         0.106168869491099,
         0.10353044256602756,
         0.10591101875411833,
         0.11290732505353658,
         0.11853973871603271,
         0.11301533008570501,
         0.1130472185633036,
         0.10959225743953287,
         0.10818765075256723,
         0.11003920901763585,
         0.12238972093108147,
         0.1109566273602718,
         0.09571958405503128,
         0.10453745243383442,
         0.11670245697620944,
         0.11165332211667142,
         0.10935614011164449,
         0.10925268648216466,
         0.11242292543207129,
         0.11162676750685636,
         0.09474872556942558,
         0.10492372818126698,
         0.11376743403191832,
         0.11731905820096912,
         0.10934570701505404,
         0.1064637573412475,
         0.10833426727080556,
         0.10471850024037586,
         0.11227890420691532,
         0.11694271853496267,
         0.10838516353171929,
         0.10917444349249476,
         0.10595771708408219,
         0.10793401297619852,
         0.11200807968943084,
         0.10839140287043997,
         0.1068023689559444,
         0.10878146975806072,
         0.11529517737413061,
         0.09952796710290088,
         0.10683801295633476,
         0.11766018643804284,
         0.11062505720924821,
         0.10568468423315114,
         0.1068218845579386,
         0.11360944665804877,
         0.10776582466009671,
         0.11461028613810159,
         0.1156635963629946,
         0.12154473673013103,
         0.11654889372056076,
         0.10578220749796283,
         0.11657936422079128,
         0.11112191928164925,
         0.10960647213659522,
         0.1127379259257063,
         0.11190850207176074,
         0.11149840623593085,
         0.11057438593454762,
         0.1054441176758315,
         0.11222568560655026,
         0.10802513489051283,
         0.12207508155159275,
         0.11990030385071866,
         0.12503035190062003,
         0.11147679134150683,
         0.11337529264772453,
         0.11149043563129957,
         0.12161879894808855,
         0.11436242180724072,
         0.10543453134688828,
         0.11232093499195653,
         0.11694819987953607,
         0.11950898937752481,
         0.11637990052439605,
         0.10931739673402725,
         0.10973511211250118,
         0.12066690471290223,
         0.10885730340793515,
         0.11499386522083484,
         0.11169917710334994,
         0.11532061497619886,
         0.10225298850865673,
         0.10893365483273491,
         0.11676645062808787,
         0.10603128397803865,
         0.11349041795924138,
         0.10940504883376788,
         0.11315788962611364,
         0.10681553030034399,
         0.10903157161641762,
         0.1151244393537971,
         0.10825227515195841,
         0.11778059051824674,
         0.10726314258999287,
         0.11239149080008859,
         0.11669505062289943,
         0.12056306976052888,
         0.11761017467067847
        ],
        [
         0.22288227870183833,
         0.21969759055212432,
         0.20829930346386105,
         0.2087667473756215,
         0.22124917542233186,
         0.2240824833804486,
         0.21514505031062106,
         0.21379283479615754,
         0.2117131986819646,
         0.2070666402578354,
         0.22060363787208118,
         0.2267932469646136,
         0.22167864120474048,
         0.20474587088706447,
         0.2195670590096829,
         0.2232258980180703,
         0.22005985618806354,
         0.21660837706397562,
         0.21454520669637941,
         0.22350534475317188,
         0.22120464432473277,
         0.20724882945126177,
         0.21711488009667865,
         0.21997657739648632,
         0.2254534363746643,
         0.22120261659809187,
         0.21460123743642778,
         0.2188744571279077,
         0.21734647219087563,
         0.22385616775821238,
         0.22195674040738275,
         0.21520745841895833,
         0.22177701165863112,
         0.20940324302543611,
         0.2081033648813472,
         0.2180661509434382,
         0.22438673382880642,
         0.2093555559130276,
         0.21274449150351918,
         0.2285831684940586,
         0.21015218484635448,
         0.21873317658901215,
         0.21803959882726856,
         0.222873354659361,
         0.21147760252157846,
         0.210428521621461,
         0.22402705427478342,
         0.2118069929819481,
         0.22731378093800125,
         0.22297178296481862,
         0.22833114278082753,
         0.2243974655866623,
         0.21693666925763383,
         0.22979404032230377,
         0.2124786227941513,
         0.22033126739894643,
         0.22569880663764244,
         0.212996025332341,
         0.22389351094470306,
         0.21815805107939476,
         0.21965497147803212,
         0.21819297531071832,
         0.21705965347149792,
         0.2300815576431798,
         0.2325840189176447,
         0.2275326582146626,
         0.21627411596915302,
         0.22236299602424398,
         0.21860865196760962,
         0.22186991104892656,
         0.22495995461940765,
         0.21497928541080624,
         0.2174907718219009,
         0.21881193010246053,
         0.2277249156260023,
         0.22014201008806042,
         0.2196413620795105,
         0.21687347807136237,
         0.22680778951183253,
         0.21868573921714343,
         0.21713029900017908,
         0.2232068023260902,
         0.2159720796580408,
         0.2133843483878117,
         0.2123997784128376,
         0.22061612705389658,
         0.2086057820740868,
         0.2179032797906913,
         0.21502743252352172,
         0.2222448830291921,
         0.21812649392614178,
         0.2160966627153696,
         0.22575385634805642,
         0.22212929848362417,
         0.2231669066583409,
         0.21533614922972286,
         0.21979532025608362,
         0.22019262582648033,
         0.2222188600138122,
         0.22609283555956447
        ],
        [
         22.73399242758751,
         22.40915423631668,
         21.246528953313828,
         21.294208232313395,
         22.56741589307785,
         22.856413304805756,
         21.94479513168335,
         21.80686914920807,
         21.59474626556039,
         21.12079730629921,
         22.50157106295228,
         23.132911190390587,
         22.61122140288353,
         20.884078830480576,
         22.395840018987656,
         22.76904159784317,
         22.44610533118248,
         22.094054460525513,
         21.8836110830307,
         22.797545164823532,
         22.56287372112274,
         21.139380604028702,
         22.14571776986122,
         22.437610894441605,
         22.99625051021576,
         22.56266689300537,
         21.889326218515635,
         22.325194627046585,
         22.169340163469315,
         22.83332911133766,
         22.63958752155304,
         21.95116075873375,
         22.621255189180374,
         21.359130788594484,
         21.226543217897415,
         22.242747396230698,
         22.887446850538254,
         21.354266703128815,
         21.699938133358955,
         23.315483186393976,
         21.435522854328156,
         22.31078401207924,
         22.240039080381393,
         22.733082175254822,
         21.570715457201004,
         21.463709205389023,
         22.85075953602791,
         21.604313284158707,
         23.186005655676126,
         22.7431218624115,
         23.28977656364441,
         22.888541489839554,
         22.12754026427865,
         23.438992112874985,
         21.672819525003433,
         22.473789274692535,
         23.021278277039528,
         21.725594583898783,
         22.83713811635971,
         22.252121210098267,
         22.404807090759277,
         22.255683481693268,
         22.14008465409279,
         23.46831887960434,
         23.723569929599762,
         23.208331137895584,
         22.059959828853607,
         22.681025594472885,
         22.298082500696182,
         22.63073092699051,
         22.94591537117958,
         21.927887111902237,
         22.184058725833893,
         22.318816870450974,
         23.227941393852234,
         22.454485028982162,
         22.40341893211007,
         22.12109476327896,
         23.13439453020692,
         22.30594540014863,
         22.147290498018265,
         22.7670938372612,
         22.029152125120163,
         21.765203535556793,
         21.664777398109436,
         22.502844959497452,
         21.277789771556854,
         22.226134538650513,
         21.932798117399216,
         22.668978068977594,
         22.24890238046646,
         22.041859596967697,
         23.026893347501755,
         22.657188445329666,
         22.763024479150772,
         21.964287221431732,
         22.41912266612053,
         22.459647834300995,
         22.666323721408844,
         23.061469227075577
        ],
        [
         3.4745504283214963,
         3.290778735814989,
         3.249631539380243,
         3.2867801741096203,
         3.393603859536456,
         3.477219197726156,
         3.395226600499871,
         3.395705566367167,
         3.3434129656433935,
         3.321918177312899,
         3.3502237716007652,
         3.5332352787452903,
         3.364160517981822,
         3.1246435914537822,
         3.265397395149802,
         3.450166751270634,
         3.3747057436020227,
         3.339809319615079,
         3.3382291744547423,
         3.3863163458352896,
         3.3743044150905153,
         3.108756987620841,
         3.2714248080139687,
         3.4065052871316177,
         3.45926927782427,
         3.3396499989573027,
         3.2953456948865383,
         3.3241683563896345,
         3.2682238332951337,
         3.3841466027796967,
         3.4537164461730483,
         3.324949124458202,
         3.337033598307704,
         3.287504698487347,
         3.318021899200222,
         3.380062740293728,
         3.325044825680531,
         3.3005820143584264,
         3.33102235287039,
         3.429301400017403,
         3.1861972074082123,
         3.3011327331002827,
         3.464294880156764,
         3.3591302200634194,
         3.2832663297060463,
         3.3008835521583815,
         3.4041391803392784,
         3.3154357353641863,
         3.4191006399470547,
         3.434776095908647,
         3.5210173453809284,
         3.447896048244088,
         3.2847808396896445,
         3.4483467271318164,
         3.366665377896684,
         3.3436297878103534,
         3.391057127861759,
         3.3785599315861767,
         3.3723637757609937,
         3.3583608152376745,
         3.27952740542518,
         3.3833444890918405,
         3.3194222025575937,
         3.5286907371236795,
         3.4971175263026693,
         3.571147699810698,
         3.3720368795186233,
         3.4006293314720293,
         3.372243234761181,
         3.5220899325123756,
         3.4154014440968066,
         3.2793783248327117,
         3.384779958753533,
         3.453797386604008,
         3.4914061517542656,
         3.4453954567637655,
         3.3392176429323652,
         3.3455913431671713,
         3.508279390344507,
         3.332183210390656,
         3.42481740426043,
         3.375398652684108,
         3.429679682940126,
         3.2295208356477567,
         3.3333515855575393,
         3.4511125690224826,
         3.2886457647122684,
         3.4023554534825746,
         3.3405560885942807,
         3.3973673251303858,
         3.3007853748214355,
         3.3348493676438515,
         3.426761271826111,
         3.322910180173361,
         3.466066968894451,
         3.3076941430820463,
         3.38584288790975,
         3.450057269602309,
         3.5067696125599617,
         3.4635585481422426
        ]
       ],
       "encoder": "json",
       "name": "ABC_GAN_3 Metrics",
       "version": 1
      }
     },
     "metadata": {
      "scrapbook": {
       "data": true,
       "display": false,
       "name": "ABC_GAN_3 Metrics"
      }
     },
     "output_type": "display_data"
    },
    {
     "name": "stdout",
     "output_type": "stream",
     "text": [
      "MSE\n",
      "0.1114996940602828\n"
     ]
    }
   ],
   "source": [
    "ABC_GAN3_metrics=ABC_train_test2.test_generator(gen3,test_data,prior_model,variance,bias,\"3\",device)\n",
    "sb.glue(\"ABC_GAN_3 Metrics\",ABC_GAN3_metrics)\n",
    "\n",
    "print(\"MSE\")\n",
    "print(mean(ABC_GAN3_metrics[0]))"
   ]
  },
  {
   "cell_type": "code",
   "execution_count": 18,
   "id": "c8e46b48",
   "metadata": {
    "execution": {
     "iopub.execute_input": "2022-06-12T05:35:48.965938Z",
     "iopub.status.busy": "2022-06-12T05:35:48.965564Z",
     "iopub.status.idle": "2022-06-12T05:35:49.319327Z",
     "shell.execute_reply": "2022-06-12T05:35:49.319580Z"
    },
    "id": "c8e46b48",
    "papermill": {
     "duration": 0.37373,
     "end_time": "2022-06-12T05:35:49.319701",
     "exception": false,
     "start_time": "2022-06-12T05:35:48.945971",
     "status": "completed"
    },
    "tags": []
   },
   "outputs": [
    {
     "data": {
      "image/png": "[encoded data removed]",
      "text/plain": [
       "<Figure size 432x288 with 1 Axes>"
      ]
     },
     "metadata": {
      "needs_background": "light"
     },
     "output_type": "display_data"
    },
    {
     "data": {
      "image/png": "[encoded data removed]",
      "text/plain": [
       "<Figure size 432x288 with 1 Axes>"
      ]
     },
     "metadata": {
      "needs_background": "light"
     },
     "output_type": "display_data"
    },
    {
     "data": {
      "image/png": "[encoded data removed]",
      "text/plain": [
       "<Figure size 432x288 with 1 Axes>"
      ]
     },
     "metadata": {
      "needs_background": "light"
     },
     "output_type": "display_data"
    },
    {
     "data": {
      "image/png": "[encoded data removed]",
      "text/plain": [
       "<Figure size 432x288 with 1 Axes>"
      ]
     },
     "metadata": {
      "needs_background": "light"
     },
     "output_type": "display_data"
    }
   ],
   "source": [
    "sanityChecks.discProbVsError(train_data,disc3,device)\n",
    "sanityChecks.discProbVsError(test_data,disc3,device)"
   ]
  },
  {
   "cell_type": "markdown",
   "id": "a5bd74c3",
   "metadata": {
    "id": "a5bd74c3",
    "papermill": {
     "duration": 0.019904,
     "end_time": "2022-06-12T05:35:49.359943",
     "exception": false,
     "start_time": "2022-06-12T05:35:49.340039",
     "status": "completed"
    },
    "tags": []
   },
   "source": [
    "## Skip Connection Model Analysis - ABC-GAN "
   ]
  },
  {
   "cell_type": "markdown",
   "id": "5744a8bf",
   "metadata": {
    "id": "5744a8bf",
    "papermill": {
     "duration": 0.019605,
     "end_time": "2022-06-12T05:35:49.399381",
     "exception": false,
     "start_time": "2022-06-12T05:35:49.379776",
     "status": "completed"
    },
    "tags": []
   },
   "source": [
    "### Weight Analysis \n",
    "\n",
    "Study the weights of the skip connection layer\n",
    "\n",
    "Equation of the skip connection is \n",
    "\n",
    "$output = y_{gan} * w + y_{abc} * (1-w)$"
   ]
  },
  {
   "cell_type": "code",
   "execution_count": 19,
   "id": "52c31dea",
   "metadata": {
    "execution": {
     "iopub.execute_input": "2022-06-12T05:35:49.442302Z",
     "iopub.status.busy": "2022-06-12T05:35:49.441910Z",
     "iopub.status.idle": "2022-06-12T05:35:49.446059Z",
     "shell.execute_reply": "2022-06-12T05:35:49.446325Z"
    },
    "id": "52c31dea",
    "papermill": {
     "duration": 0.027496,
     "end_time": "2022-06-12T05:35:49.446458",
     "exception": false,
     "start_time": "2022-06-12T05:35:49.418962",
     "status": "completed"
    },
    "tags": []
   },
   "outputs": [
    {
     "name": "stdout",
     "output_type": "stream",
     "text": [
      "Weight of the node at skip connection\n",
      "Parameter containing:\n",
      "tensor([[0.1674]], requires_grad=True)\n"
     ]
    },
    {
     "data": {
      "application/scrapbook.scrap.json+json": {
       "data": 0.16744224727153778,
       "encoder": "json",
       "name": "Skip Connection Weight",
       "version": 1
      }
     },
     "metadata": {
      "scrapbook": {
       "data": true,
       "display": false,
       "name": "Skip Connection Weight"
      }
     },
     "output_type": "display_data"
    }
   ],
   "source": [
    "print(\"Weight of the node at skip connection\")\n",
    "for name,param in gen3.named_parameters():\n",
    "    if(name == \"skipNode.weight\"):\n",
    "        print(param)\n",
    "        sb.glue(\"Skip Connection Weight\",param.item())"
   ]
  }
 ],
 "metadata": {
  "colab": {
   "collapsed_sections": [],
   "name": "ABC_GAN_Model-Catboost_Pre-gen.ipynb",
   "provenance": []
  },
  "interpreter": {
   "hash": "31f2aee4e71d21fbe5cf8b01ff0e069b9275f58929596ceb00d14d90e3e16cd6"
  },
  "kernelspec": {
   "display_name": "Python 3 (ipykernel)",
   "language": "python",
   "name": "python3"
  },
  "language_info": {
   "codemirror_mode": {
    "name": "ipython",
    "version": 3
   },
   "file_extension": ".py",
   "mimetype": "text/x-python",
   "name": "python",
   "nbconvert_exporter": "python",
   "pygments_lexer": "ipython3",
   "version": "3.8.11"
  },
  "papermill": {
   "default_parameters": {},
   "duration": 253.528786,
   "end_time": "2022-06-12T05:35:49.876891",
   "environment_variables": {},
   "exception": null,
   "input_path": "ABC_GAN-Catboost.ipynb",
   "output_path": "./ABC_GAN_Catboost/ABC-GAN_output_6_1.ipynb",
   "parameters": {
    "bias": 1,
    "variance": 0.1
   },
   "start_time": "2022-06-12T05:31:36.348105",
   "version": "2.3.3"
  }
 },
 "nbformat": 4,
 "nbformat_minor": 5
}