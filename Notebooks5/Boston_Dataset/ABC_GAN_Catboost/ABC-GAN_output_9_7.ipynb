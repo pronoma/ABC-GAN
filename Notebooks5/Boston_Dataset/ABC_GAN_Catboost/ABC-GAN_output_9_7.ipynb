{
 "cells": [
  {
   "cell_type": "markdown",
   "id": "622780e6",
   "metadata": {
    "id": "622780e6",
    "papermill": {
     "duration": 0.023704,
     "end_time": "2022-06-12T08:11:07.977982",
     "exception": false,
     "start_time": "2022-06-12T08:11:07.954278",
     "status": "completed"
    },
    "tags": []
   },
   "source": [
    "## Import Libraries "
   ]
  },
  {
   "cell_type": "code",
   "execution_count": 1,
   "id": "a62397e3",
   "metadata": {
    "execution": {
     "iopub.execute_input": "2022-06-12T08:11:08.013311Z",
     "iopub.status.busy": "2022-06-12T08:11:08.012810Z",
     "iopub.status.idle": "2022-06-12T08:11:08.015208Z",
     "shell.execute_reply": "2022-06-12T08:11:08.015619Z"
    },
    "id": "a62397e3",
    "papermill": {
     "duration": 0.022541,
     "end_time": "2022-06-12T08:11:08.015830",
     "exception": false,
     "start_time": "2022-06-12T08:11:07.993289",
     "status": "completed"
    },
    "tags": []
   },
   "outputs": [],
   "source": [
    "import warnings\n",
    "import sys\n",
    "sys.path.insert(0, '../../src')\n",
    "warnings.filterwarnings('ignore')"
   ]
  },
  {
   "cell_type": "code",
   "execution_count": 2,
   "id": "d6a4e155",
   "metadata": {
    "execution": {
     "iopub.execute_input": "2022-06-12T08:11:08.036564Z",
     "iopub.status.busy": "2022-06-12T08:11:08.036143Z",
     "iopub.status.idle": "2022-06-12T08:11:09.816001Z",
     "shell.execute_reply": "2022-06-12T08:11:09.816263Z"
    },
    "id": "d6a4e155",
    "papermill": {
     "duration": 1.791017,
     "end_time": "2022-06-12T08:11:09.816386",
     "exception": false,
     "start_time": "2022-06-12T08:11:08.025369",
     "status": "completed"
    },
    "tags": []
   },
   "outputs": [],
   "source": [
    "import ABC_train_test2\n",
    "import bostonDataset\n",
    "import network\n",
    "import dataset\n",
    "import sanityChecks\n",
    "import torch \n",
    "import scrapbook as sb\n",
    "from statistics import mean \n",
    "import catboost as ctb \n",
    "from sklearn.model_selection import train_test_split\n",
    "from sklearn.metrics import mean_squared_error,mean_absolute_error\n",
    "import numpy as np"
   ]
  },
  {
   "cell_type": "markdown",
   "id": "2fa5b0f7",
   "metadata": {
    "id": "2fa5b0f7",
    "papermill": {
     "duration": 0.007199,
     "end_time": "2022-06-12T08:11:09.830750",
     "exception": false,
     "start_time": "2022-06-12T08:11:09.823551",
     "status": "completed"
    },
    "tags": []
   },
   "source": [
    "## Parameters "
   ]
  },
  {
   "cell_type": "code",
   "execution_count": 3,
   "id": "783186fb",
   "metadata": {
    "execution": {
     "iopub.execute_input": "2022-06-12T08:11:09.847139Z",
     "iopub.status.busy": "2022-06-12T08:11:09.846747Z",
     "iopub.status.idle": "2022-06-12T08:11:09.847983Z",
     "shell.execute_reply": "2022-06-12T08:11:09.848230Z"
    },
    "id": "783186fb",
    "papermill": {
     "duration": 0.01074,
     "end_time": "2022-06-12T08:11:09.848342",
     "exception": false,
     "start_time": "2022-06-12T08:11:09.837602",
     "status": "completed"
    },
    "tags": [
     "parameters"
    ]
   },
   "outputs": [],
   "source": [
    "variance = 1\n",
    "bias = 1 "
   ]
  },
  {
   "cell_type": "code",
   "execution_count": 4,
   "id": "bc9d6027",
   "metadata": {
    "execution": {
     "iopub.execute_input": "2022-06-12T08:11:09.864196Z",
     "iopub.status.busy": "2022-06-12T08:11:09.863821Z",
     "iopub.status.idle": "2022-06-12T08:11:09.865155Z",
     "shell.execute_reply": "2022-06-12T08:11:09.865409Z"
    },
    "papermill": {
     "duration": 0.010211,
     "end_time": "2022-06-12T08:11:09.865518",
     "exception": false,
     "start_time": "2022-06-12T08:11:09.855307",
     "status": "completed"
    },
    "tags": [
     "injected-parameters"
    ]
   },
   "outputs": [],
   "source": [
    "# Parameters\n",
    "variance = 0.1\n",
    "bias = 0.01\n"
   ]
  },
  {
   "cell_type": "markdown",
   "id": "391cdbfd",
   "metadata": {
    "id": "391cdbfd",
    "papermill": {
     "duration": 0.006772,
     "end_time": "2022-06-12T08:11:09.879171",
     "exception": false,
     "start_time": "2022-06-12T08:11:09.872399",
     "status": "completed"
    },
    "tags": []
   },
   "source": [
    "## Dataset \n"
   ]
  },
  {
   "cell_type": "code",
   "execution_count": 5,
   "id": "5b51f161",
   "metadata": {
    "execution": {
     "iopub.execute_input": "2022-06-12T08:11:09.894720Z",
     "iopub.status.busy": "2022-06-12T08:11:09.894357Z",
     "iopub.status.idle": "2022-06-12T08:11:09.895610Z",
     "shell.execute_reply": "2022-06-12T08:11:09.895841Z"
    },
    "id": "5b51f161",
    "papermill": {
     "duration": 0.00991,
     "end_time": "2022-06-12T08:11:09.895942",
     "exception": false,
     "start_time": "2022-06-12T08:11:09.886032",
     "status": "completed"
    },
    "tags": []
   },
   "outputs": [],
   "source": [
    "#Parameters \n",
    "n_features = 13\n",
    "n_samples= 506\n",
    "n_target = 1 "
   ]
  },
  {
   "cell_type": "code",
   "execution_count": 6,
   "id": "5d6eced4",
   "metadata": {
    "execution": {
     "iopub.execute_input": "2022-06-12T08:11:09.911626Z",
     "iopub.status.busy": "2022-06-12T08:11:09.911268Z",
     "iopub.status.idle": "2022-06-12T08:11:09.922054Z",
     "shell.execute_reply": "2022-06-12T08:11:09.922303Z"
    },
    "id": "5d6eced4",
    "papermill": {
     "duration": 0.019554,
     "end_time": "2022-06-12T08:11:09.922415",
     "exception": false,
     "start_time": "2022-06-12T08:11:09.902861",
     "status": "completed"
    },
    "tags": []
   },
   "outputs": [
    {
     "name": "stdout",
     "output_type": "stream",
     "text": [
      "         X1        X2        X3        X4        X5        X6        X7  \\\n",
      "0 -0.419782  0.284830 -1.287909 -0.272599 -0.144217  0.413672 -0.120013   \n",
      "1 -0.417339 -0.487722 -0.593381 -0.272599 -0.740262  0.194274  0.367166   \n",
      "2 -0.417342 -0.487722 -0.593381 -0.272599 -0.740262  1.282714 -0.265812   \n",
      "3 -0.416750 -0.487722 -1.306878 -0.272599 -0.835284  1.016303 -0.809889   \n",
      "4 -0.412482 -0.487722 -1.306878 -0.272599 -0.835284  1.228577 -0.511180   \n",
      "\n",
      "         X8        X9       X10       X11       X12       X13         Y  \n",
      "0  0.140214 -0.982843 -0.666608 -1.459000  0.441052 -1.075562  0.159686  \n",
      "1  0.557160 -0.867883 -0.987329 -0.303094  0.441052 -0.492439 -0.101524  \n",
      "2  0.557160 -0.867883 -0.987329 -0.303094  0.396427 -1.208727  1.324247  \n",
      "3  1.077737 -0.752922 -1.106115  0.113032  0.416163 -1.361517  1.182758  \n",
      "4  1.077737 -0.752922 -1.106115  0.113032  0.441052 -1.026501  1.487503  \n"
     ]
    }
   ],
   "source": [
    "X,Y = bostonDataset.boston_data()"
   ]
  },
  {
   "cell_type": "code",
   "execution_count": 7,
   "id": "fe007438",
   "metadata": {
    "execution": {
     "iopub.execute_input": "2022-06-12T08:11:09.940378Z",
     "iopub.status.busy": "2022-06-12T08:11:09.939872Z",
     "iopub.status.idle": "2022-06-12T08:11:09.941523Z",
     "shell.execute_reply": "2022-06-12T08:11:09.941775Z"
    },
    "id": "fe007438",
    "papermill": {
     "duration": 0.012153,
     "end_time": "2022-06-12T08:11:09.941900",
     "exception": false,
     "start_time": "2022-06-12T08:11:09.929747",
     "status": "completed"
    },
    "tags": []
   },
   "outputs": [],
   "source": [
    "#Train test split for dataset \n",
    "X_train,X_test,Y_train,Y_test = train_test_split(X,Y,test_size = 0.2)\n",
    "train_data = dataset.CustomDataset(X_train,Y_train)\n",
    "test_data = dataset.CustomDataset(X_test,Y_test)\n"
   ]
  },
  {
   "cell_type": "markdown",
   "id": "a9a1af34",
   "metadata": {
    "id": "a9a1af34",
    "papermill": {
     "duration": 0.007066,
     "end_time": "2022-06-12T08:11:09.956285",
     "exception": false,
     "start_time": "2022-06-12T08:11:09.949219",
     "status": "completed"
    },
    "tags": []
   },
   "source": [
    "## Training Parameters "
   ]
  },
  {
   "cell_type": "code",
   "execution_count": 8,
   "id": "952b7fc8",
   "metadata": {
    "execution": {
     "iopub.execute_input": "2022-06-12T08:11:09.972997Z",
     "iopub.status.busy": "2022-06-12T08:11:09.972558Z",
     "iopub.status.idle": "2022-06-12T08:11:09.973863Z",
     "shell.execute_reply": "2022-06-12T08:11:09.974105Z"
    },
    "id": "952b7fc8",
    "papermill": {
     "duration": 0.010822,
     "end_time": "2022-06-12T08:11:09.974211",
     "exception": false,
     "start_time": "2022-06-12T08:11:09.963389",
     "status": "completed"
    },
    "tags": []
   },
   "outputs": [],
   "source": [
    "batch_size = 32\n",
    "n_epochs = 1000\n",
    "#Select the device \n",
    "device = torch.device('cuda' if torch.cuda.is_available() else 'cpu')"
   ]
  },
  {
   "cell_type": "markdown",
   "id": "a95e1600",
   "metadata": {
    "id": "a95e1600",
    "papermill": {
     "duration": 0.007055,
     "end_time": "2022-06-12T08:11:09.988429",
     "exception": false,
     "start_time": "2022-06-12T08:11:09.981374",
     "status": "completed"
    },
    "tags": []
   },
   "source": [
    "# ABC Pre-generator Model \n",
    "\n",
    "1. The catboost model is used as a pre-generator model for the ABC-GAN. \n",
    "2. The model is first trained on the entire dataset \n",
    "3. It generats X,Y pairs and we add some Gaussian noise with mean 0 and variance 1 to it which is then feed as input to the generator.\n"
   ]
  },
  {
   "cell_type": "code",
   "execution_count": 9,
   "id": "ff8ce7bd",
   "metadata": {
    "execution": {
     "iopub.execute_input": "2022-06-12T08:11:10.007336Z",
     "iopub.status.busy": "2022-06-12T08:11:10.006949Z",
     "iopub.status.idle": "2022-06-12T08:11:11.003754Z",
     "shell.execute_reply": "2022-06-12T08:11:11.004064Z"
    },
    "id": "ff8ce7bd",
    "papermill": {
     "duration": 1.008592,
     "end_time": "2022-06-12T08:11:11.004182",
     "exception": false,
     "start_time": "2022-06-12T08:11:09.995590",
     "status": "completed"
    },
    "tags": []
   },
   "outputs": [
    {
     "name": "stdout",
     "output_type": "stream",
     "text": [
      "Learning rate set to 0.033215\n",
      "0:\tlearn: 0.9973616\ttotal: 58.8ms\tremaining: 58.7s\n",
      "1:\tlearn: 0.9794651\ttotal: 59.8ms\tremaining: 29.8s\n",
      "2:\tlearn: 0.9585421\ttotal: 60.8ms\tremaining: 20.2s\n",
      "3:\tlearn: 0.9420513\ttotal: 61.9ms\tremaining: 15.4s\n",
      "4:\tlearn: 0.9232279\ttotal: 62.8ms\tremaining: 12.5s\n",
      "5:\tlearn: 0.9073441\ttotal: 63.9ms\tremaining: 10.6s\n",
      "6:\tlearn: 0.8918107\ttotal: 64.9ms\tremaining: 9.21s\n",
      "7:\tlearn: 0.8757572\ttotal: 65.8ms\tremaining: 8.16s\n",
      "8:\tlearn: 0.8610759\ttotal: 66.7ms\tremaining: 7.34s\n",
      "9:\tlearn: 0.8449822\ttotal: 67.7ms\tremaining: 6.7s\n",
      "10:\tlearn: 0.8297139\ttotal: 68.5ms\tremaining: 6.16s\n",
      "11:\tlearn: 0.8161788\ttotal: 69.4ms\tremaining: 5.71s\n",
      "12:\tlearn: 0.8013808\ttotal: 70.2ms\tremaining: 5.33s\n",
      "13:\tlearn: 0.7863743\ttotal: 71.4ms\tremaining: 5.03s\n",
      "14:\tlearn: 0.7729546\ttotal: 72.3ms\tremaining: 4.75s\n",
      "15:\tlearn: 0.7597386\ttotal: 73ms\tremaining: 4.49s\n",
      "16:\tlearn: 0.7446542\ttotal: 73.9ms\tremaining: 4.28s\n",
      "17:\tlearn: 0.7314535\ttotal: 74.8ms\tremaining: 4.08s\n",
      "18:\tlearn: 0.7189380\ttotal: 75.6ms\tremaining: 3.9s\n",
      "19:\tlearn: 0.7063817\ttotal: 76.5ms\tremaining: 3.75s\n",
      "20:\tlearn: 0.6938690\ttotal: 77.3ms\tremaining: 3.6s\n",
      "21:\tlearn: 0.6838533\ttotal: 78.2ms\tremaining: 3.48s\n",
      "22:\tlearn: 0.6743096\ttotal: 79.1ms\tremaining: 3.36s\n",
      "23:\tlearn: 0.6649727\ttotal: 79.9ms\tremaining: 3.25s\n",
      "24:\tlearn: 0.6552586\ttotal: 80.6ms\tremaining: 3.15s\n",
      "25:\tlearn: 0.6460706\ttotal: 81.4ms\tremaining: 3.05s\n",
      "26:\tlearn: 0.6378028\ttotal: 82.2ms\tremaining: 2.96s\n",
      "27:\tlearn: 0.6284915\ttotal: 82.8ms\tremaining: 2.87s\n",
      "28:\tlearn: 0.6192578\ttotal: 83.6ms\tremaining: 2.8s\n",
      "29:\tlearn: 0.6091254\ttotal: 84.3ms\tremaining: 2.73s\n",
      "30:\tlearn: 0.6000557\ttotal: 85.1ms\tremaining: 2.66s\n",
      "31:\tlearn: 0.5907309\ttotal: 85.9ms\tremaining: 2.6s\n",
      "32:\tlearn: 0.5824421\ttotal: 86.8ms\tremaining: 2.54s\n",
      "33:\tlearn: 0.5739020\ttotal: 87.5ms\tremaining: 2.49s\n",
      "34:\tlearn: 0.5661039\ttotal: 88.3ms\tremaining: 2.43s\n",
      "35:\tlearn: 0.5585430\ttotal: 89ms\tremaining: 2.38s\n",
      "36:\tlearn: 0.5508138\ttotal: 89.8ms\tremaining: 2.34s\n",
      "37:\tlearn: 0.5422226\ttotal: 90.6ms\tremaining: 2.29s\n",
      "38:\tlearn: 0.5347570\ttotal: 91.4ms\tremaining: 2.25s\n",
      "39:\tlearn: 0.5270121\ttotal: 92.2ms\tremaining: 2.21s\n",
      "40:\tlearn: 0.5203661\ttotal: 92.9ms\tremaining: 2.17s\n",
      "41:\tlearn: 0.5146406\ttotal: 93.6ms\tremaining: 2.13s\n",
      "42:\tlearn: 0.5077992\ttotal: 94.3ms\tremaining: 2.1s\n",
      "43:\tlearn: 0.5009662\ttotal: 95ms\tremaining: 2.06s\n",
      "44:\tlearn: 0.4932240\ttotal: 95.8ms\tremaining: 2.03s\n",
      "45:\tlearn: 0.4865616\ttotal: 96.5ms\tremaining: 2s\n",
      "46:\tlearn: 0.4827730\ttotal: 97.2ms\tremaining: 1.97s\n",
      "47:\tlearn: 0.4778832\ttotal: 97.9ms\tremaining: 1.94s\n",
      "48:\tlearn: 0.4728539\ttotal: 98.6ms\tremaining: 1.91s\n",
      "49:\tlearn: 0.4673089\ttotal: 99.4ms\tremaining: 1.89s\n",
      "50:\tlearn: 0.4633997\ttotal: 100ms\tremaining: 1.86s\n",
      "51:\tlearn: 0.4576082\ttotal: 101ms\tremaining: 1.84s\n",
      "52:\tlearn: 0.4529324\ttotal: 102ms\tremaining: 1.82s\n",
      "53:\tlearn: 0.4488106\ttotal: 103ms\tremaining: 1.79s\n",
      "54:\tlearn: 0.4438656\ttotal: 103ms\tremaining: 1.77s\n",
      "55:\tlearn: 0.4406628\ttotal: 104ms\tremaining: 1.75s\n",
      "56:\tlearn: 0.4356832\ttotal: 105ms\tremaining: 1.73s\n",
      "57:\tlearn: 0.4309627\ttotal: 105ms\tremaining: 1.71s\n",
      "58:\tlearn: 0.4278892\ttotal: 106ms\tremaining: 1.7s\n",
      "59:\tlearn: 0.4232270\ttotal: 107ms\tremaining: 1.68s\n"
     ]
    },
    {
     "name": "stdout",
     "output_type": "stream",
     "text": [
      "60:\tlearn: 0.4193026\ttotal: 108ms\tremaining: 1.67s\n",
      "61:\tlearn: 0.4145173\ttotal: 109ms\tremaining: 1.65s\n",
      "62:\tlearn: 0.4121158\ttotal: 110ms\tremaining: 1.63s\n",
      "63:\tlearn: 0.4077712\ttotal: 111ms\tremaining: 1.62s\n",
      "64:\tlearn: 0.4038136\ttotal: 112ms\tremaining: 1.6s\n",
      "65:\tlearn: 0.4002117\ttotal: 112ms\tremaining: 1.59s\n",
      "66:\tlearn: 0.3964294\ttotal: 113ms\tremaining: 1.58s\n",
      "67:\tlearn: 0.3924968\ttotal: 114ms\tremaining: 1.56s\n",
      "68:\tlearn: 0.3896761\ttotal: 115ms\tremaining: 1.55s\n",
      "69:\tlearn: 0.3869201\ttotal: 116ms\tremaining: 1.54s\n",
      "70:\tlearn: 0.3840993\ttotal: 116ms\tremaining: 1.52s\n",
      "71:\tlearn: 0.3816118\ttotal: 117ms\tremaining: 1.51s\n",
      "72:\tlearn: 0.3792409\ttotal: 118ms\tremaining: 1.5s\n",
      "73:\tlearn: 0.3763460\ttotal: 119ms\tremaining: 1.49s\n",
      "74:\tlearn: 0.3730855\ttotal: 120ms\tremaining: 1.48s\n",
      "75:\tlearn: 0.3698659\ttotal: 120ms\tremaining: 1.46s\n",
      "76:\tlearn: 0.3663121\ttotal: 121ms\tremaining: 1.45s\n",
      "77:\tlearn: 0.3627353\ttotal: 122ms\tremaining: 1.44s\n",
      "78:\tlearn: 0.3608139\ttotal: 123ms\tremaining: 1.43s\n",
      "79:\tlearn: 0.3586321\ttotal: 124ms\tremaining: 1.42s\n",
      "80:\tlearn: 0.3560952\ttotal: 125ms\tremaining: 1.41s\n",
      "81:\tlearn: 0.3531322\ttotal: 126ms\tremaining: 1.41s\n",
      "82:\tlearn: 0.3508399\ttotal: 126ms\tremaining: 1.4s\n",
      "83:\tlearn: 0.3485481\ttotal: 127ms\tremaining: 1.39s\n",
      "84:\tlearn: 0.3460972\ttotal: 128ms\tremaining: 1.38s\n",
      "85:\tlearn: 0.3432839\ttotal: 129ms\tremaining: 1.37s\n",
      "86:\tlearn: 0.3415210\ttotal: 130ms\tremaining: 1.36s\n",
      "87:\tlearn: 0.3391090\ttotal: 131ms\tremaining: 1.35s\n",
      "88:\tlearn: 0.3365386\ttotal: 132ms\tremaining: 1.35s\n",
      "89:\tlearn: 0.3344932\ttotal: 132ms\tremaining: 1.34s\n",
      "90:\tlearn: 0.3326933\ttotal: 133ms\tremaining: 1.33s\n",
      "91:\tlearn: 0.3313774\ttotal: 134ms\tremaining: 1.33s\n",
      "92:\tlearn: 0.3298761\ttotal: 135ms\tremaining: 1.32s\n",
      "93:\tlearn: 0.3277002\ttotal: 136ms\tremaining: 1.31s\n",
      "94:\tlearn: 0.3254742\ttotal: 137ms\tremaining: 1.31s\n",
      "95:\tlearn: 0.3240765\ttotal: 138ms\tremaining: 1.3s\n",
      "96:\tlearn: 0.3226055\ttotal: 139ms\tremaining: 1.3s\n",
      "97:\tlearn: 0.3211597\ttotal: 140ms\tremaining: 1.29s\n",
      "98:\tlearn: 0.3197055\ttotal: 141ms\tremaining: 1.28s\n",
      "99:\tlearn: 0.3178685\ttotal: 142ms\tremaining: 1.28s\n",
      "100:\tlearn: 0.3167473\ttotal: 143ms\tremaining: 1.27s\n",
      "101:\tlearn: 0.3145625\ttotal: 144ms\tremaining: 1.27s\n",
      "102:\tlearn: 0.3129868\ttotal: 145ms\tremaining: 1.26s\n",
      "103:\tlearn: 0.3116221\ttotal: 146ms\tremaining: 1.26s\n",
      "104:\tlearn: 0.3100125\ttotal: 147ms\tremaining: 1.25s\n",
      "105:\tlearn: 0.3083998\ttotal: 148ms\tremaining: 1.25s\n",
      "106:\tlearn: 0.3062714\ttotal: 149ms\tremaining: 1.24s\n",
      "107:\tlearn: 0.3048516\ttotal: 150ms\tremaining: 1.24s\n",
      "108:\tlearn: 0.3032714\ttotal: 151ms\tremaining: 1.23s\n",
      "109:\tlearn: 0.3018076\ttotal: 152ms\tremaining: 1.23s\n",
      "110:\tlearn: 0.3001894\ttotal: 153ms\tremaining: 1.22s\n",
      "111:\tlearn: 0.2989493\ttotal: 154ms\tremaining: 1.22s\n",
      "112:\tlearn: 0.2972000\ttotal: 154ms\tremaining: 1.21s\n",
      "113:\tlearn: 0.2960206\ttotal: 155ms\tremaining: 1.21s\n",
      "114:\tlearn: 0.2948620\ttotal: 156ms\tremaining: 1.2s\n",
      "115:\tlearn: 0.2940040\ttotal: 157ms\tremaining: 1.2s\n",
      "116:\tlearn: 0.2922940\ttotal: 158ms\tremaining: 1.19s\n",
      "117:\tlearn: 0.2906084\ttotal: 159ms\tremaining: 1.19s\n",
      "118:\tlearn: 0.2893405\ttotal: 159ms\tremaining: 1.18s\n",
      "119:\tlearn: 0.2885467\ttotal: 160ms\tremaining: 1.18s\n",
      "120:\tlearn: 0.2871747\ttotal: 162ms\tremaining: 1.17s\n",
      "121:\tlearn: 0.2861351\ttotal: 162ms\tremaining: 1.17s\n",
      "122:\tlearn: 0.2847662\ttotal: 163ms\tremaining: 1.16s\n",
      "123:\tlearn: 0.2832641\ttotal: 164ms\tremaining: 1.16s\n",
      "124:\tlearn: 0.2823883\ttotal: 165ms\tremaining: 1.15s\n",
      "125:\tlearn: 0.2812535\ttotal: 166ms\tremaining: 1.15s\n",
      "126:\tlearn: 0.2798359\ttotal: 167ms\tremaining: 1.15s\n",
      "127:\tlearn: 0.2782754\ttotal: 167ms\tremaining: 1.14s\n",
      "128:\tlearn: 0.2767915\ttotal: 168ms\tremaining: 1.14s\n",
      "129:\tlearn: 0.2755692\ttotal: 169ms\tremaining: 1.13s\n",
      "130:\tlearn: 0.2745878\ttotal: 170ms\tremaining: 1.13s\n",
      "131:\tlearn: 0.2732321\ttotal: 171ms\tremaining: 1.12s\n",
      "132:\tlearn: 0.2725459\ttotal: 172ms\tremaining: 1.12s\n",
      "133:\tlearn: 0.2713777\ttotal: 172ms\tremaining: 1.11s\n",
      "134:\tlearn: 0.2701561\ttotal: 173ms\tremaining: 1.11s\n",
      "135:\tlearn: 0.2691618\ttotal: 174ms\tremaining: 1.1s\n",
      "136:\tlearn: 0.2681819\ttotal: 175ms\tremaining: 1.1s\n",
      "137:\tlearn: 0.2668893\ttotal: 176ms\tremaining: 1.1s\n",
      "138:\tlearn: 0.2659822\ttotal: 177ms\tremaining: 1.09s\n",
      "139:\tlearn: 0.2651869\ttotal: 178ms\tremaining: 1.09s\n",
      "140:\tlearn: 0.2644421\ttotal: 178ms\tremaining: 1.08s\n",
      "141:\tlearn: 0.2632534\ttotal: 179ms\tremaining: 1.08s\n",
      "142:\tlearn: 0.2620394\ttotal: 180ms\tremaining: 1.08s\n",
      "143:\tlearn: 0.2609478\ttotal: 181ms\tremaining: 1.07s\n",
      "144:\tlearn: 0.2598632\ttotal: 182ms\tremaining: 1.07s\n",
      "145:\tlearn: 0.2589616\ttotal: 183ms\tremaining: 1.07s\n",
      "146:\tlearn: 0.2578811\ttotal: 183ms\tremaining: 1.06s\n",
      "147:\tlearn: 0.2569841\ttotal: 184ms\tremaining: 1.06s\n",
      "148:\tlearn: 0.2562290\ttotal: 185ms\tremaining: 1.05s\n",
      "149:\tlearn: 0.2554862\ttotal: 186ms\tremaining: 1.05s\n",
      "150:\tlearn: 0.2544521\ttotal: 186ms\tremaining: 1.05s\n",
      "151:\tlearn: 0.2537026\ttotal: 187ms\tremaining: 1.04s\n",
      "152:\tlearn: 0.2530516\ttotal: 188ms\tremaining: 1.04s\n",
      "153:\tlearn: 0.2523886\ttotal: 189ms\tremaining: 1.04s\n",
      "154:\tlearn: 0.2513190\ttotal: 190ms\tremaining: 1.03s\n",
      "155:\tlearn: 0.2505331\ttotal: 191ms\tremaining: 1.03s\n"
     ]
    },
    {
     "name": "stdout",
     "output_type": "stream",
     "text": [
      "156:\tlearn: 0.2496903\ttotal: 192ms\tremaining: 1.03s\n",
      "157:\tlearn: 0.2484073\ttotal: 192ms\tremaining: 1.02s\n",
      "158:\tlearn: 0.2474021\ttotal: 193ms\tremaining: 1.02s\n",
      "159:\tlearn: 0.2466202\ttotal: 194ms\tremaining: 1.02s\n",
      "160:\tlearn: 0.2456384\ttotal: 195ms\tremaining: 1.01s\n",
      "161:\tlearn: 0.2445160\ttotal: 196ms\tremaining: 1.01s\n",
      "162:\tlearn: 0.2439368\ttotal: 197ms\tremaining: 1.01s\n",
      "163:\tlearn: 0.2432231\ttotal: 198ms\tremaining: 1.01s\n",
      "164:\tlearn: 0.2425151\ttotal: 199ms\tremaining: 1s\n",
      "165:\tlearn: 0.2419510\ttotal: 199ms\tremaining: 1s\n",
      "166:\tlearn: 0.2414670\ttotal: 200ms\tremaining: 999ms\n",
      "167:\tlearn: 0.2408070\ttotal: 201ms\tremaining: 996ms\n",
      "168:\tlearn: 0.2400190\ttotal: 202ms\tremaining: 993ms\n",
      "169:\tlearn: 0.2391275\ttotal: 203ms\tremaining: 990ms\n",
      "170:\tlearn: 0.2383677\ttotal: 204ms\tremaining: 987ms\n",
      "171:\tlearn: 0.2377682\ttotal: 204ms\tremaining: 984ms\n",
      "172:\tlearn: 0.2368107\ttotal: 205ms\tremaining: 981ms\n",
      "173:\tlearn: 0.2359848\ttotal: 206ms\tremaining: 978ms\n",
      "174:\tlearn: 0.2352314\ttotal: 207ms\tremaining: 975ms\n",
      "175:\tlearn: 0.2347034\ttotal: 208ms\tremaining: 972ms\n",
      "176:\tlearn: 0.2337341\ttotal: 209ms\tremaining: 970ms\n",
      "177:\tlearn: 0.2332652\ttotal: 209ms\tremaining: 967ms\n",
      "178:\tlearn: 0.2328282\ttotal: 210ms\tremaining: 964ms\n",
      "179:\tlearn: 0.2322475\ttotal: 211ms\tremaining: 961ms\n",
      "180:\tlearn: 0.2314785\ttotal: 212ms\tremaining: 958ms\n",
      "181:\tlearn: 0.2306315\ttotal: 213ms\tremaining: 956ms\n",
      "182:\tlearn: 0.2299933\ttotal: 213ms\tremaining: 953ms\n",
      "183:\tlearn: 0.2291938\ttotal: 214ms\tremaining: 950ms\n",
      "184:\tlearn: 0.2285269\ttotal: 215ms\tremaining: 946ms\n",
      "185:\tlearn: 0.2274563\ttotal: 216ms\tremaining: 944ms\n",
      "186:\tlearn: 0.2267527\ttotal: 216ms\tremaining: 941ms\n",
      "187:\tlearn: 0.2260335\ttotal: 217ms\tremaining: 938ms\n",
      "188:\tlearn: 0.2255678\ttotal: 218ms\tremaining: 935ms\n",
      "189:\tlearn: 0.2249924\ttotal: 219ms\tremaining: 932ms\n",
      "190:\tlearn: 0.2243056\ttotal: 220ms\tremaining: 930ms\n",
      "191:\tlearn: 0.2237656\ttotal: 220ms\tremaining: 928ms\n",
      "192:\tlearn: 0.2232308\ttotal: 221ms\tremaining: 926ms\n",
      "193:\tlearn: 0.2224586\ttotal: 222ms\tremaining: 923ms\n",
      "194:\tlearn: 0.2219382\ttotal: 223ms\tremaining: 921ms\n",
      "195:\tlearn: 0.2216289\ttotal: 224ms\tremaining: 920ms\n",
      "196:\tlearn: 0.2211056\ttotal: 225ms\tremaining: 917ms\n",
      "197:\tlearn: 0.2204978\ttotal: 226ms\tremaining: 915ms\n",
      "198:\tlearn: 0.2199347\ttotal: 227ms\tremaining: 913ms\n",
      "199:\tlearn: 0.2191640\ttotal: 228ms\tremaining: 910ms\n",
      "200:\tlearn: 0.2185828\ttotal: 228ms\tremaining: 908ms\n",
      "201:\tlearn: 0.2179398\ttotal: 229ms\tremaining: 905ms\n",
      "202:\tlearn: 0.2174719\ttotal: 230ms\tremaining: 903ms\n",
      "203:\tlearn: 0.2170405\ttotal: 231ms\tremaining: 901ms\n",
      "204:\tlearn: 0.2163746\ttotal: 232ms\tremaining: 899ms\n",
      "205:\tlearn: 0.2157586\ttotal: 233ms\tremaining: 896ms\n",
      "206:\tlearn: 0.2152060\ttotal: 233ms\tremaining: 894ms\n",
      "207:\tlearn: 0.2147284\ttotal: 234ms\tremaining: 891ms\n",
      "208:\tlearn: 0.2143817\ttotal: 235ms\tremaining: 889ms\n",
      "209:\tlearn: 0.2137555\ttotal: 236ms\tremaining: 887ms\n",
      "210:\tlearn: 0.2132970\ttotal: 237ms\tremaining: 885ms\n",
      "211:\tlearn: 0.2130701\ttotal: 237ms\tremaining: 883ms\n",
      "212:\tlearn: 0.2123362\ttotal: 238ms\tremaining: 880ms\n",
      "213:\tlearn: 0.2118474\ttotal: 239ms\tremaining: 878ms\n",
      "214:\tlearn: 0.2112896\ttotal: 240ms\tremaining: 876ms\n",
      "215:\tlearn: 0.2108456\ttotal: 241ms\tremaining: 874ms\n",
      "216:\tlearn: 0.2103600\ttotal: 242ms\tremaining: 872ms\n",
      "217:\tlearn: 0.2099466\ttotal: 243ms\tremaining: 870ms\n",
      "218:\tlearn: 0.2093393\ttotal: 243ms\tremaining: 867ms\n",
      "219:\tlearn: 0.2087954\ttotal: 244ms\tremaining: 865ms\n",
      "220:\tlearn: 0.2083181\ttotal: 245ms\tremaining: 863ms\n",
      "221:\tlearn: 0.2078954\ttotal: 245ms\tremaining: 860ms\n",
      "222:\tlearn: 0.2075251\ttotal: 246ms\tremaining: 858ms\n",
      "223:\tlearn: 0.2069924\ttotal: 247ms\tremaining: 856ms\n",
      "224:\tlearn: 0.2066620\ttotal: 248ms\tremaining: 854ms\n",
      "225:\tlearn: 0.2064229\ttotal: 249ms\tremaining: 852ms\n",
      "226:\tlearn: 0.2061552\ttotal: 250ms\tremaining: 850ms\n",
      "227:\tlearn: 0.2057640\ttotal: 250ms\tremaining: 847ms\n",
      "228:\tlearn: 0.2053218\ttotal: 251ms\tremaining: 845ms\n",
      "229:\tlearn: 0.2048706\ttotal: 252ms\tremaining: 843ms\n",
      "230:\tlearn: 0.2043412\ttotal: 253ms\tremaining: 841ms\n",
      "231:\tlearn: 0.2037130\ttotal: 253ms\tremaining: 839ms\n",
      "232:\tlearn: 0.2033117\ttotal: 254ms\tremaining: 836ms\n",
      "233:\tlearn: 0.2030299\ttotal: 255ms\tremaining: 835ms\n",
      "234:\tlearn: 0.2027723\ttotal: 256ms\tremaining: 833ms\n",
      "235:\tlearn: 0.2022963\ttotal: 257ms\tremaining: 831ms\n",
      "236:\tlearn: 0.2018528\ttotal: 258ms\tremaining: 830ms\n",
      "237:\tlearn: 0.2013090\ttotal: 258ms\tremaining: 827ms\n",
      "238:\tlearn: 0.2008009\ttotal: 259ms\tremaining: 825ms\n",
      "239:\tlearn: 0.2001026\ttotal: 260ms\tremaining: 823ms\n",
      "240:\tlearn: 0.1996530\ttotal: 261ms\tremaining: 821ms\n",
      "241:\tlearn: 0.1994206\ttotal: 261ms\tremaining: 819ms\n",
      "242:\tlearn: 0.1987343\ttotal: 262ms\tremaining: 817ms\n",
      "243:\tlearn: 0.1982749\ttotal: 263ms\tremaining: 815ms\n",
      "244:\tlearn: 0.1978559\ttotal: 264ms\tremaining: 813ms\n",
      "245:\tlearn: 0.1974753\ttotal: 265ms\tremaining: 811ms\n",
      "246:\tlearn: 0.1970299\ttotal: 266ms\tremaining: 810ms\n",
      "247:\tlearn: 0.1965221\ttotal: 266ms\tremaining: 808ms\n",
      "248:\tlearn: 0.1958267\ttotal: 267ms\tremaining: 806ms\n",
      "249:\tlearn: 0.1953879\ttotal: 268ms\tremaining: 804ms\n",
      "250:\tlearn: 0.1950261\ttotal: 269ms\tremaining: 803ms\n",
      "251:\tlearn: 0.1945554\ttotal: 270ms\tremaining: 801ms\n",
      "252:\tlearn: 0.1940067\ttotal: 271ms\tremaining: 800ms\n",
      "253:\tlearn: 0.1934714\ttotal: 272ms\tremaining: 798ms\n",
      "254:\tlearn: 0.1930325\ttotal: 272ms\tremaining: 796ms\n",
      "255:\tlearn: 0.1926839\ttotal: 273ms\tremaining: 794ms\n",
      "256:\tlearn: 0.1920758\ttotal: 274ms\tremaining: 792ms\n",
      "257:\tlearn: 0.1915944\ttotal: 275ms\tremaining: 791ms\n",
      "258:\tlearn: 0.1910744\ttotal: 276ms\tremaining: 788ms\n",
      "259:\tlearn: 0.1908321\ttotal: 276ms\tremaining: 787ms\n",
      "260:\tlearn: 0.1905440\ttotal: 277ms\tremaining: 785ms\n",
      "261:\tlearn: 0.1903094\ttotal: 278ms\tremaining: 783ms\n",
      "262:\tlearn: 0.1897215\ttotal: 279ms\tremaining: 781ms\n",
      "263:\tlearn: 0.1893105\ttotal: 280ms\tremaining: 780ms\n",
      "264:\tlearn: 0.1888864\ttotal: 280ms\tremaining: 778ms\n",
      "265:\tlearn: 0.1883319\ttotal: 281ms\tremaining: 776ms\n",
      "266:\tlearn: 0.1880808\ttotal: 282ms\tremaining: 774ms\n",
      "267:\tlearn: 0.1878148\ttotal: 283ms\tremaining: 772ms\n",
      "268:\tlearn: 0.1874915\ttotal: 284ms\tremaining: 771ms\n",
      "269:\tlearn: 0.1871226\ttotal: 285ms\tremaining: 769ms\n",
      "270:\tlearn: 0.1868057\ttotal: 285ms\tremaining: 768ms\n",
      "271:\tlearn: 0.1863650\ttotal: 287ms\tremaining: 768ms\n",
      "272:\tlearn: 0.1859125\ttotal: 288ms\tremaining: 766ms\n",
      "273:\tlearn: 0.1854801\ttotal: 288ms\tremaining: 764ms\n",
      "274:\tlearn: 0.1851754\ttotal: 289ms\tremaining: 763ms\n",
      "275:\tlearn: 0.1847547\ttotal: 290ms\tremaining: 761ms\n",
      "276:\tlearn: 0.1844781\ttotal: 291ms\tremaining: 759ms\n",
      "277:\tlearn: 0.1841393\ttotal: 292ms\tremaining: 758ms\n",
      "278:\tlearn: 0.1836743\ttotal: 292ms\tremaining: 756ms\n",
      "279:\tlearn: 0.1834139\ttotal: 293ms\tremaining: 754ms\n",
      "280:\tlearn: 0.1831027\ttotal: 294ms\tremaining: 753ms\n",
      "281:\tlearn: 0.1828169\ttotal: 295ms\tremaining: 751ms\n",
      "282:\tlearn: 0.1823266\ttotal: 296ms\tremaining: 750ms\n",
      "283:\tlearn: 0.1816397\ttotal: 297ms\tremaining: 748ms\n",
      "284:\tlearn: 0.1812327\ttotal: 298ms\tremaining: 746ms\n"
     ]
    },
    {
     "name": "stdout",
     "output_type": "stream",
     "text": [
      "285:\tlearn: 0.1806739\ttotal: 298ms\tremaining: 745ms\n",
      "286:\tlearn: 0.1803631\ttotal: 300ms\tremaining: 744ms\n",
      "287:\tlearn: 0.1802724\ttotal: 300ms\tremaining: 743ms\n",
      "288:\tlearn: 0.1798053\ttotal: 301ms\tremaining: 742ms\n",
      "289:\tlearn: 0.1793784\ttotal: 302ms\tremaining: 740ms\n",
      "290:\tlearn: 0.1791067\ttotal: 303ms\tremaining: 739ms\n",
      "291:\tlearn: 0.1786421\ttotal: 304ms\tremaining: 737ms\n",
      "292:\tlearn: 0.1782427\ttotal: 305ms\tremaining: 736ms\n",
      "293:\tlearn: 0.1778402\ttotal: 306ms\tremaining: 734ms\n",
      "294:\tlearn: 0.1776362\ttotal: 307ms\tremaining: 733ms\n",
      "295:\tlearn: 0.1774760\ttotal: 307ms\tremaining: 731ms\n",
      "296:\tlearn: 0.1772303\ttotal: 308ms\tremaining: 730ms\n",
      "297:\tlearn: 0.1765781\ttotal: 309ms\tremaining: 728ms\n",
      "298:\tlearn: 0.1763022\ttotal: 310ms\tremaining: 727ms\n",
      "299:\tlearn: 0.1759332\ttotal: 311ms\tremaining: 725ms\n",
      "300:\tlearn: 0.1755503\ttotal: 311ms\tremaining: 723ms\n",
      "301:\tlearn: 0.1752162\ttotal: 312ms\tremaining: 722ms\n",
      "302:\tlearn: 0.1748864\ttotal: 313ms\tremaining: 720ms\n",
      "303:\tlearn: 0.1745675\ttotal: 314ms\tremaining: 718ms\n",
      "304:\tlearn: 0.1742595\ttotal: 314ms\tremaining: 716ms\n",
      "305:\tlearn: 0.1738459\ttotal: 315ms\tremaining: 714ms\n",
      "306:\tlearn: 0.1736343\ttotal: 316ms\tremaining: 713ms\n",
      "307:\tlearn: 0.1733929\ttotal: 317ms\tremaining: 711ms\n",
      "308:\tlearn: 0.1727910\ttotal: 317ms\tremaining: 710ms\n",
      "309:\tlearn: 0.1726034\ttotal: 318ms\tremaining: 708ms\n",
      "310:\tlearn: 0.1722765\ttotal: 319ms\tremaining: 707ms\n",
      "311:\tlearn: 0.1720187\ttotal: 320ms\tremaining: 705ms\n",
      "312:\tlearn: 0.1718903\ttotal: 321ms\tremaining: 704ms\n",
      "313:\tlearn: 0.1713458\ttotal: 321ms\tremaining: 702ms\n",
      "314:\tlearn: 0.1710948\ttotal: 322ms\tremaining: 700ms\n",
      "315:\tlearn: 0.1707051\ttotal: 323ms\tremaining: 699ms\n",
      "316:\tlearn: 0.1703610\ttotal: 324ms\tremaining: 698ms\n",
      "317:\tlearn: 0.1697489\ttotal: 324ms\tremaining: 696ms\n",
      "318:\tlearn: 0.1694474\ttotal: 325ms\tremaining: 694ms\n",
      "319:\tlearn: 0.1690768\ttotal: 326ms\tremaining: 693ms\n",
      "320:\tlearn: 0.1688065\ttotal: 327ms\tremaining: 691ms\n",
      "321:\tlearn: 0.1684692\ttotal: 328ms\tremaining: 690ms\n",
      "322:\tlearn: 0.1679533\ttotal: 329ms\tremaining: 689ms\n",
      "323:\tlearn: 0.1676127\ttotal: 330ms\tremaining: 689ms\n",
      "324:\tlearn: 0.1674957\ttotal: 331ms\tremaining: 687ms\n",
      "325:\tlearn: 0.1672984\ttotal: 332ms\tremaining: 686ms\n",
      "326:\tlearn: 0.1669101\ttotal: 332ms\tremaining: 684ms\n",
      "327:\tlearn: 0.1666656\ttotal: 333ms\tremaining: 683ms\n",
      "328:\tlearn: 0.1661991\ttotal: 334ms\tremaining: 681ms\n",
      "329:\tlearn: 0.1660481\ttotal: 335ms\tremaining: 680ms\n",
      "330:\tlearn: 0.1658302\ttotal: 336ms\tremaining: 678ms\n",
      "331:\tlearn: 0.1655865\ttotal: 337ms\tremaining: 677ms\n",
      "332:\tlearn: 0.1655059\ttotal: 338ms\tremaining: 676ms\n",
      "333:\tlearn: 0.1651337\ttotal: 338ms\tremaining: 675ms\n",
      "334:\tlearn: 0.1647814\ttotal: 339ms\tremaining: 673ms\n",
      "335:\tlearn: 0.1643018\ttotal: 340ms\tremaining: 672ms\n",
      "336:\tlearn: 0.1640697\ttotal: 341ms\tremaining: 671ms\n",
      "337:\tlearn: 0.1636780\ttotal: 342ms\tremaining: 669ms\n",
      "338:\tlearn: 0.1631603\ttotal: 343ms\tremaining: 668ms\n",
      "339:\tlearn: 0.1629023\ttotal: 343ms\tremaining: 666ms\n",
      "340:\tlearn: 0.1624773\ttotal: 344ms\tremaining: 665ms\n",
      "341:\tlearn: 0.1623187\ttotal: 345ms\tremaining: 664ms\n",
      "342:\tlearn: 0.1619147\ttotal: 346ms\tremaining: 663ms\n",
      "343:\tlearn: 0.1618584\ttotal: 347ms\tremaining: 661ms\n",
      "344:\tlearn: 0.1617981\ttotal: 347ms\tremaining: 660ms\n",
      "345:\tlearn: 0.1613056\ttotal: 349ms\tremaining: 659ms\n",
      "346:\tlearn: 0.1612495\ttotal: 350ms\tremaining: 658ms\n",
      "347:\tlearn: 0.1609180\ttotal: 350ms\tremaining: 657ms\n",
      "348:\tlearn: 0.1606703\ttotal: 351ms\tremaining: 655ms\n",
      "349:\tlearn: 0.1605097\ttotal: 352ms\tremaining: 654ms\n",
      "350:\tlearn: 0.1604434\ttotal: 353ms\tremaining: 653ms\n",
      "351:\tlearn: 0.1601150\ttotal: 354ms\tremaining: 651ms\n",
      "352:\tlearn: 0.1597663\ttotal: 355ms\tremaining: 650ms\n",
      "353:\tlearn: 0.1595568\ttotal: 356ms\tremaining: 649ms\n",
      "354:\tlearn: 0.1592737\ttotal: 356ms\tremaining: 648ms\n",
      "355:\tlearn: 0.1590595\ttotal: 357ms\tremaining: 647ms\n",
      "356:\tlearn: 0.1585523\ttotal: 358ms\tremaining: 645ms\n",
      "357:\tlearn: 0.1582263\ttotal: 359ms\tremaining: 644ms\n",
      "358:\tlearn: 0.1577801\ttotal: 360ms\tremaining: 643ms\n",
      "359:\tlearn: 0.1574262\ttotal: 361ms\tremaining: 642ms\n",
      "360:\tlearn: 0.1571675\ttotal: 362ms\tremaining: 641ms\n",
      "361:\tlearn: 0.1569164\ttotal: 363ms\tremaining: 640ms\n",
      "362:\tlearn: 0.1565590\ttotal: 364ms\tremaining: 639ms\n",
      "363:\tlearn: 0.1561425\ttotal: 365ms\tremaining: 637ms\n",
      "364:\tlearn: 0.1559257\ttotal: 366ms\tremaining: 636ms\n",
      "365:\tlearn: 0.1558733\ttotal: 367ms\tremaining: 635ms\n",
      "366:\tlearn: 0.1554677\ttotal: 368ms\tremaining: 634ms\n",
      "367:\tlearn: 0.1552485\ttotal: 368ms\tremaining: 633ms\n",
      "368:\tlearn: 0.1549951\ttotal: 369ms\tremaining: 632ms\n",
      "369:\tlearn: 0.1548038\ttotal: 370ms\tremaining: 631ms\n",
      "370:\tlearn: 0.1544673\ttotal: 372ms\tremaining: 630ms\n",
      "371:\tlearn: 0.1541932\ttotal: 373ms\tremaining: 629ms\n",
      "372:\tlearn: 0.1538354\ttotal: 373ms\tremaining: 628ms\n",
      "373:\tlearn: 0.1537036\ttotal: 374ms\tremaining: 627ms\n",
      "374:\tlearn: 0.1533573\ttotal: 375ms\tremaining: 626ms\n",
      "375:\tlearn: 0.1531597\ttotal: 377ms\tremaining: 626ms\n",
      "376:\tlearn: 0.1529634\ttotal: 378ms\tremaining: 625ms\n",
      "377:\tlearn: 0.1525516\ttotal: 379ms\tremaining: 624ms\n",
      "378:\tlearn: 0.1522859\ttotal: 380ms\tremaining: 623ms\n"
     ]
    },
    {
     "name": "stdout",
     "output_type": "stream",
     "text": [
      "379:\tlearn: 0.1520054\ttotal: 382ms\tremaining: 623ms\n",
      "380:\tlearn: 0.1515455\ttotal: 383ms\tremaining: 623ms\n",
      "381:\tlearn: 0.1513286\ttotal: 384ms\tremaining: 622ms\n",
      "382:\tlearn: 0.1510312\ttotal: 385ms\tremaining: 621ms\n",
      "383:\tlearn: 0.1505748\ttotal: 386ms\tremaining: 620ms\n",
      "384:\tlearn: 0.1503630\ttotal: 387ms\tremaining: 619ms\n",
      "385:\tlearn: 0.1501988\ttotal: 388ms\tremaining: 618ms\n",
      "386:\tlearn: 0.1500446\ttotal: 390ms\tremaining: 618ms\n",
      "387:\tlearn: 0.1498028\ttotal: 392ms\tremaining: 618ms\n",
      "388:\tlearn: 0.1494744\ttotal: 393ms\tremaining: 618ms\n",
      "389:\tlearn: 0.1493280\ttotal: 395ms\tremaining: 617ms\n",
      "390:\tlearn: 0.1490525\ttotal: 396ms\tremaining: 616ms\n",
      "391:\tlearn: 0.1488488\ttotal: 396ms\tremaining: 615ms\n",
      "392:\tlearn: 0.1484776\ttotal: 397ms\tremaining: 614ms\n",
      "393:\tlearn: 0.1483285\ttotal: 398ms\tremaining: 612ms\n",
      "394:\tlearn: 0.1479035\ttotal: 399ms\tremaining: 611ms\n",
      "395:\tlearn: 0.1476512\ttotal: 400ms\tremaining: 610ms\n",
      "396:\tlearn: 0.1474643\ttotal: 401ms\tremaining: 608ms\n",
      "397:\tlearn: 0.1471076\ttotal: 401ms\tremaining: 607ms\n",
      "398:\tlearn: 0.1469494\ttotal: 402ms\tremaining: 606ms\n",
      "399:\tlearn: 0.1468419\ttotal: 403ms\tremaining: 605ms\n",
      "400:\tlearn: 0.1465714\ttotal: 404ms\tremaining: 604ms\n",
      "401:\tlearn: 0.1462541\ttotal: 405ms\tremaining: 602ms\n",
      "402:\tlearn: 0.1460532\ttotal: 406ms\tremaining: 601ms\n",
      "403:\tlearn: 0.1457444\ttotal: 406ms\tremaining: 600ms\n",
      "404:\tlearn: 0.1455846\ttotal: 407ms\tremaining: 598ms\n",
      "405:\tlearn: 0.1452594\ttotal: 408ms\tremaining: 597ms\n",
      "406:\tlearn: 0.1448455\ttotal: 409ms\tremaining: 596ms\n",
      "407:\tlearn: 0.1447775\ttotal: 410ms\tremaining: 594ms\n",
      "408:\tlearn: 0.1444811\ttotal: 410ms\tremaining: 593ms\n",
      "409:\tlearn: 0.1442720\ttotal: 411ms\tremaining: 592ms\n",
      "410:\tlearn: 0.1441170\ttotal: 412ms\tremaining: 590ms\n",
      "411:\tlearn: 0.1437219\ttotal: 413ms\tremaining: 589ms\n",
      "412:\tlearn: 0.1433942\ttotal: 413ms\tremaining: 588ms\n",
      "413:\tlearn: 0.1430060\ttotal: 414ms\tremaining: 587ms\n",
      "414:\tlearn: 0.1425306\ttotal: 415ms\tremaining: 586ms\n",
      "415:\tlearn: 0.1424362\ttotal: 416ms\tremaining: 584ms\n",
      "416:\tlearn: 0.1422108\ttotal: 417ms\tremaining: 583ms\n",
      "417:\tlearn: 0.1420708\ttotal: 418ms\tremaining: 582ms\n",
      "418:\tlearn: 0.1417010\ttotal: 419ms\tremaining: 581ms\n",
      "419:\tlearn: 0.1414084\ttotal: 420ms\tremaining: 580ms\n",
      "420:\tlearn: 0.1412681\ttotal: 421ms\tremaining: 579ms\n",
      "421:\tlearn: 0.1410805\ttotal: 421ms\tremaining: 577ms\n",
      "422:\tlearn: 0.1408996\ttotal: 422ms\tremaining: 576ms\n",
      "423:\tlearn: 0.1405992\ttotal: 423ms\tremaining: 575ms\n",
      "424:\tlearn: 0.1404058\ttotal: 424ms\tremaining: 574ms\n",
      "425:\tlearn: 0.1401872\ttotal: 425ms\tremaining: 573ms\n",
      "426:\tlearn: 0.1399050\ttotal: 426ms\tremaining: 571ms\n",
      "427:\tlearn: 0.1396754\ttotal: 426ms\tremaining: 570ms\n",
      "428:\tlearn: 0.1392972\ttotal: 427ms\tremaining: 569ms\n",
      "429:\tlearn: 0.1392607\ttotal: 428ms\tremaining: 568ms\n",
      "430:\tlearn: 0.1389207\ttotal: 429ms\tremaining: 566ms\n",
      "431:\tlearn: 0.1387611\ttotal: 430ms\tremaining: 565ms\n",
      "432:\tlearn: 0.1384250\ttotal: 431ms\tremaining: 564ms\n",
      "433:\tlearn: 0.1382724\ttotal: 432ms\tremaining: 563ms\n",
      "434:\tlearn: 0.1379603\ttotal: 432ms\tremaining: 562ms\n",
      "435:\tlearn: 0.1376957\ttotal: 433ms\tremaining: 560ms\n",
      "436:\tlearn: 0.1375815\ttotal: 434ms\tremaining: 559ms\n",
      "437:\tlearn: 0.1374164\ttotal: 435ms\tremaining: 558ms\n",
      "438:\tlearn: 0.1371860\ttotal: 436ms\tremaining: 557ms\n",
      "439:\tlearn: 0.1369719\ttotal: 437ms\tremaining: 556ms\n",
      "440:\tlearn: 0.1368292\ttotal: 438ms\tremaining: 555ms\n",
      "441:\tlearn: 0.1364179\ttotal: 438ms\tremaining: 554ms\n",
      "442:\tlearn: 0.1363328\ttotal: 439ms\tremaining: 552ms\n",
      "443:\tlearn: 0.1361877\ttotal: 440ms\tremaining: 551ms\n",
      "444:\tlearn: 0.1359160\ttotal: 441ms\tremaining: 550ms\n",
      "445:\tlearn: 0.1356254\ttotal: 442ms\tremaining: 549ms\n",
      "446:\tlearn: 0.1352290\ttotal: 443ms\tremaining: 547ms\n",
      "447:\tlearn: 0.1349825\ttotal: 443ms\tremaining: 546ms\n",
      "448:\tlearn: 0.1346372\ttotal: 444ms\tremaining: 545ms\n",
      "449:\tlearn: 0.1343363\ttotal: 445ms\tremaining: 544ms\n",
      "450:\tlearn: 0.1341009\ttotal: 446ms\tremaining: 543ms\n",
      "451:\tlearn: 0.1338543\ttotal: 447ms\tremaining: 542ms\n",
      "452:\tlearn: 0.1337040\ttotal: 448ms\tremaining: 541ms\n",
      "453:\tlearn: 0.1334309\ttotal: 449ms\tremaining: 540ms\n",
      "454:\tlearn: 0.1331409\ttotal: 450ms\tremaining: 538ms\n",
      "455:\tlearn: 0.1329883\ttotal: 450ms\tremaining: 537ms\n",
      "456:\tlearn: 0.1329568\ttotal: 451ms\tremaining: 536ms\n",
      "457:\tlearn: 0.1327466\ttotal: 452ms\tremaining: 535ms\n",
      "458:\tlearn: 0.1326269\ttotal: 453ms\tremaining: 534ms\n",
      "459:\tlearn: 0.1326060\ttotal: 454ms\tremaining: 533ms\n",
      "460:\tlearn: 0.1324310\ttotal: 455ms\tremaining: 532ms\n",
      "461:\tlearn: 0.1321225\ttotal: 456ms\tremaining: 531ms\n",
      "462:\tlearn: 0.1319562\ttotal: 457ms\tremaining: 530ms\n",
      "463:\tlearn: 0.1315682\ttotal: 457ms\tremaining: 528ms\n",
      "464:\tlearn: 0.1314337\ttotal: 458ms\tremaining: 527ms\n",
      "465:\tlearn: 0.1312199\ttotal: 459ms\tremaining: 526ms\n",
      "466:\tlearn: 0.1310383\ttotal: 460ms\tremaining: 525ms\n",
      "467:\tlearn: 0.1307881\ttotal: 460ms\tremaining: 523ms\n",
      "468:\tlearn: 0.1305596\ttotal: 461ms\tremaining: 522ms\n",
      "469:\tlearn: 0.1303096\ttotal: 462ms\tremaining: 521ms\n",
      "470:\tlearn: 0.1300186\ttotal: 463ms\tremaining: 520ms\n",
      "471:\tlearn: 0.1297867\ttotal: 464ms\tremaining: 519ms\n",
      "472:\tlearn: 0.1295300\ttotal: 464ms\tremaining: 517ms\n",
      "473:\tlearn: 0.1294405\ttotal: 465ms\tremaining: 516ms\n",
      "474:\tlearn: 0.1292908\ttotal: 466ms\tremaining: 515ms\n",
      "475:\tlearn: 0.1291490\ttotal: 467ms\tremaining: 514ms\n",
      "476:\tlearn: 0.1291058\ttotal: 468ms\tremaining: 513ms\n",
      "477:\tlearn: 0.1288417\ttotal: 469ms\tremaining: 512ms\n",
      "478:\tlearn: 0.1288216\ttotal: 469ms\tremaining: 511ms\n",
      "479:\tlearn: 0.1286734\ttotal: 470ms\tremaining: 509ms\n",
      "480:\tlearn: 0.1286561\ttotal: 471ms\tremaining: 508ms\n",
      "481:\tlearn: 0.1283509\ttotal: 472ms\tremaining: 507ms\n",
      "482:\tlearn: 0.1280740\ttotal: 473ms\tremaining: 506ms\n",
      "483:\tlearn: 0.1280550\ttotal: 473ms\tremaining: 505ms\n",
      "484:\tlearn: 0.1278127\ttotal: 474ms\tremaining: 504ms\n",
      "485:\tlearn: 0.1276041\ttotal: 475ms\tremaining: 502ms\n",
      "486:\tlearn: 0.1272361\ttotal: 476ms\tremaining: 501ms\n",
      "487:\tlearn: 0.1271237\ttotal: 477ms\tremaining: 500ms\n",
      "488:\tlearn: 0.1270174\ttotal: 478ms\tremaining: 499ms\n",
      "489:\tlearn: 0.1269269\ttotal: 479ms\tremaining: 498ms\n",
      "490:\tlearn: 0.1266643\ttotal: 479ms\tremaining: 497ms\n",
      "491:\tlearn: 0.1263515\ttotal: 480ms\tremaining: 496ms\n",
      "492:\tlearn: 0.1261244\ttotal: 481ms\tremaining: 495ms\n",
      "493:\tlearn: 0.1259903\ttotal: 482ms\tremaining: 493ms\n",
      "494:\tlearn: 0.1257942\ttotal: 482ms\tremaining: 492ms\n",
      "495:\tlearn: 0.1255062\ttotal: 483ms\tremaining: 491ms\n",
      "496:\tlearn: 0.1253337\ttotal: 484ms\tremaining: 490ms\n",
      "497:\tlearn: 0.1250381\ttotal: 485ms\tremaining: 489ms\n",
      "498:\tlearn: 0.1248076\ttotal: 486ms\tremaining: 488ms\n",
      "499:\tlearn: 0.1246114\ttotal: 487ms\tremaining: 487ms\n"
     ]
    },
    {
     "name": "stdout",
     "output_type": "stream",
     "text": [
      "500:\tlearn: 0.1244223\ttotal: 488ms\tremaining: 486ms\n",
      "501:\tlearn: 0.1243884\ttotal: 489ms\tremaining: 485ms\n",
      "502:\tlearn: 0.1241588\ttotal: 490ms\tremaining: 484ms\n",
      "503:\tlearn: 0.1238839\ttotal: 491ms\tremaining: 483ms\n",
      "504:\tlearn: 0.1238639\ttotal: 492ms\tremaining: 482ms\n",
      "505:\tlearn: 0.1235263\ttotal: 492ms\tremaining: 481ms\n",
      "506:\tlearn: 0.1233342\ttotal: 493ms\tremaining: 480ms\n",
      "507:\tlearn: 0.1231585\ttotal: 495ms\tremaining: 479ms\n",
      "508:\tlearn: 0.1229680\ttotal: 496ms\tremaining: 478ms\n",
      "509:\tlearn: 0.1228640\ttotal: 497ms\tremaining: 477ms\n",
      "510:\tlearn: 0.1225881\ttotal: 498ms\tremaining: 477ms\n",
      "511:\tlearn: 0.1225739\ttotal: 499ms\tremaining: 476ms\n",
      "512:\tlearn: 0.1224520\ttotal: 500ms\tremaining: 475ms\n",
      "513:\tlearn: 0.1221645\ttotal: 501ms\tremaining: 474ms\n",
      "514:\tlearn: 0.1221469\ttotal: 502ms\tremaining: 473ms\n",
      "515:\tlearn: 0.1218471\ttotal: 503ms\tremaining: 472ms\n",
      "516:\tlearn: 0.1218230\ttotal: 504ms\tremaining: 471ms\n",
      "517:\tlearn: 0.1216940\ttotal: 505ms\tremaining: 470ms\n",
      "518:\tlearn: 0.1215892\ttotal: 506ms\tremaining: 469ms\n",
      "519:\tlearn: 0.1213343\ttotal: 507ms\tremaining: 468ms\n",
      "520:\tlearn: 0.1210997\ttotal: 508ms\tremaining: 467ms\n",
      "521:\tlearn: 0.1210184\ttotal: 509ms\tremaining: 466ms\n",
      "522:\tlearn: 0.1208912\ttotal: 510ms\tremaining: 465ms\n",
      "523:\tlearn: 0.1207677\ttotal: 511ms\tremaining: 464ms\n",
      "524:\tlearn: 0.1206523\ttotal: 514ms\tremaining: 465ms\n",
      "525:\tlearn: 0.1205691\ttotal: 517ms\tremaining: 466ms\n",
      "526:\tlearn: 0.1204485\ttotal: 519ms\tremaining: 466ms\n",
      "527:\tlearn: 0.1203862\ttotal: 521ms\tremaining: 466ms\n",
      "528:\tlearn: 0.1203646\ttotal: 523ms\tremaining: 465ms\n",
      "529:\tlearn: 0.1200155\ttotal: 525ms\tremaining: 466ms\n",
      "530:\tlearn: 0.1198204\ttotal: 527ms\tremaining: 466ms\n",
      "531:\tlearn: 0.1196106\ttotal: 530ms\tremaining: 466ms\n",
      "532:\tlearn: 0.1193146\ttotal: 533ms\tremaining: 467ms\n",
      "533:\tlearn: 0.1191698\ttotal: 534ms\tremaining: 466ms\n",
      "534:\tlearn: 0.1190314\ttotal: 535ms\tremaining: 465ms\n",
      "535:\tlearn: 0.1186745\ttotal: 536ms\tremaining: 464ms\n",
      "536:\tlearn: 0.1184345\ttotal: 537ms\tremaining: 463ms\n",
      "537:\tlearn: 0.1182816\ttotal: 540ms\tremaining: 463ms\n",
      "538:\tlearn: 0.1180643\ttotal: 542ms\tremaining: 463ms\n",
      "539:\tlearn: 0.1177031\ttotal: 543ms\tremaining: 463ms\n",
      "540:\tlearn: 0.1175126\ttotal: 544ms\tremaining: 462ms\n",
      "541:\tlearn: 0.1172505\ttotal: 545ms\tremaining: 461ms\n",
      "542:\tlearn: 0.1171089\ttotal: 546ms\tremaining: 460ms\n",
      "543:\tlearn: 0.1169700\ttotal: 547ms\tremaining: 458ms\n",
      "544:\tlearn: 0.1167863\ttotal: 548ms\tremaining: 457ms\n",
      "545:\tlearn: 0.1165640\ttotal: 549ms\tremaining: 456ms\n",
      "546:\tlearn: 0.1165419\ttotal: 549ms\tremaining: 455ms\n",
      "547:\tlearn: 0.1162776\ttotal: 550ms\tremaining: 454ms\n",
      "548:\tlearn: 0.1162553\ttotal: 551ms\tremaining: 453ms\n",
      "549:\tlearn: 0.1159627\ttotal: 552ms\tremaining: 452ms\n",
      "550:\tlearn: 0.1157677\ttotal: 553ms\tremaining: 450ms\n",
      "551:\tlearn: 0.1156119\ttotal: 554ms\tremaining: 449ms\n",
      "552:\tlearn: 0.1155989\ttotal: 555ms\tremaining: 448ms\n",
      "553:\tlearn: 0.1153186\ttotal: 556ms\tremaining: 447ms\n",
      "554:\tlearn: 0.1151895\ttotal: 557ms\tremaining: 446ms\n",
      "555:\tlearn: 0.1148703\ttotal: 558ms\tremaining: 445ms\n",
      "556:\tlearn: 0.1145733\ttotal: 559ms\tremaining: 444ms\n",
      "557:\tlearn: 0.1143909\ttotal: 560ms\tremaining: 443ms\n",
      "558:\tlearn: 0.1141593\ttotal: 560ms\tremaining: 442ms\n",
      "559:\tlearn: 0.1139802\ttotal: 561ms\tremaining: 441ms\n",
      "560:\tlearn: 0.1137524\ttotal: 562ms\tremaining: 440ms\n",
      "561:\tlearn: 0.1137308\ttotal: 563ms\tremaining: 439ms\n",
      "562:\tlearn: 0.1137086\ttotal: 564ms\tremaining: 437ms\n",
      "563:\tlearn: 0.1135399\ttotal: 564ms\tremaining: 436ms\n",
      "564:\tlearn: 0.1134178\ttotal: 565ms\tremaining: 435ms\n",
      "565:\tlearn: 0.1131916\ttotal: 566ms\tremaining: 434ms\n",
      "566:\tlearn: 0.1129856\ttotal: 567ms\tremaining: 433ms\n",
      "567:\tlearn: 0.1128444\ttotal: 568ms\tremaining: 432ms\n",
      "568:\tlearn: 0.1128095\ttotal: 568ms\tremaining: 431ms\n",
      "569:\tlearn: 0.1124944\ttotal: 569ms\tremaining: 429ms\n"
     ]
    },
    {
     "name": "stdout",
     "output_type": "stream",
     "text": [
      "570:\tlearn: 0.1123591\ttotal: 570ms\tremaining: 428ms\n",
      "571:\tlearn: 0.1122978\ttotal: 571ms\tremaining: 427ms\n",
      "572:\tlearn: 0.1122165\ttotal: 572ms\tremaining: 426ms\n",
      "573:\tlearn: 0.1120405\ttotal: 573ms\tremaining: 425ms\n",
      "574:\tlearn: 0.1120190\ttotal: 574ms\tremaining: 424ms\n",
      "575:\tlearn: 0.1117945\ttotal: 575ms\tremaining: 423ms\n",
      "576:\tlearn: 0.1116507\ttotal: 576ms\tremaining: 422ms\n",
      "577:\tlearn: 0.1115836\ttotal: 576ms\tremaining: 421ms\n",
      "578:\tlearn: 0.1114106\ttotal: 577ms\tremaining: 420ms\n",
      "579:\tlearn: 0.1112363\ttotal: 578ms\tremaining: 419ms\n",
      "580:\tlearn: 0.1109728\ttotal: 579ms\tremaining: 417ms\n",
      "581:\tlearn: 0.1109576\ttotal: 580ms\tremaining: 416ms\n",
      "582:\tlearn: 0.1107944\ttotal: 580ms\tremaining: 415ms\n",
      "583:\tlearn: 0.1106308\ttotal: 581ms\tremaining: 414ms\n",
      "584:\tlearn: 0.1103772\ttotal: 582ms\tremaining: 413ms\n",
      "585:\tlearn: 0.1102091\ttotal: 583ms\tremaining: 412ms\n",
      "586:\tlearn: 0.1101789\ttotal: 584ms\tremaining: 411ms\n",
      "587:\tlearn: 0.1100056\ttotal: 585ms\tremaining: 410ms\n",
      "588:\tlearn: 0.1097924\ttotal: 586ms\tremaining: 409ms\n",
      "589:\tlearn: 0.1096767\ttotal: 586ms\tremaining: 408ms\n",
      "590:\tlearn: 0.1096584\ttotal: 587ms\tremaining: 406ms\n",
      "591:\tlearn: 0.1094190\ttotal: 588ms\tremaining: 405ms\n",
      "592:\tlearn: 0.1092633\ttotal: 589ms\tremaining: 404ms\n",
      "593:\tlearn: 0.1091329\ttotal: 590ms\tremaining: 403ms\n",
      "594:\tlearn: 0.1089847\ttotal: 590ms\tremaining: 402ms\n",
      "595:\tlearn: 0.1088704\ttotal: 591ms\tremaining: 401ms\n",
      "596:\tlearn: 0.1086805\ttotal: 592ms\tremaining: 400ms\n",
      "597:\tlearn: 0.1085113\ttotal: 593ms\tremaining: 399ms\n",
      "598:\tlearn: 0.1084109\ttotal: 594ms\tremaining: 397ms\n",
      "599:\tlearn: 0.1083059\ttotal: 595ms\tremaining: 396ms\n",
      "600:\tlearn: 0.1081602\ttotal: 595ms\tremaining: 395ms\n",
      "601:\tlearn: 0.1080559\ttotal: 596ms\tremaining: 394ms\n",
      "602:\tlearn: 0.1078276\ttotal: 597ms\tremaining: 393ms\n",
      "603:\tlearn: 0.1077384\ttotal: 598ms\tremaining: 392ms\n",
      "604:\tlearn: 0.1075059\ttotal: 599ms\tremaining: 391ms\n",
      "605:\tlearn: 0.1074273\ttotal: 599ms\tremaining: 390ms\n",
      "606:\tlearn: 0.1073870\ttotal: 600ms\tremaining: 389ms\n",
      "607:\tlearn: 0.1072317\ttotal: 601ms\tremaining: 387ms\n",
      "608:\tlearn: 0.1071400\ttotal: 602ms\tremaining: 386ms\n",
      "609:\tlearn: 0.1070285\ttotal: 602ms\tremaining: 385ms\n",
      "610:\tlearn: 0.1068327\ttotal: 603ms\tremaining: 384ms\n",
      "611:\tlearn: 0.1066882\ttotal: 604ms\tremaining: 383ms\n",
      "612:\tlearn: 0.1065703\ttotal: 605ms\tremaining: 382ms\n",
      "613:\tlearn: 0.1064774\ttotal: 606ms\tremaining: 381ms\n",
      "614:\tlearn: 0.1062952\ttotal: 606ms\tremaining: 380ms\n",
      "615:\tlearn: 0.1061292\ttotal: 607ms\tremaining: 379ms\n",
      "616:\tlearn: 0.1060130\ttotal: 608ms\tremaining: 378ms\n",
      "617:\tlearn: 0.1059049\ttotal: 609ms\tremaining: 376ms\n",
      "618:\tlearn: 0.1056560\ttotal: 610ms\tremaining: 375ms\n",
      "619:\tlearn: 0.1056382\ttotal: 611ms\tremaining: 374ms\n",
      "620:\tlearn: 0.1055196\ttotal: 611ms\tremaining: 373ms\n",
      "621:\tlearn: 0.1053346\ttotal: 612ms\tremaining: 372ms\n",
      "622:\tlearn: 0.1050960\ttotal: 613ms\tremaining: 371ms\n",
      "623:\tlearn: 0.1048931\ttotal: 614ms\tremaining: 370ms\n",
      "624:\tlearn: 0.1046360\ttotal: 615ms\tremaining: 369ms\n",
      "625:\tlearn: 0.1044020\ttotal: 615ms\tremaining: 368ms\n",
      "626:\tlearn: 0.1041182\ttotal: 616ms\tremaining: 367ms\n",
      "627:\tlearn: 0.1040997\ttotal: 617ms\tremaining: 365ms\n",
      "628:\tlearn: 0.1038654\ttotal: 618ms\tremaining: 364ms\n",
      "629:\tlearn: 0.1037169\ttotal: 619ms\tremaining: 363ms\n",
      "630:\tlearn: 0.1035509\ttotal: 619ms\tremaining: 362ms\n",
      "631:\tlearn: 0.1033715\ttotal: 620ms\tremaining: 361ms\n",
      "632:\tlearn: 0.1032292\ttotal: 621ms\tremaining: 360ms\n",
      "633:\tlearn: 0.1029394\ttotal: 622ms\tremaining: 359ms\n",
      "634:\tlearn: 0.1027081\ttotal: 623ms\tremaining: 358ms\n",
      "635:\tlearn: 0.1025610\ttotal: 624ms\tremaining: 357ms\n",
      "636:\tlearn: 0.1024927\ttotal: 624ms\tremaining: 356ms\n",
      "637:\tlearn: 0.1022906\ttotal: 625ms\tremaining: 355ms\n",
      "638:\tlearn: 0.1020362\ttotal: 626ms\tremaining: 354ms\n",
      "639:\tlearn: 0.1018239\ttotal: 627ms\tremaining: 353ms\n",
      "640:\tlearn: 0.1016272\ttotal: 628ms\tremaining: 352ms\n",
      "641:\tlearn: 0.1016098\ttotal: 628ms\tremaining: 350ms\n",
      "642:\tlearn: 0.1014002\ttotal: 629ms\tremaining: 349ms\n",
      "643:\tlearn: 0.1012220\ttotal: 630ms\tremaining: 348ms\n",
      "644:\tlearn: 0.1011344\ttotal: 631ms\tremaining: 347ms\n",
      "645:\tlearn: 0.1009469\ttotal: 632ms\tremaining: 346ms\n",
      "646:\tlearn: 0.1008067\ttotal: 633ms\tremaining: 345ms\n",
      "647:\tlearn: 0.1005974\ttotal: 633ms\tremaining: 344ms\n",
      "648:\tlearn: 0.1004159\ttotal: 634ms\tremaining: 343ms\n",
      "649:\tlearn: 0.1002731\ttotal: 635ms\tremaining: 342ms\n",
      "650:\tlearn: 0.1000136\ttotal: 636ms\tremaining: 341ms\n",
      "651:\tlearn: 0.0998719\ttotal: 637ms\tremaining: 340ms\n",
      "652:\tlearn: 0.0996358\ttotal: 638ms\tremaining: 339ms\n",
      "653:\tlearn: 0.0994212\ttotal: 639ms\tremaining: 338ms\n",
      "654:\tlearn: 0.0992104\ttotal: 640ms\tremaining: 337ms\n",
      "655:\tlearn: 0.0990113\ttotal: 641ms\tremaining: 336ms\n",
      "656:\tlearn: 0.0989110\ttotal: 642ms\tremaining: 335ms\n",
      "657:\tlearn: 0.0988948\ttotal: 642ms\tremaining: 334ms\n",
      "658:\tlearn: 0.0987588\ttotal: 644ms\tremaining: 333ms\n",
      "659:\tlearn: 0.0985265\ttotal: 645ms\tremaining: 332ms\n",
      "660:\tlearn: 0.0983849\ttotal: 645ms\tremaining: 331ms\n",
      "661:\tlearn: 0.0982629\ttotal: 646ms\tremaining: 330ms\n",
      "662:\tlearn: 0.0981747\ttotal: 647ms\tremaining: 329ms\n",
      "663:\tlearn: 0.0980517\ttotal: 648ms\tremaining: 328ms\n",
      "664:\tlearn: 0.0978233\ttotal: 649ms\tremaining: 327ms\n",
      "665:\tlearn: 0.0977181\ttotal: 650ms\tremaining: 326ms\n",
      "666:\tlearn: 0.0975353\ttotal: 650ms\tremaining: 325ms\n",
      "667:\tlearn: 0.0973293\ttotal: 651ms\tremaining: 324ms\n",
      "668:\tlearn: 0.0972390\ttotal: 652ms\tremaining: 322ms\n",
      "669:\tlearn: 0.0969525\ttotal: 653ms\tremaining: 321ms\n",
      "670:\tlearn: 0.0967479\ttotal: 653ms\tremaining: 320ms\n",
      "671:\tlearn: 0.0965118\ttotal: 654ms\tremaining: 319ms\n",
      "672:\tlearn: 0.0962306\ttotal: 655ms\tremaining: 318ms\n",
      "673:\tlearn: 0.0960323\ttotal: 656ms\tremaining: 317ms\n",
      "674:\tlearn: 0.0958570\ttotal: 657ms\tremaining: 316ms\n",
      "675:\tlearn: 0.0956448\ttotal: 657ms\tremaining: 315ms\n",
      "676:\tlearn: 0.0955863\ttotal: 658ms\tremaining: 314ms\n",
      "677:\tlearn: 0.0953875\ttotal: 659ms\tremaining: 313ms\n",
      "678:\tlearn: 0.0952329\ttotal: 660ms\tremaining: 312ms\n",
      "679:\tlearn: 0.0951382\ttotal: 661ms\tremaining: 311ms\n",
      "680:\tlearn: 0.0949451\ttotal: 662ms\tremaining: 310ms\n",
      "681:\tlearn: 0.0949297\ttotal: 662ms\tremaining: 309ms\n",
      "682:\tlearn: 0.0949100\ttotal: 663ms\tremaining: 308ms\n",
      "683:\tlearn: 0.0947113\ttotal: 664ms\tremaining: 307ms\n",
      "684:\tlearn: 0.0945075\ttotal: 665ms\tremaining: 306ms\n",
      "685:\tlearn: 0.0943863\ttotal: 667ms\tremaining: 305ms\n",
      "686:\tlearn: 0.0941170\ttotal: 667ms\tremaining: 304ms\n",
      "687:\tlearn: 0.0940524\ttotal: 668ms\tremaining: 303ms\n",
      "688:\tlearn: 0.0940436\ttotal: 670ms\tremaining: 302ms\n",
      "689:\tlearn: 0.0940270\ttotal: 670ms\tremaining: 301ms\n",
      "690:\tlearn: 0.0938595\ttotal: 671ms\tremaining: 300ms\n",
      "691:\tlearn: 0.0936874\ttotal: 672ms\tremaining: 299ms\n",
      "692:\tlearn: 0.0935151\ttotal: 673ms\tremaining: 298ms\n",
      "693:\tlearn: 0.0934257\ttotal: 674ms\tremaining: 297ms\n",
      "694:\tlearn: 0.0932107\ttotal: 674ms\tremaining: 296ms\n",
      "695:\tlearn: 0.0931933\ttotal: 675ms\tremaining: 295ms\n",
      "696:\tlearn: 0.0930858\ttotal: 676ms\tremaining: 294ms\n"
     ]
    },
    {
     "name": "stdout",
     "output_type": "stream",
     "text": [
      "697:\tlearn: 0.0929760\ttotal: 677ms\tremaining: 293ms\n",
      "698:\tlearn: 0.0928251\ttotal: 678ms\tremaining: 292ms\n",
      "699:\tlearn: 0.0926657\ttotal: 679ms\tremaining: 291ms\n",
      "700:\tlearn: 0.0924836\ttotal: 680ms\tremaining: 290ms\n",
      "701:\tlearn: 0.0923518\ttotal: 681ms\tremaining: 289ms\n",
      "702:\tlearn: 0.0921483\ttotal: 682ms\tremaining: 288ms\n",
      "703:\tlearn: 0.0920340\ttotal: 683ms\tremaining: 287ms\n",
      "704:\tlearn: 0.0918150\ttotal: 684ms\tremaining: 286ms\n",
      "705:\tlearn: 0.0916541\ttotal: 684ms\tremaining: 285ms\n",
      "706:\tlearn: 0.0914978\ttotal: 685ms\tremaining: 284ms\n",
      "707:\tlearn: 0.0914128\ttotal: 686ms\tremaining: 283ms\n",
      "708:\tlearn: 0.0912100\ttotal: 687ms\tremaining: 282ms\n",
      "709:\tlearn: 0.0909778\ttotal: 688ms\tremaining: 281ms\n",
      "710:\tlearn: 0.0908351\ttotal: 688ms\tremaining: 280ms\n",
      "711:\tlearn: 0.0908190\ttotal: 689ms\tremaining: 279ms\n",
      "712:\tlearn: 0.0905981\ttotal: 690ms\tremaining: 278ms\n",
      "713:\tlearn: 0.0904144\ttotal: 691ms\tremaining: 277ms\n",
      "714:\tlearn: 0.0901858\ttotal: 692ms\tremaining: 276ms\n",
      "715:\tlearn: 0.0900933\ttotal: 693ms\tremaining: 275ms\n",
      "716:\tlearn: 0.0898966\ttotal: 693ms\tremaining: 274ms\n",
      "717:\tlearn: 0.0897826\ttotal: 694ms\tremaining: 273ms\n",
      "718:\tlearn: 0.0896305\ttotal: 695ms\tremaining: 272ms\n",
      "719:\tlearn: 0.0895362\ttotal: 696ms\tremaining: 271ms\n",
      "720:\tlearn: 0.0894515\ttotal: 697ms\tremaining: 270ms\n",
      "721:\tlearn: 0.0893039\ttotal: 697ms\tremaining: 269ms\n",
      "722:\tlearn: 0.0891624\ttotal: 698ms\tremaining: 268ms\n",
      "723:\tlearn: 0.0890339\ttotal: 699ms\tremaining: 267ms\n",
      "724:\tlearn: 0.0888290\ttotal: 700ms\tremaining: 266ms\n",
      "725:\tlearn: 0.0886549\ttotal: 701ms\tremaining: 265ms\n",
      "726:\tlearn: 0.0885938\ttotal: 702ms\tremaining: 264ms\n",
      "727:\tlearn: 0.0884659\ttotal: 703ms\tremaining: 263ms\n",
      "728:\tlearn: 0.0882936\ttotal: 704ms\tremaining: 262ms\n",
      "729:\tlearn: 0.0881043\ttotal: 704ms\tremaining: 261ms\n",
      "730:\tlearn: 0.0879607\ttotal: 705ms\tremaining: 260ms\n",
      "731:\tlearn: 0.0878019\ttotal: 706ms\tremaining: 259ms\n",
      "732:\tlearn: 0.0876979\ttotal: 707ms\tremaining: 258ms\n",
      "733:\tlearn: 0.0876191\ttotal: 708ms\tremaining: 257ms\n",
      "734:\tlearn: 0.0875345\ttotal: 709ms\tremaining: 255ms\n",
      "735:\tlearn: 0.0874868\ttotal: 709ms\tremaining: 254ms\n",
      "736:\tlearn: 0.0873369\ttotal: 710ms\tremaining: 253ms\n",
      "737:\tlearn: 0.0872787\ttotal: 711ms\tremaining: 252ms\n",
      "738:\tlearn: 0.0870975\ttotal: 712ms\tremaining: 251ms\n",
      "739:\tlearn: 0.0869241\ttotal: 712ms\tremaining: 250ms\n",
      "740:\tlearn: 0.0867205\ttotal: 713ms\tremaining: 249ms\n",
      "741:\tlearn: 0.0865908\ttotal: 714ms\tremaining: 248ms\n",
      "742:\tlearn: 0.0865038\ttotal: 715ms\tremaining: 247ms\n",
      "743:\tlearn: 0.0862431\ttotal: 716ms\tremaining: 246ms\n",
      "744:\tlearn: 0.0861945\ttotal: 717ms\tremaining: 245ms\n",
      "745:\tlearn: 0.0861001\ttotal: 717ms\tremaining: 244ms\n",
      "746:\tlearn: 0.0859750\ttotal: 718ms\tremaining: 243ms\n",
      "747:\tlearn: 0.0858055\ttotal: 719ms\tremaining: 242ms\n",
      "748:\tlearn: 0.0857037\ttotal: 720ms\tremaining: 241ms\n",
      "749:\tlearn: 0.0855870\ttotal: 720ms\tremaining: 240ms\n",
      "750:\tlearn: 0.0855413\ttotal: 721ms\tremaining: 239ms\n",
      "751:\tlearn: 0.0854622\ttotal: 722ms\tremaining: 238ms\n",
      "752:\tlearn: 0.0853549\ttotal: 723ms\tremaining: 237ms\n",
      "753:\tlearn: 0.0851929\ttotal: 724ms\tremaining: 236ms\n",
      "754:\tlearn: 0.0850350\ttotal: 724ms\tremaining: 235ms\n",
      "755:\tlearn: 0.0848754\ttotal: 725ms\tremaining: 234ms\n",
      "756:\tlearn: 0.0848029\ttotal: 726ms\tremaining: 233ms\n",
      "757:\tlearn: 0.0847001\ttotal: 727ms\tremaining: 232ms\n",
      "758:\tlearn: 0.0846333\ttotal: 728ms\tremaining: 231ms\n",
      "759:\tlearn: 0.0845173\ttotal: 729ms\tremaining: 230ms\n",
      "760:\tlearn: 0.0843497\ttotal: 730ms\tremaining: 229ms\n",
      "761:\tlearn: 0.0841586\ttotal: 730ms\tremaining: 228ms\n",
      "762:\tlearn: 0.0840639\ttotal: 731ms\tremaining: 227ms\n",
      "763:\tlearn: 0.0839948\ttotal: 732ms\tremaining: 226ms\n",
      "764:\tlearn: 0.0837821\ttotal: 732ms\tremaining: 225ms\n",
      "765:\tlearn: 0.0836245\ttotal: 733ms\tremaining: 224ms\n",
      "766:\tlearn: 0.0835691\ttotal: 734ms\tremaining: 223ms\n",
      "767:\tlearn: 0.0833897\ttotal: 735ms\tremaining: 222ms\n",
      "768:\tlearn: 0.0832350\ttotal: 736ms\tremaining: 221ms\n",
      "769:\tlearn: 0.0831078\ttotal: 737ms\tremaining: 220ms\n",
      "770:\tlearn: 0.0829125\ttotal: 738ms\tremaining: 219ms\n",
      "771:\tlearn: 0.0826698\ttotal: 738ms\tremaining: 218ms\n",
      "772:\tlearn: 0.0825163\ttotal: 739ms\tremaining: 217ms\n",
      "773:\tlearn: 0.0823120\ttotal: 740ms\tremaining: 216ms\n",
      "774:\tlearn: 0.0822192\ttotal: 741ms\tremaining: 215ms\n",
      "775:\tlearn: 0.0820574\ttotal: 742ms\tremaining: 214ms\n",
      "776:\tlearn: 0.0819490\ttotal: 743ms\tremaining: 213ms\n",
      "777:\tlearn: 0.0818820\ttotal: 744ms\tremaining: 212ms\n",
      "778:\tlearn: 0.0817277\ttotal: 744ms\tremaining: 211ms\n",
      "779:\tlearn: 0.0816268\ttotal: 745ms\tremaining: 210ms\n",
      "780:\tlearn: 0.0815168\ttotal: 746ms\tremaining: 209ms\n",
      "781:\tlearn: 0.0814218\ttotal: 747ms\tremaining: 208ms\n",
      "782:\tlearn: 0.0812945\ttotal: 748ms\tremaining: 207ms\n",
      "783:\tlearn: 0.0811296\ttotal: 748ms\tremaining: 206ms\n",
      "784:\tlearn: 0.0810185\ttotal: 749ms\tremaining: 205ms\n",
      "785:\tlearn: 0.0809324\ttotal: 750ms\tremaining: 204ms\n",
      "786:\tlearn: 0.0807683\ttotal: 751ms\tremaining: 203ms\n",
      "787:\tlearn: 0.0806669\ttotal: 752ms\tremaining: 202ms\n",
      "788:\tlearn: 0.0805620\ttotal: 753ms\tremaining: 201ms\n",
      "789:\tlearn: 0.0804207\ttotal: 753ms\tremaining: 200ms\n",
      "790:\tlearn: 0.0803549\ttotal: 754ms\tremaining: 199ms\n",
      "791:\tlearn: 0.0801738\ttotal: 755ms\tremaining: 198ms\n",
      "792:\tlearn: 0.0800674\ttotal: 756ms\tremaining: 197ms\n",
      "793:\tlearn: 0.0799380\ttotal: 757ms\tremaining: 196ms\n",
      "794:\tlearn: 0.0798633\ttotal: 757ms\tremaining: 195ms\n",
      "795:\tlearn: 0.0797271\ttotal: 758ms\tremaining: 194ms\n",
      "796:\tlearn: 0.0795125\ttotal: 759ms\tremaining: 193ms\n",
      "797:\tlearn: 0.0794682\ttotal: 760ms\tremaining: 192ms\n"
     ]
    },
    {
     "name": "stdout",
     "output_type": "stream",
     "text": [
      "798:\tlearn: 0.0793184\ttotal: 761ms\tremaining: 191ms\n",
      "799:\tlearn: 0.0791772\ttotal: 762ms\tremaining: 190ms\n",
      "800:\tlearn: 0.0790277\ttotal: 762ms\tremaining: 189ms\n",
      "801:\tlearn: 0.0790138\ttotal: 763ms\tremaining: 188ms\n",
      "802:\tlearn: 0.0788719\ttotal: 765ms\tremaining: 188ms\n",
      "803:\tlearn: 0.0786605\ttotal: 765ms\tremaining: 187ms\n",
      "804:\tlearn: 0.0785331\ttotal: 766ms\tremaining: 186ms\n",
      "805:\tlearn: 0.0784281\ttotal: 767ms\tremaining: 185ms\n",
      "806:\tlearn: 0.0782867\ttotal: 768ms\tremaining: 184ms\n",
      "807:\tlearn: 0.0781455\ttotal: 769ms\tremaining: 183ms\n",
      "808:\tlearn: 0.0780043\ttotal: 770ms\tremaining: 182ms\n",
      "809:\tlearn: 0.0779849\ttotal: 771ms\tremaining: 181ms\n",
      "810:\tlearn: 0.0779221\ttotal: 771ms\tremaining: 180ms\n",
      "811:\tlearn: 0.0778324\ttotal: 772ms\tremaining: 179ms\n",
      "812:\tlearn: 0.0776999\ttotal: 773ms\tremaining: 178ms\n",
      "813:\tlearn: 0.0775285\ttotal: 774ms\tremaining: 177ms\n",
      "814:\tlearn: 0.0774291\ttotal: 774ms\tremaining: 176ms\n",
      "815:\tlearn: 0.0772891\ttotal: 775ms\tremaining: 175ms\n",
      "816:\tlearn: 0.0772386\ttotal: 776ms\tremaining: 174ms\n",
      "817:\tlearn: 0.0770926\ttotal: 777ms\tremaining: 173ms\n",
      "818:\tlearn: 0.0769643\ttotal: 778ms\tremaining: 172ms\n",
      "819:\tlearn: 0.0769005\ttotal: 779ms\tremaining: 171ms\n",
      "820:\tlearn: 0.0767767\ttotal: 779ms\tremaining: 170ms\n",
      "821:\tlearn: 0.0766233\ttotal: 780ms\tremaining: 169ms\n",
      "822:\tlearn: 0.0764658\ttotal: 781ms\tremaining: 168ms\n",
      "823:\tlearn: 0.0764167\ttotal: 782ms\tremaining: 167ms\n",
      "824:\tlearn: 0.0763212\ttotal: 783ms\tremaining: 166ms\n",
      "825:\tlearn: 0.0762227\ttotal: 783ms\tremaining: 165ms\n",
      "826:\tlearn: 0.0761324\ttotal: 784ms\tremaining: 164ms\n",
      "827:\tlearn: 0.0760814\ttotal: 785ms\tremaining: 163ms\n",
      "828:\tlearn: 0.0759755\ttotal: 786ms\tremaining: 162ms\n",
      "829:\tlearn: 0.0758513\ttotal: 787ms\tremaining: 161ms\n",
      "830:\tlearn: 0.0756788\ttotal: 788ms\tremaining: 160ms\n",
      "831:\tlearn: 0.0756250\ttotal: 788ms\tremaining: 159ms\n",
      "832:\tlearn: 0.0754490\ttotal: 789ms\tremaining: 158ms\n",
      "833:\tlearn: 0.0753728\ttotal: 790ms\tremaining: 157ms\n",
      "834:\tlearn: 0.0752047\ttotal: 791ms\tremaining: 156ms\n",
      "835:\tlearn: 0.0751499\ttotal: 792ms\tremaining: 155ms\n",
      "836:\tlearn: 0.0750537\ttotal: 792ms\tremaining: 154ms\n",
      "837:\tlearn: 0.0749369\ttotal: 793ms\tremaining: 153ms\n",
      "838:\tlearn: 0.0748678\ttotal: 794ms\tremaining: 152ms\n",
      "839:\tlearn: 0.0747741\ttotal: 795ms\tremaining: 151ms\n",
      "840:\tlearn: 0.0747106\ttotal: 796ms\tremaining: 150ms\n",
      "841:\tlearn: 0.0745967\ttotal: 796ms\tremaining: 149ms\n",
      "842:\tlearn: 0.0744563\ttotal: 797ms\tremaining: 148ms\n",
      "843:\tlearn: 0.0743436\ttotal: 798ms\tremaining: 148ms\n",
      "844:\tlearn: 0.0742453\ttotal: 799ms\tremaining: 147ms\n",
      "845:\tlearn: 0.0741230\ttotal: 800ms\tremaining: 146ms\n",
      "846:\tlearn: 0.0739840\ttotal: 800ms\tremaining: 145ms\n",
      "847:\tlearn: 0.0737978\ttotal: 801ms\tremaining: 144ms\n",
      "848:\tlearn: 0.0736602\ttotal: 802ms\tremaining: 143ms\n",
      "849:\tlearn: 0.0735636\ttotal: 803ms\tremaining: 142ms\n",
      "850:\tlearn: 0.0734296\ttotal: 804ms\tremaining: 141ms\n",
      "851:\tlearn: 0.0733097\ttotal: 804ms\tremaining: 140ms\n",
      "852:\tlearn: 0.0731930\ttotal: 805ms\tremaining: 139ms\n",
      "853:\tlearn: 0.0730703\ttotal: 806ms\tremaining: 138ms\n",
      "854:\tlearn: 0.0730127\ttotal: 807ms\tremaining: 137ms\n",
      "855:\tlearn: 0.0728739\ttotal: 808ms\tremaining: 136ms\n",
      "856:\tlearn: 0.0727595\ttotal: 808ms\tremaining: 135ms\n",
      "857:\tlearn: 0.0727016\ttotal: 809ms\tremaining: 134ms\n",
      "858:\tlearn: 0.0726344\ttotal: 810ms\tremaining: 133ms\n",
      "859:\tlearn: 0.0725360\ttotal: 811ms\tremaining: 132ms\n",
      "860:\tlearn: 0.0724292\ttotal: 812ms\tremaining: 131ms\n",
      "861:\tlearn: 0.0722750\ttotal: 812ms\tremaining: 130ms\n",
      "862:\tlearn: 0.0720827\ttotal: 813ms\tremaining: 129ms\n",
      "863:\tlearn: 0.0719344\ttotal: 814ms\tremaining: 128ms\n",
      "864:\tlearn: 0.0718847\ttotal: 815ms\tremaining: 127ms\n",
      "865:\tlearn: 0.0718047\ttotal: 816ms\tremaining: 126ms\n",
      "866:\tlearn: 0.0716798\ttotal: 817ms\tremaining: 125ms\n",
      "867:\tlearn: 0.0715493\ttotal: 817ms\tremaining: 124ms\n",
      "868:\tlearn: 0.0714269\ttotal: 818ms\tremaining: 123ms\n",
      "869:\tlearn: 0.0712513\ttotal: 819ms\tremaining: 122ms\n",
      "870:\tlearn: 0.0711314\ttotal: 820ms\tremaining: 121ms\n",
      "871:\tlearn: 0.0710643\ttotal: 821ms\tremaining: 120ms\n",
      "872:\tlearn: 0.0708919\ttotal: 821ms\tremaining: 119ms\n",
      "873:\tlearn: 0.0707204\ttotal: 822ms\tremaining: 119ms\n",
      "874:\tlearn: 0.0706188\ttotal: 823ms\tremaining: 118ms\n",
      "875:\tlearn: 0.0704792\ttotal: 824ms\tremaining: 117ms\n",
      "876:\tlearn: 0.0704058\ttotal: 825ms\tremaining: 116ms\n",
      "877:\tlearn: 0.0703244\ttotal: 826ms\tremaining: 115ms\n",
      "878:\tlearn: 0.0702102\ttotal: 827ms\tremaining: 114ms\n",
      "879:\tlearn: 0.0701027\ttotal: 827ms\tremaining: 113ms\n",
      "880:\tlearn: 0.0699169\ttotal: 828ms\tremaining: 112ms\n",
      "881:\tlearn: 0.0698835\ttotal: 829ms\tremaining: 111ms\n",
      "882:\tlearn: 0.0697170\ttotal: 830ms\tremaining: 110ms\n",
      "883:\tlearn: 0.0695602\ttotal: 831ms\tremaining: 109ms\n",
      "884:\tlearn: 0.0694569\ttotal: 832ms\tremaining: 108ms\n",
      "885:\tlearn: 0.0693175\ttotal: 833ms\tremaining: 107ms\n",
      "886:\tlearn: 0.0692451\ttotal: 833ms\tremaining: 106ms\n",
      "887:\tlearn: 0.0691991\ttotal: 834ms\tremaining: 105ms\n",
      "888:\tlearn: 0.0690446\ttotal: 835ms\tremaining: 104ms\n",
      "889:\tlearn: 0.0688689\ttotal: 836ms\tremaining: 103ms\n",
      "890:\tlearn: 0.0687555\ttotal: 837ms\tremaining: 102ms\n",
      "891:\tlearn: 0.0687196\ttotal: 837ms\tremaining: 101ms\n",
      "892:\tlearn: 0.0686291\ttotal: 838ms\tremaining: 100ms\n",
      "893:\tlearn: 0.0684726\ttotal: 839ms\tremaining: 99.5ms\n",
      "894:\tlearn: 0.0683754\ttotal: 840ms\tremaining: 98.5ms\n",
      "895:\tlearn: 0.0682177\ttotal: 841ms\tremaining: 97.6ms\n",
      "896:\tlearn: 0.0681360\ttotal: 841ms\tremaining: 96.6ms\n",
      "897:\tlearn: 0.0680732\ttotal: 842ms\tremaining: 95.7ms\n",
      "898:\tlearn: 0.0679250\ttotal: 843ms\tremaining: 94.7ms\n",
      "899:\tlearn: 0.0678286\ttotal: 844ms\tremaining: 93.8ms\n",
      "900:\tlearn: 0.0676741\ttotal: 845ms\tremaining: 92.8ms\n",
      "901:\tlearn: 0.0676329\ttotal: 845ms\tremaining: 91.9ms\n",
      "902:\tlearn: 0.0675692\ttotal: 846ms\tremaining: 90.9ms\n",
      "903:\tlearn: 0.0674916\ttotal: 847ms\tremaining: 90ms\n",
      "904:\tlearn: 0.0674430\ttotal: 848ms\tremaining: 89ms\n",
      "905:\tlearn: 0.0673546\ttotal: 849ms\tremaining: 88ms\n",
      "906:\tlearn: 0.0673074\ttotal: 849ms\tremaining: 87.1ms\n",
      "907:\tlearn: 0.0672243\ttotal: 850ms\tremaining: 86.2ms\n",
      "908:\tlearn: 0.0672065\ttotal: 851ms\tremaining: 85.2ms\n",
      "909:\tlearn: 0.0671281\ttotal: 852ms\tremaining: 84.3ms\n",
      "910:\tlearn: 0.0670199\ttotal: 853ms\tremaining: 83.3ms\n",
      "911:\tlearn: 0.0668972\ttotal: 853ms\tremaining: 82.3ms\n",
      "912:\tlearn: 0.0668457\ttotal: 854ms\tremaining: 81.4ms\n",
      "913:\tlearn: 0.0667268\ttotal: 855ms\tremaining: 80.4ms\n",
      "914:\tlearn: 0.0666391\ttotal: 856ms\tremaining: 79.5ms\n",
      "915:\tlearn: 0.0665302\ttotal: 856ms\tremaining: 78.5ms\n",
      "916:\tlearn: 0.0664068\ttotal: 857ms\tremaining: 77.6ms\n",
      "917:\tlearn: 0.0663692\ttotal: 858ms\tremaining: 76.7ms\n",
      "918:\tlearn: 0.0663584\ttotal: 859ms\tremaining: 75.7ms\n",
      "919:\tlearn: 0.0663502\ttotal: 860ms\tremaining: 74.8ms\n",
      "920:\tlearn: 0.0662423\ttotal: 861ms\tremaining: 73.8ms\n",
      "921:\tlearn: 0.0661351\ttotal: 862ms\tremaining: 72.9ms\n",
      "922:\tlearn: 0.0661264\ttotal: 862ms\tremaining: 71.9ms\n",
      "923:\tlearn: 0.0660332\ttotal: 863ms\tremaining: 71ms\n",
      "924:\tlearn: 0.0659546\ttotal: 864ms\tremaining: 70ms\n",
      "925:\tlearn: 0.0659044\ttotal: 865ms\tremaining: 69.1ms\n",
      "926:\tlearn: 0.0657853\ttotal: 866ms\tremaining: 68.2ms\n",
      "927:\tlearn: 0.0657056\ttotal: 866ms\tremaining: 67.2ms\n",
      "928:\tlearn: 0.0655744\ttotal: 867ms\tremaining: 66.3ms\n"
     ]
    },
    {
     "name": "stdout",
     "output_type": "stream",
     "text": [
      "929:\tlearn: 0.0654507\ttotal: 868ms\tremaining: 65.3ms\n",
      "930:\tlearn: 0.0654172\ttotal: 869ms\tremaining: 64.4ms\n",
      "931:\tlearn: 0.0653633\ttotal: 870ms\tremaining: 63.5ms\n",
      "932:\tlearn: 0.0652880\ttotal: 871ms\tremaining: 62.5ms\n",
      "933:\tlearn: 0.0651967\ttotal: 871ms\tremaining: 61.6ms\n",
      "934:\tlearn: 0.0650850\ttotal: 872ms\tremaining: 60.6ms\n",
      "935:\tlearn: 0.0650770\ttotal: 873ms\tremaining: 59.7ms\n",
      "936:\tlearn: 0.0649513\ttotal: 874ms\tremaining: 58.8ms\n",
      "937:\tlearn: 0.0648926\ttotal: 875ms\tremaining: 57.8ms\n",
      "938:\tlearn: 0.0648269\ttotal: 875ms\tremaining: 56.9ms\n",
      "939:\tlearn: 0.0647261\ttotal: 876ms\tremaining: 55.9ms\n",
      "940:\tlearn: 0.0646398\ttotal: 877ms\tremaining: 55ms\n",
      "941:\tlearn: 0.0645682\ttotal: 878ms\tremaining: 54.1ms\n",
      "942:\tlearn: 0.0644564\ttotal: 879ms\tremaining: 53.1ms\n",
      "943:\tlearn: 0.0643396\ttotal: 880ms\tremaining: 52.2ms\n",
      "944:\tlearn: 0.0642550\ttotal: 881ms\tremaining: 51.3ms\n",
      "945:\tlearn: 0.0642395\ttotal: 882ms\tremaining: 50.3ms\n",
      "946:\tlearn: 0.0642349\ttotal: 883ms\tremaining: 49.4ms\n",
      "947:\tlearn: 0.0641457\ttotal: 883ms\tremaining: 48.5ms\n",
      "948:\tlearn: 0.0641246\ttotal: 884ms\tremaining: 47.5ms\n",
      "949:\tlearn: 0.0640137\ttotal: 885ms\tremaining: 46.6ms\n",
      "950:\tlearn: 0.0639413\ttotal: 886ms\tremaining: 45.6ms\n",
      "951:\tlearn: 0.0639003\ttotal: 887ms\tremaining: 44.7ms\n",
      "952:\tlearn: 0.0637823\ttotal: 888ms\tremaining: 43.8ms\n",
      "953:\tlearn: 0.0636903\ttotal: 888ms\tremaining: 42.8ms\n",
      "954:\tlearn: 0.0635569\ttotal: 889ms\tremaining: 41.9ms\n",
      "955:\tlearn: 0.0635236\ttotal: 890ms\tremaining: 41ms\n",
      "956:\tlearn: 0.0634603\ttotal: 891ms\tremaining: 40ms\n",
      "957:\tlearn: 0.0633642\ttotal: 892ms\tremaining: 39.1ms\n",
      "958:\tlearn: 0.0632591\ttotal: 893ms\tremaining: 38.2ms\n",
      "959:\tlearn: 0.0632256\ttotal: 893ms\tremaining: 37.2ms\n",
      "960:\tlearn: 0.0631069\ttotal: 894ms\tremaining: 36.3ms\n",
      "961:\tlearn: 0.0630452\ttotal: 895ms\tremaining: 35.4ms\n",
      "962:\tlearn: 0.0629189\ttotal: 896ms\tremaining: 34.4ms\n",
      "963:\tlearn: 0.0628829\ttotal: 897ms\tremaining: 33.5ms\n",
      "964:\tlearn: 0.0628240\ttotal: 897ms\tremaining: 32.5ms\n",
      "965:\tlearn: 0.0627540\ttotal: 898ms\tremaining: 31.6ms\n",
      "966:\tlearn: 0.0626591\ttotal: 899ms\tremaining: 30.7ms\n",
      "967:\tlearn: 0.0626256\ttotal: 900ms\tremaining: 29.7ms\n",
      "968:\tlearn: 0.0625920\ttotal: 901ms\tremaining: 28.8ms\n",
      "969:\tlearn: 0.0625043\ttotal: 902ms\tremaining: 27.9ms\n",
      "970:\tlearn: 0.0624607\ttotal: 902ms\tremaining: 26.9ms\n",
      "971:\tlearn: 0.0623646\ttotal: 903ms\tremaining: 26ms\n",
      "972:\tlearn: 0.0622684\ttotal: 904ms\tremaining: 25.1ms\n",
      "973:\tlearn: 0.0621895\ttotal: 905ms\tremaining: 24.2ms\n",
      "974:\tlearn: 0.0621035\ttotal: 906ms\tremaining: 23.2ms\n",
      "975:\tlearn: 0.0620157\ttotal: 907ms\tremaining: 22.3ms\n",
      "976:\tlearn: 0.0619178\ttotal: 907ms\tremaining: 21.4ms\n",
      "977:\tlearn: 0.0618333\ttotal: 908ms\tremaining: 20.4ms\n",
      "978:\tlearn: 0.0617897\ttotal: 909ms\tremaining: 19.5ms\n",
      "979:\tlearn: 0.0617084\ttotal: 910ms\tremaining: 18.6ms\n",
      "980:\tlearn: 0.0616397\ttotal: 911ms\tremaining: 17.6ms\n",
      "981:\tlearn: 0.0615470\ttotal: 912ms\tremaining: 16.7ms\n",
      "982:\tlearn: 0.0614668\ttotal: 913ms\tremaining: 15.8ms\n",
      "983:\tlearn: 0.0613920\ttotal: 913ms\tremaining: 14.9ms\n",
      "984:\tlearn: 0.0612418\ttotal: 914ms\tremaining: 13.9ms\n",
      "985:\tlearn: 0.0612342\ttotal: 915ms\tremaining: 13ms\n",
      "986:\tlearn: 0.0611180\ttotal: 916ms\tremaining: 12.1ms\n",
      "987:\tlearn: 0.0610546\ttotal: 917ms\tremaining: 11.1ms\n",
      "988:\tlearn: 0.0609609\ttotal: 917ms\tremaining: 10.2ms\n",
      "989:\tlearn: 0.0608481\ttotal: 919ms\tremaining: 9.28ms\n",
      "990:\tlearn: 0.0608222\ttotal: 920ms\tremaining: 8.35ms\n",
      "991:\tlearn: 0.0608130\ttotal: 921ms\tremaining: 7.42ms\n",
      "992:\tlearn: 0.0607279\ttotal: 921ms\tremaining: 6.5ms\n",
      "993:\tlearn: 0.0606746\ttotal: 922ms\tremaining: 5.57ms\n",
      "994:\tlearn: 0.0606683\ttotal: 923ms\tremaining: 4.64ms\n",
      "995:\tlearn: 0.0605430\ttotal: 924ms\tremaining: 3.71ms\n",
      "996:\tlearn: 0.0604210\ttotal: 925ms\tremaining: 2.78ms\n",
      "997:\tlearn: 0.0603159\ttotal: 926ms\tremaining: 1.85ms\n",
      "998:\tlearn: 0.0602863\ttotal: 927ms\tremaining: 927us\n",
      "999:\tlearn: 0.0601911\ttotal: 927ms\tremaining: 0us\n"
     ]
    },
    {
     "data": {
      "text/plain": [
       "<catboost.core.CatBoostRegressor at 0x7fb0a81efb50>"
      ]
     },
     "execution_count": 9,
     "metadata": {},
     "output_type": "execute_result"
    }
   ],
   "source": [
    "#Train the Model \n",
    "prior_model = ctb.CatBoostRegressor()\n",
    "prior_model.fit(X_train,Y_train)"
   ]
  },
  {
   "cell_type": "code",
   "execution_count": 10,
   "id": "af65dcda",
   "metadata": {
    "execution": {
     "iopub.execute_input": "2022-06-12T08:11:11.027609Z",
     "iopub.status.busy": "2022-06-12T08:11:11.027203Z",
     "iopub.status.idle": "2022-06-12T08:11:11.034704Z",
     "shell.execute_reply": "2022-06-12T08:11:11.034992Z"
    },
    "id": "af65dcda",
    "papermill": {
     "duration": 0.021315,
     "end_time": "2022-06-12T08:11:11.035111",
     "exception": false,
     "start_time": "2022-06-12T08:11:11.013796",
     "status": "completed"
    },
    "tags": []
   },
   "outputs": [
    {
     "data": {
      "application/scrapbook.scrap.json+json": {
       "data": 0.09508921965666911,
       "encoder": "json",
       "name": "Prior Model MSE",
       "version": 1
      }
     },
     "metadata": {
      "scrapbook": {
       "data": true,
       "display": false,
       "name": "Prior Model MSE"
      }
     },
     "output_type": "display_data"
    },
    {
     "data": {
      "application/scrapbook.scrap.json+json": {
       "data": 0.11524684573457561,
       "encoder": "json",
       "name": "ABC Pre-generator MSE",
       "version": 1
      }
     },
     "metadata": {
      "scrapbook": {
       "data": true,
       "display": false,
       "name": "ABC Pre-generator MSE"
      }
     },
     "output_type": "display_data"
    },
    {
     "data": {
      "application/scrapbook.scrap.json+json": {
       "data": 0.22702921610499568,
       "encoder": "json",
       "name": "Prior Model MSE",
       "version": 1
      }
     },
     "metadata": {
      "scrapbook": {
       "data": true,
       "display": false,
       "name": "Prior Model MSE"
      }
     },
     "output_type": "display_data"
    },
    {
     "data": {
      "application/scrapbook.scrap.json+json": {
       "data": 0.24486347983988574,
       "encoder": "json",
       "name": "ABC Pre-generator MSE",
       "version": 1
      }
     },
     "metadata": {
      "scrapbook": {
       "data": true,
       "display": false,
       "name": "ABC Pre-generator MSE"
      }
     },
     "output_type": "display_data"
    }
   ],
   "source": [
    "y_pred = prior_model.predict(X_test)\n",
    "y_abc = y_pred + np.random.normal(0,variance, y_pred.shape) + bias \n",
    "mse = mean_squared_error(y_pred,Y_test)\n",
    "sb.glue(\"Prior Model MSE\",mse)\n",
    "mse = mean_squared_error(y_abc,Y_test)\n",
    "sb.glue(\"ABC Pre-generator MSE\",mse)\n",
    "mae = mean_absolute_error(y_pred,Y_test)\n",
    "sb.glue(\"Prior Model MSE\",mae)\n",
    "mae = mean_absolute_error(y_abc,Y_test)\n",
    "sb.glue(\"ABC Pre-generator MSE\",mae)"
   ]
  },
  {
   "cell_type": "markdown",
   "id": "25609da2",
   "metadata": {
    "papermill": {
     "duration": 0.009789,
     "end_time": "2022-06-12T08:11:11.055119",
     "exception": false,
     "start_time": "2022-06-12T08:11:11.045330",
     "status": "completed"
    },
    "tags": []
   },
   "source": [
    "# ABC GAN Model"
   ]
  },
  {
   "cell_type": "code",
   "execution_count": 11,
   "id": "dfc3464d",
   "metadata": {
    "execution": {
     "iopub.execute_input": "2022-06-12T08:11:11.077865Z",
     "iopub.status.busy": "2022-06-12T08:11:11.077495Z",
     "iopub.status.idle": "2022-06-12T08:11:11.080049Z",
     "shell.execute_reply": "2022-06-12T08:11:11.080296Z"
    },
    "papermill": {
     "duration": 0.015454,
     "end_time": "2022-06-12T08:11:11.080407",
     "exception": false,
     "start_time": "2022-06-12T08:11:11.064953",
     "status": "completed"
    },
    "tags": []
   },
   "outputs": [],
   "source": [
    "gen = network.Generator(n_features+1).to(device)\n",
    "disc = network.Discriminator(n_features+1).to(device)\n",
    "\n",
    "criterion = torch.nn.BCELoss()\n",
    "gen_opt = torch.optim.Adam(gen.parameters(), lr=0.001, betas=(0.5, 0.999))\n",
    "disc_opt = torch.optim.Adam(disc.parameters(), lr=0.001, betas=(0.5, 0.999))"
   ]
  },
  {
   "cell_type": "code",
   "execution_count": 12,
   "id": "b75fdd85",
   "metadata": {
    "execution": {
     "iopub.execute_input": "2022-06-12T08:11:11.103417Z",
     "iopub.status.busy": "2022-06-12T08:11:11.103047Z",
     "iopub.status.idle": "2022-06-12T08:12:11.939995Z",
     "shell.execute_reply": "2022-06-12T08:12:11.940372Z"
    },
    "papermill": {
     "duration": 60.85013,
     "end_time": "2022-06-12T08:12:11.940501",
     "exception": false,
     "start_time": "2022-06-12T08:11:11.090371",
     "status": "completed"
    },
    "tags": []
   },
   "outputs": [
    {
     "data": {
      "image/png": "[encoded data removed]",
      "text/plain": [
       "<Figure size 432x288 with 1 Axes>"
      ]
     },
     "metadata": {
      "needs_background": "light"
     },
     "output_type": "display_data"
    },
    {
     "data": {
      "image/png": "[encoded data removed]",
      "text/plain": [
       "<Figure size 432x288 with 1 Axes>"
      ]
     },
     "metadata": {
      "needs_background": "light"
     },
     "output_type": "display_data"
    }
   ],
   "source": [
    "#Training the ABC_GAN \n",
    "ABC_train_test2.training_GAN(disc,gen,disc_opt,gen_opt,train_data,batch_size,n_epochs,criterion,prior_model,variance,bias,device)"
   ]
  },
  {
   "cell_type": "code",
   "execution_count": 13,
   "id": "1fa7c368",
   "metadata": {
    "execution": {
     "iopub.execute_input": "2022-06-12T08:12:11.966781Z",
     "iopub.status.busy": "2022-06-12T08:12:11.966374Z",
     "iopub.status.idle": "2022-06-12T08:12:12.316563Z",
     "shell.execute_reply": "2022-06-12T08:12:12.316813Z"
    },
    "papermill": {
     "duration": 0.364889,
     "end_time": "2022-06-12T08:12:12.316935",
     "exception": false,
     "start_time": "2022-06-12T08:12:11.952046",
     "status": "completed"
    },
    "tags": []
   },
   "outputs": [
    {
     "data": {
      "application/scrapbook.scrap.json+json": {
       "data": 0.1008328573921745,
       "encoder": "json",
       "name": "ABC-GAN Model 1 MSE",
       "version": 1
      }
     },
     "metadata": {
      "scrapbook": {
       "data": true,
       "display": false,
       "name": "ABC-GAN Model 1 MSE"
      }
     },
     "output_type": "display_data"
    },
    {
     "data": {
      "application/scrapbook.scrap.json+json": {
       "data": 0.22816151733966727,
       "encoder": "json",
       "name": "ABC-GAN Model 1 MAE",
       "version": 1
      }
     },
     "metadata": {
      "scrapbook": {
       "data": true,
       "display": false,
       "name": "ABC-GAN Model 1 MAE"
      }
     },
     "output_type": "display_data"
    },
    {
     "data": {
      "application/scrapbook.scrap.json+json": {
       "data": 23.272474768646063,
       "encoder": "json",
       "name": "ABC-GAN Model 1 Manhattan Distance",
       "version": 1
      }
     },
     "metadata": {
      "scrapbook": {
       "data": true,
       "display": false,
       "name": "ABC-GAN Model 1 Manhattan Distance"
      }
     },
     "output_type": "display_data"
    },
    {
     "data": {
      "application/scrapbook.scrap.json+json": {
       "data": 3.206113129111,
       "encoder": "json",
       "name": "ABC-GAN Model 1 Euclidean distance",
       "version": 1
      }
     },
     "metadata": {
      "scrapbook": {
       "data": true,
       "display": false,
       "name": "ABC-GAN Model 1 Euclidean distance"
      }
     },
     "output_type": "display_data"
    },
    {
     "data": {
      "application/scrapbook.scrap.json+json": {
       "data": [
        [
         0.10031178202292292,
         0.09053448984790272,
         0.0940411015281095,
         0.09876178001509367,
         0.09416359067256215,
         0.10333262292302105,
         0.10237788340877273,
         0.10390194191569702,
         0.09913857153342846,
         0.10828041450028769,
         0.1064635890385398,
         0.11043030381068582,
         0.10936207436772931,
         0.10624320153203506,
         0.09833573364293734,
         0.09920085197942939,
         0.10100292426767228,
         0.10662984340481377,
         0.09023037879160489,
         0.09905889054499005,
         0.0986392985459521,
         0.09352229409333151,
         0.097983069949417,
         0.09310293191588376,
         0.10813636364034668,
         0.09795311601791641,
         0.10169060959166672,
         0.10624082782848131,
         0.10498267607961517,
         0.10476774286460461,
         0.11179183070679499,
         0.09853912673663265,
         0.10077266439646504,
         0.09518942488808847,
         0.10495085024248858,
         0.09987615930538407,
         0.09616808244791603,
         0.0973198440214744,
         0.10000309060237679,
         0.0980899211197033,
         0.10485007520250837,
         0.1003405305317743,
         0.10702421546711996,
         0.10368623303865107,
         0.09908719103306983,
         0.10226985557077754,
         0.0973662166971554,
         0.09523616867245058,
         0.10526153000619264,
         0.10460684923364404,
         0.0934148661898382,
         0.0938873843394839,
         0.09796741006455731,
         0.1008543369147921,
         0.09960467932307772,
         0.10467992501759105,
         0.10316960338359028,
         0.09860136394937272,
         0.09648701564267845,
         0.10582947537325939,
         0.0977442041636922,
         0.09996752708127968,
         0.09941097082525108,
         0.0982696296363093,
         0.09856716112876741,
         0.10275880032152955,
         0.09850890320600886,
         0.10355553118706,
         0.10391446970884557,
         0.10119891228190715,
         0.09953216207945421,
         0.109843319499792,
         0.09528144474847806,
         0.09627549225007197,
         0.10105606051147817,
         0.09741937019284747,
         0.1066024981790052,
         0.10417313911864234,
         0.1126198450216678,
         0.09905772845127514,
         0.10198262789427766,
         0.10563789349970037,
         0.08976289492465596,
         0.09687465576182493,
         0.1027840932826582,
         0.1045430963992824,
         0.09489849497585569,
         0.09961711344739202,
         0.09691725798257195,
         0.10423170037507386,
         0.10615183538936195,
         0.10191744446544494,
         0.10082176880335263,
         0.09988540265502531,
         0.10842123304597664,
         0.09685433201179607,
         0.09403690565704313,
         0.10084415415088745,
         0.09776120685401822,
         0.10783763765352698
        ],
        [
         0.2306620925756208,
         0.21733213867079101,
         0.22547807450424515,
         0.23001361840094128,
         0.22250744631952224,
         0.23216213334315255,
         0.23430794332286015,
         0.22604282047855212,
         0.22667771388831384,
         0.24018282360196405,
         0.2343171338696836,
         0.23739907927993759,
         0.23108828112519547,
         0.2388264771423065,
         0.22948106401143412,
         0.23146931499279305,
         0.2205129249441419,
         0.23249116646783316,
         0.21747706729151747,
         0.2293380217389295,
         0.2246313488530908,
         0.2220751104565958,
         0.2285057261093136,
         0.22514429546929166,
         0.23625391240542135,
         0.22805625566409207,
         0.2286396740716608,
         0.23400160152574673,
         0.22650859571591603,
         0.23195837373279182,
         0.2401438622516306,
         0.23079565792874085,
         0.22776280932457132,
         0.22854331439799247,
         0.22370270425088556,
         0.23207264690312976,
         0.22146721068294903,
         0.22526735835252146,
         0.2188697704296632,
         0.22117901656447964,
         0.2322777680340497,
         0.229103314498549,
         0.23349446252755382,
         0.22597719843079353,
         0.22808349169973358,
         0.22938951752239875,
         0.22906879807694577,
         0.23242694936583147,
         0.23379468703277262,
         0.22972345232561814,
         0.22617820534380337,
         0.22204019323758342,
         0.22372951764869048,
         0.2268230132484699,
         0.2259748321775274,
         0.2271546145590643,
         0.22667318313181692,
         0.22857785444962336,
         0.2242626514304064,
         0.23101699995972655,
         0.2242474213114702,
         0.22988401975154,
         0.2256915787435776,
         0.228585434794499,
         0.2205342240357662,
         0.23013688281507177,
         0.2274367921510894,
         0.2295580851188039,
         0.23110989222814346,
         0.2251679162567883,
         0.22789763707631067,
         0.23407940918068385,
         0.21661322897154034,
         0.23005818802972927,
         0.2317139673704172,
         0.22149581028440712,
         0.23333114499737526,
         0.23359288648683943,
         0.23836384791259965,
         0.22893076033021012,
         0.23841006331620554,
         0.23060923026801616,
         0.2116679013158907,
         0.21892538448503496,
         0.23623329840198742,
         0.22362919547138552,
         0.22673271400123543,
         0.22483955682529247,
         0.22872753358245188,
         0.22708810742615776,
         0.2303701183831721,
         0.22724926341142432,
         0.23126445412087968,
         0.23087528031136767,
         0.2280271261948727,
         0.21559537338165968,
         0.21681407861886362,
         0.22796400513171272,
         0.22542109786916306,
         0.238161537841912
        ],
        [
         23.52753344271332,
         22.167878144420683,
         22.998763599433005,
         23.461389076896012,
         22.695759524591267,
         23.68053760100156,
         23.899410218931735,
         23.056367688812315,
         23.12112681660801,
         24.498648007400334,
         23.90034765470773,
         24.214706086553633,
         23.571004674769938,
         24.360300668515265,
         23.40706852916628,
         23.60987012926489,
         22.492318344302475,
         23.714098979718983,
         22.18266086373478,
         23.392478217370808,
         22.912397583015263,
         22.651661266572773,
         23.30758406314999,
         22.96471813786775,
         24.097899065352976,
         23.26173807773739,
         23.321246755309403,
         23.868163355626166,
         23.103876763023436,
         23.659754120744765,
         24.49467394966632,
         23.541157108731568,
         23.231806551106274,
         23.31141806859523,
         22.81767583359033,
         23.671409984119236,
         22.5896554896608,
         22.97727055195719,
         22.324716583825648,
         22.560259689576924,
         23.69233233947307,
         23.368538078851998,
         23.81643517781049,
         23.04967423994094,
         23.264516153372824,
         23.397730787284672,
         23.36501740384847,
         23.70754883531481,
         23.84705807734281,
         23.43179213721305,
         23.070176945067942,
         22.64809971023351,
         22.820410800166428,
         23.13594735134393,
         23.049432882107794,
         23.16977068502456,
         23.120664679445326,
         23.314941153861582,
         22.874790445901453,
         23.563733995892107,
         22.873236973769963,
         23.44817001465708,
         23.020541031844914,
         23.3157143490389,
         22.494490851648152,
         23.47396204713732,
         23.198552799411118,
         23.414924682118,
         23.573209007270634,
         22.967127458192408,
         23.245558981783688,
         23.87609973642975,
         22.094549355097115,
         23.465935179032385,
         23.634824671782553,
         22.592572649009526,
         23.799776789732277,
         23.826474421657622,
         24.313112487085164,
         23.350937553681433,
         24.317826458252966,
         23.52214148733765,
         21.59012593422085,
         22.330389217473567,
         24.09579643700272,
         22.810177938081324,
         23.126736828126013,
         22.93363479617983,
         23.330208425410092,
         23.162986957468092,
         23.497752075083554,
         23.17942486796528,
         23.588974320329726,
         23.549278591759503,
         23.258766871877015,
         21.990728084929287,
         22.11503601912409,
         23.2523285234347,
         22.99295198265463,
         24.292476859875023
        ],
        [
         3.198718769497896,
         3.0388349682873654,
         3.097126467528759,
         3.1739095074591446,
         3.099142824814844,
         3.246525456260607,
         3.2314925510814376,
         3.2554566615762366,
         3.1799582224314995,
         3.3233420346135523,
         3.2953430901699834,
         3.356172073760514,
         3.3398999364514483,
         3.291930521178655,
         3.167056177521897,
         3.1809569160712936,
         3.209719345254748,
         3.2979151031054457,
         3.033726855988142,
         3.1786800461180396,
         3.171940802046456,
         3.088571514069217,
         3.16137203360195,
         3.081639020946506,
         3.321130694705549,
         3.160888772770638,
         3.2206276062826644,
         3.2918937465393823,
         3.27234364945382,
         3.2689921645959426,
         3.376798296033254,
         3.170329782078913,
         3.2060586034006664,
         3.115978391867476,
         3.2718476010862476,
         3.1917656945880553,
         3.1319553652131495,
         3.1506545494849783,
         3.193793237115144,
         3.1630953122234127,
         3.2702763905602605,
         3.1991770995430957,
         3.3040081685199016,
         3.2520756095057823,
         3.1791340779169914,
         3.2297871862120124,
         3.1514050998102174,
         3.1167433652115086,
         3.2766867504587074,
         3.2664810763008703,
         3.0867971023965106,
         3.0945941902981975,
         3.161119394547578,
         3.2073575362451865,
         3.187424868283789,
         3.2676218189677777,
         3.2439635548393895,
         3.1713308125826325,
         3.1371444970790234,
         3.2855146458465914,
         3.1575162429822274,
         3.1932252915023893,
         3.1843239508843335,
         3.1659915070801357,
         3.1707807295892083,
         3.2374986691574117,
         3.169843549295911,
         3.2500252585295573,
         3.255652916129458,
         3.2128319365871794,
         3.186264353769839,
         3.3472404438550245,
         3.1174841401913755,
         3.133703912227085,
         3.2105635287548466,
         3.1522651791482317,
         3.297492200788128,
         3.259702469567049,
         3.3892807780132514,
         3.178661400972123,
         3.2252485245661795,
         3.282539434183455,
         3.025857776286735,
         3.1434399767939163,
         3.2378970821863895,
         3.265485543181412,
         3.111213025097651,
         3.1876238127536296,
         3.1441310904958035,
         3.26061856681482,
         3.2905147332468996,
         3.2242176315310016,
         3.206839630842484,
         3.1919133871100853,
         3.3255023335865537,
         3.143110221612216,
         3.097057373866102,
         3.2071956166393276,
         3.157790857404881,
         3.316540221474745
        ]
       ],
       "encoder": "json",
       "name": "ABC_GAN_1 Metrics",
       "version": 1
      }
     },
     "metadata": {
      "scrapbook": {
       "data": true,
       "display": false,
       "name": "ABC_GAN_1 Metrics"
      }
     },
     "output_type": "display_data"
    },
    {
     "name": "stdout",
     "output_type": "stream",
     "text": [
      "MSE\n",
      "0.1008328573921745\n"
     ]
    }
   ],
   "source": [
    "ABC_GAN1_metrics=ABC_train_test2.test_generator(gen,test_data,prior_model,variance,bias,\"1\",device)\n",
    "sb.glue(\"ABC_GAN_1 Metrics\",ABC_GAN1_metrics)\n",
    "\n",
    "print(\"MSE\")\n",
    "print(mean(ABC_GAN1_metrics[0]))"
   ]
  },
  {
   "cell_type": "code",
   "execution_count": 14,
   "id": "eb22ce5c",
   "metadata": {
    "execution": {
     "iopub.execute_input": "2022-06-12T08:12:12.348602Z",
     "iopub.status.busy": "2022-06-12T08:12:12.348192Z",
     "iopub.status.idle": "2022-06-12T08:12:12.730259Z",
     "shell.execute_reply": "2022-06-12T08:12:12.730531Z"
    },
    "papermill": {
     "duration": 0.400299,
     "end_time": "2022-06-12T08:12:12.730665",
     "exception": false,
     "start_time": "2022-06-12T08:12:12.330366",
     "status": "completed"
    },
    "tags": []
   },
   "outputs": [
    {
     "data": {
      "image/png": "[encoded data removed]",
      "text/plain": [
       "<Figure size 432x288 with 1 Axes>"
      ]
     },
     "metadata": {
      "needs_background": "light"
     },
     "output_type": "display_data"
    },
    {
     "data": {
      "image/png": "[encoded data removed]",
      "text/plain": [
       "<Figure size 432x288 with 1 Axes>"
      ]
     },
     "metadata": {
      "needs_background": "light"
     },
     "output_type": "display_data"
    },
    {
     "data": {
      "image/png": "[encoded data removed]",
      "text/plain": [
       "<Figure size 432x288 with 1 Axes>"
      ]
     },
     "metadata": {
      "needs_background": "light"
     },
     "output_type": "display_data"
    },
    {
     "data": {
      "image/png": "[encoded data removed]",
      "text/plain": [
       "<Figure size 432x288 with 1 Axes>"
      ]
     },
     "metadata": {
      "needs_background": "light"
     },
     "output_type": "display_data"
    }
   ],
   "source": [
    "sanityChecks.discProbVsError(train_data,disc,device)\n",
    "sanityChecks.discProbVsError(test_data,disc,device)"
   ]
  },
  {
   "cell_type": "markdown",
   "id": "130f3a4d",
   "metadata": {
    "id": "130f3a4d",
    "papermill": {
     "duration": 0.026283,
     "end_time": "2022-06-12T08:12:12.778653",
     "exception": false,
     "start_time": "2022-06-12T08:12:12.752370",
     "status": "completed"
    },
    "tags": []
   },
   "source": [
    "# ABC - GAN Model with skip connection"
   ]
  },
  {
   "cell_type": "code",
   "execution_count": 15,
   "id": "4e43dad1",
   "metadata": {
    "execution": {
     "iopub.execute_input": "2022-06-12T08:12:12.828309Z",
     "iopub.status.busy": "2022-06-12T08:12:12.826810Z",
     "iopub.status.idle": "2022-06-12T08:12:12.831468Z",
     "shell.execute_reply": "2022-06-12T08:12:12.831878Z"
    },
    "id": "4e43dad1",
    "papermill": {
     "duration": 0.033418,
     "end_time": "2022-06-12T08:12:12.832252",
     "exception": false,
     "start_time": "2022-06-12T08:12:12.798834",
     "status": "completed"
    },
    "tags": []
   },
   "outputs": [],
   "source": [
    "#Generator\n",
    "gen3 = network.GeneratorWithSkipConnection(n_features+1).to(device)\n",
    "constraints=network.weightConstraint()\n",
    "#Discriminator \n",
    "disc3 = network.Discriminator(n_features+1).to(device)\n",
    "\n",
    "criterion = torch.nn.BCELoss()\n",
    "gen_opt = torch.optim.Adam(gen3.parameters(), lr=0.001, betas=(0.5, 0.999))\n",
    "disc_opt = torch.optim.Adam(disc3.parameters(), lr=0.001, betas=(0.5, 0.999))\n"
   ]
  },
  {
   "cell_type": "code",
   "execution_count": 16,
   "id": "26acbc37",
   "metadata": {
    "execution": {
     "iopub.execute_input": "2022-06-12T08:12:12.888259Z",
     "iopub.status.busy": "2022-06-12T08:12:12.887828Z",
     "iopub.status.idle": "2022-06-12T08:15:11.439668Z",
     "shell.execute_reply": "2022-06-12T08:15:11.440040Z"
    },
    "id": "26acbc37",
    "papermill": {
     "duration": 178.574922,
     "end_time": "2022-06-12T08:15:11.440169",
     "exception": false,
     "start_time": "2022-06-12T08:12:12.865247",
     "status": "completed"
    },
    "tags": []
   },
   "outputs": [
    {
     "data": {
      "image/png": "[encoded data removed]",
      "text/plain": [
       "<Figure size 432x288 with 1 Axes>"
      ]
     },
     "metadata": {
      "needs_background": "light"
     },
     "output_type": "display_data"
    },
    {
     "data": {
      "image/png": "[encoded data removed]",
      "text/plain": [
       "<Figure size 432x288 with 1 Axes>"
      ]
     },
     "metadata": {
      "needs_background": "light"
     },
     "output_type": "display_data"
    }
   ],
   "source": [
    "ABC_train_test2.training_GAN_skip_connection(disc3,gen3,disc_opt,gen_opt,train_data,batch_size,n_epochs,criterion,prior_model,variance,bias,device)"
   ]
  },
  {
   "cell_type": "code",
   "execution_count": 17,
   "id": "c5e0717b",
   "metadata": {
    "execution": {
     "iopub.execute_input": "2022-06-12T08:15:11.474259Z",
     "iopub.status.busy": "2022-06-12T08:15:11.473887Z",
     "iopub.status.idle": "2022-06-12T08:15:12.375936Z",
     "shell.execute_reply": "2022-06-12T08:15:12.376326Z"
    },
    "id": "c5e0717b",
    "papermill": {
     "duration": 0.920641,
     "end_time": "2022-06-12T08:15:12.376446",
     "exception": false,
     "start_time": "2022-06-12T08:15:11.455805",
     "status": "completed"
    },
    "tags": []
   },
   "outputs": [
    {
     "data": {
      "application/scrapbook.scrap.json+json": {
       "data": 0.10140859627546989,
       "encoder": "json",
       "name": "ABC-GAN Model 3 MSE",
       "version": 1
      }
     },
     "metadata": {
      "scrapbook": {
       "data": true,
       "display": false,
       "name": "ABC-GAN Model 3 MSE"
      }
     },
     "output_type": "display_data"
    },
    {
     "data": {
      "application/scrapbook.scrap.json+json": {
       "data": 0.2219360141460236,
       "encoder": "json",
       "name": "ABC-GAN Model 3 MAE",
       "version": 1
      }
     },
     "metadata": {
      "scrapbook": {
       "data": true,
       "display": false,
       "name": "ABC-GAN Model 3 MAE"
      }
     },
     "output_type": "display_data"
    },
    {
     "data": {
      "application/scrapbook.scrap.json+json": {
       "data": 22.637473442894407,
       "encoder": "json",
       "name": "ABC-GAN Model 3 Manhattan Distance",
       "version": 1
      }
     },
     "metadata": {
      "scrapbook": {
       "data": true,
       "display": false,
       "name": "ABC-GAN Model 3 Manhattan Distance"
      }
     },
     "output_type": "display_data"
    },
    {
     "data": {
      "application/scrapbook.scrap.json+json": {
       "data": 3.2153593699527,
       "encoder": "json",
       "name": "ABC-GAN Model 3 Euclidean distance",
       "version": 1
      }
     },
     "metadata": {
      "scrapbook": {
       "data": true,
       "display": false,
       "name": "ABC-GAN Model 3 Euclidean distance"
      }
     },
     "output_type": "display_data"
    },
    {
     "data": {
      "application/scrapbook.scrap.json+json": {
       "data": [
        [
         0.10217115717735581,
         0.10427711528603104,
         0.10285248518266933,
         0.09912402656480186,
         0.09706939438317697,
         0.10350972921709267,
         0.09742182428281715,
         0.09956647290589299,
         0.10308773543962065,
         0.09819813020870467,
         0.09695900113909932,
         0.09656195569654852,
         0.10244306553718976,
         0.10780514972815727,
         0.09944616906677857,
         0.104934939928171,
         0.10984191225114441,
         0.10283194678363423,
         0.10601731251097785,
         0.102042128711596,
         0.09952644610023588,
         0.09785289944839828,
         0.10435085742465437,
         0.09988512202557892,
         0.09796645619104376,
         0.10372255548410643,
         0.09438177191579517,
         0.10261455570800238,
         0.1060324844165166,
         0.10160310248303171,
         0.09410817695067772,
         0.10337757455648788,
         0.09706207425915649,
         0.10396280794203915,
         0.09839878933485649,
         0.10395241448019697,
         0.1098866237234707,
         0.10100223735839856,
         0.10381758707044345,
         0.10131840659780715,
         0.100073406625741,
         0.09445784566055408,
         0.09772189328058697,
         0.10399189118182399,
         0.10106380288317204,
         0.10336259663011611,
         0.09939420872619675,
         0.10553355990645384,
         0.10821207051748112,
         0.10646111733997381,
         0.10037943428156387,
         0.09155722354579265,
         0.10959167381463016,
         0.10623626660153289,
         0.10466698936279988,
         0.09640511920487757,
         0.10308924764923579,
         0.10003160505755779,
         0.1021362993361663,
         0.09719297430767875,
         0.10890489944058745,
         0.10134244278932106,
         0.10152980360317794,
         0.10574234321540792,
         0.10709388702551895,
         0.10508312998961512,
         0.10059548605889733,
         0.10652862494584198,
         0.09642354800233562,
         0.10249710652670498,
         0.10476412223974922,
         0.0968532509179479,
         0.09666557135505889,
         0.09829441133538731,
         0.08786951577343571,
         0.10834276563802413,
         0.10471219670411637,
         0.09687552792689605,
         0.10508597965054961,
         0.10716605276521352,
         0.0942054938651478,
         0.10453844491580294,
         0.09351361586134177,
         0.09769158690376968,
         0.101077032540871,
         0.10145470103110796,
         0.09360048448253548,
         0.09825295747776062,
         0.09539624505575232,
         0.09773576395155725,
         0.10804135401709938,
         0.10600988535657128,
         0.10641068190520053,
         0.09967888293049242,
         0.10187449274204101,
         0.09845947223636553,
         0.09381648315831322,
         0.10993694230909164,
         0.09929307606919778,
         0.10495754344688837
        ],
        [
         0.2218809285493312,
         0.22236554373019174,
         0.22301753983814634,
         0.2200796330329396,
         0.21301848532668516,
         0.23319380414471322,
         0.22161769682504967,
         0.22323012992045752,
         0.223833078326767,
         0.22342171240597963,
         0.22601144891414865,
         0.2157617422806866,
         0.22882577560513334,
         0.2278217364504349,
         0.22027678525659675,
         0.223932273311577,
         0.22646339187471598,
         0.22639088039560354,
         0.22991461000934826,
         0.21636960453664264,
         0.21687317802114228,
         0.216651634906656,
         0.22682900420919644,
         0.22035624148031951,
         0.21821840801367573,
         0.22669254483509005,
         0.21492501393910132,
         0.21963132525264634,
         0.2288753429756445,
         0.22127284990696638,
         0.21752535561830097,
         0.2292416003970977,
         0.21449017103797957,
         0.22842312260877853,
         0.21713556177621962,
         0.22489764311296098,
         0.2291087979797785,
         0.2239795902004356,
         0.22975022949314877,
         0.23003096269516676,
         0.2189928821434139,
         0.21400438553160606,
         0.21922101214637651,
         0.21980919447891853,
         0.22844755414909884,
         0.22130472210290678,
         0.21560254798489897,
         0.2302554220088995,
         0.22217827837220303,
         0.23001768571488998,
         0.21816195972154245,
         0.21146301098861822,
         0.2292186421086537,
         0.2269749694376015,
         0.22157106554939174,
         0.215976526595506,
         0.22261390213251991,
         0.21907239673001802,
         0.22389867909106553,
         0.212788468756366,
         0.23460017598471514,
         0.2222524400910034,
         0.2214073832009864,
         0.22761627505807316,
         0.23185909723899528,
         0.21887179770433873,
         0.2225234962305894,
         0.22213449629534984,
         0.21095887258393214,
         0.23061739405909298,
         0.22561984659884782,
         0.22018871397948733,
         0.22231285707732917,
         0.22049373199286706,
         0.2088433188276694,
         0.22788399739154414,
         0.21989087911103578,
         0.21258787517709768,
         0.21846842691393606,
         0.2354825930852516,
         0.2097311603252356,
         0.22099243720774264,
         0.21758040246170232,
         0.2130957588498645,
         0.21505838069224767,
         0.2221981094300966,
         0.2165814263782665,
         0.2251193149143136,
         0.21727155965259848,
         0.2067498913783507,
         0.2316434480998592,
         0.22366107519095144,
         0.22483595141994894,
         0.22350694711192273,
         0.22766151903288476,
         0.2149925284982458,
         0.21096359363154454,
         0.22796016504221103,
         0.21865415827864232,
         0.22682123346363797
        ],
        [
         22.63185471203178,
         22.681285460479558,
         22.747789063490927,
         22.44812256935984,
         21.727885503321886,
         23.78576802276075,
         22.605005076155066,
         22.769473251886666,
         22.830973989330232,
         22.789014665409923,
         23.05316778924316,
         22.007697712630033,
         23.340229111723602,
         23.23781711794436,
         22.46823209617287,
         22.841091877780855,
         23.09926597122103,
         23.09186980035156,
         23.451290220953524,
         22.06969966273755,
         22.121064158156514,
         22.098466760478914,
         23.136558429338038,
         22.47633663099259,
         22.258277617394924,
         23.122639573179185,
         21.922351421788335,
         22.402395175769925,
         23.34528498351574,
         22.56983069051057,
         22.1875862730667,
         23.382643240503967,
         21.877997445873916,
         23.29915850609541,
         22.147827301174402,
         22.93955959752202,
         23.36909739393741,
         22.84591820044443,
         23.434523408301175,
         23.46315819490701,
         22.337273978628218,
         21.828447324223816,
         22.360543238930404,
         22.42053783684969,
         23.30165052320808,
         22.57308165449649,
         21.991459894459695,
         23.48605304490775,
         22.662184393964708,
         23.461803942918777,
         22.25251989159733,
         21.56922712083906,
         23.380301495082676,
         23.151446882635355,
         22.600248686037958,
         22.029605712741613,
         22.70661801751703,
         22.345384466461837,
         22.837665267288685,
         21.704423813149333,
         23.929217950440943,
         22.669748889282346,
         22.583553086500615,
         23.216860055923462,
         23.64962791837752,
         22.32492336584255,
         22.69739661552012,
         22.657718622125685,
         21.51780500356108,
         23.522974194027483,
         23.013224353082478,
         22.459248825907707,
         22.675911421887577,
         22.49036066327244,
         21.30201852042228,
         23.244167733937502,
         22.42886966932565,
         21.683963268063962,
         22.283779545221478,
         24.019224494695663,
         21.39257835317403,
         22.54122859518975,
         22.193201051093638,
         21.73576740268618,
         21.935954830609262,
         22.664207161869854,
         22.09130549058318,
         22.962170121259987,
         22.161699084565043,
         21.08848892059177,
         23.62763170618564,
         22.813429669477046,
         22.933267044834793,
         22.79770860541612,
         23.221474941354245,
         21.929237906821072,
         21.518286550417542,
         23.251936834305525,
         22.302724144421518,
         23.135765813291073
        ],
        [
         3.2282283116425154,
         3.2613288333400483,
         3.2389741413960484,
         3.17972494244546,
         3.146597881376654,
         3.2493064460194345,
         3.152304883231847,
         3.186813492566059,
         3.242676211841278,
         3.164839534840254,
         3.144808120726625,
         3.1383625477385415,
         3.232521103534106,
         3.316040601722488,
         3.1848876345660004,
         3.2715995892947287,
         3.347219002338618,
         3.23865073324227,
         3.288429089416364,
         3.226189258022968,
         3.18617286132188,
         3.1592713944415443,
         3.262481794173684,
         3.1919089032441144,
         3.161104005167571,
         3.252645178831969,
         3.1027311735648486,
         3.2352255998950428,
         3.2886643809432257,
         3.219241595977107,
         3.098230793367261,
         3.247231529281791,
         3.1464792347056663,
         3.256410049439105,
         3.1680714184114223,
         3.256247269016911,
         3.3479001806795265,
         3.2097084307700987,
         3.2541348898263616,
         3.2147282113697155,
         3.1949158793034877,
         3.1039813558358422,
         3.1571558584618327,
         3.256865502372802,
         3.21068651445194,
         3.2469962821462914,
         3.184055478485271,
         3.2809180286100244,
         3.3222930624469407,
         3.295304836988124,
         3.1997972274379376,
         3.05595104700171,
         3.3434040630908304,
         3.2918230805066595,
         3.267419917152613,
         3.135812838626934,
         3.242699995408463,
         3.194248536959967,
         3.2276775756399467,
         3.148600225399095,
         3.3329116014289846,
         3.215109510500497,
         3.2180801679765763,
         3.2841618425363275,
         3.305083429597947,
         3.2739088653993926,
         3.203238919907088,
         3.296349457274802,
         3.1361125452123417,
         3.2333736044144215,
         3.2689356782375545,
         3.143092679771101,
         3.140045903838987,
         3.1663906828137147,
         2.993775310354877,
         3.3242987373397197,
         3.268125466352213,
         3.143454126998419,
         3.273953256287582,
         3.3061968153834664,
         3.0998323138913615,
         3.265412896007471,
         3.0884282115433503,
         3.1566662579665445,
         3.2108966534550496,
         3.216889725367192,
         3.089862362180331,
         3.165722928926595,
         3.1193616327201843,
         3.1573799142736747,
         3.3196713858067537,
         3.2883139002185104,
         3.294524177226577,
         3.1886119329435854,
         3.2235381585593466,
         3.169048148594351,
         3.0934254932272003,
         3.348666617555015,
         3.182435193222035,
         3.271951929900959
        ]
       ],
       "encoder": "json",
       "name": "ABC_GAN_3 Metrics",
       "version": 1
      }
     },
     "metadata": {
      "scrapbook": {
       "data": true,
       "display": false,
       "name": "ABC_GAN_3 Metrics"
      }
     },
     "output_type": "display_data"
    },
    {
     "name": "stdout",
     "output_type": "stream",
     "text": [
      "MSE\n",
      "0.10140859627546989\n"
     ]
    }
   ],
   "source": [
    "ABC_GAN3_metrics=ABC_train_test2.test_generator(gen3,test_data,prior_model,variance,bias,\"3\",device)\n",
    "sb.glue(\"ABC_GAN_3 Metrics\",ABC_GAN3_metrics)\n",
    "\n",
    "print(\"MSE\")\n",
    "print(mean(ABC_GAN3_metrics[0]))"
   ]
  },
  {
   "cell_type": "code",
   "execution_count": 18,
   "id": "c8e46b48",
   "metadata": {
    "execution": {
     "iopub.execute_input": "2022-06-12T08:15:12.414198Z",
     "iopub.status.busy": "2022-06-12T08:15:12.413808Z",
     "iopub.status.idle": "2022-06-12T08:15:12.773500Z",
     "shell.execute_reply": "2022-06-12T08:15:12.773825Z"
    },
    "id": "c8e46b48",
    "papermill": {
     "duration": 0.380171,
     "end_time": "2022-06-12T08:15:12.773948",
     "exception": false,
     "start_time": "2022-06-12T08:15:12.393777",
     "status": "completed"
    },
    "tags": []
   },
   "outputs": [
    {
     "data": {
      "image/png": "[encoded data removed]",
      "text/plain": [
       "<Figure size 432x288 with 1 Axes>"
      ]
     },
     "metadata": {
      "needs_background": "light"
     },
     "output_type": "display_data"
    },
    {
     "data": {
      "image/png": "[encoded data removed]",
      "text/plain": [
       "<Figure size 432x288 with 1 Axes>"
      ]
     },
     "metadata": {
      "needs_background": "light"
     },
     "output_type": "display_data"
    },
    {
     "data": {
      "image/png": "[encoded data removed]",
      "text/plain": [
       "<Figure size 432x288 with 1 Axes>"
      ]
     },
     "metadata": {
      "needs_background": "light"
     },
     "output_type": "display_data"
    },
    {
     "data": {
      "image/png": "[encoded data removed]",
      "text/plain": [
       "<Figure size 432x288 with 1 Axes>"
      ]
     },
     "metadata": {
      "needs_background": "light"
     },
     "output_type": "display_data"
    }
   ],
   "source": [
    "sanityChecks.discProbVsError(train_data,disc3,device)\n",
    "sanityChecks.discProbVsError(test_data,disc3,device)"
   ]
  },
  {
   "cell_type": "markdown",
   "id": "a5bd74c3",
   "metadata": {
    "id": "a5bd74c3",
    "papermill": {
     "duration": 0.02483,
     "end_time": "2022-06-12T08:15:12.818863",
     "exception": false,
     "start_time": "2022-06-12T08:15:12.794033",
     "status": "completed"
    },
    "tags": []
   },
   "source": [
    "## Skip Connection Model Analysis - ABC-GAN "
   ]
  },
  {
   "cell_type": "markdown",
   "id": "5744a8bf",
   "metadata": {
    "id": "5744a8bf",
    "papermill": {
     "duration": 0.020957,
     "end_time": "2022-06-12T08:15:12.860471",
     "exception": false,
     "start_time": "2022-06-12T08:15:12.839514",
     "status": "completed"
    },
    "tags": []
   },
   "source": [
    "### Weight Analysis \n",
    "\n",
    "Study the weights of the skip connection layer\n",
    "\n",
    "Equation of the skip connection is \n",
    "\n",
    "$output = y_{gan} * w + y_{abc} * (1-w)$"
   ]
  },
  {
   "cell_type": "code",
   "execution_count": 19,
   "id": "52c31dea",
   "metadata": {
    "execution": {
     "iopub.execute_input": "2022-06-12T08:15:12.903598Z",
     "iopub.status.busy": "2022-06-12T08:15:12.903202Z",
     "iopub.status.idle": "2022-06-12T08:15:12.906804Z",
     "shell.execute_reply": "2022-06-12T08:15:12.907040Z"
    },
    "id": "52c31dea",
    "papermill": {
     "duration": 0.026234,
     "end_time": "2022-06-12T08:15:12.907185",
     "exception": false,
     "start_time": "2022-06-12T08:15:12.880951",
     "status": "completed"
    },
    "tags": []
   },
   "outputs": [
    {
     "name": "stdout",
     "output_type": "stream",
     "text": [
      "Weight of the node at skip connection\n",
      "Parameter containing:\n",
      "tensor([[0.3968]], requires_grad=True)\n"
     ]
    },
    {
     "data": {
      "application/scrapbook.scrap.json+json": {
       "data": 0.39683547616004944,
       "encoder": "json",
       "name": "Skip Connection Weight",
       "version": 1
      }
     },
     "metadata": {
      "scrapbook": {
       "data": true,
       "display": false,
       "name": "Skip Connection Weight"
      }
     },
     "output_type": "display_data"
    }
   ],
   "source": [
    "print(\"Weight of the node at skip connection\")\n",
    "for name,param in gen3.named_parameters():\n",
    "    if(name == \"skipNode.weight\"):\n",
    "        print(param)\n",
    "        sb.glue(\"Skip Connection Weight\",param.item())"
   ]
  }
 ],
 "metadata": {
  "colab": {
   "collapsed_sections": [],
   "name": "ABC_GAN_Model-Catboost_Pre-gen.ipynb",
   "provenance": []
  },
  "interpreter": {
   "hash": "31f2aee4e71d21fbe5cf8b01ff0e069b9275f58929596ceb00d14d90e3e16cd6"
  },
  "kernelspec": {
   "display_name": "Python 3 (ipykernel)",
   "language": "python",
   "name": "python3"
  },
  "language_info": {
   "codemirror_mode": {
    "name": "ipython",
    "version": 3
   },
   "file_extension": ".py",
   "mimetype": "text/x-python",
   "name": "python",
   "nbconvert_exporter": "python",
   "pygments_lexer": "ipython3",
   "version": "3.8.11"
  },
  "papermill": {
   "default_parameters": {},
   "duration": 246.190817,
   "end_time": "2022-06-12T08:15:13.235739",
   "environment_variables": {},
   "exception": null,
   "input_path": "ABC_GAN-Catboost.ipynb",
   "output_path": "./ABC_GAN_Catboost/ABC-GAN_output_9_7.ipynb",
   "parameters": {
    "bias": 0.01,
    "variance": 0.1
   },
   "start_time": "2022-06-12T08:11:07.044922",
   "version": "2.3.3"
  }
 },
 "nbformat": 4,
 "nbformat_minor": 5
}