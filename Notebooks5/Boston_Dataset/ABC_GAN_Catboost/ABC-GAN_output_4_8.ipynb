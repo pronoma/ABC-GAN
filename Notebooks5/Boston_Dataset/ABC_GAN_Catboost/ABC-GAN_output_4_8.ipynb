{
 "cells": [
  {
   "cell_type": "markdown",
   "id": "622780e6",
   "metadata": {
    "id": "622780e6",
    "papermill": {
     "duration": 0.031022,
     "end_time": "2022-06-12T04:44:06.002393",
     "exception": false,
     "start_time": "2022-06-12T04:44:05.971371",
     "status": "completed"
    },
    "tags": []
   },
   "source": [
    "## Import Libraries "
   ]
  },
  {
   "cell_type": "code",
   "execution_count": 1,
   "id": "a62397e3",
   "metadata": {
    "execution": {
     "iopub.execute_input": "2022-06-12T04:44:06.039691Z",
     "iopub.status.busy": "2022-06-12T04:44:06.039069Z",
     "iopub.status.idle": "2022-06-12T04:44:06.041255Z",
     "shell.execute_reply": "2022-06-12T04:44:06.041558Z"
    },
    "id": "a62397e3",
    "papermill": {
     "duration": 0.021669,
     "end_time": "2022-06-12T04:44:06.041757",
     "exception": false,
     "start_time": "2022-06-12T04:44:06.020088",
     "status": "completed"
    },
    "tags": []
   },
   "outputs": [],
   "source": [
    "import warnings\n",
    "import sys\n",
    "sys.path.insert(0, '../../src')\n",
    "warnings.filterwarnings('ignore')"
   ]
  },
  {
   "cell_type": "code",
   "execution_count": 2,
   "id": "d6a4e155",
   "metadata": {
    "execution": {
     "iopub.execute_input": "2022-06-12T04:44:06.061414Z",
     "iopub.status.busy": "2022-06-12T04:44:06.061022Z",
     "iopub.status.idle": "2022-06-12T04:44:07.935565Z",
     "shell.execute_reply": "2022-06-12T04:44:07.935868Z"
    },
    "id": "d6a4e155",
    "papermill": {
     "duration": 1.88506,
     "end_time": "2022-06-12T04:44:07.935996",
     "exception": false,
     "start_time": "2022-06-12T04:44:06.050936",
     "status": "completed"
    },
    "tags": []
   },
   "outputs": [],
   "source": [
    "import ABC_train_test2\n",
    "import bostonDataset\n",
    "import network\n",
    "import dataset\n",
    "import sanityChecks\n",
    "import torch \n",
    "import scrapbook as sb\n",
    "from statistics import mean \n",
    "import catboost as ctb \n",
    "from sklearn.model_selection import train_test_split\n",
    "from sklearn.metrics import mean_squared_error,mean_absolute_error\n",
    "import numpy as np"
   ]
  },
  {
   "cell_type": "markdown",
   "id": "2fa5b0f7",
   "metadata": {
    "id": "2fa5b0f7",
    "papermill": {
     "duration": 0.006863,
     "end_time": "2022-06-12T04:44:07.950031",
     "exception": false,
     "start_time": "2022-06-12T04:44:07.943168",
     "status": "completed"
    },
    "tags": []
   },
   "source": [
    "## Parameters "
   ]
  },
  {
   "cell_type": "code",
   "execution_count": 3,
   "id": "783186fb",
   "metadata": {
    "execution": {
     "iopub.execute_input": "2022-06-12T04:44:07.965803Z",
     "iopub.status.busy": "2022-06-12T04:44:07.965441Z",
     "iopub.status.idle": "2022-06-12T04:44:07.966673Z",
     "shell.execute_reply": "2022-06-12T04:44:07.966906Z"
    },
    "id": "783186fb",
    "papermill": {
     "duration": 0.010197,
     "end_time": "2022-06-12T04:44:07.967017",
     "exception": false,
     "start_time": "2022-06-12T04:44:07.956820",
     "status": "completed"
    },
    "tags": [
     "parameters"
    ]
   },
   "outputs": [],
   "source": [
    "variance = 1\n",
    "bias = 1 "
   ]
  },
  {
   "cell_type": "code",
   "execution_count": 4,
   "id": "69c53562",
   "metadata": {
    "execution": {
     "iopub.execute_input": "2022-06-12T04:44:07.982733Z",
     "iopub.status.busy": "2022-06-12T04:44:07.982361Z",
     "iopub.status.idle": "2022-06-12T04:44:07.983617Z",
     "shell.execute_reply": "2022-06-12T04:44:07.983910Z"
    },
    "papermill": {
     "duration": 0.010014,
     "end_time": "2022-06-12T04:44:07.984026",
     "exception": false,
     "start_time": "2022-06-12T04:44:07.974012",
     "status": "completed"
    },
    "tags": [
     "injected-parameters"
    ]
   },
   "outputs": [],
   "source": [
    "# Parameters\n",
    "variance = 0.01\n",
    "bias = 0.01\n"
   ]
  },
  {
   "cell_type": "markdown",
   "id": "391cdbfd",
   "metadata": {
    "id": "391cdbfd",
    "papermill": {
     "duration": 0.006841,
     "end_time": "2022-06-12T04:44:07.997819",
     "exception": false,
     "start_time": "2022-06-12T04:44:07.990978",
     "status": "completed"
    },
    "tags": []
   },
   "source": [
    "## Dataset \n"
   ]
  },
  {
   "cell_type": "code",
   "execution_count": 5,
   "id": "5b51f161",
   "metadata": {
    "execution": {
     "iopub.execute_input": "2022-06-12T04:44:08.013533Z",
     "iopub.status.busy": "2022-06-12T04:44:08.013170Z",
     "iopub.status.idle": "2022-06-12T04:44:08.014448Z",
     "shell.execute_reply": "2022-06-12T04:44:08.014690Z"
    },
    "id": "5b51f161",
    "papermill": {
     "duration": 0.010101,
     "end_time": "2022-06-12T04:44:08.014799",
     "exception": false,
     "start_time": "2022-06-12T04:44:08.004698",
     "status": "completed"
    },
    "tags": []
   },
   "outputs": [],
   "source": [
    "#Parameters \n",
    "n_features = 13\n",
    "n_samples= 506\n",
    "n_target = 1 "
   ]
  },
  {
   "cell_type": "code",
   "execution_count": 6,
   "id": "5d6eced4",
   "metadata": {
    "execution": {
     "iopub.execute_input": "2022-06-12T04:44:08.030815Z",
     "iopub.status.busy": "2022-06-12T04:44:08.030451Z",
     "iopub.status.idle": "2022-06-12T04:44:08.041745Z",
     "shell.execute_reply": "2022-06-12T04:44:08.042013Z"
    },
    "id": "5d6eced4",
    "papermill": {
     "duration": 0.020385,
     "end_time": "2022-06-12T04:44:08.042167",
     "exception": false,
     "start_time": "2022-06-12T04:44:08.021782",
     "status": "completed"
    },
    "tags": []
   },
   "outputs": [
    {
     "name": "stdout",
     "output_type": "stream",
     "text": [
      "         X1        X2        X3        X4        X5        X6        X7  \\\n",
      "0 -0.419782  0.284830 -1.287909 -0.272599 -0.144217  0.413672 -0.120013   \n",
      "1 -0.417339 -0.487722 -0.593381 -0.272599 -0.740262  0.194274  0.367166   \n",
      "2 -0.417342 -0.487722 -0.593381 -0.272599 -0.740262  1.282714 -0.265812   \n",
      "3 -0.416750 -0.487722 -1.306878 -0.272599 -0.835284  1.016303 -0.809889   \n",
      "4 -0.412482 -0.487722 -1.306878 -0.272599 -0.835284  1.228577 -0.511180   \n",
      "\n",
      "         X8        X9       X10       X11       X12       X13         Y  \n",
      "0  0.140214 -0.982843 -0.666608 -1.459000  0.441052 -1.075562  0.159686  \n",
      "1  0.557160 -0.867883 -0.987329 -0.303094  0.441052 -0.492439 -0.101524  \n",
      "2  0.557160 -0.867883 -0.987329 -0.303094  0.396427 -1.208727  1.324247  \n",
      "3  1.077737 -0.752922 -1.106115  0.113032  0.416163 -1.361517  1.182758  \n",
      "4  1.077737 -0.752922 -1.106115  0.113032  0.441052 -1.026501  1.487503  \n"
     ]
    }
   ],
   "source": [
    "X,Y = bostonDataset.boston_data()"
   ]
  },
  {
   "cell_type": "code",
   "execution_count": 7,
   "id": "fe007438",
   "metadata": {
    "execution": {
     "iopub.execute_input": "2022-06-12T04:44:08.059695Z",
     "iopub.status.busy": "2022-06-12T04:44:08.059331Z",
     "iopub.status.idle": "2022-06-12T04:44:08.060821Z",
     "shell.execute_reply": "2022-06-12T04:44:08.061054Z"
    },
    "id": "fe007438",
    "papermill": {
     "duration": 0.011391,
     "end_time": "2022-06-12T04:44:08.061164",
     "exception": false,
     "start_time": "2022-06-12T04:44:08.049773",
     "status": "completed"
    },
    "tags": []
   },
   "outputs": [],
   "source": [
    "#Train test split for dataset \n",
    "X_train,X_test,Y_train,Y_test = train_test_split(X,Y,test_size = 0.2)\n",
    "train_data = dataset.CustomDataset(X_train,Y_train)\n",
    "test_data = dataset.CustomDataset(X_test,Y_test)\n"
   ]
  },
  {
   "cell_type": "markdown",
   "id": "a9a1af34",
   "metadata": {
    "id": "a9a1af34",
    "papermill": {
     "duration": 0.007151,
     "end_time": "2022-06-12T04:44:08.075608",
     "exception": false,
     "start_time": "2022-06-12T04:44:08.068457",
     "status": "completed"
    },
    "tags": []
   },
   "source": [
    "## Training Parameters "
   ]
  },
  {
   "cell_type": "code",
   "execution_count": 8,
   "id": "952b7fc8",
   "metadata": {
    "execution": {
     "iopub.execute_input": "2022-06-12T04:44:08.092551Z",
     "iopub.status.busy": "2022-06-12T04:44:08.092168Z",
     "iopub.status.idle": "2022-06-12T04:44:08.093445Z",
     "shell.execute_reply": "2022-06-12T04:44:08.093757Z"
    },
    "id": "952b7fc8",
    "papermill": {
     "duration": 0.011061,
     "end_time": "2022-06-12T04:44:08.093883",
     "exception": false,
     "start_time": "2022-06-12T04:44:08.082822",
     "status": "completed"
    },
    "tags": []
   },
   "outputs": [],
   "source": [
    "batch_size = 32\n",
    "n_epochs = 1000\n",
    "#Select the device \n",
    "device = torch.device('cuda' if torch.cuda.is_available() else 'cpu')"
   ]
  },
  {
   "cell_type": "markdown",
   "id": "a95e1600",
   "metadata": {
    "id": "a95e1600",
    "papermill": {
     "duration": 0.007411,
     "end_time": "2022-06-12T04:44:08.108939",
     "exception": false,
     "start_time": "2022-06-12T04:44:08.101528",
     "status": "completed"
    },
    "tags": []
   },
   "source": [
    "# ABC Pre-generator Model \n",
    "\n",
    "1. The catboost model is used as a pre-generator model for the ABC-GAN. \n",
    "2. The model is first trained on the entire dataset \n",
    "3. It generats X,Y pairs and we add some Gaussian noise with mean 0 and variance 1 to it which is then feed as input to the generator.\n"
   ]
  },
  {
   "cell_type": "code",
   "execution_count": 9,
   "id": "ff8ce7bd",
   "metadata": {
    "execution": {
     "iopub.execute_input": "2022-06-12T04:44:08.128930Z",
     "iopub.status.busy": "2022-06-12T04:44:08.128530Z",
     "iopub.status.idle": "2022-06-12T04:44:09.090961Z",
     "shell.execute_reply": "2022-06-12T04:44:09.091219Z"
    },
    "id": "ff8ce7bd",
    "papermill": {
     "duration": 0.974755,
     "end_time": "2022-06-12T04:44:09.091343",
     "exception": false,
     "start_time": "2022-06-12T04:44:08.116588",
     "status": "completed"
    },
    "tags": []
   },
   "outputs": [
    {
     "name": "stdout",
     "output_type": "stream",
     "text": [
      "Learning rate set to 0.033215\n",
      "0:\tlearn: 0.9740739\ttotal: 58.5ms\tremaining: 58.4s\n",
      "1:\tlearn: 0.9553554\ttotal: 59.4ms\tremaining: 29.6s\n",
      "2:\tlearn: 0.9355045\ttotal: 60.6ms\tremaining: 20.1s\n",
      "3:\tlearn: 0.9180897\ttotal: 61.5ms\tremaining: 15.3s\n",
      "4:\tlearn: 0.9020027\ttotal: 62.5ms\tremaining: 12.4s\n",
      "5:\tlearn: 0.8861713\ttotal: 64.1ms\tremaining: 10.6s\n",
      "6:\tlearn: 0.8693716\ttotal: 65ms\tremaining: 9.22s\n",
      "7:\tlearn: 0.8532722\ttotal: 66ms\tremaining: 8.18s\n",
      "8:\tlearn: 0.8383153\ttotal: 66.7ms\tremaining: 7.35s\n",
      "9:\tlearn: 0.8218375\ttotal: 68.6ms\tremaining: 6.79s\n",
      "10:\tlearn: 0.8064372\ttotal: 69.5ms\tremaining: 6.25s\n",
      "11:\tlearn: 0.7910935\ttotal: 70.3ms\tremaining: 5.79s\n",
      "12:\tlearn: 0.7770628\ttotal: 71.1ms\tremaining: 5.4s\n",
      "13:\tlearn: 0.7630062\ttotal: 71.8ms\tremaining: 5.06s\n",
      "14:\tlearn: 0.7517246\ttotal: 72.6ms\tremaining: 4.77s\n",
      "15:\tlearn: 0.7376375\ttotal: 73.5ms\tremaining: 4.52s\n",
      "16:\tlearn: 0.7260864\ttotal: 74.3ms\tremaining: 4.3s\n",
      "17:\tlearn: 0.7139528\ttotal: 75.1ms\tremaining: 4.1s\n",
      "18:\tlearn: 0.7020391\ttotal: 76ms\tremaining: 3.92s\n",
      "19:\tlearn: 0.6910397\ttotal: 76.8ms\tremaining: 3.76s\n",
      "20:\tlearn: 0.6779835\ttotal: 78.2ms\tremaining: 3.65s\n",
      "21:\tlearn: 0.6674829\ttotal: 79ms\tremaining: 3.51s\n",
      "22:\tlearn: 0.6558185\ttotal: 79.8ms\tremaining: 3.39s\n",
      "23:\tlearn: 0.6465349\ttotal: 80.7ms\tremaining: 3.28s\n",
      "24:\tlearn: 0.6368246\ttotal: 81.5ms\tremaining: 3.18s\n",
      "25:\tlearn: 0.6284052\ttotal: 82.4ms\tremaining: 3.08s\n",
      "26:\tlearn: 0.6197931\ttotal: 83.2ms\tremaining: 3s\n",
      "27:\tlearn: 0.6114361\ttotal: 83.9ms\tremaining: 2.91s\n",
      "28:\tlearn: 0.6031059\ttotal: 84.7ms\tremaining: 2.84s\n",
      "29:\tlearn: 0.5938114\ttotal: 85.5ms\tremaining: 2.77s\n",
      "30:\tlearn: 0.5856687\ttotal: 86.3ms\tremaining: 2.7s\n",
      "31:\tlearn: 0.5778444\ttotal: 87.2ms\tremaining: 2.64s\n",
      "32:\tlearn: 0.5707431\ttotal: 88.1ms\tremaining: 2.58s\n",
      "33:\tlearn: 0.5626442\ttotal: 88.9ms\tremaining: 2.52s\n",
      "34:\tlearn: 0.5551981\ttotal: 90.3ms\tremaining: 2.49s\n",
      "35:\tlearn: 0.5478562\ttotal: 91ms\tremaining: 2.44s\n",
      "36:\tlearn: 0.5417602\ttotal: 91.8ms\tremaining: 2.39s\n",
      "37:\tlearn: 0.5350508\ttotal: 92.6ms\tremaining: 2.35s\n",
      "38:\tlearn: 0.5277592\ttotal: 93.6ms\tremaining: 2.31s\n",
      "39:\tlearn: 0.5209705\ttotal: 94.2ms\tremaining: 2.26s\n",
      "40:\tlearn: 0.5152358\ttotal: 95.5ms\tremaining: 2.23s\n",
      "41:\tlearn: 0.5082712\ttotal: 96.3ms\tremaining: 2.2s\n",
      "42:\tlearn: 0.5030532\ttotal: 97.1ms\tremaining: 2.16s\n",
      "43:\tlearn: 0.4966932\ttotal: 97.9ms\tremaining: 2.13s\n",
      "44:\tlearn: 0.4907375\ttotal: 98.9ms\tremaining: 2.1s\n",
      "45:\tlearn: 0.4856521\ttotal: 99.7ms\tremaining: 2.07s\n",
      "46:\tlearn: 0.4811339\ttotal: 100ms\tremaining: 2.04s\n",
      "47:\tlearn: 0.4753422\ttotal: 101ms\tremaining: 2.01s\n",
      "48:\tlearn: 0.4696565\ttotal: 102ms\tremaining: 1.98s\n",
      "49:\tlearn: 0.4654024\ttotal: 103ms\tremaining: 1.96s\n",
      "50:\tlearn: 0.4607214\ttotal: 104ms\tremaining: 1.93s\n",
      "51:\tlearn: 0.4563776\ttotal: 105ms\tremaining: 1.91s\n"
     ]
    },
    {
     "name": "stdout",
     "output_type": "stream",
     "text": [
      "52:\tlearn: 0.4510223\ttotal: 106ms\tremaining: 1.89s\n",
      "53:\tlearn: 0.4478002\ttotal: 106ms\tremaining: 1.86s\n",
      "54:\tlearn: 0.4434428\ttotal: 107ms\tremaining: 1.84s\n",
      "55:\tlearn: 0.4403587\ttotal: 108ms\tremaining: 1.82s\n",
      "56:\tlearn: 0.4371317\ttotal: 109ms\tremaining: 1.8s\n",
      "57:\tlearn: 0.4328177\ttotal: 110ms\tremaining: 1.78s\n",
      "58:\tlearn: 0.4291759\ttotal: 111ms\tremaining: 1.76s\n",
      "59:\tlearn: 0.4250505\ttotal: 111ms\tremaining: 1.74s\n",
      "60:\tlearn: 0.4207948\ttotal: 112ms\tremaining: 1.73s\n",
      "61:\tlearn: 0.4163341\ttotal: 113ms\tremaining: 1.71s\n",
      "62:\tlearn: 0.4138814\ttotal: 114ms\tremaining: 1.69s\n",
      "63:\tlearn: 0.4101522\ttotal: 115ms\tremaining: 1.67s\n",
      "64:\tlearn: 0.4063190\ttotal: 115ms\tremaining: 1.66s\n",
      "65:\tlearn: 0.4036592\ttotal: 116ms\tremaining: 1.64s\n",
      "66:\tlearn: 0.3999107\ttotal: 117ms\tremaining: 1.63s\n",
      "67:\tlearn: 0.3968957\ttotal: 118ms\tremaining: 1.62s\n",
      "68:\tlearn: 0.3940204\ttotal: 119ms\tremaining: 1.6s\n",
      "69:\tlearn: 0.3912352\ttotal: 120ms\tremaining: 1.59s\n",
      "70:\tlearn: 0.3873007\ttotal: 120ms\tremaining: 1.58s\n",
      "71:\tlearn: 0.3832662\ttotal: 121ms\tremaining: 1.56s\n",
      "72:\tlearn: 0.3805853\ttotal: 122ms\tremaining: 1.55s\n",
      "73:\tlearn: 0.3774001\ttotal: 123ms\tremaining: 1.54s\n",
      "74:\tlearn: 0.3747479\ttotal: 124ms\tremaining: 1.52s\n",
      "75:\tlearn: 0.3721540\ttotal: 125ms\tremaining: 1.52s\n",
      "76:\tlearn: 0.3688053\ttotal: 125ms\tremaining: 1.5s\n",
      "77:\tlearn: 0.3655398\ttotal: 126ms\tremaining: 1.49s\n",
      "78:\tlearn: 0.3625227\ttotal: 127ms\tremaining: 1.49s\n",
      "79:\tlearn: 0.3607141\ttotal: 128ms\tremaining: 1.48s\n",
      "80:\tlearn: 0.3585262\ttotal: 129ms\tremaining: 1.47s\n",
      "81:\tlearn: 0.3561228\ttotal: 130ms\tremaining: 1.45s\n",
      "82:\tlearn: 0.3545325\ttotal: 131ms\tremaining: 1.44s\n",
      "83:\tlearn: 0.3521743\ttotal: 132ms\tremaining: 1.43s\n",
      "84:\tlearn: 0.3503235\ttotal: 132ms\tremaining: 1.42s\n",
      "85:\tlearn: 0.3471776\ttotal: 133ms\tremaining: 1.42s\n",
      "86:\tlearn: 0.3446514\ttotal: 135ms\tremaining: 1.41s\n",
      "87:\tlearn: 0.3416482\ttotal: 135ms\tremaining: 1.4s\n",
      "88:\tlearn: 0.3397691\ttotal: 136ms\tremaining: 1.4s\n",
      "89:\tlearn: 0.3379136\ttotal: 137ms\tremaining: 1.39s\n",
      "90:\tlearn: 0.3359237\ttotal: 138ms\tremaining: 1.38s\n",
      "91:\tlearn: 0.3344267\ttotal: 139ms\tremaining: 1.37s\n",
      "92:\tlearn: 0.3321379\ttotal: 140ms\tremaining: 1.36s\n",
      "93:\tlearn: 0.3303193\ttotal: 140ms\tremaining: 1.35s\n",
      "94:\tlearn: 0.3279220\ttotal: 141ms\tremaining: 1.34s\n",
      "95:\tlearn: 0.3262066\ttotal: 142ms\tremaining: 1.34s\n",
      "96:\tlearn: 0.3248845\ttotal: 143ms\tremaining: 1.33s\n",
      "97:\tlearn: 0.3234492\ttotal: 144ms\tremaining: 1.32s\n",
      "98:\tlearn: 0.3217193\ttotal: 144ms\tremaining: 1.31s\n",
      "99:\tlearn: 0.3205481\ttotal: 145ms\tremaining: 1.31s\n",
      "100:\tlearn: 0.3189408\ttotal: 146ms\tremaining: 1.3s\n",
      "101:\tlearn: 0.3174845\ttotal: 147ms\tremaining: 1.29s\n",
      "102:\tlearn: 0.3163160\ttotal: 148ms\tremaining: 1.29s\n",
      "103:\tlearn: 0.3150723\ttotal: 149ms\tremaining: 1.28s\n",
      "104:\tlearn: 0.3138119\ttotal: 150ms\tremaining: 1.27s\n",
      "105:\tlearn: 0.3124521\ttotal: 150ms\tremaining: 1.27s\n",
      "106:\tlearn: 0.3107256\ttotal: 151ms\tremaining: 1.26s\n",
      "107:\tlearn: 0.3085518\ttotal: 152ms\tremaining: 1.25s\n",
      "108:\tlearn: 0.3072042\ttotal: 153ms\tremaining: 1.25s\n",
      "109:\tlearn: 0.3051827\ttotal: 153ms\tremaining: 1.24s\n",
      "110:\tlearn: 0.3042504\ttotal: 154ms\tremaining: 1.24s\n",
      "111:\tlearn: 0.3029967\ttotal: 155ms\tremaining: 1.23s\n",
      "112:\tlearn: 0.3012646\ttotal: 156ms\tremaining: 1.22s\n",
      "113:\tlearn: 0.2998737\ttotal: 157ms\tremaining: 1.22s\n",
      "114:\tlearn: 0.2984330\ttotal: 157ms\tremaining: 1.21s\n",
      "115:\tlearn: 0.2975920\ttotal: 158ms\tremaining: 1.21s\n",
      "116:\tlearn: 0.2962880\ttotal: 159ms\tremaining: 1.2s\n",
      "117:\tlearn: 0.2943715\ttotal: 160ms\tremaining: 1.19s\n",
      "118:\tlearn: 0.2939374\ttotal: 160ms\tremaining: 1.19s\n",
      "119:\tlearn: 0.2930566\ttotal: 161ms\tremaining: 1.18s\n",
      "120:\tlearn: 0.2915974\ttotal: 162ms\tremaining: 1.18s\n",
      "121:\tlearn: 0.2904245\ttotal: 163ms\tremaining: 1.17s\n",
      "122:\tlearn: 0.2895742\ttotal: 163ms\tremaining: 1.17s\n",
      "123:\tlearn: 0.2881739\ttotal: 164ms\tremaining: 1.16s\n",
      "124:\tlearn: 0.2866184\ttotal: 165ms\tremaining: 1.16s\n",
      "125:\tlearn: 0.2857432\ttotal: 166ms\tremaining: 1.15s\n",
      "126:\tlearn: 0.2844384\ttotal: 167ms\tremaining: 1.15s\n",
      "127:\tlearn: 0.2830899\ttotal: 168ms\tremaining: 1.14s\n",
      "128:\tlearn: 0.2820174\ttotal: 169ms\tremaining: 1.14s\n",
      "129:\tlearn: 0.2809120\ttotal: 170ms\tremaining: 1.13s\n",
      "130:\tlearn: 0.2798617\ttotal: 170ms\tremaining: 1.13s\n",
      "131:\tlearn: 0.2793104\ttotal: 171ms\tremaining: 1.13s\n",
      "132:\tlearn: 0.2784100\ttotal: 172ms\tremaining: 1.12s\n",
      "133:\tlearn: 0.2774200\ttotal: 173ms\tremaining: 1.12s\n",
      "134:\tlearn: 0.2763496\ttotal: 174ms\tremaining: 1.11s\n",
      "135:\tlearn: 0.2754164\ttotal: 175ms\tremaining: 1.11s\n",
      "136:\tlearn: 0.2747980\ttotal: 176ms\tremaining: 1.1s\n",
      "137:\tlearn: 0.2737844\ttotal: 176ms\tremaining: 1.1s\n",
      "138:\tlearn: 0.2723615\ttotal: 177ms\tremaining: 1.1s\n",
      "139:\tlearn: 0.2716924\ttotal: 178ms\tremaining: 1.09s\n",
      "140:\tlearn: 0.2706543\ttotal: 179ms\tremaining: 1.09s\n",
      "141:\tlearn: 0.2698770\ttotal: 179ms\tremaining: 1.08s\n",
      "142:\tlearn: 0.2688348\ttotal: 180ms\tremaining: 1.08s\n",
      "143:\tlearn: 0.2676540\ttotal: 181ms\tremaining: 1.08s\n",
      "144:\tlearn: 0.2667524\ttotal: 182ms\tremaining: 1.07s\n",
      "145:\tlearn: 0.2656032\ttotal: 183ms\tremaining: 1.07s\n",
      "146:\tlearn: 0.2648114\ttotal: 184ms\tremaining: 1.06s\n",
      "147:\tlearn: 0.2639857\ttotal: 184ms\tremaining: 1.06s\n",
      "148:\tlearn: 0.2631230\ttotal: 185ms\tremaining: 1.06s\n",
      "149:\tlearn: 0.2621326\ttotal: 186ms\tremaining: 1.05s\n",
      "150:\tlearn: 0.2614065\ttotal: 187ms\tremaining: 1.05s\n",
      "151:\tlearn: 0.2601958\ttotal: 188ms\tremaining: 1.05s\n",
      "152:\tlearn: 0.2592458\ttotal: 188ms\tremaining: 1.04s\n",
      "153:\tlearn: 0.2588035\ttotal: 189ms\tremaining: 1.04s\n",
      "154:\tlearn: 0.2579220\ttotal: 190ms\tremaining: 1.04s\n",
      "155:\tlearn: 0.2571868\ttotal: 191ms\tremaining: 1.03s\n"
     ]
    },
    {
     "name": "stdout",
     "output_type": "stream",
     "text": [
      "156:\tlearn: 0.2563558\ttotal: 192ms\tremaining: 1.03s\n",
      "157:\tlearn: 0.2553932\ttotal: 193ms\tremaining: 1.03s\n",
      "158:\tlearn: 0.2547985\ttotal: 194ms\tremaining: 1.02s\n",
      "159:\tlearn: 0.2541398\ttotal: 195ms\tremaining: 1.02s\n",
      "160:\tlearn: 0.2531652\ttotal: 196ms\tremaining: 1.02s\n",
      "161:\tlearn: 0.2524269\ttotal: 197ms\tremaining: 1.02s\n",
      "162:\tlearn: 0.2518679\ttotal: 197ms\tremaining: 1.01s\n",
      "163:\tlearn: 0.2512801\ttotal: 198ms\tremaining: 1.01s\n",
      "164:\tlearn: 0.2503806\ttotal: 199ms\tremaining: 1.01s\n",
      "165:\tlearn: 0.2492816\ttotal: 200ms\tremaining: 1s\n",
      "166:\tlearn: 0.2487808\ttotal: 201ms\tremaining: 1s\n",
      "167:\tlearn: 0.2480656\ttotal: 202ms\tremaining: 999ms\n",
      "168:\tlearn: 0.2474886\ttotal: 203ms\tremaining: 997ms\n",
      "169:\tlearn: 0.2467445\ttotal: 204ms\tremaining: 994ms\n",
      "170:\tlearn: 0.2462594\ttotal: 204ms\tremaining: 991ms\n",
      "171:\tlearn: 0.2456163\ttotal: 205ms\tremaining: 988ms\n",
      "172:\tlearn: 0.2450175\ttotal: 206ms\tremaining: 986ms\n",
      "173:\tlearn: 0.2442778\ttotal: 207ms\tremaining: 982ms\n",
      "174:\tlearn: 0.2435576\ttotal: 208ms\tremaining: 979ms\n",
      "175:\tlearn: 0.2431813\ttotal: 208ms\tremaining: 976ms\n",
      "176:\tlearn: 0.2424398\ttotal: 209ms\tremaining: 973ms\n",
      "177:\tlearn: 0.2416337\ttotal: 210ms\tremaining: 970ms\n",
      "178:\tlearn: 0.2411014\ttotal: 211ms\tremaining: 967ms\n",
      "179:\tlearn: 0.2405971\ttotal: 212ms\tremaining: 965ms\n",
      "180:\tlearn: 0.2401061\ttotal: 213ms\tremaining: 962ms\n",
      "181:\tlearn: 0.2396935\ttotal: 213ms\tremaining: 959ms\n",
      "182:\tlearn: 0.2390182\ttotal: 214ms\tremaining: 956ms\n",
      "183:\tlearn: 0.2382242\ttotal: 215ms\tremaining: 953ms\n",
      "184:\tlearn: 0.2374773\ttotal: 216ms\tremaining: 951ms\n",
      "185:\tlearn: 0.2367494\ttotal: 217ms\tremaining: 948ms\n",
      "186:\tlearn: 0.2362155\ttotal: 217ms\tremaining: 945ms\n",
      "187:\tlearn: 0.2356885\ttotal: 218ms\tremaining: 942ms\n",
      "188:\tlearn: 0.2351867\ttotal: 219ms\tremaining: 940ms\n",
      "189:\tlearn: 0.2347713\ttotal: 220ms\tremaining: 938ms\n",
      "190:\tlearn: 0.2338692\ttotal: 221ms\tremaining: 935ms\n",
      "191:\tlearn: 0.2334657\ttotal: 222ms\tremaining: 933ms\n",
      "192:\tlearn: 0.2330141\ttotal: 222ms\tremaining: 930ms\n",
      "193:\tlearn: 0.2323913\ttotal: 223ms\tremaining: 928ms\n",
      "194:\tlearn: 0.2319523\ttotal: 224ms\tremaining: 925ms\n",
      "195:\tlearn: 0.2314235\ttotal: 225ms\tremaining: 923ms\n",
      "196:\tlearn: 0.2310028\ttotal: 226ms\tremaining: 920ms\n",
      "197:\tlearn: 0.2307557\ttotal: 226ms\tremaining: 917ms\n",
      "198:\tlearn: 0.2305013\ttotal: 227ms\tremaining: 915ms\n",
      "199:\tlearn: 0.2298165\ttotal: 228ms\tremaining: 912ms\n",
      "200:\tlearn: 0.2292418\ttotal: 229ms\tremaining: 910ms\n",
      "201:\tlearn: 0.2285267\ttotal: 230ms\tremaining: 908ms\n",
      "202:\tlearn: 0.2278458\ttotal: 231ms\tremaining: 905ms\n",
      "203:\tlearn: 0.2272244\ttotal: 231ms\tremaining: 903ms\n",
      "204:\tlearn: 0.2266325\ttotal: 232ms\tremaining: 901ms\n",
      "205:\tlearn: 0.2259601\ttotal: 233ms\tremaining: 899ms\n",
      "206:\tlearn: 0.2253309\ttotal: 234ms\tremaining: 896ms\n",
      "207:\tlearn: 0.2248931\ttotal: 235ms\tremaining: 894ms\n",
      "208:\tlearn: 0.2246863\ttotal: 236ms\tremaining: 892ms\n",
      "209:\tlearn: 0.2241090\ttotal: 237ms\tremaining: 890ms\n",
      "210:\tlearn: 0.2235539\ttotal: 238ms\tremaining: 888ms\n",
      "211:\tlearn: 0.2230011\ttotal: 238ms\tremaining: 886ms\n",
      "212:\tlearn: 0.2225180\ttotal: 239ms\tremaining: 884ms\n",
      "213:\tlearn: 0.2221334\ttotal: 240ms\tremaining: 881ms\n",
      "214:\tlearn: 0.2213921\ttotal: 241ms\tremaining: 879ms\n",
      "215:\tlearn: 0.2207419\ttotal: 242ms\tremaining: 878ms\n",
      "216:\tlearn: 0.2205624\ttotal: 243ms\tremaining: 875ms\n",
      "217:\tlearn: 0.2201221\ttotal: 243ms\tremaining: 873ms\n",
      "218:\tlearn: 0.2197460\ttotal: 244ms\tremaining: 871ms\n",
      "219:\tlearn: 0.2192039\ttotal: 245ms\tremaining: 869ms\n",
      "220:\tlearn: 0.2184541\ttotal: 246ms\tremaining: 867ms\n",
      "221:\tlearn: 0.2179633\ttotal: 247ms\tremaining: 864ms\n",
      "222:\tlearn: 0.2178117\ttotal: 247ms\tremaining: 862ms\n",
      "223:\tlearn: 0.2173727\ttotal: 248ms\tremaining: 860ms\n",
      "224:\tlearn: 0.2169998\ttotal: 249ms\tremaining: 858ms\n",
      "225:\tlearn: 0.2166446\ttotal: 250ms\tremaining: 856ms\n",
      "226:\tlearn: 0.2159170\ttotal: 251ms\tremaining: 855ms\n",
      "227:\tlearn: 0.2153877\ttotal: 252ms\tremaining: 852ms\n",
      "228:\tlearn: 0.2148393\ttotal: 253ms\tremaining: 850ms\n",
      "229:\tlearn: 0.2145767\ttotal: 253ms\tremaining: 848ms\n",
      "230:\tlearn: 0.2142321\ttotal: 254ms\tremaining: 846ms\n",
      "231:\tlearn: 0.2136112\ttotal: 255ms\tremaining: 844ms\n",
      "232:\tlearn: 0.2130727\ttotal: 256ms\tremaining: 842ms\n",
      "233:\tlearn: 0.2128197\ttotal: 256ms\tremaining: 840ms\n",
      "234:\tlearn: 0.2126614\ttotal: 257ms\tremaining: 838ms\n",
      "235:\tlearn: 0.2123836\ttotal: 258ms\tremaining: 836ms\n",
      "236:\tlearn: 0.2117546\ttotal: 259ms\tremaining: 834ms\n",
      "237:\tlearn: 0.2115227\ttotal: 260ms\tremaining: 832ms\n",
      "238:\tlearn: 0.2113514\ttotal: 261ms\tremaining: 830ms\n",
      "239:\tlearn: 0.2110501\ttotal: 261ms\tremaining: 828ms\n",
      "240:\tlearn: 0.2105471\ttotal: 262ms\tremaining: 826ms\n",
      "241:\tlearn: 0.2102954\ttotal: 263ms\tremaining: 824ms\n",
      "242:\tlearn: 0.2099758\ttotal: 264ms\tremaining: 822ms\n",
      "243:\tlearn: 0.2094091\ttotal: 265ms\tremaining: 821ms\n",
      "244:\tlearn: 0.2091541\ttotal: 266ms\tremaining: 818ms\n",
      "245:\tlearn: 0.2089332\ttotal: 266ms\tremaining: 817ms\n",
      "246:\tlearn: 0.2085208\ttotal: 267ms\tremaining: 815ms\n",
      "247:\tlearn: 0.2082199\ttotal: 268ms\tremaining: 813ms\n",
      "248:\tlearn: 0.2079624\ttotal: 269ms\tremaining: 811ms\n",
      "249:\tlearn: 0.2072439\ttotal: 270ms\tremaining: 809ms\n",
      "250:\tlearn: 0.2067861\ttotal: 271ms\tremaining: 808ms\n",
      "251:\tlearn: 0.2060326\ttotal: 272ms\tremaining: 806ms\n",
      "252:\tlearn: 0.2057903\ttotal: 272ms\tremaining: 804ms\n",
      "253:\tlearn: 0.2050916\ttotal: 273ms\tremaining: 802ms\n",
      "254:\tlearn: 0.2048484\ttotal: 274ms\tremaining: 800ms\n",
      "255:\tlearn: 0.2046117\ttotal: 275ms\tremaining: 798ms\n",
      "256:\tlearn: 0.2037296\ttotal: 276ms\tremaining: 797ms\n",
      "257:\tlearn: 0.2031112\ttotal: 277ms\tremaining: 795ms\n",
      "258:\tlearn: 0.2026825\ttotal: 277ms\tremaining: 794ms\n",
      "259:\tlearn: 0.2025447\ttotal: 278ms\tremaining: 792ms\n",
      "260:\tlearn: 0.2023000\ttotal: 279ms\tremaining: 790ms\n",
      "261:\tlearn: 0.2015806\ttotal: 280ms\tremaining: 788ms\n",
      "262:\tlearn: 0.2010496\ttotal: 281ms\tremaining: 786ms\n",
      "263:\tlearn: 0.2003936\ttotal: 281ms\tremaining: 784ms\n",
      "264:\tlearn: 0.2002033\ttotal: 282ms\tremaining: 783ms\n",
      "265:\tlearn: 0.1998070\ttotal: 283ms\tremaining: 781ms\n",
      "266:\tlearn: 0.1996544\ttotal: 284ms\tremaining: 779ms\n",
      "267:\tlearn: 0.1988831\ttotal: 285ms\tremaining: 778ms\n",
      "268:\tlearn: 0.1981917\ttotal: 286ms\tremaining: 776ms\n",
      "269:\tlearn: 0.1980768\ttotal: 286ms\tremaining: 774ms\n",
      "270:\tlearn: 0.1975763\ttotal: 287ms\tremaining: 773ms\n",
      "271:\tlearn: 0.1973680\ttotal: 288ms\tremaining: 771ms\n",
      "272:\tlearn: 0.1970593\ttotal: 289ms\tremaining: 770ms\n",
      "273:\tlearn: 0.1965582\ttotal: 290ms\tremaining: 768ms\n",
      "274:\tlearn: 0.1958189\ttotal: 291ms\tremaining: 766ms\n",
      "275:\tlearn: 0.1952285\ttotal: 291ms\tremaining: 764ms\n",
      "276:\tlearn: 0.1950745\ttotal: 292ms\tremaining: 763ms\n",
      "277:\tlearn: 0.1946744\ttotal: 293ms\tremaining: 761ms\n",
      "278:\tlearn: 0.1941878\ttotal: 294ms\tremaining: 760ms\n",
      "279:\tlearn: 0.1937182\ttotal: 295ms\tremaining: 758ms\n"
     ]
    },
    {
     "name": "stdout",
     "output_type": "stream",
     "text": [
      "280:\tlearn: 0.1936192\ttotal: 296ms\tremaining: 757ms\n",
      "281:\tlearn: 0.1932827\ttotal: 297ms\tremaining: 755ms\n",
      "282:\tlearn: 0.1931620\ttotal: 297ms\tremaining: 753ms\n",
      "283:\tlearn: 0.1925413\ttotal: 298ms\tremaining: 752ms\n",
      "284:\tlearn: 0.1920201\ttotal: 299ms\tremaining: 750ms\n",
      "285:\tlearn: 0.1917857\ttotal: 300ms\tremaining: 749ms\n",
      "286:\tlearn: 0.1916548\ttotal: 301ms\tremaining: 747ms\n",
      "287:\tlearn: 0.1913295\ttotal: 302ms\tremaining: 746ms\n",
      "288:\tlearn: 0.1909974\ttotal: 302ms\tremaining: 744ms\n",
      "289:\tlearn: 0.1904868\ttotal: 304ms\tremaining: 743ms\n",
      "290:\tlearn: 0.1898317\ttotal: 304ms\tremaining: 741ms\n",
      "291:\tlearn: 0.1892555\ttotal: 305ms\tremaining: 740ms\n",
      "292:\tlearn: 0.1885931\ttotal: 306ms\tremaining: 738ms\n",
      "293:\tlearn: 0.1881353\ttotal: 307ms\tremaining: 737ms\n",
      "294:\tlearn: 0.1875108\ttotal: 308ms\tremaining: 736ms\n",
      "295:\tlearn: 0.1870565\ttotal: 309ms\tremaining: 734ms\n",
      "296:\tlearn: 0.1864095\ttotal: 309ms\tremaining: 733ms\n",
      "297:\tlearn: 0.1863159\ttotal: 310ms\tremaining: 731ms\n",
      "298:\tlearn: 0.1858048\ttotal: 311ms\tremaining: 730ms\n",
      "299:\tlearn: 0.1853799\ttotal: 312ms\tremaining: 728ms\n",
      "300:\tlearn: 0.1852910\ttotal: 313ms\tremaining: 726ms\n",
      "301:\tlearn: 0.1851388\ttotal: 314ms\tremaining: 725ms\n",
      "302:\tlearn: 0.1846485\ttotal: 314ms\tremaining: 723ms\n",
      "303:\tlearn: 0.1841723\ttotal: 315ms\tremaining: 721ms\n",
      "304:\tlearn: 0.1834873\ttotal: 316ms\tremaining: 720ms\n",
      "305:\tlearn: 0.1829017\ttotal: 317ms\tremaining: 719ms\n",
      "306:\tlearn: 0.1828128\ttotal: 318ms\tremaining: 717ms\n",
      "307:\tlearn: 0.1827255\ttotal: 318ms\tremaining: 715ms\n",
      "308:\tlearn: 0.1825087\ttotal: 319ms\tremaining: 714ms\n",
      "309:\tlearn: 0.1821516\ttotal: 320ms\tremaining: 713ms\n",
      "310:\tlearn: 0.1819389\ttotal: 321ms\tremaining: 711ms\n",
      "311:\tlearn: 0.1814649\ttotal: 322ms\tremaining: 710ms\n",
      "312:\tlearn: 0.1813465\ttotal: 323ms\tremaining: 708ms\n",
      "313:\tlearn: 0.1809529\ttotal: 324ms\tremaining: 707ms\n",
      "314:\tlearn: 0.1808685\ttotal: 324ms\tremaining: 706ms\n",
      "315:\tlearn: 0.1807158\ttotal: 325ms\tremaining: 704ms\n",
      "316:\tlearn: 0.1803724\ttotal: 326ms\tremaining: 702ms\n",
      "317:\tlearn: 0.1802014\ttotal: 327ms\tremaining: 701ms\n",
      "318:\tlearn: 0.1798523\ttotal: 328ms\tremaining: 700ms\n",
      "319:\tlearn: 0.1794797\ttotal: 329ms\tremaining: 698ms\n",
      "320:\tlearn: 0.1792983\ttotal: 329ms\tremaining: 697ms\n",
      "321:\tlearn: 0.1786861\ttotal: 330ms\tremaining: 695ms\n",
      "322:\tlearn: 0.1782972\ttotal: 331ms\tremaining: 694ms\n",
      "323:\tlearn: 0.1779358\ttotal: 332ms\tremaining: 692ms\n",
      "324:\tlearn: 0.1777567\ttotal: 333ms\tremaining: 691ms\n",
      "325:\tlearn: 0.1773086\ttotal: 334ms\tremaining: 690ms\n",
      "326:\tlearn: 0.1771425\ttotal: 334ms\tremaining: 688ms\n",
      "327:\tlearn: 0.1766332\ttotal: 335ms\tremaining: 687ms\n",
      "328:\tlearn: 0.1764675\ttotal: 336ms\tremaining: 685ms\n",
      "329:\tlearn: 0.1761277\ttotal: 337ms\tremaining: 684ms\n",
      "330:\tlearn: 0.1754588\ttotal: 338ms\tremaining: 683ms\n",
      "331:\tlearn: 0.1749601\ttotal: 339ms\tremaining: 681ms\n",
      "332:\tlearn: 0.1745541\ttotal: 339ms\tremaining: 680ms\n",
      "333:\tlearn: 0.1740213\ttotal: 340ms\tremaining: 679ms\n",
      "334:\tlearn: 0.1736349\ttotal: 341ms\tremaining: 677ms\n",
      "335:\tlearn: 0.1733205\ttotal: 343ms\tremaining: 677ms\n",
      "336:\tlearn: 0.1729706\ttotal: 343ms\tremaining: 676ms\n",
      "337:\tlearn: 0.1724067\ttotal: 344ms\tremaining: 674ms\n",
      "338:\tlearn: 0.1722297\ttotal: 345ms\tremaining: 673ms\n",
      "339:\tlearn: 0.1717387\ttotal: 346ms\tremaining: 672ms\n",
      "340:\tlearn: 0.1715830\ttotal: 347ms\tremaining: 670ms\n",
      "341:\tlearn: 0.1714737\ttotal: 347ms\tremaining: 668ms\n",
      "342:\tlearn: 0.1713857\ttotal: 348ms\tremaining: 667ms\n",
      "343:\tlearn: 0.1710232\ttotal: 349ms\tremaining: 666ms\n",
      "344:\tlearn: 0.1705615\ttotal: 350ms\tremaining: 664ms\n",
      "345:\tlearn: 0.1701707\ttotal: 351ms\tremaining: 663ms\n",
      "346:\tlearn: 0.1700442\ttotal: 351ms\tremaining: 661ms\n",
      "347:\tlearn: 0.1697361\ttotal: 352ms\tremaining: 660ms\n",
      "348:\tlearn: 0.1694143\ttotal: 353ms\tremaining: 658ms\n",
      "349:\tlearn: 0.1689977\ttotal: 354ms\tremaining: 657ms\n",
      "350:\tlearn: 0.1688076\ttotal: 355ms\tremaining: 656ms\n",
      "351:\tlearn: 0.1686640\ttotal: 355ms\tremaining: 654ms\n",
      "352:\tlearn: 0.1685383\ttotal: 356ms\tremaining: 653ms\n",
      "353:\tlearn: 0.1684182\ttotal: 357ms\tremaining: 651ms\n",
      "354:\tlearn: 0.1683387\ttotal: 358ms\tremaining: 650ms\n",
      "355:\tlearn: 0.1680468\ttotal: 358ms\tremaining: 649ms\n",
      "356:\tlearn: 0.1679709\ttotal: 359ms\tremaining: 647ms\n",
      "357:\tlearn: 0.1677399\ttotal: 360ms\tremaining: 646ms\n",
      "358:\tlearn: 0.1672265\ttotal: 361ms\tremaining: 645ms\n",
      "359:\tlearn: 0.1671491\ttotal: 362ms\tremaining: 643ms\n",
      "360:\tlearn: 0.1670400\ttotal: 363ms\tremaining: 642ms\n",
      "361:\tlearn: 0.1669413\ttotal: 363ms\tremaining: 640ms\n",
      "362:\tlearn: 0.1665333\ttotal: 364ms\tremaining: 639ms\n",
      "363:\tlearn: 0.1661999\ttotal: 365ms\tremaining: 638ms\n",
      "364:\tlearn: 0.1658174\ttotal: 366ms\tremaining: 636ms\n",
      "365:\tlearn: 0.1657486\ttotal: 366ms\tremaining: 635ms\n",
      "366:\tlearn: 0.1654572\ttotal: 367ms\tremaining: 633ms\n",
      "367:\tlearn: 0.1653980\ttotal: 368ms\tremaining: 632ms\n",
      "368:\tlearn: 0.1649822\ttotal: 369ms\tremaining: 631ms\n",
      "369:\tlearn: 0.1647783\ttotal: 370ms\tremaining: 629ms\n",
      "370:\tlearn: 0.1646971\ttotal: 370ms\tremaining: 628ms\n",
      "371:\tlearn: 0.1646117\ttotal: 371ms\tremaining: 627ms\n",
      "372:\tlearn: 0.1645057\ttotal: 372ms\tremaining: 625ms\n",
      "373:\tlearn: 0.1643319\ttotal: 373ms\tremaining: 624ms\n",
      "374:\tlearn: 0.1640135\ttotal: 374ms\tremaining: 623ms\n",
      "375:\tlearn: 0.1639541\ttotal: 374ms\tremaining: 622ms\n",
      "376:\tlearn: 0.1637965\ttotal: 375ms\tremaining: 620ms\n",
      "377:\tlearn: 0.1633256\ttotal: 376ms\tremaining: 619ms\n",
      "378:\tlearn: 0.1627752\ttotal: 377ms\tremaining: 618ms\n",
      "379:\tlearn: 0.1623069\ttotal: 378ms\tremaining: 616ms\n",
      "380:\tlearn: 0.1620623\ttotal: 379ms\tremaining: 615ms\n",
      "381:\tlearn: 0.1615468\ttotal: 380ms\tremaining: 614ms\n",
      "382:\tlearn: 0.1614798\ttotal: 380ms\tremaining: 613ms\n",
      "383:\tlearn: 0.1612077\ttotal: 381ms\tremaining: 611ms\n"
     ]
    },
    {
     "name": "stdout",
     "output_type": "stream",
     "text": [
      "384:\tlearn: 0.1611474\ttotal: 382ms\tremaining: 610ms\n",
      "385:\tlearn: 0.1606960\ttotal: 383ms\tremaining: 609ms\n",
      "386:\tlearn: 0.1605767\ttotal: 384ms\tremaining: 608ms\n",
      "387:\tlearn: 0.1604688\ttotal: 385ms\tremaining: 607ms\n",
      "388:\tlearn: 0.1601667\ttotal: 385ms\tremaining: 605ms\n",
      "389:\tlearn: 0.1599293\ttotal: 386ms\tremaining: 604ms\n",
      "390:\tlearn: 0.1594929\ttotal: 387ms\tremaining: 603ms\n",
      "391:\tlearn: 0.1592153\ttotal: 388ms\tremaining: 602ms\n",
      "392:\tlearn: 0.1589662\ttotal: 389ms\tremaining: 600ms\n",
      "393:\tlearn: 0.1583853\ttotal: 389ms\tremaining: 599ms\n",
      "394:\tlearn: 0.1579511\ttotal: 390ms\tremaining: 598ms\n",
      "395:\tlearn: 0.1576026\ttotal: 391ms\tremaining: 596ms\n",
      "396:\tlearn: 0.1575392\ttotal: 392ms\tremaining: 595ms\n",
      "397:\tlearn: 0.1571850\ttotal: 393ms\tremaining: 594ms\n",
      "398:\tlearn: 0.1567957\ttotal: 394ms\tremaining: 593ms\n",
      "399:\tlearn: 0.1564224\ttotal: 394ms\tremaining: 592ms\n",
      "400:\tlearn: 0.1560901\ttotal: 395ms\tremaining: 590ms\n",
      "401:\tlearn: 0.1558741\ttotal: 396ms\tremaining: 589ms\n",
      "402:\tlearn: 0.1554328\ttotal: 397ms\tremaining: 588ms\n",
      "403:\tlearn: 0.1553832\ttotal: 398ms\tremaining: 587ms\n",
      "404:\tlearn: 0.1550549\ttotal: 399ms\tremaining: 586ms\n",
      "405:\tlearn: 0.1549463\ttotal: 399ms\tremaining: 584ms\n",
      "406:\tlearn: 0.1545853\ttotal: 400ms\tremaining: 583ms\n",
      "407:\tlearn: 0.1543059\ttotal: 401ms\tremaining: 581ms\n",
      "408:\tlearn: 0.1542569\ttotal: 402ms\tremaining: 580ms\n",
      "409:\tlearn: 0.1539230\ttotal: 402ms\tremaining: 579ms\n",
      "410:\tlearn: 0.1538279\ttotal: 403ms\tremaining: 578ms\n",
      "411:\tlearn: 0.1534844\ttotal: 404ms\tremaining: 577ms\n",
      "412:\tlearn: 0.1534407\ttotal: 405ms\tremaining: 576ms\n",
      "413:\tlearn: 0.1531472\ttotal: 406ms\tremaining: 574ms\n",
      "414:\tlearn: 0.1529387\ttotal: 407ms\tremaining: 573ms\n",
      "415:\tlearn: 0.1527377\ttotal: 408ms\tremaining: 572ms\n",
      "416:\tlearn: 0.1524582\ttotal: 408ms\tremaining: 571ms\n",
      "417:\tlearn: 0.1523433\ttotal: 409ms\tremaining: 570ms\n",
      "418:\tlearn: 0.1519142\ttotal: 410ms\tremaining: 568ms\n",
      "419:\tlearn: 0.1515626\ttotal: 411ms\tremaining: 567ms\n",
      "420:\tlearn: 0.1512314\ttotal: 412ms\tremaining: 566ms\n",
      "421:\tlearn: 0.1511075\ttotal: 412ms\tremaining: 565ms\n",
      "422:\tlearn: 0.1507948\ttotal: 413ms\tremaining: 564ms\n",
      "423:\tlearn: 0.1504810\ttotal: 414ms\tremaining: 562ms\n",
      "424:\tlearn: 0.1502276\ttotal: 416ms\tremaining: 562ms\n",
      "425:\tlearn: 0.1498681\ttotal: 416ms\tremaining: 561ms\n",
      "426:\tlearn: 0.1498021\ttotal: 417ms\tremaining: 560ms\n",
      "427:\tlearn: 0.1497035\ttotal: 418ms\tremaining: 559ms\n",
      "428:\tlearn: 0.1494426\ttotal: 419ms\tremaining: 558ms\n",
      "429:\tlearn: 0.1493346\ttotal: 420ms\tremaining: 557ms\n",
      "430:\tlearn: 0.1489457\ttotal: 421ms\tremaining: 556ms\n",
      "431:\tlearn: 0.1486618\ttotal: 422ms\tremaining: 555ms\n",
      "432:\tlearn: 0.1483461\ttotal: 423ms\tremaining: 553ms\n",
      "433:\tlearn: 0.1482962\ttotal: 423ms\tremaining: 552ms\n",
      "434:\tlearn: 0.1477978\ttotal: 424ms\tremaining: 551ms\n",
      "435:\tlearn: 0.1474542\ttotal: 425ms\tremaining: 550ms\n",
      "436:\tlearn: 0.1470033\ttotal: 426ms\tremaining: 548ms\n",
      "437:\tlearn: 0.1469733\ttotal: 427ms\tremaining: 547ms\n",
      "438:\tlearn: 0.1465646\ttotal: 427ms\tremaining: 546ms\n",
      "439:\tlearn: 0.1464685\ttotal: 428ms\tremaining: 545ms\n",
      "440:\tlearn: 0.1464402\ttotal: 429ms\tremaining: 544ms\n",
      "441:\tlearn: 0.1462092\ttotal: 430ms\tremaining: 542ms\n",
      "442:\tlearn: 0.1458850\ttotal: 430ms\tremaining: 541ms\n",
      "443:\tlearn: 0.1455919\ttotal: 431ms\tremaining: 540ms\n",
      "444:\tlearn: 0.1455540\ttotal: 432ms\tremaining: 539ms\n",
      "445:\tlearn: 0.1451693\ttotal: 433ms\tremaining: 538ms\n",
      "446:\tlearn: 0.1447576\ttotal: 434ms\tremaining: 537ms\n",
      "447:\tlearn: 0.1447074\ttotal: 435ms\tremaining: 535ms\n",
      "448:\tlearn: 0.1444462\ttotal: 435ms\tremaining: 534ms\n",
      "449:\tlearn: 0.1443331\ttotal: 436ms\tremaining: 533ms\n",
      "450:\tlearn: 0.1441713\ttotal: 437ms\tremaining: 532ms\n",
      "451:\tlearn: 0.1441217\ttotal: 438ms\tremaining: 531ms\n",
      "452:\tlearn: 0.1438674\ttotal: 439ms\tremaining: 530ms\n",
      "453:\tlearn: 0.1435625\ttotal: 439ms\tremaining: 528ms\n",
      "454:\tlearn: 0.1432373\ttotal: 440ms\tremaining: 528ms\n",
      "455:\tlearn: 0.1429783\ttotal: 441ms\tremaining: 526ms\n",
      "456:\tlearn: 0.1425829\ttotal: 442ms\tremaining: 525ms\n",
      "457:\tlearn: 0.1425171\ttotal: 443ms\tremaining: 524ms\n",
      "458:\tlearn: 0.1422109\ttotal: 444ms\tremaining: 523ms\n",
      "459:\tlearn: 0.1417871\ttotal: 445ms\tremaining: 522ms\n",
      "460:\tlearn: 0.1415770\ttotal: 445ms\tremaining: 521ms\n",
      "461:\tlearn: 0.1412911\ttotal: 446ms\tremaining: 520ms\n",
      "462:\tlearn: 0.1412109\ttotal: 447ms\tremaining: 519ms\n",
      "463:\tlearn: 0.1411682\ttotal: 448ms\tremaining: 518ms\n",
      "464:\tlearn: 0.1407051\ttotal: 449ms\tremaining: 517ms\n",
      "465:\tlearn: 0.1405981\ttotal: 450ms\tremaining: 515ms\n",
      "466:\tlearn: 0.1404283\ttotal: 451ms\tremaining: 514ms\n",
      "467:\tlearn: 0.1402225\ttotal: 451ms\tremaining: 513ms\n",
      "468:\tlearn: 0.1401076\ttotal: 452ms\tremaining: 512ms\n",
      "469:\tlearn: 0.1399636\ttotal: 453ms\tremaining: 511ms\n",
      "470:\tlearn: 0.1394686\ttotal: 454ms\tremaining: 510ms\n",
      "471:\tlearn: 0.1391232\ttotal: 455ms\tremaining: 509ms\n",
      "472:\tlearn: 0.1390295\ttotal: 456ms\tremaining: 508ms\n",
      "473:\tlearn: 0.1389566\ttotal: 456ms\tremaining: 506ms\n",
      "474:\tlearn: 0.1387407\ttotal: 457ms\tremaining: 505ms\n",
      "475:\tlearn: 0.1383635\ttotal: 458ms\tremaining: 504ms\n",
      "476:\tlearn: 0.1380338\ttotal: 459ms\tremaining: 503ms\n",
      "477:\tlearn: 0.1376415\ttotal: 460ms\tremaining: 502ms\n",
      "478:\tlearn: 0.1373914\ttotal: 460ms\tremaining: 501ms\n",
      "479:\tlearn: 0.1369651\ttotal: 461ms\tremaining: 500ms\n",
      "480:\tlearn: 0.1367664\ttotal: 462ms\tremaining: 498ms\n",
      "481:\tlearn: 0.1366049\ttotal: 463ms\tremaining: 497ms\n",
      "482:\tlearn: 0.1363027\ttotal: 464ms\tremaining: 496ms\n",
      "483:\tlearn: 0.1359966\ttotal: 464ms\tremaining: 495ms\n",
      "484:\tlearn: 0.1358690\ttotal: 465ms\tremaining: 494ms\n",
      "485:\tlearn: 0.1357749\ttotal: 466ms\tremaining: 493ms\n",
      "486:\tlearn: 0.1354873\ttotal: 467ms\tremaining: 492ms\n",
      "487:\tlearn: 0.1351072\ttotal: 467ms\tremaining: 490ms\n",
      "488:\tlearn: 0.1348268\ttotal: 468ms\tremaining: 489ms\n",
      "489:\tlearn: 0.1345566\ttotal: 469ms\tremaining: 488ms\n",
      "490:\tlearn: 0.1341817\ttotal: 470ms\tremaining: 487ms\n",
      "491:\tlearn: 0.1338477\ttotal: 471ms\tremaining: 486ms\n",
      "492:\tlearn: 0.1335182\ttotal: 471ms\tremaining: 485ms\n",
      "493:\tlearn: 0.1334893\ttotal: 472ms\tremaining: 484ms\n",
      "494:\tlearn: 0.1332301\ttotal: 473ms\tremaining: 483ms\n",
      "495:\tlearn: 0.1328647\ttotal: 474ms\tremaining: 482ms\n",
      "496:\tlearn: 0.1325654\ttotal: 475ms\tremaining: 481ms\n",
      "497:\tlearn: 0.1325357\ttotal: 476ms\tremaining: 479ms\n",
      "498:\tlearn: 0.1321671\ttotal: 476ms\tremaining: 478ms\n",
      "499:\tlearn: 0.1318610\ttotal: 477ms\tremaining: 477ms\n",
      "500:\tlearn: 0.1317382\ttotal: 478ms\tremaining: 476ms\n",
      "501:\tlearn: 0.1313822\ttotal: 479ms\tremaining: 475ms\n",
      "502:\tlearn: 0.1311124\ttotal: 480ms\tremaining: 474ms\n",
      "503:\tlearn: 0.1310061\ttotal: 481ms\tremaining: 473ms\n",
      "504:\tlearn: 0.1308999\ttotal: 481ms\tremaining: 472ms\n",
      "505:\tlearn: 0.1306951\ttotal: 482ms\tremaining: 471ms\n",
      "506:\tlearn: 0.1305022\ttotal: 483ms\tremaining: 470ms\n",
      "507:\tlearn: 0.1304332\ttotal: 484ms\tremaining: 468ms\n",
      "508:\tlearn: 0.1303763\ttotal: 485ms\tremaining: 467ms\n"
     ]
    },
    {
     "name": "stdout",
     "output_type": "stream",
     "text": [
      "509:\tlearn: 0.1303373\ttotal: 485ms\tremaining: 466ms\n",
      "510:\tlearn: 0.1300743\ttotal: 486ms\tremaining: 465ms\n",
      "511:\tlearn: 0.1299730\ttotal: 487ms\tremaining: 464ms\n",
      "512:\tlearn: 0.1299506\ttotal: 488ms\tremaining: 463ms\n",
      "513:\tlearn: 0.1296508\ttotal: 489ms\tremaining: 462ms\n",
      "514:\tlearn: 0.1296308\ttotal: 490ms\tremaining: 461ms\n",
      "515:\tlearn: 0.1296089\ttotal: 491ms\tremaining: 460ms\n",
      "516:\tlearn: 0.1294923\ttotal: 491ms\tremaining: 459ms\n",
      "517:\tlearn: 0.1292715\ttotal: 492ms\tremaining: 458ms\n",
      "518:\tlearn: 0.1292152\ttotal: 493ms\tremaining: 457ms\n",
      "519:\tlearn: 0.1288464\ttotal: 494ms\tremaining: 456ms\n",
      "520:\tlearn: 0.1285272\ttotal: 494ms\tremaining: 455ms\n",
      "521:\tlearn: 0.1284718\ttotal: 495ms\tremaining: 453ms\n",
      "522:\tlearn: 0.1282446\ttotal: 496ms\tremaining: 452ms\n",
      "523:\tlearn: 0.1280419\ttotal: 497ms\tremaining: 451ms\n",
      "524:\tlearn: 0.1279736\ttotal: 498ms\tremaining: 450ms\n",
      "525:\tlearn: 0.1277193\ttotal: 498ms\tremaining: 449ms\n",
      "526:\tlearn: 0.1274441\ttotal: 499ms\tremaining: 448ms\n",
      "527:\tlearn: 0.1272455\ttotal: 500ms\tremaining: 447ms\n",
      "528:\tlearn: 0.1269681\ttotal: 501ms\tremaining: 446ms\n",
      "529:\tlearn: 0.1268187\ttotal: 502ms\tremaining: 445ms\n",
      "530:\tlearn: 0.1265574\ttotal: 502ms\tremaining: 444ms\n",
      "531:\tlearn: 0.1263292\ttotal: 503ms\tremaining: 443ms\n",
      "532:\tlearn: 0.1262751\ttotal: 504ms\tremaining: 442ms\n",
      "533:\tlearn: 0.1261785\ttotal: 505ms\tremaining: 441ms\n",
      "534:\tlearn: 0.1257841\ttotal: 506ms\tremaining: 440ms\n",
      "535:\tlearn: 0.1254598\ttotal: 507ms\tremaining: 439ms\n",
      "536:\tlearn: 0.1251627\ttotal: 507ms\tremaining: 438ms\n",
      "537:\tlearn: 0.1248923\ttotal: 508ms\tremaining: 437ms\n",
      "538:\tlearn: 0.1247422\ttotal: 509ms\tremaining: 435ms\n",
      "539:\tlearn: 0.1244677\ttotal: 510ms\tremaining: 434ms\n",
      "540:\tlearn: 0.1244043\ttotal: 511ms\tremaining: 433ms\n",
      "541:\tlearn: 0.1242776\ttotal: 511ms\tremaining: 432ms\n",
      "542:\tlearn: 0.1242131\ttotal: 512ms\tremaining: 431ms\n",
      "543:\tlearn: 0.1239460\ttotal: 513ms\tremaining: 430ms\n",
      "544:\tlearn: 0.1237556\ttotal: 514ms\tremaining: 429ms\n",
      "545:\tlearn: 0.1237300\ttotal: 515ms\tremaining: 429ms\n",
      "546:\tlearn: 0.1236287\ttotal: 516ms\tremaining: 428ms\n",
      "547:\tlearn: 0.1235771\ttotal: 517ms\tremaining: 427ms\n",
      "548:\tlearn: 0.1234492\ttotal: 518ms\tremaining: 425ms\n",
      "549:\tlearn: 0.1233341\ttotal: 519ms\tremaining: 424ms\n",
      "550:\tlearn: 0.1231487\ttotal: 520ms\tremaining: 423ms\n",
      "551:\tlearn: 0.1229241\ttotal: 520ms\tremaining: 422ms\n",
      "552:\tlearn: 0.1229045\ttotal: 521ms\tremaining: 421ms\n",
      "553:\tlearn: 0.1228831\ttotal: 522ms\tremaining: 420ms\n",
      "554:\tlearn: 0.1228200\ttotal: 523ms\tremaining: 419ms\n",
      "555:\tlearn: 0.1226222\ttotal: 524ms\tremaining: 418ms\n",
      "556:\tlearn: 0.1225365\ttotal: 524ms\tremaining: 417ms\n",
      "557:\tlearn: 0.1224084\ttotal: 525ms\tremaining: 416ms\n",
      "558:\tlearn: 0.1221477\ttotal: 526ms\tremaining: 415ms\n",
      "559:\tlearn: 0.1221254\ttotal: 527ms\tremaining: 414ms\n",
      "560:\tlearn: 0.1217405\ttotal: 528ms\tremaining: 413ms\n",
      "561:\tlearn: 0.1214887\ttotal: 529ms\tremaining: 412ms\n",
      "562:\tlearn: 0.1212034\ttotal: 530ms\tremaining: 411ms\n",
      "563:\tlearn: 0.1208796\ttotal: 531ms\tremaining: 410ms\n",
      "564:\tlearn: 0.1206446\ttotal: 531ms\tremaining: 409ms\n",
      "565:\tlearn: 0.1203433\ttotal: 532ms\tremaining: 408ms\n",
      "566:\tlearn: 0.1201944\ttotal: 533ms\tremaining: 407ms\n",
      "567:\tlearn: 0.1201754\ttotal: 534ms\tremaining: 406ms\n",
      "568:\tlearn: 0.1198642\ttotal: 534ms\tremaining: 405ms\n",
      "569:\tlearn: 0.1196484\ttotal: 535ms\tremaining: 404ms\n",
      "570:\tlearn: 0.1196378\ttotal: 536ms\tremaining: 403ms\n",
      "571:\tlearn: 0.1194586\ttotal: 537ms\tremaining: 402ms\n",
      "572:\tlearn: 0.1192513\ttotal: 538ms\tremaining: 401ms\n",
      "573:\tlearn: 0.1191629\ttotal: 539ms\tremaining: 400ms\n",
      "574:\tlearn: 0.1189443\ttotal: 539ms\tremaining: 399ms\n",
      "575:\tlearn: 0.1186769\ttotal: 540ms\tremaining: 398ms\n",
      "576:\tlearn: 0.1183757\ttotal: 541ms\tremaining: 397ms\n",
      "577:\tlearn: 0.1182064\ttotal: 542ms\tremaining: 396ms\n",
      "578:\tlearn: 0.1180020\ttotal: 543ms\tremaining: 395ms\n",
      "579:\tlearn: 0.1177270\ttotal: 544ms\tremaining: 394ms\n",
      "580:\tlearn: 0.1177000\ttotal: 545ms\tremaining: 393ms\n",
      "581:\tlearn: 0.1176720\ttotal: 545ms\tremaining: 392ms\n",
      "582:\tlearn: 0.1176119\ttotal: 546ms\tremaining: 391ms\n",
      "583:\tlearn: 0.1173280\ttotal: 547ms\tremaining: 390ms\n",
      "584:\tlearn: 0.1169774\ttotal: 548ms\tremaining: 389ms\n",
      "585:\tlearn: 0.1167361\ttotal: 549ms\tremaining: 388ms\n",
      "586:\tlearn: 0.1167127\ttotal: 549ms\tremaining: 387ms\n",
      "587:\tlearn: 0.1166040\ttotal: 550ms\tremaining: 386ms\n",
      "588:\tlearn: 0.1163146\ttotal: 551ms\tremaining: 385ms\n",
      "589:\tlearn: 0.1161926\ttotal: 552ms\tremaining: 384ms\n",
      "590:\tlearn: 0.1159450\ttotal: 553ms\tremaining: 383ms\n",
      "591:\tlearn: 0.1156823\ttotal: 554ms\tremaining: 381ms\n",
      "592:\tlearn: 0.1154096\ttotal: 554ms\tremaining: 380ms\n",
      "593:\tlearn: 0.1153887\ttotal: 555ms\tremaining: 379ms\n",
      "594:\tlearn: 0.1151254\ttotal: 556ms\tremaining: 378ms\n",
      "595:\tlearn: 0.1149555\ttotal: 557ms\tremaining: 377ms\n",
      "596:\tlearn: 0.1147683\ttotal: 558ms\tremaining: 376ms\n",
      "597:\tlearn: 0.1145266\ttotal: 558ms\tremaining: 375ms\n",
      "598:\tlearn: 0.1142680\ttotal: 559ms\tremaining: 374ms\n",
      "599:\tlearn: 0.1139808\ttotal: 560ms\tremaining: 373ms\n",
      "600:\tlearn: 0.1139602\ttotal: 561ms\tremaining: 372ms\n",
      "601:\tlearn: 0.1137170\ttotal: 562ms\tremaining: 371ms\n",
      "602:\tlearn: 0.1134037\ttotal: 562ms\tremaining: 370ms\n",
      "603:\tlearn: 0.1133736\ttotal: 563ms\tremaining: 369ms\n",
      "604:\tlearn: 0.1131624\ttotal: 564ms\tremaining: 368ms\n",
      "605:\tlearn: 0.1131412\ttotal: 565ms\tremaining: 367ms\n",
      "606:\tlearn: 0.1129027\ttotal: 566ms\tremaining: 366ms\n",
      "607:\tlearn: 0.1127342\ttotal: 567ms\tremaining: 365ms\n",
      "608:\tlearn: 0.1124580\ttotal: 567ms\tremaining: 364ms\n",
      "609:\tlearn: 0.1122248\ttotal: 568ms\tremaining: 363ms\n",
      "610:\tlearn: 0.1121594\ttotal: 569ms\tremaining: 362ms\n",
      "611:\tlearn: 0.1119662\ttotal: 570ms\tremaining: 361ms\n",
      "612:\tlearn: 0.1117089\ttotal: 571ms\tremaining: 360ms\n",
      "613:\tlearn: 0.1115045\ttotal: 571ms\tremaining: 359ms\n"
     ]
    },
    {
     "name": "stdout",
     "output_type": "stream",
     "text": [
      "614:\tlearn: 0.1113678\ttotal: 572ms\tremaining: 358ms\n",
      "615:\tlearn: 0.1113107\ttotal: 573ms\tremaining: 357ms\n",
      "616:\tlearn: 0.1112163\ttotal: 574ms\tremaining: 356ms\n",
      "617:\tlearn: 0.1109530\ttotal: 575ms\tremaining: 355ms\n",
      "618:\tlearn: 0.1108933\ttotal: 576ms\tremaining: 354ms\n",
      "619:\tlearn: 0.1106542\ttotal: 576ms\tremaining: 353ms\n",
      "620:\tlearn: 0.1104797\ttotal: 577ms\tremaining: 352ms\n",
      "621:\tlearn: 0.1102527\ttotal: 578ms\tremaining: 351ms\n",
      "622:\tlearn: 0.1100298\ttotal: 579ms\tremaining: 350ms\n",
      "623:\tlearn: 0.1098194\ttotal: 580ms\tremaining: 349ms\n",
      "624:\tlearn: 0.1095586\ttotal: 580ms\tremaining: 348ms\n",
      "625:\tlearn: 0.1093036\ttotal: 581ms\tremaining: 347ms\n",
      "626:\tlearn: 0.1090726\ttotal: 582ms\tremaining: 346ms\n",
      "627:\tlearn: 0.1088581\ttotal: 583ms\tremaining: 345ms\n",
      "628:\tlearn: 0.1085949\ttotal: 584ms\tremaining: 344ms\n",
      "629:\tlearn: 0.1083512\ttotal: 584ms\tremaining: 343ms\n",
      "630:\tlearn: 0.1082595\ttotal: 585ms\tremaining: 342ms\n",
      "631:\tlearn: 0.1081256\ttotal: 586ms\tremaining: 341ms\n",
      "632:\tlearn: 0.1078861\ttotal: 587ms\tremaining: 340ms\n",
      "633:\tlearn: 0.1076647\ttotal: 588ms\tremaining: 339ms\n",
      "634:\tlearn: 0.1075796\ttotal: 588ms\tremaining: 338ms\n",
      "635:\tlearn: 0.1072650\ttotal: 589ms\tremaining: 337ms\n",
      "636:\tlearn: 0.1070127\ttotal: 590ms\tremaining: 336ms\n",
      "637:\tlearn: 0.1068915\ttotal: 591ms\tremaining: 335ms\n",
      "638:\tlearn: 0.1065299\ttotal: 592ms\tremaining: 334ms\n",
      "639:\tlearn: 0.1064978\ttotal: 593ms\tremaining: 333ms\n",
      "640:\tlearn: 0.1064796\ttotal: 593ms\tremaining: 332ms\n",
      "641:\tlearn: 0.1062366\ttotal: 594ms\tremaining: 331ms\n",
      "642:\tlearn: 0.1061568\ttotal: 595ms\tremaining: 330ms\n",
      "643:\tlearn: 0.1058987\ttotal: 596ms\tremaining: 330ms\n",
      "644:\tlearn: 0.1057134\ttotal: 597ms\tremaining: 329ms\n",
      "645:\tlearn: 0.1054653\ttotal: 598ms\tremaining: 328ms\n",
      "646:\tlearn: 0.1054294\ttotal: 599ms\tremaining: 327ms\n",
      "647:\tlearn: 0.1052360\ttotal: 600ms\tremaining: 326ms\n",
      "648:\tlearn: 0.1050165\ttotal: 601ms\tremaining: 325ms\n",
      "649:\tlearn: 0.1047049\ttotal: 601ms\tremaining: 324ms\n",
      "650:\tlearn: 0.1045497\ttotal: 602ms\tremaining: 323ms\n",
      "651:\tlearn: 0.1044093\ttotal: 603ms\tremaining: 322ms\n",
      "652:\tlearn: 0.1042214\ttotal: 604ms\tremaining: 321ms\n",
      "653:\tlearn: 0.1041118\ttotal: 605ms\tremaining: 320ms\n",
      "654:\tlearn: 0.1038657\ttotal: 605ms\tremaining: 319ms\n",
      "655:\tlearn: 0.1036123\ttotal: 606ms\tremaining: 318ms\n",
      "656:\tlearn: 0.1033368\ttotal: 607ms\tremaining: 317ms\n",
      "657:\tlearn: 0.1032753\ttotal: 608ms\tremaining: 316ms\n",
      "658:\tlearn: 0.1030248\ttotal: 609ms\tremaining: 315ms\n",
      "659:\tlearn: 0.1028696\ttotal: 610ms\tremaining: 314ms\n",
      "660:\tlearn: 0.1028236\ttotal: 610ms\tremaining: 313ms\n",
      "661:\tlearn: 0.1026851\ttotal: 611ms\tremaining: 312ms\n",
      "662:\tlearn: 0.1025329\ttotal: 612ms\tremaining: 311ms\n",
      "663:\tlearn: 0.1025084\ttotal: 613ms\tremaining: 310ms\n",
      "664:\tlearn: 0.1024676\ttotal: 614ms\tremaining: 309ms\n",
      "665:\tlearn: 0.1023838\ttotal: 615ms\tremaining: 308ms\n",
      "666:\tlearn: 0.1021901\ttotal: 615ms\tremaining: 307ms\n",
      "667:\tlearn: 0.1020303\ttotal: 616ms\tremaining: 306ms\n",
      "668:\tlearn: 0.1018172\ttotal: 617ms\tremaining: 305ms\n",
      "669:\tlearn: 0.1017264\ttotal: 618ms\tremaining: 304ms\n",
      "670:\tlearn: 0.1014724\ttotal: 618ms\tremaining: 303ms\n",
      "671:\tlearn: 0.1013091\ttotal: 619ms\tremaining: 302ms\n",
      "672:\tlearn: 0.1011160\ttotal: 620ms\tremaining: 301ms\n",
      "673:\tlearn: 0.1009358\ttotal: 621ms\tremaining: 300ms\n",
      "674:\tlearn: 0.1006842\ttotal: 622ms\tremaining: 299ms\n",
      "675:\tlearn: 0.1004692\ttotal: 622ms\tremaining: 298ms\n",
      "676:\tlearn: 0.1003038\ttotal: 623ms\tremaining: 297ms\n",
      "677:\tlearn: 0.1001839\ttotal: 624ms\tremaining: 296ms\n",
      "678:\tlearn: 0.1001706\ttotal: 625ms\tremaining: 295ms\n",
      "679:\tlearn: 0.1000244\ttotal: 626ms\tremaining: 294ms\n",
      "680:\tlearn: 0.0999036\ttotal: 626ms\tremaining: 293ms\n",
      "681:\tlearn: 0.0996713\ttotal: 627ms\tremaining: 292ms\n",
      "682:\tlearn: 0.0994450\ttotal: 628ms\tremaining: 292ms\n",
      "683:\tlearn: 0.0992272\ttotal: 629ms\tremaining: 291ms\n",
      "684:\tlearn: 0.0989964\ttotal: 630ms\tremaining: 290ms\n",
      "685:\tlearn: 0.0987825\ttotal: 630ms\tremaining: 289ms\n",
      "686:\tlearn: 0.0986900\ttotal: 631ms\tremaining: 288ms\n",
      "687:\tlearn: 0.0985295\ttotal: 632ms\tremaining: 287ms\n",
      "688:\tlearn: 0.0983194\ttotal: 633ms\tremaining: 286ms\n",
      "689:\tlearn: 0.0982826\ttotal: 634ms\tremaining: 285ms\n",
      "690:\tlearn: 0.0980508\ttotal: 635ms\tremaining: 284ms\n",
      "691:\tlearn: 0.0978696\ttotal: 636ms\tremaining: 283ms\n",
      "692:\tlearn: 0.0976400\ttotal: 637ms\tremaining: 282ms\n",
      "693:\tlearn: 0.0974471\ttotal: 637ms\tremaining: 281ms\n",
      "694:\tlearn: 0.0973147\ttotal: 638ms\tremaining: 280ms\n",
      "695:\tlearn: 0.0970981\ttotal: 639ms\tremaining: 279ms\n",
      "696:\tlearn: 0.0969170\ttotal: 640ms\tremaining: 278ms\n",
      "697:\tlearn: 0.0968890\ttotal: 640ms\tremaining: 277ms\n",
      "698:\tlearn: 0.0966612\ttotal: 641ms\tremaining: 276ms\n",
      "699:\tlearn: 0.0964994\ttotal: 642ms\tremaining: 275ms\n",
      "700:\tlearn: 0.0964841\ttotal: 643ms\tremaining: 274ms\n",
      "701:\tlearn: 0.0962714\ttotal: 644ms\tremaining: 273ms\n",
      "702:\tlearn: 0.0961096\ttotal: 645ms\tremaining: 272ms\n",
      "703:\tlearn: 0.0959058\ttotal: 646ms\tremaining: 271ms\n",
      "704:\tlearn: 0.0957053\ttotal: 646ms\tremaining: 270ms\n",
      "705:\tlearn: 0.0955196\ttotal: 647ms\tremaining: 270ms\n",
      "706:\tlearn: 0.0954166\ttotal: 648ms\tremaining: 269ms\n",
      "707:\tlearn: 0.0953935\ttotal: 649ms\tremaining: 268ms\n",
      "708:\tlearn: 0.0952373\ttotal: 650ms\tremaining: 267ms\n",
      "709:\tlearn: 0.0950409\ttotal: 651ms\tremaining: 266ms\n",
      "710:\tlearn: 0.0948022\ttotal: 651ms\tremaining: 265ms\n",
      "711:\tlearn: 0.0947211\ttotal: 652ms\tremaining: 264ms\n",
      "712:\tlearn: 0.0945395\ttotal: 653ms\tremaining: 263ms\n",
      "713:\tlearn: 0.0943160\ttotal: 654ms\tremaining: 262ms\n",
      "714:\tlearn: 0.0941965\ttotal: 655ms\tremaining: 261ms\n",
      "715:\tlearn: 0.0940354\ttotal: 655ms\tremaining: 260ms\n",
      "716:\tlearn: 0.0938517\ttotal: 656ms\tremaining: 259ms\n",
      "717:\tlearn: 0.0936219\ttotal: 657ms\tremaining: 258ms\n",
      "718:\tlearn: 0.0933821\ttotal: 658ms\tremaining: 257ms\n",
      "719:\tlearn: 0.0931900\ttotal: 659ms\tremaining: 256ms\n",
      "720:\tlearn: 0.0930839\ttotal: 660ms\tremaining: 255ms\n",
      "721:\tlearn: 0.0929193\ttotal: 661ms\tremaining: 254ms\n",
      "722:\tlearn: 0.0928973\ttotal: 661ms\tremaining: 253ms\n",
      "723:\tlearn: 0.0927113\ttotal: 662ms\tremaining: 252ms\n",
      "724:\tlearn: 0.0925941\ttotal: 663ms\tremaining: 252ms\n",
      "725:\tlearn: 0.0925584\ttotal: 664ms\tremaining: 251ms\n",
      "726:\tlearn: 0.0923774\ttotal: 665ms\tremaining: 250ms\n",
      "727:\tlearn: 0.0922396\ttotal: 666ms\tremaining: 249ms\n",
      "728:\tlearn: 0.0920444\ttotal: 667ms\tremaining: 248ms\n",
      "729:\tlearn: 0.0918343\ttotal: 668ms\tremaining: 247ms\n",
      "730:\tlearn: 0.0916225\ttotal: 669ms\tremaining: 246ms\n",
      "731:\tlearn: 0.0914174\ttotal: 670ms\tremaining: 245ms\n",
      "732:\tlearn: 0.0913081\ttotal: 671ms\tremaining: 244ms\n",
      "733:\tlearn: 0.0911972\ttotal: 672ms\tremaining: 243ms\n",
      "734:\tlearn: 0.0910115\ttotal: 672ms\tremaining: 242ms\n",
      "735:\tlearn: 0.0908598\ttotal: 673ms\tremaining: 241ms\n",
      "736:\tlearn: 0.0906858\ttotal: 674ms\tremaining: 241ms\n",
      "737:\tlearn: 0.0904953\ttotal: 675ms\tremaining: 240ms\n"
     ]
    },
    {
     "name": "stdout",
     "output_type": "stream",
     "text": [
      "738:\tlearn: 0.0903804\ttotal: 676ms\tremaining: 239ms\n",
      "739:\tlearn: 0.0901789\ttotal: 677ms\tremaining: 238ms\n",
      "740:\tlearn: 0.0900207\ttotal: 678ms\tremaining: 237ms\n",
      "741:\tlearn: 0.0898759\ttotal: 678ms\tremaining: 236ms\n",
      "742:\tlearn: 0.0896666\ttotal: 679ms\tremaining: 235ms\n",
      "743:\tlearn: 0.0894725\ttotal: 680ms\tremaining: 234ms\n",
      "744:\tlearn: 0.0893541\ttotal: 681ms\tremaining: 233ms\n",
      "745:\tlearn: 0.0892293\ttotal: 682ms\tremaining: 232ms\n",
      "746:\tlearn: 0.0892001\ttotal: 682ms\tremaining: 231ms\n",
      "747:\tlearn: 0.0890997\ttotal: 683ms\tremaining: 230ms\n",
      "748:\tlearn: 0.0890044\ttotal: 684ms\tremaining: 229ms\n",
      "749:\tlearn: 0.0888278\ttotal: 685ms\tremaining: 228ms\n",
      "750:\tlearn: 0.0887212\ttotal: 686ms\tremaining: 227ms\n",
      "751:\tlearn: 0.0885852\ttotal: 687ms\tremaining: 226ms\n",
      "752:\tlearn: 0.0884766\ttotal: 687ms\tremaining: 225ms\n",
      "753:\tlearn: 0.0882767\ttotal: 688ms\tremaining: 225ms\n",
      "754:\tlearn: 0.0880460\ttotal: 689ms\tremaining: 224ms\n",
      "755:\tlearn: 0.0879389\ttotal: 690ms\tremaining: 223ms\n",
      "756:\tlearn: 0.0877004\ttotal: 691ms\tremaining: 222ms\n",
      "757:\tlearn: 0.0875122\ttotal: 692ms\tremaining: 221ms\n",
      "758:\tlearn: 0.0873935\ttotal: 692ms\tremaining: 220ms\n",
      "759:\tlearn: 0.0871842\ttotal: 693ms\tremaining: 219ms\n",
      "760:\tlearn: 0.0871324\ttotal: 694ms\tremaining: 218ms\n",
      "761:\tlearn: 0.0869776\ttotal: 695ms\tremaining: 217ms\n",
      "762:\tlearn: 0.0868698\ttotal: 696ms\tremaining: 216ms\n",
      "763:\tlearn: 0.0868483\ttotal: 697ms\tremaining: 215ms\n",
      "764:\tlearn: 0.0866651\ttotal: 698ms\tremaining: 214ms\n",
      "765:\tlearn: 0.0864679\ttotal: 699ms\tremaining: 213ms\n",
      "766:\tlearn: 0.0863045\ttotal: 699ms\tremaining: 212ms\n",
      "767:\tlearn: 0.0861479\ttotal: 700ms\tremaining: 212ms\n",
      "768:\tlearn: 0.0861147\ttotal: 701ms\tremaining: 211ms\n",
      "769:\tlearn: 0.0860795\ttotal: 702ms\tremaining: 210ms\n",
      "770:\tlearn: 0.0860588\ttotal: 703ms\tremaining: 209ms\n",
      "771:\tlearn: 0.0859437\ttotal: 704ms\tremaining: 208ms\n",
      "772:\tlearn: 0.0859240\ttotal: 705ms\tremaining: 207ms\n",
      "773:\tlearn: 0.0859091\ttotal: 706ms\tremaining: 206ms\n",
      "774:\tlearn: 0.0857862\ttotal: 707ms\tremaining: 205ms\n",
      "775:\tlearn: 0.0856275\ttotal: 708ms\tremaining: 204ms\n",
      "776:\tlearn: 0.0856004\ttotal: 708ms\tremaining: 203ms\n",
      "777:\tlearn: 0.0854930\ttotal: 709ms\tremaining: 202ms\n",
      "778:\tlearn: 0.0854472\ttotal: 710ms\tremaining: 201ms\n",
      "779:\tlearn: 0.0853545\ttotal: 711ms\tremaining: 200ms\n",
      "780:\tlearn: 0.0851933\ttotal: 712ms\tremaining: 200ms\n",
      "781:\tlearn: 0.0850683\ttotal: 712ms\tremaining: 199ms\n",
      "782:\tlearn: 0.0848998\ttotal: 713ms\tremaining: 198ms\n",
      "783:\tlearn: 0.0847580\ttotal: 714ms\tremaining: 197ms\n",
      "784:\tlearn: 0.0847362\ttotal: 715ms\tremaining: 196ms\n",
      "785:\tlearn: 0.0846081\ttotal: 715ms\tremaining: 195ms\n",
      "786:\tlearn: 0.0843495\ttotal: 716ms\tremaining: 194ms\n",
      "787:\tlearn: 0.0842410\ttotal: 717ms\tremaining: 193ms\n",
      "788:\tlearn: 0.0841087\ttotal: 718ms\tremaining: 192ms\n",
      "789:\tlearn: 0.0839389\ttotal: 719ms\tremaining: 191ms\n",
      "790:\tlearn: 0.0837668\ttotal: 719ms\tremaining: 190ms\n",
      "791:\tlearn: 0.0836632\ttotal: 720ms\tremaining: 189ms\n",
      "792:\tlearn: 0.0834769\ttotal: 721ms\tremaining: 188ms\n",
      "793:\tlearn: 0.0833264\ttotal: 722ms\tremaining: 187ms\n",
      "794:\tlearn: 0.0831699\ttotal: 723ms\tremaining: 186ms\n",
      "795:\tlearn: 0.0830217\ttotal: 724ms\tremaining: 185ms\n",
      "796:\tlearn: 0.0828459\ttotal: 724ms\tremaining: 185ms\n",
      "797:\tlearn: 0.0828305\ttotal: 725ms\tremaining: 184ms\n",
      "798:\tlearn: 0.0826845\ttotal: 726ms\tremaining: 183ms\n",
      "799:\tlearn: 0.0825527\ttotal: 727ms\tremaining: 182ms\n",
      "800:\tlearn: 0.0823276\ttotal: 728ms\tremaining: 181ms\n",
      "801:\tlearn: 0.0821744\ttotal: 729ms\tremaining: 180ms\n",
      "802:\tlearn: 0.0820036\ttotal: 729ms\tremaining: 179ms\n",
      "803:\tlearn: 0.0819005\ttotal: 731ms\tremaining: 178ms\n",
      "804:\tlearn: 0.0818223\ttotal: 732ms\tremaining: 177ms\n",
      "805:\tlearn: 0.0817948\ttotal: 733ms\tremaining: 176ms\n",
      "806:\tlearn: 0.0816940\ttotal: 733ms\tremaining: 175ms\n",
      "807:\tlearn: 0.0815457\ttotal: 734ms\tremaining: 174ms\n",
      "808:\tlearn: 0.0814421\ttotal: 735ms\tremaining: 174ms\n",
      "809:\tlearn: 0.0813046\ttotal: 736ms\tremaining: 173ms\n",
      "810:\tlearn: 0.0812861\ttotal: 737ms\tremaining: 172ms\n",
      "811:\tlearn: 0.0811106\ttotal: 738ms\tremaining: 171ms\n",
      "812:\tlearn: 0.0809910\ttotal: 739ms\tremaining: 170ms\n",
      "813:\tlearn: 0.0808185\ttotal: 739ms\tremaining: 169ms\n",
      "814:\tlearn: 0.0806779\ttotal: 740ms\tremaining: 168ms\n",
      "815:\tlearn: 0.0805472\ttotal: 741ms\tremaining: 167ms\n",
      "816:\tlearn: 0.0803773\ttotal: 742ms\tremaining: 166ms\n",
      "817:\tlearn: 0.0802955\ttotal: 742ms\tremaining: 165ms\n",
      "818:\tlearn: 0.0802157\ttotal: 743ms\tremaining: 164ms\n",
      "819:\tlearn: 0.0800647\ttotal: 744ms\tremaining: 163ms\n",
      "820:\tlearn: 0.0798619\ttotal: 745ms\tremaining: 162ms\n",
      "821:\tlearn: 0.0796889\ttotal: 746ms\tremaining: 162ms\n",
      "822:\tlearn: 0.0795255\ttotal: 747ms\tremaining: 161ms\n",
      "823:\tlearn: 0.0794312\ttotal: 748ms\tremaining: 160ms\n",
      "824:\tlearn: 0.0794195\ttotal: 748ms\tremaining: 159ms\n",
      "825:\tlearn: 0.0793784\ttotal: 749ms\tremaining: 158ms\n",
      "826:\tlearn: 0.0793084\ttotal: 750ms\tremaining: 157ms\n",
      "827:\tlearn: 0.0791681\ttotal: 751ms\tremaining: 156ms\n",
      "828:\tlearn: 0.0791566\ttotal: 752ms\tremaining: 155ms\n",
      "829:\tlearn: 0.0791408\ttotal: 752ms\tremaining: 154ms\n",
      "830:\tlearn: 0.0789566\ttotal: 753ms\tremaining: 153ms\n",
      "831:\tlearn: 0.0786938\ttotal: 754ms\tremaining: 152ms\n",
      "832:\tlearn: 0.0786770\ttotal: 755ms\tremaining: 151ms\n",
      "833:\tlearn: 0.0785464\ttotal: 756ms\tremaining: 150ms\n",
      "834:\tlearn: 0.0784491\ttotal: 756ms\tremaining: 149ms\n",
      "835:\tlearn: 0.0783116\ttotal: 757ms\tremaining: 149ms\n",
      "836:\tlearn: 0.0782925\ttotal: 758ms\tremaining: 148ms\n",
      "837:\tlearn: 0.0781810\ttotal: 759ms\tremaining: 147ms\n",
      "838:\tlearn: 0.0781169\ttotal: 760ms\tremaining: 146ms\n",
      "839:\tlearn: 0.0780090\ttotal: 761ms\tremaining: 145ms\n",
      "840:\tlearn: 0.0779181\ttotal: 762ms\tremaining: 144ms\n"
     ]
    },
    {
     "name": "stdout",
     "output_type": "stream",
     "text": [
      "841:\tlearn: 0.0777287\ttotal: 763ms\tremaining: 143ms\n",
      "842:\tlearn: 0.0775985\ttotal: 764ms\tremaining: 142ms\n",
      "843:\tlearn: 0.0774944\ttotal: 765ms\tremaining: 141ms\n",
      "844:\tlearn: 0.0774475\ttotal: 766ms\tremaining: 140ms\n",
      "845:\tlearn: 0.0773076\ttotal: 767ms\tremaining: 140ms\n",
      "846:\tlearn: 0.0771932\ttotal: 768ms\tremaining: 139ms\n",
      "847:\tlearn: 0.0771810\ttotal: 768ms\tremaining: 138ms\n",
      "848:\tlearn: 0.0770172\ttotal: 769ms\tremaining: 137ms\n",
      "849:\tlearn: 0.0768737\ttotal: 770ms\tremaining: 136ms\n",
      "850:\tlearn: 0.0768665\ttotal: 771ms\tremaining: 135ms\n",
      "851:\tlearn: 0.0767860\ttotal: 772ms\tremaining: 134ms\n",
      "852:\tlearn: 0.0766923\ttotal: 772ms\tremaining: 133ms\n",
      "853:\tlearn: 0.0765590\ttotal: 773ms\tremaining: 132ms\n",
      "854:\tlearn: 0.0764152\ttotal: 774ms\tremaining: 131ms\n",
      "855:\tlearn: 0.0762322\ttotal: 775ms\tremaining: 130ms\n",
      "856:\tlearn: 0.0761343\ttotal: 776ms\tremaining: 129ms\n",
      "857:\tlearn: 0.0760057\ttotal: 777ms\tremaining: 129ms\n",
      "858:\tlearn: 0.0758771\ttotal: 778ms\tremaining: 128ms\n",
      "859:\tlearn: 0.0757073\ttotal: 778ms\tremaining: 127ms\n",
      "860:\tlearn: 0.0756394\ttotal: 779ms\tremaining: 126ms\n",
      "861:\tlearn: 0.0754858\ttotal: 780ms\tremaining: 125ms\n",
      "862:\tlearn: 0.0753199\ttotal: 781ms\tremaining: 124ms\n",
      "863:\tlearn: 0.0751816\ttotal: 782ms\tremaining: 123ms\n",
      "864:\tlearn: 0.0750538\ttotal: 783ms\tremaining: 122ms\n",
      "865:\tlearn: 0.0748959\ttotal: 784ms\tremaining: 121ms\n",
      "866:\tlearn: 0.0748279\ttotal: 784ms\tremaining: 120ms\n",
      "867:\tlearn: 0.0747393\ttotal: 785ms\tremaining: 119ms\n",
      "868:\tlearn: 0.0745807\ttotal: 786ms\tremaining: 118ms\n",
      "869:\tlearn: 0.0744426\ttotal: 787ms\tremaining: 118ms\n",
      "870:\tlearn: 0.0743405\ttotal: 788ms\tremaining: 117ms\n",
      "871:\tlearn: 0.0742399\ttotal: 789ms\tremaining: 116ms\n",
      "872:\tlearn: 0.0741163\ttotal: 790ms\tremaining: 115ms\n",
      "873:\tlearn: 0.0739828\ttotal: 790ms\tremaining: 114ms\n",
      "874:\tlearn: 0.0738433\ttotal: 791ms\tremaining: 113ms\n",
      "875:\tlearn: 0.0737478\ttotal: 793ms\tremaining: 112ms\n",
      "876:\tlearn: 0.0736442\ttotal: 793ms\tremaining: 111ms\n",
      "877:\tlearn: 0.0734950\ttotal: 794ms\tremaining: 110ms\n",
      "878:\tlearn: 0.0733629\ttotal: 795ms\tremaining: 109ms\n",
      "879:\tlearn: 0.0732099\ttotal: 796ms\tremaining: 109ms\n",
      "880:\tlearn: 0.0731217\ttotal: 797ms\tremaining: 108ms\n",
      "881:\tlearn: 0.0729986\ttotal: 797ms\tremaining: 107ms\n",
      "882:\tlearn: 0.0729716\ttotal: 798ms\tremaining: 106ms\n",
      "883:\tlearn: 0.0728723\ttotal: 799ms\tremaining: 105ms\n",
      "884:\tlearn: 0.0727995\ttotal: 800ms\tremaining: 104ms\n",
      "885:\tlearn: 0.0727377\ttotal: 801ms\tremaining: 103ms\n",
      "886:\tlearn: 0.0726554\ttotal: 802ms\tremaining: 102ms\n",
      "887:\tlearn: 0.0725960\ttotal: 802ms\tremaining: 101ms\n",
      "888:\tlearn: 0.0724816\ttotal: 803ms\tremaining: 100ms\n",
      "889:\tlearn: 0.0723717\ttotal: 805ms\tremaining: 99.5ms\n",
      "890:\tlearn: 0.0722772\ttotal: 806ms\tremaining: 98.5ms\n",
      "891:\tlearn: 0.0721334\ttotal: 806ms\tremaining: 97.6ms\n",
      "892:\tlearn: 0.0720705\ttotal: 807ms\tremaining: 96.7ms\n",
      "893:\tlearn: 0.0719866\ttotal: 808ms\tremaining: 95.8ms\n",
      "894:\tlearn: 0.0718348\ttotal: 809ms\tremaining: 94.9ms\n",
      "895:\tlearn: 0.0717045\ttotal: 810ms\tremaining: 94ms\n",
      "896:\tlearn: 0.0715553\ttotal: 811ms\tremaining: 93.1ms\n",
      "897:\tlearn: 0.0714178\ttotal: 811ms\tremaining: 92.2ms\n",
      "898:\tlearn: 0.0712855\ttotal: 812ms\tremaining: 91.2ms\n",
      "899:\tlearn: 0.0712103\ttotal: 813ms\tremaining: 90.3ms\n",
      "900:\tlearn: 0.0711152\ttotal: 814ms\tremaining: 89.4ms\n",
      "901:\tlearn: 0.0711082\ttotal: 815ms\tremaining: 88.5ms\n",
      "902:\tlearn: 0.0709797\ttotal: 815ms\tremaining: 87.6ms\n",
      "903:\tlearn: 0.0708694\ttotal: 816ms\tremaining: 86.7ms\n",
      "904:\tlearn: 0.0707295\ttotal: 817ms\tremaining: 85.8ms\n",
      "905:\tlearn: 0.0705965\ttotal: 818ms\tremaining: 84.9ms\n",
      "906:\tlearn: 0.0704885\ttotal: 819ms\tremaining: 84ms\n",
      "907:\tlearn: 0.0704217\ttotal: 820ms\tremaining: 83ms\n",
      "908:\tlearn: 0.0702689\ttotal: 820ms\tremaining: 82.1ms\n",
      "909:\tlearn: 0.0701775\ttotal: 821ms\tremaining: 81.2ms\n",
      "910:\tlearn: 0.0700826\ttotal: 822ms\tremaining: 80.3ms\n",
      "911:\tlearn: 0.0699738\ttotal: 823ms\tremaining: 79.4ms\n",
      "912:\tlearn: 0.0698485\ttotal: 824ms\tremaining: 78.5ms\n",
      "913:\tlearn: 0.0698415\ttotal: 824ms\tremaining: 77.6ms\n",
      "914:\tlearn: 0.0696695\ttotal: 825ms\tremaining: 76.7ms\n",
      "915:\tlearn: 0.0695306\ttotal: 826ms\tremaining: 75.8ms\n",
      "916:\tlearn: 0.0694159\ttotal: 827ms\tremaining: 74.9ms\n",
      "917:\tlearn: 0.0693319\ttotal: 828ms\tremaining: 73.9ms\n",
      "918:\tlearn: 0.0691897\ttotal: 829ms\tremaining: 73ms\n",
      "919:\tlearn: 0.0691834\ttotal: 829ms\tremaining: 72.1ms\n",
      "920:\tlearn: 0.0690413\ttotal: 830ms\tremaining: 71.2ms\n",
      "921:\tlearn: 0.0689521\ttotal: 831ms\tremaining: 70.3ms\n",
      "922:\tlearn: 0.0688382\ttotal: 832ms\tremaining: 69.4ms\n",
      "923:\tlearn: 0.0687385\ttotal: 833ms\tremaining: 68.5ms\n",
      "924:\tlearn: 0.0686457\ttotal: 834ms\tremaining: 67.6ms\n",
      "925:\tlearn: 0.0684991\ttotal: 835ms\tremaining: 66.7ms\n",
      "926:\tlearn: 0.0684167\ttotal: 836ms\tremaining: 65.8ms\n",
      "927:\tlearn: 0.0683055\ttotal: 836ms\tremaining: 64.9ms\n",
      "928:\tlearn: 0.0682212\ttotal: 837ms\tremaining: 64ms\n",
      "929:\tlearn: 0.0680569\ttotal: 838ms\tremaining: 63.1ms\n",
      "930:\tlearn: 0.0679322\ttotal: 839ms\tremaining: 62.2ms\n",
      "931:\tlearn: 0.0678279\ttotal: 840ms\tremaining: 61.3ms\n",
      "932:\tlearn: 0.0678119\ttotal: 840ms\tremaining: 60.4ms\n",
      "933:\tlearn: 0.0676982\ttotal: 841ms\tremaining: 59.4ms\n",
      "934:\tlearn: 0.0676069\ttotal: 842ms\tremaining: 58.5ms\n",
      "935:\tlearn: 0.0675605\ttotal: 843ms\tremaining: 57.6ms\n",
      "936:\tlearn: 0.0674446\ttotal: 844ms\tremaining: 56.7ms\n",
      "937:\tlearn: 0.0673232\ttotal: 845ms\tremaining: 55.8ms\n",
      "938:\tlearn: 0.0672476\ttotal: 845ms\tremaining: 54.9ms\n",
      "939:\tlearn: 0.0671445\ttotal: 846ms\tremaining: 54ms\n",
      "940:\tlearn: 0.0670348\ttotal: 847ms\tremaining: 53.1ms\n",
      "941:\tlearn: 0.0668994\ttotal: 848ms\tremaining: 52.2ms\n",
      "942:\tlearn: 0.0667975\ttotal: 849ms\tremaining: 51.3ms\n",
      "943:\tlearn: 0.0667277\ttotal: 850ms\tremaining: 50.4ms\n",
      "944:\tlearn: 0.0667070\ttotal: 851ms\tremaining: 49.5ms\n",
      "945:\tlearn: 0.0665777\ttotal: 851ms\tremaining: 48.6ms\n",
      "946:\tlearn: 0.0664711\ttotal: 852ms\tremaining: 47.7ms\n",
      "947:\tlearn: 0.0663572\ttotal: 853ms\tremaining: 46.8ms\n",
      "948:\tlearn: 0.0662863\ttotal: 854ms\tremaining: 45.9ms\n",
      "949:\tlearn: 0.0661827\ttotal: 855ms\tremaining: 45ms\n",
      "950:\tlearn: 0.0660764\ttotal: 856ms\tremaining: 44.1ms\n",
      "951:\tlearn: 0.0659382\ttotal: 857ms\tremaining: 43.2ms\n",
      "952:\tlearn: 0.0658146\ttotal: 858ms\tremaining: 42.3ms\n",
      "953:\tlearn: 0.0657366\ttotal: 859ms\tremaining: 41.4ms\n",
      "954:\tlearn: 0.0656695\ttotal: 860ms\tremaining: 40.5ms\n",
      "955:\tlearn: 0.0655855\ttotal: 861ms\tremaining: 39.6ms\n",
      "956:\tlearn: 0.0654810\ttotal: 861ms\tremaining: 38.7ms\n",
      "957:\tlearn: 0.0653250\ttotal: 862ms\tremaining: 37.8ms\n",
      "958:\tlearn: 0.0651379\ttotal: 863ms\tremaining: 36.9ms\n",
      "959:\tlearn: 0.0650374\ttotal: 864ms\tremaining: 36ms\n",
      "960:\tlearn: 0.0649801\ttotal: 865ms\tremaining: 35.1ms\n",
      "961:\tlearn: 0.0648727\ttotal: 866ms\tremaining: 34.2ms\n"
     ]
    },
    {
     "name": "stdout",
     "output_type": "stream",
     "text": [
      "962:\tlearn: 0.0648107\ttotal: 867ms\tremaining: 33.3ms\n",
      "963:\tlearn: 0.0646946\ttotal: 868ms\tremaining: 32.4ms\n",
      "964:\tlearn: 0.0646246\ttotal: 868ms\tremaining: 31.5ms\n",
      "965:\tlearn: 0.0645099\ttotal: 869ms\tremaining: 30.6ms\n",
      "966:\tlearn: 0.0644114\ttotal: 870ms\tremaining: 29.7ms\n",
      "967:\tlearn: 0.0643370\ttotal: 871ms\tremaining: 28.8ms\n",
      "968:\tlearn: 0.0642611\ttotal: 872ms\tremaining: 27.9ms\n",
      "969:\tlearn: 0.0642037\ttotal: 873ms\tremaining: 27ms\n",
      "970:\tlearn: 0.0641161\ttotal: 873ms\tremaining: 26.1ms\n",
      "971:\tlearn: 0.0640086\ttotal: 874ms\tremaining: 25.2ms\n",
      "972:\tlearn: 0.0639402\ttotal: 875ms\tremaining: 24.3ms\n",
      "973:\tlearn: 0.0638592\ttotal: 876ms\tremaining: 23.4ms\n",
      "974:\tlearn: 0.0637430\ttotal: 877ms\tremaining: 22.5ms\n",
      "975:\tlearn: 0.0636679\ttotal: 878ms\tremaining: 21.6ms\n",
      "976:\tlearn: 0.0635875\ttotal: 878ms\tremaining: 20.7ms\n",
      "977:\tlearn: 0.0634897\ttotal: 879ms\tremaining: 19.8ms\n",
      "978:\tlearn: 0.0634172\ttotal: 880ms\tremaining: 18.9ms\n",
      "979:\tlearn: 0.0633359\ttotal: 881ms\tremaining: 18ms\n",
      "980:\tlearn: 0.0632632\ttotal: 882ms\tremaining: 17.1ms\n",
      "981:\tlearn: 0.0631600\ttotal: 883ms\tremaining: 16.2ms\n",
      "982:\tlearn: 0.0630609\ttotal: 884ms\tremaining: 15.3ms\n",
      "983:\tlearn: 0.0629982\ttotal: 884ms\tremaining: 14.4ms\n",
      "984:\tlearn: 0.0628773\ttotal: 885ms\tremaining: 13.5ms\n",
      "985:\tlearn: 0.0627740\ttotal: 886ms\tremaining: 12.6ms\n",
      "986:\tlearn: 0.0626295\ttotal: 887ms\tremaining: 11.7ms\n",
      "987:\tlearn: 0.0624777\ttotal: 888ms\tremaining: 10.8ms\n",
      "988:\tlearn: 0.0624003\ttotal: 889ms\tremaining: 9.89ms\n",
      "989:\tlearn: 0.0622797\ttotal: 890ms\tremaining: 8.99ms\n",
      "990:\tlearn: 0.0622737\ttotal: 891ms\tremaining: 8.09ms\n",
      "991:\tlearn: 0.0622210\ttotal: 892ms\tremaining: 7.19ms\n",
      "992:\tlearn: 0.0621265\ttotal: 893ms\tremaining: 6.29ms\n",
      "993:\tlearn: 0.0620486\ttotal: 893ms\tremaining: 5.39ms\n",
      "994:\tlearn: 0.0619243\ttotal: 894ms\tremaining: 4.49ms\n",
      "995:\tlearn: 0.0619182\ttotal: 895ms\tremaining: 3.59ms\n",
      "996:\tlearn: 0.0618786\ttotal: 896ms\tremaining: 2.69ms\n",
      "997:\tlearn: 0.0618191\ttotal: 897ms\tremaining: 1.8ms\n",
      "998:\tlearn: 0.0616812\ttotal: 898ms\tremaining: 898us\n",
      "999:\tlearn: 0.0615816\ttotal: 898ms\tremaining: 0us\n"
     ]
    },
    {
     "data": {
      "text/plain": [
       "<catboost.core.CatBoostRegressor at 0x7f9643060d30>"
      ]
     },
     "execution_count": 9,
     "metadata": {},
     "output_type": "execute_result"
    }
   ],
   "source": [
    "#Train the Model \n",
    "prior_model = ctb.CatBoostRegressor()\n",
    "prior_model.fit(X_train,Y_train)"
   ]
  },
  {
   "cell_type": "code",
   "execution_count": 10,
   "id": "af65dcda",
   "metadata": {
    "execution": {
     "iopub.execute_input": "2022-06-12T04:44:09.114483Z",
     "iopub.status.busy": "2022-06-12T04:44:09.114087Z",
     "iopub.status.idle": "2022-06-12T04:44:09.121505Z",
     "shell.execute_reply": "2022-06-12T04:44:09.121759Z"
    },
    "id": "af65dcda",
    "papermill": {
     "duration": 0.020896,
     "end_time": "2022-06-12T04:44:09.121879",
     "exception": false,
     "start_time": "2022-06-12T04:44:09.100983",
     "status": "completed"
    },
    "tags": []
   },
   "outputs": [
    {
     "data": {
      "application/scrapbook.scrap.json+json": {
       "data": 0.1019894234364517,
       "encoder": "json",
       "name": "Prior Model MSE",
       "version": 1
      }
     },
     "metadata": {
      "scrapbook": {
       "data": true,
       "display": false,
       "name": "Prior Model MSE"
      }
     },
     "output_type": "display_data"
    },
    {
     "data": {
      "application/scrapbook.scrap.json+json": {
       "data": 0.10294003095905821,
       "encoder": "json",
       "name": "ABC Pre-generator MSE",
       "version": 1
      }
     },
     "metadata": {
      "scrapbook": {
       "data": true,
       "display": false,
       "name": "ABC Pre-generator MSE"
      }
     },
     "output_type": "display_data"
    },
    {
     "data": {
      "application/scrapbook.scrap.json+json": {
       "data": 0.2187807678467083,
       "encoder": "json",
       "name": "Prior Model MSE",
       "version": 1
      }
     },
     "metadata": {
      "scrapbook": {
       "data": true,
       "display": false,
       "name": "Prior Model MSE"
      }
     },
     "output_type": "display_data"
    },
    {
     "data": {
      "application/scrapbook.scrap.json+json": {
       "data": 0.21996861169151508,
       "encoder": "json",
       "name": "ABC Pre-generator MSE",
       "version": 1
      }
     },
     "metadata": {
      "scrapbook": {
       "data": true,
       "display": false,
       "name": "ABC Pre-generator MSE"
      }
     },
     "output_type": "display_data"
    }
   ],
   "source": [
    "y_pred = prior_model.predict(X_test)\n",
    "y_abc = y_pred + np.random.normal(0,variance, y_pred.shape) + bias \n",
    "mse = mean_squared_error(y_pred,Y_test)\n",
    "sb.glue(\"Prior Model MSE\",mse)\n",
    "mse = mean_squared_error(y_abc,Y_test)\n",
    "sb.glue(\"ABC Pre-generator MSE\",mse)\n",
    "mae = mean_absolute_error(y_pred,Y_test)\n",
    "sb.glue(\"Prior Model MSE\",mae)\n",
    "mae = mean_absolute_error(y_abc,Y_test)\n",
    "sb.glue(\"ABC Pre-generator MSE\",mae)"
   ]
  },
  {
   "cell_type": "markdown",
   "id": "25609da2",
   "metadata": {
    "papermill": {
     "duration": 0.009863,
     "end_time": "2022-06-12T04:44:09.142043",
     "exception": false,
     "start_time": "2022-06-12T04:44:09.132180",
     "status": "completed"
    },
    "tags": []
   },
   "source": [
    "# ABC GAN Model"
   ]
  },
  {
   "cell_type": "code",
   "execution_count": 11,
   "id": "dfc3464d",
   "metadata": {
    "execution": {
     "iopub.execute_input": "2022-06-12T04:44:09.164873Z",
     "iopub.status.busy": "2022-06-12T04:44:09.164504Z",
     "iopub.status.idle": "2022-06-12T04:44:09.166791Z",
     "shell.execute_reply": "2022-06-12T04:44:09.167020Z"
    },
    "papermill": {
     "duration": 0.015167,
     "end_time": "2022-06-12T04:44:09.167129",
     "exception": false,
     "start_time": "2022-06-12T04:44:09.151962",
     "status": "completed"
    },
    "tags": []
   },
   "outputs": [],
   "source": [
    "gen = network.Generator(n_features+1).to(device)\n",
    "disc = network.Discriminator(n_features+1).to(device)\n",
    "\n",
    "criterion = torch.nn.BCELoss()\n",
    "gen_opt = torch.optim.Adam(gen.parameters(), lr=0.001, betas=(0.5, 0.999))\n",
    "disc_opt = torch.optim.Adam(disc.parameters(), lr=0.001, betas=(0.5, 0.999))"
   ]
  },
  {
   "cell_type": "code",
   "execution_count": 12,
   "id": "b75fdd85",
   "metadata": {
    "execution": {
     "iopub.execute_input": "2022-06-12T04:44:09.189811Z",
     "iopub.status.busy": "2022-06-12T04:44:09.189451Z",
     "iopub.status.idle": "2022-06-12T04:45:09.651013Z",
     "shell.execute_reply": "2022-06-12T04:45:09.651384Z"
    },
    "papermill": {
     "duration": 60.474329,
     "end_time": "2022-06-12T04:45:09.651511",
     "exception": false,
     "start_time": "2022-06-12T04:44:09.177182",
     "status": "completed"
    },
    "tags": []
   },
   "outputs": [
    {
     "data": {
      "image/png": "[encoded data removed]",
      "text/plain": [
       "<Figure size 432x288 with 1 Axes>"
      ]
     },
     "metadata": {
      "needs_background": "light"
     },
     "output_type": "display_data"
    },
    {
     "data": {
      "image/png": "[encoded data removed]",
      "text/plain": [
       "<Figure size 432x288 with 1 Axes>"
      ]
     },
     "metadata": {
      "needs_background": "light"
     },
     "output_type": "display_data"
    }
   ],
   "source": [
    "#Training the ABC_GAN \n",
    "ABC_train_test2.training_GAN(disc,gen,disc_opt,gen_opt,train_data,batch_size,n_epochs,criterion,prior_model,variance,bias,device)"
   ]
  },
  {
   "cell_type": "code",
   "execution_count": 13,
   "id": "1fa7c368",
   "metadata": {
    "execution": {
     "iopub.execute_input": "2022-06-12T04:45:09.675999Z",
     "iopub.status.busy": "2022-06-12T04:45:09.675628Z",
     "iopub.status.idle": "2022-06-12T04:45:09.974145Z",
     "shell.execute_reply": "2022-06-12T04:45:09.974442Z"
    },
    "papermill": {
     "duration": 0.312019,
     "end_time": "2022-06-12T04:45:09.974579",
     "exception": false,
     "start_time": "2022-06-12T04:45:09.662560",
     "status": "completed"
    },
    "tags": []
   },
   "outputs": [
    {
     "data": {
      "application/scrapbook.scrap.json+json": {
       "data": 0.11604576428800029,
       "encoder": "json",
       "name": "ABC-GAN Model 1 MSE",
       "version": 1
      }
     },
     "metadata": {
      "scrapbook": {
       "data": true,
       "display": false,
       "name": "ABC-GAN Model 1 MSE"
      }
     },
     "output_type": "display_data"
    },
    {
     "data": {
      "application/scrapbook.scrap.json+json": {
       "data": 0.2308410980063034,
       "encoder": "json",
       "name": "ABC-GAN Model 1 MAE",
       "version": 1
      }
     },
     "metadata": {
      "scrapbook": {
       "data": true,
       "display": false,
       "name": "ABC-GAN Model 1 MAE"
      }
     },
     "output_type": "display_data"
    },
    {
     "data": {
      "application/scrapbook.scrap.json+json": {
       "data": 23.545791996642947,
       "encoder": "json",
       "name": "ABC-GAN Model 1 Manhattan Distance",
       "version": 1
      }
     },
     "metadata": {
      "scrapbook": {
       "data": true,
       "display": false,
       "name": "ABC-GAN Model 1 Manhattan Distance"
      }
     },
     "output_type": "display_data"
    },
    {
     "data": {
      "application/scrapbook.scrap.json+json": {
       "data": 3.4404299151799007,
       "encoder": "json",
       "name": "ABC-GAN Model 1 Euclidean distance",
       "version": 1
      }
     },
     "metadata": {
      "scrapbook": {
       "data": true,
       "display": false,
       "name": "ABC-GAN Model 1 Euclidean distance"
      }
     },
     "output_type": "display_data"
    },
    {
     "data": {
      "application/scrapbook.scrap.json+json": {
       "data": [
        [
         0.11521185116028676,
         0.11515099294553237,
         0.1159435981764875,
         0.1157866381903992,
         0.11615550912575187,
         0.11537258969523521,
         0.11665216280506716,
         0.11548091827747296,
         0.11451362501626829,
         0.11595895244935636,
         0.11649423227909296,
         0.1169238554003521,
         0.11628924546897926,
         0.11582339648250987,
         0.116534654023521,
         0.1174875132130418,
         0.11554128994740227,
         0.11606367105225977,
         0.11557468378012097,
         0.1155978846940125,
         0.11714258461295178,
         0.11529934257021336,
         0.11616183560040164,
         0.11572794275259501,
         0.11700747603815306,
         0.11667546532837782,
         0.11452751685780248,
         0.11696742610137867,
         0.11632702367546037,
         0.11530564880994609,
         0.11620824915350776,
         0.11517639234029453,
         0.11575630490363156,
         0.11590995359303438,
         0.11663583635155167,
         0.11573573725407549,
         0.116471803063375,
         0.11466164032110257,
         0.11680266113297114,
         0.11767100525220188,
         0.11627265885619849,
         0.11574398377785254,
         0.11620682354802354,
         0.1169299934443629,
         0.11638382674230253,
         0.11512494524896817,
         0.1161113529970194,
         0.11641017496197706,
         0.11590815612618889,
         0.11634096384369222,
         0.1152449395775113,
         0.11591777874498753,
         0.11685130823936417,
         0.1156085146032962,
         0.11630212856111612,
         0.11488817485142525,
         0.1154848868316955,
         0.11645786173387727,
         0.11774322462400837,
         0.1155141784423601,
         0.11568323839529171,
         0.11554010774149552,
         0.11691105915623005,
         0.11681380047925013,
         0.11646066416775265,
         0.11717483203684652,
         0.11627425720138228,
         0.11597577680485714,
         0.11647167749662657,
         0.11649653420386297,
         0.11514407158876458,
         0.11541361286673263,
         0.11594605826454535,
         0.11658572411106424,
         0.115064464114714,
         0.1163231466796445,
         0.11565850475235588,
         0.11589030172725953,
         0.11630973022394923,
         0.11657391847747378,
         0.11624523649675375,
         0.11534222393713373,
         0.11660569388522343,
         0.11657639399332456,
         0.11578465444700826,
         0.11636837883320304,
         0.11586931731622485,
         0.11767048510987178,
         0.11458990844573001,
         0.11534382265491086,
         0.11618910310832913,
         0.11438450200104289,
         0.11590165728103181,
         0.11519912306765208,
         0.11674525389904222,
         0.11689061465287442,
         0.1158845094859136,
         0.11660515193466095,
         0.11588690341441436,
         0.11560702869317964
        ],
        [
         0.231085919391583,
         0.2296962842126103,
         0.2287800575369129,
         0.2303859044742935,
         0.23005131014860145,
         0.23075350801296093,
         0.23123862532277903,
         0.22974545037483468,
         0.23065247361128235,
         0.23035716970323347,
         0.23086334396080643,
         0.2309444366643826,
         0.23116597704881547,
         0.23184443539118066,
         0.23133580397595377,
         0.2317846159943763,
         0.2305248866551647,
         0.23064769530559287,
         0.22982849140523695,
         0.2291773405364331,
         0.23213493842266353,
         0.23052996977725448,
         0.2317754427957184,
         0.23053127267927515,
         0.2307270737182276,
         0.2318178092805194,
         0.22830995533834486,
         0.231902742977528,
         0.23278936294510083,
         0.22942428688938712,
         0.2303709824953009,
         0.22892330071943648,
         0.23123744228745208,
         0.2300426039990841,
         0.23148939404271396,
         0.23068000810841718,
         0.23177691735327244,
         0.22974901226367436,
         0.23114180290961966,
         0.23327103260831505,
         0.2308485251942686,
         0.22917677524189153,
         0.23239389759506665,
         0.2321478548806672,
         0.23078817826714002,
         0.2290678757297642,
         0.23065608202972832,
         0.2298146831419538,
         0.23179545140295638,
         0.23117217534751283,
         0.2300649615114226,
         0.2315891931089116,
         0.23189303143789955,
         0.23123827996645488,
         0.23022164042819948,
         0.22970294196377783,
         0.2293467614799738,
         0.23149157143837096,
         0.23210960403815203,
         0.23172787880050202,
         0.23227706204588508,
         0.22988311592124255,
         0.23088841005137153,
         0.232429997045912,
         0.2319553020757203,
         0.23026359347882225,
         0.2310205293709741,
         0.23011128914852938,
         0.23222780852195093,
         0.23136449112173388,
         0.23025397938110082,
         0.2289119780282764,
         0.2310171206573061,
         0.2316956586186208,
         0.23010170616793865,
         0.23109899472226114,
         0.23043527581966392,
         0.23032804399582685,
         0.23107231324355976,
         0.23090648179983392,
         0.23015579526477,
         0.23084022049956462,
         0.23141560027850608,
         0.23178986310228414,
         0.23042596975231872,
         0.23305407922495813,
         0.23041432003910636,
         0.232776213692976,
         0.22910454924054005,
         0.23058076549832726,
         0.23152929051395724,
         0.22803143386309052,
         0.23081819935902662,
         0.22928528958821998,
         0.23215400708802775,
         0.23226570860281878,
         0.23032520437503562,
         0.2317479345947504,
         0.23011339262273967,
         0.2323023678698376
        ],
        [
         23.570763777941465,
         23.42902098968625,
         23.335565868765116,
         23.499362256377935,
         23.465233635157347,
         23.536857817322016,
         23.58633978292346,
         23.434035938233137,
         23.5265523083508,
         23.496431309729815,
         23.548061084002256,
         23.556332539767027,
         23.578929658979177,
         23.648132409900427,
         23.596252005547285,
         23.642030831426382,
         23.5135384388268,
         23.526064921170473,
         23.44250612333417,
         23.376088734716177,
         23.67776371911168,
         23.51405691727996,
         23.64109516516328,
         23.514189813286066,
         23.534161519259214,
         23.645416546612978,
         23.287615444511175,
         23.654079783707857,
         23.744515020400286,
         23.401277262717485,
         23.497840214520693,
         23.35017667338252,
         23.586219113320112,
         23.46434560790658,
         23.611918192356825,
         23.529360827058554,
         23.64124557003379,
         23.434399250894785,
         23.576463896781206,
         23.793645326048136,
         23.546549569815397,
         23.376031074672937,
         23.7041775546968,
         23.679081197828054,
         23.54039418324828,
         23.36492332443595,
         23.52692036703229,
         23.441097680479288,
         23.64313604310155,
         23.57956188544631,
         23.466626074165106,
         23.622097697108984,
         23.653089206665754,
         23.586304556578398,
         23.482607323676348,
         23.429700080305338,
         23.393369670957327,
         23.61214028671384,
         23.675179611891508,
         23.636243637651205,
         23.692260328680277,
         23.44807782396674,
         23.550617825239897,
         23.707859698683023,
         23.65944081172347,
         23.48688653483987,
         23.564093995839357,
         23.471351493149996,
         23.687236469238997,
         23.599178094416857,
         23.485905896872282,
         23.34902175888419,
         23.56374630704522,
         23.63295717909932,
         23.470374029129744,
         23.572097461670637,
         23.50439813360572,
         23.49346048757434,
         23.569375950843096,
         23.55246114358306,
         23.47589111700654,
         23.54570249095559,
         23.60439122840762,
         23.64256603643298,
         23.50344891473651,
         23.77151608094573,
         23.502260643988848,
         23.74317379668355,
         23.368664022535086,
         23.519238080829382,
         23.61598763242364,
         23.259206254035234,
         23.543456334620714,
         23.387099537998438,
         23.67970872297883,
         23.691102277487516,
         23.493170846253633,
         23.63828932866454,
         23.471566047519445,
         23.694841522723436
        ],
        [
         3.4280619624431017,
         3.4271564423650553,
         3.4389310859628637,
         3.436602551273673,
         3.442072330853419,
         3.430452469997797,
         3.44942322803637,
         3.432062596209783,
         3.417658518878001,
         3.4391587852023275,
         3.4470874216456244,
         3.453437888660503,
         3.4440532861493134,
         3.4371480097918408,
         3.447685413491077,
         3.461751918859909,
         3.432959594087153,
         3.4407113286834297,
         3.4334556565612346,
         3.433800261923991,
         3.4566665489342583,
         3.429363343561275,
         3.4421660667726304,
         3.435731386584913,
         3.4546725685499657,
         3.4497677405145017,
         3.4178658135590774,
         3.4540812761631163,
         3.4446126654381555,
         3.4294571259332716,
         3.4428536729953816,
         3.4275343935123455,
         3.436152368590545,
         3.438432094209438,
         3.4491818316607015,
         3.435847086224254,
         3.4467555632020455,
         3.4198665635887706,
         3.4516476407019088,
         3.4644541468642047,
         3.4438076606181482,
         3.4359694913286054,
         3.4428325550189633,
         3.453528533445903,
         3.4454535735828538,
         3.4267688009836257,
         3.441418022515715,
         3.4458435608892137,
         3.4384054334634917,
         3.4448190536015963,
         3.42855419045786,
         3.438548157578824,
         3.4523663537369753,
         3.4339581374175507,
         3.4442440554109757,
         3.423243174950528,
         3.432121567898337,
         3.446549273818014,
         3.4655171203802833,
         3.432556802315255,
         3.435067730965396,
         3.4329420312077126,
         3.453248909930395,
         3.4518122267706737,
         3.446590742329406,
         3.457142297875277,
         3.443831330733401,
         3.4394082680157974,
         3.44675370525019,
         3.4471214786824698,
         3.4270534431277824,
         3.4310623008634984,
         3.4389675693416515,
         3.4484407866931037,
         3.425868552601052,
         3.444555263212326,
         3.4347004941829056,
         3.4381405986638294,
         3.444356613773147,
         3.4482661853027428,
         3.443401533755377,
         3.4300009973158376,
         3.4487361128814693,
         3.4483027980905487,
         3.4365731119233938,
         3.445224904267748,
         3.437829310226866,
         3.4644464898749585,
         3.4187966686342226,
         3.430024768248898,
         3.4425700453367067,
         3.4157311375613824,
         3.438309038272337,
         3.427872598697407,
         3.4507993128697443,
         3.452946957975635,
         3.438054677803014,
         3.4487280984930395,
         3.4380901890832156,
         3.4339360691055854
        ]
       ],
       "encoder": "json",
       "name": "ABC_GAN_1 Metrics",
       "version": 1
      }
     },
     "metadata": {
      "scrapbook": {
       "data": true,
       "display": false,
       "name": "ABC_GAN_1 Metrics"
      }
     },
     "output_type": "display_data"
    },
    {
     "name": "stdout",
     "output_type": "stream",
     "text": [
      "MSE\n",
      "0.11604576428800029\n"
     ]
    }
   ],
   "source": [
    "ABC_GAN1_metrics=ABC_train_test2.test_generator(gen,test_data,prior_model,variance,bias,\"1\",device)\n",
    "sb.glue(\"ABC_GAN_1 Metrics\",ABC_GAN1_metrics)\n",
    "\n",
    "print(\"MSE\")\n",
    "print(mean(ABC_GAN1_metrics[0]))"
   ]
  },
  {
   "cell_type": "code",
   "execution_count": 14,
   "id": "eb22ce5c",
   "metadata": {
    "execution": {
     "iopub.execute_input": "2022-06-12T04:45:10.002437Z",
     "iopub.status.busy": "2022-06-12T04:45:10.002075Z",
     "iopub.status.idle": "2022-06-12T04:45:10.326715Z",
     "shell.execute_reply": "2022-06-12T04:45:10.326976Z"
    },
    "papermill": {
     "duration": 0.339601,
     "end_time": "2022-06-12T04:45:10.327105",
     "exception": false,
     "start_time": "2022-06-12T04:45:09.987504",
     "status": "completed"
    },
    "tags": []
   },
   "outputs": [
    {
     "data": {
      "image/png": "[encoded data removed]",
      "text/plain": [
       "<Figure size 432x288 with 1 Axes>"
      ]
     },
     "metadata": {
      "needs_background": "light"
     },
     "output_type": "display_data"
    },
    {
     "data": {
      "image/png": "[encoded data removed]",
      "text/plain": [
       "<Figure size 432x288 with 1 Axes>"
      ]
     },
     "metadata": {
      "needs_background": "light"
     },
     "output_type": "display_data"
    },
    {
     "data": {
      "image/png": "[encoded data removed]",
      "text/plain": [
       "<Figure size 432x288 with 1 Axes>"
      ]
     },
     "metadata": {
      "needs_background": "light"
     },
     "output_type": "display_data"
    },
    {
     "data": {
      "image/png": "[encoded data removed]",
      "text/plain": [
       "<Figure size 432x288 with 1 Axes>"
      ]
     },
     "metadata": {
      "needs_background": "light"
     },
     "output_type": "display_data"
    }
   ],
   "source": [
    "sanityChecks.discProbVsError(train_data,disc,device)\n",
    "sanityChecks.discProbVsError(test_data,disc,device)"
   ]
  },
  {
   "cell_type": "markdown",
   "id": "130f3a4d",
   "metadata": {
    "id": "130f3a4d",
    "papermill": {
     "duration": 0.014599,
     "end_time": "2022-06-12T04:45:10.356949",
     "exception": false,
     "start_time": "2022-06-12T04:45:10.342350",
     "status": "completed"
    },
    "tags": []
   },
   "source": [
    "# ABC - GAN Model with skip connection"
   ]
  },
  {
   "cell_type": "code",
   "execution_count": 15,
   "id": "4e43dad1",
   "metadata": {
    "execution": {
     "iopub.execute_input": "2022-06-12T04:45:10.389562Z",
     "iopub.status.busy": "2022-06-12T04:45:10.389188Z",
     "iopub.status.idle": "2022-06-12T04:45:10.391535Z",
     "shell.execute_reply": "2022-06-12T04:45:10.391799Z"
    },
    "id": "4e43dad1",
    "papermill": {
     "duration": 0.020215,
     "end_time": "2022-06-12T04:45:10.391915",
     "exception": false,
     "start_time": "2022-06-12T04:45:10.371700",
     "status": "completed"
    },
    "tags": []
   },
   "outputs": [],
   "source": [
    "#Generator\n",
    "gen3 = network.GeneratorWithSkipConnection(n_features+1).to(device)\n",
    "constraints=network.weightConstraint()\n",
    "#Discriminator \n",
    "disc3 = network.Discriminator(n_features+1).to(device)\n",
    "\n",
    "criterion = torch.nn.BCELoss()\n",
    "gen_opt = torch.optim.Adam(gen3.parameters(), lr=0.001, betas=(0.5, 0.999))\n",
    "disc_opt = torch.optim.Adam(disc3.parameters(), lr=0.001, betas=(0.5, 0.999))\n"
   ]
  },
  {
   "cell_type": "code",
   "execution_count": 16,
   "id": "26acbc37",
   "metadata": {
    "execution": {
     "iopub.execute_input": "2022-06-12T04:45:10.424396Z",
     "iopub.status.busy": "2022-06-12T04:45:10.424020Z",
     "iopub.status.idle": "2022-06-12T04:48:08.640755Z",
     "shell.execute_reply": "2022-06-12T04:48:08.641078Z"
    },
    "id": "26acbc37",
    "papermill": {
     "duration": 178.234212,
     "end_time": "2022-06-12T04:48:08.641211",
     "exception": false,
     "start_time": "2022-06-12T04:45:10.406999",
     "status": "completed"
    },
    "tags": []
   },
   "outputs": [
    {
     "data": {
      "image/png": "[encoded data removed]",
      "text/plain": [
       "<Figure size 432x288 with 1 Axes>"
      ]
     },
     "metadata": {
      "needs_background": "light"
     },
     "output_type": "display_data"
    },
    {
     "data": {
      "image/png": "[encoded data removed]",
      "text/plain": [
       "<Figure size 432x288 with 1 Axes>"
      ]
     },
     "metadata": {
      "needs_background": "light"
     },
     "output_type": "display_data"
    }
   ],
   "source": [
    "ABC_train_test2.training_GAN_skip_connection(disc3,gen3,disc_opt,gen_opt,train_data,batch_size,n_epochs,criterion,prior_model,variance,bias,device)"
   ]
  },
  {
   "cell_type": "code",
   "execution_count": 17,
   "id": "c5e0717b",
   "metadata": {
    "execution": {
     "iopub.execute_input": "2022-06-12T04:48:08.676649Z",
     "iopub.status.busy": "2022-06-12T04:48:08.676219Z",
     "iopub.status.idle": "2022-06-12T04:48:09.521393Z",
     "shell.execute_reply": "2022-06-12T04:48:09.521700Z"
    },
    "id": "c5e0717b",
    "papermill": {
     "duration": 0.864125,
     "end_time": "2022-06-12T04:48:09.521826",
     "exception": false,
     "start_time": "2022-06-12T04:48:08.657701",
     "status": "completed"
    },
    "tags": []
   },
   "outputs": [
    {
     "data": {
      "application/scrapbook.scrap.json+json": {
       "data": 0.1076811764293916,
       "encoder": "json",
       "name": "ABC-GAN Model 3 MSE",
       "version": 1
      }
     },
     "metadata": {
      "scrapbook": {
       "data": true,
       "display": false,
       "name": "ABC-GAN Model 3 MSE"
      }
     },
     "output_type": "display_data"
    },
    {
     "data": {
      "application/scrapbook.scrap.json+json": {
       "data": 0.23371444045474715,
       "encoder": "json",
       "name": "ABC-GAN Model 3 MAE",
       "version": 1
      }
     },
     "metadata": {
      "scrapbook": {
       "data": true,
       "display": false,
       "name": "ABC-GAN Model 3 MAE"
      }
     },
     "output_type": "display_data"
    },
    {
     "data": {
      "application/scrapbook.scrap.json+json": {
       "data": 23.838872926384212,
       "encoder": "json",
       "name": "ABC-GAN Model 3 Manhattan Distance",
       "version": 1
      }
     },
     "metadata": {
      "scrapbook": {
       "data": true,
       "display": false,
       "name": "ABC-GAN Model 3 Manhattan Distance"
      }
     },
     "output_type": "display_data"
    },
    {
     "data": {
      "application/scrapbook.scrap.json+json": {
       "data": 3.31410691907876,
       "encoder": "json",
       "name": "ABC-GAN Model 3 Euclidean distance",
       "version": 1
      }
     },
     "metadata": {
      "scrapbook": {
       "data": true,
       "display": false,
       "name": "ABC-GAN Model 3 Euclidean distance"
      }
     },
     "output_type": "display_data"
    },
    {
     "data": {
      "application/scrapbook.scrap.json+json": {
       "data": [
        [
         0.10944325292855976,
         0.10715589020787844,
         0.10697649217653295,
         0.1066412210896908,
         0.10672578892260626,
         0.10880865293633409,
         0.10965589598821043,
         0.10606389644574979,
         0.10738157436590594,
         0.10813261415776124,
         0.10809626489771473,
         0.1076287354552509,
         0.10764286319521883,
         0.10801556884901548,
         0.10814676808711327,
         0.1089349030886844,
         0.10759240334223662,
         0.10881407656918476,
         0.10738582310653864,
         0.10725376104013658,
         0.10792960998935099,
         0.10866520427034186,
         0.10726192041094915,
         0.10754052730186228,
         0.10756006391719748,
         0.10618958219897394,
         0.10653823462517163,
         0.10783275527537338,
         0.10575137809781869,
         0.10794013864431881,
         0.1074561918109869,
         0.10877736257057673,
         0.10883584876687831,
         0.10813174180008958,
         0.10848131763541204,
         0.10714780274452555,
         0.1073925883841778,
         0.10643348388834138,
         0.10830335148252423,
         0.1068859137245074,
         0.1079756547586668,
         0.10786725481545084,
         0.1071334570892384,
         0.1051549026453619,
         0.10771936956149389,
         0.10859997539574485,
         0.10591349310103088,
         0.10749144668411743,
         0.10698097977529529,
         0.10753014757081857,
         0.10871704263642318,
         0.10840063797273837,
         0.1075990981727913,
         0.10662220236026827,
         0.10742619877047542,
         0.1085709322251975,
         0.10834751381939907,
         0.10695654588144723,
         0.10793975914332352,
         0.10772610844452847,
         0.10766262402922352,
         0.10790951158841804,
         0.10762585832727087,
         0.10678578764445598,
         0.10705188564342538,
         0.10800366143924091,
         0.10714444384344574,
         0.10810974744203504,
         0.1079855516189288,
         0.10734505512149203,
         0.10870855918804675,
         0.108123905386561,
         0.10731534457822084,
         0.10865475450506545,
         0.10676000355267946,
         0.10817673757336001,
         0.10717935981608902,
         0.10767414041108216,
         0.10640664171215752,
         0.10779048956167614,
         0.10748656519382198,
         0.10590559040411018,
         0.10717656449238523,
         0.1059986345516052,
         0.10673456099639604,
         0.10880294856459846,
         0.10857759684030409,
         0.10672219781486507,
         0.10886592199368064,
         0.10841908204944856,
         0.10904700521146667,
         0.10765137013384679,
         0.10770016200763567,
         0.1082697116254538,
         0.10805453872515558,
         0.10867382603019356,
         0.10758114883221785,
         0.10836426307606001,
         0.10869111397104128,
         0.10875659222848563
        ],
        [
         0.23663124321576426,
         0.2344581506616783,
         0.23350075374850454,
         0.23207919887614017,
         0.23256336287686638,
         0.23474152539582813,
         0.23688209020331794,
         0.23319866325633198,
         0.23350391261206538,
         0.23399135704134025,
         0.23304581861285603,
         0.23292837635267014,
         0.2338099539206893,
         0.2338371964025439,
         0.23331316556854576,
         0.23456996487563148,
         0.23380350454838253,
         0.23531192689951436,
         0.2332503279196281,
         0.2330105331470715,
         0.23421900727621772,
         0.23349733121108776,
         0.233077777513102,
         0.2334974725164619,
         0.2343087702551309,
         0.23169686899100447,
         0.23205728235417136,
         0.23296937727205017,
         0.2304038212945064,
         0.23474036465745932,
         0.2352199137539548,
         0.23467931372350923,
         0.2349694336892343,
         0.2357478431225115,
         0.23327029419734197,
         0.23308088878790537,
         0.23433132655918598,
         0.23329992939298058,
         0.23382588654902636,
         0.2342896534349112,
         0.23357401912411055,
         0.23313181894813098,
         0.2329428552777744,
         0.2305134334692768,
         0.23343106081672743,
         0.23524767156763404,
         0.23071143563435065,
         0.2336441375607369,
         0.23481837000843941,
         0.2336191852284851,
         0.23478706374618352,
         0.23371154072639697,
         0.2326034747575428,
         0.2325954221408157,
         0.232951415008774,
         0.23479544437106917,
         0.23340867620472813,
         0.23278553609498867,
         0.2327947515409951,
         0.2337535372570011,
         0.23400571467537506,
         0.23400309113968237,
         0.23346542188094235,
         0.2329978696527142,
         0.23273771009681857,
         0.233326822811482,
         0.23410606765023925,
         0.23471147486684368,
         0.23576003517590316,
         0.23333337950501956,
         0.23494342257104375,
         0.23392703654427155,
         0.23449226976463608,
         0.2339453262222164,
         0.2331365818961286,
         0.23462103749168853,
         0.23411484235240257,
         0.23353037249077768,
         0.23287158203767797,
         0.23341277139443978,
         0.2338724429627844,
         0.23225574248342537,
         0.2331937296023848,
         0.2309254081006728,
         0.23261025127973042,
         0.23503476994879105,
         0.2354126181818691,
         0.23321345644802147,
         0.2344125508531636,
         0.23601277399004675,
         0.2341745591485033,
         0.23241523774705974,
         0.23361323205936774,
         0.23441647183077008,
         0.2345957948881037,
         0.23404696917928317,
         0.23273461052746164,
         0.23380054913315118,
         0.2347097611602615,
         0.23511585355827622
        ],
        [
         24.136386808007956,
         23.914731367491186,
         23.817076882347465,
         23.672078285366297,
         23.72146301344037,
         23.94363559037447,
         24.16197320073843,
         23.786263652145863,
         23.81739908643067,
         23.867118418216705,
         23.770673498511314,
         23.758694387972355,
         23.848615299910307,
         23.851394033059478,
         23.797942887991667,
         23.92613641731441,
         23.847957463935018,
         24.001816543750465,
         23.791533447802067,
         23.767074381001294,
         23.890338742174208,
         23.81672778353095,
         23.773933306336403,
         23.816742196679115,
         23.89949456602335,
         23.633080637082458,
         23.66984280012548,
         23.762876481749117,
         23.501189772039652,
         23.94351719506085,
         23.99243120290339,
         23.93728999979794,
         23.9668822363019,
         24.046279998496175,
         23.79357000812888,
         23.77425065636635,
         23.90179530903697,
         23.79659279808402,
         23.85024042800069,
         23.897544650360942,
         23.824549950659275,
         23.77944553270936,
         23.760171238332987,
         23.512370213866234,
         23.809968203306198,
         23.995262499898672,
         23.532566434703767,
         23.831702031195164,
         23.95147374086082,
         23.82915689330548,
         23.94828050211072,
         23.83857715409249,
         23.725554425269365,
         23.7247330583632,
         23.761044330894947,
         23.949135325849056,
         23.80768497288227,
         23.744124681688845,
         23.7450646571815,
         23.842860800214112,
         23.868582896888256,
         23.8683152962476,
         23.81347303185612,
         23.76578270457685,
         23.739246429875493,
         23.799335926771164,
         23.878818900324404,
         23.940570436418056,
         24.047523587942123,
         23.800004709511995,
         23.964229102246463,
         23.860557727515697,
         23.91821151599288,
         23.86242327466607,
         23.779931353405118,
         23.93134582415223,
         23.87971391994506,
         23.820097994059324,
         23.75290136784315,
         23.808102682232857,
         23.854989182204008,
         23.690085733309388,
         23.78576041944325,
         23.554391626268625,
         23.726245630532503,
         23.973546534776688,
         24.012087054550648,
         23.78777255769819,
         23.910080187022686,
         24.073302946984768,
         23.885805033147335,
         23.706354250200093,
         23.82854967005551,
         23.91048012673855,
         23.92877107858658,
         23.872790856286883,
         23.73893027380109,
         23.84765601158142,
         23.940395638346672,
         23.981817062944174
        ],
        [
         3.3411392965144544,
         3.3060400483363175,
         3.3032714393471148,
         3.2980910465219813,
         3.2993985012583487,
         3.33143851804383,
         3.3443835591626545,
         3.2891514768198915,
         3.309519691031073,
         3.3210731163423137,
         3.3205148726616045,
         3.3133262767852476,
         3.313543729289282,
         3.3192752254972135,
         3.321290463793487,
         3.3333706837142794,
         3.312766991641298,
         3.3315215457890783,
         3.3095851638637344,
         3.307549489591036,
         3.3179542219436664,
         3.329241780882678,
         3.3076752987433347,
         3.3119682644599644,
         3.312269089242924,
         3.291099722630012,
         3.2964981316189923,
         3.316465141998041,
         3.284302142918265,
         3.318116053082008,
         3.310669352973906,
         3.3309594687115034,
         3.3318548249018276,
         3.32105971997029,
         3.326423664960918,
         3.3059152862621275,
         3.3096894137042727,
         3.2948771383180318,
         3.323694006857049,
         3.3018726807525085,
         3.318661896816849,
         3.31699562724704,
         3.3056939699709518,
         3.2750267281087813,
         3.3147210584410227,
         3.3282424025851807,
         3.2868185675977233,
         3.3112124005838064,
         3.3033407237340984,
         3.3118084262564906,
         3.3300357879330913,
         3.3251864719469957,
         3.3128700568577556,
         3.297796937464064,
         3.31020728574337,
         3.3277973326165973,
         3.324371581153152,
         3.3029634693571186,
         3.3181102200829606,
         3.3148247406675817,
         3.3138478617734997,
         3.317645276701329,
         3.3132819906222326,
         3.300325792968705,
         3.304435252146634,
         3.319092265485034,
         3.3058634684498784,
         3.3207219454642054,
         3.318813984713625,
         3.308956878291433,
         3.3299058601078753,
         3.3209393775600926,
         3.3084989265493996,
         3.3290816991351653,
         3.299927326832108,
         3.3217506276785316,
         3.3064020779755556,
         3.314025093738788,
         3.294461633505552,
         3.3158151238105784,
         3.3111372139749564,
         3.2866959429218943,
         3.3063589608848125,
         3.288139401586212,
         3.299534091600266,
         3.3313511903714152,
         3.327899469291555,
         3.2993429917358146,
         3.3323151176555053,
         3.3254693456779525,
         3.335085385948851,
         3.313674660200119,
         3.314425519570298,
         3.323177784259561,
         3.3198739358544724,
         3.329373853306315,
         3.3125937240908705,
         3.324628525678939,
         3.3296386628350847,
         3.330641440819701
        ]
       ],
       "encoder": "json",
       "name": "ABC_GAN_3 Metrics",
       "version": 1
      }
     },
     "metadata": {
      "scrapbook": {
       "data": true,
       "display": false,
       "name": "ABC_GAN_3 Metrics"
      }
     },
     "output_type": "display_data"
    },
    {
     "name": "stdout",
     "output_type": "stream",
     "text": [
      "MSE\n",
      "0.1076811764293916\n"
     ]
    }
   ],
   "source": [
    "ABC_GAN3_metrics=ABC_train_test2.test_generator(gen3,test_data,prior_model,variance,bias,\"3\",device)\n",
    "sb.glue(\"ABC_GAN_3 Metrics\",ABC_GAN3_metrics)\n",
    "\n",
    "print(\"MSE\")\n",
    "print(mean(ABC_GAN3_metrics[0]))"
   ]
  },
  {
   "cell_type": "code",
   "execution_count": 18,
   "id": "c8e46b48",
   "metadata": {
    "execution": {
     "iopub.execute_input": "2022-06-12T04:48:09.559018Z",
     "iopub.status.busy": "2022-06-12T04:48:09.558657Z",
     "iopub.status.idle": "2022-06-12T04:48:09.898486Z",
     "shell.execute_reply": "2022-06-12T04:48:09.898797Z"
    },
    "id": "c8e46b48",
    "papermill": {
     "duration": 0.35948,
     "end_time": "2022-06-12T04:48:09.898922",
     "exception": false,
     "start_time": "2022-06-12T04:48:09.539442",
     "status": "completed"
    },
    "tags": []
   },
   "outputs": [
    {
     "data": {
      "image/png": "[encoded data removed]",
      "text/plain": [
       "<Figure size 432x288 with 1 Axes>"
      ]
     },
     "metadata": {
      "needs_background": "light"
     },
     "output_type": "display_data"
    },
    {
     "data": {
      "image/png": "[encoded data removed]",
      "text/plain": [
       "<Figure size 432x288 with 1 Axes>"
      ]
     },
     "metadata": {
      "needs_background": "light"
     },
     "output_type": "display_data"
    },
    {
     "data": {
      "image/png": "[encoded data removed]",
      "text/plain": [
       "<Figure size 432x288 with 1 Axes>"
      ]
     },
     "metadata": {
      "needs_background": "light"
     },
     "output_type": "display_data"
    },
    {
     "data": {
      "image/png": "[encoded data removed]",
      "text/plain": [
       "<Figure size 432x288 with 1 Axes>"
      ]
     },
     "metadata": {
      "needs_background": "light"
     },
     "output_type": "display_data"
    }
   ],
   "source": [
    "sanityChecks.discProbVsError(train_data,disc3,device)\n",
    "sanityChecks.discProbVsError(test_data,disc3,device)"
   ]
  },
  {
   "cell_type": "markdown",
   "id": "a5bd74c3",
   "metadata": {
    "id": "a5bd74c3",
    "papermill": {
     "duration": 0.020114,
     "end_time": "2022-06-12T04:48:09.939323",
     "exception": false,
     "start_time": "2022-06-12T04:48:09.919209",
     "status": "completed"
    },
    "tags": []
   },
   "source": [
    "## Skip Connection Model Analysis - ABC-GAN "
   ]
  },
  {
   "cell_type": "markdown",
   "id": "5744a8bf",
   "metadata": {
    "id": "5744a8bf",
    "papermill": {
     "duration": 0.019708,
     "end_time": "2022-06-12T04:48:09.978634",
     "exception": false,
     "start_time": "2022-06-12T04:48:09.958926",
     "status": "completed"
    },
    "tags": []
   },
   "source": [
    "### Weight Analysis \n",
    "\n",
    "Study the weights of the skip connection layer\n",
    "\n",
    "Equation of the skip connection is \n",
    "\n",
    "$output = y_{gan} * w + y_{abc} * (1-w)$"
   ]
  },
  {
   "cell_type": "code",
   "execution_count": 19,
   "id": "52c31dea",
   "metadata": {
    "execution": {
     "iopub.execute_input": "2022-06-12T04:48:10.027062Z",
     "iopub.status.busy": "2022-06-12T04:48:10.026063Z",
     "iopub.status.idle": "2022-06-12T04:48:10.030370Z",
     "shell.execute_reply": "2022-06-12T04:48:10.030835Z"
    },
    "id": "52c31dea",
    "papermill": {
     "duration": 0.03279,
     "end_time": "2022-06-12T04:48:10.030979",
     "exception": false,
     "start_time": "2022-06-12T04:48:09.998189",
     "status": "completed"
    },
    "tags": []
   },
   "outputs": [
    {
     "name": "stdout",
     "output_type": "stream",
     "text": [
      "Weight of the node at skip connection\n",
      "Parameter containing:\n",
      "tensor([[0.0687]], requires_grad=True)\n"
     ]
    },
    {
     "data": {
      "application/scrapbook.scrap.json+json": {
       "data": 0.06871633976697922,
       "encoder": "json",
       "name": "Skip Connection Weight",
       "version": 1
      }
     },
     "metadata": {
      "scrapbook": {
       "data": true,
       "display": false,
       "name": "Skip Connection Weight"
      }
     },
     "output_type": "display_data"
    }
   ],
   "source": [
    "print(\"Weight of the node at skip connection\")\n",
    "for name,param in gen3.named_parameters():\n",
    "    if(name == \"skipNode.weight\"):\n",
    "        print(param)\n",
    "        sb.glue(\"Skip Connection Weight\",param.item())"
   ]
  }
 ],
 "metadata": {
  "colab": {
   "collapsed_sections": [],
   "name": "ABC_GAN_Model-Catboost_Pre-gen.ipynb",
   "provenance": []
  },
  "interpreter": {
   "hash": "31f2aee4e71d21fbe5cf8b01ff0e069b9275f58929596ceb00d14d90e3e16cd6"
  },
  "kernelspec": {
   "display_name": "Python 3 (ipykernel)",
   "language": "python",
   "name": "python3"
  },
  "language_info": {
   "codemirror_mode": {
    "name": "ipython",
    "version": 3
   },
   "file_extension": ".py",
   "mimetype": "text/x-python",
   "name": "python",
   "nbconvert_exporter": "python",
   "pygments_lexer": "ipython3",
   "version": "3.8.11"
  },
  "papermill": {
   "default_parameters": {},
   "duration": 245.406427,
   "end_time": "2022-06-12T04:48:10.358920",
   "environment_variables": {},
   "exception": null,
   "input_path": "ABC_GAN-Catboost.ipynb",
   "output_path": "./ABC_GAN_Catboost/ABC-GAN_output_4_8.ipynb",
   "parameters": {
    "bias": 0.01,
    "variance": 0.01
   },
   "start_time": "2022-06-12T04:44:04.952493",
   "version": "2.3.3"
  }
 },
 "nbformat": 4,
 "nbformat_minor": 5
}