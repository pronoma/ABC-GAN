{
 "cells": [
  {
   "cell_type": "markdown",
   "id": "622780e6",
   "metadata": {
    "id": "622780e6",
    "papermill": {
     "duration": 0.024585,
     "end_time": "2022-06-11T16:51:51.910746",
     "exception": false,
     "start_time": "2022-06-11T16:51:51.886161",
     "status": "completed"
    },
    "tags": []
   },
   "source": [
    "## Import Libraries "
   ]
  },
  {
   "cell_type": "code",
   "execution_count": 1,
   "id": "a62397e3",
   "metadata": {
    "execution": {
     "iopub.execute_input": "2022-06-11T16:51:51.946269Z",
     "iopub.status.busy": "2022-06-11T16:51:51.945565Z",
     "iopub.status.idle": "2022-06-11T16:51:51.948000Z",
     "shell.execute_reply": "2022-06-11T16:51:51.948430Z"
    },
    "id": "a62397e3",
    "papermill": {
     "duration": 0.022855,
     "end_time": "2022-06-11T16:51:51.948672",
     "exception": false,
     "start_time": "2022-06-11T16:51:51.925817",
     "status": "completed"
    },
    "tags": []
   },
   "outputs": [],
   "source": [
    "import warnings\n",
    "import sys\n",
    "sys.path.insert(0, '../../src')\n",
    "warnings.filterwarnings('ignore')"
   ]
  },
  {
   "cell_type": "code",
   "execution_count": 2,
   "id": "d6a4e155",
   "metadata": {
    "execution": {
     "iopub.execute_input": "2022-06-11T16:51:51.969307Z",
     "iopub.status.busy": "2022-06-11T16:51:51.968900Z",
     "iopub.status.idle": "2022-06-11T16:51:53.530894Z",
     "shell.execute_reply": "2022-06-11T16:51:53.531148Z"
    },
    "id": "d6a4e155",
    "papermill": {
     "duration": 1.573045,
     "end_time": "2022-06-11T16:51:53.531271",
     "exception": false,
     "start_time": "2022-06-11T16:51:51.958226",
     "status": "completed"
    },
    "tags": []
   },
   "outputs": [],
   "source": [
    "import ABC_train_test2\n",
    "import bostonDataset\n",
    "import network\n",
    "import dataset\n",
    "import sanityChecks\n",
    "import torch \n",
    "import scrapbook as sb\n",
    "from statistics import mean \n",
    "import catboost as ctb \n",
    "from sklearn.model_selection import train_test_split\n",
    "from sklearn.metrics import mean_squared_error,mean_absolute_error\n",
    "import numpy as np"
   ]
  },
  {
   "cell_type": "markdown",
   "id": "2fa5b0f7",
   "metadata": {
    "id": "2fa5b0f7",
    "papermill": {
     "duration": 0.007142,
     "end_time": "2022-06-11T16:51:53.545436",
     "exception": false,
     "start_time": "2022-06-11T16:51:53.538294",
     "status": "completed"
    },
    "tags": []
   },
   "source": [
    "## Parameters "
   ]
  },
  {
   "cell_type": "code",
   "execution_count": 3,
   "id": "783186fb",
   "metadata": {
    "execution": {
     "iopub.execute_input": "2022-06-11T16:51:53.561233Z",
     "iopub.status.busy": "2022-06-11T16:51:53.560854Z",
     "iopub.status.idle": "2022-06-11T16:51:53.562084Z",
     "shell.execute_reply": "2022-06-11T16:51:53.562313Z"
    },
    "id": "783186fb",
    "papermill": {
     "duration": 0.010283,
     "end_time": "2022-06-11T16:51:53.562421",
     "exception": false,
     "start_time": "2022-06-11T16:51:53.552138",
     "status": "completed"
    },
    "tags": [
     "parameters"
    ]
   },
   "outputs": [],
   "source": [
    "variance = 1\n",
    "bias = 1 "
   ]
  },
  {
   "cell_type": "code",
   "execution_count": 4,
   "id": "8afdfc0b",
   "metadata": {
    "execution": {
     "iopub.execute_input": "2022-06-11T16:51:53.577968Z",
     "iopub.status.busy": "2022-06-11T16:51:53.577561Z",
     "iopub.status.idle": "2022-06-11T16:51:53.578685Z",
     "shell.execute_reply": "2022-06-11T16:51:53.578937Z"
    },
    "papermill": {
     "duration": 0.009698,
     "end_time": "2022-06-11T16:51:53.579043",
     "exception": false,
     "start_time": "2022-06-11T16:51:53.569345",
     "status": "completed"
    },
    "tags": [
     "injected-parameters"
    ]
   },
   "outputs": [],
   "source": [
    "# Parameters\n",
    "variance = 0.1\n",
    "bias = 0.1\n"
   ]
  },
  {
   "cell_type": "markdown",
   "id": "391cdbfd",
   "metadata": {
    "id": "391cdbfd",
    "papermill": {
     "duration": 0.006641,
     "end_time": "2022-06-11T16:51:53.592443",
     "exception": false,
     "start_time": "2022-06-11T16:51:53.585802",
     "status": "completed"
    },
    "tags": []
   },
   "source": [
    "## Dataset \n"
   ]
  },
  {
   "cell_type": "code",
   "execution_count": 5,
   "id": "5b51f161",
   "metadata": {
    "execution": {
     "iopub.execute_input": "2022-06-11T16:51:53.607803Z",
     "iopub.status.busy": "2022-06-11T16:51:53.607443Z",
     "iopub.status.idle": "2022-06-11T16:51:53.608668Z",
     "shell.execute_reply": "2022-06-11T16:51:53.608883Z"
    },
    "id": "5b51f161",
    "papermill": {
     "duration": 0.009784,
     "end_time": "2022-06-11T16:51:53.608983",
     "exception": false,
     "start_time": "2022-06-11T16:51:53.599199",
     "status": "completed"
    },
    "tags": []
   },
   "outputs": [],
   "source": [
    "#Parameters \n",
    "n_features = 13\n",
    "n_samples= 506\n",
    "n_target = 1 "
   ]
  },
  {
   "cell_type": "code",
   "execution_count": 6,
   "id": "5d6eced4",
   "metadata": {
    "execution": {
     "iopub.execute_input": "2022-06-11T16:51:53.624650Z",
     "iopub.status.busy": "2022-06-11T16:51:53.624234Z",
     "iopub.status.idle": "2022-06-11T16:51:53.634484Z",
     "shell.execute_reply": "2022-06-11T16:51:53.634732Z"
    },
    "id": "5d6eced4",
    "papermill": {
     "duration": 0.019004,
     "end_time": "2022-06-11T16:51:53.634853",
     "exception": false,
     "start_time": "2022-06-11T16:51:53.615849",
     "status": "completed"
    },
    "tags": []
   },
   "outputs": [
    {
     "name": "stdout",
     "output_type": "stream",
     "text": [
      "         X1        X2        X3        X4        X5        X6        X7  \\\n",
      "0 -0.419782  0.284830 -1.287909 -0.272599 -0.144217  0.413672 -0.120013   \n",
      "1 -0.417339 -0.487722 -0.593381 -0.272599 -0.740262  0.194274  0.367166   \n",
      "2 -0.417342 -0.487722 -0.593381 -0.272599 -0.740262  1.282714 -0.265812   \n",
      "3 -0.416750 -0.487722 -1.306878 -0.272599 -0.835284  1.016303 -0.809889   \n",
      "4 -0.412482 -0.487722 -1.306878 -0.272599 -0.835284  1.228577 -0.511180   \n",
      "\n",
      "         X8        X9       X10       X11       X12       X13         Y  \n",
      "0  0.140214 -0.982843 -0.666608 -1.459000  0.441052 -1.075562  0.159686  \n",
      "1  0.557160 -0.867883 -0.987329 -0.303094  0.441052 -0.492439 -0.101524  \n",
      "2  0.557160 -0.867883 -0.987329 -0.303094  0.396427 -1.208727  1.324247  \n",
      "3  1.077737 -0.752922 -1.106115  0.113032  0.416163 -1.361517  1.182758  \n",
      "4  1.077737 -0.752922 -1.106115  0.113032  0.441052 -1.026501  1.487503  \n"
     ]
    }
   ],
   "source": [
    "X,Y = bostonDataset.boston_data()"
   ]
  },
  {
   "cell_type": "code",
   "execution_count": 7,
   "id": "fe007438",
   "metadata": {
    "execution": {
     "iopub.execute_input": "2022-06-11T16:51:53.652960Z",
     "iopub.status.busy": "2022-06-11T16:51:53.652576Z",
     "iopub.status.idle": "2022-06-11T16:51:53.654167Z",
     "shell.execute_reply": "2022-06-11T16:51:53.653910Z"
    },
    "id": "fe007438",
    "papermill": {
     "duration": 0.011966,
     "end_time": "2022-06-11T16:51:53.654270",
     "exception": false,
     "start_time": "2022-06-11T16:51:53.642304",
     "status": "completed"
    },
    "tags": []
   },
   "outputs": [],
   "source": [
    "#Train test split for dataset \n",
    "X_train,X_test,Y_train,Y_test = train_test_split(X,Y,test_size = 0.2)\n",
    "train_data = dataset.CustomDataset(X_train,Y_train)\n",
    "test_data = dataset.CustomDataset(X_test,Y_test)\n"
   ]
  },
  {
   "cell_type": "markdown",
   "id": "a9a1af34",
   "metadata": {
    "id": "a9a1af34",
    "papermill": {
     "duration": 0.007199,
     "end_time": "2022-06-11T16:51:53.668672",
     "exception": false,
     "start_time": "2022-06-11T16:51:53.661473",
     "status": "completed"
    },
    "tags": []
   },
   "source": [
    "## Training Parameters "
   ]
  },
  {
   "cell_type": "code",
   "execution_count": 8,
   "id": "952b7fc8",
   "metadata": {
    "execution": {
     "iopub.execute_input": "2022-06-11T16:51:53.685366Z",
     "iopub.status.busy": "2022-06-11T16:51:53.685008Z",
     "iopub.status.idle": "2022-06-11T16:51:53.686308Z",
     "shell.execute_reply": "2022-06-11T16:51:53.686541Z"
    },
    "id": "952b7fc8",
    "papermill": {
     "duration": 0.010908,
     "end_time": "2022-06-11T16:51:53.686650",
     "exception": false,
     "start_time": "2022-06-11T16:51:53.675742",
     "status": "completed"
    },
    "tags": []
   },
   "outputs": [],
   "source": [
    "batch_size = 32\n",
    "n_epochs = 1000\n",
    "#Select the device \n",
    "device = torch.device('cuda' if torch.cuda.is_available() else 'cpu')"
   ]
  },
  {
   "cell_type": "markdown",
   "id": "a95e1600",
   "metadata": {
    "id": "a95e1600",
    "papermill": {
     "duration": 0.007102,
     "end_time": "2022-06-11T16:51:53.700982",
     "exception": false,
     "start_time": "2022-06-11T16:51:53.693880",
     "status": "completed"
    },
    "tags": []
   },
   "source": [
    "# ABC Pre-generator Model \n",
    "\n",
    "1. The catboost model is used as a pre-generator model for the ABC-GAN. \n",
    "2. The model is first trained on the entire dataset \n",
    "3. It generats X,Y pairs and we add some Gaussian noise with mean 0 and variance 1 to it which is then feed as input to the generator.\n"
   ]
  },
  {
   "cell_type": "code",
   "execution_count": 9,
   "id": "ff8ce7bd",
   "metadata": {
    "execution": {
     "iopub.execute_input": "2022-06-11T16:51:53.720166Z",
     "iopub.status.busy": "2022-06-11T16:51:53.719787Z",
     "iopub.status.idle": "2022-06-11T16:51:54.685146Z",
     "shell.execute_reply": "2022-06-11T16:51:54.685401Z"
    },
    "id": "ff8ce7bd",
    "papermill": {
     "duration": 0.977491,
     "end_time": "2022-06-11T16:51:54.685529",
     "exception": false,
     "start_time": "2022-06-11T16:51:53.708038",
     "status": "completed"
    },
    "tags": []
   },
   "outputs": [
    {
     "name": "stdout",
     "output_type": "stream",
     "text": [
      "Learning rate set to 0.033215\n",
      "0:\tlearn: 0.9497045\ttotal: 58.6ms\tremaining: 58.5s\n",
      "1:\tlearn: 0.9327937\ttotal: 59.5ms\tremaining: 29.7s\n",
      "2:\tlearn: 0.9131102\ttotal: 60.3ms\tremaining: 20s\n",
      "3:\tlearn: 0.8989019\ttotal: 61.4ms\tremaining: 15.3s\n",
      "4:\tlearn: 0.8833915\ttotal: 62.6ms\tremaining: 12.5s\n",
      "5:\tlearn: 0.8679474\ttotal: 63.6ms\tremaining: 10.5s\n",
      "6:\tlearn: 0.8530160\ttotal: 64.7ms\tremaining: 9.18s\n",
      "7:\tlearn: 0.8378932\ttotal: 65.6ms\tremaining: 8.14s\n",
      "8:\tlearn: 0.8230074\ttotal: 66.6ms\tremaining: 7.33s\n",
      "9:\tlearn: 0.8072802\ttotal: 67.5ms\tremaining: 6.68s\n",
      "10:\tlearn: 0.7929592\ttotal: 68.5ms\tremaining: 6.16s\n",
      "11:\tlearn: 0.7800594\ttotal: 69.5ms\tremaining: 5.72s\n",
      "12:\tlearn: 0.7682725\ttotal: 70.3ms\tremaining: 5.33s\n",
      "13:\tlearn: 0.7552815\ttotal: 71.1ms\tremaining: 5.01s\n",
      "14:\tlearn: 0.7425554\ttotal: 71.9ms\tremaining: 4.72s\n",
      "15:\tlearn: 0.7299336\ttotal: 72.9ms\tremaining: 4.48s\n",
      "16:\tlearn: 0.7174013\ttotal: 73.8ms\tremaining: 4.27s\n",
      "17:\tlearn: 0.7056573\ttotal: 74.6ms\tremaining: 4.07s\n",
      "18:\tlearn: 0.6951202\ttotal: 75.5ms\tremaining: 3.9s\n",
      "19:\tlearn: 0.6834760\ttotal: 76.4ms\tremaining: 3.74s\n",
      "20:\tlearn: 0.6716775\ttotal: 77.1ms\tremaining: 3.6s\n",
      "21:\tlearn: 0.6622941\ttotal: 77.9ms\tremaining: 3.46s\n",
      "22:\tlearn: 0.6535786\ttotal: 78.7ms\tremaining: 3.34s\n",
      "23:\tlearn: 0.6449894\ttotal: 79.5ms\tremaining: 3.23s\n",
      "24:\tlearn: 0.6364012\ttotal: 80.3ms\tremaining: 3.13s\n",
      "25:\tlearn: 0.6276090\ttotal: 81.1ms\tremaining: 3.04s\n",
      "26:\tlearn: 0.6197609\ttotal: 81.9ms\tremaining: 2.95s\n",
      "27:\tlearn: 0.6108939\ttotal: 82.6ms\tremaining: 2.87s\n",
      "28:\tlearn: 0.6021750\ttotal: 83.4ms\tremaining: 2.79s\n",
      "29:\tlearn: 0.5926749\ttotal: 84.1ms\tremaining: 2.72s\n",
      "30:\tlearn: 0.5843642\ttotal: 84.8ms\tremaining: 2.65s\n",
      "31:\tlearn: 0.5768448\ttotal: 85.7ms\tremaining: 2.59s\n",
      "32:\tlearn: 0.5694339\ttotal: 86.5ms\tremaining: 2.53s\n",
      "33:\tlearn: 0.5625865\ttotal: 87.2ms\tremaining: 2.48s\n",
      "34:\tlearn: 0.5557905\ttotal: 88ms\tremaining: 2.43s\n",
      "35:\tlearn: 0.5492213\ttotal: 88.8ms\tremaining: 2.38s\n",
      "36:\tlearn: 0.5436718\ttotal: 90.2ms\tremaining: 2.35s\n",
      "37:\tlearn: 0.5371946\ttotal: 91ms\tremaining: 2.3s\n",
      "38:\tlearn: 0.5302044\ttotal: 91.9ms\tremaining: 2.26s\n",
      "39:\tlearn: 0.5240501\ttotal: 92.6ms\tremaining: 2.22s\n",
      "40:\tlearn: 0.5191630\ttotal: 93.4ms\tremaining: 2.19s\n",
      "41:\tlearn: 0.5124177\ttotal: 94.3ms\tremaining: 2.15s\n",
      "42:\tlearn: 0.5055441\ttotal: 95.1ms\tremaining: 2.12s\n",
      "43:\tlearn: 0.5003258\ttotal: 95.8ms\tremaining: 2.08s\n",
      "44:\tlearn: 0.4949670\ttotal: 96.5ms\tremaining: 2.05s\n",
      "45:\tlearn: 0.4886105\ttotal: 97.2ms\tremaining: 2.02s\n",
      "46:\tlearn: 0.4837028\ttotal: 97.9ms\tremaining: 1.99s\n",
      "47:\tlearn: 0.4778988\ttotal: 98.6ms\tremaining: 1.96s\n",
      "48:\tlearn: 0.4723337\ttotal: 99.4ms\tremaining: 1.93s\n",
      "49:\tlearn: 0.4665651\ttotal: 100ms\tremaining: 1.9s\n",
      "50:\tlearn: 0.4610592\ttotal: 101ms\tremaining: 1.88s\n",
      "51:\tlearn: 0.4558427\ttotal: 102ms\tremaining: 1.85s\n",
      "52:\tlearn: 0.4516005\ttotal: 103ms\tremaining: 1.83s\n",
      "53:\tlearn: 0.4481538\ttotal: 103ms\tremaining: 1.81s\n",
      "54:\tlearn: 0.4442018\ttotal: 104ms\tremaining: 1.78s\n",
      "55:\tlearn: 0.4409667\ttotal: 105ms\tremaining: 1.76s\n",
      "56:\tlearn: 0.4355867\ttotal: 105ms\tremaining: 1.74s\n",
      "57:\tlearn: 0.4313348\ttotal: 106ms\tremaining: 1.72s\n"
     ]
    },
    {
     "name": "stdout",
     "output_type": "stream",
     "text": [
      "58:\tlearn: 0.4275305\ttotal: 107ms\tremaining: 1.71s\n",
      "59:\tlearn: 0.4237867\ttotal: 108ms\tremaining: 1.69s\n",
      "60:\tlearn: 0.4192801\ttotal: 109ms\tremaining: 1.67s\n",
      "61:\tlearn: 0.4155753\ttotal: 110ms\tremaining: 1.66s\n",
      "62:\tlearn: 0.4128259\ttotal: 110ms\tremaining: 1.64s\n",
      "63:\tlearn: 0.4085026\ttotal: 111ms\tremaining: 1.63s\n",
      "64:\tlearn: 0.4058688\ttotal: 112ms\tremaining: 1.61s\n",
      "65:\tlearn: 0.4025025\ttotal: 113ms\tremaining: 1.59s\n",
      "66:\tlearn: 0.3988447\ttotal: 114ms\tremaining: 1.58s\n",
      "67:\tlearn: 0.3946681\ttotal: 114ms\tremaining: 1.57s\n",
      "68:\tlearn: 0.3918364\ttotal: 115ms\tremaining: 1.55s\n",
      "69:\tlearn: 0.3892493\ttotal: 116ms\tremaining: 1.54s\n",
      "70:\tlearn: 0.3857564\ttotal: 117ms\tremaining: 1.53s\n",
      "71:\tlearn: 0.3831751\ttotal: 118ms\tremaining: 1.52s\n",
      "72:\tlearn: 0.3803091\ttotal: 119ms\tremaining: 1.51s\n",
      "73:\tlearn: 0.3768322\ttotal: 119ms\tremaining: 1.5s\n",
      "74:\tlearn: 0.3743489\ttotal: 120ms\tremaining: 1.48s\n",
      "75:\tlearn: 0.3716475\ttotal: 121ms\tremaining: 1.47s\n",
      "76:\tlearn: 0.3693856\ttotal: 122ms\tremaining: 1.46s\n",
      "77:\tlearn: 0.3659650\ttotal: 123ms\tremaining: 1.45s\n",
      "78:\tlearn: 0.3634344\ttotal: 124ms\tremaining: 1.44s\n",
      "79:\tlearn: 0.3610591\ttotal: 124ms\tremaining: 1.43s\n",
      "80:\tlearn: 0.3591989\ttotal: 125ms\tremaining: 1.42s\n",
      "81:\tlearn: 0.3559388\ttotal: 126ms\tremaining: 1.41s\n",
      "82:\tlearn: 0.3540479\ttotal: 127ms\tremaining: 1.4s\n",
      "83:\tlearn: 0.3513333\ttotal: 128ms\tremaining: 1.39s\n",
      "84:\tlearn: 0.3489512\ttotal: 129ms\tremaining: 1.39s\n",
      "85:\tlearn: 0.3464971\ttotal: 129ms\tremaining: 1.37s\n",
      "86:\tlearn: 0.3440431\ttotal: 130ms\tremaining: 1.36s\n",
      "87:\tlearn: 0.3417285\ttotal: 131ms\tremaining: 1.36s\n",
      "88:\tlearn: 0.3390775\ttotal: 132ms\tremaining: 1.35s\n",
      "89:\tlearn: 0.3359857\ttotal: 133ms\tremaining: 1.34s\n",
      "90:\tlearn: 0.3334471\ttotal: 133ms\tremaining: 1.33s\n",
      "91:\tlearn: 0.3316749\ttotal: 134ms\tremaining: 1.32s\n",
      "92:\tlearn: 0.3299693\ttotal: 135ms\tremaining: 1.32s\n",
      "93:\tlearn: 0.3279393\ttotal: 136ms\tremaining: 1.31s\n",
      "94:\tlearn: 0.3258583\ttotal: 137ms\tremaining: 1.3s\n",
      "95:\tlearn: 0.3246834\ttotal: 138ms\tremaining: 1.3s\n",
      "96:\tlearn: 0.3226001\ttotal: 138ms\tremaining: 1.29s\n",
      "97:\tlearn: 0.3211037\ttotal: 139ms\tremaining: 1.28s\n",
      "98:\tlearn: 0.3197867\ttotal: 140ms\tremaining: 1.27s\n",
      "99:\tlearn: 0.3182186\ttotal: 141ms\tremaining: 1.27s\n",
      "100:\tlearn: 0.3167924\ttotal: 142ms\tremaining: 1.26s\n",
      "101:\tlearn: 0.3145466\ttotal: 143ms\tremaining: 1.25s\n",
      "102:\tlearn: 0.3130865\ttotal: 143ms\tremaining: 1.25s\n",
      "103:\tlearn: 0.3113083\ttotal: 144ms\tremaining: 1.24s\n",
      "104:\tlearn: 0.3103476\ttotal: 145ms\tremaining: 1.24s\n",
      "105:\tlearn: 0.3085307\ttotal: 146ms\tremaining: 1.23s\n",
      "106:\tlearn: 0.3068268\ttotal: 147ms\tremaining: 1.22s\n",
      "107:\tlearn: 0.3047036\ttotal: 148ms\tremaining: 1.22s\n",
      "108:\tlearn: 0.3034488\ttotal: 149ms\tremaining: 1.21s\n",
      "109:\tlearn: 0.3016449\ttotal: 149ms\tremaining: 1.21s\n",
      "110:\tlearn: 0.3001797\ttotal: 150ms\tremaining: 1.2s\n",
      "111:\tlearn: 0.2990260\ttotal: 151ms\tremaining: 1.2s\n",
      "112:\tlearn: 0.2970305\ttotal: 152ms\tremaining: 1.19s\n",
      "113:\tlearn: 0.2957713\ttotal: 153ms\tremaining: 1.19s\n",
      "114:\tlearn: 0.2944095\ttotal: 153ms\tremaining: 1.18s\n",
      "115:\tlearn: 0.2930491\ttotal: 154ms\tremaining: 1.18s\n",
      "116:\tlearn: 0.2917503\ttotal: 155ms\tremaining: 1.17s\n",
      "117:\tlearn: 0.2904800\ttotal: 156ms\tremaining: 1.16s\n",
      "118:\tlearn: 0.2894163\ttotal: 157ms\tremaining: 1.16s\n",
      "119:\tlearn: 0.2882758\ttotal: 157ms\tremaining: 1.15s\n",
      "120:\tlearn: 0.2866004\ttotal: 158ms\tremaining: 1.15s\n",
      "121:\tlearn: 0.2854103\ttotal: 159ms\tremaining: 1.14s\n",
      "122:\tlearn: 0.2843522\ttotal: 160ms\tremaining: 1.14s\n",
      "123:\tlearn: 0.2829236\ttotal: 161ms\tremaining: 1.14s\n",
      "124:\tlearn: 0.2816716\ttotal: 162ms\tremaining: 1.13s\n",
      "125:\tlearn: 0.2803661\ttotal: 162ms\tremaining: 1.13s\n",
      "126:\tlearn: 0.2789253\ttotal: 163ms\tremaining: 1.12s\n",
      "127:\tlearn: 0.2774671\ttotal: 164ms\tremaining: 1.12s\n",
      "128:\tlearn: 0.2763243\ttotal: 165ms\tremaining: 1.11s\n",
      "129:\tlearn: 0.2753891\ttotal: 166ms\tremaining: 1.11s\n",
      "130:\tlearn: 0.2743050\ttotal: 167ms\tremaining: 1.11s\n",
      "131:\tlearn: 0.2735206\ttotal: 168ms\tremaining: 1.1s\n",
      "132:\tlearn: 0.2728124\ttotal: 168ms\tremaining: 1.1s\n",
      "133:\tlearn: 0.2718353\ttotal: 169ms\tremaining: 1.09s\n",
      "134:\tlearn: 0.2708706\ttotal: 170ms\tremaining: 1.09s\n",
      "135:\tlearn: 0.2694868\ttotal: 171ms\tremaining: 1.08s\n",
      "136:\tlearn: 0.2685206\ttotal: 172ms\tremaining: 1.08s\n",
      "137:\tlearn: 0.2679047\ttotal: 172ms\tremaining: 1.08s\n",
      "138:\tlearn: 0.2672429\ttotal: 173ms\tremaining: 1.07s\n",
      "139:\tlearn: 0.2663772\ttotal: 174ms\tremaining: 1.07s\n",
      "140:\tlearn: 0.2656525\ttotal: 175ms\tremaining: 1.06s\n",
      "141:\tlearn: 0.2647497\ttotal: 175ms\tremaining: 1.06s\n",
      "142:\tlearn: 0.2635234\ttotal: 176ms\tremaining: 1.06s\n",
      "143:\tlearn: 0.2627991\ttotal: 177ms\tremaining: 1.05s\n",
      "144:\tlearn: 0.2616759\ttotal: 178ms\tremaining: 1.05s\n",
      "145:\tlearn: 0.2607700\ttotal: 179ms\tremaining: 1.05s\n",
      "146:\tlearn: 0.2598554\ttotal: 180ms\tremaining: 1.04s\n",
      "147:\tlearn: 0.2590295\ttotal: 181ms\tremaining: 1.04s\n",
      "148:\tlearn: 0.2581386\ttotal: 181ms\tremaining: 1.04s\n",
      "149:\tlearn: 0.2571817\ttotal: 182ms\tremaining: 1.03s\n",
      "150:\tlearn: 0.2560227\ttotal: 183ms\tremaining: 1.03s\n",
      "151:\tlearn: 0.2552174\ttotal: 184ms\tremaining: 1.03s\n",
      "152:\tlearn: 0.2545249\ttotal: 185ms\tremaining: 1.02s\n",
      "153:\tlearn: 0.2537749\ttotal: 185ms\tremaining: 1.02s\n",
      "154:\tlearn: 0.2527155\ttotal: 186ms\tremaining: 1.01s\n",
      "155:\tlearn: 0.2517767\ttotal: 187ms\tremaining: 1.01s\n",
      "156:\tlearn: 0.2509180\ttotal: 188ms\tremaining: 1.01s\n",
      "157:\tlearn: 0.2499958\ttotal: 189ms\tremaining: 1s\n",
      "158:\tlearn: 0.2492265\ttotal: 190ms\tremaining: 1s\n",
      "159:\tlearn: 0.2486173\ttotal: 190ms\tremaining: 1000ms\n"
     ]
    },
    {
     "name": "stdout",
     "output_type": "stream",
     "text": [
      "160:\tlearn: 0.2482027\ttotal: 191ms\tremaining: 997ms\n",
      "161:\tlearn: 0.2473418\ttotal: 192ms\tremaining: 995ms\n",
      "162:\tlearn: 0.2467209\ttotal: 193ms\tremaining: 992ms\n",
      "163:\tlearn: 0.2459468\ttotal: 194ms\tremaining: 988ms\n",
      "164:\tlearn: 0.2452766\ttotal: 195ms\tremaining: 985ms\n",
      "165:\tlearn: 0.2444713\ttotal: 195ms\tremaining: 982ms\n",
      "166:\tlearn: 0.2433356\ttotal: 196ms\tremaining: 979ms\n",
      "167:\tlearn: 0.2426261\ttotal: 197ms\tremaining: 976ms\n",
      "168:\tlearn: 0.2418053\ttotal: 198ms\tremaining: 973ms\n",
      "169:\tlearn: 0.2411380\ttotal: 199ms\tremaining: 970ms\n",
      "170:\tlearn: 0.2405101\ttotal: 200ms\tremaining: 967ms\n",
      "171:\tlearn: 0.2399518\ttotal: 200ms\tremaining: 965ms\n",
      "172:\tlearn: 0.2393417\ttotal: 201ms\tremaining: 962ms\n",
      "173:\tlearn: 0.2384581\ttotal: 202ms\tremaining: 960ms\n",
      "174:\tlearn: 0.2376805\ttotal: 203ms\tremaining: 957ms\n",
      "175:\tlearn: 0.2371985\ttotal: 204ms\tremaining: 954ms\n",
      "176:\tlearn: 0.2365910\ttotal: 205ms\tremaining: 952ms\n",
      "177:\tlearn: 0.2356147\ttotal: 205ms\tremaining: 949ms\n",
      "178:\tlearn: 0.2350995\ttotal: 206ms\tremaining: 946ms\n",
      "179:\tlearn: 0.2342128\ttotal: 207ms\tremaining: 944ms\n",
      "180:\tlearn: 0.2332538\ttotal: 208ms\tremaining: 942ms\n",
      "181:\tlearn: 0.2326625\ttotal: 209ms\tremaining: 939ms\n",
      "182:\tlearn: 0.2319581\ttotal: 210ms\tremaining: 936ms\n",
      "183:\tlearn: 0.2312742\ttotal: 211ms\tremaining: 934ms\n",
      "184:\tlearn: 0.2303397\ttotal: 211ms\tremaining: 931ms\n",
      "185:\tlearn: 0.2295656\ttotal: 212ms\tremaining: 928ms\n",
      "186:\tlearn: 0.2287989\ttotal: 213ms\tremaining: 925ms\n",
      "187:\tlearn: 0.2281645\ttotal: 214ms\tremaining: 923ms\n",
      "188:\tlearn: 0.2275470\ttotal: 214ms\tremaining: 920ms\n",
      "189:\tlearn: 0.2269562\ttotal: 215ms\tremaining: 918ms\n",
      "190:\tlearn: 0.2263959\ttotal: 216ms\tremaining: 915ms\n",
      "191:\tlearn: 0.2257589\ttotal: 217ms\tremaining: 913ms\n",
      "192:\tlearn: 0.2248822\ttotal: 218ms\tremaining: 910ms\n",
      "193:\tlearn: 0.2242341\ttotal: 219ms\tremaining: 908ms\n",
      "194:\tlearn: 0.2234874\ttotal: 219ms\tremaining: 906ms\n",
      "195:\tlearn: 0.2228462\ttotal: 220ms\tremaining: 903ms\n",
      "196:\tlearn: 0.2224084\ttotal: 221ms\tremaining: 901ms\n",
      "197:\tlearn: 0.2220372\ttotal: 222ms\tremaining: 899ms\n",
      "198:\tlearn: 0.2217116\ttotal: 223ms\tremaining: 897ms\n",
      "199:\tlearn: 0.2210743\ttotal: 224ms\tremaining: 894ms\n",
      "200:\tlearn: 0.2204712\ttotal: 224ms\tremaining: 891ms\n",
      "201:\tlearn: 0.2201448\ttotal: 225ms\tremaining: 889ms\n",
      "202:\tlearn: 0.2193460\ttotal: 226ms\tremaining: 887ms\n",
      "203:\tlearn: 0.2188370\ttotal: 227ms\tremaining: 885ms\n",
      "204:\tlearn: 0.2181699\ttotal: 228ms\tremaining: 883ms\n",
      "205:\tlearn: 0.2175865\ttotal: 228ms\tremaining: 880ms\n",
      "206:\tlearn: 0.2169389\ttotal: 229ms\tremaining: 878ms\n",
      "207:\tlearn: 0.2165316\ttotal: 230ms\tremaining: 875ms\n",
      "208:\tlearn: 0.2160232\ttotal: 231ms\tremaining: 874ms\n",
      "209:\tlearn: 0.2152377\ttotal: 232ms\tremaining: 872ms\n",
      "210:\tlearn: 0.2145531\ttotal: 233ms\tremaining: 869ms\n",
      "211:\tlearn: 0.2141854\ttotal: 233ms\tremaining: 867ms\n",
      "212:\tlearn: 0.2136029\ttotal: 234ms\tremaining: 865ms\n",
      "213:\tlearn: 0.2132111\ttotal: 235ms\tremaining: 863ms\n",
      "214:\tlearn: 0.2124028\ttotal: 236ms\tremaining: 860ms\n",
      "215:\tlearn: 0.2116825\ttotal: 237ms\tremaining: 858ms\n",
      "216:\tlearn: 0.2112248\ttotal: 237ms\tremaining: 856ms\n",
      "217:\tlearn: 0.2107473\ttotal: 238ms\tremaining: 855ms\n",
      "218:\tlearn: 0.2101984\ttotal: 239ms\tremaining: 853ms\n",
      "219:\tlearn: 0.2096312\ttotal: 240ms\tremaining: 851ms\n",
      "220:\tlearn: 0.2094867\ttotal: 241ms\tremaining: 849ms\n",
      "221:\tlearn: 0.2088071\ttotal: 242ms\tremaining: 847ms\n",
      "222:\tlearn: 0.2081961\ttotal: 243ms\tremaining: 845ms\n",
      "223:\tlearn: 0.2076249\ttotal: 243ms\tremaining: 843ms\n",
      "224:\tlearn: 0.2070108\ttotal: 244ms\tremaining: 841ms\n",
      "225:\tlearn: 0.2064443\ttotal: 245ms\tremaining: 840ms\n",
      "226:\tlearn: 0.2060296\ttotal: 246ms\tremaining: 838ms\n",
      "227:\tlearn: 0.2054653\ttotal: 247ms\tremaining: 836ms\n",
      "228:\tlearn: 0.2049901\ttotal: 248ms\tremaining: 835ms\n",
      "229:\tlearn: 0.2044972\ttotal: 249ms\tremaining: 832ms\n",
      "230:\tlearn: 0.2038744\ttotal: 249ms\tremaining: 831ms\n",
      "231:\tlearn: 0.2032174\ttotal: 250ms\tremaining: 829ms\n",
      "232:\tlearn: 0.2026230\ttotal: 251ms\tremaining: 827ms\n",
      "233:\tlearn: 0.2022147\ttotal: 252ms\tremaining: 825ms\n",
      "234:\tlearn: 0.2019332\ttotal: 253ms\tremaining: 824ms\n",
      "235:\tlearn: 0.2014744\ttotal: 254ms\tremaining: 822ms\n",
      "236:\tlearn: 0.2010370\ttotal: 255ms\tremaining: 820ms\n",
      "237:\tlearn: 0.2005640\ttotal: 256ms\tremaining: 818ms\n",
      "238:\tlearn: 0.2000486\ttotal: 256ms\tremaining: 816ms\n",
      "239:\tlearn: 0.1994601\ttotal: 257ms\tremaining: 814ms\n",
      "240:\tlearn: 0.1988504\ttotal: 258ms\tremaining: 812ms\n",
      "241:\tlearn: 0.1984208\ttotal: 259ms\tremaining: 810ms\n",
      "242:\tlearn: 0.1980228\ttotal: 260ms\tremaining: 809ms\n",
      "243:\tlearn: 0.1977771\ttotal: 260ms\tremaining: 807ms\n",
      "244:\tlearn: 0.1971521\ttotal: 261ms\tremaining: 805ms\n",
      "245:\tlearn: 0.1966102\ttotal: 262ms\tremaining: 803ms\n",
      "246:\tlearn: 0.1959696\ttotal: 263ms\tremaining: 802ms\n",
      "247:\tlearn: 0.1954498\ttotal: 264ms\tremaining: 800ms\n",
      "248:\tlearn: 0.1949299\ttotal: 265ms\tremaining: 798ms\n",
      "249:\tlearn: 0.1945634\ttotal: 265ms\tremaining: 796ms\n",
      "250:\tlearn: 0.1940521\ttotal: 266ms\tremaining: 795ms\n",
      "251:\tlearn: 0.1935941\ttotal: 267ms\tremaining: 793ms\n",
      "252:\tlearn: 0.1932843\ttotal: 268ms\tremaining: 791ms\n",
      "253:\tlearn: 0.1928027\ttotal: 269ms\tremaining: 789ms\n",
      "254:\tlearn: 0.1923062\ttotal: 270ms\tremaining: 787ms\n",
      "255:\tlearn: 0.1917900\ttotal: 270ms\tremaining: 785ms\n",
      "256:\tlearn: 0.1912832\ttotal: 271ms\tremaining: 784ms\n",
      "257:\tlearn: 0.1908801\ttotal: 272ms\tremaining: 782ms\n",
      "258:\tlearn: 0.1903486\ttotal: 273ms\tremaining: 780ms\n",
      "259:\tlearn: 0.1900158\ttotal: 274ms\tremaining: 779ms\n",
      "260:\tlearn: 0.1895685\ttotal: 274ms\tremaining: 777ms\n",
      "261:\tlearn: 0.1891231\ttotal: 275ms\tremaining: 775ms\n",
      "262:\tlearn: 0.1885295\ttotal: 276ms\tremaining: 773ms\n",
      "263:\tlearn: 0.1880723\ttotal: 277ms\tremaining: 772ms\n",
      "264:\tlearn: 0.1875145\ttotal: 278ms\tremaining: 770ms\n",
      "265:\tlearn: 0.1871575\ttotal: 279ms\tremaining: 769ms\n",
      "266:\tlearn: 0.1865898\ttotal: 279ms\tremaining: 767ms\n",
      "267:\tlearn: 0.1861629\ttotal: 280ms\tremaining: 766ms\n",
      "268:\tlearn: 0.1857155\ttotal: 281ms\tremaining: 764ms\n",
      "269:\tlearn: 0.1851099\ttotal: 282ms\tremaining: 762ms\n",
      "270:\tlearn: 0.1845764\ttotal: 283ms\tremaining: 760ms\n",
      "271:\tlearn: 0.1840590\ttotal: 283ms\tremaining: 759ms\n",
      "272:\tlearn: 0.1836098\ttotal: 284ms\tremaining: 757ms\n",
      "273:\tlearn: 0.1832361\ttotal: 285ms\tremaining: 756ms\n",
      "274:\tlearn: 0.1828071\ttotal: 286ms\tremaining: 754ms\n",
      "275:\tlearn: 0.1821626\ttotal: 287ms\tremaining: 752ms\n",
      "276:\tlearn: 0.1817542\ttotal: 288ms\tremaining: 750ms\n",
      "277:\tlearn: 0.1814659\ttotal: 288ms\tremaining: 749ms\n",
      "278:\tlearn: 0.1809115\ttotal: 289ms\tremaining: 748ms\n",
      "279:\tlearn: 0.1807582\ttotal: 290ms\tremaining: 746ms\n",
      "280:\tlearn: 0.1803133\ttotal: 291ms\tremaining: 745ms\n",
      "281:\tlearn: 0.1797860\ttotal: 292ms\tremaining: 743ms\n",
      "282:\tlearn: 0.1793374\ttotal: 293ms\tremaining: 742ms\n",
      "283:\tlearn: 0.1790127\ttotal: 294ms\tremaining: 741ms\n",
      "284:\tlearn: 0.1785975\ttotal: 295ms\tremaining: 739ms\n",
      "285:\tlearn: 0.1781359\ttotal: 295ms\tremaining: 737ms\n",
      "286:\tlearn: 0.1776826\ttotal: 296ms\tremaining: 736ms\n"
     ]
    },
    {
     "name": "stdout",
     "output_type": "stream",
     "text": [
      "287:\tlearn: 0.1773069\ttotal: 297ms\tremaining: 735ms\n",
      "288:\tlearn: 0.1767835\ttotal: 298ms\tremaining: 733ms\n",
      "289:\tlearn: 0.1763856\ttotal: 299ms\tremaining: 732ms\n",
      "290:\tlearn: 0.1761687\ttotal: 300ms\tremaining: 730ms\n",
      "291:\tlearn: 0.1758667\ttotal: 301ms\tremaining: 729ms\n",
      "292:\tlearn: 0.1753684\ttotal: 301ms\tremaining: 727ms\n",
      "293:\tlearn: 0.1748182\ttotal: 302ms\tremaining: 725ms\n",
      "294:\tlearn: 0.1745088\ttotal: 303ms\tremaining: 724ms\n",
      "295:\tlearn: 0.1742993\ttotal: 304ms\tremaining: 722ms\n",
      "296:\tlearn: 0.1738997\ttotal: 304ms\tremaining: 721ms\n",
      "297:\tlearn: 0.1733670\ttotal: 305ms\tremaining: 719ms\n",
      "298:\tlearn: 0.1730286\ttotal: 306ms\tremaining: 718ms\n",
      "299:\tlearn: 0.1726364\ttotal: 307ms\tremaining: 717ms\n",
      "300:\tlearn: 0.1722514\ttotal: 308ms\tremaining: 715ms\n",
      "301:\tlearn: 0.1718260\ttotal: 309ms\tremaining: 714ms\n",
      "302:\tlearn: 0.1715468\ttotal: 310ms\tremaining: 712ms\n",
      "303:\tlearn: 0.1710940\ttotal: 311ms\tremaining: 711ms\n",
      "304:\tlearn: 0.1707829\ttotal: 311ms\tremaining: 710ms\n",
      "305:\tlearn: 0.1704222\ttotal: 312ms\tremaining: 708ms\n",
      "306:\tlearn: 0.1698960\ttotal: 313ms\tremaining: 706ms\n",
      "307:\tlearn: 0.1695090\ttotal: 314ms\tremaining: 705ms\n",
      "308:\tlearn: 0.1691305\ttotal: 315ms\tremaining: 704ms\n",
      "309:\tlearn: 0.1687395\ttotal: 315ms\tremaining: 702ms\n",
      "310:\tlearn: 0.1684899\ttotal: 316ms\tremaining: 701ms\n",
      "311:\tlearn: 0.1681499\ttotal: 317ms\tremaining: 700ms\n",
      "312:\tlearn: 0.1677825\ttotal: 318ms\tremaining: 698ms\n",
      "313:\tlearn: 0.1673028\ttotal: 319ms\tremaining: 697ms\n",
      "314:\tlearn: 0.1668905\ttotal: 320ms\tremaining: 696ms\n",
      "315:\tlearn: 0.1665009\ttotal: 321ms\tremaining: 694ms\n",
      "316:\tlearn: 0.1661600\ttotal: 321ms\tremaining: 693ms\n",
      "317:\tlearn: 0.1657628\ttotal: 322ms\tremaining: 691ms\n",
      "318:\tlearn: 0.1654233\ttotal: 323ms\tremaining: 689ms\n",
      "319:\tlearn: 0.1649784\ttotal: 324ms\tremaining: 688ms\n",
      "320:\tlearn: 0.1646990\ttotal: 325ms\tremaining: 686ms\n",
      "321:\tlearn: 0.1643116\ttotal: 325ms\tremaining: 685ms\n",
      "322:\tlearn: 0.1639424\ttotal: 326ms\tremaining: 684ms\n",
      "323:\tlearn: 0.1635674\ttotal: 327ms\tremaining: 683ms\n",
      "324:\tlearn: 0.1632324\ttotal: 328ms\tremaining: 681ms\n",
      "325:\tlearn: 0.1627322\ttotal: 329ms\tremaining: 680ms\n",
      "326:\tlearn: 0.1625182\ttotal: 330ms\tremaining: 678ms\n",
      "327:\tlearn: 0.1623919\ttotal: 330ms\tremaining: 677ms\n",
      "328:\tlearn: 0.1619737\ttotal: 331ms\tremaining: 676ms\n",
      "329:\tlearn: 0.1616896\ttotal: 332ms\tremaining: 674ms\n",
      "330:\tlearn: 0.1613195\ttotal: 333ms\tremaining: 673ms\n",
      "331:\tlearn: 0.1609766\ttotal: 334ms\tremaining: 672ms\n",
      "332:\tlearn: 0.1605551\ttotal: 335ms\tremaining: 671ms\n",
      "333:\tlearn: 0.1602385\ttotal: 336ms\tremaining: 670ms\n",
      "334:\tlearn: 0.1599929\ttotal: 337ms\tremaining: 668ms\n",
      "335:\tlearn: 0.1595924\ttotal: 337ms\tremaining: 667ms\n",
      "336:\tlearn: 0.1590853\ttotal: 338ms\tremaining: 666ms\n",
      "337:\tlearn: 0.1588037\ttotal: 339ms\tremaining: 664ms\n",
      "338:\tlearn: 0.1584524\ttotal: 340ms\tremaining: 663ms\n",
      "339:\tlearn: 0.1582165\ttotal: 341ms\tremaining: 661ms\n",
      "340:\tlearn: 0.1578607\ttotal: 341ms\tremaining: 660ms\n",
      "341:\tlearn: 0.1574511\ttotal: 342ms\tremaining: 658ms\n",
      "342:\tlearn: 0.1570455\ttotal: 343ms\tremaining: 657ms\n",
      "343:\tlearn: 0.1567092\ttotal: 344ms\tremaining: 655ms\n",
      "344:\tlearn: 0.1563735\ttotal: 345ms\tremaining: 654ms\n",
      "345:\tlearn: 0.1563121\ttotal: 345ms\tremaining: 653ms\n",
      "346:\tlearn: 0.1560821\ttotal: 346ms\tremaining: 651ms\n",
      "347:\tlearn: 0.1559517\ttotal: 347ms\tremaining: 650ms\n",
      "348:\tlearn: 0.1557943\ttotal: 348ms\tremaining: 649ms\n",
      "349:\tlearn: 0.1555086\ttotal: 349ms\tremaining: 649ms\n",
      "350:\tlearn: 0.1551421\ttotal: 350ms\tremaining: 648ms\n",
      "351:\tlearn: 0.1549050\ttotal: 351ms\tremaining: 647ms\n",
      "352:\tlearn: 0.1546005\ttotal: 352ms\tremaining: 645ms\n",
      "353:\tlearn: 0.1543358\ttotal: 353ms\tremaining: 644ms\n",
      "354:\tlearn: 0.1539801\ttotal: 354ms\tremaining: 643ms\n",
      "355:\tlearn: 0.1538315\ttotal: 355ms\tremaining: 642ms\n",
      "356:\tlearn: 0.1533309\ttotal: 355ms\tremaining: 640ms\n",
      "357:\tlearn: 0.1532712\ttotal: 356ms\tremaining: 639ms\n",
      "358:\tlearn: 0.1530475\ttotal: 357ms\tremaining: 638ms\n",
      "359:\tlearn: 0.1527250\ttotal: 358ms\tremaining: 636ms\n",
      "360:\tlearn: 0.1524271\ttotal: 359ms\tremaining: 635ms\n",
      "361:\tlearn: 0.1521214\ttotal: 360ms\tremaining: 634ms\n",
      "362:\tlearn: 0.1520569\ttotal: 360ms\tremaining: 632ms\n",
      "363:\tlearn: 0.1519100\ttotal: 361ms\tremaining: 631ms\n",
      "364:\tlearn: 0.1515952\ttotal: 362ms\tremaining: 630ms\n",
      "365:\tlearn: 0.1511765\ttotal: 363ms\tremaining: 628ms\n",
      "366:\tlearn: 0.1510124\ttotal: 364ms\tremaining: 627ms\n",
      "367:\tlearn: 0.1509636\ttotal: 364ms\tremaining: 626ms\n",
      "368:\tlearn: 0.1507931\ttotal: 366ms\tremaining: 626ms\n",
      "369:\tlearn: 0.1505006\ttotal: 367ms\tremaining: 624ms\n",
      "370:\tlearn: 0.1504309\ttotal: 367ms\tremaining: 623ms\n",
      "371:\tlearn: 0.1500150\ttotal: 368ms\tremaining: 622ms\n",
      "372:\tlearn: 0.1499031\ttotal: 369ms\tremaining: 620ms\n",
      "373:\tlearn: 0.1498191\ttotal: 370ms\tremaining: 619ms\n",
      "374:\tlearn: 0.1497147\ttotal: 371ms\tremaining: 618ms\n",
      "375:\tlearn: 0.1494258\ttotal: 372ms\tremaining: 617ms\n",
      "376:\tlearn: 0.1493775\ttotal: 372ms\tremaining: 615ms\n",
      "377:\tlearn: 0.1490527\ttotal: 373ms\tremaining: 614ms\n",
      "378:\tlearn: 0.1490017\ttotal: 374ms\tremaining: 613ms\n",
      "379:\tlearn: 0.1486959\ttotal: 375ms\tremaining: 611ms\n",
      "380:\tlearn: 0.1484100\ttotal: 376ms\tremaining: 610ms\n",
      "381:\tlearn: 0.1482013\ttotal: 376ms\tremaining: 609ms\n",
      "382:\tlearn: 0.1481714\ttotal: 377ms\tremaining: 607ms\n",
      "383:\tlearn: 0.1479183\ttotal: 378ms\tremaining: 606ms\n",
      "384:\tlearn: 0.1474431\ttotal: 379ms\tremaining: 605ms\n",
      "385:\tlearn: 0.1469620\ttotal: 379ms\tremaining: 604ms\n",
      "386:\tlearn: 0.1467215\ttotal: 380ms\tremaining: 602ms\n"
     ]
    },
    {
     "name": "stdout",
     "output_type": "stream",
     "text": [
      "387:\tlearn: 0.1466243\ttotal: 381ms\tremaining: 601ms\n",
      "388:\tlearn: 0.1462400\ttotal: 382ms\tremaining: 600ms\n",
      "389:\tlearn: 0.1460094\ttotal: 383ms\tremaining: 599ms\n",
      "390:\tlearn: 0.1456669\ttotal: 384ms\tremaining: 598ms\n",
      "391:\tlearn: 0.1453299\ttotal: 385ms\tremaining: 597ms\n",
      "392:\tlearn: 0.1449360\ttotal: 386ms\tremaining: 596ms\n",
      "393:\tlearn: 0.1445719\ttotal: 386ms\tremaining: 594ms\n",
      "394:\tlearn: 0.1442893\ttotal: 387ms\tremaining: 593ms\n",
      "395:\tlearn: 0.1442479\ttotal: 388ms\tremaining: 592ms\n",
      "396:\tlearn: 0.1442063\ttotal: 389ms\tremaining: 591ms\n",
      "397:\tlearn: 0.1440109\ttotal: 390ms\tremaining: 591ms\n",
      "398:\tlearn: 0.1438835\ttotal: 391ms\tremaining: 589ms\n",
      "399:\tlearn: 0.1437110\ttotal: 392ms\tremaining: 588ms\n",
      "400:\tlearn: 0.1434513\ttotal: 393ms\tremaining: 587ms\n",
      "401:\tlearn: 0.1432517\ttotal: 395ms\tremaining: 587ms\n",
      "402:\tlearn: 0.1429621\ttotal: 395ms\tremaining: 586ms\n",
      "403:\tlearn: 0.1427056\ttotal: 396ms\tremaining: 585ms\n",
      "404:\tlearn: 0.1426517\ttotal: 397ms\tremaining: 583ms\n",
      "405:\tlearn: 0.1422664\ttotal: 398ms\tremaining: 582ms\n",
      "406:\tlearn: 0.1421730\ttotal: 399ms\tremaining: 581ms\n",
      "407:\tlearn: 0.1420475\ttotal: 399ms\tremaining: 579ms\n",
      "408:\tlearn: 0.1419009\ttotal: 400ms\tremaining: 578ms\n",
      "409:\tlearn: 0.1418660\ttotal: 401ms\tremaining: 577ms\n",
      "410:\tlearn: 0.1418173\ttotal: 402ms\tremaining: 576ms\n",
      "411:\tlearn: 0.1415670\ttotal: 402ms\tremaining: 574ms\n",
      "412:\tlearn: 0.1414712\ttotal: 403ms\tremaining: 573ms\n",
      "413:\tlearn: 0.1414365\ttotal: 404ms\tremaining: 572ms\n",
      "414:\tlearn: 0.1413668\ttotal: 405ms\tremaining: 571ms\n",
      "415:\tlearn: 0.1411784\ttotal: 406ms\tremaining: 570ms\n",
      "416:\tlearn: 0.1408536\ttotal: 407ms\tremaining: 569ms\n",
      "417:\tlearn: 0.1406440\ttotal: 407ms\tremaining: 567ms\n",
      "418:\tlearn: 0.1404014\ttotal: 408ms\tremaining: 566ms\n",
      "419:\tlearn: 0.1403018\ttotal: 409ms\tremaining: 565ms\n",
      "420:\tlearn: 0.1399661\ttotal: 410ms\tremaining: 564ms\n",
      "421:\tlearn: 0.1396783\ttotal: 411ms\tremaining: 562ms\n",
      "422:\tlearn: 0.1393795\ttotal: 412ms\tremaining: 561ms\n",
      "423:\tlearn: 0.1391094\ttotal: 412ms\tremaining: 560ms\n",
      "424:\tlearn: 0.1389790\ttotal: 413ms\tremaining: 559ms\n",
      "425:\tlearn: 0.1386519\ttotal: 414ms\tremaining: 558ms\n",
      "426:\tlearn: 0.1386185\ttotal: 415ms\tremaining: 557ms\n",
      "427:\tlearn: 0.1384496\ttotal: 416ms\tremaining: 556ms\n",
      "428:\tlearn: 0.1382758\ttotal: 417ms\tremaining: 555ms\n",
      "429:\tlearn: 0.1378509\ttotal: 417ms\tremaining: 553ms\n",
      "430:\tlearn: 0.1375981\ttotal: 418ms\tremaining: 552ms\n",
      "431:\tlearn: 0.1372004\ttotal: 419ms\tremaining: 551ms\n",
      "432:\tlearn: 0.1370451\ttotal: 420ms\tremaining: 550ms\n",
      "433:\tlearn: 0.1369581\ttotal: 421ms\tremaining: 548ms\n",
      "434:\tlearn: 0.1369356\ttotal: 421ms\tremaining: 547ms\n",
      "435:\tlearn: 0.1367162\ttotal: 422ms\tremaining: 546ms\n",
      "436:\tlearn: 0.1364398\ttotal: 423ms\tremaining: 545ms\n",
      "437:\tlearn: 0.1361484\ttotal: 424ms\tremaining: 544ms\n",
      "438:\tlearn: 0.1357241\ttotal: 425ms\tremaining: 543ms\n",
      "439:\tlearn: 0.1356568\ttotal: 425ms\tremaining: 542ms\n",
      "440:\tlearn: 0.1353538\ttotal: 426ms\tremaining: 540ms\n",
      "441:\tlearn: 0.1352209\ttotal: 427ms\tremaining: 539ms\n",
      "442:\tlearn: 0.1350241\ttotal: 428ms\tremaining: 538ms\n",
      "443:\tlearn: 0.1347080\ttotal: 429ms\tremaining: 537ms\n",
      "444:\tlearn: 0.1343903\ttotal: 430ms\tremaining: 536ms\n",
      "445:\tlearn: 0.1343014\ttotal: 430ms\tremaining: 535ms\n",
      "446:\tlearn: 0.1341417\ttotal: 431ms\tremaining: 533ms\n",
      "447:\tlearn: 0.1339300\ttotal: 432ms\tremaining: 532ms\n",
      "448:\tlearn: 0.1335271\ttotal: 433ms\tremaining: 531ms\n",
      "449:\tlearn: 0.1333089\ttotal: 434ms\tremaining: 530ms\n",
      "450:\tlearn: 0.1331447\ttotal: 434ms\tremaining: 529ms\n",
      "451:\tlearn: 0.1328030\ttotal: 435ms\tremaining: 528ms\n",
      "452:\tlearn: 0.1325588\ttotal: 436ms\tremaining: 527ms\n",
      "453:\tlearn: 0.1323377\ttotal: 437ms\tremaining: 526ms\n",
      "454:\tlearn: 0.1321634\ttotal: 438ms\tremaining: 525ms\n",
      "455:\tlearn: 0.1320118\ttotal: 439ms\tremaining: 524ms\n",
      "456:\tlearn: 0.1318443\ttotal: 440ms\tremaining: 523ms\n",
      "457:\tlearn: 0.1315282\ttotal: 441ms\tremaining: 522ms\n",
      "458:\tlearn: 0.1312183\ttotal: 442ms\tremaining: 521ms\n",
      "459:\tlearn: 0.1310598\ttotal: 443ms\tremaining: 520ms\n",
      "460:\tlearn: 0.1307845\ttotal: 443ms\tremaining: 518ms\n",
      "461:\tlearn: 0.1307553\ttotal: 444ms\tremaining: 517ms\n",
      "462:\tlearn: 0.1306368\ttotal: 445ms\tremaining: 516ms\n",
      "463:\tlearn: 0.1303559\ttotal: 446ms\tremaining: 515ms\n",
      "464:\tlearn: 0.1300362\ttotal: 447ms\tremaining: 515ms\n",
      "465:\tlearn: 0.1300136\ttotal: 448ms\tremaining: 514ms\n",
      "466:\tlearn: 0.1297617\ttotal: 449ms\tremaining: 513ms\n",
      "467:\tlearn: 0.1294863\ttotal: 450ms\tremaining: 511ms\n",
      "468:\tlearn: 0.1292237\ttotal: 451ms\tremaining: 510ms\n",
      "469:\tlearn: 0.1291992\ttotal: 452ms\tremaining: 509ms\n",
      "470:\tlearn: 0.1288871\ttotal: 452ms\tremaining: 508ms\n",
      "471:\tlearn: 0.1286448\ttotal: 453ms\tremaining: 507ms\n",
      "472:\tlearn: 0.1282428\ttotal: 454ms\tremaining: 506ms\n",
      "473:\tlearn: 0.1279574\ttotal: 455ms\tremaining: 505ms\n",
      "474:\tlearn: 0.1277053\ttotal: 456ms\tremaining: 504ms\n",
      "475:\tlearn: 0.1275459\ttotal: 457ms\tremaining: 503ms\n",
      "476:\tlearn: 0.1273812\ttotal: 457ms\tremaining: 502ms\n",
      "477:\tlearn: 0.1273494\ttotal: 458ms\tremaining: 500ms\n",
      "478:\tlearn: 0.1272839\ttotal: 460ms\tremaining: 500ms\n",
      "479:\tlearn: 0.1270893\ttotal: 461ms\tremaining: 499ms\n",
      "480:\tlearn: 0.1268444\ttotal: 462ms\tremaining: 498ms\n",
      "481:\tlearn: 0.1266614\ttotal: 462ms\tremaining: 497ms\n",
      "482:\tlearn: 0.1264985\ttotal: 463ms\tremaining: 496ms\n",
      "483:\tlearn: 0.1262697\ttotal: 464ms\tremaining: 495ms\n",
      "484:\tlearn: 0.1261503\ttotal: 465ms\tremaining: 494ms\n",
      "485:\tlearn: 0.1260474\ttotal: 466ms\tremaining: 493ms\n",
      "486:\tlearn: 0.1257584\ttotal: 467ms\tremaining: 492ms\n",
      "487:\tlearn: 0.1255350\ttotal: 468ms\tremaining: 491ms\n",
      "488:\tlearn: 0.1253691\ttotal: 469ms\tremaining: 490ms\n",
      "489:\tlearn: 0.1252237\ttotal: 470ms\tremaining: 489ms\n",
      "490:\tlearn: 0.1251922\ttotal: 470ms\tremaining: 488ms\n",
      "491:\tlearn: 0.1248574\ttotal: 471ms\tremaining: 487ms\n",
      "492:\tlearn: 0.1245550\ttotal: 472ms\tremaining: 486ms\n",
      "493:\tlearn: 0.1242541\ttotal: 473ms\tremaining: 485ms\n",
      "494:\tlearn: 0.1239505\ttotal: 474ms\tremaining: 484ms\n",
      "495:\tlearn: 0.1237134\ttotal: 475ms\tremaining: 482ms\n",
      "496:\tlearn: 0.1235315\ttotal: 476ms\tremaining: 481ms\n",
      "497:\tlearn: 0.1232094\ttotal: 476ms\tremaining: 480ms\n",
      "498:\tlearn: 0.1230814\ttotal: 477ms\tremaining: 479ms\n",
      "499:\tlearn: 0.1228859\ttotal: 478ms\tremaining: 478ms\n",
      "500:\tlearn: 0.1226608\ttotal: 479ms\tremaining: 477ms\n",
      "501:\tlearn: 0.1223891\ttotal: 480ms\tremaining: 476ms\n",
      "502:\tlearn: 0.1222217\ttotal: 480ms\tremaining: 475ms\n",
      "503:\tlearn: 0.1220042\ttotal: 481ms\tremaining: 474ms\n",
      "504:\tlearn: 0.1218701\ttotal: 482ms\tremaining: 472ms\n",
      "505:\tlearn: 0.1216954\ttotal: 483ms\tremaining: 471ms\n",
      "506:\tlearn: 0.1215650\ttotal: 484ms\tremaining: 470ms\n",
      "507:\tlearn: 0.1213337\ttotal: 484ms\tremaining: 469ms\n",
      "508:\tlearn: 0.1212269\ttotal: 486ms\tremaining: 469ms\n",
      "509:\tlearn: 0.1209978\ttotal: 487ms\tremaining: 468ms\n"
     ]
    },
    {
     "name": "stdout",
     "output_type": "stream",
     "text": [
      "510:\tlearn: 0.1207307\ttotal: 488ms\tremaining: 467ms\n",
      "511:\tlearn: 0.1205018\ttotal: 489ms\tremaining: 466ms\n",
      "512:\tlearn: 0.1202743\ttotal: 490ms\tremaining: 465ms\n",
      "513:\tlearn: 0.1200237\ttotal: 490ms\tremaining: 464ms\n",
      "514:\tlearn: 0.1197411\ttotal: 491ms\tremaining: 463ms\n",
      "515:\tlearn: 0.1197131\ttotal: 492ms\tremaining: 461ms\n",
      "516:\tlearn: 0.1193969\ttotal: 493ms\tremaining: 460ms\n",
      "517:\tlearn: 0.1192271\ttotal: 493ms\tremaining: 459ms\n",
      "518:\tlearn: 0.1190475\ttotal: 494ms\tremaining: 458ms\n",
      "519:\tlearn: 0.1189980\ttotal: 495ms\tremaining: 457ms\n",
      "520:\tlearn: 0.1188172\ttotal: 496ms\tremaining: 456ms\n",
      "521:\tlearn: 0.1187842\ttotal: 497ms\tremaining: 455ms\n",
      "522:\tlearn: 0.1185333\ttotal: 498ms\tremaining: 454ms\n",
      "523:\tlearn: 0.1183014\ttotal: 499ms\tremaining: 453ms\n",
      "524:\tlearn: 0.1182766\ttotal: 499ms\tremaining: 452ms\n",
      "525:\tlearn: 0.1181161\ttotal: 500ms\tremaining: 451ms\n",
      "526:\tlearn: 0.1179491\ttotal: 501ms\tremaining: 450ms\n",
      "527:\tlearn: 0.1175983\ttotal: 502ms\tremaining: 449ms\n",
      "528:\tlearn: 0.1173826\ttotal: 503ms\tremaining: 448ms\n",
      "529:\tlearn: 0.1173528\ttotal: 504ms\tremaining: 447ms\n",
      "530:\tlearn: 0.1172488\ttotal: 505ms\tremaining: 446ms\n",
      "531:\tlearn: 0.1169735\ttotal: 505ms\tremaining: 445ms\n",
      "532:\tlearn: 0.1168220\ttotal: 506ms\tremaining: 444ms\n",
      "533:\tlearn: 0.1165945\ttotal: 507ms\tremaining: 443ms\n",
      "534:\tlearn: 0.1163364\ttotal: 508ms\tremaining: 442ms\n",
      "535:\tlearn: 0.1161037\ttotal: 509ms\tremaining: 440ms\n",
      "536:\tlearn: 0.1156909\ttotal: 510ms\tremaining: 439ms\n",
      "537:\tlearn: 0.1155373\ttotal: 510ms\tremaining: 438ms\n",
      "538:\tlearn: 0.1154253\ttotal: 511ms\tremaining: 437ms\n",
      "539:\tlearn: 0.1152089\ttotal: 512ms\tremaining: 436ms\n",
      "540:\tlearn: 0.1151036\ttotal: 513ms\tremaining: 435ms\n",
      "541:\tlearn: 0.1149013\ttotal: 513ms\tremaining: 434ms\n",
      "542:\tlearn: 0.1147644\ttotal: 514ms\tremaining: 433ms\n",
      "543:\tlearn: 0.1146451\ttotal: 515ms\tremaining: 432ms\n",
      "544:\tlearn: 0.1145480\ttotal: 516ms\tremaining: 431ms\n",
      "545:\tlearn: 0.1142370\ttotal: 517ms\tremaining: 430ms\n",
      "546:\tlearn: 0.1140146\ttotal: 517ms\tremaining: 429ms\n",
      "547:\tlearn: 0.1138820\ttotal: 518ms\tremaining: 427ms\n",
      "548:\tlearn: 0.1137642\ttotal: 519ms\tremaining: 426ms\n",
      "549:\tlearn: 0.1134728\ttotal: 520ms\tremaining: 425ms\n",
      "550:\tlearn: 0.1132511\ttotal: 520ms\tremaining: 424ms\n",
      "551:\tlearn: 0.1130763\ttotal: 521ms\tremaining: 423ms\n",
      "552:\tlearn: 0.1129055\ttotal: 522ms\tremaining: 422ms\n",
      "553:\tlearn: 0.1126498\ttotal: 523ms\tremaining: 421ms\n",
      "554:\tlearn: 0.1124122\ttotal: 524ms\tremaining: 420ms\n",
      "555:\tlearn: 0.1123207\ttotal: 524ms\tremaining: 419ms\n",
      "556:\tlearn: 0.1121166\ttotal: 525ms\tremaining: 418ms\n",
      "557:\tlearn: 0.1119543\ttotal: 526ms\tremaining: 417ms\n",
      "558:\tlearn: 0.1117908\ttotal: 527ms\tremaining: 416ms\n",
      "559:\tlearn: 0.1116236\ttotal: 528ms\tremaining: 415ms\n",
      "560:\tlearn: 0.1113328\ttotal: 528ms\tremaining: 414ms\n",
      "561:\tlearn: 0.1111507\ttotal: 529ms\tremaining: 412ms\n",
      "562:\tlearn: 0.1110366\ttotal: 531ms\tremaining: 412ms\n",
      "563:\tlearn: 0.1109068\ttotal: 532ms\tremaining: 411ms\n",
      "564:\tlearn: 0.1107102\ttotal: 532ms\tremaining: 410ms\n",
      "565:\tlearn: 0.1105899\ttotal: 533ms\tremaining: 409ms\n",
      "566:\tlearn: 0.1103705\ttotal: 534ms\tremaining: 408ms\n",
      "567:\tlearn: 0.1101570\ttotal: 535ms\tremaining: 407ms\n",
      "568:\tlearn: 0.1098963\ttotal: 536ms\tremaining: 406ms\n",
      "569:\tlearn: 0.1096784\ttotal: 537ms\tremaining: 405ms\n",
      "570:\tlearn: 0.1095601\ttotal: 537ms\tremaining: 404ms\n",
      "571:\tlearn: 0.1095029\ttotal: 538ms\tremaining: 403ms\n",
      "572:\tlearn: 0.1094705\ttotal: 539ms\tremaining: 402ms\n",
      "573:\tlearn: 0.1091723\ttotal: 540ms\tremaining: 401ms\n",
      "574:\tlearn: 0.1088828\ttotal: 541ms\tremaining: 400ms\n",
      "575:\tlearn: 0.1086564\ttotal: 542ms\tremaining: 399ms\n",
      "576:\tlearn: 0.1084866\ttotal: 542ms\tremaining: 398ms\n",
      "577:\tlearn: 0.1082700\ttotal: 543ms\tremaining: 397ms\n",
      "578:\tlearn: 0.1081186\ttotal: 544ms\tremaining: 396ms\n",
      "579:\tlearn: 0.1080908\ttotal: 545ms\tremaining: 395ms\n",
      "580:\tlearn: 0.1077788\ttotal: 546ms\tremaining: 394ms\n",
      "581:\tlearn: 0.1075244\ttotal: 547ms\tremaining: 393ms\n",
      "582:\tlearn: 0.1074208\ttotal: 548ms\tremaining: 392ms\n",
      "583:\tlearn: 0.1073445\ttotal: 549ms\tremaining: 391ms\n",
      "584:\tlearn: 0.1071333\ttotal: 550ms\tremaining: 390ms\n",
      "585:\tlearn: 0.1071170\ttotal: 551ms\tremaining: 389ms\n",
      "586:\tlearn: 0.1070178\ttotal: 552ms\tremaining: 388ms\n",
      "587:\tlearn: 0.1068972\ttotal: 553ms\tremaining: 387ms\n",
      "588:\tlearn: 0.1066553\ttotal: 554ms\tremaining: 386ms\n",
      "589:\tlearn: 0.1064004\ttotal: 555ms\tremaining: 385ms\n",
      "590:\tlearn: 0.1061562\ttotal: 556ms\tremaining: 384ms\n",
      "591:\tlearn: 0.1059862\ttotal: 556ms\tremaining: 384ms\n",
      "592:\tlearn: 0.1058627\ttotal: 557ms\tremaining: 383ms\n",
      "593:\tlearn: 0.1056033\ttotal: 558ms\tremaining: 382ms\n",
      "594:\tlearn: 0.1053335\ttotal: 559ms\tremaining: 381ms\n",
      "595:\tlearn: 0.1052302\ttotal: 560ms\tremaining: 380ms\n",
      "596:\tlearn: 0.1050895\ttotal: 561ms\tremaining: 379ms\n",
      "597:\tlearn: 0.1050426\ttotal: 562ms\tremaining: 378ms\n",
      "598:\tlearn: 0.1048781\ttotal: 563ms\tremaining: 377ms\n",
      "599:\tlearn: 0.1047590\ttotal: 564ms\tremaining: 376ms\n",
      "600:\tlearn: 0.1045785\ttotal: 565ms\tremaining: 375ms\n",
      "601:\tlearn: 0.1043447\ttotal: 566ms\tremaining: 374ms\n",
      "602:\tlearn: 0.1042344\ttotal: 567ms\tremaining: 373ms\n",
      "603:\tlearn: 0.1040704\ttotal: 568ms\tremaining: 372ms\n",
      "604:\tlearn: 0.1039825\ttotal: 568ms\tremaining: 371ms\n",
      "605:\tlearn: 0.1038821\ttotal: 569ms\tremaining: 370ms\n",
      "606:\tlearn: 0.1035979\ttotal: 570ms\tremaining: 369ms\n",
      "607:\tlearn: 0.1035667\ttotal: 571ms\tremaining: 368ms\n"
     ]
    },
    {
     "name": "stdout",
     "output_type": "stream",
     "text": [
      "608:\tlearn: 0.1033220\ttotal: 572ms\tremaining: 367ms\n",
      "609:\tlearn: 0.1032838\ttotal: 573ms\tremaining: 366ms\n",
      "610:\tlearn: 0.1031126\ttotal: 574ms\tremaining: 365ms\n",
      "611:\tlearn: 0.1030027\ttotal: 574ms\tremaining: 364ms\n",
      "612:\tlearn: 0.1029743\ttotal: 575ms\tremaining: 363ms\n",
      "613:\tlearn: 0.1027735\ttotal: 576ms\tremaining: 362ms\n",
      "614:\tlearn: 0.1025879\ttotal: 577ms\tremaining: 361ms\n",
      "615:\tlearn: 0.1024264\ttotal: 578ms\tremaining: 360ms\n",
      "616:\tlearn: 0.1022611\ttotal: 579ms\tremaining: 359ms\n",
      "617:\tlearn: 0.1020255\ttotal: 579ms\tremaining: 358ms\n",
      "618:\tlearn: 0.1018228\ttotal: 580ms\tremaining: 357ms\n",
      "619:\tlearn: 0.1016567\ttotal: 581ms\tremaining: 356ms\n",
      "620:\tlearn: 0.1014660\ttotal: 582ms\tremaining: 355ms\n",
      "621:\tlearn: 0.1012500\ttotal: 583ms\tremaining: 354ms\n",
      "622:\tlearn: 0.1010180\ttotal: 584ms\tremaining: 353ms\n",
      "623:\tlearn: 0.1008425\ttotal: 584ms\tremaining: 352ms\n",
      "624:\tlearn: 0.1006914\ttotal: 585ms\tremaining: 351ms\n",
      "625:\tlearn: 0.1006799\ttotal: 586ms\tremaining: 350ms\n",
      "626:\tlearn: 0.1004345\ttotal: 587ms\tremaining: 349ms\n",
      "627:\tlearn: 0.1003185\ttotal: 588ms\tremaining: 348ms\n",
      "628:\tlearn: 0.1001838\ttotal: 588ms\tremaining: 347ms\n",
      "629:\tlearn: 0.1001236\ttotal: 589ms\tremaining: 346ms\n",
      "630:\tlearn: 0.0999886\ttotal: 590ms\tremaining: 345ms\n",
      "631:\tlearn: 0.0998747\ttotal: 591ms\tremaining: 344ms\n",
      "632:\tlearn: 0.0996833\ttotal: 592ms\tremaining: 343ms\n",
      "633:\tlearn: 0.0995382\ttotal: 593ms\tremaining: 342ms\n",
      "634:\tlearn: 0.0993469\ttotal: 593ms\tremaining: 341ms\n",
      "635:\tlearn: 0.0992237\ttotal: 594ms\tremaining: 340ms\n",
      "636:\tlearn: 0.0991235\ttotal: 595ms\tremaining: 339ms\n",
      "637:\tlearn: 0.0989438\ttotal: 596ms\tremaining: 338ms\n",
      "638:\tlearn: 0.0987858\ttotal: 597ms\tremaining: 337ms\n",
      "639:\tlearn: 0.0985665\ttotal: 598ms\tremaining: 336ms\n",
      "640:\tlearn: 0.0983787\ttotal: 598ms\tremaining: 335ms\n",
      "641:\tlearn: 0.0981674\ttotal: 599ms\tremaining: 334ms\n",
      "642:\tlearn: 0.0979816\ttotal: 600ms\tremaining: 333ms\n",
      "643:\tlearn: 0.0978772\ttotal: 601ms\tremaining: 332ms\n",
      "644:\tlearn: 0.0977446\ttotal: 602ms\tremaining: 331ms\n",
      "645:\tlearn: 0.0975677\ttotal: 603ms\tremaining: 330ms\n",
      "646:\tlearn: 0.0973829\ttotal: 603ms\tremaining: 329ms\n",
      "647:\tlearn: 0.0972533\ttotal: 604ms\tremaining: 328ms\n",
      "648:\tlearn: 0.0969940\ttotal: 605ms\tremaining: 327ms\n",
      "649:\tlearn: 0.0968217\ttotal: 606ms\tremaining: 326ms\n",
      "650:\tlearn: 0.0966842\ttotal: 607ms\tremaining: 325ms\n",
      "651:\tlearn: 0.0965612\ttotal: 608ms\tremaining: 324ms\n",
      "652:\tlearn: 0.0965203\ttotal: 609ms\tremaining: 323ms\n",
      "653:\tlearn: 0.0964037\ttotal: 609ms\tremaining: 322ms\n",
      "654:\tlearn: 0.0963053\ttotal: 610ms\tremaining: 321ms\n",
      "655:\tlearn: 0.0961579\ttotal: 611ms\tremaining: 320ms\n",
      "656:\tlearn: 0.0959749\ttotal: 612ms\tremaining: 319ms\n",
      "657:\tlearn: 0.0958448\ttotal: 613ms\tremaining: 318ms\n",
      "658:\tlearn: 0.0956857\ttotal: 614ms\tremaining: 318ms\n",
      "659:\tlearn: 0.0955401\ttotal: 614ms\tremaining: 317ms\n",
      "660:\tlearn: 0.0953260\ttotal: 615ms\tremaining: 316ms\n",
      "661:\tlearn: 0.0953056\ttotal: 616ms\tremaining: 315ms\n",
      "662:\tlearn: 0.0950895\ttotal: 617ms\tremaining: 314ms\n",
      "663:\tlearn: 0.0948799\ttotal: 618ms\tremaining: 313ms\n",
      "664:\tlearn: 0.0947839\ttotal: 619ms\tremaining: 312ms\n",
      "665:\tlearn: 0.0946883\ttotal: 620ms\tremaining: 311ms\n",
      "666:\tlearn: 0.0944579\ttotal: 621ms\tremaining: 310ms\n",
      "667:\tlearn: 0.0943680\ttotal: 621ms\tremaining: 309ms\n",
      "668:\tlearn: 0.0943062\ttotal: 622ms\tremaining: 308ms\n",
      "669:\tlearn: 0.0941104\ttotal: 623ms\tremaining: 307ms\n",
      "670:\tlearn: 0.0939506\ttotal: 624ms\tremaining: 306ms\n",
      "671:\tlearn: 0.0937955\ttotal: 625ms\tremaining: 305ms\n",
      "672:\tlearn: 0.0937757\ttotal: 626ms\tremaining: 304ms\n",
      "673:\tlearn: 0.0937302\ttotal: 626ms\tremaining: 303ms\n",
      "674:\tlearn: 0.0935190\ttotal: 627ms\tremaining: 302ms\n",
      "675:\tlearn: 0.0933393\ttotal: 628ms\tremaining: 301ms\n",
      "676:\tlearn: 0.0932147\ttotal: 629ms\tremaining: 300ms\n",
      "677:\tlearn: 0.0931852\ttotal: 630ms\tremaining: 299ms\n",
      "678:\tlearn: 0.0930724\ttotal: 631ms\tremaining: 298ms\n",
      "679:\tlearn: 0.0929548\ttotal: 631ms\tremaining: 297ms\n",
      "680:\tlearn: 0.0928523\ttotal: 632ms\tremaining: 296ms\n",
      "681:\tlearn: 0.0927201\ttotal: 633ms\tremaining: 295ms\n",
      "682:\tlearn: 0.0925581\ttotal: 634ms\tremaining: 294ms\n",
      "683:\tlearn: 0.0924424\ttotal: 635ms\tremaining: 293ms\n",
      "684:\tlearn: 0.0922873\ttotal: 635ms\tremaining: 292ms\n",
      "685:\tlearn: 0.0921760\ttotal: 636ms\tremaining: 291ms\n",
      "686:\tlearn: 0.0920248\ttotal: 637ms\tremaining: 290ms\n",
      "687:\tlearn: 0.0919370\ttotal: 638ms\tremaining: 289ms\n",
      "688:\tlearn: 0.0918277\ttotal: 639ms\tremaining: 288ms\n",
      "689:\tlearn: 0.0917207\ttotal: 640ms\tremaining: 287ms\n",
      "690:\tlearn: 0.0915492\ttotal: 640ms\tremaining: 286ms\n",
      "691:\tlearn: 0.0914310\ttotal: 641ms\tremaining: 285ms\n",
      "692:\tlearn: 0.0913495\ttotal: 642ms\tremaining: 285ms\n",
      "693:\tlearn: 0.0912547\ttotal: 643ms\tremaining: 284ms\n",
      "694:\tlearn: 0.0911963\ttotal: 644ms\tremaining: 283ms\n",
      "695:\tlearn: 0.0909535\ttotal: 645ms\tremaining: 282ms\n",
      "696:\tlearn: 0.0907822\ttotal: 646ms\tremaining: 281ms\n",
      "697:\tlearn: 0.0906406\ttotal: 647ms\tremaining: 280ms\n",
      "698:\tlearn: 0.0905080\ttotal: 647ms\tremaining: 279ms\n",
      "699:\tlearn: 0.0904891\ttotal: 649ms\tremaining: 278ms\n",
      "700:\tlearn: 0.0904003\ttotal: 650ms\tremaining: 277ms\n",
      "701:\tlearn: 0.0902972\ttotal: 651ms\tremaining: 276ms\n",
      "702:\tlearn: 0.0901190\ttotal: 651ms\tremaining: 275ms\n",
      "703:\tlearn: 0.0899222\ttotal: 652ms\tremaining: 274ms\n",
      "704:\tlearn: 0.0897824\ttotal: 653ms\tremaining: 273ms\n",
      "705:\tlearn: 0.0896879\ttotal: 654ms\tremaining: 272ms\n",
      "706:\tlearn: 0.0896662\ttotal: 655ms\tremaining: 271ms\n",
      "707:\tlearn: 0.0895321\ttotal: 656ms\tremaining: 270ms\n",
      "708:\tlearn: 0.0895042\ttotal: 656ms\tremaining: 269ms\n",
      "709:\tlearn: 0.0893326\ttotal: 657ms\tremaining: 269ms\n",
      "710:\tlearn: 0.0891788\ttotal: 658ms\tremaining: 268ms\n",
      "711:\tlearn: 0.0890637\ttotal: 659ms\tremaining: 267ms\n",
      "712:\tlearn: 0.0889941\ttotal: 660ms\tremaining: 266ms\n",
      "713:\tlearn: 0.0888628\ttotal: 661ms\tremaining: 265ms\n",
      "714:\tlearn: 0.0887558\ttotal: 661ms\tremaining: 264ms\n",
      "715:\tlearn: 0.0886295\ttotal: 662ms\tremaining: 263ms\n",
      "716:\tlearn: 0.0884853\ttotal: 663ms\tremaining: 262ms\n",
      "717:\tlearn: 0.0883766\ttotal: 664ms\tremaining: 261ms\n",
      "718:\tlearn: 0.0882771\ttotal: 665ms\tremaining: 260ms\n",
      "719:\tlearn: 0.0882141\ttotal: 666ms\tremaining: 259ms\n",
      "720:\tlearn: 0.0881449\ttotal: 666ms\tremaining: 258ms\n",
      "721:\tlearn: 0.0880368\ttotal: 667ms\tremaining: 257ms\n",
      "722:\tlearn: 0.0879236\ttotal: 669ms\tremaining: 256ms\n",
      "723:\tlearn: 0.0877842\ttotal: 669ms\tremaining: 255ms\n",
      "724:\tlearn: 0.0877206\ttotal: 670ms\tremaining: 254ms\n",
      "725:\tlearn: 0.0875983\ttotal: 671ms\tremaining: 253ms\n",
      "726:\tlearn: 0.0875039\ttotal: 672ms\tremaining: 252ms\n",
      "727:\tlearn: 0.0873237\ttotal: 673ms\tremaining: 251ms\n",
      "728:\tlearn: 0.0871992\ttotal: 674ms\tremaining: 251ms\n",
      "729:\tlearn: 0.0871031\ttotal: 675ms\tremaining: 250ms\n",
      "730:\tlearn: 0.0869368\ttotal: 676ms\tremaining: 249ms\n",
      "731:\tlearn: 0.0867332\ttotal: 676ms\tremaining: 248ms\n",
      "732:\tlearn: 0.0865990\ttotal: 677ms\tremaining: 247ms\n"
     ]
    },
    {
     "name": "stdout",
     "output_type": "stream",
     "text": [
      "733:\tlearn: 0.0864477\ttotal: 678ms\tremaining: 246ms\n",
      "734:\tlearn: 0.0863115\ttotal: 679ms\tremaining: 245ms\n",
      "735:\tlearn: 0.0860828\ttotal: 680ms\tremaining: 244ms\n",
      "736:\tlearn: 0.0859011\ttotal: 681ms\tremaining: 243ms\n",
      "737:\tlearn: 0.0857914\ttotal: 682ms\tremaining: 242ms\n",
      "738:\tlearn: 0.0857456\ttotal: 683ms\tremaining: 241ms\n",
      "739:\tlearn: 0.0856264\ttotal: 683ms\tremaining: 240ms\n",
      "740:\tlearn: 0.0854195\ttotal: 684ms\tremaining: 239ms\n",
      "741:\tlearn: 0.0853183\ttotal: 685ms\tremaining: 238ms\n",
      "742:\tlearn: 0.0852190\ttotal: 686ms\tremaining: 237ms\n",
      "743:\tlearn: 0.0851189\ttotal: 687ms\tremaining: 236ms\n",
      "744:\tlearn: 0.0850620\ttotal: 688ms\tremaining: 235ms\n",
      "745:\tlearn: 0.0849775\ttotal: 688ms\tremaining: 234ms\n",
      "746:\tlearn: 0.0848291\ttotal: 689ms\tremaining: 233ms\n",
      "747:\tlearn: 0.0847164\ttotal: 690ms\tremaining: 232ms\n",
      "748:\tlearn: 0.0845926\ttotal: 691ms\tremaining: 231ms\n",
      "749:\tlearn: 0.0844650\ttotal: 692ms\tremaining: 231ms\n",
      "750:\tlearn: 0.0843357\ttotal: 692ms\tremaining: 230ms\n",
      "751:\tlearn: 0.0842681\ttotal: 693ms\tremaining: 229ms\n",
      "752:\tlearn: 0.0841724\ttotal: 694ms\tremaining: 228ms\n",
      "753:\tlearn: 0.0840996\ttotal: 695ms\tremaining: 227ms\n",
      "754:\tlearn: 0.0839676\ttotal: 696ms\tremaining: 226ms\n",
      "755:\tlearn: 0.0838099\ttotal: 697ms\tremaining: 225ms\n",
      "756:\tlearn: 0.0836437\ttotal: 697ms\tremaining: 224ms\n",
      "757:\tlearn: 0.0835660\ttotal: 699ms\tremaining: 223ms\n",
      "758:\tlearn: 0.0834818\ttotal: 700ms\tremaining: 222ms\n",
      "759:\tlearn: 0.0833596\ttotal: 700ms\tremaining: 221ms\n",
      "760:\tlearn: 0.0832032\ttotal: 701ms\tremaining: 220ms\n",
      "761:\tlearn: 0.0831107\ttotal: 702ms\tremaining: 219ms\n",
      "762:\tlearn: 0.0829381\ttotal: 703ms\tremaining: 218ms\n",
      "763:\tlearn: 0.0827517\ttotal: 704ms\tremaining: 217ms\n",
      "764:\tlearn: 0.0827342\ttotal: 705ms\tremaining: 216ms\n",
      "765:\tlearn: 0.0826682\ttotal: 705ms\tremaining: 215ms\n",
      "766:\tlearn: 0.0826038\ttotal: 706ms\tremaining: 214ms\n",
      "767:\tlearn: 0.0824698\ttotal: 707ms\tremaining: 214ms\n",
      "768:\tlearn: 0.0824013\ttotal: 708ms\tremaining: 213ms\n",
      "769:\tlearn: 0.0823501\ttotal: 709ms\tremaining: 212ms\n",
      "770:\tlearn: 0.0822622\ttotal: 709ms\tremaining: 211ms\n",
      "771:\tlearn: 0.0821019\ttotal: 710ms\tremaining: 210ms\n",
      "772:\tlearn: 0.0820547\ttotal: 711ms\tremaining: 209ms\n",
      "773:\tlearn: 0.0819630\ttotal: 712ms\tremaining: 208ms\n",
      "774:\tlearn: 0.0818887\ttotal: 713ms\tremaining: 207ms\n",
      "775:\tlearn: 0.0817841\ttotal: 713ms\tremaining: 206ms\n",
      "776:\tlearn: 0.0816585\ttotal: 714ms\tremaining: 205ms\n",
      "777:\tlearn: 0.0815662\ttotal: 715ms\tremaining: 204ms\n",
      "778:\tlearn: 0.0814454\ttotal: 716ms\tremaining: 203ms\n",
      "779:\tlearn: 0.0813945\ttotal: 717ms\tremaining: 202ms\n",
      "780:\tlearn: 0.0812891\ttotal: 718ms\tremaining: 201ms\n",
      "781:\tlearn: 0.0811019\ttotal: 718ms\tremaining: 200ms\n",
      "782:\tlearn: 0.0809750\ttotal: 719ms\tremaining: 199ms\n",
      "783:\tlearn: 0.0808622\ttotal: 720ms\tremaining: 198ms\n",
      "784:\tlearn: 0.0807439\ttotal: 721ms\tremaining: 197ms\n",
      "785:\tlearn: 0.0807334\ttotal: 722ms\tremaining: 196ms\n",
      "786:\tlearn: 0.0806106\ttotal: 722ms\tremaining: 196ms\n",
      "787:\tlearn: 0.0805624\ttotal: 723ms\tremaining: 195ms\n",
      "788:\tlearn: 0.0804181\ttotal: 724ms\tremaining: 194ms\n",
      "789:\tlearn: 0.0804089\ttotal: 725ms\tremaining: 193ms\n",
      "790:\tlearn: 0.0802983\ttotal: 726ms\tremaining: 192ms\n",
      "791:\tlearn: 0.0801752\ttotal: 726ms\tremaining: 191ms\n",
      "792:\tlearn: 0.0801604\ttotal: 727ms\tremaining: 190ms\n",
      "793:\tlearn: 0.0799780\ttotal: 728ms\tremaining: 189ms\n",
      "794:\tlearn: 0.0798909\ttotal: 729ms\tremaining: 188ms\n",
      "795:\tlearn: 0.0797702\ttotal: 730ms\tremaining: 187ms\n",
      "796:\tlearn: 0.0796648\ttotal: 731ms\tremaining: 186ms\n",
      "797:\tlearn: 0.0795460\ttotal: 732ms\tremaining: 185ms\n",
      "798:\tlearn: 0.0794637\ttotal: 732ms\tremaining: 184ms\n",
      "799:\tlearn: 0.0793264\ttotal: 733ms\tremaining: 183ms\n",
      "800:\tlearn: 0.0792067\ttotal: 734ms\tremaining: 182ms\n",
      "801:\tlearn: 0.0790264\ttotal: 735ms\tremaining: 181ms\n",
      "802:\tlearn: 0.0788579\ttotal: 736ms\tremaining: 180ms\n",
      "803:\tlearn: 0.0786855\ttotal: 736ms\tremaining: 180ms\n",
      "804:\tlearn: 0.0786695\ttotal: 737ms\tremaining: 179ms\n",
      "805:\tlearn: 0.0785887\ttotal: 738ms\tremaining: 178ms\n",
      "806:\tlearn: 0.0785495\ttotal: 739ms\tremaining: 177ms\n",
      "807:\tlearn: 0.0784131\ttotal: 740ms\tremaining: 176ms\n",
      "808:\tlearn: 0.0782345\ttotal: 741ms\tremaining: 175ms\n",
      "809:\tlearn: 0.0781452\ttotal: 741ms\tremaining: 174ms\n",
      "810:\tlearn: 0.0780827\ttotal: 742ms\tremaining: 173ms\n",
      "811:\tlearn: 0.0779401\ttotal: 743ms\tremaining: 172ms\n",
      "812:\tlearn: 0.0777697\ttotal: 744ms\tremaining: 171ms\n",
      "813:\tlearn: 0.0776482\ttotal: 745ms\tremaining: 170ms\n",
      "814:\tlearn: 0.0775408\ttotal: 746ms\tremaining: 169ms\n",
      "815:\tlearn: 0.0773773\ttotal: 746ms\tremaining: 168ms\n",
      "816:\tlearn: 0.0772877\ttotal: 747ms\tremaining: 167ms\n",
      "817:\tlearn: 0.0771915\ttotal: 748ms\tremaining: 166ms\n",
      "818:\tlearn: 0.0770809\ttotal: 749ms\tremaining: 165ms\n",
      "819:\tlearn: 0.0769667\ttotal: 750ms\tremaining: 165ms\n",
      "820:\tlearn: 0.0768297\ttotal: 750ms\tremaining: 164ms\n",
      "821:\tlearn: 0.0767945\ttotal: 751ms\tremaining: 163ms\n",
      "822:\tlearn: 0.0766395\ttotal: 752ms\tremaining: 162ms\n",
      "823:\tlearn: 0.0764651\ttotal: 753ms\tremaining: 161ms\n",
      "824:\tlearn: 0.0763456\ttotal: 754ms\tremaining: 160ms\n",
      "825:\tlearn: 0.0761593\ttotal: 755ms\tremaining: 159ms\n",
      "826:\tlearn: 0.0760944\ttotal: 755ms\tremaining: 158ms\n",
      "827:\tlearn: 0.0759793\ttotal: 756ms\tremaining: 157ms\n",
      "828:\tlearn: 0.0758954\ttotal: 757ms\tremaining: 156ms\n",
      "829:\tlearn: 0.0757623\ttotal: 758ms\tremaining: 155ms\n",
      "830:\tlearn: 0.0757395\ttotal: 759ms\tremaining: 154ms\n",
      "831:\tlearn: 0.0756603\ttotal: 760ms\tremaining: 153ms\n",
      "832:\tlearn: 0.0756069\ttotal: 760ms\tremaining: 152ms\n",
      "833:\tlearn: 0.0754438\ttotal: 761ms\tremaining: 151ms\n"
     ]
    },
    {
     "name": "stdout",
     "output_type": "stream",
     "text": [
      "834:\tlearn: 0.0753556\ttotal: 762ms\tremaining: 151ms\n",
      "835:\tlearn: 0.0753343\ttotal: 763ms\tremaining: 150ms\n",
      "836:\tlearn: 0.0753035\ttotal: 765ms\tremaining: 149ms\n",
      "837:\tlearn: 0.0752879\ttotal: 765ms\tremaining: 148ms\n",
      "838:\tlearn: 0.0752015\ttotal: 766ms\tremaining: 147ms\n",
      "839:\tlearn: 0.0751105\ttotal: 767ms\tremaining: 146ms\n",
      "840:\tlearn: 0.0749896\ttotal: 768ms\tremaining: 145ms\n",
      "841:\tlearn: 0.0749510\ttotal: 769ms\tremaining: 144ms\n",
      "842:\tlearn: 0.0748215\ttotal: 770ms\tremaining: 143ms\n",
      "843:\tlearn: 0.0747688\ttotal: 770ms\tremaining: 142ms\n",
      "844:\tlearn: 0.0745955\ttotal: 771ms\tremaining: 141ms\n",
      "845:\tlearn: 0.0745168\ttotal: 772ms\tremaining: 141ms\n",
      "846:\tlearn: 0.0744118\ttotal: 773ms\tremaining: 140ms\n",
      "847:\tlearn: 0.0743364\ttotal: 774ms\tremaining: 139ms\n",
      "848:\tlearn: 0.0742800\ttotal: 774ms\tremaining: 138ms\n",
      "849:\tlearn: 0.0741887\ttotal: 775ms\tremaining: 137ms\n",
      "850:\tlearn: 0.0741209\ttotal: 776ms\tremaining: 136ms\n",
      "851:\tlearn: 0.0740912\ttotal: 777ms\tremaining: 135ms\n",
      "852:\tlearn: 0.0739870\ttotal: 778ms\tremaining: 134ms\n",
      "853:\tlearn: 0.0739012\ttotal: 779ms\tremaining: 133ms\n",
      "854:\tlearn: 0.0738161\ttotal: 779ms\tremaining: 132ms\n",
      "855:\tlearn: 0.0736835\ttotal: 780ms\tremaining: 131ms\n",
      "856:\tlearn: 0.0735401\ttotal: 781ms\tremaining: 130ms\n",
      "857:\tlearn: 0.0734138\ttotal: 782ms\tremaining: 129ms\n",
      "858:\tlearn: 0.0732616\ttotal: 783ms\tremaining: 128ms\n",
      "859:\tlearn: 0.0731488\ttotal: 783ms\tremaining: 128ms\n",
      "860:\tlearn: 0.0730790\ttotal: 784ms\tremaining: 127ms\n",
      "861:\tlearn: 0.0730548\ttotal: 785ms\tremaining: 126ms\n",
      "862:\tlearn: 0.0729047\ttotal: 786ms\tremaining: 125ms\n",
      "863:\tlearn: 0.0728044\ttotal: 787ms\tremaining: 124ms\n",
      "864:\tlearn: 0.0726590\ttotal: 788ms\tremaining: 123ms\n",
      "865:\tlearn: 0.0725314\ttotal: 788ms\tremaining: 122ms\n",
      "866:\tlearn: 0.0723789\ttotal: 789ms\tremaining: 121ms\n",
      "867:\tlearn: 0.0722504\ttotal: 790ms\tremaining: 120ms\n",
      "868:\tlearn: 0.0721442\ttotal: 791ms\tremaining: 119ms\n",
      "869:\tlearn: 0.0720517\ttotal: 792ms\tremaining: 118ms\n",
      "870:\tlearn: 0.0719322\ttotal: 793ms\tremaining: 117ms\n",
      "871:\tlearn: 0.0718680\ttotal: 793ms\tremaining: 116ms\n",
      "872:\tlearn: 0.0717727\ttotal: 794ms\tremaining: 116ms\n",
      "873:\tlearn: 0.0716616\ttotal: 795ms\tremaining: 115ms\n",
      "874:\tlearn: 0.0716157\ttotal: 796ms\tremaining: 114ms\n",
      "875:\tlearn: 0.0715119\ttotal: 797ms\tremaining: 113ms\n",
      "876:\tlearn: 0.0714437\ttotal: 797ms\tremaining: 112ms\n",
      "877:\tlearn: 0.0713528\ttotal: 799ms\tremaining: 111ms\n",
      "878:\tlearn: 0.0713227\ttotal: 800ms\tremaining: 110ms\n",
      "879:\tlearn: 0.0711990\ttotal: 801ms\tremaining: 109ms\n",
      "880:\tlearn: 0.0711578\ttotal: 802ms\tremaining: 108ms\n",
      "881:\tlearn: 0.0710500\ttotal: 803ms\tremaining: 107ms\n",
      "882:\tlearn: 0.0709675\ttotal: 803ms\tremaining: 106ms\n",
      "883:\tlearn: 0.0708517\ttotal: 804ms\tremaining: 106ms\n",
      "884:\tlearn: 0.0707750\ttotal: 805ms\tremaining: 105ms\n",
      "885:\tlearn: 0.0707062\ttotal: 806ms\tremaining: 104ms\n",
      "886:\tlearn: 0.0705341\ttotal: 807ms\tremaining: 103ms\n",
      "887:\tlearn: 0.0703977\ttotal: 808ms\tremaining: 102ms\n",
      "888:\tlearn: 0.0703832\ttotal: 809ms\tremaining: 101ms\n",
      "889:\tlearn: 0.0703465\ttotal: 810ms\tremaining: 100ms\n",
      "890:\tlearn: 0.0702616\ttotal: 811ms\tremaining: 99.2ms\n",
      "891:\tlearn: 0.0700947\ttotal: 812ms\tremaining: 98.3ms\n",
      "892:\tlearn: 0.0699966\ttotal: 812ms\tremaining: 97.3ms\n",
      "893:\tlearn: 0.0699755\ttotal: 813ms\tremaining: 96.4ms\n",
      "894:\tlearn: 0.0699004\ttotal: 814ms\tremaining: 95.5ms\n",
      "895:\tlearn: 0.0698882\ttotal: 815ms\tremaining: 94.6ms\n",
      "896:\tlearn: 0.0697747\ttotal: 816ms\tremaining: 93.7ms\n",
      "897:\tlearn: 0.0696487\ttotal: 817ms\tremaining: 92.7ms\n",
      "898:\tlearn: 0.0695454\ttotal: 817ms\tremaining: 91.8ms\n",
      "899:\tlearn: 0.0694066\ttotal: 818ms\tremaining: 90.9ms\n",
      "900:\tlearn: 0.0693502\ttotal: 819ms\tremaining: 90ms\n",
      "901:\tlearn: 0.0692467\ttotal: 820ms\tremaining: 89.1ms\n",
      "902:\tlearn: 0.0691151\ttotal: 821ms\tremaining: 88.2ms\n",
      "903:\tlearn: 0.0690715\ttotal: 821ms\tremaining: 87.2ms\n",
      "904:\tlearn: 0.0689745\ttotal: 822ms\tremaining: 86.3ms\n",
      "905:\tlearn: 0.0688931\ttotal: 823ms\tremaining: 85.4ms\n",
      "906:\tlearn: 0.0687485\ttotal: 824ms\tremaining: 84.5ms\n",
      "907:\tlearn: 0.0686448\ttotal: 825ms\tremaining: 83.6ms\n",
      "908:\tlearn: 0.0686138\ttotal: 826ms\tremaining: 82.7ms\n",
      "909:\tlearn: 0.0685793\ttotal: 827ms\tremaining: 81.8ms\n",
      "910:\tlearn: 0.0684514\ttotal: 828ms\tremaining: 80.8ms\n",
      "911:\tlearn: 0.0683677\ttotal: 828ms\tremaining: 79.9ms\n",
      "912:\tlearn: 0.0683545\ttotal: 829ms\tremaining: 79ms\n",
      "913:\tlearn: 0.0682485\ttotal: 830ms\tremaining: 78.1ms\n",
      "914:\tlearn: 0.0681559\ttotal: 831ms\tremaining: 77.2ms\n",
      "915:\tlearn: 0.0681435\ttotal: 832ms\tremaining: 76.3ms\n",
      "916:\tlearn: 0.0680602\ttotal: 833ms\tremaining: 75.4ms\n",
      "917:\tlearn: 0.0679782\ttotal: 833ms\tremaining: 74.4ms\n",
      "918:\tlearn: 0.0679516\ttotal: 834ms\tremaining: 73.5ms\n",
      "919:\tlearn: 0.0678604\ttotal: 835ms\tremaining: 72.6ms\n",
      "920:\tlearn: 0.0678135\ttotal: 836ms\tremaining: 71.7ms\n",
      "921:\tlearn: 0.0677065\ttotal: 836ms\tremaining: 70.8ms\n",
      "922:\tlearn: 0.0675609\ttotal: 837ms\tremaining: 69.9ms\n",
      "923:\tlearn: 0.0674847\ttotal: 838ms\tremaining: 68.9ms\n",
      "924:\tlearn: 0.0674332\ttotal: 839ms\tremaining: 68ms\n",
      "925:\tlearn: 0.0672802\ttotal: 840ms\tremaining: 67.1ms\n",
      "926:\tlearn: 0.0672557\ttotal: 841ms\tremaining: 66.2ms\n",
      "927:\tlearn: 0.0671962\ttotal: 842ms\tremaining: 65.3ms\n",
      "928:\tlearn: 0.0670720\ttotal: 843ms\tremaining: 64.4ms\n",
      "929:\tlearn: 0.0670075\ttotal: 843ms\tremaining: 63.5ms\n",
      "930:\tlearn: 0.0669186\ttotal: 844ms\tremaining: 62.6ms\n",
      "931:\tlearn: 0.0668190\ttotal: 845ms\tremaining: 61.7ms\n",
      "932:\tlearn: 0.0666880\ttotal: 846ms\tremaining: 60.7ms\n",
      "933:\tlearn: 0.0666246\ttotal: 847ms\tremaining: 59.8ms\n",
      "934:\tlearn: 0.0665667\ttotal: 847ms\tremaining: 58.9ms\n",
      "935:\tlearn: 0.0665076\ttotal: 848ms\tremaining: 58ms\n",
      "936:\tlearn: 0.0664336\ttotal: 849ms\tremaining: 57.1ms\n",
      "937:\tlearn: 0.0662920\ttotal: 850ms\tremaining: 56.2ms\n",
      "938:\tlearn: 0.0662453\ttotal: 851ms\tremaining: 55.3ms\n",
      "939:\tlearn: 0.0661055\ttotal: 851ms\tremaining: 54.3ms\n",
      "940:\tlearn: 0.0660549\ttotal: 852ms\tremaining: 53.4ms\n",
      "941:\tlearn: 0.0659982\ttotal: 853ms\tremaining: 52.5ms\n",
      "942:\tlearn: 0.0659196\ttotal: 854ms\tremaining: 51.6ms\n",
      "943:\tlearn: 0.0658408\ttotal: 855ms\tremaining: 50.7ms\n",
      "944:\tlearn: 0.0656814\ttotal: 855ms\tremaining: 49.8ms\n",
      "945:\tlearn: 0.0656080\ttotal: 856ms\tremaining: 48.9ms\n",
      "946:\tlearn: 0.0655428\ttotal: 857ms\tremaining: 48ms\n",
      "947:\tlearn: 0.0654198\ttotal: 858ms\tremaining: 47ms\n",
      "948:\tlearn: 0.0653458\ttotal: 859ms\tremaining: 46.1ms\n",
      "949:\tlearn: 0.0652823\ttotal: 859ms\tremaining: 45.2ms\n",
      "950:\tlearn: 0.0652538\ttotal: 860ms\tremaining: 44.3ms\n",
      "951:\tlearn: 0.0652108\ttotal: 861ms\tremaining: 43.4ms\n",
      "952:\tlearn: 0.0651714\ttotal: 862ms\tremaining: 42.5ms\n",
      "953:\tlearn: 0.0650933\ttotal: 863ms\tremaining: 41.6ms\n",
      "954:\tlearn: 0.0650078\ttotal: 864ms\tremaining: 40.7ms\n",
      "955:\tlearn: 0.0648876\ttotal: 865ms\tremaining: 39.8ms\n",
      "956:\tlearn: 0.0647795\ttotal: 865ms\tremaining: 38.9ms\n",
      "957:\tlearn: 0.0647395\ttotal: 866ms\tremaining: 38ms\n",
      "958:\tlearn: 0.0646263\ttotal: 867ms\tremaining: 37.1ms\n",
      "959:\tlearn: 0.0645462\ttotal: 868ms\tremaining: 36.2ms\n"
     ]
    },
    {
     "name": "stdout",
     "output_type": "stream",
     "text": [
      "960:\tlearn: 0.0645109\ttotal: 869ms\tremaining: 35.3ms\n",
      "961:\tlearn: 0.0644840\ttotal: 870ms\tremaining: 34.4ms\n",
      "962:\tlearn: 0.0643955\ttotal: 871ms\tremaining: 33.4ms\n",
      "963:\tlearn: 0.0642829\ttotal: 871ms\tremaining: 32.5ms\n",
      "964:\tlearn: 0.0641719\ttotal: 872ms\tremaining: 31.6ms\n",
      "965:\tlearn: 0.0640621\ttotal: 873ms\tremaining: 30.7ms\n",
      "966:\tlearn: 0.0640004\ttotal: 874ms\tremaining: 29.8ms\n",
      "967:\tlearn: 0.0639856\ttotal: 875ms\tremaining: 28.9ms\n",
      "968:\tlearn: 0.0638845\ttotal: 876ms\tremaining: 28ms\n",
      "969:\tlearn: 0.0638337\ttotal: 876ms\tremaining: 27.1ms\n",
      "970:\tlearn: 0.0637899\ttotal: 877ms\tremaining: 26.2ms\n",
      "971:\tlearn: 0.0637388\ttotal: 878ms\tremaining: 25.3ms\n",
      "972:\tlearn: 0.0636733\ttotal: 879ms\tremaining: 24.4ms\n",
      "973:\tlearn: 0.0636377\ttotal: 880ms\tremaining: 23.5ms\n",
      "974:\tlearn: 0.0636281\ttotal: 881ms\tremaining: 22.6ms\n",
      "975:\tlearn: 0.0635667\ttotal: 881ms\tremaining: 21.7ms\n",
      "976:\tlearn: 0.0634343\ttotal: 882ms\tremaining: 20.8ms\n",
      "977:\tlearn: 0.0633020\ttotal: 883ms\tremaining: 19.9ms\n",
      "978:\tlearn: 0.0632266\ttotal: 884ms\tremaining: 19ms\n",
      "979:\tlearn: 0.0631502\ttotal: 885ms\tremaining: 18.1ms\n",
      "980:\tlearn: 0.0630772\ttotal: 885ms\tremaining: 17.1ms\n",
      "981:\tlearn: 0.0629767\ttotal: 886ms\tremaining: 16.2ms\n",
      "982:\tlearn: 0.0628984\ttotal: 887ms\tremaining: 15.3ms\n",
      "983:\tlearn: 0.0628045\ttotal: 888ms\tremaining: 14.4ms\n",
      "984:\tlearn: 0.0627084\ttotal: 889ms\tremaining: 13.5ms\n",
      "985:\tlearn: 0.0626989\ttotal: 889ms\tremaining: 12.6ms\n",
      "986:\tlearn: 0.0625914\ttotal: 890ms\tremaining: 11.7ms\n",
      "987:\tlearn: 0.0625804\ttotal: 891ms\tremaining: 10.8ms\n",
      "988:\tlearn: 0.0625497\ttotal: 892ms\tremaining: 9.92ms\n",
      "989:\tlearn: 0.0624713\ttotal: 893ms\tremaining: 9.02ms\n",
      "990:\tlearn: 0.0624125\ttotal: 894ms\tremaining: 8.11ms\n",
      "991:\tlearn: 0.0623974\ttotal: 894ms\tremaining: 7.21ms\n",
      "992:\tlearn: 0.0623458\ttotal: 895ms\tremaining: 6.31ms\n",
      "993:\tlearn: 0.0622250\ttotal: 896ms\tremaining: 5.41ms\n",
      "994:\tlearn: 0.0621011\ttotal: 897ms\tremaining: 4.51ms\n",
      "995:\tlearn: 0.0620580\ttotal: 898ms\tremaining: 3.6ms\n",
      "996:\tlearn: 0.0619970\ttotal: 898ms\tremaining: 2.7ms\n",
      "997:\tlearn: 0.0619789\ttotal: 899ms\tremaining: 1.8ms\n",
      "998:\tlearn: 0.0619649\ttotal: 900ms\tremaining: 900us\n",
      "999:\tlearn: 0.0619260\ttotal: 901ms\tremaining: 0us\n"
     ]
    },
    {
     "data": {
      "text/plain": [
       "<catboost.core.CatBoostRegressor at 0x7ff72932a7c0>"
      ]
     },
     "execution_count": 9,
     "metadata": {},
     "output_type": "execute_result"
    }
   ],
   "source": [
    "#Train the Model \n",
    "prior_model = ctb.CatBoostRegressor()\n",
    "prior_model.fit(X_train,Y_train)"
   ]
  },
  {
   "cell_type": "code",
   "execution_count": 10,
   "id": "af65dcda",
   "metadata": {
    "execution": {
     "iopub.execute_input": "2022-06-11T16:51:54.708956Z",
     "iopub.status.busy": "2022-06-11T16:51:54.708527Z",
     "iopub.status.idle": "2022-06-11T16:51:54.716642Z",
     "shell.execute_reply": "2022-06-11T16:51:54.716935Z"
    },
    "id": "af65dcda",
    "papermill": {
     "duration": 0.021959,
     "end_time": "2022-06-11T16:51:54.717061",
     "exception": false,
     "start_time": "2022-06-11T16:51:54.695102",
     "status": "completed"
    },
    "tags": []
   },
   "outputs": [
    {
     "data": {
      "application/scrapbook.scrap.json+json": {
       "data": 0.06102112715877016,
       "encoder": "json",
       "name": "Prior Model MSE",
       "version": 1
      }
     },
     "metadata": {
      "scrapbook": {
       "data": true,
       "display": false,
       "name": "Prior Model MSE"
      }
     },
     "output_type": "display_data"
    },
    {
     "data": {
      "application/scrapbook.scrap.json+json": {
       "data": 0.073397745573706,
       "encoder": "json",
       "name": "ABC Pre-generator MSE",
       "version": 1
      }
     },
     "metadata": {
      "scrapbook": {
       "data": true,
       "display": false,
       "name": "ABC Pre-generator MSE"
      }
     },
     "output_type": "display_data"
    },
    {
     "data": {
      "application/scrapbook.scrap.json+json": {
       "data": 0.18854503702745443,
       "encoder": "json",
       "name": "Prior Model MSE",
       "version": 1
      }
     },
     "metadata": {
      "scrapbook": {
       "data": true,
       "display": false,
       "name": "Prior Model MSE"
      }
     },
     "output_type": "display_data"
    },
    {
     "data": {
      "application/scrapbook.scrap.json+json": {
       "data": 0.21594629745896432,
       "encoder": "json",
       "name": "ABC Pre-generator MSE",
       "version": 1
      }
     },
     "metadata": {
      "scrapbook": {
       "data": true,
       "display": false,
       "name": "ABC Pre-generator MSE"
      }
     },
     "output_type": "display_data"
    }
   ],
   "source": [
    "y_pred = prior_model.predict(X_test)\n",
    "y_abc = y_pred + np.random.normal(0,variance, y_pred.shape) + bias \n",
    "mse = mean_squared_error(y_pred,Y_test)\n",
    "sb.glue(\"Prior Model MSE\",mse)\n",
    "mse = mean_squared_error(y_abc,Y_test)\n",
    "sb.glue(\"ABC Pre-generator MSE\",mse)\n",
    "mae = mean_absolute_error(y_pred,Y_test)\n",
    "sb.glue(\"Prior Model MSE\",mae)\n",
    "mae = mean_absolute_error(y_abc,Y_test)\n",
    "sb.glue(\"ABC Pre-generator MSE\",mae)"
   ]
  },
  {
   "cell_type": "markdown",
   "id": "25609da2",
   "metadata": {
    "papermill": {
     "duration": 0.009929,
     "end_time": "2022-06-11T16:51:54.737083",
     "exception": false,
     "start_time": "2022-06-11T16:51:54.727154",
     "status": "completed"
    },
    "tags": []
   },
   "source": [
    "# ABC GAN Model"
   ]
  },
  {
   "cell_type": "code",
   "execution_count": 11,
   "id": "dfc3464d",
   "metadata": {
    "execution": {
     "iopub.execute_input": "2022-06-11T16:51:54.759463Z",
     "iopub.status.busy": "2022-06-11T16:51:54.759120Z",
     "iopub.status.idle": "2022-06-11T16:51:54.761789Z",
     "shell.execute_reply": "2022-06-11T16:51:54.762071Z"
    },
    "papermill": {
     "duration": 0.015353,
     "end_time": "2022-06-11T16:51:54.762183",
     "exception": false,
     "start_time": "2022-06-11T16:51:54.746830",
     "status": "completed"
    },
    "tags": []
   },
   "outputs": [],
   "source": [
    "gen = network.Generator(n_features+1).to(device)\n",
    "disc = network.Discriminator(n_features+1).to(device)\n",
    "\n",
    "criterion = torch.nn.BCELoss()\n",
    "gen_opt = torch.optim.Adam(gen.parameters(), lr=0.001, betas=(0.5, 0.999))\n",
    "disc_opt = torch.optim.Adam(disc.parameters(), lr=0.001, betas=(0.5, 0.999))"
   ]
  },
  {
   "cell_type": "code",
   "execution_count": 12,
   "id": "b75fdd85",
   "metadata": {
    "execution": {
     "iopub.execute_input": "2022-06-11T16:51:54.784334Z",
     "iopub.status.busy": "2022-06-11T16:51:54.783969Z",
     "iopub.status.idle": "2022-06-11T16:52:54.658961Z",
     "shell.execute_reply": "2022-06-11T16:52:54.659242Z"
    },
    "papermill": {
     "duration": 59.887394,
     "end_time": "2022-06-11T16:52:54.659360",
     "exception": false,
     "start_time": "2022-06-11T16:51:54.771966",
     "status": "completed"
    },
    "tags": []
   },
   "outputs": [
    {
     "data": {
      "image/png": "[encoded data removed]",
      "text/plain": [
       "<Figure size 432x288 with 1 Axes>"
      ]
     },
     "metadata": {
      "needs_background": "light"
     },
     "output_type": "display_data"
    },
    {
     "data": {
      "image/png": "[encoded data removed]",
      "text/plain": [
       "<Figure size 432x288 with 1 Axes>"
      ]
     },
     "metadata": {
      "needs_background": "light"
     },
     "output_type": "display_data"
    }
   ],
   "source": [
    "#Training the ABC_GAN \n",
    "ABC_train_test2.training_GAN(disc,gen,disc_opt,gen_opt,train_data,batch_size,n_epochs,criterion,prior_model,variance,bias,device)"
   ]
  },
  {
   "cell_type": "code",
   "execution_count": 13,
   "id": "1fa7c368",
   "metadata": {
    "execution": {
     "iopub.execute_input": "2022-06-11T16:52:54.684327Z",
     "iopub.status.busy": "2022-06-11T16:52:54.683915Z",
     "iopub.status.idle": "2022-06-11T16:52:54.988039Z",
     "shell.execute_reply": "2022-06-11T16:52:54.988288Z"
    },
    "papermill": {
     "duration": 0.318202,
     "end_time": "2022-06-11T16:52:54.988409",
     "exception": false,
     "start_time": "2022-06-11T16:52:54.670207",
     "status": "completed"
    },
    "tags": []
   },
   "outputs": [
    {
     "data": {
      "application/scrapbook.scrap.json+json": {
       "data": 0.05650931828042303,
       "encoder": "json",
       "name": "ABC-GAN Model 1 MSE",
       "version": 1
      }
     },
     "metadata": {
      "scrapbook": {
       "data": true,
       "display": false,
       "name": "ABC-GAN Model 1 MSE"
      }
     },
     "output_type": "display_data"
    },
    {
     "data": {
      "application/scrapbook.scrap.json+json": {
       "data": 0.18849648468050303,
       "encoder": "json",
       "name": "ABC-GAN Model 1 MAE",
       "version": 1
      }
     },
     "metadata": {
      "scrapbook": {
       "data": true,
       "display": false,
       "name": "ABC-GAN Model 1 MAE"
      }
     },
     "output_type": "display_data"
    },
    {
     "data": {
      "application/scrapbook.scrap.json+json": {
       "data": 19.22664143741131,
       "encoder": "json",
       "name": "ABC-GAN Model 1 Manhattan Distance",
       "version": 1
      }
     },
     "metadata": {
      "scrapbook": {
       "data": true,
       "display": false,
       "name": "ABC-GAN Model 1 Manhattan Distance"
      }
     },
     "output_type": "display_data"
    },
    {
     "data": {
      "application/scrapbook.scrap.json+json": {
       "data": 2.3997005903433886,
       "encoder": "json",
       "name": "ABC-GAN Model 1 Euclidean distance",
       "version": 1
      }
     },
     "metadata": {
      "scrapbook": {
       "data": true,
       "display": false,
       "name": "ABC-GAN Model 1 Euclidean distance"
      }
     },
     "output_type": "display_data"
    },
    {
     "data": {
      "application/scrapbook.scrap.json+json": {
       "data": [
        [
         0.057798846229617055,
         0.05770513927020862,
         0.05608592586344383,
         0.051949929437754123,
         0.056635221229649646,
         0.058459005117368866,
         0.060863174947903026,
         0.05385394141188126,
         0.049988603198391816,
         0.06370141634003419,
         0.052060194303163526,
         0.05633790304290058,
         0.05954525861919114,
         0.06038524946547098,
         0.05830516395357254,
         0.05829640400092704,
         0.0573538980574471,
         0.05751543577201306,
         0.05788488488945881,
         0.05432809667442709,
         0.05461364701873583,
         0.058126674741985136,
         0.056833652711740075,
         0.05526915391277314,
         0.062074138917002745,
         0.05615984307783556,
         0.0535355795013594,
         0.05852667913990825,
         0.061271021403239534,
         0.05495594797414501,
         0.054827627906074185,
         0.060637994778324676,
         0.05416691333526769,
         0.05347380886871026,
         0.06382111498748674,
         0.059352963074164426,
         0.05501162056747761,
         0.056543852355942115,
         0.050611035432153,
         0.05433366299510465,
         0.057779847963367006,
         0.050968022392538344,
         0.05423571003698164,
         0.05743294107173722,
         0.0573314695790036,
         0.051495913818194246,
         0.05326729629674356,
         0.05438202377293419,
         0.05604763386218806,
         0.05582219081519794,
         0.05867486901380945,
         0.05380057266597166,
         0.056625457968638805,
         0.059107903034290234,
         0.056021217695758296,
         0.05629290634678496,
         0.06009190661131198,
         0.055677630668053806,
         0.05749467525517311,
         0.05529124836835718,
         0.05413155994734667,
         0.05411367479539185,
         0.05883905089975686,
         0.052385903252356515,
         0.0641054561130561,
         0.04888535821604817,
         0.050093596358518,
         0.0611857132694354,
         0.055690222990220986,
         0.05950196591719905,
         0.05220221112497828,
         0.057253486596788715,
         0.05584171755030625,
         0.05582672774144703,
         0.05599797833663487,
         0.05523572503180728,
         0.05334816013078628,
         0.05882294821073133,
         0.06291417895100039,
         0.0564270254103862,
         0.05420560580819169,
         0.05753424924689165,
         0.06323409862995173,
         0.0534964790464909,
         0.0642826262256914,
         0.05799888852458295,
         0.056940480163263155,
         0.054333260581513644,
         0.057566967643264806,
         0.053687888178832174,
         0.055208705420793626,
         0.053713388230659256,
         0.05478794008408621,
         0.049489604997842766,
         0.05945090705816117,
         0.05493207567784392,
         0.05266069630613602,
         0.06284546273035911,
         0.06639018343828744,
         0.054327597443973426
        ],
        [
         0.1906708966502372,
         0.19553532637655735,
         0.19067751108577438,
         0.18541820197567052,
         0.18740850990163346,
         0.18589070333423569,
         0.18803493375433425,
         0.1809869469599981,
         0.18194730663854702,
         0.20158406964265832,
         0.18361680812257178,
         0.18650568988831603,
         0.1964726798309415,
         0.1943452421429695,
         0.1943468177946759,
         0.19474164407481165,
         0.19200722635814957,
         0.19093571365902237,
         0.18934578130788662,
         0.17483393347584733,
         0.18303260714838318,
         0.1889711633397668,
         0.19253003703174637,
         0.18539201449968068,
         0.19784275416796113,
         0.184131281304301,
         0.17806093997376807,
         0.19142493872227623,
         0.19487806332900243,
         0.1827085174108837,
         0.18796372745989584,
         0.19376154736999204,
         0.18059607270155467,
         0.18877916078211046,
         0.19538666662193982,
         0.19158237438429804,
         0.19292819386749877,
         0.1881285604527768,
         0.17788743034151255,
         0.1855660158702556,
         0.18494648957515464,
         0.18283765284600212,
         0.17950949909202024,
         0.1888312323055431,
         0.1896268837519136,
         0.18272462454350555,
         0.18671181976941287,
         0.18738508454578764,
         0.19151125976121894,
         0.19080502514307404,
         0.19227578377752913,
         0.18733888108502417,
         0.18761478273161486,
         0.19427311204958195,
         0.18245344619978876,
         0.18852698266067924,
         0.19389600989719233,
         0.18889978633937882,
         0.18252584232273056,
         0.1847364757502196,
         0.18461739604233526,
         0.186156670727274,
         0.1918071683350147,
         0.1791719299394126,
         0.2029894849322006,
         0.1781923635406237,
         0.17832919739771122,
         0.1951911809178544,
         0.18524940417823837,
         0.19677439752016582,
         0.1839540151915714,
         0.19326993790181243,
         0.19093539679021226,
         0.1909116642074842,
         0.1835227928252197,
         0.18726682396349953,
         0.18042304896402592,
         0.19155088187578848,
         0.19630643363822908,
         0.18397395447919182,
         0.18825655572992914,
         0.19296865702113686,
         0.1957085117624671,
         0.18587927268270185,
         0.20277851231980557,
         0.1909734433991652,
         0.19382482661189987,
         0.1799684423661115,
         0.19039161558098652,
         0.18691389200588068,
         0.18808463752708016,
         0.18603965862855024,
         0.187892385228884,
         0.17920205964907712,
         0.19455885058086292,
         0.1850755618264278,
         0.18251676254850976,
         0.19842921909602249,
         0.19825526805338906,
         0.18704750816173413
        ],
        [
         19.448431458324194,
         19.94460329040885,
         19.449106130748987,
         18.912656601518393,
         19.115668009966612,
         18.96085174009204,
         19.179563242942095,
         18.460668589919806,
         18.558625277131796,
         20.56157510355115,
         18.72891442850232,
         19.023580368608236,
         20.040213342756033,
         19.823214698582888,
         19.823375415056944,
         19.86364769563079,
         19.584737088531256,
         19.47544279322028,
         19.313269693404436,
         17.83306121453643,
         18.669325929135084,
         19.275058660656214,
         19.63806377723813,
         18.909985478967428,
         20.179960925132036,
         18.781390693038702,
         18.162215877324343,
         19.525343749672174,
         19.87756245955825,
         18.63626877591014,
         19.172300200909376,
         19.763677831739187,
         18.420799415558577,
         19.255474399775267,
         19.92943999543786,
         19.5414021871984,
         19.678675774484873,
         19.189113166183233,
         18.14451789483428,
         18.92773361876607,
         18.864541936665773,
         18.649440590292215,
         18.309968907386065,
         19.260785695165396,
         19.34194214269519,
         18.637911703437567,
         19.044605616480112,
         19.11327862367034,
         19.53414849564433,
         19.462112564593554,
         19.61212994530797,
         19.108565870672464,
         19.136707838624716,
         19.81585742905736,
         18.610251512378454,
         19.229752231389284,
         19.777393009513617,
         19.26777820661664,
         18.617635916918516,
         18.843120526522398,
         18.830974396318197,
         18.987980414181948,
         19.5643311701715,
         18.275536853820086,
         20.70492746308446,
         18.175621081143618,
         18.189578134566545,
         19.90950045362115,
         18.895439226180315,
         20.070988547056913,
         18.76330954954028,
         19.71353366598487,
         19.475410472601652,
         19.47298974916339,
         18.719324868172407,
         19.101216044276953,
         18.403150994330645,
         19.538189951330423,
         20.023256231099367,
         18.765343356877565,
         19.202168684452772,
         19.682803016155958,
         19.962268199771643,
         18.959685813635588,
         20.68340825662017,
         19.47929122671485,
         19.770132314413786,
         18.356781121343374,
         19.419944789260626,
         19.06521698459983,
         19.184633027762175,
         18.976045180112123,
         19.165023293346167,
         18.278610084205866,
         19.84500275924802,
         18.877707306295633,
         18.616709779947996,
         20.239780347794294,
         20.222037341445684,
         19.07884583249688
        ],
        [
         2.4280614315582993,
         2.4260923736661963,
         2.3918119570884477,
         2.3019324061863586,
         2.403495905015081,
         2.441888310707847,
         2.4915946389182384,
         2.343736765085168,
         2.2580605674418845,
         2.5490281416028906,
         2.3043740622830047,
         2.3971787814795666,
         2.4644708111798557,
         2.4817927885861137,
         2.438673148100089,
         2.4384899442266637,
         2.4186975011066605,
         2.4221012465925806,
         2.429867950882269,
         2.3540318308790056,
         2.3602101592678255,
         2.434937539996146,
         2.4077027591871647,
         2.374332263838164,
         2.5162595592534323,
         2.393387556151161,
         2.3367989021605298,
         2.4433013060755813,
         2.4999288356132126,
         2.367595128682856,
         2.364829390552216,
         2.4869811956243493,
         2.3505372067247317,
         2.3354503858160736,
         2.551421903316589,
         2.4604882104096273,
         2.3687940598293293,
         2.401556357928353,
         2.2720751779110664,
         2.3541524218921497,
         2.4276623513708477,
         2.280074183889399,
         2.3520294266382225,
         2.4203636068403434,
         2.41822453404525,
         2.291851480671427,
         2.3309363402435173,
         2.3551998694037173,
         2.3909953270433597,
         2.3861817749597765,
         2.4463925767154713,
         2.342575166761807,
         2.403288728555343,
         2.4554034514713874,
         2.3904318030362934,
         2.3962212851429365,
         2.4757573536907493,
         2.383090079737123,
         2.4216640716721334,
         2.37480679920966,
         2.349770013135192,
         2.349381797224531,
         2.449812889135658,
         2.3115713555372595,
         2.557099240063186,
         2.2330039270088426,
         2.2604306732498642,
         2.4981878939508153,
         2.3833595500894402,
         2.4635747448685827,
         2.307515012897594,
         2.4165793247630933,
         2.386599084498952,
         2.3862787409746575,
         2.389935938542445,
         2.3736141121177092,
         2.3327049391940253,
         2.449477641762544,
         2.5332284249554045,
         2.399074111372842,
         2.3513765739318644,
         2.4224973525646933,
         2.5396610128627555,
         2.335945389503374,
         2.560630366730138,
         2.4322595728062124,
         2.409964517716566,
         2.3541437040491795,
         2.4231860637625435,
         2.3401206366854,
         2.3730334917402556,
         2.3406763124206735,
         2.363973326536658,
         2.246762050102316,
         2.4625175166752498,
         2.36708084338919,
         2.317626161231762,
         2.5318446236877628,
         2.602267993636574,
         2.3540210150475054
        ]
       ],
       "encoder": "json",
       "name": "ABC_GAN_1 Metrics",
       "version": 1
      }
     },
     "metadata": {
      "scrapbook": {
       "data": true,
       "display": false,
       "name": "ABC_GAN_1 Metrics"
      }
     },
     "output_type": "display_data"
    },
    {
     "name": "stdout",
     "output_type": "stream",
     "text": [
      "MSE\n",
      "0.05650931828042303\n"
     ]
    }
   ],
   "source": [
    "ABC_GAN1_metrics=ABC_train_test2.test_generator(gen,test_data,prior_model,variance,bias,\"1\",device)\n",
    "sb.glue(\"ABC_GAN_1 Metrics\",ABC_GAN1_metrics)\n",
    "\n",
    "print(\"MSE\")\n",
    "print(mean(ABC_GAN1_metrics[0]))"
   ]
  },
  {
   "cell_type": "code",
   "execution_count": 14,
   "id": "eb22ce5c",
   "metadata": {
    "execution": {
     "iopub.execute_input": "2022-06-11T16:52:55.016516Z",
     "iopub.status.busy": "2022-06-11T16:52:55.016138Z",
     "iopub.status.idle": "2022-06-11T16:52:55.334384Z",
     "shell.execute_reply": "2022-06-11T16:52:55.334675Z"
    },
    "papermill": {
     "duration": 0.333607,
     "end_time": "2022-06-11T16:52:55.334794",
     "exception": false,
     "start_time": "2022-06-11T16:52:55.001187",
     "status": "completed"
    },
    "tags": []
   },
   "outputs": [
    {
     "data": {
      "image/png": "[encoded data removed]",
      "text/plain": [
       "<Figure size 432x288 with 1 Axes>"
      ]
     },
     "metadata": {
      "needs_background": "light"
     },
     "output_type": "display_data"
    },
    {
     "data": {
      "image/png": "[encoded data removed]",
      "text/plain": [
       "<Figure size 432x288 with 1 Axes>"
      ]
     },
     "metadata": {
      "needs_background": "light"
     },
     "output_type": "display_data"
    },
    {
     "data": {
      "image/png": "[encoded data removed]",
      "text/plain": [
       "<Figure size 432x288 with 1 Axes>"
      ]
     },
     "metadata": {
      "needs_background": "light"
     },
     "output_type": "display_data"
    },
    {
     "data": {
      "image/png": "[encoded data removed]",
      "text/plain": [
       "<Figure size 432x288 with 1 Axes>"
      ]
     },
     "metadata": {
      "needs_background": "light"
     },
     "output_type": "display_data"
    }
   ],
   "source": [
    "sanityChecks.discProbVsError(train_data,disc,device)\n",
    "sanityChecks.discProbVsError(test_data,disc,device)"
   ]
  },
  {
   "cell_type": "markdown",
   "id": "130f3a4d",
   "metadata": {
    "id": "130f3a4d",
    "papermill": {
     "duration": 0.014221,
     "end_time": "2022-06-11T16:52:55.363877",
     "exception": false,
     "start_time": "2022-06-11T16:52:55.349656",
     "status": "completed"
    },
    "tags": []
   },
   "source": [
    "# ABC - GAN Model with skip connection"
   ]
  },
  {
   "cell_type": "code",
   "execution_count": 15,
   "id": "4e43dad1",
   "metadata": {
    "execution": {
     "iopub.execute_input": "2022-06-11T16:52:55.396706Z",
     "iopub.status.busy": "2022-06-11T16:52:55.396220Z",
     "iopub.status.idle": "2022-06-11T16:52:55.398691Z",
     "shell.execute_reply": "2022-06-11T16:52:55.398939Z"
    },
    "id": "4e43dad1",
    "papermill": {
     "duration": 0.020814,
     "end_time": "2022-06-11T16:52:55.399062",
     "exception": false,
     "start_time": "2022-06-11T16:52:55.378248",
     "status": "completed"
    },
    "tags": []
   },
   "outputs": [],
   "source": [
    "#Generator\n",
    "gen3 = network.GeneratorWithSkipConnection(n_features+1).to(device)\n",
    "constraints=network.weightConstraint()\n",
    "#Discriminator \n",
    "disc3 = network.Discriminator(n_features+1).to(device)\n",
    "\n",
    "criterion = torch.nn.BCELoss()\n",
    "gen_opt = torch.optim.Adam(gen3.parameters(), lr=0.001, betas=(0.5, 0.999))\n",
    "disc_opt = torch.optim.Adam(disc3.parameters(), lr=0.001, betas=(0.5, 0.999))\n"
   ]
  },
  {
   "cell_type": "code",
   "execution_count": 16,
   "id": "26acbc37",
   "metadata": {
    "execution": {
     "iopub.execute_input": "2022-06-11T16:52:55.431001Z",
     "iopub.status.busy": "2022-06-11T16:52:55.430637Z",
     "iopub.status.idle": "2022-06-11T17:21:13.814610Z",
     "shell.execute_reply": "2022-06-11T17:21:13.814906Z"
    },
    "id": "26acbc37",
    "papermill": {
     "duration": 1698.40126,
     "end_time": "2022-06-11T17:21:13.815028",
     "exception": false,
     "start_time": "2022-06-11T16:52:55.413768",
     "status": "completed"
    },
    "tags": []
   },
   "outputs": [
    {
     "data": {
      "image/png": "[encoded data removed]",
      "text/plain": [
       "<Figure size 432x288 with 1 Axes>"
      ]
     },
     "metadata": {
      "needs_background": "light"
     },
     "output_type": "display_data"
    },
    {
     "data": {
      "image/png": "[encoded data removed]",
      "text/plain": [
       "<Figure size 432x288 with 1 Axes>"
      ]
     },
     "metadata": {
      "needs_background": "light"
     },
     "output_type": "display_data"
    }
   ],
   "source": [
    "ABC_train_test2.training_GAN_skip_connection(disc3,gen3,disc_opt,gen_opt,train_data,batch_size,n_epochs,criterion,prior_model,variance,bias,device)"
   ]
  },
  {
   "cell_type": "code",
   "execution_count": 17,
   "id": "c5e0717b",
   "metadata": {
    "execution": {
     "iopub.execute_input": "2022-06-11T17:21:13.850058Z",
     "iopub.status.busy": "2022-06-11T17:21:13.849678Z",
     "iopub.status.idle": "2022-06-11T17:21:14.666028Z",
     "shell.execute_reply": "2022-06-11T17:21:14.666282Z"
    },
    "id": "c5e0717b",
    "papermill": {
     "duration": 0.83558,
     "end_time": "2022-06-11T17:21:14.666402",
     "exception": false,
     "start_time": "2022-06-11T17:21:13.830822",
     "status": "completed"
    },
    "tags": []
   },
   "outputs": [
    {
     "data": {
      "application/scrapbook.scrap.json+json": {
       "data": 0.05746168139207388,
       "encoder": "json",
       "name": "ABC-GAN Model 3 MSE",
       "version": 1
      }
     },
     "metadata": {
      "scrapbook": {
       "data": true,
       "display": false,
       "name": "ABC-GAN Model 3 MSE"
      }
     },
     "output_type": "display_data"
    },
    {
     "data": {
      "application/scrapbook.scrap.json+json": {
       "data": 0.17710766240374606,
       "encoder": "json",
       "name": "ABC-GAN Model 3 MAE",
       "version": 1
      }
     },
     "metadata": {
      "scrapbook": {
       "data": true,
       "display": false,
       "name": "ABC-GAN Model 3 MAE"
      }
     },
     "output_type": "display_data"
    },
    {
     "data": {
      "application/scrapbook.scrap.json+json": {
       "data": 18.064981565182098,
       "encoder": "json",
       "name": "ABC-GAN Model 3 Manhattan Distance",
       "version": 1
      }
     },
     "metadata": {
      "scrapbook": {
       "data": true,
       "display": false,
       "name": "ABC-GAN Model 3 Manhattan Distance"
      }
     },
     "output_type": "display_data"
    },
    {
     "data": {
      "application/scrapbook.scrap.json+json": {
       "data": 2.419084042524536,
       "encoder": "json",
       "name": "ABC-GAN Model 3 Euclidean distance",
       "version": 1
      }
     },
     "metadata": {
      "scrapbook": {
       "data": true,
       "display": false,
       "name": "ABC-GAN Model 3 Euclidean distance"
      }
     },
     "output_type": "display_data"
    },
    {
     "data": {
      "application/scrapbook.scrap.json+json": {
       "data": [
        [
         0.06278538258933443,
         0.055443974443615276,
         0.05670741492688822,
         0.05936673726292217,
         0.05964137370504666,
         0.05986534424579464,
         0.06189508294788305,
         0.05871932271330634,
         0.05144669008993797,
         0.05603545572736619,
         0.06822728909253423,
         0.04954101731065475,
         0.06341300192364191,
         0.05161716564462357,
         0.06200230022245527,
         0.05887890061188704,
         0.05898380065405043,
         0.055875899238473574,
         0.05031041686193704,
         0.05619442342871532,
         0.06234517499237157,
         0.05512411117899461,
         0.052018517419959776,
         0.05681974981518776,
         0.059361482415633375,
         0.05570558177970961,
         0.06133413382958618,
         0.0489510637894697,
         0.053076658179491455,
         0.05290867003535585,
         0.05034742084294291,
         0.059388528953342484,
         0.05682575828499722,
         0.062565916336359,
         0.054254714994249206,
         0.04968252544503622,
         0.053480019517714195,
         0.06063175816636288,
         0.0551211025891395,
         0.05482615958396426,
         0.04904811692564652,
         0.061759705530079305,
         0.06812419777641551,
         0.06725874629246505,
         0.04693025923132447,
         0.06137784343491872,
         0.05703256379185916,
         0.06324179454327078,
         0.05107883271542465,
         0.06224402728782545,
         0.054733344058635294,
         0.05951329956847001,
         0.055254373027920994,
         0.05196175482657938,
         0.06169579147522365,
         0.05298048181796476,
         0.04652972009465715,
         0.0528478512633568,
         0.059636786702754636,
         0.05761911158805391,
         0.055038894691425866,
         0.055844347617980364,
         0.06207798745107694,
         0.05655655156711497,
         0.05970915424098292,
         0.0547694271413807,
         0.060844964613651895,
         0.058755752466026066,
         0.06104943022511794,
         0.057344124058645904,
         0.05605865684052713,
         0.06370133176727752,
         0.058985768253012945,
         0.060398007514142434,
         0.0581534988564562,
         0.06273125880962997,
         0.05983152768337555,
         0.054754521218233494,
         0.060225431464537266,
         0.05459488836914698,
         0.055057751642529094,
         0.05671312780090315,
         0.055080257000510585,
         0.05896790921852082,
         0.05514163331481706,
         0.059135033160298965,
         0.060056881582389234,
         0.06389134098601917,
         0.05886515308551085,
         0.0569271146025058,
         0.057332803516632266,
         0.059134978319864404,
         0.06680316508309138,
         0.05431709977540212,
         0.052382872542308834,
         0.060735382176474235,
         0.05775318323434879,
         0.055290045396660555,
         0.05318134694961539,
         0.06538689122546025
        ],
        [
         0.1818078934927197,
         0.18442159562426455,
         0.18052544271774298,
         0.1798138075015124,
         0.17603016383580716,
         0.18257033366563857,
         0.18275720417937813,
         0.17931681188444296,
         0.16616513346340142,
         0.17700535867947573,
         0.1888194053488619,
         0.17309345589841113,
         0.1796293818921435,
         0.164095193768541,
         0.18633680195346766,
         0.18111622796448715,
         0.1813036274968409,
         0.17826887135914363,
         0.16273457436438868,
         0.17554139674586408,
         0.18225476649754188,
         0.17741413732223651,
         0.1714357361562696,
         0.1736595409479467,
         0.17965978371235086,
         0.1759790889005743,
         0.18537891450721553,
         0.16933146727216594,
         0.17417106186678888,
         0.17166227679334434,
         0.1682223076840826,
         0.1747564915932861,
         0.17658778643418177,
         0.1784149515351244,
         0.17469350228487862,
         0.15948723263892473,
         0.17188540212444814,
         0.17685690967767848,
         0.1760875468014502,
         0.1774693640752458,
         0.16913094793391578,
         0.18336000739295474,
         0.1873315723576382,
         0.18414302312714212,
         0.16094015695739025,
         0.18147826284243196,
         0.179949452370113,
         0.1897943747394225,
         0.17353928841504396,
         0.18686243099178754,
         0.172653003321851,
         0.17723650510842895,
         0.17010664481523574,
         0.17164016675715352,
         0.1806560839508094,
         0.17520374311682055,
         0.1647807965694251,
         0.16400234806625283,
         0.1730332681543979,
         0.1807920473134693,
         0.1713560868200718,
         0.18300763210829565,
         0.18154673844429792,
         0.17706229440940946,
         0.17513709635857275,
         0.1749496726574851,
         0.1816222156379737,
         0.1788720916956663,
         0.18289030419991298,
         0.18119038619539318,
         0.16898776630998827,
         0.18625034329791865,
         0.17955619275716006,
         0.17670867792056763,
         0.17738168124182552,
         0.18689672707342633,
         0.18840473639212696,
         0.17811977781592778,
         0.18083289722163304,
         0.17755621156710036,
         0.17440183150271574,
         0.17723959289929447,
         0.17348432856812782,
         0.1802841590023508,
         0.1721806018704585,
         0.1813324769666674,
         0.1769629053579753,
         0.18609679577981725,
         0.18490116816817545,
         0.1741582462746723,
         0.17462287565656737,
         0.17254163066436554,
         0.1801884370198583,
         0.17289287279195645,
         0.17130837927335033,
         0.17988865470111953,
         0.18100126769722386,
         0.17381099637086486,
         0.17075727816543304,
         0.18098713655490428
        ],
        [
         18.54440513625741,
         18.811002753674984,
         18.413595157209784,
         18.341008365154266,
         17.95507671125233,
         18.622174033895135,
         18.641234826296568,
         18.290314812213182,
         16.948843613266945,
         18.054546585306525,
         19.259579345583916,
         17.655532501637936,
         18.322196952998638,
         16.737709764391184,
         19.006353799253702,
         18.47385525237769,
         18.492970004677773,
         18.18342487863265,
         16.598926585167646,
         17.905222468078136,
         18.58998618274927,
         18.096242006868124,
         17.4864450879395,
         17.713273176690564,
         18.325297938659787,
         17.949867067858577,
         18.908649279735982,
         17.271809661760926,
         17.765448310412467,
         17.509552232921124,
         17.158675383776426,
         17.825162142515182,
         18.01195421628654,
         18.19832505658269,
         17.818737233057618,
         16.267697729170322,
         17.53231101669371,
         18.039404787123203,
         17.96092977374792,
         18.101875135675073,
         17.25135668925941,
         18.702720754081383,
         19.107820380479097,
         18.782588358968496,
         16.415896009653807,
         18.51078280992806,
         18.354844141751528,
         19.359026223421097,
         17.701007418334484,
         19.05996796116233,
         17.610606338828802,
         18.07812352105975,
         17.350877771154046,
         17.50729700922966,
         18.42692056298256,
         17.870781797915697,
         16.80764125008136,
         16.728239502757788,
         17.649393351748586,
         18.44078882597387,
         17.478320855647326,
         18.666778475046158,
         18.517767321318388,
         18.060354029759765,
         17.86398382857442,
         17.84486661106348,
         18.52546599507332,
         18.244953352957964,
         18.654811028391123,
         18.481419391930103,
         17.236752163618803,
         18.9975350163877,
         18.314731661230326,
         18.0242851478979,
         18.092931486666203,
         19.063466161489487,
         19.21728311199695,
         18.168217337224633,
         18.44495551660657,
         18.110733579844236,
         17.788986813277006,
         18.078438475728035,
         17.695401513949037,
         18.388984218239784,
         17.562421390786767,
         18.495912650600076,
         18.05021634651348,
         18.98187316954136,
         18.859919153153896,
         17.764141120016575,
         17.81153331696987,
         17.599246327765286,
         18.379220576025546,
         17.635073024779558,
         17.473454685881734,
         18.348642779514194,
         18.462129305116832,
         17.728721629828215,
         17.41724237287417,
         18.460687928600237
        ],
        [
         2.5306341150217886,
         2.3780843957371984,
         2.4050273018289414,
         2.460773699635556,
         2.4664590241710393,
         2.471085816614035,
         2.512627799870898,
         2.4473191285072007,
         2.2907558554271277,
         2.3907355529609187,
         2.6380264379718583,
         2.247928772378428,
         2.5432511075809,
         2.2945480809413437,
         2.514803098194854,
         2.450642336697152,
         2.4528244263936103,
         2.3873294121935293,
         2.2653173110885763,
         2.39412430540458,
         2.5217469835853676,
         2.3712147393809464,
         2.3034514921820897,
         2.40740824978838,
         2.4606647895222546,
         2.383688180431824,
         2.5012160343756373,
         2.2345040851441533,
         2.3267615121254104,
         2.323076482513285,
         2.266150243470228,
         2.461225295100173,
         2.407535533500952,
         2.5262073284488387,
         2.352441482675694,
         2.2511369561609738,
         2.335586005868088,
         2.486853299446715,
         2.3711500298572905,
         2.3647977244500957,
         2.2367181150998765,
         2.5098784759561745,
         2.636032657839121,
         2.6192350260775443,
         2.187895436622851,
         2.5021071180830186,
         2.411912416894451,
         2.539815553030105,
         2.2825514094918677,
         2.519700534460037,
         2.3627951866340005,
         2.4638093586931475,
         2.3740147532919718,
         2.3021943862999703,
         2.5085794247886217,
         2.324652478421754,
         2.178538833634835,
         2.3217409047657305,
         2.4663641749913925,
         2.424283271810763,
         2.3693811973858145,
         2.386655286595447,
         2.5163375608232386,
         2.401826026140471,
         2.467860152557324,
         2.363573897389466,
         2.4912218669946866,
         2.4480781751273097,
         2.495404152229059,
         2.4184914004357925,
         2.391230435933301,
         2.5490264495023007,
         2.452865337071589,
         2.482054948312492,
         2.4354993088396744,
         2.529543120522411,
         2.4703877881224043,
         2.3632522430455483,
         2.478506406968277,
         2.359804782954088,
         2.369787051095091,
         2.405148443587655,
         2.3702713376430298,
         2.4524939837416775,
         2.3715915748946608,
         2.4559668935778625,
         2.475035741439646,
         2.5528252546098713,
         2.450356222005712,
         2.4096816572849598,
         2.4182526664301416,
         2.455965754774722,
         2.6103491794155276,
         2.3537935714694727,
         2.3115044882750064,
         2.488977497286862,
         2.4271021177329097,
         2.3747809647332483,
         2.3290550420418943,
         2.5825303299277906
        ]
       ],
       "encoder": "json",
       "name": "ABC_GAN_3 Metrics",
       "version": 1
      }
     },
     "metadata": {
      "scrapbook": {
       "data": true,
       "display": false,
       "name": "ABC_GAN_3 Metrics"
      }
     },
     "output_type": "display_data"
    },
    {
     "name": "stdout",
     "output_type": "stream",
     "text": [
      "MSE\n",
      "0.05746168139207388\n"
     ]
    }
   ],
   "source": [
    "ABC_GAN3_metrics=ABC_train_test2.test_generator(gen3,test_data,prior_model,variance,bias,\"3\",device)\n",
    "sb.glue(\"ABC_GAN_3 Metrics\",ABC_GAN3_metrics)\n",
    "\n",
    "print(\"MSE\")\n",
    "print(mean(ABC_GAN3_metrics[0]))"
   ]
  },
  {
   "cell_type": "code",
   "execution_count": 18,
   "id": "c8e46b48",
   "metadata": {
    "execution": {
     "iopub.execute_input": "2022-06-11T17:21:14.704090Z",
     "iopub.status.busy": "2022-06-11T17:21:14.703700Z",
     "iopub.status.idle": "2022-06-11T17:21:15.061435Z",
     "shell.execute_reply": "2022-06-11T17:21:15.061793Z"
    },
    "id": "c8e46b48",
    "papermill": {
     "duration": 0.37816,
     "end_time": "2022-06-11T17:21:15.061968",
     "exception": false,
     "start_time": "2022-06-11T17:21:14.683808",
     "status": "completed"
    },
    "tags": []
   },
   "outputs": [
    {
     "data": {
      "image/png": "[encoded data removed]",
      "text/plain": [
       "<Figure size 432x288 with 1 Axes>"
      ]
     },
     "metadata": {
      "needs_background": "light"
     },
     "output_type": "display_data"
    },
    {
     "data": {
      "image/png": "[encoded data removed]",
      "text/plain": [
       "<Figure size 432x288 with 1 Axes>"
      ]
     },
     "metadata": {
      "needs_background": "light"
     },
     "output_type": "display_data"
    },
    {
     "data": {
      "image/png": "[encoded data removed]",
      "text/plain": [
       "<Figure size 432x288 with 1 Axes>"
      ]
     },
     "metadata": {
      "needs_background": "light"
     },
     "output_type": "display_data"
    },
    {
     "data": {
      "image/png": "[encoded data removed]",
      "text/plain": [
       "<Figure size 432x288 with 1 Axes>"
      ]
     },
     "metadata": {
      "needs_background": "light"
     },
     "output_type": "display_data"
    }
   ],
   "source": [
    "sanityChecks.discProbVsError(train_data,disc3,device)\n",
    "sanityChecks.discProbVsError(test_data,disc3,device)"
   ]
  },
  {
   "cell_type": "markdown",
   "id": "a5bd74c3",
   "metadata": {
    "id": "a5bd74c3",
    "papermill": {
     "duration": 0.021963,
     "end_time": "2022-06-11T17:21:15.107596",
     "exception": false,
     "start_time": "2022-06-11T17:21:15.085633",
     "status": "completed"
    },
    "tags": []
   },
   "source": [
    "## Skip Connection Model Analysis - ABC-GAN "
   ]
  },
  {
   "cell_type": "markdown",
   "id": "5744a8bf",
   "metadata": {
    "id": "5744a8bf",
    "papermill": {
     "duration": 0.021159,
     "end_time": "2022-06-11T17:21:15.149292",
     "exception": false,
     "start_time": "2022-06-11T17:21:15.128133",
     "status": "completed"
    },
    "tags": []
   },
   "source": [
    "### Weight Analysis \n",
    "\n",
    "Study the weights of the skip connection layer\n",
    "\n",
    "Equation of the skip connection is \n",
    "\n",
    "$output = y_{gan} * w + y_{abc} * (1-w)$"
   ]
  },
  {
   "cell_type": "code",
   "execution_count": 19,
   "id": "52c31dea",
   "metadata": {
    "execution": {
     "iopub.execute_input": "2022-06-11T17:21:15.193354Z",
     "iopub.status.busy": "2022-06-11T17:21:15.192961Z",
     "iopub.status.idle": "2022-06-11T17:21:15.196498Z",
     "shell.execute_reply": "2022-06-11T17:21:15.196748Z"
    },
    "id": "52c31dea",
    "papermill": {
     "duration": 0.027497,
     "end_time": "2022-06-11T17:21:15.196868",
     "exception": false,
     "start_time": "2022-06-11T17:21:15.169371",
     "status": "completed"
    },
    "tags": []
   },
   "outputs": [
    {
     "name": "stdout",
     "output_type": "stream",
     "text": [
      "Weight of the node at skip connection\n",
      "Parameter containing:\n",
      "tensor([[0.2317]], requires_grad=True)\n"
     ]
    },
    {
     "data": {
      "application/scrapbook.scrap.json+json": {
       "data": 0.23172451555728912,
       "encoder": "json",
       "name": "Skip Connection Weight",
       "version": 1
      }
     },
     "metadata": {
      "scrapbook": {
       "data": true,
       "display": false,
       "name": "Skip Connection Weight"
      }
     },
     "output_type": "display_data"
    }
   ],
   "source": [
    "print(\"Weight of the node at skip connection\")\n",
    "for name,param in gen3.named_parameters():\n",
    "    if(name == \"skipNode.weight\"):\n",
    "        print(param)\n",
    "        sb.glue(\"Skip Connection Weight\",param.item())"
   ]
  }
 ],
 "metadata": {
  "colab": {
   "collapsed_sections": [],
   "name": "ABC_GAN_Model-Catboost_Pre-gen.ipynb",
   "provenance": []
  },
  "interpreter": {
   "hash": "31f2aee4e71d21fbe5cf8b01ff0e069b9275f58929596ceb00d14d90e3e16cd6"
  },
  "kernelspec": {
   "display_name": "Python 3 (ipykernel)",
   "language": "python",
   "name": "python3"
  },
  "language_info": {
   "codemirror_mode": {
    "name": "ipython",
    "version": 3
   },
   "file_extension": ".py",
   "mimetype": "text/x-python",
   "name": "python",
   "nbconvert_exporter": "python",
   "pygments_lexer": "ipython3",
   "version": "3.8.11"
  },
  "papermill": {
   "default_parameters": {},
   "duration": 1764.584422,
   "end_time": "2022-06-11T17:21:15.526866",
   "environment_variables": {},
   "exception": null,
   "input_path": "ABC_GAN-Catboost.ipynb",
   "output_path": "./ABC_GAN_Catboost/ABC-GAN_output_2_4.ipynb",
   "parameters": {
    "bias": 0.1,
    "variance": 0.1
   },
   "start_time": "2022-06-11T16:51:50.942444",
   "version": "2.3.3"
  }
 },
 "nbformat": 4,
 "nbformat_minor": 5
}