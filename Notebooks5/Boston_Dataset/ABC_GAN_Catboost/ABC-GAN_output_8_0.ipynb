{
 "cells": [
  {
   "cell_type": "markdown",
   "id": "622780e6",
   "metadata": {
    "id": "622780e6",
    "papermill": {
     "duration": 0.033203,
     "end_time": "2022-06-12T06:41:37.051224",
     "exception": false,
     "start_time": "2022-06-12T06:41:37.018021",
     "status": "completed"
    },
    "tags": []
   },
   "source": [
    "## Import Libraries "
   ]
  },
  {
   "cell_type": "code",
   "execution_count": 1,
   "id": "a62397e3",
   "metadata": {
    "execution": {
     "iopub.execute_input": "2022-06-12T06:41:37.087494Z",
     "iopub.status.busy": "2022-06-12T06:41:37.086971Z",
     "iopub.status.idle": "2022-06-12T06:41:37.089269Z",
     "shell.execute_reply": "2022-06-12T06:41:37.089614Z"
    },
    "id": "a62397e3",
    "papermill": {
     "duration": 0.022123,
     "end_time": "2022-06-12T06:41:37.089837",
     "exception": false,
     "start_time": "2022-06-12T06:41:37.067714",
     "status": "completed"
    },
    "tags": []
   },
   "outputs": [],
   "source": [
    "import warnings\n",
    "import sys\n",
    "sys.path.insert(0, '../../src')\n",
    "warnings.filterwarnings('ignore')"
   ]
  },
  {
   "cell_type": "code",
   "execution_count": 2,
   "id": "d6a4e155",
   "metadata": {
    "execution": {
     "iopub.execute_input": "2022-06-12T06:41:37.110291Z",
     "iopub.status.busy": "2022-06-12T06:41:37.109878Z",
     "iopub.status.idle": "2022-06-12T06:41:38.959008Z",
     "shell.execute_reply": "2022-06-12T06:41:38.959260Z"
    },
    "id": "d6a4e155",
    "papermill": {
     "duration": 1.860018,
     "end_time": "2022-06-12T06:41:38.959379",
     "exception": false,
     "start_time": "2022-06-12T06:41:37.099361",
     "status": "completed"
    },
    "tags": []
   },
   "outputs": [],
   "source": [
    "import ABC_train_test2\n",
    "import bostonDataset\n",
    "import network\n",
    "import dataset\n",
    "import sanityChecks\n",
    "import torch \n",
    "import scrapbook as sb\n",
    "from statistics import mean \n",
    "import catboost as ctb \n",
    "from sklearn.model_selection import train_test_split\n",
    "from sklearn.metrics import mean_squared_error,mean_absolute_error\n",
    "import numpy as np"
   ]
  },
  {
   "cell_type": "markdown",
   "id": "2fa5b0f7",
   "metadata": {
    "id": "2fa5b0f7",
    "papermill": {
     "duration": 0.006795,
     "end_time": "2022-06-12T06:41:38.973380",
     "exception": false,
     "start_time": "2022-06-12T06:41:38.966585",
     "status": "completed"
    },
    "tags": []
   },
   "source": [
    "## Parameters "
   ]
  },
  {
   "cell_type": "code",
   "execution_count": 3,
   "id": "783186fb",
   "metadata": {
    "execution": {
     "iopub.execute_input": "2022-06-12T06:41:38.989142Z",
     "iopub.status.busy": "2022-06-12T06:41:38.988787Z",
     "iopub.status.idle": "2022-06-12T06:41:38.990041Z",
     "shell.execute_reply": "2022-06-12T06:41:38.990295Z"
    },
    "id": "783186fb",
    "papermill": {
     "duration": 0.010183,
     "end_time": "2022-06-12T06:41:38.990407",
     "exception": false,
     "start_time": "2022-06-12T06:41:38.980224",
     "status": "completed"
    },
    "tags": [
     "parameters"
    ]
   },
   "outputs": [],
   "source": [
    "variance = 1\n",
    "bias = 1 "
   ]
  },
  {
   "cell_type": "code",
   "execution_count": 4,
   "id": "53109d79",
   "metadata": {
    "execution": {
     "iopub.execute_input": "2022-06-12T06:41:39.005887Z",
     "iopub.status.busy": "2022-06-12T06:41:39.005502Z",
     "iopub.status.idle": "2022-06-12T06:41:39.006753Z",
     "shell.execute_reply": "2022-06-12T06:41:39.007053Z"
    },
    "papermill": {
     "duration": 0.009896,
     "end_time": "2022-06-12T06:41:39.007158",
     "exception": false,
     "start_time": "2022-06-12T06:41:38.997262",
     "status": "completed"
    },
    "tags": [
     "injected-parameters"
    ]
   },
   "outputs": [],
   "source": [
    "# Parameters\n",
    "variance = 1\n",
    "bias = 1\n"
   ]
  },
  {
   "cell_type": "markdown",
   "id": "391cdbfd",
   "metadata": {
    "id": "391cdbfd",
    "papermill": {
     "duration": 0.006825,
     "end_time": "2022-06-12T06:41:39.020852",
     "exception": false,
     "start_time": "2022-06-12T06:41:39.014027",
     "status": "completed"
    },
    "tags": []
   },
   "source": [
    "## Dataset \n"
   ]
  },
  {
   "cell_type": "code",
   "execution_count": 5,
   "id": "5b51f161",
   "metadata": {
    "execution": {
     "iopub.execute_input": "2022-06-12T06:41:39.036343Z",
     "iopub.status.busy": "2022-06-12T06:41:39.036009Z",
     "iopub.status.idle": "2022-06-12T06:41:39.037291Z",
     "shell.execute_reply": "2022-06-12T06:41:39.037509Z"
    },
    "id": "5b51f161",
    "papermill": {
     "duration": 0.009902,
     "end_time": "2022-06-12T06:41:39.037609",
     "exception": false,
     "start_time": "2022-06-12T06:41:39.027707",
     "status": "completed"
    },
    "tags": []
   },
   "outputs": [],
   "source": [
    "#Parameters \n",
    "n_features = 13\n",
    "n_samples= 506\n",
    "n_target = 1 "
   ]
  },
  {
   "cell_type": "code",
   "execution_count": 6,
   "id": "5d6eced4",
   "metadata": {
    "execution": {
     "iopub.execute_input": "2022-06-12T06:41:39.053317Z",
     "iopub.status.busy": "2022-06-12T06:41:39.052925Z",
     "iopub.status.idle": "2022-06-12T06:41:39.063745Z",
     "shell.execute_reply": "2022-06-12T06:41:39.063978Z"
    },
    "id": "5d6eced4",
    "papermill": {
     "duration": 0.019553,
     "end_time": "2022-06-12T06:41:39.064085",
     "exception": false,
     "start_time": "2022-06-12T06:41:39.044532",
     "status": "completed"
    },
    "tags": []
   },
   "outputs": [
    {
     "name": "stdout",
     "output_type": "stream",
     "text": [
      "         X1        X2        X3        X4        X5        X6        X7  \\\n",
      "0 -0.419782  0.284830 -1.287909 -0.272599 -0.144217  0.413672 -0.120013   \n",
      "1 -0.417339 -0.487722 -0.593381 -0.272599 -0.740262  0.194274  0.367166   \n",
      "2 -0.417342 -0.487722 -0.593381 -0.272599 -0.740262  1.282714 -0.265812   \n",
      "3 -0.416750 -0.487722 -1.306878 -0.272599 -0.835284  1.016303 -0.809889   \n",
      "4 -0.412482 -0.487722 -1.306878 -0.272599 -0.835284  1.228577 -0.511180   \n",
      "\n",
      "         X8        X9       X10       X11       X12       X13         Y  \n",
      "0  0.140214 -0.982843 -0.666608 -1.459000  0.441052 -1.075562  0.159686  \n",
      "1  0.557160 -0.867883 -0.987329 -0.303094  0.441052 -0.492439 -0.101524  \n",
      "2  0.557160 -0.867883 -0.987329 -0.303094  0.396427 -1.208727  1.324247  \n",
      "3  1.077737 -0.752922 -1.106115  0.113032  0.416163 -1.361517  1.182758  \n",
      "4  1.077737 -0.752922 -1.106115  0.113032  0.441052 -1.026501  1.487503  \n"
     ]
    }
   ],
   "source": [
    "X,Y = bostonDataset.boston_data()"
   ]
  },
  {
   "cell_type": "code",
   "execution_count": 7,
   "id": "fe007438",
   "metadata": {
    "execution": {
     "iopub.execute_input": "2022-06-12T06:41:39.080991Z",
     "iopub.status.busy": "2022-06-12T06:41:39.080567Z",
     "iopub.status.idle": "2022-06-12T06:41:39.082089Z",
     "shell.execute_reply": "2022-06-12T06:41:39.082328Z"
    },
    "id": "fe007438",
    "papermill": {
     "duration": 0.010997,
     "end_time": "2022-06-12T06:41:39.082433",
     "exception": false,
     "start_time": "2022-06-12T06:41:39.071436",
     "status": "completed"
    },
    "tags": []
   },
   "outputs": [],
   "source": [
    "#Train test split for dataset \n",
    "X_train,X_test,Y_train,Y_test = train_test_split(X,Y,test_size = 0.2)\n",
    "train_data = dataset.CustomDataset(X_train,Y_train)\n",
    "test_data = dataset.CustomDataset(X_test,Y_test)\n"
   ]
  },
  {
   "cell_type": "markdown",
   "id": "a9a1af34",
   "metadata": {
    "id": "a9a1af34",
    "papermill": {
     "duration": 0.007101,
     "end_time": "2022-06-12T06:41:39.096739",
     "exception": false,
     "start_time": "2022-06-12T06:41:39.089638",
     "status": "completed"
    },
    "tags": []
   },
   "source": [
    "## Training Parameters "
   ]
  },
  {
   "cell_type": "code",
   "execution_count": 8,
   "id": "952b7fc8",
   "metadata": {
    "execution": {
     "iopub.execute_input": "2022-06-12T06:41:39.113207Z",
     "iopub.status.busy": "2022-06-12T06:41:39.112811Z",
     "iopub.status.idle": "2022-06-12T06:41:39.114074Z",
     "shell.execute_reply": "2022-06-12T06:41:39.114322Z"
    },
    "id": "952b7fc8",
    "papermill": {
     "duration": 0.010592,
     "end_time": "2022-06-12T06:41:39.114425",
     "exception": false,
     "start_time": "2022-06-12T06:41:39.103833",
     "status": "completed"
    },
    "tags": []
   },
   "outputs": [],
   "source": [
    "batch_size = 32\n",
    "n_epochs = 1000\n",
    "#Select the device \n",
    "device = torch.device('cuda' if torch.cuda.is_available() else 'cpu')"
   ]
  },
  {
   "cell_type": "markdown",
   "id": "a95e1600",
   "metadata": {
    "id": "a95e1600",
    "papermill": {
     "duration": 0.00709,
     "end_time": "2022-06-12T06:41:39.128684",
     "exception": false,
     "start_time": "2022-06-12T06:41:39.121594",
     "status": "completed"
    },
    "tags": []
   },
   "source": [
    "# ABC Pre-generator Model \n",
    "\n",
    "1. The catboost model is used as a pre-generator model for the ABC-GAN. \n",
    "2. The model is first trained on the entire dataset \n",
    "3. It generats X,Y pairs and we add some Gaussian noise with mean 0 and variance 1 to it which is then feed as input to the generator.\n"
   ]
  },
  {
   "cell_type": "code",
   "execution_count": 9,
   "id": "ff8ce7bd",
   "metadata": {
    "execution": {
     "iopub.execute_input": "2022-06-12T06:41:39.147515Z",
     "iopub.status.busy": "2022-06-12T06:41:39.147157Z",
     "iopub.status.idle": "2022-06-12T06:41:40.185069Z",
     "shell.execute_reply": "2022-06-12T06:41:40.185367Z"
    },
    "id": "ff8ce7bd",
    "papermill": {
     "duration": 1.04965,
     "end_time": "2022-06-12T06:41:40.185487",
     "exception": false,
     "start_time": "2022-06-12T06:41:39.135837",
     "status": "completed"
    },
    "tags": []
   },
   "outputs": [
    {
     "name": "stdout",
     "output_type": "stream",
     "text": [
      "Learning rate set to 0.033215\n",
      "0:\tlearn: 0.9739584\ttotal: 58.5ms\tremaining: 58.5s\n",
      "1:\tlearn: 0.9553727\ttotal: 59.5ms\tremaining: 29.7s\n",
      "2:\tlearn: 0.9355993\ttotal: 60.3ms\tremaining: 20.1s\n",
      "3:\tlearn: 0.9178625\ttotal: 61.1ms\tremaining: 15.2s\n",
      "4:\tlearn: 0.9007403\ttotal: 62ms\tremaining: 12.3s\n",
      "5:\tlearn: 0.8839375\ttotal: 62.9ms\tremaining: 10.4s\n",
      "6:\tlearn: 0.8671081\ttotal: 63.7ms\tremaining: 9.04s\n",
      "7:\tlearn: 0.8516317\ttotal: 64.6ms\tremaining: 8.01s\n",
      "8:\tlearn: 0.8363073\ttotal: 65.6ms\tremaining: 7.22s\n",
      "9:\tlearn: 0.8208720\ttotal: 66.6ms\tremaining: 6.59s\n",
      "10:\tlearn: 0.8058219\ttotal: 67.6ms\tremaining: 6.08s\n",
      "11:\tlearn: 0.7912612\ttotal: 68.4ms\tremaining: 5.63s\n",
      "12:\tlearn: 0.7776522\ttotal: 69.2ms\tremaining: 5.25s\n",
      "13:\tlearn: 0.7635376\ttotal: 70ms\tremaining: 4.93s\n",
      "14:\tlearn: 0.7498657\ttotal: 70.8ms\tremaining: 4.65s\n",
      "15:\tlearn: 0.7373084\ttotal: 71.6ms\tremaining: 4.4s\n",
      "16:\tlearn: 0.7250119\ttotal: 72.3ms\tremaining: 4.18s\n",
      "17:\tlearn: 0.7134746\ttotal: 73.1ms\tremaining: 3.99s\n",
      "18:\tlearn: 0.7012648\ttotal: 73.9ms\tremaining: 3.81s\n",
      "19:\tlearn: 0.6885582\ttotal: 74.6ms\tremaining: 3.65s\n",
      "20:\tlearn: 0.6780986\ttotal: 75.4ms\tremaining: 3.51s\n",
      "21:\tlearn: 0.6671741\ttotal: 76.1ms\tremaining: 3.38s\n",
      "22:\tlearn: 0.6566360\ttotal: 76.9ms\tremaining: 3.27s\n",
      "23:\tlearn: 0.6467243\ttotal: 77.7ms\tremaining: 3.16s\n",
      "24:\tlearn: 0.6361055\ttotal: 78.4ms\tremaining: 3.06s\n",
      "25:\tlearn: 0.6274162\ttotal: 79.3ms\tremaining: 2.97s\n",
      "26:\tlearn: 0.6186418\ttotal: 80.2ms\tremaining: 2.89s\n",
      "27:\tlearn: 0.6096330\ttotal: 80.9ms\tremaining: 2.81s\n",
      "28:\tlearn: 0.6020191\ttotal: 81.8ms\tremaining: 2.74s\n",
      "29:\tlearn: 0.5924199\ttotal: 82.7ms\tremaining: 2.67s\n",
      "30:\tlearn: 0.5832332\ttotal: 83.6ms\tremaining: 2.61s\n",
      "31:\tlearn: 0.5743857\ttotal: 84.4ms\tremaining: 2.55s\n",
      "32:\tlearn: 0.5678094\ttotal: 85.2ms\tremaining: 2.5s\n",
      "33:\tlearn: 0.5623927\ttotal: 86.2ms\tremaining: 2.45s\n",
      "34:\tlearn: 0.5550261\ttotal: 87ms\tremaining: 2.4s\n",
      "35:\tlearn: 0.5485859\ttotal: 87.9ms\tremaining: 2.35s\n",
      "36:\tlearn: 0.5430227\ttotal: 88.4ms\tremaining: 2.3s\n",
      "37:\tlearn: 0.5359588\ttotal: 89.2ms\tremaining: 2.26s\n",
      "38:\tlearn: 0.5306091\ttotal: 90.1ms\tremaining: 2.22s\n",
      "39:\tlearn: 0.5231536\ttotal: 90.9ms\tremaining: 2.18s\n",
      "40:\tlearn: 0.5159817\ttotal: 91.7ms\tremaining: 2.15s\n",
      "41:\tlearn: 0.5108161\ttotal: 92.6ms\tremaining: 2.11s\n",
      "42:\tlearn: 0.5051221\ttotal: 93.5ms\tremaining: 2.08s\n",
      "43:\tlearn: 0.4984692\ttotal: 94.4ms\tremaining: 2.05s\n",
      "44:\tlearn: 0.4938684\ttotal: 95.3ms\tremaining: 2.02s\n",
      "45:\tlearn: 0.4887444\ttotal: 96.1ms\tremaining: 1.99s\n",
      "46:\tlearn: 0.4833197\ttotal: 97ms\tremaining: 1.97s\n",
      "47:\tlearn: 0.4776734\ttotal: 97.8ms\tremaining: 1.94s\n",
      "48:\tlearn: 0.4723737\ttotal: 98.6ms\tremaining: 1.91s\n",
      "49:\tlearn: 0.4671709\ttotal: 99.4ms\tremaining: 1.89s\n",
      "50:\tlearn: 0.4620261\ttotal: 100ms\tremaining: 1.86s\n",
      "51:\tlearn: 0.4549986\ttotal: 101ms\tremaining: 1.84s\n",
      "52:\tlearn: 0.4499724\ttotal: 102ms\tremaining: 1.82s\n",
      "53:\tlearn: 0.4453219\ttotal: 103ms\tremaining: 1.8s\n",
      "54:\tlearn: 0.4403811\ttotal: 103ms\tremaining: 1.78s\n",
      "55:\tlearn: 0.4373884\ttotal: 104ms\tremaining: 1.76s\n",
      "56:\tlearn: 0.4330458\ttotal: 105ms\tremaining: 1.74s\n",
      "57:\tlearn: 0.4284293\ttotal: 106ms\tremaining: 1.73s\n",
      "58:\tlearn: 0.4255244\ttotal: 107ms\tremaining: 1.71s\n",
      "59:\tlearn: 0.4216998\ttotal: 108ms\tremaining: 1.69s\n"
     ]
    },
    {
     "name": "stdout",
     "output_type": "stream",
     "text": [
      "60:\tlearn: 0.4187017\ttotal: 109ms\tremaining: 1.68s\n",
      "61:\tlearn: 0.4133908\ttotal: 110ms\tremaining: 1.67s\n",
      "62:\tlearn: 0.4101105\ttotal: 111ms\tremaining: 1.66s\n",
      "63:\tlearn: 0.4055432\ttotal: 112ms\tremaining: 1.64s\n",
      "64:\tlearn: 0.4009218\ttotal: 113ms\tremaining: 1.62s\n",
      "65:\tlearn: 0.3970827\ttotal: 114ms\tremaining: 1.61s\n",
      "66:\tlearn: 0.3935980\ttotal: 115ms\tremaining: 1.6s\n",
      "67:\tlearn: 0.3900681\ttotal: 116ms\tremaining: 1.58s\n",
      "68:\tlearn: 0.3870992\ttotal: 116ms\tremaining: 1.57s\n",
      "69:\tlearn: 0.3837956\ttotal: 117ms\tremaining: 1.56s\n",
      "70:\tlearn: 0.3816122\ttotal: 118ms\tremaining: 1.54s\n",
      "71:\tlearn: 0.3796744\ttotal: 119ms\tremaining: 1.53s\n",
      "72:\tlearn: 0.3766769\ttotal: 120ms\tremaining: 1.52s\n",
      "73:\tlearn: 0.3736968\ttotal: 121ms\tremaining: 1.51s\n",
      "74:\tlearn: 0.3706240\ttotal: 121ms\tremaining: 1.5s\n",
      "75:\tlearn: 0.3668307\ttotal: 122ms\tremaining: 1.49s\n",
      "76:\tlearn: 0.3648180\ttotal: 123ms\tremaining: 1.47s\n",
      "77:\tlearn: 0.3628398\ttotal: 124ms\tremaining: 1.46s\n",
      "78:\tlearn: 0.3595205\ttotal: 124ms\tremaining: 1.45s\n",
      "79:\tlearn: 0.3567483\ttotal: 125ms\tremaining: 1.44s\n",
      "80:\tlearn: 0.3541342\ttotal: 126ms\tremaining: 1.43s\n",
      "81:\tlearn: 0.3516384\ttotal: 127ms\tremaining: 1.42s\n",
      "82:\tlearn: 0.3497619\ttotal: 128ms\tremaining: 1.41s\n",
      "83:\tlearn: 0.3476127\ttotal: 129ms\tremaining: 1.4s\n",
      "84:\tlearn: 0.3452020\ttotal: 130ms\tremaining: 1.39s\n",
      "85:\tlearn: 0.3426112\ttotal: 130ms\tremaining: 1.39s\n",
      "86:\tlearn: 0.3400338\ttotal: 131ms\tremaining: 1.38s\n",
      "87:\tlearn: 0.3378974\ttotal: 132ms\tremaining: 1.37s\n",
      "88:\tlearn: 0.3358675\ttotal: 133ms\tremaining: 1.36s\n",
      "89:\tlearn: 0.3338024\ttotal: 134ms\tremaining: 1.35s\n",
      "90:\tlearn: 0.3321152\ttotal: 135ms\tremaining: 1.34s\n",
      "91:\tlearn: 0.3305826\ttotal: 135ms\tremaining: 1.33s\n",
      "92:\tlearn: 0.3287306\ttotal: 136ms\tremaining: 1.33s\n",
      "93:\tlearn: 0.3266506\ttotal: 137ms\tremaining: 1.32s\n",
      "94:\tlearn: 0.3250389\ttotal: 138ms\tremaining: 1.31s\n",
      "95:\tlearn: 0.3234687\ttotal: 139ms\tremaining: 1.3s\n",
      "96:\tlearn: 0.3219697\ttotal: 139ms\tremaining: 1.3s\n",
      "97:\tlearn: 0.3200208\ttotal: 140ms\tremaining: 1.29s\n",
      "98:\tlearn: 0.3186626\ttotal: 141ms\tremaining: 1.28s\n",
      "99:\tlearn: 0.3164604\ttotal: 142ms\tremaining: 1.27s\n",
      "100:\tlearn: 0.3149009\ttotal: 143ms\tremaining: 1.27s\n",
      "101:\tlearn: 0.3131723\ttotal: 143ms\tremaining: 1.26s\n",
      "102:\tlearn: 0.3117129\ttotal: 144ms\tremaining: 1.25s\n",
      "103:\tlearn: 0.3103076\ttotal: 145ms\tremaining: 1.25s\n",
      "104:\tlearn: 0.3090876\ttotal: 146ms\tremaining: 1.24s\n",
      "105:\tlearn: 0.3076440\ttotal: 146ms\tremaining: 1.24s\n",
      "106:\tlearn: 0.3059044\ttotal: 147ms\tremaining: 1.23s\n",
      "107:\tlearn: 0.3038434\ttotal: 148ms\tremaining: 1.22s\n",
      "108:\tlearn: 0.3026798\ttotal: 149ms\tremaining: 1.22s\n",
      "109:\tlearn: 0.3010899\ttotal: 150ms\tremaining: 1.21s\n",
      "110:\tlearn: 0.2994073\ttotal: 150ms\tremaining: 1.21s\n",
      "111:\tlearn: 0.2982098\ttotal: 151ms\tremaining: 1.2s\n",
      "112:\tlearn: 0.2967548\ttotal: 152ms\tremaining: 1.19s\n",
      "113:\tlearn: 0.2956566\ttotal: 153ms\tremaining: 1.19s\n",
      "114:\tlearn: 0.2944940\ttotal: 154ms\tremaining: 1.18s\n",
      "115:\tlearn: 0.2935089\ttotal: 154ms\tremaining: 1.18s\n",
      "116:\tlearn: 0.2919601\ttotal: 155ms\tremaining: 1.17s\n",
      "117:\tlearn: 0.2905282\ttotal: 156ms\tremaining: 1.17s\n",
      "118:\tlearn: 0.2894012\ttotal: 157ms\tremaining: 1.16s\n",
      "119:\tlearn: 0.2885509\ttotal: 158ms\tremaining: 1.16s\n",
      "120:\tlearn: 0.2873583\ttotal: 158ms\tremaining: 1.15s\n",
      "121:\tlearn: 0.2862296\ttotal: 159ms\tremaining: 1.15s\n",
      "122:\tlearn: 0.2850902\ttotal: 160ms\tremaining: 1.14s\n",
      "123:\tlearn: 0.2837149\ttotal: 161ms\tremaining: 1.14s\n",
      "124:\tlearn: 0.2825404\ttotal: 162ms\tremaining: 1.13s\n",
      "125:\tlearn: 0.2815419\ttotal: 163ms\tremaining: 1.13s\n",
      "126:\tlearn: 0.2804851\ttotal: 163ms\tremaining: 1.12s\n",
      "127:\tlearn: 0.2797482\ttotal: 164ms\tremaining: 1.12s\n",
      "128:\tlearn: 0.2783706\ttotal: 165ms\tremaining: 1.12s\n",
      "129:\tlearn: 0.2772371\ttotal: 166ms\tremaining: 1.11s\n",
      "130:\tlearn: 0.2762649\ttotal: 167ms\tremaining: 1.11s\n",
      "131:\tlearn: 0.2753466\ttotal: 168ms\tremaining: 1.1s\n",
      "132:\tlearn: 0.2742359\ttotal: 168ms\tremaining: 1.1s\n",
      "133:\tlearn: 0.2735415\ttotal: 169ms\tremaining: 1.09s\n",
      "134:\tlearn: 0.2726506\ttotal: 170ms\tremaining: 1.09s\n",
      "135:\tlearn: 0.2715559\ttotal: 171ms\tremaining: 1.08s\n",
      "136:\tlearn: 0.2708463\ttotal: 172ms\tremaining: 1.08s\n",
      "137:\tlearn: 0.2699245\ttotal: 173ms\tremaining: 1.08s\n",
      "138:\tlearn: 0.2687110\ttotal: 174ms\tremaining: 1.08s\n",
      "139:\tlearn: 0.2676536\ttotal: 175ms\tremaining: 1.07s\n",
      "140:\tlearn: 0.2668569\ttotal: 175ms\tremaining: 1.07s\n",
      "141:\tlearn: 0.2658776\ttotal: 176ms\tremaining: 1.06s\n",
      "142:\tlearn: 0.2649588\ttotal: 177ms\tremaining: 1.06s\n",
      "143:\tlearn: 0.2640692\ttotal: 178ms\tremaining: 1.06s\n",
      "144:\tlearn: 0.2630004\ttotal: 179ms\tremaining: 1.05s\n",
      "145:\tlearn: 0.2620007\ttotal: 180ms\tremaining: 1.05s\n",
      "146:\tlearn: 0.2613202\ttotal: 180ms\tremaining: 1.05s\n",
      "147:\tlearn: 0.2606140\ttotal: 181ms\tremaining: 1.04s\n",
      "148:\tlearn: 0.2596698\ttotal: 182ms\tremaining: 1.04s\n",
      "149:\tlearn: 0.2587499\ttotal: 183ms\tremaining: 1.03s\n",
      "150:\tlearn: 0.2576441\ttotal: 184ms\tremaining: 1.03s\n",
      "151:\tlearn: 0.2569931\ttotal: 184ms\tremaining: 1.03s\n",
      "152:\tlearn: 0.2561777\ttotal: 185ms\tremaining: 1.02s\n",
      "153:\tlearn: 0.2554255\ttotal: 186ms\tremaining: 1.02s\n",
      "154:\tlearn: 0.2544212\ttotal: 187ms\tremaining: 1.02s\n",
      "155:\tlearn: 0.2536434\ttotal: 187ms\tremaining: 1.01s\n",
      "156:\tlearn: 0.2526731\ttotal: 188ms\tremaining: 1.01s\n",
      "157:\tlearn: 0.2516914\ttotal: 189ms\tremaining: 1.01s\n",
      "158:\tlearn: 0.2508043\ttotal: 190ms\tremaining: 1s\n"
     ]
    },
    {
     "name": "stdout",
     "output_type": "stream",
     "text": [
      "159:\tlearn: 0.2501433\ttotal: 191ms\tremaining: 1s\n",
      "160:\tlearn: 0.2491316\ttotal: 192ms\tremaining: 999ms\n",
      "161:\tlearn: 0.2484746\ttotal: 193ms\tremaining: 997ms\n",
      "162:\tlearn: 0.2479960\ttotal: 194ms\tremaining: 994ms\n",
      "163:\tlearn: 0.2471450\ttotal: 194ms\tremaining: 991ms\n",
      "164:\tlearn: 0.2464034\ttotal: 195ms\tremaining: 988ms\n",
      "165:\tlearn: 0.2457806\ttotal: 196ms\tremaining: 985ms\n",
      "166:\tlearn: 0.2452935\ttotal: 197ms\tremaining: 982ms\n",
      "167:\tlearn: 0.2443687\ttotal: 198ms\tremaining: 979ms\n",
      "168:\tlearn: 0.2438499\ttotal: 199ms\tremaining: 976ms\n",
      "169:\tlearn: 0.2431450\ttotal: 199ms\tremaining: 973ms\n",
      "170:\tlearn: 0.2426346\ttotal: 200ms\tremaining: 970ms\n",
      "171:\tlearn: 0.2417490\ttotal: 201ms\tremaining: 967ms\n",
      "172:\tlearn: 0.2410118\ttotal: 202ms\tremaining: 964ms\n",
      "173:\tlearn: 0.2402109\ttotal: 202ms\tremaining: 961ms\n",
      "174:\tlearn: 0.2392440\ttotal: 203ms\tremaining: 958ms\n",
      "175:\tlearn: 0.2386932\ttotal: 204ms\tremaining: 955ms\n",
      "176:\tlearn: 0.2376521\ttotal: 205ms\tremaining: 952ms\n",
      "177:\tlearn: 0.2368814\ttotal: 206ms\tremaining: 949ms\n",
      "178:\tlearn: 0.2361886\ttotal: 206ms\tremaining: 946ms\n",
      "179:\tlearn: 0.2355020\ttotal: 207ms\tremaining: 943ms\n",
      "180:\tlearn: 0.2347055\ttotal: 208ms\tremaining: 941ms\n",
      "181:\tlearn: 0.2340220\ttotal: 209ms\tremaining: 938ms\n",
      "182:\tlearn: 0.2335301\ttotal: 209ms\tremaining: 935ms\n",
      "183:\tlearn: 0.2329479\ttotal: 210ms\tremaining: 933ms\n",
      "184:\tlearn: 0.2323888\ttotal: 211ms\tremaining: 931ms\n",
      "185:\tlearn: 0.2317145\ttotal: 212ms\tremaining: 929ms\n",
      "186:\tlearn: 0.2308070\ttotal: 213ms\tremaining: 926ms\n",
      "187:\tlearn: 0.2298303\ttotal: 214ms\tremaining: 924ms\n",
      "188:\tlearn: 0.2292349\ttotal: 215ms\tremaining: 921ms\n",
      "189:\tlearn: 0.2286819\ttotal: 216ms\tremaining: 919ms\n",
      "190:\tlearn: 0.2281340\ttotal: 217ms\tremaining: 917ms\n",
      "191:\tlearn: 0.2274835\ttotal: 217ms\tremaining: 915ms\n",
      "192:\tlearn: 0.2269951\ttotal: 218ms\tremaining: 913ms\n",
      "193:\tlearn: 0.2263111\ttotal: 219ms\tremaining: 910ms\n",
      "194:\tlearn: 0.2258050\ttotal: 220ms\tremaining: 908ms\n",
      "195:\tlearn: 0.2249586\ttotal: 221ms\tremaining: 905ms\n",
      "196:\tlearn: 0.2245642\ttotal: 221ms\tremaining: 902ms\n",
      "197:\tlearn: 0.2239338\ttotal: 222ms\tremaining: 900ms\n",
      "198:\tlearn: 0.2233103\ttotal: 223ms\tremaining: 898ms\n",
      "199:\tlearn: 0.2226529\ttotal: 224ms\tremaining: 896ms\n",
      "200:\tlearn: 0.2221215\ttotal: 225ms\tremaining: 893ms\n",
      "201:\tlearn: 0.2215313\ttotal: 226ms\tremaining: 892ms\n",
      "202:\tlearn: 0.2209656\ttotal: 226ms\tremaining: 889ms\n",
      "203:\tlearn: 0.2200734\ttotal: 227ms\tremaining: 887ms\n",
      "204:\tlearn: 0.2195018\ttotal: 228ms\tremaining: 885ms\n",
      "205:\tlearn: 0.2187246\ttotal: 229ms\tremaining: 883ms\n",
      "206:\tlearn: 0.2181783\ttotal: 230ms\tremaining: 881ms\n",
      "207:\tlearn: 0.2174732\ttotal: 231ms\tremaining: 879ms\n",
      "208:\tlearn: 0.2168660\ttotal: 232ms\tremaining: 877ms\n",
      "209:\tlearn: 0.2163763\ttotal: 233ms\tremaining: 875ms\n",
      "210:\tlearn: 0.2159163\ttotal: 234ms\tremaining: 873ms\n",
      "211:\tlearn: 0.2154281\ttotal: 235ms\tremaining: 872ms\n",
      "212:\tlearn: 0.2148411\ttotal: 235ms\tremaining: 870ms\n",
      "213:\tlearn: 0.2143207\ttotal: 236ms\tremaining: 867ms\n",
      "214:\tlearn: 0.2136455\ttotal: 237ms\tremaining: 865ms\n",
      "215:\tlearn: 0.2133512\ttotal: 238ms\tremaining: 863ms\n",
      "216:\tlearn: 0.2128649\ttotal: 239ms\tremaining: 861ms\n",
      "217:\tlearn: 0.2121189\ttotal: 240ms\tremaining: 859ms\n",
      "218:\tlearn: 0.2114512\ttotal: 240ms\tremaining: 857ms\n",
      "219:\tlearn: 0.2108509\ttotal: 241ms\tremaining: 855ms\n",
      "220:\tlearn: 0.2102355\ttotal: 242ms\tremaining: 853ms\n",
      "221:\tlearn: 0.2096667\ttotal: 243ms\tremaining: 850ms\n",
      "222:\tlearn: 0.2092201\ttotal: 243ms\tremaining: 848ms\n",
      "223:\tlearn: 0.2086049\ttotal: 244ms\tremaining: 846ms\n",
      "224:\tlearn: 0.2081311\ttotal: 245ms\tremaining: 844ms\n",
      "225:\tlearn: 0.2075072\ttotal: 246ms\tremaining: 842ms\n",
      "226:\tlearn: 0.2068018\ttotal: 247ms\tremaining: 840ms\n",
      "227:\tlearn: 0.2063809\ttotal: 248ms\tremaining: 839ms\n",
      "228:\tlearn: 0.2060035\ttotal: 249ms\tremaining: 837ms\n",
      "229:\tlearn: 0.2054006\ttotal: 250ms\tremaining: 835ms\n",
      "230:\tlearn: 0.2049731\ttotal: 250ms\tremaining: 834ms\n",
      "231:\tlearn: 0.2044689\ttotal: 251ms\tremaining: 832ms\n",
      "232:\tlearn: 0.2042033\ttotal: 252ms\tremaining: 830ms\n",
      "233:\tlearn: 0.2036468\ttotal: 253ms\tremaining: 828ms\n",
      "234:\tlearn: 0.2030228\ttotal: 254ms\tremaining: 826ms\n",
      "235:\tlearn: 0.2024671\ttotal: 255ms\tremaining: 824ms\n",
      "236:\tlearn: 0.2019035\ttotal: 255ms\tremaining: 822ms\n",
      "237:\tlearn: 0.2012940\ttotal: 256ms\tremaining: 820ms\n",
      "238:\tlearn: 0.2008755\ttotal: 257ms\tremaining: 818ms\n",
      "239:\tlearn: 0.2002589\ttotal: 258ms\tremaining: 816ms\n",
      "240:\tlearn: 0.1996729\ttotal: 259ms\tremaining: 814ms\n",
      "241:\tlearn: 0.1991210\ttotal: 259ms\tremaining: 812ms\n",
      "242:\tlearn: 0.1988090\ttotal: 260ms\tremaining: 810ms\n",
      "243:\tlearn: 0.1982759\ttotal: 261ms\tremaining: 808ms\n",
      "244:\tlearn: 0.1976680\ttotal: 262ms\tremaining: 806ms\n",
      "245:\tlearn: 0.1971131\ttotal: 262ms\tremaining: 805ms\n",
      "246:\tlearn: 0.1963417\ttotal: 263ms\tremaining: 803ms\n",
      "247:\tlearn: 0.1959389\ttotal: 264ms\tremaining: 801ms\n",
      "248:\tlearn: 0.1952004\ttotal: 265ms\tremaining: 799ms\n",
      "249:\tlearn: 0.1945994\ttotal: 266ms\tremaining: 797ms\n",
      "250:\tlearn: 0.1940306\ttotal: 267ms\tremaining: 796ms\n",
      "251:\tlearn: 0.1936726\ttotal: 267ms\tremaining: 794ms\n",
      "252:\tlearn: 0.1932845\ttotal: 268ms\tremaining: 792ms\n",
      "253:\tlearn: 0.1928672\ttotal: 269ms\tremaining: 790ms\n",
      "254:\tlearn: 0.1923693\ttotal: 270ms\tremaining: 788ms\n",
      "255:\tlearn: 0.1916877\ttotal: 271ms\tremaining: 787ms\n",
      "256:\tlearn: 0.1911114\ttotal: 272ms\tremaining: 785ms\n",
      "257:\tlearn: 0.1907336\ttotal: 273ms\tremaining: 784ms\n",
      "258:\tlearn: 0.1901331\ttotal: 273ms\tremaining: 782ms\n",
      "259:\tlearn: 0.1895581\ttotal: 274ms\tremaining: 780ms\n",
      "260:\tlearn: 0.1889708\ttotal: 275ms\tremaining: 778ms\n",
      "261:\tlearn: 0.1885418\ttotal: 276ms\tremaining: 777ms\n",
      "262:\tlearn: 0.1879127\ttotal: 277ms\tremaining: 775ms\n",
      "263:\tlearn: 0.1875586\ttotal: 278ms\tremaining: 774ms\n",
      "264:\tlearn: 0.1870494\ttotal: 278ms\tremaining: 772ms\n",
      "265:\tlearn: 0.1866474\ttotal: 279ms\tremaining: 770ms\n",
      "266:\tlearn: 0.1860914\ttotal: 280ms\tremaining: 769ms\n",
      "267:\tlearn: 0.1856389\ttotal: 281ms\tremaining: 767ms\n",
      "268:\tlearn: 0.1853553\ttotal: 282ms\tremaining: 765ms\n",
      "269:\tlearn: 0.1849348\ttotal: 283ms\tremaining: 764ms\n",
      "270:\tlearn: 0.1843991\ttotal: 283ms\tremaining: 762ms\n",
      "271:\tlearn: 0.1838938\ttotal: 284ms\tremaining: 760ms\n",
      "272:\tlearn: 0.1833974\ttotal: 285ms\tremaining: 758ms\n",
      "273:\tlearn: 0.1829534\ttotal: 286ms\tremaining: 757ms\n",
      "274:\tlearn: 0.1826517\ttotal: 286ms\tremaining: 755ms\n",
      "275:\tlearn: 0.1821817\ttotal: 287ms\tremaining: 754ms\n",
      "276:\tlearn: 0.1816852\ttotal: 288ms\tremaining: 752ms\n",
      "277:\tlearn: 0.1812992\ttotal: 289ms\tremaining: 751ms\n",
      "278:\tlearn: 0.1808834\ttotal: 290ms\tremaining: 749ms\n",
      "279:\tlearn: 0.1804370\ttotal: 291ms\tremaining: 748ms\n",
      "280:\tlearn: 0.1801009\ttotal: 292ms\tremaining: 747ms\n",
      "281:\tlearn: 0.1795742\ttotal: 293ms\tremaining: 745ms\n",
      "282:\tlearn: 0.1790569\ttotal: 294ms\tremaining: 744ms\n",
      "283:\tlearn: 0.1787658\ttotal: 294ms\tremaining: 742ms\n",
      "284:\tlearn: 0.1784247\ttotal: 295ms\tremaining: 741ms\n",
      "285:\tlearn: 0.1780221\ttotal: 296ms\tremaining: 739ms\n",
      "286:\tlearn: 0.1775468\ttotal: 297ms\tremaining: 738ms\n"
     ]
    },
    {
     "name": "stdout",
     "output_type": "stream",
     "text": [
      "287:\tlearn: 0.1769358\ttotal: 298ms\tremaining: 737ms\n",
      "288:\tlearn: 0.1764792\ttotal: 299ms\tremaining: 736ms\n",
      "289:\tlearn: 0.1760825\ttotal: 300ms\tremaining: 734ms\n",
      "290:\tlearn: 0.1757038\ttotal: 301ms\tremaining: 733ms\n",
      "291:\tlearn: 0.1752679\ttotal: 302ms\tremaining: 731ms\n",
      "292:\tlearn: 0.1746768\ttotal: 302ms\tremaining: 730ms\n",
      "293:\tlearn: 0.1744062\ttotal: 303ms\tremaining: 728ms\n",
      "294:\tlearn: 0.1741667\ttotal: 305ms\tremaining: 728ms\n",
      "295:\tlearn: 0.1735858\ttotal: 305ms\tremaining: 726ms\n",
      "296:\tlearn: 0.1731392\ttotal: 306ms\tremaining: 725ms\n",
      "297:\tlearn: 0.1727351\ttotal: 307ms\tremaining: 723ms\n",
      "298:\tlearn: 0.1723670\ttotal: 308ms\tremaining: 722ms\n",
      "299:\tlearn: 0.1721980\ttotal: 309ms\tremaining: 720ms\n",
      "300:\tlearn: 0.1718974\ttotal: 310ms\tremaining: 719ms\n",
      "301:\tlearn: 0.1715702\ttotal: 311ms\tremaining: 718ms\n",
      "302:\tlearn: 0.1710878\ttotal: 311ms\tremaining: 716ms\n",
      "303:\tlearn: 0.1706740\ttotal: 312ms\tremaining: 715ms\n",
      "304:\tlearn: 0.1704422\ttotal: 313ms\tremaining: 713ms\n",
      "305:\tlearn: 0.1701288\ttotal: 314ms\tremaining: 713ms\n",
      "306:\tlearn: 0.1699163\ttotal: 315ms\tremaining: 712ms\n",
      "307:\tlearn: 0.1694759\ttotal: 316ms\tremaining: 710ms\n",
      "308:\tlearn: 0.1691447\ttotal: 317ms\tremaining: 709ms\n",
      "309:\tlearn: 0.1688853\ttotal: 318ms\tremaining: 707ms\n",
      "310:\tlearn: 0.1685604\ttotal: 318ms\tremaining: 705ms\n",
      "311:\tlearn: 0.1683354\ttotal: 319ms\tremaining: 704ms\n",
      "312:\tlearn: 0.1679001\ttotal: 320ms\tremaining: 703ms\n",
      "313:\tlearn: 0.1675055\ttotal: 321ms\tremaining: 701ms\n",
      "314:\tlearn: 0.1672888\ttotal: 322ms\tremaining: 700ms\n",
      "315:\tlearn: 0.1667635\ttotal: 323ms\tremaining: 698ms\n",
      "316:\tlearn: 0.1662619\ttotal: 323ms\tremaining: 697ms\n",
      "317:\tlearn: 0.1658843\ttotal: 324ms\tremaining: 695ms\n",
      "318:\tlearn: 0.1656214\ttotal: 325ms\tremaining: 694ms\n",
      "319:\tlearn: 0.1652342\ttotal: 326ms\tremaining: 692ms\n",
      "320:\tlearn: 0.1648111\ttotal: 327ms\tremaining: 691ms\n",
      "321:\tlearn: 0.1644605\ttotal: 327ms\tremaining: 689ms\n",
      "322:\tlearn: 0.1639404\ttotal: 328ms\tremaining: 688ms\n",
      "323:\tlearn: 0.1635131\ttotal: 329ms\tremaining: 687ms\n",
      "324:\tlearn: 0.1631807\ttotal: 330ms\tremaining: 686ms\n",
      "325:\tlearn: 0.1628562\ttotal: 331ms\tremaining: 684ms\n",
      "326:\tlearn: 0.1626089\ttotal: 332ms\tremaining: 683ms\n",
      "327:\tlearn: 0.1624510\ttotal: 333ms\tremaining: 681ms\n",
      "328:\tlearn: 0.1622546\ttotal: 333ms\tremaining: 680ms\n",
      "329:\tlearn: 0.1617869\ttotal: 334ms\tremaining: 679ms\n",
      "330:\tlearn: 0.1615279\ttotal: 335ms\tremaining: 678ms\n",
      "331:\tlearn: 0.1612679\ttotal: 336ms\tremaining: 676ms\n",
      "332:\tlearn: 0.1608367\ttotal: 337ms\tremaining: 674ms\n",
      "333:\tlearn: 0.1606523\ttotal: 338ms\tremaining: 673ms\n",
      "334:\tlearn: 0.1605431\ttotal: 338ms\tremaining: 672ms\n",
      "335:\tlearn: 0.1604313\ttotal: 339ms\tremaining: 670ms\n",
      "336:\tlearn: 0.1600222\ttotal: 340ms\tremaining: 669ms\n",
      "337:\tlearn: 0.1596387\ttotal: 341ms\tremaining: 668ms\n",
      "338:\tlearn: 0.1593879\ttotal: 342ms\tremaining: 667ms\n",
      "339:\tlearn: 0.1590306\ttotal: 343ms\tremaining: 665ms\n",
      "340:\tlearn: 0.1589261\ttotal: 344ms\tremaining: 664ms\n",
      "341:\tlearn: 0.1586275\ttotal: 344ms\tremaining: 662ms\n",
      "342:\tlearn: 0.1582084\ttotal: 345ms\tremaining: 661ms\n",
      "343:\tlearn: 0.1579008\ttotal: 346ms\tremaining: 660ms\n",
      "344:\tlearn: 0.1574642\ttotal: 347ms\tremaining: 658ms\n",
      "345:\tlearn: 0.1572774\ttotal: 348ms\tremaining: 657ms\n",
      "346:\tlearn: 0.1571248\ttotal: 348ms\tremaining: 656ms\n",
      "347:\tlearn: 0.1569339\ttotal: 349ms\tremaining: 654ms\n",
      "348:\tlearn: 0.1566978\ttotal: 350ms\tremaining: 653ms\n",
      "349:\tlearn: 0.1563838\ttotal: 351ms\tremaining: 652ms\n",
      "350:\tlearn: 0.1559473\ttotal: 352ms\tremaining: 650ms\n",
      "351:\tlearn: 0.1557049\ttotal: 352ms\tremaining: 649ms\n",
      "352:\tlearn: 0.1553394\ttotal: 353ms\tremaining: 648ms\n",
      "353:\tlearn: 0.1549404\ttotal: 354ms\tremaining: 646ms\n",
      "354:\tlearn: 0.1549022\ttotal: 355ms\tremaining: 645ms\n",
      "355:\tlearn: 0.1545252\ttotal: 356ms\tremaining: 644ms\n",
      "356:\tlearn: 0.1544132\ttotal: 357ms\tremaining: 642ms\n",
      "357:\tlearn: 0.1540614\ttotal: 357ms\tremaining: 641ms\n",
      "358:\tlearn: 0.1537512\ttotal: 358ms\tremaining: 640ms\n",
      "359:\tlearn: 0.1534364\ttotal: 359ms\tremaining: 638ms\n",
      "360:\tlearn: 0.1530677\ttotal: 360ms\tremaining: 637ms\n",
      "361:\tlearn: 0.1528382\ttotal: 361ms\tremaining: 636ms\n",
      "362:\tlearn: 0.1528066\ttotal: 362ms\tremaining: 635ms\n",
      "363:\tlearn: 0.1527310\ttotal: 363ms\tremaining: 633ms\n",
      "364:\tlearn: 0.1525898\ttotal: 363ms\tremaining: 632ms\n",
      "365:\tlearn: 0.1524509\ttotal: 364ms\tremaining: 631ms\n",
      "366:\tlearn: 0.1521269\ttotal: 365ms\tremaining: 629ms\n",
      "367:\tlearn: 0.1518043\ttotal: 366ms\tremaining: 628ms\n",
      "368:\tlearn: 0.1514144\ttotal: 366ms\tremaining: 627ms\n",
      "369:\tlearn: 0.1510869\ttotal: 367ms\tremaining: 625ms\n",
      "370:\tlearn: 0.1510387\ttotal: 368ms\tremaining: 624ms\n",
      "371:\tlearn: 0.1508103\ttotal: 369ms\tremaining: 623ms\n",
      "372:\tlearn: 0.1505643\ttotal: 370ms\tremaining: 622ms\n",
      "373:\tlearn: 0.1503477\ttotal: 371ms\tremaining: 620ms\n",
      "374:\tlearn: 0.1499674\ttotal: 371ms\tremaining: 619ms\n",
      "375:\tlearn: 0.1499207\ttotal: 372ms\tremaining: 618ms\n",
      "376:\tlearn: 0.1495199\ttotal: 373ms\tremaining: 617ms\n",
      "377:\tlearn: 0.1494543\ttotal: 374ms\tremaining: 615ms\n",
      "378:\tlearn: 0.1491434\ttotal: 375ms\tremaining: 614ms\n",
      "379:\tlearn: 0.1491130\ttotal: 376ms\tremaining: 613ms\n",
      "380:\tlearn: 0.1487394\ttotal: 377ms\tremaining: 612ms\n",
      "381:\tlearn: 0.1485147\ttotal: 377ms\tremaining: 610ms\n",
      "382:\tlearn: 0.1483658\ttotal: 378ms\tremaining: 609ms\n",
      "383:\tlearn: 0.1481691\ttotal: 379ms\tremaining: 608ms\n",
      "384:\tlearn: 0.1478744\ttotal: 380ms\tremaining: 606ms\n",
      "385:\tlearn: 0.1474868\ttotal: 380ms\tremaining: 605ms\n"
     ]
    },
    {
     "name": "stdout",
     "output_type": "stream",
     "text": [
      "386:\tlearn: 0.1471694\ttotal: 382ms\tremaining: 604ms\n",
      "387:\tlearn: 0.1469910\ttotal: 382ms\tremaining: 603ms\n",
      "388:\tlearn: 0.1466211\ttotal: 383ms\tremaining: 602ms\n",
      "389:\tlearn: 0.1464610\ttotal: 384ms\tremaining: 601ms\n",
      "390:\tlearn: 0.1460496\ttotal: 385ms\tremaining: 599ms\n",
      "391:\tlearn: 0.1457002\ttotal: 386ms\tremaining: 598ms\n",
      "392:\tlearn: 0.1454811\ttotal: 387ms\tremaining: 597ms\n",
      "393:\tlearn: 0.1452749\ttotal: 387ms\tremaining: 596ms\n",
      "394:\tlearn: 0.1450193\ttotal: 388ms\tremaining: 595ms\n",
      "395:\tlearn: 0.1446123\ttotal: 389ms\tremaining: 594ms\n",
      "396:\tlearn: 0.1443632\ttotal: 390ms\tremaining: 592ms\n",
      "397:\tlearn: 0.1441206\ttotal: 391ms\tremaining: 591ms\n",
      "398:\tlearn: 0.1438421\ttotal: 392ms\tremaining: 590ms\n",
      "399:\tlearn: 0.1438154\ttotal: 392ms\tremaining: 589ms\n",
      "400:\tlearn: 0.1437446\ttotal: 393ms\tremaining: 588ms\n",
      "401:\tlearn: 0.1433585\ttotal: 394ms\tremaining: 586ms\n",
      "402:\tlearn: 0.1431257\ttotal: 395ms\tremaining: 585ms\n",
      "403:\tlearn: 0.1428888\ttotal: 396ms\tremaining: 584ms\n",
      "404:\tlearn: 0.1425616\ttotal: 397ms\tremaining: 583ms\n",
      "405:\tlearn: 0.1425359\ttotal: 398ms\tremaining: 582ms\n",
      "406:\tlearn: 0.1421834\ttotal: 398ms\tremaining: 581ms\n",
      "407:\tlearn: 0.1420648\ttotal: 399ms\tremaining: 579ms\n",
      "408:\tlearn: 0.1417943\ttotal: 400ms\tremaining: 578ms\n",
      "409:\tlearn: 0.1414212\ttotal: 401ms\tremaining: 577ms\n",
      "410:\tlearn: 0.1412135\ttotal: 402ms\tremaining: 576ms\n",
      "411:\tlearn: 0.1410991\ttotal: 403ms\tremaining: 575ms\n",
      "412:\tlearn: 0.1407956\ttotal: 404ms\tremaining: 574ms\n",
      "413:\tlearn: 0.1405498\ttotal: 404ms\tremaining: 572ms\n",
      "414:\tlearn: 0.1403342\ttotal: 405ms\tremaining: 571ms\n",
      "415:\tlearn: 0.1399807\ttotal: 406ms\tremaining: 570ms\n",
      "416:\tlearn: 0.1399466\ttotal: 407ms\tremaining: 569ms\n",
      "417:\tlearn: 0.1397461\ttotal: 408ms\tremaining: 567ms\n",
      "418:\tlearn: 0.1394895\ttotal: 408ms\tremaining: 566ms\n",
      "419:\tlearn: 0.1390761\ttotal: 409ms\tremaining: 565ms\n",
      "420:\tlearn: 0.1388423\ttotal: 410ms\tremaining: 564ms\n",
      "421:\tlearn: 0.1384655\ttotal: 411ms\tremaining: 563ms\n",
      "422:\tlearn: 0.1383002\ttotal: 412ms\tremaining: 562ms\n",
      "423:\tlearn: 0.1381129\ttotal: 413ms\tremaining: 561ms\n",
      "424:\tlearn: 0.1378910\ttotal: 414ms\tremaining: 560ms\n",
      "425:\tlearn: 0.1375786\ttotal: 414ms\tremaining: 558ms\n",
      "426:\tlearn: 0.1373657\ttotal: 415ms\tremaining: 557ms\n",
      "427:\tlearn: 0.1370617\ttotal: 416ms\tremaining: 556ms\n",
      "428:\tlearn: 0.1367362\ttotal: 417ms\tremaining: 555ms\n",
      "429:\tlearn: 0.1365028\ttotal: 418ms\tremaining: 554ms\n",
      "430:\tlearn: 0.1364791\ttotal: 419ms\tremaining: 553ms\n",
      "431:\tlearn: 0.1361348\ttotal: 419ms\tremaining: 551ms\n",
      "432:\tlearn: 0.1357364\ttotal: 420ms\tremaining: 550ms\n",
      "433:\tlearn: 0.1357156\ttotal: 421ms\tremaining: 550ms\n",
      "434:\tlearn: 0.1355145\ttotal: 422ms\tremaining: 548ms\n",
      "435:\tlearn: 0.1353043\ttotal: 423ms\tremaining: 547ms\n",
      "436:\tlearn: 0.1349887\ttotal: 424ms\tremaining: 546ms\n",
      "437:\tlearn: 0.1347407\ttotal: 425ms\tremaining: 545ms\n",
      "438:\tlearn: 0.1345185\ttotal: 426ms\tremaining: 544ms\n",
      "439:\tlearn: 0.1343530\ttotal: 426ms\tremaining: 543ms\n",
      "440:\tlearn: 0.1342225\ttotal: 427ms\tremaining: 541ms\n",
      "441:\tlearn: 0.1338936\ttotal: 428ms\tremaining: 540ms\n",
      "442:\tlearn: 0.1338717\ttotal: 429ms\tremaining: 539ms\n",
      "443:\tlearn: 0.1338502\ttotal: 430ms\tremaining: 538ms\n",
      "444:\tlearn: 0.1336135\ttotal: 430ms\tremaining: 537ms\n",
      "445:\tlearn: 0.1332883\ttotal: 431ms\tremaining: 535ms\n",
      "446:\tlearn: 0.1330372\ttotal: 432ms\tremaining: 534ms\n",
      "447:\tlearn: 0.1329164\ttotal: 433ms\tremaining: 533ms\n",
      "448:\tlearn: 0.1326718\ttotal: 434ms\tremaining: 532ms\n",
      "449:\tlearn: 0.1324205\ttotal: 434ms\tremaining: 531ms\n",
      "450:\tlearn: 0.1321623\ttotal: 435ms\tremaining: 530ms\n",
      "451:\tlearn: 0.1319523\ttotal: 436ms\tremaining: 529ms\n",
      "452:\tlearn: 0.1317278\ttotal: 437ms\tremaining: 528ms\n",
      "453:\tlearn: 0.1314986\ttotal: 438ms\tremaining: 526ms\n",
      "454:\tlearn: 0.1311340\ttotal: 438ms\tremaining: 525ms\n",
      "455:\tlearn: 0.1311127\ttotal: 439ms\tremaining: 524ms\n",
      "456:\tlearn: 0.1310354\ttotal: 440ms\tremaining: 523ms\n",
      "457:\tlearn: 0.1307760\ttotal: 441ms\tremaining: 522ms\n",
      "458:\tlearn: 0.1306069\ttotal: 442ms\tremaining: 521ms\n",
      "459:\tlearn: 0.1304776\ttotal: 442ms\tremaining: 519ms\n",
      "460:\tlearn: 0.1303459\ttotal: 443ms\tremaining: 518ms\n",
      "461:\tlearn: 0.1301294\ttotal: 444ms\tremaining: 517ms\n",
      "462:\tlearn: 0.1299850\ttotal: 445ms\tremaining: 516ms\n",
      "463:\tlearn: 0.1296069\ttotal: 446ms\tremaining: 515ms\n",
      "464:\tlearn: 0.1294394\ttotal: 447ms\tremaining: 514ms\n",
      "465:\tlearn: 0.1292324\ttotal: 447ms\tremaining: 513ms\n",
      "466:\tlearn: 0.1289436\ttotal: 448ms\tremaining: 512ms\n",
      "467:\tlearn: 0.1286181\ttotal: 449ms\tremaining: 510ms\n",
      "468:\tlearn: 0.1283944\ttotal: 450ms\tremaining: 509ms\n",
      "469:\tlearn: 0.1280987\ttotal: 451ms\tremaining: 508ms\n",
      "470:\tlearn: 0.1278646\ttotal: 451ms\tremaining: 507ms\n",
      "471:\tlearn: 0.1277943\ttotal: 452ms\tremaining: 506ms\n",
      "472:\tlearn: 0.1276228\ttotal: 453ms\tremaining: 505ms\n",
      "473:\tlearn: 0.1275302\ttotal: 454ms\tremaining: 504ms\n",
      "474:\tlearn: 0.1273343\ttotal: 455ms\tremaining: 502ms\n",
      "475:\tlearn: 0.1269893\ttotal: 455ms\tremaining: 501ms\n"
     ]
    },
    {
     "name": "stdout",
     "output_type": "stream",
     "text": [
      "476:\tlearn: 0.1266945\ttotal: 456ms\tremaining: 500ms\n",
      "477:\tlearn: 0.1265422\ttotal: 457ms\tremaining: 499ms\n",
      "478:\tlearn: 0.1262859\ttotal: 458ms\tremaining: 498ms\n",
      "479:\tlearn: 0.1260072\ttotal: 459ms\tremaining: 497ms\n",
      "480:\tlearn: 0.1257261\ttotal: 460ms\tremaining: 496ms\n",
      "481:\tlearn: 0.1254715\ttotal: 461ms\tremaining: 495ms\n",
      "482:\tlearn: 0.1252437\ttotal: 461ms\tremaining: 494ms\n",
      "483:\tlearn: 0.1249743\ttotal: 462ms\tremaining: 493ms\n",
      "484:\tlearn: 0.1247824\ttotal: 463ms\tremaining: 491ms\n",
      "485:\tlearn: 0.1245694\ttotal: 464ms\tremaining: 490ms\n",
      "486:\tlearn: 0.1243207\ttotal: 465ms\tremaining: 489ms\n",
      "487:\tlearn: 0.1241348\ttotal: 465ms\tremaining: 488ms\n",
      "488:\tlearn: 0.1239489\ttotal: 466ms\tremaining: 487ms\n",
      "489:\tlearn: 0.1237990\ttotal: 467ms\tremaining: 486ms\n",
      "490:\tlearn: 0.1234737\ttotal: 468ms\tremaining: 485ms\n",
      "491:\tlearn: 0.1231910\ttotal: 469ms\tremaining: 484ms\n",
      "492:\tlearn: 0.1230651\ttotal: 469ms\tremaining: 483ms\n",
      "493:\tlearn: 0.1229768\ttotal: 470ms\tremaining: 482ms\n",
      "494:\tlearn: 0.1227134\ttotal: 471ms\tremaining: 481ms\n",
      "495:\tlearn: 0.1224865\ttotal: 472ms\tremaining: 480ms\n",
      "496:\tlearn: 0.1221534\ttotal: 473ms\tremaining: 478ms\n",
      "497:\tlearn: 0.1218556\ttotal: 474ms\tremaining: 477ms\n",
      "498:\tlearn: 0.1216703\ttotal: 474ms\tremaining: 476ms\n",
      "499:\tlearn: 0.1215417\ttotal: 476ms\tremaining: 476ms\n",
      "500:\tlearn: 0.1212505\ttotal: 477ms\tremaining: 475ms\n",
      "501:\tlearn: 0.1211628\ttotal: 478ms\tremaining: 474ms\n",
      "502:\tlearn: 0.1210363\ttotal: 478ms\tremaining: 473ms\n",
      "503:\tlearn: 0.1209621\ttotal: 479ms\tremaining: 471ms\n",
      "504:\tlearn: 0.1206179\ttotal: 480ms\tremaining: 470ms\n",
      "505:\tlearn: 0.1205415\ttotal: 481ms\tremaining: 469ms\n",
      "506:\tlearn: 0.1204463\ttotal: 481ms\tremaining: 468ms\n",
      "507:\tlearn: 0.1202888\ttotal: 483ms\tremaining: 468ms\n",
      "508:\tlearn: 0.1202239\ttotal: 484ms\tremaining: 467ms\n",
      "509:\tlearn: 0.1200914\ttotal: 484ms\tremaining: 465ms\n",
      "510:\tlearn: 0.1197791\ttotal: 485ms\tremaining: 464ms\n",
      "511:\tlearn: 0.1196167\ttotal: 486ms\tremaining: 463ms\n",
      "512:\tlearn: 0.1193193\ttotal: 487ms\tremaining: 462ms\n",
      "513:\tlearn: 0.1192355\ttotal: 488ms\tremaining: 461ms\n",
      "514:\tlearn: 0.1189309\ttotal: 488ms\tremaining: 460ms\n",
      "515:\tlearn: 0.1187347\ttotal: 489ms\tremaining: 459ms\n",
      "516:\tlearn: 0.1184281\ttotal: 490ms\tremaining: 458ms\n",
      "517:\tlearn: 0.1181035\ttotal: 491ms\tremaining: 457ms\n",
      "518:\tlearn: 0.1178331\ttotal: 492ms\tremaining: 456ms\n",
      "519:\tlearn: 0.1176455\ttotal: 493ms\tremaining: 455ms\n",
      "520:\tlearn: 0.1173611\ttotal: 493ms\tremaining: 454ms\n",
      "521:\tlearn: 0.1172942\ttotal: 494ms\tremaining: 452ms\n",
      "522:\tlearn: 0.1171046\ttotal: 495ms\tremaining: 452ms\n",
      "523:\tlearn: 0.1170149\ttotal: 496ms\tremaining: 450ms\n",
      "524:\tlearn: 0.1169315\ttotal: 497ms\tremaining: 450ms\n",
      "525:\tlearn: 0.1167031\ttotal: 498ms\tremaining: 449ms\n",
      "526:\tlearn: 0.1166271\ttotal: 499ms\tremaining: 448ms\n",
      "527:\tlearn: 0.1165030\ttotal: 500ms\tremaining: 447ms\n",
      "528:\tlearn: 0.1161796\ttotal: 501ms\tremaining: 446ms\n",
      "529:\tlearn: 0.1159377\ttotal: 501ms\tremaining: 445ms\n",
      "530:\tlearn: 0.1158643\ttotal: 502ms\tremaining: 444ms\n",
      "531:\tlearn: 0.1156961\ttotal: 503ms\tremaining: 443ms\n",
      "532:\tlearn: 0.1154317\ttotal: 504ms\tremaining: 442ms\n",
      "533:\tlearn: 0.1152923\ttotal: 505ms\tremaining: 441ms\n",
      "534:\tlearn: 0.1151663\ttotal: 506ms\tremaining: 440ms\n",
      "535:\tlearn: 0.1149175\ttotal: 506ms\tremaining: 438ms\n",
      "536:\tlearn: 0.1146379\ttotal: 507ms\tremaining: 437ms\n",
      "537:\tlearn: 0.1144581\ttotal: 508ms\tremaining: 436ms\n",
      "538:\tlearn: 0.1141517\ttotal: 509ms\tremaining: 435ms\n",
      "539:\tlearn: 0.1138473\ttotal: 509ms\tremaining: 434ms\n",
      "540:\tlearn: 0.1136029\ttotal: 510ms\tremaining: 433ms\n",
      "541:\tlearn: 0.1133837\ttotal: 511ms\tremaining: 432ms\n",
      "542:\tlearn: 0.1131831\ttotal: 512ms\tremaining: 431ms\n",
      "543:\tlearn: 0.1129725\ttotal: 513ms\tremaining: 430ms\n",
      "544:\tlearn: 0.1127515\ttotal: 513ms\tremaining: 429ms\n",
      "545:\tlearn: 0.1124805\ttotal: 514ms\tremaining: 428ms\n",
      "546:\tlearn: 0.1122080\ttotal: 515ms\tremaining: 427ms\n",
      "547:\tlearn: 0.1119734\ttotal: 516ms\tremaining: 426ms\n",
      "548:\tlearn: 0.1117273\ttotal: 517ms\tremaining: 425ms\n",
      "549:\tlearn: 0.1116220\ttotal: 518ms\tremaining: 424ms\n",
      "550:\tlearn: 0.1114558\ttotal: 519ms\tremaining: 423ms\n",
      "551:\tlearn: 0.1112681\ttotal: 520ms\tremaining: 422ms\n",
      "552:\tlearn: 0.1110170\ttotal: 520ms\tremaining: 421ms\n",
      "553:\tlearn: 0.1109345\ttotal: 521ms\tremaining: 420ms\n",
      "554:\tlearn: 0.1107312\ttotal: 522ms\tremaining: 419ms\n"
     ]
    },
    {
     "name": "stdout",
     "output_type": "stream",
     "text": [
      "555:\tlearn: 0.1106523\ttotal: 523ms\tremaining: 418ms\n",
      "556:\tlearn: 0.1104559\ttotal: 524ms\tremaining: 417ms\n",
      "557:\tlearn: 0.1102250\ttotal: 525ms\tremaining: 416ms\n",
      "558:\tlearn: 0.1100943\ttotal: 526ms\tremaining: 415ms\n",
      "559:\tlearn: 0.1099298\ttotal: 526ms\tremaining: 414ms\n",
      "560:\tlearn: 0.1096712\ttotal: 527ms\tremaining: 413ms\n",
      "561:\tlearn: 0.1093882\ttotal: 528ms\tremaining: 412ms\n",
      "562:\tlearn: 0.1092525\ttotal: 530ms\tremaining: 411ms\n",
      "563:\tlearn: 0.1090611\ttotal: 530ms\tremaining: 410ms\n",
      "564:\tlearn: 0.1088841\ttotal: 531ms\tremaining: 409ms\n",
      "565:\tlearn: 0.1086742\ttotal: 532ms\tremaining: 408ms\n",
      "566:\tlearn: 0.1084409\ttotal: 533ms\tremaining: 407ms\n",
      "567:\tlearn: 0.1081985\ttotal: 534ms\tremaining: 406ms\n",
      "568:\tlearn: 0.1080866\ttotal: 535ms\tremaining: 405ms\n",
      "569:\tlearn: 0.1078123\ttotal: 536ms\tremaining: 404ms\n",
      "570:\tlearn: 0.1077754\ttotal: 536ms\tremaining: 403ms\n",
      "571:\tlearn: 0.1075942\ttotal: 537ms\tremaining: 402ms\n",
      "572:\tlearn: 0.1074346\ttotal: 538ms\tremaining: 401ms\n",
      "573:\tlearn: 0.1071800\ttotal: 540ms\tremaining: 401ms\n",
      "574:\tlearn: 0.1069847\ttotal: 541ms\tremaining: 400ms\n",
      "575:\tlearn: 0.1068473\ttotal: 542ms\tremaining: 399ms\n",
      "576:\tlearn: 0.1066080\ttotal: 544ms\tremaining: 399ms\n",
      "577:\tlearn: 0.1063979\ttotal: 545ms\tremaining: 398ms\n",
      "578:\tlearn: 0.1062634\ttotal: 546ms\tremaining: 397ms\n",
      "579:\tlearn: 0.1060692\ttotal: 547ms\tremaining: 396ms\n",
      "580:\tlearn: 0.1057922\ttotal: 547ms\tremaining: 395ms\n",
      "581:\tlearn: 0.1055757\ttotal: 548ms\tremaining: 394ms\n",
      "582:\tlearn: 0.1053843\ttotal: 549ms\tremaining: 393ms\n",
      "583:\tlearn: 0.1051705\ttotal: 550ms\tremaining: 392ms\n",
      "584:\tlearn: 0.1049718\ttotal: 551ms\tremaining: 391ms\n",
      "585:\tlearn: 0.1048055\ttotal: 552ms\tremaining: 390ms\n",
      "586:\tlearn: 0.1046296\ttotal: 553ms\tremaining: 389ms\n",
      "587:\tlearn: 0.1044147\ttotal: 553ms\tremaining: 388ms\n",
      "588:\tlearn: 0.1042574\ttotal: 554ms\tremaining: 387ms\n",
      "589:\tlearn: 0.1040275\ttotal: 555ms\tremaining: 386ms\n",
      "590:\tlearn: 0.1039696\ttotal: 556ms\tremaining: 385ms\n",
      "591:\tlearn: 0.1037922\ttotal: 557ms\tremaining: 384ms\n",
      "592:\tlearn: 0.1035644\ttotal: 558ms\tremaining: 383ms\n",
      "593:\tlearn: 0.1033446\ttotal: 559ms\tremaining: 382ms\n",
      "594:\tlearn: 0.1031321\ttotal: 560ms\tremaining: 381ms\n",
      "595:\tlearn: 0.1029141\ttotal: 561ms\tremaining: 380ms\n",
      "596:\tlearn: 0.1026599\ttotal: 562ms\tremaining: 379ms\n",
      "597:\tlearn: 0.1025904\ttotal: 563ms\tremaining: 378ms\n",
      "598:\tlearn: 0.1025511\ttotal: 564ms\tremaining: 377ms\n",
      "599:\tlearn: 0.1023400\ttotal: 564ms\tremaining: 376ms\n",
      "600:\tlearn: 0.1021551\ttotal: 565ms\tremaining: 375ms\n",
      "601:\tlearn: 0.1019911\ttotal: 566ms\tremaining: 375ms\n",
      "602:\tlearn: 0.1017453\ttotal: 567ms\tremaining: 374ms\n",
      "603:\tlearn: 0.1015471\ttotal: 568ms\tremaining: 372ms\n",
      "604:\tlearn: 0.1014052\ttotal: 569ms\tremaining: 371ms\n",
      "605:\tlearn: 0.1012182\ttotal: 570ms\tremaining: 371ms\n",
      "606:\tlearn: 0.1010082\ttotal: 571ms\tremaining: 370ms\n",
      "607:\tlearn: 0.1009776\ttotal: 572ms\tremaining: 369ms\n",
      "608:\tlearn: 0.1009492\ttotal: 573ms\tremaining: 368ms\n",
      "609:\tlearn: 0.1007530\ttotal: 574ms\tremaining: 367ms\n",
      "610:\tlearn: 0.1006050\ttotal: 574ms\tremaining: 366ms\n",
      "611:\tlearn: 0.1004045\ttotal: 575ms\tremaining: 365ms\n",
      "612:\tlearn: 0.1002704\ttotal: 576ms\tremaining: 364ms\n",
      "613:\tlearn: 0.1001616\ttotal: 577ms\tremaining: 363ms\n",
      "614:\tlearn: 0.0999476\ttotal: 578ms\tremaining: 362ms\n",
      "615:\tlearn: 0.0997469\ttotal: 579ms\tremaining: 361ms\n",
      "616:\tlearn: 0.0996507\ttotal: 580ms\tremaining: 360ms\n",
      "617:\tlearn: 0.0994358\ttotal: 581ms\tremaining: 359ms\n",
      "618:\tlearn: 0.0992289\ttotal: 581ms\tremaining: 358ms\n",
      "619:\tlearn: 0.0989535\ttotal: 582ms\tremaining: 357ms\n",
      "620:\tlearn: 0.0989269\ttotal: 583ms\tremaining: 356ms\n",
      "621:\tlearn: 0.0987512\ttotal: 584ms\tremaining: 355ms\n",
      "622:\tlearn: 0.0985805\ttotal: 585ms\tremaining: 354ms\n",
      "623:\tlearn: 0.0984018\ttotal: 586ms\tremaining: 353ms\n",
      "624:\tlearn: 0.0981423\ttotal: 587ms\tremaining: 352ms\n",
      "625:\tlearn: 0.0979288\ttotal: 588ms\tremaining: 351ms\n",
      "626:\tlearn: 0.0977453\ttotal: 588ms\tremaining: 350ms\n",
      "627:\tlearn: 0.0976569\ttotal: 589ms\tremaining: 349ms\n",
      "628:\tlearn: 0.0974472\ttotal: 590ms\tremaining: 348ms\n",
      "629:\tlearn: 0.0972922\ttotal: 590ms\tremaining: 347ms\n",
      "630:\tlearn: 0.0971485\ttotal: 591ms\tremaining: 346ms\n",
      "631:\tlearn: 0.0970231\ttotal: 592ms\tremaining: 345ms\n",
      "632:\tlearn: 0.0969738\ttotal: 593ms\tremaining: 344ms\n",
      "633:\tlearn: 0.0967303\ttotal: 594ms\tremaining: 343ms\n",
      "634:\tlearn: 0.0965687\ttotal: 595ms\tremaining: 342ms\n",
      "635:\tlearn: 0.0964852\ttotal: 595ms\tremaining: 341ms\n",
      "636:\tlearn: 0.0964394\ttotal: 596ms\tremaining: 340ms\n",
      "637:\tlearn: 0.0962504\ttotal: 597ms\tremaining: 339ms\n",
      "638:\tlearn: 0.0960588\ttotal: 598ms\tremaining: 338ms\n",
      "639:\tlearn: 0.0960118\ttotal: 599ms\tremaining: 337ms\n",
      "640:\tlearn: 0.0959103\ttotal: 600ms\tremaining: 336ms\n",
      "641:\tlearn: 0.0958502\ttotal: 601ms\tremaining: 335ms\n",
      "642:\tlearn: 0.0958245\ttotal: 602ms\tremaining: 334ms\n",
      "643:\tlearn: 0.0956996\ttotal: 603ms\tremaining: 333ms\n",
      "644:\tlearn: 0.0955732\ttotal: 604ms\tremaining: 332ms\n",
      "645:\tlearn: 0.0955147\ttotal: 604ms\tremaining: 331ms\n",
      "646:\tlearn: 0.0953792\ttotal: 605ms\tremaining: 330ms\n",
      "647:\tlearn: 0.0952910\ttotal: 606ms\tremaining: 329ms\n",
      "648:\tlearn: 0.0951485\ttotal: 607ms\tremaining: 328ms\n",
      "649:\tlearn: 0.0950382\ttotal: 608ms\tremaining: 327ms\n",
      "650:\tlearn: 0.0948852\ttotal: 608ms\tremaining: 326ms\n",
      "651:\tlearn: 0.0947551\ttotal: 609ms\tremaining: 325ms\n",
      "652:\tlearn: 0.0945438\ttotal: 610ms\tremaining: 324ms\n",
      "653:\tlearn: 0.0943748\ttotal: 611ms\tremaining: 323ms\n",
      "654:\tlearn: 0.0942780\ttotal: 612ms\tremaining: 322ms\n",
      "655:\tlearn: 0.0941368\ttotal: 613ms\tremaining: 321ms\n",
      "656:\tlearn: 0.0940108\ttotal: 613ms\tremaining: 320ms\n",
      "657:\tlearn: 0.0938967\ttotal: 614ms\tremaining: 319ms\n",
      "658:\tlearn: 0.0936942\ttotal: 615ms\tremaining: 318ms\n",
      "659:\tlearn: 0.0934681\ttotal: 616ms\tremaining: 317ms\n",
      "660:\tlearn: 0.0932906\ttotal: 617ms\tremaining: 316ms\n",
      "661:\tlearn: 0.0931742\ttotal: 618ms\tremaining: 315ms\n",
      "662:\tlearn: 0.0931134\ttotal: 618ms\tremaining: 314ms\n",
      "663:\tlearn: 0.0929414\ttotal: 620ms\tremaining: 314ms\n",
      "664:\tlearn: 0.0927395\ttotal: 621ms\tremaining: 313ms\n",
      "665:\tlearn: 0.0925780\ttotal: 622ms\tremaining: 312ms\n",
      "666:\tlearn: 0.0924328\ttotal: 622ms\tremaining: 311ms\n",
      "667:\tlearn: 0.0923182\ttotal: 623ms\tremaining: 310ms\n",
      "668:\tlearn: 0.0921765\ttotal: 624ms\tremaining: 309ms\n",
      "669:\tlearn: 0.0920944\ttotal: 625ms\tremaining: 308ms\n",
      "670:\tlearn: 0.0919523\ttotal: 626ms\tremaining: 307ms\n",
      "671:\tlearn: 0.0919170\ttotal: 626ms\tremaining: 306ms\n",
      "672:\tlearn: 0.0917215\ttotal: 627ms\tremaining: 305ms\n",
      "673:\tlearn: 0.0915491\ttotal: 628ms\tremaining: 304ms\n",
      "674:\tlearn: 0.0913572\ttotal: 629ms\tremaining: 303ms\n",
      "675:\tlearn: 0.0911464\ttotal: 630ms\tremaining: 302ms\n",
      "676:\tlearn: 0.0910760\ttotal: 630ms\tremaining: 301ms\n",
      "677:\tlearn: 0.0909935\ttotal: 631ms\tremaining: 300ms\n",
      "678:\tlearn: 0.0908051\ttotal: 632ms\tremaining: 299ms\n",
      "679:\tlearn: 0.0906075\ttotal: 633ms\tremaining: 298ms\n",
      "680:\tlearn: 0.0903211\ttotal: 634ms\tremaining: 297ms\n",
      "681:\tlearn: 0.0901778\ttotal: 634ms\tremaining: 296ms\n",
      "682:\tlearn: 0.0899614\ttotal: 635ms\tremaining: 295ms\n",
      "683:\tlearn: 0.0897866\ttotal: 636ms\tremaining: 294ms\n",
      "684:\tlearn: 0.0896746\ttotal: 637ms\tremaining: 293ms\n",
      "685:\tlearn: 0.0895804\ttotal: 638ms\tremaining: 292ms\n",
      "686:\tlearn: 0.0894199\ttotal: 639ms\tremaining: 291ms\n",
      "687:\tlearn: 0.0892356\ttotal: 639ms\tremaining: 290ms\n",
      "688:\tlearn: 0.0891187\ttotal: 640ms\tremaining: 289ms\n",
      "689:\tlearn: 0.0890216\ttotal: 641ms\tremaining: 288ms\n",
      "690:\tlearn: 0.0888506\ttotal: 642ms\tremaining: 287ms\n",
      "691:\tlearn: 0.0887001\ttotal: 643ms\tremaining: 286ms\n",
      "692:\tlearn: 0.0885273\ttotal: 643ms\tremaining: 285ms\n",
      "693:\tlearn: 0.0883852\ttotal: 644ms\tremaining: 284ms\n",
      "694:\tlearn: 0.0882205\ttotal: 645ms\tremaining: 283ms\n",
      "695:\tlearn: 0.0880051\ttotal: 646ms\tremaining: 282ms\n"
     ]
    },
    {
     "name": "stdout",
     "output_type": "stream",
     "text": [
      "696:\tlearn: 0.0878846\ttotal: 647ms\tremaining: 281ms\n",
      "697:\tlearn: 0.0877935\ttotal: 648ms\tremaining: 280ms\n",
      "698:\tlearn: 0.0876676\ttotal: 648ms\tremaining: 279ms\n",
      "699:\tlearn: 0.0875691\ttotal: 649ms\tremaining: 278ms\n",
      "700:\tlearn: 0.0873945\ttotal: 650ms\tremaining: 277ms\n",
      "701:\tlearn: 0.0873568\ttotal: 651ms\tremaining: 276ms\n",
      "702:\tlearn: 0.0872836\ttotal: 652ms\tremaining: 275ms\n",
      "703:\tlearn: 0.0871693\ttotal: 653ms\tremaining: 275ms\n",
      "704:\tlearn: 0.0871380\ttotal: 654ms\tremaining: 274ms\n",
      "705:\tlearn: 0.0870000\ttotal: 655ms\tremaining: 273ms\n",
      "706:\tlearn: 0.0869136\ttotal: 656ms\tremaining: 272ms\n",
      "707:\tlearn: 0.0868177\ttotal: 656ms\tremaining: 271ms\n",
      "708:\tlearn: 0.0867031\ttotal: 657ms\tremaining: 270ms\n",
      "709:\tlearn: 0.0865427\ttotal: 658ms\tremaining: 269ms\n",
      "710:\tlearn: 0.0863924\ttotal: 659ms\tremaining: 268ms\n",
      "711:\tlearn: 0.0862436\ttotal: 659ms\tremaining: 267ms\n",
      "712:\tlearn: 0.0860609\ttotal: 660ms\tremaining: 266ms\n",
      "713:\tlearn: 0.0859196\ttotal: 661ms\tremaining: 265ms\n",
      "714:\tlearn: 0.0857678\ttotal: 662ms\tremaining: 264ms\n",
      "715:\tlearn: 0.0855828\ttotal: 663ms\tremaining: 263ms\n",
      "716:\tlearn: 0.0855295\ttotal: 663ms\tremaining: 262ms\n",
      "717:\tlearn: 0.0853447\ttotal: 664ms\tremaining: 261ms\n",
      "718:\tlearn: 0.0852472\ttotal: 665ms\tremaining: 260ms\n",
      "719:\tlearn: 0.0851171\ttotal: 666ms\tremaining: 259ms\n",
      "720:\tlearn: 0.0850709\ttotal: 667ms\tremaining: 258ms\n",
      "721:\tlearn: 0.0850452\ttotal: 668ms\tremaining: 257ms\n",
      "722:\tlearn: 0.0848537\ttotal: 668ms\tremaining: 256ms\n",
      "723:\tlearn: 0.0847750\ttotal: 669ms\tremaining: 255ms\n",
      "724:\tlearn: 0.0846257\ttotal: 670ms\tremaining: 254ms\n",
      "725:\tlearn: 0.0844600\ttotal: 671ms\tremaining: 253ms\n",
      "726:\tlearn: 0.0842793\ttotal: 672ms\tremaining: 252ms\n",
      "727:\tlearn: 0.0841358\ttotal: 672ms\tremaining: 251ms\n",
      "728:\tlearn: 0.0839670\ttotal: 673ms\tremaining: 250ms\n",
      "729:\tlearn: 0.0839214\ttotal: 674ms\tremaining: 249ms\n",
      "730:\tlearn: 0.0838723\ttotal: 675ms\tremaining: 248ms\n",
      "731:\tlearn: 0.0837178\ttotal: 676ms\tremaining: 248ms\n",
      "732:\tlearn: 0.0835559\ttotal: 677ms\tremaining: 247ms\n",
      "733:\tlearn: 0.0834878\ttotal: 678ms\tremaining: 246ms\n",
      "734:\tlearn: 0.0833548\ttotal: 679ms\tremaining: 245ms\n",
      "735:\tlearn: 0.0831980\ttotal: 680ms\tremaining: 244ms\n",
      "736:\tlearn: 0.0830389\ttotal: 680ms\tremaining: 243ms\n",
      "737:\tlearn: 0.0829890\ttotal: 681ms\tremaining: 242ms\n",
      "738:\tlearn: 0.0829624\ttotal: 682ms\tremaining: 241ms\n",
      "739:\tlearn: 0.0829275\ttotal: 683ms\tremaining: 240ms\n",
      "740:\tlearn: 0.0827930\ttotal: 684ms\tremaining: 239ms\n",
      "741:\tlearn: 0.0826453\ttotal: 685ms\tremaining: 238ms\n",
      "742:\tlearn: 0.0825799\ttotal: 685ms\tremaining: 237ms\n",
      "743:\tlearn: 0.0824017\ttotal: 686ms\tremaining: 236ms\n",
      "744:\tlearn: 0.0822877\ttotal: 687ms\tremaining: 235ms\n",
      "745:\tlearn: 0.0821984\ttotal: 688ms\tremaining: 234ms\n",
      "746:\tlearn: 0.0820518\ttotal: 688ms\tremaining: 233ms\n",
      "747:\tlearn: 0.0818903\ttotal: 689ms\tremaining: 232ms\n",
      "748:\tlearn: 0.0817876\ttotal: 690ms\tremaining: 231ms\n",
      "749:\tlearn: 0.0816649\ttotal: 691ms\tremaining: 230ms\n",
      "750:\tlearn: 0.0814897\ttotal: 692ms\tremaining: 229ms\n",
      "751:\tlearn: 0.0814157\ttotal: 693ms\tremaining: 229ms\n",
      "752:\tlearn: 0.0812897\ttotal: 694ms\tremaining: 228ms\n",
      "753:\tlearn: 0.0811937\ttotal: 695ms\tremaining: 227ms\n",
      "754:\tlearn: 0.0810290\ttotal: 696ms\tremaining: 226ms\n",
      "755:\tlearn: 0.0809348\ttotal: 697ms\tremaining: 225ms\n"
     ]
    },
    {
     "name": "stdout",
     "output_type": "stream",
     "text": [
      "756:\tlearn: 0.0808137\ttotal: 698ms\tremaining: 224ms\n",
      "757:\tlearn: 0.0807754\ttotal: 699ms\tremaining: 223ms\n",
      "758:\tlearn: 0.0805891\ttotal: 700ms\tremaining: 222ms\n",
      "759:\tlearn: 0.0804928\ttotal: 700ms\tremaining: 221ms\n",
      "760:\tlearn: 0.0802810\ttotal: 701ms\tremaining: 220ms\n",
      "761:\tlearn: 0.0801993\ttotal: 702ms\tremaining: 219ms\n",
      "762:\tlearn: 0.0800980\ttotal: 703ms\tremaining: 218ms\n",
      "763:\tlearn: 0.0799671\ttotal: 704ms\tremaining: 217ms\n",
      "764:\tlearn: 0.0797566\ttotal: 705ms\tremaining: 216ms\n",
      "765:\tlearn: 0.0795884\ttotal: 706ms\tremaining: 216ms\n",
      "766:\tlearn: 0.0795067\ttotal: 706ms\tremaining: 215ms\n",
      "767:\tlearn: 0.0793706\ttotal: 707ms\tremaining: 214ms\n",
      "768:\tlearn: 0.0792029\ttotal: 708ms\tremaining: 213ms\n",
      "769:\tlearn: 0.0790691\ttotal: 710ms\tremaining: 212ms\n",
      "770:\tlearn: 0.0790262\ttotal: 712ms\tremaining: 211ms\n",
      "771:\tlearn: 0.0788963\ttotal: 713ms\tremaining: 210ms\n",
      "772:\tlearn: 0.0788179\ttotal: 713ms\tremaining: 209ms\n",
      "773:\tlearn: 0.0786800\ttotal: 714ms\tremaining: 209ms\n",
      "774:\tlearn: 0.0784650\ttotal: 715ms\tremaining: 208ms\n",
      "775:\tlearn: 0.0784276\ttotal: 716ms\tremaining: 207ms\n",
      "776:\tlearn: 0.0783763\ttotal: 716ms\tremaining: 206ms\n",
      "777:\tlearn: 0.0782089\ttotal: 717ms\tremaining: 205ms\n",
      "778:\tlearn: 0.0781605\ttotal: 718ms\tremaining: 204ms\n",
      "779:\tlearn: 0.0781305\ttotal: 719ms\tremaining: 203ms\n",
      "780:\tlearn: 0.0779743\ttotal: 720ms\tremaining: 202ms\n",
      "781:\tlearn: 0.0778688\ttotal: 721ms\tremaining: 201ms\n",
      "782:\tlearn: 0.0778106\ttotal: 722ms\tremaining: 200ms\n",
      "783:\tlearn: 0.0777353\ttotal: 723ms\tremaining: 199ms\n",
      "784:\tlearn: 0.0776493\ttotal: 724ms\tremaining: 198ms\n",
      "785:\tlearn: 0.0775498\ttotal: 725ms\tremaining: 197ms\n",
      "786:\tlearn: 0.0774126\ttotal: 725ms\tremaining: 196ms\n",
      "787:\tlearn: 0.0773307\ttotal: 726ms\tremaining: 195ms\n",
      "788:\tlearn: 0.0772490\ttotal: 727ms\tremaining: 194ms\n",
      "789:\tlearn: 0.0771589\ttotal: 728ms\tremaining: 193ms\n",
      "790:\tlearn: 0.0770415\ttotal: 729ms\tremaining: 193ms\n",
      "791:\tlearn: 0.0768824\ttotal: 730ms\tremaining: 192ms\n",
      "792:\tlearn: 0.0767174\ttotal: 730ms\tremaining: 191ms\n",
      "793:\tlearn: 0.0765708\ttotal: 731ms\tremaining: 190ms\n",
      "794:\tlearn: 0.0764783\ttotal: 732ms\tremaining: 189ms\n",
      "795:\tlearn: 0.0763551\ttotal: 733ms\tremaining: 188ms\n",
      "796:\tlearn: 0.0762736\ttotal: 734ms\tremaining: 187ms\n",
      "797:\tlearn: 0.0762127\ttotal: 735ms\tremaining: 186ms\n",
      "798:\tlearn: 0.0760444\ttotal: 736ms\tremaining: 185ms\n",
      "799:\tlearn: 0.0759632\ttotal: 737ms\tremaining: 184ms\n",
      "800:\tlearn: 0.0759004\ttotal: 738ms\tremaining: 183ms\n",
      "801:\tlearn: 0.0757656\ttotal: 738ms\tremaining: 182ms\n",
      "802:\tlearn: 0.0757311\ttotal: 739ms\tremaining: 181ms\n",
      "803:\tlearn: 0.0755060\ttotal: 740ms\tremaining: 180ms\n",
      "804:\tlearn: 0.0753760\ttotal: 741ms\tremaining: 180ms\n",
      "805:\tlearn: 0.0752973\ttotal: 742ms\tremaining: 179ms\n",
      "806:\tlearn: 0.0752075\ttotal: 743ms\tremaining: 178ms\n",
      "807:\tlearn: 0.0751117\ttotal: 744ms\tremaining: 177ms\n",
      "808:\tlearn: 0.0750339\ttotal: 745ms\tremaining: 176ms\n",
      "809:\tlearn: 0.0749229\ttotal: 746ms\tremaining: 175ms\n",
      "810:\tlearn: 0.0748110\ttotal: 746ms\tremaining: 174ms\n",
      "811:\tlearn: 0.0746635\ttotal: 747ms\tremaining: 173ms\n",
      "812:\tlearn: 0.0746294\ttotal: 748ms\tremaining: 172ms\n",
      "813:\tlearn: 0.0745289\ttotal: 749ms\tremaining: 171ms\n",
      "814:\tlearn: 0.0744155\ttotal: 750ms\tremaining: 170ms\n",
      "815:\tlearn: 0.0743338\ttotal: 751ms\tremaining: 169ms\n",
      "816:\tlearn: 0.0742608\ttotal: 752ms\tremaining: 168ms\n",
      "817:\tlearn: 0.0742163\ttotal: 752ms\tremaining: 167ms\n",
      "818:\tlearn: 0.0740499\ttotal: 753ms\tremaining: 166ms\n",
      "819:\tlearn: 0.0739252\ttotal: 754ms\tremaining: 166ms\n",
      "820:\tlearn: 0.0738822\ttotal: 755ms\tremaining: 165ms\n",
      "821:\tlearn: 0.0738181\ttotal: 756ms\tremaining: 164ms\n",
      "822:\tlearn: 0.0737850\ttotal: 756ms\tremaining: 163ms\n",
      "823:\tlearn: 0.0736351\ttotal: 757ms\tremaining: 162ms\n",
      "824:\tlearn: 0.0735894\ttotal: 758ms\tremaining: 161ms\n",
      "825:\tlearn: 0.0735450\ttotal: 759ms\tremaining: 160ms\n",
      "826:\tlearn: 0.0733861\ttotal: 760ms\tremaining: 159ms\n",
      "827:\tlearn: 0.0732280\ttotal: 760ms\tremaining: 158ms\n",
      "828:\tlearn: 0.0731002\ttotal: 761ms\tremaining: 157ms\n",
      "829:\tlearn: 0.0730338\ttotal: 762ms\tremaining: 156ms\n",
      "830:\tlearn: 0.0729123\ttotal: 763ms\tremaining: 155ms\n",
      "831:\tlearn: 0.0728158\ttotal: 764ms\tremaining: 154ms\n",
      "832:\tlearn: 0.0727090\ttotal: 764ms\tremaining: 153ms\n",
      "833:\tlearn: 0.0725654\ttotal: 765ms\tremaining: 152ms\n",
      "834:\tlearn: 0.0725225\ttotal: 766ms\tremaining: 151ms\n",
      "835:\tlearn: 0.0724240\ttotal: 767ms\tremaining: 150ms\n",
      "836:\tlearn: 0.0722664\ttotal: 768ms\tremaining: 150ms\n",
      "837:\tlearn: 0.0721292\ttotal: 769ms\tremaining: 149ms\n",
      "838:\tlearn: 0.0720410\ttotal: 769ms\tremaining: 148ms\n",
      "839:\tlearn: 0.0719313\ttotal: 771ms\tremaining: 147ms\n",
      "840:\tlearn: 0.0718863\ttotal: 772ms\tremaining: 146ms\n",
      "841:\tlearn: 0.0717158\ttotal: 773ms\tremaining: 145ms\n",
      "842:\tlearn: 0.0716542\ttotal: 773ms\tremaining: 144ms\n",
      "843:\tlearn: 0.0715672\ttotal: 774ms\tremaining: 143ms\n",
      "844:\tlearn: 0.0714825\ttotal: 775ms\tremaining: 142ms\n",
      "845:\tlearn: 0.0713920\ttotal: 776ms\tremaining: 141ms\n",
      "846:\tlearn: 0.0712698\ttotal: 777ms\tremaining: 140ms\n",
      "847:\tlearn: 0.0711347\ttotal: 777ms\tremaining: 139ms\n",
      "848:\tlearn: 0.0711053\ttotal: 778ms\tremaining: 138ms\n",
      "849:\tlearn: 0.0709924\ttotal: 779ms\tremaining: 137ms\n",
      "850:\tlearn: 0.0708462\ttotal: 780ms\tremaining: 137ms\n",
      "851:\tlearn: 0.0708169\ttotal: 781ms\tremaining: 136ms\n",
      "852:\tlearn: 0.0707151\ttotal: 781ms\tremaining: 135ms\n",
      "853:\tlearn: 0.0706803\ttotal: 782ms\tremaining: 134ms\n",
      "854:\tlearn: 0.0706173\ttotal: 783ms\tremaining: 133ms\n",
      "855:\tlearn: 0.0705080\ttotal: 784ms\tremaining: 132ms\n",
      "856:\tlearn: 0.0704779\ttotal: 785ms\tremaining: 131ms\n",
      "857:\tlearn: 0.0703628\ttotal: 785ms\tremaining: 130ms\n",
      "858:\tlearn: 0.0702345\ttotal: 786ms\tremaining: 129ms\n",
      "859:\tlearn: 0.0701089\ttotal: 787ms\tremaining: 128ms\n",
      "860:\tlearn: 0.0699837\ttotal: 788ms\tremaining: 127ms\n",
      "861:\tlearn: 0.0698467\ttotal: 789ms\tremaining: 126ms\n",
      "862:\tlearn: 0.0697433\ttotal: 790ms\tremaining: 125ms\n",
      "863:\tlearn: 0.0696473\ttotal: 790ms\tremaining: 124ms\n",
      "864:\tlearn: 0.0695400\ttotal: 792ms\tremaining: 124ms\n",
      "865:\tlearn: 0.0694025\ttotal: 793ms\tremaining: 123ms\n",
      "866:\tlearn: 0.0693726\ttotal: 794ms\tremaining: 122ms\n",
      "867:\tlearn: 0.0692898\ttotal: 794ms\tremaining: 121ms\n",
      "868:\tlearn: 0.0691670\ttotal: 795ms\tremaining: 120ms\n",
      "869:\tlearn: 0.0691251\ttotal: 796ms\tremaining: 119ms\n",
      "870:\tlearn: 0.0689709\ttotal: 797ms\tremaining: 118ms\n",
      "871:\tlearn: 0.0689004\ttotal: 797ms\tremaining: 117ms\n",
      "872:\tlearn: 0.0687599\ttotal: 798ms\tremaining: 116ms\n",
      "873:\tlearn: 0.0686900\ttotal: 799ms\tremaining: 115ms\n",
      "874:\tlearn: 0.0685763\ttotal: 800ms\tremaining: 114ms\n",
      "875:\tlearn: 0.0684570\ttotal: 801ms\tremaining: 113ms\n",
      "876:\tlearn: 0.0683837\ttotal: 801ms\tremaining: 112ms\n",
      "877:\tlearn: 0.0682922\ttotal: 802ms\tremaining: 111ms\n",
      "878:\tlearn: 0.0681983\ttotal: 803ms\tremaining: 111ms\n",
      "879:\tlearn: 0.0681113\ttotal: 804ms\tremaining: 110ms\n",
      "880:\tlearn: 0.0680813\ttotal: 805ms\tremaining: 109ms\n",
      "881:\tlearn: 0.0679601\ttotal: 805ms\tremaining: 108ms\n",
      "882:\tlearn: 0.0678702\ttotal: 806ms\tremaining: 107ms\n",
      "883:\tlearn: 0.0677476\ttotal: 807ms\tremaining: 106ms\n",
      "884:\tlearn: 0.0676578\ttotal: 808ms\tremaining: 105ms\n",
      "885:\tlearn: 0.0675441\ttotal: 808ms\tremaining: 104ms\n",
      "886:\tlearn: 0.0675164\ttotal: 809ms\tremaining: 103ms\n",
      "887:\tlearn: 0.0674817\ttotal: 810ms\tremaining: 102ms\n",
      "888:\tlearn: 0.0673996\ttotal: 811ms\tremaining: 101ms\n",
      "889:\tlearn: 0.0672637\ttotal: 812ms\tremaining: 100ms\n",
      "890:\tlearn: 0.0671489\ttotal: 813ms\tremaining: 99.4ms\n",
      "891:\tlearn: 0.0670260\ttotal: 813ms\tremaining: 98.5ms\n",
      "892:\tlearn: 0.0669330\ttotal: 814ms\tremaining: 97.6ms\n",
      "893:\tlearn: 0.0668382\ttotal: 815ms\tremaining: 96.7ms\n",
      "894:\tlearn: 0.0667573\ttotal: 816ms\tremaining: 95.7ms\n",
      "895:\tlearn: 0.0666870\ttotal: 817ms\tremaining: 94.8ms\n",
      "896:\tlearn: 0.0666512\ttotal: 817ms\tremaining: 93.9ms\n",
      "897:\tlearn: 0.0665211\ttotal: 818ms\tremaining: 93ms\n",
      "898:\tlearn: 0.0664941\ttotal: 819ms\tremaining: 92ms\n",
      "899:\tlearn: 0.0663561\ttotal: 820ms\tremaining: 91.1ms\n"
     ]
    },
    {
     "name": "stdout",
     "output_type": "stream",
     "text": [
      "900:\tlearn: 0.0662814\ttotal: 821ms\tremaining: 90.2ms\n",
      "901:\tlearn: 0.0662013\ttotal: 822ms\tremaining: 89.3ms\n",
      "902:\tlearn: 0.0660875\ttotal: 823ms\tremaining: 88.4ms\n",
      "903:\tlearn: 0.0659668\ttotal: 824ms\tremaining: 87.5ms\n",
      "904:\tlearn: 0.0658876\ttotal: 825ms\tremaining: 86.6ms\n",
      "905:\tlearn: 0.0658297\ttotal: 826ms\tremaining: 85.7ms\n",
      "906:\tlearn: 0.0657413\ttotal: 826ms\tremaining: 84.7ms\n",
      "907:\tlearn: 0.0655877\ttotal: 827ms\tremaining: 83.8ms\n",
      "908:\tlearn: 0.0655265\ttotal: 828ms\tremaining: 82.9ms\n",
      "909:\tlearn: 0.0653988\ttotal: 829ms\tremaining: 82ms\n",
      "910:\tlearn: 0.0653809\ttotal: 830ms\tremaining: 81.1ms\n",
      "911:\tlearn: 0.0653648\ttotal: 831ms\tremaining: 80.1ms\n",
      "912:\tlearn: 0.0652575\ttotal: 831ms\tremaining: 79.2ms\n",
      "913:\tlearn: 0.0651483\ttotal: 833ms\tremaining: 78.4ms\n",
      "914:\tlearn: 0.0650123\ttotal: 834ms\tremaining: 77.4ms\n",
      "915:\tlearn: 0.0649153\ttotal: 834ms\tremaining: 76.5ms\n",
      "916:\tlearn: 0.0647834\ttotal: 835ms\tremaining: 75.6ms\n",
      "917:\tlearn: 0.0646681\ttotal: 836ms\tremaining: 74.7ms\n",
      "918:\tlearn: 0.0645200\ttotal: 837ms\tremaining: 73.8ms\n",
      "919:\tlearn: 0.0643776\ttotal: 838ms\tremaining: 72.9ms\n",
      "920:\tlearn: 0.0643394\ttotal: 839ms\tremaining: 71.9ms\n",
      "921:\tlearn: 0.0643144\ttotal: 840ms\tremaining: 71ms\n",
      "922:\tlearn: 0.0642595\ttotal: 840ms\tremaining: 70.1ms\n",
      "923:\tlearn: 0.0641836\ttotal: 841ms\tremaining: 69.2ms\n",
      "924:\tlearn: 0.0640719\ttotal: 843ms\tremaining: 68.3ms\n",
      "925:\tlearn: 0.0640015\ttotal: 844ms\tremaining: 67.4ms\n",
      "926:\tlearn: 0.0639859\ttotal: 844ms\tremaining: 66.5ms\n",
      "927:\tlearn: 0.0639013\ttotal: 845ms\tremaining: 65.6ms\n",
      "928:\tlearn: 0.0637758\ttotal: 846ms\tremaining: 64.7ms\n",
      "929:\tlearn: 0.0637005\ttotal: 847ms\tremaining: 63.7ms\n",
      "930:\tlearn: 0.0635768\ttotal: 848ms\tremaining: 62.8ms\n",
      "931:\tlearn: 0.0635077\ttotal: 848ms\tremaining: 61.9ms\n",
      "932:\tlearn: 0.0634088\ttotal: 849ms\tremaining: 61ms\n",
      "933:\tlearn: 0.0633697\ttotal: 850ms\tremaining: 60.1ms\n",
      "934:\tlearn: 0.0632147\ttotal: 851ms\tremaining: 59.2ms\n",
      "935:\tlearn: 0.0631491\ttotal: 852ms\tremaining: 58.2ms\n",
      "936:\tlearn: 0.0630868\ttotal: 853ms\tremaining: 57.3ms\n",
      "937:\tlearn: 0.0630045\ttotal: 854ms\tremaining: 56.4ms\n",
      "938:\tlearn: 0.0629355\ttotal: 855ms\tremaining: 55.5ms\n",
      "939:\tlearn: 0.0628391\ttotal: 855ms\tremaining: 54.6ms\n",
      "940:\tlearn: 0.0627597\ttotal: 856ms\tremaining: 53.7ms\n",
      "941:\tlearn: 0.0626650\ttotal: 857ms\tremaining: 52.8ms\n",
      "942:\tlearn: 0.0625966\ttotal: 858ms\tremaining: 51.8ms\n",
      "943:\tlearn: 0.0625359\ttotal: 859ms\tremaining: 50.9ms\n",
      "944:\tlearn: 0.0624469\ttotal: 859ms\tremaining: 50ms\n",
      "945:\tlearn: 0.0623731\ttotal: 860ms\tremaining: 49.1ms\n",
      "946:\tlearn: 0.0623389\ttotal: 861ms\tremaining: 48.2ms\n",
      "947:\tlearn: 0.0622411\ttotal: 862ms\tremaining: 47.3ms\n",
      "948:\tlearn: 0.0621766\ttotal: 863ms\tremaining: 46.4ms\n",
      "949:\tlearn: 0.0620603\ttotal: 863ms\tremaining: 45.4ms\n",
      "950:\tlearn: 0.0619546\ttotal: 864ms\tremaining: 44.5ms\n",
      "951:\tlearn: 0.0618540\ttotal: 865ms\tremaining: 43.6ms\n",
      "952:\tlearn: 0.0617324\ttotal: 866ms\tremaining: 42.7ms\n",
      "953:\tlearn: 0.0616943\ttotal: 866ms\tremaining: 41.8ms\n",
      "954:\tlearn: 0.0616305\ttotal: 867ms\tremaining: 40.9ms\n",
      "955:\tlearn: 0.0615445\ttotal: 868ms\tremaining: 40ms\n",
      "956:\tlearn: 0.0614824\ttotal: 869ms\tremaining: 39ms\n",
      "957:\tlearn: 0.0613908\ttotal: 870ms\tremaining: 38.1ms\n",
      "958:\tlearn: 0.0612998\ttotal: 871ms\tremaining: 37.2ms\n",
      "959:\tlearn: 0.0612414\ttotal: 872ms\tremaining: 36.3ms\n",
      "960:\tlearn: 0.0611003\ttotal: 873ms\tremaining: 35.4ms\n",
      "961:\tlearn: 0.0610062\ttotal: 873ms\tremaining: 34.5ms\n",
      "962:\tlearn: 0.0609785\ttotal: 874ms\tremaining: 33.6ms\n",
      "963:\tlearn: 0.0609634\ttotal: 875ms\tremaining: 32.7ms\n",
      "964:\tlearn: 0.0608960\ttotal: 876ms\tremaining: 31.8ms\n",
      "965:\tlearn: 0.0608577\ttotal: 877ms\tremaining: 30.9ms\n",
      "966:\tlearn: 0.0608119\ttotal: 878ms\tremaining: 29.9ms\n",
      "967:\tlearn: 0.0607934\ttotal: 879ms\tremaining: 29ms\n",
      "968:\tlearn: 0.0606600\ttotal: 879ms\tremaining: 28.1ms\n",
      "969:\tlearn: 0.0605513\ttotal: 880ms\tremaining: 27.2ms\n",
      "970:\tlearn: 0.0604842\ttotal: 881ms\tremaining: 26.3ms\n",
      "971:\tlearn: 0.0604112\ttotal: 882ms\tremaining: 25.4ms\n",
      "972:\tlearn: 0.0603369\ttotal: 883ms\tremaining: 24.5ms\n",
      "973:\tlearn: 0.0602628\ttotal: 884ms\tremaining: 23.6ms\n",
      "974:\tlearn: 0.0601759\ttotal: 884ms\tremaining: 22.7ms\n",
      "975:\tlearn: 0.0601222\ttotal: 885ms\tremaining: 21.8ms\n",
      "976:\tlearn: 0.0600077\ttotal: 886ms\tremaining: 20.9ms\n",
      "977:\tlearn: 0.0599133\ttotal: 887ms\tremaining: 19.9ms\n",
      "978:\tlearn: 0.0598012\ttotal: 888ms\tremaining: 19ms\n"
     ]
    },
    {
     "name": "stdout",
     "output_type": "stream",
     "text": [
      "979:\tlearn: 0.0597363\ttotal: 889ms\tremaining: 18.1ms\n",
      "980:\tlearn: 0.0596510\ttotal: 889ms\tremaining: 17.2ms\n",
      "981:\tlearn: 0.0595953\ttotal: 890ms\tremaining: 16.3ms\n",
      "982:\tlearn: 0.0595034\ttotal: 891ms\tremaining: 15.4ms\n",
      "983:\tlearn: 0.0594101\ttotal: 892ms\tremaining: 14.5ms\n",
      "984:\tlearn: 0.0593917\ttotal: 893ms\tremaining: 13.6ms\n",
      "985:\tlearn: 0.0593159\ttotal: 893ms\tremaining: 12.7ms\n",
      "986:\tlearn: 0.0592707\ttotal: 894ms\tremaining: 11.8ms\n",
      "987:\tlearn: 0.0591996\ttotal: 895ms\tremaining: 10.9ms\n",
      "988:\tlearn: 0.0591675\ttotal: 896ms\tremaining: 9.96ms\n",
      "989:\tlearn: 0.0591119\ttotal: 897ms\tremaining: 9.06ms\n",
      "990:\tlearn: 0.0590196\ttotal: 897ms\tremaining: 8.15ms\n",
      "991:\tlearn: 0.0590000\ttotal: 898ms\tremaining: 7.24ms\n",
      "992:\tlearn: 0.0589419\ttotal: 899ms\tremaining: 6.34ms\n",
      "993:\tlearn: 0.0588899\ttotal: 900ms\tremaining: 5.43ms\n",
      "994:\tlearn: 0.0588430\ttotal: 901ms\tremaining: 4.53ms\n",
      "995:\tlearn: 0.0587583\ttotal: 901ms\tremaining: 3.62ms\n",
      "996:\tlearn: 0.0587179\ttotal: 902ms\tremaining: 2.71ms\n",
      "997:\tlearn: 0.0587066\ttotal: 903ms\tremaining: 1.81ms\n",
      "998:\tlearn: 0.0586590\ttotal: 904ms\tremaining: 904us\n",
      "999:\tlearn: 0.0585922\ttotal: 905ms\tremaining: 0us\n"
     ]
    },
    {
     "data": {
      "text/plain": [
       "<catboost.core.CatBoostRegressor at 0x7fe65ae01df0>"
      ]
     },
     "execution_count": 9,
     "metadata": {},
     "output_type": "execute_result"
    }
   ],
   "source": [
    "#Train the Model \n",
    "prior_model = ctb.CatBoostRegressor()\n",
    "prior_model.fit(X_train,Y_train)"
   ]
  },
  {
   "cell_type": "code",
   "execution_count": 10,
   "id": "af65dcda",
   "metadata": {
    "execution": {
     "iopub.execute_input": "2022-06-12T06:41:40.208617Z",
     "iopub.status.busy": "2022-06-12T06:41:40.208248Z",
     "iopub.status.idle": "2022-06-12T06:41:40.215936Z",
     "shell.execute_reply": "2022-06-12T06:41:40.216221Z"
    },
    "id": "af65dcda",
    "papermill": {
     "duration": 0.021183,
     "end_time": "2022-06-12T06:41:40.216334",
     "exception": false,
     "start_time": "2022-06-12T06:41:40.195151",
     "status": "completed"
    },
    "tags": []
   },
   "outputs": [
    {
     "data": {
      "application/scrapbook.scrap.json+json": {
       "data": 0.10106784377048857,
       "encoder": "json",
       "name": "Prior Model MSE",
       "version": 1
      }
     },
     "metadata": {
      "scrapbook": {
       "data": true,
       "display": false,
       "name": "Prior Model MSE"
      }
     },
     "output_type": "display_data"
    },
    {
     "data": {
      "application/scrapbook.scrap.json+json": {
       "data": 2.1481859661244878,
       "encoder": "json",
       "name": "ABC Pre-generator MSE",
       "version": 1
      }
     },
     "metadata": {
      "scrapbook": {
       "data": true,
       "display": false,
       "name": "ABC Pre-generator MSE"
      }
     },
     "output_type": "display_data"
    },
    {
     "data": {
      "application/scrapbook.scrap.json+json": {
       "data": 0.2339243158360802,
       "encoder": "json",
       "name": "Prior Model MSE",
       "version": 1
      }
     },
     "metadata": {
      "scrapbook": {
       "data": true,
       "display": false,
       "name": "Prior Model MSE"
      }
     },
     "output_type": "display_data"
    },
    {
     "data": {
      "application/scrapbook.scrap.json+json": {
       "data": 1.206106446824247,
       "encoder": "json",
       "name": "ABC Pre-generator MSE",
       "version": 1
      }
     },
     "metadata": {
      "scrapbook": {
       "data": true,
       "display": false,
       "name": "ABC Pre-generator MSE"
      }
     },
     "output_type": "display_data"
    }
   ],
   "source": [
    "y_pred = prior_model.predict(X_test)\n",
    "y_abc = y_pred + np.random.normal(0,variance, y_pred.shape) + bias \n",
    "mse = mean_squared_error(y_pred,Y_test)\n",
    "sb.glue(\"Prior Model MSE\",mse)\n",
    "mse = mean_squared_error(y_abc,Y_test)\n",
    "sb.glue(\"ABC Pre-generator MSE\",mse)\n",
    "mae = mean_absolute_error(y_pred,Y_test)\n",
    "sb.glue(\"Prior Model MSE\",mae)\n",
    "mae = mean_absolute_error(y_abc,Y_test)\n",
    "sb.glue(\"ABC Pre-generator MSE\",mae)"
   ]
  },
  {
   "cell_type": "markdown",
   "id": "25609da2",
   "metadata": {
    "papermill": {
     "duration": 0.009957,
     "end_time": "2022-06-12T06:41:40.236453",
     "exception": false,
     "start_time": "2022-06-12T06:41:40.226496",
     "status": "completed"
    },
    "tags": []
   },
   "source": [
    "# ABC GAN Model"
   ]
  },
  {
   "cell_type": "code",
   "execution_count": 11,
   "id": "dfc3464d",
   "metadata": {
    "execution": {
     "iopub.execute_input": "2022-06-12T06:41:40.259673Z",
     "iopub.status.busy": "2022-06-12T06:41:40.259308Z",
     "iopub.status.idle": "2022-06-12T06:41:40.261755Z",
     "shell.execute_reply": "2022-06-12T06:41:40.261994Z"
    },
    "papermill": {
     "duration": 0.015594,
     "end_time": "2022-06-12T06:41:40.262103",
     "exception": false,
     "start_time": "2022-06-12T06:41:40.246509",
     "status": "completed"
    },
    "tags": []
   },
   "outputs": [],
   "source": [
    "gen = network.Generator(n_features+1).to(device)\n",
    "disc = network.Discriminator(n_features+1).to(device)\n",
    "\n",
    "criterion = torch.nn.BCELoss()\n",
    "gen_opt = torch.optim.Adam(gen.parameters(), lr=0.001, betas=(0.5, 0.999))\n",
    "disc_opt = torch.optim.Adam(disc.parameters(), lr=0.001, betas=(0.5, 0.999))"
   ]
  },
  {
   "cell_type": "code",
   "execution_count": 12,
   "id": "b75fdd85",
   "metadata": {
    "execution": {
     "iopub.execute_input": "2022-06-12T06:41:40.285200Z",
     "iopub.status.busy": "2022-06-12T06:41:40.284772Z",
     "iopub.status.idle": "2022-06-12T06:42:42.516086Z",
     "shell.execute_reply": "2022-06-12T06:42:42.516389Z"
    },
    "papermill": {
     "duration": 62.244184,
     "end_time": "2022-06-12T06:42:42.516508",
     "exception": false,
     "start_time": "2022-06-12T06:41:40.272324",
     "status": "completed"
    },
    "tags": []
   },
   "outputs": [
    {
     "data": {
      "image/png": "[encoded data removed]",
      "text/plain": [
       "<Figure size 432x288 with 1 Axes>"
      ]
     },
     "metadata": {
      "needs_background": "light"
     },
     "output_type": "display_data"
    },
    {
     "data": {
      "image/png": "[encoded data removed]",
      "text/plain": [
       "<Figure size 432x288 with 1 Axes>"
      ]
     },
     "metadata": {
      "needs_background": "light"
     },
     "output_type": "display_data"
    }
   ],
   "source": [
    "#Training the ABC_GAN \n",
    "ABC_train_test2.training_GAN(disc,gen,disc_opt,gen_opt,train_data,batch_size,n_epochs,criterion,prior_model,variance,bias,device)"
   ]
  },
  {
   "cell_type": "code",
   "execution_count": 13,
   "id": "1fa7c368",
   "metadata": {
    "execution": {
     "iopub.execute_input": "2022-06-12T06:42:42.541457Z",
     "iopub.status.busy": "2022-06-12T06:42:42.541058Z",
     "iopub.status.idle": "2022-06-12T06:42:42.860724Z",
     "shell.execute_reply": "2022-06-12T06:42:42.861007Z"
    },
    "papermill": {
     "duration": 0.333508,
     "end_time": "2022-06-12T06:42:42.861136",
     "exception": false,
     "start_time": "2022-06-12T06:42:42.527628",
     "status": "completed"
    },
    "tags": []
   },
   "outputs": [
    {
     "data": {
      "application/scrapbook.scrap.json+json": {
       "data": 0.13554723717525416,
       "encoder": "json",
       "name": "ABC-GAN Model 1 MSE",
       "version": 1
      }
     },
     "metadata": {
      "scrapbook": {
       "data": true,
       "display": false,
       "name": "ABC-GAN Model 1 MSE"
      }
     },
     "output_type": "display_data"
    },
    {
     "data": {
      "application/scrapbook.scrap.json+json": {
       "data": 0.25836149238488254,
       "encoder": "json",
       "name": "ABC-GAN Model 1 MAE",
       "version": 1
      }
     },
     "metadata": {
      "scrapbook": {
       "data": true,
       "display": false,
       "name": "ABC-GAN Model 1 MAE"
      }
     },
     "output_type": "display_data"
    },
    {
     "data": {
      "application/scrapbook.scrap.json+json": {
       "data": 26.352872223258018,
       "encoder": "json",
       "name": "ABC-GAN Model 1 Manhattan Distance",
       "version": 1
      }
     },
     "metadata": {
      "scrapbook": {
       "data": true,
       "display": false,
       "name": "ABC-GAN Model 1 Manhattan Distance"
      }
     },
     "output_type": "display_data"
    },
    {
     "data": {
      "application/scrapbook.scrap.json+json": {
       "data": 3.718298157626117,
       "encoder": "json",
       "name": "ABC-GAN Model 1 Euclidean distance",
       "version": 1
      }
     },
     "metadata": {
      "scrapbook": {
       "data": true,
       "display": false,
       "name": "ABC-GAN Model 1 Euclidean distance"
      }
     },
     "output_type": "display_data"
    },
    {
     "data": {
      "application/scrapbook.scrap.json+json": {
       "data": [
        [
         0.13523715656465146,
         0.13561230652309667,
         0.13446557470518108,
         0.1361210055486514,
         0.1357006426925736,
         0.1361248895877185,
         0.13445799899864191,
         0.1358950629078304,
         0.13498143517437802,
         0.13613265960846088,
         0.1354859275562516,
         0.13569038064421216,
         0.13480709717372508,
         0.1359861707421845,
         0.13578912738975815,
         0.13539943763284726,
         0.13477487880024788,
         0.13725921171906705,
         0.13660131688165758,
         0.13526654818944114,
         0.1357115890042639,
         0.13517549788072636,
         0.13619292158636107,
         0.13529951218188335,
         0.13379508440936108,
         0.13461534940207437,
         0.13519064844801626,
         0.13562658279889445,
         0.13701165232714108,
         0.13544636515839215,
         0.13540585272898426,
         0.13529998727867748,
         0.1363923323622218,
         0.13549774102458711,
         0.13462010375620154,
         0.1348420635818981,
         0.13546394123226527,
         0.1361632009394297,
         0.13616846744377162,
         0.13624175308162662,
         0.13491215735252188,
         0.136476395982101,
         0.13547492548504386,
         0.1357247181874021,
         0.1340690403227036,
         0.13546870910242503,
         0.13549838666493885,
         0.13489223228014208,
         0.13532850462988175,
         0.13491609587398437,
         0.13612601247932557,
         0.13521234198224308,
         0.13534392545300264,
         0.1359876724921555,
         0.13549196889626272,
         0.1356771811366583,
         0.13678946033254716,
         0.13572325343013802,
         0.13613799803991125,
         0.13524681260435095,
         0.1352659706953663,
         0.13551130282833618,
         0.13587387055508862,
         0.13435566828312248,
         0.135171908865934,
         0.1351688046003379,
         0.13680898541016176,
         0.1360490773137768,
         0.13572952586707623,
         0.13524051361357534,
         0.13461946027192398,
         0.1355269733431257,
         0.13597955919717755,
         0.1350242529249252,
         0.1352317648696947,
         0.13647939796146996,
         0.13535137325435911,
         0.13579262359468686,
         0.13634080931568904,
         0.13584135470113853,
         0.13529005123062615,
         0.1365388820393383,
         0.13488894891691686,
         0.13475830863483396,
         0.1350570776422981,
         0.13566057754798136,
         0.13532722275330322,
         0.13564853309670696,
         0.13494142911781176,
         0.13544670367425848,
         0.13518188733428174,
         0.13533756212050982,
         0.13483038116844318,
         0.13703305893455112,
         0.13581871151990693,
         0.13620528100332716,
         0.1362439184021894,
         0.13563221846557003,
         0.13599901536490563,
         0.13507348269559505
        ],
        [
         0.25867422045592,
         0.2587879809605725,
         0.25623844195084244,
         0.25872877791670024,
         0.25875652256403486,
         0.2585624683940527,
         0.2573419828698331,
         0.2593942276183881,
         0.2585387571404378,
         0.2580985910094836,
         0.2581882470597823,
         0.2578463226775913,
         0.2577530522922091,
         0.2589819910844751,
         0.25789197910504014,
         0.2592516135716555,
         0.25783737423811476,
         0.26076305778149295,
         0.26086378196144805,
         0.25770124197736677,
         0.2583757015492986,
         0.2570082417086643,
         0.2596550060472652,
         0.25706672474888026,
         0.2575804987447519,
         0.25751013451201077,
         0.25783324668950897,
         0.2591869656142651,
         0.25936917306891843,
         0.2580993379667109,
         0.25934952318522275,
         0.2585774248502418,
         0.25950739872367945,
         0.25859308341408477,
         0.2571803119910114,
         0.25759905258960586,
         0.257323164127621,
         0.25864765920913685,
         0.2588942835801372,
         0.26048809198626116,
         0.25782610413928825,
         0.2595189119159591,
         0.25783576301353817,
         0.2583909811561598,
         0.25611439504313704,
         0.2568424525579401,
         0.2573786818002369,
         0.2573824880242932,
         0.2572915922558191,
         0.25795343419646516,
         0.25941650616918127,
         0.25729757302678097,
         0.25723356753587723,
         0.25803383070902497,
         0.2580133790113762,
         0.2587975922825874,
         0.2593130756753917,
         0.257435748718825,
         0.25896104070924075,
         0.25808159031850453,
         0.2587477555681093,
         0.2585965148447191,
         0.2593746193702899,
         0.2555964593866877,
         0.257606563213117,
         0.2589858881763968,
         0.26096927991830837,
         0.25941304610494303,
         0.25853784722002116,
         0.25848320510019274,
         0.2578729233686246,
         0.258015825212294,
         0.25945177714468215,
         0.2577501993041997,
         0.25830735481691125,
         0.2598425036332771,
         0.2581539362595946,
         0.25808401109979434,
         0.2594398900355194,
         0.25897511047329386,
         0.2583478783786881,
         0.2593143697389785,
         0.25699872344586194,
         0.2576610211867328,
         0.25738935504912164,
         0.2578835627246721,
         0.25757266460534406,
         0.258257496042871,
         0.2570225588027753,
         0.25739375688135624,
         0.2582318581567675,
         0.25828996150955263,
         0.2581330360662119,
         0.26058280464334815,
         0.25945534253967745,
         0.259336108414858,
         0.25988718396162286,
         0.2574595623814008,
         0.25904503380697147,
         0.25851788470412
        ],
        [
         26.38477048650384,
         26.39637405797839,
         26.13632107898593,
         26.390335347503424,
         26.393165301531553,
         26.37337177619338,
         26.24888225272298,
         26.458211217075586,
         26.37095322832465,
         26.32605628296733,
         26.3352012000978,
         26.30032491311431,
         26.290811333805323,
         26.416163090616465,
         26.304981868714094,
         26.443664584308863,
         26.299412172287703,
         26.597831893712282,
         26.6081057600677,
         26.285526681691408,
         26.35432155802846,
         26.214840654283762,
         26.48481061682105,
         26.220805924385786,
         26.273210871964693,
         26.266033720225096,
         26.298991162329912,
         26.43707049265504,
         26.45565565302968,
         26.326132472604513,
         26.45365136489272,
         26.374897334724665,
         26.469754669815302,
         26.376494508236647,
         26.232391823083162,
         26.275103364139795,
         26.24696274101734,
         26.38206123933196,
         26.407216925173998,
         26.56978538259864,
         26.298262622207403,
         26.470929015427828,
         26.299247827380896,
         26.355880077928305,
         26.123668294399977,
         26.19793016090989,
         26.252625543624163,
         26.253013778477907,
         26.243742410093546,
         26.311250288039446,
         26.460483629256487,
         26.24435244873166,
         26.237823888659477,
         26.319450732320547,
         26.317364659160376,
         26.397354412823915,
         26.44993371888995,
         26.258446369320154,
         26.414026152342558,
         26.32432221248746,
         26.39227106794715,
         26.37684451416135,
         26.456211175769567,
         26.07083885744214,
         26.275869447737932,
         26.41656059399247,
         26.618866551667452,
         26.46013070270419,
         26.370860416442156,
         26.36528692021966,
         26.30303818359971,
         26.317614171653986,
         26.46408126875758,
         26.290520329028368,
         26.34735019132495,
         26.503935370594263,
         26.33170149847865,
         26.324569132179022,
         26.46286878362298,
         26.415461268275976,
         26.35148359462619,
         26.450065713375807,
         26.21386979147792,
         26.281424161046743,
         26.253714215010405,
         26.304123397916555,
         26.272411789745092,
         26.342264596372843,
         26.21630099788308,
         26.254163201898336,
         26.33964953199029,
         26.34557607397437,
         26.329569678753614,
         26.57944607362151,
         26.464444939047098,
         26.452283058315516,
         26.50849276408553,
         26.26087536290288,
         26.42259344831109,
         26.368824239820242
        ],
        [
         3.7140530380696566,
         3.7192008906962606,
         3.703442806353092,
         3.7261699593500075,
         3.7204120140977,
         3.726223119721535,
         3.703338480055728,
         3.7230762034369778,
         3.710539905160239,
         3.726329464776701,
         3.7174674996208994,
         3.7202713376459036,
         3.708142919538021,
         3.72432402130948,
         3.721624778743194,
         3.716280753461775,
         3.707699777169841,
         3.7417161297117176,
         3.732738180200839,
         3.7144566110432615,
         3.7205620648545716,
         3.7132062673428328,
         3.7271541424804027,
         3.7149091836210615,
         3.6941979656963198,
         3.7055047751975154,
         3.7134143509306443,
         3.719396650733454,
         3.7383403453094513,
         3.7169247027826646,
         3.7163687893367623,
         3.714915705964955,
         3.7298817542847953,
         3.7176295652616984,
         3.705570210255441,
         3.7086237993834863,
         3.7171658566293564,
         3.7267474419152453,
         3.726819512568955,
         3.727822261632911,
         3.709587584888275,
         3.731031009007336,
         3.7173165589541166,
         3.7207420301755687,
         3.6979781114706136,
         3.7172312718537373,
         3.717638422416005,
         3.70931364170981,
         3.7153071841030774,
         3.70964173191245,
         3.726238488461415,
         3.713712277787388,
         3.7155188596219326,
         3.7243445858566653,
         3.717550379943598,
         3.7200903854529055,
         3.735307879401618,
         3.7207219527766484,
         3.726402527917636,
         3.7141856288618365,
         3.714448681961747,
         3.7178156071126343,
         3.722785891858279,
         3.7019289789079535,
         3.713156972755834,
         3.713114335599493,
         3.7355744553999317,
         3.7251853492148856,
         3.7208079281846542,
         3.714099135535384,
         3.705561353929556,
         3.718030564828484,
         3.724233483297215,
         3.711128372657347,
         3.713979000574567,
         3.7310720432698603,
         3.7156210883168144,
         3.721672689350591,
         3.729177194797839,
         3.722340416930742,
         3.714779297014005,
         3.731885042175403,
         3.709268497901644,
         3.7074718449036217,
         3.711579437317004,
         3.7198627541744194,
         3.715289587749107,
         3.7196976188749677,
         3.7099899959456497,
         3.7169293475628993,
         3.713294023922256,
         3.7154315141436802,
         3.708463142486548,
         3.7386323717803833,
         3.7220301684739883,
         3.727323257022306,
         3.7278518850704514,
         3.7194739256362777,
         3.724499908339423,
         3.711804848715877
        ]
       ],
       "encoder": "json",
       "name": "ABC_GAN_1 Metrics",
       "version": 1
      }
     },
     "metadata": {
      "scrapbook": {
       "data": true,
       "display": false,
       "name": "ABC_GAN_1 Metrics"
      }
     },
     "output_type": "display_data"
    },
    {
     "name": "stdout",
     "output_type": "stream",
     "text": [
      "MSE\n",
      "0.13554723717525416\n"
     ]
    }
   ],
   "source": [
    "ABC_GAN1_metrics=ABC_train_test2.test_generator(gen,test_data,prior_model,variance,bias,\"1\",device)\n",
    "sb.glue(\"ABC_GAN_1 Metrics\",ABC_GAN1_metrics)\n",
    "\n",
    "print(\"MSE\")\n",
    "print(mean(ABC_GAN1_metrics[0]))"
   ]
  },
  {
   "cell_type": "code",
   "execution_count": 14,
   "id": "eb22ce5c",
   "metadata": {
    "execution": {
     "iopub.execute_input": "2022-06-12T06:42:42.890768Z",
     "iopub.status.busy": "2022-06-12T06:42:42.890365Z",
     "iopub.status.idle": "2022-06-12T06:42:43.210563Z",
     "shell.execute_reply": "2022-06-12T06:42:43.210883Z"
    },
    "papermill": {
     "duration": 0.33667,
     "end_time": "2022-06-12T06:42:43.211006",
     "exception": false,
     "start_time": "2022-06-12T06:42:42.874336",
     "status": "completed"
    },
    "tags": []
   },
   "outputs": [
    {
     "data": {
      "image/png": "[encoded data removed]",
      "text/plain": [
       "<Figure size 432x288 with 1 Axes>"
      ]
     },
     "metadata": {
      "needs_background": "light"
     },
     "output_type": "display_data"
    },
    {
     "data": {
      "image/png": "[encoded data removed]",
      "text/plain": [
       "<Figure size 432x288 with 1 Axes>"
      ]
     },
     "metadata": {
      "needs_background": "light"
     },
     "output_type": "display_data"
    },
    {
     "data": {
      "image/png": "[encoded data removed]",
      "text/plain": [
       "<Figure size 432x288 with 1 Axes>"
      ]
     },
     "metadata": {
      "needs_background": "light"
     },
     "output_type": "display_data"
    },
    {
     "data": {
      "image/png": "[encoded data removed]",
      "text/plain": [
       "<Figure size 432x288 with 1 Axes>"
      ]
     },
     "metadata": {
      "needs_background": "light"
     },
     "output_type": "display_data"
    }
   ],
   "source": [
    "sanityChecks.discProbVsError(train_data,disc,device)\n",
    "sanityChecks.discProbVsError(test_data,disc,device)"
   ]
  },
  {
   "cell_type": "markdown",
   "id": "130f3a4d",
   "metadata": {
    "id": "130f3a4d",
    "papermill": {
     "duration": 0.014674,
     "end_time": "2022-06-12T06:42:43.240906",
     "exception": false,
     "start_time": "2022-06-12T06:42:43.226232",
     "status": "completed"
    },
    "tags": []
   },
   "source": [
    "# ABC - GAN Model with skip connection"
   ]
  },
  {
   "cell_type": "code",
   "execution_count": 15,
   "id": "4e43dad1",
   "metadata": {
    "execution": {
     "iopub.execute_input": "2022-06-12T06:42:43.274139Z",
     "iopub.status.busy": "2022-06-12T06:42:43.273764Z",
     "iopub.status.idle": "2022-06-12T06:42:43.276164Z",
     "shell.execute_reply": "2022-06-12T06:42:43.276439Z"
    },
    "id": "4e43dad1",
    "papermill": {
     "duration": 0.020718,
     "end_time": "2022-06-12T06:42:43.276557",
     "exception": false,
     "start_time": "2022-06-12T06:42:43.255839",
     "status": "completed"
    },
    "tags": []
   },
   "outputs": [],
   "source": [
    "#Generator\n",
    "gen3 = network.GeneratorWithSkipConnection(n_features+1).to(device)\n",
    "constraints=network.weightConstraint()\n",
    "#Discriminator \n",
    "disc3 = network.Discriminator(n_features+1).to(device)\n",
    "\n",
    "criterion = torch.nn.BCELoss()\n",
    "gen_opt = torch.optim.Adam(gen3.parameters(), lr=0.001, betas=(0.5, 0.999))\n",
    "disc_opt = torch.optim.Adam(disc3.parameters(), lr=0.001, betas=(0.5, 0.999))\n"
   ]
  },
  {
   "cell_type": "code",
   "execution_count": 16,
   "id": "26acbc37",
   "metadata": {
    "execution": {
     "iopub.execute_input": "2022-06-12T06:42:43.308803Z",
     "iopub.status.busy": "2022-06-12T06:42:43.308434Z",
     "iopub.status.idle": "2022-06-12T06:45:45.020724Z",
     "shell.execute_reply": "2022-06-12T06:45:45.021036Z"
    },
    "id": "26acbc37",
    "papermill": {
     "duration": 181.729589,
     "end_time": "2022-06-12T06:45:45.021162",
     "exception": false,
     "start_time": "2022-06-12T06:42:43.291573",
     "status": "completed"
    },
    "tags": []
   },
   "outputs": [
    {
     "data": {
      "image/png": "[encoded data removed]",
      "text/plain": [
       "<Figure size 432x288 with 1 Axes>"
      ]
     },
     "metadata": {
      "needs_background": "light"
     },
     "output_type": "display_data"
    },
    {
     "data": {
      "image/png": "[encoded data removed]",
      "text/plain": [
       "<Figure size 432x288 with 1 Axes>"
      ]
     },
     "metadata": {
      "needs_background": "light"
     },
     "output_type": "display_data"
    }
   ],
   "source": [
    "ABC_train_test2.training_GAN_skip_connection(disc3,gen3,disc_opt,gen_opt,train_data,batch_size,n_epochs,criterion,prior_model,variance,bias,device)"
   ]
  },
  {
   "cell_type": "code",
   "execution_count": 17,
   "id": "c5e0717b",
   "metadata": {
    "execution": {
     "iopub.execute_input": "2022-06-12T06:45:45.055571Z",
     "iopub.status.busy": "2022-06-12T06:45:45.055198Z",
     "iopub.status.idle": "2022-06-12T06:45:45.897674Z",
     "shell.execute_reply": "2022-06-12T06:45:45.897971Z"
    },
    "id": "c5e0717b",
    "papermill": {
     "duration": 0.861061,
     "end_time": "2022-06-12T06:45:45.898094",
     "exception": false,
     "start_time": "2022-06-12T06:45:45.037033",
     "status": "completed"
    },
    "tags": []
   },
   "outputs": [
    {
     "data": {
      "application/scrapbook.scrap.json+json": {
       "data": 0.1813320280368047,
       "encoder": "json",
       "name": "ABC-GAN Model 3 MSE",
       "version": 1
      }
     },
     "metadata": {
      "scrapbook": {
       "data": true,
       "display": false,
       "name": "ABC-GAN Model 3 MSE"
      }
     },
     "output_type": "display_data"
    },
    {
     "data": {
      "application/scrapbook.scrap.json+json": {
       "data": 0.2905732916716678,
       "encoder": "json",
       "name": "ABC-GAN Model 3 MAE",
       "version": 1
      }
     },
     "metadata": {
      "scrapbook": {
       "data": true,
       "display": false,
       "name": "ABC-GAN Model 3 MAE"
      }
     },
     "output_type": "display_data"
    },
    {
     "data": {
      "application/scrapbook.scrap.json+json": {
       "data": 29.638475750510114,
       "encoder": "json",
       "name": "ABC-GAN Model 3 Manhattan Distance",
       "version": 1
      }
     },
     "metadata": {
      "scrapbook": {
       "data": true,
       "display": false,
       "name": "ABC-GAN Model 3 Manhattan Distance"
      }
     },
     "output_type": "display_data"
    },
    {
     "data": {
      "application/scrapbook.scrap.json+json": {
       "data": 4.30066237461042,
       "encoder": "json",
       "name": "ABC-GAN Model 3 Euclidean distance",
       "version": 1
      }
     },
     "metadata": {
      "scrapbook": {
       "data": true,
       "display": false,
       "name": "ABC-GAN Model 3 Euclidean distance"
      }
     },
     "output_type": "display_data"
    },
    {
     "data": {
      "application/scrapbook.scrap.json+json": {
       "data": [
        [
         0.1799422250769423,
         0.18174727745407526,
         0.18252096574518317,
         0.18017948308307283,
         0.18162713251584495,
         0.18267950718618942,
         0.17961616335508332,
         0.18124624410593254,
         0.18278640078001349,
         0.18135044661908198,
         0.18177435785687746,
         0.18033110272684677,
         0.18197726442381873,
         0.18193216699260342,
         0.1793602609325815,
         0.18157410017914694,
         0.17922556717577032,
         0.182651615955484,
         0.18096440489910545,
         0.17953176534152662,
         0.18223032090886704,
         0.18296384544133615,
         0.1821560705593439,
         0.1807207285810874,
         0.1795632917190931,
         0.18236930828689218,
         0.1808512296860541,
         0.1813926773492586,
         0.1814133432049382,
         0.18112856616925746,
         0.18169590321995677,
         0.1832205732879301,
         0.18058922319360818,
         0.18117077974899815,
         0.1799775313267356,
         0.18249919401795667,
         0.1810369304607025,
         0.1814317346207965,
         0.18129403630719487,
         0.1807969140951315,
         0.18007984369755872,
         0.1788575739613721,
         0.17968677317681317,
         0.18069458372648467,
         0.182355704476835,
         0.18159241812279678,
         0.18066770009050487,
         0.18201653842498677,
         0.18079665500611627,
         0.18104240476464803,
         0.17963928965009124,
         0.18166242290938853,
         0.1808135174628862,
         0.18268919094955338,
         0.18008788263977507,
         0.18264847780334012,
         0.18170928780191323,
         0.18076046942488702,
         0.18268227491003622,
         0.18220829466988572,
         0.18209834620901494,
         0.18077975298081483,
         0.1821127798053701,
         0.18321074087297964,
         0.18119948128239072,
         0.18163191619411984,
         0.17992528851694567,
         0.18298755060165642,
         0.18301867625211427,
         0.18252840395159814,
         0.18182845795231814,
         0.1817816606184086,
         0.18177571352519148,
         0.18219643020207651,
         0.18227334250085447,
         0.18102246973899724,
         0.18198500000935663,
         0.18308214381435117,
         0.18219018325543918,
         0.18098544900394745,
         0.18040122684752763,
         0.18018440335448588,
         0.17952248388430234,
         0.18055560698511544,
         0.1802935394721531,
         0.17928417467462862,
         0.18324631718356524,
         0.1802930669042898,
         0.1825385896507729,
         0.18067507155240176,
         0.18262857458868972,
         0.1819655663410419,
         0.17956309581567134,
         0.17999209601118074,
         0.1807325686986573,
         0.18120932926470887,
         0.1829565959465938,
         0.18159824799063082,
         0.1826165340387789,
         0.18011996892713658
        ],
        [
         0.28882806766413005,
         0.29083667559932697,
         0.29066448975537046,
         0.2899829295244725,
         0.29094071225171875,
         0.29291583210978583,
         0.2887328296109997,
         0.2904183455268104,
         0.29072028480232787,
         0.291121044785113,
         0.2903699578954747,
         0.28938339267601715,
         0.29183267632627163,
         0.29121835900735404,
         0.28917864464479043,
         0.29036108066565264,
         0.2895924666366887,
         0.2912164338563076,
         0.288615962157172,
         0.28945681539491985,
         0.29026624132815165,
         0.2917807407302819,
         0.292190752914358,
         0.28878493517792475,
         0.2892155384909654,
         0.29165637730986027,
         0.2897056443571095,
         0.29039551696612265,
         0.29069001904652253,
         0.290480427590071,
         0.2911634365480174,
         0.29097354188378827,
         0.28911476774488154,
         0.29141942682612104,
         0.28850385364528525,
         0.29048680065784094,
         0.290143075078388,
         0.2911223819908485,
         0.28991932674384147,
         0.29065793269204304,
         0.28907200860717863,
         0.28956332193760603,
         0.2890805683735594,
         0.2885135506501184,
         0.2901895854567342,
         0.29053052325787787,
         0.29000899577330724,
         0.2914101460094874,
         0.2900238206756173,
         0.29016946314596664,
         0.2886512812190488,
         0.2917271019598725,
         0.2911789910456933,
         0.2916538414463182,
         0.28997470451263235,
         0.29173902436798693,
         0.29109962794966265,
         0.2913415114870112,
         0.2925301651360796,
         0.29116197722032666,
         0.2913066050489707,
         0.28991067198369946,
         0.29084113767991465,
         0.2920839146279511,
         0.2905323439706847,
         0.29087853849883755,
         0.28948239195069264,
         0.2930801180533736,
         0.2915931017824001,
         0.2906692986394845,
         0.2913673749814431,
         0.2910045811349489,
         0.28966072152423505,
         0.2911919579640323,
         0.29128694422451745,
         0.2912917309349366,
         0.290453536440527,
         0.29155530119040873,
         0.29222708880700465,
         0.29179669287987053,
         0.28961842728997855,
         0.29177566492010143,
         0.29010190412986514,
         0.29011246867194845,
         0.2907142475630869,
         0.28712988328006045,
         0.29317399479594886,
         0.290184480197472,
         0.29089642232329604,
         0.2899105721290278,
         0.2925965788993327,
         0.2903618664645097,
         0.2904650731407124,
         0.2900144060407126,
         0.2897691967504501,
         0.2908642037187283,
         0.29068068993350893,
         0.29165157662960245,
         0.2911307156889462,
         0.28928479343634467
        ],
        [
         29.460462901741266,
         29.665340911131352,
         29.647777955047786,
         29.578258811496198,
         29.67595264967531,
         29.877414875198156,
         29.450748620321974,
         29.622671243734658,
         29.65346904983744,
         29.694346568081528,
         29.61773570533842,
         29.51710605295375,
         29.76693298527971,
         29.70427261875011,
         29.496221753768623,
         29.61683022789657,
         29.538431596942246,
         29.704076253343374,
         29.438828140031546,
         29.524595170281827,
         29.607156615471467,
         29.76163555448875,
         29.803456797264516,
         29.456063388148323,
         29.49998492607847,
         29.748950485605747,
         29.549975724425167,
         29.620342730544508,
         29.650381942745298,
         29.62900361418724,
         29.698670527897775,
         29.679301272146404,
         29.48970630997792,
         29.724781536264345,
         29.427393071819097,
         29.629653667099774,
         29.594593657995574,
         29.694482963066548,
         29.57177132787183,
         29.64710913458839,
         29.48534487793222,
         29.535458837635815,
         29.486217974103056,
         29.428382166312076,
         29.599337716586888,
         29.634113372303545,
         29.58091756887734,
         29.723834892967716,
         29.58242970891297,
         29.597285240888596,
         29.44243068434298,
         29.756164399906993,
         29.700257086660713,
         29.748691827524453,
         29.5774198602885,
         29.757380485534668,
         29.69216205086559,
         29.716834171675146,
         29.838076843880117,
         29.69852167647332,
         29.71327371499501,
         29.570888542337343,
         29.665796043351293,
         29.79255929205101,
         29.634299085009843,
         29.669610926881433,
         29.527203978970647,
         29.894172041444108,
         29.742496381804813,
         29.648268461227417,
         29.719472248107195,
         29.682467275764793,
         29.545393595471978,
         29.701579712331295,
         29.711268310900778,
         29.711756555363536,
         29.626260716933757,
         29.73864072142169,
         29.807163058314472,
         29.763262673746794,
         29.54107958357781,
         29.76111782185035,
         29.590394221246243,
         29.59147180453874,
         29.652853251434863,
         29.287248094566166,
         29.903747469186783,
         29.598816980142146,
         29.671435076976195,
         29.570878357160836,
         29.844851047731936,
         29.616910379379988,
         29.627437460352667,
         29.581469416152686,
         29.556458068545908,
         29.668148779310286,
         29.64943037321791,
         29.74846081621945,
         29.695333000272512,
         29.507048930507153
        ],
        [
         4.284169342807087,
         4.3056035930303285,
         4.314758221037267,
         4.286992800842267,
         4.3041802374687075,
         4.316631757862989,
         4.280286049111496,
         4.299664742605534,
         4.317894496112818,
         4.300900551645709,
         4.305924349242738,
         4.288796157214559,
         4.308326934116016,
         4.307793058312521,
         4.277235861525912,
         4.303551814289331,
         4.275629526973609,
         4.316302216881872,
         4.296320437270567,
         4.279280320899265,
         4.311321460144724,
         4.319989842003832,
         4.310443039532373,
         4.293426873171466,
         4.279656032363757,
         4.312965272902508,
         4.294976766872845,
         4.3014012937209625,
         4.3016463135529515,
         4.298268692074084,
         4.304995020721346,
         4.323019601548074,
         4.2918644859487385,
         4.298769537251074,
         4.284589618076279,
         4.314500873778052,
         4.297181274625456,
         4.301864355290767,
         4.300231587174565,
         4.294331756828227,
         4.285807281849125,
         4.271237823402012,
         4.2811272889316125,
         4.293116297062244,
         4.312804407417194,
         4.303768888837465,
         4.292796921499023,
         4.308791816663768,
         4.294328679854845,
         4.297246244514514,
         4.2805615921639655,
         4.304598371132623,
         4.2945289358920835,
         4.316746167758123,
         4.285902942118154,
         4.316265137354365,
         4.305153580976542,
         4.293898913730792,
         4.3166644577525,
         4.31106089684759,
         4.309760006464341,
         4.294127944535783,
         4.309930804566096,
         4.322903603950003,
         4.299110034740196,
         4.304236918641935,
         4.283967720318216,
         4.32026968618499,
         4.320637103219346,
         4.314846138979119,
         4.3065650710440275,
         4.306010843353472,
         4.305940405947291,
         4.310920537496812,
         4.3118303462783825,
         4.297009647810639,
         4.308418503459752,
         4.321386197629623,
         4.3108466328616695,
         4.296570236642552,
         4.289629953556346,
         4.287051334210679,
         4.279169704066297,
         4.291465007719598,
         4.288349452430342,
         4.276328544068161,
         4.323323299583741,
         4.28834383232473,
         4.314966528766918,
         4.2928844962734525,
         4.316029959122893,
         4.308188455347128,
         4.279653697812297,
         4.284762979808852,
         4.293567515163008,
         4.299226858982938,
         4.319904256641872,
         4.30383797267559,
         4.3158876806464095,
         4.286284735125272
        ]
       ],
       "encoder": "json",
       "name": "ABC_GAN_3 Metrics",
       "version": 1
      }
     },
     "metadata": {
      "scrapbook": {
       "data": true,
       "display": false,
       "name": "ABC_GAN_3 Metrics"
      }
     },
     "output_type": "display_data"
    },
    {
     "name": "stdout",
     "output_type": "stream",
     "text": [
      "MSE\n",
      "0.1813320280368047\n"
     ]
    }
   ],
   "source": [
    "ABC_GAN3_metrics=ABC_train_test2.test_generator(gen3,test_data,prior_model,variance,bias,\"3\",device)\n",
    "sb.glue(\"ABC_GAN_3 Metrics\",ABC_GAN3_metrics)\n",
    "\n",
    "print(\"MSE\")\n",
    "print(mean(ABC_GAN3_metrics[0]))"
   ]
  },
  {
   "cell_type": "code",
   "execution_count": 18,
   "id": "c8e46b48",
   "metadata": {
    "execution": {
     "iopub.execute_input": "2022-06-12T06:45:45.935307Z",
     "iopub.status.busy": "2022-06-12T06:45:45.934938Z",
     "iopub.status.idle": "2022-06-12T06:45:46.261400Z",
     "shell.execute_reply": "2022-06-12T06:45:46.261651Z"
    },
    "id": "c8e46b48",
    "papermill": {
     "duration": 0.34618,
     "end_time": "2022-06-12T06:45:46.261774",
     "exception": false,
     "start_time": "2022-06-12T06:45:45.915594",
     "status": "completed"
    },
    "tags": []
   },
   "outputs": [
    {
     "data": {
      "image/png": "[encoded data removed]",
      "text/plain": [
       "<Figure size 432x288 with 1 Axes>"
      ]
     },
     "metadata": {
      "needs_background": "light"
     },
     "output_type": "display_data"
    },
    {
     "data": {
      "image/png": "[encoded data removed]",
      "text/plain": [
       "<Figure size 432x288 with 1 Axes>"
      ]
     },
     "metadata": {
      "needs_background": "light"
     },
     "output_type": "display_data"
    },
    {
     "data": {
      "image/png": "[encoded data removed]",
      "text/plain": [
       "<Figure size 432x288 with 1 Axes>"
      ]
     },
     "metadata": {
      "needs_background": "light"
     },
     "output_type": "display_data"
    },
    {
     "data": {
      "image/png": "[encoded data removed]",
      "text/plain": [
       "<Figure size 432x288 with 1 Axes>"
      ]
     },
     "metadata": {
      "needs_background": "light"
     },
     "output_type": "display_data"
    }
   ],
   "source": [
    "sanityChecks.discProbVsError(train_data,disc3,device)\n",
    "sanityChecks.discProbVsError(test_data,disc3,device)"
   ]
  },
  {
   "cell_type": "markdown",
   "id": "a5bd74c3",
   "metadata": {
    "id": "a5bd74c3",
    "papermill": {
     "duration": 0.019389,
     "end_time": "2022-06-12T06:45:46.301200",
     "exception": false,
     "start_time": "2022-06-12T06:45:46.281811",
     "status": "completed"
    },
    "tags": []
   },
   "source": [
    "## Skip Connection Model Analysis - ABC-GAN "
   ]
  },
  {
   "cell_type": "markdown",
   "id": "5744a8bf",
   "metadata": {
    "id": "5744a8bf",
    "papermill": {
     "duration": 0.019582,
     "end_time": "2022-06-12T06:45:46.340300",
     "exception": false,
     "start_time": "2022-06-12T06:45:46.320718",
     "status": "completed"
    },
    "tags": []
   },
   "source": [
    "### Weight Analysis \n",
    "\n",
    "Study the weights of the skip connection layer\n",
    "\n",
    "Equation of the skip connection is \n",
    "\n",
    "$output = y_{gan} * w + y_{abc} * (1-w)$"
   ]
  },
  {
   "cell_type": "code",
   "execution_count": 19,
   "id": "52c31dea",
   "metadata": {
    "execution": {
     "iopub.execute_input": "2022-06-12T06:45:46.381919Z",
     "iopub.status.busy": "2022-06-12T06:45:46.381511Z",
     "iopub.status.idle": "2022-06-12T06:45:46.384853Z",
     "shell.execute_reply": "2022-06-12T06:45:46.385080Z"
    },
    "id": "52c31dea",
    "papermill": {
     "duration": 0.025407,
     "end_time": "2022-06-12T06:45:46.385189",
     "exception": false,
     "start_time": "2022-06-12T06:45:46.359782",
     "status": "completed"
    },
    "tags": []
   },
   "outputs": [
    {
     "name": "stdout",
     "output_type": "stream",
     "text": [
      "Weight of the node at skip connection\n",
      "Parameter containing:\n",
      "tensor([[0.9913]], requires_grad=True)\n"
     ]
    },
    {
     "data": {
      "application/scrapbook.scrap.json+json": {
       "data": 0.9912964701652527,
       "encoder": "json",
       "name": "Skip Connection Weight",
       "version": 1
      }
     },
     "metadata": {
      "scrapbook": {
       "data": true,
       "display": false,
       "name": "Skip Connection Weight"
      }
     },
     "output_type": "display_data"
    }
   ],
   "source": [
    "print(\"Weight of the node at skip connection\")\n",
    "for name,param in gen3.named_parameters():\n",
    "    if(name == \"skipNode.weight\"):\n",
    "        print(param)\n",
    "        sb.glue(\"Skip Connection Weight\",param.item())"
   ]
  }
 ],
 "metadata": {
  "colab": {
   "collapsed_sections": [],
   "name": "ABC_GAN_Model-Catboost_Pre-gen.ipynb",
   "provenance": []
  },
  "interpreter": {
   "hash": "31f2aee4e71d21fbe5cf8b01ff0e069b9275f58929596ceb00d14d90e3e16cd6"
  },
  "kernelspec": {
   "display_name": "Python 3 (ipykernel)",
   "language": "python",
   "name": "python3"
  },
  "language_info": {
   "codemirror_mode": {
    "name": "ipython",
    "version": 3
   },
   "file_extension": ".py",
   "mimetype": "text/x-python",
   "name": "python",
   "nbconvert_exporter": "python",
   "pygments_lexer": "ipython3",
   "version": "3.8.11"
  },
  "papermill": {
   "default_parameters": {},
   "duration": 250.696081,
   "end_time": "2022-06-12T06:45:46.712565",
   "environment_variables": {},
   "exception": null,
   "input_path": "ABC_GAN-Catboost.ipynb",
   "output_path": "./ABC_GAN_Catboost/ABC-GAN_output_8_0.ipynb",
   "parameters": {
    "bias": 1,
    "variance": 1
   },
   "start_time": "2022-06-12T06:41:36.016484",
   "version": "2.3.3"
  }
 },
 "nbformat": 4,
 "nbformat_minor": 5
}