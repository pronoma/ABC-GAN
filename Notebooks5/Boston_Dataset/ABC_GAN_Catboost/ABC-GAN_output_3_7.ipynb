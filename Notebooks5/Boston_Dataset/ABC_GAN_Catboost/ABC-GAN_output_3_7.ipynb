{
 "cells": [
  {
   "cell_type": "markdown",
   "id": "622780e6",
   "metadata": {
    "id": "622780e6",
    "papermill": {
     "duration": 0.012835,
     "end_time": "2022-06-12T03:00:37.793890",
     "exception": false,
     "start_time": "2022-06-12T03:00:37.781055",
     "status": "completed"
    },
    "tags": []
   },
   "source": [
    "## Import Libraries "
   ]
  },
  {
   "cell_type": "code",
   "execution_count": 1,
   "id": "a62397e3",
   "metadata": {
    "execution": {
     "iopub.execute_input": "2022-06-12T03:00:37.819397Z",
     "iopub.status.busy": "2022-06-12T03:00:37.818910Z",
     "iopub.status.idle": "2022-06-12T03:00:37.821140Z",
     "shell.execute_reply": "2022-06-12T03:00:37.821421Z"
    },
    "id": "a62397e3",
    "papermill": {
     "duration": 0.017483,
     "end_time": "2022-06-12T03:00:37.821598",
     "exception": false,
     "start_time": "2022-06-12T03:00:37.804115",
     "status": "completed"
    },
    "tags": []
   },
   "outputs": [],
   "source": [
    "import warnings\n",
    "import sys\n",
    "sys.path.insert(0, '../../src')\n",
    "warnings.filterwarnings('ignore')"
   ]
  },
  {
   "cell_type": "code",
   "execution_count": 2,
   "id": "d6a4e155",
   "metadata": {
    "execution": {
     "iopub.execute_input": "2022-06-12T03:00:37.839367Z",
     "iopub.status.busy": "2022-06-12T03:00:37.838990Z",
     "iopub.status.idle": "2022-06-12T03:00:39.412605Z",
     "shell.execute_reply": "2022-06-12T03:00:39.412869Z"
    },
    "id": "d6a4e155",
    "papermill": {
     "duration": 1.58338,
     "end_time": "2022-06-12T03:00:39.412991",
     "exception": false,
     "start_time": "2022-06-12T03:00:37.829611",
     "status": "completed"
    },
    "tags": []
   },
   "outputs": [],
   "source": [
    "import ABC_train_test2\n",
    "import bostonDataset\n",
    "import network\n",
    "import dataset\n",
    "import sanityChecks\n",
    "import torch \n",
    "import scrapbook as sb\n",
    "from statistics import mean \n",
    "import catboost as ctb \n",
    "from sklearn.model_selection import train_test_split\n",
    "from sklearn.metrics import mean_squared_error,mean_absolute_error\n",
    "import numpy as np"
   ]
  },
  {
   "cell_type": "markdown",
   "id": "2fa5b0f7",
   "metadata": {
    "id": "2fa5b0f7",
    "papermill": {
     "duration": 0.007112,
     "end_time": "2022-06-12T03:00:39.427167",
     "exception": false,
     "start_time": "2022-06-12T03:00:39.420055",
     "status": "completed"
    },
    "tags": []
   },
   "source": [
    "## Parameters "
   ]
  },
  {
   "cell_type": "code",
   "execution_count": 3,
   "id": "783186fb",
   "metadata": {
    "execution": {
     "iopub.execute_input": "2022-06-12T03:00:39.442935Z",
     "iopub.status.busy": "2022-06-12T03:00:39.442545Z",
     "iopub.status.idle": "2022-06-12T03:00:39.443859Z",
     "shell.execute_reply": "2022-06-12T03:00:39.444094Z"
    },
    "id": "783186fb",
    "papermill": {
     "duration": 0.010352,
     "end_time": "2022-06-12T03:00:39.444214",
     "exception": false,
     "start_time": "2022-06-12T03:00:39.433862",
     "status": "completed"
    },
    "tags": [
     "parameters"
    ]
   },
   "outputs": [],
   "source": [
    "variance = 1\n",
    "bias = 1 "
   ]
  },
  {
   "cell_type": "code",
   "execution_count": 4,
   "id": "c2fe73f7",
   "metadata": {
    "execution": {
     "iopub.execute_input": "2022-06-12T03:00:39.460180Z",
     "iopub.status.busy": "2022-06-12T03:00:39.459804Z",
     "iopub.status.idle": "2022-06-12T03:00:39.460978Z",
     "shell.execute_reply": "2022-06-12T03:00:39.461221Z"
    },
    "papermill": {
     "duration": 0.010051,
     "end_time": "2022-06-12T03:00:39.461329",
     "exception": false,
     "start_time": "2022-06-12T03:00:39.451278",
     "status": "completed"
    },
    "tags": [
     "injected-parameters"
    ]
   },
   "outputs": [],
   "source": [
    "# Parameters\n",
    "variance = 0.1\n",
    "bias = 0.01\n"
   ]
  },
  {
   "cell_type": "markdown",
   "id": "391cdbfd",
   "metadata": {
    "id": "391cdbfd",
    "papermill": {
     "duration": 0.006806,
     "end_time": "2022-06-12T03:00:39.475036",
     "exception": false,
     "start_time": "2022-06-12T03:00:39.468230",
     "status": "completed"
    },
    "tags": []
   },
   "source": [
    "## Dataset \n"
   ]
  },
  {
   "cell_type": "code",
   "execution_count": 5,
   "id": "5b51f161",
   "metadata": {
    "execution": {
     "iopub.execute_input": "2022-06-12T03:00:39.490567Z",
     "iopub.status.busy": "2022-06-12T03:00:39.490211Z",
     "iopub.status.idle": "2022-06-12T03:00:39.491401Z",
     "shell.execute_reply": "2022-06-12T03:00:39.491627Z"
    },
    "id": "5b51f161",
    "papermill": {
     "duration": 0.009841,
     "end_time": "2022-06-12T03:00:39.491730",
     "exception": false,
     "start_time": "2022-06-12T03:00:39.481889",
     "status": "completed"
    },
    "tags": []
   },
   "outputs": [],
   "source": [
    "#Parameters \n",
    "n_features = 13\n",
    "n_samples= 506\n",
    "n_target = 1 "
   ]
  },
  {
   "cell_type": "code",
   "execution_count": 6,
   "id": "5d6eced4",
   "metadata": {
    "execution": {
     "iopub.execute_input": "2022-06-12T03:00:39.507365Z",
     "iopub.status.busy": "2022-06-12T03:00:39.506967Z",
     "iopub.status.idle": "2022-06-12T03:00:39.516902Z",
     "shell.execute_reply": "2022-06-12T03:00:39.517139Z"
    },
    "id": "5d6eced4",
    "papermill": {
     "duration": 0.018671,
     "end_time": "2022-06-12T03:00:39.517246",
     "exception": false,
     "start_time": "2022-06-12T03:00:39.498575",
     "status": "completed"
    },
    "tags": []
   },
   "outputs": [
    {
     "name": "stdout",
     "output_type": "stream",
     "text": [
      "         X1        X2        X3        X4        X5        X6        X7  \\\n",
      "0 -0.419782  0.284830 -1.287909 -0.272599 -0.144217  0.413672 -0.120013   \n",
      "1 -0.417339 -0.487722 -0.593381 -0.272599 -0.740262  0.194274  0.367166   \n",
      "2 -0.417342 -0.487722 -0.593381 -0.272599 -0.740262  1.282714 -0.265812   \n",
      "3 -0.416750 -0.487722 -1.306878 -0.272599 -0.835284  1.016303 -0.809889   \n",
      "4 -0.412482 -0.487722 -1.306878 -0.272599 -0.835284  1.228577 -0.511180   \n",
      "\n",
      "         X8        X9       X10       X11       X12       X13         Y  \n",
      "0  0.140214 -0.982843 -0.666608 -1.459000  0.441052 -1.075562  0.159686  \n",
      "1  0.557160 -0.867883 -0.987329 -0.303094  0.441052 -0.492439 -0.101524  \n",
      "2  0.557160 -0.867883 -0.987329 -0.303094  0.396427 -1.208727  1.324247  \n",
      "3  1.077737 -0.752922 -1.106115  0.113032  0.416163 -1.361517  1.182758  \n",
      "4  1.077737 -0.752922 -1.106115  0.113032  0.441052 -1.026501  1.487503  \n"
     ]
    }
   ],
   "source": [
    "X,Y = bostonDataset.boston_data()"
   ]
  },
  {
   "cell_type": "code",
   "execution_count": 7,
   "id": "fe007438",
   "metadata": {
    "execution": {
     "iopub.execute_input": "2022-06-12T03:00:39.535078Z",
     "iopub.status.busy": "2022-06-12T03:00:39.534700Z",
     "iopub.status.idle": "2022-06-12T03:00:39.536206Z",
     "shell.execute_reply": "2022-06-12T03:00:39.536460Z"
    },
    "id": "fe007438",
    "papermill": {
     "duration": 0.012036,
     "end_time": "2022-06-12T03:00:39.536574",
     "exception": false,
     "start_time": "2022-06-12T03:00:39.524538",
     "status": "completed"
    },
    "tags": []
   },
   "outputs": [],
   "source": [
    "#Train test split for dataset \n",
    "X_train,X_test,Y_train,Y_test = train_test_split(X,Y,test_size = 0.2)\n",
    "train_data = dataset.CustomDataset(X_train,Y_train)\n",
    "test_data = dataset.CustomDataset(X_test,Y_test)\n"
   ]
  },
  {
   "cell_type": "markdown",
   "id": "a9a1af34",
   "metadata": {
    "id": "a9a1af34",
    "papermill": {
     "duration": 0.007051,
     "end_time": "2022-06-12T03:00:39.551034",
     "exception": false,
     "start_time": "2022-06-12T03:00:39.543983",
     "status": "completed"
    },
    "tags": []
   },
   "source": [
    "## Training Parameters "
   ]
  },
  {
   "cell_type": "code",
   "execution_count": 8,
   "id": "952b7fc8",
   "metadata": {
    "execution": {
     "iopub.execute_input": "2022-06-12T03:00:39.567810Z",
     "iopub.status.busy": "2022-06-12T03:00:39.567429Z",
     "iopub.status.idle": "2022-06-12T03:00:39.568690Z",
     "shell.execute_reply": "2022-06-12T03:00:39.568933Z"
    },
    "id": "952b7fc8",
    "papermill": {
     "duration": 0.010888,
     "end_time": "2022-06-12T03:00:39.569041",
     "exception": false,
     "start_time": "2022-06-12T03:00:39.558153",
     "status": "completed"
    },
    "tags": []
   },
   "outputs": [],
   "source": [
    "batch_size = 32\n",
    "n_epochs = 1000\n",
    "#Select the device \n",
    "device = torch.device('cuda' if torch.cuda.is_available() else 'cpu')"
   ]
  },
  {
   "cell_type": "markdown",
   "id": "a95e1600",
   "metadata": {
    "id": "a95e1600",
    "papermill": {
     "duration": 0.007025,
     "end_time": "2022-06-12T03:00:39.583243",
     "exception": false,
     "start_time": "2022-06-12T03:00:39.576218",
     "status": "completed"
    },
    "tags": []
   },
   "source": [
    "# ABC Pre-generator Model \n",
    "\n",
    "1. The catboost model is used as a pre-generator model for the ABC-GAN. \n",
    "2. The model is first trained on the entire dataset \n",
    "3. It generats X,Y pairs and we add some Gaussian noise with mean 0 and variance 1 to it which is then feed as input to the generator.\n"
   ]
  },
  {
   "cell_type": "code",
   "execution_count": 9,
   "id": "ff8ce7bd",
   "metadata": {
    "execution": {
     "iopub.execute_input": "2022-06-12T03:00:39.602311Z",
     "iopub.status.busy": "2022-06-12T03:00:39.601925Z",
     "iopub.status.idle": "2022-06-12T03:00:40.560053Z",
     "shell.execute_reply": "2022-06-12T03:00:40.560354Z"
    },
    "id": "ff8ce7bd",
    "papermill": {
     "duration": 0.970106,
     "end_time": "2022-06-12T03:00:40.560473",
     "exception": false,
     "start_time": "2022-06-12T03:00:39.590367",
     "status": "completed"
    },
    "tags": []
   },
   "outputs": [
    {
     "name": "stdout",
     "output_type": "stream",
     "text": [
      "Learning rate set to 0.033215\n",
      "0:\tlearn: 0.9995232\ttotal: 59ms\tremaining: 59s\n",
      "1:\tlearn: 0.9789676\ttotal: 60.1ms\tremaining: 30s\n",
      "2:\tlearn: 0.9603985\ttotal: 61.3ms\tremaining: 20.4s\n",
      "3:\tlearn: 0.9437867\ttotal: 62.4ms\tremaining: 15.5s\n",
      "4:\tlearn: 0.9263046\ttotal: 63.6ms\tremaining: 12.7s\n",
      "5:\tlearn: 0.9113072\ttotal: 64.6ms\tremaining: 10.7s\n",
      "6:\tlearn: 0.8955543\ttotal: 65.6ms\tremaining: 9.31s\n",
      "7:\tlearn: 0.8791567\ttotal: 66.6ms\tremaining: 8.26s\n",
      "8:\tlearn: 0.8639664\ttotal: 67.4ms\tremaining: 7.42s\n",
      "9:\tlearn: 0.8478091\ttotal: 68.4ms\tremaining: 6.77s\n",
      "10:\tlearn: 0.8324480\ttotal: 69.4ms\tremaining: 6.24s\n",
      "11:\tlearn: 0.8187893\ttotal: 70.3ms\tremaining: 5.79s\n",
      "12:\tlearn: 0.8034079\ttotal: 71.1ms\tremaining: 5.4s\n",
      "13:\tlearn: 0.7882897\ttotal: 72ms\tremaining: 5.07s\n",
      "14:\tlearn: 0.7759476\ttotal: 72.9ms\tremaining: 4.78s\n",
      "15:\tlearn: 0.7638905\ttotal: 73.7ms\tremaining: 4.53s\n",
      "16:\tlearn: 0.7523497\ttotal: 74.6ms\tremaining: 4.31s\n",
      "17:\tlearn: 0.7402320\ttotal: 75.4ms\tremaining: 4.11s\n",
      "18:\tlearn: 0.7281437\ttotal: 76.2ms\tremaining: 3.93s\n",
      "19:\tlearn: 0.7158017\ttotal: 77ms\tremaining: 3.77s\n",
      "20:\tlearn: 0.7017651\ttotal: 77.8ms\tremaining: 3.63s\n",
      "21:\tlearn: 0.6911297\ttotal: 78.7ms\tremaining: 3.5s\n",
      "22:\tlearn: 0.6790816\ttotal: 79.4ms\tremaining: 3.37s\n",
      "23:\tlearn: 0.6693167\ttotal: 80.2ms\tremaining: 3.26s\n",
      "24:\tlearn: 0.6590442\ttotal: 80.9ms\tremaining: 3.15s\n",
      "25:\tlearn: 0.6503847\ttotal: 81.7ms\tremaining: 3.06s\n",
      "26:\tlearn: 0.6422230\ttotal: 82.4ms\tremaining: 2.97s\n",
      "27:\tlearn: 0.6332547\ttotal: 83.1ms\tremaining: 2.88s\n",
      "28:\tlearn: 0.6236509\ttotal: 83.9ms\tremaining: 2.81s\n",
      "29:\tlearn: 0.6134585\ttotal: 84.7ms\tremaining: 2.74s\n",
      "30:\tlearn: 0.6044124\ttotal: 85.5ms\tremaining: 2.67s\n",
      "31:\tlearn: 0.5950854\ttotal: 86.3ms\tremaining: 2.61s\n",
      "32:\tlearn: 0.5884661\ttotal: 87.2ms\tremaining: 2.56s\n",
      "33:\tlearn: 0.5809267\ttotal: 88ms\tremaining: 2.5s\n",
      "34:\tlearn: 0.5747519\ttotal: 88.8ms\tremaining: 2.45s\n",
      "35:\tlearn: 0.5673210\ttotal: 89.6ms\tremaining: 2.4s\n",
      "36:\tlearn: 0.5616053\ttotal: 90.4ms\tremaining: 2.35s\n",
      "37:\tlearn: 0.5548448\ttotal: 91.2ms\tremaining: 2.31s\n",
      "38:\tlearn: 0.5479226\ttotal: 92ms\tremaining: 2.27s\n",
      "39:\tlearn: 0.5401264\ttotal: 92.8ms\tremaining: 2.23s\n",
      "40:\tlearn: 0.5338066\ttotal: 93.6ms\tremaining: 2.19s\n",
      "41:\tlearn: 0.5262035\ttotal: 94.3ms\tremaining: 2.15s\n",
      "42:\tlearn: 0.5199754\ttotal: 95ms\tremaining: 2.11s\n",
      "43:\tlearn: 0.5148616\ttotal: 95.6ms\tremaining: 2.08s\n",
      "44:\tlearn: 0.5095297\ttotal: 96.3ms\tremaining: 2.04s\n",
      "45:\tlearn: 0.5032571\ttotal: 97ms\tremaining: 2.01s\n",
      "46:\tlearn: 0.4968811\ttotal: 97.8ms\tremaining: 1.98s\n",
      "47:\tlearn: 0.4908209\ttotal: 98.5ms\tremaining: 1.95s\n",
      "48:\tlearn: 0.4852690\ttotal: 99.3ms\tremaining: 1.93s\n",
      "49:\tlearn: 0.4796427\ttotal: 100ms\tremaining: 1.9s\n",
      "50:\tlearn: 0.4745445\ttotal: 101ms\tremaining: 1.87s\n",
      "51:\tlearn: 0.4691291\ttotal: 102ms\tremaining: 1.85s\n",
      "52:\tlearn: 0.4639944\ttotal: 102ms\tremaining: 1.83s\n",
      "53:\tlearn: 0.4603303\ttotal: 103ms\tremaining: 1.8s\n",
      "54:\tlearn: 0.4555670\ttotal: 104ms\tremaining: 1.78s\n",
      "55:\tlearn: 0.4518993\ttotal: 105ms\tremaining: 1.76s\n",
      "56:\tlearn: 0.4485413\ttotal: 105ms\tremaining: 1.74s\n",
      "57:\tlearn: 0.4447893\ttotal: 106ms\tremaining: 1.73s\n",
      "58:\tlearn: 0.4405895\ttotal: 107ms\tremaining: 1.71s\n"
     ]
    },
    {
     "name": "stdout",
     "output_type": "stream",
     "text": [
      "59:\tlearn: 0.4375003\ttotal: 108ms\tremaining: 1.69s\n",
      "60:\tlearn: 0.4326690\ttotal: 109ms\tremaining: 1.68s\n",
      "61:\tlearn: 0.4280162\ttotal: 110ms\tremaining: 1.66s\n",
      "62:\tlearn: 0.4253369\ttotal: 111ms\tremaining: 1.64s\n",
      "63:\tlearn: 0.4217381\ttotal: 111ms\tremaining: 1.63s\n",
      "64:\tlearn: 0.4184676\ttotal: 112ms\tremaining: 1.61s\n",
      "65:\tlearn: 0.4149409\ttotal: 113ms\tremaining: 1.6s\n",
      "66:\tlearn: 0.4115689\ttotal: 114ms\tremaining: 1.58s\n",
      "67:\tlearn: 0.4074612\ttotal: 115ms\tremaining: 1.57s\n",
      "68:\tlearn: 0.4040552\ttotal: 116ms\tremaining: 1.57s\n",
      "69:\tlearn: 0.4016071\ttotal: 117ms\tremaining: 1.56s\n",
      "70:\tlearn: 0.3985638\ttotal: 118ms\tremaining: 1.54s\n",
      "71:\tlearn: 0.3944500\ttotal: 119ms\tremaining: 1.53s\n",
      "72:\tlearn: 0.3916880\ttotal: 119ms\tremaining: 1.52s\n",
      "73:\tlearn: 0.3881436\ttotal: 120ms\tremaining: 1.5s\n",
      "74:\tlearn: 0.3849165\ttotal: 121ms\tremaining: 1.49s\n",
      "75:\tlearn: 0.3818009\ttotal: 122ms\tremaining: 1.48s\n",
      "76:\tlearn: 0.3795885\ttotal: 123ms\tremaining: 1.47s\n",
      "77:\tlearn: 0.3772392\ttotal: 124ms\tremaining: 1.46s\n",
      "78:\tlearn: 0.3737904\ttotal: 124ms\tremaining: 1.45s\n",
      "79:\tlearn: 0.3713308\ttotal: 125ms\tremaining: 1.44s\n",
      "80:\tlearn: 0.3690231\ttotal: 126ms\tremaining: 1.43s\n",
      "81:\tlearn: 0.3656699\ttotal: 127ms\tremaining: 1.42s\n",
      "82:\tlearn: 0.3641511\ttotal: 128ms\tremaining: 1.41s\n",
      "83:\tlearn: 0.3615844\ttotal: 128ms\tremaining: 1.4s\n",
      "84:\tlearn: 0.3592166\ttotal: 129ms\tremaining: 1.39s\n",
      "85:\tlearn: 0.3568372\ttotal: 130ms\tremaining: 1.38s\n",
      "86:\tlearn: 0.3547261\ttotal: 131ms\tremaining: 1.38s\n",
      "87:\tlearn: 0.3522710\ttotal: 132ms\tremaining: 1.37s\n",
      "88:\tlearn: 0.3499227\ttotal: 133ms\tremaining: 1.36s\n",
      "89:\tlearn: 0.3477512\ttotal: 134ms\tremaining: 1.35s\n",
      "90:\tlearn: 0.3458508\ttotal: 134ms\tremaining: 1.34s\n",
      "91:\tlearn: 0.3437087\ttotal: 136ms\tremaining: 1.34s\n",
      "92:\tlearn: 0.3424671\ttotal: 136ms\tremaining: 1.33s\n",
      "93:\tlearn: 0.3408091\ttotal: 137ms\tremaining: 1.32s\n",
      "94:\tlearn: 0.3389806\ttotal: 138ms\tremaining: 1.31s\n",
      "95:\tlearn: 0.3377485\ttotal: 139ms\tremaining: 1.31s\n",
      "96:\tlearn: 0.3361397\ttotal: 140ms\tremaining: 1.3s\n",
      "97:\tlearn: 0.3341846\ttotal: 141ms\tremaining: 1.29s\n",
      "98:\tlearn: 0.3325582\ttotal: 141ms\tremaining: 1.29s\n",
      "99:\tlearn: 0.3307611\ttotal: 142ms\tremaining: 1.28s\n",
      "100:\tlearn: 0.3286284\ttotal: 143ms\tremaining: 1.27s\n",
      "101:\tlearn: 0.3264244\ttotal: 144ms\tremaining: 1.27s\n",
      "102:\tlearn: 0.3250771\ttotal: 145ms\tremaining: 1.26s\n",
      "103:\tlearn: 0.3237387\ttotal: 146ms\tremaining: 1.25s\n",
      "104:\tlearn: 0.3226582\ttotal: 146ms\tremaining: 1.25s\n",
      "105:\tlearn: 0.3211494\ttotal: 147ms\tremaining: 1.24s\n",
      "106:\tlearn: 0.3191271\ttotal: 148ms\tremaining: 1.24s\n",
      "107:\tlearn: 0.3177804\ttotal: 149ms\tremaining: 1.23s\n",
      "108:\tlearn: 0.3160214\ttotal: 150ms\tremaining: 1.23s\n",
      "109:\tlearn: 0.3142143\ttotal: 151ms\tremaining: 1.22s\n",
      "110:\tlearn: 0.3124079\ttotal: 152ms\tremaining: 1.22s\n",
      "111:\tlearn: 0.3112075\ttotal: 153ms\tremaining: 1.21s\n",
      "112:\tlearn: 0.3091406\ttotal: 154ms\tremaining: 1.21s\n",
      "113:\tlearn: 0.3075309\ttotal: 154ms\tremaining: 1.2s\n",
      "114:\tlearn: 0.3064485\ttotal: 155ms\tremaining: 1.19s\n",
      "115:\tlearn: 0.3052987\ttotal: 156ms\tremaining: 1.19s\n",
      "116:\tlearn: 0.3037078\ttotal: 157ms\tremaining: 1.18s\n",
      "117:\tlearn: 0.3024786\ttotal: 157ms\tremaining: 1.18s\n",
      "118:\tlearn: 0.3009750\ttotal: 158ms\tremaining: 1.17s\n",
      "119:\tlearn: 0.2996062\ttotal: 159ms\tremaining: 1.17s\n",
      "120:\tlearn: 0.2982844\ttotal: 160ms\tremaining: 1.16s\n",
      "121:\tlearn: 0.2970848\ttotal: 161ms\tremaining: 1.16s\n",
      "122:\tlearn: 0.2954024\ttotal: 161ms\tremaining: 1.15s\n",
      "123:\tlearn: 0.2945562\ttotal: 162ms\tremaining: 1.15s\n",
      "124:\tlearn: 0.2935769\ttotal: 163ms\tremaining: 1.14s\n",
      "125:\tlearn: 0.2923911\ttotal: 164ms\tremaining: 1.14s\n",
      "126:\tlearn: 0.2909421\ttotal: 165ms\tremaining: 1.13s\n",
      "127:\tlearn: 0.2898348\ttotal: 166ms\tremaining: 1.13s\n",
      "128:\tlearn: 0.2886652\ttotal: 166ms\tremaining: 1.12s\n",
      "129:\tlearn: 0.2872391\ttotal: 167ms\tremaining: 1.12s\n",
      "130:\tlearn: 0.2861420\ttotal: 168ms\tremaining: 1.11s\n",
      "131:\tlearn: 0.2849479\ttotal: 169ms\tremaining: 1.11s\n",
      "132:\tlearn: 0.2837261\ttotal: 170ms\tremaining: 1.1s\n",
      "133:\tlearn: 0.2831721\ttotal: 170ms\tremaining: 1.1s\n",
      "134:\tlearn: 0.2821059\ttotal: 171ms\tremaining: 1.1s\n",
      "135:\tlearn: 0.2811843\ttotal: 172ms\tremaining: 1.09s\n",
      "136:\tlearn: 0.2804226\ttotal: 173ms\tremaining: 1.09s\n",
      "137:\tlearn: 0.2791221\ttotal: 173ms\tremaining: 1.08s\n",
      "138:\tlearn: 0.2780448\ttotal: 174ms\tremaining: 1.08s\n",
      "139:\tlearn: 0.2773642\ttotal: 175ms\tremaining: 1.07s\n",
      "140:\tlearn: 0.2765593\ttotal: 176ms\tremaining: 1.07s\n",
      "141:\tlearn: 0.2757430\ttotal: 177ms\tremaining: 1.07s\n",
      "142:\tlearn: 0.2752060\ttotal: 177ms\tremaining: 1.06s\n",
      "143:\tlearn: 0.2741161\ttotal: 178ms\tremaining: 1.06s\n",
      "144:\tlearn: 0.2726466\ttotal: 179ms\tremaining: 1.05s\n",
      "145:\tlearn: 0.2716560\ttotal: 180ms\tremaining: 1.05s\n",
      "146:\tlearn: 0.2706475\ttotal: 181ms\tremaining: 1.05s\n",
      "147:\tlearn: 0.2695974\ttotal: 181ms\tremaining: 1.04s\n",
      "148:\tlearn: 0.2682474\ttotal: 182ms\tremaining: 1.04s\n",
      "149:\tlearn: 0.2678177\ttotal: 183ms\tremaining: 1.04s\n",
      "150:\tlearn: 0.2670014\ttotal: 184ms\tremaining: 1.03s\n",
      "151:\tlearn: 0.2662675\ttotal: 185ms\tremaining: 1.03s\n",
      "152:\tlearn: 0.2654980\ttotal: 185ms\tremaining: 1.03s\n",
      "153:\tlearn: 0.2647456\ttotal: 186ms\tremaining: 1.02s\n",
      "154:\tlearn: 0.2641682\ttotal: 187ms\tremaining: 1.02s\n",
      "155:\tlearn: 0.2630933\ttotal: 188ms\tremaining: 1.02s\n",
      "156:\tlearn: 0.2620054\ttotal: 189ms\tremaining: 1.01s\n",
      "157:\tlearn: 0.2607304\ttotal: 190ms\tremaining: 1.01s\n",
      "158:\tlearn: 0.2596290\ttotal: 191ms\tremaining: 1.01s\n"
     ]
    },
    {
     "name": "stdout",
     "output_type": "stream",
     "text": [
      "159:\tlearn: 0.2589453\ttotal: 191ms\tremaining: 1s\n",
      "160:\tlearn: 0.2582042\ttotal: 193ms\tremaining: 1s\n",
      "161:\tlearn: 0.2572439\ttotal: 193ms\tremaining: 1000ms\n",
      "162:\tlearn: 0.2562785\ttotal: 194ms\tremaining: 997ms\n",
      "163:\tlearn: 0.2554991\ttotal: 195ms\tremaining: 994ms\n",
      "164:\tlearn: 0.2549523\ttotal: 196ms\tremaining: 991ms\n",
      "165:\tlearn: 0.2542326\ttotal: 197ms\tremaining: 988ms\n",
      "166:\tlearn: 0.2536383\ttotal: 197ms\tremaining: 985ms\n",
      "167:\tlearn: 0.2527581\ttotal: 198ms\tremaining: 981ms\n",
      "168:\tlearn: 0.2521737\ttotal: 199ms\tremaining: 978ms\n",
      "169:\tlearn: 0.2515918\ttotal: 200ms\tremaining: 975ms\n",
      "170:\tlearn: 0.2509016\ttotal: 201ms\tremaining: 972ms\n",
      "171:\tlearn: 0.2502990\ttotal: 201ms\tremaining: 970ms\n",
      "172:\tlearn: 0.2498218\ttotal: 202ms\tremaining: 967ms\n",
      "173:\tlearn: 0.2485932\ttotal: 203ms\tremaining: 964ms\n",
      "174:\tlearn: 0.2478564\ttotal: 204ms\tremaining: 962ms\n",
      "175:\tlearn: 0.2472112\ttotal: 205ms\tremaining: 959ms\n",
      "176:\tlearn: 0.2462151\ttotal: 206ms\tremaining: 956ms\n",
      "177:\tlearn: 0.2456707\ttotal: 206ms\tremaining: 953ms\n",
      "178:\tlearn: 0.2447028\ttotal: 207ms\tremaining: 951ms\n",
      "179:\tlearn: 0.2440163\ttotal: 208ms\tremaining: 948ms\n",
      "180:\tlearn: 0.2430151\ttotal: 209ms\tremaining: 946ms\n",
      "181:\tlearn: 0.2424280\ttotal: 210ms\tremaining: 944ms\n",
      "182:\tlearn: 0.2417263\ttotal: 211ms\tremaining: 941ms\n",
      "183:\tlearn: 0.2411125\ttotal: 211ms\tremaining: 938ms\n",
      "184:\tlearn: 0.2402873\ttotal: 212ms\tremaining: 936ms\n",
      "185:\tlearn: 0.2395827\ttotal: 213ms\tremaining: 934ms\n",
      "186:\tlearn: 0.2388382\ttotal: 214ms\tremaining: 931ms\n",
      "187:\tlearn: 0.2379299\ttotal: 215ms\tremaining: 929ms\n",
      "188:\tlearn: 0.2370992\ttotal: 216ms\tremaining: 926ms\n",
      "189:\tlearn: 0.2363588\ttotal: 217ms\tremaining: 924ms\n",
      "190:\tlearn: 0.2358086\ttotal: 217ms\tremaining: 921ms\n",
      "191:\tlearn: 0.2351718\ttotal: 218ms\tremaining: 918ms\n",
      "192:\tlearn: 0.2345837\ttotal: 219ms\tremaining: 916ms\n",
      "193:\tlearn: 0.2339774\ttotal: 220ms\tremaining: 914ms\n",
      "194:\tlearn: 0.2332187\ttotal: 221ms\tremaining: 912ms\n",
      "195:\tlearn: 0.2326840\ttotal: 222ms\tremaining: 910ms\n",
      "196:\tlearn: 0.2321777\ttotal: 223ms\tremaining: 908ms\n",
      "197:\tlearn: 0.2315937\ttotal: 224ms\tremaining: 906ms\n",
      "198:\tlearn: 0.2307394\ttotal: 224ms\tremaining: 903ms\n",
      "199:\tlearn: 0.2298954\ttotal: 225ms\tremaining: 901ms\n",
      "200:\tlearn: 0.2293060\ttotal: 226ms\tremaining: 898ms\n",
      "201:\tlearn: 0.2284736\ttotal: 227ms\tremaining: 896ms\n",
      "202:\tlearn: 0.2279853\ttotal: 228ms\tremaining: 894ms\n",
      "203:\tlearn: 0.2274579\ttotal: 228ms\tremaining: 892ms\n",
      "204:\tlearn: 0.2267730\ttotal: 229ms\tremaining: 889ms\n",
      "205:\tlearn: 0.2260926\ttotal: 230ms\tremaining: 887ms\n",
      "206:\tlearn: 0.2254339\ttotal: 231ms\tremaining: 884ms\n",
      "207:\tlearn: 0.2249549\ttotal: 232ms\tremaining: 881ms\n",
      "208:\tlearn: 0.2243174\ttotal: 232ms\tremaining: 879ms\n",
      "209:\tlearn: 0.2239978\ttotal: 233ms\tremaining: 877ms\n",
      "210:\tlearn: 0.2235493\ttotal: 234ms\tremaining: 875ms\n",
      "211:\tlearn: 0.2231436\ttotal: 235ms\tremaining: 873ms\n",
      "212:\tlearn: 0.2227107\ttotal: 236ms\tremaining: 871ms\n",
      "213:\tlearn: 0.2223045\ttotal: 237ms\tremaining: 870ms\n",
      "214:\tlearn: 0.2217590\ttotal: 238ms\tremaining: 868ms\n",
      "215:\tlearn: 0.2212952\ttotal: 239ms\tremaining: 866ms\n",
      "216:\tlearn: 0.2209510\ttotal: 239ms\tremaining: 864ms\n",
      "217:\tlearn: 0.2206249\ttotal: 240ms\tremaining: 862ms\n",
      "218:\tlearn: 0.2200159\ttotal: 241ms\tremaining: 860ms\n",
      "219:\tlearn: 0.2195886\ttotal: 242ms\tremaining: 858ms\n",
      "220:\tlearn: 0.2190140\ttotal: 243ms\tremaining: 856ms\n",
      "221:\tlearn: 0.2185344\ttotal: 244ms\tremaining: 854ms\n",
      "222:\tlearn: 0.2179969\ttotal: 245ms\tremaining: 852ms\n",
      "223:\tlearn: 0.2176673\ttotal: 245ms\tremaining: 850ms\n",
      "224:\tlearn: 0.2171663\ttotal: 246ms\tremaining: 848ms\n",
      "225:\tlearn: 0.2164868\ttotal: 247ms\tremaining: 846ms\n",
      "226:\tlearn: 0.2160670\ttotal: 248ms\tremaining: 844ms\n",
      "227:\tlearn: 0.2156182\ttotal: 249ms\tremaining: 842ms\n",
      "228:\tlearn: 0.2150344\ttotal: 249ms\tremaining: 840ms\n",
      "229:\tlearn: 0.2145802\ttotal: 250ms\tremaining: 838ms\n",
      "230:\tlearn: 0.2142490\ttotal: 251ms\tremaining: 836ms\n",
      "231:\tlearn: 0.2136692\ttotal: 252ms\tremaining: 835ms\n",
      "232:\tlearn: 0.2129210\ttotal: 253ms\tremaining: 833ms\n",
      "233:\tlearn: 0.2125094\ttotal: 254ms\tremaining: 831ms\n",
      "234:\tlearn: 0.2120525\ttotal: 255ms\tremaining: 829ms\n",
      "235:\tlearn: 0.2114934\ttotal: 255ms\tremaining: 827ms\n",
      "236:\tlearn: 0.2107749\ttotal: 256ms\tremaining: 825ms\n",
      "237:\tlearn: 0.2103402\ttotal: 257ms\tremaining: 823ms\n",
      "238:\tlearn: 0.2096663\ttotal: 258ms\tremaining: 821ms\n",
      "239:\tlearn: 0.2090752\ttotal: 258ms\tremaining: 819ms\n",
      "240:\tlearn: 0.2087237\ttotal: 259ms\tremaining: 817ms\n",
      "241:\tlearn: 0.2083016\ttotal: 260ms\tremaining: 815ms\n",
      "242:\tlearn: 0.2080412\ttotal: 261ms\tremaining: 813ms\n",
      "243:\tlearn: 0.2076157\ttotal: 262ms\tremaining: 811ms\n",
      "244:\tlearn: 0.2071907\ttotal: 263ms\tremaining: 810ms\n",
      "245:\tlearn: 0.2065433\ttotal: 264ms\tremaining: 808ms\n",
      "246:\tlearn: 0.2059381\ttotal: 265ms\tremaining: 807ms\n",
      "247:\tlearn: 0.2055348\ttotal: 265ms\tremaining: 805ms\n",
      "248:\tlearn: 0.2051330\ttotal: 266ms\tremaining: 803ms\n",
      "249:\tlearn: 0.2048648\ttotal: 267ms\tremaining: 801ms\n",
      "250:\tlearn: 0.2045231\ttotal: 268ms\tremaining: 800ms\n",
      "251:\tlearn: 0.2041071\ttotal: 269ms\tremaining: 798ms\n",
      "252:\tlearn: 0.2036985\ttotal: 270ms\tremaining: 797ms\n",
      "253:\tlearn: 0.2034391\ttotal: 271ms\tremaining: 795ms\n",
      "254:\tlearn: 0.2029373\ttotal: 272ms\tremaining: 793ms\n",
      "255:\tlearn: 0.2026449\ttotal: 272ms\tremaining: 791ms\n",
      "256:\tlearn: 0.2022402\ttotal: 273ms\tremaining: 790ms\n",
      "257:\tlearn: 0.2017682\ttotal: 274ms\tremaining: 788ms\n",
      "258:\tlearn: 0.2014142\ttotal: 275ms\tremaining: 787ms\n",
      "259:\tlearn: 0.2011855\ttotal: 276ms\tremaining: 785ms\n",
      "260:\tlearn: 0.2007183\ttotal: 277ms\tremaining: 783ms\n",
      "261:\tlearn: 0.1999976\ttotal: 277ms\tremaining: 781ms\n",
      "262:\tlearn: 0.1996157\ttotal: 278ms\tremaining: 779ms\n",
      "263:\tlearn: 0.1991133\ttotal: 279ms\tremaining: 777ms\n",
      "264:\tlearn: 0.1987184\ttotal: 280ms\tremaining: 776ms\n",
      "265:\tlearn: 0.1983900\ttotal: 281ms\tremaining: 774ms\n",
      "266:\tlearn: 0.1979883\ttotal: 281ms\tremaining: 772ms\n",
      "267:\tlearn: 0.1976913\ttotal: 282ms\tremaining: 771ms\n",
      "268:\tlearn: 0.1972653\ttotal: 283ms\tremaining: 769ms\n",
      "269:\tlearn: 0.1970033\ttotal: 284ms\tremaining: 768ms\n",
      "270:\tlearn: 0.1965433\ttotal: 285ms\tremaining: 766ms\n",
      "271:\tlearn: 0.1962417\ttotal: 286ms\tremaining: 764ms\n",
      "272:\tlearn: 0.1958250\ttotal: 286ms\tremaining: 762ms\n",
      "273:\tlearn: 0.1956956\ttotal: 287ms\tremaining: 761ms\n",
      "274:\tlearn: 0.1951135\ttotal: 288ms\tremaining: 760ms\n",
      "275:\tlearn: 0.1947009\ttotal: 289ms\tremaining: 758ms\n",
      "276:\tlearn: 0.1943022\ttotal: 290ms\tremaining: 757ms\n",
      "277:\tlearn: 0.1939219\ttotal: 291ms\tremaining: 755ms\n",
      "278:\tlearn: 0.1934673\ttotal: 292ms\tremaining: 753ms\n",
      "279:\tlearn: 0.1930262\ttotal: 292ms\tremaining: 752ms\n",
      "280:\tlearn: 0.1928087\ttotal: 293ms\tremaining: 750ms\n",
      "281:\tlearn: 0.1926172\ttotal: 294ms\tremaining: 749ms\n",
      "282:\tlearn: 0.1923760\ttotal: 295ms\tremaining: 747ms\n",
      "283:\tlearn: 0.1920133\ttotal: 296ms\tremaining: 746ms\n",
      "284:\tlearn: 0.1915000\ttotal: 297ms\tremaining: 744ms\n",
      "285:\tlearn: 0.1910738\ttotal: 297ms\tremaining: 742ms\n"
     ]
    },
    {
     "name": "stdout",
     "output_type": "stream",
     "text": [
      "286:\tlearn: 0.1906119\ttotal: 298ms\tremaining: 741ms\n",
      "287:\tlearn: 0.1901897\ttotal: 299ms\tremaining: 740ms\n",
      "288:\tlearn: 0.1898178\ttotal: 300ms\tremaining: 739ms\n",
      "289:\tlearn: 0.1893481\ttotal: 301ms\tremaining: 737ms\n",
      "290:\tlearn: 0.1887898\ttotal: 302ms\tremaining: 735ms\n",
      "291:\tlearn: 0.1882464\ttotal: 303ms\tremaining: 734ms\n",
      "292:\tlearn: 0.1877760\ttotal: 303ms\tremaining: 732ms\n",
      "293:\tlearn: 0.1871253\ttotal: 304ms\tremaining: 731ms\n",
      "294:\tlearn: 0.1867218\ttotal: 305ms\tremaining: 729ms\n",
      "295:\tlearn: 0.1863050\ttotal: 307ms\tremaining: 729ms\n",
      "296:\tlearn: 0.1859084\ttotal: 307ms\tremaining: 728ms\n",
      "297:\tlearn: 0.1855776\ttotal: 308ms\tremaining: 726ms\n",
      "298:\tlearn: 0.1851695\ttotal: 309ms\tremaining: 725ms\n",
      "299:\tlearn: 0.1848589\ttotal: 310ms\tremaining: 724ms\n",
      "300:\tlearn: 0.1844636\ttotal: 311ms\tremaining: 722ms\n",
      "301:\tlearn: 0.1838617\ttotal: 312ms\tremaining: 721ms\n",
      "302:\tlearn: 0.1837452\ttotal: 313ms\tremaining: 719ms\n",
      "303:\tlearn: 0.1834172\ttotal: 314ms\tremaining: 718ms\n",
      "304:\tlearn: 0.1831254\ttotal: 315ms\tremaining: 717ms\n",
      "305:\tlearn: 0.1827075\ttotal: 315ms\tremaining: 715ms\n",
      "306:\tlearn: 0.1825289\ttotal: 316ms\tremaining: 714ms\n",
      "307:\tlearn: 0.1824434\ttotal: 317ms\tremaining: 712ms\n",
      "308:\tlearn: 0.1821568\ttotal: 318ms\tremaining: 711ms\n",
      "309:\tlearn: 0.1818610\ttotal: 319ms\tremaining: 710ms\n",
      "310:\tlearn: 0.1814309\ttotal: 320ms\tremaining: 708ms\n",
      "311:\tlearn: 0.1810886\ttotal: 321ms\tremaining: 707ms\n",
      "312:\tlearn: 0.1807615\ttotal: 321ms\tremaining: 705ms\n",
      "313:\tlearn: 0.1802586\ttotal: 322ms\tremaining: 704ms\n",
      "314:\tlearn: 0.1798481\ttotal: 323ms\tremaining: 702ms\n",
      "315:\tlearn: 0.1795658\ttotal: 324ms\tremaining: 701ms\n",
      "316:\tlearn: 0.1791994\ttotal: 325ms\tremaining: 699ms\n",
      "317:\tlearn: 0.1788200\ttotal: 326ms\tremaining: 698ms\n",
      "318:\tlearn: 0.1782800\ttotal: 326ms\tremaining: 697ms\n",
      "319:\tlearn: 0.1780194\ttotal: 327ms\tremaining: 695ms\n",
      "320:\tlearn: 0.1776090\ttotal: 328ms\tremaining: 694ms\n",
      "321:\tlearn: 0.1770080\ttotal: 329ms\tremaining: 693ms\n",
      "322:\tlearn: 0.1764698\ttotal: 330ms\tremaining: 691ms\n",
      "323:\tlearn: 0.1761073\ttotal: 331ms\tremaining: 690ms\n",
      "324:\tlearn: 0.1756557\ttotal: 331ms\tremaining: 688ms\n",
      "325:\tlearn: 0.1751218\ttotal: 332ms\tremaining: 687ms\n",
      "326:\tlearn: 0.1745870\ttotal: 333ms\tremaining: 685ms\n",
      "327:\tlearn: 0.1741842\ttotal: 334ms\tremaining: 684ms\n",
      "328:\tlearn: 0.1739549\ttotal: 334ms\tremaining: 682ms\n",
      "329:\tlearn: 0.1737098\ttotal: 335ms\tremaining: 681ms\n",
      "330:\tlearn: 0.1734416\ttotal: 336ms\tremaining: 679ms\n",
      "331:\tlearn: 0.1730497\ttotal: 337ms\tremaining: 678ms\n",
      "332:\tlearn: 0.1725831\ttotal: 338ms\tremaining: 677ms\n",
      "333:\tlearn: 0.1723080\ttotal: 339ms\tremaining: 675ms\n",
      "334:\tlearn: 0.1719627\ttotal: 340ms\tremaining: 674ms\n",
      "335:\tlearn: 0.1718229\ttotal: 341ms\tremaining: 674ms\n",
      "336:\tlearn: 0.1716243\ttotal: 342ms\tremaining: 673ms\n",
      "337:\tlearn: 0.1712429\ttotal: 343ms\tremaining: 672ms\n",
      "338:\tlearn: 0.1706670\ttotal: 344ms\tremaining: 670ms\n",
      "339:\tlearn: 0.1701522\ttotal: 345ms\tremaining: 669ms\n",
      "340:\tlearn: 0.1697417\ttotal: 345ms\tremaining: 668ms\n",
      "341:\tlearn: 0.1692504\ttotal: 346ms\tremaining: 666ms\n",
      "342:\tlearn: 0.1687048\ttotal: 347ms\tremaining: 665ms\n",
      "343:\tlearn: 0.1683137\ttotal: 348ms\tremaining: 663ms\n",
      "344:\tlearn: 0.1679579\ttotal: 349ms\tremaining: 662ms\n",
      "345:\tlearn: 0.1675366\ttotal: 349ms\tremaining: 660ms\n",
      "346:\tlearn: 0.1671754\ttotal: 350ms\tremaining: 659ms\n",
      "347:\tlearn: 0.1669928\ttotal: 351ms\tremaining: 658ms\n",
      "348:\tlearn: 0.1666431\ttotal: 352ms\tremaining: 656ms\n",
      "349:\tlearn: 0.1663281\ttotal: 353ms\tremaining: 655ms\n",
      "350:\tlearn: 0.1660506\ttotal: 354ms\tremaining: 654ms\n",
      "351:\tlearn: 0.1655694\ttotal: 354ms\tremaining: 652ms\n",
      "352:\tlearn: 0.1651629\ttotal: 355ms\tremaining: 651ms\n",
      "353:\tlearn: 0.1648650\ttotal: 356ms\tremaining: 650ms\n",
      "354:\tlearn: 0.1644954\ttotal: 357ms\tremaining: 648ms\n",
      "355:\tlearn: 0.1639657\ttotal: 358ms\tremaining: 647ms\n",
      "356:\tlearn: 0.1636260\ttotal: 358ms\tremaining: 646ms\n",
      "357:\tlearn: 0.1633515\ttotal: 359ms\tremaining: 644ms\n",
      "358:\tlearn: 0.1631552\ttotal: 360ms\tremaining: 643ms\n",
      "359:\tlearn: 0.1628025\ttotal: 361ms\tremaining: 641ms\n",
      "360:\tlearn: 0.1624975\ttotal: 362ms\tremaining: 640ms\n",
      "361:\tlearn: 0.1620688\ttotal: 362ms\tremaining: 639ms\n",
      "362:\tlearn: 0.1617369\ttotal: 363ms\tremaining: 637ms\n",
      "363:\tlearn: 0.1613615\ttotal: 364ms\tremaining: 636ms\n",
      "364:\tlearn: 0.1607769\ttotal: 365ms\tremaining: 635ms\n",
      "365:\tlearn: 0.1604950\ttotal: 366ms\tremaining: 634ms\n",
      "366:\tlearn: 0.1600465\ttotal: 366ms\tremaining: 632ms\n",
      "367:\tlearn: 0.1599412\ttotal: 367ms\tremaining: 631ms\n",
      "368:\tlearn: 0.1595118\ttotal: 368ms\tremaining: 630ms\n",
      "369:\tlearn: 0.1590481\ttotal: 369ms\tremaining: 628ms\n",
      "370:\tlearn: 0.1588392\ttotal: 370ms\tremaining: 627ms\n",
      "371:\tlearn: 0.1584101\ttotal: 370ms\tremaining: 625ms\n",
      "372:\tlearn: 0.1582263\ttotal: 371ms\tremaining: 624ms\n",
      "373:\tlearn: 0.1578392\ttotal: 372ms\tremaining: 623ms\n",
      "374:\tlearn: 0.1574599\ttotal: 373ms\tremaining: 621ms\n",
      "375:\tlearn: 0.1571082\ttotal: 374ms\tremaining: 620ms\n",
      "376:\tlearn: 0.1566055\ttotal: 374ms\tremaining: 619ms\n",
      "377:\tlearn: 0.1562798\ttotal: 375ms\tremaining: 617ms\n",
      "378:\tlearn: 0.1558192\ttotal: 376ms\tremaining: 616ms\n",
      "379:\tlearn: 0.1556967\ttotal: 377ms\tremaining: 615ms\n",
      "380:\tlearn: 0.1553601\ttotal: 378ms\tremaining: 614ms\n",
      "381:\tlearn: 0.1549468\ttotal: 379ms\tremaining: 612ms\n",
      "382:\tlearn: 0.1548840\ttotal: 379ms\tremaining: 611ms\n",
      "383:\tlearn: 0.1545274\ttotal: 380ms\tremaining: 610ms\n",
      "384:\tlearn: 0.1541837\ttotal: 381ms\tremaining: 608ms\n"
     ]
    },
    {
     "name": "stdout",
     "output_type": "stream",
     "text": [
      "385:\tlearn: 0.1537614\ttotal: 382ms\tremaining: 607ms\n",
      "386:\tlearn: 0.1535966\ttotal: 383ms\tremaining: 606ms\n",
      "387:\tlearn: 0.1531883\ttotal: 384ms\tremaining: 605ms\n",
      "388:\tlearn: 0.1527762\ttotal: 384ms\tremaining: 604ms\n",
      "389:\tlearn: 0.1525152\ttotal: 385ms\tremaining: 603ms\n",
      "390:\tlearn: 0.1522053\ttotal: 386ms\tremaining: 601ms\n",
      "391:\tlearn: 0.1518366\ttotal: 387ms\tremaining: 600ms\n",
      "392:\tlearn: 0.1514594\ttotal: 388ms\tremaining: 599ms\n",
      "393:\tlearn: 0.1512682\ttotal: 388ms\tremaining: 597ms\n",
      "394:\tlearn: 0.1510296\ttotal: 389ms\tremaining: 596ms\n",
      "395:\tlearn: 0.1507052\ttotal: 390ms\tremaining: 595ms\n",
      "396:\tlearn: 0.1503842\ttotal: 391ms\tremaining: 594ms\n",
      "397:\tlearn: 0.1500344\ttotal: 392ms\tremaining: 592ms\n",
      "398:\tlearn: 0.1498528\ttotal: 392ms\tremaining: 591ms\n",
      "399:\tlearn: 0.1494826\ttotal: 393ms\tremaining: 590ms\n",
      "400:\tlearn: 0.1492175\ttotal: 394ms\tremaining: 589ms\n",
      "401:\tlearn: 0.1488943\ttotal: 395ms\tremaining: 588ms\n",
      "402:\tlearn: 0.1485162\ttotal: 396ms\tremaining: 586ms\n",
      "403:\tlearn: 0.1482296\ttotal: 397ms\tremaining: 585ms\n",
      "404:\tlearn: 0.1481673\ttotal: 397ms\tremaining: 584ms\n",
      "405:\tlearn: 0.1478511\ttotal: 398ms\tremaining: 583ms\n",
      "406:\tlearn: 0.1474254\ttotal: 399ms\tremaining: 582ms\n",
      "407:\tlearn: 0.1470988\ttotal: 400ms\tremaining: 580ms\n",
      "408:\tlearn: 0.1468043\ttotal: 401ms\tremaining: 579ms\n",
      "409:\tlearn: 0.1464775\ttotal: 402ms\tremaining: 578ms\n",
      "410:\tlearn: 0.1461648\ttotal: 403ms\tremaining: 577ms\n",
      "411:\tlearn: 0.1457312\ttotal: 403ms\tremaining: 576ms\n",
      "412:\tlearn: 0.1453965\ttotal: 404ms\tremaining: 575ms\n",
      "413:\tlearn: 0.1451440\ttotal: 405ms\tremaining: 573ms\n",
      "414:\tlearn: 0.1447520\ttotal: 406ms\tremaining: 572ms\n",
      "415:\tlearn: 0.1447050\ttotal: 407ms\tremaining: 571ms\n",
      "416:\tlearn: 0.1444515\ttotal: 408ms\tremaining: 571ms\n",
      "417:\tlearn: 0.1443281\ttotal: 409ms\tremaining: 569ms\n",
      "418:\tlearn: 0.1440653\ttotal: 410ms\tremaining: 568ms\n",
      "419:\tlearn: 0.1437202\ttotal: 410ms\tremaining: 567ms\n",
      "420:\tlearn: 0.1433424\ttotal: 411ms\tremaining: 566ms\n",
      "421:\tlearn: 0.1432894\ttotal: 412ms\tremaining: 564ms\n",
      "422:\tlearn: 0.1429865\ttotal: 413ms\tremaining: 563ms\n",
      "423:\tlearn: 0.1427271\ttotal: 414ms\tremaining: 562ms\n",
      "424:\tlearn: 0.1423362\ttotal: 414ms\tremaining: 561ms\n",
      "425:\tlearn: 0.1419717\ttotal: 415ms\tremaining: 559ms\n",
      "426:\tlearn: 0.1418175\ttotal: 416ms\tremaining: 558ms\n",
      "427:\tlearn: 0.1417919\ttotal: 417ms\tremaining: 557ms\n",
      "428:\tlearn: 0.1415112\ttotal: 418ms\tremaining: 556ms\n",
      "429:\tlearn: 0.1412675\ttotal: 418ms\tremaining: 555ms\n",
      "430:\tlearn: 0.1411831\ttotal: 419ms\tremaining: 553ms\n",
      "431:\tlearn: 0.1409465\ttotal: 420ms\tremaining: 552ms\n",
      "432:\tlearn: 0.1408798\ttotal: 421ms\tremaining: 551ms\n",
      "433:\tlearn: 0.1405314\ttotal: 422ms\tremaining: 550ms\n",
      "434:\tlearn: 0.1403105\ttotal: 422ms\tremaining: 549ms\n",
      "435:\tlearn: 0.1400777\ttotal: 424ms\tremaining: 548ms\n",
      "436:\tlearn: 0.1398108\ttotal: 424ms\tremaining: 547ms\n",
      "437:\tlearn: 0.1394360\ttotal: 425ms\tremaining: 546ms\n",
      "438:\tlearn: 0.1392129\ttotal: 426ms\tremaining: 544ms\n",
      "439:\tlearn: 0.1388676\ttotal: 427ms\tremaining: 543ms\n",
      "440:\tlearn: 0.1388233\ttotal: 428ms\tremaining: 542ms\n",
      "441:\tlearn: 0.1383797\ttotal: 429ms\tremaining: 541ms\n",
      "442:\tlearn: 0.1380024\ttotal: 429ms\tremaining: 540ms\n",
      "443:\tlearn: 0.1377310\ttotal: 430ms\tremaining: 539ms\n",
      "444:\tlearn: 0.1373382\ttotal: 431ms\tremaining: 538ms\n",
      "445:\tlearn: 0.1371001\ttotal: 432ms\tremaining: 536ms\n",
      "446:\tlearn: 0.1367845\ttotal: 433ms\tremaining: 535ms\n",
      "447:\tlearn: 0.1364542\ttotal: 433ms\tremaining: 534ms\n",
      "448:\tlearn: 0.1361731\ttotal: 434ms\tremaining: 533ms\n",
      "449:\tlearn: 0.1361458\ttotal: 435ms\tremaining: 532ms\n",
      "450:\tlearn: 0.1361105\ttotal: 436ms\tremaining: 531ms\n",
      "451:\tlearn: 0.1358543\ttotal: 437ms\tremaining: 530ms\n",
      "452:\tlearn: 0.1355595\ttotal: 438ms\tremaining: 528ms\n",
      "453:\tlearn: 0.1352197\ttotal: 438ms\tremaining: 527ms\n",
      "454:\tlearn: 0.1348738\ttotal: 439ms\tremaining: 526ms\n",
      "455:\tlearn: 0.1346404\ttotal: 441ms\tremaining: 526ms\n",
      "456:\tlearn: 0.1343496\ttotal: 441ms\tremaining: 525ms\n",
      "457:\tlearn: 0.1340885\ttotal: 442ms\tremaining: 523ms\n",
      "458:\tlearn: 0.1337733\ttotal: 443ms\tremaining: 522ms\n",
      "459:\tlearn: 0.1334574\ttotal: 444ms\tremaining: 521ms\n",
      "460:\tlearn: 0.1332294\ttotal: 445ms\tremaining: 520ms\n",
      "461:\tlearn: 0.1331090\ttotal: 446ms\tremaining: 519ms\n",
      "462:\tlearn: 0.1327650\ttotal: 447ms\tremaining: 518ms\n",
      "463:\tlearn: 0.1326855\ttotal: 447ms\tremaining: 517ms\n",
      "464:\tlearn: 0.1323558\ttotal: 448ms\tremaining: 516ms\n",
      "465:\tlearn: 0.1323214\ttotal: 449ms\tremaining: 514ms\n",
      "466:\tlearn: 0.1320070\ttotal: 450ms\tremaining: 513ms\n",
      "467:\tlearn: 0.1318273\ttotal: 451ms\tremaining: 512ms\n",
      "468:\tlearn: 0.1316946\ttotal: 451ms\tremaining: 511ms\n",
      "469:\tlearn: 0.1313038\ttotal: 452ms\tremaining: 510ms\n",
      "470:\tlearn: 0.1311631\ttotal: 453ms\tremaining: 509ms\n",
      "471:\tlearn: 0.1311307\ttotal: 454ms\tremaining: 508ms\n",
      "472:\tlearn: 0.1308454\ttotal: 455ms\tremaining: 507ms\n",
      "473:\tlearn: 0.1305785\ttotal: 456ms\tremaining: 506ms\n",
      "474:\tlearn: 0.1302785\ttotal: 456ms\tremaining: 504ms\n",
      "475:\tlearn: 0.1299544\ttotal: 457ms\tremaining: 503ms\n",
      "476:\tlearn: 0.1297797\ttotal: 458ms\tremaining: 502ms\n",
      "477:\tlearn: 0.1294527\ttotal: 459ms\tremaining: 501ms\n",
      "478:\tlearn: 0.1292443\ttotal: 460ms\tremaining: 500ms\n",
      "479:\tlearn: 0.1289785\ttotal: 460ms\tremaining: 499ms\n",
      "480:\tlearn: 0.1289510\ttotal: 461ms\tremaining: 498ms\n",
      "481:\tlearn: 0.1285955\ttotal: 462ms\tremaining: 496ms\n",
      "482:\tlearn: 0.1283917\ttotal: 463ms\tremaining: 495ms\n",
      "483:\tlearn: 0.1281923\ttotal: 464ms\tremaining: 494ms\n",
      "484:\tlearn: 0.1278989\ttotal: 464ms\tremaining: 493ms\n",
      "485:\tlearn: 0.1277168\ttotal: 465ms\tremaining: 492ms\n",
      "486:\tlearn: 0.1274297\ttotal: 466ms\tremaining: 491ms\n",
      "487:\tlearn: 0.1272551\ttotal: 467ms\tremaining: 490ms\n",
      "488:\tlearn: 0.1270871\ttotal: 468ms\tremaining: 489ms\n",
      "489:\tlearn: 0.1268838\ttotal: 469ms\tremaining: 488ms\n",
      "490:\tlearn: 0.1266679\ttotal: 469ms\tremaining: 487ms\n",
      "491:\tlearn: 0.1264397\ttotal: 470ms\tremaining: 486ms\n",
      "492:\tlearn: 0.1261859\ttotal: 471ms\tremaining: 484ms\n",
      "493:\tlearn: 0.1260434\ttotal: 472ms\tremaining: 483ms\n",
      "494:\tlearn: 0.1259078\ttotal: 473ms\tremaining: 482ms\n",
      "495:\tlearn: 0.1256242\ttotal: 473ms\tremaining: 481ms\n",
      "496:\tlearn: 0.1254605\ttotal: 475ms\tremaining: 480ms\n",
      "497:\tlearn: 0.1252467\ttotal: 475ms\tremaining: 479ms\n",
      "498:\tlearn: 0.1250442\ttotal: 476ms\tremaining: 478ms\n",
      "499:\tlearn: 0.1248256\ttotal: 477ms\tremaining: 477ms\n",
      "500:\tlearn: 0.1246980\ttotal: 478ms\tremaining: 476ms\n",
      "501:\tlearn: 0.1243547\ttotal: 479ms\tremaining: 475ms\n",
      "502:\tlearn: 0.1240877\ttotal: 480ms\tremaining: 474ms\n",
      "503:\tlearn: 0.1238466\ttotal: 481ms\tremaining: 473ms\n",
      "504:\tlearn: 0.1237901\ttotal: 482ms\tremaining: 472ms\n",
      "505:\tlearn: 0.1235102\ttotal: 482ms\tremaining: 471ms\n",
      "506:\tlearn: 0.1233318\ttotal: 483ms\tremaining: 470ms\n",
      "507:\tlearn: 0.1231797\ttotal: 484ms\tremaining: 469ms\n",
      "508:\tlearn: 0.1231002\ttotal: 485ms\tremaining: 468ms\n",
      "509:\tlearn: 0.1227996\ttotal: 485ms\tremaining: 466ms\n",
      "510:\tlearn: 0.1225948\ttotal: 486ms\tremaining: 465ms\n",
      "511:\tlearn: 0.1222980\ttotal: 487ms\tremaining: 464ms\n",
      "512:\tlearn: 0.1219033\ttotal: 488ms\tremaining: 463ms\n"
     ]
    },
    {
     "name": "stdout",
     "output_type": "stream",
     "text": [
      "513:\tlearn: 0.1216678\ttotal: 489ms\tremaining: 462ms\n",
      "514:\tlearn: 0.1214118\ttotal: 490ms\tremaining: 461ms\n",
      "515:\tlearn: 0.1212232\ttotal: 491ms\tremaining: 460ms\n",
      "516:\tlearn: 0.1209198\ttotal: 491ms\tremaining: 459ms\n",
      "517:\tlearn: 0.1206414\ttotal: 492ms\tremaining: 458ms\n",
      "518:\tlearn: 0.1203852\ttotal: 493ms\tremaining: 457ms\n",
      "519:\tlearn: 0.1201241\ttotal: 494ms\tremaining: 456ms\n",
      "520:\tlearn: 0.1198803\ttotal: 495ms\tremaining: 455ms\n",
      "521:\tlearn: 0.1195511\ttotal: 495ms\tremaining: 454ms\n",
      "522:\tlearn: 0.1193413\ttotal: 496ms\tremaining: 453ms\n",
      "523:\tlearn: 0.1190784\ttotal: 497ms\tremaining: 452ms\n",
      "524:\tlearn: 0.1189119\ttotal: 498ms\tremaining: 450ms\n",
      "525:\tlearn: 0.1186809\ttotal: 499ms\tremaining: 449ms\n",
      "526:\tlearn: 0.1184424\ttotal: 499ms\tremaining: 448ms\n",
      "527:\tlearn: 0.1182647\ttotal: 500ms\tremaining: 447ms\n",
      "528:\tlearn: 0.1181144\ttotal: 501ms\tremaining: 446ms\n",
      "529:\tlearn: 0.1178441\ttotal: 502ms\tremaining: 445ms\n",
      "530:\tlearn: 0.1176333\ttotal: 503ms\tremaining: 444ms\n",
      "531:\tlearn: 0.1174111\ttotal: 503ms\tremaining: 443ms\n",
      "532:\tlearn: 0.1172475\ttotal: 504ms\tremaining: 442ms\n",
      "533:\tlearn: 0.1169963\ttotal: 505ms\tremaining: 441ms\n",
      "534:\tlearn: 0.1168591\ttotal: 506ms\tremaining: 440ms\n",
      "535:\tlearn: 0.1166202\ttotal: 507ms\tremaining: 439ms\n",
      "536:\tlearn: 0.1164745\ttotal: 508ms\tremaining: 438ms\n",
      "537:\tlearn: 0.1162993\ttotal: 508ms\tremaining: 437ms\n",
      "538:\tlearn: 0.1159608\ttotal: 509ms\tremaining: 436ms\n",
      "539:\tlearn: 0.1157770\ttotal: 510ms\tremaining: 435ms\n",
      "540:\tlearn: 0.1156965\ttotal: 511ms\tremaining: 434ms\n",
      "541:\tlearn: 0.1154032\ttotal: 512ms\tremaining: 432ms\n",
      "542:\tlearn: 0.1152237\ttotal: 513ms\tremaining: 431ms\n",
      "543:\tlearn: 0.1150457\ttotal: 513ms\tremaining: 430ms\n",
      "544:\tlearn: 0.1148145\ttotal: 514ms\tremaining: 429ms\n",
      "545:\tlearn: 0.1146021\ttotal: 515ms\tremaining: 428ms\n",
      "546:\tlearn: 0.1143133\ttotal: 516ms\tremaining: 428ms\n",
      "547:\tlearn: 0.1141243\ttotal: 517ms\tremaining: 427ms\n",
      "548:\tlearn: 0.1138889\ttotal: 518ms\tremaining: 426ms\n",
      "549:\tlearn: 0.1137151\ttotal: 519ms\tremaining: 424ms\n",
      "550:\tlearn: 0.1134241\ttotal: 519ms\tremaining: 423ms\n",
      "551:\tlearn: 0.1132239\ttotal: 520ms\tremaining: 422ms\n",
      "552:\tlearn: 0.1130541\ttotal: 521ms\tremaining: 421ms\n",
      "553:\tlearn: 0.1128693\ttotal: 522ms\tremaining: 420ms\n",
      "554:\tlearn: 0.1126808\ttotal: 523ms\tremaining: 419ms\n",
      "555:\tlearn: 0.1124205\ttotal: 524ms\tremaining: 418ms\n",
      "556:\tlearn: 0.1121373\ttotal: 525ms\tremaining: 417ms\n",
      "557:\tlearn: 0.1119980\ttotal: 526ms\tremaining: 416ms\n",
      "558:\tlearn: 0.1117359\ttotal: 526ms\tremaining: 415ms\n",
      "559:\tlearn: 0.1114894\ttotal: 527ms\tremaining: 414ms\n",
      "560:\tlearn: 0.1113928\ttotal: 528ms\tremaining: 413ms\n",
      "561:\tlearn: 0.1111427\ttotal: 529ms\tremaining: 412ms\n",
      "562:\tlearn: 0.1110355\ttotal: 529ms\tremaining: 411ms\n",
      "563:\tlearn: 0.1107717\ttotal: 530ms\tremaining: 410ms\n",
      "564:\tlearn: 0.1106309\ttotal: 531ms\tremaining: 409ms\n",
      "565:\tlearn: 0.1103783\ttotal: 532ms\tremaining: 408ms\n",
      "566:\tlearn: 0.1102095\ttotal: 533ms\tremaining: 407ms\n",
      "567:\tlearn: 0.1100396\ttotal: 534ms\tremaining: 406ms\n",
      "568:\tlearn: 0.1098328\ttotal: 534ms\tremaining: 405ms\n",
      "569:\tlearn: 0.1096083\ttotal: 535ms\tremaining: 404ms\n",
      "570:\tlearn: 0.1094559\ttotal: 536ms\tremaining: 403ms\n",
      "571:\tlearn: 0.1091883\ttotal: 537ms\tremaining: 402ms\n",
      "572:\tlearn: 0.1089761\ttotal: 538ms\tremaining: 401ms\n",
      "573:\tlearn: 0.1088007\ttotal: 538ms\tremaining: 400ms\n",
      "574:\tlearn: 0.1085826\ttotal: 539ms\tremaining: 399ms\n",
      "575:\tlearn: 0.1083736\ttotal: 540ms\tremaining: 398ms\n",
      "576:\tlearn: 0.1081780\ttotal: 541ms\tremaining: 397ms\n",
      "577:\tlearn: 0.1079720\ttotal: 542ms\tremaining: 395ms\n",
      "578:\tlearn: 0.1077529\ttotal: 543ms\tremaining: 394ms\n",
      "579:\tlearn: 0.1077068\ttotal: 543ms\tremaining: 393ms\n",
      "580:\tlearn: 0.1075741\ttotal: 544ms\tremaining: 392ms\n",
      "581:\tlearn: 0.1073985\ttotal: 545ms\tremaining: 391ms\n",
      "582:\tlearn: 0.1072689\ttotal: 546ms\tremaining: 390ms\n",
      "583:\tlearn: 0.1069828\ttotal: 546ms\tremaining: 389ms\n",
      "584:\tlearn: 0.1068982\ttotal: 547ms\tremaining: 388ms\n",
      "585:\tlearn: 0.1067124\ttotal: 548ms\tremaining: 387ms\n",
      "586:\tlearn: 0.1066529\ttotal: 549ms\tremaining: 386ms\n",
      "587:\tlearn: 0.1064918\ttotal: 550ms\tremaining: 385ms\n",
      "588:\tlearn: 0.1062365\ttotal: 551ms\tremaining: 384ms\n",
      "589:\tlearn: 0.1060190\ttotal: 551ms\tremaining: 383ms\n",
      "590:\tlearn: 0.1058189\ttotal: 552ms\tremaining: 382ms\n",
      "591:\tlearn: 0.1056899\ttotal: 553ms\tremaining: 381ms\n",
      "592:\tlearn: 0.1055229\ttotal: 554ms\tremaining: 380ms\n",
      "593:\tlearn: 0.1054058\ttotal: 554ms\tremaining: 379ms\n",
      "594:\tlearn: 0.1052065\ttotal: 555ms\tremaining: 378ms\n",
      "595:\tlearn: 0.1049673\ttotal: 556ms\tremaining: 377ms\n",
      "596:\tlearn: 0.1048703\ttotal: 557ms\tremaining: 376ms\n",
      "597:\tlearn: 0.1047829\ttotal: 557ms\tremaining: 375ms\n",
      "598:\tlearn: 0.1046640\ttotal: 558ms\tremaining: 374ms\n",
      "599:\tlearn: 0.1044646\ttotal: 559ms\tremaining: 373ms\n",
      "600:\tlearn: 0.1042969\ttotal: 560ms\tremaining: 372ms\n",
      "601:\tlearn: 0.1041498\ttotal: 561ms\tremaining: 371ms\n",
      "602:\tlearn: 0.1039502\ttotal: 561ms\tremaining: 370ms\n",
      "603:\tlearn: 0.1037444\ttotal: 562ms\tremaining: 369ms\n",
      "604:\tlearn: 0.1035565\ttotal: 563ms\tremaining: 368ms\n",
      "605:\tlearn: 0.1034291\ttotal: 564ms\tremaining: 367ms\n",
      "606:\tlearn: 0.1032613\ttotal: 565ms\tremaining: 366ms\n",
      "607:\tlearn: 0.1031337\ttotal: 566ms\tremaining: 365ms\n",
      "608:\tlearn: 0.1030803\ttotal: 566ms\tremaining: 364ms\n",
      "609:\tlearn: 0.1028955\ttotal: 567ms\tremaining: 363ms\n",
      "610:\tlearn: 0.1027019\ttotal: 568ms\tremaining: 362ms\n",
      "611:\tlearn: 0.1024568\ttotal: 569ms\tremaining: 361ms\n",
      "612:\tlearn: 0.1023237\ttotal: 570ms\tremaining: 360ms\n",
      "613:\tlearn: 0.1022356\ttotal: 571ms\tremaining: 359ms\n",
      "614:\tlearn: 0.1020214\ttotal: 572ms\tremaining: 358ms\n"
     ]
    },
    {
     "name": "stdout",
     "output_type": "stream",
     "text": [
      "615:\tlearn: 0.1018858\ttotal: 573ms\tremaining: 357ms\n",
      "616:\tlearn: 0.1016953\ttotal: 574ms\tremaining: 356ms\n",
      "617:\tlearn: 0.1015671\ttotal: 574ms\tremaining: 355ms\n",
      "618:\tlearn: 0.1014348\ttotal: 575ms\tremaining: 354ms\n",
      "619:\tlearn: 0.1012371\ttotal: 576ms\tremaining: 353ms\n",
      "620:\tlearn: 0.1010622\ttotal: 577ms\tremaining: 352ms\n",
      "621:\tlearn: 0.1008674\ttotal: 578ms\tremaining: 351ms\n",
      "622:\tlearn: 0.1006289\ttotal: 578ms\tremaining: 350ms\n",
      "623:\tlearn: 0.1005569\ttotal: 579ms\tremaining: 349ms\n",
      "624:\tlearn: 0.1004536\ttotal: 580ms\tremaining: 348ms\n",
      "625:\tlearn: 0.1004116\ttotal: 581ms\tremaining: 347ms\n",
      "626:\tlearn: 0.1002306\ttotal: 582ms\tremaining: 346ms\n",
      "627:\tlearn: 0.1001380\ttotal: 582ms\tremaining: 345ms\n",
      "628:\tlearn: 0.1000592\ttotal: 583ms\tremaining: 344ms\n",
      "629:\tlearn: 0.0998875\ttotal: 584ms\tremaining: 343ms\n",
      "630:\tlearn: 0.0998116\ttotal: 585ms\tremaining: 342ms\n",
      "631:\tlearn: 0.0996954\ttotal: 586ms\tremaining: 341ms\n",
      "632:\tlearn: 0.0995930\ttotal: 587ms\tremaining: 340ms\n",
      "633:\tlearn: 0.0994214\ttotal: 587ms\tremaining: 339ms\n",
      "634:\tlearn: 0.0993141\ttotal: 588ms\tremaining: 338ms\n",
      "635:\tlearn: 0.0992231\ttotal: 589ms\tremaining: 337ms\n",
      "636:\tlearn: 0.0990029\ttotal: 590ms\tremaining: 336ms\n",
      "637:\tlearn: 0.0988136\ttotal: 591ms\tremaining: 335ms\n",
      "638:\tlearn: 0.0987065\ttotal: 591ms\tremaining: 334ms\n",
      "639:\tlearn: 0.0985605\ttotal: 592ms\tremaining: 333ms\n",
      "640:\tlearn: 0.0983844\ttotal: 593ms\tremaining: 332ms\n",
      "641:\tlearn: 0.0981784\ttotal: 594ms\tremaining: 331ms\n",
      "642:\tlearn: 0.0979616\ttotal: 595ms\tremaining: 330ms\n",
      "643:\tlearn: 0.0978187\ttotal: 595ms\tremaining: 329ms\n",
      "644:\tlearn: 0.0976317\ttotal: 596ms\tremaining: 328ms\n",
      "645:\tlearn: 0.0975510\ttotal: 597ms\tremaining: 327ms\n",
      "646:\tlearn: 0.0974381\ttotal: 598ms\tremaining: 326ms\n",
      "647:\tlearn: 0.0973733\ttotal: 599ms\tremaining: 325ms\n",
      "648:\tlearn: 0.0971672\ttotal: 600ms\tremaining: 324ms\n",
      "649:\tlearn: 0.0969198\ttotal: 600ms\tremaining: 323ms\n",
      "650:\tlearn: 0.0968727\ttotal: 601ms\tremaining: 322ms\n",
      "651:\tlearn: 0.0966822\ttotal: 602ms\tremaining: 321ms\n",
      "652:\tlearn: 0.0965264\ttotal: 603ms\tremaining: 320ms\n",
      "653:\tlearn: 0.0963489\ttotal: 604ms\tremaining: 320ms\n",
      "654:\tlearn: 0.0961074\ttotal: 605ms\tremaining: 319ms\n",
      "655:\tlearn: 0.0959760\ttotal: 606ms\tremaining: 318ms\n",
      "656:\tlearn: 0.0958714\ttotal: 606ms\tremaining: 317ms\n",
      "657:\tlearn: 0.0956726\ttotal: 607ms\tremaining: 316ms\n",
      "658:\tlearn: 0.0954916\ttotal: 608ms\tremaining: 315ms\n",
      "659:\tlearn: 0.0952620\ttotal: 609ms\tremaining: 314ms\n",
      "660:\tlearn: 0.0950677\ttotal: 610ms\tremaining: 313ms\n",
      "661:\tlearn: 0.0949138\ttotal: 611ms\tremaining: 312ms\n",
      "662:\tlearn: 0.0947938\ttotal: 611ms\tremaining: 311ms\n",
      "663:\tlearn: 0.0946518\ttotal: 612ms\tremaining: 310ms\n",
      "664:\tlearn: 0.0945511\ttotal: 613ms\tremaining: 309ms\n",
      "665:\tlearn: 0.0944886\ttotal: 614ms\tremaining: 308ms\n",
      "666:\tlearn: 0.0943117\ttotal: 615ms\tremaining: 307ms\n",
      "667:\tlearn: 0.0941411\ttotal: 615ms\tremaining: 306ms\n",
      "668:\tlearn: 0.0938651\ttotal: 616ms\tremaining: 305ms\n",
      "669:\tlearn: 0.0937125\ttotal: 617ms\tremaining: 304ms\n",
      "670:\tlearn: 0.0936049\ttotal: 618ms\tremaining: 303ms\n",
      "671:\tlearn: 0.0935460\ttotal: 619ms\tremaining: 302ms\n",
      "672:\tlearn: 0.0932849\ttotal: 619ms\tremaining: 301ms\n",
      "673:\tlearn: 0.0931769\ttotal: 620ms\tremaining: 300ms\n",
      "674:\tlearn: 0.0930240\ttotal: 621ms\tremaining: 299ms\n",
      "675:\tlearn: 0.0929225\ttotal: 622ms\tremaining: 298ms\n",
      "676:\tlearn: 0.0927401\ttotal: 623ms\tremaining: 297ms\n",
      "677:\tlearn: 0.0926387\ttotal: 623ms\tremaining: 296ms\n",
      "678:\tlearn: 0.0924968\ttotal: 624ms\tremaining: 295ms\n",
      "679:\tlearn: 0.0923370\ttotal: 625ms\tremaining: 294ms\n",
      "680:\tlearn: 0.0921970\ttotal: 626ms\tremaining: 293ms\n",
      "681:\tlearn: 0.0920048\ttotal: 627ms\tremaining: 292ms\n",
      "682:\tlearn: 0.0917969\ttotal: 627ms\tremaining: 291ms\n",
      "683:\tlearn: 0.0917095\ttotal: 628ms\tremaining: 290ms\n",
      "684:\tlearn: 0.0915636\ttotal: 629ms\tremaining: 289ms\n",
      "685:\tlearn: 0.0914114\ttotal: 630ms\tremaining: 288ms\n",
      "686:\tlearn: 0.0913116\ttotal: 631ms\tremaining: 287ms\n",
      "687:\tlearn: 0.0912402\ttotal: 632ms\tremaining: 286ms\n",
      "688:\tlearn: 0.0911830\ttotal: 633ms\tremaining: 286ms\n",
      "689:\tlearn: 0.0909792\ttotal: 633ms\tremaining: 285ms\n",
      "690:\tlearn: 0.0909603\ttotal: 634ms\tremaining: 284ms\n",
      "691:\tlearn: 0.0907806\ttotal: 635ms\tremaining: 283ms\n",
      "692:\tlearn: 0.0906192\ttotal: 636ms\tremaining: 282ms\n",
      "693:\tlearn: 0.0904862\ttotal: 637ms\tremaining: 281ms\n",
      "694:\tlearn: 0.0903210\ttotal: 637ms\tremaining: 280ms\n",
      "695:\tlearn: 0.0900920\ttotal: 638ms\tremaining: 279ms\n",
      "696:\tlearn: 0.0899292\ttotal: 639ms\tremaining: 278ms\n",
      "697:\tlearn: 0.0897498\ttotal: 640ms\tremaining: 277ms\n",
      "698:\tlearn: 0.0896820\ttotal: 640ms\tremaining: 276ms\n",
      "699:\tlearn: 0.0896289\ttotal: 641ms\tremaining: 275ms\n",
      "700:\tlearn: 0.0894284\ttotal: 642ms\tremaining: 274ms\n",
      "701:\tlearn: 0.0893369\ttotal: 643ms\tremaining: 273ms\n",
      "702:\tlearn: 0.0892001\ttotal: 644ms\tremaining: 272ms\n",
      "703:\tlearn: 0.0890225\ttotal: 644ms\tremaining: 271ms\n",
      "704:\tlearn: 0.0888361\ttotal: 645ms\tremaining: 270ms\n",
      "705:\tlearn: 0.0886548\ttotal: 646ms\tremaining: 269ms\n",
      "706:\tlearn: 0.0885311\ttotal: 647ms\tremaining: 268ms\n",
      "707:\tlearn: 0.0882953\ttotal: 648ms\tremaining: 267ms\n",
      "708:\tlearn: 0.0881495\ttotal: 649ms\tremaining: 266ms\n",
      "709:\tlearn: 0.0880798\ttotal: 650ms\tremaining: 265ms\n",
      "710:\tlearn: 0.0879565\ttotal: 650ms\tremaining: 264ms\n",
      "711:\tlearn: 0.0878002\ttotal: 651ms\tremaining: 263ms\n",
      "712:\tlearn: 0.0876627\ttotal: 652ms\tremaining: 262ms\n",
      "713:\tlearn: 0.0875388\ttotal: 653ms\tremaining: 262ms\n",
      "714:\tlearn: 0.0873959\ttotal: 654ms\tremaining: 261ms\n",
      "715:\tlearn: 0.0872069\ttotal: 655ms\tremaining: 260ms\n",
      "716:\tlearn: 0.0870575\ttotal: 655ms\tremaining: 259ms\n",
      "717:\tlearn: 0.0868886\ttotal: 656ms\tremaining: 258ms\n",
      "718:\tlearn: 0.0867458\ttotal: 657ms\tremaining: 257ms\n",
      "719:\tlearn: 0.0865379\ttotal: 658ms\tremaining: 256ms\n",
      "720:\tlearn: 0.0864195\ttotal: 659ms\tremaining: 255ms\n",
      "721:\tlearn: 0.0862887\ttotal: 660ms\tremaining: 254ms\n",
      "722:\tlearn: 0.0861281\ttotal: 661ms\tremaining: 253ms\n",
      "723:\tlearn: 0.0860787\ttotal: 661ms\tremaining: 252ms\n",
      "724:\tlearn: 0.0859356\ttotal: 662ms\tremaining: 251ms\n",
      "725:\tlearn: 0.0858701\ttotal: 663ms\tremaining: 250ms\n",
      "726:\tlearn: 0.0857711\ttotal: 664ms\tremaining: 249ms\n",
      "727:\tlearn: 0.0857556\ttotal: 665ms\tremaining: 248ms\n",
      "728:\tlearn: 0.0856164\ttotal: 665ms\tremaining: 247ms\n",
      "729:\tlearn: 0.0855586\ttotal: 666ms\tremaining: 246ms\n",
      "730:\tlearn: 0.0854435\ttotal: 667ms\tremaining: 246ms\n",
      "731:\tlearn: 0.0853170\ttotal: 668ms\tremaining: 245ms\n",
      "732:\tlearn: 0.0852091\ttotal: 669ms\tremaining: 244ms\n",
      "733:\tlearn: 0.0850200\ttotal: 670ms\tremaining: 243ms\n",
      "734:\tlearn: 0.0849947\ttotal: 671ms\tremaining: 242ms\n",
      "735:\tlearn: 0.0847698\ttotal: 671ms\tremaining: 241ms\n",
      "736:\tlearn: 0.0846472\ttotal: 672ms\tremaining: 240ms\n",
      "737:\tlearn: 0.0844837\ttotal: 673ms\tremaining: 239ms\n",
      "738:\tlearn: 0.0843474\ttotal: 674ms\tremaining: 238ms\n",
      "739:\tlearn: 0.0842944\ttotal: 675ms\tremaining: 237ms\n",
      "740:\tlearn: 0.0842050\ttotal: 676ms\tremaining: 236ms\n",
      "741:\tlearn: 0.0840913\ttotal: 677ms\tremaining: 235ms\n",
      "742:\tlearn: 0.0839507\ttotal: 677ms\tremaining: 234ms\n",
      "743:\tlearn: 0.0837908\ttotal: 679ms\tremaining: 233ms\n"
     ]
    },
    {
     "name": "stdout",
     "output_type": "stream",
     "text": [
      "744:\tlearn: 0.0835945\ttotal: 680ms\tremaining: 233ms\n",
      "745:\tlearn: 0.0835219\ttotal: 681ms\tremaining: 232ms\n",
      "746:\tlearn: 0.0833979\ttotal: 682ms\tremaining: 231ms\n",
      "747:\tlearn: 0.0832589\ttotal: 683ms\tremaining: 230ms\n",
      "748:\tlearn: 0.0831507\ttotal: 684ms\tremaining: 229ms\n",
      "749:\tlearn: 0.0830521\ttotal: 685ms\tremaining: 228ms\n",
      "750:\tlearn: 0.0828684\ttotal: 686ms\tremaining: 227ms\n",
      "751:\tlearn: 0.0827776\ttotal: 687ms\tremaining: 227ms\n",
      "752:\tlearn: 0.0826558\ttotal: 688ms\tremaining: 226ms\n",
      "753:\tlearn: 0.0825024\ttotal: 689ms\tremaining: 225ms\n",
      "754:\tlearn: 0.0824648\ttotal: 690ms\tremaining: 224ms\n",
      "755:\tlearn: 0.0823878\ttotal: 691ms\tremaining: 223ms\n",
      "756:\tlearn: 0.0823467\ttotal: 692ms\tremaining: 222ms\n",
      "757:\tlearn: 0.0822413\ttotal: 692ms\tremaining: 221ms\n",
      "758:\tlearn: 0.0821250\ttotal: 693ms\tremaining: 220ms\n",
      "759:\tlearn: 0.0820267\ttotal: 694ms\tremaining: 219ms\n",
      "760:\tlearn: 0.0818555\ttotal: 695ms\tremaining: 218ms\n",
      "761:\tlearn: 0.0817867\ttotal: 696ms\tremaining: 217ms\n",
      "762:\tlearn: 0.0816963\ttotal: 697ms\tremaining: 217ms\n",
      "763:\tlearn: 0.0815741\ttotal: 698ms\tremaining: 216ms\n",
      "764:\tlearn: 0.0813958\ttotal: 699ms\tremaining: 215ms\n",
      "765:\tlearn: 0.0812805\ttotal: 700ms\tremaining: 214ms\n",
      "766:\tlearn: 0.0811579\ttotal: 701ms\tremaining: 213ms\n",
      "767:\tlearn: 0.0811409\ttotal: 701ms\tremaining: 212ms\n",
      "768:\tlearn: 0.0809739\ttotal: 702ms\tremaining: 211ms\n",
      "769:\tlearn: 0.0808925\ttotal: 703ms\tremaining: 210ms\n",
      "770:\tlearn: 0.0808289\ttotal: 704ms\tremaining: 209ms\n",
      "771:\tlearn: 0.0807602\ttotal: 704ms\tremaining: 208ms\n",
      "772:\tlearn: 0.0805548\ttotal: 705ms\tremaining: 207ms\n",
      "773:\tlearn: 0.0804320\ttotal: 706ms\tremaining: 206ms\n",
      "774:\tlearn: 0.0803211\ttotal: 707ms\tremaining: 205ms\n",
      "775:\tlearn: 0.0802137\ttotal: 708ms\tremaining: 204ms\n",
      "776:\tlearn: 0.0800333\ttotal: 709ms\tremaining: 203ms\n",
      "777:\tlearn: 0.0799270\ttotal: 710ms\tremaining: 202ms\n",
      "778:\tlearn: 0.0798390\ttotal: 711ms\tremaining: 202ms\n",
      "779:\tlearn: 0.0797080\ttotal: 712ms\tremaining: 201ms\n",
      "780:\tlearn: 0.0796637\ttotal: 712ms\tremaining: 200ms\n",
      "781:\tlearn: 0.0794523\ttotal: 713ms\tremaining: 199ms\n",
      "782:\tlearn: 0.0793617\ttotal: 714ms\tremaining: 198ms\n",
      "783:\tlearn: 0.0792795\ttotal: 715ms\tremaining: 197ms\n",
      "784:\tlearn: 0.0792657\ttotal: 715ms\tremaining: 196ms\n",
      "785:\tlearn: 0.0791390\ttotal: 716ms\tremaining: 195ms\n",
      "786:\tlearn: 0.0790209\ttotal: 717ms\tremaining: 194ms\n",
      "787:\tlearn: 0.0789260\ttotal: 718ms\tremaining: 193ms\n",
      "788:\tlearn: 0.0788822\ttotal: 719ms\tremaining: 192ms\n",
      "789:\tlearn: 0.0787592\ttotal: 719ms\tremaining: 191ms\n",
      "790:\tlearn: 0.0786623\ttotal: 720ms\tremaining: 190ms\n",
      "791:\tlearn: 0.0785649\ttotal: 721ms\tremaining: 189ms\n",
      "792:\tlearn: 0.0785218\ttotal: 722ms\tremaining: 188ms\n",
      "793:\tlearn: 0.0783817\ttotal: 723ms\tremaining: 187ms\n",
      "794:\tlearn: 0.0782281\ttotal: 723ms\tremaining: 187ms\n",
      "795:\tlearn: 0.0781497\ttotal: 724ms\tremaining: 186ms\n",
      "796:\tlearn: 0.0780489\ttotal: 725ms\tremaining: 185ms\n",
      "797:\tlearn: 0.0779460\ttotal: 726ms\tremaining: 184ms\n",
      "798:\tlearn: 0.0778761\ttotal: 727ms\tremaining: 183ms\n",
      "799:\tlearn: 0.0778178\ttotal: 727ms\tremaining: 182ms\n",
      "800:\tlearn: 0.0777533\ttotal: 728ms\tremaining: 181ms\n",
      "801:\tlearn: 0.0777089\ttotal: 729ms\tremaining: 180ms\n",
      "802:\tlearn: 0.0775676\ttotal: 730ms\tremaining: 179ms\n",
      "803:\tlearn: 0.0774756\ttotal: 731ms\tremaining: 178ms\n",
      "804:\tlearn: 0.0774328\ttotal: 732ms\tremaining: 177ms\n",
      "805:\tlearn: 0.0774004\ttotal: 733ms\tremaining: 176ms\n",
      "806:\tlearn: 0.0772980\ttotal: 733ms\tremaining: 175ms\n",
      "807:\tlearn: 0.0772335\ttotal: 734ms\tremaining: 174ms\n",
      "808:\tlearn: 0.0771185\ttotal: 735ms\tremaining: 174ms\n",
      "809:\tlearn: 0.0770056\ttotal: 736ms\tremaining: 173ms\n",
      "810:\tlearn: 0.0769305\ttotal: 737ms\tremaining: 172ms\n",
      "811:\tlearn: 0.0768529\ttotal: 737ms\tremaining: 171ms\n",
      "812:\tlearn: 0.0766841\ttotal: 738ms\tremaining: 170ms\n",
      "813:\tlearn: 0.0766685\ttotal: 739ms\tremaining: 169ms\n",
      "814:\tlearn: 0.0765208\ttotal: 740ms\tremaining: 168ms\n",
      "815:\tlearn: 0.0764771\ttotal: 741ms\tremaining: 167ms\n",
      "816:\tlearn: 0.0763533\ttotal: 742ms\tremaining: 166ms\n",
      "817:\tlearn: 0.0762571\ttotal: 742ms\tremaining: 165ms\n",
      "818:\tlearn: 0.0761240\ttotal: 743ms\tremaining: 164ms\n",
      "819:\tlearn: 0.0760136\ttotal: 744ms\tremaining: 163ms\n",
      "820:\tlearn: 0.0759339\ttotal: 745ms\tremaining: 162ms\n",
      "821:\tlearn: 0.0758573\ttotal: 746ms\tremaining: 161ms\n",
      "822:\tlearn: 0.0757715\ttotal: 747ms\tremaining: 161ms\n",
      "823:\tlearn: 0.0756653\ttotal: 747ms\tremaining: 160ms\n",
      "824:\tlearn: 0.0756260\ttotal: 748ms\tremaining: 159ms\n",
      "825:\tlearn: 0.0755237\ttotal: 749ms\tremaining: 158ms\n",
      "826:\tlearn: 0.0753786\ttotal: 750ms\tremaining: 157ms\n",
      "827:\tlearn: 0.0752570\ttotal: 751ms\tremaining: 156ms\n",
      "828:\tlearn: 0.0751654\ttotal: 751ms\tremaining: 155ms\n",
      "829:\tlearn: 0.0751091\ttotal: 752ms\tremaining: 154ms\n",
      "830:\tlearn: 0.0750022\ttotal: 753ms\tremaining: 153ms\n",
      "831:\tlearn: 0.0748769\ttotal: 754ms\tremaining: 152ms\n",
      "832:\tlearn: 0.0748031\ttotal: 755ms\tremaining: 151ms\n",
      "833:\tlearn: 0.0746526\ttotal: 756ms\tremaining: 150ms\n",
      "834:\tlearn: 0.0745765\ttotal: 756ms\tremaining: 149ms\n",
      "835:\tlearn: 0.0744446\ttotal: 757ms\tremaining: 149ms\n",
      "836:\tlearn: 0.0743140\ttotal: 758ms\tremaining: 148ms\n",
      "837:\tlearn: 0.0741710\ttotal: 759ms\tremaining: 147ms\n",
      "838:\tlearn: 0.0740687\ttotal: 760ms\tremaining: 146ms\n",
      "839:\tlearn: 0.0739802\ttotal: 760ms\tremaining: 145ms\n",
      "840:\tlearn: 0.0738918\ttotal: 761ms\tremaining: 144ms\n",
      "841:\tlearn: 0.0738511\ttotal: 762ms\tremaining: 143ms\n"
     ]
    },
    {
     "name": "stdout",
     "output_type": "stream",
     "text": [
      "842:\tlearn: 0.0737709\ttotal: 763ms\tremaining: 142ms\n",
      "843:\tlearn: 0.0736539\ttotal: 764ms\tremaining: 141ms\n",
      "844:\tlearn: 0.0736203\ttotal: 765ms\tremaining: 140ms\n",
      "845:\tlearn: 0.0734653\ttotal: 766ms\tremaining: 139ms\n",
      "846:\tlearn: 0.0733741\ttotal: 766ms\tremaining: 138ms\n",
      "847:\tlearn: 0.0733382\ttotal: 767ms\tremaining: 138ms\n",
      "848:\tlearn: 0.0732470\ttotal: 768ms\tremaining: 137ms\n",
      "849:\tlearn: 0.0730885\ttotal: 769ms\tremaining: 136ms\n",
      "850:\tlearn: 0.0729853\ttotal: 770ms\tremaining: 135ms\n",
      "851:\tlearn: 0.0728843\ttotal: 771ms\tremaining: 134ms\n",
      "852:\tlearn: 0.0727972\ttotal: 771ms\tremaining: 133ms\n",
      "853:\tlearn: 0.0727430\ttotal: 772ms\tremaining: 132ms\n",
      "854:\tlearn: 0.0726338\ttotal: 773ms\tremaining: 131ms\n",
      "855:\tlearn: 0.0724971\ttotal: 774ms\tremaining: 130ms\n",
      "856:\tlearn: 0.0724036\ttotal: 775ms\tremaining: 129ms\n",
      "857:\tlearn: 0.0723798\ttotal: 776ms\tremaining: 128ms\n",
      "858:\tlearn: 0.0722754\ttotal: 777ms\tremaining: 128ms\n",
      "859:\tlearn: 0.0721188\ttotal: 778ms\tremaining: 127ms\n",
      "860:\tlearn: 0.0720446\ttotal: 779ms\tremaining: 126ms\n",
      "861:\tlearn: 0.0719927\ttotal: 779ms\tremaining: 125ms\n",
      "862:\tlearn: 0.0719354\ttotal: 780ms\tremaining: 124ms\n",
      "863:\tlearn: 0.0718979\ttotal: 781ms\tremaining: 123ms\n",
      "864:\tlearn: 0.0718596\ttotal: 782ms\tremaining: 122ms\n",
      "865:\tlearn: 0.0717550\ttotal: 783ms\tremaining: 121ms\n",
      "866:\tlearn: 0.0716568\ttotal: 783ms\tremaining: 120ms\n",
      "867:\tlearn: 0.0715938\ttotal: 784ms\tremaining: 119ms\n",
      "868:\tlearn: 0.0715275\ttotal: 785ms\tremaining: 118ms\n",
      "869:\tlearn: 0.0714100\ttotal: 786ms\tremaining: 117ms\n",
      "870:\tlearn: 0.0713247\ttotal: 787ms\tremaining: 116ms\n",
      "871:\tlearn: 0.0711996\ttotal: 787ms\tremaining: 116ms\n",
      "872:\tlearn: 0.0711360\ttotal: 788ms\tremaining: 115ms\n",
      "873:\tlearn: 0.0710753\ttotal: 789ms\tremaining: 114ms\n",
      "874:\tlearn: 0.0710149\ttotal: 790ms\tremaining: 113ms\n",
      "875:\tlearn: 0.0709248\ttotal: 791ms\tremaining: 112ms\n",
      "876:\tlearn: 0.0707558\ttotal: 792ms\tremaining: 111ms\n",
      "877:\tlearn: 0.0706232\ttotal: 793ms\tremaining: 110ms\n",
      "878:\tlearn: 0.0705334\ttotal: 793ms\tremaining: 109ms\n",
      "879:\tlearn: 0.0704657\ttotal: 794ms\tremaining: 108ms\n",
      "880:\tlearn: 0.0703824\ttotal: 795ms\tremaining: 107ms\n",
      "881:\tlearn: 0.0702786\ttotal: 796ms\tremaining: 107ms\n",
      "882:\tlearn: 0.0702085\ttotal: 797ms\tremaining: 106ms\n",
      "883:\tlearn: 0.0701680\ttotal: 798ms\tremaining: 105ms\n",
      "884:\tlearn: 0.0700707\ttotal: 798ms\tremaining: 104ms\n",
      "885:\tlearn: 0.0699829\ttotal: 799ms\tremaining: 103ms\n",
      "886:\tlearn: 0.0699475\ttotal: 800ms\tremaining: 102ms\n",
      "887:\tlearn: 0.0699000\ttotal: 801ms\tremaining: 101ms\n",
      "888:\tlearn: 0.0697391\ttotal: 802ms\tremaining: 100ms\n",
      "889:\tlearn: 0.0696150\ttotal: 803ms\tremaining: 99.2ms\n",
      "890:\tlearn: 0.0694501\ttotal: 803ms\tremaining: 98.3ms\n",
      "891:\tlearn: 0.0694128\ttotal: 804ms\tremaining: 97.4ms\n",
      "892:\tlearn: 0.0693169\ttotal: 805ms\tremaining: 96.5ms\n",
      "893:\tlearn: 0.0692244\ttotal: 806ms\tremaining: 95.5ms\n",
      "894:\tlearn: 0.0691882\ttotal: 807ms\tremaining: 94.6ms\n",
      "895:\tlearn: 0.0691304\ttotal: 807ms\tremaining: 93.7ms\n",
      "896:\tlearn: 0.0690554\ttotal: 808ms\tremaining: 92.8ms\n",
      "897:\tlearn: 0.0689928\ttotal: 809ms\tremaining: 91.9ms\n",
      "898:\tlearn: 0.0689039\ttotal: 810ms\tremaining: 91ms\n",
      "899:\tlearn: 0.0688607\ttotal: 811ms\tremaining: 90.1ms\n",
      "900:\tlearn: 0.0687813\ttotal: 812ms\tremaining: 89.2ms\n",
      "901:\tlearn: 0.0687537\ttotal: 812ms\tremaining: 88.3ms\n",
      "902:\tlearn: 0.0687254\ttotal: 813ms\tremaining: 87.4ms\n",
      "903:\tlearn: 0.0686622\ttotal: 814ms\tremaining: 86.4ms\n",
      "904:\tlearn: 0.0685634\ttotal: 815ms\tremaining: 85.5ms\n",
      "905:\tlearn: 0.0685063\ttotal: 816ms\tremaining: 84.6ms\n",
      "906:\tlearn: 0.0683919\ttotal: 816ms\tremaining: 83.7ms\n",
      "907:\tlearn: 0.0683174\ttotal: 817ms\tremaining: 82.8ms\n",
      "908:\tlearn: 0.0682880\ttotal: 818ms\tremaining: 81.9ms\n",
      "909:\tlearn: 0.0682245\ttotal: 819ms\tremaining: 81ms\n",
      "910:\tlearn: 0.0681173\ttotal: 819ms\tremaining: 80ms\n",
      "911:\tlearn: 0.0680139\ttotal: 820ms\tremaining: 79.1ms\n",
      "912:\tlearn: 0.0678417\ttotal: 821ms\tremaining: 78.2ms\n",
      "913:\tlearn: 0.0677078\ttotal: 822ms\tremaining: 77.3ms\n",
      "914:\tlearn: 0.0675948\ttotal: 822ms\tremaining: 76.4ms\n",
      "915:\tlearn: 0.0675043\ttotal: 823ms\tremaining: 75.5ms\n",
      "916:\tlearn: 0.0674001\ttotal: 824ms\tremaining: 74.6ms\n",
      "917:\tlearn: 0.0673047\ttotal: 825ms\tremaining: 73.7ms\n",
      "918:\tlearn: 0.0672340\ttotal: 826ms\tremaining: 72.8ms\n",
      "919:\tlearn: 0.0671751\ttotal: 827ms\tremaining: 71.9ms\n",
      "920:\tlearn: 0.0670790\ttotal: 828ms\tremaining: 71ms\n",
      "921:\tlearn: 0.0669934\ttotal: 828ms\tremaining: 70.1ms\n",
      "922:\tlearn: 0.0668815\ttotal: 829ms\tremaining: 69.2ms\n",
      "923:\tlearn: 0.0668508\ttotal: 830ms\tremaining: 68.3ms\n",
      "924:\tlearn: 0.0666832\ttotal: 831ms\tremaining: 67.4ms\n",
      "925:\tlearn: 0.0666231\ttotal: 832ms\tremaining: 66.5ms\n",
      "926:\tlearn: 0.0665112\ttotal: 833ms\tremaining: 65.6ms\n",
      "927:\tlearn: 0.0664537\ttotal: 833ms\tremaining: 64.7ms\n",
      "928:\tlearn: 0.0664050\ttotal: 834ms\tremaining: 63.8ms\n",
      "929:\tlearn: 0.0663982\ttotal: 835ms\tremaining: 62.9ms\n",
      "930:\tlearn: 0.0663661\ttotal: 836ms\tremaining: 62ms\n",
      "931:\tlearn: 0.0663556\ttotal: 837ms\tremaining: 61.1ms\n",
      "932:\tlearn: 0.0662652\ttotal: 838ms\tremaining: 60.2ms\n",
      "933:\tlearn: 0.0661319\ttotal: 839ms\tremaining: 59.3ms\n",
      "934:\tlearn: 0.0660608\ttotal: 840ms\tremaining: 58.4ms\n",
      "935:\tlearn: 0.0659499\ttotal: 841ms\tremaining: 57.5ms\n",
      "936:\tlearn: 0.0658793\ttotal: 841ms\tremaining: 56.6ms\n",
      "937:\tlearn: 0.0657733\ttotal: 842ms\tremaining: 55.7ms\n",
      "938:\tlearn: 0.0657073\ttotal: 843ms\tremaining: 54.8ms\n",
      "939:\tlearn: 0.0656070\ttotal: 844ms\tremaining: 53.9ms\n",
      "940:\tlearn: 0.0655968\ttotal: 845ms\tremaining: 53ms\n",
      "941:\tlearn: 0.0655873\ttotal: 845ms\tremaining: 52ms\n",
      "942:\tlearn: 0.0655785\ttotal: 846ms\tremaining: 51.1ms\n",
      "943:\tlearn: 0.0654870\ttotal: 847ms\tremaining: 50.2ms\n",
      "944:\tlearn: 0.0654241\ttotal: 848ms\tremaining: 49.3ms\n",
      "945:\tlearn: 0.0653108\ttotal: 849ms\tremaining: 48.4ms\n",
      "946:\tlearn: 0.0652165\ttotal: 849ms\tremaining: 47.5ms\n",
      "947:\tlearn: 0.0650975\ttotal: 850ms\tremaining: 46.6ms\n",
      "948:\tlearn: 0.0650217\ttotal: 851ms\tremaining: 45.7ms\n",
      "949:\tlearn: 0.0649448\ttotal: 852ms\tremaining: 44.9ms\n",
      "950:\tlearn: 0.0648548\ttotal: 853ms\tremaining: 44ms\n",
      "951:\tlearn: 0.0647686\ttotal: 854ms\tremaining: 43.1ms\n",
      "952:\tlearn: 0.0646747\ttotal: 855ms\tremaining: 42.1ms\n",
      "953:\tlearn: 0.0645757\ttotal: 855ms\tremaining: 41.2ms\n",
      "954:\tlearn: 0.0645000\ttotal: 856ms\tremaining: 40.3ms\n",
      "955:\tlearn: 0.0644364\ttotal: 858ms\tremaining: 39.5ms\n",
      "956:\tlearn: 0.0643483\ttotal: 859ms\tremaining: 38.6ms\n",
      "957:\tlearn: 0.0643260\ttotal: 859ms\tremaining: 37.7ms\n",
      "958:\tlearn: 0.0641923\ttotal: 860ms\tremaining: 36.8ms\n",
      "959:\tlearn: 0.0641653\ttotal: 862ms\tremaining: 35.9ms\n",
      "960:\tlearn: 0.0640449\ttotal: 863ms\tremaining: 35ms\n",
      "961:\tlearn: 0.0638923\ttotal: 864ms\tremaining: 34.1ms\n",
      "962:\tlearn: 0.0637968\ttotal: 864ms\tremaining: 33.2ms\n",
      "963:\tlearn: 0.0637040\ttotal: 865ms\tremaining: 32.3ms\n",
      "964:\tlearn: 0.0636408\ttotal: 866ms\tremaining: 31.4ms\n",
      "965:\tlearn: 0.0635725\ttotal: 867ms\tremaining: 30.5ms\n",
      "966:\tlearn: 0.0635093\ttotal: 868ms\tremaining: 29.6ms\n",
      "967:\tlearn: 0.0634475\ttotal: 868ms\tremaining: 28.7ms\n",
      "968:\tlearn: 0.0633675\ttotal: 869ms\tremaining: 27.8ms\n"
     ]
    },
    {
     "name": "stdout",
     "output_type": "stream",
     "text": [
      "969:\tlearn: 0.0633410\ttotal: 870ms\tremaining: 26.9ms\n",
      "970:\tlearn: 0.0633301\ttotal: 871ms\tremaining: 26ms\n",
      "971:\tlearn: 0.0632817\ttotal: 872ms\tremaining: 25.1ms\n",
      "972:\tlearn: 0.0631851\ttotal: 872ms\tremaining: 24.2ms\n",
      "973:\tlearn: 0.0630610\ttotal: 873ms\tremaining: 23.3ms\n",
      "974:\tlearn: 0.0628939\ttotal: 874ms\tremaining: 22.4ms\n",
      "975:\tlearn: 0.0628283\ttotal: 875ms\tremaining: 21.5ms\n",
      "976:\tlearn: 0.0627357\ttotal: 876ms\tremaining: 20.6ms\n",
      "977:\tlearn: 0.0626655\ttotal: 876ms\tremaining: 19.7ms\n",
      "978:\tlearn: 0.0625801\ttotal: 877ms\tremaining: 18.8ms\n",
      "979:\tlearn: 0.0625277\ttotal: 878ms\tremaining: 17.9ms\n",
      "980:\tlearn: 0.0624886\ttotal: 879ms\tremaining: 17ms\n",
      "981:\tlearn: 0.0623867\ttotal: 880ms\tremaining: 16.1ms\n",
      "982:\tlearn: 0.0623343\ttotal: 881ms\tremaining: 15.2ms\n",
      "983:\tlearn: 0.0622689\ttotal: 882ms\tremaining: 14.3ms\n",
      "984:\tlearn: 0.0621901\ttotal: 883ms\tremaining: 13.4ms\n",
      "985:\tlearn: 0.0620557\ttotal: 883ms\tremaining: 12.5ms\n",
      "986:\tlearn: 0.0620323\ttotal: 884ms\tremaining: 11.6ms\n",
      "987:\tlearn: 0.0619061\ttotal: 885ms\tremaining: 10.8ms\n",
      "988:\tlearn: 0.0618349\ttotal: 886ms\tremaining: 9.85ms\n",
      "989:\tlearn: 0.0617396\ttotal: 887ms\tremaining: 8.96ms\n",
      "990:\tlearn: 0.0616342\ttotal: 887ms\tremaining: 8.06ms\n",
      "991:\tlearn: 0.0615612\ttotal: 888ms\tremaining: 7.16ms\n",
      "992:\tlearn: 0.0615377\ttotal: 889ms\tremaining: 6.27ms\n",
      "993:\tlearn: 0.0614945\ttotal: 890ms\tremaining: 5.37ms\n",
      "994:\tlearn: 0.0614310\ttotal: 891ms\tremaining: 4.47ms\n",
      "995:\tlearn: 0.0613323\ttotal: 891ms\tremaining: 3.58ms\n",
      "996:\tlearn: 0.0612771\ttotal: 892ms\tremaining: 2.68ms\n",
      "997:\tlearn: 0.0611767\ttotal: 893ms\tremaining: 1.79ms\n",
      "998:\tlearn: 0.0610581\ttotal: 894ms\tremaining: 894us\n",
      "999:\tlearn: 0.0610206\ttotal: 895ms\tremaining: 0us\n"
     ]
    },
    {
     "data": {
      "text/plain": [
       "<catboost.core.CatBoostRegressor at 0x7fc231652490>"
      ]
     },
     "execution_count": 9,
     "metadata": {},
     "output_type": "execute_result"
    }
   ],
   "source": [
    "#Train the Model \n",
    "prior_model = ctb.CatBoostRegressor()\n",
    "prior_model.fit(X_train,Y_train)"
   ]
  },
  {
   "cell_type": "code",
   "execution_count": 10,
   "id": "af65dcda",
   "metadata": {
    "execution": {
     "iopub.execute_input": "2022-06-12T03:00:40.583535Z",
     "iopub.status.busy": "2022-06-12T03:00:40.583142Z",
     "iopub.status.idle": "2022-06-12T03:00:40.590644Z",
     "shell.execute_reply": "2022-06-12T03:00:40.590954Z"
    },
    "id": "af65dcda",
    "papermill": {
     "duration": 0.021191,
     "end_time": "2022-06-12T03:00:40.591078",
     "exception": false,
     "start_time": "2022-06-12T03:00:40.569887",
     "status": "completed"
    },
    "tags": []
   },
   "outputs": [
    {
     "data": {
      "application/scrapbook.scrap.json+json": {
       "data": 0.04965283119004565,
       "encoder": "json",
       "name": "Prior Model MSE",
       "version": 1
      }
     },
     "metadata": {
      "scrapbook": {
       "data": true,
       "display": false,
       "name": "Prior Model MSE"
      }
     },
     "output_type": "display_data"
    },
    {
     "data": {
      "application/scrapbook.scrap.json+json": {
       "data": 0.058725794146880846,
       "encoder": "json",
       "name": "ABC Pre-generator MSE",
       "version": 1
      }
     },
     "metadata": {
      "scrapbook": {
       "data": true,
       "display": false,
       "name": "ABC Pre-generator MSE"
      }
     },
     "output_type": "display_data"
    },
    {
     "data": {
      "application/scrapbook.scrap.json+json": {
       "data": 0.16926358484394216,
       "encoder": "json",
       "name": "Prior Model MSE",
       "version": 1
      }
     },
     "metadata": {
      "scrapbook": {
       "data": true,
       "display": false,
       "name": "Prior Model MSE"
      }
     },
     "output_type": "display_data"
    },
    {
     "data": {
      "application/scrapbook.scrap.json+json": {
       "data": 0.19298629062294692,
       "encoder": "json",
       "name": "ABC Pre-generator MSE",
       "version": 1
      }
     },
     "metadata": {
      "scrapbook": {
       "data": true,
       "display": false,
       "name": "ABC Pre-generator MSE"
      }
     },
     "output_type": "display_data"
    }
   ],
   "source": [
    "y_pred = prior_model.predict(X_test)\n",
    "y_abc = y_pred + np.random.normal(0,variance, y_pred.shape) + bias \n",
    "mse = mean_squared_error(y_pred,Y_test)\n",
    "sb.glue(\"Prior Model MSE\",mse)\n",
    "mse = mean_squared_error(y_abc,Y_test)\n",
    "sb.glue(\"ABC Pre-generator MSE\",mse)\n",
    "mae = mean_absolute_error(y_pred,Y_test)\n",
    "sb.glue(\"Prior Model MSE\",mae)\n",
    "mae = mean_absolute_error(y_abc,Y_test)\n",
    "sb.glue(\"ABC Pre-generator MSE\",mae)"
   ]
  },
  {
   "cell_type": "markdown",
   "id": "25609da2",
   "metadata": {
    "papermill": {
     "duration": 0.009912,
     "end_time": "2022-06-12T03:00:40.611169",
     "exception": false,
     "start_time": "2022-06-12T03:00:40.601257",
     "status": "completed"
    },
    "tags": []
   },
   "source": [
    "# ABC GAN Model"
   ]
  },
  {
   "cell_type": "code",
   "execution_count": 11,
   "id": "dfc3464d",
   "metadata": {
    "execution": {
     "iopub.execute_input": "2022-06-12T03:00:40.634020Z",
     "iopub.status.busy": "2022-06-12T03:00:40.633667Z",
     "iopub.status.idle": "2022-06-12T03:00:40.635959Z",
     "shell.execute_reply": "2022-06-12T03:00:40.636196Z"
    },
    "papermill": {
     "duration": 0.015284,
     "end_time": "2022-06-12T03:00:40.636306",
     "exception": false,
     "start_time": "2022-06-12T03:00:40.621022",
     "status": "completed"
    },
    "tags": []
   },
   "outputs": [],
   "source": [
    "gen = network.Generator(n_features+1).to(device)\n",
    "disc = network.Discriminator(n_features+1).to(device)\n",
    "\n",
    "criterion = torch.nn.BCELoss()\n",
    "gen_opt = torch.optim.Adam(gen.parameters(), lr=0.001, betas=(0.5, 0.999))\n",
    "disc_opt = torch.optim.Adam(disc.parameters(), lr=0.001, betas=(0.5, 0.999))"
   ]
  },
  {
   "cell_type": "code",
   "execution_count": 12,
   "id": "b75fdd85",
   "metadata": {
    "execution": {
     "iopub.execute_input": "2022-06-12T03:00:40.658782Z",
     "iopub.status.busy": "2022-06-12T03:00:40.658401Z",
     "iopub.status.idle": "2022-06-12T03:01:41.595829Z",
     "shell.execute_reply": "2022-06-12T03:01:41.596079Z"
    },
    "papermill": {
     "duration": 60.949955,
     "end_time": "2022-06-12T03:01:41.596197",
     "exception": false,
     "start_time": "2022-06-12T03:00:40.646242",
     "status": "completed"
    },
    "tags": []
   },
   "outputs": [
    {
     "data": {
      "image/png": "[encoded data removed]",
      "text/plain": [
       "<Figure size 432x288 with 1 Axes>"
      ]
     },
     "metadata": {
      "needs_background": "light"
     },
     "output_type": "display_data"
    },
    {
     "data": {
      "image/png": "[encoded data removed]",
      "text/plain": [
       "<Figure size 432x288 with 1 Axes>"
      ]
     },
     "metadata": {
      "needs_background": "light"
     },
     "output_type": "display_data"
    }
   ],
   "source": [
    "#Training the ABC_GAN \n",
    "ABC_train_test2.training_GAN(disc,gen,disc_opt,gen_opt,train_data,batch_size,n_epochs,criterion,prior_model,variance,bias,device)"
   ]
  },
  {
   "cell_type": "code",
   "execution_count": 13,
   "id": "1fa7c368",
   "metadata": {
    "execution": {
     "iopub.execute_input": "2022-06-12T03:01:41.621005Z",
     "iopub.status.busy": "2022-06-12T03:01:41.620634Z",
     "iopub.status.idle": "2022-06-12T03:01:41.929809Z",
     "shell.execute_reply": "2022-06-12T03:01:41.930119Z"
    },
    "papermill": {
     "duration": 0.323422,
     "end_time": "2022-06-12T03:01:41.930242",
     "exception": false,
     "start_time": "2022-06-12T03:01:41.606820",
     "status": "completed"
    },
    "tags": []
   },
   "outputs": [
    {
     "data": {
      "application/scrapbook.scrap.json+json": {
       "data": 0.0571035496665251,
       "encoder": "json",
       "name": "ABC-GAN Model 1 MSE",
       "version": 1
      }
     },
     "metadata": {
      "scrapbook": {
       "data": true,
       "display": false,
       "name": "ABC-GAN Model 1 MSE"
      }
     },
     "output_type": "display_data"
    },
    {
     "data": {
      "application/scrapbook.scrap.json+json": {
       "data": 0.1834632534446085,
       "encoder": "json",
       "name": "ABC-GAN Model 1 MAE",
       "version": 1
      }
     },
     "metadata": {
      "scrapbook": {
       "data": true,
       "display": false,
       "name": "ABC-GAN Model 1 MAE"
      }
     },
     "output_type": "display_data"
    },
    {
     "data": {
      "application/scrapbook.scrap.json+json": {
       "data": 18.71325185135007,
       "encoder": "json",
       "name": "ABC-GAN Model 1 Manhattan Distance",
       "version": 1
      }
     },
     "metadata": {
      "scrapbook": {
       "data": true,
       "display": false,
       "name": "ABC-GAN Model 1 Manhattan Distance"
      }
     },
     "output_type": "display_data"
    },
    {
     "data": {
      "application/scrapbook.scrap.json+json": {
       "data": 2.4125963388514857,
       "encoder": "json",
       "name": "ABC-GAN Model 1 Euclidean distance",
       "version": 1
      }
     },
     "metadata": {
      "scrapbook": {
       "data": true,
       "display": false,
       "name": "ABC-GAN Model 1 Euclidean distance"
      }
     },
     "output_type": "display_data"
    },
    {
     "data": {
      "application/scrapbook.scrap.json+json": {
       "data": [
        [
         0.05472313286596192,
         0.05640582443828893,
         0.055437718356726326,
         0.06007591529890472,
         0.056766428828781156,
         0.049765490287659295,
         0.0591026224385523,
         0.05794248923236108,
         0.05947301258492043,
         0.057378117452785066,
         0.06014169008834971,
         0.05162231572277289,
         0.05531386572914656,
         0.05649380891852295,
         0.05521532253805102,
         0.05985341901971311,
         0.05505789522999481,
         0.06176124389840424,
         0.06083226121536985,
         0.054629587267904255,
         0.05902491430706687,
         0.054779712276258205,
         0.055367997867184486,
         0.05713950011096978,
         0.057755831731348385,
         0.05770119177260531,
         0.06362096797004589,
         0.059524867916348326,
         0.05583842776591122,
         0.05929928080285637,
         0.05518019446351846,
         0.05785994532173536,
         0.054965305719912844,
         0.05587409453136684,
         0.05617044540327738,
         0.06182831199542896,
         0.05952289301847843,
         0.05755922002851242,
         0.057661726993401954,
         0.058173159334009614,
         0.05014123651551164,
         0.05416546213330063,
         0.0589139692828059,
         0.05373308029055795,
         0.0565776649065792,
         0.06191791651644891,
         0.052299272586309176,
         0.056429330303899315,
         0.0570362615135526,
         0.056680835854181585,
         0.05220372252252648,
         0.058212362510968244,
         0.055369251552642176,
         0.0597796999675715,
         0.05545268196209456,
         0.05161973387624891,
         0.05634380284829748,
         0.05654834559612131,
         0.0572830498758082,
         0.05698524168621568,
         0.061966165873666386,
         0.05825246795214698,
         0.05170006279987619,
         0.058939015111253594,
         0.058371935833524284,
         0.054535943873300824,
         0.061890270829989026,
         0.059951077976918545,
         0.05587943368842193,
         0.056790274794644297,
         0.05825153698487413,
         0.05706438353041889,
         0.05690975647735683,
         0.052350289962051336,
         0.059018869214950795,
         0.05571437439940677,
         0.05287252656578258,
         0.06371974762376575,
         0.06239366689257696,
         0.06182097312668722,
         0.05605583538346621,
         0.05766590150779546,
         0.05723856396955872,
         0.05936741365650851,
         0.059322641000725734,
         0.05377607184360758,
         0.055671011236012515,
         0.05566876842824906,
         0.0614814450040298,
         0.0528950203151692,
         0.05905814847832174,
         0.05926161168977154,
         0.053064597497044126,
         0.06143612952088339,
         0.0578568118983629,
         0.05484306828327925,
         0.05635816804285435,
         0.0610726656010989,
         0.05771289675847289,
         0.05162234998063598
        ],
        [
         0.18013553247403571,
         0.1865246101538194,
         0.18265420073351146,
         0.19318223597627937,
         0.1839356906620749,
         0.17355262063553228,
         0.18242661066024618,
         0.18121633648543672,
         0.1897414127163881,
         0.18913175697967993,
         0.1885069335409093,
         0.17330341507662453,
         0.17885020367034218,
         0.18338106940591745,
         0.1762559200527475,
         0.1909263765019383,
         0.1821154380016321,
         0.18724724678687898,
         0.19164098710661717,
         0.1800026777383013,
         0.18701006288585417,
         0.17947758265825756,
         0.18136007728639478,
         0.18574769045317582,
         0.18984682776727804,
         0.17903974074322512,
         0.19058986482046106,
         0.18510453087989898,
         0.17863935808304185,
         0.18326183557327763,
         0.17449768956787154,
         0.1846165514149356,
         0.17709137615291218,
         0.18381966035995706,
         0.18351846023042703,
         0.19171888961036707,
         0.18961705317647726,
         0.18439095539460873,
         0.18438083268519417,
         0.18678200916003654,
         0.17313712768658412,
         0.17962527303390352,
         0.18374859975358726,
         0.18191796598736854,
         0.1814960498892355,
         0.18643376617418492,
         0.1730178296839928,
         0.18131076163776658,
         0.18262038813611747,
         0.18268282308845835,
         0.1750998214964627,
         0.1844064355097419,
         0.18311697638173605,
         0.18555309071077727,
         0.17517676809802651,
         0.17787323796245105,
         0.18304068404341153,
         0.18174384730667167,
         0.18229276978173384,
         0.18452746668538333,
         0.19292622533462503,
         0.18932735604946227,
         0.1740837736950055,
         0.1917045038905652,
         0.18727816976424233,
         0.1815863633619658,
         0.18646489937479296,
         0.18869225756612187,
         0.18011925711899118,
         0.1829535597296176,
         0.18521253248749703,
         0.17420774149507576,
         0.18369331359680668,
         0.17853146257317243,
         0.1879333433256868,
         0.17930957217536428,
         0.17269055347195736,
         0.1955568482094974,
         0.18647071407815696,
         0.19436779836484908,
         0.18217923790764282,
         0.18620100302402587,
         0.17985200289381192,
         0.18769101059867763,
         0.18694127956405282,
         0.1804252949762432,
         0.18277777226495684,
         0.17994170916248478,
         0.19216736711963428,
         0.17596532693863207,
         0.1877610869614371,
         0.18452644573670685,
         0.17863690457763334,
         0.18705269127317212,
         0.1834301079221654,
         0.182010786525686,
         0.1801037196636054,
         0.197076904413966,
         0.18348885560408235,
         0.18092158435862146
        ],
        [
         18.373824312351644,
         19.02551023568958,
         18.63072847481817,
         19.704588069580495,
         18.76144044753164,
         17.702367304824293,
         18.60751428734511,
         18.484066321514547,
         19.353624097071588,
         19.291439211927354,
         19.22770722117275,
         17.676948337815702,
         18.242720774374902,
         18.70486907940358,
         17.978103845380247,
         19.474490403197706,
         18.575774676166475,
         19.099219172261655,
         19.547380684874952,
         18.360273129306734,
         19.075026414357126,
         18.30671343114227,
         18.49872788321227,
         18.946264426223934,
         19.36437643226236,
         18.26205355580896,
         19.44016621168703,
         18.880662149749696,
         18.22121452447027,
         18.69270722847432,
         17.798764335922897,
         18.830888244323432,
         18.063320367597044,
         18.74960535671562,
         18.71888294350356,
         19.555326740257442,
         19.34093942400068,
         18.80787745025009,
         18.806844933889806,
         19.051764934323728,
         17.65998702403158,
         18.321777849458158,
         18.7423571748659,
         18.55563253071159,
         18.512597088702023,
         19.016244149766862,
         17.647818627767265,
         18.49369768705219,
         18.627279589883983,
         18.633647955022752,
         17.860181792639196,
         18.809456421993673,
         18.677931590937078,
         18.926415252499282,
         17.868030345998704,
         18.143070272170007,
         18.670149772427976,
         18.53787242528051,
         18.593862517736852,
         18.8218016019091,
         19.678474984131753,
         19.311390317045152,
         17.75654491689056,
         19.55385939683765,
         19.10237331595272,
         18.52180906292051,
         19.019419736228883,
         19.24661027174443,
         18.3721642261371,
         18.661263092420995,
         18.891678313724697,
         17.769189632497728,
         18.736717986874282,
         18.210209182463586,
         19.169201019220054,
         18.289576361887157,
         17.61443645413965,
         19.946798517368734,
         19.02001283597201,
         19.825515433214605,
         18.58228226657957,
         18.99250230845064,
         18.344904295168817,
         19.14448308106512,
         19.068010515533388,
         18.403380087576807,
         18.643332771025598,
         18.354054334573448,
         19.601071446202695,
         17.94846334774047,
         19.151630870066583,
         18.821697465144098,
         18.2209642669186,
         19.079374509863555,
         18.709871008060873,
         18.56510022561997,
         18.37057940568775,
         20.10184425022453,
         18.7158632716164,
         18.45400160457939
        ],
        [
         2.362574771796252,
         2.398623374501606,
         2.3779502249597413,
         2.4754279146216884,
         2.406278400463188,
         2.2530157587867086,
         2.4552937683161935,
         2.431076695972554,
         2.4629752909158236,
         2.419208130811418,
         2.4767826689097427,
         2.294662546807882,
         2.3752924671233533,
         2.400493388803506,
         2.3731756991173665,
         2.470839683186818,
         2.3697901412275875,
         2.509909734958059,
         2.490961790948975,
         2.3605545749518764,
         2.4536791272130145,
         2.363795814400714,
         2.3764544562126195,
         2.41417253139019,
         2.42715776920198,
         2.426009390090183,
         2.5474180522530414,
         2.464048807850106,
         2.3865287830074338,
         2.4593752543870466,
         2.372420669965359,
         2.4293444430168822,
         2.367796693855093,
         2.387290858316057,
         2.3936134673614897,
         2.511272152422703,
         2.4640079317820383,
         2.4230229967766017,
         2.425179612590993,
         2.435910969651596,
         2.261505278477631,
         2.350505719541364,
         2.4513720376242776,
         2.3411053350152593,
         2.402274301671455,
         2.513091220922509,
         2.309659239758873,
         2.399123108762393,
         2.4119906041239805,
         2.404463611104672,
         2.3075484171080136,
         2.4367316175809677,
         2.376481360829388,
         2.4693175973722563,
         2.378271128390042,
         2.2946051632856985,
         2.397304296606157,
         2.4016517755087587,
         2.417203153922408,
         2.4109115811232065,
         2.514070189774735,
         2.4375708668916665,
         2.29638986358749,
         2.4518930525917857,
         2.4400691496388944,
         2.3585305329964847,
         2.5125301241296354,
         2.4728546163585294,
         2.387404916686534,
         2.4067837520337627,
         2.4375513886802795,
         2.4125851529226336,
         2.4093142511283987,
         2.310785488990537,
         2.4535534760679214,
         2.3838762947643675,
         2.3222828659984174,
         2.5493948806773945,
         2.5227274967865334,
         2.5111231070821862,
         2.391170259331935,
         2.4252673984109743,
         2.4162643739655203,
         2.460787717980539,
         2.459859626497826,
         2.3420417007491503,
         2.3829484144801114,
         2.382900413294984,
         2.5042179199125303,
         2.3227768020512123,
         2.454369806037553,
         2.4585939868869557,
         2.326497140487927,
         2.5032948709910516,
         2.429278661173521,
         2.365162354870059,
         2.3976098807710864,
         2.4958789817040583,
         2.426255441903064,
         2.2946633082055565
        ]
       ],
       "encoder": "json",
       "name": "ABC_GAN_1 Metrics",
       "version": 1
      }
     },
     "metadata": {
      "scrapbook": {
       "data": true,
       "display": false,
       "name": "ABC_GAN_1 Metrics"
      }
     },
     "output_type": "display_data"
    },
    {
     "name": "stdout",
     "output_type": "stream",
     "text": [
      "MSE\n",
      "0.0571035496665251\n"
     ]
    }
   ],
   "source": [
    "ABC_GAN1_metrics=ABC_train_test2.test_generator(gen,test_data,prior_model,variance,bias,\"1\",device)\n",
    "sb.glue(\"ABC_GAN_1 Metrics\",ABC_GAN1_metrics)\n",
    "\n",
    "print(\"MSE\")\n",
    "print(mean(ABC_GAN1_metrics[0]))"
   ]
  },
  {
   "cell_type": "code",
   "execution_count": 14,
   "id": "eb22ce5c",
   "metadata": {
    "execution": {
     "iopub.execute_input": "2022-06-12T03:01:41.958640Z",
     "iopub.status.busy": "2022-06-12T03:01:41.958257Z",
     "iopub.status.idle": "2022-06-12T03:01:42.279879Z",
     "shell.execute_reply": "2022-06-12T03:01:42.280119Z"
    },
    "papermill": {
     "duration": 0.337226,
     "end_time": "2022-06-12T03:01:42.280236",
     "exception": false,
     "start_time": "2022-06-12T03:01:41.943010",
     "status": "completed"
    },
    "tags": []
   },
   "outputs": [
    {
     "data": {
      "image/png": "[encoded data removed]",
      "text/plain": [
       "<Figure size 432x288 with 1 Axes>"
      ]
     },
     "metadata": {
      "needs_background": "light"
     },
     "output_type": "display_data"
    },
    {
     "data": {
      "image/png": "[encoded data removed]",
      "text/plain": [
       "<Figure size 432x288 with 1 Axes>"
      ]
     },
     "metadata": {
      "needs_background": "light"
     },
     "output_type": "display_data"
    },
    {
     "data": {
      "image/png": "[encoded data removed]",
      "text/plain": [
       "<Figure size 432x288 with 1 Axes>"
      ]
     },
     "metadata": {
      "needs_background": "light"
     },
     "output_type": "display_data"
    },
    {
     "data": {
      "image/png": "[encoded data removed]",
      "text/plain": [
       "<Figure size 432x288 with 1 Axes>"
      ]
     },
     "metadata": {
      "needs_background": "light"
     },
     "output_type": "display_data"
    }
   ],
   "source": [
    "sanityChecks.discProbVsError(train_data,disc,device)\n",
    "sanityChecks.discProbVsError(test_data,disc,device)"
   ]
  },
  {
   "cell_type": "markdown",
   "id": "130f3a4d",
   "metadata": {
    "id": "130f3a4d",
    "papermill": {
     "duration": 0.014467,
     "end_time": "2022-06-12T03:01:42.309544",
     "exception": false,
     "start_time": "2022-06-12T03:01:42.295077",
     "status": "completed"
    },
    "tags": []
   },
   "source": [
    "# ABC - GAN Model with skip connection"
   ]
  },
  {
   "cell_type": "code",
   "execution_count": 15,
   "id": "4e43dad1",
   "metadata": {
    "execution": {
     "iopub.execute_input": "2022-06-12T03:01:42.342530Z",
     "iopub.status.busy": "2022-06-12T03:01:42.342149Z",
     "iopub.status.idle": "2022-06-12T03:01:42.344546Z",
     "shell.execute_reply": "2022-06-12T03:01:42.344801Z"
    },
    "id": "4e43dad1",
    "papermill": {
     "duration": 0.020725,
     "end_time": "2022-06-12T03:01:42.344916",
     "exception": false,
     "start_time": "2022-06-12T03:01:42.324191",
     "status": "completed"
    },
    "tags": []
   },
   "outputs": [],
   "source": [
    "#Generator\n",
    "gen3 = network.GeneratorWithSkipConnection(n_features+1).to(device)\n",
    "constraints=network.weightConstraint()\n",
    "#Discriminator \n",
    "disc3 = network.Discriminator(n_features+1).to(device)\n",
    "\n",
    "criterion = torch.nn.BCELoss()\n",
    "gen_opt = torch.optim.Adam(gen3.parameters(), lr=0.001, betas=(0.5, 0.999))\n",
    "disc_opt = torch.optim.Adam(disc3.parameters(), lr=0.001, betas=(0.5, 0.999))\n"
   ]
  },
  {
   "cell_type": "code",
   "execution_count": 16,
   "id": "26acbc37",
   "metadata": {
    "execution": {
     "iopub.execute_input": "2022-06-12T03:01:42.376717Z",
     "iopub.status.busy": "2022-06-12T03:01:42.376346Z",
     "iopub.status.idle": "2022-06-12T03:04:38.494670Z",
     "shell.execute_reply": "2022-06-12T03:04:38.494934Z"
    },
    "id": "26acbc37",
    "papermill": {
     "duration": 176.135254,
     "end_time": "2022-06-12T03:04:38.495060",
     "exception": false,
     "start_time": "2022-06-12T03:01:42.359806",
     "status": "completed"
    },
    "tags": []
   },
   "outputs": [
    {
     "data": {
      "image/png": "[encoded data removed]",
      "text/plain": [
       "<Figure size 432x288 with 1 Axes>"
      ]
     },
     "metadata": {
      "needs_background": "light"
     },
     "output_type": "display_data"
    },
    {
     "data": {
      "image/png": "[encoded data removed]",
      "text/plain": [
       "<Figure size 432x288 with 1 Axes>"
      ]
     },
     "metadata": {
      "needs_background": "light"
     },
     "output_type": "display_data"
    }
   ],
   "source": [
    "ABC_train_test2.training_GAN_skip_connection(disc3,gen3,disc_opt,gen_opt,train_data,batch_size,n_epochs,criterion,prior_model,variance,bias,device)"
   ]
  },
  {
   "cell_type": "code",
   "execution_count": 17,
   "id": "c5e0717b",
   "metadata": {
    "execution": {
     "iopub.execute_input": "2022-06-12T03:04:38.529792Z",
     "iopub.status.busy": "2022-06-12T03:04:38.529410Z",
     "iopub.status.idle": "2022-06-12T03:04:39.359655Z",
     "shell.execute_reply": "2022-06-12T03:04:39.359958Z"
    },
    "id": "c5e0717b",
    "papermill": {
     "duration": 0.849422,
     "end_time": "2022-06-12T03:04:39.360077",
     "exception": false,
     "start_time": "2022-06-12T03:04:38.510655",
     "status": "completed"
    },
    "tags": []
   },
   "outputs": [
    {
     "data": {
      "application/scrapbook.scrap.json+json": {
       "data": 0.05828523569590061,
       "encoder": "json",
       "name": "ABC-GAN Model 3 MSE",
       "version": 1
      }
     },
     "metadata": {
      "scrapbook": {
       "data": true,
       "display": false,
       "name": "ABC-GAN Model 3 MSE"
      }
     },
     "output_type": "display_data"
    },
    {
     "data": {
      "application/scrapbook.scrap.json+json": {
       "data": 0.1784039865806699,
       "encoder": "json",
       "name": "ABC-GAN Model 3 MAE",
       "version": 1
      }
     },
     "metadata": {
      "scrapbook": {
       "data": true,
       "display": false,
       "name": "ABC-GAN Model 3 MAE"
      }
     },
     "output_type": "display_data"
    },
    {
     "data": {
      "application/scrapbook.scrap.json+json": {
       "data": 18.197206631228326,
       "encoder": "json",
       "name": "ABC-GAN Model 3 Manhattan Distance",
       "version": 1
      }
     },
     "metadata": {
      "scrapbook": {
       "data": true,
       "display": false,
       "name": "ABC-GAN Model 3 Manhattan Distance"
      }
     },
     "output_type": "display_data"
    },
    {
     "data": {
      "application/scrapbook.scrap.json+json": {
       "data": 2.437308640474957,
       "encoder": "json",
       "name": "ABC-GAN Model 3 Euclidean distance",
       "version": 1
      }
     },
     "metadata": {
      "scrapbook": {
       "data": true,
       "display": false,
       "name": "ABC-GAN Model 3 Euclidean distance"
      }
     },
     "output_type": "display_data"
    },
    {
     "data": {
      "application/scrapbook.scrap.json+json": {
       "data": [
        [
         0.05494192136177676,
         0.06317241361873648,
         0.06028972896635838,
         0.05826635690788863,
         0.05552184962564345,
         0.06159851303633004,
         0.05350141056390496,
         0.05839084070266354,
         0.05993737633374246,
         0.05484678253812566,
         0.055398128486080486,
         0.05749573558526468,
         0.058310496281461115,
         0.057462009742808455,
         0.05780017953217598,
         0.05927640804503801,
         0.059671818189832235,
         0.055514343533633735,
         0.05748214801881892,
         0.061197211919221596,
         0.05614130174857321,
         0.05673928481375902,
         0.0588071848626878,
         0.055860016944787635,
         0.062465019662005176,
         0.05705087142677415,
         0.05542239847586834,
         0.06287497707412108,
         0.06012054105708678,
         0.06333057501657517,
         0.05402990847701318,
         0.05623967781516469,
         0.059589424320580196,
         0.05635170183450015,
         0.05680265491100641,
         0.06409547358400433,
         0.06231699645984192,
         0.056748324146094785,
         0.0612003823828227,
         0.05815045443259594,
         0.05390732855266854,
         0.055713269388054015,
         0.0541796528080997,
         0.06068345201091396,
         0.057370199262848046,
         0.06362221110677824,
         0.05865779544052608,
         0.06023691229107605,
         0.06245865839795668,
         0.057304182360473355,
         0.05832081450953948,
         0.06051124812252569,
         0.05730932135667719,
         0.05488760304894381,
         0.05977425942781298,
         0.05502199797690943,
         0.06073919382936408,
         0.05391934107350543,
         0.059559141303966404,
         0.060869256615106775,
         0.06197356232133895,
         0.06082070443609273,
         0.05848204029849173,
         0.05965320785118609,
         0.059692166183875656,
         0.06355908179088218,
         0.05305551355696331,
         0.058522026954338315,
         0.06021258141974528,
         0.0579204287215909,
         0.061305620781441784,
         0.05308197638227655,
         0.060932153058477406,
         0.0630452730996663,
         0.05692606418879517,
         0.054121338912425036,
         0.053186241253974205,
         0.048321904596572755,
         0.05817143826911876,
         0.0655758875788287,
         0.06462547237957136,
         0.056093231667518464,
         0.05672498796462697,
         0.06235153894887268,
         0.050321777169134226,
         0.056936994044223393,
         0.06037908635762276,
         0.05694389477172299,
         0.05774651332709542,
         0.057425774198261496,
         0.057578499143586606,
         0.05657557204178648,
         0.057740213368814734,
         0.05818565385697489,
         0.05464996687034863,
         0.06485037310756704,
         0.05896926669252107,
         0.05278055502415648,
         0.05908186701318899,
         0.06054443866727047
        ],
        [
         0.16952461777620165,
         0.18476545230905508,
         0.18082741948355938,
         0.17877099375404856,
         0.17406844512979483,
         0.18209582968048899,
         0.17665201231070302,
         0.17530790251661457,
         0.1830978626294025,
         0.1726495862901941,
         0.17569325443393752,
         0.178187286581698,
         0.1801029523268488,
         0.1734569414482251,
         0.1793267817565185,
         0.18040939591204128,
         0.18016542247770465,
         0.17822828332838767,
         0.17427230744129596,
         0.18325866925913623,
         0.1778286786329951,
         0.18059687903516142,
         0.18134005642587356,
         0.17259445455034866,
         0.18323451641253105,
         0.17861289782084377,
         0.17460424850201783,
         0.1811550851893045,
         0.1730005392421256,
         0.18908487978920924,
         0.1733798180232007,
         0.1780235867527332,
         0.17860134452690973,
         0.1737450262275981,
         0.17615792059394367,
         0.18950808931178614,
         0.1856684578381771,
         0.18111308025853598,
         0.18329444574192166,
         0.17745041075692164,
         0.17233032513154195,
         0.17704483056806175,
         0.16997903442083329,
         0.17817587598099136,
         0.17331510648021803,
         0.19023464809117072,
         0.18061865644310326,
         0.1763771973166834,
         0.18106146469967915,
         0.17900130504230952,
         0.1816397395039744,
         0.18518154490191271,
         0.17754904879257083,
         0.17547630116014795,
         0.1737512200614255,
         0.1751205766226585,
         0.18499588161962582,
         0.1701086164890405,
         0.1788042326567366,
         0.1794266343098499,
         0.1838365508992152,
         0.18458751091441394,
         0.17755104330203988,
         0.17936241731741556,
         0.1842664602468265,
         0.1854188360693846,
         0.16754575047240244,
         0.1790049145016454,
         0.1855248205418534,
         0.17767362896462574,
         0.18611835398912138,
         0.16835340856592737,
         0.17817267369223283,
         0.18699223189340794,
         0.17876011870034478,
         0.17146364846905948,
         0.16796361248684571,
         0.16221154279386005,
         0.1721904439869903,
         0.19278732821454897,
         0.1843281857870227,
         0.17486872135971984,
         0.18156603423367237,
         0.18200063956536205,
         0.1675293596698811,
         0.17495194019968896,
         0.17958050632995426,
         0.17327671599410036,
         0.1755383278827603,
         0.17444699296873867,
         0.17801119240146934,
         0.17734891476620937,
         0.18168952373568625,
         0.18261567484039595,
         0.1700265869114767,
         0.19589254302977055,
         0.17909416367354639,
         0.1707614800783203,
         0.17801736246830985,
         0.17902042337821103
        ],
        [
         17.291511013172567,
         18.846076135523617,
         18.444396787323058,
         18.234641362912953,
         17.75498140323907,
         18.573774627409875,
         18.018505255691707,
         17.881406056694686,
         18.675981988199055,
         17.6102578015998,
         17.920711952261627,
         18.175103231333196,
         18.37050113733858,
         17.69260802771896,
         18.29133173916489,
         18.40175838302821,
         18.376873092725873,
         18.179284899495542,
         17.775775359012187,
         18.692384264431894,
         18.138525220565498,
         18.420881661586463,
         18.496685755439103,
         17.604634364135563,
         18.689920674078166,
         18.218515577726066,
         17.809633347205818,
         18.47781868930906,
         17.646055002696812,
         19.286657738499343,
         17.684741438366473,
         18.158405848778784,
         18.217337141744792,
         17.721992675215006,
         17.968107900582254,
         19.329825109802186,
         18.938182699494064,
         18.47353418637067,
         18.69603346567601,
         18.09994189720601,
         17.57769316341728,
         18.058572717942297,
         17.337861510924995,
         18.17393935006112,
         17.67814086098224,
         19.403934105299413,
         18.423102957196534,
         17.990474126301706,
         18.468269399367273,
         18.25813311431557,
         18.52725342940539,
         18.888517579995096,
         18.110002976842225,
         17.898582718335092,
         17.7226244462654,
         17.862298815511167,
         18.869579925201833,
         17.35107888188213,
         18.23803173098713,
         18.30151669960469,
         18.75132819171995,
         18.827926113270223,
         18.11020641680807,
         18.294966566376388,
         18.795178945176303,
         18.912721279077232,
         17.08966654818505,
         18.25850127916783,
         18.923531695269048,
         18.122710154391825,
         18.98407210689038,
         17.17204767372459,
         18.17361271660775,
         19.07320765312761,
         18.233532107435167,
         17.489292143844068,
         17.132288473658264,
         16.545577364973724,
         17.56342528667301,
         19.664307477883995,
         18.801474950276315,
         17.836609578691423,
         18.51973549183458,
         18.56406523566693,
         17.087994686327875,
         17.845097900368273,
         18.317211645655334,
         17.674225031398237,
         17.90490944404155,
         17.793593282811344,
         18.157141624949872,
         18.089589306153357,
         18.53233142104,
         18.626798833720386,
         17.342711864970624,
         19.981039389036596,
         18.26760469470173,
         17.41767096798867,
         18.157770971767604,
         18.260083184577525
        ],
        [
         2.3672929643162526,
         2.538421987990003,
         2.479829097855043,
         2.43786144081337,
         2.379753907826528,
         2.5066009514291783,
         2.3360530553731658,
         2.440464249209908,
         2.4725720183731212,
         2.3652424439978272,
         2.3771009876696882,
         2.42168640201348,
         2.43878466058589,
         2.4209760415515187,
         2.4280894366315975,
         2.458900896863043,
         2.4670884571419176,
         2.3795930409275114,
         2.4214002349713954,
         2.498422625530077,
         2.392992431737816,
         2.405703026352883,
         2.4491494147957074,
         2.3869900980876184,
         2.524169567506218,
         2.4122995016230804,
         2.377621636118449,
         2.5324390736127,
         2.4763471460647133,
         2.541597657319244,
         2.3475627072892733,
         2.3950881272192883,
         2.4653846111102378,
         2.3974723329204477,
         2.4070460737016752,
         2.5569001360179167,
         2.5211770344233813,
         2.4058946491693414,
         2.4984873429833327,
         2.4354355569640482,
         2.3448981880610917,
         2.383852654335311,
         2.3508136009531184,
         2.487913202889768,
         2.419041199485966,
         2.547442940065858,
         2.4460366176600177,
         2.478742635629959,
         2.5240410370260586,
         2.4176489821246343,
         2.439000426398697,
         2.484380668999342,
         2.4177573861703068,
         2.3661224632280273,
         2.4692052287399933,
         2.369017474322374,
         2.4890555981325804,
         2.3451594379695284,
         2.4647580840732775,
         2.491719120354638,
         2.5142202283762995,
         2.4907251659870977,
         2.442369364049213,
         2.466703711599952,
         2.4675090578871877,
         2.546178772723939,
         2.3262979995714774,
         2.4432041972259517,
         2.4782419786643146,
         2.430613858596686,
         2.5006345834021935,
         2.326878078239641,
         2.4930061395762135,
         2.5358662930379356,
         2.409659425573894,
         2.3495481627469044,
         2.3291622115914055,
         2.22009780614513,
         2.435874935921406,
         2.5862599507861783,
         2.5674497429777037,
         2.3919677318239225,
         2.4053999194296054,
         2.5218756854343582,
         2.2655730558187015,
         2.4098907428576064,
         2.48166613557858,
         2.4100367770463054,
         2.426961960839875,
         2.4202125874027414,
         2.423428751303787,
         2.4022298699879285,
         2.426829570369354,
         2.4361725500077855,
         2.3609948370921012,
         2.5719133066594293,
         2.452522212465597,
         2.320262186147066,
         2.454862610278888,
         2.485061919562888
        ]
       ],
       "encoder": "json",
       "name": "ABC_GAN_3 Metrics",
       "version": 1
      }
     },
     "metadata": {
      "scrapbook": {
       "data": true,
       "display": false,
       "name": "ABC_GAN_3 Metrics"
      }
     },
     "output_type": "display_data"
    },
    {
     "name": "stdout",
     "output_type": "stream",
     "text": [
      "MSE\n",
      "0.05828523569590061\n"
     ]
    }
   ],
   "source": [
    "ABC_GAN3_metrics=ABC_train_test2.test_generator(gen3,test_data,prior_model,variance,bias,\"3\",device)\n",
    "sb.glue(\"ABC_GAN_3 Metrics\",ABC_GAN3_metrics)\n",
    "\n",
    "print(\"MSE\")\n",
    "print(mean(ABC_GAN3_metrics[0]))"
   ]
  },
  {
   "cell_type": "code",
   "execution_count": 18,
   "id": "c8e46b48",
   "metadata": {
    "execution": {
     "iopub.execute_input": "2022-06-12T03:04:39.397872Z",
     "iopub.status.busy": "2022-06-12T03:04:39.397498Z",
     "iopub.status.idle": "2022-06-12T03:04:39.725440Z",
     "shell.execute_reply": "2022-06-12T03:04:39.725736Z"
    },
    "id": "c8e46b48",
    "papermill": {
     "duration": 0.348471,
     "end_time": "2022-06-12T03:04:39.725857",
     "exception": false,
     "start_time": "2022-06-12T03:04:39.377386",
     "status": "completed"
    },
    "tags": []
   },
   "outputs": [
    {
     "data": {
      "image/png": "[encoded data removed]",
      "text/plain": [
       "<Figure size 432x288 with 1 Axes>"
      ]
     },
     "metadata": {
      "needs_background": "light"
     },
     "output_type": "display_data"
    },
    {
     "data": {
      "image/png": "[encoded data removed]",
      "text/plain": [
       "<Figure size 432x288 with 1 Axes>"
      ]
     },
     "metadata": {
      "needs_background": "light"
     },
     "output_type": "display_data"
    },
    {
     "data": {
      "image/png": "[encoded data removed]",
      "text/plain": [
       "<Figure size 432x288 with 1 Axes>"
      ]
     },
     "metadata": {
      "needs_background": "light"
     },
     "output_type": "display_data"
    },
    {
     "data": {
      "image/png": "[encoded data removed]",
      "text/plain": [
       "<Figure size 432x288 with 1 Axes>"
      ]
     },
     "metadata": {
      "needs_background": "light"
     },
     "output_type": "display_data"
    }
   ],
   "source": [
    "sanityChecks.discProbVsError(train_data,disc3,device)\n",
    "sanityChecks.discProbVsError(test_data,disc3,device)"
   ]
  },
  {
   "cell_type": "markdown",
   "id": "a5bd74c3",
   "metadata": {
    "id": "a5bd74c3",
    "papermill": {
     "duration": 0.020002,
     "end_time": "2022-06-12T03:04:39.765495",
     "exception": false,
     "start_time": "2022-06-12T03:04:39.745493",
     "status": "completed"
    },
    "tags": []
   },
   "source": [
    "## Skip Connection Model Analysis - ABC-GAN "
   ]
  },
  {
   "cell_type": "markdown",
   "id": "5744a8bf",
   "metadata": {
    "id": "5744a8bf",
    "papermill": {
     "duration": 0.019172,
     "end_time": "2022-06-12T03:04:39.804192",
     "exception": false,
     "start_time": "2022-06-12T03:04:39.785020",
     "status": "completed"
    },
    "tags": []
   },
   "source": [
    "### Weight Analysis \n",
    "\n",
    "Study the weights of the skip connection layer\n",
    "\n",
    "Equation of the skip connection is \n",
    "\n",
    "$output = y_{gan} * w + y_{abc} * (1-w)$"
   ]
  },
  {
   "cell_type": "code",
   "execution_count": 19,
   "id": "52c31dea",
   "metadata": {
    "execution": {
     "iopub.execute_input": "2022-06-12T03:04:39.845269Z",
     "iopub.status.busy": "2022-06-12T03:04:39.844840Z",
     "iopub.status.idle": "2022-06-12T03:04:39.848337Z",
     "shell.execute_reply": "2022-06-12T03:04:39.848584Z"
    },
    "id": "52c31dea",
    "papermill": {
     "duration": 0.025427,
     "end_time": "2022-06-12T03:04:39.848695",
     "exception": false,
     "start_time": "2022-06-12T03:04:39.823268",
     "status": "completed"
    },
    "tags": []
   },
   "outputs": [
    {
     "name": "stdout",
     "output_type": "stream",
     "text": [
      "Weight of the node at skip connection\n",
      "Parameter containing:\n",
      "tensor([[0.4659]], requires_grad=True)\n"
     ]
    },
    {
     "data": {
      "application/scrapbook.scrap.json+json": {
       "data": 0.4659385085105896,
       "encoder": "json",
       "name": "Skip Connection Weight",
       "version": 1
      }
     },
     "metadata": {
      "scrapbook": {
       "data": true,
       "display": false,
       "name": "Skip Connection Weight"
      }
     },
     "output_type": "display_data"
    }
   ],
   "source": [
    "print(\"Weight of the node at skip connection\")\n",
    "for name,param in gen3.named_parameters():\n",
    "    if(name == \"skipNode.weight\"):\n",
    "        print(param)\n",
    "        sb.glue(\"Skip Connection Weight\",param.item())"
   ]
  }
 ],
 "metadata": {
  "colab": {
   "collapsed_sections": [],
   "name": "ABC_GAN_Model-Catboost_Pre-gen.ipynb",
   "provenance": []
  },
  "interpreter": {
   "hash": "31f2aee4e71d21fbe5cf8b01ff0e069b9275f58929596ceb00d14d90e3e16cd6"
  },
  "kernelspec": {
   "display_name": "Python 3 (ipykernel)",
   "language": "python",
   "name": "python3"
  },
  "language_info": {
   "codemirror_mode": {
    "name": "ipython",
    "version": 3
   },
   "file_extension": ".py",
   "mimetype": "text/x-python",
   "name": "python",
   "nbconvert_exporter": "python",
   "pygments_lexer": "ipython3",
   "version": "3.8.11"
  },
  "papermill": {
   "default_parameters": {},
   "duration": 243.158111,
   "end_time": "2022-06-12T03:04:40.176262",
   "environment_variables": {},
   "exception": null,
   "input_path": "ABC_GAN-Catboost.ipynb",
   "output_path": "./ABC_GAN_Catboost/ABC-GAN_output_3_7.ipynb",
   "parameters": {
    "bias": 0.01,
    "variance": 0.1
   },
   "start_time": "2022-06-12T03:00:37.018151",
   "version": "2.3.3"
  }
 },
 "nbformat": 4,
 "nbformat_minor": 5
}