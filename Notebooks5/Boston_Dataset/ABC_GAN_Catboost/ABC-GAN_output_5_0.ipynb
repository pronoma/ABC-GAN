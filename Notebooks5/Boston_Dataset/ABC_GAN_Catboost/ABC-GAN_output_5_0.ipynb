{
 "cells": [
  {
   "cell_type": "markdown",
   "id": "622780e6",
   "metadata": {
    "id": "622780e6",
    "papermill": {
     "duration": 0.025114,
     "end_time": "2022-06-12T04:48:12.498307",
     "exception": false,
     "start_time": "2022-06-12T04:48:12.473193",
     "status": "completed"
    },
    "tags": []
   },
   "source": [
    "## Import Libraries "
   ]
  },
  {
   "cell_type": "code",
   "execution_count": 1,
   "id": "a62397e3",
   "metadata": {
    "execution": {
     "iopub.execute_input": "2022-06-12T04:48:12.534334Z",
     "iopub.status.busy": "2022-06-12T04:48:12.533784Z",
     "iopub.status.idle": "2022-06-12T04:48:12.536123Z",
     "shell.execute_reply": "2022-06-12T04:48:12.536453Z"
    },
    "id": "a62397e3",
    "papermill": {
     "duration": 0.022554,
     "end_time": "2022-06-12T04:48:12.536668",
     "exception": false,
     "start_time": "2022-06-12T04:48:12.514114",
     "status": "completed"
    },
    "tags": []
   },
   "outputs": [],
   "source": [
    "import warnings\n",
    "import sys\n",
    "sys.path.insert(0, '../../src')\n",
    "warnings.filterwarnings('ignore')"
   ]
  },
  {
   "cell_type": "code",
   "execution_count": 2,
   "id": "d6a4e155",
   "metadata": {
    "execution": {
     "iopub.execute_input": "2022-06-12T04:48:12.558102Z",
     "iopub.status.busy": "2022-06-12T04:48:12.557690Z",
     "iopub.status.idle": "2022-06-12T04:48:14.560067Z",
     "shell.execute_reply": "2022-06-12T04:48:14.560369Z"
    },
    "id": "d6a4e155",
    "papermill": {
     "duration": 2.014043,
     "end_time": "2022-06-12T04:48:14.560547",
     "exception": false,
     "start_time": "2022-06-12T04:48:12.546504",
     "status": "completed"
    },
    "tags": []
   },
   "outputs": [],
   "source": [
    "import ABC_train_test2\n",
    "import bostonDataset\n",
    "import network\n",
    "import dataset\n",
    "import sanityChecks\n",
    "import torch \n",
    "import scrapbook as sb\n",
    "from statistics import mean \n",
    "import catboost as ctb \n",
    "from sklearn.model_selection import train_test_split\n",
    "from sklearn.metrics import mean_squared_error,mean_absolute_error\n",
    "import numpy as np"
   ]
  },
  {
   "cell_type": "markdown",
   "id": "2fa5b0f7",
   "metadata": {
    "id": "2fa5b0f7",
    "papermill": {
     "duration": 0.009739,
     "end_time": "2022-06-12T04:48:14.578449",
     "exception": false,
     "start_time": "2022-06-12T04:48:14.568710",
     "status": "completed"
    },
    "tags": []
   },
   "source": [
    "## Parameters "
   ]
  },
  {
   "cell_type": "code",
   "execution_count": 3,
   "id": "783186fb",
   "metadata": {
    "execution": {
     "iopub.execute_input": "2022-06-12T04:48:14.596812Z",
     "iopub.status.busy": "2022-06-12T04:48:14.596343Z",
     "iopub.status.idle": "2022-06-12T04:48:14.597738Z",
     "shell.execute_reply": "2022-06-12T04:48:14.597971Z"
    },
    "id": "783186fb",
    "papermill": {
     "duration": 0.012078,
     "end_time": "2022-06-12T04:48:14.598104",
     "exception": false,
     "start_time": "2022-06-12T04:48:14.586026",
     "status": "completed"
    },
    "tags": [
     "parameters"
    ]
   },
   "outputs": [],
   "source": [
    "variance = 1\n",
    "bias = 1 "
   ]
  },
  {
   "cell_type": "code",
   "execution_count": 4,
   "id": "e67e25ef",
   "metadata": {
    "execution": {
     "iopub.execute_input": "2022-06-12T04:48:14.618059Z",
     "iopub.status.busy": "2022-06-12T04:48:14.617417Z",
     "iopub.status.idle": "2022-06-12T04:48:14.618896Z",
     "shell.execute_reply": "2022-06-12T04:48:14.619155Z"
    },
    "papermill": {
     "duration": 0.01315,
     "end_time": "2022-06-12T04:48:14.619281",
     "exception": false,
     "start_time": "2022-06-12T04:48:14.606131",
     "status": "completed"
    },
    "tags": [
     "injected-parameters"
    ]
   },
   "outputs": [],
   "source": [
    "# Parameters\n",
    "variance = 1\n",
    "bias = 1\n"
   ]
  },
  {
   "cell_type": "markdown",
   "id": "391cdbfd",
   "metadata": {
    "id": "391cdbfd",
    "papermill": {
     "duration": 0.007599,
     "end_time": "2022-06-12T04:48:14.634804",
     "exception": false,
     "start_time": "2022-06-12T04:48:14.627205",
     "status": "completed"
    },
    "tags": []
   },
   "source": [
    "## Dataset \n"
   ]
  },
  {
   "cell_type": "code",
   "execution_count": 5,
   "id": "5b51f161",
   "metadata": {
    "execution": {
     "iopub.execute_input": "2022-06-12T04:48:14.653632Z",
     "iopub.status.busy": "2022-06-12T04:48:14.652678Z",
     "iopub.status.idle": "2022-06-12T04:48:14.655071Z",
     "shell.execute_reply": "2022-06-12T04:48:14.655449Z"
    },
    "id": "5b51f161",
    "papermill": {
     "duration": 0.013053,
     "end_time": "2022-06-12T04:48:14.655680",
     "exception": false,
     "start_time": "2022-06-12T04:48:14.642627",
     "status": "completed"
    },
    "tags": []
   },
   "outputs": [],
   "source": [
    "#Parameters \n",
    "n_features = 13\n",
    "n_samples= 506\n",
    "n_target = 1 "
   ]
  },
  {
   "cell_type": "code",
   "execution_count": 6,
   "id": "5d6eced4",
   "metadata": {
    "execution": {
     "iopub.execute_input": "2022-06-12T04:48:14.676359Z",
     "iopub.status.busy": "2022-06-12T04:48:14.675945Z",
     "iopub.status.idle": "2022-06-12T04:48:14.690686Z",
     "shell.execute_reply": "2022-06-12T04:48:14.690975Z"
    },
    "id": "5d6eced4",
    "papermill": {
     "duration": 0.02693,
     "end_time": "2022-06-12T04:48:14.691253",
     "exception": false,
     "start_time": "2022-06-12T04:48:14.664323",
     "status": "completed"
    },
    "tags": []
   },
   "outputs": [
    {
     "name": "stdout",
     "output_type": "stream",
     "text": [
      "         X1        X2        X3        X4        X5        X6        X7  \\\n",
      "0 -0.419782  0.284830 -1.287909 -0.272599 -0.144217  0.413672 -0.120013   \n",
      "1 -0.417339 -0.487722 -0.593381 -0.272599 -0.740262  0.194274  0.367166   \n",
      "2 -0.417342 -0.487722 -0.593381 -0.272599 -0.740262  1.282714 -0.265812   \n",
      "3 -0.416750 -0.487722 -1.306878 -0.272599 -0.835284  1.016303 -0.809889   \n",
      "4 -0.412482 -0.487722 -1.306878 -0.272599 -0.835284  1.228577 -0.511180   \n",
      "\n",
      "         X8        X9       X10       X11       X12       X13         Y  \n",
      "0  0.140214 -0.982843 -0.666608 -1.459000  0.441052 -1.075562  0.159686  \n",
      "1  0.557160 -0.867883 -0.987329 -0.303094  0.441052 -0.492439 -0.101524  \n",
      "2  0.557160 -0.867883 -0.987329 -0.303094  0.396427 -1.208727  1.324247  \n",
      "3  1.077737 -0.752922 -1.106115  0.113032  0.416163 -1.361517  1.182758  \n",
      "4  1.077737 -0.752922 -1.106115  0.113032  0.441052 -1.026501  1.487503  \n"
     ]
    }
   ],
   "source": [
    "X,Y = bostonDataset.boston_data()"
   ]
  },
  {
   "cell_type": "code",
   "execution_count": 7,
   "id": "fe007438",
   "metadata": {
    "execution": {
     "iopub.execute_input": "2022-06-12T04:48:14.711740Z",
     "iopub.status.busy": "2022-06-12T04:48:14.711324Z",
     "iopub.status.idle": "2022-06-12T04:48:14.712999Z",
     "shell.execute_reply": "2022-06-12T04:48:14.713239Z"
    },
    "id": "fe007438",
    "papermill": {
     "duration": 0.013465,
     "end_time": "2022-06-12T04:48:14.713364",
     "exception": false,
     "start_time": "2022-06-12T04:48:14.699899",
     "status": "completed"
    },
    "tags": []
   },
   "outputs": [],
   "source": [
    "#Train test split for dataset \n",
    "X_train,X_test,Y_train,Y_test = train_test_split(X,Y,test_size = 0.2)\n",
    "train_data = dataset.CustomDataset(X_train,Y_train)\n",
    "test_data = dataset.CustomDataset(X_test,Y_test)\n"
   ]
  },
  {
   "cell_type": "markdown",
   "id": "a9a1af34",
   "metadata": {
    "id": "a9a1af34",
    "papermill": {
     "duration": 0.007767,
     "end_time": "2022-06-12T04:48:14.728702",
     "exception": false,
     "start_time": "2022-06-12T04:48:14.720935",
     "status": "completed"
    },
    "tags": []
   },
   "source": [
    "## Training Parameters "
   ]
  },
  {
   "cell_type": "code",
   "execution_count": 8,
   "id": "952b7fc8",
   "metadata": {
    "execution": {
     "iopub.execute_input": "2022-06-12T04:48:14.746274Z",
     "iopub.status.busy": "2022-06-12T04:48:14.745894Z",
     "iopub.status.idle": "2022-06-12T04:48:14.747224Z",
     "shell.execute_reply": "2022-06-12T04:48:14.747480Z"
    },
    "id": "952b7fc8",
    "papermill": {
     "duration": 0.011592,
     "end_time": "2022-06-12T04:48:14.747596",
     "exception": false,
     "start_time": "2022-06-12T04:48:14.736004",
     "status": "completed"
    },
    "tags": []
   },
   "outputs": [],
   "source": [
    "batch_size = 32\n",
    "n_epochs = 1000\n",
    "#Select the device \n",
    "device = torch.device('cuda' if torch.cuda.is_available() else 'cpu')"
   ]
  },
  {
   "cell_type": "markdown",
   "id": "a95e1600",
   "metadata": {
    "id": "a95e1600",
    "papermill": {
     "duration": 0.007404,
     "end_time": "2022-06-12T04:48:14.762468",
     "exception": false,
     "start_time": "2022-06-12T04:48:14.755064",
     "status": "completed"
    },
    "tags": []
   },
   "source": [
    "# ABC Pre-generator Model \n",
    "\n",
    "1. The catboost model is used as a pre-generator model for the ABC-GAN. \n",
    "2. The model is first trained on the entire dataset \n",
    "3. It generats X,Y pairs and we add some Gaussian noise with mean 0 and variance 1 to it which is then feed as input to the generator.\n"
   ]
  },
  {
   "cell_type": "code",
   "execution_count": 9,
   "id": "ff8ce7bd",
   "metadata": {
    "execution": {
     "iopub.execute_input": "2022-06-12T04:48:14.782350Z",
     "iopub.status.busy": "2022-06-12T04:48:14.781953Z",
     "iopub.status.idle": "2022-06-12T04:48:15.760691Z",
     "shell.execute_reply": "2022-06-12T04:48:15.760944Z"
    },
    "id": "ff8ce7bd",
    "papermill": {
     "duration": 0.991326,
     "end_time": "2022-06-12T04:48:15.761064",
     "exception": false,
     "start_time": "2022-06-12T04:48:14.769738",
     "status": "completed"
    },
    "tags": []
   },
   "outputs": [
    {
     "name": "stdout",
     "output_type": "stream",
     "text": [
      "Learning rate set to 0.033215\n",
      "0:\tlearn: 0.9482355\ttotal: 58.7ms\tremaining: 58.6s\n",
      "1:\tlearn: 0.9284889\ttotal: 59.6ms\tremaining: 29.8s\n",
      "2:\tlearn: 0.9090601\ttotal: 60.7ms\tremaining: 20.2s\n",
      "3:\tlearn: 0.8922136\ttotal: 61.8ms\tremaining: 15.4s\n",
      "4:\tlearn: 0.8756165\ttotal: 62.7ms\tremaining: 12.5s\n",
      "5:\tlearn: 0.8617473\ttotal: 63.8ms\tremaining: 10.6s\n",
      "6:\tlearn: 0.8449889\ttotal: 64.6ms\tremaining: 9.16s\n",
      "7:\tlearn: 0.8287862\ttotal: 65.5ms\tremaining: 8.12s\n",
      "8:\tlearn: 0.8145277\ttotal: 66.4ms\tremaining: 7.31s\n",
      "9:\tlearn: 0.7999202\ttotal: 67.3ms\tremaining: 6.66s\n",
      "10:\tlearn: 0.7858309\ttotal: 68.1ms\tremaining: 6.12s\n",
      "11:\tlearn: 0.7709537\ttotal: 69.1ms\tremaining: 5.69s\n",
      "12:\tlearn: 0.7564928\ttotal: 70.2ms\tremaining: 5.33s\n",
      "13:\tlearn: 0.7415282\ttotal: 71.1ms\tremaining: 5.01s\n",
      "14:\tlearn: 0.7293580\ttotal: 72ms\tremaining: 4.73s\n",
      "15:\tlearn: 0.7161058\ttotal: 72.8ms\tremaining: 4.48s\n",
      "16:\tlearn: 0.7043261\ttotal: 73.7ms\tremaining: 4.26s\n",
      "17:\tlearn: 0.6922261\ttotal: 74.5ms\tremaining: 4.06s\n",
      "18:\tlearn: 0.6798973\ttotal: 75.3ms\tremaining: 3.88s\n",
      "19:\tlearn: 0.6677198\ttotal: 76ms\tremaining: 3.72s\n",
      "20:\tlearn: 0.6559458\ttotal: 76.9ms\tremaining: 3.58s\n",
      "21:\tlearn: 0.6458973\ttotal: 77.6ms\tremaining: 3.45s\n",
      "22:\tlearn: 0.6355090\ttotal: 78.5ms\tremaining: 3.34s\n",
      "23:\tlearn: 0.6253483\ttotal: 79.5ms\tremaining: 3.23s\n",
      "24:\tlearn: 0.6147012\ttotal: 80.3ms\tremaining: 3.13s\n",
      "25:\tlearn: 0.6056751\ttotal: 81.1ms\tremaining: 3.04s\n",
      "26:\tlearn: 0.5970718\ttotal: 82.7ms\tremaining: 2.98s\n",
      "27:\tlearn: 0.5881693\ttotal: 83.6ms\tremaining: 2.9s\n",
      "28:\tlearn: 0.5789384\ttotal: 84.3ms\tremaining: 2.82s\n",
      "29:\tlearn: 0.5691865\ttotal: 85.2ms\tremaining: 2.75s\n",
      "30:\tlearn: 0.5606128\ttotal: 86.3ms\tremaining: 2.7s\n",
      "31:\tlearn: 0.5523385\ttotal: 87.3ms\tremaining: 2.64s\n",
      "32:\tlearn: 0.5448534\ttotal: 88.9ms\tremaining: 2.6s\n",
      "33:\tlearn: 0.5388289\ttotal: 90.1ms\tremaining: 2.56s\n",
      "34:\tlearn: 0.5326832\ttotal: 91.2ms\tremaining: 2.52s\n",
      "35:\tlearn: 0.5251088\ttotal: 92.2ms\tremaining: 2.47s\n",
      "36:\tlearn: 0.5188719\ttotal: 93.2ms\tremaining: 2.43s\n",
      "37:\tlearn: 0.5122217\ttotal: 94ms\tremaining: 2.38s\n",
      "38:\tlearn: 0.5048111\ttotal: 95ms\tremaining: 2.34s\n",
      "39:\tlearn: 0.4970121\ttotal: 95.9ms\tremaining: 2.3s\n",
      "40:\tlearn: 0.4917701\ttotal: 97ms\tremaining: 2.27s\n",
      "41:\tlearn: 0.4853549\ttotal: 97.8ms\tremaining: 2.23s\n"
     ]
    },
    {
     "name": "stdout",
     "output_type": "stream",
     "text": [
      "42:\tlearn: 0.4796559\ttotal: 99ms\tremaining: 2.2s\n",
      "43:\tlearn: 0.4743700\ttotal: 100ms\tremaining: 2.17s\n",
      "44:\tlearn: 0.4691288\ttotal: 101ms\tremaining: 2.15s\n",
      "45:\tlearn: 0.4635465\ttotal: 102ms\tremaining: 2.12s\n",
      "46:\tlearn: 0.4571133\ttotal: 103ms\tremaining: 2.09s\n",
      "47:\tlearn: 0.4515556\ttotal: 104ms\tremaining: 2.06s\n",
      "48:\tlearn: 0.4462024\ttotal: 105ms\tremaining: 2.04s\n",
      "49:\tlearn: 0.4416059\ttotal: 106ms\tremaining: 2.01s\n",
      "50:\tlearn: 0.4362121\ttotal: 107ms\tremaining: 1.99s\n",
      "51:\tlearn: 0.4316211\ttotal: 108ms\tremaining: 1.96s\n",
      "52:\tlearn: 0.4273095\ttotal: 109ms\tremaining: 1.94s\n",
      "53:\tlearn: 0.4240923\ttotal: 109ms\tremaining: 1.91s\n",
      "54:\tlearn: 0.4200122\ttotal: 110ms\tremaining: 1.89s\n",
      "55:\tlearn: 0.4163776\ttotal: 111ms\tremaining: 1.87s\n",
      "56:\tlearn: 0.4130174\ttotal: 112ms\tremaining: 1.85s\n",
      "57:\tlearn: 0.4087881\ttotal: 112ms\tremaining: 1.83s\n",
      "58:\tlearn: 0.4053687\ttotal: 113ms\tremaining: 1.81s\n",
      "59:\tlearn: 0.4014540\ttotal: 114ms\tremaining: 1.79s\n",
      "60:\tlearn: 0.3978596\ttotal: 115ms\tremaining: 1.77s\n",
      "61:\tlearn: 0.3942052\ttotal: 116ms\tremaining: 1.75s\n",
      "62:\tlearn: 0.3906772\ttotal: 117ms\tremaining: 1.74s\n",
      "63:\tlearn: 0.3868656\ttotal: 118ms\tremaining: 1.72s\n",
      "64:\tlearn: 0.3847185\ttotal: 119ms\tremaining: 1.71s\n",
      "65:\tlearn: 0.3813808\ttotal: 119ms\tremaining: 1.69s\n",
      "66:\tlearn: 0.3777958\ttotal: 120ms\tremaining: 1.68s\n",
      "67:\tlearn: 0.3752680\ttotal: 121ms\tremaining: 1.66s\n",
      "68:\tlearn: 0.3726250\ttotal: 122ms\tremaining: 1.65s\n",
      "69:\tlearn: 0.3699993\ttotal: 123ms\tremaining: 1.63s\n",
      "70:\tlearn: 0.3670312\ttotal: 124ms\tremaining: 1.62s\n",
      "71:\tlearn: 0.3644216\ttotal: 125ms\tremaining: 1.61s\n",
      "72:\tlearn: 0.3620305\ttotal: 126ms\tremaining: 1.6s\n",
      "73:\tlearn: 0.3591657\ttotal: 126ms\tremaining: 1.58s\n",
      "74:\tlearn: 0.3567329\ttotal: 127ms\tremaining: 1.57s\n",
      "75:\tlearn: 0.3539773\ttotal: 128ms\tremaining: 1.56s\n",
      "76:\tlearn: 0.3511831\ttotal: 129ms\tremaining: 1.54s\n",
      "77:\tlearn: 0.3483070\ttotal: 130ms\tremaining: 1.53s\n",
      "78:\tlearn: 0.3461756\ttotal: 131ms\tremaining: 1.52s\n",
      "79:\tlearn: 0.3437990\ttotal: 132ms\tremaining: 1.51s\n",
      "80:\tlearn: 0.3412895\ttotal: 133ms\tremaining: 1.51s\n",
      "81:\tlearn: 0.3386109\ttotal: 134ms\tremaining: 1.5s\n",
      "82:\tlearn: 0.3366697\ttotal: 135ms\tremaining: 1.49s\n",
      "83:\tlearn: 0.3348079\ttotal: 136ms\tremaining: 1.48s\n",
      "84:\tlearn: 0.3328800\ttotal: 137ms\tremaining: 1.47s\n",
      "85:\tlearn: 0.3305869\ttotal: 138ms\tremaining: 1.46s\n",
      "86:\tlearn: 0.3285001\ttotal: 138ms\tremaining: 1.45s\n",
      "87:\tlearn: 0.3263006\ttotal: 139ms\tremaining: 1.44s\n",
      "88:\tlearn: 0.3245707\ttotal: 140ms\tremaining: 1.43s\n",
      "89:\tlearn: 0.3225385\ttotal: 141ms\tremaining: 1.42s\n",
      "90:\tlearn: 0.3204294\ttotal: 142ms\tremaining: 1.41s\n",
      "91:\tlearn: 0.3186930\ttotal: 142ms\tremaining: 1.41s\n",
      "92:\tlearn: 0.3170469\ttotal: 143ms\tremaining: 1.4s\n",
      "93:\tlearn: 0.3147858\ttotal: 144ms\tremaining: 1.39s\n",
      "94:\tlearn: 0.3125793\ttotal: 145ms\tremaining: 1.38s\n",
      "95:\tlearn: 0.3114954\ttotal: 146ms\tremaining: 1.37s\n",
      "96:\tlearn: 0.3099059\ttotal: 146ms\tremaining: 1.36s\n",
      "97:\tlearn: 0.3079210\ttotal: 147ms\tremaining: 1.36s\n",
      "98:\tlearn: 0.3065013\ttotal: 148ms\tremaining: 1.35s\n",
      "99:\tlearn: 0.3048215\ttotal: 149ms\tremaining: 1.34s\n",
      "100:\tlearn: 0.3032759\ttotal: 150ms\tremaining: 1.33s\n",
      "101:\tlearn: 0.3016458\ttotal: 151ms\tremaining: 1.33s\n",
      "102:\tlearn: 0.3003000\ttotal: 152ms\tremaining: 1.32s\n",
      "103:\tlearn: 0.2989724\ttotal: 153ms\tremaining: 1.31s\n",
      "104:\tlearn: 0.2975486\ttotal: 153ms\tremaining: 1.31s\n",
      "105:\tlearn: 0.2961169\ttotal: 154ms\tremaining: 1.3s\n",
      "106:\tlearn: 0.2944687\ttotal: 155ms\tremaining: 1.29s\n",
      "107:\tlearn: 0.2927507\ttotal: 156ms\tremaining: 1.28s\n",
      "108:\tlearn: 0.2912826\ttotal: 157ms\tremaining: 1.28s\n",
      "109:\tlearn: 0.2904285\ttotal: 157ms\tremaining: 1.27s\n",
      "110:\tlearn: 0.2894176\ttotal: 158ms\tremaining: 1.27s\n",
      "111:\tlearn: 0.2877772\ttotal: 159ms\tremaining: 1.26s\n",
      "112:\tlearn: 0.2861993\ttotal: 160ms\tremaining: 1.25s\n",
      "113:\tlearn: 0.2847824\ttotal: 161ms\tremaining: 1.25s\n",
      "114:\tlearn: 0.2836520\ttotal: 162ms\tremaining: 1.24s\n",
      "115:\tlearn: 0.2825076\ttotal: 163ms\tremaining: 1.24s\n",
      "116:\tlearn: 0.2810426\ttotal: 163ms\tremaining: 1.23s\n",
      "117:\tlearn: 0.2799029\ttotal: 164ms\tremaining: 1.23s\n",
      "118:\tlearn: 0.2788086\ttotal: 165ms\tremaining: 1.22s\n",
      "119:\tlearn: 0.2780874\ttotal: 166ms\tremaining: 1.22s\n",
      "120:\tlearn: 0.2767762\ttotal: 167ms\tremaining: 1.21s\n",
      "121:\tlearn: 0.2756827\ttotal: 168ms\tremaining: 1.21s\n",
      "122:\tlearn: 0.2747778\ttotal: 168ms\tremaining: 1.2s\n",
      "123:\tlearn: 0.2738756\ttotal: 169ms\tremaining: 1.2s\n",
      "124:\tlearn: 0.2726226\ttotal: 170ms\tremaining: 1.19s\n",
      "125:\tlearn: 0.2716575\ttotal: 171ms\tremaining: 1.19s\n",
      "126:\tlearn: 0.2703119\ttotal: 172ms\tremaining: 1.18s\n",
      "127:\tlearn: 0.2693914\ttotal: 172ms\tremaining: 1.18s\n",
      "128:\tlearn: 0.2680235\ttotal: 173ms\tremaining: 1.17s\n",
      "129:\tlearn: 0.2669221\ttotal: 174ms\tremaining: 1.17s\n",
      "130:\tlearn: 0.2660335\ttotal: 175ms\tremaining: 1.16s\n",
      "131:\tlearn: 0.2649370\ttotal: 176ms\tremaining: 1.16s\n",
      "132:\tlearn: 0.2639920\ttotal: 177ms\tremaining: 1.15s\n",
      "133:\tlearn: 0.2629806\ttotal: 177ms\tremaining: 1.15s\n",
      "134:\tlearn: 0.2619100\ttotal: 178ms\tremaining: 1.14s\n",
      "135:\tlearn: 0.2609327\ttotal: 179ms\tremaining: 1.14s\n",
      "136:\tlearn: 0.2602738\ttotal: 180ms\tremaining: 1.13s\n",
      "137:\tlearn: 0.2593805\ttotal: 181ms\tremaining: 1.13s\n",
      "138:\tlearn: 0.2584025\ttotal: 182ms\tremaining: 1.13s\n",
      "139:\tlearn: 0.2574631\ttotal: 183ms\tremaining: 1.12s\n",
      "140:\tlearn: 0.2567059\ttotal: 184ms\tremaining: 1.12s\n",
      "141:\tlearn: 0.2558691\ttotal: 185ms\tremaining: 1.12s\n",
      "142:\tlearn: 0.2549918\ttotal: 186ms\tremaining: 1.11s\n",
      "143:\tlearn: 0.2540673\ttotal: 186ms\tremaining: 1.11s\n",
      "144:\tlearn: 0.2531447\ttotal: 187ms\tremaining: 1.1s\n",
      "145:\tlearn: 0.2523305\ttotal: 188ms\tremaining: 1.1s\n",
      "146:\tlearn: 0.2512429\ttotal: 189ms\tremaining: 1.09s\n",
      "147:\tlearn: 0.2502992\ttotal: 190ms\tremaining: 1.09s\n"
     ]
    },
    {
     "name": "stdout",
     "output_type": "stream",
     "text": [
      "148:\tlearn: 0.2491792\ttotal: 191ms\tremaining: 1.09s\n",
      "149:\tlearn: 0.2485405\ttotal: 192ms\tremaining: 1.09s\n",
      "150:\tlearn: 0.2473485\ttotal: 193ms\tremaining: 1.08s\n",
      "151:\tlearn: 0.2467528\ttotal: 194ms\tremaining: 1.08s\n",
      "152:\tlearn: 0.2461459\ttotal: 195ms\tremaining: 1.08s\n",
      "153:\tlearn: 0.2453466\ttotal: 196ms\tremaining: 1.07s\n",
      "154:\tlearn: 0.2445231\ttotal: 197ms\tremaining: 1.07s\n",
      "155:\tlearn: 0.2435977\ttotal: 198ms\tremaining: 1.07s\n",
      "156:\tlearn: 0.2429728\ttotal: 199ms\tremaining: 1.07s\n",
      "157:\tlearn: 0.2418436\ttotal: 200ms\tremaining: 1.06s\n",
      "158:\tlearn: 0.2409848\ttotal: 201ms\tremaining: 1.06s\n",
      "159:\tlearn: 0.2405827\ttotal: 201ms\tremaining: 1.06s\n",
      "160:\tlearn: 0.2395354\ttotal: 202ms\tremaining: 1.05s\n",
      "161:\tlearn: 0.2387978\ttotal: 203ms\tremaining: 1.05s\n",
      "162:\tlearn: 0.2384202\ttotal: 204ms\tremaining: 1.05s\n",
      "163:\tlearn: 0.2377702\ttotal: 205ms\tremaining: 1.04s\n",
      "164:\tlearn: 0.2370137\ttotal: 206ms\tremaining: 1.04s\n",
      "165:\tlearn: 0.2361956\ttotal: 207ms\tremaining: 1.04s\n",
      "166:\tlearn: 0.2356713\ttotal: 208ms\tremaining: 1.03s\n",
      "167:\tlearn: 0.2346087\ttotal: 209ms\tremaining: 1.03s\n",
      "168:\tlearn: 0.2340264\ttotal: 209ms\tremaining: 1.03s\n",
      "169:\tlearn: 0.2333988\ttotal: 210ms\tremaining: 1.03s\n",
      "170:\tlearn: 0.2326563\ttotal: 211ms\tremaining: 1.02s\n",
      "171:\tlearn: 0.2321754\ttotal: 212ms\tremaining: 1.02s\n",
      "172:\tlearn: 0.2315719\ttotal: 213ms\tremaining: 1.02s\n",
      "173:\tlearn: 0.2308457\ttotal: 214ms\tremaining: 1.01s\n",
      "174:\tlearn: 0.2301987\ttotal: 214ms\tremaining: 1.01s\n",
      "175:\tlearn: 0.2294622\ttotal: 215ms\tremaining: 1.01s\n",
      "176:\tlearn: 0.2288358\ttotal: 216ms\tremaining: 1s\n",
      "177:\tlearn: 0.2283111\ttotal: 217ms\tremaining: 1s\n",
      "178:\tlearn: 0.2278801\ttotal: 218ms\tremaining: 1000ms\n",
      "179:\tlearn: 0.2272710\ttotal: 219ms\tremaining: 1000ms\n",
      "180:\tlearn: 0.2263722\ttotal: 220ms\tremaining: 997ms\n",
      "181:\tlearn: 0.2257876\ttotal: 221ms\tremaining: 994ms\n",
      "182:\tlearn: 0.2251849\ttotal: 222ms\tremaining: 991ms\n",
      "183:\tlearn: 0.2245181\ttotal: 223ms\tremaining: 988ms\n",
      "184:\tlearn: 0.2236942\ttotal: 224ms\tremaining: 985ms\n",
      "185:\tlearn: 0.2234221\ttotal: 224ms\tremaining: 982ms\n",
      "186:\tlearn: 0.2228628\ttotal: 225ms\tremaining: 979ms\n",
      "187:\tlearn: 0.2222401\ttotal: 226ms\tremaining: 976ms\n",
      "188:\tlearn: 0.2216949\ttotal: 227ms\tremaining: 974ms\n",
      "189:\tlearn: 0.2212481\ttotal: 228ms\tremaining: 972ms\n",
      "190:\tlearn: 0.2205587\ttotal: 229ms\tremaining: 969ms\n",
      "191:\tlearn: 0.2201451\ttotal: 230ms\tremaining: 966ms\n",
      "192:\tlearn: 0.2194621\ttotal: 230ms\tremaining: 964ms\n",
      "193:\tlearn: 0.2188923\ttotal: 232ms\tremaining: 962ms\n",
      "194:\tlearn: 0.2182517\ttotal: 233ms\tremaining: 962ms\n",
      "195:\tlearn: 0.2176706\ttotal: 234ms\tremaining: 959ms\n",
      "196:\tlearn: 0.2167870\ttotal: 235ms\tremaining: 956ms\n",
      "197:\tlearn: 0.2160811\ttotal: 235ms\tremaining: 953ms\n",
      "198:\tlearn: 0.2154776\ttotal: 236ms\tremaining: 950ms\n",
      "199:\tlearn: 0.2146445\ttotal: 237ms\tremaining: 948ms\n",
      "200:\tlearn: 0.2138717\ttotal: 238ms\tremaining: 945ms\n",
      "201:\tlearn: 0.2134572\ttotal: 239ms\tremaining: 943ms\n",
      "202:\tlearn: 0.2128980\ttotal: 240ms\tremaining: 941ms\n",
      "203:\tlearn: 0.2123187\ttotal: 240ms\tremaining: 938ms\n",
      "204:\tlearn: 0.2120575\ttotal: 241ms\tremaining: 936ms\n",
      "205:\tlearn: 0.2115364\ttotal: 242ms\tremaining: 933ms\n",
      "206:\tlearn: 0.2109846\ttotal: 243ms\tremaining: 930ms\n",
      "207:\tlearn: 0.2104324\ttotal: 244ms\tremaining: 928ms\n",
      "208:\tlearn: 0.2098642\ttotal: 245ms\tremaining: 926ms\n",
      "209:\tlearn: 0.2093559\ttotal: 245ms\tremaining: 923ms\n",
      "210:\tlearn: 0.2086491\ttotal: 246ms\tremaining: 920ms\n",
      "211:\tlearn: 0.2082373\ttotal: 247ms\tremaining: 918ms\n",
      "212:\tlearn: 0.2076576\ttotal: 248ms\tremaining: 916ms\n",
      "213:\tlearn: 0.2071389\ttotal: 249ms\tremaining: 914ms\n",
      "214:\tlearn: 0.2066733\ttotal: 250ms\tremaining: 911ms\n",
      "215:\tlearn: 0.2061593\ttotal: 250ms\tremaining: 909ms\n",
      "216:\tlearn: 0.2057487\ttotal: 251ms\tremaining: 906ms\n",
      "217:\tlearn: 0.2053991\ttotal: 252ms\tremaining: 904ms\n",
      "218:\tlearn: 0.2050336\ttotal: 253ms\tremaining: 901ms\n",
      "219:\tlearn: 0.2045491\ttotal: 254ms\tremaining: 899ms\n",
      "220:\tlearn: 0.2039964\ttotal: 254ms\tremaining: 897ms\n",
      "221:\tlearn: 0.2035223\ttotal: 255ms\tremaining: 895ms\n",
      "222:\tlearn: 0.2028762\ttotal: 256ms\tremaining: 893ms\n",
      "223:\tlearn: 0.2024931\ttotal: 257ms\tremaining: 891ms\n",
      "224:\tlearn: 0.2021321\ttotal: 258ms\tremaining: 889ms\n",
      "225:\tlearn: 0.2016722\ttotal: 259ms\tremaining: 886ms\n",
      "226:\tlearn: 0.2010784\ttotal: 260ms\tremaining: 885ms\n",
      "227:\tlearn: 0.2008530\ttotal: 261ms\tremaining: 883ms\n",
      "228:\tlearn: 0.2004199\ttotal: 261ms\tremaining: 880ms\n",
      "229:\tlearn: 0.1999770\ttotal: 262ms\tremaining: 878ms\n",
      "230:\tlearn: 0.1996303\ttotal: 263ms\tremaining: 876ms\n",
      "231:\tlearn: 0.1989395\ttotal: 264ms\tremaining: 874ms\n",
      "232:\tlearn: 0.1984689\ttotal: 265ms\tremaining: 872ms\n",
      "233:\tlearn: 0.1979459\ttotal: 266ms\tremaining: 870ms\n",
      "234:\tlearn: 0.1973451\ttotal: 266ms\tremaining: 868ms\n",
      "235:\tlearn: 0.1968527\ttotal: 267ms\tremaining: 865ms\n",
      "236:\tlearn: 0.1961495\ttotal: 268ms\tremaining: 863ms\n",
      "237:\tlearn: 0.1959129\ttotal: 269ms\tremaining: 861ms\n",
      "238:\tlearn: 0.1954239\ttotal: 270ms\tremaining: 858ms\n",
      "239:\tlearn: 0.1949591\ttotal: 270ms\tremaining: 856ms\n",
      "240:\tlearn: 0.1946749\ttotal: 271ms\tremaining: 854ms\n",
      "241:\tlearn: 0.1944359\ttotal: 272ms\tremaining: 852ms\n",
      "242:\tlearn: 0.1942106\ttotal: 273ms\tremaining: 850ms\n",
      "243:\tlearn: 0.1939605\ttotal: 274ms\tremaining: 849ms\n",
      "244:\tlearn: 0.1936749\ttotal: 275ms\tremaining: 846ms\n",
      "245:\tlearn: 0.1930473\ttotal: 275ms\tremaining: 844ms\n",
      "246:\tlearn: 0.1924976\ttotal: 276ms\tremaining: 842ms\n",
      "247:\tlearn: 0.1922691\ttotal: 277ms\tremaining: 840ms\n",
      "248:\tlearn: 0.1919114\ttotal: 278ms\tremaining: 838ms\n",
      "249:\tlearn: 0.1915558\ttotal: 279ms\tremaining: 836ms\n",
      "250:\tlearn: 0.1913015\ttotal: 279ms\tremaining: 834ms\n",
      "251:\tlearn: 0.1906561\ttotal: 280ms\tremaining: 832ms\n",
      "252:\tlearn: 0.1901702\ttotal: 281ms\tremaining: 830ms\n",
      "253:\tlearn: 0.1899533\ttotal: 282ms\tremaining: 828ms\n",
      "254:\tlearn: 0.1897521\ttotal: 283ms\tremaining: 826ms\n",
      "255:\tlearn: 0.1892583\ttotal: 284ms\tremaining: 824ms\n",
      "256:\tlearn: 0.1890607\ttotal: 284ms\tremaining: 822ms\n",
      "257:\tlearn: 0.1885060\ttotal: 285ms\tremaining: 821ms\n",
      "258:\tlearn: 0.1879646\ttotal: 286ms\tremaining: 818ms\n",
      "259:\tlearn: 0.1876121\ttotal: 287ms\tremaining: 816ms\n",
      "260:\tlearn: 0.1870508\ttotal: 288ms\tremaining: 815ms\n"
     ]
    },
    {
     "name": "stdout",
     "output_type": "stream",
     "text": [
      "261:\tlearn: 0.1866875\ttotal: 289ms\tremaining: 814ms\n",
      "262:\tlearn: 0.1862171\ttotal: 290ms\tremaining: 812ms\n",
      "263:\tlearn: 0.1859524\ttotal: 291ms\tremaining: 811ms\n",
      "264:\tlearn: 0.1853593\ttotal: 292ms\tremaining: 809ms\n",
      "265:\tlearn: 0.1852062\ttotal: 292ms\tremaining: 807ms\n",
      "266:\tlearn: 0.1847348\ttotal: 293ms\tremaining: 805ms\n",
      "267:\tlearn: 0.1842619\ttotal: 294ms\tremaining: 804ms\n",
      "268:\tlearn: 0.1840385\ttotal: 295ms\tremaining: 802ms\n",
      "269:\tlearn: 0.1835272\ttotal: 296ms\tremaining: 801ms\n",
      "270:\tlearn: 0.1833916\ttotal: 297ms\tremaining: 799ms\n",
      "271:\tlearn: 0.1832300\ttotal: 298ms\tremaining: 797ms\n",
      "272:\tlearn: 0.1828353\ttotal: 299ms\tremaining: 795ms\n",
      "273:\tlearn: 0.1825779\ttotal: 300ms\tremaining: 794ms\n",
      "274:\tlearn: 0.1822056\ttotal: 301ms\tremaining: 793ms\n",
      "275:\tlearn: 0.1818376\ttotal: 301ms\tremaining: 791ms\n",
      "276:\tlearn: 0.1814744\ttotal: 302ms\tremaining: 789ms\n",
      "277:\tlearn: 0.1810702\ttotal: 303ms\tremaining: 787ms\n",
      "278:\tlearn: 0.1808335\ttotal: 304ms\tremaining: 785ms\n",
      "279:\tlearn: 0.1806478\ttotal: 305ms\tremaining: 784ms\n",
      "280:\tlearn: 0.1800905\ttotal: 306ms\tremaining: 782ms\n",
      "281:\tlearn: 0.1798629\ttotal: 306ms\tremaining: 780ms\n",
      "282:\tlearn: 0.1796771\ttotal: 307ms\tremaining: 779ms\n",
      "283:\tlearn: 0.1792296\ttotal: 308ms\tremaining: 777ms\n",
      "284:\tlearn: 0.1786939\ttotal: 309ms\tremaining: 775ms\n",
      "285:\tlearn: 0.1784550\ttotal: 310ms\tremaining: 774ms\n",
      "286:\tlearn: 0.1782128\ttotal: 311ms\tremaining: 772ms\n",
      "287:\tlearn: 0.1777093\ttotal: 312ms\tremaining: 770ms\n",
      "288:\tlearn: 0.1774909\ttotal: 313ms\tremaining: 769ms\n",
      "289:\tlearn: 0.1769314\ttotal: 313ms\tremaining: 767ms\n",
      "290:\tlearn: 0.1764857\ttotal: 314ms\tremaining: 766ms\n",
      "291:\tlearn: 0.1760420\ttotal: 315ms\tremaining: 764ms\n",
      "292:\tlearn: 0.1756141\ttotal: 316ms\tremaining: 762ms\n",
      "293:\tlearn: 0.1755173\ttotal: 317ms\tremaining: 760ms\n",
      "294:\tlearn: 0.1750682\ttotal: 317ms\tremaining: 758ms\n",
      "295:\tlearn: 0.1744950\ttotal: 318ms\tremaining: 757ms\n",
      "296:\tlearn: 0.1740384\ttotal: 319ms\tremaining: 755ms\n",
      "297:\tlearn: 0.1737344\ttotal: 320ms\tremaining: 753ms\n",
      "298:\tlearn: 0.1733524\ttotal: 321ms\tremaining: 752ms\n",
      "299:\tlearn: 0.1729790\ttotal: 321ms\tremaining: 750ms\n",
      "300:\tlearn: 0.1726292\ttotal: 322ms\tremaining: 748ms\n",
      "301:\tlearn: 0.1724452\ttotal: 323ms\tremaining: 747ms\n",
      "302:\tlearn: 0.1720839\ttotal: 324ms\tremaining: 745ms\n",
      "303:\tlearn: 0.1716230\ttotal: 325ms\tremaining: 744ms\n",
      "304:\tlearn: 0.1713108\ttotal: 326ms\tremaining: 742ms\n",
      "305:\tlearn: 0.1709178\ttotal: 327ms\tremaining: 741ms\n",
      "306:\tlearn: 0.1705994\ttotal: 327ms\tremaining: 739ms\n",
      "307:\tlearn: 0.1702075\ttotal: 328ms\tremaining: 738ms\n",
      "308:\tlearn: 0.1700969\ttotal: 329ms\tremaining: 736ms\n",
      "309:\tlearn: 0.1695811\ttotal: 330ms\tremaining: 735ms\n",
      "310:\tlearn: 0.1691811\ttotal: 331ms\tremaining: 733ms\n",
      "311:\tlearn: 0.1689209\ttotal: 332ms\tremaining: 733ms\n",
      "312:\tlearn: 0.1686552\ttotal: 333ms\tremaining: 731ms\n",
      "313:\tlearn: 0.1684707\ttotal: 334ms\tremaining: 729ms\n",
      "314:\tlearn: 0.1683177\ttotal: 335ms\tremaining: 728ms\n",
      "315:\tlearn: 0.1682444\ttotal: 335ms\tremaining: 726ms\n",
      "316:\tlearn: 0.1681708\ttotal: 336ms\tremaining: 724ms\n",
      "317:\tlearn: 0.1677762\ttotal: 337ms\tremaining: 723ms\n",
      "318:\tlearn: 0.1674042\ttotal: 338ms\tremaining: 721ms\n",
      "319:\tlearn: 0.1669364\ttotal: 339ms\tremaining: 720ms\n",
      "320:\tlearn: 0.1665476\ttotal: 339ms\tremaining: 718ms\n",
      "321:\tlearn: 0.1662267\ttotal: 340ms\tremaining: 716ms\n",
      "322:\tlearn: 0.1659721\ttotal: 341ms\tremaining: 715ms\n",
      "323:\tlearn: 0.1657944\ttotal: 342ms\tremaining: 714ms\n",
      "324:\tlearn: 0.1655611\ttotal: 343ms\tremaining: 712ms\n",
      "325:\tlearn: 0.1654163\ttotal: 344ms\tremaining: 711ms\n",
      "326:\tlearn: 0.1651869\ttotal: 345ms\tremaining: 709ms\n",
      "327:\tlearn: 0.1645744\ttotal: 345ms\tremaining: 708ms\n",
      "328:\tlearn: 0.1641843\ttotal: 346ms\tremaining: 706ms\n",
      "329:\tlearn: 0.1638010\ttotal: 347ms\tremaining: 705ms\n",
      "330:\tlearn: 0.1636930\ttotal: 348ms\tremaining: 703ms\n",
      "331:\tlearn: 0.1632470\ttotal: 349ms\tremaining: 702ms\n",
      "332:\tlearn: 0.1629457\ttotal: 350ms\tremaining: 701ms\n",
      "333:\tlearn: 0.1624798\ttotal: 351ms\tremaining: 699ms\n",
      "334:\tlearn: 0.1624257\ttotal: 352ms\tremaining: 698ms\n",
      "335:\tlearn: 0.1622708\ttotal: 352ms\tremaining: 696ms\n",
      "336:\tlearn: 0.1619119\ttotal: 353ms\tremaining: 695ms\n",
      "337:\tlearn: 0.1618503\ttotal: 354ms\tremaining: 693ms\n",
      "338:\tlearn: 0.1617589\ttotal: 355ms\tremaining: 693ms\n",
      "339:\tlearn: 0.1614218\ttotal: 356ms\tremaining: 691ms\n",
      "340:\tlearn: 0.1610618\ttotal: 357ms\tremaining: 690ms\n",
      "341:\tlearn: 0.1610243\ttotal: 358ms\tremaining: 688ms\n",
      "342:\tlearn: 0.1607244\ttotal: 359ms\tremaining: 687ms\n",
      "343:\tlearn: 0.1606693\ttotal: 359ms\tremaining: 685ms\n",
      "344:\tlearn: 0.1605916\ttotal: 360ms\tremaining: 684ms\n",
      "345:\tlearn: 0.1604972\ttotal: 361ms\tremaining: 682ms\n",
      "346:\tlearn: 0.1604393\ttotal: 362ms\tremaining: 681ms\n",
      "347:\tlearn: 0.1602718\ttotal: 363ms\tremaining: 680ms\n",
      "348:\tlearn: 0.1602314\ttotal: 364ms\tremaining: 678ms\n",
      "349:\tlearn: 0.1599478\ttotal: 364ms\tremaining: 677ms\n",
      "350:\tlearn: 0.1598171\ttotal: 365ms\tremaining: 675ms\n",
      "351:\tlearn: 0.1596903\ttotal: 366ms\tremaining: 674ms\n",
      "352:\tlearn: 0.1596476\ttotal: 367ms\tremaining: 672ms\n",
      "353:\tlearn: 0.1595943\ttotal: 368ms\tremaining: 671ms\n",
      "354:\tlearn: 0.1594013\ttotal: 368ms\tremaining: 669ms\n",
      "355:\tlearn: 0.1593198\ttotal: 369ms\tremaining: 668ms\n",
      "356:\tlearn: 0.1588788\ttotal: 370ms\tremaining: 666ms\n",
      "357:\tlearn: 0.1586981\ttotal: 371ms\tremaining: 665ms\n",
      "358:\tlearn: 0.1586552\ttotal: 372ms\tremaining: 665ms\n",
      "359:\tlearn: 0.1586083\ttotal: 373ms\tremaining: 663ms\n",
      "360:\tlearn: 0.1585674\ttotal: 374ms\tremaining: 662ms\n",
      "361:\tlearn: 0.1582032\ttotal: 375ms\tremaining: 660ms\n",
      "362:\tlearn: 0.1578550\ttotal: 376ms\tremaining: 659ms\n",
      "363:\tlearn: 0.1576706\ttotal: 376ms\tremaining: 658ms\n",
      "364:\tlearn: 0.1574693\ttotal: 377ms\tremaining: 656ms\n",
      "365:\tlearn: 0.1574300\ttotal: 378ms\tremaining: 655ms\n",
      "366:\tlearn: 0.1573963\ttotal: 379ms\tremaining: 653ms\n",
      "367:\tlearn: 0.1570447\ttotal: 379ms\tremaining: 652ms\n",
      "368:\tlearn: 0.1566668\ttotal: 380ms\tremaining: 650ms\n",
      "369:\tlearn: 0.1566294\ttotal: 381ms\tremaining: 649ms\n"
     ]
    },
    {
     "name": "stdout",
     "output_type": "stream",
     "text": [
      "370:\tlearn: 0.1563640\ttotal: 382ms\tremaining: 648ms\n",
      "371:\tlearn: 0.1561989\ttotal: 383ms\tremaining: 647ms\n",
      "372:\tlearn: 0.1558000\ttotal: 384ms\tremaining: 645ms\n",
      "373:\tlearn: 0.1554994\ttotal: 385ms\tremaining: 644ms\n",
      "374:\tlearn: 0.1551120\ttotal: 386ms\tremaining: 643ms\n",
      "375:\tlearn: 0.1547729\ttotal: 386ms\tremaining: 641ms\n",
      "376:\tlearn: 0.1545385\ttotal: 387ms\tremaining: 640ms\n",
      "377:\tlearn: 0.1539671\ttotal: 388ms\tremaining: 639ms\n",
      "378:\tlearn: 0.1538084\ttotal: 389ms\tremaining: 637ms\n",
      "379:\tlearn: 0.1534477\ttotal: 390ms\tremaining: 636ms\n",
      "380:\tlearn: 0.1532003\ttotal: 391ms\tremaining: 635ms\n",
      "381:\tlearn: 0.1531760\ttotal: 392ms\tremaining: 634ms\n",
      "382:\tlearn: 0.1531428\ttotal: 392ms\tremaining: 632ms\n",
      "383:\tlearn: 0.1530171\ttotal: 393ms\tremaining: 631ms\n",
      "384:\tlearn: 0.1527691\ttotal: 394ms\tremaining: 629ms\n",
      "385:\tlearn: 0.1527402\ttotal: 395ms\tremaining: 628ms\n",
      "386:\tlearn: 0.1526969\ttotal: 395ms\tremaining: 626ms\n",
      "387:\tlearn: 0.1522884\ttotal: 396ms\tremaining: 625ms\n",
      "388:\tlearn: 0.1520890\ttotal: 397ms\tremaining: 624ms\n",
      "389:\tlearn: 0.1516456\ttotal: 398ms\tremaining: 622ms\n",
      "390:\tlearn: 0.1515213\ttotal: 399ms\tremaining: 621ms\n",
      "391:\tlearn: 0.1514257\ttotal: 400ms\tremaining: 620ms\n",
      "392:\tlearn: 0.1511023\ttotal: 401ms\tremaining: 619ms\n",
      "393:\tlearn: 0.1507536\ttotal: 401ms\tremaining: 617ms\n",
      "394:\tlearn: 0.1506949\ttotal: 402ms\tremaining: 616ms\n",
      "395:\tlearn: 0.1503916\ttotal: 403ms\tremaining: 615ms\n",
      "396:\tlearn: 0.1502377\ttotal: 404ms\tremaining: 614ms\n",
      "397:\tlearn: 0.1501350\ttotal: 405ms\tremaining: 612ms\n",
      "398:\tlearn: 0.1497983\ttotal: 406ms\tremaining: 611ms\n",
      "399:\tlearn: 0.1493046\ttotal: 406ms\tremaining: 610ms\n",
      "400:\tlearn: 0.1490383\ttotal: 407ms\tremaining: 608ms\n",
      "401:\tlearn: 0.1486990\ttotal: 408ms\tremaining: 607ms\n",
      "402:\tlearn: 0.1486739\ttotal: 409ms\tremaining: 606ms\n",
      "403:\tlearn: 0.1486536\ttotal: 410ms\tremaining: 604ms\n",
      "404:\tlearn: 0.1483074\ttotal: 411ms\tremaining: 603ms\n",
      "405:\tlearn: 0.1481586\ttotal: 411ms\tremaining: 602ms\n",
      "406:\tlearn: 0.1477312\ttotal: 412ms\tremaining: 601ms\n",
      "407:\tlearn: 0.1473124\ttotal: 413ms\tremaining: 599ms\n",
      "408:\tlearn: 0.1471853\ttotal: 414ms\tremaining: 598ms\n",
      "409:\tlearn: 0.1471533\ttotal: 415ms\tremaining: 597ms\n",
      "410:\tlearn: 0.1470467\ttotal: 416ms\tremaining: 596ms\n",
      "411:\tlearn: 0.1470250\ttotal: 416ms\tremaining: 594ms\n",
      "412:\tlearn: 0.1465602\ttotal: 417ms\tremaining: 593ms\n",
      "413:\tlearn: 0.1465352\ttotal: 418ms\tremaining: 592ms\n",
      "414:\tlearn: 0.1461401\ttotal: 419ms\tremaining: 590ms\n",
      "415:\tlearn: 0.1458692\ttotal: 419ms\tremaining: 589ms\n",
      "416:\tlearn: 0.1455037\ttotal: 420ms\tremaining: 588ms\n",
      "417:\tlearn: 0.1453778\ttotal: 421ms\tremaining: 587ms\n",
      "418:\tlearn: 0.1453619\ttotal: 422ms\tremaining: 585ms\n",
      "419:\tlearn: 0.1452031\ttotal: 423ms\tremaining: 584ms\n",
      "420:\tlearn: 0.1449277\ttotal: 424ms\tremaining: 583ms\n",
      "421:\tlearn: 0.1448421\ttotal: 425ms\tremaining: 582ms\n",
      "422:\tlearn: 0.1445264\ttotal: 425ms\tremaining: 580ms\n",
      "423:\tlearn: 0.1442179\ttotal: 426ms\tremaining: 579ms\n",
      "424:\tlearn: 0.1442003\ttotal: 427ms\tremaining: 578ms\n",
      "425:\tlearn: 0.1438246\ttotal: 428ms\tremaining: 577ms\n",
      "426:\tlearn: 0.1436087\ttotal: 429ms\tremaining: 575ms\n",
      "427:\tlearn: 0.1433757\ttotal: 429ms\tremaining: 574ms\n",
      "428:\tlearn: 0.1429182\ttotal: 430ms\tremaining: 573ms\n",
      "429:\tlearn: 0.1426589\ttotal: 431ms\tremaining: 571ms\n",
      "430:\tlearn: 0.1426402\ttotal: 432ms\tremaining: 570ms\n",
      "431:\tlearn: 0.1426185\ttotal: 433ms\tremaining: 569ms\n",
      "432:\tlearn: 0.1423532\ttotal: 434ms\tremaining: 568ms\n",
      "433:\tlearn: 0.1417877\ttotal: 435ms\tremaining: 567ms\n",
      "434:\tlearn: 0.1415944\ttotal: 436ms\tremaining: 566ms\n",
      "435:\tlearn: 0.1415164\ttotal: 436ms\tremaining: 564ms\n",
      "436:\tlearn: 0.1414220\ttotal: 437ms\tremaining: 563ms\n",
      "437:\tlearn: 0.1410932\ttotal: 438ms\tremaining: 562ms\n",
      "438:\tlearn: 0.1408735\ttotal: 439ms\tremaining: 561ms\n",
      "439:\tlearn: 0.1405019\ttotal: 439ms\tremaining: 559ms\n",
      "440:\tlearn: 0.1400915\ttotal: 440ms\tremaining: 558ms\n",
      "441:\tlearn: 0.1398812\ttotal: 441ms\tremaining: 557ms\n",
      "442:\tlearn: 0.1395059\ttotal: 442ms\tremaining: 556ms\n",
      "443:\tlearn: 0.1394117\ttotal: 443ms\tremaining: 554ms\n",
      "444:\tlearn: 0.1389802\ttotal: 444ms\tremaining: 553ms\n",
      "445:\tlearn: 0.1386701\ttotal: 445ms\tremaining: 552ms\n",
      "446:\tlearn: 0.1386336\ttotal: 445ms\tremaining: 551ms\n",
      "447:\tlearn: 0.1383359\ttotal: 446ms\tremaining: 550ms\n",
      "448:\tlearn: 0.1379932\ttotal: 447ms\tremaining: 549ms\n",
      "449:\tlearn: 0.1379014\ttotal: 448ms\tremaining: 548ms\n",
      "450:\tlearn: 0.1374391\ttotal: 449ms\tremaining: 546ms\n",
      "451:\tlearn: 0.1370547\ttotal: 450ms\tremaining: 545ms\n",
      "452:\tlearn: 0.1367992\ttotal: 450ms\tremaining: 544ms\n",
      "453:\tlearn: 0.1364155\ttotal: 451ms\tremaining: 543ms\n",
      "454:\tlearn: 0.1361654\ttotal: 452ms\tremaining: 542ms\n",
      "455:\tlearn: 0.1359436\ttotal: 453ms\tremaining: 541ms\n",
      "456:\tlearn: 0.1356588\ttotal: 454ms\tremaining: 539ms\n",
      "457:\tlearn: 0.1355330\ttotal: 455ms\tremaining: 538ms\n",
      "458:\tlearn: 0.1352689\ttotal: 456ms\tremaining: 537ms\n",
      "459:\tlearn: 0.1349627\ttotal: 456ms\tremaining: 536ms\n",
      "460:\tlearn: 0.1346412\ttotal: 457ms\tremaining: 535ms\n",
      "461:\tlearn: 0.1345613\ttotal: 458ms\tremaining: 533ms\n",
      "462:\tlearn: 0.1342475\ttotal: 459ms\tremaining: 532ms\n",
      "463:\tlearn: 0.1342307\ttotal: 460ms\tremaining: 531ms\n",
      "464:\tlearn: 0.1340312\ttotal: 460ms\tremaining: 530ms\n",
      "465:\tlearn: 0.1335673\ttotal: 461ms\tremaining: 529ms\n",
      "466:\tlearn: 0.1333163\ttotal: 462ms\tremaining: 528ms\n",
      "467:\tlearn: 0.1330312\ttotal: 463ms\tremaining: 526ms\n",
      "468:\tlearn: 0.1327668\ttotal: 464ms\tremaining: 525ms\n",
      "469:\tlearn: 0.1326081\ttotal: 465ms\tremaining: 524ms\n",
      "470:\tlearn: 0.1322973\ttotal: 465ms\tremaining: 523ms\n",
      "471:\tlearn: 0.1320131\ttotal: 466ms\tremaining: 522ms\n",
      "472:\tlearn: 0.1319957\ttotal: 467ms\tremaining: 520ms\n",
      "473:\tlearn: 0.1316979\ttotal: 468ms\tremaining: 519ms\n",
      "474:\tlearn: 0.1314662\ttotal: 469ms\tremaining: 518ms\n",
      "475:\tlearn: 0.1314197\ttotal: 470ms\tremaining: 517ms\n",
      "476:\tlearn: 0.1311197\ttotal: 471ms\tremaining: 516ms\n",
      "477:\tlearn: 0.1307599\ttotal: 471ms\tremaining: 515ms\n",
      "478:\tlearn: 0.1306374\ttotal: 472ms\tremaining: 514ms\n",
      "479:\tlearn: 0.1303363\ttotal: 473ms\tremaining: 512ms\n",
      "480:\tlearn: 0.1301716\ttotal: 474ms\tremaining: 511ms\n",
      "481:\tlearn: 0.1299828\ttotal: 475ms\tremaining: 510ms\n",
      "482:\tlearn: 0.1297022\ttotal: 475ms\tremaining: 509ms\n",
      "483:\tlearn: 0.1294037\ttotal: 476ms\tremaining: 508ms\n",
      "484:\tlearn: 0.1293568\ttotal: 477ms\tremaining: 506ms\n",
      "485:\tlearn: 0.1290697\ttotal: 478ms\tremaining: 505ms\n",
      "486:\tlearn: 0.1288455\ttotal: 479ms\tremaining: 504ms\n"
     ]
    },
    {
     "name": "stdout",
     "output_type": "stream",
     "text": [
      "487:\tlearn: 0.1286437\ttotal: 480ms\tremaining: 503ms\n",
      "488:\tlearn: 0.1283955\ttotal: 480ms\tremaining: 502ms\n",
      "489:\tlearn: 0.1281123\ttotal: 481ms\tremaining: 501ms\n",
      "490:\tlearn: 0.1277749\ttotal: 482ms\tremaining: 500ms\n",
      "491:\tlearn: 0.1275672\ttotal: 483ms\tremaining: 499ms\n",
      "492:\tlearn: 0.1275286\ttotal: 484ms\tremaining: 498ms\n",
      "493:\tlearn: 0.1274259\ttotal: 485ms\tremaining: 496ms\n",
      "494:\tlearn: 0.1271838\ttotal: 485ms\tremaining: 495ms\n",
      "495:\tlearn: 0.1268205\ttotal: 486ms\tremaining: 494ms\n",
      "496:\tlearn: 0.1266538\ttotal: 487ms\tremaining: 493ms\n",
      "497:\tlearn: 0.1265695\ttotal: 488ms\tremaining: 492ms\n",
      "498:\tlearn: 0.1264192\ttotal: 489ms\tremaining: 491ms\n",
      "499:\tlearn: 0.1261969\ttotal: 489ms\tremaining: 489ms\n",
      "500:\tlearn: 0.1258697\ttotal: 490ms\tremaining: 488ms\n",
      "501:\tlearn: 0.1255883\ttotal: 491ms\tremaining: 487ms\n",
      "502:\tlearn: 0.1254133\ttotal: 492ms\tremaining: 486ms\n",
      "503:\tlearn: 0.1250626\ttotal: 493ms\tremaining: 485ms\n",
      "504:\tlearn: 0.1247977\ttotal: 494ms\tremaining: 484ms\n",
      "505:\tlearn: 0.1246393\ttotal: 495ms\tremaining: 483ms\n",
      "506:\tlearn: 0.1243594\ttotal: 496ms\tremaining: 482ms\n",
      "507:\tlearn: 0.1241989\ttotal: 496ms\tremaining: 481ms\n",
      "508:\tlearn: 0.1239763\ttotal: 497ms\tremaining: 480ms\n",
      "509:\tlearn: 0.1238088\ttotal: 498ms\tremaining: 479ms\n",
      "510:\tlearn: 0.1234891\ttotal: 499ms\tremaining: 477ms\n",
      "511:\tlearn: 0.1232216\ttotal: 500ms\tremaining: 476ms\n",
      "512:\tlearn: 0.1229466\ttotal: 500ms\tremaining: 475ms\n",
      "513:\tlearn: 0.1228952\ttotal: 501ms\tremaining: 474ms\n",
      "514:\tlearn: 0.1227557\ttotal: 502ms\tremaining: 473ms\n",
      "515:\tlearn: 0.1227403\ttotal: 503ms\tremaining: 472ms\n",
      "516:\tlearn: 0.1224953\ttotal: 504ms\tremaining: 470ms\n",
      "517:\tlearn: 0.1224174\ttotal: 504ms\tremaining: 469ms\n",
      "518:\tlearn: 0.1221662\ttotal: 505ms\tremaining: 468ms\n",
      "519:\tlearn: 0.1219462\ttotal: 506ms\tremaining: 467ms\n",
      "520:\tlearn: 0.1216838\ttotal: 507ms\tremaining: 466ms\n",
      "521:\tlearn: 0.1215700\ttotal: 508ms\tremaining: 465ms\n",
      "522:\tlearn: 0.1213729\ttotal: 508ms\tremaining: 464ms\n",
      "523:\tlearn: 0.1211655\ttotal: 509ms\tremaining: 462ms\n",
      "524:\tlearn: 0.1210896\ttotal: 510ms\tremaining: 461ms\n",
      "525:\tlearn: 0.1208060\ttotal: 511ms\tremaining: 460ms\n",
      "526:\tlearn: 0.1206436\ttotal: 511ms\tremaining: 459ms\n",
      "527:\tlearn: 0.1204642\ttotal: 512ms\tremaining: 458ms\n",
      "528:\tlearn: 0.1202834\ttotal: 513ms\tremaining: 457ms\n",
      "529:\tlearn: 0.1201835\ttotal: 514ms\tremaining: 456ms\n",
      "530:\tlearn: 0.1199212\ttotal: 515ms\tremaining: 455ms\n",
      "531:\tlearn: 0.1196673\ttotal: 516ms\tremaining: 454ms\n",
      "532:\tlearn: 0.1195195\ttotal: 517ms\tremaining: 453ms\n",
      "533:\tlearn: 0.1193569\ttotal: 518ms\tremaining: 452ms\n",
      "534:\tlearn: 0.1193432\ttotal: 519ms\tremaining: 451ms\n",
      "535:\tlearn: 0.1192709\ttotal: 519ms\tremaining: 450ms\n",
      "536:\tlearn: 0.1191956\ttotal: 520ms\tremaining: 448ms\n",
      "537:\tlearn: 0.1190807\ttotal: 521ms\tremaining: 447ms\n",
      "538:\tlearn: 0.1189317\ttotal: 522ms\tremaining: 446ms\n",
      "539:\tlearn: 0.1186482\ttotal: 523ms\tremaining: 445ms\n",
      "540:\tlearn: 0.1186306\ttotal: 523ms\tremaining: 444ms\n",
      "541:\tlearn: 0.1185729\ttotal: 524ms\tremaining: 443ms\n",
      "542:\tlearn: 0.1184033\ttotal: 525ms\tremaining: 442ms\n",
      "543:\tlearn: 0.1182494\ttotal: 526ms\tremaining: 441ms\n",
      "544:\tlearn: 0.1179946\ttotal: 527ms\tremaining: 440ms\n",
      "545:\tlearn: 0.1175115\ttotal: 528ms\tremaining: 439ms\n",
      "546:\tlearn: 0.1172774\ttotal: 529ms\tremaining: 438ms\n",
      "547:\tlearn: 0.1169995\ttotal: 529ms\tremaining: 437ms\n",
      "548:\tlearn: 0.1168098\ttotal: 530ms\tremaining: 436ms\n",
      "549:\tlearn: 0.1167124\ttotal: 531ms\tremaining: 435ms\n",
      "550:\tlearn: 0.1164952\ttotal: 532ms\tremaining: 434ms\n",
      "551:\tlearn: 0.1164375\ttotal: 533ms\tremaining: 432ms\n",
      "552:\tlearn: 0.1161250\ttotal: 534ms\tremaining: 431ms\n",
      "553:\tlearn: 0.1158528\ttotal: 535ms\tremaining: 430ms\n",
      "554:\tlearn: 0.1156643\ttotal: 535ms\tremaining: 429ms\n",
      "555:\tlearn: 0.1154736\ttotal: 536ms\tremaining: 428ms\n",
      "556:\tlearn: 0.1152285\ttotal: 537ms\tremaining: 427ms\n",
      "557:\tlearn: 0.1150669\ttotal: 538ms\tremaining: 426ms\n",
      "558:\tlearn: 0.1148808\ttotal: 539ms\tremaining: 425ms\n",
      "559:\tlearn: 0.1148366\ttotal: 539ms\tremaining: 424ms\n",
      "560:\tlearn: 0.1146578\ttotal: 540ms\tremaining: 423ms\n",
      "561:\tlearn: 0.1143310\ttotal: 541ms\tremaining: 422ms\n",
      "562:\tlearn: 0.1140611\ttotal: 542ms\tremaining: 421ms\n",
      "563:\tlearn: 0.1139489\ttotal: 543ms\tremaining: 420ms\n",
      "564:\tlearn: 0.1138855\ttotal: 544ms\tremaining: 419ms\n",
      "565:\tlearn: 0.1136319\ttotal: 544ms\tremaining: 417ms\n",
      "566:\tlearn: 0.1134487\ttotal: 545ms\tremaining: 417ms\n",
      "567:\tlearn: 0.1132200\ttotal: 546ms\tremaining: 415ms\n",
      "568:\tlearn: 0.1131531\ttotal: 547ms\tremaining: 414ms\n",
      "569:\tlearn: 0.1129077\ttotal: 548ms\tremaining: 413ms\n",
      "570:\tlearn: 0.1128555\ttotal: 549ms\tremaining: 412ms\n",
      "571:\tlearn: 0.1127827\ttotal: 549ms\tremaining: 411ms\n",
      "572:\tlearn: 0.1126001\ttotal: 550ms\tremaining: 410ms\n",
      "573:\tlearn: 0.1125523\ttotal: 551ms\tremaining: 409ms\n",
      "574:\tlearn: 0.1124402\ttotal: 552ms\tremaining: 408ms\n",
      "575:\tlearn: 0.1121953\ttotal: 553ms\tremaining: 407ms\n",
      "576:\tlearn: 0.1118862\ttotal: 554ms\tremaining: 406ms\n",
      "577:\tlearn: 0.1117337\ttotal: 554ms\tremaining: 405ms\n",
      "578:\tlearn: 0.1115915\ttotal: 555ms\tremaining: 404ms\n",
      "579:\tlearn: 0.1113105\ttotal: 556ms\tremaining: 403ms\n",
      "580:\tlearn: 0.1111124\ttotal: 557ms\tremaining: 402ms\n",
      "581:\tlearn: 0.1110608\ttotal: 558ms\tremaining: 400ms\n",
      "582:\tlearn: 0.1107750\ttotal: 558ms\tremaining: 399ms\n",
      "583:\tlearn: 0.1106287\ttotal: 559ms\tremaining: 398ms\n",
      "584:\tlearn: 0.1104713\ttotal: 560ms\tremaining: 397ms\n",
      "585:\tlearn: 0.1103237\ttotal: 561ms\tremaining: 396ms\n",
      "586:\tlearn: 0.1101811\ttotal: 562ms\tremaining: 395ms\n",
      "587:\tlearn: 0.1099346\ttotal: 563ms\tremaining: 394ms\n",
      "588:\tlearn: 0.1098587\ttotal: 563ms\tremaining: 393ms\n",
      "589:\tlearn: 0.1097161\ttotal: 564ms\tremaining: 392ms\n",
      "590:\tlearn: 0.1096059\ttotal: 565ms\tremaining: 391ms\n",
      "591:\tlearn: 0.1094766\ttotal: 566ms\tremaining: 390ms\n",
      "592:\tlearn: 0.1094117\ttotal: 567ms\tremaining: 389ms\n",
      "593:\tlearn: 0.1092532\ttotal: 567ms\tremaining: 388ms\n",
      "594:\tlearn: 0.1090191\ttotal: 568ms\tremaining: 387ms\n",
      "595:\tlearn: 0.1088651\ttotal: 569ms\tremaining: 386ms\n",
      "596:\tlearn: 0.1085833\ttotal: 570ms\tremaining: 385ms\n",
      "597:\tlearn: 0.1084168\ttotal: 570ms\tremaining: 383ms\n",
      "598:\tlearn: 0.1082743\ttotal: 571ms\tremaining: 382ms\n"
     ]
    },
    {
     "name": "stdout",
     "output_type": "stream",
     "text": [
      "599:\tlearn: 0.1081916\ttotal: 572ms\tremaining: 381ms\n",
      "600:\tlearn: 0.1080133\ttotal: 573ms\tremaining: 381ms\n",
      "601:\tlearn: 0.1078903\ttotal: 574ms\tremaining: 380ms\n",
      "602:\tlearn: 0.1077437\ttotal: 575ms\tremaining: 379ms\n",
      "603:\tlearn: 0.1074977\ttotal: 576ms\tremaining: 378ms\n",
      "604:\tlearn: 0.1073084\ttotal: 577ms\tremaining: 377ms\n",
      "605:\tlearn: 0.1070789\ttotal: 578ms\tremaining: 376ms\n",
      "606:\tlearn: 0.1069374\ttotal: 579ms\tremaining: 375ms\n",
      "607:\tlearn: 0.1069002\ttotal: 580ms\tremaining: 374ms\n",
      "608:\tlearn: 0.1065362\ttotal: 580ms\tremaining: 373ms\n",
      "609:\tlearn: 0.1063782\ttotal: 581ms\tremaining: 372ms\n",
      "610:\tlearn: 0.1062003\ttotal: 582ms\tremaining: 371ms\n",
      "611:\tlearn: 0.1059879\ttotal: 583ms\tremaining: 370ms\n",
      "612:\tlearn: 0.1057840\ttotal: 584ms\tremaining: 368ms\n",
      "613:\tlearn: 0.1057369\ttotal: 584ms\tremaining: 367ms\n",
      "614:\tlearn: 0.1055673\ttotal: 585ms\tremaining: 366ms\n",
      "615:\tlearn: 0.1053668\ttotal: 586ms\tremaining: 365ms\n",
      "616:\tlearn: 0.1051685\ttotal: 587ms\tremaining: 364ms\n",
      "617:\tlearn: 0.1050570\ttotal: 588ms\tremaining: 363ms\n",
      "618:\tlearn: 0.1047826\ttotal: 589ms\tremaining: 362ms\n",
      "619:\tlearn: 0.1046456\ttotal: 589ms\tremaining: 361ms\n",
      "620:\tlearn: 0.1044563\ttotal: 590ms\tremaining: 360ms\n",
      "621:\tlearn: 0.1043510\ttotal: 591ms\tremaining: 359ms\n",
      "622:\tlearn: 0.1043121\ttotal: 592ms\tremaining: 358ms\n",
      "623:\tlearn: 0.1042742\ttotal: 593ms\tremaining: 357ms\n",
      "624:\tlearn: 0.1041663\ttotal: 594ms\tremaining: 356ms\n",
      "625:\tlearn: 0.1039221\ttotal: 595ms\tremaining: 355ms\n",
      "626:\tlearn: 0.1038534\ttotal: 596ms\tremaining: 354ms\n",
      "627:\tlearn: 0.1036494\ttotal: 597ms\tremaining: 353ms\n",
      "628:\tlearn: 0.1034109\ttotal: 597ms\tremaining: 352ms\n",
      "629:\tlearn: 0.1032796\ttotal: 598ms\tremaining: 351ms\n",
      "630:\tlearn: 0.1029866\ttotal: 599ms\tremaining: 350ms\n",
      "631:\tlearn: 0.1028493\ttotal: 600ms\tremaining: 349ms\n",
      "632:\tlearn: 0.1026991\ttotal: 601ms\tremaining: 348ms\n",
      "633:\tlearn: 0.1025471\ttotal: 602ms\tremaining: 347ms\n",
      "634:\tlearn: 0.1023845\ttotal: 602ms\tremaining: 346ms\n",
      "635:\tlearn: 0.1021450\ttotal: 603ms\tremaining: 345ms\n",
      "636:\tlearn: 0.1018097\ttotal: 604ms\tremaining: 344ms\n",
      "637:\tlearn: 0.1016762\ttotal: 605ms\tremaining: 343ms\n",
      "638:\tlearn: 0.1015176\ttotal: 606ms\tremaining: 342ms\n",
      "639:\tlearn: 0.1013867\ttotal: 607ms\tremaining: 341ms\n",
      "640:\tlearn: 0.1012586\ttotal: 607ms\tremaining: 340ms\n",
      "641:\tlearn: 0.1012043\ttotal: 608ms\tremaining: 339ms\n",
      "642:\tlearn: 0.1009902\ttotal: 609ms\tremaining: 338ms\n",
      "643:\tlearn: 0.1009401\ttotal: 610ms\tremaining: 337ms\n",
      "644:\tlearn: 0.1008854\ttotal: 611ms\tremaining: 336ms\n",
      "645:\tlearn: 0.1007040\ttotal: 612ms\tremaining: 335ms\n",
      "646:\tlearn: 0.1006924\ttotal: 613ms\tremaining: 334ms\n",
      "647:\tlearn: 0.1004971\ttotal: 613ms\tremaining: 333ms\n",
      "648:\tlearn: 0.1004010\ttotal: 614ms\tremaining: 332ms\n",
      "649:\tlearn: 0.1002763\ttotal: 615ms\tremaining: 331ms\n",
      "650:\tlearn: 0.1000675\ttotal: 616ms\tremaining: 330ms\n",
      "651:\tlearn: 0.0999503\ttotal: 617ms\tremaining: 329ms\n",
      "652:\tlearn: 0.0998820\ttotal: 618ms\tremaining: 328ms\n",
      "653:\tlearn: 0.0995839\ttotal: 618ms\tremaining: 327ms\n",
      "654:\tlearn: 0.0994508\ttotal: 619ms\tremaining: 326ms\n",
      "655:\tlearn: 0.0993328\ttotal: 620ms\tremaining: 325ms\n",
      "656:\tlearn: 0.0991376\ttotal: 621ms\tremaining: 324ms\n",
      "657:\tlearn: 0.0989550\ttotal: 622ms\tremaining: 323ms\n",
      "658:\tlearn: 0.0988784\ttotal: 623ms\tremaining: 322ms\n",
      "659:\tlearn: 0.0988166\ttotal: 624ms\tremaining: 321ms\n",
      "660:\tlearn: 0.0986973\ttotal: 624ms\tremaining: 320ms\n",
      "661:\tlearn: 0.0984967\ttotal: 625ms\tremaining: 319ms\n",
      "662:\tlearn: 0.0983247\ttotal: 626ms\tremaining: 318ms\n",
      "663:\tlearn: 0.0981633\ttotal: 627ms\tremaining: 317ms\n",
      "664:\tlearn: 0.0980314\ttotal: 628ms\tremaining: 316ms\n",
      "665:\tlearn: 0.0979772\ttotal: 629ms\tremaining: 315ms\n",
      "666:\tlearn: 0.0978734\ttotal: 630ms\tremaining: 314ms\n",
      "667:\tlearn: 0.0978056\ttotal: 630ms\tremaining: 313ms\n",
      "668:\tlearn: 0.0977062\ttotal: 631ms\tremaining: 312ms\n",
      "669:\tlearn: 0.0975017\ttotal: 632ms\tremaining: 311ms\n",
      "670:\tlearn: 0.0973824\ttotal: 633ms\tremaining: 310ms\n",
      "671:\tlearn: 0.0971687\ttotal: 634ms\tremaining: 309ms\n",
      "672:\tlearn: 0.0969094\ttotal: 635ms\tremaining: 308ms\n",
      "673:\tlearn: 0.0966675\ttotal: 635ms\tremaining: 307ms\n",
      "674:\tlearn: 0.0965570\ttotal: 636ms\tremaining: 306ms\n",
      "675:\tlearn: 0.0964518\ttotal: 637ms\tremaining: 305ms\n",
      "676:\tlearn: 0.0962859\ttotal: 638ms\tremaining: 304ms\n",
      "677:\tlearn: 0.0960758\ttotal: 639ms\tremaining: 303ms\n",
      "678:\tlearn: 0.0959536\ttotal: 640ms\tremaining: 302ms\n",
      "679:\tlearn: 0.0958361\ttotal: 641ms\tremaining: 301ms\n",
      "680:\tlearn: 0.0956981\ttotal: 641ms\tremaining: 300ms\n",
      "681:\tlearn: 0.0956071\ttotal: 642ms\tremaining: 299ms\n",
      "682:\tlearn: 0.0954238\ttotal: 643ms\tremaining: 298ms\n",
      "683:\tlearn: 0.0952782\ttotal: 644ms\tremaining: 297ms\n",
      "684:\tlearn: 0.0951965\ttotal: 645ms\tremaining: 296ms\n",
      "685:\tlearn: 0.0950032\ttotal: 645ms\tremaining: 295ms\n",
      "686:\tlearn: 0.0948083\ttotal: 646ms\tremaining: 294ms\n",
      "687:\tlearn: 0.0946471\ttotal: 647ms\tremaining: 293ms\n",
      "688:\tlearn: 0.0944920\ttotal: 648ms\tremaining: 292ms\n",
      "689:\tlearn: 0.0944063\ttotal: 649ms\tremaining: 291ms\n",
      "690:\tlearn: 0.0943610\ttotal: 649ms\tremaining: 290ms\n",
      "691:\tlearn: 0.0943218\ttotal: 650ms\tremaining: 289ms\n",
      "692:\tlearn: 0.0942441\ttotal: 651ms\tremaining: 288ms\n",
      "693:\tlearn: 0.0941691\ttotal: 652ms\tremaining: 287ms\n",
      "694:\tlearn: 0.0940060\ttotal: 653ms\tremaining: 286ms\n",
      "695:\tlearn: 0.0938372\ttotal: 654ms\tremaining: 285ms\n",
      "696:\tlearn: 0.0936541\ttotal: 654ms\tremaining: 284ms\n",
      "697:\tlearn: 0.0934690\ttotal: 655ms\tremaining: 283ms\n",
      "698:\tlearn: 0.0932692\ttotal: 656ms\tremaining: 282ms\n",
      "699:\tlearn: 0.0931304\ttotal: 657ms\tremaining: 281ms\n",
      "700:\tlearn: 0.0929664\ttotal: 657ms\tremaining: 280ms\n",
      "701:\tlearn: 0.0928440\ttotal: 658ms\tremaining: 279ms\n",
      "702:\tlearn: 0.0926714\ttotal: 659ms\tremaining: 278ms\n",
      "703:\tlearn: 0.0924712\ttotal: 660ms\tremaining: 277ms\n",
      "704:\tlearn: 0.0923332\ttotal: 661ms\tremaining: 276ms\n",
      "705:\tlearn: 0.0922542\ttotal: 661ms\tremaining: 275ms\n",
      "706:\tlearn: 0.0921231\ttotal: 662ms\tremaining: 274ms\n",
      "707:\tlearn: 0.0919552\ttotal: 663ms\tremaining: 274ms\n",
      "708:\tlearn: 0.0917662\ttotal: 664ms\tremaining: 273ms\n",
      "709:\tlearn: 0.0914494\ttotal: 665ms\tremaining: 272ms\n",
      "710:\tlearn: 0.0913180\ttotal: 666ms\tremaining: 271ms\n",
      "711:\tlearn: 0.0911619\ttotal: 667ms\tremaining: 270ms\n",
      "712:\tlearn: 0.0909758\ttotal: 668ms\tremaining: 269ms\n",
      "713:\tlearn: 0.0909354\ttotal: 668ms\tremaining: 268ms\n",
      "714:\tlearn: 0.0909029\ttotal: 669ms\tremaining: 267ms\n"
     ]
    },
    {
     "name": "stdout",
     "output_type": "stream",
     "text": [
      "715:\tlearn: 0.0908035\ttotal: 670ms\tremaining: 266ms\n",
      "716:\tlearn: 0.0906804\ttotal: 671ms\tremaining: 265ms\n",
      "717:\tlearn: 0.0905083\ttotal: 672ms\tremaining: 264ms\n",
      "718:\tlearn: 0.0903841\ttotal: 673ms\tremaining: 263ms\n",
      "719:\tlearn: 0.0902598\ttotal: 674ms\tremaining: 262ms\n",
      "720:\tlearn: 0.0900891\ttotal: 674ms\tremaining: 261ms\n",
      "721:\tlearn: 0.0899516\ttotal: 675ms\tremaining: 260ms\n",
      "722:\tlearn: 0.0899076\ttotal: 676ms\tremaining: 259ms\n",
      "723:\tlearn: 0.0898160\ttotal: 677ms\tremaining: 258ms\n",
      "724:\tlearn: 0.0896772\ttotal: 678ms\tremaining: 257ms\n",
      "725:\tlearn: 0.0895702\ttotal: 679ms\tremaining: 256ms\n",
      "726:\tlearn: 0.0894944\ttotal: 680ms\tremaining: 255ms\n",
      "727:\tlearn: 0.0893521\ttotal: 681ms\tremaining: 254ms\n",
      "728:\tlearn: 0.0892166\ttotal: 682ms\tremaining: 253ms\n",
      "729:\tlearn: 0.0890710\ttotal: 683ms\tremaining: 252ms\n",
      "730:\tlearn: 0.0889549\ttotal: 683ms\tremaining: 251ms\n",
      "731:\tlearn: 0.0887670\ttotal: 684ms\tremaining: 250ms\n",
      "732:\tlearn: 0.0886468\ttotal: 685ms\tremaining: 249ms\n",
      "733:\tlearn: 0.0886172\ttotal: 686ms\tremaining: 248ms\n",
      "734:\tlearn: 0.0885963\ttotal: 686ms\tremaining: 247ms\n",
      "735:\tlearn: 0.0885053\ttotal: 687ms\tremaining: 247ms\n",
      "736:\tlearn: 0.0883999\ttotal: 688ms\tremaining: 246ms\n",
      "737:\tlearn: 0.0882928\ttotal: 689ms\tremaining: 245ms\n",
      "738:\tlearn: 0.0881308\ttotal: 690ms\tremaining: 244ms\n",
      "739:\tlearn: 0.0880373\ttotal: 691ms\tremaining: 243ms\n",
      "740:\tlearn: 0.0878902\ttotal: 691ms\tremaining: 242ms\n",
      "741:\tlearn: 0.0877692\ttotal: 692ms\tremaining: 241ms\n",
      "742:\tlearn: 0.0876857\ttotal: 693ms\tremaining: 240ms\n",
      "743:\tlearn: 0.0876707\ttotal: 694ms\tremaining: 239ms\n",
      "744:\tlearn: 0.0875502\ttotal: 695ms\tremaining: 238ms\n",
      "745:\tlearn: 0.0873949\ttotal: 696ms\tremaining: 237ms\n",
      "746:\tlearn: 0.0871636\ttotal: 696ms\tremaining: 236ms\n",
      "747:\tlearn: 0.0870396\ttotal: 697ms\tremaining: 235ms\n",
      "748:\tlearn: 0.0868823\ttotal: 698ms\tremaining: 234ms\n",
      "749:\tlearn: 0.0867585\ttotal: 699ms\tremaining: 233ms\n",
      "750:\tlearn: 0.0865718\ttotal: 700ms\tremaining: 232ms\n",
      "751:\tlearn: 0.0863113\ttotal: 701ms\tremaining: 231ms\n",
      "752:\tlearn: 0.0862651\ttotal: 702ms\tremaining: 230ms\n",
      "753:\tlearn: 0.0862538\ttotal: 703ms\tremaining: 229ms\n",
      "754:\tlearn: 0.0860965\ttotal: 704ms\tremaining: 228ms\n",
      "755:\tlearn: 0.0859137\ttotal: 705ms\tremaining: 227ms\n",
      "756:\tlearn: 0.0858370\ttotal: 705ms\tremaining: 226ms\n",
      "757:\tlearn: 0.0856383\ttotal: 706ms\tremaining: 225ms\n",
      "758:\tlearn: 0.0855388\ttotal: 707ms\tremaining: 224ms\n",
      "759:\tlearn: 0.0855028\ttotal: 708ms\tremaining: 224ms\n",
      "760:\tlearn: 0.0853761\ttotal: 709ms\tremaining: 223ms\n",
      "761:\tlearn: 0.0852554\ttotal: 709ms\tremaining: 222ms\n",
      "762:\tlearn: 0.0851292\ttotal: 710ms\tremaining: 221ms\n",
      "763:\tlearn: 0.0850522\ttotal: 712ms\tremaining: 220ms\n",
      "764:\tlearn: 0.0849115\ttotal: 712ms\tremaining: 219ms\n",
      "765:\tlearn: 0.0847841\ttotal: 713ms\tremaining: 218ms\n",
      "766:\tlearn: 0.0846445\ttotal: 714ms\tremaining: 217ms\n",
      "767:\tlearn: 0.0845607\ttotal: 715ms\tremaining: 216ms\n",
      "768:\tlearn: 0.0844606\ttotal: 716ms\tremaining: 215ms\n",
      "769:\tlearn: 0.0843470\ttotal: 716ms\tremaining: 214ms\n",
      "770:\tlearn: 0.0841398\ttotal: 717ms\tremaining: 213ms\n",
      "771:\tlearn: 0.0839759\ttotal: 718ms\tremaining: 212ms\n",
      "772:\tlearn: 0.0838139\ttotal: 719ms\tremaining: 211ms\n",
      "773:\tlearn: 0.0836354\ttotal: 720ms\tremaining: 210ms\n",
      "774:\tlearn: 0.0834644\ttotal: 721ms\tremaining: 209ms\n",
      "775:\tlearn: 0.0834319\ttotal: 722ms\tremaining: 208ms\n",
      "776:\tlearn: 0.0832435\ttotal: 722ms\tremaining: 207ms\n",
      "777:\tlearn: 0.0831107\ttotal: 723ms\tremaining: 206ms\n",
      "778:\tlearn: 0.0829410\ttotal: 724ms\tremaining: 205ms\n",
      "779:\tlearn: 0.0828142\ttotal: 725ms\tremaining: 204ms\n",
      "780:\tlearn: 0.0827275\ttotal: 726ms\tremaining: 204ms\n",
      "781:\tlearn: 0.0825739\ttotal: 727ms\tremaining: 203ms\n",
      "782:\tlearn: 0.0824564\ttotal: 727ms\tremaining: 202ms\n",
      "783:\tlearn: 0.0822889\ttotal: 728ms\tremaining: 201ms\n",
      "784:\tlearn: 0.0822117\ttotal: 729ms\tremaining: 200ms\n",
      "785:\tlearn: 0.0821173\ttotal: 730ms\tremaining: 199ms\n",
      "786:\tlearn: 0.0820061\ttotal: 731ms\tremaining: 198ms\n",
      "787:\tlearn: 0.0818544\ttotal: 732ms\tremaining: 197ms\n",
      "788:\tlearn: 0.0817151\ttotal: 732ms\tremaining: 196ms\n",
      "789:\tlearn: 0.0815663\ttotal: 733ms\tremaining: 195ms\n",
      "790:\tlearn: 0.0813937\ttotal: 734ms\tremaining: 194ms\n",
      "791:\tlearn: 0.0812964\ttotal: 735ms\tremaining: 193ms\n",
      "792:\tlearn: 0.0810840\ttotal: 736ms\tremaining: 192ms\n",
      "793:\tlearn: 0.0808945\ttotal: 737ms\tremaining: 191ms\n",
      "794:\tlearn: 0.0807523\ttotal: 738ms\tremaining: 190ms\n",
      "795:\tlearn: 0.0805809\ttotal: 739ms\tremaining: 189ms\n",
      "796:\tlearn: 0.0804749\ttotal: 739ms\tremaining: 188ms\n",
      "797:\tlearn: 0.0803566\ttotal: 740ms\tremaining: 187ms\n",
      "798:\tlearn: 0.0802653\ttotal: 741ms\tremaining: 186ms\n",
      "799:\tlearn: 0.0801873\ttotal: 742ms\tremaining: 185ms\n",
      "800:\tlearn: 0.0801362\ttotal: 743ms\tremaining: 184ms\n",
      "801:\tlearn: 0.0801038\ttotal: 743ms\tremaining: 184ms\n",
      "802:\tlearn: 0.0799792\ttotal: 744ms\tremaining: 183ms\n",
      "803:\tlearn: 0.0797688\ttotal: 745ms\tremaining: 182ms\n",
      "804:\tlearn: 0.0795518\ttotal: 746ms\tremaining: 181ms\n",
      "805:\tlearn: 0.0794002\ttotal: 747ms\tremaining: 180ms\n",
      "806:\tlearn: 0.0792746\ttotal: 747ms\tremaining: 179ms\n",
      "807:\tlearn: 0.0791802\ttotal: 748ms\tremaining: 178ms\n",
      "808:\tlearn: 0.0790096\ttotal: 749ms\tremaining: 177ms\n",
      "809:\tlearn: 0.0788785\ttotal: 750ms\tremaining: 176ms\n",
      "810:\tlearn: 0.0787551\ttotal: 751ms\tremaining: 175ms\n",
      "811:\tlearn: 0.0786816\ttotal: 752ms\tremaining: 174ms\n",
      "812:\tlearn: 0.0786151\ttotal: 753ms\tremaining: 173ms\n",
      "813:\tlearn: 0.0784165\ttotal: 753ms\tremaining: 172ms\n",
      "814:\tlearn: 0.0783516\ttotal: 754ms\tremaining: 171ms\n",
      "815:\tlearn: 0.0781619\ttotal: 755ms\tremaining: 170ms\n",
      "816:\tlearn: 0.0780990\ttotal: 756ms\tremaining: 169ms\n",
      "817:\tlearn: 0.0780503\ttotal: 757ms\tremaining: 168ms\n",
      "818:\tlearn: 0.0778752\ttotal: 758ms\tremaining: 167ms\n",
      "819:\tlearn: 0.0777400\ttotal: 758ms\tremaining: 166ms\n",
      "820:\tlearn: 0.0777147\ttotal: 759ms\tremaining: 166ms\n",
      "821:\tlearn: 0.0775789\ttotal: 760ms\tremaining: 165ms\n",
      "822:\tlearn: 0.0774187\ttotal: 761ms\tremaining: 164ms\n",
      "823:\tlearn: 0.0772369\ttotal: 762ms\tremaining: 163ms\n"
     ]
    },
    {
     "name": "stdout",
     "output_type": "stream",
     "text": [
      "824:\tlearn: 0.0771239\ttotal: 763ms\tremaining: 162ms\n",
      "825:\tlearn: 0.0768806\ttotal: 764ms\tremaining: 161ms\n",
      "826:\tlearn: 0.0767782\ttotal: 764ms\tremaining: 160ms\n",
      "827:\tlearn: 0.0765957\ttotal: 765ms\tremaining: 159ms\n",
      "828:\tlearn: 0.0764431\ttotal: 766ms\tremaining: 158ms\n",
      "829:\tlearn: 0.0763252\ttotal: 767ms\tremaining: 157ms\n",
      "830:\tlearn: 0.0761707\ttotal: 768ms\tremaining: 156ms\n",
      "831:\tlearn: 0.0760759\ttotal: 769ms\tremaining: 155ms\n",
      "832:\tlearn: 0.0758438\ttotal: 769ms\tremaining: 154ms\n",
      "833:\tlearn: 0.0757082\ttotal: 771ms\tremaining: 153ms\n",
      "834:\tlearn: 0.0756364\ttotal: 771ms\tremaining: 152ms\n",
      "835:\tlearn: 0.0754587\ttotal: 772ms\tremaining: 151ms\n",
      "836:\tlearn: 0.0752883\ttotal: 773ms\tremaining: 151ms\n",
      "837:\tlearn: 0.0751687\ttotal: 774ms\tremaining: 150ms\n",
      "838:\tlearn: 0.0750379\ttotal: 775ms\tremaining: 149ms\n",
      "839:\tlearn: 0.0748875\ttotal: 775ms\tremaining: 148ms\n",
      "840:\tlearn: 0.0748016\ttotal: 776ms\tremaining: 147ms\n",
      "841:\tlearn: 0.0747134\ttotal: 777ms\tremaining: 146ms\n",
      "842:\tlearn: 0.0746121\ttotal: 778ms\tremaining: 145ms\n",
      "843:\tlearn: 0.0745720\ttotal: 779ms\tremaining: 144ms\n",
      "844:\tlearn: 0.0744615\ttotal: 780ms\tremaining: 143ms\n",
      "845:\tlearn: 0.0743106\ttotal: 781ms\tremaining: 142ms\n",
      "846:\tlearn: 0.0741229\ttotal: 782ms\tremaining: 141ms\n",
      "847:\tlearn: 0.0739943\ttotal: 782ms\tremaining: 140ms\n",
      "848:\tlearn: 0.0739430\ttotal: 783ms\tremaining: 139ms\n",
      "849:\tlearn: 0.0737562\ttotal: 785ms\tremaining: 138ms\n",
      "850:\tlearn: 0.0735957\ttotal: 786ms\tremaining: 138ms\n",
      "851:\tlearn: 0.0734741\ttotal: 786ms\tremaining: 137ms\n",
      "852:\tlearn: 0.0733451\ttotal: 787ms\tremaining: 136ms\n",
      "853:\tlearn: 0.0731625\ttotal: 788ms\tremaining: 135ms\n",
      "854:\tlearn: 0.0730760\ttotal: 789ms\tremaining: 134ms\n",
      "855:\tlearn: 0.0729718\ttotal: 790ms\tremaining: 133ms\n",
      "856:\tlearn: 0.0728324\ttotal: 790ms\tremaining: 132ms\n",
      "857:\tlearn: 0.0727520\ttotal: 791ms\tremaining: 131ms\n",
      "858:\tlearn: 0.0726250\ttotal: 792ms\tremaining: 130ms\n",
      "859:\tlearn: 0.0725661\ttotal: 793ms\tremaining: 129ms\n",
      "860:\tlearn: 0.0724514\ttotal: 794ms\tremaining: 128ms\n",
      "861:\tlearn: 0.0723539\ttotal: 795ms\tremaining: 127ms\n",
      "862:\tlearn: 0.0722093\ttotal: 796ms\tremaining: 126ms\n",
      "863:\tlearn: 0.0720807\ttotal: 797ms\tremaining: 125ms\n",
      "864:\tlearn: 0.0719952\ttotal: 798ms\tremaining: 125ms\n",
      "865:\tlearn: 0.0718762\ttotal: 799ms\tremaining: 124ms\n",
      "866:\tlearn: 0.0717594\ttotal: 800ms\tremaining: 123ms\n",
      "867:\tlearn: 0.0715992\ttotal: 800ms\tremaining: 122ms\n",
      "868:\tlearn: 0.0714452\ttotal: 801ms\tremaining: 121ms\n",
      "869:\tlearn: 0.0713744\ttotal: 802ms\tremaining: 120ms\n",
      "870:\tlearn: 0.0712418\ttotal: 803ms\tremaining: 119ms\n",
      "871:\tlearn: 0.0712156\ttotal: 804ms\tremaining: 118ms\n",
      "872:\tlearn: 0.0711168\ttotal: 804ms\tremaining: 117ms\n",
      "873:\tlearn: 0.0709211\ttotal: 805ms\tremaining: 116ms\n",
      "874:\tlearn: 0.0708292\ttotal: 806ms\tremaining: 115ms\n",
      "875:\tlearn: 0.0707592\ttotal: 807ms\tremaining: 114ms\n",
      "876:\tlearn: 0.0706594\ttotal: 808ms\tremaining: 113ms\n",
      "877:\tlearn: 0.0705764\ttotal: 809ms\tremaining: 112ms\n",
      "878:\tlearn: 0.0704474\ttotal: 810ms\tremaining: 111ms\n",
      "879:\tlearn: 0.0703581\ttotal: 811ms\tremaining: 111ms\n",
      "880:\tlearn: 0.0703259\ttotal: 811ms\tremaining: 110ms\n",
      "881:\tlearn: 0.0702436\ttotal: 812ms\tremaining: 109ms\n",
      "882:\tlearn: 0.0701309\ttotal: 813ms\tremaining: 108ms\n",
      "883:\tlearn: 0.0699870\ttotal: 814ms\tremaining: 107ms\n",
      "884:\tlearn: 0.0698878\ttotal: 815ms\tremaining: 106ms\n",
      "885:\tlearn: 0.0697172\ttotal: 815ms\tremaining: 105ms\n",
      "886:\tlearn: 0.0695783\ttotal: 816ms\tremaining: 104ms\n",
      "887:\tlearn: 0.0694998\ttotal: 817ms\tremaining: 103ms\n",
      "888:\tlearn: 0.0693957\ttotal: 818ms\tremaining: 102ms\n",
      "889:\tlearn: 0.0693031\ttotal: 819ms\tremaining: 101ms\n",
      "890:\tlearn: 0.0691310\ttotal: 820ms\tremaining: 100ms\n",
      "891:\tlearn: 0.0690025\ttotal: 820ms\tremaining: 99.3ms\n",
      "892:\tlearn: 0.0688366\ttotal: 821ms\tremaining: 98.4ms\n",
      "893:\tlearn: 0.0687281\ttotal: 822ms\tremaining: 97.5ms\n",
      "894:\tlearn: 0.0686022\ttotal: 823ms\tremaining: 96.5ms\n",
      "895:\tlearn: 0.0685216\ttotal: 824ms\tremaining: 95.6ms\n",
      "896:\tlearn: 0.0684630\ttotal: 824ms\tremaining: 94.7ms\n",
      "897:\tlearn: 0.0683630\ttotal: 825ms\tremaining: 93.7ms\n",
      "898:\tlearn: 0.0682552\ttotal: 826ms\tremaining: 92.8ms\n",
      "899:\tlearn: 0.0681666\ttotal: 827ms\tremaining: 91.9ms\n",
      "900:\tlearn: 0.0680725\ttotal: 828ms\tremaining: 90.9ms\n",
      "901:\tlearn: 0.0679895\ttotal: 828ms\tremaining: 90ms\n",
      "902:\tlearn: 0.0678838\ttotal: 829ms\tremaining: 89.1ms\n",
      "903:\tlearn: 0.0678159\ttotal: 831ms\tremaining: 88.2ms\n",
      "904:\tlearn: 0.0677159\ttotal: 832ms\tremaining: 87.3ms\n",
      "905:\tlearn: 0.0676332\ttotal: 832ms\tremaining: 86.4ms\n",
      "906:\tlearn: 0.0675844\ttotal: 833ms\tremaining: 85.4ms\n",
      "907:\tlearn: 0.0674691\ttotal: 834ms\tremaining: 84.5ms\n",
      "908:\tlearn: 0.0674056\ttotal: 835ms\tremaining: 83.6ms\n",
      "909:\tlearn: 0.0672773\ttotal: 836ms\tremaining: 82.7ms\n",
      "910:\tlearn: 0.0671309\ttotal: 837ms\tremaining: 81.7ms\n",
      "911:\tlearn: 0.0671000\ttotal: 837ms\tremaining: 80.8ms\n",
      "912:\tlearn: 0.0669726\ttotal: 838ms\tremaining: 79.9ms\n",
      "913:\tlearn: 0.0669478\ttotal: 839ms\tremaining: 78.9ms\n",
      "914:\tlearn: 0.0668672\ttotal: 840ms\tremaining: 78ms\n",
      "915:\tlearn: 0.0667411\ttotal: 841ms\tremaining: 77.1ms\n",
      "916:\tlearn: 0.0666882\ttotal: 842ms\tremaining: 76.2ms\n",
      "917:\tlearn: 0.0666167\ttotal: 842ms\tremaining: 75.2ms\n",
      "918:\tlearn: 0.0665020\ttotal: 843ms\tremaining: 74.3ms\n",
      "919:\tlearn: 0.0664471\ttotal: 844ms\tremaining: 73.4ms\n",
      "920:\tlearn: 0.0663898\ttotal: 845ms\tremaining: 72.5ms\n",
      "921:\tlearn: 0.0663688\ttotal: 846ms\tremaining: 71.5ms\n",
      "922:\tlearn: 0.0662464\ttotal: 847ms\tremaining: 70.6ms\n",
      "923:\tlearn: 0.0662192\ttotal: 847ms\tremaining: 69.7ms\n",
      "924:\tlearn: 0.0660767\ttotal: 848ms\tremaining: 68.8ms\n",
      "925:\tlearn: 0.0659937\ttotal: 849ms\tremaining: 67.8ms\n",
      "926:\tlearn: 0.0659075\ttotal: 850ms\tremaining: 66.9ms\n",
      "927:\tlearn: 0.0657905\ttotal: 851ms\tremaining: 66ms\n",
      "928:\tlearn: 0.0656150\ttotal: 852ms\tremaining: 65.1ms\n",
      "929:\tlearn: 0.0655367\ttotal: 852ms\tremaining: 64.2ms\n",
      "930:\tlearn: 0.0654348\ttotal: 853ms\tremaining: 63.2ms\n",
      "931:\tlearn: 0.0653051\ttotal: 855ms\tremaining: 62.4ms\n",
      "932:\tlearn: 0.0651658\ttotal: 856ms\tremaining: 61.4ms\n",
      "933:\tlearn: 0.0650479\ttotal: 857ms\tremaining: 60.5ms\n",
      "934:\tlearn: 0.0648970\ttotal: 857ms\tremaining: 59.6ms\n",
      "935:\tlearn: 0.0647993\ttotal: 858ms\tremaining: 58.7ms\n",
      "936:\tlearn: 0.0647295\ttotal: 859ms\tremaining: 57.7ms\n",
      "937:\tlearn: 0.0646695\ttotal: 860ms\tremaining: 56.8ms\n"
     ]
    },
    {
     "name": "stdout",
     "output_type": "stream",
     "text": [
      "938:\tlearn: 0.0645431\ttotal: 861ms\tremaining: 55.9ms\n",
      "939:\tlearn: 0.0644605\ttotal: 862ms\tremaining: 55ms\n",
      "940:\tlearn: 0.0643738\ttotal: 863ms\tremaining: 54.1ms\n",
      "941:\tlearn: 0.0642148\ttotal: 864ms\tremaining: 53.2ms\n",
      "942:\tlearn: 0.0641121\ttotal: 865ms\tremaining: 52.3ms\n",
      "943:\tlearn: 0.0640231\ttotal: 866ms\tremaining: 51.3ms\n",
      "944:\tlearn: 0.0639960\ttotal: 866ms\tremaining: 50.4ms\n",
      "945:\tlearn: 0.0638788\ttotal: 867ms\tremaining: 49.5ms\n",
      "946:\tlearn: 0.0637397\ttotal: 869ms\tremaining: 48.6ms\n",
      "947:\tlearn: 0.0636447\ttotal: 869ms\tremaining: 47.7ms\n",
      "948:\tlearn: 0.0635824\ttotal: 870ms\tremaining: 46.8ms\n",
      "949:\tlearn: 0.0635631\ttotal: 871ms\tremaining: 45.8ms\n",
      "950:\tlearn: 0.0634567\ttotal: 872ms\tremaining: 44.9ms\n",
      "951:\tlearn: 0.0633502\ttotal: 873ms\tremaining: 44ms\n",
      "952:\tlearn: 0.0632172\ttotal: 873ms\tremaining: 43.1ms\n",
      "953:\tlearn: 0.0631176\ttotal: 874ms\tremaining: 42.2ms\n",
      "954:\tlearn: 0.0630371\ttotal: 875ms\tremaining: 41.2ms\n",
      "955:\tlearn: 0.0629417\ttotal: 876ms\tremaining: 40.3ms\n",
      "956:\tlearn: 0.0628588\ttotal: 877ms\tremaining: 39.4ms\n",
      "957:\tlearn: 0.0627444\ttotal: 878ms\tremaining: 38.5ms\n",
      "958:\tlearn: 0.0626527\ttotal: 878ms\tremaining: 37.6ms\n",
      "959:\tlearn: 0.0625344\ttotal: 879ms\tremaining: 36.6ms\n",
      "960:\tlearn: 0.0624245\ttotal: 880ms\tremaining: 35.7ms\n",
      "961:\tlearn: 0.0623391\ttotal: 881ms\tremaining: 34.8ms\n",
      "962:\tlearn: 0.0622637\ttotal: 882ms\tremaining: 33.9ms\n",
      "963:\tlearn: 0.0621817\ttotal: 883ms\tremaining: 33ms\n",
      "964:\tlearn: 0.0621050\ttotal: 883ms\tremaining: 32ms\n",
      "965:\tlearn: 0.0619955\ttotal: 884ms\tremaining: 31.1ms\n",
      "966:\tlearn: 0.0618968\ttotal: 885ms\tremaining: 30.2ms\n",
      "967:\tlearn: 0.0617934\ttotal: 886ms\tremaining: 29.3ms\n",
      "968:\tlearn: 0.0617258\ttotal: 887ms\tremaining: 28.4ms\n",
      "969:\tlearn: 0.0616151\ttotal: 888ms\tremaining: 27.4ms\n",
      "970:\tlearn: 0.0614863\ttotal: 888ms\tremaining: 26.5ms\n",
      "971:\tlearn: 0.0613378\ttotal: 889ms\tremaining: 25.6ms\n",
      "972:\tlearn: 0.0612158\ttotal: 890ms\tremaining: 24.7ms\n",
      "973:\tlearn: 0.0611058\ttotal: 891ms\tremaining: 23.8ms\n",
      "974:\tlearn: 0.0610442\ttotal: 892ms\tremaining: 22.9ms\n",
      "975:\tlearn: 0.0609779\ttotal: 893ms\tremaining: 21.9ms\n",
      "976:\tlearn: 0.0609120\ttotal: 893ms\tremaining: 21ms\n",
      "977:\tlearn: 0.0608226\ttotal: 894ms\tremaining: 20.1ms\n",
      "978:\tlearn: 0.0607197\ttotal: 895ms\tremaining: 19.2ms\n",
      "979:\tlearn: 0.0606662\ttotal: 896ms\tremaining: 18.3ms\n",
      "980:\tlearn: 0.0605878\ttotal: 897ms\tremaining: 17.4ms\n",
      "981:\tlearn: 0.0605181\ttotal: 897ms\tremaining: 16.4ms\n",
      "982:\tlearn: 0.0604348\ttotal: 898ms\tremaining: 15.5ms\n",
      "983:\tlearn: 0.0603695\ttotal: 899ms\tremaining: 14.6ms\n",
      "984:\tlearn: 0.0603448\ttotal: 900ms\tremaining: 13.7ms\n",
      "985:\tlearn: 0.0602832\ttotal: 901ms\tremaining: 12.8ms\n",
      "986:\tlearn: 0.0601535\ttotal: 901ms\tremaining: 11.9ms\n",
      "987:\tlearn: 0.0600956\ttotal: 902ms\tremaining: 11ms\n",
      "988:\tlearn: 0.0599763\ttotal: 903ms\tremaining: 10ms\n",
      "989:\tlearn: 0.0598862\ttotal: 904ms\tremaining: 9.13ms\n",
      "990:\tlearn: 0.0598104\ttotal: 905ms\tremaining: 8.21ms\n",
      "991:\tlearn: 0.0596912\ttotal: 905ms\tremaining: 7.3ms\n",
      "992:\tlearn: 0.0596195\ttotal: 906ms\tremaining: 6.39ms\n",
      "993:\tlearn: 0.0595655\ttotal: 907ms\tremaining: 5.47ms\n",
      "994:\tlearn: 0.0594441\ttotal: 908ms\tremaining: 4.56ms\n",
      "995:\tlearn: 0.0593383\ttotal: 909ms\tremaining: 3.65ms\n",
      "996:\tlearn: 0.0592787\ttotal: 910ms\tremaining: 2.74ms\n",
      "997:\tlearn: 0.0591476\ttotal: 911ms\tremaining: 1.82ms\n",
      "998:\tlearn: 0.0591053\ttotal: 912ms\tremaining: 912us\n",
      "999:\tlearn: 0.0590155\ttotal: 913ms\tremaining: 0us\n"
     ]
    },
    {
     "data": {
      "text/plain": [
       "<catboost.core.CatBoostRegressor at 0x7fc84937ef10>"
      ]
     },
     "execution_count": 9,
     "metadata": {},
     "output_type": "execute_result"
    }
   ],
   "source": [
    "#Train the Model \n",
    "prior_model = ctb.CatBoostRegressor()\n",
    "prior_model.fit(X_train,Y_train)"
   ]
  },
  {
   "cell_type": "code",
   "execution_count": 10,
   "id": "af65dcda",
   "metadata": {
    "execution": {
     "iopub.execute_input": "2022-06-12T04:48:15.784288Z",
     "iopub.status.busy": "2022-06-12T04:48:15.783894Z",
     "iopub.status.idle": "2022-06-12T04:48:15.791507Z",
     "shell.execute_reply": "2022-06-12T04:48:15.791795Z"
    },
    "id": "af65dcda",
    "papermill": {
     "duration": 0.021183,
     "end_time": "2022-06-12T04:48:15.791913",
     "exception": false,
     "start_time": "2022-06-12T04:48:15.770730",
     "status": "completed"
    },
    "tags": []
   },
   "outputs": [
    {
     "data": {
      "application/scrapbook.scrap.json+json": {
       "data": 0.2017896332219925,
       "encoder": "json",
       "name": "Prior Model MSE",
       "version": 1
      }
     },
     "metadata": {
      "scrapbook": {
       "data": true,
       "display": false,
       "name": "Prior Model MSE"
      }
     },
     "output_type": "display_data"
    },
    {
     "data": {
      "application/scrapbook.scrap.json+json": {
       "data": 1.8414247258753342,
       "encoder": "json",
       "name": "ABC Pre-generator MSE",
       "version": 1
      }
     },
     "metadata": {
      "scrapbook": {
       "data": true,
       "display": false,
       "name": "ABC Pre-generator MSE"
      }
     },
     "output_type": "display_data"
    },
    {
     "data": {
      "application/scrapbook.scrap.json+json": {
       "data": 0.25532018928894057,
       "encoder": "json",
       "name": "Prior Model MSE",
       "version": 1
      }
     },
     "metadata": {
      "scrapbook": {
       "data": true,
       "display": false,
       "name": "Prior Model MSE"
      }
     },
     "output_type": "display_data"
    },
    {
     "data": {
      "application/scrapbook.scrap.json+json": {
       "data": 1.1373910185682778,
       "encoder": "json",
       "name": "ABC Pre-generator MSE",
       "version": 1
      }
     },
     "metadata": {
      "scrapbook": {
       "data": true,
       "display": false,
       "name": "ABC Pre-generator MSE"
      }
     },
     "output_type": "display_data"
    }
   ],
   "source": [
    "y_pred = prior_model.predict(X_test)\n",
    "y_abc = y_pred + np.random.normal(0,variance, y_pred.shape) + bias \n",
    "mse = mean_squared_error(y_pred,Y_test)\n",
    "sb.glue(\"Prior Model MSE\",mse)\n",
    "mse = mean_squared_error(y_abc,Y_test)\n",
    "sb.glue(\"ABC Pre-generator MSE\",mse)\n",
    "mae = mean_absolute_error(y_pred,Y_test)\n",
    "sb.glue(\"Prior Model MSE\",mae)\n",
    "mae = mean_absolute_error(y_abc,Y_test)\n",
    "sb.glue(\"ABC Pre-generator MSE\",mae)"
   ]
  },
  {
   "cell_type": "markdown",
   "id": "25609da2",
   "metadata": {
    "papermill": {
     "duration": 0.009886,
     "end_time": "2022-06-12T04:48:15.811926",
     "exception": false,
     "start_time": "2022-06-12T04:48:15.802040",
     "status": "completed"
    },
    "tags": []
   },
   "source": [
    "# ABC GAN Model"
   ]
  },
  {
   "cell_type": "code",
   "execution_count": 11,
   "id": "dfc3464d",
   "metadata": {
    "execution": {
     "iopub.execute_input": "2022-06-12T04:48:15.834763Z",
     "iopub.status.busy": "2022-06-12T04:48:15.834383Z",
     "iopub.status.idle": "2022-06-12T04:48:15.836933Z",
     "shell.execute_reply": "2022-06-12T04:48:15.837167Z"
    },
    "papermill": {
     "duration": 0.015345,
     "end_time": "2022-06-12T04:48:15.837276",
     "exception": false,
     "start_time": "2022-06-12T04:48:15.821931",
     "status": "completed"
    },
    "tags": []
   },
   "outputs": [],
   "source": [
    "gen = network.Generator(n_features+1).to(device)\n",
    "disc = network.Discriminator(n_features+1).to(device)\n",
    "\n",
    "criterion = torch.nn.BCELoss()\n",
    "gen_opt = torch.optim.Adam(gen.parameters(), lr=0.001, betas=(0.5, 0.999))\n",
    "disc_opt = torch.optim.Adam(disc.parameters(), lr=0.001, betas=(0.5, 0.999))"
   ]
  },
  {
   "cell_type": "code",
   "execution_count": 12,
   "id": "b75fdd85",
   "metadata": {
    "execution": {
     "iopub.execute_input": "2022-06-12T04:48:15.860243Z",
     "iopub.status.busy": "2022-06-12T04:48:15.859865Z",
     "iopub.status.idle": "2022-06-12T04:49:19.718083Z",
     "shell.execute_reply": "2022-06-12T04:49:19.717815Z"
    },
    "papermill": {
     "duration": 63.870755,
     "end_time": "2022-06-12T04:49:19.718189",
     "exception": false,
     "start_time": "2022-06-12T04:48:15.847434",
     "status": "completed"
    },
    "tags": []
   },
   "outputs": [
    {
     "data": {
      "image/png": "[encoded data removed]",
      "text/plain": [
       "<Figure size 432x288 with 1 Axes>"
      ]
     },
     "metadata": {
      "needs_background": "light"
     },
     "output_type": "display_data"
    },
    {
     "data": {
      "image/png": "[encoded data removed]",
      "text/plain": [
       "<Figure size 432x288 with 1 Axes>"
      ]
     },
     "metadata": {
      "needs_background": "light"
     },
     "output_type": "display_data"
    }
   ],
   "source": [
    "#Training the ABC_GAN \n",
    "ABC_train_test2.training_GAN(disc,gen,disc_opt,gen_opt,train_data,batch_size,n_epochs,criterion,prior_model,variance,bias,device)"
   ]
  },
  {
   "cell_type": "code",
   "execution_count": 13,
   "id": "1fa7c368",
   "metadata": {
    "execution": {
     "iopub.execute_input": "2022-06-12T04:49:19.742779Z",
     "iopub.status.busy": "2022-06-12T04:49:19.742378Z",
     "iopub.status.idle": "2022-06-12T04:49:20.050652Z",
     "shell.execute_reply": "2022-06-12T04:49:20.050963Z"
    },
    "papermill": {
     "duration": 0.321976,
     "end_time": "2022-06-12T04:49:20.051086",
     "exception": false,
     "start_time": "2022-06-12T04:49:19.729110",
     "status": "completed"
    },
    "tags": []
   },
   "outputs": [
    {
     "data": {
      "application/scrapbook.scrap.json+json": {
       "data": 0.36420230948607046,
       "encoder": "json",
       "name": "ABC-GAN Model 1 MSE",
       "version": 1
      }
     },
     "metadata": {
      "scrapbook": {
       "data": true,
       "display": false,
       "name": "ABC-GAN Model 1 MSE"
      }
     },
     "output_type": "display_data"
    },
    {
     "data": {
      "application/scrapbook.scrap.json+json": {
       "data": 0.3082160775239269,
       "encoder": "json",
       "name": "ABC-GAN Model 1 MAE",
       "version": 1
      }
     },
     "metadata": {
      "scrapbook": {
       "data": true,
       "display": false,
       "name": "ABC-GAN Model 1 MAE"
      }
     },
     "output_type": "display_data"
    },
    {
     "data": {
      "application/scrapbook.scrap.json+json": {
       "data": 31.438039907440544,
       "encoder": "json",
       "name": "ABC-GAN Model 1 Manhattan Distance",
       "version": 1
      }
     },
     "metadata": {
      "scrapbook": {
       "data": true,
       "display": false,
       "name": "ABC-GAN Model 1 Manhattan Distance"
      }
     },
     "output_type": "display_data"
    },
    {
     "data": {
      "application/scrapbook.scrap.json+json": {
       "data": 6.09486757295224,
       "encoder": "json",
       "name": "ABC-GAN Model 1 Euclidean distance",
       "version": 1
      }
     },
     "metadata": {
      "scrapbook": {
       "data": true,
       "display": false,
       "name": "ABC-GAN Model 1 Euclidean distance"
      }
     },
     "output_type": "display_data"
    },
    {
     "data": {
      "application/scrapbook.scrap.json+json": {
       "data": [
        [
         0.3617740398697595,
         0.3653457274421001,
         0.36405929597847714,
         0.36372910302801476,
         0.3708063587942297,
         0.3642417412464853,
         0.3661815777520125,
         0.36149965588293753,
         0.36396798964316096,
         0.3671493359367437,
         0.3662477090582297,
         0.36391981959718495,
         0.3582603071775982,
         0.3626315639236013,
         0.3620413850805844,
         0.3653067769118657,
         0.36551807912448625,
         0.36697391963778925,
         0.3600096529280565,
         0.3575660359618044,
         0.36488751988202733,
         0.35649122434756403,
         0.3720376862887471,
         0.3731650273246731,
         0.36404771785402995,
         0.36476102995862336,
         0.3652931246488764,
         0.36161027803859297,
         0.3589858667743807,
         0.36779736370653204,
         0.36362613114647874,
         0.3668003320825431,
         0.37180525888405497,
         0.3644554131295834,
         0.3657792692150673,
         0.36200976196899065,
         0.36094092735969197,
         0.3656631351217411,
         0.3572551508605497,
         0.36344517614767724,
         0.3657202076895868,
         0.3557705096038457,
         0.36447479547619877,
         0.3640094202258022,
         0.3540238901152754,
         0.362865226673528,
         0.3665818700934529,
         0.364741212335371,
         0.3636670500954711,
         0.36597525467959313,
         0.36486036005087524,
         0.36113109800800886,
         0.3656993257026242,
         0.3643559394781382,
         0.3697432862950001,
         0.36312695680533924,
         0.3686571074810471,
         0.3688774141088305,
         0.3659163907555816,
         0.3668490911641567,
         0.36625110930531163,
         0.36417069727852813,
         0.3638014671652144,
         0.35762573939126346,
         0.3597713179680398,
         0.3608836972472305,
         0.35997367038037104,
         0.35969077984576137,
         0.3665876436980176,
         0.35943726106520857,
         0.3607092477442298,
         0.35689199590636117,
         0.37212552609796695,
         0.36149124120013365,
         0.3638083230866734,
         0.35995076872698395,
         0.36266537987442077,
         0.35920150527767686,
         0.3622233965443633,
         0.372852913570789,
         0.36941844252770545,
         0.36113661214351467,
         0.3601200507834005,
         0.36488431851618913,
         0.3681432605060565,
         0.36727401246328567,
         0.3668228851843493,
         0.3595375138117415,
         0.37567102169304273,
         0.3606025513958868,
         0.35893616101414977,
         0.36655845304457857,
         0.36999237100843085,
         0.3590666018907209,
         0.368519664098722,
         0.3651912277722956,
         0.36528085566849,
         0.3734670527024393,
         0.36408889369517433,
         0.37027144075905105
        ],
        [
         0.30499456589128454,
         0.31015455368541034,
         0.30942013198692425,
         0.30313869551116346,
         0.30897952082986924,
         0.30907805095992835,
         0.3043775212238817,
         0.30301998906275807,
         0.3108064972740762,
         0.3109961915396008,
         0.3088810378868206,
         0.30956046736123516,
         0.30587657541036606,
         0.31086790758897276,
         0.3023620648857425,
         0.30912580494495,
         0.3109878767646995,
         0.3096074801595772,
         0.308491107039884,
         0.30652719071390583,
         0.31084569667776424,
         0.3021282062080561,
         0.3127201612965733,
         0.3149792378147443,
         0.30627356834855735,
         0.3107545013521232,
         0.3080267369308892,
         0.3052299517553811,
         0.306798586822754,
         0.30640202567127406,
         0.303887267542236,
         0.3142217433299212,
         0.31333649457961904,
         0.30728768170172094,
         0.31074593530273903,
         0.306590168572524,
         0.308651215597695,
         0.3087703004917678,
         0.30533792341456695,
         0.3130029713479327,
         0.30801593008286815,
         0.305647489961748,
         0.30680806160557506,
         0.30621828109610316,
         0.3056513195966973,
         0.30688622181175973,
         0.30590395753582317,
         0.30739580149597984,
         0.31043407299062786,
         0.30797892889263584,
         0.31021449641854154,
         0.30775560657767687,
         0.30857955773963647,
         0.3106492157368099,
         0.31292783374003336,
         0.3035459275193074,
         0.310621089831579,
         0.30961937062880573,
         0.3068742047191835,
         0.3110780034433393,
         0.3111924353402619,
         0.3091937145035641,
         0.3059293563824658,
         0.3043813664539188,
         0.3054162225886887,
         0.30337168214221794,
         0.30736085012847303,
         0.30551709585330067,
         0.30988225607457115,
         0.3066475899780498,
         0.30733659578596845,
         0.30517225968194944,
         0.3076673718351944,
         0.30451003907650126,
         0.30918386812303583,
         0.30642669414188345,
         0.3065633550286293,
         0.30482542485583064,
         0.3103590164990986,
         0.30811511381876233,
         0.31102129933880823,
         0.30931104040321183,
         0.3083302797932251,
         0.31091904939681875,
         0.310769061831867,
         0.3090657693352185,
         0.3103798199810234,
         0.30693936238394065,
         0.31034716364799764,
         0.30884699465013016,
         0.3043677481073959,
         0.3103851255979024,
         0.30962378261428253,
         0.30676085136684716,
         0.30998698395549085,
         0.3086876793965405,
         0.3122582756275055,
         0.307763045105864,
         0.3112103187424295,
         0.3095328159192029
        ],
        [
         31.109445720911026,
         31.635764475911856,
         31.560853462666273,
         30.920146942138672,
         31.515911124646664,
         31.525961197912693,
         31.04650716483593,
         30.90803888440132,
         31.702262721955776,
         31.72161153703928,
         31.5058658644557,
         31.575167670845985,
         31.199410691857338,
         31.708526574075222,
         30.840930618345737,
         31.5308321043849,
         31.72076342999935,
         31.579962976276875,
         31.46609291806817,
         31.265773452818394,
         31.706261061131954,
         30.81707703322172,
         31.89745645225048,
         32.12788225710392,
         31.23990397155285,
         31.696959137916565,
         31.418727166950703,
         31.133455079048872,
         31.29345585592091,
         31.253006618469954,
         30.99650128930807,
         32.05061781965196,
         31.960322447121143,
         31.343343533575535,
         31.696085400879383,
         31.27219719439745,
         31.48242399096489,
         31.494570650160313,
         31.144468188285828,
         31.926303077489138,
         31.41762486845255,
         31.1760439760983,
         31.294422283768654,
         31.23426467180252,
         31.176434598863125,
         31.30239462479949,
         31.202203668653965,
         31.35437175258994,
         31.66427544504404,
         31.413850747048855,
         31.64187863469124,
         31.391071870923042,
         31.47511488944292,
         31.68622000515461,
         31.918639041483402,
         30.961684606969357,
         31.683351162821054,
         31.581175804138184,
         31.301168881356716,
         31.729956351220608,
         31.741628404706717,
         31.537758879363537,
         31.204794351011515,
         31.046899378299713,
         31.15245470404625,
         30.94391157850623,
         31.350806713104248,
         31.162743777036667,
         31.607990119606256,
         31.278054177761078,
         31.34833277016878,
         31.12757048755884,
         31.382071927189827,
         31.060023985803127,
         31.536754548549652,
         31.255522802472115,
         31.26946221292019,
         31.092193335294724,
         31.656619682908058,
         31.42774160951376,
         31.72417253255844,
         31.549726121127605,
         31.44968853890896,
         31.713743038475513,
         31.698444306850433,
         31.524708472192287,
         31.658741638064384,
         31.307814963161945,
         31.655410692095757,
         31.502393454313278,
         31.045510306954384,
         31.659282810986042,
         31.58162582665682,
         31.28960683941841,
         31.618672363460064,
         31.486143298447132,
         31.850344114005566,
         31.39183060079813,
         31.74345251172781,
         31.572347223758698
        ],
        [
         6.074615384262238,
         6.104528171701247,
         6.09377126169047,
         6.091007183451476,
         6.149979560698671,
         6.09529799166058,
         6.111507255228062,
         6.072311330956244,
         6.0930070526466995,
         6.11957778490868,
         6.112059090350765,
         6.092603843917054,
         6.045043534344066,
         6.0818105462277705,
         6.07685949140011,
         6.104202752613175,
         6.1059679061306555,
         6.118115706903107,
         6.059784203968137,
         6.03918336102689,
         6.100698896681164,
         6.030099906589568,
         6.160182140282233,
         6.169508309996562,
         6.093674361262754,
         6.099641387473492,
         6.104088688263417,
         6.073240350911239,
         6.051161740607077,
         6.124976007958419,
         6.090144938910798,
         6.116668527263789,
         6.158257578745273,
         6.097085544685875,
         6.108149102628131,
         6.076594088865656,
         6.0676168790299005,
         6.1071793638649225,
         6.0365574119506284,
         6.088629399714114,
         6.107655948425536,
         6.02400132632723,
         6.0972476691186035,
         6.093353827165447,
         6.009196018749768,
         6.083769647241735,
         6.114846747836952,
         6.099475687156054,
         6.090487592117569,
         6.109785264419568,
         6.100471844471477,
         6.069215105498968,
         6.107481577677305,
         6.096253425405646,
         6.141157480645647,
         6.085963325073902,
         6.132130540282618,
         6.133962523450945,
         6.10929389185602,
         6.117075060741364,
         6.1120874624911705,
         6.094703530313009,
         6.091613058201566,
         6.039687526512351,
         6.057778011180341,
         6.067135825018055,
         6.059481362195765,
         6.057099928535738,
         6.114894901565992,
         6.054964956847501,
         6.065669235122487,
         6.033488508520489,
         6.160909321033105,
         6.072240657484976,
         6.091670456848487,
         6.059288605946439,
         6.082094108708853,
         6.052978897891767,
         6.078386829375456,
         6.166927694096993,
         6.138459182712379,
         6.0692614409529675,
         6.060713256697338,
         6.100672134171061,
         6.127855462689843,
         6.1206167394516005,
         6.116856569252184,
         6.055809310802117,
         6.190189351925379,
         6.0647720684606465,
         6.050742799313423,
         6.114651438189017,
         6.1432256871174715,
         6.051842148705923,
         6.130987337947259,
         6.103237274821791,
         6.103986179390151,
         6.172004486036024,
         6.094018965913034,
         6.145542039350411
        ]
       ],
       "encoder": "json",
       "name": "ABC_GAN_1 Metrics",
       "version": 1
      }
     },
     "metadata": {
      "scrapbook": {
       "data": true,
       "display": false,
       "name": "ABC_GAN_1 Metrics"
      }
     },
     "output_type": "display_data"
    },
    {
     "name": "stdout",
     "output_type": "stream",
     "text": [
      "MSE\n",
      "0.36420230948607046\n"
     ]
    }
   ],
   "source": [
    "ABC_GAN1_metrics=ABC_train_test2.test_generator(gen,test_data,prior_model,variance,bias,\"1\",device)\n",
    "sb.glue(\"ABC_GAN_1 Metrics\",ABC_GAN1_metrics)\n",
    "\n",
    "print(\"MSE\")\n",
    "print(mean(ABC_GAN1_metrics[0]))"
   ]
  },
  {
   "cell_type": "code",
   "execution_count": 14,
   "id": "eb22ce5c",
   "metadata": {
    "execution": {
     "iopub.execute_input": "2022-06-12T04:49:20.079229Z",
     "iopub.status.busy": "2022-06-12T04:49:20.078854Z",
     "iopub.status.idle": "2022-06-12T04:49:20.406424Z",
     "shell.execute_reply": "2022-06-12T04:49:20.406676Z"
    },
    "papermill": {
     "duration": 0.342678,
     "end_time": "2022-06-12T04:49:20.406798",
     "exception": false,
     "start_time": "2022-06-12T04:49:20.064120",
     "status": "completed"
    },
    "tags": []
   },
   "outputs": [
    {
     "data": {
      "image/png": "[encoded data removed]",
      "text/plain": [
       "<Figure size 432x288 with 1 Axes>"
      ]
     },
     "metadata": {
      "needs_background": "light"
     },
     "output_type": "display_data"
    },
    {
     "data": {
      "image/png": "[encoded data removed]",
      "text/plain": [
       "<Figure size 432x288 with 1 Axes>"
      ]
     },
     "metadata": {
      "needs_background": "light"
     },
     "output_type": "display_data"
    },
    {
     "data": {
      "image/png": "[encoded data removed]",
      "text/plain": [
       "<Figure size 432x288 with 1 Axes>"
      ]
     },
     "metadata": {
      "needs_background": "light"
     },
     "output_type": "display_data"
    },
    {
     "data": {
      "image/png": "[encoded data removed]",
      "text/plain": [
       "<Figure size 432x288 with 1 Axes>"
      ]
     },
     "metadata": {
      "needs_background": "light"
     },
     "output_type": "display_data"
    }
   ],
   "source": [
    "sanityChecks.discProbVsError(train_data,disc,device)\n",
    "sanityChecks.discProbVsError(test_data,disc,device)"
   ]
  },
  {
   "cell_type": "markdown",
   "id": "130f3a4d",
   "metadata": {
    "id": "130f3a4d",
    "papermill": {
     "duration": 0.015064,
     "end_time": "2022-06-12T04:49:20.436913",
     "exception": false,
     "start_time": "2022-06-12T04:49:20.421849",
     "status": "completed"
    },
    "tags": []
   },
   "source": [
    "# ABC - GAN Model with skip connection"
   ]
  },
  {
   "cell_type": "code",
   "execution_count": 15,
   "id": "4e43dad1",
   "metadata": {
    "execution": {
     "iopub.execute_input": "2022-06-12T04:49:20.473908Z",
     "iopub.status.busy": "2022-06-12T04:49:20.473416Z",
     "iopub.status.idle": "2022-06-12T04:49:20.475712Z",
     "shell.execute_reply": "2022-06-12T04:49:20.475961Z"
    },
    "id": "4e43dad1",
    "papermill": {
     "duration": 0.022812,
     "end_time": "2022-06-12T04:49:20.476083",
     "exception": false,
     "start_time": "2022-06-12T04:49:20.453271",
     "status": "completed"
    },
    "tags": []
   },
   "outputs": [],
   "source": [
    "#Generator\n",
    "gen3 = network.GeneratorWithSkipConnection(n_features+1).to(device)\n",
    "constraints=network.weightConstraint()\n",
    "#Discriminator \n",
    "disc3 = network.Discriminator(n_features+1).to(device)\n",
    "\n",
    "criterion = torch.nn.BCELoss()\n",
    "gen_opt = torch.optim.Adam(gen3.parameters(), lr=0.001, betas=(0.5, 0.999))\n",
    "disc_opt = torch.optim.Adam(disc3.parameters(), lr=0.001, betas=(0.5, 0.999))\n"
   ]
  },
  {
   "cell_type": "code",
   "execution_count": 16,
   "id": "26acbc37",
   "metadata": {
    "execution": {
     "iopub.execute_input": "2022-06-12T04:49:20.509636Z",
     "iopub.status.busy": "2022-06-12T04:49:20.509251Z",
     "iopub.status.idle": "2022-06-12T04:52:18.648841Z",
     "shell.execute_reply": "2022-06-12T04:52:18.649166Z"
    },
    "id": "26acbc37",
    "papermill": {
     "duration": 178.157827,
     "end_time": "2022-06-12T04:52:18.649322",
     "exception": false,
     "start_time": "2022-06-12T04:49:20.491495",
     "status": "completed"
    },
    "tags": []
   },
   "outputs": [
    {
     "data": {
      "image/png": "[encoded data removed]",
      "text/plain": [
       "<Figure size 432x288 with 1 Axes>"
      ]
     },
     "metadata": {
      "needs_background": "light"
     },
     "output_type": "display_data"
    },
    {
     "data": {
      "image/png": "[encoded data removed]",
      "text/plain": [
       "<Figure size 432x288 with 1 Axes>"
      ]
     },
     "metadata": {
      "needs_background": "light"
     },
     "output_type": "display_data"
    }
   ],
   "source": [
    "ABC_train_test2.training_GAN_skip_connection(disc3,gen3,disc_opt,gen_opt,train_data,batch_size,n_epochs,criterion,prior_model,variance,bias,device)"
   ]
  },
  {
   "cell_type": "code",
   "execution_count": 17,
   "id": "c5e0717b",
   "metadata": {
    "execution": {
     "iopub.execute_input": "2022-06-12T04:52:18.684142Z",
     "iopub.status.busy": "2022-06-12T04:52:18.683766Z",
     "iopub.status.idle": "2022-06-12T04:52:19.502016Z",
     "shell.execute_reply": "2022-06-12T04:52:19.502312Z"
    },
    "id": "c5e0717b",
    "papermill": {
     "duration": 0.837071,
     "end_time": "2022-06-12T04:52:19.502435",
     "exception": false,
     "start_time": "2022-06-12T04:52:18.665364",
     "status": "completed"
    },
    "tags": []
   },
   "outputs": [
    {
     "data": {
      "application/scrapbook.scrap.json+json": {
       "data": 0.20821121461122888,
       "encoder": "json",
       "name": "ABC-GAN Model 3 MSE",
       "version": 1
      }
     },
     "metadata": {
      "scrapbook": {
       "data": true,
       "display": false,
       "name": "ABC-GAN Model 3 MSE"
      }
     },
     "output_type": "display_data"
    },
    {
     "data": {
      "application/scrapbook.scrap.json+json": {
       "data": 0.2741970718055781,
       "encoder": "json",
       "name": "ABC-GAN Model 3 MAE",
       "version": 1
      }
     },
     "metadata": {
      "scrapbook": {
       "data": true,
       "display": false,
       "name": "ABC-GAN Model 3 MAE"
      }
     },
     "output_type": "display_data"
    },
    {
     "data": {
      "application/scrapbook.scrap.json+json": {
       "data": 27.968101324168966,
       "encoder": "json",
       "name": "ABC-GAN Model 3 Manhattan Distance",
       "version": 1
      }
     },
     "metadata": {
      "scrapbook": {
       "data": true,
       "display": false,
       "name": "ABC-GAN Model 3 Manhattan Distance"
      }
     },
     "output_type": "display_data"
    },
    {
     "data": {
      "application/scrapbook.scrap.json+json": {
       "data": 4.608413407786895,
       "encoder": "json",
       "name": "ABC-GAN Model 3 Euclidean distance",
       "version": 1
      }
     },
     "metadata": {
      "scrapbook": {
       "data": true,
       "display": false,
       "name": "ABC-GAN Model 3 Euclidean distance"
      }
     },
     "output_type": "display_data"
    },
    {
     "data": {
      "application/scrapbook.scrap.json+json": {
       "data": [
        [
         0.20878326007840053,
         0.2080390623734882,
         0.20746710345631925,
         0.20893874496286685,
         0.2073942523752472,
         0.20875080788583006,
         0.2081631202871244,
         0.20822352342262054,
         0.20832535395468768,
         0.2082589650152955,
         0.20928771310929964,
         0.20869009792456628,
         0.20827564763674997,
         0.20845838309675938,
         0.20790056517335959,
         0.20805394670413221,
         0.20845911167037592,
         0.2086419886953884,
         0.2071254448073353,
         0.20834889881099605,
         0.2080312458394595,
         0.2076999019378979,
         0.20945016777400519,
         0.2083989851775675,
         0.20671709556214313,
         0.20836958130348568,
         0.20848394735676037,
         0.20866833892058453,
         0.2087637805461394,
         0.20747275867327516,
         0.20785196371812606,
         0.20896656881875122,
         0.2079623410555453,
         0.20865690977315215,
         0.2077846986283577,
         0.20969422291794113,
         0.2073564110567187,
         0.20952067648710027,
         0.2098419998367306,
         0.20721425023997467,
         0.20780595365503216,
         0.20732890340091384,
         0.20777609755575532,
         0.20768561733209503,
         0.20826925481185485,
         0.2073095154025875,
         0.20853729495133222,
         0.20878929247418163,
         0.20728643723906462,
         0.20928113602610432,
         0.20683719096536315,
         0.20871601291652495,
         0.2083499875074388,
         0.20729421110032956,
         0.20744535702567848,
         0.20865512383473894,
         0.2095682538023613,
         0.20807709232110796,
         0.20709665855372128,
         0.2089958422715455,
         0.20760097808360548,
         0.20682185934697292,
         0.20906027813450095,
         0.2073398690874564,
         0.20850258213576642,
         0.2097485454458441,
         0.20773033997272872,
         0.20756865283704096,
         0.20955922601173152,
         0.20733473091124138,
         0.20841689508808003,
         0.20724529471042624,
         0.20648032814705927,
         0.20914467194262276,
         0.20786359220790085,
         0.20841285879246838,
         0.20758438333232873,
         0.20832754476772156,
         0.2084057857742134,
         0.2080226342214197,
         0.2086749698695616,
         0.20868922272436174,
         0.20838589526406348,
         0.20815266800434842,
         0.20866477880328166,
         0.20766976548365867,
         0.20751757948202532,
         0.2089626855402522,
         0.20748573778755616,
         0.2086052118590996,
         0.20911469909712435,
         0.20683428034295198,
         0.2079049581750905,
         0.20933403254464786,
         0.2078429270849469,
         0.2087097685277864,
         0.20801778068849736,
         0.20780589750452588,
         0.2097474812149346,
         0.20823299996075334
        ],
        [
         0.2770426336895017,
         0.2747351355878088,
         0.2732911887852585,
         0.2734885050951704,
         0.27339863840161877,
         0.27480722135663327,
         0.2752903016722378,
         0.2739074833453724,
         0.27486018455751676,
         0.2738935400585772,
         0.27466578027416094,
         0.27612060570505026,
         0.27410869840897767,
         0.27334781053165597,
         0.2742654170621844,
         0.2733666410888819,
         0.27518696990777175,
         0.27407697057716696,
         0.27225585133932967,
         0.27432933691706435,
         0.27375031622382356,
         0.2742146586761901,
         0.27693651710618655,
         0.276337662346515,
         0.27247726471692907,
         0.2742232999526987,
         0.2745284312861223,
         0.27505949145986464,
         0.27491514700665776,
         0.2731284467028637,
         0.2750847966355436,
         0.2768473187187577,
         0.274695123344952,
         0.2758340675602941,
         0.27407033574383927,
         0.27591139123793323,
         0.2738613810061532,
         0.27457607241676135,
         0.2746406403625859,
         0.2730664112422542,
         0.27283575163935037,
         0.2729895041488549,
         0.2737516689698632,
         0.2737583832121363,
         0.2749853916466236,
         0.27293410770339416,
         0.27454711157171163,
         0.27481634168903907,
         0.27260296439350234,
         0.27544017368014534,
         0.27307080181644244,
         0.2734920457918562,
         0.2748627845270961,
         0.27331928910651043,
         0.2742957559313771,
         0.2748365242435944,
         0.27516004614824174,
         0.2736951649627265,
         0.27224159639730466,
         0.27485643888768907,
         0.2736643715122459,
         0.27413833961255996,
         0.2756529755196443,
         0.2731906572977702,
         0.2732548748106495,
         0.2752354362176037,
         0.2722042104338898,
         0.27362256203138946,
         0.27612504699979634,
         0.2733074264765224,
         0.2733176748140478,
         0.27260370755239444,
         0.2726610249602327,
         0.276261099212456,
         0.2739207674931808,
         0.2738184875388648,
         0.272960076318579,
         0.27422788345674964,
         0.275015210276287,
         0.2741765437245953,
         0.2731319465035317,
         0.27370495446866344,
         0.2755903211038779,
         0.2745504533762441,
         0.2746556023519267,
         0.2736191421053281,
         0.273718723862925,
         0.27508375398339885,
         0.27124382089823484,
         0.2749116342222574,
         0.2760243927146874,
         0.27216076545928625,
         0.27402884542357686,
         0.2764398826961862,
         0.27376406224371463,
         0.2741649548121381,
         0.27277432293539833,
         0.27284767414790156,
         0.27439447395576566,
         0.27444954245698217
        ],
        [
         28.258348636329174,
         28.0229838299565,
         27.875701256096363,
         27.89582751970738,
         27.886661116965115,
         28.03033657837659,
         28.07961077056825,
         27.938563301227987,
         28.035738824866712,
         27.937141085974872,
         28.015909587964416,
         28.16430178191513,
         27.95908723771572,
         27.881476674228907,
         27.975072540342808,
         27.883397391065955,
         28.069070930592716,
         27.95585099887103,
         27.77009683661163,
         27.981592365540564,
         27.922532254830003,
         27.969895184971392,
         28.247524744831026,
         28.18644155934453,
         27.792681001126766,
         27.970776595175266,
         28.001899991184473,
         28.05606812890619,
         28.041344994679093,
         27.859101563692093,
         28.058649256825447,
         28.238426509313285,
         28.018902581185102,
         28.135074891149998,
         27.955174245871603,
         28.142961906269193,
         27.933860862627625,
         28.006759386509657,
         28.01334531698376,
         27.85277394670993,
         27.829246667213738,
         27.844929423183203,
         27.922670234926045,
         27.9233550876379,
         28.04850994795561,
         27.839278985746205,
         28.00380538031459,
         28.031266852281988,
         27.80550236813724,
         28.094897715374827,
         27.853221785277128,
         27.896188670769334,
         28.0360040217638,
         27.878567488864064,
         27.978167105000466,
         28.033325472846627,
         28.066324707120657,
         27.9169068261981,
         27.768642832525074,
         28.035356766544282,
         27.91376589424908,
         27.962110640481114,
         28.116603503003716,
         27.86544704437256,
         27.871997230686247,
         28.07401449419558,
         27.764829464256763,
         27.909501327201724,
         28.164754793979228,
         27.877357500605285,
         27.878402831032872,
         27.805578170344234,
         27.811424545943737,
         28.17863211967051,
         27.93991828430444,
         27.92948572896421,
         27.841927784495056,
         27.971244112588465,
         28.05155144818127,
         27.966007459908724,
         27.859458543360233,
         27.91790535580367,
         28.110212752595544,
         28.004146244376898,
         28.014871439896524,
         27.909152494743466,
         27.91930983401835,
         28.058542906306684,
         27.666869731619954,
         28.040986690670252,
         28.154488056898117,
         27.760398076847196,
         27.95094223320484,
         28.196868035010993,
         27.923934348858893,
         27.964825390838087,
         27.822980939410627,
         27.83046276308596,
         27.988236343488097,
         27.993853330612183
        ],
        [
         4.614747287555068,
         4.606515425144671,
         4.600178752238283,
         4.61646531300869,
         4.599371015940681,
         4.614388627364915,
         4.607888699750319,
         4.60855719169322,
         4.6096839483177305,
         4.608949384790436,
         4.620318899940627,
         4.613717588702819,
         4.609133981449063,
         4.611155503327713,
         4.604981829245657,
         4.6066802107180695,
         4.6111635614428526,
         4.613185758987992,
         4.596389384108814,
         4.609944433365938,
         4.606428885332419,
         4.602758954981847,
         4.6221117590283916,
         4.6104985075490355,
         4.591856242015706,
         4.610173238931,
         4.611438238813306,
         4.613477058564356,
         4.6145320039746425,
         4.600241448519204,
         4.6044435385015685,
         4.616772684409817,
         4.605665943993944,
         4.613350712536553,
         4.603698432792106,
         4.624803859368524,
         4.598951394370819,
         4.622889680890539,
         4.626433181549965,
         4.597374633905466,
         4.603933891012476,
         4.598646338531939,
         4.603603148696361,
         4.602600674387656,
         4.609063244392422,
         4.598431316336466,
         4.6120281964701695,
         4.614813954252817,
         4.59817535533222,
         4.6202463002163245,
         4.593189902286541,
         4.614004043939011,
         4.609956477642578,
         4.598261577186928,
         4.5999376535578405,
         4.613330969174375,
         4.62341452693146,
         4.606936445920761,
         4.5960699703637635,
         4.617096047484571,
         4.60166271738029,
         4.593019666122848,
         4.61780774499319,
         4.59876794880113,
         4.61164432473366,
         4.625402861965225,
         4.6030962055141025,
         4.601304444326432,
         4.623314942029865,
         4.598710966449906,
         4.610696617538847,
         4.59771900625337,
         4.589225803008613,
         4.618739713184488,
         4.604572336841488,
         4.610651970907345,
         4.601478794898173,
         4.609708186675986,
         4.61057373316703,
         4.6063335409612725,
         4.613550360264346,
         4.613707914236107,
         4.6103537084408694,
         4.607773012686664,
         4.613437702834485,
         4.602425021587336,
         4.60073832196166,
         4.616729786884406,
         4.600385337591921,
         4.612779163327478,
         4.618408741970191,
         4.593157584383656,
         4.605030481317058,
         4.620830154804879,
         4.60434344534208,
         4.613935022281329,
         4.606279803727377,
         4.6039332690061485,
         4.625391127669457,
         4.608662061379294
        ]
       ],
       "encoder": "json",
       "name": "ABC_GAN_3 Metrics",
       "version": 1
      }
     },
     "metadata": {
      "scrapbook": {
       "data": true,
       "display": false,
       "name": "ABC_GAN_3 Metrics"
      }
     },
     "output_type": "display_data"
    },
    {
     "name": "stdout",
     "output_type": "stream",
     "text": [
      "MSE\n",
      "0.20821121461122888\n"
     ]
    }
   ],
   "source": [
    "ABC_GAN3_metrics=ABC_train_test2.test_generator(gen3,test_data,prior_model,variance,bias,\"3\",device)\n",
    "sb.glue(\"ABC_GAN_3 Metrics\",ABC_GAN3_metrics)\n",
    "\n",
    "print(\"MSE\")\n",
    "print(mean(ABC_GAN3_metrics[0]))"
   ]
  },
  {
   "cell_type": "code",
   "execution_count": 18,
   "id": "c8e46b48",
   "metadata": {
    "execution": {
     "iopub.execute_input": "2022-06-12T04:52:19.539783Z",
     "iopub.status.busy": "2022-06-12T04:52:19.539410Z",
     "iopub.status.idle": "2022-06-12T04:52:19.859620Z",
     "shell.execute_reply": "2022-06-12T04:52:19.860016Z"
    },
    "id": "c8e46b48",
    "papermill": {
     "duration": 0.339962,
     "end_time": "2022-06-12T04:52:19.860141",
     "exception": false,
     "start_time": "2022-06-12T04:52:19.520179",
     "status": "completed"
    },
    "tags": []
   },
   "outputs": [
    {
     "data": {
      "image/png": "[encoded data removed]",
      "text/plain": [
       "<Figure size 432x288 with 1 Axes>"
      ]
     },
     "metadata": {
      "needs_background": "light"
     },
     "output_type": "display_data"
    },
    {
     "data": {
      "image/png": "[encoded data removed]",
      "text/plain": [
       "<Figure size 432x288 with 1 Axes>"
      ]
     },
     "metadata": {
      "needs_background": "light"
     },
     "output_type": "display_data"
    },
    {
     "data": {
      "image/png": "[encoded data removed]",
      "text/plain": [
       "<Figure size 432x288 with 1 Axes>"
      ]
     },
     "metadata": {
      "needs_background": "light"
     },
     "output_type": "display_data"
    },
    {
     "data": {
      "image/png": "[encoded data removed]",
      "text/plain": [
       "<Figure size 432x288 with 1 Axes>"
      ]
     },
     "metadata": {
      "needs_background": "light"
     },
     "output_type": "display_data"
    }
   ],
   "source": [
    "sanityChecks.discProbVsError(train_data,disc3,device)\n",
    "sanityChecks.discProbVsError(test_data,disc3,device)"
   ]
  },
  {
   "cell_type": "markdown",
   "id": "a5bd74c3",
   "metadata": {
    "id": "a5bd74c3",
    "papermill": {
     "duration": 0.019377,
     "end_time": "2022-06-12T04:52:19.899692",
     "exception": false,
     "start_time": "2022-06-12T04:52:19.880315",
     "status": "completed"
    },
    "tags": []
   },
   "source": [
    "## Skip Connection Model Analysis - ABC-GAN "
   ]
  },
  {
   "cell_type": "markdown",
   "id": "5744a8bf",
   "metadata": {
    "id": "5744a8bf",
    "papermill": {
     "duration": 0.019173,
     "end_time": "2022-06-12T04:52:19.938125",
     "exception": false,
     "start_time": "2022-06-12T04:52:19.918952",
     "status": "completed"
    },
    "tags": []
   },
   "source": [
    "### Weight Analysis \n",
    "\n",
    "Study the weights of the skip connection layer\n",
    "\n",
    "Equation of the skip connection is \n",
    "\n",
    "$output = y_{gan} * w + y_{abc} * (1-w)$"
   ]
  },
  {
   "cell_type": "code",
   "execution_count": 19,
   "id": "52c31dea",
   "metadata": {
    "execution": {
     "iopub.execute_input": "2022-06-12T04:52:19.979507Z",
     "iopub.status.busy": "2022-06-12T04:52:19.979133Z",
     "iopub.status.idle": "2022-06-12T04:52:19.982646Z",
     "shell.execute_reply": "2022-06-12T04:52:19.982887Z"
    },
    "id": "52c31dea",
    "papermill": {
     "duration": 0.025705,
     "end_time": "2022-06-12T04:52:19.983000",
     "exception": false,
     "start_time": "2022-06-12T04:52:19.957295",
     "status": "completed"
    },
    "tags": []
   },
   "outputs": [
    {
     "name": "stdout",
     "output_type": "stream",
     "text": [
      "Weight of the node at skip connection\n",
      "Parameter containing:\n",
      "tensor([[0.9874]], requires_grad=True)\n"
     ]
    },
    {
     "data": {
      "application/scrapbook.scrap.json+json": {
       "data": 0.9873560070991516,
       "encoder": "json",
       "name": "Skip Connection Weight",
       "version": 1
      }
     },
     "metadata": {
      "scrapbook": {
       "data": true,
       "display": false,
       "name": "Skip Connection Weight"
      }
     },
     "output_type": "display_data"
    }
   ],
   "source": [
    "print(\"Weight of the node at skip connection\")\n",
    "for name,param in gen3.named_parameters():\n",
    "    if(name == \"skipNode.weight\"):\n",
    "        print(param)\n",
    "        sb.glue(\"Skip Connection Weight\",param.item())"
   ]
  }
 ],
 "metadata": {
  "colab": {
   "collapsed_sections": [],
   "name": "ABC_GAN_Model-Catboost_Pre-gen.ipynb",
   "provenance": []
  },
  "interpreter": {
   "hash": "31f2aee4e71d21fbe5cf8b01ff0e069b9275f58929596ceb00d14d90e3e16cd6"
  },
  "kernelspec": {
   "display_name": "Python 3 (ipykernel)",
   "language": "python",
   "name": "python3"
  },
  "language_info": {
   "codemirror_mode": {
    "name": "ipython",
    "version": 3
   },
   "file_extension": ".py",
   "mimetype": "text/x-python",
   "name": "python",
   "nbconvert_exporter": "python",
   "pygments_lexer": "ipython3",
   "version": "3.8.11"
  },
  "papermill": {
   "default_parameters": {},
   "duration": 248.805135,
   "end_time": "2022-06-12T04:52:20.309532",
   "environment_variables": {},
   "exception": null,
   "input_path": "ABC_GAN-Catboost.ipynb",
   "output_path": "./ABC_GAN_Catboost/ABC-GAN_output_5_0.ipynb",
   "parameters": {
    "bias": 1,
    "variance": 1
   },
   "start_time": "2022-06-12T04:48:11.504397",
   "version": "2.3.3"
  }
 },
 "nbformat": 4,
 "nbformat_minor": 5
}