{
 "cells": [
  {
   "cell_type": "markdown",
   "id": "622780e6",
   "metadata": {
    "id": "622780e6",
    "papermill": {
     "duration": 0.025004,
     "end_time": "2022-06-11T18:08:23.243252",
     "exception": false,
     "start_time": "2022-06-11T18:08:23.218248",
     "status": "completed"
    },
    "tags": []
   },
   "source": [
    "## Import Libraries "
   ]
  },
  {
   "cell_type": "code",
   "execution_count": 1,
   "id": "a62397e3",
   "metadata": {
    "execution": {
     "iopub.execute_input": "2022-06-11T18:08:23.278852Z",
     "iopub.status.busy": "2022-06-11T18:08:23.278234Z",
     "iopub.status.idle": "2022-06-11T18:08:23.280644Z",
     "shell.execute_reply": "2022-06-11T18:08:23.280975Z"
    },
    "id": "a62397e3",
    "papermill": {
     "duration": 0.022695,
     "end_time": "2022-06-11T18:08:23.281195",
     "exception": false,
     "start_time": "2022-06-11T18:08:23.258500",
     "status": "completed"
    },
    "tags": []
   },
   "outputs": [],
   "source": [
    "import warnings\n",
    "import sys\n",
    "sys.path.insert(0, '../../src')\n",
    "warnings.filterwarnings('ignore')"
   ]
  },
  {
   "cell_type": "code",
   "execution_count": 2,
   "id": "d6a4e155",
   "metadata": {
    "execution": {
     "iopub.execute_input": "2022-06-11T18:08:23.302254Z",
     "iopub.status.busy": "2022-06-11T18:08:23.301854Z",
     "iopub.status.idle": "2022-06-11T18:08:25.067996Z",
     "shell.execute_reply": "2022-06-11T18:08:25.068257Z"
    },
    "id": "d6a4e155",
    "papermill": {
     "duration": 1.777444,
     "end_time": "2022-06-11T18:08:25.068380",
     "exception": false,
     "start_time": "2022-06-11T18:08:23.290936",
     "status": "completed"
    },
    "tags": []
   },
   "outputs": [],
   "source": [
    "import ABC_train_test2\n",
    "import bostonDataset\n",
    "import network\n",
    "import dataset\n",
    "import sanityChecks\n",
    "import torch \n",
    "import scrapbook as sb\n",
    "from statistics import mean \n",
    "import catboost as ctb \n",
    "from sklearn.model_selection import train_test_split\n",
    "from sklearn.metrics import mean_squared_error,mean_absolute_error\n",
    "import numpy as np"
   ]
  },
  {
   "cell_type": "markdown",
   "id": "2fa5b0f7",
   "metadata": {
    "id": "2fa5b0f7",
    "papermill": {
     "duration": 0.007214,
     "end_time": "2022-06-11T18:08:25.082760",
     "exception": false,
     "start_time": "2022-06-11T18:08:25.075546",
     "status": "completed"
    },
    "tags": []
   },
   "source": [
    "## Parameters "
   ]
  },
  {
   "cell_type": "code",
   "execution_count": 3,
   "id": "783186fb",
   "metadata": {
    "execution": {
     "iopub.execute_input": "2022-06-11T18:08:25.098719Z",
     "iopub.status.busy": "2022-06-11T18:08:25.098340Z",
     "iopub.status.idle": "2022-06-11T18:08:25.099671Z",
     "shell.execute_reply": "2022-06-11T18:08:25.099940Z"
    },
    "id": "783186fb",
    "papermill": {
     "duration": 0.010493,
     "end_time": "2022-06-11T18:08:25.100059",
     "exception": false,
     "start_time": "2022-06-11T18:08:25.089566",
     "status": "completed"
    },
    "tags": [
     "parameters"
    ]
   },
   "outputs": [],
   "source": [
    "variance = 1\n",
    "bias = 1 "
   ]
  },
  {
   "cell_type": "code",
   "execution_count": 4,
   "id": "e9bf83b4",
   "metadata": {
    "execution": {
     "iopub.execute_input": "2022-06-11T18:08:25.116036Z",
     "iopub.status.busy": "2022-06-11T18:08:25.115677Z",
     "iopub.status.idle": "2022-06-11T18:08:25.116919Z",
     "shell.execute_reply": "2022-06-11T18:08:25.117151Z"
    },
    "papermill": {
     "duration": 0.010067,
     "end_time": "2022-06-11T18:08:25.117260",
     "exception": false,
     "start_time": "2022-06-11T18:08:25.107193",
     "status": "completed"
    },
    "tags": [
     "injected-parameters"
    ]
   },
   "outputs": [],
   "source": [
    "# Parameters\n",
    "variance = 0.1\n",
    "bias = 0.1\n"
   ]
  },
  {
   "cell_type": "markdown",
   "id": "391cdbfd",
   "metadata": {
    "id": "391cdbfd",
    "papermill": {
     "duration": 0.006817,
     "end_time": "2022-06-11T18:08:25.131023",
     "exception": false,
     "start_time": "2022-06-11T18:08:25.124206",
     "status": "completed"
    },
    "tags": []
   },
   "source": [
    "## Dataset \n"
   ]
  },
  {
   "cell_type": "code",
   "execution_count": 5,
   "id": "5b51f161",
   "metadata": {
    "execution": {
     "iopub.execute_input": "2022-06-11T18:08:25.146650Z",
     "iopub.status.busy": "2022-06-11T18:08:25.146290Z",
     "iopub.status.idle": "2022-06-11T18:08:25.147419Z",
     "shell.execute_reply": "2022-06-11T18:08:25.147718Z"
    },
    "id": "5b51f161",
    "papermill": {
     "duration": 0.009957,
     "end_time": "2022-06-11T18:08:25.147822",
     "exception": false,
     "start_time": "2022-06-11T18:08:25.137865",
     "status": "completed"
    },
    "tags": []
   },
   "outputs": [],
   "source": [
    "#Parameters \n",
    "n_features = 13\n",
    "n_samples= 506\n",
    "n_target = 1 "
   ]
  },
  {
   "cell_type": "code",
   "execution_count": 6,
   "id": "5d6eced4",
   "metadata": {
    "execution": {
     "iopub.execute_input": "2022-06-11T18:08:25.163546Z",
     "iopub.status.busy": "2022-06-11T18:08:25.163187Z",
     "iopub.status.idle": "2022-06-11T18:08:25.173872Z",
     "shell.execute_reply": "2022-06-11T18:08:25.174110Z"
    },
    "id": "5d6eced4",
    "papermill": {
     "duration": 0.019447,
     "end_time": "2022-06-11T18:08:25.174219",
     "exception": false,
     "start_time": "2022-06-11T18:08:25.154772",
     "status": "completed"
    },
    "tags": []
   },
   "outputs": [
    {
     "name": "stdout",
     "output_type": "stream",
     "text": [
      "         X1        X2        X3        X4        X5        X6        X7  \\\n",
      "0 -0.419782  0.284830 -1.287909 -0.272599 -0.144217  0.413672 -0.120013   \n",
      "1 -0.417339 -0.487722 -0.593381 -0.272599 -0.740262  0.194274  0.367166   \n",
      "2 -0.417342 -0.487722 -0.593381 -0.272599 -0.740262  1.282714 -0.265812   \n",
      "3 -0.416750 -0.487722 -1.306878 -0.272599 -0.835284  1.016303 -0.809889   \n",
      "4 -0.412482 -0.487722 -1.306878 -0.272599 -0.835284  1.228577 -0.511180   \n",
      "\n",
      "         X8        X9       X10       X11       X12       X13         Y  \n",
      "0  0.140214 -0.982843 -0.666608 -1.459000  0.441052 -1.075562  0.159686  \n",
      "1  0.557160 -0.867883 -0.987329 -0.303094  0.441052 -0.492439 -0.101524  \n",
      "2  0.557160 -0.867883 -0.987329 -0.303094  0.396427 -1.208727  1.324247  \n",
      "3  1.077737 -0.752922 -1.106115  0.113032  0.416163 -1.361517  1.182758  \n",
      "4  1.077737 -0.752922 -1.106115  0.113032  0.441052 -1.026501  1.487503  \n"
     ]
    }
   ],
   "source": [
    "X,Y = bostonDataset.boston_data()"
   ]
  },
  {
   "cell_type": "code",
   "execution_count": 7,
   "id": "fe007438",
   "metadata": {
    "execution": {
     "iopub.execute_input": "2022-06-11T18:08:25.192076Z",
     "iopub.status.busy": "2022-06-11T18:08:25.191705Z",
     "iopub.status.idle": "2022-06-11T18:08:25.193196Z",
     "shell.execute_reply": "2022-06-11T18:08:25.193444Z"
    },
    "id": "fe007438",
    "papermill": {
     "duration": 0.01194,
     "end_time": "2022-06-11T18:08:25.193554",
     "exception": false,
     "start_time": "2022-06-11T18:08:25.181614",
     "status": "completed"
    },
    "tags": []
   },
   "outputs": [],
   "source": [
    "#Train test split for dataset \n",
    "X_train,X_test,Y_train,Y_test = train_test_split(X,Y,test_size = 0.2)\n",
    "train_data = dataset.CustomDataset(X_train,Y_train)\n",
    "test_data = dataset.CustomDataset(X_test,Y_test)\n"
   ]
  },
  {
   "cell_type": "markdown",
   "id": "a9a1af34",
   "metadata": {
    "id": "a9a1af34",
    "papermill": {
     "duration": 0.007131,
     "end_time": "2022-06-11T18:08:25.208078",
     "exception": false,
     "start_time": "2022-06-11T18:08:25.200947",
     "status": "completed"
    },
    "tags": []
   },
   "source": [
    "## Training Parameters "
   ]
  },
  {
   "cell_type": "code",
   "execution_count": 8,
   "id": "952b7fc8",
   "metadata": {
    "execution": {
     "iopub.execute_input": "2022-06-11T18:08:25.224856Z",
     "iopub.status.busy": "2022-06-11T18:08:25.224482Z",
     "iopub.status.idle": "2022-06-11T18:08:25.225792Z",
     "shell.execute_reply": "2022-06-11T18:08:25.226037Z"
    },
    "id": "952b7fc8",
    "papermill": {
     "duration": 0.01096,
     "end_time": "2022-06-11T18:08:25.226146",
     "exception": false,
     "start_time": "2022-06-11T18:08:25.215186",
     "status": "completed"
    },
    "tags": []
   },
   "outputs": [],
   "source": [
    "batch_size = 32\n",
    "n_epochs = 1000\n",
    "#Select the device \n",
    "device = torch.device('cuda' if torch.cuda.is_available() else 'cpu')"
   ]
  },
  {
   "cell_type": "markdown",
   "id": "a95e1600",
   "metadata": {
    "id": "a95e1600",
    "papermill": {
     "duration": 0.007043,
     "end_time": "2022-06-11T18:08:25.240384",
     "exception": false,
     "start_time": "2022-06-11T18:08:25.233341",
     "status": "completed"
    },
    "tags": []
   },
   "source": [
    "# ABC Pre-generator Model \n",
    "\n",
    "1. The catboost model is used as a pre-generator model for the ABC-GAN. \n",
    "2. The model is first trained on the entire dataset \n",
    "3. It generats X,Y pairs and we add some Gaussian noise with mean 0 and variance 1 to it which is then feed as input to the generator.\n"
   ]
  },
  {
   "cell_type": "code",
   "execution_count": 9,
   "id": "ff8ce7bd",
   "metadata": {
    "execution": {
     "iopub.execute_input": "2022-06-11T18:08:25.259426Z",
     "iopub.status.busy": "2022-06-11T18:08:25.259077Z",
     "iopub.status.idle": "2022-06-11T18:08:26.220043Z",
     "shell.execute_reply": "2022-06-11T18:08:26.220403Z"
    },
    "id": "ff8ce7bd",
    "papermill": {
     "duration": 0.972994,
     "end_time": "2022-06-11T18:08:26.220526",
     "exception": false,
     "start_time": "2022-06-11T18:08:25.247532",
     "status": "completed"
    },
    "tags": []
   },
   "outputs": [
    {
     "name": "stdout",
     "output_type": "stream",
     "text": [
      "Learning rate set to 0.033215\n",
      "0:\tlearn: 0.9997352\ttotal: 58.5ms\tremaining: 58.4s\n",
      "1:\tlearn: 0.9785891\ttotal: 59.6ms\tremaining: 29.7s\n",
      "2:\tlearn: 0.9584978\ttotal: 60.6ms\tremaining: 20.1s\n",
      "3:\tlearn: 0.9392753\ttotal: 61.6ms\tremaining: 15.3s\n",
      "4:\tlearn: 0.9217283\ttotal: 62.5ms\tremaining: 12.4s\n",
      "5:\tlearn: 0.9042116\ttotal: 63.6ms\tremaining: 10.5s\n",
      "6:\tlearn: 0.8862581\ttotal: 64.6ms\tremaining: 9.16s\n",
      "7:\tlearn: 0.8695159\ttotal: 65.5ms\tremaining: 8.12s\n",
      "8:\tlearn: 0.8531899\ttotal: 66.5ms\tremaining: 7.32s\n",
      "9:\tlearn: 0.8370886\ttotal: 67.5ms\tremaining: 6.68s\n",
      "10:\tlearn: 0.8217187\ttotal: 68.3ms\tremaining: 6.14s\n",
      "11:\tlearn: 0.8074179\ttotal: 69.3ms\tremaining: 5.7s\n",
      "12:\tlearn: 0.7938198\ttotal: 70.1ms\tremaining: 5.32s\n",
      "13:\tlearn: 0.7784379\ttotal: 70.9ms\tremaining: 5s\n",
      "14:\tlearn: 0.7665386\ttotal: 71.8ms\tremaining: 4.71s\n",
      "15:\tlearn: 0.7524105\ttotal: 72.6ms\tremaining: 4.47s\n",
      "16:\tlearn: 0.7385650\ttotal: 73.4ms\tremaining: 4.25s\n",
      "17:\tlearn: 0.7259423\ttotal: 74.3ms\tremaining: 4.05s\n",
      "18:\tlearn: 0.7135216\ttotal: 75.1ms\tremaining: 3.88s\n",
      "19:\tlearn: 0.7003892\ttotal: 75.9ms\tremaining: 3.72s\n",
      "20:\tlearn: 0.6888675\ttotal: 76.8ms\tremaining: 3.58s\n",
      "21:\tlearn: 0.6779318\ttotal: 77.7ms\tremaining: 3.45s\n",
      "22:\tlearn: 0.6674815\ttotal: 78.5ms\tremaining: 3.34s\n",
      "23:\tlearn: 0.6568544\ttotal: 79.3ms\tremaining: 3.23s\n",
      "24:\tlearn: 0.6471144\ttotal: 80.1ms\tremaining: 3.12s\n",
      "25:\tlearn: 0.6380157\ttotal: 80.9ms\tremaining: 3.03s\n",
      "26:\tlearn: 0.6290234\ttotal: 81.7ms\tremaining: 2.94s\n",
      "27:\tlearn: 0.6191721\ttotal: 82.5ms\tremaining: 2.86s\n",
      "28:\tlearn: 0.6096416\ttotal: 83.3ms\tremaining: 2.79s\n",
      "29:\tlearn: 0.5992256\ttotal: 84ms\tremaining: 2.72s\n",
      "30:\tlearn: 0.5902002\ttotal: 84.8ms\tremaining: 2.65s\n",
      "31:\tlearn: 0.5818409\ttotal: 85.9ms\tremaining: 2.6s\n",
      "32:\tlearn: 0.5739154\ttotal: 86.6ms\tremaining: 2.54s\n",
      "33:\tlearn: 0.5657254\ttotal: 87.3ms\tremaining: 2.48s\n",
      "34:\tlearn: 0.5580459\ttotal: 88.1ms\tremaining: 2.43s\n",
      "35:\tlearn: 0.5512584\ttotal: 88.8ms\tremaining: 2.38s\n",
      "36:\tlearn: 0.5445123\ttotal: 89.6ms\tremaining: 2.33s\n",
      "37:\tlearn: 0.5365577\ttotal: 90.4ms\tremaining: 2.29s\n",
      "38:\tlearn: 0.5291506\ttotal: 91.1ms\tremaining: 2.24s\n",
      "39:\tlearn: 0.5209025\ttotal: 92ms\tremaining: 2.21s\n",
      "40:\tlearn: 0.5157057\ttotal: 92.8ms\tremaining: 2.17s\n",
      "41:\tlearn: 0.5086276\ttotal: 93.5ms\tremaining: 2.13s\n",
      "42:\tlearn: 0.5035069\ttotal: 94ms\tremaining: 2.09s\n",
      "43:\tlearn: 0.4974357\ttotal: 94.7ms\tremaining: 2.06s\n",
      "44:\tlearn: 0.4909162\ttotal: 95.4ms\tremaining: 2.02s\n",
      "45:\tlearn: 0.4856500\ttotal: 96.2ms\tremaining: 1.99s\n",
      "46:\tlearn: 0.4803215\ttotal: 96.9ms\tremaining: 1.96s\n",
      "47:\tlearn: 0.4740424\ttotal: 97.6ms\tremaining: 1.94s\n",
      "48:\tlearn: 0.4696119\ttotal: 98.3ms\tremaining: 1.91s\n",
      "49:\tlearn: 0.4628130\ttotal: 99ms\tremaining: 1.88s\n",
      "50:\tlearn: 0.4575884\ttotal: 100ms\tremaining: 1.87s\n",
      "51:\tlearn: 0.4522156\ttotal: 101ms\tremaining: 1.84s\n",
      "52:\tlearn: 0.4473672\ttotal: 102ms\tremaining: 1.82s\n",
      "53:\tlearn: 0.4424511\ttotal: 103ms\tremaining: 1.8s\n",
      "54:\tlearn: 0.4375488\ttotal: 104ms\tremaining: 1.78s\n",
      "55:\tlearn: 0.4321034\ttotal: 104ms\tremaining: 1.75s\n",
      "56:\tlearn: 0.4274140\ttotal: 105ms\tremaining: 1.74s\n",
      "57:\tlearn: 0.4230546\ttotal: 106ms\tremaining: 1.72s\n",
      "58:\tlearn: 0.4196838\ttotal: 106ms\tremaining: 1.7s\n",
      "59:\tlearn: 0.4156103\ttotal: 107ms\tremaining: 1.68s\n"
     ]
    },
    {
     "name": "stdout",
     "output_type": "stream",
     "text": [
      "60:\tlearn: 0.4112496\ttotal: 108ms\tremaining: 1.67s\n",
      "61:\tlearn: 0.4074741\ttotal: 109ms\tremaining: 1.65s\n",
      "62:\tlearn: 0.4028919\ttotal: 110ms\tremaining: 1.63s\n",
      "63:\tlearn: 0.3995755\ttotal: 111ms\tremaining: 1.62s\n",
      "64:\tlearn: 0.3956514\ttotal: 111ms\tremaining: 1.6s\n",
      "65:\tlearn: 0.3915708\ttotal: 112ms\tremaining: 1.59s\n",
      "66:\tlearn: 0.3874971\ttotal: 113ms\tremaining: 1.57s\n",
      "67:\tlearn: 0.3842193\ttotal: 114ms\tremaining: 1.56s\n",
      "68:\tlearn: 0.3808341\ttotal: 115ms\tremaining: 1.55s\n",
      "69:\tlearn: 0.3766671\ttotal: 116ms\tremaining: 1.53s\n",
      "70:\tlearn: 0.3730270\ttotal: 116ms\tremaining: 1.52s\n",
      "71:\tlearn: 0.3698142\ttotal: 117ms\tremaining: 1.51s\n",
      "72:\tlearn: 0.3668117\ttotal: 118ms\tremaining: 1.5s\n",
      "73:\tlearn: 0.3643420\ttotal: 119ms\tremaining: 1.48s\n",
      "74:\tlearn: 0.3611865\ttotal: 119ms\tremaining: 1.47s\n",
      "75:\tlearn: 0.3582199\ttotal: 120ms\tremaining: 1.46s\n",
      "76:\tlearn: 0.3557548\ttotal: 121ms\tremaining: 1.45s\n",
      "77:\tlearn: 0.3530980\ttotal: 122ms\tremaining: 1.44s\n",
      "78:\tlearn: 0.3501760\ttotal: 123ms\tremaining: 1.43s\n",
      "79:\tlearn: 0.3478669\ttotal: 124ms\tremaining: 1.42s\n",
      "80:\tlearn: 0.3454993\ttotal: 124ms\tremaining: 1.41s\n",
      "81:\tlearn: 0.3421798\ttotal: 125ms\tremaining: 1.4s\n",
      "82:\tlearn: 0.3393089\ttotal: 126ms\tremaining: 1.39s\n",
      "83:\tlearn: 0.3369842\ttotal: 127ms\tremaining: 1.38s\n",
      "84:\tlearn: 0.3346638\ttotal: 128ms\tremaining: 1.37s\n",
      "85:\tlearn: 0.3319515\ttotal: 129ms\tremaining: 1.37s\n",
      "86:\tlearn: 0.3294988\ttotal: 129ms\tremaining: 1.36s\n",
      "87:\tlearn: 0.3273923\ttotal: 130ms\tremaining: 1.35s\n",
      "88:\tlearn: 0.3248148\ttotal: 131ms\tremaining: 1.34s\n",
      "89:\tlearn: 0.3228573\ttotal: 132ms\tremaining: 1.33s\n",
      "90:\tlearn: 0.3205387\ttotal: 133ms\tremaining: 1.32s\n",
      "91:\tlearn: 0.3178882\ttotal: 133ms\tremaining: 1.32s\n",
      "92:\tlearn: 0.3162489\ttotal: 134ms\tremaining: 1.31s\n",
      "93:\tlearn: 0.3138535\ttotal: 135ms\tremaining: 1.3s\n",
      "94:\tlearn: 0.3122568\ttotal: 136ms\tremaining: 1.29s\n",
      "95:\tlearn: 0.3105706\ttotal: 137ms\tremaining: 1.28s\n",
      "96:\tlearn: 0.3090518\ttotal: 137ms\tremaining: 1.28s\n",
      "97:\tlearn: 0.3071306\ttotal: 138ms\tremaining: 1.27s\n",
      "98:\tlearn: 0.3054092\ttotal: 139ms\tremaining: 1.27s\n",
      "99:\tlearn: 0.3037674\ttotal: 140ms\tremaining: 1.26s\n",
      "100:\tlearn: 0.3020594\ttotal: 141ms\tremaining: 1.25s\n",
      "101:\tlearn: 0.3002012\ttotal: 141ms\tremaining: 1.24s\n",
      "102:\tlearn: 0.2988822\ttotal: 142ms\tremaining: 1.24s\n",
      "103:\tlearn: 0.2975509\ttotal: 143ms\tremaining: 1.23s\n",
      "104:\tlearn: 0.2962936\ttotal: 144ms\tremaining: 1.23s\n",
      "105:\tlearn: 0.2950740\ttotal: 145ms\tremaining: 1.22s\n",
      "106:\tlearn: 0.2934539\ttotal: 145ms\tremaining: 1.21s\n",
      "107:\tlearn: 0.2913940\ttotal: 146ms\tremaining: 1.21s\n",
      "108:\tlearn: 0.2900721\ttotal: 147ms\tremaining: 1.2s\n",
      "109:\tlearn: 0.2885415\ttotal: 148ms\tremaining: 1.2s\n",
      "110:\tlearn: 0.2869779\ttotal: 149ms\tremaining: 1.19s\n",
      "111:\tlearn: 0.2855590\ttotal: 150ms\tremaining: 1.19s\n",
      "112:\tlearn: 0.2843377\ttotal: 150ms\tremaining: 1.18s\n",
      "113:\tlearn: 0.2831840\ttotal: 151ms\tremaining: 1.18s\n",
      "114:\tlearn: 0.2819938\ttotal: 152ms\tremaining: 1.17s\n",
      "115:\tlearn: 0.2812773\ttotal: 153ms\tremaining: 1.17s\n",
      "116:\tlearn: 0.2798607\ttotal: 154ms\tremaining: 1.16s\n",
      "117:\tlearn: 0.2786697\ttotal: 155ms\tremaining: 1.16s\n",
      "118:\tlearn: 0.2776748\ttotal: 156ms\tremaining: 1.15s\n",
      "119:\tlearn: 0.2768808\ttotal: 157ms\tremaining: 1.15s\n",
      "120:\tlearn: 0.2756476\ttotal: 158ms\tremaining: 1.14s\n",
      "121:\tlearn: 0.2748418\ttotal: 158ms\tremaining: 1.14s\n",
      "122:\tlearn: 0.2736479\ttotal: 159ms\tremaining: 1.13s\n",
      "123:\tlearn: 0.2720229\ttotal: 160ms\tremaining: 1.13s\n",
      "124:\tlearn: 0.2712875\ttotal: 161ms\tremaining: 1.12s\n",
      "125:\tlearn: 0.2700421\ttotal: 161ms\tremaining: 1.12s\n",
      "126:\tlearn: 0.2689337\ttotal: 162ms\tremaining: 1.11s\n",
      "127:\tlearn: 0.2681034\ttotal: 163ms\tremaining: 1.11s\n",
      "128:\tlearn: 0.2670384\ttotal: 164ms\tremaining: 1.1s\n",
      "129:\tlearn: 0.2661570\ttotal: 165ms\tremaining: 1.1s\n",
      "130:\tlearn: 0.2653860\ttotal: 165ms\tremaining: 1.1s\n",
      "131:\tlearn: 0.2637823\ttotal: 166ms\tremaining: 1.09s\n",
      "132:\tlearn: 0.2629061\ttotal: 167ms\tremaining: 1.09s\n",
      "133:\tlearn: 0.2618006\ttotal: 168ms\tremaining: 1.08s\n",
      "134:\tlearn: 0.2608972\ttotal: 169ms\tremaining: 1.08s\n",
      "135:\tlearn: 0.2599351\ttotal: 169ms\tremaining: 1.07s\n",
      "136:\tlearn: 0.2593120\ttotal: 170ms\tremaining: 1.07s\n",
      "137:\tlearn: 0.2581347\ttotal: 171ms\tremaining: 1.07s\n",
      "138:\tlearn: 0.2568080\ttotal: 172ms\tremaining: 1.06s\n",
      "139:\tlearn: 0.2559948\ttotal: 173ms\tremaining: 1.06s\n",
      "140:\tlearn: 0.2553313\ttotal: 173ms\tremaining: 1.06s\n",
      "141:\tlearn: 0.2548549\ttotal: 174ms\tremaining: 1.05s\n",
      "142:\tlearn: 0.2541595\ttotal: 175ms\tremaining: 1.05s\n",
      "143:\tlearn: 0.2532092\ttotal: 176ms\tremaining: 1.04s\n",
      "144:\tlearn: 0.2522667\ttotal: 177ms\tremaining: 1.04s\n",
      "145:\tlearn: 0.2512744\ttotal: 178ms\tremaining: 1.04s\n",
      "146:\tlearn: 0.2509021\ttotal: 178ms\tremaining: 1.03s\n",
      "147:\tlearn: 0.2499104\ttotal: 179ms\tremaining: 1.03s\n",
      "148:\tlearn: 0.2491261\ttotal: 180ms\tremaining: 1.03s\n",
      "149:\tlearn: 0.2486456\ttotal: 181ms\tremaining: 1.02s\n",
      "150:\tlearn: 0.2480043\ttotal: 182ms\tremaining: 1.02s\n",
      "151:\tlearn: 0.2473935\ttotal: 182ms\tremaining: 1.02s\n",
      "152:\tlearn: 0.2469258\ttotal: 183ms\tremaining: 1.01s\n",
      "153:\tlearn: 0.2461348\ttotal: 184ms\tremaining: 1.01s\n",
      "154:\tlearn: 0.2455292\ttotal: 185ms\tremaining: 1.01s\n",
      "155:\tlearn: 0.2445170\ttotal: 186ms\tremaining: 1s\n",
      "156:\tlearn: 0.2439683\ttotal: 186ms\tremaining: 1s\n",
      "157:\tlearn: 0.2431618\ttotal: 187ms\tremaining: 998ms\n",
      "158:\tlearn: 0.2425724\ttotal: 188ms\tremaining: 995ms\n",
      "159:\tlearn: 0.2421281\ttotal: 189ms\tremaining: 993ms\n",
      "160:\tlearn: 0.2413212\ttotal: 190ms\tremaining: 989ms\n",
      "161:\tlearn: 0.2410916\ttotal: 191ms\tremaining: 986ms\n",
      "162:\tlearn: 0.2407921\ttotal: 191ms\tremaining: 982ms\n"
     ]
    },
    {
     "name": "stdout",
     "output_type": "stream",
     "text": [
      "163:\tlearn: 0.2405957\ttotal: 192ms\tremaining: 980ms\n",
      "164:\tlearn: 0.2402332\ttotal: 193ms\tremaining: 978ms\n",
      "165:\tlearn: 0.2397090\ttotal: 194ms\tremaining: 975ms\n",
      "166:\tlearn: 0.2393200\ttotal: 195ms\tremaining: 972ms\n",
      "167:\tlearn: 0.2386680\ttotal: 196ms\tremaining: 969ms\n",
      "168:\tlearn: 0.2382957\ttotal: 196ms\tremaining: 965ms\n",
      "169:\tlearn: 0.2377370\ttotal: 197ms\tremaining: 963ms\n",
      "170:\tlearn: 0.2372357\ttotal: 198ms\tremaining: 960ms\n",
      "171:\tlearn: 0.2365310\ttotal: 199ms\tremaining: 957ms\n",
      "172:\tlearn: 0.2359361\ttotal: 200ms\tremaining: 955ms\n",
      "173:\tlearn: 0.2355790\ttotal: 200ms\tremaining: 952ms\n",
      "174:\tlearn: 0.2348435\ttotal: 202ms\tremaining: 950ms\n",
      "175:\tlearn: 0.2345733\ttotal: 202ms\tremaining: 947ms\n",
      "176:\tlearn: 0.2339561\ttotal: 203ms\tremaining: 945ms\n",
      "177:\tlearn: 0.2335860\ttotal: 204ms\tremaining: 942ms\n",
      "178:\tlearn: 0.2329854\ttotal: 205ms\tremaining: 940ms\n",
      "179:\tlearn: 0.2322769\ttotal: 206ms\tremaining: 936ms\n",
      "180:\tlearn: 0.2316660\ttotal: 206ms\tremaining: 934ms\n",
      "181:\tlearn: 0.2312233\ttotal: 207ms\tremaining: 931ms\n",
      "182:\tlearn: 0.2307650\ttotal: 208ms\tremaining: 928ms\n",
      "183:\tlearn: 0.2301181\ttotal: 209ms\tremaining: 926ms\n",
      "184:\tlearn: 0.2293108\ttotal: 210ms\tremaining: 924ms\n",
      "185:\tlearn: 0.2284463\ttotal: 211ms\tremaining: 924ms\n",
      "186:\tlearn: 0.2275699\ttotal: 213ms\tremaining: 925ms\n",
      "187:\tlearn: 0.2270472\ttotal: 213ms\tremaining: 922ms\n",
      "188:\tlearn: 0.2263892\ttotal: 214ms\tremaining: 919ms\n",
      "189:\tlearn: 0.2255739\ttotal: 215ms\tremaining: 917ms\n",
      "190:\tlearn: 0.2250541\ttotal: 216ms\tremaining: 914ms\n",
      "191:\tlearn: 0.2247992\ttotal: 217ms\tremaining: 912ms\n",
      "192:\tlearn: 0.2243226\ttotal: 218ms\tremaining: 910ms\n",
      "193:\tlearn: 0.2236778\ttotal: 218ms\tremaining: 907ms\n",
      "194:\tlearn: 0.2235038\ttotal: 219ms\tremaining: 905ms\n",
      "195:\tlearn: 0.2228566\ttotal: 220ms\tremaining: 902ms\n",
      "196:\tlearn: 0.2226863\ttotal: 221ms\tremaining: 900ms\n",
      "197:\tlearn: 0.2221477\ttotal: 222ms\tremaining: 898ms\n",
      "198:\tlearn: 0.2218410\ttotal: 223ms\tremaining: 896ms\n",
      "199:\tlearn: 0.2211333\ttotal: 224ms\tremaining: 894ms\n",
      "200:\tlearn: 0.2209896\ttotal: 224ms\tremaining: 891ms\n",
      "201:\tlearn: 0.2208319\ttotal: 225ms\tremaining: 889ms\n",
      "202:\tlearn: 0.2200565\ttotal: 226ms\tremaining: 887ms\n",
      "203:\tlearn: 0.2194160\ttotal: 227ms\tremaining: 884ms\n",
      "204:\tlearn: 0.2187955\ttotal: 227ms\tremaining: 882ms\n",
      "205:\tlearn: 0.2182807\ttotal: 228ms\tremaining: 880ms\n",
      "206:\tlearn: 0.2178359\ttotal: 229ms\tremaining: 877ms\n",
      "207:\tlearn: 0.2172203\ttotal: 230ms\tremaining: 875ms\n",
      "208:\tlearn: 0.2168257\ttotal: 231ms\tremaining: 873ms\n",
      "209:\tlearn: 0.2161968\ttotal: 231ms\tremaining: 871ms\n",
      "210:\tlearn: 0.2157298\ttotal: 232ms\tremaining: 868ms\n",
      "211:\tlearn: 0.2154320\ttotal: 233ms\tremaining: 867ms\n",
      "212:\tlearn: 0.2149982\ttotal: 234ms\tremaining: 865ms\n",
      "213:\tlearn: 0.2144931\ttotal: 235ms\tremaining: 862ms\n",
      "214:\tlearn: 0.2140236\ttotal: 236ms\tremaining: 861ms\n",
      "215:\tlearn: 0.2136615\ttotal: 236ms\tremaining: 858ms\n",
      "216:\tlearn: 0.2130837\ttotal: 237ms\tremaining: 856ms\n",
      "217:\tlearn: 0.2124509\ttotal: 238ms\tremaining: 854ms\n",
      "218:\tlearn: 0.2119374\ttotal: 239ms\tremaining: 853ms\n",
      "219:\tlearn: 0.2116151\ttotal: 240ms\tremaining: 851ms\n",
      "220:\tlearn: 0.2112443\ttotal: 241ms\tremaining: 849ms\n",
      "221:\tlearn: 0.2109969\ttotal: 242ms\tremaining: 847ms\n",
      "222:\tlearn: 0.2106805\ttotal: 243ms\tremaining: 845ms\n",
      "223:\tlearn: 0.2104475\ttotal: 243ms\tremaining: 843ms\n",
      "224:\tlearn: 0.2102861\ttotal: 244ms\tremaining: 841ms\n",
      "225:\tlearn: 0.2098937\ttotal: 245ms\tremaining: 839ms\n",
      "226:\tlearn: 0.2094796\ttotal: 246ms\tremaining: 837ms\n",
      "227:\tlearn: 0.2089466\ttotal: 247ms\tremaining: 836ms\n",
      "228:\tlearn: 0.2083603\ttotal: 248ms\tremaining: 834ms\n",
      "229:\tlearn: 0.2078852\ttotal: 248ms\tremaining: 832ms\n",
      "230:\tlearn: 0.2074518\ttotal: 249ms\tremaining: 830ms\n",
      "231:\tlearn: 0.2069138\ttotal: 250ms\tremaining: 828ms\n",
      "232:\tlearn: 0.2065328\ttotal: 251ms\tremaining: 826ms\n",
      "233:\tlearn: 0.2061830\ttotal: 252ms\tremaining: 824ms\n",
      "234:\tlearn: 0.2058374\ttotal: 253ms\tremaining: 822ms\n",
      "235:\tlearn: 0.2055255\ttotal: 253ms\tremaining: 821ms\n",
      "236:\tlearn: 0.2053162\ttotal: 254ms\tremaining: 819ms\n",
      "237:\tlearn: 0.2048339\ttotal: 256ms\tremaining: 819ms\n",
      "238:\tlearn: 0.2045354\ttotal: 257ms\tremaining: 817ms\n",
      "239:\tlearn: 0.2040411\ttotal: 258ms\tremaining: 816ms\n",
      "240:\tlearn: 0.2036361\ttotal: 258ms\tremaining: 814ms\n",
      "241:\tlearn: 0.2032168\ttotal: 259ms\tremaining: 812ms\n",
      "242:\tlearn: 0.2029277\ttotal: 260ms\tremaining: 811ms\n",
      "243:\tlearn: 0.2026968\ttotal: 261ms\tremaining: 809ms\n",
      "244:\tlearn: 0.2023195\ttotal: 262ms\tremaining: 807ms\n",
      "245:\tlearn: 0.2019438\ttotal: 262ms\tremaining: 805ms\n",
      "246:\tlearn: 0.2017530\ttotal: 263ms\tremaining: 803ms\n",
      "247:\tlearn: 0.2014450\ttotal: 264ms\tremaining: 801ms\n",
      "248:\tlearn: 0.2009972\ttotal: 265ms\tremaining: 799ms\n",
      "249:\tlearn: 0.2004322\ttotal: 266ms\tremaining: 797ms\n",
      "250:\tlearn: 0.1999917\ttotal: 267ms\tremaining: 796ms\n",
      "251:\tlearn: 0.1997108\ttotal: 267ms\tremaining: 794ms\n",
      "252:\tlearn: 0.1994661\ttotal: 268ms\tremaining: 792ms\n",
      "253:\tlearn: 0.1990593\ttotal: 269ms\tremaining: 791ms\n",
      "254:\tlearn: 0.1985496\ttotal: 270ms\tremaining: 789ms\n",
      "255:\tlearn: 0.1983817\ttotal: 271ms\tremaining: 787ms\n",
      "256:\tlearn: 0.1979239\ttotal: 272ms\tremaining: 786ms\n",
      "257:\tlearn: 0.1977623\ttotal: 273ms\tremaining: 784ms\n",
      "258:\tlearn: 0.1973305\ttotal: 273ms\tremaining: 782ms\n",
      "259:\tlearn: 0.1970320\ttotal: 274ms\tremaining: 780ms\n",
      "260:\tlearn: 0.1964083\ttotal: 275ms\tremaining: 779ms\n",
      "261:\tlearn: 0.1959973\ttotal: 276ms\tremaining: 777ms\n",
      "262:\tlearn: 0.1954978\ttotal: 277ms\tremaining: 775ms\n",
      "263:\tlearn: 0.1951115\ttotal: 277ms\tremaining: 773ms\n",
      "264:\tlearn: 0.1948477\ttotal: 278ms\tremaining: 771ms\n",
      "265:\tlearn: 0.1946202\ttotal: 279ms\tremaining: 770ms\n",
      "266:\tlearn: 0.1940958\ttotal: 280ms\tremaining: 768ms\n",
      "267:\tlearn: 0.1936083\ttotal: 281ms\tremaining: 766ms\n",
      "268:\tlearn: 0.1934063\ttotal: 281ms\tremaining: 765ms\n",
      "269:\tlearn: 0.1931106\ttotal: 282ms\tremaining: 763ms\n",
      "270:\tlearn: 0.1925732\ttotal: 283ms\tremaining: 761ms\n",
      "271:\tlearn: 0.1921661\ttotal: 284ms\tremaining: 759ms\n",
      "272:\tlearn: 0.1915217\ttotal: 285ms\tremaining: 758ms\n",
      "273:\tlearn: 0.1910991\ttotal: 286ms\tremaining: 757ms\n",
      "274:\tlearn: 0.1907212\ttotal: 286ms\tremaining: 755ms\n",
      "275:\tlearn: 0.1902688\ttotal: 287ms\tremaining: 754ms\n",
      "276:\tlearn: 0.1900754\ttotal: 288ms\tremaining: 752ms\n",
      "277:\tlearn: 0.1895833\ttotal: 289ms\tremaining: 751ms\n",
      "278:\tlearn: 0.1890518\ttotal: 290ms\tremaining: 750ms\n",
      "279:\tlearn: 0.1886830\ttotal: 291ms\tremaining: 748ms\n",
      "280:\tlearn: 0.1882657\ttotal: 292ms\tremaining: 747ms\n",
      "281:\tlearn: 0.1878430\ttotal: 293ms\tremaining: 746ms\n",
      "282:\tlearn: 0.1875684\ttotal: 294ms\tremaining: 744ms\n",
      "283:\tlearn: 0.1872645\ttotal: 295ms\tremaining: 743ms\n",
      "284:\tlearn: 0.1868631\ttotal: 296ms\tremaining: 742ms\n",
      "285:\tlearn: 0.1864463\ttotal: 297ms\tremaining: 741ms\n",
      "286:\tlearn: 0.1862482\ttotal: 298ms\tremaining: 739ms\n"
     ]
    },
    {
     "name": "stdout",
     "output_type": "stream",
     "text": [
      "287:\tlearn: 0.1860184\ttotal: 299ms\tremaining: 738ms\n",
      "288:\tlearn: 0.1856731\ttotal: 300ms\tremaining: 738ms\n",
      "289:\tlearn: 0.1852794\ttotal: 301ms\tremaining: 737ms\n",
      "290:\tlearn: 0.1847946\ttotal: 302ms\tremaining: 735ms\n",
      "291:\tlearn: 0.1844923\ttotal: 303ms\tremaining: 734ms\n",
      "292:\tlearn: 0.1841487\ttotal: 304ms\tremaining: 733ms\n",
      "293:\tlearn: 0.1838009\ttotal: 305ms\tremaining: 731ms\n",
      "294:\tlearn: 0.1835890\ttotal: 305ms\tremaining: 730ms\n",
      "295:\tlearn: 0.1833572\ttotal: 306ms\tremaining: 729ms\n",
      "296:\tlearn: 0.1831845\ttotal: 307ms\tremaining: 728ms\n",
      "297:\tlearn: 0.1829779\ttotal: 308ms\tremaining: 726ms\n",
      "298:\tlearn: 0.1825290\ttotal: 309ms\tremaining: 725ms\n",
      "299:\tlearn: 0.1821583\ttotal: 310ms\tremaining: 723ms\n",
      "300:\tlearn: 0.1816321\ttotal: 311ms\tremaining: 722ms\n",
      "301:\tlearn: 0.1814796\ttotal: 312ms\tremaining: 720ms\n",
      "302:\tlearn: 0.1810697\ttotal: 313ms\tremaining: 719ms\n",
      "303:\tlearn: 0.1806568\ttotal: 313ms\tremaining: 717ms\n",
      "304:\tlearn: 0.1804797\ttotal: 314ms\tremaining: 716ms\n",
      "305:\tlearn: 0.1802594\ttotal: 315ms\tremaining: 714ms\n",
      "306:\tlearn: 0.1798047\ttotal: 316ms\tremaining: 713ms\n",
      "307:\tlearn: 0.1792086\ttotal: 317ms\tremaining: 711ms\n",
      "308:\tlearn: 0.1786684\ttotal: 317ms\tremaining: 710ms\n",
      "309:\tlearn: 0.1783322\ttotal: 318ms\tremaining: 708ms\n",
      "310:\tlearn: 0.1781435\ttotal: 319ms\tremaining: 707ms\n",
      "311:\tlearn: 0.1776497\ttotal: 320ms\tremaining: 705ms\n",
      "312:\tlearn: 0.1771316\ttotal: 321ms\tremaining: 704ms\n",
      "313:\tlearn: 0.1771010\ttotal: 322ms\tremaining: 703ms\n",
      "314:\tlearn: 0.1769015\ttotal: 322ms\tremaining: 701ms\n",
      "315:\tlearn: 0.1765137\ttotal: 323ms\tremaining: 700ms\n",
      "316:\tlearn: 0.1761544\ttotal: 324ms\tremaining: 699ms\n",
      "317:\tlearn: 0.1759519\ttotal: 325ms\tremaining: 697ms\n",
      "318:\tlearn: 0.1754592\ttotal: 326ms\tremaining: 696ms\n",
      "319:\tlearn: 0.1750198\ttotal: 327ms\tremaining: 695ms\n",
      "320:\tlearn: 0.1746094\ttotal: 328ms\tremaining: 694ms\n",
      "321:\tlearn: 0.1743105\ttotal: 329ms\tremaining: 692ms\n",
      "322:\tlearn: 0.1739926\ttotal: 330ms\tremaining: 691ms\n",
      "323:\tlearn: 0.1736384\ttotal: 330ms\tremaining: 689ms\n",
      "324:\tlearn: 0.1731907\ttotal: 331ms\tremaining: 688ms\n",
      "325:\tlearn: 0.1727104\ttotal: 332ms\tremaining: 687ms\n",
      "326:\tlearn: 0.1725936\ttotal: 333ms\tremaining: 685ms\n",
      "327:\tlearn: 0.1722596\ttotal: 334ms\tremaining: 684ms\n",
      "328:\tlearn: 0.1717853\ttotal: 334ms\tremaining: 682ms\n",
      "329:\tlearn: 0.1712858\ttotal: 335ms\tremaining: 681ms\n",
      "330:\tlearn: 0.1706529\ttotal: 336ms\tremaining: 679ms\n",
      "331:\tlearn: 0.1704973\ttotal: 337ms\tremaining: 679ms\n",
      "332:\tlearn: 0.1700616\ttotal: 338ms\tremaining: 677ms\n",
      "333:\tlearn: 0.1695607\ttotal: 339ms\tremaining: 676ms\n",
      "334:\tlearn: 0.1691348\ttotal: 340ms\tremaining: 674ms\n",
      "335:\tlearn: 0.1684766\ttotal: 341ms\tremaining: 673ms\n",
      "336:\tlearn: 0.1683551\ttotal: 341ms\tremaining: 672ms\n",
      "337:\tlearn: 0.1683165\ttotal: 342ms\tremaining: 670ms\n",
      "338:\tlearn: 0.1681593\ttotal: 343ms\tremaining: 669ms\n",
      "339:\tlearn: 0.1676869\ttotal: 344ms\tremaining: 668ms\n",
      "340:\tlearn: 0.1674201\ttotal: 345ms\tremaining: 666ms\n",
      "341:\tlearn: 0.1672830\ttotal: 346ms\tremaining: 665ms\n",
      "342:\tlearn: 0.1669179\ttotal: 346ms\tremaining: 663ms\n",
      "343:\tlearn: 0.1664566\ttotal: 347ms\tremaining: 662ms\n",
      "344:\tlearn: 0.1659947\ttotal: 348ms\tremaining: 661ms\n",
      "345:\tlearn: 0.1656230\ttotal: 349ms\tremaining: 659ms\n",
      "346:\tlearn: 0.1651220\ttotal: 350ms\tremaining: 658ms\n",
      "347:\tlearn: 0.1649191\ttotal: 350ms\tremaining: 657ms\n",
      "348:\tlearn: 0.1648919\ttotal: 351ms\tremaining: 655ms\n",
      "349:\tlearn: 0.1643671\ttotal: 352ms\tremaining: 654ms\n",
      "350:\tlearn: 0.1642412\ttotal: 353ms\tremaining: 653ms\n",
      "351:\tlearn: 0.1637698\ttotal: 354ms\tremaining: 651ms\n",
      "352:\tlearn: 0.1634335\ttotal: 355ms\tremaining: 650ms\n",
      "353:\tlearn: 0.1628274\ttotal: 355ms\tremaining: 649ms\n",
      "354:\tlearn: 0.1624056\ttotal: 356ms\tremaining: 647ms\n",
      "355:\tlearn: 0.1622915\ttotal: 357ms\tremaining: 646ms\n",
      "356:\tlearn: 0.1621320\ttotal: 358ms\tremaining: 645ms\n",
      "357:\tlearn: 0.1616556\ttotal: 359ms\tremaining: 643ms\n",
      "358:\tlearn: 0.1615297\ttotal: 360ms\tremaining: 642ms\n",
      "359:\tlearn: 0.1613119\ttotal: 360ms\tremaining: 641ms\n",
      "360:\tlearn: 0.1611373\ttotal: 361ms\tremaining: 639ms\n",
      "361:\tlearn: 0.1608257\ttotal: 362ms\tremaining: 638ms\n",
      "362:\tlearn: 0.1605623\ttotal: 363ms\tremaining: 637ms\n",
      "363:\tlearn: 0.1602625\ttotal: 364ms\tremaining: 635ms\n",
      "364:\tlearn: 0.1600218\ttotal: 364ms\tremaining: 634ms\n",
      "365:\tlearn: 0.1596662\ttotal: 365ms\tremaining: 633ms\n",
      "366:\tlearn: 0.1591773\ttotal: 366ms\tremaining: 631ms\n",
      "367:\tlearn: 0.1589483\ttotal: 367ms\tremaining: 630ms\n",
      "368:\tlearn: 0.1585514\ttotal: 368ms\tremaining: 629ms\n",
      "369:\tlearn: 0.1583952\ttotal: 368ms\tremaining: 627ms\n",
      "370:\tlearn: 0.1581472\ttotal: 369ms\tremaining: 626ms\n",
      "371:\tlearn: 0.1577274\ttotal: 370ms\tremaining: 625ms\n",
      "372:\tlearn: 0.1575632\ttotal: 371ms\tremaining: 623ms\n",
      "373:\tlearn: 0.1572445\ttotal: 372ms\tremaining: 622ms\n",
      "374:\tlearn: 0.1568875\ttotal: 372ms\tremaining: 621ms\n",
      "375:\tlearn: 0.1565880\ttotal: 373ms\tremaining: 620ms\n",
      "376:\tlearn: 0.1562960\ttotal: 374ms\tremaining: 618ms\n",
      "377:\tlearn: 0.1559161\ttotal: 375ms\tremaining: 617ms\n",
      "378:\tlearn: 0.1555092\ttotal: 376ms\tremaining: 616ms\n",
      "379:\tlearn: 0.1553258\ttotal: 377ms\tremaining: 615ms\n",
      "380:\tlearn: 0.1551268\ttotal: 378ms\tremaining: 613ms\n",
      "381:\tlearn: 0.1546885\ttotal: 378ms\tremaining: 612ms\n",
      "382:\tlearn: 0.1544363\ttotal: 379ms\tremaining: 611ms\n",
      "383:\tlearn: 0.1540445\ttotal: 380ms\tremaining: 609ms\n",
      "384:\tlearn: 0.1537787\ttotal: 381ms\tremaining: 608ms\n",
      "385:\tlearn: 0.1534647\ttotal: 382ms\tremaining: 607ms\n"
     ]
    },
    {
     "name": "stdout",
     "output_type": "stream",
     "text": [
      "386:\tlearn: 0.1531337\ttotal: 383ms\tremaining: 606ms\n",
      "387:\tlearn: 0.1526659\ttotal: 384ms\tremaining: 606ms\n",
      "388:\tlearn: 0.1522830\ttotal: 385ms\tremaining: 604ms\n",
      "389:\tlearn: 0.1519914\ttotal: 385ms\tremaining: 603ms\n",
      "390:\tlearn: 0.1517455\ttotal: 386ms\tremaining: 602ms\n",
      "391:\tlearn: 0.1514463\ttotal: 388ms\tremaining: 602ms\n",
      "392:\tlearn: 0.1512003\ttotal: 389ms\tremaining: 600ms\n",
      "393:\tlearn: 0.1508340\ttotal: 389ms\tremaining: 599ms\n",
      "394:\tlearn: 0.1505660\ttotal: 390ms\tremaining: 598ms\n",
      "395:\tlearn: 0.1502917\ttotal: 391ms\tremaining: 597ms\n",
      "396:\tlearn: 0.1499737\ttotal: 392ms\tremaining: 595ms\n",
      "397:\tlearn: 0.1495721\ttotal: 393ms\tremaining: 594ms\n",
      "398:\tlearn: 0.1493550\ttotal: 394ms\tremaining: 593ms\n",
      "399:\tlearn: 0.1490365\ttotal: 394ms\tremaining: 592ms\n",
      "400:\tlearn: 0.1486842\ttotal: 395ms\tremaining: 591ms\n",
      "401:\tlearn: 0.1482859\ttotal: 396ms\tremaining: 589ms\n",
      "402:\tlearn: 0.1480781\ttotal: 397ms\tremaining: 588ms\n",
      "403:\tlearn: 0.1477580\ttotal: 398ms\tremaining: 587ms\n",
      "404:\tlearn: 0.1473691\ttotal: 399ms\tremaining: 586ms\n",
      "405:\tlearn: 0.1472729\ttotal: 400ms\tremaining: 585ms\n",
      "406:\tlearn: 0.1472343\ttotal: 401ms\tremaining: 584ms\n",
      "407:\tlearn: 0.1469605\ttotal: 402ms\tremaining: 583ms\n",
      "408:\tlearn: 0.1464735\ttotal: 403ms\tremaining: 582ms\n",
      "409:\tlearn: 0.1462124\ttotal: 403ms\tremaining: 580ms\n",
      "410:\tlearn: 0.1459287\ttotal: 404ms\tremaining: 579ms\n",
      "411:\tlearn: 0.1456111\ttotal: 405ms\tremaining: 578ms\n",
      "412:\tlearn: 0.1452579\ttotal: 406ms\tremaining: 577ms\n",
      "413:\tlearn: 0.1450638\ttotal: 407ms\tremaining: 576ms\n",
      "414:\tlearn: 0.1448039\ttotal: 408ms\tremaining: 575ms\n",
      "415:\tlearn: 0.1446490\ttotal: 408ms\tremaining: 573ms\n",
      "416:\tlearn: 0.1443522\ttotal: 409ms\tremaining: 572ms\n",
      "417:\tlearn: 0.1441860\ttotal: 410ms\tremaining: 571ms\n",
      "418:\tlearn: 0.1438612\ttotal: 411ms\tremaining: 570ms\n",
      "419:\tlearn: 0.1434366\ttotal: 412ms\tremaining: 568ms\n",
      "420:\tlearn: 0.1432120\ttotal: 412ms\tremaining: 567ms\n",
      "421:\tlearn: 0.1430940\ttotal: 413ms\tremaining: 566ms\n",
      "422:\tlearn: 0.1428472\ttotal: 414ms\tremaining: 565ms\n",
      "423:\tlearn: 0.1426071\ttotal: 415ms\tremaining: 564ms\n",
      "424:\tlearn: 0.1422743\ttotal: 416ms\tremaining: 562ms\n",
      "425:\tlearn: 0.1420541\ttotal: 417ms\tremaining: 561ms\n",
      "426:\tlearn: 0.1418020\ttotal: 417ms\tremaining: 560ms\n",
      "427:\tlearn: 0.1414539\ttotal: 418ms\tremaining: 559ms\n",
      "428:\tlearn: 0.1413136\ttotal: 419ms\tremaining: 558ms\n",
      "429:\tlearn: 0.1412448\ttotal: 420ms\tremaining: 557ms\n",
      "430:\tlearn: 0.1408787\ttotal: 421ms\tremaining: 556ms\n",
      "431:\tlearn: 0.1407473\ttotal: 422ms\tremaining: 555ms\n",
      "432:\tlearn: 0.1405213\ttotal: 423ms\tremaining: 554ms\n",
      "433:\tlearn: 0.1401593\ttotal: 424ms\tremaining: 552ms\n",
      "434:\tlearn: 0.1399076\ttotal: 424ms\tremaining: 551ms\n",
      "435:\tlearn: 0.1398595\ttotal: 425ms\tremaining: 550ms\n",
      "436:\tlearn: 0.1396692\ttotal: 426ms\tremaining: 549ms\n",
      "437:\tlearn: 0.1393657\ttotal: 427ms\tremaining: 548ms\n",
      "438:\tlearn: 0.1391839\ttotal: 427ms\tremaining: 546ms\n",
      "439:\tlearn: 0.1387983\ttotal: 428ms\tremaining: 545ms\n",
      "440:\tlearn: 0.1385310\ttotal: 429ms\tremaining: 544ms\n",
      "441:\tlearn: 0.1384935\ttotal: 430ms\tremaining: 543ms\n",
      "442:\tlearn: 0.1381115\ttotal: 432ms\tremaining: 543ms\n",
      "443:\tlearn: 0.1378004\ttotal: 433ms\tremaining: 542ms\n",
      "444:\tlearn: 0.1374399\ttotal: 434ms\tremaining: 541ms\n",
      "445:\tlearn: 0.1372158\ttotal: 434ms\tremaining: 540ms\n",
      "446:\tlearn: 0.1368933\ttotal: 435ms\tremaining: 538ms\n",
      "447:\tlearn: 0.1365261\ttotal: 436ms\tremaining: 538ms\n",
      "448:\tlearn: 0.1362132\ttotal: 437ms\tremaining: 536ms\n",
      "449:\tlearn: 0.1361253\ttotal: 438ms\tremaining: 535ms\n",
      "450:\tlearn: 0.1359948\ttotal: 440ms\tremaining: 535ms\n",
      "451:\tlearn: 0.1358049\ttotal: 440ms\tremaining: 534ms\n",
      "452:\tlearn: 0.1357428\ttotal: 441ms\tremaining: 533ms\n",
      "453:\tlearn: 0.1354439\ttotal: 442ms\tremaining: 532ms\n",
      "454:\tlearn: 0.1350745\ttotal: 443ms\tremaining: 531ms\n",
      "455:\tlearn: 0.1348712\ttotal: 444ms\tremaining: 530ms\n",
      "456:\tlearn: 0.1345390\ttotal: 445ms\tremaining: 528ms\n",
      "457:\tlearn: 0.1343701\ttotal: 445ms\tremaining: 527ms\n",
      "458:\tlearn: 0.1341256\ttotal: 446ms\tremaining: 526ms\n",
      "459:\tlearn: 0.1339127\ttotal: 447ms\tremaining: 525ms\n",
      "460:\tlearn: 0.1338428\ttotal: 448ms\tremaining: 524ms\n",
      "461:\tlearn: 0.1336913\ttotal: 449ms\tremaining: 522ms\n",
      "462:\tlearn: 0.1336575\ttotal: 449ms\tremaining: 521ms\n",
      "463:\tlearn: 0.1334648\ttotal: 450ms\tremaining: 520ms\n",
      "464:\tlearn: 0.1332013\ttotal: 451ms\tremaining: 519ms\n",
      "465:\tlearn: 0.1331140\ttotal: 452ms\tremaining: 518ms\n",
      "466:\tlearn: 0.1330923\ttotal: 452ms\tremaining: 516ms\n",
      "467:\tlearn: 0.1330535\ttotal: 453ms\tremaining: 515ms\n",
      "468:\tlearn: 0.1330263\ttotal: 454ms\tremaining: 514ms\n",
      "469:\tlearn: 0.1326740\ttotal: 455ms\tremaining: 513ms\n",
      "470:\tlearn: 0.1324824\ttotal: 456ms\tremaining: 512ms\n",
      "471:\tlearn: 0.1324114\ttotal: 457ms\tremaining: 511ms\n",
      "472:\tlearn: 0.1322459\ttotal: 457ms\tremaining: 510ms\n",
      "473:\tlearn: 0.1319122\ttotal: 458ms\tremaining: 509ms\n",
      "474:\tlearn: 0.1316874\ttotal: 459ms\tremaining: 507ms\n",
      "475:\tlearn: 0.1313829\ttotal: 460ms\tremaining: 506ms\n",
      "476:\tlearn: 0.1311050\ttotal: 461ms\tremaining: 505ms\n",
      "477:\tlearn: 0.1309776\ttotal: 462ms\tremaining: 504ms\n",
      "478:\tlearn: 0.1306490\ttotal: 462ms\tremaining: 503ms\n",
      "479:\tlearn: 0.1302365\ttotal: 463ms\tremaining: 502ms\n",
      "480:\tlearn: 0.1300748\ttotal: 464ms\tremaining: 501ms\n",
      "481:\tlearn: 0.1299091\ttotal: 465ms\tremaining: 500ms\n",
      "482:\tlearn: 0.1296548\ttotal: 466ms\tremaining: 499ms\n",
      "483:\tlearn: 0.1296249\ttotal: 467ms\tremaining: 498ms\n",
      "484:\tlearn: 0.1293520\ttotal: 468ms\tremaining: 497ms\n",
      "485:\tlearn: 0.1291577\ttotal: 469ms\tremaining: 496ms\n",
      "486:\tlearn: 0.1288591\ttotal: 470ms\tremaining: 495ms\n",
      "487:\tlearn: 0.1286979\ttotal: 470ms\tremaining: 493ms\n",
      "488:\tlearn: 0.1285183\ttotal: 471ms\tremaining: 492ms\n",
      "489:\tlearn: 0.1283463\ttotal: 472ms\tremaining: 491ms\n",
      "490:\tlearn: 0.1282069\ttotal: 473ms\tremaining: 490ms\n",
      "491:\tlearn: 0.1281389\ttotal: 474ms\tremaining: 489ms\n",
      "492:\tlearn: 0.1279955\ttotal: 475ms\tremaining: 489ms\n",
      "493:\tlearn: 0.1277911\ttotal: 476ms\tremaining: 487ms\n",
      "494:\tlearn: 0.1275666\ttotal: 477ms\tremaining: 487ms\n",
      "495:\tlearn: 0.1274428\ttotal: 478ms\tremaining: 486ms\n",
      "496:\tlearn: 0.1273077\ttotal: 479ms\tremaining: 485ms\n",
      "497:\tlearn: 0.1269823\ttotal: 480ms\tremaining: 484ms\n",
      "498:\tlearn: 0.1269647\ttotal: 481ms\tremaining: 482ms\n",
      "499:\tlearn: 0.1268515\ttotal: 481ms\tremaining: 481ms\n",
      "500:\tlearn: 0.1264839\ttotal: 482ms\tremaining: 480ms\n",
      "501:\tlearn: 0.1263262\ttotal: 483ms\tremaining: 479ms\n",
      "502:\tlearn: 0.1259897\ttotal: 484ms\tremaining: 478ms\n",
      "503:\tlearn: 0.1257686\ttotal: 485ms\tremaining: 477ms\n",
      "504:\tlearn: 0.1255887\ttotal: 485ms\tremaining: 476ms\n",
      "505:\tlearn: 0.1255682\ttotal: 486ms\tremaining: 475ms\n",
      "506:\tlearn: 0.1252309\ttotal: 487ms\tremaining: 473ms\n",
      "507:\tlearn: 0.1250313\ttotal: 488ms\tremaining: 472ms\n",
      "508:\tlearn: 0.1248626\ttotal: 488ms\tremaining: 471ms\n"
     ]
    },
    {
     "name": "stdout",
     "output_type": "stream",
     "text": [
      "509:\tlearn: 0.1245826\ttotal: 489ms\tremaining: 470ms\n",
      "510:\tlearn: 0.1245625\ttotal: 490ms\tremaining: 469ms\n",
      "511:\tlearn: 0.1242771\ttotal: 491ms\tremaining: 468ms\n",
      "512:\tlearn: 0.1240678\ttotal: 492ms\tremaining: 467ms\n",
      "513:\tlearn: 0.1238337\ttotal: 493ms\tremaining: 466ms\n",
      "514:\tlearn: 0.1237160\ttotal: 494ms\tremaining: 465ms\n",
      "515:\tlearn: 0.1235239\ttotal: 495ms\tremaining: 464ms\n",
      "516:\tlearn: 0.1232233\ttotal: 495ms\tremaining: 463ms\n",
      "517:\tlearn: 0.1229530\ttotal: 496ms\tremaining: 462ms\n",
      "518:\tlearn: 0.1229340\ttotal: 497ms\tremaining: 461ms\n",
      "519:\tlearn: 0.1225995\ttotal: 498ms\tremaining: 459ms\n",
      "520:\tlearn: 0.1222321\ttotal: 499ms\tremaining: 458ms\n",
      "521:\tlearn: 0.1218701\ttotal: 499ms\tremaining: 457ms\n",
      "522:\tlearn: 0.1216849\ttotal: 500ms\tremaining: 456ms\n",
      "523:\tlearn: 0.1214898\ttotal: 501ms\tremaining: 455ms\n",
      "524:\tlearn: 0.1213168\ttotal: 502ms\tremaining: 454ms\n",
      "525:\tlearn: 0.1212225\ttotal: 503ms\tremaining: 453ms\n",
      "526:\tlearn: 0.1210702\ttotal: 503ms\tremaining: 452ms\n",
      "527:\tlearn: 0.1208082\ttotal: 504ms\tremaining: 451ms\n",
      "528:\tlearn: 0.1205903\ttotal: 505ms\tremaining: 450ms\n",
      "529:\tlearn: 0.1203281\ttotal: 506ms\tremaining: 449ms\n",
      "530:\tlearn: 0.1203138\ttotal: 507ms\tremaining: 447ms\n",
      "531:\tlearn: 0.1203005\ttotal: 507ms\tremaining: 446ms\n",
      "532:\tlearn: 0.1200145\ttotal: 508ms\tremaining: 445ms\n",
      "533:\tlearn: 0.1199148\ttotal: 509ms\tremaining: 444ms\n",
      "534:\tlearn: 0.1197202\ttotal: 510ms\tremaining: 443ms\n",
      "535:\tlearn: 0.1194507\ttotal: 511ms\tremaining: 442ms\n",
      "536:\tlearn: 0.1193090\ttotal: 512ms\tremaining: 441ms\n",
      "537:\tlearn: 0.1191836\ttotal: 512ms\tremaining: 440ms\n",
      "538:\tlearn: 0.1189818\ttotal: 513ms\tremaining: 439ms\n",
      "539:\tlearn: 0.1187053\ttotal: 514ms\tremaining: 438ms\n",
      "540:\tlearn: 0.1183680\ttotal: 515ms\tremaining: 437ms\n",
      "541:\tlearn: 0.1181377\ttotal: 516ms\tremaining: 436ms\n",
      "542:\tlearn: 0.1181239\ttotal: 516ms\tremaining: 435ms\n",
      "543:\tlearn: 0.1181102\ttotal: 517ms\tremaining: 434ms\n",
      "544:\tlearn: 0.1178686\ttotal: 518ms\tremaining: 432ms\n",
      "545:\tlearn: 0.1178553\ttotal: 519ms\tremaining: 431ms\n",
      "546:\tlearn: 0.1176162\ttotal: 520ms\tremaining: 430ms\n",
      "547:\tlearn: 0.1173885\ttotal: 520ms\tremaining: 429ms\n",
      "548:\tlearn: 0.1171599\ttotal: 521ms\tremaining: 428ms\n",
      "549:\tlearn: 0.1170803\ttotal: 522ms\tremaining: 427ms\n",
      "550:\tlearn: 0.1168547\ttotal: 523ms\tremaining: 426ms\n",
      "551:\tlearn: 0.1166458\ttotal: 523ms\tremaining: 425ms\n",
      "552:\tlearn: 0.1163923\ttotal: 524ms\tremaining: 424ms\n",
      "553:\tlearn: 0.1161746\ttotal: 525ms\tremaining: 423ms\n",
      "554:\tlearn: 0.1159995\ttotal: 526ms\tremaining: 422ms\n",
      "555:\tlearn: 0.1158056\ttotal: 527ms\tremaining: 421ms\n",
      "556:\tlearn: 0.1155993\ttotal: 528ms\tremaining: 420ms\n",
      "557:\tlearn: 0.1153940\ttotal: 528ms\tremaining: 419ms\n",
      "558:\tlearn: 0.1151786\ttotal: 529ms\tremaining: 418ms\n",
      "559:\tlearn: 0.1149701\ttotal: 531ms\tremaining: 417ms\n",
      "560:\tlearn: 0.1147170\ttotal: 532ms\tremaining: 416ms\n",
      "561:\tlearn: 0.1143830\ttotal: 532ms\tremaining: 415ms\n",
      "562:\tlearn: 0.1140411\ttotal: 533ms\tremaining: 414ms\n",
      "563:\tlearn: 0.1140272\ttotal: 534ms\tremaining: 413ms\n",
      "564:\tlearn: 0.1138248\ttotal: 535ms\tremaining: 412ms\n",
      "565:\tlearn: 0.1135679\ttotal: 535ms\tremaining: 411ms\n",
      "566:\tlearn: 0.1135556\ttotal: 536ms\tremaining: 409ms\n",
      "567:\tlearn: 0.1133359\ttotal: 537ms\tremaining: 408ms\n",
      "568:\tlearn: 0.1131128\ttotal: 538ms\tremaining: 407ms\n",
      "569:\tlearn: 0.1129005\ttotal: 539ms\tremaining: 407ms\n",
      "570:\tlearn: 0.1126904\ttotal: 540ms\tremaining: 405ms\n",
      "571:\tlearn: 0.1124503\ttotal: 541ms\tremaining: 404ms\n",
      "572:\tlearn: 0.1124380\ttotal: 541ms\tremaining: 403ms\n",
      "573:\tlearn: 0.1123155\ttotal: 542ms\tremaining: 402ms\n",
      "574:\tlearn: 0.1121327\ttotal: 543ms\tremaining: 401ms\n",
      "575:\tlearn: 0.1119658\ttotal: 544ms\tremaining: 400ms\n",
      "576:\tlearn: 0.1116935\ttotal: 545ms\tremaining: 399ms\n",
      "577:\tlearn: 0.1115088\ttotal: 546ms\tremaining: 398ms\n",
      "578:\tlearn: 0.1112422\ttotal: 546ms\tremaining: 397ms\n",
      "579:\tlearn: 0.1111207\ttotal: 547ms\tremaining: 396ms\n",
      "580:\tlearn: 0.1109291\ttotal: 548ms\tremaining: 395ms\n",
      "581:\tlearn: 0.1108524\ttotal: 549ms\tremaining: 394ms\n",
      "582:\tlearn: 0.1106988\ttotal: 550ms\tremaining: 393ms\n",
      "583:\tlearn: 0.1106880\ttotal: 550ms\tremaining: 392ms\n",
      "584:\tlearn: 0.1104862\ttotal: 551ms\tremaining: 391ms\n",
      "585:\tlearn: 0.1102862\ttotal: 552ms\tremaining: 390ms\n",
      "586:\tlearn: 0.1100174\ttotal: 553ms\tremaining: 389ms\n",
      "587:\tlearn: 0.1098371\ttotal: 553ms\tremaining: 388ms\n",
      "588:\tlearn: 0.1098134\ttotal: 554ms\tremaining: 387ms\n",
      "589:\tlearn: 0.1095328\ttotal: 555ms\tremaining: 386ms\n",
      "590:\tlearn: 0.1092623\ttotal: 556ms\tremaining: 385ms\n",
      "591:\tlearn: 0.1090157\ttotal: 557ms\tremaining: 384ms\n",
      "592:\tlearn: 0.1087724\ttotal: 557ms\tremaining: 383ms\n",
      "593:\tlearn: 0.1086215\ttotal: 558ms\tremaining: 382ms\n",
      "594:\tlearn: 0.1084284\ttotal: 559ms\tremaining: 381ms\n",
      "595:\tlearn: 0.1083967\ttotal: 560ms\tremaining: 379ms\n",
      "596:\tlearn: 0.1082763\ttotal: 560ms\tremaining: 378ms\n",
      "597:\tlearn: 0.1079790\ttotal: 561ms\tremaining: 377ms\n",
      "598:\tlearn: 0.1076897\ttotal: 563ms\tremaining: 377ms\n",
      "599:\tlearn: 0.1075615\ttotal: 564ms\tremaining: 376ms\n",
      "600:\tlearn: 0.1075483\ttotal: 564ms\tremaining: 375ms\n",
      "601:\tlearn: 0.1075329\ttotal: 565ms\tremaining: 374ms\n",
      "602:\tlearn: 0.1073398\ttotal: 566ms\tremaining: 373ms\n",
      "603:\tlearn: 0.1072489\ttotal: 567ms\tremaining: 372ms\n",
      "604:\tlearn: 0.1069837\ttotal: 568ms\tremaining: 371ms\n",
      "605:\tlearn: 0.1068487\ttotal: 568ms\tremaining: 370ms\n",
      "606:\tlearn: 0.1066463\ttotal: 569ms\tremaining: 369ms\n",
      "607:\tlearn: 0.1065748\ttotal: 570ms\tremaining: 368ms\n",
      "608:\tlearn: 0.1062955\ttotal: 571ms\tremaining: 367ms\n",
      "609:\tlearn: 0.1060934\ttotal: 572ms\tremaining: 365ms\n",
      "610:\tlearn: 0.1060786\ttotal: 572ms\tremaining: 364ms\n"
     ]
    },
    {
     "name": "stdout",
     "output_type": "stream",
     "text": [
      "611:\tlearn: 0.1058759\ttotal: 573ms\tremaining: 364ms\n",
      "612:\tlearn: 0.1057565\ttotal: 574ms\tremaining: 363ms\n",
      "613:\tlearn: 0.1055296\ttotal: 575ms\tremaining: 362ms\n",
      "614:\tlearn: 0.1053080\ttotal: 576ms\tremaining: 361ms\n",
      "615:\tlearn: 0.1050821\ttotal: 577ms\tremaining: 360ms\n",
      "616:\tlearn: 0.1048562\ttotal: 578ms\tremaining: 359ms\n",
      "617:\tlearn: 0.1048464\ttotal: 579ms\tremaining: 358ms\n",
      "618:\tlearn: 0.1047204\ttotal: 579ms\tremaining: 357ms\n",
      "619:\tlearn: 0.1045311\ttotal: 580ms\tremaining: 356ms\n",
      "620:\tlearn: 0.1043391\ttotal: 581ms\tremaining: 355ms\n",
      "621:\tlearn: 0.1041174\ttotal: 582ms\tremaining: 354ms\n",
      "622:\tlearn: 0.1039240\ttotal: 583ms\tremaining: 353ms\n",
      "623:\tlearn: 0.1036560\ttotal: 583ms\tremaining: 352ms\n",
      "624:\tlearn: 0.1036434\ttotal: 584ms\tremaining: 351ms\n",
      "625:\tlearn: 0.1034206\ttotal: 585ms\tremaining: 350ms\n",
      "626:\tlearn: 0.1032879\ttotal: 586ms\tremaining: 349ms\n",
      "627:\tlearn: 0.1031392\ttotal: 587ms\tremaining: 348ms\n",
      "628:\tlearn: 0.1029280\ttotal: 587ms\tremaining: 346ms\n",
      "629:\tlearn: 0.1026627\ttotal: 589ms\tremaining: 346ms\n",
      "630:\tlearn: 0.1025224\ttotal: 590ms\tremaining: 345ms\n",
      "631:\tlearn: 0.1023875\ttotal: 590ms\tremaining: 344ms\n",
      "632:\tlearn: 0.1022393\ttotal: 591ms\tremaining: 343ms\n",
      "633:\tlearn: 0.1022265\ttotal: 592ms\tremaining: 342ms\n",
      "634:\tlearn: 0.1022109\ttotal: 593ms\tremaining: 341ms\n",
      "635:\tlearn: 0.1019581\ttotal: 594ms\tremaining: 340ms\n",
      "636:\tlearn: 0.1019297\ttotal: 595ms\tremaining: 339ms\n",
      "637:\tlearn: 0.1019163\ttotal: 595ms\tremaining: 338ms\n",
      "638:\tlearn: 0.1019026\ttotal: 596ms\tremaining: 337ms\n",
      "639:\tlearn: 0.1017416\ttotal: 597ms\tremaining: 336ms\n",
      "640:\tlearn: 0.1016727\ttotal: 598ms\tremaining: 335ms\n",
      "641:\tlearn: 0.1015060\ttotal: 598ms\tremaining: 334ms\n",
      "642:\tlearn: 0.1014874\ttotal: 599ms\tremaining: 333ms\n",
      "643:\tlearn: 0.1014747\ttotal: 600ms\tremaining: 332ms\n",
      "644:\tlearn: 0.1011723\ttotal: 601ms\tremaining: 331ms\n",
      "645:\tlearn: 0.1011615\ttotal: 602ms\tremaining: 330ms\n",
      "646:\tlearn: 0.1011112\ttotal: 603ms\tremaining: 329ms\n",
      "647:\tlearn: 0.1009350\ttotal: 603ms\tremaining: 328ms\n",
      "648:\tlearn: 0.1007601\ttotal: 604ms\tremaining: 327ms\n",
      "649:\tlearn: 0.1007001\ttotal: 605ms\tremaining: 326ms\n",
      "650:\tlearn: 0.1005309\ttotal: 606ms\tremaining: 325ms\n",
      "651:\tlearn: 0.1004295\ttotal: 607ms\tremaining: 324ms\n",
      "652:\tlearn: 0.1001722\ttotal: 607ms\tremaining: 323ms\n",
      "653:\tlearn: 0.1000539\ttotal: 608ms\tremaining: 322ms\n",
      "654:\tlearn: 0.0999083\ttotal: 609ms\tremaining: 321ms\n",
      "655:\tlearn: 0.0996534\ttotal: 610ms\tremaining: 320ms\n",
      "656:\tlearn: 0.0994963\ttotal: 611ms\tremaining: 319ms\n",
      "657:\tlearn: 0.0992989\ttotal: 611ms\tremaining: 318ms\n",
      "658:\tlearn: 0.0992470\ttotal: 612ms\tremaining: 317ms\n",
      "659:\tlearn: 0.0991394\ttotal: 613ms\tremaining: 316ms\n",
      "660:\tlearn: 0.0989816\ttotal: 614ms\tremaining: 315ms\n",
      "661:\tlearn: 0.0988200\ttotal: 615ms\tremaining: 314ms\n",
      "662:\tlearn: 0.0986797\ttotal: 615ms\tremaining: 313ms\n",
      "663:\tlearn: 0.0984743\ttotal: 616ms\tremaining: 312ms\n",
      "664:\tlearn: 0.0982763\ttotal: 617ms\tremaining: 311ms\n",
      "665:\tlearn: 0.0981854\ttotal: 618ms\tremaining: 310ms\n",
      "666:\tlearn: 0.0979836\ttotal: 618ms\tremaining: 309ms\n",
      "667:\tlearn: 0.0977735\ttotal: 619ms\tremaining: 308ms\n",
      "668:\tlearn: 0.0976208\ttotal: 620ms\tremaining: 307ms\n",
      "669:\tlearn: 0.0974415\ttotal: 621ms\tremaining: 306ms\n",
      "670:\tlearn: 0.0973275\ttotal: 621ms\tremaining: 305ms\n",
      "671:\tlearn: 0.0973167\ttotal: 622ms\tremaining: 304ms\n",
      "672:\tlearn: 0.0972510\ttotal: 623ms\tremaining: 303ms\n",
      "673:\tlearn: 0.0970660\ttotal: 624ms\tremaining: 302ms\n",
      "674:\tlearn: 0.0968168\ttotal: 625ms\tremaining: 301ms\n",
      "675:\tlearn: 0.0966723\ttotal: 626ms\tremaining: 300ms\n",
      "676:\tlearn: 0.0966199\ttotal: 627ms\tremaining: 299ms\n",
      "677:\tlearn: 0.0964303\ttotal: 627ms\tremaining: 298ms\n",
      "678:\tlearn: 0.0961788\ttotal: 628ms\tremaining: 297ms\n",
      "679:\tlearn: 0.0961661\ttotal: 629ms\tremaining: 296ms\n",
      "680:\tlearn: 0.0961469\ttotal: 630ms\tremaining: 295ms\n",
      "681:\tlearn: 0.0959823\ttotal: 631ms\tremaining: 294ms\n",
      "682:\tlearn: 0.0958746\ttotal: 631ms\tremaining: 293ms\n",
      "683:\tlearn: 0.0956793\ttotal: 632ms\tremaining: 292ms\n",
      "684:\tlearn: 0.0955313\ttotal: 633ms\tremaining: 291ms\n",
      "685:\tlearn: 0.0953897\ttotal: 634ms\tremaining: 290ms\n",
      "686:\tlearn: 0.0952189\ttotal: 635ms\tremaining: 289ms\n",
      "687:\tlearn: 0.0951016\ttotal: 636ms\tremaining: 288ms\n",
      "688:\tlearn: 0.0949963\ttotal: 636ms\tremaining: 287ms\n",
      "689:\tlearn: 0.0947840\ttotal: 637ms\tremaining: 286ms\n",
      "690:\tlearn: 0.0945771\ttotal: 638ms\tremaining: 285ms\n",
      "691:\tlearn: 0.0943774\ttotal: 639ms\tremaining: 284ms\n",
      "692:\tlearn: 0.0942033\ttotal: 640ms\tremaining: 284ms\n",
      "693:\tlearn: 0.0939911\ttotal: 641ms\tremaining: 283ms\n",
      "694:\tlearn: 0.0938797\ttotal: 642ms\tremaining: 282ms\n",
      "695:\tlearn: 0.0936896\ttotal: 643ms\tremaining: 281ms\n",
      "696:\tlearn: 0.0935562\ttotal: 643ms\tremaining: 280ms\n",
      "697:\tlearn: 0.0933162\ttotal: 644ms\tremaining: 279ms\n",
      "698:\tlearn: 0.0931153\ttotal: 645ms\tremaining: 278ms\n",
      "699:\tlearn: 0.0930521\ttotal: 646ms\tremaining: 277ms\n",
      "700:\tlearn: 0.0929681\ttotal: 647ms\tremaining: 276ms\n",
      "701:\tlearn: 0.0928193\ttotal: 648ms\tremaining: 275ms\n",
      "702:\tlearn: 0.0927151\ttotal: 648ms\tremaining: 274ms\n",
      "703:\tlearn: 0.0925446\ttotal: 649ms\tremaining: 273ms\n",
      "704:\tlearn: 0.0925308\ttotal: 650ms\tremaining: 272ms\n",
      "705:\tlearn: 0.0924745\ttotal: 651ms\tremaining: 271ms\n",
      "706:\tlearn: 0.0924156\ttotal: 651ms\tremaining: 270ms\n",
      "707:\tlearn: 0.0922450\ttotal: 652ms\tremaining: 269ms\n",
      "708:\tlearn: 0.0920832\ttotal: 653ms\tremaining: 268ms\n",
      "709:\tlearn: 0.0918698\ttotal: 654ms\tremaining: 267ms\n",
      "710:\tlearn: 0.0917288\ttotal: 655ms\tremaining: 266ms\n",
      "711:\tlearn: 0.0915649\ttotal: 655ms\tremaining: 265ms\n",
      "712:\tlearn: 0.0914216\ttotal: 656ms\tremaining: 264ms\n",
      "713:\tlearn: 0.0913993\ttotal: 657ms\tremaining: 263ms\n",
      "714:\tlearn: 0.0912792\ttotal: 658ms\tremaining: 262ms\n",
      "715:\tlearn: 0.0910524\ttotal: 658ms\tremaining: 261ms\n",
      "716:\tlearn: 0.0908156\ttotal: 659ms\tremaining: 260ms\n",
      "717:\tlearn: 0.0907411\ttotal: 660ms\tremaining: 259ms\n",
      "718:\tlearn: 0.0905984\ttotal: 661ms\tremaining: 258ms\n",
      "719:\tlearn: 0.0904496\ttotal: 662ms\tremaining: 257ms\n",
      "720:\tlearn: 0.0902956\ttotal: 662ms\tremaining: 256ms\n",
      "721:\tlearn: 0.0901173\ttotal: 663ms\tremaining: 255ms\n",
      "722:\tlearn: 0.0900196\ttotal: 664ms\tremaining: 254ms\n",
      "723:\tlearn: 0.0898443\ttotal: 665ms\tremaining: 253ms\n",
      "724:\tlearn: 0.0896301\ttotal: 666ms\tremaining: 253ms\n",
      "725:\tlearn: 0.0894850\ttotal: 666ms\tremaining: 252ms\n",
      "726:\tlearn: 0.0894730\ttotal: 667ms\tremaining: 251ms\n",
      "727:\tlearn: 0.0893412\ttotal: 668ms\tremaining: 250ms\n",
      "728:\tlearn: 0.0892277\ttotal: 669ms\tremaining: 249ms\n",
      "729:\tlearn: 0.0890419\ttotal: 670ms\tremaining: 248ms\n",
      "730:\tlearn: 0.0888896\ttotal: 670ms\tremaining: 247ms\n",
      "731:\tlearn: 0.0887035\ttotal: 671ms\tremaining: 246ms\n",
      "732:\tlearn: 0.0885211\ttotal: 672ms\tremaining: 245ms\n",
      "733:\tlearn: 0.0885134\ttotal: 673ms\tremaining: 244ms\n",
      "734:\tlearn: 0.0883335\ttotal: 674ms\tremaining: 243ms\n",
      "735:\tlearn: 0.0881198\ttotal: 674ms\tremaining: 242ms\n",
      "736:\tlearn: 0.0881118\ttotal: 676ms\tremaining: 241ms\n",
      "737:\tlearn: 0.0879164\ttotal: 677ms\tremaining: 240ms\n",
      "738:\tlearn: 0.0876754\ttotal: 677ms\tremaining: 239ms\n",
      "739:\tlearn: 0.0876132\ttotal: 678ms\tremaining: 238ms\n"
     ]
    },
    {
     "name": "stdout",
     "output_type": "stream",
     "text": [
      "740:\tlearn: 0.0874123\ttotal: 679ms\tremaining: 237ms\n",
      "741:\tlearn: 0.0874039\ttotal: 680ms\tremaining: 236ms\n",
      "742:\tlearn: 0.0872362\ttotal: 681ms\tremaining: 236ms\n",
      "743:\tlearn: 0.0870910\ttotal: 682ms\tremaining: 235ms\n",
      "744:\tlearn: 0.0869458\ttotal: 683ms\tremaining: 234ms\n",
      "745:\tlearn: 0.0868445\ttotal: 683ms\tremaining: 233ms\n",
      "746:\tlearn: 0.0867254\ttotal: 684ms\tremaining: 232ms\n",
      "747:\tlearn: 0.0866666\ttotal: 685ms\tremaining: 231ms\n",
      "748:\tlearn: 0.0866126\ttotal: 686ms\tremaining: 230ms\n",
      "749:\tlearn: 0.0866005\ttotal: 687ms\tremaining: 229ms\n",
      "750:\tlearn: 0.0865079\ttotal: 688ms\tremaining: 228ms\n",
      "751:\tlearn: 0.0863824\ttotal: 688ms\tremaining: 227ms\n",
      "752:\tlearn: 0.0862392\ttotal: 689ms\tremaining: 226ms\n",
      "753:\tlearn: 0.0862261\ttotal: 690ms\tremaining: 225ms\n",
      "754:\tlearn: 0.0862182\ttotal: 691ms\tremaining: 224ms\n",
      "755:\tlearn: 0.0860670\ttotal: 692ms\tremaining: 223ms\n",
      "756:\tlearn: 0.0858659\ttotal: 693ms\tremaining: 222ms\n",
      "757:\tlearn: 0.0857156\ttotal: 694ms\tremaining: 221ms\n",
      "758:\tlearn: 0.0856436\ttotal: 694ms\tremaining: 220ms\n",
      "759:\tlearn: 0.0854781\ttotal: 695ms\tremaining: 219ms\n",
      "760:\tlearn: 0.0853370\ttotal: 696ms\tremaining: 219ms\n",
      "761:\tlearn: 0.0852099\ttotal: 697ms\tremaining: 218ms\n",
      "762:\tlearn: 0.0850973\ttotal: 697ms\tremaining: 217ms\n",
      "763:\tlearn: 0.0850092\ttotal: 698ms\tremaining: 216ms\n",
      "764:\tlearn: 0.0849200\ttotal: 699ms\tremaining: 215ms\n",
      "765:\tlearn: 0.0849140\ttotal: 700ms\tremaining: 214ms\n",
      "766:\tlearn: 0.0849062\ttotal: 701ms\tremaining: 213ms\n",
      "767:\tlearn: 0.0847640\ttotal: 702ms\tremaining: 212ms\n",
      "768:\tlearn: 0.0846201\ttotal: 703ms\tremaining: 211ms\n",
      "769:\tlearn: 0.0846142\ttotal: 703ms\tremaining: 210ms\n",
      "770:\tlearn: 0.0846025\ttotal: 705ms\tremaining: 209ms\n",
      "771:\tlearn: 0.0844387\ttotal: 705ms\tremaining: 208ms\n",
      "772:\tlearn: 0.0842383\ttotal: 706ms\tremaining: 207ms\n",
      "773:\tlearn: 0.0841218\ttotal: 707ms\tremaining: 206ms\n",
      "774:\tlearn: 0.0839517\ttotal: 708ms\tremaining: 205ms\n",
      "775:\tlearn: 0.0837459\ttotal: 709ms\tremaining: 205ms\n",
      "776:\tlearn: 0.0836720\ttotal: 709ms\tremaining: 204ms\n",
      "777:\tlearn: 0.0836169\ttotal: 710ms\tremaining: 203ms\n",
      "778:\tlearn: 0.0835772\ttotal: 711ms\tremaining: 202ms\n",
      "779:\tlearn: 0.0834548\ttotal: 712ms\tremaining: 201ms\n",
      "780:\tlearn: 0.0832329\ttotal: 713ms\tremaining: 200ms\n",
      "781:\tlearn: 0.0830854\ttotal: 713ms\tremaining: 199ms\n",
      "782:\tlearn: 0.0829826\ttotal: 714ms\tremaining: 198ms\n",
      "783:\tlearn: 0.0828156\ttotal: 715ms\tremaining: 197ms\n",
      "784:\tlearn: 0.0827135\ttotal: 716ms\tremaining: 196ms\n",
      "785:\tlearn: 0.0826491\ttotal: 717ms\tremaining: 195ms\n",
      "786:\tlearn: 0.0825546\ttotal: 717ms\tremaining: 194ms\n",
      "787:\tlearn: 0.0823961\ttotal: 718ms\tremaining: 193ms\n",
      "788:\tlearn: 0.0822435\ttotal: 719ms\tremaining: 192ms\n",
      "789:\tlearn: 0.0821962\ttotal: 720ms\tremaining: 191ms\n",
      "790:\tlearn: 0.0820082\ttotal: 721ms\tremaining: 190ms\n",
      "791:\tlearn: 0.0818521\ttotal: 722ms\tremaining: 189ms\n",
      "792:\tlearn: 0.0816575\ttotal: 722ms\tremaining: 189ms\n",
      "793:\tlearn: 0.0815213\ttotal: 723ms\tremaining: 188ms\n",
      "794:\tlearn: 0.0813902\ttotal: 724ms\tremaining: 187ms\n",
      "795:\tlearn: 0.0812745\ttotal: 725ms\tremaining: 186ms\n",
      "796:\tlearn: 0.0811868\ttotal: 725ms\tremaining: 185ms\n",
      "797:\tlearn: 0.0810814\ttotal: 726ms\tremaining: 184ms\n",
      "798:\tlearn: 0.0810299\ttotal: 727ms\tremaining: 183ms\n",
      "799:\tlearn: 0.0808594\ttotal: 728ms\tremaining: 182ms\n",
      "800:\tlearn: 0.0807607\ttotal: 729ms\tremaining: 181ms\n",
      "801:\tlearn: 0.0806009\ttotal: 730ms\tremaining: 180ms\n",
      "802:\tlearn: 0.0803787\ttotal: 730ms\tremaining: 179ms\n",
      "803:\tlearn: 0.0803362\ttotal: 731ms\tremaining: 178ms\n",
      "804:\tlearn: 0.0802335\ttotal: 732ms\tremaining: 177ms\n",
      "805:\tlearn: 0.0802225\ttotal: 733ms\tremaining: 176ms\n",
      "806:\tlearn: 0.0800789\ttotal: 734ms\tremaining: 175ms\n",
      "807:\tlearn: 0.0799535\ttotal: 734ms\tremaining: 175ms\n",
      "808:\tlearn: 0.0798571\ttotal: 735ms\tremaining: 174ms\n",
      "809:\tlearn: 0.0797938\ttotal: 736ms\tremaining: 173ms\n",
      "810:\tlearn: 0.0797151\ttotal: 737ms\tremaining: 172ms\n",
      "811:\tlearn: 0.0796204\ttotal: 738ms\tremaining: 171ms\n",
      "812:\tlearn: 0.0794128\ttotal: 739ms\tremaining: 170ms\n",
      "813:\tlearn: 0.0793814\ttotal: 740ms\tremaining: 169ms\n",
      "814:\tlearn: 0.0791953\ttotal: 741ms\tremaining: 168ms\n",
      "815:\tlearn: 0.0790724\ttotal: 742ms\tremaining: 167ms\n",
      "816:\tlearn: 0.0789223\ttotal: 742ms\tremaining: 166ms\n",
      "817:\tlearn: 0.0787184\ttotal: 743ms\tremaining: 165ms\n",
      "818:\tlearn: 0.0785513\ttotal: 745ms\tremaining: 165ms\n",
      "819:\tlearn: 0.0783561\ttotal: 746ms\tremaining: 164ms\n",
      "820:\tlearn: 0.0782110\ttotal: 746ms\tremaining: 163ms\n",
      "821:\tlearn: 0.0781329\ttotal: 747ms\tremaining: 162ms\n",
      "822:\tlearn: 0.0780223\ttotal: 748ms\tremaining: 161ms\n",
      "823:\tlearn: 0.0778929\ttotal: 749ms\tremaining: 160ms\n",
      "824:\tlearn: 0.0777700\ttotal: 750ms\tremaining: 159ms\n",
      "825:\tlearn: 0.0777241\ttotal: 751ms\tremaining: 158ms\n",
      "826:\tlearn: 0.0775969\ttotal: 751ms\tremaining: 157ms\n",
      "827:\tlearn: 0.0774570\ttotal: 752ms\tremaining: 156ms\n",
      "828:\tlearn: 0.0774504\ttotal: 753ms\tremaining: 155ms\n",
      "829:\tlearn: 0.0772715\ttotal: 754ms\tremaining: 154ms\n",
      "830:\tlearn: 0.0772557\ttotal: 754ms\tremaining: 153ms\n",
      "831:\tlearn: 0.0771153\ttotal: 755ms\tremaining: 153ms\n",
      "832:\tlearn: 0.0769947\ttotal: 756ms\tremaining: 152ms\n",
      "833:\tlearn: 0.0768738\ttotal: 757ms\tremaining: 151ms\n",
      "834:\tlearn: 0.0767027\ttotal: 758ms\tremaining: 150ms\n",
      "835:\tlearn: 0.0764995\ttotal: 758ms\tremaining: 149ms\n",
      "836:\tlearn: 0.0763985\ttotal: 759ms\tremaining: 148ms\n",
      "837:\tlearn: 0.0762214\ttotal: 760ms\tremaining: 147ms\n",
      "838:\tlearn: 0.0761025\ttotal: 761ms\tremaining: 146ms\n",
      "839:\tlearn: 0.0759968\ttotal: 762ms\tremaining: 145ms\n",
      "840:\tlearn: 0.0758435\ttotal: 763ms\tremaining: 144ms\n"
     ]
    },
    {
     "name": "stdout",
     "output_type": "stream",
     "text": [
      "841:\tlearn: 0.0757015\ttotal: 764ms\tremaining: 143ms\n",
      "842:\tlearn: 0.0756242\ttotal: 764ms\tremaining: 142ms\n",
      "843:\tlearn: 0.0754479\ttotal: 765ms\tremaining: 141ms\n",
      "844:\tlearn: 0.0752979\ttotal: 766ms\tremaining: 141ms\n",
      "845:\tlearn: 0.0751250\ttotal: 767ms\tremaining: 140ms\n",
      "846:\tlearn: 0.0749893\ttotal: 768ms\tremaining: 139ms\n",
      "847:\tlearn: 0.0749028\ttotal: 769ms\tremaining: 138ms\n",
      "848:\tlearn: 0.0747969\ttotal: 769ms\tremaining: 137ms\n",
      "849:\tlearn: 0.0746877\ttotal: 770ms\tremaining: 136ms\n",
      "850:\tlearn: 0.0745779\ttotal: 771ms\tremaining: 135ms\n",
      "851:\tlearn: 0.0744013\ttotal: 772ms\tremaining: 134ms\n",
      "852:\tlearn: 0.0742251\ttotal: 773ms\tremaining: 133ms\n",
      "853:\tlearn: 0.0740822\ttotal: 774ms\tremaining: 132ms\n",
      "854:\tlearn: 0.0740364\ttotal: 774ms\tremaining: 131ms\n",
      "855:\tlearn: 0.0739131\ttotal: 775ms\tremaining: 130ms\n",
      "856:\tlearn: 0.0737538\ttotal: 776ms\tremaining: 129ms\n",
      "857:\tlearn: 0.0736046\ttotal: 777ms\tremaining: 129ms\n",
      "858:\tlearn: 0.0734536\ttotal: 777ms\tremaining: 128ms\n",
      "859:\tlearn: 0.0732953\ttotal: 778ms\tremaining: 127ms\n",
      "860:\tlearn: 0.0732322\ttotal: 779ms\tremaining: 126ms\n",
      "861:\tlearn: 0.0730908\ttotal: 780ms\tremaining: 125ms\n",
      "862:\tlearn: 0.0730412\ttotal: 781ms\tremaining: 124ms\n",
      "863:\tlearn: 0.0729621\ttotal: 782ms\tremaining: 123ms\n",
      "864:\tlearn: 0.0728552\ttotal: 782ms\tremaining: 122ms\n",
      "865:\tlearn: 0.0727383\ttotal: 783ms\tremaining: 121ms\n",
      "866:\tlearn: 0.0725771\ttotal: 784ms\tremaining: 120ms\n",
      "867:\tlearn: 0.0724839\ttotal: 785ms\tremaining: 119ms\n",
      "868:\tlearn: 0.0723533\ttotal: 785ms\tremaining: 118ms\n",
      "869:\tlearn: 0.0722439\ttotal: 786ms\tremaining: 117ms\n",
      "870:\tlearn: 0.0721969\ttotal: 787ms\tremaining: 117ms\n",
      "871:\tlearn: 0.0720957\ttotal: 788ms\tremaining: 116ms\n",
      "872:\tlearn: 0.0720882\ttotal: 789ms\tremaining: 115ms\n",
      "873:\tlearn: 0.0720779\ttotal: 789ms\tremaining: 114ms\n",
      "874:\tlearn: 0.0719616\ttotal: 790ms\tremaining: 113ms\n",
      "875:\tlearn: 0.0718211\ttotal: 791ms\tremaining: 112ms\n",
      "876:\tlearn: 0.0716522\ttotal: 792ms\tremaining: 111ms\n",
      "877:\tlearn: 0.0715302\ttotal: 793ms\tremaining: 110ms\n",
      "878:\tlearn: 0.0713560\ttotal: 793ms\tremaining: 109ms\n",
      "879:\tlearn: 0.0713506\ttotal: 794ms\tremaining: 108ms\n",
      "880:\tlearn: 0.0713070\ttotal: 795ms\tremaining: 107ms\n",
      "881:\tlearn: 0.0711833\ttotal: 796ms\tremaining: 106ms\n",
      "882:\tlearn: 0.0711725\ttotal: 796ms\tremaining: 106ms\n",
      "883:\tlearn: 0.0710295\ttotal: 797ms\tremaining: 105ms\n",
      "884:\tlearn: 0.0709301\ttotal: 798ms\tremaining: 104ms\n",
      "885:\tlearn: 0.0708749\ttotal: 799ms\tremaining: 103ms\n",
      "886:\tlearn: 0.0707654\ttotal: 800ms\tremaining: 102ms\n",
      "887:\tlearn: 0.0707033\ttotal: 800ms\tremaining: 101ms\n",
      "888:\tlearn: 0.0706587\ttotal: 801ms\tremaining: 100ms\n",
      "889:\tlearn: 0.0705539\ttotal: 802ms\tremaining: 99.1ms\n",
      "890:\tlearn: 0.0704748\ttotal: 803ms\tremaining: 98.2ms\n",
      "891:\tlearn: 0.0704369\ttotal: 804ms\tremaining: 97.3ms\n",
      "892:\tlearn: 0.0703038\ttotal: 804ms\tremaining: 96.4ms\n",
      "893:\tlearn: 0.0701649\ttotal: 805ms\tremaining: 95.5ms\n",
      "894:\tlearn: 0.0700420\ttotal: 806ms\tremaining: 94.6ms\n",
      "895:\tlearn: 0.0699965\ttotal: 807ms\tremaining: 93.7ms\n",
      "896:\tlearn: 0.0697998\ttotal: 809ms\tremaining: 92.9ms\n",
      "897:\tlearn: 0.0697616\ttotal: 809ms\tremaining: 91.9ms\n",
      "898:\tlearn: 0.0696218\ttotal: 810ms\tremaining: 91ms\n",
      "899:\tlearn: 0.0695505\ttotal: 811ms\tremaining: 90.1ms\n",
      "900:\tlearn: 0.0694366\ttotal: 812ms\tremaining: 89.2ms\n",
      "901:\tlearn: 0.0692784\ttotal: 813ms\tremaining: 88.3ms\n",
      "902:\tlearn: 0.0692304\ttotal: 813ms\tremaining: 87.4ms\n",
      "903:\tlearn: 0.0691972\ttotal: 814ms\tremaining: 86.5ms\n",
      "904:\tlearn: 0.0691652\ttotal: 815ms\tremaining: 85.5ms\n",
      "905:\tlearn: 0.0691558\ttotal: 816ms\tremaining: 84.6ms\n",
      "906:\tlearn: 0.0691447\ttotal: 817ms\tremaining: 83.7ms\n",
      "907:\tlearn: 0.0690788\ttotal: 817ms\tremaining: 82.8ms\n",
      "908:\tlearn: 0.0689117\ttotal: 818ms\tremaining: 81.9ms\n",
      "909:\tlearn: 0.0688312\ttotal: 819ms\tremaining: 81ms\n",
      "910:\tlearn: 0.0687443\ttotal: 820ms\tremaining: 80.1ms\n",
      "911:\tlearn: 0.0686348\ttotal: 821ms\tremaining: 79.2ms\n",
      "912:\tlearn: 0.0684707\ttotal: 821ms\tremaining: 78.3ms\n",
      "913:\tlearn: 0.0684000\ttotal: 822ms\tremaining: 77.3ms\n",
      "914:\tlearn: 0.0682714\ttotal: 823ms\tremaining: 76.4ms\n",
      "915:\tlearn: 0.0681192\ttotal: 824ms\tremaining: 75.5ms\n",
      "916:\tlearn: 0.0679799\ttotal: 824ms\tremaining: 74.6ms\n",
      "917:\tlearn: 0.0678489\ttotal: 825ms\tremaining: 73.7ms\n",
      "918:\tlearn: 0.0677313\ttotal: 826ms\tremaining: 72.8ms\n",
      "919:\tlearn: 0.0676200\ttotal: 827ms\tremaining: 71.9ms\n",
      "920:\tlearn: 0.0675413\ttotal: 828ms\tremaining: 71ms\n",
      "921:\tlearn: 0.0674688\ttotal: 829ms\tremaining: 70.1ms\n",
      "922:\tlearn: 0.0673530\ttotal: 830ms\tremaining: 69.2ms\n",
      "923:\tlearn: 0.0672314\ttotal: 830ms\tremaining: 68.3ms\n",
      "924:\tlearn: 0.0671327\ttotal: 831ms\tremaining: 67.4ms\n",
      "925:\tlearn: 0.0669986\ttotal: 832ms\tremaining: 66.5ms\n",
      "926:\tlearn: 0.0668973\ttotal: 833ms\tremaining: 65.6ms\n",
      "927:\tlearn: 0.0668323\ttotal: 834ms\tremaining: 64.7ms\n",
      "928:\tlearn: 0.0668217\ttotal: 834ms\tremaining: 63.8ms\n",
      "929:\tlearn: 0.0667545\ttotal: 835ms\tremaining: 62.9ms\n",
      "930:\tlearn: 0.0667485\ttotal: 836ms\tremaining: 62ms\n",
      "931:\tlearn: 0.0666838\ttotal: 837ms\tremaining: 61.1ms\n",
      "932:\tlearn: 0.0665983\ttotal: 838ms\tremaining: 60.2ms\n",
      "933:\tlearn: 0.0665029\ttotal: 839ms\tremaining: 59.3ms\n",
      "934:\tlearn: 0.0663893\ttotal: 839ms\tremaining: 58.4ms\n",
      "935:\tlearn: 0.0663177\ttotal: 840ms\tremaining: 57.4ms\n",
      "936:\tlearn: 0.0662350\ttotal: 841ms\tremaining: 56.5ms\n",
      "937:\tlearn: 0.0661757\ttotal: 842ms\tremaining: 55.6ms\n",
      "938:\tlearn: 0.0661075\ttotal: 843ms\tremaining: 54.7ms\n",
      "939:\tlearn: 0.0659904\ttotal: 844ms\tremaining: 53.8ms\n",
      "940:\tlearn: 0.0659802\ttotal: 844ms\tremaining: 52.9ms\n",
      "941:\tlearn: 0.0659159\ttotal: 845ms\tremaining: 52ms\n",
      "942:\tlearn: 0.0658095\ttotal: 846ms\tremaining: 51.1ms\n",
      "943:\tlearn: 0.0657621\ttotal: 847ms\tremaining: 50.2ms\n",
      "944:\tlearn: 0.0657521\ttotal: 848ms\tremaining: 49.3ms\n",
      "945:\tlearn: 0.0656954\ttotal: 849ms\tremaining: 48.4ms\n",
      "946:\tlearn: 0.0656093\ttotal: 849ms\tremaining: 47.5ms\n",
      "947:\tlearn: 0.0655452\ttotal: 850ms\tremaining: 46.6ms\n",
      "948:\tlearn: 0.0654701\ttotal: 851ms\tremaining: 45.7ms\n",
      "949:\tlearn: 0.0653761\ttotal: 852ms\tremaining: 44.8ms\n",
      "950:\tlearn: 0.0652488\ttotal: 853ms\tremaining: 43.9ms\n",
      "951:\tlearn: 0.0651257\ttotal: 854ms\tremaining: 43ms\n",
      "952:\tlearn: 0.0650507\ttotal: 854ms\tremaining: 42.1ms\n",
      "953:\tlearn: 0.0650028\ttotal: 855ms\tremaining: 41.2ms\n",
      "954:\tlearn: 0.0649325\ttotal: 857ms\tremaining: 40.4ms\n",
      "955:\tlearn: 0.0648610\ttotal: 858ms\tremaining: 39.5ms\n",
      "956:\tlearn: 0.0647516\ttotal: 859ms\tremaining: 38.6ms\n",
      "957:\tlearn: 0.0647006\ttotal: 859ms\tremaining: 37.7ms\n",
      "958:\tlearn: 0.0645989\ttotal: 860ms\tremaining: 36.8ms\n",
      "959:\tlearn: 0.0645885\ttotal: 861ms\tremaining: 35.9ms\n",
      "960:\tlearn: 0.0645113\ttotal: 862ms\tremaining: 35ms\n",
      "961:\tlearn: 0.0644444\ttotal: 863ms\tremaining: 34.1ms\n",
      "962:\tlearn: 0.0643304\ttotal: 864ms\tremaining: 33.2ms\n",
      "963:\tlearn: 0.0643252\ttotal: 864ms\tremaining: 32.3ms\n",
      "964:\tlearn: 0.0642373\ttotal: 865ms\tremaining: 31.4ms\n",
      "965:\tlearn: 0.0642095\ttotal: 866ms\tremaining: 30.5ms\n",
      "966:\tlearn: 0.0641503\ttotal: 867ms\tremaining: 29.6ms\n",
      "967:\tlearn: 0.0640585\ttotal: 867ms\tremaining: 28.7ms\n",
      "968:\tlearn: 0.0639902\ttotal: 868ms\tremaining: 27.8ms\n"
     ]
    },
    {
     "name": "stdout",
     "output_type": "stream",
     "text": [
      "969:\tlearn: 0.0639188\ttotal: 869ms\tremaining: 26.9ms\n",
      "970:\tlearn: 0.0638920\ttotal: 870ms\tremaining: 26ms\n",
      "971:\tlearn: 0.0638875\ttotal: 871ms\tremaining: 25.1ms\n",
      "972:\tlearn: 0.0637208\ttotal: 872ms\tremaining: 24.2ms\n",
      "973:\tlearn: 0.0637160\ttotal: 874ms\tremaining: 23.3ms\n",
      "974:\tlearn: 0.0636315\ttotal: 875ms\tremaining: 22.4ms\n",
      "975:\tlearn: 0.0635113\ttotal: 876ms\tremaining: 21.5ms\n",
      "976:\tlearn: 0.0633949\ttotal: 877ms\tremaining: 20.6ms\n",
      "977:\tlearn: 0.0632480\ttotal: 878ms\tremaining: 19.7ms\n",
      "978:\tlearn: 0.0631386\ttotal: 879ms\tremaining: 18.8ms\n",
      "979:\tlearn: 0.0629995\ttotal: 880ms\tremaining: 17.9ms\n",
      "980:\tlearn: 0.0629145\ttotal: 880ms\tremaining: 17.1ms\n",
      "981:\tlearn: 0.0629085\ttotal: 882ms\tremaining: 16.2ms\n",
      "982:\tlearn: 0.0627720\ttotal: 883ms\tremaining: 15.3ms\n",
      "983:\tlearn: 0.0626356\ttotal: 883ms\tremaining: 14.4ms\n",
      "984:\tlearn: 0.0625362\ttotal: 884ms\tremaining: 13.5ms\n",
      "985:\tlearn: 0.0624695\ttotal: 885ms\tremaining: 12.6ms\n",
      "986:\tlearn: 0.0623678\ttotal: 886ms\tremaining: 11.7ms\n",
      "987:\tlearn: 0.0622957\ttotal: 887ms\tremaining: 10.8ms\n",
      "988:\tlearn: 0.0622398\ttotal: 888ms\tremaining: 9.87ms\n",
      "989:\tlearn: 0.0621605\ttotal: 888ms\tremaining: 8.97ms\n",
      "990:\tlearn: 0.0620738\ttotal: 889ms\tremaining: 8.08ms\n",
      "991:\tlearn: 0.0620661\ttotal: 890ms\tremaining: 7.18ms\n",
      "992:\tlearn: 0.0619585\ttotal: 891ms\tremaining: 6.28ms\n",
      "993:\tlearn: 0.0618997\ttotal: 892ms\tremaining: 5.38ms\n",
      "994:\tlearn: 0.0617860\ttotal: 893ms\tremaining: 4.49ms\n",
      "995:\tlearn: 0.0617129\ttotal: 893ms\tremaining: 3.59ms\n",
      "996:\tlearn: 0.0617041\ttotal: 894ms\tremaining: 2.69ms\n",
      "997:\tlearn: 0.0616384\ttotal: 895ms\tremaining: 1.79ms\n",
      "998:\tlearn: 0.0615252\ttotal: 896ms\tremaining: 896us\n",
      "999:\tlearn: 0.0614022\ttotal: 897ms\tremaining: 0us\n"
     ]
    },
    {
     "data": {
      "text/plain": [
       "<catboost.core.CatBoostRegressor at 0x7fdea186f370>"
      ]
     },
     "execution_count": 9,
     "metadata": {},
     "output_type": "execute_result"
    }
   ],
   "source": [
    "#Train the Model \n",
    "prior_model = ctb.CatBoostRegressor()\n",
    "prior_model.fit(X_train,Y_train)"
   ]
  },
  {
   "cell_type": "code",
   "execution_count": 10,
   "id": "af65dcda",
   "metadata": {
    "execution": {
     "iopub.execute_input": "2022-06-11T18:08:26.243836Z",
     "iopub.status.busy": "2022-06-11T18:08:26.243442Z",
     "iopub.status.idle": "2022-06-11T18:08:26.251348Z",
     "shell.execute_reply": "2022-06-11T18:08:26.251699Z"
    },
    "id": "af65dcda",
    "papermill": {
     "duration": 0.021784,
     "end_time": "2022-06-11T18:08:26.251821",
     "exception": false,
     "start_time": "2022-06-11T18:08:26.230037",
     "status": "completed"
    },
    "tags": []
   },
   "outputs": [
    {
     "data": {
      "application/scrapbook.scrap.json+json": {
       "data": 0.12719309363645936,
       "encoder": "json",
       "name": "Prior Model MSE",
       "version": 1
      }
     },
     "metadata": {
      "scrapbook": {
       "data": true,
       "display": false,
       "name": "Prior Model MSE"
      }
     },
     "output_type": "display_data"
    },
    {
     "data": {
      "application/scrapbook.scrap.json+json": {
       "data": 0.1709952447590923,
       "encoder": "json",
       "name": "ABC Pre-generator MSE",
       "version": 1
      }
     },
     "metadata": {
      "scrapbook": {
       "data": true,
       "display": false,
       "name": "ABC Pre-generator MSE"
      }
     },
     "output_type": "display_data"
    },
    {
     "data": {
      "application/scrapbook.scrap.json+json": {
       "data": 0.22976311213706666,
       "encoder": "json",
       "name": "Prior Model MSE",
       "version": 1
      }
     },
     "metadata": {
      "scrapbook": {
       "data": true,
       "display": false,
       "name": "Prior Model MSE"
      }
     },
     "output_type": "display_data"
    },
    {
     "data": {
      "application/scrapbook.scrap.json+json": {
       "data": 0.28757215805516384,
       "encoder": "json",
       "name": "ABC Pre-generator MSE",
       "version": 1
      }
     },
     "metadata": {
      "scrapbook": {
       "data": true,
       "display": false,
       "name": "ABC Pre-generator MSE"
      }
     },
     "output_type": "display_data"
    }
   ],
   "source": [
    "y_pred = prior_model.predict(X_test)\n",
    "y_abc = y_pred + np.random.normal(0,variance, y_pred.shape) + bias \n",
    "mse = mean_squared_error(y_pred,Y_test)\n",
    "sb.glue(\"Prior Model MSE\",mse)\n",
    "mse = mean_squared_error(y_abc,Y_test)\n",
    "sb.glue(\"ABC Pre-generator MSE\",mse)\n",
    "mae = mean_absolute_error(y_pred,Y_test)\n",
    "sb.glue(\"Prior Model MSE\",mae)\n",
    "mae = mean_absolute_error(y_abc,Y_test)\n",
    "sb.glue(\"ABC Pre-generator MSE\",mae)"
   ]
  },
  {
   "cell_type": "markdown",
   "id": "25609da2",
   "metadata": {
    "papermill": {
     "duration": 0.009778,
     "end_time": "2022-06-11T18:08:26.271856",
     "exception": false,
     "start_time": "2022-06-11T18:08:26.262078",
     "status": "completed"
    },
    "tags": []
   },
   "source": [
    "# ABC GAN Model"
   ]
  },
  {
   "cell_type": "code",
   "execution_count": 11,
   "id": "dfc3464d",
   "metadata": {
    "execution": {
     "iopub.execute_input": "2022-06-11T18:08:26.294325Z",
     "iopub.status.busy": "2022-06-11T18:08:26.293956Z",
     "iopub.status.idle": "2022-06-11T18:08:26.296575Z",
     "shell.execute_reply": "2022-06-11T18:08:26.296819Z"
    },
    "papermill": {
     "duration": 0.015265,
     "end_time": "2022-06-11T18:08:26.296927",
     "exception": false,
     "start_time": "2022-06-11T18:08:26.281662",
     "status": "completed"
    },
    "tags": []
   },
   "outputs": [],
   "source": [
    "gen = network.Generator(n_features+1).to(device)\n",
    "disc = network.Discriminator(n_features+1).to(device)\n",
    "\n",
    "criterion = torch.nn.BCELoss()\n",
    "gen_opt = torch.optim.Adam(gen.parameters(), lr=0.001, betas=(0.5, 0.999))\n",
    "disc_opt = torch.optim.Adam(disc.parameters(), lr=0.001, betas=(0.5, 0.999))"
   ]
  },
  {
   "cell_type": "code",
   "execution_count": 12,
   "id": "b75fdd85",
   "metadata": {
    "execution": {
     "iopub.execute_input": "2022-06-11T18:08:26.319437Z",
     "iopub.status.busy": "2022-06-11T18:08:26.319074Z",
     "iopub.status.idle": "2022-06-11T18:09:27.352866Z",
     "shell.execute_reply": "2022-06-11T18:09:27.353161Z"
    },
    "papermill": {
     "duration": 61.046404,
     "end_time": "2022-06-11T18:09:27.353280",
     "exception": false,
     "start_time": "2022-06-11T18:08:26.306876",
     "status": "completed"
    },
    "tags": []
   },
   "outputs": [
    {
     "data": {
      "image/png": "[encoded data removed]",
      "text/plain": [
       "<Figure size 432x288 with 1 Axes>"
      ]
     },
     "metadata": {
      "needs_background": "light"
     },
     "output_type": "display_data"
    },
    {
     "data": {
      "image/png": "[encoded data removed]",
      "text/plain": [
       "<Figure size 432x288 with 1 Axes>"
      ]
     },
     "metadata": {
      "needs_background": "light"
     },
     "output_type": "display_data"
    }
   ],
   "source": [
    "#Training the ABC_GAN \n",
    "ABC_train_test2.training_GAN(disc,gen,disc_opt,gen_opt,train_data,batch_size,n_epochs,criterion,prior_model,variance,bias,device)"
   ]
  },
  {
   "cell_type": "code",
   "execution_count": 13,
   "id": "1fa7c368",
   "metadata": {
    "execution": {
     "iopub.execute_input": "2022-06-11T18:09:27.378574Z",
     "iopub.status.busy": "2022-06-11T18:09:27.378167Z",
     "iopub.status.idle": "2022-06-11T18:09:27.682984Z",
     "shell.execute_reply": "2022-06-11T18:09:27.683326Z"
    },
    "papermill": {
     "duration": 0.319337,
     "end_time": "2022-06-11T18:09:27.683447",
     "exception": false,
     "start_time": "2022-06-11T18:09:27.364110",
     "status": "completed"
    },
    "tags": []
   },
   "outputs": [
    {
     "data": {
      "application/scrapbook.scrap.json+json": {
       "data": 0.13065469014915196,
       "encoder": "json",
       "name": "ABC-GAN Model 1 MSE",
       "version": 1
      }
     },
     "metadata": {
      "scrapbook": {
       "data": true,
       "display": false,
       "name": "ABC-GAN Model 1 MSE"
      }
     },
     "output_type": "display_data"
    },
    {
     "data": {
      "application/scrapbook.scrap.json+json": {
       "data": 0.2521154486217226,
       "encoder": "json",
       "name": "ABC-GAN Model 1 MAE",
       "version": 1
      }
     },
     "metadata": {
      "scrapbook": {
       "data": true,
       "display": false,
       "name": "ABC-GAN Model 1 MAE"
      }
     },
     "output_type": "display_data"
    },
    {
     "data": {
      "application/scrapbook.scrap.json+json": {
       "data": 25.715775759415703,
       "encoder": "json",
       "name": "ABC-GAN Model 1 Manhattan Distance",
       "version": 1
      }
     },
     "metadata": {
      "scrapbook": {
       "data": true,
       "display": false,
       "name": "ABC-GAN Model 1 Manhattan Distance"
      }
     },
     "output_type": "display_data"
    },
    {
     "data": {
      "application/scrapbook.scrap.json+json": {
       "data": 3.6496786438746827,
       "encoder": "json",
       "name": "ABC-GAN Model 1 Euclidean distance",
       "version": 1
      }
     },
     "metadata": {
      "scrapbook": {
       "data": true,
       "display": false,
       "name": "ABC-GAN Model 1 Euclidean distance"
      }
     },
     "output_type": "display_data"
    },
    {
     "data": {
      "application/scrapbook.scrap.json+json": {
       "data": [
        [
         0.13484770930671788,
         0.142373149973903,
         0.1405895785634999,
         0.12165684383033369,
         0.1274072690357712,
         0.12445803814907713,
         0.1220869375023753,
         0.13155840502356467,
         0.12936759430726433,
         0.13908078599928594,
         0.13584715335309988,
         0.13655773498316354,
         0.13517390937571047,
         0.12844402418386106,
         0.133927789109832,
         0.1208719636141658,
         0.1283489924688104,
         0.13772747379190778,
         0.1374602518033746,
         0.13432418243517,
         0.13011821322864586,
         0.12735711598873375,
         0.12124979730161707,
         0.1279228111259314,
         0.13410648694423136,
         0.13798312033835478,
         0.12330493336836455,
         0.12916371644408545,
         0.13460392715214844,
         0.12263918077539411,
         0.12067550447528033,
         0.12945469182350358,
         0.12888952579329252,
         0.1300006075161659,
         0.13828079830901863,
         0.13796169539182665,
         0.13576763089272714,
         0.14276882945062147,
         0.12066832321473621,
         0.1269234470238203,
         0.12929475080517813,
         0.12285911595480313,
         0.13053111464394948,
         0.12160862053999685,
         0.13524602838643243,
         0.13692624690117797,
         0.12936950205537312,
         0.13370952089882987,
         0.13517717430893952,
         0.13319607744449002,
         0.13344180889146096,
         0.1312028146334815,
         0.13257636398606945,
         0.12511382636904225,
         0.1252616936195422,
         0.14214191503172963,
         0.12439593257872525,
         0.1277381369648464,
         0.13155292384436726,
         0.11936700500655936,
         0.13222130640001256,
         0.12982616180276788,
         0.127277476267047,
         0.13047563134966542,
         0.141846387837544,
         0.12530438334505303,
         0.12282936870720476,
         0.1282328588907312,
         0.1308821628242058,
         0.12820366520210466,
         0.1343914170397652,
         0.1348225651592373,
         0.13211879149391562,
         0.131550854723115,
         0.12401412821289927,
         0.131096225754066,
         0.13674402477664618,
         0.1350877141063284,
         0.1318261841572201,
         0.13329161204214354,
         0.13442576458594527,
         0.1302069543500518,
         0.1310550669547589,
         0.13264815401600663,
         0.1282163603865719,
         0.12230698801326903,
         0.13441819913717232,
         0.1325701063543189,
         0.12342282291973718,
         0.11464728123083429,
         0.14295436860707952,
         0.13719239577874798,
         0.12664177657550824,
         0.13339305897335998,
         0.12565886885296826,
         0.1291177833567097,
         0.12806153349236682,
         0.1301632860607577,
         0.13674287248877498,
         0.1269217364542011
        ],
        [
         0.25480425678303137,
         0.2568503543917163,
         0.2576430200818269,
         0.24343182425032936,
         0.25164241145602334,
         0.24892497070900657,
         0.2400225119245257,
         0.24724203915170886,
         0.25965236824042365,
         0.2593127029911414,
         0.2602247362499874,
         0.2631239358463562,
         0.2523248912857882,
         0.24754192894689886,
         0.2589675911483081,
         0.24267483435972942,
         0.25046048847520175,
         0.2517580529400969,
         0.2587225721948141,
         0.256861104082097,
         0.24750192546486563,
         0.2534081480904099,
         0.24507590418900638,
         0.24970099091639414,
         0.25249122613675745,
         0.25119323549134764,
         0.24821853348254866,
         0.2513170346307258,
         0.2557845451850809,
         0.24701282092570967,
         0.25090696135828017,
         0.24864977343446193,
         0.2536875364443689,
         0.253317811718101,
         0.25757853629286676,
         0.26208048068242623,
         0.2465177496584753,
         0.26214426603423907,
         0.2467834293641442,
         0.24711776034468236,
         0.24839500378926888,
         0.25041226621753737,
         0.253750399713788,
         0.24251295112109944,
         0.2540890556467953,
         0.2548212246220632,
         0.2569929550255777,
         0.24685361586036345,
         0.250367381546062,
         0.2558247754441611,
         0.2533870858651604,
         0.250017168484263,
         0.25047079434472264,
         0.2475975785020958,
         0.24916660823110565,
         0.2524401149164666,
         0.25088575169188426,
         0.2511418219016609,
         0.25558504238542096,
         0.2449864944552674,
         0.25326885397125987,
         0.25117721279863925,
         0.2513373679773626,
         0.252520648424751,
         0.25924926951491073,
         0.24533237935975194,
         0.23969587350410282,
         0.2521804799873601,
         0.2555487855227993,
         0.2484927305349094,
         0.251672975107224,
         0.25713262167375756,
         0.25602114513772084,
         0.2580783918463424,
         0.2515399186397154,
         0.2509767314620024,
         0.25218721573222797,
         0.25254686854268404,
         0.25658398768955876,
         0.254720464869238,
         0.25190495567250193,
         0.26517642008177206,
         0.2609056385288782,
         0.2588626434387383,
         0.2513938055410251,
         0.2473814391129303,
         0.2549706498142697,
         0.25168365264749704,
         0.24956573804329132,
         0.2404889174298767,
         0.252736940733431,
         0.25269091216043804,
         0.2536076817789352,
         0.2584675007463232,
         0.25046464494959103,
         0.24963592819175592,
         0.24876684701873683,
         0.24820605894623726,
         0.25576823415672956,
         0.2462289757643114
        ],
        [
         25.9900341918692,
         26.19873614795506,
         26.27958804834634,
         24.830046073533595,
         25.667525968514383,
         25.39034701231867,
         24.48229621630162,
         25.218687993474305,
         26.484541560523212,
         26.449895705096424,
         26.542923097498715,
         26.838641456328332,
         25.737138911150396,
         25.249276752583683,
         26.414694297127426,
         24.7528331046924,
         25.54696982447058,
         25.679321399889886,
         26.389702363871038,
         26.199832616373897,
         25.245196397416294,
         25.847631105221808,
         24.99774222727865,
         25.469501073472202,
         25.75410506594926,
         25.62171002011746,
         25.318290415219963,
         25.63433753233403,
         26.090023608878255,
         25.195307734422386,
         25.592510058544576,
         25.362276890315115,
         25.876128717325628,
         25.838416795246303,
         26.27301070187241,
         26.732209029607475,
         25.144810465164483,
         26.738715135492384,
         25.17190979514271,
         25.206011555157602,
         25.336290386505425,
         25.542051154188812,
         25.882540770806372,
         24.736321014352143,
         25.917083675973117,
         25.991764911450446,
         26.21328141260892,
         25.17906881775707,
         25.537472917698324,
         26.09412709530443,
         25.845482758246362,
         25.501751185394824,
         25.54802102316171,
         25.25495300721377,
         25.414994039572775,
         25.748891721479595,
         25.590346672572196,
         25.616465833969414,
         26.069674323312938,
         24.988622434437275,
         25.833423105068505,
         25.620075705461204,
         25.63641153369099,
         25.757106139324605,
         26.443425490520895,
         25.023902694694698,
         24.448979097418487,
         25.72240895871073,
         26.065976123325527,
         25.34625851456076,
         25.670643460936844,
         26.22752741072327,
         26.114156804047525,
         26.323995968326926,
         25.65707170125097,
         25.599626609124243,
         25.72309600468725,
         25.759780591353774,
         26.171566744334996,
         25.981487416662276,
         25.694305478595197,
         27.04799484834075,
         26.612375129945576,
         26.403989630751312,
         25.642168165184557,
         25.232906789518893,
         26.00700628105551,
         25.671732570044696,
         25.455705280415714,
         24.52986957784742,
         25.779167954809964,
         25.774473040364683,
         25.867983541451395,
         26.363685076124966,
         25.547393784858286,
         25.462864675559103,
         25.374218395911157,
         25.3170180125162,
         26.088359883986413,
         25.115355527959764
        ],
        [
         3.7087014370646254,
         3.810782242183106,
         3.7868373365484014,
         3.522640780819701,
         3.6049329316436194,
         3.562965042097082,
         3.528862086458222,
         3.663189499930844,
         3.6325603393943724,
         3.766462554165004,
         3.722419863746724,
         3.73214267791073,
         3.7131844495422603,
         3.619570480976137,
         3.696029557403844,
         3.511259074555011,
         3.618231229733481,
         3.7480931587641453,
         3.74445532540371,
         3.7014951855145415,
         3.6430835495939253,
         3.604223332543481,
         3.516742715179053,
         3.6122190873263764,
         3.6984945137598335,
         3.751570107903114,
         3.546421182484278,
         3.6296968299427848,
         3.7053475639296156,
         3.536834239696596,
         3.5084044032121766,
         3.633782955268154,
         3.625842196085735,
         3.641436799760352,
         3.755614653757743,
         3.7512788392715235,
         3.7213301857075463,
         3.8160739777896575,
         3.5083000111026834,
         3.598081655053101,
         3.631537495624707,
         3.540004212905673,
         3.64885923182614,
         3.521942545681243,
         3.714174860640799,
         3.73717502719904,
         3.632587123476607,
         3.6930165355276494,
         3.713229292612001,
         3.6859191390124084,
         3.689317620770677,
         3.658235516285838,
         3.677334513826431,
         3.5723396100654137,
         3.5744499925433706,
         3.8076863491149604,
         3.5620759569428,
         3.609610778243872,
         3.6631131885495236,
         3.489331527767038,
         3.672407010776621,
         3.638992787006085,
         3.60309624895572,
         3.6480836610014675,
         3.803726010036668,
         3.5750590346447995,
         3.539575625429535,
         3.6165939234111657,
         3.653762527596586,
         3.6161822203277687,
         3.702421442523264,
         3.708355652609684,
         3.6709830743793126,
         3.663084380922411,
         3.556605274375514,
         3.656749243100315,
         3.734687473834712,
         3.712000382387573,
         3.6669157045174146,
         3.687240760826263,
         3.702894541810016,
         3.64432563634279,
         3.656175163936406,
         3.6783300164113424,
         3.6163612595301275,
         3.5320408799097205,
         3.7027903413495573,
         3.6772477273282145,
         3.548116111095181,
         3.4196524217448028,
         3.818552814604258,
         3.740805310281769,
         3.594086978733519,
         3.688643655231922,
         3.580112375750621,
         3.629051377754851,
         3.6141771423411737,
         3.6437144753942063,
         3.7346717384336525,
         3.598057408981756
        ]
       ],
       "encoder": "json",
       "name": "ABC_GAN_1 Metrics",
       "version": 1
      }
     },
     "metadata": {
      "scrapbook": {
       "data": true,
       "display": false,
       "name": "ABC_GAN_1 Metrics"
      }
     },
     "output_type": "display_data"
    },
    {
     "name": "stdout",
     "output_type": "stream",
     "text": [
      "MSE\n",
      "0.13065469014915196\n"
     ]
    }
   ],
   "source": [
    "ABC_GAN1_metrics=ABC_train_test2.test_generator(gen,test_data,prior_model,variance,bias,\"1\",device)\n",
    "sb.glue(\"ABC_GAN_1 Metrics\",ABC_GAN1_metrics)\n",
    "\n",
    "print(\"MSE\")\n",
    "print(mean(ABC_GAN1_metrics[0]))"
   ]
  },
  {
   "cell_type": "code",
   "execution_count": 14,
   "id": "eb22ce5c",
   "metadata": {
    "execution": {
     "iopub.execute_input": "2022-06-11T18:09:27.711912Z",
     "iopub.status.busy": "2022-06-11T18:09:27.711433Z",
     "iopub.status.idle": "2022-06-11T18:09:28.038495Z",
     "shell.execute_reply": "2022-06-11T18:09:28.038847Z"
    },
    "papermill": {
     "duration": 0.342846,
     "end_time": "2022-06-11T18:09:28.038977",
     "exception": false,
     "start_time": "2022-06-11T18:09:27.696131",
     "status": "completed"
    },
    "tags": []
   },
   "outputs": [
    {
     "data": {
      "image/png": "[encoded data removed]",
      "text/plain": [
       "<Figure size 432x288 with 1 Axes>"
      ]
     },
     "metadata": {
      "needs_background": "light"
     },
     "output_type": "display_data"
    },
    {
     "data": {
      "image/png": "[encoded data removed]",
      "text/plain": [
       "<Figure size 432x288 with 1 Axes>"
      ]
     },
     "metadata": {
      "needs_background": "light"
     },
     "output_type": "display_data"
    },
    {
     "data": {
      "image/png": "[encoded data removed]",
      "text/plain": [
       "<Figure size 432x288 with 1 Axes>"
      ]
     },
     "metadata": {
      "needs_background": "light"
     },
     "output_type": "display_data"
    },
    {
     "data": {
      "image/png": "[encoded data removed]",
      "text/plain": [
       "<Figure size 432x288 with 1 Axes>"
      ]
     },
     "metadata": {
      "needs_background": "light"
     },
     "output_type": "display_data"
    }
   ],
   "source": [
    "sanityChecks.discProbVsError(train_data,disc,device)\n",
    "sanityChecks.discProbVsError(test_data,disc,device)"
   ]
  },
  {
   "cell_type": "markdown",
   "id": "130f3a4d",
   "metadata": {
    "id": "130f3a4d",
    "papermill": {
     "duration": 0.014462,
     "end_time": "2022-06-11T18:09:28.068370",
     "exception": false,
     "start_time": "2022-06-11T18:09:28.053908",
     "status": "completed"
    },
    "tags": []
   },
   "source": [
    "# ABC - GAN Model with skip connection"
   ]
  },
  {
   "cell_type": "code",
   "execution_count": 15,
   "id": "4e43dad1",
   "metadata": {
    "execution": {
     "iopub.execute_input": "2022-06-11T18:09:28.101585Z",
     "iopub.status.busy": "2022-06-11T18:09:28.101201Z",
     "iopub.status.idle": "2022-06-11T18:09:28.103326Z",
     "shell.execute_reply": "2022-06-11T18:09:28.103608Z"
    },
    "id": "4e43dad1",
    "papermill": {
     "duration": 0.020778,
     "end_time": "2022-06-11T18:09:28.103718",
     "exception": false,
     "start_time": "2022-06-11T18:09:28.082940",
     "status": "completed"
    },
    "tags": []
   },
   "outputs": [],
   "source": [
    "#Generator\n",
    "gen3 = network.GeneratorWithSkipConnection(n_features+1).to(device)\n",
    "constraints=network.weightConstraint()\n",
    "#Discriminator \n",
    "disc3 = network.Discriminator(n_features+1).to(device)\n",
    "\n",
    "criterion = torch.nn.BCELoss()\n",
    "gen_opt = torch.optim.Adam(gen3.parameters(), lr=0.001, betas=(0.5, 0.999))\n",
    "disc_opt = torch.optim.Adam(disc3.parameters(), lr=0.001, betas=(0.5, 0.999))\n"
   ]
  },
  {
   "cell_type": "code",
   "execution_count": 16,
   "id": "26acbc37",
   "metadata": {
    "execution": {
     "iopub.execute_input": "2022-06-11T18:09:28.136058Z",
     "iopub.status.busy": "2022-06-11T18:09:28.135673Z",
     "iopub.status.idle": "2022-06-11T20:47:09.597971Z",
     "shell.execute_reply": "2022-06-11T20:47:09.598340Z"
    },
    "id": "26acbc37",
    "papermill": {
     "duration": 9461.479852,
     "end_time": "2022-06-11T20:47:09.598459",
     "exception": false,
     "start_time": "2022-06-11T18:09:28.118607",
     "status": "completed"
    },
    "tags": []
   },
   "outputs": [
    {
     "data": {
      "image/png": "[encoded data removed]",
      "text/plain": [
       "<Figure size 432x288 with 1 Axes>"
      ]
     },
     "metadata": {
      "needs_background": "light"
     },
     "output_type": "display_data"
    },
    {
     "data": {
      "image/png": "[encoded data removed]",
      "text/plain": [
       "<Figure size 432x288 with 1 Axes>"
      ]
     },
     "metadata": {
      "needs_background": "light"
     },
     "output_type": "display_data"
    }
   ],
   "source": [
    "ABC_train_test2.training_GAN_skip_connection(disc3,gen3,disc_opt,gen_opt,train_data,batch_size,n_epochs,criterion,prior_model,variance,bias,device)"
   ]
  },
  {
   "cell_type": "code",
   "execution_count": 17,
   "id": "c5e0717b",
   "metadata": {
    "execution": {
     "iopub.execute_input": "2022-06-11T20:47:09.631312Z",
     "iopub.status.busy": "2022-06-11T20:47:09.630928Z",
     "iopub.status.idle": "2022-06-11T20:47:10.470756Z",
     "shell.execute_reply": "2022-06-11T20:47:10.471056Z"
    },
    "id": "c5e0717b",
    "papermill": {
     "duration": 0.857549,
     "end_time": "2022-06-11T20:47:10.471177",
     "exception": false,
     "start_time": "2022-06-11T20:47:09.613628",
     "status": "completed"
    },
    "tags": []
   },
   "outputs": [
    {
     "data": {
      "application/scrapbook.scrap.json+json": {
       "data": 0.12258525136142391,
       "encoder": "json",
       "name": "ABC-GAN Model 3 MSE",
       "version": 1
      }
     },
     "metadata": {
      "scrapbook": {
       "data": true,
       "display": false,
       "name": "ABC-GAN Model 3 MSE"
      }
     },
     "output_type": "display_data"
    },
    {
     "data": {
      "application/scrapbook.scrap.json+json": {
       "data": 0.2390228976617914,
       "encoder": "json",
       "name": "ABC-GAN Model 3 MAE",
       "version": 1
      }
     },
     "metadata": {
      "scrapbook": {
       "data": true,
       "display": false,
       "name": "ABC-GAN Model 3 MAE"
      }
     },
     "output_type": "display_data"
    },
    {
     "data": {
      "application/scrapbook.scrap.json+json": {
       "data": 24.380335561502726,
       "encoder": "json",
       "name": "ABC-GAN Model 3 Manhattan Distance",
       "version": 1
      }
     },
     "metadata": {
      "scrapbook": {
       "data": true,
       "display": false,
       "name": "ABC-GAN Model 3 Manhattan Distance"
      }
     },
     "output_type": "display_data"
    },
    {
     "data": {
      "application/scrapbook.scrap.json+json": {
       "data": 3.534887741280749,
       "encoder": "json",
       "name": "ABC-GAN Model 3 Euclidean distance",
       "version": 1
      }
     },
     "metadata": {
      "scrapbook": {
       "data": true,
       "display": false,
       "name": "ABC-GAN Model 3 Euclidean distance"
      }
     },
     "output_type": "display_data"
    },
    {
     "data": {
      "application/scrapbook.scrap.json+json": {
       "data": [
        [
         0.12108372111138485,
         0.12189571745095953,
         0.11787679774361956,
         0.11473218130442266,
         0.12761308326533838,
         0.12714035153604342,
         0.11968735947692193,
         0.12132932673718154,
         0.1215898295351596,
         0.117975973002694,
         0.12347525389998132,
         0.12202036815476754,
         0.12033334106592743,
         0.11973935068091965,
         0.12851907884957398,
         0.1124332917341308,
         0.11825273166062576,
         0.11823396864545789,
         0.1247298898261435,
         0.13258148917997542,
         0.12632924751740318,
         0.1207860520968651,
         0.11998912257472863,
         0.12425791785888678,
         0.11899994996088395,
         0.11985596106511981,
         0.12092469008237884,
         0.11439375677880843,
         0.10573712607017414,
         0.12380180065477106,
         0.1294656682130789,
         0.1314524074900578,
         0.12275592167247812,
         0.11978527109690935,
         0.1098034641368874,
         0.1255407902239412,
         0.13221734273514762,
         0.13331271734495856,
         0.12753112411081965,
         0.1329286530347764,
         0.11737319391877206,
         0.12115584572365211,
         0.12702505538873402,
         0.12252589120377527,
         0.11354553148909435,
         0.12153025983113389,
         0.11188567068105297,
         0.12234726412655995,
         0.11003676065187655,
         0.12272139520274153,
         0.1299801964302756,
         0.12853572405981126,
         0.12239911860388729,
         0.10977590326539016,
         0.12137611128053395,
         0.12291970490295197,
         0.1263203147875116,
         0.11057258459913989,
         0.12339331922517711,
         0.11861695544324562,
         0.13744820698964558,
         0.1147646485342038,
         0.11674632673583259,
         0.12345735586433754,
         0.12058187419316417,
         0.12957520063938383,
         0.12211133230951372,
         0.12632344232293455,
         0.12861149944968167,
         0.1276656471759004,
         0.12188130808714745,
         0.11895970146556645,
         0.11970734380250089,
         0.12517455854563678,
         0.10921056397863513,
         0.12902732133820183,
         0.1280035729511127,
         0.12548075562030672,
         0.12415842548648154,
         0.13202942819443647,
         0.1327362990707028,
         0.11714181608110127,
         0.13203564205128893,
         0.1192663446511802,
         0.12190056356325711,
         0.1253971232794256,
         0.12082518586262098,
         0.1325053780195574,
         0.12708053629602775,
         0.12651742802441265,
         0.11815029011737418,
         0.1337312580671598,
         0.11527220597475539,
         0.11240018613594698,
         0.12766489334036174,
         0.12660422038281352,
         0.12312900697944144,
         0.11940174667775082,
         0.129113245853418,
         0.1215843616335497
        ],
        [
         0.2354975339828753,
         0.24072168553795883,
         0.23764328321661143,
         0.23520753876872214,
         0.23682815704823418,
         0.24337742027516165,
         0.23888404989688128,
         0.22845377651609333,
         0.2413217618093625,
         0.24342088690758043,
         0.2404558316110542,
         0.2284364266887161,
         0.24123989013662817,
         0.24042415342238896,
         0.24227826937339178,
         0.22819108640382468,
         0.23474798751447132,
         0.23128391837920337,
         0.2451591784517993,
         0.24781628430583605,
         0.2458809965481872,
         0.2347099407685592,
         0.2356990956263069,
         0.24332428941795348,
         0.2317841981135893,
         0.2346870605468604,
         0.24234103734659798,
         0.23548478007718338,
         0.22412026632467613,
         0.23801355179874042,
         0.24350278051204832,
         0.24658371952782368,
         0.24127342754646258,
         0.23323962458537198,
         0.22546905388270377,
         0.24438454573243565,
         0.24594608695228018,
         0.2509903679419236,
         0.2435763901117824,
         0.24688826560261934,
         0.24008820979289858,
         0.23504807008430362,
         0.24071560130801564,
         0.24353392172933502,
         0.2325883124425423,
         0.23970835747690322,
         0.23394201469479822,
         0.24179847548514896,
         0.22252913501442356,
         0.24158132458836132,
         0.23989515454855329,
         0.24835283063607766,
         0.24043044096370245,
         0.23097477193154833,
         0.24116011178486196,
         0.23041596652154683,
         0.24370314263026505,
         0.22764637249101902,
         0.2425674680967395,
         0.23963872798919386,
         0.25364074497209754,
         0.23178544741890886,
         0.234273009066123,
         0.24032257879883342,
         0.23803196515997543,
         0.23716687226174948,
         0.24425872640830337,
         0.24761779512296997,
         0.23889391245685665,
         0.24855449214102884,
         0.2414187776271765,
         0.23097810776465955,
         0.24062076295890353,
         0.23914787961243122,
         0.22959315748291784,
         0.24296864650814848,
         0.23966725859973653,
         0.23659764033943123,
         0.24033094375558636,
         0.24742444492328694,
         0.24404375402110756,
         0.2317592987662875,
         0.25103501453265253,
         0.23810630115936054,
         0.24745443988792307,
         0.24140049970946184,
         0.233732680160114,
         0.2439282898261559,
         0.24261005696676233,
         0.2405818849710711,
         0.23094645006509096,
         0.24880277930631065,
         0.2330432285773842,
         0.2356474737308043,
         0.2396462924833245,
         0.24091236052267692,
         0.2423978137381959,
         0.23537960191092946,
         0.23771226708320717,
         0.23424910596005766
        ],
        [
         24.02074846625328,
         24.553611924871802,
         24.239614888094366,
         23.99116895440966,
         24.156472018919885,
         24.82449686806649,
         24.36617308948189,
         23.30228520464152,
         24.614819704554975,
         24.828930464573205,
         24.52649482432753,
         23.300515522249043,
         24.606468793936074,
         24.523263649083674,
         24.71238347608596,
         23.275490813190117,
         23.944294726476073,
         23.590959674678743,
         25.006236202083528,
         25.277260999195278,
         25.079861647915095,
         23.940413958393037,
         24.041307753883302,
         24.819077520631254,
         23.64198820758611,
         23.93808017577976,
         24.718785809352994,
         24.019447567872703,
         22.860267165116966,
         24.277382283471525,
         24.83728361222893,
         25.151539391838014,
         24.609889609739184,
         23.79044170770794,
         22.997843496035784,
         24.927223664708436,
         25.08650086913258,
         25.601017530076206,
         24.844791791401803,
         25.182603091467172,
         24.488997398875654,
         23.97490314859897,
         24.552991333417594,
         24.84046001639217,
         23.724007869139314,
         24.45025246264413,
         23.86208549886942,
         24.663444499485195,
         22.697971771471202,
         24.641295108012855,
         24.469305763952434,
         25.33198872487992,
         24.52390497829765,
         23.55942673701793,
         24.59833140205592,
         23.502428585197777,
         24.857720548287034,
         23.21992999408394,
         24.74188174586743,
         24.443150254897773,
         25.871355987153947,
         23.642115636728704,
         23.895846924744546,
         24.51290303748101,
         24.279260446317494,
         24.191020970698446,
         24.914390093646944,
         25.257015102542937,
         24.367179070599377,
         25.35255819838494,
         24.624715317972004,
         23.559766991995275,
         24.54331782180816,
         24.393083720467985,
         23.41850206325762,
         24.782801943831146,
         24.446060377173126,
         24.132959314621985,
         24.51375626306981,
         25.237293382175267,
         24.89246291015297,
         23.639448474161327,
         25.60557148233056,
         24.286842718254775,
         25.240352868568152,
         24.622850970365107,
         23.840733376331627,
         24.8806855622679,
         24.746225810609758,
         24.539352267049253,
         23.556537906639278,
         25.377883489243686,
         23.770409314893186,
         24.036042320542037,
         24.4439218332991,
         24.573060773313046,
         24.724577001295984,
         24.008719394914806,
         24.246651242487133,
         23.89340880792588
        ],
        [
         3.5143334436790785,
         3.5260974433497814,
         3.4674822811153905,
         3.4209183698315737,
         3.6078434684814846,
         3.601154794878502,
         3.494010684964491,
         3.517895866450926,
         3.521670429297193,
         3.4689406518813177,
         3.5488696648085134,
         3.5278998783676228,
         3.503427006336024,
         3.4947694873129755,
         3.6206278519970185,
         3.386472465100128,
         3.473007145023434,
         3.472731605211768,
         3.5668541829273925,
         3.6774055931264207,
         3.5896494601527755,
         3.5100110133559754,
         3.4984125689549987,
         3.56009938366985,
         3.48396252792853,
         3.496470796194674,
         3.5120248274183132,
         3.4158693170902277,
         3.284080824090321,
         3.5535592955214135,
         3.633937005196161,
         3.6617134737696078,
         3.5385172050723117,
         3.4954395505980003,
         3.3466331352513854,
         3.578429907493229,
         3.672351965564446,
         3.6875326668635453,
         3.6066847185890256,
         3.682217078004389,
         3.4600673085526457,
         3.5153799600914413,
         3.5995215862182106,
         3.5352002634624635,
         3.403181483830626,
         3.5208076492156812,
         3.378215269852914,
         3.5326223886666845,
         3.350186500255084,
         3.538019546395926,
         3.6411509218773275,
         3.620862308083635,
         3.5333709255605332,
         3.346213103355761,
         3.518574050750454,
         3.5408769959010282,
         3.5895225460116813,
         3.358333460082883,
         3.547692004806514,
         3.4783515427873373,
         3.7442912697790804,
         3.4214023660611423,
         3.45081516848627,
         3.548612446881516,
         3.5070430803887684,
         3.6354738982995247,
         3.5292146287198785,
         3.5895669818154,
         3.621929450426599,
         3.6085864284982607,
         3.5258890261732625,
         3.4833733003351464,
         3.4943023721273883,
         3.573206539182271,
         3.337585583295322,
         3.627779868803588,
         3.613359163024552,
         3.5775741883672074,
         3.5586738259667903,
         3.669741363615767,
         3.679551943540366,
         3.4566552099207595,
         3.6698277192848523,
         3.4878599677195146,
         3.5261675347964143,
         3.576381771357947,
         3.510579575794762,
         3.6763498960238867,
         3.600307584387037,
         3.592322042703032,
         3.471502497762627,
         3.6933167103364273,
         3.428959756168778,
         3.38597386077722,
         3.6085757745566176,
         3.59355401782789,
         3.5438903357613962,
         3.4898392743979736,
         3.6289876104843106,
         3.5215912435463124
        ]
       ],
       "encoder": "json",
       "name": "ABC_GAN_3 Metrics",
       "version": 1
      }
     },
     "metadata": {
      "scrapbook": {
       "data": true,
       "display": false,
       "name": "ABC_GAN_3 Metrics"
      }
     },
     "output_type": "display_data"
    },
    {
     "name": "stdout",
     "output_type": "stream",
     "text": [
      "MSE\n",
      "0.12258525136142391\n"
     ]
    }
   ],
   "source": [
    "ABC_GAN3_metrics=ABC_train_test2.test_generator(gen3,test_data,prior_model,variance,bias,\"3\",device)\n",
    "sb.glue(\"ABC_GAN_3 Metrics\",ABC_GAN3_metrics)\n",
    "\n",
    "print(\"MSE\")\n",
    "print(mean(ABC_GAN3_metrics[0]))"
   ]
  },
  {
   "cell_type": "code",
   "execution_count": 18,
   "id": "c8e46b48",
   "metadata": {
    "execution": {
     "iopub.execute_input": "2022-06-11T20:47:10.507310Z",
     "iopub.status.busy": "2022-06-11T20:47:10.506939Z",
     "iopub.status.idle": "2022-06-11T20:47:10.815549Z",
     "shell.execute_reply": "2022-06-11T20:47:10.815914Z"
    },
    "id": "c8e46b48",
    "papermill": {
     "duration": 0.327915,
     "end_time": "2022-06-11T20:47:10.816034",
     "exception": false,
     "start_time": "2022-06-11T20:47:10.488119",
     "status": "completed"
    },
    "tags": []
   },
   "outputs": [
    {
     "data": {
      "image/png": "[encoded data removed]",
      "text/plain": [
       "<Figure size 432x288 with 1 Axes>"
      ]
     },
     "metadata": {
      "needs_background": "light"
     },
     "output_type": "display_data"
    },
    {
     "data": {
      "image/png": "[encoded data removed]",
      "text/plain": [
       "<Figure size 432x288 with 1 Axes>"
      ]
     },
     "metadata": {
      "needs_background": "light"
     },
     "output_type": "display_data"
    },
    {
     "data": {
      "image/png": "[encoded data removed]",
      "text/plain": [
       "<Figure size 432x288 with 1 Axes>"
      ]
     },
     "metadata": {
      "needs_background": "light"
     },
     "output_type": "display_data"
    },
    {
     "data": {
      "image/png": "[encoded data removed]",
      "text/plain": [
       "<Figure size 432x288 with 1 Axes>"
      ]
     },
     "metadata": {
      "needs_background": "light"
     },
     "output_type": "display_data"
    }
   ],
   "source": [
    "sanityChecks.discProbVsError(train_data,disc3,device)\n",
    "sanityChecks.discProbVsError(test_data,disc3,device)"
   ]
  },
  {
   "cell_type": "markdown",
   "id": "a5bd74c3",
   "metadata": {
    "id": "a5bd74c3",
    "papermill": {
     "duration": 0.01873,
     "end_time": "2022-06-11T20:47:10.854203",
     "exception": false,
     "start_time": "2022-06-11T20:47:10.835473",
     "status": "completed"
    },
    "tags": []
   },
   "source": [
    "## Skip Connection Model Analysis - ABC-GAN "
   ]
  },
  {
   "cell_type": "markdown",
   "id": "5744a8bf",
   "metadata": {
    "id": "5744a8bf",
    "papermill": {
     "duration": 0.018556,
     "end_time": "2022-06-11T20:47:10.891374",
     "exception": false,
     "start_time": "2022-06-11T20:47:10.872818",
     "status": "completed"
    },
    "tags": []
   },
   "source": [
    "### Weight Analysis \n",
    "\n",
    "Study the weights of the skip connection layer\n",
    "\n",
    "Equation of the skip connection is \n",
    "\n",
    "$output = y_{gan} * w + y_{abc} * (1-w)$"
   ]
  },
  {
   "cell_type": "code",
   "execution_count": 19,
   "id": "52c31dea",
   "metadata": {
    "execution": {
     "iopub.execute_input": "2022-06-11T20:47:10.931891Z",
     "iopub.status.busy": "2022-06-11T20:47:10.931506Z",
     "iopub.status.idle": "2022-06-11T20:47:10.935085Z",
     "shell.execute_reply": "2022-06-11T20:47:10.935334Z"
    },
    "id": "52c31dea",
    "papermill": {
     "duration": 0.025458,
     "end_time": "2022-06-11T20:47:10.935445",
     "exception": false,
     "start_time": "2022-06-11T20:47:10.909987",
     "status": "completed"
    },
    "tags": []
   },
   "outputs": [
    {
     "name": "stdout",
     "output_type": "stream",
     "text": [
      "Weight of the node at skip connection\n",
      "Parameter containing:\n",
      "tensor([[0.4993]], requires_grad=True)\n"
     ]
    },
    {
     "data": {
      "application/scrapbook.scrap.json+json": {
       "data": 0.49933725595474243,
       "encoder": "json",
       "name": "Skip Connection Weight",
       "version": 1
      }
     },
     "metadata": {
      "scrapbook": {
       "data": true,
       "display": false,
       "name": "Skip Connection Weight"
      }
     },
     "output_type": "display_data"
    }
   ],
   "source": [
    "print(\"Weight of the node at skip connection\")\n",
    "for name,param in gen3.named_parameters():\n",
    "    if(name == \"skipNode.weight\"):\n",
    "        print(param)\n",
    "        sb.glue(\"Skip Connection Weight\",param.item())"
   ]
  }
 ],
 "metadata": {
  "colab": {
   "collapsed_sections": [],
   "name": "ABC_GAN_Model-Catboost_Pre-gen.ipynb",
   "provenance": []
  },
  "interpreter": {
   "hash": "31f2aee4e71d21fbe5cf8b01ff0e069b9275f58929596ceb00d14d90e3e16cd6"
  },
  "kernelspec": {
   "display_name": "Python 3 (ipykernel)",
   "language": "python",
   "name": "python3"
  },
  "language_info": {
   "codemirror_mode": {
    "name": "ipython",
    "version": 3
   },
   "file_extension": ".py",
   "mimetype": "text/x-python",
   "name": "python",
   "nbconvert_exporter": "python",
   "pygments_lexer": "ipython3",
   "version": "3.8.11"
  },
  "papermill": {
   "default_parameters": {},
   "duration": 9812.319632,
   "end_time": "2022-06-11T20:51:54.713738",
   "environment_variables": {},
   "exception": null,
   "input_path": "ABC_GAN-Catboost.ipynb",
   "output_path": "./ABC_GAN_Catboost/ABC-GAN_output_3_4.ipynb",
   "parameters": {
    "bias": 0.1,
    "variance": 0.1
   },
   "start_time": "2022-06-11T18:08:22.394106",
   "version": "2.3.3"
  }
 },
 "nbformat": 4,
 "nbformat_minor": 5
}