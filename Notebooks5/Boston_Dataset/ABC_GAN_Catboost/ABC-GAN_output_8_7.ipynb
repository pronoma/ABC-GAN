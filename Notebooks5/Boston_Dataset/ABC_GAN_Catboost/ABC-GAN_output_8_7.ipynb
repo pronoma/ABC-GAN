{
 "cells": [
  {
   "cell_type": "markdown",
   "id": "622780e6",
   "metadata": {
    "id": "622780e6",
    "papermill": {
     "duration": 0.035582,
     "end_time": "2022-06-12T07:10:59.794897",
     "exception": false,
     "start_time": "2022-06-12T07:10:59.759315",
     "status": "completed"
    },
    "tags": []
   },
   "source": [
    "## Import Libraries "
   ]
  },
  {
   "cell_type": "code",
   "execution_count": 1,
   "id": "a62397e3",
   "metadata": {
    "execution": {
     "iopub.execute_input": "2022-06-12T07:10:59.830952Z",
     "iopub.status.busy": "2022-06-12T07:10:59.830438Z",
     "iopub.status.idle": "2022-06-12T07:10:59.832656Z",
     "shell.execute_reply": "2022-06-12T07:10:59.832979Z"
    },
    "id": "a62397e3",
    "papermill": {
     "duration": 0.021978,
     "end_time": "2022-06-12T07:10:59.833179",
     "exception": false,
     "start_time": "2022-06-12T07:10:59.811201",
     "status": "completed"
    },
    "tags": []
   },
   "outputs": [],
   "source": [
    "import warnings\n",
    "import sys\n",
    "sys.path.insert(0, '../../src')\n",
    "warnings.filterwarnings('ignore')"
   ]
  },
  {
   "cell_type": "code",
   "execution_count": 2,
   "id": "d6a4e155",
   "metadata": {
    "execution": {
     "iopub.execute_input": "2022-06-12T07:10:59.853526Z",
     "iopub.status.busy": "2022-06-12T07:10:59.853106Z",
     "iopub.status.idle": "2022-06-12T07:11:01.598286Z",
     "shell.execute_reply": "2022-06-12T07:11:01.598542Z"
    },
    "id": "d6a4e155",
    "papermill": {
     "duration": 1.755987,
     "end_time": "2022-06-12T07:11:01.598664",
     "exception": false,
     "start_time": "2022-06-12T07:10:59.842677",
     "status": "completed"
    },
    "tags": []
   },
   "outputs": [],
   "source": [
    "import ABC_train_test2\n",
    "import bostonDataset\n",
    "import network\n",
    "import dataset\n",
    "import sanityChecks\n",
    "import torch \n",
    "import scrapbook as sb\n",
    "from statistics import mean \n",
    "import catboost as ctb \n",
    "from sklearn.model_selection import train_test_split\n",
    "from sklearn.metrics import mean_squared_error,mean_absolute_error\n",
    "import numpy as np"
   ]
  },
  {
   "cell_type": "markdown",
   "id": "2fa5b0f7",
   "metadata": {
    "id": "2fa5b0f7",
    "papermill": {
     "duration": 0.006761,
     "end_time": "2022-06-12T07:11:01.612566",
     "exception": false,
     "start_time": "2022-06-12T07:11:01.605805",
     "status": "completed"
    },
    "tags": []
   },
   "source": [
    "## Parameters "
   ]
  },
  {
   "cell_type": "code",
   "execution_count": 3,
   "id": "783186fb",
   "metadata": {
    "execution": {
     "iopub.execute_input": "2022-06-12T07:11:01.628201Z",
     "iopub.status.busy": "2022-06-12T07:11:01.627817Z",
     "iopub.status.idle": "2022-06-12T07:11:01.629098Z",
     "shell.execute_reply": "2022-06-12T07:11:01.629345Z"
    },
    "id": "783186fb",
    "papermill": {
     "duration": 0.010135,
     "end_time": "2022-06-12T07:11:01.629460",
     "exception": false,
     "start_time": "2022-06-12T07:11:01.619325",
     "status": "completed"
    },
    "tags": [
     "parameters"
    ]
   },
   "outputs": [],
   "source": [
    "variance = 1\n",
    "bias = 1 "
   ]
  },
  {
   "cell_type": "code",
   "execution_count": 4,
   "id": "d6500c70",
   "metadata": {
    "execution": {
     "iopub.execute_input": "2022-06-12T07:11:01.645025Z",
     "iopub.status.busy": "2022-06-12T07:11:01.644643Z",
     "iopub.status.idle": "2022-06-12T07:11:01.645813Z",
     "shell.execute_reply": "2022-06-12T07:11:01.646061Z"
    },
    "papermill": {
     "duration": 0.00982,
     "end_time": "2022-06-12T07:11:01.646167",
     "exception": false,
     "start_time": "2022-06-12T07:11:01.636347",
     "status": "completed"
    },
    "tags": [
     "injected-parameters"
    ]
   },
   "outputs": [],
   "source": [
    "# Parameters\n",
    "variance = 0.1\n",
    "bias = 0.01\n"
   ]
  },
  {
   "cell_type": "markdown",
   "id": "391cdbfd",
   "metadata": {
    "id": "391cdbfd",
    "papermill": {
     "duration": 0.006769,
     "end_time": "2022-06-12T07:11:01.659847",
     "exception": false,
     "start_time": "2022-06-12T07:11:01.653078",
     "status": "completed"
    },
    "tags": []
   },
   "source": [
    "## Dataset \n"
   ]
  },
  {
   "cell_type": "code",
   "execution_count": 5,
   "id": "5b51f161",
   "metadata": {
    "execution": {
     "iopub.execute_input": "2022-06-12T07:11:01.675382Z",
     "iopub.status.busy": "2022-06-12T07:11:01.675018Z",
     "iopub.status.idle": "2022-06-12T07:11:01.676276Z",
     "shell.execute_reply": "2022-06-12T07:11:01.676511Z"
    },
    "id": "5b51f161",
    "papermill": {
     "duration": 0.009934,
     "end_time": "2022-06-12T07:11:01.676613",
     "exception": false,
     "start_time": "2022-06-12T07:11:01.666679",
     "status": "completed"
    },
    "tags": []
   },
   "outputs": [],
   "source": [
    "#Parameters \n",
    "n_features = 13\n",
    "n_samples= 506\n",
    "n_target = 1 "
   ]
  },
  {
   "cell_type": "code",
   "execution_count": 6,
   "id": "5d6eced4",
   "metadata": {
    "execution": {
     "iopub.execute_input": "2022-06-12T07:11:01.692450Z",
     "iopub.status.busy": "2022-06-12T07:11:01.692095Z",
     "iopub.status.idle": "2022-06-12T07:11:01.702616Z",
     "shell.execute_reply": "2022-06-12T07:11:01.702851Z"
    },
    "id": "5d6eced4",
    "papermill": {
     "duration": 0.019409,
     "end_time": "2022-06-12T07:11:01.702960",
     "exception": false,
     "start_time": "2022-06-12T07:11:01.683551",
     "status": "completed"
    },
    "tags": []
   },
   "outputs": [
    {
     "name": "stdout",
     "output_type": "stream",
     "text": [
      "         X1        X2        X3        X4        X5        X6        X7  \\\n",
      "0 -0.419782  0.284830 -1.287909 -0.272599 -0.144217  0.413672 -0.120013   \n",
      "1 -0.417339 -0.487722 -0.593381 -0.272599 -0.740262  0.194274  0.367166   \n",
      "2 -0.417342 -0.487722 -0.593381 -0.272599 -0.740262  1.282714 -0.265812   \n",
      "3 -0.416750 -0.487722 -1.306878 -0.272599 -0.835284  1.016303 -0.809889   \n",
      "4 -0.412482 -0.487722 -1.306878 -0.272599 -0.835284  1.228577 -0.511180   \n",
      "\n",
      "         X8        X9       X10       X11       X12       X13         Y  \n",
      "0  0.140214 -0.982843 -0.666608 -1.459000  0.441052 -1.075562  0.159686  \n",
      "1  0.557160 -0.867883 -0.987329 -0.303094  0.441052 -0.492439 -0.101524  \n",
      "2  0.557160 -0.867883 -0.987329 -0.303094  0.396427 -1.208727  1.324247  \n",
      "3  1.077737 -0.752922 -1.106115  0.113032  0.416163 -1.361517  1.182758  \n",
      "4  1.077737 -0.752922 -1.106115  0.113032  0.441052 -1.026501  1.487503  \n"
     ]
    }
   ],
   "source": [
    "X,Y = bostonDataset.boston_data()"
   ]
  },
  {
   "cell_type": "code",
   "execution_count": 7,
   "id": "fe007438",
   "metadata": {
    "execution": {
     "iopub.execute_input": "2022-06-12T07:11:01.720018Z",
     "iopub.status.busy": "2022-06-12T07:11:01.719578Z",
     "iopub.status.idle": "2022-06-12T07:11:01.721110Z",
     "shell.execute_reply": "2022-06-12T07:11:01.721346Z"
    },
    "id": "fe007438",
    "papermill": {
     "duration": 0.011123,
     "end_time": "2022-06-12T07:11:01.721452",
     "exception": false,
     "start_time": "2022-06-12T07:11:01.710329",
     "status": "completed"
    },
    "tags": []
   },
   "outputs": [],
   "source": [
    "#Train test split for dataset \n",
    "X_train,X_test,Y_train,Y_test = train_test_split(X,Y,test_size = 0.2)\n",
    "train_data = dataset.CustomDataset(X_train,Y_train)\n",
    "test_data = dataset.CustomDataset(X_test,Y_test)\n"
   ]
  },
  {
   "cell_type": "markdown",
   "id": "a9a1af34",
   "metadata": {
    "id": "a9a1af34",
    "papermill": {
     "duration": 0.007075,
     "end_time": "2022-06-12T07:11:01.735836",
     "exception": false,
     "start_time": "2022-06-12T07:11:01.728761",
     "status": "completed"
    },
    "tags": []
   },
   "source": [
    "## Training Parameters "
   ]
  },
  {
   "cell_type": "code",
   "execution_count": 8,
   "id": "952b7fc8",
   "metadata": {
    "execution": {
     "iopub.execute_input": "2022-06-12T07:11:01.752193Z",
     "iopub.status.busy": "2022-06-12T07:11:01.751830Z",
     "iopub.status.idle": "2022-06-12T07:11:01.753058Z",
     "shell.execute_reply": "2022-06-12T07:11:01.753303Z"
    },
    "id": "952b7fc8",
    "papermill": {
     "duration": 0.010518,
     "end_time": "2022-06-12T07:11:01.753408",
     "exception": false,
     "start_time": "2022-06-12T07:11:01.742890",
     "status": "completed"
    },
    "tags": []
   },
   "outputs": [],
   "source": [
    "batch_size = 32\n",
    "n_epochs = 1000\n",
    "#Select the device \n",
    "device = torch.device('cuda' if torch.cuda.is_available() else 'cpu')"
   ]
  },
  {
   "cell_type": "markdown",
   "id": "a95e1600",
   "metadata": {
    "id": "a95e1600",
    "papermill": {
     "duration": 0.007033,
     "end_time": "2022-06-12T07:11:01.767654",
     "exception": false,
     "start_time": "2022-06-12T07:11:01.760621",
     "status": "completed"
    },
    "tags": []
   },
   "source": [
    "# ABC Pre-generator Model \n",
    "\n",
    "1. The catboost model is used as a pre-generator model for the ABC-GAN. \n",
    "2. The model is first trained on the entire dataset \n",
    "3. It generats X,Y pairs and we add some Gaussian noise with mean 0 and variance 1 to it which is then feed as input to the generator.\n"
   ]
  },
  {
   "cell_type": "code",
   "execution_count": 9,
   "id": "ff8ce7bd",
   "metadata": {
    "execution": {
     "iopub.execute_input": "2022-06-12T07:11:01.786581Z",
     "iopub.status.busy": "2022-06-12T07:11:01.786197Z",
     "iopub.status.idle": "2022-06-12T07:11:02.746032Z",
     "shell.execute_reply": "2022-06-12T07:11:02.746403Z"
    },
    "id": "ff8ce7bd",
    "papermill": {
     "duration": 0.971729,
     "end_time": "2022-06-12T07:11:02.746527",
     "exception": false,
     "start_time": "2022-06-12T07:11:01.774798",
     "status": "completed"
    },
    "tags": []
   },
   "outputs": [
    {
     "name": "stdout",
     "output_type": "stream",
     "text": [
      "Learning rate set to 0.033215\n",
      "0:\tlearn: 0.9707465\ttotal: 58.9ms\tremaining: 58.9s\n",
      "1:\tlearn: 0.9530554\ttotal: 59.9ms\tremaining: 29.9s\n",
      "2:\tlearn: 0.9323111\ttotal: 61ms\tremaining: 20.3s\n",
      "3:\tlearn: 0.9183073\ttotal: 61.9ms\tremaining: 15.4s\n",
      "4:\tlearn: 0.9024668\ttotal: 63ms\tremaining: 12.5s\n",
      "5:\tlearn: 0.8858837\ttotal: 63.9ms\tremaining: 10.6s\n",
      "6:\tlearn: 0.8694887\ttotal: 64.9ms\tremaining: 9.2s\n",
      "7:\tlearn: 0.8530745\ttotal: 65.8ms\tremaining: 8.15s\n",
      "8:\tlearn: 0.8380654\ttotal: 66.6ms\tremaining: 7.33s\n",
      "9:\tlearn: 0.8222019\ttotal: 67.4ms\tremaining: 6.67s\n",
      "10:\tlearn: 0.8062376\ttotal: 68.2ms\tremaining: 6.13s\n",
      "11:\tlearn: 0.7917586\ttotal: 68.9ms\tremaining: 5.67s\n",
      "12:\tlearn: 0.7773248\ttotal: 69.7ms\tremaining: 5.29s\n",
      "13:\tlearn: 0.7630295\ttotal: 70.4ms\tremaining: 4.96s\n",
      "14:\tlearn: 0.7504725\ttotal: 71.2ms\tremaining: 4.68s\n",
      "15:\tlearn: 0.7374866\ttotal: 72ms\tremaining: 4.42s\n",
      "16:\tlearn: 0.7254759\ttotal: 73ms\tremaining: 4.22s\n",
      "17:\tlearn: 0.7130875\ttotal: 73.7ms\tremaining: 4.02s\n",
      "18:\tlearn: 0.7006823\ttotal: 74.4ms\tremaining: 3.84s\n",
      "19:\tlearn: 0.6892404\ttotal: 75.2ms\tremaining: 3.69s\n",
      "20:\tlearn: 0.6756107\ttotal: 76.2ms\tremaining: 3.55s\n",
      "21:\tlearn: 0.6650238\ttotal: 77ms\tremaining: 3.42s\n",
      "22:\tlearn: 0.6547948\ttotal: 77.7ms\tremaining: 3.3s\n",
      "23:\tlearn: 0.6453514\ttotal: 78.5ms\tremaining: 3.19s\n",
      "24:\tlearn: 0.6351549\ttotal: 79.1ms\tremaining: 3.09s\n",
      "25:\tlearn: 0.6266595\ttotal: 79.9ms\tremaining: 2.99s\n",
      "26:\tlearn: 0.6175728\ttotal: 80.6ms\tremaining: 2.9s\n",
      "27:\tlearn: 0.6092740\ttotal: 81.4ms\tremaining: 2.82s\n",
      "28:\tlearn: 0.6006134\ttotal: 82.2ms\tremaining: 2.75s\n",
      "29:\tlearn: 0.5907123\ttotal: 83.1ms\tremaining: 2.69s\n",
      "30:\tlearn: 0.5819805\ttotal: 84ms\tremaining: 2.62s\n",
      "31:\tlearn: 0.5742713\ttotal: 84.8ms\tremaining: 2.56s\n",
      "32:\tlearn: 0.5677499\ttotal: 85.7ms\tremaining: 2.51s\n",
      "33:\tlearn: 0.5605194\ttotal: 86.4ms\tremaining: 2.45s\n",
      "34:\tlearn: 0.5542668\ttotal: 87.1ms\tremaining: 2.4s\n",
      "35:\tlearn: 0.5464559\ttotal: 87.9ms\tremaining: 2.35s\n",
      "36:\tlearn: 0.5398341\ttotal: 88.7ms\tremaining: 2.31s\n",
      "37:\tlearn: 0.5327138\ttotal: 89.5ms\tremaining: 2.27s\n",
      "38:\tlearn: 0.5259689\ttotal: 90.3ms\tremaining: 2.23s\n",
      "39:\tlearn: 0.5185073\ttotal: 91.1ms\tremaining: 2.19s\n",
      "40:\tlearn: 0.5110984\ttotal: 91.9ms\tremaining: 2.15s\n",
      "41:\tlearn: 0.5042428\ttotal: 92.8ms\tremaining: 2.12s\n",
      "42:\tlearn: 0.4988942\ttotal: 93.5ms\tremaining: 2.08s\n",
      "43:\tlearn: 0.4920355\ttotal: 94.4ms\tremaining: 2.05s\n",
      "44:\tlearn: 0.4868006\ttotal: 95.1ms\tremaining: 2.02s\n",
      "45:\tlearn: 0.4809535\ttotal: 95.9ms\tremaining: 1.99s\n",
      "46:\tlearn: 0.4757738\ttotal: 96.8ms\tremaining: 1.96s\n",
      "47:\tlearn: 0.4699107\ttotal: 97.6ms\tremaining: 1.94s\n",
      "48:\tlearn: 0.4643120\ttotal: 98.4ms\tremaining: 1.91s\n",
      "49:\tlearn: 0.4595623\ttotal: 99.3ms\tremaining: 1.89s\n",
      "50:\tlearn: 0.4537773\ttotal: 100ms\tremaining: 1.86s\n",
      "51:\tlearn: 0.4483872\ttotal: 101ms\tremaining: 1.84s\n",
      "52:\tlearn: 0.4426324\ttotal: 102ms\tremaining: 1.82s\n",
      "53:\tlearn: 0.4393351\ttotal: 102ms\tremaining: 1.79s\n",
      "54:\tlearn: 0.4343538\ttotal: 103ms\tremaining: 1.77s\n",
      "55:\tlearn: 0.4306881\ttotal: 104ms\tremaining: 1.75s\n",
      "56:\tlearn: 0.4274107\ttotal: 105ms\tremaining: 1.74s\n",
      "57:\tlearn: 0.4225420\ttotal: 106ms\tremaining: 1.72s\n",
      "58:\tlearn: 0.4191723\ttotal: 107ms\tremaining: 1.7s\n",
      "59:\tlearn: 0.4159980\ttotal: 107ms\tremaining: 1.68s\n",
      "60:\tlearn: 0.4112752\ttotal: 108ms\tremaining: 1.67s\n"
     ]
    },
    {
     "name": "stdout",
     "output_type": "stream",
     "text": [
      "61:\tlearn: 0.4079648\ttotal: 109ms\tremaining: 1.65s\n",
      "62:\tlearn: 0.4051936\ttotal: 110ms\tremaining: 1.64s\n",
      "63:\tlearn: 0.4013960\ttotal: 111ms\tremaining: 1.62s\n",
      "64:\tlearn: 0.3980060\ttotal: 112ms\tremaining: 1.61s\n",
      "65:\tlearn: 0.3951794\ttotal: 113ms\tremaining: 1.59s\n",
      "66:\tlearn: 0.3915528\ttotal: 113ms\tremaining: 1.58s\n",
      "67:\tlearn: 0.3881625\ttotal: 115ms\tremaining: 1.57s\n",
      "68:\tlearn: 0.3847298\ttotal: 116ms\tremaining: 1.56s\n",
      "69:\tlearn: 0.3822510\ttotal: 116ms\tremaining: 1.55s\n",
      "70:\tlearn: 0.3782252\ttotal: 117ms\tremaining: 1.53s\n",
      "71:\tlearn: 0.3757434\ttotal: 118ms\tremaining: 1.52s\n",
      "72:\tlearn: 0.3719249\ttotal: 119ms\tremaining: 1.51s\n",
      "73:\tlearn: 0.3685802\ttotal: 120ms\tremaining: 1.5s\n",
      "74:\tlearn: 0.3655828\ttotal: 121ms\tremaining: 1.49s\n",
      "75:\tlearn: 0.3630504\ttotal: 121ms\tremaining: 1.48s\n",
      "76:\tlearn: 0.3596111\ttotal: 122ms\tremaining: 1.47s\n",
      "77:\tlearn: 0.3571881\ttotal: 123ms\tremaining: 1.45s\n",
      "78:\tlearn: 0.3550882\ttotal: 124ms\tremaining: 1.45s\n",
      "79:\tlearn: 0.3523574\ttotal: 125ms\tremaining: 1.43s\n",
      "80:\tlearn: 0.3499538\ttotal: 126ms\tremaining: 1.43s\n",
      "81:\tlearn: 0.3469031\ttotal: 126ms\tremaining: 1.42s\n",
      "82:\tlearn: 0.3440123\ttotal: 127ms\tremaining: 1.41s\n",
      "83:\tlearn: 0.3418722\ttotal: 128ms\tremaining: 1.4s\n",
      "84:\tlearn: 0.3395609\ttotal: 129ms\tremaining: 1.39s\n",
      "85:\tlearn: 0.3365204\ttotal: 130ms\tremaining: 1.38s\n",
      "86:\tlearn: 0.3341320\ttotal: 131ms\tremaining: 1.37s\n",
      "87:\tlearn: 0.3314028\ttotal: 132ms\tremaining: 1.36s\n",
      "88:\tlearn: 0.3291236\ttotal: 132ms\tremaining: 1.35s\n",
      "89:\tlearn: 0.3266803\ttotal: 133ms\tremaining: 1.35s\n",
      "90:\tlearn: 0.3247423\ttotal: 134ms\tremaining: 1.34s\n",
      "91:\tlearn: 0.3230598\ttotal: 135ms\tremaining: 1.33s\n",
      "92:\tlearn: 0.3216067\ttotal: 136ms\tremaining: 1.32s\n",
      "93:\tlearn: 0.3195082\ttotal: 137ms\tremaining: 1.32s\n",
      "94:\tlearn: 0.3173717\ttotal: 137ms\tremaining: 1.31s\n",
      "95:\tlearn: 0.3155285\ttotal: 138ms\tremaining: 1.3s\n",
      "96:\tlearn: 0.3140797\ttotal: 139ms\tremaining: 1.29s\n",
      "97:\tlearn: 0.3122713\ttotal: 140ms\tremaining: 1.29s\n",
      "98:\tlearn: 0.3107723\ttotal: 141ms\tremaining: 1.28s\n",
      "99:\tlearn: 0.3095669\ttotal: 142ms\tremaining: 1.27s\n",
      "100:\tlearn: 0.3079619\ttotal: 142ms\tremaining: 1.27s\n",
      "101:\tlearn: 0.3064293\ttotal: 143ms\tremaining: 1.26s\n",
      "102:\tlearn: 0.3048726\ttotal: 144ms\tremaining: 1.25s\n",
      "103:\tlearn: 0.3036050\ttotal: 145ms\tremaining: 1.25s\n",
      "104:\tlearn: 0.3020897\ttotal: 146ms\tremaining: 1.25s\n",
      "105:\tlearn: 0.3002447\ttotal: 147ms\tremaining: 1.24s\n",
      "106:\tlearn: 0.2984854\ttotal: 148ms\tremaining: 1.23s\n",
      "107:\tlearn: 0.2962256\ttotal: 149ms\tremaining: 1.23s\n",
      "108:\tlearn: 0.2947347\ttotal: 150ms\tremaining: 1.22s\n",
      "109:\tlearn: 0.2933966\ttotal: 151ms\tremaining: 1.22s\n",
      "110:\tlearn: 0.2920246\ttotal: 151ms\tremaining: 1.21s\n",
      "111:\tlearn: 0.2905382\ttotal: 152ms\tremaining: 1.21s\n",
      "112:\tlearn: 0.2891522\ttotal: 153ms\tremaining: 1.2s\n",
      "113:\tlearn: 0.2875934\ttotal: 154ms\tremaining: 1.2s\n",
      "114:\tlearn: 0.2862755\ttotal: 155ms\tremaining: 1.19s\n",
      "115:\tlearn: 0.2849488\ttotal: 155ms\tremaining: 1.18s\n",
      "116:\tlearn: 0.2838448\ttotal: 156ms\tremaining: 1.18s\n",
      "117:\tlearn: 0.2824551\ttotal: 157ms\tremaining: 1.17s\n",
      "118:\tlearn: 0.2814256\ttotal: 158ms\tremaining: 1.17s\n",
      "119:\tlearn: 0.2804720\ttotal: 159ms\tremaining: 1.16s\n",
      "120:\tlearn: 0.2790890\ttotal: 160ms\tremaining: 1.16s\n",
      "121:\tlearn: 0.2779474\ttotal: 161ms\tremaining: 1.16s\n",
      "122:\tlearn: 0.2766526\ttotal: 161ms\tremaining: 1.15s\n",
      "123:\tlearn: 0.2751745\ttotal: 162ms\tremaining: 1.14s\n",
      "124:\tlearn: 0.2743779\ttotal: 163ms\tremaining: 1.14s\n",
      "125:\tlearn: 0.2730920\ttotal: 164ms\tremaining: 1.13s\n",
      "126:\tlearn: 0.2715543\ttotal: 164ms\tremaining: 1.13s\n",
      "127:\tlearn: 0.2704793\ttotal: 165ms\tremaining: 1.13s\n",
      "128:\tlearn: 0.2691588\ttotal: 166ms\tremaining: 1.12s\n",
      "129:\tlearn: 0.2681841\ttotal: 167ms\tremaining: 1.12s\n",
      "130:\tlearn: 0.2672723\ttotal: 168ms\tremaining: 1.11s\n",
      "131:\tlearn: 0.2664477\ttotal: 169ms\tremaining: 1.11s\n",
      "132:\tlearn: 0.2657072\ttotal: 169ms\tremaining: 1.1s\n",
      "133:\tlearn: 0.2647906\ttotal: 170ms\tremaining: 1.1s\n",
      "134:\tlearn: 0.2640081\ttotal: 171ms\tremaining: 1.09s\n",
      "135:\tlearn: 0.2627089\ttotal: 172ms\tremaining: 1.09s\n",
      "136:\tlearn: 0.2617000\ttotal: 172ms\tremaining: 1.09s\n",
      "137:\tlearn: 0.2608992\ttotal: 173ms\tremaining: 1.08s\n",
      "138:\tlearn: 0.2597256\ttotal: 174ms\tremaining: 1.08s\n",
      "139:\tlearn: 0.2585716\ttotal: 175ms\tremaining: 1.07s\n",
      "140:\tlearn: 0.2577689\ttotal: 176ms\tremaining: 1.07s\n",
      "141:\tlearn: 0.2565304\ttotal: 177ms\tremaining: 1.07s\n",
      "142:\tlearn: 0.2561295\ttotal: 178ms\tremaining: 1.06s\n",
      "143:\tlearn: 0.2550598\ttotal: 179ms\tremaining: 1.06s\n",
      "144:\tlearn: 0.2542523\ttotal: 180ms\tremaining: 1.06s\n",
      "145:\tlearn: 0.2535146\ttotal: 180ms\tremaining: 1.05s\n",
      "146:\tlearn: 0.2527219\ttotal: 181ms\tremaining: 1.05s\n",
      "147:\tlearn: 0.2517766\ttotal: 182ms\tremaining: 1.05s\n",
      "148:\tlearn: 0.2509080\ttotal: 183ms\tremaining: 1.04s\n",
      "149:\tlearn: 0.2505185\ttotal: 184ms\tremaining: 1.04s\n",
      "150:\tlearn: 0.2494832\ttotal: 184ms\tremaining: 1.03s\n",
      "151:\tlearn: 0.2488200\ttotal: 185ms\tremaining: 1.03s\n",
      "152:\tlearn: 0.2482802\ttotal: 186ms\tremaining: 1.03s\n",
      "153:\tlearn: 0.2475347\ttotal: 187ms\tremaining: 1.02s\n",
      "154:\tlearn: 0.2466516\ttotal: 188ms\tremaining: 1.02s\n",
      "155:\tlearn: 0.2456882\ttotal: 188ms\tremaining: 1.02s\n",
      "156:\tlearn: 0.2446178\ttotal: 189ms\tremaining: 1.01s\n",
      "157:\tlearn: 0.2441304\ttotal: 190ms\tremaining: 1.01s\n",
      "158:\tlearn: 0.2437975\ttotal: 191ms\tremaining: 1.01s\n"
     ]
    },
    {
     "name": "stdout",
     "output_type": "stream",
     "text": [
      "159:\tlearn: 0.2433508\ttotal: 192ms\tremaining: 1.01s\n",
      "160:\tlearn: 0.2428142\ttotal: 193ms\tremaining: 1s\n",
      "161:\tlearn: 0.2422374\ttotal: 193ms\tremaining: 1s\n",
      "162:\tlearn: 0.2417794\ttotal: 194ms\tremaining: 998ms\n",
      "163:\tlearn: 0.2406195\ttotal: 195ms\tremaining: 994ms\n",
      "164:\tlearn: 0.2397135\ttotal: 196ms\tremaining: 991ms\n",
      "165:\tlearn: 0.2389930\ttotal: 197ms\tremaining: 988ms\n",
      "166:\tlearn: 0.2384165\ttotal: 198ms\tremaining: 986ms\n",
      "167:\tlearn: 0.2380562\ttotal: 198ms\tremaining: 982ms\n",
      "168:\tlearn: 0.2373686\ttotal: 199ms\tremaining: 979ms\n",
      "169:\tlearn: 0.2361702\ttotal: 200ms\tremaining: 976ms\n",
      "170:\tlearn: 0.2354728\ttotal: 201ms\tremaining: 973ms\n",
      "171:\tlearn: 0.2350338\ttotal: 202ms\tremaining: 970ms\n",
      "172:\tlearn: 0.2341630\ttotal: 202ms\tremaining: 968ms\n",
      "173:\tlearn: 0.2332534\ttotal: 203ms\tremaining: 965ms\n",
      "174:\tlearn: 0.2329370\ttotal: 204ms\tremaining: 962ms\n",
      "175:\tlearn: 0.2327016\ttotal: 205ms\tremaining: 958ms\n",
      "176:\tlearn: 0.2320156\ttotal: 206ms\tremaining: 956ms\n",
      "177:\tlearn: 0.2318096\ttotal: 206ms\tremaining: 953ms\n",
      "178:\tlearn: 0.2311287\ttotal: 207ms\tremaining: 950ms\n",
      "179:\tlearn: 0.2305132\ttotal: 208ms\tremaining: 948ms\n",
      "180:\tlearn: 0.2295962\ttotal: 209ms\tremaining: 945ms\n",
      "181:\tlearn: 0.2291214\ttotal: 210ms\tremaining: 942ms\n",
      "182:\tlearn: 0.2285100\ttotal: 210ms\tremaining: 939ms\n",
      "183:\tlearn: 0.2278295\ttotal: 211ms\tremaining: 937ms\n",
      "184:\tlearn: 0.2274431\ttotal: 212ms\tremaining: 934ms\n",
      "185:\tlearn: 0.2269300\ttotal: 213ms\tremaining: 931ms\n",
      "186:\tlearn: 0.2263787\ttotal: 214ms\tremaining: 928ms\n",
      "187:\tlearn: 0.2255667\ttotal: 214ms\tremaining: 926ms\n",
      "188:\tlearn: 0.2248786\ttotal: 215ms\tremaining: 923ms\n",
      "189:\tlearn: 0.2241366\ttotal: 216ms\tremaining: 920ms\n",
      "190:\tlearn: 0.2235599\ttotal: 217ms\tremaining: 918ms\n",
      "191:\tlearn: 0.2227427\ttotal: 217ms\tremaining: 915ms\n",
      "192:\tlearn: 0.2224933\ttotal: 218ms\tremaining: 913ms\n",
      "193:\tlearn: 0.2219766\ttotal: 219ms\tremaining: 911ms\n",
      "194:\tlearn: 0.2217212\ttotal: 220ms\tremaining: 908ms\n",
      "195:\tlearn: 0.2213184\ttotal: 221ms\tremaining: 906ms\n",
      "196:\tlearn: 0.2208458\ttotal: 222ms\tremaining: 903ms\n",
      "197:\tlearn: 0.2200571\ttotal: 222ms\tremaining: 901ms\n",
      "198:\tlearn: 0.2196763\ttotal: 223ms\tremaining: 899ms\n",
      "199:\tlearn: 0.2188933\ttotal: 224ms\tremaining: 896ms\n",
      "200:\tlearn: 0.2184634\ttotal: 225ms\tremaining: 894ms\n",
      "201:\tlearn: 0.2181378\ttotal: 226ms\tremaining: 892ms\n",
      "202:\tlearn: 0.2175006\ttotal: 227ms\tremaining: 890ms\n",
      "203:\tlearn: 0.2167776\ttotal: 228ms\tremaining: 888ms\n",
      "204:\tlearn: 0.2161808\ttotal: 228ms\tremaining: 885ms\n",
      "205:\tlearn: 0.2153883\ttotal: 229ms\tremaining: 883ms\n",
      "206:\tlearn: 0.2146315\ttotal: 230ms\tremaining: 881ms\n",
      "207:\tlearn: 0.2140008\ttotal: 231ms\tremaining: 878ms\n",
      "208:\tlearn: 0.2134785\ttotal: 231ms\tremaining: 876ms\n",
      "209:\tlearn: 0.2128238\ttotal: 232ms\tremaining: 874ms\n",
      "210:\tlearn: 0.2122599\ttotal: 233ms\tremaining: 871ms\n",
      "211:\tlearn: 0.2119224\ttotal: 234ms\tremaining: 869ms\n",
      "212:\tlearn: 0.2112240\ttotal: 235ms\tremaining: 867ms\n",
      "213:\tlearn: 0.2105001\ttotal: 235ms\tremaining: 864ms\n",
      "214:\tlearn: 0.2098237\ttotal: 236ms\tremaining: 862ms\n",
      "215:\tlearn: 0.2092077\ttotal: 237ms\tremaining: 860ms\n",
      "216:\tlearn: 0.2085425\ttotal: 238ms\tremaining: 858ms\n",
      "217:\tlearn: 0.2078416\ttotal: 239ms\tremaining: 856ms\n",
      "218:\tlearn: 0.2073263\ttotal: 239ms\tremaining: 854ms\n",
      "219:\tlearn: 0.2066773\ttotal: 240ms\tremaining: 851ms\n",
      "220:\tlearn: 0.2062181\ttotal: 241ms\tremaining: 849ms\n",
      "221:\tlearn: 0.2057415\ttotal: 242ms\tremaining: 848ms\n",
      "222:\tlearn: 0.2050297\ttotal: 243ms\tremaining: 846ms\n",
      "223:\tlearn: 0.2046131\ttotal: 244ms\tremaining: 844ms\n",
      "224:\tlearn: 0.2041715\ttotal: 244ms\tremaining: 842ms\n",
      "225:\tlearn: 0.2034748\ttotal: 245ms\tremaining: 840ms\n",
      "226:\tlearn: 0.2028068\ttotal: 246ms\tremaining: 838ms\n",
      "227:\tlearn: 0.2024648\ttotal: 247ms\tremaining: 836ms\n",
      "228:\tlearn: 0.2020713\ttotal: 248ms\tremaining: 834ms\n",
      "229:\tlearn: 0.2015256\ttotal: 249ms\tremaining: 833ms\n",
      "230:\tlearn: 0.2013501\ttotal: 249ms\tremaining: 830ms\n",
      "231:\tlearn: 0.2008849\ttotal: 250ms\tremaining: 828ms\n",
      "232:\tlearn: 0.2007510\ttotal: 251ms\tremaining: 826ms\n",
      "233:\tlearn: 0.2003438\ttotal: 252ms\tremaining: 824ms\n",
      "234:\tlearn: 0.1996907\ttotal: 253ms\tremaining: 822ms\n",
      "235:\tlearn: 0.1995212\ttotal: 253ms\tremaining: 820ms\n",
      "236:\tlearn: 0.1988703\ttotal: 254ms\tremaining: 818ms\n",
      "237:\tlearn: 0.1984211\ttotal: 255ms\tremaining: 816ms\n",
      "238:\tlearn: 0.1982381\ttotal: 256ms\tremaining: 815ms\n",
      "239:\tlearn: 0.1980024\ttotal: 257ms\tremaining: 813ms\n",
      "240:\tlearn: 0.1974877\ttotal: 257ms\tremaining: 811ms\n",
      "241:\tlearn: 0.1969661\ttotal: 258ms\tremaining: 809ms\n",
      "242:\tlearn: 0.1964142\ttotal: 260ms\tremaining: 809ms\n",
      "243:\tlearn: 0.1960309\ttotal: 260ms\tremaining: 807ms\n",
      "244:\tlearn: 0.1956677\ttotal: 261ms\tremaining: 805ms\n",
      "245:\tlearn: 0.1953257\ttotal: 262ms\tremaining: 803ms\n",
      "246:\tlearn: 0.1950805\ttotal: 263ms\tremaining: 801ms\n",
      "247:\tlearn: 0.1950019\ttotal: 264ms\tremaining: 799ms\n",
      "248:\tlearn: 0.1944806\ttotal: 264ms\tremaining: 798ms\n",
      "249:\tlearn: 0.1938446\ttotal: 265ms\tremaining: 796ms\n",
      "250:\tlearn: 0.1935505\ttotal: 266ms\tremaining: 794ms\n",
      "251:\tlearn: 0.1933597\ttotal: 267ms\tremaining: 792ms\n",
      "252:\tlearn: 0.1927700\ttotal: 268ms\tremaining: 791ms\n",
      "253:\tlearn: 0.1923402\ttotal: 269ms\tremaining: 790ms\n",
      "254:\tlearn: 0.1920767\ttotal: 270ms\tremaining: 788ms\n",
      "255:\tlearn: 0.1915122\ttotal: 271ms\tremaining: 787ms\n",
      "256:\tlearn: 0.1911056\ttotal: 271ms\tremaining: 785ms\n",
      "257:\tlearn: 0.1904179\ttotal: 272ms\tremaining: 783ms\n",
      "258:\tlearn: 0.1897428\ttotal: 273ms\tremaining: 781ms\n",
      "259:\tlearn: 0.1892759\ttotal: 274ms\tremaining: 780ms\n",
      "260:\tlearn: 0.1887550\ttotal: 275ms\tremaining: 778ms\n",
      "261:\tlearn: 0.1883882\ttotal: 276ms\tremaining: 776ms\n",
      "262:\tlearn: 0.1881616\ttotal: 276ms\tremaining: 775ms\n",
      "263:\tlearn: 0.1875694\ttotal: 277ms\tremaining: 773ms\n",
      "264:\tlearn: 0.1872097\ttotal: 278ms\tremaining: 772ms\n",
      "265:\tlearn: 0.1864491\ttotal: 279ms\tremaining: 771ms\n",
      "266:\tlearn: 0.1861430\ttotal: 280ms\tremaining: 770ms\n",
      "267:\tlearn: 0.1856433\ttotal: 281ms\tremaining: 769ms\n",
      "268:\tlearn: 0.1850732\ttotal: 282ms\tremaining: 768ms\n",
      "269:\tlearn: 0.1847773\ttotal: 283ms\tremaining: 766ms\n",
      "270:\tlearn: 0.1846572\ttotal: 284ms\tremaining: 765ms\n",
      "271:\tlearn: 0.1841835\ttotal: 285ms\tremaining: 763ms\n",
      "272:\tlearn: 0.1835585\ttotal: 286ms\tremaining: 762ms\n",
      "273:\tlearn: 0.1834906\ttotal: 287ms\tremaining: 761ms\n",
      "274:\tlearn: 0.1831359\ttotal: 288ms\tremaining: 760ms\n",
      "275:\tlearn: 0.1826039\ttotal: 289ms\tremaining: 758ms\n",
      "276:\tlearn: 0.1823730\ttotal: 290ms\tremaining: 757ms\n",
      "277:\tlearn: 0.1819507\ttotal: 291ms\tremaining: 755ms\n",
      "278:\tlearn: 0.1816563\ttotal: 292ms\tremaining: 754ms\n",
      "279:\tlearn: 0.1810497\ttotal: 293ms\tremaining: 752ms\n",
      "280:\tlearn: 0.1806355\ttotal: 294ms\tremaining: 751ms\n",
      "281:\tlearn: 0.1804024\ttotal: 295ms\tremaining: 750ms\n",
      "282:\tlearn: 0.1803524\ttotal: 295ms\tremaining: 749ms\n",
      "283:\tlearn: 0.1800899\ttotal: 297ms\tremaining: 748ms\n",
      "284:\tlearn: 0.1794573\ttotal: 297ms\tremaining: 746ms\n",
      "285:\tlearn: 0.1787510\ttotal: 298ms\tremaining: 745ms\n",
      "286:\tlearn: 0.1785038\ttotal: 299ms\tremaining: 743ms\n"
     ]
    },
    {
     "name": "stdout",
     "output_type": "stream",
     "text": [
      "287:\tlearn: 0.1779971\ttotal: 300ms\tremaining: 743ms\n",
      "288:\tlearn: 0.1773768\ttotal: 301ms\tremaining: 742ms\n",
      "289:\tlearn: 0.1769864\ttotal: 302ms\tremaining: 740ms\n",
      "290:\tlearn: 0.1765082\ttotal: 303ms\tremaining: 738ms\n",
      "291:\tlearn: 0.1759364\ttotal: 304ms\tremaining: 737ms\n",
      "292:\tlearn: 0.1754127\ttotal: 305ms\tremaining: 735ms\n",
      "293:\tlearn: 0.1749344\ttotal: 305ms\tremaining: 734ms\n",
      "294:\tlearn: 0.1745546\ttotal: 306ms\tremaining: 732ms\n",
      "295:\tlearn: 0.1740719\ttotal: 307ms\tremaining: 731ms\n",
      "296:\tlearn: 0.1738420\ttotal: 308ms\tremaining: 729ms\n",
      "297:\tlearn: 0.1736766\ttotal: 309ms\tremaining: 727ms\n",
      "298:\tlearn: 0.1731227\ttotal: 310ms\tremaining: 726ms\n",
      "299:\tlearn: 0.1728129\ttotal: 310ms\tremaining: 724ms\n",
      "300:\tlearn: 0.1724130\ttotal: 311ms\tremaining: 723ms\n",
      "301:\tlearn: 0.1718708\ttotal: 312ms\tremaining: 721ms\n",
      "302:\tlearn: 0.1716918\ttotal: 313ms\tremaining: 720ms\n",
      "303:\tlearn: 0.1715921\ttotal: 314ms\tremaining: 718ms\n",
      "304:\tlearn: 0.1713213\ttotal: 314ms\tremaining: 717ms\n",
      "305:\tlearn: 0.1711019\ttotal: 315ms\tremaining: 715ms\n",
      "306:\tlearn: 0.1708753\ttotal: 316ms\tremaining: 713ms\n",
      "307:\tlearn: 0.1701938\ttotal: 318ms\tremaining: 713ms\n",
      "308:\tlearn: 0.1697511\ttotal: 318ms\tremaining: 712ms\n",
      "309:\tlearn: 0.1691699\ttotal: 319ms\tremaining: 710ms\n",
      "310:\tlearn: 0.1690153\ttotal: 320ms\tremaining: 709ms\n",
      "311:\tlearn: 0.1685978\ttotal: 321ms\tremaining: 707ms\n",
      "312:\tlearn: 0.1681210\ttotal: 322ms\tremaining: 706ms\n",
      "313:\tlearn: 0.1676026\ttotal: 322ms\tremaining: 705ms\n",
      "314:\tlearn: 0.1674615\ttotal: 323ms\tremaining: 703ms\n",
      "315:\tlearn: 0.1669826\ttotal: 324ms\tremaining: 701ms\n",
      "316:\tlearn: 0.1668427\ttotal: 325ms\tremaining: 700ms\n",
      "317:\tlearn: 0.1667205\ttotal: 326ms\tremaining: 699ms\n",
      "318:\tlearn: 0.1663581\ttotal: 327ms\tremaining: 699ms\n",
      "319:\tlearn: 0.1657718\ttotal: 328ms\tremaining: 697ms\n",
      "320:\tlearn: 0.1654134\ttotal: 329ms\tremaining: 695ms\n",
      "321:\tlearn: 0.1652880\ttotal: 330ms\tremaining: 694ms\n",
      "322:\tlearn: 0.1652094\ttotal: 330ms\tremaining: 693ms\n",
      "323:\tlearn: 0.1646936\ttotal: 331ms\tremaining: 691ms\n",
      "324:\tlearn: 0.1641331\ttotal: 332ms\tremaining: 689ms\n",
      "325:\tlearn: 0.1636639\ttotal: 333ms\tremaining: 688ms\n",
      "326:\tlearn: 0.1633433\ttotal: 334ms\tremaining: 687ms\n",
      "327:\tlearn: 0.1630477\ttotal: 334ms\tremaining: 685ms\n",
      "328:\tlearn: 0.1627014\ttotal: 335ms\tremaining: 683ms\n",
      "329:\tlearn: 0.1624446\ttotal: 336ms\tremaining: 682ms\n",
      "330:\tlearn: 0.1619698\ttotal: 337ms\tremaining: 681ms\n",
      "331:\tlearn: 0.1614575\ttotal: 337ms\tremaining: 679ms\n",
      "332:\tlearn: 0.1610289\ttotal: 338ms\tremaining: 677ms\n",
      "333:\tlearn: 0.1609412\ttotal: 339ms\tremaining: 676ms\n",
      "334:\tlearn: 0.1605119\ttotal: 340ms\tremaining: 675ms\n",
      "335:\tlearn: 0.1604516\ttotal: 341ms\tremaining: 673ms\n",
      "336:\tlearn: 0.1602019\ttotal: 342ms\tremaining: 672ms\n",
      "337:\tlearn: 0.1598122\ttotal: 343ms\tremaining: 671ms\n",
      "338:\tlearn: 0.1594433\ttotal: 343ms\tremaining: 669ms\n",
      "339:\tlearn: 0.1593338\ttotal: 344ms\tremaining: 668ms\n",
      "340:\tlearn: 0.1589404\ttotal: 345ms\tremaining: 667ms\n",
      "341:\tlearn: 0.1586363\ttotal: 346ms\tremaining: 666ms\n",
      "342:\tlearn: 0.1582899\ttotal: 347ms\tremaining: 664ms\n",
      "343:\tlearn: 0.1579763\ttotal: 348ms\tremaining: 663ms\n",
      "344:\tlearn: 0.1578825\ttotal: 349ms\tremaining: 662ms\n",
      "345:\tlearn: 0.1573990\ttotal: 349ms\tremaining: 660ms\n",
      "346:\tlearn: 0.1570063\ttotal: 350ms\tremaining: 659ms\n",
      "347:\tlearn: 0.1564113\ttotal: 351ms\tremaining: 658ms\n",
      "348:\tlearn: 0.1561369\ttotal: 352ms\tremaining: 656ms\n",
      "349:\tlearn: 0.1558849\ttotal: 353ms\tremaining: 655ms\n",
      "350:\tlearn: 0.1557507\ttotal: 354ms\tremaining: 654ms\n",
      "351:\tlearn: 0.1555434\ttotal: 354ms\tremaining: 652ms\n",
      "352:\tlearn: 0.1551493\ttotal: 355ms\tremaining: 651ms\n",
      "353:\tlearn: 0.1548149\ttotal: 356ms\tremaining: 650ms\n",
      "354:\tlearn: 0.1546896\ttotal: 357ms\tremaining: 649ms\n",
      "355:\tlearn: 0.1541715\ttotal: 358ms\tremaining: 648ms\n",
      "356:\tlearn: 0.1536837\ttotal: 359ms\tremaining: 647ms\n",
      "357:\tlearn: 0.1533525\ttotal: 360ms\tremaining: 645ms\n",
      "358:\tlearn: 0.1529763\ttotal: 361ms\tremaining: 644ms\n",
      "359:\tlearn: 0.1525875\ttotal: 361ms\tremaining: 643ms\n",
      "360:\tlearn: 0.1522164\ttotal: 362ms\tremaining: 641ms\n",
      "361:\tlearn: 0.1518402\ttotal: 363ms\tremaining: 640ms\n",
      "362:\tlearn: 0.1516711\ttotal: 364ms\tremaining: 638ms\n",
      "363:\tlearn: 0.1513015\ttotal: 365ms\tremaining: 637ms\n",
      "364:\tlearn: 0.1511121\ttotal: 365ms\tremaining: 636ms\n",
      "365:\tlearn: 0.1507825\ttotal: 366ms\tremaining: 635ms\n",
      "366:\tlearn: 0.1505009\ttotal: 367ms\tremaining: 633ms\n",
      "367:\tlearn: 0.1504048\ttotal: 368ms\tremaining: 632ms\n",
      "368:\tlearn: 0.1499764\ttotal: 369ms\tremaining: 631ms\n",
      "369:\tlearn: 0.1495674\ttotal: 370ms\tremaining: 630ms\n",
      "370:\tlearn: 0.1492313\ttotal: 370ms\tremaining: 628ms\n",
      "371:\tlearn: 0.1488886\ttotal: 371ms\tremaining: 627ms\n",
      "372:\tlearn: 0.1487906\ttotal: 372ms\tremaining: 626ms\n",
      "373:\tlearn: 0.1484742\ttotal: 373ms\tremaining: 624ms\n",
      "374:\tlearn: 0.1483074\ttotal: 374ms\tremaining: 623ms\n",
      "375:\tlearn: 0.1482515\ttotal: 375ms\tremaining: 622ms\n",
      "376:\tlearn: 0.1478693\ttotal: 376ms\tremaining: 621ms\n",
      "377:\tlearn: 0.1477340\ttotal: 376ms\tremaining: 619ms\n",
      "378:\tlearn: 0.1472542\ttotal: 377ms\tremaining: 618ms\n",
      "379:\tlearn: 0.1469576\ttotal: 378ms\tremaining: 617ms\n",
      "380:\tlearn: 0.1466543\ttotal: 379ms\tremaining: 616ms\n",
      "381:\tlearn: 0.1462876\ttotal: 380ms\tremaining: 614ms\n",
      "382:\tlearn: 0.1458462\ttotal: 381ms\tremaining: 613ms\n"
     ]
    },
    {
     "name": "stdout",
     "output_type": "stream",
     "text": [
      "383:\tlearn: 0.1457292\ttotal: 382ms\tremaining: 612ms\n",
      "384:\tlearn: 0.1456228\ttotal: 383ms\tremaining: 611ms\n",
      "385:\tlearn: 0.1455177\ttotal: 383ms\tremaining: 610ms\n",
      "386:\tlearn: 0.1450333\ttotal: 384ms\tremaining: 609ms\n",
      "387:\tlearn: 0.1446515\ttotal: 385ms\tremaining: 607ms\n",
      "388:\tlearn: 0.1443518\ttotal: 386ms\tremaining: 606ms\n",
      "389:\tlearn: 0.1440280\ttotal: 387ms\tremaining: 605ms\n",
      "390:\tlearn: 0.1438879\ttotal: 388ms\tremaining: 604ms\n",
      "391:\tlearn: 0.1438065\ttotal: 389ms\tremaining: 603ms\n",
      "392:\tlearn: 0.1434169\ttotal: 389ms\tremaining: 601ms\n",
      "393:\tlearn: 0.1431077\ttotal: 390ms\tremaining: 600ms\n",
      "394:\tlearn: 0.1429070\ttotal: 391ms\tremaining: 599ms\n",
      "395:\tlearn: 0.1426691\ttotal: 392ms\tremaining: 598ms\n",
      "396:\tlearn: 0.1425717\ttotal: 393ms\tremaining: 596ms\n",
      "397:\tlearn: 0.1421801\ttotal: 394ms\tremaining: 595ms\n",
      "398:\tlearn: 0.1417591\ttotal: 394ms\tremaining: 594ms\n",
      "399:\tlearn: 0.1413089\ttotal: 395ms\tremaining: 593ms\n",
      "400:\tlearn: 0.1411715\ttotal: 396ms\tremaining: 591ms\n",
      "401:\tlearn: 0.1411314\ttotal: 397ms\tremaining: 590ms\n",
      "402:\tlearn: 0.1407402\ttotal: 398ms\tremaining: 589ms\n",
      "403:\tlearn: 0.1403936\ttotal: 399ms\tremaining: 588ms\n",
      "404:\tlearn: 0.1401918\ttotal: 400ms\tremaining: 587ms\n",
      "405:\tlearn: 0.1397845\ttotal: 400ms\tremaining: 586ms\n",
      "406:\tlearn: 0.1397535\ttotal: 401ms\tremaining: 585ms\n",
      "407:\tlearn: 0.1394527\ttotal: 402ms\tremaining: 583ms\n",
      "408:\tlearn: 0.1390722\ttotal: 403ms\tremaining: 582ms\n",
      "409:\tlearn: 0.1389335\ttotal: 404ms\tremaining: 581ms\n",
      "410:\tlearn: 0.1388077\ttotal: 404ms\tremaining: 579ms\n",
      "411:\tlearn: 0.1385391\ttotal: 405ms\tremaining: 578ms\n",
      "412:\tlearn: 0.1381758\ttotal: 406ms\tremaining: 577ms\n",
      "413:\tlearn: 0.1378385\ttotal: 407ms\tremaining: 576ms\n",
      "414:\tlearn: 0.1375282\ttotal: 408ms\tremaining: 575ms\n",
      "415:\tlearn: 0.1374828\ttotal: 408ms\tremaining: 573ms\n",
      "416:\tlearn: 0.1372251\ttotal: 409ms\tremaining: 572ms\n",
      "417:\tlearn: 0.1369498\ttotal: 410ms\tremaining: 571ms\n",
      "418:\tlearn: 0.1365773\ttotal: 411ms\tremaining: 570ms\n",
      "419:\tlearn: 0.1363339\ttotal: 412ms\tremaining: 569ms\n",
      "420:\tlearn: 0.1362813\ttotal: 413ms\tremaining: 567ms\n",
      "421:\tlearn: 0.1359829\ttotal: 413ms\tremaining: 566ms\n",
      "422:\tlearn: 0.1357396\ttotal: 414ms\tremaining: 565ms\n",
      "423:\tlearn: 0.1354181\ttotal: 415ms\tremaining: 564ms\n",
      "424:\tlearn: 0.1351376\ttotal: 416ms\tremaining: 562ms\n",
      "425:\tlearn: 0.1349875\ttotal: 416ms\tremaining: 561ms\n",
      "426:\tlearn: 0.1347128\ttotal: 417ms\tremaining: 560ms\n",
      "427:\tlearn: 0.1344590\ttotal: 418ms\tremaining: 559ms\n",
      "428:\tlearn: 0.1342138\ttotal: 419ms\tremaining: 558ms\n",
      "429:\tlearn: 0.1340577\ttotal: 420ms\tremaining: 556ms\n",
      "430:\tlearn: 0.1337460\ttotal: 421ms\tremaining: 555ms\n",
      "431:\tlearn: 0.1332801\ttotal: 421ms\tremaining: 554ms\n",
      "432:\tlearn: 0.1329320\ttotal: 422ms\tremaining: 553ms\n",
      "433:\tlearn: 0.1325350\ttotal: 423ms\tremaining: 552ms\n",
      "434:\tlearn: 0.1320927\ttotal: 424ms\tremaining: 550ms\n",
      "435:\tlearn: 0.1319732\ttotal: 425ms\tremaining: 549ms\n",
      "436:\tlearn: 0.1315404\ttotal: 425ms\tremaining: 548ms\n",
      "437:\tlearn: 0.1312865\ttotal: 426ms\tremaining: 547ms\n",
      "438:\tlearn: 0.1310831\ttotal: 427ms\tremaining: 546ms\n",
      "439:\tlearn: 0.1309795\ttotal: 428ms\tremaining: 545ms\n",
      "440:\tlearn: 0.1308651\ttotal: 429ms\tremaining: 544ms\n",
      "441:\tlearn: 0.1305714\ttotal: 430ms\tremaining: 543ms\n",
      "442:\tlearn: 0.1303618\ttotal: 431ms\tremaining: 542ms\n",
      "443:\tlearn: 0.1302552\ttotal: 433ms\tremaining: 542ms\n",
      "444:\tlearn: 0.1299302\ttotal: 434ms\tremaining: 541ms\n",
      "445:\tlearn: 0.1297978\ttotal: 434ms\tremaining: 540ms\n",
      "446:\tlearn: 0.1296224\ttotal: 435ms\tremaining: 539ms\n",
      "447:\tlearn: 0.1295919\ttotal: 436ms\tremaining: 537ms\n",
      "448:\tlearn: 0.1294161\ttotal: 437ms\tremaining: 536ms\n",
      "449:\tlearn: 0.1291448\ttotal: 438ms\tremaining: 535ms\n",
      "450:\tlearn: 0.1288651\ttotal: 439ms\tremaining: 534ms\n",
      "451:\tlearn: 0.1285181\ttotal: 440ms\tremaining: 533ms\n",
      "452:\tlearn: 0.1280107\ttotal: 441ms\tremaining: 533ms\n",
      "453:\tlearn: 0.1277336\ttotal: 442ms\tremaining: 532ms\n",
      "454:\tlearn: 0.1276296\ttotal: 443ms\tremaining: 531ms\n",
      "455:\tlearn: 0.1273711\ttotal: 444ms\tremaining: 529ms\n",
      "456:\tlearn: 0.1272839\ttotal: 445ms\tremaining: 528ms\n",
      "457:\tlearn: 0.1268871\ttotal: 445ms\tremaining: 527ms\n",
      "458:\tlearn: 0.1265673\ttotal: 446ms\tremaining: 526ms\n",
      "459:\tlearn: 0.1264771\ttotal: 447ms\tremaining: 525ms\n",
      "460:\tlearn: 0.1262633\ttotal: 448ms\tremaining: 523ms\n",
      "461:\tlearn: 0.1262292\ttotal: 449ms\tremaining: 522ms\n",
      "462:\tlearn: 0.1261355\ttotal: 449ms\tremaining: 521ms\n",
      "463:\tlearn: 0.1259385\ttotal: 450ms\tremaining: 520ms\n",
      "464:\tlearn: 0.1255536\ttotal: 451ms\tremaining: 519ms\n",
      "465:\tlearn: 0.1252075\ttotal: 452ms\tremaining: 518ms\n",
      "466:\tlearn: 0.1249153\ttotal: 453ms\tremaining: 517ms\n",
      "467:\tlearn: 0.1246215\ttotal: 453ms\tremaining: 516ms\n",
      "468:\tlearn: 0.1244256\ttotal: 455ms\tremaining: 515ms\n",
      "469:\tlearn: 0.1241045\ttotal: 456ms\tremaining: 514ms\n",
      "470:\tlearn: 0.1239222\ttotal: 457ms\tremaining: 513ms\n",
      "471:\tlearn: 0.1236544\ttotal: 457ms\tremaining: 512ms\n",
      "472:\tlearn: 0.1234133\ttotal: 458ms\tremaining: 510ms\n",
      "473:\tlearn: 0.1233804\ttotal: 459ms\tremaining: 509ms\n",
      "474:\tlearn: 0.1231617\ttotal: 460ms\tremaining: 508ms\n",
      "475:\tlearn: 0.1230661\ttotal: 461ms\tremaining: 507ms\n",
      "476:\tlearn: 0.1228170\ttotal: 461ms\tremaining: 506ms\n",
      "477:\tlearn: 0.1226132\ttotal: 462ms\tremaining: 505ms\n",
      "478:\tlearn: 0.1224313\ttotal: 463ms\tremaining: 503ms\n",
      "479:\tlearn: 0.1221453\ttotal: 464ms\tremaining: 502ms\n",
      "480:\tlearn: 0.1219835\ttotal: 464ms\tremaining: 501ms\n",
      "481:\tlearn: 0.1217347\ttotal: 465ms\tremaining: 500ms\n",
      "482:\tlearn: 0.1213404\ttotal: 466ms\tremaining: 499ms\n",
      "483:\tlearn: 0.1209393\ttotal: 467ms\tremaining: 498ms\n",
      "484:\tlearn: 0.1207391\ttotal: 468ms\tremaining: 497ms\n",
      "485:\tlearn: 0.1204224\ttotal: 469ms\tremaining: 496ms\n",
      "486:\tlearn: 0.1202502\ttotal: 469ms\tremaining: 495ms\n",
      "487:\tlearn: 0.1199339\ttotal: 470ms\tremaining: 493ms\n",
      "488:\tlearn: 0.1195534\ttotal: 471ms\tremaining: 492ms\n",
      "489:\tlearn: 0.1192305\ttotal: 472ms\tremaining: 491ms\n",
      "490:\tlearn: 0.1189831\ttotal: 473ms\tremaining: 490ms\n",
      "491:\tlearn: 0.1189337\ttotal: 474ms\tremaining: 490ms\n",
      "492:\tlearn: 0.1186916\ttotal: 475ms\tremaining: 489ms\n",
      "493:\tlearn: 0.1184755\ttotal: 476ms\tremaining: 488ms\n",
      "494:\tlearn: 0.1182459\ttotal: 477ms\tremaining: 487ms\n",
      "495:\tlearn: 0.1179984\ttotal: 478ms\tremaining: 485ms\n",
      "496:\tlearn: 0.1178292\ttotal: 478ms\tremaining: 484ms\n",
      "497:\tlearn: 0.1175359\ttotal: 479ms\tremaining: 483ms\n",
      "498:\tlearn: 0.1173487\ttotal: 480ms\tremaining: 482ms\n",
      "499:\tlearn: 0.1171604\ttotal: 481ms\tremaining: 481ms\n",
      "500:\tlearn: 0.1169991\ttotal: 482ms\tremaining: 480ms\n",
      "501:\tlearn: 0.1169333\ttotal: 483ms\tremaining: 479ms\n",
      "502:\tlearn: 0.1166719\ttotal: 483ms\tremaining: 478ms\n",
      "503:\tlearn: 0.1165155\ttotal: 484ms\tremaining: 476ms\n",
      "504:\tlearn: 0.1164246\ttotal: 485ms\tremaining: 475ms\n",
      "505:\tlearn: 0.1160780\ttotal: 486ms\tremaining: 474ms\n",
      "506:\tlearn: 0.1159405\ttotal: 487ms\tremaining: 473ms\n",
      "507:\tlearn: 0.1156877\ttotal: 487ms\tremaining: 472ms\n",
      "508:\tlearn: 0.1155441\ttotal: 488ms\tremaining: 471ms\n",
      "509:\tlearn: 0.1153805\ttotal: 490ms\tremaining: 470ms\n"
     ]
    },
    {
     "name": "stdout",
     "output_type": "stream",
     "text": [
      "510:\tlearn: 0.1151368\ttotal: 491ms\tremaining: 469ms\n",
      "511:\tlearn: 0.1149058\ttotal: 491ms\tremaining: 468ms\n",
      "512:\tlearn: 0.1148809\ttotal: 492ms\tremaining: 468ms\n",
      "513:\tlearn: 0.1147239\ttotal: 493ms\tremaining: 466ms\n",
      "514:\tlearn: 0.1146542\ttotal: 494ms\tremaining: 465ms\n",
      "515:\tlearn: 0.1144427\ttotal: 495ms\tremaining: 464ms\n",
      "516:\tlearn: 0.1142143\ttotal: 496ms\tremaining: 463ms\n",
      "517:\tlearn: 0.1139497\ttotal: 497ms\tremaining: 462ms\n",
      "518:\tlearn: 0.1137432\ttotal: 497ms\tremaining: 461ms\n",
      "519:\tlearn: 0.1135425\ttotal: 498ms\tremaining: 460ms\n",
      "520:\tlearn: 0.1133132\ttotal: 499ms\tremaining: 459ms\n",
      "521:\tlearn: 0.1130809\ttotal: 500ms\tremaining: 458ms\n",
      "522:\tlearn: 0.1128724\ttotal: 501ms\tremaining: 457ms\n",
      "523:\tlearn: 0.1126020\ttotal: 502ms\tremaining: 456ms\n",
      "524:\tlearn: 0.1123609\ttotal: 502ms\tremaining: 454ms\n",
      "525:\tlearn: 0.1121727\ttotal: 503ms\tremaining: 453ms\n",
      "526:\tlearn: 0.1120017\ttotal: 504ms\tremaining: 452ms\n",
      "527:\tlearn: 0.1117306\ttotal: 505ms\tremaining: 451ms\n",
      "528:\tlearn: 0.1114190\ttotal: 506ms\tremaining: 450ms\n",
      "529:\tlearn: 0.1113027\ttotal: 506ms\tremaining: 449ms\n",
      "530:\tlearn: 0.1109870\ttotal: 507ms\tremaining: 448ms\n",
      "531:\tlearn: 0.1106524\ttotal: 508ms\tremaining: 447ms\n",
      "532:\tlearn: 0.1102774\ttotal: 509ms\tremaining: 446ms\n",
      "533:\tlearn: 0.1101094\ttotal: 509ms\tremaining: 445ms\n",
      "534:\tlearn: 0.1099172\ttotal: 510ms\tremaining: 443ms\n",
      "535:\tlearn: 0.1096453\ttotal: 511ms\tremaining: 442ms\n",
      "536:\tlearn: 0.1094161\ttotal: 512ms\tremaining: 441ms\n",
      "537:\tlearn: 0.1092521\ttotal: 512ms\tremaining: 440ms\n",
      "538:\tlearn: 0.1089738\ttotal: 513ms\tremaining: 439ms\n",
      "539:\tlearn: 0.1087311\ttotal: 514ms\tremaining: 438ms\n",
      "540:\tlearn: 0.1086509\ttotal: 515ms\tremaining: 437ms\n",
      "541:\tlearn: 0.1085074\ttotal: 516ms\tremaining: 436ms\n",
      "542:\tlearn: 0.1083385\ttotal: 517ms\tremaining: 435ms\n",
      "543:\tlearn: 0.1080498\ttotal: 518ms\tremaining: 434ms\n",
      "544:\tlearn: 0.1077718\ttotal: 518ms\tremaining: 433ms\n",
      "545:\tlearn: 0.1075389\ttotal: 519ms\tremaining: 432ms\n",
      "546:\tlearn: 0.1073499\ttotal: 520ms\tremaining: 431ms\n",
      "547:\tlearn: 0.1071116\ttotal: 521ms\tremaining: 430ms\n",
      "548:\tlearn: 0.1068873\ttotal: 522ms\tremaining: 429ms\n",
      "549:\tlearn: 0.1068446\ttotal: 523ms\tremaining: 428ms\n",
      "550:\tlearn: 0.1066750\ttotal: 524ms\tremaining: 427ms\n",
      "551:\tlearn: 0.1065240\ttotal: 525ms\tremaining: 426ms\n",
      "552:\tlearn: 0.1063639\ttotal: 526ms\tremaining: 425ms\n",
      "553:\tlearn: 0.1062560\ttotal: 527ms\tremaining: 424ms\n",
      "554:\tlearn: 0.1060747\ttotal: 528ms\tremaining: 423ms\n",
      "555:\tlearn: 0.1058567\ttotal: 528ms\tremaining: 422ms\n",
      "556:\tlearn: 0.1056816\ttotal: 529ms\tremaining: 421ms\n",
      "557:\tlearn: 0.1055439\ttotal: 530ms\tremaining: 420ms\n",
      "558:\tlearn: 0.1054370\ttotal: 531ms\tremaining: 419ms\n",
      "559:\tlearn: 0.1051597\ttotal: 532ms\tremaining: 418ms\n",
      "560:\tlearn: 0.1049495\ttotal: 533ms\tremaining: 417ms\n",
      "561:\tlearn: 0.1046915\ttotal: 533ms\tremaining: 416ms\n",
      "562:\tlearn: 0.1044487\ttotal: 534ms\tremaining: 415ms\n",
      "563:\tlearn: 0.1042422\ttotal: 535ms\tremaining: 414ms\n",
      "564:\tlearn: 0.1041199\ttotal: 536ms\tremaining: 413ms\n",
      "565:\tlearn: 0.1038217\ttotal: 537ms\tremaining: 412ms\n",
      "566:\tlearn: 0.1035984\ttotal: 538ms\tremaining: 411ms\n",
      "567:\tlearn: 0.1034221\ttotal: 539ms\tremaining: 410ms\n",
      "568:\tlearn: 0.1032847\ttotal: 539ms\tremaining: 409ms\n",
      "569:\tlearn: 0.1032115\ttotal: 540ms\tremaining: 408ms\n",
      "570:\tlearn: 0.1030515\ttotal: 541ms\tremaining: 407ms\n",
      "571:\tlearn: 0.1027568\ttotal: 542ms\tremaining: 405ms\n",
      "572:\tlearn: 0.1025237\ttotal: 543ms\tremaining: 404ms\n",
      "573:\tlearn: 0.1024298\ttotal: 544ms\tremaining: 403ms\n",
      "574:\tlearn: 0.1023526\ttotal: 544ms\tremaining: 402ms\n",
      "575:\tlearn: 0.1020970\ttotal: 545ms\tremaining: 401ms\n",
      "576:\tlearn: 0.1019533\ttotal: 546ms\tremaining: 400ms\n",
      "577:\tlearn: 0.1018472\ttotal: 547ms\tremaining: 399ms\n",
      "578:\tlearn: 0.1017290\ttotal: 547ms\tremaining: 398ms\n",
      "579:\tlearn: 0.1015748\ttotal: 548ms\tremaining: 397ms\n",
      "580:\tlearn: 0.1013641\ttotal: 549ms\tremaining: 396ms\n",
      "581:\tlearn: 0.1011908\ttotal: 550ms\tremaining: 395ms\n",
      "582:\tlearn: 0.1009912\ttotal: 551ms\tremaining: 394ms\n",
      "583:\tlearn: 0.1008006\ttotal: 552ms\tremaining: 393ms\n",
      "584:\tlearn: 0.1006054\ttotal: 553ms\tremaining: 392ms\n",
      "585:\tlearn: 0.1003542\ttotal: 553ms\tremaining: 391ms\n",
      "586:\tlearn: 0.1000974\ttotal: 554ms\tremaining: 390ms\n",
      "587:\tlearn: 0.1000468\ttotal: 555ms\tremaining: 389ms\n",
      "588:\tlearn: 0.0997835\ttotal: 556ms\tremaining: 388ms\n",
      "589:\tlearn: 0.0996020\ttotal: 557ms\tremaining: 387ms\n",
      "590:\tlearn: 0.0994537\ttotal: 557ms\tremaining: 386ms\n",
      "591:\tlearn: 0.0992890\ttotal: 558ms\tremaining: 385ms\n",
      "592:\tlearn: 0.0990592\ttotal: 559ms\tremaining: 384ms\n",
      "593:\tlearn: 0.0989932\ttotal: 560ms\tremaining: 383ms\n",
      "594:\tlearn: 0.0987570\ttotal: 561ms\tremaining: 382ms\n",
      "595:\tlearn: 0.0985355\ttotal: 562ms\tremaining: 381ms\n",
      "596:\tlearn: 0.0984126\ttotal: 562ms\tremaining: 380ms\n",
      "597:\tlearn: 0.0982188\ttotal: 563ms\tremaining: 379ms\n",
      "598:\tlearn: 0.0980980\ttotal: 564ms\tremaining: 377ms\n",
      "599:\tlearn: 0.0977951\ttotal: 565ms\tremaining: 376ms\n",
      "600:\tlearn: 0.0976376\ttotal: 565ms\tremaining: 375ms\n",
      "601:\tlearn: 0.0974843\ttotal: 566ms\tremaining: 374ms\n",
      "602:\tlearn: 0.0973544\ttotal: 567ms\tremaining: 373ms\n",
      "603:\tlearn: 0.0971877\ttotal: 568ms\tremaining: 372ms\n",
      "604:\tlearn: 0.0970215\ttotal: 569ms\tremaining: 371ms\n",
      "605:\tlearn: 0.0968151\ttotal: 569ms\tremaining: 370ms\n",
      "606:\tlearn: 0.0966942\ttotal: 570ms\tremaining: 369ms\n",
      "607:\tlearn: 0.0963830\ttotal: 571ms\tremaining: 368ms\n"
     ]
    },
    {
     "name": "stdout",
     "output_type": "stream",
     "text": [
      "608:\tlearn: 0.0962654\ttotal: 572ms\tremaining: 367ms\n",
      "609:\tlearn: 0.0960344\ttotal: 573ms\tremaining: 366ms\n",
      "610:\tlearn: 0.0959737\ttotal: 573ms\tremaining: 365ms\n",
      "611:\tlearn: 0.0958043\ttotal: 574ms\tremaining: 364ms\n",
      "612:\tlearn: 0.0955709\ttotal: 575ms\tremaining: 363ms\n",
      "613:\tlearn: 0.0954075\ttotal: 576ms\tremaining: 362ms\n",
      "614:\tlearn: 0.0952022\ttotal: 577ms\tremaining: 361ms\n",
      "615:\tlearn: 0.0950075\ttotal: 578ms\tremaining: 360ms\n",
      "616:\tlearn: 0.0948620\ttotal: 578ms\tremaining: 359ms\n",
      "617:\tlearn: 0.0946617\ttotal: 579ms\tremaining: 358ms\n",
      "618:\tlearn: 0.0944647\ttotal: 580ms\tremaining: 357ms\n",
      "619:\tlearn: 0.0943334\ttotal: 581ms\tremaining: 356ms\n",
      "620:\tlearn: 0.0941492\ttotal: 582ms\tremaining: 355ms\n",
      "621:\tlearn: 0.0939269\ttotal: 583ms\tremaining: 354ms\n",
      "622:\tlearn: 0.0936855\ttotal: 583ms\tremaining: 353ms\n",
      "623:\tlearn: 0.0935180\ttotal: 584ms\tremaining: 352ms\n",
      "624:\tlearn: 0.0932730\ttotal: 585ms\tremaining: 351ms\n",
      "625:\tlearn: 0.0931357\ttotal: 586ms\tremaining: 350ms\n",
      "626:\tlearn: 0.0930028\ttotal: 587ms\tremaining: 349ms\n",
      "627:\tlearn: 0.0928276\ttotal: 588ms\tremaining: 348ms\n",
      "628:\tlearn: 0.0927465\ttotal: 588ms\tremaining: 347ms\n",
      "629:\tlearn: 0.0925596\ttotal: 589ms\tremaining: 346ms\n",
      "630:\tlearn: 0.0923454\ttotal: 590ms\tremaining: 345ms\n",
      "631:\tlearn: 0.0923231\ttotal: 591ms\tremaining: 344ms\n",
      "632:\tlearn: 0.0920875\ttotal: 592ms\tremaining: 343ms\n",
      "633:\tlearn: 0.0920284\ttotal: 593ms\tremaining: 342ms\n",
      "634:\tlearn: 0.0919260\ttotal: 593ms\tremaining: 341ms\n",
      "635:\tlearn: 0.0917474\ttotal: 594ms\tremaining: 340ms\n",
      "636:\tlearn: 0.0916291\ttotal: 595ms\tremaining: 339ms\n",
      "637:\tlearn: 0.0915152\ttotal: 596ms\tremaining: 338ms\n",
      "638:\tlearn: 0.0914083\ttotal: 596ms\tremaining: 337ms\n",
      "639:\tlearn: 0.0912506\ttotal: 597ms\tremaining: 336ms\n",
      "640:\tlearn: 0.0910327\ttotal: 598ms\tremaining: 335ms\n",
      "641:\tlearn: 0.0908668\ttotal: 599ms\tremaining: 334ms\n",
      "642:\tlearn: 0.0907553\ttotal: 600ms\tremaining: 333ms\n",
      "643:\tlearn: 0.0906610\ttotal: 601ms\tremaining: 332ms\n",
      "644:\tlearn: 0.0905512\ttotal: 601ms\tremaining: 331ms\n",
      "645:\tlearn: 0.0905036\ttotal: 602ms\tremaining: 330ms\n",
      "646:\tlearn: 0.0903420\ttotal: 603ms\tremaining: 329ms\n",
      "647:\tlearn: 0.0901618\ttotal: 604ms\tremaining: 328ms\n",
      "648:\tlearn: 0.0899781\ttotal: 605ms\tremaining: 327ms\n",
      "649:\tlearn: 0.0898400\ttotal: 606ms\tremaining: 326ms\n",
      "650:\tlearn: 0.0895434\ttotal: 607ms\tremaining: 325ms\n",
      "651:\tlearn: 0.0892915\ttotal: 607ms\tremaining: 324ms\n",
      "652:\tlearn: 0.0891392\ttotal: 608ms\tremaining: 323ms\n",
      "653:\tlearn: 0.0890032\ttotal: 609ms\tremaining: 322ms\n",
      "654:\tlearn: 0.0888708\ttotal: 610ms\tremaining: 321ms\n",
      "655:\tlearn: 0.0887375\ttotal: 611ms\tremaining: 320ms\n",
      "656:\tlearn: 0.0885883\ttotal: 612ms\tremaining: 319ms\n",
      "657:\tlearn: 0.0884474\ttotal: 613ms\tremaining: 318ms\n",
      "658:\tlearn: 0.0883583\ttotal: 613ms\tremaining: 317ms\n",
      "659:\tlearn: 0.0882950\ttotal: 614ms\tremaining: 316ms\n",
      "660:\tlearn: 0.0881715\ttotal: 615ms\tremaining: 315ms\n",
      "661:\tlearn: 0.0879269\ttotal: 616ms\tremaining: 314ms\n",
      "662:\tlearn: 0.0878201\ttotal: 617ms\tremaining: 313ms\n",
      "663:\tlearn: 0.0876339\ttotal: 617ms\tremaining: 312ms\n",
      "664:\tlearn: 0.0875707\ttotal: 618ms\tremaining: 311ms\n",
      "665:\tlearn: 0.0873772\ttotal: 619ms\tremaining: 310ms\n",
      "666:\tlearn: 0.0872714\ttotal: 620ms\tremaining: 309ms\n",
      "667:\tlearn: 0.0871210\ttotal: 621ms\tremaining: 308ms\n",
      "668:\tlearn: 0.0869764\ttotal: 622ms\tremaining: 308ms\n",
      "669:\tlearn: 0.0868275\ttotal: 622ms\tremaining: 307ms\n",
      "670:\tlearn: 0.0866005\ttotal: 623ms\tremaining: 306ms\n",
      "671:\tlearn: 0.0865609\ttotal: 624ms\tremaining: 305ms\n",
      "672:\tlearn: 0.0864149\ttotal: 625ms\tremaining: 304ms\n",
      "673:\tlearn: 0.0863038\ttotal: 626ms\tremaining: 303ms\n",
      "674:\tlearn: 0.0862148\ttotal: 626ms\tremaining: 302ms\n",
      "675:\tlearn: 0.0861739\ttotal: 627ms\tremaining: 301ms\n",
      "676:\tlearn: 0.0861206\ttotal: 628ms\tremaining: 300ms\n",
      "677:\tlearn: 0.0860283\ttotal: 629ms\tremaining: 299ms\n",
      "678:\tlearn: 0.0858805\ttotal: 630ms\tremaining: 298ms\n",
      "679:\tlearn: 0.0856883\ttotal: 630ms\tremaining: 297ms\n",
      "680:\tlearn: 0.0855806\ttotal: 631ms\tremaining: 296ms\n",
      "681:\tlearn: 0.0854688\ttotal: 632ms\tremaining: 295ms\n",
      "682:\tlearn: 0.0852588\ttotal: 633ms\tremaining: 294ms\n",
      "683:\tlearn: 0.0851569\ttotal: 634ms\tremaining: 293ms\n",
      "684:\tlearn: 0.0849337\ttotal: 635ms\tremaining: 292ms\n",
      "685:\tlearn: 0.0847218\ttotal: 636ms\tremaining: 291ms\n",
      "686:\tlearn: 0.0845853\ttotal: 636ms\tremaining: 290ms\n",
      "687:\tlearn: 0.0844339\ttotal: 637ms\tremaining: 289ms\n",
      "688:\tlearn: 0.0842621\ttotal: 638ms\tremaining: 288ms\n",
      "689:\tlearn: 0.0841925\ttotal: 639ms\tremaining: 287ms\n",
      "690:\tlearn: 0.0839290\ttotal: 640ms\tremaining: 286ms\n",
      "691:\tlearn: 0.0837908\ttotal: 641ms\tremaining: 285ms\n",
      "692:\tlearn: 0.0835949\ttotal: 641ms\tremaining: 284ms\n",
      "693:\tlearn: 0.0834365\ttotal: 642ms\tremaining: 283ms\n",
      "694:\tlearn: 0.0833646\ttotal: 643ms\tremaining: 282ms\n",
      "695:\tlearn: 0.0831607\ttotal: 644ms\tremaining: 281ms\n",
      "696:\tlearn: 0.0830737\ttotal: 645ms\tremaining: 280ms\n",
      "697:\tlearn: 0.0828945\ttotal: 645ms\tremaining: 279ms\n",
      "698:\tlearn: 0.0827112\ttotal: 646ms\tremaining: 278ms\n",
      "699:\tlearn: 0.0825964\ttotal: 647ms\tremaining: 277ms\n",
      "700:\tlearn: 0.0824668\ttotal: 648ms\tremaining: 276ms\n",
      "701:\tlearn: 0.0823223\ttotal: 649ms\tremaining: 275ms\n",
      "702:\tlearn: 0.0821162\ttotal: 650ms\tremaining: 274ms\n",
      "703:\tlearn: 0.0819747\ttotal: 650ms\tremaining: 273ms\n",
      "704:\tlearn: 0.0817937\ttotal: 651ms\tremaining: 272ms\n",
      "705:\tlearn: 0.0816764\ttotal: 652ms\tremaining: 272ms\n",
      "706:\tlearn: 0.0815291\ttotal: 653ms\tremaining: 271ms\n",
      "707:\tlearn: 0.0813646\ttotal: 654ms\tremaining: 270ms\n",
      "708:\tlearn: 0.0812364\ttotal: 655ms\tremaining: 269ms\n",
      "709:\tlearn: 0.0811040\ttotal: 655ms\tremaining: 268ms\n",
      "710:\tlearn: 0.0810546\ttotal: 656ms\tremaining: 267ms\n",
      "711:\tlearn: 0.0809272\ttotal: 657ms\tremaining: 266ms\n",
      "712:\tlearn: 0.0807962\ttotal: 658ms\tremaining: 265ms\n",
      "713:\tlearn: 0.0806229\ttotal: 659ms\tremaining: 264ms\n",
      "714:\tlearn: 0.0804034\ttotal: 660ms\tremaining: 263ms\n",
      "715:\tlearn: 0.0801961\ttotal: 661ms\tremaining: 262ms\n",
      "716:\tlearn: 0.0800507\ttotal: 661ms\tremaining: 261ms\n",
      "717:\tlearn: 0.0799202\ttotal: 662ms\tremaining: 260ms\n",
      "718:\tlearn: 0.0797580\ttotal: 663ms\tremaining: 259ms\n",
      "719:\tlearn: 0.0796080\ttotal: 664ms\tremaining: 258ms\n",
      "720:\tlearn: 0.0794839\ttotal: 665ms\tremaining: 257ms\n",
      "721:\tlearn: 0.0793065\ttotal: 665ms\tremaining: 256ms\n",
      "722:\tlearn: 0.0791859\ttotal: 666ms\tremaining: 255ms\n",
      "723:\tlearn: 0.0789866\ttotal: 667ms\tremaining: 254ms\n",
      "724:\tlearn: 0.0787873\ttotal: 668ms\tremaining: 253ms\n",
      "725:\tlearn: 0.0786706\ttotal: 669ms\tremaining: 252ms\n",
      "726:\tlearn: 0.0784914\ttotal: 669ms\tremaining: 251ms\n",
      "727:\tlearn: 0.0783243\ttotal: 670ms\tremaining: 250ms\n",
      "728:\tlearn: 0.0782280\ttotal: 671ms\tremaining: 249ms\n",
      "729:\tlearn: 0.0780485\ttotal: 672ms\tremaining: 248ms\n",
      "730:\tlearn: 0.0779247\ttotal: 673ms\tremaining: 247ms\n",
      "731:\tlearn: 0.0777729\ttotal: 673ms\tremaining: 247ms\n",
      "732:\tlearn: 0.0777318\ttotal: 674ms\tremaining: 246ms\n",
      "733:\tlearn: 0.0776237\ttotal: 675ms\tremaining: 245ms\n",
      "734:\tlearn: 0.0774588\ttotal: 676ms\tremaining: 244ms\n",
      "735:\tlearn: 0.0773144\ttotal: 677ms\tremaining: 243ms\n",
      "736:\tlearn: 0.0771787\ttotal: 677ms\tremaining: 242ms\n",
      "737:\tlearn: 0.0769916\ttotal: 678ms\tremaining: 241ms\n",
      "738:\tlearn: 0.0769264\ttotal: 679ms\tremaining: 240ms\n",
      "739:\tlearn: 0.0768178\ttotal: 680ms\tremaining: 239ms\n"
     ]
    },
    {
     "name": "stdout",
     "output_type": "stream",
     "text": [
      "740:\tlearn: 0.0767264\ttotal: 681ms\tremaining: 238ms\n",
      "741:\tlearn: 0.0765720\ttotal: 682ms\tremaining: 237ms\n",
      "742:\tlearn: 0.0763922\ttotal: 683ms\tremaining: 236ms\n",
      "743:\tlearn: 0.0761811\ttotal: 684ms\tremaining: 235ms\n",
      "744:\tlearn: 0.0760387\ttotal: 684ms\tremaining: 234ms\n",
      "745:\tlearn: 0.0758679\ttotal: 685ms\tremaining: 233ms\n",
      "746:\tlearn: 0.0756592\ttotal: 686ms\tremaining: 232ms\n",
      "747:\tlearn: 0.0755236\ttotal: 687ms\tremaining: 231ms\n",
      "748:\tlearn: 0.0753636\ttotal: 688ms\tremaining: 231ms\n",
      "749:\tlearn: 0.0753166\ttotal: 689ms\tremaining: 230ms\n",
      "750:\tlearn: 0.0751638\ttotal: 690ms\tremaining: 229ms\n",
      "751:\tlearn: 0.0750841\ttotal: 691ms\tremaining: 228ms\n",
      "752:\tlearn: 0.0749621\ttotal: 691ms\tremaining: 227ms\n",
      "753:\tlearn: 0.0747982\ttotal: 692ms\tremaining: 226ms\n",
      "754:\tlearn: 0.0746769\ttotal: 693ms\tremaining: 225ms\n",
      "755:\tlearn: 0.0745554\ttotal: 694ms\tremaining: 224ms\n",
      "756:\tlearn: 0.0744064\ttotal: 695ms\tremaining: 223ms\n",
      "757:\tlearn: 0.0743139\ttotal: 695ms\tremaining: 222ms\n",
      "758:\tlearn: 0.0742685\ttotal: 696ms\tremaining: 221ms\n",
      "759:\tlearn: 0.0741091\ttotal: 697ms\tremaining: 220ms\n",
      "760:\tlearn: 0.0739795\ttotal: 698ms\tremaining: 219ms\n",
      "761:\tlearn: 0.0739057\ttotal: 698ms\tremaining: 218ms\n",
      "762:\tlearn: 0.0737311\ttotal: 699ms\tremaining: 217ms\n",
      "763:\tlearn: 0.0736067\ttotal: 700ms\tremaining: 216ms\n",
      "764:\tlearn: 0.0735461\ttotal: 701ms\tremaining: 215ms\n",
      "765:\tlearn: 0.0733764\ttotal: 702ms\tremaining: 214ms\n",
      "766:\tlearn: 0.0732543\ttotal: 703ms\tremaining: 213ms\n",
      "767:\tlearn: 0.0731586\ttotal: 703ms\tremaining: 212ms\n",
      "768:\tlearn: 0.0730387\ttotal: 704ms\tremaining: 212ms\n",
      "769:\tlearn: 0.0729211\ttotal: 705ms\tremaining: 211ms\n",
      "770:\tlearn: 0.0727436\ttotal: 706ms\tremaining: 210ms\n",
      "771:\tlearn: 0.0726632\ttotal: 707ms\tremaining: 209ms\n",
      "772:\tlearn: 0.0725283\ttotal: 707ms\tremaining: 208ms\n",
      "773:\tlearn: 0.0723670\ttotal: 708ms\tremaining: 207ms\n",
      "774:\tlearn: 0.0722562\ttotal: 709ms\tremaining: 206ms\n",
      "775:\tlearn: 0.0721721\ttotal: 710ms\tremaining: 205ms\n",
      "776:\tlearn: 0.0720532\ttotal: 711ms\tremaining: 204ms\n",
      "777:\tlearn: 0.0719772\ttotal: 712ms\tremaining: 203ms\n",
      "778:\tlearn: 0.0718126\ttotal: 712ms\tremaining: 202ms\n",
      "779:\tlearn: 0.0717181\ttotal: 713ms\tremaining: 201ms\n",
      "780:\tlearn: 0.0715977\ttotal: 714ms\tremaining: 200ms\n",
      "781:\tlearn: 0.0715103\ttotal: 715ms\tremaining: 199ms\n",
      "782:\tlearn: 0.0714621\ttotal: 716ms\tremaining: 198ms\n",
      "783:\tlearn: 0.0713738\ttotal: 717ms\tremaining: 197ms\n",
      "784:\tlearn: 0.0712767\ttotal: 717ms\tremaining: 196ms\n",
      "785:\tlearn: 0.0711616\ttotal: 718ms\tremaining: 196ms\n",
      "786:\tlearn: 0.0709839\ttotal: 719ms\tremaining: 195ms\n",
      "787:\tlearn: 0.0708375\ttotal: 720ms\tremaining: 194ms\n",
      "788:\tlearn: 0.0706977\ttotal: 721ms\tremaining: 193ms\n",
      "789:\tlearn: 0.0705680\ttotal: 722ms\tremaining: 192ms\n",
      "790:\tlearn: 0.0704110\ttotal: 723ms\tremaining: 191ms\n",
      "791:\tlearn: 0.0702898\ttotal: 724ms\tremaining: 190ms\n",
      "792:\tlearn: 0.0701376\ttotal: 724ms\tremaining: 189ms\n",
      "793:\tlearn: 0.0700244\ttotal: 725ms\tremaining: 188ms\n",
      "794:\tlearn: 0.0699152\ttotal: 726ms\tremaining: 187ms\n",
      "795:\tlearn: 0.0697576\ttotal: 727ms\tremaining: 186ms\n",
      "796:\tlearn: 0.0697129\ttotal: 728ms\tremaining: 185ms\n",
      "797:\tlearn: 0.0695859\ttotal: 729ms\tremaining: 184ms\n",
      "798:\tlearn: 0.0695076\ttotal: 729ms\tremaining: 184ms\n",
      "799:\tlearn: 0.0693419\ttotal: 730ms\tremaining: 183ms\n",
      "800:\tlearn: 0.0691983\ttotal: 731ms\tremaining: 182ms\n",
      "801:\tlearn: 0.0690666\ttotal: 732ms\tremaining: 181ms\n",
      "802:\tlearn: 0.0688814\ttotal: 733ms\tremaining: 180ms\n",
      "803:\tlearn: 0.0688050\ttotal: 734ms\tremaining: 179ms\n",
      "804:\tlearn: 0.0686831\ttotal: 735ms\tremaining: 178ms\n",
      "805:\tlearn: 0.0685285\ttotal: 736ms\tremaining: 177ms\n",
      "806:\tlearn: 0.0684348\ttotal: 736ms\tremaining: 176ms\n",
      "807:\tlearn: 0.0683544\ttotal: 737ms\tremaining: 175ms\n",
      "808:\tlearn: 0.0682612\ttotal: 738ms\tremaining: 174ms\n",
      "809:\tlearn: 0.0681460\ttotal: 739ms\tremaining: 173ms\n",
      "810:\tlearn: 0.0680618\ttotal: 739ms\tremaining: 172ms\n",
      "811:\tlearn: 0.0679473\ttotal: 740ms\tremaining: 171ms\n",
      "812:\tlearn: 0.0678708\ttotal: 741ms\tremaining: 170ms\n",
      "813:\tlearn: 0.0677780\ttotal: 742ms\tremaining: 170ms\n",
      "814:\tlearn: 0.0676798\ttotal: 743ms\tremaining: 169ms\n",
      "815:\tlearn: 0.0675659\ttotal: 744ms\tremaining: 168ms\n",
      "816:\tlearn: 0.0674247\ttotal: 744ms\tremaining: 167ms\n",
      "817:\tlearn: 0.0672905\ttotal: 745ms\tremaining: 166ms\n",
      "818:\tlearn: 0.0671604\ttotal: 746ms\tremaining: 165ms\n",
      "819:\tlearn: 0.0670943\ttotal: 747ms\tremaining: 164ms\n",
      "820:\tlearn: 0.0670222\ttotal: 748ms\tremaining: 163ms\n",
      "821:\tlearn: 0.0669676\ttotal: 749ms\tremaining: 162ms\n",
      "822:\tlearn: 0.0669081\ttotal: 750ms\tremaining: 161ms\n",
      "823:\tlearn: 0.0667848\ttotal: 750ms\tremaining: 160ms\n",
      "824:\tlearn: 0.0666729\ttotal: 751ms\tremaining: 159ms\n",
      "825:\tlearn: 0.0665819\ttotal: 752ms\tremaining: 158ms\n",
      "826:\tlearn: 0.0664657\ttotal: 753ms\tremaining: 157ms\n",
      "827:\tlearn: 0.0663111\ttotal: 754ms\tremaining: 157ms\n",
      "828:\tlearn: 0.0662041\ttotal: 754ms\tremaining: 156ms\n",
      "829:\tlearn: 0.0661091\ttotal: 755ms\tremaining: 155ms\n",
      "830:\tlearn: 0.0659875\ttotal: 756ms\tremaining: 154ms\n",
      "831:\tlearn: 0.0659326\ttotal: 757ms\tremaining: 153ms\n",
      "832:\tlearn: 0.0657748\ttotal: 758ms\tremaining: 152ms\n",
      "833:\tlearn: 0.0656436\ttotal: 758ms\tremaining: 151ms\n",
      "834:\tlearn: 0.0655459\ttotal: 759ms\tremaining: 150ms\n",
      "835:\tlearn: 0.0654766\ttotal: 760ms\tremaining: 149ms\n",
      "836:\tlearn: 0.0653814\ttotal: 761ms\tremaining: 148ms\n",
      "837:\tlearn: 0.0652820\ttotal: 762ms\tremaining: 147ms\n"
     ]
    },
    {
     "name": "stdout",
     "output_type": "stream",
     "text": [
      "838:\tlearn: 0.0651669\ttotal: 763ms\tremaining: 146ms\n",
      "839:\tlearn: 0.0650685\ttotal: 764ms\tremaining: 145ms\n",
      "840:\tlearn: 0.0649889\ttotal: 764ms\tremaining: 145ms\n",
      "841:\tlearn: 0.0649205\ttotal: 765ms\tremaining: 144ms\n",
      "842:\tlearn: 0.0648620\ttotal: 766ms\tremaining: 143ms\n",
      "843:\tlearn: 0.0647545\ttotal: 767ms\tremaining: 142ms\n",
      "844:\tlearn: 0.0646110\ttotal: 768ms\tremaining: 141ms\n",
      "845:\tlearn: 0.0645135\ttotal: 768ms\tremaining: 140ms\n",
      "846:\tlearn: 0.0644578\ttotal: 769ms\tremaining: 139ms\n",
      "847:\tlearn: 0.0643955\ttotal: 770ms\tremaining: 138ms\n",
      "848:\tlearn: 0.0643026\ttotal: 771ms\tremaining: 137ms\n",
      "849:\tlearn: 0.0642168\ttotal: 772ms\tremaining: 136ms\n",
      "850:\tlearn: 0.0640337\ttotal: 773ms\tremaining: 135ms\n",
      "851:\tlearn: 0.0639357\ttotal: 774ms\tremaining: 134ms\n",
      "852:\tlearn: 0.0638730\ttotal: 774ms\tremaining: 133ms\n",
      "853:\tlearn: 0.0637710\ttotal: 775ms\tremaining: 133ms\n",
      "854:\tlearn: 0.0636351\ttotal: 776ms\tremaining: 132ms\n",
      "855:\tlearn: 0.0635868\ttotal: 777ms\tremaining: 131ms\n",
      "856:\tlearn: 0.0634985\ttotal: 778ms\tremaining: 130ms\n",
      "857:\tlearn: 0.0634081\ttotal: 778ms\tremaining: 129ms\n",
      "858:\tlearn: 0.0632873\ttotal: 779ms\tremaining: 128ms\n",
      "859:\tlearn: 0.0631025\ttotal: 780ms\tremaining: 127ms\n",
      "860:\tlearn: 0.0630134\ttotal: 781ms\tremaining: 126ms\n",
      "861:\tlearn: 0.0628837\ttotal: 781ms\tremaining: 125ms\n",
      "862:\tlearn: 0.0627705\ttotal: 782ms\tremaining: 124ms\n",
      "863:\tlearn: 0.0626783\ttotal: 783ms\tremaining: 123ms\n",
      "864:\tlearn: 0.0625635\ttotal: 784ms\tremaining: 122ms\n",
      "865:\tlearn: 0.0624586\ttotal: 785ms\tremaining: 121ms\n",
      "866:\tlearn: 0.0624130\ttotal: 786ms\tremaining: 121ms\n",
      "867:\tlearn: 0.0623565\ttotal: 787ms\tremaining: 120ms\n",
      "868:\tlearn: 0.0622893\ttotal: 788ms\tremaining: 119ms\n",
      "869:\tlearn: 0.0621502\ttotal: 789ms\tremaining: 118ms\n",
      "870:\tlearn: 0.0620932\ttotal: 789ms\tremaining: 117ms\n",
      "871:\tlearn: 0.0620027\ttotal: 790ms\tremaining: 116ms\n",
      "872:\tlearn: 0.0618915\ttotal: 791ms\tremaining: 115ms\n",
      "873:\tlearn: 0.0617597\ttotal: 792ms\tremaining: 114ms\n",
      "874:\tlearn: 0.0616387\ttotal: 793ms\tremaining: 113ms\n",
      "875:\tlearn: 0.0615518\ttotal: 794ms\tremaining: 112ms\n",
      "876:\tlearn: 0.0614721\ttotal: 794ms\tremaining: 111ms\n",
      "877:\tlearn: 0.0614424\ttotal: 795ms\tremaining: 110ms\n",
      "878:\tlearn: 0.0614001\ttotal: 796ms\tremaining: 110ms\n",
      "879:\tlearn: 0.0613402\ttotal: 797ms\tremaining: 109ms\n",
      "880:\tlearn: 0.0612955\ttotal: 798ms\tremaining: 108ms\n",
      "881:\tlearn: 0.0612489\ttotal: 799ms\tremaining: 107ms\n",
      "882:\tlearn: 0.0611770\ttotal: 799ms\tremaining: 106ms\n",
      "883:\tlearn: 0.0610682\ttotal: 800ms\tremaining: 105ms\n",
      "884:\tlearn: 0.0609482\ttotal: 801ms\tremaining: 104ms\n",
      "885:\tlearn: 0.0608341\ttotal: 802ms\tremaining: 103ms\n",
      "886:\tlearn: 0.0607053\ttotal: 803ms\tremaining: 102ms\n",
      "887:\tlearn: 0.0606235\ttotal: 803ms\tremaining: 101ms\n",
      "888:\tlearn: 0.0605273\ttotal: 804ms\tremaining: 100ms\n",
      "889:\tlearn: 0.0604018\ttotal: 805ms\tremaining: 99.5ms\n",
      "890:\tlearn: 0.0602929\ttotal: 806ms\tremaining: 98.6ms\n",
      "891:\tlearn: 0.0602346\ttotal: 807ms\tremaining: 97.7ms\n",
      "892:\tlearn: 0.0601790\ttotal: 808ms\tremaining: 96.8ms\n",
      "893:\tlearn: 0.0601462\ttotal: 809ms\tremaining: 95.9ms\n",
      "894:\tlearn: 0.0600303\ttotal: 810ms\tremaining: 95ms\n",
      "895:\tlearn: 0.0599013\ttotal: 810ms\tremaining: 94ms\n",
      "896:\tlearn: 0.0598106\ttotal: 811ms\tremaining: 93.1ms\n",
      "897:\tlearn: 0.0597315\ttotal: 812ms\tremaining: 92.2ms\n",
      "898:\tlearn: 0.0596822\ttotal: 813ms\tremaining: 91.3ms\n",
      "899:\tlearn: 0.0595957\ttotal: 814ms\tremaining: 90.4ms\n",
      "900:\tlearn: 0.0594624\ttotal: 814ms\tremaining: 89.5ms\n",
      "901:\tlearn: 0.0593798\ttotal: 815ms\tremaining: 88.6ms\n",
      "902:\tlearn: 0.0592769\ttotal: 816ms\tremaining: 87.7ms\n",
      "903:\tlearn: 0.0591627\ttotal: 817ms\tremaining: 86.7ms\n",
      "904:\tlearn: 0.0590971\ttotal: 818ms\tremaining: 85.8ms\n",
      "905:\tlearn: 0.0590035\ttotal: 818ms\tremaining: 84.9ms\n",
      "906:\tlearn: 0.0588691\ttotal: 819ms\tremaining: 84ms\n",
      "907:\tlearn: 0.0587607\ttotal: 820ms\tremaining: 83.1ms\n",
      "908:\tlearn: 0.0586480\ttotal: 821ms\tremaining: 82.2ms\n",
      "909:\tlearn: 0.0585402\ttotal: 822ms\tremaining: 81.3ms\n",
      "910:\tlearn: 0.0584617\ttotal: 822ms\tremaining: 80.3ms\n",
      "911:\tlearn: 0.0583270\ttotal: 823ms\tremaining: 79.4ms\n",
      "912:\tlearn: 0.0582367\ttotal: 824ms\tremaining: 78.5ms\n",
      "913:\tlearn: 0.0581569\ttotal: 825ms\tremaining: 77.6ms\n",
      "914:\tlearn: 0.0580540\ttotal: 825ms\tremaining: 76.7ms\n",
      "915:\tlearn: 0.0579449\ttotal: 826ms\tremaining: 75.8ms\n",
      "916:\tlearn: 0.0578666\ttotal: 827ms\tremaining: 74.9ms\n",
      "917:\tlearn: 0.0578151\ttotal: 828ms\tremaining: 74ms\n",
      "918:\tlearn: 0.0577199\ttotal: 829ms\tremaining: 73.1ms\n",
      "919:\tlearn: 0.0576082\ttotal: 830ms\tremaining: 72.2ms\n",
      "920:\tlearn: 0.0574837\ttotal: 831ms\tremaining: 71.3ms\n",
      "921:\tlearn: 0.0573564\ttotal: 832ms\tremaining: 70.4ms\n",
      "922:\tlearn: 0.0572827\ttotal: 833ms\tremaining: 69.5ms\n",
      "923:\tlearn: 0.0572559\ttotal: 833ms\tremaining: 68.5ms\n",
      "924:\tlearn: 0.0571984\ttotal: 834ms\tremaining: 67.6ms\n",
      "925:\tlearn: 0.0570589\ttotal: 835ms\tremaining: 66.7ms\n",
      "926:\tlearn: 0.0569373\ttotal: 836ms\tremaining: 65.8ms\n",
      "927:\tlearn: 0.0568769\ttotal: 837ms\tremaining: 64.9ms\n",
      "928:\tlearn: 0.0567756\ttotal: 837ms\tremaining: 64ms\n",
      "929:\tlearn: 0.0567286\ttotal: 838ms\tremaining: 63.1ms\n",
      "930:\tlearn: 0.0566414\ttotal: 839ms\tremaining: 62.2ms\n",
      "931:\tlearn: 0.0565806\ttotal: 840ms\tremaining: 61.3ms\n",
      "932:\tlearn: 0.0564510\ttotal: 841ms\tremaining: 60.4ms\n",
      "933:\tlearn: 0.0564019\ttotal: 841ms\tremaining: 59.5ms\n",
      "934:\tlearn: 0.0563178\ttotal: 842ms\tremaining: 58.5ms\n",
      "935:\tlearn: 0.0562093\ttotal: 843ms\tremaining: 57.6ms\n",
      "936:\tlearn: 0.0561520\ttotal: 844ms\tremaining: 56.7ms\n",
      "937:\tlearn: 0.0560482\ttotal: 845ms\tremaining: 55.8ms\n",
      "938:\tlearn: 0.0559906\ttotal: 845ms\tremaining: 54.9ms\n",
      "939:\tlearn: 0.0559125\ttotal: 846ms\tremaining: 54ms\n",
      "940:\tlearn: 0.0558441\ttotal: 847ms\tremaining: 53.1ms\n",
      "941:\tlearn: 0.0557981\ttotal: 848ms\tremaining: 52.2ms\n",
      "942:\tlearn: 0.0557045\ttotal: 848ms\tremaining: 51.3ms\n",
      "943:\tlearn: 0.0555735\ttotal: 849ms\tremaining: 50.4ms\n",
      "944:\tlearn: 0.0554920\ttotal: 850ms\tremaining: 49.5ms\n",
      "945:\tlearn: 0.0554522\ttotal: 851ms\tremaining: 48.6ms\n",
      "946:\tlearn: 0.0554062\ttotal: 852ms\tremaining: 47.7ms\n",
      "947:\tlearn: 0.0553696\ttotal: 852ms\tremaining: 46.8ms\n",
      "948:\tlearn: 0.0552811\ttotal: 853ms\tremaining: 45.8ms\n",
      "949:\tlearn: 0.0552161\ttotal: 854ms\tremaining: 44.9ms\n",
      "950:\tlearn: 0.0551374\ttotal: 855ms\tremaining: 44ms\n",
      "951:\tlearn: 0.0550490\ttotal: 856ms\tremaining: 43.1ms\n",
      "952:\tlearn: 0.0550013\ttotal: 857ms\tremaining: 42.2ms\n",
      "953:\tlearn: 0.0549386\ttotal: 857ms\tremaining: 41.3ms\n",
      "954:\tlearn: 0.0548848\ttotal: 858ms\tremaining: 40.4ms\n",
      "955:\tlearn: 0.0548240\ttotal: 859ms\tremaining: 39.5ms\n",
      "956:\tlearn: 0.0547817\ttotal: 860ms\tremaining: 38.6ms\n",
      "957:\tlearn: 0.0546787\ttotal: 861ms\tremaining: 37.7ms\n",
      "958:\tlearn: 0.0545678\ttotal: 861ms\tremaining: 36.8ms\n",
      "959:\tlearn: 0.0544994\ttotal: 862ms\tremaining: 35.9ms\n",
      "960:\tlearn: 0.0544107\ttotal: 863ms\tremaining: 35ms\n",
      "961:\tlearn: 0.0543493\ttotal: 864ms\tremaining: 34.1ms\n",
      "962:\tlearn: 0.0542878\ttotal: 865ms\tremaining: 33.2ms\n",
      "963:\tlearn: 0.0542283\ttotal: 866ms\tremaining: 32.3ms\n",
      "964:\tlearn: 0.0540986\ttotal: 866ms\tremaining: 31.4ms\n",
      "965:\tlearn: 0.0540010\ttotal: 867ms\tremaining: 30.5ms\n",
      "966:\tlearn: 0.0539372\ttotal: 868ms\tremaining: 29.6ms\n",
      "967:\tlearn: 0.0538599\ttotal: 869ms\tremaining: 28.7ms\n",
      "968:\tlearn: 0.0537661\ttotal: 870ms\tremaining: 27.8ms\n",
      "969:\tlearn: 0.0536296\ttotal: 871ms\tremaining: 26.9ms\n"
     ]
    },
    {
     "name": "stdout",
     "output_type": "stream",
     "text": [
      "970:\tlearn: 0.0534922\ttotal: 871ms\tremaining: 26ms\n",
      "971:\tlearn: 0.0534038\ttotal: 872ms\tremaining: 25.1ms\n",
      "972:\tlearn: 0.0532967\ttotal: 873ms\tremaining: 24.2ms\n",
      "973:\tlearn: 0.0532348\ttotal: 874ms\tremaining: 23.3ms\n",
      "974:\tlearn: 0.0531144\ttotal: 875ms\tremaining: 22.4ms\n",
      "975:\tlearn: 0.0530393\ttotal: 876ms\tremaining: 21.5ms\n",
      "976:\tlearn: 0.0529511\ttotal: 877ms\tremaining: 20.6ms\n",
      "977:\tlearn: 0.0528789\ttotal: 877ms\tremaining: 19.7ms\n",
      "978:\tlearn: 0.0527886\ttotal: 878ms\tremaining: 18.8ms\n",
      "979:\tlearn: 0.0526457\ttotal: 879ms\tremaining: 17.9ms\n",
      "980:\tlearn: 0.0524963\ttotal: 880ms\tremaining: 17ms\n",
      "981:\tlearn: 0.0524712\ttotal: 880ms\tremaining: 16.1ms\n",
      "982:\tlearn: 0.0524131\ttotal: 882ms\tremaining: 15.3ms\n",
      "983:\tlearn: 0.0523397\ttotal: 883ms\tremaining: 14.4ms\n",
      "984:\tlearn: 0.0522696\ttotal: 884ms\tremaining: 13.5ms\n",
      "985:\tlearn: 0.0521676\ttotal: 884ms\tremaining: 12.6ms\n",
      "986:\tlearn: 0.0520729\ttotal: 885ms\tremaining: 11.7ms\n",
      "987:\tlearn: 0.0519784\ttotal: 886ms\tremaining: 10.8ms\n",
      "988:\tlearn: 0.0519732\ttotal: 887ms\tremaining: 9.86ms\n",
      "989:\tlearn: 0.0518619\ttotal: 888ms\tremaining: 8.97ms\n",
      "990:\tlearn: 0.0517771\ttotal: 889ms\tremaining: 8.07ms\n",
      "991:\tlearn: 0.0517176\ttotal: 889ms\tremaining: 7.17ms\n",
      "992:\tlearn: 0.0516550\ttotal: 890ms\tremaining: 6.27ms\n",
      "993:\tlearn: 0.0515559\ttotal: 891ms\tremaining: 5.38ms\n",
      "994:\tlearn: 0.0514982\ttotal: 892ms\tremaining: 4.48ms\n",
      "995:\tlearn: 0.0514474\ttotal: 893ms\tremaining: 3.58ms\n",
      "996:\tlearn: 0.0513595\ttotal: 893ms\tremaining: 2.69ms\n",
      "997:\tlearn: 0.0513475\ttotal: 894ms\tremaining: 1.79ms\n",
      "998:\tlearn: 0.0512542\ttotal: 895ms\tremaining: 895us\n",
      "999:\tlearn: 0.0511489\ttotal: 896ms\tremaining: 0us\n"
     ]
    },
    {
     "data": {
      "text/plain": [
       "<catboost.core.CatBoostRegressor at 0x7fad231e8d30>"
      ]
     },
     "execution_count": 9,
     "metadata": {},
     "output_type": "execute_result"
    }
   ],
   "source": [
    "#Train the Model \n",
    "prior_model = ctb.CatBoostRegressor()\n",
    "prior_model.fit(X_train,Y_train)"
   ]
  },
  {
   "cell_type": "code",
   "execution_count": 10,
   "id": "af65dcda",
   "metadata": {
    "execution": {
     "iopub.execute_input": "2022-06-12T07:11:02.769417Z",
     "iopub.status.busy": "2022-06-12T07:11:02.768988Z",
     "iopub.status.idle": "2022-06-12T07:11:02.776645Z",
     "shell.execute_reply": "2022-06-12T07:11:02.776894Z"
    },
    "id": "af65dcda",
    "papermill": {
     "duration": 0.020945,
     "end_time": "2022-06-12T07:11:02.777009",
     "exception": false,
     "start_time": "2022-06-12T07:11:02.756064",
     "status": "completed"
    },
    "tags": []
   },
   "outputs": [
    {
     "data": {
      "application/scrapbook.scrap.json+json": {
       "data": 0.1014148056712803,
       "encoder": "json",
       "name": "Prior Model MSE",
       "version": 1
      }
     },
     "metadata": {
      "scrapbook": {
       "data": true,
       "display": false,
       "name": "Prior Model MSE"
      }
     },
     "output_type": "display_data"
    },
    {
     "data": {
      "application/scrapbook.scrap.json+json": {
       "data": 0.11156670985699406,
       "encoder": "json",
       "name": "ABC Pre-generator MSE",
       "version": 1
      }
     },
     "metadata": {
      "scrapbook": {
       "data": true,
       "display": false,
       "name": "ABC Pre-generator MSE"
      }
     },
     "output_type": "display_data"
    },
    {
     "data": {
      "application/scrapbook.scrap.json+json": {
       "data": 0.22291418384791462,
       "encoder": "json",
       "name": "Prior Model MSE",
       "version": 1
      }
     },
     "metadata": {
      "scrapbook": {
       "data": true,
       "display": false,
       "name": "Prior Model MSE"
      }
     },
     "output_type": "display_data"
    },
    {
     "data": {
      "application/scrapbook.scrap.json+json": {
       "data": 0.2389238570380695,
       "encoder": "json",
       "name": "ABC Pre-generator MSE",
       "version": 1
      }
     },
     "metadata": {
      "scrapbook": {
       "data": true,
       "display": false,
       "name": "ABC Pre-generator MSE"
      }
     },
     "output_type": "display_data"
    }
   ],
   "source": [
    "y_pred = prior_model.predict(X_test)\n",
    "y_abc = y_pred + np.random.normal(0,variance, y_pred.shape) + bias \n",
    "mse = mean_squared_error(y_pred,Y_test)\n",
    "sb.glue(\"Prior Model MSE\",mse)\n",
    "mse = mean_squared_error(y_abc,Y_test)\n",
    "sb.glue(\"ABC Pre-generator MSE\",mse)\n",
    "mae = mean_absolute_error(y_pred,Y_test)\n",
    "sb.glue(\"Prior Model MSE\",mae)\n",
    "mae = mean_absolute_error(y_abc,Y_test)\n",
    "sb.glue(\"ABC Pre-generator MSE\",mae)"
   ]
  },
  {
   "cell_type": "markdown",
   "id": "25609da2",
   "metadata": {
    "papermill": {
     "duration": 0.009722,
     "end_time": "2022-06-12T07:11:02.796737",
     "exception": false,
     "start_time": "2022-06-12T07:11:02.787015",
     "status": "completed"
    },
    "tags": []
   },
   "source": [
    "# ABC GAN Model"
   ]
  },
  {
   "cell_type": "code",
   "execution_count": 11,
   "id": "dfc3464d",
   "metadata": {
    "execution": {
     "iopub.execute_input": "2022-06-12T07:11:02.819113Z",
     "iopub.status.busy": "2022-06-12T07:11:02.818749Z",
     "iopub.status.idle": "2022-06-12T07:11:02.821333Z",
     "shell.execute_reply": "2022-06-12T07:11:02.821575Z"
    },
    "papermill": {
     "duration": 0.015171,
     "end_time": "2022-06-12T07:11:02.821684",
     "exception": false,
     "start_time": "2022-06-12T07:11:02.806513",
     "status": "completed"
    },
    "tags": []
   },
   "outputs": [],
   "source": [
    "gen = network.Generator(n_features+1).to(device)\n",
    "disc = network.Discriminator(n_features+1).to(device)\n",
    "\n",
    "criterion = torch.nn.BCELoss()\n",
    "gen_opt = torch.optim.Adam(gen.parameters(), lr=0.001, betas=(0.5, 0.999))\n",
    "disc_opt = torch.optim.Adam(disc.parameters(), lr=0.001, betas=(0.5, 0.999))"
   ]
  },
  {
   "cell_type": "code",
   "execution_count": 12,
   "id": "b75fdd85",
   "metadata": {
    "execution": {
     "iopub.execute_input": "2022-06-12T07:11:02.844227Z",
     "iopub.status.busy": "2022-06-12T07:11:02.843844Z",
     "iopub.status.idle": "2022-06-12T07:12:02.895174Z",
     "shell.execute_reply": "2022-06-12T07:12:02.895474Z"
    },
    "papermill": {
     "duration": 60.063901,
     "end_time": "2022-06-12T07:12:02.895594",
     "exception": false,
     "start_time": "2022-06-12T07:11:02.831693",
     "status": "completed"
    },
    "tags": []
   },
   "outputs": [
    {
     "data": {
      "image/png": "[encoded data removed]",
      "text/plain": [
       "<Figure size 432x288 with 1 Axes>"
      ]
     },
     "metadata": {
      "needs_background": "light"
     },
     "output_type": "display_data"
    },
    {
     "data": {
      "image/png": "[encoded data removed]",
      "text/plain": [
       "<Figure size 432x288 with 1 Axes>"
      ]
     },
     "metadata": {
      "needs_background": "light"
     },
     "output_type": "display_data"
    }
   ],
   "source": [
    "#Training the ABC_GAN \n",
    "ABC_train_test2.training_GAN(disc,gen,disc_opt,gen_opt,train_data,batch_size,n_epochs,criterion,prior_model,variance,bias,device)"
   ]
  },
  {
   "cell_type": "code",
   "execution_count": 13,
   "id": "1fa7c368",
   "metadata": {
    "execution": {
     "iopub.execute_input": "2022-06-12T07:12:02.920035Z",
     "iopub.status.busy": "2022-06-12T07:12:02.919639Z",
     "iopub.status.idle": "2022-06-12T07:12:03.231486Z",
     "shell.execute_reply": "2022-06-12T07:12:03.231786Z"
    },
    "papermill": {
     "duration": 0.325385,
     "end_time": "2022-06-12T07:12:03.231924",
     "exception": false,
     "start_time": "2022-06-12T07:12:02.906539",
     "status": "completed"
    },
    "tags": []
   },
   "outputs": [
    {
     "data": {
      "application/scrapbook.scrap.json+json": {
       "data": 0.09224739513547912,
       "encoder": "json",
       "name": "ABC-GAN Model 1 MSE",
       "version": 1
      }
     },
     "metadata": {
      "scrapbook": {
       "data": true,
       "display": false,
       "name": "ABC-GAN Model 1 MSE"
      }
     },
     "output_type": "display_data"
    },
    {
     "data": {
      "application/scrapbook.scrap.json+json": {
       "data": 0.209381116058577,
       "encoder": "json",
       "name": "ABC-GAN Model 1 MAE",
       "version": 1
      }
     },
     "metadata": {
      "scrapbook": {
       "data": true,
       "display": false,
       "name": "ABC-GAN Model 1 MAE"
      }
     },
     "output_type": "display_data"
    },
    {
     "data": {
      "application/scrapbook.scrap.json+json": {
       "data": 21.356873837974852,
       "encoder": "json",
       "name": "ABC-GAN Model 1 Manhattan Distance",
       "version": 1
      }
     },
     "metadata": {
      "scrapbook": {
       "data": true,
       "display": false,
       "name": "ABC-GAN Model 1 Manhattan Distance"
      }
     },
     "output_type": "display_data"
    },
    {
     "data": {
      "application/scrapbook.scrap.json+json": {
       "data": 3.0665019576815546,
       "encoder": "json",
       "name": "ABC-GAN Model 1 Euclidean distance",
       "version": 1
      }
     },
     "metadata": {
      "scrapbook": {
       "data": true,
       "display": false,
       "name": "ABC-GAN Model 1 Euclidean distance"
      }
     },
     "output_type": "display_data"
    },
    {
     "data": {
      "application/scrapbook.scrap.json+json": {
       "data": [
        [
         0.09154813011300954,
         0.08633486557983581,
         0.09464357885012965,
         0.0907839465583843,
         0.0964051878645522,
         0.09714763604658648,
         0.08227650775377611,
         0.09310638606906453,
         0.08785467929546624,
         0.09436679661168731,
         0.0984426006804417,
         0.08832329238429215,
         0.0826339108816281,
         0.09356115145296229,
         0.08759979585402196,
         0.09136275491506218,
         0.09317006115039063,
         0.0971853461715992,
         0.09288500712692685,
         0.09061669663626794,
         0.09512711359182505,
         0.09306233469095149,
         0.10047111753415292,
         0.0914368439979026,
         0.08594573677292366,
         0.09746979660996424,
         0.0919761361419985,
         0.08363844656670896,
         0.09352452292950582,
         0.08427728038045995,
         0.09675992092998219,
         0.0883314923141991,
         0.09506937384517154,
         0.08393033916126134,
         0.08618261298560173,
         0.08615968944409484,
         0.0884542100582464,
         0.09779669220354606,
         0.08836685913322342,
         0.09382372300272263,
         0.09041496675778149,
         0.086166833855393,
         0.09223625716956418,
         0.0944248850095777,
         0.09128057974827132,
         0.09765380187832783,
         0.09122951100524546,
         0.08812615359174909,
         0.09558895650815692,
         0.09453535382403332,
         0.08667860152521334,
         0.09580341324294327,
         0.10042429596719538,
         0.08998001585850691,
         0.0884108885326394,
         0.09342667184098062,
         0.09861980551433139,
         0.09183289955503669,
         0.08832940956631058,
         0.09738053984132497,
         0.09093351901507972,
         0.09438669745584256,
         0.10889187800508048,
         0.09188424272412885,
         0.09027354807969354,
         0.09626367857625252,
         0.0952947240901483,
         0.09384216630867194,
         0.09170150193533591,
         0.08474168895348778,
         0.09284625193015007,
         0.09386168886586015,
         0.08871046414487034,
         0.08589876956466722,
         0.10036665841947338,
         0.09432419721284792,
         0.09515082468076753,
         0.0975875072198596,
         0.09123384147029029,
         0.09136210863239724,
         0.08912505838715101,
         0.09383326628796067,
         0.08791927285848969,
         0.09230233817695016,
         0.08684394182661676,
         0.0940096642789473,
         0.0945265414977573,
         0.09794847103694657,
         0.10202461072510313,
         0.09580720106195408,
         0.09161867412864869,
         0.09262468925717872,
         0.0905518264819764,
         0.09075382416278119,
         0.0843799106939827,
         0.09302598311212038,
         0.09276680770142937,
         0.09174566225826701,
         0.09743234990166069,
         0.09134704734397413
        ],
        [
         0.20123925666763065,
         0.20122151901288068,
         0.2147229844430352,
         0.2067316405420356,
         0.2119788250191977,
         0.213169844159126,
         0.20414420340995432,
         0.20345533318708048,
         0.20221934170809155,
         0.20910198647328013,
         0.21650218506635843,
         0.20779355075758169,
         0.2030738859766108,
         0.21372596006018713,
         0.2041030259410321,
         0.20695684301009512,
         0.2148675369966191,
         0.20865799473397725,
         0.20550682691985048,
         0.20092886836980195,
         0.21141108139144146,
         0.2079739649917054,
         0.2177224091080693,
         0.20013860254731103,
         0.20011152475889699,
         0.21123733076120854,
         0.2162681570888369,
         0.1987230956974421,
         0.21782448225855536,
         0.19360600646548703,
         0.21144382985692253,
         0.2076641989269239,
         0.21172007185169586,
         0.205539100835392,
         0.20592364380775274,
         0.20455383634943441,
         0.2036442550574886,
         0.2139115519410766,
         0.20729228641436087,
         0.2094469606127663,
         0.20631337228833752,
         0.202319605892305,
         0.20963390389749526,
         0.2095189082399741,
         0.2092232774787893,
         0.20880593309251994,
         0.21105614908532622,
         0.20853993056488096,
         0.21255406480757336,
         0.21827395481294862,
         0.20079204137893578,
         0.2156461137209964,
         0.22049521223422797,
         0.20665860987797963,
         0.20476431452084845,
         0.20675348336169241,
         0.21323468800013265,
         0.20943420223307377,
         0.20568032669104344,
         0.206426942419699,
         0.21380037073885985,
         0.21397331672464953,
         0.2307209270942372,
         0.20978388118137622,
         0.2075918218276153,
         0.21231645605910351,
         0.20387979935142486,
         0.20650575307709182,
         0.2174107747873766,
         0.20709165193907478,
         0.20537155509615937,
         0.2086984988429821,
         0.2136659748331808,
         0.20847159570685642,
         0.21995495292175488,
         0.21611894059962794,
         0.21997113939940782,
         0.21782902534138046,
         0.20472017839989243,
         0.21289011331585547,
         0.20389758025789084,
         0.20786272814296478,
         0.20449204165397175,
         0.20130152664348192,
         0.20689446473147208,
         0.2085002336523258,
         0.21098866521873894,
         0.21442064774843553,
         0.2237718928988804,
         0.21425362974953124,
         0.20775108368537737,
         0.20692219571940892,
         0.20805191081565091,
         0.20970227666582694,
         0.20485919928543417,
         0.21318633021220712,
         0.2049781187738785,
         0.21304680927948771,
         0.2162475586576643,
         0.2138329470511891
        ],
        [
         20.526404180098325,
         20.52459493931383,
         21.90174441318959,
         21.08662733528763,
         21.621840151958168,
         21.74332410423085,
         20.82270874781534,
         20.75244398508221,
         20.626372854225338,
         21.328402620274574,
         22.08322287676856,
         21.194942177273333,
         20.713536369614303,
         21.800047926139086,
         20.818508645985276,
         21.1095979870297,
         21.916488773655146,
         21.28311546286568,
         20.96169634582475,
         20.4947445737198,
         21.56393030192703,
         21.21334442915395,
         22.20768572902307,
         20.414137459825724,
         20.411375525407493,
         21.54620773764327,
         22.059352023061365,
         20.269755761139095,
         22.218097190372646,
         19.747812659479678,
         21.567270645406097,
         21.18174829054624,
         21.59544732887298,
         20.964988285209984,
         21.00421166839078,
         20.86449130764231,
         20.771714015863836,
         21.818978297989815,
         21.14381321426481,
         21.363589982502162,
         21.043963973410428,
         20.63659980101511,
         21.382658197544515,
         21.37092864047736,
         21.340774302836508,
         21.298205175437033,
         21.527727206703275,
         21.271072917617857,
         21.680514610372484,
         22.26394339092076,
         20.480788220651448,
         21.995903599541634,
         22.490511647891253,
         21.079178207553923,
         20.88596008112654,
         21.088855302892625,
         21.74993817601353,
         21.362288627773523,
         20.97939332248643,
         21.0555481268093,
         21.807637815363705,
         21.825278305914253,
         23.533534563612193,
         21.397955880500376,
         21.17436582641676,
         21.656278518028557,
         20.795739533845335,
         21.063586813863367,
         22.175899028312415,
         21.123348497785628,
         20.947898619808257,
         21.287246881984174,
         21.79392943298444,
         21.264102762099355,
         22.435405198018998,
         22.04413194116205,
         22.4370562187396,
         22.218560584820807,
         20.881458196789026,
         21.714791558217257,
         20.797553186304867,
         21.201998270582408,
         20.85818824870512,
         20.532755717635155,
         21.103235402610153,
         21.267023832537234,
         21.520843852311373,
         21.870906070340425,
         22.8247330756858,
         21.853870234452188,
         21.19061053590849,
         21.10606396337971,
         21.221294903196394,
         21.389632219914347,
         20.895638327114284,
         21.745005681645125,
         20.907768114935607,
         21.730774546507746,
         22.057250983081758,
         21.81096059922129
        ],
        [
         3.0557992852160583,
         2.9675168557471165,
         3.107031548393615,
         3.043018657345893,
         3.135813955288852,
         3.147865765364181,
         2.89693006316776,
         3.081696185389563,
         2.993522555140942,
         3.10248501275866,
         3.1687766203071255,
         3.0014955977308713,
         2.9032152710272903,
         3.0892130791193653,
         2.989177006654212,
         3.0527038836638485,
         3.0827497850684935,
         3.1484766649132268,
         3.0780303323629763,
         3.040214311014822,
         3.1149583602941076,
         3.080967078447456,
         3.2012581883508857,
         3.0539414021533,
         2.9608217019669074,
         3.153080914631966,
         3.0629341955849863,
         2.920808372660609,
         3.088608317480478,
         2.9319417795732097,
         3.1415779370975634,
         3.0016349238453888,
         3.114012866416498,
         2.9259006467152395,
         2.9648990749317887,
         2.9645047349089655,
         3.0037192655008775,
         3.158363912655047,
         3.0022357721519457,
         3.093544851182492,
         3.0368283799539464,
         2.9646276415850417,
         3.067262334932496,
         3.103439748243378,
         3.0513307153312104,
         3.1560557332831487,
         3.0504770319632035,
         2.9981440369599337,
         3.1225107788175857,
         3.1052545934353595,
         2.973418462909612,
         3.1260115404105937,
         3.2005121759890134,
         3.0295150796072465,
         3.0029836213887706,
         3.0869921489663725,
         3.1716273681600438,
         3.0605482767984142,
         3.0015995362079333,
         3.151636886415557,
         3.045524411253032,
         3.102812134257558,
         3.332712342299919,
         3.061403723434912,
         3.0344524883623967,
         3.133511642674678,
         3.1177013739604904,
         3.0938488915078795,
         3.058357924999012,
         2.940008889996041,
         3.0773881290593335,
         3.0941706908827333,
         3.0080670442622743,
         2.960012583688801,
         3.1995935927530366,
         3.1017846662382103,
         3.1153465485300806,
         3.1549842688079566,
         3.0505494308353054,
         3.0526930865228685,
         3.015088051034232,
         3.093702177225853,
         2.994622819582785,
         3.0683608806737386,
         2.9762530245788756,
         3.0966087509487896,
         3.10510985840618,
         3.160813826496042,
         3.2259123196330863,
         3.1260733370027194,
         3.056976408335885,
         3.073714089539271,
         3.0391259107120905,
         3.042513773938202,
         2.9337264512538033,
         3.0803652831176165,
         3.076071258203521,
         3.0590942369177245,
         3.1524751688109123,
         3.052441453834186
        ]
       ],
       "encoder": "json",
       "name": "ABC_GAN_1 Metrics",
       "version": 1
      }
     },
     "metadata": {
      "scrapbook": {
       "data": true,
       "display": false,
       "name": "ABC_GAN_1 Metrics"
      }
     },
     "output_type": "display_data"
    },
    {
     "name": "stdout",
     "output_type": "stream",
     "text": [
      "MSE\n",
      "0.09224739513547912\n"
     ]
    }
   ],
   "source": [
    "ABC_GAN1_metrics=ABC_train_test2.test_generator(gen,test_data,prior_model,variance,bias,\"1\",device)\n",
    "sb.glue(\"ABC_GAN_1 Metrics\",ABC_GAN1_metrics)\n",
    "\n",
    "print(\"MSE\")\n",
    "print(mean(ABC_GAN1_metrics[0]))"
   ]
  },
  {
   "cell_type": "code",
   "execution_count": 14,
   "id": "eb22ce5c",
   "metadata": {
    "execution": {
     "iopub.execute_input": "2022-06-12T07:12:03.259138Z",
     "iopub.status.busy": "2022-06-12T07:12:03.258759Z",
     "iopub.status.idle": "2022-06-12T07:12:03.585790Z",
     "shell.execute_reply": "2022-06-12T07:12:03.586030Z"
    },
    "papermill": {
     "duration": 0.341532,
     "end_time": "2022-06-12T07:12:03.586150",
     "exception": false,
     "start_time": "2022-06-12T07:12:03.244618",
     "status": "completed"
    },
    "tags": []
   },
   "outputs": [
    {
     "data": {
      "image/png": "[encoded data removed]",
      "text/plain": [
       "<Figure size 432x288 with 1 Axes>"
      ]
     },
     "metadata": {
      "needs_background": "light"
     },
     "output_type": "display_data"
    },
    {
     "data": {
      "image/png": "[encoded data removed]",
      "text/plain": [
       "<Figure size 432x288 with 1 Axes>"
      ]
     },
     "metadata": {
      "needs_background": "light"
     },
     "output_type": "display_data"
    },
    {
     "data": {
      "image/png": "[encoded data removed]",
      "text/plain": [
       "<Figure size 432x288 with 1 Axes>"
      ]
     },
     "metadata": {
      "needs_background": "light"
     },
     "output_type": "display_data"
    },
    {
     "data": {
      "image/png": "[encoded data removed]",
      "text/plain": [
       "<Figure size 432x288 with 1 Axes>"
      ]
     },
     "metadata": {
      "needs_background": "light"
     },
     "output_type": "display_data"
    }
   ],
   "source": [
    "sanityChecks.discProbVsError(train_data,disc,device)\n",
    "sanityChecks.discProbVsError(test_data,disc,device)"
   ]
  },
  {
   "cell_type": "markdown",
   "id": "130f3a4d",
   "metadata": {
    "id": "130f3a4d",
    "papermill": {
     "duration": 0.015265,
     "end_time": "2022-06-12T07:12:03.616323",
     "exception": false,
     "start_time": "2022-06-12T07:12:03.601058",
     "status": "completed"
    },
    "tags": []
   },
   "source": [
    "# ABC - GAN Model with skip connection"
   ]
  },
  {
   "cell_type": "code",
   "execution_count": 15,
   "id": "4e43dad1",
   "metadata": {
    "execution": {
     "iopub.execute_input": "2022-06-12T07:12:03.649494Z",
     "iopub.status.busy": "2022-06-12T07:12:03.649123Z",
     "iopub.status.idle": "2022-06-12T07:12:03.651455Z",
     "shell.execute_reply": "2022-06-12T07:12:03.651755Z"
    },
    "id": "4e43dad1",
    "papermill": {
     "duration": 0.02057,
     "end_time": "2022-06-12T07:12:03.651868",
     "exception": false,
     "start_time": "2022-06-12T07:12:03.631298",
     "status": "completed"
    },
    "tags": []
   },
   "outputs": [],
   "source": [
    "#Generator\n",
    "gen3 = network.GeneratorWithSkipConnection(n_features+1).to(device)\n",
    "constraints=network.weightConstraint()\n",
    "#Discriminator \n",
    "disc3 = network.Discriminator(n_features+1).to(device)\n",
    "\n",
    "criterion = torch.nn.BCELoss()\n",
    "gen_opt = torch.optim.Adam(gen3.parameters(), lr=0.001, betas=(0.5, 0.999))\n",
    "disc_opt = torch.optim.Adam(disc3.parameters(), lr=0.001, betas=(0.5, 0.999))\n"
   ]
  },
  {
   "cell_type": "code",
   "execution_count": 16,
   "id": "26acbc37",
   "metadata": {
    "execution": {
     "iopub.execute_input": "2022-06-12T07:12:03.683912Z",
     "iopub.status.busy": "2022-06-12T07:12:03.683531Z",
     "iopub.status.idle": "2022-06-12T07:14:57.104726Z",
     "shell.execute_reply": "2022-06-12T07:14:57.105053Z"
    },
    "id": "26acbc37",
    "papermill": {
     "duration": 173.438432,
     "end_time": "2022-06-12T07:14:57.105175",
     "exception": false,
     "start_time": "2022-06-12T07:12:03.666743",
     "status": "completed"
    },
    "tags": []
   },
   "outputs": [
    {
     "data": {
      "image/png": "[encoded data removed]",
      "text/plain": [
       "<Figure size 432x288 with 1 Axes>"
      ]
     },
     "metadata": {
      "needs_background": "light"
     },
     "output_type": "display_data"
    },
    {
     "data": {
      "image/png": "[encoded data removed]",
      "text/plain": [
       "<Figure size 432x288 with 1 Axes>"
      ]
     },
     "metadata": {
      "needs_background": "light"
     },
     "output_type": "display_data"
    }
   ],
   "source": [
    "ABC_train_test2.training_GAN_skip_connection(disc3,gen3,disc_opt,gen_opt,train_data,batch_size,n_epochs,criterion,prior_model,variance,bias,device)"
   ]
  },
  {
   "cell_type": "code",
   "execution_count": 17,
   "id": "c5e0717b",
   "metadata": {
    "execution": {
     "iopub.execute_input": "2022-06-12T07:14:57.138930Z",
     "iopub.status.busy": "2022-06-12T07:14:57.138538Z",
     "iopub.status.idle": "2022-06-12T07:14:57.955722Z",
     "shell.execute_reply": "2022-06-12T07:14:57.955978Z"
    },
    "id": "c5e0717b",
    "papermill": {
     "duration": 0.835282,
     "end_time": "2022-06-12T07:14:57.956103",
     "exception": false,
     "start_time": "2022-06-12T07:14:57.120821",
     "status": "completed"
    },
    "tags": []
   },
   "outputs": [
    {
     "data": {
      "application/scrapbook.scrap.json+json": {
       "data": 0.10929319757718697,
       "encoder": "json",
       "name": "ABC-GAN Model 3 MSE",
       "version": 1
      }
     },
     "metadata": {
      "scrapbook": {
       "data": true,
       "display": false,
       "name": "ABC-GAN Model 3 MSE"
      }
     },
     "output_type": "display_data"
    },
    {
     "data": {
      "application/scrapbook.scrap.json+json": {
       "data": 0.22717741031126648,
       "encoder": "json",
       "name": "ABC-GAN Model 3 MAE",
       "version": 1
      }
     },
     "metadata": {
      "scrapbook": {
       "data": true,
       "display": false,
       "name": "ABC-GAN Model 3 MAE"
      }
     },
     "output_type": "display_data"
    },
    {
     "data": {
      "application/scrapbook.scrap.json+json": {
       "data": 23.17209585174918,
       "encoder": "json",
       "name": "ABC-GAN Model 3 Manhattan Distance",
       "version": 1
      }
     },
     "metadata": {
      "scrapbook": {
       "data": true,
       "display": false,
       "name": "ABC-GAN Model 3 Manhattan Distance"
      }
     },
     "output_type": "display_data"
    },
    {
     "data": {
      "application/scrapbook.scrap.json+json": {
       "data": 3.3379742576915605,
       "encoder": "json",
       "name": "ABC-GAN Model 3 Euclidean distance",
       "version": 1
      }
     },
     "metadata": {
      "scrapbook": {
       "data": true,
       "display": false,
       "name": "ABC-GAN Model 3 Euclidean distance"
      }
     },
     "output_type": "display_data"
    },
    {
     "data": {
      "application/scrapbook.scrap.json+json": {
       "data": [
        [
         0.10924955875780305,
         0.11285186490577656,
         0.1086829440906131,
         0.11014013346678336,
         0.11022665728914087,
         0.10906289386068659,
         0.11217719100068034,
         0.11697442022719837,
         0.10251095552664405,
         0.11749763836126706,
         0.1098028871447997,
         0.11418944064846351,
         0.11544858474742128,
         0.10710837601641163,
         0.1051747508601864,
         0.11537012805901437,
         0.11346688420457839,
         0.10489520200019507,
         0.10466643685256054,
         0.11726424283710386,
         0.11503030744825839,
         0.10612539175568109,
         0.10846939905685977,
         0.10428698710525847,
         0.09991324022473437,
         0.10952827179020773,
         0.1145885309239904,
         0.11322143200418307,
         0.11320550168480534,
         0.11534387370824829,
         0.10703666994642184,
         0.10611111297276757,
         0.11181078107425137,
         0.11196551545459155,
         0.10875273400049588,
         0.09316385160630382,
         0.10437322211445124,
         0.10718508664674875,
         0.10750424074200604,
         0.10121161307446201,
         0.10773317264522116,
         0.11518422951709652,
         0.10892973066163651,
         0.10578218232080851,
         0.10618699483796037,
         0.11441665914476833,
         0.10628735153261942,
         0.10816850442888422,
         0.10139443768042318,
         0.10371771951774313,
         0.1101739746949221,
         0.11034646877560919,
         0.10367040305275285,
         0.11028893114366631,
         0.10813420901639825,
         0.10830675644899365,
         0.10889609254327688,
         0.10556882935687296,
         0.10773920715184568,
         0.10267997357091688,
         0.10953390423587171,
         0.11446426894509985,
         0.11079896127540623,
         0.11115954416074633,
         0.11397513479759314,
         0.11934414962707283,
         0.11235457804960436,
         0.10560739256549663,
         0.10940772184052373,
         0.10205430711762392,
         0.10694486493878962,
         0.11176468755831274,
         0.10980842569086068,
         0.10295553489035691,
         0.11929823036942203,
         0.10561624806383228,
         0.11355867176804385,
         0.1039667883147267,
         0.11961962157292533,
         0.10823430269260088,
         0.10127889657460287,
         0.10665004641822591,
         0.11579219011987718,
         0.11762742505760261,
         0.10764708195204431,
         0.10692497482104144,
         0.10473804101839518,
         0.11599701206403853,
         0.10583108365479636,
         0.1096531215335505,
         0.10873400417149008,
         0.10236687150485971,
         0.11186713073442554,
         0.11224112040180316,
         0.11506942236335292,
         0.11674331622292186,
         0.10603108736264791,
         0.11553481920632434,
         0.1097511490801744,
         0.09917884274714217
        ],
        [
         0.22249346935902448,
         0.22849178987135196,
         0.22385692816483332,
         0.22563611758945912,
         0.22855906269750467,
         0.22761882197878816,
         0.23023707018799933,
         0.23608647033973945,
         0.22086796430213487,
         0.23385631036488155,
         0.22085328105216226,
         0.22883593607876523,
         0.23587446843328722,
         0.2286427999189233,
         0.22779807486735723,
         0.23639144856190564,
         0.23385435413094421,
         0.21892528231347017,
         0.21862580030973927,
         0.2316617127416619,
         0.23067926092292457,
         0.2237168216584798,
         0.22993037286305837,
         0.22423312489819877,
         0.219204506590305,
         0.22543783459410655,
         0.23893776057543709,
         0.22386433234365255,
         0.23096299621587,
         0.229168719493364,
         0.22879340327070916,
         0.22557726676813236,
         0.22998414461628772,
         0.2290517684236607,
         0.2253696962040575,
         0.21688242263032817,
         0.22421180200306515,
         0.22620328212631682,
         0.22347208023911305,
         0.22752082277564148,
         0.22569199584826244,
         0.23467532969901667,
         0.22716435285139025,
         0.2253259012347781,
         0.22421192285586514,
         0.2364535332913054,
         0.22194393523329614,
         0.22045459380081178,
         0.2230944530764485,
         0.2250511820574163,
         0.21984235740577182,
         0.231945856355642,
         0.22046630507262022,
         0.22934520736738456,
         0.22721619492250622,
         0.22744510650598243,
         0.2289195867419681,
         0.22181983287537507,
         0.22639965422122793,
         0.2214739747144574,
         0.22698214021054844,
         0.2330882312346469,
         0.2232965309921579,
         0.23605814821762489,
         0.2292814757948851,
         0.23907057977482385,
         0.2208331885711089,
         0.22310147501126515,
         0.23257567058773895,
         0.21583586687441259,
         0.22222260875152608,
         0.23300901609564237,
         0.2288007866499909,
         0.2248599076296623,
         0.23278220811420502,
         0.22436950069980002,
         0.23100652082768433,
         0.21868723281202654,
         0.2385672994560617,
         0.22230868754616262,
         0.22098798190663552,
         0.2314132959947136,
         0.2343496471990411,
         0.2381185498545129,
         0.21973845516970636,
         0.22870792520652508,
         0.2240274284564543,
         0.23181342836652025,
         0.2213918140395453,
         0.22701880177848188,
         0.2230466479599914,
         0.2223152673584135,
         0.2262510580704639,
         0.22971404143883026,
         0.23262502112444125,
         0.23282109855619423,
         0.2230618488061808,
         0.22943461851636862,
         0.2332033910971208,
         0.2196527757663645
        ],
        [
         22.694333874620497,
         23.3061625668779,
         22.833406672813,
         23.01488399412483,
         23.313024395145476,
         23.217119841836393,
         23.484181159175932,
         24.080819974653423,
         22.528532358817756,
         23.85334365721792,
         22.52703466732055,
         23.341265480034053,
         24.059195780195296,
         23.321565591730177,
         23.235403636470437,
         24.111927753314376,
         23.85314412135631,
         22.330378795973957,
         22.299831631593406,
         23.629494699649513,
         23.529284614138305,
         22.81911580916494,
         23.452898032031953,
         22.871778739616275,
         22.35885967221111,
         22.99465912859887,
         24.371651578694582,
         22.83416189905256,
         23.55822561401874,
         23.375209388323128,
         23.336927133612335,
         23.0088812103495,
         23.458382750861347,
         23.363280379213393,
         22.987709012813866,
         22.122007108293474,
         22.869603804312646,
         23.072734776884317,
         22.79415218438953,
         23.207123923115432,
         23.020583576522768,
         23.9368836292997,
         23.170763990841806,
         22.983241925947368,
         22.869616131298244,
         24.11826039571315,
         22.638281393796206,
         22.486368567682803,
         22.755634213797748,
         22.955220569856465,
         22.423920455388725,
         23.658477348275483,
         22.487563117407262,
         23.393211151473224,
         23.176051882095635,
         23.199400863610208,
         23.349797847680748,
         22.625622953288257,
         23.09276473056525,
         22.590345420874655,
         23.152178301475942,
         23.774999585933983,
         22.776246161200106,
         24.07793111819774,
         23.38671053107828,
         24.385199137032032,
         22.52498523425311,
         22.756350451149046,
         23.722718399949372,
         22.015258421190083,
         22.66670609265566,
         23.76691964175552,
         23.337680238299072,
         22.935710578225553,
         23.743785227648914,
         22.885689071379602,
         23.562665124423802,
         22.30609774682671,
         24.333864544518292,
         22.675486129708588,
         22.54077415447682,
         23.60415619146079,
         23.903664014302194,
         24.288092085160315,
         22.41332242731005,
         23.328208371065557,
         22.85079770255834,
         23.644969693385065,
         22.581965032033622,
         23.15591778140515,
         22.750758091919124,
         22.67615727055818,
         23.077607923187315,
         23.430832226760685,
         23.727752154693007,
         23.747752052731812,
         22.75230857823044,
         23.402331088669598,
         23.78674589190632,
         22.40458312816918
        ],
        [
         3.3381813901128723,
         3.3927702870057685,
         3.329513522609952,
         3.351759778625537,
         3.3530760569203277,
         3.3353283457240055,
         3.3826134100824157,
         3.45418454387924,
         3.233592037304288,
         3.4619010836315414,
         3.3466243423440236,
         3.4128174498708943,
         3.43158209055779,
         3.305306998400298,
         3.2753357977067044,
         3.43041587304214,
         3.4020026732598243,
         3.270980067811466,
         3.267411293204632,
         3.4584610406052843,
         3.4253600335909735,
         3.2901048553320407,
         3.3262409269022735,
         3.2614832031970313,
         3.1923581413937416,
         3.3424367941071353,
         3.418776119351342,
         3.398321065530253,
         3.3980819842743855,
         3.4300255273454345,
         3.304200407743911,
         3.289883512105298,
         3.3770844925132746,
         3.3794204497766094,
         3.330582361697512,
         3.082647054698768,
         3.2628313863382554,
         3.3064904109899325,
         3.3114094515303627,
         3.21303354068941,
         3.314933424642576,
         3.4276510048054556,
         3.3332915455277727,
         3.284780448785347,
         3.291059627760025,
         3.4162112394824713,
         3.292614440885416,
         3.3216242189245597,
         3.215934178960005,
         3.252569352190634,
         3.3522746634012623,
         3.3548978844537336,
         3.2518273495652856,
         3.354023103178325,
         3.321097607670184,
         3.3237462535213713,
         3.3327768361254315,
         3.2814662263081487,
         3.3150262637705086,
         3.2362566808325823,
         3.3425227347108524,
         3.416921923661731,
         3.361769481997752,
         3.367235290916886,
         3.409613431073161,
         3.488997458004438,
         3.3852868358618657,
         3.2820655145320696,
         3.340596896923276,
         3.2263817700324364,
         3.3027831027417682,
         3.376388326444086,
         3.34670874449328,
         3.2405963276558225,
         3.4883261742103544,
         3.282203117192916,
         3.4033783980539796,
         3.2564723871241594,
         3.4930218150533188,
         3.322634327554762,
         3.2141013441721915,
         3.2982275140837456,
         3.43668494224121,
         3.463812546295695,
         3.313608661128909,
         3.3024759547567073,
         3.2685287491280093,
         3.439723132830887,
         3.285539610595074,
         3.3443412499956016,
         3.330295546267926,
         3.231318754548317,
         3.377935365709564,
         3.383577142756453,
         3.425942363943386,
         3.4507706754778757,
         3.288642715618418,
         3.432863463501728,
         3.3458358008392737,
         3.1806040244281437
        ]
       ],
       "encoder": "json",
       "name": "ABC_GAN_3 Metrics",
       "version": 1
      }
     },
     "metadata": {
      "scrapbook": {
       "data": true,
       "display": false,
       "name": "ABC_GAN_3 Metrics"
      }
     },
     "output_type": "display_data"
    },
    {
     "name": "stdout",
     "output_type": "stream",
     "text": [
      "MSE\n",
      "0.10929319757718697\n"
     ]
    }
   ],
   "source": [
    "ABC_GAN3_metrics=ABC_train_test2.test_generator(gen3,test_data,prior_model,variance,bias,\"3\",device)\n",
    "sb.glue(\"ABC_GAN_3 Metrics\",ABC_GAN3_metrics)\n",
    "\n",
    "print(\"MSE\")\n",
    "print(mean(ABC_GAN3_metrics[0]))"
   ]
  },
  {
   "cell_type": "code",
   "execution_count": 18,
   "id": "c8e46b48",
   "metadata": {
    "execution": {
     "iopub.execute_input": "2022-06-12T07:14:57.992779Z",
     "iopub.status.busy": "2022-06-12T07:14:57.992408Z",
     "iopub.status.idle": "2022-06-12T07:14:58.317830Z",
     "shell.execute_reply": "2022-06-12T07:14:58.318127Z"
    },
    "id": "c8e46b48",
    "papermill": {
     "duration": 0.344862,
     "end_time": "2022-06-12T07:14:58.318252",
     "exception": false,
     "start_time": "2022-06-12T07:14:57.973390",
     "status": "completed"
    },
    "tags": []
   },
   "outputs": [
    {
     "data": {
      "image/png": "[encoded data removed]",
      "text/plain": [
       "<Figure size 432x288 with 1 Axes>"
      ]
     },
     "metadata": {
      "needs_background": "light"
     },
     "output_type": "display_data"
    },
    {
     "data": {
      "image/png": "[encoded data removed]",
      "text/plain": [
       "<Figure size 432x288 with 1 Axes>"
      ]
     },
     "metadata": {
      "needs_background": "light"
     },
     "output_type": "display_data"
    },
    {
     "data": {
      "image/png": "[encoded data removed]",
      "text/plain": [
       "<Figure size 432x288 with 1 Axes>"
      ]
     },
     "metadata": {
      "needs_background": "light"
     },
     "output_type": "display_data"
    },
    {
     "data": {
      "image/png": "[encoded data removed]",
      "text/plain": [
       "<Figure size 432x288 with 1 Axes>"
      ]
     },
     "metadata": {
      "needs_background": "light"
     },
     "output_type": "display_data"
    }
   ],
   "source": [
    "sanityChecks.discProbVsError(train_data,disc3,device)\n",
    "sanityChecks.discProbVsError(test_data,disc3,device)"
   ]
  },
  {
   "cell_type": "markdown",
   "id": "a5bd74c3",
   "metadata": {
    "id": "a5bd74c3",
    "papermill": {
     "duration": 0.019276,
     "end_time": "2022-06-12T07:14:58.357296",
     "exception": false,
     "start_time": "2022-06-12T07:14:58.338020",
     "status": "completed"
    },
    "tags": []
   },
   "source": [
    "## Skip Connection Model Analysis - ABC-GAN "
   ]
  },
  {
   "cell_type": "markdown",
   "id": "5744a8bf",
   "metadata": {
    "id": "5744a8bf",
    "papermill": {
     "duration": 0.019193,
     "end_time": "2022-06-12T07:14:58.395440",
     "exception": false,
     "start_time": "2022-06-12T07:14:58.376247",
     "status": "completed"
    },
    "tags": []
   },
   "source": [
    "### Weight Analysis \n",
    "\n",
    "Study the weights of the skip connection layer\n",
    "\n",
    "Equation of the skip connection is \n",
    "\n",
    "$output = y_{gan} * w + y_{abc} * (1-w)$"
   ]
  },
  {
   "cell_type": "code",
   "execution_count": 19,
   "id": "52c31dea",
   "metadata": {
    "execution": {
     "iopub.execute_input": "2022-06-12T07:14:58.436400Z",
     "iopub.status.busy": "2022-06-12T07:14:58.436012Z",
     "iopub.status.idle": "2022-06-12T07:14:58.439443Z",
     "shell.execute_reply": "2022-06-12T07:14:58.439698Z"
    },
    "id": "52c31dea",
    "papermill": {
     "duration": 0.025262,
     "end_time": "2022-06-12T07:14:58.439811",
     "exception": false,
     "start_time": "2022-06-12T07:14:58.414549",
     "status": "completed"
    },
    "tags": []
   },
   "outputs": [
    {
     "name": "stdout",
     "output_type": "stream",
     "text": [
      "Weight of the node at skip connection\n",
      "Parameter containing:\n",
      "tensor([[0.3307]], requires_grad=True)\n"
     ]
    },
    {
     "data": {
      "application/scrapbook.scrap.json+json": {
       "data": 0.33069154620170593,
       "encoder": "json",
       "name": "Skip Connection Weight",
       "version": 1
      }
     },
     "metadata": {
      "scrapbook": {
       "data": true,
       "display": false,
       "name": "Skip Connection Weight"
      }
     },
     "output_type": "display_data"
    }
   ],
   "source": [
    "print(\"Weight of the node at skip connection\")\n",
    "for name,param in gen3.named_parameters():\n",
    "    if(name == \"skipNode.weight\"):\n",
    "        print(param)\n",
    "        sb.glue(\"Skip Connection Weight\",param.item())"
   ]
  }
 ],
 "metadata": {
  "colab": {
   "collapsed_sections": [],
   "name": "ABC_GAN_Model-Catboost_Pre-gen.ipynb",
   "provenance": []
  },
  "interpreter": {
   "hash": "31f2aee4e71d21fbe5cf8b01ff0e069b9275f58929596ceb00d14d90e3e16cd6"
  },
  "kernelspec": {
   "display_name": "Python 3 (ipykernel)",
   "language": "python",
   "name": "python3"
  },
  "language_info": {
   "codemirror_mode": {
    "name": "ipython",
    "version": 3
   },
   "file_extension": ".py",
   "mimetype": "text/x-python",
   "name": "python",
   "nbconvert_exporter": "python",
   "pygments_lexer": "ipython3",
   "version": "3.8.11"
  },
  "papermill": {
   "default_parameters": {},
   "duration": 239.911866,
   "end_time": "2022-06-12T07:14:58.767360",
   "environment_variables": {},
   "exception": null,
   "input_path": "ABC_GAN-Catboost.ipynb",
   "output_path": "./ABC_GAN_Catboost/ABC-GAN_output_8_7.ipynb",
   "parameters": {
    "bias": 0.01,
    "variance": 0.1
   },
   "start_time": "2022-06-12T07:10:58.855494",
   "version": "2.3.3"
  }
 },
 "nbformat": 4,
 "nbformat_minor": 5
}