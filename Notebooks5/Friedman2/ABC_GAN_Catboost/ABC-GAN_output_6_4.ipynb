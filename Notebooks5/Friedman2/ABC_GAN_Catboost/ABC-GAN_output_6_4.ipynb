{
 "cells": [
  {
   "cell_type": "markdown",
   "id": "622780e6",
   "metadata": {
    "id": "622780e6",
    "papermill": {
     "duration": 0.037123,
     "end_time": "2022-03-16T13:29:48.876921",
     "exception": false,
     "start_time": "2022-03-16T13:29:48.839798",
     "status": "completed"
    },
    "tags": []
   },
   "source": [
    "## Import Libraries "
   ]
  },
  {
   "cell_type": "code",
   "execution_count": 1,
   "id": "a62397e3",
   "metadata": {
    "execution": {
     "iopub.execute_input": "2022-03-16T13:29:48.912801Z",
     "iopub.status.busy": "2022-03-16T13:29:48.912290Z",
     "iopub.status.idle": "2022-03-16T13:29:48.914613Z",
     "shell.execute_reply": "2022-03-16T13:29:48.914952Z"
    },
    "id": "a62397e3",
    "papermill": {
     "duration": 0.022201,
     "end_time": "2022-03-16T13:29:48.915158",
     "exception": false,
     "start_time": "2022-03-16T13:29:48.892957",
     "status": "completed"
    },
    "tags": []
   },
   "outputs": [],
   "source": [
    "import warnings\n",
    "import sys\n",
    "sys.path.insert(0, '../../src')\n",
    "warnings.filterwarnings('ignore')"
   ]
  },
  {
   "cell_type": "code",
   "execution_count": 2,
   "id": "d6a4e155",
   "metadata": {
    "execution": {
     "iopub.execute_input": "2022-03-16T13:29:48.935841Z",
     "iopub.status.busy": "2022-03-16T13:29:48.935435Z",
     "iopub.status.idle": "2022-03-16T13:29:50.794626Z",
     "shell.execute_reply": "2022-03-16T13:29:50.794888Z"
    },
    "id": "d6a4e155",
    "papermill": {
     "duration": 1.870191,
     "end_time": "2022-03-16T13:29:50.795015",
     "exception": false,
     "start_time": "2022-03-16T13:29:48.924824",
     "status": "completed"
    },
    "tags": []
   },
   "outputs": [],
   "source": [
    "import ABC_train_test2\n",
    "import friedman2Dataset\n",
    "import network\n",
    "import dataset\n",
    "import sanityChecks\n",
    "import torch \n",
    "import scrapbook as sb\n",
    "from statistics import mean \n",
    "import catboost as ctb \n",
    "from sklearn.model_selection import train_test_split\n",
    "from sklearn.metrics import mean_squared_error,mean_absolute_error\n",
    "import numpy as np"
   ]
  },
  {
   "cell_type": "markdown",
   "id": "2fa5b0f7",
   "metadata": {
    "id": "2fa5b0f7",
    "papermill": {
     "duration": 0.007043,
     "end_time": "2022-03-16T13:29:50.809661",
     "exception": false,
     "start_time": "2022-03-16T13:29:50.802618",
     "status": "completed"
    },
    "tags": []
   },
   "source": [
    "## Parameters "
   ]
  },
  {
   "cell_type": "code",
   "execution_count": 3,
   "id": "783186fb",
   "metadata": {
    "execution": {
     "iopub.execute_input": "2022-03-16T13:29:50.827054Z",
     "iopub.status.busy": "2022-03-16T13:29:50.826643Z",
     "iopub.status.idle": "2022-03-16T13:29:50.827924Z",
     "shell.execute_reply": "2022-03-16T13:29:50.828187Z"
    },
    "id": "783186fb",
    "papermill": {
     "duration": 0.011446,
     "end_time": "2022-03-16T13:29:50.828306",
     "exception": false,
     "start_time": "2022-03-16T13:29:50.816860",
     "status": "completed"
    },
    "tags": [
     "parameters"
    ]
   },
   "outputs": [],
   "source": [
    "variance = 1\n",
    "bias = 1 "
   ]
  },
  {
   "cell_type": "code",
   "execution_count": 4,
   "id": "d3247d62",
   "metadata": {
    "execution": {
     "iopub.execute_input": "2022-03-16T13:29:50.847598Z",
     "iopub.status.busy": "2022-03-16T13:29:50.847006Z",
     "iopub.status.idle": "2022-03-16T13:29:50.848355Z",
     "shell.execute_reply": "2022-03-16T13:29:50.848735Z"
    },
    "papermill": {
     "duration": 0.0126,
     "end_time": "2022-03-16T13:29:50.848867",
     "exception": false,
     "start_time": "2022-03-16T13:29:50.836267",
     "status": "completed"
    },
    "tags": [
     "injected-parameters"
    ]
   },
   "outputs": [],
   "source": [
    "# Parameters\n",
    "variance = 0.1\n",
    "bias = 0.1\n"
   ]
  },
  {
   "cell_type": "markdown",
   "id": "391cdbfd",
   "metadata": {
    "id": "391cdbfd",
    "papermill": {
     "duration": 0.007961,
     "end_time": "2022-03-16T13:29:50.864772",
     "exception": false,
     "start_time": "2022-03-16T13:29:50.856811",
     "status": "completed"
    },
    "tags": []
   },
   "source": [
    "## Dataset \n"
   ]
  },
  {
   "cell_type": "code",
   "execution_count": 5,
   "id": "5b51f161",
   "metadata": {
    "execution": {
     "iopub.execute_input": "2022-03-16T13:29:50.883112Z",
     "iopub.status.busy": "2022-03-16T13:29:50.882706Z",
     "iopub.status.idle": "2022-03-16T13:29:50.884074Z",
     "shell.execute_reply": "2022-03-16T13:29:50.884390Z"
    },
    "id": "5b51f161",
    "papermill": {
     "duration": 0.01194,
     "end_time": "2022-03-16T13:29:50.884543",
     "exception": false,
     "start_time": "2022-03-16T13:29:50.872603",
     "status": "completed"
    },
    "tags": []
   },
   "outputs": [],
   "source": [
    "#Parameters \n",
    "n_features = 4\n",
    "n_samples= 100\n",
    "n_target = 1 "
   ]
  },
  {
   "cell_type": "code",
   "execution_count": 6,
   "id": "5d6eced4",
   "metadata": {
    "execution": {
     "iopub.execute_input": "2022-03-16T13:29:50.917095Z",
     "iopub.status.busy": "2022-03-16T13:29:50.916621Z",
     "iopub.status.idle": "2022-03-16T13:29:50.923568Z",
     "shell.execute_reply": "2022-03-16T13:29:50.923885Z"
    },
    "id": "5d6eced4",
    "papermill": {
     "duration": 0.018852,
     "end_time": "2022-03-16T13:29:50.924025",
     "exception": false,
     "start_time": "2022-03-16T13:29:50.905173",
     "status": "completed"
    },
    "tags": []
   },
   "outputs": [
    {
     "name": "stdout",
     "output_type": "stream",
     "text": [
      "          X1           X2        X3        X4           Y\n",
      "0  43.419131  1112.234085  0.408925  5.481225  456.797486\n",
      "1  57.659542   975.113625  0.508852  7.402267  499.497946\n",
      "2  33.428565  1105.538537  0.164957  9.884424  185.457663\n",
      "3  71.393338   726.848672  0.928043  4.691150  678.251086\n",
      "4  44.763064   399.964619  0.349812  5.090609  146.860567\n"
     ]
    }
   ],
   "source": [
    "X,Y = friedman2Dataset.friedman2_data(n_samples)"
   ]
  },
  {
   "cell_type": "code",
   "execution_count": 7,
   "id": "fe007438",
   "metadata": {
    "execution": {
     "iopub.execute_input": "2022-03-16T13:29:50.944569Z",
     "iopub.status.busy": "2022-03-16T13:29:50.944106Z",
     "iopub.status.idle": "2022-03-16T13:29:50.945718Z",
     "shell.execute_reply": "2022-03-16T13:29:50.945417Z"
    },
    "id": "fe007438",
    "papermill": {
     "duration": 0.012971,
     "end_time": "2022-03-16T13:29:50.945838",
     "exception": false,
     "start_time": "2022-03-16T13:29:50.932867",
     "status": "completed"
    },
    "tags": []
   },
   "outputs": [],
   "source": [
    "#Train test split for dataset \n",
    "X_train,X_test,Y_train,Y_test = train_test_split(X,Y,test_size = 0.2)\n",
    "train_data = dataset.CustomDataset(X_train,Y_train)\n",
    "test_data = dataset.CustomDataset(X_test,Y_test)\n"
   ]
  },
  {
   "cell_type": "markdown",
   "id": "a9a1af34",
   "metadata": {
    "id": "a9a1af34",
    "papermill": {
     "duration": 0.0083,
     "end_time": "2022-03-16T13:29:50.962520",
     "exception": false,
     "start_time": "2022-03-16T13:29:50.954220",
     "status": "completed"
    },
    "tags": []
   },
   "source": [
    "## Training Parameters "
   ]
  },
  {
   "cell_type": "code",
   "execution_count": 8,
   "id": "952b7fc8",
   "metadata": {
    "execution": {
     "iopub.execute_input": "2022-03-16T13:29:50.983098Z",
     "iopub.status.busy": "2022-03-16T13:29:50.982669Z",
     "iopub.status.idle": "2022-03-16T13:29:50.984071Z",
     "shell.execute_reply": "2022-03-16T13:29:50.984368Z"
    },
    "id": "952b7fc8",
    "papermill": {
     "duration": 0.013201,
     "end_time": "2022-03-16T13:29:50.984499",
     "exception": false,
     "start_time": "2022-03-16T13:29:50.971298",
     "status": "completed"
    },
    "tags": []
   },
   "outputs": [],
   "source": [
    "batch_size = 32\n",
    "n_epochs = 1000\n",
    "#Select the device \n",
    "device = torch.device('cuda' if torch.cuda.is_available() else 'cpu')"
   ]
  },
  {
   "cell_type": "markdown",
   "id": "a95e1600",
   "metadata": {
    "id": "a95e1600",
    "papermill": {
     "duration": 0.008717,
     "end_time": "2022-03-16T13:29:51.002031",
     "exception": false,
     "start_time": "2022-03-16T13:29:50.993314",
     "status": "completed"
    },
    "tags": []
   },
   "source": [
    "# ABC Pre-generator Model \n",
    "\n",
    "1. The catboost model is used as a pre-generator model for the ABC-GAN. \n",
    "2. The model is first trained on the entire dataset \n",
    "3. It generats X,Y pairs and we add some Gaussian noise with mean 0 and variance 1 to it which is then feed as input to the generator.\n"
   ]
  },
  {
   "cell_type": "code",
   "execution_count": 9,
   "id": "ff8ce7bd",
   "metadata": {
    "execution": {
     "iopub.execute_input": "2022-03-16T13:29:51.024465Z",
     "iopub.status.busy": "2022-03-16T13:29:51.024023Z",
     "iopub.status.idle": "2022-03-16T13:29:51.750388Z",
     "shell.execute_reply": "2022-03-16T13:29:51.750802Z"
    },
    "id": "ff8ce7bd",
    "papermill": {
     "duration": 0.740049,
     "end_time": "2022-03-16T13:29:51.750949",
     "exception": false,
     "start_time": "2022-03-16T13:29:51.010900",
     "status": "completed"
    },
    "tags": []
   },
   "outputs": [
    {
     "name": "stdout",
     "output_type": "stream",
     "text": [
      "Learning rate set to 0.024897\n",
      "0:\tlearn: 1.0234349\ttotal: 57.9ms\tremaining: 57.9s\n",
      "1:\tlearn: 1.0108640\ttotal: 58.6ms\tremaining: 29.2s\n",
      "2:\tlearn: 0.9976039\ttotal: 59.1ms\tremaining: 19.6s\n",
      "3:\tlearn: 0.9842038\ttotal: 59.7ms\tremaining: 14.9s\n",
      "4:\tlearn: 0.9704974\ttotal: 60.5ms\tremaining: 12s\n",
      "5:\tlearn: 0.9578901\ttotal: 61.4ms\tremaining: 10.2s\n",
      "6:\tlearn: 0.9443147\ttotal: 62.3ms\tremaining: 8.83s\n",
      "7:\tlearn: 0.9315569\ttotal: 62.8ms\tremaining: 7.79s\n",
      "8:\tlearn: 0.9202723\ttotal: 63.5ms\tremaining: 6.99s\n",
      "9:\tlearn: 0.9091801\ttotal: 64.2ms\tremaining: 6.35s\n",
      "10:\tlearn: 0.8979676\ttotal: 64.7ms\tremaining: 5.82s\n",
      "11:\tlearn: 0.8845858\ttotal: 65.4ms\tremaining: 5.38s\n",
      "12:\tlearn: 0.8723643\ttotal: 65.9ms\tremaining: 5s\n",
      "13:\tlearn: 0.8600188\ttotal: 66.3ms\tremaining: 4.67s\n",
      "14:\tlearn: 0.8485596\ttotal: 66.9ms\tremaining: 4.39s\n",
      "15:\tlearn: 0.8391137\ttotal: 67.4ms\tremaining: 4.14s\n",
      "16:\tlearn: 0.8270016\ttotal: 67.9ms\tremaining: 3.93s\n",
      "17:\tlearn: 0.8156717\ttotal: 68.3ms\tremaining: 3.72s\n",
      "18:\tlearn: 0.8071446\ttotal: 69ms\tremaining: 3.56s\n",
      "19:\tlearn: 0.7943132\ttotal: 69.5ms\tremaining: 3.4s\n",
      "20:\tlearn: 0.7830255\ttotal: 70ms\tremaining: 3.26s\n",
      "21:\tlearn: 0.7734974\ttotal: 70.4ms\tremaining: 3.13s\n",
      "22:\tlearn: 0.7649850\ttotal: 70.7ms\tremaining: 3s\n",
      "23:\tlearn: 0.7547290\ttotal: 71.1ms\tremaining: 2.89s\n",
      "24:\tlearn: 0.7457410\ttotal: 71.6ms\tremaining: 2.79s\n",
      "25:\tlearn: 0.7372046\ttotal: 72ms\tremaining: 2.69s\n",
      "26:\tlearn: 0.7293117\ttotal: 72.3ms\tremaining: 2.61s\n",
      "27:\tlearn: 0.7215695\ttotal: 72.7ms\tremaining: 2.52s\n",
      "28:\tlearn: 0.7112553\ttotal: 73.3ms\tremaining: 2.45s\n",
      "29:\tlearn: 0.7017551\ttotal: 73.9ms\tremaining: 2.39s\n",
      "30:\tlearn: 0.6944843\ttotal: 74.4ms\tremaining: 2.32s\n"
     ]
    },
    {
     "name": "stdout",
     "output_type": "stream",
     "text": [
      "31:\tlearn: 0.6851651\ttotal: 75.4ms\tremaining: 2.28s\n",
      "32:\tlearn: 0.6774553\ttotal: 76ms\tremaining: 2.23s\n",
      "33:\tlearn: 0.6699042\ttotal: 76.4ms\tremaining: 2.17s\n",
      "34:\tlearn: 0.6618285\ttotal: 77ms\tremaining: 2.12s\n",
      "35:\tlearn: 0.6532025\ttotal: 77.5ms\tremaining: 2.08s\n",
      "36:\tlearn: 0.6440756\ttotal: 77.9ms\tremaining: 2.03s\n",
      "37:\tlearn: 0.6357820\ttotal: 78.4ms\tremaining: 1.99s\n",
      "38:\tlearn: 0.6289068\ttotal: 78.9ms\tremaining: 1.94s\n",
      "39:\tlearn: 0.6211293\ttotal: 79.4ms\tremaining: 1.9s\n",
      "40:\tlearn: 0.6136907\ttotal: 79.8ms\tremaining: 1.87s\n",
      "41:\tlearn: 0.6060772\ttotal: 80.3ms\tremaining: 1.83s\n",
      "42:\tlearn: 0.5985086\ttotal: 80.9ms\tremaining: 1.8s\n",
      "43:\tlearn: 0.5923122\ttotal: 81.2ms\tremaining: 1.76s\n",
      "44:\tlearn: 0.5872374\ttotal: 81.8ms\tremaining: 1.74s\n",
      "45:\tlearn: 0.5808320\ttotal: 82.2ms\tremaining: 1.7s\n",
      "46:\tlearn: 0.5740564\ttotal: 82.7ms\tremaining: 1.68s\n",
      "47:\tlearn: 0.5678242\ttotal: 83.1ms\tremaining: 1.65s\n",
      "48:\tlearn: 0.5622963\ttotal: 83.5ms\tremaining: 1.62s\n",
      "49:\tlearn: 0.5560213\ttotal: 83.9ms\tremaining: 1.59s\n",
      "50:\tlearn: 0.5505312\ttotal: 84.3ms\tremaining: 1.57s\n",
      "51:\tlearn: 0.5436982\ttotal: 84.8ms\tremaining: 1.54s\n",
      "52:\tlearn: 0.5370833\ttotal: 85.1ms\tremaining: 1.52s\n",
      "53:\tlearn: 0.5305988\ttotal: 85.5ms\tremaining: 1.5s\n",
      "54:\tlearn: 0.5235549\ttotal: 86ms\tremaining: 1.48s\n",
      "55:\tlearn: 0.5176578\ttotal: 86.4ms\tremaining: 1.46s\n",
      "56:\tlearn: 0.5107848\ttotal: 86.8ms\tremaining: 1.44s\n",
      "57:\tlearn: 0.5035087\ttotal: 87.1ms\tremaining: 1.42s\n",
      "58:\tlearn: 0.4962288\ttotal: 87.5ms\tremaining: 1.4s\n",
      "59:\tlearn: 0.4896349\ttotal: 87.9ms\tremaining: 1.38s\n",
      "60:\tlearn: 0.4838174\ttotal: 88.3ms\tremaining: 1.36s\n",
      "61:\tlearn: 0.4778973\ttotal: 88.7ms\tremaining: 1.34s\n",
      "62:\tlearn: 0.4726849\ttotal: 89.3ms\tremaining: 1.33s\n",
      "63:\tlearn: 0.4658638\ttotal: 89.7ms\tremaining: 1.31s\n",
      "64:\tlearn: 0.4610563\ttotal: 90.2ms\tremaining: 1.3s\n",
      "65:\tlearn: 0.4558631\ttotal: 90.5ms\tremaining: 1.28s\n",
      "66:\tlearn: 0.4494332\ttotal: 91ms\tremaining: 1.27s\n",
      "67:\tlearn: 0.4452430\ttotal: 91.6ms\tremaining: 1.25s\n",
      "68:\tlearn: 0.4386594\ttotal: 91.9ms\tremaining: 1.24s\n",
      "69:\tlearn: 0.4333349\ttotal: 92.3ms\tremaining: 1.23s\n",
      "70:\tlearn: 0.4286266\ttotal: 92.8ms\tremaining: 1.21s\n",
      "71:\tlearn: 0.4240548\ttotal: 93.1ms\tremaining: 1.2s\n",
      "72:\tlearn: 0.4199573\ttotal: 93.6ms\tremaining: 1.19s\n",
      "73:\tlearn: 0.4155004\ttotal: 94ms\tremaining: 1.18s\n",
      "74:\tlearn: 0.4105277\ttotal: 94.4ms\tremaining: 1.16s\n",
      "75:\tlearn: 0.4057633\ttotal: 95ms\tremaining: 1.15s\n",
      "76:\tlearn: 0.4005230\ttotal: 95.4ms\tremaining: 1.14s\n",
      "77:\tlearn: 0.3957662\ttotal: 95.8ms\tremaining: 1.13s\n",
      "78:\tlearn: 0.3911620\ttotal: 96.2ms\tremaining: 1.12s\n",
      "79:\tlearn: 0.3874919\ttotal: 96.7ms\tremaining: 1.11s\n",
      "80:\tlearn: 0.3841747\ttotal: 97.1ms\tremaining: 1.1s\n",
      "81:\tlearn: 0.3798841\ttotal: 97.6ms\tremaining: 1.09s\n",
      "82:\tlearn: 0.3749422\ttotal: 98.1ms\tremaining: 1.08s\n",
      "83:\tlearn: 0.3708951\ttotal: 98.7ms\tremaining: 1.08s\n",
      "84:\tlearn: 0.3666137\ttotal: 99.3ms\tremaining: 1.07s\n",
      "85:\tlearn: 0.3626307\ttotal: 99.9ms\tremaining: 1.06s\n",
      "86:\tlearn: 0.3587776\ttotal: 100ms\tremaining: 1.05s\n",
      "87:\tlearn: 0.3551939\ttotal: 101ms\tremaining: 1.05s\n",
      "88:\tlearn: 0.3518536\ttotal: 102ms\tremaining: 1.04s\n",
      "89:\tlearn: 0.3487926\ttotal: 103ms\tremaining: 1.04s\n",
      "90:\tlearn: 0.3462344\ttotal: 103ms\tremaining: 1.03s\n",
      "91:\tlearn: 0.3427156\ttotal: 104ms\tremaining: 1.02s\n",
      "92:\tlearn: 0.3387559\ttotal: 104ms\tremaining: 1.02s\n",
      "93:\tlearn: 0.3344256\ttotal: 105ms\tremaining: 1.01s\n",
      "94:\tlearn: 0.3305539\ttotal: 105ms\tremaining: 999ms\n",
      "95:\tlearn: 0.3272972\ttotal: 105ms\tremaining: 992ms\n",
      "96:\tlearn: 0.3234102\ttotal: 106ms\tremaining: 985ms\n",
      "97:\tlearn: 0.3202777\ttotal: 106ms\tremaining: 976ms\n",
      "98:\tlearn: 0.3162015\ttotal: 106ms\tremaining: 968ms\n",
      "99:\tlearn: 0.3127077\ttotal: 107ms\tremaining: 960ms\n",
      "100:\tlearn: 0.3099537\ttotal: 107ms\tremaining: 954ms\n",
      "101:\tlearn: 0.3072818\ttotal: 108ms\tremaining: 949ms\n",
      "102:\tlearn: 0.3046696\ttotal: 108ms\tremaining: 943ms\n",
      "103:\tlearn: 0.3020254\ttotal: 109ms\tremaining: 936ms\n",
      "104:\tlearn: 0.2985907\ttotal: 109ms\tremaining: 929ms\n",
      "105:\tlearn: 0.2949719\ttotal: 109ms\tremaining: 922ms\n",
      "106:\tlearn: 0.2917853\ttotal: 110ms\tremaining: 916ms\n",
      "107:\tlearn: 0.2882216\ttotal: 110ms\tremaining: 909ms\n",
      "108:\tlearn: 0.2855786\ttotal: 111ms\tremaining: 904ms\n",
      "109:\tlearn: 0.2829935\ttotal: 111ms\tremaining: 897ms\n",
      "110:\tlearn: 0.2811945\ttotal: 111ms\tremaining: 892ms\n",
      "111:\tlearn: 0.2789780\ttotal: 112ms\tremaining: 886ms\n",
      "112:\tlearn: 0.2754213\ttotal: 112ms\tremaining: 880ms\n",
      "113:\tlearn: 0.2723515\ttotal: 112ms\tremaining: 873ms\n",
      "114:\tlearn: 0.2688260\ttotal: 113ms\tremaining: 867ms\n",
      "115:\tlearn: 0.2668425\ttotal: 113ms\tremaining: 861ms\n",
      "116:\tlearn: 0.2636154\ttotal: 113ms\tremaining: 856ms\n",
      "117:\tlearn: 0.2605912\ttotal: 114ms\tremaining: 851ms\n",
      "118:\tlearn: 0.2578060\ttotal: 114ms\tremaining: 846ms\n",
      "119:\tlearn: 0.2561373\ttotal: 115ms\tremaining: 841ms\n",
      "120:\tlearn: 0.2529263\ttotal: 115ms\tremaining: 837ms\n",
      "121:\tlearn: 0.2509806\ttotal: 116ms\tremaining: 833ms\n",
      "122:\tlearn: 0.2487794\ttotal: 116ms\tremaining: 829ms\n",
      "123:\tlearn: 0.2465457\ttotal: 117ms\tremaining: 825ms\n",
      "124:\tlearn: 0.2440989\ttotal: 117ms\tremaining: 822ms\n",
      "125:\tlearn: 0.2411409\ttotal: 118ms\tremaining: 817ms\n",
      "126:\tlearn: 0.2383512\ttotal: 118ms\tremaining: 813ms\n",
      "127:\tlearn: 0.2358098\ttotal: 119ms\tremaining: 809ms\n",
      "128:\tlearn: 0.2335079\ttotal: 119ms\tremaining: 805ms\n",
      "129:\tlearn: 0.2318538\ttotal: 120ms\tremaining: 800ms\n",
      "130:\tlearn: 0.2294350\ttotal: 120ms\tremaining: 796ms\n",
      "131:\tlearn: 0.2276500\ttotal: 120ms\tremaining: 792ms\n",
      "132:\tlearn: 0.2253088\ttotal: 121ms\tremaining: 788ms\n",
      "133:\tlearn: 0.2227673\ttotal: 121ms\tremaining: 784ms\n",
      "134:\tlearn: 0.2207081\ttotal: 122ms\tremaining: 779ms\n",
      "135:\tlearn: 0.2183101\ttotal: 122ms\tremaining: 775ms\n",
      "136:\tlearn: 0.2157893\ttotal: 122ms\tremaining: 772ms\n",
      "137:\tlearn: 0.2138426\ttotal: 123ms\tremaining: 768ms\n",
      "138:\tlearn: 0.2115425\ttotal: 124ms\tremaining: 766ms\n",
      "139:\tlearn: 0.2090109\ttotal: 124ms\tremaining: 762ms\n",
      "140:\tlearn: 0.2065435\ttotal: 125ms\tremaining: 760ms\n",
      "141:\tlearn: 0.2040544\ttotal: 125ms\tremaining: 757ms\n",
      "142:\tlearn: 0.2023411\ttotal: 126ms\tremaining: 754ms\n",
      "143:\tlearn: 0.2004265\ttotal: 126ms\tremaining: 751ms\n",
      "144:\tlearn: 0.1985281\ttotal: 127ms\tremaining: 747ms\n",
      "145:\tlearn: 0.1970249\ttotal: 127ms\tremaining: 744ms\n",
      "146:\tlearn: 0.1947886\ttotal: 128ms\tremaining: 741ms\n",
      "147:\tlearn: 0.1924932\ttotal: 128ms\tremaining: 738ms\n",
      "148:\tlearn: 0.1911222\ttotal: 129ms\tremaining: 734ms\n",
      "149:\tlearn: 0.1889002\ttotal: 129ms\tremaining: 732ms\n",
      "150:\tlearn: 0.1874547\ttotal: 129ms\tremaining: 728ms\n",
      "151:\tlearn: 0.1857916\ttotal: 130ms\tremaining: 725ms\n",
      "152:\tlearn: 0.1840608\ttotal: 130ms\tremaining: 721ms\n",
      "153:\tlearn: 0.1827730\ttotal: 131ms\tremaining: 718ms\n",
      "154:\tlearn: 0.1809431\ttotal: 131ms\tremaining: 714ms\n",
      "155:\tlearn: 0.1792037\ttotal: 131ms\tremaining: 711ms\n",
      "156:\tlearn: 0.1780681\ttotal: 132ms\tremaining: 709ms\n",
      "157:\tlearn: 0.1769590\ttotal: 133ms\tremaining: 707ms\n",
      "158:\tlearn: 0.1755100\ttotal: 133ms\tremaining: 703ms\n",
      "159:\tlearn: 0.1740266\ttotal: 133ms\tremaining: 701ms\n",
      "160:\tlearn: 0.1728121\ttotal: 134ms\tremaining: 698ms\n",
      "161:\tlearn: 0.1712597\ttotal: 135ms\tremaining: 697ms\n",
      "162:\tlearn: 0.1698056\ttotal: 135ms\tremaining: 695ms\n",
      "163:\tlearn: 0.1685259\ttotal: 136ms\tremaining: 693ms\n",
      "164:\tlearn: 0.1672994\ttotal: 136ms\tremaining: 690ms\n",
      "165:\tlearn: 0.1658077\ttotal: 137ms\tremaining: 687ms\n",
      "166:\tlearn: 0.1641093\ttotal: 138ms\tremaining: 686ms\n",
      "167:\tlearn: 0.1624492\ttotal: 138ms\tremaining: 684ms\n",
      "168:\tlearn: 0.1607929\ttotal: 139ms\tremaining: 682ms\n",
      "169:\tlearn: 0.1597538\ttotal: 139ms\tremaining: 680ms\n",
      "170:\tlearn: 0.1585872\ttotal: 140ms\tremaining: 678ms\n",
      "171:\tlearn: 0.1571091\ttotal: 140ms\tremaining: 675ms\n",
      "172:\tlearn: 0.1557499\ttotal: 141ms\tremaining: 673ms\n",
      "173:\tlearn: 0.1542693\ttotal: 141ms\tremaining: 671ms\n",
      "174:\tlearn: 0.1529248\ttotal: 142ms\tremaining: 668ms\n",
      "175:\tlearn: 0.1517139\ttotal: 142ms\tremaining: 665ms\n",
      "176:\tlearn: 0.1504800\ttotal: 143ms\tremaining: 663ms\n",
      "177:\tlearn: 0.1492448\ttotal: 143ms\tremaining: 661ms\n",
      "178:\tlearn: 0.1477913\ttotal: 144ms\tremaining: 659ms\n",
      "179:\tlearn: 0.1465851\ttotal: 144ms\tremaining: 656ms\n",
      "180:\tlearn: 0.1455044\ttotal: 144ms\tremaining: 654ms\n",
      "181:\tlearn: 0.1446346\ttotal: 145ms\tremaining: 651ms\n",
      "182:\tlearn: 0.1434296\ttotal: 145ms\tremaining: 648ms\n",
      "183:\tlearn: 0.1420450\ttotal: 146ms\tremaining: 645ms\n",
      "184:\tlearn: 0.1409357\ttotal: 146ms\tremaining: 643ms\n",
      "185:\tlearn: 0.1398032\ttotal: 146ms\tremaining: 641ms\n",
      "186:\tlearn: 0.1386291\ttotal: 147ms\tremaining: 639ms\n",
      "187:\tlearn: 0.1376738\ttotal: 148ms\tremaining: 637ms\n",
      "188:\tlearn: 0.1365632\ttotal: 148ms\tremaining: 635ms\n",
      "189:\tlearn: 0.1361373\ttotal: 148ms\tremaining: 633ms\n",
      "190:\tlearn: 0.1357517\ttotal: 149ms\tremaining: 630ms\n",
      "191:\tlearn: 0.1346990\ttotal: 149ms\tremaining: 628ms\n",
      "192:\tlearn: 0.1337141\ttotal: 150ms\tremaining: 625ms\n",
      "193:\tlearn: 0.1324068\ttotal: 150ms\tremaining: 623ms\n",
      "194:\tlearn: 0.1312051\ttotal: 150ms\tremaining: 621ms\n"
     ]
    },
    {
     "name": "stdout",
     "output_type": "stream",
     "text": [
      "195:\tlearn: 0.1302872\ttotal: 151ms\tremaining: 620ms\n",
      "196:\tlearn: 0.1291728\ttotal: 152ms\tremaining: 619ms\n",
      "197:\tlearn: 0.1281435\ttotal: 152ms\tremaining: 617ms\n",
      "198:\tlearn: 0.1274918\ttotal: 153ms\tremaining: 615ms\n",
      "199:\tlearn: 0.1262304\ttotal: 153ms\tremaining: 613ms\n",
      "200:\tlearn: 0.1250008\ttotal: 154ms\tremaining: 611ms\n",
      "201:\tlearn: 0.1239282\ttotal: 154ms\tremaining: 610ms\n",
      "202:\tlearn: 0.1229315\ttotal: 155ms\tremaining: 609ms\n",
      "203:\tlearn: 0.1222337\ttotal: 155ms\tremaining: 606ms\n",
      "204:\tlearn: 0.1210235\ttotal: 156ms\tremaining: 605ms\n",
      "205:\tlearn: 0.1202552\ttotal: 157ms\tremaining: 603ms\n",
      "206:\tlearn: 0.1196869\ttotal: 157ms\tremaining: 602ms\n",
      "207:\tlearn: 0.1187118\ttotal: 158ms\tremaining: 601ms\n",
      "208:\tlearn: 0.1178591\ttotal: 158ms\tremaining: 599ms\n",
      "209:\tlearn: 0.1166834\ttotal: 159ms\tremaining: 597ms\n",
      "210:\tlearn: 0.1158564\ttotal: 159ms\tremaining: 595ms\n",
      "211:\tlearn: 0.1153489\ttotal: 159ms\tremaining: 593ms\n",
      "212:\tlearn: 0.1142198\ttotal: 160ms\tremaining: 591ms\n",
      "213:\tlearn: 0.1133936\ttotal: 160ms\tremaining: 589ms\n",
      "214:\tlearn: 0.1122594\ttotal: 161ms\tremaining: 587ms\n",
      "215:\tlearn: 0.1112760\ttotal: 161ms\tremaining: 586ms\n",
      "216:\tlearn: 0.1105096\ttotal: 162ms\tremaining: 584ms\n",
      "217:\tlearn: 0.1100282\ttotal: 163ms\tremaining: 583ms\n",
      "218:\tlearn: 0.1096213\ttotal: 163ms\tremaining: 583ms\n",
      "219:\tlearn: 0.1088898\ttotal: 164ms\tremaining: 583ms\n",
      "220:\tlearn: 0.1081435\ttotal: 165ms\tremaining: 582ms\n",
      "221:\tlearn: 0.1076389\ttotal: 165ms\tremaining: 580ms\n",
      "222:\tlearn: 0.1070005\ttotal: 166ms\tremaining: 579ms\n",
      "223:\tlearn: 0.1061658\ttotal: 167ms\tremaining: 579ms\n",
      "224:\tlearn: 0.1054972\ttotal: 168ms\tremaining: 578ms\n",
      "225:\tlearn: 0.1047114\ttotal: 168ms\tremaining: 577ms\n",
      "226:\tlearn: 0.1039240\ttotal: 169ms\tremaining: 575ms\n",
      "227:\tlearn: 0.1035283\ttotal: 169ms\tremaining: 574ms\n",
      "228:\tlearn: 0.1028414\ttotal: 170ms\tremaining: 572ms\n",
      "229:\tlearn: 0.1025352\ttotal: 170ms\tremaining: 570ms\n",
      "230:\tlearn: 0.1021640\ttotal: 171ms\tremaining: 569ms\n",
      "231:\tlearn: 0.1017280\ttotal: 171ms\tremaining: 567ms\n",
      "232:\tlearn: 0.1009290\ttotal: 172ms\tremaining: 565ms\n",
      "233:\tlearn: 0.1004166\ttotal: 172ms\tremaining: 563ms\n",
      "234:\tlearn: 0.0996416\ttotal: 172ms\tremaining: 562ms\n",
      "235:\tlearn: 0.0993768\ttotal: 173ms\tremaining: 559ms\n",
      "236:\tlearn: 0.0989845\ttotal: 173ms\tremaining: 558ms\n",
      "237:\tlearn: 0.0984975\ttotal: 174ms\tremaining: 556ms\n",
      "238:\tlearn: 0.0981218\ttotal: 174ms\tremaining: 554ms\n",
      "239:\tlearn: 0.0977858\ttotal: 174ms\tremaining: 552ms\n",
      "240:\tlearn: 0.0973522\ttotal: 175ms\tremaining: 551ms\n",
      "241:\tlearn: 0.0970797\ttotal: 175ms\tremaining: 549ms\n",
      "242:\tlearn: 0.0967181\ttotal: 176ms\tremaining: 548ms\n",
      "243:\tlearn: 0.0964027\ttotal: 176ms\tremaining: 546ms\n",
      "244:\tlearn: 0.0960552\ttotal: 177ms\tremaining: 544ms\n",
      "245:\tlearn: 0.0956470\ttotal: 177ms\tremaining: 543ms\n",
      "246:\tlearn: 0.0953028\ttotal: 177ms\tremaining: 541ms\n",
      "247:\tlearn: 0.0950245\ttotal: 178ms\tremaining: 539ms\n",
      "248:\tlearn: 0.0947030\ttotal: 178ms\tremaining: 538ms\n",
      "249:\tlearn: 0.0943301\ttotal: 179ms\tremaining: 536ms\n",
      "250:\tlearn: 0.0940237\ttotal: 179ms\tremaining: 535ms\n",
      "251:\tlearn: 0.0936586\ttotal: 180ms\tremaining: 533ms\n",
      "252:\tlearn: 0.0930415\ttotal: 180ms\tremaining: 532ms\n",
      "253:\tlearn: 0.0925691\ttotal: 180ms\tremaining: 530ms\n",
      "254:\tlearn: 0.0922656\ttotal: 181ms\tremaining: 529ms\n",
      "255:\tlearn: 0.0914120\ttotal: 182ms\tremaining: 528ms\n",
      "256:\tlearn: 0.0908483\ttotal: 182ms\tremaining: 526ms\n",
      "257:\tlearn: 0.0906040\ttotal: 182ms\tremaining: 525ms\n",
      "258:\tlearn: 0.0903697\ttotal: 184ms\tremaining: 525ms\n",
      "259:\tlearn: 0.0900571\ttotal: 184ms\tremaining: 524ms\n",
      "260:\tlearn: 0.0897445\ttotal: 185ms\tremaining: 523ms\n",
      "261:\tlearn: 0.0891993\ttotal: 185ms\tremaining: 521ms\n",
      "262:\tlearn: 0.0889237\ttotal: 185ms\tremaining: 520ms\n",
      "263:\tlearn: 0.0885252\ttotal: 186ms\tremaining: 518ms\n",
      "264:\tlearn: 0.0882933\ttotal: 186ms\tremaining: 517ms\n",
      "265:\tlearn: 0.0879749\ttotal: 187ms\tremaining: 515ms\n",
      "266:\tlearn: 0.0873459\ttotal: 187ms\tremaining: 514ms\n",
      "267:\tlearn: 0.0870056\ttotal: 188ms\tremaining: 512ms\n",
      "268:\tlearn: 0.0867249\ttotal: 188ms\tremaining: 511ms\n",
      "269:\tlearn: 0.0864864\ttotal: 189ms\tremaining: 510ms\n",
      "270:\tlearn: 0.0862198\ttotal: 189ms\tremaining: 508ms\n",
      "271:\tlearn: 0.0859465\ttotal: 189ms\tremaining: 507ms\n",
      "272:\tlearn: 0.0856770\ttotal: 190ms\tremaining: 505ms\n",
      "273:\tlearn: 0.0854194\ttotal: 190ms\tremaining: 504ms\n",
      "274:\tlearn: 0.0850565\ttotal: 191ms\tremaining: 502ms\n",
      "275:\tlearn: 0.0847954\ttotal: 191ms\tremaining: 501ms\n",
      "276:\tlearn: 0.0840471\ttotal: 191ms\tremaining: 500ms\n",
      "277:\tlearn: 0.0838069\ttotal: 192ms\tremaining: 498ms\n",
      "278:\tlearn: 0.0831030\ttotal: 192ms\tremaining: 497ms\n",
      "279:\tlearn: 0.0828007\ttotal: 193ms\tremaining: 495ms\n",
      "280:\tlearn: 0.0825605\ttotal: 193ms\tremaining: 494ms\n",
      "281:\tlearn: 0.0823230\ttotal: 194ms\tremaining: 493ms\n",
      "282:\tlearn: 0.0821206\ttotal: 194ms\tremaining: 492ms\n",
      "283:\tlearn: 0.0818287\ttotal: 194ms\tremaining: 490ms\n",
      "284:\tlearn: 0.0816029\ttotal: 195ms\tremaining: 489ms\n",
      "285:\tlearn: 0.0813697\ttotal: 195ms\tremaining: 488ms\n",
      "286:\tlearn: 0.0807613\ttotal: 196ms\tremaining: 486ms\n",
      "287:\tlearn: 0.0801756\ttotal: 196ms\tremaining: 485ms\n",
      "288:\tlearn: 0.0799534\ttotal: 197ms\tremaining: 485ms\n",
      "289:\tlearn: 0.0792175\ttotal: 198ms\tremaining: 484ms\n",
      "290:\tlearn: 0.0784865\ttotal: 198ms\tremaining: 483ms\n",
      "291:\tlearn: 0.0782237\ttotal: 198ms\tremaining: 481ms\n",
      "292:\tlearn: 0.0779056\ttotal: 199ms\tremaining: 480ms\n",
      "293:\tlearn: 0.0776867\ttotal: 200ms\tremaining: 479ms\n",
      "294:\tlearn: 0.0774696\ttotal: 200ms\tremaining: 478ms\n",
      "295:\tlearn: 0.0769271\ttotal: 200ms\tremaining: 477ms\n",
      "296:\tlearn: 0.0767214\ttotal: 201ms\tremaining: 475ms\n",
      "297:\tlearn: 0.0761733\ttotal: 201ms\tremaining: 474ms\n",
      "298:\tlearn: 0.0759181\ttotal: 202ms\tremaining: 473ms\n",
      "299:\tlearn: 0.0756266\ttotal: 202ms\tremaining: 471ms\n",
      "300:\tlearn: 0.0750581\ttotal: 202ms\tremaining: 470ms\n",
      "301:\tlearn: 0.0747730\ttotal: 203ms\tremaining: 468ms\n",
      "302:\tlearn: 0.0745785\ttotal: 203ms\tremaining: 467ms\n",
      "303:\tlearn: 0.0743758\ttotal: 203ms\tremaining: 466ms\n",
      "304:\tlearn: 0.0736564\ttotal: 204ms\tremaining: 464ms\n",
      "305:\tlearn: 0.0733810\ttotal: 204ms\tremaining: 463ms\n",
      "306:\tlearn: 0.0731259\ttotal: 205ms\tremaining: 462ms\n",
      "307:\tlearn: 0.0729404\ttotal: 205ms\tremaining: 461ms\n",
      "308:\tlearn: 0.0726622\ttotal: 205ms\tremaining: 459ms\n",
      "309:\tlearn: 0.0724806\ttotal: 206ms\tremaining: 458ms\n",
      "310:\tlearn: 0.0720819\ttotal: 206ms\tremaining: 457ms\n",
      "311:\tlearn: 0.0715388\ttotal: 207ms\tremaining: 456ms\n",
      "312:\tlearn: 0.0712715\ttotal: 207ms\tremaining: 454ms\n",
      "313:\tlearn: 0.0709951\ttotal: 208ms\tremaining: 453ms\n",
      "314:\tlearn: 0.0708219\ttotal: 208ms\tremaining: 452ms\n",
      "315:\tlearn: 0.0706390\ttotal: 208ms\tremaining: 451ms\n",
      "316:\tlearn: 0.0704672\ttotal: 209ms\tremaining: 450ms\n",
      "317:\tlearn: 0.0700073\ttotal: 209ms\tremaining: 448ms\n",
      "318:\tlearn: 0.0698403\ttotal: 210ms\tremaining: 447ms\n",
      "319:\tlearn: 0.0692819\ttotal: 210ms\tremaining: 446ms\n",
      "320:\tlearn: 0.0691084\ttotal: 210ms\tremaining: 445ms\n",
      "321:\tlearn: 0.0688624\ttotal: 211ms\tremaining: 444ms\n",
      "322:\tlearn: 0.0686832\ttotal: 211ms\tremaining: 443ms\n",
      "323:\tlearn: 0.0685067\ttotal: 212ms\tremaining: 442ms\n",
      "324:\tlearn: 0.0683499\ttotal: 212ms\tremaining: 441ms\n",
      "325:\tlearn: 0.0681947\ttotal: 213ms\tremaining: 439ms\n",
      "326:\tlearn: 0.0676443\ttotal: 213ms\tremaining: 438ms\n",
      "327:\tlearn: 0.0670547\ttotal: 213ms\tremaining: 437ms\n",
      "328:\tlearn: 0.0665421\ttotal: 214ms\tremaining: 436ms\n",
      "329:\tlearn: 0.0663939\ttotal: 214ms\tremaining: 435ms\n",
      "330:\tlearn: 0.0658918\ttotal: 215ms\tremaining: 434ms\n",
      "331:\tlearn: 0.0657470\ttotal: 215ms\tremaining: 433ms\n",
      "332:\tlearn: 0.0653629\ttotal: 216ms\tremaining: 432ms\n",
      "333:\tlearn: 0.0652189\ttotal: 216ms\tremaining: 431ms\n",
      "334:\tlearn: 0.0650765\ttotal: 217ms\tremaining: 430ms\n",
      "335:\tlearn: 0.0645681\ttotal: 217ms\tremaining: 429ms\n",
      "336:\tlearn: 0.0644292\ttotal: 218ms\tremaining: 428ms\n",
      "337:\tlearn: 0.0642923\ttotal: 218ms\tremaining: 427ms\n",
      "338:\tlearn: 0.0641562\ttotal: 218ms\tremaining: 426ms\n",
      "339:\tlearn: 0.0636651\ttotal: 219ms\tremaining: 425ms\n",
      "340:\tlearn: 0.0633081\ttotal: 219ms\tremaining: 424ms\n",
      "341:\tlearn: 0.0631763\ttotal: 220ms\tremaining: 423ms\n",
      "342:\tlearn: 0.0630461\ttotal: 220ms\tremaining: 422ms\n",
      "343:\tlearn: 0.0629174\ttotal: 220ms\tremaining: 420ms\n",
      "344:\tlearn: 0.0624588\ttotal: 221ms\tremaining: 419ms\n",
      "345:\tlearn: 0.0618783\ttotal: 221ms\tremaining: 418ms\n"
     ]
    },
    {
     "name": "stdout",
     "output_type": "stream",
     "text": [
      "346:\tlearn: 0.0613117\ttotal: 222ms\tremaining: 418ms\n",
      "347:\tlearn: 0.0607724\ttotal: 223ms\tremaining: 417ms\n",
      "348:\tlearn: 0.0606513\ttotal: 223ms\tremaining: 416ms\n",
      "349:\tlearn: 0.0602072\ttotal: 223ms\tremaining: 415ms\n",
      "350:\tlearn: 0.0598841\ttotal: 224ms\tremaining: 414ms\n",
      "351:\tlearn: 0.0595660\ttotal: 224ms\tremaining: 413ms\n",
      "352:\tlearn: 0.0594588\ttotal: 225ms\tremaining: 412ms\n",
      "353:\tlearn: 0.0589752\ttotal: 225ms\tremaining: 411ms\n",
      "354:\tlearn: 0.0588622\ttotal: 226ms\tremaining: 410ms\n",
      "355:\tlearn: 0.0585536\ttotal: 226ms\tremaining: 409ms\n",
      "356:\tlearn: 0.0584506\ttotal: 227ms\tremaining: 408ms\n",
      "357:\tlearn: 0.0579451\ttotal: 227ms\tremaining: 408ms\n",
      "358:\tlearn: 0.0575860\ttotal: 228ms\tremaining: 407ms\n",
      "359:\tlearn: 0.0574863\ttotal: 228ms\tremaining: 406ms\n",
      "360:\tlearn: 0.0570807\ttotal: 229ms\tremaining: 405ms\n",
      "361:\tlearn: 0.0567326\ttotal: 229ms\tremaining: 404ms\n",
      "362:\tlearn: 0.0563905\ttotal: 230ms\tremaining: 403ms\n",
      "363:\tlearn: 0.0562949\ttotal: 230ms\tremaining: 402ms\n",
      "364:\tlearn: 0.0559596\ttotal: 230ms\tremaining: 401ms\n",
      "365:\tlearn: 0.0556261\ttotal: 231ms\tremaining: 400ms\n",
      "366:\tlearn: 0.0553504\ttotal: 231ms\tremaining: 399ms\n",
      "367:\tlearn: 0.0552584\ttotal: 232ms\tremaining: 398ms\n",
      "368:\tlearn: 0.0549010\ttotal: 232ms\tremaining: 397ms\n",
      "369:\tlearn: 0.0546343\ttotal: 233ms\tremaining: 396ms\n",
      "370:\tlearn: 0.0543204\ttotal: 233ms\tremaining: 395ms\n",
      "371:\tlearn: 0.0542318\ttotal: 233ms\tremaining: 394ms\n",
      "372:\tlearn: 0.0541442\ttotal: 234ms\tremaining: 393ms\n",
      "373:\tlearn: 0.0538367\ttotal: 234ms\tremaining: 392ms\n",
      "374:\tlearn: 0.0535815\ttotal: 235ms\tremaining: 391ms\n",
      "375:\tlearn: 0.0532089\ttotal: 235ms\tremaining: 390ms\n",
      "376:\tlearn: 0.0531192\ttotal: 236ms\tremaining: 389ms\n",
      "377:\tlearn: 0.0530357\ttotal: 236ms\tremaining: 388ms\n",
      "378:\tlearn: 0.0529531\ttotal: 236ms\tremaining: 387ms\n",
      "379:\tlearn: 0.0526605\ttotal: 237ms\tremaining: 386ms\n",
      "380:\tlearn: 0.0524271\ttotal: 237ms\tremaining: 385ms\n",
      "381:\tlearn: 0.0521000\ttotal: 238ms\tremaining: 384ms\n",
      "382:\tlearn: 0.0517793\ttotal: 238ms\tremaining: 384ms\n",
      "383:\tlearn: 0.0516408\ttotal: 239ms\tremaining: 383ms\n",
      "384:\tlearn: 0.0512348\ttotal: 239ms\tremaining: 382ms\n",
      "385:\tlearn: 0.0511526\ttotal: 240ms\tremaining: 381ms\n",
      "386:\tlearn: 0.0509235\ttotal: 240ms\tremaining: 380ms\n",
      "387:\tlearn: 0.0505294\ttotal: 241ms\tremaining: 379ms\n",
      "388:\tlearn: 0.0503839\ttotal: 241ms\tremaining: 379ms\n",
      "389:\tlearn: 0.0500938\ttotal: 242ms\tremaining: 378ms\n",
      "390:\tlearn: 0.0498356\ttotal: 242ms\tremaining: 377ms\n",
      "391:\tlearn: 0.0496953\ttotal: 242ms\tremaining: 376ms\n",
      "392:\tlearn: 0.0495681\ttotal: 243ms\tremaining: 375ms\n",
      "393:\tlearn: 0.0491940\ttotal: 243ms\tremaining: 374ms\n",
      "394:\tlearn: 0.0489919\ttotal: 244ms\tremaining: 373ms\n",
      "395:\tlearn: 0.0486824\ttotal: 244ms\tremaining: 373ms\n",
      "396:\tlearn: 0.0485469\ttotal: 245ms\tremaining: 372ms\n",
      "397:\tlearn: 0.0483742\ttotal: 245ms\tremaining: 371ms\n",
      "398:\tlearn: 0.0482741\ttotal: 246ms\tremaining: 370ms\n",
      "399:\tlearn: 0.0479740\ttotal: 246ms\tremaining: 369ms\n",
      "400:\tlearn: 0.0477768\ttotal: 246ms\tremaining: 368ms\n",
      "401:\tlearn: 0.0475891\ttotal: 247ms\tremaining: 367ms\n",
      "402:\tlearn: 0.0474334\ttotal: 247ms\tremaining: 366ms\n",
      "403:\tlearn: 0.0471432\ttotal: 248ms\tremaining: 365ms\n",
      "404:\tlearn: 0.0468592\ttotal: 248ms\tremaining: 364ms\n",
      "405:\tlearn: 0.0467001\ttotal: 248ms\tremaining: 363ms\n",
      "406:\tlearn: 0.0465429\ttotal: 249ms\tremaining: 362ms\n",
      "407:\tlearn: 0.0463884\ttotal: 249ms\tremaining: 361ms\n",
      "408:\tlearn: 0.0462354\ttotal: 249ms\tremaining: 360ms\n",
      "409:\tlearn: 0.0460851\ttotal: 250ms\tremaining: 359ms\n",
      "410:\tlearn: 0.0459374\ttotal: 250ms\tremaining: 359ms\n",
      "411:\tlearn: 0.0456860\ttotal: 251ms\tremaining: 358ms\n",
      "412:\tlearn: 0.0454194\ttotal: 251ms\tremaining: 357ms\n",
      "413:\tlearn: 0.0452745\ttotal: 251ms\tremaining: 356ms\n",
      "414:\tlearn: 0.0451262\ttotal: 252ms\tremaining: 355ms\n",
      "415:\tlearn: 0.0449851\ttotal: 252ms\tremaining: 354ms\n",
      "416:\tlearn: 0.0448461\ttotal: 252ms\tremaining: 353ms\n",
      "417:\tlearn: 0.0447769\ttotal: 253ms\tremaining: 352ms\n",
      "418:\tlearn: 0.0445205\ttotal: 253ms\tremaining: 351ms\n",
      "419:\tlearn: 0.0443849\ttotal: 254ms\tremaining: 350ms\n",
      "420:\tlearn: 0.0442513\ttotal: 254ms\tremaining: 349ms\n",
      "421:\tlearn: 0.0440168\ttotal: 255ms\tremaining: 349ms\n",
      "422:\tlearn: 0.0438359\ttotal: 255ms\tremaining: 348ms\n",
      "423:\tlearn: 0.0437698\ttotal: 255ms\tremaining: 347ms\n",
      "424:\tlearn: 0.0436404\ttotal: 256ms\tremaining: 346ms\n",
      "425:\tlearn: 0.0435129\ttotal: 256ms\tremaining: 345ms\n",
      "426:\tlearn: 0.0433873\ttotal: 257ms\tremaining: 345ms\n",
      "427:\tlearn: 0.0432289\ttotal: 257ms\tremaining: 344ms\n",
      "428:\tlearn: 0.0430561\ttotal: 258ms\tremaining: 343ms\n",
      "429:\tlearn: 0.0429338\ttotal: 258ms\tremaining: 342ms\n",
      "430:\tlearn: 0.0427651\ttotal: 259ms\tremaining: 341ms\n",
      "431:\tlearn: 0.0426455\ttotal: 259ms\tremaining: 341ms\n",
      "432:\tlearn: 0.0424937\ttotal: 260ms\tremaining: 340ms\n",
      "433:\tlearn: 0.0423763\ttotal: 260ms\tremaining: 339ms\n",
      "434:\tlearn: 0.0422141\ttotal: 260ms\tremaining: 338ms\n",
      "435:\tlearn: 0.0419982\ttotal: 261ms\tremaining: 338ms\n",
      "436:\tlearn: 0.0416907\ttotal: 261ms\tremaining: 337ms\n",
      "437:\tlearn: 0.0414978\ttotal: 262ms\tremaining: 336ms\n",
      "438:\tlearn: 0.0414400\ttotal: 262ms\tremaining: 335ms\n",
      "439:\tlearn: 0.0412308\ttotal: 263ms\tremaining: 334ms\n",
      "440:\tlearn: 0.0409331\ttotal: 263ms\tremaining: 334ms\n",
      "441:\tlearn: 0.0407477\ttotal: 264ms\tremaining: 333ms\n",
      "442:\tlearn: 0.0406919\ttotal: 264ms\tremaining: 332ms\n",
      "443:\tlearn: 0.0404907\ttotal: 265ms\tremaining: 331ms\n",
      "444:\tlearn: 0.0403224\ttotal: 265ms\tremaining: 331ms\n",
      "445:\tlearn: 0.0400357\ttotal: 266ms\tremaining: 330ms\n",
      "446:\tlearn: 0.0399212\ttotal: 266ms\tremaining: 329ms\n",
      "447:\tlearn: 0.0397458\ttotal: 266ms\tremaining: 328ms\n",
      "448:\tlearn: 0.0396929\ttotal: 267ms\tremaining: 328ms\n",
      "449:\tlearn: 0.0394521\ttotal: 267ms\tremaining: 327ms\n",
      "450:\tlearn: 0.0392622\ttotal: 268ms\tremaining: 326ms\n",
      "451:\tlearn: 0.0391040\ttotal: 268ms\tremaining: 325ms\n",
      "452:\tlearn: 0.0390530\ttotal: 269ms\tremaining: 324ms\n",
      "453:\tlearn: 0.0388749\ttotal: 269ms\tremaining: 324ms\n",
      "454:\tlearn: 0.0386409\ttotal: 270ms\tremaining: 323ms\n",
      "455:\tlearn: 0.0384189\ttotal: 270ms\tremaining: 322ms\n",
      "456:\tlearn: 0.0383115\ttotal: 271ms\tremaining: 322ms\n",
      "457:\tlearn: 0.0380545\ttotal: 271ms\tremaining: 321ms\n",
      "458:\tlearn: 0.0380058\ttotal: 272ms\tremaining: 320ms\n",
      "459:\tlearn: 0.0377491\ttotal: 272ms\tremaining: 320ms\n",
      "460:\tlearn: 0.0375760\ttotal: 273ms\tremaining: 319ms\n",
      "461:\tlearn: 0.0373653\ttotal: 273ms\tremaining: 318ms\n",
      "462:\tlearn: 0.0371434\ttotal: 274ms\tremaining: 317ms\n",
      "463:\tlearn: 0.0370007\ttotal: 274ms\tremaining: 317ms\n",
      "464:\tlearn: 0.0367972\ttotal: 275ms\tremaining: 316ms\n",
      "465:\tlearn: 0.0366631\ttotal: 275ms\tremaining: 315ms\n",
      "466:\tlearn: 0.0364466\ttotal: 275ms\tremaining: 314ms\n",
      "467:\tlearn: 0.0362492\ttotal: 276ms\tremaining: 314ms\n",
      "468:\tlearn: 0.0360183\ttotal: 276ms\tremaining: 313ms\n",
      "469:\tlearn: 0.0358884\ttotal: 277ms\tremaining: 312ms\n",
      "470:\tlearn: 0.0357615\ttotal: 277ms\tremaining: 311ms\n",
      "471:\tlearn: 0.0355474\ttotal: 278ms\tremaining: 311ms\n",
      "472:\tlearn: 0.0353577\ttotal: 278ms\tremaining: 310ms\n",
      "473:\tlearn: 0.0352104\ttotal: 279ms\tremaining: 309ms\n",
      "474:\tlearn: 0.0350111\ttotal: 279ms\tremaining: 309ms\n",
      "475:\tlearn: 0.0348895\ttotal: 280ms\tremaining: 308ms\n",
      "476:\tlearn: 0.0346830\ttotal: 280ms\tremaining: 307ms\n",
      "477:\tlearn: 0.0345643\ttotal: 281ms\tremaining: 306ms\n",
      "478:\tlearn: 0.0343714\ttotal: 281ms\tremaining: 306ms\n",
      "479:\tlearn: 0.0342559\ttotal: 281ms\tremaining: 305ms\n",
      "480:\tlearn: 0.0340553\ttotal: 282ms\tremaining: 304ms\n",
      "481:\tlearn: 0.0338741\ttotal: 282ms\tremaining: 303ms\n",
      "482:\tlearn: 0.0338208\ttotal: 283ms\tremaining: 303ms\n",
      "483:\tlearn: 0.0337090\ttotal: 283ms\tremaining: 302ms\n",
      "484:\tlearn: 0.0335140\ttotal: 284ms\tremaining: 301ms\n",
      "485:\tlearn: 0.0333783\ttotal: 284ms\tremaining: 301ms\n",
      "486:\tlearn: 0.0331942\ttotal: 285ms\tremaining: 300ms\n",
      "487:\tlearn: 0.0331435\ttotal: 285ms\tremaining: 299ms\n",
      "488:\tlearn: 0.0329509\ttotal: 286ms\tremaining: 299ms\n",
      "489:\tlearn: 0.0328998\ttotal: 286ms\tremaining: 298ms\n",
      "490:\tlearn: 0.0327120\ttotal: 287ms\tremaining: 298ms\n",
      "491:\tlearn: 0.0325819\ttotal: 288ms\tremaining: 297ms\n",
      "492:\tlearn: 0.0324047\ttotal: 288ms\tremaining: 296ms\n",
      "493:\tlearn: 0.0322390\ttotal: 289ms\tremaining: 296ms\n",
      "494:\tlearn: 0.0321904\ttotal: 289ms\tremaining: 295ms\n",
      "495:\tlearn: 0.0320130\ttotal: 290ms\tremaining: 294ms\n",
      "496:\tlearn: 0.0318487\ttotal: 290ms\tremaining: 294ms\n",
      "497:\tlearn: 0.0318015\ttotal: 291ms\tremaining: 293ms\n",
      "498:\tlearn: 0.0316695\ttotal: 291ms\tremaining: 292ms\n",
      "499:\tlearn: 0.0314968\ttotal: 291ms\tremaining: 291ms\n",
      "500:\tlearn: 0.0313284\ttotal: 292ms\tremaining: 291ms\n",
      "501:\tlearn: 0.0312827\ttotal: 293ms\tremaining: 291ms\n",
      "502:\tlearn: 0.0311086\ttotal: 293ms\tremaining: 290ms\n",
      "503:\tlearn: 0.0310591\ttotal: 294ms\tremaining: 289ms\n",
      "504:\tlearn: 0.0309137\ttotal: 294ms\tremaining: 288ms\n",
      "505:\tlearn: 0.0307474\ttotal: 295ms\tremaining: 288ms\n",
      "506:\tlearn: 0.0306347\ttotal: 295ms\tremaining: 287ms\n",
      "507:\tlearn: 0.0304236\ttotal: 295ms\tremaining: 286ms\n",
      "508:\tlearn: 0.0303761\ttotal: 296ms\tremaining: 285ms\n",
      "509:\tlearn: 0.0301697\ttotal: 296ms\tremaining: 285ms\n",
      "510:\tlearn: 0.0301231\ttotal: 297ms\tremaining: 284ms\n",
      "511:\tlearn: 0.0299561\ttotal: 297ms\tremaining: 283ms\n",
      "512:\tlearn: 0.0298438\ttotal: 298ms\tremaining: 283ms\n",
      "513:\tlearn: 0.0296448\ttotal: 299ms\tremaining: 283ms\n",
      "514:\tlearn: 0.0296018\ttotal: 300ms\tremaining: 282ms\n",
      "515:\tlearn: 0.0294139\ttotal: 300ms\tremaining: 282ms\n",
      "516:\tlearn: 0.0293733\ttotal: 301ms\tremaining: 281ms\n",
      "517:\tlearn: 0.0292182\ttotal: 301ms\tremaining: 281ms\n",
      "518:\tlearn: 0.0290281\ttotal: 302ms\tremaining: 280ms\n",
      "519:\tlearn: 0.0289871\ttotal: 303ms\tremaining: 279ms\n",
      "520:\tlearn: 0.0288085\ttotal: 303ms\tremaining: 279ms\n",
      "521:\tlearn: 0.0287699\ttotal: 304ms\tremaining: 278ms\n",
      "522:\tlearn: 0.0285967\ttotal: 304ms\tremaining: 278ms\n",
      "523:\tlearn: 0.0285574\ttotal: 305ms\tremaining: 277ms\n",
      "524:\tlearn: 0.0284050\ttotal: 305ms\tremaining: 276ms\n",
      "525:\tlearn: 0.0283663\ttotal: 306ms\tremaining: 275ms\n",
      "526:\tlearn: 0.0281873\ttotal: 306ms\tremaining: 275ms\n",
      "527:\tlearn: 0.0281499\ttotal: 307ms\tremaining: 274ms\n",
      "528:\tlearn: 0.0279741\ttotal: 307ms\tremaining: 273ms\n",
      "529:\tlearn: 0.0279374\ttotal: 308ms\tremaining: 273ms\n",
      "530:\tlearn: 0.0277641\ttotal: 308ms\tremaining: 272ms\n",
      "531:\tlearn: 0.0277282\ttotal: 308ms\tremaining: 271ms\n",
      "532:\tlearn: 0.0275848\ttotal: 309ms\tremaining: 271ms\n",
      "533:\tlearn: 0.0274228\ttotal: 309ms\tremaining: 270ms\n",
      "534:\tlearn: 0.0273953\ttotal: 310ms\tremaining: 269ms\n",
      "535:\tlearn: 0.0273605\ttotal: 310ms\tremaining: 269ms\n",
      "536:\tlearn: 0.0271951\ttotal: 311ms\tremaining: 268ms\n",
      "537:\tlearn: 0.0270278\ttotal: 311ms\tremaining: 267ms\n",
      "538:\tlearn: 0.0270012\ttotal: 311ms\tremaining: 266ms\n",
      "539:\tlearn: 0.0269750\ttotal: 312ms\tremaining: 266ms\n",
      "540:\tlearn: 0.0268148\ttotal: 312ms\tremaining: 265ms\n",
      "541:\tlearn: 0.0266569\ttotal: 313ms\tremaining: 264ms\n",
      "542:\tlearn: 0.0266237\ttotal: 313ms\tremaining: 264ms\n"
     ]
    },
    {
     "name": "stdout",
     "output_type": "stream",
     "text": [
      "543:\tlearn: 0.0264927\ttotal: 314ms\tremaining: 263ms\n",
      "544:\tlearn: 0.0263397\ttotal: 315ms\tremaining: 263ms\n",
      "545:\tlearn: 0.0263073\ttotal: 315ms\tremaining: 262ms\n",
      "546:\tlearn: 0.0261592\ttotal: 316ms\tremaining: 262ms\n",
      "547:\tlearn: 0.0261274\ttotal: 316ms\tremaining: 261ms\n",
      "548:\tlearn: 0.0259784\ttotal: 317ms\tremaining: 260ms\n",
      "549:\tlearn: 0.0258342\ttotal: 317ms\tremaining: 260ms\n",
      "550:\tlearn: 0.0258101\ttotal: 318ms\tremaining: 259ms\n",
      "551:\tlearn: 0.0257792\ttotal: 318ms\tremaining: 258ms\n",
      "552:\tlearn: 0.0256545\ttotal: 319ms\tremaining: 258ms\n",
      "553:\tlearn: 0.0255042\ttotal: 319ms\tremaining: 257ms\n",
      "554:\tlearn: 0.0254741\ttotal: 319ms\tremaining: 256ms\n",
      "555:\tlearn: 0.0253403\ttotal: 320ms\tremaining: 256ms\n",
      "556:\tlearn: 0.0252182\ttotal: 320ms\tremaining: 255ms\n",
      "557:\tlearn: 0.0251891\ttotal: 321ms\tremaining: 254ms\n",
      "558:\tlearn: 0.0251358\ttotal: 321ms\tremaining: 253ms\n",
      "559:\tlearn: 0.0250234\ttotal: 322ms\tremaining: 253ms\n",
      "560:\tlearn: 0.0248866\ttotal: 322ms\tremaining: 252ms\n",
      "561:\tlearn: 0.0248250\ttotal: 323ms\tremaining: 251ms\n",
      "562:\tlearn: 0.0246893\ttotal: 323ms\tremaining: 251ms\n",
      "563:\tlearn: 0.0246056\ttotal: 324ms\tremaining: 250ms\n",
      "564:\tlearn: 0.0244731\ttotal: 324ms\tremaining: 249ms\n",
      "565:\tlearn: 0.0243918\ttotal: 325ms\tremaining: 249ms\n",
      "566:\tlearn: 0.0243118\ttotal: 325ms\tremaining: 248ms\n",
      "567:\tlearn: 0.0241826\ttotal: 325ms\tremaining: 248ms\n",
      "568:\tlearn: 0.0240543\ttotal: 326ms\tremaining: 247ms\n",
      "569:\tlearn: 0.0239315\ttotal: 326ms\tremaining: 246ms\n",
      "570:\tlearn: 0.0238066\ttotal: 327ms\tremaining: 245ms\n",
      "571:\tlearn: 0.0236844\ttotal: 327ms\tremaining: 245ms\n",
      "572:\tlearn: 0.0235654\ttotal: 328ms\tremaining: 244ms\n",
      "573:\tlearn: 0.0234640\ttotal: 328ms\tremaining: 244ms\n",
      "574:\tlearn: 0.0233646\ttotal: 329ms\tremaining: 243ms\n",
      "575:\tlearn: 0.0232428\ttotal: 329ms\tremaining: 242ms\n",
      "576:\tlearn: 0.0231020\ttotal: 330ms\tremaining: 242ms\n",
      "577:\tlearn: 0.0229641\ttotal: 330ms\tremaining: 241ms\n",
      "578:\tlearn: 0.0228720\ttotal: 330ms\tremaining: 240ms\n",
      "579:\tlearn: 0.0227378\ttotal: 331ms\tremaining: 240ms\n",
      "580:\tlearn: 0.0226659\ttotal: 331ms\tremaining: 239ms\n",
      "581:\tlearn: 0.0225350\ttotal: 332ms\tremaining: 239ms\n",
      "582:\tlearn: 0.0224594\ttotal: 333ms\tremaining: 238ms\n",
      "583:\tlearn: 0.0223473\ttotal: 333ms\tremaining: 237ms\n",
      "584:\tlearn: 0.0222544\ttotal: 334ms\tremaining: 237ms\n",
      "585:\tlearn: 0.0221451\ttotal: 334ms\tremaining: 236ms\n",
      "586:\tlearn: 0.0220383\ttotal: 335ms\tremaining: 235ms\n",
      "587:\tlearn: 0.0219665\ttotal: 335ms\tremaining: 235ms\n",
      "588:\tlearn: 0.0218982\ttotal: 336ms\tremaining: 234ms\n",
      "589:\tlearn: 0.0218020\ttotal: 336ms\tremaining: 233ms\n",
      "590:\tlearn: 0.0217317\ttotal: 336ms\tremaining: 233ms\n",
      "591:\tlearn: 0.0216626\ttotal: 337ms\tremaining: 232ms\n",
      "592:\tlearn: 0.0215407\ttotal: 337ms\tremaining: 231ms\n",
      "593:\tlearn: 0.0214474\ttotal: 338ms\tremaining: 231ms\n",
      "594:\tlearn: 0.0213798\ttotal: 338ms\tremaining: 230ms\n",
      "595:\tlearn: 0.0213132\ttotal: 338ms\tremaining: 229ms\n",
      "596:\tlearn: 0.0212393\ttotal: 339ms\tremaining: 229ms\n",
      "597:\tlearn: 0.0211393\ttotal: 339ms\tremaining: 228ms\n",
      "598:\tlearn: 0.0210312\ttotal: 340ms\tremaining: 228ms\n",
      "599:\tlearn: 0.0209148\ttotal: 340ms\tremaining: 227ms\n",
      "600:\tlearn: 0.0208185\ttotal: 341ms\tremaining: 226ms\n",
      "601:\tlearn: 0.0207476\ttotal: 341ms\tremaining: 225ms\n",
      "602:\tlearn: 0.0206536\ttotal: 342ms\tremaining: 225ms\n",
      "603:\tlearn: 0.0205253\ttotal: 342ms\tremaining: 224ms\n",
      "604:\tlearn: 0.0204407\ttotal: 342ms\tremaining: 224ms\n",
      "605:\tlearn: 0.0203577\ttotal: 343ms\tremaining: 223ms\n",
      "606:\tlearn: 0.0202935\ttotal: 343ms\tremaining: 222ms\n",
      "607:\tlearn: 0.0202258\ttotal: 344ms\tremaining: 222ms\n",
      "608:\tlearn: 0.0201628\ttotal: 344ms\tremaining: 221ms\n",
      "609:\tlearn: 0.0200404\ttotal: 345ms\tremaining: 220ms\n",
      "610:\tlearn: 0.0199788\ttotal: 345ms\tremaining: 220ms\n",
      "611:\tlearn: 0.0199004\ttotal: 346ms\tremaining: 219ms\n",
      "612:\tlearn: 0.0197828\ttotal: 346ms\tremaining: 219ms\n",
      "613:\tlearn: 0.0196993\ttotal: 347ms\tremaining: 218ms\n",
      "614:\tlearn: 0.0196027\ttotal: 347ms\tremaining: 217ms\n",
      "615:\tlearn: 0.0194721\ttotal: 348ms\tremaining: 217ms\n",
      "616:\tlearn: 0.0194168\ttotal: 349ms\tremaining: 216ms\n",
      "617:\tlearn: 0.0193031\ttotal: 349ms\tremaining: 216ms\n",
      "618:\tlearn: 0.0192459\ttotal: 349ms\tremaining: 215ms\n",
      "619:\tlearn: 0.0191352\ttotal: 350ms\tremaining: 214ms\n",
      "620:\tlearn: 0.0190792\ttotal: 350ms\tremaining: 214ms\n",
      "621:\tlearn: 0.0189544\ttotal: 351ms\tremaining: 213ms\n",
      "622:\tlearn: 0.0188327\ttotal: 351ms\tremaining: 213ms\n",
      "623:\tlearn: 0.0187799\ttotal: 352ms\tremaining: 212ms\n",
      "624:\tlearn: 0.0186737\ttotal: 353ms\tremaining: 212ms\n",
      "625:\tlearn: 0.0186253\ttotal: 353ms\tremaining: 211ms\n",
      "626:\tlearn: 0.0185424\ttotal: 354ms\tremaining: 211ms\n",
      "627:\tlearn: 0.0184950\ttotal: 355ms\tremaining: 210ms\n",
      "628:\tlearn: 0.0184141\ttotal: 356ms\tremaining: 210ms\n",
      "629:\tlearn: 0.0183257\ttotal: 356ms\tremaining: 209ms\n",
      "630:\tlearn: 0.0182795\ttotal: 357ms\tremaining: 209ms\n",
      "631:\tlearn: 0.0181990\ttotal: 358ms\tremaining: 208ms\n",
      "632:\tlearn: 0.0181129\ttotal: 358ms\tremaining: 208ms\n",
      "633:\tlearn: 0.0180686\ttotal: 359ms\tremaining: 207ms\n",
      "634:\tlearn: 0.0180075\ttotal: 359ms\tremaining: 207ms\n",
      "635:\tlearn: 0.0179235\ttotal: 360ms\tremaining: 206ms\n",
      "636:\tlearn: 0.0178412\ttotal: 360ms\tremaining: 205ms\n",
      "637:\tlearn: 0.0177980\ttotal: 361ms\tremaining: 205ms\n",
      "638:\tlearn: 0.0177393\ttotal: 361ms\tremaining: 204ms\n",
      "639:\tlearn: 0.0176591\ttotal: 362ms\tremaining: 204ms\n",
      "640:\tlearn: 0.0175575\ttotal: 362ms\tremaining: 203ms\n",
      "641:\tlearn: 0.0175003\ttotal: 363ms\tremaining: 202ms\n",
      "642:\tlearn: 0.0174283\ttotal: 363ms\tremaining: 202ms\n",
      "643:\tlearn: 0.0173494\ttotal: 364ms\tremaining: 201ms\n",
      "644:\tlearn: 0.0172790\ttotal: 364ms\tremaining: 200ms\n",
      "645:\tlearn: 0.0171822\ttotal: 365ms\tremaining: 200ms\n",
      "646:\tlearn: 0.0170927\ttotal: 365ms\tremaining: 199ms\n",
      "647:\tlearn: 0.0170370\ttotal: 366ms\tremaining: 199ms\n",
      "648:\tlearn: 0.0169689\ttotal: 366ms\tremaining: 198ms\n",
      "649:\tlearn: 0.0168943\ttotal: 367ms\tremaining: 198ms\n",
      "650:\tlearn: 0.0168277\ttotal: 368ms\tremaining: 197ms\n",
      "651:\tlearn: 0.0167740\ttotal: 368ms\tremaining: 196ms\n",
      "652:\tlearn: 0.0166798\ttotal: 369ms\tremaining: 196ms\n"
     ]
    },
    {
     "name": "stdout",
     "output_type": "stream",
     "text": [
      "653:\tlearn: 0.0166427\ttotal: 370ms\tremaining: 195ms\n",
      "654:\tlearn: 0.0165710\ttotal: 370ms\tremaining: 195ms\n",
      "655:\tlearn: 0.0165064\ttotal: 371ms\tremaining: 195ms\n",
      "656:\tlearn: 0.0164204\ttotal: 372ms\tremaining: 194ms\n",
      "657:\tlearn: 0.0163821\ttotal: 373ms\tremaining: 194ms\n",
      "658:\tlearn: 0.0163189\ttotal: 373ms\tremaining: 193ms\n",
      "659:\tlearn: 0.0162666\ttotal: 374ms\tremaining: 193ms\n",
      "660:\tlearn: 0.0161577\ttotal: 374ms\tremaining: 192ms\n",
      "661:\tlearn: 0.0160512\ttotal: 375ms\tremaining: 191ms\n",
      "662:\tlearn: 0.0159904\ttotal: 375ms\tremaining: 191ms\n",
      "663:\tlearn: 0.0159238\ttotal: 376ms\tremaining: 190ms\n",
      "664:\tlearn: 0.0158213\ttotal: 376ms\tremaining: 190ms\n",
      "665:\tlearn: 0.0157534\ttotal: 377ms\tremaining: 189ms\n",
      "666:\tlearn: 0.0156869\ttotal: 377ms\tremaining: 188ms\n",
      "667:\tlearn: 0.0156211\ttotal: 378ms\tremaining: 188ms\n",
      "668:\tlearn: 0.0155875\ttotal: 378ms\tremaining: 187ms\n",
      "669:\tlearn: 0.0155228\ttotal: 379ms\tremaining: 186ms\n",
      "670:\tlearn: 0.0154763\ttotal: 379ms\tremaining: 186ms\n",
      "671:\tlearn: 0.0154014\ttotal: 380ms\tremaining: 185ms\n",
      "672:\tlearn: 0.0153346\ttotal: 380ms\tremaining: 185ms\n",
      "673:\tlearn: 0.0152875\ttotal: 380ms\tremaining: 184ms\n",
      "674:\tlearn: 0.0152168\ttotal: 381ms\tremaining: 183ms\n",
      "675:\tlearn: 0.0151520\ttotal: 381ms\tremaining: 183ms\n",
      "676:\tlearn: 0.0150891\ttotal: 382ms\tremaining: 182ms\n",
      "677:\tlearn: 0.0150577\ttotal: 382ms\tremaining: 181ms\n",
      "678:\tlearn: 0.0149943\ttotal: 383ms\tremaining: 181ms\n",
      "679:\tlearn: 0.0149508\ttotal: 383ms\tremaining: 180ms\n",
      "680:\tlearn: 0.0148878\ttotal: 384ms\tremaining: 180ms\n",
      "681:\tlearn: 0.0148185\ttotal: 384ms\tremaining: 179ms\n",
      "682:\tlearn: 0.0147755\ttotal: 384ms\tremaining: 178ms\n",
      "683:\tlearn: 0.0147280\ttotal: 385ms\tremaining: 178ms\n",
      "684:\tlearn: 0.0146668\ttotal: 385ms\tremaining: 177ms\n",
      "685:\tlearn: 0.0146373\ttotal: 386ms\tremaining: 177ms\n",
      "686:\tlearn: 0.0145868\ttotal: 386ms\tremaining: 176ms\n",
      "687:\tlearn: 0.0145139\ttotal: 387ms\tremaining: 175ms\n",
      "688:\tlearn: 0.0144548\ttotal: 388ms\tremaining: 175ms\n",
      "689:\tlearn: 0.0144246\ttotal: 388ms\tremaining: 175ms\n",
      "690:\tlearn: 0.0143648\ttotal: 389ms\tremaining: 174ms\n",
      "691:\tlearn: 0.0143161\ttotal: 389ms\tremaining: 173ms\n",
      "692:\tlearn: 0.0142610\ttotal: 390ms\tremaining: 173ms\n",
      "693:\tlearn: 0.0142200\ttotal: 390ms\tremaining: 172ms\n",
      "694:\tlearn: 0.0141632\ttotal: 391ms\tremaining: 171ms\n",
      "695:\tlearn: 0.0141340\ttotal: 391ms\tremaining: 171ms\n",
      "696:\tlearn: 0.0140787\ttotal: 391ms\tremaining: 170ms\n",
      "697:\tlearn: 0.0140499\ttotal: 392ms\tremaining: 170ms\n",
      "698:\tlearn: 0.0139954\ttotal: 392ms\tremaining: 169ms\n",
      "699:\tlearn: 0.0139491\ttotal: 393ms\tremaining: 168ms\n",
      "700:\tlearn: 0.0138955\ttotal: 393ms\tremaining: 168ms\n",
      "701:\tlearn: 0.0138674\ttotal: 394ms\tremaining: 167ms\n",
      "702:\tlearn: 0.0138282\ttotal: 395ms\tremaining: 167ms\n",
      "703:\tlearn: 0.0137750\ttotal: 395ms\tremaining: 166ms\n",
      "704:\tlearn: 0.0137474\ttotal: 395ms\tremaining: 165ms\n",
      "705:\tlearn: 0.0137103\ttotal: 396ms\tremaining: 165ms\n",
      "706:\tlearn: 0.0136500\ttotal: 396ms\tremaining: 164ms\n",
      "707:\tlearn: 0.0136244\ttotal: 397ms\tremaining: 164ms\n",
      "708:\tlearn: 0.0135652\ttotal: 397ms\tremaining: 163ms\n",
      "709:\tlearn: 0.0135224\ttotal: 397ms\tremaining: 162ms\n",
      "710:\tlearn: 0.0134844\ttotal: 398ms\tremaining: 162ms\n",
      "711:\tlearn: 0.0134583\ttotal: 398ms\tremaining: 161ms\n",
      "712:\tlearn: 0.0134210\ttotal: 399ms\tremaining: 161ms\n",
      "713:\tlearn: 0.0133750\ttotal: 399ms\tremaining: 160ms\n",
      "714:\tlearn: 0.0133383\ttotal: 400ms\tremaining: 159ms\n",
      "715:\tlearn: 0.0132775\ttotal: 400ms\tremaining: 159ms\n",
      "716:\tlearn: 0.0132040\ttotal: 400ms\tremaining: 158ms\n",
      "717:\tlearn: 0.0131449\ttotal: 401ms\tremaining: 157ms\n",
      "718:\tlearn: 0.0131094\ttotal: 401ms\tremaining: 157ms\n",
      "719:\tlearn: 0.0130508\ttotal: 402ms\tremaining: 156ms\n",
      "720:\tlearn: 0.0130159\ttotal: 402ms\tremaining: 156ms\n",
      "721:\tlearn: 0.0129921\ttotal: 403ms\tremaining: 155ms\n",
      "722:\tlearn: 0.0129221\ttotal: 403ms\tremaining: 155ms\n",
      "723:\tlearn: 0.0128696\ttotal: 404ms\tremaining: 154ms\n",
      "724:\tlearn: 0.0128183\ttotal: 405ms\tremaining: 153ms\n",
      "725:\tlearn: 0.0127618\ttotal: 405ms\tremaining: 153ms\n",
      "726:\tlearn: 0.0127283\ttotal: 406ms\tremaining: 152ms\n",
      "727:\tlearn: 0.0127055\ttotal: 406ms\tremaining: 152ms\n",
      "728:\tlearn: 0.0126563\ttotal: 407ms\tremaining: 151ms\n",
      "729:\tlearn: 0.0126160\ttotal: 407ms\tremaining: 151ms\n",
      "730:\tlearn: 0.0125831\ttotal: 407ms\tremaining: 150ms\n",
      "731:\tlearn: 0.0125438\ttotal: 408ms\tremaining: 149ms\n",
      "732:\tlearn: 0.0125115\ttotal: 408ms\tremaining: 149ms\n",
      "733:\tlearn: 0.0124884\ttotal: 409ms\tremaining: 148ms\n",
      "734:\tlearn: 0.0124231\ttotal: 409ms\tremaining: 147ms\n",
      "735:\tlearn: 0.0123698\ttotal: 409ms\tremaining: 147ms\n",
      "736:\tlearn: 0.0123384\ttotal: 410ms\tremaining: 146ms\n",
      "737:\tlearn: 0.0122905\ttotal: 410ms\tremaining: 146ms\n",
      "738:\tlearn: 0.0122378\ttotal: 411ms\tremaining: 145ms\n",
      "739:\tlearn: 0.0122071\ttotal: 411ms\tremaining: 144ms\n",
      "740:\tlearn: 0.0121450\ttotal: 412ms\tremaining: 144ms\n",
      "741:\tlearn: 0.0120937\ttotal: 412ms\tremaining: 143ms\n",
      "742:\tlearn: 0.0120419\ttotal: 412ms\tremaining: 143ms\n",
      "743:\tlearn: 0.0119920\ttotal: 413ms\tremaining: 142ms\n",
      "744:\tlearn: 0.0119603\ttotal: 413ms\tremaining: 141ms\n",
      "745:\tlearn: 0.0119098\ttotal: 414ms\tremaining: 141ms\n",
      "746:\tlearn: 0.0118559\ttotal: 415ms\tremaining: 140ms\n",
      "747:\tlearn: 0.0118197\ttotal: 415ms\tremaining: 140ms\n",
      "748:\tlearn: 0.0117888\ttotal: 416ms\tremaining: 139ms\n",
      "749:\tlearn: 0.0117535\ttotal: 416ms\tremaining: 139ms\n",
      "750:\tlearn: 0.0117231\ttotal: 417ms\tremaining: 138ms\n",
      "751:\tlearn: 0.0116712\ttotal: 417ms\tremaining: 138ms\n",
      "752:\tlearn: 0.0116371\ttotal: 418ms\tremaining: 137ms\n",
      "753:\tlearn: 0.0116039\ttotal: 418ms\tremaining: 136ms\n",
      "754:\tlearn: 0.0115741\ttotal: 419ms\tremaining: 136ms\n",
      "755:\tlearn: 0.0115398\ttotal: 419ms\tremaining: 135ms\n",
      "756:\tlearn: 0.0115104\ttotal: 420ms\tremaining: 135ms\n",
      "757:\tlearn: 0.0114815\ttotal: 420ms\tremaining: 134ms\n",
      "758:\tlearn: 0.0114523\ttotal: 421ms\tremaining: 134ms\n",
      "759:\tlearn: 0.0114026\ttotal: 421ms\tremaining: 133ms\n",
      "760:\tlearn: 0.0113693\ttotal: 422ms\tremaining: 132ms\n",
      "761:\tlearn: 0.0113415\ttotal: 422ms\tremaining: 132ms\n",
      "762:\tlearn: 0.0112845\ttotal: 423ms\tremaining: 131ms\n",
      "763:\tlearn: 0.0112412\ttotal: 423ms\tremaining: 131ms\n",
      "764:\tlearn: 0.0111989\ttotal: 424ms\tremaining: 130ms\n",
      "765:\tlearn: 0.0111511\ttotal: 424ms\tremaining: 130ms\n",
      "766:\tlearn: 0.0111209\ttotal: 424ms\tremaining: 129ms\n",
      "767:\tlearn: 0.0110661\ttotal: 425ms\tremaining: 128ms\n",
      "768:\tlearn: 0.0110246\ttotal: 425ms\tremaining: 128ms\n",
      "769:\tlearn: 0.0109784\ttotal: 426ms\tremaining: 127ms\n",
      "770:\tlearn: 0.0109475\ttotal: 426ms\tremaining: 127ms\n",
      "771:\tlearn: 0.0109070\ttotal: 427ms\tremaining: 126ms\n",
      "772:\tlearn: 0.0108620\ttotal: 427ms\tremaining: 125ms\n",
      "773:\tlearn: 0.0108223\ttotal: 428ms\tremaining: 125ms\n",
      "774:\tlearn: 0.0107922\ttotal: 428ms\tremaining: 124ms\n",
      "775:\tlearn: 0.0107485\ttotal: 428ms\tremaining: 124ms\n",
      "776:\tlearn: 0.0107191\ttotal: 429ms\tremaining: 123ms\n",
      "777:\tlearn: 0.0106802\ttotal: 429ms\tremaining: 123ms\n",
      "778:\tlearn: 0.0106377\ttotal: 430ms\tremaining: 122ms\n",
      "779:\tlearn: 0.0106083\ttotal: 431ms\tremaining: 121ms\n",
      "780:\tlearn: 0.0105704\ttotal: 431ms\tremaining: 121ms\n",
      "781:\tlearn: 0.0105517\ttotal: 432ms\tremaining: 120ms\n",
      "782:\tlearn: 0.0105109\ttotal: 432ms\tremaining: 120ms\n",
      "783:\tlearn: 0.0104696\ttotal: 433ms\tremaining: 119ms\n",
      "784:\tlearn: 0.0104309\ttotal: 433ms\tremaining: 119ms\n",
      "785:\tlearn: 0.0104127\ttotal: 434ms\tremaining: 118ms\n",
      "786:\tlearn: 0.0103814\ttotal: 434ms\tremaining: 117ms\n",
      "787:\tlearn: 0.0103635\ttotal: 435ms\tremaining: 117ms\n",
      "788:\tlearn: 0.0103328\ttotal: 435ms\tremaining: 116ms\n",
      "789:\tlearn: 0.0103151\ttotal: 435ms\tremaining: 116ms\n",
      "790:\tlearn: 0.0102850\ttotal: 436ms\tremaining: 115ms\n",
      "791:\tlearn: 0.0102676\ttotal: 436ms\tremaining: 115ms\n",
      "792:\tlearn: 0.0102217\ttotal: 437ms\tremaining: 114ms\n",
      "793:\tlearn: 0.0102046\ttotal: 437ms\tremaining: 113ms\n",
      "794:\tlearn: 0.0101757\ttotal: 438ms\tremaining: 113ms\n",
      "795:\tlearn: 0.0101588\ttotal: 438ms\tremaining: 112ms\n",
      "796:\tlearn: 0.0101149\ttotal: 439ms\tremaining: 112ms\n",
      "797:\tlearn: 0.0100815\ttotal: 439ms\tremaining: 111ms\n",
      "798:\tlearn: 0.0100650\ttotal: 440ms\tremaining: 111ms\n",
      "799:\tlearn: 0.0100487\ttotal: 440ms\tremaining: 110ms\n",
      "800:\tlearn: 0.0100154\ttotal: 441ms\tremaining: 109ms\n",
      "801:\tlearn: 0.0099754\ttotal: 441ms\tremaining: 109ms\n",
      "802:\tlearn: 0.0099593\ttotal: 441ms\tremaining: 108ms\n",
      "803:\tlearn: 0.0099434\ttotal: 442ms\tremaining: 108ms\n",
      "804:\tlearn: 0.0099162\ttotal: 442ms\tremaining: 107ms\n",
      "805:\tlearn: 0.0099005\ttotal: 443ms\tremaining: 107ms\n",
      "806:\tlearn: 0.0098737\ttotal: 443ms\tremaining: 106ms\n",
      "807:\tlearn: 0.0098583\ttotal: 444ms\tremaining: 105ms\n",
      "808:\tlearn: 0.0098281\ttotal: 444ms\tremaining: 105ms\n",
      "809:\tlearn: 0.0097878\ttotal: 444ms\tremaining: 104ms\n",
      "810:\tlearn: 0.0097726\ttotal: 445ms\tremaining: 104ms\n",
      "811:\tlearn: 0.0097441\ttotal: 445ms\tremaining: 103ms\n",
      "812:\tlearn: 0.0097291\ttotal: 446ms\tremaining: 103ms\n",
      "813:\tlearn: 0.0097002\ttotal: 446ms\tremaining: 102ms\n",
      "814:\tlearn: 0.0096855\ttotal: 447ms\tremaining: 102ms\n",
      "815:\tlearn: 0.0096587\ttotal: 448ms\tremaining: 101ms\n",
      "816:\tlearn: 0.0096311\ttotal: 448ms\tremaining: 100ms\n",
      "817:\tlearn: 0.0096167\ttotal: 449ms\tremaining: 99.9ms\n",
      "818:\tlearn: 0.0095922\ttotal: 449ms\tremaining: 99.3ms\n",
      "819:\tlearn: 0.0095492\ttotal: 450ms\tremaining: 98.7ms\n",
      "820:\tlearn: 0.0095246\ttotal: 450ms\tremaining: 98.2ms\n",
      "821:\tlearn: 0.0095106\ttotal: 451ms\tremaining: 97.6ms\n",
      "822:\tlearn: 0.0094865\ttotal: 451ms\tremaining: 97ms\n",
      "823:\tlearn: 0.0094448\ttotal: 452ms\tremaining: 96.4ms\n",
      "824:\tlearn: 0.0094210\ttotal: 452ms\tremaining: 95.9ms\n",
      "825:\tlearn: 0.0093785\ttotal: 452ms\tremaining: 95.3ms\n",
      "826:\tlearn: 0.0093382\ttotal: 453ms\tremaining: 94.7ms\n",
      "827:\tlearn: 0.0093148\ttotal: 453ms\tremaining: 94.1ms\n",
      "828:\tlearn: 0.0092757\ttotal: 454ms\tremaining: 93.6ms\n",
      "829:\tlearn: 0.0092384\ttotal: 454ms\tremaining: 93ms\n",
      "830:\tlearn: 0.0092042\ttotal: 454ms\tremaining: 92.4ms\n",
      "831:\tlearn: 0.0091637\ttotal: 455ms\tremaining: 91.8ms\n",
      "832:\tlearn: 0.0091392\ttotal: 455ms\tremaining: 91.3ms\n",
      "833:\tlearn: 0.0091062\ttotal: 456ms\tremaining: 90.7ms\n",
      "834:\tlearn: 0.0090668\ttotal: 456ms\tremaining: 90.1ms\n",
      "835:\tlearn: 0.0090439\ttotal: 457ms\tremaining: 89.6ms\n",
      "836:\tlearn: 0.0090216\ttotal: 457ms\tremaining: 89ms\n",
      "837:\tlearn: 0.0089896\ttotal: 457ms\tremaining: 88.4ms\n",
      "838:\tlearn: 0.0089539\ttotal: 458ms\tremaining: 87.9ms\n",
      "839:\tlearn: 0.0089166\ttotal: 458ms\tremaining: 87.3ms\n",
      "840:\tlearn: 0.0088798\ttotal: 459ms\tremaining: 86.7ms\n",
      "841:\tlearn: 0.0088581\ttotal: 459ms\tremaining: 86.2ms\n",
      "842:\tlearn: 0.0088210\ttotal: 460ms\tremaining: 85.6ms\n"
     ]
    },
    {
     "name": "stdout",
     "output_type": "stream",
     "text": [
      "843:\tlearn: 0.0087980\ttotal: 461ms\tremaining: 85.1ms\n",
      "844:\tlearn: 0.0087768\ttotal: 461ms\tremaining: 84.6ms\n",
      "845:\tlearn: 0.0087425\ttotal: 462ms\tremaining: 84.1ms\n",
      "846:\tlearn: 0.0087126\ttotal: 462ms\tremaining: 83.5ms\n",
      "847:\tlearn: 0.0086793\ttotal: 463ms\tremaining: 83ms\n",
      "848:\tlearn: 0.0086445\ttotal: 464ms\tremaining: 82.5ms\n",
      "849:\tlearn: 0.0086088\ttotal: 464ms\tremaining: 81.9ms\n",
      "850:\tlearn: 0.0085771\ttotal: 464ms\tremaining: 81.3ms\n",
      "851:\tlearn: 0.0085485\ttotal: 465ms\tremaining: 80.8ms\n",
      "852:\tlearn: 0.0085165\ttotal: 465ms\tremaining: 80.2ms\n",
      "853:\tlearn: 0.0084817\ttotal: 466ms\tremaining: 79.6ms\n",
      "854:\tlearn: 0.0084600\ttotal: 466ms\tremaining: 79.1ms\n",
      "855:\tlearn: 0.0084260\ttotal: 467ms\tremaining: 78.5ms\n",
      "856:\tlearn: 0.0084048\ttotal: 467ms\tremaining: 77.9ms\n",
      "857:\tlearn: 0.0083929\ttotal: 467ms\tremaining: 77.4ms\n",
      "858:\tlearn: 0.0083597\ttotal: 468ms\tremaining: 76.8ms\n",
      "859:\tlearn: 0.0083322\ttotal: 468ms\tremaining: 76.2ms\n",
      "860:\tlearn: 0.0083015\ttotal: 469ms\tremaining: 75.7ms\n",
      "861:\tlearn: 0.0082780\ttotal: 469ms\tremaining: 75.1ms\n",
      "862:\tlearn: 0.0082662\ttotal: 470ms\tremaining: 74.5ms\n",
      "863:\tlearn: 0.0082461\ttotal: 470ms\tremaining: 74ms\n",
      "864:\tlearn: 0.0082172\ttotal: 471ms\tremaining: 73.4ms\n",
      "865:\tlearn: 0.0081909\ttotal: 471ms\tremaining: 72.9ms\n",
      "866:\tlearn: 0.0081613\ttotal: 471ms\tremaining: 72.3ms\n",
      "867:\tlearn: 0.0081323\ttotal: 472ms\tremaining: 71.7ms\n",
      "868:\tlearn: 0.0081068\ttotal: 472ms\tremaining: 71.2ms\n",
      "869:\tlearn: 0.0080838\ttotal: 473ms\tremaining: 70.6ms\n",
      "870:\tlearn: 0.0080550\ttotal: 473ms\tremaining: 70.1ms\n",
      "871:\tlearn: 0.0080274\ttotal: 473ms\tremaining: 69.5ms\n",
      "872:\tlearn: 0.0080028\ttotal: 474ms\tremaining: 68.9ms\n",
      "873:\tlearn: 0.0079750\ttotal: 474ms\tremaining: 68.4ms\n",
      "874:\tlearn: 0.0079511\ttotal: 475ms\tremaining: 67.9ms\n",
      "875:\tlearn: 0.0079290\ttotal: 475ms\tremaining: 67.3ms\n",
      "876:\tlearn: 0.0079020\ttotal: 476ms\tremaining: 66.8ms\n",
      "877:\tlearn: 0.0078736\ttotal: 476ms\tremaining: 66.2ms\n",
      "878:\tlearn: 0.0078505\ttotal: 477ms\tremaining: 65.7ms\n",
      "879:\tlearn: 0.0078230\ttotal: 478ms\tremaining: 65.1ms\n",
      "880:\tlearn: 0.0078005\ttotal: 478ms\tremaining: 64.6ms\n",
      "881:\tlearn: 0.0077744\ttotal: 479ms\tremaining: 64ms\n",
      "882:\tlearn: 0.0077489\ttotal: 479ms\tremaining: 63.5ms\n",
      "883:\tlearn: 0.0077278\ttotal: 480ms\tremaining: 62.9ms\n",
      "884:\tlearn: 0.0077002\ttotal: 480ms\tremaining: 62.4ms\n",
      "885:\tlearn: 0.0076778\ttotal: 481ms\tremaining: 61.8ms\n",
      "886:\tlearn: 0.0076540\ttotal: 481ms\tremaining: 61.3ms\n",
      "887:\tlearn: 0.0076321\ttotal: 481ms\tremaining: 60.7ms\n",
      "888:\tlearn: 0.0076120\ttotal: 482ms\tremaining: 60.1ms\n",
      "889:\tlearn: 0.0075917\ttotal: 482ms\tremaining: 59.6ms\n",
      "890:\tlearn: 0.0075665\ttotal: 483ms\tremaining: 59ms\n",
      "891:\tlearn: 0.0075422\ttotal: 483ms\tremaining: 58.5ms\n",
      "892:\tlearn: 0.0075210\ttotal: 483ms\tremaining: 57.9ms\n",
      "893:\tlearn: 0.0075020\ttotal: 484ms\tremaining: 57.4ms\n",
      "894:\tlearn: 0.0074773\ttotal: 484ms\tremaining: 56.8ms\n",
      "895:\tlearn: 0.0074570\ttotal: 485ms\tremaining: 56.3ms\n",
      "896:\tlearn: 0.0074310\ttotal: 485ms\tremaining: 55.7ms\n",
      "897:\tlearn: 0.0074160\ttotal: 486ms\tremaining: 55.2ms\n",
      "898:\tlearn: 0.0073969\ttotal: 486ms\tremaining: 54.6ms\n",
      "899:\tlearn: 0.0073744\ttotal: 487ms\tremaining: 54.1ms\n",
      "900:\tlearn: 0.0073580\ttotal: 487ms\tremaining: 53.5ms\n",
      "901:\tlearn: 0.0073342\ttotal: 487ms\tremaining: 53ms\n",
      "902:\tlearn: 0.0072944\ttotal: 488ms\tremaining: 52.4ms\n",
      "903:\tlearn: 0.0072781\ttotal: 489ms\tremaining: 51.9ms\n",
      "904:\tlearn: 0.0072591\ttotal: 489ms\tremaining: 51.3ms\n",
      "905:\tlearn: 0.0072430\ttotal: 490ms\tremaining: 50.8ms\n",
      "906:\tlearn: 0.0072216\ttotal: 490ms\tremaining: 50.3ms\n",
      "907:\tlearn: 0.0072020\ttotal: 491ms\tremaining: 49.7ms\n",
      "908:\tlearn: 0.0071774\ttotal: 491ms\tremaining: 49.2ms\n",
      "909:\tlearn: 0.0071537\ttotal: 492ms\tremaining: 48.6ms\n",
      "910:\tlearn: 0.0071154\ttotal: 492ms\tremaining: 48.1ms\n",
      "911:\tlearn: 0.0070949\ttotal: 493ms\tremaining: 47.5ms\n",
      "912:\tlearn: 0.0070792\ttotal: 493ms\tremaining: 47ms\n",
      "913:\tlearn: 0.0070419\ttotal: 494ms\tremaining: 46.5ms\n",
      "914:\tlearn: 0.0070264\ttotal: 494ms\tremaining: 45.9ms\n",
      "915:\tlearn: 0.0070035\ttotal: 495ms\tremaining: 45.4ms\n",
      "916:\tlearn: 0.0069744\ttotal: 495ms\tremaining: 44.8ms\n",
      "917:\tlearn: 0.0069410\ttotal: 496ms\tremaining: 44.3ms\n",
      "918:\tlearn: 0.0069149\ttotal: 496ms\tremaining: 43.7ms\n",
      "919:\tlearn: 0.0068983\ttotal: 497ms\tremaining: 43.2ms\n",
      "920:\tlearn: 0.0068728\ttotal: 497ms\tremaining: 42.6ms\n",
      "921:\tlearn: 0.0068497\ttotal: 498ms\tremaining: 42.1ms\n",
      "922:\tlearn: 0.0068335\ttotal: 498ms\tremaining: 41.5ms\n",
      "923:\tlearn: 0.0068086\ttotal: 498ms\tremaining: 41ms\n",
      "924:\tlearn: 0.0067813\ttotal: 499ms\tremaining: 40.5ms\n",
      "925:\tlearn: 0.0067546\ttotal: 499ms\tremaining: 39.9ms\n",
      "926:\tlearn: 0.0067195\ttotal: 500ms\tremaining: 39.4ms\n",
      "927:\tlearn: 0.0066958\ttotal: 500ms\tremaining: 38.8ms\n",
      "928:\tlearn: 0.0066761\ttotal: 501ms\tremaining: 38.3ms\n",
      "929:\tlearn: 0.0066534\ttotal: 501ms\tremaining: 37.7ms\n",
      "930:\tlearn: 0.0066311\ttotal: 502ms\tremaining: 37.2ms\n",
      "931:\tlearn: 0.0066164\ttotal: 502ms\tremaining: 36.7ms\n",
      "932:\tlearn: 0.0065827\ttotal: 503ms\tremaining: 36.1ms\n",
      "933:\tlearn: 0.0065660\ttotal: 504ms\tremaining: 35.6ms\n",
      "934:\tlearn: 0.0065514\ttotal: 505ms\tremaining: 35.1ms\n",
      "935:\tlearn: 0.0065326\ttotal: 506ms\tremaining: 34.6ms\n",
      "936:\tlearn: 0.0065102\ttotal: 506ms\tremaining: 34ms\n",
      "937:\tlearn: 0.0064958\ttotal: 507ms\tremaining: 33.5ms\n",
      "938:\tlearn: 0.0064817\ttotal: 507ms\tremaining: 32.9ms\n",
      "939:\tlearn: 0.0064632\ttotal: 508ms\tremaining: 32.4ms\n",
      "940:\tlearn: 0.0064422\ttotal: 508ms\tremaining: 31.9ms\n",
      "941:\tlearn: 0.0064208\ttotal: 509ms\tremaining: 31.3ms\n",
      "942:\tlearn: 0.0064069\ttotal: 509ms\tremaining: 30.8ms\n",
      "943:\tlearn: 0.0063828\ttotal: 510ms\tremaining: 30.2ms\n",
      "944:\tlearn: 0.0063624\ttotal: 510ms\tremaining: 29.7ms\n",
      "945:\tlearn: 0.0063415\ttotal: 510ms\tremaining: 29.1ms\n",
      "946:\tlearn: 0.0063237\ttotal: 511ms\tremaining: 28.6ms\n",
      "947:\tlearn: 0.0063038\ttotal: 511ms\tremaining: 28.1ms\n",
      "948:\tlearn: 0.0062900\ttotal: 512ms\tremaining: 27.5ms\n",
      "949:\tlearn: 0.0062696\ttotal: 512ms\tremaining: 27ms\n",
      "950:\tlearn: 0.0062496\ttotal: 513ms\tremaining: 26.4ms\n",
      "951:\tlearn: 0.0062302\ttotal: 513ms\tremaining: 25.9ms\n",
      "952:\tlearn: 0.0062166\ttotal: 514ms\tremaining: 25.3ms\n",
      "953:\tlearn: 0.0061965\ttotal: 514ms\tremaining: 24.8ms\n",
      "954:\tlearn: 0.0061801\ttotal: 515ms\tremaining: 24.2ms\n",
      "955:\tlearn: 0.0061612\ttotal: 515ms\tremaining: 23.7ms\n",
      "956:\tlearn: 0.0061415\ttotal: 515ms\tremaining: 23.2ms\n",
      "957:\tlearn: 0.0061265\ttotal: 516ms\tremaining: 22.6ms\n",
      "958:\tlearn: 0.0061038\ttotal: 516ms\tremaining: 22.1ms\n",
      "959:\tlearn: 0.0060764\ttotal: 517ms\tremaining: 21.5ms\n",
      "960:\tlearn: 0.0060611\ttotal: 517ms\tremaining: 21ms\n",
      "961:\tlearn: 0.0060451\ttotal: 518ms\tremaining: 20.4ms\n",
      "962:\tlearn: 0.0060261\ttotal: 518ms\tremaining: 19.9ms\n",
      "963:\tlearn: 0.0060078\ttotal: 519ms\tremaining: 19.4ms\n",
      "964:\tlearn: 0.0059930\ttotal: 519ms\tremaining: 18.8ms\n",
      "965:\tlearn: 0.0059773\ttotal: 520ms\tremaining: 18.3ms\n",
      "966:\tlearn: 0.0059587\ttotal: 520ms\tremaining: 17.8ms\n",
      "967:\tlearn: 0.0059385\ttotal: 521ms\tremaining: 17.2ms\n",
      "968:\tlearn: 0.0059197\ttotal: 521ms\tremaining: 16.7ms\n",
      "969:\tlearn: 0.0059021\ttotal: 522ms\tremaining: 16.1ms\n",
      "970:\tlearn: 0.0058836\ttotal: 522ms\tremaining: 15.6ms\n",
      "971:\tlearn: 0.0058636\ttotal: 523ms\tremaining: 15.1ms\n",
      "972:\tlearn: 0.0058457\ttotal: 523ms\tremaining: 14.5ms\n",
      "973:\tlearn: 0.0058282\ttotal: 524ms\tremaining: 14ms\n",
      "974:\tlearn: 0.0057924\ttotal: 524ms\tremaining: 13.4ms\n",
      "975:\tlearn: 0.0057775\ttotal: 525ms\tremaining: 12.9ms\n",
      "976:\tlearn: 0.0057663\ttotal: 525ms\tremaining: 12.4ms\n",
      "977:\tlearn: 0.0057316\ttotal: 526ms\tremaining: 11.8ms\n",
      "978:\tlearn: 0.0057183\ttotal: 526ms\tremaining: 11.3ms\n",
      "979:\tlearn: 0.0056874\ttotal: 527ms\tremaining: 10.8ms\n",
      "980:\tlearn: 0.0056765\ttotal: 527ms\tremaining: 10.2ms\n",
      "981:\tlearn: 0.0056600\ttotal: 528ms\tremaining: 9.67ms\n",
      "982:\tlearn: 0.0056492\ttotal: 528ms\tremaining: 9.13ms\n",
      "983:\tlearn: 0.0056386\ttotal: 529ms\tremaining: 8.59ms\n",
      "984:\tlearn: 0.0056207\ttotal: 529ms\tremaining: 8.06ms\n",
      "985:\tlearn: 0.0055909\ttotal: 530ms\tremaining: 7.52ms\n",
      "986:\tlearn: 0.0055618\ttotal: 530ms\tremaining: 6.98ms\n",
      "987:\tlearn: 0.0055529\ttotal: 530ms\tremaining: 6.44ms\n",
      "988:\tlearn: 0.0055255\ttotal: 531ms\tremaining: 5.91ms\n"
     ]
    },
    {
     "name": "stdout",
     "output_type": "stream",
     "text": [
      "989:\tlearn: 0.0054946\ttotal: 532ms\tremaining: 5.37ms\n",
      "990:\tlearn: 0.0054859\ttotal: 532ms\tremaining: 4.83ms\n",
      "991:\tlearn: 0.0054558\ttotal: 533ms\tremaining: 4.3ms\n",
      "992:\tlearn: 0.0054315\ttotal: 534ms\tremaining: 3.76ms\n",
      "993:\tlearn: 0.0054107\ttotal: 534ms\tremaining: 3.22ms\n",
      "994:\tlearn: 0.0053870\ttotal: 535ms\tremaining: 2.69ms\n",
      "995:\tlearn: 0.0053581\ttotal: 535ms\tremaining: 2.15ms\n",
      "996:\tlearn: 0.0053316\ttotal: 536ms\tremaining: 1.61ms\n",
      "997:\tlearn: 0.0053086\ttotal: 536ms\tremaining: 1.07ms\n",
      "998:\tlearn: 0.0052827\ttotal: 537ms\tremaining: 537us\n",
      "999:\tlearn: 0.0052603\ttotal: 537ms\tremaining: 0us\n"
     ]
    },
    {
     "data": {
      "text/plain": [
       "<catboost.core.CatBoostRegressor at 0x7f970081d310>"
      ]
     },
     "execution_count": 9,
     "metadata": {},
     "output_type": "execute_result"
    }
   ],
   "source": [
    "#Train the Model \n",
    "prior_model = ctb.CatBoostRegressor()\n",
    "prior_model.fit(X_train,Y_train)"
   ]
  },
  {
   "cell_type": "code",
   "execution_count": 10,
   "id": "af65dcda",
   "metadata": {
    "execution": {
     "iopub.execute_input": "2022-03-16T13:29:51.782943Z",
     "iopub.status.busy": "2022-03-16T13:29:51.782422Z",
     "iopub.status.idle": "2022-03-16T13:29:51.792578Z",
     "shell.execute_reply": "2022-03-16T13:29:51.792909Z"
    },
    "id": "af65dcda",
    "papermill": {
     "duration": 0.028647,
     "end_time": "2022-03-16T13:29:51.793055",
     "exception": false,
     "start_time": "2022-03-16T13:29:51.764408",
     "status": "completed"
    },
    "tags": []
   },
   "outputs": [
    {
     "data": {
      "application/scrapbook.scrap.json+json": {
       "data": 0.049753800865074874,
       "encoder": "json",
       "name": "Prior Model MSE",
       "version": 1
      }
     },
     "metadata": {
      "scrapbook": {
       "data": true,
       "display": false,
       "name": "Prior Model MSE"
      }
     },
     "output_type": "display_data"
    },
    {
     "data": {
      "application/scrapbook.scrap.json+json": {
       "data": 0.0624260011975587,
       "encoder": "json",
       "name": "ABC Pre-generator MSE",
       "version": 1
      }
     },
     "metadata": {
      "scrapbook": {
       "data": true,
       "display": false,
       "name": "ABC Pre-generator MSE"
      }
     },
     "output_type": "display_data"
    },
    {
     "data": {
      "application/scrapbook.scrap.json+json": {
       "data": 0.16224039306852736,
       "encoder": "json",
       "name": "Prior Model MSE",
       "version": 1
      }
     },
     "metadata": {
      "scrapbook": {
       "data": true,
       "display": false,
       "name": "Prior Model MSE"
      }
     },
     "output_type": "display_data"
    },
    {
     "data": {
      "application/scrapbook.scrap.json+json": {
       "data": 0.181133033327403,
       "encoder": "json",
       "name": "ABC Pre-generator MSE",
       "version": 1
      }
     },
     "metadata": {
      "scrapbook": {
       "data": true,
       "display": false,
       "name": "ABC Pre-generator MSE"
      }
     },
     "output_type": "display_data"
    }
   ],
   "source": [
    "y_pred = prior_model.predict(X_test)\n",
    "y_abc = y_pred + np.random.normal(0,variance, y_pred.shape) + bias \n",
    "mse = mean_squared_error(y_pred,Y_test)\n",
    "sb.glue(\"Prior Model MSE\",mse)\n",
    "mse = mean_squared_error(y_abc,Y_test)\n",
    "sb.glue(\"ABC Pre-generator MSE\",mse)\n",
    "mae = mean_absolute_error(y_pred,Y_test)\n",
    "sb.glue(\"Prior Model MSE\",mae)\n",
    "mae = mean_absolute_error(y_abc,Y_test)\n",
    "sb.glue(\"ABC Pre-generator MSE\",mae)"
   ]
  },
  {
   "cell_type": "markdown",
   "id": "25609da2",
   "metadata": {
    "papermill": {
     "duration": 0.013801,
     "end_time": "2022-03-16T13:29:51.820995",
     "exception": false,
     "start_time": "2022-03-16T13:29:51.807194",
     "status": "completed"
    },
    "tags": []
   },
   "source": [
    "# ABC GAN Model"
   ]
  },
  {
   "cell_type": "code",
   "execution_count": 11,
   "id": "dfc3464d",
   "metadata": {
    "execution": {
     "iopub.execute_input": "2022-03-16T13:29:51.850384Z",
     "iopub.status.busy": "2022-03-16T13:29:51.849931Z",
     "iopub.status.idle": "2022-03-16T13:29:51.852878Z",
     "shell.execute_reply": "2022-03-16T13:29:51.853195Z"
    },
    "papermill": {
     "duration": 0.019583,
     "end_time": "2022-03-16T13:29:51.853329",
     "exception": false,
     "start_time": "2022-03-16T13:29:51.833746",
     "status": "completed"
    },
    "tags": []
   },
   "outputs": [],
   "source": [
    "gen = network.Generator(n_features+1).to(device)\n",
    "disc = network.Discriminator(n_features+1).to(device)\n",
    "\n",
    "criterion = torch.nn.BCELoss()\n",
    "gen_opt = torch.optim.Adam(gen.parameters(), lr=0.001, betas=(0.5, 0.999))\n",
    "disc_opt = torch.optim.Adam(disc.parameters(), lr=0.001, betas=(0.5, 0.999))"
   ]
  },
  {
   "cell_type": "code",
   "execution_count": 12,
   "id": "b75fdd85",
   "metadata": {
    "execution": {
     "iopub.execute_input": "2022-03-16T13:29:51.882702Z",
     "iopub.status.busy": "2022-03-16T13:29:51.882244Z",
     "iopub.status.idle": "2022-03-16T13:30:07.011112Z",
     "shell.execute_reply": "2022-03-16T13:30:07.011428Z"
    },
    "papermill": {
     "duration": 15.145036,
     "end_time": "2022-03-16T13:30:07.011569",
     "exception": false,
     "start_time": "2022-03-16T13:29:51.866533",
     "status": "completed"
    },
    "tags": []
   },
   "outputs": [
    {
     "data": {
      "image/png": "[encoded data removed]",
      "text/plain": [
       "<Figure size 432x288 with 1 Axes>"
      ]
     },
     "metadata": {
      "needs_background": "light"
     },
     "output_type": "display_data"
    },
    {
     "data": {
      "image/png": "[encoded data removed]",
      "text/plain": [
       "<Figure size 432x288 with 1 Axes>"
      ]
     },
     "metadata": {
      "needs_background": "light"
     },
     "output_type": "display_data"
    }
   ],
   "source": [
    "#Training the ABC_GAN \n",
    "ABC_train_test2.training_GAN(disc,gen,disc_opt,gen_opt,train_data,batch_size,n_epochs,criterion,prior_model,variance,bias,device)"
   ]
  },
  {
   "cell_type": "code",
   "execution_count": 13,
   "id": "1fa7c368",
   "metadata": {
    "execution": {
     "iopub.execute_input": "2022-03-16T13:30:07.036273Z",
     "iopub.status.busy": "2022-03-16T13:30:07.035860Z",
     "iopub.status.idle": "2022-03-16T13:30:07.221486Z",
     "shell.execute_reply": "2022-03-16T13:30:07.221734Z"
    },
    "papermill": {
     "duration": 0.198747,
     "end_time": "2022-03-16T13:30:07.221856",
     "exception": false,
     "start_time": "2022-03-16T13:30:07.023109",
     "status": "completed"
    },
    "tags": []
   },
   "outputs": [
    {
     "data": {
      "application/scrapbook.scrap.json+json": {
       "data": 0.006156416362150089,
       "encoder": "json",
       "name": "ABC-GAN Model 1 MSE",
       "version": 1
      }
     },
     "metadata": {
      "scrapbook": {
       "data": true,
       "display": false,
       "name": "ABC-GAN Model 1 MSE"
      }
     },
     "output_type": "display_data"
    },
    {
     "data": {
      "application/scrapbook.scrap.json+json": {
       "data": 0.05403565941751003,
       "encoder": "json",
       "name": "ABC-GAN Model 1 MAE",
       "version": 1
      }
     },
     "metadata": {
      "scrapbook": {
       "data": true,
       "display": false,
       "name": "ABC-GAN Model 1 MAE"
      }
     },
     "output_type": "display_data"
    },
    {
     "data": {
      "application/scrapbook.scrap.json+json": {
       "data": 1.0807131883502006,
       "encoder": "json",
       "name": "ABC-GAN Model 1 Manhattan Distance",
       "version": 1
      }
     },
     "metadata": {
      "scrapbook": {
       "data": true,
       "display": false,
       "name": "ABC-GAN Model 1 Manhattan Distance"
      }
     },
     "output_type": "display_data"
    },
    {
     "data": {
      "application/scrapbook.scrap.json+json": {
       "data": 0.35074473243112786,
       "encoder": "json",
       "name": "ABC-GAN Model 1 Euclidean distance",
       "version": 1
      }
     },
     "metadata": {
      "scrapbook": {
       "data": true,
       "display": false,
       "name": "ABC-GAN Model 1 Euclidean distance"
      }
     },
     "output_type": "display_data"
    },
    {
     "data": {
      "application/scrapbook.scrap.json+json": {
       "data": [
        [
         0.005781076972576793,
         0.006066540534771558,
         0.006835743008382122,
         0.005917322799252523,
         0.005831965422254504,
         0.006159488337509744,
         0.005758855299053867,
         0.00681847091238974,
         0.005918839380695351,
         0.006075455321336154,
         0.006222390884890894,
         0.005635528865882433,
         0.006105027441684374,
         0.006772514679945063,
         0.0057592733420455565,
         0.005872119080873128,
         0.006089209569147958,
         0.005825201476222075,
         0.0060378717213086745,
         0.005621518894310151,
         0.006164375664973276,
         0.005654218952852874,
         0.005933429781249044,
         0.0063161870727670875,
         0.006746344867960064,
         0.00597260969037774,
         0.006261177225668169,
         0.006313181950124624,
         0.0057962671493233305,
         0.0057547226276115195,
         0.005805872626823305,
         0.006098351493810749,
         0.005872921081492866,
         0.006744447591393721,
         0.005754662357079221,
         0.006065098689538306,
         0.00628269537740489,
         0.005800934753224407,
         0.006201125123619899,
         0.0062894059587093485,
         0.006157582129013095,
         0.0060241334789780335,
         0.007389657703857156,
         0.00574167341645544,
         0.006014121500287617,
         0.005888990448633313,
         0.005404956013598694,
         0.006005540617291328,
         0.0056783695988568365,
         0.00674071234708209,
         0.006892415761895787,
         0.005928665785675547,
         0.00619051889204032,
         0.006717961146550655,
         0.006340505100603933,
         0.0061773234866906,
         0.006258918829705751,
         0.005927083027614755,
         0.005928315545726814,
         0.006045210062957329,
         0.006567584538261517,
         0.007034898003470591,
         0.006114039455993092,
         0.006381746704829094,
         0.006220098741327762,
         0.0066694550573051185,
         0.0058740202763339685,
         0.006595472193951979,
         0.006504473404474975,
         0.005941445610427554,
         0.006242504406019922,
         0.006117098272241472,
         0.006166922226908645,
         0.006000975300516087,
         0.006077768710126596,
         0.005526646049677231,
         0.005910697332785419,
         0.006218608490041166,
         0.005915834577781265,
         0.005919945219702516,
         0.006443862877045614,
         0.0062419545369928105,
         0.006398995874311142,
         0.006521900676825565,
         0.006135283647464096,
         0.006323279754575184,
         0.006248093154843826,
         0.005865282681946793,
         0.0057700639460906535,
         0.006051950779405235,
         0.0062421063033878624,
         0.006879140546270479,
         0.006777195389793489,
         0.0058348320485555934,
         0.006392026611651813,
         0.006460029490008878,
         0.006526339094855294,
         0.006569726819531585,
         0.005913493797500146,
         0.0056607447377246874
        ],
        [
         0.052928556501865384,
         0.05522050261497498,
         0.06183900088071823,
         0.053809230029582975,
         0.05090069621801376,
         0.054999266564846036,
         0.05070653557777405,
         0.057797519862651824,
         0.05223617404699325,
         0.054299157857894895,
         0.05289551764726639,
         0.049374090135097505,
         0.053762638568878175,
         0.05725930780172348,
         0.05041581392288208,
         0.05240875631570816,
         0.053571921586990354,
         0.051146064698696134,
         0.05371861904859543,
         0.04921910911798477,
         0.05466044694185257,
         0.05069199055433273,
         0.05171017497777939,
         0.056416894495487216,
         0.057081691920757294,
         0.05208029001951218,
         0.05560634583234787,
         0.05572531372308731,
         0.051801884174346925,
         0.04937717169523239,
         0.05027720034122467,
         0.05330392122268677,
         0.05047641098499298,
         0.05607316941022873,
         0.0516608253121376,
         0.05335242748260498,
         0.054591025412082675,
         0.05282073318958282,
         0.05527714490890503,
         0.053579413890838624,
         0.05501190274953842,
         0.05333369374275208,
         0.060857121646404264,
         0.0504398450255394,
         0.05266781896352768,
         0.05261219590902329,
         0.047547276318073275,
         0.051931333541870114,
         0.04977216720581055,
         0.060320259630680086,
         0.058082392811775206,
         0.052201734483242036,
         0.05595269799232483,
         0.05795006006956101,
         0.05236553996801376,
         0.05501319169998169,
         0.05461906045675278,
         0.05298251658678055,
         0.05256437659263611,
         0.0539140060544014,
         0.055957019329071045,
         0.061691191792488095,
         0.054376091063022616,
         0.05880926549434662,
         0.056439314782619474,
         0.058698737621307374,
         0.05280605554580688,
         0.05842315703630448,
         0.05708491504192352,
         0.05111390948295593,
         0.05542076826095581,
         0.0550502672791481,
         0.05448027104139328,
         0.053969599306583405,
         0.04947893768548965,
         0.04777833968400955,
         0.0533343181014061,
         0.052120101451873777,
         0.05011692047119141,
         0.05414600372314453,
         0.05818580090999603,
         0.054060980677604675,
         0.05627534836530686,
         0.05583724826574325,
         0.05601670742034912,
         0.057483254373073576,
         0.05640096664428711,
         0.049221815168857576,
         0.050158034265041354,
         0.05442078411579132,
         0.05417116731405258,
         0.05621225088834762,
         0.05879373699426651,
         0.05234567523002624,
         0.0551225557923317,
         0.05625585913658142,
         0.0579088494181633,
         0.057381466031074524,
         0.051859594881534576,
         0.04894651472568512
        ],
        [
         1.0585711300373077,
         1.1044100522994995,
         1.2367800176143646,
         1.0761846005916595,
         1.0180139243602753,
         1.0999853312969208,
         1.014130711555481,
         1.1559503972530365,
         1.0447234809398651,
         1.085983157157898,
         1.0579103529453278,
         0.9874818027019501,
         1.0752527713775635,
         1.1451861560344696,
         1.0083162784576416,
         1.0481751263141632,
         1.0714384317398071,
         1.0229212939739227,
         1.0743723809719086,
         0.9843821823596954,
         1.0932089388370514,
         1.0138398110866547,
         1.0342034995555878,
         1.1283378899097443,
         1.1416338384151459,
         1.0416058003902435,
         1.1121269166469574,
         1.1145062744617462,
         1.0360376834869385,
         0.9875434339046478,
         1.0055440068244934,
         1.0660784244537354,
         1.0095282196998596,
         1.1214633882045746,
         1.033216506242752,
         1.0670485496520996,
         1.0918205082416534,
         1.0564146637916565,
         1.1055428981781006,
         1.0715882778167725,
         1.1002380549907684,
         1.0666738748550415,
         1.2171424329280853,
         1.008796900510788,
         1.0533563792705536,
         1.0522439181804657,
         0.9509455263614655,
         1.0386266708374023,
         0.9954433441162109,
         1.2064051926136017,
         1.1616478562355042,
         1.0440346896648407,
         1.1190539598464966,
         1.15900120139122,
         1.0473107993602753,
         1.1002638339996338,
         1.0923812091350555,
         1.059650331735611,
         1.0512875318527222,
         1.078280121088028,
         1.119140386581421,
         1.233823835849762,
         1.0875218212604523,
         1.1761853098869324,
         1.1287862956523895,
         1.1739747524261475,
         1.0561211109161377,
         1.1684631407260895,
         1.1416983008384705,
         1.0222781896591187,
         1.1084153652191162,
         1.101005345582962,
         1.0896054208278656,
         1.079391986131668,
         0.9895787537097931,
         0.955566793680191,
         1.066686362028122,
         1.0424020290374756,
         1.0023384094238281,
         1.0829200744628906,
         1.1637160181999207,
         1.0812196135520935,
         1.125506967306137,
         1.1167449653148651,
         1.1203341484069824,
         1.1496650874614716,
         1.1280193328857422,
         0.9844363033771515,
         1.003160685300827,
         1.0884156823158264,
         1.0834233462810516,
         1.1242450177669525,
         1.1758747398853302,
         1.046913504600525,
         1.102451115846634,
         1.1251171827316284,
         1.158176988363266,
         1.1476293206214905,
         1.0371918976306915,
         0.9789302945137024
        ],
        [
         0.34003167418864944,
         0.34832572499807013,
         0.3697497263929244,
         0.3440151973169942,
         0.3415249748482387,
         0.35098399785488066,
         0.33937752721869685,
         0.36928230156317376,
         0.34405927921494434,
         0.34858156352096864,
         0.3527716225801303,
         0.3357239599993552,
         0.34942888952358747,
         0.3680357232646055,
         0.33938984492897123,
         0.34269867466545967,
         0.34897591805590134,
         0.3413268661040931,
         0.3475017042061427,
         0.3353063940431244,
         0.35112321669104357,
         0.3362802091367517,
         0.3444830846717744,
         0.3554205135544961,
         0.367323967852904,
         0.34561856693116877,
         0.3538693890595277,
         0.3553359523078019,
         0.34047810940861767,
         0.339255733263611,
         0.34076010995488615,
         0.34923778414744155,
         0.3427220763678017,
         0.367272312906751,
         0.3392539567073381,
         0.3482843289480107,
         0.35447694924789935,
         0.3406151715124976,
         0.35216828714749143,
         0.35466620810867644,
         0.3509296832419023,
         0.3471061359001893,
         0.38443875204919586,
         0.33887087264784027,
         0.34681757453415235,
         0.3431906306597927,
         0.3287843066084114,
         0.346570068450561,
         0.33699761420095653,
         0.3671705965101805,
         0.37127929546086424,
         0.3443447628663908,
         0.3518669888477838,
         0.36655043709019514,
         0.35610406065092637,
         0.3514917776190675,
         0.35380556326054996,
         0.34429879545577136,
         0.3443345915160664,
         0.34771281434417484,
         0.3624247380701686,
         0.37509726747793276,
         0.3496867013769066,
         0.3572603169911009,
         0.35270664131336577,
         0.36522472690947744,
         0.34275414735153736,
         0.363193397350557,
         0.3606791761240168,
         0.34471569765322707,
         0.3533413195769757,
         0.3497741634895714,
         0.35119573536444443,
         0.34643831487051446,
         0.3486479229861149,
         0.33246491693642594,
         0.34382255111570037,
         0.3526643869188145,
         0.3439719342557257,
         0.3440914186579641,
         0.35899478762359804,
         0.3533257572550524,
         0.3577428091327942,
         0.36116203224662374,
         0.3502936952748107,
         0.35562001503220214,
         0.3534994527532914,
         0.3424991293987999,
         0.3397076374204929,
         0.3479066190633698,
         0.3533300525963752,
         0.37092156977642804,
         0.3681628821539045,
         0.3416089006028852,
         0.35754794396421336,
         0.35944483554528583,
         0.36128490405372027,
         0.36248384293735314,
         0.34390387603224676,
         0.3364742111284218
        ]
       ],
       "encoder": "json",
       "name": "ABC_GAN_1 Metrics",
       "version": 1
      }
     },
     "metadata": {
      "scrapbook": {
       "data": true,
       "display": false,
       "name": "ABC_GAN_1 Metrics"
      }
     },
     "output_type": "display_data"
    },
    {
     "name": "stdout",
     "output_type": "stream",
     "text": [
      "MSE\n",
      "0.006156416362150089\n"
     ]
    }
   ],
   "source": [
    "ABC_GAN1_metrics=ABC_train_test2.test_generator(gen,test_data,prior_model,variance,bias,\"1\",device)\n",
    "sb.glue(\"ABC_GAN_1 Metrics\",ABC_GAN1_metrics)\n",
    "\n",
    "print(\"MSE\")\n",
    "print(mean(ABC_GAN1_metrics[0]))"
   ]
  },
  {
   "cell_type": "code",
   "execution_count": 14,
   "id": "eb22ce5c",
   "metadata": {
    "execution": {
     "iopub.execute_input": "2022-03-16T13:30:07.249194Z",
     "iopub.status.busy": "2022-03-16T13:30:07.248818Z",
     "iopub.status.idle": "2022-03-16T13:30:07.551028Z",
     "shell.execute_reply": "2022-03-16T13:30:07.551359Z"
    },
    "papermill": {
     "duration": 0.31704,
     "end_time": "2022-03-16T13:30:07.551486",
     "exception": false,
     "start_time": "2022-03-16T13:30:07.234446",
     "status": "completed"
    },
    "tags": []
   },
   "outputs": [
    {
     "data": {
      "image/png": "[encoded data removed]",
      "text/plain": [
       "<Figure size 432x288 with 1 Axes>"
      ]
     },
     "metadata": {
      "needs_background": "light"
     },
     "output_type": "display_data"
    },
    {
     "data": {
      "image/png": "[encoded data removed]",
      "text/plain": [
       "<Figure size 432x288 with 1 Axes>"
      ]
     },
     "metadata": {
      "needs_background": "light"
     },
     "output_type": "display_data"
    },
    {
     "data": {
      "image/png": "[encoded data removed]",
      "text/plain": [
       "<Figure size 432x288 with 1 Axes>"
      ]
     },
     "metadata": {
      "needs_background": "light"
     },
     "output_type": "display_data"
    },
    {
     "data": {
      "image/png": "[encoded data removed]",
      "text/plain": [
       "<Figure size 432x288 with 1 Axes>"
      ]
     },
     "metadata": {
      "needs_background": "light"
     },
     "output_type": "display_data"
    }
   ],
   "source": [
    "sanityChecks.discProbVsError(train_data,disc,device)\n",
    "sanityChecks.discProbVsError(test_data,disc,device)"
   ]
  },
  {
   "cell_type": "markdown",
   "id": "130f3a4d",
   "metadata": {
    "id": "130f3a4d",
    "papermill": {
     "duration": 0.042682,
     "end_time": "2022-03-16T13:30:07.610798",
     "exception": false,
     "start_time": "2022-03-16T13:30:07.568116",
     "status": "completed"
    },
    "tags": []
   },
   "source": [
    "# ABC - GAN Model with skip connection"
   ]
  },
  {
   "cell_type": "code",
   "execution_count": 15,
   "id": "4e43dad1",
   "metadata": {
    "execution": {
     "iopub.execute_input": "2022-03-16T13:30:07.645992Z",
     "iopub.status.busy": "2022-03-16T13:30:07.645571Z",
     "iopub.status.idle": "2022-03-16T13:30:07.648145Z",
     "shell.execute_reply": "2022-03-16T13:30:07.648422Z"
    },
    "id": "4e43dad1",
    "papermill": {
     "duration": 0.022178,
     "end_time": "2022-03-16T13:30:07.648544",
     "exception": false,
     "start_time": "2022-03-16T13:30:07.626366",
     "status": "completed"
    },
    "tags": []
   },
   "outputs": [],
   "source": [
    "#Generator\n",
    "gen3 = network.GeneratorWithSkipConnection(n_features+1).to(device)\n",
    "constraints=network.weightConstraint()\n",
    "#Discriminator \n",
    "disc3 = network.Discriminator(n_features+1).to(device)\n",
    "\n",
    "criterion = torch.nn.BCELoss()\n",
    "gen_opt = torch.optim.Adam(gen3.parameters(), lr=0.001, betas=(0.5, 0.999))\n",
    "disc_opt = torch.optim.Adam(disc3.parameters(), lr=0.001, betas=(0.5, 0.999))\n"
   ]
  },
  {
   "cell_type": "code",
   "execution_count": 16,
   "id": "26acbc37",
   "metadata": {
    "execution": {
     "iopub.execute_input": "2022-03-16T13:30:07.683688Z",
     "iopub.status.busy": "2022-03-16T13:30:07.683272Z",
     "iopub.status.idle": "2022-03-16T13:30:44.528371Z",
     "shell.execute_reply": "2022-03-16T13:30:44.528674Z"
    },
    "id": "26acbc37",
    "papermill": {
     "duration": 36.86386,
     "end_time": "2022-03-16T13:30:44.528796",
     "exception": false,
     "start_time": "2022-03-16T13:30:07.664936",
     "status": "completed"
    },
    "tags": []
   },
   "outputs": [
    {
     "data": {
      "image/png": "[encoded data removed]",
      "text/plain": [
       "<Figure size 432x288 with 1 Axes>"
      ]
     },
     "metadata": {
      "needs_background": "light"
     },
     "output_type": "display_data"
    },
    {
     "data": {
      "image/png": "[encoded data removed]",
      "text/plain": [
       "<Figure size 432x288 with 1 Axes>"
      ]
     },
     "metadata": {
      "needs_background": "light"
     },
     "output_type": "display_data"
    }
   ],
   "source": [
    "ABC_train_test2.training_GAN_skip_connection(disc3,gen3,disc_opt,gen_opt,train_data,batch_size,n_epochs,criterion,prior_model,variance,bias,device)"
   ]
  },
  {
   "cell_type": "code",
   "execution_count": 17,
   "id": "c5e0717b",
   "metadata": {
    "execution": {
     "iopub.execute_input": "2022-03-16T13:30:44.563018Z",
     "iopub.status.busy": "2022-03-16T13:30:44.562372Z",
     "iopub.status.idle": "2022-03-16T13:30:44.836301Z",
     "shell.execute_reply": "2022-03-16T13:30:44.836563Z"
    },
    "id": "c5e0717b",
    "papermill": {
     "duration": 0.292249,
     "end_time": "2022-03-16T13:30:44.836687",
     "exception": false,
     "start_time": "2022-03-16T13:30:44.544438",
     "status": "completed"
    },
    "tags": []
   },
   "outputs": [
    {
     "data": {
      "application/scrapbook.scrap.json+json": {
       "data": 0.007916569686080777,
       "encoder": "json",
       "name": "ABC-GAN Model 3 MSE",
       "version": 1
      }
     },
     "metadata": {
      "scrapbook": {
       "data": true,
       "display": false,
       "name": "ABC-GAN Model 3 MSE"
      }
     },
     "output_type": "display_data"
    },
    {
     "data": {
      "application/scrapbook.scrap.json+json": {
       "data": 0.0665597458332777,
       "encoder": "json",
       "name": "ABC-GAN Model 3 MAE",
       "version": 1
      }
     },
     "metadata": {
      "scrapbook": {
       "data": true,
       "display": false,
       "name": "ABC-GAN Model 3 MAE"
      }
     },
     "output_type": "display_data"
    },
    {
     "data": {
      "application/scrapbook.scrap.json+json": {
       "data": 1.3311949166655541,
       "encoder": "json",
       "name": "ABC-GAN Model 3 Manhattan Distance",
       "version": 1
      }
     },
     "metadata": {
      "scrapbook": {
       "data": true,
       "display": false,
       "name": "ABC-GAN Model 3 Manhattan Distance"
      }
     },
     "output_type": "display_data"
    },
    {
     "data": {
      "application/scrapbook.scrap.json+json": {
       "data": 0.39622668712066134,
       "encoder": "json",
       "name": "ABC-GAN Model 3 Euclidean distance",
       "version": 1
      }
     },
     "metadata": {
      "scrapbook": {
       "data": true,
       "display": false,
       "name": "ABC-GAN Model 3 Euclidean distance"
      }
     },
     "output_type": "display_data"
    },
    {
     "data": {
      "application/scrapbook.scrap.json+json": {
       "data": [
        [
         0.009079753363516074,
         0.013848966298460086,
         0.00737626023995368,
         0.006311712921330592,
         0.008611821880637827,
         0.00811403687665364,
         0.008877419480616044,
         0.006867700082213135,
         0.011374121557723793,
         0.009262217345613166,
         0.0065731063552169735,
         0.005865851631507102,
         0.007163420711002422,
         0.008452828364418163,
         0.0077810406978703565,
         0.010382944807802908,
         0.00692852302323006,
         0.006536005241204235,
         0.007841928387658913,
         0.008142580331560723,
         0.00783322824138608,
         0.007408420735458998,
         0.010352547134082356,
         0.005727601453998377,
         0.008122711210539268,
         0.007153449841749282,
         0.007182211917078174,
         0.008878262176493212,
         0.007886702427108983,
         0.008596202945013509,
         0.011664132517955884,
         0.006174376987171914,
         0.007324198498606105,
         0.006558815891454328,
         0.0070905621066243985,
         0.007177345885347597,
         0.007156995899967766,
         0.0062598997898132055,
         0.006738634030792445,
         0.012062818062201285,
         0.0070495339088098245,
         0.007138629177093803,
         0.00915365351347055,
         0.01157160736539451,
         0.007262837692205704,
         0.0075670672700911545,
         0.007595035621937774,
         0.008793214822619522,
         0.011542692933766707,
         0.0076126913205811775,
         0.008500998981208596,
         0.007446857835656973,
         0.010232476908868327,
         0.005514201456838697,
         0.007606407730755072,
         0.008177102686941096,
         0.00748602485351042,
         0.007752142944901364,
         0.007318199524508584,
         0.00769843393648908,
         0.011473608308849626,
         0.007952383259048146,
         0.01147624865371255,
         0.005997899411473595,
         0.007042923638137033,
         0.0072930891989911205,
         0.0070763226137273705,
         0.008425093647049575,
         0.006609492392073424,
         0.00939631067360125,
         0.006296076464942235,
         0.008358515497714825,
         0.00713564039476342,
         0.0069671234866500505,
         0.0070662105578837234,
         0.0071012332452990105,
         0.007541069021199354,
         0.007594724602804126,
         0.006783679979478929,
         0.008209894576908594,
         0.006870669978715016,
         0.009610712209747829,
         0.006930532703205428,
         0.006769382071394903,
         0.007296061728695147,
         0.006759535100104896,
         0.007034844311743083,
         0.006742182004215014,
         0.007096089672859263,
         0.006347091896375634,
         0.0067924957034204425,
         0.008504552726601045,
         0.008661060219885908,
         0.007112501888754741,
         0.00826975877903675,
         0.00812848786577649,
         0.006758156321955466,
         0.009223428384907795,
         0.006687650106458642,
         0.008503067473234215
        ],
        [
         0.06657977849245071,
         0.08588172942399978,
         0.06045876741409302,
         0.0579477459192276,
         0.0701923817396164,
         0.07036828845739365,
         0.07018075585365295,
         0.06385572999715805,
         0.07365700900554657,
         0.06620641946792602,
         0.0638107106089592,
         0.05719398558139801,
         0.0678982600569725,
         0.07095204889774323,
         0.06678126156330108,
         0.07166614532470703,
         0.06179450154304504,
         0.06312005370855331,
         0.06874164938926697,
         0.07007514238357544,
         0.06868888139724731,
         0.06449727267026902,
         0.0744698852300644,
         0.059114445745944974,
         0.07171886265277863,
         0.06588343977928161,
         0.06290141344070435,
         0.07487480640411377,
         0.0667246401309967,
         0.06473432779312134,
         0.07430454939603806,
         0.054971566796302794,
         0.061296316981315616,
         0.06448917239904403,
         0.06265619844198227,
         0.0621643528342247,
         0.06511384397745132,
         0.05878154784440994,
         0.06545923501253129,
         0.07568962126970291,
         0.06388391256332397,
         0.06188480406999588,
         0.07337142080068589,
         0.07694224119186402,
         0.0641820877790451,
         0.06542306244373322,
         0.06858548074960709,
         0.0707981675863266,
         0.07455068081617355,
         0.06960731148719787,
         0.0717469722032547,
         0.06625553816556931,
         0.07714391499757767,
         0.05592155009508133,
         0.06191567033529281,
         0.07040571719408036,
         0.06914874166250229,
         0.0653778776526451,
         0.07016976326704025,
         0.06545210033655166,
         0.0726261779665947,
         0.06569232195615768,
         0.07349577099084854,
         0.056026403605937955,
         0.06596142649650574,
         0.058242063224315646,
         0.06326227188110352,
         0.06887693405151367,
         0.06367811560630798,
         0.07452131807804108,
         0.06072638332843781,
         0.06885143965482712,
         0.06600568890571594,
         0.06591338068246841,
         0.0675837442278862,
         0.06458464860916138,
         0.06998228281736374,
         0.06599466651678085,
         0.0637292891740799,
         0.07042835503816605,
         0.06391620486974717,
         0.07167784720659257,
         0.06379541009664536,
         0.06390031427145004,
         0.06365247070789337,
         0.06459086388349533,
         0.06107019484043121,
         0.0647795855998993,
         0.06428186744451522,
         0.0584633082151413,
         0.062340307235717776,
         0.06865185499191284,
         0.07019036412239074,
         0.06326369196176529,
         0.06844501346349716,
         0.06498458832502366,
         0.06373877674341202,
         0.06789211630821228,
         0.06327145844697953,
         0.06822190135717392
        ],
        [
         1.3315955698490143,
         1.7176345884799957,
         1.2091753482818604,
         1.158954918384552,
         1.4038476347923279,
         1.407365769147873,
         1.403615117073059,
         1.277114599943161,
         1.4731401801109314,
         1.3241283893585205,
         1.276214212179184,
         1.1438797116279602,
         1.35796520113945,
         1.4190409779548645,
         1.3356252312660217,
         1.4333229064941406,
         1.2358900308609009,
         1.2624010741710663,
         1.3748329877853394,
         1.4015028476715088,
         1.3737776279449463,
         1.2899454534053802,
         1.4893977046012878,
         1.1822889149188995,
         1.4343772530555725,
         1.3176687955856323,
         1.258028268814087,
         1.4974961280822754,
         1.334492802619934,
         1.2946865558624268,
         1.486090987920761,
         1.099431335926056,
         1.2259263396263123,
         1.2897834479808807,
         1.2531239688396454,
         1.243287056684494,
         1.3022768795490265,
         1.1756309568881989,
         1.3091847002506256,
         1.5137924253940582,
         1.2776782512664795,
         1.2376960813999176,
         1.4674284160137177,
         1.5388448238372803,
         1.283641755580902,
         1.3084612488746643,
         1.3717096149921417,
         1.415963351726532,
         1.491013616323471,
         1.3921462297439575,
         1.434939444065094,
         1.325110763311386,
         1.5428782999515533,
         1.1184310019016266,
         1.2383134067058563,
         1.408114343881607,
         1.3829748332500458,
         1.3075575530529022,
         1.403395265340805,
         1.3090420067310333,
         1.452523559331894,
         1.3138464391231537,
         1.4699154198169708,
         1.1205280721187592,
         1.3192285299301147,
         1.1648412644863129,
         1.2652454376220703,
         1.3775386810302734,
         1.2735623121261597,
         1.4904263615608215,
         1.214527666568756,
         1.3770287930965424,
         1.3201137781143188,
         1.3182676136493683,
         1.351674884557724,
         1.2916929721832275,
         1.3996456563472748,
         1.319893330335617,
         1.274585783481598,
         1.408567100763321,
         1.2783240973949432,
         1.4335569441318512,
         1.275908201932907,
         1.2780062854290009,
         1.2730494141578674,
         1.2918172776699066,
         1.2214038968086243,
         1.2955917119979858,
         1.2856373488903046,
         1.169266164302826,
         1.2468061447143555,
         1.3730370998382568,
         1.403807282447815,
         1.2652738392353058,
         1.3689002692699432,
         1.299691766500473,
         1.2747755348682404,
         1.3578423261642456,
         1.2654291689395905,
         1.3644380271434784
        ],
        [
         0.42613972740208284,
         0.5262882536872752,
         0.38409009984517123,
         0.35529460793348927,
         0.41501378002755107,
         0.40284083399411336,
         0.42136491264973747,
         0.370613007926412,
         0.47695118319852803,
         0.4304002171377976,
         0.36257706367659204,
         0.3425157407041931,
         0.3785081428715219,
         0.4111648906319255,
         0.39448804032239954,
         0.4556960567703633,
         0.3722505345390402,
         0.3615523541951908,
         0.39602849361274284,
         0.40354876611286333,
         0.3958087477908006,
         0.38492650559448355,
         0.4550285075483152,
         0.3384553575879211,
         0.40305610553716387,
         0.3782446256524812,
         0.3790042721943428,
         0.4213849113694797,
         0.3971574606402096,
         0.4146372618328823,
         0.4829934268280653,
         0.3514079392151496,
         0.38273224318330185,
         0.36218271332172464,
         0.3765783346562677,
         0.3788758605492727,
         0.37833836442971963,
         0.3538332881404237,
         0.3671139885864456,
         0.49117854314294485,
         0.3754872543458652,
         0.3778525949915867,
         0.42787038956839607,
         0.4810739520155817,
         0.3811256404968237,
         0.38902615002313545,
         0.38974441938115734,
         0.4193617727599768,
         0.4804725368585952,
         0.39019716351047906,
         0.4123347907031032,
         0.3859237705987278,
         0.45238207101670874,
         0.33209039302089716,
         0.39003609399016065,
         0.40440333052389904,
         0.38693732964164673,
         0.3937548207933806,
         0.38257547031948047,
         0.39238842838414795,
         0.47903253143914193,
         0.39880780481450323,
         0.4790876465473213,
         0.34634951743790826,
         0.375311167916358,
         0.3819185567366718,
         0.3762000163138585,
         0.4104897963908378,
         0.3635792181099856,
         0.4335045714545868,
         0.3548542366928211,
         0.40886465970330144,
         0.377773487549442,
         0.37328604277819044,
         0.3759311255505115,
         0.3768615991394987,
         0.3883572844997079,
         0.3897364392202537,
         0.36833897375865426,
         0.4052133901269452,
         0.3706931339724278,
         0.4384224494650754,
         0.3723045179206244,
         0.36795059644998274,
         0.3819963803151843,
         0.367682882389292,
         0.37509583606707986,
         0.36721062087622175,
         0.3767250900287705,
         0.3562889809235092,
         0.368578233307949,
         0.4124209676192772,
         0.41619851561210325,
         0.37716049339120183,
         0.40668805684545867,
         0.4031994014325044,
         0.36764538136512653,
         0.42949804155334154,
         0.36572257536167063,
         0.4123849530046948
        ]
       ],
       "encoder": "json",
       "name": "ABC_GAN_3 Metrics",
       "version": 1
      }
     },
     "metadata": {
      "scrapbook": {
       "data": true,
       "display": false,
       "name": "ABC_GAN_3 Metrics"
      }
     },
     "output_type": "display_data"
    },
    {
     "name": "stdout",
     "output_type": "stream",
     "text": [
      "MSE\n",
      "0.007916569686080777\n"
     ]
    }
   ],
   "source": [
    "ABC_GAN3_metrics=ABC_train_test2.test_generator(gen3,test_data,prior_model,variance,bias,\"3\",device)\n",
    "sb.glue(\"ABC_GAN_3 Metrics\",ABC_GAN3_metrics)\n",
    "\n",
    "print(\"MSE\")\n",
    "print(mean(ABC_GAN3_metrics[0]))"
   ]
  },
  {
   "cell_type": "code",
   "execution_count": 18,
   "id": "c8e46b48",
   "metadata": {
    "execution": {
     "iopub.execute_input": "2022-03-16T13:30:44.873384Z",
     "iopub.status.busy": "2022-03-16T13:30:44.873019Z",
     "iopub.status.idle": "2022-03-16T13:30:45.164849Z",
     "shell.execute_reply": "2022-03-16T13:30:45.165097Z"
    },
    "id": "c8e46b48",
    "papermill": {
     "duration": 0.311157,
     "end_time": "2022-03-16T13:30:45.165220",
     "exception": false,
     "start_time": "2022-03-16T13:30:44.854063",
     "status": "completed"
    },
    "tags": []
   },
   "outputs": [
    {
     "data": {
      "image/png": "[encoded data removed]",
      "text/plain": [
       "<Figure size 432x288 with 1 Axes>"
      ]
     },
     "metadata": {
      "needs_background": "light"
     },
     "output_type": "display_data"
    },
    {
     "data": {
      "image/png": "[encoded data removed]",
      "text/plain": [
       "<Figure size 432x288 with 1 Axes>"
      ]
     },
     "metadata": {
      "needs_background": "light"
     },
     "output_type": "display_data"
    },
    {
     "data": {
      "image/png": "[encoded data removed]",
      "text/plain": [
       "<Figure size 432x288 with 1 Axes>"
      ]
     },
     "metadata": {
      "needs_background": "light"
     },
     "output_type": "display_data"
    },
    {
     "data": {
      "image/png": "[encoded data removed]",
      "text/plain": [
       "<Figure size 432x288 with 1 Axes>"
      ]
     },
     "metadata": {
      "needs_background": "light"
     },
     "output_type": "display_data"
    }
   ],
   "source": [
    "sanityChecks.discProbVsError(train_data,disc3,device)\n",
    "sanityChecks.discProbVsError(test_data,disc3,device)"
   ]
  },
  {
   "cell_type": "markdown",
   "id": "a5bd74c3",
   "metadata": {
    "id": "a5bd74c3",
    "papermill": {
     "duration": 0.01919,
     "end_time": "2022-03-16T13:30:45.204163",
     "exception": false,
     "start_time": "2022-03-16T13:30:45.184973",
     "status": "completed"
    },
    "tags": []
   },
   "source": [
    "## Skip Connection Model Analysis - ABC-GAN "
   ]
  },
  {
   "cell_type": "markdown",
   "id": "5744a8bf",
   "metadata": {
    "id": "5744a8bf",
    "papermill": {
     "duration": 0.019416,
     "end_time": "2022-03-16T13:30:45.242948",
     "exception": false,
     "start_time": "2022-03-16T13:30:45.223532",
     "status": "completed"
    },
    "tags": []
   },
   "source": [
    "### Weight Analysis \n",
    "\n",
    "Study the weights of the skip connection layer\n",
    "\n",
    "Equation of the skip connection is \n",
    "\n",
    "$output = y_{gan} * w + y_{abc} * (1-w)$"
   ]
  },
  {
   "cell_type": "code",
   "execution_count": 19,
   "id": "52c31dea",
   "metadata": {
    "execution": {
     "iopub.execute_input": "2022-03-16T13:30:45.284839Z",
     "iopub.status.busy": "2022-03-16T13:30:45.284452Z",
     "iopub.status.idle": "2022-03-16T13:30:45.287814Z",
     "shell.execute_reply": "2022-03-16T13:30:45.288065Z"
    },
    "id": "52c31dea",
    "papermill": {
     "duration": 0.025972,
     "end_time": "2022-03-16T13:30:45.288179",
     "exception": false,
     "start_time": "2022-03-16T13:30:45.262207",
     "status": "completed"
    },
    "tags": []
   },
   "outputs": [
    {
     "name": "stdout",
     "output_type": "stream",
     "text": [
      "Weight of the node at skip connection\n",
      "Parameter containing:\n",
      "tensor([[0.0528]], requires_grad=True)\n"
     ]
    },
    {
     "data": {
      "application/scrapbook.scrap.json+json": {
       "data": 0.052793897688388824,
       "encoder": "json",
       "name": "Skip Connection Weight",
       "version": 1
      }
     },
     "metadata": {
      "scrapbook": {
       "data": true,
       "display": false,
       "name": "Skip Connection Weight"
      }
     },
     "output_type": "display_data"
    }
   ],
   "source": [
    "print(\"Weight of the node at skip connection\")\n",
    "for name,param in gen3.named_parameters():\n",
    "    if(name == \"skipNode.weight\"):\n",
    "        print(param)\n",
    "        sb.glue(\"Skip Connection Weight\",param.item())"
   ]
  }
 ],
 "metadata": {
  "colab": {
   "collapsed_sections": [],
   "name": "ABC_GAN_Model-Catboost_Pre-gen.ipynb",
   "provenance": []
  },
  "interpreter": {
   "hash": "31f2aee4e71d21fbe5cf8b01ff0e069b9275f58929596ceb00d14d90e3e16cd6"
  },
  "kernelspec": {
   "display_name": "Python 3 (ipykernel)",
   "language": "python",
   "name": "python3"
  },
  "language_info": {
   "codemirror_mode": {
    "name": "ipython",
    "version": 3
   },
   "file_extension": ".py",
   "mimetype": "text/x-python",
   "name": "python",
   "nbconvert_exporter": "python",
   "pygments_lexer": "ipython3",
   "version": "3.8.11"
  },
  "papermill": {
   "default_parameters": {},
   "duration": 57.932361,
   "end_time": "2022-03-16T13:30:45.631184",
   "environment_variables": {},
   "exception": null,
   "input_path": "ABC_GAN-Catboost.ipynb",
   "output_path": "./ABC_GAN_Catboost/ABC-GAN_output_6_4.ipynb",
   "parameters": {
    "bias": 0.1,
    "variance": 0.1
   },
   "start_time": "2022-03-16T13:29:47.698823",
   "version": "2.3.3"
  }
 },
 "nbformat": 4,
 "nbformat_minor": 5
}