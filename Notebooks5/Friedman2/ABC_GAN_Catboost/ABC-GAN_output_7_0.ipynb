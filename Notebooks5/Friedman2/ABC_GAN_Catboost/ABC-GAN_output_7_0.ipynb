{
 "cells": [
  {
   "cell_type": "markdown",
   "id": "622780e6",
   "metadata": {
    "id": "622780e6",
    "papermill": {
     "duration": 0.033097,
     "end_time": "2022-03-16T13:35:00.407544",
     "exception": false,
     "start_time": "2022-03-16T13:35:00.374447",
     "status": "completed"
    },
    "tags": []
   },
   "source": [
    "## Import Libraries "
   ]
  },
  {
   "cell_type": "code",
   "execution_count": 1,
   "id": "a62397e3",
   "metadata": {
    "execution": {
     "iopub.execute_input": "2022-03-16T13:35:00.445625Z",
     "iopub.status.busy": "2022-03-16T13:35:00.445107Z",
     "iopub.status.idle": "2022-03-16T13:35:00.447556Z",
     "shell.execute_reply": "2022-03-16T13:35:00.447903Z"
    },
    "id": "a62397e3",
    "papermill": {
     "duration": 0.023648,
     "end_time": "2022-03-16T13:35:00.448131",
     "exception": false,
     "start_time": "2022-03-16T13:35:00.424483",
     "status": "completed"
    },
    "tags": []
   },
   "outputs": [],
   "source": [
    "import warnings\n",
    "import sys\n",
    "sys.path.insert(0, '../../src')\n",
    "warnings.filterwarnings('ignore')"
   ]
  },
  {
   "cell_type": "code",
   "execution_count": 2,
   "id": "d6a4e155",
   "metadata": {
    "execution": {
     "iopub.execute_input": "2022-03-16T13:35:00.468975Z",
     "iopub.status.busy": "2022-03-16T13:35:00.468564Z",
     "iopub.status.idle": "2022-03-16T13:35:02.519797Z",
     "shell.execute_reply": "2022-03-16T13:35:02.520078Z"
    },
    "id": "d6a4e155",
    "papermill": {
     "duration": 2.062307,
     "end_time": "2022-03-16T13:35:02.520209",
     "exception": false,
     "start_time": "2022-03-16T13:35:00.457902",
     "status": "completed"
    },
    "tags": []
   },
   "outputs": [],
   "source": [
    "import ABC_train_test2\n",
    "import friedman2Dataset\n",
    "import network\n",
    "import dataset\n",
    "import sanityChecks\n",
    "import torch \n",
    "import scrapbook as sb\n",
    "from statistics import mean \n",
    "import catboost as ctb \n",
    "from sklearn.model_selection import train_test_split\n",
    "from sklearn.metrics import mean_squared_error,mean_absolute_error\n",
    "import numpy as np"
   ]
  },
  {
   "cell_type": "markdown",
   "id": "2fa5b0f7",
   "metadata": {
    "id": "2fa5b0f7",
    "papermill": {
     "duration": 0.02404,
     "end_time": "2022-03-16T13:35:02.552510",
     "exception": false,
     "start_time": "2022-03-16T13:35:02.528470",
     "status": "completed"
    },
    "tags": []
   },
   "source": [
    "## Parameters "
   ]
  },
  {
   "cell_type": "code",
   "execution_count": 3,
   "id": "783186fb",
   "metadata": {
    "execution": {
     "iopub.execute_input": "2022-03-16T13:35:02.572891Z",
     "iopub.status.busy": "2022-03-16T13:35:02.572452Z",
     "iopub.status.idle": "2022-03-16T13:35:02.573805Z",
     "shell.execute_reply": "2022-03-16T13:35:02.574160Z"
    },
    "id": "783186fb",
    "papermill": {
     "duration": 0.013331,
     "end_time": "2022-03-16T13:35:02.574641",
     "exception": false,
     "start_time": "2022-03-16T13:35:02.561310",
     "status": "completed"
    },
    "tags": [
     "parameters"
    ]
   },
   "outputs": [],
   "source": [
    "variance = 1\n",
    "bias = 1 "
   ]
  },
  {
   "cell_type": "code",
   "execution_count": 4,
   "id": "9253c580",
   "metadata": {
    "execution": {
     "iopub.execute_input": "2022-03-16T13:35:02.595475Z",
     "iopub.status.busy": "2022-03-16T13:35:02.595033Z",
     "iopub.status.idle": "2022-03-16T13:35:02.596322Z",
     "shell.execute_reply": "2022-03-16T13:35:02.596597Z"
    },
    "papermill": {
     "duration": 0.012743,
     "end_time": "2022-03-16T13:35:02.596731",
     "exception": false,
     "start_time": "2022-03-16T13:35:02.583988",
     "status": "completed"
    },
    "tags": [
     "injected-parameters"
    ]
   },
   "outputs": [],
   "source": [
    "# Parameters\n",
    "variance = 1\n",
    "bias = 1\n"
   ]
  },
  {
   "cell_type": "markdown",
   "id": "391cdbfd",
   "metadata": {
    "id": "391cdbfd",
    "papermill": {
     "duration": 0.009362,
     "end_time": "2022-03-16T13:35:02.615214",
     "exception": false,
     "start_time": "2022-03-16T13:35:02.605852",
     "status": "completed"
    },
    "tags": []
   },
   "source": [
    "## Dataset \n"
   ]
  },
  {
   "cell_type": "code",
   "execution_count": 5,
   "id": "5b51f161",
   "metadata": {
    "execution": {
     "iopub.execute_input": "2022-03-16T13:35:02.637404Z",
     "iopub.status.busy": "2022-03-16T13:35:02.636846Z",
     "iopub.status.idle": "2022-03-16T13:35:02.638349Z",
     "shell.execute_reply": "2022-03-16T13:35:02.638665Z"
    },
    "id": "5b51f161",
    "papermill": {
     "duration": 0.013903,
     "end_time": "2022-03-16T13:35:02.638807",
     "exception": false,
     "start_time": "2022-03-16T13:35:02.624904",
     "status": "completed"
    },
    "tags": []
   },
   "outputs": [],
   "source": [
    "#Parameters \n",
    "n_features = 4\n",
    "n_samples= 100\n",
    "n_target = 1 "
   ]
  },
  {
   "cell_type": "code",
   "execution_count": 6,
   "id": "5d6eced4",
   "metadata": {
    "execution": {
     "iopub.execute_input": "2022-03-16T13:35:02.661036Z",
     "iopub.status.busy": "2022-03-16T13:35:02.660223Z",
     "iopub.status.idle": "2022-03-16T13:35:02.667988Z",
     "shell.execute_reply": "2022-03-16T13:35:02.668315Z"
    },
    "id": "5d6eced4",
    "papermill": {
     "duration": 0.020234,
     "end_time": "2022-03-16T13:35:02.668477",
     "exception": false,
     "start_time": "2022-03-16T13:35:02.648243",
     "status": "completed"
    },
    "tags": []
   },
   "outputs": [
    {
     "name": "stdout",
     "output_type": "stream",
     "text": [
      "          X1           X2        X3        X4           Y\n",
      "0  65.641947   399.972320  0.803883  9.459428  328.065358\n",
      "1  15.740572   509.608575  0.886802  2.327297  452.425467\n",
      "2  24.071662   262.624306  0.310512  8.020285   85.008580\n",
      "3  20.868292  1451.466204  0.262492  9.891660  381.507232\n",
      "4  70.836802   579.086832  0.571125  3.309094  338.445088\n"
     ]
    }
   ],
   "source": [
    "X,Y = friedman2Dataset.friedman2_data(n_samples)"
   ]
  },
  {
   "cell_type": "code",
   "execution_count": 7,
   "id": "fe007438",
   "metadata": {
    "execution": {
     "iopub.execute_input": "2022-03-16T13:35:02.691763Z",
     "iopub.status.busy": "2022-03-16T13:35:02.691307Z",
     "iopub.status.idle": "2022-03-16T13:35:02.692784Z",
     "shell.execute_reply": "2022-03-16T13:35:02.693076Z"
    },
    "id": "fe007438",
    "papermill": {
     "duration": 0.014897,
     "end_time": "2022-03-16T13:35:02.693209",
     "exception": false,
     "start_time": "2022-03-16T13:35:02.678312",
     "status": "completed"
    },
    "tags": []
   },
   "outputs": [],
   "source": [
    "#Train test split for dataset \n",
    "X_train,X_test,Y_train,Y_test = train_test_split(X,Y,test_size = 0.2)\n",
    "train_data = dataset.CustomDataset(X_train,Y_train)\n",
    "test_data = dataset.CustomDataset(X_test,Y_test)\n"
   ]
  },
  {
   "cell_type": "markdown",
   "id": "a9a1af34",
   "metadata": {
    "id": "a9a1af34",
    "papermill": {
     "duration": 0.009884,
     "end_time": "2022-03-16T13:35:02.712818",
     "exception": false,
     "start_time": "2022-03-16T13:35:02.702934",
     "status": "completed"
    },
    "tags": []
   },
   "source": [
    "## Training Parameters "
   ]
  },
  {
   "cell_type": "code",
   "execution_count": 8,
   "id": "952b7fc8",
   "metadata": {
    "execution": {
     "iopub.execute_input": "2022-03-16T13:35:02.735433Z",
     "iopub.status.busy": "2022-03-16T13:35:02.734921Z",
     "iopub.status.idle": "2022-03-16T13:35:02.736582Z",
     "shell.execute_reply": "2022-03-16T13:35:02.736952Z"
    },
    "id": "952b7fc8",
    "papermill": {
     "duration": 0.014644,
     "end_time": "2022-03-16T13:35:02.737098",
     "exception": false,
     "start_time": "2022-03-16T13:35:02.722454",
     "status": "completed"
    },
    "tags": []
   },
   "outputs": [],
   "source": [
    "batch_size = 32\n",
    "n_epochs = 1000\n",
    "#Select the device \n",
    "device = torch.device('cuda' if torch.cuda.is_available() else 'cpu')"
   ]
  },
  {
   "cell_type": "markdown",
   "id": "a95e1600",
   "metadata": {
    "id": "a95e1600",
    "papermill": {
     "duration": 0.009415,
     "end_time": "2022-03-16T13:35:02.756294",
     "exception": false,
     "start_time": "2022-03-16T13:35:02.746879",
     "status": "completed"
    },
    "tags": []
   },
   "source": [
    "# ABC Pre-generator Model \n",
    "\n",
    "1. The catboost model is used as a pre-generator model for the ABC-GAN. \n",
    "2. The model is first trained on the entire dataset \n",
    "3. It generats X,Y pairs and we add some Gaussian noise with mean 0 and variance 1 to it which is then feed as input to the generator.\n"
   ]
  },
  {
   "cell_type": "code",
   "execution_count": 9,
   "id": "ff8ce7bd",
   "metadata": {
    "execution": {
     "iopub.execute_input": "2022-03-16T13:35:02.792348Z",
     "iopub.status.busy": "2022-03-16T13:35:02.791888Z",
     "iopub.status.idle": "2022-03-16T13:35:03.540239Z",
     "shell.execute_reply": "2022-03-16T13:35:03.540678Z"
    },
    "id": "ff8ce7bd",
    "papermill": {
     "duration": 0.763603,
     "end_time": "2022-03-16T13:35:03.540865",
     "exception": false,
     "start_time": "2022-03-16T13:35:02.777262",
     "status": "completed"
    },
    "tags": []
   },
   "outputs": [
    {
     "name": "stdout",
     "output_type": "stream",
     "text": [
      "Learning rate set to 0.024897\n",
      "0:\tlearn: 0.9989259\ttotal: 57.3ms\tremaining: 57.3s\n",
      "1:\tlearn: 0.9881738\ttotal: 58.1ms\tremaining: 29s\n",
      "2:\tlearn: 0.9774167\ttotal: 58.7ms\tremaining: 19.5s\n",
      "3:\tlearn: 0.9673889\ttotal: 59.3ms\tremaining: 14.8s\n",
      "4:\tlearn: 0.9516846\ttotal: 59.6ms\tremaining: 11.9s\n",
      "5:\tlearn: 0.9404920\ttotal: 60ms\tremaining: 9.94s\n",
      "6:\tlearn: 0.9287655\ttotal: 60.5ms\tremaining: 8.59s\n",
      "7:\tlearn: 0.9160852\ttotal: 61.1ms\tremaining: 7.57s\n",
      "8:\tlearn: 0.9063704\ttotal: 61.6ms\tremaining: 6.78s\n",
      "9:\tlearn: 0.8955734\ttotal: 62.2ms\tremaining: 6.15s\n",
      "10:\tlearn: 0.8851203\ttotal: 62.7ms\tremaining: 5.63s\n",
      "11:\tlearn: 0.8732139\ttotal: 63.2ms\tremaining: 5.2s\n",
      "12:\tlearn: 0.8606396\ttotal: 63.8ms\tremaining: 4.84s\n",
      "13:\tlearn: 0.8499854\ttotal: 64.1ms\tremaining: 4.52s\n",
      "14:\tlearn: 0.8404332\ttotal: 64.8ms\tremaining: 4.25s\n",
      "15:\tlearn: 0.8320127\ttotal: 65.3ms\tremaining: 4.01s\n",
      "16:\tlearn: 0.8194147\ttotal: 65.8ms\tremaining: 3.8s\n",
      "17:\tlearn: 0.8118663\ttotal: 66.4ms\tremaining: 3.62s\n",
      "18:\tlearn: 0.8037109\ttotal: 66.8ms\tremaining: 3.45s\n",
      "19:\tlearn: 0.7933900\ttotal: 67.2ms\tremaining: 3.29s\n",
      "20:\tlearn: 0.7815333\ttotal: 67.6ms\tremaining: 3.15s\n",
      "21:\tlearn: 0.7710479\ttotal: 68ms\tremaining: 3.02s\n",
      "22:\tlearn: 0.7613757\ttotal: 68.4ms\tremaining: 2.9s\n",
      "23:\tlearn: 0.7522682\ttotal: 68.8ms\tremaining: 2.8s\n"
     ]
    },
    {
     "name": "stdout",
     "output_type": "stream",
     "text": [
      "24:\tlearn: 0.7437167\ttotal: 69.4ms\tremaining: 2.7s\n",
      "25:\tlearn: 0.7317480\ttotal: 69.8ms\tremaining: 2.62s\n",
      "26:\tlearn: 0.7243751\ttotal: 70.3ms\tremaining: 2.53s\n",
      "27:\tlearn: 0.7149263\ttotal: 70.7ms\tremaining: 2.45s\n",
      "28:\tlearn: 0.7044778\ttotal: 71ms\tremaining: 2.38s\n",
      "29:\tlearn: 0.6956529\ttotal: 71.6ms\tremaining: 2.31s\n",
      "30:\tlearn: 0.6892642\ttotal: 72.3ms\tremaining: 2.26s\n",
      "31:\tlearn: 0.6801628\ttotal: 72.8ms\tremaining: 2.2s\n",
      "32:\tlearn: 0.6728896\ttotal: 73.4ms\tremaining: 2.15s\n",
      "33:\tlearn: 0.6653095\ttotal: 73.8ms\tremaining: 2.1s\n",
      "34:\tlearn: 0.6571305\ttotal: 74.3ms\tremaining: 2.05s\n",
      "35:\tlearn: 0.6481737\ttotal: 74.7ms\tremaining: 2s\n",
      "36:\tlearn: 0.6393181\ttotal: 75.1ms\tremaining: 1.96s\n",
      "37:\tlearn: 0.6319509\ttotal: 75.7ms\tremaining: 1.92s\n",
      "38:\tlearn: 0.6253397\ttotal: 76.1ms\tremaining: 1.88s\n",
      "39:\tlearn: 0.6181947\ttotal: 76.5ms\tremaining: 1.83s\n",
      "40:\tlearn: 0.6103657\ttotal: 77ms\tremaining: 1.8s\n",
      "41:\tlearn: 0.6032053\ttotal: 77.4ms\tremaining: 1.76s\n",
      "42:\tlearn: 0.5959560\ttotal: 77.9ms\tremaining: 1.73s\n",
      "43:\tlearn: 0.5897886\ttotal: 78.3ms\tremaining: 1.7s\n",
      "44:\tlearn: 0.5824063\ttotal: 78.8ms\tremaining: 1.67s\n",
      "45:\tlearn: 0.5765587\ttotal: 79.4ms\tremaining: 1.65s\n",
      "46:\tlearn: 0.5693078\ttotal: 79.9ms\tremaining: 1.62s\n",
      "47:\tlearn: 0.5629973\ttotal: 80.3ms\tremaining: 1.59s\n",
      "48:\tlearn: 0.5585537\ttotal: 80.7ms\tremaining: 1.57s\n",
      "49:\tlearn: 0.5521609\ttotal: 81.1ms\tremaining: 1.54s\n",
      "50:\tlearn: 0.5461282\ttotal: 81.5ms\tremaining: 1.52s\n",
      "51:\tlearn: 0.5381140\ttotal: 81.9ms\tremaining: 1.49s\n",
      "52:\tlearn: 0.5313913\ttotal: 82.3ms\tremaining: 1.47s\n",
      "53:\tlearn: 0.5235824\ttotal: 82.7ms\tremaining: 1.45s\n",
      "54:\tlearn: 0.5169564\ttotal: 83.1ms\tremaining: 1.43s\n",
      "55:\tlearn: 0.5110060\ttotal: 83.5ms\tremaining: 1.41s\n",
      "56:\tlearn: 0.5048960\ttotal: 83.9ms\tremaining: 1.39s\n",
      "57:\tlearn: 0.4983798\ttotal: 84.3ms\tremaining: 1.37s\n",
      "58:\tlearn: 0.4914807\ttotal: 84.7ms\tremaining: 1.35s\n",
      "59:\tlearn: 0.4846367\ttotal: 85.1ms\tremaining: 1.33s\n",
      "60:\tlearn: 0.4784407\ttotal: 85.5ms\tremaining: 1.31s\n",
      "61:\tlearn: 0.4724068\ttotal: 85.9ms\tremaining: 1.3s\n",
      "62:\tlearn: 0.4671597\ttotal: 86.3ms\tremaining: 1.28s\n",
      "63:\tlearn: 0.4615205\ttotal: 86.9ms\tremaining: 1.27s\n",
      "64:\tlearn: 0.4562116\ttotal: 87.2ms\tremaining: 1.25s\n",
      "65:\tlearn: 0.4506057\ttotal: 87.6ms\tremaining: 1.24s\n",
      "66:\tlearn: 0.4453194\ttotal: 88.3ms\tremaining: 1.23s\n",
      "67:\tlearn: 0.4409372\ttotal: 88.6ms\tremaining: 1.21s\n",
      "68:\tlearn: 0.4346409\ttotal: 89ms\tremaining: 1.2s\n",
      "69:\tlearn: 0.4295799\ttotal: 89.5ms\tremaining: 1.19s\n",
      "70:\tlearn: 0.4246405\ttotal: 90ms\tremaining: 1.18s\n",
      "71:\tlearn: 0.4203151\ttotal: 90.3ms\tremaining: 1.16s\n",
      "72:\tlearn: 0.4163016\ttotal: 90.8ms\tremaining: 1.15s\n",
      "73:\tlearn: 0.4123844\ttotal: 91.2ms\tremaining: 1.14s\n",
      "74:\tlearn: 0.4073460\ttotal: 91.6ms\tremaining: 1.13s\n",
      "75:\tlearn: 0.4026521\ttotal: 91.9ms\tremaining: 1.12s\n",
      "76:\tlearn: 0.3978229\ttotal: 92.3ms\tremaining: 1.11s\n",
      "77:\tlearn: 0.3926741\ttotal: 92.9ms\tremaining: 1.1s\n",
      "78:\tlearn: 0.3880557\ttotal: 93.5ms\tremaining: 1.09s\n",
      "79:\tlearn: 0.3834596\ttotal: 94ms\tremaining: 1.08s\n",
      "80:\tlearn: 0.3794153\ttotal: 94.4ms\tremaining: 1.07s\n",
      "81:\tlearn: 0.3746855\ttotal: 94.8ms\tremaining: 1.06s\n",
      "82:\tlearn: 0.3698463\ttotal: 95.2ms\tremaining: 1.05s\n",
      "83:\tlearn: 0.3650924\ttotal: 95.7ms\tremaining: 1.04s\n",
      "84:\tlearn: 0.3611552\ttotal: 96.1ms\tremaining: 1.03s\n",
      "85:\tlearn: 0.3567076\ttotal: 96.5ms\tremaining: 1.02s\n",
      "86:\tlearn: 0.3532491\ttotal: 97ms\tremaining: 1.02s\n",
      "87:\tlearn: 0.3495838\ttotal: 97.4ms\tremaining: 1.01s\n",
      "88:\tlearn: 0.3458134\ttotal: 97.9ms\tremaining: 1s\n",
      "89:\tlearn: 0.3427173\ttotal: 98.3ms\tremaining: 994ms\n",
      "90:\tlearn: 0.3398817\ttotal: 98.7ms\tremaining: 986ms\n",
      "91:\tlearn: 0.3359706\ttotal: 99.1ms\tremaining: 978ms\n",
      "92:\tlearn: 0.3322254\ttotal: 99.5ms\tremaining: 970ms\n",
      "93:\tlearn: 0.3285001\ttotal: 99.9ms\tremaining: 963ms\n",
      "94:\tlearn: 0.3251664\ttotal: 100ms\tremaining: 956ms\n",
      "95:\tlearn: 0.3212902\ttotal: 101ms\tremaining: 949ms\n",
      "96:\tlearn: 0.3174904\ttotal: 101ms\tremaining: 941ms\n",
      "97:\tlearn: 0.3142206\ttotal: 102ms\tremaining: 935ms\n",
      "98:\tlearn: 0.3099502\ttotal: 102ms\tremaining: 929ms\n",
      "99:\tlearn: 0.3063694\ttotal: 103ms\tremaining: 924ms\n",
      "100:\tlearn: 0.3026538\ttotal: 103ms\tremaining: 918ms\n",
      "101:\tlearn: 0.3002990\ttotal: 104ms\tremaining: 911ms\n",
      "102:\tlearn: 0.2970166\ttotal: 104ms\tremaining: 905ms\n",
      "103:\tlearn: 0.2940106\ttotal: 104ms\tremaining: 899ms\n",
      "104:\tlearn: 0.2904891\ttotal: 105ms\tremaining: 894ms\n",
      "105:\tlearn: 0.2870576\ttotal: 105ms\tremaining: 889ms\n",
      "106:\tlearn: 0.2836650\ttotal: 106ms\tremaining: 883ms\n",
      "107:\tlearn: 0.2804379\ttotal: 106ms\tremaining: 877ms\n",
      "108:\tlearn: 0.2775710\ttotal: 107ms\tremaining: 872ms\n",
      "109:\tlearn: 0.2748432\ttotal: 107ms\tremaining: 866ms\n",
      "110:\tlearn: 0.2723629\ttotal: 107ms\tremaining: 860ms\n",
      "111:\tlearn: 0.2696512\ttotal: 108ms\tremaining: 855ms\n",
      "112:\tlearn: 0.2668869\ttotal: 108ms\tremaining: 850ms\n",
      "113:\tlearn: 0.2635067\ttotal: 109ms\tremaining: 844ms\n",
      "114:\tlearn: 0.2603588\ttotal: 109ms\tremaining: 841ms\n",
      "115:\tlearn: 0.2579364\ttotal: 110ms\tremaining: 836ms\n",
      "116:\tlearn: 0.2545624\ttotal: 110ms\tremaining: 832ms\n",
      "117:\tlearn: 0.2515195\ttotal: 111ms\tremaining: 826ms\n",
      "118:\tlearn: 0.2485593\ttotal: 111ms\tremaining: 821ms\n",
      "119:\tlearn: 0.2463461\ttotal: 111ms\tremaining: 816ms\n",
      "120:\tlearn: 0.2431104\ttotal: 112ms\tremaining: 812ms\n",
      "121:\tlearn: 0.2404142\ttotal: 112ms\tremaining: 806ms\n",
      "122:\tlearn: 0.2383757\ttotal: 112ms\tremaining: 802ms\n",
      "123:\tlearn: 0.2365522\ttotal: 113ms\tremaining: 798ms\n",
      "124:\tlearn: 0.2349100\ttotal: 113ms\tremaining: 794ms\n",
      "125:\tlearn: 0.2324363\ttotal: 114ms\tremaining: 790ms\n",
      "126:\tlearn: 0.2297929\ttotal: 114ms\tremaining: 786ms\n",
      "127:\tlearn: 0.2277332\ttotal: 115ms\tremaining: 782ms\n",
      "128:\tlearn: 0.2255258\ttotal: 115ms\tremaining: 778ms\n",
      "129:\tlearn: 0.2234829\ttotal: 116ms\tremaining: 774ms\n",
      "130:\tlearn: 0.2213995\ttotal: 116ms\tremaining: 770ms\n",
      "131:\tlearn: 0.2191506\ttotal: 117ms\tremaining: 767ms\n",
      "132:\tlearn: 0.2170224\ttotal: 117ms\tremaining: 764ms\n",
      "133:\tlearn: 0.2147750\ttotal: 117ms\tremaining: 759ms\n",
      "134:\tlearn: 0.2127193\ttotal: 118ms\tremaining: 757ms\n",
      "135:\tlearn: 0.2106876\ttotal: 119ms\tremaining: 753ms\n",
      "136:\tlearn: 0.2085632\ttotal: 119ms\tremaining: 750ms\n",
      "137:\tlearn: 0.2067011\ttotal: 119ms\tremaining: 746ms\n",
      "138:\tlearn: 0.2047156\ttotal: 120ms\tremaining: 743ms\n",
      "139:\tlearn: 0.2032076\ttotal: 120ms\tremaining: 740ms\n",
      "140:\tlearn: 0.2010657\ttotal: 121ms\tremaining: 737ms\n",
      "141:\tlearn: 0.1986433\ttotal: 121ms\tremaining: 734ms\n",
      "142:\tlearn: 0.1970502\ttotal: 122ms\tremaining: 730ms\n",
      "143:\tlearn: 0.1952749\ttotal: 122ms\tremaining: 727ms\n",
      "144:\tlearn: 0.1929480\ttotal: 123ms\tremaining: 724ms\n",
      "145:\tlearn: 0.1911059\ttotal: 123ms\tremaining: 722ms\n",
      "146:\tlearn: 0.1892369\ttotal: 124ms\tremaining: 721ms\n",
      "147:\tlearn: 0.1871346\ttotal: 125ms\tremaining: 718ms\n",
      "148:\tlearn: 0.1851555\ttotal: 125ms\tremaining: 715ms\n",
      "149:\tlearn: 0.1836359\ttotal: 126ms\tremaining: 712ms\n",
      "150:\tlearn: 0.1815185\ttotal: 126ms\tremaining: 708ms\n",
      "151:\tlearn: 0.1794807\ttotal: 126ms\tremaining: 704ms\n",
      "152:\tlearn: 0.1777733\ttotal: 127ms\tremaining: 702ms\n",
      "153:\tlearn: 0.1758528\ttotal: 127ms\tremaining: 698ms\n",
      "154:\tlearn: 0.1740756\ttotal: 128ms\tremaining: 696ms\n",
      "155:\tlearn: 0.1722952\ttotal: 128ms\tremaining: 693ms\n",
      "156:\tlearn: 0.1708060\ttotal: 128ms\tremaining: 690ms\n",
      "157:\tlearn: 0.1689582\ttotal: 129ms\tremaining: 686ms\n",
      "158:\tlearn: 0.1671754\ttotal: 129ms\tremaining: 683ms\n",
      "159:\tlearn: 0.1654922\ttotal: 130ms\tremaining: 680ms\n",
      "160:\tlearn: 0.1639112\ttotal: 130ms\tremaining: 677ms\n",
      "161:\tlearn: 0.1622921\ttotal: 131ms\tremaining: 675ms\n",
      "162:\tlearn: 0.1604587\ttotal: 131ms\tremaining: 674ms\n",
      "163:\tlearn: 0.1588944\ttotal: 132ms\tremaining: 672ms\n",
      "164:\tlearn: 0.1574301\ttotal: 132ms\tremaining: 669ms\n",
      "165:\tlearn: 0.1563461\ttotal: 133ms\tremaining: 667ms\n",
      "166:\tlearn: 0.1546111\ttotal: 133ms\tremaining: 664ms\n",
      "167:\tlearn: 0.1529363\ttotal: 133ms\tremaining: 660ms\n",
      "168:\tlearn: 0.1518481\ttotal: 134ms\tremaining: 659ms\n",
      "169:\tlearn: 0.1505533\ttotal: 135ms\tremaining: 657ms\n",
      "170:\tlearn: 0.1496036\ttotal: 135ms\tremaining: 654ms\n",
      "171:\tlearn: 0.1480932\ttotal: 135ms\tremaining: 652ms\n",
      "172:\tlearn: 0.1466245\ttotal: 136ms\tremaining: 650ms\n",
      "173:\tlearn: 0.1449844\ttotal: 137ms\tremaining: 648ms\n",
      "174:\tlearn: 0.1438369\ttotal: 137ms\tremaining: 646ms\n",
      "175:\tlearn: 0.1427820\ttotal: 138ms\tremaining: 644ms\n",
      "176:\tlearn: 0.1413445\ttotal: 138ms\tremaining: 642ms\n",
      "177:\tlearn: 0.1403198\ttotal: 138ms\tremaining: 640ms\n",
      "178:\tlearn: 0.1387125\ttotal: 139ms\tremaining: 638ms\n",
      "179:\tlearn: 0.1373305\ttotal: 140ms\tremaining: 636ms\n",
      "180:\tlearn: 0.1361989\ttotal: 140ms\tremaining: 634ms\n",
      "181:\tlearn: 0.1352427\ttotal: 141ms\tremaining: 632ms\n",
      "182:\tlearn: 0.1337388\ttotal: 141ms\tremaining: 629ms\n",
      "183:\tlearn: 0.1323843\ttotal: 141ms\tremaining: 627ms\n",
      "184:\tlearn: 0.1313841\ttotal: 142ms\tremaining: 624ms\n",
      "185:\tlearn: 0.1303388\ttotal: 142ms\tremaining: 622ms\n",
      "186:\tlearn: 0.1292637\ttotal: 142ms\tremaining: 619ms\n",
      "187:\tlearn: 0.1279143\ttotal: 143ms\tremaining: 617ms\n",
      "188:\tlearn: 0.1266560\ttotal: 143ms\tremaining: 615ms\n",
      "189:\tlearn: 0.1254386\ttotal: 144ms\tremaining: 613ms\n",
      "190:\tlearn: 0.1244353\ttotal: 144ms\tremaining: 611ms\n",
      "191:\tlearn: 0.1231844\ttotal: 145ms\tremaining: 608ms\n",
      "192:\tlearn: 0.1221640\ttotal: 145ms\tremaining: 606ms\n",
      "193:\tlearn: 0.1212719\ttotal: 145ms\tremaining: 604ms\n",
      "194:\tlearn: 0.1203175\ttotal: 146ms\tremaining: 602ms\n",
      "195:\tlearn: 0.1193000\ttotal: 146ms\tremaining: 600ms\n",
      "196:\tlearn: 0.1183529\ttotal: 147ms\tremaining: 599ms\n",
      "197:\tlearn: 0.1173303\ttotal: 147ms\tremaining: 597ms\n",
      "198:\tlearn: 0.1163363\ttotal: 148ms\tremaining: 595ms\n",
      "199:\tlearn: 0.1153289\ttotal: 148ms\tremaining: 593ms\n",
      "200:\tlearn: 0.1142848\ttotal: 149ms\tremaining: 591ms\n",
      "201:\tlearn: 0.1131426\ttotal: 149ms\tremaining: 589ms\n",
      "202:\tlearn: 0.1122311\ttotal: 149ms\tremaining: 587ms\n",
      "203:\tlearn: 0.1113848\ttotal: 150ms\tremaining: 585ms\n",
      "204:\tlearn: 0.1104174\ttotal: 150ms\tremaining: 583ms\n",
      "205:\tlearn: 0.1093896\ttotal: 151ms\tremaining: 581ms\n",
      "206:\tlearn: 0.1086247\ttotal: 151ms\tremaining: 579ms\n",
      "207:\tlearn: 0.1076285\ttotal: 152ms\tremaining: 577ms\n",
      "208:\tlearn: 0.1069898\ttotal: 152ms\tremaining: 575ms\n",
      "209:\tlearn: 0.1059387\ttotal: 153ms\tremaining: 574ms\n",
      "210:\tlearn: 0.1048788\ttotal: 153ms\tremaining: 572ms\n",
      "211:\tlearn: 0.1040959\ttotal: 154ms\tremaining: 571ms\n",
      "212:\tlearn: 0.1031702\ttotal: 154ms\tremaining: 570ms\n",
      "213:\tlearn: 0.1022489\ttotal: 155ms\tremaining: 568ms\n",
      "214:\tlearn: 0.1014550\ttotal: 155ms\tremaining: 566ms\n",
      "215:\tlearn: 0.1004209\ttotal: 155ms\tremaining: 564ms\n",
      "216:\tlearn: 0.0996979\ttotal: 156ms\tremaining: 562ms\n",
      "217:\tlearn: 0.0987955\ttotal: 156ms\tremaining: 561ms\n",
      "218:\tlearn: 0.0982007\ttotal: 157ms\tremaining: 559ms\n",
      "219:\tlearn: 0.0972490\ttotal: 157ms\tremaining: 557ms\n",
      "220:\tlearn: 0.0964185\ttotal: 158ms\tremaining: 556ms\n",
      "221:\tlearn: 0.0955770\ttotal: 158ms\tremaining: 554ms\n",
      "222:\tlearn: 0.0947182\ttotal: 159ms\tremaining: 552ms\n",
      "223:\tlearn: 0.0939736\ttotal: 159ms\tremaining: 550ms\n",
      "224:\tlearn: 0.0932949\ttotal: 159ms\tremaining: 549ms\n",
      "225:\tlearn: 0.0926813\ttotal: 160ms\tremaining: 547ms\n",
      "226:\tlearn: 0.0919081\ttotal: 160ms\tremaining: 546ms\n",
      "227:\tlearn: 0.0910412\ttotal: 161ms\tremaining: 544ms\n",
      "228:\tlearn: 0.0903041\ttotal: 161ms\tremaining: 542ms\n",
      "229:\tlearn: 0.0896058\ttotal: 162ms\tremaining: 541ms\n",
      "230:\tlearn: 0.0888045\ttotal: 162ms\tremaining: 539ms\n",
      "231:\tlearn: 0.0881796\ttotal: 163ms\tremaining: 540ms\n",
      "232:\tlearn: 0.0875137\ttotal: 164ms\tremaining: 539ms\n",
      "233:\tlearn: 0.0868552\ttotal: 164ms\tremaining: 537ms\n",
      "234:\tlearn: 0.0861753\ttotal: 164ms\tremaining: 535ms\n",
      "235:\tlearn: 0.0854104\ttotal: 165ms\tremaining: 534ms\n",
      "236:\tlearn: 0.0848083\ttotal: 165ms\tremaining: 532ms\n",
      "237:\tlearn: 0.0840216\ttotal: 166ms\tremaining: 531ms\n",
      "238:\tlearn: 0.0834119\ttotal: 166ms\tremaining: 529ms\n",
      "239:\tlearn: 0.0827399\ttotal: 167ms\tremaining: 528ms\n",
      "240:\tlearn: 0.0821504\ttotal: 167ms\tremaining: 526ms\n",
      "241:\tlearn: 0.0813805\ttotal: 168ms\tremaining: 525ms\n",
      "242:\tlearn: 0.0807469\ttotal: 168ms\tremaining: 524ms\n",
      "243:\tlearn: 0.0802209\ttotal: 168ms\tremaining: 522ms\n",
      "244:\tlearn: 0.0797155\ttotal: 169ms\tremaining: 521ms\n"
     ]
    },
    {
     "name": "stdout",
     "output_type": "stream",
     "text": [
      "245:\tlearn: 0.0791230\ttotal: 170ms\tremaining: 520ms\n",
      "246:\tlearn: 0.0784440\ttotal: 170ms\tremaining: 519ms\n",
      "247:\tlearn: 0.0777648\ttotal: 171ms\tremaining: 518ms\n",
      "248:\tlearn: 0.0771183\ttotal: 171ms\tremaining: 517ms\n",
      "249:\tlearn: 0.0766951\ttotal: 172ms\tremaining: 515ms\n",
      "250:\tlearn: 0.0761946\ttotal: 172ms\tremaining: 514ms\n",
      "251:\tlearn: 0.0756115\ttotal: 173ms\tremaining: 512ms\n",
      "252:\tlearn: 0.0751102\ttotal: 173ms\tremaining: 511ms\n",
      "253:\tlearn: 0.0747172\ttotal: 173ms\tremaining: 509ms\n",
      "254:\tlearn: 0.0741790\ttotal: 174ms\tremaining: 508ms\n",
      "255:\tlearn: 0.0737137\ttotal: 174ms\tremaining: 506ms\n",
      "256:\tlearn: 0.0731826\ttotal: 175ms\tremaining: 505ms\n",
      "257:\tlearn: 0.0726080\ttotal: 175ms\tremaining: 503ms\n",
      "258:\tlearn: 0.0721129\ttotal: 175ms\tremaining: 502ms\n",
      "259:\tlearn: 0.0715285\ttotal: 176ms\tremaining: 500ms\n",
      "260:\tlearn: 0.0710191\ttotal: 176ms\tremaining: 499ms\n",
      "261:\tlearn: 0.0705805\ttotal: 177ms\tremaining: 499ms\n",
      "262:\tlearn: 0.0700991\ttotal: 178ms\tremaining: 498ms\n",
      "263:\tlearn: 0.0694549\ttotal: 178ms\tremaining: 496ms\n",
      "264:\tlearn: 0.0690478\ttotal: 178ms\tremaining: 495ms\n",
      "265:\tlearn: 0.0686179\ttotal: 179ms\tremaining: 494ms\n",
      "266:\tlearn: 0.0682374\ttotal: 179ms\tremaining: 492ms\n",
      "267:\tlearn: 0.0676660\ttotal: 180ms\tremaining: 491ms\n",
      "268:\tlearn: 0.0672109\ttotal: 180ms\tremaining: 490ms\n",
      "269:\tlearn: 0.0667996\ttotal: 181ms\tremaining: 489ms\n",
      "270:\tlearn: 0.0664350\ttotal: 181ms\tremaining: 487ms\n",
      "271:\tlearn: 0.0660326\ttotal: 182ms\tremaining: 486ms\n",
      "272:\tlearn: 0.0656827\ttotal: 182ms\tremaining: 485ms\n",
      "273:\tlearn: 0.0651730\ttotal: 183ms\tremaining: 484ms\n",
      "274:\tlearn: 0.0646900\ttotal: 183ms\tremaining: 483ms\n",
      "275:\tlearn: 0.0643010\ttotal: 184ms\tremaining: 482ms\n",
      "276:\tlearn: 0.0638430\ttotal: 184ms\tremaining: 480ms\n",
      "277:\tlearn: 0.0634852\ttotal: 184ms\tremaining: 479ms\n",
      "278:\tlearn: 0.0631460\ttotal: 185ms\tremaining: 478ms\n",
      "279:\tlearn: 0.0627251\ttotal: 185ms\tremaining: 477ms\n",
      "280:\tlearn: 0.0623965\ttotal: 186ms\tremaining: 476ms\n",
      "281:\tlearn: 0.0620893\ttotal: 186ms\tremaining: 474ms\n",
      "282:\tlearn: 0.0616770\ttotal: 187ms\tremaining: 473ms\n",
      "283:\tlearn: 0.0613165\ttotal: 187ms\tremaining: 472ms\n",
      "284:\tlearn: 0.0609470\ttotal: 188ms\tremaining: 471ms\n",
      "285:\tlearn: 0.0605928\ttotal: 188ms\tremaining: 470ms\n",
      "286:\tlearn: 0.0603076\ttotal: 189ms\tremaining: 469ms\n",
      "287:\tlearn: 0.0599507\ttotal: 190ms\tremaining: 469ms\n",
      "288:\tlearn: 0.0596572\ttotal: 190ms\tremaining: 468ms\n",
      "289:\tlearn: 0.0592748\ttotal: 191ms\tremaining: 467ms\n",
      "290:\tlearn: 0.0588657\ttotal: 191ms\tremaining: 466ms\n",
      "291:\tlearn: 0.0585888\ttotal: 192ms\tremaining: 466ms\n",
      "292:\tlearn: 0.0582899\ttotal: 193ms\tremaining: 465ms\n",
      "293:\tlearn: 0.0579847\ttotal: 193ms\tremaining: 464ms\n",
      "294:\tlearn: 0.0576542\ttotal: 194ms\tremaining: 463ms\n",
      "295:\tlearn: 0.0573278\ttotal: 194ms\tremaining: 462ms\n",
      "296:\tlearn: 0.0569445\ttotal: 195ms\tremaining: 460ms\n",
      "297:\tlearn: 0.0565850\ttotal: 195ms\tremaining: 459ms\n",
      "298:\tlearn: 0.0562691\ttotal: 196ms\tremaining: 458ms\n",
      "299:\tlearn: 0.0560518\ttotal: 196ms\tremaining: 458ms\n",
      "300:\tlearn: 0.0557037\ttotal: 197ms\tremaining: 456ms\n",
      "301:\tlearn: 0.0554500\ttotal: 197ms\tremaining: 456ms\n",
      "302:\tlearn: 0.0551442\ttotal: 198ms\tremaining: 455ms\n",
      "303:\tlearn: 0.0548823\ttotal: 198ms\tremaining: 454ms\n",
      "304:\tlearn: 0.0545168\ttotal: 199ms\tremaining: 452ms\n",
      "305:\tlearn: 0.0543254\ttotal: 199ms\tremaining: 451ms\n",
      "306:\tlearn: 0.0541050\ttotal: 199ms\tremaining: 450ms\n",
      "307:\tlearn: 0.0538114\ttotal: 200ms\tremaining: 449ms\n",
      "308:\tlearn: 0.0535755\ttotal: 200ms\tremaining: 448ms\n",
      "309:\tlearn: 0.0532795\ttotal: 201ms\tremaining: 447ms\n",
      "310:\tlearn: 0.0530835\ttotal: 202ms\tremaining: 446ms\n",
      "311:\tlearn: 0.0528119\ttotal: 202ms\tremaining: 445ms\n",
      "312:\tlearn: 0.0525329\ttotal: 203ms\tremaining: 444ms\n",
      "313:\tlearn: 0.0523019\ttotal: 203ms\tremaining: 444ms\n",
      "314:\tlearn: 0.0520272\ttotal: 203ms\tremaining: 442ms\n",
      "315:\tlearn: 0.0517742\ttotal: 204ms\tremaining: 441ms\n",
      "316:\tlearn: 0.0515292\ttotal: 204ms\tremaining: 440ms\n",
      "317:\tlearn: 0.0513465\ttotal: 205ms\tremaining: 439ms\n",
      "318:\tlearn: 0.0510827\ttotal: 205ms\tremaining: 438ms\n",
      "319:\tlearn: 0.0508189\ttotal: 206ms\tremaining: 438ms\n",
      "320:\tlearn: 0.0506022\ttotal: 207ms\tremaining: 437ms\n",
      "321:\tlearn: 0.0503820\ttotal: 207ms\tremaining: 436ms\n",
      "322:\tlearn: 0.0501315\ttotal: 208ms\tremaining: 436ms\n",
      "323:\tlearn: 0.0498815\ttotal: 208ms\tremaining: 434ms\n",
      "324:\tlearn: 0.0496299\ttotal: 209ms\tremaining: 434ms\n",
      "325:\tlearn: 0.0494166\ttotal: 209ms\tremaining: 433ms\n",
      "326:\tlearn: 0.0492516\ttotal: 210ms\tremaining: 432ms\n",
      "327:\tlearn: 0.0490600\ttotal: 210ms\tremaining: 431ms\n",
      "328:\tlearn: 0.0488064\ttotal: 211ms\tremaining: 430ms\n",
      "329:\tlearn: 0.0486165\ttotal: 211ms\tremaining: 429ms\n",
      "330:\tlearn: 0.0483762\ttotal: 212ms\tremaining: 428ms\n",
      "331:\tlearn: 0.0481389\ttotal: 212ms\tremaining: 427ms\n",
      "332:\tlearn: 0.0479562\ttotal: 213ms\tremaining: 426ms\n",
      "333:\tlearn: 0.0477138\ttotal: 213ms\tremaining: 425ms\n",
      "334:\tlearn: 0.0475400\ttotal: 214ms\tremaining: 424ms\n",
      "335:\tlearn: 0.0473089\ttotal: 214ms\tremaining: 423ms\n",
      "336:\tlearn: 0.0470978\ttotal: 215ms\tremaining: 422ms\n",
      "337:\tlearn: 0.0469127\ttotal: 215ms\tremaining: 422ms\n",
      "338:\tlearn: 0.0467721\ttotal: 216ms\tremaining: 421ms\n",
      "339:\tlearn: 0.0465685\ttotal: 216ms\tremaining: 420ms\n",
      "340:\tlearn: 0.0463526\ttotal: 217ms\tremaining: 419ms\n",
      "341:\tlearn: 0.0461891\ttotal: 217ms\tremaining: 418ms\n",
      "342:\tlearn: 0.0459432\ttotal: 217ms\tremaining: 416ms\n",
      "343:\tlearn: 0.0457874\ttotal: 218ms\tremaining: 415ms\n",
      "344:\tlearn: 0.0456075\ttotal: 218ms\tremaining: 414ms\n",
      "345:\tlearn: 0.0453983\ttotal: 219ms\tremaining: 413ms\n",
      "346:\tlearn: 0.0451877\ttotal: 219ms\tremaining: 412ms\n"
     ]
    },
    {
     "name": "stdout",
     "output_type": "stream",
     "text": [
      "347:\tlearn: 0.0450590\ttotal: 220ms\tremaining: 412ms\n",
      "348:\tlearn: 0.0448608\ttotal: 220ms\tremaining: 411ms\n",
      "349:\tlearn: 0.0446679\ttotal: 221ms\tremaining: 411ms\n",
      "350:\tlearn: 0.0445301\ttotal: 222ms\tremaining: 410ms\n",
      "351:\tlearn: 0.0443775\ttotal: 222ms\tremaining: 409ms\n",
      "352:\tlearn: 0.0442262\ttotal: 223ms\tremaining: 408ms\n",
      "353:\tlearn: 0.0440283\ttotal: 223ms\tremaining: 407ms\n",
      "354:\tlearn: 0.0438467\ttotal: 224ms\tremaining: 407ms\n",
      "355:\tlearn: 0.0436386\ttotal: 224ms\tremaining: 406ms\n",
      "356:\tlearn: 0.0435204\ttotal: 225ms\tremaining: 405ms\n",
      "357:\tlearn: 0.0433266\ttotal: 225ms\tremaining: 404ms\n",
      "358:\tlearn: 0.0431055\ttotal: 226ms\tremaining: 403ms\n",
      "359:\tlearn: 0.0429853\ttotal: 226ms\tremaining: 402ms\n",
      "360:\tlearn: 0.0428723\ttotal: 226ms\tremaining: 401ms\n",
      "361:\tlearn: 0.0426740\ttotal: 227ms\tremaining: 400ms\n",
      "362:\tlearn: 0.0424885\ttotal: 227ms\tremaining: 399ms\n",
      "363:\tlearn: 0.0422104\ttotal: 228ms\tremaining: 398ms\n",
      "364:\tlearn: 0.0420958\ttotal: 228ms\tremaining: 397ms\n",
      "365:\tlearn: 0.0418897\ttotal: 229ms\tremaining: 397ms\n",
      "366:\tlearn: 0.0417833\ttotal: 230ms\tremaining: 396ms\n",
      "367:\tlearn: 0.0416721\ttotal: 230ms\tremaining: 395ms\n",
      "368:\tlearn: 0.0414684\ttotal: 231ms\tremaining: 394ms\n",
      "369:\tlearn: 0.0412810\ttotal: 231ms\tremaining: 393ms\n",
      "370:\tlearn: 0.0410848\ttotal: 232ms\tremaining: 392ms\n",
      "371:\tlearn: 0.0409661\ttotal: 232ms\tremaining: 392ms\n",
      "372:\tlearn: 0.0407955\ttotal: 232ms\tremaining: 391ms\n",
      "373:\tlearn: 0.0406174\ttotal: 233ms\tremaining: 390ms\n",
      "374:\tlearn: 0.0404417\ttotal: 233ms\tremaining: 389ms\n",
      "375:\tlearn: 0.0402685\ttotal: 234ms\tremaining: 388ms\n",
      "376:\tlearn: 0.0400946\ttotal: 234ms\tremaining: 387ms\n",
      "377:\tlearn: 0.0399100\ttotal: 235ms\tremaining: 387ms\n",
      "378:\tlearn: 0.0397429\ttotal: 235ms\tremaining: 386ms\n",
      "379:\tlearn: 0.0395494\ttotal: 236ms\tremaining: 385ms\n",
      "380:\tlearn: 0.0393167\ttotal: 237ms\tremaining: 384ms\n",
      "381:\tlearn: 0.0392007\ttotal: 237ms\tremaining: 383ms\n",
      "382:\tlearn: 0.0390424\ttotal: 238ms\tremaining: 383ms\n",
      "383:\tlearn: 0.0388804\ttotal: 238ms\tremaining: 382ms\n",
      "384:\tlearn: 0.0387260\ttotal: 238ms\tremaining: 381ms\n",
      "385:\tlearn: 0.0385698\ttotal: 239ms\tremaining: 380ms\n",
      "386:\tlearn: 0.0384029\ttotal: 239ms\tremaining: 379ms\n",
      "387:\tlearn: 0.0382452\ttotal: 240ms\tremaining: 378ms\n",
      "388:\tlearn: 0.0380969\ttotal: 240ms\tremaining: 377ms\n",
      "389:\tlearn: 0.0379453\ttotal: 241ms\tremaining: 377ms\n",
      "390:\tlearn: 0.0377712\ttotal: 241ms\tremaining: 376ms\n",
      "391:\tlearn: 0.0376557\ttotal: 242ms\tremaining: 375ms\n",
      "392:\tlearn: 0.0375151\ttotal: 242ms\tremaining: 374ms\n",
      "393:\tlearn: 0.0373656\ttotal: 243ms\tremaining: 373ms\n",
      "394:\tlearn: 0.0372622\ttotal: 243ms\tremaining: 373ms\n",
      "395:\tlearn: 0.0371177\ttotal: 244ms\tremaining: 372ms\n",
      "396:\tlearn: 0.0369710\ttotal: 244ms\tremaining: 371ms\n",
      "397:\tlearn: 0.0367946\ttotal: 245ms\tremaining: 370ms\n",
      "398:\tlearn: 0.0367061\ttotal: 245ms\tremaining: 369ms\n",
      "399:\tlearn: 0.0365684\ttotal: 246ms\tremaining: 369ms\n",
      "400:\tlearn: 0.0364197\ttotal: 246ms\tremaining: 368ms\n",
      "401:\tlearn: 0.0362458\ttotal: 247ms\tremaining: 367ms\n",
      "402:\tlearn: 0.0361604\ttotal: 247ms\tremaining: 366ms\n",
      "403:\tlearn: 0.0360154\ttotal: 248ms\tremaining: 365ms\n",
      "404:\tlearn: 0.0358523\ttotal: 248ms\tremaining: 364ms\n",
      "405:\tlearn: 0.0357162\ttotal: 248ms\tremaining: 363ms\n",
      "406:\tlearn: 0.0356340\ttotal: 249ms\tremaining: 362ms\n",
      "407:\tlearn: 0.0354939\ttotal: 249ms\tremaining: 362ms\n",
      "408:\tlearn: 0.0354134\ttotal: 250ms\tremaining: 361ms\n",
      "409:\tlearn: 0.0353428\ttotal: 250ms\tremaining: 360ms\n",
      "410:\tlearn: 0.0352729\ttotal: 251ms\tremaining: 359ms\n",
      "411:\tlearn: 0.0351124\ttotal: 251ms\tremaining: 359ms\n",
      "412:\tlearn: 0.0348514\ttotal: 252ms\tremaining: 358ms\n",
      "413:\tlearn: 0.0347246\ttotal: 252ms\tremaining: 357ms\n",
      "414:\tlearn: 0.0346001\ttotal: 253ms\tremaining: 356ms\n",
      "415:\tlearn: 0.0345160\ttotal: 253ms\tremaining: 356ms\n",
      "416:\tlearn: 0.0343843\ttotal: 254ms\tremaining: 355ms\n",
      "417:\tlearn: 0.0341295\ttotal: 254ms\tremaining: 354ms\n",
      "418:\tlearn: 0.0340561\ttotal: 255ms\tremaining: 353ms\n",
      "419:\tlearn: 0.0339376\ttotal: 255ms\tremaining: 352ms\n",
      "420:\tlearn: 0.0338213\ttotal: 256ms\tremaining: 352ms\n",
      "421:\tlearn: 0.0337588\ttotal: 256ms\tremaining: 351ms\n",
      "422:\tlearn: 0.0336452\ttotal: 257ms\tremaining: 350ms\n",
      "423:\tlearn: 0.0335337\ttotal: 257ms\tremaining: 349ms\n",
      "424:\tlearn: 0.0332911\ttotal: 258ms\tremaining: 349ms\n",
      "425:\tlearn: 0.0332229\ttotal: 258ms\tremaining: 348ms\n",
      "426:\tlearn: 0.0330774\ttotal: 259ms\tremaining: 347ms\n",
      "427:\tlearn: 0.0330187\ttotal: 259ms\tremaining: 346ms\n",
      "428:\tlearn: 0.0329164\ttotal: 260ms\tremaining: 346ms\n",
      "429:\tlearn: 0.0326978\ttotal: 260ms\tremaining: 345ms\n",
      "430:\tlearn: 0.0325223\ttotal: 260ms\tremaining: 344ms\n",
      "431:\tlearn: 0.0323161\ttotal: 261ms\tremaining: 343ms\n",
      "432:\tlearn: 0.0322522\ttotal: 261ms\tremaining: 342ms\n",
      "433:\tlearn: 0.0321969\ttotal: 262ms\tremaining: 342ms\n",
      "434:\tlearn: 0.0319884\ttotal: 262ms\tremaining: 341ms\n",
      "435:\tlearn: 0.0319343\ttotal: 263ms\tremaining: 340ms\n",
      "436:\tlearn: 0.0317042\ttotal: 263ms\tremaining: 339ms\n",
      "437:\tlearn: 0.0315082\ttotal: 264ms\tremaining: 338ms\n",
      "438:\tlearn: 0.0314557\ttotal: 264ms\tremaining: 338ms\n",
      "439:\tlearn: 0.0312637\ttotal: 265ms\tremaining: 337ms\n",
      "440:\tlearn: 0.0310421\ttotal: 265ms\tremaining: 336ms\n",
      "441:\tlearn: 0.0309911\ttotal: 265ms\tremaining: 335ms\n",
      "442:\tlearn: 0.0307744\ttotal: 266ms\tremaining: 335ms\n",
      "443:\tlearn: 0.0306158\ttotal: 267ms\tremaining: 334ms\n",
      "444:\tlearn: 0.0304323\ttotal: 267ms\tremaining: 333ms\n",
      "445:\tlearn: 0.0302233\ttotal: 268ms\tremaining: 332ms\n",
      "446:\tlearn: 0.0300962\ttotal: 268ms\tremaining: 332ms\n",
      "447:\tlearn: 0.0299189\ttotal: 269ms\tremaining: 331ms\n",
      "448:\tlearn: 0.0297171\ttotal: 269ms\tremaining: 330ms\n",
      "449:\tlearn: 0.0295445\ttotal: 269ms\tremaining: 329ms\n",
      "450:\tlearn: 0.0293483\ttotal: 270ms\tremaining: 329ms\n",
      "451:\tlearn: 0.0292271\ttotal: 270ms\tremaining: 328ms\n",
      "452:\tlearn: 0.0290358\ttotal: 271ms\tremaining: 327ms\n",
      "453:\tlearn: 0.0288669\ttotal: 271ms\tremaining: 326ms\n",
      "454:\tlearn: 0.0286607\ttotal: 272ms\tremaining: 326ms\n",
      "455:\tlearn: 0.0284984\ttotal: 272ms\tremaining: 325ms\n",
      "456:\tlearn: 0.0283174\ttotal: 273ms\tremaining: 324ms\n",
      "457:\tlearn: 0.0282564\ttotal: 273ms\tremaining: 324ms\n",
      "458:\tlearn: 0.0280961\ttotal: 274ms\tremaining: 323ms\n",
      "459:\tlearn: 0.0279236\ttotal: 274ms\tremaining: 322ms\n",
      "460:\tlearn: 0.0277554\ttotal: 275ms\tremaining: 321ms\n",
      "461:\tlearn: 0.0275912\ttotal: 275ms\tremaining: 320ms\n",
      "462:\tlearn: 0.0275343\ttotal: 276ms\tremaining: 320ms\n",
      "463:\tlearn: 0.0273749\ttotal: 276ms\tremaining: 319ms\n",
      "464:\tlearn: 0.0272247\ttotal: 276ms\tremaining: 318ms\n",
      "465:\tlearn: 0.0271034\ttotal: 277ms\tremaining: 317ms\n",
      "466:\tlearn: 0.0269411\ttotal: 277ms\tremaining: 317ms\n",
      "467:\tlearn: 0.0267965\ttotal: 278ms\tremaining: 316ms\n",
      "468:\tlearn: 0.0267434\ttotal: 278ms\tremaining: 315ms\n",
      "469:\tlearn: 0.0266911\ttotal: 279ms\tremaining: 315ms\n",
      "470:\tlearn: 0.0266387\ttotal: 279ms\tremaining: 314ms\n",
      "471:\tlearn: 0.0265285\ttotal: 280ms\tremaining: 313ms\n",
      "472:\tlearn: 0.0264776\ttotal: 280ms\tremaining: 312ms\n",
      "473:\tlearn: 0.0263379\ttotal: 281ms\tremaining: 312ms\n",
      "474:\tlearn: 0.0262307\ttotal: 281ms\tremaining: 311ms\n",
      "475:\tlearn: 0.0261810\ttotal: 282ms\tremaining: 310ms\n",
      "476:\tlearn: 0.0260758\ttotal: 282ms\tremaining: 310ms\n",
      "477:\tlearn: 0.0260293\ttotal: 283ms\tremaining: 309ms\n",
      "478:\tlearn: 0.0258767\ttotal: 283ms\tremaining: 308ms\n",
      "479:\tlearn: 0.0258310\ttotal: 284ms\tremaining: 307ms\n",
      "480:\tlearn: 0.0257859\ttotal: 284ms\tremaining: 307ms\n",
      "481:\tlearn: 0.0256534\ttotal: 285ms\tremaining: 306ms\n",
      "482:\tlearn: 0.0255525\ttotal: 285ms\tremaining: 305ms\n",
      "483:\tlearn: 0.0255085\ttotal: 286ms\tremaining: 304ms\n",
      "484:\tlearn: 0.0253614\ttotal: 286ms\tremaining: 304ms\n",
      "485:\tlearn: 0.0252601\ttotal: 286ms\tremaining: 303ms\n",
      "486:\tlearn: 0.0252171\ttotal: 287ms\tremaining: 302ms\n",
      "487:\tlearn: 0.0251747\ttotal: 288ms\tremaining: 302ms\n",
      "488:\tlearn: 0.0251328\ttotal: 288ms\tremaining: 301ms\n",
      "489:\tlearn: 0.0250949\ttotal: 289ms\tremaining: 300ms\n",
      "490:\tlearn: 0.0249365\ttotal: 289ms\tremaining: 300ms\n",
      "491:\tlearn: 0.0248958\ttotal: 289ms\tremaining: 299ms\n",
      "492:\tlearn: 0.0247606\ttotal: 290ms\tremaining: 298ms\n",
      "493:\tlearn: 0.0246379\ttotal: 290ms\tremaining: 298ms\n",
      "494:\tlearn: 0.0245162\ttotal: 291ms\tremaining: 297ms\n",
      "495:\tlearn: 0.0244213\ttotal: 291ms\tremaining: 296ms\n",
      "496:\tlearn: 0.0243854\ttotal: 292ms\tremaining: 295ms\n",
      "497:\tlearn: 0.0242504\ttotal: 292ms\tremaining: 295ms\n",
      "498:\tlearn: 0.0241215\ttotal: 293ms\tremaining: 294ms\n",
      "499:\tlearn: 0.0240065\ttotal: 293ms\tremaining: 293ms\n",
      "500:\tlearn: 0.0238627\ttotal: 294ms\tremaining: 292ms\n",
      "501:\tlearn: 0.0237385\ttotal: 294ms\tremaining: 292ms\n",
      "502:\tlearn: 0.0237003\ttotal: 295ms\tremaining: 291ms\n",
      "503:\tlearn: 0.0235900\ttotal: 295ms\tremaining: 290ms\n",
      "504:\tlearn: 0.0234444\ttotal: 296ms\tremaining: 290ms\n",
      "505:\tlearn: 0.0234071\ttotal: 296ms\tremaining: 289ms\n",
      "506:\tlearn: 0.0233703\ttotal: 297ms\tremaining: 288ms\n",
      "507:\tlearn: 0.0232660\ttotal: 297ms\tremaining: 288ms\n",
      "508:\tlearn: 0.0231384\ttotal: 298ms\tremaining: 287ms\n",
      "509:\tlearn: 0.0230504\ttotal: 298ms\tremaining: 286ms\n",
      "510:\tlearn: 0.0229869\ttotal: 298ms\tremaining: 286ms\n",
      "511:\tlearn: 0.0228677\ttotal: 299ms\tremaining: 285ms\n",
      "512:\tlearn: 0.0227505\ttotal: 299ms\tremaining: 284ms\n",
      "513:\tlearn: 0.0226367\ttotal: 300ms\tremaining: 284ms\n",
      "514:\tlearn: 0.0226020\ttotal: 300ms\tremaining: 283ms\n",
      "515:\tlearn: 0.0225677\ttotal: 301ms\tremaining: 282ms\n",
      "516:\tlearn: 0.0225339\ttotal: 301ms\tremaining: 282ms\n",
      "517:\tlearn: 0.0224250\ttotal: 302ms\tremaining: 281ms\n",
      "518:\tlearn: 0.0223079\ttotal: 303ms\tremaining: 280ms\n",
      "519:\tlearn: 0.0222410\ttotal: 303ms\tremaining: 280ms\n",
      "520:\tlearn: 0.0221435\ttotal: 303ms\tremaining: 279ms\n",
      "521:\tlearn: 0.0220827\ttotal: 304ms\tremaining: 278ms\n",
      "522:\tlearn: 0.0220483\ttotal: 304ms\tremaining: 278ms\n",
      "523:\tlearn: 0.0220144\ttotal: 305ms\tremaining: 277ms\n",
      "524:\tlearn: 0.0219175\ttotal: 305ms\tremaining: 276ms\n",
      "525:\tlearn: 0.0218842\ttotal: 306ms\tremaining: 276ms\n",
      "526:\tlearn: 0.0218514\ttotal: 306ms\tremaining: 275ms\n",
      "527:\tlearn: 0.0218191\ttotal: 307ms\tremaining: 274ms\n",
      "528:\tlearn: 0.0217151\ttotal: 307ms\tremaining: 273ms\n",
      "529:\tlearn: 0.0216833\ttotal: 307ms\tremaining: 273ms\n",
      "530:\tlearn: 0.0215380\ttotal: 308ms\tremaining: 272ms\n",
      "531:\tlearn: 0.0214820\ttotal: 308ms\tremaining: 271ms\n",
      "532:\tlearn: 0.0213402\ttotal: 309ms\tremaining: 271ms\n",
      "533:\tlearn: 0.0212017\ttotal: 309ms\tremaining: 270ms\n",
      "534:\tlearn: 0.0211713\ttotal: 310ms\tremaining: 270ms\n",
      "535:\tlearn: 0.0210811\ttotal: 311ms\tremaining: 269ms\n",
      "536:\tlearn: 0.0210512\ttotal: 311ms\tremaining: 268ms\n",
      "537:\tlearn: 0.0210217\ttotal: 311ms\tremaining: 267ms\n",
      "538:\tlearn: 0.0209686\ttotal: 312ms\tremaining: 267ms\n",
      "539:\tlearn: 0.0208806\ttotal: 312ms\tremaining: 266ms\n",
      "540:\tlearn: 0.0208287\ttotal: 313ms\tremaining: 265ms\n",
      "541:\tlearn: 0.0207327\ttotal: 313ms\tremaining: 265ms\n",
      "542:\tlearn: 0.0206704\ttotal: 314ms\tremaining: 264ms\n",
      "543:\tlearn: 0.0205974\ttotal: 315ms\tremaining: 264ms\n",
      "544:\tlearn: 0.0205474\ttotal: 315ms\tremaining: 263ms\n",
      "545:\tlearn: 0.0204548\ttotal: 316ms\tremaining: 262ms\n",
      "546:\tlearn: 0.0204275\ttotal: 316ms\tremaining: 262ms\n",
      "547:\tlearn: 0.0203561\ttotal: 317ms\tremaining: 261ms\n",
      "548:\tlearn: 0.0203293\ttotal: 318ms\tremaining: 261ms\n",
      "549:\tlearn: 0.0202588\ttotal: 318ms\tremaining: 260ms\n"
     ]
    },
    {
     "name": "stdout",
     "output_type": "stream",
     "text": [
      "550:\tlearn: 0.0201890\ttotal: 319ms\tremaining: 260ms\n",
      "551:\tlearn: 0.0201628\ttotal: 320ms\tremaining: 259ms\n",
      "552:\tlearn: 0.0200738\ttotal: 320ms\tremaining: 259ms\n",
      "553:\tlearn: 0.0200272\ttotal: 321ms\tremaining: 258ms\n",
      "554:\tlearn: 0.0199589\ttotal: 321ms\tremaining: 257ms\n",
      "555:\tlearn: 0.0199016\ttotal: 322ms\tremaining: 257ms\n",
      "556:\tlearn: 0.0198346\ttotal: 322ms\tremaining: 256ms\n",
      "557:\tlearn: 0.0198096\ttotal: 323ms\tremaining: 256ms\n",
      "558:\tlearn: 0.0197849\ttotal: 323ms\tremaining: 255ms\n",
      "559:\tlearn: 0.0197606\ttotal: 324ms\tremaining: 254ms\n",
      "560:\tlearn: 0.0196951\ttotal: 324ms\tremaining: 254ms\n",
      "561:\tlearn: 0.0196613\ttotal: 325ms\tremaining: 253ms\n",
      "562:\tlearn: 0.0196377\ttotal: 325ms\tremaining: 253ms\n",
      "563:\tlearn: 0.0195553\ttotal: 326ms\tremaining: 252ms\n",
      "564:\tlearn: 0.0194951\ttotal: 326ms\tremaining: 251ms\n",
      "565:\tlearn: 0.0194627\ttotal: 327ms\tremaining: 250ms\n",
      "566:\tlearn: 0.0193862\ttotal: 327ms\tremaining: 250ms\n",
      "567:\tlearn: 0.0193275\ttotal: 328ms\tremaining: 249ms\n",
      "568:\tlearn: 0.0192961\ttotal: 328ms\tremaining: 248ms\n",
      "569:\tlearn: 0.0192343\ttotal: 328ms\tremaining: 248ms\n",
      "570:\tlearn: 0.0191769\ttotal: 329ms\tremaining: 247ms\n",
      "571:\tlearn: 0.0191418\ttotal: 329ms\tremaining: 246ms\n",
      "572:\tlearn: 0.0191115\ttotal: 330ms\tremaining: 246ms\n",
      "573:\tlearn: 0.0190512\ttotal: 331ms\tremaining: 245ms\n",
      "574:\tlearn: 0.0190169\ttotal: 332ms\tremaining: 245ms\n",
      "575:\tlearn: 0.0189608\ttotal: 332ms\tremaining: 245ms\n",
      "576:\tlearn: 0.0189269\ttotal: 333ms\tremaining: 244ms\n",
      "577:\tlearn: 0.0188718\ttotal: 333ms\tremaining: 243ms\n",
      "578:\tlearn: 0.0188384\ttotal: 334ms\tremaining: 243ms\n",
      "579:\tlearn: 0.0187843\ttotal: 334ms\tremaining: 242ms\n",
      "580:\tlearn: 0.0187513\ttotal: 335ms\tremaining: 241ms\n",
      "581:\tlearn: 0.0186982\ttotal: 335ms\tremaining: 241ms\n",
      "582:\tlearn: 0.0185984\ttotal: 336ms\tremaining: 240ms\n",
      "583:\tlearn: 0.0185004\ttotal: 336ms\tremaining: 240ms\n",
      "584:\tlearn: 0.0184040\ttotal: 337ms\tremaining: 239ms\n",
      "585:\tlearn: 0.0183092\ttotal: 338ms\tremaining: 238ms\n",
      "586:\tlearn: 0.0182204\ttotal: 338ms\tremaining: 238ms\n",
      "587:\tlearn: 0.0181695\ttotal: 339ms\tremaining: 237ms\n",
      "588:\tlearn: 0.0181012\ttotal: 339ms\tremaining: 237ms\n",
      "589:\tlearn: 0.0180695\ttotal: 340ms\tremaining: 236ms\n",
      "590:\tlearn: 0.0180194\ttotal: 340ms\tremaining: 236ms\n",
      "591:\tlearn: 0.0179423\ttotal: 341ms\tremaining: 235ms\n",
      "592:\tlearn: 0.0179111\ttotal: 342ms\tremaining: 234ms\n",
      "593:\tlearn: 0.0178623\ttotal: 342ms\tremaining: 234ms\n",
      "594:\tlearn: 0.0177876\ttotal: 343ms\tremaining: 233ms\n",
      "595:\tlearn: 0.0177222\ttotal: 343ms\tremaining: 233ms\n",
      "596:\tlearn: 0.0176917\ttotal: 344ms\tremaining: 232ms\n",
      "597:\tlearn: 0.0176616\ttotal: 344ms\tremaining: 231ms\n",
      "598:\tlearn: 0.0176139\ttotal: 345ms\tremaining: 231ms\n",
      "599:\tlearn: 0.0175524\ttotal: 345ms\tremaining: 230ms\n",
      "600:\tlearn: 0.0175229\ttotal: 346ms\tremaining: 230ms\n",
      "601:\tlearn: 0.0174480\ttotal: 347ms\tremaining: 229ms\n",
      "602:\tlearn: 0.0173842\ttotal: 347ms\tremaining: 229ms\n",
      "603:\tlearn: 0.0173583\ttotal: 348ms\tremaining: 228ms\n",
      "604:\tlearn: 0.0172549\ttotal: 348ms\tremaining: 227ms\n",
      "605:\tlearn: 0.0171931\ttotal: 349ms\tremaining: 227ms\n",
      "606:\tlearn: 0.0171476\ttotal: 349ms\tremaining: 226ms\n",
      "607:\tlearn: 0.0170605\ttotal: 350ms\tremaining: 226ms\n",
      "608:\tlearn: 0.0169748\ttotal: 350ms\tremaining: 225ms\n",
      "609:\tlearn: 0.0168926\ttotal: 351ms\tremaining: 224ms\n",
      "610:\tlearn: 0.0168586\ttotal: 351ms\tremaining: 224ms\n",
      "611:\tlearn: 0.0168304\ttotal: 352ms\tremaining: 223ms\n",
      "612:\tlearn: 0.0167969\ttotal: 352ms\tremaining: 222ms\n",
      "613:\tlearn: 0.0167361\ttotal: 353ms\tremaining: 222ms\n",
      "614:\tlearn: 0.0166776\ttotal: 354ms\tremaining: 221ms\n",
      "615:\tlearn: 0.0165983\ttotal: 354ms\tremaining: 221ms\n",
      "616:\tlearn: 0.0165554\ttotal: 355ms\tremaining: 220ms\n",
      "617:\tlearn: 0.0165233\ttotal: 355ms\tremaining: 220ms\n",
      "618:\tlearn: 0.0164644\ttotal: 356ms\tremaining: 219ms\n",
      "619:\tlearn: 0.0164066\ttotal: 356ms\tremaining: 218ms\n",
      "620:\tlearn: 0.0163335\ttotal: 357ms\tremaining: 218ms\n",
      "621:\tlearn: 0.0162853\ttotal: 357ms\tremaining: 217ms\n",
      "622:\tlearn: 0.0162195\ttotal: 358ms\tremaining: 217ms\n",
      "623:\tlearn: 0.0161730\ttotal: 358ms\tremaining: 216ms\n",
      "624:\tlearn: 0.0161260\ttotal: 359ms\tremaining: 215ms\n",
      "625:\tlearn: 0.0160800\ttotal: 360ms\tremaining: 215ms\n",
      "626:\tlearn: 0.0160162\ttotal: 360ms\tremaining: 214ms\n",
      "627:\tlearn: 0.0159707\ttotal: 361ms\tremaining: 214ms\n",
      "628:\tlearn: 0.0159260\ttotal: 361ms\tremaining: 213ms\n",
      "629:\tlearn: 0.0158647\ttotal: 362ms\tremaining: 213ms\n",
      "630:\tlearn: 0.0158050\ttotal: 362ms\tremaining: 212ms\n",
      "631:\tlearn: 0.0157546\ttotal: 363ms\tremaining: 211ms\n",
      "632:\tlearn: 0.0157205\ttotal: 363ms\tremaining: 211ms\n",
      "633:\tlearn: 0.0156871\ttotal: 364ms\tremaining: 210ms\n",
      "634:\tlearn: 0.0156377\ttotal: 364ms\tremaining: 209ms\n",
      "635:\tlearn: 0.0156050\ttotal: 365ms\tremaining: 209ms\n",
      "636:\tlearn: 0.0155622\ttotal: 365ms\tremaining: 208ms\n",
      "637:\tlearn: 0.0155300\ttotal: 366ms\tremaining: 208ms\n",
      "638:\tlearn: 0.0154822\ttotal: 367ms\tremaining: 207ms\n",
      "639:\tlearn: 0.0154506\ttotal: 367ms\tremaining: 207ms\n",
      "640:\tlearn: 0.0154197\ttotal: 368ms\tremaining: 206ms\n",
      "641:\tlearn: 0.0153781\ttotal: 369ms\tremaining: 205ms\n",
      "642:\tlearn: 0.0153477\ttotal: 369ms\tremaining: 205ms\n",
      "643:\tlearn: 0.0152907\ttotal: 370ms\tremaining: 204ms\n",
      "644:\tlearn: 0.0152608\ttotal: 370ms\tremaining: 204ms\n",
      "645:\tlearn: 0.0152150\ttotal: 371ms\tremaining: 203ms\n",
      "646:\tlearn: 0.0151858\ttotal: 371ms\tremaining: 202ms\n",
      "647:\tlearn: 0.0151571\ttotal: 372ms\tremaining: 202ms\n",
      "648:\tlearn: 0.0150749\ttotal: 372ms\tremaining: 201ms\n",
      "649:\tlearn: 0.0150219\ttotal: 373ms\tremaining: 201ms\n",
      "650:\tlearn: 0.0149973\ttotal: 373ms\tremaining: 200ms\n",
      "651:\tlearn: 0.0149456\ttotal: 374ms\tremaining: 199ms\n",
      "652:\tlearn: 0.0149183\ttotal: 374ms\tremaining: 199ms\n",
      "653:\tlearn: 0.0148384\ttotal: 375ms\tremaining: 198ms\n",
      "654:\tlearn: 0.0147878\ttotal: 375ms\tremaining: 198ms\n",
      "655:\tlearn: 0.0147388\ttotal: 376ms\tremaining: 197ms\n",
      "656:\tlearn: 0.0146812\ttotal: 376ms\tremaining: 197ms\n",
      "657:\tlearn: 0.0146335\ttotal: 377ms\tremaining: 196ms\n",
      "658:\tlearn: 0.0145858\ttotal: 378ms\tremaining: 195ms\n",
      "659:\tlearn: 0.0145615\ttotal: 378ms\tremaining: 195ms\n",
      "660:\tlearn: 0.0145157\ttotal: 379ms\tremaining: 194ms\n",
      "661:\tlearn: 0.0144721\ttotal: 379ms\tremaining: 194ms\n",
      "662:\tlearn: 0.0144295\ttotal: 380ms\tremaining: 193ms\n",
      "663:\tlearn: 0.0143972\ttotal: 380ms\tremaining: 192ms\n",
      "664:\tlearn: 0.0143555\ttotal: 381ms\tremaining: 192ms\n",
      "665:\tlearn: 0.0143287\ttotal: 381ms\tremaining: 191ms\n",
      "666:\tlearn: 0.0142734\ttotal: 382ms\tremaining: 191ms\n"
     ]
    },
    {
     "name": "stdout",
     "output_type": "stream",
     "text": [
      "667:\tlearn: 0.0142286\ttotal: 383ms\tremaining: 190ms\n",
      "668:\tlearn: 0.0141850\ttotal: 384ms\tremaining: 190ms\n",
      "669:\tlearn: 0.0141310\ttotal: 384ms\tremaining: 189ms\n",
      "670:\tlearn: 0.0140890\ttotal: 385ms\tremaining: 189ms\n",
      "671:\tlearn: 0.0140652\ttotal: 385ms\tremaining: 188ms\n",
      "672:\tlearn: 0.0140267\ttotal: 386ms\tremaining: 188ms\n",
      "673:\tlearn: 0.0139849\ttotal: 387ms\tremaining: 187ms\n",
      "674:\tlearn: 0.0139314\ttotal: 387ms\tremaining: 186ms\n",
      "675:\tlearn: 0.0138946\ttotal: 388ms\tremaining: 186ms\n",
      "676:\tlearn: 0.0138576\ttotal: 389ms\tremaining: 185ms\n",
      "677:\tlearn: 0.0138165\ttotal: 389ms\tremaining: 185ms\n",
      "678:\tlearn: 0.0137618\ttotal: 390ms\tremaining: 184ms\n",
      "679:\tlearn: 0.0137266\ttotal: 390ms\tremaining: 184ms\n",
      "680:\tlearn: 0.0136732\ttotal: 391ms\tremaining: 183ms\n",
      "681:\tlearn: 0.0136208\ttotal: 392ms\tremaining: 183ms\n",
      "682:\tlearn: 0.0135829\ttotal: 392ms\tremaining: 182ms\n",
      "683:\tlearn: 0.0135320\ttotal: 393ms\tremaining: 182ms\n",
      "684:\tlearn: 0.0134824\ttotal: 394ms\tremaining: 181ms\n",
      "685:\tlearn: 0.0134604\ttotal: 394ms\tremaining: 180ms\n",
      "686:\tlearn: 0.0134121\ttotal: 394ms\tremaining: 180ms\n",
      "687:\tlearn: 0.0133905\ttotal: 395ms\tremaining: 179ms\n",
      "688:\tlearn: 0.0133410\ttotal: 395ms\tremaining: 178ms\n",
      "689:\tlearn: 0.0133196\ttotal: 396ms\tremaining: 178ms\n",
      "690:\tlearn: 0.0132830\ttotal: 396ms\tremaining: 177ms\n",
      "691:\tlearn: 0.0132365\ttotal: 397ms\tremaining: 177ms\n",
      "692:\tlearn: 0.0132155\ttotal: 397ms\tremaining: 176ms\n",
      "693:\tlearn: 0.0131937\ttotal: 398ms\tremaining: 175ms\n",
      "694:\tlearn: 0.0131492\ttotal: 398ms\tremaining: 175ms\n",
      "695:\tlearn: 0.0131136\ttotal: 399ms\tremaining: 174ms\n",
      "696:\tlearn: 0.0130879\ttotal: 400ms\tremaining: 174ms\n",
      "697:\tlearn: 0.0130671\ttotal: 400ms\tremaining: 173ms\n",
      "698:\tlearn: 0.0130465\ttotal: 401ms\tremaining: 172ms\n",
      "699:\tlearn: 0.0129917\ttotal: 401ms\tremaining: 172ms\n",
      "700:\tlearn: 0.0129670\ttotal: 402ms\tremaining: 171ms\n",
      "701:\tlearn: 0.0129189\ttotal: 402ms\tremaining: 171ms\n",
      "702:\tlearn: 0.0128988\ttotal: 403ms\tremaining: 170ms\n",
      "703:\tlearn: 0.0128457\ttotal: 403ms\tremaining: 170ms\n",
      "704:\tlearn: 0.0128256\ttotal: 404ms\tremaining: 169ms\n",
      "705:\tlearn: 0.0127788\ttotal: 404ms\tremaining: 168ms\n",
      "706:\tlearn: 0.0127270\ttotal: 405ms\tremaining: 168ms\n",
      "707:\tlearn: 0.0127109\ttotal: 406ms\tremaining: 167ms\n",
      "708:\tlearn: 0.0126681\ttotal: 406ms\tremaining: 167ms\n",
      "709:\tlearn: 0.0126355\ttotal: 407ms\tremaining: 166ms\n",
      "710:\tlearn: 0.0126035\ttotal: 407ms\tremaining: 165ms\n",
      "711:\tlearn: 0.0125539\ttotal: 408ms\tremaining: 165ms\n",
      "712:\tlearn: 0.0125054\ttotal: 408ms\tremaining: 164ms\n",
      "713:\tlearn: 0.0124674\ttotal: 409ms\tremaining: 164ms\n",
      "714:\tlearn: 0.0124132\ttotal: 409ms\tremaining: 163ms\n",
      "715:\tlearn: 0.0123603\ttotal: 409ms\tremaining: 162ms\n",
      "716:\tlearn: 0.0123247\ttotal: 410ms\tremaining: 162ms\n",
      "717:\tlearn: 0.0122853\ttotal: 410ms\tremaining: 161ms\n",
      "718:\tlearn: 0.0122419\ttotal: 411ms\tremaining: 161ms\n",
      "719:\tlearn: 0.0121930\ttotal: 411ms\tremaining: 160ms\n",
      "720:\tlearn: 0.0121528\ttotal: 412ms\tremaining: 159ms\n",
      "721:\tlearn: 0.0121221\ttotal: 413ms\tremaining: 159ms\n",
      "722:\tlearn: 0.0120920\ttotal: 413ms\tremaining: 158ms\n",
      "723:\tlearn: 0.0120462\ttotal: 414ms\tremaining: 158ms\n",
      "724:\tlearn: 0.0119959\ttotal: 414ms\tremaining: 157ms\n",
      "725:\tlearn: 0.0119584\ttotal: 415ms\tremaining: 156ms\n",
      "726:\tlearn: 0.0119256\ttotal: 415ms\tremaining: 156ms\n",
      "727:\tlearn: 0.0118887\ttotal: 416ms\tremaining: 155ms\n",
      "728:\tlearn: 0.0118469\ttotal: 416ms\tremaining: 155ms\n",
      "729:\tlearn: 0.0118148\ttotal: 417ms\tremaining: 154ms\n",
      "730:\tlearn: 0.0117704\ttotal: 417ms\tremaining: 154ms\n",
      "731:\tlearn: 0.0117409\ttotal: 418ms\tremaining: 153ms\n",
      "732:\tlearn: 0.0116830\ttotal: 418ms\tremaining: 152ms\n",
      "733:\tlearn: 0.0116512\ttotal: 419ms\tremaining: 152ms\n",
      "734:\tlearn: 0.0116224\ttotal: 420ms\tremaining: 151ms\n",
      "735:\tlearn: 0.0115661\ttotal: 420ms\tremaining: 151ms\n",
      "736:\tlearn: 0.0115272\ttotal: 421ms\tremaining: 150ms\n",
      "737:\tlearn: 0.0114832\ttotal: 421ms\tremaining: 150ms\n",
      "738:\tlearn: 0.0114551\ttotal: 422ms\tremaining: 149ms\n",
      "739:\tlearn: 0.0114005\ttotal: 422ms\tremaining: 148ms\n",
      "740:\tlearn: 0.0113576\ttotal: 423ms\tremaining: 148ms\n",
      "741:\tlearn: 0.0113300\ttotal: 423ms\tremaining: 147ms\n",
      "742:\tlearn: 0.0112816\ttotal: 424ms\tremaining: 147ms\n",
      "743:\tlearn: 0.0112396\ttotal: 424ms\tremaining: 146ms\n",
      "744:\tlearn: 0.0111940\ttotal: 425ms\tremaining: 145ms\n",
      "745:\tlearn: 0.0111513\ttotal: 425ms\tremaining: 145ms\n",
      "746:\tlearn: 0.0111212\ttotal: 426ms\tremaining: 144ms\n",
      "747:\tlearn: 0.0110801\ttotal: 426ms\tremaining: 144ms\n",
      "748:\tlearn: 0.0110354\ttotal: 427ms\tremaining: 143ms\n",
      "749:\tlearn: 0.0109839\ttotal: 427ms\tremaining: 142ms\n",
      "750:\tlearn: 0.0109425\ttotal: 428ms\tremaining: 142ms\n",
      "751:\tlearn: 0.0108924\ttotal: 429ms\tremaining: 141ms\n",
      "752:\tlearn: 0.0108520\ttotal: 429ms\tremaining: 141ms\n",
      "753:\tlearn: 0.0108240\ttotal: 430ms\tremaining: 140ms\n",
      "754:\tlearn: 0.0107791\ttotal: 430ms\tremaining: 140ms\n",
      "755:\tlearn: 0.0107398\ttotal: 431ms\tremaining: 139ms\n",
      "756:\tlearn: 0.0107049\ttotal: 431ms\tremaining: 138ms\n",
      "757:\tlearn: 0.0106655\ttotal: 432ms\tremaining: 138ms\n",
      "758:\tlearn: 0.0106222\ttotal: 432ms\tremaining: 137ms\n",
      "759:\tlearn: 0.0105838\ttotal: 432ms\tremaining: 137ms\n",
      "760:\tlearn: 0.0105586\ttotal: 433ms\tremaining: 136ms\n",
      "761:\tlearn: 0.0105310\ttotal: 434ms\tremaining: 135ms\n",
      "762:\tlearn: 0.0105017\ttotal: 434ms\tremaining: 135ms\n",
      "763:\tlearn: 0.0104714\ttotal: 435ms\tremaining: 134ms\n",
      "764:\tlearn: 0.0104464\ttotal: 435ms\tremaining: 134ms\n",
      "765:\tlearn: 0.0104097\ttotal: 436ms\tremaining: 133ms\n",
      "766:\tlearn: 0.0103818\ttotal: 436ms\tremaining: 133ms\n",
      "767:\tlearn: 0.0103651\ttotal: 437ms\tremaining: 132ms\n",
      "768:\tlearn: 0.0103233\ttotal: 437ms\tremaining: 131ms\n",
      "769:\tlearn: 0.0102868\ttotal: 438ms\tremaining: 131ms\n",
      "770:\tlearn: 0.0102514\ttotal: 438ms\tremaining: 130ms\n",
      "771:\tlearn: 0.0102233\ttotal: 439ms\tremaining: 130ms\n",
      "772:\tlearn: 0.0101715\ttotal: 439ms\tremaining: 129ms\n",
      "773:\tlearn: 0.0101395\ttotal: 440ms\tremaining: 128ms\n",
      "774:\tlearn: 0.0101128\ttotal: 440ms\tremaining: 128ms\n",
      "775:\tlearn: 0.0100966\ttotal: 441ms\tremaining: 127ms\n",
      "776:\tlearn: 0.0100559\ttotal: 441ms\tremaining: 127ms\n",
      "777:\tlearn: 0.0100246\ttotal: 442ms\tremaining: 126ms\n",
      "778:\tlearn: 0.0099987\ttotal: 443ms\tremaining: 126ms\n",
      "779:\tlearn: 0.0099531\ttotal: 443ms\tremaining: 125ms\n",
      "780:\tlearn: 0.0099249\ttotal: 444ms\tremaining: 124ms\n",
      "781:\tlearn: 0.0099091\ttotal: 444ms\tremaining: 124ms\n",
      "782:\tlearn: 0.0098784\ttotal: 445ms\tremaining: 123ms\n",
      "783:\tlearn: 0.0098517\ttotal: 445ms\tremaining: 123ms\n",
      "784:\tlearn: 0.0098360\ttotal: 446ms\tremaining: 122ms\n",
      "785:\tlearn: 0.0098136\ttotal: 446ms\tremaining: 121ms\n",
      "786:\tlearn: 0.0097860\ttotal: 447ms\tremaining: 121ms\n",
      "787:\tlearn: 0.0097706\ttotal: 447ms\tremaining: 120ms\n",
      "788:\tlearn: 0.0097408\ttotal: 447ms\tremaining: 120ms\n",
      "789:\tlearn: 0.0097256\ttotal: 448ms\tremaining: 119ms\n",
      "790:\tlearn: 0.0096987\ttotal: 448ms\tremaining: 118ms\n",
      "791:\tlearn: 0.0096508\ttotal: 449ms\tremaining: 118ms\n",
      "792:\tlearn: 0.0096085\ttotal: 450ms\tremaining: 117ms\n",
      "793:\tlearn: 0.0095769\ttotal: 450ms\tremaining: 117ms\n",
      "794:\tlearn: 0.0095483\ttotal: 450ms\tremaining: 116ms\n",
      "795:\tlearn: 0.0095333\ttotal: 451ms\tremaining: 116ms\n",
      "796:\tlearn: 0.0095104\ttotal: 451ms\tremaining: 115ms\n",
      "797:\tlearn: 0.0094642\ttotal: 452ms\tremaining: 114ms\n",
      "798:\tlearn: 0.0094454\ttotal: 452ms\tremaining: 114ms\n",
      "799:\tlearn: 0.0094124\ttotal: 453ms\tremaining: 113ms\n",
      "800:\tlearn: 0.0093976\ttotal: 453ms\tremaining: 113ms\n",
      "801:\tlearn: 0.0093858\ttotal: 454ms\tremaining: 112ms\n",
      "802:\tlearn: 0.0093712\ttotal: 454ms\tremaining: 111ms\n",
      "803:\tlearn: 0.0093278\ttotal: 455ms\tremaining: 111ms\n",
      "804:\tlearn: 0.0092876\ttotal: 455ms\tremaining: 110ms\n",
      "805:\tlearn: 0.0092554\ttotal: 456ms\tremaining: 110ms\n",
      "806:\tlearn: 0.0092439\ttotal: 456ms\tremaining: 109ms\n",
      "807:\tlearn: 0.0092325\ttotal: 457ms\tremaining: 109ms\n",
      "808:\tlearn: 0.0092181\ttotal: 457ms\tremaining: 108ms\n",
      "809:\tlearn: 0.0092039\ttotal: 458ms\tremaining: 107ms\n",
      "810:\tlearn: 0.0091646\ttotal: 459ms\tremaining: 107ms\n",
      "811:\tlearn: 0.0091343\ttotal: 459ms\tremaining: 106ms\n",
      "812:\tlearn: 0.0091232\ttotal: 460ms\tremaining: 106ms\n",
      "813:\tlearn: 0.0091123\ttotal: 460ms\tremaining: 105ms\n",
      "814:\tlearn: 0.0090982\ttotal: 461ms\tremaining: 105ms\n",
      "815:\tlearn: 0.0090599\ttotal: 461ms\tremaining: 104ms\n",
      "816:\tlearn: 0.0090341\ttotal: 462ms\tremaining: 103ms\n",
      "817:\tlearn: 0.0090234\ttotal: 462ms\tremaining: 103ms\n",
      "818:\tlearn: 0.0090096\ttotal: 463ms\tremaining: 102ms\n",
      "819:\tlearn: 0.0089669\ttotal: 463ms\tremaining: 102ms\n",
      "820:\tlearn: 0.0089565\ttotal: 464ms\tremaining: 101ms\n",
      "821:\tlearn: 0.0089396\ttotal: 465ms\tremaining: 101ms\n",
      "822:\tlearn: 0.0089213\ttotal: 465ms\tremaining: 100ms\n",
      "823:\tlearn: 0.0089015\ttotal: 466ms\tremaining: 99.5ms\n",
      "824:\tlearn: 0.0088852\ttotal: 466ms\tremaining: 98.9ms\n",
      "825:\tlearn: 0.0088674\ttotal: 467ms\tremaining: 98.3ms\n",
      "826:\tlearn: 0.0088406\ttotal: 467ms\tremaining: 97.8ms\n",
      "827:\tlearn: 0.0088248\ttotal: 468ms\tremaining: 97.2ms\n",
      "828:\tlearn: 0.0088153\ttotal: 468ms\tremaining: 96.6ms\n",
      "829:\tlearn: 0.0088015\ttotal: 469ms\tremaining: 96ms\n",
      "830:\tlearn: 0.0087824\ttotal: 469ms\tremaining: 95.4ms\n",
      "831:\tlearn: 0.0087532\ttotal: 470ms\tremaining: 94.8ms\n",
      "832:\tlearn: 0.0087247\ttotal: 470ms\tremaining: 94.3ms\n",
      "833:\tlearn: 0.0086962\ttotal: 471ms\tremaining: 93.7ms\n",
      "834:\tlearn: 0.0086774\ttotal: 471ms\tremaining: 93.1ms\n",
      "835:\tlearn: 0.0086649\ttotal: 472ms\tremaining: 92.6ms\n",
      "836:\tlearn: 0.0086372\ttotal: 472ms\tremaining: 92ms\n",
      "837:\tlearn: 0.0086096\ttotal: 473ms\tremaining: 91.4ms\n",
      "838:\tlearn: 0.0085914\ttotal: 473ms\tremaining: 90.9ms\n",
      "839:\tlearn: 0.0085645\ttotal: 474ms\tremaining: 90.3ms\n",
      "840:\tlearn: 0.0085344\ttotal: 475ms\tremaining: 89.7ms\n",
      "841:\tlearn: 0.0085050\ttotal: 475ms\tremaining: 89.1ms\n",
      "842:\tlearn: 0.0084917\ttotal: 476ms\tremaining: 88.6ms\n",
      "843:\tlearn: 0.0084787\ttotal: 476ms\tremaining: 88ms\n",
      "844:\tlearn: 0.0084499\ttotal: 477ms\tremaining: 87.4ms\n",
      "845:\tlearn: 0.0084370\ttotal: 477ms\tremaining: 86.8ms\n",
      "846:\tlearn: 0.0083988\ttotal: 478ms\tremaining: 86.3ms\n",
      "847:\tlearn: 0.0083861\ttotal: 478ms\tremaining: 85.7ms\n",
      "848:\tlearn: 0.0083661\ttotal: 479ms\tremaining: 85.2ms\n",
      "849:\tlearn: 0.0083398\ttotal: 479ms\tremaining: 84.6ms\n",
      "850:\tlearn: 0.0083272\ttotal: 480ms\tremaining: 84ms\n",
      "851:\tlearn: 0.0083096\ttotal: 480ms\tremaining: 83.4ms\n",
      "852:\tlearn: 0.0082823\ttotal: 481ms\tremaining: 82.9ms\n",
      "853:\tlearn: 0.0082628\ttotal: 481ms\tremaining: 82.3ms\n"
     ]
    },
    {
     "name": "stdout",
     "output_type": "stream",
     "text": [
      "854:\tlearn: 0.0082372\ttotal: 482ms\tremaining: 81.8ms\n",
      "855:\tlearn: 0.0082247\ttotal: 483ms\tremaining: 81.3ms\n",
      "856:\tlearn: 0.0082075\ttotal: 484ms\tremaining: 80.8ms\n",
      "857:\tlearn: 0.0081825\ttotal: 485ms\tremaining: 80.2ms\n",
      "858:\tlearn: 0.0081597\ttotal: 485ms\tremaining: 79.6ms\n",
      "859:\tlearn: 0.0081406\ttotal: 486ms\tremaining: 79.1ms\n",
      "860:\tlearn: 0.0081153\ttotal: 486ms\tremaining: 78.5ms\n",
      "861:\tlearn: 0.0081030\ttotal: 487ms\tremaining: 78ms\n",
      "862:\tlearn: 0.0080842\ttotal: 488ms\tremaining: 77.5ms\n",
      "863:\tlearn: 0.0080571\ttotal: 488ms\tremaining: 76.9ms\n",
      "864:\tlearn: 0.0080372\ttotal: 489ms\tremaining: 76.3ms\n",
      "865:\tlearn: 0.0080126\ttotal: 490ms\tremaining: 75.8ms\n",
      "866:\tlearn: 0.0080005\ttotal: 490ms\tremaining: 75.2ms\n",
      "867:\tlearn: 0.0079822\ttotal: 491ms\tremaining: 74.6ms\n",
      "868:\tlearn: 0.0079577\ttotal: 491ms\tremaining: 74.1ms\n",
      "869:\tlearn: 0.0079458\ttotal: 492ms\tremaining: 73.5ms\n",
      "870:\tlearn: 0.0079279\ttotal: 493ms\tremaining: 73ms\n",
      "871:\tlearn: 0.0079041\ttotal: 493ms\tremaining: 72.4ms\n",
      "872:\tlearn: 0.0078639\ttotal: 494ms\tremaining: 71.9ms\n",
      "873:\tlearn: 0.0078404\ttotal: 494ms\tremaining: 71.3ms\n",
      "874:\tlearn: 0.0078047\ttotal: 495ms\tremaining: 70.7ms\n",
      "875:\tlearn: 0.0077809\ttotal: 496ms\tremaining: 70.1ms\n",
      "876:\tlearn: 0.0077697\ttotal: 496ms\tremaining: 69.6ms\n",
      "877:\tlearn: 0.0077525\ttotal: 496ms\tremaining: 69ms\n",
      "878:\tlearn: 0.0077316\ttotal: 497ms\tremaining: 68.4ms\n",
      "879:\tlearn: 0.0077152\ttotal: 497ms\tremaining: 67.8ms\n",
      "880:\tlearn: 0.0077043\ttotal: 498ms\tremaining: 67.3ms\n",
      "881:\tlearn: 0.0076934\ttotal: 499ms\tremaining: 66.7ms\n",
      "882:\tlearn: 0.0076765\ttotal: 499ms\tremaining: 66.1ms\n",
      "883:\tlearn: 0.0076658\ttotal: 499ms\tremaining: 65.5ms\n",
      "884:\tlearn: 0.0076542\ttotal: 500ms\tremaining: 65ms\n",
      "885:\tlearn: 0.0076376\ttotal: 501ms\tremaining: 64.4ms\n",
      "886:\tlearn: 0.0076270\ttotal: 501ms\tremaining: 63.8ms\n",
      "887:\tlearn: 0.0076071\ttotal: 502ms\tremaining: 63.3ms\n",
      "888:\tlearn: 0.0075685\ttotal: 502ms\tremaining: 62.7ms\n",
      "889:\tlearn: 0.0075581\ttotal: 503ms\tremaining: 62.1ms\n",
      "890:\tlearn: 0.0075205\ttotal: 504ms\tremaining: 61.6ms\n",
      "891:\tlearn: 0.0075043\ttotal: 504ms\tremaining: 61.1ms\n",
      "892:\tlearn: 0.0074940\ttotal: 505ms\tremaining: 60.5ms\n",
      "893:\tlearn: 0.0074839\ttotal: 505ms\tremaining: 59.9ms\n",
      "894:\tlearn: 0.0074680\ttotal: 506ms\tremaining: 59.3ms\n",
      "895:\tlearn: 0.0074488\ttotal: 506ms\tremaining: 58.7ms\n",
      "896:\tlearn: 0.0074388\ttotal: 507ms\tremaining: 58.2ms\n",
      "897:\tlearn: 0.0074262\ttotal: 507ms\tremaining: 57.6ms\n",
      "898:\tlearn: 0.0074164\ttotal: 508ms\tremaining: 57ms\n",
      "899:\tlearn: 0.0073978\ttotal: 508ms\tremaining: 56.5ms\n",
      "900:\tlearn: 0.0073867\ttotal: 509ms\tremaining: 55.9ms\n",
      "901:\tlearn: 0.0073640\ttotal: 509ms\tremaining: 55.3ms\n",
      "902:\tlearn: 0.0073544\ttotal: 510ms\tremaining: 54.7ms\n",
      "903:\tlearn: 0.0073287\ttotal: 510ms\tremaining: 54.2ms\n",
      "904:\tlearn: 0.0073065\ttotal: 511ms\tremaining: 53.6ms\n",
      "905:\tlearn: 0.0072970\ttotal: 511ms\tremaining: 53ms\n",
      "906:\tlearn: 0.0072876\ttotal: 512ms\tremaining: 52.5ms\n",
      "907:\tlearn: 0.0072659\ttotal: 512ms\tremaining: 51.9ms\n",
      "908:\tlearn: 0.0072476\ttotal: 513ms\tremaining: 51.3ms\n",
      "909:\tlearn: 0.0072383\ttotal: 513ms\tremaining: 50.8ms\n",
      "910:\tlearn: 0.0072278\ttotal: 514ms\tremaining: 50.2ms\n",
      "911:\tlearn: 0.0072102\ttotal: 514ms\tremaining: 49.6ms\n",
      "912:\tlearn: 0.0071915\ttotal: 515ms\tremaining: 49ms\n"
     ]
    },
    {
     "name": "stdout",
     "output_type": "stream",
     "text": [
      "913:\tlearn: 0.0071825\ttotal: 516ms\tremaining: 48.5ms\n",
      "914:\tlearn: 0.0071735\ttotal: 516ms\tremaining: 48ms\n",
      "915:\tlearn: 0.0071558\ttotal: 517ms\tremaining: 47.4ms\n",
      "916:\tlearn: 0.0071355\ttotal: 517ms\tremaining: 46.8ms\n",
      "917:\tlearn: 0.0071202\ttotal: 518ms\tremaining: 46.2ms\n",
      "918:\tlearn: 0.0071114\ttotal: 518ms\tremaining: 45.7ms\n",
      "919:\tlearn: 0.0070942\ttotal: 519ms\tremaining: 45.1ms\n",
      "920:\tlearn: 0.0070745\ttotal: 519ms\tremaining: 44.5ms\n",
      "921:\tlearn: 0.0070594\ttotal: 520ms\tremaining: 44ms\n",
      "922:\tlearn: 0.0070507\ttotal: 520ms\tremaining: 43.4ms\n",
      "923:\tlearn: 0.0070268\ttotal: 521ms\tremaining: 42.8ms\n",
      "924:\tlearn: 0.0070075\ttotal: 521ms\tremaining: 42.3ms\n",
      "925:\tlearn: 0.0069897\ttotal: 522ms\tremaining: 41.7ms\n",
      "926:\tlearn: 0.0069812\ttotal: 523ms\tremaining: 41.1ms\n",
      "927:\tlearn: 0.0069635\ttotal: 523ms\tremaining: 40.6ms\n",
      "928:\tlearn: 0.0069552\ttotal: 523ms\tremaining: 40ms\n",
      "929:\tlearn: 0.0069354\ttotal: 524ms\tremaining: 39.4ms\n",
      "930:\tlearn: 0.0069189\ttotal: 525ms\tremaining: 38.9ms\n",
      "931:\tlearn: 0.0069073\ttotal: 525ms\tremaining: 38.3ms\n",
      "932:\tlearn: 0.0068919\ttotal: 526ms\tremaining: 37.7ms\n",
      "933:\tlearn: 0.0068774\ttotal: 526ms\tremaining: 37.2ms\n",
      "934:\tlearn: 0.0068692\ttotal: 527ms\tremaining: 36.6ms\n",
      "935:\tlearn: 0.0068511\ttotal: 527ms\tremaining: 36ms\n",
      "936:\tlearn: 0.0068354\ttotal: 528ms\tremaining: 35.5ms\n",
      "937:\tlearn: 0.0068125\ttotal: 528ms\tremaining: 34.9ms\n",
      "938:\tlearn: 0.0068016\ttotal: 529ms\tremaining: 34.3ms\n",
      "939:\tlearn: 0.0067794\ttotal: 529ms\tremaining: 33.8ms\n",
      "940:\tlearn: 0.0067715\ttotal: 529ms\tremaining: 33.2ms\n",
      "941:\tlearn: 0.0067622\ttotal: 530ms\tremaining: 32.6ms\n",
      "942:\tlearn: 0.0067515\ttotal: 531ms\tremaining: 32.1ms\n",
      "943:\tlearn: 0.0067436\ttotal: 531ms\tremaining: 31.5ms\n",
      "944:\tlearn: 0.0067346\ttotal: 532ms\tremaining: 30.9ms\n",
      "945:\tlearn: 0.0067174\ttotal: 532ms\tremaining: 30.4ms\n",
      "946:\tlearn: 0.0066999\ttotal: 533ms\tremaining: 29.8ms\n",
      "947:\tlearn: 0.0066922\ttotal: 533ms\tremaining: 29.2ms\n",
      "948:\tlearn: 0.0066782\ttotal: 534ms\tremaining: 28.7ms\n",
      "949:\tlearn: 0.0066637\ttotal: 534ms\tremaining: 28.1ms\n",
      "950:\tlearn: 0.0066489\ttotal: 535ms\tremaining: 27.5ms\n",
      "951:\tlearn: 0.0066292\ttotal: 535ms\tremaining: 27ms\n",
      "952:\tlearn: 0.0066126\ttotal: 536ms\tremaining: 26.4ms\n",
      "953:\tlearn: 0.0065958\ttotal: 536ms\tremaining: 25.8ms\n",
      "954:\tlearn: 0.0065883\ttotal: 537ms\tremaining: 25.3ms\n",
      "955:\tlearn: 0.0065704\ttotal: 537ms\tremaining: 24.7ms\n",
      "956:\tlearn: 0.0065345\ttotal: 538ms\tremaining: 24.2ms\n",
      "957:\tlearn: 0.0065242\ttotal: 538ms\tremaining: 23.6ms\n",
      "958:\tlearn: 0.0065168\ttotal: 539ms\tremaining: 23ms\n",
      "959:\tlearn: 0.0064817\ttotal: 540ms\tremaining: 22.5ms\n",
      "960:\tlearn: 0.0064684\ttotal: 540ms\tremaining: 21.9ms\n",
      "961:\tlearn: 0.0064589\ttotal: 540ms\tremaining: 21.3ms\n",
      "962:\tlearn: 0.0064496\ttotal: 541ms\tremaining: 20.8ms\n",
      "963:\tlearn: 0.0064341\ttotal: 541ms\tremaining: 20.2ms\n",
      "964:\tlearn: 0.0064134\ttotal: 542ms\tremaining: 19.6ms\n",
      "965:\tlearn: 0.0064012\ttotal: 542ms\tremaining: 19.1ms\n",
      "966:\tlearn: 0.0063865\ttotal: 543ms\tremaining: 18.5ms\n",
      "967:\tlearn: 0.0063524\ttotal: 543ms\tremaining: 18ms\n",
      "968:\tlearn: 0.0063433\ttotal: 544ms\tremaining: 17.4ms\n",
      "969:\tlearn: 0.0063303\ttotal: 544ms\tremaining: 16.8ms\n",
      "970:\tlearn: 0.0063104\ttotal: 545ms\tremaining: 16.3ms\n",
      "971:\tlearn: 0.0063015\ttotal: 545ms\tremaining: 15.7ms\n",
      "972:\tlearn: 0.0062922\ttotal: 546ms\tremaining: 15.1ms\n",
      "973:\tlearn: 0.0062589\ttotal: 546ms\tremaining: 14.6ms\n",
      "974:\tlearn: 0.0062499\ttotal: 547ms\tremaining: 14ms\n",
      "975:\tlearn: 0.0062410\ttotal: 547ms\tremaining: 13.5ms\n",
      "976:\tlearn: 0.0062324\ttotal: 548ms\tremaining: 12.9ms\n",
      "977:\tlearn: 0.0061998\ttotal: 548ms\tremaining: 12.3ms\n",
      "978:\tlearn: 0.0061914\ttotal: 549ms\tremaining: 11.8ms\n",
      "979:\tlearn: 0.0061836\ttotal: 549ms\tremaining: 11.2ms\n",
      "980:\tlearn: 0.0061755\ttotal: 550ms\tremaining: 10.6ms\n",
      "981:\tlearn: 0.0061439\ttotal: 550ms\tremaining: 10.1ms\n",
      "982:\tlearn: 0.0061361\ttotal: 551ms\tremaining: 9.52ms\n",
      "983:\tlearn: 0.0061051\ttotal: 551ms\tremaining: 8.96ms\n",
      "984:\tlearn: 0.0060976\ttotal: 552ms\tremaining: 8.4ms\n",
      "985:\tlearn: 0.0060901\ttotal: 553ms\tremaining: 7.84ms\n",
      "986:\tlearn: 0.0060704\ttotal: 553ms\tremaining: 7.29ms\n",
      "987:\tlearn: 0.0060401\ttotal: 554ms\tremaining: 6.72ms\n",
      "988:\tlearn: 0.0060330\ttotal: 554ms\tremaining: 6.16ms\n",
      "989:\tlearn: 0.0060167\ttotal: 555ms\tremaining: 5.6ms\n",
      "990:\tlearn: 0.0059980\ttotal: 555ms\tremaining: 5.04ms\n",
      "991:\tlearn: 0.0059906\ttotal: 555ms\tremaining: 4.48ms\n",
      "992:\tlearn: 0.0059838\ttotal: 556ms\tremaining: 3.92ms\n",
      "993:\tlearn: 0.0059767\ttotal: 556ms\tremaining: 3.36ms\n",
      "994:\tlearn: 0.0059684\ttotal: 557ms\tremaining: 2.8ms\n",
      "995:\tlearn: 0.0059388\ttotal: 557ms\tremaining: 2.24ms\n",
      "996:\tlearn: 0.0059300\ttotal: 558ms\tremaining: 1.68ms\n",
      "997:\tlearn: 0.0058998\ttotal: 558ms\tremaining: 1.12ms\n",
      "998:\tlearn: 0.0058862\ttotal: 559ms\tremaining: 559us\n",
      "999:\tlearn: 0.0058796\ttotal: 559ms\tremaining: 0us\n"
     ]
    },
    {
     "data": {
      "text/plain": [
       "<catboost.core.CatBoostRegressor at 0x7ff282cb8d90>"
      ]
     },
     "execution_count": 9,
     "metadata": {},
     "output_type": "execute_result"
    }
   ],
   "source": [
    "#Train the Model \n",
    "prior_model = ctb.CatBoostRegressor()\n",
    "prior_model.fit(X_train,Y_train)"
   ]
  },
  {
   "cell_type": "code",
   "execution_count": 10,
   "id": "af65dcda",
   "metadata": {
    "execution": {
     "iopub.execute_input": "2022-03-16T13:35:03.575646Z",
     "iopub.status.busy": "2022-03-16T13:35:03.575103Z",
     "iopub.status.idle": "2022-03-16T13:35:03.587760Z",
     "shell.execute_reply": "2022-03-16T13:35:03.588101Z"
    },
    "id": "af65dcda",
    "papermill": {
     "duration": 0.032345,
     "end_time": "2022-03-16T13:35:03.588282",
     "exception": false,
     "start_time": "2022-03-16T13:35:03.555937",
     "status": "completed"
    },
    "tags": []
   },
   "outputs": [
    {
     "data": {
      "application/scrapbook.scrap.json+json": {
       "data": 0.05663092552177616,
       "encoder": "json",
       "name": "Prior Model MSE",
       "version": 1
      }
     },
     "metadata": {
      "scrapbook": {
       "data": true,
       "display": false,
       "name": "Prior Model MSE"
      }
     },
     "output_type": "display_data"
    },
    {
     "data": {
      "application/scrapbook.scrap.json+json": {
       "data": 1.384483270431965,
       "encoder": "json",
       "name": "ABC Pre-generator MSE",
       "version": 1
      }
     },
     "metadata": {
      "scrapbook": {
       "data": true,
       "display": false,
       "name": "ABC Pre-generator MSE"
      }
     },
     "output_type": "display_data"
    },
    {
     "data": {
      "application/scrapbook.scrap.json+json": {
       "data": 0.15465567157253907,
       "encoder": "json",
       "name": "Prior Model MSE",
       "version": 1
      }
     },
     "metadata": {
      "scrapbook": {
       "data": true,
       "display": false,
       "name": "Prior Model MSE"
      }
     },
     "output_type": "display_data"
    },
    {
     "data": {
      "application/scrapbook.scrap.json+json": {
       "data": 0.9515600349412919,
       "encoder": "json",
       "name": "ABC Pre-generator MSE",
       "version": 1
      }
     },
     "metadata": {
      "scrapbook": {
       "data": true,
       "display": false,
       "name": "ABC Pre-generator MSE"
      }
     },
     "output_type": "display_data"
    }
   ],
   "source": [
    "y_pred = prior_model.predict(X_test)\n",
    "y_abc = y_pred + np.random.normal(0,variance, y_pred.shape) + bias \n",
    "mse = mean_squared_error(y_pred,Y_test)\n",
    "sb.glue(\"Prior Model MSE\",mse)\n",
    "mse = mean_squared_error(y_abc,Y_test)\n",
    "sb.glue(\"ABC Pre-generator MSE\",mse)\n",
    "mae = mean_absolute_error(y_pred,Y_test)\n",
    "sb.glue(\"Prior Model MSE\",mae)\n",
    "mae = mean_absolute_error(y_abc,Y_test)\n",
    "sb.glue(\"ABC Pre-generator MSE\",mae)"
   ]
  },
  {
   "cell_type": "markdown",
   "id": "25609da2",
   "metadata": {
    "papermill": {
     "duration": 0.015897,
     "end_time": "2022-03-16T13:35:03.620997",
     "exception": false,
     "start_time": "2022-03-16T13:35:03.605100",
     "status": "completed"
    },
    "tags": []
   },
   "source": [
    "# ABC GAN Model"
   ]
  },
  {
   "cell_type": "code",
   "execution_count": 11,
   "id": "dfc3464d",
   "metadata": {
    "execution": {
     "iopub.execute_input": "2022-03-16T13:35:03.657543Z",
     "iopub.status.busy": "2022-03-16T13:35:03.656997Z",
     "iopub.status.idle": "2022-03-16T13:35:03.660395Z",
     "shell.execute_reply": "2022-03-16T13:35:03.660772Z"
    },
    "papermill": {
     "duration": 0.024131,
     "end_time": "2022-03-16T13:35:03.660925",
     "exception": false,
     "start_time": "2022-03-16T13:35:03.636794",
     "status": "completed"
    },
    "tags": []
   },
   "outputs": [],
   "source": [
    "gen = network.Generator(n_features+1).to(device)\n",
    "disc = network.Discriminator(n_features+1).to(device)\n",
    "\n",
    "criterion = torch.nn.BCELoss()\n",
    "gen_opt = torch.optim.Adam(gen.parameters(), lr=0.001, betas=(0.5, 0.999))\n",
    "disc_opt = torch.optim.Adam(disc.parameters(), lr=0.001, betas=(0.5, 0.999))"
   ]
  },
  {
   "cell_type": "code",
   "execution_count": 12,
   "id": "b75fdd85",
   "metadata": {
    "execution": {
     "iopub.execute_input": "2022-03-16T13:35:03.693535Z",
     "iopub.status.busy": "2022-03-16T13:35:03.693012Z",
     "iopub.status.idle": "2022-03-16T13:35:19.022977Z",
     "shell.execute_reply": "2022-03-16T13:35:19.023296Z"
    },
    "papermill": {
     "duration": 15.347474,
     "end_time": "2022-03-16T13:35:19.023464",
     "exception": false,
     "start_time": "2022-03-16T13:35:03.675990",
     "status": "completed"
    },
    "tags": []
   },
   "outputs": [
    {
     "data": {
      "image/png": "[encoded data removed]",
      "text/plain": [
       "<Figure size 432x288 with 1 Axes>"
      ]
     },
     "metadata": {
      "needs_background": "light"
     },
     "output_type": "display_data"
    },
    {
     "data": {
      "image/png": "[encoded data removed]",
      "text/plain": [
       "<Figure size 432x288 with 1 Axes>"
      ]
     },
     "metadata": {
      "needs_background": "light"
     },
     "output_type": "display_data"
    }
   ],
   "source": [
    "#Training the ABC_GAN \n",
    "ABC_train_test2.training_GAN(disc,gen,disc_opt,gen_opt,train_data,batch_size,n_epochs,criterion,prior_model,variance,bias,device)"
   ]
  },
  {
   "cell_type": "code",
   "execution_count": 13,
   "id": "1fa7c368",
   "metadata": {
    "execution": {
     "iopub.execute_input": "2022-03-16T13:35:19.054513Z",
     "iopub.status.busy": "2022-03-16T13:35:19.054018Z",
     "iopub.status.idle": "2022-03-16T13:35:19.268128Z",
     "shell.execute_reply": "2022-03-16T13:35:19.268465Z"
    },
    "papermill": {
     "duration": 0.22991,
     "end_time": "2022-03-16T13:35:19.268599",
     "exception": false,
     "start_time": "2022-03-16T13:35:19.038689",
     "status": "completed"
    },
    "tags": []
   },
   "outputs": [
    {
     "data": {
      "application/scrapbook.scrap.json+json": {
       "data": 0.014042782896029352,
       "encoder": "json",
       "name": "ABC-GAN Model 1 MSE",
       "version": 1
      }
     },
     "metadata": {
      "scrapbook": {
       "data": true,
       "display": false,
       "name": "ABC-GAN Model 1 MSE"
      }
     },
     "output_type": "display_data"
    },
    {
     "data": {
      "application/scrapbook.scrap.json+json": {
       "data": 0.09387852801568806,
       "encoder": "json",
       "name": "ABC-GAN Model 1 MAE",
       "version": 1
      }
     },
     "metadata": {
      "scrapbook": {
       "data": true,
       "display": false,
       "name": "ABC-GAN Model 1 MAE"
      }
     },
     "output_type": "display_data"
    },
    {
     "data": {
      "application/scrapbook.scrap.json+json": {
       "data": 1.8775705603137611,
       "encoder": "json",
       "name": "ABC-GAN Model 1 Manhattan Distance",
       "version": 1
      }
     },
     "metadata": {
      "scrapbook": {
       "data": true,
       "display": false,
       "name": "ABC-GAN Model 1 Manhattan Distance"
      }
     },
     "output_type": "display_data"
    },
    {
     "data": {
      "application/scrapbook.scrap.json+json": {
       "data": 0.5293980899382531,
       "encoder": "json",
       "name": "ABC-GAN Model 1 Euclidean distance",
       "version": 1
      }
     },
     "metadata": {
      "scrapbook": {
       "data": true,
       "display": false,
       "name": "ABC-GAN Model 1 Euclidean distance"
      }
     },
     "output_type": "display_data"
    },
    {
     "data": {
      "application/scrapbook.scrap.json+json": {
       "data": [
        [
         0.015576514593283986,
         0.011750743915929968,
         0.013180372730673651,
         0.013455259541598897,
         0.013979764150495,
         0.012517097558015902,
         0.01299345624756298,
         0.015378329014262646,
         0.013251509405426517,
         0.014145030512680262,
         0.013460649758629317,
         0.014426385870004966,
         0.014134451700220773,
         0.01408412236928508,
         0.015147470358826307,
         0.013849548440272525,
         0.01411803129630464,
         0.015137753985064496,
         0.014490157078575202,
         0.0135160294981201,
         0.014701281912574799,
         0.013894869437509375,
         0.011984139053328935,
         0.0141564463882075,
         0.01300019225690387,
         0.014288155788064985,
         0.0155638323121674,
         0.014320568032436204,
         0.014079780343759434,
         0.01254323927592706,
         0.01337955705525187,
         0.01575905081452069,
         0.01679949770148386,
         0.014856609806983117,
         0.012817877144051451,
         0.01478288716858966,
         0.01379327953347383,
         0.013690471550356196,
         0.01382754399009036,
         0.013785347171372675,
         0.014120758890953494,
         0.012312145428770469,
         0.013995110479690487,
         0.0136272347470127,
         0.015494261069864821,
         0.01336593025171109,
         0.012049227290749035,
         0.013118473153697754,
         0.013022920791799637,
         0.011470317299540437,
         0.013134510296253999,
         0.014438830698892232,
         0.012931566149047566,
         0.015032546262179725,
         0.013443758916708293,
         0.012715624333031906,
         0.017723024647629905,
         0.012576336112059966,
         0.013108244207152184,
         0.013788069302331476,
         0.013272174429615521,
         0.01447362038036885,
         0.013689524083763324,
         0.014903042626676095,
         0.017805693253562554,
         0.015456150437964136,
         0.014062733985405824,
         0.013000683435338311,
         0.012680142959230561,
         0.012216074266765502,
         0.014240562775997011,
         0.014500187275809043,
         0.01373036979213794,
         0.014885044246268098,
         0.013873947371849318,
         0.014841935044538058,
         0.012784743309732328,
         0.015271936535888023,
         0.01447727845195496,
         0.01391270809837813,
         0.01439693284751375,
         0.012508578542444648,
         0.013704772846591728,
         0.01582090348991019,
         0.013470318559061518,
         0.01304149202551827,
         0.0154260062756791,
         0.014461830245021484,
         0.014685876088168306,
         0.012747622775556184,
         0.015619066614805544,
         0.018925075405106132,
         0.01495476529354115,
         0.012376446568525216,
         0.012724340882635934,
         0.013757367781012114,
         0.01428166143236731,
         0.018247450821123196,
         0.013997492901372166,
         0.012965540354374059
        ],
        [
         0.09859820953570306,
         0.08793168342672289,
         0.09181514061056077,
         0.09401440448127688,
         0.09337261146865786,
         0.0872899820562452,
         0.08942032656632364,
         0.09663994363509118,
         0.09098540148697794,
         0.09692864618264138,
         0.0951175746973604,
         0.09790552235208452,
         0.09013610384427011,
         0.09618668681941926,
         0.09978868565522134,
         0.09288701764307916,
         0.09310432127676904,
         0.09365920848213136,
         0.09714156142435967,
         0.09857354811392724,
         0.09376368424855172,
         0.09564780569635331,
         0.08585801399312913,
         0.09701066291891039,
         0.08833370483480393,
         0.09330758131109178,
         0.10222032642923295,
         0.09273796728812159,
         0.09316914654336869,
         0.09336886978708207,
         0.09358243248425424,
         0.10106722838245333,
         0.10001609525643289,
         0.09551674253307282,
         0.08850168115459382,
         0.09399715489707887,
         0.09384465417824686,
         0.09140822044573724,
         0.09373192093335092,
         0.09443497038446366,
         0.09496368668042124,
         0.08963978788815438,
         0.08963979757390916,
         0.09415473467670381,
         0.09804582721553742,
         0.0937050876673311,
         0.08872714466415346,
         0.08901091343723237,
         0.08954048282466828,
         0.08402952230535447,
         0.0890727540012449,
         0.09477100945077836,
         0.09136777869425713,
         0.1029922632034868,
         0.08887127242051066,
         0.09182324088178576,
         0.10294610909186304,
         0.08982446691952646,
         0.08914449191652238,
         0.09473564377985895,
         0.09141428745351732,
         0.09657282731495798,
         0.0947003988083452,
         0.09428790858946741,
         0.09679774097166956,
         0.09801184586249292,
         0.09320098436437547,
         0.09185633338056505,
         0.0920971108134836,
         0.09120635068975388,
         0.09485847703181208,
         0.09556024721823633,
         0.09369284114800394,
         0.09603073126636445,
         0.09982592738233506,
         0.09690603665076196,
         0.08884692913852632,
         0.09662340930663049,
         0.09461211911402642,
         0.09102038531564176,
         0.09728681272827089,
         0.09075810513459145,
         0.09302237383089959,
         0.09778823680244386,
         0.09079697704873979,
         0.09018024331890047,
         0.10069461739622057,
         0.09511928907595575,
         0.09658533832989633,
         0.09071228853426874,
         0.09694973505102097,
         0.1014671792741865,
         0.0964323943015188,
         0.08855264461599291,
         0.09044000334106386,
         0.09200397185049951,
         0.09244028977118432,
         0.10280886716209352,
         0.09394236779771745,
         0.09172671562992037
        ],
        [
         1.9719641907140613,
         1.7586336685344577,
         1.8363028122112155,
         1.8802880896255374,
         1.867452229373157,
         1.7457996411249042,
         1.7884065313264728,
         1.9327988727018237,
         1.8197080297395587,
         1.9385729236528277,
         1.902351493947208,
         1.9581104470416903,
         1.8027220768854022,
         1.9237337363883853,
         1.9957737131044269,
         1.8577403528615832,
         1.8620864255353808,
         1.8731841696426272,
         1.9428312284871936,
         1.971470962278545,
         1.8752736849710345,
         1.9129561139270663,
         1.7171602798625827,
         1.9402132583782077,
         1.7666740966960788,
         1.8661516262218356,
         2.044406528584659,
         1.8547593457624316,
         1.863382930867374,
         1.8673773957416415,
         1.8716486496850848,
         2.0213445676490664,
         2.000321905128658,
         1.9103348506614566,
         1.7700336230918765,
         1.8799430979415774,
         1.8768930835649371,
         1.8281644089147449,
         1.8746384186670184,
         1.8886994076892734,
         1.8992737336084247,
         1.7927957577630877,
         1.7927959514781833,
         1.8830946935340762,
         1.9609165443107486,
         1.874101753346622,
         1.7745428932830691,
         1.7802182687446475,
         1.7908096564933658,
         1.6805904461070895,
         1.781455080024898,
         1.8954201890155673,
         1.8273555738851428,
         2.059845264069736,
         1.777425448410213,
         1.836464817635715,
         2.0589221818372607,
         1.7964893383905292,
         1.7828898383304477,
         1.894712875597179,
         1.8282857490703464,
         1.9314565462991595,
         1.894007976166904,
         1.8857581717893481,
         1.935954819433391,
         1.9602369172498584,
         1.8640196872875094,
         1.837126667611301,
         1.841942216269672,
         1.8241270137950778,
         1.8971695406362414,
         1.9112049443647265,
         1.8738568229600787,
         1.920614625327289,
         1.9965185476467013,
         1.9381207330152392,
         1.7769385827705264,
         1.9324681861326098,
         1.8922423822805285,
         1.8204077063128352,
         1.9457362545654178,
         1.8151621026918292,
         1.860447476617992,
         1.9557647360488772,
         1.8159395409747958,
         1.8036048663780093,
         2.0138923479244113,
         1.902385781519115,
         1.9317067665979266,
         1.8142457706853747,
         1.9389947010204196,
         2.02934358548373,
         1.928647886030376,
         1.771052892319858,
         1.8088000668212771,
         1.8400794370099902,
         1.8488057954236865,
         2.0561773432418704,
         1.878847355954349,
         1.8345343125984073
        ],
        [
         0.5581489871581599,
         0.48478333131265905,
         0.5134271658312141,
         0.5187534971756604,
         0.5287677023135018,
         0.5003418343096228,
         0.5097736016618157,
         0.5545868554926747,
         0.5148108274973734,
         0.531884019550884,
         0.5188573938690537,
         0.5371477612353042,
         0.5316850891311655,
         0.5307376445907164,
         0.550408400350618,
         0.5262993148441774,
         0.5313761623615542,
         0.5502318417733473,
         0.5383336712221372,
         0.5199236385878238,
         0.5422413099824616,
         0.5271597374138008,
         0.48957408128553814,
         0.5320986071811784,
         0.5099057218134323,
         0.5345681581999621,
         0.5579217205337573,
         0.5351741404895458,
         0.5306558271376927,
         0.500864038955225,
         0.5172921235675616,
         0.5614098469838357,
         0.5796464043101426,
         0.5450983362106899,
         0.5063176304268191,
         0.5437441892763482,
         0.525229083990478,
         0.5232680297965125,
         0.5258810510008962,
         0.5250780355599094,
         0.5314274906504837,
         0.4962286857643453,
         0.5290578508951641,
         0.5220581336788596,
         0.5566733525123116,
         0.5170286307683761,
         0.49090176798925944,
         0.5122201314610302,
         0.5103512671053073,
         0.4789638253467674,
         0.5125331266611749,
         0.5373793948206841,
         0.5085580822098409,
         0.5483164462640114,
         0.5185317524840363,
         0.5042940478140091,
         0.595365847989787,
         0.5015243984505633,
         0.5120203942647633,
         0.5251298754085788,
         0.5152120811785283,
         0.538026400474342,
         0.523249922766613,
         0.5459494963213373,
         0.5967527671249218,
         0.555988317106828,
         0.5303344979426818,
         0.5099153544528408,
         0.5035899712907429,
         0.494288868310131,
         0.5336771079219533,
         0.5385199583266909,
         0.5240299570089088,
         0.5456197255647581,
         0.526762705055119,
         0.5448290565771627,
         0.5056627989032282,
         0.5526651162483122,
         0.5380943867381439,
         0.5274980208186213,
         0.5365991585441362,
         0.5001715414224334,
         0.5235412657392295,
         0.562510506389173,
         0.5190437083533816,
         0.5107150286709462,
         0.5554458799141299,
         0.5378072190854541,
         0.5419571217018613,
         0.5049281686647356,
         0.5589108446757057,
         0.6152247622634534,
         0.5468960649619112,
         0.49752279482502537,
         0.5044668647718289,
         0.5245449033402596,
         0.5344466565031034,
         0.6041101028971986,
         0.5291028803809741,
         0.509225693663901
        ]
       ],
       "encoder": "json",
       "name": "ABC_GAN_1 Metrics",
       "version": 1
      }
     },
     "metadata": {
      "scrapbook": {
       "data": true,
       "display": false,
       "name": "ABC_GAN_1 Metrics"
      }
     },
     "output_type": "display_data"
    },
    {
     "name": "stdout",
     "output_type": "stream",
     "text": [
      "MSE\n",
      "0.014042782896029352\n"
     ]
    }
   ],
   "source": [
    "ABC_GAN1_metrics=ABC_train_test2.test_generator(gen,test_data,prior_model,variance,bias,\"1\",device)\n",
    "sb.glue(\"ABC_GAN_1 Metrics\",ABC_GAN1_metrics)\n",
    "\n",
    "print(\"MSE\")\n",
    "print(mean(ABC_GAN1_metrics[0]))"
   ]
  },
  {
   "cell_type": "code",
   "execution_count": 14,
   "id": "eb22ce5c",
   "metadata": {
    "execution": {
     "iopub.execute_input": "2022-03-16T13:35:19.300736Z",
     "iopub.status.busy": "2022-03-16T13:35:19.300317Z",
     "iopub.status.idle": "2022-03-16T13:35:19.655172Z",
     "shell.execute_reply": "2022-03-16T13:35:19.655523Z"
    },
    "papermill": {
     "duration": 0.372023,
     "end_time": "2022-03-16T13:35:19.655659",
     "exception": false,
     "start_time": "2022-03-16T13:35:19.283636",
     "status": "completed"
    },
    "tags": []
   },
   "outputs": [
    {
     "data": {
      "image/png": "[encoded data removed]",
      "text/plain": [
       "<Figure size 432x288 with 1 Axes>"
      ]
     },
     "metadata": {
      "needs_background": "light"
     },
     "output_type": "display_data"
    },
    {
     "data": {
      "image/png": "[encoded data removed]",
      "text/plain": [
       "<Figure size 432x288 with 1 Axes>"
      ]
     },
     "metadata": {
      "needs_background": "light"
     },
     "output_type": "display_data"
    },
    {
     "data": {
      "image/png": "[encoded data removed]",
      "text/plain": [
       "<Figure size 432x288 with 1 Axes>"
      ]
     },
     "metadata": {
      "needs_background": "light"
     },
     "output_type": "display_data"
    },
    {
     "data": {
      "image/png": "[encoded data removed]",
      "text/plain": [
       "<Figure size 432x288 with 1 Axes>"
      ]
     },
     "metadata": {
      "needs_background": "light"
     },
     "output_type": "display_data"
    }
   ],
   "source": [
    "sanityChecks.discProbVsError(train_data,disc,device)\n",
    "sanityChecks.discProbVsError(test_data,disc,device)"
   ]
  },
  {
   "cell_type": "markdown",
   "id": "130f3a4d",
   "metadata": {
    "id": "130f3a4d",
    "papermill": {
     "duration": 0.042887,
     "end_time": "2022-03-16T13:35:19.716320",
     "exception": false,
     "start_time": "2022-03-16T13:35:19.673433",
     "status": "completed"
    },
    "tags": []
   },
   "source": [
    "# ABC - GAN Model with skip connection"
   ]
  },
  {
   "cell_type": "code",
   "execution_count": 15,
   "id": "4e43dad1",
   "metadata": {
    "execution": {
     "iopub.execute_input": "2022-03-16T13:35:19.761101Z",
     "iopub.status.busy": "2022-03-16T13:35:19.760658Z",
     "iopub.status.idle": "2022-03-16T13:35:19.763249Z",
     "shell.execute_reply": "2022-03-16T13:35:19.763544Z"
    },
    "id": "4e43dad1",
    "papermill": {
     "duration": 0.029473,
     "end_time": "2022-03-16T13:35:19.763670",
     "exception": false,
     "start_time": "2022-03-16T13:35:19.734197",
     "status": "completed"
    },
    "tags": []
   },
   "outputs": [],
   "source": [
    "#Generator\n",
    "gen3 = network.GeneratorWithSkipConnection(n_features+1).to(device)\n",
    "constraints=network.weightConstraint()\n",
    "#Discriminator \n",
    "disc3 = network.Discriminator(n_features+1).to(device)\n",
    "\n",
    "criterion = torch.nn.BCELoss()\n",
    "gen_opt = torch.optim.Adam(gen3.parameters(), lr=0.001, betas=(0.5, 0.999))\n",
    "disc_opt = torch.optim.Adam(disc3.parameters(), lr=0.001, betas=(0.5, 0.999))\n"
   ]
  },
  {
   "cell_type": "code",
   "execution_count": 16,
   "id": "26acbc37",
   "metadata": {
    "execution": {
     "iopub.execute_input": "2022-03-16T13:35:19.800892Z",
     "iopub.status.busy": "2022-03-16T13:35:19.800498Z",
     "iopub.status.idle": "2022-03-16T13:36:01.583820Z",
     "shell.execute_reply": "2022-03-16T13:36:01.584115Z"
    },
    "id": "26acbc37",
    "papermill": {
     "duration": 41.802894,
     "end_time": "2022-03-16T13:36:01.584250",
     "exception": false,
     "start_time": "2022-03-16T13:35:19.781356",
     "status": "completed"
    },
    "tags": []
   },
   "outputs": [
    {
     "data": {
      "image/png": "[encoded data removed]",
      "text/plain": [
       "<Figure size 432x288 with 1 Axes>"
      ]
     },
     "metadata": {
      "needs_background": "light"
     },
     "output_type": "display_data"
    },
    {
     "data": {
      "image/png": "[encoded data removed]",
      "text/plain": [
       "<Figure size 432x288 with 1 Axes>"
      ]
     },
     "metadata": {
      "needs_background": "light"
     },
     "output_type": "display_data"
    }
   ],
   "source": [
    "ABC_train_test2.training_GAN_skip_connection(disc3,gen3,disc_opt,gen_opt,train_data,batch_size,n_epochs,criterion,prior_model,variance,bias,device)"
   ]
  },
  {
   "cell_type": "code",
   "execution_count": 17,
   "id": "c5e0717b",
   "metadata": {
    "execution": {
     "iopub.execute_input": "2022-03-16T13:36:01.622466Z",
     "iopub.status.busy": "2022-03-16T13:36:01.622050Z",
     "iopub.status.idle": "2022-03-16T13:36:01.925979Z",
     "shell.execute_reply": "2022-03-16T13:36:01.926237Z"
    },
    "id": "c5e0717b",
    "papermill": {
     "duration": 0.324301,
     "end_time": "2022-03-16T13:36:01.926365",
     "exception": false,
     "start_time": "2022-03-16T13:36:01.602064",
     "status": "completed"
    },
    "tags": []
   },
   "outputs": [
    {
     "data": {
      "application/scrapbook.scrap.json+json": {
       "data": 0.005878810601305569,
       "encoder": "json",
       "name": "ABC-GAN Model 3 MSE",
       "version": 1
      }
     },
     "metadata": {
      "scrapbook": {
       "data": true,
       "display": false,
       "name": "ABC-GAN Model 3 MSE"
      }
     },
     "output_type": "display_data"
    },
    {
     "data": {
      "application/scrapbook.scrap.json+json": {
       "data": 0.054593243601731956,
       "encoder": "json",
       "name": "ABC-GAN Model 3 MAE",
       "version": 1
      }
     },
     "metadata": {
      "scrapbook": {
       "data": true,
       "display": false,
       "name": "ABC-GAN Model 3 MAE"
      }
     },
     "output_type": "display_data"
    },
    {
     "data": {
      "application/scrapbook.scrap.json+json": {
       "data": 1.0918648720346391,
       "encoder": "json",
       "name": "ABC-GAN Model 3 Manhattan Distance",
       "version": 1
      }
     },
     "metadata": {
      "scrapbook": {
       "data": true,
       "display": false,
       "name": "ABC-GAN Model 3 Manhattan Distance"
      }
     },
     "output_type": "display_data"
    },
    {
     "data": {
      "application/scrapbook.scrap.json+json": {
       "data": 0.3410096493995271,
       "encoder": "json",
       "name": "ABC-GAN Model 3 Euclidean distance",
       "version": 1
      }
     },
     "metadata": {
      "scrapbook": {
       "data": true,
       "display": false,
       "name": "ABC-GAN Model 3 Euclidean distance"
      }
     },
     "output_type": "display_data"
    },
    {
     "data": {
      "application/scrapbook.scrap.json+json": {
       "data": [
        [
         0.005907730616512671,
         0.005764234610533964,
         0.0060655276425951605,
         0.0025041240652515025,
         0.004004917335879672,
         0.004763600965938057,
         0.005116111591775975,
         0.006186682279106766,
         0.005646719515270966,
         0.006808730753887793,
         0.005889687268697636,
         0.005819809331624208,
         0.0041252800316203195,
         0.007139932307006417,
         0.005598309556224852,
         0.007583967370101215,
         0.002664242308466476,
         0.007128645408356571,
         0.005786129391729562,
         0.005715841191831036,
         0.004753655144319806,
         0.005209186373454662,
         0.00570306782290292,
         0.006587587776639465,
         0.006190255272407781,
         0.005878087566928647,
         0.005720890753044168,
         0.005232316470316685,
         0.005864127944660598,
         0.007613939847799259,
         0.006942732992150964,
         0.0073295451351931,
         0.006948315279562858,
         0.007581440854317253,
         0.006527415752267599,
         0.0045956734464916455,
         0.005164860439081605,
         0.006841916188887198,
         0.008144585823551273,
         0.005589970581664957,
         0.007791120694193328,
         0.005600279927518333,
         0.0063630367097674626,
         0.006740954221457288,
         0.004729132818453462,
         0.005577021347642981,
         0.005808993791897617,
         0.007762913558562486,
         0.005164078746527324,
         0.007426337464944979,
         0.00518793682210298,
         0.00461638056700227,
         0.005180956130042528,
         0.006102156755411542,
         0.00559770421661762,
         0.006763615898636724,
         0.003335000804077433,
         0.006170795118806701,
         0.005455157584190714,
         0.007662820199954241,
         0.0052432482205863815,
         0.005550195737808834,
         0.005199336428692286,
         0.005359342187470769,
         0.006186626958321258,
         0.006145532514049175,
         0.005705722244248675,
         0.007859603017312419,
         0.005680450515656703,
         0.00636536120708536,
         0.005820793328889302,
         0.003846603724973148,
         0.0036468223241229517,
         0.008408084488023168,
         0.0043322107880659115,
         0.006287157985988469,
         0.005003121180644094,
         0.005674969067165308,
         0.004912792120166369,
         0.006523800090678258,
         0.0069762469711068,
         0.004495471861353191,
         0.007661556486262442,
         0.006662411457509784,
         0.005463494851407287,
         0.006569685941317935,
         0.006383375104819752,
         0.002515604798568595,
         0.006378174962559163,
         0.006373294814483522,
         0.005853468374891481,
         0.007637385289337192,
         0.006242727559205429,
         0.005520827999179067,
         0.006741548674963546,
         0.0059265856324615136,
         0.004909859905373258,
         0.005526930182429109,
         0.006924208314610827,
         0.005690238432906828
        ],
        [
         0.05230757244862616,
         0.0581051962915808,
         0.0505286315921694,
         0.03778577842749655,
         0.046300925547257066,
         0.050907039130106566,
         0.050211153784766795,
         0.05729685598053038,
         0.056193392956629395,
         0.060669312300160524,
         0.05395832755602896,
         0.05543497749604285,
         0.04976164610125124,
         0.06270409249700606,
         0.0585641170386225,
         0.06430243426002562,
         0.04291081973351538,
         0.05606955387629568,
         0.05213386514224112,
         0.05327690714038909,
         0.048243928933516145,
         0.054444566601887345,
         0.05439669811166823,
         0.05976283201016486,
         0.055450608814135195,
         0.05406214133836329,
         0.056271285051479936,
         0.05604500197805464,
         0.055775045836344364,
         0.06886466690339148,
         0.05732648395933211,
         0.055091072851791975,
         0.06144998543895781,
         0.0672018605750054,
         0.056052915984764695,
         0.04148490675725043,
         0.05097527229227126,
         0.061121397325769065,
         0.06340067782439292,
         0.05003485851921141,
         0.06557568558491766,
         0.05465117641724646,
         0.0571308980230242,
         0.05756102898158133,
         0.050970388343557715,
         0.05632775970734656,
         0.04740745150484145,
         0.0579029614571482,
         0.048807586962357166,
         0.06271926411427557,
         0.05016386010684073,
         0.04719032780267298,
         0.05498000518418848,
         0.055711052799597385,
         0.05172417224384844,
         0.05706218504346907,
         0.045233808690682054,
         0.055514016980305315,
         0.05607079812325537,
         0.06510795601643622,
         0.05212042653001845,
         0.048916700715199116,
         0.05280724898912013,
         0.050680604809895155,
         0.05497490488924086,
         0.06166896247304976,
         0.056065871054306625,
         0.06735669472254813,
         0.05321944528259337,
         0.05429589324630797,
         0.06374636315740645,
         0.037841969961300494,
         0.04393448927439749,
         0.06837220662273466,
         0.047554211551323534,
         0.06304065906442702,
         0.05337326847948134,
         0.049268542090430856,
         0.051204521348699926,
         0.05753988423384726,
         0.05426346161402762,
         0.04455804177559912,
         0.05958027592860162,
         0.05099622276611626,
         0.05801537507213652,
         0.053642188245430586,
         0.05241230227984488,
         0.035058839106932284,
         0.05651761838234961,
         0.058671079808846116,
         0.061844809958711264,
         0.05587643482722342,
         0.053665618086233734,
         0.0558780858758837,
         0.05685841687954962,
         0.05396147915162146,
         0.052147326851263644,
         0.05268524610437453,
         0.061344764614477756,
         0.04867271385155618
        ],
        [
         1.0461514489725232,
         1.162103925831616,
         1.010572631843388,
         0.755715568549931,
         0.9260185109451413,
         1.0181407826021314,
         1.0042230756953359,
         1.1459371196106076,
         1.123867859132588,
         1.2133862460032105,
         1.0791665511205792,
         1.108699549920857,
         0.9952329220250249,
         1.2540818499401212,
         1.17128234077245,
         1.2860486852005124,
         0.8582163946703076,
         1.1213910775259137,
         1.0426773028448224,
         1.0655381428077817,
         0.9648785786703229,
         1.088891332037747,
         1.0879339622333646,
         1.1952566402032971,
         1.1090121762827039,
         1.0812428267672658,
         1.1254257010295987,
         1.1209000395610929,
         1.1155009167268872,
         1.3772933380678296,
         1.1465296791866422,
         1.1018214570358396,
         1.2289997087791562,
         1.3440372115001082,
         1.121058319695294,
         0.8296981351450086,
         1.0195054458454251,
         1.2224279465153813,
         1.2680135564878583,
         1.0006971703842282,
         1.3115137116983533,
         1.0930235283449292,
         1.142617960460484,
         1.1512205796316266,
         1.0194077668711543,
         1.1265551941469312,
         0.9481490300968289,
         1.1580592291429639,
         0.9761517392471433,
         1.2543852822855115,
         1.0032772021368146,
         0.9438065560534596,
         1.0996001036837697,
         1.1142210559919477,
         1.0344834448769689,
         1.1412437008693814,
         0.9046761738136411,
         1.1102803396061063,
         1.1214159624651074,
         1.3021591203287244,
         1.042408530600369,
         0.9783340143039823,
         1.0561449797824025,
         1.0136120961979032,
         1.0994980977848172,
         1.2333792494609952,
         1.1213174210861325,
         1.3471338944509625,
         1.0643889056518674,
         1.0859178649261594,
         1.274927263148129,
         0.7568393992260098,
         0.8786897854879498,
         1.3674441324546933,
         0.9510842310264707,
         1.2608131812885404,
         1.0674653695896268,
         0.9853708418086171,
         1.0240904269739985,
         1.1507976846769452,
         1.0852692322805524,
         0.8911608355119824,
         1.1916055185720325,
         1.0199244553223252,
         1.1603075014427304,
         1.0728437649086118,
         1.0482460455968976,
         0.7011767821386456,
         1.1303523676469922,
         1.1734215961769223,
         1.2368961991742253,
         1.1175286965444684,
         1.0733123617246747,
         1.117561717517674,
         1.1371683375909925,
         1.0792295830324292,
         1.0429465370252728,
         1.0537049220874906,
         1.226895292289555,
         0.9734542770311236
        ],
        [
         0.34373625402371133,
         0.33953599545656316,
         0.34829664490474666,
         0.2237911555558665,
         0.2830165131535498,
         0.30866165832309195,
         0.31987846416337484,
         0.3517579360613422,
         0.33605712357487577,
         0.3690184481536876,
         0.3432109342284315,
         0.3411688535497989,
         0.2872378816110549,
         0.3778870812030074,
         0.33461349513206584,
         0.3894603284058908,
         0.23083510601580845,
         0.3775882786410767,
         0.3401802284592555,
         0.3381077104069363,
         0.30833926588483035,
         0.3227750415832879,
         0.33772970917296924,
         0.3629762465131697,
         0.351859496742884,
         0.3428727917735278,
         0.33825702514638684,
         0.3234908490302835,
         0.34246541269624875,
         0.39022915954088455,
         0.3726320703361686,
         0.3828719142270192,
         0.3727818471858,
         0.3893954507776703,
         0.3613147036107885,
         0.3031723419605306,
         0.32139883133208824,
         0.3699166443642999,
         0.40359845945075834,
         0.33436419011804946,
         0.39474347858307496,
         0.3346723749435657,
         0.3567362249552872,
         0.3671771839713706,
         0.3075429341881703,
         0.3339766862415094,
         0.3408516918513862,
         0.39402826189405465,
         0.3213745088375033,
         0.38539168296539505,
         0.32211602947084084,
         0.3038545891377081,
         0.3218992429330187,
         0.34934672620225143,
         0.3345954039319016,
         0.36779385254886254,
         0.2582634625368998,
         0.35130599536036106,
         0.33030766216334473,
         0.39147976192784834,
         0.32382860344899683,
         0.33317249999988996,
         0.3224697328027015,
         0.3273940191106358,
         0.3517563633630885,
         0.3505861524375763,
         0.3378082960570588,
         0.3964745393417443,
         0.3370593572549708,
         0.3568013791196822,
         0.34119769427384183,
         0.27736631824982455,
         0.27006748505227174,
         0.41007522451431194,
         0.29435389544104595,
         0.35460281967261537,
         0.31632645101679674,
         0.3368966923899761,
         0.31345787979141215,
         0.36121462015478434,
         0.37353037282413326,
         0.2998490240555467,
         0.3914474801620887,
         0.3650318193667446,
         0.3305599749336658,
         0.3624827152104755,
         0.35730589429282444,
         0.22430357993436464,
         0.35716032709580614,
         0.35702366348698855,
         0.34215401137182305,
         0.3908295098719438,
         0.3533476350339826,
         0.3322898734291813,
         0.3671933734413938,
         0.34428434853944534,
         0.31336432168877354,
         0.33247346307424624,
         0.37213460775936513,
         0.33734962377055727
        ]
       ],
       "encoder": "json",
       "name": "ABC_GAN_3 Metrics",
       "version": 1
      }
     },
     "metadata": {
      "scrapbook": {
       "data": true,
       "display": false,
       "name": "ABC_GAN_3 Metrics"
      }
     },
     "output_type": "display_data"
    },
    {
     "name": "stdout",
     "output_type": "stream",
     "text": [
      "MSE\n",
      "0.005878810601305569\n"
     ]
    }
   ],
   "source": [
    "ABC_GAN3_metrics=ABC_train_test2.test_generator(gen3,test_data,prior_model,variance,bias,\"3\",device)\n",
    "sb.glue(\"ABC_GAN_3 Metrics\",ABC_GAN3_metrics)\n",
    "\n",
    "print(\"MSE\")\n",
    "print(mean(ABC_GAN3_metrics[0]))"
   ]
  },
  {
   "cell_type": "code",
   "execution_count": 18,
   "id": "c8e46b48",
   "metadata": {
    "execution": {
     "iopub.execute_input": "2022-03-16T13:36:01.967352Z",
     "iopub.status.busy": "2022-03-16T13:36:01.966941Z",
     "iopub.status.idle": "2022-03-16T13:36:02.284537Z",
     "shell.execute_reply": "2022-03-16T13:36:02.284805Z"
    },
    "id": "c8e46b48",
    "papermill": {
     "duration": 0.339129,
     "end_time": "2022-03-16T13:36:02.284936",
     "exception": false,
     "start_time": "2022-03-16T13:36:01.945807",
     "status": "completed"
    },
    "tags": []
   },
   "outputs": [
    {
     "data": {
      "image/png": "[encoded data removed]",
      "text/plain": [
       "<Figure size 432x288 with 1 Axes>"
      ]
     },
     "metadata": {
      "needs_background": "light"
     },
     "output_type": "display_data"
    },
    {
     "data": {
      "image/png": "[encoded data removed]",
      "text/plain": [
       "<Figure size 432x288 with 1 Axes>"
      ]
     },
     "metadata": {
      "needs_background": "light"
     },
     "output_type": "display_data"
    },
    {
     "data": {
      "image/png": "[encoded data removed]",
      "text/plain": [
       "<Figure size 432x288 with 1 Axes>"
      ]
     },
     "metadata": {
      "needs_background": "light"
     },
     "output_type": "display_data"
    },
    {
     "data": {
      "image/png": "[encoded data removed]",
      "text/plain": [
       "<Figure size 432x288 with 1 Axes>"
      ]
     },
     "metadata": {
      "needs_background": "light"
     },
     "output_type": "display_data"
    }
   ],
   "source": [
    "sanityChecks.discProbVsError(train_data,disc3,device)\n",
    "sanityChecks.discProbVsError(test_data,disc3,device)"
   ]
  },
  {
   "cell_type": "markdown",
   "id": "a5bd74c3",
   "metadata": {
    "id": "a5bd74c3",
    "papermill": {
     "duration": 0.021651,
     "end_time": "2022-03-16T13:36:02.328742",
     "exception": false,
     "start_time": "2022-03-16T13:36:02.307091",
     "status": "completed"
    },
    "tags": []
   },
   "source": [
    "## Skip Connection Model Analysis - ABC-GAN "
   ]
  },
  {
   "cell_type": "markdown",
   "id": "5744a8bf",
   "metadata": {
    "id": "5744a8bf",
    "papermill": {
     "duration": 0.021414,
     "end_time": "2022-03-16T13:36:02.371692",
     "exception": false,
     "start_time": "2022-03-16T13:36:02.350278",
     "status": "completed"
    },
    "tags": []
   },
   "source": [
    "### Weight Analysis \n",
    "\n",
    "Study the weights of the skip connection layer\n",
    "\n",
    "Equation of the skip connection is \n",
    "\n",
    "$output = y_{gan} * w + y_{abc} * (1-w)$"
   ]
  },
  {
   "cell_type": "code",
   "execution_count": 19,
   "id": "52c31dea",
   "metadata": {
    "execution": {
     "iopub.execute_input": "2022-03-16T13:36:02.417969Z",
     "iopub.status.busy": "2022-03-16T13:36:02.417557Z",
     "iopub.status.idle": "2022-03-16T13:36:02.421062Z",
     "shell.execute_reply": "2022-03-16T13:36:02.421327Z"
    },
    "id": "52c31dea",
    "papermill": {
     "duration": 0.028198,
     "end_time": "2022-03-16T13:36:02.421449",
     "exception": false,
     "start_time": "2022-03-16T13:36:02.393251",
     "status": "completed"
    },
    "tags": []
   },
   "outputs": [
    {
     "name": "stdout",
     "output_type": "stream",
     "text": [
      "Weight of the node at skip connection\n",
      "Parameter containing:\n",
      "tensor([[0.3164]], requires_grad=True)\n"
     ]
    },
    {
     "data": {
      "application/scrapbook.scrap.json+json": {
       "data": 0.31635504961013794,
       "encoder": "json",
       "name": "Skip Connection Weight",
       "version": 1
      }
     },
     "metadata": {
      "scrapbook": {
       "data": true,
       "display": false,
       "name": "Skip Connection Weight"
      }
     },
     "output_type": "display_data"
    }
   ],
   "source": [
    "print(\"Weight of the node at skip connection\")\n",
    "for name,param in gen3.named_parameters():\n",
    "    if(name == \"skipNode.weight\"):\n",
    "        print(param)\n",
    "        sb.glue(\"Skip Connection Weight\",param.item())"
   ]
  }
 ],
 "metadata": {
  "colab": {
   "collapsed_sections": [],
   "name": "ABC_GAN_Model-Catboost_Pre-gen.ipynb",
   "provenance": []
  },
  "interpreter": {
   "hash": "31f2aee4e71d21fbe5cf8b01ff0e069b9275f58929596ceb00d14d90e3e16cd6"
  },
  "kernelspec": {
   "display_name": "Python 3 (ipykernel)",
   "language": "python",
   "name": "python3"
  },
  "language_info": {
   "codemirror_mode": {
    "name": "ipython",
    "version": 3
   },
   "file_extension": ".py",
   "mimetype": "text/x-python",
   "name": "python",
   "nbconvert_exporter": "python",
   "pygments_lexer": "ipython3",
   "version": "3.8.11"
  },
  "papermill": {
   "default_parameters": {},
   "duration": 63.359655,
   "end_time": "2022-03-16T13:36:02.751061",
   "environment_variables": {},
   "exception": null,
   "input_path": "ABC_GAN-Catboost.ipynb",
   "output_path": "./ABC_GAN_Catboost/ABC-GAN_output_7_0.ipynb",
   "parameters": {
    "bias": 1,
    "variance": 1
   },
   "start_time": "2022-03-16T13:34:59.391406",
   "version": "2.3.3"
  }
 },
 "nbformat": 4,
 "nbformat_minor": 5
}