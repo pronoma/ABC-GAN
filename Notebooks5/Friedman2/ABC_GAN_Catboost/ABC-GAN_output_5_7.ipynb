{
 "cells": [
  {
   "cell_type": "markdown",
   "id": "622780e6",
   "metadata": {
    "id": "622780e6",
    "papermill": {
     "duration": 0.027875,
     "end_time": "2022-03-16T13:23:57.490955",
     "exception": false,
     "start_time": "2022-03-16T13:23:57.463080",
     "status": "completed"
    },
    "tags": []
   },
   "source": [
    "## Import Libraries "
   ]
  },
  {
   "cell_type": "code",
   "execution_count": 1,
   "id": "a62397e3",
   "metadata": {
    "execution": {
     "iopub.execute_input": "2022-03-16T13:23:57.531722Z",
     "iopub.status.busy": "2022-03-16T13:23:57.531023Z",
     "iopub.status.idle": "2022-03-16T13:23:57.533928Z",
     "shell.execute_reply": "2022-03-16T13:23:57.534337Z"
    },
    "id": "a62397e3",
    "papermill": {
     "duration": 0.025706,
     "end_time": "2022-03-16T13:23:57.534615",
     "exception": false,
     "start_time": "2022-03-16T13:23:57.508909",
     "status": "completed"
    },
    "tags": []
   },
   "outputs": [],
   "source": [
    "import warnings\n",
    "import sys\n",
    "sys.path.insert(0, '../../src')\n",
    "warnings.filterwarnings('ignore')"
   ]
  },
  {
   "cell_type": "code",
   "execution_count": 2,
   "id": "d6a4e155",
   "metadata": {
    "execution": {
     "iopub.execute_input": "2022-03-16T13:23:57.556684Z",
     "iopub.status.busy": "2022-03-16T13:23:57.556197Z",
     "iopub.status.idle": "2022-03-16T13:23:59.522720Z",
     "shell.execute_reply": "2022-03-16T13:23:59.523001Z"
    },
    "id": "d6a4e155",
    "papermill": {
     "duration": 1.978368,
     "end_time": "2022-03-16T13:23:59.523133",
     "exception": false,
     "start_time": "2022-03-16T13:23:57.544765",
     "status": "completed"
    },
    "tags": []
   },
   "outputs": [],
   "source": [
    "import ABC_train_test2\n",
    "import friedman2Dataset\n",
    "import network\n",
    "import dataset\n",
    "import sanityChecks\n",
    "import torch \n",
    "import scrapbook as sb\n",
    "from statistics import mean \n",
    "import catboost as ctb \n",
    "from sklearn.model_selection import train_test_split\n",
    "from sklearn.metrics import mean_squared_error,mean_absolute_error\n",
    "import numpy as np"
   ]
  },
  {
   "cell_type": "markdown",
   "id": "2fa5b0f7",
   "metadata": {
    "id": "2fa5b0f7",
    "papermill": {
     "duration": 0.007884,
     "end_time": "2022-03-16T13:23:59.538899",
     "exception": false,
     "start_time": "2022-03-16T13:23:59.531015",
     "status": "completed"
    },
    "tags": []
   },
   "source": [
    "## Parameters "
   ]
  },
  {
   "cell_type": "code",
   "execution_count": 3,
   "id": "783186fb",
   "metadata": {
    "execution": {
     "iopub.execute_input": "2022-03-16T13:23:59.556703Z",
     "iopub.status.busy": "2022-03-16T13:23:59.556302Z",
     "iopub.status.idle": "2022-03-16T13:23:59.557587Z",
     "shell.execute_reply": "2022-03-16T13:23:59.557849Z"
    },
    "id": "783186fb",
    "papermill": {
     "duration": 0.011495,
     "end_time": "2022-03-16T13:23:59.557968",
     "exception": false,
     "start_time": "2022-03-16T13:23:59.546473",
     "status": "completed"
    },
    "tags": [
     "parameters"
    ]
   },
   "outputs": [],
   "source": [
    "variance = 1\n",
    "bias = 1 "
   ]
  },
  {
   "cell_type": "code",
   "execution_count": 4,
   "id": "0cc6c484",
   "metadata": {
    "execution": {
     "iopub.execute_input": "2022-03-16T13:23:59.575797Z",
     "iopub.status.busy": "2022-03-16T13:23:59.575395Z",
     "iopub.status.idle": "2022-03-16T13:23:59.576647Z",
     "shell.execute_reply": "2022-03-16T13:23:59.576892Z"
    },
    "papermill": {
     "duration": 0.011281,
     "end_time": "2022-03-16T13:23:59.577018",
     "exception": false,
     "start_time": "2022-03-16T13:23:59.565737",
     "status": "completed"
    },
    "tags": [
     "injected-parameters"
    ]
   },
   "outputs": [],
   "source": [
    "# Parameters\n",
    "variance = 0.1\n",
    "bias = 0.01\n"
   ]
  },
  {
   "cell_type": "markdown",
   "id": "391cdbfd",
   "metadata": {
    "id": "391cdbfd",
    "papermill": {
     "duration": 0.007546,
     "end_time": "2022-03-16T13:23:59.592239",
     "exception": false,
     "start_time": "2022-03-16T13:23:59.584693",
     "status": "completed"
    },
    "tags": []
   },
   "source": [
    "## Dataset \n"
   ]
  },
  {
   "cell_type": "code",
   "execution_count": 5,
   "id": "5b51f161",
   "metadata": {
    "execution": {
     "iopub.execute_input": "2022-03-16T13:23:59.610914Z",
     "iopub.status.busy": "2022-03-16T13:23:59.610459Z",
     "iopub.status.idle": "2022-03-16T13:23:59.611821Z",
     "shell.execute_reply": "2022-03-16T13:23:59.612129Z"
    },
    "id": "5b51f161",
    "papermill": {
     "duration": 0.011531,
     "end_time": "2022-03-16T13:23:59.612263",
     "exception": false,
     "start_time": "2022-03-16T13:23:59.600732",
     "status": "completed"
    },
    "tags": []
   },
   "outputs": [],
   "source": [
    "#Parameters \n",
    "n_features = 4\n",
    "n_samples= 100\n",
    "n_target = 1 "
   ]
  },
  {
   "cell_type": "code",
   "execution_count": 6,
   "id": "5d6eced4",
   "metadata": {
    "execution": {
     "iopub.execute_input": "2022-03-16T13:23:59.632519Z",
     "iopub.status.busy": "2022-03-16T13:23:59.632073Z",
     "iopub.status.idle": "2022-03-16T13:23:59.638841Z",
     "shell.execute_reply": "2022-03-16T13:23:59.639104Z"
    },
    "id": "5d6eced4",
    "papermill": {
     "duration": 0.019101,
     "end_time": "2022-03-16T13:23:59.639232",
     "exception": false,
     "start_time": "2022-03-16T13:23:59.620131",
     "status": "completed"
    },
    "tags": []
   },
   "outputs": [
    {
     "name": "stdout",
     "output_type": "stream",
     "text": [
      "          X1           X2        X3         X4            Y\n",
      "0   3.057286   966.385368  0.945275   6.416681   913.651946\n",
      "1  44.453228  1144.843449  0.525932   4.975394   603.888126\n",
      "2   5.252176  1631.219336  0.922349  10.395063  1504.554836\n",
      "3  12.494751  1687.795362  0.629394   9.613041  1062.247312\n",
      "4  58.339453  1181.057473  0.872546   9.522834  1032.293359\n"
     ]
    }
   ],
   "source": [
    "X,Y = friedman2Dataset.friedman2_data(n_samples)"
   ]
  },
  {
   "cell_type": "code",
   "execution_count": 7,
   "id": "fe007438",
   "metadata": {
    "execution": {
     "iopub.execute_input": "2022-03-16T13:23:59.658388Z",
     "iopub.status.busy": "2022-03-16T13:23:59.657992Z",
     "iopub.status.idle": "2022-03-16T13:23:59.659556Z",
     "shell.execute_reply": "2022-03-16T13:23:59.659830Z"
    },
    "id": "fe007438",
    "papermill": {
     "duration": 0.012449,
     "end_time": "2022-03-16T13:23:59.659949",
     "exception": false,
     "start_time": "2022-03-16T13:23:59.647500",
     "status": "completed"
    },
    "tags": []
   },
   "outputs": [],
   "source": [
    "#Train test split for dataset \n",
    "X_train,X_test,Y_train,Y_test = train_test_split(X,Y,test_size = 0.2)\n",
    "train_data = dataset.CustomDataset(X_train,Y_train)\n",
    "test_data = dataset.CustomDataset(X_test,Y_test)\n"
   ]
  },
  {
   "cell_type": "markdown",
   "id": "a9a1af34",
   "metadata": {
    "id": "a9a1af34",
    "papermill": {
     "duration": 0.007716,
     "end_time": "2022-03-16T13:23:59.675662",
     "exception": false,
     "start_time": "2022-03-16T13:23:59.667946",
     "status": "completed"
    },
    "tags": []
   },
   "source": [
    "## Training Parameters "
   ]
  },
  {
   "cell_type": "code",
   "execution_count": 8,
   "id": "952b7fc8",
   "metadata": {
    "execution": {
     "iopub.execute_input": "2022-03-16T13:23:59.694643Z",
     "iopub.status.busy": "2022-03-16T13:23:59.694190Z",
     "iopub.status.idle": "2022-03-16T13:23:59.695433Z",
     "shell.execute_reply": "2022-03-16T13:23:59.695693Z"
    },
    "id": "952b7fc8",
    "papermill": {
     "duration": 0.011974,
     "end_time": "2022-03-16T13:23:59.695850",
     "exception": false,
     "start_time": "2022-03-16T13:23:59.683876",
     "status": "completed"
    },
    "tags": []
   },
   "outputs": [],
   "source": [
    "batch_size = 32\n",
    "n_epochs = 1000\n",
    "#Select the device \n",
    "device = torch.device('cuda' if torch.cuda.is_available() else 'cpu')"
   ]
  },
  {
   "cell_type": "markdown",
   "id": "a95e1600",
   "metadata": {
    "id": "a95e1600",
    "papermill": {
     "duration": 0.007761,
     "end_time": "2022-03-16T13:23:59.711712",
     "exception": false,
     "start_time": "2022-03-16T13:23:59.703951",
     "status": "completed"
    },
    "tags": []
   },
   "source": [
    "# ABC Pre-generator Model \n",
    "\n",
    "1. The catboost model is used as a pre-generator model for the ABC-GAN. \n",
    "2. The model is first trained on the entire dataset \n",
    "3. It generats X,Y pairs and we add some Gaussian noise with mean 0 and variance 1 to it which is then feed as input to the generator.\n"
   ]
  },
  {
   "cell_type": "code",
   "execution_count": 9,
   "id": "ff8ce7bd",
   "metadata": {
    "execution": {
     "iopub.execute_input": "2022-03-16T13:23:59.732609Z",
     "iopub.status.busy": "2022-03-16T13:23:59.732092Z",
     "iopub.status.idle": "2022-03-16T13:24:00.367613Z",
     "shell.execute_reply": "2022-03-16T13:24:00.367937Z"
    },
    "id": "ff8ce7bd",
    "papermill": {
     "duration": 0.648126,
     "end_time": "2022-03-16T13:24:00.368066",
     "exception": false,
     "start_time": "2022-03-16T13:23:59.719940",
     "status": "completed"
    },
    "tags": []
   },
   "outputs": [
    {
     "name": "stdout",
     "output_type": "stream",
     "text": [
      "Learning rate set to 0.024897\n",
      "0:\tlearn: 1.0134189\ttotal: 53.5ms\tremaining: 53.5s\n",
      "1:\tlearn: 1.0018953\ttotal: 54.3ms\tremaining: 27.1s\n",
      "2:\tlearn: 0.9906271\ttotal: 54.8ms\tremaining: 18.2s\n",
      "3:\tlearn: 0.9794615\ttotal: 55.3ms\tremaining: 13.8s\n",
      "4:\tlearn: 0.9662882\ttotal: 55.7ms\tremaining: 11.1s\n",
      "5:\tlearn: 0.9551147\ttotal: 56.4ms\tremaining: 9.34s\n",
      "6:\tlearn: 0.9412373\ttotal: 56.7ms\tremaining: 8.05s\n",
      "7:\tlearn: 0.9286648\ttotal: 57.2ms\tremaining: 7.09s\n",
      "8:\tlearn: 0.9153178\ttotal: 57.7ms\tremaining: 6.36s\n",
      "9:\tlearn: 0.9011731\ttotal: 58.2ms\tremaining: 5.76s\n",
      "10:\tlearn: 0.8883438\ttotal: 58.6ms\tremaining: 5.27s\n",
      "11:\tlearn: 0.8749643\ttotal: 59ms\tremaining: 4.86s\n",
      "12:\tlearn: 0.8633698\ttotal: 62ms\tremaining: 4.7s\n",
      "13:\tlearn: 0.8496381\ttotal: 62.8ms\tremaining: 4.42s\n",
      "14:\tlearn: 0.8387653\ttotal: 63.3ms\tremaining: 4.16s\n",
      "15:\tlearn: 0.8279852\ttotal: 63.7ms\tremaining: 3.92s\n",
      "16:\tlearn: 0.8152518\ttotal: 64.3ms\tremaining: 3.72s\n",
      "17:\tlearn: 0.8042723\ttotal: 64.8ms\tremaining: 3.54s\n",
      "18:\tlearn: 0.7960608\ttotal: 65.2ms\tremaining: 3.37s\n",
      "19:\tlearn: 0.7834966\ttotal: 65.7ms\tremaining: 3.22s\n",
      "20:\tlearn: 0.7713042\ttotal: 66.2ms\tremaining: 3.09s\n",
      "21:\tlearn: 0.7616230\ttotal: 66.6ms\tremaining: 2.96s\n",
      "22:\tlearn: 0.7511680\ttotal: 67ms\tremaining: 2.85s\n",
      "23:\tlearn: 0.7406067\ttotal: 67.4ms\tremaining: 2.74s\n",
      "24:\tlearn: 0.7308190\ttotal: 67.8ms\tremaining: 2.64s\n",
      "25:\tlearn: 0.7209776\ttotal: 68.2ms\tremaining: 2.55s\n",
      "26:\tlearn: 0.7132904\ttotal: 68.6ms\tremaining: 2.47s\n",
      "27:\tlearn: 0.7046647\ttotal: 69ms\tremaining: 2.4s\n",
      "28:\tlearn: 0.6935655\ttotal: 69.4ms\tremaining: 2.33s\n",
      "29:\tlearn: 0.6831702\ttotal: 69.9ms\tremaining: 2.26s\n",
      "30:\tlearn: 0.6746453\ttotal: 70.2ms\tremaining: 2.19s\n",
      "31:\tlearn: 0.6653007\ttotal: 70.7ms\tremaining: 2.14s\n",
      "32:\tlearn: 0.6566866\ttotal: 71.1ms\tremaining: 2.08s\n",
      "33:\tlearn: 0.6497685\ttotal: 71.5ms\tremaining: 2.03s\n",
      "34:\tlearn: 0.6413547\ttotal: 72ms\tremaining: 1.99s\n",
      "35:\tlearn: 0.6318220\ttotal: 72.5ms\tremaining: 1.94s\n",
      "36:\tlearn: 0.6223871\ttotal: 73.1ms\tremaining: 1.9s\n",
      "37:\tlearn: 0.6150160\ttotal: 73.5ms\tremaining: 1.86s\n",
      "38:\tlearn: 0.6073920\ttotal: 73.9ms\tremaining: 1.82s\n",
      "39:\tlearn: 0.5997049\ttotal: 74.5ms\tremaining: 1.79s\n",
      "40:\tlearn: 0.5911870\ttotal: 75.1ms\tremaining: 1.76s\n",
      "41:\tlearn: 0.5827928\ttotal: 75.6ms\tremaining: 1.72s\n",
      "42:\tlearn: 0.5756832\ttotal: 76ms\tremaining: 1.69s\n",
      "43:\tlearn: 0.5691046\ttotal: 76.4ms\tremaining: 1.66s\n",
      "44:\tlearn: 0.5612915\ttotal: 77.1ms\tremaining: 1.64s\n",
      "45:\tlearn: 0.5545399\ttotal: 77.8ms\tremaining: 1.61s\n",
      "46:\tlearn: 0.5472701\ttotal: 78.3ms\tremaining: 1.59s\n",
      "47:\tlearn: 0.5407036\ttotal: 78.7ms\tremaining: 1.56s\n",
      "48:\tlearn: 0.5351079\ttotal: 79ms\tremaining: 1.53s\n",
      "49:\tlearn: 0.5283662\ttotal: 79.5ms\tremaining: 1.51s\n",
      "50:\tlearn: 0.5219346\ttotal: 80ms\tremaining: 1.49s\n",
      "51:\tlearn: 0.5151572\ttotal: 80.5ms\tremaining: 1.47s\n",
      "52:\tlearn: 0.5079972\ttotal: 81.1ms\tremaining: 1.45s\n",
      "53:\tlearn: 0.5007556\ttotal: 81.5ms\tremaining: 1.43s\n",
      "54:\tlearn: 0.4934883\ttotal: 81.9ms\tremaining: 1.41s\n",
      "55:\tlearn: 0.4879459\ttotal: 82.3ms\tremaining: 1.39s\n",
      "56:\tlearn: 0.4813659\ttotal: 82.8ms\tremaining: 1.37s\n",
      "57:\tlearn: 0.4755207\ttotal: 83.2ms\tremaining: 1.35s\n",
      "58:\tlearn: 0.4696076\ttotal: 83.8ms\tremaining: 1.34s\n",
      "59:\tlearn: 0.4631565\ttotal: 84.2ms\tremaining: 1.32s\n",
      "60:\tlearn: 0.4577185\ttotal: 84.7ms\tremaining: 1.3s\n",
      "61:\tlearn: 0.4519821\ttotal: 85.2ms\tremaining: 1.29s\n",
      "62:\tlearn: 0.4470848\ttotal: 85.6ms\tremaining: 1.27s\n",
      "63:\tlearn: 0.4402839\ttotal: 86ms\tremaining: 1.26s\n",
      "64:\tlearn: 0.4350293\ttotal: 86.5ms\tremaining: 1.24s\n",
      "65:\tlearn: 0.4299360\ttotal: 87ms\tremaining: 1.23s\n",
      "66:\tlearn: 0.4248831\ttotal: 87.5ms\tremaining: 1.22s\n",
      "67:\tlearn: 0.4199533\ttotal: 88ms\tremaining: 1.21s\n",
      "68:\tlearn: 0.4133410\ttotal: 88.3ms\tremaining: 1.19s\n",
      "69:\tlearn: 0.4077812\ttotal: 88.7ms\tremaining: 1.18s\n",
      "70:\tlearn: 0.4022424\ttotal: 89.2ms\tremaining: 1.17s\n",
      "71:\tlearn: 0.3978999\ttotal: 89.9ms\tremaining: 1.16s\n",
      "72:\tlearn: 0.3937853\ttotal: 90.5ms\tremaining: 1.15s\n",
      "73:\tlearn: 0.3898945\ttotal: 91.2ms\tremaining: 1.14s\n",
      "74:\tlearn: 0.3850950\ttotal: 91.7ms\tremaining: 1.13s\n",
      "75:\tlearn: 0.3802282\ttotal: 92.1ms\tremaining: 1.12s\n",
      "76:\tlearn: 0.3755052\ttotal: 92.7ms\tremaining: 1.11s\n",
      "77:\tlearn: 0.3702444\ttotal: 93.2ms\tremaining: 1.1s\n",
      "78:\tlearn: 0.3654788\ttotal: 93.6ms\tremaining: 1.09s\n",
      "79:\tlearn: 0.3611769\ttotal: 94ms\tremaining: 1.08s\n",
      "80:\tlearn: 0.3577350\ttotal: 94.4ms\tremaining: 1.07s\n",
      "81:\tlearn: 0.3526516\ttotal: 94.8ms\tremaining: 1.06s\n",
      "82:\tlearn: 0.3479479\ttotal: 95.2ms\tremaining: 1.05s\n",
      "83:\tlearn: 0.3436954\ttotal: 95.6ms\tremaining: 1.04s\n",
      "84:\tlearn: 0.3397053\ttotal: 96.1ms\tremaining: 1.03s\n",
      "85:\tlearn: 0.3356229\ttotal: 96.5ms\tremaining: 1.02s\n"
     ]
    },
    {
     "name": "stdout",
     "output_type": "stream",
     "text": [
      "86:\tlearn: 0.3322827\ttotal: 97.3ms\tremaining: 1.02s\n",
      "87:\tlearn: 0.3286326\ttotal: 97.9ms\tremaining: 1.01s\n",
      "88:\tlearn: 0.3250423\ttotal: 98.4ms\tremaining: 1.01s\n",
      "89:\tlearn: 0.3217238\ttotal: 98.9ms\tremaining: 1s\n",
      "90:\tlearn: 0.3181484\ttotal: 99.4ms\tremaining: 993ms\n",
      "91:\tlearn: 0.3146877\ttotal: 99.9ms\tremaining: 986ms\n",
      "92:\tlearn: 0.3105966\ttotal: 100ms\tremaining: 979ms\n",
      "93:\tlearn: 0.3062080\ttotal: 101ms\tremaining: 972ms\n",
      "94:\tlearn: 0.3023756\ttotal: 101ms\tremaining: 965ms\n",
      "95:\tlearn: 0.2992475\ttotal: 102ms\tremaining: 959ms\n",
      "96:\tlearn: 0.2956763\ttotal: 102ms\tremaining: 953ms\n",
      "97:\tlearn: 0.2922319\ttotal: 103ms\tremaining: 947ms\n",
      "98:\tlearn: 0.2884065\ttotal: 103ms\tremaining: 940ms\n",
      "99:\tlearn: 0.2843247\ttotal: 104ms\tremaining: 932ms\n",
      "100:\tlearn: 0.2807780\ttotal: 104ms\tremaining: 927ms\n",
      "101:\tlearn: 0.2778282\ttotal: 105ms\tremaining: 921ms\n",
      "102:\tlearn: 0.2746432\ttotal: 105ms\tremaining: 916ms\n",
      "103:\tlearn: 0.2716026\ttotal: 105ms\tremaining: 908ms\n",
      "104:\tlearn: 0.2679072\ttotal: 106ms\tremaining: 901ms\n",
      "105:\tlearn: 0.2648476\ttotal: 106ms\tremaining: 895ms\n",
      "106:\tlearn: 0.2617055\ttotal: 106ms\tremaining: 888ms\n",
      "107:\tlearn: 0.2583239\ttotal: 107ms\tremaining: 882ms\n",
      "108:\tlearn: 0.2556900\ttotal: 107ms\tremaining: 877ms\n",
      "109:\tlearn: 0.2528222\ttotal: 108ms\tremaining: 873ms\n",
      "110:\tlearn: 0.2493452\ttotal: 108ms\tremaining: 868ms\n",
      "111:\tlearn: 0.2466997\ttotal: 109ms\tremaining: 863ms\n",
      "112:\tlearn: 0.2441824\ttotal: 110ms\tremaining: 860ms\n",
      "113:\tlearn: 0.2416894\ttotal: 110ms\tremaining: 855ms\n",
      "114:\tlearn: 0.2388595\ttotal: 111ms\tremaining: 851ms\n",
      "115:\tlearn: 0.2359900\ttotal: 111ms\tremaining: 845ms\n",
      "116:\tlearn: 0.2329442\ttotal: 111ms\tremaining: 840ms\n",
      "117:\tlearn: 0.2304049\ttotal: 112ms\tremaining: 835ms\n",
      "118:\tlearn: 0.2276912\ttotal: 112ms\tremaining: 831ms\n",
      "119:\tlearn: 0.2245710\ttotal: 113ms\tremaining: 826ms\n",
      "120:\tlearn: 0.2214855\ttotal: 113ms\tremaining: 822ms\n",
      "121:\tlearn: 0.2195760\ttotal: 114ms\tremaining: 818ms\n",
      "122:\tlearn: 0.2168038\ttotal: 114ms\tremaining: 814ms\n",
      "123:\tlearn: 0.2146918\ttotal: 115ms\tremaining: 809ms\n",
      "124:\tlearn: 0.2118329\ttotal: 115ms\tremaining: 805ms\n",
      "125:\tlearn: 0.2095079\ttotal: 115ms\tremaining: 801ms\n",
      "126:\tlearn: 0.2072260\ttotal: 116ms\tremaining: 796ms\n",
      "127:\tlearn: 0.2049976\ttotal: 116ms\tremaining: 792ms\n",
      "128:\tlearn: 0.2033448\ttotal: 117ms\tremaining: 787ms\n",
      "129:\tlearn: 0.2016021\ttotal: 117ms\tremaining: 783ms\n",
      "130:\tlearn: 0.1995299\ttotal: 117ms\tremaining: 779ms\n",
      "131:\tlearn: 0.1982115\ttotal: 118ms\tremaining: 775ms\n",
      "132:\tlearn: 0.1960576\ttotal: 118ms\tremaining: 770ms\n",
      "133:\tlearn: 0.1935945\ttotal: 118ms\tremaining: 765ms\n",
      "134:\tlearn: 0.1919044\ttotal: 119ms\tremaining: 760ms\n",
      "135:\tlearn: 0.1902792\ttotal: 119ms\tremaining: 755ms\n",
      "136:\tlearn: 0.1882168\ttotal: 119ms\tremaining: 751ms\n",
      "137:\tlearn: 0.1864054\ttotal: 120ms\tremaining: 748ms\n",
      "138:\tlearn: 0.1843461\ttotal: 120ms\tremaining: 745ms\n",
      "139:\tlearn: 0.1824314\ttotal: 121ms\tremaining: 742ms\n",
      "140:\tlearn: 0.1807028\ttotal: 121ms\tremaining: 739ms\n",
      "141:\tlearn: 0.1784373\ttotal: 122ms\tremaining: 737ms\n",
      "142:\tlearn: 0.1768297\ttotal: 122ms\tremaining: 734ms\n",
      "143:\tlearn: 0.1751554\ttotal: 123ms\tremaining: 732ms\n",
      "144:\tlearn: 0.1730388\ttotal: 124ms\tremaining: 728ms\n",
      "145:\tlearn: 0.1709636\ttotal: 124ms\tremaining: 726ms\n",
      "146:\tlearn: 0.1690477\ttotal: 125ms\tremaining: 723ms\n",
      "147:\tlearn: 0.1674425\ttotal: 125ms\tremaining: 720ms\n",
      "148:\tlearn: 0.1656693\ttotal: 126ms\tremaining: 717ms\n",
      "149:\tlearn: 0.1638627\ttotal: 126ms\tremaining: 715ms\n",
      "150:\tlearn: 0.1621949\ttotal: 127ms\tremaining: 712ms\n",
      "151:\tlearn: 0.1607601\ttotal: 127ms\tremaining: 709ms\n",
      "152:\tlearn: 0.1590153\ttotal: 128ms\tremaining: 707ms\n",
      "153:\tlearn: 0.1576378\ttotal: 128ms\tremaining: 704ms\n",
      "154:\tlearn: 0.1559099\ttotal: 129ms\tremaining: 702ms\n",
      "155:\tlearn: 0.1542442\ttotal: 129ms\tremaining: 699ms\n",
      "156:\tlearn: 0.1530079\ttotal: 130ms\tremaining: 696ms\n",
      "157:\tlearn: 0.1514412\ttotal: 130ms\tremaining: 693ms\n",
      "158:\tlearn: 0.1501488\ttotal: 131ms\tremaining: 690ms\n",
      "159:\tlearn: 0.1487630\ttotal: 131ms\tremaining: 687ms\n",
      "160:\tlearn: 0.1473860\ttotal: 131ms\tremaining: 684ms\n",
      "161:\tlearn: 0.1461555\ttotal: 132ms\tremaining: 681ms\n",
      "162:\tlearn: 0.1447292\ttotal: 132ms\tremaining: 678ms\n",
      "163:\tlearn: 0.1434055\ttotal: 132ms\tremaining: 675ms\n",
      "164:\tlearn: 0.1420736\ttotal: 133ms\tremaining: 672ms\n",
      "165:\tlearn: 0.1404575\ttotal: 133ms\tremaining: 670ms\n",
      "166:\tlearn: 0.1393919\ttotal: 134ms\tremaining: 667ms\n",
      "167:\tlearn: 0.1380019\ttotal: 134ms\tremaining: 665ms\n",
      "168:\tlearn: 0.1367493\ttotal: 137ms\tremaining: 674ms\n",
      "169:\tlearn: 0.1353831\ttotal: 138ms\tremaining: 673ms\n",
      "170:\tlearn: 0.1342231\ttotal: 139ms\tremaining: 672ms\n",
      "171:\tlearn: 0.1329341\ttotal: 139ms\tremaining: 669ms\n",
      "172:\tlearn: 0.1318613\ttotal: 140ms\tremaining: 668ms\n",
      "173:\tlearn: 0.1307078\ttotal: 140ms\tremaining: 665ms\n",
      "174:\tlearn: 0.1294437\ttotal: 141ms\tremaining: 662ms\n",
      "175:\tlearn: 0.1283020\ttotal: 141ms\tremaining: 661ms\n",
      "176:\tlearn: 0.1269171\ttotal: 142ms\tremaining: 658ms\n",
      "177:\tlearn: 0.1259286\ttotal: 142ms\tremaining: 656ms\n",
      "178:\tlearn: 0.1250345\ttotal: 143ms\tremaining: 654ms\n",
      "179:\tlearn: 0.1238643\ttotal: 143ms\tremaining: 651ms\n",
      "180:\tlearn: 0.1228713\ttotal: 143ms\tremaining: 649ms\n",
      "181:\tlearn: 0.1217073\ttotal: 144ms\tremaining: 647ms\n",
      "182:\tlearn: 0.1205107\ttotal: 144ms\tremaining: 644ms\n",
      "183:\tlearn: 0.1195729\ttotal: 145ms\tremaining: 641ms\n",
      "184:\tlearn: 0.1186423\ttotal: 145ms\tremaining: 639ms\n",
      "185:\tlearn: 0.1175384\ttotal: 145ms\tremaining: 636ms\n",
      "186:\tlearn: 0.1163397\ttotal: 146ms\tremaining: 634ms\n",
      "187:\tlearn: 0.1154335\ttotal: 146ms\tremaining: 632ms\n",
      "188:\tlearn: 0.1142125\ttotal: 147ms\tremaining: 629ms\n",
      "189:\tlearn: 0.1135370\ttotal: 147ms\tremaining: 627ms\n",
      "190:\tlearn: 0.1125665\ttotal: 147ms\tremaining: 624ms\n",
      "191:\tlearn: 0.1115823\ttotal: 148ms\tremaining: 623ms\n",
      "192:\tlearn: 0.1106747\ttotal: 148ms\tremaining: 621ms\n",
      "193:\tlearn: 0.1099030\ttotal: 149ms\tremaining: 618ms\n",
      "194:\tlearn: 0.1090447\ttotal: 149ms\tremaining: 617ms\n",
      "195:\tlearn: 0.1081075\ttotal: 150ms\tremaining: 616ms\n",
      "196:\tlearn: 0.1070471\ttotal: 151ms\tremaining: 613ms\n",
      "197:\tlearn: 0.1061081\ttotal: 151ms\tremaining: 611ms\n",
      "198:\tlearn: 0.1051972\ttotal: 151ms\tremaining: 609ms\n",
      "199:\tlearn: 0.1044287\ttotal: 152ms\tremaining: 608ms\n",
      "200:\tlearn: 0.1034273\ttotal: 152ms\tremaining: 606ms\n",
      "201:\tlearn: 0.1025802\ttotal: 153ms\tremaining: 604ms\n",
      "202:\tlearn: 0.1017517\ttotal: 154ms\tremaining: 603ms\n",
      "203:\tlearn: 0.1008765\ttotal: 154ms\tremaining: 600ms\n",
      "204:\tlearn: 0.0999793\ttotal: 154ms\tremaining: 599ms\n",
      "205:\tlearn: 0.0990822\ttotal: 155ms\tremaining: 596ms\n",
      "206:\tlearn: 0.0982244\ttotal: 155ms\tremaining: 595ms\n",
      "207:\tlearn: 0.0974101\ttotal: 156ms\tremaining: 593ms\n",
      "208:\tlearn: 0.0966905\ttotal: 156ms\tremaining: 592ms\n",
      "209:\tlearn: 0.0959856\ttotal: 157ms\tremaining: 590ms\n",
      "210:\tlearn: 0.0952852\ttotal: 157ms\tremaining: 587ms\n",
      "211:\tlearn: 0.0946153\ttotal: 158ms\tremaining: 586ms\n",
      "212:\tlearn: 0.0939251\ttotal: 158ms\tremaining: 584ms\n",
      "213:\tlearn: 0.0930934\ttotal: 158ms\tremaining: 582ms\n",
      "214:\tlearn: 0.0922640\ttotal: 159ms\tremaining: 582ms\n",
      "215:\tlearn: 0.0917497\ttotal: 160ms\tremaining: 580ms\n",
      "216:\tlearn: 0.0910412\ttotal: 160ms\tremaining: 578ms\n",
      "217:\tlearn: 0.0902735\ttotal: 161ms\tremaining: 577ms\n",
      "218:\tlearn: 0.0897217\ttotal: 161ms\tremaining: 575ms\n",
      "219:\tlearn: 0.0891253\ttotal: 162ms\tremaining: 573ms\n",
      "220:\tlearn: 0.0885354\ttotal: 162ms\tremaining: 571ms\n",
      "221:\tlearn: 0.0879683\ttotal: 162ms\tremaining: 569ms\n",
      "222:\tlearn: 0.0872709\ttotal: 163ms\tremaining: 567ms\n",
      "223:\tlearn: 0.0866676\ttotal: 163ms\tremaining: 565ms\n",
      "224:\tlearn: 0.0860844\ttotal: 164ms\tremaining: 564ms\n",
      "225:\tlearn: 0.0855215\ttotal: 164ms\tremaining: 563ms\n",
      "226:\tlearn: 0.0847900\ttotal: 165ms\tremaining: 562ms\n",
      "227:\tlearn: 0.0842963\ttotal: 165ms\tremaining: 560ms\n",
      "228:\tlearn: 0.0836778\ttotal: 166ms\tremaining: 558ms\n",
      "229:\tlearn: 0.0832056\ttotal: 166ms\tremaining: 557ms\n",
      "230:\tlearn: 0.0825130\ttotal: 167ms\tremaining: 555ms\n",
      "231:\tlearn: 0.0819914\ttotal: 167ms\tremaining: 553ms\n",
      "232:\tlearn: 0.0813961\ttotal: 168ms\tremaining: 552ms\n",
      "233:\tlearn: 0.0808428\ttotal: 168ms\tremaining: 550ms\n",
      "234:\tlearn: 0.0801974\ttotal: 169ms\tremaining: 549ms\n",
      "235:\tlearn: 0.0796931\ttotal: 169ms\tremaining: 547ms\n",
      "236:\tlearn: 0.0791520\ttotal: 169ms\tremaining: 545ms\n",
      "237:\tlearn: 0.0785649\ttotal: 170ms\tremaining: 544ms\n",
      "238:\tlearn: 0.0779734\ttotal: 170ms\tremaining: 542ms\n",
      "239:\tlearn: 0.0774831\ttotal: 171ms\tremaining: 541ms\n",
      "240:\tlearn: 0.0769653\ttotal: 171ms\tremaining: 540ms\n",
      "241:\tlearn: 0.0764110\ttotal: 172ms\tremaining: 538ms\n",
      "242:\tlearn: 0.0759721\ttotal: 172ms\tremaining: 536ms\n",
      "243:\tlearn: 0.0754591\ttotal: 173ms\tremaining: 535ms\n",
      "244:\tlearn: 0.0750363\ttotal: 173ms\tremaining: 534ms\n",
      "245:\tlearn: 0.0746371\ttotal: 173ms\tremaining: 532ms\n",
      "246:\tlearn: 0.0740964\ttotal: 174ms\tremaining: 530ms\n",
      "247:\tlearn: 0.0735760\ttotal: 174ms\tremaining: 529ms\n",
      "248:\tlearn: 0.0731980\ttotal: 175ms\tremaining: 527ms\n",
      "249:\tlearn: 0.0726260\ttotal: 175ms\tremaining: 526ms\n",
      "250:\tlearn: 0.0720875\ttotal: 176ms\tremaining: 524ms\n",
      "251:\tlearn: 0.0717072\ttotal: 176ms\tremaining: 523ms\n",
      "252:\tlearn: 0.0712581\ttotal: 177ms\tremaining: 522ms\n",
      "253:\tlearn: 0.0708204\ttotal: 177ms\tremaining: 520ms\n",
      "254:\tlearn: 0.0705305\ttotal: 178ms\tremaining: 519ms\n",
      "255:\tlearn: 0.0699816\ttotal: 178ms\tremaining: 517ms\n",
      "256:\tlearn: 0.0696765\ttotal: 178ms\tremaining: 515ms\n",
      "257:\tlearn: 0.0693233\ttotal: 179ms\tremaining: 514ms\n",
      "258:\tlearn: 0.0690170\ttotal: 179ms\tremaining: 512ms\n",
      "259:\tlearn: 0.0684251\ttotal: 179ms\tremaining: 510ms\n"
     ]
    },
    {
     "name": "stdout",
     "output_type": "stream",
     "text": [
      "260:\tlearn: 0.0680583\ttotal: 180ms\tremaining: 511ms\n",
      "261:\tlearn: 0.0676522\ttotal: 181ms\tremaining: 510ms\n",
      "262:\tlearn: 0.0673172\ttotal: 182ms\tremaining: 509ms\n",
      "263:\tlearn: 0.0670259\ttotal: 182ms\tremaining: 508ms\n",
      "264:\tlearn: 0.0664310\ttotal: 183ms\tremaining: 507ms\n",
      "265:\tlearn: 0.0658800\ttotal: 183ms\tremaining: 505ms\n",
      "266:\tlearn: 0.0654997\ttotal: 184ms\tremaining: 504ms\n",
      "267:\tlearn: 0.0651561\ttotal: 184ms\tremaining: 503ms\n",
      "268:\tlearn: 0.0647192\ttotal: 184ms\tremaining: 501ms\n",
      "269:\tlearn: 0.0644388\ttotal: 185ms\tremaining: 499ms\n",
      "270:\tlearn: 0.0639841\ttotal: 185ms\tremaining: 498ms\n",
      "271:\tlearn: 0.0637175\ttotal: 186ms\tremaining: 497ms\n",
      "272:\tlearn: 0.0633409\ttotal: 186ms\tremaining: 495ms\n",
      "273:\tlearn: 0.0628833\ttotal: 187ms\tremaining: 495ms\n",
      "274:\tlearn: 0.0625420\ttotal: 187ms\tremaining: 493ms\n",
      "275:\tlearn: 0.0621049\ttotal: 188ms\tremaining: 492ms\n",
      "276:\tlearn: 0.0616407\ttotal: 188ms\tremaining: 490ms\n",
      "277:\tlearn: 0.0612672\ttotal: 188ms\tremaining: 489ms\n",
      "278:\tlearn: 0.0610132\ttotal: 189ms\tremaining: 488ms\n",
      "279:\tlearn: 0.0607717\ttotal: 189ms\tremaining: 487ms\n",
      "280:\tlearn: 0.0605220\ttotal: 190ms\tremaining: 485ms\n",
      "281:\tlearn: 0.0601279\ttotal: 190ms\tremaining: 484ms\n",
      "282:\tlearn: 0.0598850\ttotal: 191ms\tremaining: 483ms\n",
      "283:\tlearn: 0.0596458\ttotal: 191ms\tremaining: 482ms\n",
      "284:\tlearn: 0.0594174\ttotal: 192ms\tremaining: 481ms\n",
      "285:\tlearn: 0.0592030\ttotal: 192ms\tremaining: 480ms\n",
      "286:\tlearn: 0.0587185\ttotal: 193ms\tremaining: 479ms\n",
      "287:\tlearn: 0.0583641\ttotal: 193ms\tremaining: 478ms\n",
      "288:\tlearn: 0.0581385\ttotal: 194ms\tremaining: 477ms\n",
      "289:\tlearn: 0.0579219\ttotal: 194ms\tremaining: 476ms\n",
      "290:\tlearn: 0.0576920\ttotal: 195ms\tremaining: 475ms\n",
      "291:\tlearn: 0.0573267\ttotal: 195ms\tremaining: 474ms\n",
      "292:\tlearn: 0.0569351\ttotal: 196ms\tremaining: 473ms\n",
      "293:\tlearn: 0.0567525\ttotal: 196ms\tremaining: 472ms\n",
      "294:\tlearn: 0.0563296\ttotal: 197ms\tremaining: 471ms\n",
      "295:\tlearn: 0.0559431\ttotal: 197ms\tremaining: 469ms\n",
      "296:\tlearn: 0.0556350\ttotal: 198ms\tremaining: 468ms\n",
      "297:\tlearn: 0.0552134\ttotal: 198ms\tremaining: 467ms\n",
      "298:\tlearn: 0.0550127\ttotal: 199ms\tremaining: 466ms\n",
      "299:\tlearn: 0.0548141\ttotal: 199ms\tremaining: 465ms\n",
      "300:\tlearn: 0.0544885\ttotal: 200ms\tremaining: 464ms\n",
      "301:\tlearn: 0.0541339\ttotal: 200ms\tremaining: 463ms\n",
      "302:\tlearn: 0.0538438\ttotal: 201ms\tremaining: 462ms\n",
      "303:\tlearn: 0.0536675\ttotal: 201ms\tremaining: 460ms\n",
      "304:\tlearn: 0.0534803\ttotal: 202ms\tremaining: 459ms\n",
      "305:\tlearn: 0.0531474\ttotal: 202ms\tremaining: 459ms\n",
      "306:\tlearn: 0.0527997\ttotal: 203ms\tremaining: 457ms\n",
      "307:\tlearn: 0.0524501\ttotal: 203ms\tremaining: 456ms\n",
      "308:\tlearn: 0.0521065\ttotal: 204ms\tremaining: 455ms\n",
      "309:\tlearn: 0.0517806\ttotal: 204ms\tremaining: 454ms\n",
      "310:\tlearn: 0.0514604\ttotal: 204ms\tremaining: 453ms\n",
      "311:\tlearn: 0.0511847\ttotal: 205ms\tremaining: 452ms\n",
      "312:\tlearn: 0.0510347\ttotal: 205ms\tremaining: 451ms\n",
      "313:\tlearn: 0.0509046\ttotal: 206ms\tremaining: 450ms\n",
      "314:\tlearn: 0.0505069\ttotal: 207ms\tremaining: 449ms\n",
      "315:\tlearn: 0.0503443\ttotal: 207ms\tremaining: 448ms\n",
      "316:\tlearn: 0.0500782\ttotal: 207ms\tremaining: 447ms\n",
      "317:\tlearn: 0.0497211\ttotal: 208ms\tremaining: 446ms\n",
      "318:\tlearn: 0.0495947\ttotal: 208ms\tremaining: 445ms\n",
      "319:\tlearn: 0.0492919\ttotal: 209ms\tremaining: 444ms\n",
      "320:\tlearn: 0.0489502\ttotal: 210ms\tremaining: 443ms\n",
      "321:\tlearn: 0.0487955\ttotal: 210ms\tremaining: 442ms\n",
      "322:\tlearn: 0.0486765\ttotal: 211ms\tremaining: 441ms\n",
      "323:\tlearn: 0.0485652\ttotal: 211ms\tremaining: 440ms\n",
      "324:\tlearn: 0.0484313\ttotal: 211ms\tremaining: 439ms\n",
      "325:\tlearn: 0.0482899\ttotal: 212ms\tremaining: 438ms\n",
      "326:\tlearn: 0.0480322\ttotal: 212ms\tremaining: 437ms\n",
      "327:\tlearn: 0.0476685\ttotal: 213ms\tremaining: 436ms\n",
      "328:\tlearn: 0.0475401\ttotal: 213ms\tremaining: 435ms\n",
      "329:\tlearn: 0.0474041\ttotal: 214ms\tremaining: 434ms\n",
      "330:\tlearn: 0.0471563\ttotal: 214ms\tremaining: 432ms\n",
      "331:\tlearn: 0.0467861\ttotal: 214ms\tremaining: 431ms\n",
      "332:\tlearn: 0.0464391\ttotal: 215ms\tremaining: 430ms\n",
      "333:\tlearn: 0.0463381\ttotal: 215ms\tremaining: 429ms\n",
      "334:\tlearn: 0.0459590\ttotal: 216ms\tremaining: 428ms\n",
      "335:\tlearn: 0.0456549\ttotal: 216ms\tremaining: 427ms\n",
      "336:\tlearn: 0.0453331\ttotal: 217ms\tremaining: 426ms\n",
      "337:\tlearn: 0.0452328\ttotal: 217ms\tremaining: 425ms\n",
      "338:\tlearn: 0.0449084\ttotal: 218ms\tremaining: 424ms\n",
      "339:\tlearn: 0.0448200\ttotal: 218ms\tremaining: 423ms\n",
      "340:\tlearn: 0.0445047\ttotal: 218ms\tremaining: 422ms\n",
      "341:\tlearn: 0.0444180\ttotal: 219ms\tremaining: 421ms\n",
      "342:\tlearn: 0.0443322\ttotal: 220ms\tremaining: 420ms\n",
      "343:\tlearn: 0.0442487\ttotal: 220ms\tremaining: 420ms\n",
      "344:\tlearn: 0.0441247\ttotal: 221ms\tremaining: 419ms\n",
      "345:\tlearn: 0.0438216\ttotal: 221ms\tremaining: 418ms\n",
      "346:\tlearn: 0.0435157\ttotal: 222ms\tremaining: 417ms\n",
      "347:\tlearn: 0.0434340\ttotal: 222ms\tremaining: 416ms\n",
      "348:\tlearn: 0.0433532\ttotal: 223ms\tremaining: 415ms\n",
      "349:\tlearn: 0.0430614\ttotal: 223ms\tremaining: 414ms\n",
      "350:\tlearn: 0.0429800\ttotal: 224ms\tremaining: 413ms\n",
      "351:\tlearn: 0.0426991\ttotal: 224ms\tremaining: 412ms\n",
      "352:\tlearn: 0.0426215\ttotal: 224ms\tremaining: 411ms\n",
      "353:\tlearn: 0.0423034\ttotal: 225ms\tremaining: 411ms\n",
      "354:\tlearn: 0.0422200\ttotal: 225ms\tremaining: 410ms\n",
      "355:\tlearn: 0.0421448\ttotal: 226ms\tremaining: 409ms\n",
      "356:\tlearn: 0.0420582\ttotal: 226ms\tremaining: 408ms\n",
      "357:\tlearn: 0.0417640\ttotal: 227ms\tremaining: 407ms\n",
      "358:\tlearn: 0.0414436\ttotal: 227ms\tremaining: 405ms\n",
      "359:\tlearn: 0.0411285\ttotal: 228ms\tremaining: 405ms\n",
      "360:\tlearn: 0.0410496\ttotal: 228ms\tremaining: 404ms\n",
      "361:\tlearn: 0.0409786\ttotal: 229ms\tremaining: 403ms\n",
      "362:\tlearn: 0.0406692\ttotal: 229ms\tremaining: 402ms\n",
      "363:\tlearn: 0.0405994\ttotal: 229ms\tremaining: 401ms\n",
      "364:\tlearn: 0.0405308\ttotal: 230ms\tremaining: 400ms\n",
      "365:\tlearn: 0.0402282\ttotal: 231ms\tremaining: 399ms\n",
      "366:\tlearn: 0.0399307\ttotal: 231ms\tremaining: 399ms\n",
      "367:\tlearn: 0.0396777\ttotal: 232ms\tremaining: 398ms\n",
      "368:\tlearn: 0.0395997\ttotal: 232ms\tremaining: 397ms\n",
      "369:\tlearn: 0.0393679\ttotal: 233ms\tremaining: 396ms\n",
      "370:\tlearn: 0.0392959\ttotal: 233ms\tremaining: 395ms\n",
      "371:\tlearn: 0.0390080\ttotal: 234ms\tremaining: 394ms\n",
      "372:\tlearn: 0.0387251\ttotal: 234ms\tremaining: 393ms\n",
      "373:\tlearn: 0.0386498\ttotal: 235ms\tremaining: 393ms\n",
      "374:\tlearn: 0.0384066\ttotal: 235ms\tremaining: 392ms\n",
      "375:\tlearn: 0.0383373\ttotal: 236ms\tremaining: 391ms\n",
      "376:\tlearn: 0.0381094\ttotal: 236ms\tremaining: 390ms\n",
      "377:\tlearn: 0.0378949\ttotal: 237ms\tremaining: 389ms\n",
      "378:\tlearn: 0.0378337\ttotal: 237ms\tremaining: 389ms\n",
      "379:\tlearn: 0.0376037\ttotal: 238ms\tremaining: 388ms\n",
      "380:\tlearn: 0.0375087\ttotal: 238ms\tremaining: 387ms\n",
      "381:\tlearn: 0.0374265\ttotal: 239ms\tremaining: 386ms\n",
      "382:\tlearn: 0.0373552\ttotal: 239ms\tremaining: 385ms\n",
      "383:\tlearn: 0.0371371\ttotal: 240ms\tremaining: 384ms\n",
      "384:\tlearn: 0.0369267\ttotal: 240ms\tremaining: 384ms\n",
      "385:\tlearn: 0.0367374\ttotal: 241ms\tremaining: 383ms\n",
      "386:\tlearn: 0.0365259\ttotal: 241ms\tremaining: 382ms\n",
      "387:\tlearn: 0.0362766\ttotal: 241ms\tremaining: 381ms\n",
      "388:\tlearn: 0.0360494\ttotal: 242ms\tremaining: 380ms\n",
      "389:\tlearn: 0.0359723\ttotal: 242ms\tremaining: 379ms\n",
      "390:\tlearn: 0.0358961\ttotal: 243ms\tremaining: 378ms\n",
      "391:\tlearn: 0.0356645\ttotal: 243ms\tremaining: 378ms\n",
      "392:\tlearn: 0.0354694\ttotal: 244ms\tremaining: 377ms\n",
      "393:\tlearn: 0.0353950\ttotal: 244ms\tremaining: 376ms\n",
      "394:\tlearn: 0.0351416\ttotal: 245ms\tremaining: 375ms\n",
      "395:\tlearn: 0.0349179\ttotal: 245ms\tremaining: 374ms\n",
      "396:\tlearn: 0.0347295\ttotal: 246ms\tremaining: 373ms\n",
      "397:\tlearn: 0.0346705\ttotal: 246ms\tremaining: 372ms\n",
      "398:\tlearn: 0.0346052\ttotal: 247ms\tremaining: 371ms\n",
      "399:\tlearn: 0.0343764\ttotal: 247ms\tremaining: 371ms\n",
      "400:\tlearn: 0.0343129\ttotal: 248ms\tremaining: 370ms\n",
      "401:\tlearn: 0.0341303\ttotal: 248ms\tremaining: 369ms\n",
      "402:\tlearn: 0.0340679\ttotal: 249ms\tremaining: 369ms\n",
      "403:\tlearn: 0.0338892\ttotal: 249ms\tremaining: 368ms\n",
      "404:\tlearn: 0.0336503\ttotal: 250ms\tremaining: 367ms\n",
      "405:\tlearn: 0.0335822\ttotal: 250ms\tremaining: 366ms\n",
      "406:\tlearn: 0.0335218\ttotal: 251ms\tremaining: 365ms\n",
      "407:\tlearn: 0.0333133\ttotal: 251ms\tremaining: 364ms\n",
      "408:\tlearn: 0.0331410\ttotal: 252ms\tremaining: 364ms\n",
      "409:\tlearn: 0.0330821\ttotal: 252ms\tremaining: 363ms\n",
      "410:\tlearn: 0.0329244\ttotal: 253ms\tremaining: 362ms\n",
      "411:\tlearn: 0.0328662\ttotal: 253ms\tremaining: 361ms\n",
      "412:\tlearn: 0.0326386\ttotal: 253ms\tremaining: 360ms\n",
      "413:\tlearn: 0.0324729\ttotal: 254ms\tremaining: 360ms\n",
      "414:\tlearn: 0.0324164\ttotal: 255ms\tremaining: 359ms\n",
      "415:\tlearn: 0.0322235\ttotal: 255ms\tremaining: 358ms\n",
      "416:\tlearn: 0.0321620\ttotal: 256ms\tremaining: 357ms\n",
      "417:\tlearn: 0.0319728\ttotal: 256ms\tremaining: 356ms\n",
      "418:\tlearn: 0.0318132\ttotal: 256ms\tremaining: 356ms\n",
      "419:\tlearn: 0.0317604\ttotal: 257ms\tremaining: 355ms\n",
      "420:\tlearn: 0.0315430\ttotal: 257ms\tremaining: 354ms\n",
      "421:\tlearn: 0.0313491\ttotal: 258ms\tremaining: 353ms\n",
      "422:\tlearn: 0.0312976\ttotal: 258ms\tremaining: 352ms\n",
      "423:\tlearn: 0.0312466\ttotal: 259ms\tremaining: 351ms\n",
      "424:\tlearn: 0.0310572\ttotal: 259ms\tremaining: 351ms\n",
      "425:\tlearn: 0.0310099\ttotal: 259ms\tremaining: 350ms\n",
      "426:\tlearn: 0.0308071\ttotal: 260ms\tremaining: 349ms\n",
      "427:\tlearn: 0.0306229\ttotal: 261ms\tremaining: 348ms\n",
      "428:\tlearn: 0.0304473\ttotal: 261ms\tremaining: 348ms\n",
      "429:\tlearn: 0.0303991\ttotal: 262ms\tremaining: 347ms\n",
      "430:\tlearn: 0.0301841\ttotal: 262ms\tremaining: 346ms\n",
      "431:\tlearn: 0.0301368\ttotal: 263ms\tremaining: 345ms\n",
      "432:\tlearn: 0.0299752\ttotal: 263ms\tremaining: 344ms\n",
      "433:\tlearn: 0.0298068\ttotal: 264ms\tremaining: 344ms\n",
      "434:\tlearn: 0.0296436\ttotal: 264ms\tremaining: 343ms\n",
      "435:\tlearn: 0.0295357\ttotal: 265ms\tremaining: 342ms\n",
      "436:\tlearn: 0.0293403\ttotal: 265ms\tremaining: 342ms\n",
      "437:\tlearn: 0.0291381\ttotal: 266ms\tremaining: 341ms\n",
      "438:\tlearn: 0.0289858\ttotal: 267ms\tremaining: 341ms\n",
      "439:\tlearn: 0.0289415\ttotal: 268ms\tremaining: 341ms\n",
      "440:\tlearn: 0.0287853\ttotal: 268ms\tremaining: 340ms\n",
      "441:\tlearn: 0.0285892\ttotal: 269ms\tremaining: 339ms\n",
      "442:\tlearn: 0.0284841\ttotal: 269ms\tremaining: 339ms\n",
      "443:\tlearn: 0.0283264\ttotal: 270ms\tremaining: 338ms\n",
      "444:\tlearn: 0.0281819\ttotal: 270ms\tremaining: 337ms\n",
      "445:\tlearn: 0.0281398\ttotal: 271ms\tremaining: 336ms\n",
      "446:\tlearn: 0.0279518\ttotal: 271ms\tremaining: 335ms\n",
      "447:\tlearn: 0.0278518\ttotal: 272ms\tremaining: 335ms\n",
      "448:\tlearn: 0.0277041\ttotal: 272ms\tremaining: 334ms\n",
      "449:\tlearn: 0.0275604\ttotal: 273ms\tremaining: 333ms\n"
     ]
    },
    {
     "name": "stdout",
     "output_type": "stream",
     "text": [
      "450:\tlearn: 0.0274227\ttotal: 274ms\tremaining: 333ms\n",
      "451:\tlearn: 0.0273825\ttotal: 274ms\tremaining: 332ms\n",
      "452:\tlearn: 0.0272351\ttotal: 274ms\tremaining: 331ms\n",
      "453:\tlearn: 0.0270576\ttotal: 275ms\tremaining: 330ms\n",
      "454:\tlearn: 0.0270068\ttotal: 275ms\tremaining: 330ms\n",
      "455:\tlearn: 0.0268664\ttotal: 276ms\tremaining: 329ms\n",
      "456:\tlearn: 0.0268166\ttotal: 276ms\tremaining: 328ms\n",
      "457:\tlearn: 0.0267202\ttotal: 277ms\tremaining: 327ms\n",
      "458:\tlearn: 0.0265483\ttotal: 277ms\tremaining: 326ms\n",
      "459:\tlearn: 0.0264647\ttotal: 277ms\tremaining: 326ms\n",
      "460:\tlearn: 0.0263705\ttotal: 278ms\tremaining: 325ms\n",
      "461:\tlearn: 0.0263226\ttotal: 278ms\tremaining: 324ms\n",
      "462:\tlearn: 0.0262092\ttotal: 278ms\tremaining: 323ms\n",
      "463:\tlearn: 0.0261171\ttotal: 279ms\tremaining: 322ms\n",
      "464:\tlearn: 0.0259524\ttotal: 280ms\tremaining: 322ms\n",
      "465:\tlearn: 0.0259062\ttotal: 282ms\tremaining: 323ms\n",
      "466:\tlearn: 0.0257532\ttotal: 283ms\tremaining: 322ms\n",
      "467:\tlearn: 0.0257080\ttotal: 283ms\tremaining: 322ms\n",
      "468:\tlearn: 0.0256633\ttotal: 284ms\tremaining: 321ms\n",
      "469:\tlearn: 0.0255121\ttotal: 284ms\tremaining: 321ms\n",
      "470:\tlearn: 0.0253799\ttotal: 285ms\tremaining: 320ms\n",
      "471:\tlearn: 0.0253238\ttotal: 285ms\tremaining: 319ms\n",
      "472:\tlearn: 0.0251976\ttotal: 285ms\tremaining: 318ms\n",
      "473:\tlearn: 0.0251550\ttotal: 286ms\tremaining: 317ms\n",
      "474:\tlearn: 0.0250265\ttotal: 286ms\tremaining: 317ms\n",
      "475:\tlearn: 0.0249795\ttotal: 287ms\tremaining: 316ms\n",
      "476:\tlearn: 0.0248460\ttotal: 287ms\tremaining: 315ms\n",
      "477:\tlearn: 0.0248180\ttotal: 288ms\tremaining: 314ms\n",
      "478:\tlearn: 0.0246679\ttotal: 288ms\tremaining: 313ms\n",
      "479:\tlearn: 0.0246404\ttotal: 289ms\tremaining: 313ms\n",
      "480:\tlearn: 0.0245002\ttotal: 289ms\tremaining: 312ms\n",
      "481:\tlearn: 0.0243507\ttotal: 289ms\tremaining: 311ms\n",
      "482:\tlearn: 0.0242993\ttotal: 290ms\tremaining: 310ms\n",
      "483:\tlearn: 0.0242601\ttotal: 290ms\tremaining: 309ms\n",
      "484:\tlearn: 0.0241171\ttotal: 291ms\tremaining: 309ms\n",
      "485:\tlearn: 0.0240672\ttotal: 291ms\tremaining: 308ms\n",
      "486:\tlearn: 0.0240414\ttotal: 291ms\tremaining: 307ms\n",
      "487:\tlearn: 0.0239218\ttotal: 292ms\tremaining: 306ms\n",
      "488:\tlearn: 0.0238844\ttotal: 292ms\tremaining: 305ms\n",
      "489:\tlearn: 0.0237407\ttotal: 293ms\tremaining: 304ms\n",
      "490:\tlearn: 0.0237157\ttotal: 293ms\tremaining: 304ms\n",
      "491:\tlearn: 0.0235786\ttotal: 293ms\tremaining: 303ms\n",
      "492:\tlearn: 0.0235105\ttotal: 294ms\tremaining: 302ms\n",
      "493:\tlearn: 0.0233837\ttotal: 294ms\tremaining: 301ms\n",
      "494:\tlearn: 0.0233397\ttotal: 295ms\tremaining: 301ms\n",
      "495:\tlearn: 0.0231976\ttotal: 295ms\tremaining: 300ms\n",
      "496:\tlearn: 0.0231623\ttotal: 296ms\tremaining: 300ms\n",
      "497:\tlearn: 0.0231327\ttotal: 297ms\tremaining: 299ms\n",
      "498:\tlearn: 0.0230091\ttotal: 297ms\tremaining: 298ms\n",
      "499:\tlearn: 0.0228773\ttotal: 298ms\tremaining: 298ms\n",
      "500:\tlearn: 0.0228432\ttotal: 298ms\tremaining: 297ms\n",
      "501:\tlearn: 0.0227791\ttotal: 299ms\tremaining: 296ms\n",
      "502:\tlearn: 0.0226436\ttotal: 299ms\tremaining: 296ms\n",
      "503:\tlearn: 0.0226104\ttotal: 299ms\tremaining: 295ms\n",
      "504:\tlearn: 0.0225823\ttotal: 300ms\tremaining: 294ms\n",
      "505:\tlearn: 0.0224626\ttotal: 300ms\tremaining: 293ms\n",
      "506:\tlearn: 0.0224011\ttotal: 301ms\tremaining: 292ms\n",
      "507:\tlearn: 0.0222691\ttotal: 301ms\tremaining: 292ms\n",
      "508:\tlearn: 0.0222374\ttotal: 302ms\tremaining: 291ms\n",
      "509:\tlearn: 0.0222104\ttotal: 302ms\tremaining: 290ms\n",
      "510:\tlearn: 0.0220968\ttotal: 302ms\tremaining: 289ms\n",
      "511:\tlearn: 0.0219709\ttotal: 303ms\tremaining: 288ms\n",
      "512:\tlearn: 0.0219402\ttotal: 303ms\tremaining: 288ms\n",
      "513:\tlearn: 0.0219194\ttotal: 304ms\tremaining: 287ms\n",
      "514:\tlearn: 0.0218045\ttotal: 304ms\tremaining: 287ms\n",
      "515:\tlearn: 0.0217678\ttotal: 305ms\tremaining: 286ms\n",
      "516:\tlearn: 0.0216431\ttotal: 305ms\tremaining: 285ms\n",
      "517:\tlearn: 0.0216177\ttotal: 305ms\tremaining: 284ms\n",
      "518:\tlearn: 0.0215927\ttotal: 306ms\tremaining: 284ms\n",
      "519:\tlearn: 0.0214839\ttotal: 306ms\tremaining: 283ms\n",
      "520:\tlearn: 0.0213646\ttotal: 307ms\tremaining: 282ms\n",
      "521:\tlearn: 0.0213450\ttotal: 307ms\tremaining: 281ms\n",
      "522:\tlearn: 0.0213131\ttotal: 308ms\tremaining: 281ms\n",
      "523:\tlearn: 0.0212269\ttotal: 308ms\tremaining: 280ms\n",
      "524:\tlearn: 0.0211086\ttotal: 309ms\tremaining: 279ms\n",
      "525:\tlearn: 0.0210764\ttotal: 309ms\tremaining: 278ms\n",
      "526:\tlearn: 0.0209922\ttotal: 309ms\tremaining: 278ms\n",
      "527:\tlearn: 0.0209736\ttotal: 310ms\tremaining: 277ms\n",
      "528:\tlearn: 0.0208911\ttotal: 310ms\tremaining: 276ms\n",
      "529:\tlearn: 0.0207993\ttotal: 311ms\tremaining: 276ms\n",
      "530:\tlearn: 0.0206871\ttotal: 311ms\tremaining: 275ms\n",
      "531:\tlearn: 0.0206562\ttotal: 312ms\tremaining: 274ms\n",
      "532:\tlearn: 0.0206383\ttotal: 312ms\tremaining: 274ms\n",
      "533:\tlearn: 0.0205606\ttotal: 313ms\tremaining: 273ms\n",
      "534:\tlearn: 0.0204468\ttotal: 313ms\tremaining: 272ms\n",
      "535:\tlearn: 0.0203690\ttotal: 313ms\tremaining: 271ms\n",
      "536:\tlearn: 0.0203515\ttotal: 314ms\tremaining: 271ms\n",
      "537:\tlearn: 0.0202477\ttotal: 314ms\tremaining: 270ms\n",
      "538:\tlearn: 0.0202186\ttotal: 315ms\tremaining: 269ms\n",
      "539:\tlearn: 0.0201086\ttotal: 315ms\tremaining: 269ms\n",
      "540:\tlearn: 0.0200335\ttotal: 316ms\tremaining: 268ms\n",
      "541:\tlearn: 0.0199494\ttotal: 316ms\tremaining: 267ms\n",
      "542:\tlearn: 0.0198498\ttotal: 317ms\tremaining: 267ms\n",
      "543:\tlearn: 0.0198212\ttotal: 317ms\tremaining: 266ms\n",
      "544:\tlearn: 0.0198002\ttotal: 318ms\tremaining: 265ms\n",
      "545:\tlearn: 0.0196982\ttotal: 318ms\tremaining: 265ms\n",
      "546:\tlearn: 0.0196325\ttotal: 319ms\tremaining: 264ms\n",
      "547:\tlearn: 0.0195364\ttotal: 320ms\tremaining: 264ms\n",
      "548:\tlearn: 0.0195090\ttotal: 320ms\tremaining: 263ms\n",
      "549:\tlearn: 0.0194378\ttotal: 320ms\tremaining: 262ms\n",
      "550:\tlearn: 0.0193701\ttotal: 321ms\tremaining: 262ms\n",
      "551:\tlearn: 0.0193502\ttotal: 321ms\tremaining: 261ms\n",
      "552:\tlearn: 0.0192525\ttotal: 322ms\tremaining: 260ms\n",
      "553:\tlearn: 0.0191740\ttotal: 323ms\tremaining: 260ms\n",
      "554:\tlearn: 0.0191545\ttotal: 323ms\tremaining: 259ms\n",
      "555:\tlearn: 0.0190629\ttotal: 324ms\tremaining: 258ms\n",
      "556:\tlearn: 0.0190003\ttotal: 324ms\tremaining: 258ms\n",
      "557:\tlearn: 0.0188981\ttotal: 325ms\tremaining: 257ms\n",
      "558:\tlearn: 0.0188232\ttotal: 325ms\tremaining: 257ms\n",
      "559:\tlearn: 0.0188007\ttotal: 326ms\tremaining: 256ms\n",
      "560:\tlearn: 0.0187130\ttotal: 326ms\tremaining: 255ms\n",
      "561:\tlearn: 0.0186910\ttotal: 329ms\tremaining: 257ms\n",
      "562:\tlearn: 0.0186300\ttotal: 330ms\tremaining: 256ms\n",
      "563:\tlearn: 0.0185499\ttotal: 331ms\tremaining: 256ms\n",
      "564:\tlearn: 0.0184651\ttotal: 331ms\tremaining: 255ms\n",
      "565:\tlearn: 0.0183973\ttotal: 332ms\tremaining: 254ms\n",
      "566:\tlearn: 0.0183758\ttotal: 332ms\tremaining: 254ms\n",
      "567:\tlearn: 0.0183093\ttotal: 333ms\tremaining: 253ms\n",
      "568:\tlearn: 0.0182329\ttotal: 333ms\tremaining: 252ms\n",
      "569:\tlearn: 0.0181599\ttotal: 334ms\tremaining: 252ms\n",
      "570:\tlearn: 0.0180899\ttotal: 334ms\tremaining: 251ms\n",
      "571:\tlearn: 0.0180690\ttotal: 334ms\tremaining: 250ms\n",
      "572:\tlearn: 0.0180065\ttotal: 335ms\tremaining: 250ms\n",
      "573:\tlearn: 0.0179334\ttotal: 335ms\tremaining: 249ms\n",
      "574:\tlearn: 0.0178686\ttotal: 336ms\tremaining: 248ms\n",
      "575:\tlearn: 0.0177973\ttotal: 337ms\tremaining: 248ms\n",
      "576:\tlearn: 0.0177752\ttotal: 337ms\tremaining: 247ms\n",
      "577:\tlearn: 0.0176889\ttotal: 338ms\tremaining: 246ms\n",
      "578:\tlearn: 0.0176280\ttotal: 338ms\tremaining: 246ms\n",
      "579:\tlearn: 0.0175512\ttotal: 339ms\tremaining: 245ms\n",
      "580:\tlearn: 0.0174916\ttotal: 339ms\tremaining: 245ms\n",
      "581:\tlearn: 0.0173754\ttotal: 340ms\tremaining: 244ms\n",
      "582:\tlearn: 0.0173173\ttotal: 340ms\tremaining: 243ms\n",
      "583:\tlearn: 0.0172356\ttotal: 341ms\tremaining: 243ms\n",
      "584:\tlearn: 0.0171230\ttotal: 341ms\tremaining: 242ms\n",
      "585:\tlearn: 0.0170707\ttotal: 342ms\tremaining: 241ms\n",
      "586:\tlearn: 0.0169972\ttotal: 342ms\tremaining: 241ms\n",
      "587:\tlearn: 0.0169768\ttotal: 343ms\tremaining: 240ms\n",
      "588:\tlearn: 0.0169051\ttotal: 343ms\tremaining: 239ms\n",
      "589:\tlearn: 0.0168851\ttotal: 344ms\tremaining: 239ms\n",
      "590:\tlearn: 0.0168654\ttotal: 344ms\tremaining: 238ms\n",
      "591:\tlearn: 0.0167957\ttotal: 344ms\tremaining: 237ms\n",
      "592:\tlearn: 0.0167763\ttotal: 345ms\tremaining: 237ms\n",
      "593:\tlearn: 0.0166684\ttotal: 346ms\tremaining: 236ms\n",
      "594:\tlearn: 0.0166495\ttotal: 347ms\tremaining: 236ms\n",
      "595:\tlearn: 0.0165820\ttotal: 347ms\tremaining: 235ms\n",
      "596:\tlearn: 0.0165635\ttotal: 348ms\tremaining: 235ms\n",
      "597:\tlearn: 0.0165453\ttotal: 348ms\tremaining: 234ms\n",
      "598:\tlearn: 0.0164541\ttotal: 348ms\tremaining: 233ms\n",
      "599:\tlearn: 0.0163887\ttotal: 349ms\tremaining: 233ms\n",
      "600:\tlearn: 0.0163710\ttotal: 349ms\tremaining: 232ms\n",
      "601:\tlearn: 0.0163246\ttotal: 350ms\tremaining: 231ms\n",
      "602:\tlearn: 0.0162610\ttotal: 350ms\tremaining: 230ms\n",
      "603:\tlearn: 0.0162438\ttotal: 350ms\tremaining: 230ms\n",
      "604:\tlearn: 0.0161589\ttotal: 351ms\tremaining: 229ms\n",
      "605:\tlearn: 0.0161216\ttotal: 351ms\tremaining: 228ms\n",
      "606:\tlearn: 0.0160827\ttotal: 352ms\tremaining: 228ms\n",
      "607:\tlearn: 0.0160473\ttotal: 352ms\tremaining: 227ms\n",
      "608:\tlearn: 0.0160100\ttotal: 353ms\tremaining: 226ms\n",
      "609:\tlearn: 0.0159365\ttotal: 353ms\tremaining: 226ms\n",
      "610:\tlearn: 0.0159096\ttotal: 353ms\tremaining: 225ms\n",
      "611:\tlearn: 0.0158378\ttotal: 354ms\tremaining: 224ms\n",
      "612:\tlearn: 0.0158097\ttotal: 354ms\tremaining: 224ms\n",
      "613:\tlearn: 0.0157396\ttotal: 355ms\tremaining: 223ms\n",
      "614:\tlearn: 0.0157237\ttotal: 355ms\tremaining: 222ms\n",
      "615:\tlearn: 0.0156551\ttotal: 355ms\tremaining: 222ms\n",
      "616:\tlearn: 0.0156396\ttotal: 359ms\tremaining: 223ms\n",
      "617:\tlearn: 0.0155513\ttotal: 360ms\tremaining: 222ms\n",
      "618:\tlearn: 0.0154811\ttotal: 360ms\tremaining: 222ms\n"
     ]
    },
    {
     "name": "stdout",
     "output_type": "stream",
     "text": [
      "619:\tlearn: 0.0154153\ttotal: 361ms\tremaining: 221ms\n",
      "620:\tlearn: 0.0153596\ttotal: 362ms\tremaining: 221ms\n",
      "621:\tlearn: 0.0152749\ttotal: 362ms\tremaining: 220ms\n",
      "622:\tlearn: 0.0152055\ttotal: 362ms\tremaining: 219ms\n",
      "623:\tlearn: 0.0151857\ttotal: 363ms\tremaining: 219ms\n",
      "624:\tlearn: 0.0151086\ttotal: 363ms\tremaining: 218ms\n",
      "625:\tlearn: 0.0150894\ttotal: 364ms\tremaining: 217ms\n",
      "626:\tlearn: 0.0150180\ttotal: 364ms\tremaining: 217ms\n",
      "627:\tlearn: 0.0150087\ttotal: 365ms\tremaining: 216ms\n",
      "628:\tlearn: 0.0149900\ttotal: 365ms\tremaining: 215ms\n",
      "629:\tlearn: 0.0149181\ttotal: 366ms\tremaining: 215ms\n",
      "630:\tlearn: 0.0148522\ttotal: 366ms\tremaining: 214ms\n",
      "631:\tlearn: 0.0148432\ttotal: 366ms\tremaining: 213ms\n",
      "632:\tlearn: 0.0147834\ttotal: 367ms\tremaining: 213ms\n",
      "633:\tlearn: 0.0147745\ttotal: 367ms\tremaining: 212ms\n",
      "634:\tlearn: 0.0147567\ttotal: 368ms\tremaining: 211ms\n",
      "635:\tlearn: 0.0146869\ttotal: 368ms\tremaining: 211ms\n",
      "636:\tlearn: 0.0146174\ttotal: 369ms\tremaining: 210ms\n",
      "637:\tlearn: 0.0145643\ttotal: 369ms\tremaining: 209ms\n",
      "638:\tlearn: 0.0144946\ttotal: 370ms\tremaining: 209ms\n",
      "639:\tlearn: 0.0144339\ttotal: 370ms\tremaining: 208ms\n",
      "640:\tlearn: 0.0144244\ttotal: 370ms\tremaining: 207ms\n",
      "641:\tlearn: 0.0143732\ttotal: 371ms\tremaining: 207ms\n",
      "642:\tlearn: 0.0142996\ttotal: 372ms\tremaining: 206ms\n",
      "643:\tlearn: 0.0142498\ttotal: 372ms\tremaining: 206ms\n",
      "644:\tlearn: 0.0142406\ttotal: 373ms\tremaining: 205ms\n",
      "645:\tlearn: 0.0141826\ttotal: 373ms\tremaining: 205ms\n",
      "646:\tlearn: 0.0141736\ttotal: 374ms\tremaining: 204ms\n",
      "647:\tlearn: 0.0140953\ttotal: 375ms\tremaining: 203ms\n",
      "648:\tlearn: 0.0140385\ttotal: 375ms\tremaining: 203ms\n",
      "649:\tlearn: 0.0140297\ttotal: 376ms\tremaining: 202ms\n",
      "650:\tlearn: 0.0139956\ttotal: 376ms\tremaining: 202ms\n",
      "651:\tlearn: 0.0139314\ttotal: 377ms\tremaining: 201ms\n",
      "652:\tlearn: 0.0138553\ttotal: 377ms\tremaining: 200ms\n",
      "653:\tlearn: 0.0138220\ttotal: 377ms\tremaining: 200ms\n",
      "654:\tlearn: 0.0137674\ttotal: 378ms\tremaining: 199ms\n",
      "655:\tlearn: 0.0136929\ttotal: 378ms\tremaining: 198ms\n",
      "656:\tlearn: 0.0136420\ttotal: 379ms\tremaining: 198ms\n",
      "657:\tlearn: 0.0136335\ttotal: 379ms\tremaining: 197ms\n",
      "658:\tlearn: 0.0135889\ttotal: 380ms\tremaining: 196ms\n",
      "659:\tlearn: 0.0135806\ttotal: 380ms\tremaining: 196ms\n",
      "660:\tlearn: 0.0135279\ttotal: 381ms\tremaining: 195ms\n",
      "661:\tlearn: 0.0134554\ttotal: 381ms\tremaining: 195ms\n",
      "662:\tlearn: 0.0134473\ttotal: 382ms\tremaining: 194ms\n",
      "663:\tlearn: 0.0133957\ttotal: 382ms\tremaining: 193ms\n",
      "664:\tlearn: 0.0133247\ttotal: 382ms\tremaining: 193ms\n",
      "665:\tlearn: 0.0133050\ttotal: 383ms\tremaining: 192ms\n",
      "666:\tlearn: 0.0132361\ttotal: 383ms\tremaining: 191ms\n",
      "667:\tlearn: 0.0132171\ttotal: 384ms\tremaining: 191ms\n",
      "668:\tlearn: 0.0131497\ttotal: 384ms\tremaining: 190ms\n",
      "669:\tlearn: 0.0131012\ttotal: 385ms\tremaining: 189ms\n",
      "670:\tlearn: 0.0130353\ttotal: 385ms\tremaining: 189ms\n",
      "671:\tlearn: 0.0130225\ttotal: 386ms\tremaining: 188ms\n",
      "672:\tlearn: 0.0130099\ttotal: 386ms\tremaining: 188ms\n",
      "673:\tlearn: 0.0129797\ttotal: 387ms\tremaining: 187ms\n",
      "674:\tlearn: 0.0129302\ttotal: 388ms\tremaining: 187ms\n",
      "675:\tlearn: 0.0129178\ttotal: 388ms\tremaining: 186ms\n",
      "676:\tlearn: 0.0129055\ttotal: 389ms\tremaining: 185ms\n",
      "677:\tlearn: 0.0128572\ttotal: 389ms\tremaining: 185ms\n",
      "678:\tlearn: 0.0128451\ttotal: 390ms\tremaining: 184ms\n",
      "679:\tlearn: 0.0128277\ttotal: 390ms\tremaining: 184ms\n",
      "680:\tlearn: 0.0127636\ttotal: 391ms\tremaining: 183ms\n",
      "681:\tlearn: 0.0127518\ttotal: 391ms\tremaining: 182ms\n",
      "682:\tlearn: 0.0127335\ttotal: 392ms\tremaining: 182ms\n",
      "683:\tlearn: 0.0126869\ttotal: 392ms\tremaining: 181ms\n",
      "684:\tlearn: 0.0126243\ttotal: 392ms\tremaining: 180ms\n",
      "685:\tlearn: 0.0126066\ttotal: 393ms\tremaining: 180ms\n",
      "686:\tlearn: 0.0125597\ttotal: 393ms\tremaining: 179ms\n",
      "687:\tlearn: 0.0125482\ttotal: 394ms\tremaining: 179ms\n",
      "688:\tlearn: 0.0125370\ttotal: 394ms\tremaining: 178ms\n",
      "689:\tlearn: 0.0125198\ttotal: 395ms\tremaining: 177ms\n",
      "690:\tlearn: 0.0124683\ttotal: 395ms\tremaining: 177ms\n",
      "691:\tlearn: 0.0124572\ttotal: 395ms\tremaining: 176ms\n",
      "692:\tlearn: 0.0124117\ttotal: 396ms\tremaining: 175ms\n",
      "693:\tlearn: 0.0124008\ttotal: 396ms\tremaining: 175ms\n",
      "694:\tlearn: 0.0123850\ttotal: 397ms\tremaining: 174ms\n",
      "695:\tlearn: 0.0123100\ttotal: 397ms\tremaining: 174ms\n",
      "696:\tlearn: 0.0122496\ttotal: 398ms\tremaining: 173ms\n",
      "697:\tlearn: 0.0121904\ttotal: 398ms\tremaining: 172ms\n",
      "698:\tlearn: 0.0121301\ttotal: 399ms\tremaining: 172ms\n",
      "699:\tlearn: 0.0121137\ttotal: 399ms\tremaining: 171ms\n",
      "700:\tlearn: 0.0120385\ttotal: 400ms\tremaining: 171ms\n",
      "701:\tlearn: 0.0119815\ttotal: 400ms\tremaining: 170ms\n",
      "702:\tlearn: 0.0119236\ttotal: 401ms\tremaining: 169ms\n",
      "703:\tlearn: 0.0118669\ttotal: 401ms\tremaining: 169ms\n",
      "704:\tlearn: 0.0117966\ttotal: 401ms\tremaining: 168ms\n",
      "705:\tlearn: 0.0117331\ttotal: 402ms\tremaining: 167ms\n",
      "706:\tlearn: 0.0116857\ttotal: 402ms\tremaining: 167ms\n",
      "707:\tlearn: 0.0116293\ttotal: 403ms\tremaining: 166ms\n",
      "708:\tlearn: 0.0115752\ttotal: 404ms\tremaining: 166ms\n",
      "709:\tlearn: 0.0115221\ttotal: 404ms\tremaining: 165ms\n",
      "710:\tlearn: 0.0114703\ttotal: 405ms\tremaining: 165ms\n",
      "711:\tlearn: 0.0113988\ttotal: 406ms\tremaining: 164ms\n",
      "712:\tlearn: 0.0113795\ttotal: 406ms\tremaining: 163ms\n",
      "713:\tlearn: 0.0113098\ttotal: 407ms\tremaining: 163ms\n",
      "714:\tlearn: 0.0112911\ttotal: 407ms\tremaining: 162ms\n",
      "715:\tlearn: 0.0112789\ttotal: 407ms\tremaining: 162ms\n",
      "716:\tlearn: 0.0112600\ttotal: 408ms\tremaining: 161ms\n",
      "717:\tlearn: 0.0111918\ttotal: 408ms\tremaining: 160ms\n",
      "718:\tlearn: 0.0111739\ttotal: 409ms\tremaining: 160ms\n",
      "719:\tlearn: 0.0111412\ttotal: 409ms\tremaining: 159ms\n",
      "720:\tlearn: 0.0111091\ttotal: 410ms\tremaining: 159ms\n",
      "721:\tlearn: 0.0110733\ttotal: 410ms\tremaining: 158ms\n",
      "722:\tlearn: 0.0110422\ttotal: 411ms\tremaining: 157ms\n",
      "723:\tlearn: 0.0110076\ttotal: 411ms\tremaining: 157ms\n",
      "724:\tlearn: 0.0109586\ttotal: 412ms\tremaining: 156ms\n",
      "725:\tlearn: 0.0109027\ttotal: 412ms\tremaining: 156ms\n",
      "726:\tlearn: 0.0108552\ttotal: 413ms\tremaining: 155ms\n",
      "727:\tlearn: 0.0108087\ttotal: 413ms\tremaining: 154ms\n",
      "728:\tlearn: 0.0107751\ttotal: 414ms\tremaining: 154ms\n",
      "729:\tlearn: 0.0107458\ttotal: 414ms\tremaining: 153ms\n",
      "730:\tlearn: 0.0106919\ttotal: 415ms\tremaining: 153ms\n",
      "731:\tlearn: 0.0106632\ttotal: 415ms\tremaining: 152ms\n",
      "732:\tlearn: 0.0106310\ttotal: 416ms\tremaining: 151ms\n",
      "733:\tlearn: 0.0105843\ttotal: 416ms\tremaining: 151ms\n",
      "734:\tlearn: 0.0105401\ttotal: 417ms\tremaining: 150ms\n",
      "735:\tlearn: 0.0104885\ttotal: 417ms\tremaining: 150ms\n",
      "736:\tlearn: 0.0104457\ttotal: 418ms\tremaining: 149ms\n",
      "737:\tlearn: 0.0104236\ttotal: 418ms\tremaining: 148ms\n",
      "738:\tlearn: 0.0103920\ttotal: 419ms\tremaining: 148ms\n",
      "739:\tlearn: 0.0103649\ttotal: 419ms\tremaining: 147ms\n",
      "740:\tlearn: 0.0103056\ttotal: 420ms\tremaining: 147ms\n",
      "741:\tlearn: 0.0102812\ttotal: 421ms\tremaining: 146ms\n",
      "742:\tlearn: 0.0102297\ttotal: 422ms\tremaining: 146ms\n",
      "743:\tlearn: 0.0102059\ttotal: 422ms\tremaining: 145ms\n",
      "744:\tlearn: 0.0101622\ttotal: 422ms\tremaining: 145ms\n",
      "745:\tlearn: 0.0101389\ttotal: 423ms\tremaining: 144ms\n",
      "746:\tlearn: 0.0100905\ttotal: 423ms\tremaining: 143ms\n",
      "747:\tlearn: 0.0100848\ttotal: 424ms\tremaining: 143ms\n",
      "748:\tlearn: 0.0100444\ttotal: 424ms\tremaining: 142ms\n",
      "749:\tlearn: 0.0100048\ttotal: 425ms\tremaining: 142ms\n",
      "750:\tlearn: 0.0099581\ttotal: 425ms\tremaining: 141ms\n",
      "751:\tlearn: 0.0099354\ttotal: 426ms\tremaining: 140ms\n",
      "752:\tlearn: 0.0099298\ttotal: 426ms\tremaining: 140ms\n",
      "753:\tlearn: 0.0098914\ttotal: 427ms\tremaining: 139ms\n",
      "754:\tlearn: 0.0098648\ttotal: 427ms\tremaining: 139ms\n",
      "755:\tlearn: 0.0098593\ttotal: 428ms\tremaining: 138ms\n",
      "756:\tlearn: 0.0098539\ttotal: 428ms\tremaining: 137ms\n",
      "757:\tlearn: 0.0098002\ttotal: 429ms\tremaining: 137ms\n",
      "758:\tlearn: 0.0097784\ttotal: 429ms\tremaining: 136ms\n",
      "759:\tlearn: 0.0097731\ttotal: 432ms\tremaining: 136ms\n",
      "760:\tlearn: 0.0097680\ttotal: 433ms\tremaining: 136ms\n",
      "761:\tlearn: 0.0097622\ttotal: 433ms\tremaining: 135ms\n",
      "762:\tlearn: 0.0097226\ttotal: 434ms\tremaining: 135ms\n",
      "763:\tlearn: 0.0097170\ttotal: 434ms\tremaining: 134ms\n",
      "764:\tlearn: 0.0097121\ttotal: 435ms\tremaining: 134ms\n",
      "765:\tlearn: 0.0097072\ttotal: 435ms\tremaining: 133ms\n",
      "766:\tlearn: 0.0096693\ttotal: 436ms\tremaining: 132ms\n",
      "767:\tlearn: 0.0096645\ttotal: 436ms\tremaining: 132ms\n",
      "768:\tlearn: 0.0096592\ttotal: 437ms\tremaining: 131ms\n",
      "769:\tlearn: 0.0096221\ttotal: 437ms\tremaining: 131ms\n",
      "770:\tlearn: 0.0096173\ttotal: 438ms\tremaining: 130ms\n",
      "771:\tlearn: 0.0096127\ttotal: 438ms\tremaining: 129ms\n",
      "772:\tlearn: 0.0095960\ttotal: 439ms\tremaining: 129ms\n",
      "773:\tlearn: 0.0095913\ttotal: 439ms\tremaining: 128ms\n",
      "774:\tlearn: 0.0095868\ttotal: 440ms\tremaining: 128ms\n",
      "775:\tlearn: 0.0095507\ttotal: 440ms\tremaining: 127ms\n",
      "776:\tlearn: 0.0095460\ttotal: 441ms\tremaining: 126ms\n",
      "777:\tlearn: 0.0095298\ttotal: 441ms\tremaining: 126ms\n",
      "778:\tlearn: 0.0095252\ttotal: 442ms\tremaining: 125ms\n",
      "779:\tlearn: 0.0095209\ttotal: 442ms\tremaining: 125ms\n",
      "780:\tlearn: 0.0095164\ttotal: 443ms\tremaining: 124ms\n",
      "781:\tlearn: 0.0095004\ttotal: 443ms\tremaining: 124ms\n",
      "782:\tlearn: 0.0094961\ttotal: 444ms\tremaining: 123ms\n",
      "783:\tlearn: 0.0094918\ttotal: 444ms\tremaining: 122ms\n",
      "784:\tlearn: 0.0094566\ttotal: 445ms\tremaining: 122ms\n",
      "785:\tlearn: 0.0094523\ttotal: 445ms\tremaining: 121ms\n",
      "786:\tlearn: 0.0094366\ttotal: 446ms\tremaining: 121ms\n",
      "787:\tlearn: 0.0094324\ttotal: 446ms\tremaining: 120ms\n",
      "788:\tlearn: 0.0094283\ttotal: 447ms\tremaining: 120ms\n",
      "789:\tlearn: 0.0094128\ttotal: 447ms\tremaining: 119ms\n",
      "790:\tlearn: 0.0094088\ttotal: 448ms\tremaining: 118ms\n",
      "791:\tlearn: 0.0094047\ttotal: 449ms\tremaining: 118ms\n",
      "792:\tlearn: 0.0094007\ttotal: 449ms\tremaining: 117ms\n",
      "793:\tlearn: 0.0093903\ttotal: 449ms\tremaining: 117ms\n",
      "794:\tlearn: 0.0093352\ttotal: 450ms\tremaining: 116ms\n",
      "795:\tlearn: 0.0093262\ttotal: 450ms\tremaining: 115ms\n",
      "796:\tlearn: 0.0093174\ttotal: 451ms\tremaining: 115ms\n",
      "797:\tlearn: 0.0092914\ttotal: 451ms\tremaining: 114ms\n",
      "798:\tlearn: 0.0092876\ttotal: 452ms\tremaining: 114ms\n",
      "799:\tlearn: 0.0092339\ttotal: 452ms\tremaining: 113ms\n"
     ]
    },
    {
     "name": "stdout",
     "output_type": "stream",
     "text": [
      "800:\tlearn: 0.0092243\ttotal: 453ms\tremaining: 112ms\n",
      "801:\tlearn: 0.0091744\ttotal: 453ms\tremaining: 112ms\n",
      "802:\tlearn: 0.0091660\ttotal: 454ms\tremaining: 111ms\n",
      "803:\tlearn: 0.0091622\ttotal: 454ms\tremaining: 111ms\n",
      "804:\tlearn: 0.0091580\ttotal: 454ms\tremaining: 110ms\n",
      "805:\tlearn: 0.0091479\ttotal: 455ms\tremaining: 109ms\n",
      "806:\tlearn: 0.0091398\ttotal: 455ms\tremaining: 109ms\n",
      "807:\tlearn: 0.0091299\ttotal: 456ms\tremaining: 108ms\n",
      "808:\tlearn: 0.0091262\ttotal: 456ms\tremaining: 108ms\n",
      "809:\tlearn: 0.0091221\ttotal: 457ms\tremaining: 107ms\n",
      "810:\tlearn: 0.0091123\ttotal: 457ms\tremaining: 107ms\n",
      "811:\tlearn: 0.0090635\ttotal: 458ms\tremaining: 106ms\n",
      "812:\tlearn: 0.0090557\ttotal: 458ms\tremaining: 105ms\n",
      "813:\tlearn: 0.0090290\ttotal: 458ms\tremaining: 105ms\n",
      "814:\tlearn: 0.0089780\ttotal: 459ms\tremaining: 104ms\n",
      "815:\tlearn: 0.0089744\ttotal: 460ms\tremaining: 104ms\n",
      "816:\tlearn: 0.0089244\ttotal: 460ms\tremaining: 103ms\n",
      "817:\tlearn: 0.0089203\ttotal: 461ms\tremaining: 102ms\n",
      "818:\tlearn: 0.0088837\ttotal: 461ms\tremaining: 102ms\n",
      "819:\tlearn: 0.0088740\ttotal: 462ms\tremaining: 101ms\n",
      "820:\tlearn: 0.0088416\ttotal: 462ms\tremaining: 101ms\n",
      "821:\tlearn: 0.0088214\ttotal: 463ms\tremaining: 100ms\n",
      "822:\tlearn: 0.0088138\ttotal: 463ms\tremaining: 99.7ms\n",
      "823:\tlearn: 0.0088042\ttotal: 464ms\tremaining: 99.1ms\n",
      "824:\tlearn: 0.0087968\ttotal: 464ms\tremaining: 98.5ms\n",
      "825:\tlearn: 0.0087874\ttotal: 465ms\tremaining: 97.9ms\n",
      "826:\tlearn: 0.0087397\ttotal: 465ms\tremaining: 97.3ms\n",
      "827:\tlearn: 0.0087177\ttotal: 466ms\tremaining: 96.8ms\n",
      "828:\tlearn: 0.0086939\ttotal: 466ms\tremaining: 96.2ms\n",
      "829:\tlearn: 0.0086723\ttotal: 467ms\tremaining: 95.6ms\n",
      "830:\tlearn: 0.0086492\ttotal: 467ms\tremaining: 95ms\n",
      "831:\tlearn: 0.0086280\ttotal: 468ms\tremaining: 94.5ms\n",
      "832:\tlearn: 0.0085876\ttotal: 468ms\tremaining: 93.9ms\n",
      "833:\tlearn: 0.0085651\ttotal: 469ms\tremaining: 93.3ms\n",
      "834:\tlearn: 0.0085373\ttotal: 469ms\tremaining: 92.7ms\n",
      "835:\tlearn: 0.0084983\ttotal: 470ms\tremaining: 92.1ms\n",
      "836:\tlearn: 0.0084672\ttotal: 470ms\tremaining: 91.5ms\n",
      "837:\tlearn: 0.0084194\ttotal: 471ms\tremaining: 91ms\n",
      "838:\tlearn: 0.0083889\ttotal: 471ms\tremaining: 90.4ms\n",
      "839:\tlearn: 0.0083511\ttotal: 472ms\tremaining: 89.8ms\n",
      "840:\tlearn: 0.0083082\ttotal: 472ms\tremaining: 89.2ms\n",
      "841:\tlearn: 0.0082713\ttotal: 472ms\tremaining: 88.6ms\n",
      "842:\tlearn: 0.0082301\ttotal: 473ms\tremaining: 88.1ms\n",
      "843:\tlearn: 0.0081919\ttotal: 473ms\tremaining: 87.5ms\n",
      "844:\tlearn: 0.0081543\ttotal: 474ms\tremaining: 86.9ms\n",
      "845:\tlearn: 0.0081156\ttotal: 474ms\tremaining: 86.3ms\n",
      "846:\tlearn: 0.0080777\ttotal: 475ms\tremaining: 85.7ms\n",
      "847:\tlearn: 0.0080415\ttotal: 475ms\tremaining: 85.1ms\n",
      "848:\tlearn: 0.0080047\ttotal: 475ms\tremaining: 84.5ms\n",
      "849:\tlearn: 0.0080009\ttotal: 477ms\tremaining: 84.2ms\n",
      "850:\tlearn: 0.0079972\ttotal: 478ms\tremaining: 83.7ms\n",
      "851:\tlearn: 0.0079627\ttotal: 479ms\tremaining: 83.1ms\n",
      "852:\tlearn: 0.0079591\ttotal: 479ms\tremaining: 82.6ms\n",
      "853:\tlearn: 0.0079555\ttotal: 480ms\tremaining: 82ms\n",
      "854:\tlearn: 0.0079216\ttotal: 480ms\tremaining: 81.4ms\n",
      "855:\tlearn: 0.0078823\ttotal: 480ms\tremaining: 80.8ms\n",
      "856:\tlearn: 0.0078491\ttotal: 481ms\tremaining: 80.2ms\n",
      "857:\tlearn: 0.0078459\ttotal: 481ms\tremaining: 79.7ms\n",
      "858:\tlearn: 0.0078132\ttotal: 482ms\tremaining: 79.1ms\n",
      "859:\tlearn: 0.0077748\ttotal: 482ms\tremaining: 78.5ms\n",
      "860:\tlearn: 0.0077427\ttotal: 483ms\tremaining: 77.9ms\n",
      "861:\tlearn: 0.0077397\ttotal: 483ms\tremaining: 77.3ms\n",
      "862:\tlearn: 0.0077081\ttotal: 484ms\tremaining: 76.8ms\n",
      "863:\tlearn: 0.0076843\ttotal: 484ms\tremaining: 76.2ms\n",
      "864:\tlearn: 0.0076813\ttotal: 485ms\tremaining: 75.7ms\n",
      "865:\tlearn: 0.0076784\ttotal: 486ms\tremaining: 75.1ms\n",
      "866:\tlearn: 0.0076476\ttotal: 486ms\tremaining: 74.6ms\n",
      "867:\tlearn: 0.0076446\ttotal: 486ms\tremaining: 74ms\n",
      "868:\tlearn: 0.0076418\ttotal: 487ms\tremaining: 73.4ms\n",
      "869:\tlearn: 0.0076075\ttotal: 487ms\tremaining: 72.8ms\n",
      "870:\tlearn: 0.0075706\ttotal: 488ms\tremaining: 72.2ms\n",
      "871:\tlearn: 0.0075404\ttotal: 488ms\tremaining: 71.6ms\n",
      "872:\tlearn: 0.0075108\ttotal: 489ms\tremaining: 71.1ms\n",
      "873:\tlearn: 0.0074747\ttotal: 489ms\tremaining: 70.6ms\n",
      "874:\tlearn: 0.0074408\ttotal: 490ms\tremaining: 70ms\n",
      "875:\tlearn: 0.0074078\ttotal: 491ms\tremaining: 69.5ms\n",
      "876:\tlearn: 0.0073749\ttotal: 491ms\tremaining: 68.9ms\n",
      "877:\tlearn: 0.0073516\ttotal: 492ms\tremaining: 68.3ms\n",
      "878:\tlearn: 0.0073229\ttotal: 492ms\tremaining: 67.8ms\n",
      "879:\tlearn: 0.0073002\ttotal: 493ms\tremaining: 67.2ms\n",
      "880:\tlearn: 0.0072722\ttotal: 493ms\tremaining: 66.6ms\n",
      "881:\tlearn: 0.0072501\ttotal: 494ms\tremaining: 66ms\n",
      "882:\tlearn: 0.0072474\ttotal: 494ms\tremaining: 65.5ms\n",
      "883:\tlearn: 0.0072448\ttotal: 495ms\tremaining: 64.9ms\n",
      "884:\tlearn: 0.0072128\ttotal: 495ms\tremaining: 64.3ms\n",
      "885:\tlearn: 0.0071789\ttotal: 495ms\tremaining: 63.7ms\n",
      "886:\tlearn: 0.0071516\ttotal: 496ms\tremaining: 63.2ms\n",
      "887:\tlearn: 0.0071202\ttotal: 496ms\tremaining: 62.6ms\n",
      "888:\tlearn: 0.0070894\ttotal: 497ms\tremaining: 62ms\n",
      "889:\tlearn: 0.0070732\ttotal: 497ms\tremaining: 61.5ms\n",
      "890:\tlearn: 0.0070466\ttotal: 498ms\tremaining: 60.9ms\n",
      "891:\tlearn: 0.0070284\ttotal: 498ms\tremaining: 60.3ms\n",
      "892:\tlearn: 0.0069958\ttotal: 499ms\tremaining: 59.7ms\n",
      "893:\tlearn: 0.0069698\ttotal: 499ms\tremaining: 59.2ms\n",
      "894:\tlearn: 0.0069400\ttotal: 500ms\tremaining: 58.6ms\n",
      "895:\tlearn: 0.0069207\ttotal: 500ms\tremaining: 58ms\n",
      "896:\tlearn: 0.0069018\ttotal: 500ms\tremaining: 57.5ms\n",
      "897:\tlearn: 0.0068993\ttotal: 501ms\tremaining: 56.9ms\n",
      "898:\tlearn: 0.0068807\ttotal: 501ms\tremaining: 56.3ms\n",
      "899:\tlearn: 0.0068783\ttotal: 502ms\tremaining: 55.8ms\n",
      "900:\tlearn: 0.0068759\ttotal: 502ms\tremaining: 55.2ms\n",
      "901:\tlearn: 0.0068577\ttotal: 503ms\tremaining: 54.6ms\n",
      "902:\tlearn: 0.0068554\ttotal: 503ms\tremaining: 54.1ms\n",
      "903:\tlearn: 0.0068375\ttotal: 504ms\tremaining: 53.5ms\n",
      "904:\tlearn: 0.0068333\ttotal: 508ms\tremaining: 53.3ms\n",
      "905:\tlearn: 0.0068158\ttotal: 509ms\tremaining: 52.8ms\n",
      "906:\tlearn: 0.0067803\ttotal: 509ms\tremaining: 52.2ms\n",
      "907:\tlearn: 0.0067780\ttotal: 510ms\tremaining: 51.7ms\n",
      "908:\tlearn: 0.0067758\ttotal: 510ms\tremaining: 51.1ms\n",
      "909:\tlearn: 0.0067437\ttotal: 511ms\tremaining: 50.5ms\n",
      "910:\tlearn: 0.0067147\ttotal: 511ms\tremaining: 49.9ms\n",
      "911:\tlearn: 0.0066839\ttotal: 512ms\tremaining: 49.4ms\n",
      "912:\tlearn: 0.0066667\ttotal: 512ms\tremaining: 48.8ms\n",
      "913:\tlearn: 0.0066645\ttotal: 513ms\tremaining: 48.2ms\n",
      "914:\tlearn: 0.0066309\ttotal: 513ms\tremaining: 47.7ms\n",
      "915:\tlearn: 0.0066286\ttotal: 514ms\tremaining: 47.1ms\n",
      "916:\tlearn: 0.0066247\ttotal: 514ms\tremaining: 46.5ms\n",
      "917:\tlearn: 0.0065941\ttotal: 515ms\tremaining: 46ms\n",
      "918:\tlearn: 0.0065586\ttotal: 515ms\tremaining: 45.4ms\n",
      "919:\tlearn: 0.0065417\ttotal: 516ms\tremaining: 44.8ms\n",
      "920:\tlearn: 0.0065143\ttotal: 516ms\tremaining: 44.3ms\n",
      "921:\tlearn: 0.0064943\ttotal: 517ms\tremaining: 43.7ms\n",
      "922:\tlearn: 0.0064922\ttotal: 517ms\tremaining: 43.1ms\n",
      "923:\tlearn: 0.0064901\ttotal: 517ms\tremaining: 42.6ms\n",
      "924:\tlearn: 0.0064626\ttotal: 518ms\tremaining: 42ms\n",
      "925:\tlearn: 0.0064462\ttotal: 518ms\tremaining: 41.4ms\n",
      "926:\tlearn: 0.0064301\ttotal: 519ms\tremaining: 40.9ms\n",
      "927:\tlearn: 0.0064069\ttotal: 519ms\tremaining: 40.3ms\n",
      "928:\tlearn: 0.0063844\ttotal: 520ms\tremaining: 39.7ms\n",
      "929:\tlearn: 0.0063674\ttotal: 521ms\tremaining: 39.2ms\n",
      "930:\tlearn: 0.0063509\ttotal: 521ms\tremaining: 38.6ms\n",
      "931:\tlearn: 0.0063435\ttotal: 521ms\tremaining: 38ms\n",
      "932:\tlearn: 0.0063362\ttotal: 522ms\tremaining: 37.5ms\n",
      "933:\tlearn: 0.0063178\ttotal: 523ms\tremaining: 36.9ms\n",
      "934:\tlearn: 0.0063018\ttotal: 523ms\tremaining: 36.4ms\n",
      "935:\tlearn: 0.0062999\ttotal: 524ms\tremaining: 35.8ms\n",
      "936:\tlearn: 0.0062842\ttotal: 524ms\tremaining: 35.2ms\n",
      "937:\tlearn: 0.0062772\ttotal: 525ms\tremaining: 34.7ms\n",
      "938:\tlearn: 0.0062507\ttotal: 525ms\tremaining: 34.1ms\n",
      "939:\tlearn: 0.0062327\ttotal: 526ms\tremaining: 33.6ms\n",
      "940:\tlearn: 0.0062113\ttotal: 526ms\tremaining: 33ms\n",
      "941:\tlearn: 0.0062034\ttotal: 527ms\tremaining: 32.4ms\n",
      "942:\tlearn: 0.0061945\ttotal: 527ms\tremaining: 31.9ms\n",
      "943:\tlearn: 0.0061904\ttotal: 528ms\tremaining: 31.3ms\n",
      "944:\tlearn: 0.0061582\ttotal: 528ms\tremaining: 30.7ms\n",
      "945:\tlearn: 0.0061379\ttotal: 528ms\tremaining: 30.2ms\n",
      "946:\tlearn: 0.0061304\ttotal: 529ms\tremaining: 29.6ms\n",
      "947:\tlearn: 0.0061216\ttotal: 529ms\tremaining: 29ms\n",
      "948:\tlearn: 0.0060904\ttotal: 530ms\tremaining: 28.5ms\n",
      "949:\tlearn: 0.0060763\ttotal: 530ms\tremaining: 27.9ms\n",
      "950:\tlearn: 0.0060697\ttotal: 530ms\tremaining: 27.3ms\n",
      "951:\tlearn: 0.0060624\ttotal: 531ms\tremaining: 26.8ms\n",
      "952:\tlearn: 0.0060428\ttotal: 531ms\tremaining: 26.2ms\n",
      "953:\tlearn: 0.0060272\ttotal: 532ms\tremaining: 25.6ms\n",
      "954:\tlearn: 0.0060081\ttotal: 532ms\tremaining: 25.1ms\n",
      "955:\tlearn: 0.0060041\ttotal: 533ms\tremaining: 24.5ms\n",
      "956:\tlearn: 0.0059737\ttotal: 533ms\tremaining: 24ms\n",
      "957:\tlearn: 0.0059595\ttotal: 534ms\tremaining: 23.4ms\n",
      "958:\tlearn: 0.0059554\ttotal: 534ms\tremaining: 22.8ms\n",
      "959:\tlearn: 0.0059403\ttotal: 535ms\tremaining: 22.3ms\n",
      "960:\tlearn: 0.0059217\ttotal: 535ms\tremaining: 21.7ms\n",
      "961:\tlearn: 0.0059178\ttotal: 536ms\tremaining: 21.2ms\n",
      "962:\tlearn: 0.0058882\ttotal: 536ms\tremaining: 20.6ms\n",
      "963:\tlearn: 0.0058708\ttotal: 537ms\tremaining: 20ms\n",
      "964:\tlearn: 0.0058669\ttotal: 537ms\tremaining: 19.5ms\n",
      "965:\tlearn: 0.0058533\ttotal: 538ms\tremaining: 18.9ms\n",
      "966:\tlearn: 0.0058494\ttotal: 538ms\tremaining: 18.4ms\n",
      "967:\tlearn: 0.0058360\ttotal: 539ms\tremaining: 17.8ms\n",
      "968:\tlearn: 0.0058214\ttotal: 539ms\tremaining: 17.3ms\n",
      "969:\tlearn: 0.0057924\ttotal: 540ms\tremaining: 16.7ms\n",
      "970:\tlearn: 0.0057759\ttotal: 541ms\tremaining: 16.1ms\n"
     ]
    },
    {
     "name": "stdout",
     "output_type": "stream",
     "text": [
      "971:\tlearn: 0.0057721\ttotal: 541ms\tremaining: 15.6ms\n",
      "972:\tlearn: 0.0057683\ttotal: 542ms\tremaining: 15ms\n",
      "973:\tlearn: 0.0057554\ttotal: 543ms\tremaining: 14.5ms\n",
      "974:\tlearn: 0.0057486\ttotal: 543ms\tremaining: 13.9ms\n",
      "975:\tlearn: 0.0057204\ttotal: 544ms\tremaining: 13.4ms\n",
      "976:\tlearn: 0.0057077\ttotal: 544ms\tremaining: 12.8ms\n",
      "977:\tlearn: 0.0057039\ttotal: 545ms\tremaining: 12.3ms\n",
      "978:\tlearn: 0.0056915\ttotal: 545ms\tremaining: 11.7ms\n",
      "979:\tlearn: 0.0056588\ttotal: 545ms\tremaining: 11.1ms\n",
      "980:\tlearn: 0.0056286\ttotal: 546ms\tremaining: 10.6ms\n",
      "981:\tlearn: 0.0056098\ttotal: 546ms\tremaining: 10ms\n",
      "982:\tlearn: 0.0056061\ttotal: 547ms\tremaining: 9.46ms\n",
      "983:\tlearn: 0.0055766\ttotal: 547ms\tremaining: 8.9ms\n",
      "984:\tlearn: 0.0055635\ttotal: 548ms\tremaining: 8.34ms\n",
      "985:\tlearn: 0.0055599\ttotal: 548ms\tremaining: 7.78ms\n",
      "986:\tlearn: 0.0055415\ttotal: 549ms\tremaining: 7.22ms\n",
      "987:\tlearn: 0.0055280\ttotal: 549ms\tremaining: 6.67ms\n",
      "988:\tlearn: 0.0055155\ttotal: 550ms\tremaining: 6.11ms\n",
      "989:\tlearn: 0.0054842\ttotal: 550ms\tremaining: 5.56ms\n",
      "990:\tlearn: 0.0054706\ttotal: 551ms\tremaining: 5ms\n",
      "991:\tlearn: 0.0054548\ttotal: 551ms\tremaining: 4.44ms\n",
      "992:\tlearn: 0.0054428\ttotal: 551ms\tremaining: 3.89ms\n",
      "993:\tlearn: 0.0054124\ttotal: 552ms\tremaining: 3.33ms\n",
      "994:\tlearn: 0.0053842\ttotal: 552ms\tremaining: 2.77ms\n",
      "995:\tlearn: 0.0053807\ttotal: 552ms\tremaining: 2.22ms\n",
      "996:\tlearn: 0.0053531\ttotal: 555ms\tremaining: 1.67ms\n",
      "997:\tlearn: 0.0053412\ttotal: 556ms\tremaining: 1.11ms\n",
      "998:\tlearn: 0.0053283\ttotal: 556ms\tremaining: 556us\n",
      "999:\tlearn: 0.0053167\ttotal: 557ms\tremaining: 0us\n"
     ]
    },
    {
     "data": {
      "text/plain": [
       "<catboost.core.CatBoostRegressor at 0x7f8e40377880>"
      ]
     },
     "execution_count": 9,
     "metadata": {},
     "output_type": "execute_result"
    }
   ],
   "source": [
    "#Train the Model \n",
    "prior_model = ctb.CatBoostRegressor()\n",
    "prior_model.fit(X_train,Y_train)"
   ]
  },
  {
   "cell_type": "code",
   "execution_count": 10,
   "id": "af65dcda",
   "metadata": {
    "execution": {
     "iopub.execute_input": "2022-03-16T13:24:00.392287Z",
     "iopub.status.busy": "2022-03-16T13:24:00.391877Z",
     "iopub.status.idle": "2022-03-16T13:24:00.400173Z",
     "shell.execute_reply": "2022-03-16T13:24:00.400552Z"
    },
    "id": "af65dcda",
    "papermill": {
     "duration": 0.022756,
     "end_time": "2022-03-16T13:24:00.400680",
     "exception": false,
     "start_time": "2022-03-16T13:24:00.377924",
     "status": "completed"
    },
    "tags": []
   },
   "outputs": [
    {
     "data": {
      "application/scrapbook.scrap.json+json": {
       "data": 0.017639166012138514,
       "encoder": "json",
       "name": "Prior Model MSE",
       "version": 1
      }
     },
     "metadata": {
      "scrapbook": {
       "data": true,
       "display": false,
       "name": "Prior Model MSE"
      }
     },
     "output_type": "display_data"
    },
    {
     "data": {
      "application/scrapbook.scrap.json+json": {
       "data": 0.034354213771371794,
       "encoder": "json",
       "name": "ABC Pre-generator MSE",
       "version": 1
      }
     },
     "metadata": {
      "scrapbook": {
       "data": true,
       "display": false,
       "name": "ABC Pre-generator MSE"
      }
     },
     "output_type": "display_data"
    },
    {
     "data": {
      "application/scrapbook.scrap.json+json": {
       "data": 0.08675097891532735,
       "encoder": "json",
       "name": "Prior Model MSE",
       "version": 1
      }
     },
     "metadata": {
      "scrapbook": {
       "data": true,
       "display": false,
       "name": "Prior Model MSE"
      }
     },
     "output_type": "display_data"
    },
    {
     "data": {
      "application/scrapbook.scrap.json+json": {
       "data": 0.14506168529432897,
       "encoder": "json",
       "name": "ABC Pre-generator MSE",
       "version": 1
      }
     },
     "metadata": {
      "scrapbook": {
       "data": true,
       "display": false,
       "name": "ABC Pre-generator MSE"
      }
     },
     "output_type": "display_data"
    }
   ],
   "source": [
    "y_pred = prior_model.predict(X_test)\n",
    "y_abc = y_pred + np.random.normal(0,variance, y_pred.shape) + bias \n",
    "mse = mean_squared_error(y_pred,Y_test)\n",
    "sb.glue(\"Prior Model MSE\",mse)\n",
    "mse = mean_squared_error(y_abc,Y_test)\n",
    "sb.glue(\"ABC Pre-generator MSE\",mse)\n",
    "mae = mean_absolute_error(y_pred,Y_test)\n",
    "sb.glue(\"Prior Model MSE\",mae)\n",
    "mae = mean_absolute_error(y_abc,Y_test)\n",
    "sb.glue(\"ABC Pre-generator MSE\",mae)"
   ]
  },
  {
   "cell_type": "markdown",
   "id": "25609da2",
   "metadata": {
    "papermill": {
     "duration": 0.010446,
     "end_time": "2022-03-16T13:24:00.421571",
     "exception": false,
     "start_time": "2022-03-16T13:24:00.411125",
     "status": "completed"
    },
    "tags": []
   },
   "source": [
    "# ABC GAN Model"
   ]
  },
  {
   "cell_type": "code",
   "execution_count": 11,
   "id": "dfc3464d",
   "metadata": {
    "execution": {
     "iopub.execute_input": "2022-03-16T13:24:00.446549Z",
     "iopub.status.busy": "2022-03-16T13:24:00.446054Z",
     "iopub.status.idle": "2022-03-16T13:24:00.449025Z",
     "shell.execute_reply": "2022-03-16T13:24:00.449299Z"
    },
    "papermill": {
     "duration": 0.017321,
     "end_time": "2022-03-16T13:24:00.449460",
     "exception": false,
     "start_time": "2022-03-16T13:24:00.432139",
     "status": "completed"
    },
    "tags": []
   },
   "outputs": [],
   "source": [
    "gen = network.Generator(n_features+1).to(device)\n",
    "disc = network.Discriminator(n_features+1).to(device)\n",
    "\n",
    "criterion = torch.nn.BCELoss()\n",
    "gen_opt = torch.optim.Adam(gen.parameters(), lr=0.001, betas=(0.5, 0.999))\n",
    "disc_opt = torch.optim.Adam(disc.parameters(), lr=0.001, betas=(0.5, 0.999))"
   ]
  },
  {
   "cell_type": "code",
   "execution_count": 12,
   "id": "b75fdd85",
   "metadata": {
    "execution": {
     "iopub.execute_input": "2022-03-16T13:24:00.474440Z",
     "iopub.status.busy": "2022-03-16T13:24:00.474042Z",
     "iopub.status.idle": "2022-03-16T13:24:16.031741Z",
     "shell.execute_reply": "2022-03-16T13:24:16.032065Z"
    },
    "papermill": {
     "duration": 15.572367,
     "end_time": "2022-03-16T13:24:16.032229",
     "exception": false,
     "start_time": "2022-03-16T13:24:00.459862",
     "status": "completed"
    },
    "tags": []
   },
   "outputs": [
    {
     "data": {
      "image/png": "[encoded data removed]",
      "text/plain": [
       "<Figure size 432x288 with 1 Axes>"
      ]
     },
     "metadata": {
      "needs_background": "light"
     },
     "output_type": "display_data"
    },
    {
     "data": {
      "image/png": "[encoded data removed]",
      "text/plain": [
       "<Figure size 432x288 with 1 Axes>"
      ]
     },
     "metadata": {
      "needs_background": "light"
     },
     "output_type": "display_data"
    }
   ],
   "source": [
    "#Training the ABC_GAN \n",
    "ABC_train_test2.training_GAN(disc,gen,disc_opt,gen_opt,train_data,batch_size,n_epochs,criterion,prior_model,variance,bias,device)"
   ]
  },
  {
   "cell_type": "code",
   "execution_count": 13,
   "id": "1fa7c368",
   "metadata": {
    "execution": {
     "iopub.execute_input": "2022-03-16T13:24:16.058136Z",
     "iopub.status.busy": "2022-03-16T13:24:16.057685Z",
     "iopub.status.idle": "2022-03-16T13:24:16.245298Z",
     "shell.execute_reply": "2022-03-16T13:24:16.245617Z"
    },
    "papermill": {
     "duration": 0.201753,
     "end_time": "2022-03-16T13:24:16.245755",
     "exception": false,
     "start_time": "2022-03-16T13:24:16.044002",
     "status": "completed"
    },
    "tags": []
   },
   "outputs": [
    {
     "data": {
      "application/scrapbook.scrap.json+json": {
       "data": 0.004211289514783815,
       "encoder": "json",
       "name": "ABC-GAN Model 1 MSE",
       "version": 1
      }
     },
     "metadata": {
      "scrapbook": {
       "data": true,
       "display": false,
       "name": "ABC-GAN Model 1 MSE"
      }
     },
     "output_type": "display_data"
    },
    {
     "data": {
      "application/scrapbook.scrap.json+json": {
       "data": 0.046799639780074356,
       "encoder": "json",
       "name": "ABC-GAN Model 1 MAE",
       "version": 1
      }
     },
     "metadata": {
      "scrapbook": {
       "data": true,
       "display": false,
       "name": "ABC-GAN Model 1 MAE"
      }
     },
     "output_type": "display_data"
    },
    {
     "data": {
      "application/scrapbook.scrap.json+json": {
       "data": 0.9359927956014872,
       "encoder": "json",
       "name": "ABC-GAN Model 1 Manhattan Distance",
       "version": 1
      }
     },
     "metadata": {
      "scrapbook": {
       "data": true,
       "display": false,
       "name": "ABC-GAN Model 1 Manhattan Distance"
      }
     },
     "output_type": "display_data"
    },
    {
     "data": {
      "application/scrapbook.scrap.json+json": {
       "data": 0.2899970393477857,
       "encoder": "json",
       "name": "ABC-GAN Model 1 Euclidean distance",
       "version": 1
      }
     },
     "metadata": {
      "scrapbook": {
       "data": true,
       "display": false,
       "name": "ABC-GAN Model 1 Euclidean distance"
      }
     },
     "output_type": "display_data"
    },
    {
     "data": {
      "application/scrapbook.scrap.json+json": {
       "data": [
        [
         0.004579455978277192,
         0.004660539925964036,
         0.004014015450742065,
         0.004383644873117171,
         0.004420587841420931,
         0.004418755017748728,
         0.003631627763614432,
         0.004147566484365379,
         0.004436370134659696,
         0.004078589350520401,
         0.004494923817334773,
         0.004532865807885306,
         0.004200533125894379,
         0.004054988859848908,
         0.004008450061576275,
         0.004652343231160706,
         0.003940600570572717,
         0.003964196744228316,
         0.004001960177444092,
         0.004167600507974335,
         0.0042444575926319904,
         0.004037743623474883,
         0.004769960443996502,
         0.003938705759240508,
         0.0043635554310318524,
         0.004484755480851949,
         0.004091778311382578,
         0.0036628520135587156,
         0.004399926139168299,
         0.003967785047135936,
         0.003665647328183614,
         0.004247756898964334,
         0.0045839912127010945,
         0.003860952456245543,
         0.003693463146900539,
         0.003926912084242718,
         0.004234691121570756,
         0.004218062805451046,
         0.004155028176782051,
         0.003984676389138548,
         0.004298397321814213,
         0.004473848105444234,
         0.0042984694232057205,
         0.004273235633586498,
         0.004052306379199339,
         0.0040372754753874255,
         0.004015836724440159,
         0.005250942790038677,
         0.003953256987888504,
         0.004323594139298343,
         0.004457245118146503,
         0.004275030068778691,
         0.004588428202863765,
         0.0036879704258922516,
         0.004297744234115803,
         0.00466519299879692,
         0.0037445209416696774,
         0.004722921259946256,
         0.0040315746984346265,
         0.004001436344522925,
         0.004092320167968378,
         0.003973916190648081,
         0.004446711036992596,
         0.004179911923931702,
         0.0037764421551440006,
         0.004658738297738324,
         0.004652203511457493,
         0.003869946573038686,
         0.004680485751424929,
         0.0041823107874417184,
         0.004228503640527426,
         0.004433359511261354,
         0.004471406186633781,
         0.00418653645273594,
         0.004360811079064853,
         0.004475098648656689,
         0.004050852254800364,
         0.004107546926377043,
         0.0037657447419623354,
         0.0037591669938612854,
         0.003922668234393101,
         0.004387904730022075,
         0.004529120583989811,
         0.004024866802632022,
         0.004337985412180957,
         0.004140323186646184,
         0.004013529950878337,
         0.004276726708994822,
         0.0038140899634438183,
         0.003929723074814795,
         0.004568797728680785,
         0.0048608725190737116,
         0.004452021296514359,
         0.003412983245455715,
         0.0037460559977819893,
         0.005147702719569492,
         0.004332046279161462,
         0.0037558771801453846,
         0.004241272010931874,
         0.0041108265609300036
        ],
        [
         0.04879952240735293,
         0.04886956382542849,
         0.046084176190197466,
         0.04784446265548468,
         0.04865565653890371,
         0.04813318829983473,
         0.04458885882049799,
         0.04630203563719988,
         0.04727756809443236,
         0.0445655232295394,
         0.048838185332715514,
         0.04835027884691954,
         0.046756921149790284,
         0.04660619664937258,
         0.046246773563325405,
         0.046938813664019106,
         0.0457591587677598,
         0.044864976219832896,
         0.04730295706540346,
         0.04674090910702944,
         0.04750641714781523,
         0.046191747300326824,
         0.049515975080430506,
         0.046157810278236865,
         0.0476463345810771,
         0.04873636234551668,
         0.04690923858433962,
         0.04493068549782038,
         0.0461209075525403,
         0.045039944909513,
         0.04352970514446497,
         0.04465447831898928,
         0.04774733725935221,
         0.047030764259397985,
         0.04482377041131258,
         0.04547769110649824,
         0.04593469444662333,
         0.04621762465685606,
         0.045451671816408634,
         0.04615621957927942,
         0.04543188903480768,
         0.047313046641647816,
         0.047824147157371044,
         0.046124743111431596,
         0.04637456070631742,
         0.04620575439184904,
         0.046603711508214476,
         0.04964058604091406,
         0.0442861394956708,
         0.04713436458259821,
         0.04686137866228819,
         0.0483834994956851,
         0.04762425813823938,
         0.0449043245986104,
         0.04674635548144579,
         0.04962872844189405,
         0.04570957366377115,
         0.049417751096189025,
         0.04777442123740912,
         0.04632272776216269,
         0.045702881552278994,
         0.04530732799321413,
         0.04639407638460398,
         0.04683635961264372,
         0.04524888563901186,
         0.04791186284273863,
         0.04959625843912363,
         0.04537402223795652,
         0.047873125039041044,
         0.048563813976943496,
         0.04738809298723936,
         0.048037694208323954,
         0.047233027033507825,
         0.048040263913571836,
         0.04854559544473887,
         0.048999624140560624,
         0.04633237328380346,
         0.04619602244347334,
         0.044123404659330845,
         0.043024237267673016,
         0.0459575479850173,
         0.047151225991547106,
         0.047174396179616454,
         0.04730945248156786,
         0.04702996928244829,
         0.04709570202976465,
         0.04690865557640791,
         0.048159112222492695,
         0.04478824604302645,
         0.04467569831758737,
         0.04925051387399435,
         0.04931732956320047,
         0.04884735215455294,
         0.04446950126439333,
         0.044443458504974845,
         0.048918653093278405,
         0.046610099636018275,
         0.04527704883366823,
         0.046959126554429534,
         0.04727487172931433
        ],
        [
         0.9759904481470585,
         0.9773912765085697,
         0.9216835238039494,
         0.9568892531096935,
         0.9731131307780743,
         0.9626637659966946,
         0.8917771764099598,
         0.9260407127439976,
         0.9455513618886471,
         0.8913104645907879,
         0.9767637066543102,
         0.9670055769383907,
         0.9351384229958057,
         0.9321239329874516,
         0.9249354712665081,
         0.9387762732803822,
         0.915183175355196,
         0.8972995243966579,
         0.9460591413080692,
         0.9348181821405888,
         0.9501283429563046,
         0.9238349460065365,
         0.9903195016086102,
         0.9231562055647373,
         0.952926691621542,
         0.9747272469103336,
         0.9381847716867924,
         0.8986137099564075,
         0.922418151050806,
         0.9007988981902599,
         0.8705941028892994,
         0.8930895663797855,
         0.9549467451870441,
         0.9406152851879597,
         0.8964754082262516,
         0.9095538221299648,
         0.9186938889324665,
         0.9243524931371212,
         0.9090334363281727,
         0.9231243915855885,
         0.9086377806961536,
         0.9462609328329563,
         0.9564829431474209,
         0.922494862228632,
         0.9274912141263485,
         0.9241150878369808,
         0.9320742301642895,
         0.9928117208182812,
         0.8857227899134159,
         0.9426872916519642,
         0.9372275732457638,
         0.967669989913702,
         0.9524851627647877,
         0.898086491972208,
         0.9349271096289158,
         0.9925745688378811,
         0.914191473275423,
         0.9883550219237804,
         0.9554884247481823,
         0.9264545552432537,
         0.9140576310455799,
         0.9061465598642826,
         0.9278815276920795,
         0.9367271922528744,
         0.9049777127802372,
         0.9582372568547726,
         0.9919251687824726,
         0.9074804447591305,
         0.9574625007808208,
         0.9712762795388699,
         0.9477618597447872,
         0.9607538841664791,
         0.9446605406701565,
         0.9608052782714367,
         0.9709119088947773,
         0.9799924828112125,
         0.9266474656760693,
         0.9239204488694668,
         0.8824680931866169,
         0.8604847453534603,
         0.919150959700346,
         0.9430245198309422,
         0.943487923592329,
         0.9461890496313572,
         0.9405993856489658,
         0.941914040595293,
         0.9381731115281582,
         0.9631822444498539,
         0.895764920860529,
         0.8935139663517475,
         0.985010277479887,
         0.9863465912640095,
         0.9769470430910587,
         0.8893900252878666,
         0.8888691700994968,
         0.9783730618655682,
         0.9322019927203655,
         0.9055409766733646,
         0.9391825310885906,
         0.9454974345862865
        ],
        [
         0.302636943490949,
         0.3053044358002037,
         0.2833378001870582,
         0.2960960949798957,
         0.2973411455355929,
         0.2972794987128688,
         0.26950427690908474,
         0.2880127248704605,
         0.2978714533035919,
         0.28560775026320284,
         0.2998307461663921,
         0.30109353390218485,
         0.2898459289310229,
         0.2847802261340807,
         0.28314130965213374,
         0.3050358415386856,
         0.2807347705779502,
         0.2815740309129489,
         0.282912006724497,
         0.2887074819942959,
         0.29135742971930506,
         0.2841740179353096,
         0.308867623554056,
         0.2806672677474346,
         0.29541683875608216,
         0.2994914182694372,
         0.28606916336377736,
         0.2706603780961933,
         0.2966454496252487,
         0.2817014393692704,
         0.2707636359699586,
         0.2914706468570835,
         0.302786763670445,
         0.2778831573250003,
         0.2717890044464838,
         0.2802467514260502,
         0.2910220308351502,
         0.2904500922861291,
         0.28827168354807414,
         0.28230042115230886,
         0.2932029100065077,
         0.29912699996637665,
         0.293205369091554,
         0.29234348405895755,
         0.2846860157857895,
         0.284157543464446,
         0.28340207213216206,
         0.32406612874654694,
         0.281185241002742,
         0.29406101881406665,
         0.2985714359461234,
         0.29240485867299437,
         0.30293326667316567,
         0.2715868342130101,
         0.2931806349033238,
         0.305456805417621,
         0.2736611386978311,
         0.30734089412072246,
         0.28395685230100104,
         0.28289349036423317,
         0.28608810419059294,
         0.2819190022204279,
         0.2982184111349464,
         0.28913359970545455,
         0.27482511366845647,
         0.3052454192199557,
         0.30503126106868106,
         0.27820663446577565,
         0.3059570476856165,
         0.28921655510851096,
         0.2908093409960356,
         0.2977703649210698,
         0.2990453539727304,
         0.2893626255319073,
         0.295323926530339,
         0.29916880347578656,
         0.28463493302124265,
         0.2866198501980295,
         0.2744355932441102,
         0.2741958057250798,
         0.28009527787497956,
         0.29623992742444677,
         0.3009691208077603,
         0.2837205245530193,
         0.2945500097498201,
         0.2877611226919364,
         0.2833206646497335,
         0.29246287658418535,
         0.27619159883833605,
         0.2803470376092744,
         0.30228455894010814,
         0.3117971301687593,
         0.2983964241244978,
         0.26126550654289266,
         0.2737172262676206,
         0.32086454212235704,
         0.29434830657442085,
         0.2740757990098865,
         0.2912480733303441,
         0.286734251910371
        ]
       ],
       "encoder": "json",
       "name": "ABC_GAN_1 Metrics",
       "version": 1
      }
     },
     "metadata": {
      "scrapbook": {
       "data": true,
       "display": false,
       "name": "ABC_GAN_1 Metrics"
      }
     },
     "output_type": "display_data"
    },
    {
     "name": "stdout",
     "output_type": "stream",
     "text": [
      "MSE\n",
      "0.004211289514783815\n"
     ]
    }
   ],
   "source": [
    "ABC_GAN1_metrics=ABC_train_test2.test_generator(gen,test_data,prior_model,variance,bias,\"1\",device)\n",
    "sb.glue(\"ABC_GAN_1 Metrics\",ABC_GAN1_metrics)\n",
    "\n",
    "print(\"MSE\")\n",
    "print(mean(ABC_GAN1_metrics[0]))"
   ]
  },
  {
   "cell_type": "code",
   "execution_count": 14,
   "id": "eb22ce5c",
   "metadata": {
    "execution": {
     "iopub.execute_input": "2022-03-16T13:24:16.274364Z",
     "iopub.status.busy": "2022-03-16T13:24:16.273988Z",
     "iopub.status.idle": "2022-03-16T13:24:16.582679Z",
     "shell.execute_reply": "2022-03-16T13:24:16.583004Z"
    },
    "papermill": {
     "duration": 0.324555,
     "end_time": "2022-03-16T13:24:16.583132",
     "exception": false,
     "start_time": "2022-03-16T13:24:16.258577",
     "status": "completed"
    },
    "tags": []
   },
   "outputs": [
    {
     "data": {
      "image/png": "[encoded data removed]",
      "text/plain": [
       "<Figure size 432x288 with 1 Axes>"
      ]
     },
     "metadata": {
      "needs_background": "light"
     },
     "output_type": "display_data"
    },
    {
     "data": {
      "image/png": "[encoded data removed]",
      "text/plain": [
       "<Figure size 432x288 with 1 Axes>"
      ]
     },
     "metadata": {
      "needs_background": "light"
     },
     "output_type": "display_data"
    },
    {
     "data": {
      "image/png": "[encoded data removed]",
      "text/plain": [
       "<Figure size 432x288 with 1 Axes>"
      ]
     },
     "metadata": {
      "needs_background": "light"
     },
     "output_type": "display_data"
    },
    {
     "data": {
      "image/png": "[encoded data removed]",
      "text/plain": [
       "<Figure size 432x288 with 1 Axes>"
      ]
     },
     "metadata": {
      "needs_background": "light"
     },
     "output_type": "display_data"
    }
   ],
   "source": [
    "sanityChecks.discProbVsError(train_data,disc,device)\n",
    "sanityChecks.discProbVsError(test_data,disc,device)"
   ]
  },
  {
   "cell_type": "markdown",
   "id": "130f3a4d",
   "metadata": {
    "id": "130f3a4d",
    "papermill": {
     "duration": 0.040911,
     "end_time": "2022-03-16T13:24:16.638971",
     "exception": false,
     "start_time": "2022-03-16T13:24:16.598060",
     "status": "completed"
    },
    "tags": []
   },
   "source": [
    "# ABC - GAN Model with skip connection"
   ]
  },
  {
   "cell_type": "code",
   "execution_count": 15,
   "id": "4e43dad1",
   "metadata": {
    "execution": {
     "iopub.execute_input": "2022-03-16T13:24:16.673057Z",
     "iopub.status.busy": "2022-03-16T13:24:16.672590Z",
     "iopub.status.idle": "2022-03-16T13:24:16.674791Z",
     "shell.execute_reply": "2022-03-16T13:24:16.675043Z"
    },
    "id": "4e43dad1",
    "papermill": {
     "duration": 0.021153,
     "end_time": "2022-03-16T13:24:16.675162",
     "exception": false,
     "start_time": "2022-03-16T13:24:16.654009",
     "status": "completed"
    },
    "tags": []
   },
   "outputs": [],
   "source": [
    "#Generator\n",
    "gen3 = network.GeneratorWithSkipConnection(n_features+1).to(device)\n",
    "constraints=network.weightConstraint()\n",
    "#Discriminator \n",
    "disc3 = network.Discriminator(n_features+1).to(device)\n",
    "\n",
    "criterion = torch.nn.BCELoss()\n",
    "gen_opt = torch.optim.Adam(gen3.parameters(), lr=0.001, betas=(0.5, 0.999))\n",
    "disc_opt = torch.optim.Adam(disc3.parameters(), lr=0.001, betas=(0.5, 0.999))\n"
   ]
  },
  {
   "cell_type": "code",
   "execution_count": 16,
   "id": "26acbc37",
   "metadata": {
    "execution": {
     "iopub.execute_input": "2022-03-16T13:24:16.718395Z",
     "iopub.status.busy": "2022-03-16T13:24:16.718005Z",
     "iopub.status.idle": "2022-03-16T13:24:53.883045Z",
     "shell.execute_reply": "2022-03-16T13:24:53.883363Z"
    },
    "id": "26acbc37",
    "papermill": {
     "duration": 37.192858,
     "end_time": "2022-03-16T13:24:53.883489",
     "exception": false,
     "start_time": "2022-03-16T13:24:16.690631",
     "status": "completed"
    },
    "tags": []
   },
   "outputs": [
    {
     "data": {
      "image/png": "[encoded data removed]",
      "text/plain": [
       "<Figure size 432x288 with 1 Axes>"
      ]
     },
     "metadata": {
      "needs_background": "light"
     },
     "output_type": "display_data"
    },
    {
     "data": {
      "image/png": "[encoded data removed]",
      "text/plain": [
       "<Figure size 432x288 with 1 Axes>"
      ]
     },
     "metadata": {
      "needs_background": "light"
     },
     "output_type": "display_data"
    }
   ],
   "source": [
    "ABC_train_test2.training_GAN_skip_connection(disc3,gen3,disc_opt,gen_opt,train_data,batch_size,n_epochs,criterion,prior_model,variance,bias,device)"
   ]
  },
  {
   "cell_type": "code",
   "execution_count": 17,
   "id": "c5e0717b",
   "metadata": {
    "execution": {
     "iopub.execute_input": "2022-03-16T13:24:53.917924Z",
     "iopub.status.busy": "2022-03-16T13:24:53.917457Z",
     "iopub.status.idle": "2022-03-16T13:24:54.242058Z",
     "shell.execute_reply": "2022-03-16T13:24:54.242318Z"
    },
    "id": "c5e0717b",
    "papermill": {
     "duration": 0.344132,
     "end_time": "2022-03-16T13:24:54.243244",
     "exception": false,
     "start_time": "2022-03-16T13:24:53.899112",
     "status": "completed"
    },
    "tags": []
   },
   "outputs": [
    {
     "data": {
      "application/scrapbook.scrap.json+json": {
       "data": 0.0038444328608077285,
       "encoder": "json",
       "name": "ABC-GAN Model 3 MSE",
       "version": 1
      }
     },
     "metadata": {
      "scrapbook": {
       "data": true,
       "display": false,
       "name": "ABC-GAN Model 3 MSE"
      }
     },
     "output_type": "display_data"
    },
    {
     "data": {
      "application/scrapbook.scrap.json+json": {
       "data": 0.044300084594637155,
       "encoder": "json",
       "name": "ABC-GAN Model 3 MAE",
       "version": 1
      }
     },
     "metadata": {
      "scrapbook": {
       "data": true,
       "display": false,
       "name": "ABC-GAN Model 3 MAE"
      }
     },
     "output_type": "display_data"
    },
    {
     "data": {
      "application/scrapbook.scrap.json+json": {
       "data": 0.8860016918927431,
       "encoder": "json",
       "name": "ABC-GAN Model 3 Manhattan Distance",
       "version": 1
      }
     },
     "metadata": {
      "scrapbook": {
       "data": true,
       "display": false,
       "name": "ABC-GAN Model 3 Manhattan Distance"
      }
     },
     "output_type": "display_data"
    },
    {
     "data": {
      "application/scrapbook.scrap.json+json": {
       "data": 0.2755162678512122,
       "encoder": "json",
       "name": "ABC-GAN Model 3 Euclidean distance",
       "version": 1
      }
     },
     "metadata": {
      "scrapbook": {
       "data": true,
       "display": false,
       "name": "ABC-GAN Model 3 Euclidean distance"
      }
     },
     "output_type": "display_data"
    },
    {
     "data": {
      "application/scrapbook.scrap.json+json": {
       "data": [
        [
         0.0030834266790467552,
         0.0037215741769174777,
         0.0035058519144507113,
         0.0036174107051922836,
         0.005897934140132658,
         0.004610829840379529,
         0.004868731195288092,
         0.002809729587137255,
         0.001981991700763,
         0.003172706256955726,
         0.002994895556454083,
         0.003378462287380357,
         0.002959660637755415,
         0.003512953151318235,
         0.003770835567004263,
         0.0028413601613089617,
         0.003758196707371744,
         0.005001845938193553,
         0.0030571313089937215,
         0.004338009298093884,
         0.004166039746553066,
         0.003667518134638695,
         0.0048945760584696825,
         0.0033604917528218398,
         0.0034006943303768883,
         0.0040495423989280995,
         0.0045795269481672144,
         0.004143929043138719,
         0.0031583649499933976,
         0.0033802211283494366,
         0.005549578672073832,
         0.003560146088874119,
         0.0045588961908065275,
         0.0037037359189926954,
         0.007412484737670591,
         0.003310231471286251,
         0.003858885768378764,
         0.0031116796564420375,
         0.00350979335369517,
         0.003613579147249349,
         0.0035315383054233124,
         0.0034545829468705575,
         0.004754763085112826,
         0.003822100148452659,
         0.0056530499564551836,
         0.003114491583866455,
         0.0029024711280152327,
         0.006107912052455181,
         0.0027063019171372467,
         0.0030395209027799046,
         0.0040220635438627025,
         0.002921767175032433,
         0.003888430029920789,
         0.003478259651371765,
         0.00378406925242081,
         0.0036116005178022962,
         0.004421531102263998,
         0.0032688220665345936,
         0.0034938219595619076,
         0.0030581757634893154,
         0.00342178383240217,
         0.003581382642031919,
         0.002986733783194975,
         0.003954184847341771,
         0.002966728534346377,
         0.004096938284386689,
         0.00391598228653707,
         0.004337898560395262,
         0.003247045661591155,
         0.003234196277289028,
         0.003969254924434751,
         0.004310577283372236,
         0.0028918205617496614,
         0.005052587627350416,
         0.003062738460057249,
         0.004859950986366934,
         0.005088773054483986,
         0.006479334118788718,
         0.00360934883802331,
         0.0030573658791139048,
         0.003691443624591306,
         0.003924780223624594,
         0.003983795462187437,
         0.004426552520491756,
         0.002619176841361151,
         0.003559706673368382,
         0.0032199523202959407,
         0.004002715493737721,
         0.004012528414570607,
         0.006058920708201357,
         0.005462017438325709,
         0.0035854450208406856,
         0.005189188659559802,
         0.0035248198446593245,
         0.00340008061362094,
         0.00269782167701669,
         0.0029147155155585442,
         0.0036192643564331604,
         0.0035101198761723377,
         0.004006888957024593
        ],
        [
         0.038098226115107534,
         0.04599027596414089,
         0.04426117874681949,
         0.0463837455958128,
         0.05163356401026249,
         0.051018723472952845,
         0.04550231210887432,
         0.037755319476127626,
         0.034886710718274115,
         0.04001532718539238,
         0.038591007515788076,
         0.04277923330664635,
         0.03953537680208683,
         0.043112370744347574,
         0.04850590862333774,
         0.036940398439764974,
         0.044365201517939566,
         0.049367533251643184,
         0.03939768970012665,
         0.047552591934800145,
         0.049424122646451,
         0.04574822746217251,
         0.05052155442535877,
         0.0434586051851511,
         0.04202729426324368,
         0.04441421367228031,
         0.04634249918162823,
         0.047836650535464285,
         0.04045711904764175,
         0.043846341967582705,
         0.04949962757527828,
         0.042821135744452475,
         0.04894094839692116,
         0.042802877724170685,
         0.058315840736031535,
         0.04329761192202568,
         0.04485668651759624,
         0.04012651108205319,
         0.04003501124680042,
         0.04634062983095646,
         0.04534319527447224,
         0.041055609658360484,
         0.052600706741213796,
         0.0444938350468874,
         0.05213260762393475,
         0.040073948726058004,
         0.037910611182451245,
         0.04860923998057842,
         0.03503288961946964,
         0.038225621357560156,
         0.045604871958494185,
         0.038176422193646434,
         0.04347244612872601,
         0.04588368944823742,
         0.04787486903369427,
         0.043531283363699914,
         0.04696297645568848,
         0.04408264085650444,
         0.04329031072556973,
         0.038063747063279155,
         0.04590367078781128,
         0.04667263440787792,
         0.03731992207467556,
         0.04628904201090336,
         0.03778333850204944,
         0.047929706051945686,
         0.043379264697432515,
         0.04721782319247723,
         0.04268610291182995,
         0.04237314723432064,
         0.045348034054040906,
         0.0479652538895607,
         0.0368062648922205,
         0.05249918811023235,
         0.03781162388622761,
         0.05219374448060989,
         0.049586701393127444,
         0.05560985393822193,
         0.04267190806567669,
         0.03822262510657311,
         0.04557208865880966,
         0.04656609855592251,
         0.048034751787781715,
         0.046155194938182834,
         0.035024839267134664,
         0.042358186468482016,
         0.04180709980428219,
         0.044578108564019205,
         0.04257386289536953,
         0.055256837978959084,
         0.052231332287192345,
         0.04104533456265926,
         0.04811777994036674,
         0.04721829481422901,
         0.04208005629479885,
         0.036592331156134604,
         0.03714548982679844,
         0.046476845443248746,
         0.040623709186911584,
         0.04505264051258564
        ],
        [
         0.7619645223021507,
         0.9198055192828178,
         0.8852235749363899,
         0.927674911916256,
         1.0326712802052498,
         1.0203744694590569,
         0.9100462421774864,
         0.7551063895225525,
         0.6977342143654823,
         0.8003065437078476,
         0.7718201503157616,
         0.8555846661329269,
         0.7907075360417366,
         0.8622474148869514,
         0.9701181724667549,
         0.7388079687952995,
         0.8873040303587914,
         0.9873506650328636,
         0.787953794002533,
         0.951051838696003,
         0.9884824529290199,
         0.9149645492434502,
         1.0104310885071754,
         0.869172103703022,
         0.8405458852648735,
         0.8882842734456062,
         0.9268499836325645,
         0.9567330107092857,
         0.8091423809528351,
         0.876926839351654,
         0.9899925515055656,
         0.8564227148890495,
         0.9788189679384232,
         0.8560575544834137,
         1.1663168147206306,
         0.8659522384405136,
         0.8971337303519249,
         0.8025302216410637,
         0.8007002249360085,
         0.9268125966191292,
         0.9068639054894447,
         0.8211121931672096,
         1.052014134824276,
         0.889876700937748,
         1.042652152478695,
         0.8014789745211601,
         0.758212223649025,
         0.9721847996115685,
         0.7006577923893929,
         0.7645124271512032,
         0.9120974391698837,
         0.7635284438729286,
         0.8694489225745201,
         0.9176737889647484,
         0.9574973806738853,
         0.8706256672739983,
         0.9392595291137695,
         0.8816528171300888,
         0.8658062145113945,
         0.761274941265583,
         0.9180734157562256,
         0.9334526881575584,
         0.7463984414935112,
         0.9257808402180672,
         0.7556667700409889,
         0.9585941210389137,
         0.8675852939486504,
         0.9443564638495445,
         0.853722058236599,
         0.8474629446864128,
         0.9069606810808182,
         0.959305077791214,
         0.7361252978444099,
         1.049983762204647,
         0.7562324777245522,
         1.0438748896121979,
         0.9917340278625488,
         1.1121970787644386,
         0.8534381613135338,
         0.7644525021314621,
         0.9114417731761932,
         0.9313219711184502,
         0.9606950357556343,
         0.9231038987636566,
         0.7004967853426933,
         0.8471637293696404,
         0.8361419960856438,
         0.8915621712803841,
         0.8514772579073906,
         1.1051367595791817,
         1.044626645743847,
         0.8209066912531853,
         0.9623555988073349,
         0.9443658962845802,
         0.841601125895977,
         0.7318466231226921,
         0.7429097965359688,
         0.929536908864975,
         0.8124741837382317,
         0.9010528102517128
        ],
        [
         0.24833149937318685,
         0.2728213399614289,
         0.26479622030726613,
         0.2689762333438508,
         0.34345113597519683,
         0.3036718571214504,
         0.31204907291283823,
         0.2370539848699977,
         0.19909754899360263,
         0.25190102250509927,
         0.24474049752560703,
         0.2599408504787332,
         0.24329655310979706,
         0.2650642620693418,
         0.27462103222456447,
         0.23838457002536728,
         0.27416041681365105,
         0.3162861343212362,
         0.24727035038571532,
         0.2945508206776509,
         0.2886534166280755,
         0.27083272086801824,
         0.3128762074197935,
         0.25924859701922554,
         0.26079472120335906,
         0.28458891049821666,
         0.3026392885323125,
         0.28788640270560606,
         0.2513310545871082,
         0.2600085047974176,
         0.33315397857668855,
         0.26683875613838853,
         0.30195682442384136,
         0.27216671063863396,
         0.3850320697726513,
         0.2573026028351152,
         0.27780877482105437,
         0.24946661726339409,
         0.2649450265128663,
         0.2688337459192707,
         0.2657644936940716,
         0.26285292263433396,
         0.3083751963149055,
         0.2764814694858467,
         0.33624544477078594,
         0.24957930939348538,
         0.24093447773264964,
         0.34951143192906237,
         0.23265003404844997,
         0.2465571293951933,
         0.2836217038191084,
         0.2417340346344483,
         0.27887022178500126,
         0.26375214317126466,
         0.2751024991678851,
         0.2687601353550149,
         0.29737286702939114,
         0.2556881720586462,
         0.26434151999116245,
         0.24731258615320473,
         0.26160213425743184,
         0.2676334299758503,
         0.24440678317898526,
         0.2812182372230425,
         0.2435868852933744,
         0.28624948155015717,
         0.27985647344798265,
         0.29454706110892576,
         0.25483507064731714,
         0.2543303472764911,
         0.28175361308898067,
         0.2936180268093986,
         0.24049201906714748,
         0.3178863830789364,
         0.24749700846908226,
         0.3117675732454206,
         0.3190226654795545,
         0.35998150282448454,
         0.26867634201854507,
         0.2472798365865646,
         0.27171468950321054,
         0.2801706702574198,
         0.2822692141267778,
         0.29754167844158425,
         0.22887450016815553,
         0.26682228817579623,
         0.2537696719584884,
         0.28293870338777344,
         0.2832853125232795,
         0.3481069004832095,
         0.33051527765976896,
         0.2677851758720294,
         0.3221548900625226,
         0.2655115758176778,
         0.2607711875810263,
         0.23228524176179124,
         0.2414421469237939,
         0.2690451395745019,
         0.26495735038576823,
         0.28308616910843926
        ]
       ],
       "encoder": "json",
       "name": "ABC_GAN_3 Metrics",
       "version": 1
      }
     },
     "metadata": {
      "scrapbook": {
       "data": true,
       "display": false,
       "name": "ABC_GAN_3 Metrics"
      }
     },
     "output_type": "display_data"
    },
    {
     "name": "stdout",
     "output_type": "stream",
     "text": [
      "MSE\n",
      "0.0038444328608077285\n"
     ]
    }
   ],
   "source": [
    "ABC_GAN3_metrics=ABC_train_test2.test_generator(gen3,test_data,prior_model,variance,bias,\"3\",device)\n",
    "sb.glue(\"ABC_GAN_3 Metrics\",ABC_GAN3_metrics)\n",
    "\n",
    "print(\"MSE\")\n",
    "print(mean(ABC_GAN3_metrics[0]))"
   ]
  },
  {
   "cell_type": "code",
   "execution_count": 18,
   "id": "c8e46b48",
   "metadata": {
    "execution": {
     "iopub.execute_input": "2022-03-16T13:24:54.281638Z",
     "iopub.status.busy": "2022-03-16T13:24:54.281268Z",
     "iopub.status.idle": "2022-03-16T13:24:54.585907Z",
     "shell.execute_reply": "2022-03-16T13:24:54.586227Z"
    },
    "id": "c8e46b48",
    "papermill": {
     "duration": 0.325001,
     "end_time": "2022-03-16T13:24:54.586352",
     "exception": false,
     "start_time": "2022-03-16T13:24:54.261351",
     "status": "completed"
    },
    "tags": []
   },
   "outputs": [
    {
     "data": {
      "image/png": "[encoded data removed]",
      "text/plain": [
       "<Figure size 432x288 with 1 Axes>"
      ]
     },
     "metadata": {
      "needs_background": "light"
     },
     "output_type": "display_data"
    },
    {
     "data": {
      "image/png": "[encoded data removed]",
      "text/plain": [
       "<Figure size 432x288 with 1 Axes>"
      ]
     },
     "metadata": {
      "needs_background": "light"
     },
     "output_type": "display_data"
    },
    {
     "data": {
      "image/png": "[encoded data removed]",
      "text/plain": [
       "<Figure size 432x288 with 1 Axes>"
      ]
     },
     "metadata": {
      "needs_background": "light"
     },
     "output_type": "display_data"
    },
    {
     "data": {
      "image/png": "[encoded data removed]",
      "text/plain": [
       "<Figure size 432x288 with 1 Axes>"
      ]
     },
     "metadata": {
      "needs_background": "light"
     },
     "output_type": "display_data"
    }
   ],
   "source": [
    "sanityChecks.discProbVsError(train_data,disc3,device)\n",
    "sanityChecks.discProbVsError(test_data,disc3,device)"
   ]
  },
  {
   "cell_type": "markdown",
   "id": "a5bd74c3",
   "metadata": {
    "id": "a5bd74c3",
    "papermill": {
     "duration": 0.020027,
     "end_time": "2022-03-16T13:24:54.626743",
     "exception": false,
     "start_time": "2022-03-16T13:24:54.606716",
     "status": "completed"
    },
    "tags": []
   },
   "source": [
    "## Skip Connection Model Analysis - ABC-GAN "
   ]
  },
  {
   "cell_type": "markdown",
   "id": "5744a8bf",
   "metadata": {
    "id": "5744a8bf",
    "papermill": {
     "duration": 0.02215,
     "end_time": "2022-03-16T13:24:54.668921",
     "exception": false,
     "start_time": "2022-03-16T13:24:54.646771",
     "status": "completed"
    },
    "tags": []
   },
   "source": [
    "### Weight Analysis \n",
    "\n",
    "Study the weights of the skip connection layer\n",
    "\n",
    "Equation of the skip connection is \n",
    "\n",
    "$output = y_{gan} * w + y_{abc} * (1-w)$"
   ]
  },
  {
   "cell_type": "code",
   "execution_count": 19,
   "id": "52c31dea",
   "metadata": {
    "execution": {
     "iopub.execute_input": "2022-03-16T13:24:54.716939Z",
     "iopub.status.busy": "2022-03-16T13:24:54.716538Z",
     "iopub.status.idle": "2022-03-16T13:24:54.720134Z",
     "shell.execute_reply": "2022-03-16T13:24:54.720449Z"
    },
    "id": "52c31dea",
    "papermill": {
     "duration": 0.028989,
     "end_time": "2022-03-16T13:24:54.720571",
     "exception": false,
     "start_time": "2022-03-16T13:24:54.691582",
     "status": "completed"
    },
    "tags": []
   },
   "outputs": [
    {
     "name": "stdout",
     "output_type": "stream",
     "text": [
      "Weight of the node at skip connection\n",
      "Parameter containing:\n",
      "tensor([[0.0357]], requires_grad=True)\n"
     ]
    },
    {
     "data": {
      "application/scrapbook.scrap.json+json": {
       "data": 0.03569992631673813,
       "encoder": "json",
       "name": "Skip Connection Weight",
       "version": 1
      }
     },
     "metadata": {
      "scrapbook": {
       "data": true,
       "display": false,
       "name": "Skip Connection Weight"
      }
     },
     "output_type": "display_data"
    }
   ],
   "source": [
    "print(\"Weight of the node at skip connection\")\n",
    "for name,param in gen3.named_parameters():\n",
    "    if(name == \"skipNode.weight\"):\n",
    "        print(param)\n",
    "        sb.glue(\"Skip Connection Weight\",param.item())"
   ]
  }
 ],
 "metadata": {
  "colab": {
   "collapsed_sections": [],
   "name": "ABC_GAN_Model-Catboost_Pre-gen.ipynb",
   "provenance": []
  },
  "interpreter": {
   "hash": "31f2aee4e71d21fbe5cf8b01ff0e069b9275f58929596ceb00d14d90e3e16cd6"
  },
  "kernelspec": {
   "display_name": "Python 3 (ipykernel)",
   "language": "python",
   "name": "python3"
  },
  "language_info": {
   "codemirror_mode": {
    "name": "ipython",
    "version": 3
   },
   "file_extension": ".py",
   "mimetype": "text/x-python",
   "name": "python",
   "nbconvert_exporter": "python",
   "pygments_lexer": "ipython3",
   "version": "3.8.11"
  },
  "papermill": {
   "default_parameters": {},
   "duration": 58.506666,
   "end_time": "2022-03-16T13:24:55.050642",
   "environment_variables": {},
   "exception": null,
   "input_path": "ABC_GAN-Catboost.ipynb",
   "output_path": "./ABC_GAN_Catboost/ABC-GAN_output_5_7.ipynb",
   "parameters": {
    "bias": 0.01,
    "variance": 0.1
   },
   "start_time": "2022-03-16T13:23:56.543976",
   "version": "2.3.3"
  }
 },
 "nbformat": 4,
 "nbformat_minor": 5
}