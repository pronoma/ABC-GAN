{
 "cells": [
  {
   "cell_type": "markdown",
   "id": "622780e6",
   "metadata": {
    "id": "622780e6",
    "papermill": {
     "duration": 0.046281,
     "end_time": "2022-03-16T13:33:54.675105",
     "exception": false,
     "start_time": "2022-03-16T13:33:54.628824",
     "status": "completed"
    },
    "tags": []
   },
   "source": [
    "## Import Libraries "
   ]
  },
  {
   "cell_type": "code",
   "execution_count": 1,
   "id": "a62397e3",
   "metadata": {
    "execution": {
     "iopub.execute_input": "2022-03-16T13:33:54.717006Z",
     "iopub.status.busy": "2022-03-16T13:33:54.716439Z",
     "iopub.status.idle": "2022-03-16T13:33:54.718953Z",
     "shell.execute_reply": "2022-03-16T13:33:54.719361Z"
    },
    "id": "a62397e3",
    "papermill": {
     "duration": 0.024566,
     "end_time": "2022-03-16T13:33:54.719587",
     "exception": false,
     "start_time": "2022-03-16T13:33:54.695021",
     "status": "completed"
    },
    "tags": []
   },
   "outputs": [],
   "source": [
    "import warnings\n",
    "import sys\n",
    "sys.path.insert(0, '../../src')\n",
    "warnings.filterwarnings('ignore')"
   ]
  },
  {
   "cell_type": "code",
   "execution_count": 2,
   "id": "d6a4e155",
   "metadata": {
    "execution": {
     "iopub.execute_input": "2022-03-16T13:33:54.741146Z",
     "iopub.status.busy": "2022-03-16T13:33:54.740746Z",
     "iopub.status.idle": "2022-03-16T13:33:56.632457Z",
     "shell.execute_reply": "2022-03-16T13:33:56.632758Z"
    },
    "id": "d6a4e155",
    "papermill": {
     "duration": 1.903278,
     "end_time": "2022-03-16T13:33:56.632898",
     "exception": false,
     "start_time": "2022-03-16T13:33:54.729620",
     "status": "completed"
    },
    "tags": []
   },
   "outputs": [],
   "source": [
    "import ABC_train_test2\n",
    "import friedman2Dataset\n",
    "import network\n",
    "import dataset\n",
    "import sanityChecks\n",
    "import torch \n",
    "import scrapbook as sb\n",
    "from statistics import mean \n",
    "import catboost as ctb \n",
    "from sklearn.model_selection import train_test_split\n",
    "from sklearn.metrics import mean_squared_error,mean_absolute_error\n",
    "import numpy as np"
   ]
  },
  {
   "cell_type": "markdown",
   "id": "2fa5b0f7",
   "metadata": {
    "id": "2fa5b0f7",
    "papermill": {
     "duration": 0.007731,
     "end_time": "2022-03-16T13:33:56.648731",
     "exception": false,
     "start_time": "2022-03-16T13:33:56.641000",
     "status": "completed"
    },
    "tags": []
   },
   "source": [
    "## Parameters "
   ]
  },
  {
   "cell_type": "code",
   "execution_count": 3,
   "id": "783186fb",
   "metadata": {
    "execution": {
     "iopub.execute_input": "2022-03-16T13:33:56.666404Z",
     "iopub.status.busy": "2022-03-16T13:33:56.666000Z",
     "iopub.status.idle": "2022-03-16T13:33:56.667371Z",
     "shell.execute_reply": "2022-03-16T13:33:56.667646Z"
    },
    "id": "783186fb",
    "papermill": {
     "duration": 0.011358,
     "end_time": "2022-03-16T13:33:56.667767",
     "exception": false,
     "start_time": "2022-03-16T13:33:56.656409",
     "status": "completed"
    },
    "tags": [
     "parameters"
    ]
   },
   "outputs": [],
   "source": [
    "variance = 1\n",
    "bias = 1 "
   ]
  },
  {
   "cell_type": "code",
   "execution_count": 4,
   "id": "08708a3b",
   "metadata": {
    "execution": {
     "iopub.execute_input": "2022-03-16T13:33:56.685958Z",
     "iopub.status.busy": "2022-03-16T13:33:56.685453Z",
     "iopub.status.idle": "2022-03-16T13:33:56.686745Z",
     "shell.execute_reply": "2022-03-16T13:33:56.687024Z"
    },
    "papermill": {
     "duration": 0.011569,
     "end_time": "2022-03-16T13:33:56.687142",
     "exception": false,
     "start_time": "2022-03-16T13:33:56.675573",
     "status": "completed"
    },
    "tags": [
     "injected-parameters"
    ]
   },
   "outputs": [],
   "source": [
    "# Parameters\n",
    "variance = 0.01\n",
    "bias = 0.01\n"
   ]
  },
  {
   "cell_type": "markdown",
   "id": "391cdbfd",
   "metadata": {
    "id": "391cdbfd",
    "papermill": {
     "duration": 0.008214,
     "end_time": "2022-03-16T13:33:56.703783",
     "exception": false,
     "start_time": "2022-03-16T13:33:56.695569",
     "status": "completed"
    },
    "tags": []
   },
   "source": [
    "## Dataset \n"
   ]
  },
  {
   "cell_type": "code",
   "execution_count": 5,
   "id": "5b51f161",
   "metadata": {
    "execution": {
     "iopub.execute_input": "2022-03-16T13:33:56.722512Z",
     "iopub.status.busy": "2022-03-16T13:33:56.722102Z",
     "iopub.status.idle": "2022-03-16T13:33:56.723442Z",
     "shell.execute_reply": "2022-03-16T13:33:56.723781Z"
    },
    "id": "5b51f161",
    "papermill": {
     "duration": 0.011782,
     "end_time": "2022-03-16T13:33:56.723898",
     "exception": false,
     "start_time": "2022-03-16T13:33:56.712116",
     "status": "completed"
    },
    "tags": []
   },
   "outputs": [],
   "source": [
    "#Parameters \n",
    "n_features = 4\n",
    "n_samples= 100\n",
    "n_target = 1 "
   ]
  },
  {
   "cell_type": "code",
   "execution_count": 6,
   "id": "5d6eced4",
   "metadata": {
    "execution": {
     "iopub.execute_input": "2022-03-16T13:33:56.743113Z",
     "iopub.status.busy": "2022-03-16T13:33:56.742427Z",
     "iopub.status.idle": "2022-03-16T13:33:56.749073Z",
     "shell.execute_reply": "2022-03-16T13:33:56.749361Z"
    },
    "id": "5d6eced4",
    "papermill": {
     "duration": 0.017282,
     "end_time": "2022-03-16T13:33:56.749503",
     "exception": false,
     "start_time": "2022-03-16T13:33:56.732221",
     "status": "completed"
    },
    "tags": []
   },
   "outputs": [
    {
     "name": "stdout",
     "output_type": "stream",
     "text": [
      "          X1           X2        X3        X4            Y\n",
      "0  54.958708   919.843168  0.768070  5.730435   708.647681\n",
      "1  71.197820   540.400671  0.383755  3.718067   219.195714\n",
      "2  48.225984  1345.009401  0.907499  7.022168  1221.556435\n",
      "3   1.151731   417.609145  0.651750  6.126353   272.299348\n",
      "4  72.564846   758.411155  0.800351  8.771818   610.981855\n"
     ]
    }
   ],
   "source": [
    "X,Y = friedman2Dataset.friedman2_data(n_samples)"
   ]
  },
  {
   "cell_type": "code",
   "execution_count": 7,
   "id": "fe007438",
   "metadata": {
    "execution": {
     "iopub.execute_input": "2022-03-16T13:33:56.770371Z",
     "iopub.status.busy": "2022-03-16T13:33:56.769969Z",
     "iopub.status.idle": "2022-03-16T13:33:56.771414Z",
     "shell.execute_reply": "2022-03-16T13:33:56.771719Z"
    },
    "id": "fe007438",
    "papermill": {
     "duration": 0.013355,
     "end_time": "2022-03-16T13:33:56.771849",
     "exception": false,
     "start_time": "2022-03-16T13:33:56.758494",
     "status": "completed"
    },
    "tags": []
   },
   "outputs": [],
   "source": [
    "#Train test split for dataset \n",
    "X_train,X_test,Y_train,Y_test = train_test_split(X,Y,test_size = 0.2)\n",
    "train_data = dataset.CustomDataset(X_train,Y_train)\n",
    "test_data = dataset.CustomDataset(X_test,Y_test)\n"
   ]
  },
  {
   "cell_type": "markdown",
   "id": "a9a1af34",
   "metadata": {
    "id": "a9a1af34",
    "papermill": {
     "duration": 0.008629,
     "end_time": "2022-03-16T13:33:56.789217",
     "exception": false,
     "start_time": "2022-03-16T13:33:56.780588",
     "status": "completed"
    },
    "tags": []
   },
   "source": [
    "## Training Parameters "
   ]
  },
  {
   "cell_type": "code",
   "execution_count": 8,
   "id": "952b7fc8",
   "metadata": {
    "execution": {
     "iopub.execute_input": "2022-03-16T13:33:56.809011Z",
     "iopub.status.busy": "2022-03-16T13:33:56.808578Z",
     "iopub.status.idle": "2022-03-16T13:33:56.809946Z",
     "shell.execute_reply": "2022-03-16T13:33:56.810236Z"
    },
    "id": "952b7fc8",
    "papermill": {
     "duration": 0.012577,
     "end_time": "2022-03-16T13:33:56.810353",
     "exception": false,
     "start_time": "2022-03-16T13:33:56.797776",
     "status": "completed"
    },
    "tags": []
   },
   "outputs": [],
   "source": [
    "batch_size = 32\n",
    "n_epochs = 1000\n",
    "#Select the device \n",
    "device = torch.device('cuda' if torch.cuda.is_available() else 'cpu')"
   ]
  },
  {
   "cell_type": "markdown",
   "id": "a95e1600",
   "metadata": {
    "id": "a95e1600",
    "papermill": {
     "duration": 0.008583,
     "end_time": "2022-03-16T13:33:56.827630",
     "exception": false,
     "start_time": "2022-03-16T13:33:56.819047",
     "status": "completed"
    },
    "tags": []
   },
   "source": [
    "# ABC Pre-generator Model \n",
    "\n",
    "1. The catboost model is used as a pre-generator model for the ABC-GAN. \n",
    "2. The model is first trained on the entire dataset \n",
    "3. It generats X,Y pairs and we add some Gaussian noise with mean 0 and variance 1 to it which is then feed as input to the generator.\n"
   ]
  },
  {
   "cell_type": "code",
   "execution_count": 9,
   "id": "ff8ce7bd",
   "metadata": {
    "execution": {
     "iopub.execute_input": "2022-03-16T13:33:56.848869Z",
     "iopub.status.busy": "2022-03-16T13:33:56.848458Z",
     "iopub.status.idle": "2022-03-16T13:33:57.478980Z",
     "shell.execute_reply": "2022-03-16T13:33:57.479358Z"
    },
    "id": "ff8ce7bd",
    "papermill": {
     "duration": 0.643268,
     "end_time": "2022-03-16T13:33:57.479520",
     "exception": false,
     "start_time": "2022-03-16T13:33:56.836252",
     "status": "completed"
    },
    "tags": []
   },
   "outputs": [
    {
     "name": "stdout",
     "output_type": "stream",
     "text": [
      "Learning rate set to 0.024897\n",
      "0:\tlearn: 0.9766707\ttotal: 57.9ms\tremaining: 57.8s\n",
      "1:\tlearn: 0.9666540\ttotal: 58.3ms\tremaining: 29.1s\n",
      "2:\tlearn: 0.9563886\ttotal: 58.8ms\tremaining: 19.6s\n",
      "3:\tlearn: 0.9454060\ttotal: 59.3ms\tremaining: 14.8s\n",
      "4:\tlearn: 0.9338294\ttotal: 59.7ms\tremaining: 11.9s\n",
      "5:\tlearn: 0.9230262\ttotal: 60.1ms\tremaining: 9.96s\n",
      "6:\tlearn: 0.9113141\ttotal: 60.7ms\tremaining: 8.62s\n",
      "7:\tlearn: 0.8997600\ttotal: 61.2ms\tremaining: 7.58s\n",
      "8:\tlearn: 0.8889604\ttotal: 61.6ms\tremaining: 6.78s\n",
      "9:\tlearn: 0.8769453\ttotal: 62.2ms\tremaining: 6.16s\n",
      "10:\tlearn: 0.8679617\ttotal: 62.8ms\tremaining: 5.64s\n",
      "11:\tlearn: 0.8547462\ttotal: 63.3ms\tremaining: 5.21s\n",
      "12:\tlearn: 0.8443247\ttotal: 63.8ms\tremaining: 4.84s\n",
      "13:\tlearn: 0.8324071\ttotal: 64.2ms\tremaining: 4.52s\n",
      "14:\tlearn: 0.8231648\ttotal: 64.6ms\tremaining: 4.24s\n",
      "15:\tlearn: 0.8142382\ttotal: 65ms\tremaining: 4s\n",
      "16:\tlearn: 0.8037732\ttotal: 65.4ms\tremaining: 3.78s\n",
      "17:\tlearn: 0.7938010\ttotal: 65.8ms\tremaining: 3.59s\n",
      "18:\tlearn: 0.7861533\ttotal: 66.1ms\tremaining: 3.41s\n",
      "19:\tlearn: 0.7749154\ttotal: 66.5ms\tremaining: 3.26s\n",
      "20:\tlearn: 0.7646183\ttotal: 66.9ms\tremaining: 3.12s\n",
      "21:\tlearn: 0.7566358\ttotal: 67.4ms\tremaining: 3s\n",
      "22:\tlearn: 0.7482617\ttotal: 68ms\tremaining: 2.89s\n",
      "23:\tlearn: 0.7399286\ttotal: 68.3ms\tremaining: 2.78s\n",
      "24:\tlearn: 0.7304608\ttotal: 68.8ms\tremaining: 2.68s\n",
      "25:\tlearn: 0.7216260\ttotal: 69.3ms\tremaining: 2.59s\n",
      "26:\tlearn: 0.7143264\ttotal: 69.6ms\tremaining: 2.51s\n",
      "27:\tlearn: 0.7075134\ttotal: 70ms\tremaining: 2.43s\n",
      "28:\tlearn: 0.6990001\ttotal: 70.4ms\tremaining: 2.36s\n",
      "29:\tlearn: 0.6902172\ttotal: 70.7ms\tremaining: 2.29s\n",
      "30:\tlearn: 0.6836849\ttotal: 71.1ms\tremaining: 2.22s\n",
      "31:\tlearn: 0.6758112\ttotal: 72.3ms\tremaining: 2.19s\n",
      "32:\tlearn: 0.6675776\ttotal: 72.7ms\tremaining: 2.13s\n",
      "33:\tlearn: 0.6605381\ttotal: 73ms\tremaining: 2.07s\n",
      "34:\tlearn: 0.6541710\ttotal: 73.5ms\tremaining: 2.03s\n",
      "35:\tlearn: 0.6453274\ttotal: 74ms\tremaining: 1.98s\n",
      "36:\tlearn: 0.6379207\ttotal: 74.4ms\tremaining: 1.94s\n",
      "37:\tlearn: 0.6311863\ttotal: 74.8ms\tremaining: 1.89s\n",
      "38:\tlearn: 0.6250063\ttotal: 75.2ms\tremaining: 1.85s\n",
      "39:\tlearn: 0.6183814\ttotal: 75.5ms\tremaining: 1.81s\n",
      "40:\tlearn: 0.6097935\ttotal: 76ms\tremaining: 1.78s\n",
      "41:\tlearn: 0.6019292\ttotal: 76.3ms\tremaining: 1.74s\n",
      "42:\tlearn: 0.5940742\ttotal: 76.7ms\tremaining: 1.71s\n",
      "43:\tlearn: 0.5882051\ttotal: 77.3ms\tremaining: 1.68s\n",
      "44:\tlearn: 0.5811575\ttotal: 77.8ms\tremaining: 1.65s\n",
      "45:\tlearn: 0.5751817\ttotal: 78.2ms\tremaining: 1.62s\n",
      "46:\tlearn: 0.5684634\ttotal: 78.7ms\tremaining: 1.6s\n",
      "47:\tlearn: 0.5604989\ttotal: 79.2ms\tremaining: 1.57s\n",
      "48:\tlearn: 0.5531047\ttotal: 79.7ms\tremaining: 1.54s\n",
      "49:\tlearn: 0.5468779\ttotal: 79.9ms\tremaining: 1.52s\n",
      "50:\tlearn: 0.5405964\ttotal: 80.4ms\tremaining: 1.5s\n",
      "51:\tlearn: 0.5361123\ttotal: 80.9ms\tremaining: 1.48s\n",
      "52:\tlearn: 0.5308725\ttotal: 81.3ms\tremaining: 1.45s\n",
      "53:\tlearn: 0.5256535\ttotal: 81.9ms\tremaining: 1.43s\n",
      "54:\tlearn: 0.5182996\ttotal: 82.4ms\tremaining: 1.42s\n",
      "55:\tlearn: 0.5121740\ttotal: 82.8ms\tremaining: 1.4s\n",
      "56:\tlearn: 0.5060638\ttotal: 83.2ms\tremaining: 1.38s\n",
      "57:\tlearn: 0.5008539\ttotal: 83.7ms\tremaining: 1.36s\n",
      "58:\tlearn: 0.4960001\ttotal: 84.1ms\tremaining: 1.34s\n",
      "59:\tlearn: 0.4891963\ttotal: 84.5ms\tremaining: 1.32s\n",
      "60:\tlearn: 0.4838267\ttotal: 85ms\tremaining: 1.31s\n",
      "61:\tlearn: 0.4767549\ttotal: 85.6ms\tremaining: 1.29s\n",
      "62:\tlearn: 0.4707866\ttotal: 86.1ms\tremaining: 1.28s\n",
      "63:\tlearn: 0.4661352\ttotal: 86.5ms\tremaining: 1.26s\n",
      "64:\tlearn: 0.4598847\ttotal: 86.9ms\tremaining: 1.25s\n",
      "65:\tlearn: 0.4552887\ttotal: 87.5ms\tremaining: 1.24s\n",
      "66:\tlearn: 0.4498033\ttotal: 87.8ms\tremaining: 1.22s\n",
      "67:\tlearn: 0.4446287\ttotal: 88.3ms\tremaining: 1.21s\n",
      "68:\tlearn: 0.4401101\ttotal: 88.8ms\tremaining: 1.2s\n",
      "69:\tlearn: 0.4339363\ttotal: 89.3ms\tremaining: 1.19s\n",
      "70:\tlearn: 0.4299394\ttotal: 89.8ms\tremaining: 1.17s\n",
      "71:\tlearn: 0.4249286\ttotal: 90.4ms\tremaining: 1.16s\n",
      "72:\tlearn: 0.4208737\ttotal: 91ms\tremaining: 1.16s\n",
      "73:\tlearn: 0.4168704\ttotal: 91.4ms\tremaining: 1.14s\n",
      "74:\tlearn: 0.4122174\ttotal: 91.9ms\tremaining: 1.13s\n"
     ]
    },
    {
     "name": "stdout",
     "output_type": "stream",
     "text": [
      "75:\tlearn: 0.4070437\ttotal: 92.5ms\tremaining: 1.12s\n",
      "76:\tlearn: 0.4024234\ttotal: 93ms\tremaining: 1.11s\n",
      "77:\tlearn: 0.3982896\ttotal: 93.5ms\tremaining: 1.1s\n",
      "78:\tlearn: 0.3932521\ttotal: 94ms\tremaining: 1.1s\n",
      "79:\tlearn: 0.3887206\ttotal: 94.4ms\tremaining: 1.09s\n",
      "80:\tlearn: 0.3840653\ttotal: 94.9ms\tremaining: 1.08s\n",
      "81:\tlearn: 0.3811704\ttotal: 95.5ms\tremaining: 1.07s\n",
      "82:\tlearn: 0.3769384\ttotal: 96ms\tremaining: 1.06s\n",
      "83:\tlearn: 0.3734885\ttotal: 96.6ms\tremaining: 1.05s\n",
      "84:\tlearn: 0.3696744\ttotal: 97.1ms\tremaining: 1.04s\n",
      "85:\tlearn: 0.3660071\ttotal: 97.6ms\tremaining: 1.04s\n",
      "86:\tlearn: 0.3622685\ttotal: 98.1ms\tremaining: 1.03s\n",
      "87:\tlearn: 0.3585246\ttotal: 98.6ms\tremaining: 1.02s\n",
      "88:\tlearn: 0.3550030\ttotal: 99.1ms\tremaining: 1.01s\n",
      "89:\tlearn: 0.3512425\ttotal: 99.6ms\tremaining: 1.01s\n",
      "90:\tlearn: 0.3481939\ttotal: 100ms\tremaining: 1s\n",
      "91:\tlearn: 0.3452447\ttotal: 101ms\tremaining: 994ms\n",
      "92:\tlearn: 0.3418591\ttotal: 101ms\tremaining: 987ms\n",
      "93:\tlearn: 0.3382717\ttotal: 102ms\tremaining: 981ms\n",
      "94:\tlearn: 0.3345978\ttotal: 102ms\tremaining: 973ms\n",
      "95:\tlearn: 0.3304648\ttotal: 102ms\tremaining: 965ms\n",
      "96:\tlearn: 0.3272671\ttotal: 103ms\tremaining: 958ms\n",
      "97:\tlearn: 0.3236597\ttotal: 103ms\tremaining: 951ms\n",
      "98:\tlearn: 0.3208769\ttotal: 104ms\tremaining: 943ms\n",
      "99:\tlearn: 0.3171538\ttotal: 104ms\tremaining: 936ms\n",
      "100:\tlearn: 0.3132743\ttotal: 104ms\tremaining: 928ms\n",
      "101:\tlearn: 0.3099483\ttotal: 105ms\tremaining: 921ms\n",
      "102:\tlearn: 0.3069322\ttotal: 105ms\tremaining: 914ms\n",
      "103:\tlearn: 0.3038272\ttotal: 105ms\tremaining: 908ms\n",
      "104:\tlearn: 0.3011052\ttotal: 106ms\tremaining: 901ms\n",
      "105:\tlearn: 0.2974844\ttotal: 106ms\tremaining: 894ms\n",
      "106:\tlearn: 0.2953047\ttotal: 106ms\tremaining: 887ms\n",
      "107:\tlearn: 0.2925859\ttotal: 107ms\tremaining: 882ms\n",
      "108:\tlearn: 0.2889348\ttotal: 107ms\tremaining: 875ms\n",
      "109:\tlearn: 0.2864006\ttotal: 107ms\tremaining: 870ms\n",
      "110:\tlearn: 0.2834535\ttotal: 108ms\tremaining: 863ms\n",
      "111:\tlearn: 0.2800356\ttotal: 109ms\tremaining: 860ms\n",
      "112:\tlearn: 0.2776132\ttotal: 109ms\tremaining: 855ms\n",
      "113:\tlearn: 0.2749733\ttotal: 109ms\tremaining: 850ms\n",
      "114:\tlearn: 0.2716546\ttotal: 110ms\tremaining: 845ms\n",
      "115:\tlearn: 0.2692200\ttotal: 110ms\tremaining: 839ms\n",
      "116:\tlearn: 0.2663688\ttotal: 110ms\tremaining: 834ms\n",
      "117:\tlearn: 0.2630361\ttotal: 111ms\tremaining: 829ms\n",
      "118:\tlearn: 0.2606026\ttotal: 111ms\tremaining: 823ms\n",
      "119:\tlearn: 0.2580274\ttotal: 112ms\tremaining: 818ms\n",
      "120:\tlearn: 0.2549027\ttotal: 112ms\tremaining: 814ms\n",
      "121:\tlearn: 0.2514960\ttotal: 112ms\tremaining: 809ms\n",
      "122:\tlearn: 0.2495663\ttotal: 113ms\tremaining: 804ms\n",
      "123:\tlearn: 0.2465796\ttotal: 113ms\tremaining: 800ms\n",
      "124:\tlearn: 0.2444717\ttotal: 114ms\tremaining: 795ms\n",
      "125:\tlearn: 0.2416803\ttotal: 114ms\tremaining: 791ms\n",
      "126:\tlearn: 0.2388881\ttotal: 114ms\tremaining: 787ms\n",
      "127:\tlearn: 0.2369730\ttotal: 115ms\tremaining: 782ms\n",
      "128:\tlearn: 0.2348897\ttotal: 115ms\tremaining: 778ms\n",
      "129:\tlearn: 0.2327654\ttotal: 116ms\tremaining: 773ms\n",
      "130:\tlearn: 0.2311428\ttotal: 116ms\tremaining: 769ms\n",
      "131:\tlearn: 0.2287584\ttotal: 116ms\tremaining: 764ms\n",
      "132:\tlearn: 0.2266608\ttotal: 117ms\tremaining: 760ms\n",
      "133:\tlearn: 0.2245128\ttotal: 117ms\tremaining: 755ms\n",
      "134:\tlearn: 0.2223780\ttotal: 117ms\tremaining: 751ms\n",
      "135:\tlearn: 0.2208950\ttotal: 118ms\tremaining: 747ms\n",
      "136:\tlearn: 0.2192138\ttotal: 118ms\tremaining: 743ms\n",
      "137:\tlearn: 0.2171470\ttotal: 118ms\tremaining: 739ms\n",
      "138:\tlearn: 0.2150921\ttotal: 119ms\tremaining: 735ms\n",
      "139:\tlearn: 0.2135241\ttotal: 119ms\tremaining: 732ms\n",
      "140:\tlearn: 0.2114020\ttotal: 120ms\tremaining: 728ms\n",
      "141:\tlearn: 0.2096150\ttotal: 120ms\tremaining: 725ms\n",
      "142:\tlearn: 0.2074859\ttotal: 120ms\tremaining: 721ms\n",
      "143:\tlearn: 0.2056197\ttotal: 121ms\tremaining: 717ms\n",
      "144:\tlearn: 0.2038512\ttotal: 121ms\tremaining: 714ms\n",
      "145:\tlearn: 0.2016828\ttotal: 121ms\tremaining: 710ms\n",
      "146:\tlearn: 0.1995909\ttotal: 122ms\tremaining: 707ms\n",
      "147:\tlearn: 0.1978649\ttotal: 122ms\tremaining: 703ms\n",
      "148:\tlearn: 0.1955012\ttotal: 123ms\tremaining: 700ms\n",
      "149:\tlearn: 0.1938877\ttotal: 123ms\tremaining: 697ms\n",
      "150:\tlearn: 0.1920907\ttotal: 124ms\tremaining: 695ms\n",
      "151:\tlearn: 0.1902916\ttotal: 124ms\tremaining: 691ms\n",
      "152:\tlearn: 0.1886840\ttotal: 125ms\tremaining: 690ms\n",
      "153:\tlearn: 0.1870630\ttotal: 125ms\tremaining: 686ms\n",
      "154:\tlearn: 0.1853205\ttotal: 125ms\tremaining: 683ms\n",
      "155:\tlearn: 0.1835527\ttotal: 126ms\tremaining: 680ms\n",
      "156:\tlearn: 0.1822170\ttotal: 126ms\tremaining: 677ms\n",
      "157:\tlearn: 0.1810366\ttotal: 127ms\tremaining: 674ms\n",
      "158:\tlearn: 0.1791408\ttotal: 127ms\tremaining: 672ms\n",
      "159:\tlearn: 0.1779251\ttotal: 128ms\tremaining: 670ms\n",
      "160:\tlearn: 0.1759887\ttotal: 128ms\tremaining: 667ms\n",
      "161:\tlearn: 0.1744286\ttotal: 129ms\tremaining: 665ms\n",
      "162:\tlearn: 0.1730104\ttotal: 129ms\tremaining: 663ms\n",
      "163:\tlearn: 0.1714250\ttotal: 130ms\tremaining: 660ms\n",
      "164:\tlearn: 0.1699567\ttotal: 130ms\tremaining: 657ms\n",
      "165:\tlearn: 0.1683325\ttotal: 130ms\tremaining: 655ms\n",
      "166:\tlearn: 0.1666204\ttotal: 131ms\tremaining: 652ms\n",
      "167:\tlearn: 0.1653153\ttotal: 131ms\tremaining: 650ms\n",
      "168:\tlearn: 0.1640074\ttotal: 132ms\tremaining: 647ms\n",
      "169:\tlearn: 0.1623392\ttotal: 132ms\tremaining: 645ms\n",
      "170:\tlearn: 0.1607020\ttotal: 132ms\tremaining: 642ms\n",
      "171:\tlearn: 0.1594078\ttotal: 133ms\tremaining: 639ms\n",
      "172:\tlearn: 0.1579644\ttotal: 133ms\tremaining: 637ms\n",
      "173:\tlearn: 0.1568805\ttotal: 134ms\tremaining: 634ms\n",
      "174:\tlearn: 0.1551291\ttotal: 134ms\tremaining: 631ms\n",
      "175:\tlearn: 0.1543817\ttotal: 134ms\tremaining: 628ms\n",
      "176:\tlearn: 0.1531436\ttotal: 135ms\tremaining: 626ms\n",
      "177:\tlearn: 0.1519845\ttotal: 135ms\tremaining: 624ms\n",
      "178:\tlearn: 0.1507020\ttotal: 135ms\tremaining: 621ms\n",
      "179:\tlearn: 0.1492996\ttotal: 136ms\tremaining: 618ms\n",
      "180:\tlearn: 0.1481198\ttotal: 136ms\tremaining: 616ms\n",
      "181:\tlearn: 0.1471537\ttotal: 136ms\tremaining: 613ms\n",
      "182:\tlearn: 0.1460678\ttotal: 137ms\tremaining: 611ms\n",
      "183:\tlearn: 0.1448560\ttotal: 137ms\tremaining: 608ms\n",
      "184:\tlearn: 0.1437125\ttotal: 138ms\tremaining: 606ms\n",
      "185:\tlearn: 0.1425675\ttotal: 138ms\tremaining: 604ms\n",
      "186:\tlearn: 0.1413931\ttotal: 138ms\tremaining: 602ms\n",
      "187:\tlearn: 0.1403881\ttotal: 139ms\tremaining: 600ms\n",
      "188:\tlearn: 0.1390875\ttotal: 139ms\tremaining: 598ms\n",
      "189:\tlearn: 0.1386716\ttotal: 140ms\tremaining: 596ms\n",
      "190:\tlearn: 0.1379716\ttotal: 140ms\tremaining: 593ms\n",
      "191:\tlearn: 0.1369047\ttotal: 141ms\tremaining: 591ms\n",
      "192:\tlearn: 0.1364247\ttotal: 141ms\tremaining: 589ms\n",
      "193:\tlearn: 0.1354692\ttotal: 141ms\tremaining: 587ms\n",
      "194:\tlearn: 0.1341953\ttotal: 142ms\tremaining: 585ms\n",
      "195:\tlearn: 0.1336841\ttotal: 142ms\tremaining: 583ms\n",
      "196:\tlearn: 0.1326078\ttotal: 143ms\tremaining: 581ms\n",
      "197:\tlearn: 0.1316044\ttotal: 143ms\tremaining: 579ms\n",
      "198:\tlearn: 0.1311641\ttotal: 144ms\tremaining: 578ms\n",
      "199:\tlearn: 0.1298249\ttotal: 144ms\tremaining: 576ms\n",
      "200:\tlearn: 0.1293736\ttotal: 144ms\tremaining: 574ms\n",
      "201:\tlearn: 0.1284407\ttotal: 145ms\tremaining: 573ms\n",
      "202:\tlearn: 0.1272915\ttotal: 145ms\tremaining: 571ms\n",
      "203:\tlearn: 0.1263106\ttotal: 146ms\tremaining: 569ms\n",
      "204:\tlearn: 0.1249402\ttotal: 146ms\tremaining: 568ms\n",
      "205:\tlearn: 0.1242701\ttotal: 147ms\tremaining: 566ms\n",
      "206:\tlearn: 0.1239029\ttotal: 147ms\tremaining: 564ms\n",
      "207:\tlearn: 0.1231152\ttotal: 148ms\tremaining: 562ms\n",
      "208:\tlearn: 0.1226597\ttotal: 148ms\tremaining: 561ms\n",
      "209:\tlearn: 0.1216396\ttotal: 149ms\tremaining: 559ms\n",
      "210:\tlearn: 0.1211843\ttotal: 149ms\tremaining: 558ms\n",
      "211:\tlearn: 0.1205105\ttotal: 150ms\tremaining: 558ms\n",
      "212:\tlearn: 0.1195076\ttotal: 151ms\tremaining: 557ms\n",
      "213:\tlearn: 0.1186975\ttotal: 151ms\tremaining: 555ms\n",
      "214:\tlearn: 0.1180141\ttotal: 152ms\tremaining: 554ms\n",
      "215:\tlearn: 0.1171129\ttotal: 152ms\tremaining: 553ms\n",
      "216:\tlearn: 0.1163290\ttotal: 153ms\tremaining: 552ms\n",
      "217:\tlearn: 0.1154489\ttotal: 153ms\tremaining: 550ms\n",
      "218:\tlearn: 0.1147061\ttotal: 154ms\tremaining: 548ms\n",
      "219:\tlearn: 0.1137195\ttotal: 154ms\tremaining: 547ms\n",
      "220:\tlearn: 0.1130041\ttotal: 155ms\tremaining: 545ms\n",
      "221:\tlearn: 0.1122757\ttotal: 155ms\tremaining: 544ms\n",
      "222:\tlearn: 0.1119061\ttotal: 156ms\tremaining: 542ms\n",
      "223:\tlearn: 0.1108287\ttotal: 156ms\tremaining: 541ms\n",
      "224:\tlearn: 0.1100674\ttotal: 157ms\tremaining: 540ms\n",
      "225:\tlearn: 0.1091566\ttotal: 157ms\tremaining: 538ms\n",
      "226:\tlearn: 0.1083259\ttotal: 158ms\tremaining: 537ms\n",
      "227:\tlearn: 0.1075303\ttotal: 158ms\tremaining: 535ms\n",
      "228:\tlearn: 0.1067858\ttotal: 158ms\tremaining: 533ms\n",
      "229:\tlearn: 0.1058388\ttotal: 159ms\tremaining: 532ms\n",
      "230:\tlearn: 0.1049325\ttotal: 160ms\tremaining: 531ms\n",
      "231:\tlearn: 0.1040592\ttotal: 160ms\tremaining: 530ms\n",
      "232:\tlearn: 0.1037317\ttotal: 160ms\tremaining: 528ms\n",
      "233:\tlearn: 0.1027830\ttotal: 161ms\tremaining: 527ms\n",
      "234:\tlearn: 0.1020649\ttotal: 161ms\tremaining: 525ms\n",
      "235:\tlearn: 0.1017744\ttotal: 162ms\tremaining: 524ms\n",
      "236:\tlearn: 0.1014382\ttotal: 162ms\tremaining: 522ms\n",
      "237:\tlearn: 0.1007488\ttotal: 163ms\tremaining: 521ms\n",
      "238:\tlearn: 0.1000502\ttotal: 163ms\tremaining: 519ms\n",
      "239:\tlearn: 0.0991090\ttotal: 163ms\tremaining: 518ms\n",
      "240:\tlearn: 0.0983696\ttotal: 164ms\tremaining: 516ms\n",
      "241:\tlearn: 0.0976774\ttotal: 164ms\tremaining: 515ms\n",
      "242:\tlearn: 0.0968908\ttotal: 165ms\tremaining: 513ms\n",
      "243:\tlearn: 0.0965798\ttotal: 165ms\tremaining: 512ms\n",
      "244:\tlearn: 0.0956909\ttotal: 166ms\tremaining: 510ms\n",
      "245:\tlearn: 0.0953845\ttotal: 166ms\tremaining: 509ms\n",
      "246:\tlearn: 0.0950958\ttotal: 166ms\tremaining: 507ms\n",
      "247:\tlearn: 0.0947395\ttotal: 167ms\tremaining: 506ms\n",
      "248:\tlearn: 0.0943851\ttotal: 167ms\tremaining: 505ms\n",
      "249:\tlearn: 0.0937557\ttotal: 168ms\tremaining: 504ms\n",
      "250:\tlearn: 0.0930024\ttotal: 168ms\tremaining: 503ms\n",
      "251:\tlearn: 0.0926955\ttotal: 169ms\tremaining: 501ms\n",
      "252:\tlearn: 0.0920914\ttotal: 169ms\tremaining: 500ms\n",
      "253:\tlearn: 0.0914383\ttotal: 170ms\tremaining: 498ms\n",
      "254:\tlearn: 0.0911522\ttotal: 170ms\tremaining: 497ms\n",
      "255:\tlearn: 0.0907709\ttotal: 171ms\tremaining: 496ms\n",
      "256:\tlearn: 0.0902043\ttotal: 171ms\tremaining: 495ms\n",
      "257:\tlearn: 0.0898337\ttotal: 172ms\tremaining: 494ms\n",
      "258:\tlearn: 0.0891890\ttotal: 172ms\tremaining: 493ms\n",
      "259:\tlearn: 0.0886216\ttotal: 173ms\tremaining: 492ms\n",
      "260:\tlearn: 0.0880549\ttotal: 173ms\tremaining: 490ms\n",
      "261:\tlearn: 0.0875019\ttotal: 174ms\tremaining: 489ms\n",
      "262:\tlearn: 0.0869853\ttotal: 174ms\tremaining: 488ms\n",
      "263:\tlearn: 0.0865180\ttotal: 175ms\tremaining: 487ms\n",
      "264:\tlearn: 0.0861600\ttotal: 175ms\tremaining: 485ms\n",
      "265:\tlearn: 0.0859174\ttotal: 175ms\tremaining: 484ms\n",
      "266:\tlearn: 0.0856752\ttotal: 176ms\tremaining: 483ms\n",
      "267:\tlearn: 0.0850786\ttotal: 176ms\tremaining: 481ms\n",
      "268:\tlearn: 0.0846859\ttotal: 177ms\tremaining: 480ms\n",
      "269:\tlearn: 0.0844452\ttotal: 177ms\tremaining: 479ms\n",
      "270:\tlearn: 0.0842015\ttotal: 177ms\tremaining: 477ms\n",
      "271:\tlearn: 0.0836727\ttotal: 178ms\tremaining: 476ms\n",
      "272:\tlearn: 0.0834607\ttotal: 178ms\tremaining: 475ms\n",
      "273:\tlearn: 0.0832326\ttotal: 179ms\tremaining: 474ms\n",
      "274:\tlearn: 0.0827415\ttotal: 179ms\tremaining: 472ms\n",
      "275:\tlearn: 0.0824581\ttotal: 180ms\tremaining: 471ms\n",
      "276:\tlearn: 0.0822582\ttotal: 180ms\tremaining: 470ms\n",
      "277:\tlearn: 0.0820395\ttotal: 180ms\tremaining: 468ms\n",
      "278:\tlearn: 0.0814794\ttotal: 181ms\tremaining: 467ms\n",
      "279:\tlearn: 0.0812633\ttotal: 181ms\tremaining: 466ms\n",
      "280:\tlearn: 0.0807066\ttotal: 182ms\tremaining: 467ms\n",
      "281:\tlearn: 0.0804969\ttotal: 183ms\tremaining: 465ms\n",
      "282:\tlearn: 0.0799746\ttotal: 183ms\tremaining: 465ms\n",
      "283:\tlearn: 0.0797664\ttotal: 184ms\tremaining: 463ms\n",
      "284:\tlearn: 0.0792511\ttotal: 184ms\tremaining: 462ms\n"
     ]
    },
    {
     "name": "stdout",
     "output_type": "stream",
     "text": [
      "285:\tlearn: 0.0786964\ttotal: 185ms\tremaining: 461ms\n",
      "286:\tlearn: 0.0784935\ttotal: 185ms\tremaining: 461ms\n",
      "287:\tlearn: 0.0782924\ttotal: 186ms\tremaining: 460ms\n",
      "288:\tlearn: 0.0780950\ttotal: 186ms\tremaining: 458ms\n",
      "289:\tlearn: 0.0778871\ttotal: 187ms\tremaining: 458ms\n",
      "290:\tlearn: 0.0776914\ttotal: 187ms\tremaining: 456ms\n",
      "291:\tlearn: 0.0774738\ttotal: 188ms\tremaining: 455ms\n",
      "292:\tlearn: 0.0769186\ttotal: 188ms\tremaining: 454ms\n",
      "293:\tlearn: 0.0763730\ttotal: 189ms\tremaining: 453ms\n",
      "294:\tlearn: 0.0761864\ttotal: 189ms\tremaining: 452ms\n",
      "295:\tlearn: 0.0757250\ttotal: 189ms\tremaining: 450ms\n",
      "296:\tlearn: 0.0755421\ttotal: 190ms\tremaining: 449ms\n",
      "297:\tlearn: 0.0750832\ttotal: 190ms\tremaining: 448ms\n",
      "298:\tlearn: 0.0749018\ttotal: 191ms\tremaining: 447ms\n",
      "299:\tlearn: 0.0747239\ttotal: 191ms\tremaining: 446ms\n",
      "300:\tlearn: 0.0745023\ttotal: 191ms\tremaining: 445ms\n",
      "301:\tlearn: 0.0743193\ttotal: 192ms\tremaining: 443ms\n",
      "302:\tlearn: 0.0741466\ttotal: 192ms\tremaining: 442ms\n",
      "303:\tlearn: 0.0739739\ttotal: 193ms\tremaining: 441ms\n",
      "304:\tlearn: 0.0738043\ttotal: 193ms\tremaining: 440ms\n",
      "305:\tlearn: 0.0736336\ttotal: 193ms\tremaining: 439ms\n",
      "306:\tlearn: 0.0734253\ttotal: 194ms\tremaining: 437ms\n",
      "307:\tlearn: 0.0732608\ttotal: 194ms\tremaining: 436ms\n",
      "308:\tlearn: 0.0729861\ttotal: 195ms\tremaining: 435ms\n",
      "309:\tlearn: 0.0727732\ttotal: 195ms\tremaining: 434ms\n",
      "310:\tlearn: 0.0724398\ttotal: 195ms\tremaining: 433ms\n",
      "311:\tlearn: 0.0722805\ttotal: 196ms\tremaining: 432ms\n",
      "312:\tlearn: 0.0721247\ttotal: 196ms\tremaining: 431ms\n",
      "313:\tlearn: 0.0719642\ttotal: 197ms\tremaining: 430ms\n",
      "314:\tlearn: 0.0718098\ttotal: 197ms\tremaining: 429ms\n",
      "315:\tlearn: 0.0716144\ttotal: 198ms\tremaining: 428ms\n",
      "316:\tlearn: 0.0714248\ttotal: 198ms\tremaining: 427ms\n",
      "317:\tlearn: 0.0712340\ttotal: 199ms\tremaining: 426ms\n",
      "318:\tlearn: 0.0710875\ttotal: 199ms\tremaining: 426ms\n",
      "319:\tlearn: 0.0709408\ttotal: 200ms\tremaining: 425ms\n",
      "320:\tlearn: 0.0706852\ttotal: 200ms\tremaining: 424ms\n",
      "321:\tlearn: 0.0704392\ttotal: 201ms\tremaining: 423ms\n",
      "322:\tlearn: 0.0701916\ttotal: 201ms\tremaining: 422ms\n",
      "323:\tlearn: 0.0700525\ttotal: 202ms\tremaining: 422ms\n",
      "324:\tlearn: 0.0699133\ttotal: 203ms\tremaining: 421ms\n",
      "325:\tlearn: 0.0696612\ttotal: 203ms\tremaining: 420ms\n",
      "326:\tlearn: 0.0694266\ttotal: 203ms\tremaining: 419ms\n",
      "327:\tlearn: 0.0692803\ttotal: 204ms\tremaining: 418ms\n",
      "328:\tlearn: 0.0691463\ttotal: 204ms\tremaining: 417ms\n",
      "329:\tlearn: 0.0689075\ttotal: 205ms\tremaining: 416ms\n",
      "330:\tlearn: 0.0687395\ttotal: 205ms\tremaining: 415ms\n",
      "331:\tlearn: 0.0686068\ttotal: 206ms\tremaining: 414ms\n",
      "332:\tlearn: 0.0684798\ttotal: 206ms\tremaining: 413ms\n",
      "333:\tlearn: 0.0683168\ttotal: 207ms\tremaining: 412ms\n",
      "334:\tlearn: 0.0680969\ttotal: 207ms\tremaining: 411ms\n",
      "335:\tlearn: 0.0679695\ttotal: 208ms\tremaining: 410ms\n",
      "336:\tlearn: 0.0678463\ttotal: 208ms\tremaining: 409ms\n",
      "337:\tlearn: 0.0676609\ttotal: 209ms\tremaining: 408ms\n",
      "338:\tlearn: 0.0673696\ttotal: 209ms\tremaining: 407ms\n",
      "339:\tlearn: 0.0667715\ttotal: 209ms\tremaining: 406ms\n",
      "340:\tlearn: 0.0666419\ttotal: 210ms\tremaining: 405ms\n",
      "341:\tlearn: 0.0665246\ttotal: 210ms\tremaining: 404ms\n",
      "342:\tlearn: 0.0664102\ttotal: 210ms\tremaining: 403ms\n",
      "343:\tlearn: 0.0662065\ttotal: 211ms\tremaining: 402ms\n",
      "344:\tlearn: 0.0659318\ttotal: 211ms\tremaining: 401ms\n",
      "345:\tlearn: 0.0658166\ttotal: 211ms\tremaining: 400ms\n",
      "346:\tlearn: 0.0652446\ttotal: 212ms\tremaining: 399ms\n",
      "347:\tlearn: 0.0650576\ttotal: 212ms\tremaining: 398ms\n",
      "348:\tlearn: 0.0645018\ttotal: 213ms\tremaining: 397ms\n",
      "349:\tlearn: 0.0643934\ttotal: 213ms\tremaining: 396ms\n",
      "350:\tlearn: 0.0642840\ttotal: 214ms\tremaining: 395ms\n",
      "351:\tlearn: 0.0641037\ttotal: 214ms\tremaining: 394ms\n",
      "352:\tlearn: 0.0639191\ttotal: 214ms\tremaining: 393ms\n",
      "353:\tlearn: 0.0637846\ttotal: 215ms\tremaining: 392ms\n",
      "354:\tlearn: 0.0636790\ttotal: 215ms\tremaining: 391ms\n",
      "355:\tlearn: 0.0635474\ttotal: 216ms\tremaining: 390ms\n",
      "356:\tlearn: 0.0633740\ttotal: 216ms\tremaining: 389ms\n",
      "357:\tlearn: 0.0628436\ttotal: 217ms\tremaining: 388ms\n",
      "358:\tlearn: 0.0623265\ttotal: 217ms\tremaining: 387ms\n",
      "359:\tlearn: 0.0622285\ttotal: 217ms\tremaining: 386ms\n",
      "360:\tlearn: 0.0620183\ttotal: 218ms\tremaining: 386ms\n",
      "361:\tlearn: 0.0618940\ttotal: 219ms\tremaining: 385ms\n",
      "362:\tlearn: 0.0617861\ttotal: 219ms\tremaining: 384ms\n",
      "363:\tlearn: 0.0616567\ttotal: 219ms\tremaining: 383ms\n",
      "364:\tlearn: 0.0611595\ttotal: 220ms\tremaining: 382ms\n",
      "365:\tlearn: 0.0610353\ttotal: 220ms\tremaining: 381ms\n",
      "366:\tlearn: 0.0608992\ttotal: 221ms\tremaining: 381ms\n",
      "367:\tlearn: 0.0607838\ttotal: 221ms\tremaining: 380ms\n",
      "368:\tlearn: 0.0605917\ttotal: 221ms\tremaining: 379ms\n",
      "369:\tlearn: 0.0604602\ttotal: 222ms\tremaining: 378ms\n",
      "370:\tlearn: 0.0603629\ttotal: 222ms\tremaining: 377ms\n",
      "371:\tlearn: 0.0601756\ttotal: 223ms\tremaining: 376ms\n",
      "372:\tlearn: 0.0600481\ttotal: 223ms\tremaining: 375ms\n",
      "373:\tlearn: 0.0599108\ttotal: 223ms\tremaining: 374ms\n",
      "374:\tlearn: 0.0598174\ttotal: 224ms\tremaining: 373ms\n",
      "375:\tlearn: 0.0593469\ttotal: 224ms\tremaining: 372ms\n",
      "376:\tlearn: 0.0592537\ttotal: 225ms\tremaining: 371ms\n",
      "377:\tlearn: 0.0587961\ttotal: 225ms\tremaining: 370ms\n",
      "378:\tlearn: 0.0587063\ttotal: 225ms\tremaining: 369ms\n",
      "379:\tlearn: 0.0585772\ttotal: 226ms\tremaining: 368ms\n",
      "380:\tlearn: 0.0584717\ttotal: 226ms\tremaining: 368ms\n",
      "381:\tlearn: 0.0583853\ttotal: 227ms\tremaining: 367ms\n",
      "382:\tlearn: 0.0579574\ttotal: 227ms\tremaining: 366ms\n",
      "383:\tlearn: 0.0578710\ttotal: 228ms\tremaining: 365ms\n",
      "384:\tlearn: 0.0574510\ttotal: 228ms\tremaining: 364ms\n",
      "385:\tlearn: 0.0573675\ttotal: 228ms\tremaining: 363ms\n",
      "386:\tlearn: 0.0569554\ttotal: 229ms\tremaining: 362ms\n",
      "387:\tlearn: 0.0568194\ttotal: 229ms\tremaining: 361ms\n",
      "388:\tlearn: 0.0564155\ttotal: 230ms\tremaining: 361ms\n",
      "389:\tlearn: 0.0563184\ttotal: 230ms\tremaining: 360ms\n",
      "390:\tlearn: 0.0559223\ttotal: 230ms\tremaining: 359ms\n",
      "391:\tlearn: 0.0558053\ttotal: 231ms\tremaining: 358ms\n",
      "392:\tlearn: 0.0557273\ttotal: 231ms\tremaining: 357ms\n",
      "393:\tlearn: 0.0553297\ttotal: 232ms\tremaining: 356ms\n",
      "394:\tlearn: 0.0549422\ttotal: 232ms\tremaining: 355ms\n",
      "395:\tlearn: 0.0545633\ttotal: 233ms\tremaining: 355ms\n",
      "396:\tlearn: 0.0544384\ttotal: 233ms\tremaining: 354ms\n",
      "397:\tlearn: 0.0540561\ttotal: 233ms\tremaining: 353ms\n",
      "398:\tlearn: 0.0539467\ttotal: 234ms\tremaining: 352ms\n",
      "399:\tlearn: 0.0538392\ttotal: 234ms\tremaining: 351ms\n",
      "400:\tlearn: 0.0537336\ttotal: 234ms\tremaining: 350ms\n",
      "401:\tlearn: 0.0533539\ttotal: 235ms\tremaining: 349ms\n",
      "402:\tlearn: 0.0532502\ttotal: 235ms\tremaining: 349ms\n",
      "403:\tlearn: 0.0528774\ttotal: 236ms\tremaining: 348ms\n",
      "404:\tlearn: 0.0528082\ttotal: 236ms\tremaining: 347ms\n",
      "405:\tlearn: 0.0524484\ttotal: 237ms\tremaining: 346ms\n",
      "406:\tlearn: 0.0520972\ttotal: 237ms\tremaining: 345ms\n",
      "407:\tlearn: 0.0519975\ttotal: 237ms\tremaining: 344ms\n",
      "408:\tlearn: 0.0518996\ttotal: 238ms\tremaining: 344ms\n",
      "409:\tlearn: 0.0518034\ttotal: 238ms\tremaining: 343ms\n",
      "410:\tlearn: 0.0514496\ttotal: 239ms\tremaining: 342ms\n",
      "411:\tlearn: 0.0511023\ttotal: 239ms\tremaining: 341ms\n",
      "412:\tlearn: 0.0509697\ttotal: 239ms\tremaining: 340ms\n",
      "413:\tlearn: 0.0506297\ttotal: 240ms\tremaining: 339ms\n",
      "414:\tlearn: 0.0503460\ttotal: 240ms\tremaining: 339ms\n",
      "415:\tlearn: 0.0500045\ttotal: 241ms\tremaining: 338ms\n",
      "416:\tlearn: 0.0498773\ttotal: 241ms\tremaining: 337ms\n",
      "417:\tlearn: 0.0497865\ttotal: 241ms\tremaining: 336ms\n",
      "418:\tlearn: 0.0496972\ttotal: 242ms\tremaining: 336ms\n",
      "419:\tlearn: 0.0493729\ttotal: 243ms\tremaining: 335ms\n",
      "420:\tlearn: 0.0492853\ttotal: 243ms\tremaining: 334ms\n",
      "421:\tlearn: 0.0489670\ttotal: 243ms\tremaining: 333ms\n",
      "422:\tlearn: 0.0488811\ttotal: 244ms\tremaining: 333ms\n",
      "423:\tlearn: 0.0485687\ttotal: 244ms\tremaining: 332ms\n",
      "424:\tlearn: 0.0482622\ttotal: 245ms\tremaining: 331ms\n",
      "425:\tlearn: 0.0479443\ttotal: 245ms\tremaining: 331ms\n",
      "426:\tlearn: 0.0476318\ttotal: 246ms\tremaining: 330ms\n",
      "427:\tlearn: 0.0473901\ttotal: 246ms\tremaining: 329ms\n",
      "428:\tlearn: 0.0473082\ttotal: 247ms\tremaining: 329ms\n",
      "429:\tlearn: 0.0471627\ttotal: 247ms\tremaining: 328ms\n",
      "430:\tlearn: 0.0468546\ttotal: 248ms\tremaining: 327ms\n",
      "431:\tlearn: 0.0465559\ttotal: 248ms\tremaining: 326ms\n",
      "432:\tlearn: 0.0462623\ttotal: 249ms\tremaining: 325ms\n",
      "433:\tlearn: 0.0459739\ttotal: 249ms\tremaining: 325ms\n",
      "434:\tlearn: 0.0456909\ttotal: 249ms\tremaining: 324ms\n",
      "435:\tlearn: 0.0453301\ttotal: 250ms\tremaining: 323ms\n",
      "436:\tlearn: 0.0450561\ttotal: 250ms\tremaining: 322ms\n",
      "437:\tlearn: 0.0447404\ttotal: 251ms\tremaining: 322ms\n",
      "438:\tlearn: 0.0444443\ttotal: 251ms\tremaining: 321ms\n",
      "439:\tlearn: 0.0441561\ttotal: 252ms\tremaining: 320ms\n",
      "440:\tlearn: 0.0438688\ttotal: 252ms\tremaining: 319ms\n",
      "441:\tlearn: 0.0435457\ttotal: 252ms\tremaining: 319ms\n",
      "442:\tlearn: 0.0432675\ttotal: 253ms\tremaining: 318ms\n",
      "443:\tlearn: 0.0429950\ttotal: 253ms\tremaining: 317ms\n",
      "444:\tlearn: 0.0427474\ttotal: 254ms\tremaining: 316ms\n",
      "445:\tlearn: 0.0424389\ttotal: 254ms\tremaining: 315ms\n",
      "446:\tlearn: 0.0421770\ttotal: 254ms\tremaining: 315ms\n",
      "447:\tlearn: 0.0419205\ttotal: 255ms\tremaining: 314ms\n",
      "448:\tlearn: 0.0416602\ttotal: 255ms\tremaining: 313ms\n",
      "449:\tlearn: 0.0414115\ttotal: 256ms\tremaining: 313ms\n",
      "450:\tlearn: 0.0411618\ttotal: 256ms\tremaining: 312ms\n"
     ]
    },
    {
     "name": "stdout",
     "output_type": "stream",
     "text": [
      "451:\tlearn: 0.0409204\ttotal: 257ms\tremaining: 312ms\n",
      "452:\tlearn: 0.0406902\ttotal: 258ms\tremaining: 311ms\n",
      "453:\tlearn: 0.0404557\ttotal: 258ms\tremaining: 311ms\n",
      "454:\tlearn: 0.0402020\ttotal: 259ms\tremaining: 310ms\n",
      "455:\tlearn: 0.0399743\ttotal: 259ms\tremaining: 309ms\n",
      "456:\tlearn: 0.0397514\ttotal: 260ms\tremaining: 308ms\n",
      "457:\tlearn: 0.0395059\ttotal: 260ms\tremaining: 308ms\n",
      "458:\tlearn: 0.0394623\ttotal: 260ms\tremaining: 307ms\n",
      "459:\tlearn: 0.0392402\ttotal: 261ms\tremaining: 306ms\n",
      "460:\tlearn: 0.0391974\ttotal: 262ms\tremaining: 306ms\n",
      "461:\tlearn: 0.0389463\ttotal: 262ms\tremaining: 305ms\n",
      "462:\tlearn: 0.0387097\ttotal: 263ms\tremaining: 305ms\n",
      "463:\tlearn: 0.0384949\ttotal: 263ms\tremaining: 304ms\n",
      "464:\tlearn: 0.0384532\ttotal: 264ms\tremaining: 303ms\n",
      "465:\tlearn: 0.0382247\ttotal: 264ms\tremaining: 303ms\n",
      "466:\tlearn: 0.0381837\ttotal: 264ms\tremaining: 302ms\n",
      "467:\tlearn: 0.0379446\ttotal: 265ms\tremaining: 301ms\n",
      "468:\tlearn: 0.0377316\ttotal: 265ms\tremaining: 300ms\n",
      "469:\tlearn: 0.0375112\ttotal: 266ms\tremaining: 300ms\n",
      "470:\tlearn: 0.0373112\ttotal: 266ms\tremaining: 299ms\n",
      "471:\tlearn: 0.0371256\ttotal: 267ms\tremaining: 298ms\n",
      "472:\tlearn: 0.0369212\ttotal: 267ms\tremaining: 298ms\n",
      "473:\tlearn: 0.0367294\ttotal: 268ms\tremaining: 297ms\n",
      "474:\tlearn: 0.0365283\ttotal: 268ms\tremaining: 296ms\n",
      "475:\tlearn: 0.0363294\ttotal: 268ms\tremaining: 295ms\n",
      "476:\tlearn: 0.0361319\ttotal: 269ms\tremaining: 295ms\n",
      "477:\tlearn: 0.0359397\ttotal: 269ms\tremaining: 294ms\n",
      "478:\tlearn: 0.0357558\ttotal: 270ms\tremaining: 293ms\n",
      "479:\tlearn: 0.0355731\ttotal: 270ms\tremaining: 293ms\n",
      "480:\tlearn: 0.0353753\ttotal: 271ms\tremaining: 292ms\n",
      "481:\tlearn: 0.0351803\ttotal: 271ms\tremaining: 291ms\n",
      "482:\tlearn: 0.0349968\ttotal: 272ms\tremaining: 291ms\n",
      "483:\tlearn: 0.0349608\ttotal: 272ms\tremaining: 290ms\n",
      "484:\tlearn: 0.0347924\ttotal: 273ms\tremaining: 290ms\n",
      "485:\tlearn: 0.0346075\ttotal: 273ms\tremaining: 289ms\n",
      "486:\tlearn: 0.0344280\ttotal: 274ms\tremaining: 288ms\n",
      "487:\tlearn: 0.0342667\ttotal: 274ms\tremaining: 288ms\n",
      "488:\tlearn: 0.0341044\ttotal: 275ms\tremaining: 287ms\n",
      "489:\tlearn: 0.0339340\ttotal: 275ms\tremaining: 286ms\n",
      "490:\tlearn: 0.0337658\ttotal: 276ms\tremaining: 286ms\n",
      "491:\tlearn: 0.0335908\ttotal: 276ms\tremaining: 285ms\n",
      "492:\tlearn: 0.0335573\ttotal: 277ms\tremaining: 284ms\n",
      "493:\tlearn: 0.0333929\ttotal: 277ms\tremaining: 284ms\n",
      "494:\tlearn: 0.0332311\ttotal: 278ms\tremaining: 283ms\n",
      "495:\tlearn: 0.0330776\ttotal: 278ms\tremaining: 283ms\n",
      "496:\tlearn: 0.0329176\ttotal: 279ms\tremaining: 282ms\n",
      "497:\tlearn: 0.0327507\ttotal: 279ms\tremaining: 281ms\n",
      "498:\tlearn: 0.0327188\ttotal: 279ms\tremaining: 281ms\n",
      "499:\tlearn: 0.0325623\ttotal: 280ms\tremaining: 280ms\n",
      "500:\tlearn: 0.0324076\ttotal: 280ms\tremaining: 279ms\n",
      "501:\tlearn: 0.0322199\ttotal: 281ms\tremaining: 279ms\n",
      "502:\tlearn: 0.0320597\ttotal: 281ms\tremaining: 278ms\n",
      "503:\tlearn: 0.0319143\ttotal: 282ms\tremaining: 277ms\n",
      "504:\tlearn: 0.0317641\ttotal: 282ms\tremaining: 276ms\n",
      "505:\tlearn: 0.0316137\ttotal: 282ms\tremaining: 276ms\n",
      "506:\tlearn: 0.0314595\ttotal: 283ms\tremaining: 275ms\n",
      "507:\tlearn: 0.0312864\ttotal: 283ms\tremaining: 274ms\n",
      "508:\tlearn: 0.0311342\ttotal: 284ms\tremaining: 274ms\n",
      "509:\tlearn: 0.0309571\ttotal: 284ms\tremaining: 273ms\n",
      "510:\tlearn: 0.0307832\ttotal: 285ms\tremaining: 272ms\n",
      "511:\tlearn: 0.0306420\ttotal: 285ms\tremaining: 272ms\n",
      "512:\tlearn: 0.0304719\ttotal: 286ms\tremaining: 271ms\n",
      "513:\tlearn: 0.0302881\ttotal: 286ms\tremaining: 271ms\n",
      "514:\tlearn: 0.0301512\ttotal: 287ms\tremaining: 270ms\n",
      "515:\tlearn: 0.0300168\ttotal: 287ms\tremaining: 269ms\n",
      "516:\tlearn: 0.0298787\ttotal: 288ms\tremaining: 269ms\n",
      "517:\tlearn: 0.0297013\ttotal: 288ms\tremaining: 268ms\n",
      "518:\tlearn: 0.0295557\ttotal: 288ms\tremaining: 267ms\n",
      "519:\tlearn: 0.0294153\ttotal: 289ms\tremaining: 267ms\n",
      "520:\tlearn: 0.0292807\ttotal: 289ms\tremaining: 266ms\n",
      "521:\tlearn: 0.0291476\ttotal: 290ms\tremaining: 265ms\n",
      "522:\tlearn: 0.0289909\ttotal: 290ms\tremaining: 265ms\n",
      "523:\tlearn: 0.0288517\ttotal: 291ms\tremaining: 264ms\n",
      "524:\tlearn: 0.0286834\ttotal: 292ms\tremaining: 264ms\n",
      "525:\tlearn: 0.0285497\ttotal: 292ms\tremaining: 263ms\n",
      "526:\tlearn: 0.0284148\ttotal: 292ms\tremaining: 262ms\n",
      "527:\tlearn: 0.0282969\ttotal: 293ms\tremaining: 262ms\n",
      "528:\tlearn: 0.0281473\ttotal: 293ms\tremaining: 261ms\n",
      "529:\tlearn: 0.0280100\ttotal: 294ms\tremaining: 260ms\n",
      "530:\tlearn: 0.0278642\ttotal: 294ms\tremaining: 260ms\n",
      "531:\tlearn: 0.0277429\ttotal: 295ms\tremaining: 260ms\n",
      "532:\tlearn: 0.0276197\ttotal: 296ms\tremaining: 259ms\n",
      "533:\tlearn: 0.0274939\ttotal: 296ms\tremaining: 258ms\n",
      "534:\tlearn: 0.0273531\ttotal: 296ms\tremaining: 258ms\n",
      "535:\tlearn: 0.0272218\ttotal: 297ms\tremaining: 257ms\n",
      "536:\tlearn: 0.0270845\ttotal: 297ms\tremaining: 256ms\n",
      "537:\tlearn: 0.0269717\ttotal: 298ms\tremaining: 256ms\n",
      "538:\tlearn: 0.0268262\ttotal: 298ms\tremaining: 255ms\n",
      "539:\tlearn: 0.0267194\ttotal: 299ms\tremaining: 254ms\n",
      "540:\tlearn: 0.0266102\ttotal: 299ms\tremaining: 254ms\n",
      "541:\tlearn: 0.0265060\ttotal: 300ms\tremaining: 253ms\n",
      "542:\tlearn: 0.0263573\ttotal: 300ms\tremaining: 252ms\n",
      "543:\tlearn: 0.0262518\ttotal: 300ms\tremaining: 252ms\n",
      "544:\tlearn: 0.0261514\ttotal: 301ms\tremaining: 251ms\n",
      "545:\tlearn: 0.0260486\ttotal: 301ms\tremaining: 251ms\n",
      "546:\tlearn: 0.0259210\ttotal: 302ms\tremaining: 250ms\n",
      "547:\tlearn: 0.0257959\ttotal: 303ms\tremaining: 250ms\n",
      "548:\tlearn: 0.0257085\ttotal: 303ms\tremaining: 249ms\n",
      "549:\tlearn: 0.0256130\ttotal: 303ms\tremaining: 248ms\n",
      "550:\tlearn: 0.0254824\ttotal: 304ms\tremaining: 248ms\n",
      "551:\tlearn: 0.0253937\ttotal: 304ms\tremaining: 247ms\n",
      "552:\tlearn: 0.0252733\ttotal: 305ms\tremaining: 246ms\n",
      "553:\tlearn: 0.0251959\ttotal: 305ms\tremaining: 246ms\n",
      "554:\tlearn: 0.0250711\ttotal: 306ms\tremaining: 245ms\n",
      "555:\tlearn: 0.0249953\ttotal: 306ms\tremaining: 244ms\n",
      "556:\tlearn: 0.0248733\ttotal: 307ms\tremaining: 244ms\n",
      "557:\tlearn: 0.0247812\ttotal: 307ms\tremaining: 243ms\n",
      "558:\tlearn: 0.0246410\ttotal: 308ms\tremaining: 243ms\n",
      "559:\tlearn: 0.0245510\ttotal: 308ms\tremaining: 242ms\n",
      "560:\tlearn: 0.0244142\ttotal: 309ms\tremaining: 242ms\n",
      "561:\tlearn: 0.0243263\ttotal: 309ms\tremaining: 241ms\n",
      "562:\tlearn: 0.0241928\ttotal: 310ms\tremaining: 240ms\n",
      "563:\tlearn: 0.0241115\ttotal: 310ms\tremaining: 240ms\n",
      "564:\tlearn: 0.0239997\ttotal: 310ms\tremaining: 239ms\n",
      "565:\tlearn: 0.0239148\ttotal: 311ms\tremaining: 238ms\n",
      "566:\tlearn: 0.0238043\ttotal: 311ms\tremaining: 238ms\n",
      "567:\tlearn: 0.0237259\ttotal: 312ms\tremaining: 237ms\n",
      "568:\tlearn: 0.0236174\ttotal: 312ms\tremaining: 236ms\n",
      "569:\tlearn: 0.0234928\ttotal: 313ms\tremaining: 236ms\n",
      "570:\tlearn: 0.0234116\ttotal: 313ms\tremaining: 235ms\n",
      "571:\tlearn: 0.0233352\ttotal: 313ms\tremaining: 234ms\n",
      "572:\tlearn: 0.0232560\ttotal: 314ms\tremaining: 234ms\n",
      "573:\tlearn: 0.0231814\ttotal: 314ms\tremaining: 233ms\n",
      "574:\tlearn: 0.0231077\ttotal: 315ms\tremaining: 233ms\n",
      "575:\tlearn: 0.0229917\ttotal: 316ms\tremaining: 232ms\n",
      "576:\tlearn: 0.0228786\ttotal: 316ms\tremaining: 232ms\n",
      "577:\tlearn: 0.0227693\ttotal: 317ms\tremaining: 231ms\n",
      "578:\tlearn: 0.0226976\ttotal: 317ms\tremaining: 231ms\n",
      "579:\tlearn: 0.0225955\ttotal: 318ms\tremaining: 230ms\n",
      "580:\tlearn: 0.0224860\ttotal: 318ms\tremaining: 229ms\n",
      "581:\tlearn: 0.0223864\ttotal: 318ms\tremaining: 229ms\n",
      "582:\tlearn: 0.0222799\ttotal: 319ms\tremaining: 228ms\n",
      "583:\tlearn: 0.0221742\ttotal: 319ms\tremaining: 227ms\n",
      "584:\tlearn: 0.0220704\ttotal: 320ms\tremaining: 227ms\n",
      "585:\tlearn: 0.0219668\ttotal: 320ms\tremaining: 226ms\n",
      "586:\tlearn: 0.0218711\ttotal: 321ms\tremaining: 226ms\n",
      "587:\tlearn: 0.0217702\ttotal: 321ms\tremaining: 225ms\n",
      "588:\tlearn: 0.0216693\ttotal: 322ms\tremaining: 225ms\n",
      "589:\tlearn: 0.0215636\ttotal: 322ms\tremaining: 224ms\n",
      "590:\tlearn: 0.0214782\ttotal: 323ms\tremaining: 223ms\n",
      "591:\tlearn: 0.0213802\ttotal: 323ms\tremaining: 223ms\n",
      "592:\tlearn: 0.0212891\ttotal: 324ms\tremaining: 222ms\n",
      "593:\tlearn: 0.0212055\ttotal: 324ms\tremaining: 222ms\n",
      "594:\tlearn: 0.0211078\ttotal: 325ms\tremaining: 221ms\n",
      "595:\tlearn: 0.0210195\ttotal: 325ms\tremaining: 220ms\n",
      "596:\tlearn: 0.0209262\ttotal: 325ms\tremaining: 220ms\n",
      "597:\tlearn: 0.0208487\ttotal: 326ms\tremaining: 219ms\n",
      "598:\tlearn: 0.0207353\ttotal: 326ms\tremaining: 218ms\n",
      "599:\tlearn: 0.0206476\ttotal: 327ms\tremaining: 218ms\n",
      "600:\tlearn: 0.0205369\ttotal: 327ms\tremaining: 217ms\n",
      "601:\tlearn: 0.0204284\ttotal: 327ms\tremaining: 216ms\n",
      "602:\tlearn: 0.0203046\ttotal: 328ms\tremaining: 216ms\n",
      "603:\tlearn: 0.0202199\ttotal: 328ms\tremaining: 215ms\n",
      "604:\tlearn: 0.0201542\ttotal: 329ms\tremaining: 215ms\n",
      "605:\tlearn: 0.0200661\ttotal: 329ms\tremaining: 214ms\n",
      "606:\tlearn: 0.0199838\ttotal: 330ms\tremaining: 214ms\n",
      "607:\tlearn: 0.0199009\ttotal: 330ms\tremaining: 213ms\n",
      "608:\tlearn: 0.0198203\ttotal: 331ms\tremaining: 212ms\n",
      "609:\tlearn: 0.0197383\ttotal: 331ms\tremaining: 212ms\n",
      "610:\tlearn: 0.0196466\ttotal: 332ms\tremaining: 211ms\n",
      "611:\tlearn: 0.0195568\ttotal: 332ms\tremaining: 211ms\n",
      "612:\tlearn: 0.0194688\ttotal: 333ms\tremaining: 210ms\n",
      "613:\tlearn: 0.0193910\ttotal: 333ms\tremaining: 209ms\n",
      "614:\tlearn: 0.0192764\ttotal: 334ms\tremaining: 209ms\n",
      "615:\tlearn: 0.0191963\ttotal: 334ms\tremaining: 208ms\n",
      "616:\tlearn: 0.0191113\ttotal: 335ms\tremaining: 208ms\n",
      "617:\tlearn: 0.0190366\ttotal: 335ms\tremaining: 207ms\n",
      "618:\tlearn: 0.0189760\ttotal: 336ms\tremaining: 207ms\n",
      "619:\tlearn: 0.0188980\ttotal: 336ms\tremaining: 206ms\n",
      "620:\tlearn: 0.0188157\ttotal: 337ms\tremaining: 206ms\n",
      "621:\tlearn: 0.0187066\ttotal: 337ms\tremaining: 205ms\n",
      "622:\tlearn: 0.0186479\ttotal: 338ms\tremaining: 204ms\n",
      "623:\tlearn: 0.0185767\ttotal: 338ms\tremaining: 204ms\n",
      "624:\tlearn: 0.0185011\ttotal: 339ms\tremaining: 203ms\n",
      "625:\tlearn: 0.0184326\ttotal: 339ms\tremaining: 203ms\n",
      "626:\tlearn: 0.0183587\ttotal: 339ms\tremaining: 202ms\n",
      "627:\tlearn: 0.0182770\ttotal: 340ms\tremaining: 201ms\n",
      "628:\tlearn: 0.0182045\ttotal: 340ms\tremaining: 201ms\n",
      "629:\tlearn: 0.0181477\ttotal: 341ms\tremaining: 200ms\n",
      "630:\tlearn: 0.0180766\ttotal: 341ms\tremaining: 199ms\n",
      "631:\tlearn: 0.0180049\ttotal: 341ms\tremaining: 199ms\n",
      "632:\tlearn: 0.0179372\ttotal: 342ms\tremaining: 198ms\n",
      "633:\tlearn: 0.0178227\ttotal: 342ms\tremaining: 198ms\n",
      "634:\tlearn: 0.0177467\ttotal: 343ms\tremaining: 197ms\n",
      "635:\tlearn: 0.0176349\ttotal: 343ms\tremaining: 196ms\n",
      "636:\tlearn: 0.0175596\ttotal: 344ms\tremaining: 196ms\n",
      "637:\tlearn: 0.0175240\ttotal: 344ms\tremaining: 195ms\n",
      "638:\tlearn: 0.0174560\ttotal: 344ms\tremaining: 195ms\n",
      "639:\tlearn: 0.0174130\ttotal: 345ms\tremaining: 194ms\n",
      "640:\tlearn: 0.0173698\ttotal: 345ms\tremaining: 193ms\n",
      "641:\tlearn: 0.0173429\ttotal: 346ms\tremaining: 193ms\n",
      "642:\tlearn: 0.0172981\ttotal: 347ms\tremaining: 192ms\n",
      "643:\tlearn: 0.0172571\ttotal: 347ms\tremaining: 192ms\n",
      "644:\tlearn: 0.0172308\ttotal: 348ms\tremaining: 191ms\n",
      "645:\tlearn: 0.0171357\ttotal: 348ms\tremaining: 191ms\n"
     ]
    },
    {
     "name": "stdout",
     "output_type": "stream",
     "text": [
      "646:\tlearn: 0.0170305\ttotal: 349ms\tremaining: 190ms\n",
      "647:\tlearn: 0.0169986\ttotal: 349ms\tremaining: 190ms\n",
      "648:\tlearn: 0.0168957\ttotal: 350ms\tremaining: 189ms\n",
      "649:\tlearn: 0.0168257\ttotal: 350ms\tremaining: 189ms\n",
      "650:\tlearn: 0.0167536\ttotal: 351ms\tremaining: 188ms\n",
      "651:\tlearn: 0.0167242\ttotal: 351ms\tremaining: 187ms\n",
      "652:\tlearn: 0.0167076\ttotal: 352ms\tremaining: 187ms\n",
      "653:\tlearn: 0.0166079\ttotal: 352ms\tremaining: 186ms\n",
      "654:\tlearn: 0.0165695\ttotal: 353ms\tremaining: 186ms\n",
      "655:\tlearn: 0.0164722\ttotal: 353ms\tremaining: 185ms\n",
      "656:\tlearn: 0.0163769\ttotal: 354ms\tremaining: 185ms\n",
      "657:\tlearn: 0.0163526\ttotal: 354ms\tremaining: 184ms\n",
      "658:\tlearn: 0.0162595\ttotal: 355ms\tremaining: 183ms\n",
      "659:\tlearn: 0.0162302\ttotal: 355ms\tremaining: 183ms\n",
      "660:\tlearn: 0.0161391\ttotal: 355ms\tremaining: 182ms\n",
      "661:\tlearn: 0.0161106\ttotal: 356ms\tremaining: 182ms\n",
      "662:\tlearn: 0.0160215\ttotal: 356ms\tremaining: 181ms\n",
      "663:\tlearn: 0.0159954\ttotal: 357ms\tremaining: 181ms\n",
      "664:\tlearn: 0.0159083\ttotal: 357ms\tremaining: 180ms\n",
      "665:\tlearn: 0.0158483\ttotal: 358ms\tremaining: 179ms\n",
      "666:\tlearn: 0.0158259\ttotal: 358ms\tremaining: 179ms\n",
      "667:\tlearn: 0.0158115\ttotal: 359ms\tremaining: 178ms\n",
      "668:\tlearn: 0.0157410\ttotal: 359ms\tremaining: 178ms\n",
      "669:\tlearn: 0.0156570\ttotal: 360ms\tremaining: 177ms\n",
      "670:\tlearn: 0.0155749\ttotal: 360ms\tremaining: 176ms\n",
      "671:\tlearn: 0.0155052\ttotal: 361ms\tremaining: 176ms\n",
      "672:\tlearn: 0.0154787\ttotal: 361ms\tremaining: 175ms\n",
      "673:\tlearn: 0.0154171\ttotal: 362ms\tremaining: 175ms\n",
      "674:\tlearn: 0.0153500\ttotal: 362ms\tremaining: 174ms\n",
      "675:\tlearn: 0.0153257\ttotal: 363ms\tremaining: 174ms\n",
      "676:\tlearn: 0.0152324\ttotal: 364ms\tremaining: 173ms\n",
      "677:\tlearn: 0.0151674\ttotal: 364ms\tremaining: 173ms\n",
      "678:\tlearn: 0.0150852\ttotal: 365ms\tremaining: 172ms\n",
      "679:\tlearn: 0.0150369\ttotal: 365ms\tremaining: 172ms\n",
      "680:\tlearn: 0.0149724\ttotal: 366ms\tremaining: 171ms\n",
      "681:\tlearn: 0.0149256\ttotal: 366ms\tremaining: 171ms\n",
      "682:\tlearn: 0.0148554\ttotal: 367ms\tremaining: 170ms\n",
      "683:\tlearn: 0.0147758\ttotal: 367ms\tremaining: 170ms\n",
      "684:\tlearn: 0.0147303\ttotal: 368ms\tremaining: 169ms\n",
      "685:\tlearn: 0.0146860\ttotal: 368ms\tremaining: 169ms\n",
      "686:\tlearn: 0.0146429\ttotal: 369ms\tremaining: 168ms\n",
      "687:\tlearn: 0.0145824\ttotal: 369ms\tremaining: 167ms\n",
      "688:\tlearn: 0.0145285\ttotal: 369ms\tremaining: 167ms\n",
      "689:\tlearn: 0.0144926\ttotal: 370ms\tremaining: 166ms\n",
      "690:\tlearn: 0.0144413\ttotal: 370ms\tremaining: 166ms\n",
      "691:\tlearn: 0.0143887\ttotal: 371ms\tremaining: 165ms\n",
      "692:\tlearn: 0.0143307\ttotal: 371ms\tremaining: 165ms\n",
      "693:\tlearn: 0.0142892\ttotal: 372ms\tremaining: 164ms\n",
      "694:\tlearn: 0.0142552\ttotal: 372ms\tremaining: 163ms\n",
      "695:\tlearn: 0.0142149\ttotal: 373ms\tremaining: 163ms\n",
      "696:\tlearn: 0.0141398\ttotal: 373ms\tremaining: 162ms\n",
      "697:\tlearn: 0.0141149\ttotal: 374ms\tremaining: 162ms\n",
      "698:\tlearn: 0.0140416\ttotal: 374ms\tremaining: 161ms\n",
      "699:\tlearn: 0.0139936\ttotal: 375ms\tremaining: 161ms\n",
      "700:\tlearn: 0.0139441\ttotal: 375ms\tremaining: 160ms\n",
      "701:\tlearn: 0.0138878\ttotal: 376ms\tremaining: 160ms\n",
      "702:\tlearn: 0.0138394\ttotal: 376ms\tremaining: 159ms\n",
      "703:\tlearn: 0.0137849\ttotal: 377ms\tremaining: 158ms\n",
      "704:\tlearn: 0.0137380\ttotal: 377ms\tremaining: 158ms\n",
      "705:\tlearn: 0.0137055\ttotal: 378ms\tremaining: 157ms\n",
      "706:\tlearn: 0.0136773\ttotal: 378ms\tremaining: 157ms\n",
      "707:\tlearn: 0.0136063\ttotal: 378ms\tremaining: 156ms\n",
      "708:\tlearn: 0.0135706\ttotal: 379ms\tremaining: 155ms\n",
      "709:\tlearn: 0.0135357\ttotal: 379ms\tremaining: 155ms\n",
      "710:\tlearn: 0.0135083\ttotal: 380ms\tremaining: 154ms\n",
      "711:\tlearn: 0.0134402\ttotal: 380ms\tremaining: 154ms\n",
      "712:\tlearn: 0.0133710\ttotal: 381ms\tremaining: 153ms\n",
      "713:\tlearn: 0.0133058\ttotal: 381ms\tremaining: 153ms\n",
      "714:\tlearn: 0.0132384\ttotal: 382ms\tremaining: 152ms\n",
      "715:\tlearn: 0.0132119\ttotal: 382ms\tremaining: 152ms\n",
      "716:\tlearn: 0.0131461\ttotal: 383ms\tremaining: 151ms\n",
      "717:\tlearn: 0.0130934\ttotal: 383ms\tremaining: 150ms\n",
      "718:\tlearn: 0.0130311\ttotal: 384ms\tremaining: 150ms\n",
      "719:\tlearn: 0.0129976\ttotal: 384ms\tremaining: 149ms\n",
      "720:\tlearn: 0.0129519\ttotal: 385ms\tremaining: 149ms\n",
      "721:\tlearn: 0.0129259\ttotal: 385ms\tremaining: 148ms\n",
      "722:\tlearn: 0.0128933\ttotal: 385ms\tremaining: 148ms\n",
      "723:\tlearn: 0.0128506\ttotal: 386ms\tremaining: 147ms\n",
      "724:\tlearn: 0.0127877\ttotal: 386ms\tremaining: 146ms\n",
      "725:\tlearn: 0.0127252\ttotal: 387ms\tremaining: 146ms\n",
      "726:\tlearn: 0.0126626\ttotal: 387ms\tremaining: 145ms\n",
      "727:\tlearn: 0.0126376\ttotal: 388ms\tremaining: 145ms\n",
      "728:\tlearn: 0.0125765\ttotal: 388ms\tremaining: 144ms\n",
      "729:\tlearn: 0.0125450\ttotal: 389ms\tremaining: 144ms\n",
      "730:\tlearn: 0.0124988\ttotal: 389ms\tremaining: 143ms\n",
      "731:\tlearn: 0.0124390\ttotal: 390ms\tremaining: 143ms\n",
      "732:\tlearn: 0.0123800\ttotal: 390ms\tremaining: 142ms\n",
      "733:\tlearn: 0.0123495\ttotal: 391ms\tremaining: 142ms\n",
      "734:\tlearn: 0.0123012\ttotal: 391ms\tremaining: 141ms\n",
      "735:\tlearn: 0.0122433\ttotal: 392ms\tremaining: 141ms\n",
      "736:\tlearn: 0.0121868\ttotal: 392ms\tremaining: 140ms\n",
      "737:\tlearn: 0.0121569\ttotal: 393ms\tremaining: 139ms\n",
      "738:\tlearn: 0.0121016\ttotal: 393ms\tremaining: 139ms\n",
      "739:\tlearn: 0.0120776\ttotal: 394ms\tremaining: 138ms\n",
      "740:\tlearn: 0.0120235\ttotal: 394ms\tremaining: 138ms\n",
      "741:\tlearn: 0.0119765\ttotal: 395ms\tremaining: 137ms\n",
      "742:\tlearn: 0.0119236\ttotal: 396ms\tremaining: 137ms\n",
      "743:\tlearn: 0.0118718\ttotal: 396ms\tremaining: 136ms\n",
      "744:\tlearn: 0.0118290\ttotal: 396ms\tremaining: 136ms\n",
      "745:\tlearn: 0.0117783\ttotal: 397ms\tremaining: 135ms\n",
      "746:\tlearn: 0.0117402\ttotal: 397ms\tremaining: 135ms\n",
      "747:\tlearn: 0.0116947\ttotal: 398ms\tremaining: 134ms\n",
      "748:\tlearn: 0.0116587\ttotal: 398ms\tremaining: 134ms\n",
      "749:\tlearn: 0.0116418\ttotal: 399ms\tremaining: 133ms\n",
      "750:\tlearn: 0.0115784\ttotal: 399ms\tremaining: 132ms\n",
      "751:\tlearn: 0.0115373\ttotal: 400ms\tremaining: 132ms\n",
      "752:\tlearn: 0.0115206\ttotal: 400ms\tremaining: 131ms\n",
      "753:\tlearn: 0.0114919\ttotal: 401ms\tremaining: 131ms\n",
      "754:\tlearn: 0.0114351\ttotal: 401ms\tremaining: 130ms\n",
      "755:\tlearn: 0.0114187\ttotal: 402ms\tremaining: 130ms\n",
      "756:\tlearn: 0.0113590\ttotal: 402ms\tremaining: 129ms\n",
      "757:\tlearn: 0.0113429\ttotal: 403ms\tremaining: 129ms\n",
      "758:\tlearn: 0.0113171\ttotal: 403ms\tremaining: 128ms\n",
      "759:\tlearn: 0.0112901\ttotal: 403ms\tremaining: 127ms\n",
      "760:\tlearn: 0.0112636\ttotal: 404ms\tremaining: 127ms\n",
      "761:\tlearn: 0.0112318\ttotal: 404ms\tremaining: 126ms\n",
      "762:\tlearn: 0.0111968\ttotal: 405ms\tremaining: 126ms\n",
      "763:\tlearn: 0.0111626\ttotal: 406ms\tremaining: 125ms\n",
      "764:\tlearn: 0.0111244\ttotal: 406ms\tremaining: 125ms\n",
      "765:\tlearn: 0.0110912\ttotal: 407ms\tremaining: 124ms\n",
      "766:\tlearn: 0.0110501\ttotal: 407ms\tremaining: 124ms\n",
      "767:\tlearn: 0.0110207\ttotal: 408ms\tremaining: 123ms\n",
      "768:\tlearn: 0.0109882\ttotal: 408ms\tremaining: 123ms\n",
      "769:\tlearn: 0.0109594\ttotal: 409ms\tremaining: 122ms\n",
      "770:\tlearn: 0.0109268\ttotal: 409ms\tremaining: 122ms\n",
      "771:\tlearn: 0.0108988\ttotal: 410ms\tremaining: 121ms\n",
      "772:\tlearn: 0.0108386\ttotal: 411ms\tremaining: 121ms\n",
      "773:\tlearn: 0.0108028\ttotal: 411ms\tremaining: 120ms\n",
      "774:\tlearn: 0.0107877\ttotal: 412ms\tremaining: 120ms\n",
      "775:\tlearn: 0.0107482\ttotal: 412ms\tremaining: 119ms\n",
      "776:\tlearn: 0.0106899\ttotal: 413ms\tremaining: 119ms\n",
      "777:\tlearn: 0.0106632\ttotal: 413ms\tremaining: 118ms\n",
      "778:\tlearn: 0.0106328\ttotal: 414ms\tremaining: 117ms\n",
      "779:\tlearn: 0.0106058\ttotal: 414ms\tremaining: 117ms\n",
      "780:\tlearn: 0.0105760\ttotal: 415ms\tremaining: 116ms\n",
      "781:\tlearn: 0.0105496\ttotal: 415ms\tremaining: 116ms\n",
      "782:\tlearn: 0.0105163\ttotal: 416ms\tremaining: 115ms\n",
      "783:\tlearn: 0.0104863\ttotal: 416ms\tremaining: 115ms\n",
      "784:\tlearn: 0.0104358\ttotal: 417ms\tremaining: 114ms\n",
      "785:\tlearn: 0.0104072\ttotal: 417ms\tremaining: 114ms\n",
      "786:\tlearn: 0.0103564\ttotal: 418ms\tremaining: 113ms\n",
      "787:\tlearn: 0.0103312\ttotal: 419ms\tremaining: 113ms\n",
      "788:\tlearn: 0.0102786\ttotal: 419ms\tremaining: 112ms\n",
      "789:\tlearn: 0.0102517\ttotal: 420ms\tremaining: 112ms\n",
      "790:\tlearn: 0.0102045\ttotal: 420ms\tremaining: 111ms\n",
      "791:\tlearn: 0.0101526\ttotal: 421ms\tremaining: 111ms\n",
      "792:\tlearn: 0.0101284\ttotal: 422ms\tremaining: 110ms\n",
      "793:\tlearn: 0.0100804\ttotal: 422ms\tremaining: 110ms\n",
      "794:\tlearn: 0.0100347\ttotal: 423ms\tremaining: 109ms\n",
      "795:\tlearn: 0.0099900\ttotal: 423ms\tremaining: 108ms\n",
      "796:\tlearn: 0.0099583\ttotal: 424ms\tremaining: 108ms\n",
      "797:\tlearn: 0.0099305\ttotal: 425ms\tremaining: 107ms\n",
      "798:\tlearn: 0.0099050\ttotal: 425ms\tremaining: 107ms\n",
      "799:\tlearn: 0.0098802\ttotal: 426ms\tremaining: 106ms\n",
      "800:\tlearn: 0.0098360\ttotal: 426ms\tremaining: 106ms\n",
      "801:\tlearn: 0.0097925\ttotal: 427ms\tremaining: 105ms\n",
      "802:\tlearn: 0.0097468\ttotal: 428ms\tremaining: 105ms\n",
      "803:\tlearn: 0.0097016\ttotal: 428ms\tremaining: 104ms\n",
      "804:\tlearn: 0.0096578\ttotal: 429ms\tremaining: 104ms\n",
      "805:\tlearn: 0.0096287\ttotal: 429ms\tremaining: 103ms\n",
      "806:\tlearn: 0.0095858\ttotal: 430ms\tremaining: 103ms\n",
      "807:\tlearn: 0.0095687\ttotal: 431ms\tremaining: 102ms\n",
      "808:\tlearn: 0.0095212\ttotal: 431ms\tremaining: 102ms\n",
      "809:\tlearn: 0.0095020\ttotal: 432ms\tremaining: 101ms\n",
      "810:\tlearn: 0.0094852\ttotal: 432ms\tremaining: 101ms\n",
      "811:\tlearn: 0.0094637\ttotal: 432ms\tremaining: 100ms\n",
      "812:\tlearn: 0.0094471\ttotal: 433ms\tremaining: 99.6ms\n",
      "813:\tlearn: 0.0094068\ttotal: 434ms\tremaining: 99.1ms\n",
      "814:\tlearn: 0.0093905\ttotal: 434ms\tremaining: 98.6ms\n",
      "815:\tlearn: 0.0093446\ttotal: 435ms\tremaining: 98ms\n",
      "816:\tlearn: 0.0093041\ttotal: 435ms\tremaining: 97.5ms\n"
     ]
    },
    {
     "name": "stdout",
     "output_type": "stream",
     "text": [
      "817:\tlearn: 0.0092860\ttotal: 436ms\tremaining: 97ms\n",
      "818:\tlearn: 0.0092464\ttotal: 437ms\tremaining: 96.6ms\n",
      "819:\tlearn: 0.0092333\ttotal: 437ms\tremaining: 96ms\n",
      "820:\tlearn: 0.0092176\ttotal: 438ms\tremaining: 95.5ms\n",
      "821:\tlearn: 0.0092047\ttotal: 438ms\tremaining: 94.9ms\n",
      "822:\tlearn: 0.0091643\ttotal: 439ms\tremaining: 94.4ms\n",
      "823:\tlearn: 0.0091490\ttotal: 439ms\tremaining: 93.9ms\n",
      "824:\tlearn: 0.0091313\ttotal: 440ms\tremaining: 93.3ms\n",
      "825:\tlearn: 0.0091043\ttotal: 441ms\tremaining: 92.8ms\n",
      "826:\tlearn: 0.0090579\ttotal: 441ms\tremaining: 92.3ms\n",
      "827:\tlearn: 0.0090139\ttotal: 442ms\tremaining: 91.7ms\n",
      "828:\tlearn: 0.0089792\ttotal: 442ms\tremaining: 91.2ms\n",
      "829:\tlearn: 0.0089416\ttotal: 443ms\tremaining: 90.6ms\n",
      "830:\tlearn: 0.0089292\ttotal: 443ms\tremaining: 90.1ms\n",
      "831:\tlearn: 0.0088918\ttotal: 444ms\tremaining: 89.6ms\n",
      "832:\tlearn: 0.0088658\ttotal: 444ms\tremaining: 89.1ms\n",
      "833:\tlearn: 0.0088217\ttotal: 445ms\tremaining: 88.6ms\n",
      "834:\tlearn: 0.0087792\ttotal: 446ms\tremaining: 88.1ms\n",
      "835:\tlearn: 0.0087362\ttotal: 446ms\tremaining: 87.6ms\n",
      "836:\tlearn: 0.0086993\ttotal: 447ms\tremaining: 87ms\n",
      "837:\tlearn: 0.0086579\ttotal: 447ms\tremaining: 86.5ms\n",
      "838:\tlearn: 0.0086387\ttotal: 448ms\tremaining: 85.9ms\n",
      "839:\tlearn: 0.0086065\ttotal: 448ms\tremaining: 85.4ms\n",
      "840:\tlearn: 0.0085652\ttotal: 449ms\tremaining: 84.9ms\n",
      "841:\tlearn: 0.0085310\ttotal: 450ms\tremaining: 84.4ms\n",
      "842:\tlearn: 0.0084893\ttotal: 450ms\tremaining: 83.8ms\n",
      "843:\tlearn: 0.0084533\ttotal: 451ms\tremaining: 83.3ms\n",
      "844:\tlearn: 0.0084222\ttotal: 451ms\tremaining: 82.7ms\n",
      "845:\tlearn: 0.0084037\ttotal: 452ms\tremaining: 82.2ms\n",
      "846:\tlearn: 0.0083735\ttotal: 452ms\tremaining: 81.7ms\n",
      "847:\tlearn: 0.0083388\ttotal: 453ms\tremaining: 81.1ms\n",
      "848:\tlearn: 0.0082953\ttotal: 453ms\tremaining: 80.6ms\n",
      "849:\tlearn: 0.0082626\ttotal: 454ms\tremaining: 80.1ms\n",
      "850:\tlearn: 0.0082472\ttotal: 454ms\tremaining: 79.5ms\n",
      "851:\tlearn: 0.0082125\ttotal: 455ms\tremaining: 79ms\n",
      "852:\tlearn: 0.0081986\ttotal: 455ms\tremaining: 78.5ms\n",
      "853:\tlearn: 0.0081849\ttotal: 456ms\tremaining: 77.9ms\n",
      "854:\tlearn: 0.0081526\ttotal: 456ms\tremaining: 77.4ms\n",
      "855:\tlearn: 0.0081143\ttotal: 457ms\tremaining: 76.8ms\n",
      "856:\tlearn: 0.0080899\ttotal: 457ms\tremaining: 76.3ms\n",
      "857:\tlearn: 0.0080764\ttotal: 458ms\tremaining: 75.8ms\n",
      "858:\tlearn: 0.0080631\ttotal: 458ms\tremaining: 75.2ms\n",
      "859:\tlearn: 0.0080392\ttotal: 459ms\tremaining: 74.7ms\n",
      "860:\tlearn: 0.0080088\ttotal: 459ms\tremaining: 74.1ms\n",
      "861:\tlearn: 0.0079957\ttotal: 460ms\tremaining: 73.6ms\n",
      "862:\tlearn: 0.0079744\ttotal: 460ms\tremaining: 73.1ms\n",
      "863:\tlearn: 0.0079571\ttotal: 461ms\tremaining: 72.5ms\n",
      "864:\tlearn: 0.0079259\ttotal: 461ms\tremaining: 72ms\n",
      "865:\tlearn: 0.0079008\ttotal: 462ms\tremaining: 71.4ms\n",
      "866:\tlearn: 0.0078731\ttotal: 462ms\tremaining: 70.9ms\n",
      "867:\tlearn: 0.0078412\ttotal: 463ms\tremaining: 70.4ms\n",
      "868:\tlearn: 0.0078106\ttotal: 463ms\tremaining: 69.8ms\n",
      "869:\tlearn: 0.0077714\ttotal: 464ms\tremaining: 69.3ms\n",
      "870:\tlearn: 0.0077594\ttotal: 464ms\tremaining: 68.8ms\n",
      "871:\tlearn: 0.0077367\ttotal: 465ms\tremaining: 68.2ms\n",
      "872:\tlearn: 0.0077248\ttotal: 465ms\tremaining: 67.7ms\n",
      "873:\tlearn: 0.0076946\ttotal: 466ms\tremaining: 67.2ms\n",
      "874:\tlearn: 0.0076566\ttotal: 466ms\tremaining: 66.6ms\n",
      "875:\tlearn: 0.0076195\ttotal: 467ms\tremaining: 66.1ms\n",
      "876:\tlearn: 0.0075804\ttotal: 467ms\tremaining: 65.6ms\n",
      "877:\tlearn: 0.0075455\ttotal: 468ms\tremaining: 65ms\n",
      "878:\tlearn: 0.0075340\ttotal: 468ms\tremaining: 64.5ms\n",
      "879:\tlearn: 0.0075003\ttotal: 469ms\tremaining: 64ms\n",
      "880:\tlearn: 0.0074713\ttotal: 470ms\tremaining: 63.5ms\n",
      "881:\tlearn: 0.0074378\ttotal: 470ms\tremaining: 62.9ms\n",
      "882:\tlearn: 0.0074189\ttotal: 471ms\tremaining: 62.4ms\n",
      "883:\tlearn: 0.0073929\ttotal: 471ms\tremaining: 61.8ms\n",
      "884:\tlearn: 0.0073713\ttotal: 472ms\tremaining: 61.3ms\n",
      "885:\tlearn: 0.0073605\ttotal: 472ms\tremaining: 60.7ms\n",
      "886:\tlearn: 0.0073346\ttotal: 473ms\tremaining: 60.2ms\n",
      "887:\tlearn: 0.0073032\ttotal: 473ms\tremaining: 59.7ms\n",
      "888:\tlearn: 0.0072769\ttotal: 474ms\tremaining: 59.1ms\n",
      "889:\tlearn: 0.0072510\ttotal: 474ms\tremaining: 58.6ms\n",
      "890:\tlearn: 0.0072230\ttotal: 474ms\tremaining: 58ms\n",
      "891:\tlearn: 0.0071963\ttotal: 475ms\tremaining: 57.5ms\n",
      "892:\tlearn: 0.0071857\ttotal: 475ms\tremaining: 57ms\n",
      "893:\tlearn: 0.0071618\ttotal: 476ms\tremaining: 56.4ms\n",
      "894:\tlearn: 0.0071351\ttotal: 476ms\tremaining: 55.9ms\n",
      "895:\tlearn: 0.0071013\ttotal: 477ms\tremaining: 55.3ms\n",
      "896:\tlearn: 0.0070772\ttotal: 477ms\tremaining: 54.8ms\n",
      "897:\tlearn: 0.0070498\ttotal: 478ms\tremaining: 54.3ms\n",
      "898:\tlearn: 0.0070176\ttotal: 478ms\tremaining: 53.7ms\n",
      "899:\tlearn: 0.0070075\ttotal: 479ms\tremaining: 53.2ms\n",
      "900:\tlearn: 0.0069757\ttotal: 479ms\tremaining: 52.7ms\n",
      "901:\tlearn: 0.0069658\ttotal: 480ms\tremaining: 52.1ms\n",
      "902:\tlearn: 0.0069403\ttotal: 480ms\tremaining: 51.6ms\n",
      "903:\tlearn: 0.0069306\ttotal: 481ms\tremaining: 51ms\n",
      "904:\tlearn: 0.0069013\ttotal: 481ms\tremaining: 50.5ms\n",
      "905:\tlearn: 0.0068771\ttotal: 482ms\tremaining: 50ms\n",
      "906:\tlearn: 0.0068548\ttotal: 482ms\tremaining: 49.4ms\n",
      "907:\tlearn: 0.0068302\ttotal: 483ms\tremaining: 48.9ms\n",
      "908:\tlearn: 0.0068084\ttotal: 483ms\tremaining: 48.4ms\n",
      "909:\tlearn: 0.0067989\ttotal: 484ms\tremaining: 47.9ms\n",
      "910:\tlearn: 0.0067803\ttotal: 484ms\tremaining: 47.3ms\n",
      "911:\tlearn: 0.0067710\ttotal: 485ms\tremaining: 46.8ms\n",
      "912:\tlearn: 0.0067528\ttotal: 485ms\tremaining: 46.3ms\n",
      "913:\tlearn: 0.0067253\ttotal: 486ms\tremaining: 45.7ms\n",
      "914:\tlearn: 0.0067040\ttotal: 486ms\tremaining: 45.2ms\n",
      "915:\tlearn: 0.0066873\ttotal: 487ms\tremaining: 44.7ms\n",
      "916:\tlearn: 0.0066638\ttotal: 487ms\tremaining: 44.1ms\n",
      "917:\tlearn: 0.0066430\ttotal: 488ms\tremaining: 43.6ms\n",
      "918:\tlearn: 0.0066187\ttotal: 488ms\tremaining: 43.1ms\n",
      "919:\tlearn: 0.0065931\ttotal: 489ms\tremaining: 42.5ms\n",
      "920:\tlearn: 0.0065727\ttotal: 490ms\tremaining: 42ms\n",
      "921:\tlearn: 0.0065565\ttotal: 490ms\tremaining: 41.4ms\n",
      "922:\tlearn: 0.0065397\ttotal: 490ms\tremaining: 40.9ms\n",
      "923:\tlearn: 0.0065148\ttotal: 491ms\tremaining: 40.4ms\n",
      "924:\tlearn: 0.0064879\ttotal: 491ms\tremaining: 39.8ms\n",
      "925:\tlearn: 0.0064715\ttotal: 492ms\tremaining: 39.3ms\n",
      "926:\tlearn: 0.0064518\ttotal: 492ms\tremaining: 38.8ms\n",
      "927:\tlearn: 0.0064282\ttotal: 493ms\tremaining: 38.2ms\n",
      "928:\tlearn: 0.0064121\ttotal: 493ms\tremaining: 37.7ms\n",
      "929:\tlearn: 0.0063890\ttotal: 494ms\tremaining: 37.2ms\n",
      "930:\tlearn: 0.0063649\ttotal: 494ms\tremaining: 36.6ms\n",
      "931:\tlearn: 0.0063391\ttotal: 495ms\tremaining: 36.1ms\n",
      "932:\tlearn: 0.0063163\ttotal: 495ms\tremaining: 35.6ms\n",
      "933:\tlearn: 0.0062972\ttotal: 496ms\tremaining: 35ms\n",
      "934:\tlearn: 0.0062760\ttotal: 496ms\tremaining: 34.5ms\n",
      "935:\tlearn: 0.0062680\ttotal: 497ms\tremaining: 34ms\n",
      "936:\tlearn: 0.0062501\ttotal: 497ms\tremaining: 33.4ms\n",
      "937:\tlearn: 0.0062321\ttotal: 498ms\tremaining: 32.9ms\n",
      "938:\tlearn: 0.0062242\ttotal: 498ms\tremaining: 32.4ms\n",
      "939:\tlearn: 0.0062165\ttotal: 499ms\tremaining: 31.9ms\n",
      "940:\tlearn: 0.0061941\ttotal: 500ms\tremaining: 31.3ms\n",
      "941:\tlearn: 0.0061706\ttotal: 500ms\tremaining: 30.8ms\n",
      "942:\tlearn: 0.0061511\ttotal: 501ms\tremaining: 30.3ms\n",
      "943:\tlearn: 0.0061283\ttotal: 501ms\tremaining: 29.7ms\n",
      "944:\tlearn: 0.0061059\ttotal: 502ms\tremaining: 29.2ms\n",
      "945:\tlearn: 0.0060884\ttotal: 502ms\tremaining: 28.7ms\n",
      "946:\tlearn: 0.0060688\ttotal: 503ms\tremaining: 28.1ms\n",
      "947:\tlearn: 0.0060452\ttotal: 503ms\tremaining: 27.6ms\n",
      "948:\tlearn: 0.0060285\ttotal: 504ms\tremaining: 27.1ms\n",
      "949:\tlearn: 0.0060057\ttotal: 504ms\tremaining: 26.5ms\n",
      "950:\tlearn: 0.0059882\ttotal: 505ms\tremaining: 26ms\n",
      "951:\tlearn: 0.0059747\ttotal: 505ms\tremaining: 25.5ms\n",
      "952:\tlearn: 0.0059523\ttotal: 506ms\tremaining: 24.9ms\n",
      "953:\tlearn: 0.0059277\ttotal: 506ms\tremaining: 24.4ms\n",
      "954:\tlearn: 0.0059068\ttotal: 507ms\tremaining: 23.9ms\n",
      "955:\tlearn: 0.0058908\ttotal: 507ms\tremaining: 23.3ms\n",
      "956:\tlearn: 0.0058739\ttotal: 508ms\tremaining: 22.8ms\n",
      "957:\tlearn: 0.0058559\ttotal: 508ms\tremaining: 22.3ms\n",
      "958:\tlearn: 0.0058402\ttotal: 509ms\tremaining: 21.7ms\n",
      "959:\tlearn: 0.0058214\ttotal: 509ms\tremaining: 21.2ms\n",
      "960:\tlearn: 0.0057976\ttotal: 510ms\tremaining: 20.7ms\n",
      "961:\tlearn: 0.0057843\ttotal: 510ms\tremaining: 20.2ms\n",
      "962:\tlearn: 0.0057639\ttotal: 511ms\tremaining: 19.6ms\n",
      "963:\tlearn: 0.0057444\ttotal: 511ms\tremaining: 19.1ms\n",
      "964:\tlearn: 0.0057213\ttotal: 512ms\tremaining: 18.6ms\n",
      "965:\tlearn: 0.0056998\ttotal: 512ms\tremaining: 18ms\n",
      "966:\tlearn: 0.0056814\ttotal: 513ms\tremaining: 17.5ms\n",
      "967:\tlearn: 0.0056590\ttotal: 513ms\tremaining: 17ms\n",
      "968:\tlearn: 0.0056368\ttotal: 514ms\tremaining: 16.4ms\n",
      "969:\tlearn: 0.0056126\ttotal: 515ms\tremaining: 15.9ms\n",
      "970:\tlearn: 0.0055933\ttotal: 515ms\tremaining: 15.4ms\n",
      "971:\tlearn: 0.0055710\ttotal: 516ms\tremaining: 14.9ms\n",
      "972:\tlearn: 0.0055583\ttotal: 516ms\tremaining: 14.3ms\n",
      "973:\tlearn: 0.0055396\ttotal: 517ms\tremaining: 13.8ms\n",
      "974:\tlearn: 0.0055215\ttotal: 517ms\tremaining: 13.3ms\n",
      "975:\tlearn: 0.0054999\ttotal: 518ms\tremaining: 12.7ms\n",
      "976:\tlearn: 0.0054875\ttotal: 518ms\tremaining: 12.2ms\n",
      "977:\tlearn: 0.0054660\ttotal: 519ms\tremaining: 11.7ms\n",
      "978:\tlearn: 0.0054505\ttotal: 519ms\tremaining: 11.1ms\n",
      "979:\tlearn: 0.0054324\ttotal: 520ms\tremaining: 10.6ms\n",
      "980:\tlearn: 0.0054231\ttotal: 520ms\tremaining: 10.1ms\n",
      "981:\tlearn: 0.0054020\ttotal: 521ms\tremaining: 9.54ms\n",
      "982:\tlearn: 0.0053929\ttotal: 521ms\tremaining: 9.01ms\n",
      "983:\tlearn: 0.0053749\ttotal: 522ms\tremaining: 8.48ms\n",
      "984:\tlearn: 0.0053548\ttotal: 522ms\tremaining: 7.95ms\n",
      "985:\tlearn: 0.0053356\ttotal: 523ms\tremaining: 7.42ms\n",
      "986:\tlearn: 0.0053157\ttotal: 523ms\tremaining: 6.89ms\n",
      "987:\tlearn: 0.0053068\ttotal: 524ms\tremaining: 6.36ms\n",
      "988:\tlearn: 0.0052980\ttotal: 524ms\tremaining: 5.83ms\n",
      "989:\tlearn: 0.0052879\ttotal: 525ms\tremaining: 5.3ms\n",
      "990:\tlearn: 0.0052692\ttotal: 525ms\tremaining: 4.77ms\n"
     ]
    },
    {
     "name": "stdout",
     "output_type": "stream",
     "text": [
      "991:\tlearn: 0.0052605\ttotal: 526ms\tremaining: 4.24ms\n",
      "992:\tlearn: 0.0052458\ttotal: 527ms\tremaining: 3.71ms\n",
      "993:\tlearn: 0.0052372\ttotal: 527ms\tremaining: 3.18ms\n",
      "994:\tlearn: 0.0052189\ttotal: 528ms\tremaining: 2.65ms\n",
      "995:\tlearn: 0.0052104\ttotal: 529ms\tremaining: 2.12ms\n",
      "996:\tlearn: 0.0052007\ttotal: 529ms\tremaining: 1.59ms\n",
      "997:\tlearn: 0.0051829\ttotal: 530ms\tremaining: 1.06ms\n",
      "998:\tlearn: 0.0051745\ttotal: 530ms\tremaining: 530us\n",
      "999:\tlearn: 0.0051554\ttotal: 531ms\tremaining: 0us\n"
     ]
    },
    {
     "data": {
      "text/plain": [
       "<catboost.core.CatBoostRegressor at 0x7fc71b077a90>"
      ]
     },
     "execution_count": 9,
     "metadata": {},
     "output_type": "execute_result"
    }
   ],
   "source": [
    "#Train the Model \n",
    "prior_model = ctb.CatBoostRegressor()\n",
    "prior_model.fit(X_train,Y_train)"
   ]
  },
  {
   "cell_type": "code",
   "execution_count": 10,
   "id": "af65dcda",
   "metadata": {
    "execution": {
     "iopub.execute_input": "2022-03-16T13:33:57.514684Z",
     "iopub.status.busy": "2022-03-16T13:33:57.514142Z",
     "iopub.status.idle": "2022-03-16T13:33:57.525277Z",
     "shell.execute_reply": "2022-03-16T13:33:57.525732Z"
    },
    "id": "af65dcda",
    "papermill": {
     "duration": 0.031058,
     "end_time": "2022-03-16T13:33:57.525891",
     "exception": false,
     "start_time": "2022-03-16T13:33:57.494833",
     "status": "completed"
    },
    "tags": []
   },
   "outputs": [
    {
     "data": {
      "application/scrapbook.scrap.json+json": {
       "data": 0.03871949387122022,
       "encoder": "json",
       "name": "Prior Model MSE",
       "version": 1
      }
     },
     "metadata": {
      "scrapbook": {
       "data": true,
       "display": false,
       "name": "Prior Model MSE"
      }
     },
     "output_type": "display_data"
    },
    {
     "data": {
      "application/scrapbook.scrap.json+json": {
       "data": 0.04094984114034371,
       "encoder": "json",
       "name": "ABC Pre-generator MSE",
       "version": 1
      }
     },
     "metadata": {
      "scrapbook": {
       "data": true,
       "display": false,
       "name": "ABC Pre-generator MSE"
      }
     },
     "output_type": "display_data"
    },
    {
     "data": {
      "application/scrapbook.scrap.json+json": {
       "data": 0.13119554545209913,
       "encoder": "json",
       "name": "Prior Model MSE",
       "version": 1
      }
     },
     "metadata": {
      "scrapbook": {
       "data": true,
       "display": false,
       "name": "Prior Model MSE"
      }
     },
     "output_type": "display_data"
    },
    {
     "data": {
      "application/scrapbook.scrap.json+json": {
       "data": 0.13432613491365747,
       "encoder": "json",
       "name": "ABC Pre-generator MSE",
       "version": 1
      }
     },
     "metadata": {
      "scrapbook": {
       "data": true,
       "display": false,
       "name": "ABC Pre-generator MSE"
      }
     },
     "output_type": "display_data"
    }
   ],
   "source": [
    "y_pred = prior_model.predict(X_test)\n",
    "y_abc = y_pred + np.random.normal(0,variance, y_pred.shape) + bias \n",
    "mse = mean_squared_error(y_pred,Y_test)\n",
    "sb.glue(\"Prior Model MSE\",mse)\n",
    "mse = mean_squared_error(y_abc,Y_test)\n",
    "sb.glue(\"ABC Pre-generator MSE\",mse)\n",
    "mae = mean_absolute_error(y_pred,Y_test)\n",
    "sb.glue(\"Prior Model MSE\",mae)\n",
    "mae = mean_absolute_error(y_abc,Y_test)\n",
    "sb.glue(\"ABC Pre-generator MSE\",mae)"
   ]
  },
  {
   "cell_type": "markdown",
   "id": "25609da2",
   "metadata": {
    "papermill": {
     "duration": 0.01517,
     "end_time": "2022-03-16T13:33:57.556760",
     "exception": false,
     "start_time": "2022-03-16T13:33:57.541590",
     "status": "completed"
    },
    "tags": []
   },
   "source": [
    "# ABC GAN Model"
   ]
  },
  {
   "cell_type": "code",
   "execution_count": 11,
   "id": "dfc3464d",
   "metadata": {
    "execution": {
     "iopub.execute_input": "2022-03-16T13:33:57.591557Z",
     "iopub.status.busy": "2022-03-16T13:33:57.591025Z",
     "iopub.status.idle": "2022-03-16T13:33:57.594155Z",
     "shell.execute_reply": "2022-03-16T13:33:57.594518Z"
    },
    "papermill": {
     "duration": 0.022735,
     "end_time": "2022-03-16T13:33:57.594665",
     "exception": false,
     "start_time": "2022-03-16T13:33:57.571930",
     "status": "completed"
    },
    "tags": []
   },
   "outputs": [],
   "source": [
    "gen = network.Generator(n_features+1).to(device)\n",
    "disc = network.Discriminator(n_features+1).to(device)\n",
    "\n",
    "criterion = torch.nn.BCELoss()\n",
    "gen_opt = torch.optim.Adam(gen.parameters(), lr=0.001, betas=(0.5, 0.999))\n",
    "disc_opt = torch.optim.Adam(disc.parameters(), lr=0.001, betas=(0.5, 0.999))"
   ]
  },
  {
   "cell_type": "code",
   "execution_count": 12,
   "id": "b75fdd85",
   "metadata": {
    "execution": {
     "iopub.execute_input": "2022-03-16T13:33:57.629541Z",
     "iopub.status.busy": "2022-03-16T13:33:57.629018Z",
     "iopub.status.idle": "2022-03-16T13:34:14.173052Z",
     "shell.execute_reply": "2022-03-16T13:34:14.173412Z"
    },
    "papermill": {
     "duration": 16.562839,
     "end_time": "2022-03-16T13:34:14.173550",
     "exception": false,
     "start_time": "2022-03-16T13:33:57.610711",
     "status": "completed"
    },
    "tags": []
   },
   "outputs": [
    {
     "data": {
      "image/png": "[encoded data removed]",
      "text/plain": [
       "<Figure size 432x288 with 1 Axes>"
      ]
     },
     "metadata": {
      "needs_background": "light"
     },
     "output_type": "display_data"
    },
    {
     "data": {
      "image/png": "[encoded data removed]",
      "text/plain": [
       "<Figure size 432x288 with 1 Axes>"
      ]
     },
     "metadata": {
      "needs_background": "light"
     },
     "output_type": "display_data"
    }
   ],
   "source": [
    "#Training the ABC_GAN \n",
    "ABC_train_test2.training_GAN(disc,gen,disc_opt,gen_opt,train_data,batch_size,n_epochs,criterion,prior_model,variance,bias,device)"
   ]
  },
  {
   "cell_type": "code",
   "execution_count": 13,
   "id": "1fa7c368",
   "metadata": {
    "execution": {
     "iopub.execute_input": "2022-03-16T13:34:14.202907Z",
     "iopub.status.busy": "2022-03-16T13:34:14.202484Z",
     "iopub.status.idle": "2022-03-16T13:34:14.402638Z",
     "shell.execute_reply": "2022-03-16T13:34:14.403134Z"
    },
    "papermill": {
     "duration": 0.216097,
     "end_time": "2022-03-16T13:34:14.403280",
     "exception": false,
     "start_time": "2022-03-16T13:34:14.187183",
     "status": "completed"
    },
    "tags": []
   },
   "outputs": [
    {
     "data": {
      "application/scrapbook.scrap.json+json": {
       "data": 0.024745009371781392,
       "encoder": "json",
       "name": "ABC-GAN Model 1 MSE",
       "version": 1
      }
     },
     "metadata": {
      "scrapbook": {
       "data": true,
       "display": false,
       "name": "ABC-GAN Model 1 MSE"
      }
     },
     "output_type": "display_data"
    },
    {
     "data": {
      "application/scrapbook.scrap.json+json": {
       "data": 0.10144837492890656,
       "encoder": "json",
       "name": "ABC-GAN Model 1 MAE",
       "version": 1
      }
     },
     "metadata": {
      "scrapbook": {
       "data": true,
       "display": false,
       "name": "ABC-GAN Model 1 MAE"
      }
     },
     "output_type": "display_data"
    },
    {
     "data": {
      "application/scrapbook.scrap.json+json": {
       "data": 2.0289674985781314,
       "encoder": "json",
       "name": "ABC-GAN Model 1 Manhattan Distance",
       "version": 1
      }
     },
     "metadata": {
      "scrapbook": {
       "data": true,
       "display": false,
       "name": "ABC-GAN Model 1 Manhattan Distance"
      }
     },
     "output_type": "display_data"
    },
    {
     "data": {
      "application/scrapbook.scrap.json+json": {
       "data": 0.7034606162164367,
       "encoder": "json",
       "name": "ABC-GAN Model 1 Euclidean distance",
       "version": 1
      }
     },
     "metadata": {
      "scrapbook": {
       "data": true,
       "display": false,
       "name": "ABC-GAN Model 1 Euclidean distance"
      }
     },
     "output_type": "display_data"
    },
    {
     "data": {
      "application/scrapbook.scrap.json+json": {
       "data": [
        [
         0.02423428742678202,
         0.025334775102117447,
         0.024916982559606074,
         0.02418331452896954,
         0.024812195020898282,
         0.02418561693539307,
         0.02371527172593719,
         0.024804022840596678,
         0.024722589629444784,
         0.024355771018080934,
         0.023792985249805686,
         0.025184105585094634,
         0.02476554871338813,
         0.02549592154390757,
         0.026024706544120174,
         0.024914737404583394,
         0.024802235557241842,
         0.025325480518722788,
         0.024290551814170332,
         0.025621300022091325,
         0.025180775715916037,
         0.025033270513387346,
         0.025305634056258443,
         0.0247796856286331,
         0.024926472735163404,
         0.02468996989149271,
         0.024870211843053318,
         0.024669923592816702,
         0.025348102665122475,
         0.025442539277285688,
         0.02504209496285159,
         0.024923529284862838,
         0.02489044407366922,
         0.023783214424990973,
         0.024620845108538673,
         0.02475019553959467,
         0.02493366215657041,
         0.024642708471547967,
         0.024025888425480448,
         0.024552231157878742,
         0.02445134772741025,
         0.025485145035304625,
         0.024495914625820008,
         0.024230995332534828,
         0.024590451243545527,
         0.02530347855583918,
         0.02508237918967861,
         0.023970443854853824,
         0.025011524717977223,
         0.024886256798170563,
         0.0248716471529369,
         0.02455504445171632,
         0.025017401071771472,
         0.024726589443449683,
         0.02487511105183408,
         0.024430287001601873,
         0.025688788240971983,
         0.024329947587839497,
         0.025572814510367657,
         0.024796251708644697,
         0.024289078319843282,
         0.02529224434959223,
         0.024810441562421567,
         0.025221360056519614,
         0.024073596284849823,
         0.024753195324186558,
         0.02413845715797157,
         0.024653601492644683,
         0.02482552666288205,
         0.02511116374575938,
         0.02476933546647326,
         0.024420983254937544,
         0.024527097609444732,
         0.024606018495567924,
         0.02494363946575135,
         0.024417067616235414,
         0.024717110938293273,
         0.025385504131471327,
         0.02445951786487585,
         0.024995599606319342,
         0.024034488154170378,
         0.02435866936711545,
         0.024694533172902572,
         0.025038281925418886,
         0.024698993067988693,
         0.02427167725709084,
         0.025313346453220663,
         0.024194273101038694,
         0.024331781650069526,
         0.024371191617531256,
         0.024321665827885114,
         0.024898592975494273,
         0.02442665349451003,
         0.02530433371237072,
         0.02487023804434494,
         0.023919932400010963,
         0.02460238431075724,
         0.02497892282478623,
         0.025349491654384448,
         0.023845328192672006
        ],
        [
         0.10194675480015576,
         0.10207034912891685,
         0.10060073849745095,
         0.09914865498431027,
         0.10195856695063413,
         0.10079666082747281,
         0.0983243063557893,
         0.1024332628119737,
         0.10052139167673886,
         0.09994465415365994,
         0.10201801513321698,
         0.10305046443827451,
         0.10082324002869428,
         0.10318377134390175,
         0.10359393474645913,
         0.10217681531794369,
         0.10019489643163978,
         0.10255082962103187,
         0.09973008190281689,
         0.10309165534563362,
         0.10219205324538053,
         0.1024560481775552,
         0.10365754966624081,
         0.10069761727936566,
         0.10210427907295525,
         0.10086061214096845,
         0.0995013099629432,
         0.1017019793856889,
         0.10272366707213224,
         0.10483542387373745,
         0.10126834777183831,
         0.10072229024954141,
         0.100470430823043,
         0.10098836575634777,
         0.10153609518893063,
         0.1007118043024093,
         0.10396059756167234,
         0.1003167760092765,
         0.10003187363035977,
         0.10187292662449181,
         0.09933760468848049,
         0.10304405358619988,
         0.10128684346564114,
         0.1011162415612489,
         0.10192873035557568,
         0.10173959699459374,
         0.10261576478369534,
         0.10016426746733487,
         0.10299976323731244,
         0.10260997121222318,
         0.10158990030176937,
         0.1021029890049249,
         0.10112229851074517,
         0.1033678185660392,
         0.10055496846325696,
         0.0995322481263429,
         0.10452323970384896,
         0.1018782437313348,
         0.1015765827614814,
         0.10096416478045285,
         0.10179536347277462,
         0.10253810402937233,
         0.10269986842758953,
         0.10258020875044167,
         0.09799458240158856,
         0.10138942454941571,
         0.09939651642926037,
         0.09950721715576946,
         0.10383269642479717,
         0.10120470938272774,
         0.10175461624749005,
         0.10054922369308769,
         0.10278470222838224,
         0.10011518900282682,
         0.10194728490896524,
         0.09979277071543038,
         0.10017827418632805,
         0.1022954594809562,
         0.10014149849303067,
         0.10131312613375484,
         0.09942445461638272,
         0.10005564247258007,
         0.10167016391642392,
         0.10222886954434215,
         0.10123930727131665,
         0.10055461977608501,
         0.10352700357325376,
         0.09971503471024334,
         0.10283385966904461,
         0.10055859093554317,
         0.09968293313868344,
         0.10194586967118084,
         0.10107920323498547,
         0.1034805488307029,
         0.10205300753004849,
         0.10155720566399395,
         0.10074324016459286,
         0.10265544173307717,
         0.10193001297302544,
         0.09926726375706493
        ],
        [
         2.038935096003115,
         2.041406982578337,
         2.012014769949019,
         1.9829730996862054,
         2.0391713390126824,
         2.015933216549456,
         1.966486127115786,
         2.048665256239474,
         2.010427833534777,
         1.9988930830731988,
         2.0403603026643395,
         2.06100928876549,
         2.0164648005738854,
         2.063675426878035,
         2.0718786949291825,
         2.043536306358874,
         2.003897928632796,
         2.0510165924206376,
         1.9946016380563378,
         2.0618331069126725,
         2.0438410649076104,
         2.049120963551104,
         2.0731509933248162,
         2.013952345587313,
         2.042085581459105,
         2.017212242819369,
         1.990026199258864,
         2.034039587713778,
         2.0544733414426446,
         2.096708477474749,
         2.025366955436766,
         2.014445804990828,
         2.0094086164608598,
         2.0197673151269555,
         2.0307219037786126,
         2.014236086048186,
         2.0792119512334466,
         2.00633552018553,
         2.0006374726071954,
         2.037458532489836,
         1.98675209376961,
         2.0608810717239976,
         2.025736869312823,
         2.022324831224978,
         2.0385746071115136,
         2.034791939891875,
         2.052315295673907,
         2.0032853493466973,
         2.0599952647462487,
         2.0521994242444634,
         2.0317980060353875,
         2.042059780098498,
         2.0224459702149034,
         2.067356371320784,
         2.011099369265139,
         1.9906449625268579,
         2.090464794076979,
         2.037564874626696,
         2.031531655229628,
         2.019283295609057,
         2.0359072694554925,
         2.0507620805874467,
         2.0539973685517907,
         2.0516041750088334,
         1.9598916480317712,
         2.027788490988314,
         1.9879303285852075,
         1.9901443431153893,
         2.0766539284959435,
         2.024094187654555,
         2.035092324949801,
         2.010984473861754,
         2.0556940445676446,
         2.002303780056536,
         2.0389456981793046,
         1.9958554143086076,
         2.003565483726561,
         2.045909189619124,
         2.0028299698606133,
         2.026262522675097,
         1.9884890923276544,
         2.0011128494516015,
         2.0334032783284783,
         2.044577390886843,
         2.024786145426333,
         2.0110923955217004,
         2.070540071465075,
         1.9943006942048669,
         2.0566771933808923,
         2.0111718187108636,
         1.9936586627736688,
         2.038917393423617,
         2.0215840646997094,
         2.069610976614058,
         2.04106015060097,
         2.031144113279879,
         2.0148648032918572,
         2.0531088346615434,
         2.038600259460509,
         1.9853452751412988
        ],
        [
         0.6961937578976419,
         0.7118254716167081,
         0.7059317610025218,
         0.695461207098851,
         0.7044458108456361,
         0.6954943124913829,
         0.6886983625062163,
         0.7043297926482548,
         0.7031726620033629,
         0.6979365446526057,
         0.6898258512089219,
         0.709705651451285,
         0.7037833290635426,
         0.7140857307621763,
         0.7214527918598718,
         0.7058999561493596,
         0.7043044165308328,
         0.7116948857301532,
         0.6970014607469677,
         0.7158393677647427,
         0.7096587308828947,
         0.7075771408600952,
         0.7114159691243715,
         0.7039841706833059,
         0.7060661829483608,
         0.702708615166951,
         0.7052689110268978,
         0.7024232853887562,
         0.7120126777680644,
         0.7133377780166376,
         0.7077018434743771,
         0.7060244936949828,
         0.705555725278581,
         0.6896841947586007,
         0.7017242351314179,
         0.7035651432468023,
         0.706167999226394,
         0.7020357323035341,
         0.6931938895501092,
         0.7007457621402893,
         0.6993046221413133,
         0.7139348014392438,
         0.6999416350785258,
         0.6961464692510453,
         0.7012909701906268,
         0.7113856697437639,
         0.7082708407054269,
         0.692393585395674,
         0.7072697465320742,
         0.7054963755848865,
         0.7052892619760618,
         0.7007859081305262,
         0.7073528266964298,
         0.7032295420906275,
         0.7053383734326962,
         0.6990033905726334,
         0.7167815321417256,
         0.6975664497069723,
         0.7151617231139773,
         0.7042194502943624,
         0.6969803199494701,
         0.7112277321588667,
         0.7044209190877506,
         0.7102303859526092,
         0.6938817807789713,
         0.7036077788681213,
         0.6948159059487854,
         0.7021908785030561,
         0.7046350355025224,
         0.7086771302329344,
         0.7038371326730817,
         0.6988702777331076,
         0.7003870017275411,
         0.7015129149996873,
         0.706309273133963,
         0.6988142473681459,
         0.7030947438047489,
         0.7125377762823712,
         0.6994214446937677,
         0.7070445474836694,
         0.6933179379501208,
         0.6979780708176361,
         0.7027735506249871,
         0.7076479622724691,
         0.7028370090993885,
         0.6967306116009377,
         0.7115243699722542,
         0.6956187619815712,
         0.6975927415056656,
         0.6981574552711051,
         0.697447716002929,
         0.7056712120455854,
         0.6989514073883825,
         0.711397690639641,
         0.7052692825346208,
         0.6916636812788562,
         0.7014611081272751,
         0.7068086420635535,
         0.7120321854296258,
         0.6905842192328464
        ]
       ],
       "encoder": "json",
       "name": "ABC_GAN_1 Metrics",
       "version": 1
      }
     },
     "metadata": {
      "scrapbook": {
       "data": true,
       "display": false,
       "name": "ABC_GAN_1 Metrics"
      }
     },
     "output_type": "display_data"
    },
    {
     "name": "stdout",
     "output_type": "stream",
     "text": [
      "MSE\n",
      "0.024745009371781392\n"
     ]
    }
   ],
   "source": [
    "ABC_GAN1_metrics=ABC_train_test2.test_generator(gen,test_data,prior_model,variance,bias,\"1\",device)\n",
    "sb.glue(\"ABC_GAN_1 Metrics\",ABC_GAN1_metrics)\n",
    "\n",
    "print(\"MSE\")\n",
    "print(mean(ABC_GAN1_metrics[0]))"
   ]
  },
  {
   "cell_type": "code",
   "execution_count": 14,
   "id": "eb22ce5c",
   "metadata": {
    "execution": {
     "iopub.execute_input": "2022-03-16T13:34:14.438781Z",
     "iopub.status.busy": "2022-03-16T13:34:14.438347Z",
     "iopub.status.idle": "2022-03-16T13:34:14.794291Z",
     "shell.execute_reply": "2022-03-16T13:34:14.794608Z"
    },
    "papermill": {
     "duration": 0.373552,
     "end_time": "2022-03-16T13:34:14.794746",
     "exception": false,
     "start_time": "2022-03-16T13:34:14.421194",
     "status": "completed"
    },
    "tags": []
   },
   "outputs": [
    {
     "data": {
      "image/png": "[encoded data removed]",
      "text/plain": [
       "<Figure size 432x288 with 1 Axes>"
      ]
     },
     "metadata": {
      "needs_background": "light"
     },
     "output_type": "display_data"
    },
    {
     "data": {
      "image/png": "[encoded data removed]",
      "text/plain": [
       "<Figure size 432x288 with 1 Axes>"
      ]
     },
     "metadata": {
      "needs_background": "light"
     },
     "output_type": "display_data"
    },
    {
     "data": {
      "image/png": "[encoded data removed]",
      "text/plain": [
       "<Figure size 432x288 with 1 Axes>"
      ]
     },
     "metadata": {
      "needs_background": "light"
     },
     "output_type": "display_data"
    },
    {
     "data": {
      "image/png": "[encoded data removed]",
      "text/plain": [
       "<Figure size 432x288 with 1 Axes>"
      ]
     },
     "metadata": {
      "needs_background": "light"
     },
     "output_type": "display_data"
    }
   ],
   "source": [
    "sanityChecks.discProbVsError(train_data,disc,device)\n",
    "sanityChecks.discProbVsError(test_data,disc,device)"
   ]
  },
  {
   "cell_type": "markdown",
   "id": "130f3a4d",
   "metadata": {
    "id": "130f3a4d",
    "papermill": {
     "duration": 0.049308,
     "end_time": "2022-03-16T13:34:14.863155",
     "exception": false,
     "start_time": "2022-03-16T13:34:14.813847",
     "status": "completed"
    },
    "tags": []
   },
   "source": [
    "# ABC - GAN Model with skip connection"
   ]
  },
  {
   "cell_type": "code",
   "execution_count": 15,
   "id": "4e43dad1",
   "metadata": {
    "execution": {
     "iopub.execute_input": "2022-03-16T13:34:14.906420Z",
     "iopub.status.busy": "2022-03-16T13:34:14.905938Z",
     "iopub.status.idle": "2022-03-16T13:34:14.908713Z",
     "shell.execute_reply": "2022-03-16T13:34:14.909016Z"
    },
    "id": "4e43dad1",
    "papermill": {
     "duration": 0.02626,
     "end_time": "2022-03-16T13:34:14.909147",
     "exception": false,
     "start_time": "2022-03-16T13:34:14.882887",
     "status": "completed"
    },
    "tags": []
   },
   "outputs": [],
   "source": [
    "#Generator\n",
    "gen3 = network.GeneratorWithSkipConnection(n_features+1).to(device)\n",
    "constraints=network.weightConstraint()\n",
    "#Discriminator \n",
    "disc3 = network.Discriminator(n_features+1).to(device)\n",
    "\n",
    "criterion = torch.nn.BCELoss()\n",
    "gen_opt = torch.optim.Adam(gen3.parameters(), lr=0.001, betas=(0.5, 0.999))\n",
    "disc_opt = torch.optim.Adam(disc3.parameters(), lr=0.001, betas=(0.5, 0.999))\n"
   ]
  },
  {
   "cell_type": "code",
   "execution_count": 16,
   "id": "26acbc37",
   "metadata": {
    "execution": {
     "iopub.execute_input": "2022-03-16T13:34:14.950026Z",
     "iopub.status.busy": "2022-03-16T13:34:14.949558Z",
     "iopub.status.idle": "2022-03-16T13:34:56.567430Z",
     "shell.execute_reply": "2022-03-16T13:34:56.567750Z"
    },
    "id": "26acbc37",
    "papermill": {
     "duration": 41.639582,
     "end_time": "2022-03-16T13:34:56.567886",
     "exception": false,
     "start_time": "2022-03-16T13:34:14.928304",
     "status": "completed"
    },
    "tags": []
   },
   "outputs": [
    {
     "data": {
      "image/png": "[encoded data removed]",
      "text/plain": [
       "<Figure size 432x288 with 1 Axes>"
      ]
     },
     "metadata": {
      "needs_background": "light"
     },
     "output_type": "display_data"
    },
    {
     "data": {
      "image/png": "[encoded data removed]",
      "text/plain": [
       "<Figure size 432x288 with 1 Axes>"
      ]
     },
     "metadata": {
      "needs_background": "light"
     },
     "output_type": "display_data"
    }
   ],
   "source": [
    "ABC_train_test2.training_GAN_skip_connection(disc3,gen3,disc_opt,gen_opt,train_data,batch_size,n_epochs,criterion,prior_model,variance,bias,device)"
   ]
  },
  {
   "cell_type": "code",
   "execution_count": 17,
   "id": "c5e0717b",
   "metadata": {
    "execution": {
     "iopub.execute_input": "2022-03-16T13:34:56.608021Z",
     "iopub.status.busy": "2022-03-16T13:34:56.607506Z",
     "iopub.status.idle": "2022-03-16T13:34:56.940907Z",
     "shell.execute_reply": "2022-03-16T13:34:56.941191Z"
    },
    "id": "c5e0717b",
    "papermill": {
     "duration": 0.354824,
     "end_time": "2022-03-16T13:34:56.941339",
     "exception": false,
     "start_time": "2022-03-16T13:34:56.586515",
     "status": "completed"
    },
    "tags": []
   },
   "outputs": [
    {
     "data": {
      "application/scrapbook.scrap.json+json": {
       "data": 0.03761457534206979,
       "encoder": "json",
       "name": "ABC-GAN Model 3 MSE",
       "version": 1
      }
     },
     "metadata": {
      "scrapbook": {
       "data": true,
       "display": false,
       "name": "ABC-GAN Model 3 MSE"
      }
     },
     "output_type": "display_data"
    },
    {
     "data": {
      "application/scrapbook.scrap.json+json": {
       "data": 0.13048056142497808,
       "encoder": "json",
       "name": "ABC-GAN Model 3 MAE",
       "version": 1
      }
     },
     "metadata": {
      "scrapbook": {
       "data": true,
       "display": false,
       "name": "ABC-GAN Model 3 MAE"
      }
     },
     "output_type": "display_data"
    },
    {
     "data": {
      "application/scrapbook.scrap.json+json": {
       "data": 2.6096112284995616,
       "encoder": "json",
       "name": "ABC-GAN Model 3 Manhattan Distance",
       "version": 1
      }
     },
     "metadata": {
      "scrapbook": {
       "data": true,
       "display": false,
       "name": "ABC-GAN Model 3 Manhattan Distance"
      }
     },
     "output_type": "display_data"
    },
    {
     "data": {
      "application/scrapbook.scrap.json+json": {
       "data": 0.8672782859558055,
       "encoder": "json",
       "name": "ABC-GAN Model 3 Euclidean distance",
       "version": 1
      }
     },
     "metadata": {
      "scrapbook": {
       "data": true,
       "display": false,
       "name": "ABC-GAN Model 3 Euclidean distance"
      }
     },
     "output_type": "display_data"
    },
    {
     "data": {
      "application/scrapbook.scrap.json+json": {
       "data": [
        [
         0.03685118883921836,
         0.03792834927468921,
         0.039111339610028814,
         0.0373821482025856,
         0.03657180207575085,
         0.03630803194587554,
         0.03830704633768691,
         0.03711778943202584,
         0.037415817361430445,
         0.03838750739355562,
         0.036838989127614366,
         0.037808902748654026,
         0.03796813475044122,
         0.0396624090797442,
         0.038336899912577826,
         0.037487883163081756,
         0.03807825134864262,
         0.038236817677581275,
         0.03808330542637469,
         0.03703219642031985,
         0.0362919166643841,
         0.03795130327063263,
         0.037129958964611604,
         0.03567267791089618,
         0.03630063137949628,
         0.03833682735750665,
         0.03796216624156325,
         0.039822971725100485,
         0.038456400887839005,
         0.037189438142428685,
         0.03653501710083838,
         0.03675321321845645,
         0.0389554717443751,
         0.03753749860817771,
         0.03844922908505549,
         0.03823279186088833,
         0.038277651278632564,
         0.03716234327652982,
         0.03742258823167427,
         0.0379126281181939,
         0.03764154224256981,
         0.03649714891629911,
         0.03818039238937774,
         0.036725457530078234,
         0.03846193354088693,
         0.038613996554756905,
         0.037375261685799535,
         0.03572280864193363,
         0.03798826112595553,
         0.03692011465717319,
         0.03700355026169861,
         0.039139846724203356,
         0.03581660951326028,
         0.03761197737531402,
         0.03816217252021744,
         0.03718233728466658,
         0.03647051438614847,
         0.03702358711314162,
         0.0372592810892574,
         0.0362460469729026,
         0.038361103907005034,
         0.03938907289944972,
         0.036488313730227616,
         0.03898723176101471,
         0.037821425006481224,
         0.037980409724969376,
         0.03788361732097496,
         0.03632108997424316,
         0.03845864939262011,
         0.03717138869356788,
         0.03807938686074434,
         0.037132772460166386,
         0.038918472299094065,
         0.0360650955395722,
         0.03760183181899194,
         0.03904906126966602,
         0.0373664465770987,
         0.03759266781044446,
         0.036250498569612946,
         0.038720246527725,
         0.03730262822598109,
         0.03720937902556133,
         0.03579407289158784,
         0.0360225882644261,
         0.038270488012683304,
         0.037065375662959844,
         0.038584687491079586,
         0.03620438335525441,
         0.0388100878459335,
         0.03851259507877085,
         0.03809984339935063,
         0.03794509317637436,
         0.038284838504438236,
         0.03982582086613937,
         0.0372086887904956,
         0.037067960281659304,
         0.03786435633393228,
         0.03752612401974463,
         0.03686145970648534,
         0.03804790540965125
        ],
        [
         0.12747407178394496,
         0.13460165695287288,
         0.1367121955845505,
         0.12946808240376412,
         0.12866441016085445,
         0.1287403848487884,
         0.1329415761400014,
         0.12885767160914838,
         0.12957101822830736,
         0.13152197138406335,
         0.12708265432156624,
         0.13076689471490682,
         0.1311815355438739,
         0.13196305227465926,
         0.13203467638231814,
         0.13146117930300533,
         0.12913681459613144,
         0.1295101518277079,
         0.12900732983835042,
         0.13149503064341844,
         0.12785095353610815,
         0.13090986688621342,
         0.13128257733769716,
         0.12875090283341706,
         0.12696901545859873,
         0.134363789903,
         0.1322201792616397,
         0.1349721653852612,
         0.1307844225782901,
         0.12748550144024193,
         0.12718510241247713,
         0.12950375345535575,
         0.13220202368684114,
         0.12950641387142242,
         0.13335131523199378,
         0.13293841262347997,
         0.1310378469992429,
         0.13183099259622394,
         0.12920032483525573,
         0.13178670075722038,
         0.12801258494146167,
         0.13023331840522587,
         0.13187900190241636,
         0.1279117536265403,
         0.13117244974710046,
         0.13244736795313655,
         0.12769942064769566,
         0.1298485599923879,
         0.13287690416909753,
         0.12985582915134727,
         0.1278135791886598,
         0.13214478003792465,
         0.12450950765050947,
         0.1298617370892316,
         0.1320166862104088,
         0.13061873712576927,
         0.12901585535146295,
         0.1287868286948651,
         0.12824957971461118,
         0.12775790323503317,
         0.13134188768453897,
         0.13389156409539282,
         0.12790363770909607,
         0.13230816484428942,
         0.1326467223931104,
         0.13167231646366417,
         0.13198287417180837,
         0.1264197685290128,
         0.13202460114844145,
         0.13051180788315833,
         0.1325789161492139,
         0.13092435230500996,
         0.13178082429803908,
         0.12676696670241655,
         0.1287333291489631,
         0.1317026094067842,
         0.130158479930833,
         0.13115052790381015,
         0.1292899650055915,
         0.13164018359966576,
         0.12837392543442547,
         0.131166296871379,
         0.13044829783029854,
         0.1297802333254367,
         0.13236300447024404,
         0.12880180389620363,
         0.12953504608012736,
         0.12825519409962,
         0.13453014199621977,
         0.13307502069510518,
         0.13234942448325454,
         0.13154349834658205,
         0.13286829111166298,
         0.13442614232189953,
         0.13050433327443897,
         0.1288795093540102,
         0.13037620563991367,
         0.13081889939494432,
         0.1261366145219654,
         0.12935775551013648
        ],
        [
         2.5494814356788993,
         2.6920331390574574,
         2.73424391169101,
         2.5893616480752826,
         2.573288203217089,
         2.5748076969757676,
         2.6588315228000283,
         2.5771534321829677,
         2.5914203645661473,
         2.6304394276812673,
         2.5416530864313245,
         2.6153378942981362,
         2.623630710877478,
         2.6392610454931855,
         2.640693527646363,
         2.6292235860601068,
         2.582736291922629,
         2.5902030365541577,
         2.5801465967670083,
         2.6299006128683686,
         2.5570190707221627,
         2.6181973377242684,
         2.625651546753943,
         2.575018056668341,
         2.5393803091719747,
         2.68727579806,
         2.6444035852327943,
         2.6994433077052236,
         2.615688451565802,
         2.5497100288048387,
         2.5437020482495427,
         2.5900750691071153,
         2.6440404737368226,
         2.590128277428448,
         2.667026304639876,
         2.6587682524695992,
         2.620756939984858,
         2.636619851924479,
         2.584006496705115,
         2.6357340151444077,
         2.5602516988292336,
         2.6046663681045175,
         2.637580038048327,
         2.558235072530806,
         2.6234489949420094,
         2.6489473590627313,
         2.553988412953913,
         2.596971199847758,
         2.657538083381951,
         2.5971165830269456,
         2.5562715837731957,
         2.642895600758493,
         2.4901901530101895,
         2.597234741784632,
         2.640333724208176,
         2.612374742515385,
         2.580317107029259,
         2.575736573897302,
         2.5649915942922235,
         2.555158064700663,
         2.626837753690779,
         2.6778312819078565,
         2.5580727541819215,
         2.6461632968857884,
         2.652934447862208,
         2.6334463292732835,
         2.6396574834361672,
         2.528395370580256,
         2.6404920229688287,
         2.6102361576631665,
         2.651578322984278,
         2.6184870461001992,
         2.6356164859607816,
         2.535339334048331,
         2.574666582979262,
         2.6340521881356835,
         2.6031695986166596,
         2.623010558076203,
         2.5857993001118302,
         2.632803671993315,
         2.5674785086885095,
         2.6233259374275804,
         2.608965956605971,
         2.5956046665087342,
         2.647260089404881,
         2.5760360779240727,
         2.590700921602547,
         2.5651038819923997,
         2.690602839924395,
         2.661500413902104,
         2.646988489665091,
         2.630869966931641,
         2.6573658222332597,
         2.6885228464379907,
         2.6100866654887795,
         2.5775901870802045,
         2.6075241127982736,
         2.616377987898886,
         2.5227322904393077,
         2.5871551102027297
        ],
        [
         0.8585008892158279,
         0.870957510728155,
         0.8844358609874299,
         0.8646634975825636,
         0.8552403413748775,
         0.8521505963839436,
         0.875294765638261,
         0.8616007129990764,
         0.8650528002547642,
         0.8762135286966941,
         0.8583587726308197,
         0.8695849900803719,
         0.871414192567934,
         0.8906448122539556,
         0.8756357680288971,
         0.8658854792994483,
         0.8726769316149319,
         0.8744920545960526,
         0.8727348443413347,
         0.8606067211022681,
         0.8519614623254281,
         0.87122101984092,
         0.8617419447214069,
         0.844661801088414,
         0.8520637462009082,
         0.8756349394297449,
         0.871345697660386,
         0.8924457599776077,
         0.8769994399979855,
         0.862431888817067,
         0.8548101204459196,
         0.8573588888960847,
         0.88267175942561,
         0.8664582922238983,
         0.8769176595901749,
         0.874446017326265,
         0.8749588707891653,
         0.8621176633909065,
         0.8651310678928861,
         0.8707769877321506,
         0.8676582534911982,
         0.8543670044693804,
         0.8738465813788795,
         0.8570350929813578,
         0.8770625238931022,
         0.8787945898189964,
         0.8645838500203383,
         0.8452550933526948,
         0.8716451241870803,
         0.8593033766624356,
         0.8602737966682307,
         0.8847581220220966,
         0.8463641002932518,
         0.8673174433310334,
         0.8736380545765785,
         0.8623495495988455,
         0.8540552018007791,
         0.8605066776398846,
         0.8632413461976598,
         0.8514228910817773,
         0.8759121406511619,
         0.887570536909036,
         0.8542635861398707,
         0.8830315029602818,
         0.8697289808495658,
         0.8715550438723808,
         0.8704437640764044,
         0.8523038187670305,
         0.8770250782345977,
         0.8622225779178818,
         0.872689943344649,
         0.8617745930365595,
         0.8822524842593992,
         0.84929494923227,
         0.8672004591672209,
         0.8837314215265407,
         0.8644818861849992,
         0.8670947792536231,
         0.851475173679338,
         0.8800028014469613,
         0.8637433441246433,
         0.8626630747349898,
         0.8460977826656662,
         0.8487943009283946,
         0.8748769972137032,
         0.8609921679430057,
         0.8784610121238117,
         0.8509334093247768,
         0.8810231307512135,
         0.877639961245736,
         0.8729243197362602,
         0.8711497365708647,
         0.8750410105182298,
         0.8924776844956894,
         0.8626550734852906,
         0.8610221864929998,
         0.8702224581557555,
         0.866327005463233,
         0.8586205181159526,
         0.8723291283644179
        ]
       ],
       "encoder": "json",
       "name": "ABC_GAN_3 Metrics",
       "version": 1
      }
     },
     "metadata": {
      "scrapbook": {
       "data": true,
       "display": false,
       "name": "ABC_GAN_3 Metrics"
      }
     },
     "output_type": "display_data"
    },
    {
     "name": "stdout",
     "output_type": "stream",
     "text": [
      "MSE\n",
      "0.03761457534206979\n"
     ]
    }
   ],
   "source": [
    "ABC_GAN3_metrics=ABC_train_test2.test_generator(gen3,test_data,prior_model,variance,bias,\"3\",device)\n",
    "sb.glue(\"ABC_GAN_3 Metrics\",ABC_GAN3_metrics)\n",
    "\n",
    "print(\"MSE\")\n",
    "print(mean(ABC_GAN3_metrics[0]))"
   ]
  },
  {
   "cell_type": "code",
   "execution_count": 18,
   "id": "c8e46b48",
   "metadata": {
    "execution": {
     "iopub.execute_input": "2022-03-16T13:34:56.984811Z",
     "iopub.status.busy": "2022-03-16T13:34:56.984385Z",
     "iopub.status.idle": "2022-03-16T13:34:57.330749Z",
     "shell.execute_reply": "2022-03-16T13:34:57.331041Z"
    },
    "id": "c8e46b48",
    "papermill": {
     "duration": 0.369167,
     "end_time": "2022-03-16T13:34:57.331179",
     "exception": false,
     "start_time": "2022-03-16T13:34:56.962012",
     "status": "completed"
    },
    "tags": []
   },
   "outputs": [
    {
     "data": {
      "image/png": "[encoded data removed]",
      "text/plain": [
       "<Figure size 432x288 with 1 Axes>"
      ]
     },
     "metadata": {
      "needs_background": "light"
     },
     "output_type": "display_data"
    },
    {
     "data": {
      "image/png": "[encoded data removed]",
      "text/plain": [
       "<Figure size 432x288 with 1 Axes>"
      ]
     },
     "metadata": {
      "needs_background": "light"
     },
     "output_type": "display_data"
    },
    {
     "data": {
      "image/png": "[encoded data removed]",
      "text/plain": [
       "<Figure size 432x288 with 1 Axes>"
      ]
     },
     "metadata": {
      "needs_background": "light"
     },
     "output_type": "display_data"
    },
    {
     "data": {
      "image/png": "[encoded data removed]",
      "text/plain": [
       "<Figure size 432x288 with 1 Axes>"
      ]
     },
     "metadata": {
      "needs_background": "light"
     },
     "output_type": "display_data"
    }
   ],
   "source": [
    "sanityChecks.discProbVsError(train_data,disc3,device)\n",
    "sanityChecks.discProbVsError(test_data,disc3,device)"
   ]
  },
  {
   "cell_type": "markdown",
   "id": "a5bd74c3",
   "metadata": {
    "id": "a5bd74c3",
    "papermill": {
     "duration": 0.023317,
     "end_time": "2022-03-16T13:34:57.378153",
     "exception": false,
     "start_time": "2022-03-16T13:34:57.354836",
     "status": "completed"
    },
    "tags": []
   },
   "source": [
    "## Skip Connection Model Analysis - ABC-GAN "
   ]
  },
  {
   "cell_type": "markdown",
   "id": "5744a8bf",
   "metadata": {
    "id": "5744a8bf",
    "papermill": {
     "duration": 0.022794,
     "end_time": "2022-03-16T13:34:57.423940",
     "exception": false,
     "start_time": "2022-03-16T13:34:57.401146",
     "status": "completed"
    },
    "tags": []
   },
   "source": [
    "### Weight Analysis \n",
    "\n",
    "Study the weights of the skip connection layer\n",
    "\n",
    "Equation of the skip connection is \n",
    "\n",
    "$output = y_{gan} * w + y_{abc} * (1-w)$"
   ]
  },
  {
   "cell_type": "code",
   "execution_count": 19,
   "id": "52c31dea",
   "metadata": {
    "execution": {
     "iopub.execute_input": "2022-03-16T13:34:57.472834Z",
     "iopub.status.busy": "2022-03-16T13:34:57.472379Z",
     "iopub.status.idle": "2022-03-16T13:34:57.476360Z",
     "shell.execute_reply": "2022-03-16T13:34:57.476701Z"
    },
    "id": "52c31dea",
    "papermill": {
     "duration": 0.03004,
     "end_time": "2022-03-16T13:34:57.476847",
     "exception": false,
     "start_time": "2022-03-16T13:34:57.446807",
     "status": "completed"
    },
    "tags": []
   },
   "outputs": [
    {
     "name": "stdout",
     "output_type": "stream",
     "text": [
      "Weight of the node at skip connection\n",
      "Parameter containing:\n",
      "tensor([[0.0115]], requires_grad=True)\n"
     ]
    },
    {
     "data": {
      "application/scrapbook.scrap.json+json": {
       "data": 0.011522235348820686,
       "encoder": "json",
       "name": "Skip Connection Weight",
       "version": 1
      }
     },
     "metadata": {
      "scrapbook": {
       "data": true,
       "display": false,
       "name": "Skip Connection Weight"
      }
     },
     "output_type": "display_data"
    }
   ],
   "source": [
    "print(\"Weight of the node at skip connection\")\n",
    "for name,param in gen3.named_parameters():\n",
    "    if(name == \"skipNode.weight\"):\n",
    "        print(param)\n",
    "        sb.glue(\"Skip Connection Weight\",param.item())"
   ]
  }
 ],
 "metadata": {
  "colab": {
   "collapsed_sections": [],
   "name": "ABC_GAN_Model-Catboost_Pre-gen.ipynb",
   "provenance": []
  },
  "interpreter": {
   "hash": "31f2aee4e71d21fbe5cf8b01ff0e069b9275f58929596ceb00d14d90e3e16cd6"
  },
  "kernelspec": {
   "display_name": "Python 3 (ipykernel)",
   "language": "python",
   "name": "python3"
  },
  "language_info": {
   "codemirror_mode": {
    "name": "ipython",
    "version": 3
   },
   "file_extension": ".py",
   "mimetype": "text/x-python",
   "name": "python",
   "nbconvert_exporter": "python",
   "pygments_lexer": "ipython3",
   "version": "3.8.11"
  },
  "papermill": {
   "default_parameters": {},
   "duration": 64.224026,
   "end_time": "2022-03-16T13:34:57.909478",
   "environment_variables": {},
   "exception": null,
   "input_path": "ABC_GAN-Catboost.ipynb",
   "output_path": "./ABC_GAN_Catboost/ABC-GAN_output_6_8.ipynb",
   "parameters": {
    "bias": 0.01,
    "variance": 0.01
   },
   "start_time": "2022-03-16T13:33:53.685452",
   "version": "2.3.3"
  }
 },
 "nbformat": 4,
 "nbformat_minor": 5
}