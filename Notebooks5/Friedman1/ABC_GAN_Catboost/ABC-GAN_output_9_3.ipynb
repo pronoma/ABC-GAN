{
 "cells": [
  {
   "cell_type": "markdown",
   "id": "622780e6",
   "metadata": {
    "id": "622780e6",
    "papermill": {
     "duration": 0.02525,
     "end_time": "2022-03-08T20:50:57.299556",
     "exception": false,
     "start_time": "2022-03-08T20:50:57.274306",
     "status": "completed"
    },
    "tags": []
   },
   "source": [
    "## Import Libraries "
   ]
  },
  {
   "cell_type": "code",
   "execution_count": 1,
   "id": "a62397e3",
   "metadata": {
    "execution": {
     "iopub.execute_input": "2022-03-08T20:50:57.334710Z",
     "iopub.status.busy": "2022-03-08T20:50:57.334128Z",
     "iopub.status.idle": "2022-03-08T20:50:57.336593Z",
     "shell.execute_reply": "2022-03-08T20:50:57.336935Z"
    },
    "id": "a62397e3",
    "papermill": {
     "duration": 0.022124,
     "end_time": "2022-03-08T20:50:57.337133",
     "exception": false,
     "start_time": "2022-03-08T20:50:57.315009",
     "status": "completed"
    },
    "tags": []
   },
   "outputs": [],
   "source": [
    "import warnings\n",
    "import sys\n",
    "sys.path.insert(0, '../../src')\n",
    "warnings.filterwarnings('ignore')"
   ]
  },
  {
   "cell_type": "code",
   "execution_count": 2,
   "id": "d6a4e155",
   "metadata": {
    "execution": {
     "iopub.execute_input": "2022-03-08T20:50:57.358140Z",
     "iopub.status.busy": "2022-03-08T20:50:57.357716Z",
     "iopub.status.idle": "2022-03-08T20:50:58.946865Z",
     "shell.execute_reply": "2022-03-08T20:50:58.947120Z"
    },
    "id": "d6a4e155",
    "papermill": {
     "duration": 1.600419,
     "end_time": "2022-03-08T20:50:58.947243",
     "exception": false,
     "start_time": "2022-03-08T20:50:57.346824",
     "status": "completed"
    },
    "tags": []
   },
   "outputs": [],
   "source": [
    "import ABC_train_test2\n",
    "import friedman1Dataset\n",
    "import network\n",
    "import dataset\n",
    "import sanityChecks\n",
    "import torch \n",
    "import scrapbook as sb\n",
    "from statistics import mean \n",
    "import catboost as ctb \n",
    "from sklearn.model_selection import train_test_split\n",
    "from sklearn.metrics import mean_squared_error,mean_absolute_error\n",
    "import numpy as np"
   ]
  },
  {
   "cell_type": "markdown",
   "id": "2fa5b0f7",
   "metadata": {
    "id": "2fa5b0f7",
    "papermill": {
     "duration": 0.006791,
     "end_time": "2022-03-08T20:50:58.961252",
     "exception": false,
     "start_time": "2022-03-08T20:50:58.954461",
     "status": "completed"
    },
    "tags": []
   },
   "source": [
    "## Parameters "
   ]
  },
  {
   "cell_type": "code",
   "execution_count": 3,
   "id": "783186fb",
   "metadata": {
    "execution": {
     "iopub.execute_input": "2022-03-08T20:50:58.977041Z",
     "iopub.status.busy": "2022-03-08T20:50:58.976664Z",
     "iopub.status.idle": "2022-03-08T20:50:58.978090Z",
     "shell.execute_reply": "2022-03-08T20:50:58.978335Z"
    },
    "id": "783186fb",
    "papermill": {
     "duration": 0.010391,
     "end_time": "2022-03-08T20:50:58.978448",
     "exception": false,
     "start_time": "2022-03-08T20:50:58.968057",
     "status": "completed"
    },
    "tags": [
     "parameters"
    ]
   },
   "outputs": [],
   "source": [
    "variance = 1\n",
    "bias = 1 "
   ]
  },
  {
   "cell_type": "code",
   "execution_count": 4,
   "id": "bd4ad11a",
   "metadata": {
    "execution": {
     "iopub.execute_input": "2022-03-08T20:50:58.994290Z",
     "iopub.status.busy": "2022-03-08T20:50:58.993911Z",
     "iopub.status.idle": "2022-03-08T20:50:58.995224Z",
     "shell.execute_reply": "2022-03-08T20:50:58.995460Z"
    },
    "papermill": {
     "duration": 0.010066,
     "end_time": "2022-03-08T20:50:58.995566",
     "exception": false,
     "start_time": "2022-03-08T20:50:58.985500",
     "status": "completed"
    },
    "tags": [
     "injected-parameters"
    ]
   },
   "outputs": [],
   "source": [
    "# Parameters\n",
    "variance = 1\n",
    "bias = 0.1\n"
   ]
  },
  {
   "cell_type": "markdown",
   "id": "391cdbfd",
   "metadata": {
    "id": "391cdbfd",
    "papermill": {
     "duration": 0.006853,
     "end_time": "2022-03-08T20:50:59.009437",
     "exception": false,
     "start_time": "2022-03-08T20:50:59.002584",
     "status": "completed"
    },
    "tags": []
   },
   "source": [
    "## Dataset \n"
   ]
  },
  {
   "cell_type": "code",
   "execution_count": 5,
   "id": "5b51f161",
   "metadata": {
    "execution": {
     "iopub.execute_input": "2022-03-08T20:50:59.025143Z",
     "iopub.status.busy": "2022-03-08T20:50:59.024770Z",
     "iopub.status.idle": "2022-03-08T20:50:59.026133Z",
     "shell.execute_reply": "2022-03-08T20:50:59.026374Z"
    },
    "id": "5b51f161",
    "papermill": {
     "duration": 0.010103,
     "end_time": "2022-03-08T20:50:59.026476",
     "exception": false,
     "start_time": "2022-03-08T20:50:59.016373",
     "status": "completed"
    },
    "tags": []
   },
   "outputs": [],
   "source": [
    "#Parameters \n",
    "n_features = 5\n",
    "n_samples= 100\n",
    "n_target = 1 "
   ]
  },
  {
   "cell_type": "code",
   "execution_count": 6,
   "id": "5d6eced4",
   "metadata": {
    "execution": {
     "iopub.execute_input": "2022-03-08T20:50:59.043303Z",
     "iopub.status.busy": "2022-03-08T20:50:59.041973Z",
     "iopub.status.idle": "2022-03-08T20:50:59.048279Z",
     "shell.execute_reply": "2022-03-08T20:50:59.048509Z"
    },
    "id": "5d6eced4",
    "papermill": {
     "duration": 0.015185,
     "end_time": "2022-03-08T20:50:59.048616",
     "exception": false,
     "start_time": "2022-03-08T20:50:59.033431",
     "status": "completed"
    },
    "tags": []
   },
   "outputs": [
    {
     "name": "stdout",
     "output_type": "stream",
     "text": [
      "         X0        X1        X2        X3        X4         Y\n",
      "0  1.197777 -1.661403 -0.027717  1.171018  1.598632 -0.071377\n",
      "1  0.551548  0.187125  0.440033  0.886580  0.319907  1.137253\n",
      "2 -0.615991  0.476471 -0.117576 -0.776233  0.039379 -0.811109\n",
      "3  0.569164  0.116894  0.984451  0.741810 -1.255506  0.807663\n",
      "4 -0.892024  0.271271  0.472820  1.230137 -1.229826 -0.265961\n"
     ]
    }
   ],
   "source": [
    "X,Y = friedman1Dataset.friedman1_data(n_samples,n_features)"
   ]
  },
  {
   "cell_type": "code",
   "execution_count": 7,
   "id": "fe007438",
   "metadata": {
    "execution": {
     "iopub.execute_input": "2022-03-08T20:50:59.065790Z",
     "iopub.status.busy": "2022-03-08T20:50:59.065419Z",
     "iopub.status.idle": "2022-03-08T20:50:59.066901Z",
     "shell.execute_reply": "2022-03-08T20:50:59.067134Z"
    },
    "id": "fe007438",
    "papermill": {
     "duration": 0.011211,
     "end_time": "2022-03-08T20:50:59.067242",
     "exception": false,
     "start_time": "2022-03-08T20:50:59.056031",
     "status": "completed"
    },
    "tags": []
   },
   "outputs": [],
   "source": [
    "#Train test split for dataset \n",
    "X_train,X_test,Y_train,Y_test = train_test_split(X,Y,test_size = 0.2)\n",
    "train_data = dataset.CustomDataset(X_train,Y_train)\n",
    "test_data = dataset.CustomDataset(X_test,Y_test)\n"
   ]
  },
  {
   "cell_type": "markdown",
   "id": "a9a1af34",
   "metadata": {
    "id": "a9a1af34",
    "papermill": {
     "duration": 0.007187,
     "end_time": "2022-03-08T20:50:59.081775",
     "exception": false,
     "start_time": "2022-03-08T20:50:59.074588",
     "status": "completed"
    },
    "tags": []
   },
   "source": [
    "## Training Parameters "
   ]
  },
  {
   "cell_type": "code",
   "execution_count": 8,
   "id": "952b7fc8",
   "metadata": {
    "execution": {
     "iopub.execute_input": "2022-03-08T20:50:59.098330Z",
     "iopub.status.busy": "2022-03-08T20:50:59.097978Z",
     "iopub.status.idle": "2022-03-08T20:50:59.099352Z",
     "shell.execute_reply": "2022-03-08T20:50:59.099599Z"
    },
    "id": "952b7fc8",
    "papermill": {
     "duration": 0.01076,
     "end_time": "2022-03-08T20:50:59.099707",
     "exception": false,
     "start_time": "2022-03-08T20:50:59.088947",
     "status": "completed"
    },
    "tags": []
   },
   "outputs": [],
   "source": [
    "batch_size = 32\n",
    "n_epochs = 1000\n",
    "#Select the device \n",
    "device = torch.device('cuda' if torch.cuda.is_available() else 'cpu')"
   ]
  },
  {
   "cell_type": "markdown",
   "id": "a95e1600",
   "metadata": {
    "id": "a95e1600",
    "papermill": {
     "duration": 0.00717,
     "end_time": "2022-03-08T20:50:59.114179",
     "exception": false,
     "start_time": "2022-03-08T20:50:59.107009",
     "status": "completed"
    },
    "tags": []
   },
   "source": [
    "# ABC Pre-generator Model \n",
    "\n",
    "1. The catboost model is used as a pre-generator model for the ABC-GAN. \n",
    "2. The model is first trained on the entire dataset \n",
    "3. It generats X,Y pairs and we add some Gaussian noise with mean 0 and variance 1 to it which is then feed as input to the generator.\n"
   ]
  },
  {
   "cell_type": "code",
   "execution_count": 9,
   "id": "ff8ce7bd",
   "metadata": {
    "execution": {
     "iopub.execute_input": "2022-03-08T20:50:59.132109Z",
     "iopub.status.busy": "2022-03-08T20:50:59.131724Z",
     "iopub.status.idle": "2022-03-08T20:50:59.770186Z",
     "shell.execute_reply": "2022-03-08T20:50:59.770490Z"
    },
    "id": "ff8ce7bd",
    "papermill": {
     "duration": 0.649209,
     "end_time": "2022-03-08T20:50:59.770614",
     "exception": false,
     "start_time": "2022-03-08T20:50:59.121405",
     "status": "completed"
    },
    "tags": []
   },
   "outputs": [
    {
     "name": "stdout",
     "output_type": "stream",
     "text": [
      "Learning rate set to 0.024897\n",
      "0:\tlearn: 0.9291461\ttotal: 69.4ms\tremaining: 1m 9s\n",
      "1:\tlearn: 0.9206966\ttotal: 69.9ms\tremaining: 34.9s\n",
      "2:\tlearn: 0.9106152\ttotal: 70.6ms\tremaining: 23.4s\n",
      "3:\tlearn: 0.9001028\ttotal: 71.1ms\tremaining: 17.7s\n",
      "4:\tlearn: 0.8925464\ttotal: 71.8ms\tremaining: 14.3s\n",
      "5:\tlearn: 0.8834568\ttotal: 72.5ms\tremaining: 12s\n",
      "6:\tlearn: 0.8737446\ttotal: 73ms\tremaining: 10.4s\n",
      "7:\tlearn: 0.8653952\ttotal: 73.7ms\tremaining: 9.13s\n",
      "8:\tlearn: 0.8570904\ttotal: 74.4ms\tremaining: 8.19s\n",
      "9:\tlearn: 0.8492101\ttotal: 75ms\tremaining: 7.42s\n",
      "10:\tlearn: 0.8395576\ttotal: 75.6ms\tremaining: 6.8s\n",
      "11:\tlearn: 0.8313499\ttotal: 76.3ms\tremaining: 6.28s\n",
      "12:\tlearn: 0.8218410\ttotal: 76.8ms\tremaining: 5.83s\n",
      "13:\tlearn: 0.8127563\ttotal: 77.4ms\tremaining: 5.45s\n",
      "14:\tlearn: 0.8061218\ttotal: 77.9ms\tremaining: 5.11s\n",
      "15:\tlearn: 0.7988712\ttotal: 78.3ms\tremaining: 4.82s\n",
      "16:\tlearn: 0.7906989\ttotal: 78.8ms\tremaining: 4.55s\n",
      "17:\tlearn: 0.7816078\ttotal: 79.3ms\tremaining: 4.33s\n",
      "18:\tlearn: 0.7742520\ttotal: 79.7ms\tremaining: 4.12s\n",
      "19:\tlearn: 0.7675927\ttotal: 80.2ms\tremaining: 3.93s\n",
      "20:\tlearn: 0.7604601\ttotal: 80.8ms\tremaining: 3.76s\n",
      "21:\tlearn: 0.7534664\ttotal: 81.3ms\tremaining: 3.61s\n",
      "22:\tlearn: 0.7457497\ttotal: 81.8ms\tremaining: 3.47s\n",
      "23:\tlearn: 0.7407977\ttotal: 82.2ms\tremaining: 3.34s\n",
      "24:\tlearn: 0.7330441\ttotal: 82.7ms\tremaining: 3.23s\n",
      "25:\tlearn: 0.7252700\ttotal: 83.4ms\tremaining: 3.12s\n",
      "26:\tlearn: 0.7187350\ttotal: 83.8ms\tremaining: 3.02s\n",
      "27:\tlearn: 0.7121315\ttotal: 84.2ms\tremaining: 2.92s\n",
      "28:\tlearn: 0.7057326\ttotal: 84.7ms\tremaining: 2.83s\n",
      "29:\tlearn: 0.6998186\ttotal: 85.2ms\tremaining: 2.75s\n",
      "30:\tlearn: 0.6918725\ttotal: 85.6ms\tremaining: 2.68s\n",
      "31:\tlearn: 0.6844930\ttotal: 86.1ms\tremaining: 2.6s\n",
      "32:\tlearn: 0.6787925\ttotal: 86.5ms\tremaining: 2.54s\n",
      "33:\tlearn: 0.6729777\ttotal: 87.1ms\tremaining: 2.47s\n",
      "34:\tlearn: 0.6668426\ttotal: 87.5ms\tremaining: 2.41s\n",
      "35:\tlearn: 0.6626599\ttotal: 88ms\tremaining: 2.35s\n",
      "36:\tlearn: 0.6556047\ttotal: 88.4ms\tremaining: 2.3s\n",
      "37:\tlearn: 0.6488884\ttotal: 88.8ms\tremaining: 2.25s\n",
      "38:\tlearn: 0.6429657\ttotal: 89.3ms\tremaining: 2.2s\n",
      "39:\tlearn: 0.6360807\ttotal: 89.7ms\tremaining: 2.15s\n",
      "40:\tlearn: 0.6298734\ttotal: 90.2ms\tremaining: 2.11s\n",
      "41:\tlearn: 0.6246791\ttotal: 90.7ms\tremaining: 2.07s\n",
      "42:\tlearn: 0.6183021\ttotal: 91.2ms\tremaining: 2.03s\n",
      "43:\tlearn: 0.6128799\ttotal: 91.6ms\tremaining: 1.99s\n",
      "44:\tlearn: 0.6073264\ttotal: 92.1ms\tremaining: 1.95s\n",
      "45:\tlearn: 0.6018513\ttotal: 92.6ms\tremaining: 1.92s\n",
      "46:\tlearn: 0.5965980\ttotal: 93ms\tremaining: 1.89s\n",
      "47:\tlearn: 0.5908984\ttotal: 93.4ms\tremaining: 1.85s\n",
      "48:\tlearn: 0.5850252\ttotal: 93.9ms\tremaining: 1.82s\n",
      "49:\tlearn: 0.5788356\ttotal: 94.3ms\tremaining: 1.79s\n",
      "50:\tlearn: 0.5729081\ttotal: 94.8ms\tremaining: 1.76s\n",
      "51:\tlearn: 0.5673150\ttotal: 95.4ms\tremaining: 1.74s\n",
      "52:\tlearn: 0.5617676\ttotal: 95.8ms\tremaining: 1.71s\n",
      "53:\tlearn: 0.5563802\ttotal: 96.2ms\tremaining: 1.69s\n",
      "54:\tlearn: 0.5512809\ttotal: 96.7ms\tremaining: 1.66s\n",
      "55:\tlearn: 0.5471563\ttotal: 97.2ms\tremaining: 1.64s\n",
      "56:\tlearn: 0.5426743\ttotal: 97.7ms\tremaining: 1.61s\n",
      "57:\tlearn: 0.5376055\ttotal: 98.1ms\tremaining: 1.59s\n",
      "58:\tlearn: 0.5331049\ttotal: 98.5ms\tremaining: 1.57s\n",
      "59:\tlearn: 0.5279784\ttotal: 99ms\tremaining: 1.55s\n",
      "60:\tlearn: 0.5241424\ttotal: 99.5ms\tremaining: 1.53s\n",
      "61:\tlearn: 0.5198485\ttotal: 100ms\tremaining: 1.51s\n",
      "62:\tlearn: 0.5156057\ttotal: 100ms\tremaining: 1.49s\n",
      "63:\tlearn: 0.5108460\ttotal: 101ms\tremaining: 1.47s\n",
      "64:\tlearn: 0.5071764\ttotal: 101ms\tremaining: 1.46s\n",
      "65:\tlearn: 0.5029539\ttotal: 102ms\tremaining: 1.44s\n",
      "66:\tlearn: 0.4982699\ttotal: 102ms\tremaining: 1.42s\n",
      "67:\tlearn: 0.4938318\ttotal: 103ms\tremaining: 1.41s\n",
      "68:\tlearn: 0.4896017\ttotal: 103ms\tremaining: 1.39s\n",
      "69:\tlearn: 0.4852039\ttotal: 103ms\tremaining: 1.37s\n",
      "70:\tlearn: 0.4811224\ttotal: 104ms\tremaining: 1.36s\n",
      "71:\tlearn: 0.4764015\ttotal: 105ms\tremaining: 1.35s\n",
      "72:\tlearn: 0.4723179\ttotal: 105ms\tremaining: 1.33s\n",
      "73:\tlearn: 0.4681765\ttotal: 105ms\tremaining: 1.32s\n",
      "74:\tlearn: 0.4637574\ttotal: 106ms\tremaining: 1.3s\n",
      "75:\tlearn: 0.4599269\ttotal: 106ms\tremaining: 1.29s\n",
      "76:\tlearn: 0.4556734\ttotal: 107ms\tremaining: 1.28s\n",
      "77:\tlearn: 0.4517395\ttotal: 107ms\tremaining: 1.27s\n"
     ]
    },
    {
     "name": "stdout",
     "output_type": "stream",
     "text": [
      "78:\tlearn: 0.4478576\ttotal: 108ms\tremaining: 1.26s\n",
      "79:\tlearn: 0.4439231\ttotal: 109ms\tremaining: 1.25s\n",
      "80:\tlearn: 0.4398957\ttotal: 109ms\tremaining: 1.24s\n",
      "81:\tlearn: 0.4362779\ttotal: 110ms\tremaining: 1.23s\n",
      "82:\tlearn: 0.4326214\ttotal: 110ms\tremaining: 1.22s\n",
      "83:\tlearn: 0.4291718\ttotal: 110ms\tremaining: 1.2s\n",
      "84:\tlearn: 0.4251071\ttotal: 111ms\tremaining: 1.19s\n",
      "85:\tlearn: 0.4227121\ttotal: 111ms\tremaining: 1.18s\n",
      "86:\tlearn: 0.4186550\ttotal: 112ms\tremaining: 1.17s\n",
      "87:\tlearn: 0.4154392\ttotal: 112ms\tremaining: 1.16s\n",
      "88:\tlearn: 0.4114553\ttotal: 113ms\tremaining: 1.15s\n",
      "89:\tlearn: 0.4079837\ttotal: 113ms\tremaining: 1.14s\n",
      "90:\tlearn: 0.4049283\ttotal: 114ms\tremaining: 1.13s\n",
      "91:\tlearn: 0.4015217\ttotal: 114ms\tremaining: 1.12s\n",
      "92:\tlearn: 0.3982712\ttotal: 114ms\tremaining: 1.11s\n",
      "93:\tlearn: 0.3947045\ttotal: 115ms\tremaining: 1.11s\n",
      "94:\tlearn: 0.3914002\ttotal: 115ms\tremaining: 1.1s\n",
      "95:\tlearn: 0.3881293\ttotal: 116ms\tremaining: 1.09s\n",
      "96:\tlearn: 0.3855790\ttotal: 116ms\tremaining: 1.08s\n",
      "97:\tlearn: 0.3823785\ttotal: 116ms\tremaining: 1.07s\n",
      "98:\tlearn: 0.3793919\ttotal: 117ms\tremaining: 1.06s\n",
      "99:\tlearn: 0.3761631\ttotal: 117ms\tremaining: 1.06s\n",
      "100:\tlearn: 0.3723108\ttotal: 118ms\tremaining: 1.05s\n",
      "101:\tlearn: 0.3691574\ttotal: 118ms\tremaining: 1.04s\n",
      "102:\tlearn: 0.3663389\ttotal: 119ms\tremaining: 1.03s\n",
      "103:\tlearn: 0.3638052\ttotal: 119ms\tremaining: 1.03s\n",
      "104:\tlearn: 0.3611520\ttotal: 120ms\tremaining: 1.02s\n",
      "105:\tlearn: 0.3579991\ttotal: 120ms\tremaining: 1.01s\n",
      "106:\tlearn: 0.3549379\ttotal: 120ms\tremaining: 1s\n",
      "107:\tlearn: 0.3521176\ttotal: 121ms\tremaining: 998ms\n",
      "108:\tlearn: 0.3488700\ttotal: 121ms\tremaining: 992ms\n",
      "109:\tlearn: 0.3460312\ttotal: 122ms\tremaining: 985ms\n",
      "110:\tlearn: 0.3428872\ttotal: 122ms\tremaining: 979ms\n",
      "111:\tlearn: 0.3405245\ttotal: 123ms\tremaining: 972ms\n",
      "112:\tlearn: 0.3377067\ttotal: 123ms\tremaining: 966ms\n",
      "113:\tlearn: 0.3350332\ttotal: 123ms\tremaining: 959ms\n",
      "114:\tlearn: 0.3324783\ttotal: 124ms\tremaining: 953ms\n",
      "115:\tlearn: 0.3296670\ttotal: 124ms\tremaining: 947ms\n",
      "116:\tlearn: 0.3267093\ttotal: 125ms\tremaining: 942ms\n",
      "117:\tlearn: 0.3240669\ttotal: 125ms\tremaining: 936ms\n",
      "118:\tlearn: 0.3213934\ttotal: 126ms\tremaining: 931ms\n",
      "119:\tlearn: 0.3188379\ttotal: 126ms\tremaining: 925ms\n",
      "120:\tlearn: 0.3167665\ttotal: 127ms\tremaining: 920ms\n",
      "121:\tlearn: 0.3140833\ttotal: 127ms\tremaining: 915ms\n",
      "122:\tlearn: 0.3118059\ttotal: 128ms\tremaining: 911ms\n",
      "123:\tlearn: 0.3092236\ttotal: 128ms\tremaining: 906ms\n",
      "124:\tlearn: 0.3068367\ttotal: 129ms\tremaining: 901ms\n",
      "125:\tlearn: 0.3042539\ttotal: 129ms\tremaining: 897ms\n",
      "126:\tlearn: 0.3023661\ttotal: 130ms\tremaining: 893ms\n",
      "127:\tlearn: 0.2997011\ttotal: 130ms\tremaining: 889ms\n",
      "128:\tlearn: 0.2970645\ttotal: 131ms\tremaining: 884ms\n",
      "129:\tlearn: 0.2952955\ttotal: 132ms\tremaining: 881ms\n",
      "130:\tlearn: 0.2929451\ttotal: 132ms\tremaining: 877ms\n",
      "131:\tlearn: 0.2904021\ttotal: 133ms\tremaining: 873ms\n",
      "132:\tlearn: 0.2881362\ttotal: 133ms\tremaining: 869ms\n",
      "133:\tlearn: 0.2858519\ttotal: 134ms\tremaining: 864ms\n",
      "134:\tlearn: 0.2835067\ttotal: 134ms\tremaining: 861ms\n",
      "135:\tlearn: 0.2813711\ttotal: 135ms\tremaining: 857ms\n",
      "136:\tlearn: 0.2792183\ttotal: 135ms\tremaining: 853ms\n",
      "137:\tlearn: 0.2774069\ttotal: 136ms\tremaining: 849ms\n",
      "138:\tlearn: 0.2754561\ttotal: 136ms\tremaining: 844ms\n",
      "139:\tlearn: 0.2732823\ttotal: 137ms\tremaining: 839ms\n",
      "140:\tlearn: 0.2711370\ttotal: 137ms\tremaining: 835ms\n",
      "141:\tlearn: 0.2687472\ttotal: 137ms\tremaining: 830ms\n",
      "142:\tlearn: 0.2669156\ttotal: 138ms\tremaining: 826ms\n",
      "143:\tlearn: 0.2649110\ttotal: 138ms\tremaining: 822ms\n",
      "144:\tlearn: 0.2631250\ttotal: 139ms\tremaining: 818ms\n",
      "145:\tlearn: 0.2613127\ttotal: 139ms\tremaining: 814ms\n",
      "146:\tlearn: 0.2592779\ttotal: 140ms\tremaining: 810ms\n",
      "147:\tlearn: 0.2571653\ttotal: 140ms\tremaining: 807ms\n",
      "148:\tlearn: 0.2553663\ttotal: 141ms\tremaining: 803ms\n",
      "149:\tlearn: 0.2531829\ttotal: 141ms\tremaining: 799ms\n",
      "150:\tlearn: 0.2512015\ttotal: 142ms\tremaining: 797ms\n",
      "151:\tlearn: 0.2492671\ttotal: 142ms\tremaining: 794ms\n",
      "152:\tlearn: 0.2476013\ttotal: 143ms\tremaining: 791ms\n",
      "153:\tlearn: 0.2456483\ttotal: 143ms\tremaining: 788ms\n",
      "154:\tlearn: 0.2439256\ttotal: 144ms\tremaining: 784ms\n",
      "155:\tlearn: 0.2420753\ttotal: 145ms\tremaining: 782ms\n",
      "156:\tlearn: 0.2401328\ttotal: 145ms\tremaining: 779ms\n",
      "157:\tlearn: 0.2381992\ttotal: 146ms\tremaining: 776ms\n",
      "158:\tlearn: 0.2362452\ttotal: 146ms\tremaining: 772ms\n",
      "159:\tlearn: 0.2348173\ttotal: 147ms\tremaining: 770ms\n",
      "160:\tlearn: 0.2333325\ttotal: 147ms\tremaining: 768ms\n",
      "161:\tlearn: 0.2318038\ttotal: 148ms\tremaining: 766ms\n",
      "162:\tlearn: 0.2300511\ttotal: 149ms\tremaining: 764ms\n",
      "163:\tlearn: 0.2282208\ttotal: 149ms\tremaining: 761ms\n",
      "164:\tlearn: 0.2267560\ttotal: 150ms\tremaining: 758ms\n",
      "165:\tlearn: 0.2251771\ttotal: 150ms\tremaining: 756ms\n",
      "166:\tlearn: 0.2236542\ttotal: 151ms\tremaining: 753ms\n",
      "167:\tlearn: 0.2218748\ttotal: 152ms\tremaining: 750ms\n",
      "168:\tlearn: 0.2204969\ttotal: 152ms\tremaining: 748ms\n",
      "169:\tlearn: 0.2189369\ttotal: 153ms\tremaining: 745ms\n",
      "170:\tlearn: 0.2175899\ttotal: 153ms\tremaining: 743ms\n",
      "171:\tlearn: 0.2161620\ttotal: 154ms\tremaining: 741ms\n",
      "172:\tlearn: 0.2146352\ttotal: 154ms\tremaining: 738ms\n",
      "173:\tlearn: 0.2131492\ttotal: 155ms\tremaining: 735ms\n",
      "174:\tlearn: 0.2115294\ttotal: 155ms\tremaining: 732ms\n",
      "175:\tlearn: 0.2100235\ttotal: 156ms\tremaining: 729ms\n",
      "176:\tlearn: 0.2084320\ttotal: 156ms\tremaining: 726ms\n",
      "177:\tlearn: 0.2070614\ttotal: 157ms\tremaining: 723ms\n",
      "178:\tlearn: 0.2055811\ttotal: 157ms\tremaining: 721ms\n",
      "179:\tlearn: 0.2040044\ttotal: 158ms\tremaining: 718ms\n",
      "180:\tlearn: 0.2025251\ttotal: 158ms\tremaining: 716ms\n",
      "181:\tlearn: 0.2011708\ttotal: 159ms\tremaining: 713ms\n",
      "182:\tlearn: 0.1998077\ttotal: 159ms\tremaining: 711ms\n",
      "183:\tlearn: 0.1984767\ttotal: 160ms\tremaining: 709ms\n",
      "184:\tlearn: 0.1972124\ttotal: 160ms\tremaining: 706ms\n",
      "185:\tlearn: 0.1958041\ttotal: 161ms\tremaining: 704ms\n",
      "186:\tlearn: 0.1942057\ttotal: 161ms\tremaining: 702ms\n",
      "187:\tlearn: 0.1925117\ttotal: 162ms\tremaining: 700ms\n",
      "188:\tlearn: 0.1913664\ttotal: 162ms\tremaining: 697ms\n",
      "189:\tlearn: 0.1900906\ttotal: 163ms\tremaining: 695ms\n",
      "190:\tlearn: 0.1884858\ttotal: 164ms\tremaining: 693ms\n",
      "191:\tlearn: 0.1871533\ttotal: 164ms\tremaining: 690ms\n",
      "192:\tlearn: 0.1858884\ttotal: 165ms\tremaining: 688ms\n",
      "193:\tlearn: 0.1844813\ttotal: 165ms\tremaining: 686ms\n",
      "194:\tlearn: 0.1830494\ttotal: 166ms\tremaining: 684ms\n",
      "195:\tlearn: 0.1818126\ttotal: 166ms\tremaining: 682ms\n",
      "196:\tlearn: 0.1807491\ttotal: 167ms\tremaining: 679ms\n",
      "197:\tlearn: 0.1795672\ttotal: 167ms\tremaining: 677ms\n",
      "198:\tlearn: 0.1782519\ttotal: 168ms\tremaining: 675ms\n",
      "199:\tlearn: 0.1769386\ttotal: 168ms\tremaining: 672ms\n",
      "200:\tlearn: 0.1757963\ttotal: 169ms\tremaining: 670ms\n",
      "201:\tlearn: 0.1744309\ttotal: 169ms\tremaining: 668ms\n",
      "202:\tlearn: 0.1731906\ttotal: 169ms\tremaining: 665ms\n",
      "203:\tlearn: 0.1720301\ttotal: 170ms\tremaining: 662ms\n",
      "204:\tlearn: 0.1710677\ttotal: 170ms\tremaining: 661ms\n",
      "205:\tlearn: 0.1700809\ttotal: 171ms\tremaining: 659ms\n",
      "206:\tlearn: 0.1691016\ttotal: 171ms\tremaining: 657ms\n",
      "207:\tlearn: 0.1678532\ttotal: 172ms\tremaining: 654ms\n",
      "208:\tlearn: 0.1667064\ttotal: 172ms\tremaining: 653ms\n",
      "209:\tlearn: 0.1655753\ttotal: 173ms\tremaining: 651ms\n",
      "210:\tlearn: 0.1644598\ttotal: 173ms\tremaining: 649ms\n",
      "211:\tlearn: 0.1633653\ttotal: 174ms\tremaining: 647ms\n",
      "212:\tlearn: 0.1622696\ttotal: 175ms\tremaining: 645ms\n",
      "213:\tlearn: 0.1610211\ttotal: 175ms\tremaining: 644ms\n",
      "214:\tlearn: 0.1600994\ttotal: 176ms\tremaining: 642ms\n",
      "215:\tlearn: 0.1590003\ttotal: 176ms\tremaining: 640ms\n",
      "216:\tlearn: 0.1580210\ttotal: 177ms\tremaining: 639ms\n",
      "217:\tlearn: 0.1570079\ttotal: 177ms\tremaining: 636ms\n",
      "218:\tlearn: 0.1559944\ttotal: 178ms\tremaining: 634ms\n",
      "219:\tlearn: 0.1548545\ttotal: 178ms\tremaining: 632ms\n",
      "220:\tlearn: 0.1538143\ttotal: 179ms\tremaining: 630ms\n",
      "221:\tlearn: 0.1528386\ttotal: 179ms\tremaining: 628ms\n",
      "222:\tlearn: 0.1518402\ttotal: 180ms\tremaining: 626ms\n",
      "223:\tlearn: 0.1507193\ttotal: 180ms\tremaining: 625ms\n",
      "224:\tlearn: 0.1496786\ttotal: 181ms\tremaining: 623ms\n",
      "225:\tlearn: 0.1487548\ttotal: 181ms\tremaining: 621ms\n",
      "226:\tlearn: 0.1477690\ttotal: 182ms\tremaining: 620ms\n",
      "227:\tlearn: 0.1467930\ttotal: 183ms\tremaining: 618ms\n",
      "228:\tlearn: 0.1457914\ttotal: 183ms\tremaining: 616ms\n",
      "229:\tlearn: 0.1449239\ttotal: 184ms\tremaining: 615ms\n",
      "230:\tlearn: 0.1441663\ttotal: 184ms\tremaining: 613ms\n",
      "231:\tlearn: 0.1431803\ttotal: 185ms\tremaining: 611ms\n",
      "232:\tlearn: 0.1420776\ttotal: 185ms\tremaining: 609ms\n",
      "233:\tlearn: 0.1411874\ttotal: 186ms\tremaining: 607ms\n",
      "234:\tlearn: 0.1404259\ttotal: 186ms\tremaining: 605ms\n",
      "235:\tlearn: 0.1395958\ttotal: 187ms\tremaining: 604ms\n",
      "236:\tlearn: 0.1386507\ttotal: 187ms\tremaining: 602ms\n"
     ]
    },
    {
     "name": "stdout",
     "output_type": "stream",
     "text": [
      "237:\tlearn: 0.1376961\ttotal: 188ms\tremaining: 601ms\n",
      "238:\tlearn: 0.1367357\ttotal: 189ms\tremaining: 600ms\n",
      "239:\tlearn: 0.1358938\ttotal: 189ms\tremaining: 599ms\n",
      "240:\tlearn: 0.1350556\ttotal: 190ms\tremaining: 597ms\n",
      "241:\tlearn: 0.1344537\ttotal: 190ms\tremaining: 596ms\n",
      "242:\tlearn: 0.1336246\ttotal: 191ms\tremaining: 594ms\n",
      "243:\tlearn: 0.1326766\ttotal: 191ms\tremaining: 592ms\n",
      "244:\tlearn: 0.1318714\ttotal: 192ms\tremaining: 591ms\n",
      "245:\tlearn: 0.1312146\ttotal: 192ms\tremaining: 590ms\n",
      "246:\tlearn: 0.1303490\ttotal: 193ms\tremaining: 588ms\n",
      "247:\tlearn: 0.1295536\ttotal: 193ms\tremaining: 587ms\n",
      "248:\tlearn: 0.1287081\ttotal: 194ms\tremaining: 585ms\n",
      "249:\tlearn: 0.1278219\ttotal: 195ms\tremaining: 584ms\n",
      "250:\tlearn: 0.1269494\ttotal: 195ms\tremaining: 582ms\n",
      "251:\tlearn: 0.1261012\ttotal: 196ms\tremaining: 580ms\n",
      "252:\tlearn: 0.1250655\ttotal: 196ms\tremaining: 579ms\n",
      "253:\tlearn: 0.1240553\ttotal: 197ms\tremaining: 578ms\n",
      "254:\tlearn: 0.1233038\ttotal: 197ms\tremaining: 576ms\n",
      "255:\tlearn: 0.1224213\ttotal: 198ms\tremaining: 575ms\n",
      "256:\tlearn: 0.1216964\ttotal: 198ms\tremaining: 574ms\n",
      "257:\tlearn: 0.1208445\ttotal: 199ms\tremaining: 572ms\n",
      "258:\tlearn: 0.1200965\ttotal: 199ms\tremaining: 570ms\n",
      "259:\tlearn: 0.1193537\ttotal: 200ms\tremaining: 569ms\n",
      "260:\tlearn: 0.1185398\ttotal: 201ms\tremaining: 568ms\n",
      "261:\tlearn: 0.1178322\ttotal: 201ms\tremaining: 566ms\n",
      "262:\tlearn: 0.1171874\ttotal: 201ms\tremaining: 565ms\n",
      "263:\tlearn: 0.1162602\ttotal: 202ms\tremaining: 563ms\n",
      "264:\tlearn: 0.1155617\ttotal: 202ms\tremaining: 561ms\n",
      "265:\tlearn: 0.1146479\ttotal: 203ms\tremaining: 560ms\n",
      "266:\tlearn: 0.1139347\ttotal: 204ms\tremaining: 559ms\n",
      "267:\tlearn: 0.1131349\ttotal: 204ms\tremaining: 558ms\n",
      "268:\tlearn: 0.1124926\ttotal: 205ms\tremaining: 556ms\n",
      "269:\tlearn: 0.1115937\ttotal: 205ms\tremaining: 555ms\n",
      "270:\tlearn: 0.1110285\ttotal: 206ms\tremaining: 553ms\n",
      "271:\tlearn: 0.1103042\ttotal: 206ms\tremaining: 552ms\n",
      "272:\tlearn: 0.1096161\ttotal: 207ms\tremaining: 550ms\n",
      "273:\tlearn: 0.1089543\ttotal: 207ms\tremaining: 549ms\n",
      "274:\tlearn: 0.1081389\ttotal: 208ms\tremaining: 547ms\n",
      "275:\tlearn: 0.1074344\ttotal: 208ms\tremaining: 546ms\n",
      "276:\tlearn: 0.1067573\ttotal: 209ms\tremaining: 544ms\n",
      "277:\tlearn: 0.1060731\ttotal: 209ms\tremaining: 543ms\n",
      "278:\tlearn: 0.1053883\ttotal: 210ms\tremaining: 542ms\n",
      "279:\tlearn: 0.1047484\ttotal: 210ms\tremaining: 541ms\n",
      "280:\tlearn: 0.1042220\ttotal: 211ms\tremaining: 539ms\n",
      "281:\tlearn: 0.1034013\ttotal: 211ms\tremaining: 538ms\n",
      "282:\tlearn: 0.1028027\ttotal: 212ms\tremaining: 537ms\n",
      "283:\tlearn: 0.1020834\ttotal: 212ms\tremaining: 535ms\n",
      "284:\tlearn: 0.1014912\ttotal: 213ms\tremaining: 534ms\n",
      "285:\tlearn: 0.1008638\ttotal: 213ms\tremaining: 533ms\n",
      "286:\tlearn: 0.1001721\ttotal: 214ms\tremaining: 531ms\n",
      "287:\tlearn: 0.0995891\ttotal: 214ms\tremaining: 530ms\n",
      "288:\tlearn: 0.0990069\ttotal: 215ms\tremaining: 529ms\n",
      "289:\tlearn: 0.0982474\ttotal: 215ms\tremaining: 527ms\n",
      "290:\tlearn: 0.0976917\ttotal: 216ms\tremaining: 526ms\n",
      "291:\tlearn: 0.0971022\ttotal: 216ms\tremaining: 525ms\n",
      "292:\tlearn: 0.0964934\ttotal: 217ms\tremaining: 524ms\n",
      "293:\tlearn: 0.0959262\ttotal: 218ms\tremaining: 523ms\n",
      "294:\tlearn: 0.0953971\ttotal: 218ms\tremaining: 522ms\n",
      "295:\tlearn: 0.0948371\ttotal: 219ms\tremaining: 520ms\n",
      "296:\tlearn: 0.0942799\ttotal: 219ms\tremaining: 519ms\n",
      "297:\tlearn: 0.0938300\ttotal: 220ms\tremaining: 518ms\n",
      "298:\tlearn: 0.0932682\ttotal: 220ms\tremaining: 516ms\n",
      "299:\tlearn: 0.0927635\ttotal: 221ms\tremaining: 516ms\n",
      "300:\tlearn: 0.0922400\ttotal: 221ms\tremaining: 514ms\n",
      "301:\tlearn: 0.0917913\ttotal: 222ms\tremaining: 513ms\n",
      "302:\tlearn: 0.0912701\ttotal: 223ms\tremaining: 512ms\n",
      "303:\tlearn: 0.0908552\ttotal: 223ms\tremaining: 511ms\n",
      "304:\tlearn: 0.0904080\ttotal: 224ms\tremaining: 510ms\n",
      "305:\tlearn: 0.0899965\ttotal: 224ms\tremaining: 508ms\n",
      "306:\tlearn: 0.0894598\ttotal: 225ms\tremaining: 507ms\n",
      "307:\tlearn: 0.0889216\ttotal: 225ms\tremaining: 505ms\n",
      "308:\tlearn: 0.0883130\ttotal: 225ms\tremaining: 504ms\n",
      "309:\tlearn: 0.0878784\ttotal: 226ms\tremaining: 503ms\n",
      "310:\tlearn: 0.0873915\ttotal: 227ms\tremaining: 502ms\n",
      "311:\tlearn: 0.0868295\ttotal: 227ms\tremaining: 500ms\n",
      "312:\tlearn: 0.0864148\ttotal: 228ms\tremaining: 499ms\n",
      "313:\tlearn: 0.0859490\ttotal: 228ms\tremaining: 498ms\n",
      "314:\tlearn: 0.0854961\ttotal: 228ms\tremaining: 497ms\n",
      "315:\tlearn: 0.0850636\ttotal: 229ms\tremaining: 495ms\n",
      "316:\tlearn: 0.0845398\ttotal: 229ms\tremaining: 494ms\n",
      "317:\tlearn: 0.0840803\ttotal: 230ms\tremaining: 493ms\n",
      "318:\tlearn: 0.0835021\ttotal: 230ms\tremaining: 492ms\n",
      "319:\tlearn: 0.0830703\ttotal: 231ms\tremaining: 491ms\n",
      "320:\tlearn: 0.0824905\ttotal: 231ms\tremaining: 490ms\n",
      "321:\tlearn: 0.0821438\ttotal: 232ms\tremaining: 489ms\n",
      "322:\tlearn: 0.0816153\ttotal: 233ms\tremaining: 488ms\n",
      "323:\tlearn: 0.0812696\ttotal: 233ms\tremaining: 486ms\n",
      "324:\tlearn: 0.0807766\ttotal: 234ms\tremaining: 486ms\n",
      "325:\tlearn: 0.0804463\ttotal: 235ms\tremaining: 486ms\n",
      "326:\tlearn: 0.0800802\ttotal: 236ms\tremaining: 485ms\n",
      "327:\tlearn: 0.0796589\ttotal: 236ms\tremaining: 483ms\n",
      "328:\tlearn: 0.0791915\ttotal: 237ms\tremaining: 482ms\n",
      "329:\tlearn: 0.0786685\ttotal: 237ms\tremaining: 481ms\n",
      "330:\tlearn: 0.0781449\ttotal: 237ms\tremaining: 480ms\n",
      "331:\tlearn: 0.0776280\ttotal: 238ms\tremaining: 479ms\n",
      "332:\tlearn: 0.0771538\ttotal: 239ms\tremaining: 478ms\n",
      "333:\tlearn: 0.0768484\ttotal: 239ms\tremaining: 477ms\n",
      "334:\tlearn: 0.0763874\ttotal: 240ms\tremaining: 475ms\n",
      "335:\tlearn: 0.0758986\ttotal: 240ms\tremaining: 475ms\n",
      "336:\tlearn: 0.0753709\ttotal: 241ms\tremaining: 474ms\n",
      "337:\tlearn: 0.0750753\ttotal: 241ms\tremaining: 473ms\n",
      "338:\tlearn: 0.0747058\ttotal: 242ms\tremaining: 471ms\n",
      "339:\tlearn: 0.0742359\ttotal: 242ms\tremaining: 471ms\n",
      "340:\tlearn: 0.0738733\ttotal: 243ms\tremaining: 470ms\n",
      "341:\tlearn: 0.0735145\ttotal: 244ms\tremaining: 468ms\n",
      "342:\tlearn: 0.0730818\ttotal: 244ms\tremaining: 468ms\n",
      "343:\tlearn: 0.0726326\ttotal: 245ms\tremaining: 466ms\n",
      "344:\tlearn: 0.0721915\ttotal: 245ms\tremaining: 466ms\n",
      "345:\tlearn: 0.0717272\ttotal: 246ms\tremaining: 464ms\n",
      "346:\tlearn: 0.0712546\ttotal: 246ms\tremaining: 464ms\n",
      "347:\tlearn: 0.0708363\ttotal: 247ms\tremaining: 463ms\n",
      "348:\tlearn: 0.0705659\ttotal: 248ms\tremaining: 462ms\n",
      "349:\tlearn: 0.0702307\ttotal: 248ms\tremaining: 461ms\n",
      "350:\tlearn: 0.0698624\ttotal: 249ms\tremaining: 460ms\n",
      "351:\tlearn: 0.0694269\ttotal: 249ms\tremaining: 459ms\n",
      "352:\tlearn: 0.0691668\ttotal: 250ms\tremaining: 457ms\n",
      "353:\tlearn: 0.0687418\ttotal: 250ms\tremaining: 457ms\n",
      "354:\tlearn: 0.0684871\ttotal: 251ms\tremaining: 455ms\n",
      "355:\tlearn: 0.0681398\ttotal: 251ms\tremaining: 454ms\n",
      "356:\tlearn: 0.0677680\ttotal: 252ms\tremaining: 454ms\n",
      "357:\tlearn: 0.0673638\ttotal: 252ms\tremaining: 453ms\n",
      "358:\tlearn: 0.0669759\ttotal: 253ms\tremaining: 452ms\n",
      "359:\tlearn: 0.0665947\ttotal: 253ms\tremaining: 450ms\n",
      "360:\tlearn: 0.0662276\ttotal: 254ms\tremaining: 449ms\n",
      "361:\tlearn: 0.0659849\ttotal: 254ms\tremaining: 448ms\n",
      "362:\tlearn: 0.0655550\ttotal: 255ms\tremaining: 447ms\n",
      "363:\tlearn: 0.0651386\ttotal: 255ms\tremaining: 446ms\n",
      "364:\tlearn: 0.0647990\ttotal: 256ms\tremaining: 445ms\n",
      "365:\tlearn: 0.0644216\ttotal: 256ms\tremaining: 444ms\n",
      "366:\tlearn: 0.0640688\ttotal: 257ms\tremaining: 443ms\n",
      "367:\tlearn: 0.0636711\ttotal: 258ms\tremaining: 442ms\n",
      "368:\tlearn: 0.0633430\ttotal: 258ms\tremaining: 441ms\n",
      "369:\tlearn: 0.0629877\ttotal: 259ms\tremaining: 440ms\n",
      "370:\tlearn: 0.0626705\ttotal: 259ms\tremaining: 439ms\n",
      "371:\tlearn: 0.0623739\ttotal: 260ms\tremaining: 438ms\n",
      "372:\tlearn: 0.0620822\ttotal: 260ms\tremaining: 437ms\n",
      "373:\tlearn: 0.0617528\ttotal: 260ms\tremaining: 436ms\n",
      "374:\tlearn: 0.0614613\ttotal: 261ms\tremaining: 435ms\n",
      "375:\tlearn: 0.0611673\ttotal: 261ms\tremaining: 434ms\n",
      "376:\tlearn: 0.0608488\ttotal: 262ms\tremaining: 433ms\n",
      "377:\tlearn: 0.0605592\ttotal: 262ms\tremaining: 432ms\n",
      "378:\tlearn: 0.0603452\ttotal: 263ms\tremaining: 431ms\n",
      "379:\tlearn: 0.0600601\ttotal: 263ms\tremaining: 430ms\n",
      "380:\tlearn: 0.0597612\ttotal: 264ms\tremaining: 429ms\n",
      "381:\tlearn: 0.0595539\ttotal: 264ms\tremaining: 428ms\n",
      "382:\tlearn: 0.0592632\ttotal: 265ms\tremaining: 427ms\n",
      "383:\tlearn: 0.0588927\ttotal: 265ms\tremaining: 426ms\n",
      "384:\tlearn: 0.0585960\ttotal: 266ms\tremaining: 425ms\n",
      "385:\tlearn: 0.0583176\ttotal: 267ms\tremaining: 424ms\n",
      "386:\tlearn: 0.0581171\ttotal: 267ms\tremaining: 423ms\n",
      "387:\tlearn: 0.0578059\ttotal: 267ms\tremaining: 422ms\n",
      "388:\tlearn: 0.0575153\ttotal: 268ms\tremaining: 421ms\n",
      "389:\tlearn: 0.0573196\ttotal: 268ms\tremaining: 420ms\n",
      "390:\tlearn: 0.0569689\ttotal: 269ms\tremaining: 419ms\n",
      "391:\tlearn: 0.0567777\ttotal: 269ms\tremaining: 418ms\n",
      "392:\tlearn: 0.0565697\ttotal: 270ms\tremaining: 417ms\n",
      "393:\tlearn: 0.0562732\ttotal: 270ms\tremaining: 415ms\n",
      "394:\tlearn: 0.0559375\ttotal: 271ms\tremaining: 414ms\n",
      "395:\tlearn: 0.0556086\ttotal: 271ms\tremaining: 414ms\n",
      "396:\tlearn: 0.0553477\ttotal: 272ms\tremaining: 413ms\n",
      "397:\tlearn: 0.0550896\ttotal: 272ms\tremaining: 412ms\n",
      "398:\tlearn: 0.0548364\ttotal: 273ms\tremaining: 411ms\n",
      "399:\tlearn: 0.0545684\ttotal: 273ms\tremaining: 410ms\n",
      "400:\tlearn: 0.0543885\ttotal: 274ms\tremaining: 409ms\n",
      "401:\tlearn: 0.0542112\ttotal: 274ms\tremaining: 407ms\n",
      "402:\tlearn: 0.0539614\ttotal: 274ms\tremaining: 406ms\n",
      "403:\tlearn: 0.0537264\ttotal: 275ms\tremaining: 405ms\n",
      "404:\tlearn: 0.0534573\ttotal: 275ms\tremaining: 405ms\n",
      "405:\tlearn: 0.0532154\ttotal: 276ms\tremaining: 404ms\n",
      "406:\tlearn: 0.0529523\ttotal: 276ms\tremaining: 402ms\n",
      "407:\tlearn: 0.0527234\ttotal: 277ms\tremaining: 402ms\n",
      "408:\tlearn: 0.0524727\ttotal: 277ms\tremaining: 401ms\n",
      "409:\tlearn: 0.0522166\ttotal: 278ms\tremaining: 400ms\n",
      "410:\tlearn: 0.0519568\ttotal: 279ms\tremaining: 399ms\n",
      "411:\tlearn: 0.0517862\ttotal: 279ms\tremaining: 398ms\n",
      "412:\tlearn: 0.0515683\ttotal: 280ms\tremaining: 397ms\n",
      "413:\tlearn: 0.0513264\ttotal: 280ms\tremaining: 396ms\n",
      "414:\tlearn: 0.0510799\ttotal: 281ms\tremaining: 396ms\n",
      "415:\tlearn: 0.0508378\ttotal: 281ms\tremaining: 395ms\n",
      "416:\tlearn: 0.0506154\ttotal: 281ms\tremaining: 394ms\n",
      "417:\tlearn: 0.0504602\ttotal: 282ms\tremaining: 393ms\n",
      "418:\tlearn: 0.0502496\ttotal: 283ms\tremaining: 392ms\n",
      "419:\tlearn: 0.0500969\ttotal: 283ms\tremaining: 391ms\n",
      "420:\tlearn: 0.0498807\ttotal: 284ms\tremaining: 390ms\n",
      "421:\tlearn: 0.0495962\ttotal: 284ms\tremaining: 389ms\n",
      "422:\tlearn: 0.0494383\ttotal: 285ms\tremaining: 388ms\n",
      "423:\tlearn: 0.0492006\ttotal: 285ms\tremaining: 387ms\n",
      "424:\tlearn: 0.0489397\ttotal: 286ms\tremaining: 386ms\n",
      "425:\tlearn: 0.0487949\ttotal: 286ms\tremaining: 385ms\n",
      "426:\tlearn: 0.0486441\ttotal: 286ms\tremaining: 384ms\n",
      "427:\tlearn: 0.0484406\ttotal: 287ms\tremaining: 383ms\n",
      "428:\tlearn: 0.0481892\ttotal: 287ms\tremaining: 382ms\n",
      "429:\tlearn: 0.0480433\ttotal: 288ms\tremaining: 381ms\n",
      "430:\tlearn: 0.0478452\ttotal: 288ms\tremaining: 380ms\n",
      "431:\tlearn: 0.0477080\ttotal: 288ms\tremaining: 379ms\n",
      "432:\tlearn: 0.0474655\ttotal: 289ms\tremaining: 378ms\n",
      "433:\tlearn: 0.0473238\ttotal: 290ms\tremaining: 378ms\n",
      "434:\tlearn: 0.0471070\ttotal: 290ms\tremaining: 377ms\n",
      "435:\tlearn: 0.0468732\ttotal: 290ms\tremaining: 376ms\n",
      "436:\tlearn: 0.0467369\ttotal: 291ms\tremaining: 375ms\n",
      "437:\tlearn: 0.0465947\ttotal: 291ms\tremaining: 374ms\n",
      "438:\tlearn: 0.0463819\ttotal: 292ms\tremaining: 373ms\n"
     ]
    },
    {
     "name": "stdout",
     "output_type": "stream",
     "text": [
      "439:\tlearn: 0.0461564\ttotal: 292ms\tremaining: 372ms\n",
      "440:\tlearn: 0.0459148\ttotal: 293ms\tremaining: 371ms\n",
      "441:\tlearn: 0.0456858\ttotal: 294ms\tremaining: 371ms\n",
      "442:\tlearn: 0.0454792\ttotal: 294ms\tremaining: 370ms\n",
      "443:\tlearn: 0.0452727\ttotal: 295ms\tremaining: 369ms\n",
      "444:\tlearn: 0.0450582\ttotal: 295ms\tremaining: 368ms\n",
      "445:\tlearn: 0.0449331\ttotal: 296ms\tremaining: 367ms\n",
      "446:\tlearn: 0.0448089\ttotal: 296ms\tremaining: 366ms\n",
      "447:\tlearn: 0.0445873\ttotal: 297ms\tremaining: 366ms\n",
      "448:\tlearn: 0.0443898\ttotal: 297ms\tremaining: 365ms\n",
      "449:\tlearn: 0.0442727\ttotal: 298ms\tremaining: 364ms\n",
      "450:\tlearn: 0.0441153\ttotal: 298ms\tremaining: 363ms\n",
      "451:\tlearn: 0.0439229\ttotal: 299ms\tremaining: 362ms\n",
      "452:\tlearn: 0.0437438\ttotal: 299ms\tremaining: 361ms\n",
      "453:\tlearn: 0.0436260\ttotal: 300ms\tremaining: 361ms\n",
      "454:\tlearn: 0.0434153\ttotal: 300ms\tremaining: 360ms\n",
      "455:\tlearn: 0.0432257\ttotal: 301ms\tremaining: 359ms\n",
      "456:\tlearn: 0.0430206\ttotal: 301ms\tremaining: 358ms\n",
      "457:\tlearn: 0.0428205\ttotal: 302ms\tremaining: 357ms\n",
      "458:\tlearn: 0.0426953\ttotal: 302ms\tremaining: 356ms\n",
      "459:\tlearn: 0.0425117\ttotal: 303ms\tremaining: 356ms\n",
      "460:\tlearn: 0.0422980\ttotal: 303ms\tremaining: 355ms\n",
      "461:\tlearn: 0.0421057\ttotal: 304ms\tremaining: 354ms\n",
      "462:\tlearn: 0.0418998\ttotal: 304ms\tremaining: 353ms\n",
      "463:\tlearn: 0.0417232\ttotal: 305ms\tremaining: 352ms\n",
      "464:\tlearn: 0.0416029\ttotal: 306ms\tremaining: 352ms\n",
      "465:\tlearn: 0.0414285\ttotal: 306ms\tremaining: 351ms\n",
      "466:\tlearn: 0.0412142\ttotal: 306ms\tremaining: 350ms\n",
      "467:\tlearn: 0.0410148\ttotal: 307ms\tremaining: 349ms\n",
      "468:\tlearn: 0.0408649\ttotal: 307ms\tremaining: 348ms\n",
      "469:\tlearn: 0.0406724\ttotal: 308ms\tremaining: 347ms\n",
      "470:\tlearn: 0.0405572\ttotal: 308ms\tremaining: 346ms\n",
      "471:\tlearn: 0.0403684\ttotal: 309ms\tremaining: 345ms\n",
      "472:\tlearn: 0.0402034\ttotal: 309ms\tremaining: 345ms\n",
      "473:\tlearn: 0.0400115\ttotal: 310ms\tremaining: 344ms\n",
      "474:\tlearn: 0.0398452\ttotal: 310ms\tremaining: 343ms\n",
      "475:\tlearn: 0.0396634\ttotal: 311ms\tremaining: 342ms\n",
      "476:\tlearn: 0.0395533\ttotal: 311ms\tremaining: 341ms\n",
      "477:\tlearn: 0.0393678\ttotal: 312ms\tremaining: 340ms\n",
      "478:\tlearn: 0.0392309\ttotal: 312ms\tremaining: 339ms\n",
      "479:\tlearn: 0.0390545\ttotal: 313ms\tremaining: 339ms\n",
      "480:\tlearn: 0.0389475\ttotal: 313ms\tremaining: 338ms\n",
      "481:\tlearn: 0.0387751\ttotal: 314ms\tremaining: 338ms\n",
      "482:\tlearn: 0.0386701\ttotal: 315ms\tremaining: 337ms\n",
      "483:\tlearn: 0.0385168\ttotal: 316ms\tremaining: 336ms\n",
      "484:\tlearn: 0.0382749\ttotal: 316ms\tremaining: 336ms\n",
      "485:\tlearn: 0.0380378\ttotal: 316ms\tremaining: 335ms\n",
      "486:\tlearn: 0.0378057\ttotal: 317ms\tremaining: 334ms\n",
      "487:\tlearn: 0.0375783\ttotal: 317ms\tremaining: 333ms\n",
      "488:\tlearn: 0.0373555\ttotal: 318ms\tremaining: 332ms\n",
      "489:\tlearn: 0.0371272\ttotal: 319ms\tremaining: 332ms\n",
      "490:\tlearn: 0.0369120\ttotal: 319ms\tremaining: 331ms\n",
      "491:\tlearn: 0.0366915\ttotal: 319ms\tremaining: 330ms\n",
      "492:\tlearn: 0.0364837\ttotal: 320ms\tremaining: 329ms\n",
      "493:\tlearn: 0.0362708\ttotal: 320ms\tremaining: 328ms\n",
      "494:\tlearn: 0.0360700\ttotal: 321ms\tremaining: 328ms\n",
      "495:\tlearn: 0.0358733\ttotal: 322ms\tremaining: 327ms\n",
      "496:\tlearn: 0.0356705\ttotal: 322ms\tremaining: 326ms\n",
      "497:\tlearn: 0.0354806\ttotal: 323ms\tremaining: 325ms\n",
      "498:\tlearn: 0.0352847\ttotal: 323ms\tremaining: 324ms\n",
      "499:\tlearn: 0.0351013\ttotal: 324ms\tremaining: 324ms\n",
      "500:\tlearn: 0.0349492\ttotal: 324ms\tremaining: 323ms\n",
      "501:\tlearn: 0.0347614\ttotal: 325ms\tremaining: 322ms\n",
      "502:\tlearn: 0.0346138\ttotal: 325ms\tremaining: 321ms\n",
      "503:\tlearn: 0.0344694\ttotal: 326ms\tremaining: 321ms\n",
      "504:\tlearn: 0.0342961\ttotal: 326ms\tremaining: 320ms\n",
      "505:\tlearn: 0.0341561\ttotal: 327ms\tremaining: 319ms\n",
      "506:\tlearn: 0.0340119\ttotal: 327ms\tremaining: 318ms\n",
      "507:\tlearn: 0.0338355\ttotal: 328ms\tremaining: 318ms\n",
      "508:\tlearn: 0.0337057\ttotal: 329ms\tremaining: 317ms\n",
      "509:\tlearn: 0.0335772\ttotal: 329ms\tremaining: 316ms\n",
      "510:\tlearn: 0.0334481\ttotal: 330ms\tremaining: 315ms\n",
      "511:\tlearn: 0.0333245\ttotal: 330ms\tremaining: 315ms\n",
      "512:\tlearn: 0.0331914\ttotal: 331ms\tremaining: 314ms\n",
      "513:\tlearn: 0.0330697\ttotal: 331ms\tremaining: 313ms\n",
      "514:\tlearn: 0.0329507\ttotal: 332ms\tremaining: 313ms\n",
      "515:\tlearn: 0.0328210\ttotal: 332ms\tremaining: 312ms\n",
      "516:\tlearn: 0.0327006\ttotal: 333ms\tremaining: 311ms\n",
      "517:\tlearn: 0.0325860\ttotal: 333ms\tremaining: 310ms\n",
      "518:\tlearn: 0.0324636\ttotal: 334ms\tremaining: 309ms\n",
      "519:\tlearn: 0.0323476\ttotal: 335ms\tremaining: 309ms\n",
      "520:\tlearn: 0.0322361\ttotal: 335ms\tremaining: 308ms\n",
      "521:\tlearn: 0.0321357\ttotal: 335ms\tremaining: 307ms\n",
      "522:\tlearn: 0.0320217\ttotal: 336ms\tremaining: 306ms\n",
      "523:\tlearn: 0.0319233\ttotal: 336ms\tremaining: 306ms\n",
      "524:\tlearn: 0.0318116\ttotal: 337ms\tremaining: 305ms\n",
      "525:\tlearn: 0.0317340\ttotal: 337ms\tremaining: 304ms\n",
      "526:\tlearn: 0.0316247\ttotal: 338ms\tremaining: 303ms\n",
      "527:\tlearn: 0.0315290\ttotal: 338ms\tremaining: 303ms\n",
      "528:\tlearn: 0.0314219\ttotal: 339ms\tremaining: 302ms\n",
      "529:\tlearn: 0.0313326\ttotal: 340ms\tremaining: 301ms\n",
      "530:\tlearn: 0.0312275\ttotal: 340ms\tremaining: 300ms\n",
      "531:\tlearn: 0.0311529\ttotal: 341ms\tremaining: 300ms\n",
      "532:\tlearn: 0.0310500\ttotal: 341ms\tremaining: 299ms\n",
      "533:\tlearn: 0.0309578\ttotal: 342ms\tremaining: 298ms\n",
      "534:\tlearn: 0.0308703\ttotal: 342ms\tremaining: 297ms\n",
      "535:\tlearn: 0.0307311\ttotal: 343ms\tremaining: 297ms\n",
      "536:\tlearn: 0.0306403\ttotal: 343ms\tremaining: 296ms\n",
      "537:\tlearn: 0.0305407\ttotal: 344ms\tremaining: 295ms\n",
      "538:\tlearn: 0.0304559\ttotal: 344ms\tremaining: 294ms\n",
      "539:\tlearn: 0.0303204\ttotal: 345ms\tremaining: 294ms\n",
      "540:\tlearn: 0.0302520\ttotal: 345ms\tremaining: 293ms\n",
      "541:\tlearn: 0.0301194\ttotal: 346ms\tremaining: 292ms\n",
      "542:\tlearn: 0.0300384\ttotal: 346ms\tremaining: 291ms\n",
      "543:\tlearn: 0.0299512\ttotal: 347ms\tremaining: 291ms\n",
      "544:\tlearn: 0.0298088\ttotal: 347ms\tremaining: 290ms\n",
      "545:\tlearn: 0.0297237\ttotal: 348ms\tremaining: 289ms\n",
      "546:\tlearn: 0.0296405\ttotal: 349ms\tremaining: 289ms\n",
      "547:\tlearn: 0.0295228\ttotal: 349ms\tremaining: 288ms\n",
      "548:\tlearn: 0.0294581\ttotal: 350ms\tremaining: 287ms\n",
      "549:\tlearn: 0.0293207\ttotal: 350ms\tremaining: 287ms\n",
      "550:\tlearn: 0.0292031\ttotal: 351ms\tremaining: 286ms\n",
      "551:\tlearn: 0.0290881\ttotal: 351ms\tremaining: 285ms\n",
      "552:\tlearn: 0.0289553\ttotal: 352ms\tremaining: 284ms\n",
      "553:\tlearn: 0.0288434\ttotal: 352ms\tremaining: 284ms\n",
      "554:\tlearn: 0.0287144\ttotal: 353ms\tremaining: 283ms\n",
      "555:\tlearn: 0.0286301\ttotal: 353ms\tremaining: 282ms\n",
      "556:\tlearn: 0.0285221\ttotal: 354ms\tremaining: 281ms\n",
      "557:\tlearn: 0.0284043\ttotal: 354ms\tremaining: 281ms\n",
      "558:\tlearn: 0.0283230\ttotal: 355ms\tremaining: 280ms\n",
      "559:\tlearn: 0.0282081\ttotal: 355ms\tremaining: 279ms\n",
      "560:\tlearn: 0.0281106\ttotal: 356ms\tremaining: 278ms\n",
      "561:\tlearn: 0.0279983\ttotal: 356ms\tremaining: 278ms\n",
      "562:\tlearn: 0.0278881\ttotal: 357ms\tremaining: 277ms\n",
      "563:\tlearn: 0.0277867\ttotal: 357ms\tremaining: 276ms\n",
      "564:\tlearn: 0.0276794\ttotal: 358ms\tremaining: 276ms\n",
      "565:\tlearn: 0.0275856\ttotal: 359ms\tremaining: 275ms\n",
      "566:\tlearn: 0.0274808\ttotal: 359ms\tremaining: 274ms\n",
      "567:\tlearn: 0.0273625\ttotal: 360ms\tremaining: 274ms\n",
      "568:\tlearn: 0.0272600\ttotal: 360ms\tremaining: 273ms\n",
      "569:\tlearn: 0.0271595\ttotal: 361ms\tremaining: 272ms\n",
      "570:\tlearn: 0.0270694\ttotal: 361ms\tremaining: 271ms\n",
      "571:\tlearn: 0.0269711\ttotal: 362ms\tremaining: 271ms\n",
      "572:\tlearn: 0.0268851\ttotal: 362ms\tremaining: 270ms\n",
      "573:\tlearn: 0.0267681\ttotal: 363ms\tremaining: 269ms\n",
      "574:\tlearn: 0.0266730\ttotal: 363ms\tremaining: 268ms\n",
      "575:\tlearn: 0.0265890\ttotal: 364ms\tremaining: 268ms\n",
      "576:\tlearn: 0.0264753\ttotal: 365ms\tremaining: 267ms\n",
      "577:\tlearn: 0.0263496\ttotal: 365ms\tremaining: 267ms\n",
      "578:\tlearn: 0.0262576\ttotal: 366ms\tremaining: 266ms\n",
      "579:\tlearn: 0.0261344\ttotal: 366ms\tremaining: 265ms\n",
      "580:\tlearn: 0.0260533\ttotal: 367ms\tremaining: 264ms\n",
      "581:\tlearn: 0.0259247\ttotal: 367ms\tremaining: 264ms\n",
      "582:\tlearn: 0.0258351\ttotal: 368ms\tremaining: 263ms\n",
      "583:\tlearn: 0.0257163\ttotal: 368ms\tremaining: 262ms\n",
      "584:\tlearn: 0.0255919\ttotal: 369ms\tremaining: 262ms\n",
      "585:\tlearn: 0.0255235\ttotal: 369ms\tremaining: 261ms\n",
      "586:\tlearn: 0.0254364\ttotal: 370ms\tremaining: 260ms\n",
      "587:\tlearn: 0.0253584\ttotal: 370ms\tremaining: 259ms\n",
      "588:\tlearn: 0.0252513\ttotal: 371ms\tremaining: 259ms\n",
      "589:\tlearn: 0.0251750\ttotal: 371ms\tremaining: 258ms\n"
     ]
    },
    {
     "name": "stdout",
     "output_type": "stream",
     "text": [
      "590:\tlearn: 0.0250912\ttotal: 372ms\tremaining: 257ms\n",
      "591:\tlearn: 0.0249750\ttotal: 373ms\tremaining: 257ms\n",
      "592:\tlearn: 0.0248931\ttotal: 373ms\tremaining: 256ms\n",
      "593:\tlearn: 0.0248201\ttotal: 373ms\tremaining: 255ms\n",
      "594:\tlearn: 0.0247401\ttotal: 374ms\tremaining: 255ms\n",
      "595:\tlearn: 0.0246522\ttotal: 374ms\tremaining: 254ms\n",
      "596:\tlearn: 0.0245777\ttotal: 375ms\tremaining: 253ms\n",
      "597:\tlearn: 0.0244768\ttotal: 375ms\tremaining: 252ms\n",
      "598:\tlearn: 0.0244066\ttotal: 376ms\tremaining: 252ms\n",
      "599:\tlearn: 0.0243378\ttotal: 376ms\tremaining: 251ms\n",
      "600:\tlearn: 0.0242733\ttotal: 377ms\tremaining: 250ms\n",
      "601:\tlearn: 0.0241757\ttotal: 377ms\tremaining: 249ms\n",
      "602:\tlearn: 0.0240915\ttotal: 377ms\tremaining: 249ms\n",
      "603:\tlearn: 0.0240089\ttotal: 378ms\tremaining: 248ms\n",
      "604:\tlearn: 0.0239445\ttotal: 379ms\tremaining: 247ms\n",
      "605:\tlearn: 0.0238826\ttotal: 379ms\tremaining: 246ms\n",
      "606:\tlearn: 0.0238020\ttotal: 379ms\tremaining: 246ms\n",
      "607:\tlearn: 0.0237482\ttotal: 380ms\tremaining: 245ms\n",
      "608:\tlearn: 0.0236753\ttotal: 380ms\tremaining: 244ms\n",
      "609:\tlearn: 0.0236109\ttotal: 381ms\tremaining: 244ms\n",
      "610:\tlearn: 0.0235297\ttotal: 381ms\tremaining: 243ms\n",
      "611:\tlearn: 0.0234521\ttotal: 382ms\tremaining: 242ms\n",
      "612:\tlearn: 0.0233761\ttotal: 382ms\tremaining: 241ms\n",
      "613:\tlearn: 0.0232973\ttotal: 383ms\tremaining: 241ms\n",
      "614:\tlearn: 0.0232231\ttotal: 383ms\tremaining: 240ms\n",
      "615:\tlearn: 0.0231719\ttotal: 384ms\tremaining: 239ms\n",
      "616:\tlearn: 0.0231033\ttotal: 385ms\tremaining: 239ms\n",
      "617:\tlearn: 0.0230311\ttotal: 385ms\tremaining: 238ms\n",
      "618:\tlearn: 0.0229698\ttotal: 385ms\tremaining: 237ms\n",
      "619:\tlearn: 0.0229106\ttotal: 386ms\tremaining: 237ms\n",
      "620:\tlearn: 0.0228491\ttotal: 386ms\tremaining: 236ms\n",
      "621:\tlearn: 0.0227889\ttotal: 387ms\tremaining: 235ms\n",
      "622:\tlearn: 0.0227403\ttotal: 387ms\tremaining: 234ms\n",
      "623:\tlearn: 0.0226669\ttotal: 388ms\tremaining: 234ms\n",
      "624:\tlearn: 0.0226098\ttotal: 388ms\tremaining: 233ms\n",
      "625:\tlearn: 0.0225537\ttotal: 389ms\tremaining: 232ms\n",
      "626:\tlearn: 0.0224957\ttotal: 389ms\tremaining: 232ms\n",
      "627:\tlearn: 0.0224339\ttotal: 390ms\tremaining: 231ms\n",
      "628:\tlearn: 0.0223510\ttotal: 390ms\tremaining: 230ms\n",
      "629:\tlearn: 0.0223117\ttotal: 391ms\tremaining: 230ms\n",
      "630:\tlearn: 0.0222459\ttotal: 391ms\tremaining: 229ms\n",
      "631:\tlearn: 0.0221868\ttotal: 392ms\tremaining: 228ms\n",
      "632:\tlearn: 0.0221483\ttotal: 392ms\tremaining: 228ms\n",
      "633:\tlearn: 0.0220839\ttotal: 393ms\tremaining: 227ms\n",
      "634:\tlearn: 0.0220462\ttotal: 394ms\tremaining: 226ms\n",
      "635:\tlearn: 0.0219832\ttotal: 394ms\tremaining: 226ms\n",
      "636:\tlearn: 0.0219148\ttotal: 395ms\tremaining: 225ms\n",
      "637:\tlearn: 0.0218532\ttotal: 395ms\tremaining: 224ms\n",
      "638:\tlearn: 0.0217705\ttotal: 396ms\tremaining: 224ms\n",
      "639:\tlearn: 0.0217038\ttotal: 396ms\tremaining: 223ms\n",
      "640:\tlearn: 0.0216429\ttotal: 397ms\tremaining: 222ms\n",
      "641:\tlearn: 0.0216065\ttotal: 397ms\tremaining: 222ms\n",
      "642:\tlearn: 0.0215403\ttotal: 398ms\tremaining: 221ms\n",
      "643:\tlearn: 0.0214808\ttotal: 398ms\tremaining: 220ms\n",
      "644:\tlearn: 0.0214161\ttotal: 399ms\tremaining: 220ms\n",
      "645:\tlearn: 0.0213577\ttotal: 399ms\tremaining: 219ms\n",
      "646:\tlearn: 0.0212935\ttotal: 400ms\tremaining: 218ms\n",
      "647:\tlearn: 0.0212364\ttotal: 400ms\tremaining: 217ms\n",
      "648:\tlearn: 0.0211862\ttotal: 401ms\tremaining: 217ms\n",
      "649:\tlearn: 0.0211298\ttotal: 401ms\tremaining: 216ms\n",
      "650:\tlearn: 0.0210947\ttotal: 402ms\tremaining: 215ms\n",
      "651:\tlearn: 0.0210455\ttotal: 402ms\tremaining: 215ms\n",
      "652:\tlearn: 0.0209238\ttotal: 403ms\tremaining: 214ms\n",
      "653:\tlearn: 0.0208743\ttotal: 403ms\tremaining: 213ms\n",
      "654:\tlearn: 0.0208263\ttotal: 404ms\tremaining: 213ms\n",
      "655:\tlearn: 0.0207715\ttotal: 404ms\tremaining: 212ms\n",
      "656:\tlearn: 0.0207068\ttotal: 405ms\tremaining: 211ms\n",
      "657:\tlearn: 0.0206731\ttotal: 405ms\tremaining: 211ms\n",
      "658:\tlearn: 0.0205548\ttotal: 406ms\tremaining: 210ms\n",
      "659:\tlearn: 0.0205215\ttotal: 407ms\tremaining: 209ms\n",
      "660:\tlearn: 0.0204395\ttotal: 407ms\tremaining: 209ms\n",
      "661:\tlearn: 0.0203290\ttotal: 408ms\tremaining: 208ms\n",
      "662:\tlearn: 0.0202758\ttotal: 408ms\tremaining: 207ms\n",
      "663:\tlearn: 0.0202297\ttotal: 409ms\tremaining: 207ms\n",
      "664:\tlearn: 0.0201496\ttotal: 409ms\tremaining: 206ms\n",
      "665:\tlearn: 0.0200970\ttotal: 409ms\tremaining: 205ms\n",
      "666:\tlearn: 0.0200453\ttotal: 410ms\tremaining: 205ms\n",
      "667:\tlearn: 0.0200001\ttotal: 410ms\tremaining: 204ms\n",
      "668:\tlearn: 0.0199463\ttotal: 411ms\tremaining: 203ms\n",
      "669:\tlearn: 0.0198341\ttotal: 412ms\tremaining: 203ms\n",
      "670:\tlearn: 0.0197768\ttotal: 412ms\tremaining: 202ms\n",
      "671:\tlearn: 0.0197326\ttotal: 413ms\tremaining: 201ms\n",
      "672:\tlearn: 0.0196826\ttotal: 413ms\tremaining: 201ms\n",
      "673:\tlearn: 0.0196235\ttotal: 414ms\tremaining: 200ms\n",
      "674:\tlearn: 0.0195745\ttotal: 414ms\tremaining: 199ms\n",
      "675:\tlearn: 0.0195132\ttotal: 415ms\tremaining: 199ms\n",
      "676:\tlearn: 0.0194823\ttotal: 415ms\tremaining: 198ms\n",
      "677:\tlearn: 0.0193736\ttotal: 416ms\tremaining: 197ms\n",
      "678:\tlearn: 0.0193432\ttotal: 416ms\tremaining: 197ms\n",
      "679:\tlearn: 0.0193132\ttotal: 416ms\tremaining: 196ms\n",
      "680:\tlearn: 0.0192708\ttotal: 417ms\tremaining: 195ms\n",
      "681:\tlearn: 0.0192412\ttotal: 417ms\tremaining: 195ms\n",
      "682:\tlearn: 0.0191996\ttotal: 418ms\tremaining: 194ms\n",
      "683:\tlearn: 0.0191704\ttotal: 418ms\tremaining: 193ms\n",
      "684:\tlearn: 0.0191143\ttotal: 419ms\tremaining: 193ms\n",
      "685:\tlearn: 0.0190670\ttotal: 419ms\tremaining: 192ms\n",
      "686:\tlearn: 0.0189614\ttotal: 420ms\tremaining: 191ms\n",
      "687:\tlearn: 0.0189125\ttotal: 421ms\tremaining: 191ms\n",
      "688:\tlearn: 0.0188256\ttotal: 421ms\tremaining: 190ms\n",
      "689:\tlearn: 0.0187858\ttotal: 422ms\tremaining: 189ms\n",
      "690:\tlearn: 0.0187006\ttotal: 422ms\tremaining: 189ms\n",
      "691:\tlearn: 0.0186551\ttotal: 423ms\tremaining: 188ms\n",
      "692:\tlearn: 0.0185508\ttotal: 423ms\tremaining: 187ms\n",
      "693:\tlearn: 0.0185228\ttotal: 424ms\tremaining: 187ms\n",
      "694:\tlearn: 0.0184703\ttotal: 424ms\tremaining: 186ms\n",
      "695:\tlearn: 0.0184301\ttotal: 425ms\tremaining: 185ms\n",
      "696:\tlearn: 0.0183287\ttotal: 425ms\tremaining: 185ms\n",
      "697:\tlearn: 0.0182469\ttotal: 426ms\tremaining: 184ms\n",
      "698:\tlearn: 0.0182096\ttotal: 426ms\tremaining: 184ms\n",
      "699:\tlearn: 0.0181598\ttotal: 427ms\tremaining: 183ms\n",
      "700:\tlearn: 0.0181163\ttotal: 427ms\tremaining: 182ms\n",
      "701:\tlearn: 0.0180121\ttotal: 428ms\tremaining: 182ms\n",
      "702:\tlearn: 0.0179855\ttotal: 428ms\tremaining: 181ms\n",
      "703:\tlearn: 0.0179472\ttotal: 429ms\tremaining: 180ms\n",
      "704:\tlearn: 0.0178681\ttotal: 429ms\tremaining: 180ms\n",
      "705:\tlearn: 0.0177704\ttotal: 430ms\tremaining: 179ms\n",
      "706:\tlearn: 0.0177443\ttotal: 430ms\tremaining: 178ms\n",
      "707:\tlearn: 0.0177069\ttotal: 431ms\tremaining: 178ms\n",
      "708:\tlearn: 0.0176297\ttotal: 431ms\tremaining: 177ms\n",
      "709:\tlearn: 0.0175930\ttotal: 432ms\tremaining: 176ms\n",
      "710:\tlearn: 0.0174978\ttotal: 432ms\tremaining: 176ms\n",
      "711:\tlearn: 0.0173991\ttotal: 433ms\tremaining: 175ms\n",
      "712:\tlearn: 0.0173742\ttotal: 433ms\tremaining: 174ms\n",
      "713:\tlearn: 0.0172799\ttotal: 434ms\tremaining: 174ms\n",
      "714:\tlearn: 0.0172344\ttotal: 435ms\tremaining: 173ms\n",
      "715:\tlearn: 0.0171944\ttotal: 435ms\tremaining: 173ms\n",
      "716:\tlearn: 0.0171023\ttotal: 436ms\tremaining: 172ms\n",
      "717:\tlearn: 0.0170779\ttotal: 436ms\tremaining: 171ms\n",
      "718:\tlearn: 0.0170039\ttotal: 436ms\tremaining: 171ms\n",
      "719:\tlearn: 0.0169689\ttotal: 437ms\tremaining: 170ms\n",
      "720:\tlearn: 0.0169345\ttotal: 437ms\tremaining: 169ms\n",
      "721:\tlearn: 0.0168376\ttotal: 438ms\tremaining: 169ms\n",
      "722:\tlearn: 0.0168140\ttotal: 438ms\tremaining: 168ms\n",
      "723:\tlearn: 0.0167116\ttotal: 439ms\tremaining: 167ms\n",
      "724:\tlearn: 0.0166687\ttotal: 439ms\tremaining: 167ms\n",
      "725:\tlearn: 0.0165751\ttotal: 440ms\tremaining: 166ms\n",
      "726:\tlearn: 0.0164874\ttotal: 440ms\tremaining: 165ms\n",
      "727:\tlearn: 0.0164646\ttotal: 441ms\tremaining: 165ms\n",
      "728:\tlearn: 0.0163937\ttotal: 441ms\tremaining: 164ms\n",
      "729:\tlearn: 0.0163606\ttotal: 442ms\tremaining: 163ms\n",
      "730:\tlearn: 0.0163239\ttotal: 442ms\tremaining: 163ms\n",
      "731:\tlearn: 0.0162368\ttotal: 443ms\tremaining: 162ms\n",
      "732:\tlearn: 0.0161675\ttotal: 443ms\tremaining: 161ms\n",
      "733:\tlearn: 0.0161018\ttotal: 444ms\tremaining: 161ms\n",
      "734:\tlearn: 0.0160173\ttotal: 444ms\tremaining: 160ms\n",
      "735:\tlearn: 0.0159496\ttotal: 445ms\tremaining: 160ms\n",
      "736:\tlearn: 0.0158656\ttotal: 445ms\tremaining: 159ms\n",
      "737:\tlearn: 0.0158255\ttotal: 446ms\tremaining: 158ms\n",
      "738:\tlearn: 0.0157938\ttotal: 446ms\tremaining: 158ms\n",
      "739:\tlearn: 0.0157093\ttotal: 447ms\tremaining: 157ms\n",
      "740:\tlearn: 0.0156784\ttotal: 447ms\tremaining: 156ms\n",
      "741:\tlearn: 0.0155927\ttotal: 448ms\tremaining: 156ms\n",
      "742:\tlearn: 0.0155120\ttotal: 448ms\tremaining: 155ms\n",
      "743:\tlearn: 0.0154908\ttotal: 449ms\tremaining: 154ms\n",
      "744:\tlearn: 0.0154715\ttotal: 449ms\tremaining: 154ms\n",
      "745:\tlearn: 0.0154414\ttotal: 450ms\tremaining: 153ms\n",
      "746:\tlearn: 0.0154223\ttotal: 450ms\tremaining: 153ms\n",
      "747:\tlearn: 0.0153432\ttotal: 451ms\tremaining: 152ms\n",
      "748:\tlearn: 0.0153051\ttotal: 451ms\tremaining: 151ms\n",
      "749:\tlearn: 0.0152863\ttotal: 452ms\tremaining: 151ms\n",
      "750:\tlearn: 0.0152572\ttotal: 452ms\tremaining: 150ms\n",
      "751:\tlearn: 0.0152387\ttotal: 453ms\tremaining: 149ms\n",
      "752:\tlearn: 0.0152102\ttotal: 453ms\tremaining: 149ms\n",
      "753:\tlearn: 0.0151920\ttotal: 454ms\tremaining: 148ms\n",
      "754:\tlearn: 0.0151614\ttotal: 454ms\tremaining: 147ms\n",
      "755:\tlearn: 0.0151435\ttotal: 455ms\tremaining: 147ms\n",
      "756:\tlearn: 0.0151258\ttotal: 455ms\tremaining: 146ms\n",
      "757:\tlearn: 0.0150484\ttotal: 456ms\tremaining: 146ms\n",
      "758:\tlearn: 0.0150117\ttotal: 456ms\tremaining: 145ms\n",
      "759:\tlearn: 0.0149295\ttotal: 457ms\tremaining: 144ms\n",
      "760:\tlearn: 0.0149122\ttotal: 457ms\tremaining: 144ms\n",
      "761:\tlearn: 0.0148951\ttotal: 458ms\tremaining: 143ms\n",
      "762:\tlearn: 0.0148677\ttotal: 458ms\tremaining: 142ms\n",
      "763:\tlearn: 0.0148508\ttotal: 459ms\tremaining: 142ms\n",
      "764:\tlearn: 0.0148342\ttotal: 459ms\tremaining: 141ms\n",
      "765:\tlearn: 0.0147959\ttotal: 460ms\tremaining: 140ms\n",
      "766:\tlearn: 0.0147760\ttotal: 460ms\tremaining: 140ms\n",
      "767:\tlearn: 0.0147342\ttotal: 461ms\tremaining: 139ms\n",
      "768:\tlearn: 0.0147180\ttotal: 462ms\tremaining: 139ms\n",
      "769:\tlearn: 0.0146986\ttotal: 462ms\tremaining: 138ms\n",
      "770:\tlearn: 0.0146741\ttotal: 463ms\tremaining: 137ms\n",
      "771:\tlearn: 0.0146583\ttotal: 463ms\tremaining: 137ms\n",
      "772:\tlearn: 0.0146236\ttotal: 464ms\tremaining: 136ms\n",
      "773:\tlearn: 0.0146080\ttotal: 464ms\tremaining: 136ms\n",
      "774:\tlearn: 0.0145841\ttotal: 465ms\tremaining: 135ms\n",
      "775:\tlearn: 0.0145653\ttotal: 465ms\tremaining: 134ms\n",
      "776:\tlearn: 0.0145501\ttotal: 466ms\tremaining: 134ms\n",
      "777:\tlearn: 0.0145110\ttotal: 467ms\tremaining: 133ms\n",
      "778:\tlearn: 0.0144349\ttotal: 467ms\tremaining: 133ms\n",
      "779:\tlearn: 0.0143789\ttotal: 468ms\tremaining: 132ms\n",
      "780:\tlearn: 0.0143240\ttotal: 468ms\tremaining: 131ms\n",
      "781:\tlearn: 0.0142704\ttotal: 468ms\tremaining: 131ms\n",
      "782:\tlearn: 0.0142180\ttotal: 469ms\tremaining: 130ms\n",
      "783:\tlearn: 0.0141667\ttotal: 470ms\tremaining: 129ms\n",
      "784:\tlearn: 0.0140904\ttotal: 470ms\tremaining: 129ms\n",
      "785:\tlearn: 0.0140404\ttotal: 471ms\tremaining: 128ms\n",
      "786:\tlearn: 0.0139981\ttotal: 471ms\tremaining: 128ms\n",
      "787:\tlearn: 0.0139688\ttotal: 472ms\tremaining: 127ms\n",
      "788:\tlearn: 0.0139201\ttotal: 472ms\tremaining: 126ms\n",
      "789:\tlearn: 0.0138786\ttotal: 472ms\tremaining: 126ms\n",
      "790:\tlearn: 0.0138309\ttotal: 473ms\tremaining: 125ms\n",
      "791:\tlearn: 0.0137842\ttotal: 474ms\tremaining: 124ms\n",
      "792:\tlearn: 0.0137562\ttotal: 474ms\tremaining: 124ms\n",
      "793:\tlearn: 0.0137156\ttotal: 475ms\tremaining: 123ms\n",
      "794:\tlearn: 0.0136699\ttotal: 475ms\tremaining: 123ms\n",
      "795:\tlearn: 0.0136530\ttotal: 476ms\tremaining: 122ms\n",
      "796:\tlearn: 0.0136390\ttotal: 476ms\tremaining: 121ms\n"
     ]
    },
    {
     "name": "stdout",
     "output_type": "stream",
     "text": [
      "797:\tlearn: 0.0136251\ttotal: 477ms\tremaining: 121ms\n",
      "798:\tlearn: 0.0136087\ttotal: 477ms\tremaining: 120ms\n",
      "799:\tlearn: 0.0135832\ttotal: 478ms\tremaining: 119ms\n",
      "800:\tlearn: 0.0135697\ttotal: 478ms\tremaining: 119ms\n",
      "801:\tlearn: 0.0135536\ttotal: 479ms\tremaining: 118ms\n",
      "802:\tlearn: 0.0135404\ttotal: 480ms\tremaining: 118ms\n",
      "803:\tlearn: 0.0135247\ttotal: 480ms\tremaining: 117ms\n",
      "804:\tlearn: 0.0134875\ttotal: 481ms\tremaining: 117ms\n",
      "805:\tlearn: 0.0134625\ttotal: 482ms\tremaining: 116ms\n",
      "806:\tlearn: 0.0134497\ttotal: 482ms\tremaining: 115ms\n",
      "807:\tlearn: 0.0134343\ttotal: 483ms\tremaining: 115ms\n",
      "808:\tlearn: 0.0134218\ttotal: 483ms\tremaining: 114ms\n",
      "809:\tlearn: 0.0133858\ttotal: 484ms\tremaining: 113ms\n",
      "810:\tlearn: 0.0133613\ttotal: 484ms\tremaining: 113ms\n",
      "811:\tlearn: 0.0133464\ttotal: 485ms\tremaining: 112ms\n",
      "812:\tlearn: 0.0133342\ttotal: 485ms\tremaining: 112ms\n",
      "813:\tlearn: 0.0133195\ttotal: 486ms\tremaining: 111ms\n",
      "814:\tlearn: 0.0132908\ttotal: 486ms\tremaining: 110ms\n",
      "815:\tlearn: 0.0132560\ttotal: 487ms\tremaining: 110ms\n",
      "816:\tlearn: 0.0132320\ttotal: 487ms\tremaining: 109ms\n",
      "817:\tlearn: 0.0132202\ttotal: 488ms\tremaining: 108ms\n",
      "818:\tlearn: 0.0132059\ttotal: 488ms\tremaining: 108ms\n",
      "819:\tlearn: 0.0131776\ttotal: 489ms\tremaining: 107ms\n",
      "820:\tlearn: 0.0131660\ttotal: 489ms\tremaining: 107ms\n",
      "821:\tlearn: 0.0131381\ttotal: 490ms\tremaining: 106ms\n",
      "822:\tlearn: 0.0131045\ttotal: 490ms\tremaining: 105ms\n",
      "823:\tlearn: 0.0130770\ttotal: 491ms\tremaining: 105ms\n",
      "824:\tlearn: 0.0130656\ttotal: 491ms\tremaining: 104ms\n",
      "825:\tlearn: 0.0130384\ttotal: 492ms\tremaining: 104ms\n",
      "826:\tlearn: 0.0130246\ttotal: 492ms\tremaining: 103ms\n",
      "827:\tlearn: 0.0129978\ttotal: 493ms\tremaining: 102ms\n",
      "828:\tlearn: 0.0129749\ttotal: 493ms\tremaining: 102ms\n",
      "829:\tlearn: 0.0129638\ttotal: 494ms\tremaining: 101ms\n",
      "830:\tlearn: 0.0129312\ttotal: 494ms\tremaining: 101ms\n",
      "831:\tlearn: 0.0129049\ttotal: 495ms\tremaining: 99.9ms\n",
      "832:\tlearn: 0.0128914\ttotal: 495ms\tremaining: 99.3ms\n",
      "833:\tlearn: 0.0128655\ttotal: 496ms\tremaining: 98.7ms\n",
      "834:\tlearn: 0.0128399\ttotal: 496ms\tremaining: 98.1ms\n",
      "835:\tlearn: 0.0128178\ttotal: 497ms\tremaining: 97.5ms\n",
      "836:\tlearn: 0.0128069\ttotal: 497ms\tremaining: 96.8ms\n",
      "837:\tlearn: 0.0127937\ttotal: 498ms\tremaining: 96.2ms\n",
      "838:\tlearn: 0.0127689\ttotal: 498ms\tremaining: 95.6ms\n",
      "839:\tlearn: 0.0127438\ttotal: 499ms\tremaining: 95ms\n",
      "840:\tlearn: 0.0127331\ttotal: 499ms\tremaining: 94.4ms\n",
      "841:\tlearn: 0.0126910\ttotal: 501ms\tremaining: 94ms\n",
      "842:\tlearn: 0.0126664\ttotal: 501ms\tremaining: 93.3ms\n",
      "843:\tlearn: 0.0126351\ttotal: 502ms\tremaining: 92.7ms\n",
      "844:\tlearn: 0.0125939\ttotal: 502ms\tremaining: 92.1ms\n",
      "845:\tlearn: 0.0125698\ttotal: 503ms\tremaining: 91.5ms\n",
      "846:\tlearn: 0.0125594\ttotal: 503ms\tremaining: 90.9ms\n",
      "847:\tlearn: 0.0124948\ttotal: 504ms\tremaining: 90.3ms\n",
      "848:\tlearn: 0.0124846\ttotal: 504ms\tremaining: 89.7ms\n",
      "849:\tlearn: 0.0124610\ttotal: 505ms\tremaining: 89ms\n",
      "850:\tlearn: 0.0124484\ttotal: 505ms\tremaining: 88.4ms\n",
      "851:\tlearn: 0.0124084\ttotal: 506ms\tremaining: 87.8ms\n",
      "852:\tlearn: 0.0123690\ttotal: 506ms\tremaining: 87.2ms\n",
      "853:\tlearn: 0.0123305\ttotal: 507ms\tremaining: 86.6ms\n",
      "854:\tlearn: 0.0122820\ttotal: 507ms\tremaining: 86ms\n",
      "855:\tlearn: 0.0122589\ttotal: 508ms\tremaining: 85.4ms\n",
      "856:\tlearn: 0.0122271\ttotal: 508ms\tremaining: 84.8ms\n",
      "857:\tlearn: 0.0121951\ttotal: 509ms\tremaining: 84.2ms\n",
      "858:\tlearn: 0.0121637\ttotal: 509ms\tremaining: 83.6ms\n",
      "859:\tlearn: 0.0121538\ttotal: 510ms\tremaining: 83ms\n",
      "860:\tlearn: 0.0121229\ttotal: 510ms\tremaining: 82.4ms\n",
      "861:\tlearn: 0.0120998\ttotal: 511ms\tremaining: 81.8ms\n",
      "862:\tlearn: 0.0120694\ttotal: 511ms\tremaining: 81.1ms\n",
      "863:\tlearn: 0.0120466\ttotal: 512ms\tremaining: 80.5ms\n",
      "864:\tlearn: 0.0120367\ttotal: 512ms\tremaining: 79.9ms\n",
      "865:\tlearn: 0.0120054\ttotal: 513ms\tremaining: 79.4ms\n",
      "866:\tlearn: 0.0119956\ttotal: 513ms\tremaining: 78.7ms\n",
      "867:\tlearn: 0.0119657\ttotal: 514ms\tremaining: 78.1ms\n",
      "868:\tlearn: 0.0119431\ttotal: 514ms\tremaining: 77.5ms\n",
      "869:\tlearn: 0.0118832\ttotal: 515ms\tremaining: 76.9ms\n",
      "870:\tlearn: 0.0118735\ttotal: 515ms\tremaining: 76.3ms\n",
      "871:\tlearn: 0.0118428\ttotal: 516ms\tremaining: 75.7ms\n",
      "872:\tlearn: 0.0118134\ttotal: 516ms\tremaining: 75.1ms\n",
      "873:\tlearn: 0.0117871\ttotal: 517ms\tremaining: 74.5ms\n",
      "874:\tlearn: 0.0117649\ttotal: 518ms\tremaining: 73.9ms\n",
      "875:\tlearn: 0.0117554\ttotal: 518ms\tremaining: 73.3ms\n",
      "876:\tlearn: 0.0117268\ttotal: 518ms\tremaining: 72.7ms\n",
      "877:\tlearn: 0.0117168\ttotal: 519ms\tremaining: 72.1ms\n",
      "878:\tlearn: 0.0116948\ttotal: 519ms\tremaining: 71.5ms\n",
      "879:\tlearn: 0.0116691\ttotal: 520ms\tremaining: 70.9ms\n",
      "880:\tlearn: 0.0116598\ttotal: 520ms\tremaining: 70.3ms\n",
      "881:\tlearn: 0.0116301\ttotal: 521ms\tremaining: 69.7ms\n",
      "882:\tlearn: 0.0116209\ttotal: 521ms\tremaining: 69.1ms\n",
      "883:\tlearn: 0.0115824\ttotal: 522ms\tremaining: 68.5ms\n",
      "884:\tlearn: 0.0115607\ttotal: 523ms\tremaining: 67.9ms\n",
      "885:\tlearn: 0.0115100\ttotal: 523ms\tremaining: 67.3ms\n",
      "886:\tlearn: 0.0114902\ttotal: 524ms\tremaining: 66.7ms\n",
      "887:\tlearn: 0.0114627\ttotal: 524ms\tremaining: 66.1ms\n",
      "888:\tlearn: 0.0114337\ttotal: 525ms\tremaining: 65.5ms\n",
      "889:\tlearn: 0.0114145\ttotal: 525ms\tremaining: 64.9ms\n",
      "890:\tlearn: 0.0113597\ttotal: 526ms\tremaining: 64.3ms\n",
      "891:\tlearn: 0.0113512\ttotal: 526ms\tremaining: 63.7ms\n",
      "892:\tlearn: 0.0113427\ttotal: 527ms\tremaining: 63.1ms\n",
      "893:\tlearn: 0.0113156\ttotal: 527ms\tremaining: 62.5ms\n",
      "894:\tlearn: 0.0112871\ttotal: 527ms\tremaining: 61.9ms\n",
      "895:\tlearn: 0.0112628\ttotal: 528ms\tremaining: 61.3ms\n",
      "896:\tlearn: 0.0112544\ttotal: 528ms\tremaining: 60.7ms\n",
      "897:\tlearn: 0.0112263\ttotal: 529ms\tremaining: 60.1ms\n",
      "898:\tlearn: 0.0111982\ttotal: 529ms\tremaining: 59.5ms\n",
      "899:\tlearn: 0.0111898\ttotal: 530ms\tremaining: 58.9ms\n",
      "900:\tlearn: 0.0111537\ttotal: 530ms\tremaining: 58.3ms\n",
      "901:\tlearn: 0.0111160\ttotal: 531ms\tremaining: 57.7ms\n",
      "902:\tlearn: 0.0110923\ttotal: 532ms\tremaining: 57.1ms\n",
      "903:\tlearn: 0.0110841\ttotal: 532ms\tremaining: 56.5ms\n",
      "904:\tlearn: 0.0110305\ttotal: 533ms\tremaining: 55.9ms\n",
      "905:\tlearn: 0.0110032\ttotal: 533ms\tremaining: 55.3ms\n",
      "906:\tlearn: 0.0109671\ttotal: 534ms\tremaining: 54.7ms\n",
      "907:\tlearn: 0.0109412\ttotal: 534ms\tremaining: 54.1ms\n",
      "908:\tlearn: 0.0109143\ttotal: 535ms\tremaining: 53.5ms\n",
      "909:\tlearn: 0.0109062\ttotal: 535ms\tremaining: 52.9ms\n",
      "910:\tlearn: 0.0108882\ttotal: 536ms\tremaining: 52.3ms\n",
      "911:\tlearn: 0.0108702\ttotal: 536ms\tremaining: 51.7ms\n",
      "912:\tlearn: 0.0108449\ttotal: 536ms\tremaining: 51.1ms\n",
      "913:\tlearn: 0.0108273\ttotal: 537ms\tremaining: 50.5ms\n",
      "914:\tlearn: 0.0108193\ttotal: 537ms\tremaining: 49.9ms\n",
      "915:\tlearn: 0.0107926\ttotal: 538ms\tremaining: 49.3ms\n",
      "916:\tlearn: 0.0107847\ttotal: 538ms\tremaining: 48.7ms\n",
      "917:\tlearn: 0.0107621\ttotal: 539ms\tremaining: 48.1ms\n",
      "918:\tlearn: 0.0107342\ttotal: 539ms\tremaining: 47.5ms\n",
      "919:\tlearn: 0.0107260\ttotal: 540ms\tremaining: 46.9ms\n",
      "920:\tlearn: 0.0106998\ttotal: 540ms\tremaining: 46.3ms\n",
      "921:\tlearn: 0.0106734\ttotal: 541ms\tremaining: 45.7ms\n",
      "922:\tlearn: 0.0106648\ttotal: 541ms\tremaining: 45.2ms\n",
      "923:\tlearn: 0.0106476\ttotal: 542ms\tremaining: 44.6ms\n",
      "924:\tlearn: 0.0106396\ttotal: 542ms\tremaining: 44ms\n",
      "925:\tlearn: 0.0105890\ttotal: 543ms\tremaining: 43.4ms\n",
      "926:\tlearn: 0.0105719\ttotal: 543ms\tremaining: 42.8ms\n",
      "927:\tlearn: 0.0105463\ttotal: 544ms\tremaining: 42.2ms\n",
      "928:\tlearn: 0.0105388\ttotal: 544ms\tremaining: 41.6ms\n",
      "929:\tlearn: 0.0105144\ttotal: 544ms\tremaining: 41ms\n",
      "930:\tlearn: 0.0104885\ttotal: 545ms\tremaining: 40.4ms\n",
      "931:\tlearn: 0.0104616\ttotal: 545ms\tremaining: 39.8ms\n",
      "932:\tlearn: 0.0104541\ttotal: 546ms\tremaining: 39.2ms\n",
      "933:\tlearn: 0.0104290\ttotal: 546ms\tremaining: 38.6ms\n",
      "934:\tlearn: 0.0104124\ttotal: 547ms\tremaining: 38ms\n",
      "935:\tlearn: 0.0104014\ttotal: 547ms\tremaining: 37.4ms\n",
      "936:\tlearn: 0.0103850\ttotal: 548ms\tremaining: 36.8ms\n",
      "937:\tlearn: 0.0103603\ttotal: 548ms\tremaining: 36.2ms\n",
      "938:\tlearn: 0.0103340\ttotal: 549ms\tremaining: 35.7ms\n",
      "939:\tlearn: 0.0103260\ttotal: 549ms\tremaining: 35.1ms\n",
      "940:\tlearn: 0.0103002\ttotal: 550ms\tremaining: 34.5ms\n",
      "941:\tlearn: 0.0102894\ttotal: 550ms\tremaining: 33.9ms\n",
      "942:\tlearn: 0.0102651\ttotal: 551ms\tremaining: 33.3ms\n",
      "943:\tlearn: 0.0102489\ttotal: 551ms\tremaining: 32.7ms\n",
      "944:\tlearn: 0.0102415\ttotal: 552ms\tremaining: 32.1ms\n",
      "945:\tlearn: 0.0102310\ttotal: 552ms\tremaining: 31.5ms\n",
      "946:\tlearn: 0.0102070\ttotal: 553ms\tremaining: 30.9ms\n",
      "947:\tlearn: 0.0101816\ttotal: 553ms\tremaining: 30.3ms\n",
      "948:\tlearn: 0.0101660\ttotal: 553ms\tremaining: 29.7ms\n",
      "949:\tlearn: 0.0101428\ttotal: 554ms\tremaining: 29.1ms\n",
      "950:\tlearn: 0.0101148\ttotal: 554ms\tremaining: 28.6ms\n",
      "951:\tlearn: 0.0101071\ttotal: 555ms\tremaining: 28ms\n",
      "952:\tlearn: 0.0100821\ttotal: 555ms\tremaining: 27.4ms\n"
     ]
    },
    {
     "name": "stdout",
     "output_type": "stream",
     "text": [
      "953:\tlearn: 0.0100745\ttotal: 556ms\tremaining: 26.8ms\n",
      "954:\tlearn: 0.0100359\ttotal: 556ms\tremaining: 26.2ms\n",
      "955:\tlearn: 0.0100283\ttotal: 557ms\tremaining: 25.6ms\n",
      "956:\tlearn: 0.0100039\ttotal: 557ms\tremaining: 25ms\n",
      "957:\tlearn: 0.0099939\ttotal: 558ms\tremaining: 24.4ms\n",
      "958:\tlearn: 0.0099657\ttotal: 558ms\tremaining: 23.9ms\n",
      "959:\tlearn: 0.0099398\ttotal: 558ms\tremaining: 23.3ms\n",
      "960:\tlearn: 0.0099153\ttotal: 559ms\tremaining: 22.7ms\n",
      "961:\tlearn: 0.0099054\ttotal: 559ms\tremaining: 22.1ms\n",
      "962:\tlearn: 0.0098609\ttotal: 560ms\tremaining: 21.5ms\n",
      "963:\tlearn: 0.0098379\ttotal: 560ms\tremaining: 20.9ms\n",
      "964:\tlearn: 0.0098305\ttotal: 560ms\tremaining: 20.3ms\n",
      "965:\tlearn: 0.0098154\ttotal: 561ms\tremaining: 19.7ms\n",
      "966:\tlearn: 0.0098011\ttotal: 561ms\tremaining: 19.2ms\n",
      "967:\tlearn: 0.0097780\ttotal: 562ms\tremaining: 18.6ms\n",
      "968:\tlearn: 0.0097706\ttotal: 562ms\tremaining: 18ms\n",
      "969:\tlearn: 0.0097308\ttotal: 563ms\tremaining: 17.4ms\n",
      "970:\tlearn: 0.0097162\ttotal: 563ms\tremaining: 16.8ms\n",
      "971:\tlearn: 0.0096938\ttotal: 563ms\tremaining: 16.2ms\n",
      "972:\tlearn: 0.0096867\ttotal: 564ms\tremaining: 15.7ms\n",
      "973:\tlearn: 0.0096799\ttotal: 565ms\tremaining: 15.1ms\n",
      "974:\tlearn: 0.0096610\ttotal: 565ms\tremaining: 14.5ms\n",
      "975:\tlearn: 0.0096517\ttotal: 565ms\tremaining: 13.9ms\n",
      "976:\tlearn: 0.0095986\ttotal: 566ms\tremaining: 13.3ms\n",
      "977:\tlearn: 0.0095794\ttotal: 566ms\tremaining: 12.7ms\n",
      "978:\tlearn: 0.0095725\ttotal: 567ms\tremaining: 12.2ms\n",
      "979:\tlearn: 0.0095584\ttotal: 567ms\tremaining: 11.6ms\n",
      "980:\tlearn: 0.0095449\ttotal: 567ms\tremaining: 11ms\n",
      "981:\tlearn: 0.0094991\ttotal: 568ms\tremaining: 10.4ms\n",
      "982:\tlearn: 0.0094810\ttotal: 568ms\tremaining: 9.83ms\n",
      "983:\tlearn: 0.0094745\ttotal: 569ms\tremaining: 9.25ms\n",
      "984:\tlearn: 0.0094678\ttotal: 569ms\tremaining: 8.67ms\n",
      "985:\tlearn: 0.0094186\ttotal: 570ms\tremaining: 8.09ms\n",
      "986:\tlearn: 0.0093930\ttotal: 570ms\tremaining: 7.51ms\n",
      "987:\tlearn: 0.0093868\ttotal: 571ms\tremaining: 6.93ms\n",
      "988:\tlearn: 0.0093806\ttotal: 571ms\tremaining: 6.35ms\n",
      "989:\tlearn: 0.0093567\ttotal: 572ms\tremaining: 5.77ms\n",
      "990:\tlearn: 0.0093332\ttotal: 572ms\tremaining: 5.2ms\n",
      "991:\tlearn: 0.0092926\ttotal: 572ms\tremaining: 4.62ms\n",
      "992:\tlearn: 0.0092696\ttotal: 573ms\tremaining: 4.04ms\n",
      "993:\tlearn: 0.0092517\ttotal: 573ms\tremaining: 3.46ms\n",
      "994:\tlearn: 0.0092429\ttotal: 574ms\tremaining: 2.88ms\n",
      "995:\tlearn: 0.0092202\ttotal: 574ms\tremaining: 2.31ms\n",
      "996:\tlearn: 0.0092017\ttotal: 575ms\tremaining: 1.73ms\n",
      "997:\tlearn: 0.0091517\ttotal: 575ms\tremaining: 1.15ms\n",
      "998:\tlearn: 0.0091456\ttotal: 575ms\tremaining: 575us\n",
      "999:\tlearn: 0.0091233\ttotal: 576ms\tremaining: 0us\n"
     ]
    },
    {
     "data": {
      "text/plain": [
       "<catboost.core.CatBoostRegressor at 0x7fc51ce48e50>"
      ]
     },
     "execution_count": 9,
     "metadata": {},
     "output_type": "execute_result"
    }
   ],
   "source": [
    "#Train the Model \n",
    "prior_model = ctb.CatBoostRegressor()\n",
    "prior_model.fit(X_train,Y_train)"
   ]
  },
  {
   "cell_type": "code",
   "execution_count": 10,
   "id": "af65dcda",
   "metadata": {
    "execution": {
     "iopub.execute_input": "2022-03-08T20:50:59.792671Z",
     "iopub.status.busy": "2022-03-08T20:50:59.792277Z",
     "iopub.status.idle": "2022-03-08T20:50:59.799790Z",
     "shell.execute_reply": "2022-03-08T20:50:59.800081Z"
    },
    "id": "af65dcda",
    "papermill": {
     "duration": 0.020165,
     "end_time": "2022-03-08T20:50:59.800196",
     "exception": false,
     "start_time": "2022-03-08T20:50:59.780031",
     "status": "completed"
    },
    "tags": []
   },
   "outputs": [
    {
     "data": {
      "application/scrapbook.scrap.json+json": {
       "data": 0.29125132892952765,
       "encoder": "json",
       "name": "Prior Model MSE",
       "version": 1
      }
     },
     "metadata": {
      "scrapbook": {
       "data": true,
       "display": false,
       "name": "Prior Model MSE"
      }
     },
     "output_type": "display_data"
    },
    {
     "data": {
      "application/scrapbook.scrap.json+json": {
       "data": 1.5245812740907998,
       "encoder": "json",
       "name": "ABC Pre-generator MSE",
       "version": 1
      }
     },
     "metadata": {
      "scrapbook": {
       "data": true,
       "display": false,
       "name": "ABC Pre-generator MSE"
      }
     },
     "output_type": "display_data"
    },
    {
     "data": {
      "application/scrapbook.scrap.json+json": {
       "data": 0.4480502288464949,
       "encoder": "json",
       "name": "Prior Model MSE",
       "version": 1
      }
     },
     "metadata": {
      "scrapbook": {
       "data": true,
       "display": false,
       "name": "Prior Model MSE"
      }
     },
     "output_type": "display_data"
    },
    {
     "data": {
      "application/scrapbook.scrap.json+json": {
       "data": 1.0380689457138235,
       "encoder": "json",
       "name": "ABC Pre-generator MSE",
       "version": 1
      }
     },
     "metadata": {
      "scrapbook": {
       "data": true,
       "display": false,
       "name": "ABC Pre-generator MSE"
      }
     },
     "output_type": "display_data"
    }
   ],
   "source": [
    "y_pred = prior_model.predict(X_test)\n",
    "y_abc = y_pred + np.random.normal(0,variance, y_pred.shape) + bias \n",
    "mse = mean_squared_error(y_pred,Y_test)\n",
    "sb.glue(\"Prior Model MSE\",mse)\n",
    "mse = mean_squared_error(y_abc,Y_test)\n",
    "sb.glue(\"ABC Pre-generator MSE\",mse)\n",
    "mae = mean_absolute_error(y_pred,Y_test)\n",
    "sb.glue(\"Prior Model MSE\",mae)\n",
    "mae = mean_absolute_error(y_abc,Y_test)\n",
    "sb.glue(\"ABC Pre-generator MSE\",mae)"
   ]
  },
  {
   "cell_type": "markdown",
   "id": "25609da2",
   "metadata": {
    "papermill": {
     "duration": 0.009566,
     "end_time": "2022-03-08T20:50:59.819600",
     "exception": false,
     "start_time": "2022-03-08T20:50:59.810034",
     "status": "completed"
    },
    "tags": []
   },
   "source": [
    "# ABC GAN Model"
   ]
  },
  {
   "cell_type": "code",
   "execution_count": 11,
   "id": "dfc3464d",
   "metadata": {
    "execution": {
     "iopub.execute_input": "2022-03-08T20:50:59.842048Z",
     "iopub.status.busy": "2022-03-08T20:50:59.841680Z",
     "iopub.status.idle": "2022-03-08T20:50:59.844208Z",
     "shell.execute_reply": "2022-03-08T20:50:59.844449Z"
    },
    "papermill": {
     "duration": 0.015226,
     "end_time": "2022-03-08T20:50:59.844556",
     "exception": false,
     "start_time": "2022-03-08T20:50:59.829330",
     "status": "completed"
    },
    "tags": []
   },
   "outputs": [],
   "source": [
    "gen = network.Generator(n_features+1).to(device)\n",
    "disc = network.Discriminator(n_features+1).to(device)\n",
    "\n",
    "criterion = torch.nn.BCELoss()\n",
    "gen_opt = torch.optim.Adam(gen.parameters(), lr=0.001, betas=(0.5, 0.999))\n",
    "disc_opt = torch.optim.Adam(disc.parameters(), lr=0.001, betas=(0.5, 0.999))"
   ]
  },
  {
   "cell_type": "code",
   "execution_count": 12,
   "id": "b75fdd85",
   "metadata": {
    "execution": {
     "iopub.execute_input": "2022-03-08T20:50:59.866059Z",
     "iopub.status.busy": "2022-03-08T20:50:59.865705Z",
     "iopub.status.idle": "2022-03-08T20:51:13.297094Z",
     "shell.execute_reply": "2022-03-08T20:51:13.297397Z"
    },
    "papermill": {
     "duration": 13.443241,
     "end_time": "2022-03-08T20:51:13.297520",
     "exception": false,
     "start_time": "2022-03-08T20:50:59.854279",
     "status": "completed"
    },
    "tags": []
   },
   "outputs": [
    {
     "data": {
      "image/png": "[encoded data removed]",
      "text/plain": [
       "<Figure size 432x288 with 1 Axes>"
      ]
     },
     "metadata": {
      "needs_background": "light"
     },
     "output_type": "display_data"
    },
    {
     "data": {
      "image/png": "[encoded data removed]",
      "text/plain": [
       "<Figure size 432x288 with 1 Axes>"
      ]
     },
     "metadata": {
      "needs_background": "light"
     },
     "output_type": "display_data"
    }
   ],
   "source": [
    "#Training the ABC_GAN \n",
    "ABC_train_test2.training_GAN(disc,gen,disc_opt,gen_opt,train_data,batch_size,n_epochs,criterion,prior_model,variance,bias,device)"
   ]
  },
  {
   "cell_type": "code",
   "execution_count": 13,
   "id": "1fa7c368",
   "metadata": {
    "execution": {
     "iopub.execute_input": "2022-03-08T20:51:13.323051Z",
     "iopub.status.busy": "2022-03-08T20:51:13.322606Z",
     "iopub.status.idle": "2022-03-08T20:51:13.496987Z",
     "shell.execute_reply": "2022-03-08T20:51:13.497276Z"
    },
    "papermill": {
     "duration": 0.187695,
     "end_time": "2022-03-08T20:51:13.497398",
     "exception": false,
     "start_time": "2022-03-08T20:51:13.309703",
     "status": "completed"
    },
    "tags": []
   },
   "outputs": [
    {
     "data": {
      "application/scrapbook.scrap.json+json": {
       "data": 0.07772946080797546,
       "encoder": "json",
       "name": "ABC-GAN Model 1 MSE",
       "version": 1
      }
     },
     "metadata": {
      "scrapbook": {
       "data": true,
       "display": false,
       "name": "ABC-GAN Model 1 MSE"
      }
     },
     "output_type": "display_data"
    },
    {
     "data": {
      "application/scrapbook.scrap.json+json": {
       "data": 0.22723902288079262,
       "encoder": "json",
       "name": "ABC-GAN Model 1 MAE",
       "version": 1
      }
     },
     "metadata": {
      "scrapbook": {
       "data": true,
       "display": false,
       "name": "ABC-GAN Model 1 MAE"
      }
     },
     "output_type": "display_data"
    },
    {
     "data": {
      "application/scrapbook.scrap.json+json": {
       "data": 4.544780457615852,
       "encoder": "json",
       "name": "ABC-GAN Model 1 Manhattan Distance",
       "version": 1
      }
     },
     "metadata": {
      "scrapbook": {
       "data": true,
       "display": false,
       "name": "ABC-GAN Model 1 Manhattan Distance"
      }
     },
     "output_type": "display_data"
    },
    {
     "data": {
      "application/scrapbook.scrap.json+json": {
       "data": 1.2462838322883416,
       "encoder": "json",
       "name": "ABC-GAN Model 1 Euclidean distance",
       "version": 1
      }
     },
     "metadata": {
      "scrapbook": {
       "data": true,
       "display": false,
       "name": "ABC-GAN Model 1 Euclidean distance"
      }
     },
     "output_type": "display_data"
    },
    {
     "data": {
      "application/scrapbook.scrap.json+json": {
       "data": [
        [
         0.07163408332455029,
         0.07638683285282037,
         0.08058325125812357,
         0.07065438380037808,
         0.06727082699736624,
         0.07969812888547033,
         0.07583151913824045,
         0.07998906687153846,
         0.07429645662633129,
         0.08306808114837526,
         0.077220999724537,
         0.07815318026686627,
         0.0807528750301055,
         0.08252524747721807,
         0.07853890858348551,
         0.07327428508663061,
         0.08362155268776793,
         0.08068197027943429,
         0.0734144921865464,
         0.07223095546292053,
         0.0875270252415254,
         0.08542426214115043,
         0.07403098691316137,
         0.07213073304921284,
         0.0807376509687424,
         0.0841303707722045,
         0.07790058525926165,
         0.07307274201636228,
         0.07347604496580146,
         0.07342494427817252,
         0.07106145580632349,
         0.08325990357220125,
         0.08038938033365976,
         0.0721732685553979,
         0.07515985768023657,
         0.08002520285320122,
         0.081108888629507,
         0.07492361904032845,
         0.07871341906688525,
         0.07835148631676137,
         0.07668864049266144,
         0.07577365388787588,
         0.0801651062992966,
         0.07800165658307565,
         0.07802613411426837,
         0.07796993252017273,
         0.07788227592146146,
         0.0762564243709779,
         0.0848227984794375,
         0.08508847139343256,
         0.0736068757350179,
         0.07484584104993927,
         0.07916414778032932,
         0.06872841344602053,
         0.07986469866409181,
         0.07256275760683353,
         0.06535098511632803,
         0.07876571404601582,
         0.07880284177150612,
         0.08076129061141904,
         0.07605112470154425,
         0.07785299975343349,
         0.07450982265441472,
         0.07301858224704452,
         0.0830589860420207,
         0.07823017210972069,
         0.07336846461180882,
         0.07707598530369,
         0.07689963560742988,
         0.07782097197928498,
         0.07807053122064869,
         0.08522017057779216,
         0.08239193379355314,
         0.07814901413499312,
         0.08154719205947795,
         0.0737769587674019,
         0.08768879550694594,
         0.06963894547006512,
         0.07181090393538152,
         0.08400008174392903,
         0.07024821794178462,
         0.07802164463045344,
         0.0825247562022036,
         0.08129779986418878,
         0.0738378894197876,
         0.07789746258131573,
         0.07944051086481077,
         0.08029427079539889,
         0.08596123710528755,
         0.08014811937296092,
         0.07475591585338245,
         0.07642669736227983,
         0.08080469259912385,
         0.08923210577313372,
         0.07920253292964911,
         0.07832037268131031,
         0.08101424194407641,
         0.07432975307780822,
         0.07171299596534586,
         0.07731600657369911
        ],
        [
         0.21268451111391187,
         0.2241734848357737,
         0.22984432810917496,
         0.21637739138677717,
         0.2140625269152224,
         0.2244637024588883,
         0.22484011026099324,
         0.2314806547947228,
         0.21715930672362446,
         0.23359094308689238,
         0.22203881414607168,
         0.22120630638673902,
         0.23336552316322923,
         0.24056191416457295,
         0.22116716699674727,
         0.22714630039408804,
         0.22731415824964643,
         0.2251041223295033,
         0.22483077878132463,
         0.22746307225897908,
         0.24398369090631605,
         0.24166481466963888,
         0.21923219719901682,
         0.21992860781028867,
         0.23187563912943004,
         0.23475442351773382,
         0.22804265590384604,
         0.2226957124657929,
         0.221839224267751,
         0.21169431703165173,
         0.22224281104281546,
         0.2324192096479237,
         0.23894739048555494,
         0.21995278978720306,
         0.22027302952483296,
         0.23507724525406956,
         0.23022874603047966,
         0.22622634144499898,
         0.22527301805093886,
         0.23171120630577208,
         0.22424035714939236,
         0.21646712692454456,
         0.23432542281225324,
         0.22521985219791532,
         0.23104900093749164,
         0.2278505449183285,
         0.22543887021020054,
         0.2331791260279715,
         0.23697015652433037,
         0.24072151975706219,
         0.2216874890960753,
         0.2216684945859015,
         0.22877345578745006,
         0.21466848971322178,
         0.2401301414705813,
         0.2197959885932505,
         0.21493480997160078,
         0.226702540460974,
         0.21874068723991513,
         0.2373944387771189,
         0.22018571430817246,
         0.2268577058799565,
         0.21061148392036558,
         0.21360957147553564,
         0.23965637730434536,
         0.23228532196953894,
         0.21906228708103298,
         0.2296589591540396,
         0.2202568699605763,
         0.22092882478609682,
         0.22850614869967104,
         0.2393539727665484,
         0.23637080015614628,
         0.22858805963769555,
         0.2337232937105,
         0.2211593975313008,
         0.25073707224801184,
         0.22513214098289608,
         0.2189440761692822,
         0.2345090058632195,
         0.2181317706592381,
         0.22290517063811421,
         0.23409175584092737,
         0.23034443678334354,
         0.22255416857078672,
         0.23067640187218785,
         0.2324603390879929,
         0.23138221139088272,
         0.23997217537835241,
         0.22850837940350174,
         0.22175924153998494,
         0.22814939813688398,
         0.23300009788945317,
         0.2501440429128706,
         0.23281715707853437,
         0.2189524726010859,
         0.23399327704682946,
         0.21653741048648953,
         0.2203121037222445,
         0.23017649324610828
        ],
        [
         4.253690222278237,
         4.483469696715474,
         4.596886562183499,
         4.327547827735543,
         4.281250538304448,
         4.489274049177766,
         4.496802205219865,
         4.629613095894456,
         4.343186134472489,
         4.671818861737847,
         4.4407762829214334,
         4.42412612773478,
         4.6673104632645845,
         4.811238283291459,
         4.423343339934945,
         4.542926007881761,
         4.5462831649929285,
         4.502082446590066,
         4.4966155756264925,
         4.549261445179582,
         4.879673818126321,
         4.833296293392777,
         4.384643943980336,
         4.398572156205773,
         4.637512782588601,
         4.695088470354676,
         4.5608531180769205,
         4.453914249315858,
         4.43678448535502,
         4.233886340633035,
         4.444856220856309,
         4.648384192958474,
         4.778947809711099,
         4.3990557957440615,
         4.405460590496659,
         4.701544905081391,
         4.604574920609593,
         4.52452682889998,
         4.505460361018777,
         4.634224126115441,
         4.484807142987847,
         4.3293425384908915,
         4.686508456245065,
         4.504397043958306,
         4.620980018749833,
         4.5570108983665705,
         4.508777404204011,
         4.66358252055943,
         4.7394031304866076,
         4.814430395141244,
         4.433749781921506,
         4.43336989171803,
         4.5754691157490015,
         4.293369794264436,
         4.802602829411626,
         4.39591977186501,
         4.298696199432015,
         4.53405080921948,
         4.374813744798303,
         4.747888775542378,
         4.403714286163449,
         4.53715411759913,
         4.212229678407311,
         4.272191429510713,
         4.793127546086907,
         4.6457064393907785,
         4.38124574162066,
         4.593179183080792,
         4.405137399211526,
         4.418576495721936,
         4.570122973993421,
         4.787079455330968,
         4.727416003122926,
         4.571761192753911,
         4.67446587421,
         4.423187950626016,
         5.0147414449602365,
         4.502642819657922,
         4.378881523385644,
         4.69018011726439,
         4.362635413184762,
         4.458103412762284,
         4.681835116818547,
         4.606888735666871,
         4.451083371415734,
         4.613528037443757,
         4.649206781759858,
         4.627644227817655,
         4.799443507567048,
         4.570167588070035,
         4.435184830799699,
         4.5629879627376795,
         4.6600019577890635,
         5.002880858257413,
         4.656343141570687,
         4.379049452021718,
         4.679865540936589,
         4.330748209729791,
         4.40624207444489,
         4.603529864922166
        ],
        [
         1.1969468102179837,
         1.2360164469198651,
         1.2695136963272478,
         1.1887336438443903,
         1.1599209196955302,
         1.262522307806641,
         1.2315154821458028,
         1.2648246271443204,
         1.2189869287759512,
         1.288938176549793,
         1.2427469551323551,
         1.2502254218089335,
         1.2708491258218302,
         1.2847197941747304,
         1.2533068944475292,
         1.2105724686001298,
         1.2932250592048387,
         1.2702910712071804,
         1.2117301035011583,
         1.2019230879130371,
         1.32307993138378,
         1.3070903728598908,
         1.2168071902578599,
         1.2010889479902214,
         1.2707293257711683,
         1.2971535820573021,
         1.2482033909524652,
         1.208906464672617,
         1.212237971404967,
         1.2118163580194197,
         1.1921531429000511,
         1.2904255388994845,
         1.267985649237875,
         1.2014430369800966,
         1.2260494091205019,
         1.265110294426547,
         1.273647428682734,
         1.22412106460373,
         1.2546985220911455,
         1.2518105792551952,
         1.2384558166738242,
         1.2310455222117165,
         1.2662156711974197,
         1.2490128628887347,
         1.249208822529431,
         1.2487588439740696,
         1.248056696800762,
         1.2349609254626472,
         1.3024806983555457,
         1.30451884918105,
         1.213316741292379,
         1.2234855213686777,
         1.2582857209738123,
         1.1724198347522148,
         1.2638409604383916,
         1.2046805187005685,
         1.143249623803376,
         1.2551152460711792,
         1.2554110225062238,
         1.270915344241457,
         1.2332974069667402,
         1.2478221007293748,
         1.220736029241496,
         1.2084583753447573,
         1.288867611836225,
         1.2508410939021846,
         1.2113501938895195,
         1.2415795206404623,
         1.2401583415631237,
         1.2475654049330236,
         1.2495641737873944,
         1.3055280202109194,
         1.2836816879082846,
         1.2501920983192394,
         1.2770841167243288,
         1.2147177348454405,
         1.3243020464149857,
         1.180160543909727,
         1.198423163455893,
         1.2961487703495231,
         1.1853119246998625,
         1.249172883394876,
         1.284715970183321,
         1.27512979624969,
         1.2152192347044841,
         1.2481783733210228,
         1.2604801534717696,
         1.2672353435364632,
         1.3111921072465893,
         1.2660815090108608,
         1.2227503085534874,
         1.2363389289533824,
         1.271256800171577,
         1.3359049799527938,
         1.2585907430904544,
         1.2515620055060022,
         1.2729040964980545,
         1.2192600467316905,
         1.197605911519694,
         1.2435112108356652
        ]
       ],
       "encoder": "json",
       "name": "ABC_GAN_1 Metrics",
       "version": 1
      }
     },
     "metadata": {
      "scrapbook": {
       "data": true,
       "display": false,
       "name": "ABC_GAN_1 Metrics"
      }
     },
     "output_type": "display_data"
    },
    {
     "name": "stdout",
     "output_type": "stream",
     "text": [
      "MSE\n",
      "0.07772946080797546\n"
     ]
    }
   ],
   "source": [
    "ABC_GAN1_metrics=ABC_train_test2.test_generator(gen,test_data,prior_model,variance,bias,\"1\",device)\n",
    "sb.glue(\"ABC_GAN_1 Metrics\",ABC_GAN1_metrics)\n",
    "\n",
    "print(\"MSE\")\n",
    "print(mean(ABC_GAN1_metrics[0]))"
   ]
  },
  {
   "cell_type": "code",
   "execution_count": 14,
   "id": "eb22ce5c",
   "metadata": {
    "execution": {
     "iopub.execute_input": "2022-03-08T20:51:13.524192Z",
     "iopub.status.busy": "2022-03-08T20:51:13.523819Z",
     "iopub.status.idle": "2022-03-08T20:51:13.819523Z",
     "shell.execute_reply": "2022-03-08T20:51:13.819824Z"
    },
    "papermill": {
     "duration": 0.310194,
     "end_time": "2022-03-08T20:51:13.819950",
     "exception": false,
     "start_time": "2022-03-08T20:51:13.509756",
     "status": "completed"
    },
    "tags": []
   },
   "outputs": [
    {
     "data": {
      "image/png": "[encoded data removed]",
      "text/plain": [
       "<Figure size 432x288 with 1 Axes>"
      ]
     },
     "metadata": {
      "needs_background": "light"
     },
     "output_type": "display_data"
    },
    {
     "data": {
      "image/png": "[encoded data removed]",
      "text/plain": [
       "<Figure size 432x288 with 1 Axes>"
      ]
     },
     "metadata": {
      "needs_background": "light"
     },
     "output_type": "display_data"
    },
    {
     "data": {
      "image/png": "[encoded data removed]",
      "text/plain": [
       "<Figure size 432x288 with 1 Axes>"
      ]
     },
     "metadata": {
      "needs_background": "light"
     },
     "output_type": "display_data"
    },
    {
     "data": {
      "image/png": "[encoded data removed]",
      "text/plain": [
       "<Figure size 432x288 with 1 Axes>"
      ]
     },
     "metadata": {
      "needs_background": "light"
     },
     "output_type": "display_data"
    }
   ],
   "source": [
    "sanityChecks.discProbVsError(train_data,disc,device)\n",
    "sanityChecks.discProbVsError(test_data,disc,device)"
   ]
  },
  {
   "cell_type": "markdown",
   "id": "130f3a4d",
   "metadata": {
    "id": "130f3a4d",
    "papermill": {
     "duration": 0.035921,
     "end_time": "2022-03-08T20:51:13.870559",
     "exception": false,
     "start_time": "2022-03-08T20:51:13.834638",
     "status": "completed"
    },
    "tags": []
   },
   "source": [
    "# ABC - GAN Model with skip connection"
   ]
  },
  {
   "cell_type": "code",
   "execution_count": 15,
   "id": "4e43dad1",
   "metadata": {
    "execution": {
     "iopub.execute_input": "2022-03-08T20:51:13.902689Z",
     "iopub.status.busy": "2022-03-08T20:51:13.902320Z",
     "iopub.status.idle": "2022-03-08T20:51:13.904731Z",
     "shell.execute_reply": "2022-03-08T20:51:13.904966Z"
    },
    "id": "4e43dad1",
    "papermill": {
     "duration": 0.020016,
     "end_time": "2022-03-08T20:51:13.905077",
     "exception": false,
     "start_time": "2022-03-08T20:51:13.885061",
     "status": "completed"
    },
    "tags": []
   },
   "outputs": [],
   "source": [
    "#Generator\n",
    "gen3 = network.GeneratorWithSkipConnection(n_features+1).to(device)\n",
    "constraints=network.weightConstraint()\n",
    "#Discriminator \n",
    "disc3 = network.Discriminator(n_features+1).to(device)\n",
    "\n",
    "criterion = torch.nn.BCELoss()\n",
    "gen_opt = torch.optim.Adam(gen3.parameters(), lr=0.001, betas=(0.5, 0.999))\n",
    "disc_opt = torch.optim.Adam(disc3.parameters(), lr=0.001, betas=(0.5, 0.999))\n"
   ]
  },
  {
   "cell_type": "code",
   "execution_count": 16,
   "id": "26acbc37",
   "metadata": {
    "execution": {
     "iopub.execute_input": "2022-03-08T20:51:13.936432Z",
     "iopub.status.busy": "2022-03-08T20:51:13.936073Z",
     "iopub.status.idle": "2022-03-08T20:51:50.193872Z",
     "shell.execute_reply": "2022-03-08T20:51:50.194192Z"
    },
    "id": "26acbc37",
    "papermill": {
     "duration": 36.274632,
     "end_time": "2022-03-08T20:51:50.194319",
     "exception": false,
     "start_time": "2022-03-08T20:51:13.919687",
     "status": "completed"
    },
    "tags": []
   },
   "outputs": [
    {
     "data": {
      "image/png": "[encoded data removed]",
      "text/plain": [
       "<Figure size 432x288 with 1 Axes>"
      ]
     },
     "metadata": {
      "needs_background": "light"
     },
     "output_type": "display_data"
    },
    {
     "data": {
      "image/png": "[encoded data removed]",
      "text/plain": [
       "<Figure size 432x288 with 1 Axes>"
      ]
     },
     "metadata": {
      "needs_background": "light"
     },
     "output_type": "display_data"
    }
   ],
   "source": [
    "ABC_train_test2.training_GAN_skip_connection(disc3,gen3,disc_opt,gen_opt,train_data,batch_size,n_epochs,criterion,prior_model,variance,bias,device)"
   ]
  },
  {
   "cell_type": "code",
   "execution_count": 17,
   "id": "c5e0717b",
   "metadata": {
    "execution": {
     "iopub.execute_input": "2022-03-08T20:51:50.227752Z",
     "iopub.status.busy": "2022-03-08T20:51:50.227321Z",
     "iopub.status.idle": "2022-03-08T20:51:50.501123Z",
     "shell.execute_reply": "2022-03-08T20:51:50.501419Z"
    },
    "id": "c5e0717b",
    "papermill": {
     "duration": 0.291581,
     "end_time": "2022-03-08T20:51:50.501540",
     "exception": false,
     "start_time": "2022-03-08T20:51:50.209959",
     "status": "completed"
    },
    "tags": []
   },
   "outputs": [
    {
     "data": {
      "application/scrapbook.scrap.json+json": {
       "data": 0.05773678759298969,
       "encoder": "json",
       "name": "ABC-GAN Model 3 MSE",
       "version": 1
      }
     },
     "metadata": {
      "scrapbook": {
       "data": true,
       "display": false,
       "name": "ABC-GAN Model 3 MSE"
      }
     },
     "output_type": "display_data"
    },
    {
     "data": {
      "application/scrapbook.scrap.json+json": {
       "data": 0.1789917692579329,
       "encoder": "json",
       "name": "ABC-GAN Model 3 MAE",
       "version": 1
      }
     },
     "metadata": {
      "scrapbook": {
       "data": true,
       "display": false,
       "name": "ABC-GAN Model 3 MAE"
      }
     },
     "output_type": "display_data"
    },
    {
     "data": {
      "application/scrapbook.scrap.json+json": {
       "data": 3.579835385158658,
       "encoder": "json",
       "name": "ABC-GAN Model 3 Manhattan Distance",
       "version": 1
      }
     },
     "metadata": {
      "scrapbook": {
       "data": true,
       "display": false,
       "name": "ABC-GAN Model 3 Manhattan Distance"
      }
     },
     "output_type": "display_data"
    },
    {
     "data": {
      "application/scrapbook.scrap.json+json": {
       "data": 1.0724714256508239,
       "encoder": "json",
       "name": "ABC-GAN Model 3 Euclidean distance",
       "version": 1
      }
     },
     "metadata": {
      "scrapbook": {
       "data": true,
       "display": false,
       "name": "ABC-GAN Model 3 Euclidean distance"
      }
     },
     "output_type": "display_data"
    },
    {
     "data": {
      "application/scrapbook.scrap.json+json": {
       "data": [
        [
         0.052230877736234714,
         0.05949579622775593,
         0.05932478467934561,
         0.07278448173854388,
         0.057307165968822724,
         0.0611079624351461,
         0.05288331223945405,
         0.06548592834766095,
         0.05335837795039163,
         0.05394251348075838,
         0.04864362481561284,
         0.04809626550406965,
         0.055581188466914525,
         0.0688689935804118,
         0.05144319979209879,
         0.07575379492868921,
         0.0796852207646399,
         0.05316590627774755,
         0.05304352770829686,
         0.05299784776703266,
         0.04994367074474166,
         0.055087177548786004,
         0.0499832194922557,
         0.07577906917633356,
         0.04748755264399957,
         0.06380954503311634,
         0.05325141393468537,
         0.05110194493469518,
         0.05604086498853887,
         0.06961676126344392,
         0.057945052437484136,
         0.08079331253000924,
         0.06800669309554704,
         0.04582424175203671,
         0.06403845810876055,
         0.05800435984347968,
         0.05267664723897114,
         0.06023049930717326,
         0.05775013255181809,
         0.05540394182100171,
         0.055517372197104044,
         0.0629908092582178,
         0.054244159102898114,
         0.06082655263131469,
         0.05607897549206483,
         0.05617837076843933,
         0.057084208000813576,
         0.04466484394630808,
         0.059330789149298915,
         0.055574226143487115,
         0.0656114465953708,
         0.057208653918076946,
         0.05278543467198531,
         0.05290580426112819,
         0.06576794479368445,
         0.04694140878318034,
         0.05393287264202721,
         0.05219496792904084,
         0.05306012103514228,
         0.05598013574866874,
         0.05963477449381495,
         0.05363675970715588,
         0.05744259489592211,
         0.05571134845119541,
         0.0645014496269114,
         0.05586814997473662,
         0.0652354966560514,
         0.058685867649006226,
         0.050567530584198314,
         0.04093012419882652,
         0.053197934816651506,
         0.057991230990341355,
         0.058962501410261235,
         0.059763508332436,
         0.053562372146035764,
         0.05645708689025932,
         0.055232205206043126,
         0.05391454527984123,
         0.05643494137769341,
         0.06148321611057066,
         0.05742077231101422,
         0.06050282868082542,
         0.05242111207334878,
         0.05615683929793014,
         0.06096525330043826,
         0.05029984017479241,
         0.07214454852459137,
         0.06061389125855167,
         0.05181900024817521,
         0.06147367945510742,
         0.04966675678094782,
         0.06750344723646687,
         0.05661247334189311,
         0.05374265900506049,
         0.055163701262125976,
         0.0613526925777063,
         0.0714089264222412,
         0.04618723621304673,
         0.06770749619005594,
         0.0644475402219404
        ],
        [
         0.16777792694047095,
         0.1831833933480084,
         0.1860841472633183,
         0.19786151992157103,
         0.1802503795363009,
         0.18601105334237217,
         0.1717444178648293,
         0.19109539361670613,
         0.17113350899890065,
         0.1658288394100964,
         0.172398713324219,
         0.16909143598750234,
         0.17643737131729723,
         0.197195450309664,
         0.163111284468323,
         0.2055205007083714,
         0.20572851793840527,
         0.1778343160636723,
         0.16747076371684672,
         0.17299746992066503,
         0.17629328044131398,
         0.17862964840605855,
         0.16749653154984118,
         0.20904024289920925,
         0.16279201256111264,
         0.18637813748791815,
         0.17506071263924242,
         0.1748336479999125,
         0.17488404968753457,
         0.19403323950245976,
         0.1779249426908791,
         0.2054612730629742,
         0.20103120589628815,
         0.15964066060259938,
         0.19167802752926946,
         0.17958560483530164,
         0.16331802206113935,
         0.18039790699258446,
         0.17951015504077078,
         0.17447129460051655,
         0.16644202144816517,
         0.19112725602462888,
         0.16858339281752704,
         0.18036569328978658,
         0.18083500126376748,
         0.17265087487176062,
         0.17688414650037884,
         0.16141376541927457,
         0.1842094917781651,
         0.17167798252776265,
         0.19574295626953245,
         0.1792956014163792,
         0.166349168587476,
         0.17350954758003354,
         0.18616269873455166,
         0.15909899929538368,
         0.17489702263846993,
         0.1713148915208876,
         0.17581705758348107,
         0.17870651679113508,
         0.17662227125838398,
         0.1769109127111733,
         0.17454703422263265,
         0.17988368021324277,
         0.1889826406724751,
         0.1856252928264439,
         0.18236769856885077,
         0.18306855456903576,
         0.17239743443205952,
         0.14915681527927518,
         0.17341089555993677,
         0.1846231740899384,
         0.18004608796909452,
         0.18707884149625897,
         0.17345926025882363,
         0.17295089112594725,
         0.17238707141950727,
         0.17132867434993387,
         0.18099596099928023,
         0.1819206909276545,
         0.17825309755280613,
         0.18433886812999845,
         0.16344239683821798,
         0.1755376216955483,
         0.18786253267899156,
         0.17457419643178582,
         0.20244758995249867,
         0.19119098978117108,
         0.16885021002963185,
         0.18141462551429868,
         0.1582853273488581,
         0.1925884966738522,
         0.18095110217109323,
         0.17075356775894762,
         0.17701200591400265,
         0.17785866232588887,
         0.20314645590260624,
         0.16685215951874852,
         0.18681783946231006,
         0.192934210319072
        ],
        [
         3.3555585388094187,
         3.663667866960168,
         3.721682945266366,
         3.9572303984314203,
         3.605007590726018,
         3.7202210668474436,
         3.434888357296586,
         3.8219078723341227,
         3.422670179978013,
         3.316576788201928,
         3.4479742664843798,
         3.3818287197500467,
         3.5287474263459444,
         3.94390900619328,
         3.26222568936646,
         4.110410014167428,
         4.1145703587681055,
         3.556686321273446,
         3.349415274336934,
         3.4599493984133005,
         3.5258656088262796,
         3.572592968121171,
         3.3499306309968233,
         4.180804857984185,
         3.255840251222253,
         3.7275627497583628,
         3.501214252784848,
         3.49667295999825,
         3.4976809937506914,
         3.8806647900491953,
         3.558498853817582,
         4.109225461259484,
         4.020624117925763,
         3.1928132120519876,
         3.833560550585389,
         3.5917120967060328,
         3.266360441222787,
         3.6079581398516893,
         3.5902031008154154,
         3.489425892010331,
         3.3288404289633036,
         3.8225451204925776,
         3.371667856350541,
         3.6073138657957315,
         3.6167000252753496,
         3.453017497435212,
         3.537682930007577,
         3.2282753083854914,
         3.684189835563302,
         3.433559650555253,
         3.914859125390649,
         3.5859120283275843,
         3.3269833717495203,
         3.470190951600671,
         3.7232539746910334,
         3.181979985907674,
         3.4979404527693987,
         3.4262978304177523,
         3.5163411516696215,
         3.5741303358227015,
         3.53244542516768,
         3.538218254223466,
         3.490940684452653,
         3.5976736042648554,
         3.779652813449502,
         3.712505856528878,
         3.647353971377015,
         3.6613710913807154,
         3.4479486886411905,
         2.9831363055855036,
         3.4682179111987352,
         3.692463481798768,
         3.6009217593818903,
         3.7415768299251795,
         3.4691852051764727,
         3.4590178225189447,
         3.4477414283901453,
         3.4265734869986773,
         3.6199192199856043,
         3.63841381855309,
         3.565061951056123,
         3.686777362599969,
         3.2688479367643595,
         3.510752433910966,
         3.757250653579831,
         3.4914839286357164,
         4.0489517990499735,
         3.8238197956234217,
         3.377004200592637,
         3.6282925102859735,
         3.1657065469771624,
         3.851769933477044,
         3.6190220434218645,
         3.415071355178952,
         3.540240118280053,
         3.5571732465177774,
         4.062929118052125,
         3.3370431903749704,
         3.7363567892462015,
         3.85868420638144
        ],
        [
         1.0220653377963145,
         1.0908326748659112,
         1.0892638310285128,
         1.2065196371260922,
         1.0705808327148654,
         1.1055131155725482,
         1.0284290178661244,
         1.144429363024743,
         1.0330380239893557,
         1.0386771729537372,
         0.9863429912116052,
         0.9807779106818184,
         1.0543357004950038,
         1.1736182818992877,
         1.0143293330284675,
         1.2308841938110118,
         1.262420062931827,
         1.0311731792259489,
         1.0299857058066084,
         1.0295421095519373,
         0.9994365487087378,
         1.0496397243700908,
         0.999832180840922,
         1.2310895107694937,
         0.9745517189354249,
         1.1296861956589213,
         1.0320020730084352,
         1.0109593951756437,
         1.058686591853688,
         1.1799725527608167,
         1.07652266522804,
         1.2711672787639652,
         1.1662477703776932,
         0.9573321445771755,
         1.1317107237166268,
         1.0770734407966773,
         1.0264175294583695,
         1.0975472591845261,
         1.074710496383264,
         1.0526532365504009,
         1.053730251982015,
         1.1224153354103623,
         1.0415772568839827,
         1.1029646651757679,
         1.0590465097630493,
         1.0599846297795015,
         1.068496214320047,
         0.9451438403365711,
         1.0893189537440255,
         1.05426966325971,
         1.1455256138155165,
         1.0696602630562373,
         1.027476857860899,
         1.0286476973301226,
         1.1468909694795268,
         0.9689314607667597,
         1.0385843503734034,
         1.021713931871743,
         1.0301467957057604,
         1.0581128082455928,
         1.0921059883895423,
         1.0357293054380172,
         1.0718450904484482,
         1.0555694998548926,
         1.1357944323416223,
         1.0570539245917079,
         1.1422390000000122,
         1.0833823669324347,
         1.0056592920487368,
         0.9047665356192892,
         1.031483735370088,
         1.076951540138565,
         1.0859327917533501,
         1.0932841198191439,
         1.0350108419338975,
         1.0626108120121809,
         1.0510205060420383,
         1.0384078705387516,
         1.0624023849530215,
         1.1089023050798539,
         1.0716414727978216,
         1.1000257149796582,
         1.0239249198388403,
         1.0597814802866687,
         1.1042214750713577,
         1.0029939199695321,
         1.2012039670646395,
         1.101034888262417,
         1.0180275069778342,
         1.1088163008822285,
         0.996661996676384,
         1.1619246725710481,
         1.0640721154310275,
         1.0367512624063737,
         1.0503685187792517,
         1.1077246280344795,
         1.1950642361165462,
         0.9611163947519232,
         1.1636794764028102,
         1.1353196926147313
        ]
       ],
       "encoder": "json",
       "name": "ABC_GAN_3 Metrics",
       "version": 1
      }
     },
     "metadata": {
      "scrapbook": {
       "data": true,
       "display": false,
       "name": "ABC_GAN_3 Metrics"
      }
     },
     "output_type": "display_data"
    },
    {
     "name": "stdout",
     "output_type": "stream",
     "text": [
      "MSE\n",
      "0.05773678759298969\n"
     ]
    }
   ],
   "source": [
    "ABC_GAN3_metrics=ABC_train_test2.test_generator(gen3,test_data,prior_model,variance,bias,\"3\",device)\n",
    "sb.glue(\"ABC_GAN_3 Metrics\",ABC_GAN3_metrics)\n",
    "\n",
    "print(\"MSE\")\n",
    "print(mean(ABC_GAN3_metrics[0]))"
   ]
  },
  {
   "cell_type": "code",
   "execution_count": 18,
   "id": "c8e46b48",
   "metadata": {
    "execution": {
     "iopub.execute_input": "2022-03-08T20:51:50.537824Z",
     "iopub.status.busy": "2022-03-08T20:51:50.537469Z",
     "iopub.status.idle": "2022-03-08T20:51:50.821325Z",
     "shell.execute_reply": "2022-03-08T20:51:50.821632Z"
    },
    "id": "c8e46b48",
    "papermill": {
     "duration": 0.303214,
     "end_time": "2022-03-08T20:51:50.821759",
     "exception": false,
     "start_time": "2022-03-08T20:51:50.518545",
     "status": "completed"
    },
    "tags": []
   },
   "outputs": [
    {
     "data": {
      "image/png": "[encoded data removed]",
      "text/plain": [
       "<Figure size 432x288 with 1 Axes>"
      ]
     },
     "metadata": {
      "needs_background": "light"
     },
     "output_type": "display_data"
    },
    {
     "data": {
      "image/png": "[encoded data removed]",
      "text/plain": [
       "<Figure size 432x288 with 1 Axes>"
      ]
     },
     "metadata": {
      "needs_background": "light"
     },
     "output_type": "display_data"
    },
    {
     "data": {
      "image/png": "[encoded data removed]",
      "text/plain": [
       "<Figure size 432x288 with 1 Axes>"
      ]
     },
     "metadata": {
      "needs_background": "light"
     },
     "output_type": "display_data"
    },
    {
     "data": {
      "image/png": "[encoded data removed]",
      "text/plain": [
       "<Figure size 432x288 with 1 Axes>"
      ]
     },
     "metadata": {
      "needs_background": "light"
     },
     "output_type": "display_data"
    }
   ],
   "source": [
    "sanityChecks.discProbVsError(train_data,disc3,device)\n",
    "sanityChecks.discProbVsError(test_data,disc3,device)"
   ]
  },
  {
   "cell_type": "markdown",
   "id": "a5bd74c3",
   "metadata": {
    "id": "a5bd74c3",
    "papermill": {
     "duration": 0.019464,
     "end_time": "2022-03-08T20:51:50.860734",
     "exception": false,
     "start_time": "2022-03-08T20:51:50.841270",
     "status": "completed"
    },
    "tags": []
   },
   "source": [
    "## Skip Connection Model Analysis - ABC-GAN "
   ]
  },
  {
   "cell_type": "markdown",
   "id": "5744a8bf",
   "metadata": {
    "id": "5744a8bf",
    "papermill": {
     "duration": 0.018872,
     "end_time": "2022-03-08T20:51:50.898696",
     "exception": false,
     "start_time": "2022-03-08T20:51:50.879824",
     "status": "completed"
    },
    "tags": []
   },
   "source": [
    "### Weight Analysis \n",
    "\n",
    "Study the weights of the skip connection layer\n",
    "\n",
    "Equation of the skip connection is \n",
    "\n",
    "$output = y_{gan} * w + y_{abc} * (1-w)$"
   ]
  },
  {
   "cell_type": "code",
   "execution_count": 19,
   "id": "52c31dea",
   "metadata": {
    "execution": {
     "iopub.execute_input": "2022-03-08T20:51:50.939571Z",
     "iopub.status.busy": "2022-03-08T20:51:50.939181Z",
     "iopub.status.idle": "2022-03-08T20:51:50.942810Z",
     "shell.execute_reply": "2022-03-08T20:51:50.943059Z"
    },
    "id": "52c31dea",
    "papermill": {
     "duration": 0.02551,
     "end_time": "2022-03-08T20:51:50.943172",
     "exception": false,
     "start_time": "2022-03-08T20:51:50.917662",
     "status": "completed"
    },
    "tags": []
   },
   "outputs": [
    {
     "name": "stdout",
     "output_type": "stream",
     "text": [
      "Weight of the node at skip connection\n",
      "Parameter containing:\n",
      "tensor([[0.8059]], requires_grad=True)\n"
     ]
    },
    {
     "data": {
      "application/scrapbook.scrap.json+json": {
       "data": 0.805941104888916,
       "encoder": "json",
       "name": "Skip Connection Weight",
       "version": 1
      }
     },
     "metadata": {
      "scrapbook": {
       "data": true,
       "display": false,
       "name": "Skip Connection Weight"
      }
     },
     "output_type": "display_data"
    }
   ],
   "source": [
    "print(\"Weight of the node at skip connection\")\n",
    "for name,param in gen3.named_parameters():\n",
    "    if(name == \"skipNode.weight\"):\n",
    "        print(param)\n",
    "        sb.glue(\"Skip Connection Weight\",param.item())"
   ]
  }
 ],
 "metadata": {
  "colab": {
   "collapsed_sections": [],
   "name": "ABC_GAN_Model-Catboost_Pre-gen.ipynb",
   "provenance": []
  },
  "interpreter": {
   "hash": "31f2aee4e71d21fbe5cf8b01ff0e069b9275f58929596ceb00d14d90e3e16cd6"
  },
  "kernelspec": {
   "display_name": "Python 3 (ipykernel)",
   "language": "python",
   "name": "python3"
  },
  "language_info": {
   "codemirror_mode": {
    "name": "ipython",
    "version": 3
   },
   "file_extension": ".py",
   "mimetype": "text/x-python",
   "name": "python",
   "nbconvert_exporter": "python",
   "pygments_lexer": "ipython3",
   "version": "3.8.11"
  },
  "papermill": {
   "default_parameters": {},
   "duration": 54.866963,
   "end_time": "2022-03-08T20:51:51.273070",
   "environment_variables": {},
   "exception": null,
   "input_path": "ABC_GAN-Catboost.ipynb",
   "output_path": "./ABC_GAN_Catboost/ABC-GAN_output_9_3.ipynb",
   "parameters": {
    "bias": 0.1,
    "variance": 1
   },
   "start_time": "2022-03-08T20:50:56.406107",
   "version": "2.3.3"
  }
 },
 "nbformat": 4,
 "nbformat_minor": 5
}