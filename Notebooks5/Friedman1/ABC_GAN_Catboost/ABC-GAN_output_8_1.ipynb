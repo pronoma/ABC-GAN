{
 "cells": [
  {
   "cell_type": "markdown",
   "id": "622780e6",
   "metadata": {
    "id": "622780e6",
    "papermill": {
     "duration": 0.026539,
     "end_time": "2022-03-08T20:40:47.094046",
     "exception": false,
     "start_time": "2022-03-08T20:40:47.067507",
     "status": "completed"
    },
    "tags": []
   },
   "source": [
    "## Import Libraries "
   ]
  },
  {
   "cell_type": "code",
   "execution_count": 1,
   "id": "a62397e3",
   "metadata": {
    "execution": {
     "iopub.execute_input": "2022-03-08T20:40:47.129333Z",
     "iopub.status.busy": "2022-03-08T20:40:47.128762Z",
     "iopub.status.idle": "2022-03-08T20:40:47.131297Z",
     "shell.execute_reply": "2022-03-08T20:40:47.131639Z"
    },
    "id": "a62397e3",
    "papermill": {
     "duration": 0.022399,
     "end_time": "2022-03-08T20:40:47.131853",
     "exception": false,
     "start_time": "2022-03-08T20:40:47.109454",
     "status": "completed"
    },
    "tags": []
   },
   "outputs": [],
   "source": [
    "import warnings\n",
    "import sys\n",
    "sys.path.insert(0, '../../src')\n",
    "warnings.filterwarnings('ignore')"
   ]
  },
  {
   "cell_type": "code",
   "execution_count": 2,
   "id": "d6a4e155",
   "metadata": {
    "execution": {
     "iopub.execute_input": "2022-03-08T20:40:47.152922Z",
     "iopub.status.busy": "2022-03-08T20:40:47.152492Z",
     "iopub.status.idle": "2022-03-08T20:40:48.687868Z",
     "shell.execute_reply": "2022-03-08T20:40:48.688108Z"
    },
    "id": "d6a4e155",
    "papermill": {
     "duration": 1.546583,
     "end_time": "2022-03-08T20:40:48.688235",
     "exception": false,
     "start_time": "2022-03-08T20:40:47.141652",
     "status": "completed"
    },
    "tags": []
   },
   "outputs": [],
   "source": [
    "import ABC_train_test2\n",
    "import friedman1Dataset\n",
    "import network\n",
    "import dataset\n",
    "import sanityChecks\n",
    "import torch \n",
    "import scrapbook as sb\n",
    "from statistics import mean \n",
    "import catboost as ctb \n",
    "from sklearn.model_selection import train_test_split\n",
    "from sklearn.metrics import mean_squared_error,mean_absolute_error\n",
    "import numpy as np"
   ]
  },
  {
   "cell_type": "markdown",
   "id": "2fa5b0f7",
   "metadata": {
    "id": "2fa5b0f7",
    "papermill": {
     "duration": 0.006738,
     "end_time": "2022-03-08T20:40:48.702139",
     "exception": false,
     "start_time": "2022-03-08T20:40:48.695401",
     "status": "completed"
    },
    "tags": []
   },
   "source": [
    "## Parameters "
   ]
  },
  {
   "cell_type": "code",
   "execution_count": 3,
   "id": "783186fb",
   "metadata": {
    "execution": {
     "iopub.execute_input": "2022-03-08T20:40:48.717659Z",
     "iopub.status.busy": "2022-03-08T20:40:48.717294Z",
     "iopub.status.idle": "2022-03-08T20:40:48.718724Z",
     "shell.execute_reply": "2022-03-08T20:40:48.718976Z"
    },
    "id": "783186fb",
    "papermill": {
     "duration": 0.010275,
     "end_time": "2022-03-08T20:40:48.719090",
     "exception": false,
     "start_time": "2022-03-08T20:40:48.708815",
     "status": "completed"
    },
    "tags": [
     "parameters"
    ]
   },
   "outputs": [],
   "source": [
    "variance = 1\n",
    "bias = 1 "
   ]
  },
  {
   "cell_type": "code",
   "execution_count": 4,
   "id": "0d304b13",
   "metadata": {
    "execution": {
     "iopub.execute_input": "2022-03-08T20:40:48.734580Z",
     "iopub.status.busy": "2022-03-08T20:40:48.734217Z",
     "iopub.status.idle": "2022-03-08T20:40:48.735609Z",
     "shell.execute_reply": "2022-03-08T20:40:48.735824Z"
    },
    "papermill": {
     "duration": 0.009942,
     "end_time": "2022-03-08T20:40:48.735926",
     "exception": false,
     "start_time": "2022-03-08T20:40:48.725984",
     "status": "completed"
    },
    "tags": [
     "injected-parameters"
    ]
   },
   "outputs": [],
   "source": [
    "# Parameters\n",
    "variance = 0.1\n",
    "bias = 1\n"
   ]
  },
  {
   "cell_type": "markdown",
   "id": "391cdbfd",
   "metadata": {
    "id": "391cdbfd",
    "papermill": {
     "duration": 0.006758,
     "end_time": "2022-03-08T20:40:48.749531",
     "exception": false,
     "start_time": "2022-03-08T20:40:48.742773",
     "status": "completed"
    },
    "tags": []
   },
   "source": [
    "## Dataset \n"
   ]
  },
  {
   "cell_type": "code",
   "execution_count": 5,
   "id": "5b51f161",
   "metadata": {
    "execution": {
     "iopub.execute_input": "2022-03-08T20:40:48.765067Z",
     "iopub.status.busy": "2022-03-08T20:40:48.764692Z",
     "iopub.status.idle": "2022-03-08T20:40:48.766019Z",
     "shell.execute_reply": "2022-03-08T20:40:48.766246Z"
    },
    "id": "5b51f161",
    "papermill": {
     "duration": 0.009969,
     "end_time": "2022-03-08T20:40:48.766352",
     "exception": false,
     "start_time": "2022-03-08T20:40:48.756383",
     "status": "completed"
    },
    "tags": []
   },
   "outputs": [],
   "source": [
    "#Parameters \n",
    "n_features = 5\n",
    "n_samples= 100\n",
    "n_target = 1 "
   ]
  },
  {
   "cell_type": "code",
   "execution_count": 6,
   "id": "5d6eced4",
   "metadata": {
    "execution": {
     "iopub.execute_input": "2022-03-08T20:40:48.783020Z",
     "iopub.status.busy": "2022-03-08T20:40:48.781703Z",
     "iopub.status.idle": "2022-03-08T20:40:48.787945Z",
     "shell.execute_reply": "2022-03-08T20:40:48.788196Z"
    },
    "id": "5d6eced4",
    "papermill": {
     "duration": 0.015123,
     "end_time": "2022-03-08T20:40:48.788308",
     "exception": false,
     "start_time": "2022-03-08T20:40:48.773185",
     "status": "completed"
    },
    "tags": []
   },
   "outputs": [
    {
     "name": "stdout",
     "output_type": "stream",
     "text": [
      "         X0        X1        X2        X3        X4         Y\n",
      "0 -1.657237 -0.819854  0.450456  0.291804  1.438023 -0.684439\n",
      "1 -0.873699  1.048259  0.907060  0.584045  0.517331  0.462709\n",
      "2 -1.660515  0.423249 -0.785783 -0.867781  0.743586 -1.176396\n",
      "3 -0.111400 -1.481320  0.888447  0.431112  0.945082 -0.489707\n",
      "4  0.074955 -1.648635 -0.688206 -1.171160 -1.771339 -2.225458\n"
     ]
    }
   ],
   "source": [
    "X,Y = friedman1Dataset.friedman1_data(n_samples,n_features)"
   ]
  },
  {
   "cell_type": "code",
   "execution_count": 7,
   "id": "fe007438",
   "metadata": {
    "execution": {
     "iopub.execute_input": "2022-03-08T20:40:48.805336Z",
     "iopub.status.busy": "2022-03-08T20:40:48.804971Z",
     "iopub.status.idle": "2022-03-08T20:40:48.806461Z",
     "shell.execute_reply": "2022-03-08T20:40:48.806692Z"
    },
    "id": "fe007438",
    "papermill": {
     "duration": 0.011117,
     "end_time": "2022-03-08T20:40:48.806796",
     "exception": false,
     "start_time": "2022-03-08T20:40:48.795679",
     "status": "completed"
    },
    "tags": []
   },
   "outputs": [],
   "source": [
    "#Train test split for dataset \n",
    "X_train,X_test,Y_train,Y_test = train_test_split(X,Y,test_size = 0.2)\n",
    "train_data = dataset.CustomDataset(X_train,Y_train)\n",
    "test_data = dataset.CustomDataset(X_test,Y_test)\n"
   ]
  },
  {
   "cell_type": "markdown",
   "id": "a9a1af34",
   "metadata": {
    "id": "a9a1af34",
    "papermill": {
     "duration": 0.007042,
     "end_time": "2022-03-08T20:40:48.820992",
     "exception": false,
     "start_time": "2022-03-08T20:40:48.813950",
     "status": "completed"
    },
    "tags": []
   },
   "source": [
    "## Training Parameters "
   ]
  },
  {
   "cell_type": "code",
   "execution_count": 8,
   "id": "952b7fc8",
   "metadata": {
    "execution": {
     "iopub.execute_input": "2022-03-08T20:40:48.837214Z",
     "iopub.status.busy": "2022-03-08T20:40:48.836863Z",
     "iopub.status.idle": "2022-03-08T20:40:48.838261Z",
     "shell.execute_reply": "2022-03-08T20:40:48.838517Z"
    },
    "id": "952b7fc8",
    "papermill": {
     "duration": 0.010582,
     "end_time": "2022-03-08T20:40:48.838624",
     "exception": false,
     "start_time": "2022-03-08T20:40:48.828042",
     "status": "completed"
    },
    "tags": []
   },
   "outputs": [],
   "source": [
    "batch_size = 32\n",
    "n_epochs = 1000\n",
    "#Select the device \n",
    "device = torch.device('cuda' if torch.cuda.is_available() else 'cpu')"
   ]
  },
  {
   "cell_type": "markdown",
   "id": "a95e1600",
   "metadata": {
    "id": "a95e1600",
    "papermill": {
     "duration": 0.007005,
     "end_time": "2022-03-08T20:40:48.852730",
     "exception": false,
     "start_time": "2022-03-08T20:40:48.845725",
     "status": "completed"
    },
    "tags": []
   },
   "source": [
    "# ABC Pre-generator Model \n",
    "\n",
    "1. The catboost model is used as a pre-generator model for the ABC-GAN. \n",
    "2. The model is first trained on the entire dataset \n",
    "3. It generats X,Y pairs and we add some Gaussian noise with mean 0 and variance 1 to it which is then feed as input to the generator.\n"
   ]
  },
  {
   "cell_type": "code",
   "execution_count": 9,
   "id": "ff8ce7bd",
   "metadata": {
    "execution": {
     "iopub.execute_input": "2022-03-08T20:40:48.870378Z",
     "iopub.status.busy": "2022-03-08T20:40:48.870004Z",
     "iopub.status.idle": "2022-03-08T20:40:49.512513Z",
     "shell.execute_reply": "2022-03-08T20:40:49.512753Z"
    },
    "id": "ff8ce7bd",
    "papermill": {
     "duration": 0.653013,
     "end_time": "2022-03-08T20:40:49.512875",
     "exception": false,
     "start_time": "2022-03-08T20:40:48.859862",
     "status": "completed"
    },
    "tags": []
   },
   "outputs": [
    {
     "name": "stdout",
     "output_type": "stream",
     "text": [
      "Learning rate set to 0.024897\n",
      "0:\tlearn: 0.9816051\ttotal: 69.5ms\tremaining: 1m 9s\n",
      "1:\tlearn: 0.9730356\ttotal: 70.1ms\tremaining: 35s\n",
      "2:\tlearn: 0.9612353\ttotal: 70.8ms\tremaining: 23.5s\n",
      "3:\tlearn: 0.9496781\ttotal: 71.3ms\tremaining: 17.8s\n",
      "4:\tlearn: 0.9394376\ttotal: 71.9ms\tremaining: 14.3s\n",
      "5:\tlearn: 0.9294281\ttotal: 72.5ms\tremaining: 12s\n",
      "6:\tlearn: 0.9183910\ttotal: 73.1ms\tremaining: 10.4s\n",
      "7:\tlearn: 0.9093699\ttotal: 73.6ms\tremaining: 9.13s\n",
      "8:\tlearn: 0.8994077\ttotal: 74.2ms\tremaining: 8.16s\n",
      "9:\tlearn: 0.8903710\ttotal: 74.8ms\tremaining: 7.4s\n",
      "10:\tlearn: 0.8805270\ttotal: 75.3ms\tremaining: 6.77s\n",
      "11:\tlearn: 0.8695038\ttotal: 75.8ms\tremaining: 6.24s\n",
      "12:\tlearn: 0.8602091\ttotal: 76.4ms\tremaining: 5.8s\n",
      "13:\tlearn: 0.8509467\ttotal: 76.9ms\tremaining: 5.42s\n",
      "14:\tlearn: 0.8431046\ttotal: 77.4ms\tremaining: 5.08s\n",
      "15:\tlearn: 0.8346383\ttotal: 77.9ms\tremaining: 4.79s\n",
      "16:\tlearn: 0.8258123\ttotal: 78.5ms\tremaining: 4.54s\n",
      "17:\tlearn: 0.8167858\ttotal: 79ms\tremaining: 4.31s\n",
      "18:\tlearn: 0.8087788\ttotal: 79.5ms\tremaining: 4.11s\n",
      "19:\tlearn: 0.8010483\ttotal: 79.9ms\tremaining: 3.92s\n",
      "20:\tlearn: 0.7927562\ttotal: 80.4ms\tremaining: 3.75s\n",
      "21:\tlearn: 0.7830382\ttotal: 80.9ms\tremaining: 3.6s\n",
      "22:\tlearn: 0.7728089\ttotal: 81.4ms\tremaining: 3.46s\n",
      "23:\tlearn: 0.7643307\ttotal: 82.1ms\tremaining: 3.34s\n",
      "24:\tlearn: 0.7564892\ttotal: 82.5ms\tremaining: 3.22s\n",
      "25:\tlearn: 0.7492042\ttotal: 83ms\tremaining: 3.11s\n",
      "26:\tlearn: 0.7415977\ttotal: 83.5ms\tremaining: 3.01s\n",
      "27:\tlearn: 0.7335151\ttotal: 84.1ms\tremaining: 2.92s\n",
      "28:\tlearn: 0.7250911\ttotal: 84.6ms\tremaining: 2.83s\n",
      "29:\tlearn: 0.7183715\ttotal: 85.1ms\tremaining: 2.75s\n",
      "30:\tlearn: 0.7103116\ttotal: 85.5ms\tremaining: 2.67s\n",
      "31:\tlearn: 0.7023560\ttotal: 86ms\tremaining: 2.6s\n",
      "32:\tlearn: 0.6954470\ttotal: 86.5ms\tremaining: 2.53s\n",
      "33:\tlearn: 0.6879080\ttotal: 87ms\tremaining: 2.47s\n",
      "34:\tlearn: 0.6812442\ttotal: 87.4ms\tremaining: 2.41s\n",
      "35:\tlearn: 0.6769092\ttotal: 87.8ms\tremaining: 2.35s\n",
      "36:\tlearn: 0.6690777\ttotal: 88.3ms\tremaining: 2.3s\n",
      "37:\tlearn: 0.6622450\ttotal: 88.7ms\tremaining: 2.24s\n",
      "38:\tlearn: 0.6559057\ttotal: 89.1ms\tremaining: 2.2s\n",
      "39:\tlearn: 0.6480227\ttotal: 89.6ms\tremaining: 2.15s\n",
      "40:\tlearn: 0.6411068\ttotal: 90ms\tremaining: 2.1s\n",
      "41:\tlearn: 0.6350908\ttotal: 90.5ms\tremaining: 2.06s\n",
      "42:\tlearn: 0.6282449\ttotal: 90.9ms\tremaining: 2.02s\n",
      "43:\tlearn: 0.6218992\ttotal: 91.5ms\tremaining: 1.99s\n",
      "44:\tlearn: 0.6161754\ttotal: 91.9ms\tremaining: 1.95s\n",
      "45:\tlearn: 0.6099135\ttotal: 92.3ms\tremaining: 1.91s\n",
      "46:\tlearn: 0.6040882\ttotal: 92.9ms\tremaining: 1.88s\n",
      "47:\tlearn: 0.5975662\ttotal: 93.3ms\tremaining: 1.85s\n",
      "48:\tlearn: 0.5913526\ttotal: 93.8ms\tremaining: 1.82s\n",
      "49:\tlearn: 0.5844331\ttotal: 94.2ms\tremaining: 1.79s\n",
      "50:\tlearn: 0.5783982\ttotal: 94.6ms\tremaining: 1.76s\n",
      "51:\tlearn: 0.5725031\ttotal: 95ms\tremaining: 1.73s\n",
      "52:\tlearn: 0.5674593\ttotal: 95.5ms\tremaining: 1.71s\n",
      "53:\tlearn: 0.5620693\ttotal: 95.8ms\tremaining: 1.68s\n",
      "54:\tlearn: 0.5572428\ttotal: 96.3ms\tremaining: 1.65s\n",
      "55:\tlearn: 0.5519940\ttotal: 96.7ms\tremaining: 1.63s\n",
      "56:\tlearn: 0.5470129\ttotal: 97.1ms\tremaining: 1.6s\n",
      "57:\tlearn: 0.5419546\ttotal: 97.5ms\tremaining: 1.58s\n",
      "58:\tlearn: 0.5359938\ttotal: 97.9ms\tremaining: 1.56s\n",
      "59:\tlearn: 0.5306017\ttotal: 98.3ms\tremaining: 1.54s\n",
      "60:\tlearn: 0.5259736\ttotal: 98.7ms\tremaining: 1.52s\n",
      "61:\tlearn: 0.5211618\ttotal: 99.1ms\tremaining: 1.5s\n",
      "62:\tlearn: 0.5167543\ttotal: 99.6ms\tremaining: 1.48s\n",
      "63:\tlearn: 0.5118492\ttotal: 100ms\tremaining: 1.46s\n",
      "64:\tlearn: 0.5072597\ttotal: 101ms\tremaining: 1.45s\n",
      "65:\tlearn: 0.5016766\ttotal: 101ms\tremaining: 1.43s\n",
      "66:\tlearn: 0.4969323\ttotal: 102ms\tremaining: 1.41s\n",
      "67:\tlearn: 0.4927720\ttotal: 102ms\tremaining: 1.4s\n",
      "68:\tlearn: 0.4877997\ttotal: 103ms\tremaining: 1.38s\n",
      "69:\tlearn: 0.4825389\ttotal: 103ms\tremaining: 1.37s\n",
      "70:\tlearn: 0.4777619\ttotal: 103ms\tremaining: 1.35s\n",
      "71:\tlearn: 0.4724381\ttotal: 104ms\tremaining: 1.34s\n",
      "72:\tlearn: 0.4678854\ttotal: 104ms\tremaining: 1.32s\n",
      "73:\tlearn: 0.4634515\ttotal: 105ms\tremaining: 1.31s\n",
      "74:\tlearn: 0.4584514\ttotal: 105ms\tremaining: 1.3s\n",
      "75:\tlearn: 0.4550264\ttotal: 106ms\tremaining: 1.29s\n",
      "76:\tlearn: 0.4509065\ttotal: 106ms\tremaining: 1.27s\n",
      "77:\tlearn: 0.4469648\ttotal: 107ms\tremaining: 1.26s\n",
      "78:\tlearn: 0.4429339\ttotal: 107ms\tremaining: 1.25s\n",
      "79:\tlearn: 0.4385836\ttotal: 108ms\tremaining: 1.24s\n",
      "80:\tlearn: 0.4339794\ttotal: 108ms\tremaining: 1.23s\n",
      "81:\tlearn: 0.4307070\ttotal: 109ms\tremaining: 1.22s\n"
     ]
    },
    {
     "name": "stdout",
     "output_type": "stream",
     "text": [
      "82:\tlearn: 0.4274806\ttotal: 109ms\tremaining: 1.21s\n",
      "83:\tlearn: 0.4235281\ttotal: 110ms\tremaining: 1.2s\n",
      "84:\tlearn: 0.4193264\ttotal: 110ms\tremaining: 1.19s\n",
      "85:\tlearn: 0.4154758\ttotal: 111ms\tremaining: 1.18s\n",
      "86:\tlearn: 0.4113934\ttotal: 111ms\tremaining: 1.17s\n",
      "87:\tlearn: 0.4073304\ttotal: 112ms\tremaining: 1.16s\n",
      "88:\tlearn: 0.4039103\ttotal: 112ms\tremaining: 1.15s\n",
      "89:\tlearn: 0.4004900\ttotal: 112ms\tremaining: 1.14s\n",
      "90:\tlearn: 0.3960870\ttotal: 113ms\tremaining: 1.13s\n",
      "91:\tlearn: 0.3924797\ttotal: 113ms\tremaining: 1.12s\n",
      "92:\tlearn: 0.3891115\ttotal: 114ms\tremaining: 1.11s\n",
      "93:\tlearn: 0.3850726\ttotal: 114ms\tremaining: 1.1s\n",
      "94:\tlearn: 0.3810127\ttotal: 115ms\tremaining: 1.09s\n",
      "95:\tlearn: 0.3774114\ttotal: 115ms\tremaining: 1.08s\n",
      "96:\tlearn: 0.3741556\ttotal: 115ms\tremaining: 1.07s\n",
      "97:\tlearn: 0.3709233\ttotal: 116ms\tremaining: 1.07s\n",
      "98:\tlearn: 0.3677197\ttotal: 116ms\tremaining: 1.06s\n",
      "99:\tlearn: 0.3643874\ttotal: 117ms\tremaining: 1.05s\n",
      "100:\tlearn: 0.3612131\ttotal: 117ms\tremaining: 1.04s\n",
      "101:\tlearn: 0.3582596\ttotal: 118ms\tremaining: 1.04s\n",
      "102:\tlearn: 0.3552317\ttotal: 118ms\tremaining: 1.03s\n",
      "103:\tlearn: 0.3520909\ttotal: 119ms\tremaining: 1.02s\n",
      "104:\tlearn: 0.3491675\ttotal: 119ms\tremaining: 1.01s\n",
      "105:\tlearn: 0.3455620\ttotal: 120ms\tremaining: 1.01s\n",
      "106:\tlearn: 0.3424473\ttotal: 120ms\tremaining: 1s\n",
      "107:\tlearn: 0.3393313\ttotal: 121ms\tremaining: 997ms\n",
      "108:\tlearn: 0.3362648\ttotal: 121ms\tremaining: 992ms\n",
      "109:\tlearn: 0.3330178\ttotal: 122ms\tremaining: 986ms\n",
      "110:\tlearn: 0.3298489\ttotal: 122ms\tremaining: 980ms\n",
      "111:\tlearn: 0.3268085\ttotal: 123ms\tremaining: 974ms\n",
      "112:\tlearn: 0.3238144\ttotal: 123ms\tremaining: 968ms\n",
      "113:\tlearn: 0.3207490\ttotal: 124ms\tremaining: 962ms\n",
      "114:\tlearn: 0.3177146\ttotal: 124ms\tremaining: 956ms\n",
      "115:\tlearn: 0.3152096\ttotal: 125ms\tremaining: 951ms\n",
      "116:\tlearn: 0.3125935\ttotal: 125ms\tremaining: 946ms\n",
      "117:\tlearn: 0.3104255\ttotal: 126ms\tremaining: 940ms\n",
      "118:\tlearn: 0.3072897\ttotal: 126ms\tremaining: 935ms\n",
      "119:\tlearn: 0.3048116\ttotal: 127ms\tremaining: 930ms\n",
      "120:\tlearn: 0.3025399\ttotal: 127ms\tremaining: 924ms\n",
      "121:\tlearn: 0.3004387\ttotal: 128ms\tremaining: 918ms\n",
      "122:\tlearn: 0.2982117\ttotal: 128ms\tremaining: 913ms\n",
      "123:\tlearn: 0.2951240\ttotal: 128ms\tremaining: 907ms\n",
      "124:\tlearn: 0.2923729\ttotal: 129ms\tremaining: 902ms\n",
      "125:\tlearn: 0.2897223\ttotal: 129ms\tremaining: 898ms\n",
      "126:\tlearn: 0.2875371\ttotal: 130ms\tremaining: 894ms\n",
      "127:\tlearn: 0.2847512\ttotal: 131ms\tremaining: 890ms\n",
      "128:\tlearn: 0.2825573\ttotal: 131ms\tremaining: 885ms\n",
      "129:\tlearn: 0.2802533\ttotal: 132ms\tremaining: 880ms\n",
      "130:\tlearn: 0.2780413\ttotal: 132ms\tremaining: 876ms\n",
      "131:\tlearn: 0.2755607\ttotal: 132ms\tremaining: 871ms\n",
      "132:\tlearn: 0.2732390\ttotal: 133ms\tremaining: 867ms\n",
      "133:\tlearn: 0.2711368\ttotal: 134ms\tremaining: 863ms\n",
      "134:\tlearn: 0.2690779\ttotal: 134ms\tremaining: 859ms\n",
      "135:\tlearn: 0.2669892\ttotal: 135ms\tremaining: 855ms\n",
      "136:\tlearn: 0.2646945\ttotal: 135ms\tremaining: 851ms\n",
      "137:\tlearn: 0.2625174\ttotal: 136ms\tremaining: 847ms\n",
      "138:\tlearn: 0.2600278\ttotal: 136ms\tremaining: 842ms\n",
      "139:\tlearn: 0.2584497\ttotal: 137ms\tremaining: 839ms\n",
      "140:\tlearn: 0.2563432\ttotal: 137ms\tremaining: 835ms\n",
      "141:\tlearn: 0.2539038\ttotal: 137ms\tremaining: 830ms\n",
      "142:\tlearn: 0.2521217\ttotal: 138ms\tremaining: 827ms\n",
      "143:\tlearn: 0.2501530\ttotal: 138ms\tremaining: 822ms\n",
      "144:\tlearn: 0.2483424\ttotal: 139ms\tremaining: 819ms\n",
      "145:\tlearn: 0.2466329\ttotal: 139ms\tremaining: 814ms\n",
      "146:\tlearn: 0.2447468\ttotal: 140ms\tremaining: 811ms\n",
      "147:\tlearn: 0.2427299\ttotal: 140ms\tremaining: 806ms\n",
      "148:\tlearn: 0.2407806\ttotal: 141ms\tremaining: 803ms\n",
      "149:\tlearn: 0.2388339\ttotal: 141ms\tremaining: 799ms\n",
      "150:\tlearn: 0.2368475\ttotal: 142ms\tremaining: 796ms\n",
      "151:\tlearn: 0.2350565\ttotal: 142ms\tremaining: 793ms\n",
      "152:\tlearn: 0.2329744\ttotal: 143ms\tremaining: 790ms\n",
      "153:\tlearn: 0.2310081\ttotal: 143ms\tremaining: 786ms\n",
      "154:\tlearn: 0.2289969\ttotal: 144ms\tremaining: 783ms\n",
      "155:\tlearn: 0.2271908\ttotal: 144ms\tremaining: 780ms\n",
      "156:\tlearn: 0.2253884\ttotal: 145ms\tremaining: 776ms\n",
      "157:\tlearn: 0.2233713\ttotal: 145ms\tremaining: 773ms\n",
      "158:\tlearn: 0.2215652\ttotal: 145ms\tremaining: 769ms\n",
      "159:\tlearn: 0.2197816\ttotal: 146ms\tremaining: 766ms\n",
      "160:\tlearn: 0.2179857\ttotal: 146ms\tremaining: 763ms\n",
      "161:\tlearn: 0.2166522\ttotal: 147ms\tremaining: 761ms\n",
      "162:\tlearn: 0.2147321\ttotal: 148ms\tremaining: 758ms\n",
      "163:\tlearn: 0.2133082\ttotal: 148ms\tremaining: 755ms\n",
      "164:\tlearn: 0.2115392\ttotal: 149ms\tremaining: 752ms\n",
      "165:\tlearn: 0.2102422\ttotal: 149ms\tremaining: 749ms\n",
      "166:\tlearn: 0.2086729\ttotal: 150ms\tremaining: 746ms\n",
      "167:\tlearn: 0.2071972\ttotal: 150ms\tremaining: 743ms\n",
      "168:\tlearn: 0.2054010\ttotal: 150ms\tremaining: 740ms\n",
      "169:\tlearn: 0.2039658\ttotal: 151ms\tremaining: 736ms\n",
      "170:\tlearn: 0.2022817\ttotal: 151ms\tremaining: 733ms\n",
      "171:\tlearn: 0.2008833\ttotal: 152ms\tremaining: 731ms\n",
      "172:\tlearn: 0.1994368\ttotal: 152ms\tremaining: 728ms\n",
      "173:\tlearn: 0.1973522\ttotal: 153ms\tremaining: 726ms\n",
      "174:\tlearn: 0.1955811\ttotal: 153ms\tremaining: 724ms\n",
      "175:\tlearn: 0.1943609\ttotal: 154ms\tremaining: 721ms\n",
      "176:\tlearn: 0.1929383\ttotal: 154ms\tremaining: 718ms\n",
      "177:\tlearn: 0.1912833\ttotal: 155ms\tremaining: 715ms\n",
      "178:\tlearn: 0.1898860\ttotal: 155ms\tremaining: 713ms\n",
      "179:\tlearn: 0.1885152\ttotal: 156ms\tremaining: 711ms\n",
      "180:\tlearn: 0.1867315\ttotal: 156ms\tremaining: 708ms\n",
      "181:\tlearn: 0.1854143\ttotal: 157ms\tremaining: 706ms\n",
      "182:\tlearn: 0.1839959\ttotal: 157ms\tremaining: 703ms\n",
      "183:\tlearn: 0.1824693\ttotal: 158ms\tremaining: 701ms\n",
      "184:\tlearn: 0.1810192\ttotal: 158ms\tremaining: 698ms\n",
      "185:\tlearn: 0.1797253\ttotal: 159ms\tremaining: 695ms\n",
      "186:\tlearn: 0.1784434\ttotal: 159ms\tremaining: 692ms\n",
      "187:\tlearn: 0.1767450\ttotal: 160ms\tremaining: 690ms\n",
      "188:\tlearn: 0.1754273\ttotal: 160ms\tremaining: 687ms\n",
      "189:\tlearn: 0.1740595\ttotal: 161ms\tremaining: 685ms\n",
      "190:\tlearn: 0.1726524\ttotal: 161ms\tremaining: 683ms\n",
      "191:\tlearn: 0.1713810\ttotal: 162ms\tremaining: 680ms\n",
      "192:\tlearn: 0.1699985\ttotal: 162ms\tremaining: 678ms\n",
      "193:\tlearn: 0.1687225\ttotal: 163ms\tremaining: 676ms\n",
      "194:\tlearn: 0.1673922\ttotal: 163ms\tremaining: 673ms\n",
      "195:\tlearn: 0.1662406\ttotal: 164ms\tremaining: 671ms\n",
      "196:\tlearn: 0.1649883\ttotal: 164ms\tremaining: 669ms\n",
      "197:\tlearn: 0.1635957\ttotal: 165ms\tremaining: 666ms\n",
      "198:\tlearn: 0.1623085\ttotal: 165ms\tremaining: 665ms\n",
      "199:\tlearn: 0.1612221\ttotal: 166ms\tremaining: 663ms\n",
      "200:\tlearn: 0.1600486\ttotal: 166ms\tremaining: 661ms\n",
      "201:\tlearn: 0.1588084\ttotal: 167ms\tremaining: 659ms\n",
      "202:\tlearn: 0.1574462\ttotal: 167ms\tremaining: 657ms\n",
      "203:\tlearn: 0.1561673\ttotal: 168ms\tremaining: 655ms\n",
      "204:\tlearn: 0.1550099\ttotal: 168ms\tremaining: 653ms\n",
      "205:\tlearn: 0.1538973\ttotal: 169ms\tremaining: 651ms\n",
      "206:\tlearn: 0.1526126\ttotal: 169ms\tremaining: 649ms\n",
      "207:\tlearn: 0.1511841\ttotal: 170ms\tremaining: 647ms\n",
      "208:\tlearn: 0.1498781\ttotal: 171ms\tremaining: 645ms\n",
      "209:\tlearn: 0.1486925\ttotal: 171ms\tremaining: 644ms\n",
      "210:\tlearn: 0.1475652\ttotal: 172ms\tremaining: 642ms\n",
      "211:\tlearn: 0.1466174\ttotal: 172ms\tremaining: 640ms\n",
      "212:\tlearn: 0.1453488\ttotal: 173ms\tremaining: 638ms\n",
      "213:\tlearn: 0.1441914\ttotal: 173ms\tremaining: 635ms\n",
      "214:\tlearn: 0.1432434\ttotal: 173ms\tremaining: 633ms\n",
      "215:\tlearn: 0.1422090\ttotal: 174ms\tremaining: 631ms\n",
      "216:\tlearn: 0.1411840\ttotal: 174ms\tremaining: 630ms\n",
      "217:\tlearn: 0.1401089\ttotal: 175ms\tremaining: 628ms\n",
      "218:\tlearn: 0.1388798\ttotal: 175ms\tremaining: 626ms\n",
      "219:\tlearn: 0.1378448\ttotal: 176ms\tremaining: 624ms\n",
      "220:\tlearn: 0.1367628\ttotal: 176ms\tremaining: 622ms\n",
      "221:\tlearn: 0.1356847\ttotal: 177ms\tremaining: 620ms\n",
      "222:\tlearn: 0.1346111\ttotal: 177ms\tremaining: 618ms\n",
      "223:\tlearn: 0.1336136\ttotal: 178ms\tremaining: 617ms\n",
      "224:\tlearn: 0.1325116\ttotal: 178ms\tremaining: 615ms\n",
      "225:\tlearn: 0.1317023\ttotal: 179ms\tremaining: 613ms\n",
      "226:\tlearn: 0.1306835\ttotal: 180ms\tremaining: 611ms\n",
      "227:\tlearn: 0.1298559\ttotal: 180ms\tremaining: 609ms\n",
      "228:\tlearn: 0.1290467\ttotal: 180ms\tremaining: 608ms\n",
      "229:\tlearn: 0.1280650\ttotal: 181ms\tremaining: 606ms\n",
      "230:\tlearn: 0.1272992\ttotal: 181ms\tremaining: 604ms\n",
      "231:\tlearn: 0.1261637\ttotal: 182ms\tremaining: 602ms\n",
      "232:\tlearn: 0.1253626\ttotal: 182ms\tremaining: 600ms\n",
      "233:\tlearn: 0.1243481\ttotal: 183ms\tremaining: 598ms\n",
      "234:\tlearn: 0.1233356\ttotal: 183ms\tremaining: 596ms\n",
      "235:\tlearn: 0.1224030\ttotal: 183ms\tremaining: 594ms\n",
      "236:\tlearn: 0.1214829\ttotal: 184ms\tremaining: 593ms\n",
      "237:\tlearn: 0.1206652\ttotal: 185ms\tremaining: 591ms\n",
      "238:\tlearn: 0.1198288\ttotal: 185ms\tremaining: 589ms\n",
      "239:\tlearn: 0.1187950\ttotal: 186ms\tremaining: 588ms\n",
      "240:\tlearn: 0.1177270\ttotal: 186ms\tremaining: 586ms\n",
      "241:\tlearn: 0.1168516\ttotal: 187ms\tremaining: 585ms\n"
     ]
    },
    {
     "name": "stdout",
     "output_type": "stream",
     "text": [
      "242:\tlearn: 0.1159576\ttotal: 187ms\tremaining: 583ms\n",
      "243:\tlearn: 0.1151490\ttotal: 188ms\tremaining: 582ms\n",
      "244:\tlearn: 0.1142174\ttotal: 188ms\tremaining: 581ms\n",
      "245:\tlearn: 0.1133244\ttotal: 189ms\tremaining: 579ms\n",
      "246:\tlearn: 0.1124786\ttotal: 190ms\tremaining: 578ms\n",
      "247:\tlearn: 0.1116657\ttotal: 190ms\tremaining: 576ms\n",
      "248:\tlearn: 0.1108138\ttotal: 190ms\tremaining: 574ms\n",
      "249:\tlearn: 0.1099186\ttotal: 191ms\tremaining: 573ms\n",
      "250:\tlearn: 0.1089928\ttotal: 192ms\tremaining: 572ms\n",
      "251:\tlearn: 0.1082214\ttotal: 192ms\tremaining: 570ms\n",
      "252:\tlearn: 0.1073614\ttotal: 192ms\tremaining: 568ms\n",
      "253:\tlearn: 0.1065276\ttotal: 193ms\tremaining: 566ms\n",
      "254:\tlearn: 0.1056940\ttotal: 193ms\tremaining: 565ms\n",
      "255:\tlearn: 0.1049225\ttotal: 194ms\tremaining: 564ms\n",
      "256:\tlearn: 0.1042312\ttotal: 194ms\tremaining: 562ms\n",
      "257:\tlearn: 0.1035749\ttotal: 195ms\tremaining: 560ms\n",
      "258:\tlearn: 0.1027419\ttotal: 195ms\tremaining: 558ms\n",
      "259:\tlearn: 0.1020292\ttotal: 196ms\tremaining: 557ms\n",
      "260:\tlearn: 0.1012215\ttotal: 196ms\tremaining: 555ms\n",
      "261:\tlearn: 0.1004331\ttotal: 197ms\tremaining: 554ms\n",
      "262:\tlearn: 0.0996544\ttotal: 197ms\tremaining: 553ms\n",
      "263:\tlearn: 0.0988703\ttotal: 198ms\tremaining: 551ms\n",
      "264:\tlearn: 0.0981923\ttotal: 198ms\tremaining: 550ms\n",
      "265:\tlearn: 0.0974116\ttotal: 199ms\tremaining: 548ms\n",
      "266:\tlearn: 0.0967560\ttotal: 199ms\tremaining: 547ms\n",
      "267:\tlearn: 0.0960871\ttotal: 200ms\tremaining: 546ms\n",
      "268:\tlearn: 0.0954517\ttotal: 200ms\tremaining: 544ms\n",
      "269:\tlearn: 0.0948651\ttotal: 201ms\tremaining: 543ms\n",
      "270:\tlearn: 0.0942249\ttotal: 201ms\tremaining: 542ms\n",
      "271:\tlearn: 0.0936188\ttotal: 202ms\tremaining: 540ms\n",
      "272:\tlearn: 0.0929899\ttotal: 202ms\tremaining: 539ms\n",
      "273:\tlearn: 0.0923023\ttotal: 203ms\tremaining: 538ms\n",
      "274:\tlearn: 0.0916615\ttotal: 203ms\tremaining: 536ms\n",
      "275:\tlearn: 0.0910532\ttotal: 204ms\tremaining: 535ms\n",
      "276:\tlearn: 0.0904714\ttotal: 204ms\tremaining: 533ms\n",
      "277:\tlearn: 0.0898695\ttotal: 205ms\tremaining: 532ms\n",
      "278:\tlearn: 0.0892159\ttotal: 205ms\tremaining: 531ms\n",
      "279:\tlearn: 0.0885654\ttotal: 206ms\tremaining: 530ms\n",
      "280:\tlearn: 0.0879766\ttotal: 207ms\tremaining: 528ms\n",
      "281:\tlearn: 0.0873769\ttotal: 207ms\tremaining: 528ms\n",
      "282:\tlearn: 0.0867986\ttotal: 208ms\tremaining: 526ms\n",
      "283:\tlearn: 0.0862229\ttotal: 208ms\tremaining: 525ms\n",
      "284:\tlearn: 0.0856604\ttotal: 209ms\tremaining: 524ms\n",
      "285:\tlearn: 0.0850907\ttotal: 209ms\tremaining: 522ms\n",
      "286:\tlearn: 0.0845891\ttotal: 210ms\tremaining: 521ms\n",
      "287:\tlearn: 0.0840426\ttotal: 210ms\tremaining: 520ms\n",
      "288:\tlearn: 0.0835185\ttotal: 211ms\tremaining: 518ms\n",
      "289:\tlearn: 0.0829926\ttotal: 211ms\tremaining: 517ms\n",
      "290:\tlearn: 0.0824501\ttotal: 212ms\tremaining: 516ms\n",
      "291:\tlearn: 0.0819109\ttotal: 212ms\tremaining: 515ms\n",
      "292:\tlearn: 0.0813938\ttotal: 213ms\tremaining: 514ms\n",
      "293:\tlearn: 0.0808205\ttotal: 214ms\tremaining: 513ms\n",
      "294:\tlearn: 0.0802775\ttotal: 214ms\tremaining: 512ms\n",
      "295:\tlearn: 0.0798139\ttotal: 215ms\tremaining: 510ms\n",
      "296:\tlearn: 0.0793353\ttotal: 215ms\tremaining: 509ms\n",
      "297:\tlearn: 0.0788273\ttotal: 216ms\tremaining: 508ms\n",
      "298:\tlearn: 0.0783290\ttotal: 216ms\tremaining: 507ms\n",
      "299:\tlearn: 0.0778685\ttotal: 217ms\tremaining: 506ms\n",
      "300:\tlearn: 0.0774015\ttotal: 217ms\tremaining: 505ms\n",
      "301:\tlearn: 0.0768993\ttotal: 218ms\tremaining: 503ms\n",
      "302:\tlearn: 0.0764117\ttotal: 218ms\tremaining: 502ms\n",
      "303:\tlearn: 0.0758380\ttotal: 219ms\tremaining: 501ms\n",
      "304:\tlearn: 0.0753885\ttotal: 219ms\tremaining: 500ms\n",
      "305:\tlearn: 0.0748666\ttotal: 220ms\tremaining: 498ms\n",
      "306:\tlearn: 0.0744330\ttotal: 220ms\tremaining: 497ms\n",
      "307:\tlearn: 0.0739764\ttotal: 221ms\tremaining: 496ms\n",
      "308:\tlearn: 0.0734945\ttotal: 221ms\tremaining: 495ms\n",
      "309:\tlearn: 0.0730495\ttotal: 222ms\tremaining: 493ms\n",
      "310:\tlearn: 0.0725428\ttotal: 222ms\tremaining: 492ms\n",
      "311:\tlearn: 0.0720758\ttotal: 223ms\tremaining: 491ms\n",
      "312:\tlearn: 0.0717268\ttotal: 223ms\tremaining: 490ms\n",
      "313:\tlearn: 0.0713496\ttotal: 224ms\tremaining: 489ms\n",
      "314:\tlearn: 0.0709147\ttotal: 224ms\tremaining: 488ms\n",
      "315:\tlearn: 0.0704611\ttotal: 225ms\tremaining: 486ms\n",
      "316:\tlearn: 0.0699731\ttotal: 225ms\tremaining: 485ms\n",
      "317:\tlearn: 0.0694524\ttotal: 226ms\tremaining: 484ms\n",
      "318:\tlearn: 0.0690549\ttotal: 226ms\tremaining: 483ms\n",
      "319:\tlearn: 0.0686760\ttotal: 227ms\tremaining: 482ms\n",
      "320:\tlearn: 0.0681735\ttotal: 227ms\tremaining: 480ms\n",
      "321:\tlearn: 0.0677774\ttotal: 228ms\tremaining: 479ms\n",
      "322:\tlearn: 0.0673841\ttotal: 228ms\tremaining: 478ms\n",
      "323:\tlearn: 0.0669643\ttotal: 229ms\tremaining: 477ms\n",
      "324:\tlearn: 0.0666189\ttotal: 229ms\tremaining: 476ms\n",
      "325:\tlearn: 0.0662109\ttotal: 230ms\tremaining: 475ms\n",
      "326:\tlearn: 0.0658413\ttotal: 230ms\tremaining: 474ms\n",
      "327:\tlearn: 0.0654900\ttotal: 231ms\tremaining: 473ms\n",
      "328:\tlearn: 0.0651219\ttotal: 231ms\tremaining: 471ms\n",
      "329:\tlearn: 0.0647267\ttotal: 232ms\tremaining: 470ms\n",
      "330:\tlearn: 0.0643496\ttotal: 232ms\tremaining: 469ms\n",
      "331:\tlearn: 0.0640072\ttotal: 233ms\tremaining: 468ms\n",
      "332:\tlearn: 0.0636305\ttotal: 233ms\tremaining: 467ms\n",
      "333:\tlearn: 0.0632987\ttotal: 234ms\tremaining: 466ms\n",
      "334:\tlearn: 0.0629530\ttotal: 234ms\tremaining: 465ms\n",
      "335:\tlearn: 0.0625689\ttotal: 235ms\tremaining: 464ms\n",
      "336:\tlearn: 0.0621592\ttotal: 235ms\tremaining: 463ms\n",
      "337:\tlearn: 0.0618291\ttotal: 236ms\tremaining: 462ms\n",
      "338:\tlearn: 0.0615171\ttotal: 236ms\tremaining: 461ms\n",
      "339:\tlearn: 0.0612173\ttotal: 237ms\tremaining: 460ms\n",
      "340:\tlearn: 0.0608716\ttotal: 237ms\tremaining: 458ms\n",
      "341:\tlearn: 0.0606066\ttotal: 238ms\tremaining: 457ms\n",
      "342:\tlearn: 0.0602905\ttotal: 238ms\tremaining: 456ms\n",
      "343:\tlearn: 0.0599332\ttotal: 239ms\tremaining: 455ms\n",
      "344:\tlearn: 0.0596412\ttotal: 239ms\tremaining: 454ms\n",
      "345:\tlearn: 0.0593194\ttotal: 240ms\tremaining: 453ms\n",
      "346:\tlearn: 0.0590618\ttotal: 240ms\tremaining: 452ms\n",
      "347:\tlearn: 0.0587626\ttotal: 241ms\tremaining: 451ms\n",
      "348:\tlearn: 0.0584850\ttotal: 241ms\tremaining: 450ms\n",
      "349:\tlearn: 0.0581444\ttotal: 242ms\tremaining: 449ms\n",
      "350:\tlearn: 0.0578114\ttotal: 242ms\tremaining: 448ms\n",
      "351:\tlearn: 0.0574418\ttotal: 243ms\tremaining: 447ms\n",
      "352:\tlearn: 0.0571429\ttotal: 243ms\tremaining: 446ms\n",
      "353:\tlearn: 0.0568151\ttotal: 244ms\tremaining: 445ms\n",
      "354:\tlearn: 0.0564232\ttotal: 244ms\tremaining: 444ms\n",
      "355:\tlearn: 0.0560909\ttotal: 245ms\tremaining: 443ms\n",
      "356:\tlearn: 0.0557093\ttotal: 245ms\tremaining: 442ms\n",
      "357:\tlearn: 0.0553869\ttotal: 246ms\tremaining: 441ms\n",
      "358:\tlearn: 0.0550507\ttotal: 246ms\tremaining: 440ms\n",
      "359:\tlearn: 0.0547433\ttotal: 247ms\tremaining: 439ms\n",
      "360:\tlearn: 0.0544138\ttotal: 247ms\tremaining: 438ms\n",
      "361:\tlearn: 0.0540894\ttotal: 248ms\tremaining: 437ms\n",
      "362:\tlearn: 0.0538269\ttotal: 248ms\tremaining: 436ms\n",
      "363:\tlearn: 0.0534729\ttotal: 249ms\tremaining: 435ms\n",
      "364:\tlearn: 0.0531770\ttotal: 249ms\tremaining: 434ms\n",
      "365:\tlearn: 0.0528939\ttotal: 250ms\tremaining: 433ms\n",
      "366:\tlearn: 0.0525876\ttotal: 250ms\tremaining: 431ms\n",
      "367:\tlearn: 0.0522846\ttotal: 251ms\tremaining: 431ms\n",
      "368:\tlearn: 0.0520190\ttotal: 251ms\tremaining: 430ms\n",
      "369:\tlearn: 0.0516897\ttotal: 252ms\tremaining: 429ms\n",
      "370:\tlearn: 0.0514186\ttotal: 252ms\tremaining: 428ms\n",
      "371:\tlearn: 0.0511280\ttotal: 253ms\tremaining: 426ms\n",
      "372:\tlearn: 0.0508891\ttotal: 253ms\tremaining: 425ms\n",
      "373:\tlearn: 0.0505720\ttotal: 253ms\tremaining: 424ms\n",
      "374:\tlearn: 0.0503104\ttotal: 254ms\tremaining: 423ms\n",
      "375:\tlearn: 0.0500466\ttotal: 254ms\tremaining: 422ms\n",
      "376:\tlearn: 0.0498178\ttotal: 255ms\tremaining: 421ms\n",
      "377:\tlearn: 0.0495871\ttotal: 256ms\tremaining: 421ms\n",
      "378:\tlearn: 0.0493669\ttotal: 256ms\tremaining: 419ms\n",
      "379:\tlearn: 0.0491043\ttotal: 257ms\tremaining: 419ms\n",
      "380:\tlearn: 0.0488826\ttotal: 257ms\tremaining: 418ms\n",
      "381:\tlearn: 0.0486040\ttotal: 258ms\tremaining: 417ms\n",
      "382:\tlearn: 0.0483878\ttotal: 258ms\tremaining: 416ms\n",
      "383:\tlearn: 0.0481283\ttotal: 259ms\tremaining: 415ms\n",
      "384:\tlearn: 0.0478188\ttotal: 259ms\tremaining: 414ms\n",
      "385:\tlearn: 0.0475181\ttotal: 259ms\tremaining: 413ms\n",
      "386:\tlearn: 0.0471949\ttotal: 260ms\tremaining: 412ms\n",
      "387:\tlearn: 0.0468802\ttotal: 261ms\tremaining: 411ms\n",
      "388:\tlearn: 0.0468019\ttotal: 261ms\tremaining: 410ms\n",
      "389:\tlearn: 0.0467248\ttotal: 262ms\tremaining: 409ms\n",
      "390:\tlearn: 0.0464781\ttotal: 262ms\tremaining: 408ms\n",
      "391:\tlearn: 0.0462251\ttotal: 263ms\tremaining: 407ms\n",
      "392:\tlearn: 0.0461508\ttotal: 263ms\tremaining: 406ms\n",
      "393:\tlearn: 0.0459143\ttotal: 264ms\tremaining: 405ms\n",
      "394:\tlearn: 0.0458421\ttotal: 264ms\tremaining: 404ms\n",
      "395:\tlearn: 0.0457710\ttotal: 264ms\tremaining: 403ms\n",
      "396:\tlearn: 0.0455448\ttotal: 265ms\tremaining: 402ms\n",
      "397:\tlearn: 0.0454755\ttotal: 265ms\tremaining: 401ms\n",
      "398:\tlearn: 0.0451912\ttotal: 266ms\tremaining: 401ms\n",
      "399:\tlearn: 0.0451237\ttotal: 267ms\tremaining: 400ms\n",
      "400:\tlearn: 0.0450573\ttotal: 267ms\tremaining: 399ms\n",
      "401:\tlearn: 0.0450007\ttotal: 268ms\tremaining: 398ms\n",
      "402:\tlearn: 0.0447316\ttotal: 268ms\tremaining: 397ms\n",
      "403:\tlearn: 0.0446675\ttotal: 269ms\tremaining: 396ms\n",
      "404:\tlearn: 0.0446125\ttotal: 269ms\tremaining: 395ms\n",
      "405:\tlearn: 0.0445501\ttotal: 270ms\tremaining: 394ms\n",
      "406:\tlearn: 0.0443352\ttotal: 270ms\tremaining: 393ms\n",
      "407:\tlearn: 0.0442819\ttotal: 271ms\tremaining: 393ms\n",
      "408:\tlearn: 0.0440730\ttotal: 271ms\tremaining: 392ms\n",
      "409:\tlearn: 0.0440209\ttotal: 272ms\tremaining: 391ms\n",
      "410:\tlearn: 0.0439694\ttotal: 272ms\tremaining: 390ms\n",
      "411:\tlearn: 0.0439185\ttotal: 273ms\tremaining: 389ms\n",
      "412:\tlearn: 0.0438682\ttotal: 273ms\tremaining: 388ms\n",
      "413:\tlearn: 0.0438185\ttotal: 274ms\tremaining: 387ms\n",
      "414:\tlearn: 0.0436126\ttotal: 274ms\tremaining: 386ms\n",
      "415:\tlearn: 0.0435639\ttotal: 275ms\tremaining: 386ms\n",
      "416:\tlearn: 0.0435157\ttotal: 275ms\tremaining: 385ms\n",
      "417:\tlearn: 0.0434681\ttotal: 276ms\tremaining: 384ms\n",
      "418:\tlearn: 0.0432182\ttotal: 276ms\tremaining: 383ms\n",
      "419:\tlearn: 0.0431714\ttotal: 277ms\tremaining: 382ms\n",
      "420:\tlearn: 0.0431252\ttotal: 277ms\tremaining: 381ms\n",
      "421:\tlearn: 0.0430795\ttotal: 278ms\tremaining: 380ms\n",
      "422:\tlearn: 0.0428331\ttotal: 278ms\tremaining: 379ms\n",
      "423:\tlearn: 0.0426073\ttotal: 278ms\tremaining: 378ms\n",
      "424:\tlearn: 0.0423555\ttotal: 279ms\tremaining: 378ms\n",
      "425:\tlearn: 0.0423109\ttotal: 280ms\tremaining: 377ms\n",
      "426:\tlearn: 0.0422669\ttotal: 280ms\tremaining: 376ms\n",
      "427:\tlearn: 0.0419785\ttotal: 281ms\tremaining: 375ms\n",
      "428:\tlearn: 0.0417338\ttotal: 281ms\tremaining: 374ms\n",
      "429:\tlearn: 0.0416904\ttotal: 281ms\tremaining: 373ms\n",
      "430:\tlearn: 0.0414502\ttotal: 282ms\tremaining: 372ms\n",
      "431:\tlearn: 0.0414073\ttotal: 283ms\tremaining: 372ms\n",
      "432:\tlearn: 0.0411305\ttotal: 283ms\tremaining: 371ms\n",
      "433:\tlearn: 0.0410882\ttotal: 283ms\tremaining: 370ms\n",
      "434:\tlearn: 0.0408347\ttotal: 284ms\tremaining: 369ms\n",
      "435:\tlearn: 0.0407928\ttotal: 284ms\tremaining: 368ms\n",
      "436:\tlearn: 0.0405241\ttotal: 285ms\tremaining: 367ms\n",
      "437:\tlearn: 0.0404827\ttotal: 285ms\tremaining: 366ms\n",
      "438:\tlearn: 0.0402236\ttotal: 286ms\tremaining: 365ms\n",
      "439:\tlearn: 0.0401827\ttotal: 286ms\tremaining: 364ms\n",
      "440:\tlearn: 0.0401310\ttotal: 287ms\tremaining: 364ms\n",
      "441:\tlearn: 0.0398727\ttotal: 287ms\tremaining: 363ms\n",
      "442:\tlearn: 0.0396201\ttotal: 288ms\tremaining: 362ms\n",
      "443:\tlearn: 0.0395799\ttotal: 288ms\tremaining: 361ms\n",
      "444:\tlearn: 0.0395402\ttotal: 288ms\tremaining: 360ms\n",
      "445:\tlearn: 0.0394899\ttotal: 289ms\tremaining: 359ms\n",
      "446:\tlearn: 0.0392420\ttotal: 289ms\tremaining: 358ms\n",
      "447:\tlearn: 0.0392029\ttotal: 290ms\tremaining: 357ms\n",
      "448:\tlearn: 0.0389541\ttotal: 290ms\tremaining: 356ms\n",
      "449:\tlearn: 0.0387187\ttotal: 291ms\tremaining: 356ms\n",
      "450:\tlearn: 0.0386290\ttotal: 291ms\tremaining: 355ms\n",
      "451:\tlearn: 0.0385583\ttotal: 292ms\tremaining: 354ms\n"
     ]
    },
    {
     "name": "stdout",
     "output_type": "stream",
     "text": [
      "452:\tlearn: 0.0385201\ttotal: 292ms\tremaining: 353ms\n",
      "453:\tlearn: 0.0382756\ttotal: 293ms\tremaining: 352ms\n",
      "454:\tlearn: 0.0382378\ttotal: 293ms\tremaining: 352ms\n",
      "455:\tlearn: 0.0380081\ttotal: 294ms\tremaining: 351ms\n",
      "456:\tlearn: 0.0379391\ttotal: 294ms\tremaining: 350ms\n",
      "457:\tlearn: 0.0378713\ttotal: 295ms\tremaining: 349ms\n",
      "458:\tlearn: 0.0376403\ttotal: 295ms\tremaining: 348ms\n",
      "459:\tlearn: 0.0376037\ttotal: 296ms\tremaining: 347ms\n",
      "460:\tlearn: 0.0375677\ttotal: 296ms\tremaining: 346ms\n",
      "461:\tlearn: 0.0373653\ttotal: 297ms\tremaining: 346ms\n",
      "462:\tlearn: 0.0373301\ttotal: 297ms\tremaining: 345ms\n",
      "463:\tlearn: 0.0371018\ttotal: 298ms\tremaining: 344ms\n",
      "464:\tlearn: 0.0370672\ttotal: 298ms\tremaining: 343ms\n",
      "465:\tlearn: 0.0370302\ttotal: 299ms\tremaining: 342ms\n",
      "466:\tlearn: 0.0369963\ttotal: 299ms\tremaining: 341ms\n",
      "467:\tlearn: 0.0367749\ttotal: 300ms\tremaining: 341ms\n",
      "468:\tlearn: 0.0367387\ttotal: 300ms\tremaining: 340ms\n",
      "469:\tlearn: 0.0367030\ttotal: 300ms\tremaining: 339ms\n",
      "470:\tlearn: 0.0364840\ttotal: 301ms\tremaining: 338ms\n",
      "471:\tlearn: 0.0364580\ttotal: 301ms\tremaining: 337ms\n",
      "472:\tlearn: 0.0364231\ttotal: 302ms\tremaining: 336ms\n",
      "473:\tlearn: 0.0362001\ttotal: 302ms\tremaining: 335ms\n",
      "474:\tlearn: 0.0360372\ttotal: 302ms\tremaining: 334ms\n",
      "475:\tlearn: 0.0360050\ttotal: 303ms\tremaining: 333ms\n",
      "476:\tlearn: 0.0359799\ttotal: 303ms\tremaining: 333ms\n",
      "477:\tlearn: 0.0357675\ttotal: 304ms\tremaining: 332ms\n",
      "478:\tlearn: 0.0357425\ttotal: 304ms\tremaining: 331ms\n",
      "479:\tlearn: 0.0357178\ttotal: 305ms\tremaining: 330ms\n",
      "480:\tlearn: 0.0355013\ttotal: 305ms\tremaining: 329ms\n",
      "481:\tlearn: 0.0354704\ttotal: 306ms\tremaining: 328ms\n",
      "482:\tlearn: 0.0352480\ttotal: 306ms\tremaining: 328ms\n",
      "483:\tlearn: 0.0351925\ttotal: 307ms\tremaining: 327ms\n",
      "484:\tlearn: 0.0351361\ttotal: 307ms\tremaining: 326ms\n",
      "485:\tlearn: 0.0350743\ttotal: 307ms\tremaining: 325ms\n",
      "486:\tlearn: 0.0349205\ttotal: 308ms\tremaining: 324ms\n",
      "487:\tlearn: 0.0347109\ttotal: 308ms\tremaining: 324ms\n",
      "488:\tlearn: 0.0346506\ttotal: 309ms\tremaining: 323ms\n",
      "489:\tlearn: 0.0345912\ttotal: 309ms\tremaining: 322ms\n",
      "490:\tlearn: 0.0345386\ttotal: 310ms\tremaining: 321ms\n",
      "491:\tlearn: 0.0344097\ttotal: 310ms\tremaining: 320ms\n",
      "492:\tlearn: 0.0343608\ttotal: 311ms\tremaining: 320ms\n",
      "493:\tlearn: 0.0343096\ttotal: 311ms\tremaining: 319ms\n",
      "494:\tlearn: 0.0342617\ttotal: 311ms\tremaining: 318ms\n",
      "495:\tlearn: 0.0341473\ttotal: 312ms\tremaining: 317ms\n",
      "496:\tlearn: 0.0339391\ttotal: 312ms\tremaining: 316ms\n",
      "497:\tlearn: 0.0338922\ttotal: 313ms\tremaining: 315ms\n",
      "498:\tlearn: 0.0338459\ttotal: 313ms\tremaining: 315ms\n",
      "499:\tlearn: 0.0336642\ttotal: 314ms\tremaining: 314ms\n",
      "500:\tlearn: 0.0336185\ttotal: 314ms\tremaining: 313ms\n",
      "501:\tlearn: 0.0335734\ttotal: 315ms\tremaining: 312ms\n",
      "502:\tlearn: 0.0335288\ttotal: 315ms\tremaining: 311ms\n",
      "503:\tlearn: 0.0334806\ttotal: 316ms\tremaining: 311ms\n",
      "504:\tlearn: 0.0333388\ttotal: 316ms\tremaining: 310ms\n",
      "505:\tlearn: 0.0332915\ttotal: 316ms\tremaining: 309ms\n",
      "506:\tlearn: 0.0330580\ttotal: 317ms\tremaining: 308ms\n",
      "507:\tlearn: 0.0329947\ttotal: 317ms\tremaining: 307ms\n",
      "508:\tlearn: 0.0329517\ttotal: 318ms\tremaining: 306ms\n",
      "509:\tlearn: 0.0328156\ttotal: 318ms\tremaining: 306ms\n",
      "510:\tlearn: 0.0327541\ttotal: 319ms\tremaining: 305ms\n",
      "511:\tlearn: 0.0326936\ttotal: 320ms\tremaining: 305ms\n",
      "512:\tlearn: 0.0325621\ttotal: 320ms\tremaining: 304ms\n",
      "513:\tlearn: 0.0325170\ttotal: 321ms\tremaining: 303ms\n",
      "514:\tlearn: 0.0324726\ttotal: 321ms\tremaining: 302ms\n",
      "515:\tlearn: 0.0322903\ttotal: 321ms\tremaining: 302ms\n",
      "516:\tlearn: 0.0322465\ttotal: 322ms\tremaining: 301ms\n",
      "517:\tlearn: 0.0320747\ttotal: 322ms\tremaining: 300ms\n",
      "518:\tlearn: 0.0320316\ttotal: 323ms\tremaining: 299ms\n",
      "519:\tlearn: 0.0319903\ttotal: 323ms\tremaining: 299ms\n",
      "520:\tlearn: 0.0319493\ttotal: 324ms\tremaining: 298ms\n",
      "521:\tlearn: 0.0318931\ttotal: 324ms\tremaining: 297ms\n",
      "522:\tlearn: 0.0317402\ttotal: 325ms\tremaining: 296ms\n",
      "523:\tlearn: 0.0316132\ttotal: 325ms\tremaining: 295ms\n",
      "524:\tlearn: 0.0315769\ttotal: 326ms\tremaining: 295ms\n",
      "525:\tlearn: 0.0314690\ttotal: 326ms\tremaining: 294ms\n",
      "526:\tlearn: 0.0314333\ttotal: 326ms\tremaining: 293ms\n",
      "527:\tlearn: 0.0313312\ttotal: 327ms\tremaining: 292ms\n",
      "528:\tlearn: 0.0312959\ttotal: 327ms\tremaining: 292ms\n",
      "529:\tlearn: 0.0312610\ttotal: 328ms\tremaining: 291ms\n",
      "530:\tlearn: 0.0311388\ttotal: 328ms\tremaining: 290ms\n",
      "531:\tlearn: 0.0310385\ttotal: 329ms\tremaining: 289ms\n",
      "532:\tlearn: 0.0309850\ttotal: 329ms\tremaining: 288ms\n",
      "533:\tlearn: 0.0308092\ttotal: 330ms\tremaining: 288ms\n",
      "534:\tlearn: 0.0307700\ttotal: 330ms\tremaining: 287ms\n",
      "535:\tlearn: 0.0307178\ttotal: 331ms\tremaining: 286ms\n",
      "536:\tlearn: 0.0306666\ttotal: 331ms\tremaining: 285ms\n",
      "537:\tlearn: 0.0304867\ttotal: 332ms\tremaining: 285ms\n",
      "538:\tlearn: 0.0303901\ttotal: 332ms\tremaining: 284ms\n",
      "539:\tlearn: 0.0303319\ttotal: 333ms\tremaining: 283ms\n",
      "540:\tlearn: 0.0301800\ttotal: 333ms\tremaining: 283ms\n",
      "541:\tlearn: 0.0301307\ttotal: 334ms\tremaining: 282ms\n",
      "542:\tlearn: 0.0300746\ttotal: 334ms\tremaining: 281ms\n",
      "543:\tlearn: 0.0299302\ttotal: 334ms\tremaining: 280ms\n",
      "544:\tlearn: 0.0297848\ttotal: 335ms\tremaining: 279ms\n",
      "545:\tlearn: 0.0297492\ttotal: 335ms\tremaining: 279ms\n",
      "546:\tlearn: 0.0297140\ttotal: 336ms\tremaining: 278ms\n",
      "547:\tlearn: 0.0295759\ttotal: 336ms\tremaining: 277ms\n",
      "548:\tlearn: 0.0295376\ttotal: 336ms\tremaining: 276ms\n",
      "549:\tlearn: 0.0293980\ttotal: 337ms\tremaining: 275ms\n",
      "550:\tlearn: 0.0292240\ttotal: 337ms\tremaining: 275ms\n",
      "551:\tlearn: 0.0291863\ttotal: 338ms\tremaining: 274ms\n",
      "552:\tlearn: 0.0291329\ttotal: 338ms\tremaining: 273ms\n",
      "553:\tlearn: 0.0289975\ttotal: 339ms\tremaining: 273ms\n",
      "554:\tlearn: 0.0288265\ttotal: 339ms\tremaining: 272ms\n",
      "555:\tlearn: 0.0287800\ttotal: 339ms\tremaining: 271ms\n",
      "556:\tlearn: 0.0286485\ttotal: 340ms\tremaining: 270ms\n",
      "557:\tlearn: 0.0285219\ttotal: 341ms\tremaining: 270ms\n",
      "558:\tlearn: 0.0284768\ttotal: 341ms\tremaining: 269ms\n",
      "559:\tlearn: 0.0283532\ttotal: 341ms\tremaining: 268ms\n",
      "560:\tlearn: 0.0281864\ttotal: 342ms\tremaining: 268ms\n",
      "561:\tlearn: 0.0281426\ttotal: 343ms\tremaining: 267ms\n",
      "562:\tlearn: 0.0280217\ttotal: 343ms\tremaining: 266ms\n",
      "563:\tlearn: 0.0279040\ttotal: 344ms\tremaining: 266ms\n",
      "564:\tlearn: 0.0277205\ttotal: 344ms\tremaining: 265ms\n",
      "565:\tlearn: 0.0275399\ttotal: 345ms\tremaining: 264ms\n",
      "566:\tlearn: 0.0274978\ttotal: 345ms\tremaining: 264ms\n",
      "567:\tlearn: 0.0274564\ttotal: 346ms\tremaining: 263ms\n",
      "568:\tlearn: 0.0274158\ttotal: 346ms\tremaining: 262ms\n",
      "569:\tlearn: 0.0272385\ttotal: 347ms\tremaining: 262ms\n",
      "570:\tlearn: 0.0271988\ttotal: 347ms\tremaining: 261ms\n",
      "571:\tlearn: 0.0271328\ttotal: 348ms\tremaining: 260ms\n",
      "572:\tlearn: 0.0270941\ttotal: 348ms\tremaining: 260ms\n",
      "573:\tlearn: 0.0269732\ttotal: 349ms\tremaining: 259ms\n",
      "574:\tlearn: 0.0269352\ttotal: 349ms\tremaining: 258ms\n",
      "575:\tlearn: 0.0268172\ttotal: 350ms\tremaining: 258ms\n",
      "576:\tlearn: 0.0267308\ttotal: 350ms\tremaining: 257ms\n",
      "577:\tlearn: 0.0266893\ttotal: 351ms\tremaining: 256ms\n",
      "578:\tlearn: 0.0266224\ttotal: 351ms\tremaining: 256ms\n",
      "579:\tlearn: 0.0264517\ttotal: 352ms\tremaining: 255ms\n",
      "580:\tlearn: 0.0264064\ttotal: 352ms\tremaining: 254ms\n",
      "581:\tlearn: 0.0262983\ttotal: 353ms\tremaining: 254ms\n",
      "582:\tlearn: 0.0262618\ttotal: 354ms\tremaining: 253ms\n",
      "583:\tlearn: 0.0261486\ttotal: 354ms\tremaining: 252ms\n",
      "584:\tlearn: 0.0260861\ttotal: 355ms\tremaining: 252ms\n",
      "585:\tlearn: 0.0260247\ttotal: 355ms\tremaining: 251ms\n",
      "586:\tlearn: 0.0259607\ttotal: 355ms\tremaining: 250ms\n",
      "587:\tlearn: 0.0257956\ttotal: 356ms\tremaining: 249ms\n",
      "588:\tlearn: 0.0257523\ttotal: 357ms\tremaining: 249ms\n",
      "589:\tlearn: 0.0256486\ttotal: 357ms\tremaining: 248ms\n",
      "590:\tlearn: 0.0255897\ttotal: 357ms\tremaining: 247ms\n",
      "591:\tlearn: 0.0255320\ttotal: 358ms\tremaining: 247ms\n",
      "592:\tlearn: 0.0254704\ttotal: 358ms\tremaining: 246ms\n",
      "593:\tlearn: 0.0253099\ttotal: 359ms\tremaining: 245ms\n",
      "594:\tlearn: 0.0252681\ttotal: 359ms\tremaining: 245ms\n",
      "595:\tlearn: 0.0252123\ttotal: 360ms\tremaining: 244ms\n",
      "596:\tlearn: 0.0250551\ttotal: 360ms\tremaining: 243ms\n",
      "597:\tlearn: 0.0249556\ttotal: 361ms\tremaining: 242ms\n",
      "598:\tlearn: 0.0249017\ttotal: 361ms\tremaining: 242ms\n",
      "599:\tlearn: 0.0248488\ttotal: 362ms\tremaining: 241ms\n",
      "600:\tlearn: 0.0246953\ttotal: 362ms\tremaining: 240ms\n",
      "601:\tlearn: 0.0245988\ttotal: 362ms\tremaining: 240ms\n",
      "602:\tlearn: 0.0245383\ttotal: 363ms\tremaining: 239ms\n",
      "603:\tlearn: 0.0244790\ttotal: 363ms\tremaining: 238ms\n",
      "604:\tlearn: 0.0243288\ttotal: 364ms\tremaining: 238ms\n",
      "605:\tlearn: 0.0242710\ttotal: 364ms\tremaining: 237ms\n",
      "606:\tlearn: 0.0241236\ttotal: 365ms\tremaining: 236ms\n",
      "607:\tlearn: 0.0241030\ttotal: 365ms\tremaining: 235ms\n",
      "608:\tlearn: 0.0240467\ttotal: 366ms\tremaining: 235ms\n",
      "609:\tlearn: 0.0239019\ttotal: 366ms\tremaining: 234ms\n",
      "610:\tlearn: 0.0238817\ttotal: 367ms\tremaining: 234ms\n",
      "611:\tlearn: 0.0238267\ttotal: 367ms\tremaining: 233ms\n",
      "612:\tlearn: 0.0236845\ttotal: 368ms\tremaining: 232ms\n",
      "613:\tlearn: 0.0236646\ttotal: 368ms\tremaining: 232ms\n",
      "614:\tlearn: 0.0235247\ttotal: 369ms\tremaining: 231ms\n",
      "615:\tlearn: 0.0235050\ttotal: 369ms\tremaining: 230ms\n",
      "616:\tlearn: 0.0234856\ttotal: 370ms\tremaining: 230ms\n"
     ]
    },
    {
     "name": "stdout",
     "output_type": "stream",
     "text": [
      "617:\tlearn: 0.0234535\ttotal: 370ms\tremaining: 229ms\n",
      "618:\tlearn: 0.0233245\ttotal: 371ms\tremaining: 228ms\n",
      "619:\tlearn: 0.0232929\ttotal: 372ms\tremaining: 228ms\n",
      "620:\tlearn: 0.0232618\ttotal: 372ms\tremaining: 227ms\n",
      "621:\tlearn: 0.0231261\ttotal: 372ms\tremaining: 226ms\n",
      "622:\tlearn: 0.0230368\ttotal: 373ms\tremaining: 226ms\n",
      "623:\tlearn: 0.0230065\ttotal: 373ms\tremaining: 225ms\n",
      "624:\tlearn: 0.0229505\ttotal: 374ms\tremaining: 224ms\n",
      "625:\tlearn: 0.0229209\ttotal: 374ms\tremaining: 224ms\n",
      "626:\tlearn: 0.0228661\ttotal: 375ms\tremaining: 223ms\n",
      "627:\tlearn: 0.0227411\ttotal: 375ms\tremaining: 222ms\n",
      "628:\tlearn: 0.0226181\ttotal: 376ms\tremaining: 222ms\n",
      "629:\tlearn: 0.0225998\ttotal: 376ms\tremaining: 221ms\n",
      "630:\tlearn: 0.0225463\ttotal: 376ms\tremaining: 220ms\n",
      "631:\tlearn: 0.0224231\ttotal: 377ms\tremaining: 219ms\n",
      "632:\tlearn: 0.0223708\ttotal: 377ms\tremaining: 219ms\n",
      "633:\tlearn: 0.0223528\ttotal: 378ms\tremaining: 218ms\n",
      "634:\tlearn: 0.0223015\ttotal: 378ms\tremaining: 218ms\n",
      "635:\tlearn: 0.0221848\ttotal: 379ms\tremaining: 217ms\n",
      "636:\tlearn: 0.0221345\ttotal: 379ms\tremaining: 216ms\n",
      "637:\tlearn: 0.0220046\ttotal: 380ms\tremaining: 215ms\n",
      "638:\tlearn: 0.0219872\ttotal: 380ms\tremaining: 215ms\n",
      "639:\tlearn: 0.0219380\ttotal: 381ms\tremaining: 214ms\n",
      "640:\tlearn: 0.0219209\ttotal: 381ms\tremaining: 213ms\n",
      "641:\tlearn: 0.0218227\ttotal: 381ms\tremaining: 213ms\n",
      "642:\tlearn: 0.0217017\ttotal: 382ms\tremaining: 212ms\n",
      "643:\tlearn: 0.0216848\ttotal: 382ms\tremaining: 211ms\n",
      "644:\tlearn: 0.0216372\ttotal: 383ms\tremaining: 211ms\n",
      "645:\tlearn: 0.0215209\ttotal: 383ms\tremaining: 210ms\n",
      "646:\tlearn: 0.0214714\ttotal: 384ms\tremaining: 209ms\n",
      "647:\tlearn: 0.0214227\ttotal: 384ms\tremaining: 209ms\n",
      "648:\tlearn: 0.0213546\ttotal: 384ms\tremaining: 208ms\n",
      "649:\tlearn: 0.0212939\ttotal: 385ms\tremaining: 207ms\n",
      "650:\tlearn: 0.0212464\ttotal: 385ms\tremaining: 207ms\n",
      "651:\tlearn: 0.0211877\ttotal: 386ms\tremaining: 206ms\n",
      "652:\tlearn: 0.0211306\ttotal: 386ms\tremaining: 205ms\n",
      "653:\tlearn: 0.0210843\ttotal: 387ms\tremaining: 205ms\n",
      "654:\tlearn: 0.0209992\ttotal: 387ms\tremaining: 204ms\n",
      "655:\tlearn: 0.0209442\ttotal: 388ms\tremaining: 203ms\n",
      "656:\tlearn: 0.0208953\ttotal: 388ms\tremaining: 203ms\n",
      "657:\tlearn: 0.0208402\ttotal: 389ms\tremaining: 202ms\n",
      "658:\tlearn: 0.0207918\ttotal: 389ms\tremaining: 201ms\n",
      "659:\tlearn: 0.0207703\ttotal: 390ms\tremaining: 201ms\n",
      "660:\tlearn: 0.0207224\ttotal: 390ms\tremaining: 200ms\n",
      "661:\tlearn: 0.0206826\ttotal: 391ms\tremaining: 200ms\n",
      "662:\tlearn: 0.0205985\ttotal: 391ms\tremaining: 199ms\n",
      "663:\tlearn: 0.0205467\ttotal: 392ms\tremaining: 198ms\n",
      "664:\tlearn: 0.0204995\ttotal: 392ms\tremaining: 198ms\n",
      "665:\tlearn: 0.0204835\ttotal: 393ms\tremaining: 197ms\n",
      "666:\tlearn: 0.0204062\ttotal: 394ms\tremaining: 197ms\n",
      "667:\tlearn: 0.0203594\ttotal: 394ms\tremaining: 196ms\n",
      "668:\tlearn: 0.0203076\ttotal: 394ms\tremaining: 195ms\n",
      "669:\tlearn: 0.0202612\ttotal: 395ms\tremaining: 195ms\n",
      "670:\tlearn: 0.0201812\ttotal: 395ms\tremaining: 194ms\n",
      "671:\tlearn: 0.0201323\ttotal: 396ms\tremaining: 193ms\n",
      "672:\tlearn: 0.0200866\ttotal: 397ms\tremaining: 193ms\n",
      "673:\tlearn: 0.0200414\ttotal: 397ms\tremaining: 192ms\n",
      "674:\tlearn: 0.0200258\ttotal: 398ms\tremaining: 191ms\n",
      "675:\tlearn: 0.0199514\ttotal: 398ms\tremaining: 191ms\n",
      "676:\tlearn: 0.0199066\ttotal: 398ms\tremaining: 190ms\n",
      "677:\tlearn: 0.0198576\ttotal: 399ms\tremaining: 189ms\n",
      "678:\tlearn: 0.0198133\ttotal: 399ms\tremaining: 189ms\n",
      "679:\tlearn: 0.0197406\ttotal: 400ms\tremaining: 188ms\n",
      "680:\tlearn: 0.0196968\ttotal: 400ms\tremaining: 188ms\n",
      "681:\tlearn: 0.0196503\ttotal: 401ms\tremaining: 187ms\n",
      "682:\tlearn: 0.0196069\ttotal: 401ms\tremaining: 186ms\n",
      "683:\tlearn: 0.0195824\ttotal: 402ms\tremaining: 186ms\n",
      "684:\tlearn: 0.0195396\ttotal: 402ms\tremaining: 185ms\n",
      "685:\tlearn: 0.0195243\ttotal: 403ms\tremaining: 184ms\n",
      "686:\tlearn: 0.0195003\ttotal: 403ms\tremaining: 184ms\n",
      "687:\tlearn: 0.0194582\ttotal: 404ms\tremaining: 183ms\n",
      "688:\tlearn: 0.0194431\ttotal: 404ms\tremaining: 182ms\n",
      "689:\tlearn: 0.0193866\ttotal: 404ms\tremaining: 182ms\n",
      "690:\tlearn: 0.0193490\ttotal: 405ms\tremaining: 181ms\n",
      "691:\tlearn: 0.0193076\ttotal: 405ms\tremaining: 180ms\n",
      "692:\tlearn: 0.0192027\ttotal: 406ms\tremaining: 180ms\n",
      "693:\tlearn: 0.0191575\ttotal: 406ms\tremaining: 179ms\n",
      "694:\tlearn: 0.0191166\ttotal: 407ms\tremaining: 178ms\n",
      "695:\tlearn: 0.0191018\ttotal: 407ms\tremaining: 178ms\n",
      "696:\tlearn: 0.0190565\ttotal: 408ms\tremaining: 177ms\n",
      "697:\tlearn: 0.0190159\ttotal: 408ms\tremaining: 177ms\n",
      "698:\tlearn: 0.0189713\ttotal: 409ms\tremaining: 176ms\n",
      "699:\tlearn: 0.0189312\ttotal: 409ms\tremaining: 175ms\n",
      "700:\tlearn: 0.0188873\ttotal: 410ms\tremaining: 175ms\n",
      "701:\tlearn: 0.0188477\ttotal: 410ms\tremaining: 174ms\n",
      "702:\tlearn: 0.0188045\ttotal: 411ms\tremaining: 173ms\n",
      "703:\tlearn: 0.0187246\ttotal: 411ms\tremaining: 173ms\n",
      "704:\tlearn: 0.0186819\ttotal: 412ms\tremaining: 172ms\n",
      "705:\tlearn: 0.0186399\ttotal: 412ms\tremaining: 172ms\n",
      "706:\tlearn: 0.0185617\ttotal: 413ms\tremaining: 171ms\n",
      "707:\tlearn: 0.0185202\ttotal: 414ms\tremaining: 171ms\n",
      "708:\tlearn: 0.0184811\ttotal: 414ms\tremaining: 170ms\n",
      "709:\tlearn: 0.0184049\ttotal: 415ms\tremaining: 169ms\n",
      "710:\tlearn: 0.0183675\ttotal: 415ms\tremaining: 169ms\n",
      "711:\tlearn: 0.0183268\ttotal: 416ms\tremaining: 168ms\n",
      "712:\tlearn: 0.0182891\ttotal: 416ms\tremaining: 168ms\n",
      "713:\tlearn: 0.0182520\ttotal: 417ms\tremaining: 167ms\n",
      "714:\tlearn: 0.0181782\ttotal: 417ms\tremaining: 166ms\n",
      "715:\tlearn: 0.0181323\ttotal: 418ms\tremaining: 166ms\n",
      "716:\tlearn: 0.0181058\ttotal: 418ms\tremaining: 165ms\n",
      "717:\tlearn: 0.0180339\ttotal: 419ms\tremaining: 164ms\n",
      "718:\tlearn: 0.0180198\ttotal: 419ms\tremaining: 164ms\n",
      "719:\tlearn: 0.0179845\ttotal: 420ms\tremaining: 163ms\n",
      "720:\tlearn: 0.0178800\ttotal: 420ms\tremaining: 163ms\n",
      "721:\tlearn: 0.0178454\ttotal: 421ms\tremaining: 162ms\n",
      "722:\tlearn: 0.0177925\ttotal: 421ms\tremaining: 161ms\n",
      "723:\tlearn: 0.0177588\ttotal: 422ms\tremaining: 161ms\n",
      "724:\tlearn: 0.0176733\ttotal: 422ms\tremaining: 160ms\n",
      "725:\tlearn: 0.0176215\ttotal: 423ms\tremaining: 160ms\n",
      "726:\tlearn: 0.0176075\ttotal: 423ms\tremaining: 159ms\n",
      "727:\tlearn: 0.0175564\ttotal: 424ms\tremaining: 158ms\n",
      "728:\tlearn: 0.0174727\ttotal: 424ms\tremaining: 158ms\n",
      "729:\tlearn: 0.0174169\ttotal: 425ms\tremaining: 157ms\n",
      "730:\tlearn: 0.0174031\ttotal: 426ms\tremaining: 157ms\n",
      "731:\tlearn: 0.0173681\ttotal: 426ms\tremaining: 156ms\n",
      "732:\tlearn: 0.0173303\ttotal: 426ms\tremaining: 155ms\n",
      "733:\tlearn: 0.0172930\ttotal: 427ms\tremaining: 155ms\n",
      "734:\tlearn: 0.0172562\ttotal: 428ms\tremaining: 154ms\n",
      "735:\tlearn: 0.0172018\ttotal: 428ms\tremaining: 154ms\n",
      "736:\tlearn: 0.0171459\ttotal: 429ms\tremaining: 153ms\n",
      "737:\tlearn: 0.0171104\ttotal: 429ms\tremaining: 152ms\n",
      "738:\tlearn: 0.0170555\ttotal: 430ms\tremaining: 152ms\n",
      "739:\tlearn: 0.0170422\ttotal: 430ms\tremaining: 151ms\n",
      "740:\tlearn: 0.0169896\ttotal: 431ms\tremaining: 151ms\n",
      "741:\tlearn: 0.0169356\ttotal: 431ms\tremaining: 150ms\n",
      "742:\tlearn: 0.0168460\ttotal: 432ms\tremaining: 149ms\n",
      "743:\tlearn: 0.0168329\ttotal: 432ms\tremaining: 149ms\n",
      "744:\tlearn: 0.0167818\ttotal: 433ms\tremaining: 148ms\n",
      "745:\tlearn: 0.0166939\ttotal: 433ms\tremaining: 147ms\n",
      "746:\tlearn: 0.0166771\ttotal: 434ms\tremaining: 147ms\n",
      "747:\tlearn: 0.0166437\ttotal: 434ms\tremaining: 146ms\n",
      "748:\tlearn: 0.0166203\ttotal: 435ms\tremaining: 146ms\n",
      "749:\tlearn: 0.0165340\ttotal: 435ms\tremaining: 145ms\n",
      "750:\tlearn: 0.0165111\ttotal: 436ms\tremaining: 144ms\n",
      "751:\tlearn: 0.0164573\ttotal: 436ms\tremaining: 144ms\n",
      "752:\tlearn: 0.0164411\ttotal: 437ms\tremaining: 143ms\n",
      "753:\tlearn: 0.0164188\ttotal: 437ms\tremaining: 143ms\n",
      "754:\tlearn: 0.0163657\ttotal: 437ms\tremaining: 142ms\n",
      "755:\tlearn: 0.0162814\ttotal: 438ms\tremaining: 141ms\n",
      "756:\tlearn: 0.0162596\ttotal: 438ms\tremaining: 141ms\n",
      "757:\tlearn: 0.0162439\ttotal: 439ms\tremaining: 140ms\n",
      "758:\tlearn: 0.0162226\ttotal: 440ms\tremaining: 140ms\n",
      "759:\tlearn: 0.0161706\ttotal: 440ms\tremaining: 139ms\n",
      "760:\tlearn: 0.0160879\ttotal: 440ms\tremaining: 138ms\n",
      "761:\tlearn: 0.0160671\ttotal: 441ms\tremaining: 138ms\n",
      "762:\tlearn: 0.0160252\ttotal: 441ms\tremaining: 137ms\n",
      "763:\tlearn: 0.0159838\ttotal: 442ms\tremaining: 137ms\n",
      "764:\tlearn: 0.0159635\ttotal: 443ms\tremaining: 136ms\n",
      "765:\tlearn: 0.0159146\ttotal: 443ms\tremaining: 135ms\n",
      "766:\tlearn: 0.0158948\ttotal: 444ms\tremaining: 135ms\n",
      "767:\tlearn: 0.0158142\ttotal: 444ms\tremaining: 134ms\n",
      "768:\tlearn: 0.0157739\ttotal: 444ms\tremaining: 134ms\n",
      "769:\tlearn: 0.0157341\ttotal: 445ms\tremaining: 133ms\n",
      "770:\tlearn: 0.0157147\ttotal: 445ms\tremaining: 132ms\n",
      "771:\tlearn: 0.0156786\ttotal: 446ms\tremaining: 132ms\n",
      "772:\tlearn: 0.0156596\ttotal: 446ms\tremaining: 131ms\n",
      "773:\tlearn: 0.0156044\ttotal: 447ms\tremaining: 130ms\n",
      "774:\tlearn: 0.0155857\ttotal: 447ms\tremaining: 130ms\n",
      "775:\tlearn: 0.0155111\ttotal: 448ms\tremaining: 129ms\n",
      "776:\tlearn: 0.0154758\ttotal: 448ms\tremaining: 129ms\n",
      "777:\tlearn: 0.0154410\ttotal: 449ms\tremaining: 128ms\n",
      "778:\tlearn: 0.0154227\ttotal: 449ms\tremaining: 127ms\n",
      "779:\tlearn: 0.0153883\ttotal: 450ms\tremaining: 127ms\n",
      "780:\tlearn: 0.0153490\ttotal: 450ms\tremaining: 126ms\n",
      "781:\tlearn: 0.0153308\ttotal: 451ms\tremaining: 126ms\n",
      "782:\tlearn: 0.0152774\ttotal: 451ms\tremaining: 125ms\n",
      "783:\tlearn: 0.0152494\ttotal: 452ms\tremaining: 124ms\n",
      "784:\tlearn: 0.0152046\ttotal: 452ms\tremaining: 124ms\n",
      "785:\tlearn: 0.0151772\ttotal: 452ms\tremaining: 123ms\n",
      "786:\tlearn: 0.0151288\ttotal: 453ms\tremaining: 123ms\n",
      "787:\tlearn: 0.0150523\ttotal: 453ms\tremaining: 122ms\n",
      "788:\tlearn: 0.0150269\ttotal: 454ms\tremaining: 121ms\n",
      "789:\tlearn: 0.0149938\ttotal: 454ms\tremaining: 121ms\n",
      "790:\tlearn: 0.0149611\ttotal: 455ms\tremaining: 120ms\n",
      "791:\tlearn: 0.0149364\ttotal: 455ms\tremaining: 120ms\n",
      "792:\tlearn: 0.0148695\ttotal: 456ms\tremaining: 119ms\n",
      "793:\tlearn: 0.0148568\ttotal: 456ms\tremaining: 118ms\n",
      "794:\tlearn: 0.0147911\ttotal: 457ms\tremaining: 118ms\n",
      "795:\tlearn: 0.0147744\ttotal: 457ms\tremaining: 117ms\n",
      "796:\tlearn: 0.0147573\ttotal: 458ms\tremaining: 117ms\n",
      "797:\tlearn: 0.0147131\ttotal: 458ms\tremaining: 116ms\n",
      "798:\tlearn: 0.0146962\ttotal: 459ms\tremaining: 115ms\n",
      "799:\tlearn: 0.0146537\ttotal: 459ms\tremaining: 115ms\n",
      "800:\tlearn: 0.0145895\ttotal: 460ms\tremaining: 114ms\n",
      "801:\tlearn: 0.0145660\ttotal: 460ms\tremaining: 114ms\n",
      "802:\tlearn: 0.0145495\ttotal: 461ms\tremaining: 113ms\n",
      "803:\tlearn: 0.0144864\ttotal: 461ms\tremaining: 112ms\n",
      "804:\tlearn: 0.0144635\ttotal: 461ms\tremaining: 112ms\n",
      "805:\tlearn: 0.0144474\ttotal: 462ms\tremaining: 111ms\n",
      "806:\tlearn: 0.0144250\ttotal: 462ms\tremaining: 111ms\n",
      "807:\tlearn: 0.0143630\ttotal: 463ms\tremaining: 110ms\n",
      "808:\tlearn: 0.0143374\ttotal: 463ms\tremaining: 109ms\n",
      "809:\tlearn: 0.0143216\ttotal: 463ms\tremaining: 109ms\n",
      "810:\tlearn: 0.0142608\ttotal: 464ms\tremaining: 108ms\n",
      "811:\tlearn: 0.0142360\ttotal: 464ms\tremaining: 108ms\n",
      "812:\tlearn: 0.0142118\ttotal: 465ms\tremaining: 107ms\n",
      "813:\tlearn: 0.0141525\ttotal: 465ms\tremaining: 106ms\n",
      "814:\tlearn: 0.0141310\ttotal: 466ms\tremaining: 106ms\n",
      "815:\tlearn: 0.0140644\ttotal: 466ms\tremaining: 105ms\n",
      "816:\tlearn: 0.0140231\ttotal: 467ms\tremaining: 105ms\n",
      "817:\tlearn: 0.0140075\ttotal: 467ms\tremaining: 104ms\n",
      "818:\tlearn: 0.0139422\ttotal: 468ms\tremaining: 103ms\n",
      "819:\tlearn: 0.0139211\ttotal: 468ms\tremaining: 103ms\n",
      "820:\tlearn: 0.0138914\ttotal: 469ms\tremaining: 102ms\n",
      "821:\tlearn: 0.0138511\ttotal: 469ms\tremaining: 102ms\n",
      "822:\tlearn: 0.0137870\ttotal: 469ms\tremaining: 101ms\n",
      "823:\tlearn: 0.0137580\ttotal: 470ms\tremaining: 100ms\n",
      "824:\tlearn: 0.0137103\ttotal: 470ms\tremaining: 99.8ms\n",
      "825:\tlearn: 0.0136712\ttotal: 471ms\tremaining: 99.2ms\n",
      "826:\tlearn: 0.0136213\ttotal: 471ms\tremaining: 98.6ms\n",
      "827:\tlearn: 0.0135746\ttotal: 472ms\tremaining: 98ms\n",
      "828:\tlearn: 0.0135257\ttotal: 472ms\tremaining: 97.4ms\n",
      "829:\tlearn: 0.0134798\ttotal: 473ms\tremaining: 96.8ms\n",
      "830:\tlearn: 0.0134520\ttotal: 473ms\tremaining: 96.3ms\n",
      "831:\tlearn: 0.0134069\ttotal: 474ms\tremaining: 95.7ms\n",
      "832:\tlearn: 0.0133624\ttotal: 474ms\tremaining: 95.1ms\n",
      "833:\tlearn: 0.0133254\ttotal: 475ms\tremaining: 94.5ms\n",
      "834:\tlearn: 0.0132799\ttotal: 475ms\tremaining: 93.9ms\n"
     ]
    },
    {
     "name": "stdout",
     "output_type": "stream",
     "text": [
      "835:\tlearn: 0.0132339\ttotal: 476ms\tremaining: 93.3ms\n",
      "836:\tlearn: 0.0131899\ttotal: 476ms\tremaining: 92.8ms\n",
      "837:\tlearn: 0.0131447\ttotal: 477ms\tremaining: 92.2ms\n",
      "838:\tlearn: 0.0131013\ttotal: 477ms\tremaining: 91.6ms\n",
      "839:\tlearn: 0.0130586\ttotal: 478ms\tremaining: 91ms\n",
      "840:\tlearn: 0.0130144\ttotal: 478ms\tremaining: 90.5ms\n",
      "841:\tlearn: 0.0129723\ttotal: 479ms\tremaining: 89.9ms\n",
      "842:\tlearn: 0.0129286\ttotal: 480ms\tremaining: 89.3ms\n",
      "843:\tlearn: 0.0128976\ttotal: 480ms\tremaining: 88.7ms\n",
      "844:\tlearn: 0.0128559\ttotal: 481ms\tremaining: 88.2ms\n",
      "845:\tlearn: 0.0128148\ttotal: 481ms\tremaining: 87.6ms\n",
      "846:\tlearn: 0.0127844\ttotal: 482ms\tremaining: 87ms\n",
      "847:\tlearn: 0.0127437\ttotal: 482ms\tremaining: 86.4ms\n",
      "848:\tlearn: 0.0127036\ttotal: 484ms\tremaining: 86ms\n",
      "849:\tlearn: 0.0126613\ttotal: 484ms\tremaining: 85.4ms\n",
      "850:\tlearn: 0.0126218\ttotal: 485ms\tremaining: 84.8ms\n",
      "851:\tlearn: 0.0125792\ttotal: 485ms\tremaining: 84.3ms\n",
      "852:\tlearn: 0.0125494\ttotal: 486ms\tremaining: 83.7ms\n",
      "853:\tlearn: 0.0125103\ttotal: 486ms\tremaining: 83.1ms\n",
      "854:\tlearn: 0.0124717\ttotal: 487ms\tremaining: 82.5ms\n",
      "855:\tlearn: 0.0124336\ttotal: 487ms\tremaining: 81.9ms\n",
      "856:\tlearn: 0.0124041\ttotal: 488ms\tremaining: 81.4ms\n",
      "857:\tlearn: 0.0123664\ttotal: 488ms\tremaining: 80.8ms\n",
      "858:\tlearn: 0.0123292\ttotal: 489ms\tremaining: 80.2ms\n",
      "859:\tlearn: 0.0122876\ttotal: 489ms\tremaining: 79.6ms\n",
      "860:\tlearn: 0.0122586\ttotal: 490ms\tremaining: 79.1ms\n",
      "861:\tlearn: 0.0122218\ttotal: 490ms\tremaining: 78.5ms\n",
      "862:\tlearn: 0.0121850\ttotal: 491ms\tremaining: 77.9ms\n",
      "863:\tlearn: 0.0121565\ttotal: 491ms\tremaining: 77.3ms\n",
      "864:\tlearn: 0.0121200\ttotal: 492ms\tremaining: 76.8ms\n",
      "865:\tlearn: 0.0120841\ttotal: 492ms\tremaining: 76.2ms\n",
      "866:\tlearn: 0.0120559\ttotal: 493ms\tremaining: 75.6ms\n",
      "867:\tlearn: 0.0120208\ttotal: 493ms\tremaining: 75ms\n",
      "868:\tlearn: 0.0119802\ttotal: 494ms\tremaining: 74.5ms\n",
      "869:\tlearn: 0.0119605\ttotal: 494ms\tremaining: 73.9ms\n",
      "870:\tlearn: 0.0119258\ttotal: 495ms\tremaining: 73.3ms\n",
      "871:\tlearn: 0.0119065\ttotal: 496ms\tremaining: 72.7ms\n",
      "872:\tlearn: 0.0118667\ttotal: 496ms\tremaining: 72.1ms\n",
      "873:\tlearn: 0.0118392\ttotal: 496ms\tremaining: 71.6ms\n",
      "874:\tlearn: 0.0118049\ttotal: 497ms\tremaining: 71ms\n",
      "875:\tlearn: 0.0117860\ttotal: 497ms\tremaining: 70.4ms\n",
      "876:\tlearn: 0.0117470\ttotal: 498ms\tremaining: 69.8ms\n",
      "877:\tlearn: 0.0117305\ttotal: 498ms\tremaining: 69.2ms\n",
      "878:\tlearn: 0.0117038\ttotal: 499ms\tremaining: 68.6ms\n",
      "879:\tlearn: 0.0116699\ttotal: 499ms\tremaining: 68.1ms\n",
      "880:\tlearn: 0.0116365\ttotal: 500ms\tremaining: 67.5ms\n",
      "881:\tlearn: 0.0116181\ttotal: 500ms\tremaining: 66.9ms\n",
      "882:\tlearn: 0.0115798\ttotal: 501ms\tremaining: 66.3ms\n",
      "883:\tlearn: 0.0115637\ttotal: 501ms\tremaining: 65.8ms\n",
      "884:\tlearn: 0.0115456\ttotal: 502ms\tremaining: 65.2ms\n",
      "885:\tlearn: 0.0115159\ttotal: 502ms\tremaining: 64.6ms\n",
      "886:\tlearn: 0.0114899\ttotal: 503ms\tremaining: 64ms\n",
      "887:\tlearn: 0.0114570\ttotal: 503ms\tremaining: 63.4ms\n",
      "888:\tlearn: 0.0114241\ttotal: 503ms\tremaining: 62.9ms\n",
      "889:\tlearn: 0.0114063\ttotal: 504ms\tremaining: 62.3ms\n",
      "890:\tlearn: 0.0113683\ttotal: 504ms\tremaining: 61.7ms\n",
      "891:\tlearn: 0.0113535\ttotal: 505ms\tremaining: 61.1ms\n",
      "892:\tlearn: 0.0113214\ttotal: 505ms\tremaining: 60.6ms\n",
      "893:\tlearn: 0.0112959\ttotal: 506ms\tremaining: 60ms\n",
      "894:\tlearn: 0.0112638\ttotal: 507ms\tremaining: 59.4ms\n",
      "895:\tlearn: 0.0112265\ttotal: 507ms\tremaining: 58.9ms\n",
      "896:\tlearn: 0.0112121\ttotal: 508ms\tremaining: 58.3ms\n",
      "897:\tlearn: 0.0111806\ttotal: 508ms\tremaining: 57.7ms\n",
      "898:\tlearn: 0.0111399\ttotal: 509ms\tremaining: 57.2ms\n",
      "899:\tlearn: 0.0111088\ttotal: 509ms\tremaining: 56.6ms\n",
      "900:\tlearn: 0.0110937\ttotal: 510ms\tremaining: 56ms\n",
      "901:\tlearn: 0.0110580\ttotal: 510ms\tremaining: 55.4ms\n",
      "902:\tlearn: 0.0110440\ttotal: 511ms\tremaining: 54.8ms\n",
      "903:\tlearn: 0.0110133\ttotal: 511ms\tremaining: 54.3ms\n",
      "904:\tlearn: 0.0109886\ttotal: 512ms\tremaining: 53.7ms\n",
      "905:\tlearn: 0.0109583\ttotal: 512ms\tremaining: 53.1ms\n",
      "906:\tlearn: 0.0109283\ttotal: 513ms\tremaining: 52.6ms\n",
      "907:\tlearn: 0.0109145\ttotal: 513ms\tremaining: 52ms\n",
      "908:\tlearn: 0.0108844\ttotal: 514ms\tremaining: 51.4ms\n",
      "909:\tlearn: 0.0108488\ttotal: 514ms\tremaining: 50.8ms\n",
      "910:\tlearn: 0.0108352\ttotal: 515ms\tremaining: 50.3ms\n",
      "911:\tlearn: 0.0108058\ttotal: 515ms\tremaining: 49.7ms\n",
      "912:\tlearn: 0.0107817\ttotal: 516ms\tremaining: 49.1ms\n",
      "913:\tlearn: 0.0107526\ttotal: 516ms\tremaining: 48.6ms\n",
      "914:\tlearn: 0.0107177\ttotal: 517ms\tremaining: 48ms\n",
      "915:\tlearn: 0.0107043\ttotal: 517ms\tremaining: 47.4ms\n",
      "916:\tlearn: 0.0106681\ttotal: 518ms\tremaining: 46.9ms\n",
      "917:\tlearn: 0.0106181\ttotal: 518ms\tremaining: 46.3ms\n",
      "918:\tlearn: 0.0105893\ttotal: 519ms\tremaining: 45.7ms\n",
      "919:\tlearn: 0.0105659\ttotal: 519ms\tremaining: 45.1ms\n",
      "920:\tlearn: 0.0105377\ttotal: 520ms\tremaining: 44.6ms\n",
      "921:\tlearn: 0.0105038\ttotal: 520ms\tremaining: 44ms\n",
      "922:\tlearn: 0.0104908\ttotal: 521ms\tremaining: 43.4ms\n",
      "923:\tlearn: 0.0104629\ttotal: 521ms\tremaining: 42.9ms\n",
      "924:\tlearn: 0.0104146\ttotal: 522ms\tremaining: 42.3ms\n",
      "925:\tlearn: 0.0103867\ttotal: 522ms\tremaining: 41.7ms\n",
      "926:\tlearn: 0.0103592\ttotal: 522ms\tremaining: 41.1ms\n",
      "927:\tlearn: 0.0103077\ttotal: 523ms\tremaining: 40.6ms\n",
      "928:\tlearn: 0.0102621\ttotal: 524ms\tremaining: 40ms\n",
      "929:\tlearn: 0.0102393\ttotal: 524ms\tremaining: 39.4ms\n",
      "930:\tlearn: 0.0102125\ttotal: 524ms\tremaining: 38.9ms\n",
      "931:\tlearn: 0.0101860\ttotal: 525ms\tremaining: 38.3ms\n",
      "932:\tlearn: 0.0101635\ttotal: 526ms\tremaining: 37.7ms\n",
      "933:\tlearn: 0.0101307\ttotal: 526ms\tremaining: 37.2ms\n",
      "934:\tlearn: 0.0101172\ttotal: 527ms\tremaining: 36.6ms\n",
      "935:\tlearn: 0.0100680\ttotal: 527ms\tremaining: 36ms\n",
      "936:\tlearn: 0.0100247\ttotal: 528ms\tremaining: 35.5ms\n",
      "937:\tlearn: 0.0099882\ttotal: 528ms\tremaining: 34.9ms\n",
      "938:\tlearn: 0.0099457\ttotal: 529ms\tremaining: 34.4ms\n",
      "939:\tlearn: 0.0099098\ttotal: 529ms\tremaining: 33.8ms\n",
      "940:\tlearn: 0.0098680\ttotal: 530ms\tremaining: 33.2ms\n",
      "941:\tlearn: 0.0098329\ttotal: 530ms\tremaining: 32.7ms\n",
      "942:\tlearn: 0.0098207\ttotal: 531ms\tremaining: 32.1ms\n",
      "943:\tlearn: 0.0097863\ttotal: 531ms\tremaining: 31.5ms\n",
      "944:\tlearn: 0.0097539\ttotal: 532ms\tremaining: 30.9ms\n",
      "945:\tlearn: 0.0097235\ttotal: 532ms\tremaining: 30.4ms\n",
      "946:\tlearn: 0.0097117\ttotal: 533ms\tremaining: 29.8ms\n",
      "947:\tlearn: 0.0096819\ttotal: 533ms\tremaining: 29.2ms\n",
      "948:\tlearn: 0.0096370\ttotal: 534ms\tremaining: 28.7ms\n",
      "949:\tlearn: 0.0095931\ttotal: 534ms\tremaining: 28.1ms\n",
      "950:\tlearn: 0.0095615\ttotal: 535ms\tremaining: 27.5ms\n",
      "951:\tlearn: 0.0095509\ttotal: 535ms\tremaining: 27ms\n",
      "952:\tlearn: 0.0095221\ttotal: 536ms\tremaining: 26.4ms\n"
     ]
    },
    {
     "name": "stdout",
     "output_type": "stream",
     "text": [
      "953:\tlearn: 0.0094866\ttotal: 537ms\tremaining: 25.9ms\n",
      "954:\tlearn: 0.0094763\ttotal: 538ms\tremaining: 25.3ms\n",
      "955:\tlearn: 0.0094661\ttotal: 538ms\tremaining: 24.8ms\n",
      "956:\tlearn: 0.0094372\ttotal: 539ms\tremaining: 24.2ms\n",
      "957:\tlearn: 0.0094272\ttotal: 539ms\tremaining: 23.6ms\n",
      "958:\tlearn: 0.0094173\ttotal: 540ms\tremaining: 23.1ms\n",
      "959:\tlearn: 0.0093890\ttotal: 540ms\tremaining: 22.5ms\n",
      "960:\tlearn: 0.0093793\ttotal: 540ms\tremaining: 21.9ms\n",
      "961:\tlearn: 0.0093446\ttotal: 541ms\tremaining: 21.4ms\n",
      "962:\tlearn: 0.0093350\ttotal: 541ms\tremaining: 20.8ms\n",
      "963:\tlearn: 0.0093272\ttotal: 542ms\tremaining: 20.2ms\n",
      "964:\tlearn: 0.0092974\ttotal: 542ms\tremaining: 19.7ms\n",
      "965:\tlearn: 0.0092898\ttotal: 543ms\tremaining: 19.1ms\n",
      "966:\tlearn: 0.0092822\ttotal: 544ms\tremaining: 18.6ms\n",
      "967:\tlearn: 0.0092530\ttotal: 545ms\tremaining: 18ms\n",
      "968:\tlearn: 0.0092196\ttotal: 545ms\tremaining: 17.4ms\n",
      "969:\tlearn: 0.0092121\ttotal: 545ms\tremaining: 16.9ms\n",
      "970:\tlearn: 0.0092032\ttotal: 546ms\tremaining: 16.3ms\n",
      "971:\tlearn: 0.0091704\ttotal: 546ms\tremaining: 15.7ms\n",
      "972:\tlearn: 0.0091558\ttotal: 547ms\tremaining: 15.2ms\n",
      "973:\tlearn: 0.0091455\ttotal: 547ms\tremaining: 14.6ms\n",
      "974:\tlearn: 0.0091396\ttotal: 548ms\tremaining: 14ms\n",
      "975:\tlearn: 0.0091310\ttotal: 548ms\tremaining: 13.5ms\n",
      "976:\tlearn: 0.0091030\ttotal: 549ms\tremaining: 12.9ms\n",
      "977:\tlearn: 0.0090712\ttotal: 549ms\tremaining: 12.3ms\n",
      "978:\tlearn: 0.0090504\ttotal: 550ms\tremaining: 11.8ms\n",
      "979:\tlearn: 0.0090365\ttotal: 550ms\tremaining: 11.2ms\n",
      "980:\tlearn: 0.0090162\ttotal: 550ms\tremaining: 10.7ms\n",
      "981:\tlearn: 0.0090105\ttotal: 551ms\tremaining: 10.1ms\n",
      "982:\tlearn: 0.0089836\ttotal: 551ms\tremaining: 9.53ms\n",
      "983:\tlearn: 0.0089721\ttotal: 552ms\tremaining: 8.97ms\n",
      "984:\tlearn: 0.0089524\ttotal: 552ms\tremaining: 8.41ms\n",
      "985:\tlearn: 0.0089260\ttotal: 553ms\tremaining: 7.85ms\n",
      "986:\tlearn: 0.0089178\ttotal: 553ms\tremaining: 7.29ms\n",
      "987:\tlearn: 0.0089123\ttotal: 554ms\tremaining: 6.72ms\n",
      "988:\tlearn: 0.0088856\ttotal: 554ms\tremaining: 6.17ms\n",
      "989:\tlearn: 0.0088529\ttotal: 555ms\tremaining: 5.61ms\n",
      "990:\tlearn: 0.0088337\ttotal: 555ms\tremaining: 5.04ms\n",
      "991:\tlearn: 0.0088149\ttotal: 556ms\tremaining: 4.48ms\n",
      "992:\tlearn: 0.0088071\ttotal: 556ms\tremaining: 3.92ms\n",
      "993:\tlearn: 0.0087617\ttotal: 557ms\tremaining: 3.36ms\n",
      "994:\tlearn: 0.0087295\ttotal: 558ms\tremaining: 2.8ms\n",
      "995:\tlearn: 0.0087112\ttotal: 558ms\tremaining: 2.24ms\n",
      "996:\tlearn: 0.0086933\ttotal: 559ms\tremaining: 1.68ms\n",
      "997:\tlearn: 0.0086662\ttotal: 559ms\tremaining: 1.12ms\n",
      "998:\tlearn: 0.0086397\ttotal: 560ms\tremaining: 560us\n",
      "999:\tlearn: 0.0086028\ttotal: 560ms\tremaining: 0us\n"
     ]
    },
    {
     "data": {
      "text/plain": [
       "<catboost.core.CatBoostRegressor at 0x7f8571760fd0>"
      ]
     },
     "execution_count": 9,
     "metadata": {},
     "output_type": "execute_result"
    }
   ],
   "source": [
    "#Train the Model \n",
    "prior_model = ctb.CatBoostRegressor()\n",
    "prior_model.fit(X_train,Y_train)"
   ]
  },
  {
   "cell_type": "code",
   "execution_count": 10,
   "id": "af65dcda",
   "metadata": {
    "execution": {
     "iopub.execute_input": "2022-03-08T20:40:49.534634Z",
     "iopub.status.busy": "2022-03-08T20:40:49.534261Z",
     "iopub.status.idle": "2022-03-08T20:40:49.541907Z",
     "shell.execute_reply": "2022-03-08T20:40:49.542146Z"
    },
    "id": "af65dcda",
    "papermill": {
     "duration": 0.020114,
     "end_time": "2022-03-08T20:40:49.542255",
     "exception": false,
     "start_time": "2022-03-08T20:40:49.522141",
     "status": "completed"
    },
    "tags": []
   },
   "outputs": [
    {
     "data": {
      "application/scrapbook.scrap.json+json": {
       "data": 0.17095711300605215,
       "encoder": "json",
       "name": "Prior Model MSE",
       "version": 1
      }
     },
     "metadata": {
      "scrapbook": {
       "data": true,
       "display": false,
       "name": "Prior Model MSE"
      }
     },
     "output_type": "display_data"
    },
    {
     "data": {
      "application/scrapbook.scrap.json+json": {
       "data": 1.1112584142889388,
       "encoder": "json",
       "name": "ABC Pre-generator MSE",
       "version": 1
      }
     },
     "metadata": {
      "scrapbook": {
       "data": true,
       "display": false,
       "name": "ABC Pre-generator MSE"
      }
     },
     "output_type": "display_data"
    },
    {
     "data": {
      "application/scrapbook.scrap.json+json": {
       "data": 0.2896149496767916,
       "encoder": "json",
       "name": "Prior Model MSE",
       "version": 1
      }
     },
     "metadata": {
      "scrapbook": {
       "data": true,
       "display": false,
       "name": "Prior Model MSE"
      }
     },
     "output_type": "display_data"
    },
    {
     "data": {
      "application/scrapbook.scrap.json+json": {
       "data": 0.9832161757068698,
       "encoder": "json",
       "name": "ABC Pre-generator MSE",
       "version": 1
      }
     },
     "metadata": {
      "scrapbook": {
       "data": true,
       "display": false,
       "name": "ABC Pre-generator MSE"
      }
     },
     "output_type": "display_data"
    }
   ],
   "source": [
    "y_pred = prior_model.predict(X_test)\n",
    "y_abc = y_pred + np.random.normal(0,variance, y_pred.shape) + bias \n",
    "mse = mean_squared_error(y_pred,Y_test)\n",
    "sb.glue(\"Prior Model MSE\",mse)\n",
    "mse = mean_squared_error(y_abc,Y_test)\n",
    "sb.glue(\"ABC Pre-generator MSE\",mse)\n",
    "mae = mean_absolute_error(y_pred,Y_test)\n",
    "sb.glue(\"Prior Model MSE\",mae)\n",
    "mae = mean_absolute_error(y_abc,Y_test)\n",
    "sb.glue(\"ABC Pre-generator MSE\",mae)"
   ]
  },
  {
   "cell_type": "markdown",
   "id": "25609da2",
   "metadata": {
    "papermill": {
     "duration": 0.009416,
     "end_time": "2022-03-08T20:40:49.561453",
     "exception": false,
     "start_time": "2022-03-08T20:40:49.552037",
     "status": "completed"
    },
    "tags": []
   },
   "source": [
    "# ABC GAN Model"
   ]
  },
  {
   "cell_type": "code",
   "execution_count": 11,
   "id": "dfc3464d",
   "metadata": {
    "execution": {
     "iopub.execute_input": "2022-03-08T20:40:49.583153Z",
     "iopub.status.busy": "2022-03-08T20:40:49.582756Z",
     "iopub.status.idle": "2022-03-08T20:40:49.585402Z",
     "shell.execute_reply": "2022-03-08T20:40:49.585644Z"
    },
    "papermill": {
     "duration": 0.014899,
     "end_time": "2022-03-08T20:40:49.585750",
     "exception": false,
     "start_time": "2022-03-08T20:40:49.570851",
     "status": "completed"
    },
    "tags": []
   },
   "outputs": [],
   "source": [
    "gen = network.Generator(n_features+1).to(device)\n",
    "disc = network.Discriminator(n_features+1).to(device)\n",
    "\n",
    "criterion = torch.nn.BCELoss()\n",
    "gen_opt = torch.optim.Adam(gen.parameters(), lr=0.001, betas=(0.5, 0.999))\n",
    "disc_opt = torch.optim.Adam(disc.parameters(), lr=0.001, betas=(0.5, 0.999))"
   ]
  },
  {
   "cell_type": "code",
   "execution_count": 12,
   "id": "b75fdd85",
   "metadata": {
    "execution": {
     "iopub.execute_input": "2022-03-08T20:40:49.607135Z",
     "iopub.status.busy": "2022-03-08T20:40:49.606720Z",
     "iopub.status.idle": "2022-03-08T20:41:03.015727Z",
     "shell.execute_reply": "2022-03-08T20:41:03.016043Z"
    },
    "papermill": {
     "duration": 13.420771,
     "end_time": "2022-03-08T20:41:03.016164",
     "exception": false,
     "start_time": "2022-03-08T20:40:49.595393",
     "status": "completed"
    },
    "tags": []
   },
   "outputs": [
    {
     "data": {
      "image/png": "[encoded data removed]",
      "text/plain": [
       "<Figure size 432x288 with 1 Axes>"
      ]
     },
     "metadata": {
      "needs_background": "light"
     },
     "output_type": "display_data"
    },
    {
     "data": {
      "image/png": "[encoded data removed]",
      "text/plain": [
       "<Figure size 432x288 with 1 Axes>"
      ]
     },
     "metadata": {
      "needs_background": "light"
     },
     "output_type": "display_data"
    }
   ],
   "source": [
    "#Training the ABC_GAN \n",
    "ABC_train_test2.training_GAN(disc,gen,disc_opt,gen_opt,train_data,batch_size,n_epochs,criterion,prior_model,variance,bias,device)"
   ]
  },
  {
   "cell_type": "code",
   "execution_count": 13,
   "id": "1fa7c368",
   "metadata": {
    "execution": {
     "iopub.execute_input": "2022-03-08T20:41:03.040568Z",
     "iopub.status.busy": "2022-03-08T20:41:03.040100Z",
     "iopub.status.idle": "2022-03-08T20:41:03.205748Z",
     "shell.execute_reply": "2022-03-08T20:41:03.206114Z"
    },
    "papermill": {
     "duration": 0.178868,
     "end_time": "2022-03-08T20:41:03.206237",
     "exception": false,
     "start_time": "2022-03-08T20:41:03.027369",
     "status": "completed"
    },
    "tags": []
   },
   "outputs": [
    {
     "data": {
      "application/scrapbook.scrap.json+json": {
       "data": 0.10801461060449431,
       "encoder": "json",
       "name": "ABC-GAN Model 1 MSE",
       "version": 1
      }
     },
     "metadata": {
      "scrapbook": {
       "data": true,
       "display": false,
       "name": "ABC-GAN Model 1 MSE"
      }
     },
     "output_type": "display_data"
    },
    {
     "data": {
      "application/scrapbook.scrap.json+json": {
       "data": 0.24734918831288816,
       "encoder": "json",
       "name": "ABC-GAN Model 1 MAE",
       "version": 1
      }
     },
     "metadata": {
      "scrapbook": {
       "data": true,
       "display": false,
       "name": "ABC-GAN Model 1 MAE"
      }
     },
     "output_type": "display_data"
    },
    {
     "data": {
      "application/scrapbook.scrap.json+json": {
       "data": 4.9469837662577625,
       "encoder": "json",
       "name": "ABC-GAN Model 1 Manhattan Distance",
       "version": 1
      }
     },
     "metadata": {
      "scrapbook": {
       "data": true,
       "display": false,
       "name": "ABC-GAN Model 1 Manhattan Distance"
      }
     },
     "output_type": "display_data"
    },
    {
     "data": {
      "application/scrapbook.scrap.json+json": {
       "data": 1.4692863536913785,
       "encoder": "json",
       "name": "ABC-GAN Model 1 Euclidean distance",
       "version": 1
      }
     },
     "metadata": {
      "scrapbook": {
       "data": true,
       "display": false,
       "name": "ABC-GAN Model 1 Euclidean distance"
      }
     },
     "output_type": "display_data"
    },
    {
     "data": {
      "application/scrapbook.scrap.json+json": {
       "data": [
        [
         0.113567466688769,
         0.11531047348370768,
         0.09689649209630717,
         0.11041842270955815,
         0.12226360287163647,
         0.10312540475495646,
         0.10674841358580953,
         0.11484889651747476,
         0.10874681011475325,
         0.1093889621915725,
         0.10452848381272681,
         0.10859490888613559,
         0.1076157949687444,
         0.10126678278175998,
         0.10093974404677786,
         0.11150676560500501,
         0.10723059439017939,
         0.10895314916258966,
         0.11457983673353586,
         0.12323729805306805,
         0.11908480546173128,
         0.10566375252978591,
         0.10798800950542393,
         0.10512632156896466,
         0.10460136949715063,
         0.1161688899413172,
         0.10706792550175584,
         0.10376766835886846,
         0.10861000251790834,
         0.10560046728805732,
         0.10299024607025893,
         0.11319700166826281,
         0.10689491609906154,
         0.10921630163751979,
         0.10538338365970516,
         0.11252001919199586,
         0.11246465568660886,
         0.10363600751024742,
         0.11328162613102617,
         0.10307383755225645,
         0.11466359916324645,
         0.10472601103889986,
         0.1057147907030811,
         0.10885440289561547,
         0.10309253496763308,
         0.11657652544513541,
         0.11513990270143015,
         0.11156078072908251,
         0.11371755094080113,
         0.0962655647170346,
         0.10728438489748182,
         0.10648194046226563,
         0.10513735353034312,
         0.10725958518664544,
         0.1058475660809757,
         0.09730877306170067,
         0.10794078449715236,
         0.11173259824263035,
         0.10211847393251301,
         0.11387221358805386,
         0.10731261922353279,
         0.10448274548870551,
         0.11012655782677414,
         0.10725068939648419,
         0.10892729528723737,
         0.08999202548377201,
         0.11292681823624387,
         0.09800988448850509,
         0.10922440620926324,
         0.11577549131873259,
         0.10170014602764905,
         0.11328413416802033,
         0.1132330309233203,
         0.09815328543669381,
         0.10486259298790727,
         0.10386392464266847,
         0.10404319277814023,
         0.10245492040032164,
         0.10555705805724754,
         0.11510793652097484,
         0.10411090890957234,
         0.11016077339183956,
         0.11486370041477874,
         0.10444189649366206,
         0.10188772409687297,
         0.1089609081501373,
         0.10855005438560013,
         0.11072931449264276,
         0.10412102656243682,
         0.0953167687337746,
         0.11301600948730597,
         0.1146349829559892,
         0.10677754902130612,
         0.10670616092892529,
         0.11348973220226513,
         0.11138510346440156,
         0.11193932442670666,
         0.10568409056994724,
         0.10846304559562199,
         0.10853238364875488
        ],
        [
         0.24706585220992566,
         0.23878350891172886,
         0.2415600549429655,
         0.24853309690952302,
         0.26733091212809085,
         0.2406215351074934,
         0.24724987894296646,
         0.24474606476724148,
         0.25276740081608295,
         0.25246810019016264,
         0.2542683456093073,
         0.2566101849079132,
         0.24146497175097464,
         0.23478989265859126,
         0.24617259297519922,
         0.24801212698221206,
         0.251330428943038,
         0.23834943436086178,
         0.2544338136911392,
         0.26796130165457727,
         0.25226333290338515,
         0.2408114079385996,
         0.2472491055727005,
         0.24077705703675747,
         0.24601555652916432,
         0.2684813220053911,
         0.25435237884521483,
         0.236486142501235,
         0.2513443809002638,
         0.24442524313926697,
         0.24690439477562903,
         0.2473905526101589,
         0.2521256394684315,
         0.24264143854379655,
         0.25065484270453453,
         0.24758843444287776,
         0.2608405381441116,
         0.2443578377366066,
         0.26023779101669786,
         0.2375673234462738,
         0.24530738219618797,
         0.24162718690931798,
         0.24426438212394713,
         0.2547408040612936,
         0.24147119075059892,
         0.2604411646723747,
         0.257854163646698,
         0.25700684189796447,
         0.24708520509302617,
         0.2358388151973486,
         0.23882488012313843,
         0.2382133211940527,
         0.24545980244874954,
         0.2502145778387785,
         0.24351031221449376,
         0.2375892486423254,
         0.25787944793701173,
         0.24212537258863448,
         0.2354776557534933,
         0.25621002558618783,
         0.24576270431280137,
         0.23365459851920606,
         0.25006986036896706,
         0.24335325807332991,
         0.243228168413043,
         0.22260146886110305,
         0.2523514486849308,
         0.23846930041909217,
         0.2532318115234375,
         0.2531825851649046,
         0.2399005029350519,
         0.26077755689620974,
         0.2520592544227839,
         0.23786551207304002,
         0.2446721125394106,
         0.24158797785639763,
         0.23368451446294786,
         0.2460755743086338,
         0.24440509229898452,
         0.2559081092476845,
         0.2429732859134674,
         0.2415474195033312,
         0.2593830034136772,
         0.24478937052190303,
         0.24236917570233346,
         0.24405410289764404,
         0.24421041533350946,
         0.2446483552455902,
         0.24833160415291786,
         0.2340691216289997,
         0.258023240044713,
         0.26067213229835035,
         0.2472244780510664,
         0.24856608994305135,
         0.26044169552624225,
         0.25473269186913966,
         0.25275340378284455,
         0.2537227597087622,
         0.23825233541429042,
         0.24313673935830593
        ],
        [
         4.941317044198513,
         4.775670178234577,
         4.83120109885931,
         4.97066193819046,
         5.346618242561817,
         4.812430702149868,
         4.944997578859329,
         4.89492129534483,
         5.055348016321659,
         5.049362003803253,
         5.085366912186146,
         5.132203698158264,
         4.829299435019493,
         4.695797853171825,
         4.9234518595039845,
         4.960242539644241,
         5.02660857886076,
         4.766988687217236,
         5.088676273822784,
         5.359226033091545,
         5.045266658067703,
         4.816228158771992,
         4.94498211145401,
         4.815541140735149,
         4.920311130583286,
         5.369626440107822,
         5.087047576904297,
         4.7297228500247,
         5.026887618005276,
         4.888504862785339,
         4.938087895512581,
         4.947811052203178,
         5.0425127893686295,
         4.852828770875931,
         5.013096854090691,
         4.951768688857555,
         5.216810762882233,
         4.887156754732132,
         5.204755820333958,
         4.751346468925476,
         4.9061476439237595,
         4.832543738186359,
         4.885287642478943,
         5.094816081225872,
         4.829423815011978,
         5.2088232934474945,
         5.15708327293396,
         5.1401368379592896,
         4.941704101860523,
         4.716776303946972,
         4.7764976024627686,
         4.764266423881054,
         4.909196048974991,
         5.00429155677557,
         4.870206244289875,
         4.751784972846508,
         5.157588958740234,
         4.84250745177269,
         4.709553115069866,
         5.124200511723757,
         4.915254086256027,
         4.673091970384121,
         5.001397207379341,
         4.8670651614665985,
         4.86456336826086,
         4.452029377222061,
         5.047028973698616,
         4.769386008381844,
         5.06463623046875,
         5.063651703298092,
         4.798010058701038,
         5.215551137924194,
         5.041185088455677,
         4.7573102414608,
         4.893442250788212,
         4.831759557127953,
         4.673690289258957,
         4.921511486172676,
         4.8881018459796906,
         5.11816218495369,
         4.859465718269348,
         4.830948390066624,
         5.187660068273544,
         4.895787410438061,
         4.847383514046669,
         4.881082057952881,
         4.884208306670189,
         4.892967104911804,
         4.966632083058357,
         4.681382432579994,
         5.16046480089426,
         5.213442645967007,
         4.944489561021328,
         4.971321798861027,
         5.208833910524845,
         5.094653837382793,
         5.055068075656891,
         5.074455194175243,
         4.765046708285809,
         4.862734787166119
        ],
        [
         1.5070996429484615,
         1.5186209104559814,
         1.3920954859226229,
         1.4860580251763937,
         1.5637365690654963,
         1.436143479983504,
         1.4611530623847013,
         1.515578414450897,
         1.4747664907689844,
         1.4791143444073045,
         1.4458802427084119,
         1.4737361289330977,
         1.4670773324453241,
         1.4231428795574952,
         1.4208430176960287,
         1.493363757461691,
         1.464449346274424,
         1.4761649580083498,
         1.5138020790944624,
         1.569950942246719,
         1.5432744763115296,
         1.4537107864343988,
         1.469612258423452,
         1.4500091142400773,
         1.4463842469907546,
         1.5242630346585015,
         1.4633381393359215,
         1.4406086794051218,
         1.473838542839129,
         1.4532753853833575,
         1.4352020489830617,
         1.50463950279303,
         1.4621553686189546,
         1.4779465595042318,
         1.451780862662855,
         1.5001334553431962,
         1.499764352734181,
         1.439694464185005,
         1.5052018212254872,
         1.4357843678788014,
         1.5143553028483536,
         1.4472457361408937,
         1.454061832956777,
         1.4754958684836463,
         1.4359145863708822,
         1.5269350048062649,
         1.5174972995127876,
         1.4937254147204064,
         1.5080951623873153,
         1.3875558707096056,
         1.4648166089820378,
         1.459328204772769,
         1.4500851942582071,
         1.4646472967007822,
         1.4549746807486081,
         1.3950539277153458,
         1.4692908799632043,
         1.4948752338749234,
         1.4291149284260731,
         1.509120363576437,
         1.465009346205906,
         1.4455638726026983,
         1.4840927048319734,
         1.4645865587016984,
         1.4759898054338816,
         1.3415813466485884,
         1.5028427611446507,
         1.4000706017091074,
         1.4780013951905677,
         1.521679935589167,
         1.4261847427850927,
         1.5052184835964533,
         1.5048789381430008,
         1.401094468169037,
         1.4481891657370405,
         1.4412766885138222,
         1.442519967127944,
         1.4314672221208675,
         1.4529766554026085,
         1.5172866342321403,
         1.4429893201931352,
         1.484323235631913,
         1.515676089504474,
         1.4452812632402183,
         1.4274993807135117,
         1.4762175188645967,
         1.4734317383957773,
         1.488148611481009,
         1.4430594344131278,
         1.3807010446419934,
         1.503436127591099,
         1.5141663247872685,
         1.46135244907795,
         1.460863860384843,
         1.5065837660234171,
         1.4925488498833233,
         1.4962574940611437,
         1.453850684010894,
         1.4728411020583447,
         1.4733118043968485
        ]
       ],
       "encoder": "json",
       "name": "ABC_GAN_1 Metrics",
       "version": 1
      }
     },
     "metadata": {
      "scrapbook": {
       "data": true,
       "display": false,
       "name": "ABC_GAN_1 Metrics"
      }
     },
     "output_type": "display_data"
    },
    {
     "name": "stdout",
     "output_type": "stream",
     "text": [
      "MSE\n",
      "0.10801461060449431\n"
     ]
    }
   ],
   "source": [
    "ABC_GAN1_metrics=ABC_train_test2.test_generator(gen,test_data,prior_model,variance,bias,\"1\",device)\n",
    "sb.glue(\"ABC_GAN_1 Metrics\",ABC_GAN1_metrics)\n",
    "\n",
    "print(\"MSE\")\n",
    "print(mean(ABC_GAN1_metrics[0]))"
   ]
  },
  {
   "cell_type": "code",
   "execution_count": 14,
   "id": "eb22ce5c",
   "metadata": {
    "execution": {
     "iopub.execute_input": "2022-03-08T20:41:03.233157Z",
     "iopub.status.busy": "2022-03-08T20:41:03.232779Z",
     "iopub.status.idle": "2022-03-08T20:41:03.512042Z",
     "shell.execute_reply": "2022-03-08T20:41:03.512339Z"
    },
    "papermill": {
     "duration": 0.293784,
     "end_time": "2022-03-08T20:41:03.512461",
     "exception": false,
     "start_time": "2022-03-08T20:41:03.218677",
     "status": "completed"
    },
    "tags": []
   },
   "outputs": [
    {
     "data": {
      "image/png": "[encoded data removed]",
      "text/plain": [
       "<Figure size 432x288 with 1 Axes>"
      ]
     },
     "metadata": {
      "needs_background": "light"
     },
     "output_type": "display_data"
    },
    {
     "data": {
      "image/png": "[encoded data removed]",
      "text/plain": [
       "<Figure size 432x288 with 1 Axes>"
      ]
     },
     "metadata": {
      "needs_background": "light"
     },
     "output_type": "display_data"
    },
    {
     "data": {
      "image/png": "[encoded data removed]",
      "text/plain": [
       "<Figure size 432x288 with 1 Axes>"
      ]
     },
     "metadata": {
      "needs_background": "light"
     },
     "output_type": "display_data"
    },
    {
     "data": {
      "image/png": "[encoded data removed]",
      "text/plain": [
       "<Figure size 432x288 with 1 Axes>"
      ]
     },
     "metadata": {
      "needs_background": "light"
     },
     "output_type": "display_data"
    }
   ],
   "source": [
    "sanityChecks.discProbVsError(train_data,disc,device)\n",
    "sanityChecks.discProbVsError(test_data,disc,device)"
   ]
  },
  {
   "cell_type": "markdown",
   "id": "130f3a4d",
   "metadata": {
    "id": "130f3a4d",
    "papermill": {
     "duration": 0.03592,
     "end_time": "2022-03-08T20:41:03.562994",
     "exception": false,
     "start_time": "2022-03-08T20:41:03.527074",
     "status": "completed"
    },
    "tags": []
   },
   "source": [
    "# ABC - GAN Model with skip connection"
   ]
  },
  {
   "cell_type": "code",
   "execution_count": 15,
   "id": "4e43dad1",
   "metadata": {
    "execution": {
     "iopub.execute_input": "2022-03-08T20:41:03.594944Z",
     "iopub.status.busy": "2022-03-08T20:41:03.594558Z",
     "iopub.status.idle": "2022-03-08T20:41:03.597031Z",
     "shell.execute_reply": "2022-03-08T20:41:03.597290Z"
    },
    "id": "4e43dad1",
    "papermill": {
     "duration": 0.01994,
     "end_time": "2022-03-08T20:41:03.597405",
     "exception": false,
     "start_time": "2022-03-08T20:41:03.577465",
     "status": "completed"
    },
    "tags": []
   },
   "outputs": [],
   "source": [
    "#Generator\n",
    "gen3 = network.GeneratorWithSkipConnection(n_features+1).to(device)\n",
    "constraints=network.weightConstraint()\n",
    "#Discriminator \n",
    "disc3 = network.Discriminator(n_features+1).to(device)\n",
    "\n",
    "criterion = torch.nn.BCELoss()\n",
    "gen_opt = torch.optim.Adam(gen3.parameters(), lr=0.001, betas=(0.5, 0.999))\n",
    "disc_opt = torch.optim.Adam(disc3.parameters(), lr=0.001, betas=(0.5, 0.999))\n"
   ]
  },
  {
   "cell_type": "code",
   "execution_count": 16,
   "id": "26acbc37",
   "metadata": {
    "execution": {
     "iopub.execute_input": "2022-03-08T20:41:03.628657Z",
     "iopub.status.busy": "2022-03-08T20:41:03.628268Z",
     "iopub.status.idle": "2022-03-08T20:41:39.880159Z",
     "shell.execute_reply": "2022-03-08T20:41:39.880464Z"
    },
    "id": "26acbc37",
    "papermill": {
     "duration": 36.268582,
     "end_time": "2022-03-08T20:41:39.880583",
     "exception": false,
     "start_time": "2022-03-08T20:41:03.612001",
     "status": "completed"
    },
    "tags": []
   },
   "outputs": [
    {
     "data": {
      "image/png": "[encoded data removed]",
      "text/plain": [
       "<Figure size 432x288 with 1 Axes>"
      ]
     },
     "metadata": {
      "needs_background": "light"
     },
     "output_type": "display_data"
    },
    {
     "data": {
      "image/png": "[encoded data removed]",
      "text/plain": [
       "<Figure size 432x288 with 1 Axes>"
      ]
     },
     "metadata": {
      "needs_background": "light"
     },
     "output_type": "display_data"
    }
   ],
   "source": [
    "ABC_train_test2.training_GAN_skip_connection(disc3,gen3,disc_opt,gen_opt,train_data,batch_size,n_epochs,criterion,prior_model,variance,bias,device)"
   ]
  },
  {
   "cell_type": "code",
   "execution_count": 17,
   "id": "c5e0717b",
   "metadata": {
    "execution": {
     "iopub.execute_input": "2022-03-08T20:41:39.914241Z",
     "iopub.status.busy": "2022-03-08T20:41:39.913788Z",
     "iopub.status.idle": "2022-03-08T20:41:40.186092Z",
     "shell.execute_reply": "2022-03-08T20:41:40.186414Z"
    },
    "id": "c5e0717b",
    "papermill": {
     "duration": 0.290552,
     "end_time": "2022-03-08T20:41:40.186538",
     "exception": false,
     "start_time": "2022-03-08T20:41:39.895986",
     "status": "completed"
    },
    "tags": []
   },
   "outputs": [
    {
     "data": {
      "application/scrapbook.scrap.json+json": {
       "data": 0.11932574393693221,
       "encoder": "json",
       "name": "ABC-GAN Model 3 MSE",
       "version": 1
      }
     },
     "metadata": {
      "scrapbook": {
       "data": true,
       "display": false,
       "name": "ABC-GAN Model 3 MSE"
      }
     },
     "output_type": "display_data"
    },
    {
     "data": {
      "application/scrapbook.scrap.json+json": {
       "data": 0.2461786004304886,
       "encoder": "json",
       "name": "ABC-GAN Model 3 MAE",
       "version": 1
      }
     },
     "metadata": {
      "scrapbook": {
       "data": true,
       "display": false,
       "name": "ABC-GAN Model 3 MAE"
      }
     },
     "output_type": "display_data"
    },
    {
     "data": {
      "application/scrapbook.scrap.json+json": {
       "data": 4.923572008609772,
       "encoder": "json",
       "name": "ABC-GAN Model 3 Manhattan Distance",
       "version": 1
      }
     },
     "metadata": {
      "scrapbook": {
       "data": true,
       "display": false,
       "name": "ABC-GAN Model 3 Manhattan Distance"
      }
     },
     "output_type": "display_data"
    },
    {
     "data": {
      "application/scrapbook.scrap.json+json": {
       "data": 1.5439511827972299,
       "encoder": "json",
       "name": "ABC-GAN Model 3 Euclidean distance",
       "version": 1
      }
     },
     "metadata": {
      "scrapbook": {
       "data": true,
       "display": false,
       "name": "ABC-GAN Model 3 Euclidean distance"
      }
     },
     "output_type": "display_data"
    },
    {
     "data": {
      "application/scrapbook.scrap.json+json": {
       "data": [
        [
         0.11682768535464363,
         0.11650373962493146,
         0.12431621153865753,
         0.10659121035567268,
         0.1296745400008487,
         0.10674149285871874,
         0.1138505010225809,
         0.13450791971586687,
         0.11312573784339701,
         0.12843063503487837,
         0.11939890294434545,
         0.10674166157723866,
         0.13085767867410966,
         0.11090682401541514,
         0.12603953957370764,
         0.12319295372145977,
         0.1138798697739681,
         0.11915928598829936,
         0.11876303808927706,
         0.11265821013663797,
         0.1093643204214056,
         0.11946377520026905,
         0.13179637509418485,
         0.11483522118036307,
         0.1242228281807908,
         0.10500275910576881,
         0.12075864721802239,
         0.11850449715880491,
         0.13215144262187054,
         0.12577566005141846,
         0.11934491382879209,
         0.11663698195759506,
         0.11805400372831412,
         0.11980683772201801,
         0.1140235664355155,
         0.1155500962607269,
         0.12049756540959664,
         0.11841989399891398,
         0.11290004124010337,
         0.12626061050321463,
         0.11008154388207406,
         0.11910692901168489,
         0.1120662052141443,
         0.12158144917947103,
         0.125943674688477,
         0.13130766578482408,
         0.126196099896927,
         0.12405511399304872,
         0.1218343338099567,
         0.12362516462908033,
         0.10739015194796271,
         0.10937327237067782,
         0.1241878823859821,
         0.11883872050672224,
         0.11816693157123118,
         0.11950265690844111,
         0.11279949028683349,
         0.13315953800027464,
         0.11796282344720481,
         0.13047946363890076,
         0.11898835980765118,
         0.10430883506860056,
         0.1220185066701113,
         0.1299615597138349,
         0.1104868761744621,
         0.10641514731541854,
         0.1103725915355565,
         0.10210772185373843,
         0.10708725128631955,
         0.13155099578739765,
         0.12326790122900047,
         0.10384296390712913,
         0.10638856103375897,
         0.12823587535380643,
         0.1184926770105863,
         0.12243368428119336,
         0.10997890916010374,
         0.13125856372375258,
         0.12014592884181577,
         0.11725510660066285,
         0.11900944212626766,
         0.11689353970701118,
         0.13031273024134404,
         0.11896156321423801,
         0.12891591753542397,
         0.12214836265177578,
         0.12179095674674749,
         0.10359215155859598,
         0.11866690046253972,
         0.11875625256016945,
         0.1219521901987918,
         0.11484759169161732,
         0.11986405380857126,
         0.12860458085204396,
         0.12622695594358757,
         0.14066085038715107,
         0.11925619921954352,
         0.12574104686872248,
         0.1280232340335216,
         0.12055507121439377
        ],
        [
         0.22567888349294662,
         0.24644309729337693,
         0.2447154238820076,
         0.23271292448043823,
         0.2521292015910149,
         0.23230868130922316,
         0.24827222824096679,
         0.26567491739988325,
         0.2392704039812088,
         0.2672250300645828,
         0.2380984053015709,
         0.24539450109004973,
         0.2639712691307068,
         0.23654398918151856,
         0.25316355377435684,
         0.25253295451402663,
         0.24768313020467758,
         0.249543996155262,
         0.256221641600132,
         0.23863248378038407,
         0.23595283180475235,
         0.24156707227230073,
         0.2758472844958305,
         0.2551597267389297,
         0.26207646876573565,
         0.23699997067451478,
         0.24474130868911742,
         0.24112948626279831,
         0.24621864557266235,
         0.2531349718570709,
         0.2492416560649872,
         0.24080432951450348,
         0.23564616590738297,
         0.24211760312318803,
         0.23093803375959396,
         0.22908432334661483,
         0.2509544029831886,
         0.26412663906812667,
         0.23376774191856384,
         0.26274739801883695,
         0.23401346504688264,
         0.2614875391125679,
         0.24177786558866501,
         0.24065120071172713,
         0.2638426601886749,
         0.2616315856575966,
         0.25267998278141024,
         0.2450992152094841,
         0.25841825902462007,
         0.23757229447364808,
         0.21651416271924973,
         0.250679549574852,
         0.23381358981132508,
         0.238739538192749,
         0.25050777196884155,
         0.2420816481113434,
         0.23503243327140808,
         0.2613710924983025,
         0.23372722268104554,
         0.2677384287118912,
         0.24442870914936066,
         0.2197612404823303,
         0.2481280744075775,
         0.26603954285383224,
         0.23734833300113678,
         0.22861753553152084,
         0.2536506548523903,
         0.22951959818601608,
         0.21199494749307632,
         0.25450835973024366,
         0.24590665400028228,
         0.22781553417444228,
         0.24131267219781877,
         0.2655692666769028,
         0.2580347344279289,
         0.24547739773988725,
         0.22581886351108552,
         0.26354154795408247,
         0.2482718527317047,
         0.23652410060167312,
         0.24830242693424226,
         0.23607497662305832,
         0.2602841332554817,
         0.25158498883247377,
         0.24947434514760972,
         0.25165790021419526,
         0.2473326340317726,
         0.22575902044773102,
         0.23373284935951233,
         0.24356377124786377,
         0.25147444754838943,
         0.23132697194814683,
         0.24564360529184343,
         0.2594236880540848,
         0.2576347693800926,
         0.2796555027365685,
         0.23814075142145158,
         0.25774085372686384,
         0.25809060633182523,
         0.24283989816904067
        ],
        [
         4.5135776698589325,
         4.9288619458675385,
         4.894308477640152,
         4.654258489608765,
         5.042584031820297,
         4.6461736261844635,
         4.965444564819336,
         5.313498347997665,
         4.785408079624176,
         5.3445006012916565,
         4.761968106031418,
         4.907890021800995,
         5.279425382614136,
         4.730879783630371,
         5.063271075487137,
         5.050659090280533,
         4.953662604093552,
         4.99087992310524,
         5.12443283200264,
         4.772649675607681,
         4.719056636095047,
         4.831341445446014,
         5.516945689916611,
         5.103194534778595,
         5.2415293753147125,
         4.739999413490295,
         4.894826173782349,
         4.822589725255966,
         4.924372911453247,
         5.0626994371414185,
         4.984833121299744,
         4.81608659029007,
         4.712923318147659,
         4.84235206246376,
         4.618760675191879,
         4.581686466932297,
         5.019088059663773,
         5.282532781362534,
         4.675354838371277,
         5.2549479603767395,
         4.680269300937653,
         5.229750782251358,
         4.8355573117733,
         4.813024014234543,
         5.2768532037734985,
         5.232631713151932,
         5.053599655628204,
         4.901984304189682,
         5.168365180492401,
         4.751445889472961,
         4.3302832543849945,
         5.01359099149704,
         4.6762717962265015,
         4.7747907638549805,
         5.010155439376831,
         4.841632962226868,
         4.700648665428162,
         5.227421849966049,
         4.674544453620911,
         5.3547685742378235,
         4.888574182987213,
         4.3952248096466064,
         4.96256148815155,
         5.320790857076645,
         4.746966660022736,
         4.572350710630417,
         5.073013097047806,
         4.590391963720322,
         4.2398989498615265,
         5.090167194604874,
         4.918133080005646,
         4.556310683488846,
         4.826253443956375,
         5.311385333538055,
         5.1606946885585785,
         4.909547954797745,
         4.51637727022171,
         5.27083095908165,
         4.965437054634094,
         4.7304820120334625,
         4.966048538684845,
         4.721499532461166,
         5.205682665109634,
         5.031699776649475,
         4.989486902952194,
         5.033158004283905,
         4.946652680635452,
         4.51518040895462,
         4.674656987190247,
         4.871275424957275,
         5.029488950967789,
         4.626539438962936,
         4.912872105836868,
         5.188473761081696,
         5.152695387601852,
         5.593110054731369,
         4.762815028429031,
         5.154817074537277,
         5.161812126636505,
         4.856797963380814
        ],
        [
         1.5285789829422858,
         1.526458251148268,
         1.5768082415985625,
         1.4600767812390736,
         1.61043186754888,
         1.4611056967839031,
         1.5089764810796813,
         1.6401702333347405,
         1.5041658009900172,
         1.6026892090163856,
         1.5453084025161157,
         1.4611068515152386,
         1.617761902593269,
         1.4893409550228258,
         1.5876998430037563,
         1.5696684600351742,
         1.509171095495591,
         1.543757014483169,
         1.5411881007150106,
         1.5010543636833276,
         1.4789477368819062,
         1.545728146863277,
         1.6235539725810464,
         1.5154881799628994,
         1.5762159000643967,
         1.4491567141325248,
         1.5540826697317127,
         1.5395096437424802,
         1.6257394786488426,
         1.5860369481914252,
         1.5449589886388058,
         1.527330887251319,
         1.5365806436911413,
         1.5479459791738084,
         1.5101229515209382,
         1.5201979888207122,
         1.5524017869713798,
         1.5389599994731116,
         1.5026645749474723,
         1.589091630480852,
         1.4837893643106763,
         1.5434178242568335,
         1.4971052415521382,
         1.5593681360055491,
         1.5870959308654093,
         1.6205410564674014,
         1.588685619604628,
         1.5751515101287794,
         1.5609890057906026,
         1.5724195663313296,
         1.4655384808865493,
         1.4790082648225995,
         1.5759941775652733,
         1.5416790879214923,
         1.5373153975110714,
         1.5459796693905201,
         1.5019952748716188,
         1.6319285401038528,
         1.5359871317638363,
         1.6154223202549898,
         1.5426494080487063,
         1.444360308708326,
         1.5621684075035656,
         1.6122131354993663,
         1.4865185917065558,
         1.4588704350655581,
         1.4857495854655756,
         1.4290396905176457,
         1.4634701998081106,
         1.6220418970384067,
         1.5701458609250318,
         1.4411312494504387,
         1.4586881848685755,
         1.601473542421519,
         1.5394328631712804,
         1.5648238513084682,
         1.483097496188998,
         1.6202380301903334,
         1.5501350189052292,
         1.5313726300326962,
         1.5427860650541776,
         1.5290097429840739,
         1.6143898552787306,
         1.5424756932557349,
         1.6057142805332707,
         1.562999441150097,
         1.560711099125956,
         1.4393898120981403,
         1.5405641853719676,
         1.5411440721760534,
         1.5617438343005667,
         1.5155698050015203,
         1.5483155609149657,
         1.6037741789419355,
         1.5888798314761727,
         1.6772647399093028,
         1.5443846620550432,
         1.5858186962494953,
         1.6001452061205044,
         1.5527721739804186
        ]
       ],
       "encoder": "json",
       "name": "ABC_GAN_3 Metrics",
       "version": 1
      }
     },
     "metadata": {
      "scrapbook": {
       "data": true,
       "display": false,
       "name": "ABC_GAN_3 Metrics"
      }
     },
     "output_type": "display_data"
    },
    {
     "name": "stdout",
     "output_type": "stream",
     "text": [
      "MSE\n",
      "0.11932574393693221\n"
     ]
    }
   ],
   "source": [
    "ABC_GAN3_metrics=ABC_train_test2.test_generator(gen3,test_data,prior_model,variance,bias,\"3\",device)\n",
    "sb.glue(\"ABC_GAN_3 Metrics\",ABC_GAN3_metrics)\n",
    "\n",
    "print(\"MSE\")\n",
    "print(mean(ABC_GAN3_metrics[0]))"
   ]
  },
  {
   "cell_type": "code",
   "execution_count": 18,
   "id": "c8e46b48",
   "metadata": {
    "execution": {
     "iopub.execute_input": "2022-03-08T20:41:40.222897Z",
     "iopub.status.busy": "2022-03-08T20:41:40.222520Z",
     "iopub.status.idle": "2022-03-08T20:41:40.516251Z",
     "shell.execute_reply": "2022-03-08T20:41:40.516557Z"
    },
    "id": "c8e46b48",
    "papermill": {
     "duration": 0.312912,
     "end_time": "2022-03-08T20:41:40.516680",
     "exception": false,
     "start_time": "2022-03-08T20:41:40.203768",
     "status": "completed"
    },
    "tags": []
   },
   "outputs": [
    {
     "data": {
      "image/png": "[encoded data removed]",
      "text/plain": [
       "<Figure size 432x288 with 1 Axes>"
      ]
     },
     "metadata": {
      "needs_background": "light"
     },
     "output_type": "display_data"
    },
    {
     "data": {
      "image/png": "[encoded data removed]",
      "text/plain": [
       "<Figure size 432x288 with 1 Axes>"
      ]
     },
     "metadata": {
      "needs_background": "light"
     },
     "output_type": "display_data"
    },
    {
     "data": {
      "image/png": "[encoded data removed]",
      "text/plain": [
       "<Figure size 432x288 with 1 Axes>"
      ]
     },
     "metadata": {
      "needs_background": "light"
     },
     "output_type": "display_data"
    },
    {
     "data": {
      "image/png": "[encoded data removed]",
      "text/plain": [
       "<Figure size 432x288 with 1 Axes>"
      ]
     },
     "metadata": {
      "needs_background": "light"
     },
     "output_type": "display_data"
    }
   ],
   "source": [
    "sanityChecks.discProbVsError(train_data,disc3,device)\n",
    "sanityChecks.discProbVsError(test_data,disc3,device)"
   ]
  },
  {
   "cell_type": "markdown",
   "id": "a5bd74c3",
   "metadata": {
    "id": "a5bd74c3",
    "papermill": {
     "duration": 0.01899,
     "end_time": "2022-03-08T20:41:40.555091",
     "exception": false,
     "start_time": "2022-03-08T20:41:40.536101",
     "status": "completed"
    },
    "tags": []
   },
   "source": [
    "## Skip Connection Model Analysis - ABC-GAN "
   ]
  },
  {
   "cell_type": "markdown",
   "id": "5744a8bf",
   "metadata": {
    "id": "5744a8bf",
    "papermill": {
     "duration": 0.01864,
     "end_time": "2022-03-08T20:41:40.592515",
     "exception": false,
     "start_time": "2022-03-08T20:41:40.573875",
     "status": "completed"
    },
    "tags": []
   },
   "source": [
    "### Weight Analysis \n",
    "\n",
    "Study the weights of the skip connection layer\n",
    "\n",
    "Equation of the skip connection is \n",
    "\n",
    "$output = y_{gan} * w + y_{abc} * (1-w)$"
   ]
  },
  {
   "cell_type": "code",
   "execution_count": 19,
   "id": "52c31dea",
   "metadata": {
    "execution": {
     "iopub.execute_input": "2022-03-08T20:41:40.632848Z",
     "iopub.status.busy": "2022-03-08T20:41:40.632467Z",
     "iopub.status.idle": "2022-03-08T20:41:40.635946Z",
     "shell.execute_reply": "2022-03-08T20:41:40.636186Z"
    },
    "id": "52c31dea",
    "papermill": {
     "duration": 0.025059,
     "end_time": "2022-03-08T20:41:40.636296",
     "exception": false,
     "start_time": "2022-03-08T20:41:40.611237",
     "status": "completed"
    },
    "tags": []
   },
   "outputs": [
    {
     "name": "stdout",
     "output_type": "stream",
     "text": [
      "Weight of the node at skip connection\n",
      "Parameter containing:\n",
      "tensor([[0.2914]], requires_grad=True)\n"
     ]
    },
    {
     "data": {
      "application/scrapbook.scrap.json+json": {
       "data": 0.29144468903541565,
       "encoder": "json",
       "name": "Skip Connection Weight",
       "version": 1
      }
     },
     "metadata": {
      "scrapbook": {
       "data": true,
       "display": false,
       "name": "Skip Connection Weight"
      }
     },
     "output_type": "display_data"
    }
   ],
   "source": [
    "print(\"Weight of the node at skip connection\")\n",
    "for name,param in gen3.named_parameters():\n",
    "    if(name == \"skipNode.weight\"):\n",
    "        print(param)\n",
    "        sb.glue(\"Skip Connection Weight\",param.item())"
   ]
  }
 ],
 "metadata": {
  "colab": {
   "collapsed_sections": [],
   "name": "ABC_GAN_Model-Catboost_Pre-gen.ipynb",
   "provenance": []
  },
  "interpreter": {
   "hash": "31f2aee4e71d21fbe5cf8b01ff0e069b9275f58929596ceb00d14d90e3e16cd6"
  },
  "kernelspec": {
   "display_name": "Python 3 (ipykernel)",
   "language": "python",
   "name": "python3"
  },
  "language_info": {
   "codemirror_mode": {
    "name": "ipython",
    "version": 3
   },
   "file_extension": ".py",
   "mimetype": "text/x-python",
   "name": "python",
   "nbconvert_exporter": "python",
   "pygments_lexer": "ipython3",
   "version": "3.8.11"
  },
  "papermill": {
   "default_parameters": {},
   "duration": 54.779457,
   "end_time": "2022-03-08T20:41:40.965936",
   "environment_variables": {},
   "exception": null,
   "input_path": "ABC_GAN-Catboost.ipynb",
   "output_path": "./ABC_GAN_Catboost/ABC-GAN_output_8_1.ipynb",
   "parameters": {
    "bias": 1,
    "variance": 0.1
   },
   "start_time": "2022-03-08T20:40:46.186479",
   "version": "2.3.3"
  }
 },
 "nbformat": 4,
 "nbformat_minor": 5
}