{
 "cells": [
  {
   "cell_type": "markdown",
   "id": "622780e6",
   "metadata": {
    "id": "622780e6",
    "papermill": {
     "duration": 0.024279,
     "end_time": "2022-03-08T20:54:39.026204",
     "exception": false,
     "start_time": "2022-03-08T20:54:39.001925",
     "status": "completed"
    },
    "tags": []
   },
   "source": [
    "## Import Libraries "
   ]
  },
  {
   "cell_type": "code",
   "execution_count": 1,
   "id": "a62397e3",
   "metadata": {
    "execution": {
     "iopub.execute_input": "2022-03-08T20:54:39.061067Z",
     "iopub.status.busy": "2022-03-08T20:54:39.060531Z",
     "iopub.status.idle": "2022-03-08T20:54:39.062935Z",
     "shell.execute_reply": "2022-03-08T20:54:39.063256Z"
    },
    "id": "a62397e3",
    "papermill": {
     "duration": 0.022211,
     "end_time": "2022-03-08T20:54:39.063477",
     "exception": false,
     "start_time": "2022-03-08T20:54:39.041266",
     "status": "completed"
    },
    "tags": []
   },
   "outputs": [],
   "source": [
    "import warnings\n",
    "import sys\n",
    "sys.path.insert(0, '../../src')\n",
    "warnings.filterwarnings('ignore')"
   ]
  },
  {
   "cell_type": "code",
   "execution_count": 2,
   "id": "d6a4e155",
   "metadata": {
    "execution": {
     "iopub.execute_input": "2022-03-08T20:54:39.084078Z",
     "iopub.status.busy": "2022-03-08T20:54:39.083649Z",
     "iopub.status.idle": "2022-03-08T20:54:40.615204Z",
     "shell.execute_reply": "2022-03-08T20:54:40.615439Z"
    },
    "id": "d6a4e155",
    "papermill": {
     "duration": 1.542489,
     "end_time": "2022-03-08T20:54:40.615564",
     "exception": false,
     "start_time": "2022-03-08T20:54:39.073075",
     "status": "completed"
    },
    "tags": []
   },
   "outputs": [],
   "source": [
    "import ABC_train_test2\n",
    "import friedman1Dataset\n",
    "import network\n",
    "import dataset\n",
    "import sanityChecks\n",
    "import torch \n",
    "import scrapbook as sb\n",
    "from statistics import mean \n",
    "import catboost as ctb \n",
    "from sklearn.model_selection import train_test_split\n",
    "from sklearn.metrics import mean_squared_error,mean_absolute_error\n",
    "import numpy as np"
   ]
  },
  {
   "cell_type": "markdown",
   "id": "2fa5b0f7",
   "metadata": {
    "id": "2fa5b0f7",
    "papermill": {
     "duration": 0.006645,
     "end_time": "2022-03-08T20:54:40.629235",
     "exception": false,
     "start_time": "2022-03-08T20:54:40.622590",
     "status": "completed"
    },
    "tags": []
   },
   "source": [
    "## Parameters "
   ]
  },
  {
   "cell_type": "code",
   "execution_count": 3,
   "id": "783186fb",
   "metadata": {
    "execution": {
     "iopub.execute_input": "2022-03-08T20:54:40.644750Z",
     "iopub.status.busy": "2022-03-08T20:54:40.644377Z",
     "iopub.status.idle": "2022-03-08T20:54:40.645791Z",
     "shell.execute_reply": "2022-03-08T20:54:40.646036Z"
    },
    "id": "783186fb",
    "papermill": {
     "duration": 0.01029,
     "end_time": "2022-03-08T20:54:40.646146",
     "exception": false,
     "start_time": "2022-03-08T20:54:40.635856",
     "status": "completed"
    },
    "tags": [
     "parameters"
    ]
   },
   "outputs": [],
   "source": [
    "variance = 1\n",
    "bias = 1 "
   ]
  },
  {
   "cell_type": "code",
   "execution_count": 4,
   "id": "2ee4e230",
   "metadata": {
    "execution": {
     "iopub.execute_input": "2022-03-08T20:54:40.661559Z",
     "iopub.status.busy": "2022-03-08T20:54:40.661165Z",
     "iopub.status.idle": "2022-03-08T20:54:40.662214Z",
     "shell.execute_reply": "2022-03-08T20:54:40.662494Z"
    },
    "papermill": {
     "duration": 0.009626,
     "end_time": "2022-03-08T20:54:40.662597",
     "exception": false,
     "start_time": "2022-03-08T20:54:40.652971",
     "status": "completed"
    },
    "tags": [
     "injected-parameters"
    ]
   },
   "outputs": [],
   "source": [
    "# Parameters\n",
    "variance = 0.1\n",
    "bias = 0.01\n"
   ]
  },
  {
   "cell_type": "markdown",
   "id": "391cdbfd",
   "metadata": {
    "id": "391cdbfd",
    "papermill": {
     "duration": 0.006685,
     "end_time": "2022-03-08T20:54:40.676067",
     "exception": false,
     "start_time": "2022-03-08T20:54:40.669382",
     "status": "completed"
    },
    "tags": []
   },
   "source": [
    "## Dataset \n"
   ]
  },
  {
   "cell_type": "code",
   "execution_count": 5,
   "id": "5b51f161",
   "metadata": {
    "execution": {
     "iopub.execute_input": "2022-03-08T20:54:40.691315Z",
     "iopub.status.busy": "2022-03-08T20:54:40.690957Z",
     "iopub.status.idle": "2022-03-08T20:54:40.692299Z",
     "shell.execute_reply": "2022-03-08T20:54:40.692538Z"
    },
    "id": "5b51f161",
    "papermill": {
     "duration": 0.00985,
     "end_time": "2022-03-08T20:54:40.692640",
     "exception": false,
     "start_time": "2022-03-08T20:54:40.682790",
     "status": "completed"
    },
    "tags": []
   },
   "outputs": [],
   "source": [
    "#Parameters \n",
    "n_features = 5\n",
    "n_samples= 100\n",
    "n_target = 1 "
   ]
  },
  {
   "cell_type": "code",
   "execution_count": 6,
   "id": "5d6eced4",
   "metadata": {
    "execution": {
     "iopub.execute_input": "2022-03-08T20:54:40.709196Z",
     "iopub.status.busy": "2022-03-08T20:54:40.707887Z",
     "iopub.status.idle": "2022-03-08T20:54:40.714016Z",
     "shell.execute_reply": "2022-03-08T20:54:40.714256Z"
    },
    "id": "5d6eced4",
    "papermill": {
     "duration": 0.014914,
     "end_time": "2022-03-08T20:54:40.714364",
     "exception": false,
     "start_time": "2022-03-08T20:54:40.699450",
     "status": "completed"
    },
    "tags": []
   },
   "outputs": [
    {
     "name": "stdout",
     "output_type": "stream",
     "text": [
      "         X0        X1        X2        X3        X4         Y\n",
      "0 -1.484860  1.208274  0.974167 -0.735900  0.959824 -1.060642\n",
      "1 -1.196509  1.220225 -1.113085 -0.018108  1.634016  0.118671\n",
      "2 -0.673801  0.815523  0.928402  1.302690  1.631502  1.483853\n",
      "3  0.594909 -0.476996  0.128629  1.128529  1.329991  1.154125\n",
      "4 -0.865189  0.311407  0.269788 -0.902316  1.021597 -0.786658\n"
     ]
    }
   ],
   "source": [
    "X,Y = friedman1Dataset.friedman1_data(n_samples,n_features)"
   ]
  },
  {
   "cell_type": "code",
   "execution_count": 7,
   "id": "fe007438",
   "metadata": {
    "execution": {
     "iopub.execute_input": "2022-03-08T20:54:40.730865Z",
     "iopub.status.busy": "2022-03-08T20:54:40.730509Z",
     "iopub.status.idle": "2022-03-08T20:54:40.732023Z",
     "shell.execute_reply": "2022-03-08T20:54:40.732266Z"
    },
    "id": "fe007438",
    "papermill": {
     "duration": 0.010925,
     "end_time": "2022-03-08T20:54:40.732370",
     "exception": false,
     "start_time": "2022-03-08T20:54:40.721445",
     "status": "completed"
    },
    "tags": []
   },
   "outputs": [],
   "source": [
    "#Train test split for dataset \n",
    "X_train,X_test,Y_train,Y_test = train_test_split(X,Y,test_size = 0.2)\n",
    "train_data = dataset.CustomDataset(X_train,Y_train)\n",
    "test_data = dataset.CustomDataset(X_test,Y_test)\n"
   ]
  },
  {
   "cell_type": "markdown",
   "id": "a9a1af34",
   "metadata": {
    "id": "a9a1af34",
    "papermill": {
     "duration": 0.007011,
     "end_time": "2022-03-08T20:54:40.746583",
     "exception": false,
     "start_time": "2022-03-08T20:54:40.739572",
     "status": "completed"
    },
    "tags": []
   },
   "source": [
    "## Training Parameters "
   ]
  },
  {
   "cell_type": "code",
   "execution_count": 8,
   "id": "952b7fc8",
   "metadata": {
    "execution": {
     "iopub.execute_input": "2022-03-08T20:54:40.762760Z",
     "iopub.status.busy": "2022-03-08T20:54:40.762404Z",
     "iopub.status.idle": "2022-03-08T20:54:40.763799Z",
     "shell.execute_reply": "2022-03-08T20:54:40.764054Z"
    },
    "id": "952b7fc8",
    "papermill": {
     "duration": 0.010633,
     "end_time": "2022-03-08T20:54:40.764165",
     "exception": false,
     "start_time": "2022-03-08T20:54:40.753532",
     "status": "completed"
    },
    "tags": []
   },
   "outputs": [],
   "source": [
    "batch_size = 32\n",
    "n_epochs = 1000\n",
    "#Select the device \n",
    "device = torch.device('cuda' if torch.cuda.is_available() else 'cpu')"
   ]
  },
  {
   "cell_type": "markdown",
   "id": "a95e1600",
   "metadata": {
    "id": "a95e1600",
    "papermill": {
     "duration": 0.006997,
     "end_time": "2022-03-08T20:54:40.778298",
     "exception": false,
     "start_time": "2022-03-08T20:54:40.771301",
     "status": "completed"
    },
    "tags": []
   },
   "source": [
    "# ABC Pre-generator Model \n",
    "\n",
    "1. The catboost model is used as a pre-generator model for the ABC-GAN. \n",
    "2. The model is first trained on the entire dataset \n",
    "3. It generats X,Y pairs and we add some Gaussian noise with mean 0 and variance 1 to it which is then feed as input to the generator.\n"
   ]
  },
  {
   "cell_type": "code",
   "execution_count": 9,
   "id": "ff8ce7bd",
   "metadata": {
    "execution": {
     "iopub.execute_input": "2022-03-08T20:54:40.795871Z",
     "iopub.status.busy": "2022-03-08T20:54:40.795476Z",
     "iopub.status.idle": "2022-03-08T20:54:41.426527Z",
     "shell.execute_reply": "2022-03-08T20:54:41.426822Z"
    },
    "id": "ff8ce7bd",
    "papermill": {
     "duration": 0.641624,
     "end_time": "2022-03-08T20:54:41.426945",
     "exception": false,
     "start_time": "2022-03-08T20:54:40.785321",
     "status": "completed"
    },
    "tags": []
   },
   "outputs": [
    {
     "name": "stdout",
     "output_type": "stream",
     "text": [
      "Learning rate set to 0.024897\n",
      "0:\tlearn: 0.9550290\ttotal: 69.3ms\tremaining: 1m 9s\n",
      "1:\tlearn: 0.9471177\ttotal: 69.9ms\tremaining: 34.9s\n",
      "2:\tlearn: 0.9385079\ttotal: 70.7ms\tremaining: 23.5s\n",
      "3:\tlearn: 0.9286904\ttotal: 71.2ms\tremaining: 17.7s\n",
      "4:\tlearn: 0.9199027\ttotal: 71.7ms\tremaining: 14.3s\n",
      "5:\tlearn: 0.9122549\ttotal: 72.4ms\tremaining: 12s\n",
      "6:\tlearn: 0.9024390\ttotal: 72.9ms\tremaining: 10.3s\n",
      "7:\tlearn: 0.8946443\ttotal: 73.5ms\tremaining: 9.11s\n",
      "8:\tlearn: 0.8866785\ttotal: 74ms\tremaining: 8.15s\n",
      "9:\tlearn: 0.8788816\ttotal: 74.6ms\tremaining: 7.38s\n",
      "10:\tlearn: 0.8723057\ttotal: 75.2ms\tremaining: 6.76s\n",
      "11:\tlearn: 0.8641662\ttotal: 75.9ms\tremaining: 6.25s\n",
      "12:\tlearn: 0.8547584\ttotal: 76.3ms\tremaining: 5.79s\n",
      "13:\tlearn: 0.8481191\ttotal: 76.9ms\tremaining: 5.41s\n",
      "14:\tlearn: 0.8431369\ttotal: 77.4ms\tremaining: 5.08s\n",
      "15:\tlearn: 0.8347574\ttotal: 77.9ms\tremaining: 4.79s\n",
      "16:\tlearn: 0.8265989\ttotal: 78.6ms\tremaining: 4.54s\n",
      "17:\tlearn: 0.8189348\ttotal: 79ms\tremaining: 4.31s\n",
      "18:\tlearn: 0.8112707\ttotal: 79.5ms\tremaining: 4.11s\n",
      "19:\tlearn: 0.8042890\ttotal: 80ms\tremaining: 3.92s\n",
      "20:\tlearn: 0.7977940\ttotal: 80.5ms\tremaining: 3.75s\n",
      "21:\tlearn: 0.7900506\ttotal: 81ms\tremaining: 3.6s\n",
      "22:\tlearn: 0.7825366\ttotal: 81.5ms\tremaining: 3.46s\n",
      "23:\tlearn: 0.7763524\ttotal: 82ms\tremaining: 3.33s\n",
      "24:\tlearn: 0.7695214\ttotal: 82.5ms\tremaining: 3.21s\n",
      "25:\tlearn: 0.7630958\ttotal: 82.9ms\tremaining: 3.11s\n",
      "26:\tlearn: 0.7566386\ttotal: 83.6ms\tremaining: 3.01s\n",
      "27:\tlearn: 0.7488181\ttotal: 84ms\tremaining: 2.92s\n",
      "28:\tlearn: 0.7416549\ttotal: 84.5ms\tremaining: 2.83s\n",
      "29:\tlearn: 0.7351479\ttotal: 85ms\tremaining: 2.75s\n",
      "30:\tlearn: 0.7279755\ttotal: 85.4ms\tremaining: 2.67s\n",
      "31:\tlearn: 0.7216874\ttotal: 86ms\tremaining: 2.6s\n",
      "32:\tlearn: 0.7145535\ttotal: 86.3ms\tremaining: 2.53s\n",
      "33:\tlearn: 0.7083543\ttotal: 86.8ms\tremaining: 2.46s\n",
      "34:\tlearn: 0.7024324\ttotal: 87.4ms\tremaining: 2.41s\n",
      "35:\tlearn: 0.6983818\ttotal: 87.8ms\tremaining: 2.35s\n",
      "36:\tlearn: 0.6927248\ttotal: 88.3ms\tremaining: 2.3s\n",
      "37:\tlearn: 0.6858630\ttotal: 88.8ms\tremaining: 2.25s\n",
      "38:\tlearn: 0.6788646\ttotal: 89.3ms\tremaining: 2.2s\n",
      "39:\tlearn: 0.6728128\ttotal: 89.7ms\tremaining: 2.15s\n",
      "40:\tlearn: 0.6679817\ttotal: 90.1ms\tremaining: 2.11s\n",
      "41:\tlearn: 0.6614725\ttotal: 90.7ms\tremaining: 2.07s\n",
      "42:\tlearn: 0.6564954\ttotal: 91.1ms\tremaining: 2.03s\n",
      "43:\tlearn: 0.6506817\ttotal: 91.5ms\tremaining: 1.99s\n",
      "44:\tlearn: 0.6444873\ttotal: 92ms\tremaining: 1.95s\n",
      "45:\tlearn: 0.6392385\ttotal: 92.4ms\tremaining: 1.92s\n",
      "46:\tlearn: 0.6349128\ttotal: 92.9ms\tremaining: 1.88s\n",
      "47:\tlearn: 0.6288820\ttotal: 93.3ms\tremaining: 1.85s\n",
      "48:\tlearn: 0.6234833\ttotal: 93.7ms\tremaining: 1.82s\n",
      "49:\tlearn: 0.6177095\ttotal: 94.1ms\tremaining: 1.79s\n",
      "50:\tlearn: 0.6120782\ttotal: 94.6ms\tremaining: 1.76s\n",
      "51:\tlearn: 0.6076961\ttotal: 95.1ms\tremaining: 1.73s\n",
      "52:\tlearn: 0.6023849\ttotal: 95.5ms\tremaining: 1.71s\n",
      "53:\tlearn: 0.5975789\ttotal: 95.9ms\tremaining: 1.68s\n",
      "54:\tlearn: 0.5923258\ttotal: 96.3ms\tremaining: 1.65s\n",
      "55:\tlearn: 0.5890741\ttotal: 96.7ms\tremaining: 1.63s\n",
      "56:\tlearn: 0.5837595\ttotal: 97.1ms\tremaining: 1.61s\n",
      "57:\tlearn: 0.5786969\ttotal: 97.6ms\tremaining: 1.58s\n",
      "58:\tlearn: 0.5757583\ttotal: 98ms\tremaining: 1.56s\n",
      "59:\tlearn: 0.5720266\ttotal: 98.4ms\tremaining: 1.54s\n",
      "60:\tlearn: 0.5676902\ttotal: 98.9ms\tremaining: 1.52s\n",
      "61:\tlearn: 0.5633284\ttotal: 99.3ms\tremaining: 1.5s\n",
      "62:\tlearn: 0.5587430\ttotal: 99.8ms\tremaining: 1.48s\n",
      "63:\tlearn: 0.5539757\ttotal: 100ms\tremaining: 1.47s\n",
      "64:\tlearn: 0.5494447\ttotal: 101ms\tremaining: 1.45s\n",
      "65:\tlearn: 0.5443787\ttotal: 101ms\tremaining: 1.43s\n",
      "66:\tlearn: 0.5411128\ttotal: 102ms\tremaining: 1.41s\n",
      "67:\tlearn: 0.5380658\ttotal: 102ms\tremaining: 1.4s\n",
      "68:\tlearn: 0.5333808\ttotal: 103ms\tremaining: 1.38s\n",
      "69:\tlearn: 0.5292520\ttotal: 103ms\tremaining: 1.37s\n",
      "70:\tlearn: 0.5253557\ttotal: 103ms\tremaining: 1.35s\n",
      "71:\tlearn: 0.5209362\ttotal: 104ms\tremaining: 1.34s\n",
      "72:\tlearn: 0.5166246\ttotal: 104ms\tremaining: 1.32s\n",
      "73:\tlearn: 0.5124402\ttotal: 105ms\tremaining: 1.31s\n",
      "74:\tlearn: 0.5087503\ttotal: 105ms\tremaining: 1.3s\n",
      "75:\tlearn: 0.5050795\ttotal: 106ms\tremaining: 1.29s\n",
      "76:\tlearn: 0.5012418\ttotal: 106ms\tremaining: 1.27s\n",
      "77:\tlearn: 0.4975542\ttotal: 107ms\tremaining: 1.26s\n",
      "78:\tlearn: 0.4949539\ttotal: 107ms\tremaining: 1.25s\n",
      "79:\tlearn: 0.4913348\ttotal: 108ms\tremaining: 1.24s\n",
      "80:\tlearn: 0.4874768\ttotal: 108ms\tremaining: 1.23s\n",
      "81:\tlearn: 0.4833190\ttotal: 108ms\tremaining: 1.21s\n",
      "82:\tlearn: 0.4792714\ttotal: 109ms\tremaining: 1.2s\n",
      "83:\tlearn: 0.4755364\ttotal: 109ms\tremaining: 1.19s\n"
     ]
    },
    {
     "name": "stdout",
     "output_type": "stream",
     "text": [
      "84:\tlearn: 0.4721783\ttotal: 110ms\tremaining: 1.18s\n",
      "85:\tlearn: 0.4693698\ttotal: 111ms\tremaining: 1.17s\n",
      "86:\tlearn: 0.4655493\ttotal: 111ms\tremaining: 1.17s\n",
      "87:\tlearn: 0.4614047\ttotal: 112ms\tremaining: 1.16s\n",
      "88:\tlearn: 0.4575514\ttotal: 112ms\tremaining: 1.15s\n",
      "89:\tlearn: 0.4544577\ttotal: 112ms\tremaining: 1.14s\n",
      "90:\tlearn: 0.4504682\ttotal: 113ms\tremaining: 1.13s\n",
      "91:\tlearn: 0.4469377\ttotal: 113ms\tremaining: 1.12s\n",
      "92:\tlearn: 0.4434354\ttotal: 114ms\tremaining: 1.11s\n",
      "93:\tlearn: 0.4398575\ttotal: 114ms\tremaining: 1.1s\n",
      "94:\tlearn: 0.4369672\ttotal: 115ms\tremaining: 1.09s\n",
      "95:\tlearn: 0.4334095\ttotal: 115ms\tremaining: 1.08s\n",
      "96:\tlearn: 0.4311183\ttotal: 115ms\tremaining: 1.07s\n",
      "97:\tlearn: 0.4277994\ttotal: 116ms\tremaining: 1.07s\n",
      "98:\tlearn: 0.4250886\ttotal: 116ms\tremaining: 1.06s\n",
      "99:\tlearn: 0.4217725\ttotal: 117ms\tremaining: 1.05s\n",
      "100:\tlearn: 0.4189985\ttotal: 118ms\tremaining: 1.05s\n",
      "101:\tlearn: 0.4159712\ttotal: 118ms\tremaining: 1.04s\n",
      "102:\tlearn: 0.4127684\ttotal: 118ms\tremaining: 1.03s\n",
      "103:\tlearn: 0.4099028\ttotal: 119ms\tremaining: 1.02s\n",
      "104:\tlearn: 0.4064837\ttotal: 119ms\tremaining: 1.01s\n",
      "105:\tlearn: 0.4032576\ttotal: 120ms\tremaining: 1.01s\n",
      "106:\tlearn: 0.4002914\ttotal: 120ms\tremaining: 1s\n",
      "107:\tlearn: 0.3969897\ttotal: 121ms\tremaining: 997ms\n",
      "108:\tlearn: 0.3943027\ttotal: 121ms\tremaining: 990ms\n",
      "109:\tlearn: 0.3918454\ttotal: 122ms\tremaining: 983ms\n",
      "110:\tlearn: 0.3894506\ttotal: 122ms\tremaining: 977ms\n",
      "111:\tlearn: 0.3873835\ttotal: 122ms\tremaining: 970ms\n",
      "112:\tlearn: 0.3847446\ttotal: 123ms\tremaining: 964ms\n",
      "113:\tlearn: 0.3818831\ttotal: 123ms\tremaining: 958ms\n",
      "114:\tlearn: 0.3789969\ttotal: 124ms\tremaining: 952ms\n",
      "115:\tlearn: 0.3770709\ttotal: 124ms\tremaining: 946ms\n",
      "116:\tlearn: 0.3743057\ttotal: 125ms\tremaining: 940ms\n",
      "117:\tlearn: 0.3717075\ttotal: 125ms\tremaining: 935ms\n",
      "118:\tlearn: 0.3692883\ttotal: 125ms\tremaining: 929ms\n",
      "119:\tlearn: 0.3667415\ttotal: 126ms\tremaining: 924ms\n",
      "120:\tlearn: 0.3648049\ttotal: 127ms\tremaining: 919ms\n",
      "121:\tlearn: 0.3623355\ttotal: 127ms\tremaining: 915ms\n",
      "122:\tlearn: 0.3598374\ttotal: 127ms\tremaining: 909ms\n",
      "123:\tlearn: 0.3572645\ttotal: 128ms\tremaining: 904ms\n",
      "124:\tlearn: 0.3541661\ttotal: 128ms\tremaining: 898ms\n",
      "125:\tlearn: 0.3517048\ttotal: 129ms\tremaining: 895ms\n",
      "126:\tlearn: 0.3494019\ttotal: 129ms\tremaining: 889ms\n",
      "127:\tlearn: 0.3475726\ttotal: 130ms\tremaining: 885ms\n",
      "128:\tlearn: 0.3445516\ttotal: 130ms\tremaining: 880ms\n",
      "129:\tlearn: 0.3426756\ttotal: 131ms\tremaining: 875ms\n",
      "130:\tlearn: 0.3404773\ttotal: 131ms\tremaining: 872ms\n",
      "131:\tlearn: 0.3383351\ttotal: 132ms\tremaining: 866ms\n",
      "132:\tlearn: 0.3364916\ttotal: 132ms\tremaining: 862ms\n",
      "133:\tlearn: 0.3340933\ttotal: 133ms\tremaining: 858ms\n",
      "134:\tlearn: 0.3318032\ttotal: 133ms\tremaining: 854ms\n",
      "135:\tlearn: 0.3296532\ttotal: 134ms\tremaining: 849ms\n",
      "136:\tlearn: 0.3270521\ttotal: 134ms\tremaining: 845ms\n",
      "137:\tlearn: 0.3250235\ttotal: 135ms\tremaining: 841ms\n",
      "138:\tlearn: 0.3228667\ttotal: 135ms\tremaining: 837ms\n",
      "139:\tlearn: 0.3206121\ttotal: 135ms\tremaining: 832ms\n",
      "140:\tlearn: 0.3183543\ttotal: 136ms\tremaining: 827ms\n",
      "141:\tlearn: 0.3158210\ttotal: 136ms\tremaining: 824ms\n",
      "142:\tlearn: 0.3140943\ttotal: 137ms\tremaining: 820ms\n",
      "143:\tlearn: 0.3120450\ttotal: 137ms\tremaining: 816ms\n",
      "144:\tlearn: 0.3097702\ttotal: 138ms\tremaining: 813ms\n",
      "145:\tlearn: 0.3077534\ttotal: 138ms\tremaining: 809ms\n",
      "146:\tlearn: 0.3058435\ttotal: 139ms\tremaining: 805ms\n",
      "147:\tlearn: 0.3041219\ttotal: 139ms\tremaining: 800ms\n",
      "148:\tlearn: 0.3025459\ttotal: 140ms\tremaining: 797ms\n",
      "149:\tlearn: 0.3003879\ttotal: 140ms\tremaining: 794ms\n",
      "150:\tlearn: 0.2985264\ttotal: 141ms\tremaining: 790ms\n",
      "151:\tlearn: 0.2969328\ttotal: 141ms\tremaining: 787ms\n",
      "152:\tlearn: 0.2954616\ttotal: 141ms\tremaining: 783ms\n",
      "153:\tlearn: 0.2937106\ttotal: 142ms\tremaining: 780ms\n",
      "154:\tlearn: 0.2917678\ttotal: 142ms\tremaining: 776ms\n",
      "155:\tlearn: 0.2898927\ttotal: 143ms\tremaining: 773ms\n",
      "156:\tlearn: 0.2880902\ttotal: 143ms\tremaining: 770ms\n",
      "157:\tlearn: 0.2862571\ttotal: 144ms\tremaining: 767ms\n",
      "158:\tlearn: 0.2841012\ttotal: 144ms\tremaining: 764ms\n",
      "159:\tlearn: 0.2824384\ttotal: 145ms\tremaining: 760ms\n",
      "160:\tlearn: 0.2803336\ttotal: 145ms\tremaining: 757ms\n",
      "161:\tlearn: 0.2784061\ttotal: 146ms\tremaining: 753ms\n",
      "162:\tlearn: 0.2767267\ttotal: 146ms\tremaining: 751ms\n",
      "163:\tlearn: 0.2751765\ttotal: 147ms\tremaining: 748ms\n",
      "164:\tlearn: 0.2733767\ttotal: 147ms\tremaining: 745ms\n",
      "165:\tlearn: 0.2718118\ttotal: 148ms\tremaining: 743ms\n",
      "166:\tlearn: 0.2697108\ttotal: 148ms\tremaining: 740ms\n",
      "167:\tlearn: 0.2677569\ttotal: 149ms\tremaining: 737ms\n",
      "168:\tlearn: 0.2660053\ttotal: 149ms\tremaining: 734ms\n",
      "169:\tlearn: 0.2643496\ttotal: 150ms\tremaining: 732ms\n",
      "170:\tlearn: 0.2630555\ttotal: 151ms\tremaining: 730ms\n",
      "171:\tlearn: 0.2618204\ttotal: 151ms\tremaining: 728ms\n",
      "172:\tlearn: 0.2602616\ttotal: 152ms\tremaining: 725ms\n",
      "173:\tlearn: 0.2587418\ttotal: 152ms\tremaining: 723ms\n",
      "174:\tlearn: 0.2575223\ttotal: 153ms\tremaining: 720ms\n",
      "175:\tlearn: 0.2559327\ttotal: 153ms\tremaining: 718ms\n",
      "176:\tlearn: 0.2539706\ttotal: 154ms\tremaining: 715ms\n",
      "177:\tlearn: 0.2529113\ttotal: 154ms\tremaining: 712ms\n",
      "178:\tlearn: 0.2511028\ttotal: 155ms\tremaining: 710ms\n",
      "179:\tlearn: 0.2494722\ttotal: 155ms\tremaining: 707ms\n",
      "180:\tlearn: 0.2478884\ttotal: 156ms\tremaining: 705ms\n",
      "181:\tlearn: 0.2460574\ttotal: 156ms\tremaining: 702ms\n",
      "182:\tlearn: 0.2444552\ttotal: 157ms\tremaining: 700ms\n",
      "183:\tlearn: 0.2428737\ttotal: 157ms\tremaining: 697ms\n",
      "184:\tlearn: 0.2415432\ttotal: 158ms\tremaining: 695ms\n",
      "185:\tlearn: 0.2404564\ttotal: 158ms\tremaining: 692ms\n",
      "186:\tlearn: 0.2389085\ttotal: 159ms\tremaining: 689ms\n",
      "187:\tlearn: 0.2373344\ttotal: 159ms\tremaining: 687ms\n",
      "188:\tlearn: 0.2360359\ttotal: 159ms\tremaining: 684ms\n",
      "189:\tlearn: 0.2346642\ttotal: 160ms\tremaining: 682ms\n",
      "190:\tlearn: 0.2334886\ttotal: 161ms\tremaining: 680ms\n",
      "191:\tlearn: 0.2321206\ttotal: 161ms\tremaining: 679ms\n",
      "192:\tlearn: 0.2305236\ttotal: 162ms\tremaining: 676ms\n",
      "193:\tlearn: 0.2292674\ttotal: 162ms\tremaining: 674ms\n",
      "194:\tlearn: 0.2275105\ttotal: 163ms\tremaining: 671ms\n",
      "195:\tlearn: 0.2259212\ttotal: 163ms\tremaining: 669ms\n",
      "196:\tlearn: 0.2245426\ttotal: 164ms\tremaining: 668ms\n",
      "197:\tlearn: 0.2231140\ttotal: 164ms\tremaining: 665ms\n",
      "198:\tlearn: 0.2216940\ttotal: 165ms\tremaining: 664ms\n",
      "199:\tlearn: 0.2203189\ttotal: 165ms\tremaining: 661ms\n",
      "200:\tlearn: 0.2193630\ttotal: 166ms\tremaining: 659ms\n",
      "201:\tlearn: 0.2176754\ttotal: 166ms\tremaining: 657ms\n",
      "202:\tlearn: 0.2161559\ttotal: 167ms\tremaining: 655ms\n",
      "203:\tlearn: 0.2150459\ttotal: 168ms\tremaining: 654ms\n",
      "204:\tlearn: 0.2138676\ttotal: 168ms\tremaining: 652ms\n",
      "205:\tlearn: 0.2128481\ttotal: 169ms\tremaining: 650ms\n",
      "206:\tlearn: 0.2115361\ttotal: 169ms\tremaining: 648ms\n",
      "207:\tlearn: 0.2104865\ttotal: 170ms\tremaining: 646ms\n",
      "208:\tlearn: 0.2097968\ttotal: 170ms\tremaining: 645ms\n",
      "209:\tlearn: 0.2084244\ttotal: 171ms\tremaining: 643ms\n",
      "210:\tlearn: 0.2073041\ttotal: 171ms\tremaining: 641ms\n",
      "211:\tlearn: 0.2062306\ttotal: 172ms\tremaining: 639ms\n",
      "212:\tlearn: 0.2050285\ttotal: 172ms\tremaining: 637ms\n",
      "213:\tlearn: 0.2042217\ttotal: 173ms\tremaining: 635ms\n",
      "214:\tlearn: 0.2027192\ttotal: 173ms\tremaining: 633ms\n",
      "215:\tlearn: 0.2012282\ttotal: 174ms\tremaining: 630ms\n",
      "216:\tlearn: 0.1999440\ttotal: 174ms\tremaining: 629ms\n",
      "217:\tlearn: 0.1986278\ttotal: 175ms\tremaining: 626ms\n",
      "218:\tlearn: 0.1975191\ttotal: 175ms\tremaining: 624ms\n",
      "219:\tlearn: 0.1965752\ttotal: 176ms\tremaining: 622ms\n",
      "220:\tlearn: 0.1957634\ttotal: 176ms\tremaining: 620ms\n",
      "221:\tlearn: 0.1947361\ttotal: 176ms\tremaining: 618ms\n",
      "222:\tlearn: 0.1936962\ttotal: 177ms\tremaining: 617ms\n",
      "223:\tlearn: 0.1923756\ttotal: 178ms\tremaining: 615ms\n",
      "224:\tlearn: 0.1911184\ttotal: 178ms\tremaining: 614ms\n",
      "225:\tlearn: 0.1901172\ttotal: 178ms\tremaining: 611ms\n",
      "226:\tlearn: 0.1888956\ttotal: 179ms\tremaining: 609ms\n",
      "227:\tlearn: 0.1877516\ttotal: 179ms\tremaining: 607ms\n",
      "228:\tlearn: 0.1868098\ttotal: 180ms\tremaining: 606ms\n",
      "229:\tlearn: 0.1855962\ttotal: 180ms\tremaining: 604ms\n",
      "230:\tlearn: 0.1842143\ttotal: 181ms\tremaining: 602ms\n",
      "231:\tlearn: 0.1829905\ttotal: 181ms\tremaining: 600ms\n",
      "232:\tlearn: 0.1820191\ttotal: 182ms\tremaining: 598ms\n",
      "233:\tlearn: 0.1808170\ttotal: 182ms\tremaining: 597ms\n",
      "234:\tlearn: 0.1798072\ttotal: 183ms\tremaining: 595ms\n",
      "235:\tlearn: 0.1791311\ttotal: 183ms\tremaining: 593ms\n",
      "236:\tlearn: 0.1779258\ttotal: 184ms\tremaining: 592ms\n",
      "237:\tlearn: 0.1771901\ttotal: 184ms\tremaining: 590ms\n",
      "238:\tlearn: 0.1763174\ttotal: 185ms\tremaining: 588ms\n",
      "239:\tlearn: 0.1751693\ttotal: 185ms\tremaining: 587ms\n",
      "240:\tlearn: 0.1741605\ttotal: 186ms\tremaining: 586ms\n",
      "241:\tlearn: 0.1731002\ttotal: 187ms\tremaining: 584ms\n",
      "242:\tlearn: 0.1722771\ttotal: 187ms\tremaining: 582ms\n",
      "243:\tlearn: 0.1711366\ttotal: 187ms\tremaining: 581ms\n"
     ]
    },
    {
     "name": "stdout",
     "output_type": "stream",
     "text": [
      "244:\tlearn: 0.1698023\ttotal: 188ms\tremaining: 580ms\n",
      "245:\tlearn: 0.1688081\ttotal: 189ms\tremaining: 579ms\n",
      "246:\tlearn: 0.1677627\ttotal: 189ms\tremaining: 577ms\n",
      "247:\tlearn: 0.1666461\ttotal: 190ms\tremaining: 575ms\n",
      "248:\tlearn: 0.1656909\ttotal: 190ms\tremaining: 573ms\n",
      "249:\tlearn: 0.1647976\ttotal: 190ms\tremaining: 571ms\n",
      "250:\tlearn: 0.1635354\ttotal: 191ms\tremaining: 570ms\n",
      "251:\tlearn: 0.1625587\ttotal: 191ms\tremaining: 568ms\n",
      "252:\tlearn: 0.1615058\ttotal: 192ms\tremaining: 566ms\n",
      "253:\tlearn: 0.1605080\ttotal: 192ms\tremaining: 565ms\n",
      "254:\tlearn: 0.1593991\ttotal: 193ms\tremaining: 563ms\n",
      "255:\tlearn: 0.1583910\ttotal: 193ms\tremaining: 562ms\n",
      "256:\tlearn: 0.1574568\ttotal: 194ms\tremaining: 560ms\n",
      "257:\tlearn: 0.1563310\ttotal: 194ms\tremaining: 559ms\n",
      "258:\tlearn: 0.1556558\ttotal: 195ms\tremaining: 557ms\n",
      "259:\tlearn: 0.1548270\ttotal: 195ms\tremaining: 556ms\n",
      "260:\tlearn: 0.1539139\ttotal: 196ms\tremaining: 554ms\n",
      "261:\tlearn: 0.1526328\ttotal: 196ms\tremaining: 553ms\n",
      "262:\tlearn: 0.1516947\ttotal: 197ms\tremaining: 552ms\n",
      "263:\tlearn: 0.1507967\ttotal: 197ms\tremaining: 550ms\n",
      "264:\tlearn: 0.1498818\ttotal: 198ms\tremaining: 548ms\n",
      "265:\tlearn: 0.1488914\ttotal: 198ms\tremaining: 547ms\n",
      "266:\tlearn: 0.1480736\ttotal: 199ms\tremaining: 546ms\n",
      "267:\tlearn: 0.1471060\ttotal: 199ms\tremaining: 545ms\n",
      "268:\tlearn: 0.1461173\ttotal: 200ms\tremaining: 544ms\n",
      "269:\tlearn: 0.1451384\ttotal: 201ms\tremaining: 543ms\n",
      "270:\tlearn: 0.1443233\ttotal: 201ms\tremaining: 541ms\n",
      "271:\tlearn: 0.1437112\ttotal: 202ms\tremaining: 540ms\n",
      "272:\tlearn: 0.1428949\ttotal: 202ms\tremaining: 539ms\n",
      "273:\tlearn: 0.1419804\ttotal: 203ms\tremaining: 537ms\n",
      "274:\tlearn: 0.1409778\ttotal: 203ms\tremaining: 536ms\n",
      "275:\tlearn: 0.1399937\ttotal: 204ms\tremaining: 535ms\n",
      "276:\tlearn: 0.1390578\ttotal: 204ms\tremaining: 533ms\n",
      "277:\tlearn: 0.1381599\ttotal: 205ms\tremaining: 532ms\n",
      "278:\tlearn: 0.1374259\ttotal: 205ms\tremaining: 531ms\n",
      "279:\tlearn: 0.1364954\ttotal: 206ms\tremaining: 529ms\n",
      "280:\tlearn: 0.1357255\ttotal: 206ms\tremaining: 528ms\n",
      "281:\tlearn: 0.1347762\ttotal: 207ms\tremaining: 526ms\n",
      "282:\tlearn: 0.1339406\ttotal: 207ms\tremaining: 525ms\n",
      "283:\tlearn: 0.1331338\ttotal: 208ms\tremaining: 524ms\n",
      "284:\tlearn: 0.1320909\ttotal: 208ms\tremaining: 522ms\n",
      "285:\tlearn: 0.1312535\ttotal: 209ms\tremaining: 521ms\n",
      "286:\tlearn: 0.1304461\ttotal: 209ms\tremaining: 520ms\n",
      "287:\tlearn: 0.1296271\ttotal: 210ms\tremaining: 518ms\n",
      "288:\tlearn: 0.1288833\ttotal: 210ms\tremaining: 517ms\n",
      "289:\tlearn: 0.1283181\ttotal: 211ms\tremaining: 516ms\n",
      "290:\tlearn: 0.1275568\ttotal: 211ms\tremaining: 515ms\n",
      "291:\tlearn: 0.1268571\ttotal: 212ms\tremaining: 514ms\n",
      "292:\tlearn: 0.1260152\ttotal: 212ms\tremaining: 512ms\n",
      "293:\tlearn: 0.1254344\ttotal: 213ms\tremaining: 511ms\n",
      "294:\tlearn: 0.1245559\ttotal: 213ms\tremaining: 510ms\n",
      "295:\tlearn: 0.1239187\ttotal: 214ms\tremaining: 509ms\n",
      "296:\tlearn: 0.1231127\ttotal: 214ms\tremaining: 508ms\n",
      "297:\tlearn: 0.1223961\ttotal: 215ms\tremaining: 507ms\n",
      "298:\tlearn: 0.1217101\ttotal: 215ms\tremaining: 505ms\n",
      "299:\tlearn: 0.1208991\ttotal: 216ms\tremaining: 504ms\n",
      "300:\tlearn: 0.1202242\ttotal: 216ms\tremaining: 502ms\n",
      "301:\tlearn: 0.1195296\ttotal: 217ms\tremaining: 501ms\n",
      "302:\tlearn: 0.1187325\ttotal: 217ms\tremaining: 500ms\n",
      "303:\tlearn: 0.1178620\ttotal: 218ms\tremaining: 499ms\n",
      "304:\tlearn: 0.1171346\ttotal: 218ms\tremaining: 497ms\n",
      "305:\tlearn: 0.1164133\ttotal: 219ms\tremaining: 496ms\n",
      "306:\tlearn: 0.1157328\ttotal: 219ms\tremaining: 495ms\n",
      "307:\tlearn: 0.1150259\ttotal: 220ms\tremaining: 494ms\n",
      "308:\tlearn: 0.1143543\ttotal: 220ms\tremaining: 493ms\n",
      "309:\tlearn: 0.1136160\ttotal: 221ms\tremaining: 492ms\n",
      "310:\tlearn: 0.1129173\ttotal: 222ms\tremaining: 491ms\n",
      "311:\tlearn: 0.1122705\ttotal: 222ms\tremaining: 490ms\n",
      "312:\tlearn: 0.1115947\ttotal: 223ms\tremaining: 489ms\n",
      "313:\tlearn: 0.1108405\ttotal: 223ms\tremaining: 488ms\n",
      "314:\tlearn: 0.1102689\ttotal: 224ms\tremaining: 486ms\n",
      "315:\tlearn: 0.1096365\ttotal: 224ms\tremaining: 485ms\n",
      "316:\tlearn: 0.1089794\ttotal: 224ms\tremaining: 484ms\n",
      "317:\tlearn: 0.1083222\ttotal: 225ms\tremaining: 483ms\n",
      "318:\tlearn: 0.1077046\ttotal: 225ms\tremaining: 481ms\n",
      "319:\tlearn: 0.1071148\ttotal: 226ms\tremaining: 480ms\n",
      "320:\tlearn: 0.1067557\ttotal: 226ms\tremaining: 479ms\n",
      "321:\tlearn: 0.1061349\ttotal: 227ms\tremaining: 478ms\n",
      "322:\tlearn: 0.1055169\ttotal: 228ms\tremaining: 477ms\n",
      "323:\tlearn: 0.1049715\ttotal: 228ms\tremaining: 476ms\n",
      "324:\tlearn: 0.1043905\ttotal: 228ms\tremaining: 474ms\n",
      "325:\tlearn: 0.1037872\ttotal: 229ms\tremaining: 473ms\n",
      "326:\tlearn: 0.1029756\ttotal: 230ms\tremaining: 472ms\n",
      "327:\tlearn: 0.1024169\ttotal: 230ms\tremaining: 471ms\n",
      "328:\tlearn: 0.1018227\ttotal: 231ms\tremaining: 470ms\n",
      "329:\tlearn: 0.1012549\ttotal: 231ms\tremaining: 469ms\n",
      "330:\tlearn: 0.1006450\ttotal: 232ms\tremaining: 468ms\n",
      "331:\tlearn: 0.1001738\ttotal: 232ms\tremaining: 467ms\n",
      "332:\tlearn: 0.0996888\ttotal: 232ms\tremaining: 466ms\n",
      "333:\tlearn: 0.0991238\ttotal: 233ms\tremaining: 464ms\n",
      "334:\tlearn: 0.0985016\ttotal: 234ms\tremaining: 464ms\n",
      "335:\tlearn: 0.0980570\ttotal: 234ms\tremaining: 463ms\n",
      "336:\tlearn: 0.0975074\ttotal: 234ms\tremaining: 461ms\n",
      "337:\tlearn: 0.0970052\ttotal: 235ms\tremaining: 460ms\n",
      "338:\tlearn: 0.0965191\ttotal: 236ms\tremaining: 459ms\n",
      "339:\tlearn: 0.0960287\ttotal: 236ms\tremaining: 458ms\n",
      "340:\tlearn: 0.0954304\ttotal: 237ms\tremaining: 457ms\n",
      "341:\tlearn: 0.0948300\ttotal: 237ms\tremaining: 456ms\n",
      "342:\tlearn: 0.0943207\ttotal: 238ms\tremaining: 455ms\n",
      "343:\tlearn: 0.0937526\ttotal: 238ms\tremaining: 454ms\n",
      "344:\tlearn: 0.0931697\ttotal: 239ms\tremaining: 453ms\n",
      "345:\tlearn: 0.0926071\ttotal: 239ms\tremaining: 452ms\n",
      "346:\tlearn: 0.0920925\ttotal: 240ms\tremaining: 451ms\n",
      "347:\tlearn: 0.0915545\ttotal: 240ms\tremaining: 450ms\n",
      "348:\tlearn: 0.0910059\ttotal: 241ms\tremaining: 449ms\n",
      "349:\tlearn: 0.0904690\ttotal: 241ms\tremaining: 448ms\n",
      "350:\tlearn: 0.0899366\ttotal: 241ms\tremaining: 446ms\n",
      "351:\tlearn: 0.0894089\ttotal: 242ms\tremaining: 445ms\n",
      "352:\tlearn: 0.0890045\ttotal: 242ms\tremaining: 444ms\n",
      "353:\tlearn: 0.0885746\ttotal: 243ms\tremaining: 443ms\n",
      "354:\tlearn: 0.0881547\ttotal: 243ms\tremaining: 442ms\n",
      "355:\tlearn: 0.0876484\ttotal: 244ms\tremaining: 441ms\n",
      "356:\tlearn: 0.0872356\ttotal: 244ms\tremaining: 440ms\n",
      "357:\tlearn: 0.0867559\ttotal: 245ms\tremaining: 439ms\n",
      "358:\tlearn: 0.0863561\ttotal: 245ms\tremaining: 438ms\n",
      "359:\tlearn: 0.0858893\ttotal: 246ms\tremaining: 437ms\n",
      "360:\tlearn: 0.0854270\ttotal: 246ms\tremaining: 436ms\n",
      "361:\tlearn: 0.0849522\ttotal: 247ms\tremaining: 435ms\n",
      "362:\tlearn: 0.0845639\ttotal: 247ms\tremaining: 434ms\n",
      "363:\tlearn: 0.0843181\ttotal: 248ms\tremaining: 433ms\n",
      "364:\tlearn: 0.0840721\ttotal: 249ms\tremaining: 432ms\n",
      "365:\tlearn: 0.0838318\ttotal: 249ms\tremaining: 431ms\n",
      "366:\tlearn: 0.0833352\ttotal: 249ms\tremaining: 430ms\n",
      "367:\tlearn: 0.0829686\ttotal: 250ms\tremaining: 429ms\n",
      "368:\tlearn: 0.0827304\ttotal: 250ms\tremaining: 428ms\n",
      "369:\tlearn: 0.0824976\ttotal: 251ms\tremaining: 427ms\n",
      "370:\tlearn: 0.0820146\ttotal: 251ms\tremaining: 426ms\n",
      "371:\tlearn: 0.0817854\ttotal: 252ms\tremaining: 425ms\n",
      "372:\tlearn: 0.0812630\ttotal: 252ms\tremaining: 424ms\n",
      "373:\tlearn: 0.0810372\ttotal: 253ms\tremaining: 423ms\n",
      "374:\tlearn: 0.0806873\ttotal: 253ms\tremaining: 422ms\n",
      "375:\tlearn: 0.0802348\ttotal: 254ms\tremaining: 421ms\n",
      "376:\tlearn: 0.0797757\ttotal: 254ms\tremaining: 420ms\n",
      "377:\tlearn: 0.0794372\ttotal: 255ms\tremaining: 419ms\n",
      "378:\tlearn: 0.0792186\ttotal: 256ms\tremaining: 419ms\n",
      "379:\tlearn: 0.0790025\ttotal: 256ms\tremaining: 418ms\n",
      "380:\tlearn: 0.0787887\ttotal: 256ms\tremaining: 417ms\n",
      "381:\tlearn: 0.0783755\ttotal: 257ms\tremaining: 416ms\n",
      "382:\tlearn: 0.0779800\ttotal: 257ms\tremaining: 415ms\n",
      "383:\tlearn: 0.0774931\ttotal: 258ms\tremaining: 414ms\n",
      "384:\tlearn: 0.0769893\ttotal: 258ms\tremaining: 412ms\n",
      "385:\tlearn: 0.0766674\ttotal: 259ms\tremaining: 411ms\n",
      "386:\tlearn: 0.0764618\ttotal: 259ms\tremaining: 411ms\n",
      "387:\tlearn: 0.0761480\ttotal: 260ms\tremaining: 409ms\n",
      "388:\tlearn: 0.0757598\ttotal: 260ms\tremaining: 408ms\n",
      "389:\tlearn: 0.0755587\ttotal: 261ms\tremaining: 409ms\n",
      "390:\tlearn: 0.0752828\ttotal: 262ms\tremaining: 408ms\n",
      "391:\tlearn: 0.0748614\ttotal: 262ms\tremaining: 406ms\n",
      "392:\tlearn: 0.0744415\ttotal: 263ms\tremaining: 405ms\n",
      "393:\tlearn: 0.0740036\ttotal: 263ms\tremaining: 405ms\n",
      "394:\tlearn: 0.0736370\ttotal: 264ms\tremaining: 404ms\n",
      "395:\tlearn: 0.0732648\ttotal: 264ms\tremaining: 403ms\n",
      "396:\tlearn: 0.0730721\ttotal: 264ms\tremaining: 402ms\n",
      "397:\tlearn: 0.0728815\ttotal: 265ms\tremaining: 401ms\n",
      "398:\tlearn: 0.0724806\ttotal: 265ms\tremaining: 400ms\n",
      "399:\tlearn: 0.0720606\ttotal: 266ms\tremaining: 399ms\n",
      "400:\tlearn: 0.0718745\ttotal: 266ms\tremaining: 398ms\n",
      "401:\tlearn: 0.0715280\ttotal: 267ms\tremaining: 397ms\n",
      "402:\tlearn: 0.0711178\ttotal: 267ms\tremaining: 396ms\n",
      "403:\tlearn: 0.0709353\ttotal: 268ms\tremaining: 395ms\n",
      "404:\tlearn: 0.0707548\ttotal: 268ms\tremaining: 394ms\n",
      "405:\tlearn: 0.0703540\ttotal: 269ms\tremaining: 393ms\n",
      "406:\tlearn: 0.0700346\ttotal: 269ms\tremaining: 392ms\n",
      "407:\tlearn: 0.0696371\ttotal: 270ms\tremaining: 391ms\n",
      "408:\tlearn: 0.0691776\ttotal: 270ms\tremaining: 391ms\n",
      "409:\tlearn: 0.0687910\ttotal: 271ms\tremaining: 390ms\n",
      "410:\tlearn: 0.0685192\ttotal: 271ms\tremaining: 389ms\n",
      "411:\tlearn: 0.0682510\ttotal: 272ms\tremaining: 388ms\n",
      "412:\tlearn: 0.0680805\ttotal: 273ms\tremaining: 387ms\n",
      "413:\tlearn: 0.0676311\ttotal: 273ms\tremaining: 387ms\n",
      "414:\tlearn: 0.0673038\ttotal: 274ms\tremaining: 386ms\n",
      "415:\tlearn: 0.0668657\ttotal: 274ms\tremaining: 385ms\n",
      "416:\tlearn: 0.0665559\ttotal: 275ms\tremaining: 384ms\n",
      "417:\tlearn: 0.0663914\ttotal: 275ms\tremaining: 383ms\n",
      "418:\tlearn: 0.0662287\ttotal: 276ms\tremaining: 382ms\n",
      "419:\tlearn: 0.0658637\ttotal: 276ms\tremaining: 381ms\n",
      "420:\tlearn: 0.0655419\ttotal: 277ms\tremaining: 380ms\n",
      "421:\tlearn: 0.0651859\ttotal: 277ms\tremaining: 379ms\n",
      "422:\tlearn: 0.0648725\ttotal: 277ms\tremaining: 378ms\n",
      "423:\tlearn: 0.0646597\ttotal: 278ms\tremaining: 377ms\n",
      "424:\tlearn: 0.0643654\ttotal: 278ms\tremaining: 377ms\n",
      "425:\tlearn: 0.0642085\ttotal: 279ms\tremaining: 376ms\n",
      "426:\tlearn: 0.0640017\ttotal: 279ms\tremaining: 375ms\n",
      "427:\tlearn: 0.0636980\ttotal: 280ms\tremaining: 374ms\n",
      "428:\tlearn: 0.0634102\ttotal: 280ms\tremaining: 373ms\n",
      "429:\tlearn: 0.0631271\ttotal: 281ms\tremaining: 373ms\n",
      "430:\tlearn: 0.0628308\ttotal: 282ms\tremaining: 372ms\n",
      "431:\tlearn: 0.0624293\ttotal: 282ms\tremaining: 371ms\n",
      "432:\tlearn: 0.0619867\ttotal: 283ms\tremaining: 370ms\n",
      "433:\tlearn: 0.0615545\ttotal: 283ms\tremaining: 369ms\n",
      "434:\tlearn: 0.0612215\ttotal: 284ms\tremaining: 369ms\n",
      "435:\tlearn: 0.0608019\ttotal: 284ms\tremaining: 368ms\n",
      "436:\tlearn: 0.0605096\ttotal: 285ms\tremaining: 367ms\n",
      "437:\tlearn: 0.0601325\ttotal: 285ms\tremaining: 366ms\n",
      "438:\tlearn: 0.0597638\ttotal: 286ms\tremaining: 365ms\n",
      "439:\tlearn: 0.0595174\ttotal: 287ms\tremaining: 365ms\n",
      "440:\tlearn: 0.0592011\ttotal: 287ms\tremaining: 364ms\n",
      "441:\tlearn: 0.0589265\ttotal: 288ms\tremaining: 363ms\n",
      "442:\tlearn: 0.0586457\ttotal: 288ms\tremaining: 362ms\n",
      "443:\tlearn: 0.0582867\ttotal: 289ms\tremaining: 362ms\n",
      "444:\tlearn: 0.0580660\ttotal: 289ms\tremaining: 361ms\n",
      "445:\tlearn: 0.0578489\ttotal: 290ms\tremaining: 360ms\n",
      "446:\tlearn: 0.0575536\ttotal: 290ms\tremaining: 359ms\n",
      "447:\tlearn: 0.0573186\ttotal: 291ms\tremaining: 358ms\n",
      "448:\tlearn: 0.0569749\ttotal: 291ms\tremaining: 357ms\n",
      "449:\tlearn: 0.0565743\ttotal: 291ms\tremaining: 356ms\n",
      "450:\tlearn: 0.0563495\ttotal: 292ms\tremaining: 356ms\n",
      "451:\tlearn: 0.0560289\ttotal: 293ms\tremaining: 355ms\n",
      "452:\tlearn: 0.0557689\ttotal: 293ms\tremaining: 354ms\n",
      "453:\tlearn: 0.0555618\ttotal: 294ms\tremaining: 353ms\n"
     ]
    },
    {
     "name": "stdout",
     "output_type": "stream",
     "text": [
      "454:\tlearn: 0.0553457\ttotal: 294ms\tremaining: 353ms\n",
      "455:\tlearn: 0.0550380\ttotal: 295ms\tremaining: 352ms\n",
      "456:\tlearn: 0.0546578\ttotal: 295ms\tremaining: 351ms\n",
      "457:\tlearn: 0.0544571\ttotal: 296ms\tremaining: 350ms\n",
      "458:\tlearn: 0.0540856\ttotal: 296ms\tremaining: 349ms\n",
      "459:\tlearn: 0.0537215\ttotal: 297ms\tremaining: 348ms\n",
      "460:\tlearn: 0.0533942\ttotal: 297ms\tremaining: 347ms\n",
      "461:\tlearn: 0.0531025\ttotal: 298ms\tremaining: 347ms\n",
      "462:\tlearn: 0.0529135\ttotal: 298ms\tremaining: 346ms\n",
      "463:\tlearn: 0.0526822\ttotal: 299ms\tremaining: 345ms\n",
      "464:\tlearn: 0.0524841\ttotal: 299ms\tremaining: 344ms\n",
      "465:\tlearn: 0.0523002\ttotal: 300ms\tremaining: 343ms\n",
      "466:\tlearn: 0.0519722\ttotal: 300ms\tremaining: 343ms\n",
      "467:\tlearn: 0.0517372\ttotal: 301ms\tremaining: 342ms\n",
      "468:\tlearn: 0.0515606\ttotal: 301ms\tremaining: 341ms\n",
      "469:\tlearn: 0.0513377\ttotal: 302ms\tremaining: 340ms\n",
      "470:\tlearn: 0.0509983\ttotal: 302ms\tremaining: 339ms\n",
      "471:\tlearn: 0.0506658\ttotal: 303ms\tremaining: 339ms\n",
      "472:\tlearn: 0.0503213\ttotal: 303ms\tremaining: 338ms\n",
      "473:\tlearn: 0.0501363\ttotal: 304ms\tremaining: 337ms\n",
      "474:\tlearn: 0.0498317\ttotal: 304ms\tremaining: 336ms\n",
      "475:\tlearn: 0.0495203\ttotal: 305ms\tremaining: 336ms\n",
      "476:\tlearn: 0.0492454\ttotal: 305ms\tremaining: 335ms\n",
      "477:\tlearn: 0.0489771\ttotal: 306ms\tremaining: 334ms\n",
      "478:\tlearn: 0.0488192\ttotal: 307ms\tremaining: 333ms\n",
      "479:\tlearn: 0.0485129\ttotal: 307ms\tremaining: 333ms\n",
      "480:\tlearn: 0.0482134\ttotal: 308ms\tremaining: 332ms\n",
      "481:\tlearn: 0.0478892\ttotal: 308ms\tremaining: 331ms\n",
      "482:\tlearn: 0.0476499\ttotal: 309ms\tremaining: 330ms\n",
      "483:\tlearn: 0.0473533\ttotal: 309ms\tremaining: 329ms\n",
      "484:\tlearn: 0.0470641\ttotal: 310ms\tremaining: 329ms\n",
      "485:\tlearn: 0.0467749\ttotal: 310ms\tremaining: 328ms\n",
      "486:\tlearn: 0.0465149\ttotal: 311ms\tremaining: 327ms\n",
      "487:\tlearn: 0.0462341\ttotal: 311ms\tremaining: 326ms\n",
      "488:\tlearn: 0.0461205\ttotal: 312ms\tremaining: 326ms\n",
      "489:\tlearn: 0.0458132\ttotal: 312ms\tremaining: 325ms\n",
      "490:\tlearn: 0.0455334\ttotal: 312ms\tremaining: 324ms\n",
      "491:\tlearn: 0.0453302\ttotal: 313ms\tremaining: 323ms\n",
      "492:\tlearn: 0.0451440\ttotal: 313ms\tremaining: 322ms\n",
      "493:\tlearn: 0.0448720\ttotal: 314ms\tremaining: 321ms\n",
      "494:\tlearn: 0.0446036\ttotal: 314ms\tremaining: 321ms\n",
      "495:\tlearn: 0.0443399\ttotal: 315ms\tremaining: 320ms\n",
      "496:\tlearn: 0.0440888\ttotal: 315ms\tremaining: 319ms\n",
      "497:\tlearn: 0.0439157\ttotal: 316ms\tremaining: 318ms\n",
      "498:\tlearn: 0.0437456\ttotal: 317ms\tremaining: 318ms\n",
      "499:\tlearn: 0.0435836\ttotal: 317ms\tremaining: 317ms\n",
      "500:\tlearn: 0.0433313\ttotal: 317ms\tremaining: 316ms\n",
      "501:\tlearn: 0.0432396\ttotal: 318ms\tremaining: 315ms\n",
      "502:\tlearn: 0.0430525\ttotal: 318ms\tremaining: 315ms\n",
      "503:\tlearn: 0.0428777\ttotal: 319ms\tremaining: 314ms\n",
      "504:\tlearn: 0.0427218\ttotal: 320ms\tremaining: 313ms\n",
      "505:\tlearn: 0.0424791\ttotal: 320ms\tremaining: 313ms\n",
      "506:\tlearn: 0.0422989\ttotal: 321ms\tremaining: 312ms\n",
      "507:\tlearn: 0.0421461\ttotal: 321ms\tremaining: 311ms\n",
      "508:\tlearn: 0.0419962\ttotal: 322ms\tremaining: 310ms\n",
      "509:\tlearn: 0.0417611\ttotal: 322ms\tremaining: 310ms\n",
      "510:\tlearn: 0.0415745\ttotal: 323ms\tremaining: 309ms\n",
      "511:\tlearn: 0.0413175\ttotal: 323ms\tremaining: 308ms\n",
      "512:\tlearn: 0.0410837\ttotal: 324ms\tremaining: 307ms\n",
      "513:\tlearn: 0.0408563\ttotal: 324ms\tremaining: 307ms\n",
      "514:\tlearn: 0.0407081\ttotal: 325ms\tremaining: 306ms\n",
      "515:\tlearn: 0.0405857\ttotal: 325ms\tremaining: 305ms\n",
      "516:\tlearn: 0.0404701\ttotal: 326ms\tremaining: 304ms\n",
      "517:\tlearn: 0.0403255\ttotal: 326ms\tremaining: 303ms\n",
      "518:\tlearn: 0.0401632\ttotal: 327ms\tremaining: 303ms\n",
      "519:\tlearn: 0.0400144\ttotal: 327ms\tremaining: 302ms\n",
      "520:\tlearn: 0.0397958\ttotal: 328ms\tremaining: 301ms\n",
      "521:\tlearn: 0.0395704\ttotal: 328ms\tremaining: 301ms\n",
      "522:\tlearn: 0.0394295\ttotal: 329ms\tremaining: 300ms\n",
      "523:\tlearn: 0.0392155\ttotal: 329ms\tremaining: 299ms\n",
      "524:\tlearn: 0.0390784\ttotal: 330ms\tremaining: 298ms\n",
      "525:\tlearn: 0.0388463\ttotal: 330ms\tremaining: 297ms\n",
      "526:\tlearn: 0.0386372\ttotal: 331ms\tremaining: 297ms\n",
      "527:\tlearn: 0.0384875\ttotal: 331ms\tremaining: 296ms\n",
      "528:\tlearn: 0.0382829\ttotal: 332ms\tremaining: 295ms\n",
      "529:\tlearn: 0.0381378\ttotal: 332ms\tremaining: 295ms\n",
      "530:\tlearn: 0.0379449\ttotal: 333ms\tremaining: 294ms\n",
      "531:\tlearn: 0.0377561\ttotal: 333ms\tremaining: 293ms\n",
      "532:\tlearn: 0.0375581\ttotal: 334ms\tremaining: 292ms\n",
      "533:\tlearn: 0.0373742\ttotal: 334ms\tremaining: 292ms\n",
      "534:\tlearn: 0.0371778\ttotal: 335ms\tremaining: 291ms\n",
      "535:\tlearn: 0.0370314\ttotal: 335ms\tremaining: 290ms\n",
      "536:\tlearn: 0.0369125\ttotal: 336ms\tremaining: 289ms\n",
      "537:\tlearn: 0.0367752\ttotal: 336ms\tremaining: 289ms\n",
      "538:\tlearn: 0.0365835\ttotal: 337ms\tremaining: 288ms\n",
      "539:\tlearn: 0.0364487\ttotal: 337ms\tremaining: 287ms\n",
      "540:\tlearn: 0.0362367\ttotal: 338ms\tremaining: 287ms\n",
      "541:\tlearn: 0.0360684\ttotal: 338ms\tremaining: 286ms\n",
      "542:\tlearn: 0.0359295\ttotal: 339ms\tremaining: 285ms\n",
      "543:\tlearn: 0.0358269\ttotal: 339ms\tremaining: 284ms\n",
      "544:\tlearn: 0.0357255\ttotal: 340ms\tremaining: 284ms\n",
      "545:\tlearn: 0.0356100\ttotal: 340ms\tremaining: 283ms\n",
      "546:\tlearn: 0.0354990\ttotal: 341ms\tremaining: 282ms\n",
      "547:\tlearn: 0.0353377\ttotal: 341ms\tremaining: 281ms\n",
      "548:\tlearn: 0.0351554\ttotal: 342ms\tremaining: 281ms\n",
      "549:\tlearn: 0.0350599\ttotal: 342ms\tremaining: 280ms\n",
      "550:\tlearn: 0.0348990\ttotal: 343ms\tremaining: 279ms\n",
      "551:\tlearn: 0.0347420\ttotal: 343ms\tremaining: 278ms\n",
      "552:\tlearn: 0.0346352\ttotal: 344ms\tremaining: 278ms\n",
      "553:\tlearn: 0.0344591\ttotal: 344ms\tremaining: 277ms\n",
      "554:\tlearn: 0.0343324\ttotal: 345ms\tremaining: 276ms\n",
      "555:\tlearn: 0.0341447\ttotal: 345ms\tremaining: 276ms\n",
      "556:\tlearn: 0.0339894\ttotal: 346ms\tremaining: 275ms\n",
      "557:\tlearn: 0.0338982\ttotal: 346ms\tremaining: 274ms\n",
      "558:\tlearn: 0.0337162\ttotal: 347ms\tremaining: 274ms\n",
      "559:\tlearn: 0.0336278\ttotal: 348ms\tremaining: 273ms\n",
      "560:\tlearn: 0.0335410\ttotal: 348ms\tremaining: 272ms\n",
      "561:\tlearn: 0.0333496\ttotal: 349ms\tremaining: 272ms\n",
      "562:\tlearn: 0.0331820\ttotal: 349ms\tremaining: 271ms\n",
      "563:\tlearn: 0.0330976\ttotal: 350ms\tremaining: 270ms\n",
      "564:\tlearn: 0.0329877\ttotal: 350ms\tremaining: 270ms\n",
      "565:\tlearn: 0.0328233\ttotal: 351ms\tremaining: 269ms\n",
      "566:\tlearn: 0.0326766\ttotal: 351ms\tremaining: 268ms\n",
      "567:\tlearn: 0.0325029\ttotal: 352ms\tremaining: 268ms\n",
      "568:\tlearn: 0.0323929\ttotal: 352ms\tremaining: 267ms\n",
      "569:\tlearn: 0.0322498\ttotal: 353ms\tremaining: 266ms\n",
      "570:\tlearn: 0.0320878\ttotal: 353ms\tremaining: 265ms\n",
      "571:\tlearn: 0.0319940\ttotal: 354ms\tremaining: 265ms\n",
      "572:\tlearn: 0.0318544\ttotal: 354ms\tremaining: 264ms\n",
      "573:\tlearn: 0.0316798\ttotal: 355ms\tremaining: 263ms\n",
      "574:\tlearn: 0.0315252\ttotal: 355ms\tremaining: 263ms\n",
      "575:\tlearn: 0.0314486\ttotal: 356ms\tremaining: 262ms\n",
      "576:\tlearn: 0.0313571\ttotal: 356ms\tremaining: 261ms\n",
      "577:\tlearn: 0.0312079\ttotal: 357ms\tremaining: 260ms\n",
      "578:\tlearn: 0.0310700\ttotal: 357ms\tremaining: 260ms\n",
      "579:\tlearn: 0.0309320\ttotal: 358ms\tremaining: 259ms\n",
      "580:\tlearn: 0.0308427\ttotal: 358ms\tremaining: 258ms\n",
      "581:\tlearn: 0.0306981\ttotal: 359ms\tremaining: 258ms\n",
      "582:\tlearn: 0.0305641\ttotal: 360ms\tremaining: 257ms\n",
      "583:\tlearn: 0.0304768\ttotal: 360ms\tremaining: 257ms\n",
      "584:\tlearn: 0.0303288\ttotal: 361ms\tremaining: 256ms\n",
      "585:\tlearn: 0.0302430\ttotal: 361ms\tremaining: 255ms\n",
      "586:\tlearn: 0.0300976\ttotal: 362ms\tremaining: 255ms\n",
      "587:\tlearn: 0.0299334\ttotal: 362ms\tremaining: 254ms\n",
      "588:\tlearn: 0.0298022\ttotal: 363ms\tremaining: 253ms\n",
      "589:\tlearn: 0.0297197\ttotal: 363ms\tremaining: 253ms\n",
      "590:\tlearn: 0.0295831\ttotal: 364ms\tremaining: 252ms\n",
      "591:\tlearn: 0.0294430\ttotal: 365ms\tremaining: 251ms\n",
      "592:\tlearn: 0.0293623\ttotal: 365ms\tremaining: 251ms\n",
      "593:\tlearn: 0.0292052\ttotal: 365ms\tremaining: 250ms\n",
      "594:\tlearn: 0.0290786\ttotal: 366ms\tremaining: 249ms\n",
      "595:\tlearn: 0.0289409\ttotal: 366ms\tremaining: 248ms\n",
      "596:\tlearn: 0.0288625\ttotal: 367ms\tremaining: 248ms\n",
      "597:\tlearn: 0.0287277\ttotal: 367ms\tremaining: 247ms\n",
      "598:\tlearn: 0.0285955\ttotal: 368ms\tremaining: 246ms\n",
      "599:\tlearn: 0.0284352\ttotal: 368ms\tremaining: 246ms\n",
      "600:\tlearn: 0.0282973\ttotal: 369ms\tremaining: 245ms\n",
      "601:\tlearn: 0.0281404\ttotal: 369ms\tremaining: 244ms\n",
      "602:\tlearn: 0.0279701\ttotal: 370ms\tremaining: 244ms\n",
      "603:\tlearn: 0.0278170\ttotal: 371ms\tremaining: 243ms\n",
      "604:\tlearn: 0.0276643\ttotal: 371ms\tremaining: 242ms\n",
      "605:\tlearn: 0.0275389\ttotal: 372ms\tremaining: 242ms\n"
     ]
    },
    {
     "name": "stdout",
     "output_type": "stream",
     "text": [
      "606:\tlearn: 0.0273788\ttotal: 372ms\tremaining: 241ms\n",
      "607:\tlearn: 0.0272311\ttotal: 373ms\tremaining: 240ms\n",
      "608:\tlearn: 0.0270854\ttotal: 373ms\tremaining: 240ms\n",
      "609:\tlearn: 0.0269445\ttotal: 374ms\tremaining: 239ms\n",
      "610:\tlearn: 0.0268171\ttotal: 374ms\tremaining: 238ms\n",
      "611:\tlearn: 0.0266993\ttotal: 375ms\tremaining: 238ms\n",
      "612:\tlearn: 0.0265635\ttotal: 375ms\tremaining: 237ms\n",
      "613:\tlearn: 0.0264500\ttotal: 376ms\tremaining: 236ms\n",
      "614:\tlearn: 0.0263062\ttotal: 376ms\tremaining: 235ms\n",
      "615:\tlearn: 0.0261718\ttotal: 377ms\tremaining: 235ms\n",
      "616:\tlearn: 0.0260630\ttotal: 377ms\tremaining: 234ms\n",
      "617:\tlearn: 0.0259387\ttotal: 378ms\tremaining: 233ms\n",
      "618:\tlearn: 0.0257953\ttotal: 378ms\tremaining: 233ms\n",
      "619:\tlearn: 0.0256737\ttotal: 379ms\tremaining: 232ms\n",
      "620:\tlearn: 0.0255766\ttotal: 379ms\tremaining: 232ms\n",
      "621:\tlearn: 0.0254599\ttotal: 380ms\tremaining: 231ms\n",
      "622:\tlearn: 0.0253648\ttotal: 380ms\tremaining: 230ms\n",
      "623:\tlearn: 0.0252569\ttotal: 381ms\tremaining: 230ms\n",
      "624:\tlearn: 0.0251623\ttotal: 382ms\tremaining: 229ms\n",
      "625:\tlearn: 0.0250515\ttotal: 382ms\tremaining: 228ms\n",
      "626:\tlearn: 0.0249738\ttotal: 383ms\tremaining: 228ms\n",
      "627:\tlearn: 0.0248529\ttotal: 383ms\tremaining: 227ms\n",
      "628:\tlearn: 0.0247362\ttotal: 384ms\tremaining: 226ms\n",
      "629:\tlearn: 0.0246109\ttotal: 384ms\tremaining: 226ms\n",
      "630:\tlearn: 0.0244855\ttotal: 385ms\tremaining: 225ms\n",
      "631:\tlearn: 0.0243627\ttotal: 385ms\tremaining: 224ms\n",
      "632:\tlearn: 0.0242529\ttotal: 386ms\tremaining: 224ms\n",
      "633:\tlearn: 0.0241371\ttotal: 386ms\tremaining: 223ms\n",
      "634:\tlearn: 0.0240376\ttotal: 387ms\tremaining: 222ms\n",
      "635:\tlearn: 0.0239186\ttotal: 387ms\tremaining: 222ms\n",
      "636:\tlearn: 0.0238009\ttotal: 388ms\tremaining: 221ms\n",
      "637:\tlearn: 0.0237008\ttotal: 388ms\tremaining: 220ms\n",
      "638:\tlearn: 0.0236361\ttotal: 389ms\tremaining: 220ms\n",
      "639:\tlearn: 0.0235214\ttotal: 389ms\tremaining: 219ms\n",
      "640:\tlearn: 0.0234104\ttotal: 390ms\tremaining: 218ms\n",
      "641:\tlearn: 0.0232985\ttotal: 390ms\tremaining: 218ms\n",
      "642:\tlearn: 0.0231887\ttotal: 391ms\tremaining: 217ms\n",
      "643:\tlearn: 0.0230949\ttotal: 391ms\tremaining: 216ms\n",
      "644:\tlearn: 0.0230319\ttotal: 392ms\tremaining: 216ms\n",
      "645:\tlearn: 0.0229038\ttotal: 393ms\tremaining: 215ms\n",
      "646:\tlearn: 0.0228510\ttotal: 393ms\tremaining: 214ms\n",
      "647:\tlearn: 0.0227447\ttotal: 394ms\tremaining: 214ms\n",
      "648:\tlearn: 0.0226924\ttotal: 394ms\tremaining: 213ms\n",
      "649:\tlearn: 0.0226012\ttotal: 394ms\tremaining: 212ms\n",
      "650:\tlearn: 0.0225413\ttotal: 395ms\tremaining: 212ms\n",
      "651:\tlearn: 0.0224362\ttotal: 396ms\tremaining: 211ms\n",
      "652:\tlearn: 0.0223466\ttotal: 396ms\tremaining: 211ms\n",
      "653:\tlearn: 0.0222198\ttotal: 397ms\tremaining: 210ms\n",
      "654:\tlearn: 0.0221321\ttotal: 397ms\tremaining: 209ms\n",
      "655:\tlearn: 0.0220732\ttotal: 397ms\tremaining: 208ms\n",
      "656:\tlearn: 0.0220217\ttotal: 398ms\tremaining: 208ms\n",
      "657:\tlearn: 0.0219211\ttotal: 398ms\tremaining: 207ms\n",
      "658:\tlearn: 0.0218716\ttotal: 399ms\tremaining: 206ms\n",
      "659:\tlearn: 0.0218230\ttotal: 399ms\tremaining: 206ms\n",
      "660:\tlearn: 0.0217727\ttotal: 400ms\tremaining: 205ms\n",
      "661:\tlearn: 0.0216687\ttotal: 400ms\tremaining: 204ms\n",
      "662:\tlearn: 0.0216123\ttotal: 400ms\tremaining: 204ms\n",
      "663:\tlearn: 0.0215630\ttotal: 401ms\tremaining: 203ms\n",
      "664:\tlearn: 0.0214843\ttotal: 401ms\tremaining: 202ms\n",
      "665:\tlearn: 0.0213667\ttotal: 402ms\tremaining: 201ms\n",
      "666:\tlearn: 0.0212925\ttotal: 402ms\tremaining: 201ms\n",
      "667:\tlearn: 0.0211964\ttotal: 403ms\tremaining: 200ms\n",
      "668:\tlearn: 0.0211280\ttotal: 403ms\tremaining: 199ms\n",
      "669:\tlearn: 0.0210815\ttotal: 404ms\tremaining: 199ms\n",
      "670:\tlearn: 0.0210068\ttotal: 404ms\tremaining: 198ms\n",
      "671:\tlearn: 0.0209151\ttotal: 405ms\tremaining: 197ms\n",
      "672:\tlearn: 0.0208699\ttotal: 405ms\tremaining: 197ms\n",
      "673:\tlearn: 0.0207800\ttotal: 406ms\tremaining: 196ms\n",
      "674:\tlearn: 0.0206913\ttotal: 406ms\tremaining: 196ms\n",
      "675:\tlearn: 0.0206038\ttotal: 407ms\tremaining: 195ms\n",
      "676:\tlearn: 0.0205088\ttotal: 407ms\tremaining: 194ms\n",
      "677:\tlearn: 0.0204362\ttotal: 407ms\tremaining: 194ms\n",
      "678:\tlearn: 0.0203490\ttotal: 408ms\tremaining: 193ms\n",
      "679:\tlearn: 0.0202532\ttotal: 408ms\tremaining: 192ms\n",
      "680:\tlearn: 0.0201890\ttotal: 409ms\tremaining: 192ms\n",
      "681:\tlearn: 0.0201349\ttotal: 409ms\tremaining: 191ms\n",
      "682:\tlearn: 0.0200413\ttotal: 410ms\tremaining: 190ms\n",
      "683:\tlearn: 0.0199625\ttotal: 410ms\tremaining: 190ms\n",
      "684:\tlearn: 0.0199096\ttotal: 411ms\tremaining: 189ms\n",
      "685:\tlearn: 0.0198763\ttotal: 412ms\tremaining: 188ms\n",
      "686:\tlearn: 0.0197933\ttotal: 412ms\tremaining: 188ms\n",
      "687:\tlearn: 0.0197111\ttotal: 413ms\tremaining: 187ms\n",
      "688:\tlearn: 0.0195862\ttotal: 413ms\tremaining: 186ms\n",
      "689:\tlearn: 0.0195252\ttotal: 414ms\tremaining: 186ms\n",
      "690:\tlearn: 0.0194376\ttotal: 414ms\tremaining: 185ms\n",
      "691:\tlearn: 0.0193384\ttotal: 415ms\tremaining: 185ms\n",
      "692:\tlearn: 0.0192569\ttotal: 415ms\tremaining: 184ms\n",
      "693:\tlearn: 0.0192138\ttotal: 416ms\tremaining: 183ms\n",
      "694:\tlearn: 0.0191339\ttotal: 416ms\tremaining: 183ms\n",
      "695:\tlearn: 0.0190463\ttotal: 417ms\tremaining: 182ms\n",
      "696:\tlearn: 0.0189615\ttotal: 417ms\tremaining: 181ms\n",
      "697:\tlearn: 0.0189032\ttotal: 418ms\tremaining: 181ms\n",
      "698:\tlearn: 0.0188460\ttotal: 418ms\tremaining: 180ms\n",
      "699:\tlearn: 0.0187527\ttotal: 419ms\tremaining: 179ms\n",
      "700:\tlearn: 0.0186616\ttotal: 419ms\tremaining: 179ms\n",
      "701:\tlearn: 0.0185773\ttotal: 420ms\tremaining: 178ms\n",
      "702:\tlearn: 0.0184914\ttotal: 420ms\tremaining: 178ms\n",
      "703:\tlearn: 0.0184172\ttotal: 421ms\tremaining: 177ms\n",
      "704:\tlearn: 0.0183797\ttotal: 421ms\tremaining: 176ms\n",
      "705:\tlearn: 0.0183298\ttotal: 422ms\tremaining: 176ms\n",
      "706:\tlearn: 0.0182805\ttotal: 422ms\tremaining: 175ms\n",
      "707:\tlearn: 0.0181942\ttotal: 423ms\tremaining: 174ms\n",
      "708:\tlearn: 0.0181532\ttotal: 423ms\tremaining: 174ms\n",
      "709:\tlearn: 0.0180868\ttotal: 424ms\tremaining: 173ms\n",
      "710:\tlearn: 0.0180163\ttotal: 424ms\tremaining: 172ms\n",
      "711:\tlearn: 0.0179355\ttotal: 425ms\tremaining: 172ms\n",
      "712:\tlearn: 0.0178532\ttotal: 425ms\tremaining: 171ms\n",
      "713:\tlearn: 0.0178239\ttotal: 426ms\tremaining: 171ms\n",
      "714:\tlearn: 0.0177732\ttotal: 426ms\tremaining: 170ms\n",
      "715:\tlearn: 0.0177261\ttotal: 427ms\tremaining: 169ms\n",
      "716:\tlearn: 0.0176865\ttotal: 427ms\tremaining: 169ms\n",
      "717:\tlearn: 0.0176172\ttotal: 428ms\tremaining: 168ms\n",
      "718:\tlearn: 0.0175538\ttotal: 428ms\tremaining: 167ms\n",
      "719:\tlearn: 0.0174844\ttotal: 429ms\tremaining: 167ms\n",
      "720:\tlearn: 0.0174560\ttotal: 429ms\tremaining: 166ms\n",
      "721:\tlearn: 0.0173836\ttotal: 430ms\tremaining: 166ms\n",
      "722:\tlearn: 0.0173052\ttotal: 431ms\tremaining: 165ms\n",
      "723:\tlearn: 0.0172772\ttotal: 431ms\tremaining: 164ms\n",
      "724:\tlearn: 0.0171990\ttotal: 431ms\tremaining: 164ms\n",
      "725:\tlearn: 0.0171015\ttotal: 432ms\tremaining: 163ms\n",
      "726:\tlearn: 0.0169952\ttotal: 433ms\tremaining: 162ms\n",
      "727:\tlearn: 0.0169193\ttotal: 433ms\tremaining: 162ms\n",
      "728:\tlearn: 0.0168454\ttotal: 433ms\tremaining: 161ms\n",
      "729:\tlearn: 0.0168020\ttotal: 434ms\tremaining: 161ms\n",
      "730:\tlearn: 0.0167339\ttotal: 435ms\tremaining: 160ms\n",
      "731:\tlearn: 0.0166646\ttotal: 435ms\tremaining: 159ms\n",
      "732:\tlearn: 0.0165720\ttotal: 435ms\tremaining: 159ms\n",
      "733:\tlearn: 0.0165451\ttotal: 436ms\tremaining: 158ms\n",
      "734:\tlearn: 0.0164745\ttotal: 436ms\tremaining: 157ms\n",
      "735:\tlearn: 0.0163844\ttotal: 437ms\tremaining: 157ms\n",
      "736:\tlearn: 0.0163484\ttotal: 437ms\tremaining: 156ms\n",
      "737:\tlearn: 0.0162592\ttotal: 438ms\tremaining: 156ms\n",
      "738:\tlearn: 0.0161875\ttotal: 438ms\tremaining: 155ms\n",
      "739:\tlearn: 0.0161542\ttotal: 439ms\tremaining: 154ms\n",
      "740:\tlearn: 0.0161086\ttotal: 440ms\tremaining: 154ms\n",
      "741:\tlearn: 0.0160333\ttotal: 440ms\tremaining: 153ms\n",
      "742:\tlearn: 0.0159596\ttotal: 441ms\tremaining: 152ms\n",
      "743:\tlearn: 0.0158885\ttotal: 441ms\tremaining: 152ms\n",
      "744:\tlearn: 0.0158466\ttotal: 442ms\tremaining: 151ms\n",
      "745:\tlearn: 0.0157770\ttotal: 442ms\tremaining: 150ms\n",
      "746:\tlearn: 0.0157359\ttotal: 442ms\tremaining: 150ms\n",
      "747:\tlearn: 0.0156503\ttotal: 443ms\tremaining: 149ms\n",
      "748:\tlearn: 0.0156074\ttotal: 443ms\tremaining: 149ms\n",
      "749:\tlearn: 0.0155422\ttotal: 444ms\tremaining: 148ms\n",
      "750:\tlearn: 0.0154716\ttotal: 444ms\tremaining: 147ms\n",
      "751:\tlearn: 0.0154049\ttotal: 445ms\tremaining: 147ms\n",
      "752:\tlearn: 0.0153634\ttotal: 445ms\tremaining: 146ms\n",
      "753:\tlearn: 0.0152809\ttotal: 446ms\tremaining: 145ms\n",
      "754:\tlearn: 0.0151994\ttotal: 446ms\tremaining: 145ms\n",
      "755:\tlearn: 0.0151148\ttotal: 447ms\tremaining: 144ms\n",
      "756:\tlearn: 0.0150821\ttotal: 447ms\tremaining: 144ms\n",
      "757:\tlearn: 0.0149995\ttotal: 448ms\tremaining: 143ms\n",
      "758:\tlearn: 0.0149684\ttotal: 448ms\tremaining: 142ms\n",
      "759:\tlearn: 0.0149027\ttotal: 449ms\tremaining: 142ms\n",
      "760:\tlearn: 0.0148658\ttotal: 449ms\tremaining: 141ms\n",
      "761:\tlearn: 0.0147875\ttotal: 450ms\tremaining: 141ms\n",
      "762:\tlearn: 0.0147300\ttotal: 451ms\tremaining: 140ms\n",
      "763:\tlearn: 0.0146974\ttotal: 451ms\tremaining: 139ms\n",
      "764:\tlearn: 0.0146203\ttotal: 452ms\tremaining: 139ms\n",
      "765:\tlearn: 0.0145448\ttotal: 452ms\tremaining: 138ms\n",
      "766:\tlearn: 0.0145142\ttotal: 453ms\tremaining: 138ms\n",
      "767:\tlearn: 0.0144511\ttotal: 453ms\tremaining: 137ms\n",
      "768:\tlearn: 0.0143824\ttotal: 454ms\tremaining: 136ms\n",
      "769:\tlearn: 0.0143471\ttotal: 454ms\tremaining: 136ms\n",
      "770:\tlearn: 0.0142811\ttotal: 455ms\tremaining: 135ms\n",
      "771:\tlearn: 0.0142419\ttotal: 455ms\tremaining: 134ms\n",
      "772:\tlearn: 0.0141692\ttotal: 456ms\tremaining: 134ms\n",
      "773:\tlearn: 0.0140981\ttotal: 456ms\tremaining: 133ms\n",
      "774:\tlearn: 0.0140339\ttotal: 457ms\tremaining: 133ms\n",
      "775:\tlearn: 0.0139645\ttotal: 458ms\tremaining: 132ms\n",
      "776:\tlearn: 0.0138966\ttotal: 458ms\tremaining: 131ms\n",
      "777:\tlearn: 0.0138314\ttotal: 459ms\tremaining: 131ms\n",
      "778:\tlearn: 0.0137729\ttotal: 459ms\tremaining: 130ms\n",
      "779:\tlearn: 0.0137447\ttotal: 460ms\tremaining: 130ms\n",
      "780:\tlearn: 0.0136782\ttotal: 460ms\tremaining: 129ms\n",
      "781:\tlearn: 0.0136499\ttotal: 461ms\tremaining: 128ms\n",
      "782:\tlearn: 0.0135844\ttotal: 462ms\tremaining: 128ms\n",
      "783:\tlearn: 0.0135571\ttotal: 462ms\tremaining: 127ms\n",
      "784:\tlearn: 0.0134955\ttotal: 462ms\tremaining: 127ms\n",
      "785:\tlearn: 0.0134307\ttotal: 463ms\tremaining: 126ms\n",
      "786:\tlearn: 0.0133671\ttotal: 463ms\tremaining: 125ms\n",
      "787:\tlearn: 0.0133073\ttotal: 464ms\tremaining: 125ms\n",
      "788:\tlearn: 0.0132494\ttotal: 464ms\tremaining: 124ms\n",
      "789:\tlearn: 0.0131910\ttotal: 465ms\tremaining: 124ms\n",
      "790:\tlearn: 0.0131492\ttotal: 466ms\tremaining: 123ms\n",
      "791:\tlearn: 0.0130934\ttotal: 466ms\tremaining: 122ms\n",
      "792:\tlearn: 0.0130365\ttotal: 467ms\tremaining: 122ms\n",
      "793:\tlearn: 0.0129743\ttotal: 467ms\tremaining: 121ms\n",
      "794:\tlearn: 0.0129256\ttotal: 468ms\tremaining: 121ms\n",
      "795:\tlearn: 0.0129085\ttotal: 468ms\tremaining: 120ms\n",
      "796:\tlearn: 0.0128915\ttotal: 469ms\tremaining: 119ms\n",
      "797:\tlearn: 0.0128384\ttotal: 469ms\tremaining: 119ms\n",
      "798:\tlearn: 0.0127831\ttotal: 469ms\tremaining: 118ms\n",
      "799:\tlearn: 0.0127225\ttotal: 470ms\tremaining: 117ms\n",
      "800:\tlearn: 0.0127058\ttotal: 470ms\tremaining: 117ms\n",
      "801:\tlearn: 0.0126282\ttotal: 471ms\tremaining: 116ms\n",
      "802:\tlearn: 0.0125707\ttotal: 471ms\tremaining: 116ms\n",
      "803:\tlearn: 0.0124951\ttotal: 472ms\tremaining: 115ms\n",
      "804:\tlearn: 0.0124441\ttotal: 472ms\tremaining: 114ms\n",
      "805:\tlearn: 0.0123946\ttotal: 473ms\tremaining: 114ms\n",
      "806:\tlearn: 0.0123551\ttotal: 473ms\tremaining: 113ms\n",
      "807:\tlearn: 0.0123070\ttotal: 474ms\tremaining: 113ms\n",
      "808:\tlearn: 0.0122590\ttotal: 474ms\tremaining: 112ms\n",
      "809:\tlearn: 0.0122432\ttotal: 475ms\tremaining: 111ms\n",
      "810:\tlearn: 0.0122187\ttotal: 475ms\tremaining: 111ms\n",
      "811:\tlearn: 0.0121802\ttotal: 475ms\tremaining: 110ms\n",
      "812:\tlearn: 0.0121212\ttotal: 476ms\tremaining: 110ms\n",
      "813:\tlearn: 0.0120972\ttotal: 477ms\tremaining: 109ms\n",
      "814:\tlearn: 0.0120393\ttotal: 477ms\tremaining: 108ms\n",
      "815:\tlearn: 0.0120239\ttotal: 478ms\tremaining: 108ms\n",
      "816:\tlearn: 0.0120003\ttotal: 478ms\tremaining: 107ms\n",
      "817:\tlearn: 0.0119384\ttotal: 478ms\tremaining: 106ms\n"
     ]
    },
    {
     "name": "stdout",
     "output_type": "stream",
     "text": [
      "818:\tlearn: 0.0118826\ttotal: 479ms\tremaining: 106ms\n",
      "819:\tlearn: 0.0118676\ttotal: 480ms\tremaining: 105ms\n",
      "820:\tlearn: 0.0118086\ttotal: 480ms\tremaining: 105ms\n",
      "821:\tlearn: 0.0117853\ttotal: 481ms\tremaining: 104ms\n",
      "822:\tlearn: 0.0117486\ttotal: 481ms\tremaining: 103ms\n",
      "823:\tlearn: 0.0117258\ttotal: 481ms\tremaining: 103ms\n",
      "824:\tlearn: 0.0116670\ttotal: 482ms\tremaining: 102ms\n",
      "825:\tlearn: 0.0116191\ttotal: 482ms\tremaining: 102ms\n",
      "826:\tlearn: 0.0115663\ttotal: 483ms\tremaining: 101ms\n",
      "827:\tlearn: 0.0115104\ttotal: 483ms\tremaining: 100ms\n",
      "828:\tlearn: 0.0114671\ttotal: 484ms\tremaining: 99.8ms\n",
      "829:\tlearn: 0.0114320\ttotal: 484ms\tremaining: 99.2ms\n",
      "830:\tlearn: 0.0113691\ttotal: 485ms\tremaining: 98.6ms\n",
      "831:\tlearn: 0.0113078\ttotal: 485ms\tremaining: 98ms\n",
      "832:\tlearn: 0.0112819\ttotal: 486ms\tremaining: 97.4ms\n",
      "833:\tlearn: 0.0112234\ttotal: 486ms\tremaining: 96.8ms\n",
      "834:\tlearn: 0.0111980\ttotal: 487ms\tremaining: 96.2ms\n",
      "835:\tlearn: 0.0111387\ttotal: 487ms\tremaining: 95.6ms\n",
      "836:\tlearn: 0.0111189\ttotal: 488ms\tremaining: 95ms\n",
      "837:\tlearn: 0.0110619\ttotal: 488ms\tremaining: 94.3ms\n",
      "838:\tlearn: 0.0110371\ttotal: 489ms\tremaining: 93.7ms\n",
      "839:\tlearn: 0.0109804\ttotal: 489ms\tremaining: 93.1ms\n",
      "840:\tlearn: 0.0109250\ttotal: 489ms\tremaining: 92.5ms\n",
      "841:\tlearn: 0.0109058\ttotal: 491ms\tremaining: 92.1ms\n",
      "842:\tlearn: 0.0108791\ttotal: 491ms\tremaining: 91.5ms\n",
      "843:\tlearn: 0.0108249\ttotal: 492ms\tremaining: 90.9ms\n",
      "844:\tlearn: 0.0108116\ttotal: 492ms\tremaining: 90.3ms\n",
      "845:\tlearn: 0.0107626\ttotal: 492ms\tremaining: 89.7ms\n",
      "846:\tlearn: 0.0107265\ttotal: 493ms\tremaining: 89ms\n",
      "847:\tlearn: 0.0106785\ttotal: 493ms\tremaining: 88.4ms\n",
      "848:\tlearn: 0.0106328\ttotal: 494ms\tremaining: 87.8ms\n",
      "849:\tlearn: 0.0105880\ttotal: 495ms\tremaining: 87.3ms\n",
      "850:\tlearn: 0.0105353\ttotal: 495ms\tremaining: 86.7ms\n",
      "851:\tlearn: 0.0105172\ttotal: 495ms\tremaining: 86.1ms\n",
      "852:\tlearn: 0.0105044\ttotal: 496ms\tremaining: 85.5ms\n",
      "853:\tlearn: 0.0104607\ttotal: 497ms\tremaining: 84.9ms\n",
      "854:\tlearn: 0.0104428\ttotal: 497ms\tremaining: 84.3ms\n",
      "855:\tlearn: 0.0103921\ttotal: 497ms\tremaining: 83.7ms\n",
      "856:\tlearn: 0.0103746\ttotal: 498ms\tremaining: 83.1ms\n",
      "857:\tlearn: 0.0103572\ttotal: 498ms\tremaining: 82.5ms\n",
      "858:\tlearn: 0.0103146\ttotal: 499ms\tremaining: 81.9ms\n",
      "859:\tlearn: 0.0102975\ttotal: 500ms\tremaining: 81.3ms\n",
      "860:\tlearn: 0.0102852\ttotal: 500ms\tremaining: 80.7ms\n",
      "861:\tlearn: 0.0102731\ttotal: 500ms\tremaining: 80.1ms\n",
      "862:\tlearn: 0.0102313\ttotal: 501ms\tremaining: 79.5ms\n",
      "863:\tlearn: 0.0102146\ttotal: 501ms\tremaining: 78.9ms\n",
      "864:\tlearn: 0.0101651\ttotal: 502ms\tremaining: 78.3ms\n",
      "865:\tlearn: 0.0101370\ttotal: 502ms\tremaining: 77.7ms\n",
      "866:\tlearn: 0.0101092\ttotal: 503ms\tremaining: 77.1ms\n",
      "867:\tlearn: 0.0100539\ttotal: 503ms\tremaining: 76.5ms\n",
      "868:\tlearn: 0.0100264\ttotal: 504ms\tremaining: 75.9ms\n",
      "869:\tlearn: 0.0099994\ttotal: 504ms\tremaining: 75.3ms\n",
      "870:\tlearn: 0.0099778\ttotal: 505ms\tremaining: 74.7ms\n",
      "871:\tlearn: 0.0099269\ttotal: 505ms\tremaining: 74.1ms\n",
      "872:\tlearn: 0.0098794\ttotal: 505ms\tremaining: 73.5ms\n",
      "873:\tlearn: 0.0098365\ttotal: 506ms\tremaining: 72.9ms\n",
      "874:\tlearn: 0.0098103\ttotal: 506ms\tremaining: 72.3ms\n",
      "875:\tlearn: 0.0097946\ttotal: 507ms\tremaining: 71.7ms\n",
      "876:\tlearn: 0.0097464\ttotal: 507ms\tremaining: 71.1ms\n",
      "877:\tlearn: 0.0096994\ttotal: 508ms\tremaining: 70.5ms\n",
      "878:\tlearn: 0.0096545\ttotal: 508ms\tremaining: 69.9ms\n",
      "879:\tlearn: 0.0096403\ttotal: 509ms\tremaining: 69.4ms\n",
      "880:\tlearn: 0.0095976\ttotal: 509ms\tremaining: 68.8ms\n",
      "881:\tlearn: 0.0095491\ttotal: 509ms\tremaining: 68.2ms\n",
      "882:\tlearn: 0.0094973\ttotal: 510ms\tremaining: 67.6ms\n",
      "883:\tlearn: 0.0094774\ttotal: 510ms\tremaining: 67ms\n",
      "884:\tlearn: 0.0094636\ttotal: 511ms\tremaining: 66.4ms\n",
      "885:\tlearn: 0.0094499\ttotal: 511ms\tremaining: 65.8ms\n",
      "886:\tlearn: 0.0094103\ttotal: 512ms\tremaining: 65.2ms\n",
      "887:\tlearn: 0.0093634\ttotal: 512ms\tremaining: 64.6ms\n",
      "888:\tlearn: 0.0093177\ttotal: 513ms\tremaining: 64ms\n",
      "889:\tlearn: 0.0092895\ttotal: 513ms\tremaining: 63.5ms\n",
      "890:\tlearn: 0.0092448\ttotal: 514ms\tremaining: 62.9ms\n",
      "891:\tlearn: 0.0092021\ttotal: 515ms\tremaining: 62.3ms\n",
      "892:\tlearn: 0.0091748\ttotal: 515ms\tremaining: 61.7ms\n",
      "893:\tlearn: 0.0091311\ttotal: 516ms\tremaining: 61.1ms\n",
      "894:\tlearn: 0.0090897\ttotal: 516ms\tremaining: 60.5ms\n",
      "895:\tlearn: 0.0090520\ttotal: 517ms\tremaining: 60ms\n",
      "896:\tlearn: 0.0090257\ttotal: 517ms\tremaining: 59.4ms\n",
      "897:\tlearn: 0.0089832\ttotal: 518ms\tremaining: 58.8ms\n",
      "898:\tlearn: 0.0089480\ttotal: 518ms\tremaining: 58.2ms\n",
      "899:\tlearn: 0.0088996\ttotal: 519ms\tremaining: 57.6ms\n",
      "900:\tlearn: 0.0088580\ttotal: 519ms\tremaining: 57ms\n",
      "901:\tlearn: 0.0088393\ttotal: 520ms\tremaining: 56.4ms\n",
      "902:\tlearn: 0.0088014\ttotal: 520ms\tremaining: 55.9ms\n",
      "903:\tlearn: 0.0087886\ttotal: 520ms\tremaining: 55.3ms\n",
      "904:\tlearn: 0.0087428\ttotal: 521ms\tremaining: 54.7ms\n",
      "905:\tlearn: 0.0087302\ttotal: 521ms\tremaining: 54.1ms\n",
      "906:\tlearn: 0.0087191\ttotal: 522ms\tremaining: 53.5ms\n",
      "907:\tlearn: 0.0087068\ttotal: 522ms\tremaining: 52.9ms\n",
      "908:\tlearn: 0.0086595\ttotal: 523ms\tremaining: 52.3ms\n",
      "909:\tlearn: 0.0086492\ttotal: 523ms\tremaining: 51.7ms\n",
      "910:\tlearn: 0.0086091\ttotal: 525ms\tremaining: 51.3ms\n",
      "911:\tlearn: 0.0085709\ttotal: 525ms\tremaining: 50.7ms\n",
      "912:\tlearn: 0.0085325\ttotal: 526ms\tremaining: 50.1ms\n",
      "913:\tlearn: 0.0085159\ttotal: 526ms\tremaining: 49.5ms\n",
      "914:\tlearn: 0.0084990\ttotal: 527ms\tremaining: 48.9ms\n",
      "915:\tlearn: 0.0084940\ttotal: 527ms\tremaining: 48.3ms\n",
      "916:\tlearn: 0.0084774\ttotal: 528ms\tremaining: 47.8ms\n",
      "917:\tlearn: 0.0084725\ttotal: 528ms\tremaining: 47.2ms\n",
      "918:\tlearn: 0.0084311\ttotal: 528ms\tremaining: 46.6ms\n",
      "919:\tlearn: 0.0084213\ttotal: 530ms\tremaining: 46.1ms\n",
      "920:\tlearn: 0.0084165\ttotal: 530ms\tremaining: 45.5ms\n",
      "921:\tlearn: 0.0084003\ttotal: 530ms\tremaining: 44.9ms\n",
      "922:\tlearn: 0.0083509\ttotal: 531ms\tremaining: 44.3ms\n",
      "923:\tlearn: 0.0083358\ttotal: 531ms\tremaining: 43.7ms\n",
      "924:\tlearn: 0.0082983\ttotal: 532ms\tremaining: 43.1ms\n",
      "925:\tlearn: 0.0082623\ttotal: 532ms\tremaining: 42.5ms\n",
      "926:\tlearn: 0.0082353\ttotal: 533ms\tremaining: 41.9ms\n",
      "927:\tlearn: 0.0082251\ttotal: 533ms\tremaining: 41.4ms\n",
      "928:\tlearn: 0.0082158\ttotal: 534ms\tremaining: 40.8ms\n",
      "929:\tlearn: 0.0081847\ttotal: 534ms\tremaining: 40.2ms\n",
      "930:\tlearn: 0.0081412\ttotal: 535ms\tremaining: 39.6ms\n",
      "931:\tlearn: 0.0081268\ttotal: 536ms\tremaining: 39.1ms\n",
      "932:\tlearn: 0.0081177\ttotal: 536ms\tremaining: 38.5ms\n",
      "933:\tlearn: 0.0080804\ttotal: 537ms\tremaining: 37.9ms\n",
      "934:\tlearn: 0.0080707\ttotal: 537ms\tremaining: 37.3ms\n",
      "935:\tlearn: 0.0080611\ttotal: 538ms\tremaining: 36.8ms\n",
      "936:\tlearn: 0.0080567\ttotal: 538ms\tremaining: 36.2ms\n",
      "937:\tlearn: 0.0080305\ttotal: 539ms\tremaining: 35.6ms\n",
      "938:\tlearn: 0.0080156\ttotal: 539ms\tremaining: 35ms\n",
      "939:\tlearn: 0.0079794\ttotal: 540ms\tremaining: 34.4ms\n",
      "940:\tlearn: 0.0079705\ttotal: 540ms\tremaining: 33.9ms\n",
      "941:\tlearn: 0.0079612\ttotal: 541ms\tremaining: 33.3ms\n",
      "942:\tlearn: 0.0079519\ttotal: 541ms\tremaining: 32.7ms\n",
      "943:\tlearn: 0.0079323\ttotal: 542ms\tremaining: 32.1ms\n",
      "944:\tlearn: 0.0079067\ttotal: 542ms\tremaining: 31.6ms\n",
      "945:\tlearn: 0.0078924\ttotal: 543ms\tremaining: 31ms\n",
      "946:\tlearn: 0.0078571\ttotal: 543ms\tremaining: 30.4ms\n",
      "947:\tlearn: 0.0078481\ttotal: 544ms\tremaining: 29.8ms\n",
      "948:\tlearn: 0.0078398\ttotal: 544ms\tremaining: 29.3ms\n",
      "949:\tlearn: 0.0078309\ttotal: 545ms\tremaining: 28.7ms\n",
      "950:\tlearn: 0.0078019\ttotal: 546ms\tremaining: 28.1ms\n",
      "951:\tlearn: 0.0077605\ttotal: 546ms\tremaining: 27.5ms\n",
      "952:\tlearn: 0.0077519\ttotal: 547ms\tremaining: 27ms\n",
      "953:\tlearn: 0.0077434\ttotal: 547ms\tremaining: 26.4ms\n",
      "954:\tlearn: 0.0077026\ttotal: 548ms\tremaining: 25.8ms\n",
      "955:\tlearn: 0.0076842\ttotal: 548ms\tremaining: 25.2ms\n",
      "956:\tlearn: 0.0076509\ttotal: 549ms\tremaining: 24.6ms\n",
      "957:\tlearn: 0.0076239\ttotal: 549ms\tremaining: 24.1ms\n",
      "958:\tlearn: 0.0075925\ttotal: 550ms\tremaining: 23.5ms\n",
      "959:\tlearn: 0.0075533\ttotal: 550ms\tremaining: 22.9ms\n",
      "960:\tlearn: 0.0075353\ttotal: 551ms\tremaining: 22.4ms\n",
      "961:\tlearn: 0.0075271\ttotal: 551ms\tremaining: 21.8ms\n",
      "962:\tlearn: 0.0075032\ttotal: 552ms\tremaining: 21.2ms\n",
      "963:\tlearn: 0.0074728\ttotal: 552ms\tremaining: 20.6ms\n",
      "964:\tlearn: 0.0074429\ttotal: 553ms\tremaining: 20.1ms\n",
      "965:\tlearn: 0.0074097\ttotal: 554ms\tremaining: 19.5ms\n",
      "966:\tlearn: 0.0073801\ttotal: 554ms\tremaining: 18.9ms\n",
      "967:\tlearn: 0.0073483\ttotal: 555ms\tremaining: 18.3ms\n",
      "968:\tlearn: 0.0073143\ttotal: 555ms\tremaining: 17.8ms\n",
      "969:\tlearn: 0.0072858\ttotal: 556ms\tremaining: 17.2ms\n"
     ]
    },
    {
     "name": "stdout",
     "output_type": "stream",
     "text": [
      "970:\tlearn: 0.0072547\ttotal: 556ms\tremaining: 16.6ms\n",
      "971:\tlearn: 0.0072219\ttotal: 557ms\tremaining: 16ms\n",
      "972:\tlearn: 0.0071945\ttotal: 557ms\tremaining: 15.5ms\n",
      "973:\tlearn: 0.0071604\ttotal: 558ms\tremaining: 14.9ms\n",
      "974:\tlearn: 0.0071290\ttotal: 558ms\tremaining: 14.3ms\n",
      "975:\tlearn: 0.0071026\ttotal: 559ms\tremaining: 13.7ms\n",
      "976:\tlearn: 0.0070686\ttotal: 559ms\tremaining: 13.2ms\n",
      "977:\tlearn: 0.0070650\ttotal: 559ms\tremaining: 12.6ms\n",
      "978:\tlearn: 0.0070615\ttotal: 560ms\tremaining: 12ms\n",
      "979:\tlearn: 0.0070580\ttotal: 560ms\tremaining: 11.4ms\n",
      "980:\tlearn: 0.0070280\ttotal: 561ms\tremaining: 10.9ms\n",
      "981:\tlearn: 0.0070094\ttotal: 561ms\tremaining: 10.3ms\n",
      "982:\tlearn: 0.0069717\ttotal: 561ms\tremaining: 9.71ms\n",
      "983:\tlearn: 0.0069468\ttotal: 562ms\tremaining: 9.14ms\n",
      "984:\tlearn: 0.0069149\ttotal: 562ms\tremaining: 8.56ms\n",
      "985:\tlearn: 0.0068861\ttotal: 563ms\tremaining: 7.99ms\n",
      "986:\tlearn: 0.0068516\ttotal: 563ms\tremaining: 7.42ms\n",
      "987:\tlearn: 0.0068158\ttotal: 564ms\tremaining: 6.85ms\n",
      "988:\tlearn: 0.0067923\ttotal: 564ms\tremaining: 6.28ms\n",
      "989:\tlearn: 0.0067890\ttotal: 565ms\tremaining: 5.7ms\n",
      "990:\tlearn: 0.0067711\ttotal: 565ms\tremaining: 5.13ms\n",
      "991:\tlearn: 0.0067449\ttotal: 566ms\tremaining: 4.56ms\n",
      "992:\tlearn: 0.0067116\ttotal: 566ms\tremaining: 3.99ms\n",
      "993:\tlearn: 0.0066938\ttotal: 566ms\tremaining: 3.42ms\n",
      "994:\tlearn: 0.0066906\ttotal: 567ms\tremaining: 2.85ms\n",
      "995:\tlearn: 0.0066621\ttotal: 568ms\tremaining: 2.28ms\n",
      "996:\tlearn: 0.0066312\ttotal: 568ms\tremaining: 1.71ms\n",
      "997:\tlearn: 0.0066134\ttotal: 568ms\tremaining: 1.14ms\n",
      "998:\tlearn: 0.0066011\ttotal: 569ms\tremaining: 569us\n",
      "999:\tlearn: 0.0065980\ttotal: 569ms\tremaining: 0us\n"
     ]
    },
    {
     "data": {
      "text/plain": [
       "<catboost.core.CatBoostRegressor at 0x7f9b59948070>"
      ]
     },
     "execution_count": 9,
     "metadata": {},
     "output_type": "execute_result"
    }
   ],
   "source": [
    "#Train the Model \n",
    "prior_model = ctb.CatBoostRegressor()\n",
    "prior_model.fit(X_train,Y_train)"
   ]
  },
  {
   "cell_type": "code",
   "execution_count": 10,
   "id": "af65dcda",
   "metadata": {
    "execution": {
     "iopub.execute_input": "2022-03-08T20:54:41.448809Z",
     "iopub.status.busy": "2022-03-08T20:54:41.448418Z",
     "iopub.status.idle": "2022-03-08T20:54:41.456082Z",
     "shell.execute_reply": "2022-03-08T20:54:41.456318Z"
    },
    "id": "af65dcda",
    "papermill": {
     "duration": 0.020278,
     "end_time": "2022-03-08T20:54:41.456427",
     "exception": false,
     "start_time": "2022-03-08T20:54:41.436149",
     "status": "completed"
    },
    "tags": []
   },
   "outputs": [
    {
     "data": {
      "application/scrapbook.scrap.json+json": {
       "data": 0.17649599733772042,
       "encoder": "json",
       "name": "Prior Model MSE",
       "version": 1
      }
     },
     "metadata": {
      "scrapbook": {
       "data": true,
       "display": false,
       "name": "Prior Model MSE"
      }
     },
     "output_type": "display_data"
    },
    {
     "data": {
      "application/scrapbook.scrap.json+json": {
       "data": 0.20120692682397437,
       "encoder": "json",
       "name": "ABC Pre-generator MSE",
       "version": 1
      }
     },
     "metadata": {
      "scrapbook": {
       "data": true,
       "display": false,
       "name": "ABC Pre-generator MSE"
      }
     },
     "output_type": "display_data"
    },
    {
     "data": {
      "application/scrapbook.scrap.json+json": {
       "data": 0.3359071846702431,
       "encoder": "json",
       "name": "Prior Model MSE",
       "version": 1
      }
     },
     "metadata": {
      "scrapbook": {
       "data": true,
       "display": false,
       "name": "Prior Model MSE"
      }
     },
     "output_type": "display_data"
    },
    {
     "data": {
      "application/scrapbook.scrap.json+json": {
       "data": 0.3492193339909547,
       "encoder": "json",
       "name": "ABC Pre-generator MSE",
       "version": 1
      }
     },
     "metadata": {
      "scrapbook": {
       "data": true,
       "display": false,
       "name": "ABC Pre-generator MSE"
      }
     },
     "output_type": "display_data"
    }
   ],
   "source": [
    "y_pred = prior_model.predict(X_test)\n",
    "y_abc = y_pred + np.random.normal(0,variance, y_pred.shape) + bias \n",
    "mse = mean_squared_error(y_pred,Y_test)\n",
    "sb.glue(\"Prior Model MSE\",mse)\n",
    "mse = mean_squared_error(y_abc,Y_test)\n",
    "sb.glue(\"ABC Pre-generator MSE\",mse)\n",
    "mae = mean_absolute_error(y_pred,Y_test)\n",
    "sb.glue(\"Prior Model MSE\",mae)\n",
    "mae = mean_absolute_error(y_abc,Y_test)\n",
    "sb.glue(\"ABC Pre-generator MSE\",mae)"
   ]
  },
  {
   "cell_type": "markdown",
   "id": "25609da2",
   "metadata": {
    "papermill": {
     "duration": 0.009309,
     "end_time": "2022-03-08T20:54:41.475340",
     "exception": false,
     "start_time": "2022-03-08T20:54:41.466031",
     "status": "completed"
    },
    "tags": []
   },
   "source": [
    "# ABC GAN Model"
   ]
  },
  {
   "cell_type": "code",
   "execution_count": 11,
   "id": "dfc3464d",
   "metadata": {
    "execution": {
     "iopub.execute_input": "2022-03-08T20:54:41.497032Z",
     "iopub.status.busy": "2022-03-08T20:54:41.496667Z",
     "iopub.status.idle": "2022-03-08T20:54:41.499010Z",
     "shell.execute_reply": "2022-03-08T20:54:41.499239Z"
    },
    "papermill": {
     "duration": 0.014737,
     "end_time": "2022-03-08T20:54:41.499346",
     "exception": false,
     "start_time": "2022-03-08T20:54:41.484609",
     "status": "completed"
    },
    "tags": []
   },
   "outputs": [],
   "source": [
    "gen = network.Generator(n_features+1).to(device)\n",
    "disc = network.Discriminator(n_features+1).to(device)\n",
    "\n",
    "criterion = torch.nn.BCELoss()\n",
    "gen_opt = torch.optim.Adam(gen.parameters(), lr=0.001, betas=(0.5, 0.999))\n",
    "disc_opt = torch.optim.Adam(disc.parameters(), lr=0.001, betas=(0.5, 0.999))"
   ]
  },
  {
   "cell_type": "code",
   "execution_count": 12,
   "id": "b75fdd85",
   "metadata": {
    "execution": {
     "iopub.execute_input": "2022-03-08T20:54:41.520557Z",
     "iopub.status.busy": "2022-03-08T20:54:41.520194Z",
     "iopub.status.idle": "2022-03-08T20:54:55.005816Z",
     "shell.execute_reply": "2022-03-08T20:54:55.006140Z"
    },
    "papermill": {
     "duration": 13.49737,
     "end_time": "2022-03-08T20:54:55.006264",
     "exception": false,
     "start_time": "2022-03-08T20:54:41.508894",
     "status": "completed"
    },
    "tags": []
   },
   "outputs": [
    {
     "data": {
      "image/png": "[encoded data removed]",
      "text/plain": [
       "<Figure size 432x288 with 1 Axes>"
      ]
     },
     "metadata": {
      "needs_background": "light"
     },
     "output_type": "display_data"
    },
    {
     "data": {
      "image/png": "[encoded data removed]",
      "text/plain": [
       "<Figure size 432x288 with 1 Axes>"
      ]
     },
     "metadata": {
      "needs_background": "light"
     },
     "output_type": "display_data"
    }
   ],
   "source": [
    "#Training the ABC_GAN \n",
    "ABC_train_test2.training_GAN(disc,gen,disc_opt,gen_opt,train_data,batch_size,n_epochs,criterion,prior_model,variance,bias,device)"
   ]
  },
  {
   "cell_type": "code",
   "execution_count": 13,
   "id": "1fa7c368",
   "metadata": {
    "execution": {
     "iopub.execute_input": "2022-03-08T20:54:55.030185Z",
     "iopub.status.busy": "2022-03-08T20:54:55.029808Z",
     "iopub.status.idle": "2022-03-08T20:54:55.203272Z",
     "shell.execute_reply": "2022-03-08T20:54:55.203541Z"
    },
    "papermill": {
     "duration": 0.186394,
     "end_time": "2022-03-08T20:54:55.203665",
     "exception": false,
     "start_time": "2022-03-08T20:54:55.017271",
     "status": "completed"
    },
    "tags": []
   },
   "outputs": [
    {
     "data": {
      "application/scrapbook.scrap.json+json": {
       "data": 0.10742401200735723,
       "encoder": "json",
       "name": "ABC-GAN Model 1 MSE",
       "version": 1
      }
     },
     "metadata": {
      "scrapbook": {
       "data": true,
       "display": false,
       "name": "ABC-GAN Model 1 MSE"
      }
     },
     "output_type": "display_data"
    },
    {
     "data": {
      "application/scrapbook.scrap.json+json": {
       "data": 0.2648807727843523,
       "encoder": "json",
       "name": "ABC-GAN Model 1 MAE",
       "version": 1
      }
     },
     "metadata": {
      "scrapbook": {
       "data": true,
       "display": false,
       "name": "ABC-GAN Model 1 MAE"
      }
     },
     "output_type": "display_data"
    },
    {
     "data": {
      "application/scrapbook.scrap.json+json": {
       "data": 5.297615455687046,
       "encoder": "json",
       "name": "ABC-GAN Model 1 Manhattan Distance",
       "version": 1
      }
     },
     "metadata": {
      "scrapbook": {
       "data": true,
       "display": false,
       "name": "ABC-GAN Model 1 Manhattan Distance"
      }
     },
     "output_type": "display_data"
    },
    {
     "data": {
      "application/scrapbook.scrap.json+json": {
       "data": 1.4647302516988412,
       "encoder": "json",
       "name": "ABC-GAN Model 1 Euclidean distance",
       "version": 1
      }
     },
     "metadata": {
      "scrapbook": {
       "data": true,
       "display": false,
       "name": "ABC-GAN Model 1 Euclidean distance"
      }
     },
     "output_type": "display_data"
    },
    {
     "data": {
      "application/scrapbook.scrap.json+json": {
       "data": [
        [
         0.10476135630535355,
         0.10854992414604206,
         0.11648666615726455,
         0.10861786372237106,
         0.10048273332028339,
         0.1019136774942028,
         0.09980200984206272,
         0.09741139162926801,
         0.10246319615005431,
         0.10823248870510227,
         0.11769716255245707,
         0.0965253837922016,
         0.09933452322598264,
         0.10202458618162633,
         0.11119866347065122,
         0.10738802924532828,
         0.0975596495180102,
         0.12485480437849476,
         0.10564215544363278,
         0.10820331327162322,
         0.11904448489627831,
         0.10263338930959316,
         0.11315869719826051,
         0.1185912502913681,
         0.09457368470932438,
         0.11344221971203199,
         0.12169264764060106,
         0.10747107076803397,
         0.10169117252848588,
         0.11389023583754136,
         0.10267913053198527,
         0.09904122795909054,
         0.10712247723792653,
         0.10595311280331395,
         0.10442935830988591,
         0.10683543060169395,
         0.11902992077677599,
         0.11826357055808204,
         0.10661981582383273,
         0.10649929269532676,
         0.11740526493334813,
         0.10157639223537851,
         0.09543467287004836,
         0.09139446413687013,
         0.10663509309281091,
         0.10320799278035517,
         0.11584122940105587,
         0.10039734083044112,
         0.10160008756975905,
         0.11309332210667736,
         0.11248116519038157,
         0.09339478550557752,
         0.10354648027800954,
         0.11161527742320158,
         0.11385012779312528,
         0.12848603725699004,
         0.11494811076348052,
         0.09845972139716905,
         0.11237782533971079,
         0.1100004500473688,
         0.11023873279764058,
         0.1179474964280109,
         0.11639484060595655,
         0.09729261925382836,
         0.10940929970794003,
         0.0995883599217229,
         0.09740457558522836,
         0.10028079034470043,
         0.1111494813759029,
         0.10452856745418995,
         0.10531845914747864,
         0.10408428000159317,
         0.11221670989566537,
         0.11219085591617776,
         0.10322219049673934,
         0.1166370910046112,
         0.10092661658828903,
         0.09700142806637031,
         0.10868763445305843,
         0.09451845451783975,
         0.10876150879290684,
         0.10549558980600407,
         0.10829370634011504,
         0.1204966605731435,
         0.09361144044874684,
         0.105892402004827,
         0.11109754212239698,
         0.1201101764448099,
         0.12157552326456984,
         0.09807225362691394,
         0.11670197725420417,
         0.10842085204740197,
         0.11789162312105224,
         0.1046880725130579,
         0.11092356192282712,
         0.11034274667849915,
         0.09312113709368233,
         0.11868429267224685,
         0.10972926661626037,
         0.09189477413590783
        ],
        [
         0.2599597666412592,
         0.26201578304171563,
         0.2748906422406435,
         0.27280890084803106,
         0.25076902732253076,
         0.2634860869497061,
         0.2590516932308674,
         0.261564527079463,
         0.25392048992216587,
         0.27645773217082026,
         0.27266179881989955,
         0.2468748901039362,
         0.2570056553930044,
         0.26071732118725777,
         0.2629934217780828,
         0.26188418082892895,
         0.2501226205378771,
         0.2870915185660124,
         0.2580884650349617,
         0.2628690980374813,
         0.282255033403635,
         0.25753099247813227,
         0.2758912093937397,
         0.27882878445088866,
         0.24799295850098133,
         0.27256726026535033,
         0.28731103260070084,
         0.27280334290117025,
         0.26028454042971133,
         0.2561955485492945,
         0.26223046630620955,
         0.2636182405054569,
         0.2649673389270902,
         0.2701382376253605,
         0.2661616627126932,
         0.26011674422770736,
         0.2776872355490923,
         0.2777642671018839,
         0.25307770930230616,
         0.2552068617194891,
         0.27490976490080354,
         0.2627997901290655,
         0.2577902223914862,
         0.24022748321294785,
         0.25986351631581783,
         0.2617610562592745,
         0.27191346921026704,
         0.25218660943210125,
         0.25733634904026986,
         0.2678623698651791,
         0.26902284733951093,
         0.2541891973465681,
         0.2605904471129179,
         0.2721804235130548,
         0.2664398480206728,
         0.29102950021624563,
         0.2704481579363346,
         0.24540489688515663,
         0.2729825131595135,
         0.2581045154482126,
         0.2607486616820097,
         0.2797032479196787,
         0.27909821420907976,
         0.25225588250905273,
         0.2682921139523387,
         0.25958604738116264,
         0.2577181439846754,
         0.25250700302422047,
         0.2840827006846666,
         0.2643255330622196,
         0.25985333770513536,
         0.2605789668858051,
         0.26820896491408347,
         0.26526597179472444,
         0.25529816523194315,
         0.28163121789693835,
         0.2632876195013523,
         0.2557189419865608,
         0.26832063160836694,
         0.25999502576887606,
         0.26463875323534014,
         0.2703209925442934,
         0.2591753456741571,
         0.267398501560092,
         0.24669917598366736,
         0.2648204702883959,
         0.26919158883392813,
         0.27365729995071886,
         0.2873275324702263,
         0.2499618347734213,
         0.2820633601397276,
         0.27302177622914314,
         0.27154854834079745,
         0.26365745030343535,
         0.26839462034404277,
         0.27646927498281004,
         0.2304699845612049,
         0.28602698594331744,
         0.2760625220835209,
         0.24578880406916143
        ],
        [
         5.199195332825184,
         5.240315660834312,
         5.49781284481287,
         5.456178016960621,
         5.015380546450615,
         5.2697217389941216,
         5.181033864617348,
         5.23129054158926,
         5.078409798443317,
         5.529154643416405,
         5.453235976397991,
         4.937497802078724,
         5.140113107860088,
         5.214346423745155,
         5.259868435561657,
         5.237683616578579,
         5.002452410757542,
         5.741830371320248,
         5.161769300699234,
         5.257381960749626,
         5.6451006680727005,
         5.150619849562645,
         5.517824187874794,
         5.576575689017773,
         4.959859170019627,
         5.451345205307007,
         5.746220652014017,
         5.456066858023405,
         5.205690808594227,
         5.123910970985889,
         5.244609326124191,
         5.2723648101091385,
         5.299346778541803,
         5.40276475250721,
         5.323233254253864,
         5.202334884554148,
         5.553744710981846,
         5.555285342037678,
         5.0615541860461235,
         5.104137234389782,
         5.498195298016071,
         5.25599580258131,
         5.155804447829723,
         4.804549664258957,
         5.197270326316357,
         5.23522112518549,
         5.438269384205341,
         5.043732188642025,
         5.146726980805397,
         5.357247397303581,
         5.380456946790218,
         5.083783946931362,
         5.211808942258358,
         5.443608470261097,
         5.328796960413456,
         5.820590004324913,
         5.408963158726692,
         4.908097937703133,
         5.4596502631902695,
         5.1620903089642525,
         5.214973233640194,
         5.594064958393574,
         5.581964284181595,
         5.045117650181055,
         5.365842279046774,
         5.191720947623253,
         5.154362879693508,
         5.050140060484409,
         5.681654013693333,
         5.286510661244392,
         5.197066754102707,
         5.211579337716103,
         5.36417929828167,
         5.305319435894489,
         5.105963304638863,
         5.6326243579387665,
         5.265752390027046,
         5.114378839731216,
         5.366412632167339,
         5.1999005153775215,
         5.292775064706802,
         5.406419850885868,
         5.183506913483143,
         5.3479700312018394,
         4.9339835196733475,
         5.296409405767918,
         5.383831776678562,
         5.473145999014378,
         5.746550649404526,
         4.999236695468426,
         5.641267202794552,
         5.460435524582863,
         5.4309709668159485,
         5.2731490060687065,
         5.367892406880856,
         5.5293854996562,
         4.609399691224098,
         5.720539718866348,
         5.521250441670418,
         4.915776081383228
        ],
        [
         1.4474899398983991,
         1.473430854475649,
         1.52634639683962,
         1.4738918801755512,
         1.417622892875841,
         1.42768117935485,
         1.4128128668869258,
         1.3957893224213174,
         1.4315250340113113,
         1.4712748805379794,
         1.5342565792751686,
         1.3894271034653212,
         1.4095000760977818,
         1.4284578130391274,
         1.4912991884303513,
         1.4655239967010318,
         1.396851098134731,
         1.5802202655230995,
         1.4535622136230206,
         1.4710765668150874,
         1.543013187865083,
         1.4327134347774726,
         1.5043849055229217,
         1.5400730521073869,
         1.3753085814414479,
         1.5062683672707995,
         1.5600810725125862,
         1.4660905208617507,
         1.4261218217844216,
         1.5092397810655627,
         1.4330326620980087,
         1.4074176917965082,
         1.463710881546807,
         1.4556999196490596,
         1.445194508084541,
         1.4617484776916578,
         1.5429187974535534,
         1.537943890771585,
         1.4602726856572559,
         1.4594471055528306,
         1.5323528636273573,
         1.4253167524124488,
         1.3815547247217417,
         1.3519945572144152,
         1.4603773011986383,
         1.4367184329600229,
         1.522111884199423,
         1.4170204009148288,
         1.425482988812978,
         1.503950279142747,
         1.4998744293465474,
         1.3667098119613945,
         1.4390724809960722,
         1.4940902076059637,
         1.5089740076828713,
         1.6030348546241284,
         1.51623290271304,
         1.403279882255632,
         1.4991852810090605,
         1.4832427316347705,
         1.4848483612654901,
         1.5358873424051056,
         1.5257446746160155,
         1.3949381294797871,
         1.4792518359491058,
         1.4112998258465341,
         1.3957404886670612,
         1.4161976581303928,
         1.4909693583431076,
         1.4458808211895608,
         1.4513335877562996,
         1.4428047685088456,
         1.4981102088675944,
         1.4979376216396847,
         1.4368172500129537,
         1.5273316012222833,
         1.4207506226519067,
         1.3928490805996916,
         1.474365181717599,
         1.3749069387986936,
         1.4748661552351578,
         1.4525535432885361,
         1.4716909073587092,
         1.5523959583375853,
         1.3682941237083994,
         1.4552828041643795,
         1.4906209586772687,
         1.5499043612094903,
         1.5593301335161187,
         1.4005160022428442,
         1.5277563762210529,
         1.4725545969328402,
         1.535523514121827,
         1.4469835694510003,
         1.4894533354410746,
         1.4855486978116816,
         1.3647061009146426,
         1.5406770763027977,
         1.481413288831043,
         1.3556900393224687
        ]
       ],
       "encoder": "json",
       "name": "ABC_GAN_1 Metrics",
       "version": 1
      }
     },
     "metadata": {
      "scrapbook": {
       "data": true,
       "display": false,
       "name": "ABC_GAN_1 Metrics"
      }
     },
     "output_type": "display_data"
    },
    {
     "name": "stdout",
     "output_type": "stream",
     "text": [
      "MSE\n",
      "0.10742401200735723\n"
     ]
    }
   ],
   "source": [
    "ABC_GAN1_metrics=ABC_train_test2.test_generator(gen,test_data,prior_model,variance,bias,\"1\",device)\n",
    "sb.glue(\"ABC_GAN_1 Metrics\",ABC_GAN1_metrics)\n",
    "\n",
    "print(\"MSE\")\n",
    "print(mean(ABC_GAN1_metrics[0]))"
   ]
  },
  {
   "cell_type": "code",
   "execution_count": 14,
   "id": "eb22ce5c",
   "metadata": {
    "execution": {
     "iopub.execute_input": "2022-03-08T20:54:55.229873Z",
     "iopub.status.busy": "2022-03-08T20:54:55.229506Z",
     "iopub.status.idle": "2022-03-08T20:54:55.527977Z",
     "shell.execute_reply": "2022-03-08T20:54:55.528274Z"
    },
    "papermill": {
     "duration": 0.312596,
     "end_time": "2022-03-08T20:54:55.528398",
     "exception": false,
     "start_time": "2022-03-08T20:54:55.215802",
     "status": "completed"
    },
    "tags": []
   },
   "outputs": [
    {
     "data": {
      "image/png": "[encoded data removed]",
      "text/plain": [
       "<Figure size 432x288 with 1 Axes>"
      ]
     },
     "metadata": {
      "needs_background": "light"
     },
     "output_type": "display_data"
    },
    {
     "data": {
      "image/png": "[encoded data removed]",
      "text/plain": [
       "<Figure size 432x288 with 1 Axes>"
      ]
     },
     "metadata": {
      "needs_background": "light"
     },
     "output_type": "display_data"
    },
    {
     "data": {
      "image/png": "[encoded data removed]",
      "text/plain": [
       "<Figure size 432x288 with 1 Axes>"
      ]
     },
     "metadata": {
      "needs_background": "light"
     },
     "output_type": "display_data"
    },
    {
     "data": {
      "image/png": "[encoded data removed]",
      "text/plain": [
       "<Figure size 432x288 with 1 Axes>"
      ]
     },
     "metadata": {
      "needs_background": "light"
     },
     "output_type": "display_data"
    }
   ],
   "source": [
    "sanityChecks.discProbVsError(train_data,disc,device)\n",
    "sanityChecks.discProbVsError(test_data,disc,device)"
   ]
  },
  {
   "cell_type": "markdown",
   "id": "130f3a4d",
   "metadata": {
    "id": "130f3a4d",
    "papermill": {
     "duration": 0.035473,
     "end_time": "2022-03-08T20:54:55.578274",
     "exception": false,
     "start_time": "2022-03-08T20:54:55.542801",
     "status": "completed"
    },
    "tags": []
   },
   "source": [
    "# ABC - GAN Model with skip connection"
   ]
  },
  {
   "cell_type": "code",
   "execution_count": 15,
   "id": "4e43dad1",
   "metadata": {
    "execution": {
     "iopub.execute_input": "2022-03-08T20:54:55.610036Z",
     "iopub.status.busy": "2022-03-08T20:54:55.609650Z",
     "iopub.status.idle": "2022-03-08T20:54:55.612148Z",
     "shell.execute_reply": "2022-03-08T20:54:55.612417Z"
    },
    "id": "4e43dad1",
    "papermill": {
     "duration": 0.020045,
     "end_time": "2022-03-08T20:54:55.612532",
     "exception": false,
     "start_time": "2022-03-08T20:54:55.592487",
     "status": "completed"
    },
    "tags": []
   },
   "outputs": [],
   "source": [
    "#Generator\n",
    "gen3 = network.GeneratorWithSkipConnection(n_features+1).to(device)\n",
    "constraints=network.weightConstraint()\n",
    "#Discriminator \n",
    "disc3 = network.Discriminator(n_features+1).to(device)\n",
    "\n",
    "criterion = torch.nn.BCELoss()\n",
    "gen_opt = torch.optim.Adam(gen3.parameters(), lr=0.001, betas=(0.5, 0.999))\n",
    "disc_opt = torch.optim.Adam(disc3.parameters(), lr=0.001, betas=(0.5, 0.999))\n"
   ]
  },
  {
   "cell_type": "code",
   "execution_count": 16,
   "id": "26acbc37",
   "metadata": {
    "execution": {
     "iopub.execute_input": "2022-03-08T20:54:55.643467Z",
     "iopub.status.busy": "2022-03-08T20:54:55.643099Z",
     "iopub.status.idle": "2022-03-08T20:55:32.188938Z",
     "shell.execute_reply": "2022-03-08T20:55:32.189239Z"
    },
    "id": "26acbc37",
    "papermill": {
     "duration": 36.562457,
     "end_time": "2022-03-08T20:55:32.189362",
     "exception": false,
     "start_time": "2022-03-08T20:54:55.626905",
     "status": "completed"
    },
    "tags": []
   },
   "outputs": [
    {
     "data": {
      "image/png": "[encoded data removed]",
      "text/plain": [
       "<Figure size 432x288 with 1 Axes>"
      ]
     },
     "metadata": {
      "needs_background": "light"
     },
     "output_type": "display_data"
    },
    {
     "data": {
      "image/png": "[encoded data removed]",
      "text/plain": [
       "<Figure size 432x288 with 1 Axes>"
      ]
     },
     "metadata": {
      "needs_background": "light"
     },
     "output_type": "display_data"
    }
   ],
   "source": [
    "ABC_train_test2.training_GAN_skip_connection(disc3,gen3,disc_opt,gen_opt,train_data,batch_size,n_epochs,criterion,prior_model,variance,bias,device)"
   ]
  },
  {
   "cell_type": "code",
   "execution_count": 17,
   "id": "c5e0717b",
   "metadata": {
    "execution": {
     "iopub.execute_input": "2022-03-08T20:55:32.221866Z",
     "iopub.status.busy": "2022-03-08T20:55:32.221482Z",
     "iopub.status.idle": "2022-03-08T20:55:32.501979Z",
     "shell.execute_reply": "2022-03-08T20:55:32.502286Z"
    },
    "id": "c5e0717b",
    "papermill": {
     "duration": 0.297928,
     "end_time": "2022-03-08T20:55:32.502410",
     "exception": false,
     "start_time": "2022-03-08T20:55:32.204482",
     "status": "completed"
    },
    "tags": []
   },
   "outputs": [
    {
     "data": {
      "application/scrapbook.scrap.json+json": {
       "data": 0.0918259524315144,
       "encoder": "json",
       "name": "ABC-GAN Model 3 MSE",
       "version": 1
      }
     },
     "metadata": {
      "scrapbook": {
       "data": true,
       "display": false,
       "name": "ABC-GAN Model 3 MSE"
      }
     },
     "output_type": "display_data"
    },
    {
     "data": {
      "application/scrapbook.scrap.json+json": {
       "data": 0.23431948309938888,
       "encoder": "json",
       "name": "ABC-GAN Model 3 MAE",
       "version": 1
      }
     },
     "metadata": {
      "scrapbook": {
       "data": true,
       "display": false,
       "name": "ABC-GAN Model 3 MAE"
      }
     },
     "output_type": "display_data"
    },
    {
     "data": {
      "application/scrapbook.scrap.json+json": {
       "data": 4.686389661987778,
       "encoder": "json",
       "name": "ABC-GAN Model 3 Manhattan Distance",
       "version": 1
      }
     },
     "metadata": {
      "scrapbook": {
       "data": true,
       "display": false,
       "name": "ABC-GAN Model 3 Manhattan Distance"
      }
     },
     "output_type": "display_data"
    },
    {
     "data": {
      "application/scrapbook.scrap.json+json": {
       "data": 1.3543937532322319,
       "encoder": "json",
       "name": "ABC-GAN Model 3 Euclidean distance",
       "version": 1
      }
     },
     "metadata": {
      "scrapbook": {
       "data": true,
       "display": false,
       "name": "ABC-GAN Model 3 Euclidean distance"
      }
     },
     "output_type": "display_data"
    },
    {
     "data": {
      "application/scrapbook.scrap.json+json": {
       "data": [
        [
         0.09404387840879373,
         0.08798291043579254,
         0.10322425396444954,
         0.08849462943299619,
         0.08691249153821243,
         0.09249414857067378,
         0.08587732523747785,
         0.08932494256315629,
         0.08094838918330068,
         0.08529785312794085,
         0.09101091961885405,
         0.09191398339761521,
         0.09733759767810267,
         0.09314766740275343,
         0.09191971252902707,
         0.10103179839642644,
         0.08790712235357191,
         0.08579810337421281,
         0.08317284929079591,
         0.10169039170108837,
         0.09134810512935129,
         0.08679425631353485,
         0.08880337351337367,
         0.09408199599182543,
         0.09037873589025816,
         0.08462782043516268,
         0.0893619720604007,
         0.07959367317413349,
         0.0844168487002436,
         0.08818575831867673,
         0.08751646610399369,
         0.1013062972377913,
         0.09051957693024942,
         0.09063497930912669,
         0.0970345317402446,
         0.10306507069761231,
         0.09293417368309094,
         0.08117271164385567,
         0.09189920288219529,
         0.09948041740182781,
         0.10609604742051688,
         0.09713320938831688,
         0.08994640469333452,
         0.09409990005595317,
         0.09268590837752054,
         0.09831506534871892,
         0.10033448913691649,
         0.08412157237760008,
         0.0922016016124137,
         0.09523166725345364,
         0.08611436899730687,
         0.088688806294486,
         0.08303401084660669,
         0.08852943548171471,
         0.09267543983809456,
         0.09697002086032581,
         0.09128716917383303,
         0.09496132230643409,
         0.0948070487607474,
         0.08912205340641811,
         0.09817238233210077,
         0.07574357854768007,
         0.08475270691441485,
         0.0927641172257002,
         0.09357240921816866,
         0.08625984951314294,
         0.0809481180497118,
         0.08182457587446235,
         0.09122086443883781,
         0.09071463313655381,
         0.09017480027748559,
         0.08481514801598264,
         0.09524440542875931,
         0.09067433120607293,
         0.08497848680996303,
         0.08787742542104666,
         0.0879783854777956,
         0.10596083799843262,
         0.09203198023370815,
         0.09929867638211176,
         0.09583811125905713,
         0.09801203142527054,
         0.09874474447839951,
         0.09650880093203706,
         0.08764263072133292,
         0.08845633247917817,
         0.09383085368502458,
         0.08445755244080745,
         0.09241492711502625,
         0.09097885916175168,
         0.08900035489124253,
         0.09657200262632476,
         0.09882236922508832,
         0.09878690654762055,
         0.09252530402119938,
         0.08781527420045439,
         0.10536488839209945,
         0.09928896701659272,
         0.10651042190432566,
         0.09697372113357339
        ],
        [
         0.23949409946799277,
         0.22394625395536422,
         0.2523279059678316,
         0.2320341182872653,
         0.21607908196747302,
         0.23958367332816125,
         0.2301113113760948,
         0.23042651135474443,
         0.2207273978739977,
         0.23979699704796076,
         0.23917719814926386,
         0.22750164347235113,
         0.23660207279026507,
         0.22860861495137214,
         0.2486268738284707,
         0.2470808919519186,
         0.22874631285667418,
         0.2312316820025444,
         0.2275387106463313,
         0.24123819284141063,
         0.233827730640769,
         0.21831421088427305,
         0.22899577692151069,
         0.23472629077732562,
         0.230812350474298,
         0.225871604308486,
         0.2346148781478405,
         0.22097512297332286,
         0.23300365619361402,
         0.2281128615140915,
         0.21868709549307824,
         0.2451896321028471,
         0.2340336252003908,
         0.23970106169581412,
         0.24394677309319376,
         0.23995274491608143,
         0.23493975158780814,
         0.2099530514329672,
         0.22914996445178987,
         0.24925094544887544,
         0.25303049720823767,
         0.2331899868324399,
         0.23158252835273743,
         0.23829499003477395,
         0.2453680567443371,
         0.2479926362633705,
         0.23743765875697137,
         0.2200887855142355,
         0.2309349663555622,
         0.24338684864342214,
         0.2286629170179367,
         0.2258992161601782,
         0.2252987440675497,
         0.22959329504519702,
         0.2394282687222585,
         0.24261515773832798,
         0.23236086729448288,
         0.23462736755609512,
         0.22824426935985684,
         0.23176830373704432,
         0.23580424282699824,
         0.2157894991338253,
         0.2243022808805108,
         0.2395050410181284,
         0.2268319352529943,
         0.23257814012467862,
         0.2135096551850438,
         0.23016679733991624,
         0.24325776547193528,
         0.2399638717994094,
         0.22569370567798613,
         0.21750431461259723,
         0.23748841416090727,
         0.22367327101528645,
         0.2162728477269411,
         0.23156469464302062,
         0.23390101101249455,
         0.25036328863352536,
         0.2303831847384572,
         0.2426796174608171,
         0.2510166144929826,
         0.2404958311468363,
         0.24597280453890563,
         0.24573591649532317,
         0.22854169122874737,
         0.23180047683417798,
         0.23968458250164987,
         0.2187787885311991,
         0.23752156384289264,
         0.22550307922065257,
         0.23343692300841212,
         0.25201287635136393,
         0.25062779531581325,
         0.23404409755021333,
         0.2405036620795727,
         0.23272106237709522,
         0.25985504649579527,
         0.2479056589305401,
         0.24911569356918334,
         0.24069653293117882
        ],
        [
         4.789881989359856,
         4.4789250791072845,
         5.046558119356632,
         4.640682365745306,
         4.321581639349461,
         4.791673466563225,
         4.602226227521896,
         4.608530227094889,
         4.414547957479954,
         4.795939940959215,
         4.783543962985277,
         4.550032869447023,
         4.732041455805302,
         4.572172299027443,
         4.972537476569414,
         4.941617839038372,
         4.574926257133484,
         4.624633640050888,
         4.550774212926626,
         4.824763856828213,
         4.67655461281538,
         4.366284217685461,
         4.579915538430214,
         4.694525815546513,
         4.61624700948596,
         4.51743208616972,
         4.69229756295681,
         4.419502459466457,
         4.66007312387228,
         4.56225723028183,
         4.373741909861565,
         4.903792642056942,
         4.680672504007816,
         4.794021233916283,
         4.878935461863875,
         4.799054898321629,
         4.698795031756163,
         4.199061028659344,
         4.582999289035797,
         4.9850189089775085,
         5.060609944164753,
         4.663799736648798,
         4.6316505670547485,
         4.765899800695479,
         4.907361134886742,
         4.95985272526741,
         4.748753175139427,
         4.40177571028471,
         4.618699327111244,
         4.8677369728684425,
         4.573258340358734,
         4.517984323203564,
         4.505974881350994,
         4.59186590090394,
         4.78856537444517,
         4.85230315476656,
         4.647217345889658,
         4.6925473511219025,
         4.564885387197137,
         4.635366074740887,
         4.716084856539965,
         4.315789982676506,
         4.486045617610216,
         4.790100820362568,
         4.536638705059886,
         4.651562802493572,
         4.270193103700876,
         4.603335946798325,
         4.8651553094387054,
         4.799277435988188,
         4.513874113559723,
         4.3500862922519445,
         4.749768283218145,
         4.473465420305729,
         4.325456954538822,
         4.631293892860413,
         4.678020220249891,
         5.007265772670507,
         4.607663694769144,
         4.853592349216342,
         5.0203322898596525,
         4.809916622936726,
         4.919456090778112,
         4.914718329906464,
         4.570833824574947,
         4.636009536683559,
         4.793691650032997,
         4.375575770623982,
         4.750431276857853,
         4.510061584413052,
         4.6687384601682425,
         5.040257527027279,
         5.0125559063162655,
         4.680881951004267,
         4.8100732415914536,
         4.6544212475419044,
         5.197100929915905,
         4.958113178610802,
         4.982313871383667,
         4.813930658623576
        ],
        [
         1.371450898929989,
         1.326521092450418,
         1.436831611320196,
         1.3303731012990017,
         1.3184270289872886,
         1.3601040296291589,
         1.3105519847566356,
         1.3365997348732066,
         1.2723866486512712,
         1.3061229125005107,
         1.3491546954953242,
         1.355831725529501,
         1.395260532503537,
         1.3649004901658834,
         1.355873980346456,
         1.4214907554847231,
         1.3259496397191857,
         1.309947352943719,
         1.2897507456155697,
         1.426116346593702,
         1.351651620273148,
         1.3175299337285273,
         1.3326918136866728,
         1.371728806957304,
         1.344460753538445,
         1.3009828625709308,
         1.3368767486975057,
         1.2616946791845758,
         1.299360217185701,
         1.328049384011579,
         1.3230001217233027,
         1.4234205087590335,
         1.3455079110153862,
         1.346365324190479,
         1.3930867291037166,
         1.4357233068917723,
         1.3633354222867602,
         1.2741484343973088,
         1.3557227067670976,
         1.410534773777859,
         1.456681484886225,
         1.3937948872651016,
         1.341241251179925,
         1.3718593226417437,
         1.3615131903696016,
         1.4022486608923463,
         1.4165767832130844,
         1.2970857518113448,
         1.3579514101205072,
         1.3800845427252175,
         1.312359470551471,
         1.3318318684765431,
         1.2886738210005408,
         1.3306347017999698,
         1.3614362991935727,
         1.3926235734061507,
         1.3512007191667197,
         1.3781242491621288,
         1.3770043482919536,
         1.3350809219400757,
         1.4012307613815844,
         1.230801190669558,
         1.3019424481474966,
         1.362087495175697,
         1.368008839285541,
         1.3134675444269108,
         1.2723845177438446,
         1.2792542817943768,
         1.3507099202925683,
         1.3469568154662852,
         1.342943038832888,
         1.3024219593970507,
         1.380176839602515,
         1.3466575749318974,
         1.3036754719635024,
         1.3257256535275062,
         1.3264869805451964,
         1.455752987277942,
         1.3567017375510961,
         1.409245730042222,
         1.384471821736052,
         1.4000859361144269,
         1.4053095351444784,
         1.3893077479956488,
         1.3239534034197196,
         1.330085203881151,
         1.3698967383348615,
         1.299673439297791,
         1.35952143870574,
         1.348917040901713,
         1.3341690664323058,
         1.389762588547589,
         1.405861794239308,
         1.4056095229303234,
         1.360333077016062,
         1.3252567615406035,
         1.4516534599696957,
         1.4091768307532786,
         1.459523359897509,
         1.3926501436726555
        ]
       ],
       "encoder": "json",
       "name": "ABC_GAN_3 Metrics",
       "version": 1
      }
     },
     "metadata": {
      "scrapbook": {
       "data": true,
       "display": false,
       "name": "ABC_GAN_3 Metrics"
      }
     },
     "output_type": "display_data"
    },
    {
     "name": "stdout",
     "output_type": "stream",
     "text": [
      "MSE\n",
      "0.0918259524315144\n"
     ]
    }
   ],
   "source": [
    "ABC_GAN3_metrics=ABC_train_test2.test_generator(gen3,test_data,prior_model,variance,bias,\"3\",device)\n",
    "sb.glue(\"ABC_GAN_3 Metrics\",ABC_GAN3_metrics)\n",
    "\n",
    "print(\"MSE\")\n",
    "print(mean(ABC_GAN3_metrics[0]))"
   ]
  },
  {
   "cell_type": "code",
   "execution_count": 18,
   "id": "c8e46b48",
   "metadata": {
    "execution": {
     "iopub.execute_input": "2022-03-08T20:55:32.537820Z",
     "iopub.status.busy": "2022-03-08T20:55:32.537469Z",
     "iopub.status.idle": "2022-03-08T20:55:32.827900Z",
     "shell.execute_reply": "2022-03-08T20:55:32.828199Z"
    },
    "id": "c8e46b48",
    "papermill": {
     "duration": 0.309196,
     "end_time": "2022-03-08T20:55:32.828319",
     "exception": false,
     "start_time": "2022-03-08T20:55:32.519123",
     "status": "completed"
    },
    "tags": []
   },
   "outputs": [
    {
     "data": {
      "image/png": "[encoded data removed]",
      "text/plain": [
       "<Figure size 432x288 with 1 Axes>"
      ]
     },
     "metadata": {
      "needs_background": "light"
     },
     "output_type": "display_data"
    },
    {
     "data": {
      "image/png": "[encoded data removed]",
      "text/plain": [
       "<Figure size 432x288 with 1 Axes>"
      ]
     },
     "metadata": {
      "needs_background": "light"
     },
     "output_type": "display_data"
    },
    {
     "data": {
      "image/png": "[encoded data removed]",
      "text/plain": [
       "<Figure size 432x288 with 1 Axes>"
      ]
     },
     "metadata": {
      "needs_background": "light"
     },
     "output_type": "display_data"
    },
    {
     "data": {
      "image/png": "[encoded data removed]",
      "text/plain": [
       "<Figure size 432x288 with 1 Axes>"
      ]
     },
     "metadata": {
      "needs_background": "light"
     },
     "output_type": "display_data"
    }
   ],
   "source": [
    "sanityChecks.discProbVsError(train_data,disc3,device)\n",
    "sanityChecks.discProbVsError(test_data,disc3,device)"
   ]
  },
  {
   "cell_type": "markdown",
   "id": "a5bd74c3",
   "metadata": {
    "id": "a5bd74c3",
    "papermill": {
     "duration": 0.018764,
     "end_time": "2022-03-08T20:55:32.866133",
     "exception": false,
     "start_time": "2022-03-08T20:55:32.847369",
     "status": "completed"
    },
    "tags": []
   },
   "source": [
    "## Skip Connection Model Analysis - ABC-GAN "
   ]
  },
  {
   "cell_type": "markdown",
   "id": "5744a8bf",
   "metadata": {
    "id": "5744a8bf",
    "papermill": {
     "duration": 0.01838,
     "end_time": "2022-03-08T20:55:32.903068",
     "exception": false,
     "start_time": "2022-03-08T20:55:32.884688",
     "status": "completed"
    },
    "tags": []
   },
   "source": [
    "### Weight Analysis \n",
    "\n",
    "Study the weights of the skip connection layer\n",
    "\n",
    "Equation of the skip connection is \n",
    "\n",
    "$output = y_{gan} * w + y_{abc} * (1-w)$"
   ]
  },
  {
   "cell_type": "code",
   "execution_count": 19,
   "id": "52c31dea",
   "metadata": {
    "execution": {
     "iopub.execute_input": "2022-03-08T20:55:32.942892Z",
     "iopub.status.busy": "2022-03-08T20:55:32.942504Z",
     "iopub.status.idle": "2022-03-08T20:55:32.945941Z",
     "shell.execute_reply": "2022-03-08T20:55:32.946177Z"
    },
    "id": "52c31dea",
    "papermill": {
     "duration": 0.024796,
     "end_time": "2022-03-08T20:55:32.946286",
     "exception": false,
     "start_time": "2022-03-08T20:55:32.921490",
     "status": "completed"
    },
    "tags": []
   },
   "outputs": [
    {
     "name": "stdout",
     "output_type": "stream",
     "text": [
      "Weight of the node at skip connection\n",
      "Parameter containing:\n",
      "tensor([[0.7533]], requires_grad=True)\n"
     ]
    },
    {
     "data": {
      "application/scrapbook.scrap.json+json": {
       "data": 0.7532995939254761,
       "encoder": "json",
       "name": "Skip Connection Weight",
       "version": 1
      }
     },
     "metadata": {
      "scrapbook": {
       "data": true,
       "display": false,
       "name": "Skip Connection Weight"
      }
     },
     "output_type": "display_data"
    }
   ],
   "source": [
    "print(\"Weight of the node at skip connection\")\n",
    "for name,param in gen3.named_parameters():\n",
    "    if(name == \"skipNode.weight\"):\n",
    "        print(param)\n",
    "        sb.glue(\"Skip Connection Weight\",param.item())"
   ]
  }
 ],
 "metadata": {
  "colab": {
   "collapsed_sections": [],
   "name": "ABC_GAN_Model-Catboost_Pre-gen.ipynb",
   "provenance": []
  },
  "interpreter": {
   "hash": "31f2aee4e71d21fbe5cf8b01ff0e069b9275f58929596ceb00d14d90e3e16cd6"
  },
  "kernelspec": {
   "display_name": "Python 3 (ipykernel)",
   "language": "python",
   "name": "python3"
  },
  "language_info": {
   "codemirror_mode": {
    "name": "ipython",
    "version": 3
   },
   "file_extension": ".py",
   "mimetype": "text/x-python",
   "name": "python",
   "nbconvert_exporter": "python",
   "pygments_lexer": "ipython3",
   "version": "3.8.11"
  },
  "papermill": {
   "default_parameters": {},
   "duration": 55.153468,
   "end_time": "2022-03-08T20:55:33.275970",
   "environment_variables": {},
   "exception": null,
   "input_path": "ABC_GAN-Catboost.ipynb",
   "output_path": "./ABC_GAN_Catboost/ABC-GAN_output_9_7.ipynb",
   "parameters": {
    "bias": 0.01,
    "variance": 0.1
   },
   "start_time": "2022-03-08T20:54:38.122502",
   "version": "2.3.3"
  }
 },
 "nbformat": 4,
 "nbformat_minor": 5
}