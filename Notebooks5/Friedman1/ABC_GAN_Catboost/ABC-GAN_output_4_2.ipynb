{
 "cells": [
  {
   "cell_type": "markdown",
   "id": "622780e6",
   "metadata": {
    "id": "622780e6",
    "papermill": {
     "duration": 0.02744,
     "end_time": "2022-03-08T20:08:28.237322",
     "exception": false,
     "start_time": "2022-03-08T20:08:28.209882",
     "status": "completed"
    },
    "tags": []
   },
   "source": [
    "## Import Libraries "
   ]
  },
  {
   "cell_type": "code",
   "execution_count": 1,
   "id": "a62397e3",
   "metadata": {
    "execution": {
     "iopub.execute_input": "2022-03-08T20:08:28.272737Z",
     "iopub.status.busy": "2022-03-08T20:08:28.272223Z",
     "iopub.status.idle": "2022-03-08T20:08:28.274582Z",
     "shell.execute_reply": "2022-03-08T20:08:28.274914Z"
    },
    "id": "a62397e3",
    "papermill": {
     "duration": 0.022143,
     "end_time": "2022-03-08T20:08:28.275110",
     "exception": false,
     "start_time": "2022-03-08T20:08:28.252967",
     "status": "completed"
    },
    "tags": []
   },
   "outputs": [],
   "source": [
    "import warnings\n",
    "import sys\n",
    "sys.path.insert(0, '../../src')\n",
    "warnings.filterwarnings('ignore')"
   ]
  },
  {
   "cell_type": "code",
   "execution_count": 2,
   "id": "d6a4e155",
   "metadata": {
    "execution": {
     "iopub.execute_input": "2022-03-08T20:08:28.296172Z",
     "iopub.status.busy": "2022-03-08T20:08:28.295733Z",
     "iopub.status.idle": "2022-03-08T20:08:29.866031Z",
     "shell.execute_reply": "2022-03-08T20:08:29.866295Z"
    },
    "id": "d6a4e155",
    "papermill": {
     "duration": 1.581537,
     "end_time": "2022-03-08T20:08:29.866415",
     "exception": false,
     "start_time": "2022-03-08T20:08:28.284878",
     "status": "completed"
    },
    "tags": []
   },
   "outputs": [],
   "source": [
    "import ABC_train_test2\n",
    "import friedman1Dataset\n",
    "import network\n",
    "import dataset\n",
    "import sanityChecks\n",
    "import torch \n",
    "import scrapbook as sb\n",
    "from statistics import mean \n",
    "import catboost as ctb \n",
    "from sklearn.model_selection import train_test_split\n",
    "from sklearn.metrics import mean_squared_error,mean_absolute_error\n",
    "import numpy as np"
   ]
  },
  {
   "cell_type": "markdown",
   "id": "2fa5b0f7",
   "metadata": {
    "id": "2fa5b0f7",
    "papermill": {
     "duration": 0.006733,
     "end_time": "2022-03-08T20:08:29.880299",
     "exception": false,
     "start_time": "2022-03-08T20:08:29.873566",
     "status": "completed"
    },
    "tags": []
   },
   "source": [
    "## Parameters "
   ]
  },
  {
   "cell_type": "code",
   "execution_count": 3,
   "id": "783186fb",
   "metadata": {
    "execution": {
     "iopub.execute_input": "2022-03-08T20:08:29.895956Z",
     "iopub.status.busy": "2022-03-08T20:08:29.895596Z",
     "iopub.status.idle": "2022-03-08T20:08:29.897043Z",
     "shell.execute_reply": "2022-03-08T20:08:29.897294Z"
    },
    "id": "783186fb",
    "papermill": {
     "duration": 0.010351,
     "end_time": "2022-03-08T20:08:29.897402",
     "exception": false,
     "start_time": "2022-03-08T20:08:29.887051",
     "status": "completed"
    },
    "tags": [
     "parameters"
    ]
   },
   "outputs": [],
   "source": [
    "variance = 1\n",
    "bias = 1 "
   ]
  },
  {
   "cell_type": "code",
   "execution_count": 4,
   "id": "dd2e2db0",
   "metadata": {
    "execution": {
     "iopub.execute_input": "2022-03-08T20:08:29.912972Z",
     "iopub.status.busy": "2022-03-08T20:08:29.912623Z",
     "iopub.status.idle": "2022-03-08T20:08:29.913931Z",
     "shell.execute_reply": "2022-03-08T20:08:29.914164Z"
    },
    "papermill": {
     "duration": 0.009922,
     "end_time": "2022-03-08T20:08:29.914265",
     "exception": false,
     "start_time": "2022-03-08T20:08:29.904343",
     "status": "completed"
    },
    "tags": [
     "injected-parameters"
    ]
   },
   "outputs": [],
   "source": [
    "# Parameters\n",
    "variance = 0.01\n",
    "bias = 1\n"
   ]
  },
  {
   "cell_type": "markdown",
   "id": "391cdbfd",
   "metadata": {
    "id": "391cdbfd",
    "papermill": {
     "duration": 0.006753,
     "end_time": "2022-03-08T20:08:29.927867",
     "exception": false,
     "start_time": "2022-03-08T20:08:29.921114",
     "status": "completed"
    },
    "tags": []
   },
   "source": [
    "## Dataset \n"
   ]
  },
  {
   "cell_type": "code",
   "execution_count": 5,
   "id": "5b51f161",
   "metadata": {
    "execution": {
     "iopub.execute_input": "2022-03-08T20:08:29.943386Z",
     "iopub.status.busy": "2022-03-08T20:08:29.943025Z",
     "iopub.status.idle": "2022-03-08T20:08:29.944339Z",
     "shell.execute_reply": "2022-03-08T20:08:29.944569Z"
    },
    "id": "5b51f161",
    "papermill": {
     "duration": 0.009956,
     "end_time": "2022-03-08T20:08:29.944674",
     "exception": false,
     "start_time": "2022-03-08T20:08:29.934718",
     "status": "completed"
    },
    "tags": []
   },
   "outputs": [],
   "source": [
    "#Parameters \n",
    "n_features = 5\n",
    "n_samples= 100\n",
    "n_target = 1 "
   ]
  },
  {
   "cell_type": "code",
   "execution_count": 6,
   "id": "5d6eced4",
   "metadata": {
    "execution": {
     "iopub.execute_input": "2022-03-08T20:08:29.961311Z",
     "iopub.status.busy": "2022-03-08T20:08:29.960013Z",
     "iopub.status.idle": "2022-03-08T20:08:29.966191Z",
     "shell.execute_reply": "2022-03-08T20:08:29.966444Z"
    },
    "id": "5d6eced4",
    "papermill": {
     "duration": 0.015029,
     "end_time": "2022-03-08T20:08:29.966556",
     "exception": false,
     "start_time": "2022-03-08T20:08:29.951527",
     "status": "completed"
    },
    "tags": []
   },
   "outputs": [
    {
     "name": "stdout",
     "output_type": "stream",
     "text": [
      "         X0        X1        X2        X3        X4         Y\n",
      "0  0.539282  0.103318  1.707347 -1.472914 -0.091048  0.323893\n",
      "1 -0.097410  1.574256 -1.211123 -0.860914  0.901513  1.088320\n",
      "2  1.812473  0.875376  1.215064 -0.712920  0.360700 -0.121655\n",
      "3  1.163431  0.575976 -1.291807  1.620191 -1.413713  1.852565\n",
      "4  0.352788 -0.527206 -0.693189 -0.755789  1.447104  0.175094\n"
     ]
    }
   ],
   "source": [
    "X,Y = friedman1Dataset.friedman1_data(n_samples,n_features)"
   ]
  },
  {
   "cell_type": "code",
   "execution_count": 7,
   "id": "fe007438",
   "metadata": {
    "execution": {
     "iopub.execute_input": "2022-03-08T20:08:29.983670Z",
     "iopub.status.busy": "2022-03-08T20:08:29.983304Z",
     "iopub.status.idle": "2022-03-08T20:08:29.984789Z",
     "shell.execute_reply": "2022-03-08T20:08:29.985036Z"
    },
    "id": "fe007438",
    "papermill": {
     "duration": 0.01117,
     "end_time": "2022-03-08T20:08:29.985141",
     "exception": false,
     "start_time": "2022-03-08T20:08:29.973971",
     "status": "completed"
    },
    "tags": []
   },
   "outputs": [],
   "source": [
    "#Train test split for dataset \n",
    "X_train,X_test,Y_train,Y_test = train_test_split(X,Y,test_size = 0.2)\n",
    "train_data = dataset.CustomDataset(X_train,Y_train)\n",
    "test_data = dataset.CustomDataset(X_test,Y_test)\n"
   ]
  },
  {
   "cell_type": "markdown",
   "id": "a9a1af34",
   "metadata": {
    "id": "a9a1af34",
    "papermill": {
     "duration": 0.007083,
     "end_time": "2022-03-08T20:08:29.999407",
     "exception": false,
     "start_time": "2022-03-08T20:08:29.992324",
     "status": "completed"
    },
    "tags": []
   },
   "source": [
    "## Training Parameters "
   ]
  },
  {
   "cell_type": "code",
   "execution_count": 8,
   "id": "952b7fc8",
   "metadata": {
    "execution": {
     "iopub.execute_input": "2022-03-08T20:08:30.015780Z",
     "iopub.status.busy": "2022-03-08T20:08:30.015415Z",
     "iopub.status.idle": "2022-03-08T20:08:30.016880Z",
     "shell.execute_reply": "2022-03-08T20:08:30.017133Z"
    },
    "id": "952b7fc8",
    "papermill": {
     "duration": 0.010755,
     "end_time": "2022-03-08T20:08:30.017241",
     "exception": false,
     "start_time": "2022-03-08T20:08:30.006486",
     "status": "completed"
    },
    "tags": []
   },
   "outputs": [],
   "source": [
    "batch_size = 32\n",
    "n_epochs = 1000\n",
    "#Select the device \n",
    "device = torch.device('cuda' if torch.cuda.is_available() else 'cpu')"
   ]
  },
  {
   "cell_type": "markdown",
   "id": "a95e1600",
   "metadata": {
    "id": "a95e1600",
    "papermill": {
     "duration": 0.007065,
     "end_time": "2022-03-08T20:08:30.031482",
     "exception": false,
     "start_time": "2022-03-08T20:08:30.024417",
     "status": "completed"
    },
    "tags": []
   },
   "source": [
    "# ABC Pre-generator Model \n",
    "\n",
    "1. The catboost model is used as a pre-generator model for the ABC-GAN. \n",
    "2. The model is first trained on the entire dataset \n",
    "3. It generats X,Y pairs and we add some Gaussian noise with mean 0 and variance 1 to it which is then feed as input to the generator.\n"
   ]
  },
  {
   "cell_type": "code",
   "execution_count": 9,
   "id": "ff8ce7bd",
   "metadata": {
    "execution": {
     "iopub.execute_input": "2022-03-08T20:08:30.049306Z",
     "iopub.status.busy": "2022-03-08T20:08:30.048912Z",
     "iopub.status.idle": "2022-03-08T20:08:30.670318Z",
     "shell.execute_reply": "2022-03-08T20:08:30.670579Z"
    },
    "id": "ff8ce7bd",
    "papermill": {
     "duration": 0.632088,
     "end_time": "2022-03-08T20:08:30.670698",
     "exception": false,
     "start_time": "2022-03-08T20:08:30.038610",
     "status": "completed"
    },
    "tags": []
   },
   "outputs": [
    {
     "name": "stdout",
     "output_type": "stream",
     "text": [
      "Learning rate set to 0.024897\n",
      "0:\tlearn: 1.0050801\ttotal: 69.3ms\tremaining: 1m 9s\n",
      "1:\tlearn: 0.9944631\ttotal: 69.9ms\tremaining: 34.9s\n",
      "2:\tlearn: 0.9847094\ttotal: 70.4ms\tremaining: 23.4s\n",
      "3:\tlearn: 0.9750397\ttotal: 71.3ms\tremaining: 17.7s\n",
      "4:\tlearn: 0.9669951\ttotal: 71.9ms\tremaining: 14.3s\n",
      "5:\tlearn: 0.9566304\ttotal: 72.5ms\tremaining: 12s\n",
      "6:\tlearn: 0.9451395\ttotal: 73ms\tremaining: 10.4s\n",
      "7:\tlearn: 0.9349038\ttotal: 73.6ms\tremaining: 9.13s\n",
      "8:\tlearn: 0.9255488\ttotal: 74.1ms\tremaining: 8.16s\n",
      "9:\tlearn: 0.9169878\ttotal: 74.7ms\tremaining: 7.4s\n",
      "10:\tlearn: 0.9073726\ttotal: 75.2ms\tremaining: 6.76s\n",
      "11:\tlearn: 0.8975438\ttotal: 75.9ms\tremaining: 6.25s\n",
      "12:\tlearn: 0.8875657\ttotal: 76.3ms\tremaining: 5.79s\n",
      "13:\tlearn: 0.8787359\ttotal: 76.7ms\tremaining: 5.4s\n",
      "14:\tlearn: 0.8717693\ttotal: 77.3ms\tremaining: 5.08s\n",
      "15:\tlearn: 0.8635623\ttotal: 77.9ms\tremaining: 4.79s\n",
      "16:\tlearn: 0.8541291\ttotal: 78.4ms\tremaining: 4.53s\n",
      "17:\tlearn: 0.8462984\ttotal: 78.8ms\tremaining: 4.3s\n",
      "18:\tlearn: 0.8385222\ttotal: 79.5ms\tremaining: 4.1s\n",
      "19:\tlearn: 0.8313264\ttotal: 80.1ms\tremaining: 3.92s\n",
      "20:\tlearn: 0.8225241\ttotal: 80.6ms\tremaining: 3.76s\n",
      "21:\tlearn: 0.8148839\ttotal: 81.2ms\tremaining: 3.61s\n",
      "22:\tlearn: 0.8073750\ttotal: 81.8ms\tremaining: 3.47s\n",
      "23:\tlearn: 0.7984900\ttotal: 82.2ms\tremaining: 3.34s\n",
      "24:\tlearn: 0.7911051\ttotal: 82.7ms\tremaining: 3.23s\n",
      "25:\tlearn: 0.7836460\ttotal: 83.3ms\tremaining: 3.12s\n",
      "26:\tlearn: 0.7767076\ttotal: 83.7ms\tremaining: 3.02s\n",
      "27:\tlearn: 0.7698877\ttotal: 84.2ms\tremaining: 2.92s\n",
      "28:\tlearn: 0.7624792\ttotal: 84.7ms\tremaining: 2.83s\n",
      "29:\tlearn: 0.7556673\ttotal: 85.1ms\tremaining: 2.75s\n",
      "30:\tlearn: 0.7498801\ttotal: 85.5ms\tremaining: 2.67s\n",
      "31:\tlearn: 0.7432310\ttotal: 86ms\tremaining: 2.6s\n",
      "32:\tlearn: 0.7362385\ttotal: 86.5ms\tremaining: 2.54s\n",
      "33:\tlearn: 0.7299514\ttotal: 87ms\tremaining: 2.47s\n",
      "34:\tlearn: 0.7229633\ttotal: 87.4ms\tremaining: 2.41s\n",
      "35:\tlearn: 0.7179422\ttotal: 87.9ms\tremaining: 2.35s\n",
      "36:\tlearn: 0.7106006\ttotal: 88.3ms\tremaining: 2.3s\n",
      "37:\tlearn: 0.7043233\ttotal: 88.8ms\tremaining: 2.25s\n",
      "38:\tlearn: 0.6974336\ttotal: 89.2ms\tremaining: 2.2s\n",
      "39:\tlearn: 0.6905761\ttotal: 89.6ms\tremaining: 2.15s\n",
      "40:\tlearn: 0.6835491\ttotal: 90ms\tremaining: 2.11s\n",
      "41:\tlearn: 0.6777720\ttotal: 90.4ms\tremaining: 2.06s\n",
      "42:\tlearn: 0.6719710\ttotal: 90.9ms\tremaining: 2.02s\n",
      "43:\tlearn: 0.6653777\ttotal: 91.4ms\tremaining: 1.99s\n",
      "44:\tlearn: 0.6595139\ttotal: 91.9ms\tremaining: 1.95s\n",
      "45:\tlearn: 0.6540815\ttotal: 92.3ms\tremaining: 1.91s\n",
      "46:\tlearn: 0.6487317\ttotal: 92.7ms\tremaining: 1.88s\n",
      "47:\tlearn: 0.6429226\ttotal: 93.2ms\tremaining: 1.85s\n",
      "48:\tlearn: 0.6380030\ttotal: 93.6ms\tremaining: 1.82s\n",
      "49:\tlearn: 0.6320090\ttotal: 94.1ms\tremaining: 1.79s\n",
      "50:\tlearn: 0.6259108\ttotal: 94.5ms\tremaining: 1.76s\n",
      "51:\tlearn: 0.6200375\ttotal: 95.1ms\tremaining: 1.73s\n",
      "52:\tlearn: 0.6149697\ttotal: 95.6ms\tremaining: 1.71s\n",
      "53:\tlearn: 0.6093150\ttotal: 96ms\tremaining: 1.68s\n",
      "54:\tlearn: 0.6045242\ttotal: 96.4ms\tremaining: 1.66s\n",
      "55:\tlearn: 0.5998223\ttotal: 96.9ms\tremaining: 1.63s\n",
      "56:\tlearn: 0.5956795\ttotal: 97.3ms\tremaining: 1.61s\n",
      "57:\tlearn: 0.5907509\ttotal: 97.9ms\tremaining: 1.59s\n",
      "58:\tlearn: 0.5869068\ttotal: 98.3ms\tremaining: 1.57s\n",
      "59:\tlearn: 0.5819395\ttotal: 98.7ms\tremaining: 1.55s\n",
      "60:\tlearn: 0.5774326\ttotal: 99ms\tremaining: 1.52s\n",
      "61:\tlearn: 0.5725604\ttotal: 99.5ms\tremaining: 1.5s\n",
      "62:\tlearn: 0.5673491\ttotal: 99.9ms\tremaining: 1.49s\n",
      "63:\tlearn: 0.5621306\ttotal: 100ms\tremaining: 1.47s\n",
      "64:\tlearn: 0.5570836\ttotal: 101ms\tremaining: 1.45s\n",
      "65:\tlearn: 0.5529026\ttotal: 101ms\tremaining: 1.43s\n",
      "66:\tlearn: 0.5479846\ttotal: 102ms\tremaining: 1.42s\n",
      "67:\tlearn: 0.5440058\ttotal: 102ms\tremaining: 1.4s\n",
      "68:\tlearn: 0.5400266\ttotal: 103ms\tremaining: 1.38s\n",
      "69:\tlearn: 0.5352991\ttotal: 103ms\tremaining: 1.37s\n",
      "70:\tlearn: 0.5305526\ttotal: 103ms\tremaining: 1.35s\n",
      "71:\tlearn: 0.5260803\ttotal: 104ms\tremaining: 1.34s\n",
      "72:\tlearn: 0.5216402\ttotal: 104ms\tremaining: 1.32s\n",
      "73:\tlearn: 0.5175323\ttotal: 105ms\tremaining: 1.31s\n",
      "74:\tlearn: 0.5134443\ttotal: 105ms\tremaining: 1.3s\n",
      "75:\tlearn: 0.5096376\ttotal: 106ms\tremaining: 1.28s\n",
      "76:\tlearn: 0.5056913\ttotal: 106ms\tremaining: 1.27s\n",
      "77:\tlearn: 0.5019444\ttotal: 107ms\tremaining: 1.26s\n",
      "78:\tlearn: 0.4980606\ttotal: 107ms\tremaining: 1.25s\n",
      "79:\tlearn: 0.4943342\ttotal: 107ms\tremaining: 1.23s\n",
      "80:\tlearn: 0.4900522\ttotal: 108ms\tremaining: 1.22s\n",
      "81:\tlearn: 0.4863984\ttotal: 108ms\tremaining: 1.21s\n",
      "82:\tlearn: 0.4822823\ttotal: 109ms\tremaining: 1.2s\n"
     ]
    },
    {
     "name": "stdout",
     "output_type": "stream",
     "text": [
      "83:\tlearn: 0.4790481\ttotal: 109ms\tremaining: 1.19s\n",
      "84:\tlearn: 0.4749993\ttotal: 110ms\tremaining: 1.18s\n",
      "85:\tlearn: 0.4710425\ttotal: 110ms\tremaining: 1.17s\n",
      "86:\tlearn: 0.4673674\ttotal: 111ms\tremaining: 1.16s\n",
      "87:\tlearn: 0.4634670\ttotal: 111ms\tremaining: 1.15s\n",
      "88:\tlearn: 0.4595035\ttotal: 111ms\tremaining: 1.14s\n",
      "89:\tlearn: 0.4558392\ttotal: 112ms\tremaining: 1.13s\n",
      "90:\tlearn: 0.4521886\ttotal: 112ms\tremaining: 1.12s\n",
      "91:\tlearn: 0.4483958\ttotal: 112ms\tremaining: 1.11s\n",
      "92:\tlearn: 0.4450916\ttotal: 113ms\tremaining: 1.1s\n",
      "93:\tlearn: 0.4413639\ttotal: 113ms\tremaining: 1.09s\n",
      "94:\tlearn: 0.4378420\ttotal: 114ms\tremaining: 1.08s\n",
      "95:\tlearn: 0.4340646\ttotal: 114ms\tremaining: 1.07s\n",
      "96:\tlearn: 0.4312267\ttotal: 115ms\tremaining: 1.07s\n",
      "97:\tlearn: 0.4281959\ttotal: 115ms\tremaining: 1.06s\n",
      "98:\tlearn: 0.4252053\ttotal: 115ms\tremaining: 1.05s\n",
      "99:\tlearn: 0.4221245\ttotal: 116ms\tremaining: 1.04s\n",
      "100:\tlearn: 0.4191282\ttotal: 116ms\tremaining: 1.03s\n",
      "101:\tlearn: 0.4158810\ttotal: 117ms\tremaining: 1.03s\n",
      "102:\tlearn: 0.4133070\ttotal: 117ms\tremaining: 1.02s\n",
      "103:\tlearn: 0.4100674\ttotal: 117ms\tremaining: 1.01s\n",
      "104:\tlearn: 0.4066646\ttotal: 118ms\tremaining: 1s\n",
      "105:\tlearn: 0.4035918\ttotal: 118ms\tremaining: 997ms\n",
      "106:\tlearn: 0.4011691\ttotal: 119ms\tremaining: 990ms\n",
      "107:\tlearn: 0.3980853\ttotal: 119ms\tremaining: 983ms\n",
      "108:\tlearn: 0.3952513\ttotal: 120ms\tremaining: 977ms\n",
      "109:\tlearn: 0.3922424\ttotal: 120ms\tremaining: 972ms\n",
      "110:\tlearn: 0.3895891\ttotal: 121ms\tremaining: 966ms\n",
      "111:\tlearn: 0.3865505\ttotal: 121ms\tremaining: 959ms\n",
      "112:\tlearn: 0.3834529\ttotal: 121ms\tremaining: 953ms\n",
      "113:\tlearn: 0.3805755\ttotal: 122ms\tremaining: 947ms\n",
      "114:\tlearn: 0.3770960\ttotal: 122ms\tremaining: 941ms\n",
      "115:\tlearn: 0.3742147\ttotal: 123ms\tremaining: 935ms\n",
      "116:\tlearn: 0.3713846\ttotal: 123ms\tremaining: 929ms\n",
      "117:\tlearn: 0.3685754\ttotal: 123ms\tremaining: 923ms\n",
      "118:\tlearn: 0.3656813\ttotal: 125ms\tremaining: 923ms\n",
      "119:\tlearn: 0.3630257\ttotal: 125ms\tremaining: 918ms\n",
      "120:\tlearn: 0.3602198\ttotal: 125ms\tremaining: 912ms\n",
      "121:\tlearn: 0.3574599\ttotal: 126ms\tremaining: 906ms\n",
      "122:\tlearn: 0.3546154\ttotal: 126ms\tremaining: 901ms\n",
      "123:\tlearn: 0.3520465\ttotal: 127ms\tremaining: 896ms\n",
      "124:\tlearn: 0.3499679\ttotal: 127ms\tremaining: 891ms\n",
      "125:\tlearn: 0.3474546\ttotal: 128ms\tremaining: 885ms\n",
      "126:\tlearn: 0.3446876\ttotal: 128ms\tremaining: 881ms\n",
      "127:\tlearn: 0.3427024\ttotal: 129ms\tremaining: 876ms\n",
      "128:\tlearn: 0.3402826\ttotal: 129ms\tremaining: 872ms\n",
      "129:\tlearn: 0.3375788\ttotal: 130ms\tremaining: 868ms\n",
      "130:\tlearn: 0.3352991\ttotal: 130ms\tremaining: 864ms\n",
      "131:\tlearn: 0.3327037\ttotal: 131ms\tremaining: 859ms\n",
      "132:\tlearn: 0.3301457\ttotal: 131ms\tremaining: 854ms\n",
      "133:\tlearn: 0.3273592\ttotal: 132ms\tremaining: 850ms\n",
      "134:\tlearn: 0.3254689\ttotal: 132ms\tremaining: 846ms\n",
      "135:\tlearn: 0.3235107\ttotal: 133ms\tremaining: 842ms\n",
      "136:\tlearn: 0.3213263\ttotal: 133ms\tremaining: 840ms\n",
      "137:\tlearn: 0.3189936\ttotal: 134ms\tremaining: 837ms\n",
      "138:\tlearn: 0.3165305\ttotal: 134ms\tremaining: 832ms\n",
      "139:\tlearn: 0.3145618\ttotal: 135ms\tremaining: 828ms\n",
      "140:\tlearn: 0.3119503\ttotal: 135ms\tremaining: 825ms\n",
      "141:\tlearn: 0.3098628\ttotal: 136ms\tremaining: 821ms\n",
      "142:\tlearn: 0.3078957\ttotal: 136ms\tremaining: 817ms\n",
      "143:\tlearn: 0.3057684\ttotal: 137ms\tremaining: 814ms\n",
      "144:\tlearn: 0.3037369\ttotal: 137ms\tremaining: 810ms\n",
      "145:\tlearn: 0.3016758\ttotal: 138ms\tremaining: 807ms\n",
      "146:\tlearn: 0.2996472\ttotal: 138ms\tremaining: 803ms\n",
      "147:\tlearn: 0.2974952\ttotal: 139ms\tremaining: 799ms\n",
      "148:\tlearn: 0.2955497\ttotal: 139ms\tremaining: 796ms\n",
      "149:\tlearn: 0.2939870\ttotal: 140ms\tremaining: 793ms\n",
      "150:\tlearn: 0.2918971\ttotal: 140ms\tremaining: 790ms\n",
      "151:\tlearn: 0.2899158\ttotal: 141ms\tremaining: 786ms\n",
      "152:\tlearn: 0.2884997\ttotal: 141ms\tremaining: 783ms\n",
      "153:\tlearn: 0.2869750\ttotal: 142ms\tremaining: 780ms\n",
      "154:\tlearn: 0.2851083\ttotal: 143ms\tremaining: 777ms\n",
      "155:\tlearn: 0.2829758\ttotal: 143ms\tremaining: 775ms\n",
      "156:\tlearn: 0.2809662\ttotal: 144ms\tremaining: 772ms\n",
      "157:\tlearn: 0.2789222\ttotal: 144ms\tremaining: 768ms\n",
      "158:\tlearn: 0.2773319\ttotal: 145ms\tremaining: 765ms\n",
      "159:\tlearn: 0.2754626\ttotal: 145ms\tremaining: 762ms\n",
      "160:\tlearn: 0.2738127\ttotal: 146ms\tremaining: 759ms\n",
      "161:\tlearn: 0.2718794\ttotal: 146ms\tremaining: 757ms\n",
      "162:\tlearn: 0.2700480\ttotal: 147ms\tremaining: 753ms\n",
      "163:\tlearn: 0.2680846\ttotal: 147ms\tremaining: 751ms\n",
      "164:\tlearn: 0.2662563\ttotal: 148ms\tremaining: 748ms\n",
      "165:\tlearn: 0.2641904\ttotal: 148ms\tremaining: 745ms\n",
      "166:\tlearn: 0.2624812\ttotal: 150ms\tremaining: 750ms\n",
      "167:\tlearn: 0.2609200\ttotal: 151ms\tremaining: 747ms\n",
      "168:\tlearn: 0.2587873\ttotal: 151ms\tremaining: 744ms\n",
      "169:\tlearn: 0.2570999\ttotal: 152ms\tremaining: 740ms\n",
      "170:\tlearn: 0.2554559\ttotal: 152ms\tremaining: 737ms\n",
      "171:\tlearn: 0.2531401\ttotal: 152ms\tremaining: 734ms\n",
      "172:\tlearn: 0.2515628\ttotal: 153ms\tremaining: 731ms\n",
      "173:\tlearn: 0.2500234\ttotal: 153ms\tremaining: 728ms\n",
      "174:\tlearn: 0.2480928\ttotal: 154ms\tremaining: 726ms\n",
      "175:\tlearn: 0.2464708\ttotal: 155ms\tremaining: 724ms\n",
      "176:\tlearn: 0.2448070\ttotal: 155ms\tremaining: 721ms\n",
      "177:\tlearn: 0.2432814\ttotal: 155ms\tremaining: 718ms\n",
      "178:\tlearn: 0.2417798\ttotal: 156ms\tremaining: 716ms\n",
      "179:\tlearn: 0.2405294\ttotal: 157ms\tremaining: 713ms\n",
      "180:\tlearn: 0.2389281\ttotal: 157ms\tremaining: 711ms\n",
      "181:\tlearn: 0.2372848\ttotal: 158ms\tremaining: 708ms\n",
      "182:\tlearn: 0.2354416\ttotal: 158ms\tremaining: 706ms\n",
      "183:\tlearn: 0.2340812\ttotal: 158ms\tremaining: 703ms\n",
      "184:\tlearn: 0.2328935\ttotal: 159ms\tremaining: 701ms\n",
      "185:\tlearn: 0.2318247\ttotal: 160ms\tremaining: 698ms\n",
      "186:\tlearn: 0.2302641\ttotal: 160ms\tremaining: 696ms\n",
      "187:\tlearn: 0.2281490\ttotal: 160ms\tremaining: 693ms\n",
      "188:\tlearn: 0.2263289\ttotal: 161ms\tremaining: 691ms\n",
      "189:\tlearn: 0.2248674\ttotal: 161ms\tremaining: 688ms\n",
      "190:\tlearn: 0.2230739\ttotal: 162ms\tremaining: 686ms\n",
      "191:\tlearn: 0.2215693\ttotal: 162ms\tremaining: 683ms\n",
      "192:\tlearn: 0.2201362\ttotal: 163ms\tremaining: 681ms\n",
      "193:\tlearn: 0.2190009\ttotal: 163ms\tremaining: 679ms\n",
      "194:\tlearn: 0.2176481\ttotal: 164ms\tremaining: 676ms\n",
      "195:\tlearn: 0.2160162\ttotal: 164ms\tremaining: 674ms\n",
      "196:\tlearn: 0.2148868\ttotal: 165ms\tremaining: 672ms\n",
      "197:\tlearn: 0.2132679\ttotal: 165ms\tremaining: 670ms\n",
      "198:\tlearn: 0.2117260\ttotal: 166ms\tremaining: 667ms\n",
      "199:\tlearn: 0.2104343\ttotal: 166ms\tremaining: 665ms\n",
      "200:\tlearn: 0.2089282\ttotal: 167ms\tremaining: 662ms\n",
      "201:\tlearn: 0.2076950\ttotal: 167ms\tremaining: 660ms\n",
      "202:\tlearn: 0.2063630\ttotal: 168ms\tremaining: 658ms\n",
      "203:\tlearn: 0.2045279\ttotal: 168ms\tremaining: 656ms\n",
      "204:\tlearn: 0.2029432\ttotal: 169ms\tremaining: 654ms\n",
      "205:\tlearn: 0.2015892\ttotal: 169ms\tremaining: 652ms\n",
      "206:\tlearn: 0.2003154\ttotal: 170ms\tremaining: 650ms\n",
      "207:\tlearn: 0.1990479\ttotal: 170ms\tremaining: 648ms\n",
      "208:\tlearn: 0.1977112\ttotal: 171ms\tremaining: 646ms\n",
      "209:\tlearn: 0.1962731\ttotal: 171ms\tremaining: 644ms\n",
      "210:\tlearn: 0.1945580\ttotal: 172ms\tremaining: 642ms\n",
      "211:\tlearn: 0.1936175\ttotal: 172ms\tremaining: 640ms\n",
      "212:\tlearn: 0.1922753\ttotal: 173ms\tremaining: 639ms\n",
      "213:\tlearn: 0.1907953\ttotal: 173ms\tremaining: 636ms\n",
      "214:\tlearn: 0.1896288\ttotal: 174ms\tremaining: 635ms\n",
      "215:\tlearn: 0.1883263\ttotal: 174ms\tremaining: 633ms\n",
      "216:\tlearn: 0.1871077\ttotal: 175ms\tremaining: 632ms\n",
      "217:\tlearn: 0.1855120\ttotal: 176ms\tremaining: 630ms\n",
      "218:\tlearn: 0.1840211\ttotal: 176ms\tremaining: 628ms\n",
      "219:\tlearn: 0.1829682\ttotal: 176ms\tremaining: 626ms\n",
      "220:\tlearn: 0.1818514\ttotal: 177ms\tremaining: 624ms\n",
      "221:\tlearn: 0.1805187\ttotal: 177ms\tremaining: 622ms\n",
      "222:\tlearn: 0.1791618\ttotal: 178ms\tremaining: 620ms\n",
      "223:\tlearn: 0.1780964\ttotal: 178ms\tremaining: 618ms\n",
      "224:\tlearn: 0.1772071\ttotal: 179ms\tremaining: 616ms\n",
      "225:\tlearn: 0.1761185\ttotal: 179ms\tremaining: 614ms\n",
      "226:\tlearn: 0.1748137\ttotal: 180ms\tremaining: 612ms\n",
      "227:\tlearn: 0.1738201\ttotal: 180ms\tremaining: 609ms\n",
      "228:\tlearn: 0.1725109\ttotal: 181ms\tremaining: 608ms\n",
      "229:\tlearn: 0.1716018\ttotal: 181ms\tremaining: 606ms\n",
      "230:\tlearn: 0.1702251\ttotal: 181ms\tremaining: 604ms\n",
      "231:\tlearn: 0.1692356\ttotal: 182ms\tremaining: 602ms\n",
      "232:\tlearn: 0.1679294\ttotal: 182ms\tremaining: 600ms\n",
      "233:\tlearn: 0.1668310\ttotal: 183ms\tremaining: 598ms\n",
      "234:\tlearn: 0.1656947\ttotal: 183ms\tremaining: 597ms\n",
      "235:\tlearn: 0.1643396\ttotal: 184ms\tremaining: 595ms\n",
      "236:\tlearn: 0.1633006\ttotal: 184ms\tremaining: 593ms\n",
      "237:\tlearn: 0.1624806\ttotal: 185ms\tremaining: 592ms\n",
      "238:\tlearn: 0.1614864\ttotal: 185ms\tremaining: 590ms\n",
      "239:\tlearn: 0.1602751\ttotal: 186ms\tremaining: 589ms\n",
      "240:\tlearn: 0.1594669\ttotal: 187ms\tremaining: 588ms\n",
      "241:\tlearn: 0.1586228\ttotal: 187ms\tremaining: 586ms\n"
     ]
    },
    {
     "name": "stdout",
     "output_type": "stream",
     "text": [
      "242:\tlearn: 0.1576271\ttotal: 188ms\tremaining: 585ms\n",
      "243:\tlearn: 0.1566010\ttotal: 188ms\tremaining: 583ms\n",
      "244:\tlearn: 0.1553383\ttotal: 189ms\tremaining: 581ms\n",
      "245:\tlearn: 0.1542974\ttotal: 189ms\tremaining: 579ms\n",
      "246:\tlearn: 0.1533456\ttotal: 189ms\tremaining: 577ms\n",
      "247:\tlearn: 0.1522238\ttotal: 190ms\tremaining: 576ms\n",
      "248:\tlearn: 0.1511799\ttotal: 190ms\tremaining: 574ms\n",
      "249:\tlearn: 0.1502224\ttotal: 191ms\tremaining: 572ms\n",
      "250:\tlearn: 0.1489774\ttotal: 191ms\tremaining: 571ms\n",
      "251:\tlearn: 0.1479369\ttotal: 192ms\tremaining: 569ms\n",
      "252:\tlearn: 0.1470925\ttotal: 192ms\tremaining: 567ms\n",
      "253:\tlearn: 0.1461181\ttotal: 193ms\tremaining: 566ms\n",
      "254:\tlearn: 0.1450486\ttotal: 193ms\tremaining: 564ms\n",
      "255:\tlearn: 0.1440635\ttotal: 193ms\tremaining: 562ms\n",
      "256:\tlearn: 0.1431107\ttotal: 194ms\tremaining: 560ms\n",
      "257:\tlearn: 0.1418758\ttotal: 194ms\tremaining: 559ms\n",
      "258:\tlearn: 0.1409434\ttotal: 195ms\tremaining: 557ms\n",
      "259:\tlearn: 0.1400094\ttotal: 195ms\tremaining: 555ms\n",
      "260:\tlearn: 0.1391097\ttotal: 196ms\tremaining: 554ms\n",
      "261:\tlearn: 0.1379826\ttotal: 196ms\tremaining: 552ms\n",
      "262:\tlearn: 0.1368439\ttotal: 196ms\tremaining: 550ms\n",
      "263:\tlearn: 0.1358352\ttotal: 197ms\tremaining: 549ms\n",
      "264:\tlearn: 0.1349098\ttotal: 197ms\tremaining: 547ms\n",
      "265:\tlearn: 0.1339906\ttotal: 198ms\tremaining: 545ms\n",
      "266:\tlearn: 0.1332559\ttotal: 198ms\tremaining: 544ms\n",
      "267:\tlearn: 0.1319559\ttotal: 199ms\tremaining: 542ms\n",
      "268:\tlearn: 0.1310384\ttotal: 199ms\tremaining: 541ms\n",
      "269:\tlearn: 0.1301515\ttotal: 200ms\tremaining: 540ms\n",
      "270:\tlearn: 0.1292578\ttotal: 200ms\tremaining: 538ms\n",
      "271:\tlearn: 0.1283395\ttotal: 201ms\tremaining: 537ms\n",
      "272:\tlearn: 0.1271912\ttotal: 201ms\tremaining: 536ms\n",
      "273:\tlearn: 0.1260605\ttotal: 202ms\tremaining: 534ms\n",
      "274:\tlearn: 0.1251914\ttotal: 202ms\tremaining: 533ms\n",
      "275:\tlearn: 0.1244092\ttotal: 203ms\tremaining: 531ms\n",
      "276:\tlearn: 0.1236599\ttotal: 203ms\tremaining: 530ms\n",
      "277:\tlearn: 0.1228387\ttotal: 204ms\tremaining: 529ms\n",
      "278:\tlearn: 0.1220840\ttotal: 204ms\tremaining: 527ms\n",
      "279:\tlearn: 0.1213513\ttotal: 205ms\tremaining: 526ms\n",
      "280:\tlearn: 0.1205553\ttotal: 205ms\tremaining: 525ms\n",
      "281:\tlearn: 0.1194803\ttotal: 206ms\tremaining: 523ms\n",
      "282:\tlearn: 0.1186128\ttotal: 206ms\tremaining: 522ms\n",
      "283:\tlearn: 0.1179388\ttotal: 207ms\tremaining: 521ms\n",
      "284:\tlearn: 0.1168831\ttotal: 207ms\tremaining: 520ms\n",
      "285:\tlearn: 0.1160872\ttotal: 208ms\tremaining: 518ms\n",
      "286:\tlearn: 0.1153029\ttotal: 208ms\tremaining: 517ms\n",
      "287:\tlearn: 0.1142483\ttotal: 209ms\tremaining: 516ms\n",
      "288:\tlearn: 0.1135050\ttotal: 209ms\tremaining: 514ms\n",
      "289:\tlearn: 0.1127155\ttotal: 210ms\tremaining: 513ms\n",
      "290:\tlearn: 0.1119809\ttotal: 210ms\tremaining: 511ms\n",
      "291:\tlearn: 0.1112479\ttotal: 211ms\tremaining: 511ms\n",
      "292:\tlearn: 0.1104500\ttotal: 211ms\tremaining: 509ms\n",
      "293:\tlearn: 0.1098066\ttotal: 211ms\tremaining: 508ms\n",
      "294:\tlearn: 0.1088554\ttotal: 212ms\tremaining: 507ms\n",
      "295:\tlearn: 0.1081741\ttotal: 213ms\tremaining: 506ms\n",
      "296:\tlearn: 0.1072912\ttotal: 213ms\tremaining: 505ms\n",
      "297:\tlearn: 0.1065784\ttotal: 214ms\tremaining: 504ms\n",
      "298:\tlearn: 0.1059045\ttotal: 214ms\tremaining: 503ms\n",
      "299:\tlearn: 0.1051163\ttotal: 215ms\tremaining: 501ms\n",
      "300:\tlearn: 0.1045307\ttotal: 215ms\tremaining: 500ms\n",
      "301:\tlearn: 0.1037901\ttotal: 216ms\tremaining: 499ms\n",
      "302:\tlearn: 0.1030598\ttotal: 217ms\tremaining: 498ms\n",
      "303:\tlearn: 0.1023130\ttotal: 217ms\tremaining: 497ms\n",
      "304:\tlearn: 0.1016942\ttotal: 218ms\tremaining: 496ms\n",
      "305:\tlearn: 0.1009076\ttotal: 218ms\tremaining: 494ms\n",
      "306:\tlearn: 0.1002833\ttotal: 219ms\tremaining: 493ms\n",
      "307:\tlearn: 0.0998601\ttotal: 219ms\tremaining: 492ms\n",
      "308:\tlearn: 0.0993763\ttotal: 220ms\tremaining: 491ms\n",
      "309:\tlearn: 0.0986791\ttotal: 220ms\tremaining: 490ms\n",
      "310:\tlearn: 0.0982761\ttotal: 220ms\tremaining: 488ms\n",
      "311:\tlearn: 0.0977992\ttotal: 221ms\tremaining: 487ms\n",
      "312:\tlearn: 0.0972038\ttotal: 221ms\tremaining: 486ms\n",
      "313:\tlearn: 0.0965383\ttotal: 222ms\tremaining: 485ms\n",
      "314:\tlearn: 0.0956886\ttotal: 222ms\tremaining: 484ms\n",
      "315:\tlearn: 0.0953257\ttotal: 223ms\tremaining: 483ms\n",
      "316:\tlearn: 0.0949049\ttotal: 224ms\tremaining: 482ms\n",
      "317:\tlearn: 0.0944396\ttotal: 224ms\tremaining: 481ms\n",
      "318:\tlearn: 0.0938001\ttotal: 225ms\tremaining: 479ms\n",
      "319:\tlearn: 0.0933064\ttotal: 225ms\tremaining: 478ms\n",
      "320:\tlearn: 0.0930165\ttotal: 226ms\tremaining: 478ms\n",
      "321:\tlearn: 0.0922369\ttotal: 226ms\tremaining: 476ms\n",
      "322:\tlearn: 0.0919207\ttotal: 227ms\tremaining: 475ms\n",
      "323:\tlearn: 0.0911639\ttotal: 227ms\tremaining: 474ms\n",
      "324:\tlearn: 0.0908858\ttotal: 228ms\tremaining: 473ms\n",
      "325:\tlearn: 0.0903129\ttotal: 228ms\tremaining: 471ms\n",
      "326:\tlearn: 0.0895841\ttotal: 228ms\tremaining: 470ms\n",
      "327:\tlearn: 0.0888576\ttotal: 229ms\tremaining: 469ms\n",
      "328:\tlearn: 0.0882820\ttotal: 229ms\tremaining: 468ms\n",
      "329:\tlearn: 0.0879029\ttotal: 230ms\tremaining: 466ms\n",
      "330:\tlearn: 0.0873724\ttotal: 230ms\tremaining: 465ms\n",
      "331:\tlearn: 0.0871272\ttotal: 231ms\tremaining: 464ms\n",
      "332:\tlearn: 0.0868627\ttotal: 231ms\tremaining: 463ms\n",
      "333:\tlearn: 0.0862899\ttotal: 232ms\tremaining: 462ms\n",
      "334:\tlearn: 0.0856475\ttotal: 232ms\tremaining: 461ms\n",
      "335:\tlearn: 0.0853024\ttotal: 233ms\tremaining: 460ms\n",
      "336:\tlearn: 0.0848053\ttotal: 233ms\tremaining: 459ms\n",
      "337:\tlearn: 0.0842056\ttotal: 234ms\tremaining: 458ms\n",
      "338:\tlearn: 0.0836956\ttotal: 234ms\tremaining: 457ms\n",
      "339:\tlearn: 0.0831967\ttotal: 235ms\tremaining: 456ms\n",
      "340:\tlearn: 0.0829698\ttotal: 235ms\tremaining: 455ms\n",
      "341:\tlearn: 0.0825070\ttotal: 236ms\tremaining: 453ms\n",
      "342:\tlearn: 0.0818336\ttotal: 236ms\tremaining: 453ms\n",
      "343:\tlearn: 0.0815996\ttotal: 237ms\tremaining: 452ms\n",
      "344:\tlearn: 0.0811328\ttotal: 237ms\tremaining: 450ms\n",
      "345:\tlearn: 0.0805834\ttotal: 238ms\tremaining: 449ms\n",
      "346:\tlearn: 0.0799256\ttotal: 238ms\tremaining: 448ms\n",
      "347:\tlearn: 0.0796749\ttotal: 239ms\tremaining: 447ms\n",
      "348:\tlearn: 0.0794670\ttotal: 239ms\tremaining: 446ms\n",
      "349:\tlearn: 0.0790085\ttotal: 240ms\tremaining: 445ms\n",
      "350:\tlearn: 0.0785701\ttotal: 240ms\tremaining: 444ms\n",
      "351:\tlearn: 0.0779315\ttotal: 241ms\tremaining: 443ms\n",
      "352:\tlearn: 0.0774359\ttotal: 241ms\tremaining: 442ms\n",
      "353:\tlearn: 0.0770209\ttotal: 242ms\tremaining: 441ms\n",
      "354:\tlearn: 0.0765768\ttotal: 242ms\tremaining: 440ms\n",
      "355:\tlearn: 0.0761419\ttotal: 242ms\tremaining: 439ms\n",
      "356:\tlearn: 0.0756071\ttotal: 243ms\tremaining: 437ms\n",
      "357:\tlearn: 0.0750814\ttotal: 243ms\tremaining: 436ms\n",
      "358:\tlearn: 0.0747758\ttotal: 244ms\tremaining: 436ms\n",
      "359:\tlearn: 0.0745152\ttotal: 245ms\tremaining: 436ms\n",
      "360:\tlearn: 0.0740311\ttotal: 246ms\tremaining: 435ms\n",
      "361:\tlearn: 0.0738336\ttotal: 246ms\tremaining: 434ms\n",
      "362:\tlearn: 0.0736391\ttotal: 247ms\tremaining: 433ms\n",
      "363:\tlearn: 0.0731212\ttotal: 247ms\tremaining: 432ms\n",
      "364:\tlearn: 0.0726241\ttotal: 248ms\tremaining: 431ms\n",
      "365:\tlearn: 0.0721397\ttotal: 248ms\tremaining: 430ms\n",
      "366:\tlearn: 0.0716314\ttotal: 249ms\tremaining: 429ms\n",
      "367:\tlearn: 0.0711396\ttotal: 249ms\tremaining: 428ms\n",
      "368:\tlearn: 0.0707365\ttotal: 250ms\tremaining: 427ms\n",
      "369:\tlearn: 0.0705532\ttotal: 250ms\tremaining: 426ms\n",
      "370:\tlearn: 0.0700634\ttotal: 250ms\tremaining: 425ms\n",
      "371:\tlearn: 0.0696076\ttotal: 251ms\tremaining: 424ms\n",
      "372:\tlearn: 0.0693739\ttotal: 251ms\tremaining: 422ms\n",
      "373:\tlearn: 0.0689640\ttotal: 252ms\tremaining: 421ms\n",
      "374:\tlearn: 0.0687991\ttotal: 252ms\tremaining: 420ms\n",
      "375:\tlearn: 0.0683235\ttotal: 253ms\tremaining: 419ms\n",
      "376:\tlearn: 0.0678799\ttotal: 253ms\tremaining: 418ms\n",
      "377:\tlearn: 0.0677094\ttotal: 253ms\tremaining: 417ms\n",
      "378:\tlearn: 0.0672508\ttotal: 254ms\tremaining: 416ms\n",
      "379:\tlearn: 0.0668638\ttotal: 254ms\tremaining: 415ms\n",
      "380:\tlearn: 0.0666463\ttotal: 255ms\tremaining: 414ms\n",
      "381:\tlearn: 0.0661948\ttotal: 256ms\tremaining: 413ms\n",
      "382:\tlearn: 0.0659501\ttotal: 256ms\tremaining: 413ms\n",
      "383:\tlearn: 0.0657889\ttotal: 257ms\tremaining: 412ms\n",
      "384:\tlearn: 0.0653507\ttotal: 257ms\tremaining: 410ms\n",
      "385:\tlearn: 0.0651684\ttotal: 257ms\tremaining: 410ms\n",
      "386:\tlearn: 0.0648010\ttotal: 258ms\tremaining: 409ms\n",
      "387:\tlearn: 0.0643727\ttotal: 258ms\tremaining: 408ms\n",
      "388:\tlearn: 0.0638765\ttotal: 259ms\tremaining: 407ms\n",
      "389:\tlearn: 0.0634831\ttotal: 260ms\tremaining: 407ms\n",
      "390:\tlearn: 0.0631365\ttotal: 261ms\tremaining: 406ms\n",
      "391:\tlearn: 0.0629398\ttotal: 261ms\tremaining: 405ms\n",
      "392:\tlearn: 0.0624647\ttotal: 262ms\tremaining: 405ms\n",
      "393:\tlearn: 0.0623165\ttotal: 263ms\tremaining: 404ms\n",
      "394:\tlearn: 0.0618456\ttotal: 263ms\tremaining: 403ms\n",
      "395:\tlearn: 0.0616217\ttotal: 264ms\tremaining: 402ms\n",
      "396:\tlearn: 0.0612868\ttotal: 264ms\tremaining: 401ms\n",
      "397:\tlearn: 0.0608325\ttotal: 264ms\tremaining: 400ms\n",
      "398:\tlearn: 0.0603784\ttotal: 265ms\tremaining: 399ms\n",
      "399:\tlearn: 0.0598881\ttotal: 265ms\tremaining: 398ms\n",
      "400:\tlearn: 0.0594129\ttotal: 266ms\tremaining: 397ms\n",
      "401:\tlearn: 0.0589485\ttotal: 266ms\tremaining: 396ms\n",
      "402:\tlearn: 0.0584950\ttotal: 267ms\tremaining: 395ms\n",
      "403:\tlearn: 0.0580519\ttotal: 268ms\tremaining: 395ms\n",
      "404:\tlearn: 0.0576191\ttotal: 268ms\tremaining: 394ms\n",
      "405:\tlearn: 0.0572458\ttotal: 269ms\tremaining: 393ms\n",
      "406:\tlearn: 0.0568096\ttotal: 269ms\tremaining: 392ms\n",
      "407:\tlearn: 0.0564465\ttotal: 270ms\tremaining: 392ms\n",
      "408:\tlearn: 0.0560085\ttotal: 270ms\tremaining: 391ms\n",
      "409:\tlearn: 0.0555680\ttotal: 271ms\tremaining: 390ms\n",
      "410:\tlearn: 0.0551440\ttotal: 271ms\tremaining: 389ms\n",
      "411:\tlearn: 0.0547438\ttotal: 272ms\tremaining: 388ms\n",
      "412:\tlearn: 0.0544032\ttotal: 272ms\tremaining: 387ms\n",
      "413:\tlearn: 0.0539926\ttotal: 273ms\tremaining: 386ms\n",
      "414:\tlearn: 0.0535903\ttotal: 273ms\tremaining: 385ms\n",
      "415:\tlearn: 0.0532115\ttotal: 274ms\tremaining: 384ms\n",
      "416:\tlearn: 0.0530745\ttotal: 274ms\tremaining: 383ms\n",
      "417:\tlearn: 0.0526683\ttotal: 275ms\tremaining: 382ms\n",
      "418:\tlearn: 0.0522898\ttotal: 275ms\tremaining: 381ms\n",
      "419:\tlearn: 0.0519265\ttotal: 275ms\tremaining: 380ms\n",
      "420:\tlearn: 0.0517950\ttotal: 276ms\tremaining: 379ms\n",
      "421:\tlearn: 0.0514138\ttotal: 276ms\tremaining: 378ms\n",
      "422:\tlearn: 0.0510434\ttotal: 277ms\tremaining: 378ms\n",
      "423:\tlearn: 0.0509163\ttotal: 277ms\tremaining: 377ms\n",
      "424:\tlearn: 0.0506043\ttotal: 278ms\tremaining: 375ms\n",
      "425:\tlearn: 0.0502418\ttotal: 278ms\tremaining: 375ms\n",
      "426:\tlearn: 0.0501180\ttotal: 279ms\tremaining: 374ms\n",
      "427:\tlearn: 0.0497441\ttotal: 279ms\tremaining: 373ms\n",
      "428:\tlearn: 0.0494528\ttotal: 279ms\tremaining: 372ms\n",
      "429:\tlearn: 0.0491049\ttotal: 280ms\tremaining: 371ms\n",
      "430:\tlearn: 0.0487700\ttotal: 280ms\tremaining: 370ms\n",
      "431:\tlearn: 0.0486521\ttotal: 281ms\tremaining: 369ms\n",
      "432:\tlearn: 0.0483789\ttotal: 281ms\tremaining: 369ms\n",
      "433:\tlearn: 0.0480090\ttotal: 282ms\tremaining: 368ms\n",
      "434:\tlearn: 0.0479248\ttotal: 283ms\tremaining: 367ms\n",
      "435:\tlearn: 0.0475947\ttotal: 283ms\tremaining: 366ms\n",
      "436:\tlearn: 0.0475121\ttotal: 283ms\tremaining: 365ms\n",
      "437:\tlearn: 0.0472124\ttotal: 284ms\tremaining: 364ms\n",
      "438:\tlearn: 0.0469517\ttotal: 284ms\tremaining: 363ms\n",
      "439:\tlearn: 0.0468707\ttotal: 285ms\tremaining: 362ms\n",
      "440:\tlearn: 0.0467613\ttotal: 285ms\tremaining: 362ms\n",
      "441:\tlearn: 0.0465218\ttotal: 286ms\tremaining: 361ms\n",
      "442:\tlearn: 0.0462091\ttotal: 286ms\tremaining: 360ms\n",
      "443:\tlearn: 0.0459596\ttotal: 287ms\tremaining: 359ms\n",
      "444:\tlearn: 0.0458822\ttotal: 287ms\tremaining: 358ms\n",
      "445:\tlearn: 0.0455783\ttotal: 288ms\tremaining: 358ms\n",
      "446:\tlearn: 0.0454320\ttotal: 289ms\tremaining: 357ms\n",
      "447:\tlearn: 0.0450953\ttotal: 289ms\tremaining: 356ms\n",
      "448:\tlearn: 0.0448896\ttotal: 290ms\tremaining: 355ms\n",
      "449:\tlearn: 0.0445958\ttotal: 290ms\tremaining: 355ms\n",
      "450:\tlearn: 0.0445227\ttotal: 291ms\tremaining: 354ms\n",
      "451:\tlearn: 0.0443023\ttotal: 291ms\tremaining: 353ms\n",
      "452:\tlearn: 0.0440232\ttotal: 292ms\tremaining: 352ms\n",
      "453:\tlearn: 0.0437880\ttotal: 292ms\tremaining: 352ms\n",
      "454:\tlearn: 0.0434812\ttotal: 293ms\tremaining: 351ms\n"
     ]
    },
    {
     "name": "stdout",
     "output_type": "stream",
     "text": [
      "455:\tlearn: 0.0434110\ttotal: 293ms\tremaining: 350ms\n",
      "456:\tlearn: 0.0430773\ttotal: 294ms\tremaining: 349ms\n",
      "457:\tlearn: 0.0428267\ttotal: 294ms\tremaining: 348ms\n",
      "458:\tlearn: 0.0425340\ttotal: 295ms\tremaining: 347ms\n",
      "459:\tlearn: 0.0424660\ttotal: 295ms\tremaining: 347ms\n",
      "460:\tlearn: 0.0423363\ttotal: 296ms\tremaining: 346ms\n",
      "461:\tlearn: 0.0420858\ttotal: 296ms\tremaining: 345ms\n",
      "462:\tlearn: 0.0418304\ttotal: 297ms\tremaining: 344ms\n",
      "463:\tlearn: 0.0416481\ttotal: 297ms\tremaining: 343ms\n",
      "464:\tlearn: 0.0413901\ttotal: 298ms\tremaining: 342ms\n",
      "465:\tlearn: 0.0413260\ttotal: 298ms\tremaining: 342ms\n",
      "466:\tlearn: 0.0411083\ttotal: 299ms\tremaining: 341ms\n",
      "467:\tlearn: 0.0408066\ttotal: 299ms\tremaining: 340ms\n",
      "468:\tlearn: 0.0405370\ttotal: 299ms\tremaining: 339ms\n",
      "469:\tlearn: 0.0404751\ttotal: 300ms\tremaining: 338ms\n",
      "470:\tlearn: 0.0403575\ttotal: 300ms\tremaining: 337ms\n",
      "471:\tlearn: 0.0401497\ttotal: 301ms\tremaining: 336ms\n",
      "472:\tlearn: 0.0399460\ttotal: 301ms\tremaining: 335ms\n",
      "473:\tlearn: 0.0397360\ttotal: 302ms\tremaining: 335ms\n",
      "474:\tlearn: 0.0395042\ttotal: 302ms\tremaining: 334ms\n",
      "475:\tlearn: 0.0392516\ttotal: 303ms\tremaining: 333ms\n",
      "476:\tlearn: 0.0391936\ttotal: 303ms\tremaining: 332ms\n",
      "477:\tlearn: 0.0389841\ttotal: 303ms\tremaining: 331ms\n",
      "478:\tlearn: 0.0387845\ttotal: 304ms\tremaining: 331ms\n",
      "479:\tlearn: 0.0385427\ttotal: 304ms\tremaining: 330ms\n",
      "480:\tlearn: 0.0384864\ttotal: 305ms\tremaining: 329ms\n",
      "481:\tlearn: 0.0382848\ttotal: 305ms\tremaining: 328ms\n",
      "482:\tlearn: 0.0380624\ttotal: 306ms\tremaining: 327ms\n",
      "483:\tlearn: 0.0379660\ttotal: 306ms\tremaining: 327ms\n",
      "484:\tlearn: 0.0377353\ttotal: 307ms\tremaining: 326ms\n",
      "485:\tlearn: 0.0376817\ttotal: 307ms\tremaining: 325ms\n",
      "486:\tlearn: 0.0376288\ttotal: 308ms\tremaining: 324ms\n",
      "487:\tlearn: 0.0374490\ttotal: 308ms\tremaining: 323ms\n",
      "488:\tlearn: 0.0372576\ttotal: 309ms\tremaining: 323ms\n",
      "489:\tlearn: 0.0369990\ttotal: 309ms\tremaining: 322ms\n",
      "490:\tlearn: 0.0367760\ttotal: 310ms\tremaining: 321ms\n",
      "491:\tlearn: 0.0365579\ttotal: 310ms\tremaining: 320ms\n",
      "492:\tlearn: 0.0365074\ttotal: 311ms\tremaining: 320ms\n",
      "493:\tlearn: 0.0363092\ttotal: 311ms\tremaining: 319ms\n",
      "494:\tlearn: 0.0360972\ttotal: 312ms\tremaining: 318ms\n",
      "495:\tlearn: 0.0358781\ttotal: 312ms\tremaining: 317ms\n",
      "496:\tlearn: 0.0358040\ttotal: 313ms\tremaining: 317ms\n",
      "497:\tlearn: 0.0357190\ttotal: 313ms\tremaining: 316ms\n",
      "498:\tlearn: 0.0355272\ttotal: 314ms\tremaining: 315ms\n",
      "499:\tlearn: 0.0352912\ttotal: 314ms\tremaining: 314ms\n",
      "500:\tlearn: 0.0350822\ttotal: 315ms\tremaining: 314ms\n",
      "501:\tlearn: 0.0350010\ttotal: 315ms\tremaining: 313ms\n",
      "502:\tlearn: 0.0348157\ttotal: 316ms\tremaining: 312ms\n",
      "503:\tlearn: 0.0346188\ttotal: 317ms\tremaining: 312ms\n",
      "504:\tlearn: 0.0344254\ttotal: 317ms\tremaining: 311ms\n",
      "505:\tlearn: 0.0343578\ttotal: 318ms\tremaining: 310ms\n",
      "506:\tlearn: 0.0342316\ttotal: 318ms\tremaining: 309ms\n",
      "507:\tlearn: 0.0341002\ttotal: 319ms\tremaining: 308ms\n",
      "508:\tlearn: 0.0339768\ttotal: 319ms\tremaining: 308ms\n",
      "509:\tlearn: 0.0338485\ttotal: 319ms\tremaining: 307ms\n",
      "510:\tlearn: 0.0336636\ttotal: 320ms\tremaining: 306ms\n",
      "511:\tlearn: 0.0335082\ttotal: 321ms\tremaining: 306ms\n",
      "512:\tlearn: 0.0333190\ttotal: 321ms\tremaining: 305ms\n",
      "513:\tlearn: 0.0332451\ttotal: 322ms\tremaining: 304ms\n",
      "514:\tlearn: 0.0331226\ttotal: 322ms\tremaining: 303ms\n",
      "515:\tlearn: 0.0330818\ttotal: 323ms\tremaining: 303ms\n",
      "516:\tlearn: 0.0329015\ttotal: 323ms\tremaining: 302ms\n",
      "517:\tlearn: 0.0327836\ttotal: 324ms\tremaining: 301ms\n",
      "518:\tlearn: 0.0326601\ttotal: 324ms\tremaining: 300ms\n",
      "519:\tlearn: 0.0325270\ttotal: 325ms\tremaining: 300ms\n",
      "520:\tlearn: 0.0324156\ttotal: 325ms\tremaining: 299ms\n",
      "521:\tlearn: 0.0323770\ttotal: 326ms\tremaining: 298ms\n",
      "522:\tlearn: 0.0322418\ttotal: 326ms\tremaining: 298ms\n",
      "523:\tlearn: 0.0320916\ttotal: 327ms\tremaining: 297ms\n",
      "524:\tlearn: 0.0319601\ttotal: 327ms\tremaining: 296ms\n",
      "525:\tlearn: 0.0318503\ttotal: 328ms\tremaining: 295ms\n",
      "526:\tlearn: 0.0317226\ttotal: 328ms\tremaining: 295ms\n",
      "527:\tlearn: 0.0315622\ttotal: 329ms\tremaining: 294ms\n",
      "528:\tlearn: 0.0314860\ttotal: 329ms\tremaining: 293ms\n",
      "529:\tlearn: 0.0314229\ttotal: 330ms\tremaining: 292ms\n",
      "530:\tlearn: 0.0312657\ttotal: 330ms\tremaining: 292ms\n",
      "531:\tlearn: 0.0310564\ttotal: 331ms\tremaining: 291ms\n",
      "532:\tlearn: 0.0310212\ttotal: 331ms\tremaining: 290ms\n",
      "533:\tlearn: 0.0309672\ttotal: 332ms\tremaining: 290ms\n",
      "534:\tlearn: 0.0308136\ttotal: 332ms\tremaining: 289ms\n",
      "535:\tlearn: 0.0306237\ttotal: 333ms\tremaining: 288ms\n",
      "536:\tlearn: 0.0305304\ttotal: 333ms\tremaining: 287ms\n",
      "537:\tlearn: 0.0303803\ttotal: 334ms\tremaining: 287ms\n",
      "538:\tlearn: 0.0302893\ttotal: 334ms\tremaining: 286ms\n",
      "539:\tlearn: 0.0301209\ttotal: 335ms\tremaining: 285ms\n",
      "540:\tlearn: 0.0300322\ttotal: 336ms\tremaining: 285ms\n",
      "541:\tlearn: 0.0298878\ttotal: 336ms\tremaining: 284ms\n",
      "542:\tlearn: 0.0297139\ttotal: 337ms\tremaining: 283ms\n",
      "543:\tlearn: 0.0296578\ttotal: 337ms\tremaining: 283ms\n",
      "544:\tlearn: 0.0294881\ttotal: 338ms\tremaining: 282ms\n",
      "545:\tlearn: 0.0293387\ttotal: 338ms\tremaining: 281ms\n",
      "546:\tlearn: 0.0291925\ttotal: 339ms\tremaining: 280ms\n",
      "547:\tlearn: 0.0290064\ttotal: 339ms\tremaining: 280ms\n",
      "548:\tlearn: 0.0288636\ttotal: 339ms\tremaining: 279ms\n",
      "549:\tlearn: 0.0286816\ttotal: 340ms\tremaining: 278ms\n",
      "550:\tlearn: 0.0285459\ttotal: 341ms\tremaining: 278ms\n",
      "551:\tlearn: 0.0284071\ttotal: 341ms\tremaining: 277ms\n",
      "552:\tlearn: 0.0282302\ttotal: 341ms\tremaining: 276ms\n",
      "553:\tlearn: 0.0281013\ttotal: 342ms\tremaining: 275ms\n",
      "554:\tlearn: 0.0279620\ttotal: 342ms\tremaining: 275ms\n",
      "555:\tlearn: 0.0278349\ttotal: 343ms\tremaining: 274ms\n",
      "556:\tlearn: 0.0278054\ttotal: 344ms\tremaining: 273ms\n",
      "557:\tlearn: 0.0276711\ttotal: 344ms\tremaining: 273ms\n",
      "558:\tlearn: 0.0275103\ttotal: 345ms\tremaining: 272ms\n",
      "559:\tlearn: 0.0273140\ttotal: 345ms\tremaining: 271ms\n",
      "560:\tlearn: 0.0271230\ttotal: 345ms\tremaining: 270ms\n",
      "561:\tlearn: 0.0269938\ttotal: 346ms\tremaining: 270ms\n",
      "562:\tlearn: 0.0269459\ttotal: 346ms\tremaining: 269ms\n",
      "563:\tlearn: 0.0267621\ttotal: 347ms\tremaining: 268ms\n",
      "564:\tlearn: 0.0266378\ttotal: 347ms\tremaining: 267ms\n",
      "565:\tlearn: 0.0265309\ttotal: 348ms\tremaining: 267ms\n",
      "566:\tlearn: 0.0264035\ttotal: 348ms\tremaining: 266ms\n",
      "567:\tlearn: 0.0263754\ttotal: 349ms\tremaining: 265ms\n",
      "568:\tlearn: 0.0262503\ttotal: 349ms\tremaining: 264ms\n",
      "569:\tlearn: 0.0261315\ttotal: 349ms\tremaining: 263ms\n",
      "570:\tlearn: 0.0260122\ttotal: 350ms\tremaining: 263ms\n",
      "571:\tlearn: 0.0258566\ttotal: 350ms\tremaining: 262ms\n",
      "572:\tlearn: 0.0257548\ttotal: 351ms\tremaining: 261ms\n",
      "573:\tlearn: 0.0256346\ttotal: 351ms\tremaining: 260ms\n",
      "574:\tlearn: 0.0255361\ttotal: 351ms\tremaining: 260ms\n",
      "575:\tlearn: 0.0254208\ttotal: 352ms\tremaining: 259ms\n",
      "576:\tlearn: 0.0253042\ttotal: 353ms\tremaining: 258ms\n",
      "577:\tlearn: 0.0251810\ttotal: 353ms\tremaining: 258ms\n",
      "578:\tlearn: 0.0250648\ttotal: 353ms\tremaining: 257ms\n",
      "579:\tlearn: 0.0249747\ttotal: 354ms\tremaining: 256ms\n",
      "580:\tlearn: 0.0248627\ttotal: 355ms\tremaining: 256ms\n",
      "581:\tlearn: 0.0248366\ttotal: 355ms\tremaining: 255ms\n",
      "582:\tlearn: 0.0247366\ttotal: 355ms\tremaining: 254ms\n",
      "583:\tlearn: 0.0246243\ttotal: 356ms\tremaining: 253ms\n",
      "584:\tlearn: 0.0245987\ttotal: 356ms\tremaining: 253ms\n",
      "585:\tlearn: 0.0244898\ttotal: 357ms\tremaining: 252ms\n",
      "586:\tlearn: 0.0244647\ttotal: 357ms\tremaining: 251ms\n",
      "587:\tlearn: 0.0243563\ttotal: 358ms\tremaining: 251ms\n",
      "588:\tlearn: 0.0243315\ttotal: 358ms\tremaining: 250ms\n",
      "589:\tlearn: 0.0242126\ttotal: 359ms\tremaining: 249ms\n",
      "590:\tlearn: 0.0241882\ttotal: 359ms\tremaining: 249ms\n",
      "591:\tlearn: 0.0241642\ttotal: 360ms\tremaining: 248ms\n",
      "592:\tlearn: 0.0240477\ttotal: 361ms\tremaining: 247ms\n",
      "593:\tlearn: 0.0239779\ttotal: 361ms\tremaining: 247ms\n",
      "594:\tlearn: 0.0239545\ttotal: 362ms\tremaining: 246ms\n",
      "595:\tlearn: 0.0238399\ttotal: 362ms\tremaining: 245ms\n",
      "596:\tlearn: 0.0238174\ttotal: 363ms\tremaining: 245ms\n",
      "597:\tlearn: 0.0237952\ttotal: 363ms\tremaining: 244ms\n",
      "598:\tlearn: 0.0237153\ttotal: 363ms\tremaining: 243ms\n",
      "599:\tlearn: 0.0236935\ttotal: 364ms\tremaining: 243ms\n",
      "600:\tlearn: 0.0236719\ttotal: 364ms\tremaining: 242ms\n",
      "601:\tlearn: 0.0235781\ttotal: 365ms\tremaining: 241ms\n",
      "602:\tlearn: 0.0234745\ttotal: 365ms\tremaining: 241ms\n",
      "603:\tlearn: 0.0234533\ttotal: 366ms\tremaining: 240ms\n",
      "604:\tlearn: 0.0234324\ttotal: 366ms\tremaining: 239ms\n",
      "605:\tlearn: 0.0233762\ttotal: 367ms\tremaining: 239ms\n",
      "606:\tlearn: 0.0233555\ttotal: 367ms\tremaining: 238ms\n",
      "607:\tlearn: 0.0232545\ttotal: 368ms\tremaining: 237ms\n",
      "608:\tlearn: 0.0231645\ttotal: 368ms\tremaining: 236ms\n",
      "609:\tlearn: 0.0231443\ttotal: 369ms\tremaining: 236ms\n",
      "610:\tlearn: 0.0230346\ttotal: 369ms\tremaining: 235ms\n",
      "611:\tlearn: 0.0230147\ttotal: 369ms\tremaining: 234ms\n",
      "612:\tlearn: 0.0229214\ttotal: 370ms\tremaining: 234ms\n",
      "613:\tlearn: 0.0228521\ttotal: 370ms\tremaining: 233ms\n",
      "614:\tlearn: 0.0228326\ttotal: 371ms\tremaining: 232ms\n"
     ]
    },
    {
     "name": "stdout",
     "output_type": "stream",
     "text": [
      "615:\tlearn: 0.0227071\ttotal: 371ms\tremaining: 231ms\n",
      "616:\tlearn: 0.0226878\ttotal: 372ms\tremaining: 231ms\n",
      "617:\tlearn: 0.0225995\ttotal: 372ms\tremaining: 230ms\n",
      "618:\tlearn: 0.0225025\ttotal: 373ms\tremaining: 230ms\n",
      "619:\tlearn: 0.0224167\ttotal: 373ms\tremaining: 229ms\n",
      "620:\tlearn: 0.0222951\ttotal: 374ms\tremaining: 228ms\n",
      "621:\tlearn: 0.0221861\ttotal: 374ms\tremaining: 227ms\n",
      "622:\tlearn: 0.0221672\ttotal: 375ms\tremaining: 227ms\n",
      "623:\tlearn: 0.0221485\ttotal: 375ms\tremaining: 226ms\n",
      "624:\tlearn: 0.0221301\ttotal: 376ms\tremaining: 225ms\n",
      "625:\tlearn: 0.0220780\ttotal: 376ms\tremaining: 225ms\n",
      "626:\tlearn: 0.0219707\ttotal: 377ms\tremaining: 224ms\n",
      "627:\tlearn: 0.0218651\ttotal: 377ms\tremaining: 223ms\n",
      "628:\tlearn: 0.0218227\ttotal: 378ms\tremaining: 223ms\n",
      "629:\tlearn: 0.0218048\ttotal: 378ms\tremaining: 222ms\n",
      "630:\tlearn: 0.0217870\ttotal: 379ms\tremaining: 221ms\n",
      "631:\tlearn: 0.0217695\ttotal: 379ms\tremaining: 221ms\n",
      "632:\tlearn: 0.0217128\ttotal: 380ms\tremaining: 220ms\n",
      "633:\tlearn: 0.0216038\ttotal: 380ms\tremaining: 220ms\n",
      "634:\tlearn: 0.0215015\ttotal: 381ms\tremaining: 219ms\n",
      "635:\tlearn: 0.0214845\ttotal: 381ms\tremaining: 218ms\n",
      "636:\tlearn: 0.0213833\ttotal: 382ms\tremaining: 217ms\n",
      "637:\tlearn: 0.0213426\ttotal: 382ms\tremaining: 217ms\n",
      "638:\tlearn: 0.0212586\ttotal: 383ms\tremaining: 216ms\n",
      "639:\tlearn: 0.0212306\ttotal: 383ms\tremaining: 216ms\n",
      "640:\tlearn: 0.0212141\ttotal: 384ms\tremaining: 215ms\n",
      "641:\tlearn: 0.0210996\ttotal: 384ms\tremaining: 214ms\n",
      "642:\tlearn: 0.0209871\ttotal: 385ms\tremaining: 214ms\n",
      "643:\tlearn: 0.0209053\ttotal: 385ms\tremaining: 213ms\n",
      "644:\tlearn: 0.0207880\ttotal: 386ms\tremaining: 212ms\n",
      "645:\tlearn: 0.0206784\ttotal: 386ms\tremaining: 212ms\n",
      "646:\tlearn: 0.0205709\ttotal: 387ms\tremaining: 211ms\n",
      "647:\tlearn: 0.0205428\ttotal: 387ms\tremaining: 210ms\n",
      "648:\tlearn: 0.0204637\ttotal: 388ms\tremaining: 210ms\n",
      "649:\tlearn: 0.0204375\ttotal: 388ms\tremaining: 209ms\n",
      "650:\tlearn: 0.0203904\ttotal: 388ms\tremaining: 208ms\n",
      "651:\tlearn: 0.0203010\ttotal: 389ms\tremaining: 208ms\n",
      "652:\tlearn: 0.0202646\ttotal: 389ms\tremaining: 207ms\n",
      "653:\tlearn: 0.0201660\ttotal: 390ms\tremaining: 206ms\n",
      "654:\tlearn: 0.0200895\ttotal: 390ms\tremaining: 205ms\n",
      "655:\tlearn: 0.0200398\ttotal: 391ms\tremaining: 205ms\n",
      "656:\tlearn: 0.0199293\ttotal: 391ms\tremaining: 204ms\n",
      "657:\tlearn: 0.0198246\ttotal: 392ms\tremaining: 204ms\n",
      "658:\tlearn: 0.0197321\ttotal: 392ms\tremaining: 203ms\n",
      "659:\tlearn: 0.0196793\ttotal: 392ms\tremaining: 202ms\n",
      "660:\tlearn: 0.0196278\ttotal: 393ms\tremaining: 201ms\n",
      "661:\tlearn: 0.0195432\ttotal: 393ms\tremaining: 201ms\n",
      "662:\tlearn: 0.0195190\ttotal: 394ms\tremaining: 200ms\n",
      "663:\tlearn: 0.0194457\ttotal: 394ms\tremaining: 200ms\n",
      "664:\tlearn: 0.0193956\ttotal: 395ms\tremaining: 199ms\n",
      "665:\tlearn: 0.0193332\ttotal: 395ms\tremaining: 198ms\n",
      "666:\tlearn: 0.0192982\ttotal: 396ms\tremaining: 198ms\n",
      "667:\tlearn: 0.0192374\ttotal: 396ms\tremaining: 197ms\n",
      "668:\tlearn: 0.0192029\ttotal: 396ms\tremaining: 196ms\n",
      "669:\tlearn: 0.0191343\ttotal: 398ms\tremaining: 196ms\n",
      "670:\tlearn: 0.0190435\ttotal: 398ms\tremaining: 195ms\n",
      "671:\tlearn: 0.0189630\ttotal: 399ms\tremaining: 195ms\n",
      "672:\tlearn: 0.0189050\ttotal: 399ms\tremaining: 194ms\n",
      "673:\tlearn: 0.0188666\ttotal: 400ms\tremaining: 193ms\n",
      "674:\tlearn: 0.0188081\ttotal: 400ms\tremaining: 193ms\n",
      "675:\tlearn: 0.0187212\ttotal: 400ms\tremaining: 192ms\n",
      "676:\tlearn: 0.0186353\ttotal: 401ms\tremaining: 191ms\n",
      "677:\tlearn: 0.0185474\ttotal: 401ms\tremaining: 191ms\n",
      "678:\tlearn: 0.0184695\ttotal: 401ms\tremaining: 190ms\n",
      "679:\tlearn: 0.0184455\ttotal: 402ms\tremaining: 189ms\n",
      "680:\tlearn: 0.0184219\ttotal: 402ms\tremaining: 188ms\n",
      "681:\tlearn: 0.0183068\ttotal: 403ms\tremaining: 188ms\n",
      "682:\tlearn: 0.0181944\ttotal: 403ms\tremaining: 187ms\n",
      "683:\tlearn: 0.0181379\ttotal: 404ms\tremaining: 187ms\n",
      "684:\tlearn: 0.0180283\ttotal: 404ms\tremaining: 186ms\n",
      "685:\tlearn: 0.0179729\ttotal: 405ms\tremaining: 185ms\n",
      "686:\tlearn: 0.0179152\ttotal: 405ms\tremaining: 185ms\n",
      "687:\tlearn: 0.0178084\ttotal: 406ms\tremaining: 184ms\n",
      "688:\tlearn: 0.0177543\ttotal: 406ms\tremaining: 183ms\n",
      "689:\tlearn: 0.0176501\ttotal: 407ms\tremaining: 183ms\n",
      "690:\tlearn: 0.0175970\ttotal: 407ms\tremaining: 182ms\n",
      "691:\tlearn: 0.0175362\ttotal: 408ms\tremaining: 182ms\n",
      "692:\tlearn: 0.0175140\ttotal: 408ms\tremaining: 181ms\n",
      "693:\tlearn: 0.0174621\ttotal: 409ms\tremaining: 180ms\n",
      "694:\tlearn: 0.0174403\ttotal: 410ms\tremaining: 180ms\n",
      "695:\tlearn: 0.0173826\ttotal: 410ms\tremaining: 179ms\n",
      "696:\tlearn: 0.0173697\ttotal: 411ms\tremaining: 178ms\n",
      "697:\tlearn: 0.0173570\ttotal: 411ms\tremaining: 178ms\n",
      "698:\tlearn: 0.0173358\ttotal: 411ms\tremaining: 177ms\n",
      "699:\tlearn: 0.0173234\ttotal: 412ms\tremaining: 176ms\n",
      "700:\tlearn: 0.0173016\ttotal: 412ms\tremaining: 176ms\n",
      "701:\tlearn: 0.0172767\ttotal: 413ms\tremaining: 175ms\n",
      "702:\tlearn: 0.0172264\ttotal: 413ms\tremaining: 175ms\n",
      "703:\tlearn: 0.0171707\ttotal: 414ms\tremaining: 174ms\n",
      "704:\tlearn: 0.0171585\ttotal: 414ms\tremaining: 173ms\n",
      "705:\tlearn: 0.0171320\ttotal: 414ms\tremaining: 173ms\n",
      "706:\tlearn: 0.0170521\ttotal: 415ms\tremaining: 172ms\n",
      "707:\tlearn: 0.0169982\ttotal: 415ms\tremaining: 171ms\n",
      "708:\tlearn: 0.0169869\ttotal: 416ms\tremaining: 171ms\n",
      "709:\tlearn: 0.0169758\ttotal: 416ms\tremaining: 170ms\n",
      "710:\tlearn: 0.0169650\ttotal: 416ms\tremaining: 169ms\n",
      "711:\tlearn: 0.0168870\ttotal: 417ms\tremaining: 169ms\n",
      "712:\tlearn: 0.0168764\ttotal: 417ms\tremaining: 168ms\n",
      "713:\tlearn: 0.0168659\ttotal: 418ms\tremaining: 167ms\n",
      "714:\tlearn: 0.0168554\ttotal: 418ms\tremaining: 167ms\n",
      "715:\tlearn: 0.0168070\ttotal: 419ms\tremaining: 166ms\n",
      "716:\tlearn: 0.0167309\ttotal: 419ms\tremaining: 165ms\n",
      "717:\tlearn: 0.0167205\ttotal: 420ms\tremaining: 165ms\n",
      "718:\tlearn: 0.0167103\ttotal: 420ms\tremaining: 164ms\n",
      "719:\tlearn: 0.0166300\ttotal: 421ms\tremaining: 164ms\n",
      "720:\tlearn: 0.0165558\ttotal: 421ms\tremaining: 163ms\n",
      "721:\tlearn: 0.0165457\ttotal: 422ms\tremaining: 162ms\n",
      "722:\tlearn: 0.0165356\ttotal: 422ms\tremaining: 162ms\n",
      "723:\tlearn: 0.0164531\ttotal: 423ms\tremaining: 161ms\n",
      "724:\tlearn: 0.0163975\ttotal: 423ms\tremaining: 161ms\n",
      "725:\tlearn: 0.0163216\ttotal: 424ms\tremaining: 160ms\n",
      "726:\tlearn: 0.0162558\ttotal: 425ms\tremaining: 160ms\n",
      "727:\tlearn: 0.0161624\ttotal: 425ms\tremaining: 159ms\n",
      "728:\tlearn: 0.0160845\ttotal: 426ms\tremaining: 158ms\n",
      "729:\tlearn: 0.0160215\ttotal: 426ms\tremaining: 158ms\n",
      "730:\tlearn: 0.0159447\ttotal: 427ms\tremaining: 157ms\n",
      "731:\tlearn: 0.0158761\ttotal: 427ms\tremaining: 156ms\n",
      "732:\tlearn: 0.0158046\ttotal: 428ms\tremaining: 156ms\n",
      "733:\tlearn: 0.0157266\ttotal: 428ms\tremaining: 155ms\n",
      "734:\tlearn: 0.0156771\ttotal: 429ms\tremaining: 155ms\n",
      "735:\tlearn: 0.0156038\ttotal: 429ms\tremaining: 154ms\n",
      "736:\tlearn: 0.0155556\ttotal: 430ms\tremaining: 153ms\n",
      "737:\tlearn: 0.0154885\ttotal: 430ms\tremaining: 153ms\n",
      "738:\tlearn: 0.0154453\ttotal: 431ms\tremaining: 152ms\n",
      "739:\tlearn: 0.0154264\ttotal: 431ms\tremaining: 151ms\n",
      "740:\tlearn: 0.0153625\ttotal: 432ms\tremaining: 151ms\n",
      "741:\tlearn: 0.0152950\ttotal: 432ms\tremaining: 150ms\n",
      "742:\tlearn: 0.0152763\ttotal: 432ms\tremaining: 150ms\n",
      "743:\tlearn: 0.0152020\ttotal: 433ms\tremaining: 149ms\n",
      "744:\tlearn: 0.0151461\ttotal: 433ms\tremaining: 148ms\n",
      "745:\tlearn: 0.0150665\ttotal: 434ms\tremaining: 148ms\n",
      "746:\tlearn: 0.0149954\ttotal: 434ms\tremaining: 147ms\n",
      "747:\tlearn: 0.0149064\ttotal: 435ms\tremaining: 146ms\n",
      "748:\tlearn: 0.0148194\ttotal: 435ms\tremaining: 146ms\n",
      "749:\tlearn: 0.0147570\ttotal: 436ms\tremaining: 145ms\n",
      "750:\tlearn: 0.0146829\ttotal: 437ms\tremaining: 145ms\n",
      "751:\tlearn: 0.0146373\ttotal: 437ms\tremaining: 144ms\n",
      "752:\tlearn: 0.0146291\ttotal: 437ms\tremaining: 143ms\n",
      "753:\tlearn: 0.0145845\ttotal: 438ms\tremaining: 143ms\n",
      "754:\tlearn: 0.0145764\ttotal: 438ms\tremaining: 142ms\n",
      "755:\tlearn: 0.0145684\ttotal: 439ms\tremaining: 142ms\n",
      "756:\tlearn: 0.0145248\ttotal: 439ms\tremaining: 141ms\n",
      "757:\tlearn: 0.0145169\ttotal: 440ms\tremaining: 140ms\n",
      "758:\tlearn: 0.0144797\ttotal: 441ms\tremaining: 140ms\n",
      "759:\tlearn: 0.0144719\ttotal: 441ms\tremaining: 139ms\n",
      "760:\tlearn: 0.0143972\ttotal: 442ms\tremaining: 139ms\n",
      "761:\tlearn: 0.0143447\ttotal: 442ms\tremaining: 138ms\n",
      "762:\tlearn: 0.0142936\ttotal: 443ms\tremaining: 138ms\n",
      "763:\tlearn: 0.0142323\ttotal: 443ms\tremaining: 137ms\n",
      "764:\tlearn: 0.0142248\ttotal: 444ms\tremaining: 136ms\n",
      "765:\tlearn: 0.0142174\ttotal: 444ms\tremaining: 136ms\n",
      "766:\tlearn: 0.0141232\ttotal: 445ms\tremaining: 135ms\n",
      "767:\tlearn: 0.0140533\ttotal: 445ms\tremaining: 134ms\n",
      "768:\tlearn: 0.0139924\ttotal: 446ms\tremaining: 134ms\n",
      "769:\tlearn: 0.0139331\ttotal: 446ms\tremaining: 133ms\n",
      "770:\tlearn: 0.0139260\ttotal: 446ms\tremaining: 133ms\n",
      "771:\tlearn: 0.0138668\ttotal: 447ms\tremaining: 132ms\n",
      "772:\tlearn: 0.0138318\ttotal: 447ms\tremaining: 131ms\n",
      "773:\tlearn: 0.0138009\ttotal: 448ms\tremaining: 131ms\n",
      "774:\tlearn: 0.0137431\ttotal: 448ms\tremaining: 130ms\n",
      "775:\tlearn: 0.0136876\ttotal: 449ms\tremaining: 130ms\n",
      "776:\tlearn: 0.0136757\ttotal: 449ms\tremaining: 129ms\n",
      "777:\tlearn: 0.0136193\ttotal: 450ms\tremaining: 128ms\n",
      "778:\tlearn: 0.0135926\ttotal: 450ms\tremaining: 128ms\n",
      "779:\tlearn: 0.0135679\ttotal: 451ms\tremaining: 127ms\n",
      "780:\tlearn: 0.0135497\ttotal: 451ms\tremaining: 127ms\n",
      "781:\tlearn: 0.0135321\ttotal: 452ms\tremaining: 126ms\n",
      "782:\tlearn: 0.0135022\ttotal: 452ms\tremaining: 125ms\n",
      "783:\tlearn: 0.0134537\ttotal: 453ms\tremaining: 125ms\n",
      "784:\tlearn: 0.0134365\ttotal: 453ms\tremaining: 124ms\n",
      "785:\tlearn: 0.0134071\ttotal: 454ms\tremaining: 123ms\n",
      "786:\tlearn: 0.0133890\ttotal: 454ms\tremaining: 123ms\n",
      "787:\tlearn: 0.0133345\ttotal: 454ms\tremaining: 122ms\n",
      "788:\tlearn: 0.0133131\ttotal: 455ms\tremaining: 122ms\n",
      "789:\tlearn: 0.0132923\ttotal: 456ms\tremaining: 121ms\n",
      "790:\tlearn: 0.0132450\ttotal: 456ms\tremaining: 120ms\n",
      "791:\tlearn: 0.0132306\ttotal: 456ms\tremaining: 120ms\n",
      "792:\tlearn: 0.0131767\ttotal: 457ms\tremaining: 119ms\n",
      "793:\tlearn: 0.0131322\ttotal: 457ms\tremaining: 119ms\n",
      "794:\tlearn: 0.0131146\ttotal: 458ms\tremaining: 118ms\n",
      "795:\tlearn: 0.0130620\ttotal: 458ms\tremaining: 117ms\n",
      "796:\tlearn: 0.0130554\ttotal: 459ms\tremaining: 117ms\n",
      "797:\tlearn: 0.0130270\ttotal: 459ms\tremaining: 116ms\n",
      "798:\tlearn: 0.0129633\ttotal: 460ms\tremaining: 116ms\n",
      "799:\tlearn: 0.0129460\ttotal: 460ms\tremaining: 115ms\n",
      "800:\tlearn: 0.0129292\ttotal: 460ms\tremaining: 114ms\n",
      "801:\tlearn: 0.0128831\ttotal: 461ms\tremaining: 114ms\n",
      "802:\tlearn: 0.0128767\ttotal: 462ms\tremaining: 113ms\n",
      "803:\tlearn: 0.0127856\ttotal: 462ms\tremaining: 113ms\n",
      "804:\tlearn: 0.0127577\ttotal: 462ms\tremaining: 112ms\n",
      "805:\tlearn: 0.0127335\ttotal: 463ms\tremaining: 111ms\n",
      "806:\tlearn: 0.0126692\ttotal: 463ms\tremaining: 111ms\n",
      "807:\tlearn: 0.0125823\ttotal: 464ms\tremaining: 110ms\n",
      "808:\tlearn: 0.0125367\ttotal: 465ms\tremaining: 110ms\n",
      "809:\tlearn: 0.0124818\ttotal: 465ms\tremaining: 109ms\n",
      "810:\tlearn: 0.0124281\ttotal: 466ms\tremaining: 109ms\n",
      "811:\tlearn: 0.0123411\ttotal: 466ms\tremaining: 108ms\n",
      "812:\tlearn: 0.0122888\ttotal: 467ms\tremaining: 107ms\n",
      "813:\tlearn: 0.0122036\ttotal: 467ms\tremaining: 107ms\n",
      "814:\tlearn: 0.0121261\ttotal: 467ms\tremaining: 106ms\n",
      "815:\tlearn: 0.0120647\ttotal: 468ms\tremaining: 105ms\n",
      "816:\tlearn: 0.0120130\ttotal: 468ms\tremaining: 105ms\n",
      "817:\tlearn: 0.0119598\ttotal: 469ms\tremaining: 104ms\n",
      "818:\tlearn: 0.0119041\ttotal: 469ms\tremaining: 104ms\n",
      "819:\tlearn: 0.0118574\ttotal: 470ms\tremaining: 103ms\n",
      "820:\tlearn: 0.0118054\ttotal: 470ms\tremaining: 102ms\n",
      "821:\tlearn: 0.0117477\ttotal: 470ms\tremaining: 102ms\n",
      "822:\tlearn: 0.0116897\ttotal: 471ms\tremaining: 101ms\n",
      "823:\tlearn: 0.0116495\ttotal: 471ms\tremaining: 101ms\n",
      "824:\tlearn: 0.0116004\ttotal: 472ms\tremaining: 100ms\n",
      "825:\tlearn: 0.0115520\ttotal: 472ms\tremaining: 99.5ms\n",
      "826:\tlearn: 0.0115051\ttotal: 473ms\tremaining: 98.9ms\n",
      "827:\tlearn: 0.0114792\ttotal: 473ms\tremaining: 98.3ms\n",
      "828:\tlearn: 0.0114186\ttotal: 474ms\tremaining: 97.8ms\n",
      "829:\tlearn: 0.0113936\ttotal: 474ms\tremaining: 97.2ms\n",
      "830:\tlearn: 0.0113384\ttotal: 475ms\tremaining: 96.6ms\n",
      "831:\tlearn: 0.0112843\ttotal: 475ms\tremaining: 96ms\n",
      "832:\tlearn: 0.0112636\ttotal: 476ms\tremaining: 95.4ms\n"
     ]
    },
    {
     "name": "stdout",
     "output_type": "stream",
     "text": [
      "833:\tlearn: 0.0112257\ttotal: 476ms\tremaining: 94.8ms\n",
      "834:\tlearn: 0.0112069\ttotal: 477ms\tremaining: 94.2ms\n",
      "835:\tlearn: 0.0112007\ttotal: 478ms\tremaining: 93.7ms\n",
      "836:\tlearn: 0.0111477\ttotal: 478ms\tremaining: 93.1ms\n",
      "837:\tlearn: 0.0111309\ttotal: 479ms\tremaining: 92.5ms\n",
      "838:\tlearn: 0.0110958\ttotal: 479ms\tremaining: 91.9ms\n",
      "839:\tlearn: 0.0110440\ttotal: 480ms\tremaining: 91.3ms\n",
      "840:\tlearn: 0.0110277\ttotal: 480ms\tremaining: 90.7ms\n",
      "841:\tlearn: 0.0109934\ttotal: 481ms\tremaining: 90.2ms\n",
      "842:\tlearn: 0.0109427\ttotal: 481ms\tremaining: 89.6ms\n",
      "843:\tlearn: 0.0108990\ttotal: 482ms\tremaining: 89ms\n",
      "844:\tlearn: 0.0108834\ttotal: 482ms\tremaining: 88.5ms\n",
      "845:\tlearn: 0.0108684\ttotal: 483ms\tremaining: 87.9ms\n",
      "846:\tlearn: 0.0108189\ttotal: 483ms\tremaining: 87.3ms\n",
      "847:\tlearn: 0.0108112\ttotal: 484ms\tremaining: 86.7ms\n",
      "848:\tlearn: 0.0107775\ttotal: 484ms\tremaining: 86.1ms\n",
      "849:\tlearn: 0.0107698\ttotal: 485ms\tremaining: 85.6ms\n",
      "850:\tlearn: 0.0107623\ttotal: 486ms\tremaining: 85ms\n",
      "851:\tlearn: 0.0107185\ttotal: 486ms\tremaining: 84.5ms\n",
      "852:\tlearn: 0.0106792\ttotal: 487ms\tremaining: 83.9ms\n",
      "853:\tlearn: 0.0106286\ttotal: 487ms\tremaining: 83.3ms\n",
      "854:\tlearn: 0.0105971\ttotal: 488ms\tremaining: 82.7ms\n",
      "855:\tlearn: 0.0105897\ttotal: 488ms\tremaining: 82.1ms\n",
      "856:\tlearn: 0.0105513\ttotal: 489ms\tremaining: 81.6ms\n",
      "857:\tlearn: 0.0105439\ttotal: 489ms\tremaining: 81ms\n",
      "858:\tlearn: 0.0104855\ttotal: 490ms\tremaining: 80.4ms\n",
      "859:\tlearn: 0.0104365\ttotal: 490ms\tremaining: 79.8ms\n",
      "860:\tlearn: 0.0104292\ttotal: 491ms\tremaining: 79.3ms\n",
      "861:\tlearn: 0.0103885\ttotal: 492ms\tremaining: 78.7ms\n",
      "862:\tlearn: 0.0103477\ttotal: 492ms\tremaining: 78.1ms\n",
      "863:\tlearn: 0.0103405\ttotal: 493ms\tremaining: 77.6ms\n",
      "864:\tlearn: 0.0103006\ttotal: 493ms\tremaining: 77ms\n",
      "865:\tlearn: 0.0102307\ttotal: 494ms\tremaining: 76.4ms\n",
      "866:\tlearn: 0.0101981\ttotal: 494ms\tremaining: 75.8ms\n",
      "867:\tlearn: 0.0101684\ttotal: 495ms\tremaining: 75.2ms\n",
      "868:\tlearn: 0.0101631\ttotal: 495ms\tremaining: 74.6ms\n",
      "869:\tlearn: 0.0101246\ttotal: 495ms\tremaining: 74ms\n",
      "870:\tlearn: 0.0100838\ttotal: 496ms\tremaining: 73.4ms\n",
      "871:\tlearn: 0.0100786\ttotal: 496ms\tremaining: 72.8ms\n",
      "872:\tlearn: 0.0100111\ttotal: 497ms\tremaining: 72.3ms\n",
      "873:\tlearn: 0.0099583\ttotal: 497ms\tremaining: 71.7ms\n",
      "874:\tlearn: 0.0099273\ttotal: 498ms\tremaining: 71.1ms\n",
      "875:\tlearn: 0.0099032\ttotal: 498ms\tremaining: 70.5ms\n",
      "876:\tlearn: 0.0098798\ttotal: 499ms\tremaining: 69.9ms\n",
      "877:\tlearn: 0.0098570\ttotal: 499ms\tremaining: 69.3ms\n",
      "878:\tlearn: 0.0098521\ttotal: 499ms\tremaining: 68.8ms\n",
      "879:\tlearn: 0.0098149\ttotal: 500ms\tremaining: 68.2ms\n",
      "880:\tlearn: 0.0097639\ttotal: 500ms\tremaining: 67.6ms\n",
      "881:\tlearn: 0.0097364\ttotal: 501ms\tremaining: 67ms\n",
      "882:\tlearn: 0.0097003\ttotal: 501ms\tremaining: 66.4ms\n",
      "883:\tlearn: 0.0096507\ttotal: 502ms\tremaining: 65.8ms\n",
      "884:\tlearn: 0.0096081\ttotal: 502ms\tremaining: 65.2ms\n",
      "885:\tlearn: 0.0095786\ttotal: 502ms\tremaining: 64.6ms\n",
      "886:\tlearn: 0.0095722\ttotal: 503ms\tremaining: 64ms\n",
      "887:\tlearn: 0.0095370\ttotal: 503ms\tremaining: 63.5ms\n",
      "888:\tlearn: 0.0095024\ttotal: 504ms\tremaining: 62.9ms\n",
      "889:\tlearn: 0.0094632\ttotal: 504ms\tremaining: 62.3ms\n",
      "890:\tlearn: 0.0094295\ttotal: 504ms\tremaining: 61.7ms\n",
      "891:\tlearn: 0.0093920\ttotal: 505ms\tremaining: 61.1ms\n",
      "892:\tlearn: 0.0093514\ttotal: 506ms\tremaining: 60.6ms\n",
      "893:\tlearn: 0.0093224\ttotal: 506ms\tremaining: 60ms\n",
      "894:\tlearn: 0.0092826\ttotal: 507ms\tremaining: 59.4ms\n",
      "895:\tlearn: 0.0092322\ttotal: 507ms\tremaining: 58.9ms\n",
      "896:\tlearn: 0.0091966\ttotal: 508ms\tremaining: 58.3ms\n",
      "897:\tlearn: 0.0091686\ttotal: 508ms\tremaining: 57.7ms\n",
      "898:\tlearn: 0.0091312\ttotal: 508ms\tremaining: 57.1ms\n",
      "899:\tlearn: 0.0091184\ttotal: 509ms\tremaining: 56.5ms\n",
      "900:\tlearn: 0.0090820\ttotal: 509ms\tremaining: 56ms\n",
      "901:\tlearn: 0.0090758\ttotal: 510ms\tremaining: 55.4ms\n",
      "902:\tlearn: 0.0090697\ttotal: 510ms\tremaining: 54.8ms\n",
      "903:\tlearn: 0.0090373\ttotal: 511ms\tremaining: 54.3ms\n",
      "904:\tlearn: 0.0089886\ttotal: 512ms\tremaining: 53.7ms\n",
      "905:\tlearn: 0.0089428\ttotal: 512ms\tremaining: 53.1ms\n",
      "906:\tlearn: 0.0088979\ttotal: 512ms\tremaining: 52.5ms\n",
      "907:\tlearn: 0.0088714\ttotal: 513ms\tremaining: 52ms\n",
      "908:\tlearn: 0.0088654\ttotal: 513ms\tremaining: 51.4ms\n",
      "909:\tlearn: 0.0088382\ttotal: 514ms\tremaining: 50.8ms\n",
      "910:\tlearn: 0.0087946\ttotal: 514ms\tremaining: 50.3ms\n",
      "911:\tlearn: 0.0087757\ttotal: 515ms\tremaining: 49.7ms\n",
      "912:\tlearn: 0.0087387\ttotal: 515ms\tremaining: 49.1ms\n",
      "913:\tlearn: 0.0087329\ttotal: 516ms\tremaining: 48.5ms\n",
      "914:\tlearn: 0.0087272\ttotal: 517ms\tremaining: 48ms\n",
      "915:\tlearn: 0.0087025\ttotal: 517ms\tremaining: 47.4ms\n",
      "916:\tlearn: 0.0086692\ttotal: 518ms\tremaining: 46.8ms\n",
      "917:\tlearn: 0.0086636\ttotal: 518ms\tremaining: 46.3ms\n",
      "918:\tlearn: 0.0086581\ttotal: 518ms\tremaining: 45.7ms\n",
      "919:\tlearn: 0.0086367\ttotal: 519ms\tremaining: 45.1ms\n",
      "920:\tlearn: 0.0086124\ttotal: 520ms\tremaining: 44.6ms\n",
      "921:\tlearn: 0.0086070\ttotal: 520ms\tremaining: 44ms\n",
      "922:\tlearn: 0.0085764\ttotal: 521ms\tremaining: 43.4ms\n",
      "923:\tlearn: 0.0085674\ttotal: 521ms\tremaining: 42.9ms\n",
      "924:\tlearn: 0.0085330\ttotal: 521ms\tremaining: 42.3ms\n",
      "925:\tlearn: 0.0085023\ttotal: 522ms\tremaining: 41.7ms\n",
      "926:\tlearn: 0.0084686\ttotal: 522ms\tremaining: 41.1ms\n",
      "927:\tlearn: 0.0084441\ttotal: 523ms\tremaining: 40.6ms\n",
      "928:\tlearn: 0.0084141\ttotal: 523ms\tremaining: 40ms\n",
      "929:\tlearn: 0.0083812\ttotal: 524ms\tremaining: 39.4ms\n",
      "930:\tlearn: 0.0083607\ttotal: 525ms\tremaining: 38.9ms\n",
      "931:\tlearn: 0.0083278\ttotal: 525ms\tremaining: 38.3ms\n",
      "932:\tlearn: 0.0082987\ttotal: 526ms\tremaining: 37.7ms\n",
      "933:\tlearn: 0.0082668\ttotal: 526ms\tremaining: 37.2ms\n",
      "934:\tlearn: 0.0082222\ttotal: 527ms\tremaining: 36.6ms\n",
      "935:\tlearn: 0.0081826\ttotal: 527ms\tremaining: 36ms\n",
      "936:\tlearn: 0.0081544\ttotal: 527ms\tremaining: 35.5ms\n",
      "937:\tlearn: 0.0081267\ttotal: 528ms\tremaining: 34.9ms\n",
      "938:\tlearn: 0.0080832\ttotal: 528ms\tremaining: 34.3ms\n",
      "939:\tlearn: 0.0080447\ttotal: 529ms\tremaining: 33.8ms\n",
      "940:\tlearn: 0.0080177\ttotal: 529ms\tremaining: 33.2ms\n",
      "941:\tlearn: 0.0079804\ttotal: 530ms\tremaining: 32.6ms\n",
      "942:\tlearn: 0.0079424\ttotal: 530ms\tremaining: 32.1ms\n",
      "943:\tlearn: 0.0079161\ttotal: 531ms\tremaining: 31.5ms\n",
      "944:\tlearn: 0.0078902\ttotal: 531ms\tremaining: 30.9ms\n",
      "945:\tlearn: 0.0078613\ttotal: 532ms\tremaining: 30.4ms\n",
      "946:\tlearn: 0.0078336\ttotal: 532ms\tremaining: 29.8ms\n",
      "947:\tlearn: 0.0078003\ttotal: 533ms\tremaining: 29.2ms\n",
      "948:\tlearn: 0.0077631\ttotal: 533ms\tremaining: 28.7ms\n",
      "949:\tlearn: 0.0077348\ttotal: 534ms\tremaining: 28.1ms\n",
      "950:\tlearn: 0.0077071\ttotal: 534ms\tremaining: 27.5ms\n",
      "951:\tlearn: 0.0076893\ttotal: 535ms\tremaining: 27ms\n",
      "952:\tlearn: 0.0076765\ttotal: 535ms\tremaining: 26.4ms\n",
      "953:\tlearn: 0.0076714\ttotal: 536ms\tremaining: 25.8ms\n",
      "954:\tlearn: 0.0076477\ttotal: 536ms\tremaining: 25.3ms\n",
      "955:\tlearn: 0.0076427\ttotal: 537ms\tremaining: 24.7ms\n",
      "956:\tlearn: 0.0076205\ttotal: 537ms\tremaining: 24.1ms\n",
      "957:\tlearn: 0.0075859\ttotal: 538ms\tremaining: 23.6ms\n",
      "958:\tlearn: 0.0075641\ttotal: 538ms\tremaining: 23ms\n",
      "959:\tlearn: 0.0075592\ttotal: 539ms\tremaining: 22.4ms\n",
      "960:\tlearn: 0.0075340\ttotal: 539ms\tremaining: 21.9ms\n",
      "961:\tlearn: 0.0075051\ttotal: 540ms\tremaining: 21.3ms\n",
      "962:\tlearn: 0.0074708\ttotal: 540ms\tremaining: 20.7ms\n",
      "963:\tlearn: 0.0074382\ttotal: 540ms\tremaining: 20.2ms\n",
      "964:\tlearn: 0.0074060\ttotal: 541ms\tremaining: 19.6ms\n",
      "965:\tlearn: 0.0073936\ttotal: 541ms\tremaining: 19.1ms\n",
      "966:\tlearn: 0.0073816\ttotal: 542ms\tremaining: 18.5ms\n",
      "967:\tlearn: 0.0073501\ttotal: 542ms\tremaining: 17.9ms\n",
      "968:\tlearn: 0.0073193\ttotal: 543ms\tremaining: 17.4ms\n",
      "969:\tlearn: 0.0072872\ttotal: 544ms\tremaining: 16.8ms\n",
      "970:\tlearn: 0.0072795\ttotal: 544ms\tremaining: 16.2ms\n",
      "971:\tlearn: 0.0072498\ttotal: 544ms\tremaining: 15.7ms\n",
      "972:\tlearn: 0.0072160\ttotal: 545ms\tremaining: 15.1ms\n",
      "973:\tlearn: 0.0072084\ttotal: 545ms\tremaining: 14.6ms\n",
      "974:\tlearn: 0.0071806\ttotal: 546ms\tremaining: 14ms\n",
      "975:\tlearn: 0.0071448\ttotal: 547ms\tremaining: 13.4ms\n",
      "976:\tlearn: 0.0071386\ttotal: 547ms\tremaining: 12.9ms\n",
      "977:\tlearn: 0.0070989\ttotal: 548ms\tremaining: 12.3ms\n",
      "978:\tlearn: 0.0070640\ttotal: 548ms\tremaining: 11.8ms\n",
      "979:\tlearn: 0.0070256\ttotal: 548ms\tremaining: 11.2ms\n",
      "980:\tlearn: 0.0069915\ttotal: 549ms\tremaining: 10.6ms\n",
      "981:\tlearn: 0.0069545\ttotal: 549ms\tremaining: 10.1ms\n",
      "982:\tlearn: 0.0069229\ttotal: 550ms\tremaining: 9.51ms\n",
      "983:\tlearn: 0.0068898\ttotal: 550ms\tremaining: 8.95ms\n",
      "984:\tlearn: 0.0068726\ttotal: 551ms\tremaining: 8.39ms\n",
      "985:\tlearn: 0.0068558\ttotal: 551ms\tremaining: 7.83ms\n",
      "986:\tlearn: 0.0068332\ttotal: 552ms\tremaining: 7.27ms\n",
      "987:\tlearn: 0.0068019\ttotal: 552ms\tremaining: 6.71ms\n",
      "988:\tlearn: 0.0067763\ttotal: 553ms\tremaining: 6.15ms\n",
      "989:\tlearn: 0.0067546\ttotal: 553ms\tremaining: 5.59ms\n",
      "990:\tlearn: 0.0067332\ttotal: 554ms\tremaining: 5.03ms\n"
     ]
    },
    {
     "name": "stdout",
     "output_type": "stream",
     "text": [
      "991:\tlearn: 0.0067029\ttotal: 555ms\tremaining: 4.47ms\n",
      "992:\tlearn: 0.0066707\ttotal: 555ms\tremaining: 3.91ms\n",
      "993:\tlearn: 0.0066407\ttotal: 556ms\tremaining: 3.35ms\n",
      "994:\tlearn: 0.0066108\ttotal: 556ms\tremaining: 2.79ms\n",
      "995:\tlearn: 0.0065867\ttotal: 557ms\tremaining: 2.24ms\n",
      "996:\tlearn: 0.0065689\ttotal: 558ms\tremaining: 1.68ms\n",
      "997:\tlearn: 0.0065397\ttotal: 558ms\tremaining: 1.12ms\n",
      "998:\tlearn: 0.0065305\ttotal: 559ms\tremaining: 559us\n",
      "999:\tlearn: 0.0065034\ttotal: 559ms\tremaining: 0us\n"
     ]
    },
    {
     "data": {
      "text/plain": [
       "<catboost.core.CatBoostRegressor at 0x7fb5500208e0>"
      ]
     },
     "execution_count": 9,
     "metadata": {},
     "output_type": "execute_result"
    }
   ],
   "source": [
    "#Train the Model \n",
    "prior_model = ctb.CatBoostRegressor()\n",
    "prior_model.fit(X_train,Y_train)"
   ]
  },
  {
   "cell_type": "code",
   "execution_count": 10,
   "id": "af65dcda",
   "metadata": {
    "execution": {
     "iopub.execute_input": "2022-03-08T20:08:30.692424Z",
     "iopub.status.busy": "2022-03-08T20:08:30.692037Z",
     "iopub.status.idle": "2022-03-08T20:08:30.699501Z",
     "shell.execute_reply": "2022-03-08T20:08:30.699742Z"
    },
    "id": "af65dcda",
    "papermill": {
     "duration": 0.019909,
     "end_time": "2022-03-08T20:08:30.699851",
     "exception": false,
     "start_time": "2022-03-08T20:08:30.679942",
     "status": "completed"
    },
    "tags": []
   },
   "outputs": [
    {
     "data": {
      "application/scrapbook.scrap.json+json": {
       "data": 0.09668712799768123,
       "encoder": "json",
       "name": "Prior Model MSE",
       "version": 1
      }
     },
     "metadata": {
      "scrapbook": {
       "data": true,
       "display": false,
       "name": "Prior Model MSE"
      }
     },
     "output_type": "display_data"
    },
    {
     "data": {
      "application/scrapbook.scrap.json+json": {
       "data": 0.9425833088735944,
       "encoder": "json",
       "name": "ABC Pre-generator MSE",
       "version": 1
      }
     },
     "metadata": {
      "scrapbook": {
       "data": true,
       "display": false,
       "name": "ABC Pre-generator MSE"
      }
     },
     "output_type": "display_data"
    },
    {
     "data": {
      "application/scrapbook.scrap.json+json": {
       "data": 0.2745791922044174,
       "encoder": "json",
       "name": "Prior Model MSE",
       "version": 1
      }
     },
     "metadata": {
      "scrapbook": {
       "data": true,
       "display": false,
       "name": "Prior Model MSE"
      }
     },
     "output_type": "display_data"
    },
    {
     "data": {
      "application/scrapbook.scrap.json+json": {
       "data": 0.9247069703589783,
       "encoder": "json",
       "name": "ABC Pre-generator MSE",
       "version": 1
      }
     },
     "metadata": {
      "scrapbook": {
       "data": true,
       "display": false,
       "name": "ABC Pre-generator MSE"
      }
     },
     "output_type": "display_data"
    }
   ],
   "source": [
    "y_pred = prior_model.predict(X_test)\n",
    "y_abc = y_pred + np.random.normal(0,variance, y_pred.shape) + bias \n",
    "mse = mean_squared_error(y_pred,Y_test)\n",
    "sb.glue(\"Prior Model MSE\",mse)\n",
    "mse = mean_squared_error(y_abc,Y_test)\n",
    "sb.glue(\"ABC Pre-generator MSE\",mse)\n",
    "mae = mean_absolute_error(y_pred,Y_test)\n",
    "sb.glue(\"Prior Model MSE\",mae)\n",
    "mae = mean_absolute_error(y_abc,Y_test)\n",
    "sb.glue(\"ABC Pre-generator MSE\",mae)"
   ]
  },
  {
   "cell_type": "markdown",
   "id": "25609da2",
   "metadata": {
    "papermill": {
     "duration": 0.009424,
     "end_time": "2022-03-08T20:08:30.718909",
     "exception": false,
     "start_time": "2022-03-08T20:08:30.709485",
     "status": "completed"
    },
    "tags": []
   },
   "source": [
    "# ABC GAN Model"
   ]
  },
  {
   "cell_type": "code",
   "execution_count": 11,
   "id": "dfc3464d",
   "metadata": {
    "execution": {
     "iopub.execute_input": "2022-03-08T20:08:30.740542Z",
     "iopub.status.busy": "2022-03-08T20:08:30.740174Z",
     "iopub.status.idle": "2022-03-08T20:08:30.742914Z",
     "shell.execute_reply": "2022-03-08T20:08:30.743158Z"
    },
    "papermill": {
     "duration": 0.01491,
     "end_time": "2022-03-08T20:08:30.743265",
     "exception": false,
     "start_time": "2022-03-08T20:08:30.728355",
     "status": "completed"
    },
    "tags": []
   },
   "outputs": [],
   "source": [
    "gen = network.Generator(n_features+1).to(device)\n",
    "disc = network.Discriminator(n_features+1).to(device)\n",
    "\n",
    "criterion = torch.nn.BCELoss()\n",
    "gen_opt = torch.optim.Adam(gen.parameters(), lr=0.001, betas=(0.5, 0.999))\n",
    "disc_opt = torch.optim.Adam(disc.parameters(), lr=0.001, betas=(0.5, 0.999))"
   ]
  },
  {
   "cell_type": "code",
   "execution_count": 12,
   "id": "b75fdd85",
   "metadata": {
    "execution": {
     "iopub.execute_input": "2022-03-08T20:08:30.764697Z",
     "iopub.status.busy": "2022-03-08T20:08:30.764325Z",
     "iopub.status.idle": "2022-03-08T20:08:44.201594Z",
     "shell.execute_reply": "2022-03-08T20:08:44.201900Z"
    },
    "papermill": {
     "duration": 13.449074,
     "end_time": "2022-03-08T20:08:44.202020",
     "exception": false,
     "start_time": "2022-03-08T20:08:30.752946",
     "status": "completed"
    },
    "tags": []
   },
   "outputs": [
    {
     "data": {
      "image/png": "[encoded data removed]",
      "text/plain": [
       "<Figure size 432x288 with 1 Axes>"
      ]
     },
     "metadata": {
      "needs_background": "light"
     },
     "output_type": "display_data"
    },
    {
     "data": {
      "image/png": "[encoded data removed]",
      "text/plain": [
       "<Figure size 432x288 with 1 Axes>"
      ]
     },
     "metadata": {
      "needs_background": "light"
     },
     "output_type": "display_data"
    }
   ],
   "source": [
    "#Training the ABC_GAN \n",
    "ABC_train_test2.training_GAN(disc,gen,disc_opt,gen_opt,train_data,batch_size,n_epochs,criterion,prior_model,variance,bias,device)"
   ]
  },
  {
   "cell_type": "code",
   "execution_count": 13,
   "id": "1fa7c368",
   "metadata": {
    "execution": {
     "iopub.execute_input": "2022-03-08T20:08:44.225998Z",
     "iopub.status.busy": "2022-03-08T20:08:44.225618Z",
     "iopub.status.idle": "2022-03-08T20:08:44.395040Z",
     "shell.execute_reply": "2022-03-08T20:08:44.395360Z"
    },
    "papermill": {
     "duration": 0.182369,
     "end_time": "2022-03-08T20:08:44.395483",
     "exception": false,
     "start_time": "2022-03-08T20:08:44.213114",
     "status": "completed"
    },
    "tags": []
   },
   "outputs": [
    {
     "data": {
      "application/scrapbook.scrap.json+json": {
       "data": 0.06490702413474267,
       "encoder": "json",
       "name": "ABC-GAN Model 1 MSE",
       "version": 1
      }
     },
     "metadata": {
      "scrapbook": {
       "data": true,
       "display": false,
       "name": "ABC-GAN Model 1 MSE"
      }
     },
     "output_type": "display_data"
    },
    {
     "data": {
      "application/scrapbook.scrap.json+json": {
       "data": 0.21252359878085553,
       "encoder": "json",
       "name": "ABC-GAN Model 1 MAE",
       "version": 1
      }
     },
     "metadata": {
      "scrapbook": {
       "data": true,
       "display": false,
       "name": "ABC-GAN Model 1 MAE"
      }
     },
     "output_type": "display_data"
    },
    {
     "data": {
      "application/scrapbook.scrap.json+json": {
       "data": 4.250471975617111,
       "encoder": "json",
       "name": "ABC-GAN Model 1 Manhattan Distance",
       "version": 1
      }
     },
     "metadata": {
      "scrapbook": {
       "data": true,
       "display": false,
       "name": "ABC-GAN Model 1 Manhattan Distance"
      }
     },
     "output_type": "display_data"
    },
    {
     "data": {
      "application/scrapbook.scrap.json+json": {
       "data": 1.139336249050163,
       "encoder": "json",
       "name": "ABC-GAN Model 1 Euclidean distance",
       "version": 1
      }
     },
     "metadata": {
      "scrapbook": {
       "data": true,
       "display": false,
       "name": "ABC-GAN Model 1 Euclidean distance"
      }
     },
     "output_type": "display_data"
    },
    {
     "data": {
      "application/scrapbook.scrap.json+json": {
       "data": [
        [
         0.06471272414862594,
         0.06464149421584411,
         0.064127721517845,
         0.06601649211173714,
         0.06644112172009638,
         0.0639050187557784,
         0.0643473364980446,
         0.06599899704135628,
         0.06611097014648827,
         0.06510457970745079,
         0.06770749852702548,
         0.06554825960649711,
         0.06437545807452785,
         0.06565261182497419,
         0.06477186687113913,
         0.06403066882445044,
         0.06578885815195212,
         0.06407461822371871,
         0.06467299783297815,
         0.0651424324155429,
         0.0640623897265533,
         0.06457823289448458,
         0.06284121371331726,
         0.06433972056082359,
         0.06523018653742256,
         0.06443748687331362,
         0.06651415969288935,
         0.06598500635352625,
         0.0644267420379187,
         0.06500739242304215,
         0.06539103605551028,
         0.06461881625941385,
         0.06578653972358388,
         0.06497850374510492,
         0.06417744277407966,
         0.0638234685318326,
         0.06386836121650957,
         0.06565092800290115,
         0.06449792006454676,
         0.06435319770021311,
         0.06552721337981379,
         0.06561519523975387,
         0.06518536482532136,
         0.06650207450513412,
         0.06528982072089176,
         0.06382516193551264,
         0.06418940209436419,
         0.06401101966860698,
         0.06657452217557593,
         0.06478910208131718,
         0.06444071903020156,
         0.06451445983900088,
         0.06483543332073458,
         0.06366073315310054,
         0.06442892369392722,
         0.06453375863453663,
         0.06404952232140285,
         0.0650214868690606,
         0.06477662641389278,
         0.064476105446541,
         0.06595693835642058,
         0.06535198119853057,
         0.0639984336265765,
         0.06470807967946347,
         0.06434949790512921,
         0.06624254740777244,
         0.06464614837157336,
         0.06583581544378965,
         0.06418133687171247,
         0.06493777800100863,
         0.06459357471411295,
         0.06440365414512365,
         0.06479746965736423,
         0.0637981606185464,
         0.0654553716189433,
         0.06494633921032665,
         0.06360399446990267,
         0.06520997439949111,
         0.06406650514656781,
         0.0650435069829003,
         0.06481177444599914,
         0.06633672532444762,
         0.06428531247761995,
         0.0638614360355803,
         0.06446716786554099,
         0.06543628325210268,
         0.06570708679195836,
         0.06652319505120617,
         0.06518615664145479,
         0.06545274528913342,
         0.06607772753072824,
         0.0654873084049882,
         0.06533236872100949,
         0.06412373908140236,
         0.06413057126054934,
         0.0641063749173254,
         0.0653215247363673,
         0.06388377856082704,
         0.06535369533091558,
         0.0647032174781046
        ],
        [
         0.21277539245784283,
         0.2126694293692708,
         0.21128694377839566,
         0.21243227701634168,
         0.21564962677657604,
         0.21204703990370036,
         0.21007865723222494,
         0.21549649015069008,
         0.2153797537088394,
         0.21275863479822874,
         0.2173678120598197,
         0.2127630652859807,
         0.2124990662559867,
         0.21355814728885888,
         0.2113712478429079,
         0.210646534524858,
         0.21405414156615735,
         0.2109824473038316,
         0.21254055332392455,
         0.21347174290567636,
         0.21084776520729065,
         0.21149832289665937,
         0.20824484806507826,
         0.2105692768469453,
         0.21299597881734372,
         0.21342420112341642,
         0.21468795146793127,
         0.21387546900659798,
         0.21082269083708524,
         0.21380054373294116,
         0.21301532723009586,
         0.21110968496650456,
         0.2156056785956025,
         0.2138507692143321,
         0.21201850920915605,
         0.21073218453675507,
         0.21025353725999593,
         0.21400865372270345,
         0.2122216871008277,
         0.21199520602822303,
         0.21525193136185408,
         0.21337702982127665,
         0.21394841615110635,
         0.2151417676359415,
         0.21303872149437666,
         0.21116671916097401,
         0.210877532325685,
         0.2109868736937642,
         0.21470933146774768,
         0.21226774249225855,
         0.21275653392076493,
         0.2118918877094984,
         0.2110386047512293,
         0.21127890348434447,
         0.21149424668401479,
         0.21130688525736332,
         0.2111716903746128,
         0.21253271047025918,
         0.21002638898789883,
         0.21014590188860893,
         0.21536323726177214,
         0.21388826966285707,
         0.2111774979159236,
         0.2129143113270402,
         0.20940731335431337,
         0.21411277763545514,
         0.21225602375343441,
         0.21539368145167828,
         0.20941373873502017,
         0.21226618364453315,
         0.21231889650225638,
         0.2101823767647147,
         0.21252356376498938,
         0.21116675287485123,
         0.21369255427271128,
         0.21144390609115363,
         0.21012801192700864,
         0.213605148345232,
         0.21066450998187064,
         0.213419665209949,
         0.2123000966385007,
         0.21332398075610398,
         0.2116237174719572,
         0.21151030957698821,
         0.21212525852024555,
         0.21384421680122614,
         0.21355777513235807,
         0.2151534343138337,
         0.21372455228120088,
         0.2132816918194294,
         0.21424511838704347,
         0.21280882824212313,
         0.2129536375403404,
         0.21126508191227913,
         0.21166201177984476,
         0.2111868316307664,
         0.2132369372062385,
         0.21319460775703192,
         0.21361039746552707,
         0.2125958638265729
        ],
        [
         4.2555078491568565,
         4.253388587385416,
         4.225738875567913,
         4.248645540326834,
         4.312992535531521,
         4.240940798074007,
         4.201573144644499,
         4.309929803013802,
         4.307595074176788,
         4.255172695964575,
         4.347356241196394,
         4.255261305719614,
         4.249981325119734,
         4.271162945777178,
         4.227424956858158,
         4.21293069049716,
         4.281082831323147,
         4.2196489460766315,
         4.250811066478491,
         4.269434858113527,
         4.216955304145813,
         4.2299664579331875,
         4.164896961301565,
         4.211385536938906,
         4.259919576346874,
         4.2684840224683285,
         4.293759029358625,
         4.27750938013196,
         4.216453816741705,
         4.276010874658823,
         4.260306544601917,
         4.2221936993300915,
         4.31211357191205,
         4.277015384286642,
         4.240370184183121,
         4.214643690735102,
         4.205070745199919,
         4.280173074454069,
         4.244433742016554,
         4.239904120564461,
         4.3050386272370815,
         4.267540596425533,
         4.278968323022127,
         4.30283535271883,
         4.260774429887533,
         4.2233343832194805,
         4.2175506465137005,
         4.219737473875284,
         4.294186629354954,
         4.245354849845171,
         4.2551306784152985,
         4.237837754189968,
         4.220772095024586,
         4.22557806968689,
         4.229884933680296,
         4.226137705147266,
         4.223433807492256,
         4.250654209405184,
         4.2005277797579765,
         4.202918037772179,
         4.307264745235443,
         4.277765393257141,
         4.223549958318472,
         4.258286226540804,
         4.1881462670862675,
         4.282255552709103,
         4.245120475068688,
         4.3078736290335655,
         4.188274774700403,
         4.245323672890663,
         4.246377930045128,
         4.203647535294294,
         4.2504712752997875,
         4.2233350574970245,
         4.2738510854542255,
         4.228878121823072,
         4.202560238540173,
         4.27210296690464,
         4.213290199637413,
         4.26839330419898,
         4.246001932770014,
         4.26647961512208,
         4.232474349439144,
         4.230206191539764,
         4.242505170404911,
         4.276884336024523,
         4.2711555026471615,
         4.303068686276674,
         4.274491045624018,
         4.265633836388588,
         4.2849023677408695,
         4.2561765648424625,
         4.2590727508068085,
         4.225301638245583,
         4.233240235596895,
         4.223736632615328,
         4.26473874412477,
         4.263892155140638,
         4.272207949310541,
         4.251917276531458
        ],
        [
         1.1376530591408431,
         1.1370267737906976,
         1.132499196625278,
         1.1490560657490752,
         1.1527456069757662,
         1.1305310146632723,
         1.1344367456852285,
         1.148903799639955,
         1.1498779948019553,
         1.141092281171429,
         1.163679496485398,
         1.1449738827283102,
         1.134684608818925,
         1.1458849141600058,
         1.1381728064853696,
         1.1316418941029927,
         1.1470733032544356,
         1.1320301959198678,
         1.1373038101842283,
         1.141423956429362,
         1.1319221680535576,
         1.1364702626508498,
         1.1210817429011788,
         1.134369609614288,
         1.1421925103713697,
         1.135231138344202,
         1.153379033040651,
         1.1487820189533455,
         1.1351364855198578,
         1.1402402590949168,
         1.1435998955536002,
         1.1368273066689931,
         1.147053091391884,
         1.1399868748815043,
         1.1329381516577122,
         1.1298094399661618,
         1.1302067175212644,
         1.1458702195528179,
         1.1357633562018696,
         1.1344884106963202,
         1.1447900539383962,
         1.1455583375782645,
         1.1418000247444502,
         1.1532742475676296,
         1.1427144938337988,
         1.1298244282676193,
         1.1330437069624824,
         1.1314682467361334,
         1.1539022677469346,
         1.1383242251776704,
         1.1352596093422997,
         1.135908973809089,
         1.138731165119622,
         1.1283681416372986,
         1.135155704684844,
         1.1360788584824262,
         1.1318084848719137,
         1.140363861835867,
         1.1382146231172114,
         1.1355712698597213,
         1.148537664653803,
         1.1432583364973166,
         1.1313570048978925,
         1.1376122334034868,
         1.1344557982145378,
         1.1510216975172314,
         1.1370677057376428,
         1.1474825963280633,
         1.1329725228063783,
         1.1396295714047493,
         1.1366052499800707,
         1.1349330741953347,
         1.138397730649216,
         1.1295854161465293,
         1.1441623278096802,
         1.1397046916664566,
         1.1278651911456676,
         1.1420155375430854,
         1.131958525269966,
         1.1405569427512183,
         1.1385233809281137,
         1.1518396183883208,
         1.1338898754078366,
         1.1301454422823667,
         1.1354925615391849,
         1.143995482964008,
         1.146360212079592,
         1.1534573685334553,
         1.1418069595291034,
         1.1441393734080951,
         1.149588861556411,
         1.1444414218734675,
         1.1430867746676934,
         1.132464031052663,
         1.1325243596545669,
         1.1323106898490838,
         1.1429919049264288,
         1.1303431210108463,
         1.1432733297940223,
         1.137569492190298
        ]
       ],
       "encoder": "json",
       "name": "ABC_GAN_1 Metrics",
       "version": 1
      }
     },
     "metadata": {
      "scrapbook": {
       "data": true,
       "display": false,
       "name": "ABC_GAN_1 Metrics"
      }
     },
     "output_type": "display_data"
    },
    {
     "name": "stdout",
     "output_type": "stream",
     "text": [
      "MSE\n",
      "0.06490702413474267\n"
     ]
    }
   ],
   "source": [
    "ABC_GAN1_metrics=ABC_train_test2.test_generator(gen,test_data,prior_model,variance,bias,\"1\",device)\n",
    "sb.glue(\"ABC_GAN_1 Metrics\",ABC_GAN1_metrics)\n",
    "\n",
    "print(\"MSE\")\n",
    "print(mean(ABC_GAN1_metrics[0]))"
   ]
  },
  {
   "cell_type": "code",
   "execution_count": 14,
   "id": "eb22ce5c",
   "metadata": {
    "execution": {
     "iopub.execute_input": "2022-03-08T20:08:44.422310Z",
     "iopub.status.busy": "2022-03-08T20:08:44.421942Z",
     "iopub.status.idle": "2022-03-08T20:08:44.724194Z",
     "shell.execute_reply": "2022-03-08T20:08:44.724481Z"
    },
    "papermill": {
     "duration": 0.316835,
     "end_time": "2022-03-08T20:08:44.724603",
     "exception": false,
     "start_time": "2022-03-08T20:08:44.407768",
     "status": "completed"
    },
    "tags": []
   },
   "outputs": [
    {
     "data": {
      "image/png": "[encoded data removed]",
      "text/plain": [
       "<Figure size 432x288 with 1 Axes>"
      ]
     },
     "metadata": {
      "needs_background": "light"
     },
     "output_type": "display_data"
    },
    {
     "data": {
      "image/png": "[encoded data removed]",
      "text/plain": [
       "<Figure size 432x288 with 1 Axes>"
      ]
     },
     "metadata": {
      "needs_background": "light"
     },
     "output_type": "display_data"
    },
    {
     "data": {
      "image/png": "[encoded data removed]",
      "text/plain": [
       "<Figure size 432x288 with 1 Axes>"
      ]
     },
     "metadata": {
      "needs_background": "light"
     },
     "output_type": "display_data"
    },
    {
     "data": {
      "image/png": "[encoded data removed]",
      "text/plain": [
       "<Figure size 432x288 with 1 Axes>"
      ]
     },
     "metadata": {
      "needs_background": "light"
     },
     "output_type": "display_data"
    }
   ],
   "source": [
    "sanityChecks.discProbVsError(train_data,disc,device)\n",
    "sanityChecks.discProbVsError(test_data,disc,device)"
   ]
  },
  {
   "cell_type": "markdown",
   "id": "130f3a4d",
   "metadata": {
    "id": "130f3a4d",
    "papermill": {
     "duration": 0.035586,
     "end_time": "2022-03-08T20:08:44.774697",
     "exception": false,
     "start_time": "2022-03-08T20:08:44.739111",
     "status": "completed"
    },
    "tags": []
   },
   "source": [
    "# ABC - GAN Model with skip connection"
   ]
  },
  {
   "cell_type": "code",
   "execution_count": 15,
   "id": "4e43dad1",
   "metadata": {
    "execution": {
     "iopub.execute_input": "2022-03-08T20:08:44.806561Z",
     "iopub.status.busy": "2022-03-08T20:08:44.806186Z",
     "iopub.status.idle": "2022-03-08T20:08:44.808634Z",
     "shell.execute_reply": "2022-03-08T20:08:44.808864Z"
    },
    "id": "4e43dad1",
    "papermill": {
     "duration": 0.019867,
     "end_time": "2022-03-08T20:08:44.808975",
     "exception": false,
     "start_time": "2022-03-08T20:08:44.789108",
     "status": "completed"
    },
    "tags": []
   },
   "outputs": [],
   "source": [
    "#Generator\n",
    "gen3 = network.GeneratorWithSkipConnection(n_features+1).to(device)\n",
    "constraints=network.weightConstraint()\n",
    "#Discriminator \n",
    "disc3 = network.Discriminator(n_features+1).to(device)\n",
    "\n",
    "criterion = torch.nn.BCELoss()\n",
    "gen_opt = torch.optim.Adam(gen3.parameters(), lr=0.001, betas=(0.5, 0.999))\n",
    "disc_opt = torch.optim.Adam(disc3.parameters(), lr=0.001, betas=(0.5, 0.999))\n"
   ]
  },
  {
   "cell_type": "code",
   "execution_count": 16,
   "id": "26acbc37",
   "metadata": {
    "execution": {
     "iopub.execute_input": "2022-03-08T20:08:44.840039Z",
     "iopub.status.busy": "2022-03-08T20:08:44.839661Z",
     "iopub.status.idle": "2022-03-08T20:09:20.344299Z",
     "shell.execute_reply": "2022-03-08T20:09:20.344624Z"
    },
    "id": "26acbc37",
    "papermill": {
     "duration": 35.521271,
     "end_time": "2022-03-08T20:09:20.344748",
     "exception": false,
     "start_time": "2022-03-08T20:08:44.823477",
     "status": "completed"
    },
    "tags": []
   },
   "outputs": [
    {
     "data": {
      "image/png": "[encoded data removed]",
      "text/plain": [
       "<Figure size 432x288 with 1 Axes>"
      ]
     },
     "metadata": {
      "needs_background": "light"
     },
     "output_type": "display_data"
    },
    {
     "data": {
      "image/png": "[encoded data removed]",
      "text/plain": [
       "<Figure size 432x288 with 1 Axes>"
      ]
     },
     "metadata": {
      "needs_background": "light"
     },
     "output_type": "display_data"
    }
   ],
   "source": [
    "ABC_train_test2.training_GAN_skip_connection(disc3,gen3,disc_opt,gen_opt,train_data,batch_size,n_epochs,criterion,prior_model,variance,bias,device)"
   ]
  },
  {
   "cell_type": "code",
   "execution_count": 17,
   "id": "c5e0717b",
   "metadata": {
    "execution": {
     "iopub.execute_input": "2022-03-08T20:09:20.377784Z",
     "iopub.status.busy": "2022-03-08T20:09:20.377407Z",
     "iopub.status.idle": "2022-03-08T20:09:20.648160Z",
     "shell.execute_reply": "2022-03-08T20:09:20.648454Z"
    },
    "id": "c5e0717b",
    "papermill": {
     "duration": 0.288473,
     "end_time": "2022-03-08T20:09:20.648575",
     "exception": false,
     "start_time": "2022-03-08T20:09:20.360102",
     "status": "completed"
    },
    "tags": []
   },
   "outputs": [
    {
     "data": {
      "application/scrapbook.scrap.json+json": {
       "data": 0.09544995034780707,
       "encoder": "json",
       "name": "ABC-GAN Model 3 MSE",
       "version": 1
      }
     },
     "metadata": {
      "scrapbook": {
       "data": true,
       "display": false,
       "name": "ABC-GAN Model 3 MSE"
      }
     },
     "output_type": "display_data"
    },
    {
     "data": {
      "application/scrapbook.scrap.json+json": {
       "data": 0.26445628409087657,
       "encoder": "json",
       "name": "ABC-GAN Model 3 MAE",
       "version": 1
      }
     },
     "metadata": {
      "scrapbook": {
       "data": true,
       "display": false,
       "name": "ABC-GAN Model 3 MAE"
      }
     },
     "output_type": "display_data"
    },
    {
     "data": {
      "application/scrapbook.scrap.json+json": {
       "data": 5.289125681817532,
       "encoder": "json",
       "name": "ABC-GAN Model 3 Manhattan Distance",
       "version": 1
      }
     },
     "metadata": {
      "scrapbook": {
       "data": true,
       "display": false,
       "name": "ABC-GAN Model 3 Manhattan Distance"
      }
     },
     "output_type": "display_data"
    },
    {
     "data": {
      "application/scrapbook.scrap.json+json": {
       "data": 1.3816346461708295,
       "encoder": "json",
       "name": "ABC-GAN Model 3 Euclidean distance",
       "version": 1
      }
     },
     "metadata": {
      "scrapbook": {
       "data": true,
       "display": false,
       "name": "ABC-GAN Model 3 Euclidean distance"
      }
     },
     "output_type": "display_data"
    },
    {
     "data": {
      "application/scrapbook.scrap.json+json": {
       "data": [
        [
         0.09466038273568231,
         0.09457943820780187,
         0.09556661326778948,
         0.09545830732237737,
         0.09579551513344264,
         0.0963581250615276,
         0.09526343856280613,
         0.09786734069654188,
         0.09420934903008508,
         0.09586492707859269,
         0.09827819194728052,
         0.09636474080018922,
         0.09836955228779272,
         0.09569343296745055,
         0.09759913968231015,
         0.09418585685621576,
         0.0938219500406174,
         0.09499934419401072,
         0.09536483063154386,
         0.09547667379908079,
         0.09558153820030069,
         0.09586880882678632,
         0.09622015383820952,
         0.09559895303070012,
         0.09733089001141981,
         0.09582430397202768,
         0.09670212980455184,
         0.09381713205761284,
         0.09513881596566383,
         0.09442413865188456,
         0.09535529152114024,
         0.09596324631793203,
         0.0977957363234863,
         0.09877616242953598,
         0.09558891572146214,
         0.09664424769885885,
         0.09649196325127077,
         0.09462216421065048,
         0.09633811706033649,
         0.09650095890172428,
         0.09394549784863622,
         0.09520573023808318,
         0.09456160112341458,
         0.09487515161792985,
         0.09358704170965156,
         0.09356673353696121,
         0.09642660031906361,
         0.0948960240844301,
         0.0953205165565619,
         0.09557525732633435,
         0.09538235103002254,
         0.09660613737532793,
         0.09428830824015973,
         0.09496947234048662,
         0.09321965930102612,
         0.09634624991533162,
         0.09594337603146355,
         0.09541047562711005,
         0.09623887704229532,
         0.09456254877134022,
         0.09573116482239788,
         0.09778580477975987,
         0.09496572629697479,
         0.09637664377378816,
         0.0971345818997563,
         0.09622144335208901,
         0.09522458954691797,
         0.09508552660467981,
         0.09426563017224483,
         0.09637546568032254,
         0.09298507655792591,
         0.09673195276818895,
         0.09442797474261391,
         0.09426933099377366,
         0.09497871170910135,
         0.09653481930168781,
         0.09554928226040382,
         0.09499155801599586,
         0.09315890818564018,
         0.09284651085417477,
         0.09407904577285398,
         0.09553894673651411,
         0.09387108123052923,
         0.09421452388626048,
         0.09579930700055113,
         0.09522068849348178,
         0.09571307845290229,
         0.09863148060551415,
         0.09493338523018395,
         0.0954862788742045,
         0.0954634656281343,
         0.09525298402560431,
         0.09577627329684746,
         0.09398916076908859,
         0.09583235907171575,
         0.09202345491832813,
         0.09501331786285908,
         0.09351588614481235,
         0.09548430197402333,
         0.09622688435353592
        ],
        [
         0.26363411992788316,
         0.2623699471354485,
         0.26441147178411484,
         0.2619123712182045,
         0.2621526256203651,
         0.26620037108659744,
         0.26333128064870837,
         0.2682337000966072,
         0.2636693611741066,
         0.26482418924570084,
         0.2682111904025078,
         0.266496904194355,
         0.27030003517866136,
         0.2641692265868187,
         0.2658163979649544,
         0.2624656453728676,
         0.26036004573106764,
         0.26527487188577653,
         0.26427236050367353,
         0.2633494779467583,
         0.26505485326051714,
         0.26438133269548414,
         0.2661427214741707,
         0.2647974774241447,
         0.2680142745375633,
         0.2646255686879158,
         0.2665568694472313,
         0.2628531113266945,
         0.2641786769032478,
         0.26279381662607193,
         0.26559816747903825,
         0.265068019926548,
         0.2668176367878914,
         0.268663389980793,
         0.26450626701116564,
         0.26699976474046705,
         0.26664151102304456,
         0.2628240898251534,
         0.267422915995121,
         0.2648432537913322,
         0.2621923103928566,
         0.26405694633722304,
         0.2630553498864174,
         0.2637432888150215,
         0.25875071436166763,
         0.2621368333697319,
         0.2663303479552269,
         0.264505560696125,
         0.26518564671278,
         0.26327614635229113,
         0.2655034944415092,
         0.2663415238261223,
         0.2621394023299217,
         0.2627930000424385,
         0.26199736148118974,
         0.26824492067098615,
         0.2643510982394218,
         0.2647178635001183,
         0.2682694599032402,
         0.2636140540242195,
         0.2656201675534248,
         0.26726300865411756,
         0.26520840972661974,
         0.26677872985601425,
         0.26633947938680647,
         0.26681941002607346,
         0.264099545776844,
         0.2646214678883553,
         0.2628195196390152,
         0.26622277349233625,
         0.25883736163377763,
         0.26685147136449816,
         0.2648437663912773,
         0.2627322718501091,
         0.26351169794797896,
         0.26613677889108656,
         0.26422588974237443,
         0.26263424605131147,
         0.2615059599280357,
         0.26069404631853105,
         0.2627272352576256,
         0.2643523529171944,
         0.2622694507241249,
         0.26254730075597765,
         0.2633040264248848,
         0.2636830762028694,
         0.2647551879286766,
         0.26791248470544815,
         0.26286742836236954,
         0.2648204520344734,
         0.26452287584543227,
         0.2652919963002205,
         0.2637936666607857,
         0.2626304939389229,
         0.26617933362722396,
         0.2606816664338112,
         0.26375440806150435,
         0.26120806485414505,
         0.26424347311258317,
         0.26487279683351517
        ],
        [
         5.272682398557663,
         5.247398942708969,
         5.288229435682297,
         5.23824742436409,
         5.243052512407303,
         5.324007421731949,
         5.266625612974167,
         5.364674001932144,
         5.273387223482132,
         5.296483784914017,
         5.364223808050156,
         5.3299380838871,
         5.406000703573227,
         5.283384531736374,
         5.3163279592990875,
         5.249312907457352,
         5.207200914621353,
         5.30549743771553,
         5.285447210073471,
         5.266989558935165,
         5.301097065210342,
         5.287626653909683,
         5.322854429483414,
         5.295949548482895,
         5.3602854907512665,
         5.292511373758316,
         5.331137388944626,
         5.25706222653389,
         5.283573538064957,
         5.255876332521439,
         5.311963349580765,
         5.30136039853096,
         5.336352735757828,
         5.37326779961586,
         5.290125340223312,
         5.339995294809341,
         5.332830220460892,
         5.256481796503067,
         5.34845831990242,
         5.296865075826645,
         5.243846207857132,
         5.281138926744461,
         5.261106997728348,
         5.27486577630043,
         5.175014287233353,
         5.242736667394638,
         5.326606959104538,
         5.290111213922501,
         5.3037129342556,
         5.265522927045822,
         5.310069888830185,
         5.326830476522446,
         5.2427880465984344,
         5.25586000084877,
         5.2399472296237946,
         5.3648984134197235,
         5.287021964788437,
         5.294357270002365,
         5.365389198064804,
         5.27228108048439,
         5.312403351068497,
         5.345260173082352,
         5.304168194532394,
         5.335574597120285,
         5.32678958773613,
         5.336388200521469,
         5.2819909155368805,
         5.292429357767105,
         5.256390392780304,
         5.3244554698467255,
         5.176747232675552,
         5.337029427289963,
         5.296875327825546,
         5.254645437002182,
         5.2702339589595795,
         5.322735577821732,
         5.284517794847488,
         5.25268492102623,
         5.230119198560715,
         5.213880926370621,
         5.254544705152512,
         5.287047058343887,
         5.245389014482498,
         5.250946015119553,
         5.266080528497696,
         5.273661524057388,
         5.295103758573532,
         5.358249694108963,
         5.257348567247391,
         5.296409040689468,
         5.290457516908646,
         5.30583992600441,
         5.2758733332157135,
         5.252609878778458,
         5.323586672544479,
         5.213633328676224,
         5.275088161230087,
         5.224161297082901,
         5.284869462251663,
         5.297455936670303
        ],
        [
         1.3759388266611443,
         1.3753504150419404,
         1.3825094087765875,
         1.3817257855477503,
         1.3841641169560974,
         1.3882227851575382,
         1.3803147363033268,
         1.399052112657294,
         1.37265690564019,
         1.3846654980795374,
         1.4019856771542318,
         1.3882704405135853,
         1.4026371753792406,
         1.3834264199259065,
         1.3971337780063164,
         1.3724857511552953,
         1.3698317417888768,
         1.3784001174841123,
         1.3810490985590909,
         1.3818587033346121,
         1.3826173599394787,
         1.3846935316291928,
         1.3872285596700316,
         1.3827433097339514,
         1.3952124570216524,
         1.3843720885081994,
         1.3906986000176447,
         1.3697965692584635,
         1.3794115844494261,
         1.37422078758753,
         1.3809800253525772,
         1.3853753738097991,
         1.3985402126752473,
         1.4055330834209203,
         1.3826707180052822,
         1.3902823288732318,
         1.3891865479572625,
         1.3756610353619128,
         1.3880786509440772,
         1.3892513012534793,
         1.3707333646529234,
         1.37989659205379,
         1.3752207177279914,
         1.3774988320715909,
         1.368115797070201,
         1.3679673500267557,
         1.388715955975617,
         1.3776503481248796,
         1.3807281887218925,
         1.3825719317730585,
         1.3811759556987846,
         1.390008182532232,
         1.3732320141925014,
         1.3781833864946031,
         1.3654278399170432,
         1.3881372404436936,
         1.3852319374852975,
         1.381379568598798,
         1.3873635215205518,
         1.3752276085895034,
         1.3836991350896906,
         1.3984691972278822,
         1.3781562052029863,
         1.388356177454389,
         1.3938047345288815,
         1.387237855251139,
         1.3800332571856229,
         1.3790252108259646,
         1.3730668605151377,
         1.388347691900862,
         1.3637087413221778,
         1.390913029403269,
         1.3742487019649239,
         1.3730938132099617,
         1.3782504250614354,
         1.3894950111582827,
         1.382384044036995,
         1.3783436292593794,
         1.364982843743028,
         1.3626922679326743,
         1.3717072994837782,
         1.3823092760776374,
         1.370190360720212,
         1.3726946046827786,
         1.3841915113202445,
         1.3800049890741828,
         1.3835684186400201,
         1.4045033328939747,
         1.3779215161262557,
         1.3819282099603039,
         1.381763117383977,
         1.3802389939833197,
         1.3840250958479579,
         1.3710518645849148,
         1.3844302732295024,
         1.3566388975576966,
         1.3785014897551549,
         1.3675955991799063,
         1.381913904510866,
         1.3872770765318363
        ]
       ],
       "encoder": "json",
       "name": "ABC_GAN_3 Metrics",
       "version": 1
      }
     },
     "metadata": {
      "scrapbook": {
       "data": true,
       "display": false,
       "name": "ABC_GAN_3 Metrics"
      }
     },
     "output_type": "display_data"
    },
    {
     "name": "stdout",
     "output_type": "stream",
     "text": [
      "MSE\n",
      "0.09544995034780707\n"
     ]
    }
   ],
   "source": [
    "ABC_GAN3_metrics=ABC_train_test2.test_generator(gen3,test_data,prior_model,variance,bias,\"3\",device)\n",
    "sb.glue(\"ABC_GAN_3 Metrics\",ABC_GAN3_metrics)\n",
    "\n",
    "print(\"MSE\")\n",
    "print(mean(ABC_GAN3_metrics[0]))"
   ]
  },
  {
   "cell_type": "code",
   "execution_count": 18,
   "id": "c8e46b48",
   "metadata": {
    "execution": {
     "iopub.execute_input": "2022-03-08T20:09:20.684358Z",
     "iopub.status.busy": "2022-03-08T20:09:20.683996Z",
     "iopub.status.idle": "2022-03-08T20:09:20.976626Z",
     "shell.execute_reply": "2022-03-08T20:09:20.976934Z"
    },
    "id": "c8e46b48",
    "papermill": {
     "duration": 0.311557,
     "end_time": "2022-03-08T20:09:20.977070",
     "exception": false,
     "start_time": "2022-03-08T20:09:20.665513",
     "status": "completed"
    },
    "tags": []
   },
   "outputs": [
    {
     "data": {
      "image/png": "[encoded data removed]",
      "text/plain": [
       "<Figure size 432x288 with 1 Axes>"
      ]
     },
     "metadata": {
      "needs_background": "light"
     },
     "output_type": "display_data"
    },
    {
     "data": {
      "image/png": "[encoded data removed]",
      "text/plain": [
       "<Figure size 432x288 with 1 Axes>"
      ]
     },
     "metadata": {
      "needs_background": "light"
     },
     "output_type": "display_data"
    },
    {
     "data": {
      "image/png": "[encoded data removed]",
      "text/plain": [
       "<Figure size 432x288 with 1 Axes>"
      ]
     },
     "metadata": {
      "needs_background": "light"
     },
     "output_type": "display_data"
    },
    {
     "data": {
      "image/png": "[encoded data removed]",
      "text/plain": [
       "<Figure size 432x288 with 1 Axes>"
      ]
     },
     "metadata": {
      "needs_background": "light"
     },
     "output_type": "display_data"
    }
   ],
   "source": [
    "sanityChecks.discProbVsError(train_data,disc3,device)\n",
    "sanityChecks.discProbVsError(test_data,disc3,device)"
   ]
  },
  {
   "cell_type": "markdown",
   "id": "a5bd74c3",
   "metadata": {
    "id": "a5bd74c3",
    "papermill": {
     "duration": 0.018925,
     "end_time": "2022-03-08T20:09:21.015353",
     "exception": false,
     "start_time": "2022-03-08T20:09:20.996428",
     "status": "completed"
    },
    "tags": []
   },
   "source": [
    "## Skip Connection Model Analysis - ABC-GAN "
   ]
  },
  {
   "cell_type": "markdown",
   "id": "5744a8bf",
   "metadata": {
    "id": "5744a8bf",
    "papermill": {
     "duration": 0.01861,
     "end_time": "2022-03-08T20:09:21.052685",
     "exception": false,
     "start_time": "2022-03-08T20:09:21.034075",
     "status": "completed"
    },
    "tags": []
   },
   "source": [
    "### Weight Analysis \n",
    "\n",
    "Study the weights of the skip connection layer\n",
    "\n",
    "Equation of the skip connection is \n",
    "\n",
    "$output = y_{gan} * w + y_{abc} * (1-w)$"
   ]
  },
  {
   "cell_type": "code",
   "execution_count": 19,
   "id": "52c31dea",
   "metadata": {
    "execution": {
     "iopub.execute_input": "2022-03-08T20:09:21.092854Z",
     "iopub.status.busy": "2022-03-08T20:09:21.092480Z",
     "iopub.status.idle": "2022-03-08T20:09:21.096084Z",
     "shell.execute_reply": "2022-03-08T20:09:21.096336Z"
    },
    "id": "52c31dea",
    "papermill": {
     "duration": 0.025074,
     "end_time": "2022-03-08T20:09:21.096445",
     "exception": false,
     "start_time": "2022-03-08T20:09:21.071371",
     "status": "completed"
    },
    "tags": []
   },
   "outputs": [
    {
     "name": "stdout",
     "output_type": "stream",
     "text": [
      "Weight of the node at skip connection\n",
      "Parameter containing:\n",
      "tensor([[0.1241]], requires_grad=True)\n"
     ]
    },
    {
     "data": {
      "application/scrapbook.scrap.json+json": {
       "data": 0.12406151741743088,
       "encoder": "json",
       "name": "Skip Connection Weight",
       "version": 1
      }
     },
     "metadata": {
      "scrapbook": {
       "data": true,
       "display": false,
       "name": "Skip Connection Weight"
      }
     },
     "output_type": "display_data"
    }
   ],
   "source": [
    "print(\"Weight of the node at skip connection\")\n",
    "for name,param in gen3.named_parameters():\n",
    "    if(name == \"skipNode.weight\"):\n",
    "        print(param)\n",
    "        sb.glue(\"Skip Connection Weight\",param.item())"
   ]
  }
 ],
 "metadata": {
  "colab": {
   "collapsed_sections": [],
   "name": "ABC_GAN_Model-Catboost_Pre-gen.ipynb",
   "provenance": []
  },
  "interpreter": {
   "hash": "31f2aee4e71d21fbe5cf8b01ff0e069b9275f58929596ceb00d14d90e3e16cd6"
  },
  "kernelspec": {
   "display_name": "Python 3 (ipykernel)",
   "language": "python",
   "name": "python3"
  },
  "language_info": {
   "codemirror_mode": {
    "name": "ipython",
    "version": 3
   },
   "file_extension": ".py",
   "mimetype": "text/x-python",
   "name": "python",
   "nbconvert_exporter": "python",
   "pygments_lexer": "ipython3",
   "version": "3.8.11"
  },
  "papermill": {
   "default_parameters": {},
   "duration": 54.083413,
   "end_time": "2022-03-08T20:09:21.426060",
   "environment_variables": {},
   "exception": null,
   "input_path": "ABC_GAN-Catboost.ipynb",
   "output_path": "./ABC_GAN_Catboost/ABC-GAN_output_4_2.ipynb",
   "parameters": {
    "bias": 1,
    "variance": 0.01
   },
   "start_time": "2022-03-08T20:08:27.342647",
   "version": "2.3.3"
  }
 },
 "nbformat": 4,
 "nbformat_minor": 5
}