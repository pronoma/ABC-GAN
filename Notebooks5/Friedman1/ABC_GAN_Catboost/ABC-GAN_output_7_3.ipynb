{
 "cells": [
  {
   "cell_type": "markdown",
   "id": "622780e6",
   "metadata": {
    "id": "622780e6",
    "papermill": {
     "duration": 0.025229,
     "end_time": "2022-03-08T20:34:17.354116",
     "exception": false,
     "start_time": "2022-03-08T20:34:17.328887",
     "status": "completed"
    },
    "tags": []
   },
   "source": [
    "## Import Libraries "
   ]
  },
  {
   "cell_type": "code",
   "execution_count": 1,
   "id": "a62397e3",
   "metadata": {
    "execution": {
     "iopub.execute_input": "2022-03-08T20:34:17.388994Z",
     "iopub.status.busy": "2022-03-08T20:34:17.388398Z",
     "iopub.status.idle": "2022-03-08T20:34:17.390786Z",
     "shell.execute_reply": "2022-03-08T20:34:17.391114Z"
    },
    "id": "a62397e3",
    "papermill": {
     "duration": 0.021848,
     "end_time": "2022-03-08T20:34:17.391319",
     "exception": false,
     "start_time": "2022-03-08T20:34:17.369471",
     "status": "completed"
    },
    "tags": []
   },
   "outputs": [],
   "source": [
    "import warnings\n",
    "import sys\n",
    "sys.path.insert(0, '../../src')\n",
    "warnings.filterwarnings('ignore')"
   ]
  },
  {
   "cell_type": "code",
   "execution_count": 2,
   "id": "d6a4e155",
   "metadata": {
    "execution": {
     "iopub.execute_input": "2022-03-08T20:34:17.412354Z",
     "iopub.status.busy": "2022-03-08T20:34:17.411923Z",
     "iopub.status.idle": "2022-03-08T20:34:18.948683Z",
     "shell.execute_reply": "2022-03-08T20:34:18.948910Z"
    },
    "id": "d6a4e155",
    "papermill": {
     "duration": 1.547945,
     "end_time": "2022-03-08T20:34:18.949037",
     "exception": false,
     "start_time": "2022-03-08T20:34:17.401092",
     "status": "completed"
    },
    "tags": []
   },
   "outputs": [],
   "source": [
    "import ABC_train_test2\n",
    "import friedman1Dataset\n",
    "import network\n",
    "import dataset\n",
    "import sanityChecks\n",
    "import torch \n",
    "import scrapbook as sb\n",
    "from statistics import mean \n",
    "import catboost as ctb \n",
    "from sklearn.model_selection import train_test_split\n",
    "from sklearn.metrics import mean_squared_error,mean_absolute_error\n",
    "import numpy as np"
   ]
  },
  {
   "cell_type": "markdown",
   "id": "2fa5b0f7",
   "metadata": {
    "id": "2fa5b0f7",
    "papermill": {
     "duration": 0.006728,
     "end_time": "2022-03-08T20:34:18.962904",
     "exception": false,
     "start_time": "2022-03-08T20:34:18.956176",
     "status": "completed"
    },
    "tags": []
   },
   "source": [
    "## Parameters "
   ]
  },
  {
   "cell_type": "code",
   "execution_count": 3,
   "id": "783186fb",
   "metadata": {
    "execution": {
     "iopub.execute_input": "2022-03-08T20:34:18.978552Z",
     "iopub.status.busy": "2022-03-08T20:34:18.978178Z",
     "iopub.status.idle": "2022-03-08T20:34:18.979564Z",
     "shell.execute_reply": "2022-03-08T20:34:18.979820Z"
    },
    "id": "783186fb",
    "papermill": {
     "duration": 0.010307,
     "end_time": "2022-03-08T20:34:18.979933",
     "exception": false,
     "start_time": "2022-03-08T20:34:18.969626",
     "status": "completed"
    },
    "tags": [
     "parameters"
    ]
   },
   "outputs": [],
   "source": [
    "variance = 1\n",
    "bias = 1 "
   ]
  },
  {
   "cell_type": "code",
   "execution_count": 4,
   "id": "6cfd19d3",
   "metadata": {
    "execution": {
     "iopub.execute_input": "2022-03-08T20:34:18.995420Z",
     "iopub.status.busy": "2022-03-08T20:34:18.995066Z",
     "iopub.status.idle": "2022-03-08T20:34:18.996506Z",
     "shell.execute_reply": "2022-03-08T20:34:18.996756Z"
    },
    "papermill": {
     "duration": 0.01001,
     "end_time": "2022-03-08T20:34:18.996863",
     "exception": false,
     "start_time": "2022-03-08T20:34:18.986853",
     "status": "completed"
    },
    "tags": [
     "injected-parameters"
    ]
   },
   "outputs": [],
   "source": [
    "# Parameters\n",
    "variance = 1\n",
    "bias = 0.1\n"
   ]
  },
  {
   "cell_type": "markdown",
   "id": "391cdbfd",
   "metadata": {
    "id": "391cdbfd",
    "papermill": {
     "duration": 0.006729,
     "end_time": "2022-03-08T20:34:19.010506",
     "exception": false,
     "start_time": "2022-03-08T20:34:19.003777",
     "status": "completed"
    },
    "tags": []
   },
   "source": [
    "## Dataset \n"
   ]
  },
  {
   "cell_type": "code",
   "execution_count": 5,
   "id": "5b51f161",
   "metadata": {
    "execution": {
     "iopub.execute_input": "2022-03-08T20:34:19.026000Z",
     "iopub.status.busy": "2022-03-08T20:34:19.025649Z",
     "iopub.status.idle": "2022-03-08T20:34:19.027019Z",
     "shell.execute_reply": "2022-03-08T20:34:19.027261Z"
    },
    "id": "5b51f161",
    "papermill": {
     "duration": 0.01003,
     "end_time": "2022-03-08T20:34:19.027368",
     "exception": false,
     "start_time": "2022-03-08T20:34:19.017338",
     "status": "completed"
    },
    "tags": []
   },
   "outputs": [],
   "source": [
    "#Parameters \n",
    "n_features = 5\n",
    "n_samples= 100\n",
    "n_target = 1 "
   ]
  },
  {
   "cell_type": "code",
   "execution_count": 6,
   "id": "5d6eced4",
   "metadata": {
    "execution": {
     "iopub.execute_input": "2022-03-08T20:34:19.044155Z",
     "iopub.status.busy": "2022-03-08T20:34:19.042828Z",
     "iopub.status.idle": "2022-03-08T20:34:19.048949Z",
     "shell.execute_reply": "2022-03-08T20:34:19.049189Z"
    },
    "id": "5d6eced4",
    "papermill": {
     "duration": 0.014991,
     "end_time": "2022-03-08T20:34:19.049298",
     "exception": false,
     "start_time": "2022-03-08T20:34:19.034307",
     "status": "completed"
    },
    "tags": []
   },
   "outputs": [
    {
     "name": "stdout",
     "output_type": "stream",
     "text": [
      "         X0        X1        X2        X3        X4         Y\n",
      "0  1.541910 -0.065229  1.339383 -1.138003 -0.765063  0.494506\n",
      "1 -0.088768  0.092892 -0.919091  1.110952  0.635892  1.185502\n",
      "2 -0.214317  0.277371 -1.132342  1.673190  1.407628  1.984642\n",
      "3  1.022149  1.023937 -0.487850 -0.184630 -1.502709  0.073312\n",
      "4  0.826371  0.936793  0.439629  1.206423  0.741014  1.970642\n"
     ]
    }
   ],
   "source": [
    "X,Y = friedman1Dataset.friedman1_data(n_samples,n_features)"
   ]
  },
  {
   "cell_type": "code",
   "execution_count": 7,
   "id": "fe007438",
   "metadata": {
    "execution": {
     "iopub.execute_input": "2022-03-08T20:34:19.066311Z",
     "iopub.status.busy": "2022-03-08T20:34:19.065927Z",
     "iopub.status.idle": "2022-03-08T20:34:19.067447Z",
     "shell.execute_reply": "2022-03-08T20:34:19.067746Z"
    },
    "id": "fe007438",
    "papermill": {
     "duration": 0.011209,
     "end_time": "2022-03-08T20:34:19.067853",
     "exception": false,
     "start_time": "2022-03-08T20:34:19.056644",
     "status": "completed"
    },
    "tags": []
   },
   "outputs": [],
   "source": [
    "#Train test split for dataset \n",
    "X_train,X_test,Y_train,Y_test = train_test_split(X,Y,test_size = 0.2)\n",
    "train_data = dataset.CustomDataset(X_train,Y_train)\n",
    "test_data = dataset.CustomDataset(X_test,Y_test)\n"
   ]
  },
  {
   "cell_type": "markdown",
   "id": "a9a1af34",
   "metadata": {
    "id": "a9a1af34",
    "papermill": {
     "duration": 0.007036,
     "end_time": "2022-03-08T20:34:19.082015",
     "exception": false,
     "start_time": "2022-03-08T20:34:19.074979",
     "status": "completed"
    },
    "tags": []
   },
   "source": [
    "## Training Parameters "
   ]
  },
  {
   "cell_type": "code",
   "execution_count": 8,
   "id": "952b7fc8",
   "metadata": {
    "execution": {
     "iopub.execute_input": "2022-03-08T20:34:19.098341Z",
     "iopub.status.busy": "2022-03-08T20:34:19.097979Z",
     "iopub.status.idle": "2022-03-08T20:34:19.099345Z",
     "shell.execute_reply": "2022-03-08T20:34:19.099590Z"
    },
    "id": "952b7fc8",
    "papermill": {
     "duration": 0.010665,
     "end_time": "2022-03-08T20:34:19.099697",
     "exception": false,
     "start_time": "2022-03-08T20:34:19.089032",
     "status": "completed"
    },
    "tags": []
   },
   "outputs": [],
   "source": [
    "batch_size = 32\n",
    "n_epochs = 1000\n",
    "#Select the device \n",
    "device = torch.device('cuda' if torch.cuda.is_available() else 'cpu')"
   ]
  },
  {
   "cell_type": "markdown",
   "id": "a95e1600",
   "metadata": {
    "id": "a95e1600",
    "papermill": {
     "duration": 0.007098,
     "end_time": "2022-03-08T20:34:19.113986",
     "exception": false,
     "start_time": "2022-03-08T20:34:19.106888",
     "status": "completed"
    },
    "tags": []
   },
   "source": [
    "# ABC Pre-generator Model \n",
    "\n",
    "1. The catboost model is used as a pre-generator model for the ABC-GAN. \n",
    "2. The model is first trained on the entire dataset \n",
    "3. It generats X,Y pairs and we add some Gaussian noise with mean 0 and variance 1 to it which is then feed as input to the generator.\n"
   ]
  },
  {
   "cell_type": "code",
   "execution_count": 9,
   "id": "ff8ce7bd",
   "metadata": {
    "execution": {
     "iopub.execute_input": "2022-03-08T20:34:19.131758Z",
     "iopub.status.busy": "2022-03-08T20:34:19.131374Z",
     "iopub.status.idle": "2022-03-08T20:34:19.756439Z",
     "shell.execute_reply": "2022-03-08T20:34:19.756682Z"
    },
    "id": "ff8ce7bd",
    "papermill": {
     "duration": 0.635686,
     "end_time": "2022-03-08T20:34:19.756806",
     "exception": false,
     "start_time": "2022-03-08T20:34:19.121120",
     "status": "completed"
    },
    "tags": []
   },
   "outputs": [
    {
     "name": "stdout",
     "output_type": "stream",
     "text": [
      "Learning rate set to 0.024897\n",
      "0:\tlearn: 0.9985612\ttotal: 67.6ms\tremaining: 1m 7s\n",
      "1:\tlearn: 0.9887937\ttotal: 68.3ms\tremaining: 34.1s\n",
      "2:\tlearn: 0.9798015\ttotal: 69ms\tremaining: 22.9s\n",
      "3:\tlearn: 0.9715654\ttotal: 69.6ms\tremaining: 17.3s\n",
      "4:\tlearn: 0.9628654\ttotal: 70.2ms\tremaining: 14s\n",
      "5:\tlearn: 0.9546084\ttotal: 70.8ms\tremaining: 11.7s\n",
      "6:\tlearn: 0.9460626\ttotal: 71.4ms\tremaining: 10.1s\n",
      "7:\tlearn: 0.9361387\ttotal: 72ms\tremaining: 8.92s\n",
      "8:\tlearn: 0.9277396\ttotal: 72.5ms\tremaining: 7.99s\n",
      "9:\tlearn: 0.9198537\ttotal: 73.1ms\tremaining: 7.24s\n",
      "10:\tlearn: 0.9120591\ttotal: 73.7ms\tremaining: 6.62s\n",
      "11:\tlearn: 0.9034396\ttotal: 74.2ms\tremaining: 6.11s\n",
      "12:\tlearn: 0.8945124\ttotal: 74.7ms\tremaining: 5.67s\n",
      "13:\tlearn: 0.8870761\ttotal: 75.3ms\tremaining: 5.3s\n",
      "14:\tlearn: 0.8813250\ttotal: 75.8ms\tremaining: 4.98s\n",
      "15:\tlearn: 0.8744639\ttotal: 76.3ms\tremaining: 4.69s\n",
      "16:\tlearn: 0.8681684\ttotal: 76.7ms\tremaining: 4.43s\n",
      "17:\tlearn: 0.8599244\ttotal: 77.2ms\tremaining: 4.21s\n",
      "18:\tlearn: 0.8529712\ttotal: 77.7ms\tremaining: 4.01s\n",
      "19:\tlearn: 0.8457966\ttotal: 78.1ms\tremaining: 3.83s\n",
      "20:\tlearn: 0.8381863\ttotal: 78.6ms\tremaining: 3.66s\n",
      "21:\tlearn: 0.8308558\ttotal: 79.1ms\tremaining: 3.51s\n",
      "22:\tlearn: 0.8249208\ttotal: 79.6ms\tremaining: 3.38s\n",
      "23:\tlearn: 0.8177404\ttotal: 80.1ms\tremaining: 3.26s\n",
      "24:\tlearn: 0.8100072\ttotal: 80.6ms\tremaining: 3.14s\n",
      "25:\tlearn: 0.8017552\ttotal: 81ms\tremaining: 3.04s\n",
      "26:\tlearn: 0.7966194\ttotal: 81.4ms\tremaining: 2.93s\n",
      "27:\tlearn: 0.7897006\ttotal: 81.9ms\tremaining: 2.84s\n",
      "28:\tlearn: 0.7826263\ttotal: 82.3ms\tremaining: 2.75s\n",
      "29:\tlearn: 0.7764749\ttotal: 82.7ms\tremaining: 2.67s\n",
      "30:\tlearn: 0.7697569\ttotal: 83.2ms\tremaining: 2.6s\n",
      "31:\tlearn: 0.7629765\ttotal: 83.7ms\tremaining: 2.53s\n",
      "32:\tlearn: 0.7575960\ttotal: 84.3ms\tremaining: 2.47s\n",
      "33:\tlearn: 0.7523745\ttotal: 84.7ms\tremaining: 2.41s\n",
      "34:\tlearn: 0.7466887\ttotal: 85.2ms\tremaining: 2.35s\n",
      "35:\tlearn: 0.7419679\ttotal: 85.7ms\tremaining: 2.29s\n",
      "36:\tlearn: 0.7357315\ttotal: 86.1ms\tremaining: 2.24s\n",
      "37:\tlearn: 0.7291954\ttotal: 86.6ms\tremaining: 2.19s\n",
      "38:\tlearn: 0.7228998\ttotal: 87.1ms\tremaining: 2.15s\n",
      "39:\tlearn: 0.7174650\ttotal: 87.5ms\tremaining: 2.1s\n",
      "40:\tlearn: 0.7122881\ttotal: 88ms\tremaining: 2.06s\n",
      "41:\tlearn: 0.7070325\ttotal: 88.4ms\tremaining: 2.02s\n",
      "42:\tlearn: 0.7008912\ttotal: 88.8ms\tremaining: 1.98s\n",
      "43:\tlearn: 0.6937908\ttotal: 89.3ms\tremaining: 1.94s\n",
      "44:\tlearn: 0.6878023\ttotal: 89.8ms\tremaining: 1.91s\n",
      "45:\tlearn: 0.6819867\ttotal: 90.3ms\tremaining: 1.87s\n",
      "46:\tlearn: 0.6781762\ttotal: 90.7ms\tremaining: 1.84s\n",
      "47:\tlearn: 0.6719893\ttotal: 91.2ms\tremaining: 1.81s\n",
      "48:\tlearn: 0.6665411\ttotal: 91.6ms\tremaining: 1.78s\n",
      "49:\tlearn: 0.6598898\ttotal: 92.1ms\tremaining: 1.75s\n",
      "50:\tlearn: 0.6547242\ttotal: 92.4ms\tremaining: 1.72s\n",
      "51:\tlearn: 0.6497546\ttotal: 92.9ms\tremaining: 1.69s\n",
      "52:\tlearn: 0.6448222\ttotal: 93.3ms\tremaining: 1.67s\n",
      "53:\tlearn: 0.6397486\ttotal: 93.8ms\tremaining: 1.64s\n",
      "54:\tlearn: 0.6348163\ttotal: 94.2ms\tremaining: 1.62s\n",
      "55:\tlearn: 0.6308119\ttotal: 94.6ms\tremaining: 1.59s\n",
      "56:\tlearn: 0.6260926\ttotal: 95ms\tremaining: 1.57s\n",
      "57:\tlearn: 0.6219987\ttotal: 95.4ms\tremaining: 1.55s\n",
      "58:\tlearn: 0.6172048\ttotal: 95.9ms\tremaining: 1.53s\n",
      "59:\tlearn: 0.6126325\ttotal: 96.3ms\tremaining: 1.51s\n",
      "60:\tlearn: 0.6087464\ttotal: 96.7ms\tremaining: 1.49s\n",
      "61:\tlearn: 0.6046700\ttotal: 97.2ms\tremaining: 1.47s\n",
      "62:\tlearn: 0.6000277\ttotal: 97.6ms\tremaining: 1.45s\n",
      "63:\tlearn: 0.5955829\ttotal: 97.9ms\tremaining: 1.43s\n",
      "64:\tlearn: 0.5906199\ttotal: 98.3ms\tremaining: 1.41s\n",
      "65:\tlearn: 0.5861753\ttotal: 98.6ms\tremaining: 1.4s\n",
      "66:\tlearn: 0.5819636\ttotal: 99.1ms\tremaining: 1.38s\n",
      "67:\tlearn: 0.5779346\ttotal: 99.5ms\tremaining: 1.36s\n",
      "68:\tlearn: 0.5734710\ttotal: 100ms\tremaining: 1.35s\n",
      "69:\tlearn: 0.5685730\ttotal: 100ms\tremaining: 1.33s\n",
      "70:\tlearn: 0.5634084\ttotal: 101ms\tremaining: 1.32s\n",
      "71:\tlearn: 0.5589514\ttotal: 101ms\tremaining: 1.31s\n",
      "72:\tlearn: 0.5547905\ttotal: 102ms\tremaining: 1.3s\n",
      "73:\tlearn: 0.5506999\ttotal: 103ms\tremaining: 1.28s\n",
      "74:\tlearn: 0.5466279\ttotal: 103ms\tremaining: 1.27s\n",
      "75:\tlearn: 0.5432140\ttotal: 103ms\tremaining: 1.26s\n",
      "76:\tlearn: 0.5393461\ttotal: 104ms\tremaining: 1.25s\n",
      "77:\tlearn: 0.5357040\ttotal: 104ms\tremaining: 1.23s\n",
      "78:\tlearn: 0.5325452\ttotal: 105ms\tremaining: 1.22s\n",
      "79:\tlearn: 0.5285359\ttotal: 105ms\tremaining: 1.21s\n",
      "80:\tlearn: 0.5247793\ttotal: 106ms\tremaining: 1.2s\n",
      "81:\tlearn: 0.5210020\ttotal: 107ms\tremaining: 1.19s\n",
      "82:\tlearn: 0.5171432\ttotal: 107ms\tremaining: 1.18s\n",
      "83:\tlearn: 0.5142140\ttotal: 107ms\tremaining: 1.17s\n",
      "84:\tlearn: 0.5102660\ttotal: 108ms\tremaining: 1.16s\n"
     ]
    },
    {
     "name": "stdout",
     "output_type": "stream",
     "text": [
      "85:\tlearn: 0.5077503\ttotal: 109ms\tremaining: 1.16s\n",
      "86:\tlearn: 0.5040869\ttotal: 109ms\tremaining: 1.15s\n",
      "87:\tlearn: 0.5002478\ttotal: 110ms\tremaining: 1.14s\n",
      "88:\tlearn: 0.4963408\ttotal: 110ms\tremaining: 1.13s\n",
      "89:\tlearn: 0.4927656\ttotal: 111ms\tremaining: 1.12s\n",
      "90:\tlearn: 0.4888648\ttotal: 111ms\tremaining: 1.11s\n",
      "91:\tlearn: 0.4849639\ttotal: 112ms\tremaining: 1.1s\n",
      "92:\tlearn: 0.4816043\ttotal: 112ms\tremaining: 1.09s\n",
      "93:\tlearn: 0.4781230\ttotal: 113ms\tremaining: 1.09s\n",
      "94:\tlearn: 0.4747209\ttotal: 113ms\tremaining: 1.08s\n",
      "95:\tlearn: 0.4707345\ttotal: 114ms\tremaining: 1.07s\n",
      "96:\tlearn: 0.4674509\ttotal: 114ms\tremaining: 1.06s\n",
      "97:\tlearn: 0.4635018\ttotal: 115ms\tremaining: 1.06s\n",
      "98:\tlearn: 0.4596376\ttotal: 115ms\tremaining: 1.05s\n",
      "99:\tlearn: 0.4571432\ttotal: 116ms\tremaining: 1.04s\n",
      "100:\tlearn: 0.4538067\ttotal: 116ms\tremaining: 1.03s\n",
      "101:\tlearn: 0.4504318\ttotal: 117ms\tremaining: 1.03s\n",
      "102:\tlearn: 0.4473104\ttotal: 117ms\tremaining: 1.02s\n",
      "103:\tlearn: 0.4441941\ttotal: 118ms\tremaining: 1.01s\n",
      "104:\tlearn: 0.4405837\ttotal: 118ms\tremaining: 1.01s\n",
      "105:\tlearn: 0.4377650\ttotal: 118ms\tremaining: 999ms\n",
      "106:\tlearn: 0.4346282\ttotal: 119ms\tremaining: 993ms\n",
      "107:\tlearn: 0.4317947\ttotal: 119ms\tremaining: 986ms\n",
      "108:\tlearn: 0.4292970\ttotal: 120ms\tremaining: 980ms\n",
      "109:\tlearn: 0.4262194\ttotal: 120ms\tremaining: 973ms\n",
      "110:\tlearn: 0.4233828\ttotal: 121ms\tremaining: 967ms\n",
      "111:\tlearn: 0.4201184\ttotal: 121ms\tremaining: 960ms\n",
      "112:\tlearn: 0.4177739\ttotal: 122ms\tremaining: 954ms\n",
      "113:\tlearn: 0.4149633\ttotal: 122ms\tremaining: 950ms\n",
      "114:\tlearn: 0.4125277\ttotal: 123ms\tremaining: 944ms\n",
      "115:\tlearn: 0.4100433\ttotal: 123ms\tremaining: 939ms\n",
      "116:\tlearn: 0.4072729\ttotal: 124ms\tremaining: 933ms\n",
      "117:\tlearn: 0.4046834\ttotal: 124ms\tremaining: 928ms\n",
      "118:\tlearn: 0.4025278\ttotal: 125ms\tremaining: 922ms\n",
      "119:\tlearn: 0.3997722\ttotal: 125ms\tremaining: 918ms\n",
      "120:\tlearn: 0.3971407\ttotal: 126ms\tremaining: 913ms\n",
      "121:\tlearn: 0.3940431\ttotal: 126ms\tremaining: 908ms\n",
      "122:\tlearn: 0.3918176\ttotal: 127ms\tremaining: 903ms\n",
      "123:\tlearn: 0.3889265\ttotal: 127ms\tremaining: 897ms\n",
      "124:\tlearn: 0.3864914\ttotal: 128ms\tremaining: 893ms\n",
      "125:\tlearn: 0.3835925\ttotal: 128ms\tremaining: 888ms\n",
      "126:\tlearn: 0.3810574\ttotal: 129ms\tremaining: 884ms\n",
      "127:\tlearn: 0.3780608\ttotal: 129ms\tremaining: 879ms\n",
      "128:\tlearn: 0.3761598\ttotal: 130ms\tremaining: 876ms\n",
      "129:\tlearn: 0.3739935\ttotal: 130ms\tremaining: 871ms\n",
      "130:\tlearn: 0.3717917\ttotal: 131ms\tremaining: 866ms\n",
      "131:\tlearn: 0.3694630\ttotal: 131ms\tremaining: 863ms\n",
      "132:\tlearn: 0.3670620\ttotal: 132ms\tremaining: 858ms\n",
      "133:\tlearn: 0.3647477\ttotal: 132ms\tremaining: 854ms\n",
      "134:\tlearn: 0.3626924\ttotal: 133ms\tremaining: 851ms\n",
      "135:\tlearn: 0.3606216\ttotal: 133ms\tremaining: 847ms\n",
      "136:\tlearn: 0.3584433\ttotal: 134ms\tremaining: 843ms\n",
      "137:\tlearn: 0.3565761\ttotal: 134ms\tremaining: 839ms\n",
      "138:\tlearn: 0.3542578\ttotal: 135ms\tremaining: 834ms\n",
      "139:\tlearn: 0.3524145\ttotal: 135ms\tremaining: 831ms\n",
      "140:\tlearn: 0.3503507\ttotal: 136ms\tremaining: 827ms\n",
      "141:\tlearn: 0.3473612\ttotal: 136ms\tremaining: 823ms\n",
      "142:\tlearn: 0.3453488\ttotal: 137ms\tremaining: 820ms\n",
      "143:\tlearn: 0.3432985\ttotal: 137ms\tremaining: 815ms\n",
      "144:\tlearn: 0.3407751\ttotal: 138ms\tremaining: 811ms\n",
      "145:\tlearn: 0.3383651\ttotal: 138ms\tremaining: 808ms\n",
      "146:\tlearn: 0.3367821\ttotal: 138ms\tremaining: 804ms\n",
      "147:\tlearn: 0.3348880\ttotal: 139ms\tremaining: 800ms\n",
      "148:\tlearn: 0.3327611\ttotal: 139ms\tremaining: 796ms\n",
      "149:\tlearn: 0.3305593\ttotal: 140ms\tremaining: 794ms\n",
      "150:\tlearn: 0.3287105\ttotal: 141ms\tremaining: 791ms\n",
      "151:\tlearn: 0.3269738\ttotal: 141ms\tremaining: 787ms\n",
      "152:\tlearn: 0.3250685\ttotal: 141ms\tremaining: 783ms\n",
      "153:\tlearn: 0.3232474\ttotal: 142ms\tremaining: 780ms\n",
      "154:\tlearn: 0.3216249\ttotal: 142ms\tremaining: 776ms\n",
      "155:\tlearn: 0.3197923\ttotal: 143ms\tremaining: 773ms\n",
      "156:\tlearn: 0.3173520\ttotal: 143ms\tremaining: 770ms\n",
      "157:\tlearn: 0.3155597\ttotal: 144ms\tremaining: 766ms\n",
      "158:\tlearn: 0.3137010\ttotal: 144ms\tremaining: 763ms\n",
      "159:\tlearn: 0.3117612\ttotal: 145ms\tremaining: 760ms\n",
      "160:\tlearn: 0.3098782\ttotal: 145ms\tremaining: 757ms\n",
      "161:\tlearn: 0.3082679\ttotal: 146ms\tremaining: 754ms\n",
      "162:\tlearn: 0.3065387\ttotal: 146ms\tremaining: 751ms\n",
      "163:\tlearn: 0.3043821\ttotal: 147ms\tremaining: 748ms\n",
      "164:\tlearn: 0.3026760\ttotal: 147ms\tremaining: 745ms\n",
      "165:\tlearn: 0.3013015\ttotal: 148ms\tremaining: 743ms\n",
      "166:\tlearn: 0.2994035\ttotal: 148ms\tremaining: 740ms\n",
      "167:\tlearn: 0.2976259\ttotal: 149ms\tremaining: 737ms\n",
      "168:\tlearn: 0.2958613\ttotal: 149ms\tremaining: 735ms\n",
      "169:\tlearn: 0.2944236\ttotal: 150ms\tremaining: 733ms\n",
      "170:\tlearn: 0.2928780\ttotal: 151ms\tremaining: 731ms\n",
      "171:\tlearn: 0.2909847\ttotal: 151ms\tremaining: 728ms\n",
      "172:\tlearn: 0.2894620\ttotal: 152ms\tremaining: 724ms\n",
      "173:\tlearn: 0.2877973\ttotal: 152ms\tremaining: 721ms\n",
      "174:\tlearn: 0.2859529\ttotal: 152ms\tremaining: 719ms\n",
      "175:\tlearn: 0.2844150\ttotal: 153ms\tremaining: 717ms\n",
      "176:\tlearn: 0.2826847\ttotal: 154ms\tremaining: 715ms\n",
      "177:\tlearn: 0.2808520\ttotal: 154ms\tremaining: 712ms\n",
      "178:\tlearn: 0.2791231\ttotal: 155ms\tremaining: 710ms\n",
      "179:\tlearn: 0.2773555\ttotal: 155ms\tremaining: 707ms\n",
      "180:\tlearn: 0.2759545\ttotal: 156ms\tremaining: 705ms\n",
      "181:\tlearn: 0.2743976\ttotal: 156ms\tremaining: 703ms\n",
      "182:\tlearn: 0.2728090\ttotal: 157ms\tremaining: 700ms\n",
      "183:\tlearn: 0.2710848\ttotal: 157ms\tremaining: 698ms\n",
      "184:\tlearn: 0.2696527\ttotal: 158ms\tremaining: 696ms\n",
      "185:\tlearn: 0.2682292\ttotal: 158ms\tremaining: 693ms\n",
      "186:\tlearn: 0.2667914\ttotal: 159ms\tremaining: 690ms\n",
      "187:\tlearn: 0.2649240\ttotal: 159ms\tremaining: 688ms\n",
      "188:\tlearn: 0.2630829\ttotal: 160ms\tremaining: 686ms\n",
      "189:\tlearn: 0.2617033\ttotal: 160ms\tremaining: 684ms\n",
      "190:\tlearn: 0.2599832\ttotal: 161ms\tremaining: 682ms\n",
      "191:\tlearn: 0.2588989\ttotal: 161ms\tremaining: 679ms\n",
      "192:\tlearn: 0.2575395\ttotal: 162ms\tremaining: 677ms\n",
      "193:\tlearn: 0.2561582\ttotal: 162ms\tremaining: 674ms\n",
      "194:\tlearn: 0.2543846\ttotal: 163ms\tremaining: 671ms\n",
      "195:\tlearn: 0.2526003\ttotal: 163ms\tremaining: 669ms\n",
      "196:\tlearn: 0.2510841\ttotal: 164ms\tremaining: 667ms\n",
      "197:\tlearn: 0.2492842\ttotal: 164ms\tremaining: 665ms\n",
      "198:\tlearn: 0.2478800\ttotal: 165ms\tremaining: 663ms\n",
      "199:\tlearn: 0.2467166\ttotal: 165ms\tremaining: 660ms\n",
      "200:\tlearn: 0.2450782\ttotal: 165ms\tremaining: 658ms\n",
      "201:\tlearn: 0.2435678\ttotal: 166ms\tremaining: 655ms\n",
      "202:\tlearn: 0.2421955\ttotal: 166ms\tremaining: 653ms\n",
      "203:\tlearn: 0.2404118\ttotal: 167ms\tremaining: 651ms\n",
      "204:\tlearn: 0.2386700\ttotal: 167ms\tremaining: 648ms\n",
      "205:\tlearn: 0.2375843\ttotal: 168ms\tremaining: 646ms\n",
      "206:\tlearn: 0.2358139\ttotal: 168ms\tremaining: 644ms\n",
      "207:\tlearn: 0.2345439\ttotal: 168ms\tremaining: 641ms\n",
      "208:\tlearn: 0.2329379\ttotal: 169ms\tremaining: 639ms\n",
      "209:\tlearn: 0.2315105\ttotal: 169ms\tremaining: 638ms\n",
      "210:\tlearn: 0.2298615\ttotal: 170ms\tremaining: 636ms\n",
      "211:\tlearn: 0.2283446\ttotal: 171ms\tremaining: 634ms\n",
      "212:\tlearn: 0.2270812\ttotal: 171ms\tremaining: 632ms\n",
      "213:\tlearn: 0.2257190\ttotal: 171ms\tremaining: 630ms\n",
      "214:\tlearn: 0.2241863\ttotal: 172ms\tremaining: 627ms\n",
      "215:\tlearn: 0.2228148\ttotal: 172ms\tremaining: 625ms\n",
      "216:\tlearn: 0.2213606\ttotal: 173ms\tremaining: 623ms\n",
      "217:\tlearn: 0.2203140\ttotal: 173ms\tremaining: 621ms\n",
      "218:\tlearn: 0.2188210\ttotal: 174ms\tremaining: 619ms\n",
      "219:\tlearn: 0.2176196\ttotal: 174ms\tremaining: 617ms\n",
      "220:\tlearn: 0.2161424\ttotal: 174ms\tremaining: 615ms\n",
      "221:\tlearn: 0.2144952\ttotal: 175ms\tremaining: 613ms\n",
      "222:\tlearn: 0.2130385\ttotal: 175ms\tremaining: 611ms\n",
      "223:\tlearn: 0.2119215\ttotal: 176ms\tremaining: 608ms\n",
      "224:\tlearn: 0.2106876\ttotal: 176ms\tremaining: 607ms\n",
      "225:\tlearn: 0.2092865\ttotal: 176ms\tremaining: 604ms\n",
      "226:\tlearn: 0.2077865\ttotal: 177ms\tremaining: 602ms\n",
      "227:\tlearn: 0.2065454\ttotal: 177ms\tremaining: 601ms\n",
      "228:\tlearn: 0.2052007\ttotal: 178ms\tremaining: 599ms\n",
      "229:\tlearn: 0.2037516\ttotal: 178ms\tremaining: 597ms\n",
      "230:\tlearn: 0.2022372\ttotal: 179ms\tremaining: 596ms\n",
      "231:\tlearn: 0.2011646\ttotal: 179ms\tremaining: 594ms\n",
      "232:\tlearn: 0.1999152\ttotal: 180ms\tremaining: 593ms\n",
      "233:\tlearn: 0.1987144\ttotal: 180ms\tremaining: 591ms\n",
      "234:\tlearn: 0.1976878\ttotal: 181ms\tremaining: 589ms\n",
      "235:\tlearn: 0.1962708\ttotal: 181ms\tremaining: 587ms\n",
      "236:\tlearn: 0.1952332\ttotal: 182ms\tremaining: 586ms\n",
      "237:\tlearn: 0.1942794\ttotal: 183ms\tremaining: 584ms\n",
      "238:\tlearn: 0.1934010\ttotal: 183ms\tremaining: 583ms\n",
      "239:\tlearn: 0.1917817\ttotal: 184ms\tremaining: 581ms\n",
      "240:\tlearn: 0.1908387\ttotal: 184ms\tremaining: 580ms\n",
      "241:\tlearn: 0.1896474\ttotal: 185ms\tremaining: 578ms\n",
      "242:\tlearn: 0.1886332\ttotal: 185ms\tremaining: 577ms\n",
      "243:\tlearn: 0.1875935\ttotal: 186ms\tremaining: 575ms\n",
      "244:\tlearn: 0.1864259\ttotal: 186ms\tremaining: 573ms\n",
      "245:\tlearn: 0.1852749\ttotal: 186ms\tremaining: 572ms\n",
      "246:\tlearn: 0.1843531\ttotal: 187ms\tremaining: 570ms\n"
     ]
    },
    {
     "name": "stdout",
     "output_type": "stream",
     "text": [
      "247:\tlearn: 0.1833268\ttotal: 188ms\tremaining: 569ms\n",
      "248:\tlearn: 0.1822455\ttotal: 188ms\tremaining: 567ms\n",
      "249:\tlearn: 0.1810777\ttotal: 188ms\tremaining: 565ms\n",
      "250:\tlearn: 0.1798334\ttotal: 189ms\tremaining: 564ms\n",
      "251:\tlearn: 0.1788887\ttotal: 190ms\tremaining: 563ms\n",
      "252:\tlearn: 0.1779172\ttotal: 190ms\tremaining: 561ms\n",
      "253:\tlearn: 0.1769396\ttotal: 190ms\tremaining: 559ms\n",
      "254:\tlearn: 0.1761709\ttotal: 191ms\tremaining: 558ms\n",
      "255:\tlearn: 0.1750649\ttotal: 191ms\tremaining: 556ms\n",
      "256:\tlearn: 0.1736807\ttotal: 192ms\tremaining: 554ms\n",
      "257:\tlearn: 0.1727107\ttotal: 192ms\tremaining: 553ms\n",
      "258:\tlearn: 0.1718503\ttotal: 193ms\tremaining: 551ms\n",
      "259:\tlearn: 0.1709625\ttotal: 193ms\tremaining: 549ms\n",
      "260:\tlearn: 0.1696819\ttotal: 194ms\tremaining: 548ms\n",
      "261:\tlearn: 0.1684014\ttotal: 194ms\tremaining: 547ms\n",
      "262:\tlearn: 0.1673570\ttotal: 194ms\tremaining: 545ms\n",
      "263:\tlearn: 0.1660113\ttotal: 195ms\tremaining: 543ms\n",
      "264:\tlearn: 0.1650926\ttotal: 195ms\tremaining: 542ms\n",
      "265:\tlearn: 0.1641997\ttotal: 196ms\tremaining: 540ms\n",
      "266:\tlearn: 0.1634985\ttotal: 196ms\tremaining: 539ms\n",
      "267:\tlearn: 0.1623227\ttotal: 197ms\tremaining: 537ms\n",
      "268:\tlearn: 0.1612666\ttotal: 197ms\tremaining: 536ms\n",
      "269:\tlearn: 0.1604562\ttotal: 198ms\tremaining: 534ms\n",
      "270:\tlearn: 0.1594850\ttotal: 198ms\tremaining: 533ms\n",
      "271:\tlearn: 0.1586045\ttotal: 199ms\tremaining: 532ms\n",
      "272:\tlearn: 0.1577781\ttotal: 199ms\tremaining: 530ms\n",
      "273:\tlearn: 0.1565945\ttotal: 200ms\tremaining: 529ms\n",
      "274:\tlearn: 0.1558261\ttotal: 200ms\tremaining: 527ms\n",
      "275:\tlearn: 0.1547781\ttotal: 200ms\tremaining: 526ms\n",
      "276:\tlearn: 0.1536635\ttotal: 201ms\tremaining: 524ms\n",
      "277:\tlearn: 0.1527178\ttotal: 201ms\tremaining: 522ms\n",
      "278:\tlearn: 0.1515275\ttotal: 202ms\tremaining: 521ms\n",
      "279:\tlearn: 0.1504600\ttotal: 202ms\tremaining: 520ms\n",
      "280:\tlearn: 0.1494414\ttotal: 203ms\tremaining: 518ms\n",
      "281:\tlearn: 0.1484974\ttotal: 203ms\tremaining: 517ms\n",
      "282:\tlearn: 0.1474852\ttotal: 204ms\tremaining: 516ms\n",
      "283:\tlearn: 0.1465128\ttotal: 204ms\tremaining: 514ms\n",
      "284:\tlearn: 0.1455682\ttotal: 204ms\tremaining: 513ms\n",
      "285:\tlearn: 0.1449193\ttotal: 205ms\tremaining: 512ms\n",
      "286:\tlearn: 0.1440945\ttotal: 206ms\tremaining: 511ms\n",
      "287:\tlearn: 0.1433959\ttotal: 206ms\tremaining: 510ms\n",
      "288:\tlearn: 0.1424401\ttotal: 207ms\tremaining: 508ms\n",
      "289:\tlearn: 0.1414876\ttotal: 207ms\tremaining: 507ms\n",
      "290:\tlearn: 0.1406029\ttotal: 208ms\tremaining: 506ms\n",
      "291:\tlearn: 0.1398780\ttotal: 208ms\tremaining: 505ms\n",
      "292:\tlearn: 0.1391213\ttotal: 209ms\tremaining: 503ms\n",
      "293:\tlearn: 0.1381410\ttotal: 209ms\tremaining: 502ms\n",
      "294:\tlearn: 0.1373579\ttotal: 210ms\tremaining: 501ms\n",
      "295:\tlearn: 0.1366247\ttotal: 210ms\tremaining: 500ms\n",
      "296:\tlearn: 0.1357672\ttotal: 211ms\tremaining: 498ms\n",
      "297:\tlearn: 0.1347754\ttotal: 211ms\tremaining: 497ms\n",
      "298:\tlearn: 0.1337239\ttotal: 212ms\tremaining: 496ms\n",
      "299:\tlearn: 0.1328661\ttotal: 212ms\tremaining: 495ms\n",
      "300:\tlearn: 0.1319694\ttotal: 213ms\tremaining: 494ms\n",
      "301:\tlearn: 0.1311524\ttotal: 213ms\tremaining: 493ms\n",
      "302:\tlearn: 0.1302002\ttotal: 214ms\tremaining: 491ms\n",
      "303:\tlearn: 0.1292400\ttotal: 214ms\tremaining: 490ms\n",
      "304:\tlearn: 0.1284695\ttotal: 215ms\tremaining: 489ms\n",
      "305:\tlearn: 0.1277755\ttotal: 215ms\tremaining: 488ms\n",
      "306:\tlearn: 0.1269844\ttotal: 216ms\tremaining: 487ms\n",
      "307:\tlearn: 0.1262789\ttotal: 216ms\tremaining: 486ms\n",
      "308:\tlearn: 0.1254810\ttotal: 217ms\tremaining: 484ms\n",
      "309:\tlearn: 0.1246092\ttotal: 217ms\tremaining: 483ms\n",
      "310:\tlearn: 0.1238384\ttotal: 218ms\tremaining: 482ms\n",
      "311:\tlearn: 0.1231486\ttotal: 218ms\tremaining: 481ms\n",
      "312:\tlearn: 0.1225753\ttotal: 219ms\tremaining: 480ms\n",
      "313:\tlearn: 0.1218549\ttotal: 219ms\tremaining: 479ms\n",
      "314:\tlearn: 0.1212168\ttotal: 220ms\tremaining: 478ms\n",
      "315:\tlearn: 0.1205038\ttotal: 220ms\tremaining: 477ms\n",
      "316:\tlearn: 0.1198963\ttotal: 221ms\tremaining: 476ms\n",
      "317:\tlearn: 0.1192830\ttotal: 221ms\tremaining: 475ms\n",
      "318:\tlearn: 0.1185688\ttotal: 222ms\tremaining: 473ms\n",
      "319:\tlearn: 0.1179696\ttotal: 222ms\tremaining: 472ms\n",
      "320:\tlearn: 0.1173945\ttotal: 223ms\tremaining: 471ms\n",
      "321:\tlearn: 0.1167866\ttotal: 223ms\tremaining: 470ms\n",
      "322:\tlearn: 0.1161384\ttotal: 223ms\tremaining: 468ms\n",
      "323:\tlearn: 0.1153267\ttotal: 224ms\tremaining: 467ms\n",
      "324:\tlearn: 0.1144200\ttotal: 224ms\tremaining: 466ms\n",
      "325:\tlearn: 0.1137446\ttotal: 225ms\tremaining: 464ms\n",
      "326:\tlearn: 0.1131798\ttotal: 225ms\tremaining: 463ms\n",
      "327:\tlearn: 0.1126496\ttotal: 225ms\tremaining: 462ms\n",
      "328:\tlearn: 0.1119938\ttotal: 226ms\tremaining: 461ms\n",
      "329:\tlearn: 0.1114705\ttotal: 226ms\tremaining: 459ms\n",
      "330:\tlearn: 0.1108297\ttotal: 227ms\tremaining: 458ms\n",
      "331:\tlearn: 0.1100725\ttotal: 227ms\tremaining: 457ms\n",
      "332:\tlearn: 0.1094486\ttotal: 228ms\tremaining: 456ms\n",
      "333:\tlearn: 0.1089486\ttotal: 228ms\tremaining: 455ms\n",
      "334:\tlearn: 0.1083290\ttotal: 229ms\tremaining: 454ms\n",
      "335:\tlearn: 0.1076571\ttotal: 229ms\tremaining: 453ms\n",
      "336:\tlearn: 0.1069388\ttotal: 230ms\tremaining: 452ms\n",
      "337:\tlearn: 0.1062480\ttotal: 230ms\tremaining: 450ms\n",
      "338:\tlearn: 0.1058228\ttotal: 230ms\tremaining: 449ms\n",
      "339:\tlearn: 0.1052075\ttotal: 231ms\tremaining: 448ms\n",
      "340:\tlearn: 0.1045057\ttotal: 231ms\tremaining: 447ms\n",
      "341:\tlearn: 0.1039078\ttotal: 232ms\tremaining: 446ms\n",
      "342:\tlearn: 0.1032260\ttotal: 232ms\tremaining: 445ms\n",
      "343:\tlearn: 0.1024997\ttotal: 233ms\tremaining: 444ms\n",
      "344:\tlearn: 0.1019235\ttotal: 233ms\tremaining: 443ms\n",
      "345:\tlearn: 0.1012656\ttotal: 234ms\tremaining: 442ms\n",
      "346:\tlearn: 0.1005663\ttotal: 234ms\tremaining: 441ms\n",
      "347:\tlearn: 0.0999980\ttotal: 235ms\tremaining: 440ms\n",
      "348:\tlearn: 0.0994491\ttotal: 235ms\tremaining: 439ms\n",
      "349:\tlearn: 0.0987109\ttotal: 236ms\tremaining: 438ms\n",
      "350:\tlearn: 0.0981574\ttotal: 236ms\tremaining: 437ms\n",
      "351:\tlearn: 0.0975598\ttotal: 237ms\tremaining: 436ms\n",
      "352:\tlearn: 0.0969111\ttotal: 237ms\tremaining: 435ms\n",
      "353:\tlearn: 0.0963213\ttotal: 238ms\tremaining: 434ms\n",
      "354:\tlearn: 0.0957201\ttotal: 238ms\tremaining: 433ms\n",
      "355:\tlearn: 0.0950910\ttotal: 239ms\tremaining: 432ms\n",
      "356:\tlearn: 0.0945241\ttotal: 239ms\tremaining: 431ms\n",
      "357:\tlearn: 0.0939380\ttotal: 240ms\tremaining: 430ms\n",
      "358:\tlearn: 0.0933900\ttotal: 240ms\tremaining: 429ms\n",
      "359:\tlearn: 0.0927289\ttotal: 241ms\tremaining: 428ms\n",
      "360:\tlearn: 0.0920980\ttotal: 241ms\tremaining: 427ms\n",
      "361:\tlearn: 0.0915042\ttotal: 242ms\tremaining: 426ms\n",
      "362:\tlearn: 0.0909539\ttotal: 242ms\tremaining: 425ms\n",
      "363:\tlearn: 0.0905268\ttotal: 243ms\tremaining: 424ms\n",
      "364:\tlearn: 0.0899483\ttotal: 243ms\tremaining: 423ms\n",
      "365:\tlearn: 0.0894206\ttotal: 244ms\tremaining: 422ms\n",
      "366:\tlearn: 0.0889007\ttotal: 244ms\tremaining: 421ms\n",
      "367:\tlearn: 0.0884895\ttotal: 245ms\tremaining: 420ms\n",
      "368:\tlearn: 0.0880861\ttotal: 245ms\tremaining: 419ms\n",
      "369:\tlearn: 0.0875007\ttotal: 246ms\tremaining: 418ms\n",
      "370:\tlearn: 0.0871342\ttotal: 246ms\tremaining: 418ms\n",
      "371:\tlearn: 0.0865663\ttotal: 247ms\tremaining: 416ms\n",
      "372:\tlearn: 0.0859908\ttotal: 247ms\tremaining: 416ms\n",
      "373:\tlearn: 0.0856181\ttotal: 248ms\tremaining: 414ms\n",
      "374:\tlearn: 0.0851292\ttotal: 248ms\tremaining: 414ms\n",
      "375:\tlearn: 0.0846471\ttotal: 249ms\tremaining: 413ms\n",
      "376:\tlearn: 0.0842861\ttotal: 249ms\tremaining: 412ms\n",
      "377:\tlearn: 0.0837495\ttotal: 250ms\tremaining: 411ms\n",
      "378:\tlearn: 0.0832223\ttotal: 250ms\tremaining: 410ms\n",
      "379:\tlearn: 0.0827575\ttotal: 251ms\tremaining: 409ms\n",
      "380:\tlearn: 0.0823089\ttotal: 251ms\tremaining: 408ms\n",
      "381:\tlearn: 0.0818509\ttotal: 252ms\tremaining: 407ms\n",
      "382:\tlearn: 0.0813424\ttotal: 252ms\tremaining: 406ms\n",
      "383:\tlearn: 0.0810030\ttotal: 253ms\tremaining: 405ms\n",
      "384:\tlearn: 0.0805616\ttotal: 253ms\tremaining: 404ms\n",
      "385:\tlearn: 0.0802313\ttotal: 254ms\tremaining: 404ms\n",
      "386:\tlearn: 0.0798000\ttotal: 254ms\tremaining: 403ms\n",
      "387:\tlearn: 0.0793127\ttotal: 255ms\tremaining: 402ms\n",
      "388:\tlearn: 0.0789932\ttotal: 256ms\tremaining: 401ms\n",
      "389:\tlearn: 0.0785171\ttotal: 256ms\tremaining: 400ms\n",
      "390:\tlearn: 0.0780942\ttotal: 256ms\tremaining: 399ms\n",
      "391:\tlearn: 0.0776840\ttotal: 257ms\tremaining: 398ms\n",
      "392:\tlearn: 0.0772834\ttotal: 257ms\tremaining: 397ms\n",
      "393:\tlearn: 0.0768922\ttotal: 258ms\tremaining: 397ms\n",
      "394:\tlearn: 0.0765886\ttotal: 258ms\tremaining: 396ms\n",
      "395:\tlearn: 0.0761935\ttotal: 259ms\tremaining: 395ms\n",
      "396:\tlearn: 0.0757727\ttotal: 259ms\tremaining: 394ms\n",
      "397:\tlearn: 0.0753656\ttotal: 260ms\tremaining: 393ms\n",
      "398:\tlearn: 0.0750306\ttotal: 260ms\tremaining: 392ms\n",
      "399:\tlearn: 0.0745790\ttotal: 261ms\tremaining: 391ms\n",
      "400:\tlearn: 0.0742058\ttotal: 261ms\tremaining: 390ms\n",
      "401:\tlearn: 0.0738260\ttotal: 262ms\tremaining: 390ms\n",
      "402:\tlearn: 0.0734393\ttotal: 262ms\tremaining: 389ms\n",
      "403:\tlearn: 0.0730649\ttotal: 263ms\tremaining: 388ms\n",
      "404:\tlearn: 0.0726996\ttotal: 263ms\tremaining: 387ms\n",
      "405:\tlearn: 0.0723295\ttotal: 264ms\tremaining: 386ms\n",
      "406:\tlearn: 0.0719759\ttotal: 264ms\tremaining: 385ms\n",
      "407:\tlearn: 0.0716308\ttotal: 265ms\tremaining: 384ms\n",
      "408:\tlearn: 0.0713303\ttotal: 265ms\tremaining: 383ms\n",
      "409:\tlearn: 0.0709964\ttotal: 266ms\tremaining: 382ms\n",
      "410:\tlearn: 0.0706704\ttotal: 266ms\tremaining: 381ms\n",
      "411:\tlearn: 0.0703832\ttotal: 267ms\tremaining: 380ms\n",
      "412:\tlearn: 0.0699566\ttotal: 267ms\tremaining: 380ms\n",
      "413:\tlearn: 0.0696149\ttotal: 268ms\tremaining: 379ms\n",
      "414:\tlearn: 0.0691970\ttotal: 268ms\tremaining: 378ms\n",
      "415:\tlearn: 0.0689211\ttotal: 268ms\tremaining: 377ms\n",
      "416:\tlearn: 0.0686123\ttotal: 269ms\tremaining: 376ms\n",
      "417:\tlearn: 0.0683130\ttotal: 269ms\tremaining: 375ms\n",
      "418:\tlearn: 0.0679061\ttotal: 270ms\tremaining: 374ms\n",
      "419:\tlearn: 0.0675836\ttotal: 270ms\tremaining: 374ms\n",
      "420:\tlearn: 0.0671681\ttotal: 271ms\tremaining: 373ms\n",
      "421:\tlearn: 0.0667714\ttotal: 272ms\tremaining: 372ms\n",
      "422:\tlearn: 0.0663853\ttotal: 272ms\tremaining: 371ms\n",
      "423:\tlearn: 0.0661663\ttotal: 273ms\tremaining: 370ms\n",
      "424:\tlearn: 0.0657674\ttotal: 273ms\tremaining: 370ms\n",
      "425:\tlearn: 0.0654632\ttotal: 274ms\tremaining: 369ms\n",
      "426:\tlearn: 0.0650839\ttotal: 274ms\tremaining: 368ms\n",
      "427:\tlearn: 0.0647817\ttotal: 274ms\tremaining: 367ms\n",
      "428:\tlearn: 0.0645346\ttotal: 275ms\tremaining: 366ms\n",
      "429:\tlearn: 0.0641647\ttotal: 276ms\tremaining: 365ms\n",
      "430:\tlearn: 0.0637823\ttotal: 276ms\tremaining: 364ms\n",
      "431:\tlearn: 0.0634207\ttotal: 276ms\tremaining: 363ms\n",
      "432:\tlearn: 0.0631829\ttotal: 277ms\tremaining: 362ms\n",
      "433:\tlearn: 0.0628281\ttotal: 277ms\tremaining: 362ms\n",
      "434:\tlearn: 0.0624613\ttotal: 278ms\tremaining: 361ms\n",
      "435:\tlearn: 0.0620204\ttotal: 278ms\tremaining: 360ms\n",
      "436:\tlearn: 0.0618266\ttotal: 279ms\tremaining: 359ms\n",
      "437:\tlearn: 0.0613496\ttotal: 279ms\tremaining: 358ms\n",
      "438:\tlearn: 0.0609983\ttotal: 279ms\tremaining: 357ms\n",
      "439:\tlearn: 0.0606297\ttotal: 280ms\tremaining: 356ms\n",
      "440:\tlearn: 0.0603547\ttotal: 280ms\tremaining: 355ms\n",
      "441:\tlearn: 0.0599947\ttotal: 281ms\tremaining: 354ms\n",
      "442:\tlearn: 0.0594581\ttotal: 282ms\tremaining: 354ms\n",
      "443:\tlearn: 0.0592443\ttotal: 282ms\tremaining: 353ms\n",
      "444:\tlearn: 0.0588941\ttotal: 282ms\tremaining: 352ms\n",
      "445:\tlearn: 0.0585506\ttotal: 283ms\tremaining: 351ms\n",
      "446:\tlearn: 0.0580303\ttotal: 283ms\tremaining: 350ms\n",
      "447:\tlearn: 0.0577750\ttotal: 284ms\tremaining: 349ms\n",
      "448:\tlearn: 0.0574413\ttotal: 284ms\tremaining: 349ms\n",
      "449:\tlearn: 0.0569361\ttotal: 285ms\tremaining: 348ms\n",
      "450:\tlearn: 0.0567369\ttotal: 285ms\tremaining: 347ms\n",
      "451:\tlearn: 0.0564124\ttotal: 285ms\tremaining: 346ms\n",
      "452:\tlearn: 0.0560941\ttotal: 286ms\tremaining: 345ms\n",
      "453:\tlearn: 0.0555462\ttotal: 286ms\tremaining: 344ms\n",
      "454:\tlearn: 0.0552154\ttotal: 287ms\tremaining: 343ms\n",
      "455:\tlearn: 0.0548909\ttotal: 287ms\tremaining: 342ms\n",
      "456:\tlearn: 0.0543630\ttotal: 287ms\tremaining: 342ms\n",
      "457:\tlearn: 0.0540484\ttotal: 288ms\tremaining: 341ms\n",
      "458:\tlearn: 0.0537218\ttotal: 289ms\tremaining: 340ms\n",
      "459:\tlearn: 0.0534006\ttotal: 289ms\tremaining: 339ms\n",
      "460:\tlearn: 0.0531030\ttotal: 290ms\tremaining: 339ms\n",
      "461:\tlearn: 0.0528053\ttotal: 290ms\tremaining: 338ms\n",
      "462:\tlearn: 0.0525553\ttotal: 291ms\tremaining: 337ms\n",
      "463:\tlearn: 0.0522164\ttotal: 291ms\tremaining: 336ms\n",
      "464:\tlearn: 0.0519727\ttotal: 292ms\tremaining: 335ms\n",
      "465:\tlearn: 0.0515267\ttotal: 292ms\tremaining: 335ms\n"
     ]
    },
    {
     "name": "stdout",
     "output_type": "stream",
     "text": [
      "466:\tlearn: 0.0513097\ttotal: 293ms\tremaining: 334ms\n",
      "467:\tlearn: 0.0510315\ttotal: 293ms\tremaining: 334ms\n",
      "468:\tlearn: 0.0508593\ttotal: 294ms\tremaining: 333ms\n",
      "469:\tlearn: 0.0505624\ttotal: 294ms\tremaining: 332ms\n",
      "470:\tlearn: 0.0503248\ttotal: 295ms\tremaining: 331ms\n",
      "471:\tlearn: 0.0500091\ttotal: 295ms\tremaining: 330ms\n",
      "472:\tlearn: 0.0495864\ttotal: 296ms\tremaining: 329ms\n",
      "473:\tlearn: 0.0494341\ttotal: 296ms\tremaining: 329ms\n",
      "474:\tlearn: 0.0491688\ttotal: 297ms\tremaining: 328ms\n",
      "475:\tlearn: 0.0489063\ttotal: 297ms\tremaining: 327ms\n",
      "476:\tlearn: 0.0487491\ttotal: 298ms\tremaining: 326ms\n",
      "477:\tlearn: 0.0483426\ttotal: 298ms\tremaining: 326ms\n",
      "478:\tlearn: 0.0481984\ttotal: 299ms\tremaining: 325ms\n",
      "479:\tlearn: 0.0479194\ttotal: 299ms\tremaining: 324ms\n",
      "480:\tlearn: 0.0476873\ttotal: 300ms\tremaining: 323ms\n",
      "481:\tlearn: 0.0474148\ttotal: 300ms\tremaining: 322ms\n",
      "482:\tlearn: 0.0472505\ttotal: 300ms\tremaining: 321ms\n",
      "483:\tlearn: 0.0470246\ttotal: 301ms\tremaining: 321ms\n",
      "484:\tlearn: 0.0468195\ttotal: 301ms\tremaining: 320ms\n",
      "485:\tlearn: 0.0466354\ttotal: 301ms\tremaining: 319ms\n",
      "486:\tlearn: 0.0464357\ttotal: 302ms\tremaining: 318ms\n",
      "487:\tlearn: 0.0462563\ttotal: 302ms\tremaining: 317ms\n",
      "488:\tlearn: 0.0460807\ttotal: 303ms\tremaining: 316ms\n",
      "489:\tlearn: 0.0459089\ttotal: 303ms\tremaining: 316ms\n",
      "490:\tlearn: 0.0457416\ttotal: 304ms\tremaining: 315ms\n",
      "491:\tlearn: 0.0455254\ttotal: 304ms\tremaining: 314ms\n",
      "492:\tlearn: 0.0453579\ttotal: 305ms\tremaining: 313ms\n",
      "493:\tlearn: 0.0451954\ttotal: 305ms\tremaining: 312ms\n",
      "494:\tlearn: 0.0448256\ttotal: 305ms\tremaining: 311ms\n",
      "495:\tlearn: 0.0446635\ttotal: 306ms\tremaining: 311ms\n",
      "496:\tlearn: 0.0445049\ttotal: 306ms\tremaining: 310ms\n",
      "497:\tlearn: 0.0442694\ttotal: 307ms\tremaining: 309ms\n",
      "498:\tlearn: 0.0439796\ttotal: 307ms\tremaining: 308ms\n",
      "499:\tlearn: 0.0436873\ttotal: 308ms\tremaining: 308ms\n",
      "500:\tlearn: 0.0436258\ttotal: 308ms\tremaining: 307ms\n",
      "501:\tlearn: 0.0435654\ttotal: 308ms\tremaining: 306ms\n",
      "502:\tlearn: 0.0432828\ttotal: 309ms\tremaining: 305ms\n",
      "503:\tlearn: 0.0431319\ttotal: 309ms\tremaining: 304ms\n",
      "504:\tlearn: 0.0429116\ttotal: 309ms\tremaining: 303ms\n",
      "505:\tlearn: 0.0425760\ttotal: 310ms\tremaining: 302ms\n",
      "506:\tlearn: 0.0425188\ttotal: 310ms\tremaining: 302ms\n",
      "507:\tlearn: 0.0421906\ttotal: 311ms\tremaining: 301ms\n",
      "508:\tlearn: 0.0421347\ttotal: 311ms\tremaining: 300ms\n",
      "509:\tlearn: 0.0418136\ttotal: 312ms\tremaining: 299ms\n",
      "510:\tlearn: 0.0417773\ttotal: 312ms\tremaining: 298ms\n",
      "511:\tlearn: 0.0414630\ttotal: 312ms\tremaining: 298ms\n",
      "512:\tlearn: 0.0414270\ttotal: 313ms\tremaining: 297ms\n",
      "513:\tlearn: 0.0410958\ttotal: 313ms\tremaining: 296ms\n",
      "514:\tlearn: 0.0408352\ttotal: 314ms\tremaining: 295ms\n",
      "515:\tlearn: 0.0405580\ttotal: 314ms\tremaining: 295ms\n",
      "516:\tlearn: 0.0402861\ttotal: 315ms\tremaining: 294ms\n",
      "517:\tlearn: 0.0400804\ttotal: 315ms\tremaining: 293ms\n",
      "518:\tlearn: 0.0397920\ttotal: 315ms\tremaining: 292ms\n",
      "519:\tlearn: 0.0395108\ttotal: 316ms\tremaining: 292ms\n",
      "520:\tlearn: 0.0392711\ttotal: 317ms\tremaining: 291ms\n",
      "521:\tlearn: 0.0390369\ttotal: 317ms\tremaining: 290ms\n",
      "522:\tlearn: 0.0388205\ttotal: 317ms\tremaining: 290ms\n",
      "523:\tlearn: 0.0385928\ttotal: 318ms\tremaining: 289ms\n",
      "524:\tlearn: 0.0383820\ttotal: 318ms\tremaining: 288ms\n",
      "525:\tlearn: 0.0381604\ttotal: 319ms\tremaining: 287ms\n",
      "526:\tlearn: 0.0381103\ttotal: 319ms\tremaining: 286ms\n",
      "527:\tlearn: 0.0380610\ttotal: 320ms\tremaining: 286ms\n",
      "528:\tlearn: 0.0380126\ttotal: 321ms\tremaining: 286ms\n",
      "529:\tlearn: 0.0379651\ttotal: 322ms\tremaining: 285ms\n",
      "530:\tlearn: 0.0377719\ttotal: 322ms\tremaining: 284ms\n",
      "531:\tlearn: 0.0375532\ttotal: 322ms\tremaining: 284ms\n",
      "532:\tlearn: 0.0374355\ttotal: 323ms\tremaining: 283ms\n",
      "533:\tlearn: 0.0374054\ttotal: 323ms\tremaining: 282ms\n",
      "534:\tlearn: 0.0372425\ttotal: 325ms\tremaining: 282ms\n",
      "535:\tlearn: 0.0369861\ttotal: 325ms\tremaining: 281ms\n",
      "536:\tlearn: 0.0369412\ttotal: 325ms\tremaining: 281ms\n",
      "537:\tlearn: 0.0366911\ttotal: 326ms\tremaining: 280ms\n",
      "538:\tlearn: 0.0365717\ttotal: 326ms\tremaining: 279ms\n",
      "539:\tlearn: 0.0365277\ttotal: 326ms\tremaining: 278ms\n",
      "540:\tlearn: 0.0364845\ttotal: 327ms\tremaining: 277ms\n",
      "541:\tlearn: 0.0362485\ttotal: 327ms\tremaining: 276ms\n",
      "542:\tlearn: 0.0360075\ttotal: 328ms\tremaining: 276ms\n",
      "543:\tlearn: 0.0358131\ttotal: 328ms\tremaining: 275ms\n",
      "544:\tlearn: 0.0356225\ttotal: 328ms\tremaining: 274ms\n",
      "545:\tlearn: 0.0354052\ttotal: 329ms\tremaining: 273ms\n",
      "546:\tlearn: 0.0353634\ttotal: 329ms\tremaining: 273ms\n",
      "547:\tlearn: 0.0353223\ttotal: 329ms\tremaining: 272ms\n",
      "548:\tlearn: 0.0350990\ttotal: 330ms\tremaining: 271ms\n",
      "549:\tlearn: 0.0349515\ttotal: 330ms\tremaining: 270ms\n",
      "550:\tlearn: 0.0349114\ttotal: 331ms\tremaining: 269ms\n",
      "551:\tlearn: 0.0348852\ttotal: 331ms\tremaining: 269ms\n",
      "552:\tlearn: 0.0347576\ttotal: 332ms\tremaining: 268ms\n",
      "553:\tlearn: 0.0345323\ttotal: 332ms\tremaining: 267ms\n",
      "554:\tlearn: 0.0343250\ttotal: 332ms\tremaining: 267ms\n",
      "555:\tlearn: 0.0341818\ttotal: 333ms\tremaining: 266ms\n",
      "556:\tlearn: 0.0341433\ttotal: 333ms\tremaining: 265ms\n",
      "557:\tlearn: 0.0341054\ttotal: 334ms\tremaining: 265ms\n",
      "558:\tlearn: 0.0339849\ttotal: 334ms\tremaining: 264ms\n",
      "559:\tlearn: 0.0337698\ttotal: 335ms\tremaining: 263ms\n",
      "560:\tlearn: 0.0335701\ttotal: 335ms\tremaining: 263ms\n",
      "561:\tlearn: 0.0334356\ttotal: 336ms\tremaining: 262ms\n",
      "562:\tlearn: 0.0333990\ttotal: 337ms\tremaining: 261ms\n",
      "563:\tlearn: 0.0333733\ttotal: 337ms\tremaining: 261ms\n",
      "564:\tlearn: 0.0333377\ttotal: 338ms\tremaining: 260ms\n",
      "565:\tlearn: 0.0332062\ttotal: 338ms\tremaining: 259ms\n",
      "566:\tlearn: 0.0331813\ttotal: 338ms\tremaining: 258ms\n",
      "567:\tlearn: 0.0331465\ttotal: 339ms\tremaining: 258ms\n",
      "568:\tlearn: 0.0330184\ttotal: 339ms\tremaining: 257ms\n",
      "569:\tlearn: 0.0328141\ttotal: 340ms\tremaining: 256ms\n",
      "570:\tlearn: 0.0326150\ttotal: 340ms\tremaining: 256ms\n",
      "571:\tlearn: 0.0324255\ttotal: 341ms\tremaining: 255ms\n",
      "572:\tlearn: 0.0322366\ttotal: 341ms\tremaining: 254ms\n",
      "573:\tlearn: 0.0321105\ttotal: 342ms\tremaining: 254ms\n",
      "574:\tlearn: 0.0320771\ttotal: 342ms\tremaining: 253ms\n",
      "575:\tlearn: 0.0320538\ttotal: 343ms\tremaining: 252ms\n",
      "576:\tlearn: 0.0320212\ttotal: 343ms\tremaining: 252ms\n",
      "577:\tlearn: 0.0318980\ttotal: 344ms\tremaining: 251ms\n",
      "578:\tlearn: 0.0318660\ttotal: 344ms\tremaining: 250ms\n",
      "579:\tlearn: 0.0318435\ttotal: 345ms\tremaining: 250ms\n",
      "580:\tlearn: 0.0317443\ttotal: 345ms\tremaining: 249ms\n",
      "581:\tlearn: 0.0316008\ttotal: 346ms\tremaining: 248ms\n",
      "582:\tlearn: 0.0314607\ttotal: 346ms\tremaining: 247ms\n",
      "583:\tlearn: 0.0313471\ttotal: 346ms\tremaining: 247ms\n",
      "584:\tlearn: 0.0312110\ttotal: 347ms\tremaining: 246ms\n",
      "585:\tlearn: 0.0310840\ttotal: 347ms\tremaining: 245ms\n",
      "586:\tlearn: 0.0309740\ttotal: 348ms\tremaining: 245ms\n",
      "587:\tlearn: 0.0308419\ttotal: 348ms\tremaining: 244ms\n",
      "588:\tlearn: 0.0307131\ttotal: 349ms\tremaining: 243ms\n",
      "589:\tlearn: 0.0306079\ttotal: 349ms\tremaining: 243ms\n",
      "590:\tlearn: 0.0304283\ttotal: 350ms\tremaining: 242ms\n",
      "591:\tlearn: 0.0303257\ttotal: 351ms\tremaining: 242ms\n",
      "592:\tlearn: 0.0302965\ttotal: 351ms\tremaining: 241ms\n",
      "593:\tlearn: 0.0302679\ttotal: 352ms\tremaining: 240ms\n",
      "594:\tlearn: 0.0301630\ttotal: 352ms\tremaining: 240ms\n",
      "595:\tlearn: 0.0300041\ttotal: 353ms\tremaining: 239ms\n"
     ]
    },
    {
     "name": "stdout",
     "output_type": "stream",
     "text": [
      "596:\tlearn: 0.0299036\ttotal: 353ms\tremaining: 238ms\n",
      "597:\tlearn: 0.0298758\ttotal: 354ms\tremaining: 238ms\n",
      "598:\tlearn: 0.0297571\ttotal: 354ms\tremaining: 237ms\n",
      "599:\tlearn: 0.0297296\ttotal: 355ms\tremaining: 236ms\n",
      "600:\tlearn: 0.0297103\ttotal: 355ms\tremaining: 236ms\n",
      "601:\tlearn: 0.0296265\ttotal: 355ms\tremaining: 235ms\n",
      "602:\tlearn: 0.0294735\ttotal: 356ms\tremaining: 234ms\n",
      "603:\tlearn: 0.0293027\ttotal: 356ms\tremaining: 234ms\n",
      "604:\tlearn: 0.0292064\ttotal: 357ms\tremaining: 233ms\n",
      "605:\tlearn: 0.0291801\ttotal: 357ms\tremaining: 232ms\n",
      "606:\tlearn: 0.0291543\ttotal: 358ms\tremaining: 232ms\n",
      "607:\tlearn: 0.0290582\ttotal: 358ms\tremaining: 231ms\n",
      "608:\tlearn: 0.0289637\ttotal: 359ms\tremaining: 230ms\n",
      "609:\tlearn: 0.0287940\ttotal: 359ms\tremaining: 230ms\n",
      "610:\tlearn: 0.0287771\ttotal: 360ms\tremaining: 229ms\n",
      "611:\tlearn: 0.0286171\ttotal: 360ms\tremaining: 228ms\n",
      "612:\tlearn: 0.0284608\ttotal: 361ms\tremaining: 228ms\n",
      "613:\tlearn: 0.0283323\ttotal: 361ms\tremaining: 227ms\n",
      "614:\tlearn: 0.0282410\ttotal: 362ms\tremaining: 226ms\n",
      "615:\tlearn: 0.0281203\ttotal: 362ms\tremaining: 226ms\n",
      "616:\tlearn: 0.0280170\ttotal: 362ms\tremaining: 225ms\n",
      "617:\tlearn: 0.0279918\ttotal: 363ms\tremaining: 224ms\n",
      "618:\tlearn: 0.0279670\ttotal: 363ms\tremaining: 224ms\n",
      "619:\tlearn: 0.0279510\ttotal: 364ms\tremaining: 223ms\n",
      "620:\tlearn: 0.0278334\ttotal: 365ms\tremaining: 223ms\n",
      "621:\tlearn: 0.0277452\ttotal: 365ms\tremaining: 222ms\n",
      "622:\tlearn: 0.0277210\ttotal: 366ms\tremaining: 221ms\n",
      "623:\tlearn: 0.0277055\ttotal: 366ms\tremaining: 221ms\n",
      "624:\tlearn: 0.0276052\ttotal: 367ms\tremaining: 220ms\n",
      "625:\tlearn: 0.0275898\ttotal: 367ms\tremaining: 219ms\n",
      "626:\tlearn: 0.0274609\ttotal: 367ms\tremaining: 219ms\n",
      "627:\tlearn: 0.0274376\ttotal: 368ms\tremaining: 218ms\n",
      "628:\tlearn: 0.0274227\ttotal: 368ms\tremaining: 217ms\n",
      "629:\tlearn: 0.0273078\ttotal: 369ms\tremaining: 217ms\n",
      "630:\tlearn: 0.0272931\ttotal: 369ms\tremaining: 216ms\n",
      "631:\tlearn: 0.0272787\ttotal: 370ms\tremaining: 215ms\n",
      "632:\tlearn: 0.0272563\ttotal: 370ms\tremaining: 215ms\n",
      "633:\tlearn: 0.0271715\ttotal: 371ms\tremaining: 214ms\n",
      "634:\tlearn: 0.0271496\ttotal: 371ms\tremaining: 213ms\n",
      "635:\tlearn: 0.0270393\ttotal: 372ms\tremaining: 213ms\n",
      "636:\tlearn: 0.0270254\ttotal: 372ms\tremaining: 212ms\n",
      "637:\tlearn: 0.0268542\ttotal: 372ms\tremaining: 211ms\n",
      "638:\tlearn: 0.0268406\ttotal: 373ms\tremaining: 211ms\n",
      "639:\tlearn: 0.0267439\ttotal: 373ms\tremaining: 210ms\n",
      "640:\tlearn: 0.0266114\ttotal: 374ms\tremaining: 209ms\n",
      "641:\tlearn: 0.0265902\ttotal: 374ms\tremaining: 209ms\n",
      "642:\tlearn: 0.0264601\ttotal: 375ms\tremaining: 208ms\n",
      "643:\tlearn: 0.0263559\ttotal: 375ms\tremaining: 207ms\n",
      "644:\tlearn: 0.0262402\ttotal: 376ms\tremaining: 207ms\n",
      "645:\tlearn: 0.0260943\ttotal: 376ms\tremaining: 206ms\n",
      "646:\tlearn: 0.0260251\ttotal: 377ms\tremaining: 205ms\n",
      "647:\tlearn: 0.0259239\ttotal: 377ms\tremaining: 205ms\n",
      "648:\tlearn: 0.0258000\ttotal: 377ms\tremaining: 204ms\n",
      "649:\tlearn: 0.0257329\ttotal: 378ms\tremaining: 203ms\n",
      "650:\tlearn: 0.0256505\ttotal: 378ms\tremaining: 203ms\n",
      "651:\tlearn: 0.0255466\ttotal: 379ms\tremaining: 202ms\n",
      "652:\tlearn: 0.0253880\ttotal: 379ms\tremaining: 201ms\n",
      "653:\tlearn: 0.0253104\ttotal: 380ms\tremaining: 201ms\n",
      "654:\tlearn: 0.0252978\ttotal: 380ms\tremaining: 200ms\n",
      "655:\tlearn: 0.0251972\ttotal: 381ms\tremaining: 200ms\n",
      "656:\tlearn: 0.0251404\ttotal: 381ms\tremaining: 199ms\n",
      "657:\tlearn: 0.0250217\ttotal: 381ms\tremaining: 198ms\n",
      "658:\tlearn: 0.0248690\ttotal: 382ms\tremaining: 198ms\n",
      "659:\tlearn: 0.0248453\ttotal: 382ms\tremaining: 197ms\n",
      "660:\tlearn: 0.0247297\ttotal: 383ms\tremaining: 196ms\n",
      "661:\tlearn: 0.0246652\ttotal: 383ms\tremaining: 196ms\n",
      "662:\tlearn: 0.0246090\ttotal: 384ms\tremaining: 195ms\n",
      "663:\tlearn: 0.0245460\ttotal: 384ms\tremaining: 194ms\n",
      "664:\tlearn: 0.0244912\ttotal: 384ms\tremaining: 194ms\n",
      "665:\tlearn: 0.0243610\ttotal: 385ms\tremaining: 193ms\n",
      "666:\tlearn: 0.0242998\ttotal: 385ms\tremaining: 192ms\n",
      "667:\tlearn: 0.0242748\ttotal: 386ms\tremaining: 192ms\n",
      "668:\tlearn: 0.0241719\ttotal: 386ms\tremaining: 191ms\n",
      "669:\tlearn: 0.0241184\ttotal: 387ms\tremaining: 191ms\n",
      "670:\tlearn: 0.0239899\ttotal: 387ms\tremaining: 190ms\n",
      "671:\tlearn: 0.0238971\ttotal: 388ms\tremaining: 189ms\n",
      "672:\tlearn: 0.0238424\ttotal: 388ms\tremaining: 189ms\n",
      "673:\tlearn: 0.0238050\ttotal: 389ms\tremaining: 188ms\n",
      "674:\tlearn: 0.0236777\ttotal: 389ms\tremaining: 187ms\n",
      "675:\tlearn: 0.0236184\ttotal: 390ms\tremaining: 187ms\n",
      "676:\tlearn: 0.0235567\ttotal: 390ms\tremaining: 186ms\n",
      "677:\tlearn: 0.0234145\ttotal: 391ms\tremaining: 186ms\n",
      "678:\tlearn: 0.0233568\ttotal: 391ms\tremaining: 185ms\n",
      "679:\tlearn: 0.0233355\ttotal: 392ms\tremaining: 184ms\n",
      "680:\tlearn: 0.0233145\ttotal: 392ms\tremaining: 184ms\n",
      "681:\tlearn: 0.0231762\ttotal: 393ms\tremaining: 183ms\n",
      "682:\tlearn: 0.0230850\ttotal: 393ms\tremaining: 182ms\n",
      "683:\tlearn: 0.0230287\ttotal: 394ms\tremaining: 182ms\n",
      "684:\tlearn: 0.0230081\ttotal: 394ms\tremaining: 181ms\n",
      "685:\tlearn: 0.0229187\ttotal: 395ms\tremaining: 181ms\n",
      "686:\tlearn: 0.0228188\ttotal: 395ms\tremaining: 180ms\n",
      "687:\tlearn: 0.0227987\ttotal: 396ms\tremaining: 179ms\n",
      "688:\tlearn: 0.0227440\ttotal: 396ms\tremaining: 179ms\n",
      "689:\tlearn: 0.0226953\ttotal: 397ms\tremaining: 178ms\n",
      "690:\tlearn: 0.0225629\ttotal: 397ms\tremaining: 178ms\n",
      "691:\tlearn: 0.0224756\ttotal: 398ms\tremaining: 177ms\n",
      "692:\tlearn: 0.0224224\ttotal: 398ms\tremaining: 176ms\n",
      "693:\tlearn: 0.0224004\ttotal: 399ms\tremaining: 176ms\n",
      "694:\tlearn: 0.0223072\ttotal: 399ms\tremaining: 175ms\n",
      "695:\tlearn: 0.0222878\ttotal: 399ms\tremaining: 174ms\n",
      "696:\tlearn: 0.0222687\ttotal: 400ms\tremaining: 174ms\n",
      "697:\tlearn: 0.0221366\ttotal: 400ms\tremaining: 173ms\n",
      "698:\tlearn: 0.0221180\ttotal: 401ms\tremaining: 172ms\n",
      "699:\tlearn: 0.0220270\ttotal: 401ms\tremaining: 172ms\n",
      "700:\tlearn: 0.0220087\ttotal: 401ms\tremaining: 171ms\n",
      "701:\tlearn: 0.0218801\ttotal: 402ms\tremaining: 171ms\n",
      "702:\tlearn: 0.0218599\ttotal: 402ms\tremaining: 170ms\n",
      "703:\tlearn: 0.0217713\ttotal: 403ms\tremaining: 169ms\n",
      "704:\tlearn: 0.0217535\ttotal: 403ms\tremaining: 169ms\n",
      "705:\tlearn: 0.0217323\ttotal: 404ms\tremaining: 168ms\n",
      "706:\tlearn: 0.0216071\ttotal: 404ms\tremaining: 167ms\n",
      "707:\tlearn: 0.0215206\ttotal: 404ms\tremaining: 167ms\n",
      "708:\tlearn: 0.0215034\ttotal: 405ms\tremaining: 166ms\n",
      "709:\tlearn: 0.0214865\ttotal: 405ms\tremaining: 166ms\n",
      "710:\tlearn: 0.0213964\ttotal: 406ms\tremaining: 165ms\n",
      "711:\tlearn: 0.0213775\ttotal: 406ms\tremaining: 164ms\n",
      "712:\tlearn: 0.0213590\ttotal: 407ms\tremaining: 164ms\n",
      "713:\tlearn: 0.0213427\ttotal: 407ms\tremaining: 163ms\n",
      "714:\tlearn: 0.0212217\ttotal: 408ms\tremaining: 162ms\n",
      "715:\tlearn: 0.0211379\ttotal: 408ms\tremaining: 162ms\n",
      "716:\tlearn: 0.0211229\ttotal: 408ms\tremaining: 161ms\n",
      "717:\tlearn: 0.0211081\ttotal: 409ms\tremaining: 161ms\n",
      "718:\tlearn: 0.0210935\ttotal: 409ms\tremaining: 160ms\n",
      "719:\tlearn: 0.0210111\ttotal: 410ms\tremaining: 159ms\n",
      "720:\tlearn: 0.0209971\ttotal: 410ms\tremaining: 159ms\n",
      "721:\tlearn: 0.0209660\ttotal: 411ms\tremaining: 158ms\n",
      "722:\tlearn: 0.0208804\ttotal: 411ms\tremaining: 157ms\n",
      "723:\tlearn: 0.0208501\ttotal: 411ms\tremaining: 157ms\n",
      "724:\tlearn: 0.0207146\ttotal: 412ms\tremaining: 156ms\n",
      "725:\tlearn: 0.0205992\ttotal: 412ms\tremaining: 156ms\n",
      "726:\tlearn: 0.0205356\ttotal: 413ms\tremaining: 155ms\n",
      "727:\tlearn: 0.0205060\ttotal: 413ms\tremaining: 154ms\n",
      "728:\tlearn: 0.0204328\ttotal: 414ms\tremaining: 154ms\n",
      "729:\tlearn: 0.0204037\ttotal: 414ms\tremaining: 153ms\n",
      "730:\tlearn: 0.0203318\ttotal: 415ms\tremaining: 153ms\n",
      "731:\tlearn: 0.0202509\ttotal: 415ms\tremaining: 152ms\n",
      "732:\tlearn: 0.0201821\ttotal: 416ms\tremaining: 151ms\n",
      "733:\tlearn: 0.0201040\ttotal: 416ms\tremaining: 151ms\n",
      "734:\tlearn: 0.0199965\ttotal: 417ms\tremaining: 150ms\n",
      "735:\tlearn: 0.0199204\ttotal: 418ms\tremaining: 150ms\n",
      "736:\tlearn: 0.0198801\ttotal: 418ms\tremaining: 149ms\n",
      "737:\tlearn: 0.0198408\ttotal: 419ms\tremaining: 149ms\n",
      "738:\tlearn: 0.0198260\ttotal: 419ms\tremaining: 148ms\n",
      "739:\tlearn: 0.0198133\ttotal: 420ms\tremaining: 147ms\n",
      "740:\tlearn: 0.0197387\ttotal: 420ms\tremaining: 147ms\n",
      "741:\tlearn: 0.0196419\ttotal: 420ms\tremaining: 146ms\n",
      "742:\tlearn: 0.0196275\ttotal: 421ms\tremaining: 146ms\n",
      "743:\tlearn: 0.0195610\ttotal: 421ms\tremaining: 145ms\n",
      "744:\tlearn: 0.0194844\ttotal: 423ms\tremaining: 145ms\n",
      "745:\tlearn: 0.0194194\ttotal: 423ms\tremaining: 144ms\n",
      "746:\tlearn: 0.0194055\ttotal: 423ms\tremaining: 143ms\n",
      "747:\tlearn: 0.0193408\ttotal: 424ms\tremaining: 143ms\n",
      "748:\tlearn: 0.0192686\ttotal: 424ms\tremaining: 142ms\n",
      "749:\tlearn: 0.0191639\ttotal: 425ms\tremaining: 142ms\n",
      "750:\tlearn: 0.0190937\ttotal: 425ms\tremaining: 141ms\n",
      "751:\tlearn: 0.0190199\ttotal: 426ms\tremaining: 140ms\n",
      "752:\tlearn: 0.0189748\ttotal: 426ms\tremaining: 140ms\n",
      "753:\tlearn: 0.0189307\ttotal: 427ms\tremaining: 139ms\n",
      "754:\tlearn: 0.0188687\ttotal: 427ms\tremaining: 139ms\n",
      "755:\tlearn: 0.0188003\ttotal: 428ms\tremaining: 138ms\n",
      "756:\tlearn: 0.0187134\ttotal: 428ms\tremaining: 137ms\n",
      "757:\tlearn: 0.0187000\ttotal: 429ms\tremaining: 137ms\n",
      "758:\tlearn: 0.0186004\ttotal: 430ms\tremaining: 137ms\n",
      "759:\tlearn: 0.0184917\ttotal: 430ms\tremaining: 136ms\n",
      "760:\tlearn: 0.0184382\ttotal: 431ms\tremaining: 135ms\n",
      "761:\tlearn: 0.0183963\ttotal: 431ms\tremaining: 135ms\n",
      "762:\tlearn: 0.0183359\ttotal: 432ms\tremaining: 134ms\n",
      "763:\tlearn: 0.0182765\ttotal: 432ms\tremaining: 134ms\n",
      "764:\tlearn: 0.0182173\ttotal: 433ms\tremaining: 133ms\n",
      "765:\tlearn: 0.0181172\ttotal: 433ms\tremaining: 132ms\n",
      "766:\tlearn: 0.0180139\ttotal: 433ms\tremaining: 132ms\n",
      "767:\tlearn: 0.0178976\ttotal: 434ms\tremaining: 131ms\n",
      "768:\tlearn: 0.0178402\ttotal: 434ms\tremaining: 130ms\n",
      "769:\tlearn: 0.0177265\ttotal: 435ms\tremaining: 130ms\n",
      "770:\tlearn: 0.0176703\ttotal: 435ms\tremaining: 129ms\n",
      "771:\tlearn: 0.0175777\ttotal: 436ms\tremaining: 129ms\n",
      "772:\tlearn: 0.0175227\ttotal: 436ms\tremaining: 128ms\n",
      "773:\tlearn: 0.0174657\ttotal: 436ms\tremaining: 127ms\n",
      "774:\tlearn: 0.0174143\ttotal: 437ms\tremaining: 127ms\n",
      "775:\tlearn: 0.0174017\ttotal: 437ms\tremaining: 126ms\n",
      "776:\tlearn: 0.0173010\ttotal: 438ms\tremaining: 126ms\n",
      "777:\tlearn: 0.0172887\ttotal: 438ms\tremaining: 125ms\n",
      "778:\tlearn: 0.0171906\ttotal: 438ms\tremaining: 124ms\n",
      "779:\tlearn: 0.0171299\ttotal: 439ms\tremaining: 124ms\n",
      "780:\tlearn: 0.0170706\ttotal: 439ms\tremaining: 123ms\n",
      "781:\tlearn: 0.0170144\ttotal: 440ms\tremaining: 123ms\n",
      "782:\tlearn: 0.0169573\ttotal: 440ms\tremaining: 122ms\n",
      "783:\tlearn: 0.0168365\ttotal: 441ms\tremaining: 121ms\n",
      "784:\tlearn: 0.0167188\ttotal: 441ms\tremaining: 121ms\n",
      "785:\tlearn: 0.0166671\ttotal: 442ms\tremaining: 120ms\n",
      "786:\tlearn: 0.0166084\ttotal: 442ms\tremaining: 120ms\n",
      "787:\tlearn: 0.0165246\ttotal: 443ms\tremaining: 119ms\n",
      "788:\tlearn: 0.0164731\ttotal: 443ms\tremaining: 119ms\n",
      "789:\tlearn: 0.0164225\ttotal: 444ms\tremaining: 118ms\n",
      "790:\tlearn: 0.0163728\ttotal: 444ms\tremaining: 117ms\n",
      "791:\tlearn: 0.0162921\ttotal: 444ms\tremaining: 117ms\n",
      "792:\tlearn: 0.0162435\ttotal: 445ms\tremaining: 116ms\n",
      "793:\tlearn: 0.0161862\ttotal: 445ms\tremaining: 116ms\n",
      "794:\tlearn: 0.0161399\ttotal: 446ms\tremaining: 115ms\n",
      "795:\tlearn: 0.0160894\ttotal: 446ms\tremaining: 114ms\n",
      "796:\tlearn: 0.0160271\ttotal: 447ms\tremaining: 114ms\n",
      "797:\tlearn: 0.0159888\ttotal: 447ms\tremaining: 113ms\n",
      "798:\tlearn: 0.0159490\ttotal: 447ms\tremaining: 113ms\n",
      "799:\tlearn: 0.0159124\ttotal: 448ms\tremaining: 112ms\n",
      "800:\tlearn: 0.0158688\ttotal: 448ms\tremaining: 111ms\n",
      "801:\tlearn: 0.0158261\ttotal: 449ms\tremaining: 111ms\n",
      "802:\tlearn: 0.0157663\ttotal: 450ms\tremaining: 110ms\n",
      "803:\tlearn: 0.0157133\ttotal: 450ms\tremaining: 110ms\n",
      "804:\tlearn: 0.0156784\ttotal: 451ms\tremaining: 109ms\n",
      "805:\tlearn: 0.0156034\ttotal: 451ms\tremaining: 109ms\n",
      "806:\tlearn: 0.0155619\ttotal: 452ms\tremaining: 108ms\n",
      "807:\tlearn: 0.0155050\ttotal: 453ms\tremaining: 108ms\n",
      "808:\tlearn: 0.0154545\ttotal: 453ms\tremaining: 107ms\n",
      "809:\tlearn: 0.0154067\ttotal: 453ms\tremaining: 106ms\n",
      "810:\tlearn: 0.0153221\ttotal: 454ms\tremaining: 106ms\n",
      "811:\tlearn: 0.0152504\ttotal: 454ms\tremaining: 105ms\n",
      "812:\tlearn: 0.0151804\ttotal: 455ms\tremaining: 105ms\n",
      "813:\tlearn: 0.0151331\ttotal: 455ms\tremaining: 104ms\n",
      "814:\tlearn: 0.0150648\ttotal: 455ms\tremaining: 103ms\n",
      "815:\tlearn: 0.0150186\ttotal: 456ms\tremaining: 103ms\n",
      "816:\tlearn: 0.0149520\ttotal: 457ms\tremaining: 102ms\n",
      "817:\tlearn: 0.0149068\ttotal: 457ms\tremaining: 102ms\n",
      "818:\tlearn: 0.0148253\ttotal: 457ms\tremaining: 101ms\n"
     ]
    },
    {
     "name": "stdout",
     "output_type": "stream",
     "text": [
      "819:\tlearn: 0.0147811\ttotal: 458ms\tremaining: 101ms\n",
      "820:\tlearn: 0.0147377\ttotal: 459ms\tremaining: 100ms\n",
      "821:\tlearn: 0.0146674\ttotal: 459ms\tremaining: 99.4ms\n",
      "822:\tlearn: 0.0146250\ttotal: 459ms\tremaining: 98.8ms\n",
      "823:\tlearn: 0.0145869\ttotal: 460ms\tremaining: 98.3ms\n",
      "824:\tlearn: 0.0145238\ttotal: 461ms\tremaining: 97.7ms\n",
      "825:\tlearn: 0.0144828\ttotal: 461ms\tremaining: 97.1ms\n",
      "826:\tlearn: 0.0144237\ttotal: 462ms\tremaining: 96.5ms\n",
      "827:\tlearn: 0.0143834\ttotal: 462ms\tremaining: 96ms\n",
      "828:\tlearn: 0.0143256\ttotal: 463ms\tremaining: 95.4ms\n",
      "829:\tlearn: 0.0142692\ttotal: 463ms\tremaining: 94.8ms\n",
      "830:\tlearn: 0.0142057\ttotal: 464ms\tremaining: 94.3ms\n",
      "831:\tlearn: 0.0141834\ttotal: 464ms\tremaining: 93.7ms\n",
      "832:\tlearn: 0.0141615\ttotal: 464ms\tremaining: 93.1ms\n",
      "833:\tlearn: 0.0141220\ttotal: 465ms\tremaining: 92.6ms\n",
      "834:\tlearn: 0.0140769\ttotal: 465ms\tremaining: 92ms\n",
      "835:\tlearn: 0.0140414\ttotal: 466ms\tremaining: 91.4ms\n",
      "836:\tlearn: 0.0140201\ttotal: 467ms\tremaining: 90.8ms\n",
      "837:\tlearn: 0.0139820\ttotal: 467ms\tremaining: 90.3ms\n",
      "838:\tlearn: 0.0139457\ttotal: 467ms\tremaining: 89.7ms\n",
      "839:\tlearn: 0.0139114\ttotal: 468ms\tremaining: 89.1ms\n",
      "840:\tlearn: 0.0138906\ttotal: 469ms\tremaining: 88.6ms\n",
      "841:\tlearn: 0.0138485\ttotal: 469ms\tremaining: 88ms\n",
      "842:\tlearn: 0.0138034\ttotal: 470ms\tremaining: 87.5ms\n",
      "843:\tlearn: 0.0137438\ttotal: 470ms\tremaining: 86.9ms\n",
      "844:\tlearn: 0.0137066\ttotal: 471ms\tremaining: 86.3ms\n",
      "845:\tlearn: 0.0136473\ttotal: 471ms\tremaining: 85.8ms\n",
      "846:\tlearn: 0.0136144\ttotal: 472ms\tremaining: 85.2ms\n",
      "847:\tlearn: 0.0135899\ttotal: 472ms\tremaining: 84.6ms\n",
      "848:\tlearn: 0.0135661\ttotal: 473ms\tremaining: 84ms\n",
      "849:\tlearn: 0.0135334\ttotal: 473ms\tremaining: 83.5ms\n",
      "850:\tlearn: 0.0135169\ttotal: 474ms\tremaining: 82.9ms\n",
      "851:\tlearn: 0.0134569\ttotal: 474ms\tremaining: 82.4ms\n",
      "852:\tlearn: 0.0134249\ttotal: 474ms\tremaining: 81.8ms\n",
      "853:\tlearn: 0.0134020\ttotal: 475ms\tremaining: 81.2ms\n",
      "854:\tlearn: 0.0133431\ttotal: 475ms\tremaining: 80.6ms\n",
      "855:\tlearn: 0.0133096\ttotal: 476ms\tremaining: 80.1ms\n",
      "856:\tlearn: 0.0132833\ttotal: 476ms\tremaining: 79.5ms\n",
      "857:\tlearn: 0.0132674\ttotal: 477ms\tremaining: 78.9ms\n",
      "858:\tlearn: 0.0132518\ttotal: 477ms\tremaining: 78.4ms\n",
      "859:\tlearn: 0.0131707\ttotal: 478ms\tremaining: 77.8ms\n",
      "860:\tlearn: 0.0131226\ttotal: 478ms\tremaining: 77.2ms\n",
      "861:\tlearn: 0.0130795\ttotal: 479ms\tremaining: 76.6ms\n",
      "862:\tlearn: 0.0130513\ttotal: 479ms\tremaining: 76.1ms\n",
      "863:\tlearn: 0.0129951\ttotal: 480ms\tremaining: 75.5ms\n",
      "864:\tlearn: 0.0129686\ttotal: 480ms\tremaining: 74.9ms\n",
      "865:\tlearn: 0.0129449\ttotal: 480ms\tremaining: 74.3ms\n",
      "866:\tlearn: 0.0128989\ttotal: 481ms\tremaining: 73.8ms\n",
      "867:\tlearn: 0.0128866\ttotal: 482ms\tremaining: 73.2ms\n",
      "868:\tlearn: 0.0128746\ttotal: 482ms\tremaining: 72.7ms\n",
      "869:\tlearn: 0.0128055\ttotal: 483ms\tremaining: 72.1ms\n",
      "870:\tlearn: 0.0127937\ttotal: 483ms\tremaining: 71.5ms\n",
      "871:\tlearn: 0.0127395\ttotal: 483ms\tremaining: 71ms\n",
      "872:\tlearn: 0.0127044\ttotal: 484ms\tremaining: 70.4ms\n",
      "873:\tlearn: 0.0126928\ttotal: 485ms\tremaining: 69.8ms\n",
      "874:\tlearn: 0.0126375\ttotal: 485ms\tremaining: 69.3ms\n",
      "875:\tlearn: 0.0125711\ttotal: 486ms\tremaining: 68.7ms\n",
      "876:\tlearn: 0.0125311\ttotal: 486ms\tremaining: 68.2ms\n",
      "877:\tlearn: 0.0125198\ttotal: 487ms\tremaining: 67.6ms\n",
      "878:\tlearn: 0.0125086\ttotal: 487ms\tremaining: 67ms\n",
      "879:\tlearn: 0.0124560\ttotal: 488ms\tremaining: 66.5ms\n",
      "880:\tlearn: 0.0124168\ttotal: 488ms\tremaining: 65.9ms\n",
      "881:\tlearn: 0.0124058\ttotal: 488ms\tremaining: 65.3ms\n",
      "882:\tlearn: 0.0123520\ttotal: 489ms\tremaining: 64.8ms\n",
      "883:\tlearn: 0.0122883\ttotal: 490ms\tremaining: 64.2ms\n",
      "884:\tlearn: 0.0122601\ttotal: 490ms\tremaining: 63.7ms\n",
      "885:\tlearn: 0.0122222\ttotal: 491ms\tremaining: 63.1ms\n",
      "886:\tlearn: 0.0122114\ttotal: 491ms\tremaining: 62.6ms\n",
      "887:\tlearn: 0.0121603\ttotal: 491ms\tremaining: 62ms\n",
      "888:\tlearn: 0.0121324\ttotal: 492ms\tremaining: 61.4ms\n",
      "889:\tlearn: 0.0121217\ttotal: 492ms\tremaining: 60.9ms\n",
      "890:\tlearn: 0.0120695\ttotal: 493ms\tremaining: 60.3ms\n",
      "891:\tlearn: 0.0120084\ttotal: 493ms\tremaining: 59.7ms\n",
      "892:\tlearn: 0.0119816\ttotal: 494ms\tremaining: 59.2ms\n",
      "893:\tlearn: 0.0119712\ttotal: 494ms\tremaining: 58.6ms\n",
      "894:\tlearn: 0.0119219\ttotal: 495ms\tremaining: 58ms\n",
      "895:\tlearn: 0.0118629\ttotal: 495ms\tremaining: 57.5ms\n",
      "896:\tlearn: 0.0118264\ttotal: 496ms\tremaining: 56.9ms\n",
      "897:\tlearn: 0.0117577\ttotal: 496ms\tremaining: 56.4ms\n",
      "898:\tlearn: 0.0117207\ttotal: 497ms\tremaining: 55.8ms\n",
      "899:\tlearn: 0.0117019\ttotal: 497ms\tremaining: 55.2ms\n",
      "900:\tlearn: 0.0116836\ttotal: 498ms\tremaining: 54.7ms\n",
      "901:\tlearn: 0.0116173\ttotal: 498ms\tremaining: 54.1ms\n",
      "902:\tlearn: 0.0115811\ttotal: 498ms\tremaining: 53.5ms\n",
      "903:\tlearn: 0.0115507\ttotal: 499ms\tremaining: 53ms\n",
      "904:\tlearn: 0.0115141\ttotal: 499ms\tremaining: 52.4ms\n",
      "905:\tlearn: 0.0114616\ttotal: 500ms\tremaining: 51.9ms\n",
      "906:\tlearn: 0.0114317\ttotal: 500ms\tremaining: 51.3ms\n",
      "907:\tlearn: 0.0113873\ttotal: 501ms\tremaining: 50.7ms\n",
      "908:\tlearn: 0.0113440\ttotal: 501ms\tremaining: 50.2ms\n",
      "909:\tlearn: 0.0113156\ttotal: 502ms\tremaining: 49.6ms\n",
      "910:\tlearn: 0.0112982\ttotal: 502ms\tremaining: 49.1ms\n",
      "911:\tlearn: 0.0112704\ttotal: 503ms\tremaining: 48.5ms\n",
      "912:\tlearn: 0.0112535\ttotal: 503ms\tremaining: 47.9ms\n",
      "913:\tlearn: 0.0112262\ttotal: 503ms\tremaining: 47.4ms\n",
      "914:\tlearn: 0.0111844\ttotal: 504ms\tremaining: 46.8ms\n",
      "915:\tlearn: 0.0111623\ttotal: 504ms\tremaining: 46.2ms\n",
      "916:\tlearn: 0.0111459\ttotal: 505ms\tremaining: 45.7ms\n",
      "917:\tlearn: 0.0111194\ttotal: 505ms\tremaining: 45.1ms\n",
      "918:\tlearn: 0.0110789\ttotal: 506ms\tremaining: 44.6ms\n",
      "919:\tlearn: 0.0110629\ttotal: 506ms\tremaining: 44ms\n",
      "920:\tlearn: 0.0110413\ttotal: 507ms\tremaining: 43.4ms\n",
      "921:\tlearn: 0.0110181\ttotal: 507ms\tremaining: 42.9ms\n",
      "922:\tlearn: 0.0110026\ttotal: 507ms\tremaining: 42.3ms\n",
      "923:\tlearn: 0.0109798\ttotal: 508ms\tremaining: 41.8ms\n",
      "924:\tlearn: 0.0109646\ttotal: 508ms\tremaining: 41.2ms\n",
      "925:\tlearn: 0.0109231\ttotal: 509ms\tremaining: 40.7ms\n",
      "926:\tlearn: 0.0109077\ttotal: 509ms\tremaining: 40.1ms\n",
      "927:\tlearn: 0.0108673\ttotal: 510ms\tremaining: 39.5ms\n",
      "928:\tlearn: 0.0108521\ttotal: 510ms\tremaining: 39ms\n",
      "929:\tlearn: 0.0108374\ttotal: 511ms\tremaining: 38.4ms\n",
      "930:\tlearn: 0.0108092\ttotal: 511ms\tremaining: 37.9ms\n",
      "931:\tlearn: 0.0107944\ttotal: 512ms\tremaining: 37.4ms\n",
      "932:\tlearn: 0.0107731\ttotal: 512ms\tremaining: 36.8ms\n",
      "933:\tlearn: 0.0107585\ttotal: 513ms\tremaining: 36.2ms\n",
      "934:\tlearn: 0.0107359\ttotal: 513ms\tremaining: 35.7ms\n",
      "935:\tlearn: 0.0106829\ttotal: 514ms\tremaining: 35.1ms\n",
      "936:\tlearn: 0.0106432\ttotal: 514ms\tremaining: 34.6ms\n",
      "937:\tlearn: 0.0106043\ttotal: 515ms\tremaining: 34ms\n",
      "938:\tlearn: 0.0105674\ttotal: 515ms\tremaining: 33.5ms\n",
      "939:\tlearn: 0.0105295\ttotal: 516ms\tremaining: 32.9ms\n",
      "940:\tlearn: 0.0104887\ttotal: 516ms\tremaining: 32.4ms\n",
      "941:\tlearn: 0.0104522\ttotal: 517ms\tremaining: 31.8ms\n",
      "942:\tlearn: 0.0104166\ttotal: 517ms\tremaining: 31.3ms\n",
      "943:\tlearn: 0.0103711\ttotal: 518ms\tremaining: 30.7ms\n",
      "944:\tlearn: 0.0103519\ttotal: 518ms\tremaining: 30.2ms\n",
      "945:\tlearn: 0.0103036\ttotal: 519ms\tremaining: 29.6ms\n",
      "946:\tlearn: 0.0102848\ttotal: 519ms\tremaining: 29ms\n",
      "947:\tlearn: 0.0102495\ttotal: 519ms\tremaining: 28.5ms\n",
      "948:\tlearn: 0.0102282\ttotal: 520ms\tremaining: 27.9ms\n",
      "949:\tlearn: 0.0101897\ttotal: 520ms\tremaining: 27.4ms\n",
      "950:\tlearn: 0.0101573\ttotal: 521ms\tremaining: 26.8ms\n",
      "951:\tlearn: 0.0101234\ttotal: 521ms\tremaining: 26.3ms\n",
      "952:\tlearn: 0.0100903\ttotal: 522ms\tremaining: 25.7ms\n",
      "953:\tlearn: 0.0100422\ttotal: 522ms\tremaining: 25.2ms\n",
      "954:\tlearn: 0.0100084\ttotal: 523ms\tremaining: 24.6ms\n",
      "955:\tlearn: 0.0099721\ttotal: 523ms\tremaining: 24.1ms\n",
      "956:\tlearn: 0.0099251\ttotal: 524ms\tremaining: 23.5ms\n",
      "957:\tlearn: 0.0099070\ttotal: 524ms\tremaining: 23ms\n",
      "958:\tlearn: 0.0098608\ttotal: 525ms\tremaining: 22.4ms\n",
      "959:\tlearn: 0.0098303\ttotal: 525ms\tremaining: 21.9ms\n",
      "960:\tlearn: 0.0097746\ttotal: 526ms\tremaining: 21.3ms\n",
      "961:\tlearn: 0.0097442\ttotal: 526ms\tremaining: 20.8ms\n",
      "962:\tlearn: 0.0096998\ttotal: 527ms\tremaining: 20.2ms\n",
      "963:\tlearn: 0.0096702\ttotal: 527ms\tremaining: 19.7ms\n",
      "964:\tlearn: 0.0096442\ttotal: 528ms\tremaining: 19.1ms\n",
      "965:\tlearn: 0.0096007\ttotal: 528ms\tremaining: 18.6ms\n",
      "966:\tlearn: 0.0095745\ttotal: 529ms\tremaining: 18ms\n",
      "967:\tlearn: 0.0095207\ttotal: 529ms\tremaining: 17.5ms\n",
      "968:\tlearn: 0.0094668\ttotal: 530ms\tremaining: 16.9ms\n",
      "969:\tlearn: 0.0094412\ttotal: 530ms\tremaining: 16.4ms\n",
      "970:\tlearn: 0.0094144\ttotal: 531ms\tremaining: 15.9ms\n",
      "971:\tlearn: 0.0093727\ttotal: 531ms\tremaining: 15.3ms\n",
      "972:\tlearn: 0.0093316\ttotal: 532ms\tremaining: 14.8ms\n",
      "973:\tlearn: 0.0092800\ttotal: 532ms\tremaining: 14.2ms\n",
      "974:\tlearn: 0.0092544\ttotal: 533ms\tremaining: 13.7ms\n",
      "975:\tlearn: 0.0092293\ttotal: 533ms\tremaining: 13.1ms\n",
      "976:\tlearn: 0.0091943\ttotal: 533ms\tremaining: 12.6ms\n",
      "977:\tlearn: 0.0091698\ttotal: 534ms\tremaining: 12ms\n",
      "978:\tlearn: 0.0091444\ttotal: 534ms\tremaining: 11.5ms\n",
      "979:\tlearn: 0.0091193\ttotal: 535ms\tremaining: 10.9ms\n",
      "980:\tlearn: 0.0090860\ttotal: 535ms\tremaining: 10.4ms\n"
     ]
    },
    {
     "name": "stdout",
     "output_type": "stream",
     "text": [
      "981:\tlearn: 0.0090619\ttotal: 536ms\tremaining: 9.82ms\n",
      "982:\tlearn: 0.0090372\ttotal: 537ms\tremaining: 9.28ms\n",
      "983:\tlearn: 0.0090104\ttotal: 537ms\tremaining: 8.73ms\n",
      "984:\tlearn: 0.0089776\ttotal: 538ms\tremaining: 8.19ms\n",
      "985:\tlearn: 0.0089619\ttotal: 538ms\tremaining: 7.64ms\n",
      "986:\tlearn: 0.0089379\ttotal: 538ms\tremaining: 7.09ms\n",
      "987:\tlearn: 0.0089144\ttotal: 539ms\tremaining: 6.54ms\n",
      "988:\tlearn: 0.0088904\ttotal: 539ms\tremaining: 6ms\n",
      "989:\tlearn: 0.0088669\ttotal: 540ms\tremaining: 5.45ms\n",
      "990:\tlearn: 0.0088161\ttotal: 540ms\tremaining: 4.9ms\n",
      "991:\tlearn: 0.0087901\ttotal: 540ms\tremaining: 4.36ms\n",
      "992:\tlearn: 0.0087744\ttotal: 541ms\tremaining: 3.81ms\n",
      "993:\tlearn: 0.0087512\ttotal: 541ms\tremaining: 3.27ms\n",
      "994:\tlearn: 0.0087021\ttotal: 542ms\tremaining: 2.72ms\n",
      "995:\tlearn: 0.0086769\ttotal: 542ms\tremaining: 2.18ms\n",
      "996:\tlearn: 0.0086542\ttotal: 542ms\tremaining: 1.63ms\n",
      "997:\tlearn: 0.0086314\ttotal: 543ms\tremaining: 1.09ms\n",
      "998:\tlearn: 0.0086087\ttotal: 543ms\tremaining: 543us\n",
      "999:\tlearn: 0.0085940\ttotal: 544ms\tremaining: 0us\n"
     ]
    },
    {
     "data": {
      "text/plain": [
       "<catboost.core.CatBoostRegressor at 0x7f99a98b82b0>"
      ]
     },
     "execution_count": 9,
     "metadata": {},
     "output_type": "execute_result"
    }
   ],
   "source": [
    "#Train the Model \n",
    "prior_model = ctb.CatBoostRegressor()\n",
    "prior_model.fit(X_train,Y_train)"
   ]
  },
  {
   "cell_type": "code",
   "execution_count": 10,
   "id": "af65dcda",
   "metadata": {
    "execution": {
     "iopub.execute_input": "2022-03-08T20:34:19.786386Z",
     "iopub.status.busy": "2022-03-08T20:34:19.785240Z",
     "iopub.status.idle": "2022-03-08T20:34:19.794356Z",
     "shell.execute_reply": "2022-03-08T20:34:19.795289Z"
    },
    "id": "af65dcda",
    "papermill": {
     "duration": 0.029572,
     "end_time": "2022-03-08T20:34:19.795599",
     "exception": false,
     "start_time": "2022-03-08T20:34:19.766027",
     "status": "completed"
    },
    "tags": []
   },
   "outputs": [
    {
     "data": {
      "application/scrapbook.scrap.json+json": {
       "data": 0.17284813986137645,
       "encoder": "json",
       "name": "Prior Model MSE",
       "version": 1
      }
     },
     "metadata": {
      "scrapbook": {
       "data": true,
       "display": false,
       "name": "Prior Model MSE"
      }
     },
     "output_type": "display_data"
    },
    {
     "data": {
      "application/scrapbook.scrap.json+json": {
       "data": 0.5864440738690752,
       "encoder": "json",
       "name": "ABC Pre-generator MSE",
       "version": 1
      }
     },
     "metadata": {
      "scrapbook": {
       "data": true,
       "display": false,
       "name": "ABC Pre-generator MSE"
      }
     },
     "output_type": "display_data"
    },
    {
     "data": {
      "application/scrapbook.scrap.json+json": {
       "data": 0.29862013201471765,
       "encoder": "json",
       "name": "Prior Model MSE",
       "version": 1
      }
     },
     "metadata": {
      "scrapbook": {
       "data": true,
       "display": false,
       "name": "Prior Model MSE"
      }
     },
     "output_type": "display_data"
    },
    {
     "data": {
      "application/scrapbook.scrap.json+json": {
       "data": 0.623906012961349,
       "encoder": "json",
       "name": "ABC Pre-generator MSE",
       "version": 1
      }
     },
     "metadata": {
      "scrapbook": {
       "data": true,
       "display": false,
       "name": "ABC Pre-generator MSE"
      }
     },
     "output_type": "display_data"
    }
   ],
   "source": [
    "y_pred = prior_model.predict(X_test)\n",
    "y_abc = y_pred + np.random.normal(0,variance, y_pred.shape) + bias \n",
    "mse = mean_squared_error(y_pred,Y_test)\n",
    "sb.glue(\"Prior Model MSE\",mse)\n",
    "mse = mean_squared_error(y_abc,Y_test)\n",
    "sb.glue(\"ABC Pre-generator MSE\",mse)\n",
    "mae = mean_absolute_error(y_pred,Y_test)\n",
    "sb.glue(\"Prior Model MSE\",mae)\n",
    "mae = mean_absolute_error(y_abc,Y_test)\n",
    "sb.glue(\"ABC Pre-generator MSE\",mae)"
   ]
  },
  {
   "cell_type": "markdown",
   "id": "25609da2",
   "metadata": {
    "papermill": {
     "duration": 0.00948,
     "end_time": "2022-03-08T20:34:19.816692",
     "exception": false,
     "start_time": "2022-03-08T20:34:19.807212",
     "status": "completed"
    },
    "tags": []
   },
   "source": [
    "# ABC GAN Model"
   ]
  },
  {
   "cell_type": "code",
   "execution_count": 11,
   "id": "dfc3464d",
   "metadata": {
    "execution": {
     "iopub.execute_input": "2022-03-08T20:34:19.839289Z",
     "iopub.status.busy": "2022-03-08T20:34:19.838905Z",
     "iopub.status.idle": "2022-03-08T20:34:19.841421Z",
     "shell.execute_reply": "2022-03-08T20:34:19.841681Z"
    },
    "papermill": {
     "duration": 0.015638,
     "end_time": "2022-03-08T20:34:19.841810",
     "exception": false,
     "start_time": "2022-03-08T20:34:19.826172",
     "status": "completed"
    },
    "tags": []
   },
   "outputs": [],
   "source": [
    "gen = network.Generator(n_features+1).to(device)\n",
    "disc = network.Discriminator(n_features+1).to(device)\n",
    "\n",
    "criterion = torch.nn.BCELoss()\n",
    "gen_opt = torch.optim.Adam(gen.parameters(), lr=0.001, betas=(0.5, 0.999))\n",
    "disc_opt = torch.optim.Adam(disc.parameters(), lr=0.001, betas=(0.5, 0.999))"
   ]
  },
  {
   "cell_type": "code",
   "execution_count": 12,
   "id": "b75fdd85",
   "metadata": {
    "execution": {
     "iopub.execute_input": "2022-03-08T20:34:19.863211Z",
     "iopub.status.busy": "2022-03-08T20:34:19.862837Z",
     "iopub.status.idle": "2022-03-08T20:34:33.274319Z",
     "shell.execute_reply": "2022-03-08T20:34:33.274723Z"
    },
    "papermill": {
     "duration": 13.4233,
     "end_time": "2022-03-08T20:34:33.274847",
     "exception": false,
     "start_time": "2022-03-08T20:34:19.851547",
     "status": "completed"
    },
    "tags": []
   },
   "outputs": [
    {
     "data": {
      "image/png": "[encoded data removed]",
      "text/plain": [
       "<Figure size 432x288 with 1 Axes>"
      ]
     },
     "metadata": {
      "needs_background": "light"
     },
     "output_type": "display_data"
    },
    {
     "data": {
      "image/png": "[encoded data removed]",
      "text/plain": [
       "<Figure size 432x288 with 1 Axes>"
      ]
     },
     "metadata": {
      "needs_background": "light"
     },
     "output_type": "display_data"
    }
   ],
   "source": [
    "#Training the ABC_GAN \n",
    "ABC_train_test2.training_GAN(disc,gen,disc_opt,gen_opt,train_data,batch_size,n_epochs,criterion,prior_model,variance,bias,device)"
   ]
  },
  {
   "cell_type": "code",
   "execution_count": 13,
   "id": "1fa7c368",
   "metadata": {
    "execution": {
     "iopub.execute_input": "2022-03-08T20:34:33.298933Z",
     "iopub.status.busy": "2022-03-08T20:34:33.298550Z",
     "iopub.status.idle": "2022-03-08T20:34:33.468710Z",
     "shell.execute_reply": "2022-03-08T20:34:33.469026Z"
    },
    "papermill": {
     "duration": 0.183193,
     "end_time": "2022-03-08T20:34:33.469149",
     "exception": false,
     "start_time": "2022-03-08T20:34:33.285956",
     "status": "completed"
    },
    "tags": []
   },
   "outputs": [
    {
     "data": {
      "application/scrapbook.scrap.json+json": {
       "data": 0.06909475267707951,
       "encoder": "json",
       "name": "ABC-GAN Model 1 MSE",
       "version": 1
      }
     },
     "metadata": {
      "scrapbook": {
       "data": true,
       "display": false,
       "name": "ABC-GAN Model 1 MSE"
      }
     },
     "output_type": "display_data"
    },
    {
     "data": {
      "application/scrapbook.scrap.json+json": {
       "data": 0.21803927075117827,
       "encoder": "json",
       "name": "ABC-GAN Model 1 MAE",
       "version": 1
      }
     },
     "metadata": {
      "scrapbook": {
       "data": true,
       "display": false,
       "name": "ABC-GAN Model 1 MAE"
      }
     },
     "output_type": "display_data"
    },
    {
     "data": {
      "application/scrapbook.scrap.json+json": {
       "data": 4.360785415023566,
       "encoder": "json",
       "name": "ABC-GAN Model 1 Manhattan Distance",
       "version": 1
      }
     },
     "metadata": {
      "scrapbook": {
       "data": true,
       "display": false,
       "name": "ABC-GAN Model 1 Manhattan Distance"
      }
     },
     "output_type": "display_data"
    },
    {
     "data": {
      "application/scrapbook.scrap.json+json": {
       "data": 1.174776187440274,
       "encoder": "json",
       "name": "ABC-GAN Model 1 Euclidean distance",
       "version": 1
      }
     },
     "metadata": {
      "scrapbook": {
       "data": true,
       "display": false,
       "name": "ABC-GAN Model 1 Euclidean distance"
      }
     },
     "output_type": "display_data"
    },
    {
     "data": {
      "application/scrapbook.scrap.json+json": {
       "data": [
        [
         0.07545328726853243,
         0.07678937905269302,
         0.06374812866963395,
         0.05993856654822168,
         0.06629611480201972,
         0.06216976313852629,
         0.06442464230675476,
         0.07558068975404042,
         0.06776016076230139,
         0.0704333521895708,
         0.07052077554024562,
         0.06962614658023283,
         0.0566416809420518,
         0.06497550082053448,
         0.0771753970771968,
         0.07452514882010991,
         0.0680963239292025,
         0.0731936241409292,
         0.06789673236756474,
         0.07137485665314988,
         0.06644032759342619,
         0.07477859454124068,
         0.07166676043189475,
         0.0719617557012456,
         0.06692446544474218,
         0.07367384644173061,
         0.07154299698216321,
         0.06728649372435483,
         0.07040276217335027,
         0.066711252562244,
         0.07198198765869832,
         0.06958772009244878,
         0.07362122235252652,
         0.07828376964121112,
         0.06958821556655644,
         0.0649677240975904,
         0.06578124725469141,
         0.06366544466092118,
         0.06988243696530941,
         0.07297882073144515,
         0.06924081427306025,
         0.06829374606416524,
         0.06935999470605905,
         0.07560852456457247,
         0.06735562569575763,
         0.0735124325817407,
         0.06986416324692533,
         0.06692990278901914,
         0.07046098073554695,
         0.07207591627951793,
         0.06117755015395001,
         0.0653320228718767,
         0.06668044268051605,
         0.06711413528786055,
         0.06507295046598836,
         0.07188234373888984,
         0.06174390962940344,
         0.07588440930293461,
         0.06391815387473938,
         0.06221588219867994,
         0.073382580658007,
         0.0802594688390459,
         0.07094321894705857,
         0.06915460792102923,
         0.07702905489816743,
         0.06074359570406675,
         0.06691446065623,
         0.06262258899075256,
         0.071108000352349,
         0.06703817182457183,
         0.06040351576708784,
         0.06777691426546215,
         0.062173909276031225,
         0.06885758403320051,
         0.06224679147150677,
         0.062070584872939386,
         0.07738748927164253,
         0.06390075850433022,
         0.06973039633822647,
         0.06632834361725336,
         0.061398118311513296,
         0.07295958777360585,
         0.07015908689034236,
         0.07356701910117294,
         0.06320512018136244,
         0.07044129855061215,
         0.07437921621372853,
         0.07522669107956668,
         0.06765747923512856,
         0.07807973048444763,
         0.07342799337687304,
         0.06327692335682514,
         0.06472299079308931,
         0.0749921163456454,
         0.06822403906074091,
         0.06405837705326287,
         0.07317725577285344,
         0.07118394754451636,
         0.0681110096234709,
         0.07908321362772745
        ],
        [
         0.2340290479362011,
         0.22838982120156287,
         0.2146448127925396,
         0.199281258136034,
         0.21611020490527152,
         0.19938671737909316,
         0.21289211735129357,
         0.22676685452461243,
         0.2164866290986538,
         0.22383575215935708,
         0.22420214042067527,
         0.2267274960875511,
         0.1899077221751213,
         0.20674892738461495,
         0.23361453041434288,
         0.22669592276215553,
         0.2131563052535057,
         0.22145752757787704,
         0.21675383672118187,
         0.22274508476257324,
         0.2120036967098713,
         0.23589690998196602,
         0.22168677002191545,
         0.22708498314023018,
         0.20994757115840912,
         0.22310482040047647,
         0.2241397760808468,
         0.20977452099323274,
         0.22906532362103463,
         0.22015562206506728,
         0.22945890948176384,
         0.2152244493365288,
         0.22171857804059983,
         0.23254335671663284,
         0.2209104746580124,
         0.20586379766464233,
         0.21876409351825715,
         0.21351070031523706,
         0.22434230521321297,
         0.2345395278185606,
         0.21851267516613007,
         0.2176433600485325,
         0.22270821556448936,
         0.2218869723379612,
         0.21037696301937103,
         0.22703647315502168,
         0.22192344889044763,
         0.2129634588956833,
         0.2226773850619793,
         0.22969406247138976,
         0.20074206888675689,
         0.20925900116562843,
         0.21565127819776536,
         0.21670542657375336,
         0.20595725551247596,
         0.22864362299442292,
         0.19705525189638137,
         0.21767786890268326,
         0.20417381674051285,
         0.19932436123490332,
         0.2253031462430954,
         0.22633516266942025,
         0.22384528517723085,
         0.22423706948757172,
         0.22737047225236892,
         0.19818806424736976,
         0.21648226380348207,
         0.21191443577408792,
         0.22305550500750543,
         0.21194138377904892,
         0.19614255130290986,
         0.21883914917707442,
         0.20536400862038134,
         0.2174847237765789,
         0.20983070619404315,
         0.20410483703017235,
         0.23300259336829185,
         0.2107138492166996,
         0.21758811697363853,
         0.21689314022660255,
         0.21019429117441177,
         0.22174277901649475,
         0.21525614857673644,
         0.2291045870631933,
         0.20874140709638594,
         0.22438024803996087,
         0.22745045647025108,
         0.23582122400403022,
         0.21953785941004753,
         0.23134668916463852,
         0.22015013694763183,
         0.20555285289883612,
         0.20655117109417914,
         0.22501784414052964,
         0.21942464932799338,
         0.2159196726977825,
         0.21757151260972024,
         0.21309260725975038,
         0.21817126125097275,
         0.23608134984970092
        ],
        [
         4.680580958724022,
         4.567796424031258,
         4.292896255850792,
         3.9856251627206802,
         4.322204098105431,
         3.9877343475818634,
         4.257842347025871,
         4.5353370904922485,
         4.329732581973076,
         4.476715043187141,
         4.4840428084135056,
         4.534549921751022,
         3.798154443502426,
         4.134978547692299,
         4.672290608286858,
         4.533918455243111,
         4.263126105070114,
         4.429150551557541,
         4.335076734423637,
         4.454901695251465,
         4.240073934197426,
         4.71793819963932,
         4.433735400438309,
         4.541699662804604,
         4.198951423168182,
         4.462096408009529,
         4.482795521616936,
         4.1954904198646545,
         4.581306472420692,
         4.403112441301346,
         4.589178189635277,
         4.304488986730576,
         4.4343715608119965,
         4.650867134332657,
         4.418209493160248,
         4.117275953292847,
         4.375281870365143,
         4.270214006304741,
         4.486846104264259,
         4.690790556371212,
         4.370253503322601,
         4.35286720097065,
         4.454164311289787,
         4.437739446759224,
         4.207539260387421,
         4.540729463100433,
         4.438468977808952,
         4.259269177913666,
         4.453547701239586,
         4.593881249427795,
         4.014841377735138,
         4.185180023312569,
         4.313025563955307,
         4.334108531475067,
         4.119145110249519,
         4.572872459888458,
         3.9411050379276276,
         4.353557378053665,
         4.083476334810257,
         3.9864872246980667,
         4.506062924861908,
         4.526703253388405,
         4.476905703544617,
         4.484741389751434,
         4.5474094450473785,
         3.9637612849473953,
         4.329645276069641,
         4.238288715481758,
         4.461110100150108,
         4.238827675580978,
         3.922851026058197,
         4.376782983541489,
         4.107280172407627,
         4.349694475531578,
         4.196614123880863,
         4.082096740603447,
         4.660051867365837,
         4.214276984333992,
         4.351762339472771,
         4.337862804532051,
         4.2038858234882355,
         4.434855580329895,
         4.305122971534729,
         4.582091741263866,
         4.174828141927719,
         4.487604960799217,
         4.549009129405022,
         4.7164244800806046,
         4.390757188200951,
         4.62693378329277,
         4.403002738952637,
         4.111057057976723,
         4.131023421883583,
         4.500356882810593,
         4.388492986559868,
         4.31839345395565,
         4.351430252194405,
         4.261852145195007,
         4.363425225019455,
         4.7216269969940186
        ],
        [
         1.228440371109094,
         1.2392689704232331,
         1.1291424061617201,
         1.0948841632631434,
         1.1514869934308396,
         1.1150763484042363,
         1.1351179877594644,
         1.2294770412987825,
         1.1641319578321128,
         1.1868728001733868,
         1.1876091574271868,
         1.1800520885133234,
         1.0643465689525362,
         1.1399605328302773,
         1.2423799505561637,
         1.2208615713512316,
         1.1670160575519302,
         1.2099059809830615,
         1.1653045298767593,
         1.1947791147584552,
         1.152738717953259,
         1.2229357672522354,
         1.1972197829295568,
         1.199681255177771,
         1.1569309870925073,
         1.2138685797213027,
         1.196185579098521,
         1.1600559790316571,
         1.1866150359181387,
         1.155086599024021,
         1.199849887766785,
         1.179726409744639,
         1.213434978501333,
         1.2512695124649293,
         1.179730609644053,
         1.1398923115592139,
         1.1470069507609046,
         1.1284098959236504,
         1.1822219501033586,
         1.2081293037704628,
         1.1767821741771947,
         1.168706516317636,
         1.1777945041989206,
         1.22970341598755,
         1.160651762552038,
         1.2125381031682319,
         1.182067369035499,
         1.1569779841381524,
         1.1871055617386934,
         1.2006324689888903,
         1.1061423972884323,
         1.143083749091699,
         1.1548198359962134,
         1.1585692494439903,
         1.1408150635925909,
         1.1990191302801623,
         1.111250733447708,
         1.231944879472573,
         1.1306471940861074,
         1.1154898672662155,
         1.2114667197905769,
         1.2669606847810702,
         1.1911609374644434,
         1.1760493860466,
         1.2412014735583214,
         1.1022122817685054,
         1.1568445068913107,
         1.1191299208827594,
         1.1925435032094134,
         1.1579133976647116,
         1.0991225206235002,
         1.1642758630622052,
         1.115113530328022,
         1.173521061022771,
         1.1157669243305859,
         1.1141865631297065,
         1.2440859236535275,
         1.1304933304034148,
         1.180935191602202,
         1.1517668480838763,
         1.108134633620963,
         1.2079700970935154,
         1.1845597231912146,
         1.21298820357968,
         1.1243230868514835,
         1.1869397503716197,
         1.2196656608573395,
         1.2265943997880202,
         1.163249579713043,
         1.2496377913975523,
         1.2118415191506937,
         1.1249615402921571,
         1.1377432996338788,
         1.2246804999316794,
         1.1681099182931451,
         1.1318867174170997,
         1.2097706871374712,
         1.1931801837485934,
         1.1671418904612318,
         1.2576423468357565
        ]
       ],
       "encoder": "json",
       "name": "ABC_GAN_1 Metrics",
       "version": 1
      }
     },
     "metadata": {
      "scrapbook": {
       "data": true,
       "display": false,
       "name": "ABC_GAN_1 Metrics"
      }
     },
     "output_type": "display_data"
    },
    {
     "name": "stdout",
     "output_type": "stream",
     "text": [
      "MSE\n",
      "0.06909475267707951\n"
     ]
    }
   ],
   "source": [
    "ABC_GAN1_metrics=ABC_train_test2.test_generator(gen,test_data,prior_model,variance,bias,\"1\",device)\n",
    "sb.glue(\"ABC_GAN_1 Metrics\",ABC_GAN1_metrics)\n",
    "\n",
    "print(\"MSE\")\n",
    "print(mean(ABC_GAN1_metrics[0]))"
   ]
  },
  {
   "cell_type": "code",
   "execution_count": 14,
   "id": "eb22ce5c",
   "metadata": {
    "execution": {
     "iopub.execute_input": "2022-03-08T20:34:33.495735Z",
     "iopub.status.busy": "2022-03-08T20:34:33.495378Z",
     "iopub.status.idle": "2022-03-08T20:34:33.790013Z",
     "shell.execute_reply": "2022-03-08T20:34:33.790256Z"
    },
    "papermill": {
     "duration": 0.308832,
     "end_time": "2022-03-08T20:34:33.790379",
     "exception": false,
     "start_time": "2022-03-08T20:34:33.481547",
     "status": "completed"
    },
    "tags": []
   },
   "outputs": [
    {
     "data": {
      "image/png": "[encoded data removed]",
      "text/plain": [
       "<Figure size 432x288 with 1 Axes>"
      ]
     },
     "metadata": {
      "needs_background": "light"
     },
     "output_type": "display_data"
    },
    {
     "data": {
      "image/png": "[encoded data removed]",
      "text/plain": [
       "<Figure size 432x288 with 1 Axes>"
      ]
     },
     "metadata": {
      "needs_background": "light"
     },
     "output_type": "display_data"
    },
    {
     "data": {
      "image/png": "[encoded data removed]",
      "text/plain": [
       "<Figure size 432x288 with 1 Axes>"
      ]
     },
     "metadata": {
      "needs_background": "light"
     },
     "output_type": "display_data"
    },
    {
     "data": {
      "image/png": "[encoded data removed]",
      "text/plain": [
       "<Figure size 432x288 with 1 Axes>"
      ]
     },
     "metadata": {
      "needs_background": "light"
     },
     "output_type": "display_data"
    }
   ],
   "source": [
    "sanityChecks.discProbVsError(train_data,disc,device)\n",
    "sanityChecks.discProbVsError(test_data,disc,device)"
   ]
  },
  {
   "cell_type": "markdown",
   "id": "130f3a4d",
   "metadata": {
    "id": "130f3a4d",
    "papermill": {
     "duration": 0.035565,
     "end_time": "2022-03-08T20:34:33.840475",
     "exception": false,
     "start_time": "2022-03-08T20:34:33.804910",
     "status": "completed"
    },
    "tags": []
   },
   "source": [
    "# ABC - GAN Model with skip connection"
   ]
  },
  {
   "cell_type": "code",
   "execution_count": 15,
   "id": "4e43dad1",
   "metadata": {
    "execution": {
     "iopub.execute_input": "2022-03-08T20:34:33.872171Z",
     "iopub.status.busy": "2022-03-08T20:34:33.871798Z",
     "iopub.status.idle": "2022-03-08T20:34:33.874233Z",
     "shell.execute_reply": "2022-03-08T20:34:33.874480Z"
    },
    "id": "4e43dad1",
    "papermill": {
     "duration": 0.019718,
     "end_time": "2022-03-08T20:34:33.874594",
     "exception": false,
     "start_time": "2022-03-08T20:34:33.854876",
     "status": "completed"
    },
    "tags": []
   },
   "outputs": [],
   "source": [
    "#Generator\n",
    "gen3 = network.GeneratorWithSkipConnection(n_features+1).to(device)\n",
    "constraints=network.weightConstraint()\n",
    "#Discriminator \n",
    "disc3 = network.Discriminator(n_features+1).to(device)\n",
    "\n",
    "criterion = torch.nn.BCELoss()\n",
    "gen_opt = torch.optim.Adam(gen3.parameters(), lr=0.001, betas=(0.5, 0.999))\n",
    "disc_opt = torch.optim.Adam(disc3.parameters(), lr=0.001, betas=(0.5, 0.999))\n"
   ]
  },
  {
   "cell_type": "code",
   "execution_count": 16,
   "id": "26acbc37",
   "metadata": {
    "execution": {
     "iopub.execute_input": "2022-03-08T20:34:33.905457Z",
     "iopub.status.busy": "2022-03-08T20:34:33.905077Z",
     "iopub.status.idle": "2022-03-08T20:35:10.203282Z",
     "shell.execute_reply": "2022-03-08T20:35:10.203593Z"
    },
    "id": "26acbc37",
    "papermill": {
     "duration": 36.314828,
     "end_time": "2022-03-08T20:35:10.203719",
     "exception": false,
     "start_time": "2022-03-08T20:34:33.888891",
     "status": "completed"
    },
    "tags": []
   },
   "outputs": [
    {
     "data": {
      "image/png": "[encoded data removed]",
      "text/plain": [
       "<Figure size 432x288 with 1 Axes>"
      ]
     },
     "metadata": {
      "needs_background": "light"
     },
     "output_type": "display_data"
    },
    {
     "data": {
      "image/png": "[encoded data removed]",
      "text/plain": [
       "<Figure size 432x288 with 1 Axes>"
      ]
     },
     "metadata": {
      "needs_background": "light"
     },
     "output_type": "display_data"
    }
   ],
   "source": [
    "ABC_train_test2.training_GAN_skip_connection(disc3,gen3,disc_opt,gen_opt,train_data,batch_size,n_epochs,criterion,prior_model,variance,bias,device)"
   ]
  },
  {
   "cell_type": "code",
   "execution_count": 17,
   "id": "c5e0717b",
   "metadata": {
    "execution": {
     "iopub.execute_input": "2022-03-08T20:35:10.237028Z",
     "iopub.status.busy": "2022-03-08T20:35:10.236650Z",
     "iopub.status.idle": "2022-03-08T20:35:10.512674Z",
     "shell.execute_reply": "2022-03-08T20:35:10.512977Z"
    },
    "id": "c5e0717b",
    "papermill": {
     "duration": 0.293772,
     "end_time": "2022-03-08T20:35:10.513100",
     "exception": false,
     "start_time": "2022-03-08T20:35:10.219328",
     "status": "completed"
    },
    "tags": []
   },
   "outputs": [
    {
     "data": {
      "application/scrapbook.scrap.json+json": {
       "data": 0.03333013379648119,
       "encoder": "json",
       "name": "ABC-GAN Model 3 MSE",
       "version": 1
      }
     },
     "metadata": {
      "scrapbook": {
       "data": true,
       "display": false,
       "name": "ABC-GAN Model 3 MSE"
      }
     },
     "output_type": "display_data"
    },
    {
     "data": {
      "application/scrapbook.scrap.json+json": {
       "data": 0.15271722672879695,
       "encoder": "json",
       "name": "ABC-GAN Model 3 MAE",
       "version": 1
      }
     },
     "metadata": {
      "scrapbook": {
       "data": true,
       "display": false,
       "name": "ABC-GAN Model 3 MAE"
      }
     },
     "output_type": "display_data"
    },
    {
     "data": {
      "application/scrapbook.scrap.json+json": {
       "data": 3.054344534575939,
       "encoder": "json",
       "name": "ABC-GAN Model 3 Manhattan Distance",
       "version": 1
      }
     },
     "metadata": {
      "scrapbook": {
       "data": true,
       "display": false,
       "name": "ABC-GAN Model 3 Manhattan Distance"
      }
     },
     "output_type": "display_data"
    },
    {
     "data": {
      "application/scrapbook.scrap.json+json": {
       "data": 0.8141997044897141,
       "encoder": "json",
       "name": "ABC-GAN Model 3 Euclidean distance",
       "version": 1
      }
     },
     "metadata": {
      "scrapbook": {
       "data": true,
       "display": false,
       "name": "ABC-GAN Model 3 Euclidean distance"
      }
     },
     "output_type": "display_data"
    },
    {
     "data": {
      "application/scrapbook.scrap.json+json": {
       "data": [
        [
         0.03427197587798754,
         0.03262805133731446,
         0.0321793298453947,
         0.03204516066338283,
         0.041935027186931303,
         0.026249661077911456,
         0.03608351242930784,
         0.025433088505094015,
         0.03838233168484799,
         0.04210253530320346,
         0.0291563290514426,
         0.026759412985198516,
         0.03197123685213584,
         0.04156038222302179,
         0.034343614394589904,
         0.02775621551611046,
         0.029795254128127557,
         0.038239650765914734,
         0.03866175162200482,
         0.04112980753336722,
         0.03350009287886972,
         0.03607326366466916,
         0.024013396944761005,
         0.03728423019094175,
         0.02886567471424085,
         0.031095842472446844,
         0.03471072278033832,
         0.03523590595732122,
         0.028628619083218055,
         0.030039447488561077,
         0.03904601732730596,
         0.026514005405846152,
         0.030209024436900222,
         0.029137983378448383,
         0.03900645913378269,
         0.033894834663775145,
         0.03041669584104466,
         0.03326951920817348,
         0.02674296330256142,
         0.03881414264398131,
         0.03679368121492984,
         0.04261626749388776,
         0.04076841503591255,
         0.03446526548681491,
         0.025806909532051503,
         0.04050393896562297,
         0.026785791678182246,
         0.0371486170673182,
         0.04015878134246572,
         0.03568280014507461,
         0.03792117964869908,
         0.03125712855685377,
         0.022393927767427324,
         0.02963070871272545,
         0.03987427603723211,
         0.03510827609206514,
         0.03168462262321618,
         0.02399340143077116,
         0.02526489380632633,
         0.02970495958614966,
         0.03334291546921706,
         0.03586510218947849,
         0.03266946387384043,
         0.02705862248308044,
         0.034928606678331475,
         0.03244153064697867,
         0.03342426995796406,
         0.034203192862514276,
         0.04397231414993648,
         0.04287996093768319,
         0.03271142076089493,
         0.03526728469626136,
         0.03581625305771061,
         0.03037228977019605,
         0.04035598294403281,
         0.03325783698906777,
         0.0338530441027368,
         0.027414723826090504,
         0.038251004802879865,
         0.029226413068666513,
         0.04114154578860402,
         0.029867913781573406,
         0.025635459190914756,
         0.0307301272620094,
         0.034014606355282785,
         0.03262646568169318,
         0.03752400639408539,
         0.033366953560606004,
         0.030304381254744293,
         0.03590742664269629,
         0.030443586173953728,
         0.03097479104453449,
         0.029848832440273622,
         0.034451877677966494,
         0.032452062636803655,
         0.03880998289550763,
         0.026472689788295655,
         0.02997076992698917,
         0.030577411532285804,
         0.03583324362753469
        ],
        [
         0.15526612102985382,
         0.14965353719890118,
         0.1543656073510647,
         0.1585631027817726,
         0.17447589710354805,
         0.1351805381476879,
         0.17061766907572745,
         0.1259249232709408,
         0.17403137423098086,
         0.17073840275406837,
         0.14707707837224007,
         0.13759167566895486,
         0.1431499220430851,
         0.17173658162355424,
         0.15865363627672197,
         0.14472824111580848,
         0.1441120520234108,
         0.1638970583677292,
         0.1624277401715517,
         0.16431123837828637,
         0.14842815287411212,
         0.15996017046272754,
         0.1299986455589533,
         0.17129280790686607,
         0.13683852776885033,
         0.15412162132561208,
         0.154071294516325,
         0.16285927295684816,
         0.15218465924263,
         0.15043098106980324,
         0.15532777197659015,
         0.12844714000821114,
         0.1458608515560627,
         0.15098875388503075,
         0.15569307655096054,
         0.1584516867995262,
         0.13880640640854836,
         0.16130727007985116,
         0.1402161680161953,
         0.16532754004001618,
         0.16712741926312447,
         0.174789896607399,
         0.17303383201360703,
         0.15643674954771997,
         0.13768025413155555,
         0.17096276879310607,
         0.1300844058394432,
         0.15979981310665609,
         0.16088639721274375,
         0.15487102568149566,
         0.16450789533555507,
         0.14907360523939134,
         0.12905100286006926,
         0.14300442673265934,
         0.15995024219155313,
         0.15362436398863794,
         0.14555983245372772,
         0.12327295579016209,
         0.1368110116571188,
         0.1449643887579441,
         0.16087284237146376,
         0.16427333801984786,
         0.15235042199492455,
         0.13264452219009398,
         0.1610090486705303,
         0.1527610145509243,
         0.1545925710350275,
         0.1594816341996193,
         0.17161561399698258,
         0.16714178994297982,
         0.15108083188533783,
         0.1562306262552738,
         0.16050684303045273,
         0.15237704887986184,
         0.17626602277159692,
         0.15505275912582875,
         0.152744859457016,
         0.13122701570391654,
         0.1574670523405075,
         0.1471113994717598,
         0.1732922799885273,
         0.14506651796400546,
         0.13774146512150764,
         0.1463452510535717,
         0.15478690341114998,
         0.14274747371673585,
         0.17122932001948357,
         0.1422547075897455,
         0.13423319794237615,
         0.1507504962384701,
         0.14465982615947723,
         0.1510134268552065,
         0.15123819932341576,
         0.16149878390133382,
         0.1515481747686863,
         0.15857239961624145,
         0.1318955384194851,
         0.13849550634622573,
         0.14774652644991876,
         0.15719193890690802
        ],
        [
         3.1053224205970764,
         2.9930707439780235,
         3.0873121470212936,
         3.1712620556354523,
         3.489517942070961,
         2.7036107629537582,
         3.4123533815145493,
         2.5184984654188156,
         3.4806274846196175,
         3.4147680550813675,
         2.9415415674448013,
         2.751833513379097,
         2.862998440861702,
         3.4347316324710846,
         3.173072725534439,
         2.8945648223161697,
         2.882241040468216,
         3.2779411673545837,
         3.248554803431034,
         3.2862247675657272,
         2.9685630574822426,
         3.199203409254551,
         2.5999729111790657,
         3.4258561581373215,
         2.7367705553770065,
         3.0824324265122414,
         3.0814258903265,
         3.257185459136963,
         3.0436931848526,
         3.0086196213960648,
         3.106555439531803,
         2.5689428001642227,
         2.917217031121254,
         3.019775077700615,
         3.113861531019211,
         3.1690337359905243,
         2.776128128170967,
         3.226145401597023,
         2.804323360323906,
         3.3065508008003235,
         3.3425483852624893,
         3.4957979321479797,
         3.4606766402721405,
         3.128734990954399,
         2.753605082631111,
         3.4192553758621216,
         2.601688116788864,
         3.1959962621331215,
         3.217727944254875,
         3.0974205136299133,
         3.2901579067111015,
         2.9814721047878265,
         2.5810200572013855,
         2.860088534653187,
         3.1990048438310623,
         3.0724872797727585,
         2.9111966490745544,
         2.4654591158032417,
         2.736220233142376,
         2.899287775158882,
         3.2174568474292755,
         3.2854667603969574,
         3.047008439898491,
         2.65289044380188,
         3.2201809734106064,
         3.055220291018486,
         3.09185142070055,
         3.189632683992386,
         3.4323122799396515,
         3.3428357988595963,
         3.0216166377067566,
         3.1246125251054764,
         3.2101368606090546,
         3.0475409775972366,
         3.525320455431938,
         3.101055182516575,
         3.05489718914032,
         2.624540314078331,
         3.14934104681015,
         2.942227989435196,
         3.465845599770546,
         2.9013303592801094,
         2.754829302430153,
         2.926905021071434,
         3.0957380682229996,
         2.854949474334717,
         3.4245864003896713,
         2.8450941517949104,
         2.6846639588475227,
         3.0150099247694016,
         2.8931965231895447,
         3.02026853710413,
         3.024763986468315,
         3.229975678026676,
         3.030963495373726,
         3.171447992324829,
         2.637910768389702,
         2.7699101269245148,
         2.954930528998375,
         3.1438387781381607
        ],
        [
         0.827912747552392,
         0.8078124947946084,
         0.802238491290398,
         0.8005643092641944,
         0.9158059531028536,
         0.7245641597251613,
         0.849511770716661,
         0.7132052790760037,
         0.8761544576711117,
         0.9176332088934386,
         0.7636272526755786,
         0.7315656222813989,
         0.799640379822528,
         0.9117058980068274,
         0.828777586504243,
         0.7450666482417592,
         0.7719488859779197,
         0.874524450955086,
         0.8793378374891508,
         0.9069708653905838,
         0.8185364118824492,
         0.849391119151468,
         0.6930136642918522,
         0.8635303143600894,
         0.7598114860179577,
         0.7886170486674359,
         0.8331953286035433,
         0.8394749067997355,
         0.7566851271594818,
         0.7751057668287739,
         0.8836969766532639,
         0.7282033425609382,
         0.7772904789961115,
         0.7633869710500486,
         0.8832492188933165,
         0.8233448203975676,
         0.7799576378373977,
         0.8157146462847591,
         0.7313407318420247,
         0.8810691532902659,
         0.8578307667008667,
         0.9232146824426891,
         0.9029774641253518,
         0.8302441265894618,
         0.7184275820436115,
         0.9000437652205915,
         0.7319261120930479,
         0.8619584336534819,
         0.8962006621562575,
         0.8447816303054253,
         0.8708751879425556,
         0.7906595798047825,
         0.6692372937520342,
         0.7698143764924821,
         0.8930204481111518,
         0.8379531740146956,
         0.7960480214561957,
         0.6927250743371595,
         0.7108430741918547,
         0.7707783025766833,
         0.8166139292127836,
         0.8469368593877408,
         0.8083249825885679,
         0.7356442412345854,
         0.8358062775348302,
         0.8055002252883442,
         0.8176095640091798,
         0.8270815299898103,
         0.9377879733707025,
         0.9260665304143455,
         0.8088438756755834,
         0.8398486136948892,
         0.8463598886727869,
         0.7793880903657182,
         0.8983983853951744,
         0.8155714191788205,
         0.8228370932661798,
         0.7404690922123691,
         0.8746542723028323,
         0.7645444796565667,
         0.9071002787851409,
         0.7728895623771019,
         0.7160371385747356,
         0.7839659082129707,
         0.8247982341795208,
         0.8077928655502372,
         0.8663025613962524,
         0.8169082391628328,
         0.7785162972570876,
         0.8474364476784828,
         0.7803023282542957,
         0.7870805682334495,
         0.7726426397795247,
         0.8300828594540004,
         0.8056309656015421,
         0.8810219395169184,
         0.7276357576190942,
         0.7742192186582451,
         0.7820154925867621,
         0.8465606136306448
        ]
       ],
       "encoder": "json",
       "name": "ABC_GAN_3 Metrics",
       "version": 1
      }
     },
     "metadata": {
      "scrapbook": {
       "data": true,
       "display": false,
       "name": "ABC_GAN_3 Metrics"
      }
     },
     "output_type": "display_data"
    },
    {
     "name": "stdout",
     "output_type": "stream",
     "text": [
      "MSE\n",
      "0.03333013379648119\n"
     ]
    }
   ],
   "source": [
    "ABC_GAN3_metrics=ABC_train_test2.test_generator(gen3,test_data,prior_model,variance,bias,\"3\",device)\n",
    "sb.glue(\"ABC_GAN_3 Metrics\",ABC_GAN3_metrics)\n",
    "\n",
    "print(\"MSE\")\n",
    "print(mean(ABC_GAN3_metrics[0]))"
   ]
  },
  {
   "cell_type": "code",
   "execution_count": 18,
   "id": "c8e46b48",
   "metadata": {
    "execution": {
     "iopub.execute_input": "2022-03-08T20:35:10.549464Z",
     "iopub.status.busy": "2022-03-08T20:35:10.549110Z",
     "iopub.status.idle": "2022-03-08T20:35:10.831142Z",
     "shell.execute_reply": "2022-03-08T20:35:10.831449Z"
    },
    "id": "c8e46b48",
    "papermill": {
     "duration": 0.301295,
     "end_time": "2022-03-08T20:35:10.831569",
     "exception": false,
     "start_time": "2022-03-08T20:35:10.530274",
     "status": "completed"
    },
    "tags": []
   },
   "outputs": [
    {
     "data": {
      "image/png": "[encoded data removed]",
      "text/plain": [
       "<Figure size 432x288 with 1 Axes>"
      ]
     },
     "metadata": {
      "needs_background": "light"
     },
     "output_type": "display_data"
    },
    {
     "data": {
      "image/png": "[encoded data removed]",
      "text/plain": [
       "<Figure size 432x288 with 1 Axes>"
      ]
     },
     "metadata": {
      "needs_background": "light"
     },
     "output_type": "display_data"
    },
    {
     "data": {
      "image/png": "[encoded data removed]",
      "text/plain": [
       "<Figure size 432x288 with 1 Axes>"
      ]
     },
     "metadata": {
      "needs_background": "light"
     },
     "output_type": "display_data"
    },
    {
     "data": {
      "image/png": "[encoded data removed]",
      "text/plain": [
       "<Figure size 432x288 with 1 Axes>"
      ]
     },
     "metadata": {
      "needs_background": "light"
     },
     "output_type": "display_data"
    }
   ],
   "source": [
    "sanityChecks.discProbVsError(train_data,disc3,device)\n",
    "sanityChecks.discProbVsError(test_data,disc3,device)"
   ]
  },
  {
   "cell_type": "markdown",
   "id": "a5bd74c3",
   "metadata": {
    "id": "a5bd74c3",
    "papermill": {
     "duration": 0.018978,
     "end_time": "2022-03-08T20:35:10.870298",
     "exception": false,
     "start_time": "2022-03-08T20:35:10.851320",
     "status": "completed"
    },
    "tags": []
   },
   "source": [
    "## Skip Connection Model Analysis - ABC-GAN "
   ]
  },
  {
   "cell_type": "markdown",
   "id": "5744a8bf",
   "metadata": {
    "id": "5744a8bf",
    "papermill": {
     "duration": 0.018766,
     "end_time": "2022-03-08T20:35:10.907954",
     "exception": false,
     "start_time": "2022-03-08T20:35:10.889188",
     "status": "completed"
    },
    "tags": []
   },
   "source": [
    "### Weight Analysis \n",
    "\n",
    "Study the weights of the skip connection layer\n",
    "\n",
    "Equation of the skip connection is \n",
    "\n",
    "$output = y_{gan} * w + y_{abc} * (1-w)$"
   ]
  },
  {
   "cell_type": "code",
   "execution_count": 19,
   "id": "52c31dea",
   "metadata": {
    "execution": {
     "iopub.execute_input": "2022-03-08T20:35:10.948451Z",
     "iopub.status.busy": "2022-03-08T20:35:10.948075Z",
     "iopub.status.idle": "2022-03-08T20:35:10.951681Z",
     "shell.execute_reply": "2022-03-08T20:35:10.951926Z"
    },
    "id": "52c31dea",
    "papermill": {
     "duration": 0.025227,
     "end_time": "2022-03-08T20:35:10.952039",
     "exception": false,
     "start_time": "2022-03-08T20:35:10.926812",
     "status": "completed"
    },
    "tags": []
   },
   "outputs": [
    {
     "name": "stdout",
     "output_type": "stream",
     "text": [
      "Weight of the node at skip connection\n",
      "Parameter containing:\n",
      "tensor([[0.2023]], requires_grad=True)\n"
     ]
    },
    {
     "data": {
      "application/scrapbook.scrap.json+json": {
       "data": 0.2022971361875534,
       "encoder": "json",
       "name": "Skip Connection Weight",
       "version": 1
      }
     },
     "metadata": {
      "scrapbook": {
       "data": true,
       "display": false,
       "name": "Skip Connection Weight"
      }
     },
     "output_type": "display_data"
    }
   ],
   "source": [
    "print(\"Weight of the node at skip connection\")\n",
    "for name,param in gen3.named_parameters():\n",
    "    if(name == \"skipNode.weight\"):\n",
    "        print(param)\n",
    "        sb.glue(\"Skip Connection Weight\",param.item())"
   ]
  }
 ],
 "metadata": {
  "colab": {
   "collapsed_sections": [],
   "name": "ABC_GAN_Model-Catboost_Pre-gen.ipynb",
   "provenance": []
  },
  "interpreter": {
   "hash": "31f2aee4e71d21fbe5cf8b01ff0e069b9275f58929596ceb00d14d90e3e16cd6"
  },
  "kernelspec": {
   "display_name": "Python 3 (ipykernel)",
   "language": "python",
   "name": "python3"
  },
  "language_info": {
   "codemirror_mode": {
    "name": "ipython",
    "version": 3
   },
   "file_extension": ".py",
   "mimetype": "text/x-python",
   "name": "python",
   "nbconvert_exporter": "python",
   "pygments_lexer": "ipython3",
   "version": "3.8.11"
  },
  "papermill": {
   "default_parameters": {},
   "duration": 54.83498,
   "end_time": "2022-03-08T20:35:11.281564",
   "environment_variables": {},
   "exception": null,
   "input_path": "ABC_GAN-Catboost.ipynb",
   "output_path": "./ABC_GAN_Catboost/ABC-GAN_output_7_3.ipynb",
   "parameters": {
    "bias": 0.1,
    "variance": 1
   },
   "start_time": "2022-03-08T20:34:16.446584",
   "version": "2.3.3"
  }
 },
 "nbformat": 4,
 "nbformat_minor": 5
}