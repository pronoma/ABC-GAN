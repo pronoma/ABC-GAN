{
 "cells": [
  {
   "cell_type": "markdown",
   "id": "6f2906ec",
   "metadata": {
    "tags": [
     "papermill-error-cell-tag"
    ]
   },
   "source": [
    "<span style=\"color:red; font-family:Helvetica Neue, Helvetica, Arial, sans-serif; font-size:2em;\">An Exception was encountered at '<a href=\"#papermill-error-cell\">In [19]</a>'.</span>"
   ]
  },
  {
   "cell_type": "markdown",
   "id": "622780e6",
   "metadata": {
    "id": "622780e6",
    "papermill": {
     "duration": 0.014105,
     "end_time": "2022-07-27T06:36:45.284031",
     "exception": false,
     "start_time": "2022-07-27T06:36:45.269926",
     "status": "completed"
    },
    "tags": []
   },
   "source": [
    "## Import Libraries "
   ]
  },
  {
   "cell_type": "code",
   "execution_count": 1,
   "id": "a62397e3",
   "metadata": {
    "execution": {
     "iopub.execute_input": "2022-07-27T06:36:45.326858Z",
     "iopub.status.busy": "2022-07-27T06:36:45.309905Z",
     "iopub.status.idle": "2022-07-27T06:36:45.346656Z",
     "shell.execute_reply": "2022-07-27T06:36:45.345273Z"
    },
    "id": "a62397e3",
    "papermill": {
     "duration": 0.056312,
     "end_time": "2022-07-27T06:36:45.349997",
     "exception": false,
     "start_time": "2022-07-27T06:36:45.293685",
     "status": "completed"
    },
    "tags": []
   },
   "outputs": [],
   "source": [
    "import warnings\n",
    "import sys\n",
    "sys.path.insert(0, '../../src')\n",
    "warnings.filterwarnings('ignore')"
   ]
  },
  {
   "cell_type": "code",
   "execution_count": 2,
   "id": "d6a4e155",
   "metadata": {
    "execution": {
     "iopub.execute_input": "2022-07-27T06:36:45.370320Z",
     "iopub.status.busy": "2022-07-27T06:36:45.369896Z",
     "iopub.status.idle": "2022-07-27T06:36:55.538858Z",
     "shell.execute_reply": "2022-07-27T06:36:55.537674Z"
    },
    "id": "d6a4e155",
    "papermill": {
     "duration": 10.181671,
     "end_time": "2022-07-27T06:36:55.542244",
     "exception": false,
     "start_time": "2022-07-27T06:36:45.360573",
     "status": "completed"
    },
    "tags": []
   },
   "outputs": [],
   "source": [
    "import ABC_train_test2\n",
    "import friedman3Dataset\n",
    "import network\n",
    "import dataset\n",
    "import sanityChecks\n",
    "import torch \n",
    "import scrapbook as sb\n",
    "from statistics import mean \n",
    "import catboost as ctb \n",
    "from sklearn.model_selection import train_test_split\n",
    "from sklearn.metrics import mean_squared_error,mean_absolute_error\n",
    "import numpy as np"
   ]
  },
  {
   "cell_type": "markdown",
   "id": "2fa5b0f7",
   "metadata": {
    "id": "2fa5b0f7",
    "papermill": {
     "duration": 0.011099,
     "end_time": "2022-07-27T06:36:55.563896",
     "exception": false,
     "start_time": "2022-07-27T06:36:55.552797",
     "status": "completed"
    },
    "tags": []
   },
   "source": [
    "## Parameters "
   ]
  },
  {
   "cell_type": "code",
   "execution_count": 3,
   "id": "783186fb",
   "metadata": {
    "execution": {
     "iopub.execute_input": "2022-07-27T06:36:55.592869Z",
     "iopub.status.busy": "2022-07-27T06:36:55.591985Z",
     "iopub.status.idle": "2022-07-27T06:36:55.597561Z",
     "shell.execute_reply": "2022-07-27T06:36:55.596682Z"
    },
    "id": "783186fb",
    "papermill": {
     "duration": 0.023434,
     "end_time": "2022-07-27T06:36:55.601218",
     "exception": false,
     "start_time": "2022-07-27T06:36:55.577784",
     "status": "completed"
    },
    "tags": [
     "parameters"
    ]
   },
   "outputs": [],
   "source": [
    "variance = 1\n",
    "bias = 1 "
   ]
  },
  {
   "cell_type": "code",
   "execution_count": 4,
   "id": "2f21e8bf",
   "metadata": {
    "execution": {
     "iopub.execute_input": "2022-07-27T06:36:55.737209Z",
     "iopub.status.busy": "2022-07-27T06:36:55.736717Z",
     "iopub.status.idle": "2022-07-27T06:36:55.745532Z",
     "shell.execute_reply": "2022-07-27T06:36:55.742967Z"
    },
    "papermill": {
     "duration": 0.142298,
     "end_time": "2022-07-27T06:36:55.751520",
     "exception": false,
     "start_time": "2022-07-27T06:36:55.609222",
     "status": "completed"
    },
    "tags": [
     "injected-parameters"
    ]
   },
   "outputs": [],
   "source": [
    "# Parameters\n",
    "variance = 0.1\n",
    "bias = 1\n"
   ]
  },
  {
   "cell_type": "markdown",
   "id": "391cdbfd",
   "metadata": {
    "id": "391cdbfd",
    "papermill": {
     "duration": 0.173012,
     "end_time": "2022-07-27T06:36:55.934954",
     "exception": false,
     "start_time": "2022-07-27T06:36:55.761942",
     "status": "completed"
    },
    "tags": []
   },
   "source": [
    "## Dataset \n"
   ]
  },
  {
   "cell_type": "code",
   "execution_count": 5,
   "id": "5b51f161",
   "metadata": {
    "execution": {
     "iopub.execute_input": "2022-07-27T06:36:56.001621Z",
     "iopub.status.busy": "2022-07-27T06:36:56.000799Z",
     "iopub.status.idle": "2022-07-27T06:36:56.006630Z",
     "shell.execute_reply": "2022-07-27T06:36:56.004388Z"
    },
    "id": "5b51f161",
    "papermill": {
     "duration": 0.078663,
     "end_time": "2022-07-27T06:36:56.030715",
     "exception": false,
     "start_time": "2022-07-27T06:36:55.952052",
     "status": "completed"
    },
    "tags": []
   },
   "outputs": [],
   "source": [
    "#Parameters \n",
    "n_features = 4\n",
    "n_samples= 100\n",
    "n_target = 1"
   ]
  },
  {
   "cell_type": "code",
   "execution_count": 6,
   "id": "5d6eced4",
   "metadata": {
    "execution": {
     "iopub.execute_input": "2022-07-27T06:36:56.049766Z",
     "iopub.status.busy": "2022-07-27T06:36:56.049260Z",
     "iopub.status.idle": "2022-07-27T06:36:56.067719Z",
     "shell.execute_reply": "2022-07-27T06:36:56.066458Z"
    },
    "id": "5d6eced4",
    "papermill": {
     "duration": 0.048131,
     "end_time": "2022-07-27T06:36:56.087436",
     "exception": false,
     "start_time": "2022-07-27T06:36:56.039305",
     "status": "completed"
    },
    "tags": []
   },
   "outputs": [
    {
     "name": "stdout",
     "output_type": "stream",
     "text": [
      "          X1           X2        X3        X4         Y\n",
      "0  29.488083   761.416336  0.875195  6.195815  1.412309\n",
      "1  66.000920  1273.391041  0.916602  8.778791  1.543673\n",
      "2  71.282891   337.919578  0.140146  5.544917  0.667563\n",
      "3   7.865466   261.614616  0.612830  3.786023  1.607480\n",
      "4  39.454051   358.977506  0.138920  2.024349  0.747411\n"
     ]
    }
   ],
   "source": [
    "X,Y = friedman3Dataset.friedman3_data(n_samples)"
   ]
  },
  {
   "cell_type": "code",
   "execution_count": 7,
   "id": "fe007438",
   "metadata": {
    "execution": {
     "iopub.execute_input": "2022-07-27T06:36:56.265937Z",
     "iopub.status.busy": "2022-07-27T06:36:56.264611Z",
     "iopub.status.idle": "2022-07-27T06:36:56.271305Z",
     "shell.execute_reply": "2022-07-27T06:36:56.270400Z"
    },
    "id": "fe007438",
    "papermill": {
     "duration": 0.206834,
     "end_time": "2022-07-27T06:36:56.303650",
     "exception": false,
     "start_time": "2022-07-27T06:36:56.096816",
     "status": "completed"
    },
    "tags": []
   },
   "outputs": [],
   "source": [
    "#Train test split for dataset \n",
    "X_train,X_test,Y_train,Y_test = train_test_split(X,Y,test_size = 0.2)\n",
    "train_data = dataset.CustomDataset(X_train,Y_train)\n",
    "test_data = dataset.CustomDataset(X_test,Y_test)\n"
   ]
  },
  {
   "cell_type": "markdown",
   "id": "a9a1af34",
   "metadata": {
    "id": "a9a1af34",
    "papermill": {
     "duration": 0.045335,
     "end_time": "2022-07-27T06:36:56.360634",
     "exception": false,
     "start_time": "2022-07-27T06:36:56.315299",
     "status": "completed"
    },
    "tags": []
   },
   "source": [
    "## Training Parameters "
   ]
  },
  {
   "cell_type": "code",
   "execution_count": 8,
   "id": "952b7fc8",
   "metadata": {
    "execution": {
     "iopub.execute_input": "2022-07-27T06:36:56.484018Z",
     "iopub.status.busy": "2022-07-27T06:36:56.483692Z",
     "iopub.status.idle": "2022-07-27T06:36:56.495414Z",
     "shell.execute_reply": "2022-07-27T06:36:56.492112Z"
    },
    "id": "952b7fc8",
    "papermill": {
     "duration": 0.132264,
     "end_time": "2022-07-27T06:36:56.505452",
     "exception": false,
     "start_time": "2022-07-27T06:36:56.373188",
     "status": "completed"
    },
    "tags": []
   },
   "outputs": [],
   "source": [
    "batch_size = 32\n",
    "n_epochs = 1000\n",
    "#Select the device \n",
    "device = torch.device('cuda' if torch.cuda.is_available() else 'cpu')"
   ]
  },
  {
   "cell_type": "markdown",
   "id": "a95e1600",
   "metadata": {
    "id": "a95e1600",
    "papermill": {
     "duration": 0.092401,
     "end_time": "2022-07-27T06:36:56.608462",
     "exception": false,
     "start_time": "2022-07-27T06:36:56.516061",
     "status": "completed"
    },
    "tags": []
   },
   "source": [
    "# ABC Pre-generator Model \n",
    "\n",
    "1. The catboost model is used as a pre-generator model for the ABC-GAN. \n",
    "2. The model is first trained on the entire dataset \n",
    "3. It generats X,Y pairs and we add some Gaussian noise with mean 0 and variance 1 to it which is then feed as input to the generator.\n"
   ]
  },
  {
   "cell_type": "code",
   "execution_count": 9,
   "id": "ff8ce7bd",
   "metadata": {
    "execution": {
     "iopub.execute_input": "2022-07-27T06:36:56.656592Z",
     "iopub.status.busy": "2022-07-27T06:36:56.655941Z",
     "iopub.status.idle": "2022-07-27T06:36:58.776223Z",
     "shell.execute_reply": "2022-07-27T06:36:58.775469Z"
    },
    "id": "ff8ce7bd",
    "papermill": {
     "duration": 2.151405,
     "end_time": "2022-07-27T06:36:58.779491",
     "exception": false,
     "start_time": "2022-07-27T06:36:56.628086",
     "status": "completed"
    },
    "tags": []
   },
   "outputs": [
    {
     "name": "stdout",
     "output_type": "stream",
     "text": [
      "Learning rate set to 0.027471\n",
      "0:\tlearn: 1.0038131\ttotal: 60.2ms\tremaining: 1m\n",
      "1:\tlearn: 0.9931715\ttotal: 61.1ms\tremaining: 30.5s\n",
      "2:\tlearn: 0.9818389\ttotal: 61.6ms\tremaining: 20.5s\n",
      "3:\tlearn: 0.9709568\ttotal: 61.9ms\tremaining: 15.4s\n",
      "4:\tlearn: 0.9591371\ttotal: 62.3ms\tremaining: 12.4s\n",
      "5:\tlearn: 0.9476932\ttotal: 64.7ms\tremaining: 10.7s\n",
      "6:\tlearn: 0.9352778\ttotal: 65.2ms\tremaining: 9.25s\n",
      "7:\tlearn: 0.9234490\ttotal: 68.5ms\tremaining: 8.5s\n",
      "8:\tlearn: 0.9111156\ttotal: 69.7ms\tremaining: 7.67s\n",
      "9:\tlearn: 0.9001577\ttotal: 70.6ms\tremaining: 6.99s\n",
      "10:\tlearn: 0.8911174\ttotal: 71.6ms\tremaining: 6.44s\n",
      "11:\tlearn: 0.8815212\ttotal: 73.5ms\tremaining: 6.05s\n",
      "12:\tlearn: 0.8697514\ttotal: 74.7ms\tremaining: 5.67s\n",
      "13:\tlearn: 0.8596483\ttotal: 75.1ms\tremaining: 5.29s\n",
      "14:\tlearn: 0.8487685\ttotal: 75.6ms\tremaining: 4.97s\n",
      "15:\tlearn: 0.8399215\ttotal: 76.3ms\tremaining: 4.69s\n",
      "16:\tlearn: 0.8308574\ttotal: 77.8ms\tremaining: 4.5s\n",
      "17:\tlearn: 0.8216356\ttotal: 79.8ms\tremaining: 4.35s\n",
      "18:\tlearn: 0.8142162\ttotal: 80.9ms\tremaining: 4.17s\n",
      "19:\tlearn: 0.8039576\ttotal: 81.3ms\tremaining: 3.98s\n",
      "20:\tlearn: 0.7936917\ttotal: 83.5ms\tremaining: 3.89s\n",
      "21:\tlearn: 0.7842117\ttotal: 86.1ms\tremaining: 3.83s\n",
      "22:\tlearn: 0.7771001\ttotal: 86.9ms\tremaining: 3.69s\n",
      "23:\tlearn: 0.7693287\ttotal: 87.7ms\tremaining: 3.56s\n",
      "24:\tlearn: 0.7623841\ttotal: 89.8ms\tremaining: 3.5s\n",
      "25:\tlearn: 0.7527468\ttotal: 91.9ms\tremaining: 3.44s\n",
      "26:\tlearn: 0.7429982\ttotal: 92.9ms\tremaining: 3.35s\n",
      "27:\tlearn: 0.7353798\ttotal: 93.4ms\tremaining: 3.24s\n",
      "28:\tlearn: 0.7277840\ttotal: 94.7ms\tremaining: 3.17s\n",
      "29:\tlearn: 0.7190291\ttotal: 95.2ms\tremaining: 3.08s\n",
      "30:\tlearn: 0.7107453\ttotal: 96.1ms\tremaining: 3s\n",
      "31:\tlearn: 0.7032594\ttotal: 96.6ms\tremaining: 2.92s\n",
      "32:\tlearn: 0.6974206\ttotal: 97.1ms\tremaining: 2.84s\n",
      "33:\tlearn: 0.6909851\ttotal: 97.5ms\tremaining: 2.77s\n",
      "34:\tlearn: 0.6833557\ttotal: 97.9ms\tremaining: 2.7s\n",
      "35:\tlearn: 0.6755992\ttotal: 98.4ms\tremaining: 2.63s\n",
      "36:\tlearn: 0.6669972\ttotal: 99ms\tremaining: 2.58s\n",
      "37:\tlearn: 0.6598865\ttotal: 99.4ms\tremaining: 2.52s\n",
      "38:\tlearn: 0.6517517\ttotal: 101ms\tremaining: 2.5s\n",
      "39:\tlearn: 0.6430226\ttotal: 102ms\tremaining: 2.44s\n",
      "40:\tlearn: 0.6368683\ttotal: 103ms\tremaining: 2.4s\n",
      "41:\tlearn: 0.6288746\ttotal: 103ms\tremaining: 2.35s\n",
      "42:\tlearn: 0.6217808\ttotal: 103ms\tremaining: 2.3s\n",
      "43:\tlearn: 0.6158484\ttotal: 104ms\tremaining: 2.26s\n",
      "44:\tlearn: 0.6094643\ttotal: 104ms\tremaining: 2.21s\n",
      "45:\tlearn: 0.6025009\ttotal: 105ms\tremaining: 2.17s\n",
      "46:\tlearn: 0.5964043\ttotal: 106ms\tremaining: 2.15s\n",
      "47:\tlearn: 0.5900648\ttotal: 107ms\tremaining: 2.12s\n",
      "48:\tlearn: 0.5836318\ttotal: 108ms\tremaining: 2.09s\n",
      "49:\tlearn: 0.5788370\ttotal: 108ms\tremaining: 2.05s\n",
      "50:\tlearn: 0.5738286\ttotal: 108ms\tremaining: 2.02s\n",
      "51:\tlearn: 0.5688844\ttotal: 109ms\tremaining: 1.99s\n",
      "52:\tlearn: 0.5630111\ttotal: 109ms\tremaining: 1.95s\n",
      "53:\tlearn: 0.5576044\ttotal: 110ms\tremaining: 1.93s\n",
      "54:\tlearn: 0.5524523\ttotal: 111ms\tremaining: 1.91s\n",
      "55:\tlearn: 0.5470145\ttotal: 112ms\tremaining: 1.89s\n",
      "56:\tlearn: 0.5419922\ttotal: 112ms\tremaining: 1.86s\n",
      "57:\tlearn: 0.5358483\ttotal: 113ms\tremaining: 1.83s\n",
      "58:\tlearn: 0.5305429\ttotal: 113ms\tremaining: 1.8s\n",
      "59:\tlearn: 0.5257696\ttotal: 114ms\tremaining: 1.78s\n",
      "60:\tlearn: 0.5206220\ttotal: 115ms\tremaining: 1.77s\n",
      "61:\tlearn: 0.5150938\ttotal: 116ms\tremaining: 1.76s\n",
      "62:\tlearn: 0.5106529\ttotal: 117ms\tremaining: 1.74s\n",
      "63:\tlearn: 0.5052846\ttotal: 117ms\tremaining: 1.71s\n",
      "64:\tlearn: 0.4994085\ttotal: 118ms\tremaining: 1.69s\n",
      "65:\tlearn: 0.4947291\ttotal: 118ms\tremaining: 1.67s\n",
      "66:\tlearn: 0.4902284\ttotal: 119ms\tremaining: 1.65s\n",
      "67:\tlearn: 0.4856416\ttotal: 119ms\tremaining: 1.63s\n",
      "68:\tlearn: 0.4817395\ttotal: 120ms\tremaining: 1.61s\n",
      "69:\tlearn: 0.4778141\ttotal: 120ms\tremaining: 1.6s\n",
      "70:\tlearn: 0.4736309\ttotal: 121ms\tremaining: 1.58s\n",
      "71:\tlearn: 0.4693824\ttotal: 121ms\tremaining: 1.56s\n",
      "72:\tlearn: 0.4663043\ttotal: 123ms\tremaining: 1.56s\n"
     ]
    },
    {
     "name": "stdout",
     "output_type": "stream",
     "text": [
      "73:\tlearn: 0.4609580\ttotal: 126ms\tremaining: 1.57s\n",
      "74:\tlearn: 0.4570508\ttotal: 127ms\tremaining: 1.56s\n",
      "75:\tlearn: 0.4523035\ttotal: 128ms\tremaining: 1.56s\n",
      "76:\tlearn: 0.4480491\ttotal: 129ms\tremaining: 1.54s\n",
      "77:\tlearn: 0.4445708\ttotal: 129ms\tremaining: 1.53s\n",
      "78:\tlearn: 0.4412884\ttotal: 130ms\tremaining: 1.52s\n",
      "79:\tlearn: 0.4371485\ttotal: 131ms\tremaining: 1.5s\n",
      "80:\tlearn: 0.4335868\ttotal: 131ms\tremaining: 1.49s\n",
      "81:\tlearn: 0.4310112\ttotal: 132ms\tremaining: 1.48s\n",
      "82:\tlearn: 0.4274140\ttotal: 134ms\tremaining: 1.48s\n",
      "83:\tlearn: 0.4241380\ttotal: 134ms\tremaining: 1.46s\n",
      "84:\tlearn: 0.4209732\ttotal: 139ms\tremaining: 1.49s\n",
      "85:\tlearn: 0.4177939\ttotal: 139ms\tremaining: 1.48s\n",
      "86:\tlearn: 0.4145663\ttotal: 139ms\tremaining: 1.46s\n",
      "87:\tlearn: 0.4121563\ttotal: 140ms\tremaining: 1.45s\n",
      "88:\tlearn: 0.4087139\ttotal: 141ms\tremaining: 1.44s\n",
      "89:\tlearn: 0.4054968\ttotal: 142ms\tremaining: 1.43s\n",
      "90:\tlearn: 0.4020367\ttotal: 143ms\tremaining: 1.43s\n",
      "91:\tlearn: 0.3996499\ttotal: 144ms\tremaining: 1.42s\n",
      "92:\tlearn: 0.3960927\ttotal: 144ms\tremaining: 1.41s\n",
      "93:\tlearn: 0.3932356\ttotal: 145ms\tremaining: 1.4s\n",
      "94:\tlearn: 0.3905125\ttotal: 145ms\tremaining: 1.39s\n",
      "95:\tlearn: 0.3876418\ttotal: 146ms\tremaining: 1.38s\n",
      "96:\tlearn: 0.3847855\ttotal: 147ms\tremaining: 1.37s\n",
      "97:\tlearn: 0.3820561\ttotal: 149ms\tremaining: 1.37s\n",
      "98:\tlearn: 0.3790360\ttotal: 149ms\tremaining: 1.36s\n",
      "99:\tlearn: 0.3761396\ttotal: 150ms\tremaining: 1.35s\n",
      "100:\tlearn: 0.3733070\ttotal: 150ms\tremaining: 1.34s\n",
      "101:\tlearn: 0.3708223\ttotal: 153ms\tremaining: 1.34s\n",
      "102:\tlearn: 0.3681262\ttotal: 154ms\tremaining: 1.34s\n",
      "103:\tlearn: 0.3655399\ttotal: 155ms\tremaining: 1.33s\n",
      "104:\tlearn: 0.3623914\ttotal: 156ms\tremaining: 1.33s\n",
      "105:\tlearn: 0.3601829\ttotal: 157ms\tremaining: 1.32s\n",
      "106:\tlearn: 0.3575307\ttotal: 159ms\tremaining: 1.33s\n",
      "107:\tlearn: 0.3550503\ttotal: 160ms\tremaining: 1.32s\n",
      "108:\tlearn: 0.3520898\ttotal: 161ms\tremaining: 1.31s\n",
      "109:\tlearn: 0.3500669\ttotal: 161ms\tremaining: 1.31s\n",
      "110:\tlearn: 0.3472985\ttotal: 162ms\tremaining: 1.3s\n",
      "111:\tlearn: 0.3444650\ttotal: 163ms\tremaining: 1.29s\n",
      "112:\tlearn: 0.3424141\ttotal: 164ms\tremaining: 1.28s\n",
      "113:\tlearn: 0.3396958\ttotal: 164ms\tremaining: 1.28s\n",
      "114:\tlearn: 0.3369034\ttotal: 170ms\tremaining: 1.31s\n",
      "115:\tlearn: 0.3340013\ttotal: 170ms\tremaining: 1.3s\n",
      "116:\tlearn: 0.3305227\ttotal: 171ms\tremaining: 1.29s\n",
      "117:\tlearn: 0.3277043\ttotal: 172ms\tremaining: 1.28s\n",
      "118:\tlearn: 0.3252352\ttotal: 173ms\tremaining: 1.28s\n",
      "119:\tlearn: 0.3230838\ttotal: 174ms\tremaining: 1.27s\n",
      "120:\tlearn: 0.3215103\ttotal: 174ms\tremaining: 1.27s\n",
      "121:\tlearn: 0.3196593\ttotal: 176ms\tremaining: 1.26s\n",
      "122:\tlearn: 0.3173394\ttotal: 181ms\tremaining: 1.29s\n",
      "123:\tlearn: 0.3153349\ttotal: 182ms\tremaining: 1.28s\n",
      "124:\tlearn: 0.3137926\ttotal: 182ms\tremaining: 1.28s\n",
      "125:\tlearn: 0.3122802\ttotal: 184ms\tremaining: 1.27s\n",
      "126:\tlearn: 0.3092893\ttotal: 184ms\tremaining: 1.27s\n",
      "127:\tlearn: 0.3070900\ttotal: 185ms\tremaining: 1.26s\n",
      "128:\tlearn: 0.3052372\ttotal: 186ms\tremaining: 1.25s\n",
      "129:\tlearn: 0.3032406\ttotal: 191ms\tremaining: 1.28s\n",
      "130:\tlearn: 0.3014109\ttotal: 196ms\tremaining: 1.3s\n",
      "131:\tlearn: 0.2991498\ttotal: 196ms\tremaining: 1.29s\n",
      "132:\tlearn: 0.2974810\ttotal: 197ms\tremaining: 1.28s\n",
      "133:\tlearn: 0.2953939\ttotal: 197ms\tremaining: 1.27s\n",
      "134:\tlearn: 0.2931792\ttotal: 198ms\tremaining: 1.27s\n",
      "135:\tlearn: 0.2911641\ttotal: 199ms\tremaining: 1.27s\n",
      "136:\tlearn: 0.2889149\ttotal: 200ms\tremaining: 1.26s\n",
      "137:\tlearn: 0.2870069\ttotal: 202ms\tremaining: 1.26s\n",
      "138:\tlearn: 0.2859609\ttotal: 202ms\tremaining: 1.25s\n",
      "139:\tlearn: 0.2842155\ttotal: 203ms\tremaining: 1.25s\n",
      "140:\tlearn: 0.2827405\ttotal: 204ms\tremaining: 1.24s\n",
      "141:\tlearn: 0.2809584\ttotal: 205ms\tremaining: 1.24s\n",
      "142:\tlearn: 0.2793863\ttotal: 205ms\tremaining: 1.23s\n",
      "143:\tlearn: 0.2774259\ttotal: 206ms\tremaining: 1.22s\n"
     ]
    },
    {
     "name": "stdout",
     "output_type": "stream",
     "text": [
      "144:\tlearn: 0.2756318\ttotal: 209ms\tremaining: 1.23s\n",
      "145:\tlearn: 0.2740708\ttotal: 210ms\tremaining: 1.23s\n",
      "146:\tlearn: 0.2720946\ttotal: 214ms\tremaining: 1.24s\n",
      "147:\tlearn: 0.2702659\ttotal: 214ms\tremaining: 1.23s\n",
      "148:\tlearn: 0.2686858\ttotal: 215ms\tremaining: 1.23s\n",
      "149:\tlearn: 0.2672118\ttotal: 215ms\tremaining: 1.22s\n",
      "150:\tlearn: 0.2655513\ttotal: 216ms\tremaining: 1.21s\n",
      "151:\tlearn: 0.2635769\ttotal: 216ms\tremaining: 1.21s\n",
      "152:\tlearn: 0.2617889\ttotal: 218ms\tremaining: 1.21s\n",
      "153:\tlearn: 0.2605759\ttotal: 219ms\tremaining: 1.2s\n",
      "154:\tlearn: 0.2590329\ttotal: 221ms\tremaining: 1.21s\n",
      "155:\tlearn: 0.2574548\ttotal: 222ms\tremaining: 1.2s\n",
      "156:\tlearn: 0.2559545\ttotal: 223ms\tremaining: 1.2s\n",
      "157:\tlearn: 0.2539342\ttotal: 223ms\tremaining: 1.19s\n",
      "158:\tlearn: 0.2526088\ttotal: 224ms\tremaining: 1.18s\n",
      "159:\tlearn: 0.2512359\ttotal: 226ms\tremaining: 1.19s\n",
      "160:\tlearn: 0.2498976\ttotal: 227ms\tremaining: 1.18s\n",
      "161:\tlearn: 0.2483985\ttotal: 227ms\tremaining: 1.18s\n",
      "162:\tlearn: 0.2463925\ttotal: 228ms\tremaining: 1.17s\n",
      "163:\tlearn: 0.2443825\ttotal: 228ms\tremaining: 1.16s\n",
      "164:\tlearn: 0.2426939\ttotal: 229ms\tremaining: 1.16s\n",
      "165:\tlearn: 0.2410101\ttotal: 230ms\tremaining: 1.15s\n",
      "166:\tlearn: 0.2396439\ttotal: 230ms\tremaining: 1.15s\n",
      "167:\tlearn: 0.2383351\ttotal: 231ms\tremaining: 1.14s\n",
      "168:\tlearn: 0.2373516\ttotal: 232ms\tremaining: 1.14s\n",
      "169:\tlearn: 0.2361539\ttotal: 235ms\tremaining: 1.15s\n",
      "170:\tlearn: 0.2347249\ttotal: 236ms\tremaining: 1.14s\n",
      "171:\tlearn: 0.2335491\ttotal: 236ms\tremaining: 1.14s\n",
      "172:\tlearn: 0.2323804\ttotal: 237ms\tremaining: 1.13s\n",
      "173:\tlearn: 0.2307802\ttotal: 237ms\tremaining: 1.13s\n",
      "174:\tlearn: 0.2291052\ttotal: 242ms\tremaining: 1.14s\n",
      "175:\tlearn: 0.2274487\ttotal: 243ms\tremaining: 1.14s\n",
      "176:\tlearn: 0.2262783\ttotal: 243ms\tremaining: 1.13s\n",
      "177:\tlearn: 0.2246187\ttotal: 244ms\tremaining: 1.13s\n",
      "178:\tlearn: 0.2234770\ttotal: 245ms\tremaining: 1.12s\n",
      "179:\tlearn: 0.2218673\ttotal: 248ms\tremaining: 1.13s\n",
      "180:\tlearn: 0.2206880\ttotal: 249ms\tremaining: 1.12s\n",
      "181:\tlearn: 0.2192635\ttotal: 249ms\tremaining: 1.12s\n",
      "182:\tlearn: 0.2179757\ttotal: 250ms\tremaining: 1.11s\n",
      "183:\tlearn: 0.2170387\ttotal: 251ms\tremaining: 1.11s\n",
      "184:\tlearn: 0.2161362\ttotal: 251ms\tremaining: 1.11s\n",
      "185:\tlearn: 0.2148404\ttotal: 252ms\tremaining: 1.1s\n",
      "186:\tlearn: 0.2135694\ttotal: 252ms\tremaining: 1.1s\n",
      "187:\tlearn: 0.2121452\ttotal: 261ms\tremaining: 1.13s\n",
      "188:\tlearn: 0.2108239\ttotal: 261ms\tremaining: 1.12s\n",
      "189:\tlearn: 0.2096258\ttotal: 262ms\tremaining: 1.12s\n",
      "190:\tlearn: 0.2083249\ttotal: 263ms\tremaining: 1.11s\n",
      "191:\tlearn: 0.2070938\ttotal: 263ms\tremaining: 1.11s\n",
      "192:\tlearn: 0.2061080\ttotal: 265ms\tremaining: 1.11s\n",
      "193:\tlearn: 0.2050951\ttotal: 267ms\tremaining: 1.11s\n",
      "194:\tlearn: 0.2039039\ttotal: 272ms\tremaining: 1.12s\n",
      "195:\tlearn: 0.2028238\ttotal: 273ms\tremaining: 1.12s\n",
      "196:\tlearn: 0.2017767\ttotal: 276ms\tremaining: 1.13s\n",
      "197:\tlearn: 0.2008208\ttotal: 278ms\tremaining: 1.12s\n",
      "198:\tlearn: 0.1996377\ttotal: 280ms\tremaining: 1.13s\n",
      "199:\tlearn: 0.1985133\ttotal: 281ms\tremaining: 1.13s\n",
      "200:\tlearn: 0.1979606\ttotal: 283ms\tremaining: 1.12s\n",
      "201:\tlearn: 0.1969010\ttotal: 284ms\tremaining: 1.12s\n",
      "202:\tlearn: 0.1956706\ttotal: 285ms\tremaining: 1.12s\n",
      "203:\tlearn: 0.1947775\ttotal: 286ms\tremaining: 1.11s\n",
      "204:\tlearn: 0.1936655\ttotal: 290ms\tremaining: 1.12s\n",
      "205:\tlearn: 0.1925551\ttotal: 292ms\tremaining: 1.12s\n",
      "206:\tlearn: 0.1917981\ttotal: 293ms\tremaining: 1.12s\n",
      "207:\tlearn: 0.1905806\ttotal: 294ms\tremaining: 1.12s\n",
      "208:\tlearn: 0.1895425\ttotal: 297ms\tremaining: 1.12s\n",
      "209:\tlearn: 0.1887084\ttotal: 297ms\tremaining: 1.12s\n",
      "210:\tlearn: 0.1877956\ttotal: 298ms\tremaining: 1.11s\n",
      "211:\tlearn: 0.1868304\ttotal: 298ms\tremaining: 1.11s\n",
      "212:\tlearn: 0.1863439\ttotal: 301ms\tremaining: 1.11s\n",
      "213:\tlearn: 0.1853859\ttotal: 302ms\tremaining: 1.11s\n",
      "214:\tlearn: 0.1846574\ttotal: 303ms\tremaining: 1.11s\n",
      "215:\tlearn: 0.1831297\ttotal: 305ms\tremaining: 1.11s\n",
      "216:\tlearn: 0.1821368\ttotal: 306ms\tremaining: 1.1s\n",
      "217:\tlearn: 0.1810306\ttotal: 307ms\tremaining: 1.1s\n",
      "218:\tlearn: 0.1802020\ttotal: 311ms\tremaining: 1.11s\n",
      "219:\tlearn: 0.1793093\ttotal: 312ms\tremaining: 1.11s\n",
      "220:\tlearn: 0.1783902\ttotal: 314ms\tremaining: 1.11s\n",
      "221:\tlearn: 0.1776007\ttotal: 317ms\tremaining: 1.11s\n",
      "222:\tlearn: 0.1765899\ttotal: 318ms\tremaining: 1.11s\n",
      "223:\tlearn: 0.1757884\ttotal: 318ms\tremaining: 1.1s\n",
      "224:\tlearn: 0.1749454\ttotal: 319ms\tremaining: 1.1s\n",
      "225:\tlearn: 0.1741206\ttotal: 320ms\tremaining: 1.09s\n",
      "226:\tlearn: 0.1734433\ttotal: 322ms\tremaining: 1.1s\n",
      "227:\tlearn: 0.1724605\ttotal: 323ms\tremaining: 1.09s\n",
      "228:\tlearn: 0.1713105\ttotal: 324ms\tremaining: 1.09s\n",
      "229:\tlearn: 0.1704175\ttotal: 325ms\tremaining: 1.09s\n",
      "230:\tlearn: 0.1694739\ttotal: 327ms\tremaining: 1.09s\n",
      "231:\tlearn: 0.1683911\ttotal: 328ms\tremaining: 1.08s\n",
      "232:\tlearn: 0.1676659\ttotal: 328ms\tremaining: 1.08s\n",
      "233:\tlearn: 0.1669612\ttotal: 330ms\tremaining: 1.08s\n",
      "234:\tlearn: 0.1662359\ttotal: 331ms\tremaining: 1.08s\n",
      "235:\tlearn: 0.1654516\ttotal: 333ms\tremaining: 1.08s\n",
      "236:\tlearn: 0.1647785\ttotal: 334ms\tremaining: 1.07s\n",
      "237:\tlearn: 0.1640437\ttotal: 334ms\tremaining: 1.07s\n",
      "238:\tlearn: 0.1633272\ttotal: 335ms\tremaining: 1.07s\n",
      "239:\tlearn: 0.1622458\ttotal: 338ms\tremaining: 1.07s\n",
      "240:\tlearn: 0.1616162\ttotal: 340ms\tremaining: 1.07s\n"
     ]
    },
    {
     "name": "stdout",
     "output_type": "stream",
     "text": [
      "241:\tlearn: 0.1610494\ttotal: 343ms\tremaining: 1.07s\n",
      "242:\tlearn: 0.1604543\ttotal: 344ms\tremaining: 1.07s\n",
      "243:\tlearn: 0.1598094\ttotal: 344ms\tremaining: 1.07s\n",
      "244:\tlearn: 0.1590585\ttotal: 347ms\tremaining: 1.07s\n",
      "245:\tlearn: 0.1586742\ttotal: 348ms\tremaining: 1.07s\n",
      "246:\tlearn: 0.1580137\ttotal: 349ms\tremaining: 1.06s\n",
      "247:\tlearn: 0.1572433\ttotal: 350ms\tremaining: 1.06s\n",
      "248:\tlearn: 0.1567590\ttotal: 351ms\tremaining: 1.06s\n",
      "249:\tlearn: 0.1564075\ttotal: 352ms\tremaining: 1.05s\n",
      "250:\tlearn: 0.1556051\ttotal: 353ms\tremaining: 1.05s\n",
      "251:\tlearn: 0.1548943\ttotal: 355ms\tremaining: 1.05s\n",
      "252:\tlearn: 0.1541872\ttotal: 357ms\tremaining: 1.05s\n",
      "253:\tlearn: 0.1536559\ttotal: 359ms\tremaining: 1.05s\n",
      "254:\tlearn: 0.1530933\ttotal: 360ms\tremaining: 1.05s\n",
      "255:\tlearn: 0.1525974\ttotal: 361ms\tremaining: 1.05s\n",
      "256:\tlearn: 0.1520540\ttotal: 361ms\tremaining: 1.04s\n",
      "257:\tlearn: 0.1514036\ttotal: 362ms\tremaining: 1.04s\n",
      "258:\tlearn: 0.1508182\ttotal: 364ms\tremaining: 1.04s\n",
      "259:\tlearn: 0.1502784\ttotal: 365ms\tremaining: 1.04s\n",
      "260:\tlearn: 0.1498059\ttotal: 365ms\tremaining: 1.03s\n",
      "261:\tlearn: 0.1488932\ttotal: 366ms\tremaining: 1.03s\n",
      "262:\tlearn: 0.1485211\ttotal: 366ms\tremaining: 1.02s\n",
      "263:\tlearn: 0.1482171\ttotal: 366ms\tremaining: 1.02s\n",
      "264:\tlearn: 0.1477101\ttotal: 367ms\tremaining: 1.02s\n",
      "265:\tlearn: 0.1471494\ttotal: 369ms\tremaining: 1.02s\n",
      "266:\tlearn: 0.1466706\ttotal: 370ms\tremaining: 1.01s\n",
      "267:\tlearn: 0.1461295\ttotal: 371ms\tremaining: 1.01s\n",
      "268:\tlearn: 0.1456116\ttotal: 372ms\tremaining: 1.01s\n",
      "269:\tlearn: 0.1453340\ttotal: 374ms\tremaining: 1.01s\n",
      "270:\tlearn: 0.1449721\ttotal: 379ms\tremaining: 1.02s\n",
      "271:\tlearn: 0.1444955\ttotal: 380ms\tremaining: 1.02s\n",
      "272:\tlearn: 0.1440960\ttotal: 384ms\tremaining: 1.02s\n",
      "273:\tlearn: 0.1435189\ttotal: 385ms\tremaining: 1.02s\n",
      "274:\tlearn: 0.1429775\ttotal: 406ms\tremaining: 1.07s\n",
      "275:\tlearn: 0.1419208\ttotal: 406ms\tremaining: 1.06s\n",
      "276:\tlearn: 0.1412692\ttotal: 407ms\tremaining: 1.06s\n",
      "277:\tlearn: 0.1406377\ttotal: 421ms\tremaining: 1.09s\n",
      "278:\tlearn: 0.1402660\ttotal: 423ms\tremaining: 1.09s\n",
      "279:\tlearn: 0.1395297\ttotal: 424ms\tremaining: 1.09s\n",
      "280:\tlearn: 0.1388548\ttotal: 424ms\tremaining: 1.08s\n",
      "281:\tlearn: 0.1384060\ttotal: 425ms\tremaining: 1.08s\n",
      "282:\tlearn: 0.1378198\ttotal: 425ms\tremaining: 1.08s\n",
      "283:\tlearn: 0.1374663\ttotal: 426ms\tremaining: 1.07s\n",
      "284:\tlearn: 0.1368383\ttotal: 426ms\tremaining: 1.07s\n"
     ]
    },
    {
     "name": "stdout",
     "output_type": "stream",
     "text": [
      "285:\tlearn: 0.1363736\ttotal: 429ms\tremaining: 1.07s\n",
      "286:\tlearn: 0.1357639\ttotal: 429ms\tremaining: 1.07s\n",
      "287:\tlearn: 0.1353093\ttotal: 431ms\tremaining: 1.06s\n",
      "288:\tlearn: 0.1346879\ttotal: 432ms\tremaining: 1.06s\n",
      "289:\tlearn: 0.1343642\ttotal: 432ms\tremaining: 1.06s\n",
      "290:\tlearn: 0.1337847\ttotal: 432ms\tremaining: 1.05s\n",
      "291:\tlearn: 0.1334386\ttotal: 435ms\tremaining: 1.05s\n",
      "292:\tlearn: 0.1328663\ttotal: 436ms\tremaining: 1.05s\n",
      "293:\tlearn: 0.1324439\ttotal: 436ms\tremaining: 1.05s\n",
      "294:\tlearn: 0.1315603\ttotal: 437ms\tremaining: 1.04s\n",
      "295:\tlearn: 0.1310134\ttotal: 437ms\tremaining: 1.04s\n",
      "296:\tlearn: 0.1303615\ttotal: 437ms\tremaining: 1.03s\n",
      "297:\tlearn: 0.1298991\ttotal: 441ms\tremaining: 1.04s\n",
      "298:\tlearn: 0.1295456\ttotal: 441ms\tremaining: 1.03s\n",
      "299:\tlearn: 0.1289113\ttotal: 442ms\tremaining: 1.03s\n",
      "300:\tlearn: 0.1286193\ttotal: 442ms\tremaining: 1.03s\n",
      "301:\tlearn: 0.1282420\ttotal: 442ms\tremaining: 1.02s\n",
      "302:\tlearn: 0.1279385\ttotal: 446ms\tremaining: 1.03s\n",
      "303:\tlearn: 0.1275291\ttotal: 447ms\tremaining: 1.02s\n",
      "304:\tlearn: 0.1270203\ttotal: 447ms\tremaining: 1.02s\n",
      "305:\tlearn: 0.1264965\ttotal: 448ms\tremaining: 1.01s\n",
      "306:\tlearn: 0.1255323\ttotal: 448ms\tremaining: 1.01s\n",
      "307:\tlearn: 0.1251407\ttotal: 449ms\tremaining: 1.01s\n",
      "308:\tlearn: 0.1248674\ttotal: 450ms\tremaining: 1s\n",
      "309:\tlearn: 0.1244501\ttotal: 450ms\tremaining: 1s\n",
      "310:\tlearn: 0.1239065\ttotal: 451ms\tremaining: 999ms\n",
      "311:\tlearn: 0.1233348\ttotal: 451ms\tremaining: 995ms\n",
      "312:\tlearn: 0.1228737\ttotal: 452ms\tremaining: 991ms\n",
      "313:\tlearn: 0.1225214\ttotal: 452ms\tremaining: 988ms\n",
      "314:\tlearn: 0.1222901\ttotal: 453ms\tremaining: 984ms\n",
      "315:\tlearn: 0.1215332\ttotal: 453ms\tremaining: 981ms\n",
      "316:\tlearn: 0.1209731\ttotal: 459ms\tremaining: 989ms\n",
      "317:\tlearn: 0.1205089\ttotal: 461ms\tremaining: 988ms\n",
      "318:\tlearn: 0.1200127\ttotal: 462ms\tremaining: 986ms\n",
      "319:\tlearn: 0.1197568\ttotal: 462ms\tremaining: 982ms\n",
      "320:\tlearn: 0.1193065\ttotal: 464ms\tremaining: 981ms\n",
      "321:\tlearn: 0.1189894\ttotal: 464ms\tremaining: 978ms\n",
      "322:\tlearn: 0.1184678\ttotal: 465ms\tremaining: 975ms\n",
      "323:\tlearn: 0.1180223\ttotal: 465ms\tremaining: 971ms\n",
      "324:\tlearn: 0.1174735\ttotal: 466ms\tremaining: 968ms\n",
      "325:\tlearn: 0.1169368\ttotal: 467ms\tremaining: 965ms\n",
      "326:\tlearn: 0.1165188\ttotal: 469ms\tremaining: 965ms\n",
      "327:\tlearn: 0.1161201\ttotal: 470ms\tremaining: 962ms\n",
      "328:\tlearn: 0.1156993\ttotal: 474ms\tremaining: 967ms\n",
      "329:\tlearn: 0.1153420\ttotal: 475ms\tremaining: 964ms\n",
      "330:\tlearn: 0.1151921\ttotal: 475ms\tremaining: 961ms\n",
      "331:\tlearn: 0.1147870\ttotal: 476ms\tremaining: 959ms\n",
      "332:\tlearn: 0.1143930\ttotal: 477ms\tremaining: 955ms\n",
      "333:\tlearn: 0.1140028\ttotal: 477ms\tremaining: 952ms\n",
      "334:\tlearn: 0.1136043\ttotal: 478ms\tremaining: 949ms\n",
      "335:\tlearn: 0.1130982\ttotal: 478ms\tremaining: 945ms\n",
      "336:\tlearn: 0.1127300\ttotal: 479ms\tremaining: 942ms\n",
      "337:\tlearn: 0.1123590\ttotal: 481ms\tremaining: 941ms\n",
      "338:\tlearn: 0.1119749\ttotal: 481ms\tremaining: 938ms\n",
      "339:\tlearn: 0.1116165\ttotal: 482ms\tremaining: 935ms\n",
      "340:\tlearn: 0.1113339\ttotal: 482ms\tremaining: 932ms\n",
      "341:\tlearn: 0.1110798\ttotal: 482ms\tremaining: 928ms\n",
      "342:\tlearn: 0.1106504\ttotal: 483ms\tremaining: 925ms\n",
      "343:\tlearn: 0.1103241\ttotal: 484ms\tremaining: 923ms\n",
      "344:\tlearn: 0.1097759\ttotal: 485ms\tremaining: 921ms\n",
      "345:\tlearn: 0.1094591\ttotal: 487ms\tremaining: 921ms\n",
      "346:\tlearn: 0.1091500\ttotal: 489ms\tremaining: 920ms\n",
      "347:\tlearn: 0.1086171\ttotal: 490ms\tremaining: 918ms\n",
      "348:\tlearn: 0.1081445\ttotal: 490ms\tremaining: 915ms\n",
      "349:\tlearn: 0.1076202\ttotal: 492ms\tremaining: 913ms\n",
      "350:\tlearn: 0.1073223\ttotal: 493ms\tremaining: 912ms\n",
      "351:\tlearn: 0.1068599\ttotal: 494ms\tremaining: 909ms\n",
      "352:\tlearn: 0.1064888\ttotal: 494ms\tremaining: 906ms\n",
      "353:\tlearn: 0.1059897\ttotal: 495ms\tremaining: 903ms\n",
      "354:\tlearn: 0.1057052\ttotal: 495ms\tremaining: 900ms\n",
      "355:\tlearn: 0.1052257\ttotal: 496ms\tremaining: 897ms\n",
      "356:\tlearn: 0.1048697\ttotal: 497ms\tremaining: 895ms\n",
      "357:\tlearn: 0.1045970\ttotal: 498ms\tremaining: 892ms\n",
      "358:\tlearn: 0.1043310\ttotal: 499ms\tremaining: 891ms\n",
      "359:\tlearn: 0.1038637\ttotal: 505ms\tremaining: 898ms\n",
      "360:\tlearn: 0.1034319\ttotal: 508ms\tremaining: 900ms\n",
      "361:\tlearn: 0.1031738\ttotal: 509ms\tremaining: 897ms\n",
      "362:\tlearn: 0.1029219\ttotal: 510ms\tremaining: 895ms\n",
      "363:\tlearn: 0.1026917\ttotal: 512ms\tremaining: 894ms\n",
      "364:\tlearn: 0.1022819\ttotal: 512ms\tremaining: 891ms\n",
      "365:\tlearn: 0.1019017\ttotal: 513ms\tremaining: 888ms\n",
      "366:\tlearn: 0.1015644\ttotal: 513ms\tremaining: 885ms\n",
      "367:\tlearn: 0.1011202\ttotal: 514ms\tremaining: 882ms\n",
      "368:\tlearn: 0.1006179\ttotal: 530ms\tremaining: 906ms\n",
      "369:\tlearn: 0.1002918\ttotal: 530ms\tremaining: 903ms\n"
     ]
    },
    {
     "name": "stdout",
     "output_type": "stream",
     "text": [
      "370:\tlearn: 0.0998637\ttotal: 531ms\tremaining: 900ms\n",
      "371:\tlearn: 0.0991300\ttotal: 531ms\tremaining: 897ms\n",
      "372:\tlearn: 0.0984130\ttotal: 532ms\tremaining: 894ms\n",
      "373:\tlearn: 0.0980030\ttotal: 537ms\tremaining: 899ms\n",
      "374:\tlearn: 0.0973066\ttotal: 537ms\tremaining: 896ms\n",
      "375:\tlearn: 0.0969100\ttotal: 538ms\tremaining: 893ms\n",
      "376:\tlearn: 0.0961451\ttotal: 539ms\tremaining: 890ms\n",
      "377:\tlearn: 0.0957905\ttotal: 539ms\tremaining: 887ms\n",
      "378:\tlearn: 0.0954077\ttotal: 545ms\tremaining: 893ms\n",
      "379:\tlearn: 0.0951146\ttotal: 546ms\tremaining: 891ms\n",
      "380:\tlearn: 0.0943953\ttotal: 546ms\tremaining: 888ms\n",
      "381:\tlearn: 0.0940822\ttotal: 547ms\tremaining: 885ms\n",
      "382:\tlearn: 0.0937471\ttotal: 548ms\tremaining: 883ms\n",
      "383:\tlearn: 0.0933818\ttotal: 549ms\tremaining: 881ms\n",
      "384:\tlearn: 0.0931047\ttotal: 550ms\tremaining: 879ms\n",
      "385:\tlearn: 0.0927569\ttotal: 551ms\tremaining: 877ms\n",
      "386:\tlearn: 0.0924386\ttotal: 552ms\tremaining: 875ms\n",
      "387:\tlearn: 0.0920167\ttotal: 553ms\tremaining: 872ms\n",
      "388:\tlearn: 0.0916796\ttotal: 553ms\tremaining: 869ms\n",
      "389:\tlearn: 0.0915070\ttotal: 554ms\tremaining: 866ms\n",
      "390:\tlearn: 0.0908845\ttotal: 555ms\tremaining: 864ms\n",
      "391:\tlearn: 0.0905453\ttotal: 559ms\tremaining: 866ms\n",
      "392:\tlearn: 0.0903545\ttotal: 559ms\tremaining: 864ms\n",
      "393:\tlearn: 0.0900286\ttotal: 561ms\tremaining: 863ms\n",
      "394:\tlearn: 0.0894901\ttotal: 561ms\tremaining: 860ms\n",
      "395:\tlearn: 0.0893257\ttotal: 562ms\tremaining: 857ms\n",
      "396:\tlearn: 0.0887755\ttotal: 563ms\tremaining: 856ms\n",
      "397:\tlearn: 0.0882558\ttotal: 564ms\tremaining: 854ms\n",
      "398:\tlearn: 0.0877498\ttotal: 565ms\tremaining: 851ms\n",
      "399:\tlearn: 0.0874325\ttotal: 565ms\tremaining: 848ms\n",
      "400:\tlearn: 0.0872209\ttotal: 566ms\tremaining: 845ms\n",
      "401:\tlearn: 0.0867313\ttotal: 566ms\tremaining: 842ms\n",
      "402:\tlearn: 0.0864210\ttotal: 567ms\tremaining: 840ms\n",
      "403:\tlearn: 0.0860005\ttotal: 567ms\tremaining: 837ms\n",
      "404:\tlearn: 0.0857995\ttotal: 568ms\tremaining: 834ms\n",
      "405:\tlearn: 0.0856442\ttotal: 570ms\tremaining: 834ms\n",
      "406:\tlearn: 0.0853417\ttotal: 570ms\tremaining: 831ms\n",
      "407:\tlearn: 0.0849178\ttotal: 571ms\tremaining: 828ms\n",
      "408:\tlearn: 0.0847578\ttotal: 572ms\tremaining: 826ms\n",
      "409:\tlearn: 0.0844626\ttotal: 572ms\tremaining: 824ms\n",
      "410:\tlearn: 0.0841965\ttotal: 573ms\tremaining: 821ms\n",
      "411:\tlearn: 0.0839069\ttotal: 574ms\tremaining: 819ms\n",
      "412:\tlearn: 0.0835519\ttotal: 575ms\tremaining: 817ms\n",
      "413:\tlearn: 0.0832962\ttotal: 576ms\tremaining: 815ms\n",
      "414:\tlearn: 0.0830635\ttotal: 576ms\tremaining: 812ms\n",
      "415:\tlearn: 0.0827649\ttotal: 577ms\tremaining: 809ms\n",
      "416:\tlearn: 0.0824909\ttotal: 577ms\tremaining: 807ms\n",
      "417:\tlearn: 0.0821814\ttotal: 578ms\tremaining: 805ms\n",
      "418:\tlearn: 0.0819369\ttotal: 580ms\tremaining: 804ms\n",
      "419:\tlearn: 0.0817056\ttotal: 581ms\tremaining: 802ms\n",
      "420:\tlearn: 0.0815780\ttotal: 582ms\tremaining: 800ms\n",
      "421:\tlearn: 0.0812807\ttotal: 582ms\tremaining: 797ms\n",
      "422:\tlearn: 0.0811551\ttotal: 583ms\tremaining: 796ms\n",
      "423:\tlearn: 0.0809207\ttotal: 585ms\tremaining: 794ms\n",
      "424:\tlearn: 0.0806626\ttotal: 585ms\tremaining: 792ms\n",
      "425:\tlearn: 0.0803915\ttotal: 586ms\tremaining: 790ms\n",
      "426:\tlearn: 0.0803224\ttotal: 591ms\tremaining: 794ms\n",
      "427:\tlearn: 0.0801132\ttotal: 592ms\tremaining: 791ms\n",
      "428:\tlearn: 0.0798486\ttotal: 592ms\tremaining: 788ms\n",
      "429:\tlearn: 0.0795888\ttotal: 593ms\tremaining: 786ms\n",
      "430:\tlearn: 0.0795276\ttotal: 593ms\tremaining: 783ms\n",
      "431:\tlearn: 0.0794671\ttotal: 597ms\tremaining: 785ms\n",
      "432:\tlearn: 0.0794016\ttotal: 598ms\tremaining: 783ms\n",
      "433:\tlearn: 0.0793370\ttotal: 599ms\tremaining: 781ms\n",
      "434:\tlearn: 0.0792792\ttotal: 599ms\tremaining: 778ms\n",
      "435:\tlearn: 0.0792165\ttotal: 600ms\tremaining: 776ms\n",
      "436:\tlearn: 0.0788688\ttotal: 600ms\tremaining: 773ms\n",
      "437:\tlearn: 0.0786156\ttotal: 601ms\tremaining: 771ms\n",
      "438:\tlearn: 0.0783672\ttotal: 601ms\tremaining: 768ms\n",
      "439:\tlearn: 0.0783114\ttotal: 602ms\tremaining: 766ms\n",
      "440:\tlearn: 0.0779326\ttotal: 602ms\tremaining: 763ms\n",
      "441:\tlearn: 0.0775109\ttotal: 603ms\tremaining: 761ms\n",
      "442:\tlearn: 0.0772177\ttotal: 603ms\tremaining: 759ms\n",
      "443:\tlearn: 0.0769514\ttotal: 605ms\tremaining: 757ms\n",
      "444:\tlearn: 0.0766652\ttotal: 605ms\tremaining: 755ms\n",
      "445:\tlearn: 0.0765067\ttotal: 606ms\tremaining: 753ms\n",
      "446:\tlearn: 0.0762223\ttotal: 608ms\tremaining: 752ms\n",
      "447:\tlearn: 0.0759490\ttotal: 609ms\tremaining: 751ms\n",
      "448:\tlearn: 0.0756895\ttotal: 610ms\tremaining: 748ms\n",
      "449:\tlearn: 0.0755361\ttotal: 611ms\tremaining: 746ms\n",
      "450:\tlearn: 0.0753054\ttotal: 611ms\tremaining: 744ms\n",
      "451:\tlearn: 0.0748483\ttotal: 614ms\tremaining: 744ms\n",
      "452:\tlearn: 0.0745779\ttotal: 615ms\tremaining: 743ms\n",
      "453:\tlearn: 0.0743803\ttotal: 615ms\tremaining: 740ms\n",
      "454:\tlearn: 0.0741164\ttotal: 616ms\tremaining: 738ms\n",
      "455:\tlearn: 0.0739309\ttotal: 617ms\tremaining: 736ms\n",
      "456:\tlearn: 0.0736731\ttotal: 617ms\tremaining: 734ms\n",
      "457:\tlearn: 0.0735572\ttotal: 618ms\tremaining: 731ms\n",
      "458:\tlearn: 0.0732978\ttotal: 619ms\tremaining: 730ms\n"
     ]
    },
    {
     "name": "stdout",
     "output_type": "stream",
     "text": [
      "459:\tlearn: 0.0730472\ttotal: 638ms\tremaining: 749ms\n",
      "460:\tlearn: 0.0727293\ttotal: 639ms\tremaining: 747ms\n",
      "461:\tlearn: 0.0722936\ttotal: 641ms\tremaining: 746ms\n",
      "462:\tlearn: 0.0720445\ttotal: 645ms\tremaining: 748ms\n",
      "463:\tlearn: 0.0719015\ttotal: 648ms\tremaining: 748ms\n",
      "464:\tlearn: 0.0718194\ttotal: 649ms\tremaining: 746ms\n",
      "465:\tlearn: 0.0715198\ttotal: 649ms\tremaining: 744ms\n",
      "466:\tlearn: 0.0713958\ttotal: 653ms\tremaining: 745ms\n",
      "467:\tlearn: 0.0713205\ttotal: 654ms\tremaining: 743ms\n",
      "468:\tlearn: 0.0709152\ttotal: 654ms\tremaining: 741ms\n",
      "469:\tlearn: 0.0706856\ttotal: 667ms\tremaining: 752ms\n",
      "470:\tlearn: 0.0705909\ttotal: 667ms\tremaining: 750ms\n",
      "471:\tlearn: 0.0702967\ttotal: 668ms\tremaining: 747ms\n",
      "472:\tlearn: 0.0702049\ttotal: 668ms\tremaining: 745ms\n",
      "473:\tlearn: 0.0700755\ttotal: 669ms\tremaining: 742ms\n",
      "474:\tlearn: 0.0697419\ttotal: 669ms\tremaining: 740ms\n",
      "475:\tlearn: 0.0695195\ttotal: 670ms\tremaining: 737ms\n",
      "476:\tlearn: 0.0693884\ttotal: 670ms\tremaining: 735ms\n",
      "477:\tlearn: 0.0691701\ttotal: 671ms\tremaining: 732ms\n",
      "478:\tlearn: 0.0690427\ttotal: 671ms\tremaining: 730ms\n",
      "479:\tlearn: 0.0689566\ttotal: 671ms\tremaining: 727ms\n",
      "480:\tlearn: 0.0687424\ttotal: 672ms\tremaining: 725ms\n",
      "481:\tlearn: 0.0684630\ttotal: 674ms\tremaining: 724ms\n",
      "482:\tlearn: 0.0680602\ttotal: 678ms\tremaining: 725ms\n",
      "483:\tlearn: 0.0676586\ttotal: 678ms\tremaining: 723ms\n",
      "484:\tlearn: 0.0674183\ttotal: 679ms\tremaining: 721ms\n",
      "485:\tlearn: 0.0672020\ttotal: 679ms\tremaining: 718ms\n",
      "486:\tlearn: 0.0669675\ttotal: 680ms\tremaining: 716ms\n",
      "487:\tlearn: 0.0667453\ttotal: 680ms\tremaining: 714ms\n",
      "488:\tlearn: 0.0664784\ttotal: 681ms\tremaining: 711ms\n",
      "489:\tlearn: 0.0662181\ttotal: 681ms\tremaining: 709ms\n",
      "490:\tlearn: 0.0661198\ttotal: 682ms\tremaining: 707ms\n",
      "491:\tlearn: 0.0660426\ttotal: 682ms\tremaining: 704ms\n",
      "492:\tlearn: 0.0659471\ttotal: 683ms\tremaining: 702ms\n",
      "493:\tlearn: 0.0655572\ttotal: 683ms\tremaining: 700ms\n",
      "494:\tlearn: 0.0652993\ttotal: 684ms\tremaining: 698ms\n",
      "495:\tlearn: 0.0650475\ttotal: 690ms\tremaining: 701ms\n",
      "496:\tlearn: 0.0647913\ttotal: 690ms\tremaining: 699ms\n",
      "497:\tlearn: 0.0647045\ttotal: 692ms\tremaining: 697ms\n"
     ]
    },
    {
     "name": "stdout",
     "output_type": "stream",
     "text": [
      "498:\tlearn: 0.0644544\ttotal: 692ms\tremaining: 695ms\n",
      "499:\tlearn: 0.0643701\ttotal: 693ms\tremaining: 693ms\n",
      "500:\tlearn: 0.0641500\ttotal: 694ms\tremaining: 691ms\n",
      "501:\tlearn: 0.0639069\ttotal: 696ms\tremaining: 691ms\n",
      "502:\tlearn: 0.0637051\ttotal: 697ms\tremaining: 689ms\n",
      "503:\tlearn: 0.0634740\ttotal: 697ms\tremaining: 686ms\n",
      "504:\tlearn: 0.0632183\ttotal: 698ms\tremaining: 684ms\n",
      "505:\tlearn: 0.0629899\ttotal: 699ms\tremaining: 683ms\n",
      "506:\tlearn: 0.0627404\ttotal: 700ms\tremaining: 680ms\n",
      "507:\tlearn: 0.0625199\ttotal: 701ms\tremaining: 679ms\n",
      "508:\tlearn: 0.0623059\ttotal: 703ms\tremaining: 678ms\n",
      "509:\tlearn: 0.0621431\ttotal: 704ms\tremaining: 676ms\n",
      "510:\tlearn: 0.0619844\ttotal: 705ms\tremaining: 675ms\n",
      "511:\tlearn: 0.0617982\ttotal: 706ms\tremaining: 673ms\n",
      "512:\tlearn: 0.0616200\ttotal: 708ms\tremaining: 672ms\n",
      "513:\tlearn: 0.0614961\ttotal: 708ms\tremaining: 670ms\n",
      "514:\tlearn: 0.0614175\ttotal: 709ms\tremaining: 668ms\n",
      "515:\tlearn: 0.0612382\ttotal: 709ms\tremaining: 665ms\n",
      "516:\tlearn: 0.0611362\ttotal: 710ms\tremaining: 663ms\n",
      "517:\tlearn: 0.0609436\ttotal: 710ms\tremaining: 661ms\n",
      "518:\tlearn: 0.0608892\ttotal: 711ms\tremaining: 659ms\n",
      "519:\tlearn: 0.0607030\ttotal: 712ms\tremaining: 657ms\n",
      "520:\tlearn: 0.0606688\ttotal: 712ms\tremaining: 655ms\n",
      "521:\tlearn: 0.0604885\ttotal: 712ms\tremaining: 652ms\n",
      "522:\tlearn: 0.0603170\ttotal: 713ms\tremaining: 650ms\n",
      "523:\tlearn: 0.0602424\ttotal: 713ms\tremaining: 648ms\n",
      "524:\tlearn: 0.0600757\ttotal: 714ms\tremaining: 646ms\n",
      "525:\tlearn: 0.0600023\ttotal: 715ms\tremaining: 644ms\n",
      "526:\tlearn: 0.0598403\ttotal: 715ms\tremaining: 642ms\n",
      "527:\tlearn: 0.0597679\ttotal: 716ms\tremaining: 640ms\n",
      "528:\tlearn: 0.0597360\ttotal: 716ms\tremaining: 638ms\n",
      "529:\tlearn: 0.0597046\ttotal: 717ms\tremaining: 635ms\n",
      "530:\tlearn: 0.0595224\ttotal: 717ms\tremaining: 633ms\n",
      "531:\tlearn: 0.0593205\ttotal: 718ms\tremaining: 631ms\n",
      "532:\tlearn: 0.0591566\ttotal: 718ms\tremaining: 629ms\n",
      "533:\tlearn: 0.0590024\ttotal: 724ms\tremaining: 632ms\n",
      "534:\tlearn: 0.0589718\ttotal: 725ms\tremaining: 630ms\n",
      "535:\tlearn: 0.0586714\ttotal: 725ms\tremaining: 628ms\n",
      "536:\tlearn: 0.0585153\ttotal: 726ms\tremaining: 626ms\n",
      "537:\tlearn: 0.0584667\ttotal: 726ms\tremaining: 624ms\n",
      "538:\tlearn: 0.0583162\ttotal: 727ms\tremaining: 622ms\n",
      "539:\tlearn: 0.0582866\ttotal: 728ms\tremaining: 620ms\n",
      "540:\tlearn: 0.0582574\ttotal: 728ms\tremaining: 618ms\n",
      "541:\tlearn: 0.0581376\ttotal: 728ms\tremaining: 616ms\n",
      "542:\tlearn: 0.0579925\ttotal: 729ms\tremaining: 613ms\n",
      "543:\tlearn: 0.0579641\ttotal: 729ms\tremaining: 611ms\n",
      "544:\tlearn: 0.0579004\ttotal: 730ms\tremaining: 609ms\n",
      "545:\tlearn: 0.0576786\ttotal: 730ms\tremaining: 607ms\n",
      "546:\tlearn: 0.0574858\ttotal: 731ms\tremaining: 605ms\n",
      "547:\tlearn: 0.0572637\ttotal: 734ms\tremaining: 605ms\n",
      "548:\tlearn: 0.0570482\ttotal: 735ms\tremaining: 603ms\n",
      "549:\tlearn: 0.0568611\ttotal: 735ms\tremaining: 602ms\n",
      "550:\tlearn: 0.0566691\ttotal: 736ms\tremaining: 600ms\n",
      "551:\tlearn: 0.0564826\ttotal: 737ms\tremaining: 598ms\n",
      "552:\tlearn: 0.0562708\ttotal: 737ms\tremaining: 596ms\n",
      "553:\tlearn: 0.0561162\ttotal: 738ms\tremaining: 594ms\n",
      "554:\tlearn: 0.0559654\ttotal: 738ms\tremaining: 592ms\n",
      "555:\tlearn: 0.0558947\ttotal: 739ms\tremaining: 590ms\n",
      "556:\tlearn: 0.0557265\ttotal: 740ms\tremaining: 588ms\n",
      "557:\tlearn: 0.0554526\ttotal: 740ms\tremaining: 587ms\n",
      "558:\tlearn: 0.0553211\ttotal: 741ms\tremaining: 585ms\n",
      "559:\tlearn: 0.0552085\ttotal: 742ms\tremaining: 583ms\n",
      "560:\tlearn: 0.0550261\ttotal: 742ms\tremaining: 581ms\n",
      "561:\tlearn: 0.0548493\ttotal: 743ms\tremaining: 579ms\n",
      "562:\tlearn: 0.0547235\ttotal: 743ms\tremaining: 577ms\n",
      "563:\tlearn: 0.0544277\ttotal: 744ms\tremaining: 575ms\n",
      "564:\tlearn: 0.0542648\ttotal: 745ms\tremaining: 573ms\n",
      "565:\tlearn: 0.0540558\ttotal: 745ms\tremaining: 571ms\n",
      "566:\tlearn: 0.0540072\ttotal: 745ms\tremaining: 569ms\n",
      "567:\tlearn: 0.0538065\ttotal: 746ms\tremaining: 567ms\n",
      "568:\tlearn: 0.0535803\ttotal: 747ms\tremaining: 565ms\n",
      "569:\tlearn: 0.0535336\ttotal: 747ms\tremaining: 563ms\n",
      "570:\tlearn: 0.0533624\ttotal: 747ms\tremaining: 561ms\n",
      "571:\tlearn: 0.0532753\ttotal: 747ms\tremaining: 559ms\n",
      "572:\tlearn: 0.0531028\ttotal: 748ms\tremaining: 557ms\n",
      "573:\tlearn: 0.0529856\ttotal: 748ms\tremaining: 555ms\n",
      "574:\tlearn: 0.0528441\ttotal: 749ms\tremaining: 554ms\n",
      "575:\tlearn: 0.0525642\ttotal: 750ms\tremaining: 552ms\n",
      "576:\tlearn: 0.0523726\ttotal: 750ms\tremaining: 550ms\n",
      "577:\tlearn: 0.0521855\ttotal: 752ms\tremaining: 549ms\n",
      "578:\tlearn: 0.0521401\ttotal: 752ms\tremaining: 547ms\n",
      "579:\tlearn: 0.0520158\ttotal: 752ms\tremaining: 545ms\n",
      "580:\tlearn: 0.0518020\ttotal: 753ms\tremaining: 543ms\n",
      "581:\tlearn: 0.0516719\ttotal: 753ms\tremaining: 541ms\n",
      "582:\tlearn: 0.0515720\ttotal: 753ms\tremaining: 539ms\n",
      "583:\tlearn: 0.0514833\ttotal: 754ms\tremaining: 537ms\n",
      "584:\tlearn: 0.0513969\ttotal: 754ms\tremaining: 535ms\n",
      "585:\tlearn: 0.0513541\ttotal: 755ms\tremaining: 533ms\n",
      "586:\tlearn: 0.0511966\ttotal: 755ms\tremaining: 531ms\n",
      "587:\tlearn: 0.0510177\ttotal: 755ms\tremaining: 529ms\n",
      "588:\tlearn: 0.0508894\ttotal: 756ms\tremaining: 528ms\n",
      "589:\tlearn: 0.0507647\ttotal: 757ms\tremaining: 526ms\n",
      "590:\tlearn: 0.0506139\ttotal: 757ms\tremaining: 524ms\n",
      "591:\tlearn: 0.0504901\ttotal: 758ms\tremaining: 522ms\n",
      "592:\tlearn: 0.0502884\ttotal: 758ms\tremaining: 520ms\n",
      "593:\tlearn: 0.0501663\ttotal: 760ms\tremaining: 519ms\n",
      "594:\tlearn: 0.0500465\ttotal: 761ms\tremaining: 518ms\n",
      "595:\tlearn: 0.0499449\ttotal: 762ms\tremaining: 517ms\n",
      "596:\tlearn: 0.0498269\ttotal: 763ms\tremaining: 515ms\n",
      "597:\tlearn: 0.0496727\ttotal: 764ms\tremaining: 513ms\n",
      "598:\tlearn: 0.0495579\ttotal: 765ms\tremaining: 512ms\n",
      "599:\tlearn: 0.0494066\ttotal: 765ms\tremaining: 510ms\n",
      "600:\tlearn: 0.0492924\ttotal: 766ms\tremaining: 508ms\n",
      "601:\tlearn: 0.0490327\ttotal: 767ms\tremaining: 507ms\n",
      "602:\tlearn: 0.0489209\ttotal: 767ms\tremaining: 505ms\n",
      "603:\tlearn: 0.0488151\ttotal: 768ms\tremaining: 504ms\n",
      "604:\tlearn: 0.0487057\ttotal: 768ms\tremaining: 502ms\n",
      "605:\tlearn: 0.0484534\ttotal: 774ms\tremaining: 503ms\n",
      "606:\tlearn: 0.0483369\ttotal: 775ms\tremaining: 502ms\n",
      "607:\tlearn: 0.0482362\ttotal: 775ms\tremaining: 500ms\n",
      "608:\tlearn: 0.0481248\ttotal: 776ms\tremaining: 498ms\n",
      "609:\tlearn: 0.0478789\ttotal: 776ms\tremaining: 496ms\n",
      "610:\tlearn: 0.0477827\ttotal: 777ms\tremaining: 495ms\n",
      "611:\tlearn: 0.0476761\ttotal: 777ms\tremaining: 493ms\n",
      "612:\tlearn: 0.0475841\ttotal: 778ms\tremaining: 491ms\n",
      "613:\tlearn: 0.0474953\ttotal: 778ms\tremaining: 489ms\n",
      "614:\tlearn: 0.0474468\ttotal: 779ms\tremaining: 487ms\n",
      "615:\tlearn: 0.0472983\ttotal: 779ms\tremaining: 486ms\n",
      "616:\tlearn: 0.0472597\ttotal: 779ms\tremaining: 484ms\n",
      "617:\tlearn: 0.0471145\ttotal: 780ms\tremaining: 482ms\n",
      "618:\tlearn: 0.0468765\ttotal: 781ms\tremaining: 481ms\n",
      "619:\tlearn: 0.0467766\ttotal: 782ms\tremaining: 479ms\n",
      "620:\tlearn: 0.0466794\ttotal: 782ms\tremaining: 477ms\n",
      "621:\tlearn: 0.0465955\ttotal: 783ms\tremaining: 476ms\n",
      "622:\tlearn: 0.0465550\ttotal: 783ms\tremaining: 474ms\n",
      "623:\tlearn: 0.0465149\ttotal: 784ms\tremaining: 472ms\n",
      "624:\tlearn: 0.0462861\ttotal: 784ms\tremaining: 471ms\n",
      "625:\tlearn: 0.0462287\ttotal: 785ms\tremaining: 469ms\n",
      "626:\tlearn: 0.0461831\ttotal: 788ms\tremaining: 469ms\n",
      "627:\tlearn: 0.0460434\ttotal: 790ms\tremaining: 468ms\n",
      "628:\tlearn: 0.0458460\ttotal: 791ms\tremaining: 466ms\n",
      "629:\tlearn: 0.0458070\ttotal: 792ms\tremaining: 465ms\n",
      "630:\tlearn: 0.0456703\ttotal: 792ms\tremaining: 463ms\n",
      "631:\tlearn: 0.0456319\ttotal: 792ms\tremaining: 461ms\n",
      "632:\tlearn: 0.0455582\ttotal: 793ms\tremaining: 460ms\n",
      "633:\tlearn: 0.0453602\ttotal: 793ms\tremaining: 458ms\n",
      "634:\tlearn: 0.0453163\ttotal: 794ms\tremaining: 456ms\n",
      "635:\tlearn: 0.0451838\ttotal: 794ms\tremaining: 454ms\n",
      "636:\tlearn: 0.0450911\ttotal: 795ms\tremaining: 453ms\n",
      "637:\tlearn: 0.0448652\ttotal: 796ms\tremaining: 451ms\n",
      "638:\tlearn: 0.0447732\ttotal: 796ms\tremaining: 450ms\n",
      "639:\tlearn: 0.0446861\ttotal: 796ms\tremaining: 448ms\n",
      "640:\tlearn: 0.0446319\ttotal: 797ms\tremaining: 446ms\n",
      "641:\tlearn: 0.0444467\ttotal: 797ms\tremaining: 445ms\n",
      "642:\tlearn: 0.0444105\ttotal: 798ms\tremaining: 443ms\n",
      "643:\tlearn: 0.0443749\ttotal: 798ms\tremaining: 441ms\n",
      "644:\tlearn: 0.0443333\ttotal: 798ms\tremaining: 439ms\n",
      "645:\tlearn: 0.0442050\ttotal: 799ms\tremaining: 438ms\n",
      "646:\tlearn: 0.0440760\ttotal: 799ms\tremaining: 436ms\n",
      "647:\tlearn: 0.0439903\ttotal: 800ms\tremaining: 434ms\n",
      "648:\tlearn: 0.0439369\ttotal: 800ms\tremaining: 433ms\n",
      "649:\tlearn: 0.0438117\ttotal: 801ms\tremaining: 431ms\n",
      "650:\tlearn: 0.0437593\ttotal: 801ms\tremaining: 429ms\n",
      "651:\tlearn: 0.0436760\ttotal: 801ms\tremaining: 428ms\n",
      "652:\tlearn: 0.0434976\ttotal: 802ms\tremaining: 426ms\n",
      "653:\tlearn: 0.0434638\ttotal: 802ms\tremaining: 424ms\n",
      "654:\tlearn: 0.0433771\ttotal: 803ms\tremaining: 423ms\n",
      "655:\tlearn: 0.0432553\ttotal: 803ms\tremaining: 421ms\n",
      "656:\tlearn: 0.0432040\ttotal: 804ms\tremaining: 420ms\n",
      "657:\tlearn: 0.0430799\ttotal: 804ms\tremaining: 418ms\n",
      "658:\tlearn: 0.0430411\ttotal: 804ms\tremaining: 416ms\n",
      "659:\tlearn: 0.0429181\ttotal: 805ms\tremaining: 415ms\n",
      "660:\tlearn: 0.0428192\ttotal: 805ms\tremaining: 413ms\n",
      "661:\tlearn: 0.0427387\ttotal: 805ms\tremaining: 411ms\n",
      "662:\tlearn: 0.0426185\ttotal: 806ms\tremaining: 410ms\n",
      "663:\tlearn: 0.0425230\ttotal: 806ms\tremaining: 408ms\n",
      "664:\tlearn: 0.0424442\ttotal: 807ms\tremaining: 406ms\n",
      "665:\tlearn: 0.0423273\ttotal: 807ms\tremaining: 405ms\n",
      "666:\tlearn: 0.0422111\ttotal: 808ms\tremaining: 403ms\n",
      "667:\tlearn: 0.0421194\ttotal: 808ms\tremaining: 402ms\n",
      "668:\tlearn: 0.0420293\ttotal: 809ms\tremaining: 400ms\n",
      "669:\tlearn: 0.0419047\ttotal: 809ms\tremaining: 398ms\n",
      "670:\tlearn: 0.0418166\ttotal: 809ms\tremaining: 397ms\n",
      "671:\tlearn: 0.0417011\ttotal: 810ms\tremaining: 395ms\n",
      "672:\tlearn: 0.0416257\ttotal: 810ms\tremaining: 394ms\n",
      "673:\tlearn: 0.0415159\ttotal: 811ms\tremaining: 392ms\n",
      "674:\tlearn: 0.0413267\ttotal: 811ms\tremaining: 390ms\n",
      "675:\tlearn: 0.0411412\ttotal: 811ms\tremaining: 389ms\n",
      "676:\tlearn: 0.0409636\ttotal: 812ms\tremaining: 387ms\n",
      "677:\tlearn: 0.0407895\ttotal: 812ms\tremaining: 386ms\n",
      "678:\tlearn: 0.0406710\ttotal: 812ms\tremaining: 384ms\n",
      "679:\tlearn: 0.0406077\ttotal: 813ms\tremaining: 383ms\n",
      "680:\tlearn: 0.0404873\ttotal: 813ms\tremaining: 381ms\n",
      "681:\tlearn: 0.0404144\ttotal: 814ms\tremaining: 379ms\n",
      "682:\tlearn: 0.0403541\ttotal: 814ms\tremaining: 378ms\n",
      "683:\tlearn: 0.0403180\ttotal: 814ms\tremaining: 376ms\n",
      "684:\tlearn: 0.0402329\ttotal: 815ms\tremaining: 375ms\n",
      "685:\tlearn: 0.0401634\ttotal: 815ms\tremaining: 373ms\n",
      "686:\tlearn: 0.0400446\ttotal: 815ms\tremaining: 372ms\n",
      "687:\tlearn: 0.0400162\ttotal: 816ms\tremaining: 370ms\n",
      "688:\tlearn: 0.0399882\ttotal: 816ms\tremaining: 368ms\n"
     ]
    },
    {
     "name": "stdout",
     "output_type": "stream",
     "text": [
      "689:\tlearn: 0.0399605\ttotal: 817ms\tremaining: 367ms\n",
      "690:\tlearn: 0.0399332\ttotal: 817ms\tremaining: 365ms\n",
      "691:\tlearn: 0.0397766\ttotal: 817ms\tremaining: 364ms\n",
      "692:\tlearn: 0.0396637\ttotal: 818ms\tremaining: 362ms\n",
      "693:\tlearn: 0.0395532\ttotal: 818ms\tremaining: 361ms\n",
      "694:\tlearn: 0.0394452\ttotal: 819ms\tremaining: 359ms\n",
      "695:\tlearn: 0.0394074\ttotal: 821ms\tremaining: 359ms\n",
      "696:\tlearn: 0.0393539\ttotal: 822ms\tremaining: 358ms\n",
      "697:\tlearn: 0.0393277\ttotal: 824ms\tremaining: 357ms\n",
      "698:\tlearn: 0.0392374\ttotal: 825ms\tremaining: 355ms\n",
      "699:\tlearn: 0.0391908\ttotal: 825ms\tremaining: 354ms\n",
      "700:\tlearn: 0.0391586\ttotal: 825ms\tremaining: 352ms\n",
      "701:\tlearn: 0.0390707\ttotal: 826ms\tremaining: 351ms\n",
      "702:\tlearn: 0.0390249\ttotal: 826ms\tremaining: 349ms\n",
      "703:\tlearn: 0.0390043\ttotal: 827ms\tremaining: 348ms\n",
      "704:\tlearn: 0.0389840\ttotal: 827ms\tremaining: 346ms\n",
      "705:\tlearn: 0.0387170\ttotal: 828ms\tremaining: 345ms\n",
      "706:\tlearn: 0.0386478\ttotal: 828ms\tremaining: 343ms\n",
      "707:\tlearn: 0.0386279\ttotal: 829ms\tremaining: 342ms\n",
      "708:\tlearn: 0.0385258\ttotal: 829ms\tremaining: 340ms\n",
      "709:\tlearn: 0.0382882\ttotal: 830ms\tremaining: 339ms\n",
      "710:\tlearn: 0.0382713\ttotal: 830ms\tremaining: 337ms\n",
      "711:\tlearn: 0.0382546\ttotal: 830ms\tremaining: 336ms\n",
      "712:\tlearn: 0.0381549\ttotal: 831ms\tremaining: 334ms\n",
      "713:\tlearn: 0.0380493\ttotal: 831ms\tremaining: 333ms\n",
      "714:\tlearn: 0.0379476\ttotal: 832ms\tremaining: 332ms\n",
      "715:\tlearn: 0.0378496\ttotal: 833ms\tremaining: 330ms\n",
      "716:\tlearn: 0.0377386\ttotal: 833ms\tremaining: 329ms\n",
      "717:\tlearn: 0.0376420\ttotal: 833ms\tremaining: 327ms\n",
      "718:\tlearn: 0.0375412\ttotal: 834ms\tremaining: 326ms\n",
      "719:\tlearn: 0.0374336\ttotal: 834ms\tremaining: 324ms\n",
      "720:\tlearn: 0.0373335\ttotal: 835ms\tremaining: 323ms\n",
      "721:\tlearn: 0.0372390\ttotal: 835ms\tremaining: 322ms\n",
      "722:\tlearn: 0.0371425\ttotal: 837ms\tremaining: 321ms\n",
      "723:\tlearn: 0.0370455\ttotal: 837ms\tremaining: 319ms\n",
      "724:\tlearn: 0.0369653\ttotal: 838ms\tremaining: 318ms\n",
      "725:\tlearn: 0.0368872\ttotal: 838ms\tremaining: 316ms\n",
      "726:\tlearn: 0.0368112\ttotal: 839ms\tremaining: 315ms\n",
      "727:\tlearn: 0.0367197\ttotal: 839ms\tremaining: 313ms\n",
      "728:\tlearn: 0.0366988\ttotal: 840ms\tremaining: 312ms\n",
      "729:\tlearn: 0.0366782\ttotal: 840ms\tremaining: 311ms\n",
      "730:\tlearn: 0.0365868\ttotal: 840ms\tremaining: 309ms\n",
      "731:\tlearn: 0.0365141\ttotal: 841ms\tremaining: 308ms\n",
      "732:\tlearn: 0.0364940\ttotal: 841ms\tremaining: 306ms\n",
      "733:\tlearn: 0.0362621\ttotal: 842ms\tremaining: 305ms\n",
      "734:\tlearn: 0.0360332\ttotal: 843ms\tremaining: 304ms\n",
      "735:\tlearn: 0.0359958\ttotal: 843ms\tremaining: 302ms\n",
      "736:\tlearn: 0.0359346\ttotal: 843ms\tremaining: 301ms\n",
      "737:\tlearn: 0.0358464\ttotal: 844ms\tremaining: 300ms\n",
      "738:\tlearn: 0.0357608\ttotal: 845ms\tremaining: 298ms\n",
      "739:\tlearn: 0.0356618\ttotal: 845ms\tremaining: 297ms\n",
      "740:\tlearn: 0.0356296\ttotal: 846ms\tremaining: 296ms\n",
      "741:\tlearn: 0.0355978\ttotal: 846ms\tremaining: 294ms\n",
      "742:\tlearn: 0.0355531\ttotal: 847ms\tremaining: 293ms\n",
      "743:\tlearn: 0.0355284\ttotal: 847ms\tremaining: 291ms\n",
      "744:\tlearn: 0.0354425\ttotal: 848ms\tremaining: 290ms\n",
      "745:\tlearn: 0.0353603\ttotal: 848ms\tremaining: 289ms\n",
      "746:\tlearn: 0.0352643\ttotal: 849ms\tremaining: 287ms\n",
      "747:\tlearn: 0.0351728\ttotal: 849ms\tremaining: 286ms\n",
      "748:\tlearn: 0.0349518\ttotal: 849ms\tremaining: 285ms\n",
      "749:\tlearn: 0.0348626\ttotal: 850ms\tremaining: 283ms\n",
      "750:\tlearn: 0.0347753\ttotal: 851ms\tremaining: 282ms\n",
      "751:\tlearn: 0.0346898\ttotal: 851ms\tremaining: 281ms\n",
      "752:\tlearn: 0.0344759\ttotal: 852ms\tremaining: 280ms\n",
      "753:\tlearn: 0.0343817\ttotal: 853ms\tremaining: 278ms\n",
      "754:\tlearn: 0.0342999\ttotal: 853ms\tremaining: 277ms\n",
      "755:\tlearn: 0.0342174\ttotal: 854ms\tremaining: 275ms\n",
      "756:\tlearn: 0.0341099\ttotal: 854ms\tremaining: 274ms\n",
      "757:\tlearn: 0.0339609\ttotal: 855ms\tremaining: 273ms\n",
      "758:\tlearn: 0.0338803\ttotal: 855ms\tremaining: 271ms\n",
      "759:\tlearn: 0.0338012\ttotal: 855ms\tremaining: 270ms\n",
      "760:\tlearn: 0.0336958\ttotal: 857ms\tremaining: 269ms\n",
      "761:\tlearn: 0.0336164\ttotal: 857ms\tremaining: 268ms\n",
      "762:\tlearn: 0.0335396\ttotal: 858ms\tremaining: 266ms\n",
      "763:\tlearn: 0.0333192\ttotal: 859ms\tremaining: 265ms\n",
      "764:\tlearn: 0.0332451\ttotal: 870ms\tremaining: 267ms\n",
      "765:\tlearn: 0.0331681\ttotal: 870ms\tremaining: 266ms\n",
      "766:\tlearn: 0.0331288\ttotal: 876ms\tremaining: 266ms\n",
      "767:\tlearn: 0.0330254\ttotal: 879ms\tremaining: 265ms\n",
      "768:\tlearn: 0.0329965\ttotal: 879ms\tremaining: 264ms\n",
      "769:\tlearn: 0.0329204\ttotal: 880ms\tremaining: 263ms\n",
      "770:\tlearn: 0.0328919\ttotal: 880ms\tremaining: 261ms\n",
      "771:\tlearn: 0.0326933\ttotal: 881ms\tremaining: 260ms\n",
      "772:\tlearn: 0.0326225\ttotal: 881ms\tremaining: 259ms\n",
      "773:\tlearn: 0.0325336\ttotal: 881ms\tremaining: 257ms\n",
      "774:\tlearn: 0.0324466\ttotal: 882ms\tremaining: 256ms\n",
      "775:\tlearn: 0.0323722\ttotal: 882ms\tremaining: 255ms\n",
      "776:\tlearn: 0.0322686\ttotal: 883ms\tremaining: 253ms\n",
      "777:\tlearn: 0.0320838\ttotal: 884ms\tremaining: 252ms\n",
      "778:\tlearn: 0.0319030\ttotal: 884ms\tremaining: 251ms\n",
      "779:\tlearn: 0.0318689\ttotal: 885ms\tremaining: 250ms\n",
      "780:\tlearn: 0.0317930\ttotal: 885ms\tremaining: 248ms\n",
      "781:\tlearn: 0.0316163\ttotal: 886ms\tremaining: 247ms\n",
      "782:\tlearn: 0.0315501\ttotal: 886ms\tremaining: 246ms\n",
      "783:\tlearn: 0.0313774\ttotal: 886ms\tremaining: 244ms\n",
      "784:\tlearn: 0.0312084\ttotal: 887ms\tremaining: 243ms\n",
      "785:\tlearn: 0.0310567\ttotal: 888ms\tremaining: 242ms\n",
      "786:\tlearn: 0.0309707\ttotal: 889ms\tremaining: 241ms\n",
      "787:\tlearn: 0.0308072\ttotal: 889ms\tremaining: 239ms\n",
      "788:\tlearn: 0.0307240\ttotal: 890ms\tremaining: 238ms\n",
      "789:\tlearn: 0.0305645\ttotal: 890ms\tremaining: 237ms\n",
      "790:\tlearn: 0.0304840\ttotal: 891ms\tremaining: 235ms\n",
      "791:\tlearn: 0.0303283\ttotal: 891ms\tremaining: 234ms\n",
      "792:\tlearn: 0.0301760\ttotal: 892ms\tremaining: 233ms\n",
      "793:\tlearn: 0.0300602\ttotal: 892ms\tremaining: 231ms\n",
      "794:\tlearn: 0.0299646\ttotal: 892ms\tremaining: 230ms\n",
      "795:\tlearn: 0.0298519\ttotal: 893ms\tremaining: 229ms\n",
      "796:\tlearn: 0.0297582\ttotal: 893ms\tremaining: 227ms\n",
      "797:\tlearn: 0.0296664\ttotal: 894ms\tremaining: 226ms\n",
      "798:\tlearn: 0.0295891\ttotal: 894ms\tremaining: 225ms\n",
      "799:\tlearn: 0.0295131\ttotal: 894ms\tremaining: 224ms\n",
      "800:\tlearn: 0.0294517\ttotal: 899ms\tremaining: 223ms\n",
      "801:\tlearn: 0.0293621\ttotal: 900ms\tremaining: 222ms\n",
      "802:\tlearn: 0.0293027\ttotal: 910ms\tremaining: 223ms\n",
      "803:\tlearn: 0.0292157\ttotal: 911ms\tremaining: 222ms\n",
      "804:\tlearn: 0.0291419\ttotal: 911ms\tremaining: 221ms\n",
      "805:\tlearn: 0.0290161\ttotal: 912ms\tremaining: 219ms\n",
      "806:\tlearn: 0.0288695\ttotal: 912ms\tremaining: 218ms\n",
      "807:\tlearn: 0.0287262\ttotal: 913ms\tremaining: 217ms\n",
      "808:\tlearn: 0.0286533\ttotal: 914ms\tremaining: 216ms\n",
      "809:\tlearn: 0.0285833\ttotal: 914ms\tremaining: 214ms\n",
      "810:\tlearn: 0.0284433\ttotal: 920ms\tremaining: 214ms\n",
      "811:\tlearn: 0.0283073\ttotal: 921ms\tremaining: 213ms\n",
      "812:\tlearn: 0.0282395\ttotal: 922ms\tremaining: 212ms\n",
      "813:\tlearn: 0.0280753\ttotal: 922ms\tremaining: 211ms\n",
      "814:\tlearn: 0.0280640\ttotal: 925ms\tremaining: 210ms\n",
      "815:\tlearn: 0.0279037\ttotal: 928ms\tremaining: 209ms\n",
      "816:\tlearn: 0.0278925\ttotal: 929ms\tremaining: 208ms\n",
      "817:\tlearn: 0.0278518\ttotal: 929ms\tremaining: 207ms\n",
      "818:\tlearn: 0.0276953\ttotal: 930ms\tremaining: 205ms\n",
      "819:\tlearn: 0.0276842\ttotal: 930ms\tremaining: 204ms\n",
      "820:\tlearn: 0.0276440\ttotal: 931ms\tremaining: 203ms\n",
      "821:\tlearn: 0.0274910\ttotal: 931ms\tremaining: 202ms\n",
      "822:\tlearn: 0.0274800\ttotal: 932ms\tremaining: 200ms\n",
      "823:\tlearn: 0.0274236\ttotal: 933ms\tremaining: 199ms\n",
      "824:\tlearn: 0.0274128\ttotal: 933ms\tremaining: 198ms\n",
      "825:\tlearn: 0.0273731\ttotal: 934ms\tremaining: 197ms\n",
      "826:\tlearn: 0.0272465\ttotal: 934ms\tremaining: 195ms\n",
      "827:\tlearn: 0.0272068\ttotal: 934ms\tremaining: 194ms\n",
      "828:\tlearn: 0.0271534\ttotal: 936ms\tremaining: 193ms\n",
      "829:\tlearn: 0.0271172\ttotal: 936ms\tremaining: 192ms\n",
      "830:\tlearn: 0.0269935\ttotal: 937ms\tremaining: 191ms\n",
      "831:\tlearn: 0.0269418\ttotal: 938ms\tremaining: 189ms\n",
      "832:\tlearn: 0.0269063\ttotal: 938ms\tremaining: 188ms\n",
      "833:\tlearn: 0.0268713\ttotal: 939ms\tremaining: 187ms\n",
      "834:\tlearn: 0.0267278\ttotal: 939ms\tremaining: 186ms\n",
      "835:\tlearn: 0.0266935\ttotal: 940ms\tremaining: 184ms\n",
      "836:\tlearn: 0.0265538\ttotal: 941ms\tremaining: 183ms\n",
      "837:\tlearn: 0.0265203\ttotal: 941ms\tremaining: 182ms\n",
      "838:\tlearn: 0.0264872\ttotal: 941ms\tremaining: 181ms\n",
      "839:\tlearn: 0.0263630\ttotal: 942ms\tremaining: 179ms\n"
     ]
    },
    {
     "name": "stdout",
     "output_type": "stream",
     "text": [
      "840:\tlearn: 0.0262795\ttotal: 943ms\tremaining: 178ms\n",
      "841:\tlearn: 0.0262400\ttotal: 945ms\tremaining: 177ms\n",
      "842:\tlearn: 0.0262074\ttotal: 946ms\tremaining: 176ms\n",
      "843:\tlearn: 0.0260860\ttotal: 946ms\tremaining: 175ms\n",
      "844:\tlearn: 0.0260275\ttotal: 947ms\tremaining: 174ms\n",
      "845:\tlearn: 0.0259460\ttotal: 947ms\tremaining: 172ms\n",
      "846:\tlearn: 0.0259071\ttotal: 947ms\tremaining: 171ms\n",
      "847:\tlearn: 0.0258752\ttotal: 948ms\tremaining: 170ms\n",
      "848:\tlearn: 0.0257442\ttotal: 949ms\tremaining: 169ms\n",
      "849:\tlearn: 0.0257130\ttotal: 950ms\tremaining: 168ms\n",
      "850:\tlearn: 0.0255964\ttotal: 950ms\tremaining: 166ms\n",
      "851:\tlearn: 0.0255589\ttotal: 950ms\tremaining: 165ms\n",
      "852:\tlearn: 0.0254451\ttotal: 951ms\tremaining: 164ms\n",
      "853:\tlearn: 0.0254085\ttotal: 951ms\tremaining: 163ms\n",
      "854:\tlearn: 0.0253603\ttotal: 952ms\tremaining: 161ms\n",
      "855:\tlearn: 0.0252810\ttotal: 952ms\tremaining: 160ms\n",
      "856:\tlearn: 0.0252450\ttotal: 953ms\tremaining: 159ms\n",
      "857:\tlearn: 0.0252149\ttotal: 953ms\tremaining: 158ms\n",
      "858:\tlearn: 0.0251852\ttotal: 953ms\tremaining: 157ms\n",
      "859:\tlearn: 0.0251091\ttotal: 954ms\tremaining: 155ms\n",
      "860:\tlearn: 0.0249992\ttotal: 954ms\tremaining: 154ms\n",
      "861:\tlearn: 0.0248977\ttotal: 955ms\tremaining: 153ms\n",
      "862:\tlearn: 0.0248627\ttotal: 955ms\tremaining: 152ms\n",
      "863:\tlearn: 0.0248337\ttotal: 955ms\tremaining: 150ms\n",
      "864:\tlearn: 0.0247873\ttotal: 956ms\tremaining: 149ms\n",
      "865:\tlearn: 0.0247519\ttotal: 956ms\tremaining: 148ms\n",
      "866:\tlearn: 0.0247234\ttotal: 957ms\tremaining: 147ms\n",
      "867:\tlearn: 0.0246167\ttotal: 957ms\tremaining: 146ms\n",
      "868:\tlearn: 0.0245178\ttotal: 958ms\tremaining: 144ms\n",
      "869:\tlearn: 0.0243953\ttotal: 958ms\tremaining: 143ms\n",
      "870:\tlearn: 0.0242991\ttotal: 959ms\tremaining: 142ms\n",
      "871:\tlearn: 0.0242568\ttotal: 959ms\tremaining: 141ms\n",
      "872:\tlearn: 0.0242229\ttotal: 959ms\tremaining: 140ms\n",
      "873:\tlearn: 0.0240948\ttotal: 960ms\tremaining: 138ms\n",
      "874:\tlearn: 0.0240016\ttotal: 960ms\tremaining: 137ms\n",
      "875:\tlearn: 0.0238834\ttotal: 961ms\tremaining: 136ms\n",
      "876:\tlearn: 0.0237927\ttotal: 961ms\tremaining: 135ms\n",
      "877:\tlearn: 0.0237518\ttotal: 961ms\tremaining: 134ms\n",
      "878:\tlearn: 0.0236636\ttotal: 962ms\tremaining: 132ms\n",
      "879:\tlearn: 0.0235405\ttotal: 962ms\tremaining: 131ms\n",
      "880:\tlearn: 0.0234649\ttotal: 962ms\tremaining: 130ms\n",
      "881:\tlearn: 0.0233383\ttotal: 963ms\tremaining: 129ms\n",
      "882:\tlearn: 0.0232743\ttotal: 963ms\tremaining: 128ms\n",
      "883:\tlearn: 0.0231503\ttotal: 964ms\tremaining: 126ms\n",
      "884:\tlearn: 0.0230534\ttotal: 964ms\tremaining: 125ms\n",
      "885:\tlearn: 0.0229712\ttotal: 965ms\tremaining: 124ms\n",
      "886:\tlearn: 0.0229109\ttotal: 965ms\tremaining: 123ms\n",
      "887:\tlearn: 0.0227899\ttotal: 965ms\tremaining: 122ms\n",
      "888:\tlearn: 0.0227312\ttotal: 966ms\tremaining: 121ms\n",
      "889:\tlearn: 0.0226127\ttotal: 966ms\tremaining: 119ms\n",
      "890:\tlearn: 0.0225242\ttotal: 967ms\tremaining: 118ms\n",
      "891:\tlearn: 0.0224338\ttotal: 967ms\tremaining: 117ms\n",
      "892:\tlearn: 0.0223461\ttotal: 968ms\tremaining: 116ms\n",
      "893:\tlearn: 0.0223229\ttotal: 968ms\tremaining: 115ms\n",
      "894:\tlearn: 0.0222847\ttotal: 968ms\tremaining: 114ms\n",
      "895:\tlearn: 0.0222623\ttotal: 968ms\tremaining: 112ms\n",
      "896:\tlearn: 0.0222157\ttotal: 969ms\tremaining: 111ms\n",
      "897:\tlearn: 0.0221351\ttotal: 969ms\tremaining: 110ms\n",
      "898:\tlearn: 0.0220459\ttotal: 970ms\tremaining: 109ms\n",
      "899:\tlearn: 0.0219667\ttotal: 970ms\tremaining: 108ms\n",
      "900:\tlearn: 0.0219027\ttotal: 970ms\tremaining: 107ms\n",
      "901:\tlearn: 0.0218253\ttotal: 971ms\tremaining: 105ms\n",
      "902:\tlearn: 0.0217633\ttotal: 971ms\tremaining: 104ms\n",
      "903:\tlearn: 0.0217252\ttotal: 972ms\tremaining: 103ms\n",
      "904:\tlearn: 0.0216713\ttotal: 972ms\tremaining: 102ms\n",
      "905:\tlearn: 0.0215954\ttotal: 973ms\tremaining: 101ms\n",
      "906:\tlearn: 0.0215208\ttotal: 973ms\tremaining: 99.8ms\n",
      "907:\tlearn: 0.0213865\ttotal: 974ms\tremaining: 98.6ms\n",
      "908:\tlearn: 0.0213495\ttotal: 974ms\tremaining: 97.5ms\n",
      "909:\tlearn: 0.0212547\ttotal: 975ms\tremaining: 96.4ms\n",
      "910:\tlearn: 0.0211722\ttotal: 975ms\tremaining: 95.3ms\n",
      "911:\tlearn: 0.0211179\ttotal: 976ms\tremaining: 94.2ms\n",
      "912:\tlearn: 0.0210782\ttotal: 976ms\tremaining: 93ms\n",
      "913:\tlearn: 0.0210244\ttotal: 977ms\tremaining: 91.9ms\n",
      "914:\tlearn: 0.0208951\ttotal: 977ms\tremaining: 90.8ms\n",
      "915:\tlearn: 0.0208587\ttotal: 978ms\tremaining: 89.7ms\n",
      "916:\tlearn: 0.0207796\ttotal: 979ms\tremaining: 88.6ms\n",
      "917:\tlearn: 0.0207280\ttotal: 979ms\tremaining: 87.5ms\n",
      "918:\tlearn: 0.0206566\ttotal: 980ms\tremaining: 86.3ms\n",
      "919:\tlearn: 0.0205909\ttotal: 980ms\tremaining: 85.2ms\n",
      "920:\tlearn: 0.0205183\ttotal: 981ms\tremaining: 84.1ms\n",
      "921:\tlearn: 0.0203943\ttotal: 981ms\tremaining: 83ms\n",
      "922:\tlearn: 0.0203254\ttotal: 981ms\tremaining: 81.9ms\n",
      "923:\tlearn: 0.0202614\ttotal: 982ms\tremaining: 80.8ms\n",
      "924:\tlearn: 0.0202106\ttotal: 983ms\tremaining: 79.7ms\n",
      "925:\tlearn: 0.0200902\ttotal: 983ms\tremaining: 78.6ms\n",
      "926:\tlearn: 0.0200280\ttotal: 983ms\tremaining: 77.4ms\n",
      "927:\tlearn: 0.0199353\ttotal: 984ms\tremaining: 76.3ms\n",
      "928:\tlearn: 0.0198986\ttotal: 984ms\tremaining: 75.2ms\n",
      "929:\tlearn: 0.0198510\ttotal: 985ms\tremaining: 74.1ms\n",
      "930:\tlearn: 0.0197740\ttotal: 985ms\tremaining: 73ms\n",
      "931:\tlearn: 0.0197240\ttotal: 986ms\tremaining: 71.9ms\n",
      "932:\tlearn: 0.0196529\ttotal: 986ms\tremaining: 70.8ms\n",
      "933:\tlearn: 0.0195801\ttotal: 986ms\tremaining: 69.7ms\n",
      "934:\tlearn: 0.0195220\ttotal: 991ms\tremaining: 68.9ms\n",
      "935:\tlearn: 0.0195089\ttotal: 991ms\tremaining: 67.8ms\n",
      "936:\tlearn: 0.0194408\ttotal: 991ms\tremaining: 66.7ms\n",
      "937:\tlearn: 0.0193726\ttotal: 992ms\tremaining: 65.6ms\n",
      "938:\tlearn: 0.0192579\ttotal: 992ms\tremaining: 64.5ms\n",
      "939:\tlearn: 0.0191606\ttotal: 993ms\tremaining: 63.4ms\n",
      "940:\tlearn: 0.0191013\ttotal: 993ms\tremaining: 62.3ms\n",
      "941:\tlearn: 0.0190700\ttotal: 994ms\tremaining: 61.2ms\n",
      "942:\tlearn: 0.0190047\ttotal: 994ms\tremaining: 60.1ms\n",
      "943:\tlearn: 0.0189465\ttotal: 995ms\tremaining: 59ms\n",
      "944:\tlearn: 0.0189049\ttotal: 996ms\tremaining: 58ms\n",
      "945:\tlearn: 0.0188477\ttotal: 996ms\tremaining: 56.9ms\n",
      "946:\tlearn: 0.0187488\ttotal: 997ms\tremaining: 55.8ms\n",
      "947:\tlearn: 0.0186771\ttotal: 997ms\tremaining: 54.7ms\n",
      "948:\tlearn: 0.0186104\ttotal: 998ms\tremaining: 53.6ms\n",
      "949:\tlearn: 0.0185702\ttotal: 998ms\tremaining: 52.5ms\n",
      "950:\tlearn: 0.0185046\ttotal: 999ms\tremaining: 51.4ms\n",
      "951:\tlearn: 0.0184510\ttotal: 999ms\tremaining: 50.4ms\n",
      "952:\tlearn: 0.0183487\ttotal: 999ms\tremaining: 49.3ms\n",
      "953:\tlearn: 0.0182820\ttotal: 1000ms\tremaining: 48.2ms\n",
      "954:\tlearn: 0.0182186\ttotal: 1s\tremaining: 47.1ms\n",
      "955:\tlearn: 0.0181775\ttotal: 1s\tremaining: 46.1ms\n",
      "956:\tlearn: 0.0180783\ttotal: 1s\tremaining: 45ms\n",
      "957:\tlearn: 0.0179680\ttotal: 1s\tremaining: 43.9ms\n",
      "958:\tlearn: 0.0179067\ttotal: 1s\tremaining: 42.9ms\n",
      "959:\tlearn: 0.0178072\ttotal: 1s\tremaining: 41.8ms\n",
      "960:\tlearn: 0.0177647\ttotal: 1s\tremaining: 40.8ms\n",
      "961:\tlearn: 0.0177230\ttotal: 1s\tremaining: 39.7ms\n",
      "962:\tlearn: 0.0176837\ttotal: 1s\tremaining: 38.6ms\n",
      "963:\tlearn: 0.0175963\ttotal: 1s\tremaining: 37.6ms\n",
      "964:\tlearn: 0.0174919\ttotal: 1.01s\tremaining: 36.5ms\n",
      "965:\tlearn: 0.0174519\ttotal: 1.01s\tremaining: 35.4ms\n",
      "966:\tlearn: 0.0173674\ttotal: 1.01s\tremaining: 34.4ms\n",
      "967:\tlearn: 0.0172739\ttotal: 1.01s\tremaining: 33.3ms\n",
      "968:\tlearn: 0.0172353\ttotal: 1.01s\tremaining: 32.3ms\n",
      "969:\tlearn: 0.0171979\ttotal: 1.01s\tremaining: 31.2ms\n",
      "970:\tlearn: 0.0171131\ttotal: 1.01s\tremaining: 30.1ms\n",
      "971:\tlearn: 0.0171034\ttotal: 1.01s\tremaining: 29.1ms\n",
      "972:\tlearn: 0.0170223\ttotal: 1.01s\tremaining: 28ms\n",
      "973:\tlearn: 0.0169394\ttotal: 1.01s\tremaining: 27ms\n",
      "974:\tlearn: 0.0168731\ttotal: 1.01s\tremaining: 25.9ms\n",
      "975:\tlearn: 0.0167763\ttotal: 1.01s\tremaining: 24.9ms\n",
      "976:\tlearn: 0.0167301\ttotal: 1.01s\tremaining: 23.8ms\n",
      "977:\tlearn: 0.0167153\ttotal: 1.01s\tremaining: 22.8ms\n",
      "978:\tlearn: 0.0167011\ttotal: 1.01s\tremaining: 21.8ms\n",
      "979:\tlearn: 0.0166652\ttotal: 1.01s\tremaining: 20.7ms\n",
      "980:\tlearn: 0.0166236\ttotal: 1.01s\tremaining: 19.7ms\n",
      "981:\tlearn: 0.0166101\ttotal: 1.02s\tremaining: 18.6ms\n",
      "982:\tlearn: 0.0165595\ttotal: 1.02s\tremaining: 17.6ms\n",
      "983:\tlearn: 0.0164599\ttotal: 1.02s\tremaining: 16.5ms\n",
      "984:\tlearn: 0.0164032\ttotal: 1.02s\tremaining: 15.5ms\n",
      "985:\tlearn: 0.0163635\ttotal: 1.02s\tremaining: 14.5ms\n",
      "986:\tlearn: 0.0162671\ttotal: 1.02s\tremaining: 13.4ms\n",
      "987:\tlearn: 0.0162090\ttotal: 1.02s\tremaining: 12.4ms\n",
      "988:\tlearn: 0.0161236\ttotal: 1.02s\tremaining: 11.3ms\n",
      "989:\tlearn: 0.0160726\ttotal: 1.02s\tremaining: 10.3ms\n",
      "990:\tlearn: 0.0160448\ttotal: 1.02s\tremaining: 9.27ms\n",
      "991:\tlearn: 0.0160026\ttotal: 1.02s\tremaining: 8.23ms\n",
      "992:\tlearn: 0.0159250\ttotal: 1.02s\tremaining: 7.2ms\n",
      "993:\tlearn: 0.0158978\ttotal: 1.02s\tremaining: 6.17ms\n",
      "994:\tlearn: 0.0158849\ttotal: 1.02s\tremaining: 5.13ms\n",
      "995:\tlearn: 0.0158444\ttotal: 1.02s\tremaining: 4.11ms\n",
      "996:\tlearn: 0.0157684\ttotal: 1.02s\tremaining: 3.08ms\n",
      "997:\tlearn: 0.0156876\ttotal: 1.02s\tremaining: 2.05ms\n",
      "998:\tlearn: 0.0156394\ttotal: 1.02s\tremaining: 1.02ms\n",
      "999:\tlearn: 0.0156130\ttotal: 1.02s\tremaining: 0us\n"
     ]
    },
    {
     "data": {
      "text/plain": [
       "<catboost.core.CatBoostRegressor at 0x7faf0486bdc0>"
      ]
     },
     "execution_count": 9,
     "metadata": {},
     "output_type": "execute_result"
    }
   ],
   "source": [
    "#Train the Model \n",
    "prior_model = ctb.CatBoostRegressor()\n",
    "prior_model.fit(X_train,Y_train)"
   ]
  },
  {
   "cell_type": "code",
   "execution_count": 10,
   "id": "af65dcda",
   "metadata": {
    "execution": {
     "iopub.execute_input": "2022-07-27T06:36:58.815522Z",
     "iopub.status.busy": "2022-07-27T06:36:58.812580Z",
     "iopub.status.idle": "2022-07-27T06:36:58.864076Z",
     "shell.execute_reply": "2022-07-27T06:36:58.863010Z"
    },
    "id": "af65dcda",
    "papermill": {
     "duration": 0.080019,
     "end_time": "2022-07-27T06:36:58.869316",
     "exception": false,
     "start_time": "2022-07-27T06:36:58.789297",
     "status": "completed"
    },
    "tags": []
   },
   "outputs": [
    {
     "data": {
      "application/scrapbook.scrap.json+json": {
       "data": 0.22196138985641406,
       "encoder": "json",
       "name": "Prior Model MSE",
       "version": 1
      }
     },
     "metadata": {
      "scrapbook": {
       "data": true,
       "display": false,
       "name": "Prior Model MSE"
      }
     },
     "output_type": "display_data"
    },
    {
     "data": {
      "application/scrapbook.scrap.json+json": {
       "data": 1.3516640948941467,
       "encoder": "json",
       "name": "ABC Pre-generator MSE",
       "version": 1
      }
     },
     "metadata": {
      "scrapbook": {
       "data": true,
       "display": false,
       "name": "ABC Pre-generator MSE"
      }
     },
     "output_type": "display_data"
    },
    {
     "data": {
      "application/scrapbook.scrap.json+json": {
       "data": 0.29914966684897293,
       "encoder": "json",
       "name": "Prior Model MAE",
       "version": 1
      }
     },
     "metadata": {
      "scrapbook": {
       "data": true,
       "display": false,
       "name": "Prior Model MAE"
      }
     },
     "output_type": "display_data"
    },
    {
     "name": "stdout",
     "output_type": "stream",
     "text": [
      "Prior Model MAE 0.29914966684897293\n"
     ]
    },
    {
     "data": {
      "application/scrapbook.scrap.json+json": {
       "data": 1.0517645737111176,
       "encoder": "json",
       "name": "ABC Pre-generator MAE",
       "version": 1
      }
     },
     "metadata": {
      "scrapbook": {
       "data": true,
       "display": false,
       "name": "ABC Pre-generator MAE"
      }
     },
     "output_type": "display_data"
    },
    {
     "name": "stdout",
     "output_type": "stream",
     "text": [
      "ABC Pre-generator MAE 1.0517645737111176\n"
     ]
    }
   ],
   "source": [
    "y_pred = prior_model.predict(X_test)\n",
    "y_abc = y_pred + np.random.normal(0,variance, y_pred.shape) + bias \n",
    "mse = mean_squared_error(y_pred,Y_test)\n",
    "sb.glue(\"Prior Model MSE\",mse)\n",
    "mse = mean_squared_error(y_abc,Y_test)\n",
    "sb.glue(\"ABC Pre-generator MSE\",mse)\n",
    "mae = mean_absolute_error(y_pred,Y_test)\n",
    "sb.glue(\"Prior Model MAE\",mae)\n",
    "print(\"Prior Model MAE\",mae)\n",
    "mae = mean_absolute_error(y_abc,Y_test)\n",
    "sb.glue(\"ABC Pre-generator MAE\",mae)\n",
    "print(\"ABC Pre-generator MAE\",mae)"
   ]
  },
  {
   "cell_type": "markdown",
   "id": "25609da2",
   "metadata": {
    "papermill": {
     "duration": 0.011475,
     "end_time": "2022-07-27T06:36:58.895321",
     "exception": false,
     "start_time": "2022-07-27T06:36:58.883846",
     "status": "completed"
    },
    "tags": []
   },
   "source": [
    "# mGAN Model"
   ]
  },
  {
   "cell_type": "code",
   "execution_count": 11,
   "id": "dfc3464d",
   "metadata": {
    "execution": {
     "iopub.execute_input": "2022-07-27T06:36:58.919232Z",
     "iopub.status.busy": "2022-07-27T06:36:58.918564Z",
     "iopub.status.idle": "2022-07-27T06:36:59.013275Z",
     "shell.execute_reply": "2022-07-27T06:36:59.011457Z"
    },
    "papermill": {
     "duration": 0.110492,
     "end_time": "2022-07-27T06:36:59.016116",
     "exception": false,
     "start_time": "2022-07-27T06:36:58.905624",
     "status": "completed"
    },
    "tags": []
   },
   "outputs": [],
   "source": [
    "gen = network.Generator(n_features+1).to(device)\n",
    "disc = network.DiscriminatorTabnet(n_features+1).to(device)\n",
    "\n",
    "criterion = torch.nn.BCELoss()\n",
    "gen_opt = torch.optim.Adam(gen.parameters(), lr=0.001, betas=(0.5, 0.999))\n",
    "disc_opt = torch.optim.Adam(disc.parameters(), lr=0.001, betas=(0.5, 0.999))"
   ]
  },
  {
   "cell_type": "code",
   "execution_count": 12,
   "id": "b75fdd85",
   "metadata": {
    "execution": {
     "iopub.execute_input": "2022-07-27T06:36:59.052519Z",
     "iopub.status.busy": "2022-07-27T06:36:59.051854Z",
     "iopub.status.idle": "2022-07-27T06:40:21.130127Z",
     "shell.execute_reply": "2022-07-27T06:40:21.128608Z"
    },
    "papermill": {
     "duration": 202.107158,
     "end_time": "2022-07-27T06:40:21.133793",
     "exception": false,
     "start_time": "2022-07-27T06:36:59.026635",
     "status": "completed"
    },
    "tags": []
   },
   "outputs": [
    {
     "data": {
      "image/png": "[encoded data removed]",
      "text/plain": [
       "<Figure size 432x288 with 1 Axes>"
      ]
     },
     "metadata": {
      "needs_background": "light"
     },
     "output_type": "display_data"
    },
    {
     "data": {
      "image/png": "[encoded data removed]",
      "text/plain": [
       "<Figure size 432x288 with 1 Axes>"
      ]
     },
     "metadata": {
      "needs_background": "light"
     },
     "output_type": "display_data"
    }
   ],
   "source": [
    "#Training the ABC_GAN \n",
    "ABC_train_test2.training_GAN(disc,gen,disc_opt,gen_opt,train_data,batch_size,n_epochs,criterion,prior_model,variance,bias,device)"
   ]
  },
  {
   "cell_type": "code",
   "execution_count": 13,
   "id": "1fa7c368",
   "metadata": {
    "execution": {
     "iopub.execute_input": "2022-07-27T06:40:21.170712Z",
     "iopub.status.busy": "2022-07-27T06:40:21.170013Z",
     "iopub.status.idle": "2022-07-27T06:40:21.507552Z",
     "shell.execute_reply": "2022-07-27T06:40:21.506392Z"
    },
    "papermill": {
     "duration": 0.359951,
     "end_time": "2022-07-27T06:40:21.510589",
     "exception": false,
     "start_time": "2022-07-27T06:40:21.150638",
     "status": "completed"
    },
    "tags": []
   },
   "outputs": [
    {
     "data": {
      "application/scrapbook.scrap.json+json": {
       "data": 0.7685367175371999,
       "encoder": "json",
       "name": "ABC-GAN Model 1 MSE",
       "version": 1
      }
     },
     "metadata": {
      "scrapbook": {
       "data": true,
       "display": false,
       "name": "ABC-GAN Model 1 MSE"
      }
     },
     "output_type": "display_data"
    },
    {
     "data": {
      "application/scrapbook.scrap.json+json": {
       "data": 0.5649267083751037,
       "encoder": "json",
       "name": "ABC-GAN Model 1 MAE",
       "version": 1
      }
     },
     "metadata": {
      "scrapbook": {
       "data": true,
       "display": false,
       "name": "ABC-GAN Model 1 MAE"
      }
     },
     "output_type": "display_data"
    },
    {
     "data": {
      "application/scrapbook.scrap.json+json": {
       "data": 11.298534167502076,
       "encoder": "json",
       "name": "ABC-GAN Model 1 Manhattan Distance",
       "version": 1
      }
     },
     "metadata": {
      "scrapbook": {
       "data": true,
       "display": false,
       "name": "ABC-GAN Model 1 Manhattan Distance"
      }
     },
     "output_type": "display_data"
    },
    {
     "data": {
      "application/scrapbook.scrap.json+json": {
       "data": 3.9205445803539942,
       "encoder": "json",
       "name": "ABC-GAN Model 1 Euclidean distance",
       "version": 1
      }
     },
     "metadata": {
      "scrapbook": {
       "data": true,
       "display": false,
       "name": "ABC-GAN Model 1 Euclidean distance"
      }
     },
     "output_type": "display_data"
    },
    {
     "data": {
      "application/scrapbook.scrap.json+json": {
       "data": [
        [
         0.7699816371330303,
         0.7624835646213052,
         0.7684761192650635,
         0.7680604545970079,
         0.771648463453804,
         0.7689241553698902,
         0.7691494343971488,
         0.7686768045774878,
         0.7722944446627853,
         0.7718684776002707,
         0.7649299629513371,
         0.7640815214261238,
         0.7686263774259201,
         0.7675673437537988,
         0.7710117680455122,
         0.76963343600954,
         0.7656955996104422,
         0.7686470720446317,
         0.7718331832831715,
         0.7643367258378553,
         0.7692856762490147,
         0.7637850697860434,
         0.7675936394899981,
         0.7654520096070058,
         0.7711242439157054,
         0.7650845004127959,
         0.7681958329675503,
         0.7701815232810495,
         0.7672456993548508,
         0.7751755894170038,
         0.7673366493792326,
         0.7717691450773757,
         0.7681992539138965,
         0.7708981137256632,
         0.7663370263555849,
         0.7690048631504103,
         0.7689462678015969,
         0.7673568287823886,
         0.7685722295700886,
         0.7692360943848552,
         0.7770793657358797,
         0.7698891338964075,
         0.7758158050034196,
         0.7731374989372288,
         0.7692437090187972,
         0.7643996287771279,
         0.7669812102961459,
         0.7665116916461997,
         0.7694756137552312,
         0.7688434830287865,
         0.765886554632481,
         0.7657460196554137,
         0.7722103701869247,
         0.7715088891019224,
         0.7632383512936096,
         0.7651812958214161,
         0.7719417529917683,
         0.7685217597380218,
         0.7654542993157379,
         0.7708078694195069,
         0.7704311801381692,
         0.7697496404313923,
         0.7679326072308247,
         0.7648409462146016,
         0.7690143405069749,
         0.7656283809521625,
         0.7685196638334856,
         0.7729326310982103,
         0.765960527590426,
         0.7662080504759483,
         0.76654494504805,
         0.7608687825814118,
         0.7724638903300295,
         0.7721160947827783,
         0.7650530094245005,
         0.7699266755073553,
         0.7682032123649678,
         0.7659864338674962,
         0.7637426579586556,
         0.768458714689011,
         0.7670935884608403,
         0.7714089350750916,
         0.7657062262109671,
         0.7673976717152182,
         0.7652313413748282,
         0.7732378153439461,
         0.76979139577371,
         0.7663592711498917,
         0.7760748268129395,
         0.7615089218873996,
         0.7704218756919035,
         0.7698833956652149,
         0.7720479937359671,
         0.7637504434973168,
         0.7673002069197838,
         0.7705612144515228,
         0.7705332239680952,
         0.7670992602285465,
         0.7736220699575054,
         0.7694785858325831
        ],
        [
         0.5657387622632086,
         0.5648764272220432,
         0.5649871463887394,
         0.5654352631419897,
         0.565371482912451,
         0.5648766538128257,
         0.5632184278219938,
         0.5649073159322142,
         0.566019631922245,
         0.5656068715266883,
         0.5639639396220446,
         0.5647163909859956,
         0.5657579373568297,
         0.5660695407539607,
         0.5641194902360439,
         0.5643985968083143,
         0.5646239724010229,
         0.5653664704412222,
         0.566173795890063,
         0.5636889105662704,
         0.5661857498809695,
         0.5641013622283936,
         0.5654001619666815,
         0.5648014683276414,
         0.5666486497968435,
         0.565025688894093,
         0.5655925347469747,
         0.5661131822504103,
         0.5647205678746104,
         0.5665713964030147,
         0.5636479219421744,
         0.564484404399991,
         0.5659370273351669,
         0.5655336556956172,
         0.5635992192663253,
         0.5652732640504837,
         0.5651692247018218,
         0.5651177776046097,
         0.564390956889838,
         0.564307976514101,
         0.5666419981047511,
         0.5646677240729332,
         0.5667506170459091,
         0.5657075725495815,
         0.5661225253716111,
         0.5642357168719172,
         0.5636506520211697,
         0.5650874828919769,
         0.5652351062744856,
         0.5650770178064703,
         0.5644295839592814,
         0.5634829184040427,
         0.5669095264747739,
         0.5658237537369132,
         0.5622378461062908,
         0.564343386888504,
         0.5654321890324354,
         0.563260966911912,
         0.562695660814643,
         0.5667359514161945,
         0.5649433400481939,
         0.5652832828462124,
         0.5633851817809046,
         0.5629732611589133,
         0.5661550296470523,
         0.5643038388341666,
         0.5660380668006837,
         0.5654552191495895,
         0.5639240814372897,
         0.5657003417611122,
         0.5654119174927473,
         0.5631938507780433,
         0.5663696674630045,
         0.5652776332572103,
         0.5630817022174597,
         0.5650198177434504,
         0.5647823959589005,
         0.5649153413251042,
         0.5628135715611279,
         0.5647709069773554,
         0.5649316217750311,
         0.5660808946937322,
         0.5630598291754723,
         0.5655259964987636,
         0.5639420012012124,
         0.5655549827963113,
         0.5664511778391897,
         0.5645965619012714,
         0.5669224739074707,
         0.5633619523607194,
         0.5663745325058699,
         0.5649618683382869,
         0.5655748696997762,
         0.5631230185739696,
         0.5635215127840638,
         0.5649530092254281,
         0.564692211151123,
         0.5644368172623218,
         0.5654481365345418,
         0.5642915055155754
        ],
        [
         11.314775245264173,
         11.297528544440866,
         11.299742927774787,
         11.308705262839794,
         11.30742965824902,
         11.297533076256514,
         11.264368556439877,
         11.298146318644285,
         11.3203926384449,
         11.312137430533767,
         11.279278792440891,
         11.29432781971991,
         11.315158747136593,
         11.321390815079212,
         11.282389804720879,
         11.287971936166286,
         11.292479448020458,
         11.307329408824444,
         11.323475917801261,
         11.273778211325407,
         11.32371499761939,
         11.282027244567871,
         11.30800323933363,
         11.29602936655283,
         11.33297299593687,
         11.30051377788186,
         11.311850694939494,
         11.322263645008206,
         11.294411357492208,
         11.331427928060293,
         11.272958438843489,
         11.28968808799982,
         11.318740546703339,
         11.310673113912344,
         11.271984385326505,
         11.305465281009674,
         11.303384494036436,
         11.302355552092195,
         11.28781913779676,
         11.28615953028202,
         11.332839962095022,
         11.293354481458664,
         11.335012340918183,
         11.31415145099163,
         11.322450507432222,
         11.284714337438345,
         11.273013040423393,
         11.301749657839537,
         11.304702125489712,
         11.301540356129408,
         11.288591679185629,
         11.269658368080854,
         11.338190529495478,
         11.316475074738264,
         11.244756922125816,
         11.28686773777008,
         11.308643780648708,
         11.26521933823824,
         11.253913216292858,
         11.334719028323889,
         11.298866800963879,
         11.305665656924248,
         11.26770363561809,
         11.259465223178267,
         11.323100592941046,
         11.28607677668333,
         11.320761336013675,
         11.30910438299179,
         11.278481628745794,
         11.314006835222244,
         11.308238349854946,
         11.263877015560865,
         11.327393349260092,
         11.305552665144205,
         11.261634044349194,
         11.300396354869008,
         11.295647919178009,
         11.298306826502085,
         11.256271431222558,
         11.29541813954711,
         11.298632435500622,
         11.321617893874645,
         11.261196583509445,
         11.310519929975271,
         11.278840024024248,
         11.311099655926228,
         11.329023556783795,
         11.291931238025427,
         11.338449478149414,
         11.267239047214389,
         11.327490650117397,
         11.299237366765738,
         11.311497393995523,
         11.262460371479392,
         11.270430255681276,
         11.299060184508562,
         11.293844223022461,
         11.288736345246434,
         11.308962730690837,
         11.285830110311508
        ],
        [
         3.924236580872846,
         3.9050827510343624,
         3.920398243201993,
         3.919337838454368,
         3.9284818020548444,
         3.9215409098207563,
         3.9221153333300864,
         3.920910110108335,
         3.9301258113775064,
         3.929041810926096,
         3.91134238580909,
         3.9091726015261177,
         3.9207814971658905,
         3.918079488100768,
         3.9268607514031157,
         3.923349171331912,
         3.913299374212104,
         3.9208342786826167,
         3.928951980574899,
         3.9098253818753985,
         3.922462686244484,
         3.9084141791423375,
         3.9181466013665136,
         3.912676857618083,
         3.927147167896068,
         3.91173746668356,
         3.919683234567687,
         3.9247459109630256,
         3.9172584784638627,
         3.937449909311873,
         3.9174906493295745,
         3.928788986640478,
         3.919691962167171,
         3.9265713128011903,
         3.9149381255789595,
         3.9217467107155457,
         3.921597296514768,
         3.9175421600344995,
         3.920643389981008,
         3.922336279272483,
         3.9422819933025584,
         3.9240008509081834,
         3.939075538761397,
         3.9322703338840497,
         3.922355692740773,
         3.9099862628329727,
         3.916583231073089,
         3.9153842509929975,
         3.922946886602548,
         3.9213351885009438,
         3.913787308049534,
         3.913428214891424,
         3.9299118824394137,
         3.9281264977134387,
         3.907015104382397,
         3.911984907489844,
         3.929228303348555,
         3.9205146594242493,
         3.9126827096398653,
         3.9263414762842697,
         3.9253819690271397,
         3.9236453469481467,
         3.9190116285380543,
         3.9111147930343377,
         3.9217708768029143,
         3.9131276006595095,
         3.9205093134272375,
         3.931749308127898,
         3.913976309561482,
         3.914608666203937,
         3.9154691801827526,
         3.9009454817554468,
         3.9305569333875052,
         3.929671983213811,
         3.9116569620162256,
         3.9240965215125767,
         3.919702061037211,
         3.914042498153274,
         3.9083056634778592,
         3.9203538480321165,
         3.9168701496496925,
         3.927872032220733,
         3.9133265292100705,
         3.9176464151712778,
         3.9121128341979814,
         3.932525436265978,
         3.9237517652718807,
         3.9149949454626163,
         3.93973305393383,
         3.9025861217592612,
         3.9253582656667234,
         3.923986227461088,
         3.9294986798215543,
         3.9083255839229074,
         3.9173976232182093,
         3.92571322042638,
         3.9256419194014502,
         3.916884629979664,
         3.9335024341101033,
         3.9229544627298005
        ]
       ],
       "encoder": "json",
       "name": "ABC_GAN_1 Metrics",
       "version": 1
      }
     },
     "metadata": {
      "scrapbook": {
       "data": true,
       "display": false,
       "name": "ABC_GAN_1 Metrics"
      }
     },
     "output_type": "display_data"
    },
    {
     "name": "stdout",
     "output_type": "stream",
     "text": [
      "MAE\n",
      "0.5649267083751037\n"
     ]
    }
   ],
   "source": [
    "ABC_GAN1_metrics=ABC_train_test2.test_generator(gen,test_data,prior_model,variance,bias,\"1\",device)\n",
    "sb.glue(\"ABC_GAN_1 Metrics\",ABC_GAN1_metrics)\n",
    "\n",
    "print(\"MAE\")\n",
    "print(mean(ABC_GAN1_metrics[1]))"
   ]
  },
  {
   "cell_type": "code",
   "execution_count": 14,
   "id": "eb22ce5c",
   "metadata": {
    "execution": {
     "iopub.execute_input": "2022-07-27T06:40:21.548819Z",
     "iopub.status.busy": "2022-07-27T06:40:21.548282Z",
     "iopub.status.idle": "2022-07-27T06:40:22.378979Z",
     "shell.execute_reply": "2022-07-27T06:40:22.377821Z"
    },
    "papermill": {
     "duration": 0.85815,
     "end_time": "2022-07-27T06:40:22.381291",
     "exception": false,
     "start_time": "2022-07-27T06:40:21.523141",
     "status": "completed"
    },
    "tags": []
   },
   "outputs": [
    {
     "data": {
      "image/png": "[encoded data removed]",
      "text/plain": [
       "<Figure size 432x288 with 1 Axes>"
      ]
     },
     "metadata": {
      "needs_background": "light"
     },
     "output_type": "display_data"
    },
    {
     "data": {
      "image/png": "[encoded data removed]",
      "text/plain": [
       "<Figure size 432x288 with 1 Axes>"
      ]
     },
     "metadata": {
      "needs_background": "light"
     },
     "output_type": "display_data"
    },
    {
     "data": {
      "image/png": "[encoded data removed]",
      "text/plain": [
       "<Figure size 432x288 with 1 Axes>"
      ]
     },
     "metadata": {
      "needs_background": "light"
     },
     "output_type": "display_data"
    },
    {
     "data": {
      "image/png": "[encoded data removed]",
      "text/plain": [
       "<Figure size 432x288 with 1 Axes>"
      ]
     },
     "metadata": {
      "needs_background": "light"
     },
     "output_type": "display_data"
    }
   ],
   "source": [
    "sanityChecks.discProbVsError(train_data,disc,device)\n",
    "sanityChecks.discProbVsError(test_data,disc,device)"
   ]
  },
  {
   "cell_type": "markdown",
   "id": "da4ac376",
   "metadata": {
    "papermill": {
     "duration": 0.018444,
     "end_time": "2022-07-27T06:40:22.415444",
     "exception": false,
     "start_time": "2022-07-27T06:40:22.397000",
     "status": "completed"
    },
    "tags": []
   },
   "source": [
    "# mGAN Model with TabNet Generator"
   ]
  },
  {
   "cell_type": "code",
   "execution_count": 15,
   "id": "02f3c944",
   "metadata": {
    "execution": {
     "iopub.execute_input": "2022-07-27T06:40:22.453049Z",
     "iopub.status.busy": "2022-07-27T06:40:22.452757Z",
     "iopub.status.idle": "2022-07-27T06:40:22.476083Z",
     "shell.execute_reply": "2022-07-27T06:40:22.474796Z"
    },
    "papermill": {
     "duration": 0.044973,
     "end_time": "2022-07-27T06:40:22.478454",
     "exception": false,
     "start_time": "2022-07-27T06:40:22.433481",
     "status": "completed"
    },
    "tags": []
   },
   "outputs": [],
   "source": [
    "gen2 = network.GeneratorTabnet(n_features+1).to(device)\n",
    "disc2 = network.DiscriminatorTabnet(n_features+1).to(device)\n",
    "\n",
    "criterion = torch.nn.BCELoss()\n",
    "gen_opt = torch.optim.Adam(gen2.parameters(), lr=0.001, betas=(0.5, 0.999))\n",
    "disc_opt = torch.optim.Adam(disc2.parameters(), lr=0.001, betas=(0.5, 0.999))"
   ]
  },
  {
   "cell_type": "code",
   "execution_count": 16,
   "id": "de664ed6",
   "metadata": {
    "execution": {
     "iopub.execute_input": "2022-07-27T06:40:22.506672Z",
     "iopub.status.busy": "2022-07-27T06:40:22.506095Z",
     "iopub.status.idle": "2022-07-27T06:45:19.562801Z",
     "shell.execute_reply": "2022-07-27T06:45:19.561283Z"
    },
    "papermill": {
     "duration": 297.076607,
     "end_time": "2022-07-27T06:45:19.568697",
     "exception": false,
     "start_time": "2022-07-27T06:40:22.492090",
     "status": "completed"
    },
    "tags": []
   },
   "outputs": [
    {
     "data": {
      "image/png": "[encoded data removed]",
      "text/plain": [
       "<Figure size 432x288 with 1 Axes>"
      ]
     },
     "metadata": {
      "needs_background": "light"
     },
     "output_type": "display_data"
    },
    {
     "data": {
      "image/png": "[encoded data removed]",
      "text/plain": [
       "<Figure size 432x288 with 1 Axes>"
      ]
     },
     "metadata": {
      "needs_background": "light"
     },
     "output_type": "display_data"
    }
   ],
   "source": [
    "#Training the ABC_GAN \n",
    "ABC_train_test2.training_GAN(disc2,gen2,disc_opt,gen_opt,train_data,batch_size,n_epochs,criterion,prior_model,variance,bias,device)"
   ]
  },
  {
   "cell_type": "code",
   "execution_count": 17,
   "id": "1d4af334",
   "metadata": {
    "execution": {
     "iopub.execute_input": "2022-07-27T06:45:19.831368Z",
     "iopub.status.busy": "2022-07-27T06:45:19.830281Z",
     "iopub.status.idle": "2022-07-27T06:45:20.959399Z",
     "shell.execute_reply": "2022-07-27T06:45:20.958741Z"
    },
    "papermill": {
     "duration": 1.37494,
     "end_time": "2022-07-27T06:45:20.961661",
     "exception": false,
     "start_time": "2022-07-27T06:45:19.586721",
     "status": "completed"
    },
    "tags": []
   },
   "outputs": [
    {
     "data": {
      "application/scrapbook.scrap.json+json": {
       "data": 7.3372950880569485,
       "encoder": "json",
       "name": "ABC-GAN Model 1 MSE",
       "version": 1
      }
     },
     "metadata": {
      "scrapbook": {
       "data": true,
       "display": false,
       "name": "ABC-GAN Model 1 MSE"
      }
     },
     "output_type": "display_data"
    },
    {
     "data": {
      "application/scrapbook.scrap.json+json": {
       "data": 2.0090485407710075,
       "encoder": "json",
       "name": "ABC-GAN Model 1 MAE",
       "version": 1
      }
     },
     "metadata": {
      "scrapbook": {
       "data": true,
       "display": false,
       "name": "ABC-GAN Model 1 MAE"
      }
     },
     "output_type": "display_data"
    },
    {
     "data": {
      "application/scrapbook.scrap.json+json": {
       "data": 40.18097081542015,
       "encoder": "json",
       "name": "ABC-GAN Model 1 Manhattan Distance",
       "version": 1
      }
     },
     "metadata": {
      "scrapbook": {
       "data": true,
       "display": false,
       "name": "ABC-GAN Model 1 Manhattan Distance"
      }
     },
     "output_type": "display_data"
    },
    {
     "data": {
      "application/scrapbook.scrap.json+json": {
       "data": 12.111627167225981,
       "encoder": "json",
       "name": "ABC-GAN Model 1 Euclidean distance",
       "version": 1
      }
     },
     "metadata": {
      "scrapbook": {
       "data": true,
       "display": false,
       "name": "ABC-GAN Model 1 Euclidean distance"
      }
     },
     "output_type": "display_data"
    },
    {
     "data": {
      "application/scrapbook.scrap.json+json": {
       "data": [
        [
         7.37600957279467,
         7.675072247903347,
         7.564408517408755,
         7.429689752604747,
         7.617397072266607,
         7.44136422223054,
         7.354580228596691,
         6.979455703357013,
         7.677586927467232,
         6.3375507845245584,
         7.118198365294681,
         7.727315801895102,
         6.982112863272012,
         7.42877282891511,
         7.15847251918387,
         7.397380509273264,
         7.449932205715979,
         7.272780708028998,
         7.197993808676912,
         7.639400412829426,
         7.654237764254191,
         7.691744831577095,
         7.173053213085202,
         7.124347403857281,
         6.888067069209653,
         7.525060731128667,
         7.582295266309771,
         7.096921101035049,
         7.30325411068312,
         7.658622390714018,
         6.421395064490612,
         7.542285754283634,
         7.131027308669365,
         7.438167194046005,
         7.57071625704454,
         7.543384380145213,
         7.4096964221290875,
         7.3841896090491215,
         7.682337187262886,
         6.870343299400124,
         7.710106987328587,
         6.44185797430966,
         7.18105203413438,
         7.175366089413951,
         7.511203446520305,
         7.210301354882195,
         7.5188455238808745,
         7.382636795242254,
         7.370924049527997,
         7.295947145808325,
         7.571316386626125,
         6.959055320866464,
         7.468872959812669,
         7.420678309120487,
         7.382692190135562,
         7.227705575531823,
         7.479940424884374,
         7.025797117933495,
         7.4992673117758075,
         7.415777956856083,
         7.716190181047404,
         7.350035286570194,
         7.12631152310455,
         7.13941872361039,
         7.502156879236749,
         7.36756222010686,
         6.63859049146662,
         7.275449550198817,
         7.326895626534435,
         7.606873113056342,
         7.135429305495775,
         6.793962556848255,
         7.4550149669911505,
         7.656174685972134,
         7.408710690486847,
         7.46290741353706,
         7.6370542114128,
         7.315232580954432,
         7.418918945887983,
         7.490210232713788,
         7.681680973501703,
         7.509671001459378,
         7.388997786263209,
         7.301854273387224,
         7.423827094623097,
         7.505257963383554,
         7.3487237817812545,
         7.7068099661616545,
         7.461207367061869,
         7.108786080192279,
         7.392889240246599,
         7.273324663439061,
         7.340297146328121,
         7.28632249971818,
         6.785497658590347,
         7.3302376646690615,
         7.297675718249069,
         7.333246207061092,
         7.184473771444577,
         7.479662397695367
        ],
        [
         2.001130164787173,
         2.025180197879672,
         2.0201839592307804,
         1.975220150873065,
         2.007482547685504,
         2.0364922773092986,
         2.0410075452178718,
         2.0199440252035856,
         2.0307220067828893,
         1.961658051237464,
         2.024794827029109,
         2.030381993576884,
         2.0343574535101654,
         2.0163956832140686,
         1.9875637914985418,
         1.9684503827244044,
         2.0242064114660026,
         2.021155134961009,
         2.059793449565768,
         1.9710511397570372,
         2.0375833701342345,
         2.011026616021991,
         1.9869485910981894,
         2.0342010777443646,
         1.9640193175524474,
         1.9873337727040052,
         2.021754242107272,
         2.000456766411662,
         1.994251785799861,
         2.0430426876991987,
         1.9539470922201871,
         1.9788584422320128,
         1.993034927174449,
         2.022061670944095,
         2.010212079063058,
         2.037883111461997,
         2.012844718620181,
         2.0133439626544716,
         2.001691530272365,
         2.0137021984905004,
         2.003253198042512,
         1.9553737830370665,
         2.0306169997900723,
         1.9981198977679013,
         2.059440017864108,
         1.9965684663504362,
         1.9835905473679305,
         2.0283233772963287,
         2.021508934721351,
         2.0229079257696867,
         2.0520262371748688,
         2.0224127929657696,
         1.9929860334843397,
         1.9442297797650099,
         2.009710494801402,
         1.9802970986813306,
         2.0482977729290726,
         1.9682246547192335,
         2.008226788416505,
         2.044281993433833,
         2.047668344900012,
         2.004079259559512,
         1.9819652389734983,
         2.0099567782133816,
         2.0121082793921232,
         2.075443309172988,
         1.9680888783186674,
         1.9636041026562452,
         2.034446721896529,
         2.038096370920539,
         1.9993612643331289,
         1.9680195081979037,
         2.0419597674161194,
         2.0343451242893935,
         2.0087624203413723,
         2.0673591371625664,
         2.012021267041564,
         2.0463706251233815,
         1.9563281361013651,
         2.003297323361039,
         1.9952465299516917,
         1.998008282110095,
         1.9868223171681165,
         1.9694065015763045,
         2.0165069293230773,
         2.010105402395129,
         1.9388488572090865,
         1.9958977166563272,
         1.9951051007956266,
         1.9707665544003248,
         2.0089307721704244,
         2.0234169494360685,
         2.021178847178817,
         2.0407335039228203,
         2.00346184335649,
         2.028008292242885,
         2.023909417912364,
         1.9517168890684844,
         2.0302690129727123,
         2.0774665515869857
        ],
        [
         40.022603295743465,
         40.50360395759344,
         40.40367918461561,
         39.5044030174613,
         40.14965095371008,
         40.72984554618597,
         40.82015090435743,
         40.39888050407171,
         40.61444013565779,
         39.23316102474928,
         40.49589654058218,
         40.607639871537685,
         40.687149070203304,
         40.32791366428137,
         39.75127582997084,
         39.36900765448809,
         40.48412822932005,
         40.42310269922018,
         41.195868991315365,
         39.42102279514074,
         40.75166740268469,
         40.220532320439816,
         39.73897182196379,
         40.684021554887295,
         39.280386351048946,
         39.746675454080105,
         40.43508484214544,
         40.00913532823324,
         39.88503571599722,
         40.860853753983974,
         39.078941844403744,
         39.577168844640255,
         39.86069854348898,
         40.44123341888189,
         40.20424158126116,
         40.75766222923994,
         40.25689437240362,
         40.26687925308943,
         40.03383060544729,
         40.27404396981001,
         40.06506396085024,
         39.10747566074133,
         40.61233999580145,
         39.96239795535803,
         41.18880035728216,
         39.931369327008724,
         39.67181094735861,
         40.56646754592657,
         40.43017869442701,
         40.458158515393734,
         41.04052474349737,
         40.448255859315395,
         39.859720669686794,
         38.8845955953002,
         40.19420989602804,
         39.605941973626614,
         40.96595545858145,
         39.36449309438467,
         40.1645357683301,
         40.88563986867666,
         40.95336689800024,
         40.08158519119024,
         39.63930477946997,
         40.199135564267635,
         40.242165587842464,
         41.50886618345976,
         39.36177756637335,
         39.272082053124905,
         40.688934437930584,
         40.76192741841078,
         39.98722528666258,
         39.36039016395807,
         40.83919534832239,
         40.68690248578787,
         40.17524840682745,
         41.347182743251324,
         40.24042534083128,
         40.92741250246763,
         39.1265627220273,
         40.06594646722078,
         39.90493059903383,
         39.9601656422019,
         39.73644634336233,
         39.38813003152609,
         40.330138586461544,
         40.202108047902584,
         38.77697714418173,
         39.917954333126545,
         39.90210201591253,
         39.415331088006496,
         40.17861544340849,
         40.46833898872137,
         40.423576943576336,
         40.8146700784564,
         40.0692368671298,
         40.56016584485769,
         40.47818835824728,
         39.034337781369686,
         40.60538025945425,
         41.54933103173971
        ],
        [
         12.145789042128692,
         12.389570006988416,
         12.299925623684686,
         12.189905457061386,
         12.34293082883203,
         12.19947885955014,
         12.128132773511915,
         11.81478370801346,
         12.391599515371073,
         11.258375357505681,
         11.931637243307962,
         12.431665859324811,
         11.817032506743825,
         12.18915323467148,
         11.965343721919458,
         12.163371661898081,
         12.206500076365852,
         12.060498089240758,
         11.99832805742276,
         12.360744648142704,
         12.37274243185737,
         12.403019657790676,
         11.977523294141575,
         11.936789688904868,
         11.737177743571623,
         12.26789365060577,
         12.314459197471702,
         11.913791253026929,
         12.085738794697757,
         12.376285703484724,
         11.332603464774202,
         12.281926358909367,
         11.942384442538572,
         12.196857951165953,
         12.305052829666796,
         12.282820832484054,
         12.173492861236733,
         12.15252205021585,
         12.395432374276329,
         11.722067479246249,
         12.41781541763976,
         11.35064577397221,
         11.984199626286589,
         11.979454152350975,
         12.256592876097587,
         12.008581394054998,
         12.262826365794204,
         12.151244212213212,
         12.14160125315273,
         12.079691341924532,
         12.305540529880128,
         11.79750424527702,
         12.222007167247668,
         12.18251066826579,
         12.151289799964086,
         12.023065811623775,
         12.231059173174149,
         11.853942059866409,
         12.24685046187452,
         12.178487555403654,
         12.422713214952202,
         12.124384756819781,
         11.938435008915155,
         11.949408959116255,
         12.249209671841484,
         12.138832085589504,
         11.522665048908278,
         12.062710765162876,
         12.10528448780485,
         12.334401576936225,
         11.946069902269763,
         11.65672557526191,
         12.210663345609976,
         12.374307807689393,
         12.172683098221894,
         12.217125204840178,
         12.358846395528023,
         12.095645977751195,
         12.181066411351662,
         12.239452792272854,
         12.394902963316577,
         12.25534250966441,
         12.156477932578342,
         12.084580483729853,
         12.185095071129398,
         12.251741070871155,
         12.123303000239872,
         12.41516006031469,
         12.215733598160913,
         11.923746122919825,
         12.159678647272385,
         12.060949103150266,
         12.116350231260336,
         12.071721086670433,
         11.649461497073887,
         12.108044982299216,
         12.081122231191165,
         12.110529474024734,
         11.987054493447985,
         12.230831858622999
        ]
       ],
       "encoder": "json",
       "name": "ABC_GAN_2 Metrics",
       "version": 1
      }
     },
     "metadata": {
      "scrapbook": {
       "data": true,
       "display": false,
       "name": "ABC_GAN_2 Metrics"
      }
     },
     "output_type": "display_data"
    },
    {
     "name": "stdout",
     "output_type": "stream",
     "text": [
      "MAE\n",
      "2.0090485407710075\n"
     ]
    }
   ],
   "source": [
    "ABC_GAN2_metrics=ABC_train_test2.test_generator(gen2,test_data,prior_model,variance,bias,\"1\",device)\n",
    "sb.glue(\"ABC_GAN_2 Metrics\",ABC_GAN2_metrics)\n",
    "\n",
    "print(\"MAE\")\n",
    "print(mean(ABC_GAN2_metrics[1]))"
   ]
  },
  {
   "cell_type": "code",
   "execution_count": 18,
   "id": "a5874128",
   "metadata": {
    "execution": {
     "iopub.execute_input": "2022-07-27T06:45:21.012137Z",
     "iopub.status.busy": "2022-07-27T06:45:21.011412Z",
     "iopub.status.idle": "2022-07-27T06:45:22.209275Z",
     "shell.execute_reply": "2022-07-27T06:45:22.208413Z"
    },
    "papermill": {
     "duration": 1.232666,
     "end_time": "2022-07-27T06:45:22.211619",
     "exception": false,
     "start_time": "2022-07-27T06:45:20.978953",
     "status": "completed"
    },
    "tags": []
   },
   "outputs": [
    {
     "data": {
      "image/png": "[encoded data removed]",
      "text/plain": [
       "<Figure size 432x288 with 1 Axes>"
      ]
     },
     "metadata": {
      "needs_background": "light"
     },
     "output_type": "display_data"
    },
    {
     "data": {
      "image/png": "[encoded data removed]",
      "text/plain": [
       "<Figure size 432x288 with 1 Axes>"
      ]
     },
     "metadata": {
      "needs_background": "light"
     },
     "output_type": "display_data"
    },
    {
     "data": {
      "image/png": "[encoded data removed]",
      "text/plain": [
       "<Figure size 432x288 with 1 Axes>"
      ]
     },
     "metadata": {
      "needs_background": "light"
     },
     "output_type": "display_data"
    },
    {
     "data": {
      "image/png": "[encoded data removed]",
      "text/plain": [
       "<Figure size 432x288 with 1 Axes>"
      ]
     },
     "metadata": {
      "needs_background": "light"
     },
     "output_type": "display_data"
    }
   ],
   "source": [
    "sanityChecks.discProbVsError(train_data,disc2,device)\n",
    "sanityChecks.discProbVsError(test_data,disc2,device)"
   ]
  },
  {
   "cell_type": "markdown",
   "id": "130f3a4d",
   "metadata": {
    "id": "130f3a4d",
    "papermill": {
     "duration": 0.049632,
     "end_time": "2022-07-27T06:45:22.284036",
     "exception": false,
     "start_time": "2022-07-27T06:45:22.234404",
     "status": "completed"
    },
    "tags": []
   },
   "source": [
    "# skipGAN Model"
   ]
  },
  {
   "cell_type": "markdown",
   "id": "4b74de16",
   "metadata": {
    "tags": [
     "papermill-error-cell-tag"
    ]
   },
   "source": [
    "<span id=\"papermill-error-cell\" style=\"color:red; font-family:Helvetica Neue, Helvetica, Arial, sans-serif; font-size:2em;\">Execution using papermill encountered an exception here and stopped:</span>"
   ]
  },
  {
   "cell_type": "code",
   "execution_count": 19,
   "id": "4e43dad1",
   "metadata": {
    "execution": {
     "iopub.execute_input": "2022-07-27T06:45:22.348022Z",
     "iopub.status.busy": "2022-07-27T06:45:22.347346Z",
     "iopub.status.idle": "2022-07-27T06:45:22.988730Z",
     "shell.execute_reply": "2022-07-27T06:45:22.987419Z"
    },
    "id": "4e43dad1",
    "papermill": {
     "duration": 0.670141,
     "end_time": "2022-07-27T06:45:22.991996",
     "exception": true,
     "start_time": "2022-07-27T06:45:22.321855",
     "status": "failed"
    },
    "tags": []
   },
   "outputs": [
    {
     "ename": "AttributeError",
     "evalue": "module 'network' has no attribute 'DiscriminatorTabNet'",
     "output_type": "error",
     "traceback": [
      "\u001b[0;31m---------------------------------------------------------------------------\u001b[0m",
      "\u001b[0;31mAttributeError\u001b[0m                            Traceback (most recent call last)",
      "Input \u001b[0;32mIn [19]\u001b[0m, in \u001b[0;36m<cell line: 5>\u001b[0;34m()\u001b[0m\n\u001b[1;32m      3\u001b[0m constraints\u001b[38;5;241m=\u001b[39mnetwork\u001b[38;5;241m.\u001b[39mweightConstraint()\n\u001b[1;32m      4\u001b[0m \u001b[38;5;66;03m#Discriminator \u001b[39;00m\n\u001b[0;32m----> 5\u001b[0m disc3 \u001b[38;5;241m=\u001b[39m \u001b[43mnetwork\u001b[49m\u001b[38;5;241;43m.\u001b[39;49m\u001b[43mDiscriminatorTabNet\u001b[49m(n_features\u001b[38;5;241m+\u001b[39m\u001b[38;5;241m1\u001b[39m)\u001b[38;5;241m.\u001b[39mto(device)\n\u001b[1;32m      7\u001b[0m criterion \u001b[38;5;241m=\u001b[39m torch\u001b[38;5;241m.\u001b[39mnn\u001b[38;5;241m.\u001b[39mBCELoss()\n\u001b[1;32m      8\u001b[0m gen_opt \u001b[38;5;241m=\u001b[39m torch\u001b[38;5;241m.\u001b[39moptim\u001b[38;5;241m.\u001b[39mAdam(gen3\u001b[38;5;241m.\u001b[39mparameters(), lr\u001b[38;5;241m=\u001b[39m\u001b[38;5;241m0.001\u001b[39m, betas\u001b[38;5;241m=\u001b[39m(\u001b[38;5;241m0.5\u001b[39m, \u001b[38;5;241m0.999\u001b[39m))\n",
      "\u001b[0;31mAttributeError\u001b[0m: module 'network' has no attribute 'DiscriminatorTabNet'"
     ]
    }
   ],
   "source": [
    "#Generator\n",
    "gen3 = network.GeneratorWithSkipConnection(n_features+1).to(device)\n",
    "constraints=network.weightConstraint()\n",
    "#Discriminator \n",
    "disc3 = network.DiscriminatorTabNet(n_features+1).to(device)\n",
    "\n",
    "criterion = torch.nn.BCELoss()\n",
    "gen_opt = torch.optim.Adam(gen3.parameters(), lr=0.001, betas=(0.5, 0.999))\n",
    "disc_opt = torch.optim.Adam(disc3.parameters(), lr=0.001, betas=(0.5, 0.999))\n"
   ]
  },
  {
   "cell_type": "code",
   "execution_count": null,
   "id": "26acbc37",
   "metadata": {
    "id": "26acbc37",
    "papermill": {
     "duration": null,
     "end_time": null,
     "exception": null,
     "start_time": null,
     "status": "pending"
    },
    "tags": []
   },
   "outputs": [],
   "source": [
    "ABC_train_test2.training_GAN_skip_connection(disc3,gen3,disc_opt,gen_opt,train_data,batch_size,n_epochs,criterion,prior_model,variance,bias,device)"
   ]
  },
  {
   "cell_type": "code",
   "execution_count": null,
   "id": "c5e0717b",
   "metadata": {
    "id": "c5e0717b",
    "papermill": {
     "duration": null,
     "end_time": null,
     "exception": null,
     "start_time": null,
     "status": "pending"
    },
    "tags": []
   },
   "outputs": [],
   "source": [
    "ABC_GAN3_metrics=ABC_train_test2.test_generator(gen3,test_data,prior_model,variance,bias,\"3\",device)\n",
    "sb.glue(\"ABC_GAN_3 Metrics\",ABC_GAN3_metrics)\n",
    "\n",
    "print(\"MAE\")\n",
    "print(mean(ABC_GAN3_metrics[1]))"
   ]
  },
  {
   "cell_type": "code",
   "execution_count": null,
   "id": "c8e46b48",
   "metadata": {
    "id": "c8e46b48",
    "papermill": {
     "duration": null,
     "end_time": null,
     "exception": null,
     "start_time": null,
     "status": "pending"
    },
    "tags": []
   },
   "outputs": [],
   "source": [
    "sanityChecks.discProbVsError(train_data,disc3,device)\n",
    "sanityChecks.discProbVsError(test_data,disc3,device)"
   ]
  },
  {
   "cell_type": "markdown",
   "id": "48b88247",
   "metadata": {
    "id": "130f3a4d",
    "papermill": {
     "duration": null,
     "end_time": null,
     "exception": null,
     "start_time": null,
     "status": "pending"
    },
    "tags": []
   },
   "source": [
    "# skipGAN Model with TabNet Generator"
   ]
  },
  {
   "cell_type": "code",
   "execution_count": null,
   "id": "f95b2a35",
   "metadata": {
    "id": "4e43dad1",
    "papermill": {
     "duration": null,
     "end_time": null,
     "exception": null,
     "start_time": null,
     "status": "pending"
    },
    "tags": []
   },
   "outputs": [],
   "source": [
    "#Generator\n",
    "gen4 = network.GeneratorTabnetskipConnection(n_features+1).to(device)\n",
    "constraints=network.weightConstraint()\n",
    "#Discriminator \n",
    "disc4 = network.DiscriminatorTabnet(n_features+1).to(device)\n",
    "\n",
    "criterion = torch.nn.BCELoss()\n",
    "gen_opt = torch.optim.Adam(gen4.parameters(), lr=0.001, betas=(0.5, 0.999))\n",
    "disc_opt = torch.optim.Adam(disc4.parameters(), lr=0.001, betas=(0.5, 0.999))\n"
   ]
  },
  {
   "cell_type": "code",
   "execution_count": null,
   "id": "e006bcd0",
   "metadata": {
    "id": "26acbc37",
    "papermill": {
     "duration": null,
     "end_time": null,
     "exception": null,
     "start_time": null,
     "status": "pending"
    },
    "tags": []
   },
   "outputs": [],
   "source": [
    "ABC_train_test2.training_GAN_skip_connection(disc4,gen4,disc_opt,gen_opt,train_data,batch_size,n_epochs,criterion,prior_model,variance,bias,device)"
   ]
  },
  {
   "cell_type": "code",
   "execution_count": null,
   "id": "b358e075",
   "metadata": {
    "id": "c5e0717b",
    "papermill": {
     "duration": null,
     "end_time": null,
     "exception": null,
     "start_time": null,
     "status": "pending"
    },
    "tags": []
   },
   "outputs": [],
   "source": [
    "ABC_GAN4_metrics=ABC_train_test2.test_generator(gen4,test_data,prior_model,variance,bias,\"3\",device)\n",
    "sb.glue(\"ABC_GAN_4 Metrics\",ABC_GAN4_metrics)\n",
    "\n",
    "print(\"MAE\")\n",
    "print(mean(ABC_GAN4_metrics[1]))"
   ]
  },
  {
   "cell_type": "code",
   "execution_count": null,
   "id": "e84a271f",
   "metadata": {
    "id": "c8e46b48",
    "papermill": {
     "duration": null,
     "end_time": null,
     "exception": null,
     "start_time": null,
     "status": "pending"
    },
    "tags": []
   },
   "outputs": [],
   "source": [
    "sanityChecks.discProbVsError(train_data,disc4,device)\n",
    "sanityChecks.discProbVsError(test_data,disc4,device)"
   ]
  },
  {
   "cell_type": "markdown",
   "id": "a5bd74c3",
   "metadata": {
    "id": "a5bd74c3",
    "papermill": {
     "duration": null,
     "end_time": null,
     "exception": null,
     "start_time": null,
     "status": "pending"
    },
    "tags": []
   },
   "source": [
    "## Skip Connection Model Analysis - ABC-GAN "
   ]
  },
  {
   "cell_type": "markdown",
   "id": "5744a8bf",
   "metadata": {
    "id": "5744a8bf",
    "papermill": {
     "duration": null,
     "end_time": null,
     "exception": null,
     "start_time": null,
     "status": "pending"
    },
    "tags": []
   },
   "source": [
    "### Weight Analysis \n",
    "\n",
    "Study the weights of the skip connection layer\n",
    "\n",
    "Equation of the skip connection is \n",
    "\n",
    "$output = y_{gan} * w + y_{abc} * (1-w)$"
   ]
  },
  {
   "cell_type": "code",
   "execution_count": null,
   "id": "52c31dea",
   "metadata": {
    "id": "52c31dea",
    "papermill": {
     "duration": null,
     "end_time": null,
     "exception": null,
     "start_time": null,
     "status": "pending"
    },
    "tags": []
   },
   "outputs": [],
   "source": [
    "print(\"Weight of the node at skip connection\")\n",
    "for name,param in gen3.named_parameters():\n",
    "    if(name == \"skipNode.weight\"):\n",
    "        print(param)\n",
    "        sb.glue(\"Skip Connection Weight\",param.item())"
   ]
  },
  {
   "cell_type": "markdown",
   "id": "52cc0b18",
   "metadata": {
    "id": "a5bd74c3",
    "papermill": {
     "duration": null,
     "end_time": null,
     "exception": null,
     "start_time": null,
     "status": "pending"
    },
    "tags": []
   },
   "source": [
    "## skipGAN Model Analysis (TabNet Generator) "
   ]
  },
  {
   "cell_type": "markdown",
   "id": "1a0ad7b2",
   "metadata": {
    "id": "5744a8bf",
    "papermill": {
     "duration": null,
     "end_time": null,
     "exception": null,
     "start_time": null,
     "status": "pending"
    },
    "tags": []
   },
   "source": [
    "### Weight Analysis \n",
    "\n",
    "Study the weights of the skip connection layer\n",
    "\n",
    "Equation of the skip connection is \n",
    "\n",
    "$output = y_{gan} * w + y_{abc} * (1-w)$"
   ]
  },
  {
   "cell_type": "code",
   "execution_count": null,
   "id": "27a3bf45",
   "metadata": {
    "id": "52c31dea",
    "papermill": {
     "duration": null,
     "end_time": null,
     "exception": null,
     "start_time": null,
     "status": "pending"
    },
    "tags": []
   },
   "outputs": [],
   "source": [
    "print(\"Weight of the node at skip connection\")\n",
    "for name,param in gen4.named_parameters():\n",
    "    if(name == \"skipNode.weight\"):\n",
    "        print(param)\n",
    "        sb.glue(\"Skip Connection Weight\",param.item())"
   ]
  }
 ],
 "metadata": {
  "colab": {
   "collapsed_sections": [],
   "name": "ABC_GAN_Model-Catboost_Pre-gen.ipynb",
   "provenance": []
  },
  "interpreter": {
   "hash": "31f2aee4e71d21fbe5cf8b01ff0e069b9275f58929596ceb00d14d90e3e16cd6"
  },
  "kernelspec": {
   "display_name": "Python 3 (ipykernel)",
   "language": "python",
   "name": "python3"
  },
  "language_info": {
   "codemirror_mode": {
    "name": "ipython",
    "version": 3
   },
   "file_extension": ".py",
   "mimetype": "text/x-python",
   "name": "python",
   "nbconvert_exporter": "python",
   "pygments_lexer": "ipython3",
   "version": "3.8.13"
  },
  "papermill": {
   "default_parameters": {},
   "duration": 523.362391,
   "end_time": "2022-07-27T06:45:24.348802",
   "environment_variables": {},
   "exception": true,
   "input_path": "ABC_GAN-Catboost.ipynb",
   "output_path": "./ABC_GAN_Catboost/ABC-GAN_output_1_1.ipynb",
   "parameters": {
    "bias": 1,
    "variance": 0.1
   },
   "start_time": "2022-07-27T06:36:40.986411",
   "version": "2.3.3"
  }
 },
 "nbformat": 4,
 "nbformat_minor": 5
}