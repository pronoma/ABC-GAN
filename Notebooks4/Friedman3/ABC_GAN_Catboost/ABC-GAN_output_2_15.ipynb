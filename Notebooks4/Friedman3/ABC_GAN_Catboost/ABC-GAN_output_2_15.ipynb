{
 "cells": [
  {
   "cell_type": "markdown",
   "id": "622780e6",
   "metadata": {
    "id": "622780e6",
    "papermill": {
     "duration": 0.014716,
     "end_time": "2022-07-27T15:15:43.937671",
     "exception": false,
     "start_time": "2022-07-27T15:15:43.922955",
     "status": "completed"
    },
    "tags": []
   },
   "source": [
    "## Import Libraries "
   ]
  },
  {
   "cell_type": "code",
   "execution_count": 1,
   "id": "a62397e3",
   "metadata": {
    "execution": {
     "iopub.execute_input": "2022-07-27T15:15:43.974425Z",
     "iopub.status.busy": "2022-07-27T15:15:43.971837Z",
     "iopub.status.idle": "2022-07-27T15:15:43.995213Z",
     "shell.execute_reply": "2022-07-27T15:15:43.994191Z"
    },
    "id": "a62397e3",
    "papermill": {
     "duration": 0.052631,
     "end_time": "2022-07-27T15:15:44.000603",
     "exception": false,
     "start_time": "2022-07-27T15:15:43.947972",
     "status": "completed"
    },
    "tags": []
   },
   "outputs": [],
   "source": [
    "import warnings\n",
    "import sys\n",
    "sys.path.insert(0, '../../src')\n",
    "warnings.filterwarnings('ignore')"
   ]
  },
  {
   "cell_type": "code",
   "execution_count": 2,
   "id": "d6a4e155",
   "metadata": {
    "execution": {
     "iopub.execute_input": "2022-07-27T15:15:44.026413Z",
     "iopub.status.busy": "2022-07-27T15:15:44.025958Z",
     "iopub.status.idle": "2022-07-27T15:15:57.242810Z",
     "shell.execute_reply": "2022-07-27T15:15:57.241734Z"
    },
    "id": "d6a4e155",
    "papermill": {
     "duration": 13.260005,
     "end_time": "2022-07-27T15:15:57.269706",
     "exception": false,
     "start_time": "2022-07-27T15:15:44.009701",
     "status": "completed"
    },
    "tags": []
   },
   "outputs": [],
   "source": [
    "import ABC_train_test2\n",
    "import friedman3Dataset\n",
    "import network\n",
    "import dataset\n",
    "import sanityChecks\n",
    "import torch \n",
    "import scrapbook as sb\n",
    "from statistics import mean \n",
    "import catboost as ctb \n",
    "from sklearn.model_selection import train_test_split\n",
    "from sklearn.metrics import mean_squared_error,mean_absolute_error\n",
    "import numpy as np"
   ]
  },
  {
   "cell_type": "markdown",
   "id": "2fa5b0f7",
   "metadata": {
    "id": "2fa5b0f7",
    "papermill": {
     "duration": 0.010066,
     "end_time": "2022-07-27T15:15:57.292314",
     "exception": false,
     "start_time": "2022-07-27T15:15:57.282248",
     "status": "completed"
    },
    "tags": []
   },
   "source": [
    "## Parameters "
   ]
  },
  {
   "cell_type": "code",
   "execution_count": 3,
   "id": "783186fb",
   "metadata": {
    "execution": {
     "iopub.execute_input": "2022-07-27T15:15:57.353225Z",
     "iopub.status.busy": "2022-07-27T15:15:57.346904Z",
     "iopub.status.idle": "2022-07-27T15:15:57.455109Z",
     "shell.execute_reply": "2022-07-27T15:15:57.451478Z"
    },
    "id": "783186fb",
    "papermill": {
     "duration": 0.204797,
     "end_time": "2022-07-27T15:15:57.513190",
     "exception": false,
     "start_time": "2022-07-27T15:15:57.308393",
     "status": "completed"
    },
    "tags": [
     "parameters"
    ]
   },
   "outputs": [],
   "source": [
    "variance = 1\n",
    "bias = 1 "
   ]
  },
  {
   "cell_type": "code",
   "execution_count": 4,
   "id": "c7d8c912",
   "metadata": {
    "execution": {
     "iopub.execute_input": "2022-07-27T15:15:57.548486Z",
     "iopub.status.busy": "2022-07-27T15:15:57.547310Z",
     "iopub.status.idle": "2022-07-27T15:15:57.557789Z",
     "shell.execute_reply": "2022-07-27T15:15:57.555621Z"
    },
    "papermill": {
     "duration": 0.045756,
     "end_time": "2022-07-27T15:15:57.569043",
     "exception": false,
     "start_time": "2022-07-27T15:15:57.523287",
     "status": "completed"
    },
    "tags": [
     "injected-parameters"
    ]
   },
   "outputs": [],
   "source": [
    "# Parameters\n",
    "variance = 0\n",
    "bias = 0\n"
   ]
  },
  {
   "cell_type": "markdown",
   "id": "391cdbfd",
   "metadata": {
    "id": "391cdbfd",
    "papermill": {
     "duration": 0.020106,
     "end_time": "2022-07-27T15:15:57.600234",
     "exception": false,
     "start_time": "2022-07-27T15:15:57.580128",
     "status": "completed"
    },
    "tags": []
   },
   "source": [
    "## Dataset \n"
   ]
  },
  {
   "cell_type": "code",
   "execution_count": 5,
   "id": "5b51f161",
   "metadata": {
    "execution": {
     "iopub.execute_input": "2022-07-27T15:15:57.685037Z",
     "iopub.status.busy": "2022-07-27T15:15:57.684169Z",
     "iopub.status.idle": "2022-07-27T15:15:57.688610Z",
     "shell.execute_reply": "2022-07-27T15:15:57.687808Z"
    },
    "id": "5b51f161",
    "papermill": {
     "duration": 0.107706,
     "end_time": "2022-07-27T15:15:57.721999",
     "exception": false,
     "start_time": "2022-07-27T15:15:57.614293",
     "status": "completed"
    },
    "tags": []
   },
   "outputs": [],
   "source": [
    "#Parameters \n",
    "n_features = 4\n",
    "n_samples= 100\n",
    "n_target = 1"
   ]
  },
  {
   "cell_type": "code",
   "execution_count": 6,
   "id": "5d6eced4",
   "metadata": {
    "execution": {
     "iopub.execute_input": "2022-07-27T15:15:57.750611Z",
     "iopub.status.busy": "2022-07-27T15:15:57.749692Z",
     "iopub.status.idle": "2022-07-27T15:15:57.785154Z",
     "shell.execute_reply": "2022-07-27T15:15:57.784032Z"
    },
    "id": "5d6eced4",
    "papermill": {
     "duration": 0.069282,
     "end_time": "2022-07-27T15:15:57.805723",
     "exception": false,
     "start_time": "2022-07-27T15:15:57.736441",
     "status": "completed"
    },
    "tags": []
   },
   "outputs": [
    {
     "name": "stdout",
     "output_type": "stream",
     "text": [
      "          X1           X2        X3         X4         Y\n",
      "0  71.915362  1307.088602  0.190958   5.345988  1.309363\n",
      "1   6.054729   238.652803  0.679995   8.502008  1.642790\n",
      "2  43.927665   650.460265  0.016579   1.298120  0.583958\n",
      "3  26.559119   730.957932  0.447156  10.023176  1.511089\n",
      "4  19.008047   804.637813  0.889289   1.999861  1.433795\n"
     ]
    }
   ],
   "source": [
    "X,Y = friedman3Dataset.friedman3_data(n_samples)"
   ]
  },
  {
   "cell_type": "code",
   "execution_count": 7,
   "id": "fe007438",
   "metadata": {
    "execution": {
     "iopub.execute_input": "2022-07-27T15:15:57.829567Z",
     "iopub.status.busy": "2022-07-27T15:15:57.828992Z",
     "iopub.status.idle": "2022-07-27T15:15:57.838108Z",
     "shell.execute_reply": "2022-07-27T15:15:57.834904Z"
    },
    "id": "fe007438",
    "papermill": {
     "duration": 0.039884,
     "end_time": "2022-07-27T15:15:57.855202",
     "exception": false,
     "start_time": "2022-07-27T15:15:57.815318",
     "status": "completed"
    },
    "tags": []
   },
   "outputs": [],
   "source": [
    "#Train test split for dataset \n",
    "X_train,X_test,Y_train,Y_test = train_test_split(X,Y,test_size = 0.2)\n",
    "train_data = dataset.CustomDataset(X_train,Y_train)\n",
    "test_data = dataset.CustomDataset(X_test,Y_test)\n"
   ]
  },
  {
   "cell_type": "markdown",
   "id": "a9a1af34",
   "metadata": {
    "id": "a9a1af34",
    "papermill": {
     "duration": 0.018257,
     "end_time": "2022-07-27T15:15:57.883086",
     "exception": false,
     "start_time": "2022-07-27T15:15:57.864829",
     "status": "completed"
    },
    "tags": []
   },
   "source": [
    "## Training Parameters "
   ]
  },
  {
   "cell_type": "code",
   "execution_count": 8,
   "id": "952b7fc8",
   "metadata": {
    "execution": {
     "iopub.execute_input": "2022-07-27T15:15:57.910266Z",
     "iopub.status.busy": "2022-07-27T15:15:57.909920Z",
     "iopub.status.idle": "2022-07-27T15:15:57.918266Z",
     "shell.execute_reply": "2022-07-27T15:15:57.917315Z"
    },
    "id": "952b7fc8",
    "papermill": {
     "duration": 0.041795,
     "end_time": "2022-07-27T15:15:57.937395",
     "exception": false,
     "start_time": "2022-07-27T15:15:57.895600",
     "status": "completed"
    },
    "tags": []
   },
   "outputs": [],
   "source": [
    "batch_size = 32\n",
    "n_epochs = 1000\n",
    "#Select the device \n",
    "device = torch.device('cuda' if torch.cuda.is_available() else 'cpu')"
   ]
  },
  {
   "cell_type": "markdown",
   "id": "a95e1600",
   "metadata": {
    "id": "a95e1600",
    "papermill": {
     "duration": 0.067819,
     "end_time": "2022-07-27T15:15:58.014112",
     "exception": false,
     "start_time": "2022-07-27T15:15:57.946293",
     "status": "completed"
    },
    "tags": []
   },
   "source": [
    "# ABC Pre-generator Model \n",
    "\n",
    "1. The catboost model is used as a pre-generator model for the ABC-GAN. \n",
    "2. The model is first trained on the entire dataset \n",
    "3. It generats X,Y pairs and we add some Gaussian noise with mean 0 and variance 1 to it which is then feed as input to the generator.\n"
   ]
  },
  {
   "cell_type": "code",
   "execution_count": 9,
   "id": "ff8ce7bd",
   "metadata": {
    "execution": {
     "iopub.execute_input": "2022-07-27T15:15:58.041281Z",
     "iopub.status.busy": "2022-07-27T15:15:58.039518Z",
     "iopub.status.idle": "2022-07-27T15:16:02.814171Z",
     "shell.execute_reply": "2022-07-27T15:16:02.810089Z"
    },
    "id": "ff8ce7bd",
    "papermill": {
     "duration": 4.791576,
     "end_time": "2022-07-27T15:16:02.817886",
     "exception": false,
     "start_time": "2022-07-27T15:15:58.026310",
     "status": "completed"
    },
    "tags": []
   },
   "outputs": [
    {
     "name": "stdout",
     "output_type": "stream",
     "text": [
      "Learning rate set to 0.027471\n",
      "0:\tlearn: 0.9559838\ttotal: 55.6ms\tremaining: 55.6s\n",
      "1:\tlearn: 0.9465335\ttotal: 56.3ms\tremaining: 28.1s\n",
      "2:\tlearn: 0.9371725\ttotal: 57ms\tremaining: 19s\n",
      "3:\tlearn: 0.9276665\ttotal: 57.7ms\tremaining: 14.4s\n",
      "4:\tlearn: 0.9168167\ttotal: 58.3ms\tremaining: 11.6s\n",
      "5:\tlearn: 0.9089723\ttotal: 59.1ms\tremaining: 9.79s\n",
      "6:\tlearn: 0.9001127\ttotal: 59.9ms\tremaining: 8.5s\n",
      "7:\tlearn: 0.8894642\ttotal: 60.6ms\tremaining: 7.51s\n",
      "8:\tlearn: 0.8789191\ttotal: 61.3ms\tremaining: 6.75s\n",
      "9:\tlearn: 0.8696685\ttotal: 61.9ms\tremaining: 6.13s\n",
      "10:\tlearn: 0.8621367\ttotal: 62.7ms\tremaining: 5.63s\n",
      "11:\tlearn: 0.8529100\ttotal: 63.1ms\tremaining: 5.2s\n",
      "12:\tlearn: 0.8460923\ttotal: 64.6ms\tremaining: 4.91s\n",
      "13:\tlearn: 0.8387166\ttotal: 66ms\tremaining: 4.65s\n",
      "14:\tlearn: 0.8298752\ttotal: 67.5ms\tremaining: 4.43s\n",
      "15:\tlearn: 0.8232844\ttotal: 68.3ms\tremaining: 4.2s\n",
      "16:\tlearn: 0.8149384\ttotal: 69.3ms\tremaining: 4.01s\n",
      "17:\tlearn: 0.8077704\ttotal: 70.1ms\tremaining: 3.83s\n",
      "18:\tlearn: 0.8013346\ttotal: 70.6ms\tremaining: 3.65s\n",
      "19:\tlearn: 0.7948856\ttotal: 71.6ms\tremaining: 3.51s\n",
      "20:\tlearn: 0.7858035\ttotal: 72.1ms\tremaining: 3.36s\n",
      "21:\tlearn: 0.7781208\ttotal: 72.9ms\tremaining: 3.24s\n",
      "22:\tlearn: 0.7716318\ttotal: 73.6ms\tremaining: 3.13s\n",
      "23:\tlearn: 0.7641168\ttotal: 74.4ms\tremaining: 3.03s\n",
      "24:\tlearn: 0.7570707\ttotal: 75.5ms\tremaining: 2.94s\n",
      "25:\tlearn: 0.7501779\ttotal: 76.1ms\tremaining: 2.85s\n",
      "26:\tlearn: 0.7438153\ttotal: 76.6ms\tremaining: 2.76s\n",
      "27:\tlearn: 0.7368295\ttotal: 77.2ms\tremaining: 2.68s\n",
      "28:\tlearn: 0.7300716\ttotal: 78.2ms\tremaining: 2.62s\n",
      "29:\tlearn: 0.7240770\ttotal: 80ms\tremaining: 2.58s\n",
      "30:\tlearn: 0.7183236\ttotal: 81.1ms\tremaining: 2.53s\n",
      "31:\tlearn: 0.7118023\ttotal: 81.7ms\tremaining: 2.47s\n",
      "32:\tlearn: 0.7046330\ttotal: 82.3ms\tremaining: 2.41s\n",
      "33:\tlearn: 0.7001363\ttotal: 82.9ms\tremaining: 2.35s\n",
      "34:\tlearn: 0.6947097\ttotal: 83.4ms\tremaining: 2.3s\n",
      "35:\tlearn: 0.6886532\ttotal: 84.1ms\tremaining: 2.25s\n",
      "36:\tlearn: 0.6823396\ttotal: 84.6ms\tremaining: 2.2s\n",
      "37:\tlearn: 0.6766189\ttotal: 85.3ms\tremaining: 2.16s\n",
      "38:\tlearn: 0.6698445\ttotal: 85.8ms\tremaining: 2.11s\n",
      "39:\tlearn: 0.6645914\ttotal: 86.4ms\tremaining: 2.07s\n",
      "40:\tlearn: 0.6593294\ttotal: 87.2ms\tremaining: 2.04s\n",
      "41:\tlearn: 0.6544608\ttotal: 87.9ms\tremaining: 2s\n",
      "42:\tlearn: 0.6497921\ttotal: 88.5ms\tremaining: 1.97s\n",
      "43:\tlearn: 0.6434498\ttotal: 89.2ms\tremaining: 1.94s\n",
      "44:\tlearn: 0.6387916\ttotal: 89.8ms\tremaining: 1.91s\n",
      "45:\tlearn: 0.6326863\ttotal: 90.6ms\tremaining: 1.88s\n",
      "46:\tlearn: 0.6278991\ttotal: 91ms\tremaining: 1.84s\n",
      "47:\tlearn: 0.6219100\ttotal: 91.5ms\tremaining: 1.81s\n",
      "48:\tlearn: 0.6171010\ttotal: 92.5ms\tremaining: 1.79s\n",
      "49:\tlearn: 0.6128497\ttotal: 93ms\tremaining: 1.77s\n",
      "50:\tlearn: 0.6087926\ttotal: 93.7ms\tremaining: 1.74s\n",
      "51:\tlearn: 0.6043142\ttotal: 94.3ms\tremaining: 1.72s\n",
      "52:\tlearn: 0.5992423\ttotal: 95ms\tremaining: 1.7s\n",
      "53:\tlearn: 0.5962524\ttotal: 95.7ms\tremaining: 1.68s\n",
      "54:\tlearn: 0.5916829\ttotal: 96.6ms\tremaining: 1.66s\n",
      "55:\tlearn: 0.5891079\ttotal: 97.3ms\tremaining: 1.64s\n",
      "56:\tlearn: 0.5844979\ttotal: 98ms\tremaining: 1.62s\n",
      "57:\tlearn: 0.5802246\ttotal: 98.5ms\tremaining: 1.6s\n",
      "58:\tlearn: 0.5765872\ttotal: 99.2ms\tremaining: 1.58s\n",
      "59:\tlearn: 0.5723928\ttotal: 99.7ms\tremaining: 1.56s\n",
      "60:\tlearn: 0.5673701\ttotal: 100ms\tremaining: 1.54s\n",
      "61:\tlearn: 0.5634560\ttotal: 101ms\tremaining: 1.53s\n",
      "62:\tlearn: 0.5598330\ttotal: 102ms\tremaining: 1.52s\n",
      "63:\tlearn: 0.5555732\ttotal: 103ms\tremaining: 1.51s\n",
      "64:\tlearn: 0.5501018\ttotal: 104ms\tremaining: 1.49s\n",
      "65:\tlearn: 0.5457844\ttotal: 104ms\tremaining: 1.47s\n",
      "66:\tlearn: 0.5424626\ttotal: 105ms\tremaining: 1.46s\n",
      "67:\tlearn: 0.5375744\ttotal: 105ms\tremaining: 1.44s\n",
      "68:\tlearn: 0.5343875\ttotal: 106ms\tremaining: 1.42s\n",
      "69:\tlearn: 0.5304161\ttotal: 106ms\tremaining: 1.41s\n",
      "70:\tlearn: 0.5264831\ttotal: 107ms\tremaining: 1.4s\n",
      "71:\tlearn: 0.5226486\ttotal: 107ms\tremaining: 1.38s\n",
      "72:\tlearn: 0.5188332\ttotal: 108ms\tremaining: 1.37s\n"
     ]
    },
    {
     "name": "stdout",
     "output_type": "stream",
     "text": [
      "73:\tlearn: 0.5162172\ttotal: 108ms\tremaining: 1.35s\n"
     ]
    },
    {
     "name": "stdout",
     "output_type": "stream",
     "text": [
      "74:\tlearn: 0.5122244\ttotal: 120ms\tremaining: 1.48s\n",
      "75:\tlearn: 0.5096813\ttotal: 123ms\tremaining: 1.5s\n",
      "76:\tlearn: 0.5050944\ttotal: 125ms\tremaining: 1.49s\n",
      "77:\tlearn: 0.5014562\ttotal: 138ms\tremaining: 1.63s\n",
      "78:\tlearn: 0.4973560\ttotal: 218ms\tremaining: 2.55s\n",
      "79:\tlearn: 0.4934659\ttotal: 221ms\tremaining: 2.54s\n",
      "80:\tlearn: 0.4900573\ttotal: 222ms\tremaining: 2.52s\n",
      "81:\tlearn: 0.4870723\ttotal: 222ms\tremaining: 2.49s\n",
      "82:\tlearn: 0.4839336\ttotal: 223ms\tremaining: 2.46s\n",
      "83:\tlearn: 0.4825484\ttotal: 223ms\tremaining: 2.43s\n",
      "84:\tlearn: 0.4795969\ttotal: 224ms\tremaining: 2.41s\n",
      "85:\tlearn: 0.4763518\ttotal: 227ms\tremaining: 2.41s\n",
      "86:\tlearn: 0.4742145\ttotal: 229ms\tremaining: 2.4s\n",
      "87:\tlearn: 0.4709979\ttotal: 231ms\tremaining: 2.39s\n",
      "88:\tlearn: 0.4676357\ttotal: 232ms\tremaining: 2.37s\n",
      "89:\tlearn: 0.4656318\ttotal: 232ms\tremaining: 2.35s\n",
      "90:\tlearn: 0.4629549\ttotal: 232ms\tremaining: 2.32s\n",
      "91:\tlearn: 0.4602803\ttotal: 233ms\tremaining: 2.3s\n",
      "92:\tlearn: 0.4571695\ttotal: 233ms\tremaining: 2.27s\n",
      "93:\tlearn: 0.4554904\ttotal: 234ms\tremaining: 2.25s\n",
      "94:\tlearn: 0.4537025\ttotal: 238ms\tremaining: 2.27s\n",
      "95:\tlearn: 0.4509249\ttotal: 244ms\tremaining: 2.3s\n",
      "96:\tlearn: 0.4480126\ttotal: 245ms\tremaining: 2.28s\n",
      "97:\tlearn: 0.4458060\ttotal: 245ms\tremaining: 2.26s\n",
      "98:\tlearn: 0.4432426\ttotal: 246ms\tremaining: 2.23s\n",
      "99:\tlearn: 0.4418198\ttotal: 246ms\tremaining: 2.21s\n",
      "100:\tlearn: 0.4387109\ttotal: 248ms\tremaining: 2.21s\n",
      "101:\tlearn: 0.4354232\ttotal: 249ms\tremaining: 2.19s\n",
      "102:\tlearn: 0.4328232\ttotal: 250ms\tremaining: 2.18s\n",
      "103:\tlearn: 0.4303602\ttotal: 251ms\tremaining: 2.16s\n",
      "104:\tlearn: 0.4281504\ttotal: 252ms\tremaining: 2.15s\n",
      "105:\tlearn: 0.4244306\ttotal: 252ms\tremaining: 2.13s\n",
      "106:\tlearn: 0.4224931\ttotal: 255ms\tremaining: 2.13s\n",
      "107:\tlearn: 0.4191394\ttotal: 255ms\tremaining: 2.11s\n",
      "108:\tlearn: 0.4165941\ttotal: 256ms\tremaining: 2.09s\n",
      "109:\tlearn: 0.4144060\ttotal: 256ms\tremaining: 2.07s\n",
      "110:\tlearn: 0.4119903\ttotal: 257ms\tremaining: 2.06s\n",
      "111:\tlearn: 0.4087306\ttotal: 258ms\tremaining: 2.04s\n",
      "112:\tlearn: 0.4063332\ttotal: 259ms\tremaining: 2.03s\n",
      "113:\tlearn: 0.4035194\ttotal: 260ms\tremaining: 2.02s\n",
      "114:\tlearn: 0.4012783\ttotal: 260ms\tremaining: 2s\n",
      "115:\tlearn: 0.3988239\ttotal: 262ms\tremaining: 1.99s\n",
      "116:\tlearn: 0.3957407\ttotal: 262ms\tremaining: 1.98s\n",
      "117:\tlearn: 0.3937954\ttotal: 263ms\tremaining: 1.97s\n"
     ]
    },
    {
     "name": "stdout",
     "output_type": "stream",
     "text": [
      "118:\tlearn: 0.3927682\ttotal: 263ms\tremaining: 1.97s\n",
      "119:\tlearn: 0.3902265\ttotal: 265ms\tremaining: 1.96s\n",
      "120:\tlearn: 0.3877869\ttotal: 266ms\tremaining: 1.95s\n",
      "121:\tlearn: 0.3863920\ttotal: 268ms\tremaining: 1.95s\n",
      "122:\tlearn: 0.3851142\ttotal: 269ms\tremaining: 1.93s\n",
      "123:\tlearn: 0.3818229\ttotal: 269ms\tremaining: 1.92s\n",
      "124:\tlearn: 0.3791987\ttotal: 270ms\tremaining: 1.9s\n",
      "125:\tlearn: 0.3768215\ttotal: 272ms\tremaining: 1.9s\n",
      "126:\tlearn: 0.3748015\ttotal: 277ms\tremaining: 1.92s\n",
      "127:\tlearn: 0.3727837\ttotal: 279ms\tremaining: 1.92s\n",
      "128:\tlearn: 0.3710952\ttotal: 280ms\tremaining: 1.91s\n",
      "129:\tlearn: 0.3689759\ttotal: 281ms\tremaining: 1.89s\n",
      "130:\tlearn: 0.3667493\ttotal: 282ms\tremaining: 1.89s\n",
      "131:\tlearn: 0.3652738\ttotal: 283ms\tremaining: 1.88s\n",
      "132:\tlearn: 0.3635668\ttotal: 284ms\tremaining: 1.87s\n",
      "133:\tlearn: 0.3611387\ttotal: 285ms\tremaining: 1.86s\n",
      "134:\tlearn: 0.3593777\ttotal: 288ms\tremaining: 1.86s\n",
      "135:\tlearn: 0.3580222\ttotal: 288ms\tremaining: 1.84s\n",
      "136:\tlearn: 0.3565306\ttotal: 289ms\tremaining: 1.83s\n",
      "137:\tlearn: 0.3550586\ttotal: 289ms\tremaining: 1.82s\n",
      "138:\tlearn: 0.3538169\ttotal: 290ms\tremaining: 1.81s\n",
      "139:\tlearn: 0.3527268\ttotal: 292ms\tremaining: 1.8s\n",
      "140:\tlearn: 0.3508789\ttotal: 293ms\tremaining: 1.8s\n",
      "141:\tlearn: 0.3489170\ttotal: 296ms\tremaining: 1.8s\n",
      "142:\tlearn: 0.3472565\ttotal: 297ms\tremaining: 1.79s\n",
      "143:\tlearn: 0.3458050\ttotal: 298ms\tremaining: 1.78s\n",
      "144:\tlearn: 0.3444210\ttotal: 299ms\tremaining: 1.77s\n",
      "145:\tlearn: 0.3427447\ttotal: 305ms\tremaining: 1.79s\n",
      "146:\tlearn: 0.3409132\ttotal: 305ms\tremaining: 1.78s\n",
      "147:\tlearn: 0.3400171\ttotal: 308ms\tremaining: 1.78s\n",
      "148:\tlearn: 0.3385470\ttotal: 308ms\tremaining: 1.77s\n",
      "149:\tlearn: 0.3369191\ttotal: 309ms\tremaining: 1.76s\n",
      "150:\tlearn: 0.3359709\ttotal: 309ms\tremaining: 1.75s\n",
      "151:\tlearn: 0.3342632\ttotal: 310ms\tremaining: 1.74s\n",
      "152:\tlearn: 0.3325074\ttotal: 310ms\tremaining: 1.73s\n",
      "153:\tlearn: 0.3316858\ttotal: 311ms\tremaining: 1.72s\n",
      "154:\tlearn: 0.3307775\ttotal: 314ms\tremaining: 1.72s\n",
      "155:\tlearn: 0.3288003\ttotal: 315ms\tremaining: 1.72s\n",
      "156:\tlearn: 0.3273690\ttotal: 316ms\tremaining: 1.71s\n",
      "157:\tlearn: 0.3251464\ttotal: 318ms\tremaining: 1.7s\n",
      "158:\tlearn: 0.3237909\ttotal: 320ms\tremaining: 1.71s\n",
      "159:\tlearn: 0.3220011\ttotal: 321ms\tremaining: 1.7s\n",
      "160:\tlearn: 0.3206965\ttotal: 323ms\tremaining: 1.69s\n",
      "161:\tlearn: 0.3195746\ttotal: 323ms\tremaining: 1.68s\n",
      "162:\tlearn: 0.3174759\ttotal: 324ms\tremaining: 1.67s\n",
      "163:\tlearn: 0.3161031\ttotal: 326ms\tremaining: 1.67s\n",
      "164:\tlearn: 0.3146251\ttotal: 327ms\tremaining: 1.66s\n",
      "165:\tlearn: 0.3132128\ttotal: 327ms\tremaining: 1.65s\n",
      "166:\tlearn: 0.3116448\ttotal: 328ms\tremaining: 1.64s\n",
      "167:\tlearn: 0.3103249\ttotal: 328ms\tremaining: 1.63s\n",
      "168:\tlearn: 0.3093110\ttotal: 330ms\tremaining: 1.63s\n",
      "169:\tlearn: 0.3085552\ttotal: 457ms\tremaining: 2.24s\n"
     ]
    },
    {
     "name": "stdout",
     "output_type": "stream",
     "text": [
      "170:\tlearn: 0.3075763\ttotal: 457ms\tremaining: 2.23s\n",
      "171:\tlearn: 0.3061217\ttotal: 464ms\tremaining: 2.25s\n",
      "172:\tlearn: 0.3050501\ttotal: 467ms\tremaining: 2.24s\n",
      "173:\tlearn: 0.3036107\ttotal: 467ms\tremaining: 2.23s\n",
      "174:\tlearn: 0.3021667\ttotal: 469ms\tremaining: 2.22s\n",
      "175:\tlearn: 0.3013780\ttotal: 471ms\tremaining: 2.22s\n",
      "176:\tlearn: 0.3004337\ttotal: 472ms\tremaining: 2.21s\n",
      "177:\tlearn: 0.2989105\ttotal: 473ms\tremaining: 2.19s\n",
      "178:\tlearn: 0.2980205\ttotal: 473ms\tremaining: 2.18s\n",
      "179:\tlearn: 0.2971018\ttotal: 473ms\tremaining: 2.17s\n",
      "180:\tlearn: 0.2955800\ttotal: 474ms\tremaining: 2.16s\n",
      "181:\tlearn: 0.2945609\ttotal: 474ms\tremaining: 2.14s\n",
      "182:\tlearn: 0.2936847\ttotal: 475ms\tremaining: 2.13s\n",
      "183:\tlearn: 0.2927521\ttotal: 475ms\tremaining: 2.12s\n",
      "184:\tlearn: 0.2919406\ttotal: 481ms\tremaining: 2.13s\n",
      "185:\tlearn: 0.2910103\ttotal: 482ms\tremaining: 2.12s\n",
      "186:\tlearn: 0.2903026\ttotal: 484ms\tremaining: 2.11s\n",
      "187:\tlearn: 0.2895328\ttotal: 484ms\tremaining: 2.1s\n",
      "188:\tlearn: 0.2887285\ttotal: 485ms\tremaining: 2.09s\n",
      "189:\tlearn: 0.2878343\ttotal: 485ms\tremaining: 2.08s\n",
      "190:\tlearn: 0.2870709\ttotal: 486ms\tremaining: 2.07s\n",
      "191:\tlearn: 0.2861190\ttotal: 490ms\tremaining: 2.07s\n",
      "192:\tlearn: 0.2847617\ttotal: 491ms\tremaining: 2.06s\n",
      "193:\tlearn: 0.2838487\ttotal: 491ms\tremaining: 2.05s\n",
      "194:\tlearn: 0.2826905\ttotal: 497ms\tremaining: 2.06s\n",
      "195:\tlearn: 0.2814587\ttotal: 517ms\tremaining: 2.13s\n",
      "196:\tlearn: 0.2804171\ttotal: 518ms\tremaining: 2.12s\n",
      "197:\tlearn: 0.2799305\ttotal: 519ms\tremaining: 2.11s\n",
      "198:\tlearn: 0.2789569\ttotal: 521ms\tremaining: 2.11s\n",
      "199:\tlearn: 0.2778593\ttotal: 521ms\tremaining: 2.1s\n",
      "200:\tlearn: 0.2767800\ttotal: 522ms\tremaining: 2.08s\n",
      "201:\tlearn: 0.2757920\ttotal: 523ms\tremaining: 2.07s\n",
      "202:\tlearn: 0.2747676\ttotal: 524ms\tremaining: 2.07s\n",
      "203:\tlearn: 0.2735761\ttotal: 524ms\tremaining: 2.06s\n",
      "204:\tlearn: 0.2728381\ttotal: 525ms\tremaining: 2.04s\n",
      "205:\tlearn: 0.2719338\ttotal: 525ms\tremaining: 2.03s\n",
      "206:\tlearn: 0.2706897\ttotal: 526ms\tremaining: 2.02s\n",
      "207:\tlearn: 0.2698151\ttotal: 526ms\tremaining: 2.01s\n",
      "208:\tlearn: 0.2687350\ttotal: 528ms\tremaining: 2.01s\n",
      "209:\tlearn: 0.2679513\ttotal: 529ms\tremaining: 2s\n",
      "210:\tlearn: 0.2671178\ttotal: 529ms\tremaining: 1.99s\n",
      "211:\tlearn: 0.2658401\ttotal: 533ms\tremaining: 1.99s\n",
      "212:\tlearn: 0.2648882\ttotal: 536ms\tremaining: 1.99s\n",
      "213:\tlearn: 0.2642649\ttotal: 537ms\tremaining: 1.98s\n",
      "214:\tlearn: 0.2632256\ttotal: 537ms\tremaining: 1.97s\n",
      "215:\tlearn: 0.2621896\ttotal: 537ms\tremaining: 1.96s\n",
      "216:\tlearn: 0.2608634\ttotal: 538ms\tremaining: 1.95s\n",
      "217:\tlearn: 0.2603185\ttotal: 538ms\tremaining: 1.94s\n",
      "218:\tlearn: 0.2598305\ttotal: 542ms\tremaining: 1.94s\n",
      "219:\tlearn: 0.2590012\ttotal: 542ms\tremaining: 1.93s\n",
      "220:\tlearn: 0.2580720\ttotal: 543ms\tremaining: 1.92s\n",
      "221:\tlearn: 0.2574501\ttotal: 543ms\tremaining: 1.91s\n",
      "222:\tlearn: 0.2565824\ttotal: 544ms\tremaining: 1.9s\n",
      "223:\tlearn: 0.2551389\ttotal: 544ms\tremaining: 1.89s\n",
      "224:\tlearn: 0.2539605\ttotal: 545ms\tremaining: 1.88s\n",
      "225:\tlearn: 0.2534019\ttotal: 545ms\tremaining: 1.88s\n",
      "226:\tlearn: 0.2527361\ttotal: 546ms\tremaining: 1.87s\n",
      "227:\tlearn: 0.2519657\ttotal: 546ms\tremaining: 1.86s\n",
      "228:\tlearn: 0.2513039\ttotal: 547ms\tremaining: 1.85s\n",
      "229:\tlearn: 0.2507427\ttotal: 548ms\tremaining: 1.84s\n",
      "230:\tlearn: 0.2502239\ttotal: 549ms\tremaining: 1.83s\n",
      "231:\tlearn: 0.2496015\ttotal: 551ms\tremaining: 1.83s\n",
      "232:\tlearn: 0.2488762\ttotal: 552ms\tremaining: 1.82s\n",
      "233:\tlearn: 0.2482948\ttotal: 553ms\tremaining: 1.82s\n",
      "234:\tlearn: 0.2479035\ttotal: 553ms\tremaining: 1.81s\n",
      "235:\tlearn: 0.2474491\ttotal: 554ms\tremaining: 1.8s\n",
      "236:\tlearn: 0.2467431\ttotal: 555ms\tremaining: 1.79s\n",
      "237:\tlearn: 0.2461841\ttotal: 556ms\tremaining: 1.79s\n",
      "238:\tlearn: 0.2454392\ttotal: 556ms\tremaining: 1.78s\n",
      "239:\tlearn: 0.2447933\ttotal: 557ms\tremaining: 1.77s\n",
      "240:\tlearn: 0.2443129\ttotal: 557ms\tremaining: 1.76s\n",
      "241:\tlearn: 0.2438861\ttotal: 558ms\tremaining: 1.75s\n",
      "242:\tlearn: 0.2431766\ttotal: 559ms\tremaining: 1.75s\n",
      "243:\tlearn: 0.2427785\ttotal: 559ms\tremaining: 1.74s\n",
      "244:\tlearn: 0.2421619\ttotal: 559ms\tremaining: 1.73s\n",
      "245:\tlearn: 0.2415486\ttotal: 560ms\tremaining: 1.72s\n",
      "246:\tlearn: 0.2406475\ttotal: 561ms\tremaining: 1.72s\n",
      "247:\tlearn: 0.2398497\ttotal: 562ms\tremaining: 1.71s\n",
      "248:\tlearn: 0.2392014\ttotal: 562ms\tremaining: 1.7s\n",
      "249:\tlearn: 0.2386261\ttotal: 566ms\tremaining: 1.7s\n",
      "250:\tlearn: 0.2378229\ttotal: 568ms\tremaining: 1.7s\n",
      "251:\tlearn: 0.2373786\ttotal: 569ms\tremaining: 1.69s\n",
      "252:\tlearn: 0.2367173\ttotal: 573ms\tremaining: 1.7s\n",
      "253:\tlearn: 0.2363965\ttotal: 574ms\tremaining: 1.69s\n"
     ]
    },
    {
     "name": "stdout",
     "output_type": "stream",
     "text": [
      "254:\tlearn: 0.2358015\ttotal: 576ms\tremaining: 1.69s\n",
      "255:\tlearn: 0.2352183\ttotal: 577ms\tremaining: 1.68s\n",
      "256:\tlearn: 0.2346765\ttotal: 579ms\tremaining: 1.68s\n",
      "257:\tlearn: 0.2343200\ttotal: 584ms\tremaining: 1.68s\n",
      "258:\tlearn: 0.2339917\ttotal: 584ms\tremaining: 1.68s\n",
      "259:\tlearn: 0.2334330\ttotal: 585ms\tremaining: 1.67s\n",
      "260:\tlearn: 0.2330519\ttotal: 585ms\tremaining: 1.66s\n",
      "261:\tlearn: 0.2325098\ttotal: 586ms\tremaining: 1.66s\n",
      "262:\tlearn: 0.2322289\ttotal: 586ms\tremaining: 1.65s\n",
      "263:\tlearn: 0.2316837\ttotal: 587ms\tremaining: 1.64s\n",
      "264:\tlearn: 0.2312578\ttotal: 588ms\tremaining: 1.64s\n",
      "265:\tlearn: 0.2307388\ttotal: 589ms\tremaining: 1.63s\n",
      "266:\tlearn: 0.2301305\ttotal: 590ms\tremaining: 1.63s\n",
      "267:\tlearn: 0.2296244\ttotal: 591ms\tremaining: 1.62s\n",
      "268:\tlearn: 0.2291285\ttotal: 592ms\tremaining: 1.61s\n"
     ]
    },
    {
     "name": "stdout",
     "output_type": "stream",
     "text": [
      "269:\tlearn: 0.2288877\ttotal: 592ms\tremaining: 1.61s\n",
      "270:\tlearn: 0.2282751\ttotal: 595ms\tremaining: 1.61s\n",
      "271:\tlearn: 0.2278327\ttotal: 602ms\tremaining: 1.62s\n",
      "272:\tlearn: 0.2272261\ttotal: 603ms\tremaining: 1.62s\n",
      "273:\tlearn: 0.2268256\ttotal: 604ms\tremaining: 1.61s\n",
      "274:\tlearn: 0.2263644\ttotal: 604ms\tremaining: 1.6s\n",
      "275:\tlearn: 0.2260365\ttotal: 620ms\tremaining: 1.64s\n",
      "276:\tlearn: 0.2257566\ttotal: 627ms\tremaining: 1.65s\n",
      "277:\tlearn: 0.2252667\ttotal: 627ms\tremaining: 1.64s\n",
      "278:\tlearn: 0.2248310\ttotal: 629ms\tremaining: 1.64s\n",
      "279:\tlearn: 0.2244040\ttotal: 629ms\tremaining: 1.63s\n",
      "280:\tlearn: 0.2240932\ttotal: 631ms\tremaining: 1.62s\n",
      "281:\tlearn: 0.2235519\ttotal: 633ms\tremaining: 1.62s\n",
      "282:\tlearn: 0.2230061\ttotal: 634ms\tremaining: 1.62s\n",
      "283:\tlearn: 0.2225665\ttotal: 646ms\tremaining: 1.64s\n",
      "284:\tlearn: 0.2214775\ttotal: 651ms\tremaining: 1.65s\n",
      "285:\tlearn: 0.2210740\ttotal: 652ms\tremaining: 1.64s\n",
      "286:\tlearn: 0.2208168\ttotal: 652ms\tremaining: 1.63s\n",
      "287:\tlearn: 0.2199938\ttotal: 653ms\tremaining: 1.63s\n",
      "288:\tlearn: 0.2194716\ttotal: 653ms\tremaining: 1.62s\n",
      "289:\tlearn: 0.2188740\ttotal: 654ms\tremaining: 1.61s\n",
      "290:\tlearn: 0.2184894\ttotal: 654ms\tremaining: 1.6s\n",
      "291:\tlearn: 0.2180025\ttotal: 655ms\tremaining: 1.6s\n",
      "292:\tlearn: 0.2167353\ttotal: 656ms\tremaining: 1.59s\n",
      "293:\tlearn: 0.2160753\ttotal: 656ms\tremaining: 1.59s\n",
      "294:\tlearn: 0.2157019\ttotal: 657ms\tremaining: 1.58s\n",
      "295:\tlearn: 0.2154583\ttotal: 657ms\tremaining: 1.57s\n"
     ]
    },
    {
     "name": "stdout",
     "output_type": "stream",
     "text": [
      "296:\tlearn: 0.2150857\ttotal: 658ms\tremaining: 1.57s\n",
      "297:\tlearn: 0.2144497\ttotal: 658ms\tremaining: 1.56s\n",
      "298:\tlearn: 0.2138281\ttotal: 659ms\tremaining: 1.55s\n",
      "299:\tlearn: 0.2135379\ttotal: 660ms\tremaining: 1.55s\n",
      "300:\tlearn: 0.2131997\ttotal: 660ms\tremaining: 1.54s\n",
      "301:\tlearn: 0.2128683\ttotal: 661ms\tremaining: 1.54s\n",
      "302:\tlearn: 0.2124486\ttotal: 661ms\tremaining: 1.53s\n",
      "303:\tlearn: 0.2121264\ttotal: 662ms\tremaining: 1.52s\n",
      "304:\tlearn: 0.2117310\ttotal: 662ms\tremaining: 1.52s\n",
      "305:\tlearn: 0.2112899\ttotal: 665ms\tremaining: 1.52s\n",
      "306:\tlearn: 0.2109076\ttotal: 667ms\tremaining: 1.51s\n",
      "307:\tlearn: 0.2103411\ttotal: 668ms\tremaining: 1.51s\n",
      "308:\tlearn: 0.2099709\ttotal: 668ms\tremaining: 1.5s\n",
      "309:\tlearn: 0.2092102\ttotal: 674ms\tremaining: 1.51s\n",
      "310:\tlearn: 0.2084666\ttotal: 675ms\tremaining: 1.5s\n",
      "311:\tlearn: 0.2079254\ttotal: 676ms\tremaining: 1.5s\n",
      "312:\tlearn: 0.2067293\ttotal: 677ms\tremaining: 1.49s\n",
      "313:\tlearn: 0.2060296\ttotal: 678ms\tremaining: 1.49s\n",
      "314:\tlearn: 0.2051513\ttotal: 678ms\tremaining: 1.48s\n",
      "315:\tlearn: 0.2048713\ttotal: 679ms\tremaining: 1.48s\n",
      "316:\tlearn: 0.2039153\ttotal: 681ms\tremaining: 1.48s\n",
      "317:\tlearn: 0.2030216\ttotal: 682ms\tremaining: 1.47s\n",
      "318:\tlearn: 0.2019030\ttotal: 682ms\tremaining: 1.47s\n",
      "319:\tlearn: 0.2011479\ttotal: 683ms\tremaining: 1.46s\n",
      "320:\tlearn: 0.2002016\ttotal: 686ms\tremaining: 1.46s\n",
      "321:\tlearn: 0.1991325\ttotal: 689ms\tremaining: 1.46s\n",
      "322:\tlearn: 0.1988663\ttotal: 689ms\tremaining: 1.45s\n",
      "323:\tlearn: 0.1982120\ttotal: 693ms\tremaining: 1.45s\n",
      "324:\tlearn: 0.1972851\ttotal: 694ms\tremaining: 1.45s\n",
      "325:\tlearn: 0.1962098\ttotal: 694ms\tremaining: 1.44s\n",
      "326:\tlearn: 0.1952760\ttotal: 695ms\tremaining: 1.44s\n",
      "327:\tlearn: 0.1950197\ttotal: 696ms\tremaining: 1.43s\n",
      "328:\tlearn: 0.1941278\ttotal: 696ms\tremaining: 1.43s\n",
      "329:\tlearn: 0.1934366\ttotal: 697ms\tremaining: 1.42s\n",
      "330:\tlearn: 0.1924180\ttotal: 698ms\tremaining: 1.42s\n",
      "331:\tlearn: 0.1916908\ttotal: 699ms\tremaining: 1.42s\n",
      "332:\tlearn: 0.1909732\ttotal: 702ms\tremaining: 1.41s\n",
      "333:\tlearn: 0.1900357\ttotal: 704ms\tremaining: 1.41s\n",
      "334:\tlearn: 0.1892140\ttotal: 705ms\tremaining: 1.41s\n",
      "335:\tlearn: 0.1882955\ttotal: 706ms\tremaining: 1.4s\n",
      "336:\tlearn: 0.1874006\ttotal: 706ms\tremaining: 1.4s\n",
      "337:\tlearn: 0.1867955\ttotal: 707ms\tremaining: 1.39s\n",
      "338:\tlearn: 0.1861785\ttotal: 722ms\tremaining: 1.42s\n",
      "339:\tlearn: 0.1855730\ttotal: 728ms\tremaining: 1.42s\n",
      "340:\tlearn: 0.1848654\ttotal: 731ms\tremaining: 1.42s\n",
      "341:\tlearn: 0.1839840\ttotal: 732ms\tremaining: 1.42s\n"
     ]
    },
    {
     "name": "stdout",
     "output_type": "stream",
     "text": [
      "342:\tlearn: 0.1832781\ttotal: 732ms\tremaining: 1.41s\n",
      "343:\tlearn: 0.1825919\ttotal: 733ms\tremaining: 1.41s\n",
      "344:\tlearn: 0.1820251\ttotal: 736ms\tremaining: 1.41s\n",
      "345:\tlearn: 0.1815461\ttotal: 736ms\tremaining: 1.4s\n",
      "346:\tlearn: 0.1809997\ttotal: 737ms\tremaining: 1.39s\n",
      "347:\tlearn: 0.1807788\ttotal: 737ms\tremaining: 1.39s\n",
      "348:\tlearn: 0.1802266\ttotal: 738ms\tremaining: 1.38s\n",
      "349:\tlearn: 0.1795055\ttotal: 739ms\tremaining: 1.38s\n",
      "350:\tlearn: 0.1789345\ttotal: 740ms\tremaining: 1.38s\n",
      "351:\tlearn: 0.1783381\ttotal: 741ms\tremaining: 1.37s\n",
      "352:\tlearn: 0.1775682\ttotal: 741ms\tremaining: 1.37s\n",
      "353:\tlearn: 0.1766678\ttotal: 742ms\tremaining: 1.36s\n",
      "354:\tlearn: 0.1761421\ttotal: 744ms\tremaining: 1.36s\n",
      "355:\tlearn: 0.1752612\ttotal: 745ms\tremaining: 1.35s\n",
      "356:\tlearn: 0.1747467\ttotal: 745ms\tremaining: 1.35s\n",
      "357:\tlearn: 0.1737692\ttotal: 746ms\tremaining: 1.34s\n",
      "358:\tlearn: 0.1731061\ttotal: 748ms\tremaining: 1.34s\n",
      "359:\tlearn: 0.1724617\ttotal: 749ms\tremaining: 1.34s\n",
      "360:\tlearn: 0.1719636\ttotal: 749ms\tremaining: 1.33s\n",
      "361:\tlearn: 0.1711327\ttotal: 750ms\tremaining: 1.33s\n",
      "362:\tlearn: 0.1705619\ttotal: 752ms\tremaining: 1.33s\n",
      "363:\tlearn: 0.1700740\ttotal: 753ms\tremaining: 1.32s\n",
      "364:\tlearn: 0.1694545\ttotal: 753ms\tremaining: 1.32s\n",
      "365:\tlearn: 0.1689804\ttotal: 755ms\tremaining: 1.31s\n",
      "366:\tlearn: 0.1685149\ttotal: 755ms\tremaining: 1.31s\n",
      "367:\tlearn: 0.1676932\ttotal: 756ms\tremaining: 1.3s\n",
      "368:\tlearn: 0.1670839\ttotal: 760ms\tremaining: 1.31s\n",
      "369:\tlearn: 0.1664432\ttotal: 761ms\tremaining: 1.3s\n",
      "370:\tlearn: 0.1656539\ttotal: 762ms\tremaining: 1.3s\n",
      "371:\tlearn: 0.1651772\ttotal: 763ms\tremaining: 1.29s\n",
      "372:\tlearn: 0.1647261\ttotal: 828ms\tremaining: 1.4s\n",
      "373:\tlearn: 0.1639548\ttotal: 829ms\tremaining: 1.39s\n",
      "374:\tlearn: 0.1633802\ttotal: 830ms\tremaining: 1.39s\n",
      "375:\tlearn: 0.1628715\ttotal: 830ms\tremaining: 1.39s\n",
      "376:\tlearn: 0.1622175\ttotal: 831ms\tremaining: 1.38s\n",
      "377:\tlearn: 0.1613115\ttotal: 832ms\tremaining: 1.38s\n",
      "378:\tlearn: 0.1608598\ttotal: 834ms\tremaining: 1.37s\n",
      "379:\tlearn: 0.1604264\ttotal: 834ms\tremaining: 1.37s\n",
      "380:\tlearn: 0.1598446\ttotal: 839ms\tremaining: 1.37s\n",
      "381:\tlearn: 0.1592430\ttotal: 841ms\tremaining: 1.37s\n",
      "382:\tlearn: 0.1588137\ttotal: 844ms\tremaining: 1.37s\n",
      "383:\tlearn: 0.1583898\ttotal: 845ms\tremaining: 1.36s\n",
      "384:\tlearn: 0.1579749\ttotal: 847ms\tremaining: 1.36s\n",
      "385:\tlearn: 0.1572426\ttotal: 848ms\tremaining: 1.35s\n",
      "386:\tlearn: 0.1568265\ttotal: 848ms\tremaining: 1.35s\n",
      "387:\tlearn: 0.1560813\ttotal: 849ms\tremaining: 1.34s\n",
      "388:\tlearn: 0.1554740\ttotal: 849ms\tremaining: 1.34s\n",
      "389:\tlearn: 0.1550694\ttotal: 850ms\tremaining: 1.34s\n",
      "390:\tlearn: 0.1546153\ttotal: 851ms\tremaining: 1.33s\n",
      "391:\tlearn: 0.1537569\ttotal: 851ms\tremaining: 1.33s\n",
      "392:\tlearn: 0.1532083\ttotal: 851ms\tremaining: 1.32s\n",
      "393:\tlearn: 0.1526640\ttotal: 852ms\tremaining: 1.32s\n",
      "394:\tlearn: 0.1521781\ttotal: 852ms\tremaining: 1.31s\n",
      "395:\tlearn: 0.1517378\ttotal: 853ms\tremaining: 1.31s\n",
      "396:\tlearn: 0.1512646\ttotal: 853ms\tremaining: 1.3s\n",
      "397:\tlearn: 0.1506994\ttotal: 854ms\tremaining: 1.3s\n"
     ]
    },
    {
     "name": "stdout",
     "output_type": "stream",
     "text": [
      "398:\tlearn: 0.1500611\ttotal: 859ms\tremaining: 1.3s\n",
      "399:\tlearn: 0.1492430\ttotal: 862ms\tremaining: 1.3s\n",
      "400:\tlearn: 0.1486968\ttotal: 864ms\tremaining: 1.3s\n",
      "401:\tlearn: 0.1482747\ttotal: 865ms\tremaining: 1.29s\n",
      "402:\tlearn: 0.1474476\ttotal: 865ms\tremaining: 1.29s\n",
      "403:\tlearn: 0.1470595\ttotal: 865ms\tremaining: 1.28s\n",
      "404:\tlearn: 0.1462796\ttotal: 866ms\tremaining: 1.28s\n",
      "405:\tlearn: 0.1459021\ttotal: 866ms\tremaining: 1.27s\n",
      "406:\tlearn: 0.1451080\ttotal: 881ms\tremaining: 1.29s\n",
      "407:\tlearn: 0.1446923\ttotal: 882ms\tremaining: 1.29s\n",
      "408:\tlearn: 0.1442742\ttotal: 883ms\tremaining: 1.28s\n",
      "409:\tlearn: 0.1439097\ttotal: 884ms\tremaining: 1.28s\n",
      "410:\tlearn: 0.1435520\ttotal: 884ms\tremaining: 1.27s\n",
      "411:\tlearn: 0.1431534\ttotal: 886ms\tremaining: 1.27s\n",
      "412:\tlearn: 0.1428035\ttotal: 887ms\tremaining: 1.27s\n",
      "413:\tlearn: 0.1424414\ttotal: 888ms\tremaining: 1.26s\n",
      "414:\tlearn: 0.1420982\ttotal: 888ms\tremaining: 1.26s\n",
      "415:\tlearn: 0.1417613\ttotal: 889ms\tremaining: 1.25s\n",
      "416:\tlearn: 0.1414696\ttotal: 890ms\tremaining: 1.25s\n",
      "417:\tlearn: 0.1411192\ttotal: 890ms\tremaining: 1.25s\n",
      "418:\tlearn: 0.1407856\ttotal: 890ms\tremaining: 1.24s\n",
      "419:\tlearn: 0.1400468\ttotal: 891ms\tremaining: 1.24s\n",
      "420:\tlearn: 0.1397401\ttotal: 891ms\tremaining: 1.23s\n",
      "421:\tlearn: 0.1394400\ttotal: 892ms\tremaining: 1.23s\n",
      "422:\tlearn: 0.1387159\ttotal: 893ms\tremaining: 1.22s\n",
      "423:\tlearn: 0.1384209\ttotal: 909ms\tremaining: 1.24s\n",
      "424:\tlearn: 0.1378530\ttotal: 916ms\tremaining: 1.25s\n",
      "425:\tlearn: 0.1375432\ttotal: 917ms\tremaining: 1.24s\n",
      "426:\tlearn: 0.1368152\ttotal: 917ms\tremaining: 1.24s\n",
      "427:\tlearn: 0.1365133\ttotal: 918ms\tremaining: 1.23s\n",
      "428:\tlearn: 0.1361261\ttotal: 918ms\tremaining: 1.23s\n",
      "429:\tlearn: 0.1355394\ttotal: 919ms\tremaining: 1.22s\n",
      "430:\tlearn: 0.1352065\ttotal: 921ms\tremaining: 1.22s\n",
      "431:\tlearn: 0.1348845\ttotal: 928ms\tremaining: 1.23s\n",
      "432:\tlearn: 0.1345675\ttotal: 929ms\tremaining: 1.22s\n",
      "433:\tlearn: 0.1342755\ttotal: 930ms\tremaining: 1.22s\n",
      "434:\tlearn: 0.1339537\ttotal: 931ms\tremaining: 1.22s\n",
      "435:\tlearn: 0.1336437\ttotal: 932ms\tremaining: 1.21s\n",
      "436:\tlearn: 0.1333330\ttotal: 932ms\tremaining: 1.21s\n",
      "437:\tlearn: 0.1330216\ttotal: 933ms\tremaining: 1.2s\n",
      "438:\tlearn: 0.1327182\ttotal: 934ms\tremaining: 1.2s\n",
      "439:\tlearn: 0.1324164\ttotal: 935ms\tremaining: 1.2s\n",
      "440:\tlearn: 0.1321653\ttotal: 936ms\tremaining: 1.19s\n",
      "441:\tlearn: 0.1314820\ttotal: 936ms\tremaining: 1.19s\n",
      "442:\tlearn: 0.1311866\ttotal: 937ms\tremaining: 1.18s\n",
      "443:\tlearn: 0.1309400\ttotal: 937ms\tremaining: 1.18s\n",
      "444:\tlearn: 0.1303629\ttotal: 937ms\tremaining: 1.17s\n",
      "445:\tlearn: 0.1298646\ttotal: 938ms\tremaining: 1.17s\n",
      "446:\tlearn: 0.1293549\ttotal: 938ms\tremaining: 1.17s\n",
      "447:\tlearn: 0.1289545\ttotal: 939ms\tremaining: 1.16s\n",
      "448:\tlearn: 0.1285980\ttotal: 940ms\tremaining: 1.16s\n",
      "449:\tlearn: 0.1282080\ttotal: 940ms\tremaining: 1.15s\n"
     ]
    },
    {
     "name": "stdout",
     "output_type": "stream",
     "text": [
      "450:\tlearn: 0.1279250\ttotal: 960ms\tremaining: 1.17s\n",
      "451:\tlearn: 0.1276918\ttotal: 967ms\tremaining: 1.18s\n",
      "452:\tlearn: 0.1272056\ttotal: 967ms\tremaining: 1.17s\n",
      "453:\tlearn: 0.1267342\ttotal: 968ms\tremaining: 1.17s\n",
      "454:\tlearn: 0.1263594\ttotal: 968ms\tremaining: 1.16s\n",
      "455:\tlearn: 0.1260243\ttotal: 969ms\tremaining: 1.16s\n",
      "456:\tlearn: 0.1255752\ttotal: 969ms\tremaining: 1.16s\n",
      "457:\tlearn: 0.1253026\ttotal: 970ms\tremaining: 1.15s\n",
      "458:\tlearn: 0.1251346\ttotal: 970ms\tremaining: 1.15s\n",
      "459:\tlearn: 0.1249020\ttotal: 970ms\tremaining: 1.14s\n",
      "460:\tlearn: 0.1244703\ttotal: 981ms\tremaining: 1.15s\n",
      "461:\tlearn: 0.1242058\ttotal: 982ms\tremaining: 1.15s\n",
      "462:\tlearn: 0.1239448\ttotal: 982ms\tremaining: 1.14s\n",
      "463:\tlearn: 0.1237567\ttotal: 983ms\tremaining: 1.14s\n",
      "464:\tlearn: 0.1235231\ttotal: 984ms\tremaining: 1.14s\n",
      "465:\tlearn: 0.1232713\ttotal: 984ms\tremaining: 1.13s\n",
      "466:\tlearn: 0.1230131\ttotal: 985ms\tremaining: 1.13s\n",
      "467:\tlearn: 0.1228299\ttotal: 985ms\tremaining: 1.12s\n",
      "468:\tlearn: 0.1226296\ttotal: 986ms\tremaining: 1.12s\n",
      "469:\tlearn: 0.1223764\ttotal: 986ms\tremaining: 1.12s\n",
      "470:\tlearn: 0.1221975\ttotal: 989ms\tremaining: 1.11s\n",
      "471:\tlearn: 0.1217860\ttotal: 990ms\tremaining: 1.11s\n",
      "472:\tlearn: 0.1215921\ttotal: 990ms\tremaining: 1.11s\n",
      "473:\tlearn: 0.1213936\ttotal: 993ms\tremaining: 1.11s\n",
      "474:\tlearn: 0.1212198\ttotal: 993ms\tremaining: 1.1s\n",
      "475:\tlearn: 0.1210260\ttotal: 999ms\tremaining: 1.1s\n",
      "476:\tlearn: 0.1205968\ttotal: 1s\tremaining: 1.1s\n",
      "477:\tlearn: 0.1204116\ttotal: 1s\tremaining: 1.1s\n",
      "478:\tlearn: 0.1199673\ttotal: 1s\tremaining: 1.09s\n",
      "479:\tlearn: 0.1195551\ttotal: 1s\tremaining: 1.09s\n",
      "480:\tlearn: 0.1193854\ttotal: 1s\tremaining: 1.09s\n",
      "481:\tlearn: 0.1187594\ttotal: 1s\tremaining: 1.08s\n",
      "482:\tlearn: 0.1185923\ttotal: 1s\tremaining: 1.08s\n",
      "483:\tlearn: 0.1184282\ttotal: 1s\tremaining: 1.08s\n",
      "484:\tlearn: 0.1182672\ttotal: 1.01s\tremaining: 1.07s\n"
     ]
    },
    {
     "name": "stdout",
     "output_type": "stream",
     "text": [
      "485:\tlearn: 0.1176394\ttotal: 1.01s\tremaining: 1.07s\n",
      "486:\tlearn: 0.1172989\ttotal: 1.02s\tremaining: 1.08s\n",
      "487:\tlearn: 0.1167079\ttotal: 1.02s\tremaining: 1.07s\n",
      "488:\tlearn: 0.1162824\ttotal: 1.02s\tremaining: 1.07s\n",
      "489:\tlearn: 0.1156550\ttotal: 1.02s\tremaining: 1.07s\n",
      "490:\tlearn: 0.1153911\ttotal: 1.02s\tremaining: 1.06s\n",
      "491:\tlearn: 0.1152209\ttotal: 1.02s\tremaining: 1.06s\n",
      "492:\tlearn: 0.1149939\ttotal: 1.02s\tremaining: 1.06s\n",
      "493:\tlearn: 0.1145872\ttotal: 1.02s\tremaining: 1.05s\n",
      "494:\tlearn: 0.1141905\ttotal: 1.02s\tremaining: 1.05s\n",
      "495:\tlearn: 0.1138060\ttotal: 1.02s\tremaining: 1.04s\n",
      "496:\tlearn: 0.1134899\ttotal: 1.02s\tremaining: 1.04s\n",
      "497:\tlearn: 0.1128841\ttotal: 1.03s\tremaining: 1.04s\n",
      "498:\tlearn: 0.1125118\ttotal: 1.03s\tremaining: 1.03s\n",
      "499:\tlearn: 0.1123562\ttotal: 1.03s\tremaining: 1.03s\n",
      "500:\tlearn: 0.1122046\ttotal: 1.03s\tremaining: 1.03s\n",
      "501:\tlearn: 0.1120296\ttotal: 1.03s\tremaining: 1.03s\n",
      "502:\tlearn: 0.1119407\ttotal: 1.03s\tremaining: 1.02s\n",
      "503:\tlearn: 0.1117887\ttotal: 1.03s\tremaining: 1.02s\n",
      "504:\tlearn: 0.1111995\ttotal: 1.03s\tremaining: 1.02s\n",
      "505:\tlearn: 0.1110512\ttotal: 1.04s\tremaining: 1.01s\n",
      "506:\tlearn: 0.1109158\ttotal: 1.04s\tremaining: 1.01s\n",
      "507:\tlearn: 0.1106675\ttotal: 1.04s\tremaining: 1.01s\n",
      "508:\tlearn: 0.1104655\ttotal: 1.04s\tremaining: 1s\n",
      "509:\tlearn: 0.1101966\ttotal: 1.04s\tremaining: 1s\n",
      "510:\tlearn: 0.1099604\ttotal: 1.04s\tremaining: 1s\n",
      "511:\tlearn: 0.1097990\ttotal: 1.04s\tremaining: 1s\n",
      "512:\tlearn: 0.1097273\ttotal: 1.04s\tremaining: 997ms\n",
      "513:\tlearn: 0.1096438\ttotal: 1.05s\tremaining: 993ms\n",
      "514:\tlearn: 0.1094233\ttotal: 1.05s\tremaining: 990ms\n",
      "515:\tlearn: 0.1093543\ttotal: 1.05s\tremaining: 992ms\n",
      "516:\tlearn: 0.1088436\ttotal: 1.05s\tremaining: 989ms\n",
      "517:\tlearn: 0.1087628\ttotal: 1.05s\tremaining: 985ms\n",
      "518:\tlearn: 0.1086845\ttotal: 1.05s\tremaining: 982ms\n",
      "519:\tlearn: 0.1086188\ttotal: 1.05s\tremaining: 978ms\n",
      "520:\tlearn: 0.1081211\ttotal: 1.06s\tremaining: 975ms\n",
      "521:\tlearn: 0.1080456\ttotal: 1.06s\tremaining: 971ms\n",
      "522:\tlearn: 0.1079823\ttotal: 1.06s\tremaining: 969ms\n",
      "523:\tlearn: 0.1078086\ttotal: 1.06s\tremaining: 966ms\n",
      "524:\tlearn: 0.1075516\ttotal: 1.06s\tremaining: 962ms\n",
      "525:\tlearn: 0.1074789\ttotal: 1.06s\tremaining: 959ms\n",
      "526:\tlearn: 0.1072279\ttotal: 1.06s\tremaining: 955ms\n",
      "527:\tlearn: 0.1071726\ttotal: 1.06s\tremaining: 952ms\n",
      "528:\tlearn: 0.1069276\ttotal: 1.06s\tremaining: 949ms\n",
      "529:\tlearn: 0.1068731\ttotal: 1.06s\tremaining: 946ms\n",
      "530:\tlearn: 0.1066338\ttotal: 1.06s\tremaining: 942ms\n",
      "531:\tlearn: 0.1065643\ttotal: 1.06s\tremaining: 939ms\n",
      "532:\tlearn: 0.1063760\ttotal: 1.06s\tremaining: 935ms\n",
      "533:\tlearn: 0.1063230\ttotal: 1.06s\tremaining: 932ms\n",
      "534:\tlearn: 0.1062548\ttotal: 1.06s\tremaining: 929ms\n",
      "535:\tlearn: 0.1061890\ttotal: 1.06s\tremaining: 925ms\n",
      "536:\tlearn: 0.1060049\ttotal: 1.06s\tremaining: 922ms\n",
      "537:\tlearn: 0.1059257\ttotal: 1.06s\tremaining: 919ms\n",
      "538:\tlearn: 0.1057455\ttotal: 1.07s\tremaining: 916ms\n",
      "539:\tlearn: 0.1056682\ttotal: 1.07s\tremaining: 912ms\n",
      "540:\tlearn: 0.1056039\ttotal: 1.07s\tremaining: 909ms\n",
      "541:\tlearn: 0.1055286\ttotal: 1.07s\tremaining: 906ms\n",
      "542:\tlearn: 0.1053526\ttotal: 1.07s\tremaining: 902ms\n",
      "543:\tlearn: 0.1049008\ttotal: 1.07s\tremaining: 899ms\n",
      "544:\tlearn: 0.1048278\ttotal: 1.07s\tremaining: 896ms\n",
      "545:\tlearn: 0.1047781\ttotal: 1.07s\tremaining: 895ms\n",
      "546:\tlearn: 0.1046255\ttotal: 1.07s\tremaining: 893ms\n",
      "547:\tlearn: 0.1045705\ttotal: 1.07s\tremaining: 890ms\n",
      "548:\tlearn: 0.1041293\ttotal: 1.07s\tremaining: 887ms\n",
      "549:\tlearn: 0.1039784\ttotal: 1.08s\tremaining: 884ms\n",
      "550:\tlearn: 0.1039384\ttotal: 1.08s\tremaining: 881ms\n",
      "551:\tlearn: 0.1038644\ttotal: 1.08s\tremaining: 878ms\n",
      "552:\tlearn: 0.1037160\ttotal: 1.08s\tremaining: 874ms\n",
      "553:\tlearn: 0.1036773\ttotal: 1.08s\tremaining: 871ms\n"
     ]
    },
    {
     "name": "stdout",
     "output_type": "stream",
     "text": [
      "554:\tlearn: 0.1032448\ttotal: 1.17s\tremaining: 944ms\n",
      "555:\tlearn: 0.1030431\ttotal: 1.17s\tremaining: 942ms\n",
      "556:\tlearn: 0.1028489\ttotal: 1.18s\tremaining: 938ms\n",
      "557:\tlearn: 0.1025949\ttotal: 1.18s\tremaining: 935ms\n",
      "558:\tlearn: 0.1023461\ttotal: 1.18s\tremaining: 932ms\n",
      "559:\tlearn: 0.1021149\ttotal: 1.18s\tremaining: 929ms\n",
      "560:\tlearn: 0.1019313\ttotal: 1.18s\tremaining: 926ms\n",
      "561:\tlearn: 0.1017505\ttotal: 1.18s\tremaining: 922ms\n",
      "562:\tlearn: 0.1016235\ttotal: 1.18s\tremaining: 919ms\n",
      "563:\tlearn: 0.1011717\ttotal: 1.18s\tremaining: 916ms\n",
      "564:\tlearn: 0.1010483\ttotal: 1.18s\tremaining: 912ms\n",
      "565:\tlearn: 0.1006099\ttotal: 1.18s\tremaining: 909ms\n",
      "566:\tlearn: 0.1005737\ttotal: 1.18s\tremaining: 906ms\n",
      "567:\tlearn: 0.1005380\ttotal: 1.18s\tremaining: 902ms\n",
      "568:\tlearn: 0.1000894\ttotal: 1.18s\tremaining: 900ms\n",
      "569:\tlearn: 0.0999070\ttotal: 1.18s\tremaining: 897ms\n",
      "570:\tlearn: 0.0996223\ttotal: 1.19s\tremaining: 894ms\n",
      "571:\tlearn: 0.0994453\ttotal: 1.19s\tremaining: 891ms\n",
      "572:\tlearn: 0.0992647\ttotal: 1.19s\tremaining: 888ms\n",
      "573:\tlearn: 0.0992214\ttotal: 1.19s\tremaining: 885ms\n",
      "574:\tlearn: 0.0990441\ttotal: 1.19s\tremaining: 882ms\n",
      "575:\tlearn: 0.0989022\ttotal: 1.19s\tremaining: 880ms\n",
      "576:\tlearn: 0.0984682\ttotal: 1.19s\tremaining: 876ms\n",
      "577:\tlearn: 0.0982954\ttotal: 1.19s\tremaining: 875ms\n",
      "578:\tlearn: 0.0981555\ttotal: 1.19s\tremaining: 872ms\n",
      "579:\tlearn: 0.0979856\ttotal: 1.2s\tremaining: 869ms\n",
      "580:\tlearn: 0.0976378\ttotal: 1.2s\tremaining: 865ms\n",
      "581:\tlearn: 0.0974711\ttotal: 1.2s\tremaining: 863ms\n",
      "582:\tlearn: 0.0971749\ttotal: 1.2s\tremaining: 860ms\n",
      "583:\tlearn: 0.0967772\ttotal: 1.2s\tremaining: 858ms\n",
      "584:\tlearn: 0.0964893\ttotal: 1.2s\tremaining: 855ms\n",
      "585:\tlearn: 0.0963505\ttotal: 1.2s\tremaining: 852ms\n"
     ]
    },
    {
     "name": "stdout",
     "output_type": "stream",
     "text": [
      "586:\tlearn: 0.0959602\ttotal: 1.2s\tremaining: 849ms\n",
      "587:\tlearn: 0.0958230\ttotal: 1.2s\tremaining: 846ms\n",
      "588:\tlearn: 0.0955801\ttotal: 1.2s\tremaining: 843ms\n",
      "589:\tlearn: 0.0954452\ttotal: 1.2s\tremaining: 839ms\n",
      "590:\tlearn: 0.0953814\ttotal: 1.2s\tremaining: 836ms\n",
      "591:\tlearn: 0.0951099\ttotal: 1.2s\tremaining: 833ms\n",
      "592:\tlearn: 0.0950647\ttotal: 1.21s\tremaining: 831ms\n",
      "593:\tlearn: 0.0949314\ttotal: 1.21s\tremaining: 829ms\n",
      "594:\tlearn: 0.0948703\ttotal: 1.21s\tremaining: 826ms\n",
      "595:\tlearn: 0.0948383\ttotal: 1.21s\tremaining: 824ms\n",
      "596:\tlearn: 0.0947071\ttotal: 1.21s\tremaining: 821ms\n",
      "597:\tlearn: 0.0943290\ttotal: 1.21s\tremaining: 818ms\n",
      "598:\tlearn: 0.0942975\ttotal: 1.21s\tremaining: 815ms\n",
      "599:\tlearn: 0.0941680\ttotal: 1.22s\tremaining: 813ms\n",
      "600:\tlearn: 0.0939043\ttotal: 1.22s\tremaining: 811ms\n",
      "601:\tlearn: 0.0938612\ttotal: 1.22s\tremaining: 808ms\n",
      "602:\tlearn: 0.0938187\ttotal: 1.22s\tremaining: 808ms\n",
      "603:\tlearn: 0.0934083\ttotal: 1.22s\tremaining: 805ms\n",
      "604:\tlearn: 0.0933513\ttotal: 1.22s\tremaining: 802ms\n",
      "605:\tlearn: 0.0932848\ttotal: 1.23s\tremaining: 801ms\n",
      "606:\tlearn: 0.0931570\ttotal: 1.23s\tremaining: 798ms\n",
      "607:\tlearn: 0.0929891\ttotal: 1.23s\tremaining: 795ms\n",
      "608:\tlearn: 0.0927505\ttotal: 1.23s\tremaining: 792ms\n",
      "609:\tlearn: 0.0925181\ttotal: 1.23s\tremaining: 789ms\n",
      "610:\tlearn: 0.0924111\ttotal: 1.23s\tremaining: 786ms\n",
      "611:\tlearn: 0.0923120\ttotal: 1.23s\tremaining: 784ms\n",
      "612:\tlearn: 0.0920859\ttotal: 1.23s\tremaining: 781ms\n",
      "613:\tlearn: 0.0919905\ttotal: 1.23s\tremaining: 778ms\n",
      "614:\tlearn: 0.0918635\ttotal: 1.23s\tremaining: 775ms\n",
      "615:\tlearn: 0.0917589\ttotal: 1.23s\tremaining: 772ms\n",
      "616:\tlearn: 0.0916341\ttotal: 1.24s\tremaining: 770ms\n",
      "617:\tlearn: 0.0915113\ttotal: 1.24s\tremaining: 768ms\n",
      "618:\tlearn: 0.0911552\ttotal: 1.24s\tremaining: 765ms\n",
      "619:\tlearn: 0.0908074\ttotal: 1.24s\tremaining: 762ms\n",
      "620:\tlearn: 0.0905297\ttotal: 1.24s\tremaining: 760ms\n",
      "621:\tlearn: 0.0904380\ttotal: 1.24s\tremaining: 757ms\n",
      "622:\tlearn: 0.0903402\ttotal: 1.24s\tremaining: 754ms\n",
      "623:\tlearn: 0.0901848\ttotal: 1.25s\tremaining: 753ms\n",
      "624:\tlearn: 0.0900888\ttotal: 1.25s\tremaining: 751ms\n",
      "625:\tlearn: 0.0897601\ttotal: 1.25s\tremaining: 748ms\n",
      "626:\tlearn: 0.0896077\ttotal: 1.25s\tremaining: 745ms\n",
      "627:\tlearn: 0.0895142\ttotal: 1.25s\tremaining: 742ms\n",
      "628:\tlearn: 0.0891896\ttotal: 1.25s\tremaining: 740ms\n",
      "629:\tlearn: 0.0890405\ttotal: 1.25s\tremaining: 737ms\n",
      "630:\tlearn: 0.0888945\ttotal: 1.25s\tremaining: 734ms\n",
      "631:\tlearn: 0.0888578\ttotal: 1.25s\tremaining: 732ms\n",
      "632:\tlearn: 0.0885365\ttotal: 1.25s\tremaining: 729ms\n",
      "633:\tlearn: 0.0883934\ttotal: 1.25s\tremaining: 726ms\n",
      "634:\tlearn: 0.0883006\ttotal: 1.25s\tremaining: 723ms\n",
      "635:\tlearn: 0.0882646\ttotal: 1.25s\tremaining: 721ms\n",
      "636:\tlearn: 0.0882292\ttotal: 1.26s\tremaining: 718ms\n",
      "637:\tlearn: 0.0879179\ttotal: 1.26s\tremaining: 716ms\n",
      "638:\tlearn: 0.0877504\ttotal: 1.26s\tremaining: 713ms\n",
      "639:\tlearn: 0.0873907\ttotal: 1.26s\tremaining: 711ms\n",
      "640:\tlearn: 0.0870331\ttotal: 1.26s\tremaining: 708ms\n",
      "641:\tlearn: 0.0866826\ttotal: 1.26s\tremaining: 705ms\n",
      "642:\tlearn: 0.0863389\ttotal: 1.26s\tremaining: 704ms\n",
      "643:\tlearn: 0.0859963\ttotal: 1.26s\tremaining: 701ms\n",
      "644:\tlearn: 0.0856615\ttotal: 1.26s\tremaining: 699ms\n",
      "645:\tlearn: 0.0853333\ttotal: 1.26s\tremaining: 696ms\n",
      "646:\tlearn: 0.0850205\ttotal: 1.27s\tremaining: 693ms\n",
      "647:\tlearn: 0.0846999\ttotal: 1.27s\tremaining: 691ms\n",
      "648:\tlearn: 0.0843856\ttotal: 1.27s\tremaining: 688ms\n",
      "649:\tlearn: 0.0840821\ttotal: 1.27s\tremaining: 686ms\n",
      "650:\tlearn: 0.0837722\ttotal: 1.27s\tremaining: 683ms\n",
      "651:\tlearn: 0.0833728\ttotal: 1.27s\tremaining: 681ms\n",
      "652:\tlearn: 0.0830577\ttotal: 1.27s\tremaining: 678ms\n",
      "653:\tlearn: 0.0828869\ttotal: 1.27s\tremaining: 676ms\n",
      "654:\tlearn: 0.0827188\ttotal: 1.27s\tremaining: 673ms\n",
      "655:\tlearn: 0.0825533\ttotal: 1.27s\tremaining: 671ms\n",
      "656:\tlearn: 0.0821379\ttotal: 1.27s\tremaining: 668ms\n",
      "657:\tlearn: 0.0819760\ttotal: 1.28s\tremaining: 665ms\n",
      "658:\tlearn: 0.0815707\ttotal: 1.28s\tremaining: 663ms\n",
      "659:\tlearn: 0.0811446\ttotal: 1.28s\tremaining: 661ms\n",
      "660:\tlearn: 0.0807281\ttotal: 1.28s\tremaining: 659ms\n",
      "661:\tlearn: 0.0803209\ttotal: 1.28s\tremaining: 656ms\n",
      "662:\tlearn: 0.0799228\ttotal: 1.28s\tremaining: 653ms\n",
      "663:\tlearn: 0.0797410\ttotal: 1.28s\tremaining: 651ms\n",
      "664:\tlearn: 0.0793517\ttotal: 1.28s\tremaining: 648ms\n",
      "665:\tlearn: 0.0789712\ttotal: 1.28s\tremaining: 646ms\n",
      "666:\tlearn: 0.0787167\ttotal: 1.28s\tremaining: 643ms\n",
      "667:\tlearn: 0.0785110\ttotal: 1.28s\tremaining: 640ms\n",
      "668:\tlearn: 0.0782604\ttotal: 1.28s\tremaining: 638ms\n",
      "669:\tlearn: 0.0780109\ttotal: 1.28s\tremaining: 635ms\n",
      "670:\tlearn: 0.0778113\ttotal: 1.29s\tremaining: 633ms\n",
      "671:\tlearn: 0.0774315\ttotal: 1.29s\tremaining: 630ms\n",
      "672:\tlearn: 0.0770476\ttotal: 1.3s\tremaining: 632ms\n",
      "673:\tlearn: 0.0766952\ttotal: 1.3s\tremaining: 629ms\n",
      "674:\tlearn: 0.0763676\ttotal: 1.3s\tremaining: 627ms\n",
      "675:\tlearn: 0.0760624\ttotal: 1.3s\tremaining: 624ms\n",
      "676:\tlearn: 0.0757040\ttotal: 1.3s\tremaining: 622ms\n",
      "677:\tlearn: 0.0755319\ttotal: 1.3s\tremaining: 621ms\n"
     ]
    },
    {
     "name": "stdout",
     "output_type": "stream",
     "text": [
      "678:\tlearn: 0.0753643\ttotal: 1.31s\tremaining: 624ms\n",
      "679:\tlearn: 0.0751744\ttotal: 1.32s\tremaining: 621ms\n",
      "680:\tlearn: 0.0750110\ttotal: 1.32s\tremaining: 621ms\n",
      "681:\tlearn: 0.0746856\ttotal: 1.32s\tremaining: 618ms\n",
      "682:\tlearn: 0.0744758\ttotal: 1.32s\tremaining: 615ms\n",
      "683:\tlearn: 0.0744474\ttotal: 1.32s\tremaining: 613ms\n",
      "684:\tlearn: 0.0743445\ttotal: 1.32s\tremaining: 611ms\n",
      "685:\tlearn: 0.0742181\ttotal: 1.32s\tremaining: 608ms\n",
      "686:\tlearn: 0.0739025\ttotal: 1.32s\tremaining: 605ms\n",
      "687:\tlearn: 0.0738024\ttotal: 1.32s\tremaining: 603ms\n",
      "688:\tlearn: 0.0737040\ttotal: 1.33s\tremaining: 601ms\n",
      "689:\tlearn: 0.0733963\ttotal: 1.33s\tremaining: 598ms\n",
      "690:\tlearn: 0.0732740\ttotal: 1.33s\tremaining: 596ms\n",
      "691:\tlearn: 0.0730721\ttotal: 1.33s\tremaining: 593ms\n",
      "692:\tlearn: 0.0729760\ttotal: 1.33s\tremaining: 591ms\n",
      "693:\tlearn: 0.0728817\ttotal: 1.33s\tremaining: 588ms\n",
      "694:\tlearn: 0.0726144\ttotal: 1.33s\tremaining: 586ms\n",
      "695:\tlearn: 0.0723361\ttotal: 1.33s\tremaining: 583ms\n"
     ]
    },
    {
     "name": "stdout",
     "output_type": "stream",
     "text": [
      "696:\tlearn: 0.0721420\ttotal: 1.33s\tremaining: 581ms\n",
      "697:\tlearn: 0.0720479\ttotal: 1.33s\tremaining: 578ms\n",
      "698:\tlearn: 0.0719303\ttotal: 1.34s\tremaining: 577ms\n",
      "699:\tlearn: 0.0717841\ttotal: 1.34s\tremaining: 574ms\n",
      "700:\tlearn: 0.0716411\ttotal: 1.34s\tremaining: 572ms\n",
      "701:\tlearn: 0.0714573\ttotal: 1.34s\tremaining: 572ms\n",
      "702:\tlearn: 0.0711679\ttotal: 1.35s\tremaining: 570ms\n",
      "703:\tlearn: 0.0710757\ttotal: 1.35s\tremaining: 568ms\n",
      "704:\tlearn: 0.0708191\ttotal: 1.35s\tremaining: 566ms\n",
      "705:\tlearn: 0.0706828\ttotal: 1.35s\tremaining: 564ms\n",
      "706:\tlearn: 0.0704113\ttotal: 1.35s\tremaining: 561ms\n",
      "707:\tlearn: 0.0703197\ttotal: 1.35s\tremaining: 559ms\n",
      "708:\tlearn: 0.0702297\ttotal: 1.35s\tremaining: 556ms\n",
      "709:\tlearn: 0.0701413\ttotal: 1.35s\tremaining: 554ms\n",
      "710:\tlearn: 0.0698774\ttotal: 1.35s\tremaining: 551ms\n",
      "711:\tlearn: 0.0697447\ttotal: 1.35s\tremaining: 549ms\n",
      "712:\tlearn: 0.0696445\ttotal: 1.35s\tremaining: 546ms\n",
      "713:\tlearn: 0.0695152\ttotal: 1.35s\tremaining: 544ms\n",
      "714:\tlearn: 0.0693887\ttotal: 1.35s\tremaining: 542ms\n",
      "715:\tlearn: 0.0693192\ttotal: 1.35s\tremaining: 539ms\n",
      "716:\tlearn: 0.0691961\ttotal: 1.35s\tremaining: 537ms\n",
      "717:\tlearn: 0.0690996\ttotal: 1.36s\tremaining: 534ms\n",
      "718:\tlearn: 0.0689374\ttotal: 1.36s\tremaining: 532ms\n",
      "719:\tlearn: 0.0688194\ttotal: 1.36s\tremaining: 529ms\n",
      "720:\tlearn: 0.0685086\ttotal: 1.36s\tremaining: 527ms\n",
      "721:\tlearn: 0.0682657\ttotal: 1.36s\tremaining: 524ms\n",
      "722:\tlearn: 0.0681769\ttotal: 1.36s\tremaining: 522ms\n",
      "723:\tlearn: 0.0680896\ttotal: 1.36s\tremaining: 519ms\n",
      "724:\tlearn: 0.0678197\ttotal: 1.36s\tremaining: 517ms\n",
      "725:\tlearn: 0.0677334\ttotal: 1.36s\tremaining: 515ms\n",
      "726:\tlearn: 0.0674961\ttotal: 1.36s\tremaining: 513ms\n",
      "727:\tlearn: 0.0672492\ttotal: 1.36s\tremaining: 510ms\n",
      "728:\tlearn: 0.0671352\ttotal: 1.36s\tremaining: 508ms\n",
      "729:\tlearn: 0.0670700\ttotal: 1.36s\tremaining: 505ms\n",
      "730:\tlearn: 0.0668140\ttotal: 1.36s\tremaining: 503ms\n",
      "731:\tlearn: 0.0667272\ttotal: 1.36s\tremaining: 501ms\n",
      "732:\tlearn: 0.0666419\ttotal: 1.36s\tremaining: 499ms\n",
      "733:\tlearn: 0.0665616\ttotal: 1.36s\tremaining: 496ms\n",
      "734:\tlearn: 0.0664531\ttotal: 1.37s\tremaining: 494ms\n",
      "735:\tlearn: 0.0663418\ttotal: 1.37s\tremaining: 492ms\n",
      "736:\tlearn: 0.0661069\ttotal: 1.37s\tremaining: 490ms\n",
      "737:\tlearn: 0.0660431\ttotal: 1.37s\tremaining: 488ms\n",
      "738:\tlearn: 0.0657809\ttotal: 1.37s\tremaining: 485ms\n",
      "739:\tlearn: 0.0656901\ttotal: 1.37s\tremaining: 483ms\n",
      "740:\tlearn: 0.0654655\ttotal: 1.37s\tremaining: 481ms\n",
      "741:\tlearn: 0.0652459\ttotal: 1.37s\tremaining: 479ms\n",
      "742:\tlearn: 0.0649736\ttotal: 1.37s\tremaining: 477ms\n",
      "743:\tlearn: 0.0647292\ttotal: 1.38s\tremaining: 474ms\n",
      "744:\tlearn: 0.0644854\ttotal: 1.38s\tremaining: 472ms\n",
      "745:\tlearn: 0.0643967\ttotal: 1.38s\tremaining: 470ms\n",
      "746:\tlearn: 0.0641886\ttotal: 1.38s\tremaining: 468ms\n",
      "747:\tlearn: 0.0639851\ttotal: 1.38s\tremaining: 466ms\n",
      "748:\tlearn: 0.0637264\ttotal: 1.38s\tremaining: 463ms\n",
      "749:\tlearn: 0.0634880\ttotal: 1.38s\tremaining: 461ms\n",
      "750:\tlearn: 0.0632551\ttotal: 1.38s\tremaining: 459ms\n",
      "751:\tlearn: 0.0631652\ttotal: 1.38s\tremaining: 457ms\n",
      "752:\tlearn: 0.0631046\ttotal: 1.38s\tremaining: 455ms\n",
      "753:\tlearn: 0.0628715\ttotal: 1.38s\tremaining: 452ms\n",
      "754:\tlearn: 0.0627835\ttotal: 1.38s\tremaining: 450ms\n",
      "755:\tlearn: 0.0626506\ttotal: 1.38s\tremaining: 448ms\n",
      "756:\tlearn: 0.0625915\ttotal: 1.38s\tremaining: 446ms\n",
      "757:\tlearn: 0.0625280\ttotal: 1.38s\tremaining: 443ms\n",
      "758:\tlearn: 0.0623025\ttotal: 1.39s\tremaining: 441ms\n",
      "759:\tlearn: 0.0622163\ttotal: 1.39s\tremaining: 439ms\n",
      "760:\tlearn: 0.0620246\ttotal: 1.39s\tremaining: 437ms\n",
      "761:\tlearn: 0.0619677\ttotal: 1.39s\tremaining: 434ms\n",
      "762:\tlearn: 0.0618109\ttotal: 1.39s\tremaining: 432ms\n",
      "763:\tlearn: 0.0615915\ttotal: 1.39s\tremaining: 430ms\n",
      "764:\tlearn: 0.0615351\ttotal: 1.39s\tremaining: 428ms\n",
      "765:\tlearn: 0.0614746\ttotal: 1.39s\tremaining: 425ms\n",
      "766:\tlearn: 0.0613915\ttotal: 1.39s\tremaining: 423ms\n",
      "767:\tlearn: 0.0613369\ttotal: 1.39s\tremaining: 421ms\n",
      "768:\tlearn: 0.0611212\ttotal: 1.39s\tremaining: 419ms\n",
      "769:\tlearn: 0.0608839\ttotal: 1.39s\tremaining: 417ms\n",
      "770:\tlearn: 0.0608305\ttotal: 1.39s\tremaining: 414ms\n",
      "771:\tlearn: 0.0606783\ttotal: 1.39s\tremaining: 412ms\n"
     ]
    },
    {
     "name": "stdout",
     "output_type": "stream",
     "text": [
      "772:\tlearn: 0.0606261\ttotal: 1.45s\tremaining: 428ms\n",
      "773:\tlearn: 0.0605147\ttotal: 1.47s\tremaining: 429ms\n",
      "774:\tlearn: 0.0604501\ttotal: 1.47s\tremaining: 427ms\n",
      "775:\tlearn: 0.0603017\ttotal: 1.47s\tremaining: 425ms\n",
      "776:\tlearn: 0.0601042\ttotal: 1.47s\tremaining: 423ms\n",
      "777:\tlearn: 0.0600409\ttotal: 1.47s\tremaining: 420ms\n",
      "778:\tlearn: 0.0598953\ttotal: 1.47s\tremaining: 418ms\n",
      "779:\tlearn: 0.0597531\ttotal: 1.47s\tremaining: 416ms\n",
      "780:\tlearn: 0.0595603\ttotal: 1.47s\tremaining: 414ms\n",
      "781:\tlearn: 0.0594732\ttotal: 1.47s\tremaining: 411ms\n",
      "782:\tlearn: 0.0592857\ttotal: 1.47s\tremaining: 409ms\n",
      "783:\tlearn: 0.0591999\ttotal: 1.47s\tremaining: 407ms\n",
      "784:\tlearn: 0.0591155\ttotal: 1.47s\tremaining: 405ms\n",
      "785:\tlearn: 0.0589889\ttotal: 1.48s\tremaining: 403ms\n",
      "786:\tlearn: 0.0589056\ttotal: 1.48s\tremaining: 400ms\n",
      "787:\tlearn: 0.0588236\ttotal: 1.48s\tremaining: 398ms\n",
      "788:\tlearn: 0.0588001\ttotal: 1.48s\tremaining: 396ms\n",
      "789:\tlearn: 0.0587194\ttotal: 1.48s\tremaining: 394ms\n",
      "790:\tlearn: 0.0585432\ttotal: 1.48s\tremaining: 391ms\n",
      "791:\tlearn: 0.0584517\ttotal: 1.48s\tremaining: 389ms\n",
      "792:\tlearn: 0.0583889\ttotal: 1.48s\tremaining: 387ms\n",
      "793:\tlearn: 0.0581865\ttotal: 1.48s\tremaining: 385ms\n",
      "794:\tlearn: 0.0580871\ttotal: 1.48s\tremaining: 383ms\n",
      "795:\tlearn: 0.0580097\ttotal: 1.48s\tremaining: 380ms\n",
      "796:\tlearn: 0.0578123\ttotal: 1.48s\tremaining: 378ms\n",
      "797:\tlearn: 0.0577362\ttotal: 1.48s\tremaining: 376ms\n",
      "798:\tlearn: 0.0576613\ttotal: 1.48s\tremaining: 374ms\n",
      "799:\tlearn: 0.0575876\ttotal: 1.48s\tremaining: 371ms\n",
      "800:\tlearn: 0.0575152\ttotal: 1.48s\tremaining: 369ms\n",
      "801:\tlearn: 0.0573324\ttotal: 1.48s\tremaining: 367ms\n",
      "802:\tlearn: 0.0572609\ttotal: 1.48s\tremaining: 365ms\n",
      "803:\tlearn: 0.0570183\ttotal: 1.49s\tremaining: 363ms\n",
      "804:\tlearn: 0.0569347\ttotal: 1.49s\tremaining: 361ms\n",
      "805:\tlearn: 0.0567946\ttotal: 1.49s\tremaining: 359ms\n",
      "806:\tlearn: 0.0567247\ttotal: 1.49s\tremaining: 358ms\n",
      "807:\tlearn: 0.0565877\ttotal: 1.49s\tremaining: 356ms\n",
      "808:\tlearn: 0.0564541\ttotal: 1.49s\tremaining: 353ms\n",
      "809:\tlearn: 0.0562395\ttotal: 1.49s\tremaining: 351ms\n",
      "810:\tlearn: 0.0561572\ttotal: 1.49s\tremaining: 349ms\n",
      "811:\tlearn: 0.0559436\ttotal: 1.49s\tremaining: 347ms\n",
      "812:\tlearn: 0.0557277\ttotal: 1.5s\tremaining: 345ms\n",
      "813:\tlearn: 0.0556586\ttotal: 1.5s\tremaining: 343ms\n",
      "814:\tlearn: 0.0555906\ttotal: 1.5s\tremaining: 340ms\n",
      "815:\tlearn: 0.0555238\ttotal: 1.5s\tremaining: 339ms\n",
      "816:\tlearn: 0.0552948\ttotal: 1.5s\tremaining: 337ms\n",
      "817:\tlearn: 0.0552290\ttotal: 1.5s\tremaining: 335ms\n",
      "818:\tlearn: 0.0551642\ttotal: 1.5s\tremaining: 333ms\n",
      "819:\tlearn: 0.0549351\ttotal: 1.5s\tremaining: 331ms\n",
      "820:\tlearn: 0.0548711\ttotal: 1.5s\tremaining: 329ms\n",
      "821:\tlearn: 0.0548082\ttotal: 1.5s\tremaining: 326ms\n",
      "822:\tlearn: 0.0546664\ttotal: 1.5s\tremaining: 324ms\n",
      "823:\tlearn: 0.0546043\ttotal: 1.5s\tremaining: 322ms\n",
      "824:\tlearn: 0.0545432\ttotal: 1.51s\tremaining: 320ms\n",
      "825:\tlearn: 0.0543856\ttotal: 1.51s\tremaining: 319ms\n",
      "826:\tlearn: 0.0541762\ttotal: 1.51s\tremaining: 317ms\n",
      "827:\tlearn: 0.0539723\ttotal: 1.51s\tremaining: 315ms\n",
      "828:\tlearn: 0.0537884\ttotal: 1.51s\tremaining: 313ms\n",
      "829:\tlearn: 0.0535347\ttotal: 1.51s\tremaining: 311ms\n",
      "830:\tlearn: 0.0532881\ttotal: 1.52s\tremaining: 309ms\n",
      "831:\tlearn: 0.0532243\ttotal: 1.52s\tremaining: 307ms\n",
      "832:\tlearn: 0.0531615\ttotal: 1.52s\tremaining: 305ms\n",
      "833:\tlearn: 0.0530889\ttotal: 1.52s\tremaining: 303ms\n",
      "834:\tlearn: 0.0530269\ttotal: 1.52s\tremaining: 301ms\n",
      "835:\tlearn: 0.0529659\ttotal: 1.52s\tremaining: 299ms\n",
      "836:\tlearn: 0.0528429\ttotal: 1.52s\tremaining: 297ms\n",
      "837:\tlearn: 0.0526458\ttotal: 1.52s\tremaining: 295ms\n",
      "838:\tlearn: 0.0524092\ttotal: 1.52s\tremaining: 292ms\n",
      "839:\tlearn: 0.0521793\ttotal: 1.52s\tremaining: 290ms\n",
      "840:\tlearn: 0.0519559\ttotal: 1.52s\tremaining: 288ms\n",
      "841:\tlearn: 0.0517287\ttotal: 1.52s\tremaining: 287ms\n",
      "842:\tlearn: 0.0515067\ttotal: 1.52s\tremaining: 285ms\n",
      "843:\tlearn: 0.0512898\ttotal: 1.53s\tremaining: 283ms\n",
      "844:\tlearn: 0.0510780\ttotal: 1.53s\tremaining: 281ms\n",
      "845:\tlearn: 0.0510102\ttotal: 1.53s\tremaining: 279ms\n",
      "846:\tlearn: 0.0508036\ttotal: 1.53s\tremaining: 277ms\n",
      "847:\tlearn: 0.0507305\ttotal: 1.53s\tremaining: 275ms\n",
      "848:\tlearn: 0.0506641\ttotal: 1.53s\tremaining: 273ms\n",
      "849:\tlearn: 0.0505986\ttotal: 1.53s\tremaining: 271ms\n",
      "850:\tlearn: 0.0504085\ttotal: 1.53s\tremaining: 269ms\n",
      "851:\tlearn: 0.0502059\ttotal: 1.53s\tremaining: 267ms\n",
      "852:\tlearn: 0.0501385\ttotal: 1.53s\tremaining: 265ms\n",
      "853:\tlearn: 0.0500668\ttotal: 1.53s\tremaining: 263ms\n",
      "854:\tlearn: 0.0498911\ttotal: 1.54s\tremaining: 261ms\n",
      "855:\tlearn: 0.0497200\ttotal: 1.54s\tremaining: 259ms\n",
      "856:\tlearn: 0.0496562\ttotal: 1.54s\tremaining: 257ms\n",
      "857:\tlearn: 0.0495934\ttotal: 1.54s\tremaining: 255ms\n",
      "858:\tlearn: 0.0494358\ttotal: 1.54s\tremaining: 254ms\n",
      "859:\tlearn: 0.0493739\ttotal: 1.54s\tremaining: 252ms\n"
     ]
    },
    {
     "name": "stdout",
     "output_type": "stream",
     "text": [
      "860:\tlearn: 0.0492202\ttotal: 1.54s\tremaining: 250ms\n",
      "861:\tlearn: 0.0490749\ttotal: 1.54s\tremaining: 248ms\n",
      "862:\tlearn: 0.0489335\ttotal: 1.54s\tremaining: 246ms\n",
      "863:\tlearn: 0.0487959\ttotal: 1.54s\tremaining: 244ms\n",
      "864:\tlearn: 0.0487309\ttotal: 1.55s\tremaining: 242ms\n",
      "865:\tlearn: 0.0485795\ttotal: 1.55s\tremaining: 240ms\n",
      "866:\tlearn: 0.0484310\ttotal: 1.55s\tremaining: 238ms\n",
      "867:\tlearn: 0.0482852\ttotal: 1.55s\tremaining: 236ms\n",
      "868:\tlearn: 0.0481421\ttotal: 1.55s\tremaining: 234ms\n",
      "869:\tlearn: 0.0480962\ttotal: 1.55s\tremaining: 232ms\n",
      "870:\tlearn: 0.0480511\ttotal: 1.55s\tremaining: 230ms\n",
      "871:\tlearn: 0.0479901\ttotal: 1.55s\tremaining: 228ms\n",
      "872:\tlearn: 0.0478493\ttotal: 1.55s\tremaining: 226ms\n",
      "873:\tlearn: 0.0478047\ttotal: 1.55s\tremaining: 224ms\n",
      "874:\tlearn: 0.0477443\ttotal: 1.55s\tremaining: 223ms\n",
      "875:\tlearn: 0.0475651\ttotal: 1.55s\tremaining: 221ms\n",
      "876:\tlearn: 0.0475158\ttotal: 1.55s\tremaining: 219ms\n",
      "877:\tlearn: 0.0474720\ttotal: 1.56s\tremaining: 217ms\n",
      "878:\tlearn: 0.0474235\ttotal: 1.56s\tremaining: 216ms\n",
      "879:\tlearn: 0.0472751\ttotal: 1.56s\tremaining: 214ms\n",
      "880:\tlearn: 0.0472122\ttotal: 1.56s\tremaining: 212ms\n",
      "881:\tlearn: 0.0470356\ttotal: 1.56s\tremaining: 210ms\n",
      "882:\tlearn: 0.0469387\ttotal: 1.57s\tremaining: 208ms\n",
      "883:\tlearn: 0.0468922\ttotal: 1.57s\tremaining: 206ms\n",
      "884:\tlearn: 0.0467975\ttotal: 1.57s\tremaining: 204ms\n",
      "885:\tlearn: 0.0467518\ttotal: 1.57s\tremaining: 202ms\n",
      "886:\tlearn: 0.0466649\ttotal: 1.57s\tremaining: 200ms\n",
      "887:\tlearn: 0.0465612\ttotal: 1.57s\tremaining: 199ms\n",
      "888:\tlearn: 0.0465058\ttotal: 1.57s\tremaining: 197ms\n",
      "889:\tlearn: 0.0464512\ttotal: 1.57s\tremaining: 195ms\n",
      "890:\tlearn: 0.0463929\ttotal: 1.57s\tremaining: 193ms\n",
      "891:\tlearn: 0.0463010\ttotal: 1.57s\tremaining: 191ms\n",
      "892:\tlearn: 0.0462153\ttotal: 1.57s\tremaining: 189ms\n",
      "893:\tlearn: 0.0461256\ttotal: 1.57s\tremaining: 187ms\n",
      "894:\tlearn: 0.0460561\ttotal: 1.57s\tremaining: 185ms\n",
      "895:\tlearn: 0.0459718\ttotal: 1.57s\tremaining: 183ms\n",
      "896:\tlearn: 0.0458718\ttotal: 1.57s\tremaining: 181ms\n",
      "897:\tlearn: 0.0458184\ttotal: 1.58s\tremaining: 179ms\n",
      "898:\tlearn: 0.0457627\ttotal: 1.58s\tremaining: 178ms\n",
      "899:\tlearn: 0.0456946\ttotal: 1.58s\tremaining: 176ms\n",
      "900:\tlearn: 0.0455301\ttotal: 1.58s\tremaining: 174ms\n",
      "901:\tlearn: 0.0454552\ttotal: 1.58s\tremaining: 172ms\n",
      "902:\tlearn: 0.0454146\ttotal: 1.58s\tremaining: 170ms\n",
      "903:\tlearn: 0.0453278\ttotal: 1.58s\tremaining: 168ms\n",
      "904:\tlearn: 0.0452615\ttotal: 1.59s\tremaining: 167ms\n",
      "905:\tlearn: 0.0451780\ttotal: 1.59s\tremaining: 165ms\n",
      "906:\tlearn: 0.0451128\ttotal: 1.59s\tremaining: 163ms\n",
      "907:\tlearn: 0.0450325\ttotal: 1.59s\tremaining: 161ms\n",
      "908:\tlearn: 0.0448740\ttotal: 1.59s\tremaining: 159ms\n",
      "909:\tlearn: 0.0448021\ttotal: 1.59s\tremaining: 158ms\n",
      "910:\tlearn: 0.0447617\ttotal: 1.59s\tremaining: 156ms\n",
      "911:\tlearn: 0.0447088\ttotal: 1.59s\tremaining: 154ms\n",
      "912:\tlearn: 0.0445702\ttotal: 1.59s\tremaining: 152ms\n",
      "913:\tlearn: 0.0445252\ttotal: 1.59s\tremaining: 150ms\n",
      "914:\tlearn: 0.0444431\ttotal: 1.59s\tremaining: 148ms\n",
      "915:\tlearn: 0.0443914\ttotal: 1.59s\tremaining: 146ms\n",
      "916:\tlearn: 0.0442284\ttotal: 1.59s\tremaining: 145ms\n",
      "917:\tlearn: 0.0441483\ttotal: 1.59s\tremaining: 143ms\n",
      "918:\tlearn: 0.0441045\ttotal: 1.59s\tremaining: 141ms\n",
      "919:\tlearn: 0.0439519\ttotal: 1.6s\tremaining: 139ms\n",
      "920:\tlearn: 0.0438909\ttotal: 1.6s\tremaining: 137ms\n",
      "921:\tlearn: 0.0438118\ttotal: 1.6s\tremaining: 135ms\n",
      "922:\tlearn: 0.0437443\ttotal: 1.6s\tremaining: 134ms\n",
      "923:\tlearn: 0.0436669\ttotal: 1.6s\tremaining: 132ms\n",
      "924:\tlearn: 0.0436176\ttotal: 1.6s\tremaining: 130ms\n",
      "925:\tlearn: 0.0435419\ttotal: 1.6s\tremaining: 128ms\n",
      "926:\tlearn: 0.0434933\ttotal: 1.6s\tremaining: 126ms\n",
      "927:\tlearn: 0.0433658\ttotal: 1.6s\tremaining: 125ms\n",
      "928:\tlearn: 0.0432486\ttotal: 1.6s\tremaining: 123ms\n",
      "929:\tlearn: 0.0430516\ttotal: 1.6s\tremaining: 121ms\n",
      "930:\tlearn: 0.0429935\ttotal: 1.6s\tremaining: 119ms\n",
      "931:\tlearn: 0.0428821\ttotal: 1.6s\tremaining: 117ms\n",
      "932:\tlearn: 0.0427979\ttotal: 1.6s\tremaining: 115ms\n",
      "933:\tlearn: 0.0427222\ttotal: 1.6s\tremaining: 114ms\n",
      "934:\tlearn: 0.0426651\ttotal: 1.6s\tremaining: 112ms\n",
      "935:\tlearn: 0.0424662\ttotal: 1.6s\tremaining: 110ms\n",
      "936:\tlearn: 0.0423531\ttotal: 1.6s\tremaining: 108ms\n",
      "937:\tlearn: 0.0422967\ttotal: 1.6s\tremaining: 106ms\n"
     ]
    },
    {
     "name": "stdout",
     "output_type": "stream",
     "text": [
      "938:\tlearn: 0.0422336\ttotal: 1.61s\tremaining: 105ms\n",
      "939:\tlearn: 0.0421542\ttotal: 1.61s\tremaining: 103ms\n",
      "940:\tlearn: 0.0420839\ttotal: 1.62s\tremaining: 102ms\n",
      "941:\tlearn: 0.0420226\ttotal: 1.62s\tremaining: 99.9ms\n",
      "942:\tlearn: 0.0418385\ttotal: 1.62s\tremaining: 98.1ms\n",
      "943:\tlearn: 0.0417936\ttotal: 1.62s\tremaining: 96.3ms\n",
      "944:\tlearn: 0.0417337\ttotal: 1.62s\tremaining: 94.5ms\n",
      "945:\tlearn: 0.0416788\ttotal: 1.62s\tremaining: 92.8ms\n",
      "946:\tlearn: 0.0415714\ttotal: 1.62s\tremaining: 91ms\n",
      "947:\tlearn: 0.0413843\ttotal: 1.62s\tremaining: 89.2ms\n",
      "948:\tlearn: 0.0413407\ttotal: 1.62s\tremaining: 87.4ms\n",
      "949:\tlearn: 0.0412978\ttotal: 1.62s\tremaining: 85.7ms\n",
      "950:\tlearn: 0.0411502\ttotal: 1.63s\tremaining: 83.9ms\n",
      "951:\tlearn: 0.0410657\ttotal: 1.63s\tremaining: 82.2ms\n",
      "952:\tlearn: 0.0410244\ttotal: 1.63s\tremaining: 80.5ms\n",
      "953:\tlearn: 0.0408942\ttotal: 1.63s\tremaining: 78.7ms\n",
      "954:\tlearn: 0.0407984\ttotal: 1.63s\tremaining: 77ms\n",
      "955:\tlearn: 0.0407489\ttotal: 1.63s\tremaining: 75.3ms\n",
      "956:\tlearn: 0.0406154\ttotal: 1.63s\tremaining: 73.6ms\n",
      "957:\tlearn: 0.0405728\ttotal: 1.63s\tremaining: 71.8ms\n",
      "958:\tlearn: 0.0405309\ttotal: 1.64s\tremaining: 70.1ms\n",
      "959:\tlearn: 0.0404823\ttotal: 1.64s\tremaining: 68.3ms\n",
      "960:\tlearn: 0.0404252\ttotal: 1.64s\tremaining: 66.6ms\n",
      "961:\tlearn: 0.0402862\ttotal: 1.64s\tremaining: 64.9ms\n",
      "962:\tlearn: 0.0402407\ttotal: 1.64s\tremaining: 63.2ms\n",
      "963:\tlearn: 0.0401934\ttotal: 1.64s\tremaining: 61.5ms\n",
      "964:\tlearn: 0.0400773\ttotal: 1.64s\tremaining: 59.7ms\n",
      "965:\tlearn: 0.0399481\ttotal: 1.64s\tremaining: 58ms\n",
      "966:\tlearn: 0.0398918\ttotal: 1.64s\tremaining: 56.2ms\n",
      "967:\tlearn: 0.0398474\ttotal: 1.65s\tremaining: 54.5ms\n",
      "968:\tlearn: 0.0398037\ttotal: 1.65s\tremaining: 52.8ms\n",
      "969:\tlearn: 0.0396705\ttotal: 1.65s\tremaining: 51ms\n",
      "970:\tlearn: 0.0395508\ttotal: 1.65s\tremaining: 49.4ms\n",
      "971:\tlearn: 0.0395080\ttotal: 1.65s\tremaining: 47.8ms\n",
      "972:\tlearn: 0.0394082\ttotal: 1.66s\tremaining: 46ms\n",
      "973:\tlearn: 0.0393637\ttotal: 1.66s\tremaining: 44.3ms\n",
      "974:\tlearn: 0.0393199\ttotal: 1.66s\tremaining: 42.6ms\n",
      "975:\tlearn: 0.0391106\ttotal: 1.66s\tremaining: 40.9ms\n",
      "976:\tlearn: 0.0390584\ttotal: 1.66s\tremaining: 39.1ms\n",
      "977:\tlearn: 0.0389269\ttotal: 1.66s\tremaining: 37.4ms\n",
      "978:\tlearn: 0.0388716\ttotal: 1.66s\tremaining: 35.7ms\n",
      "979:\tlearn: 0.0388304\ttotal: 1.66s\tremaining: 34ms\n",
      "980:\tlearn: 0.0387117\ttotal: 1.66s\tremaining: 32.2ms\n",
      "981:\tlearn: 0.0386575\ttotal: 1.66s\tremaining: 30.5ms\n",
      "982:\tlearn: 0.0386061\ttotal: 1.66s\tremaining: 28.8ms\n",
      "983:\tlearn: 0.0385505\ttotal: 1.66s\tremaining: 27.1ms\n",
      "984:\tlearn: 0.0384632\ttotal: 1.67s\tremaining: 25.4ms\n",
      "985:\tlearn: 0.0384224\ttotal: 1.67s\tremaining: 23.8ms\n",
      "986:\tlearn: 0.0383821\ttotal: 1.67s\tremaining: 22.1ms\n",
      "987:\tlearn: 0.0382595\ttotal: 1.67s\tremaining: 20.4ms\n",
      "988:\tlearn: 0.0382195\ttotal: 1.67s\tremaining: 18.7ms\n",
      "989:\tlearn: 0.0381659\ttotal: 1.68s\tremaining: 17ms\n",
      "990:\tlearn: 0.0381264\ttotal: 1.69s\tremaining: 15.3ms\n",
      "991:\tlearn: 0.0380874\ttotal: 1.69s\tremaining: 13.6ms\n",
      "992:\tlearn: 0.0379987\ttotal: 1.69s\tremaining: 11.9ms\n",
      "993:\tlearn: 0.0379602\ttotal: 1.69s\tremaining: 10.2ms\n",
      "994:\tlearn: 0.0379092\ttotal: 1.69s\tremaining: 8.5ms\n",
      "995:\tlearn: 0.0378590\ttotal: 1.69s\tremaining: 6.8ms\n",
      "996:\tlearn: 0.0377440\ttotal: 1.69s\tremaining: 5.1ms\n",
      "997:\tlearn: 0.0376788\ttotal: 1.69s\tremaining: 3.4ms\n",
      "998:\tlearn: 0.0376300\ttotal: 1.69s\tremaining: 1.7ms\n",
      "999:\tlearn: 0.0375033\ttotal: 1.69s\tremaining: 0us\n"
     ]
    },
    {
     "data": {
      "text/plain": [
       "<catboost.core.CatBoostRegressor at 0x7ff30a4d99a0>"
      ]
     },
     "execution_count": 9,
     "metadata": {},
     "output_type": "execute_result"
    }
   ],
   "source": [
    "#Train the Model \n",
    "prior_model = ctb.CatBoostRegressor()\n",
    "prior_model.fit(X_train,Y_train)"
   ]
  },
  {
   "cell_type": "code",
   "execution_count": 10,
   "id": "af65dcda",
   "metadata": {
    "execution": {
     "iopub.execute_input": "2022-07-27T15:16:02.885419Z",
     "iopub.status.busy": "2022-07-27T15:16:02.885162Z",
     "iopub.status.idle": "2022-07-27T15:16:03.191966Z",
     "shell.execute_reply": "2022-07-27T15:16:03.188620Z"
    },
    "id": "af65dcda",
    "papermill": {
     "duration": 0.372143,
     "end_time": "2022-07-27T15:16:03.208707",
     "exception": false,
     "start_time": "2022-07-27T15:16:02.836564",
     "status": "completed"
    },
    "tags": []
   },
   "outputs": [
    {
     "data": {
      "application/scrapbook.scrap.json+json": {
       "data": 0.35535297961101975,
       "encoder": "json",
       "name": "Prior Model MSE",
       "version": 1
      }
     },
     "metadata": {
      "scrapbook": {
       "data": true,
       "display": false,
       "name": "Prior Model MSE"
      }
     },
     "output_type": "display_data"
    },
    {
     "data": {
      "application/scrapbook.scrap.json+json": {
       "data": 0.35535297961101975,
       "encoder": "json",
       "name": "ABC Pre-generator MSE",
       "version": 1
      }
     },
     "metadata": {
      "scrapbook": {
       "data": true,
       "display": false,
       "name": "ABC Pre-generator MSE"
      }
     },
     "output_type": "display_data"
    },
    {
     "data": {
      "application/scrapbook.scrap.json+json": {
       "data": 0.37737552628495424,
       "encoder": "json",
       "name": "Prior Model MAE",
       "version": 1
      }
     },
     "metadata": {
      "scrapbook": {
       "data": true,
       "display": false,
       "name": "Prior Model MAE"
      }
     },
     "output_type": "display_data"
    },
    {
     "name": "stdout",
     "output_type": "stream",
     "text": [
      "Prior Model MAE 0.37737552628495424\n"
     ]
    },
    {
     "data": {
      "application/scrapbook.scrap.json+json": {
       "data": 0.37737552628495424,
       "encoder": "json",
       "name": "ABC Pre-generator MAE",
       "version": 1
      }
     },
     "metadata": {
      "scrapbook": {
       "data": true,
       "display": false,
       "name": "ABC Pre-generator MAE"
      }
     },
     "output_type": "display_data"
    },
    {
     "name": "stdout",
     "output_type": "stream",
     "text": [
      "ABC Pre-generator MAE 0.37737552628495424\n"
     ]
    }
   ],
   "source": [
    "y_pred = prior_model.predict(X_test)\n",
    "y_abc = y_pred + np.random.normal(0,variance, y_pred.shape) + bias \n",
    "mse = mean_squared_error(y_pred,Y_test)\n",
    "sb.glue(\"Prior Model MSE\",mse)\n",
    "mse = mean_squared_error(y_abc,Y_test)\n",
    "sb.glue(\"ABC Pre-generator MSE\",mse)\n",
    "mae = mean_absolute_error(y_pred,Y_test)\n",
    "sb.glue(\"Prior Model MAE\",mae)\n",
    "print(\"Prior Model MAE\",mae)\n",
    "mae = mean_absolute_error(y_abc,Y_test)\n",
    "sb.glue(\"ABC Pre-generator MAE\",mae)\n",
    "print(\"ABC Pre-generator MAE\",mae)"
   ]
  },
  {
   "cell_type": "markdown",
   "id": "25609da2",
   "metadata": {
    "papermill": {
     "duration": 0.037481,
     "end_time": "2022-07-27T15:16:03.263035",
     "exception": false,
     "start_time": "2022-07-27T15:16:03.225554",
     "status": "completed"
    },
    "tags": []
   },
   "source": [
    "# mGAN Model"
   ]
  },
  {
   "cell_type": "code",
   "execution_count": 11,
   "id": "dfc3464d",
   "metadata": {
    "execution": {
     "iopub.execute_input": "2022-07-27T15:16:03.327743Z",
     "iopub.status.busy": "2022-07-27T15:16:03.327233Z",
     "iopub.status.idle": "2022-07-27T15:16:03.419098Z",
     "shell.execute_reply": "2022-07-27T15:16:03.410977Z"
    },
    "papermill": {
     "duration": 0.155804,
     "end_time": "2022-07-27T15:16:03.443626",
     "exception": false,
     "start_time": "2022-07-27T15:16:03.287822",
     "status": "completed"
    },
    "tags": []
   },
   "outputs": [],
   "source": [
    "gen = network.Generator(n_features+1).to(device)\n",
    "disc = network.DiscriminatorTabnet(n_features+1).to(device)\n",
    "\n",
    "criterion = torch.nn.BCELoss()\n",
    "gen_opt = torch.optim.Adam(gen.parameters(), lr=0.001, betas=(0.5, 0.999))\n",
    "disc_opt = torch.optim.Adam(disc.parameters(), lr=0.001, betas=(0.5, 0.999))"
   ]
  },
  {
   "cell_type": "code",
   "execution_count": 12,
   "id": "b75fdd85",
   "metadata": {
    "execution": {
     "iopub.execute_input": "2022-07-27T15:16:03.527216Z",
     "iopub.status.busy": "2022-07-27T15:16:03.525286Z"
    },
    "papermill": {
     "duration": 11.165678,
     "end_time": "2022-07-27T15:16:14.653329",
     "exception": false,
     "start_time": "2022-07-27T15:16:03.487651",
     "status": "completed"
    },
    "tags": []
   },
   "outputs": [],
   "source": [
    "#Training the ABC_GAN \n",
    "ABC_train_test2.training_GAN(disc,gen,disc_opt,gen_opt,train_data,batch_size,n_epochs,criterion,prior_model,variance,bias,device)"
   ]
  },
  {
   "cell_type": "code",
   "execution_count": null,
   "id": "1fa7c368",
   "metadata": {
    "papermill": {
     "duration": null,
     "end_time": null,
     "exception": null,
     "start_time": null,
     "status": "completed"
    },
    "tags": []
   },
   "outputs": [],
   "source": [
    "ABC_GAN1_metrics=ABC_train_test2.test_generator(gen,test_data,prior_model,variance,bias,\"1\",device)\n",
    "sb.glue(\"ABC_GAN_1 Metrics\",ABC_GAN1_metrics)\n",
    "\n",
    "print(\"MAE\")\n",
    "print(mean(ABC_GAN1_metrics[1]))"
   ]
  },
  {
   "cell_type": "code",
   "execution_count": null,
   "id": "eb22ce5c",
   "metadata": {
    "papermill": {
     "duration": null,
     "end_time": null,
     "exception": null,
     "start_time": null,
     "status": "completed"
    },
    "tags": []
   },
   "outputs": [],
   "source": [
    "sanityChecks.discProbVsError(train_data,disc,device)\n",
    "sanityChecks.discProbVsError(test_data,disc,device)"
   ]
  },
  {
   "cell_type": "markdown",
   "id": "1311edc2",
   "metadata": {
    "papermill": {
     "duration": null,
     "end_time": null,
     "exception": null,
     "start_time": null,
     "status": "completed"
    },
    "tags": []
   },
   "source": [
    "# mGAN Model with TabNet Generator"
   ]
  },
  {
   "cell_type": "code",
   "execution_count": null,
   "id": "d2f3d65c",
   "metadata": {
    "papermill": {
     "duration": null,
     "end_time": null,
     "exception": null,
     "start_time": null,
     "status": "completed"
    },
    "tags": []
   },
   "outputs": [],
   "source": [
    "gen2 = network.GeneratorTabnet(n_features+1).to(device)\n",
    "disc2 = network.DiscriminatorTabnet(n_features+1).to(device)\n",
    "\n",
    "criterion = torch.nn.BCELoss()\n",
    "gen_opt = torch.optim.Adam(gen2.parameters(), lr=0.001, betas=(0.5, 0.999))\n",
    "disc_opt = torch.optim.Adam(disc2.parameters(), lr=0.001, betas=(0.5, 0.999))"
   ]
  },
  {
   "cell_type": "code",
   "execution_count": null,
   "id": "ab6e6646",
   "metadata": {
    "papermill": {
     "duration": null,
     "end_time": null,
     "exception": null,
     "start_time": null,
     "status": "completed"
    },
    "tags": []
   },
   "outputs": [],
   "source": [
    "#Training the ABC_GAN \n",
    "ABC_train_test2.training_GAN(disc2,gen2,disc_opt,gen_opt,train_data,batch_size,n_epochs,criterion,prior_model,variance,bias,device)"
   ]
  },
  {
   "cell_type": "code",
   "execution_count": null,
   "id": "e77398e0",
   "metadata": {
    "papermill": {
     "duration": null,
     "end_time": null,
     "exception": null,
     "start_time": null,
     "status": "completed"
    },
    "tags": []
   },
   "outputs": [],
   "source": [
    "ABC_GAN2_metrics=ABC_train_test2.test_generator(gen2,test_data,prior_model,variance,bias,\"1\",device)\n",
    "sb.glue(\"ABC_GAN_2 Metrics\",ABC_GAN2_metrics)\n",
    "\n",
    "print(\"MAE\")\n",
    "print(mean(ABC_GAN2_metrics[1]))"
   ]
  },
  {
   "cell_type": "code",
   "execution_count": null,
   "id": "b8ceb9e7",
   "metadata": {
    "papermill": {
     "duration": null,
     "end_time": null,
     "exception": null,
     "start_time": null,
     "status": "completed"
    },
    "tags": []
   },
   "outputs": [],
   "source": [
    "sanityChecks.discProbVsError(train_data,disc2,device)\n",
    "sanityChecks.discProbVsError(test_data,disc2,device)"
   ]
  },
  {
   "cell_type": "markdown",
   "id": "130f3a4d",
   "metadata": {
    "id": "130f3a4d",
    "papermill": {
     "duration": null,
     "end_time": null,
     "exception": null,
     "start_time": null,
     "status": "completed"
    },
    "tags": []
   },
   "source": [
    "# skipGAN Model"
   ]
  },
  {
   "cell_type": "code",
   "execution_count": null,
   "id": "4e43dad1",
   "metadata": {
    "id": "4e43dad1",
    "papermill": {
     "duration": null,
     "end_time": null,
     "exception": null,
     "start_time": null,
     "status": "completed"
    },
    "tags": []
   },
   "outputs": [],
   "source": [
    "#Generator\n",
    "gen3 = network.GeneratorWithSkipConnection(n_features+1).to(device)\n",
    "constraints=network.weightConstraint()\n",
    "#Discriminator \n",
    "disc3 = network.DiscriminatorTabnet(n_features+1).to(device)\n",
    "\n",
    "criterion = torch.nn.BCELoss()\n",
    "gen_opt = torch.optim.Adam(gen3.parameters(), lr=0.001, betas=(0.5, 0.999))\n",
    "disc_opt = torch.optim.Adam(disc3.parameters(), lr=0.001, betas=(0.5, 0.999))\n"
   ]
  },
  {
   "cell_type": "code",
   "execution_count": null,
   "id": "26acbc37",
   "metadata": {
    "id": "26acbc37",
    "papermill": {
     "duration": null,
     "end_time": null,
     "exception": null,
     "start_time": null,
     "status": "completed"
    },
    "tags": []
   },
   "outputs": [],
   "source": [
    "ABC_train_test2.training_GAN_skip_connection(disc3,gen3,disc_opt,gen_opt,train_data,batch_size,n_epochs,criterion,prior_model,variance,bias,device)"
   ]
  },
  {
   "cell_type": "code",
   "execution_count": null,
   "id": "c5e0717b",
   "metadata": {
    "id": "c5e0717b",
    "papermill": {
     "duration": null,
     "end_time": null,
     "exception": null,
     "start_time": null,
     "status": "completed"
    },
    "tags": []
   },
   "outputs": [],
   "source": [
    "ABC_GAN3_metrics=ABC_train_test2.test_generator(gen3,test_data,prior_model,variance,bias,\"3\",device)\n",
    "sb.glue(\"ABC_GAN_3 Metrics\",ABC_GAN3_metrics)\n",
    "\n",
    "print(\"MAE\")\n",
    "print(mean(ABC_GAN3_metrics[1]))"
   ]
  },
  {
   "cell_type": "code",
   "execution_count": null,
   "id": "c8e46b48",
   "metadata": {
    "id": "c8e46b48",
    "papermill": {
     "duration": null,
     "end_time": null,
     "exception": null,
     "start_time": null,
     "status": "completed"
    },
    "tags": []
   },
   "outputs": [],
   "source": [
    "sanityChecks.discProbVsError(train_data,disc3,device)\n",
    "sanityChecks.discProbVsError(test_data,disc3,device)"
   ]
  },
  {
   "cell_type": "markdown",
   "id": "babf67af",
   "metadata": {
    "id": "130f3a4d",
    "papermill": {
     "duration": null,
     "end_time": null,
     "exception": null,
     "start_time": null,
     "status": "completed"
    },
    "tags": []
   },
   "source": [
    "# skipGAN Model with TabNet Generator"
   ]
  },
  {
   "cell_type": "code",
   "execution_count": null,
   "id": "94658f0b",
   "metadata": {
    "id": "4e43dad1",
    "papermill": {
     "duration": null,
     "end_time": null,
     "exception": null,
     "start_time": null,
     "status": "completed"
    },
    "tags": []
   },
   "outputs": [],
   "source": [
    "#Generator\n",
    "gen4 = network.GeneratorTabnetskipConnection(n_features+1).to(device)\n",
    "constraints=network.weightConstraint()\n",
    "#Discriminator \n",
    "disc4 = network.DiscriminatorTabnet(n_features+1).to(device)\n",
    "\n",
    "criterion = torch.nn.BCELoss()\n",
    "gen_opt = torch.optim.Adam(gen4.parameters(), lr=0.001, betas=(0.5, 0.999))\n",
    "disc_opt = torch.optim.Adam(disc4.parameters(), lr=0.001, betas=(0.5, 0.999))\n"
   ]
  },
  {
   "cell_type": "code",
   "execution_count": null,
   "id": "c46bb0cf",
   "metadata": {
    "id": "26acbc37",
    "papermill": {
     "duration": null,
     "end_time": null,
     "exception": null,
     "start_time": null,
     "status": "completed"
    },
    "tags": []
   },
   "outputs": [],
   "source": [
    "ABC_train_test2.training_GAN_skip_connection(disc4,gen4,disc_opt,gen_opt,train_data,batch_size,n_epochs,criterion,prior_model,variance,bias,device)"
   ]
  },
  {
   "cell_type": "code",
   "execution_count": null,
   "id": "d1484e44",
   "metadata": {
    "id": "c5e0717b",
    "papermill": {
     "duration": null,
     "end_time": null,
     "exception": null,
     "start_time": null,
     "status": "completed"
    },
    "tags": []
   },
   "outputs": [],
   "source": [
    "ABC_GAN4_metrics=ABC_train_test2.test_generator(gen4,test_data,prior_model,variance,bias,\"3\",device)\n",
    "sb.glue(\"ABC_GAN_4 Metrics\",ABC_GAN4_metrics)\n",
    "\n",
    "print(\"MAE\")\n",
    "print(mean(ABC_GAN4_metrics[1]))"
   ]
  },
  {
   "cell_type": "code",
   "execution_count": null,
   "id": "2ea5091e",
   "metadata": {
    "id": "c8e46b48",
    "papermill": {
     "duration": null,
     "end_time": null,
     "exception": null,
     "start_time": null,
     "status": "completed"
    },
    "tags": []
   },
   "outputs": [],
   "source": [
    "sanityChecks.discProbVsError(train_data,disc4,device)\n",
    "sanityChecks.discProbVsError(test_data,disc4,device)"
   ]
  },
  {
   "cell_type": "markdown",
   "id": "a5bd74c3",
   "metadata": {
    "id": "a5bd74c3",
    "papermill": {
     "duration": null,
     "end_time": null,
     "exception": null,
     "start_time": null,
     "status": "completed"
    },
    "tags": []
   },
   "source": [
    "## Skip Connection Model Analysis - ABC-GAN "
   ]
  },
  {
   "cell_type": "markdown",
   "id": "5744a8bf",
   "metadata": {
    "id": "5744a8bf",
    "papermill": {
     "duration": null,
     "end_time": null,
     "exception": null,
     "start_time": null,
     "status": "completed"
    },
    "tags": []
   },
   "source": [
    "### Weight Analysis \n",
    "\n",
    "Study the weights of the skip connection layer\n",
    "\n",
    "Equation of the skip connection is \n",
    "\n",
    "$output = y_{gan} * w + y_{abc} * (1-w)$"
   ]
  },
  {
   "cell_type": "code",
   "execution_count": null,
   "id": "52c31dea",
   "metadata": {
    "id": "52c31dea",
    "papermill": {
     "duration": null,
     "end_time": null,
     "exception": null,
     "start_time": null,
     "status": "completed"
    },
    "tags": []
   },
   "outputs": [],
   "source": [
    "print(\"Weight of the node at skip connection\")\n",
    "for name,param in gen3.named_parameters():\n",
    "    if(name == \"skipNode.weight\"):\n",
    "        print(param)\n",
    "        sb.glue(\"Skip Connection Weight\",param.item())"
   ]
  },
  {
   "cell_type": "markdown",
   "id": "846f643f",
   "metadata": {
    "id": "a5bd74c3",
    "papermill": {
     "duration": null,
     "end_time": null,
     "exception": null,
     "start_time": null,
     "status": "completed"
    },
    "tags": []
   },
   "source": [
    "## skipGAN Model Analysis (TabNet Generator) "
   ]
  },
  {
   "cell_type": "markdown",
   "id": "47ba9e72",
   "metadata": {
    "id": "5744a8bf",
    "papermill": {
     "duration": null,
     "end_time": null,
     "exception": null,
     "start_time": null,
     "status": "completed"
    },
    "tags": []
   },
   "source": [
    "### Weight Analysis \n",
    "\n",
    "Study the weights of the skip connection layer\n",
    "\n",
    "Equation of the skip connection is \n",
    "\n",
    "$output = y_{gan} * w + y_{abc} * (1-w)$"
   ]
  },
  {
   "cell_type": "code",
   "execution_count": null,
   "id": "2e7ef1b8",
   "metadata": {
    "id": "52c31dea",
    "papermill": {
     "duration": null,
     "end_time": null,
     "exception": null,
     "start_time": null,
     "status": "completed"
    },
    "tags": []
   },
   "outputs": [],
   "source": [
    "print(\"Weight of the node at skip connection\")\n",
    "for name,param in gen4.named_parameters():\n",
    "    if(name == \"skipNode.weight\"):\n",
    "        print(param)\n",
    "        sb.glue(\"Skip Connection Weight\",param.item())"
   ]
  }
 ],
 "metadata": {
  "colab": {
   "collapsed_sections": [],
   "name": "ABC_GAN_Model-Catboost_Pre-gen.ipynb",
   "provenance": []
  },
  "interpreter": {
   "hash": "31f2aee4e71d21fbe5cf8b01ff0e069b9275f58929596ceb00d14d90e3e16cd6"
  },
  "kernelspec": {
   "display_name": "Python 3 (ipykernel)",
   "language": "python",
   "name": "python3"
  },
  "language_info": {
   "codemirror_mode": {
    "name": "ipython",
    "version": 3
   },
   "file_extension": ".py",
   "mimetype": "text/x-python",
   "name": "python",
   "nbconvert_exporter": "python",
   "pygments_lexer": "ipython3",
   "version": "3.8.9"
  },
  "papermill": {
   "default_parameters": {},
   "duration": 37.130071,
   "end_time": "2022-07-27T15:16:15.009753",
   "environment_variables": {},
   "exception": null,
   "input_path": "ABC_GAN-Catboost.ipynb",
   "output_path": "./ABC_GAN_Catboost/ABC-GAN_output_2_15.ipynb",
   "parameters": {
    "bias": 0,
    "variance": 0
   },
   "start_time": "2022-07-27T15:15:37.879682",
   "version": "2.3.3"
  }
 },
 "nbformat": 4,
 "nbformat_minor": 5
}