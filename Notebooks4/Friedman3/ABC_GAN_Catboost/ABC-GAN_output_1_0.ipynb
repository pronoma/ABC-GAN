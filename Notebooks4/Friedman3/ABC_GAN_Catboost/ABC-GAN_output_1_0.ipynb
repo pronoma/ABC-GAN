{
 "cells": [
  {
   "cell_type": "markdown",
   "id": "8e02df26",
   "metadata": {
    "tags": [
     "papermill-error-cell-tag"
    ]
   },
   "source": [
    "<span style=\"color:red; font-family:Helvetica Neue, Helvetica, Arial, sans-serif; font-size:2em;\">An Exception was encountered at '<a href=\"#papermill-error-cell\">In [19]</a>'.</span>"
   ]
  },
  {
   "cell_type": "markdown",
   "id": "622780e6",
   "metadata": {
    "id": "622780e6",
    "papermill": {
     "duration": 0.011117,
     "end_time": "2022-07-27T06:24:25.657162",
     "exception": false,
     "start_time": "2022-07-27T06:24:25.646045",
     "status": "completed"
    },
    "tags": []
   },
   "source": [
    "## Import Libraries "
   ]
  },
  {
   "cell_type": "code",
   "execution_count": 1,
   "id": "a62397e3",
   "metadata": {
    "execution": {
     "iopub.execute_input": "2022-07-27T06:24:25.691305Z",
     "iopub.status.busy": "2022-07-27T06:24:25.688753Z",
     "iopub.status.idle": "2022-07-27T06:24:25.719589Z",
     "shell.execute_reply": "2022-07-27T06:24:25.715920Z"
    },
    "id": "a62397e3",
    "papermill": {
     "duration": 0.055907,
     "end_time": "2022-07-27T06:24:25.724611",
     "exception": false,
     "start_time": "2022-07-27T06:24:25.668704",
     "status": "completed"
    },
    "tags": []
   },
   "outputs": [],
   "source": [
    "import warnings\n",
    "import sys\n",
    "sys.path.insert(0, '../../src')\n",
    "warnings.filterwarnings('ignore')"
   ]
  },
  {
   "cell_type": "code",
   "execution_count": 2,
   "id": "d6a4e155",
   "metadata": {
    "execution": {
     "iopub.execute_input": "2022-07-27T06:24:25.747665Z",
     "iopub.status.busy": "2022-07-27T06:24:25.746988Z",
     "iopub.status.idle": "2022-07-27T06:24:37.728100Z",
     "shell.execute_reply": "2022-07-27T06:24:37.726765Z"
    },
    "id": "d6a4e155",
    "papermill": {
     "duration": 11.997209,
     "end_time": "2022-07-27T06:24:37.731209",
     "exception": false,
     "start_time": "2022-07-27T06:24:25.734000",
     "status": "completed"
    },
    "tags": []
   },
   "outputs": [],
   "source": [
    "import ABC_train_test2\n",
    "import friedman3Dataset\n",
    "import network\n",
    "import dataset\n",
    "import sanityChecks\n",
    "import torch \n",
    "import scrapbook as sb\n",
    "from statistics import mean \n",
    "import catboost as ctb \n",
    "from sklearn.model_selection import train_test_split\n",
    "from sklearn.metrics import mean_squared_error,mean_absolute_error\n",
    "import numpy as np"
   ]
  },
  {
   "cell_type": "markdown",
   "id": "2fa5b0f7",
   "metadata": {
    "id": "2fa5b0f7",
    "papermill": {
     "duration": 0.00848,
     "end_time": "2022-07-27T06:24:37.747510",
     "exception": false,
     "start_time": "2022-07-27T06:24:37.739030",
     "status": "completed"
    },
    "tags": []
   },
   "source": [
    "## Parameters "
   ]
  },
  {
   "cell_type": "code",
   "execution_count": 3,
   "id": "783186fb",
   "metadata": {
    "execution": {
     "iopub.execute_input": "2022-07-27T06:24:37.765400Z",
     "iopub.status.busy": "2022-07-27T06:24:37.765096Z",
     "iopub.status.idle": "2022-07-27T06:24:37.772115Z",
     "shell.execute_reply": "2022-07-27T06:24:37.769875Z"
    },
    "id": "783186fb",
    "papermill": {
     "duration": 0.018801,
     "end_time": "2022-07-27T06:24:37.774606",
     "exception": false,
     "start_time": "2022-07-27T06:24:37.755805",
     "status": "completed"
    },
    "tags": [
     "parameters"
    ]
   },
   "outputs": [],
   "source": [
    "variance = 1\n",
    "bias = 1 "
   ]
  },
  {
   "cell_type": "code",
   "execution_count": 4,
   "id": "64c4a2f7",
   "metadata": {
    "execution": {
     "iopub.execute_input": "2022-07-27T06:24:37.791209Z",
     "iopub.status.busy": "2022-07-27T06:24:37.790832Z",
     "iopub.status.idle": "2022-07-27T06:24:37.795241Z",
     "shell.execute_reply": "2022-07-27T06:24:37.794328Z"
    },
    "papermill": {
     "duration": 0.016082,
     "end_time": "2022-07-27T06:24:37.798129",
     "exception": false,
     "start_time": "2022-07-27T06:24:37.782047",
     "status": "completed"
    },
    "tags": [
     "injected-parameters"
    ]
   },
   "outputs": [],
   "source": [
    "# Parameters\n",
    "variance = 1\n",
    "bias = 1\n"
   ]
  },
  {
   "cell_type": "markdown",
   "id": "391cdbfd",
   "metadata": {
    "id": "391cdbfd",
    "papermill": {
     "duration": 0.006859,
     "end_time": "2022-07-27T06:24:37.812185",
     "exception": false,
     "start_time": "2022-07-27T06:24:37.805326",
     "status": "completed"
    },
    "tags": []
   },
   "source": [
    "## Dataset \n"
   ]
  },
  {
   "cell_type": "code",
   "execution_count": 5,
   "id": "5b51f161",
   "metadata": {
    "execution": {
     "iopub.execute_input": "2022-07-27T06:24:37.826103Z",
     "iopub.status.busy": "2022-07-27T06:24:37.825828Z",
     "iopub.status.idle": "2022-07-27T06:24:37.829272Z",
     "shell.execute_reply": "2022-07-27T06:24:37.828480Z"
    },
    "id": "5b51f161",
    "papermill": {
     "duration": 0.013043,
     "end_time": "2022-07-27T06:24:37.831507",
     "exception": false,
     "start_time": "2022-07-27T06:24:37.818464",
     "status": "completed"
    },
    "tags": []
   },
   "outputs": [],
   "source": [
    "#Parameters \n",
    "n_features = 4\n",
    "n_samples= 100\n",
    "n_target = 1"
   ]
  },
  {
   "cell_type": "code",
   "execution_count": 6,
   "id": "5d6eced4",
   "metadata": {
    "execution": {
     "iopub.execute_input": "2022-07-27T06:24:37.844511Z",
     "iopub.status.busy": "2022-07-27T06:24:37.844257Z",
     "iopub.status.idle": "2022-07-27T06:24:37.864721Z",
     "shell.execute_reply": "2022-07-27T06:24:37.864080Z"
    },
    "id": "5d6eced4",
    "papermill": {
     "duration": 0.029815,
     "end_time": "2022-07-27T06:24:37.867373",
     "exception": false,
     "start_time": "2022-07-27T06:24:37.837558",
     "status": "completed"
    },
    "tags": []
   },
   "outputs": [
    {
     "name": "stdout",
     "output_type": "stream",
     "text": [
      "          X1           X2        X3        X4         Y\n",
      "0  81.014659  1236.741277  0.270313  5.890265  1.263785\n",
      "1  15.944002  1406.753286  0.017748  1.614145  1.076735\n",
      "2  15.803575  1199.481939  0.464741  9.223780  1.507614\n",
      "3  53.237518  1630.512667  0.387106  8.852040  1.549158\n",
      "4  61.230503   947.898027  0.977838  8.173675  1.493114\n"
     ]
    }
   ],
   "source": [
    "X,Y = friedman3Dataset.friedman3_data(n_samples)"
   ]
  },
  {
   "cell_type": "code",
   "execution_count": 7,
   "id": "fe007438",
   "metadata": {
    "execution": {
     "iopub.execute_input": "2022-07-27T06:24:37.886566Z",
     "iopub.status.busy": "2022-07-27T06:24:37.886050Z",
     "iopub.status.idle": "2022-07-27T06:24:37.897560Z",
     "shell.execute_reply": "2022-07-27T06:24:37.896565Z"
    },
    "id": "fe007438",
    "papermill": {
     "duration": 0.025483,
     "end_time": "2022-07-27T06:24:37.900485",
     "exception": false,
     "start_time": "2022-07-27T06:24:37.875002",
     "status": "completed"
    },
    "tags": []
   },
   "outputs": [],
   "source": [
    "#Train test split for dataset \n",
    "X_train,X_test,Y_train,Y_test = train_test_split(X,Y,test_size = 0.2)\n",
    "train_data = dataset.CustomDataset(X_train,Y_train)\n",
    "test_data = dataset.CustomDataset(X_test,Y_test)\n"
   ]
  },
  {
   "cell_type": "markdown",
   "id": "a9a1af34",
   "metadata": {
    "id": "a9a1af34",
    "papermill": {
     "duration": 0.007305,
     "end_time": "2022-07-27T06:24:37.916404",
     "exception": false,
     "start_time": "2022-07-27T06:24:37.909099",
     "status": "completed"
    },
    "tags": []
   },
   "source": [
    "## Training Parameters "
   ]
  },
  {
   "cell_type": "code",
   "execution_count": 8,
   "id": "952b7fc8",
   "metadata": {
    "execution": {
     "iopub.execute_input": "2022-07-27T06:24:37.935547Z",
     "iopub.status.busy": "2022-07-27T06:24:37.935254Z",
     "iopub.status.idle": "2022-07-27T06:24:37.943778Z",
     "shell.execute_reply": "2022-07-27T06:24:37.943022Z"
    },
    "id": "952b7fc8",
    "papermill": {
     "duration": 0.021456,
     "end_time": "2022-07-27T06:24:37.946109",
     "exception": false,
     "start_time": "2022-07-27T06:24:37.924653",
     "status": "completed"
    },
    "tags": []
   },
   "outputs": [],
   "source": [
    "batch_size = 32\n",
    "n_epochs = 1000\n",
    "#Select the device \n",
    "device = torch.device('cuda' if torch.cuda.is_available() else 'cpu')"
   ]
  },
  {
   "cell_type": "markdown",
   "id": "a95e1600",
   "metadata": {
    "id": "a95e1600",
    "papermill": {
     "duration": 0.009057,
     "end_time": "2022-07-27T06:24:37.964767",
     "exception": false,
     "start_time": "2022-07-27T06:24:37.955710",
     "status": "completed"
    },
    "tags": []
   },
   "source": [
    "# ABC Pre-generator Model \n",
    "\n",
    "1. The catboost model is used as a pre-generator model for the ABC-GAN. \n",
    "2. The model is first trained on the entire dataset \n",
    "3. It generats X,Y pairs and we add some Gaussian noise with mean 0 and variance 1 to it which is then feed as input to the generator.\n"
   ]
  },
  {
   "cell_type": "code",
   "execution_count": 9,
   "id": "ff8ce7bd",
   "metadata": {
    "execution": {
     "iopub.execute_input": "2022-07-27T06:24:37.980652Z",
     "iopub.status.busy": "2022-07-27T06:24:37.980095Z",
     "iopub.status.idle": "2022-07-27T06:24:38.869484Z",
     "shell.execute_reply": "2022-07-27T06:24:38.867665Z"
    },
    "id": "ff8ce7bd",
    "papermill": {
     "duration": 0.899729,
     "end_time": "2022-07-27T06:24:38.871689",
     "exception": false,
     "start_time": "2022-07-27T06:24:37.971960",
     "status": "completed"
    },
    "tags": []
   },
   "outputs": [
    {
     "name": "stdout",
     "output_type": "stream",
     "text": [
      "Learning rate set to 0.027471\n"
     ]
    },
    {
     "name": "stdout",
     "output_type": "stream",
     "text": [
      "0:\tlearn: 1.0419402\ttotal: 158ms\tremaining: 2m 37s\n",
      "1:\tlearn: 1.0295874\ttotal: 158ms\tremaining: 1m 19s\n",
      "2:\tlearn: 1.0184443\ttotal: 159ms\tremaining: 52.8s\n",
      "3:\tlearn: 1.0051719\ttotal: 159ms\tremaining: 39.7s\n",
      "4:\tlearn: 0.9881695\ttotal: 160ms\tremaining: 31.9s\n",
      "5:\tlearn: 0.9755095\ttotal: 161ms\tremaining: 26.6s\n",
      "6:\tlearn: 0.9604321\ttotal: 161ms\tremaining: 22.9s\n",
      "7:\tlearn: 0.9459815\ttotal: 162ms\tremaining: 20.1s\n",
      "8:\tlearn: 0.9348829\ttotal: 163ms\tremaining: 17.9s\n",
      "9:\tlearn: 0.9237094\ttotal: 163ms\tremaining: 16.2s\n",
      "10:\tlearn: 0.9141703\ttotal: 164ms\tremaining: 14.7s\n",
      "11:\tlearn: 0.9030261\ttotal: 165ms\tremaining: 13.5s\n",
      "12:\tlearn: 0.8910169\ttotal: 165ms\tremaining: 12.5s\n",
      "13:\tlearn: 0.8785213\ttotal: 166ms\tremaining: 11.7s\n",
      "14:\tlearn: 0.8690069\ttotal: 166ms\tremaining: 10.9s\n",
      "15:\tlearn: 0.8588853\ttotal: 167ms\tremaining: 10.3s\n",
      "16:\tlearn: 0.8490106\ttotal: 168ms\tremaining: 9.69s\n",
      "17:\tlearn: 0.8382003\ttotal: 168ms\tremaining: 9.18s\n",
      "18:\tlearn: 0.8279038\ttotal: 169ms\tremaining: 8.72s\n",
      "19:\tlearn: 0.8177299\ttotal: 170ms\tremaining: 8.31s\n",
      "20:\tlearn: 0.8083577\ttotal: 170ms\tremaining: 7.94s\n",
      "21:\tlearn: 0.7979040\ttotal: 171ms\tremaining: 7.61s\n",
      "22:\tlearn: 0.7886293\ttotal: 172ms\tremaining: 7.29s\n",
      "23:\tlearn: 0.7804635\ttotal: 172ms\tremaining: 7.01s\n",
      "24:\tlearn: 0.7710334\ttotal: 173ms\tremaining: 6.74s\n"
     ]
    },
    {
     "name": "stdout",
     "output_type": "stream",
     "text": [
      "25:\tlearn: 0.7620627\ttotal: 174ms\tremaining: 6.5s\n",
      "26:\tlearn: 0.7544101\ttotal: 174ms\tremaining: 6.28s\n",
      "27:\tlearn: 0.7450926\ttotal: 175ms\tremaining: 6.06s\n",
      "28:\tlearn: 0.7327286\ttotal: 175ms\tremaining: 5.87s\n",
      "29:\tlearn: 0.7239145\ttotal: 176ms\tremaining: 5.68s\n",
      "30:\tlearn: 0.7158537\ttotal: 176ms\tremaining: 5.52s\n",
      "31:\tlearn: 0.7065064\ttotal: 177ms\tremaining: 5.36s\n",
      "32:\tlearn: 0.7004911\ttotal: 178ms\tremaining: 5.21s\n",
      "33:\tlearn: 0.6932264\ttotal: 178ms\tremaining: 5.07s\n",
      "34:\tlearn: 0.6860920\ttotal: 179ms\tremaining: 4.93s\n",
      "35:\tlearn: 0.6772957\ttotal: 179ms\tremaining: 4.8s\n",
      "36:\tlearn: 0.6703838\ttotal: 180ms\tremaining: 4.69s\n",
      "37:\tlearn: 0.6639655\ttotal: 181ms\tremaining: 4.57s\n",
      "38:\tlearn: 0.6568538\ttotal: 181ms\tremaining: 4.46s\n",
      "39:\tlearn: 0.6489866\ttotal: 182ms\tremaining: 4.36s\n",
      "40:\tlearn: 0.6409509\ttotal: 182ms\tremaining: 4.26s\n",
      "41:\tlearn: 0.6344353\ttotal: 183ms\tremaining: 4.17s\n",
      "42:\tlearn: 0.6274448\ttotal: 183ms\tremaining: 4.08s\n",
      "43:\tlearn: 0.6215466\ttotal: 184ms\tremaining: 4s\n",
      "44:\tlearn: 0.6144556\ttotal: 185ms\tremaining: 3.92s\n",
      "45:\tlearn: 0.6084040\ttotal: 185ms\tremaining: 3.84s\n",
      "46:\tlearn: 0.6034319\ttotal: 186ms\tremaining: 3.77s\n",
      "47:\tlearn: 0.5958535\ttotal: 186ms\tremaining: 3.7s\n",
      "48:\tlearn: 0.5908220\ttotal: 187ms\tremaining: 3.63s\n",
      "49:\tlearn: 0.5850248\ttotal: 188ms\tremaining: 3.56s\n",
      "50:\tlearn: 0.5780200\ttotal: 188ms\tremaining: 3.5s\n",
      "51:\tlearn: 0.5707661\ttotal: 189ms\tremaining: 3.45s\n",
      "52:\tlearn: 0.5645167\ttotal: 190ms\tremaining: 3.39s\n",
      "53:\tlearn: 0.5576791\ttotal: 190ms\tremaining: 3.33s\n",
      "54:\tlearn: 0.5510041\ttotal: 191ms\tremaining: 3.28s\n",
      "55:\tlearn: 0.5461757\ttotal: 192ms\tremaining: 3.23s\n",
      "56:\tlearn: 0.5400209\ttotal: 192ms\tremaining: 3.18s\n",
      "57:\tlearn: 0.5345306\ttotal: 193ms\tremaining: 3.13s\n",
      "58:\tlearn: 0.5285476\ttotal: 194ms\tremaining: 3.09s\n",
      "59:\tlearn: 0.5236936\ttotal: 195ms\tremaining: 3.06s\n",
      "60:\tlearn: 0.5194529\ttotal: 196ms\tremaining: 3.02s\n",
      "61:\tlearn: 0.5143325\ttotal: 197ms\tremaining: 2.97s\n",
      "62:\tlearn: 0.5096974\ttotal: 197ms\tremaining: 2.93s\n",
      "63:\tlearn: 0.5053786\ttotal: 198ms\tremaining: 2.89s\n",
      "64:\tlearn: 0.5007556\ttotal: 198ms\tremaining: 2.85s\n",
      "65:\tlearn: 0.4956494\ttotal: 199ms\tremaining: 2.82s\n",
      "66:\tlearn: 0.4911588\ttotal: 200ms\tremaining: 2.78s\n",
      "67:\tlearn: 0.4868409\ttotal: 200ms\tremaining: 2.75s\n",
      "68:\tlearn: 0.4805829\ttotal: 201ms\tremaining: 2.71s\n",
      "69:\tlearn: 0.4766998\ttotal: 202ms\tremaining: 2.68s\n",
      "70:\tlearn: 0.4705531\ttotal: 203ms\tremaining: 2.65s\n",
      "71:\tlearn: 0.4664802\ttotal: 203ms\tremaining: 2.62s\n",
      "72:\tlearn: 0.4628233\ttotal: 204ms\tremaining: 2.59s\n",
      "73:\tlearn: 0.4593179\ttotal: 205ms\tremaining: 2.56s\n",
      "74:\tlearn: 0.4549585\ttotal: 205ms\tremaining: 2.53s\n",
      "75:\tlearn: 0.4502124\ttotal: 206ms\tremaining: 2.5s\n",
      "76:\tlearn: 0.4466499\ttotal: 206ms\tremaining: 2.47s\n",
      "77:\tlearn: 0.4432992\ttotal: 207ms\tremaining: 2.45s\n",
      "78:\tlearn: 0.4394433\ttotal: 224ms\tremaining: 2.6s\n",
      "79:\tlearn: 0.4352052\ttotal: 224ms\tremaining: 2.58s\n",
      "80:\tlearn: 0.4316819\ttotal: 225ms\tremaining: 2.55s\n",
      "81:\tlearn: 0.4264887\ttotal: 225ms\tremaining: 2.52s\n",
      "82:\tlearn: 0.4227474\ttotal: 226ms\tremaining: 2.5s\n",
      "83:\tlearn: 0.4194304\ttotal: 226ms\tremaining: 2.47s\n",
      "84:\tlearn: 0.4161365\ttotal: 227ms\tremaining: 2.44s\n",
      "85:\tlearn: 0.4132285\ttotal: 228ms\tremaining: 2.42s\n",
      "86:\tlearn: 0.4100252\ttotal: 229ms\tremaining: 2.4s\n",
      "87:\tlearn: 0.4072430\ttotal: 229ms\tremaining: 2.37s\n",
      "88:\tlearn: 0.4036707\ttotal: 230ms\tremaining: 2.35s\n",
      "89:\tlearn: 0.4006272\ttotal: 231ms\tremaining: 2.33s\n",
      "90:\tlearn: 0.3976015\ttotal: 231ms\tremaining: 2.31s\n",
      "91:\tlearn: 0.3946329\ttotal: 239ms\tremaining: 2.36s\n",
      "92:\tlearn: 0.3912252\ttotal: 240ms\tremaining: 2.34s\n",
      "93:\tlearn: 0.3880842\ttotal: 240ms\tremaining: 2.31s\n",
      "94:\tlearn: 0.3855669\ttotal: 241ms\tremaining: 2.29s\n",
      "95:\tlearn: 0.3826628\ttotal: 241ms\tremaining: 2.27s\n",
      "96:\tlearn: 0.3796076\ttotal: 242ms\tremaining: 2.25s\n",
      "97:\tlearn: 0.3767624\ttotal: 242ms\tremaining: 2.23s\n",
      "98:\tlearn: 0.3740107\ttotal: 243ms\tremaining: 2.21s\n",
      "99:\tlearn: 0.3712322\ttotal: 243ms\tremaining: 2.19s\n",
      "100:\tlearn: 0.3686037\ttotal: 244ms\tremaining: 2.17s\n",
      "101:\tlearn: 0.3662420\ttotal: 244ms\tremaining: 2.15s\n",
      "102:\tlearn: 0.3638696\ttotal: 245ms\tremaining: 2.13s\n",
      "103:\tlearn: 0.3612395\ttotal: 245ms\tremaining: 2.11s\n",
      "104:\tlearn: 0.3583952\ttotal: 245ms\tremaining: 2.09s\n",
      "105:\tlearn: 0.3561026\ttotal: 246ms\tremaining: 2.07s\n",
      "106:\tlearn: 0.3538528\ttotal: 246ms\tremaining: 2.06s\n",
      "107:\tlearn: 0.3512935\ttotal: 247ms\tremaining: 2.04s\n",
      "108:\tlearn: 0.3484543\ttotal: 247ms\tremaining: 2.02s\n",
      "109:\tlearn: 0.3456250\ttotal: 247ms\tremaining: 2s\n",
      "110:\tlearn: 0.3440176\ttotal: 248ms\tremaining: 1.99s\n",
      "111:\tlearn: 0.3418342\ttotal: 248ms\tremaining: 1.97s\n",
      "112:\tlearn: 0.3398793\ttotal: 249ms\tremaining: 1.96s\n",
      "113:\tlearn: 0.3376924\ttotal: 250ms\tremaining: 1.94s\n",
      "114:\tlearn: 0.3352090\ttotal: 250ms\tremaining: 1.92s\n",
      "115:\tlearn: 0.3330857\ttotal: 250ms\tremaining: 1.91s\n",
      "116:\tlearn: 0.3302602\ttotal: 251ms\tremaining: 1.89s\n",
      "117:\tlearn: 0.3280128\ttotal: 251ms\tremaining: 1.88s\n",
      "118:\tlearn: 0.3261100\ttotal: 255ms\tremaining: 1.88s\n",
      "119:\tlearn: 0.3241340\ttotal: 255ms\tremaining: 1.87s\n",
      "120:\tlearn: 0.3217777\ttotal: 257ms\tremaining: 1.86s\n",
      "121:\tlearn: 0.3204205\ttotal: 257ms\tremaining: 1.85s\n",
      "122:\tlearn: 0.3179899\ttotal: 260ms\tremaining: 1.85s\n"
     ]
    },
    {
     "name": "stdout",
     "output_type": "stream",
     "text": [
      "123:\tlearn: 0.3159593\ttotal: 260ms\tremaining: 1.84s\n",
      "124:\tlearn: 0.3136103\ttotal: 261ms\tremaining: 1.82s\n",
      "125:\tlearn: 0.3118024\ttotal: 261ms\tremaining: 1.81s\n",
      "126:\tlearn: 0.3092706\ttotal: 261ms\tremaining: 1.8s\n",
      "127:\tlearn: 0.3071706\ttotal: 262ms\tremaining: 1.78s\n",
      "128:\tlearn: 0.3050026\ttotal: 263ms\tremaining: 1.78s\n",
      "129:\tlearn: 0.3034340\ttotal: 264ms\tremaining: 1.76s\n",
      "130:\tlearn: 0.3014574\ttotal: 264ms\tremaining: 1.75s\n",
      "131:\tlearn: 0.2987572\ttotal: 265ms\tremaining: 1.74s\n",
      "132:\tlearn: 0.2970225\ttotal: 265ms\tremaining: 1.73s\n",
      "133:\tlearn: 0.2949855\ttotal: 266ms\tremaining: 1.72s\n",
      "134:\tlearn: 0.2929794\ttotal: 266ms\tremaining: 1.71s\n",
      "135:\tlearn: 0.2918529\ttotal: 267ms\tremaining: 1.69s\n",
      "136:\tlearn: 0.2898335\ttotal: 267ms\tremaining: 1.68s\n",
      "137:\tlearn: 0.2885026\ttotal: 268ms\tremaining: 1.67s\n",
      "138:\tlearn: 0.2869308\ttotal: 268ms\tremaining: 1.66s\n",
      "139:\tlearn: 0.2855917\ttotal: 269ms\tremaining: 1.65s\n",
      "140:\tlearn: 0.2841185\ttotal: 269ms\tremaining: 1.64s\n",
      "141:\tlearn: 0.2820765\ttotal: 270ms\tremaining: 1.63s\n",
      "142:\tlearn: 0.2803465\ttotal: 270ms\tremaining: 1.62s\n",
      "143:\tlearn: 0.2787979\ttotal: 270ms\tremaining: 1.61s\n",
      "144:\tlearn: 0.2769360\ttotal: 271ms\tremaining: 1.6s\n",
      "145:\tlearn: 0.2752113\ttotal: 271ms\tremaining: 1.59s\n",
      "146:\tlearn: 0.2739422\ttotal: 272ms\tremaining: 1.58s\n",
      "147:\tlearn: 0.2725587\ttotal: 272ms\tremaining: 1.57s\n",
      "148:\tlearn: 0.2709998\ttotal: 273ms\tremaining: 1.56s\n",
      "149:\tlearn: 0.2693709\ttotal: 273ms\tremaining: 1.55s\n",
      "150:\tlearn: 0.2675485\ttotal: 274ms\tremaining: 1.54s\n",
      "151:\tlearn: 0.2662911\ttotal: 274ms\tremaining: 1.53s\n",
      "152:\tlearn: 0.2646544\ttotal: 275ms\tremaining: 1.52s\n",
      "153:\tlearn: 0.2634084\ttotal: 275ms\tremaining: 1.51s\n",
      "154:\tlearn: 0.2618340\ttotal: 275ms\tremaining: 1.5s\n",
      "155:\tlearn: 0.2602075\ttotal: 276ms\tremaining: 1.49s\n",
      "156:\tlearn: 0.2586451\ttotal: 276ms\tremaining: 1.48s\n",
      "157:\tlearn: 0.2570311\ttotal: 277ms\tremaining: 1.48s\n",
      "158:\tlearn: 0.2553348\ttotal: 277ms\tremaining: 1.47s\n",
      "159:\tlearn: 0.2536811\ttotal: 278ms\tremaining: 1.46s\n",
      "160:\tlearn: 0.2521511\ttotal: 278ms\tremaining: 1.45s\n",
      "161:\tlearn: 0.2508808\ttotal: 279ms\tremaining: 1.44s\n",
      "162:\tlearn: 0.2496458\ttotal: 279ms\tremaining: 1.43s\n",
      "163:\tlearn: 0.2486614\ttotal: 280ms\tremaining: 1.43s\n",
      "164:\tlearn: 0.2475595\ttotal: 280ms\tremaining: 1.42s\n",
      "165:\tlearn: 0.2461008\ttotal: 280ms\tremaining: 1.41s\n",
      "166:\tlearn: 0.2452371\ttotal: 281ms\tremaining: 1.4s\n",
      "167:\tlearn: 0.2440169\ttotal: 281ms\tremaining: 1.39s\n",
      "168:\tlearn: 0.2425461\ttotal: 282ms\tremaining: 1.39s\n",
      "169:\tlearn: 0.2409165\ttotal: 282ms\tremaining: 1.38s\n",
      "170:\tlearn: 0.2391315\ttotal: 283ms\tremaining: 1.37s\n",
      "171:\tlearn: 0.2377080\ttotal: 283ms\tremaining: 1.36s\n",
      "172:\tlearn: 0.2363587\ttotal: 284ms\tremaining: 1.35s\n",
      "173:\tlearn: 0.2350438\ttotal: 284ms\tremaining: 1.35s\n",
      "174:\tlearn: 0.2337334\ttotal: 284ms\tremaining: 1.34s\n",
      "175:\tlearn: 0.2329660\ttotal: 285ms\tremaining: 1.33s\n",
      "176:\tlearn: 0.2317776\ttotal: 285ms\tremaining: 1.32s\n"
     ]
    },
    {
     "name": "stdout",
     "output_type": "stream",
     "text": [
      "177:\tlearn: 0.2303976\ttotal: 289ms\tremaining: 1.33s\n",
      "178:\tlearn: 0.2293596\ttotal: 291ms\tremaining: 1.33s\n",
      "179:\tlearn: 0.2279766\ttotal: 291ms\tremaining: 1.33s\n",
      "180:\tlearn: 0.2266762\ttotal: 292ms\tremaining: 1.32s\n",
      "181:\tlearn: 0.2256870\ttotal: 292ms\tremaining: 1.31s\n",
      "182:\tlearn: 0.2246105\ttotal: 293ms\tremaining: 1.31s\n",
      "183:\tlearn: 0.2237874\ttotal: 294ms\tremaining: 1.3s\n",
      "184:\tlearn: 0.2227398\ttotal: 294ms\tremaining: 1.3s\n",
      "185:\tlearn: 0.2215959\ttotal: 295ms\tremaining: 1.29s\n",
      "186:\tlearn: 0.2202144\ttotal: 296ms\tremaining: 1.28s\n",
      "187:\tlearn: 0.2193376\ttotal: 296ms\tremaining: 1.28s\n",
      "188:\tlearn: 0.2181824\ttotal: 297ms\tremaining: 1.27s\n",
      "189:\tlearn: 0.2170196\ttotal: 297ms\tremaining: 1.27s\n",
      "190:\tlearn: 0.2160194\ttotal: 298ms\tremaining: 1.26s\n",
      "191:\tlearn: 0.2148156\ttotal: 298ms\tremaining: 1.25s\n",
      "192:\tlearn: 0.2136427\ttotal: 299ms\tremaining: 1.25s\n",
      "193:\tlearn: 0.2129389\ttotal: 300ms\tremaining: 1.24s\n",
      "194:\tlearn: 0.2119966\ttotal: 301ms\tremaining: 1.24s\n",
      "195:\tlearn: 0.2109932\ttotal: 302ms\tremaining: 1.24s\n",
      "196:\tlearn: 0.2099052\ttotal: 302ms\tremaining: 1.23s\n",
      "197:\tlearn: 0.2089244\ttotal: 303ms\tremaining: 1.23s\n",
      "198:\tlearn: 0.2080736\ttotal: 303ms\tremaining: 1.22s\n",
      "199:\tlearn: 0.2068773\ttotal: 304ms\tremaining: 1.22s\n",
      "200:\tlearn: 0.2059053\ttotal: 304ms\tremaining: 1.21s\n",
      "201:\tlearn: 0.2051469\ttotal: 305ms\tremaining: 1.2s\n",
      "202:\tlearn: 0.2041254\ttotal: 305ms\tremaining: 1.2s\n",
      "203:\tlearn: 0.2030507\ttotal: 306ms\tremaining: 1.19s\n",
      "204:\tlearn: 0.2022442\ttotal: 306ms\tremaining: 1.19s\n",
      "205:\tlearn: 0.2011801\ttotal: 307ms\tremaining: 1.18s\n",
      "206:\tlearn: 0.2003405\ttotal: 308ms\tremaining: 1.18s\n",
      "207:\tlearn: 0.1992763\ttotal: 310ms\tremaining: 1.18s\n",
      "208:\tlearn: 0.1982654\ttotal: 311ms\tremaining: 1.18s\n",
      "209:\tlearn: 0.1970899\ttotal: 311ms\tremaining: 1.17s\n",
      "210:\tlearn: 0.1963520\ttotal: 312ms\tremaining: 1.17s\n",
      "211:\tlearn: 0.1954516\ttotal: 313ms\tremaining: 1.16s\n",
      "212:\tlearn: 0.1946928\ttotal: 313ms\tremaining: 1.16s\n",
      "213:\tlearn: 0.1938689\ttotal: 314ms\tremaining: 1.15s\n",
      "214:\tlearn: 0.1928657\ttotal: 314ms\tremaining: 1.15s\n",
      "215:\tlearn: 0.1921418\ttotal: 315ms\tremaining: 1.14s\n",
      "216:\tlearn: 0.1914078\ttotal: 317ms\tremaining: 1.15s\n",
      "217:\tlearn: 0.1907393\ttotal: 318ms\tremaining: 1.14s\n",
      "218:\tlearn: 0.1899234\ttotal: 320ms\tremaining: 1.14s\n",
      "219:\tlearn: 0.1891394\ttotal: 320ms\tremaining: 1.14s\n",
      "220:\tlearn: 0.1882633\ttotal: 321ms\tremaining: 1.13s\n",
      "221:\tlearn: 0.1875761\ttotal: 322ms\tremaining: 1.13s\n",
      "222:\tlearn: 0.1865415\ttotal: 323ms\tremaining: 1.12s\n",
      "223:\tlearn: 0.1855170\ttotal: 323ms\tremaining: 1.12s\n",
      "224:\tlearn: 0.1847700\ttotal: 323ms\tremaining: 1.11s\n",
      "225:\tlearn: 0.1840513\ttotal: 324ms\tremaining: 1.11s\n",
      "226:\tlearn: 0.1830185\ttotal: 324ms\tremaining: 1.1s\n",
      "227:\tlearn: 0.1821598\ttotal: 325ms\tremaining: 1.1s\n",
      "228:\tlearn: 0.1813700\ttotal: 325ms\tremaining: 1.09s\n",
      "229:\tlearn: 0.1804558\ttotal: 326ms\tremaining: 1.09s\n",
      "230:\tlearn: 0.1796678\ttotal: 326ms\tremaining: 1.08s\n",
      "231:\tlearn: 0.1787391\ttotal: 327ms\tremaining: 1.08s\n",
      "232:\tlearn: 0.1780606\ttotal: 327ms\tremaining: 1.08s\n",
      "233:\tlearn: 0.1773955\ttotal: 327ms\tremaining: 1.07s\n",
      "234:\tlearn: 0.1764166\ttotal: 328ms\tremaining: 1.07s\n",
      "235:\tlearn: 0.1757654\ttotal: 328ms\tremaining: 1.06s\n",
      "236:\tlearn: 0.1749570\ttotal: 329ms\tremaining: 1.06s\n",
      "237:\tlearn: 0.1743810\ttotal: 329ms\tremaining: 1.05s\n",
      "238:\tlearn: 0.1735207\ttotal: 330ms\tremaining: 1.05s\n",
      "239:\tlearn: 0.1724822\ttotal: 330ms\tremaining: 1.04s\n",
      "240:\tlearn: 0.1715473\ttotal: 330ms\tremaining: 1.04s\n",
      "241:\tlearn: 0.1709653\ttotal: 331ms\tremaining: 1.03s\n",
      "242:\tlearn: 0.1703206\ttotal: 331ms\tremaining: 1.03s\n",
      "243:\tlearn: 0.1696551\ttotal: 331ms\tremaining: 1.03s\n",
      "244:\tlearn: 0.1689029\ttotal: 332ms\tremaining: 1.02s\n",
      "245:\tlearn: 0.1684287\ttotal: 332ms\tremaining: 1.02s\n",
      "246:\tlearn: 0.1679347\ttotal: 333ms\tremaining: 1.01s\n",
      "247:\tlearn: 0.1674847\ttotal: 333ms\tremaining: 1.01s\n",
      "248:\tlearn: 0.1667025\ttotal: 333ms\tremaining: 1s\n",
      "249:\tlearn: 0.1661986\ttotal: 334ms\tremaining: 1s\n",
      "250:\tlearn: 0.1655932\ttotal: 334ms\tremaining: 997ms\n",
      "251:\tlearn: 0.1647715\ttotal: 334ms\tremaining: 992ms\n",
      "252:\tlearn: 0.1638440\ttotal: 335ms\tremaining: 989ms\n",
      "253:\tlearn: 0.1630771\ttotal: 335ms\tremaining: 985ms\n",
      "254:\tlearn: 0.1625580\ttotal: 336ms\tremaining: 980ms\n",
      "255:\tlearn: 0.1619042\ttotal: 336ms\tremaining: 977ms\n",
      "256:\tlearn: 0.1612949\ttotal: 337ms\tremaining: 973ms\n",
      "257:\tlearn: 0.1602945\ttotal: 337ms\tremaining: 969ms\n",
      "258:\tlearn: 0.1597922\ttotal: 337ms\tremaining: 966ms\n",
      "259:\tlearn: 0.1593405\ttotal: 338ms\tremaining: 962ms\n",
      "260:\tlearn: 0.1586997\ttotal: 338ms\tremaining: 958ms\n",
      "261:\tlearn: 0.1582039\ttotal: 339ms\tremaining: 954ms\n",
      "262:\tlearn: 0.1575443\ttotal: 339ms\tremaining: 951ms\n",
      "263:\tlearn: 0.1570095\ttotal: 340ms\tremaining: 947ms\n",
      "264:\tlearn: 0.1565381\ttotal: 340ms\tremaining: 943ms\n",
      "265:\tlearn: 0.1562345\ttotal: 340ms\tremaining: 939ms\n",
      "266:\tlearn: 0.1556953\ttotal: 341ms\tremaining: 936ms\n",
      "267:\tlearn: 0.1550343\ttotal: 341ms\tremaining: 932ms\n",
      "268:\tlearn: 0.1542377\ttotal: 342ms\tremaining: 928ms\n",
      "269:\tlearn: 0.1534589\ttotal: 342ms\tremaining: 925ms\n",
      "270:\tlearn: 0.1529983\ttotal: 343ms\tremaining: 921ms\n",
      "271:\tlearn: 0.1525414\ttotal: 343ms\tremaining: 918ms\n",
      "272:\tlearn: 0.1518961\ttotal: 343ms\tremaining: 914ms\n",
      "273:\tlearn: 0.1512491\ttotal: 343ms\tremaining: 910ms\n",
      "274:\tlearn: 0.1505996\ttotal: 344ms\tremaining: 906ms\n",
      "275:\tlearn: 0.1502745\ttotal: 344ms\tremaining: 903ms\n",
      "276:\tlearn: 0.1498486\ttotal: 345ms\tremaining: 899ms\n",
      "277:\tlearn: 0.1493044\ttotal: 345ms\tremaining: 896ms\n",
      "278:\tlearn: 0.1486298\ttotal: 346ms\tremaining: 893ms\n",
      "279:\tlearn: 0.1481648\ttotal: 346ms\tremaining: 890ms\n",
      "280:\tlearn: 0.1474781\ttotal: 346ms\tremaining: 886ms\n",
      "281:\tlearn: 0.1469027\ttotal: 347ms\tremaining: 883ms\n",
      "282:\tlearn: 0.1464308\ttotal: 347ms\tremaining: 880ms\n",
      "283:\tlearn: 0.1460496\ttotal: 348ms\tremaining: 877ms\n",
      "284:\tlearn: 0.1455587\ttotal: 348ms\tremaining: 873ms\n",
      "285:\tlearn: 0.1450527\ttotal: 349ms\tremaining: 870ms\n",
      "286:\tlearn: 0.1443039\ttotal: 349ms\tremaining: 867ms\n",
      "287:\tlearn: 0.1439002\ttotal: 349ms\tremaining: 864ms\n",
      "288:\tlearn: 0.1430190\ttotal: 350ms\tremaining: 861ms\n",
      "289:\tlearn: 0.1426283\ttotal: 350ms\tremaining: 858ms\n",
      "290:\tlearn: 0.1420463\ttotal: 351ms\tremaining: 855ms\n",
      "291:\tlearn: 0.1416856\ttotal: 351ms\tremaining: 852ms\n",
      "292:\tlearn: 0.1410875\ttotal: 352ms\tremaining: 849ms\n",
      "293:\tlearn: 0.1407328\ttotal: 352ms\tremaining: 846ms\n",
      "294:\tlearn: 0.1399592\ttotal: 353ms\tremaining: 843ms\n",
      "295:\tlearn: 0.1396126\ttotal: 353ms\tremaining: 840ms\n",
      "296:\tlearn: 0.1391244\ttotal: 354ms\tremaining: 837ms\n",
      "297:\tlearn: 0.1387393\ttotal: 354ms\tremaining: 834ms\n",
      "298:\tlearn: 0.1382415\ttotal: 354ms\tremaining: 831ms\n",
      "299:\tlearn: 0.1379659\ttotal: 355ms\tremaining: 827ms\n",
      "300:\tlearn: 0.1374987\ttotal: 355ms\tremaining: 825ms\n",
      "301:\tlearn: 0.1371771\ttotal: 356ms\tremaining: 822ms\n",
      "302:\tlearn: 0.1363657\ttotal: 356ms\tremaining: 819ms\n",
      "303:\tlearn: 0.1356711\ttotal: 356ms\tremaining: 816ms\n",
      "304:\tlearn: 0.1353465\ttotal: 356ms\tremaining: 812ms\n",
      "305:\tlearn: 0.1350134\ttotal: 357ms\tremaining: 810ms\n",
      "306:\tlearn: 0.1342408\ttotal: 358ms\tremaining: 808ms\n",
      "307:\tlearn: 0.1339285\ttotal: 358ms\tremaining: 805ms\n",
      "308:\tlearn: 0.1336197\ttotal: 359ms\tremaining: 802ms\n",
      "309:\tlearn: 0.1330395\ttotal: 359ms\tremaining: 799ms\n",
      "310:\tlearn: 0.1327406\ttotal: 359ms\tremaining: 796ms\n",
      "311:\tlearn: 0.1324071\ttotal: 360ms\tremaining: 794ms\n",
      "312:\tlearn: 0.1320539\ttotal: 360ms\tremaining: 790ms\n",
      "313:\tlearn: 0.1317060\ttotal: 361ms\tremaining: 788ms\n",
      "314:\tlearn: 0.1314138\ttotal: 361ms\tremaining: 785ms\n",
      "315:\tlearn: 0.1309004\ttotal: 361ms\tremaining: 782ms\n",
      "316:\tlearn: 0.1306148\ttotal: 362ms\tremaining: 779ms\n",
      "317:\tlearn: 0.1303190\ttotal: 362ms\tremaining: 776ms\n",
      "318:\tlearn: 0.1298293\ttotal: 362ms\tremaining: 773ms\n",
      "319:\tlearn: 0.1295481\ttotal: 363ms\tremaining: 771ms\n",
      "320:\tlearn: 0.1292993\ttotal: 363ms\tremaining: 768ms\n",
      "321:\tlearn: 0.1287950\ttotal: 364ms\tremaining: 765ms\n",
      "322:\tlearn: 0.1285621\ttotal: 364ms\tremaining: 763ms\n",
      "323:\tlearn: 0.1283071\ttotal: 364ms\tremaining: 760ms\n",
      "324:\tlearn: 0.1280415\ttotal: 365ms\tremaining: 757ms\n",
      "325:\tlearn: 0.1275803\ttotal: 365ms\tremaining: 755ms\n",
      "326:\tlearn: 0.1273005\ttotal: 365ms\tremaining: 752ms\n",
      "327:\tlearn: 0.1270594\ttotal: 366ms\tremaining: 750ms\n",
      "328:\tlearn: 0.1266144\ttotal: 366ms\tremaining: 747ms\n",
      "329:\tlearn: 0.1263451\ttotal: 367ms\tremaining: 744ms\n",
      "330:\tlearn: 0.1259119\ttotal: 367ms\tremaining: 742ms\n",
      "331:\tlearn: 0.1256442\ttotal: 368ms\tremaining: 740ms\n",
      "332:\tlearn: 0.1254017\ttotal: 368ms\tremaining: 738ms\n",
      "333:\tlearn: 0.1251401\ttotal: 369ms\tremaining: 735ms\n",
      "334:\tlearn: 0.1248834\ttotal: 369ms\tremaining: 733ms\n",
      "335:\tlearn: 0.1245331\ttotal: 369ms\tremaining: 730ms\n",
      "336:\tlearn: 0.1242873\ttotal: 370ms\tremaining: 727ms\n",
      "337:\tlearn: 0.1239560\ttotal: 370ms\tremaining: 725ms\n",
      "338:\tlearn: 0.1235602\ttotal: 370ms\tremaining: 722ms\n",
      "339:\tlearn: 0.1233170\ttotal: 371ms\tremaining: 720ms\n",
      "340:\tlearn: 0.1230778\ttotal: 371ms\tremaining: 717ms\n",
      "341:\tlearn: 0.1228230\ttotal: 371ms\tremaining: 715ms\n",
      "342:\tlearn: 0.1223558\ttotal: 372ms\tremaining: 713ms\n",
      "343:\tlearn: 0.1220336\ttotal: 372ms\tremaining: 710ms\n",
      "344:\tlearn: 0.1218061\ttotal: 373ms\tremaining: 708ms\n",
      "345:\tlearn: 0.1215634\ttotal: 373ms\tremaining: 705ms\n",
      "346:\tlearn: 0.1213001\ttotal: 373ms\tremaining: 703ms\n",
      "347:\tlearn: 0.1210851\ttotal: 374ms\tremaining: 700ms\n",
      "348:\tlearn: 0.1208303\ttotal: 374ms\tremaining: 698ms\n",
      "349:\tlearn: 0.1206414\ttotal: 375ms\tremaining: 696ms\n",
      "350:\tlearn: 0.1204562\ttotal: 375ms\tremaining: 693ms\n",
      "351:\tlearn: 0.1202739\ttotal: 376ms\tremaining: 691ms\n",
      "352:\tlearn: 0.1200080\ttotal: 376ms\tremaining: 689ms\n",
      "353:\tlearn: 0.1198295\ttotal: 376ms\tremaining: 686ms\n",
      "354:\tlearn: 0.1192016\ttotal: 377ms\tremaining: 684ms\n",
      "355:\tlearn: 0.1188162\ttotal: 377ms\tremaining: 682ms\n",
      "356:\tlearn: 0.1186011\ttotal: 377ms\tremaining: 679ms\n",
      "357:\tlearn: 0.1179921\ttotal: 378ms\tremaining: 677ms\n",
      "358:\tlearn: 0.1177176\ttotal: 378ms\tremaining: 675ms\n",
      "359:\tlearn: 0.1174509\ttotal: 378ms\tremaining: 673ms\n",
      "360:\tlearn: 0.1168303\ttotal: 379ms\tremaining: 670ms\n",
      "361:\tlearn: 0.1164418\ttotal: 379ms\tremaining: 668ms\n",
      "362:\tlearn: 0.1161312\ttotal: 380ms\tremaining: 666ms\n",
      "363:\tlearn: 0.1155549\ttotal: 380ms\tremaining: 664ms\n",
      "364:\tlearn: 0.1152516\ttotal: 380ms\tremaining: 662ms\n",
      "365:\tlearn: 0.1149529\ttotal: 381ms\tremaining: 659ms\n",
      "366:\tlearn: 0.1145833\ttotal: 381ms\tremaining: 657ms\n",
      "367:\tlearn: 0.1142919\ttotal: 382ms\tremaining: 655ms\n",
      "368:\tlearn: 0.1140195\ttotal: 382ms\tremaining: 653ms\n",
      "369:\tlearn: 0.1137407\ttotal: 382ms\tremaining: 651ms\n",
      "370:\tlearn: 0.1135376\ttotal: 383ms\tremaining: 649ms\n",
      "371:\tlearn: 0.1132670\ttotal: 383ms\tremaining: 647ms\n",
      "372:\tlearn: 0.1126580\ttotal: 384ms\tremaining: 645ms\n",
      "373:\tlearn: 0.1123658\ttotal: 384ms\tremaining: 643ms\n",
      "374:\tlearn: 0.1117706\ttotal: 384ms\tremaining: 641ms\n",
      "375:\tlearn: 0.1115162\ttotal: 385ms\tremaining: 638ms\n",
      "376:\tlearn: 0.1111976\ttotal: 385ms\tremaining: 636ms\n",
      "377:\tlearn: 0.1106990\ttotal: 385ms\tremaining: 634ms\n",
      "378:\tlearn: 0.1105354\ttotal: 386ms\tremaining: 632ms\n",
      "379:\tlearn: 0.1103747\ttotal: 386ms\tremaining: 630ms\n",
      "380:\tlearn: 0.1099287\ttotal: 387ms\tremaining: 628ms\n",
      "381:\tlearn: 0.1097722\ttotal: 387ms\tremaining: 626ms\n",
      "382:\tlearn: 0.1091218\ttotal: 388ms\tremaining: 624ms\n",
      "383:\tlearn: 0.1088796\ttotal: 388ms\tremaining: 622ms\n",
      "384:\tlearn: 0.1087280\ttotal: 388ms\tremaining: 620ms\n",
      "385:\tlearn: 0.1085489\ttotal: 389ms\tremaining: 618ms\n",
      "386:\tlearn: 0.1082833\ttotal: 389ms\tremaining: 616ms\n",
      "387:\tlearn: 0.1081087\ttotal: 390ms\tremaining: 614ms\n",
      "388:\tlearn: 0.1074779\ttotal: 390ms\tremaining: 612ms\n",
      "389:\tlearn: 0.1073383\ttotal: 390ms\tremaining: 611ms\n",
      "390:\tlearn: 0.1070841\ttotal: 391ms\tremaining: 609ms\n",
      "391:\tlearn: 0.1064698\ttotal: 391ms\tremaining: 607ms\n",
      "392:\tlearn: 0.1063343\ttotal: 392ms\tremaining: 605ms\n",
      "393:\tlearn: 0.1062012\ttotal: 392ms\tremaining: 603ms\n",
      "394:\tlearn: 0.1060374\ttotal: 392ms\tremaining: 601ms\n",
      "395:\tlearn: 0.1054379\ttotal: 393ms\tremaining: 599ms\n",
      "396:\tlearn: 0.1053091\ttotal: 393ms\tremaining: 597ms\n",
      "397:\tlearn: 0.1050143\ttotal: 394ms\tremaining: 595ms\n",
      "398:\tlearn: 0.1048847\ttotal: 394ms\tremaining: 593ms\n",
      "399:\tlearn: 0.1043009\ttotal: 394ms\tremaining: 592ms\n",
      "400:\tlearn: 0.1041775\ttotal: 395ms\tremaining: 590ms\n",
      "401:\tlearn: 0.1039457\ttotal: 395ms\tremaining: 588ms\n",
      "402:\tlearn: 0.1033770\ttotal: 396ms\tremaining: 586ms\n",
      "403:\tlearn: 0.1032565\ttotal: 396ms\tremaining: 584ms\n",
      "404:\tlearn: 0.1031381\ttotal: 397ms\tremaining: 583ms\n",
      "405:\tlearn: 0.1030218\ttotal: 397ms\tremaining: 581ms\n",
      "406:\tlearn: 0.1028736\ttotal: 397ms\tremaining: 579ms\n",
      "407:\tlearn: 0.1023844\ttotal: 398ms\tremaining: 577ms\n",
      "408:\tlearn: 0.1022714\ttotal: 398ms\tremaining: 575ms\n",
      "409:\tlearn: 0.1017929\ttotal: 399ms\tremaining: 574ms\n",
      "410:\tlearn: 0.1015780\ttotal: 399ms\tremaining: 572ms\n",
      "411:\tlearn: 0.1011119\ttotal: 399ms\tremaining: 570ms\n",
      "412:\tlearn: 0.1009988\ttotal: 400ms\tremaining: 568ms\n",
      "413:\tlearn: 0.1006197\ttotal: 400ms\tremaining: 566ms\n",
      "414:\tlearn: 0.1005089\ttotal: 401ms\tremaining: 565ms\n",
      "415:\tlearn: 0.1003702\ttotal: 401ms\tremaining: 563ms\n",
      "416:\tlearn: 0.0999203\ttotal: 401ms\tremaining: 561ms\n",
      "417:\tlearn: 0.0997843\ttotal: 402ms\tremaining: 559ms\n",
      "418:\tlearn: 0.0994198\ttotal: 402ms\tremaining: 557ms\n",
      "419:\tlearn: 0.0993139\ttotal: 402ms\tremaining: 556ms\n",
      "420:\tlearn: 0.0991127\ttotal: 403ms\tremaining: 554ms\n",
      "421:\tlearn: 0.0985967\ttotal: 403ms\tremaining: 552ms\n",
      "422:\tlearn: 0.0984961\ttotal: 403ms\tremaining: 550ms\n",
      "423:\tlearn: 0.0983948\ttotal: 404ms\tremaining: 549ms\n",
      "424:\tlearn: 0.0981290\ttotal: 404ms\tremaining: 547ms\n",
      "425:\tlearn: 0.0977043\ttotal: 405ms\tremaining: 545ms\n",
      "426:\tlearn: 0.0976045\ttotal: 405ms\tremaining: 544ms\n",
      "427:\tlearn: 0.0975089\ttotal: 405ms\tremaining: 542ms\n",
      "428:\tlearn: 0.0971639\ttotal: 406ms\tremaining: 540ms\n",
      "429:\tlearn: 0.0969743\ttotal: 407ms\tremaining: 540ms\n",
      "430:\tlearn: 0.0968864\ttotal: 408ms\tremaining: 538ms\n",
      "431:\tlearn: 0.0967850\ttotal: 408ms\tremaining: 537ms\n",
      "432:\tlearn: 0.0966913\ttotal: 409ms\tremaining: 535ms\n",
      "433:\tlearn: 0.0963536\ttotal: 409ms\tremaining: 533ms\n",
      "434:\tlearn: 0.0962686\ttotal: 410ms\tremaining: 532ms\n",
      "435:\tlearn: 0.0961676\ttotal: 410ms\tremaining: 530ms\n",
      "436:\tlearn: 0.0960839\ttotal: 410ms\tremaining: 529ms\n",
      "437:\tlearn: 0.0955972\ttotal: 411ms\tremaining: 527ms\n",
      "438:\tlearn: 0.0954985\ttotal: 411ms\tremaining: 525ms\n",
      "439:\tlearn: 0.0954039\ttotal: 411ms\tremaining: 524ms\n",
      "440:\tlearn: 0.0950764\ttotal: 412ms\tremaining: 522ms\n",
      "441:\tlearn: 0.0949807\ttotal: 412ms\tremaining: 520ms\n",
      "442:\tlearn: 0.0946779\ttotal: 413ms\tremaining: 519ms\n",
      "443:\tlearn: 0.0942870\ttotal: 413ms\tremaining: 517ms\n",
      "444:\tlearn: 0.0941572\ttotal: 413ms\tremaining: 515ms\n",
      "445:\tlearn: 0.0938919\ttotal: 414ms\tremaining: 514ms\n",
      "446:\tlearn: 0.0937981\ttotal: 414ms\tremaining: 512ms\n",
      "447:\tlearn: 0.0936731\ttotal: 415ms\tremaining: 511ms\n",
      "448:\tlearn: 0.0935812\ttotal: 415ms\tremaining: 509ms\n",
      "449:\tlearn: 0.0932390\ttotal: 415ms\tremaining: 508ms\n",
      "450:\tlearn: 0.0931174\ttotal: 416ms\tremaining: 506ms\n",
      "451:\tlearn: 0.0927832\ttotal: 416ms\tremaining: 505ms\n",
      "452:\tlearn: 0.0924709\ttotal: 417ms\tremaining: 503ms\n",
      "453:\tlearn: 0.0923933\ttotal: 417ms\tremaining: 502ms\n",
      "454:\tlearn: 0.0921407\ttotal: 417ms\tremaining: 500ms\n",
      "455:\tlearn: 0.0920242\ttotal: 418ms\tremaining: 499ms\n",
      "456:\tlearn: 0.0916988\ttotal: 418ms\tremaining: 497ms\n",
      "457:\tlearn: 0.0916113\ttotal: 419ms\tremaining: 495ms\n",
      "458:\tlearn: 0.0915250\ttotal: 419ms\tremaining: 494ms\n",
      "459:\tlearn: 0.0913166\ttotal: 419ms\tremaining: 492ms\n",
      "460:\tlearn: 0.0909988\ttotal: 420ms\tremaining: 491ms\n"
     ]
    },
    {
     "name": "stdout",
     "output_type": "stream",
     "text": [
      "461:\tlearn: 0.0906973\ttotal: 420ms\tremaining: 489ms\n",
      "462:\tlearn: 0.0904717\ttotal: 421ms\tremaining: 488ms\n",
      "463:\tlearn: 0.0902734\ttotal: 421ms\tremaining: 487ms\n",
      "464:\tlearn: 0.0899836\ttotal: 422ms\tremaining: 485ms\n",
      "465:\tlearn: 0.0897681\ttotal: 422ms\tremaining: 484ms\n",
      "466:\tlearn: 0.0894370\ttotal: 423ms\tremaining: 482ms\n",
      "467:\tlearn: 0.0893189\ttotal: 423ms\tremaining: 481ms\n",
      "468:\tlearn: 0.0890390\ttotal: 423ms\tremaining: 479ms\n",
      "469:\tlearn: 0.0888297\ttotal: 424ms\tremaining: 478ms\n",
      "470:\tlearn: 0.0885595\ttotal: 424ms\tremaining: 476ms\n",
      "471:\tlearn: 0.0884607\ttotal: 424ms\tremaining: 475ms\n",
      "472:\tlearn: 0.0883640\ttotal: 425ms\tremaining: 473ms\n",
      "473:\tlearn: 0.0881029\ttotal: 425ms\tremaining: 472ms\n",
      "474:\tlearn: 0.0877962\ttotal: 425ms\tremaining: 470ms\n",
      "475:\tlearn: 0.0877176\ttotal: 426ms\tremaining: 469ms\n",
      "476:\tlearn: 0.0876405\ttotal: 426ms\tremaining: 467ms\n",
      "477:\tlearn: 0.0873180\ttotal: 427ms\tremaining: 466ms\n",
      "478:\tlearn: 0.0872421\ttotal: 427ms\tremaining: 465ms\n",
      "479:\tlearn: 0.0870911\ttotal: 428ms\tremaining: 463ms\n",
      "480:\tlearn: 0.0870167\ttotal: 428ms\tremaining: 462ms\n",
      "481:\tlearn: 0.0869434\ttotal: 428ms\tremaining: 460ms\n",
      "482:\tlearn: 0.0866479\ttotal: 429ms\tremaining: 459ms\n",
      "483:\tlearn: 0.0863939\ttotal: 429ms\tremaining: 457ms\n",
      "484:\tlearn: 0.0862461\ttotal: 429ms\tremaining: 456ms\n",
      "485:\tlearn: 0.0861732\ttotal: 430ms\tremaining: 454ms\n",
      "486:\tlearn: 0.0860273\ttotal: 430ms\tremaining: 453ms\n",
      "487:\tlearn: 0.0859553\ttotal: 430ms\tremaining: 451ms\n",
      "488:\tlearn: 0.0858841\ttotal: 431ms\tremaining: 450ms\n",
      "489:\tlearn: 0.0857400\ttotal: 431ms\tremaining: 449ms\n",
      "490:\tlearn: 0.0856696\ttotal: 431ms\tremaining: 447ms\n",
      "491:\tlearn: 0.0855831\ttotal: 432ms\tremaining: 446ms\n",
      "492:\tlearn: 0.0855137\ttotal: 432ms\tremaining: 444ms\n",
      "493:\tlearn: 0.0852403\ttotal: 432ms\tremaining: 443ms\n",
      "494:\tlearn: 0.0851556\ttotal: 433ms\tremaining: 442ms\n",
      "495:\tlearn: 0.0850861\ttotal: 433ms\tremaining: 440ms\n",
      "496:\tlearn: 0.0850123\ttotal: 434ms\tremaining: 439ms\n",
      "497:\tlearn: 0.0847440\ttotal: 434ms\tremaining: 438ms\n",
      "498:\tlearn: 0.0846621\ttotal: 434ms\tremaining: 436ms\n",
      "499:\tlearn: 0.0845786\ttotal: 435ms\tremaining: 435ms\n",
      "500:\tlearn: 0.0845112\ttotal: 435ms\tremaining: 433ms\n",
      "501:\tlearn: 0.0844392\ttotal: 436ms\tremaining: 432ms\n",
      "502:\tlearn: 0.0843731\ttotal: 436ms\tremaining: 431ms\n",
      "503:\tlearn: 0.0841189\ttotal: 436ms\tremaining: 429ms\n",
      "504:\tlearn: 0.0837458\ttotal: 437ms\tremaining: 428ms\n",
      "505:\tlearn: 0.0836652\ttotal: 437ms\tremaining: 427ms\n",
      "506:\tlearn: 0.0833708\ttotal: 438ms\tremaining: 425ms\n",
      "507:\tlearn: 0.0829731\ttotal: 438ms\tremaining: 424ms\n",
      "508:\tlearn: 0.0827360\ttotal: 438ms\tremaining: 423ms\n",
      "509:\tlearn: 0.0826770\ttotal: 439ms\tremaining: 421ms\n",
      "510:\tlearn: 0.0826192\ttotal: 439ms\tremaining: 420ms\n",
      "511:\tlearn: 0.0825506\ttotal: 439ms\tremaining: 419ms\n",
      "512:\tlearn: 0.0823093\ttotal: 440ms\tremaining: 418ms\n",
      "513:\tlearn: 0.0820357\ttotal: 440ms\tremaining: 416ms\n",
      "514:\tlearn: 0.0817217\ttotal: 441ms\tremaining: 415ms\n",
      "515:\tlearn: 0.0814437\ttotal: 441ms\tremaining: 414ms\n",
      "516:\tlearn: 0.0811985\ttotal: 441ms\tremaining: 412ms\n",
      "517:\tlearn: 0.0811350\ttotal: 442ms\tremaining: 411ms\n",
      "518:\tlearn: 0.0810423\ttotal: 442ms\tremaining: 410ms\n",
      "519:\tlearn: 0.0806483\ttotal: 443ms\tremaining: 409ms\n",
      "520:\tlearn: 0.0804108\ttotal: 443ms\tremaining: 407ms\n",
      "521:\tlearn: 0.0801811\ttotal: 444ms\tremaining: 406ms\n",
      "522:\tlearn: 0.0801185\ttotal: 444ms\tremaining: 405ms\n",
      "523:\tlearn: 0.0800291\ttotal: 444ms\tremaining: 404ms\n",
      "524:\tlearn: 0.0795372\ttotal: 445ms\tremaining: 402ms\n",
      "525:\tlearn: 0.0793348\ttotal: 445ms\tremaining: 401ms\n",
      "526:\tlearn: 0.0790787\ttotal: 445ms\tremaining: 400ms\n",
      "527:\tlearn: 0.0786006\ttotal: 446ms\tremaining: 399ms\n",
      "528:\tlearn: 0.0785149\ttotal: 446ms\tremaining: 397ms\n"
     ]
    },
    {
     "name": "stdout",
     "output_type": "stream",
     "text": [
      "529:\tlearn: 0.0784301\ttotal: 448ms\tremaining: 397ms\n",
      "530:\tlearn: 0.0779638\ttotal: 448ms\tremaining: 396ms\n",
      "531:\tlearn: 0.0779086\ttotal: 449ms\tremaining: 395ms\n",
      "532:\tlearn: 0.0778543\ttotal: 449ms\tremaining: 394ms\n",
      "533:\tlearn: 0.0773992\ttotal: 450ms\tremaining: 392ms\n",
      "534:\tlearn: 0.0773041\ttotal: 450ms\tremaining: 391ms\n",
      "535:\tlearn: 0.0772113\ttotal: 450ms\tremaining: 390ms\n",
      "536:\tlearn: 0.0771209\ttotal: 451ms\tremaining: 389ms\n",
      "537:\tlearn: 0.0770812\ttotal: 451ms\tremaining: 387ms\n",
      "538:\tlearn: 0.0768627\ttotal: 452ms\tremaining: 386ms\n",
      "539:\tlearn: 0.0766744\ttotal: 452ms\tremaining: 385ms\n",
      "540:\tlearn: 0.0765228\ttotal: 452ms\tremaining: 384ms\n",
      "541:\tlearn: 0.0764729\ttotal: 453ms\tremaining: 383ms\n",
      "542:\tlearn: 0.0760927\ttotal: 453ms\tremaining: 381ms\n",
      "543:\tlearn: 0.0759122\ttotal: 454ms\tremaining: 380ms\n",
      "544:\tlearn: 0.0757364\ttotal: 454ms\tremaining: 379ms\n",
      "545:\tlearn: 0.0755652\ttotal: 455ms\tremaining: 378ms\n",
      "546:\tlearn: 0.0752938\ttotal: 455ms\tremaining: 377ms\n",
      "547:\tlearn: 0.0751008\ttotal: 455ms\tremaining: 376ms\n",
      "548:\tlearn: 0.0749570\ttotal: 456ms\tremaining: 374ms\n",
      "549:\tlearn: 0.0747258\ttotal: 456ms\tremaining: 373ms\n",
      "550:\tlearn: 0.0742619\ttotal: 457ms\tremaining: 372ms\n",
      "551:\tlearn: 0.0740997\ttotal: 457ms\tremaining: 371ms\n",
      "552:\tlearn: 0.0738376\ttotal: 457ms\tremaining: 370ms\n",
      "553:\tlearn: 0.0736541\ttotal: 458ms\tremaining: 369ms\n",
      "554:\tlearn: 0.0735576\ttotal: 458ms\tremaining: 367ms\n",
      "555:\tlearn: 0.0733865\ttotal: 459ms\tremaining: 366ms\n",
      "556:\tlearn: 0.0732879\ttotal: 459ms\tremaining: 365ms\n",
      "557:\tlearn: 0.0731329\ttotal: 459ms\tremaining: 364ms\n",
      "558:\tlearn: 0.0730857\ttotal: 460ms\tremaining: 363ms\n",
      "559:\tlearn: 0.0728305\ttotal: 461ms\tremaining: 362ms\n",
      "560:\tlearn: 0.0726542\ttotal: 461ms\tremaining: 361ms\n",
      "561:\tlearn: 0.0724863\ttotal: 461ms\tremaining: 360ms\n",
      "562:\tlearn: 0.0724399\ttotal: 462ms\tremaining: 358ms\n",
      "563:\tlearn: 0.0721897\ttotal: 462ms\tremaining: 357ms\n",
      "564:\tlearn: 0.0719308\ttotal: 463ms\tremaining: 356ms\n",
      "565:\tlearn: 0.0718821\ttotal: 463ms\tremaining: 355ms\n",
      "566:\tlearn: 0.0718371\ttotal: 464ms\tremaining: 354ms\n",
      "567:\tlearn: 0.0716718\ttotal: 465ms\tremaining: 353ms\n",
      "568:\tlearn: 0.0716246\ttotal: 465ms\tremaining: 352ms\n",
      "569:\tlearn: 0.0714646\ttotal: 465ms\tremaining: 351ms\n",
      "570:\tlearn: 0.0714210\ttotal: 466ms\tremaining: 350ms\n",
      "571:\tlearn: 0.0712441\ttotal: 466ms\tremaining: 349ms\n",
      "572:\tlearn: 0.0710701\ttotal: 466ms\tremaining: 348ms\n",
      "573:\tlearn: 0.0708343\ttotal: 467ms\tremaining: 346ms\n",
      "574:\tlearn: 0.0707913\ttotal: 467ms\tremaining: 345ms\n",
      "575:\tlearn: 0.0706328\ttotal: 468ms\tremaining: 344ms\n",
      "576:\tlearn: 0.0704869\ttotal: 468ms\tremaining: 343ms\n",
      "577:\tlearn: 0.0703460\ttotal: 468ms\tremaining: 342ms\n",
      "578:\tlearn: 0.0701008\ttotal: 468ms\tremaining: 341ms\n",
      "579:\tlearn: 0.0700585\ttotal: 469ms\tremaining: 340ms\n",
      "580:\tlearn: 0.0700171\ttotal: 469ms\tremaining: 338ms\n",
      "581:\tlearn: 0.0699763\ttotal: 470ms\tremaining: 337ms\n",
      "582:\tlearn: 0.0697523\ttotal: 470ms\tremaining: 336ms\n",
      "583:\tlearn: 0.0697122\ttotal: 471ms\tremaining: 335ms\n",
      "584:\tlearn: 0.0696728\ttotal: 471ms\tremaining: 334ms\n",
      "585:\tlearn: 0.0695753\ttotal: 471ms\tremaining: 333ms\n",
      "586:\tlearn: 0.0693574\ttotal: 472ms\tremaining: 332ms\n",
      "587:\tlearn: 0.0692324\ttotal: 472ms\tremaining: 331ms\n",
      "588:\tlearn: 0.0690805\ttotal: 472ms\tremaining: 330ms\n",
      "589:\tlearn: 0.0690418\ttotal: 473ms\tremaining: 329ms\n",
      "590:\tlearn: 0.0688130\ttotal: 473ms\tremaining: 327ms\n",
      "591:\tlearn: 0.0687749\ttotal: 473ms\tremaining: 326ms\n",
      "592:\tlearn: 0.0686280\ttotal: 474ms\tremaining: 325ms\n",
      "593:\tlearn: 0.0685879\ttotal: 474ms\tremaining: 324ms\n",
      "594:\tlearn: 0.0684971\ttotal: 475ms\tremaining: 323ms\n",
      "595:\tlearn: 0.0683294\ttotal: 475ms\tremaining: 322ms\n",
      "596:\tlearn: 0.0681989\ttotal: 475ms\tremaining: 321ms\n",
      "597:\tlearn: 0.0680674\ttotal: 475ms\tremaining: 320ms\n",
      "598:\tlearn: 0.0679192\ttotal: 476ms\tremaining: 319ms\n",
      "599:\tlearn: 0.0677950\ttotal: 476ms\tremaining: 318ms\n",
      "600:\tlearn: 0.0676681\ttotal: 477ms\tremaining: 316ms\n",
      "601:\tlearn: 0.0676316\ttotal: 477ms\tremaining: 315ms\n",
      "602:\tlearn: 0.0675958\ttotal: 478ms\tremaining: 314ms\n",
      "603:\tlearn: 0.0674298\ttotal: 478ms\tremaining: 313ms\n",
      "604:\tlearn: 0.0673946\ttotal: 478ms\tremaining: 312ms\n",
      "605:\tlearn: 0.0672319\ttotal: 479ms\tremaining: 311ms\n",
      "606:\tlearn: 0.0671973\ttotal: 479ms\tremaining: 310ms\n",
      "607:\tlearn: 0.0670379\ttotal: 479ms\tremaining: 309ms\n",
      "608:\tlearn: 0.0670010\ttotal: 480ms\tremaining: 308ms\n",
      "609:\tlearn: 0.0668447\ttotal: 480ms\tremaining: 307ms\n",
      "610:\tlearn: 0.0667082\ttotal: 481ms\tremaining: 306ms\n",
      "611:\tlearn: 0.0666745\ttotal: 481ms\tremaining: 305ms\n",
      "612:\tlearn: 0.0665213\ttotal: 481ms\tremaining: 304ms\n",
      "613:\tlearn: 0.0663797\ttotal: 482ms\tremaining: 303ms\n",
      "614:\tlearn: 0.0662296\ttotal: 482ms\tremaining: 302ms\n",
      "615:\tlearn: 0.0660826\ttotal: 483ms\tremaining: 301ms\n",
      "616:\tlearn: 0.0660464\ttotal: 483ms\tremaining: 300ms\n",
      "617:\tlearn: 0.0659257\ttotal: 483ms\tremaining: 299ms\n",
      "618:\tlearn: 0.0658036\ttotal: 484ms\tremaining: 298ms\n",
      "619:\tlearn: 0.0657708\ttotal: 484ms\tremaining: 297ms\n",
      "620:\tlearn: 0.0657386\ttotal: 485ms\tremaining: 296ms\n",
      "621:\tlearn: 0.0657041\ttotal: 485ms\tremaining: 295ms\n",
      "622:\tlearn: 0.0655598\ttotal: 486ms\tremaining: 294ms\n",
      "623:\tlearn: 0.0654463\ttotal: 486ms\tremaining: 293ms\n",
      "624:\tlearn: 0.0654151\ttotal: 486ms\tremaining: 292ms\n",
      "625:\tlearn: 0.0652591\ttotal: 487ms\tremaining: 291ms\n",
      "626:\tlearn: 0.0652258\ttotal: 487ms\tremaining: 290ms\n",
      "627:\tlearn: 0.0651149\ttotal: 487ms\tremaining: 289ms\n",
      "628:\tlearn: 0.0649623\ttotal: 488ms\tremaining: 288ms\n",
      "629:\tlearn: 0.0649276\ttotal: 488ms\tremaining: 287ms\n",
      "630:\tlearn: 0.0648977\ttotal: 488ms\tremaining: 286ms\n",
      "631:\tlearn: 0.0647810\ttotal: 489ms\tremaining: 285ms\n",
      "632:\tlearn: 0.0646135\ttotal: 489ms\tremaining: 284ms\n",
      "633:\tlearn: 0.0645175\ttotal: 490ms\tremaining: 283ms\n",
      "634:\tlearn: 0.0644826\ttotal: 490ms\tremaining: 282ms\n",
      "635:\tlearn: 0.0643349\ttotal: 490ms\tremaining: 281ms\n",
      "636:\tlearn: 0.0643006\ttotal: 491ms\tremaining: 280ms\n",
      "637:\tlearn: 0.0642700\ttotal: 491ms\tremaining: 279ms\n",
      "638:\tlearn: 0.0641076\ttotal: 492ms\tremaining: 278ms\n",
      "639:\tlearn: 0.0640129\ttotal: 492ms\tremaining: 277ms\n",
      "640:\tlearn: 0.0639796\ttotal: 493ms\tremaining: 276ms\n",
      "641:\tlearn: 0.0638366\ttotal: 493ms\tremaining: 275ms\n",
      "642:\tlearn: 0.0637778\ttotal: 493ms\tremaining: 274ms\n",
      "643:\tlearn: 0.0637205\ttotal: 494ms\tremaining: 273ms\n",
      "644:\tlearn: 0.0636284\ttotal: 494ms\tremaining: 272ms\n",
      "645:\tlearn: 0.0634981\ttotal: 495ms\tremaining: 271ms\n",
      "646:\tlearn: 0.0633406\ttotal: 495ms\tremaining: 270ms\n",
      "647:\tlearn: 0.0632497\ttotal: 495ms\tremaining: 269ms\n",
      "648:\tlearn: 0.0631916\ttotal: 496ms\tremaining: 268ms\n",
      "649:\tlearn: 0.0630528\ttotal: 496ms\tremaining: 267ms\n",
      "650:\tlearn: 0.0629397\ttotal: 497ms\tremaining: 266ms\n",
      "651:\tlearn: 0.0627488\ttotal: 497ms\tremaining: 265ms\n",
      "652:\tlearn: 0.0626561\ttotal: 498ms\tremaining: 264ms\n",
      "653:\tlearn: 0.0625686\ttotal: 498ms\tremaining: 263ms\n",
      "654:\tlearn: 0.0625212\ttotal: 498ms\tremaining: 262ms\n",
      "655:\tlearn: 0.0624318\ttotal: 499ms\tremaining: 262ms\n",
      "656:\tlearn: 0.0622794\ttotal: 499ms\tremaining: 261ms\n",
      "657:\tlearn: 0.0622328\ttotal: 500ms\tremaining: 260ms\n",
      "658:\tlearn: 0.0621556\ttotal: 500ms\tremaining: 259ms\n",
      "659:\tlearn: 0.0620289\ttotal: 500ms\tremaining: 258ms\n",
      "660:\tlearn: 0.0619826\ttotal: 501ms\tremaining: 257ms\n",
      "661:\tlearn: 0.0619525\ttotal: 501ms\tremaining: 256ms\n",
      "662:\tlearn: 0.0618182\ttotal: 502ms\tremaining: 255ms\n",
      "663:\tlearn: 0.0616339\ttotal: 502ms\tremaining: 254ms\n",
      "664:\tlearn: 0.0616038\ttotal: 502ms\tremaining: 253ms\n",
      "665:\tlearn: 0.0615743\ttotal: 503ms\tremaining: 252ms\n",
      "666:\tlearn: 0.0615364\ttotal: 503ms\tremaining: 251ms\n",
      "667:\tlearn: 0.0613551\ttotal: 503ms\tremaining: 250ms\n",
      "668:\tlearn: 0.0613179\ttotal: 504ms\tremaining: 249ms\n",
      "669:\tlearn: 0.0612892\ttotal: 504ms\tremaining: 248ms\n",
      "670:\tlearn: 0.0610956\ttotal: 505ms\tremaining: 247ms\n",
      "671:\tlearn: 0.0609804\ttotal: 505ms\tremaining: 247ms\n",
      "672:\tlearn: 0.0609541\ttotal: 505ms\tremaining: 246ms\n",
      "673:\tlearn: 0.0609183\ttotal: 506ms\tremaining: 245ms\n",
      "674:\tlearn: 0.0607286\ttotal: 506ms\tremaining: 244ms\n",
      "675:\tlearn: 0.0606341\ttotal: 507ms\tremaining: 243ms\n",
      "676:\tlearn: 0.0605596\ttotal: 507ms\tremaining: 242ms\n",
      "677:\tlearn: 0.0603862\ttotal: 507ms\tremaining: 241ms\n",
      "678:\tlearn: 0.0603036\ttotal: 508ms\tremaining: 240ms\n",
      "679:\tlearn: 0.0602591\ttotal: 508ms\tremaining: 239ms\n",
      "680:\tlearn: 0.0602312\ttotal: 509ms\tremaining: 238ms\n",
      "681:\tlearn: 0.0600266\ttotal: 509ms\tremaining: 237ms\n",
      "682:\tlearn: 0.0598435\ttotal: 510ms\tremaining: 236ms\n",
      "683:\tlearn: 0.0597716\ttotal: 510ms\tremaining: 236ms\n",
      "684:\tlearn: 0.0597280\ttotal: 510ms\tremaining: 235ms\n",
      "685:\tlearn: 0.0596575\ttotal: 511ms\tremaining: 234ms\n",
      "686:\tlearn: 0.0594894\ttotal: 511ms\tremaining: 233ms\n",
      "687:\tlearn: 0.0594200\ttotal: 512ms\tremaining: 232ms\n",
      "688:\tlearn: 0.0593773\ttotal: 512ms\tremaining: 231ms\n",
      "689:\tlearn: 0.0593077\ttotal: 512ms\tremaining: 230ms\n",
      "690:\tlearn: 0.0588879\ttotal: 513ms\tremaining: 229ms\n",
      "691:\tlearn: 0.0588209\ttotal: 513ms\tremaining: 228ms\n",
      "692:\tlearn: 0.0587528\ttotal: 514ms\tremaining: 227ms\n",
      "693:\tlearn: 0.0586868\ttotal: 514ms\tremaining: 227ms\n",
      "694:\tlearn: 0.0586195\ttotal: 514ms\tremaining: 226ms\n",
      "695:\tlearn: 0.0585522\ttotal: 515ms\tremaining: 225ms\n",
      "696:\tlearn: 0.0585053\ttotal: 515ms\tremaining: 224ms\n",
      "697:\tlearn: 0.0584388\ttotal: 516ms\tremaining: 223ms\n",
      "698:\tlearn: 0.0583732\ttotal: 516ms\tremaining: 222ms\n",
      "699:\tlearn: 0.0580960\ttotal: 516ms\tremaining: 221ms\n",
      "700:\tlearn: 0.0580313\ttotal: 517ms\tremaining: 220ms\n",
      "701:\tlearn: 0.0579861\ttotal: 517ms\tremaining: 220ms\n",
      "702:\tlearn: 0.0579222\ttotal: 518ms\tremaining: 219ms\n",
      "703:\tlearn: 0.0578008\ttotal: 518ms\tremaining: 218ms\n",
      "704:\tlearn: 0.0577559\ttotal: 518ms\tremaining: 217ms\n",
      "705:\tlearn: 0.0574492\ttotal: 519ms\tremaining: 216ms\n",
      "706:\tlearn: 0.0573303\ttotal: 519ms\tremaining: 215ms\n",
      "707:\tlearn: 0.0572365\ttotal: 520ms\tremaining: 214ms\n",
      "708:\tlearn: 0.0571053\ttotal: 520ms\tremaining: 213ms\n",
      "709:\tlearn: 0.0570635\ttotal: 520ms\tremaining: 213ms\n",
      "710:\tlearn: 0.0570016\ttotal: 521ms\tremaining: 212ms\n",
      "711:\tlearn: 0.0569406\ttotal: 521ms\tremaining: 211ms\n",
      "712:\tlearn: 0.0568254\ttotal: 522ms\tremaining: 210ms\n",
      "713:\tlearn: 0.0567244\ttotal: 522ms\tremaining: 209ms\n",
      "714:\tlearn: 0.0566812\ttotal: 523ms\tremaining: 208ms\n",
      "715:\tlearn: 0.0565820\ttotal: 523ms\tremaining: 207ms\n",
      "716:\tlearn: 0.0565606\ttotal: 523ms\tremaining: 207ms\n",
      "717:\tlearn: 0.0562981\ttotal: 524ms\tremaining: 206ms\n",
      "718:\tlearn: 0.0562559\ttotal: 524ms\tremaining: 205ms\n",
      "719:\tlearn: 0.0562142\ttotal: 525ms\tremaining: 204ms\n",
      "720:\tlearn: 0.0558871\ttotal: 525ms\tremaining: 203ms\n",
      "721:\tlearn: 0.0557573\ttotal: 525ms\tremaining: 202ms\n",
      "722:\tlearn: 0.0557115\ttotal: 526ms\tremaining: 201ms\n",
      "723:\tlearn: 0.0556795\ttotal: 526ms\tremaining: 201ms\n",
      "724:\tlearn: 0.0556480\ttotal: 527ms\tremaining: 200ms\n",
      "725:\tlearn: 0.0554134\ttotal: 527ms\tremaining: 199ms\n",
      "726:\tlearn: 0.0553707\ttotal: 528ms\tremaining: 198ms\n",
      "727:\tlearn: 0.0551415\ttotal: 528ms\tremaining: 197ms\n",
      "728:\tlearn: 0.0550638\ttotal: 528ms\tremaining: 196ms\n",
      "729:\tlearn: 0.0549748\ttotal: 529ms\tremaining: 196ms\n",
      "730:\tlearn: 0.0548874\ttotal: 529ms\tremaining: 195ms\n",
      "731:\tlearn: 0.0548567\ttotal: 530ms\tremaining: 194ms\n",
      "732:\tlearn: 0.0547139\ttotal: 530ms\tremaining: 193ms\n",
      "733:\tlearn: 0.0546759\ttotal: 531ms\tremaining: 192ms\n",
      "734:\tlearn: 0.0546384\ttotal: 531ms\tremaining: 191ms\n",
      "735:\tlearn: 0.0546014\ttotal: 531ms\tremaining: 191ms\n",
      "736:\tlearn: 0.0543801\ttotal: 532ms\tremaining: 190ms\n",
      "737:\tlearn: 0.0543053\ttotal: 532ms\tremaining: 189ms\n",
      "738:\tlearn: 0.0542691\ttotal: 533ms\tremaining: 188ms\n",
      "739:\tlearn: 0.0541783\ttotal: 533ms\tremaining: 187ms\n",
      "740:\tlearn: 0.0540669\ttotal: 533ms\tremaining: 186ms\n",
      "741:\tlearn: 0.0540407\ttotal: 534ms\tremaining: 186ms\n",
      "742:\tlearn: 0.0539459\ttotal: 534ms\tremaining: 185ms\n",
      "743:\tlearn: 0.0538887\ttotal: 534ms\tremaining: 184ms\n",
      "744:\tlearn: 0.0538161\ttotal: 535ms\tremaining: 183ms\n",
      "745:\tlearn: 0.0537600\ttotal: 536ms\tremaining: 182ms\n",
      "746:\tlearn: 0.0536886\ttotal: 536ms\tremaining: 182ms\n",
      "747:\tlearn: 0.0536184\ttotal: 537ms\tremaining: 181ms\n",
      "748:\tlearn: 0.0532643\ttotal: 537ms\tremaining: 180ms\n",
      "749:\tlearn: 0.0531720\ttotal: 537ms\tremaining: 179ms\n",
      "750:\tlearn: 0.0531171\ttotal: 538ms\tremaining: 178ms\n",
      "751:\tlearn: 0.0530771\ttotal: 538ms\tremaining: 177ms\n",
      "752:\tlearn: 0.0530232\ttotal: 538ms\tremaining: 177ms\n",
      "753:\tlearn: 0.0529544\ttotal: 539ms\tremaining: 176ms\n",
      "754:\tlearn: 0.0528598\ttotal: 539ms\tremaining: 175ms\n",
      "755:\tlearn: 0.0527695\ttotal: 540ms\tremaining: 174ms\n",
      "756:\tlearn: 0.0527165\ttotal: 540ms\tremaining: 173ms\n",
      "757:\tlearn: 0.0526764\ttotal: 540ms\tremaining: 172ms\n",
      "758:\tlearn: 0.0524041\ttotal: 541ms\tremaining: 172ms\n",
      "759:\tlearn: 0.0523017\ttotal: 541ms\tremaining: 171ms\n",
      "760:\tlearn: 0.0521828\ttotal: 541ms\tremaining: 170ms\n",
      "761:\tlearn: 0.0520949\ttotal: 542ms\tremaining: 169ms\n",
      "762:\tlearn: 0.0518103\ttotal: 542ms\tremaining: 168ms\n",
      "763:\tlearn: 0.0517240\ttotal: 543ms\tremaining: 168ms\n",
      "764:\tlearn: 0.0516396\ttotal: 543ms\tremaining: 167ms\n",
      "765:\tlearn: 0.0515594\ttotal: 544ms\tremaining: 166ms\n",
      "766:\tlearn: 0.0513589\ttotal: 544ms\tremaining: 165ms\n",
      "767:\tlearn: 0.0511996\ttotal: 545ms\tremaining: 165ms\n",
      "768:\tlearn: 0.0509296\ttotal: 545ms\tremaining: 164ms\n",
      "769:\tlearn: 0.0508279\ttotal: 545ms\tremaining: 163ms\n",
      "770:\tlearn: 0.0507886\ttotal: 546ms\tremaining: 162ms\n",
      "771:\tlearn: 0.0506343\ttotal: 546ms\tremaining: 161ms\n",
      "772:\tlearn: 0.0505826\ttotal: 547ms\tremaining: 160ms\n",
      "773:\tlearn: 0.0504320\ttotal: 547ms\tremaining: 160ms\n",
      "774:\tlearn: 0.0503812\ttotal: 547ms\tremaining: 159ms\n",
      "775:\tlearn: 0.0503170\ttotal: 548ms\tremaining: 158ms\n",
      "776:\tlearn: 0.0502670\ttotal: 548ms\tremaining: 157ms\n",
      "777:\tlearn: 0.0501972\ttotal: 549ms\tremaining: 157ms\n",
      "778:\tlearn: 0.0501593\ttotal: 549ms\tremaining: 156ms\n",
      "779:\tlearn: 0.0500970\ttotal: 550ms\tremaining: 155ms\n",
      "780:\tlearn: 0.0498900\ttotal: 550ms\tremaining: 154ms\n",
      "781:\tlearn: 0.0497385\ttotal: 551ms\tremaining: 153ms\n",
      "782:\tlearn: 0.0496309\ttotal: 551ms\tremaining: 153ms\n",
      "783:\tlearn: 0.0494382\ttotal: 551ms\tremaining: 152ms\n",
      "784:\tlearn: 0.0493347\ttotal: 552ms\tremaining: 151ms\n",
      "785:\tlearn: 0.0492336\ttotal: 552ms\tremaining: 150ms\n",
      "786:\tlearn: 0.0491554\ttotal: 552ms\tremaining: 149ms\n",
      "787:\tlearn: 0.0490569\ttotal: 553ms\tremaining: 149ms\n",
      "788:\tlearn: 0.0489807\ttotal: 553ms\tremaining: 148ms\n",
      "789:\tlearn: 0.0488343\ttotal: 554ms\tremaining: 147ms\n",
      "790:\tlearn: 0.0488126\ttotal: 554ms\tremaining: 146ms\n",
      "791:\tlearn: 0.0487238\ttotal: 554ms\tremaining: 146ms\n",
      "792:\tlearn: 0.0486129\ttotal: 555ms\tremaining: 145ms\n",
      "793:\tlearn: 0.0484702\ttotal: 555ms\tremaining: 144ms\n",
      "794:\tlearn: 0.0482746\ttotal: 556ms\tremaining: 143ms\n",
      "795:\tlearn: 0.0480285\ttotal: 556ms\tremaining: 143ms\n",
      "796:\tlearn: 0.0477166\ttotal: 557ms\tremaining: 142ms\n",
      "797:\tlearn: 0.0475427\ttotal: 557ms\tremaining: 141ms\n",
      "798:\tlearn: 0.0474118\ttotal: 557ms\tremaining: 140ms\n",
      "799:\tlearn: 0.0473761\ttotal: 558ms\tremaining: 139ms\n",
      "800:\tlearn: 0.0473410\ttotal: 558ms\tremaining: 139ms\n",
      "801:\tlearn: 0.0472264\ttotal: 559ms\tremaining: 138ms\n",
      "802:\tlearn: 0.0470586\ttotal: 559ms\tremaining: 137ms\n",
      "803:\tlearn: 0.0469695\ttotal: 559ms\tremaining: 136ms\n",
      "804:\tlearn: 0.0468662\ttotal: 560ms\tremaining: 136ms\n",
      "805:\tlearn: 0.0467394\ttotal: 560ms\tremaining: 135ms\n",
      "806:\tlearn: 0.0465546\ttotal: 561ms\tremaining: 134ms\n",
      "807:\tlearn: 0.0464033\ttotal: 561ms\tremaining: 133ms\n",
      "808:\tlearn: 0.0462533\ttotal: 562ms\tremaining: 133ms\n",
      "809:\tlearn: 0.0462208\ttotal: 562ms\tremaining: 132ms\n",
      "810:\tlearn: 0.0461889\ttotal: 562ms\tremaining: 131ms\n",
      "811:\tlearn: 0.0460377\ttotal: 563ms\tremaining: 130ms\n",
      "812:\tlearn: 0.0460064\ttotal: 563ms\tremaining: 130ms\n",
      "813:\tlearn: 0.0459756\ttotal: 564ms\tremaining: 129ms\n",
      "814:\tlearn: 0.0459453\ttotal: 564ms\tremaining: 128ms\n",
      "815:\tlearn: 0.0457986\ttotal: 565ms\tremaining: 127ms\n",
      "816:\tlearn: 0.0457689\ttotal: 566ms\tremaining: 127ms\n",
      "817:\tlearn: 0.0456681\ttotal: 566ms\tremaining: 126ms\n",
      "818:\tlearn: 0.0456161\ttotal: 567ms\tremaining: 125ms\n",
      "819:\tlearn: 0.0455650\ttotal: 567ms\tremaining: 125ms\n",
      "820:\tlearn: 0.0454573\ttotal: 568ms\tremaining: 124ms\n",
      "821:\tlearn: 0.0454071\ttotal: 569ms\tremaining: 123ms\n",
      "822:\tlearn: 0.0452291\ttotal: 569ms\tremaining: 122ms\n",
      "823:\tlearn: 0.0451321\ttotal: 570ms\tremaining: 122ms\n",
      "824:\tlearn: 0.0449910\ttotal: 570ms\tremaining: 121ms\n",
      "825:\tlearn: 0.0449054\ttotal: 571ms\tremaining: 120ms\n",
      "826:\tlearn: 0.0447960\ttotal: 571ms\tremaining: 119ms\n",
      "827:\tlearn: 0.0447128\ttotal: 572ms\tremaining: 119ms\n",
      "828:\tlearn: 0.0446318\ttotal: 573ms\tremaining: 118ms\n",
      "829:\tlearn: 0.0444189\ttotal: 573ms\tremaining: 117ms\n",
      "830:\tlearn: 0.0443384\ttotal: 574ms\tremaining: 117ms\n",
      "831:\tlearn: 0.0442203\ttotal: 574ms\tremaining: 116ms\n",
      "832:\tlearn: 0.0441515\ttotal: 574ms\tremaining: 115ms\n",
      "833:\tlearn: 0.0440565\ttotal: 575ms\tremaining: 114ms\n",
      "834:\tlearn: 0.0439373\ttotal: 575ms\tremaining: 114ms\n",
      "835:\tlearn: 0.0437363\ttotal: 575ms\tremaining: 113ms\n",
      "836:\tlearn: 0.0436689\ttotal: 576ms\tremaining: 112ms\n",
      "837:\tlearn: 0.0435905\ttotal: 576ms\tremaining: 111ms\n",
      "838:\tlearn: 0.0435121\ttotal: 576ms\tremaining: 111ms\n",
      "839:\tlearn: 0.0434357\ttotal: 577ms\tremaining: 110ms\n",
      "840:\tlearn: 0.0432693\ttotal: 577ms\tremaining: 109ms\n",
      "841:\tlearn: 0.0431124\ttotal: 577ms\tremaining: 108ms\n",
      "842:\tlearn: 0.0430462\ttotal: 578ms\tremaining: 108ms\n",
      "843:\tlearn: 0.0429786\ttotal: 578ms\tremaining: 107ms\n",
      "844:\tlearn: 0.0429129\ttotal: 579ms\tremaining: 106ms\n"
     ]
    },
    {
     "name": "stdout",
     "output_type": "stream",
     "text": [
      "845:\tlearn: 0.0426446\ttotal: 579ms\tremaining: 105ms\n",
      "846:\tlearn: 0.0424922\ttotal: 579ms\tremaining: 105ms\n",
      "847:\tlearn: 0.0424318\ttotal: 580ms\tremaining: 104ms\n",
      "848:\tlearn: 0.0423792\ttotal: 580ms\tremaining: 103ms\n",
      "849:\tlearn: 0.0421181\ttotal: 581ms\tremaining: 102ms\n",
      "850:\tlearn: 0.0420587\ttotal: 581ms\tremaining: 102ms\n",
      "851:\tlearn: 0.0419943\ttotal: 581ms\tremaining: 101ms\n",
      "852:\tlearn: 0.0418459\ttotal: 582ms\tremaining: 100ms\n",
      "853:\tlearn: 0.0417943\ttotal: 582ms\tremaining: 99.5ms\n",
      "854:\tlearn: 0.0415400\ttotal: 582ms\tremaining: 98.8ms\n",
      "855:\tlearn: 0.0414815\ttotal: 583ms\tremaining: 98ms\n",
      "856:\tlearn: 0.0414456\ttotal: 583ms\tremaining: 97.3ms\n",
      "857:\tlearn: 0.0413883\ttotal: 583ms\tremaining: 96.5ms\n",
      "858:\tlearn: 0.0411153\ttotal: 584ms\tremaining: 95.8ms\n",
      "859:\tlearn: 0.0410524\ttotal: 584ms\tremaining: 95.1ms\n",
      "860:\tlearn: 0.0408036\ttotal: 584ms\tremaining: 94.3ms\n",
      "861:\tlearn: 0.0406359\ttotal: 585ms\tremaining: 93.6ms\n",
      "862:\tlearn: 0.0403952\ttotal: 585ms\tremaining: 92.9ms\n",
      "863:\tlearn: 0.0403093\ttotal: 585ms\tremaining: 92.2ms\n",
      "864:\tlearn: 0.0402311\ttotal: 586ms\tremaining: 91.4ms\n",
      "865:\tlearn: 0.0401689\ttotal: 586ms\tremaining: 90.7ms\n",
      "866:\tlearn: 0.0400071\ttotal: 587ms\tremaining: 90ms\n",
      "867:\tlearn: 0.0399529\ttotal: 587ms\tremaining: 89.3ms\n",
      "868:\tlearn: 0.0397196\ttotal: 587ms\tremaining: 88.5ms\n",
      "869:\tlearn: 0.0396586\ttotal: 588ms\tremaining: 87.8ms\n",
      "870:\tlearn: 0.0394245\ttotal: 588ms\tremaining: 87.1ms\n",
      "871:\tlearn: 0.0393889\ttotal: 589ms\tremaining: 86.4ms\n",
      "872:\tlearn: 0.0391426\ttotal: 589ms\tremaining: 85.7ms\n",
      "873:\tlearn: 0.0390919\ttotal: 589ms\tremaining: 85ms\n",
      "874:\tlearn: 0.0390418\ttotal: 590ms\tremaining: 84.3ms\n",
      "875:\tlearn: 0.0389903\ttotal: 590ms\tremaining: 83.5ms\n",
      "876:\tlearn: 0.0388225\ttotal: 591ms\tremaining: 82.8ms\n",
      "877:\tlearn: 0.0387064\ttotal: 591ms\tremaining: 82.1ms\n",
      "878:\tlearn: 0.0386528\ttotal: 591ms\tremaining: 81.4ms\n",
      "879:\tlearn: 0.0384300\ttotal: 592ms\tremaining: 80.7ms\n",
      "880:\tlearn: 0.0383961\ttotal: 592ms\tremaining: 80ms\n",
      "881:\tlearn: 0.0381985\ttotal: 592ms\tremaining: 79.3ms\n",
      "882:\tlearn: 0.0381501\ttotal: 593ms\tremaining: 78.5ms\n",
      "883:\tlearn: 0.0380833\ttotal: 593ms\tremaining: 77.8ms\n",
      "884:\tlearn: 0.0380505\ttotal: 593ms\tremaining: 77.1ms\n",
      "885:\tlearn: 0.0380031\ttotal: 594ms\tremaining: 76.4ms\n",
      "886:\tlearn: 0.0377904\ttotal: 594ms\tremaining: 75.7ms\n",
      "887:\tlearn: 0.0377438\ttotal: 595ms\tremaining: 75.1ms\n",
      "888:\tlearn: 0.0377269\ttotal: 597ms\tremaining: 74.5ms\n",
      "889:\tlearn: 0.0376614\ttotal: 597ms\tremaining: 73.8ms\n",
      "890:\tlearn: 0.0376447\ttotal: 598ms\tremaining: 73.1ms\n",
      "891:\tlearn: 0.0375801\ttotal: 598ms\tremaining: 72.5ms\n",
      "892:\tlearn: 0.0375499\ttotal: 599ms\tremaining: 71.8ms\n",
      "893:\tlearn: 0.0375043\ttotal: 600ms\tremaining: 71.1ms\n",
      "894:\tlearn: 0.0374890\ttotal: 601ms\tremaining: 70.5ms\n",
      "895:\tlearn: 0.0372813\ttotal: 601ms\tremaining: 69.8ms\n",
      "896:\tlearn: 0.0372663\ttotal: 602ms\tremaining: 69.1ms\n",
      "897:\tlearn: 0.0371201\ttotal: 602ms\tremaining: 68.4ms\n"
     ]
    },
    {
     "name": "stdout",
     "output_type": "stream",
     "text": [
      "898:\tlearn: 0.0369123\ttotal: 603ms\tremaining: 67.7ms\n",
      "899:\tlearn: 0.0368963\ttotal: 604ms\tremaining: 67.1ms\n",
      "900:\tlearn: 0.0368807\ttotal: 604ms\tremaining: 66.4ms\n",
      "901:\tlearn: 0.0366725\ttotal: 605ms\tremaining: 65.7ms\n",
      "902:\tlearn: 0.0366490\ttotal: 605ms\tremaining: 65ms\n",
      "903:\tlearn: 0.0365597\ttotal: 606ms\tremaining: 64.3ms\n",
      "904:\tlearn: 0.0363559\ttotal: 606ms\tremaining: 63.6ms\n",
      "905:\tlearn: 0.0363325\ttotal: 607ms\tremaining: 62.9ms\n",
      "906:\tlearn: 0.0361818\ttotal: 607ms\tremaining: 62.2ms\n",
      "907:\tlearn: 0.0360654\ttotal: 607ms\tremaining: 61.5ms\n",
      "908:\tlearn: 0.0360215\ttotal: 607ms\tremaining: 60.8ms\n",
      "909:\tlearn: 0.0358754\ttotal: 608ms\tremaining: 60.1ms\n",
      "910:\tlearn: 0.0358126\ttotal: 608ms\tremaining: 59.4ms\n",
      "911:\tlearn: 0.0357694\ttotal: 609ms\tremaining: 58.7ms\n",
      "912:\tlearn: 0.0356269\ttotal: 609ms\tremaining: 58ms\n",
      "913:\tlearn: 0.0354850\ttotal: 609ms\tremaining: 57.3ms\n",
      "914:\tlearn: 0.0354426\ttotal: 610ms\tremaining: 56.6ms\n",
      "915:\tlearn: 0.0353040\ttotal: 610ms\tremaining: 56ms\n",
      "916:\tlearn: 0.0352251\ttotal: 611ms\tremaining: 55.3ms\n",
      "917:\tlearn: 0.0350868\ttotal: 611ms\tremaining: 54.6ms\n",
      "918:\tlearn: 0.0350098\ttotal: 611ms\tremaining: 53.9ms\n",
      "919:\tlearn: 0.0349680\ttotal: 612ms\tremaining: 53.2ms\n",
      "920:\tlearn: 0.0348921\ttotal: 612ms\tremaining: 52.5ms\n",
      "921:\tlearn: 0.0348170\ttotal: 613ms\tremaining: 51.8ms\n",
      "922:\tlearn: 0.0346827\ttotal: 613ms\tremaining: 51.2ms\n",
      "923:\tlearn: 0.0345758\ttotal: 614ms\tremaining: 50.5ms\n",
      "924:\tlearn: 0.0345019\ttotal: 614ms\tremaining: 49.8ms\n",
      "925:\tlearn: 0.0344290\ttotal: 614ms\tremaining: 49.1ms\n",
      "926:\tlearn: 0.0342970\ttotal: 615ms\tremaining: 48.4ms\n",
      "927:\tlearn: 0.0341931\ttotal: 615ms\tremaining: 47.7ms\n",
      "928:\tlearn: 0.0340462\ttotal: 616ms\tremaining: 47.1ms\n",
      "929:\tlearn: 0.0339768\ttotal: 616ms\tremaining: 46.4ms\n",
      "930:\tlearn: 0.0338681\ttotal: 617ms\tremaining: 45.7ms\n",
      "931:\tlearn: 0.0338278\ttotal: 617ms\tremaining: 45ms\n",
      "932:\tlearn: 0.0336819\ttotal: 617ms\tremaining: 44.3ms\n",
      "933:\tlearn: 0.0336119\ttotal: 618ms\tremaining: 43.7ms\n",
      "934:\tlearn: 0.0335433\ttotal: 618ms\tremaining: 43ms\n",
      "935:\tlearn: 0.0334735\ttotal: 619ms\tremaining: 42.3ms\n",
      "936:\tlearn: 0.0333308\ttotal: 619ms\tremaining: 41.6ms\n",
      "937:\tlearn: 0.0332636\ttotal: 620ms\tremaining: 41ms\n",
      "938:\tlearn: 0.0331954\ttotal: 620ms\tremaining: 40.3ms\n",
      "939:\tlearn: 0.0331083\ttotal: 620ms\tremaining: 39.6ms\n",
      "940:\tlearn: 0.0330433\ttotal: 621ms\tremaining: 38.9ms\n",
      "941:\tlearn: 0.0330215\ttotal: 621ms\tremaining: 38.3ms\n",
      "942:\tlearn: 0.0329551\ttotal: 622ms\tremaining: 37.6ms\n",
      "943:\tlearn: 0.0328316\ttotal: 622ms\tremaining: 36.9ms\n",
      "944:\tlearn: 0.0327473\ttotal: 622ms\tremaining: 36.2ms\n",
      "945:\tlearn: 0.0326549\ttotal: 623ms\tremaining: 35.6ms\n",
      "946:\tlearn: 0.0325935\ttotal: 623ms\tremaining: 34.9ms\n",
      "947:\tlearn: 0.0325115\ttotal: 624ms\tremaining: 34.2ms\n",
      "948:\tlearn: 0.0324900\ttotal: 624ms\tremaining: 33.5ms\n",
      "949:\tlearn: 0.0324688\ttotal: 624ms\tremaining: 32.9ms\n",
      "950:\tlearn: 0.0324092\ttotal: 625ms\tremaining: 32.2ms\n",
      "951:\tlearn: 0.0323454\ttotal: 625ms\tremaining: 31.5ms\n",
      "952:\tlearn: 0.0322681\ttotal: 625ms\tremaining: 30.8ms\n",
      "953:\tlearn: 0.0321389\ttotal: 626ms\tremaining: 30.2ms\n",
      "954:\tlearn: 0.0320143\ttotal: 626ms\tremaining: 29.5ms\n",
      "955:\tlearn: 0.0319382\ttotal: 627ms\tremaining: 28.8ms\n",
      "956:\tlearn: 0.0318160\ttotal: 627ms\tremaining: 28.2ms\n",
      "957:\tlearn: 0.0316915\ttotal: 628ms\tremaining: 27.5ms\n",
      "958:\tlearn: 0.0316165\ttotal: 628ms\tremaining: 26.9ms\n",
      "959:\tlearn: 0.0314971\ttotal: 629ms\tremaining: 26.2ms\n",
      "960:\tlearn: 0.0313766\ttotal: 629ms\tremaining: 25.5ms\n",
      "961:\tlearn: 0.0313026\ttotal: 629ms\tremaining: 24.9ms\n",
      "962:\tlearn: 0.0311861\ttotal: 630ms\tremaining: 24.2ms\n",
      "963:\tlearn: 0.0311005\ttotal: 630ms\tremaining: 23.5ms\n",
      "964:\tlearn: 0.0309836\ttotal: 631ms\tremaining: 22.9ms\n",
      "965:\tlearn: 0.0309594\ttotal: 631ms\tremaining: 22.2ms\n",
      "966:\tlearn: 0.0309272\ttotal: 631ms\tremaining: 21.5ms\n",
      "967:\tlearn: 0.0308429\ttotal: 632ms\tremaining: 20.9ms\n",
      "968:\tlearn: 0.0308115\ttotal: 632ms\tremaining: 20.2ms\n",
      "969:\tlearn: 0.0307811\ttotal: 632ms\tremaining: 19.6ms\n",
      "970:\tlearn: 0.0306984\ttotal: 633ms\tremaining: 18.9ms\n",
      "971:\tlearn: 0.0306748\ttotal: 633ms\tremaining: 18.2ms\n",
      "972:\tlearn: 0.0305609\ttotal: 634ms\tremaining: 17.6ms\n",
      "973:\tlearn: 0.0305377\ttotal: 634ms\tremaining: 16.9ms\n",
      "974:\tlearn: 0.0304570\ttotal: 634ms\tremaining: 16.3ms\n",
      "975:\tlearn: 0.0304267\ttotal: 635ms\tremaining: 15.6ms\n",
      "976:\tlearn: 0.0303847\ttotal: 635ms\tremaining: 14.9ms\n",
      "977:\tlearn: 0.0303308\ttotal: 635ms\tremaining: 14.3ms\n",
      "978:\tlearn: 0.0302777\ttotal: 636ms\tremaining: 13.6ms\n",
      "979:\tlearn: 0.0302011\ttotal: 636ms\tremaining: 13ms\n",
      "980:\tlearn: 0.0301604\ttotal: 637ms\tremaining: 12.3ms\n",
      "981:\tlearn: 0.0300488\ttotal: 637ms\tremaining: 11.7ms\n",
      "982:\tlearn: 0.0299678\ttotal: 638ms\tremaining: 11ms\n",
      "983:\tlearn: 0.0299451\ttotal: 638ms\tremaining: 10.4ms\n",
      "984:\tlearn: 0.0299226\ttotal: 639ms\tremaining: 9.72ms\n",
      "985:\tlearn: 0.0298831\ttotal: 639ms\tremaining: 9.07ms\n",
      "986:\tlearn: 0.0298038\ttotal: 639ms\tremaining: 8.42ms\n",
      "987:\tlearn: 0.0297494\ttotal: 640ms\tremaining: 7.77ms\n",
      "988:\tlearn: 0.0295750\ttotal: 640ms\tremaining: 7.12ms\n",
      "989:\tlearn: 0.0295367\ttotal: 640ms\tremaining: 6.47ms\n",
      "990:\tlearn: 0.0293726\ttotal: 641ms\tremaining: 5.82ms\n",
      "991:\tlearn: 0.0293350\ttotal: 641ms\tremaining: 5.17ms\n",
      "992:\tlearn: 0.0292265\ttotal: 642ms\tremaining: 4.52ms\n",
      "993:\tlearn: 0.0291899\ttotal: 642ms\tremaining: 3.88ms\n",
      "994:\tlearn: 0.0291117\ttotal: 642ms\tremaining: 3.23ms\n",
      "995:\tlearn: 0.0290353\ttotal: 643ms\tremaining: 2.58ms\n",
      "996:\tlearn: 0.0289869\ttotal: 643ms\tremaining: 1.94ms\n",
      "997:\tlearn: 0.0289236\ttotal: 644ms\tremaining: 1.29ms\n",
      "998:\tlearn: 0.0289024\ttotal: 644ms\tremaining: 644us\n",
      "999:\tlearn: 0.0287366\ttotal: 644ms\tremaining: 0us\n"
     ]
    },
    {
     "data": {
      "text/plain": [
       "<catboost.core.CatBoostRegressor at 0x7f93a786bdf0>"
      ]
     },
     "execution_count": 9,
     "metadata": {},
     "output_type": "execute_result"
    }
   ],
   "source": [
    "#Train the Model \n",
    "prior_model = ctb.CatBoostRegressor()\n",
    "prior_model.fit(X_train,Y_train)"
   ]
  },
  {
   "cell_type": "code",
   "execution_count": 10,
   "id": "af65dcda",
   "metadata": {
    "execution": {
     "iopub.execute_input": "2022-07-27T06:24:38.897552Z",
     "iopub.status.busy": "2022-07-27T06:24:38.897260Z",
     "iopub.status.idle": "2022-07-27T06:24:38.930407Z",
     "shell.execute_reply": "2022-07-27T06:24:38.929642Z"
    },
    "id": "af65dcda",
    "papermill": {
     "duration": 0.051967,
     "end_time": "2022-07-27T06:24:38.933086",
     "exception": false,
     "start_time": "2022-07-27T06:24:38.881119",
     "status": "completed"
    },
    "tags": []
   },
   "outputs": [
    {
     "data": {
      "application/scrapbook.scrap.json+json": {
       "data": 0.24810198789099505,
       "encoder": "json",
       "name": "Prior Model MSE",
       "version": 1
      }
     },
     "metadata": {
      "scrapbook": {
       "data": true,
       "display": false,
       "name": "Prior Model MSE"
      }
     },
     "output_type": "display_data"
    },
    {
     "data": {
      "application/scrapbook.scrap.json+json": {
       "data": 3.174619297856439,
       "encoder": "json",
       "name": "ABC Pre-generator MSE",
       "version": 1
      }
     },
     "metadata": {
      "scrapbook": {
       "data": true,
       "display": false,
       "name": "ABC Pre-generator MSE"
      }
     },
     "output_type": "display_data"
    },
    {
     "data": {
      "application/scrapbook.scrap.json+json": {
       "data": 0.3572050170475396,
       "encoder": "json",
       "name": "Prior Model MAE",
       "version": 1
      }
     },
     "metadata": {
      "scrapbook": {
       "data": true,
       "display": false,
       "name": "Prior Model MAE"
      }
     },
     "output_type": "display_data"
    },
    {
     "name": "stdout",
     "output_type": "stream",
     "text": [
      "Prior Model MAE 0.3572050170475396\n"
     ]
    },
    {
     "data": {
      "application/scrapbook.scrap.json+json": {
       "data": 1.5327151881468015,
       "encoder": "json",
       "name": "ABC Pre-generator MAE",
       "version": 1
      }
     },
     "metadata": {
      "scrapbook": {
       "data": true,
       "display": false,
       "name": "ABC Pre-generator MAE"
      }
     },
     "output_type": "display_data"
    },
    {
     "name": "stdout",
     "output_type": "stream",
     "text": [
      "ABC Pre-generator MAE 1.5327151881468015\n"
     ]
    }
   ],
   "source": [
    "y_pred = prior_model.predict(X_test)\n",
    "y_abc = y_pred + np.random.normal(0,variance, y_pred.shape) + bias \n",
    "mse = mean_squared_error(y_pred,Y_test)\n",
    "sb.glue(\"Prior Model MSE\",mse)\n",
    "mse = mean_squared_error(y_abc,Y_test)\n",
    "sb.glue(\"ABC Pre-generator MSE\",mse)\n",
    "mae = mean_absolute_error(y_pred,Y_test)\n",
    "sb.glue(\"Prior Model MAE\",mae)\n",
    "print(\"Prior Model MAE\",mae)\n",
    "mae = mean_absolute_error(y_abc,Y_test)\n",
    "sb.glue(\"ABC Pre-generator MAE\",mae)\n",
    "print(\"ABC Pre-generator MAE\",mae)"
   ]
  },
  {
   "cell_type": "markdown",
   "id": "25609da2",
   "metadata": {
    "papermill": {
     "duration": 0.009531,
     "end_time": "2022-07-27T06:24:38.951721",
     "exception": false,
     "start_time": "2022-07-27T06:24:38.942190",
     "status": "completed"
    },
    "tags": []
   },
   "source": [
    "# mGAN Model"
   ]
  },
  {
   "cell_type": "code",
   "execution_count": 11,
   "id": "dfc3464d",
   "metadata": {
    "execution": {
     "iopub.execute_input": "2022-07-27T06:24:38.991412Z",
     "iopub.status.busy": "2022-07-27T06:24:38.990679Z",
     "iopub.status.idle": "2022-07-27T06:24:39.053757Z",
     "shell.execute_reply": "2022-07-27T06:24:39.052438Z"
    },
    "papermill": {
     "duration": 0.092766,
     "end_time": "2022-07-27T06:24:39.055911",
     "exception": false,
     "start_time": "2022-07-27T06:24:38.963145",
     "status": "completed"
    },
    "tags": []
   },
   "outputs": [],
   "source": [
    "gen = network.Generator(n_features+1).to(device)\n",
    "disc = network.DiscriminatorTabnet(n_features+1).to(device)\n",
    "\n",
    "criterion = torch.nn.BCELoss()\n",
    "gen_opt = torch.optim.Adam(gen.parameters(), lr=0.001, betas=(0.5, 0.999))\n",
    "disc_opt = torch.optim.Adam(disc.parameters(), lr=0.001, betas=(0.5, 0.999))"
   ]
  },
  {
   "cell_type": "code",
   "execution_count": 12,
   "id": "b75fdd85",
   "metadata": {
    "execution": {
     "iopub.execute_input": "2022-07-27T06:24:39.084687Z",
     "iopub.status.busy": "2022-07-27T06:24:39.084340Z",
     "iopub.status.idle": "2022-07-27T06:28:34.355633Z",
     "shell.execute_reply": "2022-07-27T06:28:34.354196Z"
    },
    "papermill": {
     "duration": 235.291856,
     "end_time": "2022-07-27T06:28:34.358988",
     "exception": false,
     "start_time": "2022-07-27T06:24:39.067132",
     "status": "completed"
    },
    "tags": []
   },
   "outputs": [
    {
     "data": {
      "image/png": "[encoded data removed]",
      "text/plain": [
       "<Figure size 432x288 with 1 Axes>"
      ]
     },
     "metadata": {
      "needs_background": "light"
     },
     "output_type": "display_data"
    },
    {
     "data": {
      "image/png": "[encoded data removed]",
      "text/plain": [
       "<Figure size 432x288 with 1 Axes>"
      ]
     },
     "metadata": {
      "needs_background": "light"
     },
     "output_type": "display_data"
    }
   ],
   "source": [
    "#Training the ABC_GAN \n",
    "ABC_train_test2.training_GAN(disc,gen,disc_opt,gen_opt,train_data,batch_size,n_epochs,criterion,prior_model,variance,bias,device)"
   ]
  },
  {
   "cell_type": "code",
   "execution_count": 13,
   "id": "1fa7c368",
   "metadata": {
    "execution": {
     "iopub.execute_input": "2022-07-27T06:28:34.391429Z",
     "iopub.status.busy": "2022-07-27T06:28:34.390575Z",
     "iopub.status.idle": "2022-07-27T06:28:34.679551Z",
     "shell.execute_reply": "2022-07-27T06:28:34.678918Z"
    },
    "papermill": {
     "duration": 0.309299,
     "end_time": "2022-07-27T06:28:34.681564",
     "exception": false,
     "start_time": "2022-07-27T06:28:34.372265",
     "status": "completed"
    },
    "tags": []
   },
   "outputs": [
    {
     "data": {
      "application/scrapbook.scrap.json+json": {
       "data": 0.4557280148487981,
       "encoder": "json",
       "name": "ABC-GAN Model 1 MSE",
       "version": 1
      }
     },
     "metadata": {
      "scrapbook": {
       "data": true,
       "display": false,
       "name": "ABC-GAN Model 1 MSE"
      }
     },
     "output_type": "display_data"
    },
    {
     "data": {
      "application/scrapbook.scrap.json+json": {
       "data": 0.4967653168439865,
       "encoder": "json",
       "name": "ABC-GAN Model 1 MAE",
       "version": 1
      }
     },
     "metadata": {
      "scrapbook": {
       "data": true,
       "display": false,
       "name": "ABC-GAN Model 1 MAE"
      }
     },
     "output_type": "display_data"
    },
    {
     "data": {
      "application/scrapbook.scrap.json+json": {
       "data": 9.93530633687973,
       "encoder": "json",
       "name": "ABC-GAN Model 1 Manhattan Distance",
       "version": 1
      }
     },
     "metadata": {
      "scrapbook": {
       "data": true,
       "display": false,
       "name": "ABC-GAN Model 1 Manhattan Distance"
      }
     },
     "output_type": "display_data"
    },
    {
     "data": {
      "application/scrapbook.scrap.json+json": {
       "data": 3.018108720498619,
       "encoder": "json",
       "name": "ABC-GAN Model 1 Euclidean distance",
       "version": 1
      }
     },
     "metadata": {
      "scrapbook": {
       "data": true,
       "display": false,
       "name": "ABC-GAN Model 1 Euclidean distance"
      }
     },
     "output_type": "display_data"
    },
    {
     "data": {
      "application/scrapbook.scrap.json+json": {
       "data": [
        [
         0.41481677276822,
         0.4865226838335627,
         0.4173965486742809,
         0.48384672331959155,
         0.45313818360223995,
         0.4650621096866926,
         0.43375919874147134,
         0.4450818927075767,
         0.4348695689687963,
         0.4774349984811847,
         0.43559948542390625,
         0.441871164942128,
         0.4672880971726146,
         0.44472518959224383,
         0.46174591047348706,
         0.4525033822520177,
         0.435623953290939,
         0.49188502046478,
         0.4320960823023978,
         0.4921973773869096,
         0.46275647316614765,
         0.4756830077588489,
         0.48493161906426324,
         0.44805368930373923,
         0.4164054253686434,
         0.4502484282399665,
         0.43893305481905076,
         0.42776298796145584,
         0.4370208513676713,
         0.45402200260639025,
         0.4424594458646525,
         0.5043194517990758,
         0.4589799465248953,
         0.4759199131167634,
         0.44633856600453825,
         0.4549481469212761,
         0.47913428528426005,
         0.4368428152904113,
         0.44029718332666545,
         0.43889193324657877,
         0.44016749026902174,
         0.4465103456426574,
         0.4344879224002643,
         0.48535850469000863,
         0.43217658528459213,
         0.43036627948127715,
         0.44039195823045885,
         0.41298355328014874,
         0.48349043624945454,
         0.45155966120958924,
         0.437535100231875,
         0.521190988964021,
         0.46193328364882974,
         0.45402933444602683,
         0.43841782690827513,
         0.47607119845212775,
         0.49545016871705877,
         0.4806074808499553,
         0.4251574179594623,
         0.4485165474351042,
         0.4548061124321123,
         0.42968815029483504,
         0.4726380677550244,
         0.45267507799368845,
         0.45070494601177413,
         0.4795938142565097,
         0.4329709592533323,
         0.45355128561257185,
         0.4562812724723592,
         0.4386987669183374,
         0.45839267005688883,
         0.4241125271022347,
         0.4497043430146128,
         0.45633777274961584,
         0.4623222409906497,
         0.48943943721222566,
         0.47413510134683234,
         0.45596756304688457,
         0.47036183062353026,
         0.47214481847054424,
         0.41948987112385705,
         0.4215054964223322,
         0.4542509637145624,
         0.47335740726965625,
         0.4858092820246398,
         0.4589092673343874,
         0.43935080478034527,
         0.4661838223143301,
         0.4609216729193092,
         0.4761120890080207,
         0.4351787231935848,
         0.4506273770052875,
         0.4429235465327256,
         0.49584867063883864,
         0.4329516250079487,
         0.44483246292863965,
         0.502557647924178,
         0.4655309600237221,
         0.49547539279532093,
         0.4786419888330172
        ],
        [
         0.47058832556940616,
         0.5115521738771349,
         0.478739440953359,
         0.5031251771841199,
         0.49640099159441886,
         0.49922564937733116,
         0.48157892511226236,
         0.4899403846357018,
         0.48891825913451614,
         0.5077829991932958,
         0.4868390270974487,
         0.4930259035434574,
         0.5100499921943993,
         0.47992511219345035,
         0.5006716108415276,
         0.49258668250404297,
         0.4838474394287914,
         0.5186329586897045,
         0.483044974366203,
         0.517809891467914,
         0.5000435332302005,
         0.5215773104224354,
         0.5169960380997509,
         0.5092007400002331,
         0.4544667114969343,
         0.5011737736407668,
         0.5024615427013487,
         0.47940515815280377,
         0.4783288596663624,
         0.4950676599051803,
         0.49550857790745795,
         0.5208582063671201,
         0.5038152447436005,
         0.5211204963270575,
         0.48391803153790536,
         0.5158952115569264,
         0.5110081681516021,
         0.46907371855340896,
         0.49017415367998185,
         0.48146435455419123,
         0.4801715855952352,
         0.478971099993214,
         0.4762536057736725,
         0.5077982758637518,
         0.4768463300075382,
         0.478561325231567,
         0.49378457344137133,
         0.46425390816293655,
         0.5065136780496686,
         0.4937406369950622,
         0.49596769534982743,
         0.5298731615301222,
         0.5078721509780735,
         0.4975819034036249,
         0.4873944527003914,
         0.4964969816152006,
         0.51764618284069,
         0.517558137094602,
         0.4774547311011702,
         0.48696262924931943,
         0.5131271572317928,
         0.49096908993087707,
         0.5189495949540287,
         0.49711710228584705,
         0.5036785463336855,
         0.5087595405522733,
         0.4923151706811041,
         0.5011835222598165,
         0.5009144560899585,
         0.48886067545972767,
         0.49528621598146855,
         0.4785720492247492,
         0.5045393156353384,
         0.5047905286308378,
         0.5011455075349659,
         0.5038222776260227,
         0.5075138805899769,
         0.5066203908529132,
         0.5007545954082161,
         0.5164966201875358,
         0.49292611903510986,
         0.47722432636655865,
         0.4785489765461534,
         0.517903690924868,
         0.522378638619557,
         0.49026783867739143,
         0.49162005209363996,
         0.506886859005317,
         0.4797467929776758,
         0.521604718407616,
         0.4965129604097456,
         0.47120002708397807,
         0.4848616837058216,
         0.5088698095176369,
         0.47764251246117057,
         0.4944807311054319,
         0.5102545486297458,
         0.4858366025146097,
         0.5077491196338088,
         0.5070529846008867
        ],
        [
         9.411766511388123,
         10.231043477542698,
         9.57478881906718,
         10.062503543682396,
         9.928019831888378,
         9.984512987546623,
         9.631578502245247,
         9.798807692714036,
         9.778365182690322,
         10.155659983865917,
         9.736780541948974,
         9.860518070869148,
         10.200999843887985,
         9.598502243869007,
         10.013432216830552,
         9.85173365008086,
         9.676948788575828,
         10.37265917379409,
         9.660899487324059,
         10.35619782935828,
         10.000870664604008,
         10.431546208448708,
         10.339920761995018,
         10.184014800004661,
         9.089334229938686,
         10.023475472815335,
         10.049230854026973,
         9.588103163056076,
         9.566577193327248,
         9.901353198103607,
         9.910171558149159,
         10.417164127342403,
         10.07630489487201,
         10.42240992654115,
         9.678360630758107,
         10.317904231138527,
         10.220163363032043,
         9.38147437106818,
         9.803483073599637,
         9.629287091083825,
         9.603431711904705,
         9.57942199986428,
         9.52507211547345,
         10.155965517275035,
         9.536926600150764,
         9.57122650463134,
         9.875691468827426,
         9.285078163258731,
         10.130273560993373,
         9.874812739901245,
         9.919353906996548,
         10.597463230602443,
         10.15744301956147,
         9.951638068072498,
         9.747889054007828,
         9.929939632304013,
         10.3529236568138,
         10.35116274189204,
         9.549094622023404,
         9.739252584986389,
         10.262543144635856,
         9.819381798617542,
         10.378991899080575,
         9.942342045716941,
         10.07357092667371,
         10.175190811045468,
         9.846303413622081,
         10.02367044519633,
         10.018289121799171,
         9.777213509194553,
         9.905724319629371,
         9.571440984494984,
         10.090786312706769,
         10.095810572616756,
         10.022910150699317,
         10.076445552520454,
         10.150277611799538,
         10.132407817058265,
         10.015091908164322,
         10.329932403750718,
         9.858522380702198,
         9.544486527331173,
         9.570979530923069,
         10.35807381849736,
         10.44757277239114,
         9.805356773547828,
         9.8324010418728,
         10.137737180106342,
         9.594935859553516,
         10.43209436815232,
         9.930259208194911,
         9.424000541679561,
         9.697233674116433,
         10.177396190352738,
         9.552850249223411,
         9.889614622108638,
         10.205090972594917,
         9.716732050292194,
         10.154982392676175,
         10.141059692017734
        ],
        [
         2.8803359969566746,
         3.119367512280535,
         2.889278625104477,
         3.11077714830102,
         3.0104424379225057,
         3.049793795280896,
         2.945366526398612,
         2.983561270386706,
         2.9491340049878922,
         3.0900970809383472,
         2.9516079869247753,
         2.972780398691192,
         3.0570838953899004,
         2.982365469194692,
         3.0389008225787397,
         3.008333034263386,
         2.9516908824974846,
         3.136510865483427,
         2.9397145517971563,
         3.137506581305957,
         3.042224426850023,
         3.084422175250492,
         3.1142627347873635,
         2.993505267420584,
         2.8858462376524616,
         3.000827979874776,
         2.9628805403493774,
         2.9249375650138445,
         2.9564196297808314,
         3.013376851993093,
         2.974758631770492,
         3.175907592481481,
         3.0297852944553525,
         3.0851901501099195,
         2.987770292390425,
         3.0164487296199027,
         3.0955913337656833,
         2.955817366788453,
         2.9674810305262795,
         2.9627417479307194,
         2.9670439506991526,
         2.988345179669368,
         2.947839623861055,
         3.1156331770284145,
         2.9399883852987996,
         2.933824396521636,
         2.967800391638423,
         2.8739643466130502,
         3.1096316059927567,
         3.005194373778805,
         2.9581585496111433,
         3.2285940871036143,
         3.039517342108217,
         3.013401182869705,
         2.9611410871766144,
         3.0856804709889447,
         3.1478569494723185,
         3.1003466930327495,
         2.9160158365806668,
         2.995051076142456,
         3.0159778262849093,
         2.931512068181999,
         3.074534331423295,
         3.0089037139585857,
         3.0023489004836668,
         3.0970754406585246,
         2.942689107783329,
         3.0118143555424255,
         3.020865016753841,
         2.9620896911415002,
         3.0278463305025527,
         2.9124303497327952,
         2.9990143147861525,
         3.0210520444031275,
         3.0407967409567176,
         3.128704003935897,
         3.07939962118213,
         3.0198263627132094,
         3.0671218776681513,
         3.072929606972943,
         2.89651470261712,
         2.903465158813972,
         3.0141365719375175,
         3.0768731116822363,
         3.117079665406836,
         3.029552004288381,
         2.964290150374438,
         3.053469575136881,
         3.0361873226772724,
         3.0858129852861165,
         2.950182106899792,
         3.00209052829953,
         2.9763183516980356,
         3.149122641749091,
         2.9426234044061728,
         2.9827251396286574,
         3.17035533631225,
         3.051330726170869,
         3.1479370794071495,
         3.094000610319969
        ]
       ],
       "encoder": "json",
       "name": "ABC_GAN_1 Metrics",
       "version": 1
      }
     },
     "metadata": {
      "scrapbook": {
       "data": true,
       "display": false,
       "name": "ABC_GAN_1 Metrics"
      }
     },
     "output_type": "display_data"
    },
    {
     "name": "stdout",
     "output_type": "stream",
     "text": [
      "MAE\n",
      "0.4967653168439865\n"
     ]
    }
   ],
   "source": [
    "ABC_GAN1_metrics=ABC_train_test2.test_generator(gen,test_data,prior_model,variance,bias,\"1\",device)\n",
    "sb.glue(\"ABC_GAN_1 Metrics\",ABC_GAN1_metrics)\n",
    "\n",
    "print(\"MAE\")\n",
    "print(mean(ABC_GAN1_metrics[1]))"
   ]
  },
  {
   "cell_type": "code",
   "execution_count": 14,
   "id": "eb22ce5c",
   "metadata": {
    "execution": {
     "iopub.execute_input": "2022-07-27T06:28:34.726128Z",
     "iopub.status.busy": "2022-07-27T06:28:34.725451Z",
     "iopub.status.idle": "2022-07-27T06:28:35.750927Z",
     "shell.execute_reply": "2022-07-27T06:28:35.749766Z"
    },
    "papermill": {
     "duration": 1.063142,
     "end_time": "2022-07-27T06:28:35.755011",
     "exception": false,
     "start_time": "2022-07-27T06:28:34.691869",
     "status": "completed"
    },
    "tags": []
   },
   "outputs": [
    {
     "data": {
      "image/png": "[encoded data removed]",
      "text/plain": [
       "<Figure size 432x288 with 1 Axes>"
      ]
     },
     "metadata": {
      "needs_background": "light"
     },
     "output_type": "display_data"
    },
    {
     "data": {
      "image/png": "[encoded data removed]",
      "text/plain": [
       "<Figure size 432x288 with 1 Axes>"
      ]
     },
     "metadata": {
      "needs_background": "light"
     },
     "output_type": "display_data"
    },
    {
     "data": {
      "image/png": "[encoded data removed]",
      "text/plain": [
       "<Figure size 432x288 with 1 Axes>"
      ]
     },
     "metadata": {
      "needs_background": "light"
     },
     "output_type": "display_data"
    },
    {
     "data": {
      "image/png": "[encoded data removed]",
      "text/plain": [
       "<Figure size 432x288 with 1 Axes>"
      ]
     },
     "metadata": {
      "needs_background": "light"
     },
     "output_type": "display_data"
    }
   ],
   "source": [
    "sanityChecks.discProbVsError(train_data,disc,device)\n",
    "sanityChecks.discProbVsError(test_data,disc,device)"
   ]
  },
  {
   "cell_type": "markdown",
   "id": "793c000f",
   "metadata": {
    "papermill": {
     "duration": 0.027814,
     "end_time": "2022-07-27T06:28:35.809720",
     "exception": false,
     "start_time": "2022-07-27T06:28:35.781906",
     "status": "completed"
    },
    "tags": []
   },
   "source": [
    "# mGAN Model with TabNet Generator"
   ]
  },
  {
   "cell_type": "code",
   "execution_count": 15,
   "id": "be79fa9e",
   "metadata": {
    "execution": {
     "iopub.execute_input": "2022-07-27T06:28:35.915059Z",
     "iopub.status.busy": "2022-07-27T06:28:35.913782Z",
     "iopub.status.idle": "2022-07-27T06:28:35.955790Z",
     "shell.execute_reply": "2022-07-27T06:28:35.954854Z"
    },
    "papermill": {
     "duration": 0.11486,
     "end_time": "2022-07-27T06:28:35.958677",
     "exception": false,
     "start_time": "2022-07-27T06:28:35.843817",
     "status": "completed"
    },
    "tags": []
   },
   "outputs": [],
   "source": [
    "gen2 = network.GeneratorTabnet(n_features+1).to(device)\n",
    "disc2 = network.DiscriminatorTabnet(n_features+1).to(device)\n",
    "\n",
    "criterion = torch.nn.BCELoss()\n",
    "gen_opt = torch.optim.Adam(gen2.parameters(), lr=0.001, betas=(0.5, 0.999))\n",
    "disc_opt = torch.optim.Adam(disc2.parameters(), lr=0.001, betas=(0.5, 0.999))"
   ]
  },
  {
   "cell_type": "code",
   "execution_count": 16,
   "id": "bea7d3e4",
   "metadata": {
    "execution": {
     "iopub.execute_input": "2022-07-27T06:28:36.011939Z",
     "iopub.status.busy": "2022-07-27T06:28:36.011534Z",
     "iopub.status.idle": "2022-07-27T06:36:31.640941Z",
     "shell.execute_reply": "2022-07-27T06:36:31.639507Z"
    },
    "papermill": {
     "duration": 475.665136,
     "end_time": "2022-07-27T06:36:31.644168",
     "exception": false,
     "start_time": "2022-07-27T06:28:35.979032",
     "status": "completed"
    },
    "tags": []
   },
   "outputs": [
    {
     "data": {
      "image/png": "[encoded data removed]",
      "text/plain": [
       "<Figure size 432x288 with 1 Axes>"
      ]
     },
     "metadata": {
      "needs_background": "light"
     },
     "output_type": "display_data"
    },
    {
     "data": {
      "image/png": "[encoded data removed]",
      "text/plain": [
       "<Figure size 432x288 with 1 Axes>"
      ]
     },
     "metadata": {
      "needs_background": "light"
     },
     "output_type": "display_data"
    }
   ],
   "source": [
    "#Training the ABC_GAN \n",
    "ABC_train_test2.training_GAN(disc2,gen2,disc_opt,gen_opt,train_data,batch_size,n_epochs,criterion,prior_model,variance,bias,device)"
   ]
  },
  {
   "cell_type": "code",
   "execution_count": 17,
   "id": "cdb8b674",
   "metadata": {
    "execution": {
     "iopub.execute_input": "2022-07-27T06:36:31.745376Z",
     "iopub.status.busy": "2022-07-27T06:36:31.735584Z",
     "iopub.status.idle": "2022-07-27T06:36:32.869052Z",
     "shell.execute_reply": "2022-07-27T06:36:32.867485Z"
    },
    "papermill": {
     "duration": 1.204026,
     "end_time": "2022-07-27T06:36:32.871859",
     "exception": false,
     "start_time": "2022-07-27T06:36:31.667833",
     "status": "completed"
    },
    "tags": []
   },
   "outputs": [
    {
     "data": {
      "application/scrapbook.scrap.json+json": {
       "data": 2.234637958759063,
       "encoder": "json",
       "name": "ABC-GAN Model 1 MSE",
       "version": 1
      }
     },
     "metadata": {
      "scrapbook": {
       "data": true,
       "display": false,
       "name": "ABC-GAN Model 1 MSE"
      }
     },
     "output_type": "display_data"
    },
    {
     "data": {
      "application/scrapbook.scrap.json+json": {
       "data": 1.028055556109175,
       "encoder": "json",
       "name": "ABC-GAN Model 1 MAE",
       "version": 1
      }
     },
     "metadata": {
      "scrapbook": {
       "data": true,
       "display": false,
       "name": "ABC-GAN Model 1 MAE"
      }
     },
     "output_type": "display_data"
    },
    {
     "data": {
      "application/scrapbook.scrap.json+json": {
       "data": 20.5611111221835,
       "encoder": "json",
       "name": "ABC-GAN Model 1 Manhattan Distance",
       "version": 1
      }
     },
     "metadata": {
      "scrapbook": {
       "data": true,
       "display": false,
       "name": "ABC-GAN Model 1 Manhattan Distance"
      }
     },
     "output_type": "display_data"
    },
    {
     "data": {
      "application/scrapbook.scrap.json+json": {
       "data": 6.667159972515055,
       "encoder": "json",
       "name": "ABC-GAN Model 1 Euclidean distance",
       "version": 1
      }
     },
     "metadata": {
      "scrapbook": {
       "data": true,
       "display": false,
       "name": "ABC-GAN Model 1 Euclidean distance"
      }
     },
     "output_type": "display_data"
    },
    {
     "data": {
      "application/scrapbook.scrap.json+json": {
       "data": [
        [
         2.5228739275540453,
         2.220729615507358,
         2.135415096569072,
         2.088415585285751,
         2.359288751713046,
         1.7366839317215803,
         3.0035005089539033,
         2.0151022506073386,
         2.5850723177544976,
         2.009613995571505,
         2.3584508223186997,
         1.9133301934705726,
         2.5734664078707064,
         1.7725849744899622,
         2.3233734509379573,
         2.322298853016771,
         2.36428666532487,
         1.9090357794780026,
         2.648512276821477,
         2.1654085411673454,
         2.353258959412757,
         2.2716834420069096,
         2.107520614214617,
         2.3081070542837265,
         2.659740934184711,
         1.8419460528513087,
         2.737037564262991,
         2.3299759713204056,
         2.0375241714837387,
         2.1440610838848984,
         2.004406213463948,
         1.79723254026894,
         1.969042550238428,
         2.58486108197524,
         2.277545097452623,
         2.1005149065331996,
         2.4798199569695067,
         2.571198275097479,
         2.184797499994153,
         2.661073526230333,
         1.7502002490571484,
         2.209024726628516,
         2.345500824800228,
         1.5692480796246548,
         2.4215252656866806,
         2.209906701206717,
         1.8934920564758193,
         2.4044111652787996,
         2.506665178185613,
         2.405622740155926,
         2.6797679528795384,
         1.979378624575307,
         2.4998861870955973,
         1.752268105414344,
         2.366613151523112,
         2.133614554183425,
         2.135804861833712,
         1.8646008507819445,
         2.409272934842167,
         2.2271512975533256,
         2.589850280803888,
         1.7806891231801736,
         2.261039220087963,
         2.0492729527134252,
         2.2153061539957184,
         2.522168317064203,
         1.6117694187367397,
         2.0138638190616134,
         1.9437164820528992,
         2.504469728551366,
         2.4311305406094155,
         2.820154555258667,
         2.3027140267148996,
         2.48743012900247,
         2.6540304839876967,
         2.3484615116433334,
         1.2158778255501501,
         1.558902827539078,
         2.0322135842737366,
         2.20334004747287,
         1.8828124938404733,
         2.774735188067404,
         2.246046159406785,
         2.1398068442253395,
         2.6792370531799152,
         2.120367956867547,
         2.5317767081670155,
         2.059847356349556,
         2.636348730912082,
         2.224265128185048,
         2.456404970463013,
         1.9967692556777539,
         2.2701736965350867,
         2.8816616037606804,
         2.599586375327366,
         1.9981134227097672,
         2.1857930164698325,
         2.3227736628200377,
         1.9663846233688063,
         1.7317436512255289
        ],
        [
         1.0633757850620895,
         1.0177361582871527,
         1.0904713778290898,
         0.8988322446588427,
         1.1120759612414985,
         0.9631463228259236,
         1.2619251010473818,
         0.9867607200983912,
         1.0170962973032147,
         0.9757732284720987,
         1.221267025033012,
         0.8924022002611309,
         0.8984339071903378,
         0.9316236740443855,
         1.0799883289728314,
         1.0545227183494716,
         0.9598556085024029,
         0.9864314171019941,
         1.0997866457793861,
         1.0392233280930667,
         1.077957251528278,
         1.039973213383928,
         0.9188292352948337,
         1.0971217500511556,
         1.0251083536539227,
         1.0272835610900075,
         1.123587027611211,
         1.257911629183218,
         0.9243138617370278,
         0.8610965228173881,
         1.0675651224795728,
         0.904837322467938,
         0.9878479226026684,
         0.9592472872231156,
         1.0999459257815034,
         0.9823402652982622,
         1.1480192957911641,
         0.9375154829118401,
         1.1015374636743218,
         1.1336977689061314,
         0.9844204618129879,
         1.0564109139610083,
         1.0332366824615746,
         0.9841185017023235,
         1.0411737820599227,
         1.031106103817001,
         0.9097402750048786,
         1.0926765567157417,
         0.9902237756643444,
         1.0365661358926446,
         1.102237959066406,
         1.1182676172349602,
         1.022736898669973,
         0.9752989737782627,
         1.217236045608297,
         1.0820974460337311,
         1.0511211311910302,
         1.047393089765683,
         1.0548128551337868,
         0.9428035876248032,
         1.1103186509106309,
         1.0237626573536545,
         1.0313940484542399,
         0.9549179172609001,
         1.0485198500100523,
         1.04324165857397,
         0.9452402427326888,
         0.9889462059829384,
         0.8558588220272213,
         1.1241387004498393,
         0.9759159533772618,
         1.0113780160900205,
         1.1042249201331287,
         1.0543449065182358,
         1.2188924340996892,
         1.0882301618810744,
         0.8067509724292904,
         0.845303143421188,
         1.067455372819677,
         0.9862231920938939,
         1.110262948134914,
         1.1062656490597873,
         0.9510873979423196,
         1.0227655498776584,
         0.9615080813411623,
         1.0018941460642963,
         1.0383532314095647,
         1.1587371206376702,
         0.9525785346981138,
         1.0136462970171123,
         0.9433053678367287,
         0.9790638303849846,
         0.9435262574348598,
         1.1266356623265892,
         1.1382847143802792,
         1.0451709723565727,
         0.9455482310149819,
         1.0740912279579788,
         1.0159793233964591,
         0.9916501341853291
        ],
        [
         21.26751570124179,
         20.354723165743053,
         21.809427556581795,
         17.976644893176854,
         22.241519224829972,
         19.26292645651847,
         25.238502020947635,
         19.735214401967824,
         20.341925946064293,
         19.515464569441974,
         24.42534050066024,
         17.84804400522262,
         17.968678143806756,
         18.63247348088771,
         21.599766579456627,
         21.090454366989434,
         19.197112170048058,
         19.728628342039883,
         21.995732915587723,
         20.784466561861336,
         21.55914503056556,
         20.79946426767856,
         18.376584705896676,
         21.942435001023114,
         20.502167073078454,
         20.54567122180015,
         22.47174055222422,
         25.158232583664358,
         18.486277234740555,
         17.221930456347764,
         21.351302449591458,
         18.09674644935876,
         19.756958452053368,
         19.18494574446231,
         21.998918515630066,
         19.646805305965245,
         22.96038591582328,
         18.7503096582368,
         22.030749273486435,
         22.673955378122628,
         19.68840923625976,
         21.128218279220164,
         20.664733649231493,
         19.68237003404647,
         20.823475641198456,
         20.62212207634002,
         18.194805500097573,
         21.853531134314835,
         19.80447551328689,
         20.73132271785289,
         22.044759181328118,
         22.365352344699204,
         20.45473797339946,
         19.505979475565255,
         24.34472091216594,
         21.641948920674622,
         21.022422623820603,
         20.947861795313656,
         21.096257102675736,
         18.856071752496064,
         22.206373018212616,
         20.47525314707309,
         20.6278809690848,
         19.098358345218003,
         20.970397000201046,
         20.864833171479404,
         18.904804854653776,
         19.778924119658768,
         17.117176440544426,
         22.482774008996785,
         19.518319067545235,
         20.22756032180041,
         22.084498402662575,
         21.086898130364716,
         24.377848681993783,
         21.764603237621486,
         16.13501944858581,
         16.90606286842376,
         21.34910745639354,
         19.724463841877878,
         22.20525896269828,
         22.125312981195748,
         19.02174795884639,
         20.45531099755317,
         19.230161626823246,
         20.037882921285927,
         20.767064628191292,
         23.174742412753403,
         19.051570693962276,
         20.272925940342247,
         18.866107356734574,
         19.581276607699692,
         18.870525148697197,
         22.532713246531785,
         22.765694287605584,
         20.903419447131455,
         18.910964620299637,
         21.481824559159577,
         20.319586467929184,
         19.83300268370658
        ],
        [
         7.103342773024606,
         6.664427380514184,
         6.535158906360383,
         6.462840838649442,
         6.869190275007739,
         5.893528538526949,
         7.75048451253714,
         6.34838916672149,
         7.190371781423401,
         6.339738157954955,
         6.867970329462264,
         6.186000636066202,
         7.174212720390587,
         5.954132975488475,
         6.81670514389167,
         6.815128543199712,
         6.87646226678351,
         6.179054587035144,
         7.278066057437893,
         6.580894378680371,
         6.860406634322424,
         6.740450195657424,
         6.49233488694879,
         6.794272667892753,
         7.293477818139589,
         6.069507480597267,
         7.398699296853455,
         6.826384066722888,
         6.3836105324240116,
         6.548375499137016,
         6.3315183225889,
         5.995385792872615,
         6.27541640090668,
         7.19007799954248,
         6.749140830435564,
         6.4815351677410495,
         7.04247109609902,
         7.171050515925096,
         6.610291218992024,
         7.295304690320114,
         5.916418256102502,
         6.646840943829656,
         6.849088734715338,
         5.602228270295052,
         6.959202922298904,
         6.648167719314421,
         6.153847668696097,
         6.934567276014849,
         7.080487523024969,
         6.93631420879407,
         7.32088512801497,
         6.291865581169558,
         7.07090685428057,
         5.919912339577916,
         6.879844695228392,
         6.532403162976739,
         6.5357552919822695,
         6.106719005786895,
         6.941574655425334,
         6.674056184290517,
         7.197013659572819,
         5.967728417379889,
         6.724640094589395,
         6.401988679642327,
         6.656284480092055,
         7.102349353649401,
         5.67762171817873,
         6.346438086141885,
         6.23492819854872,
         7.077386139743071,
         6.972991525320269,
         7.510199138849338,
         6.786330417412491,
         7.053268928663459,
         7.285644081325544,
         6.853410117077969,
         4.9312834547410676,
         5.583731418216814,
         6.3752860081313,
         6.638282982026105,
         6.1364688442792135,
         7.449476744130965,
         6.702307303319931,
         6.541875639639353,
         7.32015990696913,
         6.512093299189665,
         7.115864962416046,
         6.41848479993457,
         7.261334217500364,
         6.66973032166226,
         7.009143985484978,
         6.319445000437544,
         6.738209994553578,
         7.591655423898901,
         7.210528933895717,
         6.321571675951745,
         6.611797057487218,
         6.815825207295208,
         6.271179511652981,
         5.88514001740915
        ]
       ],
       "encoder": "json",
       "name": "ABC_GAN_2 Metrics",
       "version": 1
      }
     },
     "metadata": {
      "scrapbook": {
       "data": true,
       "display": false,
       "name": "ABC_GAN_2 Metrics"
      }
     },
     "output_type": "display_data"
    },
    {
     "name": "stdout",
     "output_type": "stream",
     "text": [
      "MAE\n",
      "1.028055556109175\n"
     ]
    }
   ],
   "source": [
    "ABC_GAN2_metrics=ABC_train_test2.test_generator(gen2,test_data,prior_model,variance,bias,\"1\",device)\n",
    "sb.glue(\"ABC_GAN_2 Metrics\",ABC_GAN2_metrics)\n",
    "\n",
    "print(\"MAE\")\n",
    "print(mean(ABC_GAN2_metrics[1]))"
   ]
  },
  {
   "cell_type": "code",
   "execution_count": 18,
   "id": "90a67b8a",
   "metadata": {
    "execution": {
     "iopub.execute_input": "2022-07-27T06:36:32.928575Z",
     "iopub.status.busy": "2022-07-27T06:36:32.928264Z",
     "iopub.status.idle": "2022-07-27T06:36:34.163107Z",
     "shell.execute_reply": "2022-07-27T06:36:34.161830Z"
    },
    "papermill": {
     "duration": 1.278544,
     "end_time": "2022-07-27T06:36:34.167528",
     "exception": false,
     "start_time": "2022-07-27T06:36:32.888984",
     "status": "completed"
    },
    "tags": []
   },
   "outputs": [
    {
     "data": {
      "image/png": "[encoded data removed]",
      "text/plain": [
       "<Figure size 432x288 with 1 Axes>"
      ]
     },
     "metadata": {
      "needs_background": "light"
     },
     "output_type": "display_data"
    },
    {
     "data": {
      "image/png": "[encoded data removed]",
      "text/plain": [
       "<Figure size 432x288 with 1 Axes>"
      ]
     },
     "metadata": {
      "needs_background": "light"
     },
     "output_type": "display_data"
    },
    {
     "data": {
      "image/png": "[encoded data removed]",
      "text/plain": [
       "<Figure size 432x288 with 1 Axes>"
      ]
     },
     "metadata": {
      "needs_background": "light"
     },
     "output_type": "display_data"
    },
    {
     "data": {
      "image/png": "[encoded data removed]",
      "text/plain": [
       "<Figure size 432x288 with 1 Axes>"
      ]
     },
     "metadata": {
      "needs_background": "light"
     },
     "output_type": "display_data"
    }
   ],
   "source": [
    "sanityChecks.discProbVsError(train_data,disc2,device)\n",
    "sanityChecks.discProbVsError(test_data,disc2,device)"
   ]
  },
  {
   "cell_type": "markdown",
   "id": "130f3a4d",
   "metadata": {
    "id": "130f3a4d",
    "papermill": {
     "duration": 0.091863,
     "end_time": "2022-07-27T06:36:34.304122",
     "exception": false,
     "start_time": "2022-07-27T06:36:34.212259",
     "status": "completed"
    },
    "tags": []
   },
   "source": [
    "# skipGAN Model"
   ]
  },
  {
   "cell_type": "markdown",
   "id": "ae66c6b9",
   "metadata": {
    "tags": [
     "papermill-error-cell-tag"
    ]
   },
   "source": [
    "<span id=\"papermill-error-cell\" style=\"color:red; font-family:Helvetica Neue, Helvetica, Arial, sans-serif; font-size:2em;\">Execution using papermill encountered an exception here and stopped:</span>"
   ]
  },
  {
   "cell_type": "code",
   "execution_count": 19,
   "id": "4e43dad1",
   "metadata": {
    "execution": {
     "iopub.execute_input": "2022-07-27T06:36:34.378925Z",
     "iopub.status.busy": "2022-07-27T06:36:34.378468Z",
     "iopub.status.idle": "2022-07-27T06:36:35.017977Z",
     "shell.execute_reply": "2022-07-27T06:36:35.016933Z"
    },
    "id": "4e43dad1",
    "papermill": {
     "duration": 0.692861,
     "end_time": "2022-07-27T06:36:35.026262",
     "exception": true,
     "start_time": "2022-07-27T06:36:34.333401",
     "status": "failed"
    },
    "tags": []
   },
   "outputs": [
    {
     "ename": "AttributeError",
     "evalue": "module 'network' has no attribute 'DiscriminatorTabNet'",
     "output_type": "error",
     "traceback": [
      "\u001b[0;31m---------------------------------------------------------------------------\u001b[0m",
      "\u001b[0;31mAttributeError\u001b[0m                            Traceback (most recent call last)",
      "Input \u001b[0;32mIn [19]\u001b[0m, in \u001b[0;36m<cell line: 5>\u001b[0;34m()\u001b[0m\n\u001b[1;32m      3\u001b[0m constraints\u001b[38;5;241m=\u001b[39mnetwork\u001b[38;5;241m.\u001b[39mweightConstraint()\n\u001b[1;32m      4\u001b[0m \u001b[38;5;66;03m#Discriminator \u001b[39;00m\n\u001b[0;32m----> 5\u001b[0m disc3 \u001b[38;5;241m=\u001b[39m \u001b[43mnetwork\u001b[49m\u001b[38;5;241;43m.\u001b[39;49m\u001b[43mDiscriminatorTabNet\u001b[49m(n_features\u001b[38;5;241m+\u001b[39m\u001b[38;5;241m1\u001b[39m)\u001b[38;5;241m.\u001b[39mto(device)\n\u001b[1;32m      7\u001b[0m criterion \u001b[38;5;241m=\u001b[39m torch\u001b[38;5;241m.\u001b[39mnn\u001b[38;5;241m.\u001b[39mBCELoss()\n\u001b[1;32m      8\u001b[0m gen_opt \u001b[38;5;241m=\u001b[39m torch\u001b[38;5;241m.\u001b[39moptim\u001b[38;5;241m.\u001b[39mAdam(gen3\u001b[38;5;241m.\u001b[39mparameters(), lr\u001b[38;5;241m=\u001b[39m\u001b[38;5;241m0.001\u001b[39m, betas\u001b[38;5;241m=\u001b[39m(\u001b[38;5;241m0.5\u001b[39m, \u001b[38;5;241m0.999\u001b[39m))\n",
      "\u001b[0;31mAttributeError\u001b[0m: module 'network' has no attribute 'DiscriminatorTabNet'"
     ]
    }
   ],
   "source": [
    "#Generator\n",
    "gen3 = network.GeneratorWithSkipConnection(n_features+1).to(device)\n",
    "constraints=network.weightConstraint()\n",
    "#Discriminator \n",
    "disc3 = network.DiscriminatorTabNet(n_features+1).to(device)\n",
    "\n",
    "criterion = torch.nn.BCELoss()\n",
    "gen_opt = torch.optim.Adam(gen3.parameters(), lr=0.001, betas=(0.5, 0.999))\n",
    "disc_opt = torch.optim.Adam(disc3.parameters(), lr=0.001, betas=(0.5, 0.999))\n"
   ]
  },
  {
   "cell_type": "code",
   "execution_count": null,
   "id": "26acbc37",
   "metadata": {
    "id": "26acbc37",
    "papermill": {
     "duration": null,
     "end_time": null,
     "exception": null,
     "start_time": null,
     "status": "pending"
    },
    "tags": []
   },
   "outputs": [],
   "source": [
    "ABC_train_test2.training_GAN_skip_connection(disc3,gen3,disc_opt,gen_opt,train_data,batch_size,n_epochs,criterion,prior_model,variance,bias,device)"
   ]
  },
  {
   "cell_type": "code",
   "execution_count": null,
   "id": "c5e0717b",
   "metadata": {
    "id": "c5e0717b",
    "papermill": {
     "duration": null,
     "end_time": null,
     "exception": null,
     "start_time": null,
     "status": "pending"
    },
    "tags": []
   },
   "outputs": [],
   "source": [
    "ABC_GAN3_metrics=ABC_train_test2.test_generator(gen3,test_data,prior_model,variance,bias,\"3\",device)\n",
    "sb.glue(\"ABC_GAN_3 Metrics\",ABC_GAN3_metrics)\n",
    "\n",
    "print(\"MAE\")\n",
    "print(mean(ABC_GAN3_metrics[1]))"
   ]
  },
  {
   "cell_type": "code",
   "execution_count": null,
   "id": "c8e46b48",
   "metadata": {
    "id": "c8e46b48",
    "papermill": {
     "duration": null,
     "end_time": null,
     "exception": null,
     "start_time": null,
     "status": "pending"
    },
    "tags": []
   },
   "outputs": [],
   "source": [
    "sanityChecks.discProbVsError(train_data,disc3,device)\n",
    "sanityChecks.discProbVsError(test_data,disc3,device)"
   ]
  },
  {
   "cell_type": "markdown",
   "id": "323ec32d",
   "metadata": {
    "id": "130f3a4d",
    "papermill": {
     "duration": null,
     "end_time": null,
     "exception": null,
     "start_time": null,
     "status": "pending"
    },
    "tags": []
   },
   "source": [
    "# skipGAN Model with TabNet Generator"
   ]
  },
  {
   "cell_type": "code",
   "execution_count": null,
   "id": "d389c067",
   "metadata": {
    "id": "4e43dad1",
    "papermill": {
     "duration": null,
     "end_time": null,
     "exception": null,
     "start_time": null,
     "status": "pending"
    },
    "tags": []
   },
   "outputs": [],
   "source": [
    "#Generator\n",
    "gen4 = network.GeneratorTabnetskipConnection(n_features+1).to(device)\n",
    "constraints=network.weightConstraint()\n",
    "#Discriminator \n",
    "disc4 = network.DiscriminatorTabnet(n_features+1).to(device)\n",
    "\n",
    "criterion = torch.nn.BCELoss()\n",
    "gen_opt = torch.optim.Adam(gen4.parameters(), lr=0.001, betas=(0.5, 0.999))\n",
    "disc_opt = torch.optim.Adam(disc4.parameters(), lr=0.001, betas=(0.5, 0.999))\n"
   ]
  },
  {
   "cell_type": "code",
   "execution_count": null,
   "id": "26803db3",
   "metadata": {
    "id": "26acbc37",
    "papermill": {
     "duration": null,
     "end_time": null,
     "exception": null,
     "start_time": null,
     "status": "pending"
    },
    "tags": []
   },
   "outputs": [],
   "source": [
    "ABC_train_test2.training_GAN_skip_connection(disc4,gen4,disc_opt,gen_opt,train_data,batch_size,n_epochs,criterion,prior_model,variance,bias,device)"
   ]
  },
  {
   "cell_type": "code",
   "execution_count": null,
   "id": "9dba1f66",
   "metadata": {
    "id": "c5e0717b",
    "papermill": {
     "duration": null,
     "end_time": null,
     "exception": null,
     "start_time": null,
     "status": "pending"
    },
    "tags": []
   },
   "outputs": [],
   "source": [
    "ABC_GAN4_metrics=ABC_train_test2.test_generator(gen4,test_data,prior_model,variance,bias,\"3\",device)\n",
    "sb.glue(\"ABC_GAN_4 Metrics\",ABC_GAN4_metrics)\n",
    "\n",
    "print(\"MAE\")\n",
    "print(mean(ABC_GAN4_metrics[1]))"
   ]
  },
  {
   "cell_type": "code",
   "execution_count": null,
   "id": "d92f4335",
   "metadata": {
    "id": "c8e46b48",
    "papermill": {
     "duration": null,
     "end_time": null,
     "exception": null,
     "start_time": null,
     "status": "pending"
    },
    "tags": []
   },
   "outputs": [],
   "source": [
    "sanityChecks.discProbVsError(train_data,disc4,device)\n",
    "sanityChecks.discProbVsError(test_data,disc4,device)"
   ]
  },
  {
   "cell_type": "markdown",
   "id": "a5bd74c3",
   "metadata": {
    "id": "a5bd74c3",
    "papermill": {
     "duration": null,
     "end_time": null,
     "exception": null,
     "start_time": null,
     "status": "pending"
    },
    "tags": []
   },
   "source": [
    "## Skip Connection Model Analysis - ABC-GAN "
   ]
  },
  {
   "cell_type": "markdown",
   "id": "5744a8bf",
   "metadata": {
    "id": "5744a8bf",
    "papermill": {
     "duration": null,
     "end_time": null,
     "exception": null,
     "start_time": null,
     "status": "pending"
    },
    "tags": []
   },
   "source": [
    "### Weight Analysis \n",
    "\n",
    "Study the weights of the skip connection layer\n",
    "\n",
    "Equation of the skip connection is \n",
    "\n",
    "$output = y_{gan} * w + y_{abc} * (1-w)$"
   ]
  },
  {
   "cell_type": "code",
   "execution_count": null,
   "id": "52c31dea",
   "metadata": {
    "id": "52c31dea",
    "papermill": {
     "duration": null,
     "end_time": null,
     "exception": null,
     "start_time": null,
     "status": "pending"
    },
    "tags": []
   },
   "outputs": [],
   "source": [
    "print(\"Weight of the node at skip connection\")\n",
    "for name,param in gen3.named_parameters():\n",
    "    if(name == \"skipNode.weight\"):\n",
    "        print(param)\n",
    "        sb.glue(\"Skip Connection Weight\",param.item())"
   ]
  },
  {
   "cell_type": "markdown",
   "id": "d4a0e268",
   "metadata": {
    "id": "a5bd74c3",
    "papermill": {
     "duration": null,
     "end_time": null,
     "exception": null,
     "start_time": null,
     "status": "pending"
    },
    "tags": []
   },
   "source": [
    "## skipGAN Model Analysis (TabNet Generator) "
   ]
  },
  {
   "cell_type": "markdown",
   "id": "52719882",
   "metadata": {
    "id": "5744a8bf",
    "papermill": {
     "duration": null,
     "end_time": null,
     "exception": null,
     "start_time": null,
     "status": "pending"
    },
    "tags": []
   },
   "source": [
    "### Weight Analysis \n",
    "\n",
    "Study the weights of the skip connection layer\n",
    "\n",
    "Equation of the skip connection is \n",
    "\n",
    "$output = y_{gan} * w + y_{abc} * (1-w)$"
   ]
  },
  {
   "cell_type": "code",
   "execution_count": null,
   "id": "8784b8f7",
   "metadata": {
    "id": "52c31dea",
    "papermill": {
     "duration": null,
     "end_time": null,
     "exception": null,
     "start_time": null,
     "status": "pending"
    },
    "tags": []
   },
   "outputs": [],
   "source": [
    "print(\"Weight of the node at skip connection\")\n",
    "for name,param in gen4.named_parameters():\n",
    "    if(name == \"skipNode.weight\"):\n",
    "        print(param)\n",
    "        sb.glue(\"Skip Connection Weight\",param.item())"
   ]
  }
 ],
 "metadata": {
  "colab": {
   "collapsed_sections": [],
   "name": "ABC_GAN_Model-Catboost_Pre-gen.ipynb",
   "provenance": []
  },
  "interpreter": {
   "hash": "31f2aee4e71d21fbe5cf8b01ff0e069b9275f58929596ceb00d14d90e3e16cd6"
  },
  "kernelspec": {
   "display_name": "Python 3 (ipykernel)",
   "language": "python",
   "name": "python3"
  },
  "language_info": {
   "codemirror_mode": {
    "name": "ipython",
    "version": 3
   },
   "file_extension": ".py",
   "mimetype": "text/x-python",
   "name": "python",
   "nbconvert_exporter": "python",
   "pygments_lexer": "ipython3",
   "version": "3.8.9"
  },
  "papermill": {
   "default_parameters": {},
   "duration": 734.949955,
   "end_time": "2022-07-27T06:36:36.328416",
   "environment_variables": {},
   "exception": true,
   "input_path": "ABC_GAN-Catboost.ipynb",
   "output_path": "./ABC_GAN_Catboost/ABC-GAN_output_1_0.ipynb",
   "parameters": {
    "bias": 1,
    "variance": 1
   },
   "start_time": "2022-07-27T06:24:21.378461",
   "version": "2.3.3"
  }
 },
 "nbformat": 4,
 "nbformat_minor": 5
}
