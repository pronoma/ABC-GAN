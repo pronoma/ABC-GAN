{
 "cells": [
  {
   "cell_type": "markdown",
   "id": "5ed3a9eb",
   "metadata": {
    "tags": [
     "papermill-error-cell-tag"
    ]
   },
   "source": [
    "<span style=\"color:red; font-family:Helvetica Neue, Helvetica, Arial, sans-serif; font-size:2em;\">An Exception was encountered at '<a href=\"#papermill-error-cell\">In [7]</a>'.</span>"
   ]
  },
  {
   "cell_type": "code",
   "execution_count": 1,
   "id": "423b7ca4",
   "metadata": {
    "execution": {
     "iopub.execute_input": "2022-07-27T04:10:05.265168Z",
     "iopub.status.busy": "2022-07-27T04:10:05.264579Z",
     "iopub.status.idle": "2022-07-27T04:10:05.288446Z",
     "shell.execute_reply": "2022-07-27T04:10:05.278174Z"
    },
    "papermill": {
     "duration": 0.042437,
     "end_time": "2022-07-27T04:10:05.293248",
     "exception": false,
     "start_time": "2022-07-27T04:10:05.250811",
     "status": "completed"
    },
    "tags": []
   },
   "outputs": [],
   "source": [
    "import warnings\n",
    "warnings.filterwarnings('ignore')"
   ]
  },
  {
   "cell_type": "code",
   "execution_count": 2,
   "id": "618121c9",
   "metadata": {
    "execution": {
     "iopub.execute_input": "2022-07-27T04:10:05.304444Z",
     "iopub.status.busy": "2022-07-27T04:10:05.304072Z",
     "iopub.status.idle": "2022-07-27T04:10:08.937379Z",
     "shell.execute_reply": "2022-07-27T04:10:08.936511Z"
    },
    "papermill": {
     "duration": 3.642186,
     "end_time": "2022-07-27T04:10:08.940608",
     "exception": false,
     "start_time": "2022-07-27T04:10:05.298422",
     "status": "completed"
    },
    "tags": []
   },
   "outputs": [],
   "source": [
    "import scrapbook as sb \n",
    "import pandas as pd\n",
    "import numpy as np \n",
    "import seaborn as sns \n",
    "import numpy as np\n",
    "from statistics import mean , median\n",
    "import matplotlib.pyplot as plt"
   ]
  },
  {
   "cell_type": "markdown",
   "id": "8842137f",
   "metadata": {
    "papermill": {
     "duration": 0.003548,
     "end_time": "2022-07-27T04:10:08.948052",
     "exception": false,
     "start_time": "2022-07-27T04:10:08.944504",
     "status": "completed"
    },
    "tags": []
   },
   "source": [
    "# Baseline "
   ]
  },
  {
   "cell_type": "code",
   "execution_count": 3,
   "id": "a9dce367",
   "metadata": {
    "execution": {
     "iopub.execute_input": "2022-07-27T04:10:09.012859Z",
     "iopub.status.busy": "2022-07-27T04:10:09.012318Z",
     "iopub.status.idle": "2022-07-27T04:10:09.327254Z",
     "shell.execute_reply": "2022-07-27T04:10:09.326726Z"
    },
    "papermill": {
     "duration": 0.324893,
     "end_time": "2022-07-27T04:10:09.329267",
     "exception": false,
     "start_time": "2022-07-27T04:10:09.004374",
     "status": "completed"
    },
    "tags": []
   },
   "outputs": [
    {
     "name": "stdout",
     "output_type": "stream",
     "text": [
      "0.5634902902217045\n",
      "0.42156855611876876\n"
     ]
    }
   ],
   "source": [
    "books = sb.read_notebooks(\"./BaseLine_Model_Output\")\n",
    "baseLine_data = []\n",
    "for nb in books.notebooks: \n",
    "    nbList=[nb.scraps['Stats Model MAE'].data,nb.scraps['Catboost MAE'].data]\n",
    "    baseLine_data.append(nbList)\n",
    "df = pd.DataFrame(baseLine_data, columns = [\"Stats Model\",\"Catboost\"])\n",
    "baseline_data = np.array(baseLine_data)\n",
    "stats = median(baseline_data[:,0])\n",
    "catboost = median(baseline_data[:,1])\n",
    "print(stats)\n",
    "print(catboost)"
   ]
  },
  {
   "cell_type": "markdown",
   "id": "2ef4d014",
   "metadata": {
    "papermill": {
     "duration": 0.003446,
     "end_time": "2022-07-27T04:10:09.335904",
     "exception": false,
     "start_time": "2022-07-27T04:10:09.332458",
     "status": "completed"
    },
    "tags": []
   },
   "source": [
    "# GAN Model"
   ]
  },
  {
   "cell_type": "code",
   "execution_count": 4,
   "id": "ce2d028d",
   "metadata": {
    "execution": {
     "iopub.execute_input": "2022-07-27T04:10:09.348012Z",
     "iopub.status.busy": "2022-07-27T04:10:09.346316Z",
     "iopub.status.idle": "2022-07-27T04:10:09.790040Z",
     "shell.execute_reply": "2022-07-27T04:10:09.789127Z"
    },
    "papermill": {
     "duration": 0.454617,
     "end_time": "2022-07-27T04:10:09.793576",
     "exception": false,
     "start_time": "2022-07-27T04:10:09.338959",
     "status": "completed"
    },
    "tags": []
   },
   "outputs": [
    {
     "data": {
      "text/html": [
       "<style type=\"text/css\">\n",
       "</style>\n",
       "<table id=\"T_84384\">\n",
       "  <thead>\n",
       "    <tr>\n",
       "      <th class=\"blank level0\" >&nbsp;</th>\n",
       "      <th id=\"T_84384_level0_col0\" class=\"col_heading level0 col0\" >MSE</th>\n",
       "      <th id=\"T_84384_level0_col1\" class=\"col_heading level0 col1\" >MAE</th>\n",
       "      <th id=\"T_84384_level0_col2\" class=\"col_heading level0 col2\" >Euclidean Distance</th>\n",
       "      <th id=\"T_84384_level0_col3\" class=\"col_heading level0 col3\" >Manhattan Distance</th>\n",
       "    </tr>\n",
       "  </thead>\n",
       "  <tbody>\n",
       "    <tr>\n",
       "      <th id=\"T_84384_level0_row0\" class=\"row_heading level0 row0\" >0</th>\n",
       "      <td id=\"T_84384_row0_col0\" class=\"data row0 col0\" >3.244939</td>\n",
       "      <td id=\"T_84384_row0_col1\" class=\"data row0 col1\" >1.301206</td>\n",
       "      <td id=\"T_84384_row0_col2\" class=\"data row0 col2\" >8.030751</td>\n",
       "      <td id=\"T_84384_row0_col3\" class=\"data row0 col3\" >26.024117</td>\n",
       "    </tr>\n",
       "    <tr>\n",
       "      <th id=\"T_84384_level0_row1\" class=\"row_heading level0 row1\" >1</th>\n",
       "      <td id=\"T_84384_row1_col0\" class=\"data row1 col0\" >2.417923</td>\n",
       "      <td id=\"T_84384_row1_col1\" class=\"data row1 col1\" >1.175627</td>\n",
       "      <td id=\"T_84384_row1_col2\" class=\"data row1 col2\" >6.943800</td>\n",
       "      <td id=\"T_84384_row1_col3\" class=\"data row1 col3\" >23.512542</td>\n",
       "    </tr>\n",
       "    <tr>\n",
       "      <th id=\"T_84384_level0_row2\" class=\"row_heading level0 row2\" >2</th>\n",
       "      <td id=\"T_84384_row2_col0\" class=\"data row2 col0\" >0.513711</td>\n",
       "      <td id=\"T_84384_row2_col1\" class=\"data row2 col1\" >0.622917</td>\n",
       "      <td id=\"T_84384_row2_col2\" class=\"data row2 col2\" >3.189449</td>\n",
       "      <td id=\"T_84384_row2_col3\" class=\"data row2 col3\" >12.458342</td>\n",
       "    </tr>\n",
       "    <tr>\n",
       "      <th id=\"T_84384_level0_row3\" class=\"row_heading level0 row3\" >3</th>\n",
       "      <td id=\"T_84384_row3_col0\" class=\"data row3 col0\" >2.543862</td>\n",
       "      <td id=\"T_84384_row3_col1\" class=\"data row3 col1\" >1.322338</td>\n",
       "      <td id=\"T_84384_row3_col2\" class=\"data row3 col2\" >7.105975</td>\n",
       "      <td id=\"T_84384_row3_col3\" class=\"data row3 col3\" >26.446752</td>\n",
       "    </tr>\n",
       "    <tr>\n",
       "      <th id=\"T_84384_level0_row4\" class=\"row_heading level0 row4\" >4</th>\n",
       "      <td id=\"T_84384_row4_col0\" class=\"data row4 col0\" >0.546357</td>\n",
       "      <td id=\"T_84384_row4_col1\" class=\"data row4 col1\" >0.570272</td>\n",
       "      <td id=\"T_84384_row4_col2\" class=\"data row4 col2\" >3.291769</td>\n",
       "      <td id=\"T_84384_row4_col3\" class=\"data row4 col3\" >11.405436</td>\n",
       "    </tr>\n",
       "    <tr>\n",
       "      <th id=\"T_84384_level0_row5\" class=\"row_heading level0 row5\" >5</th>\n",
       "      <td id=\"T_84384_row5_col0\" class=\"data row5 col0\" >3.114395</td>\n",
       "      <td id=\"T_84384_row5_col1\" class=\"data row5 col1\" >1.325301</td>\n",
       "      <td id=\"T_84384_row5_col2\" class=\"data row5 col2\" >7.846411</td>\n",
       "      <td id=\"T_84384_row5_col3\" class=\"data row5 col3\" >26.506024</td>\n",
       "    </tr>\n",
       "    <tr>\n",
       "      <th id=\"T_84384_level0_row6\" class=\"row_heading level0 row6\" >6</th>\n",
       "      <td id=\"T_84384_row6_col0\" class=\"data row6 col0\" >1.289169</td>\n",
       "      <td id=\"T_84384_row6_col1\" class=\"data row6 col1\" >0.899219</td>\n",
       "      <td id=\"T_84384_row6_col2\" class=\"data row6 col2\" >5.058569</td>\n",
       "      <td id=\"T_84384_row6_col3\" class=\"data row6 col3\" >17.984390</td>\n",
       "    </tr>\n",
       "    <tr>\n",
       "      <th id=\"T_84384_level0_row7\" class=\"row_heading level0 row7\" >7</th>\n",
       "      <td id=\"T_84384_row7_col0\" class=\"data row7 col0\" >1.141973</td>\n",
       "      <td id=\"T_84384_row7_col1\" class=\"data row7 col1\" >0.777867</td>\n",
       "      <td id=\"T_84384_row7_col2\" class=\"data row7 col2\" >4.742538</td>\n",
       "      <td id=\"T_84384_row7_col3\" class=\"data row7 col3\" >15.557348</td>\n",
       "    </tr>\n",
       "    <tr>\n",
       "      <th id=\"T_84384_level0_row8\" class=\"row_heading level0 row8\" >8</th>\n",
       "      <td id=\"T_84384_row8_col0\" class=\"data row8 col0\" >6.274438</td>\n",
       "      <td id=\"T_84384_row8_col1\" class=\"data row8 col1\" >1.835719</td>\n",
       "      <td id=\"T_84384_row8_col2\" class=\"data row8 col2\" >11.176526</td>\n",
       "      <td id=\"T_84384_row8_col3\" class=\"data row8 col3\" >36.714379</td>\n",
       "    </tr>\n",
       "    <tr>\n",
       "      <th id=\"T_84384_level0_row9\" class=\"row_heading level0 row9\" >9</th>\n",
       "      <td id=\"T_84384_row9_col0\" class=\"data row9 col0\" >4.937372</td>\n",
       "      <td id=\"T_84384_row9_col1\" class=\"data row9 col1\" >1.792841</td>\n",
       "      <td id=\"T_84384_row9_col2\" class=\"data row9 col2\" >9.924780</td>\n",
       "      <td id=\"T_84384_row9_col3\" class=\"data row9 col3\" >35.856830</td>\n",
       "    </tr>\n",
       "  </tbody>\n",
       "</table>\n"
      ],
      "text/plain": [
       "<pandas.io.formats.style.Styler at 0x7f84cf8d6d60>"
      ]
     },
     "metadata": {},
     "output_type": "display_data"
    },
    {
     "name": "stdout",
     "output_type": "stream",
     "text": [
      "MEDIAN:\n",
      "MSE                    2.480892\n",
      "MAE                    1.238416\n",
      "Euclidean Distance     7.024887\n",
      "Manhattan Distance    24.768330\n",
      "dtype: float64\n",
      "1.2384164835370206\n"
     ]
    }
   ],
   "source": [
    "book = sb.read_notebooks(\"./GAN_Output\")\n",
    "gan_data = []\n",
    "gan_mse = []\n",
    "for nb in book.notebooks:\n",
    "    metrics = nb.scraps['GAN_1 Metrics'].data\n",
    "    for i in range(1000):\n",
    "        gan_mse.append(metrics[0][i])\n",
    "    nbList = [nb.scraps['GAN Model MSE'].data,\n",
    "              nb.scraps['GAN Model MAE'].data,\n",
    "              nb.scraps['GAN Model Euclidean distance'].data,\n",
    "              nb.scraps['GAN Model Manhattan Distance'].data]        \n",
    "    gan_data.append(nbList)\n",
    "    \n",
    "df = pd.DataFrame(gan_data, columns = ['MSE','MAE','Euclidean Distance','Manhattan Distance'])\n",
    "display(df.style)\n",
    "print(\"MEDIAN:\")\n",
    "print(df.median(axis = 0))\n",
    "gan_data = np.array(gan_data)\n",
    "gan_median = median(gan_data[:,1])\n",
    "print(gan_median)"
   ]
  },
  {
   "cell_type": "markdown",
   "id": "db69b3bd",
   "metadata": {
    "papermill": {
     "duration": 0.004133,
     "end_time": "2022-07-27T04:10:09.802194",
     "exception": false,
     "start_time": "2022-07-27T04:10:09.798061",
     "status": "completed"
    },
    "tags": []
   },
   "source": [
    "# ABC_GAN Analysis"
   ]
  },
  {
   "cell_type": "markdown",
   "id": "930ab0e5",
   "metadata": {
    "papermill": {
     "duration": 0.004132,
     "end_time": "2022-07-27T04:10:09.810231",
     "exception": false,
     "start_time": "2022-07-27T04:10:09.806099",
     "status": "completed"
    },
    "tags": []
   },
   "source": [
    "## ABC Pre-generator - Catboost \n"
   ]
  },
  {
   "cell_type": "code",
   "execution_count": 5,
   "id": "ea491444",
   "metadata": {
    "execution": {
     "iopub.execute_input": "2022-07-27T04:10:09.869450Z",
     "iopub.status.busy": "2022-07-27T04:10:09.868814Z",
     "iopub.status.idle": "2022-07-27T04:10:13.920114Z",
     "shell.execute_reply": "2022-07-27T04:10:13.918671Z"
    },
    "papermill": {
     "duration": 4.108422,
     "end_time": "2022-07-27T04:10:13.922622",
     "exception": false,
     "start_time": "2022-07-27T04:10:09.814200",
     "status": "completed"
    },
    "tags": []
   },
   "outputs": [],
   "source": [
    "book = sb.read_notebooks(\"./ABC_GAN_Catboost\")\n",
    "paramVal = [[1,1],[1,0.1],[1,0.01],[1,0],[0.1,1],[0.1,0.1],[0.1,0.01],[0.1,0],[0.01,1],[0.01,0.1],[0.01,0.01],[0.01,0]]\n",
    "abc_mae = [[] for i in range(12)]\n",
    "abc_mae_skip = [[] for i in range(12)]\n",
    "abc_mae_mean = [[] for i in range(12)]\n",
    "abc_mae_skip_mean = [[] for i in range(12)]\n",
    "abc_weights = [[] for i in range(12)]\n",
    "prior_model = [[] for i in range(12)]\n",
    "abc_pre_generator = [[] for i in range(12)]\n",
    "\n",
    "for nb in book.notebooks:\n",
    "    metrics1 = np.array(nb.scraps['ABC_GAN_1 Metrics'].data)\n",
    "    metrics3 = np.array(nb.scraps['ABC_GAN_3 Metrics'].data)\n",
    "    paramVar = float(nb.papermill_dataframe.iloc[1]['value'])\n",
    "    paramBias = float(nb.papermill_dataframe.iloc[0]['value'])\n",
    "    # #Divide data according to parameters \n",
    "    for i in range(12):\n",
    "        if paramVar == paramVal[i][0] and paramBias == paramVal[i][1]:\n",
    "            for j in range(100):\n",
    "                abc_mae[i].append(metrics1[1,j])\n",
    "                abc_mae_skip[i].append(metrics3[1,j])\n",
    "            abc_weights[i].append(nb.scraps['Skip Connection Weight'].data)\n",
    "            prior_model[i].append(nb.scraps['Prior Model MSE'].data)\n",
    "            abc_pre_generator[i].append(nb.scraps['ABC Pre-generator MSE'].data)\n",
    "            abc_mae_skip_mean[i].append(mean(metrics3[1,:]))\n",
    "            abc_mae_mean[i].append(mean(metrics1[1,:]))   "
   ]
  },
  {
   "cell_type": "code",
   "execution_count": 6,
   "id": "d0d13f91",
   "metadata": {
    "execution": {
     "iopub.execute_input": "2022-07-27T04:10:13.933164Z",
     "iopub.status.busy": "2022-07-27T04:10:13.932512Z",
     "iopub.status.idle": "2022-07-27T04:10:14.472717Z",
     "shell.execute_reply": "2022-07-27T04:10:14.470378Z"
    },
    "papermill": {
     "duration": 0.548947,
     "end_time": "2022-07-27T04:10:14.475650",
     "exception": false,
     "start_time": "2022-07-27T04:10:13.926703",
     "status": "completed"
    },
    "tags": []
   },
   "outputs": [
    {
     "data": {
      "text/html": [
       "<div>\n",
       "<style scoped>\n",
       "    .dataframe tbody tr th:only-of-type {\n",
       "        vertical-align: middle;\n",
       "    }\n",
       "\n",
       "    .dataframe tbody tr th {\n",
       "        vertical-align: top;\n",
       "    }\n",
       "\n",
       "    .dataframe thead th {\n",
       "        text-align: right;\n",
       "    }\n",
       "</style>\n",
       "<table border=\"1\" class=\"dataframe\">\n",
       "  <thead>\n",
       "    <tr style=\"text-align: right;\">\n",
       "      <th></th>\n",
       "      <th>Variance</th>\n",
       "      <th>Bias</th>\n",
       "      <th>Prior Model MAE</th>\n",
       "      <th>ABC pre-generator MAE</th>\n",
       "      <th>ABC GAN MAE</th>\n",
       "    </tr>\n",
       "  </thead>\n",
       "  <tbody>\n",
       "    <tr>\n",
       "      <th>0</th>\n",
       "      <td>1</td>\n",
       "      <td>1</td>\n",
       "      <td>0.26219</td>\n",
       "      <td>1.22593</td>\n",
       "      <td>0.34578</td>\n",
       "    </tr>\n",
       "    <tr>\n",
       "      <th>1</th>\n",
       "      <td>1</td>\n",
       "      <td>1</td>\n",
       "      <td>0.27885</td>\n",
       "      <td>2.60982</td>\n",
       "      <td>0.56436</td>\n",
       "    </tr>\n",
       "    <tr>\n",
       "      <th>2</th>\n",
       "      <td>1</td>\n",
       "      <td>1</td>\n",
       "      <td>0.30797</td>\n",
       "      <td>2.38343</td>\n",
       "      <td>0.44850</td>\n",
       "    </tr>\n",
       "  </tbody>\n",
       "</table>\n",
       "</div>"
      ],
      "text/plain": [
       "   Variance  Bias  Prior Model MAE  ABC pre-generator MAE  ABC GAN MAE\n",
       "0         1     1          0.26219                1.22593      0.34578\n",
       "1         1     1          0.27885                2.60982      0.56436\n",
       "2         1     1          0.30797                2.38343      0.44850"
      ]
     },
     "metadata": {},
     "output_type": "display_data"
    },
    {
     "name": "stdout",
     "output_type": "stream",
     "text": [
      "Variance                 1.000000\n",
      "Bias                     1.000000\n",
      "Prior Model MAE          0.278853\n",
      "ABC pre-generator MAE    2.383430\n",
      "ABC GAN MAE              0.448500\n",
      "dtype: float64\n",
      "-------------------------------------------------------------\n"
     ]
    },
    {
     "data": {
      "text/html": [
       "<div>\n",
       "<style scoped>\n",
       "    .dataframe tbody tr th:only-of-type {\n",
       "        vertical-align: middle;\n",
       "    }\n",
       "\n",
       "    .dataframe tbody tr th {\n",
       "        vertical-align: top;\n",
       "    }\n",
       "\n",
       "    .dataframe thead th {\n",
       "        text-align: right;\n",
       "    }\n",
       "</style>\n",
       "<table border=\"1\" class=\"dataframe\">\n",
       "  <thead>\n",
       "    <tr style=\"text-align: right;\">\n",
       "      <th></th>\n",
       "      <th>Variance</th>\n",
       "      <th>Bias</th>\n",
       "      <th>Prior Model MAE</th>\n",
       "      <th>ABC pre-generator MAE</th>\n",
       "      <th>ABC GAN MAE</th>\n",
       "    </tr>\n",
       "  </thead>\n",
       "  <tbody>\n",
       "    <tr>\n",
       "      <th>0</th>\n",
       "      <td>1</td>\n",
       "      <td>0.1</td>\n",
       "      <td>0.18589</td>\n",
       "      <td>0.84451</td>\n",
       "      <td>0.38985</td>\n",
       "    </tr>\n",
       "    <tr>\n",
       "      <th>1</th>\n",
       "      <td>1</td>\n",
       "      <td>0.1</td>\n",
       "      <td>1.32055</td>\n",
       "      <td>2.79608</td>\n",
       "      <td>0.70250</td>\n",
       "    </tr>\n",
       "    <tr>\n",
       "      <th>2</th>\n",
       "      <td>1</td>\n",
       "      <td>0.1</td>\n",
       "      <td>0.33134</td>\n",
       "      <td>1.66406</td>\n",
       "      <td>0.42781</td>\n",
       "    </tr>\n",
       "  </tbody>\n",
       "</table>\n",
       "</div>"
      ],
      "text/plain": [
       "   Variance  Bias  Prior Model MAE  ABC pre-generator MAE  ABC GAN MAE\n",
       "0         1   0.1          0.18589                0.84451      0.38985\n",
       "1         1   0.1          1.32055                2.79608      0.70250\n",
       "2         1   0.1          0.33134                1.66406      0.42781"
      ]
     },
     "metadata": {},
     "output_type": "display_data"
    },
    {
     "name": "stdout",
     "output_type": "stream",
     "text": [
      "Variance                 1.000000\n",
      "Bias                     0.100000\n",
      "Prior Model MAE          0.331341\n",
      "ABC pre-generator MAE    1.664063\n",
      "ABC GAN MAE              0.427805\n",
      "dtype: float64\n",
      "-------------------------------------------------------------\n"
     ]
    },
    {
     "data": {
      "text/html": [
       "<div>\n",
       "<style scoped>\n",
       "    .dataframe tbody tr th:only-of-type {\n",
       "        vertical-align: middle;\n",
       "    }\n",
       "\n",
       "    .dataframe tbody tr th {\n",
       "        vertical-align: top;\n",
       "    }\n",
       "\n",
       "    .dataframe thead th {\n",
       "        text-align: right;\n",
       "    }\n",
       "</style>\n",
       "<table border=\"1\" class=\"dataframe\">\n",
       "  <thead>\n",
       "    <tr style=\"text-align: right;\">\n",
       "      <th></th>\n",
       "      <th>Variance</th>\n",
       "      <th>Bias</th>\n",
       "      <th>Prior Model MAE</th>\n",
       "      <th>ABC pre-generator MAE</th>\n",
       "      <th>ABC GAN MAE</th>\n",
       "    </tr>\n",
       "  </thead>\n",
       "  <tbody>\n",
       "    <tr>\n",
       "      <th>0</th>\n",
       "      <td>1</td>\n",
       "      <td>0.01</td>\n",
       "      <td>0.41742</td>\n",
       "      <td>1.66583</td>\n",
       "      <td>0.53523</td>\n",
       "    </tr>\n",
       "    <tr>\n",
       "      <th>1</th>\n",
       "      <td>1</td>\n",
       "      <td>0.01</td>\n",
       "      <td>0.18277</td>\n",
       "      <td>1.16504</td>\n",
       "      <td>0.44517</td>\n",
       "    </tr>\n",
       "    <tr>\n",
       "      <th>2</th>\n",
       "      <td>1</td>\n",
       "      <td>0.01</td>\n",
       "      <td>0.08807</td>\n",
       "      <td>0.55664</td>\n",
       "      <td>0.36035</td>\n",
       "    </tr>\n",
       "  </tbody>\n",
       "</table>\n",
       "</div>"
      ],
      "text/plain": [
       "   Variance  Bias  Prior Model MAE  ABC pre-generator MAE  ABC GAN MAE\n",
       "0         1  0.01          0.41742                1.66583      0.53523\n",
       "1         1  0.01          0.18277                1.16504      0.44517\n",
       "2         1  0.01          0.08807                0.55664      0.36035"
      ]
     },
     "metadata": {},
     "output_type": "display_data"
    },
    {
     "name": "stdout",
     "output_type": "stream",
     "text": [
      "Variance                 1.000000\n",
      "Bias                     0.010000\n",
      "Prior Model MAE          0.182772\n",
      "ABC pre-generator MAE    1.165036\n",
      "ABC GAN MAE              0.445174\n",
      "dtype: float64\n",
      "-------------------------------------------------------------\n"
     ]
    },
    {
     "data": {
      "text/html": [
       "<div>\n",
       "<style scoped>\n",
       "    .dataframe tbody tr th:only-of-type {\n",
       "        vertical-align: middle;\n",
       "    }\n",
       "\n",
       "    .dataframe tbody tr th {\n",
       "        vertical-align: top;\n",
       "    }\n",
       "\n",
       "    .dataframe thead th {\n",
       "        text-align: right;\n",
       "    }\n",
       "</style>\n",
       "<table border=\"1\" class=\"dataframe\">\n",
       "  <thead>\n",
       "    <tr style=\"text-align: right;\">\n",
       "      <th></th>\n",
       "      <th>Variance</th>\n",
       "      <th>Bias</th>\n",
       "      <th>Prior Model MAE</th>\n",
       "      <th>ABC pre-generator MAE</th>\n",
       "      <th>ABC GAN MAE</th>\n",
       "    </tr>\n",
       "  </thead>\n",
       "  <tbody>\n",
       "    <tr>\n",
       "      <th>0</th>\n",
       "      <td>1</td>\n",
       "      <td>0</td>\n",
       "      <td>0.50618</td>\n",
       "      <td>1.62274</td>\n",
       "      <td>0.62709</td>\n",
       "    </tr>\n",
       "    <tr>\n",
       "      <th>1</th>\n",
       "      <td>1</td>\n",
       "      <td>0</td>\n",
       "      <td>0.14204</td>\n",
       "      <td>1.22017</td>\n",
       "      <td>0.32636</td>\n",
       "    </tr>\n",
       "    <tr>\n",
       "      <th>2</th>\n",
       "      <td>1</td>\n",
       "      <td>0</td>\n",
       "      <td>0.18848</td>\n",
       "      <td>1.51712</td>\n",
       "      <td>0.38062</td>\n",
       "    </tr>\n",
       "  </tbody>\n",
       "</table>\n",
       "</div>"
      ],
      "text/plain": [
       "   Variance  Bias  Prior Model MAE  ABC pre-generator MAE  ABC GAN MAE\n",
       "0         1     0          0.50618                1.62274      0.62709\n",
       "1         1     0          0.14204                1.22017      0.32636\n",
       "2         1     0          0.18848                1.51712      0.38062"
      ]
     },
     "metadata": {},
     "output_type": "display_data"
    },
    {
     "name": "stdout",
     "output_type": "stream",
     "text": [
      "Variance                 1.000000\n",
      "Bias                     0.000000\n",
      "Prior Model MAE          0.188480\n",
      "ABC pre-generator MAE    1.517124\n",
      "ABC GAN MAE              0.380616\n",
      "dtype: float64\n",
      "-------------------------------------------------------------\n"
     ]
    },
    {
     "data": {
      "text/html": [
       "<div>\n",
       "<style scoped>\n",
       "    .dataframe tbody tr th:only-of-type {\n",
       "        vertical-align: middle;\n",
       "    }\n",
       "\n",
       "    .dataframe tbody tr th {\n",
       "        vertical-align: top;\n",
       "    }\n",
       "\n",
       "    .dataframe thead th {\n",
       "        text-align: right;\n",
       "    }\n",
       "</style>\n",
       "<table border=\"1\" class=\"dataframe\">\n",
       "  <thead>\n",
       "    <tr style=\"text-align: right;\">\n",
       "      <th></th>\n",
       "      <th>Variance</th>\n",
       "      <th>Bias</th>\n",
       "      <th>Prior Model MAE</th>\n",
       "      <th>ABC pre-generator MAE</th>\n",
       "      <th>ABC GAN MAE</th>\n",
       "    </tr>\n",
       "  </thead>\n",
       "  <tbody>\n",
       "    <tr>\n",
       "      <th>0</th>\n",
       "      <td>0.1</td>\n",
       "      <td>1</td>\n",
       "      <td>0.17216</td>\n",
       "      <td>1.52415</td>\n",
       "      <td>0.29699</td>\n",
       "    </tr>\n",
       "    <tr>\n",
       "      <th>1</th>\n",
       "      <td>0.1</td>\n",
       "      <td>1</td>\n",
       "      <td>0.81771</td>\n",
       "      <td>2.14207</td>\n",
       "      <td>0.54880</td>\n",
       "    </tr>\n",
       "    <tr>\n",
       "      <th>2</th>\n",
       "      <td>0.1</td>\n",
       "      <td>1</td>\n",
       "      <td>0.53727</td>\n",
       "      <td>1.93595</td>\n",
       "      <td>0.49797</td>\n",
       "    </tr>\n",
       "  </tbody>\n",
       "</table>\n",
       "</div>"
      ],
      "text/plain": [
       "   Variance  Bias  Prior Model MAE  ABC pre-generator MAE  ABC GAN MAE\n",
       "0       0.1     1          0.17216                1.52415      0.29699\n",
       "1       0.1     1          0.81771                2.14207      0.54880\n",
       "2       0.1     1          0.53727                1.93595      0.49797"
      ]
     },
     "metadata": {},
     "output_type": "display_data"
    },
    {
     "name": "stdout",
     "output_type": "stream",
     "text": [
      "Variance                 0.100000\n",
      "Bias                     1.000000\n",
      "Prior Model MAE          0.537274\n",
      "ABC pre-generator MAE    1.935950\n",
      "ABC GAN MAE              0.497975\n",
      "dtype: float64\n",
      "-------------------------------------------------------------\n"
     ]
    },
    {
     "data": {
      "text/html": [
       "<div>\n",
       "<style scoped>\n",
       "    .dataframe tbody tr th:only-of-type {\n",
       "        vertical-align: middle;\n",
       "    }\n",
       "\n",
       "    .dataframe tbody tr th {\n",
       "        vertical-align: top;\n",
       "    }\n",
       "\n",
       "    .dataframe thead th {\n",
       "        text-align: right;\n",
       "    }\n",
       "</style>\n",
       "<table border=\"1\" class=\"dataframe\">\n",
       "  <thead>\n",
       "    <tr style=\"text-align: right;\">\n",
       "      <th></th>\n",
       "      <th>Variance</th>\n",
       "      <th>Bias</th>\n",
       "      <th>Prior Model MAE</th>\n",
       "      <th>ABC pre-generator MAE</th>\n",
       "      <th>ABC GAN MAE</th>\n",
       "    </tr>\n",
       "  </thead>\n",
       "  <tbody>\n",
       "    <tr>\n",
       "      <th>0</th>\n",
       "      <td>0.1</td>\n",
       "      <td>0.1</td>\n",
       "      <td>0.24327</td>\n",
       "      <td>0.26909</td>\n",
       "      <td>0.34086</td>\n",
       "    </tr>\n",
       "    <tr>\n",
       "      <th>1</th>\n",
       "      <td>0.1</td>\n",
       "      <td>0.1</td>\n",
       "      <td>0.62251</td>\n",
       "      <td>0.67570</td>\n",
       "      <td>0.53752</td>\n",
       "    </tr>\n",
       "    <tr>\n",
       "      <th>2</th>\n",
       "      <td>0.1</td>\n",
       "      <td>0.1</td>\n",
       "      <td>0.14318</td>\n",
       "      <td>0.17631</td>\n",
       "      <td>0.28949</td>\n",
       "    </tr>\n",
       "  </tbody>\n",
       "</table>\n",
       "</div>"
      ],
      "text/plain": [
       "   Variance  Bias  Prior Model MAE  ABC pre-generator MAE  ABC GAN MAE\n",
       "0       0.1   0.1          0.24327                0.26909      0.34086\n",
       "1       0.1   0.1          0.62251                0.67570      0.53752\n",
       "2       0.1   0.1          0.14318                0.17631      0.28949"
      ]
     },
     "metadata": {},
     "output_type": "display_data"
    },
    {
     "name": "stdout",
     "output_type": "stream",
     "text": [
      "Variance                 0.100000\n",
      "Bias                     0.100000\n",
      "Prior Model MAE          0.243270\n",
      "ABC pre-generator MAE    0.269093\n",
      "ABC GAN MAE              0.340864\n",
      "dtype: float64\n",
      "-------------------------------------------------------------\n"
     ]
    },
    {
     "data": {
      "text/html": [
       "<div>\n",
       "<style scoped>\n",
       "    .dataframe tbody tr th:only-of-type {\n",
       "        vertical-align: middle;\n",
       "    }\n",
       "\n",
       "    .dataframe tbody tr th {\n",
       "        vertical-align: top;\n",
       "    }\n",
       "\n",
       "    .dataframe thead th {\n",
       "        text-align: right;\n",
       "    }\n",
       "</style>\n",
       "<table border=\"1\" class=\"dataframe\">\n",
       "  <thead>\n",
       "    <tr style=\"text-align: right;\">\n",
       "      <th></th>\n",
       "      <th>Variance</th>\n",
       "      <th>Bias</th>\n",
       "      <th>Prior Model MAE</th>\n",
       "      <th>ABC pre-generator MAE</th>\n",
       "      <th>ABC GAN MAE</th>\n",
       "    </tr>\n",
       "  </thead>\n",
       "  <tbody>\n",
       "    <tr>\n",
       "      <th>0</th>\n",
       "      <td>0.1</td>\n",
       "      <td>0.01</td>\n",
       "      <td>0.10171</td>\n",
       "      <td>0.10465</td>\n",
       "      <td>0.25460</td>\n",
       "    </tr>\n",
       "    <tr>\n",
       "      <th>1</th>\n",
       "      <td>0.1</td>\n",
       "      <td>0.01</td>\n",
       "      <td>0.73254</td>\n",
       "      <td>0.69373</td>\n",
       "      <td>0.51509</td>\n",
       "    </tr>\n",
       "    <tr>\n",
       "      <th>2</th>\n",
       "      <td>0.1</td>\n",
       "      <td>0.01</td>\n",
       "      <td>0.23379</td>\n",
       "      <td>0.21894</td>\n",
       "      <td>0.34605</td>\n",
       "    </tr>\n",
       "  </tbody>\n",
       "</table>\n",
       "</div>"
      ],
      "text/plain": [
       "   Variance  Bias  Prior Model MAE  ABC pre-generator MAE  ABC GAN MAE\n",
       "0       0.1  0.01          0.10171                0.10465      0.25460\n",
       "1       0.1  0.01          0.73254                0.69373      0.51509\n",
       "2       0.1  0.01          0.23379                0.21894      0.34605"
      ]
     },
     "metadata": {},
     "output_type": "display_data"
    },
    {
     "name": "stdout",
     "output_type": "stream",
     "text": [
      "Variance                 0.100000\n",
      "Bias                     0.010000\n",
      "Prior Model MAE          0.233787\n",
      "ABC pre-generator MAE    0.218945\n",
      "ABC GAN MAE              0.346054\n",
      "dtype: float64\n",
      "-------------------------------------------------------------\n"
     ]
    },
    {
     "data": {
      "text/html": [
       "<div>\n",
       "<style scoped>\n",
       "    .dataframe tbody tr th:only-of-type {\n",
       "        vertical-align: middle;\n",
       "    }\n",
       "\n",
       "    .dataframe tbody tr th {\n",
       "        vertical-align: top;\n",
       "    }\n",
       "\n",
       "    .dataframe thead th {\n",
       "        text-align: right;\n",
       "    }\n",
       "</style>\n",
       "<table border=\"1\" class=\"dataframe\">\n",
       "  <thead>\n",
       "    <tr style=\"text-align: right;\">\n",
       "      <th></th>\n",
       "      <th>Variance</th>\n",
       "      <th>Bias</th>\n",
       "      <th>Prior Model MAE</th>\n",
       "      <th>ABC pre-generator MAE</th>\n",
       "      <th>ABC GAN MAE</th>\n",
       "    </tr>\n",
       "  </thead>\n",
       "  <tbody>\n",
       "    <tr>\n",
       "      <th>0</th>\n",
       "      <td>0.1</td>\n",
       "      <td>0</td>\n",
       "      <td>0.27172</td>\n",
       "      <td>0.28522</td>\n",
       "      <td>0.46262</td>\n",
       "    </tr>\n",
       "    <tr>\n",
       "      <th>1</th>\n",
       "      <td>0.1</td>\n",
       "      <td>0</td>\n",
       "      <td>0.19139</td>\n",
       "      <td>0.19296</td>\n",
       "      <td>0.34330</td>\n",
       "    </tr>\n",
       "    <tr>\n",
       "      <th>2</th>\n",
       "      <td>0.1</td>\n",
       "      <td>0</td>\n",
       "      <td>0.19908</td>\n",
       "      <td>0.21274</td>\n",
       "      <td>0.31809</td>\n",
       "    </tr>\n",
       "  </tbody>\n",
       "</table>\n",
       "</div>"
      ],
      "text/plain": [
       "   Variance  Bias  Prior Model MAE  ABC pre-generator MAE  ABC GAN MAE\n",
       "0       0.1     0          0.27172                0.28522      0.46262\n",
       "1       0.1     0          0.19139                0.19296      0.34330\n",
       "2       0.1     0          0.19908                0.21274      0.31809"
      ]
     },
     "metadata": {},
     "output_type": "display_data"
    },
    {
     "name": "stdout",
     "output_type": "stream",
     "text": [
      "Variance                 0.100000\n",
      "Bias                     0.000000\n",
      "Prior Model MAE          0.199085\n",
      "ABC pre-generator MAE    0.212740\n",
      "ABC GAN MAE              0.343297\n",
      "dtype: float64"
     ]
    },
    {
     "name": "stdout",
     "output_type": "stream",
     "text": [
      "\n",
      "-------------------------------------------------------------\n"
     ]
    },
    {
     "data": {
      "text/html": [
       "<div>\n",
       "<style scoped>\n",
       "    .dataframe tbody tr th:only-of-type {\n",
       "        vertical-align: middle;\n",
       "    }\n",
       "\n",
       "    .dataframe tbody tr th {\n",
       "        vertical-align: top;\n",
       "    }\n",
       "\n",
       "    .dataframe thead th {\n",
       "        text-align: right;\n",
       "    }\n",
       "</style>\n",
       "<table border=\"1\" class=\"dataframe\">\n",
       "  <thead>\n",
       "    <tr style=\"text-align: right;\">\n",
       "      <th></th>\n",
       "      <th>Variance</th>\n",
       "      <th>Bias</th>\n",
       "      <th>Prior Model MAE</th>\n",
       "      <th>ABC pre-generator MAE</th>\n",
       "      <th>ABC GAN MAE</th>\n",
       "    </tr>\n",
       "  </thead>\n",
       "  <tbody>\n",
       "    <tr>\n",
       "      <th>0</th>\n",
       "      <td>0.01</td>\n",
       "      <td>1</td>\n",
       "      <td>0.75324</td>\n",
       "      <td>2.13728</td>\n",
       "      <td>0.41923</td>\n",
       "    </tr>\n",
       "    <tr>\n",
       "      <th>1</th>\n",
       "      <td>0.01</td>\n",
       "      <td>1</td>\n",
       "      <td>0.27564</td>\n",
       "      <td>1.18927</td>\n",
       "      <td>0.41527</td>\n",
       "    </tr>\n",
       "    <tr>\n",
       "      <th>2</th>\n",
       "      <td>0.01</td>\n",
       "      <td>1</td>\n",
       "      <td>0.26413</td>\n",
       "      <td>1.38731</td>\n",
       "      <td>0.38777</td>\n",
       "    </tr>\n",
       "  </tbody>\n",
       "</table>\n",
       "</div>"
      ],
      "text/plain": [
       "   Variance  Bias  Prior Model MAE  ABC pre-generator MAE  ABC GAN MAE\n",
       "0      0.01     1          0.75324                2.13728      0.41923\n",
       "1      0.01     1          0.27564                1.18927      0.41527\n",
       "2      0.01     1          0.26413                1.38731      0.38777"
      ]
     },
     "metadata": {},
     "output_type": "display_data"
    },
    {
     "name": "stdout",
     "output_type": "stream",
     "text": [
      "Variance                 0.010000\n",
      "Bias                     1.000000\n",
      "Prior Model MAE          0.275639\n",
      "ABC pre-generator MAE    1.387306\n",
      "ABC GAN MAE              0.415266\n",
      "dtype: float64"
     ]
    },
    {
     "name": "stdout",
     "output_type": "stream",
     "text": [
      "\n",
      "-------------------------------------------------------------\n"
     ]
    },
    {
     "data": {
      "text/html": [
       "<div>\n",
       "<style scoped>\n",
       "    .dataframe tbody tr th:only-of-type {\n",
       "        vertical-align: middle;\n",
       "    }\n",
       "\n",
       "    .dataframe tbody tr th {\n",
       "        vertical-align: top;\n",
       "    }\n",
       "\n",
       "    .dataframe thead th {\n",
       "        text-align: right;\n",
       "    }\n",
       "</style>\n",
       "<table border=\"1\" class=\"dataframe\">\n",
       "  <thead>\n",
       "    <tr style=\"text-align: right;\">\n",
       "      <th></th>\n",
       "      <th>Variance</th>\n",
       "      <th>Bias</th>\n",
       "      <th>Prior Model MAE</th>\n",
       "      <th>ABC pre-generator MAE</th>\n",
       "      <th>ABC GAN MAE</th>\n",
       "    </tr>\n",
       "  </thead>\n",
       "  <tbody>\n",
       "    <tr>\n",
       "      <th>0</th>\n",
       "      <td>0.01</td>\n",
       "      <td>0.1</td>\n",
       "      <td>0.33316</td>\n",
       "      <td>0.32119</td>\n",
       "      <td>0.43164</td>\n",
       "    </tr>\n",
       "    <tr>\n",
       "      <th>1</th>\n",
       "      <td>0.01</td>\n",
       "      <td>0.1</td>\n",
       "      <td>0.50099</td>\n",
       "      <td>0.53038</td>\n",
       "      <td>0.46502</td>\n",
       "    </tr>\n",
       "    <tr>\n",
       "      <th>2</th>\n",
       "      <td>0.01</td>\n",
       "      <td>0.1</td>\n",
       "      <td>0.32444</td>\n",
       "      <td>0.30127</td>\n",
       "      <td>0.38562</td>\n",
       "    </tr>\n",
       "  </tbody>\n",
       "</table>\n",
       "</div>"
      ],
      "text/plain": [
       "   Variance  Bias  Prior Model MAE  ABC pre-generator MAE  ABC GAN MAE\n",
       "0      0.01   0.1          0.33316                0.32119      0.43164\n",
       "1      0.01   0.1          0.50099                0.53038      0.46502\n",
       "2      0.01   0.1          0.32444                0.30127      0.38562"
      ]
     },
     "metadata": {},
     "output_type": "display_data"
    },
    {
     "name": "stdout",
     "output_type": "stream",
     "text": [
      "Variance                 0.010000\n",
      "Bias                     0.100000\n",
      "Prior Model MAE          0.333162\n",
      "ABC pre-generator MAE    0.321187\n",
      "ABC GAN MAE              0.431642\n",
      "dtype: float64\n",
      "-------------------------------------------------------------\n"
     ]
    },
    {
     "data": {
      "text/html": [
       "<div>\n",
       "<style scoped>\n",
       "    .dataframe tbody tr th:only-of-type {\n",
       "        vertical-align: middle;\n",
       "    }\n",
       "\n",
       "    .dataframe tbody tr th {\n",
       "        vertical-align: top;\n",
       "    }\n",
       "\n",
       "    .dataframe thead th {\n",
       "        text-align: right;\n",
       "    }\n",
       "</style>\n",
       "<table border=\"1\" class=\"dataframe\">\n",
       "  <thead>\n",
       "    <tr style=\"text-align: right;\">\n",
       "      <th></th>\n",
       "      <th>Variance</th>\n",
       "      <th>Bias</th>\n",
       "      <th>Prior Model MAE</th>\n",
       "      <th>ABC pre-generator MAE</th>\n",
       "      <th>ABC GAN MAE</th>\n",
       "    </tr>\n",
       "  </thead>\n",
       "  <tbody>\n",
       "    <tr>\n",
       "      <th>0</th>\n",
       "      <td>0.01</td>\n",
       "      <td>0.01</td>\n",
       "      <td>0.35389</td>\n",
       "      <td>0.35468</td>\n",
       "      <td>0.47046</td>\n",
       "    </tr>\n",
       "    <tr>\n",
       "      <th>1</th>\n",
       "      <td>0.01</td>\n",
       "      <td>0.01</td>\n",
       "      <td>0.45515</td>\n",
       "      <td>0.46258</td>\n",
       "      <td>0.43940</td>\n",
       "    </tr>\n",
       "    <tr>\n",
       "      <th>2</th>\n",
       "      <td>0.01</td>\n",
       "      <td>0.01</td>\n",
       "      <td>0.16421</td>\n",
       "      <td>0.16281</td>\n",
       "      <td>0.31283</td>\n",
       "    </tr>\n",
       "  </tbody>\n",
       "</table>\n",
       "</div>"
      ],
      "text/plain": [
       "   Variance  Bias  Prior Model MAE  ABC pre-generator MAE  ABC GAN MAE\n",
       "0      0.01  0.01          0.35389                0.35468      0.47046\n",
       "1      0.01  0.01          0.45515                0.46258      0.43940\n",
       "2      0.01  0.01          0.16421                0.16281      0.31283"
      ]
     },
     "metadata": {},
     "output_type": "display_data"
    },
    {
     "name": "stdout",
     "output_type": "stream",
     "text": [
      "Variance                 0.010000\n",
      "Bias                     0.010000\n",
      "Prior Model MAE          0.353886\n",
      "ABC pre-generator MAE    0.354683\n",
      "ABC GAN MAE              0.439399\n",
      "dtype: float64\n",
      "-------------------------------------------------------------\n"
     ]
    },
    {
     "data": {
      "text/html": [
       "<div>\n",
       "<style scoped>\n",
       "    .dataframe tbody tr th:only-of-type {\n",
       "        vertical-align: middle;\n",
       "    }\n",
       "\n",
       "    .dataframe tbody tr th {\n",
       "        vertical-align: top;\n",
       "    }\n",
       "\n",
       "    .dataframe thead th {\n",
       "        text-align: right;\n",
       "    }\n",
       "</style>\n",
       "<table border=\"1\" class=\"dataframe\">\n",
       "  <thead>\n",
       "    <tr style=\"text-align: right;\">\n",
       "      <th></th>\n",
       "      <th>Variance</th>\n",
       "      <th>Bias</th>\n",
       "      <th>Prior Model MAE</th>\n",
       "      <th>ABC pre-generator MAE</th>\n",
       "      <th>ABC GAN MAE</th>\n",
       "    </tr>\n",
       "  </thead>\n",
       "  <tbody>\n",
       "    <tr>\n",
       "      <th>0</th>\n",
       "      <td>0.01</td>\n",
       "      <td>0</td>\n",
       "      <td>0.07043</td>\n",
       "      <td>0.07119</td>\n",
       "      <td>0.24953</td>\n",
       "    </tr>\n",
       "    <tr>\n",
       "      <th>1</th>\n",
       "      <td>0.01</td>\n",
       "      <td>0</td>\n",
       "      <td>0.35054</td>\n",
       "      <td>0.34863</td>\n",
       "      <td>0.44722</td>\n",
       "    </tr>\n",
       "    <tr>\n",
       "      <th>2</th>\n",
       "      <td>0.01</td>\n",
       "      <td>0</td>\n",
       "      <td>0.23040</td>\n",
       "      <td>0.23036</td>\n",
       "      <td>0.31068</td>\n",
       "    </tr>\n",
       "  </tbody>\n",
       "</table>\n",
       "</div>"
      ],
      "text/plain": [
       "   Variance  Bias  Prior Model MAE  ABC pre-generator MAE  ABC GAN MAE\n",
       "0      0.01     0          0.07043                0.07119      0.24953\n",
       "1      0.01     0          0.35054                0.34863      0.44722\n",
       "2      0.01     0          0.23040                0.23036      0.31068"
      ]
     },
     "metadata": {},
     "output_type": "display_data"
    },
    {
     "name": "stdout",
     "output_type": "stream",
     "text": [
      "Variance                 0.010000\n",
      "Bias                     0.000000\n",
      "Prior Model MAE          0.230401\n",
      "ABC pre-generator MAE    0.230359\n",
      "ABC GAN MAE              0.310684\n",
      "dtype: float64\n",
      "-------------------------------------------------------------\n"
     ]
    }
   ],
   "source": [
    "\n",
    "data = [[] for i in range(12)]\n",
    "for i in range(12):\n",
    "    for j in range(len(abc_weights[i])):\n",
    "        data[i].append([paramVal[i][0], paramVal[i][1],prior_model[i][j],\n",
    "                     abc_pre_generator[i][j],abc_mae_mean[i][j]])\n",
    "    df = pd.DataFrame(data[i], columns = ['Variance','Bias','Prior Model MAE','ABC pre-generator MAE','ABC GAN MAE'])\n",
    "    display(df.round(5))\n",
    "    print(df.median(axis=0))\n",
    "    print(\"-------------------------------------------------------------\")"
   ]
  },
  {
   "cell_type": "markdown",
   "id": "a33635db",
   "metadata": {
    "tags": [
     "papermill-error-cell-tag"
    ]
   },
   "source": [
    "<span id=\"papermill-error-cell\" style=\"color:red; font-family:Helvetica Neue, Helvetica, Arial, sans-serif; font-size:2em;\">Execution using papermill encountered an exception here and stopped:</span>"
   ]
  },
  {
   "cell_type": "code",
   "execution_count": 7,
   "id": "a9698979",
   "metadata": {
    "execution": {
     "iopub.execute_input": "2022-07-27T04:10:14.504790Z",
     "iopub.status.busy": "2022-07-27T04:10:14.503243Z",
     "iopub.status.idle": "2022-07-27T04:10:15.625699Z",
     "shell.execute_reply": "2022-07-27T04:10:15.624499Z"
    },
    "papermill": {
     "duration": 1.142231,
     "end_time": "2022-07-27T04:10:15.627400",
     "exception": true,
     "start_time": "2022-07-27T04:10:14.485169",
     "status": "failed"
    },
    "tags": []
   },
   "outputs": [
    {
     "ename": "IndexError",
     "evalue": "index 5 is out of bounds for axis 1 with size 5",
     "output_type": "error",
     "traceback": [
      "\u001b[0;31m---------------------------------------------------------------------------\u001b[0m",
      "\u001b[0;31mIndexError\u001b[0m                                Traceback (most recent call last)",
      "Input \u001b[0;32mIn [7]\u001b[0m, in \u001b[0;36m<cell line: 4>\u001b[0;34m()\u001b[0m\n\u001b[1;32m      4\u001b[0m \u001b[38;5;28;01mfor\u001b[39;00m i \u001b[38;5;129;01min\u001b[39;00m \u001b[38;5;28mrange\u001b[39m(\u001b[38;5;241m12\u001b[39m): \n\u001b[1;32m      5\u001b[0m     data[i] \u001b[38;5;241m=\u001b[39m np\u001b[38;5;241m.\u001b[39marray(data[i])\n\u001b[0;32m----> 6\u001b[0m     catboostData\u001b[38;5;241m.\u001b[39mappend([paramVal[i][\u001b[38;5;241m0\u001b[39m], paramVal[i][\u001b[38;5;241m1\u001b[39m],catboost,median(data[i][:,\u001b[38;5;241m3\u001b[39m]),median(\u001b[43mdata\u001b[49m\u001b[43m[\u001b[49m\u001b[43mi\u001b[49m\u001b[43m]\u001b[49m\u001b[43m[\u001b[49m\u001b[43m:\u001b[49m\u001b[43m,\u001b[49m\u001b[38;5;241;43m5\u001b[39;49m\u001b[43m]\u001b[49m),median(data[i][:,\u001b[38;5;241m6\u001b[39m]),median(data[i][:,\u001b[38;5;241m4\u001b[39m])])\n\u001b[1;32m      7\u001b[0m df \u001b[38;5;241m=\u001b[39m pd\u001b[38;5;241m.\u001b[39mDataFrame(catboostData, columns \u001b[38;5;241m=\u001b[39m [\u001b[38;5;124m'\u001b[39m\u001b[38;5;124mVariance\u001b[39m\u001b[38;5;124m'\u001b[39m,\u001b[38;5;124m'\u001b[39m\u001b[38;5;124mBias\u001b[39m\u001b[38;5;124m'\u001b[39m,\u001b[38;5;124m'\u001b[39m\u001b[38;5;124mTabNet\u001b[39m\u001b[38;5;124m'\u001b[39m,\u001b[38;5;124m'\u001b[39m\u001b[38;5;124mPrior Model MAE\u001b[39m\u001b[38;5;124m'\u001b[39m,\u001b[38;5;124m'\u001b[39m\u001b[38;5;124mmGAN\u001b[39m\u001b[38;5;124m'\u001b[39m,\u001b[38;5;124m'\u001b[39m\u001b[38;5;124mskipGAN\u001b[39m\u001b[38;5;124m'\u001b[39m,\u001b[38;5;124m'\u001b[39m\u001b[38;5;124mSkip Node weight\u001b[39m\u001b[38;5;124m'\u001b[39m])\n\u001b[1;32m      8\u001b[0m display(df\u001b[38;5;241m.\u001b[39mround(\u001b[38;5;241m5\u001b[39m))\n",
      "\u001b[0;31mIndexError\u001b[0m: index 5 is out of bounds for axis 1 with size 5"
     ]
    }
   ],
   "source": [
    "# Display TabNet Summary Tables \n",
    "data = np.array(data)\n",
    "catboostData = []\n",
    "for i in range(12): \n",
    "    data[i] = np.array(data[i])\n",
    "    catboostData.append([paramVal[i][0], paramVal[i][1],catboost,median(data[i][:,3]),median(data[i][:,5]),median(data[i][:,6]),median(data[i][:,4])])\n",
    "df = pd.DataFrame(catboostData, columns = ['Variance','Bias','TabNet','Prior Model MAE','mGAN','skipGAN','Skip Node weight'])\n",
    "display(df.round(5))"
   ]
  },
  {
   "cell_type": "markdown",
   "id": "1a87a3d2",
   "metadata": {
    "papermill": {
     "duration": null,
     "end_time": null,
     "exception": null,
     "start_time": null,
     "status": "pending"
    },
    "tags": []
   },
   "source": [
    "## ABC Pre-generator - Stats \n"
   ]
  },
  {
   "cell_type": "code",
   "execution_count": null,
   "id": "67a1a919",
   "metadata": {
    "papermill": {
     "duration": null,
     "end_time": null,
     "exception": null,
     "start_time": null,
     "status": "pending"
    },
    "tags": []
   },
   "outputs": [],
   "source": [
    "book = sb.read_notebooks(\"./ABC_GAN_Stats\")\n",
    "paramVal = [[1,1],[1,0.1],[1,0.01],[1,0],[0.1,1],[0.1,0.1],[0.1,0.01],[0.1,0],[0.01,1],[0.01,0.1],[0.01,0.01],[0.01,0]]\n",
    "abc_mae = [[] for i in range(12)]\n",
    "abc_mae_skip = [[] for i in range(12)]\n",
    "abc_mae_mean = [[] for i in range(12)]\n",
    "abc_mae_skip_mean = [[] for i in range(12)]\n",
    "abc_weights = [[] for i in range(12)]\n",
    "prior_model = [[] for i in range(12)]\n",
    "abc_pre_generator = [[] for i in range(12)]\n",
    "\n",
    "for nb in book.notebooks:\n",
    "    metrics1 = np.array(nb.scraps['ABC_GAN_1 Metrics'].data)\n",
    "    metrics3 = np.array(nb.scraps['ABC_GAN_3 Metrics'].data)\n",
    "    paramVar = float(nb.papermill_dataframe.iloc[0]['value'])\n",
    "    paramBias = float(nb.papermill_dataframe.iloc[1]['value'])\n",
    "    #Divide data according to parameters \n",
    "    for i in range(9):\n",
    "        if paramVar == paramVal[i][0] and paramBias == paramVal[i][1]:\n",
    "            for j in range(100):\n",
    "                abc_mae[i].append(metrics1[1,j])\n",
    "                abc_mae_skip[i].append(metrics3[1,j])\n",
    "            abc_weights[i].append(nb.scraps['Skip Connection Weight'].data)\n",
    "            prior_model[i].append(nb.scraps['Prior Model MSE'].data)\n",
    "            abc_pre_generator[i].append(nb.scraps['ABC Pre-generator MSE'].data)\n",
    "            abc_mae_skip_mean[i].append(mean(metrics3[1,:]))\n",
    "            abc_mae_mean[i].append(mean(metrics1[1,:]))"
   ]
  },
  {
   "cell_type": "code",
   "execution_count": null,
   "id": "d5388ba4",
   "metadata": {
    "papermill": {
     "duration": null,
     "end_time": null,
     "exception": null,
     "start_time": null,
     "status": "pending"
    },
    "tags": []
   },
   "outputs": [],
   "source": [
    "data = [[] for i in range(12)]\n",
    "for i in range(12):\n",
    "    for j in range(len(abc_pre_generator[i])):\n",
    "        data[i].append([paramVal[i][0], paramVal[i][1],prior_model[i][j],\n",
    "                     abc_pre_generator[i][j],abc_mae_mean[i][j]])\n",
    "    df = pd.DataFrame(data[i], columns = ['Variance','Bias','Prior Model MAE','ABC pre-generator MAE','ABC GAN MAE'])\n",
    "    display(df.round(5))\n",
    "    print(df.median(axis=0))\n",
    "    print(\"-------------------------------------------------------------\")"
   ]
  },
  {
   "cell_type": "code",
   "execution_count": null,
   "id": "dd9bc0fd",
   "metadata": {
    "papermill": {
     "duration": null,
     "end_time": null,
     "exception": null,
     "start_time": null,
     "status": "pending"
    },
    "tags": []
   },
   "outputs": [],
   "source": [
    "# Display Stats Summary Tables \n",
    "data = np.array(data)\n",
    "catboostData = []\n",
    "for i in range(9): \n",
    "    catboostData.append([gan_median,stats,paramVal[i][0], paramVal[i][1],median(data[i][:,3]),median(data[i][:,5]),median(data[i][:,6]),median(data[i][:,4])])\n",
    "df = pd.DataFrame(catboostData, columns = ['GAN','Stats','Variance','Bias','Prior Model','mGAN','skipGAN','Weight'])\n",
    "display(df.round(5))"
   ]
  }
 ],
 "metadata": {
  "kernelspec": {
   "display_name": "Python 3.7.3 64-bit",
   "language": "python",
   "name": "python3"
  },
  "language_info": {
   "codemirror_mode": {
    "name": "ipython",
    "version": 3
   },
   "file_extension": ".py",
   "mimetype": "text/x-python",
   "name": "python",
   "nbconvert_exporter": "python",
   "pygments_lexer": "ipython3",
   "version": "3.8.13"
  },
  "papermill": {
   "default_parameters": {},
   "duration": 14.242958,
   "end_time": "2022-07-27T04:10:16.408234",
   "environment_variables": {},
   "exception": true,
   "input_path": "Analysis.ipynb",
   "output_path": "resultstatabcgantabnet.ipynb",
   "parameters": {},
   "start_time": "2022-07-27T04:10:02.165276",
   "version": "2.3.3"
  },
  "vscode": {
   "interpreter": {
    "hash": "aee8b7b246df8f9039afb4144a1f6fd8d2ca17a180786b69acc140d282b71a49"
   }
  }
 },
 "nbformat": 4,
 "nbformat_minor": 5
}