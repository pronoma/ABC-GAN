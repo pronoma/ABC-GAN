{
 "cells": [
  {
   "cell_type": "markdown",
   "id": "622780e6",
   "metadata": {
    "id": "622780e6",
    "papermill": {
     "duration": 0.008803,
     "end_time": "2022-07-22T11:20:25.017762",
     "exception": false,
     "start_time": "2022-07-22T11:20:25.008959",
     "status": "completed"
    },
    "tags": []
   },
   "source": [
    "## Import Libraries "
   ]
  },
  {
   "cell_type": "code",
   "execution_count": 1,
   "id": "a62397e3",
   "metadata": {
    "execution": {
     "iopub.execute_input": "2022-07-22T11:20:25.034227Z",
     "iopub.status.busy": "2022-07-22T11:20:25.033691Z",
     "iopub.status.idle": "2022-07-22T11:20:25.049850Z",
     "shell.execute_reply": "2022-07-22T11:20:25.048304Z"
    },
    "id": "a62397e3",
    "papermill": {
     "duration": 0.029099,
     "end_time": "2022-07-22T11:20:25.054005",
     "exception": false,
     "start_time": "2022-07-22T11:20:25.024906",
     "status": "completed"
    },
    "tags": []
   },
   "outputs": [],
   "source": [
    "import warnings\n",
    "import sys\n",
    "sys.path.insert(0, '../../src')\n",
    "warnings.filterwarnings('ignore')"
   ]
  },
  {
   "cell_type": "code",
   "execution_count": 2,
   "id": "d6a4e155",
   "metadata": {
    "execution": {
     "iopub.execute_input": "2022-07-22T11:20:25.087799Z",
     "iopub.status.busy": "2022-07-22T11:20:25.086436Z",
     "iopub.status.idle": "2022-07-22T11:20:35.788622Z",
     "shell.execute_reply": "2022-07-22T11:20:35.787153Z"
    },
    "id": "d6a4e155",
    "papermill": {
     "duration": 10.725786,
     "end_time": "2022-07-22T11:20:35.791983",
     "exception": false,
     "start_time": "2022-07-22T11:20:25.066197",
     "status": "completed"
    },
    "tags": []
   },
   "outputs": [],
   "source": [
    "import ABC_train_test2\n",
    "import friedman3Dataset\n",
    "import network\n",
    "import dataset\n",
    "import sanityChecks\n",
    "import torch \n",
    "import scrapbook as sb\n",
    "from statistics import mean \n",
    "import catboost as ctb \n",
    "from sklearn.model_selection import train_test_split\n",
    "from sklearn.metrics import mean_squared_error,mean_absolute_error\n",
    "import numpy as np\n",
    "from pytorch_tabnet.tab_model import TabNetRegressor"
   ]
  },
  {
   "cell_type": "markdown",
   "id": "2fa5b0f7",
   "metadata": {
    "id": "2fa5b0f7",
    "papermill": {
     "duration": 0.014079,
     "end_time": "2022-07-22T11:20:35.820358",
     "exception": false,
     "start_time": "2022-07-22T11:20:35.806279",
     "status": "completed"
    },
    "tags": []
   },
   "source": [
    "## Parameters "
   ]
  },
  {
   "cell_type": "code",
   "execution_count": 3,
   "id": "783186fb",
   "metadata": {
    "execution": {
     "iopub.execute_input": "2022-07-22T11:20:35.845600Z",
     "iopub.status.busy": "2022-07-22T11:20:35.844454Z",
     "iopub.status.idle": "2022-07-22T11:20:35.852009Z",
     "shell.execute_reply": "2022-07-22T11:20:35.850134Z"
    },
    "id": "783186fb",
    "papermill": {
     "duration": 0.030107,
     "end_time": "2022-07-22T11:20:35.860116",
     "exception": false,
     "start_time": "2022-07-22T11:20:35.830009",
     "status": "completed"
    },
    "tags": [
     "parameters"
    ]
   },
   "outputs": [],
   "source": [
    "variance = 1\n",
    "bias = 1 "
   ]
  },
  {
   "cell_type": "code",
   "execution_count": 4,
   "id": "9d3dcdb7",
   "metadata": {
    "execution": {
     "iopub.execute_input": "2022-07-22T11:20:35.886993Z",
     "iopub.status.busy": "2022-07-22T11:20:35.886049Z",
     "iopub.status.idle": "2022-07-22T11:20:35.892818Z",
     "shell.execute_reply": "2022-07-22T11:20:35.891129Z"
    },
    "papermill": {
     "duration": 0.023391,
     "end_time": "2022-07-22T11:20:35.896825",
     "exception": false,
     "start_time": "2022-07-22T11:20:35.873434",
     "status": "completed"
    },
    "tags": [
     "injected-parameters"
    ]
   },
   "outputs": [],
   "source": [
    "# Parameters\n",
    "variance = 1\n",
    "bias = 1\n"
   ]
  },
  {
   "cell_type": "markdown",
   "id": "391cdbfd",
   "metadata": {
    "id": "391cdbfd",
    "papermill": {
     "duration": 0.015157,
     "end_time": "2022-07-22T11:20:35.927513",
     "exception": false,
     "start_time": "2022-07-22T11:20:35.912356",
     "status": "completed"
    },
    "tags": []
   },
   "source": [
    "## Dataset \n"
   ]
  },
  {
   "cell_type": "code",
   "execution_count": 5,
   "id": "5b51f161",
   "metadata": {
    "execution": {
     "iopub.execute_input": "2022-07-22T11:20:36.066040Z",
     "iopub.status.busy": "2022-07-22T11:20:36.062964Z",
     "iopub.status.idle": "2022-07-22T11:20:36.081290Z",
     "shell.execute_reply": "2022-07-22T11:20:36.079357Z"
    },
    "id": "5b51f161",
    "papermill": {
     "duration": 0.158015,
     "end_time": "2022-07-22T11:20:36.117187",
     "exception": false,
     "start_time": "2022-07-22T11:20:35.959172",
     "status": "completed"
    },
    "tags": []
   },
   "outputs": [],
   "source": [
    "#Parameters \n",
    "n_features = 4\n",
    "n_samples= 100\n",
    "n_target = 1"
   ]
  },
  {
   "cell_type": "code",
   "execution_count": 6,
   "id": "5d6eced4",
   "metadata": {
    "execution": {
     "iopub.execute_input": "2022-07-22T11:20:36.167173Z",
     "iopub.status.busy": "2022-07-22T11:20:36.166022Z",
     "iopub.status.idle": "2022-07-22T11:20:36.201121Z",
     "shell.execute_reply": "2022-07-22T11:20:36.199510Z"
    },
    "id": "5d6eced4",
    "papermill": {
     "duration": 0.072732,
     "end_time": "2022-07-22T11:20:36.213756",
     "exception": false,
     "start_time": "2022-07-22T11:20:36.141024",
     "status": "completed"
    },
    "tags": []
   },
   "outputs": [
    {
     "name": "stdout",
     "output_type": "stream",
     "text": [
      "          X1           X2        X3         X4         Y\n",
      "0  60.998436  1523.987014  0.212358   2.029454  1.263054\n",
      "1  17.582120  1538.139618  0.339004   7.625710  1.632905\n",
      "2   2.145075  1487.670247  0.574511   3.349170  1.627819\n",
      "3  52.830666   547.077760  0.080597   2.982069  0.685229\n",
      "4  36.873094  1142.715979  0.543592  10.534819  1.499307\n"
     ]
    }
   ],
   "source": [
    "X,Y = friedman3Dataset.friedman3_data(n_samples)"
   ]
  },
  {
   "cell_type": "code",
   "execution_count": 7,
   "id": "fe007438",
   "metadata": {
    "execution": {
     "iopub.execute_input": "2022-07-22T11:20:36.287758Z",
     "iopub.status.busy": "2022-07-22T11:20:36.285827Z",
     "iopub.status.idle": "2022-07-22T11:20:36.303677Z",
     "shell.execute_reply": "2022-07-22T11:20:36.300706Z"
    },
    "id": "fe007438",
    "papermill": {
     "duration": 0.066322,
     "end_time": "2022-07-22T11:20:36.319472",
     "exception": false,
     "start_time": "2022-07-22T11:20:36.253150",
     "status": "completed"
    },
    "tags": []
   },
   "outputs": [],
   "source": [
    "#Train test split for dataset \n",
    "X_train,X_test,Y_train,Y_test = train_test_split(X,Y,test_size = 0.2)\n",
    "train_data = dataset.CustomDataset(X_train,Y_train)\n",
    "test_data = dataset.CustomDataset(X_test,Y_test)\n"
   ]
  },
  {
   "cell_type": "markdown",
   "id": "a9a1af34",
   "metadata": {
    "id": "a9a1af34",
    "papermill": {
     "duration": 0.042616,
     "end_time": "2022-07-22T11:20:36.378890",
     "exception": false,
     "start_time": "2022-07-22T11:20:36.336274",
     "status": "completed"
    },
    "tags": []
   },
   "source": [
    "## Training Parameters "
   ]
  },
  {
   "cell_type": "code",
   "execution_count": 8,
   "id": "952b7fc8",
   "metadata": {
    "execution": {
     "iopub.execute_input": "2022-07-22T11:20:36.416795Z",
     "iopub.status.busy": "2022-07-22T11:20:36.415939Z",
     "iopub.status.idle": "2022-07-22T11:20:36.427277Z",
     "shell.execute_reply": "2022-07-22T11:20:36.424733Z"
    },
    "id": "952b7fc8",
    "papermill": {
     "duration": 0.039484,
     "end_time": "2022-07-22T11:20:36.438828",
     "exception": false,
     "start_time": "2022-07-22T11:20:36.399344",
     "status": "completed"
    },
    "tags": []
   },
   "outputs": [],
   "source": [
    "batch_size = 32\n",
    "n_epochs = 1000\n",
    "#Select the device \n",
    "device = torch.device('cuda' if torch.cuda.is_available() else 'cpu')"
   ]
  },
  {
   "cell_type": "markdown",
   "id": "a95e1600",
   "metadata": {
    "id": "a95e1600",
    "papermill": {
     "duration": 0.015163,
     "end_time": "2022-07-22T11:20:36.497113",
     "exception": false,
     "start_time": "2022-07-22T11:20:36.481950",
     "status": "completed"
    },
    "tags": []
   },
   "source": [
    "# ABC Pre-generator Model \n",
    "\n",
    "1. The catboost model is used as a pre-generator model for the ABC-GAN. \n",
    "2. The model is first trained on the entire dataset \n",
    "3. It generats X,Y pairs and we add some Gaussian noise with mean 0 and variance 1 to it which is then feed as input to the generator.\n"
   ]
  },
  {
   "cell_type": "code",
   "execution_count": 9,
   "id": "ac011ebf",
   "metadata": {
    "execution": {
     "iopub.execute_input": "2022-07-22T11:20:36.539663Z",
     "iopub.status.busy": "2022-07-22T11:20:36.539211Z",
     "iopub.status.idle": "2022-07-22T11:22:03.740109Z",
     "shell.execute_reply": "2022-07-22T11:22:03.733886Z"
    },
    "papermill": {
     "duration": 87.221078,
     "end_time": "2022-07-22T11:22:03.744019",
     "exception": false,
     "start_time": "2022-07-22T11:20:36.522941",
     "status": "completed"
    },
    "tags": []
   },
   "outputs": [
    {
     "name": "stdout",
     "output_type": "stream",
     "text": [
      "Device used : cpu\n"
     ]
    },
    {
     "name": "stdout",
     "output_type": "stream",
     "text": [
      "epoch 0  | loss: 1.18391 | train_mse: 4.61792 | train_mae: 1.62122 |  0:00:00s\n",
      "epoch 1  | loss: 1.14453 | train_mse: 4.03039 | train_mae: 1.5285  |  0:00:00s\n"
     ]
    },
    {
     "name": "stdout",
     "output_type": "stream",
     "text": [
      "epoch 2  | loss: 1.24737 | train_mse: 3.60818 | train_mae: 1.44515 |  0:00:01s\n"
     ]
    },
    {
     "name": "stdout",
     "output_type": "stream",
     "text": [
      "epoch 3  | loss: 1.04622 | train_mse: 3.0949  | train_mae: 1.34829 |  0:00:01s\n",
      "epoch 4  | loss: 1.06825 | train_mse: 2.88749 | train_mae: 1.31579 |  0:00:01s\n"
     ]
    },
    {
     "name": "stdout",
     "output_type": "stream",
     "text": [
      "epoch 5  | loss: 0.9001  | train_mse: 2.63581 | train_mae: 1.25746 |  0:00:01s\n",
      "epoch 6  | loss: 0.71493 | train_mse: 2.35836 | train_mae: 1.17815 |  0:00:01s\n"
     ]
    },
    {
     "name": "stdout",
     "output_type": "stream",
     "text": [
      "epoch 7  | loss: 0.75582 | train_mse: 2.06555 | train_mae: 1.09873 |  0:00:02s\n",
      "epoch 8  | loss: 0.77678 | train_mse: 1.86565 | train_mae: 1.04711 |  0:00:02s\n"
     ]
    },
    {
     "name": "stdout",
     "output_type": "stream",
     "text": [
      "epoch 9  | loss: 0.91479 | train_mse: 1.68184 | train_mae: 0.99459 |  0:00:02s\n",
      "epoch 10 | loss: 0.6712  | train_mse: 1.51923 | train_mae: 0.94649 |  0:00:02s\n"
     ]
    },
    {
     "name": "stdout",
     "output_type": "stream",
     "text": [
      "epoch 11 | loss: 0.70599 | train_mse: 1.38304 | train_mae: 0.90568 |  0:00:02s\n",
      "epoch 12 | loss: 0.71058 | train_mse: 1.24108 | train_mae: 0.84873 |  0:00:02s\n"
     ]
    },
    {
     "name": "stdout",
     "output_type": "stream",
     "text": [
      "epoch 13 | loss: 0.70951 | train_mse: 1.12093 | train_mae: 0.80373 |  0:00:02s\n",
      "epoch 14 | loss: 0.72158 | train_mse: 1.07156 | train_mae: 0.78024 |  0:00:03s\n"
     ]
    },
    {
     "name": "stdout",
     "output_type": "stream",
     "text": [
      "epoch 15 | loss: 0.66514 | train_mse: 0.99063 | train_mae: 0.74973 |  0:00:03s\n",
      "epoch 16 | loss: 0.72599 | train_mse: 0.98513 | train_mae: 0.73371 |  0:00:03s\n"
     ]
    },
    {
     "name": "stdout",
     "output_type": "stream",
     "text": [
      "epoch 17 | loss: 0.91372 | train_mse: 0.94542 | train_mae: 0.71878 |  0:00:03s\n"
     ]
    },
    {
     "name": "stdout",
     "output_type": "stream",
     "text": [
      "epoch 18 | loss: 0.88663 | train_mse: 0.87353 | train_mae: 0.68864 |  0:00:04s\n"
     ]
    },
    {
     "name": "stdout",
     "output_type": "stream",
     "text": [
      "epoch 19 | loss: 0.62764 | train_mse: 0.81668 | train_mae: 0.66029 |  0:00:04s\n",
      "epoch 20 | loss: 0.5066  | train_mse: 0.76922 | train_mae: 0.63716 |  0:00:05s\n"
     ]
    },
    {
     "name": "stdout",
     "output_type": "stream",
     "text": [
      "epoch 21 | loss: 0.5041  | train_mse: 0.73569 | train_mae: 0.6248  |  0:00:05s\n",
      "epoch 22 | loss: 0.71354 | train_mse: 0.71349 | train_mae: 0.61382 |  0:00:05s\n"
     ]
    },
    {
     "name": "stdout",
     "output_type": "stream",
     "text": [
      "epoch 23 | loss: 0.66374 | train_mse: 0.69105 | train_mae: 0.60542 |  0:00:05s\n"
     ]
    },
    {
     "name": "stdout",
     "output_type": "stream",
     "text": [
      "epoch 24 | loss: 0.7332  | train_mse: 0.67701 | train_mae: 0.60388 |  0:00:05s\n",
      "epoch 25 | loss: 0.79168 | train_mse: 0.65452 | train_mae: 0.58912 |  0:00:06s\n"
     ]
    },
    {
     "name": "stdout",
     "output_type": "stream",
     "text": [
      "epoch 26 | loss: 0.55019 | train_mse: 0.63615 | train_mae: 0.58023 |  0:00:06s\n",
      "epoch 27 | loss: 0.68843 | train_mse: 0.61948 | train_mae: 0.56697 |  0:00:06s\n"
     ]
    },
    {
     "name": "stdout",
     "output_type": "stream",
     "text": [
      "epoch 28 | loss: 0.61278 | train_mse: 0.59584 | train_mae: 0.55202 |  0:00:06s\n",
      "epoch 29 | loss: 0.4718  | train_mse: 0.57276 | train_mae: 0.54027 |  0:00:06s\n"
     ]
    },
    {
     "name": "stdout",
     "output_type": "stream",
     "text": [
      "epoch 30 | loss: 0.51694 | train_mse: 0.56156 | train_mae: 0.53528 |  0:00:06s\n"
     ]
    },
    {
     "name": "stdout",
     "output_type": "stream",
     "text": [
      "epoch 31 | loss: 0.70662 | train_mse: 0.58202 | train_mae: 0.54023 |  0:00:07s\n",
      "epoch 32 | loss: 0.39504 | train_mse: 0.57176 | train_mae: 0.5338  |  0:00:07s\n"
     ]
    },
    {
     "name": "stdout",
     "output_type": "stream",
     "text": [
      "epoch 33 | loss: 0.60725 | train_mse: 0.54093 | train_mae: 0.52107 |  0:00:07s\n",
      "epoch 34 | loss: 0.60236 | train_mse: 0.52972 | train_mae: 0.51822 |  0:00:07s\n"
     ]
    },
    {
     "name": "stdout",
     "output_type": "stream",
     "text": [
      "epoch 35 | loss: 0.78729 | train_mse: 0.52181 | train_mae: 0.51489 |  0:00:07s\n"
     ]
    },
    {
     "name": "stdout",
     "output_type": "stream",
     "text": [
      "epoch 36 | loss: 0.6025  | train_mse: 0.51222 | train_mae: 0.50998 |  0:00:08s\n"
     ]
    },
    {
     "name": "stdout",
     "output_type": "stream",
     "text": [
      "epoch 37 | loss: 0.43006 | train_mse: 0.52545 | train_mae: 0.51535 |  0:00:08s\n",
      "epoch 38 | loss: 0.72578 | train_mse: 0.52508 | train_mae: 0.51367 |  0:00:08s\n"
     ]
    },
    {
     "name": "stdout",
     "output_type": "stream",
     "text": [
      "epoch 39 | loss: 0.5429  | train_mse: 0.44198 | train_mae: 0.48626 |  0:00:08s\n",
      "epoch 40 | loss: 0.42733 | train_mse: 0.43891 | train_mae: 0.48633 |  0:00:08s\n"
     ]
    },
    {
     "name": "stdout",
     "output_type": "stream",
     "text": [
      "epoch 41 | loss: 0.49214 | train_mse: 0.42815 | train_mae: 0.47933 |  0:00:08s\n",
      "epoch 42 | loss: 0.45457 | train_mse: 0.43238 | train_mae: 0.48068 |  0:00:09s\n",
      "epoch 43 | loss: 0.39305 | train_mse: 0.43761 | train_mae: 0.48183 |  0:00:09s\n"
     ]
    },
    {
     "name": "stdout",
     "output_type": "stream",
     "text": [
      "epoch 44 | loss: 0.55604 | train_mse: 0.43445 | train_mae: 0.47645 |  0:00:09s\n",
      "epoch 45 | loss: 0.43276 | train_mse: 0.43793 | train_mae: 0.47773 |  0:00:09s\n"
     ]
    },
    {
     "name": "stdout",
     "output_type": "stream",
     "text": [
      "epoch 46 | loss: 0.48986 | train_mse: 0.43732 | train_mae: 0.47705 |  0:00:09s\n",
      "epoch 47 | loss: 0.46515 | train_mse: 0.4274  | train_mae: 0.46798 |  0:00:09s\n"
     ]
    },
    {
     "name": "stdout",
     "output_type": "stream",
     "text": [
      "epoch 48 | loss: 0.59847 | train_mse: 0.41965 | train_mae: 0.46608 |  0:00:09s\n",
      "epoch 49 | loss: 0.59562 | train_mse: 0.39826 | train_mae: 0.44973 |  0:00:09s\n"
     ]
    },
    {
     "name": "stdout",
     "output_type": "stream",
     "text": [
      "epoch 50 | loss: 0.40793 | train_mse: 0.39496 | train_mae: 0.45095 |  0:00:10s\n",
      "epoch 51 | loss: 0.46316 | train_mse: 0.3943  | train_mae: 0.4512  |  0:00:10s\n",
      "epoch 52 | loss: 0.49748 | train_mse: 0.39384 | train_mae: 0.44911 |  0:00:10s"
     ]
    },
    {
     "name": "stdout",
     "output_type": "stream",
     "text": [
      "\n",
      "epoch 53 | loss: 0.39117 | train_mse: 0.38773 | train_mae: 0.44349 |  0:00:10s\n"
     ]
    },
    {
     "name": "stdout",
     "output_type": "stream",
     "text": [
      "epoch 54 | loss: 0.37942 | train_mse: 0.38147 | train_mae: 0.43658 |  0:00:10s\n",
      "epoch 55 | loss: 0.446   | train_mse: 0.37274 | train_mae: 0.43009 |  0:00:10s\n"
     ]
    },
    {
     "name": "stdout",
     "output_type": "stream",
     "text": [
      "epoch 56 | loss: 0.52346 | train_mse: 0.39424 | train_mae: 0.44169 |  0:00:11s\n",
      "epoch 57 | loss: 0.36988 | train_mse: 0.41612 | train_mae: 0.44775 |  0:00:11s\n"
     ]
    },
    {
     "name": "stdout",
     "output_type": "stream",
     "text": [
      "epoch 58 | loss: 0.62781 | train_mse: 0.41527 | train_mae: 0.44431 |  0:00:11s\n",
      "epoch 59 | loss: 0.37919 | train_mse: 0.41661 | train_mae: 0.44183 |  0:00:11s\n",
      "epoch 60 | loss: 0.51549 | train_mse: 0.40122 | train_mae: 0.43228 |  0:00:11s\n"
     ]
    },
    {
     "name": "stdout",
     "output_type": "stream",
     "text": [
      "epoch 61 | loss: 0.36671 | train_mse: 0.37548 | train_mae: 0.41972 |  0:00:11s\n",
      "epoch 62 | loss: 0.59674 | train_mse: 0.34529 | train_mae: 0.40504 |  0:00:11s\n"
     ]
    },
    {
     "name": "stdout",
     "output_type": "stream",
     "text": [
      "epoch 63 | loss: 0.38021 | train_mse: 0.32844 | train_mae: 0.39458 |  0:00:11s\n"
     ]
    },
    {
     "name": "stdout",
     "output_type": "stream",
     "text": [
      "epoch 64 | loss: 0.46953 | train_mse: 0.31236 | train_mae: 0.37999 |  0:00:12s\n"
     ]
    },
    {
     "name": "stdout",
     "output_type": "stream",
     "text": [
      "epoch 65 | loss: 0.37833 | train_mse: 0.30891 | train_mae: 0.3798  |  0:00:12s\n"
     ]
    },
    {
     "name": "stdout",
     "output_type": "stream",
     "text": [
      "epoch 66 | loss: 0.35849 | train_mse: 0.30166 | train_mae: 0.37252 |  0:00:12s\n"
     ]
    },
    {
     "name": "stdout",
     "output_type": "stream",
     "text": [
      "epoch 67 | loss: 0.45266 | train_mse: 0.29894 | train_mae: 0.37248 |  0:00:12s\n"
     ]
    },
    {
     "name": "stdout",
     "output_type": "stream",
     "text": [
      "epoch 68 | loss: 0.37239 | train_mse: 0.29692 | train_mae: 0.36977 |  0:00:13s\n",
      "epoch 69 | loss: 0.37027 | train_mse: 0.29709 | train_mae: 0.36894 |  0:00:13s\n"
     ]
    },
    {
     "name": "stdout",
     "output_type": "stream",
     "text": [
      "epoch 70 | loss: 0.25397 | train_mse: 0.29168 | train_mae: 0.36433 |  0:00:13s\n"
     ]
    },
    {
     "name": "stdout",
     "output_type": "stream",
     "text": [
      "epoch 71 | loss: 0.37462 | train_mse: 0.29008 | train_mae: 0.36153 |  0:00:13s\n"
     ]
    },
    {
     "name": "stdout",
     "output_type": "stream",
     "text": [
      "epoch 72 | loss: 0.36308 | train_mse: 0.28941 | train_mae: 0.36041 |  0:00:14s\n"
     ]
    },
    {
     "name": "stdout",
     "output_type": "stream",
     "text": [
      "epoch 73 | loss: 0.41046 | train_mse: 0.28694 | train_mae: 0.35951 |  0:00:14s\n",
      "epoch 74 | loss: 0.29915 | train_mse: 0.28432 | train_mae: 0.35947 |  0:00:14s\n"
     ]
    },
    {
     "name": "stdout",
     "output_type": "stream",
     "text": [
      "epoch 75 | loss: 0.39117 | train_mse: 0.28068 | train_mae: 0.35679 |  0:00:14s\n"
     ]
    },
    {
     "name": "stdout",
     "output_type": "stream",
     "text": [
      "epoch 76 | loss: 0.36631 | train_mse: 0.27819 | train_mae: 0.3535  |  0:00:15s\n",
      "epoch 77 | loss: 0.4195  | train_mse: 0.27593 | train_mae: 0.35202 |  0:00:15s\n"
     ]
    },
    {
     "name": "stdout",
     "output_type": "stream",
     "text": [
      "epoch 78 | loss: 0.65057 | train_mse: 0.27624 | train_mae: 0.3535  |  0:00:15s\n",
      "epoch 79 | loss: 0.389   | train_mse: 0.2733  | train_mae: 0.35259 |  0:00:15s\n"
     ]
    },
    {
     "name": "stdout",
     "output_type": "stream",
     "text": [
      "epoch 80 | loss: 0.35144 | train_mse: 0.26726 | train_mae: 0.3457  |  0:00:15s\n",
      "epoch 81 | loss: 0.38876 | train_mse: 0.26609 | train_mae: 0.34562 |  0:00:16s\n"
     ]
    },
    {
     "name": "stdout",
     "output_type": "stream",
     "text": [
      "epoch 82 | loss: 0.48281 | train_mse: 0.26219 | train_mae: 0.34425 |  0:00:16s\n"
     ]
    },
    {
     "name": "stdout",
     "output_type": "stream",
     "text": [
      "epoch 83 | loss: 0.36125 | train_mse: 0.25787 | train_mae: 0.34136 |  0:00:16s\n"
     ]
    },
    {
     "name": "stdout",
     "output_type": "stream",
     "text": [
      "epoch 84 | loss: 0.36039 | train_mse: 0.26063 | train_mae: 0.34643 |  0:00:16s\n",
      "epoch 85 | loss: 0.35908 | train_mse: 0.2833  | train_mae: 0.36089 |  0:00:16s\n"
     ]
    },
    {
     "name": "stdout",
     "output_type": "stream",
     "text": [
      "epoch 86 | loss: 0.37242 | train_mse: 0.31988 | train_mae: 0.3715  |  0:00:17s\n"
     ]
    },
    {
     "name": "stdout",
     "output_type": "stream",
     "text": [
      "epoch 87 | loss: 0.5948  | train_mse: 0.32759 | train_mae: 0.37336 |  0:00:17s\n"
     ]
    },
    {
     "name": "stdout",
     "output_type": "stream",
     "text": [
      "epoch 88 | loss: 0.37223 | train_mse: 0.30239 | train_mae: 0.36802 |  0:00:18s\n"
     ]
    },
    {
     "name": "stdout",
     "output_type": "stream",
     "text": [
      "epoch 89 | loss: 0.30109 | train_mse: 0.26131 | train_mae: 0.35014 |  0:00:18s\n"
     ]
    },
    {
     "name": "stdout",
     "output_type": "stream",
     "text": [
      "epoch 90 | loss: 0.39616 | train_mse: 0.25687 | train_mae: 0.344   |  0:00:19s\n"
     ]
    },
    {
     "name": "stdout",
     "output_type": "stream",
     "text": [
      "epoch 91 | loss: 0.37846 | train_mse: 0.25509 | train_mae: 0.34051 |  0:00:19s\n"
     ]
    },
    {
     "name": "stdout",
     "output_type": "stream",
     "text": [
      "epoch 92 | loss: 0.49545 | train_mse: 0.25343 | train_mae: 0.33837 |  0:00:19s\n"
     ]
    },
    {
     "name": "stdout",
     "output_type": "stream",
     "text": [
      "epoch 93 | loss: 0.27691 | train_mse: 0.24969 | train_mae: 0.33569 |  0:00:20s\n"
     ]
    },
    {
     "name": "stdout",
     "output_type": "stream",
     "text": [
      "epoch 94 | loss: 0.40381 | train_mse: 0.24183 | train_mae: 0.33192 |  0:00:20s\n",
      "epoch 95 | loss: 0.41223 | train_mse: 0.27059 | train_mae: 0.34153 |  0:00:20s\n"
     ]
    },
    {
     "name": "stdout",
     "output_type": "stream",
     "text": [
      "epoch 96 | loss: 0.48075 | train_mse: 0.2695  | train_mae: 0.33892 |  0:00:20s\n",
      "epoch 97 | loss: 0.46994 | train_mse: 0.27996 | train_mae: 0.3455  |  0:00:21s\n"
     ]
    },
    {
     "name": "stdout",
     "output_type": "stream",
     "text": [
      "epoch 98 | loss: 0.43386 | train_mse: 0.30118 | train_mae: 0.34822 |  0:00:21s\n",
      "epoch 99 | loss: 0.39626 | train_mse: 0.29427 | train_mae: 0.35146 |  0:00:21s\n"
     ]
    },
    {
     "name": "stdout",
     "output_type": "stream",
     "text": [
      "epoch 100| loss: 0.49167 | train_mse: 0.31183 | train_mae: 0.35937 |  0:00:21s\n",
      "epoch 101| loss: 0.44402 | train_mse: 0.25423 | train_mae: 0.34352 |  0:00:21s\n"
     ]
    },
    {
     "name": "stdout",
     "output_type": "stream",
     "text": [
      "epoch 102| loss: 0.38432 | train_mse: 0.257   | train_mae: 0.33827 |  0:00:21s\n"
     ]
    },
    {
     "name": "stdout",
     "output_type": "stream",
     "text": [
      "epoch 103| loss: 0.36486 | train_mse: 0.23711 | train_mae: 0.32536 |  0:00:21s\n",
      "epoch 104| loss: 0.30622 | train_mse: 0.23146 | train_mae: 0.32253 |  0:00:21s\n"
     ]
    },
    {
     "name": "stdout",
     "output_type": "stream",
     "text": [
      "epoch 105| loss: 0.41164 | train_mse: 0.23171 | train_mae: 0.3258  |  0:00:22s\n",
      "epoch 106| loss: 0.36478 | train_mse: 0.23442 | train_mae: 0.3305  |  0:00:22s\n"
     ]
    },
    {
     "name": "stdout",
     "output_type": "stream",
     "text": [
      "epoch 107| loss: 0.41772 | train_mse: 0.23705 | train_mae: 0.33509 |  0:00:22s\n",
      "epoch 108| loss: 0.51371 | train_mse: 0.23679 | train_mae: 0.33233 |  0:00:22s\n"
     ]
    },
    {
     "name": "stdout",
     "output_type": "stream",
     "text": [
      "epoch 109| loss: 0.37334 | train_mse: 0.23286 | train_mae: 0.32841 |  0:00:22s\n"
     ]
    },
    {
     "name": "stdout",
     "output_type": "stream",
     "text": [
      "epoch 110| loss: 0.24903 | train_mse: 0.22907 | train_mae: 0.3243  |  0:00:23s\n",
      "epoch 111| loss: 0.34939 | train_mse: 0.22791 | train_mae: 0.32336 |  0:00:23s\n"
     ]
    },
    {
     "name": "stdout",
     "output_type": "stream",
     "text": [
      "epoch 112| loss: 0.30322 | train_mse: 0.22524 | train_mae: 0.31897 |  0:00:23s\n"
     ]
    },
    {
     "name": "stdout",
     "output_type": "stream",
     "text": [
      "epoch 113| loss: 0.29775 | train_mse: 0.22117 | train_mae: 0.31265 |  0:00:23s\n"
     ]
    },
    {
     "name": "stdout",
     "output_type": "stream",
     "text": [
      "epoch 114| loss: 0.30978 | train_mse: 0.22155 | train_mae: 0.31381 |  0:00:24s\n"
     ]
    },
    {
     "name": "stdout",
     "output_type": "stream",
     "text": [
      "epoch 115| loss: 0.27403 | train_mse: 0.22267 | train_mae: 0.31821 |  0:00:24s\n"
     ]
    },
    {
     "name": "stdout",
     "output_type": "stream",
     "text": [
      "epoch 116| loss: 0.4651  | train_mse: 0.22124 | train_mae: 0.31814 |  0:00:25s\n",
      "epoch 117| loss: 0.3707  | train_mse: 0.23082 | train_mae: 0.32781 |  0:00:25s\n"
     ]
    },
    {
     "name": "stdout",
     "output_type": "stream",
     "text": [
      "epoch 118| loss: 0.28956 | train_mse: 0.2589  | train_mae: 0.34114 |  0:00:25s\n"
     ]
    },
    {
     "name": "stdout",
     "output_type": "stream",
     "text": [
      "epoch 119| loss: 0.43459 | train_mse: 0.23373 | train_mae: 0.33234 |  0:00:25s\n",
      "epoch 120| loss: 0.32482 | train_mse: 0.23447 | train_mae: 0.33077 |  0:00:25s\n"
     ]
    },
    {
     "name": "stdout",
     "output_type": "stream",
     "text": [
      "epoch 121| loss: 0.33601 | train_mse: 0.23521 | train_mae: 0.33108 |  0:00:26s\n",
      "epoch 122| loss: 0.29492 | train_mse: 0.23228 | train_mae: 0.33055 |  0:00:26s\n"
     ]
    },
    {
     "name": "stdout",
     "output_type": "stream",
     "text": [
      "epoch 123| loss: 0.30307 | train_mse: 0.23045 | train_mae: 0.33105 |  0:00:26s\n"
     ]
    },
    {
     "name": "stdout",
     "output_type": "stream",
     "text": [
      "epoch 124| loss: 0.32736 | train_mse: 0.22671 | train_mae: 0.32962 |  0:00:26s\n",
      "epoch 125| loss: 0.32554 | train_mse: 0.22245 | train_mae: 0.32491 |  0:00:26s\n"
     ]
    },
    {
     "name": "stdout",
     "output_type": "stream",
     "text": [
      "epoch 126| loss: 0.51157 | train_mse: 0.24432 | train_mae: 0.34107 |  0:00:27s\n",
      "epoch 127| loss: 0.43502 | train_mse: 0.24196 | train_mae: 0.34142 |  0:00:27s\n"
     ]
    },
    {
     "name": "stdout",
     "output_type": "stream",
     "text": [
      "epoch 128| loss: 0.42239 | train_mse: 0.23006 | train_mae: 0.33353 |  0:00:28s\n"
     ]
    },
    {
     "name": "stdout",
     "output_type": "stream",
     "text": [
      "epoch 129| loss: 0.36501 | train_mse: 0.21696 | train_mae: 0.32294 |  0:00:28s\n"
     ]
    },
    {
     "name": "stdout",
     "output_type": "stream",
     "text": [
      "epoch 130| loss: 0.32494 | train_mse: 0.21788 | train_mae: 0.32441 |  0:00:28s\n"
     ]
    },
    {
     "name": "stdout",
     "output_type": "stream",
     "text": [
      "epoch 131| loss: 0.34062 | train_mse: 0.2189  | train_mae: 0.32565 |  0:00:29s\n"
     ]
    },
    {
     "name": "stdout",
     "output_type": "stream",
     "text": [
      "epoch 132| loss: 0.44982 | train_mse: 0.22236 | train_mae: 0.32729 |  0:00:29s\n"
     ]
    },
    {
     "name": "stdout",
     "output_type": "stream",
     "text": [
      "epoch 133| loss: 0.38953 | train_mse: 0.22356 | train_mae: 0.32789 |  0:00:30s\n"
     ]
    },
    {
     "name": "stdout",
     "output_type": "stream",
     "text": [
      "epoch 134| loss: 0.59006 | train_mse: 0.22351 | train_mae: 0.32679 |  0:00:30s\n"
     ]
    },
    {
     "name": "stdout",
     "output_type": "stream",
     "text": [
      "epoch 135| loss: 0.36052 | train_mse: 0.22597 | train_mae: 0.32753 |  0:00:31s\n"
     ]
    },
    {
     "name": "stdout",
     "output_type": "stream",
     "text": [
      "epoch 136| loss: 0.37844 | train_mse: 0.22907 | train_mae: 0.32926 |  0:00:31s\n"
     ]
    },
    {
     "name": "stdout",
     "output_type": "stream",
     "text": [
      "epoch 137| loss: 0.48504 | train_mse: 0.23592 | train_mae: 0.33547 |  0:00:32s\n"
     ]
    },
    {
     "name": "stdout",
     "output_type": "stream",
     "text": [
      "epoch 138| loss: 0.22356 | train_mse: 0.25557 | train_mae: 0.34531 |  0:00:32s\n"
     ]
    },
    {
     "name": "stdout",
     "output_type": "stream",
     "text": [
      "epoch 139| loss: 0.36715 | train_mse: 0.25393 | train_mae: 0.34316 |  0:00:32s\n"
     ]
    },
    {
     "name": "stdout",
     "output_type": "stream",
     "text": [
      "epoch 140| loss: 0.32319 | train_mse: 0.23711 | train_mae: 0.33422 |  0:00:33s\n"
     ]
    },
    {
     "name": "stdout",
     "output_type": "stream",
     "text": [
      "epoch 141| loss: 0.23993 | train_mse: 0.22882 | train_mae: 0.32728 |  0:00:33s\n"
     ]
    },
    {
     "name": "stdout",
     "output_type": "stream",
     "text": [
      "epoch 142| loss: 0.33081 | train_mse: 0.2255  | train_mae: 0.32461 |  0:00:33s\n"
     ]
    },
    {
     "name": "stdout",
     "output_type": "stream",
     "text": [
      "epoch 143| loss: 0.30553 | train_mse: 0.22414 | train_mae: 0.32307 |  0:00:34s\n"
     ]
    },
    {
     "name": "stdout",
     "output_type": "stream",
     "text": [
      "epoch 144| loss: 0.25055 | train_mse: 0.22345 | train_mae: 0.3225  |  0:00:34s\n"
     ]
    },
    {
     "name": "stdout",
     "output_type": "stream",
     "text": [
      "epoch 145| loss: 0.32763 | train_mse: 0.22192 | train_mae: 0.32118 |  0:00:34s\n"
     ]
    },
    {
     "name": "stdout",
     "output_type": "stream",
     "text": [
      "epoch 146| loss: 0.2999  | train_mse: 0.21934 | train_mae: 0.31989 |  0:00:35s\n"
     ]
    },
    {
     "name": "stdout",
     "output_type": "stream",
     "text": [
      "epoch 147| loss: 0.43764 | train_mse: 0.21731 | train_mae: 0.3183  |  0:00:35s\n"
     ]
    },
    {
     "name": "stdout",
     "output_type": "stream",
     "text": [
      "epoch 148| loss: 0.44892 | train_mse: 0.21797 | train_mae: 0.31923 |  0:00:36s\n"
     ]
    },
    {
     "name": "stdout",
     "output_type": "stream",
     "text": [
      "epoch 149| loss: 0.36956 | train_mse: 0.22076 | train_mae: 0.3223  |  0:00:36s\n"
     ]
    },
    {
     "name": "stdout",
     "output_type": "stream",
     "text": [
      "epoch 150| loss: 0.34041 | train_mse: 0.22067 | train_mae: 0.32301 |  0:00:36s\n",
      "epoch 151| loss: 0.26798 | train_mse: 0.21979 | train_mae: 0.32165 |  0:00:36s\n"
     ]
    },
    {
     "name": "stdout",
     "output_type": "stream",
     "text": [
      "epoch 152| loss: 0.37882 | train_mse: 0.21929 | train_mae: 0.3193  |  0:00:37s\n"
     ]
    },
    {
     "name": "stdout",
     "output_type": "stream",
     "text": [
      "epoch 153| loss: 0.25863 | train_mse: 0.22163 | train_mae: 0.31928 |  0:00:37s\n"
     ]
    },
    {
     "name": "stdout",
     "output_type": "stream",
     "text": [
      "epoch 154| loss: 0.27556 | train_mse: 0.21998 | train_mae: 0.31464 |  0:00:37s\n"
     ]
    },
    {
     "name": "stdout",
     "output_type": "stream",
     "text": [
      "epoch 155| loss: 0.28806 | train_mse: 0.22115 | train_mae: 0.31855 |  0:00:37s\n"
     ]
    },
    {
     "name": "stdout",
     "output_type": "stream",
     "text": [
      "epoch 156| loss: 0.2269  | train_mse: 0.21518 | train_mae: 0.31407 |  0:00:38s\n"
     ]
    },
    {
     "name": "stdout",
     "output_type": "stream",
     "text": [
      "epoch 157| loss: 0.26679 | train_mse: 0.20826 | train_mae: 0.30988 |  0:00:38s\n"
     ]
    },
    {
     "name": "stdout",
     "output_type": "stream",
     "text": [
      "epoch 158| loss: 0.30732 | train_mse: 0.20924 | train_mae: 0.30971 |  0:00:38s\n"
     ]
    },
    {
     "name": "stdout",
     "output_type": "stream",
     "text": [
      "epoch 159| loss: 0.36646 | train_mse: 0.20972 | train_mae: 0.30931 |  0:00:39s\n"
     ]
    },
    {
     "name": "stdout",
     "output_type": "stream",
     "text": [
      "epoch 160| loss: 0.3112  | train_mse: 0.21014 | train_mae: 0.31042 |  0:00:39s\n"
     ]
    },
    {
     "name": "stdout",
     "output_type": "stream",
     "text": [
      "epoch 161| loss: 0.32148 | train_mse: 0.21282 | train_mae: 0.3108  |  0:00:39s\n"
     ]
    },
    {
     "name": "stdout",
     "output_type": "stream",
     "text": [
      "epoch 162| loss: 0.42123 | train_mse: 0.22155 | train_mae: 0.31398 |  0:00:40s\n",
      "epoch 163| loss: 0.35809 | train_mse: 0.23881 | train_mae: 0.32943 |  0:00:40s\n"
     ]
    },
    {
     "name": "stdout",
     "output_type": "stream",
     "text": [
      "epoch 164| loss: 0.22227 | train_mse: 0.23379 | train_mae: 0.32437 |  0:00:40s\n"
     ]
    },
    {
     "name": "stdout",
     "output_type": "stream",
     "text": [
      "epoch 165| loss: 0.37004 | train_mse: 0.24381 | train_mae: 0.33424 |  0:00:41s\n"
     ]
    },
    {
     "name": "stdout",
     "output_type": "stream",
     "text": [
      "epoch 166| loss: 0.37277 | train_mse: 0.24174 | train_mae: 0.33541 |  0:00:41s\n"
     ]
    },
    {
     "name": "stdout",
     "output_type": "stream",
     "text": [
      "epoch 167| loss: 0.38323 | train_mse: 0.24032 | train_mae: 0.33553 |  0:00:41s\n"
     ]
    },
    {
     "name": "stdout",
     "output_type": "stream",
     "text": [
      "epoch 168| loss: 0.28407 | train_mse: 0.2301  | train_mae: 0.3291  |  0:00:41s\n"
     ]
    },
    {
     "name": "stdout",
     "output_type": "stream",
     "text": [
      "epoch 169| loss: 0.31415 | train_mse: 0.21544 | train_mae: 0.31854 |  0:00:42s\n"
     ]
    },
    {
     "name": "stdout",
     "output_type": "stream",
     "text": [
      "epoch 170| loss: 0.25922 | train_mse: 0.2084  | train_mae: 0.31428 |  0:00:42s\n"
     ]
    },
    {
     "name": "stdout",
     "output_type": "stream",
     "text": [
      "epoch 171| loss: 0.36621 | train_mse: 0.20282 | train_mae: 0.30764 |  0:00:42s\n",
      "epoch 172| loss: 0.33409 | train_mse: 0.20129 | train_mae: 0.30428 |  0:00:42s\n"
     ]
    },
    {
     "name": "stdout",
     "output_type": "stream",
     "text": [
      "epoch 173| loss: 0.24123 | train_mse: 0.19911 | train_mae: 0.30005 |  0:00:43s\n"
     ]
    },
    {
     "name": "stdout",
     "output_type": "stream",
     "text": [
      "epoch 174| loss: 0.36533 | train_mse: 0.19735 | train_mae: 0.29673 |  0:00:43s\n"
     ]
    },
    {
     "name": "stdout",
     "output_type": "stream",
     "text": [
      "epoch 175| loss: 0.3726  | train_mse: 0.19574 | train_mae: 0.29512 |  0:00:43s\n"
     ]
    },
    {
     "name": "stdout",
     "output_type": "stream",
     "text": [
      "epoch 176| loss: 0.27951 | train_mse: 0.1954  | train_mae: 0.29711 |  0:00:44s\n",
      "epoch 177| loss: 0.31559 | train_mse: 0.19584 | train_mae: 0.3001  |  0:00:44s\n"
     ]
    },
    {
     "name": "stdout",
     "output_type": "stream",
     "text": [
      "epoch 178| loss: 0.43779 | train_mse: 0.19484 | train_mae: 0.30042 |  0:00:44s\n",
      "epoch 179| loss: 0.40355 | train_mse: 0.19363 | train_mae: 0.29988 |  0:00:44s\n"
     ]
    },
    {
     "name": "stdout",
     "output_type": "stream",
     "text": [
      "epoch 180| loss: 0.43382 | train_mse: 0.19532 | train_mae: 0.29853 |  0:00:44s\n"
     ]
    },
    {
     "name": "stdout",
     "output_type": "stream",
     "text": [
      "epoch 181| loss: 0.36158 | train_mse: 0.20026 | train_mae: 0.30062 |  0:00:45s\n",
      "epoch 182| loss: 0.4045  | train_mse: 0.20478 | train_mae: 0.30477 |  0:00:45s\n"
     ]
    },
    {
     "name": "stdout",
     "output_type": "stream",
     "text": [
      "epoch 183| loss: 0.51016 | train_mse: 0.20867 | train_mae: 0.30565 |  0:00:45s\n",
      "epoch 184| loss: 0.50955 | train_mse: 0.20604 | train_mae: 0.30425 |  0:00:45s\n"
     ]
    },
    {
     "name": "stdout",
     "output_type": "stream",
     "text": [
      "epoch 185| loss: 0.66135 | train_mse: 0.20521 | train_mae: 0.3001  |  0:00:45s\n",
      "epoch 186| loss: 0.33869 | train_mse: 0.2014  | train_mae: 0.29711 |  0:00:45s\n"
     ]
    },
    {
     "name": "stdout",
     "output_type": "stream",
     "text": [
      "epoch 187| loss: 0.31157 | train_mse: 0.19846 | train_mae: 0.2943  |  0:00:45s\n",
      "epoch 188| loss: 0.20397 | train_mse: 0.19557 | train_mae: 0.29259 |  0:00:46s\n"
     ]
    },
    {
     "name": "stdout",
     "output_type": "stream",
     "text": [
      "epoch 189| loss: 0.50851 | train_mse: 0.19414 | train_mae: 0.29166 |  0:00:46s\n",
      "epoch 190| loss: 0.40311 | train_mse: 0.19289 | train_mae: 0.29129 |  0:00:46s\n",
      "epoch 191| loss: 0.21945 | train_mse: 0.19341 | train_mae: 0.28992 |  0:00:46s"
     ]
    },
    {
     "name": "stdout",
     "output_type": "stream",
     "text": [
      "\n",
      "epoch 192| loss: 0.25736 | train_mse: 0.18959 | train_mae: 0.28716 |  0:00:46s\n"
     ]
    },
    {
     "name": "stdout",
     "output_type": "stream",
     "text": [
      "epoch 193| loss: 0.23979 | train_mse: 0.1892  | train_mae: 0.28487 |  0:00:46s\n"
     ]
    },
    {
     "name": "stdout",
     "output_type": "stream",
     "text": [
      "epoch 194| loss: 0.38354 | train_mse: 0.18509 | train_mae: 0.2848  |  0:00:46s\n",
      "epoch 195| loss: 0.28871 | train_mse: 0.19475 | train_mae: 0.29704 |  0:00:47s\n"
     ]
    },
    {
     "name": "stdout",
     "output_type": "stream",
     "text": [
      "epoch 196| loss: 0.25409 | train_mse: 0.19773 | train_mae: 0.30149 |  0:00:47s\n",
      "epoch 197| loss: 0.32761 | train_mse: 0.19853 | train_mae: 0.30079 |  0:00:47s\n"
     ]
    },
    {
     "name": "stdout",
     "output_type": "stream",
     "text": [
      "epoch 198| loss: 0.37432 | train_mse: 0.19853 | train_mae: 0.29982 |  0:00:47s\n",
      "epoch 199| loss: 0.25968 | train_mse: 0.19304 | train_mae: 0.29412 |  0:00:47s\n"
     ]
    },
    {
     "name": "stdout",
     "output_type": "stream",
     "text": [
      "epoch 200| loss: 0.27587 | train_mse: 0.18895 | train_mae: 0.29072 |  0:00:48s\n",
      "epoch 201| loss: 0.44964 | train_mse: 0.1879  | train_mae: 0.28882 |  0:00:48s\n"
     ]
    },
    {
     "name": "stdout",
     "output_type": "stream",
     "text": [
      "epoch 202| loss: 0.22596 | train_mse: 0.18735 | train_mae: 0.28698 |  0:00:48s\n",
      "epoch 203| loss: 0.28987 | train_mse: 0.1842  | train_mae: 0.28524 |  0:00:48s\n"
     ]
    },
    {
     "name": "stdout",
     "output_type": "stream",
     "text": [
      "epoch 204| loss: 0.34091 | train_mse: 0.18039 | train_mae: 0.28529 |  0:00:48s\n",
      "epoch 205| loss: 0.22684 | train_mse: 0.18162 | train_mae: 0.28754 |  0:00:48s\n"
     ]
    },
    {
     "name": "stdout",
     "output_type": "stream",
     "text": [
      "epoch 206| loss: 0.20455 | train_mse: 0.18091 | train_mae: 0.28817 |  0:00:49s\n",
      "epoch 207| loss: 0.18754 | train_mse: 0.18231 | train_mae: 0.29077 |  0:00:49s\n"
     ]
    },
    {
     "name": "stdout",
     "output_type": "stream",
     "text": [
      "epoch 208| loss: 0.35571 | train_mse: 0.1791  | train_mae: 0.28912 |  0:00:49s\n",
      "epoch 209| loss: 0.24432 | train_mse: 0.17512 | train_mae: 0.28499 |  0:00:49s\n"
     ]
    },
    {
     "name": "stdout",
     "output_type": "stream",
     "text": [
      "epoch 210| loss: 0.32145 | train_mse: 0.17034 | train_mae: 0.28291 |  0:00:49s\n",
      "epoch 211| loss: 0.36709 | train_mse: 0.16936 | train_mae: 0.2831  |  0:00:49s\n"
     ]
    },
    {
     "name": "stdout",
     "output_type": "stream",
     "text": [
      "epoch 212| loss: 0.19398 | train_mse: 0.17049 | train_mae: 0.28419 |  0:00:49s\n",
      "epoch 213| loss: 0.33463 | train_mse: 0.17033 | train_mae: 0.2837  |  0:00:50s\n",
      "epoch 214| loss: 0.28512 | train_mse: 0.17161 | train_mae: 0.28696 |  0:00:50s\n"
     ]
    },
    {
     "name": "stdout",
     "output_type": "stream",
     "text": [
      "epoch 215| loss: 0.51759 | train_mse: 0.1729  | train_mae: 0.2883  |  0:00:50s\n",
      "epoch 216| loss: 0.2409  | train_mse: 0.17956 | train_mae: 0.29235 |  0:00:50s\n"
     ]
    },
    {
     "name": "stdout",
     "output_type": "stream",
     "text": [
      "epoch 217| loss: 0.20981 | train_mse: 0.17884 | train_mae: 0.29125 |  0:00:50s\n",
      "epoch 218| loss: 0.28861 | train_mse: 0.1781  | train_mae: 0.28926 |  0:00:50s\n"
     ]
    },
    {
     "name": "stdout",
     "output_type": "stream",
     "text": [
      "epoch 219| loss: 0.26854 | train_mse: 0.17883 | train_mae: 0.28834 |  0:00:50s\n",
      "epoch 220| loss: 0.19086 | train_mse: 0.17621 | train_mae: 0.28647 |  0:00:51s\n"
     ]
    },
    {
     "name": "stdout",
     "output_type": "stream",
     "text": [
      "epoch 221| loss: 0.26106 | train_mse: 0.17391 | train_mae: 0.28391 |  0:00:51s\n",
      "epoch 222| loss: 0.27915 | train_mse: 0.16919 | train_mae: 0.27939 |  0:00:51s\n",
      "epoch 223| loss: 0.22064 | train_mse: 0.18543 | train_mae: 0.28981 |  0:00:51s\n"
     ]
    },
    {
     "name": "stdout",
     "output_type": "stream",
     "text": [
      "epoch 224| loss: 0.38044 | train_mse: 0.16686 | train_mae: 0.2808  |  0:00:51s\n",
      "epoch 225| loss: 0.31152 | train_mse: 0.1643  | train_mae: 0.28038 |  0:00:51s\n"
     ]
    },
    {
     "name": "stdout",
     "output_type": "stream",
     "text": [
      "epoch 226| loss: 0.29036 | train_mse: 0.16149 | train_mae: 0.27838 |  0:00:51s\n",
      "epoch 227| loss: 0.26402 | train_mse: 0.16318 | train_mae: 0.28024 |  0:00:51s\n"
     ]
    },
    {
     "name": "stdout",
     "output_type": "stream",
     "text": [
      "epoch 228| loss: 0.28394 | train_mse: 0.16454 | train_mae: 0.28178 |  0:00:51s\n",
      "epoch 229| loss: 0.23824 | train_mse: 0.16556 | train_mae: 0.2806  |  0:00:52s\n"
     ]
    },
    {
     "name": "stdout",
     "output_type": "stream",
     "text": [
      "epoch 230| loss: 0.28639 | train_mse: 0.17098 | train_mae: 0.2838  |  0:00:52s\n",
      "epoch 231| loss: 0.18767 | train_mse: 0.17658 | train_mae: 0.28676 |  0:00:52s\n"
     ]
    },
    {
     "name": "stdout",
     "output_type": "stream",
     "text": [
      "epoch 232| loss: 0.40469 | train_mse: 0.17842 | train_mae: 0.28764 |  0:00:52s\n",
      "epoch 233| loss: 0.2625  | train_mse: 0.18219 | train_mae: 0.29026 |  0:00:52s\n"
     ]
    },
    {
     "name": "stdout",
     "output_type": "stream",
     "text": [
      "epoch 234| loss: 0.37107 | train_mse: 0.18202 | train_mae: 0.28848 |  0:00:52s\n",
      "epoch 235| loss: 0.22133 | train_mse: 0.18292 | train_mae: 0.28784 |  0:00:53s\n"
     ]
    },
    {
     "name": "stdout",
     "output_type": "stream",
     "text": [
      "epoch 236| loss: 0.37755 | train_mse: 0.18458 | train_mae: 0.28782 |  0:00:53s\n",
      "epoch 237| loss: 0.25026 | train_mse: 0.18933 | train_mae: 0.28819 |  0:00:53s\n"
     ]
    },
    {
     "name": "stdout",
     "output_type": "stream",
     "text": [
      "epoch 238| loss: 0.31893 | train_mse: 0.19553 | train_mae: 0.29085 |  0:00:53s\n",
      "epoch 239| loss: 0.21621 | train_mse: 0.19818 | train_mae: 0.29094 |  0:00:53s\n"
     ]
    },
    {
     "name": "stdout",
     "output_type": "stream",
     "text": [
      "epoch 240| loss: 0.3734  | train_mse: 0.20234 | train_mae: 0.29105 |  0:00:53s\n",
      "epoch 241| loss: 0.25775 | train_mse: 0.20221 | train_mae: 0.29194 |  0:00:53s\n"
     ]
    },
    {
     "name": "stdout",
     "output_type": "stream",
     "text": [
      "epoch 242| loss: 0.20962 | train_mse: 0.20199 | train_mae: 0.29455 |  0:00:53s\n",
      "epoch 243| loss: 0.32497 | train_mse: 0.20143 | train_mae: 0.29684 |  0:00:54s\n"
     ]
    },
    {
     "name": "stdout",
     "output_type": "stream",
     "text": [
      "epoch 244| loss: 0.26757 | train_mse: 0.19883 | train_mae: 0.2961  |  0:00:54s\n",
      "epoch 245| loss: 0.25935 | train_mse: 0.19382 | train_mae: 0.29354 |  0:00:54s\n"
     ]
    },
    {
     "name": "stdout",
     "output_type": "stream",
     "text": [
      "epoch 246| loss: 0.2512  | train_mse: 0.1929  | train_mae: 0.29438 |  0:00:54s\n",
      "epoch 247| loss: 0.22851 | train_mse: 0.19184 | train_mae: 0.29489 |  0:00:54s\n"
     ]
    },
    {
     "name": "stdout",
     "output_type": "stream",
     "text": [
      "epoch 248| loss: 0.38289 | train_mse: 0.18944 | train_mae: 0.29288 |  0:00:55s\n",
      "epoch 249| loss: 0.31463 | train_mse: 0.19061 | train_mae: 0.29398 |  0:00:55s\n",
      "epoch 250| loss: 0.26462 | train_mse: 0.1841  | train_mae: 0.29131 |  0:00:55s"
     ]
    },
    {
     "name": "stdout",
     "output_type": "stream",
     "text": [
      "\n",
      "epoch 251| loss: 0.22559 | train_mse: 0.18312 | train_mae: 0.28975 |  0:00:55s\n",
      "epoch 252| loss: 0.23167 | train_mse: 0.18252 | train_mae: 0.28683 |  0:00:55s\n"
     ]
    },
    {
     "name": "stdout",
     "output_type": "stream",
     "text": [
      "epoch 253| loss: 0.21546 | train_mse: 0.18133 | train_mae: 0.28476 |  0:00:55s\n",
      "epoch 254| loss: 0.22936 | train_mse: 0.1761  | train_mae: 0.28161 |  0:00:55s\n"
     ]
    },
    {
     "name": "stdout",
     "output_type": "stream",
     "text": [
      "epoch 255| loss: 0.2557  | train_mse: 0.17602 | train_mae: 0.28263 |  0:00:55s\n",
      "epoch 256| loss: 0.41078 | train_mse: 0.17343 | train_mae: 0.28445 |  0:00:55s\n",
      "epoch 257| loss: 0.30905 | train_mse: 0.17156 | train_mae: 0.28484 |  0:00:55s\n"
     ]
    },
    {
     "name": "stdout",
     "output_type": "stream",
     "text": [
      "epoch 258| loss: 0.22626 | train_mse: 0.16889 | train_mae: 0.28321 |  0:00:56s\n",
      "epoch 259| loss: 0.28792 | train_mse: 0.16577 | train_mae: 0.27954 |  0:00:56s\n",
      "epoch 260| loss: 0.25904 | train_mse: 0.15781 | train_mae: 0.27489 |  0:00:56s\n"
     ]
    },
    {
     "name": "stdout",
     "output_type": "stream",
     "text": [
      "epoch 261| loss: 0.22439 | train_mse: 0.15882 | train_mae: 0.27676 |  0:00:56s\n",
      "epoch 262| loss: 0.20882 | train_mse: 0.15649 | train_mae: 0.27683 |  0:00:56s\n"
     ]
    },
    {
     "name": "stdout",
     "output_type": "stream",
     "text": [
      "epoch 263| loss: 0.23838 | train_mse: 0.15641 | train_mae: 0.27648 |  0:00:56s\n",
      "epoch 264| loss: 0.15701 | train_mse: 0.15871 | train_mae: 0.27877 |  0:00:56s\n"
     ]
    },
    {
     "name": "stdout",
     "output_type": "stream",
     "text": [
      "epoch 265| loss: 0.21836 | train_mse: 0.158   | train_mae: 0.27796 |  0:00:56s\n",
      "epoch 266| loss: 0.2114  | train_mse: 0.15988 | train_mae: 0.28005 |  0:00:56s\n",
      "epoch 267| loss: 0.27568 | train_mse: 0.16356 | train_mae: 0.28103 |  0:00:56s\n"
     ]
    },
    {
     "name": "stdout",
     "output_type": "stream",
     "text": [
      "epoch 268| loss: 0.38293 | train_mse: 0.15916 | train_mae: 0.27772 |  0:00:57s\n",
      "epoch 269| loss: 0.2513  | train_mse: 0.1562  | train_mae: 0.27603 |  0:00:57s\n"
     ]
    },
    {
     "name": "stdout",
     "output_type": "stream",
     "text": [
      "epoch 270| loss: 0.41733 | train_mse: 0.15183 | train_mae: 0.27134 |  0:00:57s\n",
      "epoch 271| loss: 0.44107 | train_mse: 0.14821 | train_mae: 0.26884 |  0:00:57s\n",
      "epoch 272| loss: 0.1695  | train_mse: 0.14803 | train_mae: 0.26803 |  0:00:57s\n"
     ]
    },
    {
     "name": "stdout",
     "output_type": "stream",
     "text": [
      "epoch 273| loss: 0.37557 | train_mse: 0.14682 | train_mae: 0.26474 |  0:00:57s\n",
      "epoch 274| loss: 0.33891 | train_mse: 0.14678 | train_mae: 0.2663  |  0:00:57s\n"
     ]
    },
    {
     "name": "stdout",
     "output_type": "stream",
     "text": [
      "epoch 275| loss: 0.25932 | train_mse: 0.14815 | train_mae: 0.26778 |  0:00:57s\n",
      "epoch 276| loss: 0.2664  | train_mse: 0.15008 | train_mae: 0.26757 |  0:00:57s\n",
      "epoch 277| loss: 0.24309 | train_mse: 0.15223 | train_mae: 0.26887 |  0:00:58s\n"
     ]
    },
    {
     "name": "stdout",
     "output_type": "stream",
     "text": [
      "epoch 278| loss: 0.20784 | train_mse: 0.16024 | train_mae: 0.27566 |  0:00:58s\n",
      "epoch 279| loss: 0.36361 | train_mse: 0.16728 | train_mae: 0.27886 |  0:00:58s\n"
     ]
    },
    {
     "name": "stdout",
     "output_type": "stream",
     "text": [
      "epoch 280| loss: 0.19684 | train_mse: 0.16539 | train_mae: 0.27981 |  0:00:58s\n",
      "epoch 281| loss: 0.40119 | train_mse: 0.16947 | train_mae: 0.28211 |  0:00:58s\n"
     ]
    },
    {
     "name": "stdout",
     "output_type": "stream",
     "text": [
      "epoch 282| loss: 0.26521 | train_mse: 0.17361 | train_mae: 0.28409 |  0:00:58s\n",
      "epoch 283| loss: 0.29746 | train_mse: 0.16616 | train_mae: 0.27885 |  0:00:58s\n"
     ]
    },
    {
     "name": "stdout",
     "output_type": "stream",
     "text": [
      "epoch 284| loss: 0.33943 | train_mse: 0.16733 | train_mae: 0.27912 |  0:00:58s\n",
      "epoch 285| loss: 0.25017 | train_mse: 0.16633 | train_mae: 0.27807 |  0:00:58s\n"
     ]
    },
    {
     "name": "stdout",
     "output_type": "stream",
     "text": [
      "epoch 286| loss: 0.2764  | train_mse: 0.16181 | train_mae: 0.2739  |  0:00:59s\n",
      "epoch 287| loss: 0.36307 | train_mse: 0.16034 | train_mae: 0.27146 |  0:00:59s\n",
      "epoch 288| loss: 0.28593 | train_mse: 0.15975 | train_mae: 0.27081 |  0:00:59s\n"
     ]
    },
    {
     "name": "stdout",
     "output_type": "stream",
     "text": [
      "epoch 289| loss: 0.49692 | train_mse: 0.15593 | train_mae: 0.27074 |  0:00:59s\n",
      "epoch 290| loss: 0.22214 | train_mse: 0.15131 | train_mae: 0.26886 |  0:00:59s\n"
     ]
    },
    {
     "name": "stdout",
     "output_type": "stream",
     "text": [
      "epoch 291| loss: 0.39748 | train_mse: 0.14617 | train_mae: 0.26374 |  0:00:59s\n",
      "epoch 292| loss: 0.39442 | train_mse: 0.14683 | train_mae: 0.2637  |  0:00:59s\n"
     ]
    },
    {
     "name": "stdout",
     "output_type": "stream",
     "text": [
      "epoch 293| loss: 0.24306 | train_mse: 0.14606 | train_mae: 0.26267 |  0:00:59s\n",
      "epoch 294| loss: 0.22402 | train_mse: 0.14795 | train_mae: 0.2641  |  0:00:59s\n",
      "epoch 295| loss: 0.16465 | train_mse: 0.14749 | train_mae: 0.26417 |  0:00:59s\n"
     ]
    },
    {
     "name": "stdout",
     "output_type": "stream",
     "text": [
      "epoch 296| loss: 0.24528 | train_mse: 0.14676 | train_mae: 0.26236 |  0:01:00s\n",
      "epoch 297| loss: 0.28445 | train_mse: 0.14663 | train_mae: 0.26142 |  0:01:00s\n"
     ]
    },
    {
     "name": "stdout",
     "output_type": "stream",
     "text": [
      "epoch 298| loss: 0.31684 | train_mse: 0.14966 | train_mae: 0.26452 |  0:01:00s\n",
      "epoch 299| loss: 0.26277 | train_mse: 0.15643 | train_mae: 0.27085 |  0:01:00s\n"
     ]
    },
    {
     "name": "stdout",
     "output_type": "stream",
     "text": [
      "epoch 300| loss: 0.22148 | train_mse: 0.16001 | train_mae: 0.27303 |  0:01:00s\n",
      "epoch 301| loss: 0.19233 | train_mse: 0.15886 | train_mae: 0.27095 |  0:01:00s\n"
     ]
    },
    {
     "name": "stdout",
     "output_type": "stream",
     "text": [
      "epoch 302| loss: 0.3895  | train_mse: 0.15562 | train_mae: 0.2693  |  0:01:01s\n",
      "epoch 303| loss: 0.19506 | train_mse: 0.14926 | train_mae: 0.26544 |  0:01:01s\n",
      "epoch 304| loss: 0.18867 | train_mse: 0.1497  | train_mae: 0.26364 |  0:01:01s\n"
     ]
    },
    {
     "name": "stdout",
     "output_type": "stream",
     "text": [
      "epoch 305| loss: 0.25108 | train_mse: 0.1477  | train_mae: 0.26219 |  0:01:01s\n",
      "epoch 306| loss: 0.39668 | train_mse: 0.13733 | train_mae: 0.25618 |  0:01:01s\n"
     ]
    },
    {
     "name": "stdout",
     "output_type": "stream",
     "text": [
      "epoch 307| loss: 0.21771 | train_mse: 0.12925 | train_mae: 0.25002 |  0:01:01s\n",
      "epoch 308| loss: 0.30225 | train_mse: 0.12207 | train_mae: 0.24396 |  0:01:01s\n",
      "epoch 309| loss: 0.20126 | train_mse: 0.11949 | train_mae: 0.24586 |  0:01:01s\n"
     ]
    },
    {
     "name": "stdout",
     "output_type": "stream",
     "text": [
      "epoch 310| loss: 0.24495 | train_mse: 0.11707 | train_mae: 0.24904 |  0:01:01s\n",
      "epoch 311| loss: 0.19839 | train_mse: 0.1187  | train_mae: 0.2511  |  0:01:01s\n",
      "epoch 312| loss: 0.12384 | train_mse: 0.11956 | train_mae: 0.25144 |  0:01:02s\n"
     ]
    },
    {
     "name": "stdout",
     "output_type": "stream",
     "text": [
      "epoch 313| loss: 0.2576  | train_mse: 0.12058 | train_mae: 0.25338 |  0:01:02s\n",
      "epoch 314| loss: 0.21365 | train_mse: 0.11875 | train_mae: 0.25095 |  0:01:02s\n",
      "epoch 315| loss: 0.26913 | train_mse: 0.11815 | train_mae: 0.24906 |  0:01:02s\n"
     ]
    },
    {
     "name": "stdout",
     "output_type": "stream",
     "text": [
      "epoch 316| loss: 0.22343 | train_mse: 0.11678 | train_mae: 0.24749 |  0:01:02s\n"
     ]
    },
    {
     "name": "stdout",
     "output_type": "stream",
     "text": [
      "epoch 317| loss: 0.23731 | train_mse: 0.11385 | train_mae: 0.24491 |  0:01:02s\n"
     ]
    },
    {
     "name": "stdout",
     "output_type": "stream",
     "text": [
      "epoch 318| loss: 0.16857 | train_mse: 0.11216 | train_mae: 0.24078 |  0:01:02s\n"
     ]
    },
    {
     "name": "stdout",
     "output_type": "stream",
     "text": [
      "epoch 319| loss: 0.28591 | train_mse: 0.11392 | train_mae: 0.24142 |  0:01:03s\n",
      "epoch 320| loss: 0.392   | train_mse: 0.11717 | train_mae: 0.24338 |  0:01:03s\n"
     ]
    },
    {
     "name": "stdout",
     "output_type": "stream",
     "text": [
      "epoch 321| loss: 0.20528 | train_mse: 0.11996 | train_mae: 0.24545 |  0:01:03s\n",
      "epoch 322| loss: 0.19673 | train_mse: 0.12136 | train_mae: 0.24628 |  0:01:03s\n"
     ]
    },
    {
     "name": "stdout",
     "output_type": "stream",
     "text": [
      "epoch 323| loss: 0.19488 | train_mse: 0.12321 | train_mae: 0.24568 |  0:01:03s\n"
     ]
    },
    {
     "name": "stdout",
     "output_type": "stream",
     "text": [
      "epoch 324| loss: 0.21635 | train_mse: 0.12568 | train_mae: 0.24438 |  0:01:03s\n"
     ]
    },
    {
     "name": "stdout",
     "output_type": "stream",
     "text": [
      "epoch 325| loss: 0.23203 | train_mse: 0.1224  | train_mae: 0.24053 |  0:01:04s\n"
     ]
    },
    {
     "name": "stdout",
     "output_type": "stream",
     "text": [
      "epoch 326| loss: 0.21426 | train_mse: 0.11627 | train_mae: 0.2368  |  0:01:04s\n"
     ]
    },
    {
     "name": "stdout",
     "output_type": "stream",
     "text": [
      "epoch 327| loss: 0.32458 | train_mse: 0.11179 | train_mae: 0.23441 |  0:01:04s\n"
     ]
    },
    {
     "name": "stdout",
     "output_type": "stream",
     "text": [
      "epoch 328| loss: 0.2295  | train_mse: 0.10908 | train_mae: 0.23201 |  0:01:05s\n",
      "epoch 329| loss: 0.23057 | train_mse: 0.10771 | train_mae: 0.23027 |  0:01:05s\n"
     ]
    },
    {
     "name": "stdout",
     "output_type": "stream",
     "text": [
      "epoch 330| loss: 0.16499 | train_mse: 0.10744 | train_mae: 0.22984 |  0:01:05s\n"
     ]
    },
    {
     "name": "stdout",
     "output_type": "stream",
     "text": [
      "epoch 331| loss: 0.26005 | train_mse: 0.10723 | train_mae: 0.23133 |  0:01:05s\n",
      "epoch 332| loss: 0.21614 | train_mse: 0.1072  | train_mae: 0.23135 |  0:01:05s\n"
     ]
    },
    {
     "name": "stdout",
     "output_type": "stream",
     "text": [
      "epoch 333| loss: 0.23951 | train_mse: 0.10865 | train_mae: 0.23512 |  0:01:06s\n"
     ]
    },
    {
     "name": "stdout",
     "output_type": "stream",
     "text": [
      "epoch 334| loss: 0.30202 | train_mse: 0.11168 | train_mae: 0.2403  |  0:01:06s\n"
     ]
    },
    {
     "name": "stdout",
     "output_type": "stream",
     "text": [
      "epoch 335| loss: 0.22987 | train_mse: 0.11116 | train_mae: 0.24016 |  0:01:06s\n",
      "epoch 336| loss: 0.27784 | train_mse: 0.10929 | train_mae: 0.23754 |  0:01:06s\n"
     ]
    },
    {
     "name": "stdout",
     "output_type": "stream",
     "text": [
      "epoch 337| loss: 0.14309 | train_mse: 0.11055 | train_mae: 0.2372  |  0:01:06s\n",
      "epoch 338| loss: 0.23581 | train_mse: 0.11013 | train_mae: 0.23653 |  0:01:07s\n"
     ]
    },
    {
     "name": "stdout",
     "output_type": "stream",
     "text": [
      "epoch 339| loss: 0.26176 | train_mse: 0.10988 | train_mae: 0.2386  |  0:01:07s\n",
      "epoch 340| loss: 0.2736  | train_mse: 0.10935 | train_mae: 0.23918 |  0:01:07s\n"
     ]
    },
    {
     "name": "stdout",
     "output_type": "stream",
     "text": [
      "epoch 341| loss: 0.17692 | train_mse: 0.10935 | train_mae: 0.24038 |  0:01:07s\n",
      "epoch 342| loss: 0.16413 | train_mse: 0.10912 | train_mae: 0.23923 |  0:01:07s\n"
     ]
    },
    {
     "name": "stdout",
     "output_type": "stream",
     "text": [
      "epoch 343| loss: 0.28258 | train_mse: 0.10764 | train_mae: 0.23793 |  0:01:08s\n"
     ]
    },
    {
     "name": "stdout",
     "output_type": "stream",
     "text": [
      "epoch 344| loss: 0.28618 | train_mse: 0.10877 | train_mae: 0.23666 |  0:01:08s\n"
     ]
    },
    {
     "name": "stdout",
     "output_type": "stream",
     "text": [
      "epoch 345| loss: 0.11606 | train_mse: 0.10429 | train_mae: 0.23324 |  0:01:08s\n"
     ]
    },
    {
     "name": "stdout",
     "output_type": "stream",
     "text": [
      "epoch 346| loss: 0.18739 | train_mse: 0.09598 | train_mae: 0.22675 |  0:01:08s\n",
      "epoch 347| loss: 0.27774 | train_mse: 0.08555 | train_mae: 0.21696 |  0:01:08s\n"
     ]
    },
    {
     "name": "stdout",
     "output_type": "stream",
     "text": [
      "epoch 348| loss: 0.27913 | train_mse: 0.08148 | train_mae: 0.21287 |  0:01:09s\n",
      "epoch 349| loss: 0.11916 | train_mse: 0.07823 | train_mae: 0.21022 |  0:01:09s\n"
     ]
    },
    {
     "name": "stdout",
     "output_type": "stream",
     "text": [
      "epoch 350| loss: 0.14998 | train_mse: 0.07387 | train_mae: 0.20533 |  0:01:09s\n"
     ]
    },
    {
     "name": "stdout",
     "output_type": "stream",
     "text": [
      "epoch 351| loss: 0.25668 | train_mse: 0.07177 | train_mae: 0.20434 |  0:01:09s\n",
      "epoch 352| loss: 0.16343 | train_mse: 0.07385 | train_mae: 0.20759 |  0:01:09s\n"
     ]
    },
    {
     "name": "stdout",
     "output_type": "stream",
     "text": [
      "epoch 353| loss: 0.17243 | train_mse: 0.07569 | train_mae: 0.21041 |  0:01:09s\n",
      "epoch 354| loss: 0.16628 | train_mse: 0.0766  | train_mae: 0.21294 |  0:01:10s\n"
     ]
    },
    {
     "name": "stdout",
     "output_type": "stream",
     "text": [
      "epoch 355| loss: 0.3698  | train_mse: 0.07591 | train_mae: 0.21192 |  0:01:10s\n",
      "epoch 356| loss: 0.15603 | train_mse: 0.07538 | train_mae: 0.21077 |  0:01:10s\n"
     ]
    },
    {
     "name": "stdout",
     "output_type": "stream",
     "text": [
      "epoch 357| loss: 0.10434 | train_mse: 0.07442 | train_mae: 0.20907 |  0:01:10s\n",
      "epoch 358| loss: 0.38181 | train_mse: 0.07446 | train_mae: 0.20917 |  0:01:10s\n"
     ]
    },
    {
     "name": "stdout",
     "output_type": "stream",
     "text": [
      "epoch 359| loss: 0.19945 | train_mse: 0.07528 | train_mae: 0.21127 |  0:01:10s\n",
      "epoch 360| loss: 0.22565 | train_mse: 0.07196 | train_mae: 0.20755 |  0:01:10s\n"
     ]
    },
    {
     "name": "stdout",
     "output_type": "stream",
     "text": [
      "epoch 361| loss: 0.35633 | train_mse: 0.07142 | train_mae: 0.20621 |  0:01:11s\n",
      "epoch 362| loss: 0.14625 | train_mse: 0.06921 | train_mae: 0.2023  |  0:01:11s\n"
     ]
    },
    {
     "name": "stdout",
     "output_type": "stream",
     "text": [
      "epoch 363| loss: 0.18141 | train_mse: 0.06977 | train_mae: 0.2039  |  0:01:11s\n",
      "epoch 364| loss: 0.36125 | train_mse: 0.0713  | train_mae: 0.20524 |  0:01:11s\n"
     ]
    },
    {
     "name": "stdout",
     "output_type": "stream",
     "text": [
      "epoch 365| loss: 0.2622  | train_mse: 0.07396 | train_mae: 0.20726 |  0:01:11s\n",
      "epoch 366| loss: 0.3154  | train_mse: 0.07224 | train_mae: 0.20488 |  0:01:11s\n",
      "epoch 367| loss: 0.14137 | train_mse: 0.07191 | train_mae: 0.20434 |  0:01:11s\n"
     ]
    },
    {
     "name": "stdout",
     "output_type": "stream",
     "text": [
      "epoch 368| loss: 0.24046 | train_mse: 0.07005 | train_mae: 0.20394 |  0:01:11s\n",
      "epoch 369| loss: 0.27006 | train_mse: 0.07009 | train_mae: 0.20405 |  0:01:12s\n"
     ]
    },
    {
     "name": "stdout",
     "output_type": "stream",
     "text": [
      "epoch 370| loss: 0.20824 | train_mse: 0.07032 | train_mae: 0.20304 |  0:01:12s\n"
     ]
    },
    {
     "name": "stdout",
     "output_type": "stream",
     "text": [
      "epoch 371| loss: 0.1274  | train_mse: 0.07243 | train_mae: 0.20522 |  0:01:12s\n"
     ]
    },
    {
     "name": "stdout",
     "output_type": "stream",
     "text": [
      "epoch 372| loss: 0.16882 | train_mse: 0.07814 | train_mae: 0.21157 |  0:01:13s\n"
     ]
    },
    {
     "name": "stdout",
     "output_type": "stream",
     "text": [
      "epoch 373| loss: 0.17652 | train_mse: 0.07815 | train_mae: 0.20981 |  0:01:13s\n"
     ]
    },
    {
     "name": "stdout",
     "output_type": "stream",
     "text": [
      "epoch 374| loss: 0.11825 | train_mse: 0.07917 | train_mae: 0.21051 |  0:01:13s\n"
     ]
    },
    {
     "name": "stdout",
     "output_type": "stream",
     "text": [
      "epoch 375| loss: 0.12079 | train_mse: 0.07772 | train_mae: 0.20802 |  0:01:14s\n",
      "epoch 376| loss: 0.32299 | train_mse: 0.0735  | train_mae: 0.20413 |  0:01:14s\n"
     ]
    },
    {
     "name": "stdout",
     "output_type": "stream",
     "text": [
      "epoch 377| loss: 0.17373 | train_mse: 0.07135 | train_mae: 0.20158 |  0:01:14s\n",
      "epoch 378| loss: 0.2563  | train_mse: 0.06978 | train_mae: 0.19813 |  0:01:14s\n"
     ]
    },
    {
     "name": "stdout",
     "output_type": "stream",
     "text": [
      "epoch 379| loss: 0.13935 | train_mse: 0.0677  | train_mae: 0.19443 |  0:01:14s\n"
     ]
    },
    {
     "name": "stdout",
     "output_type": "stream",
     "text": [
      "epoch 380| loss: 0.17925 | train_mse: 0.06873 | train_mae: 0.19453 |  0:01:15s\n",
      "epoch 381| loss: 0.18157 | train_mse: 0.07446 | train_mae: 0.1991  |  0:01:15s\n"
     ]
    },
    {
     "name": "stdout",
     "output_type": "stream",
     "text": [
      "epoch 382| loss: 0.09563 | train_mse: 0.07944 | train_mae: 0.20496 |  0:01:15s\n",
      "epoch 383| loss: 0.22779 | train_mse: 0.08362 | train_mae: 0.21044 |  0:01:15s\n"
     ]
    },
    {
     "name": "stdout",
     "output_type": "stream",
     "text": [
      "epoch 384| loss: 0.20045 | train_mse: 0.08695 | train_mae: 0.21038 |  0:01:15s\n"
     ]
    },
    {
     "name": "stdout",
     "output_type": "stream",
     "text": [
      "epoch 385| loss: 0.27433 | train_mse: 0.08917 | train_mae: 0.20977 |  0:01:15s\n",
      "epoch 386| loss: 0.11026 | train_mse: 0.08868 | train_mae: 0.20962 |  0:01:16s\n"
     ]
    },
    {
     "name": "stdout",
     "output_type": "stream",
     "text": [
      "epoch 387| loss: 0.10147 | train_mse: 0.08752 | train_mae: 0.21046 |  0:01:16s\n",
      "epoch 388| loss: 0.17867 | train_mse: 0.08718 | train_mae: 0.2115  |  0:01:16s\n"
     ]
    },
    {
     "name": "stdout",
     "output_type": "stream",
     "text": [
      "epoch 389| loss: 0.15979 | train_mse: 0.08479 | train_mae: 0.20921 |  0:01:16s\n"
     ]
    },
    {
     "name": "stdout",
     "output_type": "stream",
     "text": [
      "epoch 390| loss: 0.21272 | train_mse: 0.07798 | train_mae: 0.20148 |  0:01:16s\n",
      "epoch 391| loss: 0.25684 | train_mse: 0.07312 | train_mae: 0.19607 |  0:01:17s\n"
     ]
    },
    {
     "name": "stdout",
     "output_type": "stream",
     "text": [
      "epoch 392| loss: 0.19714 | train_mse: 0.07051 | train_mae: 0.1931  |  0:01:17s\n"
     ]
    },
    {
     "name": "stdout",
     "output_type": "stream",
     "text": [
      "epoch 393| loss: 0.12051 | train_mse: 0.06826 | train_mae: 0.18643 |  0:01:17s\n"
     ]
    },
    {
     "name": "stdout",
     "output_type": "stream",
     "text": [
      "epoch 394| loss: 0.27298 | train_mse: 0.06691 | train_mae: 0.18355 |  0:01:17s\n",
      "epoch 395| loss: 0.18674 | train_mse: 0.06812 | train_mae: 0.18342 |  0:01:17s\n"
     ]
    },
    {
     "name": "stdout",
     "output_type": "stream",
     "text": [
      "epoch 396| loss: 0.171   | train_mse: 0.06753 | train_mae: 0.18098 |  0:01:18s\n",
      "epoch 397| loss: 0.17959 | train_mse: 0.06942 | train_mae: 0.18381 |  0:01:18s\n"
     ]
    },
    {
     "name": "stdout",
     "output_type": "stream",
     "text": [
      "epoch 398| loss: 0.25851 | train_mse: 0.07222 | train_mae: 0.18755 |  0:01:18s\n"
     ]
    },
    {
     "name": "stdout",
     "output_type": "stream",
     "text": [
      "epoch 399| loss: 0.16493 | train_mse: 0.07126 | train_mae: 0.18764 |  0:01:18s\n"
     ]
    },
    {
     "name": "stdout",
     "output_type": "stream",
     "text": [
      "epoch 400| loss: 0.18978 | train_mse: 0.06988 | train_mae: 0.19081 |  0:01:19s\n"
     ]
    },
    {
     "name": "stdout",
     "output_type": "stream",
     "text": [
      "epoch 401| loss: 0.17709 | train_mse: 0.0671  | train_mae: 0.18826 |  0:01:19s\n",
      "epoch 402| loss: 0.26587 | train_mse: 0.06699 | train_mae: 0.1865  |  0:01:19s\n"
     ]
    },
    {
     "name": "stdout",
     "output_type": "stream",
     "text": [
      "epoch 403| loss: 0.1716  | train_mse: 0.0679  | train_mae: 0.18777 |  0:01:19s\n",
      "epoch 404| loss: 0.16559 | train_mse: 0.06557 | train_mae: 0.187   |  0:01:19s\n"
     ]
    },
    {
     "name": "stdout",
     "output_type": "stream",
     "text": [
      "epoch 405| loss: 0.18525 | train_mse: 0.06511 | train_mae: 0.18804 |  0:01:19s\n"
     ]
    },
    {
     "name": "stdout",
     "output_type": "stream",
     "text": [
      "epoch 406| loss: 0.27688 | train_mse: 0.06348 | train_mae: 0.18625 |  0:01:20s\n",
      "epoch 407| loss: 0.35411 | train_mse: 0.06481 | train_mae: 0.19005 |  0:01:20s\n"
     ]
    },
    {
     "name": "stdout",
     "output_type": "stream",
     "text": [
      "epoch 408| loss: 0.09905 | train_mse: 0.065   | train_mae: 0.19205 |  0:01:20s\n"
     ]
    },
    {
     "name": "stdout",
     "output_type": "stream",
     "text": [
      "epoch 409| loss: 0.30632 | train_mse: 0.06681 | train_mae: 0.19258 |  0:01:20s\n"
     ]
    },
    {
     "name": "stdout",
     "output_type": "stream",
     "text": [
      "epoch 410| loss: 0.28689 | train_mse: 0.06811 | train_mae: 0.1937  |  0:01:21s\n",
      "epoch 411| loss: 0.09527 | train_mse: 0.06811 | train_mae: 0.19294 |  0:01:21s\n"
     ]
    },
    {
     "name": "stdout",
     "output_type": "stream",
     "text": [
      "epoch 412| loss: 0.12664 | train_mse: 0.06538 | train_mae: 0.18974 |  0:01:21s\n",
      "epoch 413| loss: 0.16591 | train_mse: 0.06541 | train_mae: 0.18896 |  0:01:21s\n"
     ]
    },
    {
     "name": "stdout",
     "output_type": "stream",
     "text": [
      "epoch 414| loss: 0.32287 | train_mse: 0.06472 | train_mae: 0.18738 |  0:01:21s\n",
      "epoch 415| loss: 0.19018 | train_mse: 0.06631 | train_mae: 0.1888  |  0:01:21s\n"
     ]
    },
    {
     "name": "stdout",
     "output_type": "stream",
     "text": [
      "epoch 416| loss: 0.17226 | train_mse: 0.06747 | train_mae: 0.1884  |  0:01:21s\n"
     ]
    },
    {
     "name": "stdout",
     "output_type": "stream",
     "text": [
      "epoch 417| loss: 0.11402 | train_mse: 0.06995 | train_mae: 0.18882 |  0:01:22s\n",
      "epoch 418| loss: 0.15682 | train_mse: 0.06975 | train_mae: 0.18883 |  0:01:22s\n"
     ]
    },
    {
     "name": "stdout",
     "output_type": "stream",
     "text": [
      "epoch 419| loss: 0.11238 | train_mse: 0.07251 | train_mae: 0.19265 |  0:01:22s\n",
      "epoch 420| loss: 0.13669 | train_mse: 0.07147 | train_mae: 0.19078 |  0:01:22s\n"
     ]
    },
    {
     "name": "stdout",
     "output_type": "stream",
     "text": [
      "epoch 421| loss: 0.12196 | train_mse: 0.07027 | train_mae: 0.18971 |  0:01:22s\n",
      "epoch 422| loss: 0.18454 | train_mse: 0.0705  | train_mae: 0.19162 |  0:01:22s\n",
      "epoch 423| loss: 0.1733  | train_mse: 0.06716 | train_mae: 0.18685 |  0:01:22s\n"
     ]
    },
    {
     "name": "stdout",
     "output_type": "stream",
     "text": [
      "epoch 424| loss: 0.19922 | train_mse: 0.07058 | train_mae: 0.19076 |  0:01:22s\n",
      "epoch 425| loss: 0.15926 | train_mse: 0.07305 | train_mae: 0.18923 |  0:01:22s\n"
     ]
    },
    {
     "name": "stdout",
     "output_type": "stream",
     "text": [
      "epoch 426| loss: 0.24304 | train_mse: 0.07441 | train_mae: 0.19037 |  0:01:23s\n",
      "epoch 427| loss: 0.16498 | train_mse: 0.0724  | train_mae: 0.18904 |  0:01:23s\n"
     ]
    },
    {
     "name": "stdout",
     "output_type": "stream",
     "text": [
      "epoch 428| loss: 0.17357 | train_mse: 0.06778 | train_mae: 0.1849  |  0:01:23s\n",
      "epoch 429| loss: 0.23459 | train_mse: 0.06581 | train_mae: 0.18403 |  0:01:23s\n"
     ]
    },
    {
     "name": "stdout",
     "output_type": "stream",
     "text": [
      "epoch 430| loss: 0.23951 | train_mse: 0.06643 | train_mae: 0.18416 |  0:01:23s\n",
      "epoch 431| loss: 0.17496 | train_mse: 0.06634 | train_mae: 0.18414 |  0:01:23s\n"
     ]
    },
    {
     "name": "stdout",
     "output_type": "stream",
     "text": [
      "epoch 432| loss: 0.15485 | train_mse: 0.06774 | train_mae: 0.18514 |  0:01:23s\n",
      "epoch 433| loss: 0.16834 | train_mse: 0.0699  | train_mae: 0.18688 |  0:01:24s\n"
     ]
    },
    {
     "name": "stdout",
     "output_type": "stream",
     "text": [
      "epoch 434| loss: 0.15033 | train_mse: 0.07227 | train_mae: 0.18956 |  0:01:24s\n",
      "epoch 435| loss: 0.1791  | train_mse: 0.07877 | train_mae: 0.19789 |  0:01:24s\n"
     ]
    },
    {
     "name": "stdout",
     "output_type": "stream",
     "text": [
      "epoch 436| loss: 0.15445 | train_mse: 0.07959 | train_mae: 0.19824 |  0:01:24s\n",
      "epoch 437| loss: 0.18753 | train_mse: 0.07468 | train_mae: 0.19121 |  0:01:24s\n"
     ]
    },
    {
     "name": "stdout",
     "output_type": "stream",
     "text": [
      "epoch 438| loss: 0.15695 | train_mse: 0.07432 | train_mae: 0.19128 |  0:01:24s\n",
      "epoch 439| loss: 0.1137  | train_mse: 0.07283 | train_mae: 0.19057 |  0:01:25s\n"
     ]
    },
    {
     "name": "stdout",
     "output_type": "stream",
     "text": [
      "epoch 440| loss: 0.32064 | train_mse: 0.06998 | train_mae: 0.18754 |  0:01:25s\n"
     ]
    },
    {
     "name": "stdout",
     "output_type": "stream",
     "text": [
      "epoch 441| loss: 0.12645 | train_mse: 0.06934 | train_mae: 0.18449 |  0:01:25s\n",
      "epoch 442| loss: 0.09935 | train_mse: 0.07363 | train_mae: 0.18969 |  0:01:25s\n"
     ]
    },
    {
     "name": "stdout",
     "output_type": "stream",
     "text": [
      "epoch 443| loss: 0.2511  | train_mse: 0.07474 | train_mae: 0.19206 |  0:01:26s\n"
     ]
    },
    {
     "name": "stdout",
     "output_type": "stream",
     "text": [
      "epoch 444| loss: 0.18314 | train_mse: 0.07732 | train_mae: 0.19382 |  0:01:26s\n"
     ]
    },
    {
     "name": "stdout",
     "output_type": "stream",
     "text": [
      "epoch 445| loss: 0.28786 | train_mse: 0.07607 | train_mae: 0.18988 |  0:01:26s\n",
      "epoch 446| loss: 0.11251 | train_mse: 0.07568 | train_mae: 0.18767 |  0:01:27s\n"
     ]
    },
    {
     "name": "stdout",
     "output_type": "stream",
     "text": [
      "\n",
      "Early stopping occurred at epoch 446 with best_epoch = 396 and best_train_mae = 0.18098\n",
      "Best weights from best epoch are automatically used!\n"
     ]
    }
   ],
   "source": [
    "#Train the Model\n",
    "\n",
    "Y_train = np.reshape(Y_train, (-1, 1))\n",
    "Y_test = np.reshape(Y_test, (-1, 1))\n",
    "\n",
    "prior_model = TabNetRegressor(optimizer_fn=torch.optim.Adam, optimizer_params=dict(lr = 0.001),\n",
    "          #scheduler_params={\"step_size\":10, ], \"gamma\":0.9},\n",
    "          #scheduler_fn=torch.optim.lr_scheduler.StepLR\n",
    "          )  #TabNetRegressor()\n",
    "\n",
    "prior_model.fit(X_train,Y_train,eval_set=[(X_train, Y_train)],\n",
    "            eval_name=['train'], \n",
    "            eval_metric=[ 'mse', 'mae'], \n",
    "            max_epochs = n_epochs, \n",
    "            batch_size = batch_size,\n",
    "            patience=50\n",
    "            )"
   ]
  },
  {
   "cell_type": "code",
   "execution_count": 10,
   "id": "af65dcda",
   "metadata": {
    "execution": {
     "iopub.execute_input": "2022-07-22T11:22:03.821975Z",
     "iopub.status.busy": "2022-07-22T11:22:03.821087Z",
     "iopub.status.idle": "2022-07-22T11:22:03.898200Z",
     "shell.execute_reply": "2022-07-22T11:22:03.896536Z"
    },
    "id": "af65dcda",
    "papermill": {
     "duration": 0.131152,
     "end_time": "2022-07-22T11:22:03.909940",
     "exception": false,
     "start_time": "2022-07-22T11:22:03.778788",
     "status": "completed"
    },
    "tags": []
   },
   "outputs": [
    {
     "data": {
      "application/scrapbook.scrap.json+json": {
       "data": 0.1727942830387133,
       "encoder": "json",
       "name": "Prior Model MSE",
       "version": 1
      }
     },
     "metadata": {
      "scrapbook": {
       "data": true,
       "display": false,
       "name": "Prior Model MSE"
      }
     },
     "output_type": "display_data"
    },
    {
     "data": {
      "application/scrapbook.scrap.json+json": {
       "data": 1.511763319068905,
       "encoder": "json",
       "name": "ABC Pre-generator MSE",
       "version": 1
      }
     },
     "metadata": {
      "scrapbook": {
       "data": true,
       "display": false,
       "name": "ABC Pre-generator MSE"
      }
     },
     "output_type": "display_data"
    },
    {
     "data": {
      "application/scrapbook.scrap.json+json": {
       "data": 0.3415962880237688,
       "encoder": "json",
       "name": "Prior Model MAE",
       "version": 1
      }
     },
     "metadata": {
      "scrapbook": {
       "data": true,
       "display": false,
       "name": "Prior Model MAE"
      }
     },
     "output_type": "display_data"
    },
    {
     "name": "stdout",
     "output_type": "stream",
     "text": [
      "Prior Model MAE 0.3415962880237688\n"
     ]
    },
    {
     "data": {
      "application/scrapbook.scrap.json+json": {
       "data": 0.9863492805548952,
       "encoder": "json",
       "name": "ABC Pre-generator MAE",
       "version": 1
      }
     },
     "metadata": {
      "scrapbook": {
       "data": true,
       "display": false,
       "name": "ABC Pre-generator MAE"
      }
     },
     "output_type": "display_data"
    },
    {
     "name": "stdout",
     "output_type": "stream",
     "text": [
      "ABC Pre-generator MAE 0.9863492805548952\n"
     ]
    }
   ],
   "source": [
    "y_pred = prior_model.predict(X_test)\n",
    "y_abc = y_pred + np.random.normal(0,variance, y_pred.shape) + bias \n",
    "mse = mean_squared_error(y_pred,Y_test)\n",
    "sb.glue(\"Prior Model MSE\",mse)\n",
    "mse = mean_squared_error(y_abc,Y_test)\n",
    "sb.glue(\"ABC Pre-generator MSE\",mse)\n",
    "mae = mean_absolute_error(y_pred,Y_test)\n",
    "sb.glue(\"Prior Model MAE\",mae)\n",
    "print(\"Prior Model MAE\",mae)\n",
    "mae = mean_absolute_error(y_abc,Y_test)\n",
    "sb.glue(\"ABC Pre-generator MAE\",mae)\n",
    "print(\"ABC Pre-generator MAE\",mae)"
   ]
  },
  {
   "cell_type": "markdown",
   "id": "25609da2",
   "metadata": {
    "papermill": {
     "duration": 0.086105,
     "end_time": "2022-07-22T11:22:04.039740",
     "exception": false,
     "start_time": "2022-07-22T11:22:03.953635",
     "status": "completed"
    },
    "tags": []
   },
   "source": [
    "# mGAN Model"
   ]
  },
  {
   "cell_type": "code",
   "execution_count": 11,
   "id": "dfc3464d",
   "metadata": {
    "execution": {
     "iopub.execute_input": "2022-07-22T11:22:04.348067Z",
     "iopub.status.busy": "2022-07-22T11:22:04.347492Z",
     "iopub.status.idle": "2022-07-22T11:22:04.354234Z",
     "shell.execute_reply": "2022-07-22T11:22:04.351936Z"
    },
    "papermill": {
     "duration": 0.128399,
     "end_time": "2022-07-22T11:22:04.366515",
     "exception": false,
     "start_time": "2022-07-22T11:22:04.238116",
     "status": "completed"
    },
    "tags": []
   },
   "outputs": [],
   "source": [
    "# gen = network.Generator(n_features+1).to(device)\n",
    "# disc = network.Discriminator(n_features+1).to(device)\n",
    "\n",
    "# criterion = torch.nn.BCELoss()\n",
    "# gen_opt = torch.optim.Adam(gen.parameters(), lr=0.001, betas=(0.5, 0.999))\n",
    "# disc_opt = torch.optim.Adam(disc.parameters(), lr=0.001, betas=(0.5, 0.999))"
   ]
  },
  {
   "cell_type": "code",
   "execution_count": 12,
   "id": "b75fdd85",
   "metadata": {
    "execution": {
     "iopub.execute_input": "2022-07-22T11:22:04.604598Z",
     "iopub.status.busy": "2022-07-22T11:22:04.603820Z",
     "iopub.status.idle": "2022-07-22T11:22:04.609651Z",
     "shell.execute_reply": "2022-07-22T11:22:04.607704Z"
    },
    "papermill": {
     "duration": 0.125525,
     "end_time": "2022-07-22T11:22:04.622470",
     "exception": false,
     "start_time": "2022-07-22T11:22:04.496945",
     "status": "completed"
    },
    "tags": []
   },
   "outputs": [],
   "source": [
    "#Training the ABC_GAN \n",
    "# ABC_train_test2.training_GAN(disc,gen,disc_opt,gen_opt,train_data,batch_size,n_epochs,criterion,prior_model,variance,bias,device)"
   ]
  },
  {
   "cell_type": "code",
   "execution_count": 13,
   "id": "1fa7c368",
   "metadata": {
    "execution": {
     "iopub.execute_input": "2022-07-22T11:22:04.820448Z",
     "iopub.status.busy": "2022-07-22T11:22:04.819919Z",
     "iopub.status.idle": "2022-07-22T11:22:04.827766Z",
     "shell.execute_reply": "2022-07-22T11:22:04.825947Z"
    },
    "papermill": {
     "duration": 0.143494,
     "end_time": "2022-07-22T11:22:04.843497",
     "exception": false,
     "start_time": "2022-07-22T11:22:04.700003",
     "status": "completed"
    },
    "tags": []
   },
   "outputs": [],
   "source": [
    "# ABC_GAN1_metrics=ABC_train_test2.test_generator(gen,test_data,prior_model,variance,bias,\"1\",device)\n",
    "# sb.glue(\"ABC_GAN_1 Metrics\",ABC_GAN1_metrics)\n",
    "\n",
    "# print(\"MAE\")\n",
    "# print(mean(ABC_GAN1_metrics[1]))"
   ]
  },
  {
   "cell_type": "code",
   "execution_count": 14,
   "id": "eb22ce5c",
   "metadata": {
    "execution": {
     "iopub.execute_input": "2022-07-22T11:22:05.188989Z",
     "iopub.status.busy": "2022-07-22T11:22:05.188536Z",
     "iopub.status.idle": "2022-07-22T11:22:05.194010Z",
     "shell.execute_reply": "2022-07-22T11:22:05.192456Z"
    },
    "papermill": {
     "duration": 0.255083,
     "end_time": "2022-07-22T11:22:05.213800",
     "exception": false,
     "start_time": "2022-07-22T11:22:04.958717",
     "status": "completed"
    },
    "tags": []
   },
   "outputs": [],
   "source": [
    "# sanityChecks.discProbVsError(train_data,disc,device)\n",
    "# sanityChecks.discProbVsError(test_data,disc,device)"
   ]
  },
  {
   "cell_type": "markdown",
   "id": "aabe1532",
   "metadata": {
    "papermill": {
     "duration": 0.184784,
     "end_time": "2022-07-22T11:22:05.575572",
     "exception": false,
     "start_time": "2022-07-22T11:22:05.390788",
     "status": "completed"
    },
    "tags": []
   },
   "source": [
    "# mGAN Model with TabNet Generator"
   ]
  },
  {
   "cell_type": "code",
   "execution_count": 15,
   "id": "c0b20a12",
   "metadata": {
    "execution": {
     "iopub.execute_input": "2022-07-22T11:22:05.784782Z",
     "iopub.status.busy": "2022-07-22T11:22:05.784364Z",
     "iopub.status.idle": "2022-07-22T11:22:05.807304Z",
     "shell.execute_reply": "2022-07-22T11:22:05.805768Z"
    },
    "papermill": {
     "duration": 0.17764,
     "end_time": "2022-07-22T11:22:05.871431",
     "exception": false,
     "start_time": "2022-07-22T11:22:05.693791",
     "status": "completed"
    },
    "tags": []
   },
   "outputs": [],
   "source": [
    "gen2 = network.GeneratorTabnet(n_features+1).to(device)\n",
    "disc2 = network.Discriminator(n_features+1).to(device)\n",
    "\n",
    "criterion = torch.nn.BCELoss()\n",
    "gen_opt = torch.optim.Adam(gen2.parameters(), lr=0.001, betas=(0.5, 0.999))\n",
    "disc_opt = torch.optim.Adam(disc2.parameters(), lr=0.001, betas=(0.5, 0.999))"
   ]
  },
  {
   "cell_type": "code",
   "execution_count": 16,
   "id": "f4beb181",
   "metadata": {
    "execution": {
     "iopub.execute_input": "2022-07-22T11:22:06.029011Z",
     "iopub.status.busy": "2022-07-22T11:22:06.027945Z",
     "iopub.status.idle": "2022-07-22T11:26:25.779333Z",
     "shell.execute_reply": "2022-07-22T11:26:25.777002Z"
    },
    "papermill": {
     "duration": 259.85538,
     "end_time": "2022-07-22T11:26:25.783817",
     "exception": false,
     "start_time": "2022-07-22T11:22:05.928437",
     "status": "completed"
    },
    "tags": []
   },
   "outputs": [
    {
     "data": {
      "image/png": "[encoded data removed]",
      "text/plain": [
       "<Figure size 432x288 with 1 Axes>"
      ]
     },
     "metadata": {
      "needs_background": "light"
     },
     "output_type": "display_data"
    },
    {
     "data": {
      "image/png": "[encoded data removed]",
      "text/plain": [
       "<Figure size 432x288 with 1 Axes>"
      ]
     },
     "metadata": {
      "needs_background": "light"
     },
     "output_type": "display_data"
    }
   ],
   "source": [
    "#Training the ABC_GAN \n",
    "ABC_train_test2.training_GAN(disc2,gen2,disc_opt,gen_opt,train_data,batch_size,n_epochs,criterion,prior_model,variance,bias,device)"
   ]
  },
  {
   "cell_type": "code",
   "execution_count": 17,
   "id": "bff65fcc",
   "metadata": {
    "execution": {
     "iopub.execute_input": "2022-07-22T11:26:25.844723Z",
     "iopub.status.busy": "2022-07-22T11:26:25.844200Z",
     "iopub.status.idle": "2022-07-22T11:26:27.911651Z",
     "shell.execute_reply": "2022-07-22T11:26:27.909706Z"
    },
    "papermill": {
     "duration": 2.103494,
     "end_time": "2022-07-22T11:26:27.914736",
     "exception": false,
     "start_time": "2022-07-22T11:26:25.811242",
     "status": "completed"
    },
    "tags": []
   },
   "outputs": [
    {
     "data": {
      "application/scrapbook.scrap.json+json": {
       "data": 0.5590011631004848,
       "encoder": "json",
       "name": "ABC-GAN Model 1 MSE",
       "version": 1
      }
     },
     "metadata": {
      "scrapbook": {
       "data": true,
       "display": false,
       "name": "ABC-GAN Model 1 MSE"
      }
     },
     "output_type": "display_data"
    },
    {
     "data": {
      "application/scrapbook.scrap.json+json": {
       "data": 0.5397480291966349,
       "encoder": "json",
       "name": "ABC-GAN Model 1 MAE",
       "version": 1
      }
     },
     "metadata": {
      "scrapbook": {
       "data": true,
       "display": false,
       "name": "ABC-GAN Model 1 MAE"
      }
     },
     "output_type": "display_data"
    },
    {
     "data": {
      "application/scrapbook.scrap.json+json": {
       "data": 10.794960583932697,
       "encoder": "json",
       "name": "ABC-GAN Model 1 Manhattan Distance",
       "version": 1
      }
     },
     "metadata": {
      "scrapbook": {
       "data": true,
       "display": false,
       "name": "ABC-GAN Model 1 Manhattan Distance"
      }
     },
     "output_type": "display_data"
    },
    {
     "data": {
      "application/scrapbook.scrap.json+json": {
       "data": 3.320149187435763,
       "encoder": "json",
       "name": "ABC-GAN Model 1 Euclidean distance",
       "version": 1
      }
     },
     "metadata": {
      "scrapbook": {
       "data": true,
       "display": false,
       "name": "ABC-GAN Model 1 Euclidean distance"
      }
     },
     "output_type": "display_data"
    },
    {
     "data": {
      "application/scrapbook.scrap.json+json": {
       "data": [
        [
         0.5267285937526465,
         0.2893469447366315,
         0.713146543492817,
         0.7894425586124253,
         0.4869162577129771,
         0.35732735888797107,
         0.50790591383719,
         0.5112260033860905,
         0.6240906996878783,
         0.73156340050057,
         0.5255563385876444,
         0.6391731212011432,
         0.6187077744818292,
         0.6386024077408574,
         0.6237701004656397,
         0.5856001379758615,
         0.49820344114082016,
         0.6732141157512365,
         0.5246573744457784,
         0.7809696480587605,
         0.6541211945301699,
         0.5071781871678972,
         0.6262841142155497,
         0.6731655380524835,
         0.444466659436954,
         0.48646784974058743,
         0.5926956770533824,
         0.7060786731451325,
         0.5576953296884544,
         0.26766245272684136,
         0.4708865421058901,
         0.5783637928864793,
         0.554353025686677,
         0.486163133524321,
         0.6392563125560177,
         0.5333757073060369,
         0.5061593620120274,
         0.48960211657403613,
         0.24884377101894253,
         0.3920208487376976,
         0.5998970150990015,
         0.3948153635356662,
         0.8709574880254405,
         0.6326164514644697,
         0.5030751723405894,
         0.5657168552334962,
         0.4329548641198267,
         0.5452542339452024,
         0.6366286043116789,
         0.42140441530860784,
         0.6890043179402875,
         0.45666297180922333,
         0.4875391829008876,
         0.5731099229208534,
         0.5767827976109018,
         0.5815028182597786,
         0.6800300783119825,
         0.44943463051621413,
         0.42142308731227596,
         0.7284166595811458,
         0.6611222269507255,
         0.5923859802853297,
         0.6269854196699084,
         0.618852518491733,
         0.7090431996629472,
         0.6355917301365693,
         0.4147112630946939,
         0.38726827366070676,
         0.6556511407213124,
         0.43748562972196847,
         0.294815796933862,
         0.5592494886421985,
         0.4881483054457945,
         0.4096135467340224,
         0.5191328610009409,
         0.5906898367068267,
         0.575718653381497,
         0.5697909258458912,
         0.46862889539668656,
         0.4565484373789165,
         0.7143361825184151,
         0.3930036013016841,
         0.5853864603807292,
         0.6768722607717799,
         0.5980125221470137,
         0.4897437910012844,
         0.6710131624347826,
         0.4263462550673568,
         0.48997850441328605,
         0.63847002894447,
         0.6883480653064413,
         0.4533468294856956,
         0.6564220168320982,
         0.5666876404907584,
         0.8142645810404179,
         0.8046460196967452,
         0.5351148907583602,
         0.9518657785899614,
         0.27693353355496675,
         0.48967410227982705
        ],
        [
         0.5471619810909033,
         0.4538211040198803,
         0.5708797935396432,
         0.6514671664685011,
         0.48698392771184446,
         0.4493156591430306,
         0.5261888898909092,
         0.5359709564596414,
         0.5216191228479147,
         0.6280445974320173,
         0.5389093209058047,
         0.5804072242230177,
         0.5386770661920309,
         0.5874401684850454,
         0.5614199880510569,
         0.547780979052186,
         0.5265016462653875,
         0.5631905879825354,
         0.5213598188012838,
         0.6101947635412216,
         0.5632279057055711,
         0.5168181765824557,
         0.5983400296419858,
         0.5541420098394155,
         0.4897468078881502,
         0.51711589358747,
         0.5884926278144121,
         0.5574564050883055,
         0.49870853684842587,
         0.40477097127586603,
         0.5363454487174749,
         0.5834658149629831,
         0.5122130155563355,
         0.49248345382511616,
         0.564390578493476,
         0.5084429264068604,
         0.5374543264508247,
         0.5331836681813001,
         0.41932108253240585,
         0.46089137978851796,
         0.5963606167584657,
         0.4839965905994177,
         0.6927778210490942,
         0.5475136764347553,
         0.5321805085986853,
         0.5675512935966254,
         0.461173203215003,
         0.553958036750555,
         0.5797211650758982,
         0.5116700595244765,
         0.6101215030997992,
         0.5490543447434902,
         0.5126736935228109,
         0.5542982701212168,
         0.5446393020451069,
         0.5165347188711167,
         0.5987986709922553,
         0.4928024183958769,
         0.4821735192090273,
         0.6151275608688593,
         0.5640100713819265,
         0.5797370068728924,
         0.5637298297137022,
         0.5440299317240715,
         0.5979149635881186,
         0.5889948749914765,
         0.4576808862388134,
         0.4697518449276686,
         0.5438037011772394,
         0.46152423284947874,
         0.3849226489663124,
         0.5193570673465728,
         0.5132853049784899,
         0.4932553056627512,
         0.491394979134202,
         0.5641303349286317,
         0.5407334558665753,
         0.5736180860549212,
         0.5239765800535678,
         0.5026345763355493,
         0.6314102206379175,
         0.480698211863637,
         0.5560232181102037,
         0.5620257262140512,
         0.5434703718870878,
         0.5335943534970283,
         0.5709385626018048,
         0.5101489521563053,
         0.514977352693677,
         0.5765850545838476,
         0.5526812512427568,
         0.4981452915817499,
         0.5532206501811743,
         0.5695773754268885,
         0.6396553236991167,
         0.6320802938193083,
         0.5722378972917795,
         0.6751385215669871,
         0.43955285735428334,
         0.49668295569717885
        ],
        [
         10.943239621818066,
         9.076422080397606,
         11.417595870792866,
         13.029343329370022,
         9.739678554236889,
         8.986313182860613,
         10.523777797818184,
         10.71941912919283,
         10.432382456958294,
         12.560891948640347,
         10.778186418116093,
         11.608144484460354,
         10.773541323840618,
         11.748803369700909,
         11.228399761021137,
         10.95561958104372,
         10.53003292530775,
         11.263811759650707,
         10.427196376025677,
         12.203895270824432,
         11.264558114111423,
         10.336363531649113,
         11.966800592839718,
         11.082840196788311,
         9.794936157763004,
         10.342317871749401,
         11.769852556288242,
         11.14912810176611,
         9.974170736968517,
         8.09541942551732,
         10.726908974349499,
         11.669316299259663,
         10.244260311126709,
         9.849669076502323,
         11.287811569869518,
         10.168858528137207,
         10.749086529016495,
         10.663673363626003,
         8.386421650648117,
         9.217827595770359,
         11.927212335169315,
         9.679931811988354,
         13.855556420981884,
         10.950273528695107,
         10.643610171973705,
         11.351025871932507,
         9.22346406430006,
         11.0791607350111,
         11.594423301517963,
         10.23340119048953,
         12.202430061995983,
         10.981086894869804,
         10.253473870456219,
         11.085965402424335,
         10.892786040902138,
         10.330694377422333,
         11.975973419845104,
         9.856048367917538,
         9.643470384180546,
         12.302551217377186,
         11.28020142763853,
         11.594740137457848,
         11.274596594274044,
         10.88059863448143,
         11.958299271762371,
         11.77989749982953,
         9.153617724776268,
         9.395036898553371,
         10.876074023544788,
         9.230484656989574,
         7.698452979326248,
         10.387141346931458,
         10.265706099569798,
         9.865106113255024,
         9.82789958268404,
         11.282606698572636,
         10.814669117331505,
         11.472361721098423,
         10.479531601071358,
         10.052691526710987,
         12.62820441275835,
         9.61396423727274,
         11.120464362204075,
         11.240514524281025,
         10.869407437741756,
         10.671887069940567,
         11.418771252036095,
         10.202979043126106,
         10.299547053873539,
         11.53170109167695,
         11.053625024855137,
         9.962905831634998,
         11.064413003623486,
         11.39154750853777,
         12.793106473982334,
         12.641605876386166,
         11.44475794583559,
         13.50277043133974,
         8.791057147085667,
         9.933659113943577
        ],
        [
         3.2457005214672727,
         2.4056057230420427,
         3.7766295648178603,
         3.9735187393855975,
         3.120628967733835,
         2.673302672306191,
         3.187180301888144,
         3.1975803457805103,
         3.532961080136259,
         3.8250840526727514,
         3.242086792754458,
         3.5753968204973927,
         3.517691784343333,
         3.5738002399150886,
         3.5320535116717577,
         3.422280344962585,
         3.156591329712543,
         3.669370833674995,
         3.239312811217152,
         3.9521377710266137,
         3.6169633521233524,
         3.1848961903581636,
         3.539164065752108,
         3.6692384442891783,
         2.981498480418711,
         3.119191721393821,
         3.4429512835745504,
         3.75786820722902,
         3.339746486452091,
         2.313708939027731,
         3.068832162585273,
         3.40106981076978,
         3.3297237894055924,
         3.118214660745219,
         3.5756294901905528,
         3.266116064398315,
         3.181695654873443,
         3.129223918399053,
         2.2308911717918583,
         2.8000744587874715,
         3.4638043105781873,
         2.810036880667819,
         4.173625493561779,
         3.5570112495309028,
         3.1719873024354595,
         3.3636791025111066,
         2.9426344119507157,
         3.3022847664766966,
         3.568272983704242,
         2.9031169983609266,
         3.7121538705724135,
         3.0221282957850195,
         3.1226244823894134,
         3.385586870605607,
         3.3964181062139613,
         3.410286845002275,
         3.6878993432901135,
         2.9981148427510713,
         2.9031813147382852,
         3.8168485942755073,
         3.636267941037144,
         3.442051656455288,
         3.541145068109773,
         3.518103234675563,
         3.7657487958252,
         3.565365984402076,
         2.879969663363466,
         2.7830496713522983,
         3.6211908006105187,
         2.9579913107443994,
         2.428233089857158,
         3.3443967726398682,
         3.124574548465101,
         2.862214341149252,
         3.2222130935148927,
         3.4371204130982282,
         3.393283523024556,
         3.375769322231278,
         3.0614666269508364,
         3.021749286022639,
         3.7797782541265965,
         2.8035819991635136,
         3.4216559160170656,
         3.679326733987564,
         3.458359501691557,
         3.1296766318624183,
         3.6633677468547505,
         2.9200899132299223,
         3.130426502613617,
         3.5734298060671907,
         3.710385600733275,
         3.0111354319780954,
         3.623318967002762,
         3.3665639470853908,
         4.035503886853333,
         4.011598234361824,
         3.2714366592014588,
         4.3631772335992975,
         2.353438053380487,
         3.1294539532634986
        ]
       ],
       "encoder": "json",
       "name": "ABC_GAN_2 Metrics",
       "version": 1
      }
     },
     "metadata": {
      "scrapbook": {
       "data": true,
       "display": false,
       "name": "ABC_GAN_2 Metrics"
      }
     },
     "output_type": "display_data"
    },
    {
     "name": "stdout",
     "output_type": "stream",
     "text": [
      "MAE\n",
      "0.5397480291966349\n"
     ]
    }
   ],
   "source": [
    "ABC_GAN2_metrics=ABC_train_test2.test_generator(gen2,test_data,prior_model,variance,bias,\"1\",device)\n",
    "sb.glue(\"ABC_GAN_2 Metrics\",ABC_GAN2_metrics)\n",
    "\n",
    "print(\"MAE\")\n",
    "print(mean(ABC_GAN2_metrics[1]))"
   ]
  },
  {
   "cell_type": "code",
   "execution_count": 18,
   "id": "bc137f8e",
   "metadata": {
    "execution": {
     "iopub.execute_input": "2022-07-22T11:26:28.015006Z",
     "iopub.status.busy": "2022-07-22T11:26:28.014517Z",
     "iopub.status.idle": "2022-07-22T11:26:29.263420Z",
     "shell.execute_reply": "2022-07-22T11:26:29.261609Z"
    },
    "papermill": {
     "duration": 1.308517,
     "end_time": "2022-07-22T11:26:29.266841",
     "exception": false,
     "start_time": "2022-07-22T11:26:27.958324",
     "status": "completed"
    },
    "tags": []
   },
   "outputs": [
    {
     "data": {
      "image/png": "[encoded data removed]",
      "text/plain": [
       "<Figure size 432x288 with 1 Axes>"
      ]
     },
     "metadata": {
      "needs_background": "light"
     },
     "output_type": "display_data"
    },
    {
     "data": {
      "image/png": "[encoded data removed]",
      "text/plain": [
       "<Figure size 432x288 with 1 Axes>"
      ]
     },
     "metadata": {
      "needs_background": "light"
     },
     "output_type": "display_data"
    },
    {
     "data": {
      "image/png": "[encoded data removed]",
      "text/plain": [
       "<Figure size 432x288 with 1 Axes>"
      ]
     },
     "metadata": {
      "needs_background": "light"
     },
     "output_type": "display_data"
    },
    {
     "data": {
      "image/png": "[encoded data removed]",
      "text/plain": [
       "<Figure size 432x288 with 1 Axes>"
      ]
     },
     "metadata": {
      "needs_background": "light"
     },
     "output_type": "display_data"
    }
   ],
   "source": [
    "sanityChecks.discProbVsError(train_data,disc2,device)\n",
    "sanityChecks.discProbVsError(test_data,disc2,device)"
   ]
  },
  {
   "cell_type": "markdown",
   "id": "130f3a4d",
   "metadata": {
    "id": "130f3a4d",
    "papermill": {
     "duration": 0.038849,
     "end_time": "2022-07-22T11:26:29.348812",
     "exception": false,
     "start_time": "2022-07-22T11:26:29.309963",
     "status": "completed"
    },
    "tags": []
   },
   "source": [
    "# skipGAN Model"
   ]
  },
  {
   "cell_type": "code",
   "execution_count": 19,
   "id": "4e43dad1",
   "metadata": {
    "execution": {
     "iopub.execute_input": "2022-07-22T11:26:29.435959Z",
     "iopub.status.busy": "2022-07-22T11:26:29.435511Z",
     "iopub.status.idle": "2022-07-22T11:26:29.441462Z",
     "shell.execute_reply": "2022-07-22T11:26:29.439924Z"
    },
    "id": "4e43dad1",
    "papermill": {
     "duration": 0.055368,
     "end_time": "2022-07-22T11:26:29.447226",
     "exception": false,
     "start_time": "2022-07-22T11:26:29.391858",
     "status": "completed"
    },
    "tags": []
   },
   "outputs": [],
   "source": [
    "# #Generator\n",
    "# gen3 = network.GeneratorWithSkipConnection(n_features+1).to(device)\n",
    "# constraints=network.weightConstraint()\n",
    "# #Discriminator \n",
    "# disc3 = network.Discriminator(n_features+1).to(device)\n",
    "\n",
    "# criterion = torch.nn.BCELoss()\n",
    "# gen_opt = torch.optim.Adam(gen3.parameters(), lr=0.01, betas=(0.5, 0.999))\n",
    "# disc_opt = torch.optim.Adam(disc3.parameters(), lr=0.01, betas=(0.5, 0.999))\n"
   ]
  },
  {
   "cell_type": "code",
   "execution_count": 20,
   "id": "26acbc37",
   "metadata": {
    "execution": {
     "iopub.execute_input": "2022-07-22T11:26:29.545921Z",
     "iopub.status.busy": "2022-07-22T11:26:29.545437Z",
     "iopub.status.idle": "2022-07-22T11:26:29.551975Z",
     "shell.execute_reply": "2022-07-22T11:26:29.550687Z"
    },
    "id": "26acbc37",
    "papermill": {
     "duration": 0.061802,
     "end_time": "2022-07-22T11:26:29.559681",
     "exception": false,
     "start_time": "2022-07-22T11:26:29.497879",
     "status": "completed"
    },
    "tags": []
   },
   "outputs": [],
   "source": [
    "# ABC_train_test2.training_GAN_skip_connection(disc3,gen3,disc_opt,gen_opt,train_data,batch_size,n_epochs,criterion,prior_model,variance,bias,device)"
   ]
  },
  {
   "cell_type": "code",
   "execution_count": 21,
   "id": "c5e0717b",
   "metadata": {
    "execution": {
     "iopub.execute_input": "2022-07-22T11:26:29.644853Z",
     "iopub.status.busy": "2022-07-22T11:26:29.644244Z",
     "iopub.status.idle": "2022-07-22T11:26:29.652013Z",
     "shell.execute_reply": "2022-07-22T11:26:29.650725Z"
    },
    "id": "c5e0717b",
    "papermill": {
     "duration": 0.057974,
     "end_time": "2022-07-22T11:26:29.656163",
     "exception": false,
     "start_time": "2022-07-22T11:26:29.598189",
     "status": "completed"
    },
    "tags": []
   },
   "outputs": [],
   "source": [
    "# ABC_GAN3_metrics=ABC_train_test2.test_generator(gen3,test_data,prior_model,variance,bias,\"3\",device)\n",
    "# sb.glue(\"ABC_GAN_3 Metrics\",ABC_GAN3_metrics)\n",
    "\n",
    "# print(\"MAE\")\n",
    "# print(mean(ABC_GAN3_metrics[1]))"
   ]
  },
  {
   "cell_type": "code",
   "execution_count": 22,
   "id": "c8e46b48",
   "metadata": {
    "execution": {
     "iopub.execute_input": "2022-07-22T11:26:29.738077Z",
     "iopub.status.busy": "2022-07-22T11:26:29.737487Z",
     "iopub.status.idle": "2022-07-22T11:26:29.742128Z",
     "shell.execute_reply": "2022-07-22T11:26:29.741065Z"
    },
    "id": "c8e46b48",
    "papermill": {
     "duration": 0.057529,
     "end_time": "2022-07-22T11:26:29.750592",
     "exception": false,
     "start_time": "2022-07-22T11:26:29.693063",
     "status": "completed"
    },
    "tags": []
   },
   "outputs": [],
   "source": [
    "# sanityChecks.discProbVsError(train_data,disc3,device)\n",
    "# sanityChecks.discProbVsError(test_data,disc3,device)"
   ]
  },
  {
   "cell_type": "markdown",
   "id": "08b2ef14",
   "metadata": {
    "id": "130f3a4d",
    "papermill": {
     "duration": 0.104747,
     "end_time": "2022-07-22T11:26:29.903333",
     "exception": false,
     "start_time": "2022-07-22T11:26:29.798586",
     "status": "completed"
    },
    "tags": []
   },
   "source": [
    "# skipGAN Model with TabNet Generator"
   ]
  },
  {
   "cell_type": "code",
   "execution_count": 23,
   "id": "75b7efe8",
   "metadata": {
    "execution": {
     "iopub.execute_input": "2022-07-22T11:26:30.014867Z",
     "iopub.status.busy": "2022-07-22T11:26:30.014256Z",
     "iopub.status.idle": "2022-07-22T11:26:30.046180Z",
     "shell.execute_reply": "2022-07-22T11:26:30.043848Z"
    },
    "id": "4e43dad1",
    "papermill": {
     "duration": 0.097063,
     "end_time": "2022-07-22T11:26:30.049841",
     "exception": false,
     "start_time": "2022-07-22T11:26:29.952778",
     "status": "completed"
    },
    "tags": []
   },
   "outputs": [],
   "source": [
    "#Generator\n",
    "gen4 = network.GeneratorTabnetskipConnection(n_features+1).to(device)\n",
    "constraints=network.weightConstraint()\n",
    "#Discriminator \n",
    "disc4 = network.Discriminator(n_features+1).to(device)\n",
    "\n",
    "criterion = torch.nn.BCELoss()\n",
    "gen_opt = torch.optim.Adam(gen4.parameters(), lr=0.001, betas=(0.5, 0.999))\n",
    "disc_opt = torch.optim.Adam(disc4.parameters(), lr=0.001, betas=(0.5, 0.999))\n"
   ]
  },
  {
   "cell_type": "code",
   "execution_count": 24,
   "id": "720387a7",
   "metadata": {
    "execution": {
     "iopub.execute_input": "2022-07-22T11:26:30.192723Z",
     "iopub.status.busy": "2022-07-22T11:26:30.191866Z",
     "iopub.status.idle": "2022-07-22T11:29:55.012106Z",
     "shell.execute_reply": "2022-07-22T11:29:55.010675Z"
    },
    "id": "26acbc37",
    "papermill": {
     "duration": 204.887834,
     "end_time": "2022-07-22T11:29:55.015109",
     "exception": false,
     "start_time": "2022-07-22T11:26:30.127275",
     "status": "completed"
    },
    "tags": []
   },
   "outputs": [
    {
     "data": {
      "image/png": "[encoded data removed]",
      "text/plain": [
       "<Figure size 432x288 with 1 Axes>"
      ]
     },
     "metadata": {
      "needs_background": "light"
     },
     "output_type": "display_data"
    },
    {
     "data": {
      "image/png": "[encoded data removed]",
      "text/plain": [
       "<Figure size 432x288 with 1 Axes>"
      ]
     },
     "metadata": {
      "needs_background": "light"
     },
     "output_type": "display_data"
    }
   ],
   "source": [
    "ABC_train_test2.training_GAN_skip_connection(disc4,gen4,disc_opt,gen_opt,train_data,batch_size,n_epochs,criterion,prior_model,variance,bias,device)"
   ]
  },
  {
   "cell_type": "code",
   "execution_count": 25,
   "id": "750d5e14",
   "metadata": {
    "execution": {
     "iopub.execute_input": "2022-07-22T11:29:55.095629Z",
     "iopub.status.busy": "2022-07-22T11:29:55.094760Z",
     "iopub.status.idle": "2022-07-22T11:29:57.510821Z",
     "shell.execute_reply": "2022-07-22T11:29:57.508882Z"
    },
    "id": "c5e0717b",
    "papermill": {
     "duration": 2.466462,
     "end_time": "2022-07-22T11:29:57.514422",
     "exception": false,
     "start_time": "2022-07-22T11:29:55.047960",
     "status": "completed"
    },
    "tags": []
   },
   "outputs": [
    {
     "data": {
      "application/scrapbook.scrap.json+json": {
       "data": 0.7087288207049516,
       "encoder": "json",
       "name": "ABC-GAN Model 3 MSE",
       "version": 1
      }
     },
     "metadata": {
      "scrapbook": {
       "data": true,
       "display": false,
       "name": "ABC-GAN Model 3 MSE"
      }
     },
     "output_type": "display_data"
    },
    {
     "data": {
      "application/scrapbook.scrap.json+json": {
       "data": 0.612251531113172,
       "encoder": "json",
       "name": "ABC-GAN Model 3 MAE",
       "version": 1
      }
     },
     "metadata": {
      "scrapbook": {
       "data": true,
       "display": false,
       "name": "ABC-GAN Model 3 MAE"
      }
     },
     "output_type": "display_data"
    },
    {
     "data": {
      "application/scrapbook.scrap.json+json": {
       "data": 12.245030622263439,
       "encoder": "json",
       "name": "ABC-GAN Model 3 Manhattan Distance",
       "version": 1
      }
     },
     "metadata": {
      "scrapbook": {
       "data": true,
       "display": false,
       "name": "ABC-GAN Model 3 Manhattan Distance"
      }
     },
     "output_type": "display_data"
    },
    {
     "data": {
      "application/scrapbook.scrap.json+json": {
       "data": 3.7499877826062287,
       "encoder": "json",
       "name": "ABC-GAN Model 3 Euclidean distance",
       "version": 1
      }
     },
     "metadata": {
      "scrapbook": {
       "data": true,
       "display": false,
       "name": "ABC-GAN Model 3 Euclidean distance"
      }
     },
     "output_type": "display_data"
    },
    {
     "data": {
      "application/scrapbook.scrap.json+json": {
       "data": [
        [
         0.6202198899447909,
         0.619448466614511,
         0.5408367592806638,
         0.7290913027101042,
         0.5724796934035359,
         0.6893023764973588,
         0.5640620658405238,
         0.6409482044586953,
         0.6709630685773709,
         0.8916616956375197,
         0.5688623195042712,
         0.7649775198089817,
         0.7600294808729176,
         0.6425241530490385,
         1.1501964969998888,
         0.6448479971376535,
         0.7757801452415238,
         1.5062117965528339,
         0.6928055170673174,
         0.7418180454655117,
         0.7310186755415199,
         0.7301081704438117,
         0.6322559837172642,
         0.5938411482698036,
         0.6541441412524034,
         0.6543195148036226,
         0.6531155562473713,
         0.6911203345411622,
         0.6032511123758949,
         0.6613966758617135,
         0.7086447992232582,
         0.6860181993317621,
         0.7081147713186737,
         0.7079121418436835,
         0.7716454516841236,
         0.8041656160827644,
         0.6725077130316464,
         0.6698415262899801,
         0.7969023070835742,
         0.8766660321902755,
         0.5617852307728389,
         0.7079310219364217,
         0.7320039396539041,
         0.842152046704537,
         0.7380486094157126,
         0.6592456313348087,
         0.6433814597791507,
         0.5140942603269535,
         0.5342504274076856,
         0.5976707731941836,
         0.6098218928133956,
         0.7990204814378796,
         0.5444776605528279,
         0.6642554270973088,
         0.7263287553113281,
         0.7528482043017822,
         0.697401667286314,
         0.6565254920786178,
         0.5963793391087915,
         0.6227450587778254,
         0.7784795605974992,
         0.6870556915107899,
         0.6878948764634094,
         0.5696593137983589,
         0.739584052485451,
         0.7294843829825277,
         0.7359439175472919,
         0.612922202833292,
         0.6408377083281982,
         0.74377535214426,
         0.5717702268551571,
         0.7984453367115188,
         0.7500765290959782,
         0.8293248981847116,
         0.8401243369304062,
         0.6463589757650656,
         0.7002456812892411,
         0.7318178812565671,
         1.1039685839609685,
         0.6990549486291935,
         0.8523295419851118,
         0.718696358547076,
         0.7008819219062182,
         0.6745407323561465,
         0.594868882671906,
         0.5988409314988882,
         1.1351166923709788,
         0.7098745266406639,
         0.6435205384251749,
         0.5337884414886588,
         0.7284791768893616,
         0.6945547890048684,
         0.5572947336112447,
         0.5644745615358276,
         0.7800371722512647,
         0.6994415932545989,
         0.7199541659903981,
         0.8137657570852536,
         0.7966631270865898,
         0.7645097234334546
        ],
        [
         0.556892947666347,
         0.546221006475389,
         0.5453878441825509,
         0.5942482784390449,
         0.5150678736157716,
         0.6112941992003471,
         0.5741229016333819,
         0.5234250368550419,
         0.6081458455882967,
         0.7234845286235213,
         0.5652303346432745,
         0.6338590406347067,
         0.6048007030040026,
         0.6085126839578152,
         0.6762604475021362,
         0.5950230797752738,
         0.6575091158039867,
         0.7690392294898629,
         0.6123271066695452,
         0.6511559782549738,
         0.6205223653465509,
         0.6632123613730073,
         0.582384093478322,
         0.5389833591878415,
         0.6227456782013178,
         0.6230738651007414,
         0.6020661160349846,
         0.6067680108826607,
         0.5736247837543488,
         0.6248293288983404,
         0.6063261333853006,
         0.6287195641314611,
         0.5944105084985495,
         0.6627940902952105,
         0.6681936414446682,
         0.6393147960305214,
         0.6107238760683685,
         0.5953779477626086,
         0.6431977579370141,
         0.6986622415482998,
         0.5441186227835715,
         0.5956149498000741,
         0.6100686908699572,
         0.7128799524158239,
         0.6401642668992281,
         0.5944977546110749,
         0.6246237479150295,
         0.5701185900717973,
         0.5640042204409838,
         0.5526415189728141,
         0.5944897544570267,
         0.6342983356211335,
         0.5045190840959549,
         0.575826003216207,
         0.6251198695972562,
         0.6879213551059365,
         0.5755442412570119,
         0.6018360717222094,
         0.5545805400237441,
         0.5302830772474408,
         0.6092705633491278,
         0.5639699839055539,
         0.5718362420797348,
         0.5410633686929941,
         0.6519281640648842,
         0.6311330433934927,
         0.6087638850789517,
         0.5991615638136863,
         0.5793209463357926,
         0.6197248110547662,
         0.5563902854919434,
         0.709230593778193,
         0.6754585456103086,
         0.623606008850038,
         0.685736383870244,
         0.584891595877707,
         0.5996420087292791,
         0.6292883142828941,
         0.7264870150014758,
         0.585833277227357,
         0.7098243769258261,
         0.6261394545435905,
         0.6355652031488717,
         0.6285487048327922,
         0.5796951940283179,
         0.5318075690418482,
         0.7429167445749044,
         0.6583808546885848,
         0.6088371716439724,
         0.5450726278591901,
         0.6132885731756688,
         0.5791792541742324,
         0.5356916101649404,
         0.557099979929626,
         0.6065329879056662,
         0.5635941026732325,
         0.66076083406806,
         0.6889423605054616,
         0.6669834580272436,
         0.6624661004170775
        ],
        [
         11.13785895332694,
         10.92442012950778,
         10.907756883651018,
         11.884965568780899,
         10.30135747231543,
         12.225883984006941,
         11.482458032667637,
         10.46850073710084,
         12.162916911765933,
         14.469690572470427,
         11.304606692865491,
         12.677180812694132,
         12.096014060080051,
         12.170253679156303,
         13.525208950042725,
         11.900461595505476,
         13.150182316079736,
         15.380784589797258,
         12.246542133390903,
         13.023119565099478,
         12.410447306931019,
         13.264247227460146,
         11.64768186956644,
         10.779667183756828,
         12.454913564026356,
         12.461477302014828,
         12.041322320699692,
         12.135360217653215,
         11.472495675086975,
         12.49658657796681,
         12.126522667706013,
         12.574391282629222,
         11.88821016997099,
         13.25588180590421,
         13.363872828893363,
         12.786295920610428,
         12.214477521367371,
         11.90755895525217,
         12.863955158740282,
         13.973244830965996,
         10.88237245567143,
         11.912298996001482,
         12.201373817399144,
         14.257599048316479,
         12.803285337984562,
         11.889955092221498,
         12.49247495830059,
         11.402371801435947,
         11.280084408819675,
         11.052830379456282,
         11.889795089140534,
         12.685966712422669,
         10.090381681919098,
         11.51652006432414,
         12.502397391945124,
         13.75842710211873,
         11.510884825140238,
         12.036721434444189,
         11.091610800474882,
         10.605661544948816,
         12.185411266982555,
         11.279399678111076,
         11.436724841594696,
         10.821267373859882,
         13.038563281297684,
         12.622660867869854,
         12.175277701579034,
         11.983231276273727,
         11.58641892671585,
         12.394496221095324,
         11.127805709838867,
         14.18461187556386,
         13.509170912206173,
         12.472120177000761,
         13.71472767740488,
         11.69783191755414,
         11.99284017458558,
         12.585766285657883,
         14.529740300029516,
         11.71666554454714,
         14.196487538516521,
         12.522789090871811,
         12.711304062977433,
         12.570974096655846,
         11.593903880566359,
         10.636151380836964,
         14.858334891498089,
         13.167617093771696,
         12.176743432879448,
         10.901452557183802,
         12.265771463513374,
         11.58358508348465,
         10.713832203298807,
         11.14199959859252,
         12.130659758113325,
         11.271882053464651,
         13.215216681361198,
         13.778847210109234,
         13.339669160544872,
         13.24932200834155
        ],
        [
         3.521987762456851,
         3.5197967742882854,
         3.288880536841263,
         3.818615724867074,
         3.3837248511175844,
         3.7129567099479055,
         3.358755918016442,
         3.5803580951036036,
         3.663231001663343,
         4.222941381637968,
         3.3730174013908414,
         3.9114639709678567,
         3.8987933540338284,
         3.584757043508077,
         4.796241230380074,
         3.5912337633121387,
         3.9389850094701395,
         5.488554994810262,
         3.7223796610966953,
         3.851799697454455,
         3.823659701232629,
         3.8212777194122167,
         3.555997704491003,
         3.446276681492081,
         3.617026793520897,
         3.617511616577402,
         3.6141819440846397,
         3.7178497402158737,
         3.4734740890811175,
         3.6370226170913846,
         3.7646906890825917,
         3.7041009687419755,
         3.7632825334239097,
         3.762744056785376,
         3.928474135549637,
         4.010400518857846,
         3.6674451953141616,
         3.6601681007570677,
         3.9922482565180593,
         4.187280817404716,
         3.351970258736909,
         3.7627942328445805,
         3.826235590378366,
         4.104027404159327,
         3.8420010656315866,
         3.631103499860087,
         3.587147780003357,
         3.2065378847815076,
         3.2687931332762106,
         3.4573711782051504,
         3.492339882695828,
         3.9975504535599784,
         3.299932304011183,
         3.6448742834213332,
         3.811374437945787,
         3.8803304093898556,
         3.734706594329236,
         3.623604537138725,
         3.453633851782182,
         3.5291502058649336,
         3.9458321317499023,
         3.706900839004976,
         3.709163993310108,
         3.3753794269633115,
         3.84599545627774,
         3.8196449651309936,
         3.836519040868407,
         3.5012060860031995,
         3.5800494642621854,
         3.856877887992462,
         3.3816274982769974,
         3.9961114516777902,
         3.873180938443176,
         4.0726524481833986,
         4.099083646207787,
         3.5954387097128095,
         3.742313940035606,
         3.825749289372128,
         4.69886919154166,
         3.7391307776786666,
         4.1287517289977895,
         3.7912962388794575,
         3.744013680280077,
         3.6729844332807797,
         3.4492575510445898,
         3.4607540551125218,
         4.764696616513959,
         3.767955749848089,
         3.5875354727867843,
         3.267379505012109,
         3.8170123837613144,
         3.7270760362645365,
         3.3385467904800876,
         3.3599838140557394,
         3.949777645010576,
         3.740164684220733,
         3.7946124070592453,
         4.034267609084091,
         3.991649100526222,
         3.9102678256954584
        ]
       ],
       "encoder": "json",
       "name": "ABC_GAN_4 Metrics",
       "version": 1
      }
     },
     "metadata": {
      "scrapbook": {
       "data": true,
       "display": false,
       "name": "ABC_GAN_4 Metrics"
      }
     },
     "output_type": "display_data"
    },
    {
     "name": "stdout",
     "output_type": "stream",
     "text": [
      "MAE\n",
      "0.612251531113172\n"
     ]
    }
   ],
   "source": [
    "ABC_GAN4_metrics=ABC_train_test2.test_generator(gen4,test_data,prior_model,variance,bias,\"3\",device)\n",
    "sb.glue(\"ABC_GAN_4 Metrics\",ABC_GAN4_metrics)\n",
    "\n",
    "print(\"MAE\")\n",
    "print(mean(ABC_GAN4_metrics[1]))"
   ]
  },
  {
   "cell_type": "code",
   "execution_count": 26,
   "id": "7f7fccc8",
   "metadata": {
    "execution": {
     "iopub.execute_input": "2022-07-22T11:29:57.621136Z",
     "iopub.status.busy": "2022-07-22T11:29:57.620427Z",
     "iopub.status.idle": "2022-07-22T11:29:59.222858Z",
     "shell.execute_reply": "2022-07-22T11:29:59.221607Z"
    },
    "id": "c8e46b48",
    "papermill": {
     "duration": 1.660094,
     "end_time": "2022-07-22T11:29:59.226663",
     "exception": false,
     "start_time": "2022-07-22T11:29:57.566569",
     "status": "completed"
    },
    "tags": []
   },
   "outputs": [
    {
     "data": {
      "image/png": "[encoded data removed]",
      "text/plain": [
       "<Figure size 432x288 with 1 Axes>"
      ]
     },
     "metadata": {
      "needs_background": "light"
     },
     "output_type": "display_data"
    },
    {
     "data": {
      "image/png": "[encoded data removed]",
      "text/plain": [
       "<Figure size 432x288 with 1 Axes>"
      ]
     },
     "metadata": {
      "needs_background": "light"
     },
     "output_type": "display_data"
    },
    {
     "data": {
      "image/png": "[encoded data removed]",
      "text/plain": [
       "<Figure size 432x288 with 1 Axes>"
      ]
     },
     "metadata": {
      "needs_background": "light"
     },
     "output_type": "display_data"
    },
    {
     "data": {
      "image/png": "[encoded data removed]",
      "text/plain": [
       "<Figure size 432x288 with 1 Axes>"
      ]
     },
     "metadata": {
      "needs_background": "light"
     },
     "output_type": "display_data"
    }
   ],
   "source": [
    "sanityChecks.discProbVsError(train_data,disc4,device)\n",
    "sanityChecks.discProbVsError(test_data,disc4,device)"
   ]
  },
  {
   "cell_type": "markdown",
   "id": "a5bd74c3",
   "metadata": {
    "id": "a5bd74c3",
    "papermill": {
     "duration": 0.048404,
     "end_time": "2022-07-22T11:29:59.334663",
     "exception": false,
     "start_time": "2022-07-22T11:29:59.286259",
     "status": "completed"
    },
    "tags": []
   },
   "source": [
    "## Skip Connection Model Analysis - ABC-GAN "
   ]
  },
  {
   "cell_type": "markdown",
   "id": "5744a8bf",
   "metadata": {
    "id": "5744a8bf",
    "papermill": {
     "duration": 0.053031,
     "end_time": "2022-07-22T11:29:59.440870",
     "exception": false,
     "start_time": "2022-07-22T11:29:59.387839",
     "status": "completed"
    },
    "tags": []
   },
   "source": [
    "### Weight Analysis \n",
    "\n",
    "Study the weights of the skip connection layer\n",
    "\n",
    "Equation of the skip connection is \n",
    "\n",
    "$output = y_{gan} * w + y_{abc} * (1-w)$"
   ]
  },
  {
   "cell_type": "code",
   "execution_count": 27,
   "id": "52c31dea",
   "metadata": {
    "execution": {
     "iopub.execute_input": "2022-07-22T11:29:59.561613Z",
     "iopub.status.busy": "2022-07-22T11:29:59.560682Z",
     "iopub.status.idle": "2022-07-22T11:29:59.565993Z",
     "shell.execute_reply": "2022-07-22T11:29:59.564965Z"
    },
    "id": "52c31dea",
    "papermill": {
     "duration": 0.078305,
     "end_time": "2022-07-22T11:29:59.579319",
     "exception": false,
     "start_time": "2022-07-22T11:29:59.501014",
     "status": "completed"
    },
    "tags": []
   },
   "outputs": [],
   "source": [
    "# print(\"Weight of the node at skip connection\")\n",
    "# for name,param in gen3.named_parameters():\n",
    "#     if(name == \"skipNode.weight\"):\n",
    "#         print(param)\n",
    "#         sb.glue(\"Skip Connection Weight\",param.item())"
   ]
  },
  {
   "cell_type": "markdown",
   "id": "094ff00f",
   "metadata": {
    "id": "a5bd74c3",
    "papermill": {
     "duration": 0.048895,
     "end_time": "2022-07-22T11:29:59.689167",
     "exception": false,
     "start_time": "2022-07-22T11:29:59.640272",
     "status": "completed"
    },
    "tags": []
   },
   "source": [
    "## skipGAN Model Analysis (TabNet Generator) "
   ]
  },
  {
   "cell_type": "markdown",
   "id": "5393798d",
   "metadata": {
    "id": "5744a8bf",
    "papermill": {
     "duration": 0.066891,
     "end_time": "2022-07-22T11:29:59.808604",
     "exception": false,
     "start_time": "2022-07-22T11:29:59.741713",
     "status": "completed"
    },
    "tags": []
   },
   "source": [
    "### Weight Analysis \n",
    "\n",
    "Study the weights of the skip connection layer\n",
    "\n",
    "Equation of the skip connection is \n",
    "\n",
    "$output = y_{gan} * w + y_{abc} * (1-w)$"
   ]
  },
  {
   "cell_type": "code",
   "execution_count": 28,
   "id": "d040da14",
   "metadata": {
    "execution": {
     "iopub.execute_input": "2022-07-22T11:29:59.926729Z",
     "iopub.status.busy": "2022-07-22T11:29:59.926021Z",
     "iopub.status.idle": "2022-07-22T11:29:59.950967Z",
     "shell.execute_reply": "2022-07-22T11:29:59.949868Z"
    },
    "id": "52c31dea",
    "papermill": {
     "duration": 0.094412,
     "end_time": "2022-07-22T11:29:59.956435",
     "exception": false,
     "start_time": "2022-07-22T11:29:59.862023",
     "status": "completed"
    },
    "tags": []
   },
   "outputs": [
    {
     "name": "stdout",
     "output_type": "stream",
     "text": [
      "Weight of the node at skip connection\n",
      "Parameter containing:\n",
      "tensor([[0.9518]], requires_grad=True)\n"
     ]
    },
    {
     "data": {
      "application/scrapbook.scrap.json+json": {
       "data": 0.9518149495124817,
       "encoder": "json",
       "name": "Skip Connection Weight",
       "version": 1
      }
     },
     "metadata": {
      "scrapbook": {
       "data": true,
       "display": false,
       "name": "Skip Connection Weight"
      }
     },
     "output_type": "display_data"
    }
   ],
   "source": [
    "print(\"Weight of the node at skip connection\")\n",
    "for name,param in gen4.named_parameters():\n",
    "    if(name == \"skipNode.weight\"):\n",
    "        print(param)\n",
    "        sb.glue(\"Skip Connection Weight\",param.item())"
   ]
  }
 ],
 "metadata": {
  "colab": {
   "collapsed_sections": [],
   "name": "ABC_GAN_Model-Catboost_Pre-gen.ipynb",
   "provenance": []
  },
  "interpreter": {
   "hash": "31f2aee4e71d21fbe5cf8b01ff0e069b9275f58929596ceb00d14d90e3e16cd6"
  },
  "kernelspec": {
   "display_name": "Python 3 (ipykernel)",
   "language": "python",
   "name": "python3"
  },
  "language_info": {
   "codemirror_mode": {
    "name": "ipython",
    "version": 3
   },
   "file_extension": ".py",
   "mimetype": "text/x-python",
   "name": "python",
   "nbconvert_exporter": "python",
   "pygments_lexer": "ipython3",
   "version": "3.8.13"
  },
  "papermill": {
   "default_parameters": {},
   "duration": 581.562946,
   "end_time": "2022-07-22T11:30:01.084607",
   "environment_variables": {},
   "exception": null,
   "input_path": "ABC_GAN-TabNet.ipynb",
   "output_path": "./ABC_GAN_TabNet/ABC-GAN_output_3_0.ipynb",
   "parameters": {
    "bias": 1,
    "variance": 1
   },
   "start_time": "2022-07-22T11:20:19.521661",
   "version": "2.3.3"
  }
 },
 "nbformat": 4,
 "nbformat_minor": 5
}