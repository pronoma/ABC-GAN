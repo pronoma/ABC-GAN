{
 "cells": [
  {
   "cell_type": "markdown",
   "id": "622780e6",
   "metadata": {
    "id": "622780e6",
    "papermill": {
     "duration": 0.011334,
     "end_time": "2022-07-22T12:19:39.336672",
     "exception": false,
     "start_time": "2022-07-22T12:19:39.325338",
     "status": "completed"
    },
    "tags": []
   },
   "source": [
    "## Import Libraries "
   ]
  },
  {
   "cell_type": "code",
   "execution_count": 1,
   "id": "a62397e3",
   "metadata": {
    "execution": {
     "iopub.execute_input": "2022-07-22T12:19:39.366334Z",
     "iopub.status.busy": "2022-07-22T12:19:39.359408Z",
     "iopub.status.idle": "2022-07-22T12:19:39.388840Z",
     "shell.execute_reply": "2022-07-22T12:19:39.380387Z"
    },
    "id": "a62397e3",
    "papermill": {
     "duration": 0.050498,
     "end_time": "2022-07-22T12:19:39.396943",
     "exception": false,
     "start_time": "2022-07-22T12:19:39.346445",
     "status": "completed"
    },
    "tags": []
   },
   "outputs": [],
   "source": [
    "import warnings\n",
    "import sys\n",
    "sys.path.insert(0, '../../src')\n",
    "warnings.filterwarnings('ignore')"
   ]
  },
  {
   "cell_type": "code",
   "execution_count": 2,
   "id": "d6a4e155",
   "metadata": {
    "execution": {
     "iopub.execute_input": "2022-07-22T12:19:39.420217Z",
     "iopub.status.busy": "2022-07-22T12:19:39.419522Z",
     "iopub.status.idle": "2022-07-22T12:19:47.429054Z",
     "shell.execute_reply": "2022-07-22T12:19:47.427828Z"
    },
    "id": "d6a4e155",
    "papermill": {
     "duration": 8.023753,
     "end_time": "2022-07-22T12:19:47.431830",
     "exception": false,
     "start_time": "2022-07-22T12:19:39.408077",
     "status": "completed"
    },
    "tags": []
   },
   "outputs": [],
   "source": [
    "import ABC_train_test2\n",
    "import friedman3Dataset\n",
    "import network\n",
    "import dataset\n",
    "import sanityChecks\n",
    "import torch \n",
    "import scrapbook as sb\n",
    "from statistics import mean \n",
    "import catboost as ctb \n",
    "from sklearn.model_selection import train_test_split\n",
    "from sklearn.metrics import mean_squared_error,mean_absolute_error\n",
    "import numpy as np\n",
    "from pytorch_tabnet.tab_model import TabNetRegressor"
   ]
  },
  {
   "cell_type": "markdown",
   "id": "2fa5b0f7",
   "metadata": {
    "id": "2fa5b0f7",
    "papermill": {
     "duration": 0.007092,
     "end_time": "2022-07-22T12:19:47.447766",
     "exception": false,
     "start_time": "2022-07-22T12:19:47.440674",
     "status": "completed"
    },
    "tags": []
   },
   "source": [
    "## Parameters "
   ]
  },
  {
   "cell_type": "code",
   "execution_count": 3,
   "id": "783186fb",
   "metadata": {
    "execution": {
     "iopub.execute_input": "2022-07-22T12:19:47.471901Z",
     "iopub.status.busy": "2022-07-22T12:19:47.471190Z",
     "iopub.status.idle": "2022-07-22T12:19:47.478176Z",
     "shell.execute_reply": "2022-07-22T12:19:47.476382Z"
    },
    "id": "783186fb",
    "papermill": {
     "duration": 0.027943,
     "end_time": "2022-07-22T12:19:47.482937",
     "exception": false,
     "start_time": "2022-07-22T12:19:47.454994",
     "status": "completed"
    },
    "tags": [
     "parameters"
    ]
   },
   "outputs": [],
   "source": [
    "variance = 1\n",
    "bias = 1 "
   ]
  },
  {
   "cell_type": "code",
   "execution_count": 4,
   "id": "83fae618",
   "metadata": {
    "execution": {
     "iopub.execute_input": "2022-07-22T12:19:47.499957Z",
     "iopub.status.busy": "2022-07-22T12:19:47.499310Z",
     "iopub.status.idle": "2022-07-22T12:19:47.504432Z",
     "shell.execute_reply": "2022-07-22T12:19:47.503328Z"
    },
    "papermill": {
     "duration": 0.020823,
     "end_time": "2022-07-22T12:19:47.511257",
     "exception": false,
     "start_time": "2022-07-22T12:19:47.490434",
     "status": "completed"
    },
    "tags": [
     "injected-parameters"
    ]
   },
   "outputs": [],
   "source": [
    "# Parameters\n",
    "variance = 0.01\n",
    "bias = 0.01\n"
   ]
  },
  {
   "cell_type": "markdown",
   "id": "391cdbfd",
   "metadata": {
    "id": "391cdbfd",
    "papermill": {
     "duration": 0.007776,
     "end_time": "2022-07-22T12:19:47.526524",
     "exception": false,
     "start_time": "2022-07-22T12:19:47.518748",
     "status": "completed"
    },
    "tags": []
   },
   "source": [
    "## Dataset \n"
   ]
  },
  {
   "cell_type": "code",
   "execution_count": 5,
   "id": "5b51f161",
   "metadata": {
    "execution": {
     "iopub.execute_input": "2022-07-22T12:19:47.544498Z",
     "iopub.status.busy": "2022-07-22T12:19:47.544002Z",
     "iopub.status.idle": "2022-07-22T12:19:47.549374Z",
     "shell.execute_reply": "2022-07-22T12:19:47.548341Z"
    },
    "id": "5b51f161",
    "papermill": {
     "duration": 0.018163,
     "end_time": "2022-07-22T12:19:47.552773",
     "exception": false,
     "start_time": "2022-07-22T12:19:47.534610",
     "status": "completed"
    },
    "tags": []
   },
   "outputs": [],
   "source": [
    "#Parameters \n",
    "n_features = 4\n",
    "n_samples= 100\n",
    "n_target = 1"
   ]
  },
  {
   "cell_type": "code",
   "execution_count": 6,
   "id": "5d6eced4",
   "metadata": {
    "execution": {
     "iopub.execute_input": "2022-07-22T12:19:47.572340Z",
     "iopub.status.busy": "2022-07-22T12:19:47.571732Z",
     "iopub.status.idle": "2022-07-22T12:19:47.589601Z",
     "shell.execute_reply": "2022-07-22T12:19:47.588401Z"
    },
    "id": "5d6eced4",
    "papermill": {
     "duration": 0.031492,
     "end_time": "2022-07-22T12:19:47.592339",
     "exception": false,
     "start_time": "2022-07-22T12:19:47.560847",
     "status": "completed"
    },
    "tags": []
   },
   "outputs": [
    {
     "name": "stdout",
     "output_type": "stream",
     "text": [
      "          X1           X2        X3         X4         Y\n",
      "0  81.923646   285.876683  0.624645   1.770021  1.150299\n",
      "1  13.069116   871.952654  0.051976  10.188896  1.303879\n",
      "2  74.469773  1180.453330  0.894122   9.888377  1.348546\n",
      "3   7.200029  1456.879780  0.372203  10.607969  1.466525\n",
      "4  84.470823   319.495795  0.659174  10.179736  1.276091\n"
     ]
    }
   ],
   "source": [
    "X,Y = friedman3Dataset.friedman3_data(n_samples)"
   ]
  },
  {
   "cell_type": "code",
   "execution_count": 7,
   "id": "fe007438",
   "metadata": {
    "execution": {
     "iopub.execute_input": "2022-07-22T12:19:47.613397Z",
     "iopub.status.busy": "2022-07-22T12:19:47.612917Z",
     "iopub.status.idle": "2022-07-22T12:19:47.619443Z",
     "shell.execute_reply": "2022-07-22T12:19:47.618409Z"
    },
    "id": "fe007438",
    "papermill": {
     "duration": 0.021542,
     "end_time": "2022-07-22T12:19:47.623069",
     "exception": false,
     "start_time": "2022-07-22T12:19:47.601527",
     "status": "completed"
    },
    "tags": []
   },
   "outputs": [],
   "source": [
    "#Train test split for dataset \n",
    "X_train,X_test,Y_train,Y_test = train_test_split(X,Y,test_size = 0.2)\n",
    "train_data = dataset.CustomDataset(X_train,Y_train)\n",
    "test_data = dataset.CustomDataset(X_test,Y_test)\n"
   ]
  },
  {
   "cell_type": "markdown",
   "id": "a9a1af34",
   "metadata": {
    "id": "a9a1af34",
    "papermill": {
     "duration": 0.007564,
     "end_time": "2022-07-22T12:19:47.637906",
     "exception": false,
     "start_time": "2022-07-22T12:19:47.630342",
     "status": "completed"
    },
    "tags": []
   },
   "source": [
    "## Training Parameters "
   ]
  },
  {
   "cell_type": "code",
   "execution_count": 8,
   "id": "952b7fc8",
   "metadata": {
    "execution": {
     "iopub.execute_input": "2022-07-22T12:19:47.655929Z",
     "iopub.status.busy": "2022-07-22T12:19:47.655097Z",
     "iopub.status.idle": "2022-07-22T12:19:47.660673Z",
     "shell.execute_reply": "2022-07-22T12:19:47.659718Z"
    },
    "id": "952b7fc8",
    "papermill": {
     "duration": 0.018563,
     "end_time": "2022-07-22T12:19:47.664383",
     "exception": false,
     "start_time": "2022-07-22T12:19:47.645820",
     "status": "completed"
    },
    "tags": []
   },
   "outputs": [],
   "source": [
    "batch_size = 32\n",
    "n_epochs = 1000\n",
    "#Select the device \n",
    "device = torch.device('cuda' if torch.cuda.is_available() else 'cpu')"
   ]
  },
  {
   "cell_type": "markdown",
   "id": "a95e1600",
   "metadata": {
    "id": "a95e1600",
    "papermill": {
     "duration": 0.007893,
     "end_time": "2022-07-22T12:19:47.682151",
     "exception": false,
     "start_time": "2022-07-22T12:19:47.674258",
     "status": "completed"
    },
    "tags": []
   },
   "source": [
    "# ABC Pre-generator Model \n",
    "\n",
    "1. The catboost model is used as a pre-generator model for the ABC-GAN. \n",
    "2. The model is first trained on the entire dataset \n",
    "3. It generats X,Y pairs and we add some Gaussian noise with mean 0 and variance 1 to it which is then feed as input to the generator.\n"
   ]
  },
  {
   "cell_type": "code",
   "execution_count": 9,
   "id": "ac011ebf",
   "metadata": {
    "execution": {
     "iopub.execute_input": "2022-07-22T12:19:47.700473Z",
     "iopub.status.busy": "2022-07-22T12:19:47.699871Z",
     "iopub.status.idle": "2022-07-22T12:20:49.304785Z",
     "shell.execute_reply": "2022-07-22T12:20:49.301828Z"
    },
    "papermill": {
     "duration": 61.621488,
     "end_time": "2022-07-22T12:20:49.311642",
     "exception": false,
     "start_time": "2022-07-22T12:19:47.690154",
     "status": "completed"
    },
    "tags": []
   },
   "outputs": [
    {
     "name": "stdout",
     "output_type": "stream",
     "text": [
      "Device used : cpu\n"
     ]
    },
    {
     "name": "stdout",
     "output_type": "stream",
     "text": [
      "epoch 0  | loss: 1.00663 | train_mse: 5.33972 | train_mae: 1.66504 |  0:00:00s\n",
      "epoch 1  | loss: 1.15024 | train_mse: 3.53714 | train_mae: 1.41518 |  0:00:00s\n",
      "epoch 2  | loss: 1.10526 | train_mse: 2.93483 | train_mae: 1.32859 |  0:00:00s\n"
     ]
    },
    {
     "name": "stdout",
     "output_type": "stream",
     "text": [
      "epoch 3  | loss: 0.80684 | train_mse: 2.51842 | train_mae: 1.21772 |  0:00:00s\n",
      "epoch 4  | loss: 0.85673 | train_mse: 2.23862 | train_mae: 1.13256 |  0:00:00s\n",
      "epoch 5  | loss: 0.87169 | train_mse: 1.96689 | train_mae: 1.03751 |  0:00:00s\n"
     ]
    },
    {
     "name": "stdout",
     "output_type": "stream",
     "text": [
      "epoch 6  | loss: 0.90457 | train_mse: 1.80411 | train_mae: 0.98899 |  0:00:00s\n",
      "epoch 7  | loss: 0.79588 | train_mse: 1.64163 | train_mae: 0.93091 |  0:00:00s\n",
      "epoch 8  | loss: 0.94466 | train_mse: 1.52782 | train_mae: 0.90199 |  0:00:01s\n"
     ]
    },
    {
     "name": "stdout",
     "output_type": "stream",
     "text": [
      "epoch 9  | loss: 0.75475 | train_mse: 1.38752 | train_mae: 0.86985 |  0:00:01s\n",
      "epoch 10 | loss: 0.78275 | train_mse: 1.25215 | train_mae: 0.81769 |  0:00:01s\n"
     ]
    },
    {
     "name": "stdout",
     "output_type": "stream",
     "text": [
      "epoch 11 | loss: 0.65938 | train_mse: 1.12505 | train_mae: 0.7745  |  0:00:01s\n",
      "epoch 12 | loss: 0.64441 | train_mse: 0.92772 | train_mae: 0.71124 |  0:00:01s\n"
     ]
    },
    {
     "name": "stdout",
     "output_type": "stream",
     "text": [
      "epoch 13 | loss: 0.70349 | train_mse: 0.83663 | train_mae: 0.67368 |  0:00:01s\n",
      "epoch 14 | loss: 0.71138 | train_mse: 0.77246 | train_mae: 0.6528  |  0:00:01s\n"
     ]
    },
    {
     "name": "stdout",
     "output_type": "stream",
     "text": [
      "epoch 15 | loss: 0.57926 | train_mse: 0.69149 | train_mae: 0.6283  |  0:00:02s\n",
      "epoch 16 | loss: 0.60872 | train_mse: 0.64168 | train_mae: 0.60982 |  0:00:02s\n"
     ]
    },
    {
     "name": "stdout",
     "output_type": "stream",
     "text": [
      "epoch 17 | loss: 0.5697  | train_mse: 0.63846 | train_mae: 0.61543 |  0:00:02s\n",
      "epoch 18 | loss: 0.5667  | train_mse: 0.60846 | train_mae: 0.59805 |  0:00:02s\n",
      "epoch 19 | loss: 0.49495 | train_mse: 0.57821 | train_mae: 0.58236 |  0:00:02s"
     ]
    },
    {
     "name": "stdout",
     "output_type": "stream",
     "text": [
      "\n",
      "epoch 20 | loss: 0.62501 | train_mse: 0.5522  | train_mae: 0.56913 |  0:00:02s\n"
     ]
    },
    {
     "name": "stdout",
     "output_type": "stream",
     "text": [
      "epoch 21 | loss: 0.73697 | train_mse: 0.53062 | train_mae: 0.55895 |  0:00:02s\n",
      "epoch 22 | loss: 0.68887 | train_mse: 0.50415 | train_mae: 0.54209 |  0:00:02s\n"
     ]
    },
    {
     "name": "stdout",
     "output_type": "stream",
     "text": [
      "epoch 23 | loss: 0.49973 | train_mse: 0.48295 | train_mae: 0.53179 |  0:00:03s\n",
      "epoch 24 | loss: 0.61069 | train_mse: 0.46565 | train_mae: 0.51981 |  0:00:03s\n"
     ]
    },
    {
     "name": "stdout",
     "output_type": "stream",
     "text": [
      "epoch 25 | loss: 0.52895 | train_mse: 0.4563  | train_mae: 0.51408 |  0:00:03s\n",
      "epoch 26 | loss: 0.49179 | train_mse: 0.44887 | train_mae: 0.50874 |  0:00:03s\n"
     ]
    },
    {
     "name": "stdout",
     "output_type": "stream",
     "text": [
      "epoch 27 | loss: 0.35391 | train_mse: 0.43197 | train_mae: 0.50229 |  0:00:03s\n",
      "epoch 28 | loss: 0.4796  | train_mse: 0.42004 | train_mae: 0.4968  |  0:00:03s\n"
     ]
    },
    {
     "name": "stdout",
     "output_type": "stream",
     "text": [
      "epoch 29 | loss: 0.4704  | train_mse: 0.40982 | train_mae: 0.49268 |  0:00:03s\n",
      "epoch 30 | loss: 0.37265 | train_mse: 0.39625 | train_mae: 0.48704 |  0:00:03s\n"
     ]
    },
    {
     "name": "stdout",
     "output_type": "stream",
     "text": [
      "epoch 31 | loss: 0.49358 | train_mse: 0.38403 | train_mae: 0.47983 |  0:00:04s\n",
      "epoch 32 | loss: 0.30815 | train_mse: 0.37539 | train_mae: 0.47842 |  0:00:04s\n"
     ]
    },
    {
     "name": "stdout",
     "output_type": "stream",
     "text": [
      "epoch 33 | loss: 0.41568 | train_mse: 0.3689  | train_mae: 0.47697 |  0:00:04s\n",
      "epoch 34 | loss: 0.42509 | train_mse: 0.3634  | train_mae: 0.47491 |  0:00:04s\n"
     ]
    },
    {
     "name": "stdout",
     "output_type": "stream",
     "text": [
      "epoch 35 | loss: 0.36853 | train_mse: 0.35458 | train_mae: 0.46961 |  0:00:04s\n",
      "epoch 36 | loss: 0.45402 | train_mse: 0.34343 | train_mae: 0.4614  |  0:00:04s\n"
     ]
    },
    {
     "name": "stdout",
     "output_type": "stream",
     "text": [
      "epoch 37 | loss: 0.60389 | train_mse: 0.33212 | train_mae: 0.45169 |  0:00:04s\n",
      "epoch 38 | loss: 0.39336 | train_mse: 0.32498 | train_mae: 0.4466  |  0:00:04s\n"
     ]
    },
    {
     "name": "stdout",
     "output_type": "stream",
     "text": [
      "epoch 39 | loss: 0.40764 | train_mse: 0.31664 | train_mae: 0.44156 |  0:00:05s\n",
      "epoch 40 | loss: 0.44165 | train_mse: 0.31435 | train_mae: 0.43925 |  0:00:05s\n",
      "epoch 41 | loss: 0.38234 | train_mse: 0.30688 | train_mae: 0.43181 |  0:00:05s\n"
     ]
    },
    {
     "name": "stdout",
     "output_type": "stream",
     "text": [
      "epoch 42 | loss: 0.42681 | train_mse: 0.30272 | train_mae: 0.42918 |  0:00:05s\n",
      "epoch 43 | loss: 0.63913 | train_mse: 0.29723 | train_mae: 0.42635 |  0:00:05s\n",
      "epoch 44 | loss: 0.46648 | train_mse: 0.29559 | train_mae: 0.42788 |  0:00:05s\n"
     ]
    },
    {
     "name": "stdout",
     "output_type": "stream",
     "text": [
      "epoch 45 | loss: 0.32802 | train_mse: 0.29089 | train_mae: 0.42376 |  0:00:05s\n",
      "epoch 46 | loss: 0.28069 | train_mse: 0.28633 | train_mae: 0.42094 |  0:00:05s\n",
      "epoch 47 | loss: 0.36698 | train_mse: 0.2831  | train_mae: 0.42047 |  0:00:05s\n"
     ]
    },
    {
     "name": "stdout",
     "output_type": "stream",
     "text": [
      "epoch 48 | loss: 0.52515 | train_mse: 0.28323 | train_mae: 0.42324 |  0:00:05s\n",
      "epoch 49 | loss: 0.40443 | train_mse: 0.28514 | train_mae: 0.42585 |  0:00:05s\n",
      "epoch 50 | loss: 0.2963  | train_mse: 0.28744 | train_mae: 0.425   |  0:00:06s\n"
     ]
    },
    {
     "name": "stdout",
     "output_type": "stream",
     "text": [
      "epoch 51 | loss: 0.3457  | train_mse: 0.28989 | train_mae: 0.42656 |  0:00:06s\n",
      "epoch 52 | loss: 0.3322  | train_mse: 0.27884 | train_mae: 0.41903 |  0:00:06s\n",
      "epoch 53 | loss: 0.34952 | train_mse: 0.27099 | train_mae: 0.40929 |  0:00:06s\n"
     ]
    },
    {
     "name": "stdout",
     "output_type": "stream",
     "text": [
      "epoch 54 | loss: 0.34167 | train_mse: 0.26858 | train_mae: 0.40929 |  0:00:06s\n",
      "epoch 55 | loss: 0.42855 | train_mse: 0.26541 | train_mae: 0.40833 |  0:00:06s\n",
      "epoch 56 | loss: 0.35501 | train_mse: 0.25857 | train_mae: 0.40114 |  0:00:06s\n"
     ]
    },
    {
     "name": "stdout",
     "output_type": "stream",
     "text": [
      "epoch 57 | loss: 0.34078 | train_mse: 0.25943 | train_mae: 0.40256 |  0:00:06s\n",
      "epoch 58 | loss: 0.41552 | train_mse: 0.29305 | train_mae: 0.42086 |  0:00:06s\n",
      "epoch 59 | loss: 0.2919  | train_mse: 0.27359 | train_mae: 0.41081 |  0:00:06s\n"
     ]
    },
    {
     "name": "stdout",
     "output_type": "stream",
     "text": [
      "epoch 60 | loss: 0.24561 | train_mse: 0.256   | train_mae: 0.39803 |  0:00:06s\n",
      "epoch 61 | loss: 0.32774 | train_mse: 0.25084 | train_mae: 0.39368 |  0:00:07s\n",
      "epoch 62 | loss: 0.40477 | train_mse: 0.24153 | train_mae: 0.38255 |  0:00:07s\n"
     ]
    },
    {
     "name": "stdout",
     "output_type": "stream",
     "text": [
      "epoch 63 | loss: 0.28218 | train_mse: 0.23779 | train_mae: 0.3786  |  0:00:07s\n",
      "epoch 64 | loss: 0.26439 | train_mse: 0.23451 | train_mae: 0.37426 |  0:00:07s\n",
      "epoch 65 | loss: 0.39108 | train_mse: 0.233   | train_mae: 0.3701  |  0:00:07s\n"
     ]
    },
    {
     "name": "stdout",
     "output_type": "stream",
     "text": [
      "epoch 66 | loss: 0.46775 | train_mse: 0.23434 | train_mae: 0.36934 |  0:00:07s\n",
      "epoch 67 | loss: 0.24132 | train_mse: 0.2349  | train_mae: 0.36925 |  0:00:07s\n"
     ]
    },
    {
     "name": "stdout",
     "output_type": "stream",
     "text": [
      "epoch 68 | loss: 0.31304 | train_mse: 0.23726 | train_mae: 0.37186 |  0:00:07s\n",
      "epoch 69 | loss: 0.22696 | train_mse: 0.22899 | train_mae: 0.36441 |  0:00:07s\n",
      "epoch 70 | loss: 0.36842 | train_mse: 0.22644 | train_mae: 0.36698 |  0:00:07s\n"
     ]
    },
    {
     "name": "stdout",
     "output_type": "stream",
     "text": [
      "epoch 71 | loss: 0.41712 | train_mse: 0.22566 | train_mae: 0.36779 |  0:00:07s\n",
      "epoch 72 | loss: 0.246   | train_mse: 0.2249  | train_mae: 0.36667 |  0:00:08s\n",
      "epoch 73 | loss: 0.28382 | train_mse: 0.22829 | train_mae: 0.37222 |  0:00:08s\n"
     ]
    },
    {
     "name": "stdout",
     "output_type": "stream",
     "text": [
      "epoch 74 | loss: 0.38292 | train_mse: 0.22632 | train_mae: 0.3693  |  0:00:08s\n",
      "epoch 75 | loss: 0.31862 | train_mse: 0.22679 | train_mae: 0.37276 |  0:00:08s\n",
      "epoch 76 | loss: 0.38155 | train_mse: 0.22227 | train_mae: 0.37021 |  0:00:08s\n"
     ]
    },
    {
     "name": "stdout",
     "output_type": "stream",
     "text": [
      "epoch 77 | loss: 0.26377 | train_mse: 0.21913 | train_mae: 0.36828 |  0:00:08s\n",
      "epoch 78 | loss: 0.19597 | train_mse: 0.21839 | train_mae: 0.36893 |  0:00:08s\n"
     ]
    },
    {
     "name": "stdout",
     "output_type": "stream",
     "text": [
      "epoch 79 | loss: 0.46913 | train_mse: 0.21573 | train_mae: 0.36403 |  0:00:08s\n",
      "epoch 80 | loss: 0.22419 | train_mse: 0.21479 | train_mae: 0.36206 |  0:00:08s\n",
      "epoch 81 | loss: 0.26065 | train_mse: 0.21478 | train_mae: 0.36177 |  0:00:08s\n"
     ]
    },
    {
     "name": "stdout",
     "output_type": "stream",
     "text": [
      "epoch 82 | loss: 0.26821 | train_mse: 0.20915 | train_mae: 0.35717 |  0:00:08s\n",
      "epoch 83 | loss: 0.2724  | train_mse: 0.20546 | train_mae: 0.35637 |  0:00:09s\n",
      "epoch 84 | loss: 0.32992 | train_mse: 0.20471 | train_mae: 0.35735 |  0:00:09s\n"
     ]
    },
    {
     "name": "stdout",
     "output_type": "stream",
     "text": [
      "epoch 85 | loss: 0.33355 | train_mse: 0.21076 | train_mae: 0.36016 |  0:00:09s\n",
      "epoch 86 | loss: 0.28657 | train_mse: 0.21117 | train_mae: 0.35917 |  0:00:09s\n",
      "epoch 87 | loss: 0.34737 | train_mse: 0.20336 | train_mae: 0.35475 |  0:00:09s\n"
     ]
    },
    {
     "name": "stdout",
     "output_type": "stream",
     "text": [
      "epoch 88 | loss: 0.30559 | train_mse: 0.1998  | train_mae: 0.35334 |  0:00:09s\n",
      "epoch 89 | loss: 0.26519 | train_mse: 0.19475 | train_mae: 0.34904 |  0:00:09s\n",
      "epoch 90 | loss: 0.27109 | train_mse: 0.18906 | train_mae: 0.34274 |  0:00:09s\n"
     ]
    },
    {
     "name": "stdout",
     "output_type": "stream",
     "text": [
      "epoch 91 | loss: 0.32878 | train_mse: 0.18701 | train_mae: 0.34174 |  0:00:09s\n",
      "epoch 92 | loss: 0.20082 | train_mse: 0.18559 | train_mae: 0.33827 |  0:00:09s\n"
     ]
    },
    {
     "name": "stdout",
     "output_type": "stream",
     "text": [
      "epoch 93 | loss: 0.2919  | train_mse: 0.18584 | train_mae: 0.3397  |  0:00:09s\n",
      "epoch 94 | loss: 0.324   | train_mse: 0.18339 | train_mae: 0.33747 |  0:00:10s\n",
      "epoch 95 | loss: 0.22114 | train_mse: 0.18232 | train_mae: 0.33784 |  0:00:10s\n"
     ]
    },
    {
     "name": "stdout",
     "output_type": "stream",
     "text": [
      "epoch 96 | loss: 0.29731 | train_mse: 0.18307 | train_mae: 0.33889 |  0:00:10s\n",
      "epoch 97 | loss: 0.21207 | train_mse: 0.18417 | train_mae: 0.33954 |  0:00:10s\n",
      "epoch 98 | loss: 0.28449 | train_mse: 0.18585 | train_mae: 0.34141 |  0:00:10s\n"
     ]
    },
    {
     "name": "stdout",
     "output_type": "stream",
     "text": [
      "epoch 99 | loss: 0.25227 | train_mse: 0.18279 | train_mae: 0.33904 |  0:00:10s\n",
      "epoch 100| loss: 0.26409 | train_mse: 0.17527 | train_mae: 0.33431 |  0:00:10s\n"
     ]
    },
    {
     "name": "stdout",
     "output_type": "stream",
     "text": [
      "epoch 101| loss: 0.37294 | train_mse: 0.1708  | train_mae: 0.33068 |  0:00:10s\n",
      "epoch 102| loss: 0.3856  | train_mse: 0.17025 | train_mae: 0.33279 |  0:00:10s\n",
      "epoch 103| loss: 0.20633 | train_mse: 0.16888 | train_mae: 0.33195 |  0:00:10s\n"
     ]
    },
    {
     "name": "stdout",
     "output_type": "stream",
     "text": [
      "epoch 104| loss: 0.27693 | train_mse: 0.1698  | train_mae: 0.33218 |  0:00:10s\n",
      "epoch 105| loss: 0.50231 | train_mse: 0.17665 | train_mae: 0.33797 |  0:00:10s\n",
      "epoch 106| loss: 0.2889  | train_mse: 0.17161 | train_mae: 0.3349  |  0:00:11s\n"
     ]
    },
    {
     "name": "stdout",
     "output_type": "stream",
     "text": [
      "epoch 107| loss: 0.22002 | train_mse: 0.17097 | train_mae: 0.33561 |  0:00:11s\n",
      "epoch 108| loss: 0.21519 | train_mse: 0.17047 | train_mae: 0.33267 |  0:00:11s\n",
      "epoch 109| loss: 0.20649 | train_mse: 0.16742 | train_mae: 0.32842 |  0:00:11s\n"
     ]
    },
    {
     "name": "stdout",
     "output_type": "stream",
     "text": [
      "epoch 110| loss: 0.20974 | train_mse: 0.16746 | train_mae: 0.32915 |  0:00:11s\n",
      "epoch 111| loss: 0.24741 | train_mse: 0.16977 | train_mae: 0.3307  |  0:00:11s\n",
      "epoch 112| loss: 0.1882  | train_mse: 0.16783 | train_mae: 0.32867 |  0:00:11s\n"
     ]
    },
    {
     "name": "stdout",
     "output_type": "stream",
     "text": [
      "epoch 113| loss: 0.17628 | train_mse: 0.16392 | train_mae: 0.32752 |  0:00:11s\n",
      "epoch 114| loss: 0.24599 | train_mse: 0.16242 | train_mae: 0.32761 |  0:00:11s\n",
      "epoch 115| loss: 0.2957  | train_mse: 0.15815 | train_mae: 0.32339 |  0:00:11s\n"
     ]
    },
    {
     "name": "stdout",
     "output_type": "stream",
     "text": [
      "epoch 116| loss: 0.26266 | train_mse: 0.15359 | train_mae: 0.3195  |  0:00:11s\n",
      "epoch 117| loss: 0.1926  | train_mse: 0.1504  | train_mae: 0.31661 |  0:00:12s\n",
      "epoch 118| loss: 0.24227 | train_mse: 0.14608 | train_mae: 0.31077 |  0:00:12s\n"
     ]
    },
    {
     "name": "stdout",
     "output_type": "stream",
     "text": [
      "epoch 119| loss: 0.25831 | train_mse: 0.14409 | train_mae: 0.30926 |  0:00:12s\n",
      "epoch 120| loss: 0.21117 | train_mse: 0.139   | train_mae: 0.30344 |  0:00:12s\n",
      "epoch 121| loss: 0.26574 | train_mse: 0.13494 | train_mae: 0.29901 |  0:00:12s\n"
     ]
    },
    {
     "name": "stdout",
     "output_type": "stream",
     "text": [
      "epoch 122| loss: 0.31743 | train_mse: 0.13526 | train_mae: 0.29961 |  0:00:12s\n",
      "epoch 123| loss: 0.15531 | train_mse: 0.13514 | train_mae: 0.29888 |  0:00:12s\n",
      "epoch 124| loss: 0.24857 | train_mse: 0.13203 | train_mae: 0.2956  |  0:00:12s\n"
     ]
    },
    {
     "name": "stdout",
     "output_type": "stream",
     "text": [
      "epoch 125| loss: 0.25936 | train_mse: 0.13193 | train_mae: 0.29836 |  0:00:12s\n",
      "epoch 126| loss: 0.3038  | train_mse: 0.13105 | train_mae: 0.29957 |  0:00:12s\n"
     ]
    },
    {
     "name": "stdout",
     "output_type": "stream",
     "text": [
      "epoch 127| loss: 0.23077 | train_mse: 0.1307  | train_mae: 0.30172 |  0:00:12s\n",
      "epoch 128| loss: 0.22602 | train_mse: 0.13063 | train_mae: 0.30247 |  0:00:13s\n",
      "epoch 129| loss: 0.30149 | train_mse: 0.13388 | train_mae: 0.30379 |  0:00:13s\n"
     ]
    },
    {
     "name": "stdout",
     "output_type": "stream",
     "text": [
      "epoch 130| loss: 0.28878 | train_mse: 0.13679 | train_mae: 0.30927 |  0:00:13s\n",
      "epoch 131| loss: 0.23258 | train_mse: 0.13711 | train_mae: 0.30783 |  0:00:13s\n",
      "epoch 132| loss: 0.2852  | train_mse: 0.13801 | train_mae: 0.30773 |  0:00:13s\n"
     ]
    },
    {
     "name": "stdout",
     "output_type": "stream",
     "text": [
      "epoch 133| loss: 0.18424 | train_mse: 0.14206 | train_mae: 0.30978 |  0:00:13s\n",
      "epoch 134| loss: 0.20356 | train_mse: 0.14197 | train_mae: 0.30849 |  0:00:13s\n",
      "epoch 135| loss: 0.27616 | train_mse: 0.14046 | train_mae: 0.30723 |  0:00:13s\n"
     ]
    },
    {
     "name": "stdout",
     "output_type": "stream",
     "text": [
      "epoch 136| loss: 0.14645 | train_mse: 0.14067 | train_mae: 0.30852 |  0:00:13s\n",
      "epoch 137| loss: 0.23508 | train_mse: 0.14055 | train_mae: 0.30762 |  0:00:13s\n",
      "epoch 138| loss: 0.18064 | train_mse: 0.14305 | train_mae: 0.31041 |  0:00:13s"
     ]
    },
    {
     "name": "stdout",
     "output_type": "stream",
     "text": [
      "\n",
      "epoch 139| loss: 0.26945 | train_mse: 0.14279 | train_mae: 0.30991 |  0:00:14s\n",
      "epoch 140| loss: 0.24149 | train_mse: 0.14258 | train_mae: 0.31015 |  0:00:14s\n"
     ]
    },
    {
     "name": "stdout",
     "output_type": "stream",
     "text": [
      "epoch 141| loss: 0.26459 | train_mse: 0.14319 | train_mae: 0.30983 |  0:00:14s\n",
      "epoch 142| loss: 0.25537 | train_mse: 0.14415 | train_mae: 0.31079 |  0:00:14s\n",
      "epoch 143| loss: 0.23157 | train_mse: 0.1407  | train_mae: 0.30678 |  0:00:14s\n"
     ]
    },
    {
     "name": "stdout",
     "output_type": "stream",
     "text": [
      "epoch 144| loss: 0.22758 | train_mse: 0.13376 | train_mae: 0.29998 |  0:00:14s\n",
      "epoch 145| loss: 0.21991 | train_mse: 0.13851 | train_mae: 0.30375 |  0:00:14s\n",
      "epoch 146| loss: 0.20633 | train_mse: 0.13652 | train_mae: 0.3004  |  0:00:14s\n"
     ]
    },
    {
     "name": "stdout",
     "output_type": "stream",
     "text": [
      "epoch 147| loss: 0.17039 | train_mse: 0.12811 | train_mae: 0.29512 |  0:00:14s\n",
      "epoch 148| loss: 0.25715 | train_mse: 0.12648 | train_mae: 0.29369 |  0:00:14s\n",
      "epoch 149| loss: 0.15623 | train_mse: 0.12945 | train_mae: 0.29674 |  0:00:14s\n"
     ]
    },
    {
     "name": "stdout",
     "output_type": "stream",
     "text": [
      "epoch 150| loss: 0.21262 | train_mse: 0.12463 | train_mae: 0.28876 |  0:00:14s\n",
      "epoch 151| loss: 0.23326 | train_mse: 0.13044 | train_mae: 0.29641 |  0:00:15s\n",
      "epoch 152| loss: 0.20654 | train_mse: 0.12983 | train_mae: 0.29518 |  0:00:15s\n"
     ]
    },
    {
     "name": "stdout",
     "output_type": "stream",
     "text": [
      "epoch 153| loss: 0.41717 | train_mse: 0.12658 | train_mae: 0.29088 |  0:00:15s\n",
      "epoch 154| loss: 0.2666  | train_mse: 0.12587 | train_mae: 0.29255 |  0:00:15s\n",
      "epoch 155| loss: 0.28247 | train_mse: 0.12329 | train_mae: 0.28678 |  0:00:15s\n"
     ]
    },
    {
     "name": "stdout",
     "output_type": "stream",
     "text": [
      "epoch 156| loss: 0.4574  | train_mse: 0.1225  | train_mae: 0.28558 |  0:00:15s\n",
      "epoch 157| loss: 0.26142 | train_mse: 0.12215 | train_mae: 0.2854  |  0:00:15s\n",
      "epoch 158| loss: 0.24591 | train_mse: 0.12267 | train_mae: 0.28419 |  0:00:15s\n"
     ]
    },
    {
     "name": "stdout",
     "output_type": "stream",
     "text": [
      "epoch 159| loss: 0.24009 | train_mse: 0.12171 | train_mae: 0.27994 |  0:00:15s\n",
      "epoch 160| loss: 0.15105 | train_mse: 0.12018 | train_mae: 0.27722 |  0:00:15s\n",
      "epoch 161| loss: 0.18063 | train_mse: 0.11877 | train_mae: 0.27574 |  0:00:15s\n"
     ]
    },
    {
     "name": "stdout",
     "output_type": "stream",
     "text": [
      "epoch 162| loss: 0.24181 | train_mse: 0.11803 | train_mae: 0.27644 |  0:00:16s\n",
      "epoch 163| loss: 0.23782 | train_mse: 0.11605 | train_mae: 0.27552 |  0:00:16s\n",
      "epoch 164| loss: 0.21992 | train_mse: 0.10962 | train_mae: 0.26959 |  0:00:16s\n"
     ]
    },
    {
     "name": "stdout",
     "output_type": "stream",
     "text": [
      "epoch 165| loss: 0.21811 | train_mse: 0.10764 | train_mae: 0.26559 |  0:00:16s\n",
      "epoch 166| loss: 0.10739 | train_mse: 0.10665 | train_mae: 0.26572 |  0:00:16s\n",
      "epoch 167| loss: 0.22493 | train_mse: 0.11116 | train_mae: 0.26992 |  0:00:16s\n"
     ]
    },
    {
     "name": "stdout",
     "output_type": "stream",
     "text": [
      "epoch 168| loss: 0.15444 | train_mse: 0.11131 | train_mae: 0.26972 |  0:00:16s\n",
      "epoch 169| loss: 0.1902  | train_mse: 0.10913 | train_mae: 0.26849 |  0:00:16s\n",
      "epoch 170| loss: 0.23099 | train_mse: 0.10436 | train_mae: 0.26144 |  0:00:16s\n"
     ]
    },
    {
     "name": "stdout",
     "output_type": "stream",
     "text": [
      "epoch 171| loss: 0.22775 | train_mse: 0.10485 | train_mae: 0.26018 |  0:00:16s\n",
      "epoch 172| loss: 0.23722 | train_mse: 0.10535 | train_mae: 0.26254 |  0:00:16s\n",
      "epoch 173| loss: 0.30251 | train_mse: 0.10566 | train_mae: 0.26307 |  0:00:16s\n"
     ]
    },
    {
     "name": "stdout",
     "output_type": "stream",
     "text": [
      "epoch 174| loss: 0.16888 | train_mse: 0.10079 | train_mae: 0.25693 |  0:00:17s\n",
      "epoch 175| loss: 0.2169  | train_mse: 0.09939 | train_mae: 0.25475 |  0:00:17s\n",
      "epoch 176| loss: 0.17453 | train_mse: 0.10064 | train_mae: 0.25795 |  0:00:17s\n"
     ]
    },
    {
     "name": "stdout",
     "output_type": "stream",
     "text": [
      "epoch 177| loss: 0.12561 | train_mse: 0.10264 | train_mae: 0.26163 |  0:00:17s\n",
      "epoch 178| loss: 0.19178 | train_mse: 0.10133 | train_mae: 0.25886 |  0:00:17s\n",
      "epoch 179| loss: 0.12533 | train_mse: 0.10085 | train_mae: 0.25847 |  0:00:17s\n"
     ]
    },
    {
     "name": "stdout",
     "output_type": "stream",
     "text": [
      "epoch 180| loss: 0.28657 | train_mse: 0.09927 | train_mae: 0.25524 |  0:00:17s\n",
      "epoch 181| loss: 0.28913 | train_mse: 0.10257 | train_mae: 0.25879 |  0:00:17s\n",
      "epoch 182| loss: 0.20359 | train_mse: 0.1036  | train_mae: 0.26017 |  0:00:17s\n"
     ]
    },
    {
     "name": "stdout",
     "output_type": "stream",
     "text": [
      "epoch 183| loss: 0.24609 | train_mse: 0.10304 | train_mae: 0.25836 |  0:00:17s\n",
      "epoch 184| loss: 0.16083 | train_mse: 0.10252 | train_mae: 0.25791 |  0:00:17s\n",
      "epoch 185| loss: 0.21214 | train_mse: 0.10216 | train_mae: 0.25906 |  0:00:18s\n"
     ]
    },
    {
     "name": "stdout",
     "output_type": "stream",
     "text": [
      "epoch 186| loss: 0.2675  | train_mse: 0.10416 | train_mae: 0.26262 |  0:00:18s\n",
      "epoch 187| loss: 0.17489 | train_mse: 0.10232 | train_mae: 0.26106 |  0:00:18s\n",
      "epoch 188| loss: 0.26431 | train_mse: 0.09924 | train_mae: 0.25542 |  0:00:18s\n"
     ]
    },
    {
     "name": "stdout",
     "output_type": "stream",
     "text": [
      "epoch 189| loss: 0.15475 | train_mse: 0.10041 | train_mae: 0.25754 |  0:00:18s\n",
      "epoch 190| loss: 0.17292 | train_mse: 0.09702 | train_mae: 0.25456 |  0:00:18s\n",
      "epoch 191| loss: 0.16944 | train_mse: 0.09726 | train_mae: 0.2553  |  0:00:18s\n"
     ]
    },
    {
     "name": "stdout",
     "output_type": "stream",
     "text": [
      "epoch 192| loss: 0.10387 | train_mse: 0.10062 | train_mae: 0.25886 |  0:00:18s\n",
      "epoch 193| loss: 0.22061 | train_mse: 0.09468 | train_mae: 0.25054 |  0:00:18s\n",
      "epoch 194| loss: 0.15028 | train_mse: 0.09448 | train_mae: 0.25036 |  0:00:18s\n"
     ]
    },
    {
     "name": "stdout",
     "output_type": "stream",
     "text": [
      "epoch 195| loss: 0.31214 | train_mse: 0.08712 | train_mae: 0.24163 |  0:00:18s\n",
      "epoch 196| loss: 0.15502 | train_mse: 0.0891  | train_mae: 0.24401 |  0:00:18s\n",
      "epoch 197| loss: 0.12547 | train_mse: 0.09712 | train_mae: 0.25391 |  0:00:19s\n"
     ]
    },
    {
     "name": "stdout",
     "output_type": "stream",
     "text": [
      "epoch 198| loss: 0.11545 | train_mse: 0.10093 | train_mae: 0.25982 |  0:00:19s\n",
      "epoch 199| loss: 0.18146 | train_mse: 0.10077 | train_mae: 0.26036 |  0:00:19s\n",
      "epoch 200| loss: 0.14265 | train_mse: 0.10027 | train_mae: 0.2592  |  0:00:19s\n"
     ]
    },
    {
     "name": "stdout",
     "output_type": "stream",
     "text": [
      "epoch 201| loss: 0.13941 | train_mse: 0.09861 | train_mae: 0.25548 |  0:00:19s\n",
      "epoch 202| loss: 0.3086  | train_mse: 0.1055  | train_mae: 0.26504 |  0:00:19s\n",
      "epoch 203| loss: 0.19467 | train_mse: 0.11634 | train_mae: 0.27019 |  0:00:19s\n"
     ]
    },
    {
     "name": "stdout",
     "output_type": "stream",
     "text": [
      "epoch 204| loss: 0.28756 | train_mse: 0.09891 | train_mae: 0.25605 |  0:00:19s\n",
      "epoch 205| loss: 0.16735 | train_mse: 0.10085 | train_mae: 0.25581 |  0:00:19s\n",
      "epoch 206| loss: 0.14489 | train_mse: 0.10219 | train_mae: 0.25404 |  0:00:19s\n"
     ]
    },
    {
     "name": "stdout",
     "output_type": "stream",
     "text": [
      "epoch 207| loss: 0.29331 | train_mse: 0.10214 | train_mae: 0.25369 |  0:00:19s\n",
      "epoch 208| loss: 0.14195 | train_mse: 0.10293 | train_mae: 0.2555  |  0:00:20s\n",
      "epoch 209| loss: 0.16476 | train_mse: 0.10542 | train_mae: 0.25899 |  0:00:20s\n"
     ]
    },
    {
     "name": "stdout",
     "output_type": "stream",
     "text": [
      "epoch 210| loss: 0.13005 | train_mse: 0.11117 | train_mae: 0.26421 |  0:00:20s\n",
      "epoch 211| loss: 0.19552 | train_mse: 0.1167  | train_mae: 0.26885 |  0:00:20s\n",
      "epoch 212| loss: 0.1502  | train_mse: 0.11696 | train_mae: 0.26944 |  0:00:20s\n"
     ]
    },
    {
     "name": "stdout",
     "output_type": "stream",
     "text": [
      "epoch 213| loss: 0.12498 | train_mse: 0.11543 | train_mae: 0.27119 |  0:00:20s\n",
      "epoch 214| loss: 0.14637 | train_mse: 0.12284 | train_mae: 0.27745 |  0:00:20s\n",
      "epoch 215| loss: 0.10348 | train_mse: 0.12104 | train_mae: 0.27676 |  0:00:20s"
     ]
    },
    {
     "name": "stdout",
     "output_type": "stream",
     "text": [
      "\n",
      "epoch 216| loss: 0.12724 | train_mse: 0.11878 | train_mae: 0.27492 |  0:00:20s\n",
      "epoch 217| loss: 0.19616 | train_mse: 0.11069 | train_mae: 0.26468 |  0:00:20s\n"
     ]
    },
    {
     "name": "stdout",
     "output_type": "stream",
     "text": [
      "epoch 218| loss: 0.16665 | train_mse: 0.10997 | train_mae: 0.26384 |  0:00:20s\n",
      "epoch 219| loss: 0.19396 | train_mse: 0.11052 | train_mae: 0.26724 |  0:00:20s\n",
      "epoch 220| loss: 0.15238 | train_mse: 0.11236 | train_mae: 0.27125 |  0:00:21s\n"
     ]
    },
    {
     "name": "stdout",
     "output_type": "stream",
     "text": [
      "epoch 221| loss: 0.13037 | train_mse: 0.11458 | train_mae: 0.27329 |  0:00:21s\n",
      "epoch 222| loss: 0.24104 | train_mse: 0.11601 | train_mae: 0.27335 |  0:00:21s\n",
      "epoch 223| loss: 0.13047 | train_mse: 0.11702 | train_mae: 0.27232 |  0:00:21s\n"
     ]
    },
    {
     "name": "stdout",
     "output_type": "stream",
     "text": [
      "epoch 224| loss: 0.28664 | train_mse: 0.11639 | train_mae: 0.27012 |  0:00:21s\n",
      "epoch 225| loss: 0.37679 | train_mse: 0.1146  | train_mae: 0.26668 |  0:00:21s\n",
      "epoch 226| loss: 0.18494 | train_mse: 0.11246 | train_mae: 0.26332 |  0:00:21s\n"
     ]
    },
    {
     "name": "stdout",
     "output_type": "stream",
     "text": [
      "epoch 227| loss: 0.17465 | train_mse: 0.10991 | train_mae: 0.26059 |  0:00:21s\n",
      "epoch 228| loss: 0.15858 | train_mse: 0.10831 | train_mae: 0.25637 |  0:00:21s\n",
      "epoch 229| loss: 0.25877 | train_mse: 0.11053 | train_mae: 0.25611 |  0:00:21s\n"
     ]
    },
    {
     "name": "stdout",
     "output_type": "stream",
     "text": [
      "epoch 230| loss: 0.13986 | train_mse: 0.10901 | train_mae: 0.25348 |  0:00:21s\n",
      "epoch 231| loss: 0.20742 | train_mse: 0.10507 | train_mae: 0.24754 |  0:00:21s\n",
      "epoch 232| loss: 0.13687 | train_mse: 0.10244 | train_mae: 0.24404 |  0:00:22s\n"
     ]
    },
    {
     "name": "stdout",
     "output_type": "stream",
     "text": [
      "epoch 233| loss: 0.18183 | train_mse: 0.1076  | train_mae: 0.24871 |  0:00:22s\n",
      "epoch 234| loss: 0.1448  | train_mse: 0.10758 | train_mae: 0.24824 |  0:00:22s\n",
      "epoch 235| loss: 0.13017 | train_mse: 0.10426 | train_mae: 0.24562 |  0:00:22s\n"
     ]
    },
    {
     "name": "stdout",
     "output_type": "stream",
     "text": [
      "epoch 236| loss: 0.19223 | train_mse: 0.09891 | train_mae: 0.23917 |  0:00:22s\n",
      "epoch 237| loss: 0.18421 | train_mse: 0.09983 | train_mae: 0.24041 |  0:00:22s\n"
     ]
    },
    {
     "name": "stdout",
     "output_type": "stream",
     "text": [
      "epoch 238| loss: 0.11648 | train_mse: 0.09718 | train_mae: 0.23652 |  0:00:22s\n",
      "epoch 239| loss: 0.16602 | train_mse: 0.09171 | train_mae: 0.22927 |  0:00:22s\n",
      "epoch 240| loss: 0.35265 | train_mse: 0.08945 | train_mae: 0.22576 |  0:00:22s\n"
     ]
    },
    {
     "name": "stdout",
     "output_type": "stream",
     "text": [
      "epoch 241| loss: 0.15819 | train_mse: 0.08595 | train_mae: 0.22324 |  0:00:22s\n",
      "epoch 242| loss: 0.14835 | train_mse: 0.08413 | train_mae: 0.22062 |  0:00:22s\n",
      "epoch 243| loss: 0.17338 | train_mse: 0.08465 | train_mae: 0.22376 |  0:00:23s\n"
     ]
    },
    {
     "name": "stdout",
     "output_type": "stream",
     "text": [
      "epoch 244| loss: 0.19236 | train_mse: 0.08576 | train_mae: 0.22531 |  0:00:23s\n",
      "epoch 245| loss: 0.20431 | train_mse: 0.08638 | train_mae: 0.22574 |  0:00:23s\n",
      "epoch 246| loss: 0.14839 | train_mse: 0.08543 | train_mae: 0.22395 |  0:00:23s\n"
     ]
    },
    {
     "name": "stdout",
     "output_type": "stream",
     "text": [
      "epoch 247| loss: 0.20509 | train_mse: 0.08626 | train_mae: 0.22491 |  0:00:23s\n",
      "epoch 248| loss: 0.17062 | train_mse: 0.08655 | train_mae: 0.2243  |  0:00:23s\n",
      "epoch 249| loss: 0.17382 | train_mse: 0.08888 | train_mae: 0.22722 |  0:00:23s\n"
     ]
    },
    {
     "name": "stdout",
     "output_type": "stream",
     "text": [
      "epoch 250| loss: 0.28284 | train_mse: 0.08918 | train_mae: 0.22718 |  0:00:23s\n",
      "epoch 251| loss: 0.21489 | train_mse: 0.09108 | train_mae: 0.23038 |  0:00:23s\n",
      "epoch 252| loss: 0.13619 | train_mse: 0.09551 | train_mae: 0.236   |  0:00:23s\n"
     ]
    },
    {
     "name": "stdout",
     "output_type": "stream",
     "text": [
      "epoch 253| loss: 0.12288 | train_mse: 0.09409 | train_mae: 0.23398 |  0:00:23s\n",
      "epoch 254| loss: 0.14157 | train_mse: 0.09319 | train_mae: 0.23288 |  0:00:23s\n",
      "epoch 255| loss: 0.16304 | train_mse: 0.09673 | train_mae: 0.23846 |  0:00:24s\n"
     ]
    },
    {
     "name": "stdout",
     "output_type": "stream",
     "text": [
      "epoch 256| loss: 0.15741 | train_mse: 0.09301 | train_mae: 0.23366 |  0:00:24s\n",
      "epoch 257| loss: 0.27394 | train_mse: 0.09088 | train_mae: 0.23198 |  0:00:24s\n",
      "epoch 258| loss: 0.09754 | train_mse: 0.08962 | train_mae: 0.22919 |  0:00:24s\n"
     ]
    },
    {
     "name": "stdout",
     "output_type": "stream",
     "text": [
      "epoch 259| loss: 0.14598 | train_mse: 0.08737 | train_mae: 0.22329 |  0:00:24s\n",
      "epoch 260| loss: 0.18186 | train_mse: 0.08787 | train_mae: 0.22405 |  0:00:24s\n",
      "epoch 261| loss: 0.1086  | train_mse: 0.08508 | train_mae: 0.22371 |  0:00:24s\n"
     ]
    },
    {
     "name": "stdout",
     "output_type": "stream",
     "text": [
      "epoch 262| loss: 0.19457 | train_mse: 0.08449 | train_mae: 0.22445 |  0:00:24s\n",
      "epoch 263| loss: 0.22354 | train_mse: 0.08404 | train_mae: 0.22526 |  0:00:24s\n",
      "epoch 264| loss: 0.20477 | train_mse: 0.08583 | train_mae: 0.22636 |  0:00:24s\n"
     ]
    },
    {
     "name": "stdout",
     "output_type": "stream",
     "text": [
      "epoch 265| loss: 0.16193 | train_mse: 0.08602 | train_mae: 0.22771 |  0:00:24s\n",
      "epoch 266| loss: 0.24917 | train_mse: 0.0873  | train_mae: 0.23129 |  0:00:24s\n",
      "epoch 267| loss: 0.14275 | train_mse: 0.08735 | train_mae: 0.23072 |  0:00:25s\n"
     ]
    },
    {
     "name": "stdout",
     "output_type": "stream",
     "text": [
      "epoch 268| loss: 0.09719 | train_mse: 0.08608 | train_mae: 0.22995 |  0:00:25s\n",
      "epoch 269| loss: 0.19952 | train_mse: 0.08852 | train_mae: 0.23441 |  0:00:25s\n",
      "epoch 270| loss: 0.16851 | train_mse: 0.08754 | train_mae: 0.23321 |  0:00:25s\n"
     ]
    },
    {
     "name": "stdout",
     "output_type": "stream",
     "text": [
      "epoch 271| loss: 0.19287 | train_mse: 0.08603 | train_mae: 0.23056 |  0:00:25s\n",
      "epoch 272| loss: 0.17494 | train_mse: 0.0816  | train_mae: 0.22461 |  0:00:25s\n",
      "epoch 273| loss: 0.14938 | train_mse: 0.07757 | train_mae: 0.21754 |  0:00:25s\n"
     ]
    },
    {
     "name": "stdout",
     "output_type": "stream",
     "text": [
      "epoch 274| loss: 0.14416 | train_mse: 0.07365 | train_mae: 0.20943 |  0:00:25s\n",
      "epoch 275| loss: 0.13247 | train_mse: 0.07394 | train_mae: 0.20965 |  0:00:25s\n",
      "epoch 276| loss: 0.12618 | train_mse: 0.07253 | train_mae: 0.20895 |  0:00:25s\n"
     ]
    },
    {
     "name": "stdout",
     "output_type": "stream",
     "text": [
      "epoch 277| loss: 0.148   | train_mse: 0.07394 | train_mae: 0.21004 |  0:00:25s\n",
      "epoch 278| loss: 0.18057 | train_mse: 0.07869 | train_mae: 0.21856 |  0:00:26s\n",
      "epoch 279| loss: 0.15245 | train_mse: 0.08202 | train_mae: 0.22495 |  0:00:26s\n"
     ]
    },
    {
     "name": "stdout",
     "output_type": "stream",
     "text": [
      "epoch 280| loss: 0.17101 | train_mse: 0.0851  | train_mae: 0.22964 |  0:00:26s\n",
      "epoch 281| loss: 0.16112 | train_mse: 0.08901 | train_mae: 0.23611 |  0:00:26s\n",
      "epoch 282| loss: 0.18682 | train_mse: 0.08811 | train_mae: 0.23566 |  0:00:26s\n"
     ]
    },
    {
     "name": "stdout",
     "output_type": "stream",
     "text": [
      "epoch 283| loss: 0.16937 | train_mse: 0.08779 | train_mae: 0.23627 |  0:00:26s\n",
      "epoch 284| loss: 0.14849 | train_mse: 0.08468 | train_mae: 0.23169 |  0:00:26s\n",
      "epoch 285| loss: 0.15787 | train_mse: 0.08025 | train_mae: 0.22472 |  0:00:26s\n"
     ]
    },
    {
     "name": "stdout",
     "output_type": "stream",
     "text": [
      "epoch 286| loss: 0.08864 | train_mse: 0.07847 | train_mae: 0.22176 |  0:00:26s\n",
      "epoch 287| loss: 0.13883 | train_mse: 0.07962 | train_mae: 0.22383 |  0:00:26s\n",
      "epoch 288| loss: 0.22041 | train_mse: 0.07994 | train_mae: 0.22356 |  0:00:26s\n"
     ]
    },
    {
     "name": "stdout",
     "output_type": "stream",
     "text": [
      "epoch 289| loss: 0.16676 | train_mse: 0.07821 | train_mae: 0.22044 |  0:00:26s\n",
      "epoch 290| loss: 0.09911 | train_mse: 0.07679 | train_mae: 0.21758 |  0:00:27s\n",
      "epoch 291| loss: 0.16294 | train_mse: 0.07537 | train_mae: 0.21476 |  0:00:27s\n"
     ]
    },
    {
     "name": "stdout",
     "output_type": "stream",
     "text": [
      "epoch 292| loss: 0.13089 | train_mse: 0.07617 | train_mae: 0.21457 |  0:00:27s\n",
      "epoch 293| loss: 0.13986 | train_mse: 0.07721 | train_mae: 0.21652 |  0:00:27s\n",
      "epoch 294| loss: 0.31731 | train_mse: 0.07703 | train_mae: 0.21462 |  0:00:27s\n"
     ]
    },
    {
     "name": "stdout",
     "output_type": "stream",
     "text": [
      "epoch 295| loss: 0.12687 | train_mse: 0.07984 | train_mae: 0.21707 |  0:00:27s\n",
      "epoch 296| loss: 0.14277 | train_mse: 0.07834 | train_mae: 0.21524 |  0:00:27s\n",
      "epoch 297| loss: 0.10078 | train_mse: 0.07789 | train_mae: 0.21526 |  0:00:27s\n"
     ]
    },
    {
     "name": "stdout",
     "output_type": "stream",
     "text": [
      "epoch 298| loss: 0.26406 | train_mse: 0.07699 | train_mae: 0.21271 |  0:00:27s\n",
      "epoch 299| loss: 0.10229 | train_mse: 0.07583 | train_mae: 0.21142 |  0:00:27s\n",
      "epoch 300| loss: 0.13777 | train_mse: 0.0761  | train_mae: 0.21174 |  0:00:27s\n"
     ]
    },
    {
     "name": "stdout",
     "output_type": "stream",
     "text": [
      "epoch 301| loss: 0.11867 | train_mse: 0.07677 | train_mae: 0.21208 |  0:00:27s\n",
      "epoch 302| loss: 0.17895 | train_mse: 0.074   | train_mae: 0.21048 |  0:00:28s\n",
      "epoch 303| loss: 0.10609 | train_mse: 0.07397 | train_mae: 0.21322 |  0:00:28s\n"
     ]
    },
    {
     "name": "stdout",
     "output_type": "stream",
     "text": [
      "epoch 304| loss: 0.16626 | train_mse: 0.07485 | train_mae: 0.21432 |  0:00:28s\n",
      "epoch 305| loss: 0.16516 | train_mse: 0.0765  | train_mae: 0.2169  |  0:00:28s\n",
      "epoch 306| loss: 0.11913 | train_mse: 0.07675 | train_mae: 0.21761 |  0:00:28s\n"
     ]
    },
    {
     "name": "stdout",
     "output_type": "stream",
     "text": [
      "epoch 307| loss: 0.17632 | train_mse: 0.07595 | train_mae: 0.2157  |  0:00:28s\n",
      "epoch 308| loss: 0.13677 | train_mse: 0.07718 | train_mae: 0.21764 |  0:00:28s\n",
      "epoch 309| loss: 0.20941 | train_mse: 0.07755 | train_mae: 0.21901 |  0:00:28s\n"
     ]
    },
    {
     "name": "stdout",
     "output_type": "stream",
     "text": [
      "epoch 310| loss: 0.29573 | train_mse: 0.07904 | train_mae: 0.22283 |  0:00:28s\n",
      "epoch 311| loss: 0.13629 | train_mse: 0.07706 | train_mae: 0.22002 |  0:00:28s\n",
      "epoch 312| loss: 0.20746 | train_mse: 0.07506 | train_mae: 0.21705 |  0:00:28s\n"
     ]
    },
    {
     "name": "stdout",
     "output_type": "stream",
     "text": [
      "epoch 313| loss: 0.11935 | train_mse: 0.07506 | train_mae: 0.2162  |  0:00:28s\n",
      "epoch 314| loss: 0.10134 | train_mse: 0.07495 | train_mae: 0.21531 |  0:00:29s\n",
      "epoch 315| loss: 0.11505 | train_mse: 0.07433 | train_mae: 0.21564 |  0:00:29s\n"
     ]
    },
    {
     "name": "stdout",
     "output_type": "stream",
     "text": [
      "epoch 316| loss: 0.2214  | train_mse: 0.07589 | train_mae: 0.21709 |  0:00:29s\n",
      "epoch 317| loss: 0.15326 | train_mse: 0.07962 | train_mae: 0.22076 |  0:00:29s\n",
      "epoch 318| loss: 0.20188 | train_mse: 0.08366 | train_mae: 0.223   |  0:00:29s\n"
     ]
    },
    {
     "name": "stdout",
     "output_type": "stream",
     "text": [
      "epoch 319| loss: 0.13098 | train_mse: 0.08394 | train_mae: 0.22329 |  0:00:29s\n",
      "epoch 320| loss: 0.10965 | train_mse: 0.08178 | train_mae: 0.22004 |  0:00:29s\n",
      "epoch 321| loss: 0.22771 | train_mse: 0.07828 | train_mae: 0.2147  |  0:00:29s\n"
     ]
    },
    {
     "name": "stdout",
     "output_type": "stream",
     "text": [
      "epoch 322| loss: 0.16319 | train_mse: 0.07565 | train_mae: 0.21142 |  0:00:29s\n",
      "epoch 323| loss: 0.21811 | train_mse: 0.0738  | train_mae: 0.20719 |  0:00:29s\n",
      "epoch 324| loss: 0.18506 | train_mse: 0.0717  | train_mae: 0.20307 |  0:00:29s\n"
     ]
    },
    {
     "name": "stdout",
     "output_type": "stream",
     "text": [
      "epoch 325| loss: 0.089   | train_mse: 0.07093 | train_mae: 0.20214 |  0:00:29s\n",
      "epoch 326| loss: 0.15218 | train_mse: 0.06765 | train_mae: 0.19868 |  0:00:30s\n",
      "epoch 327| loss: 0.26953 | train_mse: 0.06516 | train_mae: 0.19513 |  0:00:30s\n"
     ]
    },
    {
     "name": "stdout",
     "output_type": "stream",
     "text": [
      "epoch 328| loss: 0.23752 | train_mse: 0.06544 | train_mae: 0.19648 |  0:00:30s\n",
      "epoch 329| loss: 0.0959  | train_mse: 0.06653 | train_mae: 0.19806 |  0:00:30s\n",
      "epoch 330| loss: 0.12144 | train_mse: 0.06563 | train_mae: 0.19706 |  0:00:30s\n"
     ]
    },
    {
     "name": "stdout",
     "output_type": "stream",
     "text": [
      "epoch 331| loss: 0.12659 | train_mse: 0.06571 | train_mae: 0.19685 |  0:00:30s\n",
      "epoch 332| loss: 0.17948 | train_mse: 0.0659  | train_mae: 0.19771 |  0:00:30s\n",
      "epoch 333| loss: 0.15679 | train_mse: 0.0637  | train_mae: 0.19374 |  0:00:30s\n"
     ]
    },
    {
     "name": "stdout",
     "output_type": "stream",
     "text": [
      "epoch 334| loss: 0.15944 | train_mse: 0.06294 | train_mae: 0.19483 |  0:00:30s\n",
      "epoch 335| loss: 0.13739 | train_mse: 0.06421 | train_mae: 0.1965  |  0:00:30s\n",
      "epoch 336| loss: 0.19865 | train_mse: 0.06647 | train_mae: 0.19978 |  0:00:30s\n"
     ]
    },
    {
     "name": "stdout",
     "output_type": "stream",
     "text": [
      "epoch 337| loss: 0.09876 | train_mse: 0.06869 | train_mae: 0.20193 |  0:00:31s\n",
      "epoch 338| loss: 0.12646 | train_mse: 0.06965 | train_mae: 0.20253 |  0:00:31s\n",
      "epoch 339| loss: 0.11891 | train_mse: 0.06959 | train_mae: 0.20273 |  0:00:31s\n"
     ]
    },
    {
     "name": "stdout",
     "output_type": "stream",
     "text": [
      "epoch 340| loss: 0.13353 | train_mse: 0.06916 | train_mae: 0.20154 |  0:00:31s\n",
      "epoch 341| loss: 0.11791 | train_mse: 0.07018 | train_mae: 0.20082 |  0:00:31s\n"
     ]
    },
    {
     "name": "stdout",
     "output_type": "stream",
     "text": [
      "epoch 342| loss: 0.23109 | train_mse: 0.06927 | train_mae: 0.19986 |  0:00:31s\n",
      "epoch 343| loss: 0.12355 | train_mse: 0.06964 | train_mae: 0.19969 |  0:00:31s\n"
     ]
    },
    {
     "name": "stdout",
     "output_type": "stream",
     "text": [
      "epoch 344| loss: 0.14223 | train_mse: 0.06862 | train_mae: 0.20027 |  0:00:31s\n",
      "epoch 345| loss: 0.13536 | train_mse: 0.07002 | train_mae: 0.20368 |  0:00:31s\n"
     ]
    },
    {
     "name": "stdout",
     "output_type": "stream",
     "text": [
      "epoch 346| loss: 0.12732 | train_mse: 0.07029 | train_mae: 0.20629 |  0:00:32s\n",
      "epoch 347| loss: 0.13777 | train_mse: 0.06652 | train_mae: 0.20423 |  0:00:32s\n"
     ]
    },
    {
     "name": "stdout",
     "output_type": "stream",
     "text": [
      "epoch 348| loss: 0.16157 | train_mse: 0.06696 | train_mae: 0.20359 |  0:00:32s\n",
      "epoch 349| loss: 0.14702 | train_mse: 0.06753 | train_mae: 0.20468 |  0:00:32s\n"
     ]
    },
    {
     "name": "stdout",
     "output_type": "stream",
     "text": [
      "epoch 350| loss: 0.09572 | train_mse: 0.06574 | train_mae: 0.20237 |  0:00:32s\n",
      "epoch 351| loss: 0.11549 | train_mse: 0.06494 | train_mae: 0.20214 |  0:00:32s\n"
     ]
    },
    {
     "name": "stdout",
     "output_type": "stream",
     "text": [
      "epoch 352| loss: 0.12713 | train_mse: 0.06461 | train_mae: 0.20263 |  0:00:32s\n"
     ]
    },
    {
     "name": "stdout",
     "output_type": "stream",
     "text": [
      "epoch 353| loss: 0.13562 | train_mse: 0.06391 | train_mae: 0.19967 |  0:00:32s\n",
      "epoch 354| loss: 0.14259 | train_mse: 0.06374 | train_mae: 0.19753 |  0:00:33s\n"
     ]
    },
    {
     "name": "stdout",
     "output_type": "stream",
     "text": [
      "epoch 355| loss: 0.1372  | train_mse: 0.0647  | train_mae: 0.19826 |  0:00:33s\n",
      "epoch 356| loss: 0.11227 | train_mse: 0.0678  | train_mae: 0.20186 |  0:00:33s\n"
     ]
    },
    {
     "name": "stdout",
     "output_type": "stream",
     "text": [
      "epoch 357| loss: 0.18613 | train_mse: 0.06634 | train_mae: 0.19926 |  0:00:33s\n",
      "epoch 358| loss: 0.14195 | train_mse: 0.06579 | train_mae: 0.19796 |  0:00:33s\n"
     ]
    },
    {
     "name": "stdout",
     "output_type": "stream",
     "text": [
      "epoch 359| loss: 0.21833 | train_mse: 0.06385 | train_mae: 0.19458 |  0:00:33s\n",
      "epoch 360| loss: 0.14522 | train_mse: 0.06366 | train_mae: 0.19541 |  0:00:33s\n"
     ]
    },
    {
     "name": "stdout",
     "output_type": "stream",
     "text": [
      "epoch 361| loss: 0.1374  | train_mse: 0.06415 | train_mae: 0.19746 |  0:00:33s\n"
     ]
    },
    {
     "name": "stdout",
     "output_type": "stream",
     "text": [
      "epoch 362| loss: 0.08832 | train_mse: 0.06325 | train_mae: 0.19663 |  0:00:34s\n",
      "epoch 363| loss: 0.22541 | train_mse: 0.06357 | train_mae: 0.19619 |  0:00:34s"
     ]
    },
    {
     "name": "stdout",
     "output_type": "stream",
     "text": [
      "\n",
      "epoch 364| loss: 0.27242 | train_mse: 0.06278 | train_mae: 0.19387 |  0:00:34s\n"
     ]
    },
    {
     "name": "stdout",
     "output_type": "stream",
     "text": [
      "epoch 365| loss: 0.137   | train_mse: 0.06239 | train_mae: 0.19219 |  0:00:34s\n",
      "epoch 366| loss: 0.22737 | train_mse: 0.0611  | train_mae: 0.18792 |  0:00:34s\n"
     ]
    },
    {
     "name": "stdout",
     "output_type": "stream",
     "text": [
      "epoch 367| loss: 0.17227 | train_mse: 0.06183 | train_mae: 0.18904 |  0:00:34s\n",
      "epoch 368| loss: 0.21439 | train_mse: 0.06266 | train_mae: 0.1907  |  0:00:35s\n"
     ]
    },
    {
     "name": "stdout",
     "output_type": "stream",
     "text": [
      "epoch 369| loss: 0.14787 | train_mse: 0.06341 | train_mae: 0.19293 |  0:00:35s\n",
      "epoch 370| loss: 0.133   | train_mse: 0.06305 | train_mae: 0.19371 |  0:00:35s\n",
      "epoch 371| loss: 0.21746 | train_mse: 0.06399 | train_mae: 0.1965  |  0:00:35s\n"
     ]
    },
    {
     "name": "stdout",
     "output_type": "stream",
     "text": [
      "epoch 372| loss: 0.12506 | train_mse: 0.06363 | train_mae: 0.19638 |  0:00:35s\n",
      "epoch 373| loss: 0.08321 | train_mse: 0.06177 | train_mae: 0.19445 |  0:00:36s\n"
     ]
    },
    {
     "name": "stdout",
     "output_type": "stream",
     "text": [
      "epoch 374| loss: 0.06784 | train_mse: 0.06065 | train_mae: 0.19323 |  0:00:36s\n",
      "epoch 375| loss: 0.0755  | train_mse: 0.05978 | train_mae: 0.19282 |  0:00:36s\n",
      "epoch 376| loss: 0.08622 | train_mse: 0.05844 | train_mae: 0.19062 |  0:00:36s\n"
     ]
    },
    {
     "name": "stdout",
     "output_type": "stream",
     "text": [
      "epoch 377| loss: 0.12976 | train_mse: 0.05895 | train_mae: 0.19166 |  0:00:36s\n",
      "epoch 378| loss: 0.11673 | train_mse: 0.05995 | train_mae: 0.19165 |  0:00:36s\n",
      "epoch 379| loss: 0.10303 | train_mse: 0.06198 | train_mae: 0.19506 |  0:00:36s\n"
     ]
    },
    {
     "name": "stdout",
     "output_type": "stream",
     "text": [
      "epoch 380| loss: 0.11129 | train_mse: 0.06498 | train_mae: 0.20009 |  0:00:36s\n",
      "epoch 381| loss: 0.10188 | train_mse: 0.06689 | train_mae: 0.20308 |  0:00:36s\n",
      "epoch 382| loss: 0.08652 | train_mse: 0.06954 | train_mae: 0.20525 |  0:00:36s\n"
     ]
    },
    {
     "name": "stdout",
     "output_type": "stream",
     "text": [
      "epoch 383| loss: 0.2566  | train_mse: 0.07177 | train_mae: 0.20722 |  0:00:36s\n",
      "epoch 384| loss: 0.19359 | train_mse: 0.06886 | train_mae: 0.20312 |  0:00:37s\n",
      "epoch 385| loss: 0.22561 | train_mse: 0.07269 | train_mae: 0.20604 |  0:00:37s\n"
     ]
    },
    {
     "name": "stdout",
     "output_type": "stream",
     "text": [
      "epoch 386| loss: 0.12639 | train_mse: 0.07379 | train_mae: 0.2077  |  0:00:37s\n",
      "epoch 387| loss: 0.16597 | train_mse: 0.07253 | train_mae: 0.20629 |  0:00:37s\n",
      "epoch 388| loss: 0.14247 | train_mse: 0.07163 | train_mae: 0.20475 |  0:00:37s\n"
     ]
    },
    {
     "name": "stdout",
     "output_type": "stream",
     "text": [
      "epoch 389| loss: 0.163   | train_mse: 0.06912 | train_mae: 0.2015  |  0:00:37s\n",
      "epoch 390| loss: 0.11094 | train_mse: 0.06482 | train_mae: 0.19628 |  0:00:37s\n",
      "epoch 391| loss: 0.14293 | train_mse: 0.05969 | train_mae: 0.18817 |  0:00:37s\n"
     ]
    },
    {
     "name": "stdout",
     "output_type": "stream",
     "text": [
      "epoch 392| loss: 0.15776 | train_mse: 0.05894 | train_mae: 0.18794 |  0:00:37s\n",
      "epoch 393| loss: 0.20935 | train_mse: 0.05871 | train_mae: 0.18884 |  0:00:37s\n",
      "epoch 394| loss: 0.13713 | train_mse: 0.05911 | train_mae: 0.19021 |  0:00:37s\n"
     ]
    },
    {
     "name": "stdout",
     "output_type": "stream",
     "text": [
      "epoch 395| loss: 0.09484 | train_mse: 0.06094 | train_mae: 0.1927  |  0:00:37s\n",
      "epoch 396| loss: 0.12385 | train_mse: 0.0611  | train_mae: 0.19269 |  0:00:38s\n",
      "epoch 397| loss: 0.14182 | train_mse: 0.06291 | train_mae: 0.1949  |  0:00:38s\n"
     ]
    },
    {
     "name": "stdout",
     "output_type": "stream",
     "text": [
      "epoch 398| loss: 0.10928 | train_mse: 0.06372 | train_mae: 0.19463 |  0:00:38s\n",
      "epoch 399| loss: 0.10189 | train_mse: 0.06239 | train_mae: 0.19402 |  0:00:38s\n",
      "epoch 400| loss: 0.10106 | train_mse: 0.06186 | train_mae: 0.19344 |  0:00:38s\n"
     ]
    },
    {
     "name": "stdout",
     "output_type": "stream",
     "text": [
      "epoch 401| loss: 0.12302 | train_mse: 0.06303 | train_mae: 0.19398 |  0:00:38s\n",
      "epoch 402| loss: 0.14806 | train_mse: 0.06193 | train_mae: 0.19269 |  0:00:38s\n",
      "epoch 403| loss: 0.1969  | train_mse: 0.06224 | train_mae: 0.1934  |  0:00:38s\n"
     ]
    },
    {
     "name": "stdout",
     "output_type": "stream",
     "text": [
      "epoch 404| loss: 0.16591 | train_mse: 0.06132 | train_mae: 0.19158 |  0:00:38s\n",
      "epoch 405| loss: 0.13594 | train_mse: 0.05975 | train_mae: 0.18962 |  0:00:38s\n",
      "epoch 406| loss: 0.08421 | train_mse: 0.05804 | train_mae: 0.18776 |  0:00:38s\n"
     ]
    },
    {
     "name": "stdout",
     "output_type": "stream",
     "text": [
      "epoch 407| loss: 0.12544 | train_mse: 0.05746 | train_mae: 0.18778 |  0:00:39s\n",
      "epoch 408| loss: 0.14659 | train_mse: 0.0576  | train_mae: 0.18953 |  0:00:39s\n",
      "epoch 409| loss: 0.10336 | train_mse: 0.05903 | train_mae: 0.19093 |  0:00:39s\n"
     ]
    },
    {
     "name": "stdout",
     "output_type": "stream",
     "text": [
      "epoch 410| loss: 0.19858 | train_mse: 0.06099 | train_mae: 0.1941  |  0:00:39s\n",
      "epoch 411| loss: 0.14801 | train_mse: 0.06191 | train_mae: 0.19579 |  0:00:39s\n",
      "epoch 412| loss: 0.1859  | train_mse: 0.06658 | train_mae: 0.20015 |  0:00:39s\n"
     ]
    },
    {
     "name": "stdout",
     "output_type": "stream",
     "text": [
      "epoch 413| loss: 0.24162 | train_mse: 0.07199 | train_mae: 0.20552 |  0:00:39s\n",
      "epoch 414| loss: 0.12493 | train_mse: 0.07077 | train_mae: 0.2026  |  0:00:39s\n",
      "epoch 415| loss: 0.14458 | train_mse: 0.06952 | train_mae: 0.20116 |  0:00:39s"
     ]
    },
    {
     "name": "stdout",
     "output_type": "stream",
     "text": [
      "\n",
      "epoch 416| loss: 0.39827 | train_mse: 0.06656 | train_mae: 0.19944 |  0:00:39s\n",
      "epoch 417| loss: 0.11888 | train_mse: 0.06454 | train_mae: 0.19881 |  0:00:39s\n"
     ]
    },
    {
     "name": "stdout",
     "output_type": "stream",
     "text": [
      "epoch 418| loss: 0.06798 | train_mse: 0.06335 | train_mae: 0.1981  |  0:00:40s\n",
      "epoch 419| loss: 0.13985 | train_mse: 0.06199 | train_mae: 0.19567 |  0:00:40s\n",
      "epoch 420| loss: 0.09676 | train_mse: 0.06208 | train_mae: 0.19583 |  0:00:40s\n"
     ]
    },
    {
     "name": "stdout",
     "output_type": "stream",
     "text": [
      "epoch 421| loss: 0.13529 | train_mse: 0.0615  | train_mae: 0.19437 |  0:00:40s\n",
      "epoch 422| loss: 0.09264 | train_mse: 0.06109 | train_mae: 0.1944  |  0:00:40s\n",
      "epoch 423| loss: 0.22708 | train_mse: 0.0605  | train_mae: 0.19396 |  0:00:40s\n"
     ]
    },
    {
     "name": "stdout",
     "output_type": "stream",
     "text": [
      "epoch 424| loss: 0.10481 | train_mse: 0.06069 | train_mae: 0.19486 |  0:00:40s\n",
      "epoch 425| loss: 0.11889 | train_mse: 0.06016 | train_mae: 0.19409 |  0:00:40s\n",
      "epoch 426| loss: 0.08088 | train_mse: 0.06076 | train_mae: 0.19405 |  0:00:40s\n"
     ]
    },
    {
     "name": "stdout",
     "output_type": "stream",
     "text": [
      "epoch 427| loss: 0.14071 | train_mse: 0.06184 | train_mae: 0.19538 |  0:00:40s\n",
      "epoch 428| loss: 0.10606 | train_mse: 0.06449 | train_mae: 0.19886 |  0:00:40s\n",
      "epoch 429| loss: 0.11565 | train_mse: 0.06569 | train_mae: 0.20006 |  0:00:40s\n"
     ]
    },
    {
     "name": "stdout",
     "output_type": "stream",
     "text": [
      "epoch 430| loss: 0.16643 | train_mse: 0.06637 | train_mae: 0.20216 |  0:00:41s\n",
      "epoch 431| loss: 0.12367 | train_mse: 0.06637 | train_mae: 0.20253 |  0:00:41s\n",
      "epoch 432| loss: 0.11117 | train_mse: 0.06599 | train_mae: 0.20156 |  0:00:41s\n"
     ]
    },
    {
     "name": "stdout",
     "output_type": "stream",
     "text": [
      "epoch 433| loss: 0.10695 | train_mse: 0.06272 | train_mae: 0.19629 |  0:00:41s\n",
      "epoch 434| loss: 0.108   | train_mse: 0.06116 | train_mae: 0.19363 |  0:00:41s\n",
      "epoch 435| loss: 0.10609 | train_mse: 0.05935 | train_mae: 0.18962 |  0:00:41s\n"
     ]
    },
    {
     "name": "stdout",
     "output_type": "stream",
     "text": [
      "epoch 436| loss: 0.16714 | train_mse: 0.05885 | train_mae: 0.18688 |  0:00:41s\n",
      "epoch 437| loss: 0.16452 | train_mse: 0.06072 | train_mae: 0.1871  |  0:00:41s\n",
      "epoch 438| loss: 0.06741 | train_mse: 0.06433 | train_mae: 0.19068 |  0:00:41s\n"
     ]
    },
    {
     "name": "stdout",
     "output_type": "stream",
     "text": [
      "epoch 439| loss: 0.11279 | train_mse: 0.06506 | train_mae: 0.19114 |  0:00:41s\n",
      "epoch 440| loss: 0.1242  | train_mse: 0.06279 | train_mae: 0.18731 |  0:00:41s\n",
      "epoch 441| loss: 0.17765 | train_mse: 0.06178 | train_mae: 0.18636 |  0:00:41s\n"
     ]
    },
    {
     "name": "stdout",
     "output_type": "stream",
     "text": [
      "epoch 442| loss: 0.08254 | train_mse: 0.05957 | train_mae: 0.18551 |  0:00:42s\n",
      "epoch 443| loss: 0.10715 | train_mse: 0.0573  | train_mae: 0.18312 |  0:00:42s\n",
      "epoch 444| loss: 0.11282 | train_mse: 0.05512 | train_mae: 0.18114 |  0:00:42s\n"
     ]
    },
    {
     "name": "stdout",
     "output_type": "stream",
     "text": [
      "epoch 445| loss: 0.1925  | train_mse: 0.05541 | train_mae: 0.18208 |  0:00:42s\n",
      "epoch 446| loss: 0.18461 | train_mse: 0.05637 | train_mae: 0.18411 |  0:00:42s\n",
      "epoch 447| loss: 0.11752 | train_mse: 0.05886 | train_mae: 0.18696 |  0:00:42s\n"
     ]
    },
    {
     "name": "stdout",
     "output_type": "stream",
     "text": [
      "epoch 448| loss: 0.11409 | train_mse: 0.06039 | train_mae: 0.18979 |  0:00:42s\n",
      "epoch 449| loss: 0.16029 | train_mse: 0.05907 | train_mae: 0.18912 |  0:00:42s\n",
      "epoch 450| loss: 0.08757 | train_mse: 0.05829 | train_mae: 0.18821 |  0:00:42s\n"
     ]
    },
    {
     "name": "stdout",
     "output_type": "stream",
     "text": [
      "epoch 451| loss: 0.07764 | train_mse: 0.05796 | train_mae: 0.18724 |  0:00:42s\n",
      "epoch 452| loss: 0.10282 | train_mse: 0.05787 | train_mae: 0.18741 |  0:00:42s\n",
      "epoch 453| loss: 0.12277 | train_mse: 0.05602 | train_mae: 0.18487 |  0:00:43s\n"
     ]
    },
    {
     "name": "stdout",
     "output_type": "stream",
     "text": [
      "epoch 454| loss: 0.17226 | train_mse: 0.05571 | train_mae: 0.18315 |  0:00:43s\n",
      "epoch 455| loss: 0.09068 | train_mse: 0.05695 | train_mae: 0.1837  |  0:00:43s\n",
      "epoch 456| loss: 0.13987 | train_mse: 0.05783 | train_mae: 0.18473 |  0:00:43s\n"
     ]
    },
    {
     "name": "stdout",
     "output_type": "stream",
     "text": [
      "epoch 457| loss: 0.13246 | train_mse: 0.05753 | train_mae: 0.18533 |  0:00:43s\n",
      "epoch 458| loss: 0.10522 | train_mse: 0.05709 | train_mae: 0.18636 |  0:00:43s\n",
      "epoch 459| loss: 0.17051 | train_mse: 0.05675 | train_mae: 0.18735 |  0:00:43s\n"
     ]
    },
    {
     "name": "stdout",
     "output_type": "stream",
     "text": [
      "epoch 460| loss: 0.16032 | train_mse: 0.05702 | train_mae: 0.18711 |  0:00:43s\n",
      "epoch 461| loss: 0.08461 | train_mse: 0.05804 | train_mae: 0.18892 |  0:00:43s\n",
      "epoch 462| loss: 0.09438 | train_mse: 0.05824 | train_mae: 0.18954 |  0:00:43s\n"
     ]
    },
    {
     "name": "stdout",
     "output_type": "stream",
     "text": [
      "epoch 463| loss: 0.27153 | train_mse: 0.0587  | train_mae: 0.19041 |  0:00:43s\n",
      "epoch 464| loss: 0.11527 | train_mse: 0.05586 | train_mae: 0.1853  |  0:00:44s\n",
      "epoch 465| loss: 0.16636 | train_mse: 0.05481 | train_mae: 0.18421 |  0:00:44s\n"
     ]
    },
    {
     "name": "stdout",
     "output_type": "stream",
     "text": [
      "epoch 466| loss: 0.1373  | train_mse: 0.05628 | train_mae: 0.18794 |  0:00:44s\n",
      "epoch 467| loss: 0.13359 | train_mse: 0.05634 | train_mae: 0.18875 |  0:00:44s\n",
      "epoch 468| loss: 0.09181 | train_mse: 0.05634 | train_mae: 0.18915 |  0:00:44s\n"
     ]
    },
    {
     "name": "stdout",
     "output_type": "stream",
     "text": [
      "epoch 469| loss: 0.2312  | train_mse: 0.05514 | train_mae: 0.18721 |  0:00:44s\n",
      "epoch 470| loss: 0.10189 | train_mse: 0.05494 | train_mae: 0.18655 |  0:00:44s\n",
      "epoch 471| loss: 0.1007  | train_mse: 0.05442 | train_mae: 0.18606 |  0:00:44s\n"
     ]
    },
    {
     "name": "stdout",
     "output_type": "stream",
     "text": [
      "epoch 472| loss: 0.09336 | train_mse: 0.0539  | train_mae: 0.18608 |  0:00:44s\n",
      "epoch 473| loss: 0.15708 | train_mse: 0.05306 | train_mae: 0.18517 |  0:00:44s\n",
      "epoch 474| loss: 0.12518 | train_mse: 0.05304 | train_mae: 0.18438 |  0:00:44s\n"
     ]
    },
    {
     "name": "stdout",
     "output_type": "stream",
     "text": [
      "epoch 475| loss: 0.10239 | train_mse: 0.05399 | train_mae: 0.18572 |  0:00:44s\n",
      "epoch 476| loss: 0.05173 | train_mse: 0.05418 | train_mae: 0.18633 |  0:00:45s\n",
      "epoch 477| loss: 0.09304 | train_mse: 0.0544  | train_mae: 0.18728 |  0:00:45s\n"
     ]
    },
    {
     "name": "stdout",
     "output_type": "stream",
     "text": [
      "epoch 478| loss: 0.1867  | train_mse: 0.05379 | train_mae: 0.18719 |  0:00:45s\n",
      "epoch 479| loss: 0.11521 | train_mse: 0.05383 | train_mae: 0.18636 |  0:00:45s\n",
      "epoch 480| loss: 0.11661 | train_mse: 0.05336 | train_mae: 0.185   |  0:00:45s\n"
     ]
    },
    {
     "name": "stdout",
     "output_type": "stream",
     "text": [
      "epoch 481| loss: 0.19708 | train_mse: 0.05299 | train_mae: 0.18457 |  0:00:45s\n",
      "epoch 482| loss: 0.13624 | train_mse: 0.0515  | train_mae: 0.18221 |  0:00:45s\n"
     ]
    },
    {
     "name": "stdout",
     "output_type": "stream",
     "text": [
      "epoch 483| loss: 0.15706 | train_mse: 0.04976 | train_mae: 0.17912 |  0:00:45s\n",
      "epoch 484| loss: 0.14506 | train_mse: 0.05079 | train_mae: 0.18043 |  0:00:45s\n",
      "epoch 485| loss: 0.10077 | train_mse: 0.05262 | train_mae: 0.18436 |  0:00:45s\n"
     ]
    },
    {
     "name": "stdout",
     "output_type": "stream",
     "text": [
      "epoch 486| loss: 0.22051 | train_mse: 0.05404 | train_mae: 0.18643 |  0:00:45s\n",
      "epoch 487| loss: 0.06498 | train_mse: 0.05315 | train_mae: 0.18494 |  0:00:45s\n",
      "epoch 488| loss: 0.08681 | train_mse: 0.05039 | train_mae: 0.18054 |  0:00:46s\n"
     ]
    },
    {
     "name": "stdout",
     "output_type": "stream",
     "text": [
      "epoch 489| loss: 0.07226 | train_mse: 0.04965 | train_mae: 0.17954 |  0:00:46s\n",
      "epoch 490| loss: 0.09248 | train_mse: 0.04862 | train_mae: 0.17822 |  0:00:46s\n",
      "epoch 491| loss: 0.13216 | train_mse: 0.04896 | train_mae: 0.17842 |  0:00:46s\n"
     ]
    },
    {
     "name": "stdout",
     "output_type": "stream",
     "text": [
      "epoch 492| loss: 0.08719 | train_mse: 0.04962 | train_mae: 0.17909 |  0:00:46s\n",
      "epoch 493| loss: 0.1314  | train_mse: 0.04863 | train_mae: 0.17608 |  0:00:46s\n",
      "epoch 494| loss: 0.07856 | train_mse: 0.04874 | train_mae: 0.17422 |  0:00:46s\n"
     ]
    },
    {
     "name": "stdout",
     "output_type": "stream",
     "text": [
      "epoch 495| loss: 0.08845 | train_mse: 0.0494  | train_mae: 0.17559 |  0:00:46s\n",
      "epoch 496| loss: 0.17467 | train_mse: 0.04929 | train_mae: 0.17628 |  0:00:46s\n",
      "epoch 497| loss: 0.1237  | train_mse: 0.05011 | train_mae: 0.17791 |  0:00:46s\n"
     ]
    },
    {
     "name": "stdout",
     "output_type": "stream",
     "text": [
      "epoch 498| loss: 0.09852 | train_mse: 0.0518  | train_mae: 0.18168 |  0:00:46s\n",
      "epoch 499| loss: 0.15119 | train_mse: 0.05525 | train_mae: 0.18692 |  0:00:47s\n",
      "epoch 500| loss: 0.14165 | train_mse: 0.05788 | train_mae: 0.19018 |  0:00:47s\n"
     ]
    },
    {
     "name": "stdout",
     "output_type": "stream",
     "text": [
      "epoch 501| loss: 0.09534 | train_mse: 0.05861 | train_mae: 0.19002 |  0:00:47s\n",
      "epoch 502| loss: 0.06117 | train_mse: 0.05779 | train_mae: 0.18811 |  0:00:47s\n",
      "epoch 503| loss: 0.09293 | train_mse: 0.05863 | train_mae: 0.18609 |  0:00:47s\n"
     ]
    },
    {
     "name": "stdout",
     "output_type": "stream",
     "text": [
      "epoch 504| loss: 0.14633 | train_mse: 0.05659 | train_mae: 0.18378 |  0:00:47s\n",
      "epoch 505| loss: 0.08297 | train_mse: 0.05569 | train_mae: 0.1818  |  0:00:47s\n"
     ]
    },
    {
     "name": "stdout",
     "output_type": "stream",
     "text": [
      "epoch 506| loss: 0.07279 | train_mse: 0.05279 | train_mae: 0.17715 |  0:00:47s\n",
      "epoch 507| loss: 0.1136  | train_mse: 0.04864 | train_mae: 0.1708  |  0:00:47s\n",
      "epoch 508| loss: 0.08115 | train_mse: 0.04847 | train_mae: 0.17068 |  0:00:47s\n"
     ]
    },
    {
     "name": "stdout",
     "output_type": "stream",
     "text": [
      "epoch 509| loss: 0.13428 | train_mse: 0.0472  | train_mae: 0.16903 |  0:00:47s\n",
      "epoch 510| loss: 0.07677 | train_mse: 0.04637 | train_mae: 0.1681  |  0:00:47s\n",
      "epoch 511| loss: 0.11178 | train_mse: 0.04646 | train_mae: 0.16676 |  0:00:48s\n"
     ]
    },
    {
     "name": "stdout",
     "output_type": "stream",
     "text": [
      "epoch 512| loss: 0.1006  | train_mse: 0.04583 | train_mae: 0.16488 |  0:00:48s\n",
      "epoch 513| loss: 0.09804 | train_mse: 0.0461  | train_mae: 0.16477 |  0:00:48s\n",
      "epoch 514| loss: 0.11956 | train_mse: 0.04706 | train_mae: 0.16677 |  0:00:48s\n"
     ]
    },
    {
     "name": "stdout",
     "output_type": "stream",
     "text": [
      "epoch 515| loss: 0.13865 | train_mse: 0.04916 | train_mae: 0.17091 |  0:00:48s\n",
      "epoch 516| loss: 0.14912 | train_mse: 0.05159 | train_mae: 0.17402 |  0:00:48s\n",
      "epoch 517| loss: 0.10101 | train_mse: 0.05206 | train_mae: 0.17582 |  0:00:48s\n"
     ]
    },
    {
     "name": "stdout",
     "output_type": "stream",
     "text": [
      "epoch 518| loss: 0.12678 | train_mse: 0.05023 | train_mae: 0.17298 |  0:00:48s\n",
      "epoch 519| loss: 0.10833 | train_mse: 0.05118 | train_mae: 0.17491 |  0:00:48s\n",
      "epoch 520| loss: 0.09346 | train_mse: 0.05286 | train_mae: 0.17882 |  0:00:48s\n"
     ]
    },
    {
     "name": "stdout",
     "output_type": "stream",
     "text": [
      "epoch 521| loss: 0.09392 | train_mse: 0.05333 | train_mae: 0.18017 |  0:00:48s\n",
      "epoch 522| loss: 0.10139 | train_mse: 0.0549  | train_mae: 0.18235 |  0:00:49s\n",
      "epoch 523| loss: 0.09988 | train_mse: 0.05603 | train_mae: 0.18439 |  0:00:49s\n"
     ]
    },
    {
     "name": "stdout",
     "output_type": "stream",
     "text": [
      "epoch 524| loss: 0.16315 | train_mse: 0.05382 | train_mae: 0.18091 |  0:00:49s\n",
      "epoch 525| loss: 0.14952 | train_mse: 0.05252 | train_mae: 0.17913 |  0:00:49s\n",
      "epoch 526| loss: 0.09603 | train_mse: 0.05108 | train_mae: 0.1748  |  0:00:49s\n"
     ]
    },
    {
     "name": "stdout",
     "output_type": "stream",
     "text": [
      "epoch 527| loss: 0.08955 | train_mse: 0.05108 | train_mae: 0.17505 |  0:00:49s\n",
      "epoch 528| loss: 0.09859 | train_mse: 0.05066 | train_mae: 0.17367 |  0:00:49s\n",
      "epoch 529| loss: 0.13456 | train_mse: 0.04936 | train_mae: 0.17032 |  0:00:49s\n"
     ]
    },
    {
     "name": "stdout",
     "output_type": "stream",
     "text": [
      "epoch 530| loss: 0.1655  | train_mse: 0.04842 | train_mae: 0.16879 |  0:00:49s\n",
      "epoch 531| loss: 0.08415 | train_mse: 0.04812 | train_mae: 0.16784 |  0:00:49s\n",
      "epoch 532| loss: 0.12893 | train_mse: 0.04904 | train_mae: 0.16931 |  0:00:50s\n"
     ]
    },
    {
     "name": "stdout",
     "output_type": "stream",
     "text": [
      "epoch 533| loss: 0.11325 | train_mse: 0.04854 | train_mae: 0.16974 |  0:00:50s\n",
      "epoch 534| loss: 0.07133 | train_mse: 0.04921 | train_mae: 0.17087 |  0:00:50s\n",
      "epoch 535| loss: 0.13446 | train_mse: 0.04977 | train_mae: 0.17227 |  0:00:50s\n"
     ]
    },
    {
     "name": "stdout",
     "output_type": "stream",
     "text": [
      "epoch 536| loss: 0.18162 | train_mse: 0.04946 | train_mae: 0.17189 |  0:00:50s\n",
      "epoch 537| loss: 0.11579 | train_mse: 0.04861 | train_mae: 0.17187 |  0:00:50s\n",
      "epoch 538| loss: 0.1052  | train_mse: 0.04782 | train_mae: 0.16999 |  0:00:50s\n"
     ]
    },
    {
     "name": "stdout",
     "output_type": "stream",
     "text": [
      "epoch 539| loss: 0.1227  | train_mse: 0.04613 | train_mae: 0.16677 |  0:00:50s\n",
      "epoch 540| loss: 0.18728 | train_mse: 0.04734 | train_mae: 0.16749 |  0:00:50s\n",
      "epoch 541| loss: 0.07599 | train_mse: 0.04798 | train_mae: 0.16696 |  0:00:50s\n"
     ]
    },
    {
     "name": "stdout",
     "output_type": "stream",
     "text": [
      "epoch 542| loss: 0.08577 | train_mse: 0.04752 | train_mae: 0.16662 |  0:00:50s\n",
      "epoch 543| loss: 0.08263 | train_mse: 0.04644 | train_mae: 0.16537 |  0:00:50s\n",
      "epoch 544| loss: 0.13772 | train_mse: 0.04677 | train_mae: 0.16461 |  0:00:51s\n"
     ]
    },
    {
     "name": "stdout",
     "output_type": "stream",
     "text": [
      "epoch 545| loss: 0.09031 | train_mse: 0.04691 | train_mae: 0.16365 |  0:00:51s\n",
      "epoch 546| loss: 0.07792 | train_mse: 0.04636 | train_mae: 0.16345 |  0:00:51s\n",
      "epoch 547| loss: 0.10175 | train_mse: 0.04671 | train_mae: 0.16429 |  0:00:51s\n"
     ]
    },
    {
     "name": "stdout",
     "output_type": "stream",
     "text": [
      "epoch 548| loss: 0.08258 | train_mse: 0.0474  | train_mae: 0.16519 |  0:00:51s\n",
      "epoch 549| loss: 0.08461 | train_mse: 0.04588 | train_mae: 0.16385 |  0:00:51s\n",
      "epoch 550| loss: 0.09814 | train_mse: 0.04481 | train_mae: 0.16369 |  0:00:51s"
     ]
    },
    {
     "name": "stdout",
     "output_type": "stream",
     "text": [
      "\n",
      "epoch 551| loss: 0.10154 | train_mse: 0.04471 | train_mae: 0.16502 |  0:00:51s\n",
      "epoch 552| loss: 0.08996 | train_mse: 0.04446 | train_mae: 0.16379 |  0:00:51s\n"
     ]
    },
    {
     "name": "stdout",
     "output_type": "stream",
     "text": [
      "epoch 553| loss: 0.14632 | train_mse: 0.04434 | train_mae: 0.16339 |  0:00:51s\n",
      "epoch 554| loss: 0.11348 | train_mse: 0.04433 | train_mae: 0.16328 |  0:00:51s\n",
      "epoch 555| loss: 0.15903 | train_mse: 0.04425 | train_mae: 0.16357 |  0:00:52s\n"
     ]
    },
    {
     "name": "stdout",
     "output_type": "stream",
     "text": [
      "epoch 556| loss: 0.13033 | train_mse: 0.04526 | train_mae: 0.16718 |  0:00:52s\n",
      "epoch 557| loss: 0.19874 | train_mse: 0.04605 | train_mae: 0.16979 |  0:00:52s\n",
      "epoch 558| loss: 0.09101 | train_mse: 0.04626 | train_mae: 0.17038 |  0:00:52s\n"
     ]
    },
    {
     "name": "stdout",
     "output_type": "stream",
     "text": [
      "epoch 559| loss: 0.1027  | train_mse: 0.04654 | train_mae: 0.17079 |  0:00:52s\n",
      "epoch 560| loss: 0.07989 | train_mse: 0.04677 | train_mae: 0.17144 |  0:00:52s\n"
     ]
    },
    {
     "name": "stdout",
     "output_type": "stream",
     "text": [
      "epoch 561| loss: 0.09876 | train_mse: 0.0473  | train_mae: 0.17249 |  0:00:52s\n",
      "epoch 562| loss: 0.13599 | train_mse: 0.0474  | train_mae: 0.17387 |  0:00:52s\n",
      "epoch 563| loss: 0.11227 | train_mse: 0.0493  | train_mae: 0.17693 |  0:00:52s\n"
     ]
    },
    {
     "name": "stdout",
     "output_type": "stream",
     "text": [
      "epoch 564| loss: 0.11849 | train_mse: 0.05067 | train_mae: 0.17959 |  0:00:52s\n",
      "epoch 565| loss: 0.09556 | train_mse: 0.04955 | train_mae: 0.17811 |  0:00:52s\n",
      "epoch 566| loss: 0.08081 | train_mse: 0.05143 | train_mae: 0.18185 |  0:00:52s\n"
     ]
    },
    {
     "name": "stdout",
     "output_type": "stream",
     "text": [
      "epoch 567| loss: 0.07236 | train_mse: 0.05207 | train_mae: 0.18341 |  0:00:53s\n",
      "epoch 568| loss: 0.16326 | train_mse: 0.05366 | train_mae: 0.18538 |  0:00:53s\n",
      "epoch 569| loss: 0.0932  | train_mse: 0.0523  | train_mae: 0.18336 |  0:00:53s\n"
     ]
    },
    {
     "name": "stdout",
     "output_type": "stream",
     "text": [
      "epoch 570| loss: 0.08627 | train_mse: 0.0489  | train_mae: 0.17678 |  0:00:53s\n",
      "epoch 571| loss: 0.08583 | train_mse: 0.04633 | train_mae: 0.17182 |  0:00:53s\n",
      "epoch 572| loss: 0.17637 | train_mse: 0.04608 | train_mae: 0.16963 |  0:00:53s\n"
     ]
    },
    {
     "name": "stdout",
     "output_type": "stream",
     "text": [
      "epoch 573| loss: 0.09062 | train_mse: 0.04665 | train_mae: 0.17102 |  0:00:53s\n",
      "epoch 574| loss: 0.14192 | train_mse: 0.04705 | train_mae: 0.17127 |  0:00:53s\n",
      "epoch 575| loss: 0.10231 | train_mse: 0.04724 | train_mae: 0.17101 |  0:00:53s\n"
     ]
    },
    {
     "name": "stdout",
     "output_type": "stream",
     "text": [
      "epoch 576| loss: 0.12262 | train_mse: 0.04598 | train_mae: 0.169   |  0:00:53s\n",
      "epoch 577| loss: 0.16162 | train_mse: 0.04633 | train_mae: 0.16984 |  0:00:53s\n",
      "epoch 578| loss: 0.08662 | train_mse: 0.04625 | train_mae: 0.17075 |  0:00:54s\n"
     ]
    },
    {
     "name": "stdout",
     "output_type": "stream",
     "text": [
      "epoch 579| loss: 0.09049 | train_mse: 0.04599 | train_mae: 0.17148 |  0:00:54s\n",
      "epoch 580| loss: 0.09439 | train_mse: 0.0465  | train_mae: 0.17152 |  0:00:54s\n",
      "epoch 581| loss: 0.12708 | train_mse: 0.04742 | train_mae: 0.17378 |  0:00:54s\n"
     ]
    },
    {
     "name": "stdout",
     "output_type": "stream",
     "text": [
      "epoch 582| loss: 0.07013 | train_mse: 0.04803 | train_mae: 0.17446 |  0:00:54s\n",
      "epoch 583| loss: 0.12473 | train_mse: 0.04674 | train_mae: 0.17233 |  0:00:54s\n",
      "epoch 584| loss: 0.06774 | train_mse: 0.04682 | train_mae: 0.17216 |  0:00:54s\n"
     ]
    },
    {
     "name": "stdout",
     "output_type": "stream",
     "text": [
      "epoch 585| loss: 0.07633 | train_mse: 0.04703 | train_mae: 0.17154 |  0:00:54s\n",
      "epoch 586| loss: 0.09957 | train_mse: 0.04631 | train_mae: 0.17028 |  0:00:54s\n",
      "epoch 587| loss: 0.0931  | train_mse: 0.04693 | train_mae: 0.17104 |  0:00:54s\n"
     ]
    },
    {
     "name": "stdout",
     "output_type": "stream",
     "text": [
      "epoch 588| loss: 0.15809 | train_mse: 0.04811 | train_mae: 0.17125 |  0:00:54s\n",
      "epoch 589| loss: 0.06163 | train_mse: 0.05    | train_mae: 0.1739  |  0:00:54s\n",
      "epoch 590| loss: 0.12808 | train_mse: 0.04899 | train_mae: 0.17269 |  0:00:55s\n"
     ]
    },
    {
     "name": "stdout",
     "output_type": "stream",
     "text": [
      "epoch 591| loss: 0.11181 | train_mse: 0.04894 | train_mae: 0.17283 |  0:00:55s\n",
      "epoch 592| loss: 0.05674 | train_mse: 0.04675 | train_mae: 0.16905 |  0:00:55s\n",
      "epoch 593| loss: 0.09786 | train_mse: 0.04682 | train_mae: 0.16755 |  0:00:55s\n"
     ]
    },
    {
     "name": "stdout",
     "output_type": "stream",
     "text": [
      "epoch 594| loss: 0.0838  | train_mse: 0.04675 | train_mae: 0.1668  |  0:00:55s\n",
      "epoch 595| loss: 0.0942  | train_mse: 0.04639 | train_mae: 0.16631 |  0:00:55s\n",
      "epoch 596| loss: 0.1418  | train_mse: 0.04554 | train_mae: 0.16455 |  0:00:55s\n"
     ]
    },
    {
     "name": "stdout",
     "output_type": "stream",
     "text": [
      "epoch 597| loss: 0.10096 | train_mse: 0.04533 | train_mae: 0.16347 |  0:00:55s\n",
      "epoch 598| loss: 0.07288 | train_mse: 0.04617 | train_mae: 0.16399 |  0:00:55s\n",
      "epoch 599| loss: 0.09171 | train_mse: 0.04767 | train_mae: 0.16638 |  0:00:55s\n"
     ]
    },
    {
     "name": "stdout",
     "output_type": "stream",
     "text": [
      "epoch 600| loss: 0.09696 | train_mse: 0.0472  | train_mae: 0.16595 |  0:00:55s\n",
      "epoch 601| loss: 0.09239 | train_mse: 0.04693 | train_mae: 0.16519 |  0:00:55s\n",
      "epoch 602| loss: 0.09034 | train_mse: 0.04664 | train_mae: 0.16316 |  0:00:56s\n"
     ]
    },
    {
     "name": "stdout",
     "output_type": "stream",
     "text": [
      "epoch 603| loss: 0.16552 | train_mse: 0.04726 | train_mae: 0.16651 |  0:00:56s\n",
      "epoch 604| loss: 0.16918 | train_mse: 0.04633 | train_mae: 0.16486 |  0:00:56s\n",
      "epoch 605| loss: 0.16027 | train_mse: 0.04655 | train_mae: 0.16543 |  0:00:56s\n"
     ]
    },
    {
     "name": "stdout",
     "output_type": "stream",
     "text": [
      "epoch 606| loss: 0.08866 | train_mse: 0.04672 | train_mae: 0.16782 |  0:00:56s\n",
      "epoch 607| loss: 0.08827 | train_mse: 0.04736 | train_mae: 0.1699  |  0:00:56s\n",
      "epoch 608| loss: 0.11454 | train_mse: 0.04583 | train_mae: 0.16584 |  0:00:56s\n"
     ]
    },
    {
     "name": "stdout",
     "output_type": "stream",
     "text": [
      "epoch 609| loss: 0.08847 | train_mse: 0.04611 | train_mae: 0.16879 |  0:00:56s\n",
      "epoch 610| loss: 0.08772 | train_mse: 0.04589 | train_mae: 0.1679  |  0:00:56s\n",
      "epoch 611| loss: 0.07546 | train_mse: 0.04548 | train_mae: 0.16628 |  0:00:56s\n"
     ]
    },
    {
     "name": "stdout",
     "output_type": "stream",
     "text": [
      "epoch 612| loss: 0.12521 | train_mse: 0.04651 | train_mae: 0.1693  |  0:00:56s\n",
      "epoch 613| loss: 0.09009 | train_mse: 0.04339 | train_mae: 0.16381 |  0:00:56s\n",
      "epoch 614| loss: 0.07355 | train_mse: 0.04165 | train_mae: 0.16015 |  0:00:57s\n"
     ]
    },
    {
     "name": "stdout",
     "output_type": "stream",
     "text": [
      "epoch 615| loss: 0.08074 | train_mse: 0.0401  | train_mae: 0.15619 |  0:00:57s\n",
      "epoch 616| loss: 0.09798 | train_mse: 0.03939 | train_mae: 0.15557 |  0:00:57s\n",
      "epoch 617| loss: 0.07383 | train_mse: 0.03909 | train_mae: 0.15588 |  0:00:57s\n"
     ]
    },
    {
     "name": "stdout",
     "output_type": "stream",
     "text": [
      "epoch 618| loss: 0.08755 | train_mse: 0.04104 | train_mae: 0.1591  |  0:00:57s\n",
      "epoch 619| loss: 0.07381 | train_mse: 0.04283 | train_mae: 0.16264 |  0:00:57s\n",
      "epoch 620| loss: 0.0907  | train_mse: 0.04567 | train_mae: 0.16822 |  0:00:57s\n"
     ]
    },
    {
     "name": "stdout",
     "output_type": "stream",
     "text": [
      "epoch 621| loss: 0.105   | train_mse: 0.04922 | train_mae: 0.17426 |  0:00:57s\n",
      "epoch 622| loss: 0.10922 | train_mse: 0.05007 | train_mae: 0.17382 |  0:00:57s\n",
      "epoch 623| loss: 0.22465 | train_mse: 0.05236 | train_mae: 0.17721 |  0:00:57s\n"
     ]
    },
    {
     "name": "stdout",
     "output_type": "stream",
     "text": [
      "epoch 624| loss: 0.14459 | train_mse: 0.05366 | train_mae: 0.1781  |  0:00:57s\n",
      "epoch 625| loss: 0.12814 | train_mse: 0.05298 | train_mae: 0.17697 |  0:00:58s\n",
      "epoch 626| loss: 0.13237 | train_mse: 0.04978 | train_mae: 0.17049 |  0:00:58s\n"
     ]
    },
    {
     "name": "stdout",
     "output_type": "stream",
     "text": [
      "epoch 627| loss: 0.12954 | train_mse: 0.04881 | train_mae: 0.17006 |  0:00:58s\n",
      "epoch 628| loss: 0.18204 | train_mse: 0.04786 | train_mae: 0.16948 |  0:00:58s\n",
      "epoch 629| loss: 0.08209 | train_mse: 0.0453  | train_mae: 0.16422 |  0:00:58s\n"
     ]
    },
    {
     "name": "stdout",
     "output_type": "stream",
     "text": [
      "epoch 630| loss: 0.1859  | train_mse: 0.04223 | train_mae: 0.15867 |  0:00:58s\n",
      "epoch 631| loss: 0.11577 | train_mse: 0.04169 | train_mae: 0.15949 |  0:00:58s\n",
      "epoch 632| loss: 0.13108 | train_mse: 0.04348 | train_mae: 0.16426 |  0:00:58s\n"
     ]
    },
    {
     "name": "stdout",
     "output_type": "stream",
     "text": [
      "epoch 633| loss: 0.14968 | train_mse: 0.04406 | train_mae: 0.16715 |  0:00:58s\n",
      "epoch 634| loss: 0.18494 | train_mse: 0.04533 | train_mae: 0.16999 |  0:00:58s\n",
      "epoch 635| loss: 0.08277 | train_mse: 0.04615 | train_mae: 0.17106 |  0:00:58s\n"
     ]
    },
    {
     "name": "stdout",
     "output_type": "stream",
     "text": [
      "epoch 636| loss: 0.15265 | train_mse: 0.04734 | train_mae: 0.17394 |  0:00:58s\n",
      "epoch 637| loss: 0.10471 | train_mse: 0.04718 | train_mae: 0.17438 |  0:00:59s\n",
      "epoch 638| loss: 0.08993 | train_mse: 0.04695 | train_mae: 0.17432 |  0:00:59s\n"
     ]
    },
    {
     "name": "stdout",
     "output_type": "stream",
     "text": [
      "epoch 639| loss: 0.07308 | train_mse: 0.04699 | train_mae: 0.17429 |  0:00:59s\n",
      "epoch 640| loss: 0.10738 | train_mse: 0.04688 | train_mae: 0.1737  |  0:00:59s\n",
      "epoch 641| loss: 0.13678 | train_mse: 0.04649 | train_mae: 0.17311 |  0:00:59s\n"
     ]
    },
    {
     "name": "stdout",
     "output_type": "stream",
     "text": [
      "epoch 642| loss: 0.11889 | train_mse: 0.04554 | train_mae: 0.17343 |  0:00:59s\n",
      "epoch 643| loss: 0.14867 | train_mse: 0.04613 | train_mae: 0.17431 |  0:00:59s\n",
      "epoch 644| loss: 0.09439 | train_mse: 0.04669 | train_mae: 0.17501 |  0:00:59s"
     ]
    },
    {
     "name": "stdout",
     "output_type": "stream",
     "text": [
      "\n",
      "epoch 645| loss: 0.13081 | train_mse: 0.04784 | train_mae: 0.17653 |  0:00:59s\n",
      "epoch 646| loss: 0.09433 | train_mse: 0.04745 | train_mae: 0.17523 |  0:00:59s\n"
     ]
    },
    {
     "name": "stdout",
     "output_type": "stream",
     "text": [
      "epoch 647| loss: 0.09725 | train_mse: 0.04822 | train_mae: 0.17475 |  0:00:59s\n",
      "epoch 648| loss: 0.13869 | train_mse: 0.05109 | train_mae: 0.17824 |  0:00:59s\n",
      "epoch 649| loss: 0.0621  | train_mse: 0.05198 | train_mae: 0.17875 |  0:01:00s\n"
     ]
    },
    {
     "name": "stdout",
     "output_type": "stream",
     "text": [
      "epoch 650| loss: 0.14225 | train_mse: 0.05223 | train_mae: 0.17884 |  0:01:00s\n",
      "epoch 651| loss: 0.10769 | train_mse: 0.05047 | train_mae: 0.17559 |  0:01:00s\n",
      "epoch 652| loss: 0.05898 | train_mse: 0.04795 | train_mae: 0.17103 |  0:01:00s\n"
     ]
    },
    {
     "name": "stdout",
     "output_type": "stream",
     "text": [
      "epoch 653| loss: 0.08452 | train_mse: 0.04751 | train_mae: 0.17021 |  0:01:00s\n",
      "epoch 654| loss: 0.10761 | train_mse: 0.04656 | train_mae: 0.16743 |  0:01:00s\n",
      "epoch 655| loss: 0.11671 | train_mse: 0.04727 | train_mae: 0.16693 |  0:01:00s\n"
     ]
    },
    {
     "name": "stdout",
     "output_type": "stream",
     "text": [
      "epoch 656| loss: 0.11331 | train_mse: 0.04782 | train_mae: 0.16718 |  0:01:00s\n",
      "epoch 657| loss: 0.07575 | train_mse: 0.04735 | train_mae: 0.16646 |  0:01:00s\n",
      "epoch 658| loss: 0.06779 | train_mse: 0.0474  | train_mae: 0.16672 |  0:01:00s\n"
     ]
    },
    {
     "name": "stdout",
     "output_type": "stream",
     "text": [
      "epoch 659| loss: 0.11465 | train_mse: 0.04652 | train_mae: 0.16601 |  0:01:00s\n",
      "epoch 660| loss: 0.09541 | train_mse: 0.04538 | train_mae: 0.16474 |  0:01:01s\n",
      "epoch 661| loss: 0.1792  | train_mse: 0.04557 | train_mae: 0.16519 |  0:01:01s\n"
     ]
    },
    {
     "name": "stdout",
     "output_type": "stream",
     "text": [
      "epoch 662| loss: 0.17801 | train_mse: 0.04766 | train_mae: 0.17051 |  0:01:01s\n",
      "epoch 663| loss: 0.10454 | train_mse: 0.04934 | train_mae: 0.17396 |  0:01:01s\n",
      "epoch 664| loss: 0.10657 | train_mse: 0.04974 | train_mae: 0.17555 |  0:01:01s\n"
     ]
    },
    {
     "name": "stdout",
     "output_type": "stream",
     "text": [
      "epoch 665| loss: 0.07005 | train_mse: 0.05098 | train_mae: 0.17787 |  0:01:01s\n",
      "epoch 666| loss: 0.07037 | train_mse: 0.04992 | train_mae: 0.17859 |  0:01:01s\n",
      "\n",
      "Early stopping occurred at epoch 666 with best_epoch = 616 and best_train_mae = 0.15557\n",
      "Best weights from best epoch are automatically used!\n"
     ]
    }
   ],
   "source": [
    "#Train the Model\n",
    "\n",
    "Y_train = np.reshape(Y_train, (-1, 1))\n",
    "Y_test = np.reshape(Y_test, (-1, 1))\n",
    "\n",
    "prior_model = TabNetRegressor(optimizer_fn=torch.optim.Adam, optimizer_params=dict(lr = 0.001),\n",
    "          #scheduler_params={\"step_size\":10, ], \"gamma\":0.9},\n",
    "          #scheduler_fn=torch.optim.lr_scheduler.StepLR\n",
    "          )  #TabNetRegressor()\n",
    "\n",
    "prior_model.fit(X_train,Y_train,eval_set=[(X_train, Y_train)],\n",
    "            eval_name=['train'], \n",
    "            eval_metric=[ 'mse', 'mae'], \n",
    "            max_epochs = n_epochs, \n",
    "            batch_size = batch_size,\n",
    "            patience=50\n",
    "            )"
   ]
  },
  {
   "cell_type": "code",
   "execution_count": 10,
   "id": "af65dcda",
   "metadata": {
    "execution": {
     "iopub.execute_input": "2022-07-22T12:20:49.371942Z",
     "iopub.status.busy": "2022-07-22T12:20:49.371316Z",
     "iopub.status.idle": "2022-07-22T12:20:49.456499Z",
     "shell.execute_reply": "2022-07-22T12:20:49.455107Z"
    },
    "id": "af65dcda",
    "papermill": {
     "duration": 0.121763,
     "end_time": "2022-07-22T12:20:49.459846",
     "exception": false,
     "start_time": "2022-07-22T12:20:49.338083",
     "status": "completed"
    },
    "tags": []
   },
   "outputs": [
    {
     "data": {
      "application/scrapbook.scrap.json+json": {
       "data": 0.3168782708077512,
       "encoder": "json",
       "name": "Prior Model MSE",
       "version": 1
      }
     },
     "metadata": {
      "scrapbook": {
       "data": true,
       "display": false,
       "name": "Prior Model MSE"
      }
     },
     "output_type": "display_data"
    },
    {
     "data": {
      "application/scrapbook.scrap.json+json": {
       "data": 0.3167105311811115,
       "encoder": "json",
       "name": "ABC Pre-generator MSE",
       "version": 1
      }
     },
     "metadata": {
      "scrapbook": {
       "data": true,
       "display": false,
       "name": "ABC Pre-generator MSE"
      }
     },
     "output_type": "display_data"
    },
    {
     "data": {
      "application/scrapbook.scrap.json+json": {
       "data": 0.4420453361104205,
       "encoder": "json",
       "name": "Prior Model MAE",
       "version": 1
      }
     },
     "metadata": {
      "scrapbook": {
       "data": true,
       "display": false,
       "name": "Prior Model MAE"
      }
     },
     "output_type": "display_data"
    },
    {
     "name": "stdout",
     "output_type": "stream",
     "text": [
      "Prior Model MAE 0.4420453361104205\n"
     ]
    },
    {
     "data": {
      "application/scrapbook.scrap.json+json": {
       "data": 0.4402618474763811,
       "encoder": "json",
       "name": "ABC Pre-generator MAE",
       "version": 1
      }
     },
     "metadata": {
      "scrapbook": {
       "data": true,
       "display": false,
       "name": "ABC Pre-generator MAE"
      }
     },
     "output_type": "display_data"
    },
    {
     "name": "stdout",
     "output_type": "stream",
     "text": [
      "ABC Pre-generator MAE 0.4402618474763811\n"
     ]
    }
   ],
   "source": [
    "y_pred = prior_model.predict(X_test)\n",
    "y_abc = y_pred + np.random.normal(0,variance, y_pred.shape) + bias \n",
    "mse = mean_squared_error(y_pred,Y_test)\n",
    "sb.glue(\"Prior Model MSE\",mse)\n",
    "mse = mean_squared_error(y_abc,Y_test)\n",
    "sb.glue(\"ABC Pre-generator MSE\",mse)\n",
    "mae = mean_absolute_error(y_pred,Y_test)\n",
    "sb.glue(\"Prior Model MAE\",mae)\n",
    "print(\"Prior Model MAE\",mae)\n",
    "mae = mean_absolute_error(y_abc,Y_test)\n",
    "sb.glue(\"ABC Pre-generator MAE\",mae)\n",
    "print(\"ABC Pre-generator MAE\",mae)"
   ]
  },
  {
   "cell_type": "markdown",
   "id": "25609da2",
   "metadata": {
    "papermill": {
     "duration": 0.036934,
     "end_time": "2022-07-22T12:20:49.525098",
     "exception": false,
     "start_time": "2022-07-22T12:20:49.488164",
     "status": "completed"
    },
    "tags": []
   },
   "source": [
    "# mGAN Model"
   ]
  },
  {
   "cell_type": "code",
   "execution_count": 11,
   "id": "dfc3464d",
   "metadata": {
    "execution": {
     "iopub.execute_input": "2022-07-22T12:20:49.610241Z",
     "iopub.status.busy": "2022-07-22T12:20:49.609088Z",
     "iopub.status.idle": "2022-07-22T12:20:49.618834Z",
     "shell.execute_reply": "2022-07-22T12:20:49.616243Z"
    },
    "papermill": {
     "duration": 0.055265,
     "end_time": "2022-07-22T12:20:49.628353",
     "exception": false,
     "start_time": "2022-07-22T12:20:49.573088",
     "status": "completed"
    },
    "tags": []
   },
   "outputs": [],
   "source": [
    "# gen = network.Generator(n_features+1).to(device)\n",
    "# disc = network.Discriminator(n_features+1).to(device)\n",
    "\n",
    "# criterion = torch.nn.BCELoss()\n",
    "# gen_opt = torch.optim.Adam(gen.parameters(), lr=0.001, betas=(0.5, 0.999))\n",
    "# disc_opt = torch.optim.Adam(disc.parameters(), lr=0.001, betas=(0.5, 0.999))"
   ]
  },
  {
   "cell_type": "code",
   "execution_count": 12,
   "id": "b75fdd85",
   "metadata": {
    "execution": {
     "iopub.execute_input": "2022-07-22T12:20:49.709133Z",
     "iopub.status.busy": "2022-07-22T12:20:49.708302Z",
     "iopub.status.idle": "2022-07-22T12:20:49.715873Z",
     "shell.execute_reply": "2022-07-22T12:20:49.712137Z"
    },
    "papermill": {
     "duration": 0.082006,
     "end_time": "2022-07-22T12:20:49.750176",
     "exception": false,
     "start_time": "2022-07-22T12:20:49.668170",
     "status": "completed"
    },
    "tags": []
   },
   "outputs": [],
   "source": [
    "#Training the ABC_GAN \n",
    "# ABC_train_test2.training_GAN(disc,gen,disc_opt,gen_opt,train_data,batch_size,n_epochs,criterion,prior_model,variance,bias,device)"
   ]
  },
  {
   "cell_type": "code",
   "execution_count": 13,
   "id": "1fa7c368",
   "metadata": {
    "execution": {
     "iopub.execute_input": "2022-07-22T12:20:49.885066Z",
     "iopub.status.busy": "2022-07-22T12:20:49.883899Z",
     "iopub.status.idle": "2022-07-22T12:20:49.890327Z",
     "shell.execute_reply": "2022-07-22T12:20:49.889249Z"
    },
    "papermill": {
     "duration": 0.059936,
     "end_time": "2022-07-22T12:20:49.896762",
     "exception": false,
     "start_time": "2022-07-22T12:20:49.836826",
     "status": "completed"
    },
    "tags": []
   },
   "outputs": [],
   "source": [
    "# ABC_GAN1_metrics=ABC_train_test2.test_generator(gen,test_data,prior_model,variance,bias,\"1\",device)\n",
    "# sb.glue(\"ABC_GAN_1 Metrics\",ABC_GAN1_metrics)\n",
    "\n",
    "# print(\"MAE\")\n",
    "# print(mean(ABC_GAN1_metrics[1]))"
   ]
  },
  {
   "cell_type": "code",
   "execution_count": 14,
   "id": "eb22ce5c",
   "metadata": {
    "execution": {
     "iopub.execute_input": "2022-07-22T12:20:49.990116Z",
     "iopub.status.busy": "2022-07-22T12:20:49.989624Z",
     "iopub.status.idle": "2022-07-22T12:20:49.995580Z",
     "shell.execute_reply": "2022-07-22T12:20:49.994468Z"
    },
    "papermill": {
     "duration": 0.078233,
     "end_time": "2022-07-22T12:20:50.014973",
     "exception": false,
     "start_time": "2022-07-22T12:20:49.936740",
     "status": "completed"
    },
    "tags": []
   },
   "outputs": [],
   "source": [
    "# sanityChecks.discProbVsError(train_data,disc,device)\n",
    "# sanityChecks.discProbVsError(test_data,disc,device)"
   ]
  },
  {
   "cell_type": "markdown",
   "id": "a58bc9b4",
   "metadata": {
    "papermill": {
     "duration": 0.043143,
     "end_time": "2022-07-22T12:20:50.096306",
     "exception": false,
     "start_time": "2022-07-22T12:20:50.053163",
     "status": "completed"
    },
    "tags": []
   },
   "source": [
    "# mGAN Model with TabNet Generator"
   ]
  },
  {
   "cell_type": "code",
   "execution_count": 15,
   "id": "e5e42f04",
   "metadata": {
    "execution": {
     "iopub.execute_input": "2022-07-22T12:20:50.175242Z",
     "iopub.status.busy": "2022-07-22T12:20:50.174695Z",
     "iopub.status.idle": "2022-07-22T12:20:50.201149Z",
     "shell.execute_reply": "2022-07-22T12:20:50.200046Z"
    },
    "papermill": {
     "duration": 0.076114,
     "end_time": "2022-07-22T12:20:50.206928",
     "exception": false,
     "start_time": "2022-07-22T12:20:50.130814",
     "status": "completed"
    },
    "tags": []
   },
   "outputs": [],
   "source": [
    "gen2 = network.GeneratorTabnet(n_features+1).to(device)\n",
    "disc2 = network.Discriminator(n_features+1).to(device)\n",
    "\n",
    "criterion = torch.nn.BCELoss()\n",
    "gen_opt = torch.optim.Adam(gen2.parameters(), lr=0.001, betas=(0.5, 0.999))\n",
    "disc_opt = torch.optim.Adam(disc2.parameters(), lr=0.001, betas=(0.5, 0.999))"
   ]
  },
  {
   "cell_type": "code",
   "execution_count": 16,
   "id": "4cfd606f",
   "metadata": {
    "execution": {
     "iopub.execute_input": "2022-07-22T12:20:50.288431Z",
     "iopub.status.busy": "2022-07-22T12:20:50.287845Z",
     "iopub.status.idle": "2022-07-22T12:23:27.459147Z",
     "shell.execute_reply": "2022-07-22T12:23:27.457659Z"
    },
    "papermill": {
     "duration": 157.204894,
     "end_time": "2022-07-22T12:23:27.462557",
     "exception": false,
     "start_time": "2022-07-22T12:20:50.257663",
     "status": "completed"
    },
    "tags": []
   },
   "outputs": [
    {
     "data": {
      "image/png": "[encoded data removed]",
      "text/plain": [
       "<Figure size 432x288 with 1 Axes>"
      ]
     },
     "metadata": {
      "needs_background": "light"
     },
     "output_type": "display_data"
    },
    {
     "data": {
      "image/png": "[encoded data removed]",
      "text/plain": [
       "<Figure size 432x288 with 1 Axes>"
      ]
     },
     "metadata": {
      "needs_background": "light"
     },
     "output_type": "display_data"
    }
   ],
   "source": [
    "#Training the ABC_GAN \n",
    "ABC_train_test2.training_GAN(disc2,gen2,disc_opt,gen_opt,train_data,batch_size,n_epochs,criterion,prior_model,variance,bias,device)"
   ]
  },
  {
   "cell_type": "code",
   "execution_count": 17,
   "id": "e52498bd",
   "metadata": {
    "execution": {
     "iopub.execute_input": "2022-07-22T12:23:27.513466Z",
     "iopub.status.busy": "2022-07-22T12:23:27.513053Z",
     "iopub.status.idle": "2022-07-22T12:23:29.521869Z",
     "shell.execute_reply": "2022-07-22T12:23:29.519965Z"
    },
    "papermill": {
     "duration": 2.039299,
     "end_time": "2022-07-22T12:23:29.525696",
     "exception": false,
     "start_time": "2022-07-22T12:23:27.486397",
     "status": "completed"
    },
    "tags": []
   },
   "outputs": [
    {
     "data": {
      "application/scrapbook.scrap.json+json": {
       "data": 0.4942711289165229,
       "encoder": "json",
       "name": "ABC-GAN Model 1 MSE",
       "version": 1
      }
     },
     "metadata": {
      "scrapbook": {
       "data": true,
       "display": false,
       "name": "ABC-GAN Model 1 MSE"
      }
     },
     "output_type": "display_data"
    },
    {
     "data": {
      "application/scrapbook.scrap.json+json": {
       "data": 0.556821941619739,
       "encoder": "json",
       "name": "ABC-GAN Model 1 MAE",
       "version": 1
      }
     },
     "metadata": {
      "scrapbook": {
       "data": true,
       "display": false,
       "name": "ABC-GAN Model 1 MAE"
      }
     },
     "output_type": "display_data"
    },
    {
     "data": {
      "application/scrapbook.scrap.json+json": {
       "data": 11.136438832394779,
       "encoder": "json",
       "name": "ABC-GAN Model 1 Manhattan Distance",
       "version": 1
      }
     },
     "metadata": {
      "scrapbook": {
       "data": true,
       "display": false,
       "name": "ABC-GAN Model 1 Manhattan Distance"
      }
     },
     "output_type": "display_data"
    },
    {
     "data": {
      "application/scrapbook.scrap.json+json": {
       "data": 3.1440671053492184,
       "encoder": "json",
       "name": "ABC-GAN Model 1 Euclidean distance",
       "version": 1
      }
     },
     "metadata": {
      "scrapbook": {
       "data": true,
       "display": false,
       "name": "ABC-GAN Model 1 Euclidean distance"
      }
     },
     "output_type": "display_data"
    },
    {
     "data": {
      "application/scrapbook.scrap.json+json": {
       "data": [
        [
         0.4946369082444903,
         0.49416600097886665,
         0.4896218040525001,
         0.49784341889389055,
         0.4955787376437682,
         0.5000892740697307,
         0.48829792765437574,
         0.4902060262641584,
         0.4923796439655991,
         0.5012487955710412,
         0.49634617830039485,
         0.4914307573972788,
         0.4854832312182783,
         0.49312922777515633,
         0.4907629113263262,
         0.49577637194186935,
         0.48993185554841023,
         0.49225524653961655,
         0.5013438452475233,
         0.4985205712893782,
         0.49330772549242335,
         0.49889376167210636,
         0.5029960227008937,
         0.4925204424851387,
         0.48848967259786596,
         0.4903119212370225,
         0.4919680372252918,
         0.49844850536177443,
         0.49339605509335804,
         0.4931122768858504,
         0.48738921813707137,
         0.49592339950517045,
         0.49174975558300427,
         0.4974552017564191,
         0.493521366193103,
         0.49450245876053583,
         0.4836563170735918,
         0.49331623063667945,
         0.49695018797555796,
         0.4853110803196602,
         0.49419866815175445,
         0.49049953250810974,
         0.5020010508486189,
         0.4971721142753852,
         0.49667503844008304,
         0.4924863998672251,
         0.4831812504261082,
         0.5002150823248138,
         0.5030204141868572,
         0.4859865914641864,
         0.4874066215113297,
         0.4837490803934143,
         0.4988827271739936,
         0.4979031158901872,
         0.49877654479321604,
         0.49348685701080053,
         0.4843033601891166,
         0.499680560680004,
         0.49665142345533725,
         0.4956434233335365,
         0.4953347050130617,
         0.4944509826903534,
         0.501512762823072,
         0.5047336593477473,
         0.49660005297361726,
         0.49742131438886084,
         0.5013113723815806,
         0.4969426595171008,
         0.5028324299759038,
         0.49489989573935966,
         0.4982672553672396,
         0.49913139404345586,
         0.4830303415843421,
         0.4871519715169567,
         0.5027495883657223,
         0.49358650705294627,
         0.490965209571354,
         0.4885885994116812,
         0.4922159461457545,
         0.4914913501024641,
         0.5006967317421036,
         0.48971734894577923,
         0.49518189713089084,
         0.4953544939592852,
         0.4987299701051338,
         0.49414065440795485,
         0.503768515576897,
         0.48924562345657546,
         0.49638225474910824,
         0.4901584197799947,
         0.49386106978544325,
         0.4873683207095647,
         0.4901191639274577,
         0.49288336766173246,
         0.4904952768697187,
         0.49253764736168615,
         0.4979435671086847,
         0.4983484828670536,
         0.4910287122562256,
         0.5017451476991772
        ],
        [
         0.5573583064600826,
         0.556406925804913,
         0.5546188173815608,
         0.5577002326026559,
         0.5539679672569037,
         0.5625608613714576,
         0.5580195251852273,
         0.5562360100448132,
         0.5580144360661506,
         0.5575192147865892,
         0.5550604619085788,
         0.5547229167073965,
         0.5569909615442157,
         0.5583670232445002,
         0.5583910509943962,
         0.5597462901845575,
         0.5542352102696896,
         0.5547784890979528,
         0.5607502926141024,
         0.5569213518872858,
         0.5551995197311044,
         0.5582469161599874,
         0.5573994474485516,
         0.55634346306324,
         0.5553779015317559,
         0.5529358701780438,
         0.555040261335671,
         0.5567345140501857,
         0.5573963928967715,
         0.5590371455997228,
         0.5546243831515312,
         0.5588164277374744,
         0.5558864647522569,
         0.5571252927184105,
         0.5570109833031893,
         0.5590242855250835,
         0.553999076038599,
         0.5562947193160653,
         0.558774776943028,
         0.5569110788404942,
         0.5559030458331108,
         0.5580219112336635,
         0.5583242677152157,
         0.5593004474416375,
         0.5557072138413787,
         0.5530269322916865,
         0.5518449435010553,
         0.5599987473338842,
         0.5585326028987765,
         0.5558031227439642,
         0.5575113993138074,
         0.5528560169041157,
         0.5587279133498668,
         0.5578446598723531,
         0.5588684575632215,
         0.5563634179532528,
         0.5539149053394794,
         0.5586109345778822,
         0.5567826576530933,
         0.5573235891759396,
         0.5542171899229288,
         0.5578179210424423,
         0.5596118925139308,
         0.5585105005651713,
         0.5534025525674224,
         0.5548585729673505,
         0.5618666242808104,
         0.55802405718714,
         0.5593107094988227,
         0.555290256626904,
         0.5610136605799199,
         0.5599635720252991,
         0.5528225028887391,
         0.557293470390141,
         0.5578319083899259,
         0.554948602989316,
         0.55193633697927,
         0.5601992294192314,
         0.5556909035891294,
         0.5535414380952716,
         0.5617863850668072,
         0.5565856724977494,
         0.5549241971224547,
         0.5575923282653094,
         0.5575215887278319,
         0.5551943015307188,
         0.5592307809740305,
         0.5535681061446667,
         0.5577831335365773,
         0.5557839317247272,
         0.5540828043594956,
         0.5578266462311149,
         0.5563469035550952,
         0.558186193741858,
         0.556354851834476,
         0.5531522190198302,
         0.556193713285029,
         0.5565564390271902,
         0.5565516475588084,
         0.5590079629793763
        ],
        [
         11.14716612920165,
         11.12813851609826,
         11.092376347631216,
         11.154004652053118,
         11.079359345138073,
         11.251217227429152,
         11.160390503704548,
         11.124720200896263,
         11.160288721323013,
         11.150384295731783,
         11.101209238171577,
         11.09445833414793,
         11.139819230884314,
         11.167340464890003,
         11.167821019887924,
         11.194925803691149,
         11.084704205393791,
         11.095569781959057,
         11.215005852282047,
         11.138427037745714,
         11.103990394622087,
         11.164938323199749,
         11.147988948971033,
         11.126869261264801,
         11.107558030635118,
         11.058717403560877,
         11.100805226713419,
         11.134690281003714,
         11.147927857935429,
         11.180742911994457,
         11.092487663030624,
         11.176328554749489,
         11.117729295045137,
         11.14250585436821,
         11.140219666063786,
         11.18048571050167,
         11.07998152077198,
         11.125894386321306,
         11.17549553886056,
         11.138221576809883,
         11.118060916662216,
         11.160438224673271,
         11.166485354304314,
         11.18600894883275,
         11.114144276827574,
         11.06053864583373,
         11.036898870021105,
         11.199974946677685,
         11.17065205797553,
         11.116062454879284,
         11.15022798627615,
         11.057120338082314,
         11.174558266997337,
         11.156893197447062,
         11.177369151264429,
         11.127268359065056,
         11.078298106789589,
         11.172218691557646,
         11.135653153061867,
         11.146471783518791,
         11.084343798458576,
         11.156358420848846,
         11.192237850278616,
         11.170210011303425,
         11.068051051348448,
         11.09717145934701,
         11.237332485616207,
         11.1604811437428,
         11.186214189976454,
         11.10580513253808,
         11.220273211598396,
         11.199271440505981,
         11.056450057774782,
         11.14586940780282,
         11.15663816779852,
         11.09897205978632,
         11.0387267395854,
         11.203984588384628,
         11.113818071782589,
         11.070828761905432,
         11.235727701336145,
         11.131713449954987,
         11.098483942449093,
         11.151846565306187,
         11.150431774556637,
         11.103886030614376,
         11.18461561948061,
         11.071362122893333,
         11.155662670731544,
         11.115678634494543,
         11.081656087189913,
         11.156532924622297,
         11.126938071101904,
         11.16372387483716,
         11.12709703668952,
         11.063044380396605,
         11.123874265700579,
         11.131128780543804,
         11.131032951176167,
         11.180159259587526
        ],
        [
         3.145272351464942,
         3.1437748042086815,
         3.1292868326585217,
         3.15545058238563,
         3.1482653561724057,
         3.162559956964391,
         3.125053368038299,
         3.1311532260946877,
         3.138087455650652,
         3.1662242358084534,
         3.1507020750949932,
         3.1350622239352086,
         3.116033476130442,
         3.1404752117319963,
         3.132931251484227,
         3.148893049761676,
         3.1302774814652143,
         3.1376910190126006,
         3.1665244203938276,
         3.1575958300244134,
         3.1410435383560773,
         3.1587774903342156,
         3.1717377656448638,
         3.1385360997928275,
         3.125666881156295,
         3.1314914058225436,
         3.1367755330124973,
         3.1573675914019717,
         3.141324736773828,
         3.140421235712975,
         3.1221441931373746,
         3.1493599333997078,
         3.1360795767422873,
         3.154220035940483,
         3.1417236230868655,
         3.144844857097201,
         3.1101650022903664,
         3.1410706156872035,
         3.152618555980276,
         3.115480959080508,
         3.1438787131559462,
         3.132090460086074,
         3.16859921999807,
         3.153322420163803,
         3.1517456700694715,
         3.138427631369648,
         3.1086371625717537,
         3.162957737070838,
         3.1718146673059477,
         3.117648445428658,
         3.1221999343774565,
         3.110463246506585,
         3.158742557328766,
         3.1556397636301496,
         3.158406385483718,
         3.1416137796069092,
         3.11224472106265,
         3.1612673429496723,
         3.151670742496231,
         3.1484708140096727,
         3.1474901271110025,
         3.144681168863875,
         3.1670578233530002,
         3.1772115426825054,
         3.1515077438382324,
         3.154112599096173,
         3.1664218682341763,
         3.152594675872878,
         3.171221941069102,
         3.146108376198632,
         3.1567934850643606,
         3.15952969298741,
         3.108151674498341,
         3.1213842170324266,
         3.1709607010044203,
         3.14193095739848,
         3.1335769005127476,
         3.125983363396809,
         3.1375657639187566,
         3.1352554923082874,
         3.1644801523855497,
         3.1295921425827333,
         3.1470045984424324,
         3.1475529986301587,
         3.1582589194210593,
         3.1436941785356756,
         3.1741723821396244,
         3.1280844728254236,
         3.1508165759025335,
         3.1310011810281857,
         3.142804702126568,
         3.122077259484668,
         3.130875800562704,
         3.139692238617449,
         3.1320768728424233,
         3.1385909174713613,
         3.155767948087073,
         3.15705078472632,
         3.1337795463504627,
         3.167791494714187
        ]
       ],
       "encoder": "json",
       "name": "ABC_GAN_2 Metrics",
       "version": 1
      }
     },
     "metadata": {
      "scrapbook": {
       "data": true,
       "display": false,
       "name": "ABC_GAN_2 Metrics"
      }
     },
     "output_type": "display_data"
    },
    {
     "name": "stdout",
     "output_type": "stream",
     "text": [
      "MAE\n",
      "0.556821941619739\n"
     ]
    }
   ],
   "source": [
    "ABC_GAN2_metrics=ABC_train_test2.test_generator(gen2,test_data,prior_model,variance,bias,\"1\",device)\n",
    "sb.glue(\"ABC_GAN_2 Metrics\",ABC_GAN2_metrics)\n",
    "\n",
    "print(\"MAE\")\n",
    "print(mean(ABC_GAN2_metrics[1]))"
   ]
  },
  {
   "cell_type": "code",
   "execution_count": 18,
   "id": "e08b0774",
   "metadata": {
    "execution": {
     "iopub.execute_input": "2022-07-22T12:23:29.608075Z",
     "iopub.status.busy": "2022-07-22T12:23:29.607391Z",
     "iopub.status.idle": "2022-07-22T12:23:30.793596Z",
     "shell.execute_reply": "2022-07-22T12:23:30.791347Z"
    },
    "papermill": {
     "duration": 1.237901,
     "end_time": "2022-07-22T12:23:30.797351",
     "exception": false,
     "start_time": "2022-07-22T12:23:29.559450",
     "status": "completed"
    },
    "tags": []
   },
   "outputs": [
    {
     "data": {
      "image/png": "[encoded data removed]",
      "text/plain": [
       "<Figure size 432x288 with 1 Axes>"
      ]
     },
     "metadata": {
      "needs_background": "light"
     },
     "output_type": "display_data"
    },
    {
     "data": {
      "image/png": "[encoded data removed]",
      "text/plain": [
       "<Figure size 432x288 with 1 Axes>"
      ]
     },
     "metadata": {
      "needs_background": "light"
     },
     "output_type": "display_data"
    },
    {
     "data": {
      "image/png": "[encoded data removed]",
      "text/plain": [
       "<Figure size 432x288 with 1 Axes>"
      ]
     },
     "metadata": {
      "needs_background": "light"
     },
     "output_type": "display_data"
    },
    {
     "data": {
      "image/png": "[encoded data removed]",
      "text/plain": [
       "<Figure size 432x288 with 1 Axes>"
      ]
     },
     "metadata": {
      "needs_background": "light"
     },
     "output_type": "display_data"
    }
   ],
   "source": [
    "sanityChecks.discProbVsError(train_data,disc2,device)\n",
    "sanityChecks.discProbVsError(test_data,disc2,device)"
   ]
  },
  {
   "cell_type": "markdown",
   "id": "130f3a4d",
   "metadata": {
    "id": "130f3a4d",
    "papermill": {
     "duration": 0.047997,
     "end_time": "2022-07-22T12:23:30.890611",
     "exception": false,
     "start_time": "2022-07-22T12:23:30.842614",
     "status": "completed"
    },
    "tags": []
   },
   "source": [
    "# skipGAN Model"
   ]
  },
  {
   "cell_type": "code",
   "execution_count": 19,
   "id": "4e43dad1",
   "metadata": {
    "execution": {
     "iopub.execute_input": "2022-07-22T12:23:30.980346Z",
     "iopub.status.busy": "2022-07-22T12:23:30.979864Z",
     "iopub.status.idle": "2022-07-22T12:23:30.987356Z",
     "shell.execute_reply": "2022-07-22T12:23:30.985858Z"
    },
    "id": "4e43dad1",
    "papermill": {
     "duration": 0.063302,
     "end_time": "2022-07-22T12:23:30.996255",
     "exception": false,
     "start_time": "2022-07-22T12:23:30.932953",
     "status": "completed"
    },
    "tags": []
   },
   "outputs": [],
   "source": [
    "# #Generator\n",
    "# gen3 = network.GeneratorWithSkipConnection(n_features+1).to(device)\n",
    "# constraints=network.weightConstraint()\n",
    "# #Discriminator \n",
    "# disc3 = network.Discriminator(n_features+1).to(device)\n",
    "\n",
    "# criterion = torch.nn.BCELoss()\n",
    "# gen_opt = torch.optim.Adam(gen3.parameters(), lr=0.01, betas=(0.5, 0.999))\n",
    "# disc_opt = torch.optim.Adam(disc3.parameters(), lr=0.01, betas=(0.5, 0.999))\n"
   ]
  },
  {
   "cell_type": "code",
   "execution_count": 20,
   "id": "26acbc37",
   "metadata": {
    "execution": {
     "iopub.execute_input": "2022-07-22T12:23:31.081249Z",
     "iopub.status.busy": "2022-07-22T12:23:31.080893Z",
     "iopub.status.idle": "2022-07-22T12:23:31.086983Z",
     "shell.execute_reply": "2022-07-22T12:23:31.084984Z"
    },
    "id": "26acbc37",
    "papermill": {
     "duration": 0.056624,
     "end_time": "2022-07-22T12:23:31.094303",
     "exception": false,
     "start_time": "2022-07-22T12:23:31.037679",
     "status": "completed"
    },
    "tags": []
   },
   "outputs": [],
   "source": [
    "# ABC_train_test2.training_GAN_skip_connection(disc3,gen3,disc_opt,gen_opt,train_data,batch_size,n_epochs,criterion,prior_model,variance,bias,device)"
   ]
  },
  {
   "cell_type": "code",
   "execution_count": 21,
   "id": "c5e0717b",
   "metadata": {
    "execution": {
     "iopub.execute_input": "2022-07-22T12:23:31.193499Z",
     "iopub.status.busy": "2022-07-22T12:23:31.192956Z",
     "iopub.status.idle": "2022-07-22T12:23:31.198835Z",
     "shell.execute_reply": "2022-07-22T12:23:31.196996Z"
    },
    "id": "c5e0717b",
    "papermill": {
     "duration": 0.066954,
     "end_time": "2022-07-22T12:23:31.208612",
     "exception": false,
     "start_time": "2022-07-22T12:23:31.141658",
     "status": "completed"
    },
    "tags": []
   },
   "outputs": [],
   "source": [
    "# ABC_GAN3_metrics=ABC_train_test2.test_generator(gen3,test_data,prior_model,variance,bias,\"3\",device)\n",
    "# sb.glue(\"ABC_GAN_3 Metrics\",ABC_GAN3_metrics)\n",
    "\n",
    "# print(\"MAE\")\n",
    "# print(mean(ABC_GAN3_metrics[1]))"
   ]
  },
  {
   "cell_type": "code",
   "execution_count": 22,
   "id": "c8e46b48",
   "metadata": {
    "execution": {
     "iopub.execute_input": "2022-07-22T12:23:31.316432Z",
     "iopub.status.busy": "2022-07-22T12:23:31.315583Z",
     "iopub.status.idle": "2022-07-22T12:23:31.320535Z",
     "shell.execute_reply": "2022-07-22T12:23:31.319415Z"
    },
    "id": "c8e46b48",
    "papermill": {
     "duration": 0.075346,
     "end_time": "2022-07-22T12:23:31.332646",
     "exception": false,
     "start_time": "2022-07-22T12:23:31.257300",
     "status": "completed"
    },
    "tags": []
   },
   "outputs": [],
   "source": [
    "# sanityChecks.discProbVsError(train_data,disc3,device)\n",
    "# sanityChecks.discProbVsError(test_data,disc3,device)"
   ]
  },
  {
   "cell_type": "markdown",
   "id": "2a769863",
   "metadata": {
    "id": "130f3a4d",
    "papermill": {
     "duration": 0.052563,
     "end_time": "2022-07-22T12:23:31.431829",
     "exception": false,
     "start_time": "2022-07-22T12:23:31.379266",
     "status": "completed"
    },
    "tags": []
   },
   "source": [
    "# skipGAN Model with TabNet Generator"
   ]
  },
  {
   "cell_type": "code",
   "execution_count": 23,
   "id": "7414b56e",
   "metadata": {
    "execution": {
     "iopub.execute_input": "2022-07-22T12:23:31.532164Z",
     "iopub.status.busy": "2022-07-22T12:23:31.531372Z",
     "iopub.status.idle": "2022-07-22T12:23:31.557448Z",
     "shell.execute_reply": "2022-07-22T12:23:31.555738Z"
    },
    "id": "4e43dad1",
    "papermill": {
     "duration": 0.097504,
     "end_time": "2022-07-22T12:23:31.576107",
     "exception": false,
     "start_time": "2022-07-22T12:23:31.478603",
     "status": "completed"
    },
    "tags": []
   },
   "outputs": [],
   "source": [
    "#Generator\n",
    "gen4 = network.GeneratorTabnetskipConnection(n_features+1).to(device)\n",
    "constraints=network.weightConstraint()\n",
    "#Discriminator \n",
    "disc4 = network.Discriminator(n_features+1).to(device)\n",
    "\n",
    "criterion = torch.nn.BCELoss()\n",
    "gen_opt = torch.optim.Adam(gen4.parameters(), lr=0.001, betas=(0.5, 0.999))\n",
    "disc_opt = torch.optim.Adam(disc4.parameters(), lr=0.001, betas=(0.5, 0.999))\n"
   ]
  },
  {
   "cell_type": "code",
   "execution_count": 24,
   "id": "1a073fe9",
   "metadata": {
    "execution": {
     "iopub.execute_input": "2022-07-22T12:23:31.680325Z",
     "iopub.status.busy": "2022-07-22T12:23:31.679845Z",
     "iopub.status.idle": "2022-07-22T12:26:41.940258Z",
     "shell.execute_reply": "2022-07-22T12:26:41.939044Z"
    },
    "id": "26acbc37",
    "papermill": {
     "duration": 190.315164,
     "end_time": "2022-07-22T12:26:41.943916",
     "exception": false,
     "start_time": "2022-07-22T12:23:31.628752",
     "status": "completed"
    },
    "tags": []
   },
   "outputs": [
    {
     "data": {
      "image/png": "[encoded data removed]",
      "text/plain": [
       "<Figure size 432x288 with 1 Axes>"
      ]
     },
     "metadata": {
      "needs_background": "light"
     },
     "output_type": "display_data"
    },
    {
     "data": {
      "image/png": "[encoded data removed]",
      "text/plain": [
       "<Figure size 432x288 with 1 Axes>"
      ]
     },
     "metadata": {
      "needs_background": "light"
     },
     "output_type": "display_data"
    }
   ],
   "source": [
    "ABC_train_test2.training_GAN_skip_connection(disc4,gen4,disc_opt,gen_opt,train_data,batch_size,n_epochs,criterion,prior_model,variance,bias,device)"
   ]
  },
  {
   "cell_type": "code",
   "execution_count": 25,
   "id": "24bec704",
   "metadata": {
    "execution": {
     "iopub.execute_input": "2022-07-22T12:26:42.011446Z",
     "iopub.status.busy": "2022-07-22T12:26:42.010980Z",
     "iopub.status.idle": "2022-07-22T12:26:44.197097Z",
     "shell.execute_reply": "2022-07-22T12:26:44.190404Z"
    },
    "id": "c5e0717b",
    "papermill": {
     "duration": 2.228464,
     "end_time": "2022-07-22T12:26:44.202614",
     "exception": false,
     "start_time": "2022-07-22T12:26:41.974150",
     "status": "completed"
    },
    "tags": []
   },
   "outputs": [
    {
     "data": {
      "application/scrapbook.scrap.json+json": {
       "data": 0.48861399377500586,
       "encoder": "json",
       "name": "ABC-GAN Model 3 MSE",
       "version": 1
      }
     },
     "metadata": {
      "scrapbook": {
       "data": true,
       "display": false,
       "name": "ABC-GAN Model 3 MSE"
      }
     },
     "output_type": "display_data"
    },
    {
     "data": {
      "application/scrapbook.scrap.json+json": {
       "data": 0.5558431899156422,
       "encoder": "json",
       "name": "ABC-GAN Model 3 MAE",
       "version": 1
      }
     },
     "metadata": {
      "scrapbook": {
       "data": true,
       "display": false,
       "name": "ABC-GAN Model 3 MAE"
      }
     },
     "output_type": "display_data"
    },
    {
     "data": {
      "application/scrapbook.scrap.json+json": {
       "data": 11.116863798312842,
       "encoder": "json",
       "name": "ABC-GAN Model 3 Manhattan Distance",
       "version": 1
      }
     },
     "metadata": {
      "scrapbook": {
       "data": true,
       "display": false,
       "name": "ABC-GAN Model 3 Manhattan Distance"
      }
     },
     "output_type": "display_data"
    },
    {
     "data": {
      "application/scrapbook.scrap.json+json": {
       "data": 3.1260366862252105,
       "encoder": "json",
       "name": "ABC-GAN Model 3 Euclidean distance",
       "version": 1
      }
     },
     "metadata": {
      "scrapbook": {
       "data": true,
       "display": false,
       "name": "ABC-GAN Model 3 Euclidean distance"
      }
     },
     "output_type": "display_data"
    },
    {
     "data": {
      "application/scrapbook.scrap.json+json": {
       "data": [
        [
         0.4952674354456139,
         0.4870432654375431,
         0.4873244265426816,
         0.4856619021695838,
         0.48956489846176954,
         0.481293006762202,
         0.492102682208742,
         0.49005782633798756,
         0.48415631865118486,
         0.48758307160564734,
         0.48766618508399073,
         0.49283657004510883,
         0.4885100155194733,
         0.4840693419587458,
         0.48657163297100664,
         0.4844281708253355,
         0.48852159016660057,
         0.489852434178661,
         0.488323578730402,
         0.4900142489344129,
         0.4984859153019963,
         0.4924173456575872,
         0.4798011978046848,
         0.48921061122971976,
         0.49305821410251605,
         0.4900438681356671,
         0.4807286754823211,
         0.4909006952456615,
         0.4875894856113062,
         0.4841344065230094,
         0.49425487907532817,
         0.48788046839821675,
         0.4946056989348266,
         0.486609321885947,
         0.4817904234156233,
         0.4865783542701664,
         0.49095210741917067,
         0.4909969148730909,
         0.4885682465968422,
         0.48619622826887665,
         0.485483189370653,
         0.4869227196171762,
         0.4914426786177721,
         0.4857193639813387,
         0.4804396986728676,
         0.48452554880095366,
         0.48791362873541305,
         0.4841085882903906,
         0.4852895426232523,
         0.49060732607232305,
         0.48657077797253867,
         0.4924733369959391,
         0.491659032023488,
         0.49004426364251036,
         0.4892558234614846,
         0.485855183924798,
         0.49068194841413587,
         0.48775687410769725,
         0.4818775030807997,
         0.4966642985901439,
         0.4864677187884244,
         0.4853760051356025,
         0.48986764616292733,
         0.4888830322271547,
         0.49291573678223666,
         0.4892281241058118,
         0.4875116233915934,
         0.49376880938134227,
         0.48787035118160593,
         0.4897169134184837,
         0.48969357767110216,
         0.48557707711847903,
         0.49779545633525346,
         0.49142841351005695,
         0.49257914688980237,
         0.4877991303613333,
         0.4828676442133647,
         0.4948291303948283,
         0.4830107872519095,
         0.48226589111425433,
         0.49148190693828775,
         0.4909930606788963,
         0.48481497222705094,
         0.49034563944134446,
         0.4932146374936194,
         0.49040563949614724,
         0.4948405755473379,
         0.48391646986098635,
         0.4894137390934941,
         0.4976254795213372,
         0.4907281019235931,
         0.49504229823625645,
         0.48857079932927955,
         0.4895778358691446,
         0.48403347652645723,
         0.48897476452825916,
         0.49398008372655633,
         0.4910283399778992,
         0.482954598162015,
         0.4790617562221303
        ],
        [
         0.5635332193225622,
         0.553390945494175,
         0.5570349458605051,
         0.5526285015046597,
         0.5560071524232626,
         0.5526486560702324,
         0.5558705803006887,
         0.5609237860888243,
         0.5500299941748381,
         0.5522501353174448,
         0.5552448213100434,
         0.5560373287647963,
         0.5538180600851774,
         0.552428163588047,
         0.5553564351052046,
         0.5509021610021592,
         0.5557452972978354,
         0.5563999764621258,
         0.5576930526643992,
         0.5601201333105564,
         0.5618573419749737,
         0.5577349733561278,
         0.5497741527855396,
         0.5530881471931934,
         0.5581543102860451,
         0.5598714757710695,
         0.5488030195236206,
         0.5564062155783176,
         0.5569287791848183,
         0.552299515157938,
         0.5555867806077004,
         0.5551701687276364,
         0.5591458342969418,
         0.5574035599827767,
         0.5471378795802593,
         0.5550081379711628,
         0.5580242019146681,
         0.5578033186495304,
         0.5587302651256323,
         0.5556223891675472,
         0.5523395415395498,
         0.5526674643158913,
         0.5571223556995392,
         0.5538499739021063,
         0.5526740036904811,
         0.554195212945342,
         0.5547072809189558,
         0.5548540331423283,
         0.5557937175035477,
         0.5556530054658652,
         0.551672974601388,
         0.5564662586897612,
         0.5578629784286022,
         0.5549525283277035,
         0.5552862353622914,
         0.5536762256175279,
         0.561173190921545,
         0.5568263232707977,
         0.5537007946521044,
         0.5621523633599281,
         0.5546537160873413,
         0.5531436640769243,
         0.5577129699289799,
         0.5542672388255596,
         0.5588514097034931,
         0.5538833774626255,
         0.5550137437880039,
         0.5605326350778341,
         0.5532083742320537,
         0.5574191950261593,
         0.5566614478826523,
         0.5515457492321729,
         0.5601972594857216,
         0.5560040783137083,
         0.5594433851540088,
         0.5549955502152443,
         0.5540091192349792,
         0.5564031045883894,
         0.5561727020889521,
         0.5518865950405598,
         0.5574614856392145,
         0.5606063425540924,
         0.555717832967639,
         0.5544009905308485,
         0.5601731248199939,
         0.5572689261287451,
         0.5628494124859571,
         0.5522432859987021,
         0.5583550468087196,
         0.5612990073859692,
         0.5582723189145327,
         0.5602625243365764,
         0.5553548581898212,
         0.5550368648022413,
         0.555829668790102,
         0.5553817540407181,
         0.5557989776134491,
         0.5599634304642678,
         0.5532754715532064,
         0.5485220767557621
        ],
        [
         11.270664386451244,
         11.0678189098835,
         11.140698917210102,
         11.052570030093193,
         11.120143048465252,
         11.052973121404648,
         11.117411606013775,
         11.218475721776485,
         11.000599883496761,
         11.045002706348896,
         11.104896426200867,
         11.120746575295925,
         11.076361201703548,
         11.04856327176094,
         11.107128702104092,
         11.018043220043182,
         11.114905945956707,
         11.127999529242516,
         11.153861053287983,
         11.202402666211128,
         11.237146839499474,
         11.154699467122555,
         10.995483055710793,
         11.061762943863869,
         11.163086205720901,
         11.19742951542139,
         10.976060390472412,
         11.128124311566353,
         11.138575583696365,
         11.04599030315876,
         11.111735612154007,
         11.103403374552727,
         11.182916685938835,
         11.148071199655533,
         10.942757591605186,
         11.100162759423256,
         11.160484038293362,
         11.156066372990608,
         11.174605302512646,
         11.112447783350945,
         11.046790830790997,
         11.053349286317825,
         11.142447113990784,
         11.076999478042126,
         11.053480073809624,
         11.083904258906841,
         11.094145618379116,
         11.097080662846565,
         11.115874350070953,
         11.113060109317303,
         11.03345949202776,
         11.129325173795223,
         11.157259568572044,
         11.09905056655407,
         11.105724707245827,
         11.07352451235056,
         11.2234638184309,
         11.136526465415955,
         11.074015893042088,
         11.243047267198563,
         11.093074321746826,
         11.062873281538486,
         11.154259398579597,
         11.085344776511192,
         11.177028194069862,
         11.07766754925251,
         11.100274875760078,
         11.210652701556683,
         11.064167484641075,
         11.148383900523186,
         11.133228957653046,
         11.03091498464346,
         11.203945189714432,
         11.120081566274166,
         11.188867703080177,
         11.099911004304886,
         11.080182384699583,
         11.128062091767788,
         11.123454041779041,
         11.037731900811195,
         11.14922971278429,
         11.212126851081848,
         11.11435665935278,
         11.08801981061697,
         11.20346249639988,
         11.145378522574902,
         11.256988249719143,
         11.044865719974041,
         11.167100936174393,
         11.225980147719383,
         11.165446378290653,
         11.20525048673153,
         11.107097163796425,
         11.100737296044827,
         11.11659337580204,
         11.107635080814362,
         11.115979552268982,
         11.199268609285355,
         11.065509431064129,
         10.970441535115242
        ],
        [
         3.1472763953793885,
         3.1210359351905677,
         3.121936663491691,
         3.1166068156557185,
         3.129104978941325,
         3.102557031747207,
         3.137204750119896,
         3.1306798825111057,
         3.1117722238338232,
         3.1227650299234724,
         3.123031172063419,
         3.139543183474656,
         3.125731963938921,
         3.111492702735283,
         3.119524428405736,
         3.1126457261478877,
         3.1257689939168585,
         3.1300237512794085,
         3.1251354490018577,
         3.1305406847201747,
         3.157486073768169,
         3.1382075956111866,
         3.0977449791894904,
         3.127972542173987,
         3.140249079619373,
         3.130635296982602,
         3.100737575101515,
         3.133371012968817,
         3.122785569363693,
         3.1117018061601254,
         3.144057502894399,
         3.1237172355967715,
         3.145173123803606,
         3.119645242286203,
         3.104159865134601,
         3.1195459742410154,
         3.1335350881047135,
         3.133678078147438,
         3.1259182541993713,
         3.1183207925705037,
         3.1160333418326993,
         3.12064967472216,
         3.1351002491715385,
         3.1167911831925434,
         3.0998054734865788,
         3.11295855674615,
         3.1238233904477157,
         3.1116188336311073,
         3.115411827104893,
         3.1324345997077834,
         3.119521687607056,
         3.1383860087501634,
         3.1357902736742074,
         3.1306365603260637,
         3.1281170804862293,
         3.1172269212388053,
         3.1326728153898737,
         3.123321546391589,
         3.104440378170596,
         3.1517115940077507,
         3.1191913015665595,
         3.1156893463103876,
         3.1300723511220228,
         3.126925110159035,
         3.1397953334006874,
         3.1280285296199324,
         3.122536223622052,
         3.1425111276854447,
         3.12368484704077,
         3.129590750940077,
         3.1295161851989266,
         3.1163346326043966,
         3.1552985796442576,
         3.1350547475604214,
         3.138723138124172,
         3.1234568361395145,
         3.107628176643289,
         3.1458834383836547,
         3.1080887608043293,
         3.10569119879699,
         3.1352253728824273,
         3.133665778856757,
         3.1138881554322113,
         3.1315990785582515,
         3.1407471642703726,
         3.131790668279562,
         3.1459198195355773,
         3.1110013496010778,
         3.12862186623278,
         3.1547598308629996,
         3.1328201414176116,
         3.1465609742582665,
         3.125926420532894,
         3.129146324060748,
         3.1113774329915596,
         3.127218459040747,
         3.14318336635506,
         3.1337783583970937,
         3.107907972131785,
         3.0953570269748547
        ]
       ],
       "encoder": "json",
       "name": "ABC_GAN_4 Metrics",
       "version": 1
      }
     },
     "metadata": {
      "scrapbook": {
       "data": true,
       "display": false,
       "name": "ABC_GAN_4 Metrics"
      }
     },
     "output_type": "display_data"
    },
    {
     "name": "stdout",
     "output_type": "stream",
     "text": [
      "MAE\n",
      "0.5558431899156422\n"
     ]
    }
   ],
   "source": [
    "ABC_GAN4_metrics=ABC_train_test2.test_generator(gen4,test_data,prior_model,variance,bias,\"3\",device)\n",
    "sb.glue(\"ABC_GAN_4 Metrics\",ABC_GAN4_metrics)\n",
    "\n",
    "print(\"MAE\")\n",
    "print(mean(ABC_GAN4_metrics[1]))"
   ]
  },
  {
   "cell_type": "code",
   "execution_count": 26,
   "id": "b6f4fad8",
   "metadata": {
    "execution": {
     "iopub.execute_input": "2022-07-22T12:26:44.313248Z",
     "iopub.status.busy": "2022-07-22T12:26:44.312765Z",
     "iopub.status.idle": "2022-07-22T12:26:45.692882Z",
     "shell.execute_reply": "2022-07-22T12:26:45.691629Z"
    },
    "id": "c8e46b48",
    "papermill": {
     "duration": 1.443086,
     "end_time": "2022-07-22T12:26:45.696409",
     "exception": false,
     "start_time": "2022-07-22T12:26:44.253323",
     "status": "completed"
    },
    "tags": []
   },
   "outputs": [
    {
     "data": {
      "image/png": "[encoded data removed]",
      "text/plain": [
       "<Figure size 432x288 with 1 Axes>"
      ]
     },
     "metadata": {
      "needs_background": "light"
     },
     "output_type": "display_data"
    },
    {
     "data": {
      "image/png": "[encoded data removed]",
      "text/plain": [
       "<Figure size 432x288 with 1 Axes>"
      ]
     },
     "metadata": {
      "needs_background": "light"
     },
     "output_type": "display_data"
    },
    {
     "data": {
      "image/png": "[encoded data removed]",
      "text/plain": [
       "<Figure size 432x288 with 1 Axes>"
      ]
     },
     "metadata": {
      "needs_background": "light"
     },
     "output_type": "display_data"
    },
    {
     "data": {
      "image/png": "[encoded data removed]",
      "text/plain": [
       "<Figure size 432x288 with 1 Axes>"
      ]
     },
     "metadata": {
      "needs_background": "light"
     },
     "output_type": "display_data"
    }
   ],
   "source": [
    "sanityChecks.discProbVsError(train_data,disc4,device)\n",
    "sanityChecks.discProbVsError(test_data,disc4,device)"
   ]
  },
  {
   "cell_type": "markdown",
   "id": "a5bd74c3",
   "metadata": {
    "id": "a5bd74c3",
    "papermill": {
     "duration": 0.056182,
     "end_time": "2022-07-22T12:26:45.809032",
     "exception": false,
     "start_time": "2022-07-22T12:26:45.752850",
     "status": "completed"
    },
    "tags": []
   },
   "source": [
    "## Skip Connection Model Analysis - ABC-GAN "
   ]
  },
  {
   "cell_type": "markdown",
   "id": "5744a8bf",
   "metadata": {
    "id": "5744a8bf",
    "papermill": {
     "duration": 0.060951,
     "end_time": "2022-07-22T12:26:45.928129",
     "exception": false,
     "start_time": "2022-07-22T12:26:45.867178",
     "status": "completed"
    },
    "tags": []
   },
   "source": [
    "### Weight Analysis \n",
    "\n",
    "Study the weights of the skip connection layer\n",
    "\n",
    "Equation of the skip connection is \n",
    "\n",
    "$output = y_{gan} * w + y_{abc} * (1-w)$"
   ]
  },
  {
   "cell_type": "code",
   "execution_count": 27,
   "id": "52c31dea",
   "metadata": {
    "execution": {
     "iopub.execute_input": "2022-07-22T12:26:46.047319Z",
     "iopub.status.busy": "2022-07-22T12:26:46.046811Z",
     "iopub.status.idle": "2022-07-22T12:26:46.052142Z",
     "shell.execute_reply": "2022-07-22T12:26:46.051031Z"
    },
    "id": "52c31dea",
    "papermill": {
     "duration": 0.075644,
     "end_time": "2022-07-22T12:26:46.060719",
     "exception": false,
     "start_time": "2022-07-22T12:26:45.985075",
     "status": "completed"
    },
    "tags": []
   },
   "outputs": [],
   "source": [
    "# print(\"Weight of the node at skip connection\")\n",
    "# for name,param in gen3.named_parameters():\n",
    "#     if(name == \"skipNode.weight\"):\n",
    "#         print(param)\n",
    "#         sb.glue(\"Skip Connection Weight\",param.item())"
   ]
  },
  {
   "cell_type": "markdown",
   "id": "05aa1803",
   "metadata": {
    "id": "a5bd74c3",
    "papermill": {
     "duration": 0.062077,
     "end_time": "2022-07-22T12:26:46.171583",
     "exception": false,
     "start_time": "2022-07-22T12:26:46.109506",
     "status": "completed"
    },
    "tags": []
   },
   "source": [
    "## skipGAN Model Analysis (TabNet Generator) "
   ]
  },
  {
   "cell_type": "markdown",
   "id": "f816e79e",
   "metadata": {
    "id": "5744a8bf",
    "papermill": {
     "duration": 0.062129,
     "end_time": "2022-07-22T12:26:46.292929",
     "exception": false,
     "start_time": "2022-07-22T12:26:46.230800",
     "status": "completed"
    },
    "tags": []
   },
   "source": [
    "### Weight Analysis \n",
    "\n",
    "Study the weights of the skip connection layer\n",
    "\n",
    "Equation of the skip connection is \n",
    "\n",
    "$output = y_{gan} * w + y_{abc} * (1-w)$"
   ]
  },
  {
   "cell_type": "code",
   "execution_count": 28,
   "id": "393fec2d",
   "metadata": {
    "execution": {
     "iopub.execute_input": "2022-07-22T12:26:46.409801Z",
     "iopub.status.busy": "2022-07-22T12:26:46.409340Z",
     "iopub.status.idle": "2022-07-22T12:26:46.427394Z",
     "shell.execute_reply": "2022-07-22T12:26:46.426196Z"
    },
    "id": "52c31dea",
    "papermill": {
     "duration": 0.091402,
     "end_time": "2022-07-22T12:26:46.443917",
     "exception": false,
     "start_time": "2022-07-22T12:26:46.352515",
     "status": "completed"
    },
    "tags": []
   },
   "outputs": [
    {
     "name": "stdout",
     "output_type": "stream",
     "text": [
      "Weight of the node at skip connection\n",
      "Parameter containing:\n",
      "tensor([[0.2143]], requires_grad=True)\n"
     ]
    },
    {
     "data": {
      "application/scrapbook.scrap.json+json": {
       "data": 0.21429388225078583,
       "encoder": "json",
       "name": "Skip Connection Weight",
       "version": 1
      }
     },
     "metadata": {
      "scrapbook": {
       "data": true,
       "display": false,
       "name": "Skip Connection Weight"
      }
     },
     "output_type": "display_data"
    }
   ],
   "source": [
    "print(\"Weight of the node at skip connection\")\n",
    "for name,param in gen4.named_parameters():\n",
    "    if(name == \"skipNode.weight\"):\n",
    "        print(param)\n",
    "        sb.glue(\"Skip Connection Weight\",param.item())"
   ]
  }
 ],
 "metadata": {
  "colab": {
   "collapsed_sections": [],
   "name": "ABC_GAN_Model-Catboost_Pre-gen.ipynb",
   "provenance": []
  },
  "interpreter": {
   "hash": "31f2aee4e71d21fbe5cf8b01ff0e069b9275f58929596ceb00d14d90e3e16cd6"
  },
  "kernelspec": {
   "display_name": "Python 3 (ipykernel)",
   "language": "python",
   "name": "python3"
  },
  "language_info": {
   "codemirror_mode": {
    "name": "ipython",
    "version": 3
   },
   "file_extension": ".py",
   "mimetype": "text/x-python",
   "name": "python",
   "nbconvert_exporter": "python",
   "pygments_lexer": "ipython3",
   "version": "3.8.13"
  },
  "papermill": {
   "default_parameters": {},
   "duration": 432.367277,
   "end_time": "2022-07-22T12:26:47.380976",
   "environment_variables": {},
   "exception": null,
   "input_path": "ABC_GAN-TabNet.ipynb",
   "output_path": "./ABC_GAN_TabNet/ABC-GAN_output_3_8.ipynb",
   "parameters": {
    "bias": 0.01,
    "variance": 0.01
   },
   "start_time": "2022-07-22T12:19:35.013699",
   "version": "2.3.3"
  }
 },
 "nbformat": 4,
 "nbformat_minor": 5
}