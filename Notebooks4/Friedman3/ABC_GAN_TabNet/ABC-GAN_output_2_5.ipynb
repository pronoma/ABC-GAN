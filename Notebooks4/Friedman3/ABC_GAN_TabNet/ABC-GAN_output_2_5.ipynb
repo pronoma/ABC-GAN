{
 "cells": [
  {
   "cell_type": "markdown",
   "id": "622780e6",
   "metadata": {
    "id": "622780e6",
    "papermill": {
     "duration": 0.008955,
     "end_time": "2022-07-22T10:18:12.262814",
     "exception": false,
     "start_time": "2022-07-22T10:18:12.253859",
     "status": "completed"
    },
    "tags": []
   },
   "source": [
    "## Import Libraries "
   ]
  },
  {
   "cell_type": "code",
   "execution_count": 1,
   "id": "a62397e3",
   "metadata": {
    "execution": {
     "iopub.execute_input": "2022-07-22T10:18:12.282031Z",
     "iopub.status.busy": "2022-07-22T10:18:12.281575Z",
     "iopub.status.idle": "2022-07-22T10:18:12.295729Z",
     "shell.execute_reply": "2022-07-22T10:18:12.294780Z"
    },
    "id": "a62397e3",
    "papermill": {
     "duration": 0.027388,
     "end_time": "2022-07-22T10:18:12.298475",
     "exception": false,
     "start_time": "2022-07-22T10:18:12.271087",
     "status": "completed"
    },
    "tags": []
   },
   "outputs": [],
   "source": [
    "import warnings\n",
    "import sys\n",
    "sys.path.insert(0, '../../src')\n",
    "warnings.filterwarnings('ignore')"
   ]
  },
  {
   "cell_type": "code",
   "execution_count": 2,
   "id": "d6a4e155",
   "metadata": {
    "execution": {
     "iopub.execute_input": "2022-07-22T10:18:12.318506Z",
     "iopub.status.busy": "2022-07-22T10:18:12.317196Z",
     "iopub.status.idle": "2022-07-22T10:18:19.866564Z",
     "shell.execute_reply": "2022-07-22T10:18:19.865389Z"
    },
    "id": "d6a4e155",
    "papermill": {
     "duration": 7.5617,
     "end_time": "2022-07-22T10:18:19.869747",
     "exception": false,
     "start_time": "2022-07-22T10:18:12.308047",
     "status": "completed"
    },
    "tags": []
   },
   "outputs": [],
   "source": [
    "import ABC_train_test2\n",
    "import friedman3Dataset\n",
    "import network\n",
    "import dataset\n",
    "import sanityChecks\n",
    "import torch \n",
    "import scrapbook as sb\n",
    "from statistics import mean \n",
    "import catboost as ctb \n",
    "from sklearn.model_selection import train_test_split\n",
    "from sklearn.metrics import mean_squared_error,mean_absolute_error\n",
    "import numpy as np\n",
    "from pytorch_tabnet.tab_model import TabNetRegressor"
   ]
  },
  {
   "cell_type": "markdown",
   "id": "2fa5b0f7",
   "metadata": {
    "id": "2fa5b0f7",
    "papermill": {
     "duration": 0.00742,
     "end_time": "2022-07-22T10:18:19.884904",
     "exception": false,
     "start_time": "2022-07-22T10:18:19.877484",
     "status": "completed"
    },
    "tags": []
   },
   "source": [
    "## Parameters "
   ]
  },
  {
   "cell_type": "code",
   "execution_count": 3,
   "id": "783186fb",
   "metadata": {
    "execution": {
     "iopub.execute_input": "2022-07-22T10:18:19.903592Z",
     "iopub.status.busy": "2022-07-22T10:18:19.903013Z",
     "iopub.status.idle": "2022-07-22T10:18:19.909057Z",
     "shell.execute_reply": "2022-07-22T10:18:19.907036Z"
    },
    "id": "783186fb",
    "papermill": {
     "duration": 0.024529,
     "end_time": "2022-07-22T10:18:19.917683",
     "exception": false,
     "start_time": "2022-07-22T10:18:19.893154",
     "status": "completed"
    },
    "tags": [
     "parameters"
    ]
   },
   "outputs": [],
   "source": [
    "variance = 1\n",
    "bias = 1 "
   ]
  },
  {
   "cell_type": "code",
   "execution_count": 4,
   "id": "23e7d043",
   "metadata": {
    "execution": {
     "iopub.execute_input": "2022-07-22T10:18:19.938478Z",
     "iopub.status.busy": "2022-07-22T10:18:19.937590Z",
     "iopub.status.idle": "2022-07-22T10:18:19.943864Z",
     "shell.execute_reply": "2022-07-22T10:18:19.942318Z"
    },
    "papermill": {
     "duration": 0.020793,
     "end_time": "2022-07-22T10:18:19.947266",
     "exception": false,
     "start_time": "2022-07-22T10:18:19.926473",
     "status": "completed"
    },
    "tags": [
     "injected-parameters"
    ]
   },
   "outputs": [],
   "source": [
    "# Parameters\n",
    "variance = 0.01\n",
    "bias = 0.1\n"
   ]
  },
  {
   "cell_type": "markdown",
   "id": "391cdbfd",
   "metadata": {
    "id": "391cdbfd",
    "papermill": {
     "duration": 0.007725,
     "end_time": "2022-07-22T10:18:19.962907",
     "exception": false,
     "start_time": "2022-07-22T10:18:19.955182",
     "status": "completed"
    },
    "tags": []
   },
   "source": [
    "## Dataset \n"
   ]
  },
  {
   "cell_type": "code",
   "execution_count": 5,
   "id": "5b51f161",
   "metadata": {
    "execution": {
     "iopub.execute_input": "2022-07-22T10:18:19.989282Z",
     "iopub.status.busy": "2022-07-22T10:18:19.988273Z",
     "iopub.status.idle": "2022-07-22T10:18:19.996821Z",
     "shell.execute_reply": "2022-07-22T10:18:19.994616Z"
    },
    "id": "5b51f161",
    "papermill": {
     "duration": 0.02795,
     "end_time": "2022-07-22T10:18:20.000555",
     "exception": false,
     "start_time": "2022-07-22T10:18:19.972605",
     "status": "completed"
    },
    "tags": []
   },
   "outputs": [],
   "source": [
    "#Parameters \n",
    "n_features = 4\n",
    "n_samples= 100\n",
    "n_target = 1"
   ]
  },
  {
   "cell_type": "code",
   "execution_count": 6,
   "id": "5d6eced4",
   "metadata": {
    "execution": {
     "iopub.execute_input": "2022-07-22T10:18:20.028203Z",
     "iopub.status.busy": "2022-07-22T10:18:20.027133Z",
     "iopub.status.idle": "2022-07-22T10:18:20.050203Z",
     "shell.execute_reply": "2022-07-22T10:18:20.048911Z"
    },
    "id": "5d6eced4",
    "papermill": {
     "duration": 0.045796,
     "end_time": "2022-07-22T10:18:20.055379",
     "exception": false,
     "start_time": "2022-07-22T10:18:20.009583",
     "status": "completed"
    },
    "tags": []
   },
   "outputs": [
    {
     "name": "stdout",
     "output_type": "stream",
     "text": [
      "          X1           X2        X3         X4         Y\n",
      "0  45.613117   931.239929  0.768050   6.897076  1.383641\n",
      "1  64.297345   887.684936  0.414960   3.030828  1.398912\n",
      "2  40.745302   292.897950  0.900905  10.483477  1.143870\n",
      "3  91.060303  1046.151732  0.002180   9.973008  0.131066\n",
      "4  94.632819   733.346647  0.571400   2.104165  1.229344\n"
     ]
    }
   ],
   "source": [
    "X,Y = friedman3Dataset.friedman3_data(n_samples)"
   ]
  },
  {
   "cell_type": "code",
   "execution_count": 7,
   "id": "fe007438",
   "metadata": {
    "execution": {
     "iopub.execute_input": "2022-07-22T10:18:20.079985Z",
     "iopub.status.busy": "2022-07-22T10:18:20.079519Z",
     "iopub.status.idle": "2022-07-22T10:18:20.087946Z",
     "shell.execute_reply": "2022-07-22T10:18:20.086757Z"
    },
    "id": "fe007438",
    "papermill": {
     "duration": 0.029988,
     "end_time": "2022-07-22T10:18:20.093653",
     "exception": false,
     "start_time": "2022-07-22T10:18:20.063665",
     "status": "completed"
    },
    "tags": []
   },
   "outputs": [],
   "source": [
    "#Train test split for dataset \n",
    "X_train,X_test,Y_train,Y_test = train_test_split(X,Y,test_size = 0.2)\n",
    "train_data = dataset.CustomDataset(X_train,Y_train)\n",
    "test_data = dataset.CustomDataset(X_test,Y_test)\n"
   ]
  },
  {
   "cell_type": "markdown",
   "id": "a9a1af34",
   "metadata": {
    "id": "a9a1af34",
    "papermill": {
     "duration": 0.009004,
     "end_time": "2022-07-22T10:18:20.110615",
     "exception": false,
     "start_time": "2022-07-22T10:18:20.101611",
     "status": "completed"
    },
    "tags": []
   },
   "source": [
    "## Training Parameters "
   ]
  },
  {
   "cell_type": "code",
   "execution_count": 8,
   "id": "952b7fc8",
   "metadata": {
    "execution": {
     "iopub.execute_input": "2022-07-22T10:18:20.136193Z",
     "iopub.status.busy": "2022-07-22T10:18:20.135511Z",
     "iopub.status.idle": "2022-07-22T10:18:20.140892Z",
     "shell.execute_reply": "2022-07-22T10:18:20.139837Z"
    },
    "id": "952b7fc8",
    "papermill": {
     "duration": 0.018169,
     "end_time": "2022-07-22T10:18:20.144315",
     "exception": false,
     "start_time": "2022-07-22T10:18:20.126146",
     "status": "completed"
    },
    "tags": []
   },
   "outputs": [],
   "source": [
    "batch_size = 32\n",
    "n_epochs = 1000\n",
    "#Select the device \n",
    "device = torch.device('cuda' if torch.cuda.is_available() else 'cpu')"
   ]
  },
  {
   "cell_type": "markdown",
   "id": "a95e1600",
   "metadata": {
    "id": "a95e1600",
    "papermill": {
     "duration": 0.009205,
     "end_time": "2022-07-22T10:18:20.161707",
     "exception": false,
     "start_time": "2022-07-22T10:18:20.152502",
     "status": "completed"
    },
    "tags": []
   },
   "source": [
    "# ABC Pre-generator Model \n",
    "\n",
    "1. The catboost model is used as a pre-generator model for the ABC-GAN. \n",
    "2. The model is first trained on the entire dataset \n",
    "3. It generats X,Y pairs and we add some Gaussian noise with mean 0 and variance 1 to it which is then feed as input to the generator.\n"
   ]
  },
  {
   "cell_type": "code",
   "execution_count": 9,
   "id": "ac011ebf",
   "metadata": {
    "execution": {
     "iopub.execute_input": "2022-07-22T10:18:20.182530Z",
     "iopub.status.busy": "2022-07-22T10:18:20.181739Z",
     "iopub.status.idle": "2022-07-22T10:18:45.496850Z",
     "shell.execute_reply": "2022-07-22T10:18:45.495773Z"
    },
    "papermill": {
     "duration": 25.327667,
     "end_time": "2022-07-22T10:18:45.499773",
     "exception": false,
     "start_time": "2022-07-22T10:18:20.172106",
     "status": "completed"
    },
    "tags": []
   },
   "outputs": [
    {
     "name": "stdout",
     "output_type": "stream",
     "text": [
      "Device used : cpu\n"
     ]
    },
    {
     "name": "stdout",
     "output_type": "stream",
     "text": [
      "epoch 0  | loss: 1.14666 | train_mse: 5.39252 | train_mae: 1.66323 |  0:00:00s\n",
      "epoch 1  | loss: 0.97854 | train_mse: 4.025   | train_mae: 1.44623 |  0:00:00s\n"
     ]
    },
    {
     "name": "stdout",
     "output_type": "stream",
     "text": [
      "epoch 2  | loss: 0.81036 | train_mse: 3.16037 | train_mae: 1.32641 |  0:00:01s\n",
      "epoch 3  | loss: 0.92247 | train_mse: 2.34545 | train_mae: 1.14496 |  0:00:01s\n",
      "epoch 4  | loss: 0.78024 | train_mse: 1.98347 | train_mae: 1.06169 |  0:00:01s\n"
     ]
    },
    {
     "name": "stdout",
     "output_type": "stream",
     "text": [
      "epoch 5  | loss: 0.87081 | train_mse: 1.61892 | train_mae: 0.93462 |  0:00:01s\n",
      "epoch 6  | loss: 0.70886 | train_mse: 1.43874 | train_mae: 0.88516 |  0:00:01s\n",
      "epoch 7  | loss: 0.76897 | train_mse: 1.30878 | train_mae: 0.84045 |  0:00:01s\n"
     ]
    },
    {
     "name": "stdout",
     "output_type": "stream",
     "text": [
      "epoch 8  | loss: 0.6729  | train_mse: 1.20502 | train_mae: 0.79547 |  0:00:01s\n",
      "epoch 9  | loss: 0.69203 | train_mse: 1.13774 | train_mae: 0.77533 |  0:00:01s\n"
     ]
    },
    {
     "name": "stdout",
     "output_type": "stream",
     "text": [
      "epoch 10 | loss: 0.57227 | train_mse: 1.0785  | train_mae: 0.74773 |  0:00:01s\n",
      "epoch 11 | loss: 0.57003 | train_mse: 1.01649 | train_mae: 0.72476 |  0:00:01s\n",
      "epoch 12 | loss: 0.49162 | train_mse: 0.94427 | train_mae: 0.69597 |  0:00:02s\n"
     ]
    },
    {
     "name": "stdout",
     "output_type": "stream",
     "text": [
      "epoch 13 | loss: 0.65945 | train_mse: 0.8899  | train_mae: 0.66684 |  0:00:02s\n",
      "epoch 14 | loss: 0.3514  | train_mse: 0.8535  | train_mae: 0.64651 |  0:00:02s\n",
      "epoch 15 | loss: 0.58876 | train_mse: 0.8069  | train_mae: 0.62988 |  0:00:02s\n"
     ]
    },
    {
     "name": "stdout",
     "output_type": "stream",
     "text": [
      "epoch 16 | loss: 0.51709 | train_mse: 0.74592 | train_mae: 0.60636 |  0:00:02s\n",
      "epoch 17 | loss: 0.47044 | train_mse: 0.69647 | train_mae: 0.58566 |  0:00:02s\n",
      "epoch 18 | loss: 0.57051 | train_mse: 0.66301 | train_mae: 0.57506 |  0:00:02s\n"
     ]
    },
    {
     "name": "stdout",
     "output_type": "stream",
     "text": [
      "epoch 19 | loss: 0.58359 | train_mse: 0.62646 | train_mae: 0.55842 |  0:00:02s\n",
      "epoch 20 | loss: 0.53222 | train_mse: 0.59817 | train_mae: 0.54489 |  0:00:02s\n"
     ]
    },
    {
     "name": "stdout",
     "output_type": "stream",
     "text": [
      "epoch 21 | loss: 0.45354 | train_mse: 0.58248 | train_mae: 0.53447 |  0:00:02s\n",
      "epoch 22 | loss: 0.4126  | train_mse: 0.57134 | train_mae: 0.52528 |  0:00:03s\n",
      "epoch 23 | loss: 0.43312 | train_mse: 0.55673 | train_mae: 0.51398 |  0:00:03s\n"
     ]
    },
    {
     "name": "stdout",
     "output_type": "stream",
     "text": [
      "epoch 24 | loss: 0.39966 | train_mse: 0.54212 | train_mae: 0.50469 |  0:00:03s\n",
      "epoch 25 | loss: 0.36965 | train_mse: 0.53871 | train_mae: 0.49905 |  0:00:03s\n",
      "epoch 26 | loss: 0.4364  | train_mse: 0.52884 | train_mae: 0.49464 |  0:00:03s\n"
     ]
    },
    {
     "name": "stdout",
     "output_type": "stream",
     "text": [
      "epoch 27 | loss: 0.35239 | train_mse: 0.516   | train_mae: 0.48761 |  0:00:03s\n",
      "epoch 28 | loss: 0.50288 | train_mse: 0.49584 | train_mae: 0.47978 |  0:00:03s\n",
      "epoch 29 | loss: 0.35588 | train_mse: 0.47963 | train_mae: 0.47056 |  0:00:03s\n"
     ]
    },
    {
     "name": "stdout",
     "output_type": "stream",
     "text": [
      "epoch 30 | loss: 0.42188 | train_mse: 0.45975 | train_mae: 0.46098 |  0:00:03s\n",
      "epoch 31 | loss: 0.43843 | train_mse: 0.43274 | train_mae: 0.44854 |  0:00:03s\n"
     ]
    },
    {
     "name": "stdout",
     "output_type": "stream",
     "text": [
      "epoch 32 | loss: 0.51744 | train_mse: 0.41201 | train_mae: 0.43721 |  0:00:04s\n",
      "epoch 33 | loss: 0.34874 | train_mse: 0.40066 | train_mae: 0.43272 |  0:00:04s\n",
      "epoch 34 | loss: 0.43936 | train_mse: 0.39541 | train_mae: 0.43345 |  0:00:04s\n"
     ]
    },
    {
     "name": "stdout",
     "output_type": "stream",
     "text": [
      "epoch 35 | loss: 0.42756 | train_mse: 0.38838 | train_mae: 0.43148 |  0:00:04s\n",
      "epoch 36 | loss: 0.40602 | train_mse: 0.377   | train_mae: 0.42542 |  0:00:04s\n",
      "epoch 37 | loss: 0.3975  | train_mse: 0.36717 | train_mae: 0.42049 |  0:00:04s\n"
     ]
    },
    {
     "name": "stdout",
     "output_type": "stream",
     "text": [
      "epoch 38 | loss: 0.30243 | train_mse: 0.35704 | train_mae: 0.41661 |  0:00:04s\n",
      "epoch 39 | loss: 0.36997 | train_mse: 0.34312 | train_mae: 0.40571 |  0:00:04s\n"
     ]
    },
    {
     "name": "stdout",
     "output_type": "stream",
     "text": [
      "epoch 40 | loss: 0.28762 | train_mse: 0.33635 | train_mae: 0.40077 |  0:00:04s\n",
      "epoch 41 | loss: 0.28186 | train_mse: 0.32553 | train_mae: 0.39383 |  0:00:04s\n"
     ]
    },
    {
     "name": "stdout",
     "output_type": "stream",
     "text": [
      "epoch 42 | loss: 0.3478  | train_mse: 0.31688 | train_mae: 0.38992 |  0:00:05s\n",
      "epoch 43 | loss: 0.5484  | train_mse: 0.31067 | train_mae: 0.38942 |  0:00:05s\n",
      "epoch 44 | loss: 0.32944 | train_mse: 0.30896 | train_mae: 0.38757 |  0:00:05s\n"
     ]
    },
    {
     "name": "stdout",
     "output_type": "stream",
     "text": [
      "epoch 45 | loss: 0.42275 | train_mse: 0.29984 | train_mae: 0.38377 |  0:00:05s\n",
      "epoch 46 | loss: 0.31862 | train_mse: 0.29341 | train_mae: 0.37995 |  0:00:05s\n",
      "epoch 47 | loss: 0.33435 | train_mse: 0.29219 | train_mae: 0.38144 |  0:00:05s\n"
     ]
    },
    {
     "name": "stdout",
     "output_type": "stream",
     "text": [
      "epoch 48 | loss: 0.33871 | train_mse: 0.2839  | train_mae: 0.38092 |  0:00:05s\n",
      "epoch 49 | loss: 0.33966 | train_mse: 0.26896 | train_mae: 0.3729  |  0:00:05s\n",
      "epoch 50 | loss: 0.35909 | train_mse: 0.25354 | train_mae: 0.3635  |  0:00:05s\n"
     ]
    },
    {
     "name": "stdout",
     "output_type": "stream",
     "text": [
      "epoch 51 | loss: 0.30256 | train_mse: 0.24234 | train_mae: 0.35296 |  0:00:05s\n",
      "epoch 52 | loss: 0.28613 | train_mse: 0.23245 | train_mae: 0.33856 |  0:00:05s\n"
     ]
    },
    {
     "name": "stdout",
     "output_type": "stream",
     "text": [
      "epoch 53 | loss: 0.2695  | train_mse: 0.23417 | train_mae: 0.3385  |  0:00:06s\n",
      "epoch 54 | loss: 0.26263 | train_mse: 0.23275 | train_mae: 0.32984 |  0:00:06s\n",
      "epoch 55 | loss: 0.38422 | train_mse: 0.23325 | train_mae: 0.32965 |  0:00:06s\n"
     ]
    },
    {
     "name": "stdout",
     "output_type": "stream",
     "text": [
      "epoch 56 | loss: 0.3248  | train_mse: 0.23566 | train_mae: 0.33226 |  0:00:06s\n",
      "epoch 57 | loss: 0.31701 | train_mse: 0.24264 | train_mae: 0.33763 |  0:00:06s\n",
      "epoch 58 | loss: 0.36464 | train_mse: 0.25038 | train_mae: 0.34364 |  0:00:06s\n"
     ]
    },
    {
     "name": "stdout",
     "output_type": "stream",
     "text": [
      "epoch 59 | loss: 0.23987 | train_mse: 0.25314 | train_mae: 0.34861 |  0:00:06s\n",
      "epoch 60 | loss: 0.52657 | train_mse: 0.24007 | train_mae: 0.34268 |  0:00:06s\n",
      "epoch 61 | loss: 0.25761 | train_mse: 0.22497 | train_mae: 0.33648 |  0:00:06s\n"
     ]
    },
    {
     "name": "stdout",
     "output_type": "stream",
     "text": [
      "epoch 62 | loss: 0.2784  | train_mse: 0.19811 | train_mae: 0.32494 |  0:00:06s\n",
      "epoch 63 | loss: 0.33702 | train_mse: 0.1858  | train_mae: 0.31815 |  0:00:07s\n",
      "epoch 64 | loss: 0.31933 | train_mse: 0.17814 | train_mae: 0.30767 |  0:00:07s\n"
     ]
    },
    {
     "name": "stdout",
     "output_type": "stream",
     "text": [
      "epoch 65 | loss: 0.4762  | train_mse: 0.17633 | train_mae: 0.30859 |  0:00:07s\n",
      "epoch 66 | loss: 0.31415 | train_mse: 0.16975 | train_mae: 0.30292 |  0:00:07s\n",
      "epoch 67 | loss: 0.22699 | train_mse: 0.16417 | train_mae: 0.299   |  0:00:07s\n"
     ]
    },
    {
     "name": "stdout",
     "output_type": "stream",
     "text": [
      "epoch 68 | loss: 0.25004 | train_mse: 0.15797 | train_mae: 0.29308 |  0:00:07s\n",
      "epoch 69 | loss: 0.18322 | train_mse: 0.15172 | train_mae: 0.29016 |  0:00:07s\n",
      "epoch 70 | loss: 0.24528 | train_mse: 0.14599 | train_mae: 0.28551 |  0:00:07s\n"
     ]
    },
    {
     "name": "stdout",
     "output_type": "stream",
     "text": [
      "epoch 71 | loss: 0.22624 | train_mse: 0.13908 | train_mae: 0.28138 |  0:00:07s\n",
      "epoch 72 | loss: 0.19644 | train_mse: 0.13376 | train_mae: 0.27556 |  0:00:07s\n"
     ]
    },
    {
     "name": "stdout",
     "output_type": "stream",
     "text": [
      "epoch 73 | loss: 0.28312 | train_mse: 0.12887 | train_mae: 0.27273 |  0:00:07s\n",
      "epoch 74 | loss: 0.20026 | train_mse: 0.11901 | train_mae: 0.26432 |  0:00:08s\n",
      "epoch 75 | loss: 0.35507 | train_mse: 0.11703 | train_mae: 0.26328 |  0:00:08s\n"
     ]
    },
    {
     "name": "stdout",
     "output_type": "stream",
     "text": [
      "epoch 76 | loss: 0.40216 | train_mse: 0.11653 | train_mae: 0.2631  |  0:00:08s\n",
      "epoch 77 | loss: 0.38293 | train_mse: 0.11743 | train_mae: 0.26193 |  0:00:08s\n",
      "epoch 78 | loss: 0.21456 | train_mse: 0.11744 | train_mae: 0.26063 |  0:00:08s\n"
     ]
    },
    {
     "name": "stdout",
     "output_type": "stream",
     "text": [
      "epoch 79 | loss: 0.25022 | train_mse: 0.12252 | train_mae: 0.26438 |  0:00:08s\n",
      "epoch 80 | loss: 0.29666 | train_mse: 0.12363 | train_mae: 0.26538 |  0:00:08s\n",
      "epoch 81 | loss: 0.21127 | train_mse: 0.12428 | train_mae: 0.26573 |  0:00:08s\n"
     ]
    },
    {
     "name": "stdout",
     "output_type": "stream",
     "text": [
      "epoch 82 | loss: 0.26403 | train_mse: 0.1252  | train_mae: 0.26586 |  0:00:08s\n",
      "epoch 83 | loss: 0.33181 | train_mse: 0.12332 | train_mae: 0.26528 |  0:00:08s\n",
      "epoch 84 | loss: 0.37138 | train_mse: 0.11909 | train_mae: 0.25983 |  0:00:09s\n"
     ]
    },
    {
     "name": "stdout",
     "output_type": "stream",
     "text": [
      "epoch 85 | loss: 0.44045 | train_mse: 0.12499 | train_mae: 0.26606 |  0:00:09s\n",
      "epoch 86 | loss: 0.17337 | train_mse: 0.13136 | train_mae: 0.26962 |  0:00:09s\n",
      "epoch 87 | loss: 0.15656 | train_mse: 0.12752 | train_mae: 0.26625 |  0:00:09s\n"
     ]
    },
    {
     "name": "stdout",
     "output_type": "stream",
     "text": [
      "epoch 88 | loss: 0.26802 | train_mse: 0.12472 | train_mae: 0.26439 |  0:00:09s\n",
      "epoch 89 | loss: 0.25914 | train_mse: 0.12038 | train_mae: 0.26043 |  0:00:09s\n",
      "epoch 90 | loss: 0.25529 | train_mse: 0.11862 | train_mae: 0.25918 |  0:00:09s\n"
     ]
    },
    {
     "name": "stdout",
     "output_type": "stream",
     "text": [
      "epoch 91 | loss: 0.28945 | train_mse: 0.11769 | train_mae: 0.25715 |  0:00:09s\n",
      "epoch 92 | loss: 0.13641 | train_mse: 0.12027 | train_mae: 0.25783 |  0:00:09s\n"
     ]
    },
    {
     "name": "stdout",
     "output_type": "stream",
     "text": [
      "epoch 93 | loss: 0.18625 | train_mse: 0.11798 | train_mae: 0.25829 |  0:00:09s\n",
      "epoch 94 | loss: 0.1335  | train_mse: 0.11702 | train_mae: 0.25969 |  0:00:10s\n"
     ]
    },
    {
     "name": "stdout",
     "output_type": "stream",
     "text": [
      "epoch 95 | loss: 0.18088 | train_mse: 0.11521 | train_mae: 0.25808 |  0:00:10s\n",
      "epoch 96 | loss: 0.26034 | train_mse: 0.11327 | train_mae: 0.25495 |  0:00:10s\n",
      "epoch 97 | loss: 0.28713 | train_mse: 0.10911 | train_mae: 0.25031 |  0:00:10s\n"
     ]
    },
    {
     "name": "stdout",
     "output_type": "stream",
     "text": [
      "epoch 98 | loss: 0.19166 | train_mse: 0.10593 | train_mae: 0.24891 |  0:00:10s\n",
      "epoch 99 | loss: 0.2357  | train_mse: 0.10344 | train_mae: 0.24851 |  0:00:10s\n"
     ]
    },
    {
     "name": "stdout",
     "output_type": "stream",
     "text": [
      "epoch 100| loss: 0.1235  | train_mse: 0.10212 | train_mae: 0.24817 |  0:00:10s\n",
      "epoch 101| loss: 0.28853 | train_mse: 0.10266 | train_mae: 0.24936 |  0:00:10s\n"
     ]
    },
    {
     "name": "stdout",
     "output_type": "stream",
     "text": [
      "epoch 102| loss: 0.15171 | train_mse: 0.10246 | train_mae: 0.24819 |  0:00:10s\n",
      "epoch 103| loss: 0.19825 | train_mse: 0.10022 | train_mae: 0.24624 |  0:00:10s\n"
     ]
    },
    {
     "name": "stdout",
     "output_type": "stream",
     "text": [
      "epoch 104| loss: 0.13994 | train_mse: 0.09724 | train_mae: 0.24213 |  0:00:11s\n",
      "epoch 105| loss: 0.1669  | train_mse: 0.09263 | train_mae: 0.23524 |  0:00:11s\n",
      "epoch 106| loss: 0.12133 | train_mse: 0.0911  | train_mae: 0.23211 |  0:00:11s\n"
     ]
    },
    {
     "name": "stdout",
     "output_type": "stream",
     "text": [
      "epoch 107| loss: 0.20466 | train_mse: 0.09039 | train_mae: 0.23171 |  0:00:11s\n",
      "epoch 108| loss: 0.36036 | train_mse: 0.09055 | train_mae: 0.23299 |  0:00:11s\n",
      "epoch 109| loss: 0.16413 | train_mse: 0.08747 | train_mae: 0.22866 |  0:00:11s\n"
     ]
    },
    {
     "name": "stdout",
     "output_type": "stream",
     "text": [
      "epoch 110| loss: 0.15667 | train_mse: 0.08709 | train_mae: 0.2266  |  0:00:11s\n",
      "epoch 111| loss: 0.12757 | train_mse: 0.08974 | train_mae: 0.23299 |  0:00:11s\n"
     ]
    },
    {
     "name": "stdout",
     "output_type": "stream",
     "text": [
      "epoch 112| loss: 0.40753 | train_mse: 0.09074 | train_mae: 0.23487 |  0:00:11s\n",
      "epoch 113| loss: 0.20875 | train_mse: 0.08991 | train_mae: 0.23397 |  0:00:11s\n"
     ]
    },
    {
     "name": "stdout",
     "output_type": "stream",
     "text": [
      "epoch 114| loss: 0.13285 | train_mse: 0.08763 | train_mae: 0.227   |  0:00:12s\n",
      "epoch 115| loss: 0.31739 | train_mse: 0.08593 | train_mae: 0.22324 |  0:00:12s\n",
      "epoch 116| loss: 0.31914 | train_mse: 0.08679 | train_mae: 0.22201 |  0:00:12s\n"
     ]
    },
    {
     "name": "stdout",
     "output_type": "stream",
     "text": [
      "epoch 117| loss: 0.16887 | train_mse: 0.0873  | train_mae: 0.22441 |  0:00:12s\n",
      "epoch 118| loss: 0.23324 | train_mse: 0.08707 | train_mae: 0.22492 |  0:00:12s\n",
      "epoch 119| loss: 0.22804 | train_mse: 0.08741 | train_mae: 0.22529 |  0:00:12s\n"
     ]
    },
    {
     "name": "stdout",
     "output_type": "stream",
     "text": [
      "epoch 120| loss: 0.18156 | train_mse: 0.08859 | train_mae: 0.22639 |  0:00:12s\n",
      "epoch 121| loss: 0.28736 | train_mse: 0.086   | train_mae: 0.22295 |  0:00:12s\n",
      "epoch 122| loss: 0.32674 | train_mse: 0.08545 | train_mae: 0.22489 |  0:00:12s\n"
     ]
    },
    {
     "name": "stdout",
     "output_type": "stream",
     "text": [
      "epoch 123| loss: 0.23135 | train_mse: 0.08544 | train_mae: 0.22511 |  0:00:12s\n",
      "epoch 124| loss: 0.2804  | train_mse: 0.08497 | train_mae: 0.22301 |  0:00:12s\n",
      "epoch 125| loss: 0.18229 | train_mse: 0.08371 | train_mae: 0.22323 |  0:00:13s\n"
     ]
    },
    {
     "name": "stdout",
     "output_type": "stream",
     "text": [
      "epoch 126| loss: 0.15877 | train_mse: 0.08311 | train_mae: 0.22244 |  0:00:13s\n",
      "epoch 127| loss: 0.12636 | train_mse: 0.08359 | train_mae: 0.22144 |  0:00:13s\n",
      "epoch 128| loss: 0.22516 | train_mse: 0.08652 | train_mae: 0.22557 |  0:00:13s\n"
     ]
    },
    {
     "name": "stdout",
     "output_type": "stream",
     "text": [
      "epoch 129| loss: 0.19449 | train_mse: 0.08836 | train_mae: 0.22852 |  0:00:13s\n",
      "epoch 130| loss: 0.22302 | train_mse: 0.0866  | train_mae: 0.22502 |  0:00:13s\n",
      "epoch 131| loss: 0.18151 | train_mse: 0.08508 | train_mae: 0.22268 |  0:00:13s\n"
     ]
    },
    {
     "name": "stdout",
     "output_type": "stream",
     "text": [
      "epoch 132| loss: 0.18985 | train_mse: 0.08489 | train_mae: 0.22434 |  0:00:13s\n",
      "epoch 133| loss: 0.23224 | train_mse: 0.08347 | train_mae: 0.22236 |  0:00:13s\n",
      "epoch 134| loss: 0.2429  | train_mse: 0.08561 | train_mae: 0.22403 |  0:00:13s\n"
     ]
    },
    {
     "name": "stdout",
     "output_type": "stream",
     "text": [
      "epoch 135| loss: 0.23088 | train_mse: 0.08886 | train_mae: 0.22491 |  0:00:13s\n",
      "epoch 136| loss: 0.32941 | train_mse: 0.08838 | train_mae: 0.22534 |  0:00:14s\n",
      "epoch 137| loss: 0.14208 | train_mse: 0.08681 | train_mae: 0.22419 |  0:00:14s\n"
     ]
    },
    {
     "name": "stdout",
     "output_type": "stream",
     "text": [
      "epoch 138| loss: 0.13197 | train_mse: 0.08675 | train_mae: 0.22514 |  0:00:14s\n",
      "epoch 139| loss: 0.12446 | train_mse: 0.08813 | train_mae: 0.22823 |  0:00:14s\n",
      "epoch 140| loss: 0.30931 | train_mse: 0.0863  | train_mae: 0.22584 |  0:00:14s\n"
     ]
    },
    {
     "name": "stdout",
     "output_type": "stream",
     "text": [
      "epoch 141| loss: 0.18632 | train_mse: 0.08616 | train_mae: 0.22565 |  0:00:14s\n",
      "epoch 142| loss: 0.17975 | train_mse: 0.0858  | train_mae: 0.22442 |  0:00:14s\n",
      "epoch 143| loss: 0.20057 | train_mse: 0.08434 | train_mae: 0.21862 |  0:00:14s\n"
     ]
    },
    {
     "name": "stdout",
     "output_type": "stream",
     "text": [
      "epoch 144| loss: 0.20543 | train_mse: 0.08339 | train_mae: 0.21785 |  0:00:14s\n",
      "epoch 145| loss: 0.18779 | train_mse: 0.08383 | train_mae: 0.21877 |  0:00:14s\n"
     ]
    },
    {
     "name": "stdout",
     "output_type": "stream",
     "text": [
      "epoch 146| loss: 0.20029 | train_mse: 0.0842  | train_mae: 0.21939 |  0:00:15s\n",
      "epoch 147| loss: 0.26086 | train_mse: 0.08409 | train_mae: 0.22162 |  0:00:15s\n",
      "epoch 148| loss: 0.12339 | train_mse: 0.08778 | train_mae: 0.2258  |  0:00:15s\n"
     ]
    },
    {
     "name": "stdout",
     "output_type": "stream",
     "text": [
      "epoch 149| loss: 0.14652 | train_mse: 0.09048 | train_mae: 0.22943 |  0:00:15s\n",
      "epoch 150| loss: 0.1233  | train_mse: 0.09187 | train_mae: 0.2293  |  0:00:15s\n",
      "epoch 151| loss: 0.21791 | train_mse: 0.09145 | train_mae: 0.22827 |  0:00:15s\n"
     ]
    },
    {
     "name": "stdout",
     "output_type": "stream",
     "text": [
      "epoch 152| loss: 0.19424 | train_mse: 0.09639 | train_mae: 0.23409 |  0:00:15s\n",
      "epoch 153| loss: 0.23101 | train_mse: 0.09465 | train_mae: 0.23238 |  0:00:15s\n",
      "epoch 154| loss: 0.16946 | train_mse: 0.09365 | train_mae: 0.2318  |  0:00:15s\n"
     ]
    },
    {
     "name": "stdout",
     "output_type": "stream",
     "text": [
      "epoch 155| loss: 0.09852 | train_mse: 0.09246 | train_mae: 0.23081 |  0:00:15s\n",
      "epoch 156| loss: 0.14383 | train_mse: 0.09145 | train_mae: 0.23004 |  0:00:15s\n"
     ]
    },
    {
     "name": "stdout",
     "output_type": "stream",
     "text": [
      "epoch 157| loss: 0.16568 | train_mse: 0.09235 | train_mae: 0.23194 |  0:00:16s\n",
      "epoch 158| loss: 0.12177 | train_mse: 0.08991 | train_mae: 0.22855 |  0:00:16s\n",
      "epoch 159| loss: 0.28301 | train_mse: 0.08572 | train_mae: 0.22129 |  0:00:16s\n"
     ]
    },
    {
     "name": "stdout",
     "output_type": "stream",
     "text": [
      "epoch 160| loss: 0.10438 | train_mse: 0.08599 | train_mae: 0.22037 |  0:00:16s\n",
      "epoch 161| loss: 0.21738 | train_mse: 0.08429 | train_mae: 0.21833 |  0:00:16s\n",
      "epoch 162| loss: 0.14922 | train_mse: 0.08377 | train_mae: 0.21835 |  0:00:16s\n"
     ]
    },
    {
     "name": "stdout",
     "output_type": "stream",
     "text": [
      "epoch 163| loss: 0.20106 | train_mse: 0.08116 | train_mae: 0.2149  |  0:00:16s\n",
      "epoch 164| loss: 0.11601 | train_mse: 0.07985 | train_mae: 0.21235 |  0:00:16s\n"
     ]
    },
    {
     "name": "stdout",
     "output_type": "stream",
     "text": [
      "epoch 165| loss: 0.1005  | train_mse: 0.08095 | train_mae: 0.21408 |  0:00:16s\n",
      "epoch 166| loss: 0.2741  | train_mse: 0.08312 | train_mae: 0.2164  |  0:00:16s\n",
      "epoch 167| loss: 0.22341 | train_mse: 0.08311 | train_mae: 0.21561 |  0:00:17s\n"
     ]
    },
    {
     "name": "stdout",
     "output_type": "stream",
     "text": [
      "epoch 168| loss: 0.1077  | train_mse: 0.08429 | train_mae: 0.21512 |  0:00:17s\n",
      "epoch 169| loss: 0.19204 | train_mse: 0.08614 | train_mae: 0.21422 |  0:00:17s\n"
     ]
    },
    {
     "name": "stdout",
     "output_type": "stream",
     "text": [
      "epoch 170| loss: 0.19647 | train_mse: 0.08636 | train_mae: 0.21484 |  0:00:17s\n",
      "epoch 171| loss: 0.14101 | train_mse: 0.08776 | train_mae: 0.21675 |  0:00:17s\n",
      "epoch 172| loss: 0.10728 | train_mse: 0.09022 | train_mae: 0.21931 |  0:00:17s\n"
     ]
    },
    {
     "name": "stdout",
     "output_type": "stream",
     "text": [
      "epoch 173| loss: 0.13657 | train_mse: 0.09327 | train_mae: 0.22121 |  0:00:17s\n",
      "epoch 174| loss: 0.09934 | train_mse: 0.0934  | train_mae: 0.2224  |  0:00:17s\n"
     ]
    },
    {
     "name": "stdout",
     "output_type": "stream",
     "text": [
      "epoch 175| loss: 0.13849 | train_mse: 0.09383 | train_mae: 0.22176 |  0:00:17s\n",
      "epoch 176| loss: 0.1618  | train_mse: 0.09215 | train_mae: 0.21985 |  0:00:17s\n",
      "epoch 177| loss: 0.10496 | train_mse: 0.08996 | train_mae: 0.21858 |  0:00:17s\n"
     ]
    },
    {
     "name": "stdout",
     "output_type": "stream",
     "text": [
      "epoch 178| loss: 0.15729 | train_mse: 0.08661 | train_mae: 0.21744 |  0:00:18s\n",
      "epoch 179| loss: 0.20394 | train_mse: 0.08773 | train_mae: 0.21943 |  0:00:18s\n",
      "epoch 180| loss: 0.30039 | train_mse: 0.08967 | train_mae: 0.2211  |  0:00:18s\n"
     ]
    },
    {
     "name": "stdout",
     "output_type": "stream",
     "text": [
      "epoch 181| loss: 0.15765 | train_mse: 0.08791 | train_mae: 0.21845 |  0:00:18s\n",
      "epoch 182| loss: 0.2554  | train_mse: 0.08829 | train_mae: 0.21746 |  0:00:18s\n",
      "epoch 183| loss: 0.25029 | train_mse: 0.08971 | train_mae: 0.21755 |  0:00:18s\n"
     ]
    },
    {
     "name": "stdout",
     "output_type": "stream",
     "text": [
      "epoch 184| loss: 0.20685 | train_mse: 0.08587 | train_mae: 0.2155  |  0:00:18s\n",
      "epoch 185| loss: 0.11019 | train_mse: 0.08114 | train_mae: 0.21071 |  0:00:18s\n"
     ]
    },
    {
     "name": "stdout",
     "output_type": "stream",
     "text": [
      "epoch 186| loss: 0.26183 | train_mse: 0.07949 | train_mae: 0.20891 |  0:00:18s\n",
      "epoch 187| loss: 0.16023 | train_mse: 0.08012 | train_mae: 0.21105 |  0:00:18s\n",
      "epoch 188| loss: 0.24747 | train_mse: 0.08154 | train_mae: 0.21461 |  0:00:19s\n"
     ]
    },
    {
     "name": "stdout",
     "output_type": "stream",
     "text": [
      "epoch 189| loss: 0.132   | train_mse: 0.08029 | train_mae: 0.21286 |  0:00:19s\n",
      "epoch 190| loss: 0.22667 | train_mse: 0.07834 | train_mae: 0.2105  |  0:00:19s\n",
      "epoch 191| loss: 0.1124  | train_mse: 0.07646 | train_mae: 0.2103  |  0:00:19s\n"
     ]
    },
    {
     "name": "stdout",
     "output_type": "stream",
     "text": [
      "epoch 192| loss: 0.12148 | train_mse: 0.07491 | train_mae: 0.20448 |  0:00:19s\n",
      "epoch 193| loss: 0.16243 | train_mse: 0.07697 | train_mae: 0.20336 |  0:00:19s\n",
      "epoch 194| loss: 0.16197 | train_mse: 0.07063 | train_mae: 0.19581 |  0:00:19s\n"
     ]
    },
    {
     "name": "stdout",
     "output_type": "stream",
     "text": [
      "epoch 195| loss: 0.18442 | train_mse: 0.06962 | train_mae: 0.19384 |  0:00:19s\n",
      "epoch 196| loss: 0.17636 | train_mse: 0.06677 | train_mae: 0.19094 |  0:00:19s\n"
     ]
    },
    {
     "name": "stdout",
     "output_type": "stream",
     "text": [
      "epoch 197| loss: 0.23933 | train_mse: 0.0651  | train_mae: 0.18981 |  0:00:19s\n",
      "epoch 198| loss: 0.14151 | train_mse: 0.06583 | train_mae: 0.19361 |  0:00:20s\n",
      "epoch 199| loss: 0.20706 | train_mse: 0.06546 | train_mae: 0.19422 |  0:00:20s\n"
     ]
    },
    {
     "name": "stdout",
     "output_type": "stream",
     "text": [
      "epoch 200| loss: 0.23615 | train_mse: 0.06297 | train_mae: 0.19093 |  0:00:20s\n",
      "epoch 201| loss: 0.14841 | train_mse: 0.06203 | train_mae: 0.1874  |  0:00:20s\n",
      "epoch 202| loss: 0.14897 | train_mse: 0.06139 | train_mae: 0.18545 |  0:00:20s\n"
     ]
    },
    {
     "name": "stdout",
     "output_type": "stream",
     "text": [
      "epoch 203| loss: 0.12988 | train_mse: 0.06128 | train_mae: 0.18591 |  0:00:20s\n",
      "epoch 204| loss: 0.12908 | train_mse: 0.0604  | train_mae: 0.18584 |  0:00:20s\n",
      "epoch 205| loss: 0.12706 | train_mse: 0.05884 | train_mae: 0.18229 |  0:00:20s\n"
     ]
    },
    {
     "name": "stdout",
     "output_type": "stream",
     "text": [
      "epoch 206| loss: 0.17796 | train_mse: 0.05858 | train_mae: 0.18379 |  0:00:20s\n",
      "epoch 207| loss: 0.2389  | train_mse: 0.05822 | train_mae: 0.18379 |  0:00:20s\n"
     ]
    },
    {
     "name": "stdout",
     "output_type": "stream",
     "text": [
      "epoch 208| loss: 0.11536 | train_mse: 0.05897 | train_mae: 0.18583 |  0:00:20s\n",
      "epoch 209| loss: 0.12751 | train_mse: 0.05954 | train_mae: 0.18854 |  0:00:21s\n",
      "epoch 210| loss: 0.20261 | train_mse: 0.0601  | train_mae: 0.18955 |  0:00:21s\n"
     ]
    },
    {
     "name": "stdout",
     "output_type": "stream",
     "text": [
      "epoch 211| loss: 0.11447 | train_mse: 0.06472 | train_mae: 0.1934  |  0:00:21s\n",
      "epoch 212| loss: 0.1686  | train_mse: 0.05773 | train_mae: 0.18511 |  0:00:21s\n",
      "epoch 213| loss: 0.18785 | train_mse: 0.05874 | train_mae: 0.18602 |  0:00:21s\n"
     ]
    },
    {
     "name": "stdout",
     "output_type": "stream",
     "text": [
      "epoch 214| loss: 0.16304 | train_mse: 0.06034 | train_mae: 0.18841 |  0:00:21s\n",
      "epoch 215| loss: 0.21153 | train_mse: 0.06141 | train_mae: 0.1902  |  0:00:21s\n",
      "epoch 216| loss: 0.22018 | train_mse: 0.06162 | train_mae: 0.19003 |  0:00:21s\n"
     ]
    },
    {
     "name": "stdout",
     "output_type": "stream",
     "text": [
      "epoch 217| loss: 0.14425 | train_mse: 0.06228 | train_mae: 0.19287 |  0:00:21s\n",
      "epoch 218| loss: 0.11089 | train_mse: 0.06155 | train_mae: 0.19051 |  0:00:21s\n"
     ]
    },
    {
     "name": "stdout",
     "output_type": "stream",
     "text": [
      "epoch 219| loss: 0.12569 | train_mse: 0.06053 | train_mae: 0.19233 |  0:00:21s\n",
      "epoch 220| loss: 0.22149 | train_mse: 0.06408 | train_mae: 0.19879 |  0:00:22s\n",
      "epoch 221| loss: 0.13109 | train_mse: 0.06745 | train_mae: 0.2016  |  0:00:22s\n"
     ]
    },
    {
     "name": "stdout",
     "output_type": "stream",
     "text": [
      "epoch 222| loss: 0.10932 | train_mse: 0.06583 | train_mae: 0.20086 |  0:00:22s\n",
      "epoch 223| loss: 0.09038 | train_mse: 0.0649  | train_mae: 0.19832 |  0:00:22s\n",
      "epoch 224| loss: 0.25187 | train_mse: 0.06397 | train_mae: 0.19598 |  0:00:22s\n"
     ]
    },
    {
     "name": "stdout",
     "output_type": "stream",
     "text": [
      "epoch 225| loss: 0.16855 | train_mse: 0.0652  | train_mae: 0.19625 |  0:00:22s\n",
      "epoch 226| loss: 0.15989 | train_mse: 0.06745 | train_mae: 0.19652 |  0:00:22s\n",
      "epoch 227| loss: 0.09363 | train_mse: 0.0672  | train_mae: 0.19083 |  0:00:22s\n"
     ]
    },
    {
     "name": "stdout",
     "output_type": "stream",
     "text": [
      "epoch 228| loss: 0.1666  | train_mse: 0.06359 | train_mae: 0.18789 |  0:00:22s\n",
      "epoch 229| loss: 0.11527 | train_mse: 0.06366 | train_mae: 0.18852 |  0:00:22s\n",
      "epoch 230| loss: 0.18794 | train_mse: 0.06339 | train_mae: 0.18907 |  0:00:22s\n"
     ]
    },
    {
     "name": "stdout",
     "output_type": "stream",
     "text": [
      "epoch 231| loss: 0.12858 | train_mse: 0.0638  | train_mae: 0.18964 |  0:00:23s\n",
      "epoch 232| loss: 0.11024 | train_mse: 0.06506 | train_mae: 0.19102 |  0:00:23s\n",
      "epoch 233| loss: 0.17601 | train_mse: 0.06798 | train_mae: 0.19354 |  0:00:23s\n"
     ]
    },
    {
     "name": "stdout",
     "output_type": "stream",
     "text": [
      "epoch 234| loss: 0.16244 | train_mse: 0.06895 | train_mae: 0.19631 |  0:00:23s\n",
      "epoch 235| loss: 0.14776 | train_mse: 0.07083 | train_mae: 0.20218 |  0:00:23s\n",
      "epoch 236| loss: 0.31698 | train_mse: 0.07143 | train_mae: 0.2045  |  0:00:23s\n"
     ]
    },
    {
     "name": "stdout",
     "output_type": "stream",
     "text": [
      "epoch 237| loss: 0.18454 | train_mse: 0.07298 | train_mae: 0.20643 |  0:00:23s\n",
      "epoch 238| loss: 0.16699 | train_mse: 0.0768  | train_mae: 0.21017 |  0:00:23s\n",
      "epoch 239| loss: 0.14388 | train_mse: 0.07639 | train_mae: 0.20981 |  0:00:23s\n"
     ]
    },
    {
     "name": "stdout",
     "output_type": "stream",
     "text": [
      "epoch 240| loss: 0.12786 | train_mse: 0.0787  | train_mae: 0.21064 |  0:00:23s\n",
      "epoch 241| loss: 0.17167 | train_mse: 0.07934 | train_mae: 0.20984 |  0:00:23s\n",
      "epoch 242| loss: 0.10743 | train_mse: 0.08448 | train_mae: 0.21217 |  0:00:24s"
     ]
    },
    {
     "name": "stdout",
     "output_type": "stream",
     "text": [
      "\n",
      "epoch 243| loss: 0.29971 | train_mse: 0.0855  | train_mae: 0.21067 |  0:00:24s\n",
      "epoch 244| loss: 0.25414 | train_mse: 0.08226 | train_mae: 0.20693 |  0:00:24s\n"
     ]
    },
    {
     "name": "stdout",
     "output_type": "stream",
     "text": [
      "epoch 245| loss: 0.14136 | train_mse: 0.08662 | train_mae: 0.20872 |  0:00:24s\n",
      "epoch 246| loss: 0.22992 | train_mse: 0.08677 | train_mae: 0.20684 |  0:00:24s\n",
      "epoch 247| loss: 0.11321 | train_mse: 0.08829 | train_mae: 0.21051 |  0:00:24s\n"
     ]
    },
    {
     "name": "stdout",
     "output_type": "stream",
     "text": [
      "epoch 248| loss: 0.08147 | train_mse: 0.08795 | train_mae: 0.20971 |  0:00:24s\n",
      "epoch 249| loss: 0.16399 | train_mse: 0.08687 | train_mae: 0.20853 |  0:00:24s\n",
      "epoch 250| loss: 0.2058  | train_mse: 0.08761 | train_mae: 0.20817 |  0:00:24s\n"
     ]
    },
    {
     "name": "stdout",
     "output_type": "stream",
     "text": [
      "epoch 251| loss: 0.11494 | train_mse: 0.0883  | train_mae: 0.20852 |  0:00:24s\n",
      "epoch 252| loss: 0.13681 | train_mse: 0.08562 | train_mae: 0.20697 |  0:00:24s\n",
      "epoch 253| loss: 0.15432 | train_mse: 0.08313 | train_mae: 0.20603 |  0:00:25s\n"
     ]
    },
    {
     "name": "stdout",
     "output_type": "stream",
     "text": [
      "epoch 254| loss: 0.16313 | train_mse: 0.07754 | train_mae: 0.20243 |  0:00:25s\n",
      "epoch 255| loss: 0.19878 | train_mse: 0.07932 | train_mae: 0.2044  |  0:00:25s\n",
      "\n",
      "Early stopping occurred at epoch 255 with best_epoch = 205 and best_train_mae = 0.18229\n",
      "Best weights from best epoch are automatically used!\n"
     ]
    }
   ],
   "source": [
    "#Train the Model\n",
    "\n",
    "Y_train = np.reshape(Y_train, (-1, 1))\n",
    "Y_test = np.reshape(Y_test, (-1, 1))\n",
    "\n",
    "prior_model = TabNetRegressor(optimizer_fn=torch.optim.Adam, optimizer_params=dict(lr = 0.001),\n",
    "          #scheduler_params={\"step_size\":10, ], \"gamma\":0.9},\n",
    "          #scheduler_fn=torch.optim.lr_scheduler.StepLR\n",
    "          )  #TabNetRegressor()\n",
    "\n",
    "prior_model.fit(X_train,Y_train,eval_set=[(X_train, Y_train)],\n",
    "            eval_name=['train'], \n",
    "            eval_metric=[ 'mse', 'mae'], \n",
    "            max_epochs = n_epochs, \n",
    "            batch_size = batch_size,\n",
    "            patience=50\n",
    "            )"
   ]
  },
  {
   "cell_type": "code",
   "execution_count": 10,
   "id": "af65dcda",
   "metadata": {
    "execution": {
     "iopub.execute_input": "2022-07-22T10:18:45.534429Z",
     "iopub.status.busy": "2022-07-22T10:18:45.534065Z",
     "iopub.status.idle": "2022-07-22T10:18:45.584075Z",
     "shell.execute_reply": "2022-07-22T10:18:45.582814Z"
    },
    "id": "af65dcda",
    "papermill": {
     "duration": 0.074868,
     "end_time": "2022-07-22T10:18:45.591197",
     "exception": false,
     "start_time": "2022-07-22T10:18:45.516329",
     "status": "completed"
    },
    "tags": []
   },
   "outputs": [
    {
     "data": {
      "application/scrapbook.scrap.json+json": {
       "data": 0.618924314401265,
       "encoder": "json",
       "name": "Prior Model MSE",
       "version": 1
      }
     },
     "metadata": {
      "scrapbook": {
       "data": true,
       "display": false,
       "name": "Prior Model MSE"
      }
     },
     "output_type": "display_data"
    },
    {
     "data": {
      "application/scrapbook.scrap.json+json": {
       "data": 0.6193807787348093,
       "encoder": "json",
       "name": "ABC Pre-generator MSE",
       "version": 1
      }
     },
     "metadata": {
      "scrapbook": {
       "data": true,
       "display": false,
       "name": "ABC Pre-generator MSE"
      }
     },
     "output_type": "display_data"
    },
    {
     "data": {
      "application/scrapbook.scrap.json+json": {
       "data": 0.567016316458838,
       "encoder": "json",
       "name": "Prior Model MAE",
       "version": 1
      }
     },
     "metadata": {
      "scrapbook": {
       "data": true,
       "display": false,
       "name": "Prior Model MAE"
      }
     },
     "output_type": "display_data"
    },
    {
     "name": "stdout",
     "output_type": "stream",
     "text": [
      "Prior Model MAE 0.567016316458838\n"
     ]
    },
    {
     "data": {
      "application/scrapbook.scrap.json+json": {
       "data": 0.5470982953593139,
       "encoder": "json",
       "name": "ABC Pre-generator MAE",
       "version": 1
      }
     },
     "metadata": {
      "scrapbook": {
       "data": true,
       "display": false,
       "name": "ABC Pre-generator MAE"
      }
     },
     "output_type": "display_data"
    },
    {
     "name": "stdout",
     "output_type": "stream",
     "text": [
      "ABC Pre-generator MAE 0.5470982953593139\n"
     ]
    }
   ],
   "source": [
    "y_pred = prior_model.predict(X_test)\n",
    "y_abc = y_pred + np.random.normal(0,variance, y_pred.shape) + bias \n",
    "mse = mean_squared_error(y_pred,Y_test)\n",
    "sb.glue(\"Prior Model MSE\",mse)\n",
    "mse = mean_squared_error(y_abc,Y_test)\n",
    "sb.glue(\"ABC Pre-generator MSE\",mse)\n",
    "mae = mean_absolute_error(y_pred,Y_test)\n",
    "sb.glue(\"Prior Model MAE\",mae)\n",
    "print(\"Prior Model MAE\",mae)\n",
    "mae = mean_absolute_error(y_abc,Y_test)\n",
    "sb.glue(\"ABC Pre-generator MAE\",mae)\n",
    "print(\"ABC Pre-generator MAE\",mae)"
   ]
  },
  {
   "cell_type": "markdown",
   "id": "25609da2",
   "metadata": {
    "papermill": {
     "duration": 0.016733,
     "end_time": "2022-07-22T10:18:45.633207",
     "exception": false,
     "start_time": "2022-07-22T10:18:45.616474",
     "status": "completed"
    },
    "tags": []
   },
   "source": [
    "# mGAN Model"
   ]
  },
  {
   "cell_type": "code",
   "execution_count": 11,
   "id": "dfc3464d",
   "metadata": {
    "execution": {
     "iopub.execute_input": "2022-07-22T10:18:45.669488Z",
     "iopub.status.busy": "2022-07-22T10:18:45.668880Z",
     "iopub.status.idle": "2022-07-22T10:18:45.676438Z",
     "shell.execute_reply": "2022-07-22T10:18:45.674486Z"
    },
    "papermill": {
     "duration": 0.029582,
     "end_time": "2022-07-22T10:18:45.680225",
     "exception": false,
     "start_time": "2022-07-22T10:18:45.650643",
     "status": "completed"
    },
    "tags": []
   },
   "outputs": [],
   "source": [
    "# gen = network.Generator(n_features+1).to(device)\n",
    "# disc = network.Discriminator(n_features+1).to(device)\n",
    "\n",
    "# criterion = torch.nn.BCELoss()\n",
    "# gen_opt = torch.optim.Adam(gen.parameters(), lr=0.001, betas=(0.5, 0.999))\n",
    "# disc_opt = torch.optim.Adam(disc.parameters(), lr=0.001, betas=(0.5, 0.999))"
   ]
  },
  {
   "cell_type": "code",
   "execution_count": 12,
   "id": "b75fdd85",
   "metadata": {
    "execution": {
     "iopub.execute_input": "2022-07-22T10:18:45.713478Z",
     "iopub.status.busy": "2022-07-22T10:18:45.712937Z",
     "iopub.status.idle": "2022-07-22T10:18:45.717830Z",
     "shell.execute_reply": "2022-07-22T10:18:45.715836Z"
    },
    "papermill": {
     "duration": 0.026342,
     "end_time": "2022-07-22T10:18:45.721799",
     "exception": false,
     "start_time": "2022-07-22T10:18:45.695457",
     "status": "completed"
    },
    "tags": []
   },
   "outputs": [],
   "source": [
    "#Training the ABC_GAN \n",
    "# ABC_train_test2.training_GAN(disc,gen,disc_opt,gen_opt,train_data,batch_size,n_epochs,criterion,prior_model,variance,bias,device)"
   ]
  },
  {
   "cell_type": "code",
   "execution_count": 13,
   "id": "1fa7c368",
   "metadata": {
    "execution": {
     "iopub.execute_input": "2022-07-22T10:18:45.757157Z",
     "iopub.status.busy": "2022-07-22T10:18:45.756714Z",
     "iopub.status.idle": "2022-07-22T10:18:45.761233Z",
     "shell.execute_reply": "2022-07-22T10:18:45.759919Z"
    },
    "papermill": {
     "duration": 0.025603,
     "end_time": "2022-07-22T10:18:45.765036",
     "exception": false,
     "start_time": "2022-07-22T10:18:45.739433",
     "status": "completed"
    },
    "tags": []
   },
   "outputs": [],
   "source": [
    "# ABC_GAN1_metrics=ABC_train_test2.test_generator(gen,test_data,prior_model,variance,bias,\"1\",device)\n",
    "# sb.glue(\"ABC_GAN_1 Metrics\",ABC_GAN1_metrics)\n",
    "\n",
    "# print(\"MAE\")\n",
    "# print(mean(ABC_GAN1_metrics[1]))"
   ]
  },
  {
   "cell_type": "code",
   "execution_count": 14,
   "id": "eb22ce5c",
   "metadata": {
    "execution": {
     "iopub.execute_input": "2022-07-22T10:18:45.800515Z",
     "iopub.status.busy": "2022-07-22T10:18:45.800018Z",
     "iopub.status.idle": "2022-07-22T10:18:45.804779Z",
     "shell.execute_reply": "2022-07-22T10:18:45.803628Z"
    },
    "papermill": {
     "duration": 0.026463,
     "end_time": "2022-07-22T10:18:45.808514",
     "exception": false,
     "start_time": "2022-07-22T10:18:45.782051",
     "status": "completed"
    },
    "tags": []
   },
   "outputs": [],
   "source": [
    "# sanityChecks.discProbVsError(train_data,disc,device)\n",
    "# sanityChecks.discProbVsError(test_data,disc,device)"
   ]
  },
  {
   "cell_type": "markdown",
   "id": "f75bb852",
   "metadata": {
    "papermill": {
     "duration": 0.017606,
     "end_time": "2022-07-22T10:18:45.842476",
     "exception": false,
     "start_time": "2022-07-22T10:18:45.824870",
     "status": "completed"
    },
    "tags": []
   },
   "source": [
    "# mGAN Model with TabNet Generator"
   ]
  },
  {
   "cell_type": "code",
   "execution_count": 15,
   "id": "673ec4f5",
   "metadata": {
    "execution": {
     "iopub.execute_input": "2022-07-22T10:18:45.878816Z",
     "iopub.status.busy": "2022-07-22T10:18:45.878123Z",
     "iopub.status.idle": "2022-07-22T10:18:45.897720Z",
     "shell.execute_reply": "2022-07-22T10:18:45.896575Z"
    },
    "papermill": {
     "duration": 0.042309,
     "end_time": "2022-07-22T10:18:45.900875",
     "exception": false,
     "start_time": "2022-07-22T10:18:45.858566",
     "status": "completed"
    },
    "tags": []
   },
   "outputs": [],
   "source": [
    "gen2 = network.GeneratorTabnet(n_features+1).to(device)\n",
    "disc2 = network.Discriminator(n_features+1).to(device)\n",
    "\n",
    "criterion = torch.nn.BCELoss()\n",
    "gen_opt = torch.optim.Adam(gen2.parameters(), lr=0.001, betas=(0.5, 0.999))\n",
    "disc_opt = torch.optim.Adam(disc2.parameters(), lr=0.001, betas=(0.5, 0.999))"
   ]
  },
  {
   "cell_type": "code",
   "execution_count": 16,
   "id": "510887ff",
   "metadata": {
    "execution": {
     "iopub.execute_input": "2022-07-22T10:18:45.940732Z",
     "iopub.status.busy": "2022-07-22T10:18:45.938929Z",
     "iopub.status.idle": "2022-07-22T10:21:35.927182Z",
     "shell.execute_reply": "2022-07-22T10:21:35.925906Z"
    },
    "papermill": {
     "duration": 170.014469,
     "end_time": "2022-07-22T10:21:35.931630",
     "exception": false,
     "start_time": "2022-07-22T10:18:45.917161",
     "status": "completed"
    },
    "tags": []
   },
   "outputs": [
    {
     "data": {
      "image/png": "[encoded data removed]",
      "text/plain": [
       "<Figure size 432x288 with 1 Axes>"
      ]
     },
     "metadata": {
      "needs_background": "light"
     },
     "output_type": "display_data"
    },
    {
     "data": {
      "image/png": "[encoded data removed]",
      "text/plain": [
       "<Figure size 432x288 with 1 Axes>"
      ]
     },
     "metadata": {
      "needs_background": "light"
     },
     "output_type": "display_data"
    }
   ],
   "source": [
    "#Training the ABC_GAN \n",
    "ABC_train_test2.training_GAN(disc2,gen2,disc_opt,gen_opt,train_data,batch_size,n_epochs,criterion,prior_model,variance,bias,device)"
   ]
  },
  {
   "cell_type": "code",
   "execution_count": 17,
   "id": "cc1715da",
   "metadata": {
    "execution": {
     "iopub.execute_input": "2022-07-22T10:21:35.970027Z",
     "iopub.status.busy": "2022-07-22T10:21:35.969401Z",
     "iopub.status.idle": "2022-07-22T10:21:37.985028Z",
     "shell.execute_reply": "2022-07-22T10:21:37.983593Z"
    },
    "papermill": {
     "duration": 2.039708,
     "end_time": "2022-07-22T10:21:37.990102",
     "exception": false,
     "start_time": "2022-07-22T10:21:35.950394",
     "status": "completed"
    },
    "tags": []
   },
   "outputs": [
    {
     "data": {
      "application/scrapbook.scrap.json+json": {
       "data": 0.44447509052383977,
       "encoder": "json",
       "name": "ABC-GAN Model 1 MSE",
       "version": 1
      }
     },
     "metadata": {
      "scrapbook": {
       "data": true,
       "display": false,
       "name": "ABC-GAN Model 1 MSE"
      }
     },
     "output_type": "display_data"
    },
    {
     "data": {
      "application/scrapbook.scrap.json+json": {
       "data": 0.5397588319666684,
       "encoder": "json",
       "name": "ABC-GAN Model 1 MAE",
       "version": 1
      }
     },
     "metadata": {
      "scrapbook": {
       "data": true,
       "display": false,
       "name": "ABC-GAN Model 1 MAE"
      }
     },
     "output_type": "display_data"
    },
    {
     "data": {
      "application/scrapbook.scrap.json+json": {
       "data": 10.795176639333368,
       "encoder": "json",
       "name": "ABC-GAN Model 1 Manhattan Distance",
       "version": 1
      }
     },
     "metadata": {
      "scrapbook": {
       "data": true,
       "display": false,
       "name": "ABC-GAN Model 1 Manhattan Distance"
      }
     },
     "output_type": "display_data"
    },
    {
     "data": {
      "application/scrapbook.scrap.json+json": {
       "data": 2.9815160264593783,
       "encoder": "json",
       "name": "ABC-GAN Model 1 Euclidean distance",
       "version": 1
      }
     },
     "metadata": {
      "scrapbook": {
       "data": true,
       "display": false,
       "name": "ABC-GAN Model 1 Euclidean distance"
      }
     },
     "output_type": "display_data"
    },
    {
     "data": {
      "application/scrapbook.scrap.json+json": {
       "data": [
        [
         0.4459397126655146,
         0.4470142089259343,
         0.44621116547860795,
         0.4425191183557084,
         0.44542598724695937,
         0.4449179667918262,
         0.44410291217234266,
         0.44428523896951855,
         0.44280839739476613,
         0.4432459531773095,
         0.4454825998906182,
         0.44627142659087154,
         0.44518937981820583,
         0.44272182433903334,
         0.44191318298962334,
         0.4464868084372721,
         0.44336892987021237,
         0.44898467910601275,
         0.44211689160944745,
         0.4469959558761474,
         0.44285143874263805,
         0.44223386552650973,
         0.44425671696789726,
         0.44587489093436555,
         0.4463282176643217,
         0.44174651364567696,
         0.4428892787522939,
         0.44198196522190525,
         0.4467303814206467,
         0.4467816000137644,
         0.44366015939603687,
         0.4442237690062679,
         0.44301132148865924,
         0.44190484885302583,
         0.44793889244726726,
         0.443802116642588,
         0.44865447563501115,
         0.4458865184179663,
         0.44295251017807613,
         0.45002006007577455,
         0.4506036010231925,
         0.4453190233040999,
         0.4438389624646145,
         0.4427882319346345,
         0.44138726646966225,
         0.4463543950084775,
         0.443617931348325,
         0.4445132155907158,
         0.44363256173577686,
         0.44017903728496394,
         0.4440077151621143,
         0.4421284478575064,
         0.4454329343288309,
         0.4474233801049052,
         0.44462903051929015,
         0.4428315430578407,
         0.4461088010987604,
         0.44364098439516403,
         0.44331298493101823,
         0.44735930391017115,
         0.44569210988768865,
         0.44396231215923637,
         0.4411479360117957,
         0.44017860882308196,
         0.44085916148738774,
         0.4437724032638197,
         0.4413123036299066,
         0.44285213170946813,
         0.450463426373316,
         0.4433896435959994,
         0.44646269278692186,
         0.444249735517192,
         0.44329004644124514,
         0.4449521186240112,
         0.44698400760261714,
         0.45100546759852733,
         0.44979355705920127,
         0.4409196865855062,
         0.4417200003623586,
         0.443161588065579,
         0.44584044124829336,
         0.44330834923634993,
         0.4442765456346537,
         0.4411911328273814,
         0.44290007508591317,
         0.44365960200356847,
         0.4407589992283826,
         0.44349743109170364,
         0.4419993720868721,
         0.44275636716907163,
         0.44731824631079975,
         0.4431674361684991,
         0.446043249305714,
         0.4460904338500261,
         0.44426653940679783,
         0.4481128794652047,
         0.4421335518412281,
         0.446235715560778,
         0.4442485133115349,
         0.4446940016996562
        ],
        [
         0.5407353196293115,
         0.5420395590364933,
         0.5398457869887352,
         0.538939417898655,
         0.5411764636635781,
         0.5402294598519802,
         0.5384553767740726,
         0.5373667251318693,
         0.5381676994264126,
         0.540693598985672,
         0.5401385009288788,
         0.5411118723452091,
         0.5386767625808716,
         0.5399664677679539,
         0.537602724134922,
         0.5419465400278568,
         0.539691423252225,
         0.5432948514819145,
         0.5386528577655554,
         0.5403391070663929,
         0.538024278357625,
         0.5380395844578743,
         0.539881993085146,
         0.540463400632143,
         0.5420116476714611,
         0.5357050351798535,
         0.5363323651254177,
         0.5383697718381881,
         0.540387911349535,
         0.5418996691703797,
         0.5408613447099924,
         0.5390943080186844,
         0.5394732370972634,
         0.5376853417605162,
         0.5413153402507305,
         0.5381959646940231,
         0.5443358462303877,
         0.5376427784562111,
         0.5367259576916694,
         0.5449157290160656,
         0.5434261173009872,
         0.5415607750415802,
         0.5386707328259945,
         0.5392953176051378,
         0.5352311462163926,
         0.5403399258852005,
         0.5375417947769165,
         0.540898059681058,
         0.540116410329938,
         0.5378026984632015,
         0.5408222191035748,
         0.536845825612545,
         0.5402664817869663,
         0.5424264833331108,
         0.5397308330982924,
         0.5399902004748582,
         0.5416173934936523,
         0.5394331742078066,
         0.5371432036161423,
         0.5408986683934927,
         0.5393853053450585,
         0.5405165646225214,
         0.537944670021534,
         0.5366249121725559,
         0.5368522495031357,
         0.5398755587637425,
         0.5383598566055298,
         0.5378347277641297,
         0.54382089599967,
         0.5401556722819805,
         0.5396148703992367,
         0.5395876057446003,
         0.538936385512352,
         0.5408378437161445,
         0.5409191962331533,
         0.5437534332275391,
         0.5428664110600948,
         0.5367798119783401,
         0.5379811294376851,
         0.5404754433780908,
         0.5407932318747044,
         0.5413454458117485,
         0.5375840254127979,
         0.538714649528265,
         0.5406977772712708,
         0.5384594395756721,
         0.5401905693113804,
         0.5404243707656861,
         0.5370134595781565,
         0.5407935105264187,
         0.5423730596899986,
         0.5421944938600063,
         0.5409315794706344,
         0.5397039785981178,
         0.5398524418473244,
         0.5413136422634125,
         0.5386130221188068,
         0.5398744679987431,
         0.537250954657793,
         0.5401470519602298
        ],
        [
         10.814706392586231,
         10.840791180729866,
         10.796915739774704,
         10.778788357973099,
         10.82352927327156,
         10.804589197039604,
         10.769107535481453,
         10.747334502637386,
         10.763353988528252,
         10.81387197971344,
         10.802770018577576,
         10.822237446904182,
         10.773535251617432,
         10.799329355359077,
         10.75205448269844,
         10.838930800557137,
         10.793828465044498,
         10.86589702963829,
         10.773057155311108,
         10.806782141327858,
         10.7604855671525,
         10.760791689157486,
         10.797639861702919,
         10.80926801264286,
         10.840232953429222,
         10.714100703597069,
         10.726647302508354,
         10.767395436763763,
         10.8077582269907,
         10.837993383407593,
         10.817226894199848,
         10.781886160373688,
         10.789464741945267,
         10.753706835210323,
         10.82630680501461,
         10.763919293880463,
         10.886716924607754,
         10.752855569124222,
         10.73451915383339,
         10.898314580321312,
         10.868522346019745,
         10.831215500831604,
         10.77341465651989,
         10.785906352102757,
         10.70462292432785,
         10.80679851770401,
         10.75083589553833,
         10.817961193621159,
         10.802328206598759,
         10.75605396926403,
         10.816444382071495,
         10.7369165122509,
         10.805329635739326,
         10.848529666662216,
         10.794616661965847,
         10.799804009497166,
         10.832347869873047,
         10.788663484156132,
         10.742864072322845,
         10.817973367869854,
         10.787706106901169,
         10.810331292450428,
         10.75889340043068,
         10.732498243451118,
         10.737044990062714,
         10.797511175274849,
         10.767197132110596,
         10.756694555282593,
         10.8764179199934,
         10.80311344563961,
         10.792297407984734,
         10.791752114892006,
         10.77872771024704,
         10.816756874322891,
         10.818383924663067,
         10.875068664550781,
         10.857328221201897,
         10.735596239566803,
         10.7596225887537,
         10.809508867561817,
         10.815864637494087,
         10.82690891623497,
         10.751680508255959,
         10.7742929905653,
         10.813955545425415,
         10.769188791513443,
         10.803811386227608,
         10.80848741531372,
         10.74026919156313,
         10.815870210528374,
         10.847461193799973,
         10.843889877200127,
         10.81863158941269,
         10.794079571962357,
         10.797048836946487,
         10.82627284526825,
         10.772260442376137,
         10.797489359974861,
         10.745019093155861,
         10.802941039204597
        ],
        [
         2.9864350408656626,
         2.990030798924768,
         2.987343855262089,
         2.9749592210842435,
         2.9847143489686223,
         2.983011789422986,
         2.980278215778999,
         2.980889930774092,
         2.975931442069075,
         2.9774013944287376,
         2.9849040181909308,
         2.9875455698311,
         2.9839215131038745,
         2.975640517061943,
         2.972921737919192,
         2.988266415289213,
         2.9778143994218724,
         2.996613685832769,
         2.9736068725016342,
         2.9899697519411377,
         2.9760760700715903,
         2.974000220331228,
         2.9807942463977524,
         2.9862179790978605,
         2.987735656527604,
         2.972361060321161,
         2.9762032146756843,
         2.9731530913220907,
         2.989081402105492,
         2.9892527494802588,
         2.978792236447641,
         2.980683710178817,
         2.9766132482694463,
         2.972893704298981,
         2.9931217564518398,
         2.9792687580766795,
         2.9955115611027483,
         2.9862569160002503,
         2.976415663774387,
         3.0000668661740675,
         3.0020113291698034,
         2.9843559549896184,
         2.979392429555444,
         2.975863679453864,
         2.971152188864321,
         2.9878232712410466,
         2.9786504707612975,
         2.9816546265143313,
         2.9786995878596985,
         2.9670828680202512,
         2.9799587754266477,
         2.9736457349775423,
         2.984737624411335,
         2.9913989373030976,
         2.9820430262465702,
         2.976009217249976,
         2.9870011754224683,
         2.9787278640223716,
         2.977626521009706,
         2.9911847281977457,
         2.9856058342912197,
         2.9798064103536537,
         2.9703465656781387,
         2.9670814239689545,
         2.9693742151752707,
         2.979169022609559,
         2.970899875895876,
         2.9760783985287356,
         3.001544357071259,
         2.9778839587734085,
         2.9881857130604246,
         2.9807708248612204,
         2.9775494838583123,
         2.9831262749806995,
         2.9899297904887905,
         3.003349688592813,
         2.9993117779223994,
         2.9695780393365863,
         2.9722718595793305,
         2.9771180294559336,
         2.9861026146075202,
         2.977610952546856,
         2.980860767076026,
         2.970491988972135,
         2.976239489980311,
         2.9787903652441488,
         2.969036878276801,
         2.9782458968047067,
         2.9732116375625606,
         2.9757566001575855,
         2.9910474630496915,
         2.977137672894887,
         2.986781710489449,
         2.986939684191919,
         2.9808271986373107,
         2.9937029894937965,
         2.973662898989151,
         2.987426034434252,
         2.9807667245577436,
         2.9822608930127363
        ]
       ],
       "encoder": "json",
       "name": "ABC_GAN_2 Metrics",
       "version": 1
      }
     },
     "metadata": {
      "scrapbook": {
       "data": true,
       "display": false,
       "name": "ABC_GAN_2 Metrics"
      }
     },
     "output_type": "display_data"
    },
    {
     "name": "stdout",
     "output_type": "stream",
     "text": [
      "MAE\n",
      "0.5397588319666684\n"
     ]
    }
   ],
   "source": [
    "ABC_GAN2_metrics=ABC_train_test2.test_generator(gen2,test_data,prior_model,variance,bias,\"1\",device)\n",
    "sb.glue(\"ABC_GAN_2 Metrics\",ABC_GAN2_metrics)\n",
    "\n",
    "print(\"MAE\")\n",
    "print(mean(ABC_GAN2_metrics[1]))"
   ]
  },
  {
   "cell_type": "code",
   "execution_count": 18,
   "id": "f6ab9054",
   "metadata": {
    "execution": {
     "iopub.execute_input": "2022-07-22T10:21:38.044281Z",
     "iopub.status.busy": "2022-07-22T10:21:38.043632Z",
     "iopub.status.idle": "2022-07-22T10:21:38.976613Z",
     "shell.execute_reply": "2022-07-22T10:21:38.973938Z"
    },
    "papermill": {
     "duration": 0.970281,
     "end_time": "2022-07-22T10:21:38.981443",
     "exception": false,
     "start_time": "2022-07-22T10:21:38.011162",
     "status": "completed"
    },
    "tags": []
   },
   "outputs": [
    {
     "data": {
      "image/png": "[encoded data removed]",
      "text/plain": [
       "<Figure size 432x288 with 1 Axes>"
      ]
     },
     "metadata": {
      "needs_background": "light"
     },
     "output_type": "display_data"
    },
    {
     "data": {
      "image/png": "[encoded data removed]",
      "text/plain": [
       "<Figure size 432x288 with 1 Axes>"
      ]
     },
     "metadata": {
      "needs_background": "light"
     },
     "output_type": "display_data"
    },
    {
     "data": {
      "image/png": "[encoded data removed]",
      "text/plain": [
       "<Figure size 432x288 with 1 Axes>"
      ]
     },
     "metadata": {
      "needs_background": "light"
     },
     "output_type": "display_data"
    },
    {
     "data": {
      "image/png": "[encoded data removed]",
      "text/plain": [
       "<Figure size 432x288 with 1 Axes>"
      ]
     },
     "metadata": {
      "needs_background": "light"
     },
     "output_type": "display_data"
    }
   ],
   "source": [
    "sanityChecks.discProbVsError(train_data,disc2,device)\n",
    "sanityChecks.discProbVsError(test_data,disc2,device)"
   ]
  },
  {
   "cell_type": "markdown",
   "id": "130f3a4d",
   "metadata": {
    "id": "130f3a4d",
    "papermill": {
     "duration": 0.026983,
     "end_time": "2022-07-22T10:21:39.038272",
     "exception": false,
     "start_time": "2022-07-22T10:21:39.011289",
     "status": "completed"
    },
    "tags": []
   },
   "source": [
    "# skipGAN Model"
   ]
  },
  {
   "cell_type": "code",
   "execution_count": 19,
   "id": "4e43dad1",
   "metadata": {
    "execution": {
     "iopub.execute_input": "2022-07-22T10:21:39.088836Z",
     "iopub.status.busy": "2022-07-22T10:21:39.087804Z",
     "iopub.status.idle": "2022-07-22T10:21:39.094714Z",
     "shell.execute_reply": "2022-07-22T10:21:39.092559Z"
    },
    "id": "4e43dad1",
    "papermill": {
     "duration": 0.153625,
     "end_time": "2022-07-22T10:21:39.211860",
     "exception": false,
     "start_time": "2022-07-22T10:21:39.058235",
     "status": "completed"
    },
    "tags": []
   },
   "outputs": [],
   "source": [
    "# #Generator\n",
    "# gen3 = network.GeneratorWithSkipConnection(n_features+1).to(device)\n",
    "# constraints=network.weightConstraint()\n",
    "# #Discriminator \n",
    "# disc3 = network.Discriminator(n_features+1).to(device)\n",
    "\n",
    "# criterion = torch.nn.BCELoss()\n",
    "# gen_opt = torch.optim.Adam(gen3.parameters(), lr=0.01, betas=(0.5, 0.999))\n",
    "# disc_opt = torch.optim.Adam(disc3.parameters(), lr=0.01, betas=(0.5, 0.999))\n"
   ]
  },
  {
   "cell_type": "code",
   "execution_count": 20,
   "id": "26acbc37",
   "metadata": {
    "execution": {
     "iopub.execute_input": "2022-07-22T10:21:39.278207Z",
     "iopub.status.busy": "2022-07-22T10:21:39.277454Z",
     "iopub.status.idle": "2022-07-22T10:21:39.285309Z",
     "shell.execute_reply": "2022-07-22T10:21:39.283768Z"
    },
    "id": "26acbc37",
    "papermill": {
     "duration": 0.060365,
     "end_time": "2022-07-22T10:21:39.301908",
     "exception": false,
     "start_time": "2022-07-22T10:21:39.241543",
     "status": "completed"
    },
    "tags": []
   },
   "outputs": [],
   "source": [
    "# ABC_train_test2.training_GAN_skip_connection(disc3,gen3,disc_opt,gen_opt,train_data,batch_size,n_epochs,criterion,prior_model,variance,bias,device)"
   ]
  },
  {
   "cell_type": "code",
   "execution_count": 21,
   "id": "c5e0717b",
   "metadata": {
    "execution": {
     "iopub.execute_input": "2022-07-22T10:21:39.389279Z",
     "iopub.status.busy": "2022-07-22T10:21:39.388777Z",
     "iopub.status.idle": "2022-07-22T10:21:39.394731Z",
     "shell.execute_reply": "2022-07-22T10:21:39.393178Z"
    },
    "id": "c5e0717b",
    "papermill": {
     "duration": 0.070644,
     "end_time": "2022-07-22T10:21:39.408286",
     "exception": false,
     "start_time": "2022-07-22T10:21:39.337642",
     "status": "completed"
    },
    "tags": []
   },
   "outputs": [],
   "source": [
    "# ABC_GAN3_metrics=ABC_train_test2.test_generator(gen3,test_data,prior_model,variance,bias,\"3\",device)\n",
    "# sb.glue(\"ABC_GAN_3 Metrics\",ABC_GAN3_metrics)\n",
    "\n",
    "# print(\"MAE\")\n",
    "# print(mean(ABC_GAN3_metrics[1]))"
   ]
  },
  {
   "cell_type": "code",
   "execution_count": 22,
   "id": "c8e46b48",
   "metadata": {
    "execution": {
     "iopub.execute_input": "2022-07-22T10:21:39.633531Z",
     "iopub.status.busy": "2022-07-22T10:21:39.632987Z",
     "iopub.status.idle": "2022-07-22T10:21:39.638672Z",
     "shell.execute_reply": "2022-07-22T10:21:39.636856Z"
    },
    "id": "c8e46b48",
    "papermill": {
     "duration": 0.097316,
     "end_time": "2022-07-22T10:21:39.670975",
     "exception": false,
     "start_time": "2022-07-22T10:21:39.573659",
     "status": "completed"
    },
    "tags": []
   },
   "outputs": [],
   "source": [
    "# sanityChecks.discProbVsError(train_data,disc3,device)\n",
    "# sanityChecks.discProbVsError(test_data,disc3,device)"
   ]
  },
  {
   "cell_type": "markdown",
   "id": "072e502a",
   "metadata": {
    "id": "130f3a4d",
    "papermill": {
     "duration": 0.036665,
     "end_time": "2022-07-22T10:21:39.744246",
     "exception": false,
     "start_time": "2022-07-22T10:21:39.707581",
     "status": "completed"
    },
    "tags": []
   },
   "source": [
    "# skipGAN Model with TabNet Generator"
   ]
  },
  {
   "cell_type": "code",
   "execution_count": 23,
   "id": "5bfdd18e",
   "metadata": {
    "execution": {
     "iopub.execute_input": "2022-07-22T10:21:39.837531Z",
     "iopub.status.busy": "2022-07-22T10:21:39.836950Z",
     "iopub.status.idle": "2022-07-22T10:21:39.856448Z",
     "shell.execute_reply": "2022-07-22T10:21:39.855515Z"
    },
    "id": "4e43dad1",
    "papermill": {
     "duration": 0.08504,
     "end_time": "2022-07-22T10:21:39.859859",
     "exception": false,
     "start_time": "2022-07-22T10:21:39.774819",
     "status": "completed"
    },
    "tags": []
   },
   "outputs": [],
   "source": [
    "#Generator\n",
    "gen4 = network.GeneratorTabnetskipConnection(n_features+1).to(device)\n",
    "constraints=network.weightConstraint()\n",
    "#Discriminator \n",
    "disc4 = network.Discriminator(n_features+1).to(device)\n",
    "\n",
    "criterion = torch.nn.BCELoss()\n",
    "gen_opt = torch.optim.Adam(gen4.parameters(), lr=0.001, betas=(0.5, 0.999))\n",
    "disc_opt = torch.optim.Adam(disc4.parameters(), lr=0.001, betas=(0.5, 0.999))\n"
   ]
  },
  {
   "cell_type": "code",
   "execution_count": 24,
   "id": "b50ea122",
   "metadata": {
    "execution": {
     "iopub.execute_input": "2022-07-22T10:21:39.905740Z",
     "iopub.status.busy": "2022-07-22T10:21:39.905183Z",
     "iopub.status.idle": "2022-07-22T10:25:05.524017Z",
     "shell.execute_reply": "2022-07-22T10:25:05.522836Z"
    },
    "id": "26acbc37",
    "papermill": {
     "duration": 205.646407,
     "end_time": "2022-07-22T10:25:05.526930",
     "exception": false,
     "start_time": "2022-07-22T10:21:39.880523",
     "status": "completed"
    },
    "tags": []
   },
   "outputs": [
    {
     "data": {
      "image/png": "[encoded data removed]",
      "text/plain": [
       "<Figure size 432x288 with 1 Axes>"
      ]
     },
     "metadata": {
      "needs_background": "light"
     },
     "output_type": "display_data"
    },
    {
     "data": {
      "image/png": "[encoded data removed]",
      "text/plain": [
       "<Figure size 432x288 with 1 Axes>"
      ]
     },
     "metadata": {
      "needs_background": "light"
     },
     "output_type": "display_data"
    }
   ],
   "source": [
    "ABC_train_test2.training_GAN_skip_connection(disc4,gen4,disc_opt,gen_opt,train_data,batch_size,n_epochs,criterion,prior_model,variance,bias,device)"
   ]
  },
  {
   "cell_type": "code",
   "execution_count": 25,
   "id": "8a1ec1c1",
   "metadata": {
    "execution": {
     "iopub.execute_input": "2022-07-22T10:25:05.578079Z",
     "iopub.status.busy": "2022-07-22T10:25:05.577533Z",
     "iopub.status.idle": "2022-07-22T10:25:07.739229Z",
     "shell.execute_reply": "2022-07-22T10:25:07.738182Z"
    },
    "id": "c5e0717b",
    "papermill": {
     "duration": 2.189826,
     "end_time": "2022-07-22T10:25:07.742003",
     "exception": false,
     "start_time": "2022-07-22T10:25:05.552177",
     "status": "completed"
    },
    "tags": []
   },
   "outputs": [
    {
     "data": {
      "application/scrapbook.scrap.json+json": {
       "data": 0.6892578660940789,
       "encoder": "json",
       "name": "ABC-GAN Model 3 MSE",
       "version": 1
      }
     },
     "metadata": {
      "scrapbook": {
       "data": true,
       "display": false,
       "name": "ABC-GAN Model 3 MSE"
      }
     },
     "output_type": "display_data"
    },
    {
     "data": {
      "application/scrapbook.scrap.json+json": {
       "data": 0.5582639155387878,
       "encoder": "json",
       "name": "ABC-GAN Model 3 MAE",
       "version": 1
      }
     },
     "metadata": {
      "scrapbook": {
       "data": true,
       "display": false,
       "name": "ABC-GAN Model 3 MAE"
      }
     },
     "output_type": "display_data"
    },
    {
     "data": {
      "application/scrapbook.scrap.json+json": {
       "data": 11.165278310775756,
       "encoder": "json",
       "name": "ABC-GAN Model 3 Manhattan Distance",
       "version": 1
      }
     },
     "metadata": {
      "scrapbook": {
       "data": true,
       "display": false,
       "name": "ABC-GAN Model 3 Manhattan Distance"
      }
     },
     "output_type": "display_data"
    },
    {
     "data": {
      "application/scrapbook.scrap.json+json": {
       "data": 3.712817087220479,
       "encoder": "json",
       "name": "ABC-GAN Model 3 Euclidean distance",
       "version": 1
      }
     },
     "metadata": {
      "scrapbook": {
       "data": true,
       "display": false,
       "name": "ABC-GAN Model 3 Euclidean distance"
      }
     },
     "output_type": "display_data"
    },
    {
     "data": {
      "application/scrapbook.scrap.json+json": {
       "data": [
        [
         0.6843007232612122,
         0.6829844977866386,
         0.6821424424231811,
         0.6900241226141886,
         0.6929374287551704,
         0.6895305513290024,
         0.6716397011206908,
         0.693225009801821,
         0.6901207934958531,
         0.6896923932272967,
         0.6907419901454779,
         0.698082188347605,
         0.6906336804160417,
         0.6993661079480477,
         0.6888515384100353,
         0.6859685400312173,
         0.6870514592363989,
         0.6913046801902155,
         0.6854908707328804,
         0.6866543414697344,
         0.687594181770965,
         0.6898566371957917,
         0.6942866401294179,
         0.6918526642291232,
         0.6884188329522836,
         0.6859501463142645,
         0.6900720319135288,
         0.6947750701427781,
         0.6843193838517371,
         0.6860174305282533,
         0.6843528098483145,
         0.6954152334593395,
         0.6844702203900124,
         0.6916759259954743,
         0.6946287169478425,
         0.6988702697645314,
         0.6891538492398862,
         0.6879466442536104,
         0.6932312344613468,
         0.692993471695103,
         0.690069824945965,
         0.6895981189505748,
         0.6917507882107934,
         0.6883550527363399,
         0.6866701486303943,
         0.684613550720724,
         0.6859351327517789,
         0.693311029854428,
         0.6929700249261076,
         0.6890643914392394,
         0.6935646153748951,
         0.6884547290640427,
         0.6819791014509062,
         0.6956580252424882,
         0.6939467882768666,
         0.6917233818243759,
         0.6860490179301258,
         0.6891907793448239,
         0.6937114766591147,
         0.6904801287973635,
         0.6890785844625401,
         0.6801571499107713,
         0.6805457829172832,
         0.687690376799502,
         0.6879850608378482,
         0.690731776792725,
         0.6913861579263543,
         0.6986485829482121,
         0.6862616620019466,
         0.6953665296343216,
         0.6869310414499068,
         0.6891221157090263,
         0.6884197232973269,
         0.6902999223088008,
         0.6869273560956296,
         0.6833640138600442,
         0.6902286893098106,
         0.6831233617804455,
         0.6924958900328981,
         0.6898582849563223,
         0.6900496286039791,
         0.6911541046845984,
         0.6897322477001705,
         0.6873365386577387,
         0.6832941779749924,
         0.6925760856494613,
         0.6903058830228469,
         0.6927439378712664,
         0.688221165819793,
         0.6822815247727227,
         0.6884054777686355,
         0.6941694892866342,
         0.6913516616007563,
         0.6914171113584654,
         0.6902999958882698,
         0.6846179901120438,
         0.6809391998967863,
         0.6968581404948786,
         0.6851187732926721,
         0.6925708489617997
        ],
        [
         0.5552718920633197,
         0.5565845787525177,
         0.5555340683087706,
         0.5597278956323862,
         0.5600787952542305,
         0.5569495590403676,
         0.5511999119073152,
         0.5593719482421875,
         0.5554392414167524,
         0.5589276226237416,
         0.5602345542982221,
         0.56178695615381,
         0.5601360296830535,
         0.5653837494552135,
         0.5549950869753957,
         0.5557212978601456,
         0.5546410923823715,
         0.5606926087290048,
         0.5544629961252212,
         0.5552416056394577,
         0.5592711275443435,
         0.5594264289364219,
         0.55845942273736,
         0.5566193154081702,
         0.5610486602410674,
         0.5566832413896918,
         0.5584814634174109,
         0.5601654252037406,
         0.556467006728053,
         0.5584827639162541,
         0.554415711387992,
         0.5638141058385372,
         0.5545543557032943,
         0.558765092305839,
         0.5626714307814836,
         0.5624149966984987,
         0.5589700743556023,
         0.5552600096911192,
         0.5660619009286165,
         0.5577524147927762,
         0.560723495297134,
         0.5574820138514042,
         0.5600862307474017,
         0.555930465273559,
         0.5556233303621412,
         0.5552140474319458,
         0.5578134302049875,
         0.5594700712710619,
         0.5602441897615791,
         0.5569223865866662,
         0.5566117407754063,
         0.5584251100197435,
         0.5578199084848166,
         0.5613202169537544,
         0.5598287116736174,
         0.5592313017696142,
         0.5570695104077459,
         0.5576075956225395,
         0.5579138988628983,
         0.5610842797905207,
         0.5594605065882206,
         0.555500315874815,
         0.5559392262250185,
         0.5562027297914028,
         0.5575572825968266,
         0.5582379488274455,
         0.5596070470288396,
         0.5609170310199261,
         0.5585527962073684,
         0.5627893744036555,
         0.5554533392190933,
         0.5584387827664614,
         0.5577333992347121,
         0.5583064891397953,
         0.5563030052930117,
         0.5554238738492131,
         0.5566950956359505,
         0.5559461060911417,
         0.5599230566993356,
         0.5600145785138011,
         0.5615985132753849,
         0.5565961189568043,
         0.5598800113424659,
         0.5587001696228981,
         0.5551351996138691,
         0.5611576469615102,
         0.5604453928768635,
         0.5581362616270781,
         0.5587111882865429,
         0.5584206813946366,
         0.5582915745675564,
         0.56233682166785,
         0.5587686521932482,
         0.5578948808833957,
         0.5567687336355448,
         0.5543120197951794,
         0.5532735290005804,
         0.5629596661776304,
         0.557912421040237,
         0.5575017122551799
        ],
        [
         11.105437841266394,
         11.131691575050354,
         11.110681366175413,
         11.194557912647724,
         11.20157590508461,
         11.138991180807352,
         11.023998238146305,
         11.18743896484375,
         11.108784828335047,
         11.178552452474833,
         11.204691085964441,
         11.2357391230762,
         11.20272059366107,
         11.307674989104271,
         11.099901739507914,
         11.114425957202911,
         11.092821847647429,
         11.213852174580097,
         11.089259922504425,
         11.104832112789154,
         11.18542255088687,
         11.188528578728437,
         11.1691884547472,
         11.132386308163404,
         11.220973204821348,
         11.133664827793837,
         11.169629268348217,
         11.203308504074812,
         11.129340134561062,
         11.16965527832508,
         11.088314227759838,
         11.276282116770744,
         11.091087114065886,
         11.175301846116781,
         11.253428615629673,
         11.248299933969975,
         11.179401487112045,
         11.105200193822384,
         11.32123801857233,
         11.155048295855522,
         11.214469905942678,
         11.149640277028084,
         11.201724614948034,
         11.118609305471182,
         11.112466607242823,
         11.104280948638916,
         11.15626860409975,
         11.189401425421238,
         11.20488379523158,
         11.138447731733322,
         11.132234815508127,
         11.168502200394869,
         11.156398169696331,
         11.226404339075089,
         11.196574233472347,
         11.184626035392284,
         11.141390208154917,
         11.15215191245079,
         11.158277977257967,
         11.221685595810413,
         11.189210131764412,
         11.1100063174963,
         11.11878452450037,
         11.124054595828056,
         11.151145651936531,
         11.16475897654891,
         11.192140940576792,
         11.218340620398521,
         11.171055924147367,
         11.25578748807311,
         11.109066784381866,
         11.168775655329227,
         11.154667984694242,
         11.166129782795906,
         11.126060105860233,
         11.108477476984262,
         11.133901912719011,
         11.118922121822834,
         11.198461133986712,
         11.200291570276022,
         11.231970265507698,
         11.131922379136086,
         11.197600226849318,
         11.174003392457962,
         11.102703992277384,
         11.223152939230204,
         11.20890785753727,
         11.162725232541561,
         11.174223765730858,
         11.168413627892733,
         11.165831491351128,
         11.246736433357,
         11.175373043864965,
         11.157897617667913,
         11.135374672710896,
         11.086240395903587,
         11.065470580011606,
         11.259193323552608,
         11.158248420804739,
         11.150034245103598
        ],
        [
         3.699461375014509,
         3.69590177842063,
         3.6936227268717663,
         3.714900059528354,
         3.7227340188500446,
         3.7135711958410123,
         3.6650776284294193,
         3.723506438296625,
         3.715160275131755,
         3.7140069822963357,
         3.7168319578519498,
         3.7365283040480373,
         3.716540543075083,
         3.739962855291607,
         3.711742282028846,
         3.7039669005843376,
         3.706889421702241,
         3.7183455465844357,
         3.7026770605411436,
         3.705817970353467,
         3.708353224197946,
         3.714449184457345,
         3.7263565050312017,
         3.719818985459167,
         3.710576324379499,
         3.703917240744627,
         3.715029022534087,
         3.7276670187740164,
         3.6995118160420493,
         3.7040988931945464,
         3.699602167391284,
         3.729383953039267,
         3.6999195136921887,
         3.7193438292136274,
         3.7272743847155727,
         3.738636836507476,
         3.712556664186787,
         3.7093035579569658,
         3.723523155457333,
         3.7228845582292855,
         3.71502308188244,
         3.713753139212607,
         3.719545101785414,
         3.710404432771015,
         3.7058606250920834,
         3.7003068811133053,
         3.7038767062411213,
         3.723737450074664,
         3.7228215775836144,
         3.7123156962716393,
         3.7244183851304755,
         3.7106730631087474,
         3.693180476096196,
         3.730034920057688,
         3.7254443715531886,
         3.7194714189636566,
         3.704184169098847,
         3.712656136366048,
         3.72481268430807,
         3.716127362718784,
         3.712353928338568,
         3.6882438908260156,
         3.6892974478002802,
         3.7086126160587383,
         3.709407124697552,
         3.716804479099553,
         3.7185646637549663,
         3.738043827854917,
         3.7047581891452688,
         3.729253355926147,
         3.7065645588601495,
         3.7124711869832097,
         3.7105787238578483,
         3.715642400201615,
         3.7065546160703735,
         3.6969284923028853,
         3.7154506841292094,
         3.696277483578432,
         3.7215477694983257,
         3.71445362053781,
         3.7149687175102266,
         3.7179405715653884,
         3.714114289302822,
         3.7076583948841315,
         3.696739585026222,
         3.721763253216037,
         3.715658442383656,
         3.7222142277716,
         3.7100435733823747,
         3.6939992549342042,
         3.7105403319965014,
         3.726042107348317,
         3.7184718947458952,
         3.718647903091836,
         3.7156425982278485,
         3.7003188784537033,
         3.6903636674365474,
         3.7332509706551438,
         3.7016719824767623,
         3.721749182741361
        ]
       ],
       "encoder": "json",
       "name": "ABC_GAN_4 Metrics",
       "version": 1
      }
     },
     "metadata": {
      "scrapbook": {
       "data": true,
       "display": false,
       "name": "ABC_GAN_4 Metrics"
      }
     },
     "output_type": "display_data"
    },
    {
     "name": "stdout",
     "output_type": "stream",
     "text": [
      "MAE\n",
      "0.5582639155387878\n"
     ]
    }
   ],
   "source": [
    "ABC_GAN4_metrics=ABC_train_test2.test_generator(gen4,test_data,prior_model,variance,bias,\"3\",device)\n",
    "sb.glue(\"ABC_GAN_4 Metrics\",ABC_GAN4_metrics)\n",
    "\n",
    "print(\"MAE\")\n",
    "print(mean(ABC_GAN4_metrics[1]))"
   ]
  },
  {
   "cell_type": "code",
   "execution_count": 26,
   "id": "095bdfa5",
   "metadata": {
    "execution": {
     "iopub.execute_input": "2022-07-22T10:25:07.796983Z",
     "iopub.status.busy": "2022-07-22T10:25:07.796348Z",
     "iopub.status.idle": "2022-07-22T10:25:08.963823Z",
     "shell.execute_reply": "2022-07-22T10:25:08.962358Z"
    },
    "id": "c8e46b48",
    "papermill": {
     "duration": 1.198475,
     "end_time": "2022-07-22T10:25:08.966719",
     "exception": false,
     "start_time": "2022-07-22T10:25:07.768244",
     "status": "completed"
    },
    "tags": []
   },
   "outputs": [
    {
     "data": {
      "image/png": "[encoded data removed]",
      "text/plain": [
       "<Figure size 432x288 with 1 Axes>"
      ]
     },
     "metadata": {
      "needs_background": "light"
     },
     "output_type": "display_data"
    },
    {
     "data": {
      "image/png": "[encoded data removed]",
      "text/plain": [
       "<Figure size 432x288 with 1 Axes>"
      ]
     },
     "metadata": {
      "needs_background": "light"
     },
     "output_type": "display_data"
    },
    {
     "data": {
      "image/png": "[encoded data removed]",
      "text/plain": [
       "<Figure size 432x288 with 1 Axes>"
      ]
     },
     "metadata": {
      "needs_background": "light"
     },
     "output_type": "display_data"
    },
    {
     "data": {
      "image/png": "[encoded data removed]",
      "text/plain": [
       "<Figure size 432x288 with 1 Axes>"
      ]
     },
     "metadata": {
      "needs_background": "light"
     },
     "output_type": "display_data"
    }
   ],
   "source": [
    "sanityChecks.discProbVsError(train_data,disc4,device)\n",
    "sanityChecks.discProbVsError(test_data,disc4,device)"
   ]
  },
  {
   "cell_type": "markdown",
   "id": "a5bd74c3",
   "metadata": {
    "id": "a5bd74c3",
    "papermill": {
     "duration": 0.029225,
     "end_time": "2022-07-22T10:25:09.025444",
     "exception": false,
     "start_time": "2022-07-22T10:25:08.996219",
     "status": "completed"
    },
    "tags": []
   },
   "source": [
    "## Skip Connection Model Analysis - ABC-GAN "
   ]
  },
  {
   "cell_type": "markdown",
   "id": "5744a8bf",
   "metadata": {
    "id": "5744a8bf",
    "papermill": {
     "duration": 0.0369,
     "end_time": "2022-07-22T10:25:09.105839",
     "exception": false,
     "start_time": "2022-07-22T10:25:09.068939",
     "status": "completed"
    },
    "tags": []
   },
   "source": [
    "### Weight Analysis \n",
    "\n",
    "Study the weights of the skip connection layer\n",
    "\n",
    "Equation of the skip connection is \n",
    "\n",
    "$output = y_{gan} * w + y_{abc} * (1-w)$"
   ]
  },
  {
   "cell_type": "code",
   "execution_count": 27,
   "id": "52c31dea",
   "metadata": {
    "execution": {
     "iopub.execute_input": "2022-07-22T10:25:09.188120Z",
     "iopub.status.busy": "2022-07-22T10:25:09.187353Z",
     "iopub.status.idle": "2022-07-22T10:25:09.194158Z",
     "shell.execute_reply": "2022-07-22T10:25:09.192285Z"
    },
    "id": "52c31dea",
    "papermill": {
     "duration": 0.058063,
     "end_time": "2022-07-22T10:25:09.199692",
     "exception": false,
     "start_time": "2022-07-22T10:25:09.141629",
     "status": "completed"
    },
    "tags": []
   },
   "outputs": [],
   "source": [
    "# print(\"Weight of the node at skip connection\")\n",
    "# for name,param in gen3.named_parameters():\n",
    "#     if(name == \"skipNode.weight\"):\n",
    "#         print(param)\n",
    "#         sb.glue(\"Skip Connection Weight\",param.item())"
   ]
  },
  {
   "cell_type": "markdown",
   "id": "404eacd7",
   "metadata": {
    "id": "a5bd74c3",
    "papermill": {
     "duration": 0.027466,
     "end_time": "2022-07-22T10:25:09.264401",
     "exception": false,
     "start_time": "2022-07-22T10:25:09.236935",
     "status": "completed"
    },
    "tags": []
   },
   "source": [
    "## skipGAN Model Analysis (TabNet Generator) "
   ]
  },
  {
   "cell_type": "markdown",
   "id": "0dff49dd",
   "metadata": {
    "id": "5744a8bf",
    "papermill": {
     "duration": 0.039716,
     "end_time": "2022-07-22T10:25:09.336113",
     "exception": false,
     "start_time": "2022-07-22T10:25:09.296397",
     "status": "completed"
    },
    "tags": []
   },
   "source": [
    "### Weight Analysis \n",
    "\n",
    "Study the weights of the skip connection layer\n",
    "\n",
    "Equation of the skip connection is \n",
    "\n",
    "$output = y_{gan} * w + y_{abc} * (1-w)$"
   ]
  },
  {
   "cell_type": "code",
   "execution_count": 28,
   "id": "17be1ede",
   "metadata": {
    "execution": {
     "iopub.execute_input": "2022-07-22T10:25:09.436213Z",
     "iopub.status.busy": "2022-07-22T10:25:09.435675Z",
     "iopub.status.idle": "2022-07-22T10:25:09.451833Z",
     "shell.execute_reply": "2022-07-22T10:25:09.450776Z"
    },
    "id": "52c31dea",
    "papermill": {
     "duration": 0.083631,
     "end_time": "2022-07-22T10:25:09.466022",
     "exception": false,
     "start_time": "2022-07-22T10:25:09.382391",
     "status": "completed"
    },
    "tags": []
   },
   "outputs": [
    {
     "name": "stdout",
     "output_type": "stream",
     "text": [
      "Weight of the node at skip connection\n",
      "Parameter containing:\n",
      "tensor([[0.1461]], requires_grad=True)\n"
     ]
    },
    {
     "data": {
      "application/scrapbook.scrap.json+json": {
       "data": 0.14613646268844604,
       "encoder": "json",
       "name": "Skip Connection Weight",
       "version": 1
      }
     },
     "metadata": {
      "scrapbook": {
       "data": true,
       "display": false,
       "name": "Skip Connection Weight"
      }
     },
     "output_type": "display_data"
    }
   ],
   "source": [
    "print(\"Weight of the node at skip connection\")\n",
    "for name,param in gen4.named_parameters():\n",
    "    if(name == \"skipNode.weight\"):\n",
    "        print(param)\n",
    "        sb.glue(\"Skip Connection Weight\",param.item())"
   ]
  }
 ],
 "metadata": {
  "colab": {
   "collapsed_sections": [],
   "name": "ABC_GAN_Model-Catboost_Pre-gen.ipynb",
   "provenance": []
  },
  "interpreter": {
   "hash": "31f2aee4e71d21fbe5cf8b01ff0e069b9275f58929596ceb00d14d90e3e16cd6"
  },
  "kernelspec": {
   "display_name": "Python 3 (ipykernel)",
   "language": "python",
   "name": "python3"
  },
  "language_info": {
   "codemirror_mode": {
    "name": "ipython",
    "version": 3
   },
   "file_extension": ".py",
   "mimetype": "text/x-python",
   "name": "python",
   "nbconvert_exporter": "python",
   "pygments_lexer": "ipython3",
   "version": "3.8.9"
  },
  "papermill": {
   "default_parameters": {},
   "duration": 421.686927,
   "end_time": "2022-07-22T10:25:10.271684",
   "environment_variables": {},
   "exception": null,
   "input_path": "ABC_GAN-TabNet.ipynb",
   "output_path": "./ABC_GAN_TabNet/ABC-GAN_output_2_5.ipynb",
   "parameters": {
    "bias": 0.1,
    "variance": 0.01
   },
   "start_time": "2022-07-22T10:18:08.584757",
   "version": "2.3.3"
  }
 },
 "nbformat": 4,
 "nbformat_minor": 5
}
