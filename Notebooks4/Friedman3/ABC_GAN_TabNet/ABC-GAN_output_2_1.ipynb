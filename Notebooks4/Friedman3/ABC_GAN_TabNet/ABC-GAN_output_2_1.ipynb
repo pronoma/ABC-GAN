{
 "cells": [
  {
   "cell_type": "markdown",
   "id": "622780e6",
   "metadata": {
    "id": "622780e6",
    "papermill": {
     "duration": 0.143648,
     "end_time": "2022-07-22T09:48:20.536528",
     "exception": false,
     "start_time": "2022-07-22T09:48:20.392880",
     "status": "completed"
    },
    "tags": []
   },
   "source": [
    "## Import Libraries "
   ]
  },
  {
   "cell_type": "code",
   "execution_count": 1,
   "id": "a62397e3",
   "metadata": {
    "execution": {
     "iopub.execute_input": "2022-07-22T09:48:20.742191Z",
     "iopub.status.busy": "2022-07-22T09:48:20.741671Z",
     "iopub.status.idle": "2022-07-22T09:48:20.760678Z",
     "shell.execute_reply": "2022-07-22T09:48:20.759316Z"
    },
    "id": "a62397e3",
    "papermill": {
     "duration": 0.081465,
     "end_time": "2022-07-22T09:48:20.772512",
     "exception": false,
     "start_time": "2022-07-22T09:48:20.691047",
     "status": "completed"
    },
    "tags": []
   },
   "outputs": [],
   "source": [
    "import warnings\n",
    "import sys\n",
    "sys.path.insert(0, '../../src')\n",
    "warnings.filterwarnings('ignore')"
   ]
  },
  {
   "cell_type": "code",
   "execution_count": 2,
   "id": "d6a4e155",
   "metadata": {
    "execution": {
     "iopub.execute_input": "2022-07-22T09:48:20.884976Z",
     "iopub.status.busy": "2022-07-22T09:48:20.884126Z",
     "iopub.status.idle": "2022-07-22T09:48:28.115330Z",
     "shell.execute_reply": "2022-07-22T09:48:28.114306Z"
    },
    "id": "d6a4e155",
    "papermill": {
     "duration": 7.255169,
     "end_time": "2022-07-22T09:48:28.118496",
     "exception": false,
     "start_time": "2022-07-22T09:48:20.863327",
     "status": "completed"
    },
    "tags": []
   },
   "outputs": [],
   "source": [
    "import ABC_train_test2\n",
    "import friedman3Dataset\n",
    "import network\n",
    "import dataset\n",
    "import sanityChecks\n",
    "import torch \n",
    "import scrapbook as sb\n",
    "from statistics import mean \n",
    "import catboost as ctb \n",
    "from sklearn.model_selection import train_test_split\n",
    "from sklearn.metrics import mean_squared_error,mean_absolute_error\n",
    "import numpy as np\n",
    "from pytorch_tabnet.tab_model import TabNetRegressor"
   ]
  },
  {
   "cell_type": "markdown",
   "id": "2fa5b0f7",
   "metadata": {
    "id": "2fa5b0f7",
    "papermill": {
     "duration": 0.007812,
     "end_time": "2022-07-22T09:48:28.137736",
     "exception": false,
     "start_time": "2022-07-22T09:48:28.129924",
     "status": "completed"
    },
    "tags": []
   },
   "source": [
    "## Parameters "
   ]
  },
  {
   "cell_type": "code",
   "execution_count": 3,
   "id": "783186fb",
   "metadata": {
    "execution": {
     "iopub.execute_input": "2022-07-22T09:48:28.160355Z",
     "iopub.status.busy": "2022-07-22T09:48:28.159029Z",
     "iopub.status.idle": "2022-07-22T09:48:28.165941Z",
     "shell.execute_reply": "2022-07-22T09:48:28.164569Z"
    },
    "id": "783186fb",
    "papermill": {
     "duration": 0.027406,
     "end_time": "2022-07-22T09:48:28.173166",
     "exception": false,
     "start_time": "2022-07-22T09:48:28.145760",
     "status": "completed"
    },
    "tags": [
     "parameters"
    ]
   },
   "outputs": [],
   "source": [
    "variance = 1\n",
    "bias = 1 "
   ]
  },
  {
   "cell_type": "code",
   "execution_count": 4,
   "id": "847bc984",
   "metadata": {
    "execution": {
     "iopub.execute_input": "2022-07-22T09:48:28.193435Z",
     "iopub.status.busy": "2022-07-22T09:48:28.192474Z",
     "iopub.status.idle": "2022-07-22T09:48:28.198635Z",
     "shell.execute_reply": "2022-07-22T09:48:28.196841Z"
    },
    "papermill": {
     "duration": 0.018293,
     "end_time": "2022-07-22T09:48:28.201298",
     "exception": false,
     "start_time": "2022-07-22T09:48:28.183005",
     "status": "completed"
    },
    "tags": [
     "injected-parameters"
    ]
   },
   "outputs": [],
   "source": [
    "# Parameters\n",
    "variance = 0.1\n",
    "bias = 1\n"
   ]
  },
  {
   "cell_type": "markdown",
   "id": "391cdbfd",
   "metadata": {
    "id": "391cdbfd",
    "papermill": {
     "duration": 0.008139,
     "end_time": "2022-07-22T09:48:28.221070",
     "exception": false,
     "start_time": "2022-07-22T09:48:28.212931",
     "status": "completed"
    },
    "tags": []
   },
   "source": [
    "## Dataset \n"
   ]
  },
  {
   "cell_type": "code",
   "execution_count": 5,
   "id": "5b51f161",
   "metadata": {
    "execution": {
     "iopub.execute_input": "2022-07-22T09:48:28.244983Z",
     "iopub.status.busy": "2022-07-22T09:48:28.243747Z",
     "iopub.status.idle": "2022-07-22T09:48:28.250421Z",
     "shell.execute_reply": "2022-07-22T09:48:28.249448Z"
    },
    "id": "5b51f161",
    "papermill": {
     "duration": 0.020442,
     "end_time": "2022-07-22T09:48:28.253629",
     "exception": false,
     "start_time": "2022-07-22T09:48:28.233187",
     "status": "completed"
    },
    "tags": []
   },
   "outputs": [],
   "source": [
    "#Parameters \n",
    "n_features = 4\n",
    "n_samples= 100\n",
    "n_target = 1"
   ]
  },
  {
   "cell_type": "code",
   "execution_count": 6,
   "id": "5d6eced4",
   "metadata": {
    "execution": {
     "iopub.execute_input": "2022-07-22T09:48:28.282904Z",
     "iopub.status.busy": "2022-07-22T09:48:28.282240Z",
     "iopub.status.idle": "2022-07-22T09:48:28.300380Z",
     "shell.execute_reply": "2022-07-22T09:48:28.299120Z"
    },
    "id": "5d6eced4",
    "papermill": {
     "duration": 0.03903,
     "end_time": "2022-07-22T09:48:28.304148",
     "exception": false,
     "start_time": "2022-07-22T09:48:28.265118",
     "status": "completed"
    },
    "tags": []
   },
   "outputs": [
    {
     "name": "stdout",
     "output_type": "stream",
     "text": [
      "          X1           X2        X3        X4         Y\n",
      "0  49.919000  1641.845150  0.965943  2.997283  1.554069\n",
      "1  16.329634  1270.772907  0.258749  7.339953  1.640957\n",
      "2  13.565477  1315.681664  0.242511  2.084675  1.674350\n",
      "3  98.011802  1405.846188  0.545280  7.353003  1.446735\n",
      "4  70.123197  1250.401030  0.970556  3.833616  1.681780\n"
     ]
    }
   ],
   "source": [
    "X,Y = friedman3Dataset.friedman3_data(n_samples)"
   ]
  },
  {
   "cell_type": "code",
   "execution_count": 7,
   "id": "fe007438",
   "metadata": {
    "execution": {
     "iopub.execute_input": "2022-07-22T09:48:28.323920Z",
     "iopub.status.busy": "2022-07-22T09:48:28.323166Z",
     "iopub.status.idle": "2022-07-22T09:48:28.330111Z",
     "shell.execute_reply": "2022-07-22T09:48:28.328721Z"
    },
    "id": "fe007438",
    "papermill": {
     "duration": 0.020527,
     "end_time": "2022-07-22T09:48:28.333344",
     "exception": false,
     "start_time": "2022-07-22T09:48:28.312817",
     "status": "completed"
    },
    "tags": []
   },
   "outputs": [],
   "source": [
    "#Train test split for dataset \n",
    "X_train,X_test,Y_train,Y_test = train_test_split(X,Y,test_size = 0.2)\n",
    "train_data = dataset.CustomDataset(X_train,Y_train)\n",
    "test_data = dataset.CustomDataset(X_test,Y_test)\n"
   ]
  },
  {
   "cell_type": "markdown",
   "id": "a9a1af34",
   "metadata": {
    "id": "a9a1af34",
    "papermill": {
     "duration": 0.010121,
     "end_time": "2022-07-22T09:48:28.352177",
     "exception": false,
     "start_time": "2022-07-22T09:48:28.342056",
     "status": "completed"
    },
    "tags": []
   },
   "source": [
    "## Training Parameters "
   ]
  },
  {
   "cell_type": "code",
   "execution_count": 8,
   "id": "952b7fc8",
   "metadata": {
    "execution": {
     "iopub.execute_input": "2022-07-22T09:48:28.372226Z",
     "iopub.status.busy": "2022-07-22T09:48:28.371217Z",
     "iopub.status.idle": "2022-07-22T09:48:28.377405Z",
     "shell.execute_reply": "2022-07-22T09:48:28.375983Z"
    },
    "id": "952b7fc8",
    "papermill": {
     "duration": 0.021377,
     "end_time": "2022-07-22T09:48:28.382315",
     "exception": false,
     "start_time": "2022-07-22T09:48:28.360938",
     "status": "completed"
    },
    "tags": []
   },
   "outputs": [],
   "source": [
    "batch_size = 32\n",
    "n_epochs = 1000\n",
    "#Select the device \n",
    "device = torch.device('cuda' if torch.cuda.is_available() else 'cpu')"
   ]
  },
  {
   "cell_type": "markdown",
   "id": "a95e1600",
   "metadata": {
    "id": "a95e1600",
    "papermill": {
     "duration": 0.008364,
     "end_time": "2022-07-22T09:48:28.400318",
     "exception": false,
     "start_time": "2022-07-22T09:48:28.391954",
     "status": "completed"
    },
    "tags": []
   },
   "source": [
    "# ABC Pre-generator Model \n",
    "\n",
    "1. The catboost model is used as a pre-generator model for the ABC-GAN. \n",
    "2. The model is first trained on the entire dataset \n",
    "3. It generats X,Y pairs and we add some Gaussian noise with mean 0 and variance 1 to it which is then feed as input to the generator.\n"
   ]
  },
  {
   "cell_type": "code",
   "execution_count": 9,
   "id": "ac011ebf",
   "metadata": {
    "execution": {
     "iopub.execute_input": "2022-07-22T09:48:28.419103Z",
     "iopub.status.busy": "2022-07-22T09:48:28.418687Z",
     "iopub.status.idle": "2022-07-22T09:49:02.637609Z",
     "shell.execute_reply": "2022-07-22T09:49:02.636695Z"
    },
    "papermill": {
     "duration": 34.231381,
     "end_time": "2022-07-22T09:49:02.640325",
     "exception": false,
     "start_time": "2022-07-22T09:48:28.408944",
     "status": "completed"
    },
    "tags": []
   },
   "outputs": [
    {
     "name": "stdout",
     "output_type": "stream",
     "text": [
      "Device used : cpu\n"
     ]
    },
    {
     "name": "stdout",
     "output_type": "stream",
     "text": [
      "epoch 0  | loss: 1.56756 | train_mse: 5.72306 | train_mae: 1.75015 |  0:00:00s\n",
      "epoch 1  | loss: 1.20029 | train_mse: 4.30403 | train_mae: 1.53395 |  0:00:00s\n"
     ]
    },
    {
     "name": "stdout",
     "output_type": "stream",
     "text": [
      "epoch 2  | loss: 1.08505 | train_mse: 3.84779 | train_mae: 1.45218 |  0:00:00s\n",
      "epoch 3  | loss: 1.03318 | train_mse: 3.03207 | train_mae: 1.28327 |  0:00:00s\n"
     ]
    },
    {
     "name": "stdout",
     "output_type": "stream",
     "text": [
      "epoch 4  | loss: 1.25493 | train_mse: 2.50636 | train_mae: 1.1818  |  0:00:00s\n",
      "epoch 5  | loss: 1.04139 | train_mse: 1.90662 | train_mae: 1.04202 |  0:00:00s\n"
     ]
    },
    {
     "name": "stdout",
     "output_type": "stream",
     "text": [
      "epoch 6  | loss: 0.94282 | train_mse: 1.68672 | train_mae: 0.97305 |  0:00:00s\n",
      "epoch 7  | loss: 0.78542 | train_mse: 1.53891 | train_mae: 0.93584 |  0:00:00s\n",
      "epoch 8  | loss: 1.06868 | train_mse: 1.37099 | train_mae: 0.90037 |  0:00:01s\n"
     ]
    },
    {
     "name": "stdout",
     "output_type": "stream",
     "text": [
      "epoch 9  | loss: 1.01112 | train_mse: 1.22271 | train_mae: 0.8502  |  0:00:01s\n",
      "epoch 10 | loss: 0.7536  | train_mse: 1.1141  | train_mae: 0.80932 |  0:00:01s\n",
      "epoch 11 | loss: 0.77555 | train_mse: 1.03573 | train_mae: 0.78035 |  0:00:01s\n"
     ]
    },
    {
     "name": "stdout",
     "output_type": "stream",
     "text": [
      "epoch 12 | loss: 0.69702 | train_mse: 0.97457 | train_mae: 0.75537 |  0:00:01s\n",
      "epoch 13 | loss: 0.88843 | train_mse: 0.91524 | train_mae: 0.73749 |  0:00:01s\n"
     ]
    },
    {
     "name": "stdout",
     "output_type": "stream",
     "text": [
      "epoch 14 | loss: 0.82185 | train_mse: 0.87575 | train_mae: 0.71784 |  0:00:01s\n",
      "epoch 15 | loss: 0.70398 | train_mse: 0.82865 | train_mae: 0.69948 |  0:00:01s\n"
     ]
    },
    {
     "name": "stdout",
     "output_type": "stream",
     "text": [
      "epoch 16 | loss: 0.6049  | train_mse: 0.75634 | train_mae: 0.6766  |  0:00:01s\n",
      "epoch 17 | loss: 0.78738 | train_mse: 0.72162 | train_mae: 0.66158 |  0:00:01s\n",
      "epoch 18 | loss: 0.62808 | train_mse: 0.68956 | train_mae: 0.64433 |  0:00:02s\n"
     ]
    },
    {
     "name": "stdout",
     "output_type": "stream",
     "text": [
      "epoch 19 | loss: 0.58233 | train_mse: 0.65586 | train_mae: 0.63085 |  0:00:02s\n",
      "epoch 20 | loss: 0.64375 | train_mse: 0.6159  | train_mae: 0.6139  |  0:00:02s\n",
      "epoch 21 | loss: 0.62725 | train_mse: 0.58881 | train_mae: 0.59821 |  0:00:02s\n"
     ]
    },
    {
     "name": "stdout",
     "output_type": "stream",
     "text": [
      "epoch 22 | loss: 0.40011 | train_mse: 0.55544 | train_mae: 0.57974 |  0:00:02s\n",
      "epoch 23 | loss: 0.47597 | train_mse: 0.52398 | train_mae: 0.56261 |  0:00:02s\n"
     ]
    },
    {
     "name": "stdout",
     "output_type": "stream",
     "text": [
      "epoch 24 | loss: 0.64814 | train_mse: 0.50747 | train_mae: 0.55479 |  0:00:02s\n",
      "epoch 25 | loss: 0.62906 | train_mse: 0.48997 | train_mae: 0.54655 |  0:00:02s\n",
      "epoch 26 | loss: 0.52397 | train_mse: 0.47174 | train_mae: 0.5385  |  0:00:02s\n"
     ]
    },
    {
     "name": "stdout",
     "output_type": "stream",
     "text": [
      "epoch 27 | loss: 0.46555 | train_mse: 0.46353 | train_mae: 0.53423 |  0:00:03s\n",
      "epoch 28 | loss: 0.50145 | train_mse: 0.45382 | train_mae: 0.53056 |  0:00:03s\n",
      "epoch 29 | loss: 0.46861 | train_mse: 0.45044 | train_mae: 0.53088 |  0:00:03s\n"
     ]
    },
    {
     "name": "stdout",
     "output_type": "stream",
     "text": [
      "epoch 30 | loss: 0.52092 | train_mse: 0.44831 | train_mae: 0.5303  |  0:00:03s\n",
      "epoch 31 | loss: 0.41989 | train_mse: 0.44207 | train_mae: 0.52515 |  0:00:03s\n"
     ]
    },
    {
     "name": "stdout",
     "output_type": "stream",
     "text": [
      "epoch 32 | loss: 0.37492 | train_mse: 0.42267 | train_mae: 0.5116  |  0:00:03s\n",
      "epoch 33 | loss: 0.46797 | train_mse: 0.39722 | train_mae: 0.49627 |  0:00:03s\n"
     ]
    },
    {
     "name": "stdout",
     "output_type": "stream",
     "text": [
      "epoch 34 | loss: 0.4731  | train_mse: 0.36736 | train_mae: 0.47547 |  0:00:03s\n",
      "epoch 35 | loss: 0.49834 | train_mse: 0.34553 | train_mae: 0.45865 |  0:00:03s\n",
      "epoch 36 | loss: 0.42146 | train_mse: 0.33143 | train_mae: 0.44657 |  0:00:03s\n"
     ]
    },
    {
     "name": "stdout",
     "output_type": "stream",
     "text": [
      "epoch 37 | loss: 0.49111 | train_mse: 0.31957 | train_mae: 0.43532 |  0:00:04s\n",
      "epoch 38 | loss: 0.3645  | train_mse: 0.31214 | train_mae: 0.42893 |  0:00:04s\n",
      "epoch 39 | loss: 0.4136  | train_mse: 0.307   | train_mae: 0.42581 |  0:00:04s\n"
     ]
    },
    {
     "name": "stdout",
     "output_type": "stream",
     "text": [
      "epoch 40 | loss: 0.42215 | train_mse: 0.29498 | train_mae: 0.41406 |  0:00:04s\n",
      "epoch 41 | loss: 0.36963 | train_mse: 0.28416 | train_mae: 0.40254 |  0:00:04s\n",
      "epoch 42 | loss: 0.44022 | train_mse: 0.2715  | train_mae: 0.38946 |  0:00:04s\n"
     ]
    },
    {
     "name": "stdout",
     "output_type": "stream",
     "text": [
      "epoch 43 | loss: 0.40871 | train_mse: 0.26181 | train_mae: 0.38212 |  0:00:04s\n",
      "epoch 44 | loss: 0.63593 | train_mse: 0.25683 | train_mae: 0.37972 |  0:00:04s\n"
     ]
    },
    {
     "name": "stdout",
     "output_type": "stream",
     "text": [
      "epoch 45 | loss: 0.32    | train_mse: 0.24827 | train_mae: 0.37371 |  0:00:04s\n",
      "epoch 46 | loss: 0.4415  | train_mse: 0.23641 | train_mae: 0.36179 |  0:00:04s\n",
      "epoch 47 | loss: 0.40112 | train_mse: 0.22905 | train_mae: 0.35515 |  0:00:05s\n"
     ]
    },
    {
     "name": "stdout",
     "output_type": "stream",
     "text": [
      "epoch 48 | loss: 0.33988 | train_mse: 0.21874 | train_mae: 0.34617 |  0:00:05s\n",
      "epoch 49 | loss: 0.3729  | train_mse: 0.21212 | train_mae: 0.34147 |  0:00:05s\n",
      "epoch 50 | loss: 0.25645 | train_mse: 0.20864 | train_mae: 0.34015 |  0:00:05s\n"
     ]
    },
    {
     "name": "stdout",
     "output_type": "stream",
     "text": [
      "epoch 51 | loss: 0.31166 | train_mse: 0.20619 | train_mae: 0.33984 |  0:00:05s\n",
      "epoch 52 | loss: 0.29866 | train_mse: 0.20399 | train_mae: 0.33958 |  0:00:05s\n"
     ]
    },
    {
     "name": "stdout",
     "output_type": "stream",
     "text": [
      "epoch 53 | loss: 0.34978 | train_mse: 0.20177 | train_mae: 0.33714 |  0:00:05s\n",
      "epoch 54 | loss: 0.45293 | train_mse: 0.19676 | train_mae: 0.32894 |  0:00:05s\n"
     ]
    },
    {
     "name": "stdout",
     "output_type": "stream",
     "text": [
      "epoch 55 | loss: 0.39937 | train_mse: 0.18758 | train_mae: 0.31615 |  0:00:05s\n",
      "epoch 56 | loss: 0.35721 | train_mse: 0.18679 | train_mae: 0.31578 |  0:00:05s\n",
      "epoch 57 | loss: 0.24747 | train_mse: 0.18282 | train_mae: 0.31215 |  0:00:06s\n"
     ]
    },
    {
     "name": "stdout",
     "output_type": "stream",
     "text": [
      "epoch 58 | loss: 0.37993 | train_mse: 0.18071 | train_mae: 0.30841 |  0:00:06s\n",
      "epoch 59 | loss: 0.29001 | train_mse: 0.17956 | train_mae: 0.30705 |  0:00:06s\n",
      "epoch 60 | loss: 0.34049 | train_mse: 0.17989 | train_mae: 0.3093  |  0:00:06s\n"
     ]
    },
    {
     "name": "stdout",
     "output_type": "stream",
     "text": [
      "epoch 61 | loss: 0.24647 | train_mse: 0.18256 | train_mae: 0.31123 |  0:00:06s\n",
      "epoch 62 | loss: 0.26091 | train_mse: 0.18473 | train_mae: 0.31342 |  0:00:06s\n",
      "epoch 63 | loss: 0.30022 | train_mse: 0.18508 | train_mae: 0.31616 |  0:00:06s\n"
     ]
    },
    {
     "name": "stdout",
     "output_type": "stream",
     "text": [
      "epoch 64 | loss: 0.34343 | train_mse: 0.19    | train_mae: 0.32315 |  0:00:06s\n",
      "epoch 65 | loss: 0.27975 | train_mse: 0.19428 | train_mae: 0.32611 |  0:00:06s\n",
      "epoch 66 | loss: 0.33274 | train_mse: 0.19033 | train_mae: 0.32334 |  0:00:06s\n"
     ]
    },
    {
     "name": "stdout",
     "output_type": "stream",
     "text": [
      "epoch 67 | loss: 0.34172 | train_mse: 0.18634 | train_mae: 0.31976 |  0:00:07s\n",
      "epoch 68 | loss: 0.26253 | train_mse: 0.18107 | train_mae: 0.31373 |  0:00:07s\n",
      "epoch 69 | loss: 0.26307 | train_mse: 0.17968 | train_mae: 0.31386 |  0:00:07s\n"
     ]
    },
    {
     "name": "stdout",
     "output_type": "stream",
     "text": [
      "epoch 70 | loss: 0.21202 | train_mse: 0.17704 | train_mae: 0.3146  |  0:00:07s\n",
      "epoch 71 | loss: 0.2992  | train_mse: 0.17297 | train_mae: 0.3121  |  0:00:07s\n",
      "epoch 72 | loss: 0.50861 | train_mse: 0.16944 | train_mae: 0.31154 |  0:00:07s\n"
     ]
    },
    {
     "name": "stdout",
     "output_type": "stream",
     "text": [
      "epoch 73 | loss: 0.25819 | train_mse: 0.16456 | train_mae: 0.31006 |  0:00:07s\n",
      "epoch 74 | loss: 0.27498 | train_mse: 0.15995 | train_mae: 0.3072  |  0:00:07s\n"
     ]
    },
    {
     "name": "stdout",
     "output_type": "stream",
     "text": [
      "epoch 75 | loss: 0.29893 | train_mse: 0.15933 | train_mae: 0.30891 |  0:00:07s\n",
      "epoch 76 | loss: 0.40258 | train_mse: 0.15842 | train_mae: 0.30889 |  0:00:07s\n",
      "epoch 77 | loss: 0.4027  | train_mse: 0.15893 | train_mae: 0.30894 |  0:00:07s\n"
     ]
    },
    {
     "name": "stdout",
     "output_type": "stream",
     "text": [
      "epoch 78 | loss: 0.61177 | train_mse: 0.16064 | train_mae: 0.30969 |  0:00:08s\n",
      "epoch 79 | loss: 0.23332 | train_mse: 0.16403 | train_mae: 0.30934 |  0:00:08s\n",
      "epoch 80 | loss: 0.18986 | train_mse: 0.16422 | train_mae: 0.30899 |  0:00:08s\n"
     ]
    },
    {
     "name": "stdout",
     "output_type": "stream",
     "text": [
      "epoch 81 | loss: 0.24552 | train_mse: 0.16132 | train_mae: 0.3072  |  0:00:08s\n",
      "epoch 82 | loss: 0.23124 | train_mse: 0.15561 | train_mae: 0.30309 |  0:00:08s\n"
     ]
    },
    {
     "name": "stdout",
     "output_type": "stream",
     "text": [
      "epoch 83 | loss: 0.24453 | train_mse: 0.15142 | train_mae: 0.30059 |  0:00:08s\n",
      "epoch 84 | loss: 0.16941 | train_mse: 0.14905 | train_mae: 0.29693 |  0:00:08s\n"
     ]
    },
    {
     "name": "stdout",
     "output_type": "stream",
     "text": [
      "epoch 85 | loss: 0.3333  | train_mse: 0.14286 | train_mae: 0.29194 |  0:00:08s\n",
      "epoch 86 | loss: 0.23509 | train_mse: 0.14081 | train_mae: 0.29078 |  0:00:08s\n",
      "epoch 87 | loss: 0.17355 | train_mse: 0.14348 | train_mae: 0.29393 |  0:00:08s"
     ]
    },
    {
     "name": "stdout",
     "output_type": "stream",
     "text": [
      "\n",
      "epoch 88 | loss: 0.3022  | train_mse: 0.14558 | train_mae: 0.29696 |  0:00:09s\n",
      "epoch 89 | loss: 0.23686 | train_mse: 0.14402 | train_mae: 0.29602 |  0:00:09s\n"
     ]
    },
    {
     "name": "stdout",
     "output_type": "stream",
     "text": [
      "epoch 90 | loss: 0.27894 | train_mse: 0.14382 | train_mae: 0.29773 |  0:00:09s\n",
      "epoch 91 | loss: 0.27263 | train_mse: 0.14417 | train_mae: 0.29969 |  0:00:09s\n",
      "epoch 92 | loss: 0.26634 | train_mse: 0.14417 | train_mae: 0.29945 |  0:00:09s\n"
     ]
    },
    {
     "name": "stdout",
     "output_type": "stream",
     "text": [
      "epoch 93 | loss: 0.43947 | train_mse: 0.14652 | train_mae: 0.30128 |  0:00:09s\n",
      "epoch 94 | loss: 0.31257 | train_mse: 0.14754 | train_mae: 0.30205 |  0:00:09s\n"
     ]
    },
    {
     "name": "stdout",
     "output_type": "stream",
     "text": [
      "epoch 95 | loss: 0.22596 | train_mse: 0.14643 | train_mae: 0.30239 |  0:00:09s\n",
      "epoch 96 | loss: 0.3171  | train_mse: 0.14354 | train_mae: 0.29918 |  0:00:09s\n",
      "epoch 97 | loss: 0.26128 | train_mse: 0.13804 | train_mae: 0.2947  |  0:00:09s\n"
     ]
    },
    {
     "name": "stdout",
     "output_type": "stream",
     "text": [
      "epoch 98 | loss: 0.17906 | train_mse: 0.13353 | train_mae: 0.29164 |  0:00:10s\n",
      "epoch 99 | loss: 0.48151 | train_mse: 0.12952 | train_mae: 0.28514 |  0:00:10s\n",
      "epoch 100| loss: 0.36664 | train_mse: 0.12875 | train_mae: 0.281   |  0:00:10s\n"
     ]
    },
    {
     "name": "stdout",
     "output_type": "stream",
     "text": [
      "epoch 101| loss: 0.25406 | train_mse: 0.13249 | train_mae: 0.28243 |  0:00:10s\n",
      "epoch 102| loss: 0.21445 | train_mse: 0.13611 | train_mae: 0.2864  |  0:00:10s\n",
      "epoch 103| loss: 0.29129 | train_mse: 0.13576 | train_mae: 0.28691 |  0:00:10s\n"
     ]
    },
    {
     "name": "stdout",
     "output_type": "stream",
     "text": [
      "epoch 104| loss: 0.31027 | train_mse: 0.14144 | train_mae: 0.29583 |  0:00:10s\n"
     ]
    },
    {
     "name": "stdout",
     "output_type": "stream",
     "text": [
      "epoch 105| loss: 0.20365 | train_mse: 0.14869 | train_mae: 0.30167 |  0:00:10s\n",
      "epoch 106| loss: 0.22091 | train_mse: 0.151   | train_mae: 0.3031  |  0:00:10s\n",
      "epoch 107| loss: 0.22024 | train_mse: 0.14655 | train_mae: 0.29856 |  0:00:10s\n"
     ]
    },
    {
     "name": "stdout",
     "output_type": "stream",
     "text": [
      "epoch 108| loss: 0.19709 | train_mse: 0.1458  | train_mae: 0.29819 |  0:00:11s\n",
      "epoch 109| loss: 0.30673 | train_mse: 0.14453 | train_mae: 0.29782 |  0:00:11s\n",
      "epoch 110| loss: 0.19111 | train_mse: 0.14321 | train_mae: 0.29921 |  0:00:11s\n"
     ]
    },
    {
     "name": "stdout",
     "output_type": "stream",
     "text": [
      "epoch 111| loss: 0.44049 | train_mse: 0.1436  | train_mae: 0.30059 |  0:00:11s\n",
      "epoch 112| loss: 0.26799 | train_mse: 0.14644 | train_mae: 0.30163 |  0:00:11s\n",
      "epoch 113| loss: 0.21759 | train_mse: 0.14819 | train_mae: 0.30253 |  0:00:11s\n"
     ]
    },
    {
     "name": "stdout",
     "output_type": "stream",
     "text": [
      "epoch 114| loss: 0.62918 | train_mse: 0.15334 | train_mae: 0.30529 |  0:00:11s\n"
     ]
    },
    {
     "name": "stdout",
     "output_type": "stream",
     "text": [
      "epoch 115| loss: 0.30576 | train_mse: 0.15963 | train_mae: 0.30945 |  0:00:11s\n"
     ]
    },
    {
     "name": "stdout",
     "output_type": "stream",
     "text": [
      "epoch 116| loss: 0.2359  | train_mse: 0.162   | train_mae: 0.31241 |  0:00:12s\n",
      "epoch 117| loss: 0.27926 | train_mse: 0.16269 | train_mae: 0.31351 |  0:00:12s\n"
     ]
    },
    {
     "name": "stdout",
     "output_type": "stream",
     "text": [
      "epoch 118| loss: 0.24783 | train_mse: 0.16137 | train_mae: 0.31204 |  0:00:12s\n",
      "epoch 119| loss: 0.21077 | train_mse: 0.15706 | train_mae: 0.30875 |  0:00:12s\n",
      "epoch 120| loss: 0.17664 | train_mse: 0.14755 | train_mae: 0.29866 |  0:00:12s\n"
     ]
    },
    {
     "name": "stdout",
     "output_type": "stream",
     "text": [
      "epoch 121| loss: 0.24416 | train_mse: 0.13779 | train_mae: 0.29167 |  0:00:12s\n",
      "epoch 122| loss: 0.1912  | train_mse: 0.12708 | train_mae: 0.28057 |  0:00:12s\n",
      "epoch 123| loss: 0.25086 | train_mse: 0.12266 | train_mae: 0.27603 |  0:00:12s\n"
     ]
    },
    {
     "name": "stdout",
     "output_type": "stream",
     "text": [
      "epoch 124| loss: 0.17121 | train_mse: 0.12132 | train_mae: 0.27777 |  0:00:12s\n",
      "epoch 125| loss: 0.17095 | train_mse: 0.11446 | train_mae: 0.2723  |  0:00:13s\n",
      "epoch 126| loss: 0.33058 | train_mse: 0.11201 | train_mae: 0.2701  |  0:00:13s\n"
     ]
    },
    {
     "name": "stdout",
     "output_type": "stream",
     "text": [
      "epoch 127| loss: 0.18061 | train_mse: 0.11321 | train_mae: 0.27467 |  0:00:13s\n",
      "epoch 128| loss: 0.21208 | train_mse: 0.11186 | train_mae: 0.27419 |  0:00:13s\n",
      "epoch 129| loss: 0.1465  | train_mse: 0.11124 | train_mae: 0.27311 |  0:00:13s\n"
     ]
    },
    {
     "name": "stdout",
     "output_type": "stream",
     "text": [
      "epoch 130| loss: 0.20879 | train_mse: 0.11183 | train_mae: 0.2737  |  0:00:13s\n",
      "epoch 131| loss: 0.27566 | train_mse: 0.11393 | train_mae: 0.27395 |  0:00:13s\n"
     ]
    },
    {
     "name": "stdout",
     "output_type": "stream",
     "text": [
      "epoch 132| loss: 0.19718 | train_mse: 0.11721 | train_mae: 0.27766 |  0:00:13s\n",
      "epoch 133| loss: 0.22587 | train_mse: 0.11604 | train_mae: 0.27745 |  0:00:13s\n",
      "epoch 134| loss: 0.40033 | train_mse: 0.1082  | train_mae: 0.27282 |  0:00:13s\n"
     ]
    },
    {
     "name": "stdout",
     "output_type": "stream",
     "text": [
      "epoch 135| loss: 0.29039 | train_mse: 0.10569 | train_mae: 0.26738 |  0:00:14s\n",
      "epoch 136| loss: 0.28201 | train_mse: 0.10962 | train_mae: 0.27245 |  0:00:14s\n",
      "epoch 137| loss: 0.20828 | train_mse: 0.10645 | train_mae: 0.26846 |  0:00:14s\n"
     ]
    },
    {
     "name": "stdout",
     "output_type": "stream",
     "text": [
      "epoch 138| loss: 0.22047 | train_mse: 0.10422 | train_mae: 0.26695 |  0:00:14s\n",
      "epoch 139| loss: 0.22517 | train_mse: 0.10128 | train_mae: 0.26363 |  0:00:14s\n",
      "epoch 140| loss: 0.20247 | train_mse: 0.09759 | train_mae: 0.26159 |  0:00:14s\n"
     ]
    },
    {
     "name": "stdout",
     "output_type": "stream",
     "text": [
      "epoch 141| loss: 0.25804 | train_mse: 0.0947  | train_mae: 0.25851 |  0:00:14s\n",
      "epoch 142| loss: 0.22304 | train_mse: 0.09287 | train_mae: 0.25519 |  0:00:14s\n"
     ]
    },
    {
     "name": "stdout",
     "output_type": "stream",
     "text": [
      "epoch 143| loss: 0.20333 | train_mse: 0.08869 | train_mae: 0.24869 |  0:00:14s\n",
      "epoch 144| loss: 0.37421 | train_mse: 0.08896 | train_mae: 0.24854 |  0:00:14s\n",
      "epoch 145| loss: 0.20171 | train_mse: 0.08729 | train_mae: 0.24569 |  0:00:14s\n"
     ]
    },
    {
     "name": "stdout",
     "output_type": "stream",
     "text": [
      "epoch 146| loss: 0.26466 | train_mse: 0.08975 | train_mae: 0.24947 |  0:00:15s\n",
      "epoch 147| loss: 0.11898 | train_mse: 0.09094 | train_mae: 0.25051 |  0:00:15s\n",
      "epoch 148| loss: 0.12504 | train_mse: 0.08665 | train_mae: 0.24493 |  0:00:15s\n"
     ]
    },
    {
     "name": "stdout",
     "output_type": "stream",
     "text": [
      "epoch 149| loss: 0.19508 | train_mse: 0.08629 | train_mae: 0.24252 |  0:00:15s\n",
      "epoch 150| loss: 0.31143 | train_mse: 0.08475 | train_mae: 0.24057 |  0:00:15s\n",
      "epoch 151| loss: 0.24399 | train_mse: 0.08635 | train_mae: 0.24184 |  0:00:15s\n"
     ]
    },
    {
     "name": "stdout",
     "output_type": "stream",
     "text": [
      "epoch 152| loss: 0.22251 | train_mse: 0.08893 | train_mae: 0.24344 |  0:00:15s\n",
      "epoch 153| loss: 0.22074 | train_mse: 0.09183 | train_mae: 0.24687 |  0:00:15s\n"
     ]
    },
    {
     "name": "stdout",
     "output_type": "stream",
     "text": [
      "epoch 154| loss: 0.16703 | train_mse: 0.0924  | train_mae: 0.24781 |  0:00:15s\n",
      "epoch 155| loss: 0.21571 | train_mse: 0.09496 | train_mae: 0.24928 |  0:00:15s\n",
      "epoch 156| loss: 0.28082 | train_mse: 0.09258 | train_mae: 0.24649 |  0:00:15s\n"
     ]
    },
    {
     "name": "stdout",
     "output_type": "stream",
     "text": [
      "epoch 157| loss: 0.12019 | train_mse: 0.09502 | train_mae: 0.24867 |  0:00:16s\n",
      "epoch 158| loss: 0.13697 | train_mse: 0.09281 | train_mae: 0.24788 |  0:00:16s\n",
      "epoch 159| loss: 0.24142 | train_mse: 0.09215 | train_mae: 0.24692 |  0:00:16s\n"
     ]
    },
    {
     "name": "stdout",
     "output_type": "stream",
     "text": [
      "epoch 160| loss: 0.12655 | train_mse: 0.09113 | train_mae: 0.24618 |  0:00:16s\n",
      "epoch 161| loss: 0.21407 | train_mse: 0.09149 | train_mae: 0.24333 |  0:00:16s\n",
      "epoch 162| loss: 0.25311 | train_mse: 0.09314 | train_mae: 0.24121 |  0:00:16s\n"
     ]
    },
    {
     "name": "stdout",
     "output_type": "stream",
     "text": [
      "epoch 163| loss: 0.17884 | train_mse: 0.09059 | train_mae: 0.23832 |  0:00:16s\n",
      "epoch 164| loss: 0.17865 | train_mse: 0.08849 | train_mae: 0.23676 |  0:00:16s\n"
     ]
    },
    {
     "name": "stdout",
     "output_type": "stream",
     "text": [
      "epoch 165| loss: 0.20792 | train_mse: 0.10046 | train_mae: 0.24103 |  0:00:16s\n",
      "epoch 166| loss: 0.09719 | train_mse: 0.10238 | train_mae: 0.24128 |  0:00:16s\n",
      "epoch 167| loss: 0.24135 | train_mse: 0.10804 | train_mae: 0.24907 |  0:00:17s\n"
     ]
    },
    {
     "name": "stdout",
     "output_type": "stream",
     "text": [
      "epoch 168| loss: 0.23191 | train_mse: 0.10633 | train_mae: 0.24865 |  0:00:17s\n",
      "epoch 169| loss: 0.2471  | train_mse: 0.10475 | train_mae: 0.24836 |  0:00:17s\n",
      "epoch 170| loss: 0.13393 | train_mse: 0.1013  | train_mae: 0.24598 |  0:00:17s\n"
     ]
    },
    {
     "name": "stdout",
     "output_type": "stream",
     "text": [
      "epoch 171| loss: 0.14537 | train_mse: 0.09723 | train_mae: 0.23984 |  0:00:17s\n",
      "epoch 172| loss: 0.28856 | train_mse: 0.09629 | train_mae: 0.2373  |  0:00:17s\n",
      "epoch 173| loss: 0.27406 | train_mse: 0.09748 | train_mae: 0.24063 |  0:00:17s\n"
     ]
    },
    {
     "name": "stdout",
     "output_type": "stream",
     "text": [
      "epoch 174| loss: 0.11847 | train_mse: 0.09692 | train_mae: 0.2411  |  0:00:17s\n",
      "epoch 175| loss: 0.21638 | train_mse: 0.09855 | train_mae: 0.24376 |  0:00:17s\n",
      "epoch 176| loss: 0.15618 | train_mse: 0.09813 | train_mae: 0.24544 |  0:00:17s"
     ]
    },
    {
     "name": "stdout",
     "output_type": "stream",
     "text": [
      "\n",
      "epoch 177| loss: 0.16199 | train_mse: 0.09875 | train_mae: 0.24893 |  0:00:17s\n",
      "epoch 178| loss: 0.25524 | train_mse: 0.10343 | train_mae: 0.25299 |  0:00:18s\n"
     ]
    },
    {
     "name": "stdout",
     "output_type": "stream",
     "text": [
      "epoch 179| loss: 0.259   | train_mse: 0.10336 | train_mae: 0.25106 |  0:00:18s\n",
      "epoch 180| loss: 0.26671 | train_mse: 0.10602 | train_mae: 0.25031 |  0:00:18s\n",
      "epoch 181| loss: 0.19285 | train_mse: 0.10937 | train_mae: 0.25228 |  0:00:18s\n"
     ]
    },
    {
     "name": "stdout",
     "output_type": "stream",
     "text": [
      "epoch 182| loss: 0.23017 | train_mse: 0.10353 | train_mae: 0.25063 |  0:00:18s\n",
      "epoch 183| loss: 0.14257 | train_mse: 0.10703 | train_mae: 0.25083 |  0:00:18s\n",
      "epoch 184| loss: 0.35932 | train_mse: 0.11056 | train_mae: 0.25659 |  0:00:18s\n"
     ]
    },
    {
     "name": "stdout",
     "output_type": "stream",
     "text": [
      "epoch 185| loss: 0.14043 | train_mse: 0.10745 | train_mae: 0.2534  |  0:00:18s\n",
      "epoch 186| loss: 0.22857 | train_mse: 0.10257 | train_mae: 0.24948 |  0:00:18s\n"
     ]
    },
    {
     "name": "stdout",
     "output_type": "stream",
     "text": [
      "epoch 187| loss: 0.14743 | train_mse: 0.09917 | train_mae: 0.24581 |  0:00:18s\n",
      "epoch 188| loss: 0.1834  | train_mse: 0.09628 | train_mae: 0.24183 |  0:00:19s\n",
      "epoch 189| loss: 0.1988  | train_mse: 0.09307 | train_mae: 0.24154 |  0:00:19s\n"
     ]
    },
    {
     "name": "stdout",
     "output_type": "stream",
     "text": [
      "epoch 190| loss: 0.12714 | train_mse: 0.09066 | train_mae: 0.24127 |  0:00:19s\n",
      "epoch 191| loss: 0.12877 | train_mse: 0.09112 | train_mae: 0.24107 |  0:00:19s\n",
      "epoch 192| loss: 0.11845 | train_mse: 0.09723 | train_mae: 0.24671 |  0:00:19s\n"
     ]
    },
    {
     "name": "stdout",
     "output_type": "stream",
     "text": [
      "epoch 193| loss: 0.22356 | train_mse: 0.1007  | train_mae: 0.2493  |  0:00:19s\n",
      "epoch 194| loss: 0.23563 | train_mse: 0.10442 | train_mae: 0.25338 |  0:00:19s\n",
      "epoch 195| loss: 0.15397 | train_mse: 0.10734 | train_mae: 0.25655 |  0:00:19s\n"
     ]
    },
    {
     "name": "stdout",
     "output_type": "stream",
     "text": [
      "epoch 196| loss: 0.16315 | train_mse: 0.10584 | train_mae: 0.25544 |  0:00:19s\n",
      "epoch 197| loss: 0.23518 | train_mse: 0.10043 | train_mae: 0.25029 |  0:00:19s\n",
      "epoch 198| loss: 0.16417 | train_mse: 0.10154 | train_mae: 0.25177 |  0:00:19s\n"
     ]
    },
    {
     "name": "stdout",
     "output_type": "stream",
     "text": [
      "epoch 199| loss: 0.20605 | train_mse: 0.10454 | train_mae: 0.25432 |  0:00:20s\n",
      "epoch 200| loss: 0.10248 | train_mse: 0.1056  | train_mae: 0.2559  |  0:00:20s\n",
      "epoch 201| loss: 0.17092 | train_mse: 0.10515 | train_mae: 0.25485 |  0:00:20s\n"
     ]
    },
    {
     "name": "stdout",
     "output_type": "stream",
     "text": [
      "epoch 202| loss: 0.23734 | train_mse: 0.10311 | train_mae: 0.25261 |  0:00:20s\n",
      "epoch 203| loss: 0.19842 | train_mse: 0.10058 | train_mae: 0.24813 |  0:00:20s\n",
      "epoch 204| loss: 0.25848 | train_mse: 0.10039 | train_mae: 0.24808 |  0:00:20s\n"
     ]
    },
    {
     "name": "stdout",
     "output_type": "stream",
     "text": [
      "epoch 205| loss: 0.15497 | train_mse: 0.1012  | train_mae: 0.24774 |  0:00:20s\n",
      "epoch 206| loss: 0.1191  | train_mse: 0.09903 | train_mae: 0.24383 |  0:00:20s\n"
     ]
    },
    {
     "name": "stdout",
     "output_type": "stream",
     "text": [
      "epoch 207| loss: 0.16122 | train_mse: 0.09296 | train_mae: 0.23547 |  0:00:20s\n",
      "epoch 208| loss: 0.19569 | train_mse: 0.0934  | train_mae: 0.23505 |  0:00:20s\n",
      "epoch 209| loss: 0.20396 | train_mse: 0.09357 | train_mae: 0.2368  |  0:00:20s\n"
     ]
    },
    {
     "name": "stdout",
     "output_type": "stream",
     "text": [
      "epoch 210| loss: 0.27438 | train_mse: 0.09196 | train_mae: 0.23399 |  0:00:21s\n",
      "epoch 211| loss: 0.20598 | train_mse: 0.09557 | train_mae: 0.2362  |  0:00:21s\n",
      "epoch 212| loss: 0.17149 | train_mse: 0.0982  | train_mae: 0.23911 |  0:00:21s\n"
     ]
    },
    {
     "name": "stdout",
     "output_type": "stream",
     "text": [
      "epoch 213| loss: 0.18714 | train_mse: 0.10273 | train_mae: 0.24322 |  0:00:21s\n",
      "epoch 214| loss: 0.21286 | train_mse: 0.1045  | train_mae: 0.2448  |  0:00:21s\n",
      "epoch 215| loss: 0.18587 | train_mse: 0.10622 | train_mae: 0.24816 |  0:00:21s\n"
     ]
    },
    {
     "name": "stdout",
     "output_type": "stream",
     "text": [
      "epoch 216| loss: 0.17357 | train_mse: 0.1048  | train_mae: 0.24834 |  0:00:21s\n",
      "epoch 217| loss: 0.21872 | train_mse: 0.10017 | train_mae: 0.24328 |  0:00:21s\n"
     ]
    },
    {
     "name": "stdout",
     "output_type": "stream",
     "text": [
      "epoch 218| loss: 0.13072 | train_mse: 0.09374 | train_mae: 0.23825 |  0:00:21s\n",
      "epoch 219| loss: 0.12965 | train_mse: 0.08741 | train_mae: 0.23413 |  0:00:21s\n",
      "epoch 220| loss: 0.13154 | train_mse: 0.08348 | train_mae: 0.22958 |  0:00:21s\n"
     ]
    },
    {
     "name": "stdout",
     "output_type": "stream",
     "text": [
      "epoch 221| loss: 0.3422  | train_mse: 0.08137 | train_mae: 0.22738 |  0:00:22s\n",
      "epoch 222| loss: 0.10403 | train_mse: 0.08024 | train_mae: 0.22737 |  0:00:22s\n",
      "epoch 223| loss: 0.21846 | train_mse: 0.08048 | train_mae: 0.22475 |  0:00:22s\n"
     ]
    },
    {
     "name": "stdout",
     "output_type": "stream",
     "text": [
      "epoch 224| loss: 0.16848 | train_mse: 0.08195 | train_mae: 0.22527 |  0:00:22s\n",
      "epoch 225| loss: 0.14659 | train_mse: 0.08513 | train_mae: 0.22866 |  0:00:22s\n",
      "epoch 226| loss: 0.16211 | train_mse: 0.08504 | train_mae: 0.2273  |  0:00:22s\n"
     ]
    },
    {
     "name": "stdout",
     "output_type": "stream",
     "text": [
      "epoch 227| loss: 0.30449 | train_mse: 0.08498 | train_mae: 0.22374 |  0:00:22s\n",
      "epoch 228| loss: 0.21791 | train_mse: 0.08877 | train_mae: 0.22846 |  0:00:22s\n",
      "epoch 229| loss: 0.12094 | train_mse: 0.09506 | train_mae: 0.2352  |  0:00:22s"
     ]
    },
    {
     "name": "stdout",
     "output_type": "stream",
     "text": [
      "\n",
      "epoch 230| loss: 0.16494 | train_mse: 0.09533 | train_mae: 0.23584 |  0:00:22s\n",
      "epoch 231| loss: 0.11125 | train_mse: 0.09562 | train_mae: 0.23634 |  0:00:23s\n"
     ]
    },
    {
     "name": "stdout",
     "output_type": "stream",
     "text": [
      "epoch 232| loss: 0.20103 | train_mse: 0.0924  | train_mae: 0.234   |  0:00:23s\n",
      "epoch 233| loss: 0.25164 | train_mse: 0.09213 | train_mae: 0.23259 |  0:00:23s\n",
      "epoch 234| loss: 0.13513 | train_mse: 0.09232 | train_mae: 0.22947 |  0:00:23s\n"
     ]
    },
    {
     "name": "stdout",
     "output_type": "stream",
     "text": [
      "epoch 235| loss: 0.19301 | train_mse: 0.09258 | train_mae: 0.22845 |  0:00:23s\n",
      "epoch 236| loss: 0.15666 | train_mse: 0.09212 | train_mae: 0.22536 |  0:00:23s\n",
      "epoch 237| loss: 0.122   | train_mse: 0.09047 | train_mae: 0.22363 |  0:00:23s\n"
     ]
    },
    {
     "name": "stdout",
     "output_type": "stream",
     "text": [
      "epoch 238| loss: 0.15891 | train_mse: 0.09069 | train_mae: 0.22649 |  0:00:23s\n",
      "epoch 239| loss: 0.12551 | train_mse: 0.0913  | train_mae: 0.22655 |  0:00:23s\n"
     ]
    },
    {
     "name": "stdout",
     "output_type": "stream",
     "text": [
      "epoch 240| loss: 0.14872 | train_mse: 0.0913  | train_mae: 0.22643 |  0:00:23s\n",
      "epoch 241| loss: 0.12905 | train_mse: 0.09027 | train_mae: 0.22408 |  0:00:24s\n",
      "epoch 242| loss: 0.19114 | train_mse: 0.08805 | train_mae: 0.22255 |  0:00:24s\n"
     ]
    },
    {
     "name": "stdout",
     "output_type": "stream",
     "text": [
      "epoch 243| loss: 0.14556 | train_mse: 0.08668 | train_mae: 0.22146 |  0:00:24s\n",
      "epoch 244| loss: 0.18069 | train_mse: 0.08783 | train_mae: 0.22489 |  0:00:24s\n",
      "epoch 245| loss: 0.22243 | train_mse: 0.08671 | train_mae: 0.22362 |  0:00:24s\n"
     ]
    },
    {
     "name": "stdout",
     "output_type": "stream",
     "text": [
      "epoch 246| loss: 0.18147 | train_mse: 0.08715 | train_mae: 0.22385 |  0:00:24s\n",
      "epoch 247| loss: 0.21809 | train_mse: 0.08812 | train_mae: 0.22171 |  0:00:24s\n",
      "epoch 248| loss: 0.17074 | train_mse: 0.08866 | train_mae: 0.22515 |  0:00:24s\n"
     ]
    },
    {
     "name": "stdout",
     "output_type": "stream",
     "text": [
      "epoch 249| loss: 0.20542 | train_mse: 0.08757 | train_mae: 0.22445 |  0:00:24s\n",
      "epoch 250| loss: 0.20881 | train_mse: 0.08572 | train_mae: 0.22407 |  0:00:24s\n",
      "epoch 251| loss: 0.08629 | train_mse: 0.08495 | train_mae: 0.22395 |  0:00:24s\n"
     ]
    },
    {
     "name": "stdout",
     "output_type": "stream",
     "text": [
      "epoch 252| loss: 0.14814 | train_mse: 0.08433 | train_mae: 0.22441 |  0:00:25s\n",
      "epoch 253| loss: 0.15964 | train_mse: 0.08557 | train_mae: 0.22392 |  0:00:25s\n",
      "epoch 254| loss: 0.16665 | train_mse: 0.08717 | train_mae: 0.22807 |  0:00:25s\n"
     ]
    },
    {
     "name": "stdout",
     "output_type": "stream",
     "text": [
      "epoch 255| loss: 0.31582 | train_mse: 0.0872  | train_mae: 0.22784 |  0:00:25s\n",
      "epoch 256| loss: 0.14326 | train_mse: 0.0872  | train_mae: 0.22793 |  0:00:25s\n",
      "epoch 257| loss: 0.17081 | train_mse: 0.08871 | train_mae: 0.22877 |  0:00:25s\n"
     ]
    },
    {
     "name": "stdout",
     "output_type": "stream",
     "text": [
      "epoch 258| loss: 0.11266 | train_mse: 0.08983 | train_mae: 0.23051 |  0:00:25s\n",
      "epoch 259| loss: 0.17113 | train_mse: 0.08995 | train_mae: 0.23015 |  0:00:25s\n"
     ]
    },
    {
     "name": "stdout",
     "output_type": "stream",
     "text": [
      "epoch 260| loss: 0.12954 | train_mse: 0.08947 | train_mae: 0.22963 |  0:00:25s\n",
      "epoch 261| loss: 0.10732 | train_mse: 0.09034 | train_mae: 0.23168 |  0:00:25s\n",
      "epoch 262| loss: 0.39103 | train_mse: 0.08737 | train_mae: 0.22871 |  0:00:25s\n"
     ]
    },
    {
     "name": "stdout",
     "output_type": "stream",
     "text": [
      "epoch 263| loss: 0.15281 | train_mse: 0.08899 | train_mae: 0.22832 |  0:00:26s\n",
      "epoch 264| loss: 0.13617 | train_mse: 0.08625 | train_mae: 0.22454 |  0:00:26s\n",
      "epoch 265| loss: 0.16745 | train_mse: 0.08503 | train_mae: 0.2239  |  0:00:26s\n"
     ]
    },
    {
     "name": "stdout",
     "output_type": "stream",
     "text": [
      "epoch 266| loss: 0.09276 | train_mse: 0.0831  | train_mae: 0.22081 |  0:00:26s\n",
      "epoch 267| loss: 0.22127 | train_mse: 0.0817  | train_mae: 0.22    |  0:00:26s\n",
      "epoch 268| loss: 0.19143 | train_mse: 0.08243 | train_mae: 0.21874 |  0:00:26s\n"
     ]
    },
    {
     "name": "stdout",
     "output_type": "stream",
     "text": [
      "epoch 269| loss: 0.17258 | train_mse: 0.08065 | train_mae: 0.2182  |  0:00:26s\n",
      "epoch 270| loss: 0.13357 | train_mse: 0.08241 | train_mae: 0.21999 |  0:00:26s\n"
     ]
    },
    {
     "name": "stdout",
     "output_type": "stream",
     "text": [
      "epoch 271| loss: 0.15529 | train_mse: 0.08423 | train_mae: 0.22073 |  0:00:26s\n",
      "epoch 272| loss: 0.24443 | train_mse: 0.08282 | train_mae: 0.21839 |  0:00:26s\n",
      "epoch 273| loss: 0.14315 | train_mse: 0.07956 | train_mae: 0.21323 |  0:00:26s\n"
     ]
    },
    {
     "name": "stdout",
     "output_type": "stream",
     "text": [
      "epoch 274| loss: 0.11039 | train_mse: 0.07842 | train_mae: 0.21034 |  0:00:27s\n",
      "epoch 275| loss: 0.20476 | train_mse: 0.08161 | train_mae: 0.21233 |  0:00:27s\n",
      "epoch 276| loss: 0.23444 | train_mse: 0.0845  | train_mae: 0.2135  |  0:00:27s\n"
     ]
    },
    {
     "name": "stdout",
     "output_type": "stream",
     "text": [
      "epoch 277| loss: 0.10885 | train_mse: 0.0872  | train_mae: 0.21731 |  0:00:27s\n",
      "epoch 278| loss: 0.14    | train_mse: 0.0872  | train_mae: 0.21959 |  0:00:27s\n",
      "epoch 279| loss: 0.27878 | train_mse: 0.0849  | train_mae: 0.21944 |  0:00:27s\n"
     ]
    },
    {
     "name": "stdout",
     "output_type": "stream",
     "text": [
      "epoch 280| loss: 0.27748 | train_mse: 0.08525 | train_mae: 0.22213 |  0:00:27s\n",
      "epoch 281| loss: 0.14277 | train_mse: 0.09062 | train_mae: 0.22732 |  0:00:27s\n"
     ]
    },
    {
     "name": "stdout",
     "output_type": "stream",
     "text": [
      "epoch 282| loss: 0.15609 | train_mse: 0.09021 | train_mae: 0.22803 |  0:00:27s\n",
      "epoch 283| loss: 0.15835 | train_mse: 0.09336 | train_mae: 0.23047 |  0:00:27s\n",
      "epoch 284| loss: 0.16558 | train_mse: 0.09225 | train_mae: 0.22835 |  0:00:27s\n"
     ]
    },
    {
     "name": "stdout",
     "output_type": "stream",
     "text": [
      "epoch 285| loss: 0.1187  | train_mse: 0.08816 | train_mae: 0.22442 |  0:00:28s\n",
      "epoch 286| loss: 0.24519 | train_mse: 0.08107 | train_mae: 0.21709 |  0:00:28s\n",
      "epoch 287| loss: 0.11641 | train_mse: 0.07674 | train_mae: 0.21258 |  0:00:28s\n"
     ]
    },
    {
     "name": "stdout",
     "output_type": "stream",
     "text": [
      "epoch 288| loss: 0.22999 | train_mse: 0.07573 | train_mae: 0.21213 |  0:00:28s\n",
      "epoch 289| loss: 0.12033 | train_mse: 0.07619 | train_mae: 0.21327 |  0:00:28s\n",
      "epoch 290| loss: 0.31343 | train_mse: 0.07348 | train_mae: 0.21105 |  0:00:28s\n"
     ]
    },
    {
     "name": "stdout",
     "output_type": "stream",
     "text": [
      "epoch 291| loss: 0.13974 | train_mse: 0.07252 | train_mae: 0.20978 |  0:00:28s\n",
      "epoch 292| loss: 0.12415 | train_mse: 0.06904 | train_mae: 0.205   |  0:00:28s\n"
     ]
    },
    {
     "name": "stdout",
     "output_type": "stream",
     "text": [
      "epoch 293| loss: 0.15731 | train_mse: 0.06667 | train_mae: 0.19934 |  0:00:28s\n",
      "epoch 294| loss: 0.20496 | train_mse: 0.06334 | train_mae: 0.19299 |  0:00:28s\n",
      "epoch 295| loss: 0.15116 | train_mse: 0.06247 | train_mae: 0.19101 |  0:00:28s\n"
     ]
    },
    {
     "name": "stdout",
     "output_type": "stream",
     "text": [
      "epoch 296| loss: 0.1194  | train_mse: 0.065   | train_mae: 0.19376 |  0:00:29s\n",
      "epoch 297| loss: 0.11288 | train_mse: 0.06812 | train_mae: 0.19791 |  0:00:29s\n",
      "epoch 298| loss: 0.21816 | train_mse: 0.07057 | train_mae: 0.19888 |  0:00:29s\n"
     ]
    },
    {
     "name": "stdout",
     "output_type": "stream",
     "text": [
      "epoch 299| loss: 0.16537 | train_mse: 0.07384 | train_mae: 0.20098 |  0:00:29s\n",
      "epoch 300| loss: 0.16658 | train_mse: 0.07712 | train_mae: 0.20457 |  0:00:29s\n",
      "epoch 301| loss: 0.16377 | train_mse: 0.07872 | train_mae: 0.20662 |  0:00:29s\n"
     ]
    },
    {
     "name": "stdout",
     "output_type": "stream",
     "text": [
      "epoch 302| loss: 0.16432 | train_mse: 0.08315 | train_mae: 0.21155 |  0:00:29s\n",
      "epoch 303| loss: 0.1529  | train_mse: 0.08362 | train_mae: 0.2127  |  0:00:29s\n"
     ]
    },
    {
     "name": "stdout",
     "output_type": "stream",
     "text": [
      "epoch 304| loss: 0.16394 | train_mse: 0.08392 | train_mae: 0.21378 |  0:00:29s\n",
      "epoch 305| loss: 0.35324 | train_mse: 0.08369 | train_mae: 0.21375 |  0:00:29s\n"
     ]
    },
    {
     "name": "stdout",
     "output_type": "stream",
     "text": [
      "epoch 306| loss: 0.33376 | train_mse: 0.0832  | train_mae: 0.21265 |  0:00:30s\n",
      "epoch 307| loss: 0.15157 | train_mse: 0.08444 | train_mae: 0.21351 |  0:00:30s\n"
     ]
    },
    {
     "name": "stdout",
     "output_type": "stream",
     "text": [
      "epoch 308| loss: 0.13561 | train_mse: 0.0887  | train_mae: 0.21662 |  0:00:30s\n",
      "epoch 309| loss: 0.14992 | train_mse: 0.08855 | train_mae: 0.21551 |  0:00:30s\n"
     ]
    },
    {
     "name": "stdout",
     "output_type": "stream",
     "text": [
      "epoch 310| loss: 0.18485 | train_mse: 0.08241 | train_mae: 0.20764 |  0:00:30s\n",
      "epoch 311| loss: 0.08238 | train_mse: 0.07894 | train_mae: 0.20571 |  0:00:30s\n"
     ]
    },
    {
     "name": "stdout",
     "output_type": "stream",
     "text": [
      "epoch 312| loss: 0.12142 | train_mse: 0.07604 | train_mae: 0.20406 |  0:00:30s\n",
      "epoch 313| loss: 0.09796 | train_mse: 0.07307 | train_mae: 0.20217 |  0:00:30s\n",
      "epoch 314| loss: 0.11831 | train_mse: 0.06873 | train_mae: 0.19988 |  0:00:30s\n"
     ]
    },
    {
     "name": "stdout",
     "output_type": "stream",
     "text": [
      "epoch 315| loss: 0.18453 | train_mse: 0.0686  | train_mae: 0.20088 |  0:00:31s\n",
      "epoch 316| loss: 0.1827  | train_mse: 0.06778 | train_mae: 0.20253 |  0:00:31s\n"
     ]
    },
    {
     "name": "stdout",
     "output_type": "stream",
     "text": [
      "epoch 317| loss: 0.37501 | train_mse: 0.06624 | train_mae: 0.20215 |  0:00:31s\n",
      "epoch 318| loss: 0.1811  | train_mse: 0.06848 | train_mae: 0.20398 |  0:00:31s\n"
     ]
    },
    {
     "name": "stdout",
     "output_type": "stream",
     "text": [
      "epoch 319| loss: 0.11537 | train_mse: 0.07111 | train_mae: 0.20686 |  0:00:31s\n",
      "epoch 320| loss: 0.1479  | train_mse: 0.07256 | train_mae: 0.20791 |  0:00:31s\n"
     ]
    },
    {
     "name": "stdout",
     "output_type": "stream",
     "text": [
      "epoch 321| loss: 0.1616  | train_mse: 0.07518 | train_mae: 0.20962 |  0:00:31s\n",
      "epoch 322| loss: 0.26962 | train_mse: 0.07556 | train_mae: 0.20974 |  0:00:32s\n",
      "epoch 323| loss: 0.19246 | train_mse: 0.07588 | train_mae: 0.20933 |  0:00:32s\n"
     ]
    },
    {
     "name": "stdout",
     "output_type": "stream",
     "text": [
      "epoch 324| loss: 0.16462 | train_mse: 0.07922 | train_mae: 0.21188 |  0:00:32s\n",
      "epoch 325| loss: 0.10606 | train_mse: 0.08131 | train_mae: 0.21267 |  0:00:32s\n",
      "epoch 326| loss: 0.09698 | train_mse: 0.08325 | train_mae: 0.21436 |  0:00:32s\n"
     ]
    },
    {
     "name": "stdout",
     "output_type": "stream",
     "text": [
      "epoch 327| loss: 0.13125 | train_mse: 0.08382 | train_mae: 0.21233 |  0:00:32s\n",
      "epoch 328| loss: 0.16536 | train_mse: 0.08156 | train_mae: 0.21078 |  0:00:32s\n",
      "epoch 329| loss: 0.21365 | train_mse: 0.08098 | train_mae: 0.20992 |  0:00:32s\n"
     ]
    },
    {
     "name": "stdout",
     "output_type": "stream",
     "text": [
      "epoch 330| loss: 0.11288 | train_mse: 0.0809  | train_mae: 0.20941 |  0:00:32s\n",
      "epoch 331| loss: 0.25035 | train_mse: 0.0814  | train_mae: 0.21038 |  0:00:32s\n",
      "epoch 332| loss: 0.1971  | train_mse: 0.08142 | train_mae: 0.21007 |  0:00:32s\n"
     ]
    },
    {
     "name": "stdout",
     "output_type": "stream",
     "text": [
      "epoch 333| loss: 0.2742  | train_mse: 0.07834 | train_mae: 0.20752 |  0:00:33s\n",
      "epoch 334| loss: 0.14132 | train_mse: 0.07949 | train_mae: 0.20943 |  0:00:33s\n",
      "epoch 335| loss: 0.14666 | train_mse: 0.0771  | train_mae: 0.20709 |  0:00:33s\n"
     ]
    },
    {
     "name": "stdout",
     "output_type": "stream",
     "text": [
      "epoch 336| loss: 0.17154 | train_mse: 0.07692 | train_mae: 0.20673 |  0:00:33s\n",
      "epoch 337| loss: 0.07712 | train_mse: 0.0761  | train_mae: 0.20675 |  0:00:33s\n",
      "epoch 338| loss: 0.27293 | train_mse: 0.07671 | train_mae: 0.20774 |  0:00:33s\n"
     ]
    },
    {
     "name": "stdout",
     "output_type": "stream",
     "text": [
      "epoch 339| loss: 0.12282 | train_mse: 0.07619 | train_mae: 0.20633 |  0:00:33s\n",
      "epoch 340| loss: 0.24936 | train_mse: 0.07688 | train_mae: 0.20737 |  0:00:33s\n"
     ]
    },
    {
     "name": "stdout",
     "output_type": "stream",
     "text": [
      "epoch 341| loss: 0.16469 | train_mse: 0.07658 | train_mae: 0.2075  |  0:00:33s\n",
      "epoch 342| loss: 0.19116 | train_mse: 0.07509 | train_mae: 0.20845 |  0:00:33s\n",
      "epoch 343| loss: 0.12591 | train_mse: 0.06999 | train_mae: 0.20447 |  0:00:33s"
     ]
    },
    {
     "name": "stdout",
     "output_type": "stream",
     "text": [
      "\n",
      "epoch 344| loss: 0.17376 | train_mse: 0.06933 | train_mae: 0.20448 |  0:00:34s\n",
      "epoch 345| loss: 0.18726 | train_mse: 0.06738 | train_mae: 0.20263 |  0:00:34s\n",
      "\n",
      "Early stopping occurred at epoch 345 with best_epoch = 295 and best_train_mae = 0.19101\n",
      "Best weights from best epoch are automatically used!\n"
     ]
    }
   ],
   "source": [
    "#Train the Model\n",
    "\n",
    "Y_train = np.reshape(Y_train, (-1, 1))\n",
    "Y_test = np.reshape(Y_test, (-1, 1))\n",
    "\n",
    "prior_model = TabNetRegressor(optimizer_fn=torch.optim.Adam, optimizer_params=dict(lr = 0.001),\n",
    "          #scheduler_params={\"step_size\":10, ], \"gamma\":0.9},\n",
    "          #scheduler_fn=torch.optim.lr_scheduler.StepLR\n",
    "          )  #TabNetRegressor()\n",
    "\n",
    "prior_model.fit(X_train,Y_train,eval_set=[(X_train, Y_train)],\n",
    "            eval_name=['train'], \n",
    "            eval_metric=[ 'mse', 'mae'], \n",
    "            max_epochs = n_epochs, \n",
    "            batch_size = batch_size,\n",
    "            patience=50\n",
    "            )"
   ]
  },
  {
   "cell_type": "code",
   "execution_count": 10,
   "id": "af65dcda",
   "metadata": {
    "execution": {
     "iopub.execute_input": "2022-07-22T09:49:02.683772Z",
     "iopub.status.busy": "2022-07-22T09:49:02.682815Z",
     "iopub.status.idle": "2022-07-22T09:49:02.735786Z",
     "shell.execute_reply": "2022-07-22T09:49:02.734362Z"
    },
    "id": "af65dcda",
    "papermill": {
     "duration": 0.081817,
     "end_time": "2022-07-22T09:49:02.739916",
     "exception": false,
     "start_time": "2022-07-22T09:49:02.658099",
     "status": "completed"
    },
    "tags": []
   },
   "outputs": [
    {
     "data": {
      "application/scrapbook.scrap.json+json": {
       "data": 0.19738287537327187,
       "encoder": "json",
       "name": "Prior Model MSE",
       "version": 1
      }
     },
     "metadata": {
      "scrapbook": {
       "data": true,
       "display": false,
       "name": "Prior Model MSE"
      }
     },
     "output_type": "display_data"
    },
    {
     "data": {
      "application/scrapbook.scrap.json+json": {
       "data": 1.1838036222901989,
       "encoder": "json",
       "name": "ABC Pre-generator MSE",
       "version": 1
      }
     },
     "metadata": {
      "scrapbook": {
       "data": true,
       "display": false,
       "name": "ABC Pre-generator MSE"
      }
     },
     "output_type": "display_data"
    },
    {
     "data": {
      "application/scrapbook.scrap.json+json": {
       "data": 0.38996028226547363,
       "encoder": "json",
       "name": "Prior Model MAE",
       "version": 1
      }
     },
     "metadata": {
      "scrapbook": {
       "data": true,
       "display": false,
       "name": "Prior Model MAE"
      }
     },
     "output_type": "display_data"
    },
    {
     "name": "stdout",
     "output_type": "stream",
     "text": [
      "Prior Model MAE 0.38996028226547363\n"
     ]
    },
    {
     "data": {
      "application/scrapbook.scrap.json+json": {
       "data": 0.9959222699680428,
       "encoder": "json",
       "name": "ABC Pre-generator MAE",
       "version": 1
      }
     },
     "metadata": {
      "scrapbook": {
       "data": true,
       "display": false,
       "name": "ABC Pre-generator MAE"
      }
     },
     "output_type": "display_data"
    },
    {
     "name": "stdout",
     "output_type": "stream",
     "text": [
      "ABC Pre-generator MAE 0.9959222699680428\n"
     ]
    }
   ],
   "source": [
    "y_pred = prior_model.predict(X_test)\n",
    "y_abc = y_pred + np.random.normal(0,variance, y_pred.shape) + bias \n",
    "mse = mean_squared_error(y_pred,Y_test)\n",
    "sb.glue(\"Prior Model MSE\",mse)\n",
    "mse = mean_squared_error(y_abc,Y_test)\n",
    "sb.glue(\"ABC Pre-generator MSE\",mse)\n",
    "mae = mean_absolute_error(y_pred,Y_test)\n",
    "sb.glue(\"Prior Model MAE\",mae)\n",
    "print(\"Prior Model MAE\",mae)\n",
    "mae = mean_absolute_error(y_abc,Y_test)\n",
    "sb.glue(\"ABC Pre-generator MAE\",mae)\n",
    "print(\"ABC Pre-generator MAE\",mae)"
   ]
  },
  {
   "cell_type": "markdown",
   "id": "25609da2",
   "metadata": {
    "papermill": {
     "duration": 0.022581,
     "end_time": "2022-07-22T09:49:02.781391",
     "exception": false,
     "start_time": "2022-07-22T09:49:02.758810",
     "status": "completed"
    },
    "tags": []
   },
   "source": [
    "# mGAN Model"
   ]
  },
  {
   "cell_type": "code",
   "execution_count": 11,
   "id": "dfc3464d",
   "metadata": {
    "execution": {
     "iopub.execute_input": "2022-07-22T09:49:02.828463Z",
     "iopub.status.busy": "2022-07-22T09:49:02.828081Z",
     "iopub.status.idle": "2022-07-22T09:49:02.833737Z",
     "shell.execute_reply": "2022-07-22T09:49:02.831513Z"
    },
    "papermill": {
     "duration": 0.032778,
     "end_time": "2022-07-22T09:49:02.836824",
     "exception": false,
     "start_time": "2022-07-22T09:49:02.804046",
     "status": "completed"
    },
    "tags": []
   },
   "outputs": [],
   "source": [
    "# gen = network.Generator(n_features+1).to(device)\n",
    "# disc = network.Discriminator(n_features+1).to(device)\n",
    "\n",
    "# criterion = torch.nn.BCELoss()\n",
    "# gen_opt = torch.optim.Adam(gen.parameters(), lr=0.001, betas=(0.5, 0.999))\n",
    "# disc_opt = torch.optim.Adam(disc.parameters(), lr=0.001, betas=(0.5, 0.999))"
   ]
  },
  {
   "cell_type": "code",
   "execution_count": 12,
   "id": "b75fdd85",
   "metadata": {
    "execution": {
     "iopub.execute_input": "2022-07-22T09:49:02.875538Z",
     "iopub.status.busy": "2022-07-22T09:49:02.875112Z",
     "iopub.status.idle": "2022-07-22T09:49:02.880722Z",
     "shell.execute_reply": "2022-07-22T09:49:02.878919Z"
    },
    "papermill": {
     "duration": 0.030069,
     "end_time": "2022-07-22T09:49:02.883671",
     "exception": false,
     "start_time": "2022-07-22T09:49:02.853602",
     "status": "completed"
    },
    "tags": []
   },
   "outputs": [],
   "source": [
    "#Training the ABC_GAN \n",
    "# ABC_train_test2.training_GAN(disc,gen,disc_opt,gen_opt,train_data,batch_size,n_epochs,criterion,prior_model,variance,bias,device)"
   ]
  },
  {
   "cell_type": "code",
   "execution_count": 13,
   "id": "1fa7c368",
   "metadata": {
    "execution": {
     "iopub.execute_input": "2022-07-22T09:49:02.928932Z",
     "iopub.status.busy": "2022-07-22T09:49:02.928470Z",
     "iopub.status.idle": "2022-07-22T09:49:02.934206Z",
     "shell.execute_reply": "2022-07-22T09:49:02.932512Z"
    },
    "papermill": {
     "duration": 0.031806,
     "end_time": "2022-07-22T09:49:02.937112",
     "exception": false,
     "start_time": "2022-07-22T09:49:02.905306",
     "status": "completed"
    },
    "tags": []
   },
   "outputs": [],
   "source": [
    "# ABC_GAN1_metrics=ABC_train_test2.test_generator(gen,test_data,prior_model,variance,bias,\"1\",device)\n",
    "# sb.glue(\"ABC_GAN_1 Metrics\",ABC_GAN1_metrics)\n",
    "\n",
    "# print(\"MAE\")\n",
    "# print(mean(ABC_GAN1_metrics[1]))"
   ]
  },
  {
   "cell_type": "code",
   "execution_count": 14,
   "id": "eb22ce5c",
   "metadata": {
    "execution": {
     "iopub.execute_input": "2022-07-22T09:49:02.977971Z",
     "iopub.status.busy": "2022-07-22T09:49:02.977278Z",
     "iopub.status.idle": "2022-07-22T09:49:02.982097Z",
     "shell.execute_reply": "2022-07-22T09:49:02.981018Z"
    },
    "papermill": {
     "duration": 0.030197,
     "end_time": "2022-07-22T09:49:02.986968",
     "exception": false,
     "start_time": "2022-07-22T09:49:02.956771",
     "status": "completed"
    },
    "tags": []
   },
   "outputs": [],
   "source": [
    "# sanityChecks.discProbVsError(train_data,disc,device)\n",
    "# sanityChecks.discProbVsError(test_data,disc,device)"
   ]
  },
  {
   "cell_type": "markdown",
   "id": "4aca3467",
   "metadata": {
    "papermill": {
     "duration": 0.019226,
     "end_time": "2022-07-22T09:49:03.026541",
     "exception": false,
     "start_time": "2022-07-22T09:49:03.007315",
     "status": "completed"
    },
    "tags": []
   },
   "source": [
    "# mGAN Model with TabNet Generator"
   ]
  },
  {
   "cell_type": "code",
   "execution_count": 15,
   "id": "0022b726",
   "metadata": {
    "execution": {
     "iopub.execute_input": "2022-07-22T09:49:03.107970Z",
     "iopub.status.busy": "2022-07-22T09:49:03.106671Z",
     "iopub.status.idle": "2022-07-22T09:49:03.131253Z",
     "shell.execute_reply": "2022-07-22T09:49:03.130357Z"
    },
    "papermill": {
     "duration": 0.085461,
     "end_time": "2022-07-22T09:49:03.134248",
     "exception": false,
     "start_time": "2022-07-22T09:49:03.048787",
     "status": "completed"
    },
    "tags": []
   },
   "outputs": [],
   "source": [
    "gen2 = network.GeneratorTabnet(n_features+1).to(device)\n",
    "disc2 = network.Discriminator(n_features+1).to(device)\n",
    "\n",
    "criterion = torch.nn.BCELoss()\n",
    "gen_opt = torch.optim.Adam(gen2.parameters(), lr=0.001, betas=(0.5, 0.999))\n",
    "disc_opt = torch.optim.Adam(disc2.parameters(), lr=0.001, betas=(0.5, 0.999))"
   ]
  },
  {
   "cell_type": "code",
   "execution_count": 16,
   "id": "cd5ac843",
   "metadata": {
    "execution": {
     "iopub.execute_input": "2022-07-22T09:49:03.190288Z",
     "iopub.status.busy": "2022-07-22T09:49:03.188950Z",
     "iopub.status.idle": "2022-07-22T09:51:55.838074Z",
     "shell.execute_reply": "2022-07-22T09:51:55.836884Z"
    },
    "papermill": {
     "duration": 172.688827,
     "end_time": "2022-07-22T09:51:55.841615",
     "exception": false,
     "start_time": "2022-07-22T09:49:03.152788",
     "status": "completed"
    },
    "tags": []
   },
   "outputs": [
    {
     "data": {
      "image/png": "[encoded data removed]",
      "text/plain": [
       "<Figure size 432x288 with 1 Axes>"
      ]
     },
     "metadata": {
      "needs_background": "light"
     },
     "output_type": "display_data"
    },
    {
     "data": {
      "image/png": "[encoded data removed]",
      "text/plain": [
       "<Figure size 432x288 with 1 Axes>"
      ]
     },
     "metadata": {
      "needs_background": "light"
     },
     "output_type": "display_data"
    }
   ],
   "source": [
    "#Training the ABC_GAN \n",
    "ABC_train_test2.training_GAN(disc2,gen2,disc_opt,gen_opt,train_data,batch_size,n_epochs,criterion,prior_model,variance,bias,device)"
   ]
  },
  {
   "cell_type": "code",
   "execution_count": 17,
   "id": "d2395b1b",
   "metadata": {
    "execution": {
     "iopub.execute_input": "2022-07-22T09:51:55.883207Z",
     "iopub.status.busy": "2022-07-22T09:51:55.882826Z",
     "iopub.status.idle": "2022-07-22T09:51:57.766935Z",
     "shell.execute_reply": "2022-07-22T09:51:57.765813Z"
    },
    "papermill": {
     "duration": 1.909828,
     "end_time": "2022-07-22T09:51:57.771568",
     "exception": false,
     "start_time": "2022-07-22T09:51:55.861740",
     "status": "completed"
    },
    "tags": []
   },
   "outputs": [
    {
     "data": {
      "application/scrapbook.scrap.json+json": {
       "data": 0.786207237905066,
       "encoder": "json",
       "name": "ABC-GAN Model 1 MSE",
       "version": 1
      }
     },
     "metadata": {
      "scrapbook": {
       "data": true,
       "display": false,
       "name": "ABC-GAN Model 1 MSE"
      }
     },
     "output_type": "display_data"
    },
    {
     "data": {
      "application/scrapbook.scrap.json+json": {
       "data": 0.7032546685300768,
       "encoder": "json",
       "name": "ABC-GAN Model 1 MAE",
       "version": 1
      }
     },
     "metadata": {
      "scrapbook": {
       "data": true,
       "display": false,
       "name": "ABC-GAN Model 1 MAE"
      }
     },
     "output_type": "display_data"
    },
    {
     "data": {
      "application/scrapbook.scrap.json+json": {
       "data": 14.065093370601534,
       "encoder": "json",
       "name": "ABC-GAN Model 1 Manhattan Distance",
       "version": 1
      }
     },
     "metadata": {
      "scrapbook": {
       "data": true,
       "display": false,
       "name": "ABC-GAN Model 1 Manhattan Distance"
      }
     },
     "output_type": "display_data"
    },
    {
     "data": {
      "application/scrapbook.scrap.json+json": {
       "data": 3.9572776193669394,
       "encoder": "json",
       "name": "ABC-GAN Model 1 Euclidean distance",
       "version": 1
      }
     },
     "metadata": {
      "scrapbook": {
       "data": true,
       "display": false,
       "name": "ABC-GAN Model 1 Euclidean distance"
      }
     },
     "output_type": "display_data"
    },
    {
     "data": {
      "application/scrapbook.scrap.json+json": {
       "data": [
        [
         0.8487285888380031,
         0.9240242535514943,
         0.643887573359993,
         0.9793609665167875,
         0.6637874934272194,
         0.8258476156109923,
         0.7550374958722121,
         1.0094052694076285,
         0.8146386335978033,
         0.7518123455909006,
         0.6310941873707389,
         0.7925375695091026,
         0.9097736588086555,
         0.5909695401122775,
         0.7765977392448622,
         0.6603703996115738,
         0.6982189645794009,
         0.8090588260126121,
         0.7602476135684523,
         0.6375927123995063,
         0.8755299417149583,
         0.8051727391403452,
         0.8237470326244856,
         0.7108209569700892,
         0.8584832382518446,
         0.5817276898590691,
         0.8755685980733416,
         0.6869478764461524,
         0.8693297336846995,
         0.758595249862493,
         0.8098581940375773,
         0.7663147491620091,
         0.6414591533575367,
         0.9411112207675215,
         0.7321967216002958,
         0.6889698784815993,
         0.739390295192197,
         0.7683971388195905,
         0.8845627007317873,
         0.9619628734988446,
         0.8053839344705274,
         0.6636647621763138,
         0.7175912418072559,
         0.7304470166224556,
         0.8983838446426983,
         0.6693752396790164,
         0.9019470418725799,
         0.802702397665836,
         0.8826963987702108,
         0.7962831570158396,
         0.8165143742984092,
         0.7574179718197136,
         0.7431747256484484,
         0.7906352759949685,
         0.7451070188786659,
         0.9734709147709368,
         0.8286390473064204,
         0.7672918925492271,
         0.7327143130869493,
         0.7409506606969525,
         0.9315805505925343,
         0.8597268726725813,
         0.8291890584735508,
         0.9137435148487135,
         0.6430313004668452,
         1.017656565573299,
         0.7432695642012046,
         0.7337012944121944,
         0.8376052686305115,
         1.010733963791321,
         0.7123457188986182,
         0.686439563433904,
         0.6963206978609314,
         0.9194846843771041,
         0.9231102175989712,
         0.9316451781935026,
         0.815231003276871,
         0.7430421124497671,
         0.8161428034469791,
         0.8111939492264796,
         0.6333088576202675,
         0.6462699863901101,
         0.7241290202081049,
         0.7132058228883214,
         0.7041219881795755,
         0.7573109641413354,
         0.8302806587470466,
         0.6680126512348776,
         0.8212992952791758,
         0.6623834878683376,
         0.6790909718596951,
         0.9699831111723665,
         0.8702833344191246,
         0.7982115131052779,
         0.7638854805243636,
         0.6666161862750759,
         0.8016594062825533,
         0.8239931979471968,
         0.7939017263585657,
         0.6900535885392622
        ],
        [
         0.6970717454794795,
         0.7587555321399122,
         0.6227008687797934,
         0.7986618878785521,
         0.6435134744737298,
         0.7051009791437537,
         0.6622059973422438,
         0.8427302079740912,
         0.7152594106737524,
         0.7188293209765106,
         0.6582285905722529,
         0.7045168497134,
         0.7456037266645581,
         0.5854767943266779,
         0.6821188288275153,
         0.5977408411446958,
         0.6716760578099639,
         0.7420409741345793,
         0.7007666783872992,
         0.6078865418676287,
         0.7388074910733848,
         0.7564674200955779,
         0.7495216528419405,
         0.7031817766372115,
         0.6735424610320478,
         0.606013877177611,
         0.7383518102113158,
         0.6136561042163521,
         0.7339379253331572,
         0.700693683559075,
         0.6913159283343703,
         0.7255148696247489,
         0.604453161591664,
         0.7781412447337062,
         0.7186496468726545,
         0.6679422768298536,
         0.6925077887717634,
         0.7690714756492525,
         0.7224420512560755,
         0.8398107210639865,
         0.7257251980248839,
         0.641299323970452,
         0.6741343493107707,
         0.7376402816269547,
         0.6398043400142341,
         0.6621109312865883,
         0.7874524252954871,
         0.7550414475146681,
         0.7766576430294663,
         0.6968646305147559,
         0.6492332080844789,
         0.6668703163508326,
         0.6124284813646227,
         0.7440004999283701,
         0.700539285177365,
         0.7946403908077627,
         0.737417962634936,
         0.6870369287673384,
         0.6885722989682108,
         0.6842455531004816,
         0.7986941965762526,
         0.722809990728274,
         0.7624704277608544,
         0.7453864844981581,
         0.6583334176335484,
         0.8226156352553516,
         0.7186684230808169,
         0.6994244160596281,
         0.6564349616412073,
         0.7593521299306303,
         0.6665487053338438,
         0.6729773501399905,
         0.6290312419179827,
         0.6906007806304842,
         0.7607741246465594,
         0.8021466816309839,
         0.6873198355082423,
         0.6822680997196585,
         0.747359854215756,
         0.7272077637258917,
         0.6173008727375418,
         0.6279457962606102,
         0.6890308524016291,
         0.6571749950293452,
         0.6627531046513468,
         0.7380180353764445,
         0.7562748900149018,
         0.6384699220303446,
         0.7729911389295012,
         0.6390954582486301,
         0.6652526723686606,
         0.8480871664825826,
         0.7167464303318412,
         0.6813495913986116,
         0.6273859391454607,
         0.6263012031558901,
         0.705198664823547,
         0.7793781402055174,
         0.7063960114959628,
         0.6132672762963921
        ],
        [
         13.941434909589589,
         15.175110642798245,
         12.454017375595868,
         15.973237757571042,
         12.870269489474595,
         14.102019582875073,
         13.244119946844876,
         16.854604159481823,
         14.305188213475049,
         14.376586419530213,
         13.164571811445057,
         14.090336994268,
         14.912074533291161,
         11.709535886533558,
         13.642376576550305,
         11.954816822893918,
         13.433521156199276,
         14.840819482691586,
         14.015333567745984,
         12.157730837352574,
         14.776149821467698,
         15.129348401911557,
         14.99043305683881,
         14.063635532744229,
         13.470849220640957,
         12.12027754355222,
         14.767036204226315,
         12.273122084327042,
         14.678758506663144,
         14.0138736711815,
         13.826318566687405,
         14.510297392494977,
         12.08906323183328,
         15.562824894674122,
         14.372992937453091,
         13.358845536597073,
         13.850155775435269,
         15.38142951298505,
         14.44884102512151,
         16.79621442127973,
         14.514503960497677,
         12.825986479409039,
         13.482686986215413,
         14.752805632539093,
         12.796086800284684,
         13.242218625731766,
         15.749048505909741,
         15.100828950293362,
         15.533152860589325,
         13.937292610295117,
         12.98466416168958,
         13.337406327016652,
         12.248569627292454,
         14.880009998567402,
         14.010785703547299,
         15.892807816155255,
         14.74835925269872,
         13.740738575346768,
         13.771445979364216,
         13.684911062009633,
         15.973883931525052,
         14.45619981456548,
         15.249408555217087,
         14.907729689963162,
         13.166668352670968,
         16.452312705107033,
         14.373368461616337,
         13.988488321192563,
         13.128699232824147,
         15.187042598612607,
         13.330974106676877,
         13.459547002799809,
         12.580624838359654,
         13.812015612609684,
         15.215482492931187,
         16.04293363261968,
         13.746396710164845,
         13.64536199439317,
         14.947197084315121,
         14.544155274517834,
         12.346017454750836,
         12.558915925212204,
         13.780617048032582,
         13.143499900586903,
         13.255062093026936,
         14.76036070752889,
         15.125497800298035,
         12.769398440606892,
         15.459822778590024,
         12.781909164972603,
         13.305053447373211,
         16.961743329651654,
         14.334928606636822,
         13.626991827972233,
         12.547718782909214,
         12.526024063117802,
         14.10397329647094,
         15.587562804110348,
         14.127920229919255,
         12.265345525927842
        ],
        [
         4.120020846641442,
         4.298893470537492,
         3.588558410727052,
         4.425745059347154,
         3.6435902443255594,
         4.064105352007973,
         3.8859683371643987,
         4.493117557793538,
         4.036430684646532,
         3.8776599788813373,
         3.552729056291062,
         3.981300213520961,
         4.265615216609804,
         3.437934089281752,
         3.9410601092722812,
         3.634199773296933,
         3.736894337760705,
         4.022583314271096,
         3.8993528016029844,
         3.5709738514850713,
         4.1845667439173635,
         4.012911011074991,
         4.05893343779985,
         3.770466700476452,
         4.143629419366178,
         3.410946173304613,
         4.184659121298512,
         3.706609977988384,
         4.169723572815587,
         3.8951129633490558,
         4.024570024331984,
         3.914881222111366,
         3.5817848996206814,
         4.338458760360692,
         3.8267393995418497,
         3.712061094544645,
         3.845491633568319,
         3.9201967777640716,
         4.206097242650928,
         4.386257797938567,
         4.013437266161083,
         3.643253387224978,
         3.788380239118707,
         3.822164351836419,
         4.2388296607500004,
         3.6588939303538615,
         4.247227429447544,
         4.006750298348615,
         4.201657765145112,
         3.990697074486711,
         4.0410750408731815,
         3.892089340751863,
         3.855320286690714,
         3.976519271913487,
         3.860329050427349,
         4.412416378291915,
         4.070968060072248,
         3.917376398941585,
         3.8280917258784415,
         3.849547144007857,
         4.316434988720517,
         4.146629649902632,
         4.072318893391211,
         4.274911729728963,
         3.586171497479855,
         4.51144448170051,
         3.855566272809234,
         3.8306691175620857,
         4.092933590056187,
         4.496073762275973,
         3.7745084948867667,
         3.7052383551774475,
         3.7318110827343105,
         4.288320613893285,
         4.296766732320876,
         4.316584710609772,
         4.037897976117947,
         3.854976296813684,
         4.040155451085957,
         4.027887657883421,
         3.5589573125292397,
         3.5951911948882778,
         3.8055985605633835,
         3.776786525310429,
         3.752657693367663,
         3.8918143947041854,
         4.074998549072249,
         3.6551679885741986,
         4.052898457349198,
         3.6397348471237225,
         3.685352009943406,
         4.4045047648342175,
         4.1720099099094305,
         3.9955262809929755,
         3.90867107985403,
         3.651345467838057,
         4.004146366661821,
         4.059539870347862,
         3.9847251507690356,
         3.7149793768990484
        ]
       ],
       "encoder": "json",
       "name": "ABC_GAN_2 Metrics",
       "version": 1
      }
     },
     "metadata": {
      "scrapbook": {
       "data": true,
       "display": false,
       "name": "ABC_GAN_2 Metrics"
      }
     },
     "output_type": "display_data"
    },
    {
     "name": "stdout",
     "output_type": "stream",
     "text": [
      "MAE\n",
      "0.7032546685300768\n"
     ]
    }
   ],
   "source": [
    "ABC_GAN2_metrics=ABC_train_test2.test_generator(gen2,test_data,prior_model,variance,bias,\"1\",device)\n",
    "sb.glue(\"ABC_GAN_2 Metrics\",ABC_GAN2_metrics)\n",
    "\n",
    "print(\"MAE\")\n",
    "print(mean(ABC_GAN2_metrics[1]))"
   ]
  },
  {
   "cell_type": "code",
   "execution_count": 18,
   "id": "2e2ef2ae",
   "metadata": {
    "execution": {
     "iopub.execute_input": "2022-07-22T09:51:57.816146Z",
     "iopub.status.busy": "2022-07-22T09:51:57.815581Z",
     "iopub.status.idle": "2022-07-22T09:51:58.726129Z",
     "shell.execute_reply": "2022-07-22T09:51:58.724781Z"
    },
    "papermill": {
     "duration": 0.937215,
     "end_time": "2022-07-22T09:51:58.729653",
     "exception": false,
     "start_time": "2022-07-22T09:51:57.792438",
     "status": "completed"
    },
    "tags": []
   },
   "outputs": [
    {
     "data": {
      "image/png": "[encoded data removed]",
      "text/plain": [
       "<Figure size 432x288 with 1 Axes>"
      ]
     },
     "metadata": {
      "needs_background": "light"
     },
     "output_type": "display_data"
    },
    {
     "data": {
      "image/png": "[encoded data removed]",
      "text/plain": [
       "<Figure size 432x288 with 1 Axes>"
      ]
     },
     "metadata": {
      "needs_background": "light"
     },
     "output_type": "display_data"
    },
    {
     "data": {
      "image/png": "[encoded data removed]",
      "text/plain": [
       "<Figure size 432x288 with 1 Axes>"
      ]
     },
     "metadata": {
      "needs_background": "light"
     },
     "output_type": "display_data"
    },
    {
     "data": {
      "image/png": "[encoded data removed]",
      "text/plain": [
       "<Figure size 432x288 with 1 Axes>"
      ]
     },
     "metadata": {
      "needs_background": "light"
     },
     "output_type": "display_data"
    }
   ],
   "source": [
    "sanityChecks.discProbVsError(train_data,disc2,device)\n",
    "sanityChecks.discProbVsError(test_data,disc2,device)"
   ]
  },
  {
   "cell_type": "markdown",
   "id": "130f3a4d",
   "metadata": {
    "id": "130f3a4d",
    "papermill": {
     "duration": 0.022557,
     "end_time": "2022-07-22T09:51:58.775868",
     "exception": false,
     "start_time": "2022-07-22T09:51:58.753311",
     "status": "completed"
    },
    "tags": []
   },
   "source": [
    "# skipGAN Model"
   ]
  },
  {
   "cell_type": "code",
   "execution_count": 19,
   "id": "4e43dad1",
   "metadata": {
    "execution": {
     "iopub.execute_input": "2022-07-22T09:51:58.824674Z",
     "iopub.status.busy": "2022-07-22T09:51:58.823436Z",
     "iopub.status.idle": "2022-07-22T09:51:58.829347Z",
     "shell.execute_reply": "2022-07-22T09:51:58.828358Z"
    },
    "id": "4e43dad1",
    "papermill": {
     "duration": 0.036575,
     "end_time": "2022-07-22T09:51:58.835271",
     "exception": false,
     "start_time": "2022-07-22T09:51:58.798696",
     "status": "completed"
    },
    "tags": []
   },
   "outputs": [],
   "source": [
    "# #Generator\n",
    "# gen3 = network.GeneratorWithSkipConnection(n_features+1).to(device)\n",
    "# constraints=network.weightConstraint()\n",
    "# #Discriminator \n",
    "# disc3 = network.Discriminator(n_features+1).to(device)\n",
    "\n",
    "# criterion = torch.nn.BCELoss()\n",
    "# gen_opt = torch.optim.Adam(gen3.parameters(), lr=0.01, betas=(0.5, 0.999))\n",
    "# disc_opt = torch.optim.Adam(disc3.parameters(), lr=0.01, betas=(0.5, 0.999))\n"
   ]
  },
  {
   "cell_type": "code",
   "execution_count": 20,
   "id": "26acbc37",
   "metadata": {
    "execution": {
     "iopub.execute_input": "2022-07-22T09:51:58.888540Z",
     "iopub.status.busy": "2022-07-22T09:51:58.888128Z",
     "iopub.status.idle": "2022-07-22T09:51:58.893207Z",
     "shell.execute_reply": "2022-07-22T09:51:58.891913Z"
    },
    "id": "26acbc37",
    "papermill": {
     "duration": 0.03769,
     "end_time": "2022-07-22T09:51:58.896477",
     "exception": false,
     "start_time": "2022-07-22T09:51:58.858787",
     "status": "completed"
    },
    "tags": []
   },
   "outputs": [],
   "source": [
    "# ABC_train_test2.training_GAN_skip_connection(disc3,gen3,disc_opt,gen_opt,train_data,batch_size,n_epochs,criterion,prior_model,variance,bias,device)"
   ]
  },
  {
   "cell_type": "code",
   "execution_count": 21,
   "id": "c5e0717b",
   "metadata": {
    "execution": {
     "iopub.execute_input": "2022-07-22T09:51:58.950083Z",
     "iopub.status.busy": "2022-07-22T09:51:58.949061Z",
     "iopub.status.idle": "2022-07-22T09:51:58.953898Z",
     "shell.execute_reply": "2022-07-22T09:51:58.952814Z"
    },
    "id": "c5e0717b",
    "papermill": {
     "duration": 0.036577,
     "end_time": "2022-07-22T09:51:58.959847",
     "exception": false,
     "start_time": "2022-07-22T09:51:58.923270",
     "status": "completed"
    },
    "tags": []
   },
   "outputs": [],
   "source": [
    "# ABC_GAN3_metrics=ABC_train_test2.test_generator(gen3,test_data,prior_model,variance,bias,\"3\",device)\n",
    "# sb.glue(\"ABC_GAN_3 Metrics\",ABC_GAN3_metrics)\n",
    "\n",
    "# print(\"MAE\")\n",
    "# print(mean(ABC_GAN3_metrics[1]))"
   ]
  },
  {
   "cell_type": "code",
   "execution_count": 22,
   "id": "c8e46b48",
   "metadata": {
    "execution": {
     "iopub.execute_input": "2022-07-22T09:51:59.012018Z",
     "iopub.status.busy": "2022-07-22T09:51:59.011331Z",
     "iopub.status.idle": "2022-07-22T09:51:59.017244Z",
     "shell.execute_reply": "2022-07-22T09:51:59.016030Z"
    },
    "id": "c8e46b48",
    "papermill": {
     "duration": 0.035159,
     "end_time": "2022-07-22T09:51:59.021275",
     "exception": false,
     "start_time": "2022-07-22T09:51:58.986116",
     "status": "completed"
    },
    "tags": []
   },
   "outputs": [],
   "source": [
    "# sanityChecks.discProbVsError(train_data,disc3,device)\n",
    "# sanityChecks.discProbVsError(test_data,disc3,device)"
   ]
  },
  {
   "cell_type": "markdown",
   "id": "26607001",
   "metadata": {
    "id": "130f3a4d",
    "papermill": {
     "duration": 0.03351,
     "end_time": "2022-07-22T09:51:59.093061",
     "exception": false,
     "start_time": "2022-07-22T09:51:59.059551",
     "status": "completed"
    },
    "tags": []
   },
   "source": [
    "# skipGAN Model with TabNet Generator"
   ]
  },
  {
   "cell_type": "code",
   "execution_count": 23,
   "id": "431344cd",
   "metadata": {
    "execution": {
     "iopub.execute_input": "2022-07-22T09:51:59.164472Z",
     "iopub.status.busy": "2022-07-22T09:51:59.163809Z",
     "iopub.status.idle": "2022-07-22T09:51:59.187990Z",
     "shell.execute_reply": "2022-07-22T09:51:59.186967Z"
    },
    "id": "4e43dad1",
    "papermill": {
     "duration": 0.053735,
     "end_time": "2022-07-22T09:51:59.190783",
     "exception": false,
     "start_time": "2022-07-22T09:51:59.137048",
     "status": "completed"
    },
    "tags": []
   },
   "outputs": [],
   "source": [
    "#Generator\n",
    "gen4 = network.GeneratorTabnetskipConnection(n_features+1).to(device)\n",
    "constraints=network.weightConstraint()\n",
    "#Discriminator \n",
    "disc4 = network.Discriminator(n_features+1).to(device)\n",
    "\n",
    "criterion = torch.nn.BCELoss()\n",
    "gen_opt = torch.optim.Adam(gen4.parameters(), lr=0.001, betas=(0.5, 0.999))\n",
    "disc_opt = torch.optim.Adam(disc4.parameters(), lr=0.001, betas=(0.5, 0.999))\n"
   ]
  },
  {
   "cell_type": "code",
   "execution_count": 24,
   "id": "613c538d",
   "metadata": {
    "execution": {
     "iopub.execute_input": "2022-07-22T09:51:59.240903Z",
     "iopub.status.busy": "2022-07-22T09:51:59.240241Z",
     "iopub.status.idle": "2022-07-22T09:55:23.538704Z",
     "shell.execute_reply": "2022-07-22T09:55:23.537600Z"
    },
    "id": "26acbc37",
    "papermill": {
     "duration": 204.327957,
     "end_time": "2022-07-22T09:55:23.541779",
     "exception": false,
     "start_time": "2022-07-22T09:51:59.213822",
     "status": "completed"
    },
    "tags": []
   },
   "outputs": [
    {
     "data": {
      "image/png": "[encoded data removed]",
      "text/plain": [
       "<Figure size 432x288 with 1 Axes>"
      ]
     },
     "metadata": {
      "needs_background": "light"
     },
     "output_type": "display_data"
    },
    {
     "data": {
      "image/png": "[encoded data removed]",
      "text/plain": [
       "<Figure size 432x288 with 1 Axes>"
      ]
     },
     "metadata": {
      "needs_background": "light"
     },
     "output_type": "display_data"
    }
   ],
   "source": [
    "ABC_train_test2.training_GAN_skip_connection(disc4,gen4,disc_opt,gen_opt,train_data,batch_size,n_epochs,criterion,prior_model,variance,bias,device)"
   ]
  },
  {
   "cell_type": "code",
   "execution_count": 25,
   "id": "dec9f898",
   "metadata": {
    "execution": {
     "iopub.execute_input": "2022-07-22T09:55:23.594166Z",
     "iopub.status.busy": "2022-07-22T09:55:23.593621Z",
     "iopub.status.idle": "2022-07-22T09:55:25.774498Z",
     "shell.execute_reply": "2022-07-22T09:55:25.773620Z"
    },
    "id": "c5e0717b",
    "papermill": {
     "duration": 2.210112,
     "end_time": "2022-07-22T09:55:25.777429",
     "exception": false,
     "start_time": "2022-07-22T09:55:23.567317",
     "status": "completed"
    },
    "tags": []
   },
   "outputs": [
    {
     "data": {
      "application/scrapbook.scrap.json+json": {
       "data": 0.34970861823193616,
       "encoder": "json",
       "name": "ABC-GAN Model 3 MSE",
       "version": 1
      }
     },
     "metadata": {
      "scrapbook": {
       "data": true,
       "display": false,
       "name": "ABC-GAN Model 3 MSE"
      }
     },
     "output_type": "display_data"
    },
    {
     "data": {
      "application/scrapbook.scrap.json+json": {
       "data": 0.5291332102408632,
       "encoder": "json",
       "name": "ABC-GAN Model 3 MAE",
       "version": 1
      }
     },
     "metadata": {
      "scrapbook": {
       "data": true,
       "display": false,
       "name": "ABC-GAN Model 3 MAE"
      }
     },
     "output_type": "display_data"
    },
    {
     "data": {
      "application/scrapbook.scrap.json+json": {
       "data": 10.582664204817265,
       "encoder": "json",
       "name": "ABC-GAN Model 3 Manhattan Distance",
       "version": 1
      }
     },
     "metadata": {
      "scrapbook": {
       "data": true,
       "display": false,
       "name": "ABC-GAN Model 3 Manhattan Distance"
      }
     },
     "output_type": "display_data"
    },
    {
     "data": {
      "application/scrapbook.scrap.json+json": {
       "data": 2.642262493470014,
       "encoder": "json",
       "name": "ABC-GAN Model 3 Euclidean distance",
       "version": 1
      }
     },
     "metadata": {
      "scrapbook": {
       "data": true,
       "display": false,
       "name": "ABC-GAN Model 3 Euclidean distance"
      }
     },
     "output_type": "display_data"
    },
    {
     "data": {
      "application/scrapbook.scrap.json+json": {
       "data": [
        [
         0.3557446420636399,
         0.3927266711873311,
         0.31573983192390426,
         0.38459391799504516,
         0.35863510686914146,
         0.35230734012822973,
         0.34354834502503967,
         0.3592817532959087,
         0.36396684719272254,
         0.3788562116176341,
         0.3022511529601165,
         0.3334434251767546,
         0.3494112422957732,
         0.3924869785700006,
         0.31739377781705813,
         0.32647434428919486,
         0.36982406953581237,
         0.3769221520511441,
         0.38275731719347794,
         0.37788738185978654,
         0.3299042066689776,
         0.37577267757151916,
         0.337346282409788,
         0.3360349778441082,
         0.36868470890531013,
         0.3453861988458521,
         0.38516947093965864,
         0.3404385621733293,
         0.30149219739489475,
         0.3438931223731959,
         0.312555010921057,
         0.3761761844085439,
         0.354034729496879,
         0.324197474078761,
         0.35972465972892864,
         0.3362094247766536,
         0.34618923335330837,
         0.36864279652188514,
         0.34368595744039787,
         0.36610839505196624,
         0.36370297869060636,
         0.37048658220412634,
         0.37892822386615665,
         0.3850065408340977,
         0.36961306024737006,
         0.35685576481390147,
         0.3580665997015488,
         0.35605393991796586,
         0.3715506949717434,
         0.3840928469987716,
         0.3498274083282303,
         0.39453090228304,
         0.33108140484338544,
         0.379643339359453,
         0.35275372417526396,
         0.30266732493683424,
         0.3346619879092992,
         0.34809624969243924,
         0.34203855011823453,
         0.33185000972726125,
         0.2881653414077464,
         0.28965281995886444,
         0.3581422781800513,
         0.2989269096282254,
         0.33771841179527995,
         0.30266351204862135,
         0.30020529600586565,
         0.34379020767681306,
         0.35626003177105914,
         0.3139878326998648,
         0.3666528671722114,
         0.3857294861317476,
         0.386794860289314,
         0.3225186792587228,
         0.3342853074967426,
         0.3367665605278515,
         0.4251736999274103,
         0.34978793369318184,
         0.32722125659630824,
         0.3383732788349899,
         0.3817091900911488,
         0.3364620141614493,
         0.3115435644097627,
         0.3227363442120364,
         0.35432524493703876,
         0.3645982090103053,
         0.3890101343729059,
         0.3520871961942912,
         0.37849520863659847,
         0.3730405425610193,
         0.3051472912917421,
         0.3416879012369337,
         0.35156674823647843,
         0.24236557189094712,
         0.3266958197427228,
         0.36041615612078215,
         0.3417339060878578,
         0.40588117993398604,
         0.3660671383797671,
         0.3550689770125128
        ],
        [
         0.5507520963903516,
         0.5580938031431287,
         0.5023161227349192,
         0.5360733608249575,
         0.5241880337242038,
         0.530657003307715,
         0.5236795912031085,
         0.5396219635847956,
         0.5353598708752543,
         0.5612255548592657,
         0.49538691439665855,
         0.5275703484658152,
         0.5236149156931788,
         0.5524760807398706,
         0.5216468865517527,
         0.5006552035454661,
         0.5491858417633921,
         0.5421850169543176,
         0.5656105528119951,
         0.5315927495714277,
         0.5192296514753252,
         0.5496345455292613,
         0.5291547978762537,
         0.5214591438416392,
         0.5524271244648844,
         0.520820556068793,
         0.5542002434376627,
         0.516411309922114,
         0.49435967751778664,
         0.5220809211488813,
         0.5021328414324671,
         0.5500510449055582,
         0.5262943779584021,
         0.5235378856305033,
         0.5451938087586313,
         0.491939919674769,
         0.5329708332661539,
         0.5272175932768732,
         0.499209708487615,
         0.5373264456633479,
         0.5423274541739375,
         0.5414879550691694,
         0.5559317047242075,
         0.5430469656828791,
         0.5348197767976671,
         0.5315573687199503,
         0.5367760976310819,
         0.5239270860794931,
         0.5481194878462702,
         0.5502588430885226,
         0.5324046189431101,
         0.5720301026944071,
         0.5074279064778239,
         0.5380409916397184,
         0.5386685485485941,
         0.4834493512753397,
         0.5304746771696955,
         0.524359422409907,
         0.5147407198790461,
         0.511386194312945,
         0.4917221660260111,
         0.4828725958708674,
         0.5265845964197069,
         0.5094589883927256,
         0.5215346778277308,
         0.49874435462988914,
         0.48749174722470345,
         0.5284117678645999,
         0.5459511692170054,
         0.5111176992300898,
         0.5388654401060193,
         0.5322959969285875,
         0.5722612644080073,
         0.49315898665227,
         0.5313544119242579,
         0.5301579991821199,
         0.5920433307532221,
         0.5301555986050517,
         0.5181109095457941,
         0.5146902466658503,
         0.5421027655247599,
         0.5201698327902704,
         0.49604995348490777,
         0.512598809087649,
         0.524495498323813,
         0.5425829341169447,
         0.5661885792855174,
         0.5063453043345362,
         0.5644972523208708,
         0.558727395022288,
         0.48912842967547476,
         0.5388223344925791,
         0.5406943316105753,
         0.44779235222376884,
         0.5209248478058726,
         0.540866985404864,
         0.530559309804812,
         0.5779303511139006,
         0.5541479552630335,
         0.5329322402831167
        ],
        [
         11.015041927807033,
         11.161876062862575,
         10.046322454698384,
         10.72146721649915,
         10.483760674484074,
         10.613140066154301,
         10.473591824062169,
         10.792439271695912,
         10.707197417505085,
         11.224511097185314,
         9.90773828793317,
         10.551406969316304,
         10.472298313863575,
         11.049521614797413,
         10.432937731035054,
         10.013104070909321,
         10.983716835267842,
         10.843700339086354,
         11.312211056239903,
         10.631854991428554,
         10.384593029506505,
         10.992690910585225,
         10.583095957525074,
         10.429182876832783,
         11.048542489297688,
         10.416411121375859,
         11.084004868753254,
         10.32822619844228,
         9.887193550355732,
         10.441618422977626,
         10.042656828649342,
         11.001020898111165,
         10.52588755916804,
         10.470757712610066,
         10.903876175172627,
         9.83879839349538,
         10.659416665323079,
         10.544351865537465,
         9.9841941697523,
         10.746528913266957,
         10.846549083478749,
         10.829759101383388,
         11.11863409448415,
         10.860939313657582,
         10.696395535953343,
         10.631147374399006,
         10.735521952621639,
         10.478541721589863,
         10.962389756925404,
         11.005176861770451,
         10.648092378862202,
         11.440602053888142,
         10.148558129556477,
         10.760819832794368,
         10.773370970971882,
         9.668987025506794,
         10.60949354339391,
         10.48718844819814,
         10.294814397580922,
         10.2277238862589,
         9.834443320520222,
         9.657451917417347,
         10.531691928394139,
         10.189179767854512,
         10.430693556554615,
         9.974887092597783,
         9.749834944494069,
         10.568235357291996,
         10.919023384340107,
         10.222353984601796,
         10.777308802120388,
         10.645919938571751,
         11.445225288160145,
         9.8631797330454,
         10.627088238485157,
         10.6031599836424,
         11.840866615064442,
         10.603111972101033,
         10.362218190915883,
         10.293804933317006,
         10.842055310495198,
         10.403396655805409,
         9.920999069698155,
         10.25197618175298,
         10.489909966476262,
         10.851658682338893,
         11.323771585710347,
         10.126906086690724,
         11.289945046417415,
         11.17454790044576,
         9.782568593509495,
         10.776446689851582,
         10.813886632211506,
         8.955847044475377,
         10.418496956117451,
         10.817339708097279,
         10.611186196096241,
         11.55860702227801,
         11.08295910526067,
         10.658644805662334
        ],
        [
         2.667375646824571,
         2.8025940526138675,
         2.512925911856154,
         2.773423581045799,
         2.67819008611839,
         2.6544579112437616,
         2.621252925701904,
         2.680603489126688,
         2.698024637369802,
         2.752657667119666,
         2.458662860011988,
         2.582415246147508,
         2.6435250794943226,
         2.8017386693622965,
         2.5194990685334977,
         2.5552860673090785,
         2.7196472916016603,
         2.745622523403915,
         2.7667935130525296,
         2.749135798245647,
         2.568673613634,
         2.7414327552267963,
         2.5974844846881684,
         2.592431205814759,
         2.7154546908586417,
         2.6282549299710336,
         2.775498048782087,
         2.6093622292557592,
         2.4555740566918143,
         2.6225679109346087,
         2.5002200340012357,
         2.7429042433469815,
         2.660957457370858,
         2.5463600455503577,
         2.682255244114283,
         2.59310402713294,
         2.631308546534626,
         2.7153003389013346,
         2.62177786030929,
         2.705950461675033,
         2.6970464537734844,
         2.722082225812168,
         2.752919264584985,
         2.7749109565321106,
         2.718871310847095,
         2.671538002027676,
         2.6760665152478884,
         2.6685349535577227,
         2.7259886095570667,
         2.7716163046091773,
         2.6450988954223633,
         2.8090243939241253,
         2.573252435511858,
         2.7555157025843746,
         2.6561390181060327,
         2.4603549538098535,
         2.5871296369115298,
         2.6385459999493635,
         2.6154867620320106,
         2.5762376044428095,
         2.4006888236826796,
         2.406876897387419,
         2.676349297756372,
         2.445104945102461,
         2.598916742780653,
         2.460339456451574,
         2.45032771688142,
         2.622175462004071,
         2.6693071452010133,
         2.5059442639446905,
         2.7079618430554424,
         2.777515026536302,
         2.781348091445276,
         2.5397585682844848,
         2.5856732488724967,
         2.5952516661312504,
         2.916071672395623,
         2.644949654315491,
         2.5582074059634343,
         2.6014352916610854,
         2.763002678576873,
         2.5940779254349677,
         2.496171325889963,
         2.540615453830179,
         2.6620490038203233,
         2.700363712577642,
         2.7893014694468072,
         2.6536284449571728,
         2.7513458838779195,
         2.7314484895784483,
         2.4704141000720594,
         2.61414575430267,
         2.6516664505042047,
         2.201661063338075,
         2.556152654841736,
         2.684832047338463,
         2.6143217326406396,
         2.8491443625551374,
         2.7057979909068126,
         2.664841372436689
        ]
       ],
       "encoder": "json",
       "name": "ABC_GAN_4 Metrics",
       "version": 1
      }
     },
     "metadata": {
      "scrapbook": {
       "data": true,
       "display": false,
       "name": "ABC_GAN_4 Metrics"
      }
     },
     "output_type": "display_data"
    },
    {
     "name": "stdout",
     "output_type": "stream",
     "text": [
      "MAE\n",
      "0.5291332102408632\n"
     ]
    }
   ],
   "source": [
    "ABC_GAN4_metrics=ABC_train_test2.test_generator(gen4,test_data,prior_model,variance,bias,\"3\",device)\n",
    "sb.glue(\"ABC_GAN_4 Metrics\",ABC_GAN4_metrics)\n",
    "\n",
    "print(\"MAE\")\n",
    "print(mean(ABC_GAN4_metrics[1]))"
   ]
  },
  {
   "cell_type": "code",
   "execution_count": 26,
   "id": "49852c96",
   "metadata": {
    "execution": {
     "iopub.execute_input": "2022-07-22T09:55:25.833369Z",
     "iopub.status.busy": "2022-07-22T09:55:25.832748Z",
     "iopub.status.idle": "2022-07-22T09:55:27.174509Z",
     "shell.execute_reply": "2022-07-22T09:55:27.173497Z"
    },
    "id": "c8e46b48",
    "papermill": {
     "duration": 1.372758,
     "end_time": "2022-07-22T09:55:27.177475",
     "exception": false,
     "start_time": "2022-07-22T09:55:25.804717",
     "status": "completed"
    },
    "tags": []
   },
   "outputs": [
    {
     "data": {
      "image/png": "[encoded data removed]",
      "text/plain": [
       "<Figure size 432x288 with 1 Axes>"
      ]
     },
     "metadata": {
      "needs_background": "light"
     },
     "output_type": "display_data"
    },
    {
     "data": {
      "image/png": "[encoded data removed]",
      "text/plain": [
       "<Figure size 432x288 with 1 Axes>"
      ]
     },
     "metadata": {
      "needs_background": "light"
     },
     "output_type": "display_data"
    },
    {
     "data": {
      "image/png": "[encoded data removed]",
      "text/plain": [
       "<Figure size 432x288 with 1 Axes>"
      ]
     },
     "metadata": {
      "needs_background": "light"
     },
     "output_type": "display_data"
    },
    {
     "data": {
      "image/png": "[encoded data removed]",
      "text/plain": [
       "<Figure size 432x288 with 1 Axes>"
      ]
     },
     "metadata": {
      "needs_background": "light"
     },
     "output_type": "display_data"
    }
   ],
   "source": [
    "sanityChecks.discProbVsError(train_data,disc4,device)\n",
    "sanityChecks.discProbVsError(test_data,disc4,device)"
   ]
  },
  {
   "cell_type": "markdown",
   "id": "a5bd74c3",
   "metadata": {
    "id": "a5bd74c3",
    "papermill": {
     "duration": 0.027678,
     "end_time": "2022-07-22T09:55:27.237219",
     "exception": false,
     "start_time": "2022-07-22T09:55:27.209541",
     "status": "completed"
    },
    "tags": []
   },
   "source": [
    "## Skip Connection Model Analysis - ABC-GAN "
   ]
  },
  {
   "cell_type": "markdown",
   "id": "5744a8bf",
   "metadata": {
    "id": "5744a8bf",
    "papermill": {
     "duration": 0.031638,
     "end_time": "2022-07-22T09:55:27.302687",
     "exception": false,
     "start_time": "2022-07-22T09:55:27.271049",
     "status": "completed"
    },
    "tags": []
   },
   "source": [
    "### Weight Analysis \n",
    "\n",
    "Study the weights of the skip connection layer\n",
    "\n",
    "Equation of the skip connection is \n",
    "\n",
    "$output = y_{gan} * w + y_{abc} * (1-w)$"
   ]
  },
  {
   "cell_type": "code",
   "execution_count": 27,
   "id": "52c31dea",
   "metadata": {
    "execution": {
     "iopub.execute_input": "2022-07-22T09:55:27.362261Z",
     "iopub.status.busy": "2022-07-22T09:55:27.361806Z",
     "iopub.status.idle": "2022-07-22T09:55:27.368587Z",
     "shell.execute_reply": "2022-07-22T09:55:27.365332Z"
    },
    "id": "52c31dea",
    "papermill": {
     "duration": 0.040369,
     "end_time": "2022-07-22T09:55:27.372199",
     "exception": false,
     "start_time": "2022-07-22T09:55:27.331830",
     "status": "completed"
    },
    "tags": []
   },
   "outputs": [],
   "source": [
    "# print(\"Weight of the node at skip connection\")\n",
    "# for name,param in gen3.named_parameters():\n",
    "#     if(name == \"skipNode.weight\"):\n",
    "#         print(param)\n",
    "#         sb.glue(\"Skip Connection Weight\",param.item())"
   ]
  },
  {
   "cell_type": "markdown",
   "id": "9a894654",
   "metadata": {
    "id": "a5bd74c3",
    "papermill": {
     "duration": 0.028249,
     "end_time": "2022-07-22T09:55:27.429042",
     "exception": false,
     "start_time": "2022-07-22T09:55:27.400793",
     "status": "completed"
    },
    "tags": []
   },
   "source": [
    "## skipGAN Model Analysis (TabNet Generator) "
   ]
  },
  {
   "cell_type": "markdown",
   "id": "ee23a926",
   "metadata": {
    "id": "5744a8bf",
    "papermill": {
     "duration": 0.028554,
     "end_time": "2022-07-22T09:55:27.487055",
     "exception": false,
     "start_time": "2022-07-22T09:55:27.458501",
     "status": "completed"
    },
    "tags": []
   },
   "source": [
    "### Weight Analysis \n",
    "\n",
    "Study the weights of the skip connection layer\n",
    "\n",
    "Equation of the skip connection is \n",
    "\n",
    "$output = y_{gan} * w + y_{abc} * (1-w)$"
   ]
  },
  {
   "cell_type": "code",
   "execution_count": 28,
   "id": "7fa2342a",
   "metadata": {
    "execution": {
     "iopub.execute_input": "2022-07-22T09:55:27.554296Z",
     "iopub.status.busy": "2022-07-22T09:55:27.553716Z",
     "iopub.status.idle": "2022-07-22T09:55:27.568552Z",
     "shell.execute_reply": "2022-07-22T09:55:27.567193Z"
    },
    "id": "52c31dea",
    "papermill": {
     "duration": 0.052837,
     "end_time": "2022-07-22T09:55:27.573756",
     "exception": false,
     "start_time": "2022-07-22T09:55:27.520919",
     "status": "completed"
    },
    "tags": []
   },
   "outputs": [
    {
     "name": "stdout",
     "output_type": "stream",
     "text": [
      "Weight of the node at skip connection\n",
      "Parameter containing:\n",
      "tensor([[0.1627]], requires_grad=True)\n"
     ]
    },
    {
     "data": {
      "application/scrapbook.scrap.json+json": {
       "data": 0.16272926330566406,
       "encoder": "json",
       "name": "Skip Connection Weight",
       "version": 1
      }
     },
     "metadata": {
      "scrapbook": {
       "data": true,
       "display": false,
       "name": "Skip Connection Weight"
      }
     },
     "output_type": "display_data"
    }
   ],
   "source": [
    "print(\"Weight of the node at skip connection\")\n",
    "for name,param in gen4.named_parameters():\n",
    "    if(name == \"skipNode.weight\"):\n",
    "        print(param)\n",
    "        sb.glue(\"Skip Connection Weight\",param.item())"
   ]
  }
 ],
 "metadata": {
  "colab": {
   "collapsed_sections": [],
   "name": "ABC_GAN_Model-Catboost_Pre-gen.ipynb",
   "provenance": []
  },
  "interpreter": {
   "hash": "31f2aee4e71d21fbe5cf8b01ff0e069b9275f58929596ceb00d14d90e3e16cd6"
  },
  "kernelspec": {
   "display_name": "Python 3 (ipykernel)",
   "language": "python",
   "name": "python3"
  },
  "language_info": {
   "codemirror_mode": {
    "name": "ipython",
    "version": 3
   },
   "file_extension": ".py",
   "mimetype": "text/x-python",
   "name": "python",
   "nbconvert_exporter": "python",
   "pygments_lexer": "ipython3",
   "version": "3.8.13"
  },
  "papermill": {
   "default_parameters": {},
   "duration": 431.772629,
   "end_time": "2022-07-22T09:55:28.370360",
   "environment_variables": {},
   "exception": null,
   "input_path": "ABC_GAN-TabNet.ipynb",
   "output_path": "./ABC_GAN_TabNet/ABC-GAN_output_2_1.ipynb",
   "parameters": {
    "bias": 1,
    "variance": 0.1
   },
   "start_time": "2022-07-22T09:48:16.597731",
   "version": "2.3.3"
  }
 },
 "nbformat": 4,
 "nbformat_minor": 5
}