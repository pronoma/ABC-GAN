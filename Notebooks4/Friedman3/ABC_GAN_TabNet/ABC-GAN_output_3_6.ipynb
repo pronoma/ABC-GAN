{
 "cells": [
  {
   "cell_type": "markdown",
   "id": "622780e6",
   "metadata": {
    "id": "622780e6",
    "papermill": {
     "duration": 0.012544,
     "end_time": "2022-07-22T12:05:45.203569",
     "exception": false,
     "start_time": "2022-07-22T12:05:45.191025",
     "status": "completed"
    },
    "tags": []
   },
   "source": [
    "## Import Libraries "
   ]
  },
  {
   "cell_type": "code",
   "execution_count": 1,
   "id": "a62397e3",
   "metadata": {
    "execution": {
     "iopub.execute_input": "2022-07-22T12:05:45.231289Z",
     "iopub.status.busy": "2022-07-22T12:05:45.230207Z",
     "iopub.status.idle": "2022-07-22T12:05:45.245709Z",
     "shell.execute_reply": "2022-07-22T12:05:45.243850Z"
    },
    "id": "a62397e3",
    "papermill": {
     "duration": 0.035651,
     "end_time": "2022-07-22T12:05:45.251314",
     "exception": false,
     "start_time": "2022-07-22T12:05:45.215663",
     "status": "completed"
    },
    "tags": []
   },
   "outputs": [],
   "source": [
    "import warnings\n",
    "import sys\n",
    "sys.path.insert(0, '../../src')\n",
    "warnings.filterwarnings('ignore')"
   ]
  },
  {
   "cell_type": "code",
   "execution_count": 2,
   "id": "d6a4e155",
   "metadata": {
    "execution": {
     "iopub.execute_input": "2022-07-22T12:05:45.281493Z",
     "iopub.status.busy": "2022-07-22T12:05:45.280586Z",
     "iopub.status.idle": "2022-07-22T12:05:52.850119Z",
     "shell.execute_reply": "2022-07-22T12:05:52.849142Z"
    },
    "id": "d6a4e155",
    "papermill": {
     "duration": 7.58789,
     "end_time": "2022-07-22T12:05:52.853193",
     "exception": false,
     "start_time": "2022-07-22T12:05:45.265303",
     "status": "completed"
    },
    "tags": []
   },
   "outputs": [],
   "source": [
    "import ABC_train_test2\n",
    "import friedman3Dataset\n",
    "import network\n",
    "import dataset\n",
    "import sanityChecks\n",
    "import torch \n",
    "import scrapbook as sb\n",
    "from statistics import mean \n",
    "import catboost as ctb \n",
    "from sklearn.model_selection import train_test_split\n",
    "from sklearn.metrics import mean_squared_error,mean_absolute_error\n",
    "import numpy as np\n",
    "from pytorch_tabnet.tab_model import TabNetRegressor"
   ]
  },
  {
   "cell_type": "markdown",
   "id": "2fa5b0f7",
   "metadata": {
    "id": "2fa5b0f7",
    "papermill": {
     "duration": 0.007832,
     "end_time": "2022-07-22T12:05:52.868399",
     "exception": false,
     "start_time": "2022-07-22T12:05:52.860567",
     "status": "completed"
    },
    "tags": []
   },
   "source": [
    "## Parameters "
   ]
  },
  {
   "cell_type": "code",
   "execution_count": 3,
   "id": "783186fb",
   "metadata": {
    "execution": {
     "iopub.execute_input": "2022-07-22T12:05:52.888011Z",
     "iopub.status.busy": "2022-07-22T12:05:52.887614Z",
     "iopub.status.idle": "2022-07-22T12:05:52.892317Z",
     "shell.execute_reply": "2022-07-22T12:05:52.891271Z"
    },
    "id": "783186fb",
    "papermill": {
     "duration": 0.019547,
     "end_time": "2022-07-22T12:05:52.896024",
     "exception": false,
     "start_time": "2022-07-22T12:05:52.876477",
     "status": "completed"
    },
    "tags": [
     "parameters"
    ]
   },
   "outputs": [],
   "source": [
    "variance = 1\n",
    "bias = 1 "
   ]
  },
  {
   "cell_type": "code",
   "execution_count": 4,
   "id": "951544b7",
   "metadata": {
    "execution": {
     "iopub.execute_input": "2022-07-22T12:05:52.915838Z",
     "iopub.status.busy": "2022-07-22T12:05:52.915499Z",
     "iopub.status.idle": "2022-07-22T12:05:52.920423Z",
     "shell.execute_reply": "2022-07-22T12:05:52.919346Z"
    },
    "papermill": {
     "duration": 0.018411,
     "end_time": "2022-07-22T12:05:52.923616",
     "exception": false,
     "start_time": "2022-07-22T12:05:52.905205",
     "status": "completed"
    },
    "tags": [
     "injected-parameters"
    ]
   },
   "outputs": [],
   "source": [
    "# Parameters\n",
    "variance = 1\n",
    "bias = 0.01\n"
   ]
  },
  {
   "cell_type": "markdown",
   "id": "391cdbfd",
   "metadata": {
    "id": "391cdbfd",
    "papermill": {
     "duration": 0.007953,
     "end_time": "2022-07-22T12:05:52.939852",
     "exception": false,
     "start_time": "2022-07-22T12:05:52.931899",
     "status": "completed"
    },
    "tags": []
   },
   "source": [
    "## Dataset \n"
   ]
  },
  {
   "cell_type": "code",
   "execution_count": 5,
   "id": "5b51f161",
   "metadata": {
    "execution": {
     "iopub.execute_input": "2022-07-22T12:05:52.958055Z",
     "iopub.status.busy": "2022-07-22T12:05:52.957664Z",
     "iopub.status.idle": "2022-07-22T12:05:52.963359Z",
     "shell.execute_reply": "2022-07-22T12:05:52.961985Z"
    },
    "id": "5b51f161",
    "papermill": {
     "duration": 0.019003,
     "end_time": "2022-07-22T12:05:52.966883",
     "exception": false,
     "start_time": "2022-07-22T12:05:52.947880",
     "status": "completed"
    },
    "tags": []
   },
   "outputs": [],
   "source": [
    "#Parameters \n",
    "n_features = 4\n",
    "n_samples= 100\n",
    "n_target = 1"
   ]
  },
  {
   "cell_type": "code",
   "execution_count": 6,
   "id": "5d6eced4",
   "metadata": {
    "execution": {
     "iopub.execute_input": "2022-07-22T12:05:52.986366Z",
     "iopub.status.busy": "2022-07-22T12:05:52.985811Z",
     "iopub.status.idle": "2022-07-22T12:05:53.009418Z",
     "shell.execute_reply": "2022-07-22T12:05:53.008263Z"
    },
    "id": "5d6eced4",
    "papermill": {
     "duration": 0.03839,
     "end_time": "2022-07-22T12:05:53.013282",
     "exception": false,
     "start_time": "2022-07-22T12:05:52.974892",
     "status": "completed"
    },
    "tags": []
   },
   "outputs": [
    {
     "name": "stdout",
     "output_type": "stream",
     "text": [
      "          X1           X2        X3        X4         Y\n",
      "0  29.167520  1188.423862  0.221717  8.331322  1.281779\n",
      "1  86.336323   192.706432  0.772882  3.827623  1.156548\n",
      "2  41.253223   398.325194  0.675448  3.706276  1.490720\n",
      "3  13.274987  1267.315629  0.049637  9.305914  1.403368\n",
      "4  10.734488   227.387890  0.602668  6.962103  1.361025\n"
     ]
    }
   ],
   "source": [
    "X,Y = friedman3Dataset.friedman3_data(n_samples)"
   ]
  },
  {
   "cell_type": "code",
   "execution_count": 7,
   "id": "fe007438",
   "metadata": {
    "execution": {
     "iopub.execute_input": "2022-07-22T12:05:53.033538Z",
     "iopub.status.busy": "2022-07-22T12:05:53.032846Z",
     "iopub.status.idle": "2022-07-22T12:05:53.040265Z",
     "shell.execute_reply": "2022-07-22T12:05:53.039318Z"
    },
    "id": "fe007438",
    "papermill": {
     "duration": 0.020125,
     "end_time": "2022-07-22T12:05:53.043224",
     "exception": false,
     "start_time": "2022-07-22T12:05:53.023099",
     "status": "completed"
    },
    "tags": []
   },
   "outputs": [],
   "source": [
    "#Train test split for dataset \n",
    "X_train,X_test,Y_train,Y_test = train_test_split(X,Y,test_size = 0.2)\n",
    "train_data = dataset.CustomDataset(X_train,Y_train)\n",
    "test_data = dataset.CustomDataset(X_test,Y_test)\n"
   ]
  },
  {
   "cell_type": "markdown",
   "id": "a9a1af34",
   "metadata": {
    "id": "a9a1af34",
    "papermill": {
     "duration": 0.007824,
     "end_time": "2022-07-22T12:05:53.060304",
     "exception": false,
     "start_time": "2022-07-22T12:05:53.052480",
     "status": "completed"
    },
    "tags": []
   },
   "source": [
    "## Training Parameters "
   ]
  },
  {
   "cell_type": "code",
   "execution_count": 8,
   "id": "952b7fc8",
   "metadata": {
    "execution": {
     "iopub.execute_input": "2022-07-22T12:05:53.080009Z",
     "iopub.status.busy": "2022-07-22T12:05:53.079543Z",
     "iopub.status.idle": "2022-07-22T12:05:53.085806Z",
     "shell.execute_reply": "2022-07-22T12:05:53.084654Z"
    },
    "id": "952b7fc8",
    "papermill": {
     "duration": 0.020822,
     "end_time": "2022-07-22T12:05:53.089303",
     "exception": false,
     "start_time": "2022-07-22T12:05:53.068481",
     "status": "completed"
    },
    "tags": []
   },
   "outputs": [],
   "source": [
    "batch_size = 32\n",
    "n_epochs = 1000\n",
    "#Select the device \n",
    "device = torch.device('cuda' if torch.cuda.is_available() else 'cpu')"
   ]
  },
  {
   "cell_type": "markdown",
   "id": "a95e1600",
   "metadata": {
    "id": "a95e1600",
    "papermill": {
     "duration": 0.007983,
     "end_time": "2022-07-22T12:05:53.105556",
     "exception": false,
     "start_time": "2022-07-22T12:05:53.097573",
     "status": "completed"
    },
    "tags": []
   },
   "source": [
    "# ABC Pre-generator Model \n",
    "\n",
    "1. The catboost model is used as a pre-generator model for the ABC-GAN. \n",
    "2. The model is first trained on the entire dataset \n",
    "3. It generats X,Y pairs and we add some Gaussian noise with mean 0 and variance 1 to it which is then feed as input to the generator.\n"
   ]
  },
  {
   "cell_type": "code",
   "execution_count": 9,
   "id": "ac011ebf",
   "metadata": {
    "execution": {
     "iopub.execute_input": "2022-07-22T12:05:53.124144Z",
     "iopub.status.busy": "2022-07-22T12:05:53.123516Z",
     "iopub.status.idle": "2022-07-22T12:06:37.350496Z",
     "shell.execute_reply": "2022-07-22T12:06:37.347795Z"
    },
    "papermill": {
     "duration": 44.240658,
     "end_time": "2022-07-22T12:06:37.354241",
     "exception": false,
     "start_time": "2022-07-22T12:05:53.113583",
     "status": "completed"
    },
    "tags": []
   },
   "outputs": [
    {
     "name": "stdout",
     "output_type": "stream",
     "text": [
      "Device used : cpu\n"
     ]
    },
    {
     "name": "stdout",
     "output_type": "stream",
     "text": [
      "epoch 0  | loss: 1.27    | train_mse: 7.5161  | train_mae: 1.91656 |  0:00:00s\n",
      "epoch 1  | loss: 0.8446  | train_mse: 5.07319 | train_mae: 1.592   |  0:00:00s\n"
     ]
    },
    {
     "name": "stdout",
     "output_type": "stream",
     "text": [
      "epoch 2  | loss: 1.02865 | train_mse: 4.24511 | train_mae: 1.50072 |  0:00:00s\n",
      "epoch 3  | loss: 0.89767 | train_mse: 3.51104 | train_mae: 1.36081 |  0:00:00s\n"
     ]
    },
    {
     "name": "stdout",
     "output_type": "stream",
     "text": [
      "epoch 4  | loss: 0.75759 | train_mse: 3.01152 | train_mae: 1.26377 |  0:00:00s\n"
     ]
    },
    {
     "name": "stdout",
     "output_type": "stream",
     "text": [
      "epoch 5  | loss: 0.84281 | train_mse: 2.49844 | train_mae: 1.16644 |  0:00:01s\n"
     ]
    },
    {
     "name": "stdout",
     "output_type": "stream",
     "text": [
      "epoch 6  | loss: 0.6553  | train_mse: 2.07406 | train_mae: 1.07806 |  0:00:01s\n"
     ]
    },
    {
     "name": "stdout",
     "output_type": "stream",
     "text": [
      "epoch 7  | loss: 0.69498 | train_mse: 1.74698 | train_mae: 1.00835 |  0:00:01s\n",
      "epoch 8  | loss: 0.619   | train_mse: 1.51064 | train_mae: 0.93805 |  0:00:01s\n"
     ]
    },
    {
     "name": "stdout",
     "output_type": "stream",
     "text": [
      "epoch 9  | loss: 0.52185 | train_mse: 1.31625 | train_mae: 0.87814 |  0:00:02s\n",
      "epoch 10 | loss: 0.67107 | train_mse: 1.2208  | train_mae: 0.84283 |  0:00:02s\n"
     ]
    },
    {
     "name": "stdout",
     "output_type": "stream",
     "text": [
      "epoch 11 | loss: 0.69416 | train_mse: 1.07456 | train_mae: 0.79046 |  0:00:02s\n",
      "epoch 12 | loss: 0.70084 | train_mse: 0.96537 | train_mae: 0.74875 |  0:00:02s\n"
     ]
    },
    {
     "name": "stdout",
     "output_type": "stream",
     "text": [
      "epoch 13 | loss: 0.62105 | train_mse: 0.90882 | train_mae: 0.72353 |  0:00:02s\n"
     ]
    },
    {
     "name": "stdout",
     "output_type": "stream",
     "text": [
      "epoch 14 | loss: 0.59967 | train_mse: 0.85954 | train_mae: 0.70055 |  0:00:03s\n",
      "epoch 15 | loss: 0.62644 | train_mse: 0.81771 | train_mae: 0.68301 |  0:00:03s\n"
     ]
    },
    {
     "name": "stdout",
     "output_type": "stream",
     "text": [
      "epoch 16 | loss: 0.41265 | train_mse: 0.78708 | train_mae: 0.66728 |  0:00:03s\n",
      "epoch 17 | loss: 0.51063 | train_mse: 0.75376 | train_mae: 0.65654 |  0:00:03s\n"
     ]
    },
    {
     "name": "stdout",
     "output_type": "stream",
     "text": [
      "epoch 18 | loss: 0.45699 | train_mse: 0.7244  | train_mae: 0.64572 |  0:00:03s\n",
      "epoch 19 | loss: 0.42702 | train_mse: 0.68255 | train_mae: 0.62627 |  0:00:04s\n"
     ]
    },
    {
     "name": "stdout",
     "output_type": "stream",
     "text": [
      "epoch 20 | loss: 0.52897 | train_mse: 0.64076 | train_mae: 0.60868 |  0:00:04s\n",
      "epoch 21 | loss: 0.45035 | train_mse: 0.61244 | train_mae: 0.59585 |  0:00:04s\n"
     ]
    },
    {
     "name": "stdout",
     "output_type": "stream",
     "text": [
      "epoch 22 | loss: 0.43887 | train_mse: 0.57341 | train_mae: 0.57709 |  0:00:04s\n",
      "epoch 23 | loss: 0.38761 | train_mse: 0.53388 | train_mae: 0.55847 |  0:00:04s\n"
     ]
    },
    {
     "name": "stdout",
     "output_type": "stream",
     "text": [
      "epoch 24 | loss: 0.49425 | train_mse: 0.50848 | train_mae: 0.54323 |  0:00:05s\n",
      "epoch 25 | loss: 0.43908 | train_mse: 0.48511 | train_mae: 0.53045 |  0:00:05s"
     ]
    },
    {
     "name": "stdout",
     "output_type": "stream",
     "text": [
      "\n"
     ]
    },
    {
     "name": "stdout",
     "output_type": "stream",
     "text": [
      "epoch 26 | loss: 0.42958 | train_mse: 0.46936 | train_mae: 0.52099 |  0:00:05s\n"
     ]
    },
    {
     "name": "stdout",
     "output_type": "stream",
     "text": [
      "epoch 27 | loss: 0.34758 | train_mse: 0.45549 | train_mae: 0.51087 |  0:00:05s\n",
      "epoch 28 | loss: 0.52326 | train_mse: 0.43612 | train_mae: 0.49857 |  0:00:05s\n"
     ]
    },
    {
     "name": "stdout",
     "output_type": "stream",
     "text": [
      "epoch 29 | loss: 0.45553 | train_mse: 0.42515 | train_mae: 0.49057 |  0:00:06s\n"
     ]
    },
    {
     "name": "stdout",
     "output_type": "stream",
     "text": [
      "epoch 30 | loss: 0.42972 | train_mse: 0.41566 | train_mae: 0.4796  |  0:00:06s\n"
     ]
    },
    {
     "name": "stdout",
     "output_type": "stream",
     "text": [
      "epoch 31 | loss: 0.41949 | train_mse: 0.39829 | train_mae: 0.46681 |  0:00:06s\n",
      "epoch 32 | loss: 0.46432 | train_mse: 0.39217 | train_mae: 0.4564  |  0:00:06s\n"
     ]
    },
    {
     "name": "stdout",
     "output_type": "stream",
     "text": [
      "epoch 33 | loss: 0.37921 | train_mse: 0.38899 | train_mae: 0.45108 |  0:00:06s\n",
      "epoch 34 | loss: 0.37205 | train_mse: 0.37645 | train_mae: 0.44141 |  0:00:06s\n"
     ]
    },
    {
     "name": "stdout",
     "output_type": "stream",
     "text": [
      "epoch 35 | loss: 0.39982 | train_mse: 0.36844 | train_mae: 0.43856 |  0:00:07s\n",
      "epoch 36 | loss: 0.38773 | train_mse: 0.35151 | train_mae: 0.43269 |  0:00:07s\n"
     ]
    },
    {
     "name": "stdout",
     "output_type": "stream",
     "text": [
      "epoch 37 | loss: 0.3241  | train_mse: 0.33481 | train_mae: 0.42555 |  0:00:07s\n"
     ]
    },
    {
     "name": "stdout",
     "output_type": "stream",
     "text": [
      "epoch 38 | loss: 0.35712 | train_mse: 0.32093 | train_mae: 0.41763 |  0:00:07s\n",
      "epoch 39 | loss: 0.28629 | train_mse: 0.30953 | train_mae: 0.41182 |  0:00:07s\n"
     ]
    },
    {
     "name": "stdout",
     "output_type": "stream",
     "text": [
      "epoch 40 | loss: 0.38388 | train_mse: 0.29896 | train_mae: 0.40693 |  0:00:07s\n",
      "epoch 41 | loss: 0.37227 | train_mse: 0.28535 | train_mae: 0.39923 |  0:00:07s\n"
     ]
    },
    {
     "name": "stdout",
     "output_type": "stream",
     "text": [
      "epoch 42 | loss: 0.20631 | train_mse: 0.27108 | train_mae: 0.3907  |  0:00:08s\n",
      "epoch 43 | loss: 0.40144 | train_mse: 0.25901 | train_mae: 0.38196 |  0:00:08s\n"
     ]
    },
    {
     "name": "stdout",
     "output_type": "stream",
     "text": [
      "epoch 44 | loss: 0.28166 | train_mse: 0.25257 | train_mae: 0.3769  |  0:00:08s\n",
      "epoch 45 | loss: 0.26028 | train_mse: 0.25406 | train_mae: 0.37684 |  0:00:08s\n"
     ]
    },
    {
     "name": "stdout",
     "output_type": "stream",
     "text": [
      "epoch 46 | loss: 0.23424 | train_mse: 0.24237 | train_mae: 0.3656  |  0:00:08s\n",
      "epoch 47 | loss: 0.34838 | train_mse: 0.23184 | train_mae: 0.35976 |  0:00:08s\n"
     ]
    },
    {
     "name": "stdout",
     "output_type": "stream",
     "text": [
      "epoch 48 | loss: 0.31077 | train_mse: 0.22666 | train_mae: 0.35881 |  0:00:09s\n",
      "epoch 49 | loss: 0.4608  | train_mse: 0.22411 | train_mae: 0.35765 |  0:00:09s\n"
     ]
    },
    {
     "name": "stdout",
     "output_type": "stream",
     "text": [
      "epoch 50 | loss: 0.2854  | train_mse: 0.221   | train_mae: 0.35573 |  0:00:09s\n",
      "epoch 51 | loss: 0.23164 | train_mse: 0.21602 | train_mae: 0.35224 |  0:00:09s\n"
     ]
    },
    {
     "name": "stdout",
     "output_type": "stream",
     "text": [
      "epoch 52 | loss: 0.25949 | train_mse: 0.21387 | train_mae: 0.34371 |  0:00:09s\n",
      "epoch 53 | loss: 0.21693 | train_mse: 0.2098  | train_mae: 0.33861 |  0:00:09s\n"
     ]
    },
    {
     "name": "stdout",
     "output_type": "stream",
     "text": [
      "epoch 54 | loss: 0.31938 | train_mse: 0.209   | train_mae: 0.33516 |  0:00:09s\n",
      "epoch 55 | loss: 0.26578 | train_mse: 0.24302 | train_mae: 0.35599 |  0:00:10s\n"
     ]
    },
    {
     "name": "stdout",
     "output_type": "stream",
     "text": [
      "epoch 56 | loss: 0.28593 | train_mse: 0.26587 | train_mae: 0.36189 |  0:00:10s\n",
      "epoch 57 | loss: 0.31464 | train_mse: 0.21994 | train_mae: 0.34371 |  0:00:10s\n"
     ]
    },
    {
     "name": "stdout",
     "output_type": "stream",
     "text": [
      "epoch 58 | loss: 0.33199 | train_mse: 0.21022 | train_mae: 0.33731 |  0:00:10s\n",
      "epoch 59 | loss: 0.23378 | train_mse: 0.19598 | train_mae: 0.32375 |  0:00:10s\n"
     ]
    },
    {
     "name": "stdout",
     "output_type": "stream",
     "text": [
      "epoch 60 | loss: 0.26899 | train_mse: 0.19523 | train_mae: 0.32871 |  0:00:10s\n",
      "epoch 61 | loss: 0.22867 | train_mse: 0.25258 | train_mae: 0.34797 |  0:00:10s\n"
     ]
    },
    {
     "name": "stdout",
     "output_type": "stream",
     "text": [
      "epoch 62 | loss: 0.28238 | train_mse: 0.23668 | train_mae: 0.3395  |  0:00:10s\n",
      "epoch 63 | loss: 0.29446 | train_mse: 0.24491 | train_mae: 0.33992 |  0:00:11s\n"
     ]
    },
    {
     "name": "stdout",
     "output_type": "stream",
     "text": [
      "epoch 64 | loss: 0.26766 | train_mse: 0.24699 | train_mae: 0.34409 |  0:00:11s\n",
      "epoch 65 | loss: 0.33872 | train_mse: 0.24105 | train_mae: 0.33867 |  0:00:11s\n",
      "epoch 66 | loss: 0.29649 | train_mse: 0.23561 | train_mae: 0.33469 |  0:00:11s\n"
     ]
    },
    {
     "name": "stdout",
     "output_type": "stream",
     "text": [
      "epoch 67 | loss: 0.31981 | train_mse: 0.22635 | train_mae: 0.33309 |  0:00:11s\n",
      "epoch 68 | loss: 0.30435 | train_mse: 0.16845 | train_mae: 0.30799 |  0:00:11s\n",
      "epoch 69 | loss: 0.29436 | train_mse: 0.16145 | train_mae: 0.29803 |  0:00:11s\n"
     ]
    },
    {
     "name": "stdout",
     "output_type": "stream",
     "text": [
      "epoch 70 | loss: 0.23468 | train_mse: 0.16054 | train_mae: 0.29528 |  0:00:11s\n",
      "epoch 71 | loss: 0.24995 | train_mse: 0.17257 | train_mae: 0.30247 |  0:00:11s\n",
      "epoch 72 | loss: 0.27584 | train_mse: 0.21268 | train_mae: 0.3155  |  0:00:11s\n"
     ]
    },
    {
     "name": "stdout",
     "output_type": "stream",
     "text": [
      "epoch 73 | loss: 0.21756 | train_mse: 0.19609 | train_mae: 0.31163 |  0:00:11s\n",
      "epoch 74 | loss: 0.38835 | train_mse: 0.21586 | train_mae: 0.31689 |  0:00:12s\n",
      "epoch 75 | loss: 0.18216 | train_mse: 0.20998 | train_mae: 0.31152 |  0:00:12s\n"
     ]
    },
    {
     "name": "stdout",
     "output_type": "stream",
     "text": [
      "epoch 76 | loss: 0.30871 | train_mse: 0.20199 | train_mae: 0.3055  |  0:00:12s\n",
      "epoch 77 | loss: 0.33923 | train_mse: 0.19643 | train_mae: 0.29911 |  0:00:12s\n",
      "epoch 78 | loss: 0.30027 | train_mse: 0.19309 | train_mae: 0.29912 |  0:00:12s\n"
     ]
    },
    {
     "name": "stdout",
     "output_type": "stream",
     "text": [
      "epoch 79 | loss: 0.192   | train_mse: 0.19117 | train_mae: 0.29702 |  0:00:12s\n",
      "epoch 80 | loss: 0.33122 | train_mse: 0.14836 | train_mae: 0.28103 |  0:00:12s\n"
     ]
    },
    {
     "name": "stdout",
     "output_type": "stream",
     "text": [
      "epoch 81 | loss: 0.28873 | train_mse: 0.13228 | train_mae: 0.26754 |  0:00:12s\n",
      "epoch 82 | loss: 0.18859 | train_mse: 0.13211 | train_mae: 0.26841 |  0:00:12s\n",
      "epoch 83 | loss: 0.26761 | train_mse: 0.13154 | train_mae: 0.26889 |  0:00:12s\n"
     ]
    },
    {
     "name": "stdout",
     "output_type": "stream",
     "text": [
      "epoch 84 | loss: 0.29319 | train_mse: 0.1314  | train_mae: 0.26819 |  0:00:13s\n",
      "epoch 85 | loss: 0.25841 | train_mse: 0.13249 | train_mae: 0.26753 |  0:00:13s\n"
     ]
    },
    {
     "name": "stdout",
     "output_type": "stream",
     "text": [
      "epoch 86 | loss: 0.22997 | train_mse: 0.13567 | train_mae: 0.27086 |  0:00:13s\n",
      "epoch 87 | loss: 0.20326 | train_mse: 0.13654 | train_mae: 0.27302 |  0:00:13s\n",
      "epoch 88 | loss: 0.16252 | train_mse: 0.13561 | train_mae: 0.27197 |  0:00:13s\n"
     ]
    },
    {
     "name": "stdout",
     "output_type": "stream",
     "text": [
      "epoch 89 | loss: 0.22242 | train_mse: 0.13708 | train_mae: 0.27288 |  0:00:13s\n",
      "epoch 90 | loss: 0.24644 | train_mse: 0.13823 | train_mae: 0.2731  |  0:00:13s\n",
      "epoch 91 | loss: 0.1866  | train_mse: 0.13856 | train_mae: 0.27495 |  0:00:13s\n"
     ]
    },
    {
     "name": "stdout",
     "output_type": "stream",
     "text": [
      "epoch 92 | loss: 0.19824 | train_mse: 0.13624 | train_mae: 0.27002 |  0:00:13s\n",
      "epoch 93 | loss: 0.26041 | train_mse: 0.13824 | train_mae: 0.27261 |  0:00:13s\n",
      "epoch 94 | loss: 0.2578  | train_mse: 0.1471  | train_mae: 0.2814  |  0:00:13s\n"
     ]
    },
    {
     "name": "stdout",
     "output_type": "stream",
     "text": [
      "epoch 95 | loss: 0.26054 | train_mse: 0.17287 | train_mae: 0.29049 |  0:00:13s\n",
      "epoch 96 | loss: 0.20639 | train_mse: 0.13158 | train_mae: 0.26528 |  0:00:14s\n"
     ]
    },
    {
     "name": "stdout",
     "output_type": "stream",
     "text": [
      "epoch 97 | loss: 0.22555 | train_mse: 0.12961 | train_mae: 0.26459 |  0:00:14s\n",
      "epoch 98 | loss: 0.16737 | train_mse: 0.12708 | train_mae: 0.2609  |  0:00:14s\n"
     ]
    },
    {
     "name": "stdout",
     "output_type": "stream",
     "text": [
      "epoch 99 | loss: 0.27032 | train_mse: 0.1258  | train_mae: 0.25593 |  0:00:14s\n",
      "epoch 100| loss: 0.18987 | train_mse: 0.12587 | train_mae: 0.25719 |  0:00:14s\n",
      "epoch 101| loss: 0.16745 | train_mse: 0.12691 | train_mae: 0.25844 |  0:00:14s\n"
     ]
    },
    {
     "name": "stdout",
     "output_type": "stream",
     "text": [
      "epoch 102| loss: 0.23703 | train_mse: 0.12641 | train_mae: 0.25905 |  0:00:14s\n",
      "epoch 103| loss: 0.20025 | train_mse: 0.12902 | train_mae: 0.26218 |  0:00:14s\n",
      "epoch 104| loss: 0.16868 | train_mse: 0.12779 | train_mae: 0.26037 |  0:00:14s\n"
     ]
    },
    {
     "name": "stdout",
     "output_type": "stream",
     "text": [
      "epoch 105| loss: 0.16443 | train_mse: 0.12968 | train_mae: 0.26306 |  0:00:14s\n",
      "epoch 106| loss: 0.20802 | train_mse: 0.12971 | train_mae: 0.26046 |  0:00:15s\n"
     ]
    },
    {
     "name": "stdout",
     "output_type": "stream",
     "text": [
      "epoch 107| loss: 0.19875 | train_mse: 0.12832 | train_mae: 0.25721 |  0:00:15s\n",
      "epoch 108| loss: 0.21595 | train_mse: 0.12617 | train_mae: 0.25642 |  0:00:15s\n",
      "epoch 109| loss: 0.18116 | train_mse: 0.1231  | train_mae: 0.25264 |  0:00:15s\n"
     ]
    },
    {
     "name": "stdout",
     "output_type": "stream",
     "text": [
      "epoch 110| loss: 0.35036 | train_mse: 0.11763 | train_mae: 0.24708 |  0:00:15s\n",
      "epoch 111| loss: 0.17068 | train_mse: 0.11307 | train_mae: 0.24007 |  0:00:15s\n",
      "epoch 112| loss: 0.23059 | train_mse: 0.11369 | train_mae: 0.24111 |  0:00:15s\n"
     ]
    },
    {
     "name": "stdout",
     "output_type": "stream",
     "text": [
      "epoch 113| loss: 0.22849 | train_mse: 0.11483 | train_mae: 0.24475 |  0:00:15s\n",
      "epoch 114| loss: 0.14435 | train_mse: 0.14649 | train_mae: 0.26497 |  0:00:15s\n",
      "epoch 115| loss: 0.24022 | train_mse: 0.15654 | train_mae: 0.26772 |  0:00:15s\n"
     ]
    },
    {
     "name": "stdout",
     "output_type": "stream",
     "text": [
      "epoch 116| loss: 0.16885 | train_mse: 0.15074 | train_mae: 0.26613 |  0:00:15s\n",
      "epoch 117| loss: 0.22819 | train_mse: 0.14356 | train_mae: 0.26305 |  0:00:15s\n"
     ]
    },
    {
     "name": "stdout",
     "output_type": "stream",
     "text": [
      "epoch 118| loss: 0.22049 | train_mse: 0.14259 | train_mae: 0.26088 |  0:00:16s\n",
      "epoch 119| loss: 0.18706 | train_mse: 0.14291 | train_mae: 0.26169 |  0:00:16s\n",
      "epoch 120| loss: 0.29611 | train_mse: 0.14355 | train_mae: 0.26293 |  0:00:16s\n"
     ]
    },
    {
     "name": "stdout",
     "output_type": "stream",
     "text": [
      "epoch 121| loss: 0.22606 | train_mse: 0.14525 | train_mae: 0.26307 |  0:00:16s\n",
      "epoch 122| loss: 0.19989 | train_mse: 0.14465 | train_mae: 0.25854 |  0:00:16s\n",
      "epoch 123| loss: 0.32882 | train_mse: 0.14326 | train_mae: 0.25871 |  0:00:16s\n"
     ]
    },
    {
     "name": "stdout",
     "output_type": "stream",
     "text": [
      "epoch 124| loss: 0.16662 | train_mse: 0.13689 | train_mae: 0.2582  |  0:00:16s\n",
      "epoch 125| loss: 0.27981 | train_mse: 0.13732 | train_mae: 0.2603  |  0:00:16s\n",
      "epoch 126| loss: 0.25315 | train_mse: 0.13665 | train_mae: 0.25832 |  0:00:16s\n"
     ]
    },
    {
     "name": "stdout",
     "output_type": "stream",
     "text": [
      "epoch 127| loss: 0.18817 | train_mse: 0.1347  | train_mae: 0.25926 |  0:00:16s\n",
      "epoch 128| loss: 0.18039 | train_mse: 0.135   | train_mae: 0.2603  |  0:00:16s\n",
      "epoch 129| loss: 0.22141 | train_mse: 0.13178 | train_mae: 0.2568  |  0:00:17s\n"
     ]
    },
    {
     "name": "stdout",
     "output_type": "stream",
     "text": [
      "epoch 130| loss: 0.17752 | train_mse: 0.12716 | train_mae: 0.24988 |  0:00:17s\n",
      "epoch 131| loss: 0.25724 | train_mse: 0.12785 | train_mae: 0.25086 |  0:00:17s\n",
      "epoch 132| loss: 0.23786 | train_mse: 0.12696 | train_mae: 0.24828 |  0:00:17s\n"
     ]
    },
    {
     "name": "stdout",
     "output_type": "stream",
     "text": [
      "epoch 133| loss: 0.10632 | train_mse: 0.1277  | train_mae: 0.24769 |  0:00:17s\n",
      "epoch 134| loss: 0.16355 | train_mse: 0.13103 | train_mae: 0.24882 |  0:00:17s\n"
     ]
    },
    {
     "name": "stdout",
     "output_type": "stream",
     "text": [
      "epoch 135| loss: 0.1662  | train_mse: 0.13165 | train_mae: 0.24972 |  0:00:17s\n",
      "epoch 136| loss: 0.23258 | train_mse: 0.12763 | train_mae: 0.24916 |  0:00:17s\n"
     ]
    },
    {
     "name": "stdout",
     "output_type": "stream",
     "text": [
      "epoch 137| loss: 0.23346 | train_mse: 0.12499 | train_mae: 0.2477  |  0:00:17s\n",
      "epoch 138| loss: 0.19076 | train_mse: 0.11972 | train_mae: 0.24334 |  0:00:17s\n",
      "epoch 139| loss: 0.13741 | train_mse: 0.08681 | train_mae: 0.2221  |  0:00:18s\n"
     ]
    },
    {
     "name": "stdout",
     "output_type": "stream",
     "text": [
      "epoch 140| loss: 0.16908 | train_mse: 0.08934 | train_mae: 0.22567 |  0:00:18s\n",
      "epoch 141| loss: 0.16224 | train_mse: 0.12256 | train_mae: 0.24089 |  0:00:18s\n",
      "epoch 142| loss: 0.22704 | train_mse: 0.11452 | train_mae: 0.23823 |  0:00:18s\n"
     ]
    },
    {
     "name": "stdout",
     "output_type": "stream",
     "text": [
      "epoch 143| loss: 0.16379 | train_mse: 0.11461 | train_mae: 0.23914 |  0:00:18s\n",
      "epoch 144| loss: 0.18187 | train_mse: 0.12236 | train_mae: 0.24156 |  0:00:18s\n",
      "epoch 145| loss: 0.21231 | train_mse: 0.13473 | train_mae: 0.24975 |  0:00:18s\n"
     ]
    },
    {
     "name": "stdout",
     "output_type": "stream",
     "text": [
      "epoch 146| loss: 0.22485 | train_mse: 0.12966 | train_mae: 0.2502  |  0:00:18s\n",
      "epoch 147| loss: 0.13372 | train_mse: 0.12658 | train_mae: 0.24971 |  0:00:18s\n",
      "epoch 148| loss: 0.20112 | train_mse: 0.12834 | train_mae: 0.25057 |  0:00:18s\n"
     ]
    },
    {
     "name": "stdout",
     "output_type": "stream",
     "text": [
      "epoch 149| loss: 0.17628 | train_mse: 0.12858 | train_mae: 0.2481  |  0:00:18s\n",
      "epoch 150| loss: 0.15272 | train_mse: 0.12414 | train_mae: 0.24044 |  0:00:19s\n",
      "epoch 151| loss: 0.12212 | train_mse: 0.11435 | train_mae: 0.23482 |  0:00:19s\n"
     ]
    },
    {
     "name": "stdout",
     "output_type": "stream",
     "text": [
      "epoch 152| loss: 0.25411 | train_mse: 0.09811 | train_mae: 0.22456 |  0:00:19s\n",
      "epoch 153| loss: 0.13681 | train_mse: 0.09292 | train_mae: 0.22065 |  0:00:19s\n",
      "epoch 154| loss: 0.20575 | train_mse: 0.0939  | train_mae: 0.22416 |  0:00:19s\n"
     ]
    },
    {
     "name": "stdout",
     "output_type": "stream",
     "text": [
      "epoch 155| loss: 0.14512 | train_mse: 0.0985  | train_mae: 0.22916 |  0:00:19s\n",
      "epoch 156| loss: 0.2595  | train_mse: 0.09382 | train_mae: 0.22456 |  0:00:19s\n",
      "epoch 157| loss: 0.20568 | train_mse: 0.09268 | train_mae: 0.2242  |  0:00:19s\n"
     ]
    },
    {
     "name": "stdout",
     "output_type": "stream",
     "text": [
      "epoch 158| loss: 0.15651 | train_mse: 0.10741 | train_mae: 0.23352 |  0:00:19s\n",
      "epoch 159| loss: 0.15386 | train_mse: 0.10989 | train_mae: 0.23302 |  0:00:19s\n",
      "epoch 160| loss: 0.25214 | train_mse: 0.10515 | train_mae: 0.22708 |  0:00:19s\n"
     ]
    },
    {
     "name": "stdout",
     "output_type": "stream",
     "text": [
      "epoch 161| loss: 0.14643 | train_mse: 0.10026 | train_mae: 0.22336 |  0:00:19s\n",
      "epoch 162| loss: 0.1443  | train_mse: 0.0971  | train_mae: 0.21644 |  0:00:20s\n",
      "epoch 163| loss: 0.19781 | train_mse: 0.09697 | train_mae: 0.21368 |  0:00:20s\n"
     ]
    },
    {
     "name": "stdout",
     "output_type": "stream",
     "text": [
      "epoch 164| loss: 0.19957 | train_mse: 0.0948  | train_mae: 0.20926 |  0:00:20s\n",
      "epoch 165| loss: 0.32485 | train_mse: 0.09393 | train_mae: 0.20674 |  0:00:20s\n",
      "epoch 166| loss: 0.23081 | train_mse: 0.09334 | train_mae: 0.20562 |  0:00:20s\n"
     ]
    },
    {
     "name": "stdout",
     "output_type": "stream",
     "text": [
      "epoch 167| loss: 0.14396 | train_mse: 0.09394 | train_mae: 0.20817 |  0:00:20s\n",
      "epoch 168| loss: 0.15398 | train_mse: 0.09203 | train_mae: 0.20814 |  0:00:20s\n",
      "epoch 169| loss: 0.17303 | train_mse: 0.09282 | train_mae: 0.2108  |  0:00:20s\n"
     ]
    },
    {
     "name": "stdout",
     "output_type": "stream",
     "text": [
      "epoch 170| loss: 0.19064 | train_mse: 0.07937 | train_mae: 0.20961 |  0:00:20s\n",
      "epoch 171| loss: 0.14299 | train_mse: 0.08236 | train_mae: 0.21509 |  0:00:20s\n",
      "epoch 172| loss: 0.16153 | train_mse: 0.08834 | train_mae: 0.22302 |  0:00:21s\n"
     ]
    },
    {
     "name": "stdout",
     "output_type": "stream",
     "text": [
      "epoch 173| loss: 0.21996 | train_mse: 0.08899 | train_mae: 0.22578 |  0:00:21s\n",
      "epoch 174| loss: 0.1577  | train_mse: 0.08965 | train_mae: 0.22926 |  0:00:21s\n",
      "epoch 175| loss: 0.16165 | train_mse: 0.08519 | train_mae: 0.22685 |  0:00:21s\n"
     ]
    },
    {
     "name": "stdout",
     "output_type": "stream",
     "text": [
      "epoch 176| loss: 0.14144 | train_mse: 0.07962 | train_mae: 0.22026 |  0:00:21s\n",
      "epoch 177| loss: 0.25856 | train_mse: 0.07979 | train_mae: 0.2193  |  0:00:21s\n",
      "epoch 178| loss: 0.19365 | train_mse: 0.07718 | train_mae: 0.21394 |  0:00:21s\n"
     ]
    },
    {
     "name": "stdout",
     "output_type": "stream",
     "text": [
      "epoch 179| loss: 0.16514 | train_mse: 0.0758  | train_mae: 0.20958 |  0:00:21s\n",
      "epoch 180| loss: 0.10484 | train_mse: 0.07468 | train_mae: 0.20614 |  0:00:21s\n",
      "epoch 181| loss: 0.17172 | train_mse: 0.07303 | train_mae: 0.20267 |  0:00:21s\n"
     ]
    },
    {
     "name": "stdout",
     "output_type": "stream",
     "text": [
      "epoch 182| loss: 0.11732 | train_mse: 0.07597 | train_mae: 0.2055  |  0:00:21s\n",
      "epoch 183| loss: 0.13979 | train_mse: 0.07425 | train_mae: 0.20366 |  0:00:21s\n",
      "epoch 184| loss: 0.11446 | train_mse: 0.07356 | train_mae: 0.20272 |  0:00:22s\n"
     ]
    },
    {
     "name": "stdout",
     "output_type": "stream",
     "text": [
      "epoch 185| loss: 0.19197 | train_mse: 0.07249 | train_mae: 0.20129 |  0:00:22s\n",
      "epoch 186| loss: 0.1408  | train_mse: 0.07301 | train_mae: 0.20109 |  0:00:22s\n",
      "epoch 187| loss: 0.2513  | train_mse: 0.07664 | train_mae: 0.20648 |  0:00:22s\n"
     ]
    },
    {
     "name": "stdout",
     "output_type": "stream",
     "text": [
      "epoch 188| loss: 0.17071 | train_mse: 0.07738 | train_mae: 0.20778 |  0:00:22s\n",
      "epoch 189| loss: 0.12476 | train_mse: 0.07617 | train_mae: 0.20621 |  0:00:22s\n",
      "epoch 190| loss: 0.1084  | train_mse: 0.07647 | train_mae: 0.20642 |  0:00:22s\n"
     ]
    },
    {
     "name": "stdout",
     "output_type": "stream",
     "text": [
      "epoch 191| loss: 0.19492 | train_mse: 0.07718 | train_mae: 0.20864 |  0:00:22s\n",
      "epoch 192| loss: 0.22022 | train_mse: 0.07529 | train_mae: 0.20692 |  0:00:22s\n",
      "epoch 193| loss: 0.22793 | train_mse: 0.07382 | train_mae: 0.20515 |  0:00:22s\n"
     ]
    },
    {
     "name": "stdout",
     "output_type": "stream",
     "text": [
      "epoch 194| loss: 0.28808 | train_mse: 0.07298 | train_mae: 0.20483 |  0:00:22s\n",
      "epoch 195| loss: 0.12281 | train_mse: 0.0742  | train_mae: 0.20762 |  0:00:23s\n",
      "epoch 196| loss: 0.19024 | train_mse: 0.08289 | train_mae: 0.21567 |  0:00:23s\n"
     ]
    },
    {
     "name": "stdout",
     "output_type": "stream",
     "text": [
      "epoch 197| loss: 0.11461 | train_mse: 0.08481 | train_mae: 0.21672 |  0:00:23s\n",
      "epoch 198| loss: 0.18642 | train_mse: 0.08116 | train_mae: 0.21224 |  0:00:23s\n",
      "epoch 199| loss: 0.12419 | train_mse: 0.08308 | train_mae: 0.21498 |  0:00:23s\n"
     ]
    },
    {
     "name": "stdout",
     "output_type": "stream",
     "text": [
      "epoch 200| loss: 0.17619 | train_mse: 0.0832  | train_mae: 0.21363 |  0:00:23s\n",
      "epoch 201| loss: 0.12121 | train_mse: 0.0817  | train_mae: 0.21071 |  0:00:23s\n",
      "epoch 202| loss: 0.23896 | train_mse: 0.08107 | train_mae: 0.20903 |  0:00:23s\n"
     ]
    },
    {
     "name": "stdout",
     "output_type": "stream",
     "text": [
      "epoch 203| loss: 0.29899 | train_mse: 0.08534 | train_mae: 0.21677 |  0:00:23s\n",
      "epoch 204| loss: 0.11662 | train_mse: 0.07981 | train_mae: 0.21157 |  0:00:23s\n",
      "epoch 205| loss: 0.21467 | train_mse: 0.07627 | train_mae: 0.20957 |  0:00:23s\n"
     ]
    },
    {
     "name": "stdout",
     "output_type": "stream",
     "text": [
      "epoch 206| loss: 0.23247 | train_mse: 0.07043 | train_mae: 0.20084 |  0:00:23s\n",
      "epoch 207| loss: 0.15746 | train_mse: 0.07076 | train_mae: 0.19919 |  0:00:24s\n",
      "epoch 208| loss: 0.1653  | train_mse: 0.07162 | train_mae: 0.19795 |  0:00:24s\n"
     ]
    },
    {
     "name": "stdout",
     "output_type": "stream",
     "text": [
      "epoch 209| loss: 0.14588 | train_mse: 0.07357 | train_mae: 0.20098 |  0:00:24s\n",
      "epoch 210| loss: 0.10696 | train_mse: 0.07646 | train_mae: 0.20405 |  0:00:24s\n",
      "epoch 211| loss: 0.12207 | train_mse: 0.07771 | train_mae: 0.20657 |  0:00:24s\n"
     ]
    },
    {
     "name": "stdout",
     "output_type": "stream",
     "text": [
      "epoch 212| loss: 0.14682 | train_mse: 0.07202 | train_mae: 0.2026  |  0:00:24s\n",
      "epoch 213| loss: 0.15426 | train_mse: 0.07005 | train_mae: 0.20452 |  0:00:24s\n",
      "epoch 214| loss: 0.11671 | train_mse: 0.07008 | train_mae: 0.2062  |  0:00:24s\n"
     ]
    },
    {
     "name": "stdout",
     "output_type": "stream",
     "text": [
      "epoch 215| loss: 0.12511 | train_mse: 0.06558 | train_mae: 0.20208 |  0:00:24s\n",
      "epoch 216| loss: 0.11527 | train_mse: 0.06498 | train_mae: 0.19936 |  0:00:24s\n",
      "epoch 217| loss: 0.11994 | train_mse: 0.06273 | train_mae: 0.19537 |  0:00:24s\n"
     ]
    },
    {
     "name": "stdout",
     "output_type": "stream",
     "text": [
      "epoch 218| loss: 0.20142 | train_mse: 0.06224 | train_mae: 0.19189 |  0:00:25s\n",
      "epoch 219| loss: 0.09433 | train_mse: 0.06541 | train_mae: 0.19606 |  0:00:25s\n",
      "epoch 220| loss: 0.1139  | train_mse: 0.07535 | train_mae: 0.20605 |  0:00:25s\n"
     ]
    },
    {
     "name": "stdout",
     "output_type": "stream",
     "text": [
      "epoch 221| loss: 0.13595 | train_mse: 0.07936 | train_mae: 0.20896 |  0:00:25s\n",
      "epoch 222| loss: 0.09026 | train_mse: 0.07803 | train_mae: 0.2054  |  0:00:25s\n",
      "epoch 223| loss: 0.16612 | train_mse: 0.07597 | train_mae: 0.20171 |  0:00:25s\n"
     ]
    },
    {
     "name": "stdout",
     "output_type": "stream",
     "text": [
      "epoch 224| loss: 0.27337 | train_mse: 0.07781 | train_mae: 0.20172 |  0:00:25s\n",
      "epoch 225| loss: 0.17288 | train_mse: 0.07505 | train_mae: 0.19905 |  0:00:25s\n",
      "epoch 226| loss: 0.09932 | train_mse: 0.07081 | train_mae: 0.1938  |  0:00:25s\n"
     ]
    },
    {
     "name": "stdout",
     "output_type": "stream",
     "text": [
      "epoch 227| loss: 0.11511 | train_mse: 0.06629 | train_mae: 0.19113 |  0:00:25s\n",
      "epoch 228| loss: 0.12339 | train_mse: 0.06093 | train_mae: 0.18582 |  0:00:25s\n",
      "epoch 229| loss: 0.09689 | train_mse: 0.05887 | train_mae: 0.18574 |  0:00:26s\n"
     ]
    },
    {
     "name": "stdout",
     "output_type": "stream",
     "text": [
      "epoch 230| loss: 0.15906 | train_mse: 0.05781 | train_mae: 0.18558 |  0:00:26s\n",
      "epoch 231| loss: 0.10661 | train_mse: 0.05474 | train_mae: 0.18152 |  0:00:26s\n",
      "epoch 232| loss: 0.08032 | train_mse: 0.05753 | train_mae: 0.18631 |  0:00:26s\n"
     ]
    },
    {
     "name": "stdout",
     "output_type": "stream",
     "text": [
      "epoch 233| loss: 0.20336 | train_mse: 0.06201 | train_mae: 0.19148 |  0:00:26s\n",
      "epoch 234| loss: 0.1151  | train_mse: 0.06452 | train_mae: 0.19454 |  0:00:26s\n",
      "epoch 235| loss: 0.08337 | train_mse: 0.06845 | train_mae: 0.19909 |  0:00:26s\n"
     ]
    },
    {
     "name": "stdout",
     "output_type": "stream",
     "text": [
      "epoch 236| loss: 0.08997 | train_mse: 0.07399 | train_mae: 0.20571 |  0:00:26s\n",
      "epoch 237| loss: 0.17969 | train_mse: 0.08308 | train_mae: 0.21419 |  0:00:26s\n",
      "epoch 238| loss: 0.19169 | train_mse: 0.07572 | train_mae: 0.20587 |  0:00:26s\n"
     ]
    },
    {
     "name": "stdout",
     "output_type": "stream",
     "text": [
      "epoch 239| loss: 0.12787 | train_mse: 0.06931 | train_mae: 0.19845 |  0:00:26s\n",
      "epoch 240| loss: 0.18401 | train_mse: 0.06427 | train_mae: 0.19132 |  0:00:27s\n"
     ]
    },
    {
     "name": "stdout",
     "output_type": "stream",
     "text": [
      "epoch 241| loss: 0.10168 | train_mse: 0.0601  | train_mae: 0.18532 |  0:00:27s\n",
      "epoch 242| loss: 0.1085  | train_mse: 0.05798 | train_mae: 0.18253 |  0:00:27s\n",
      "epoch 243| loss: 0.09184 | train_mse: 0.0587  | train_mae: 0.18356 |  0:00:27s\n"
     ]
    },
    {
     "name": "stdout",
     "output_type": "stream",
     "text": [
      "epoch 244| loss: 0.12635 | train_mse: 0.05535 | train_mae: 0.17778 |  0:00:27s\n",
      "epoch 245| loss: 0.17978 | train_mse: 0.05171 | train_mae: 0.17138 |  0:00:27s\n"
     ]
    },
    {
     "name": "stdout",
     "output_type": "stream",
     "text": [
      "epoch 246| loss: 0.10448 | train_mse: 0.05094 | train_mae: 0.17077 |  0:00:27s\n",
      "epoch 247| loss: 0.12203 | train_mse: 0.05248 | train_mae: 0.17349 |  0:00:27s\n"
     ]
    },
    {
     "name": "stdout",
     "output_type": "stream",
     "text": [
      "epoch 248| loss: 0.1339  | train_mse: 0.05299 | train_mae: 0.17642 |  0:00:28s\n",
      "epoch 249| loss: 0.18185 | train_mse: 0.05621 | train_mae: 0.17879 |  0:00:28s\n",
      "epoch 250| loss: 0.14081 | train_mse: 0.05822 | train_mae: 0.18206 |  0:00:28s\n"
     ]
    },
    {
     "name": "stdout",
     "output_type": "stream",
     "text": [
      "epoch 251| loss: 0.09176 | train_mse: 0.05823 | train_mae: 0.18191 |  0:00:28s\n",
      "epoch 252| loss: 0.10258 | train_mse: 0.05773 | train_mae: 0.18118 |  0:00:28s\n",
      "epoch 253| loss: 0.17246 | train_mse: 0.05671 | train_mae: 0.179   |  0:00:28s\n"
     ]
    },
    {
     "name": "stdout",
     "output_type": "stream",
     "text": [
      "epoch 254| loss: 0.17212 | train_mse: 0.05539 | train_mae: 0.17727 |  0:00:28s\n",
      "epoch 255| loss: 0.13126 | train_mse: 0.05698 | train_mae: 0.18155 |  0:00:28s\n",
      "epoch 256| loss: 0.06588 | train_mse: 0.06046 | train_mae: 0.18639 |  0:00:28s\n"
     ]
    },
    {
     "name": "stdout",
     "output_type": "stream",
     "text": [
      "epoch 257| loss: 0.10858 | train_mse: 0.06823 | train_mae: 0.1952  |  0:00:28s\n",
      "epoch 258| loss: 0.11107 | train_mse: 0.07311 | train_mae: 0.19824 |  0:00:28s\n",
      "epoch 259| loss: 0.15391 | train_mse: 0.07042 | train_mae: 0.19659 |  0:00:29s\n"
     ]
    },
    {
     "name": "stdout",
     "output_type": "stream",
     "text": [
      "epoch 260| loss: 0.09928 | train_mse: 0.06289 | train_mae: 0.18919 |  0:00:29s\n",
      "epoch 261| loss: 0.14935 | train_mse: 0.05627 | train_mae: 0.18386 |  0:00:29s\n",
      "epoch 262| loss: 0.12688 | train_mse: 0.05194 | train_mae: 0.1779  |  0:00:29s\n"
     ]
    },
    {
     "name": "stdout",
     "output_type": "stream",
     "text": [
      "epoch 263| loss: 0.09305 | train_mse: 0.05075 | train_mae: 0.17466 |  0:00:29s\n",
      "epoch 264| loss: 0.08876 | train_mse: 0.05329 | train_mae: 0.178   |  0:00:29s\n",
      "epoch 265| loss: 0.1183  | train_mse: 0.05427 | train_mae: 0.18011 |  0:00:29s\n"
     ]
    },
    {
     "name": "stdout",
     "output_type": "stream",
     "text": [
      "epoch 266| loss: 0.15069 | train_mse: 0.05727 | train_mae: 0.18434 |  0:00:29s\n",
      "epoch 267| loss: 0.08939 | train_mse: 0.05864 | train_mae: 0.18662 |  0:00:29s\n",
      "epoch 268| loss: 0.08077 | train_mse: 0.05534 | train_mae: 0.18217 |  0:00:29s\n"
     ]
    },
    {
     "name": "stdout",
     "output_type": "stream",
     "text": [
      "epoch 269| loss: 0.09136 | train_mse: 0.05521 | train_mae: 0.18195 |  0:00:29s\n",
      "epoch 270| loss: 0.2265  | train_mse: 0.05732 | train_mae: 0.18407 |  0:00:30s\n",
      "epoch 271| loss: 0.10549 | train_mse: 0.058   | train_mae: 0.18551 |  0:00:30s"
     ]
    },
    {
     "name": "stdout",
     "output_type": "stream",
     "text": [
      "\n",
      "epoch 272| loss: 0.10772 | train_mse: 0.05642 | train_mae: 0.18392 |  0:00:30s\n",
      "epoch 273| loss: 0.19874 | train_mse: 0.05427 | train_mae: 0.18032 |  0:00:30s\n"
     ]
    },
    {
     "name": "stdout",
     "output_type": "stream",
     "text": [
      "epoch 274| loss: 0.16316 | train_mse: 0.05039 | train_mae: 0.17359 |  0:00:30s\n",
      "epoch 275| loss: 0.08606 | train_mse: 0.0494  | train_mae: 0.17308 |  0:00:30s\n",
      "epoch 276| loss: 0.17691 | train_mse: 0.05436 | train_mae: 0.18184 |  0:00:30s\n"
     ]
    },
    {
     "name": "stdout",
     "output_type": "stream",
     "text": [
      "epoch 277| loss: 0.13546 | train_mse: 0.05578 | train_mae: 0.18325 |  0:00:30s\n",
      "epoch 278| loss: 0.06505 | train_mse: 0.05525 | train_mae: 0.18338 |  0:00:30s\n",
      "epoch 279| loss: 0.098   | train_mse: 0.05752 | train_mae: 0.18723 |  0:00:30s\n"
     ]
    },
    {
     "name": "stdout",
     "output_type": "stream",
     "text": [
      "epoch 280| loss: 0.07241 | train_mse: 0.05428 | train_mae: 0.18253 |  0:00:30s\n",
      "epoch 281| loss: 0.08999 | train_mse: 0.05492 | train_mae: 0.18327 |  0:00:31s\n"
     ]
    },
    {
     "name": "stdout",
     "output_type": "stream",
     "text": [
      "epoch 282| loss: 0.09441 | train_mse: 0.05623 | train_mae: 0.18488 |  0:00:31s\n",
      "epoch 283| loss: 0.09933 | train_mse: 0.05471 | train_mae: 0.1813  |  0:00:31s\n",
      "epoch 284| loss: 0.10938 | train_mse: 0.05447 | train_mae: 0.17956 |  0:00:31s\n"
     ]
    },
    {
     "name": "stdout",
     "output_type": "stream",
     "text": [
      "epoch 285| loss: 0.18677 | train_mse: 0.05238 | train_mae: 0.17535 |  0:00:31s\n",
      "epoch 286| loss: 0.11046 | train_mse: 0.05129 | train_mae: 0.17414 |  0:00:31s\n"
     ]
    },
    {
     "name": "stdout",
     "output_type": "stream",
     "text": [
      "epoch 287| loss: 0.16673 | train_mse: 0.05295 | train_mae: 0.17533 |  0:00:31s\n",
      "epoch 288| loss: 0.07254 | train_mse: 0.0505  | train_mae: 0.17391 |  0:00:31s\n"
     ]
    },
    {
     "name": "stdout",
     "output_type": "stream",
     "text": [
      "epoch 289| loss: 0.12365 | train_mse: 0.04975 | train_mae: 0.17484 |  0:00:31s\n",
      "epoch 290| loss: 0.07906 | train_mse: 0.04777 | train_mae: 0.17221 |  0:00:32s\n"
     ]
    },
    {
     "name": "stdout",
     "output_type": "stream",
     "text": [
      "epoch 291| loss: 0.14301 | train_mse: 0.04733 | train_mae: 0.1718  |  0:00:32s\n",
      "epoch 292| loss: 0.12557 | train_mse: 0.04769 | train_mae: 0.17291 |  0:00:32s\n"
     ]
    },
    {
     "name": "stdout",
     "output_type": "stream",
     "text": [
      "epoch 293| loss: 0.10748 | train_mse: 0.0496  | train_mae: 0.17614 |  0:00:32s\n",
      "epoch 294| loss: 0.11003 | train_mse: 0.05027 | train_mae: 0.17657 |  0:00:32s\n"
     ]
    },
    {
     "name": "stdout",
     "output_type": "stream",
     "text": [
      "epoch 295| loss: 0.08645 | train_mse: 0.05018 | train_mae: 0.17513 |  0:00:32s\n",
      "epoch 296| loss: 0.08238 | train_mse: 0.04693 | train_mae: 0.1696  |  0:00:32s\n"
     ]
    },
    {
     "name": "stdout",
     "output_type": "stream",
     "text": [
      "epoch 297| loss: 0.11812 | train_mse: 0.04786 | train_mae: 0.16723 |  0:00:32s\n",
      "epoch 298| loss: 0.09116 | train_mse: 0.04725 | train_mae: 0.16701 |  0:00:32s\n"
     ]
    },
    {
     "name": "stdout",
     "output_type": "stream",
     "text": [
      "epoch 299| loss: 0.09968 | train_mse: 0.04567 | train_mae: 0.16654 |  0:00:33s\n",
      "epoch 300| loss: 0.16327 | train_mse: 0.04622 | train_mae: 0.16735 |  0:00:33s\n"
     ]
    },
    {
     "name": "stdout",
     "output_type": "stream",
     "text": [
      "epoch 301| loss: 0.09372 | train_mse: 0.04424 | train_mae: 0.16489 |  0:00:33s\n",
      "epoch 302| loss: 0.06078 | train_mse: 0.04322 | train_mae: 0.16317 |  0:00:33s\n"
     ]
    },
    {
     "name": "stdout",
     "output_type": "stream",
     "text": [
      "epoch 303| loss: 0.08206 | train_mse: 0.0417  | train_mae: 0.16102 |  0:00:33s\n",
      "epoch 304| loss: 0.12422 | train_mse: 0.04063 | train_mae: 0.15868 |  0:00:33s\n"
     ]
    },
    {
     "name": "stdout",
     "output_type": "stream",
     "text": [
      "epoch 305| loss: 0.08611 | train_mse: 0.04304 | train_mae: 0.16173 |  0:00:33s\n",
      "epoch 306| loss: 0.11363 | train_mse: 0.05066 | train_mae: 0.17154 |  0:00:33s\n"
     ]
    },
    {
     "name": "stdout",
     "output_type": "stream",
     "text": [
      "epoch 307| loss: 0.18134 | train_mse: 0.05666 | train_mae: 0.18004 |  0:00:34s\n",
      "epoch 308| loss: 0.11589 | train_mse: 0.06332 | train_mae: 0.18525 |  0:00:34s\n"
     ]
    },
    {
     "name": "stdout",
     "output_type": "stream",
     "text": [
      "epoch 309| loss: 0.09313 | train_mse: 0.06463 | train_mae: 0.18741 |  0:00:34s\n",
      "epoch 310| loss: 0.08567 | train_mse: 0.0614  | train_mae: 0.18462 |  0:00:34s\n"
     ]
    },
    {
     "name": "stdout",
     "output_type": "stream",
     "text": [
      "epoch 311| loss: 0.1089  | train_mse: 0.05927 | train_mae: 0.18098 |  0:00:34s\n",
      "epoch 312| loss: 0.12799 | train_mse: 0.05098 | train_mae: 0.17003 |  0:00:34s\n"
     ]
    },
    {
     "name": "stdout",
     "output_type": "stream",
     "text": [
      "epoch 313| loss: 0.11223 | train_mse: 0.04456 | train_mae: 0.16277 |  0:00:34s\n",
      "epoch 314| loss: 0.12693 | train_mse: 0.04207 | train_mae: 0.15976 |  0:00:34s\n"
     ]
    },
    {
     "name": "stdout",
     "output_type": "stream",
     "text": [
      "epoch 315| loss: 0.09154 | train_mse: 0.04499 | train_mae: 0.16417 |  0:00:35s\n"
     ]
    },
    {
     "name": "stdout",
     "output_type": "stream",
     "text": [
      "epoch 316| loss: 0.07943 | train_mse: 0.04736 | train_mae: 0.16722 |  0:00:35s\n",
      "epoch 317| loss: 0.09393 | train_mse: 0.0476  | train_mae: 0.16683 |  0:00:35s\n"
     ]
    },
    {
     "name": "stdout",
     "output_type": "stream",
     "text": [
      "epoch 318| loss: 0.1612  | train_mse: 0.05103 | train_mae: 0.17028 |  0:00:35s\n"
     ]
    },
    {
     "name": "stdout",
     "output_type": "stream",
     "text": [
      "epoch 319| loss: 0.074   | train_mse: 0.05499 | train_mae: 0.17464 |  0:00:36s\n",
      "epoch 320| loss: 0.07318 | train_mse: 0.05425 | train_mae: 0.17422 |  0:00:36s\n"
     ]
    },
    {
     "name": "stdout",
     "output_type": "stream",
     "text": [
      "epoch 321| loss: 0.1471  | train_mse: 0.0564  | train_mae: 0.17714 |  0:00:36s\n",
      "epoch 322| loss: 0.07151 | train_mse: 0.05155 | train_mae: 0.1686  |  0:00:36s\n"
     ]
    },
    {
     "name": "stdout",
     "output_type": "stream",
     "text": [
      "epoch 323| loss: 0.17455 | train_mse: 0.05575 | train_mae: 0.17299 |  0:00:36s\n",
      "epoch 324| loss: 0.17646 | train_mse: 0.05698 | train_mae: 0.17241 |  0:00:36s\n",
      "epoch 325| loss: 0.08857 | train_mse: 0.05503 | train_mae: 0.16854 |  0:00:37s\n"
     ]
    },
    {
     "name": "stdout",
     "output_type": "stream",
     "text": [
      "epoch 326| loss: 0.07392 | train_mse: 0.04907 | train_mae: 0.16253 |  0:00:37s\n",
      "epoch 327| loss: 0.08632 | train_mse: 0.04485 | train_mae: 0.15834 |  0:00:37s\n",
      "epoch 328| loss: 0.1546  | train_mse: 0.04255 | train_mae: 0.15412 |  0:00:37s\n"
     ]
    },
    {
     "name": "stdout",
     "output_type": "stream",
     "text": [
      "epoch 329| loss: 0.09734 | train_mse: 0.04267 | train_mae: 0.15467 |  0:00:37s\n",
      "epoch 330| loss: 0.16435 | train_mse: 0.04412 | train_mae: 0.1585  |  0:00:37s\n",
      "epoch 331| loss: 0.11551 | train_mse: 0.04461 | train_mae: 0.15981 |  0:00:37s\n"
     ]
    },
    {
     "name": "stdout",
     "output_type": "stream",
     "text": [
      "epoch 332| loss: 0.11204 | train_mse: 0.04618 | train_mae: 0.15984 |  0:00:37s\n",
      "epoch 333| loss: 0.12557 | train_mse: 0.04688 | train_mae: 0.16064 |  0:00:37s\n",
      "epoch 334| loss: 0.15219 | train_mse: 0.04447 | train_mae: 0.16002 |  0:00:37s\n"
     ]
    },
    {
     "name": "stdout",
     "output_type": "stream",
     "text": [
      "epoch 335| loss: 0.10267 | train_mse: 0.04314 | train_mae: 0.16009 |  0:00:37s\n",
      "epoch 336| loss: 0.18012 | train_mse: 0.0439  | train_mae: 0.15905 |  0:00:38s\n",
      "epoch 337| loss: 0.10786 | train_mse: 0.0472  | train_mae: 0.16302 |  0:00:38s\n"
     ]
    },
    {
     "name": "stdout",
     "output_type": "stream",
     "text": [
      "epoch 338| loss: 0.0801  | train_mse: 0.04785 | train_mae: 0.1648  |  0:00:38s\n",
      "epoch 339| loss: 0.14924 | train_mse: 0.0468  | train_mae: 0.16262 |  0:00:38s\n",
      "epoch 340| loss: 0.07241 | train_mse: 0.05057 | train_mae: 0.1651  |  0:00:38s\n"
     ]
    },
    {
     "name": "stdout",
     "output_type": "stream",
     "text": [
      "epoch 341| loss: 0.06961 | train_mse: 0.05226 | train_mae: 0.16737 |  0:00:38s\n",
      "epoch 342| loss: 0.09792 | train_mse: 0.05255 | train_mae: 0.1665  |  0:00:38s\n",
      "epoch 343| loss: 0.1016  | train_mse: 0.05686 | train_mae: 0.17077 |  0:00:38s\n"
     ]
    },
    {
     "name": "stdout",
     "output_type": "stream",
     "text": [
      "epoch 344| loss: 0.13018 | train_mse: 0.05783 | train_mae: 0.17485 |  0:00:38s\n",
      "epoch 345| loss: 0.09897 | train_mse: 0.05911 | train_mae: 0.17783 |  0:00:38s\n",
      "epoch 346| loss: 0.2329  | train_mse: 0.05886 | train_mae: 0.17584 |  0:00:38s\n"
     ]
    },
    {
     "name": "stdout",
     "output_type": "stream",
     "text": [
      "epoch 347| loss: 0.08729 | train_mse: 0.05409 | train_mae: 0.17175 |  0:00:39s\n",
      "epoch 348| loss: 0.36852 | train_mse: 0.05385 | train_mae: 0.17041 |  0:00:39s\n",
      "epoch 349| loss: 0.11272 | train_mse: 0.04899 | train_mae: 0.16484 |  0:00:39s\n"
     ]
    },
    {
     "name": "stdout",
     "output_type": "stream",
     "text": [
      "epoch 350| loss: 0.08341 | train_mse: 0.04513 | train_mae: 0.1598  |  0:00:39s\n",
      "epoch 351| loss: 0.12982 | train_mse: 0.04185 | train_mae: 0.15524 |  0:00:39s\n",
      "epoch 352| loss: 0.14725 | train_mse: 0.03864 | train_mae: 0.15068 |  0:00:39s\n"
     ]
    },
    {
     "name": "stdout",
     "output_type": "stream",
     "text": [
      "epoch 353| loss: 0.13817 | train_mse: 0.03566 | train_mae: 0.14536 |  0:00:39s\n",
      "epoch 354| loss: 0.18754 | train_mse: 0.03214 | train_mae: 0.13734 |  0:00:39s\n",
      "epoch 355| loss: 0.09763 | train_mse: 0.03272 | train_mae: 0.13848 |  0:00:39s\n"
     ]
    },
    {
     "name": "stdout",
     "output_type": "stream",
     "text": [
      "epoch 356| loss: 0.07553 | train_mse: 0.03477 | train_mae: 0.1429  |  0:00:39s\n",
      "epoch 357| loss: 0.08506 | train_mse: 0.0399  | train_mae: 0.1495  |  0:00:39s\n",
      "epoch 358| loss: 0.09607 | train_mse: 0.04542 | train_mae: 0.15665 |  0:00:39s\n"
     ]
    },
    {
     "name": "stdout",
     "output_type": "stream",
     "text": [
      "epoch 359| loss: 0.08247 | train_mse: 0.05005 | train_mae: 0.16273 |  0:00:40s\n",
      "epoch 360| loss: 0.08513 | train_mse: 0.05221 | train_mae: 0.16402 |  0:00:40s\n",
      "epoch 361| loss: 0.1119  | train_mse: 0.05105 | train_mae: 0.16251 |  0:00:40s\n"
     ]
    },
    {
     "name": "stdout",
     "output_type": "stream",
     "text": [
      "epoch 362| loss: 0.08053 | train_mse: 0.04667 | train_mae: 0.15886 |  0:00:40s\n",
      "epoch 363| loss: 0.08394 | train_mse: 0.03881 | train_mae: 0.14899 |  0:00:40s\n",
      "epoch 364| loss: 0.1078  | train_mse: 0.03696 | train_mae: 0.14593 |  0:00:40s\n"
     ]
    },
    {
     "name": "stdout",
     "output_type": "stream",
     "text": [
      "epoch 365| loss: 0.11517 | train_mse: 0.03734 | train_mae: 0.14596 |  0:00:40s\n",
      "epoch 366| loss: 0.1158  | train_mse: 0.03849 | train_mae: 0.14663 |  0:00:40s\n",
      "epoch 367| loss: 0.13511 | train_mse: 0.03833 | train_mae: 0.14687 |  0:00:40s\n"
     ]
    },
    {
     "name": "stdout",
     "output_type": "stream",
     "text": [
      "epoch 368| loss: 0.12891 | train_mse: 0.03924 | train_mae: 0.14823 |  0:00:40s\n",
      "epoch 369| loss: 0.14433 | train_mse: 0.04207 | train_mae: 0.15178 |  0:00:40s\n",
      "epoch 370| loss: 0.06462 | train_mse: 0.04507 | train_mae: 0.15547 |  0:00:41s\n"
     ]
    },
    {
     "name": "stdout",
     "output_type": "stream",
     "text": [
      "epoch 371| loss: 0.10831 | train_mse: 0.04585 | train_mae: 0.15676 |  0:00:41s\n",
      "epoch 372| loss: 0.15826 | train_mse: 0.04255 | train_mae: 0.15322 |  0:00:41s\n",
      "epoch 373| loss: 0.15798 | train_mse: 0.03962 | train_mae: 0.1504  |  0:00:41s\n"
     ]
    },
    {
     "name": "stdout",
     "output_type": "stream",
     "text": [
      "epoch 374| loss: 0.09911 | train_mse: 0.03843 | train_mae: 0.14912 |  0:00:41s\n",
      "epoch 375| loss: 0.09055 | train_mse: 0.03812 | train_mae: 0.14975 |  0:00:41s\n",
      "epoch 376| loss: 0.06272 | train_mse: 0.03788 | train_mae: 0.15045 |  0:00:41s\n"
     ]
    },
    {
     "name": "stdout",
     "output_type": "stream",
     "text": [
      "epoch 377| loss: 0.07415 | train_mse: 0.03687 | train_mae: 0.14817 |  0:00:41s\n",
      "epoch 378| loss: 0.08539 | train_mse: 0.0366  | train_mae: 0.14803 |  0:00:41s\n",
      "epoch 379| loss: 0.257   | train_mse: 0.03757 | train_mae: 0.14908 |  0:00:41s\n"
     ]
    },
    {
     "name": "stdout",
     "output_type": "stream",
     "text": [
      "epoch 380| loss: 0.11332 | train_mse: 0.0382  | train_mae: 0.14946 |  0:00:41s\n",
      "epoch 381| loss: 0.10814 | train_mse: 0.03982 | train_mae: 0.15057 |  0:00:41s\n",
      "epoch 382| loss: 0.10039 | train_mse: 0.04033 | train_mae: 0.15161 |  0:00:42s\n"
     ]
    },
    {
     "name": "stdout",
     "output_type": "stream",
     "text": [
      "epoch 383| loss: 0.10275 | train_mse: 0.0396  | train_mae: 0.15095 |  0:00:42s\n",
      "epoch 384| loss: 0.08396 | train_mse: 0.03781 | train_mae: 0.14753 |  0:00:42s\n",
      "epoch 385| loss: 0.06315 | train_mse: 0.03629 | train_mae: 0.14499 |  0:00:42s\n"
     ]
    },
    {
     "name": "stdout",
     "output_type": "stream",
     "text": [
      "epoch 386| loss: 0.05577 | train_mse: 0.03441 | train_mae: 0.14124 |  0:00:42s\n",
      "epoch 387| loss: 0.06217 | train_mse: 0.03393 | train_mae: 0.13982 |  0:00:42s\n",
      "epoch 388| loss: 0.20695 | train_mse: 0.03545 | train_mae: 0.14288 |  0:00:42s\n"
     ]
    },
    {
     "name": "stdout",
     "output_type": "stream",
     "text": [
      "epoch 389| loss: 0.12415 | train_mse: 0.03793 | train_mae: 0.14749 |  0:00:42s\n",
      "epoch 390| loss: 0.16026 | train_mse: 0.03946 | train_mae: 0.14987 |  0:00:42s\n"
     ]
    },
    {
     "name": "stdout",
     "output_type": "stream",
     "text": [
      "epoch 391| loss: 0.05691 | train_mse: 0.0387  | train_mae: 0.14794 |  0:00:42s\n",
      "epoch 392| loss: 0.10804 | train_mse: 0.03933 | train_mae: 0.14831 |  0:00:43s\n"
     ]
    },
    {
     "name": "stdout",
     "output_type": "stream",
     "text": [
      "epoch 393| loss: 0.07915 | train_mse: 0.03952 | train_mae: 0.14944 |  0:00:43s\n",
      "epoch 394| loss: 0.26955 | train_mse: 0.03838 | train_mae: 0.14629 |  0:00:43s\n",
      "epoch 395| loss: 0.15589 | train_mse: 0.0397  | train_mae: 0.14934 |  0:00:43s\n"
     ]
    },
    {
     "name": "stdout",
     "output_type": "stream",
     "text": [
      "epoch 396| loss: 0.0964  | train_mse: 0.0409  | train_mae: 0.15115 |  0:00:43s\n",
      "epoch 397| loss: 0.16502 | train_mse: 0.03882 | train_mae: 0.1483  |  0:00:43s\n",
      "epoch 398| loss: 0.06823 | train_mse: 0.03996 | train_mae: 0.14882 |  0:00:43s\n"
     ]
    },
    {
     "name": "stdout",
     "output_type": "stream",
     "text": [
      "epoch 399| loss: 0.12933 | train_mse: 0.04454 | train_mae: 0.1535  |  0:00:43s\n",
      "epoch 400| loss: 0.06776 | train_mse: 0.04459 | train_mae: 0.15111 |  0:00:43s\n",
      "epoch 401| loss: 0.12543 | train_mse: 0.0467  | train_mae: 0.15167 |  0:00:43s\n"
     ]
    },
    {
     "name": "stdout",
     "output_type": "stream",
     "text": [
      "epoch 402| loss: 0.08051 | train_mse: 0.04827 | train_mae: 0.1532  |  0:00:43s\n",
      "epoch 403| loss: 0.16047 | train_mse: 0.04872 | train_mae: 0.15286 |  0:00:44s\n",
      "epoch 404| loss: 0.10958 | train_mse: 0.04601 | train_mae: 0.15162 |  0:00:44s\n",
      "\n",
      "Early stopping occurred at epoch 404 with best_epoch = 354 and best_train_mae = 0.13734\n",
      "Best weights from best epoch are automatically used!\n"
     ]
    }
   ],
   "source": [
    "#Train the Model\n",
    "\n",
    "Y_train = np.reshape(Y_train, (-1, 1))\n",
    "Y_test = np.reshape(Y_test, (-1, 1))\n",
    "\n",
    "prior_model = TabNetRegressor(optimizer_fn=torch.optim.Adam, optimizer_params=dict(lr = 0.001),\n",
    "          #scheduler_params={\"step_size\":10, ], \"gamma\":0.9},\n",
    "          #scheduler_fn=torch.optim.lr_scheduler.StepLR\n",
    "          )  #TabNetRegressor()\n",
    "\n",
    "prior_model.fit(X_train,Y_train,eval_set=[(X_train, Y_train)],\n",
    "            eval_name=['train'], \n",
    "            eval_metric=[ 'mse', 'mae'], \n",
    "            max_epochs = n_epochs, \n",
    "            batch_size = batch_size,\n",
    "            patience=50\n",
    "            )"
   ]
  },
  {
   "cell_type": "code",
   "execution_count": 10,
   "id": "af65dcda",
   "metadata": {
    "execution": {
     "iopub.execute_input": "2022-07-22T12:06:37.401429Z",
     "iopub.status.busy": "2022-07-22T12:06:37.400594Z",
     "iopub.status.idle": "2022-07-22T12:06:37.469248Z",
     "shell.execute_reply": "2022-07-22T12:06:37.467843Z"
    },
    "id": "af65dcda",
    "papermill": {
     "duration": 0.096348,
     "end_time": "2022-07-22T12:06:37.473737",
     "exception": false,
     "start_time": "2022-07-22T12:06:37.377389",
     "status": "completed"
    },
    "tags": []
   },
   "outputs": [
    {
     "data": {
      "application/scrapbook.scrap.json+json": {
       "data": 0.4523477316690433,
       "encoder": "json",
       "name": "Prior Model MSE",
       "version": 1
      }
     },
     "metadata": {
      "scrapbook": {
       "data": true,
       "display": false,
       "name": "Prior Model MSE"
      }
     },
     "output_type": "display_data"
    },
    {
     "data": {
      "application/scrapbook.scrap.json+json": {
       "data": 1.1124860104311627,
       "encoder": "json",
       "name": "ABC Pre-generator MSE",
       "version": 1
      }
     },
     "metadata": {
      "scrapbook": {
       "data": true,
       "display": false,
       "name": "ABC Pre-generator MSE"
      }
     },
     "output_type": "display_data"
    },
    {
     "data": {
      "application/scrapbook.scrap.json+json": {
       "data": 0.4044619608211841,
       "encoder": "json",
       "name": "Prior Model MAE",
       "version": 1
      }
     },
     "metadata": {
      "scrapbook": {
       "data": true,
       "display": false,
       "name": "Prior Model MAE"
      }
     },
     "output_type": "display_data"
    },
    {
     "name": "stdout",
     "output_type": "stream",
     "text": [
      "Prior Model MAE 0.4044619608211841\n"
     ]
    },
    {
     "data": {
      "application/scrapbook.scrap.json+json": {
       "data": 0.76189344117078,
       "encoder": "json",
       "name": "ABC Pre-generator MAE",
       "version": 1
      }
     },
     "metadata": {
      "scrapbook": {
       "data": true,
       "display": false,
       "name": "ABC Pre-generator MAE"
      }
     },
     "output_type": "display_data"
    },
    {
     "name": "stdout",
     "output_type": "stream",
     "text": [
      "ABC Pre-generator MAE 0.76189344117078\n"
     ]
    }
   ],
   "source": [
    "y_pred = prior_model.predict(X_test)\n",
    "y_abc = y_pred + np.random.normal(0,variance, y_pred.shape) + bias \n",
    "mse = mean_squared_error(y_pred,Y_test)\n",
    "sb.glue(\"Prior Model MSE\",mse)\n",
    "mse = mean_squared_error(y_abc,Y_test)\n",
    "sb.glue(\"ABC Pre-generator MSE\",mse)\n",
    "mae = mean_absolute_error(y_pred,Y_test)\n",
    "sb.glue(\"Prior Model MAE\",mae)\n",
    "print(\"Prior Model MAE\",mae)\n",
    "mae = mean_absolute_error(y_abc,Y_test)\n",
    "sb.glue(\"ABC Pre-generator MAE\",mae)\n",
    "print(\"ABC Pre-generator MAE\",mae)"
   ]
  },
  {
   "cell_type": "markdown",
   "id": "25609da2",
   "metadata": {
    "papermill": {
     "duration": 0.025544,
     "end_time": "2022-07-22T12:06:37.519690",
     "exception": false,
     "start_time": "2022-07-22T12:06:37.494146",
     "status": "completed"
    },
    "tags": []
   },
   "source": [
    "# mGAN Model"
   ]
  },
  {
   "cell_type": "code",
   "execution_count": 11,
   "id": "dfc3464d",
   "metadata": {
    "execution": {
     "iopub.execute_input": "2022-07-22T12:06:37.565749Z",
     "iopub.status.busy": "2022-07-22T12:06:37.565075Z",
     "iopub.status.idle": "2022-07-22T12:06:37.570322Z",
     "shell.execute_reply": "2022-07-22T12:06:37.569017Z"
    },
    "papermill": {
     "duration": 0.031284,
     "end_time": "2022-07-22T12:06:37.574120",
     "exception": false,
     "start_time": "2022-07-22T12:06:37.542836",
     "status": "completed"
    },
    "tags": []
   },
   "outputs": [],
   "source": [
    "# gen = network.Generator(n_features+1).to(device)\n",
    "# disc = network.Discriminator(n_features+1).to(device)\n",
    "\n",
    "# criterion = torch.nn.BCELoss()\n",
    "# gen_opt = torch.optim.Adam(gen.parameters(), lr=0.001, betas=(0.5, 0.999))\n",
    "# disc_opt = torch.optim.Adam(disc.parameters(), lr=0.001, betas=(0.5, 0.999))"
   ]
  },
  {
   "cell_type": "code",
   "execution_count": 12,
   "id": "b75fdd85",
   "metadata": {
    "execution": {
     "iopub.execute_input": "2022-07-22T12:06:37.616365Z",
     "iopub.status.busy": "2022-07-22T12:06:37.615908Z",
     "iopub.status.idle": "2022-07-22T12:06:37.620885Z",
     "shell.execute_reply": "2022-07-22T12:06:37.619671Z"
    },
    "papermill": {
     "duration": 0.029352,
     "end_time": "2022-07-22T12:06:37.624305",
     "exception": false,
     "start_time": "2022-07-22T12:06:37.594953",
     "status": "completed"
    },
    "tags": []
   },
   "outputs": [],
   "source": [
    "#Training the ABC_GAN \n",
    "# ABC_train_test2.training_GAN(disc,gen,disc_opt,gen_opt,train_data,batch_size,n_epochs,criterion,prior_model,variance,bias,device)"
   ]
  },
  {
   "cell_type": "code",
   "execution_count": 13,
   "id": "1fa7c368",
   "metadata": {
    "execution": {
     "iopub.execute_input": "2022-07-22T12:06:37.669995Z",
     "iopub.status.busy": "2022-07-22T12:06:37.669275Z",
     "iopub.status.idle": "2022-07-22T12:06:37.674425Z",
     "shell.execute_reply": "2022-07-22T12:06:37.673030Z"
    },
    "papermill": {
     "duration": 0.032572,
     "end_time": "2022-07-22T12:06:37.680459",
     "exception": false,
     "start_time": "2022-07-22T12:06:37.647887",
     "status": "completed"
    },
    "tags": []
   },
   "outputs": [],
   "source": [
    "# ABC_GAN1_metrics=ABC_train_test2.test_generator(gen,test_data,prior_model,variance,bias,\"1\",device)\n",
    "# sb.glue(\"ABC_GAN_1 Metrics\",ABC_GAN1_metrics)\n",
    "\n",
    "# print(\"MAE\")\n",
    "# print(mean(ABC_GAN1_metrics[1]))"
   ]
  },
  {
   "cell_type": "code",
   "execution_count": 14,
   "id": "eb22ce5c",
   "metadata": {
    "execution": {
     "iopub.execute_input": "2022-07-22T12:06:37.744625Z",
     "iopub.status.busy": "2022-07-22T12:06:37.743992Z",
     "iopub.status.idle": "2022-07-22T12:06:37.748256Z",
     "shell.execute_reply": "2022-07-22T12:06:37.747318Z"
    },
    "papermill": {
     "duration": 0.030512,
     "end_time": "2022-07-22T12:06:37.751229",
     "exception": false,
     "start_time": "2022-07-22T12:06:37.720717",
     "status": "completed"
    },
    "tags": []
   },
   "outputs": [],
   "source": [
    "# sanityChecks.discProbVsError(train_data,disc,device)\n",
    "# sanityChecks.discProbVsError(test_data,disc,device)"
   ]
  },
  {
   "cell_type": "markdown",
   "id": "c1c4483f",
   "metadata": {
    "papermill": {
     "duration": 0.019911,
     "end_time": "2022-07-22T12:06:37.793344",
     "exception": false,
     "start_time": "2022-07-22T12:06:37.773433",
     "status": "completed"
    },
    "tags": []
   },
   "source": [
    "# mGAN Model with TabNet Generator"
   ]
  },
  {
   "cell_type": "code",
   "execution_count": 15,
   "id": "f05201ad",
   "metadata": {
    "execution": {
     "iopub.execute_input": "2022-07-22T12:06:37.834119Z",
     "iopub.status.busy": "2022-07-22T12:06:37.833485Z",
     "iopub.status.idle": "2022-07-22T12:06:37.851810Z",
     "shell.execute_reply": "2022-07-22T12:06:37.850764Z"
    },
    "papermill": {
     "duration": 0.041651,
     "end_time": "2022-07-22T12:06:37.854915",
     "exception": false,
     "start_time": "2022-07-22T12:06:37.813264",
     "status": "completed"
    },
    "tags": []
   },
   "outputs": [],
   "source": [
    "gen2 = network.GeneratorTabnet(n_features+1).to(device)\n",
    "disc2 = network.Discriminator(n_features+1).to(device)\n",
    "\n",
    "criterion = torch.nn.BCELoss()\n",
    "gen_opt = torch.optim.Adam(gen2.parameters(), lr=0.001, betas=(0.5, 0.999))\n",
    "disc_opt = torch.optim.Adam(disc2.parameters(), lr=0.001, betas=(0.5, 0.999))"
   ]
  },
  {
   "cell_type": "code",
   "execution_count": 16,
   "id": "115b0ff4",
   "metadata": {
    "execution": {
     "iopub.execute_input": "2022-07-22T12:06:37.905619Z",
     "iopub.status.busy": "2022-07-22T12:06:37.904550Z",
     "iopub.status.idle": "2022-07-22T12:09:25.711292Z",
     "shell.execute_reply": "2022-07-22T12:09:25.708416Z"
    },
    "papermill": {
     "duration": 167.84406,
     "end_time": "2022-07-22T12:09:25.717745",
     "exception": false,
     "start_time": "2022-07-22T12:06:37.873685",
     "status": "completed"
    },
    "tags": []
   },
   "outputs": [
    {
     "data": {
      "image/png": "[encoded data removed]",
      "text/plain": [
       "<Figure size 432x288 with 1 Axes>"
      ]
     },
     "metadata": {
      "needs_background": "light"
     },
     "output_type": "display_data"
    },
    {
     "data": {
      "image/png": "[encoded data removed]",
      "text/plain": [
       "<Figure size 432x288 with 1 Axes>"
      ]
     },
     "metadata": {
      "needs_background": "light"
     },
     "output_type": "display_data"
    }
   ],
   "source": [
    "#Training the ABC_GAN \n",
    "ABC_train_test2.training_GAN(disc2,gen2,disc_opt,gen_opt,train_data,batch_size,n_epochs,criterion,prior_model,variance,bias,device)"
   ]
  },
  {
   "cell_type": "code",
   "execution_count": 17,
   "id": "5bc0578b",
   "metadata": {
    "execution": {
     "iopub.execute_input": "2022-07-22T12:09:25.761625Z",
     "iopub.status.busy": "2022-07-22T12:09:25.761048Z",
     "iopub.status.idle": "2022-07-22T12:09:27.935393Z",
     "shell.execute_reply": "2022-07-22T12:09:27.934157Z"
    },
    "papermill": {
     "duration": 2.203885,
     "end_time": "2022-07-22T12:09:27.940115",
     "exception": false,
     "start_time": "2022-07-22T12:09:25.736230",
     "status": "completed"
    },
    "tags": []
   },
   "outputs": [
    {
     "data": {
      "application/scrapbook.scrap.json+json": {
       "data": 0.49303177535341436,
       "encoder": "json",
       "name": "ABC-GAN Model 1 MSE",
       "version": 1
      }
     },
     "metadata": {
      "scrapbook": {
       "data": true,
       "display": false,
       "name": "ABC-GAN Model 1 MSE"
      }
     },
     "output_type": "display_data"
    },
    {
     "data": {
      "application/scrapbook.scrap.json+json": {
       "data": 0.47555419652257114,
       "encoder": "json",
       "name": "ABC-GAN Model 1 MAE",
       "version": 1
      }
     },
     "metadata": {
      "scrapbook": {
       "data": true,
       "display": false,
       "name": "ABC-GAN Model 1 MAE"
      }
     },
     "output_type": "display_data"
    },
    {
     "data": {
      "application/scrapbook.scrap.json+json": {
       "data": 9.511083930451424,
       "encoder": "json",
       "name": "ABC-GAN Model 1 Manhattan Distance",
       "version": 1
      }
     },
     "metadata": {
      "scrapbook": {
       "data": true,
       "display": false,
       "name": "ABC-GAN Model 1 Manhattan Distance"
      }
     },
     "output_type": "display_data"
    },
    {
     "data": {
      "application/scrapbook.scrap.json+json": {
       "data": 3.115023650500011,
       "encoder": "json",
       "name": "ABC-GAN Model 1 Euclidean distance",
       "version": 1
      }
     },
     "metadata": {
      "scrapbook": {
       "data": true,
       "display": false,
       "name": "ABC-GAN Model 1 Euclidean distance"
      }
     },
     "output_type": "display_data"
    },
    {
     "data": {
      "application/scrapbook.scrap.json+json": {
       "data": [
        [
         0.443203402480874,
         0.3847321882850744,
         0.4324270073364003,
         0.35049122523995396,
         0.5473524974605469,
         0.4977069838539398,
         0.5604238822674066,
         0.4604422134198488,
         0.432328513091608,
         0.4875480728937516,
         0.3911917992523971,
         0.38241943822934743,
         0.44160347230031327,
         0.5605434146946683,
         0.3801784451872249,
         0.5465257256867453,
         0.6442897745716791,
         0.47591961009049977,
         0.3502010696671335,
         0.5829163176502445,
         0.72140887746143,
         0.3907906758856002,
         0.5372416636810977,
         0.3597240061351169,
         0.6174918892379013,
         0.41574126833528224,
         0.4417482643161181,
         0.4306805046637329,
         0.3155136301844789,
         0.4994378014779164,
         0.41799068692863595,
         0.5873040082233312,
         0.7661408143576925,
         0.5097504068186902,
         0.4554912730678183,
         0.5362781698825314,
         0.3470618614877485,
         0.39708490839759364,
         0.36535270882153753,
         0.7406031079740133,
         0.34143431137823,
         0.4840728301815499,
         0.36608974123399923,
         0.5543800707305369,
         0.8868069364913309,
         0.7608925724025614,
         0.4593420329724577,
         0.79913456943491,
         0.49112641796737255,
         0.5198676997615387,
         0.46293460929617786,
         0.5216230455483288,
         0.36875009415603066,
         0.5424642873085335,
         0.39931704984428584,
         0.49651842789868467,
         0.6621329366198212,
         0.5237799229660801,
         0.5084468635638684,
         0.5741763731462862,
         0.4861382221252927,
         0.5175516974286511,
         0.5284435009918935,
         0.41526572095639036,
         0.5840340442851538,
         0.5685633031728164,
         0.45775254038619584,
         0.3943204547992151,
         0.3520561877802563,
         0.518345241806367,
         0.2463461487831402,
         0.39171208073546404,
         0.5176276207888711,
         0.3642759174335501,
         0.5061789546828707,
         0.4743938807932748,
         0.41876011315773026,
         0.4224369023939216,
         0.47470251497776916,
         0.4695320433454304,
         0.4078385635052625,
         0.5823078544788836,
         0.36887182228045623,
         0.4966702595363193,
         0.42856907531768657,
         0.6810381726390903,
         0.7641854735568854,
         0.8117093188130324,
         0.3981341250132799,
         0.7926133705346803,
         0.517965781114077,
         0.31909858609387276,
         0.31664025744821217,
         0.7764863146827166,
         0.4088366534664717,
         0.6983111721326404,
         0.363210260908735,
         0.3789699774571353,
         0.3460146926009173,
         0.40869633903631647
        ],
        [
         0.45675163709092886,
         0.4222840561764315,
         0.4754714071052149,
         0.4189560140715912,
         0.5202038715826347,
         0.43625892691779883,
         0.5096655010478571,
         0.4550388953881338,
         0.47545820989180354,
         0.465304236789234,
         0.4394239395158365,
         0.42019939788151534,
         0.46836635426152495,
         0.5515768057899549,
         0.4473420798080042,
         0.516189370979555,
         0.4649762972490862,
         0.4730671151774004,
         0.41705623485613613,
         0.5227032690541819,
         0.5902011743979528,
         0.44017399691510944,
         0.48608815514016895,
         0.4259181327419356,
         0.501030461420305,
         0.4134852945106104,
         0.450302432407625,
         0.4635148681001738,
         0.4053863882320002,
         0.4809467747109011,
         0.4450322843389586,
         0.4836910165147856,
         0.5335274263517931,
         0.48329080038238315,
         0.46069114648271353,
         0.4940050407545641,
         0.46129479848314076,
         0.445313638378866,
         0.44909777857828886,
         0.5522033962653949,
         0.4138276632176712,
         0.46869127892423423,
         0.41065939955879005,
         0.5233090984867885,
         0.598508648504503,
         0.5376188240246847,
         0.4677738010184839,
         0.5760191313223914,
         0.4428563713328913,
         0.5046923234360292,
         0.47392894320655615,
         0.45802720480132847,
         0.4045230656163767,
         0.5245067551033571,
         0.4400546617107466,
         0.49840618364978584,
         0.5184787824051454,
         0.4995227261679247,
         0.5122779487865046,
         0.5040967195527628,
         0.4843362241284922,
         0.5317719615297392,
         0.5276464580791072,
         0.4494219511048868,
         0.5198450698750093,
         0.48037386008072647,
         0.47681977406609805,
         0.4352045997278765,
         0.4133331275777891,
         0.5036569106625393,
         0.355116345663555,
         0.4604416727321222,
         0.4772827710257843,
         0.4583679496543482,
         0.4819993703858927,
         0.4770998015301302,
         0.45162110172677783,
         0.4903216033475474,
         0.46548041843343524,
         0.4846040963428095,
         0.4540094166295603,
         0.5124259024159983,
         0.4199746824102476,
         0.4946673720376566,
         0.46314830288756637,
         0.5600935950176791,
         0.5619532554643228,
         0.5370100959436968,
         0.4440177007811144,
         0.5796434126095846,
         0.47066818319726733,
         0.4089445836143568,
         0.3956521502928808,
         0.5269343151943758,
         0.4710238500731066,
         0.5412355392472818,
         0.4273609384195879,
         0.41842005096841606,
         0.42106323533225803,
         0.42315984547603874
        ],
        [
         9.135032741818577,
         8.44568112352863,
         9.509428142104298,
         8.379120281431824,
         10.404077431652695,
         8.725178538355976,
         10.193310020957142,
         9.100777907762676,
         9.509164197836071,
         9.30608473578468,
         8.78847879031673,
         8.403987957630306,
         9.3673270852305,
         11.0315361157991,
         8.946841596160084,
         10.323787419591099,
         9.299525944981724,
         9.461342303548008,
         8.341124697122723,
         10.454065381083637,
         11.804023487959057,
         8.803479938302189,
         9.72176310280338,
         8.518362654838711,
         10.020609228406101,
         8.269705890212208,
         9.0060486481525,
         9.270297362003475,
         8.107727764640003,
         9.618935494218022,
         8.900645686779171,
         9.673820330295712,
         10.670548527035862,
         9.665816007647663,
         9.21382292965427,
         9.880100815091282,
         9.225895969662815,
         8.90627276757732,
         8.981955571565777,
         11.0440679253079,
         8.276553264353424,
         9.373825578484684,
         8.2131879911758,
         10.466181969735771,
         11.970172970090061,
         10.752376480493695,
         9.355476020369679,
         11.520382626447827,
         8.857127426657826,
         10.093846468720585,
         9.478578864131123,
         9.16054409602657,
         8.090461312327534,
         10.490135102067143,
         8.801093234214932,
         9.968123672995716,
         10.36957564810291,
         9.990454523358494,
         10.245558975730091,
         10.081934391055256,
         9.686724482569844,
         10.635439230594784,
         10.552929161582142,
         8.988439022097737,
         10.396901397500187,
         9.607477201614529,
         9.53639548132196,
         8.70409199455753,
         8.266662551555783,
         10.073138213250786,
         7.102326913271099,
         9.208833454642445,
         9.545655420515686,
         9.167358993086964,
         9.639987407717854,
         9.541996030602604,
         9.032422034535557,
         9.806432066950947,
         9.309608368668705,
         9.69208192685619,
         9.080188332591206,
         10.248518048319966,
         8.399493648204952,
         9.893347440753132,
         9.262966057751328,
         11.20187190035358,
         11.239065109286457,
         10.740201918873936,
         8.880354015622288,
         11.592868252191693,
         9.413363663945347,
         8.178891672287136,
         7.913043005857617,
         10.538686303887516,
         9.420477001462132,
         10.824710784945637,
         8.547218768391758,
         8.36840101936832,
         8.421264706645161,
         8.463196909520775
        ],
        [
         2.9772584788052043,
         2.7739220907771522,
         2.940840040996451,
         2.6476073169560244,
         3.308632640413701,
         3.155018173811174,
         3.347906457078532,
         3.0346077618692298,
         2.9405051031807714,
         3.1226529518784236,
         2.7971120794576576,
         2.7655720501529064,
         2.971879783235901,
         3.348263474383903,
         2.7574569631717734,
         3.3061328638962624,
         3.589679023455103,
         3.0851891679133705,
         2.6465111738556235,
         3.414429140135272,
         3.798444095840901,
         2.795677649106206,
         3.277931249068832,
         2.682252807380829,
         3.5142335984902915,
         2.883543890199288,
         2.972366950146358,
         2.9348952440035503,
         2.512025597737726,
         3.160499332314172,
         2.8913342488499523,
         3.427255485730035,
         3.914436905501716,
         3.192962282328716,
         3.018248740802581,
         3.2749905950476603,
         2.6346227869953167,
         2.8181018732387715,
         2.703156335921167,
         3.8486441975688357,
         2.6131755064604065,
         3.1115039134847633,
         2.7058815245091545,
         3.3298050115000333,
         4.211429535184771,
         3.9010064660355575,
         3.030980148309974,
         3.9978358381377044,
         3.13409131317954,
         3.2244928275979734,
         3.04280991616689,
         3.229932028846207,
         2.7156954695106394,
         3.293825397037716,
         2.8260114997794537,
         3.1512487299440033,
         3.6390464042653297,
         3.2366029196244637,
         3.188877117619518,
         3.388735378120535,
         3.1181347697791786,
         3.217302278085325,
         3.2509798553417504,
         2.8818942414890603,
         3.417701111230044,
         3.3721307897909787,
         3.0257314500338457,
         2.8082751104520196,
         2.653511589498928,
         3.219767823326294,
         2.21966731193276,
         2.798971528027622,
         3.2175382539726582,
         2.699169936975255,
         3.181757233614377,
         3.080239863365432,
         2.8939941712371513,
         2.9066713002812055,
         3.0812416814582044,
         3.0644152569305305,
         2.856006174731639,
         3.4126466400108977,
         2.7161436717539673,
         3.1517305073128297,
         2.9276921809428207,
         3.6906318500741584,
         3.909438510980536,
         4.029166958101966,
         2.821822549393494,
         3.981490601608097,
         3.218589073224716,
         2.526256463995185,
         2.516506536642463,
         3.9407773717446073,
         2.85949874441823,
         3.737141078773025,
         2.6952189555163604,
         2.7530709306414005,
         2.6306451398883786,
         2.859008006411722
        ]
       ],
       "encoder": "json",
       "name": "ABC_GAN_2 Metrics",
       "version": 1
      }
     },
     "metadata": {
      "scrapbook": {
       "data": true,
       "display": false,
       "name": "ABC_GAN_2 Metrics"
      }
     },
     "output_type": "display_data"
    },
    {
     "name": "stdout",
     "output_type": "stream",
     "text": [
      "MAE\n",
      "0.47555419652257114\n"
     ]
    }
   ],
   "source": [
    "ABC_GAN2_metrics=ABC_train_test2.test_generator(gen2,test_data,prior_model,variance,bias,\"1\",device)\n",
    "sb.glue(\"ABC_GAN_2 Metrics\",ABC_GAN2_metrics)\n",
    "\n",
    "print(\"MAE\")\n",
    "print(mean(ABC_GAN2_metrics[1]))"
   ]
  },
  {
   "cell_type": "code",
   "execution_count": 18,
   "id": "2c02db18",
   "metadata": {
    "execution": {
     "iopub.execute_input": "2022-07-22T12:09:28.007873Z",
     "iopub.status.busy": "2022-07-22T12:09:28.007325Z",
     "iopub.status.idle": "2022-07-22T12:09:29.297606Z",
     "shell.execute_reply": "2022-07-22T12:09:29.295173Z"
    },
    "papermill": {
     "duration": 1.332748,
     "end_time": "2022-07-22T12:09:29.302120",
     "exception": false,
     "start_time": "2022-07-22T12:09:27.969372",
     "status": "completed"
    },
    "tags": []
   },
   "outputs": [
    {
     "data": {
      "image/png": "[encoded data removed]",
      "text/plain": [
       "<Figure size 432x288 with 1 Axes>"
      ]
     },
     "metadata": {
      "needs_background": "light"
     },
     "output_type": "display_data"
    },
    {
     "data": {
      "image/png": "[encoded data removed]",
      "text/plain": [
       "<Figure size 432x288 with 1 Axes>"
      ]
     },
     "metadata": {
      "needs_background": "light"
     },
     "output_type": "display_data"
    },
    {
     "data": {
      "image/png": "[encoded data removed]",
      "text/plain": [
       "<Figure size 432x288 with 1 Axes>"
      ]
     },
     "metadata": {
      "needs_background": "light"
     },
     "output_type": "display_data"
    },
    {
     "data": {
      "image/png": "[encoded data removed]",
      "text/plain": [
       "<Figure size 432x288 with 1 Axes>"
      ]
     },
     "metadata": {
      "needs_background": "light"
     },
     "output_type": "display_data"
    }
   ],
   "source": [
    "sanityChecks.discProbVsError(train_data,disc2,device)\n",
    "sanityChecks.discProbVsError(test_data,disc2,device)"
   ]
  },
  {
   "cell_type": "markdown",
   "id": "130f3a4d",
   "metadata": {
    "id": "130f3a4d",
    "papermill": {
     "duration": 0.04219,
     "end_time": "2022-07-22T12:09:29.386067",
     "exception": false,
     "start_time": "2022-07-22T12:09:29.343877",
     "status": "completed"
    },
    "tags": []
   },
   "source": [
    "# skipGAN Model"
   ]
  },
  {
   "cell_type": "code",
   "execution_count": 19,
   "id": "4e43dad1",
   "metadata": {
    "execution": {
     "iopub.execute_input": "2022-07-22T12:09:29.452321Z",
     "iopub.status.busy": "2022-07-22T12:09:29.451870Z",
     "iopub.status.idle": "2022-07-22T12:09:29.461458Z",
     "shell.execute_reply": "2022-07-22T12:09:29.459183Z"
    },
    "id": "4e43dad1",
    "papermill": {
     "duration": 0.048655,
     "end_time": "2022-07-22T12:09:29.465412",
     "exception": false,
     "start_time": "2022-07-22T12:09:29.416757",
     "status": "completed"
    },
    "tags": []
   },
   "outputs": [],
   "source": [
    "# #Generator\n",
    "# gen3 = network.GeneratorWithSkipConnection(n_features+1).to(device)\n",
    "# constraints=network.weightConstraint()\n",
    "# #Discriminator \n",
    "# disc3 = network.Discriminator(n_features+1).to(device)\n",
    "\n",
    "# criterion = torch.nn.BCELoss()\n",
    "# gen_opt = torch.optim.Adam(gen3.parameters(), lr=0.01, betas=(0.5, 0.999))\n",
    "# disc_opt = torch.optim.Adam(disc3.parameters(), lr=0.01, betas=(0.5, 0.999))\n"
   ]
  },
  {
   "cell_type": "code",
   "execution_count": 20,
   "id": "26acbc37",
   "metadata": {
    "execution": {
     "iopub.execute_input": "2022-07-22T12:09:29.550358Z",
     "iopub.status.busy": "2022-07-22T12:09:29.549392Z",
     "iopub.status.idle": "2022-07-22T12:09:29.556978Z",
     "shell.execute_reply": "2022-07-22T12:09:29.555566Z"
    },
    "id": "26acbc37",
    "papermill": {
     "duration": 0.069131,
     "end_time": "2022-07-22T12:09:29.565052",
     "exception": false,
     "start_time": "2022-07-22T12:09:29.495921",
     "status": "completed"
    },
    "tags": []
   },
   "outputs": [],
   "source": [
    "# ABC_train_test2.training_GAN_skip_connection(disc3,gen3,disc_opt,gen_opt,train_data,batch_size,n_epochs,criterion,prior_model,variance,bias,device)"
   ]
  },
  {
   "cell_type": "code",
   "execution_count": 21,
   "id": "c5e0717b",
   "metadata": {
    "execution": {
     "iopub.execute_input": "2022-07-22T12:09:29.630968Z",
     "iopub.status.busy": "2022-07-22T12:09:29.630228Z",
     "iopub.status.idle": "2022-07-22T12:09:29.635340Z",
     "shell.execute_reply": "2022-07-22T12:09:29.634181Z"
    },
    "id": "c5e0717b",
    "papermill": {
     "duration": 0.043162,
     "end_time": "2022-07-22T12:09:29.641542",
     "exception": false,
     "start_time": "2022-07-22T12:09:29.598380",
     "status": "completed"
    },
    "tags": []
   },
   "outputs": [],
   "source": [
    "# ABC_GAN3_metrics=ABC_train_test2.test_generator(gen3,test_data,prior_model,variance,bias,\"3\",device)\n",
    "# sb.glue(\"ABC_GAN_3 Metrics\",ABC_GAN3_metrics)\n",
    "\n",
    "# print(\"MAE\")\n",
    "# print(mean(ABC_GAN3_metrics[1]))"
   ]
  },
  {
   "cell_type": "code",
   "execution_count": 22,
   "id": "c8e46b48",
   "metadata": {
    "execution": {
     "iopub.execute_input": "2022-07-22T12:09:29.705300Z",
     "iopub.status.busy": "2022-07-22T12:09:29.704868Z",
     "iopub.status.idle": "2022-07-22T12:09:29.715537Z",
     "shell.execute_reply": "2022-07-22T12:09:29.712731Z"
    },
    "id": "c8e46b48",
    "papermill": {
     "duration": 0.050425,
     "end_time": "2022-07-22T12:09:29.721905",
     "exception": false,
     "start_time": "2022-07-22T12:09:29.671480",
     "status": "completed"
    },
    "tags": []
   },
   "outputs": [],
   "source": [
    "# sanityChecks.discProbVsError(train_data,disc3,device)\n",
    "# sanityChecks.discProbVsError(test_data,disc3,device)"
   ]
  },
  {
   "cell_type": "markdown",
   "id": "bf57aeaf",
   "metadata": {
    "id": "130f3a4d",
    "papermill": {
     "duration": 0.039401,
     "end_time": "2022-07-22T12:09:29.793346",
     "exception": false,
     "start_time": "2022-07-22T12:09:29.753945",
     "status": "completed"
    },
    "tags": []
   },
   "source": [
    "# skipGAN Model with TabNet Generator"
   ]
  },
  {
   "cell_type": "code",
   "execution_count": 23,
   "id": "f111ce62",
   "metadata": {
    "execution": {
     "iopub.execute_input": "2022-07-22T12:09:29.875521Z",
     "iopub.status.busy": "2022-07-22T12:09:29.875016Z",
     "iopub.status.idle": "2022-07-22T12:09:29.899716Z",
     "shell.execute_reply": "2022-07-22T12:09:29.898607Z"
    },
    "id": "4e43dad1",
    "papermill": {
     "duration": 0.08371,
     "end_time": "2022-07-22T12:09:29.911928",
     "exception": false,
     "start_time": "2022-07-22T12:09:29.828218",
     "status": "completed"
    },
    "tags": []
   },
   "outputs": [],
   "source": [
    "#Generator\n",
    "gen4 = network.GeneratorTabnetskipConnection(n_features+1).to(device)\n",
    "constraints=network.weightConstraint()\n",
    "#Discriminator \n",
    "disc4 = network.Discriminator(n_features+1).to(device)\n",
    "\n",
    "criterion = torch.nn.BCELoss()\n",
    "gen_opt = torch.optim.Adam(gen4.parameters(), lr=0.001, betas=(0.5, 0.999))\n",
    "disc_opt = torch.optim.Adam(disc4.parameters(), lr=0.001, betas=(0.5, 0.999))\n"
   ]
  },
  {
   "cell_type": "code",
   "execution_count": 24,
   "id": "a117a909",
   "metadata": {
    "execution": {
     "iopub.execute_input": "2022-07-22T12:09:30.003647Z",
     "iopub.status.busy": "2022-07-22T12:09:30.002907Z",
     "iopub.status.idle": "2022-07-22T12:12:43.064412Z",
     "shell.execute_reply": "2022-07-22T12:12:43.063157Z"
    },
    "id": "26acbc37",
    "papermill": {
     "duration": 193.109141,
     "end_time": "2022-07-22T12:12:43.067982",
     "exception": false,
     "start_time": "2022-07-22T12:09:29.958841",
     "status": "completed"
    },
    "tags": []
   },
   "outputs": [
    {
     "data": {
      "image/png": "[encoded data removed]",
      "text/plain": [
       "<Figure size 432x288 with 1 Axes>"
      ]
     },
     "metadata": {
      "needs_background": "light"
     },
     "output_type": "display_data"
    },
    {
     "data": {
      "image/png": "[encoded data removed]",
      "text/plain": [
       "<Figure size 432x288 with 1 Axes>"
      ]
     },
     "metadata": {
      "needs_background": "light"
     },
     "output_type": "display_data"
    }
   ],
   "source": [
    "ABC_train_test2.training_GAN_skip_connection(disc4,gen4,disc_opt,gen_opt,train_data,batch_size,n_epochs,criterion,prior_model,variance,bias,device)"
   ]
  },
  {
   "cell_type": "code",
   "execution_count": 25,
   "id": "bb5910cf",
   "metadata": {
    "execution": {
     "iopub.execute_input": "2022-07-22T12:12:43.128747Z",
     "iopub.status.busy": "2022-07-22T12:12:43.128374Z",
     "iopub.status.idle": "2022-07-22T12:12:45.375609Z",
     "shell.execute_reply": "2022-07-22T12:12:45.368040Z"
    },
    "id": "c5e0717b",
    "papermill": {
     "duration": 2.281535,
     "end_time": "2022-07-22T12:12:45.379004",
     "exception": false,
     "start_time": "2022-07-22T12:12:43.097469",
     "status": "completed"
    },
    "tags": []
   },
   "outputs": [
    {
     "data": {
      "application/scrapbook.scrap.json+json": {
       "data": 0.4311981469417687,
       "encoder": "json",
       "name": "ABC-GAN Model 3 MSE",
       "version": 1
      }
     },
     "metadata": {
      "scrapbook": {
       "data": true,
       "display": false,
       "name": "ABC-GAN Model 3 MSE"
      }
     },
     "output_type": "display_data"
    },
    {
     "data": {
      "application/scrapbook.scrap.json+json": {
       "data": 0.4670760290999897,
       "encoder": "json",
       "name": "ABC-GAN Model 3 MAE",
       "version": 1
      }
     },
     "metadata": {
      "scrapbook": {
       "data": true,
       "display": false,
       "name": "ABC-GAN Model 3 MAE"
      }
     },
     "output_type": "display_data"
    },
    {
     "data": {
      "application/scrapbook.scrap.json+json": {
       "data": 9.341520581999793,
       "encoder": "json",
       "name": "ABC-GAN Model 3 Manhattan Distance",
       "version": 1
      }
     },
     "metadata": {
      "scrapbook": {
       "data": true,
       "display": false,
       "name": "ABC-GAN Model 3 Manhattan Distance"
      }
     },
     "output_type": "display_data"
    },
    {
     "data": {
      "application/scrapbook.scrap.json+json": {
       "data": 2.8919911527018667,
       "encoder": "json",
       "name": "ABC-GAN Model 3 Euclidean distance",
       "version": 1
      }
     },
     "metadata": {
      "scrapbook": {
       "data": true,
       "display": false,
       "name": "ABC-GAN Model 3 Euclidean distance"
      }
     },
     "output_type": "display_data"
    },
    {
     "data": {
      "application/scrapbook.scrap.json+json": {
       "data": [
        [
         0.344625810586403,
         0.38960726091237274,
         0.4771828248702873,
         0.2397066843613087,
         0.4182702063314153,
         0.3025909207726135,
         0.4877258077821395,
         0.4099271911156901,
         0.8938506950292812,
         0.3667546788290328,
         0.4119145419677688,
         0.43622796205715525,
         0.33241572006259024,
         0.35319337057117683,
         0.37577843139406364,
         0.41302309613195803,
         0.42918954660434727,
         0.3350860595273478,
         0.5057821959146814,
         0.3292598073072487,
         0.32818838816423723,
         0.38451380891063985,
         0.7185724606363507,
         0.4153912736102622,
         0.3724221477639013,
         0.27108853137374217,
         0.5394932694927078,
         0.45611940208319846,
         0.2841250655762403,
         0.5713373850380105,
         0.29076709644597803,
         0.39633218841838713,
         0.4838941497362189,
         0.29850387255084776,
         0.4312622260095866,
         0.3487865914357755,
         0.3609554049283871,
         0.3520285928851692,
         0.4169483640853196,
         0.42416430435643565,
         0.38500653145101904,
         0.5116901043374774,
         0.4452401495421833,
         1.0750509327804971,
         0.28534585815107155,
         0.3796457611697493,
         0.4978298626543117,
         0.36722672933249517,
         0.3680139551479294,
         0.42846042518383526,
         0.36610873748552863,
         0.47931928942968743,
         0.41141902990232004,
         0.370616508142954,
         0.38678243158659753,
         0.3547202599993747,
         0.3138801757971023,
         0.4514132142119099,
         0.4002426724729151,
         0.3880911412001437,
         0.6256463863740962,
         0.4984266353273295,
         0.5389149917069436,
         0.5359016183392795,
         0.37945876443131155,
         0.5734973111367877,
         0.45912454234701805,
         0.4222994660807764,
         0.38794012021153373,
         0.40690702653433297,
         0.3512210461230034,
         0.2605404259942085,
         0.4522176904900174,
         0.34791383675562465,
         1.1003791249002544,
         1.1356526856307843,
         0.26932680016825883,
         0.37098164986576365,
         0.2618293194128115,
         0.44670324470950523,
         0.3099691427128121,
         0.36965228209359935,
         0.2984669420710132,
         0.3395244965145017,
         0.30228651814677326,
         0.5126865319581411,
         0.31289347727939554,
         0.23550202167340256,
         0.4185791625462697,
         0.4327078151515316,
         0.2875546672278354,
         0.37841666119265105,
         0.33247620891775564,
         1.34479984408375,
         0.37609025646918776,
         0.42777912712901445,
         0.49111077756653215,
         0.3839713383508839,
         0.3372652066721408,
         0.34008842427066177
        ],
        [
         0.44628950871992856,
         0.4620298846857622,
         0.5380274190800265,
         0.3725305474596098,
         0.45020299770403654,
         0.3901763539062813,
         0.4824061806546524,
         0.4788110648514703,
         0.5314128614263609,
         0.46618304897565394,
         0.4624613068299368,
         0.4388535960810259,
         0.44310989894438535,
         0.42379596673417835,
         0.4735253597842529,
         0.4694218970136717,
         0.4536882966058329,
         0.4448530017631128,
         0.4921482323901728,
         0.42507663660217077,
         0.4147608204977587,
         0.4270293674664572,
         0.5244810792850331,
         0.4841533462749794,
         0.46835733943153174,
         0.40431672625709325,
         0.583227484789677,
         0.4900832562940195,
         0.4180968790547922,
         0.49110439538490025,
         0.39501867585349826,
         0.4327738403575495,
         0.46076717593241484,
         0.4451914980309084,
         0.5274285539286211,
         0.37327798299957066,
         0.47447994046378883,
         0.43065470897126945,
         0.45343608104158195,
         0.463342761923559,
         0.4430205426411703,
         0.5474316238658503,
         0.47080111943650993,
         0.6313783287303523,
         0.39706386767793445,
         0.43132072382140907,
         0.4973885624902323,
         0.4692430592374876,
         0.4205662816064432,
         0.47008767642546445,
         0.4701373837189749,
         0.5080975589575246,
         0.4237423881189898,
         0.4377817697124556,
         0.4936503044562414,
         0.4309554218547419,
         0.43123376958537846,
         0.45310757227707654,
         0.448885393072851,
         0.4771904639201239,
         0.6215950067387894,
         0.5525915033416823,
         0.5970634407596662,
         0.5378554090159013,
         0.45663605474401264,
         0.5630430660443381,
         0.48649662130046634,
         0.46005918227601794,
         0.47046217613387853,
         0.4789391688304022,
         0.4426738641457632,
         0.3843789830105379,
         0.45254871242213995,
         0.4189876212971285,
         0.6354038744466379,
         0.6309002517955378,
         0.39632236056495457,
         0.44329896711278705,
         0.396007529576309,
         0.4954197260783985,
         0.3952633968787268,
         0.4758413289906457,
         0.39899412088561803,
         0.4441939971642569,
         0.4137151367263868,
         0.530548821692355,
         0.39697489675600084,
         0.36361544833052906,
         0.5211478605167941,
         0.48507592708338054,
         0.3899725928204134,
         0.4737968447851017,
         0.4074720434146002,
         0.708375885267742,
         0.41944054395426067,
         0.44275295950938015,
         0.535882578161545,
         0.4479409239487723,
         0.45075403444934636,
         0.42509026296902447
        ],
        [
         8.925790174398571,
         9.240597693715245,
         10.760548381600529,
         7.450610949192196,
         9.00405995408073,
         7.803527078125626,
         9.648123613093048,
         9.576221297029406,
         10.628257228527218,
         9.323660979513079,
         9.249226136598736,
         8.777071921620518,
         8.862197978887707,
         8.475919334683567,
         9.470507195685059,
         9.388437940273434,
         9.073765932116657,
         8.897060035262257,
         9.842964647803456,
         8.501532732043415,
         8.295216409955174,
         8.540587349329144,
         10.489621585700661,
         9.683066925499588,
         9.367146788630635,
         8.086334525141865,
         11.66454969579354,
         9.80166512588039,
         8.361937581095845,
         9.822087907698005,
         7.900373517069966,
         8.65547680715099,
         9.215343518648297,
         8.903829960618168,
         10.548571078572422,
         7.465559659991413,
         9.489598809275776,
         8.613094179425389,
         9.068721620831639,
         9.26685523847118,
         8.860410852823406,
         10.948632477317005,
         9.416022388730198,
         12.627566574607044,
         7.941277353558689,
         8.626414476428181,
         9.947771249804646,
         9.384861184749752,
         8.411325632128865,
         9.401753528509289,
         9.402747674379498,
         10.161951179150492,
         8.474847762379795,
         8.755635394249111,
         9.873006089124829,
         8.619108437094837,
         8.62467539170757,
         9.06215144554153,
         8.97770786145702,
         9.543809278402478,
         12.431900134775788,
         11.051830066833645,
         11.941268815193325,
         10.757108180318028,
         9.132721094880253,
         11.260861320886761,
         9.729932426009327,
         9.20118364552036,
         9.40924352267757,
         9.578783376608044,
         8.853477282915264,
         7.6875796602107584,
         9.050974248442799,
         8.37975242594257,
         12.708077488932759,
         12.618005035910755,
         7.926447211299092,
         8.865979342255741,
         7.9201505915261805,
         9.90839452156797,
         7.905267937574536,
         9.516826579812914,
         7.979882417712361,
         8.883879943285137,
         8.274302734527737,
         10.6109764338471,
         7.939497935120016,
         7.272308966610581,
         10.42295721033588,
         9.70151854166761,
         7.799451856408268,
         9.475936895702034,
         8.149440868292004,
         14.16751770535484,
         8.388810879085213,
         8.855059190187603,
         10.717651563230902,
         8.958818478975445,
         9.015080688986927,
         8.50180525938049
        ],
        [
         2.6253602060913583,
         2.7914414230371114,
         3.0892809029620056,
         2.1895510241202816,
         2.892300836121358,
         2.4600443929840514,
         3.123222079142434,
         2.8633099417132266,
         4.228121793490062,
         2.708337788493277,
         2.8702422962801197,
         2.953736488101656,
         2.5784325473534895,
         2.657793711224319,
         2.7414537435239126,
         2.874101933237435,
         2.9298107331510246,
         2.588768276719057,
         3.1805100091484744,
         2.566163702133006,
         2.5619851215970684,
         2.7731347205306847,
         3.7909694291469846,
         2.8823298687355763,
         2.7291835693624615,
         2.328469589123904,
         3.2847930512977763,
         3.0203291280362095,
         2.383799763303287,
         3.380347275171622,
         2.4115020068247013,
         2.8154295886005998,
         3.110929602984352,
         2.4433741938182445,
         2.936876660704656,
         2.6411610758746824,
         2.686839797711755,
         2.6534075935866666,
         2.8877270095537755,
         2.9126081245386777,
         2.7749109227181297,
         3.1990314294719813,
         2.9840916525542016,
         4.636919090906153,
         2.3889154784172315,
         2.755524491525159,
         3.1554076207498505,
         2.7100801808525707,
         2.712983432120179,
         2.9273210455426146,
         2.705951727158223,
         3.0961889135829144,
         2.8685153996529986,
         2.7225594874784793,
         2.781303405191881,
         2.6635324664789604,
         2.5055146209794996,
         3.0047070213646783,
         2.8292849714120885,
         2.7860048140667084,
         3.5373616902264775,
         3.1572983239704464,
         3.283032109824525,
         3.2738406141389333,
         2.7548457830931716,
         3.3867309049783914,
         3.03026250462569,
         2.906198431218269,
         2.785462691229354,
         2.852742633096554,
         2.650362413418223,
         2.282719544728211,
         3.0073832163195213,
         2.637854570500901,
         4.691223987191944,
         4.765821410063085,
         2.3208912088603326,
         2.723900328080173,
         2.2883588853709615,
         2.988990614603884,
         2.4898559906661752,
         2.7190155648454803,
         2.4432230437314284,
         2.605856851457891,
         2.45880669491025,
         3.2021446936643607,
         2.5015734139912644,
         2.1702627567803976,
         2.893368841147874,
         2.94179474182524,
         2.3981437289196634,
         2.7510603817170245,
         2.5786671321353425,
         5.1861350620356,
         2.7425909518890625,
         2.924992742312413,
         3.1340414086815507,
         2.771177866362547,
         2.5971723341824693,
         2.6080200316357303
        ]
       ],
       "encoder": "json",
       "name": "ABC_GAN_4 Metrics",
       "version": 1
      }
     },
     "metadata": {
      "scrapbook": {
       "data": true,
       "display": false,
       "name": "ABC_GAN_4 Metrics"
      }
     },
     "output_type": "display_data"
    },
    {
     "name": "stdout",
     "output_type": "stream",
     "text": [
      "MAE\n",
      "0.4670760290999897\n"
     ]
    }
   ],
   "source": [
    "ABC_GAN4_metrics=ABC_train_test2.test_generator(gen4,test_data,prior_model,variance,bias,\"3\",device)\n",
    "sb.glue(\"ABC_GAN_4 Metrics\",ABC_GAN4_metrics)\n",
    "\n",
    "print(\"MAE\")\n",
    "print(mean(ABC_GAN4_metrics[1]))"
   ]
  },
  {
   "cell_type": "code",
   "execution_count": 26,
   "id": "c4e4a5d5",
   "metadata": {
    "execution": {
     "iopub.execute_input": "2022-07-22T12:12:45.466615Z",
     "iopub.status.busy": "2022-07-22T12:12:45.465241Z",
     "iopub.status.idle": "2022-07-22T12:12:46.674161Z",
     "shell.execute_reply": "2022-07-22T12:12:46.671226Z"
    },
    "id": "c8e46b48",
    "papermill": {
     "duration": 1.260491,
     "end_time": "2022-07-22T12:12:46.677175",
     "exception": false,
     "start_time": "2022-07-22T12:12:45.416684",
     "status": "completed"
    },
    "tags": []
   },
   "outputs": [
    {
     "data": {
      "image/png": "[encoded data removed]",
      "text/plain": [
       "<Figure size 432x288 with 1 Axes>"
      ]
     },
     "metadata": {
      "needs_background": "light"
     },
     "output_type": "display_data"
    },
    {
     "data": {
      "image/png": "[encoded data removed]",
      "text/plain": [
       "<Figure size 432x288 with 1 Axes>"
      ]
     },
     "metadata": {
      "needs_background": "light"
     },
     "output_type": "display_data"
    },
    {
     "data": {
      "image/png": "[encoded data removed]",
      "text/plain": [
       "<Figure size 432x288 with 1 Axes>"
      ]
     },
     "metadata": {
      "needs_background": "light"
     },
     "output_type": "display_data"
    },
    {
     "data": {
      "image/png": "[encoded data removed]",
      "text/plain": [
       "<Figure size 432x288 with 1 Axes>"
      ]
     },
     "metadata": {
      "needs_background": "light"
     },
     "output_type": "display_data"
    }
   ],
   "source": [
    "sanityChecks.discProbVsError(train_data,disc4,device)\n",
    "sanityChecks.discProbVsError(test_data,disc4,device)"
   ]
  },
  {
   "cell_type": "markdown",
   "id": "a5bd74c3",
   "metadata": {
    "id": "a5bd74c3",
    "papermill": {
     "duration": 0.035678,
     "end_time": "2022-07-22T12:12:46.767223",
     "exception": false,
     "start_time": "2022-07-22T12:12:46.731545",
     "status": "completed"
    },
    "tags": []
   },
   "source": [
    "## Skip Connection Model Analysis - ABC-GAN "
   ]
  },
  {
   "cell_type": "markdown",
   "id": "5744a8bf",
   "metadata": {
    "id": "5744a8bf",
    "papermill": {
     "duration": 0.035662,
     "end_time": "2022-07-22T12:12:46.849066",
     "exception": false,
     "start_time": "2022-07-22T12:12:46.813404",
     "status": "completed"
    },
    "tags": []
   },
   "source": [
    "### Weight Analysis \n",
    "\n",
    "Study the weights of the skip connection layer\n",
    "\n",
    "Equation of the skip connection is \n",
    "\n",
    "$output = y_{gan} * w + y_{abc} * (1-w)$"
   ]
  },
  {
   "cell_type": "code",
   "execution_count": 27,
   "id": "52c31dea",
   "metadata": {
    "execution": {
     "iopub.execute_input": "2022-07-22T12:12:46.949379Z",
     "iopub.status.busy": "2022-07-22T12:12:46.948334Z",
     "iopub.status.idle": "2022-07-22T12:12:46.953495Z",
     "shell.execute_reply": "2022-07-22T12:12:46.952379Z"
    },
    "id": "52c31dea",
    "papermill": {
     "duration": 0.064613,
     "end_time": "2022-07-22T12:12:46.959470",
     "exception": false,
     "start_time": "2022-07-22T12:12:46.894857",
     "status": "completed"
    },
    "tags": []
   },
   "outputs": [],
   "source": [
    "# print(\"Weight of the node at skip connection\")\n",
    "# for name,param in gen3.named_parameters():\n",
    "#     if(name == \"skipNode.weight\"):\n",
    "#         print(param)\n",
    "#         sb.glue(\"Skip Connection Weight\",param.item())"
   ]
  },
  {
   "cell_type": "markdown",
   "id": "fbe2b621",
   "metadata": {
    "id": "a5bd74c3",
    "papermill": {
     "duration": 0.040547,
     "end_time": "2022-07-22T12:12:47.042803",
     "exception": false,
     "start_time": "2022-07-22T12:12:47.002256",
     "status": "completed"
    },
    "tags": []
   },
   "source": [
    "## skipGAN Model Analysis (TabNet Generator) "
   ]
  },
  {
   "cell_type": "markdown",
   "id": "b7c00e3c",
   "metadata": {
    "id": "5744a8bf",
    "papermill": {
     "duration": 0.041649,
     "end_time": "2022-07-22T12:12:47.125531",
     "exception": false,
     "start_time": "2022-07-22T12:12:47.083882",
     "status": "completed"
    },
    "tags": []
   },
   "source": [
    "### Weight Analysis \n",
    "\n",
    "Study the weights of the skip connection layer\n",
    "\n",
    "Equation of the skip connection is \n",
    "\n",
    "$output = y_{gan} * w + y_{abc} * (1-w)$"
   ]
  },
  {
   "cell_type": "code",
   "execution_count": 28,
   "id": "42aea271",
   "metadata": {
    "execution": {
     "iopub.execute_input": "2022-07-22T12:12:47.221064Z",
     "iopub.status.busy": "2022-07-22T12:12:47.220505Z",
     "iopub.status.idle": "2022-07-22T12:12:47.234713Z",
     "shell.execute_reply": "2022-07-22T12:12:47.233598Z"
    },
    "id": "52c31dea",
    "papermill": {
     "duration": 0.062265,
     "end_time": "2022-07-22T12:12:47.239817",
     "exception": false,
     "start_time": "2022-07-22T12:12:47.177552",
     "status": "completed"
    },
    "tags": []
   },
   "outputs": [
    {
     "name": "stdout",
     "output_type": "stream",
     "text": [
      "Weight of the node at skip connection\n",
      "Parameter containing:\n",
      "tensor([[0.6089]], requires_grad=True)\n"
     ]
    },
    {
     "data": {
      "application/scrapbook.scrap.json+json": {
       "data": 0.6088947653770447,
       "encoder": "json",
       "name": "Skip Connection Weight",
       "version": 1
      }
     },
     "metadata": {
      "scrapbook": {
       "data": true,
       "display": false,
       "name": "Skip Connection Weight"
      }
     },
     "output_type": "display_data"
    }
   ],
   "source": [
    "print(\"Weight of the node at skip connection\")\n",
    "for name,param in gen4.named_parameters():\n",
    "    if(name == \"skipNode.weight\"):\n",
    "        print(param)\n",
    "        sb.glue(\"Skip Connection Weight\",param.item())"
   ]
  }
 ],
 "metadata": {
  "colab": {
   "collapsed_sections": [],
   "name": "ABC_GAN_Model-Catboost_Pre-gen.ipynb",
   "provenance": []
  },
  "interpreter": {
   "hash": "31f2aee4e71d21fbe5cf8b01ff0e069b9275f58929596ceb00d14d90e3e16cd6"
  },
  "kernelspec": {
   "display_name": "Python 3 (ipykernel)",
   "language": "python",
   "name": "python3"
  },
  "language_info": {
   "codemirror_mode": {
    "name": "ipython",
    "version": 3
   },
   "file_extension": ".py",
   "mimetype": "text/x-python",
   "name": "python",
   "nbconvert_exporter": "python",
   "pygments_lexer": "ipython3",
   "version": "3.8.13"
  },
  "papermill": {
   "default_parameters": {},
   "duration": 427.878346,
   "end_time": "2022-07-22T12:12:48.612727",
   "environment_variables": {},
   "exception": null,
   "input_path": "ABC_GAN-TabNet.ipynb",
   "output_path": "./ABC_GAN_TabNet/ABC-GAN_output_3_6.ipynb",
   "parameters": {
    "bias": 0.01,
    "variance": 1
   },
   "start_time": "2022-07-22T12:05:40.734381",
   "version": "2.3.3"
  }
 },
 "nbformat": 4,
 "nbformat_minor": 5
}