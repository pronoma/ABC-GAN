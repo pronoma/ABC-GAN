{
 "cells": [
  {
   "cell_type": "markdown",
   "id": "622780e6",
   "metadata": {
    "id": "622780e6",
    "papermill": {
     "duration": 0.014949,
     "end_time": "2022-07-22T12:33:40.258022",
     "exception": false,
     "start_time": "2022-07-22T12:33:40.243073",
     "status": "completed"
    },
    "tags": []
   },
   "source": [
    "## Import Libraries "
   ]
  },
  {
   "cell_type": "code",
   "execution_count": 1,
   "id": "a62397e3",
   "metadata": {
    "execution": {
     "iopub.execute_input": "2022-07-22T12:33:40.287657Z",
     "iopub.status.busy": "2022-07-22T12:33:40.281566Z",
     "iopub.status.idle": "2022-07-22T12:33:40.301197Z",
     "shell.execute_reply": "2022-07-22T12:33:40.300089Z"
    },
    "id": "a62397e3",
    "papermill": {
     "duration": 0.036556,
     "end_time": "2022-07-22T12:33:40.305549",
     "exception": false,
     "start_time": "2022-07-22T12:33:40.268993",
     "status": "completed"
    },
    "tags": []
   },
   "outputs": [],
   "source": [
    "import warnings\n",
    "import sys\n",
    "sys.path.insert(0, '../../src')\n",
    "warnings.filterwarnings('ignore')"
   ]
  },
  {
   "cell_type": "code",
   "execution_count": 2,
   "id": "d6a4e155",
   "metadata": {
    "execution": {
     "iopub.execute_input": "2022-07-22T12:33:40.328723Z",
     "iopub.status.busy": "2022-07-22T12:33:40.328042Z",
     "iopub.status.idle": "2022-07-22T12:33:47.723148Z",
     "shell.execute_reply": "2022-07-22T12:33:47.722195Z"
    },
    "id": "d6a4e155",
    "papermill": {
     "duration": 7.411232,
     "end_time": "2022-07-22T12:33:47.726251",
     "exception": false,
     "start_time": "2022-07-22T12:33:40.315019",
     "status": "completed"
    },
    "tags": []
   },
   "outputs": [],
   "source": [
    "import ABC_train_test2\n",
    "import friedman3Dataset\n",
    "import network\n",
    "import dataset\n",
    "import sanityChecks\n",
    "import torch \n",
    "import scrapbook as sb\n",
    "from statistics import mean \n",
    "import catboost as ctb \n",
    "from sklearn.model_selection import train_test_split\n",
    "from sklearn.metrics import mean_squared_error,mean_absolute_error\n",
    "import numpy as np\n",
    "from pytorch_tabnet.tab_model import TabNetRegressor"
   ]
  },
  {
   "cell_type": "markdown",
   "id": "2fa5b0f7",
   "metadata": {
    "id": "2fa5b0f7",
    "papermill": {
     "duration": 0.008013,
     "end_time": "2022-07-22T12:33:47.741915",
     "exception": false,
     "start_time": "2022-07-22T12:33:47.733902",
     "status": "completed"
    },
    "tags": []
   },
   "source": [
    "## Parameters "
   ]
  },
  {
   "cell_type": "code",
   "execution_count": 3,
   "id": "783186fb",
   "metadata": {
    "execution": {
     "iopub.execute_input": "2022-07-22T12:33:47.760419Z",
     "iopub.status.busy": "2022-07-22T12:33:47.760078Z",
     "iopub.status.idle": "2022-07-22T12:33:47.764846Z",
     "shell.execute_reply": "2022-07-22T12:33:47.763579Z"
    },
    "id": "783186fb",
    "papermill": {
     "duration": 0.017255,
     "end_time": "2022-07-22T12:33:47.767990",
     "exception": false,
     "start_time": "2022-07-22T12:33:47.750735",
     "status": "completed"
    },
    "tags": [
     "parameters"
    ]
   },
   "outputs": [],
   "source": [
    "variance = 1\n",
    "bias = 1 "
   ]
  },
  {
   "cell_type": "code",
   "execution_count": 4,
   "id": "ba7d7a9b",
   "metadata": {
    "execution": {
     "iopub.execute_input": "2022-07-22T12:33:47.787260Z",
     "iopub.status.busy": "2022-07-22T12:33:47.786582Z",
     "iopub.status.idle": "2022-07-22T12:33:47.793619Z",
     "shell.execute_reply": "2022-07-22T12:33:47.791801Z"
    },
    "papermill": {
     "duration": 0.020241,
     "end_time": "2022-07-22T12:33:47.797289",
     "exception": false,
     "start_time": "2022-07-22T12:33:47.777048",
     "status": "completed"
    },
    "tags": [
     "injected-parameters"
    ]
   },
   "outputs": [],
   "source": [
    "# Parameters\n",
    "variance = 0.1\n",
    "bias = 0\n"
   ]
  },
  {
   "cell_type": "markdown",
   "id": "391cdbfd",
   "metadata": {
    "id": "391cdbfd",
    "papermill": {
     "duration": 0.007771,
     "end_time": "2022-07-22T12:33:47.812541",
     "exception": false,
     "start_time": "2022-07-22T12:33:47.804770",
     "status": "completed"
    },
    "tags": []
   },
   "source": [
    "## Dataset \n"
   ]
  },
  {
   "cell_type": "code",
   "execution_count": 5,
   "id": "5b51f161",
   "metadata": {
    "execution": {
     "iopub.execute_input": "2022-07-22T12:33:47.834174Z",
     "iopub.status.busy": "2022-07-22T12:33:47.833300Z",
     "iopub.status.idle": "2022-07-22T12:33:47.840212Z",
     "shell.execute_reply": "2022-07-22T12:33:47.838952Z"
    },
    "id": "5b51f161",
    "papermill": {
     "duration": 0.022822,
     "end_time": "2022-07-22T12:33:47.843446",
     "exception": false,
     "start_time": "2022-07-22T12:33:47.820624",
     "status": "completed"
    },
    "tags": []
   },
   "outputs": [],
   "source": [
    "#Parameters \n",
    "n_features = 4\n",
    "n_samples= 100\n",
    "n_target = 1"
   ]
  },
  {
   "cell_type": "code",
   "execution_count": 6,
   "id": "5d6eced4",
   "metadata": {
    "execution": {
     "iopub.execute_input": "2022-07-22T12:33:47.862464Z",
     "iopub.status.busy": "2022-07-22T12:33:47.862127Z",
     "iopub.status.idle": "2022-07-22T12:33:47.882262Z",
     "shell.execute_reply": "2022-07-22T12:33:47.880747Z"
    },
    "id": "5d6eced4",
    "papermill": {
     "duration": 0.032448,
     "end_time": "2022-07-22T12:33:47.884961",
     "exception": false,
     "start_time": "2022-07-22T12:33:47.852513",
     "status": "completed"
    },
    "tags": []
   },
   "outputs": [
    {
     "name": "stdout",
     "output_type": "stream",
     "text": [
      "          X1           X2        X3        X4         Y\n",
      "0  23.364080  1427.263552  0.541634  5.508304  1.621108\n",
      "1  61.265505  1741.533713  0.855672  6.531337  1.609125\n",
      "2  35.322800  1508.288101  0.546640  8.684093  1.505744\n",
      "3  68.915395   575.008278  0.883948  7.217413  1.544102\n",
      "4  76.336424   286.533243  0.889923  1.645644  1.241216\n"
     ]
    }
   ],
   "source": [
    "X,Y = friedman3Dataset.friedman3_data(n_samples)"
   ]
  },
  {
   "cell_type": "code",
   "execution_count": 7,
   "id": "fe007438",
   "metadata": {
    "execution": {
     "iopub.execute_input": "2022-07-22T12:33:47.905703Z",
     "iopub.status.busy": "2022-07-22T12:33:47.904701Z",
     "iopub.status.idle": "2022-07-22T12:33:47.913158Z",
     "shell.execute_reply": "2022-07-22T12:33:47.911922Z"
    },
    "id": "fe007438",
    "papermill": {
     "duration": 0.021359,
     "end_time": "2022-07-22T12:33:47.915705",
     "exception": false,
     "start_time": "2022-07-22T12:33:47.894346",
     "status": "completed"
    },
    "tags": []
   },
   "outputs": [],
   "source": [
    "#Train test split for dataset \n",
    "X_train,X_test,Y_train,Y_test = train_test_split(X,Y,test_size = 0.2)\n",
    "train_data = dataset.CustomDataset(X_train,Y_train)\n",
    "test_data = dataset.CustomDataset(X_test,Y_test)\n"
   ]
  },
  {
   "cell_type": "markdown",
   "id": "a9a1af34",
   "metadata": {
    "id": "a9a1af34",
    "papermill": {
     "duration": 0.009762,
     "end_time": "2022-07-22T12:33:47.933615",
     "exception": false,
     "start_time": "2022-07-22T12:33:47.923853",
     "status": "completed"
    },
    "tags": []
   },
   "source": [
    "## Training Parameters "
   ]
  },
  {
   "cell_type": "code",
   "execution_count": 8,
   "id": "952b7fc8",
   "metadata": {
    "execution": {
     "iopub.execute_input": "2022-07-22T12:33:47.953816Z",
     "iopub.status.busy": "2022-07-22T12:33:47.953189Z",
     "iopub.status.idle": "2022-07-22T12:33:47.959520Z",
     "shell.execute_reply": "2022-07-22T12:33:47.958422Z"
    },
    "id": "952b7fc8",
    "papermill": {
     "duration": 0.021355,
     "end_time": "2022-07-22T12:33:47.963020",
     "exception": false,
     "start_time": "2022-07-22T12:33:47.941665",
     "status": "completed"
    },
    "tags": []
   },
   "outputs": [],
   "source": [
    "batch_size = 32\n",
    "n_epochs = 1000\n",
    "#Select the device \n",
    "device = torch.device('cuda' if torch.cuda.is_available() else 'cpu')"
   ]
  },
  {
   "cell_type": "markdown",
   "id": "a95e1600",
   "metadata": {
    "id": "a95e1600",
    "papermill": {
     "duration": 0.007867,
     "end_time": "2022-07-22T12:33:47.978674",
     "exception": false,
     "start_time": "2022-07-22T12:33:47.970807",
     "status": "completed"
    },
    "tags": []
   },
   "source": [
    "# ABC Pre-generator Model \n",
    "\n",
    "1. The catboost model is used as a pre-generator model for the ABC-GAN. \n",
    "2. The model is first trained on the entire dataset \n",
    "3. It generats X,Y pairs and we add some Gaussian noise with mean 0 and variance 1 to it which is then feed as input to the generator.\n"
   ]
  },
  {
   "cell_type": "code",
   "execution_count": 9,
   "id": "ac011ebf",
   "metadata": {
    "execution": {
     "iopub.execute_input": "2022-07-22T12:33:47.997122Z",
     "iopub.status.busy": "2022-07-22T12:33:47.996370Z",
     "iopub.status.idle": "2022-07-22T12:34:07.721523Z",
     "shell.execute_reply": "2022-07-22T12:34:07.720385Z"
    },
    "papermill": {
     "duration": 19.737911,
     "end_time": "2022-07-22T12:34:07.724410",
     "exception": false,
     "start_time": "2022-07-22T12:33:47.986499",
     "status": "completed"
    },
    "tags": []
   },
   "outputs": [
    {
     "name": "stdout",
     "output_type": "stream",
     "text": [
      "Device used : cpu\n"
     ]
    },
    {
     "name": "stdout",
     "output_type": "stream",
     "text": [
      "epoch 0  | loss: 1.18106 | train_mse: 4.57127 | train_mae: 1.49114 |  0:00:00s\n",
      "epoch 1  | loss: 1.11282 | train_mse: 4.08486 | train_mae: 1.44557 |  0:00:00s\n",
      "epoch 2  | loss: 1.08943 | train_mse: 3.2579  | train_mae: 1.27921 |  0:00:00s\n"
     ]
    },
    {
     "name": "stdout",
     "output_type": "stream",
     "text": [
      "epoch 3  | loss: 1.08425 | train_mse: 2.19462 | train_mae: 1.06298 |  0:00:00s\n",
      "epoch 4  | loss: 0.84707 | train_mse: 1.8774  | train_mae: 0.99715 |  0:00:00s\n",
      "epoch 5  | loss: 0.79139 | train_mse: 1.65746 | train_mae: 0.9363  |  0:00:00s\n"
     ]
    },
    {
     "name": "stdout",
     "output_type": "stream",
     "text": [
      "epoch 6  | loss: 0.84066 | train_mse: 1.42257 | train_mae: 0.87871 |  0:00:00s\n",
      "epoch 7  | loss: 0.82596 | train_mse: 1.29672 | train_mae: 0.84803 |  0:00:01s\n"
     ]
    },
    {
     "name": "stdout",
     "output_type": "stream",
     "text": [
      "epoch 8  | loss: 0.73672 | train_mse: 1.21252 | train_mae: 0.82698 |  0:00:01s\n",
      "epoch 9  | loss: 0.59011 | train_mse: 1.11084 | train_mae: 0.80107 |  0:00:01s\n"
     ]
    },
    {
     "name": "stdout",
     "output_type": "stream",
     "text": [
      "epoch 10 | loss: 0.7684  | train_mse: 1.0336  | train_mae: 0.76839 |  0:00:01s\n",
      "epoch 11 | loss: 0.49628 | train_mse: 0.96787 | train_mae: 0.7409  |  0:00:01s\n"
     ]
    },
    {
     "name": "stdout",
     "output_type": "stream",
     "text": [
      "epoch 12 | loss: 0.58763 | train_mse: 0.89405 | train_mae: 0.7112  |  0:00:01s\n",
      "epoch 13 | loss: 0.56197 | train_mse: 0.81542 | train_mae: 0.68367 |  0:00:01s\n"
     ]
    },
    {
     "name": "stdout",
     "output_type": "stream",
     "text": [
      "epoch 14 | loss: 0.45717 | train_mse: 0.74316 | train_mae: 0.65733 |  0:00:02s\n",
      "epoch 15 | loss: 0.50607 | train_mse: 0.66991 | train_mae: 0.62853 |  0:00:02s\n"
     ]
    },
    {
     "name": "stdout",
     "output_type": "stream",
     "text": [
      "epoch 16 | loss: 0.53411 | train_mse: 0.62393 | train_mae: 0.60522 |  0:00:02s\n",
      "epoch 17 | loss: 0.58442 | train_mse: 0.59199 | train_mae: 0.58996 |  0:00:02s\n"
     ]
    },
    {
     "name": "stdout",
     "output_type": "stream",
     "text": [
      "epoch 18 | loss: 0.54064 | train_mse: 0.57269 | train_mae: 0.58395 |  0:00:02s\n",
      "epoch 19 | loss: 0.38388 | train_mse: 0.55367 | train_mae: 0.575   |  0:00:02s\n"
     ]
    },
    {
     "name": "stdout",
     "output_type": "stream",
     "text": [
      "epoch 20 | loss: 0.50068 | train_mse: 0.54751 | train_mae: 0.56987 |  0:00:02s\n",
      "epoch 21 | loss: 0.46845 | train_mse: 0.52804 | train_mae: 0.55296 |  0:00:02s\n"
     ]
    },
    {
     "name": "stdout",
     "output_type": "stream",
     "text": [
      "epoch 22 | loss: 0.53586 | train_mse: 0.50761 | train_mae: 0.53627 |  0:00:03s\n",
      "epoch 23 | loss: 0.33978 | train_mse: 0.48334 | train_mae: 0.52462 |  0:00:03s\n"
     ]
    },
    {
     "name": "stdout",
     "output_type": "stream",
     "text": [
      "epoch 24 | loss: 0.3639  | train_mse: 0.45648 | train_mae: 0.51111 |  0:00:03s\n",
      "epoch 25 | loss: 0.37904 | train_mse: 0.42623 | train_mae: 0.49322 |  0:00:03s\n"
     ]
    },
    {
     "name": "stdout",
     "output_type": "stream",
     "text": [
      "epoch 26 | loss: 0.42246 | train_mse: 0.40383 | train_mae: 0.47955 |  0:00:03s\n",
      "epoch 27 | loss: 0.33236 | train_mse: 0.38397 | train_mae: 0.4679  |  0:00:03s\n"
     ]
    },
    {
     "name": "stdout",
     "output_type": "stream",
     "text": [
      "epoch 28 | loss: 0.50357 | train_mse: 0.36469 | train_mae: 0.45825 |  0:00:03s\n",
      "epoch 29 | loss: 0.3693  | train_mse: 0.34814 | train_mae: 0.44837 |  0:00:03s\n"
     ]
    },
    {
     "name": "stdout",
     "output_type": "stream",
     "text": [
      "epoch 30 | loss: 0.41598 | train_mse: 0.33626 | train_mae: 0.44135 |  0:00:04s\n",
      "epoch 31 | loss: 0.28654 | train_mse: 0.32533 | train_mae: 0.43292 |  0:00:04s\n"
     ]
    },
    {
     "name": "stdout",
     "output_type": "stream",
     "text": [
      "epoch 32 | loss: 0.50461 | train_mse: 0.31546 | train_mae: 0.42745 |  0:00:04s\n",
      "epoch 33 | loss: 0.33221 | train_mse: 0.31833 | train_mae: 0.43028 |  0:00:04s\n"
     ]
    },
    {
     "name": "stdout",
     "output_type": "stream",
     "text": [
      "epoch 34 | loss: 0.40027 | train_mse: 0.3288  | train_mae: 0.43788 |  0:00:04s\n",
      "epoch 35 | loss: 0.33076 | train_mse: 0.32773 | train_mae: 0.43457 |  0:00:04s\n"
     ]
    },
    {
     "name": "stdout",
     "output_type": "stream",
     "text": [
      "epoch 36 | loss: 0.30361 | train_mse: 0.32484 | train_mae: 0.43065 |  0:00:04s\n",
      "epoch 37 | loss: 0.34019 | train_mse: 0.30987 | train_mae: 0.41909 |  0:00:05s\n",
      "epoch 38 | loss: 0.43978 | train_mse: 0.29117 | train_mae: 0.4058  |  0:00:05s\n"
     ]
    },
    {
     "name": "stdout",
     "output_type": "stream",
     "text": [
      "epoch 39 | loss: 0.30381 | train_mse: 0.27773 | train_mae: 0.40226 |  0:00:05s\n",
      "epoch 40 | loss: 0.39279 | train_mse: 0.27276 | train_mae: 0.40417 |  0:00:05s\n",
      "epoch 41 | loss: 0.28108 | train_mse: 0.26325 | train_mae: 0.39854 |  0:00:05s\n"
     ]
    },
    {
     "name": "stdout",
     "output_type": "stream",
     "text": [
      "epoch 42 | loss: 0.38808 | train_mse: 0.2573  | train_mae: 0.39514 |  0:00:05s\n",
      "epoch 43 | loss: 0.50259 | train_mse: 0.25416 | train_mae: 0.3917  |  0:00:05s\n",
      "epoch 44 | loss: 0.31081 | train_mse: 0.24855 | train_mae: 0.38576 |  0:00:05s\n"
     ]
    },
    {
     "name": "stdout",
     "output_type": "stream",
     "text": [
      "epoch 45 | loss: 0.34597 | train_mse: 0.24648 | train_mae: 0.38357 |  0:00:05s\n",
      "epoch 46 | loss: 0.30588 | train_mse: 0.24065 | train_mae: 0.3782  |  0:00:05s\n",
      "epoch 47 | loss: 0.21736 | train_mse: 0.23478 | train_mae: 0.37251 |  0:00:05s\n"
     ]
    },
    {
     "name": "stdout",
     "output_type": "stream",
     "text": [
      "epoch 48 | loss: 0.25455 | train_mse: 0.22601 | train_mae: 0.36336 |  0:00:06s\n",
      "epoch 49 | loss: 0.26276 | train_mse: 0.21754 | train_mae: 0.35595 |  0:00:06s\n"
     ]
    },
    {
     "name": "stdout",
     "output_type": "stream",
     "text": [
      "epoch 50 | loss: 0.33504 | train_mse: 0.2127  | train_mae: 0.35758 |  0:00:06s\n",
      "epoch 51 | loss: 0.30977 | train_mse: 0.20715 | train_mae: 0.35221 |  0:00:06s\n",
      "epoch 52 | loss: 0.21192 | train_mse: 0.21215 | train_mae: 0.35802 |  0:00:06s\n"
     ]
    },
    {
     "name": "stdout",
     "output_type": "stream",
     "text": [
      "epoch 53 | loss: 0.30196 | train_mse: 0.20472 | train_mae: 0.35106 |  0:00:06s\n",
      "epoch 54 | loss: 0.34639 | train_mse: 0.19231 | train_mae: 0.33866 |  0:00:06s\n",
      "epoch 55 | loss: 0.29511 | train_mse: 0.18099 | train_mae: 0.3258  |  0:00:06s\n"
     ]
    },
    {
     "name": "stdout",
     "output_type": "stream",
     "text": [
      "epoch 56 | loss: 0.30859 | train_mse: 0.17414 | train_mae: 0.31898 |  0:00:06s\n"
     ]
    },
    {
     "name": "stdout",
     "output_type": "stream",
     "text": [
      "epoch 57 | loss: 0.24447 | train_mse: 0.16548 | train_mae: 0.30973 |  0:00:07s\n",
      "epoch 58 | loss: 0.29892 | train_mse: 0.16328 | train_mae: 0.30652 |  0:00:07s\n"
     ]
    },
    {
     "name": "stdout",
     "output_type": "stream",
     "text": [
      "epoch 59 | loss: 0.24127 | train_mse: 0.15885 | train_mae: 0.30329 |  0:00:07s\n",
      "epoch 60 | loss: 0.25565 | train_mse: 0.15585 | train_mae: 0.3011  |  0:00:07s\n",
      "epoch 61 | loss: 0.25982 | train_mse: 0.15013 | train_mae: 0.30278 |  0:00:07s\n"
     ]
    },
    {
     "name": "stdout",
     "output_type": "stream",
     "text": [
      "epoch 62 | loss: 0.18958 | train_mse: 0.14877 | train_mae: 0.30293 |  0:00:07s\n",
      "epoch 63 | loss: 0.19397 | train_mse: 0.14265 | train_mae: 0.3001  |  0:00:07s\n",
      "epoch 64 | loss: 0.28857 | train_mse: 0.1339  | train_mae: 0.29229 |  0:00:07s\n"
     ]
    },
    {
     "name": "stdout",
     "output_type": "stream",
     "text": [
      "epoch 65 | loss: 0.23197 | train_mse: 0.12051 | train_mae: 0.28087 |  0:00:08s\n",
      "epoch 66 | loss: 0.29375 | train_mse: 0.11768 | train_mae: 0.27907 |  0:00:08s\n",
      "epoch 67 | loss: 0.15656 | train_mse: 0.11492 | train_mae: 0.27678 |  0:00:08s\n"
     ]
    },
    {
     "name": "stdout",
     "output_type": "stream",
     "text": [
      "epoch 68 | loss: 0.22187 | train_mse: 0.11988 | train_mae: 0.28476 |  0:00:08s\n",
      "epoch 69 | loss: 0.26192 | train_mse: 0.1196  | train_mae: 0.28487 |  0:00:08s\n",
      "epoch 70 | loss: 0.25744 | train_mse: 0.11392 | train_mae: 0.27839 |  0:00:08s\n"
     ]
    },
    {
     "name": "stdout",
     "output_type": "stream",
     "text": [
      "epoch 71 | loss: 0.23674 | train_mse: 0.10927 | train_mae: 0.27218 |  0:00:08s\n",
      "epoch 72 | loss: 0.18627 | train_mse: 0.10573 | train_mae: 0.2703  |  0:00:08s\n",
      "epoch 73 | loss: 0.32941 | train_mse: 0.10297 | train_mae: 0.26897 |  0:00:08s\n"
     ]
    },
    {
     "name": "stdout",
     "output_type": "stream",
     "text": [
      "epoch 74 | loss: 0.17831 | train_mse: 0.10499 | train_mae: 0.27226 |  0:00:08s\n",
      "epoch 75 | loss: 0.31551 | train_mse: 0.10614 | train_mae: 0.27417 |  0:00:08s\n",
      "epoch 76 | loss: 0.26556 | train_mse: 0.10739 | train_mae: 0.27644 |  0:00:09s\n"
     ]
    },
    {
     "name": "stdout",
     "output_type": "stream",
     "text": [
      "epoch 77 | loss: 0.19446 | train_mse: 0.10823 | train_mae: 0.27501 |  0:00:09s\n",
      "epoch 78 | loss: 0.19849 | train_mse: 0.11499 | train_mae: 0.28202 |  0:00:09s\n",
      "epoch 79 | loss: 0.22496 | train_mse: 0.12071 | train_mae: 0.28818 |  0:00:09s\n"
     ]
    },
    {
     "name": "stdout",
     "output_type": "stream",
     "text": [
      "epoch 80 | loss: 0.18169 | train_mse: 0.1154  | train_mae: 0.28278 |  0:00:09s\n",
      "epoch 81 | loss: 0.14219 | train_mse: 0.11432 | train_mae: 0.28103 |  0:00:09s\n",
      "epoch 82 | loss: 0.15153 | train_mse: 0.11098 | train_mae: 0.27746 |  0:00:09s\n"
     ]
    },
    {
     "name": "stdout",
     "output_type": "stream",
     "text": [
      "epoch 83 | loss: 0.16377 | train_mse: 0.10867 | train_mae: 0.27624 |  0:00:09s\n",
      "epoch 84 | loss: 0.13903 | train_mse: 0.11272 | train_mae: 0.27832 |  0:00:09s\n",
      "epoch 85 | loss: 0.28478 | train_mse: 0.11056 | train_mae: 0.27843 |  0:00:09s\n"
     ]
    },
    {
     "name": "stdout",
     "output_type": "stream",
     "text": [
      "epoch 86 | loss: 0.22923 | train_mse: 0.11226 | train_mae: 0.28149 |  0:00:09s\n",
      "epoch 87 | loss: 0.16089 | train_mse: 0.11323 | train_mae: 0.28276 |  0:00:10s\n",
      "epoch 88 | loss: 0.20571 | train_mse: 0.11573 | train_mae: 0.28269 |  0:00:10s\n"
     ]
    },
    {
     "name": "stdout",
     "output_type": "stream",
     "text": [
      "epoch 89 | loss: 0.11151 | train_mse: 0.11143 | train_mae: 0.27633 |  0:00:10s\n",
      "epoch 90 | loss: 0.14846 | train_mse: 0.11022 | train_mae: 0.27492 |  0:00:10s\n",
      "epoch 91 | loss: 0.14191 | train_mse: 0.10741 | train_mae: 0.2724  |  0:00:10s\n"
     ]
    },
    {
     "name": "stdout",
     "output_type": "stream",
     "text": [
      "epoch 92 | loss: 0.20217 | train_mse: 0.10468 | train_mae: 0.2705  |  0:00:10s\n",
      "epoch 93 | loss: 0.18853 | train_mse: 0.10032 | train_mae: 0.26544 |  0:00:10s\n"
     ]
    },
    {
     "name": "stdout",
     "output_type": "stream",
     "text": [
      "epoch 94 | loss: 0.21631 | train_mse: 0.0974  | train_mae: 0.26276 |  0:00:10s\n",
      "epoch 95 | loss: 0.1889  | train_mse: 0.0945  | train_mae: 0.26062 |  0:00:10s\n",
      "epoch 96 | loss: 0.18853 | train_mse: 0.09385 | train_mae: 0.25934 |  0:00:10s\n"
     ]
    },
    {
     "name": "stdout",
     "output_type": "stream",
     "text": [
      "epoch 97 | loss: 0.1958  | train_mse: 0.09545 | train_mae: 0.26296 |  0:00:10s\n",
      "epoch 98 | loss: 0.14575 | train_mse: 0.09233 | train_mae: 0.25585 |  0:00:11s\n",
      "epoch 99 | loss: 0.22617 | train_mse: 0.08995 | train_mae: 0.24807 |  0:00:11s\n"
     ]
    },
    {
     "name": "stdout",
     "output_type": "stream",
     "text": [
      "epoch 100| loss: 0.21856 | train_mse: 0.08932 | train_mae: 0.24301 |  0:00:11s\n",
      "epoch 101| loss: 0.24218 | train_mse: 0.08838 | train_mae: 0.24061 |  0:00:11s\n",
      "epoch 102| loss: 0.14911 | train_mse: 0.08796 | train_mae: 0.24082 |  0:00:11s\n"
     ]
    },
    {
     "name": "stdout",
     "output_type": "stream",
     "text": [
      "epoch 103| loss: 0.21934 | train_mse: 0.08494 | train_mae: 0.23679 |  0:00:11s\n",
      "epoch 104| loss: 0.20326 | train_mse: 0.08403 | train_mae: 0.2335  |  0:00:11s\n",
      "epoch 105| loss: 0.17086 | train_mse: 0.08364 | train_mae: 0.23492 |  0:00:11s\n"
     ]
    },
    {
     "name": "stdout",
     "output_type": "stream",
     "text": [
      "epoch 106| loss: 0.14568 | train_mse: 0.08366 | train_mae: 0.23644 |  0:00:11s\n",
      "epoch 107| loss: 0.19556 | train_mse: 0.08115 | train_mae: 0.23445 |  0:00:12s\n"
     ]
    },
    {
     "name": "stdout",
     "output_type": "stream",
     "text": [
      "epoch 108| loss: 0.21275 | train_mse: 0.08096 | train_mae: 0.23599 |  0:00:12s\n",
      "epoch 109| loss: 0.13888 | train_mse: 0.08198 | train_mae: 0.23798 |  0:00:12s\n"
     ]
    },
    {
     "name": "stdout",
     "output_type": "stream",
     "text": [
      "epoch 110| loss: 0.15238 | train_mse: 0.07766 | train_mae: 0.23443 |  0:00:12s\n",
      "epoch 111| loss: 0.17219 | train_mse: 0.07672 | train_mae: 0.23494 |  0:00:12s\n"
     ]
    },
    {
     "name": "stdout",
     "output_type": "stream",
     "text": [
      "epoch 112| loss: 0.21597 | train_mse: 0.07576 | train_mae: 0.22957 |  0:00:12s\n",
      "epoch 113| loss: 0.20814 | train_mse: 0.07464 | train_mae: 0.22609 |  0:00:12s\n"
     ]
    },
    {
     "name": "stdout",
     "output_type": "stream",
     "text": [
      "epoch 114| loss: 0.15967 | train_mse: 0.07473 | train_mae: 0.22351 |  0:00:12s\n",
      "epoch 115| loss: 0.17148 | train_mse: 0.07582 | train_mae: 0.22709 |  0:00:12s\n"
     ]
    },
    {
     "name": "stdout",
     "output_type": "stream",
     "text": [
      "epoch 116| loss: 0.18901 | train_mse: 0.07911 | train_mae: 0.23157 |  0:00:13s\n",
      "epoch 117| loss: 0.204   | train_mse: 0.07781 | train_mae: 0.22792 |  0:00:13s\n"
     ]
    },
    {
     "name": "stdout",
     "output_type": "stream",
     "text": [
      "epoch 118| loss: 0.15233 | train_mse: 0.07801 | train_mae: 0.22952 |  0:00:13s\n",
      "epoch 119| loss: 0.22489 | train_mse: 0.07716 | train_mae: 0.22917 |  0:00:13s\n"
     ]
    },
    {
     "name": "stdout",
     "output_type": "stream",
     "text": [
      "epoch 120| loss: 0.27991 | train_mse: 0.07766 | train_mae: 0.22889 |  0:00:13s\n",
      "epoch 121| loss: 0.17996 | train_mse: 0.07832 | train_mae: 0.22752 |  0:00:13s\n"
     ]
    },
    {
     "name": "stdout",
     "output_type": "stream",
     "text": [
      "epoch 122| loss: 0.1459  | train_mse: 0.0802  | train_mae: 0.23018 |  0:00:13s\n",
      "epoch 123| loss: 0.12956 | train_mse: 0.07951 | train_mae: 0.23049 |  0:00:13s\n"
     ]
    },
    {
     "name": "stdout",
     "output_type": "stream",
     "text": [
      "epoch 124| loss: 0.12086 | train_mse: 0.08035 | train_mae: 0.23229 |  0:00:14s\n",
      "epoch 125| loss: 0.26032 | train_mse: 0.07689 | train_mae: 0.22731 |  0:00:14s\n"
     ]
    },
    {
     "name": "stdout",
     "output_type": "stream",
     "text": [
      "epoch 126| loss: 0.15892 | train_mse: 0.0711  | train_mae: 0.21761 |  0:00:14s\n",
      "epoch 127| loss: 0.18615 | train_mse: 0.06786 | train_mae: 0.21019 |  0:00:14s\n"
     ]
    },
    {
     "name": "stdout",
     "output_type": "stream",
     "text": [
      "epoch 128| loss: 0.14976 | train_mse: 0.06527 | train_mae: 0.20259 |  0:00:14s\n",
      "epoch 129| loss: 0.18167 | train_mse: 0.06444 | train_mae: 0.20225 |  0:00:14s\n"
     ]
    },
    {
     "name": "stdout",
     "output_type": "stream",
     "text": [
      "epoch 130| loss: 0.14092 | train_mse: 0.06512 | train_mae: 0.20692 |  0:00:14s\n",
      "epoch 131| loss: 0.16398 | train_mse: 0.06586 | train_mae: 0.20721 |  0:00:14s\n"
     ]
    },
    {
     "name": "stdout",
     "output_type": "stream",
     "text": [
      "epoch 132| loss: 0.15279 | train_mse: 0.07086 | train_mae: 0.21579 |  0:00:15s\n",
      "epoch 133| loss: 0.25005 | train_mse: 0.07023 | train_mae: 0.21568 |  0:00:15s\n"
     ]
    },
    {
     "name": "stdout",
     "output_type": "stream",
     "text": [
      "epoch 134| loss: 0.21243 | train_mse: 0.06679 | train_mae: 0.21074 |  0:00:15s\n"
     ]
    },
    {
     "name": "stdout",
     "output_type": "stream",
     "text": [
      "epoch 135| loss: 0.23448 | train_mse: 0.06718 | train_mae: 0.21202 |  0:00:15s\n",
      "epoch 136| loss: 0.19182 | train_mse: 0.06753 | train_mae: 0.21365 |  0:00:15s\n"
     ]
    },
    {
     "name": "stdout",
     "output_type": "stream",
     "text": [
      "epoch 137| loss: 0.19786 | train_mse: 0.07083 | train_mae: 0.21966 |  0:00:15s\n",
      "epoch 138| loss: 0.12396 | train_mse: 0.07641 | train_mae: 0.22625 |  0:00:16s\n",
      "epoch 139| loss: 0.12619 | train_mse: 0.07733 | train_mae: 0.22827 |  0:00:16s\n"
     ]
    },
    {
     "name": "stdout",
     "output_type": "stream",
     "text": [
      "epoch 140| loss: 0.17076 | train_mse: 0.08193 | train_mae: 0.23199 |  0:00:16s\n",
      "epoch 141| loss: 0.10903 | train_mse: 0.0813  | train_mae: 0.23164 |  0:00:16s\n",
      "epoch 142| loss: 0.19928 | train_mse: 0.08118 | train_mae: 0.23076 |  0:00:16s\n"
     ]
    },
    {
     "name": "stdout",
     "output_type": "stream",
     "text": [
      "epoch 143| loss: 0.10764 | train_mse: 0.0782  | train_mae: 0.2271  |  0:00:16s\n",
      "epoch 144| loss: 0.1941  | train_mse: 0.07793 | train_mae: 0.22887 |  0:00:16s\n",
      "epoch 145| loss: 0.16136 | train_mse: 0.07445 | train_mae: 0.22676 |  0:00:16s\n"
     ]
    },
    {
     "name": "stdout",
     "output_type": "stream",
     "text": [
      "epoch 146| loss: 0.28776 | train_mse: 0.07381 | train_mae: 0.22565 |  0:00:16s\n",
      "epoch 147| loss: 0.10039 | train_mse: 0.07522 | train_mae: 0.22669 |  0:00:16s\n",
      "epoch 148| loss: 0.1789  | train_mse: 0.07595 | train_mae: 0.22669 |  0:00:16s\n"
     ]
    },
    {
     "name": "stdout",
     "output_type": "stream",
     "text": [
      "epoch 149| loss: 0.15074 | train_mse: 0.07498 | train_mae: 0.22502 |  0:00:17s\n",
      "epoch 150| loss: 0.17968 | train_mse: 0.0759  | train_mae: 0.22678 |  0:00:17s\n",
      "epoch 151| loss: 0.1225  | train_mse: 0.07586 | train_mae: 0.22806 |  0:00:17s\n"
     ]
    },
    {
     "name": "stdout",
     "output_type": "stream",
     "text": [
      "epoch 152| loss: 0.12728 | train_mse: 0.07416 | train_mae: 0.22542 |  0:00:17s\n",
      "epoch 153| loss: 0.16054 | train_mse: 0.0724  | train_mae: 0.22402 |  0:00:17s\n",
      "epoch 154| loss: 0.19815 | train_mse: 0.07215 | train_mae: 0.22435 |  0:00:17s\n"
     ]
    },
    {
     "name": "stdout",
     "output_type": "stream",
     "text": [
      "epoch 155| loss: 0.16171 | train_mse: 0.07137 | train_mae: 0.22379 |  0:00:17s\n",
      "epoch 156| loss: 0.14341 | train_mse: 0.07259 | train_mae: 0.22503 |  0:00:17s\n",
      "epoch 157| loss: 0.19304 | train_mse: 0.07138 | train_mae: 0.22366 |  0:00:17s\n"
     ]
    },
    {
     "name": "stdout",
     "output_type": "stream",
     "text": [
      "epoch 158| loss: 0.20347 | train_mse: 0.06907 | train_mae: 0.22015 |  0:00:17s\n",
      "epoch 159| loss: 0.16991 | train_mse: 0.06873 | train_mae: 0.21891 |  0:00:17s\n",
      "epoch 160| loss: 0.12031 | train_mse: 0.06591 | train_mae: 0.21332 |  0:00:18s\n"
     ]
    },
    {
     "name": "stdout",
     "output_type": "stream",
     "text": [
      "epoch 161| loss: 0.148   | train_mse: 0.06457 | train_mae: 0.21026 |  0:00:18s\n",
      "epoch 162| loss: 0.15992 | train_mse: 0.0633  | train_mae: 0.20974 |  0:00:18s\n",
      "epoch 163| loss: 0.19013 | train_mse: 0.06195 | train_mae: 0.20688 |  0:00:18s\n"
     ]
    },
    {
     "name": "stdout",
     "output_type": "stream",
     "text": [
      "epoch 164| loss: 0.31369 | train_mse: 0.06212 | train_mae: 0.20621 |  0:00:18s\n",
      "epoch 165| loss: 0.12459 | train_mse: 0.06276 | train_mae: 0.20619 |  0:00:18s\n",
      "epoch 166| loss: 0.29846 | train_mse: 0.06351 | train_mae: 0.2053  |  0:00:18s\n"
     ]
    },
    {
     "name": "stdout",
     "output_type": "stream",
     "text": [
      "epoch 167| loss: 0.13679 | train_mse: 0.06428 | train_mae: 0.20569 |  0:00:18s\n",
      "epoch 168| loss: 0.13485 | train_mse: 0.06659 | train_mae: 0.20947 |  0:00:18s\n",
      "epoch 169| loss: 0.22894 | train_mse: 0.06673 | train_mae: 0.21088 |  0:00:18s\n"
     ]
    },
    {
     "name": "stdout",
     "output_type": "stream",
     "text": [
      "epoch 170| loss: 0.1868  | train_mse: 0.06803 | train_mae: 0.2135  |  0:00:18s\n",
      "epoch 171| loss: 0.09979 | train_mse: 0.06864 | train_mae: 0.21668 |  0:00:18s\n",
      "epoch 172| loss: 0.09847 | train_mse: 0.06772 | train_mae: 0.2168  |  0:00:19s\n"
     ]
    },
    {
     "name": "stdout",
     "output_type": "stream",
     "text": [
      "epoch 173| loss: 0.16129 | train_mse: 0.0673  | train_mae: 0.2172  |  0:00:19s\n",
      "epoch 174| loss: 0.1174  | train_mse: 0.0657  | train_mae: 0.21379 |  0:00:19s\n",
      "epoch 175| loss: 0.19512 | train_mse: 0.06491 | train_mae: 0.21113 |  0:00:19s\n"
     ]
    },
    {
     "name": "stdout",
     "output_type": "stream",
     "text": [
      "epoch 176| loss: 0.17118 | train_mse: 0.06643 | train_mae: 0.21103 |  0:00:19s\n",
      "epoch 177| loss: 0.12732 | train_mse: 0.06937 | train_mae: 0.21414 |  0:00:19s\n",
      "epoch 178| loss: 0.3733  | train_mse: 0.06923 | train_mae: 0.21044 |  0:00:19s\n"
     ]
    },
    {
     "name": "stdout",
     "output_type": "stream",
     "text": [
      "epoch 179| loss: 0.20676 | train_mse: 0.07045 | train_mae: 0.2126  |  0:00:19s\n",
      "\n",
      "Early stopping occurred at epoch 179 with best_epoch = 129 and best_train_mae = 0.20225\n",
      "Best weights from best epoch are automatically used!\n"
     ]
    }
   ],
   "source": [
    "#Train the Model\n",
    "\n",
    "Y_train = np.reshape(Y_train, (-1, 1))\n",
    "Y_test = np.reshape(Y_test, (-1, 1))\n",
    "\n",
    "prior_model = TabNetRegressor(optimizer_fn=torch.optim.Adam, optimizer_params=dict(lr = 0.001),\n",
    "          #scheduler_params={\"step_size\":10, ], \"gamma\":0.9},\n",
    "          #scheduler_fn=torch.optim.lr_scheduler.StepLR\n",
    "          )  #TabNetRegressor()\n",
    "\n",
    "prior_model.fit(X_train,Y_train,eval_set=[(X_train, Y_train)],\n",
    "            eval_name=['train'], \n",
    "            eval_metric=[ 'mse', 'mae'], \n",
    "            max_epochs = n_epochs, \n",
    "            batch_size = batch_size,\n",
    "            patience=50\n",
    "            )"
   ]
  },
  {
   "cell_type": "code",
   "execution_count": 10,
   "id": "af65dcda",
   "metadata": {
    "execution": {
     "iopub.execute_input": "2022-07-22T12:34:07.754611Z",
     "iopub.status.busy": "2022-07-22T12:34:07.754249Z",
     "iopub.status.idle": "2022-07-22T12:34:07.806912Z",
     "shell.execute_reply": "2022-07-22T12:34:07.804897Z"
    },
    "id": "af65dcda",
    "papermill": {
     "duration": 0.070536,
     "end_time": "2022-07-22T12:34:07.809941",
     "exception": false,
     "start_time": "2022-07-22T12:34:07.739405",
     "status": "completed"
    },
    "tags": []
   },
   "outputs": [
    {
     "data": {
      "application/scrapbook.scrap.json+json": {
       "data": 0.2868614302616244,
       "encoder": "json",
       "name": "Prior Model MSE",
       "version": 1
      }
     },
     "metadata": {
      "scrapbook": {
       "data": true,
       "display": false,
       "name": "Prior Model MSE"
      }
     },
     "output_type": "display_data"
    },
    {
     "data": {
      "application/scrapbook.scrap.json+json": {
       "data": 0.29623291391487455,
       "encoder": "json",
       "name": "ABC Pre-generator MSE",
       "version": 1
      }
     },
     "metadata": {
      "scrapbook": {
       "data": true,
       "display": false,
       "name": "ABC Pre-generator MSE"
      }
     },
     "output_type": "display_data"
    },
    {
     "data": {
      "application/scrapbook.scrap.json+json": {
       "data": 0.4437240420870731,
       "encoder": "json",
       "name": "Prior Model MAE",
       "version": 1
      }
     },
     "metadata": {
      "scrapbook": {
       "data": true,
       "display": false,
       "name": "Prior Model MAE"
      }
     },
     "output_type": "display_data"
    },
    {
     "name": "stdout",
     "output_type": "stream",
     "text": [
      "Prior Model MAE 0.4437240420870731\n"
     ]
    },
    {
     "data": {
      "application/scrapbook.scrap.json+json": {
       "data": 0.45314192982006124,
       "encoder": "json",
       "name": "ABC Pre-generator MAE",
       "version": 1
      }
     },
     "metadata": {
      "scrapbook": {
       "data": true,
       "display": false,
       "name": "ABC Pre-generator MAE"
      }
     },
     "output_type": "display_data"
    },
    {
     "name": "stdout",
     "output_type": "stream",
     "text": [
      "ABC Pre-generator MAE 0.45314192982006124\n"
     ]
    }
   ],
   "source": [
    "y_pred = prior_model.predict(X_test)\n",
    "y_abc = y_pred + np.random.normal(0,variance, y_pred.shape) + bias \n",
    "mse = mean_squared_error(y_pred,Y_test)\n",
    "sb.glue(\"Prior Model MSE\",mse)\n",
    "mse = mean_squared_error(y_abc,Y_test)\n",
    "sb.glue(\"ABC Pre-generator MSE\",mse)\n",
    "mae = mean_absolute_error(y_pred,Y_test)\n",
    "sb.glue(\"Prior Model MAE\",mae)\n",
    "print(\"Prior Model MAE\",mae)\n",
    "mae = mean_absolute_error(y_abc,Y_test)\n",
    "sb.glue(\"ABC Pre-generator MAE\",mae)\n",
    "print(\"ABC Pre-generator MAE\",mae)"
   ]
  },
  {
   "cell_type": "markdown",
   "id": "25609da2",
   "metadata": {
    "papermill": {
     "duration": 0.015779,
     "end_time": "2022-07-22T12:34:07.840649",
     "exception": false,
     "start_time": "2022-07-22T12:34:07.824870",
     "status": "completed"
    },
    "tags": []
   },
   "source": [
    "# mGAN Model"
   ]
  },
  {
   "cell_type": "code",
   "execution_count": 11,
   "id": "dfc3464d",
   "metadata": {
    "execution": {
     "iopub.execute_input": "2022-07-22T12:34:07.872232Z",
     "iopub.status.busy": "2022-07-22T12:34:07.871631Z",
     "iopub.status.idle": "2022-07-22T12:34:07.876763Z",
     "shell.execute_reply": "2022-07-22T12:34:07.875764Z"
    },
    "papermill": {
     "duration": 0.024,
     "end_time": "2022-07-22T12:34:07.879735",
     "exception": false,
     "start_time": "2022-07-22T12:34:07.855735",
     "status": "completed"
    },
    "tags": []
   },
   "outputs": [],
   "source": [
    "# gen = network.Generator(n_features+1).to(device)\n",
    "# disc = network.Discriminator(n_features+1).to(device)\n",
    "\n",
    "# criterion = torch.nn.BCELoss()\n",
    "# gen_opt = torch.optim.Adam(gen.parameters(), lr=0.001, betas=(0.5, 0.999))\n",
    "# disc_opt = torch.optim.Adam(disc.parameters(), lr=0.001, betas=(0.5, 0.999))"
   ]
  },
  {
   "cell_type": "code",
   "execution_count": 12,
   "id": "b75fdd85",
   "metadata": {
    "execution": {
     "iopub.execute_input": "2022-07-22T12:34:07.913693Z",
     "iopub.status.busy": "2022-07-22T12:34:07.913249Z",
     "iopub.status.idle": "2022-07-22T12:34:07.918775Z",
     "shell.execute_reply": "2022-07-22T12:34:07.917627Z"
    },
    "papermill": {
     "duration": 0.025581,
     "end_time": "2022-07-22T12:34:07.921815",
     "exception": false,
     "start_time": "2022-07-22T12:34:07.896234",
     "status": "completed"
    },
    "tags": []
   },
   "outputs": [],
   "source": [
    "#Training the ABC_GAN \n",
    "# ABC_train_test2.training_GAN(disc,gen,disc_opt,gen_opt,train_data,batch_size,n_epochs,criterion,prior_model,variance,bias,device)"
   ]
  },
  {
   "cell_type": "code",
   "execution_count": 13,
   "id": "1fa7c368",
   "metadata": {
    "execution": {
     "iopub.execute_input": "2022-07-22T12:34:07.951535Z",
     "iopub.status.busy": "2022-07-22T12:34:07.951044Z",
     "iopub.status.idle": "2022-07-22T12:34:07.957367Z",
     "shell.execute_reply": "2022-07-22T12:34:07.956328Z"
    },
    "papermill": {
     "duration": 0.024475,
     "end_time": "2022-07-22T12:34:07.960033",
     "exception": false,
     "start_time": "2022-07-22T12:34:07.935558",
     "status": "completed"
    },
    "tags": []
   },
   "outputs": [],
   "source": [
    "# ABC_GAN1_metrics=ABC_train_test2.test_generator(gen,test_data,prior_model,variance,bias,\"1\",device)\n",
    "# sb.glue(\"ABC_GAN_1 Metrics\",ABC_GAN1_metrics)\n",
    "\n",
    "# print(\"MAE\")\n",
    "# print(mean(ABC_GAN1_metrics[1]))"
   ]
  },
  {
   "cell_type": "code",
   "execution_count": 14,
   "id": "eb22ce5c",
   "metadata": {
    "execution": {
     "iopub.execute_input": "2022-07-22T12:34:07.990775Z",
     "iopub.status.busy": "2022-07-22T12:34:07.990014Z",
     "iopub.status.idle": "2022-07-22T12:34:07.995181Z",
     "shell.execute_reply": "2022-07-22T12:34:07.994100Z"
    },
    "papermill": {
     "duration": 0.023694,
     "end_time": "2022-07-22T12:34:07.997997",
     "exception": false,
     "start_time": "2022-07-22T12:34:07.974303",
     "status": "completed"
    },
    "tags": []
   },
   "outputs": [],
   "source": [
    "# sanityChecks.discProbVsError(train_data,disc,device)\n",
    "# sanityChecks.discProbVsError(test_data,disc,device)"
   ]
  },
  {
   "cell_type": "markdown",
   "id": "677acc32",
   "metadata": {
    "papermill": {
     "duration": 0.014402,
     "end_time": "2022-07-22T12:34:08.025882",
     "exception": false,
     "start_time": "2022-07-22T12:34:08.011480",
     "status": "completed"
    },
    "tags": []
   },
   "source": [
    "# mGAN Model with TabNet Generator"
   ]
  },
  {
   "cell_type": "code",
   "execution_count": 15,
   "id": "1668a98d",
   "metadata": {
    "execution": {
     "iopub.execute_input": "2022-07-22T12:34:08.056875Z",
     "iopub.status.busy": "2022-07-22T12:34:08.056146Z",
     "iopub.status.idle": "2022-07-22T12:34:08.074320Z",
     "shell.execute_reply": "2022-07-22T12:34:08.073291Z"
    },
    "papermill": {
     "duration": 0.03763,
     "end_time": "2022-07-22T12:34:08.077310",
     "exception": false,
     "start_time": "2022-07-22T12:34:08.039680",
     "status": "completed"
    },
    "tags": []
   },
   "outputs": [],
   "source": [
    "gen2 = network.GeneratorTabnet(n_features+1).to(device)\n",
    "disc2 = network.Discriminator(n_features+1).to(device)\n",
    "\n",
    "criterion = torch.nn.BCELoss()\n",
    "gen_opt = torch.optim.Adam(gen2.parameters(), lr=0.001, betas=(0.5, 0.999))\n",
    "disc_opt = torch.optim.Adam(disc2.parameters(), lr=0.001, betas=(0.5, 0.999))"
   ]
  },
  {
   "cell_type": "code",
   "execution_count": 16,
   "id": "7f4b7101",
   "metadata": {
    "execution": {
     "iopub.execute_input": "2022-07-22T12:34:08.112738Z",
     "iopub.status.busy": "2022-07-22T12:34:08.112048Z",
     "iopub.status.idle": "2022-07-22T12:36:49.993262Z",
     "shell.execute_reply": "2022-07-22T12:36:49.991647Z"
    },
    "papermill": {
     "duration": 161.901507,
     "end_time": "2022-07-22T12:36:49.996378",
     "exception": false,
     "start_time": "2022-07-22T12:34:08.094871",
     "status": "completed"
    },
    "tags": []
   },
   "outputs": [
    {
     "data": {
      "image/png": "[encoded data removed]",
      "text/plain": [
       "<Figure size 432x288 with 1 Axes>"
      ]
     },
     "metadata": {
      "needs_background": "light"
     },
     "output_type": "display_data"
    },
    {
     "data": {
      "image/png": "[encoded data removed]",
      "text/plain": [
       "<Figure size 432x288 with 1 Axes>"
      ]
     },
     "metadata": {
      "needs_background": "light"
     },
     "output_type": "display_data"
    }
   ],
   "source": [
    "#Training the ABC_GAN \n",
    "ABC_train_test2.training_GAN(disc2,gen2,disc_opt,gen_opt,train_data,batch_size,n_epochs,criterion,prior_model,variance,bias,device)"
   ]
  },
  {
   "cell_type": "code",
   "execution_count": 17,
   "id": "3e4faec1",
   "metadata": {
    "execution": {
     "iopub.execute_input": "2022-07-22T12:36:50.028996Z",
     "iopub.status.busy": "2022-07-22T12:36:50.028325Z",
     "iopub.status.idle": "2022-07-22T12:36:52.060485Z",
     "shell.execute_reply": "2022-07-22T12:36:52.058206Z"
    },
    "papermill": {
     "duration": 2.053462,
     "end_time": "2022-07-22T12:36:52.064023",
     "exception": false,
     "start_time": "2022-07-22T12:36:50.010561",
     "status": "completed"
    },
    "tags": []
   },
   "outputs": [
    {
     "data": {
      "application/scrapbook.scrap.json+json": {
       "data": 0.1480674729156421,
       "encoder": "json",
       "name": "ABC-GAN Model 1 MSE",
       "version": 1
      }
     },
     "metadata": {
      "scrapbook": {
       "data": true,
       "display": false,
       "name": "ABC-GAN Model 1 MSE"
      }
     },
     "output_type": "display_data"
    },
    {
     "data": {
      "application/scrapbook.scrap.json+json": {
       "data": 0.3084480916261673,
       "encoder": "json",
       "name": "ABC-GAN Model 1 MAE",
       "version": 1
      }
     },
     "metadata": {
      "scrapbook": {
       "data": true,
       "display": false,
       "name": "ABC-GAN Model 1 MAE"
      }
     },
     "output_type": "display_data"
    },
    {
     "data": {
      "application/scrapbook.scrap.json+json": {
       "data": 6.168961832523346,
       "encoder": "json",
       "name": "ABC-GAN Model 1 Manhattan Distance",
       "version": 1
      }
     },
     "metadata": {
      "scrapbook": {
       "data": true,
       "display": false,
       "name": "ABC-GAN Model 1 Manhattan Distance"
      }
     },
     "output_type": "display_data"
    },
    {
     "data": {
      "application/scrapbook.scrap.json+json": {
       "data": 1.7179513506851598,
       "encoder": "json",
       "name": "ABC-GAN Model 1 Euclidean distance",
       "version": 1
      }
     },
     "metadata": {
      "scrapbook": {
       "data": true,
       "display": false,
       "name": "ABC-GAN Model 1 Euclidean distance"
      }
     },
     "output_type": "display_data"
    },
    {
     "data": {
      "application/scrapbook.scrap.json+json": {
       "data": [
        [
         0.15494845580128952,
         0.16796205910113557,
         0.1606073373679401,
         0.19144842707463403,
         0.16303792104135822,
         0.14423724214374434,
         0.1289624661097665,
         0.1528973149550446,
         0.16066035711564847,
         0.13322893652927226,
         0.1655797266718011,
         0.1386956450417005,
         0.1533693971509494,
         0.14501291185253157,
         0.12973330322962706,
         0.17706287944904772,
         0.13162027334888546,
         0.17382194514710464,
         0.13220032466665083,
         0.13040371455496386,
         0.19946110818987095,
         0.1529798310902522,
         0.16544446003752422,
         0.15896858726949073,
         0.1464417759505477,
         0.13856427163978316,
         0.1476981643343648,
         0.14500398441925624,
         0.17453129626767364,
         0.15999229198855427,
         0.10874308700907424,
         0.12851163415764005,
         0.14951167317226327,
         0.15253702446487924,
         0.15426905088481693,
         0.1290079017502888,
         0.13934594865284344,
         0.14857303806038163,
         0.13784945297480067,
         0.1327485251486436,
         0.1861639158424603,
         0.1345521339422066,
         0.15345215886545435,
         0.1403282542119224,
         0.15717061144740135,
         0.13654931926938946,
         0.16273016325799664,
         0.13904613025112922,
         0.134852336215322,
         0.1637992950344788,
         0.15685987262248915,
         0.14406892477875682,
         0.1230509996705988,
         0.14887861182595788,
         0.1540915524273685,
         0.16762597278292218,
         0.17055201729058994,
         0.1498907629969958,
         0.1424416346214549,
         0.16576887299339993,
         0.12835140240732038,
         0.15067427086320073,
         0.12714379395468817,
         0.154401898754479,
         0.13230289247457785,
         0.1622565455769383,
         0.13095171997503358,
         0.13350621725035575,
         0.16451699239009362,
         0.1327955902361217,
         0.16332604757152955,
         0.13933844089168718,
         0.12390907019959987,
         0.14525615961436786,
         0.14779451926637616,
         0.16911633670670584,
         0.16854077031970754,
         0.15281747350547353,
         0.11057274553594118,
         0.16383418994929705,
         0.1652460116115427,
         0.16805213390753707,
         0.12734011869231057,
         0.12266673393008229,
         0.1503215950124963,
         0.16404274238684707,
         0.12524904898971378,
         0.12710037089497148,
         0.13321752613264953,
         0.13958822468448467,
         0.1154344446933269,
         0.1642411864982682,
         0.15359985557244982,
         0.13799718469121278,
         0.13834664638070598,
         0.15469283993498456,
         0.1544192070719776,
         0.1627212827102938,
         0.12260970968202978,
         0.14090606447848825
        ],
        [
         0.31259459592401984,
         0.35032851733267306,
         0.32076121158897875,
         0.34162364043295385,
         0.315000394359231,
         0.3034515645354986,
         0.2838616732507944,
         0.31348416693508624,
         0.30138982124626634,
         0.27972505427896976,
         0.3251263428479433,
         0.30138473995029924,
         0.3256032202392817,
         0.2835089731961489,
         0.2857512075453997,
         0.32981546856462957,
         0.28996952511370183,
         0.33328628577291963,
         0.28461985625326636,
         0.2933176953345537,
         0.3719931323081255,
         0.30797098465263845,
         0.3169813174754381,
         0.3087663847953081,
         0.3105774153023958,
         0.29342940635979176,
         0.308299196138978,
         0.31289898343384265,
         0.3266207281500101,
         0.3225504618138075,
         0.2650231394916773,
         0.2894802767783403,
         0.3093097899109125,
         0.31206835247576237,
         0.3140198651701212,
         0.2890209075063467,
         0.3008789706975222,
         0.3067983064800501,
         0.29656479097902777,
         0.30569854862987994,
         0.36872101463377477,
         0.29225988276302817,
         0.31634373404085636,
         0.3066229570657015,
         0.3159744445234537,
         0.28997896499931813,
         0.3291415888816118,
         0.3002638775855303,
         0.2874053705483675,
         0.3185695637017488,
         0.32821301110088824,
         0.3150434274226427,
         0.27693872787058355,
         0.30015842355787753,
         0.3151838067919016,
         0.31686617620289326,
         0.34305799193680286,
         0.30230982340872287,
         0.3098767284303904,
         0.30964700765907766,
         0.283056128397584,
         0.33024606145918367,
         0.2858901251107454,
         0.32759822346270084,
         0.29510179348289967,
         0.3295276377350092,
         0.2945899162441492,
         0.2680623199790716,
         0.3481099996715784,
         0.2962027955800295,
         0.32103162743151187,
         0.30176862366497514,
         0.2928347993642092,
         0.29101334400475026,
         0.2998812858015299,
         0.33801427222788333,
         0.3207992423325777,
         0.3114800188690424,
         0.2628566283732653,
         0.34291200079023837,
         0.3286715764552355,
         0.339134867861867,
         0.3004863251000643,
         0.2855690483003855,
         0.32890201844274997,
         0.32682100869715214,
         0.2720484185963869,
         0.28068270571529863,
         0.297471034899354,
         0.3041062284260988,
         0.26456101424992085,
         0.3375642243772745,
         0.30464830733835696,
         0.293722977116704,
         0.31372388936579226,
         0.3192538399249315,
         0.3088646251708269,
         0.34389877803623675,
         0.2697497148066759,
         0.29782027937471867
        ],
        [
         6.251891918480396,
         7.0065703466534615,
         6.415224231779575,
         6.832472808659077,
         6.30000788718462,
         6.069031290709972,
         5.677233465015888,
         6.269683338701725,
         6.027796424925327,
         5.594501085579395,
         6.502526856958866,
         6.027694799005985,
         6.512064404785633,
         5.6701794639229774,
         5.715024150907993,
         6.596309371292591,
         5.799390502274036,
         6.665725715458393,
         5.692397125065327,
         5.866353906691074,
         7.43986264616251,
         6.159419693052769,
         6.339626349508762,
         6.175327695906162,
         6.211548306047916,
         5.868588127195835,
         6.16598392277956,
         6.257979668676853,
         6.532414563000202,
         6.45100923627615,
         5.300462789833546,
         5.789605535566807,
         6.18619579821825,
         6.241367049515247,
         6.280397303402424,
         5.780418150126934,
         6.017579413950443,
         6.135966129601002,
         5.931295819580555,
         6.113970972597599,
         7.374420292675495,
         5.845197655260563,
         6.326874680817127,
         6.13245914131403,
         6.319488890469074,
         5.7995792999863625,
         6.5828317776322365,
         6.005277551710606,
         5.74810741096735,
         6.371391274034977,
         6.564260222017765,
         6.300868548452854,
         5.538774557411671,
         6.003168471157551,
         6.303676135838032,
         6.337323524057865,
         6.861159838736057,
         6.0461964681744576,
         6.197534568607807,
         6.192940153181553,
         5.661122567951679,
         6.604921229183674,
         5.717802502214909,
         6.551964469254017,
         5.902035869657993,
         6.590552754700184,
         5.891798324882984,
         5.361246399581432,
         6.962199993431568,
         5.92405591160059,
         6.420632548630238,
         6.035372473299503,
         5.8566959872841835,
         5.820266880095005,
         5.997625716030598,
         6.760285444557667,
         6.415984846651554,
         6.229600377380848,
         5.257132567465305,
         6.858240015804768,
         6.57343152910471,
         6.782697357237339,
         6.0097265020012856,
         5.7113809660077095,
         6.5780403688549995,
         6.536420173943043,
         5.440968371927738,
         5.613654114305973,
         5.94942069798708,
         6.0821245685219765,
         5.291220284998417,
         6.75128448754549,
         6.092966146767139,
         5.87445954233408,
         6.2744777873158455,
         6.3850767984986305,
         6.177292503416538,
         6.877975560724735,
         5.394994296133518,
         5.956405587494373
        ],
        [
         1.760388910447288,
         1.832823281722139,
         1.7922462853522119,
         1.9567750359948588,
         1.8057570215361656,
         1.698453662268973,
         1.6060041476270632,
         1.7486984585973913,
         1.7925420894118411,
         1.6323537394160144,
         1.8197787045231686,
         1.6655067999963287,
         1.7513959983450311,
         1.7030144559135814,
         1.6107967173397584,
         1.8818229430477658,
         1.622468941760584,
         1.8645210921151019,
         1.6260401266060491,
         1.6149533402235736,
         1.9973037234725766,
         1.749170266670756,
         1.8190352390073383,
         1.7830792874658756,
         1.7113840945302004,
         1.6647178237754479,
         1.7187097738382988,
         1.702962033747413,
         1.868321686796327,
         1.7888112923869541,
         1.474741245161837,
         1.603194524427027,
         1.729229152959568,
         1.746636908260439,
         1.7565252681633527,
         1.606287033816116,
         1.669406772795914,
         1.7237925516742532,
         1.660418338701429,
         1.629408022250066,
         1.9295798290947193,
         1.6404397821450603,
         1.751868481738594,
         1.6752805986575647,
         1.7729670693354762,
         1.6525696310255096,
         1.8040519020138897,
         1.6676098479628214,
         1.6422687734674979,
         1.8099684805790337,
         1.771213553598149,
         1.6974623694135715,
         1.5687638424606734,
         1.7255643240746366,
         1.7555144683389454,
         1.8309886552511578,
         1.8469001992018406,
         1.7314200125734702,
         1.6878485395405294,
         1.8208177997449384,
         1.6021947597425252,
         1.7359393472307765,
         1.5946397333234124,
         1.757281416020092,
         1.6266707870652737,
         1.8014246893885866,
         1.6183431031461382,
         1.6340515123481005,
         1.8139293943816757,
         1.6296968444230462,
         1.807351916874683,
         1.669361799561061,
         1.5742240641001513,
         1.7044421938826078,
         1.7192703060681072,
         1.8391103104855122,
         1.8359780517190696,
         1.7482418225490062,
         1.4870961336506876,
         1.8101612632541724,
         1.8179439573955118,
         1.8333146697036875,
         1.595870412610689,
         1.5663124460342024,
         1.7339065431129577,
         1.8113130176026842,
         1.5827131704115802,
         1.5943674036743947,
         1.632283836424594,
         1.67085741273446,
         1.5194370318860002,
         1.8124082680139606,
         1.7527113599931383,
         1.6613078263296828,
         1.663410029912685,
         1.7589362690841561,
         1.757379908113084,
         1.8040026757756973,
         1.565948336836371,
         1.6787260912876065
        ]
       ],
       "encoder": "json",
       "name": "ABC_GAN_2 Metrics",
       "version": 1
      }
     },
     "metadata": {
      "scrapbook": {
       "data": true,
       "display": false,
       "name": "ABC_GAN_2 Metrics"
      }
     },
     "output_type": "display_data"
    },
    {
     "name": "stdout",
     "output_type": "stream",
     "text": [
      "MAE\n",
      "0.3084480916261673\n"
     ]
    }
   ],
   "source": [
    "ABC_GAN2_metrics=ABC_train_test2.test_generator(gen2,test_data,prior_model,variance,bias,\"1\",device)\n",
    "sb.glue(\"ABC_GAN_2 Metrics\",ABC_GAN2_metrics)\n",
    "\n",
    "print(\"MAE\")\n",
    "print(mean(ABC_GAN2_metrics[1]))"
   ]
  },
  {
   "cell_type": "code",
   "execution_count": 18,
   "id": "6436517d",
   "metadata": {
    "execution": {
     "iopub.execute_input": "2022-07-22T12:36:52.113109Z",
     "iopub.status.busy": "2022-07-22T12:36:52.112449Z",
     "iopub.status.idle": "2022-07-22T12:36:53.290264Z",
     "shell.execute_reply": "2022-07-22T12:36:53.288528Z"
    },
    "papermill": {
     "duration": 1.203236,
     "end_time": "2022-07-22T12:36:53.293443",
     "exception": false,
     "start_time": "2022-07-22T12:36:52.090207",
     "status": "completed"
    },
    "tags": []
   },
   "outputs": [
    {
     "data": {
      "image/png": "[encoded data removed]",
      "text/plain": [
       "<Figure size 432x288 with 1 Axes>"
      ]
     },
     "metadata": {
      "needs_background": "light"
     },
     "output_type": "display_data"
    },
    {
     "data": {
      "image/png": "[encoded data removed]",
      "text/plain": [
       "<Figure size 432x288 with 1 Axes>"
      ]
     },
     "metadata": {
      "needs_background": "light"
     },
     "output_type": "display_data"
    },
    {
     "data": {
      "image/png": "[encoded data removed]",
      "text/plain": [
       "<Figure size 432x288 with 1 Axes>"
      ]
     },
     "metadata": {
      "needs_background": "light"
     },
     "output_type": "display_data"
    },
    {
     "data": {
      "image/png": "[encoded data removed]",
      "text/plain": [
       "<Figure size 432x288 with 1 Axes>"
      ]
     },
     "metadata": {
      "needs_background": "light"
     },
     "output_type": "display_data"
    }
   ],
   "source": [
    "sanityChecks.discProbVsError(train_data,disc2,device)\n",
    "sanityChecks.discProbVsError(test_data,disc2,device)"
   ]
  },
  {
   "cell_type": "markdown",
   "id": "130f3a4d",
   "metadata": {
    "id": "130f3a4d",
    "papermill": {
     "duration": 0.033215,
     "end_time": "2022-07-22T12:36:53.349459",
     "exception": false,
     "start_time": "2022-07-22T12:36:53.316244",
     "status": "completed"
    },
    "tags": []
   },
   "source": [
    "# skipGAN Model"
   ]
  },
  {
   "cell_type": "code",
   "execution_count": 19,
   "id": "4e43dad1",
   "metadata": {
    "execution": {
     "iopub.execute_input": "2022-07-22T12:36:53.422512Z",
     "iopub.status.busy": "2022-07-22T12:36:53.421914Z",
     "iopub.status.idle": "2022-07-22T12:36:53.438791Z",
     "shell.execute_reply": "2022-07-22T12:36:53.437529Z"
    },
    "id": "4e43dad1",
    "papermill": {
     "duration": 0.055982,
     "end_time": "2022-07-22T12:36:53.443398",
     "exception": false,
     "start_time": "2022-07-22T12:36:53.387416",
     "status": "completed"
    },
    "tags": []
   },
   "outputs": [],
   "source": [
    "# #Generator\n",
    "# gen3 = network.GeneratorWithSkipConnection(n_features+1).to(device)\n",
    "# constraints=network.weightConstraint()\n",
    "# #Discriminator \n",
    "# disc3 = network.Discriminator(n_features+1).to(device)\n",
    "\n",
    "# criterion = torch.nn.BCELoss()\n",
    "# gen_opt = torch.optim.Adam(gen3.parameters(), lr=0.01, betas=(0.5, 0.999))\n",
    "# disc_opt = torch.optim.Adam(disc3.parameters(), lr=0.01, betas=(0.5, 0.999))\n"
   ]
  },
  {
   "cell_type": "code",
   "execution_count": 20,
   "id": "26acbc37",
   "metadata": {
    "execution": {
     "iopub.execute_input": "2022-07-22T12:36:53.502478Z",
     "iopub.status.busy": "2022-07-22T12:36:53.501471Z",
     "iopub.status.idle": "2022-07-22T12:36:53.520184Z",
     "shell.execute_reply": "2022-07-22T12:36:53.519109Z"
    },
    "id": "26acbc37",
    "papermill": {
     "duration": 0.058178,
     "end_time": "2022-07-22T12:36:53.525238",
     "exception": false,
     "start_time": "2022-07-22T12:36:53.467060",
     "status": "completed"
    },
    "tags": []
   },
   "outputs": [],
   "source": [
    "# ABC_train_test2.training_GAN_skip_connection(disc3,gen3,disc_opt,gen_opt,train_data,batch_size,n_epochs,criterion,prior_model,variance,bias,device)"
   ]
  },
  {
   "cell_type": "code",
   "execution_count": 21,
   "id": "c5e0717b",
   "metadata": {
    "execution": {
     "iopub.execute_input": "2022-07-22T12:36:53.583123Z",
     "iopub.status.busy": "2022-07-22T12:36:53.582057Z",
     "iopub.status.idle": "2022-07-22T12:36:53.588548Z",
     "shell.execute_reply": "2022-07-22T12:36:53.587419Z"
    },
    "id": "c5e0717b",
    "papermill": {
     "duration": 0.057616,
     "end_time": "2022-07-22T12:36:53.609135",
     "exception": false,
     "start_time": "2022-07-22T12:36:53.551519",
     "status": "completed"
    },
    "tags": []
   },
   "outputs": [],
   "source": [
    "# ABC_GAN3_metrics=ABC_train_test2.test_generator(gen3,test_data,prior_model,variance,bias,\"3\",device)\n",
    "# sb.glue(\"ABC_GAN_3 Metrics\",ABC_GAN3_metrics)\n",
    "\n",
    "# print(\"MAE\")\n",
    "# print(mean(ABC_GAN3_metrics[1]))"
   ]
  },
  {
   "cell_type": "code",
   "execution_count": 22,
   "id": "c8e46b48",
   "metadata": {
    "execution": {
     "iopub.execute_input": "2022-07-22T12:36:53.677054Z",
     "iopub.status.busy": "2022-07-22T12:36:53.676593Z",
     "iopub.status.idle": "2022-07-22T12:36:53.682377Z",
     "shell.execute_reply": "2022-07-22T12:36:53.681149Z"
    },
    "id": "c8e46b48",
    "papermill": {
     "duration": 0.049838,
     "end_time": "2022-07-22T12:36:53.691406",
     "exception": false,
     "start_time": "2022-07-22T12:36:53.641568",
     "status": "completed"
    },
    "tags": []
   },
   "outputs": [],
   "source": [
    "# sanityChecks.discProbVsError(train_data,disc3,device)\n",
    "# sanityChecks.discProbVsError(test_data,disc3,device)"
   ]
  },
  {
   "cell_type": "markdown",
   "id": "f1089a22",
   "metadata": {
    "id": "130f3a4d",
    "papermill": {
     "duration": 0.032886,
     "end_time": "2022-07-22T12:36:53.751397",
     "exception": false,
     "start_time": "2022-07-22T12:36:53.718511",
     "status": "completed"
    },
    "tags": []
   },
   "source": [
    "# skipGAN Model with TabNet Generator"
   ]
  },
  {
   "cell_type": "code",
   "execution_count": 23,
   "id": "16fbc87e",
   "metadata": {
    "execution": {
     "iopub.execute_input": "2022-07-22T12:36:53.814938Z",
     "iopub.status.busy": "2022-07-22T12:36:53.814366Z",
     "iopub.status.idle": "2022-07-22T12:36:53.842040Z",
     "shell.execute_reply": "2022-07-22T12:36:53.840911Z"
    },
    "id": "4e43dad1",
    "papermill": {
     "duration": 0.064384,
     "end_time": "2022-07-22T12:36:53.846457",
     "exception": false,
     "start_time": "2022-07-22T12:36:53.782073",
     "status": "completed"
    },
    "tags": []
   },
   "outputs": [],
   "source": [
    "#Generator\n",
    "gen4 = network.GeneratorTabnetskipConnection(n_features+1).to(device)\n",
    "constraints=network.weightConstraint()\n",
    "#Discriminator \n",
    "disc4 = network.Discriminator(n_features+1).to(device)\n",
    "\n",
    "criterion = torch.nn.BCELoss()\n",
    "gen_opt = torch.optim.Adam(gen4.parameters(), lr=0.001, betas=(0.5, 0.999))\n",
    "disc_opt = torch.optim.Adam(disc4.parameters(), lr=0.001, betas=(0.5, 0.999))\n"
   ]
  },
  {
   "cell_type": "code",
   "execution_count": 24,
   "id": "9e4530bb",
   "metadata": {
    "execution": {
     "iopub.execute_input": "2022-07-22T12:36:53.911344Z",
     "iopub.status.busy": "2022-07-22T12:36:53.910854Z",
     "iopub.status.idle": "2022-07-22T12:40:06.418231Z",
     "shell.execute_reply": "2022-07-22T12:40:06.417347Z"
    },
    "id": "26acbc37",
    "papermill": {
     "duration": 192.551879,
     "end_time": "2022-07-22T12:40:06.420993",
     "exception": false,
     "start_time": "2022-07-22T12:36:53.869114",
     "status": "completed"
    },
    "tags": []
   },
   "outputs": [
    {
     "data": {
      "image/png": "[encoded data removed]",
      "text/plain": [
       "<Figure size 432x288 with 1 Axes>"
      ]
     },
     "metadata": {
      "needs_background": "light"
     },
     "output_type": "display_data"
    },
    {
     "data": {
      "image/png": "[encoded data removed]",
      "text/plain": [
       "<Figure size 432x288 with 1 Axes>"
      ]
     },
     "metadata": {
      "needs_background": "light"
     },
     "output_type": "display_data"
    }
   ],
   "source": [
    "ABC_train_test2.training_GAN_skip_connection(disc4,gen4,disc_opt,gen_opt,train_data,batch_size,n_epochs,criterion,prior_model,variance,bias,device)"
   ]
  },
  {
   "cell_type": "code",
   "execution_count": 25,
   "id": "0d59b3a5",
   "metadata": {
    "execution": {
     "iopub.execute_input": "2022-07-22T12:40:06.462352Z",
     "iopub.status.busy": "2022-07-22T12:40:06.461804Z",
     "iopub.status.idle": "2022-07-22T12:40:08.689900Z",
     "shell.execute_reply": "2022-07-22T12:40:08.688399Z"
    },
    "id": "c5e0717b",
    "papermill": {
     "duration": 2.253624,
     "end_time": "2022-07-22T12:40:08.693383",
     "exception": false,
     "start_time": "2022-07-22T12:40:06.439759",
     "status": "completed"
    },
    "tags": []
   },
   "outputs": [
    {
     "data": {
      "application/scrapbook.scrap.json+json": {
       "data": 0.19973343141406946,
       "encoder": "json",
       "name": "ABC-GAN Model 3 MSE",
       "version": 1
      }
     },
     "metadata": {
      "scrapbook": {
       "data": true,
       "display": false,
       "name": "ABC-GAN Model 3 MSE"
      }
     },
     "output_type": "display_data"
    },
    {
     "data": {
      "application/scrapbook.scrap.json+json": {
       "data": 0.3543036776231602,
       "encoder": "json",
       "name": "ABC-GAN Model 3 MAE",
       "version": 1
      }
     },
     "metadata": {
      "scrapbook": {
       "data": true,
       "display": false,
       "name": "ABC-GAN Model 3 MAE"
      }
     },
     "output_type": "display_data"
    },
    {
     "data": {
      "application/scrapbook.scrap.json+json": {
       "data": 7.086073552463204,
       "encoder": "json",
       "name": "ABC-GAN Model 3 Manhattan Distance",
       "version": 1
      }
     },
     "metadata": {
      "scrapbook": {
       "data": true,
       "display": false,
       "name": "ABC-GAN Model 3 Manhattan Distance"
      }
     },
     "output_type": "display_data"
    },
    {
     "data": {
      "application/scrapbook.scrap.json+json": {
       "data": 1.9951569355784677,
       "encoder": "json",
       "name": "ABC-GAN Model 3 Euclidean distance",
       "version": 1
      }
     },
     "metadata": {
      "scrapbook": {
       "data": true,
       "display": false,
       "name": "ABC-GAN Model 3 Euclidean distance"
      }
     },
     "output_type": "display_data"
    },
    {
     "data": {
      "application/scrapbook.scrap.json+json": {
       "data": [
        [
         0.15990792233908574,
         0.15837360120828503,
         0.19954452740984147,
         0.2278231446910283,
         0.16898270400838783,
         0.22029929786187274,
         0.18145800554355312,
         0.21184586436092906,
         0.20657456652772826,
         0.21854639711355275,
         0.17457976288036064,
         0.2057010264785808,
         0.23120785990541562,
         0.22165827798101057,
         0.2224881922234438,
         0.19700845550765603,
         0.21467159560381574,
         0.16174153497972563,
         0.18831948419897654,
         0.2272472592527468,
         0.19031040195331136,
         0.19508399962618575,
         0.18221707233268547,
         0.1818427177887109,
         0.17803487231003629,
         0.18183479903375382,
         0.1985897523750883,
         0.16869731718085287,
         0.16223986059772882,
         0.2659455118980617,
         0.22072822253505064,
         0.15720296476995516,
         0.2088103918375777,
         0.2358137908047165,
         0.20588885935902254,
         0.20166502922685003,
         0.20732442089996242,
         0.239206151010058,
         0.1883383239577367,
         0.22838603443639424,
         0.208504052859715,
         0.20272141722496687,
         0.1921998653881281,
         0.19377820298112977,
         0.18854989210879136,
         0.24235389242309124,
         0.2046864528011823,
         0.20828656060295675,
         0.2034957193264651,
         0.23645951630285303,
         0.21534787892440566,
         0.18724061690106802,
         0.173592728430354,
         0.18776594823615259,
         0.22099508348714,
         0.1936487699054435,
         0.1827486788795646,
         0.23539962245136162,
         0.17918614984100345,
         0.1855954903859256,
         0.17686044286504415,
         0.18763165402615303,
         0.1825687100567283,
         0.24438330156763963,
         0.200138404052344,
         0.25137798819481616,
         0.18256647969270504,
         0.213650053206862,
         0.1861550939242881,
         0.1870563353745685,
         0.17312374732333344,
         0.17896470376959717,
         0.17797015499043972,
         0.20486965259279954,
         0.2096504930769411,
         0.20972922221108264,
         0.2054441614104691,
         0.1706966765252144,
         0.17788733442258287,
         0.1881940116287054,
         0.20459193231245493,
         0.24180519586817845,
         0.13824055125432122,
         0.1890639658170353,
         0.1931478850845377,
         0.20468042755250862,
         0.22317541346679498,
         0.184017801565229,
         0.17451997685164514,
         0.1878889506224594,
         0.16552844973369804,
         0.21562346441114016,
         0.18926190165427675,
         0.20018331898714975,
         0.24462556893194454,
         0.19697263366389364,
         0.2287871013689287,
         0.2046249814844968,
         0.20671109974676388,
         0.2322773866457409
        ],
        [
         0.3161489240825176,
         0.3210726331919432,
         0.3483078446239233,
         0.3685349691659212,
         0.34643532894551754,
         0.36593685783445834,
         0.3386697705835104,
         0.37482387833297254,
         0.35175828598439696,
         0.357984284684062,
         0.3366966523230076,
         0.3782919507473707,
         0.38044332675635817,
         0.3683011896908283,
         0.3658187385648489,
         0.3448736142367125,
         0.37659991197288034,
         0.32913202084600923,
         0.35267244912683965,
         0.36888141445815564,
         0.3154895890504122,
         0.3470054382458329,
         0.33991045579314233,
         0.3499847214668989,
         0.3604898672550917,
         0.34330324865877626,
         0.3717975292354822,
         0.33828331120312216,
         0.32565256841480733,
         0.3810060989111662,
         0.3777943763881922,
         0.3255300514400005,
         0.36011479906737803,
         0.35630815885961054,
         0.35936693847179413,
         0.36062023527920245,
         0.34300606697797775,
         0.37737225331366064,
         0.33965670205652715,
         0.38098903857171534,
         0.34720078064128757,
         0.3648785728961229,
         0.34690610244870185,
         0.3422932084649801,
         0.3526511587202549,
         0.36632633693516253,
         0.3605890866369009,
         0.3438627187162638,
         0.3431736472994089,
         0.3802418276667595,
         0.37688097432255746,
         0.37203705348074434,
         0.337156518176198,
         0.34497498013079164,
         0.38969341963529586,
         0.3646942138671875,
         0.3396068785339594,
         0.38658447824418546,
         0.3378656480461359,
         0.34111438058316707,
         0.327999172359705,
         0.3676766809076071,
         0.35150592364370825,
         0.40449456460773947,
         0.3416488628834486,
         0.4018786530941725,
         0.33129698168486355,
         0.36218953020870687,
         0.34346046298742294,
         0.3387360036373138,
         0.32368203997612,
         0.3322603225708008,
         0.35608978010714054,
         0.3389307428151369,
         0.36223123855888845,
         0.3669792957603931,
         0.3568579053506255,
         0.3283376906067133,
         0.3364727173000574,
         0.3634061571210623,
         0.3464575011283159,
         0.3942515473812819,
         0.29500868879258635,
         0.3592346828430891,
         0.3380014434456825,
         0.35113003216683863,
         0.36357437036931517,
         0.3401598785072565,
         0.3115105465054512,
         0.3634460803121328,
         0.33494605459272864,
         0.3807654555886984,
         0.3456814870238304,
         0.35909174233675,
         0.38751127384603024,
         0.3599646672606468,
         0.3913019109517336,
         0.3404557276517153,
         0.3569435108453035,
         0.39099895432591436
        ],
        [
         6.3229784816503525,
         6.421452663838863,
         6.966156892478466,
         7.370699383318424,
         6.928706578910351,
         7.318737156689167,
         6.773395411670208,
         7.4964775666594505,
         7.035165719687939,
         7.15968569368124,
         6.733933046460152,
         7.565839014947414,
         7.608866535127163,
         7.3660237938165665,
         7.316374771296978,
         6.897472284734249,
         7.531998239457607,
         6.582640416920185,
         7.053448982536793,
         7.377628289163113,
         6.309791781008244,
         6.940108764916658,
         6.798209115862846,
         6.999694429337978,
         7.209797345101833,
         6.866064973175526,
         7.435950584709644,
         6.765666224062443,
         6.513051368296146,
         7.620121978223324,
         7.5558875277638435,
         6.510601028800011,
         7.202295981347561,
         7.126163177192211,
         7.187338769435883,
         7.212404705584049,
         6.860121339559555,
         7.547445066273212,
         6.793134041130543,
         7.619780771434307,
         6.944015612825751,
         7.297571457922459,
         6.938122048974037,
         6.8458641692996025,
         7.053023174405098,
         7.326526738703251,
         7.211781732738018,
         6.877254374325275,
         6.863472945988178,
         7.60483655333519,
         7.537619486451149,
         7.440741069614887,
         6.74313036352396,
         6.899499602615833,
         7.793868392705917,
         7.29388427734375,
         6.792137570679188,
         7.731689564883709,
         6.757312960922718,
         6.8222876116633415,
         6.559983447194099,
         7.353533618152142,
         7.030118472874165,
         8.089891292154789,
         6.832977257668972,
         8.03757306188345,
         6.625939633697271,
         7.243790604174137,
         6.869209259748459,
         6.774720072746277,
         6.4736407995224,
         6.645206451416016,
         7.121795602142811,
         6.778614856302738,
         7.244624771177769,
         7.339585915207863,
         7.13715810701251,
         6.566753812134266,
         6.729454346001148,
         7.268123142421246,
         6.9291500225663185,
         7.885030947625637,
         5.9001737758517265,
         7.184693656861782,
         6.7600288689136505,
         7.022600643336773,
         7.271487407386303,
         6.80319757014513,
         6.230210930109024,
         7.268921606242657,
         6.698921091854572,
         7.615309111773968,
         6.913629740476608,
         7.181834846735001,
         7.750225476920605,
         7.199293345212936,
         7.826038219034672,
         6.809114553034306,
         7.138870216906071,
         7.819979086518288
        ],
        [
         1.7883395781511169,
         1.7797393135416493,
         1.9977213389751909,
         2.1345872888735578,
         1.8383835508858744,
         2.0990440579553007,
         1.905035461840819,
         2.0583773432533166,
         2.032607028068772,
         2.0906764317490776,
         1.8685810813575132,
         2.028304841381496,
         2.1503853603734173,
         2.105508385074781,
         2.1094463360011972,
         1.9849859219030044,
         2.072059823479118,
         1.798563510025296,
         1.940718857531799,
         2.1318877046071014,
         1.9509505475706521,
         1.9752670686577334,
         1.9090158319547037,
         1.9070538418655667,
         1.8869810402335063,
         1.9070123179138294,
         1.9929362878681711,
         1.8368305157572533,
         1.8013320659874394,
         2.3062762709530777,
         2.101086492912896,
         1.7731495411834566,
         2.0435772157546563,
         2.171698831812167,
         2.029230688507458,
         2.0083078908715666,
         2.036292812441091,
         2.1872638204389427,
         1.9408159312914592,
         2.137222657733135,
         2.0420776325091805,
         2.013561110197388,
         1.9606114627234439,
         1.9686452345769656,
         1.941905724327478,
         2.201608014261809,
         2.0232965813304893,
         2.041012300810344,
         2.0174028815606717,
         2.1746701648887035,
         2.07532107840886,
         1.9351517609793194,
         1.8632913268211926,
         1.9378645372479089,
         2.1023562185659217,
         1.9679876519198156,
         1.9117985190891043,
         2.169790876796018,
         1.8930723696731906,
         1.9266317260230383,
         1.880746888153981,
         1.9371714122717847,
         1.9108569284838064,
         2.210806647211102,
         2.000691900580117,
         2.2422220594527036,
         1.9108452563863199,
         2.0671238627951736,
         1.9295341091791465,
         1.9341992419322704,
         1.8607726745808228,
         1.8919022372712453,
         1.886638041546071,
         2.0242018308103544,
         2.0476840238520255,
         2.0480684666830973,
         2.0270380431085604,
         1.8476832873910745,
         1.8861990055271627,
         1.940072223545842,
         2.022829366567803,
         2.1991143484056415,
         1.662772090542304,
         1.9445511863514178,
         1.9654408415647504,
         2.0232668017466633,
         2.1127016517567974,
         1.9184254041542976,
         1.8682610998018727,
         1.9384991649338381,
         1.8194969070251152,
         2.076648571189358,
         1.9455688199304426,
         2.0009163849953837,
         2.2119022081997413,
         1.9848054497299912,
         2.1390984146080267,
         2.022992740889086,
         2.0332786318985594,
         2.1553532733440286
        ]
       ],
       "encoder": "json",
       "name": "ABC_GAN_4 Metrics",
       "version": 1
      }
     },
     "metadata": {
      "scrapbook": {
       "data": true,
       "display": false,
       "name": "ABC_GAN_4 Metrics"
      }
     },
     "output_type": "display_data"
    },
    {
     "name": "stdout",
     "output_type": "stream",
     "text": [
      "MAE\n",
      "0.3543036776231602\n"
     ]
    }
   ],
   "source": [
    "ABC_GAN4_metrics=ABC_train_test2.test_generator(gen4,test_data,prior_model,variance,bias,\"3\",device)\n",
    "sb.glue(\"ABC_GAN_4 Metrics\",ABC_GAN4_metrics)\n",
    "\n",
    "print(\"MAE\")\n",
    "print(mean(ABC_GAN4_metrics[1]))"
   ]
  },
  {
   "cell_type": "code",
   "execution_count": 26,
   "id": "3120a2cf",
   "metadata": {
    "execution": {
     "iopub.execute_input": "2022-07-22T12:40:08.764030Z",
     "iopub.status.busy": "2022-07-22T12:40:08.763334Z",
     "iopub.status.idle": "2022-07-22T12:40:10.078355Z",
     "shell.execute_reply": "2022-07-22T12:40:10.076544Z"
    },
    "id": "c8e46b48",
    "papermill": {
     "duration": 1.354936,
     "end_time": "2022-07-22T12:40:10.081757",
     "exception": false,
     "start_time": "2022-07-22T12:40:08.726821",
     "status": "completed"
    },
    "tags": []
   },
   "outputs": [
    {
     "data": {
      "image/png": "[encoded data removed]",
      "text/plain": [
       "<Figure size 432x288 with 1 Axes>"
      ]
     },
     "metadata": {
      "needs_background": "light"
     },
     "output_type": "display_data"
    },
    {
     "data": {
      "image/png": "[encoded data removed]",
      "text/plain": [
       "<Figure size 432x288 with 1 Axes>"
      ]
     },
     "metadata": {
      "needs_background": "light"
     },
     "output_type": "display_data"
    },
    {
     "data": {
      "image/png": "[encoded data removed]",
      "text/plain": [
       "<Figure size 432x288 with 1 Axes>"
      ]
     },
     "metadata": {
      "needs_background": "light"
     },
     "output_type": "display_data"
    },
    {
     "data": {
      "image/png": "[encoded data removed]",
      "text/plain": [
       "<Figure size 432x288 with 1 Axes>"
      ]
     },
     "metadata": {
      "needs_background": "light"
     },
     "output_type": "display_data"
    }
   ],
   "source": [
    "sanityChecks.discProbVsError(train_data,disc4,device)\n",
    "sanityChecks.discProbVsError(test_data,disc4,device)"
   ]
  },
  {
   "cell_type": "markdown",
   "id": "a5bd74c3",
   "metadata": {
    "id": "a5bd74c3",
    "papermill": {
     "duration": 0.0349,
     "end_time": "2022-07-22T12:40:10.153611",
     "exception": false,
     "start_time": "2022-07-22T12:40:10.118711",
     "status": "completed"
    },
    "tags": []
   },
   "source": [
    "## Skip Connection Model Analysis - ABC-GAN "
   ]
  },
  {
   "cell_type": "markdown",
   "id": "5744a8bf",
   "metadata": {
    "id": "5744a8bf",
    "papermill": {
     "duration": 0.044475,
     "end_time": "2022-07-22T12:40:10.239541",
     "exception": false,
     "start_time": "2022-07-22T12:40:10.195066",
     "status": "completed"
    },
    "tags": []
   },
   "source": [
    "### Weight Analysis \n",
    "\n",
    "Study the weights of the skip connection layer\n",
    "\n",
    "Equation of the skip connection is \n",
    "\n",
    "$output = y_{gan} * w + y_{abc} * (1-w)$"
   ]
  },
  {
   "cell_type": "code",
   "execution_count": 27,
   "id": "52c31dea",
   "metadata": {
    "execution": {
     "iopub.execute_input": "2022-07-22T12:40:10.320439Z",
     "iopub.status.busy": "2022-07-22T12:40:10.319505Z",
     "iopub.status.idle": "2022-07-22T12:40:10.324734Z",
     "shell.execute_reply": "2022-07-22T12:40:10.323719Z"
    },
    "id": "52c31dea",
    "papermill": {
     "duration": 0.057176,
     "end_time": "2022-07-22T12:40:10.331824",
     "exception": false,
     "start_time": "2022-07-22T12:40:10.274648",
     "status": "completed"
    },
    "tags": []
   },
   "outputs": [],
   "source": [
    "# print(\"Weight of the node at skip connection\")\n",
    "# for name,param in gen3.named_parameters():\n",
    "#     if(name == \"skipNode.weight\"):\n",
    "#         print(param)\n",
    "#         sb.glue(\"Skip Connection Weight\",param.item())"
   ]
  },
  {
   "cell_type": "markdown",
   "id": "a753e2b2",
   "metadata": {
    "id": "a5bd74c3",
    "papermill": {
     "duration": 0.036738,
     "end_time": "2022-07-22T12:40:10.411067",
     "exception": false,
     "start_time": "2022-07-22T12:40:10.374329",
     "status": "completed"
    },
    "tags": []
   },
   "source": [
    "## skipGAN Model Analysis (TabNet Generator) "
   ]
  },
  {
   "cell_type": "markdown",
   "id": "be4e4c58",
   "metadata": {
    "id": "5744a8bf",
    "papermill": {
     "duration": 0.038589,
     "end_time": "2022-07-22T12:40:10.491721",
     "exception": false,
     "start_time": "2022-07-22T12:40:10.453132",
     "status": "completed"
    },
    "tags": []
   },
   "source": [
    "### Weight Analysis \n",
    "\n",
    "Study the weights of the skip connection layer\n",
    "\n",
    "Equation of the skip connection is \n",
    "\n",
    "$output = y_{gan} * w + y_{abc} * (1-w)$"
   ]
  },
  {
   "cell_type": "code",
   "execution_count": 28,
   "id": "3e1bc0ab",
   "metadata": {
    "execution": {
     "iopub.execute_input": "2022-07-22T12:40:10.577976Z",
     "iopub.status.busy": "2022-07-22T12:40:10.577089Z",
     "iopub.status.idle": "2022-07-22T12:40:10.592926Z",
     "shell.execute_reply": "2022-07-22T12:40:10.591688Z"
    },
    "id": "52c31dea",
    "papermill": {
     "duration": 0.076085,
     "end_time": "2022-07-22T12:40:10.602039",
     "exception": false,
     "start_time": "2022-07-22T12:40:10.525954",
     "status": "completed"
    },
    "tags": []
   },
   "outputs": [
    {
     "name": "stdout",
     "output_type": "stream",
     "text": [
      "Weight of the node at skip connection\n",
      "Parameter containing:\n",
      "tensor([[0.2425]], requires_grad=True)\n"
     ]
    },
    {
     "data": {
      "application/scrapbook.scrap.json+json": {
       "data": 0.24250821769237518,
       "encoder": "json",
       "name": "Skip Connection Weight",
       "version": 1
      }
     },
     "metadata": {
      "scrapbook": {
       "data": true,
       "display": false,
       "name": "Skip Connection Weight"
      }
     },
     "output_type": "display_data"
    }
   ],
   "source": [
    "print(\"Weight of the node at skip connection\")\n",
    "for name,param in gen4.named_parameters():\n",
    "    if(name == \"skipNode.weight\"):\n",
    "        print(param)\n",
    "        sb.glue(\"Skip Connection Weight\",param.item())"
   ]
  }
 ],
 "metadata": {
  "colab": {
   "collapsed_sections": [],
   "name": "ABC_GAN_Model-Catboost_Pre-gen.ipynb",
   "provenance": []
  },
  "interpreter": {
   "hash": "31f2aee4e71d21fbe5cf8b01ff0e069b9275f58929596ceb00d14d90e3e16cd6"
  },
  "kernelspec": {
   "display_name": "Python 3 (ipykernel)",
   "language": "python",
   "name": "python3"
  },
  "language_info": {
   "codemirror_mode": {
    "name": "ipython",
    "version": 3
   },
   "file_extension": ".py",
   "mimetype": "text/x-python",
   "name": "python",
   "nbconvert_exporter": "python",
   "pygments_lexer": "ipython3",
   "version": "3.8.13"
  },
  "papermill": {
   "default_parameters": {},
   "duration": 395.359831,
   "end_time": "2022-07-22T12:40:11.515122",
   "environment_variables": {},
   "exception": null,
   "input_path": "ABC_GAN-TabNet.ipynb",
   "output_path": "./ABC_GAN_TabNet/ABC-GAN_output_3_10.ipynb",
   "parameters": {
    "bias": 0,
    "variance": 0.1
   },
   "start_time": "2022-07-22T12:33:36.155291",
   "version": "2.3.3"
  }
 },
 "nbformat": 4,
 "nbformat_minor": 5
}