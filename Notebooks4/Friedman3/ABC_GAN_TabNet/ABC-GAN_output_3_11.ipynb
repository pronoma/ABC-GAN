{
 "cells": [
  {
   "cell_type": "markdown",
   "id": "622780e6",
   "metadata": {
    "id": "622780e6",
    "papermill": {
     "duration": 0.01478,
     "end_time": "2022-07-22T12:40:18.695997",
     "exception": false,
     "start_time": "2022-07-22T12:40:18.681217",
     "status": "completed"
    },
    "tags": []
   },
   "source": [
    "## Import Libraries "
   ]
  },
  {
   "cell_type": "code",
   "execution_count": 1,
   "id": "a62397e3",
   "metadata": {
    "execution": {
     "iopub.execute_input": "2022-07-22T12:40:18.721245Z",
     "iopub.status.busy": "2022-07-22T12:40:18.720400Z",
     "iopub.status.idle": "2022-07-22T12:40:18.738360Z",
     "shell.execute_reply": "2022-07-22T12:40:18.736897Z"
    },
    "id": "a62397e3",
    "papermill": {
     "duration": 0.040057,
     "end_time": "2022-07-22T12:40:18.744550",
     "exception": false,
     "start_time": "2022-07-22T12:40:18.704493",
     "status": "completed"
    },
    "tags": []
   },
   "outputs": [],
   "source": [
    "import warnings\n",
    "import sys\n",
    "sys.path.insert(0, '../../src')\n",
    "warnings.filterwarnings('ignore')"
   ]
  },
  {
   "cell_type": "code",
   "execution_count": 2,
   "id": "d6a4e155",
   "metadata": {
    "execution": {
     "iopub.execute_input": "2022-07-22T12:40:18.770191Z",
     "iopub.status.busy": "2022-07-22T12:40:18.769818Z",
     "iopub.status.idle": "2022-07-22T12:40:26.307274Z",
     "shell.execute_reply": "2022-07-22T12:40:26.305184Z"
    },
    "id": "d6a4e155",
    "papermill": {
     "duration": 7.554705,
     "end_time": "2022-07-22T12:40:26.310423",
     "exception": false,
     "start_time": "2022-07-22T12:40:18.755718",
     "status": "completed"
    },
    "tags": []
   },
   "outputs": [],
   "source": [
    "import ABC_train_test2\n",
    "import friedman3Dataset\n",
    "import network\n",
    "import dataset\n",
    "import sanityChecks\n",
    "import torch \n",
    "import scrapbook as sb\n",
    "from statistics import mean \n",
    "import catboost as ctb \n",
    "from sklearn.model_selection import train_test_split\n",
    "from sklearn.metrics import mean_squared_error,mean_absolute_error\n",
    "import numpy as np\n",
    "from pytorch_tabnet.tab_model import TabNetRegressor"
   ]
  },
  {
   "cell_type": "markdown",
   "id": "2fa5b0f7",
   "metadata": {
    "id": "2fa5b0f7",
    "papermill": {
     "duration": 0.00758,
     "end_time": "2022-07-22T12:40:26.325819",
     "exception": false,
     "start_time": "2022-07-22T12:40:26.318239",
     "status": "completed"
    },
    "tags": []
   },
   "source": [
    "## Parameters "
   ]
  },
  {
   "cell_type": "code",
   "execution_count": 3,
   "id": "783186fb",
   "metadata": {
    "execution": {
     "iopub.execute_input": "2022-07-22T12:40:26.351076Z",
     "iopub.status.busy": "2022-07-22T12:40:26.350576Z",
     "iopub.status.idle": "2022-07-22T12:40:26.358544Z",
     "shell.execute_reply": "2022-07-22T12:40:26.355745Z"
    },
    "id": "783186fb",
    "papermill": {
     "duration": 0.026469,
     "end_time": "2022-07-22T12:40:26.361808",
     "exception": false,
     "start_time": "2022-07-22T12:40:26.335339",
     "status": "completed"
    },
    "tags": [
     "parameters"
    ]
   },
   "outputs": [],
   "source": [
    "variance = 1\n",
    "bias = 1 "
   ]
  },
  {
   "cell_type": "code",
   "execution_count": 4,
   "id": "c6ea1719",
   "metadata": {
    "execution": {
     "iopub.execute_input": "2022-07-22T12:40:26.380273Z",
     "iopub.status.busy": "2022-07-22T12:40:26.379624Z",
     "iopub.status.idle": "2022-07-22T12:40:26.386989Z",
     "shell.execute_reply": "2022-07-22T12:40:26.385536Z"
    },
    "papermill": {
     "duration": 0.021524,
     "end_time": "2022-07-22T12:40:26.391402",
     "exception": false,
     "start_time": "2022-07-22T12:40:26.369878",
     "status": "completed"
    },
    "tags": [
     "injected-parameters"
    ]
   },
   "outputs": [],
   "source": [
    "# Parameters\n",
    "variance = 0.01\n",
    "bias = 0\n"
   ]
  },
  {
   "cell_type": "markdown",
   "id": "391cdbfd",
   "metadata": {
    "id": "391cdbfd",
    "papermill": {
     "duration": 0.007621,
     "end_time": "2022-07-22T12:40:26.410982",
     "exception": false,
     "start_time": "2022-07-22T12:40:26.403361",
     "status": "completed"
    },
    "tags": []
   },
   "source": [
    "## Dataset \n"
   ]
  },
  {
   "cell_type": "code",
   "execution_count": 5,
   "id": "5b51f161",
   "metadata": {
    "execution": {
     "iopub.execute_input": "2022-07-22T12:40:26.429624Z",
     "iopub.status.busy": "2022-07-22T12:40:26.429168Z",
     "iopub.status.idle": "2022-07-22T12:40:26.436172Z",
     "shell.execute_reply": "2022-07-22T12:40:26.434348Z"
    },
    "id": "5b51f161",
    "papermill": {
     "duration": 0.019378,
     "end_time": "2022-07-22T12:40:26.438858",
     "exception": false,
     "start_time": "2022-07-22T12:40:26.419480",
     "status": "completed"
    },
    "tags": []
   },
   "outputs": [],
   "source": [
    "#Parameters \n",
    "n_features = 4\n",
    "n_samples= 100\n",
    "n_target = 1"
   ]
  },
  {
   "cell_type": "code",
   "execution_count": 6,
   "id": "5d6eced4",
   "metadata": {
    "execution": {
     "iopub.execute_input": "2022-07-22T12:40:26.464235Z",
     "iopub.status.busy": "2022-07-22T12:40:26.463536Z",
     "iopub.status.idle": "2022-07-22T12:40:26.482494Z",
     "shell.execute_reply": "2022-07-22T12:40:26.481537Z"
    },
    "id": "5d6eced4",
    "papermill": {
     "duration": 0.040288,
     "end_time": "2022-07-22T12:40:26.486361",
     "exception": false,
     "start_time": "2022-07-22T12:40:26.446073",
     "status": "completed"
    },
    "tags": []
   },
   "outputs": [
    {
     "name": "stdout",
     "output_type": "stream",
     "text": [
      "          X1           X2        X3        X4         Y\n",
      "0  58.945800   522.361895  0.946300  9.705571  1.419658\n",
      "1  61.611099  1384.124899  0.121968  6.013387  1.296778\n",
      "2  20.151334  1448.935850  0.909771  2.845131  1.505806\n",
      "3  58.392604  1151.167094  0.853768  3.104454  1.405894\n",
      "4  69.255052  1749.798097  0.440568  6.813264  1.468921\n"
     ]
    }
   ],
   "source": [
    "X,Y = friedman3Dataset.friedman3_data(n_samples)"
   ]
  },
  {
   "cell_type": "code",
   "execution_count": 7,
   "id": "fe007438",
   "metadata": {
    "execution": {
     "iopub.execute_input": "2022-07-22T12:40:26.504453Z",
     "iopub.status.busy": "2022-07-22T12:40:26.503994Z",
     "iopub.status.idle": "2022-07-22T12:40:26.511669Z",
     "shell.execute_reply": "2022-07-22T12:40:26.510314Z"
    },
    "id": "fe007438",
    "papermill": {
     "duration": 0.020691,
     "end_time": "2022-07-22T12:40:26.514870",
     "exception": false,
     "start_time": "2022-07-22T12:40:26.494179",
     "status": "completed"
    },
    "tags": []
   },
   "outputs": [],
   "source": [
    "#Train test split for dataset \n",
    "X_train,X_test,Y_train,Y_test = train_test_split(X,Y,test_size = 0.2)\n",
    "train_data = dataset.CustomDataset(X_train,Y_train)\n",
    "test_data = dataset.CustomDataset(X_test,Y_test)\n"
   ]
  },
  {
   "cell_type": "markdown",
   "id": "a9a1af34",
   "metadata": {
    "id": "a9a1af34",
    "papermill": {
     "duration": 0.009554,
     "end_time": "2022-07-22T12:40:26.532507",
     "exception": false,
     "start_time": "2022-07-22T12:40:26.522953",
     "status": "completed"
    },
    "tags": []
   },
   "source": [
    "## Training Parameters "
   ]
  },
  {
   "cell_type": "code",
   "execution_count": 8,
   "id": "952b7fc8",
   "metadata": {
    "execution": {
     "iopub.execute_input": "2022-07-22T12:40:26.550780Z",
     "iopub.status.busy": "2022-07-22T12:40:26.550412Z",
     "iopub.status.idle": "2022-07-22T12:40:26.556476Z",
     "shell.execute_reply": "2022-07-22T12:40:26.554586Z"
    },
    "id": "952b7fc8",
    "papermill": {
     "duration": 0.020231,
     "end_time": "2022-07-22T12:40:26.561525",
     "exception": false,
     "start_time": "2022-07-22T12:40:26.541294",
     "status": "completed"
    },
    "tags": []
   },
   "outputs": [],
   "source": [
    "batch_size = 32\n",
    "n_epochs = 1000\n",
    "#Select the device \n",
    "device = torch.device('cuda' if torch.cuda.is_available() else 'cpu')"
   ]
  },
  {
   "cell_type": "markdown",
   "id": "a95e1600",
   "metadata": {
    "id": "a95e1600",
    "papermill": {
     "duration": 0.007872,
     "end_time": "2022-07-22T12:40:26.577618",
     "exception": false,
     "start_time": "2022-07-22T12:40:26.569746",
     "status": "completed"
    },
    "tags": []
   },
   "source": [
    "# ABC Pre-generator Model \n",
    "\n",
    "1. The catboost model is used as a pre-generator model for the ABC-GAN. \n",
    "2. The model is first trained on the entire dataset \n",
    "3. It generats X,Y pairs and we add some Gaussian noise with mean 0 and variance 1 to it which is then feed as input to the generator.\n"
   ]
  },
  {
   "cell_type": "code",
   "execution_count": 9,
   "id": "ac011ebf",
   "metadata": {
    "execution": {
     "iopub.execute_input": "2022-07-22T12:40:26.597528Z",
     "iopub.status.busy": "2022-07-22T12:40:26.596768Z",
     "iopub.status.idle": "2022-07-22T12:40:45.757848Z",
     "shell.execute_reply": "2022-07-22T12:40:45.756586Z"
    },
    "papermill": {
     "duration": 19.174577,
     "end_time": "2022-07-22T12:40:45.760497",
     "exception": false,
     "start_time": "2022-07-22T12:40:26.585920",
     "status": "completed"
    },
    "tags": []
   },
   "outputs": [
    {
     "name": "stdout",
     "output_type": "stream",
     "text": [
      "Device used : cpu\n"
     ]
    },
    {
     "name": "stdout",
     "output_type": "stream",
     "text": [
      "epoch 0  | loss: 1.24844 | train_mse: 8.29467 | train_mae: 2.08316 |  0:00:00s\n",
      "epoch 1  | loss: 1.23278 | train_mse: 5.67624 | train_mae: 1.75229 |  0:00:00s\n",
      "epoch 2  | loss: 1.15594 | train_mse: 4.07112 | train_mae: 1.4628  |  0:00:00s\n"
     ]
    },
    {
     "name": "stdout",
     "output_type": "stream",
     "text": [
      "epoch 3  | loss: 1.04861 | train_mse: 3.18524 | train_mae: 1.32992 |  0:00:00s\n",
      "epoch 4  | loss: 0.82689 | train_mse: 2.67262 | train_mae: 1.25703 |  0:00:00s\n"
     ]
    },
    {
     "name": "stdout",
     "output_type": "stream",
     "text": [
      "epoch 5  | loss: 0.92644 | train_mse: 2.19582 | train_mae: 1.16863 |  0:00:00s\n",
      "epoch 6  | loss: 0.96863 | train_mse: 1.86022 | train_mae: 1.07756 |  0:00:00s\n",
      "epoch 7  | loss: 0.86859 | train_mse: 1.60539 | train_mae: 1.00708 |  0:00:00s\n"
     ]
    },
    {
     "name": "stdout",
     "output_type": "stream",
     "text": [
      "epoch 8  | loss: 0.74735 | train_mse: 1.41998 | train_mae: 0.94457 |  0:00:01s\n",
      "epoch 9  | loss: 0.75363 | train_mse: 1.28905 | train_mae: 0.89633 |  0:00:01s\n"
     ]
    },
    {
     "name": "stdout",
     "output_type": "stream",
     "text": [
      "epoch 10 | loss: 0.88159 | train_mse: 1.25761 | train_mae: 0.87373 |  0:00:01s\n",
      "epoch 11 | loss: 0.67988 | train_mse: 1.27353 | train_mae: 0.84802 |  0:00:01s\n"
     ]
    },
    {
     "name": "stdout",
     "output_type": "stream",
     "text": [
      "epoch 12 | loss: 0.74301 | train_mse: 1.22135 | train_mae: 0.81637 |  0:00:01s\n",
      "epoch 13 | loss: 0.6973  | train_mse: 1.12158 | train_mae: 0.78301 |  0:00:01s\n"
     ]
    },
    {
     "name": "stdout",
     "output_type": "stream",
     "text": [
      "epoch 14 | loss: 0.65143 | train_mse: 1.04417 | train_mae: 0.75505 |  0:00:01s\n",
      "epoch 15 | loss: 0.65176 | train_mse: 0.98747 | train_mae: 0.73067 |  0:00:02s\n"
     ]
    },
    {
     "name": "stdout",
     "output_type": "stream",
     "text": [
      "epoch 16 | loss: 0.64966 | train_mse: 0.9447  | train_mae: 0.71111 |  0:00:02s\n",
      "epoch 17 | loss: 0.47715 | train_mse: 0.90357 | train_mae: 0.69687 |  0:00:02s\n"
     ]
    },
    {
     "name": "stdout",
     "output_type": "stream",
     "text": [
      "epoch 18 | loss: 0.52733 | train_mse: 0.85807 | train_mae: 0.68143 |  0:00:02s\n",
      "epoch 19 | loss: 0.56433 | train_mse: 0.80222 | train_mae: 0.65812 |  0:00:02s\n"
     ]
    },
    {
     "name": "stdout",
     "output_type": "stream",
     "text": [
      "epoch 20 | loss: 0.63442 | train_mse: 0.761   | train_mae: 0.64083 |  0:00:02s\n",
      "epoch 21 | loss: 0.42883 | train_mse: 0.73587 | train_mae: 0.62984 |  0:00:02s\n"
     ]
    },
    {
     "name": "stdout",
     "output_type": "stream",
     "text": [
      "epoch 22 | loss: 0.62605 | train_mse: 0.71095 | train_mae: 0.61329 |  0:00:02s\n",
      "epoch 23 | loss: 0.62677 | train_mse: 0.71942 | train_mae: 0.60213 |  0:00:03s\n"
     ]
    },
    {
     "name": "stdout",
     "output_type": "stream",
     "text": [
      "epoch 24 | loss: 0.75044 | train_mse: 0.71299 | train_mae: 0.59167 |  0:00:03s\n",
      "epoch 25 | loss: 0.44057 | train_mse: 0.57073 | train_mae: 0.56392 |  0:00:03s\n"
     ]
    },
    {
     "name": "stdout",
     "output_type": "stream",
     "text": [
      "epoch 26 | loss: 0.49561 | train_mse: 0.54062 | train_mae: 0.55389 |  0:00:03s\n",
      "epoch 27 | loss: 0.51118 | train_mse: 0.52318 | train_mae: 0.54535 |  0:00:03s\n"
     ]
    },
    {
     "name": "stdout",
     "output_type": "stream",
     "text": [
      "epoch 28 | loss: 0.47476 | train_mse: 0.51123 | train_mae: 0.53861 |  0:00:03s\n",
      "epoch 29 | loss: 0.46663 | train_mse: 0.4973  | train_mae: 0.53315 |  0:00:03s\n"
     ]
    },
    {
     "name": "stdout",
     "output_type": "stream",
     "text": [
      "epoch 30 | loss: 0.40887 | train_mse: 0.48406 | train_mae: 0.52879 |  0:00:03s\n",
      "epoch 31 | loss: 0.53336 | train_mse: 0.48381 | train_mae: 0.5237  |  0:00:04s\n"
     ]
    },
    {
     "name": "stdout",
     "output_type": "stream",
     "text": [
      "epoch 32 | loss: 0.51234 | train_mse: 0.50309 | train_mae: 0.5197  |  0:00:04s\n",
      "epoch 33 | loss: 0.62478 | train_mse: 0.50035 | train_mae: 0.51845 |  0:00:04s\n"
     ]
    },
    {
     "name": "stdout",
     "output_type": "stream",
     "text": [
      "epoch 34 | loss: 0.58183 | train_mse: 0.45161 | train_mae: 0.50981 |  0:00:04s\n",
      "epoch 35 | loss: 0.47734 | train_mse: 0.43681 | train_mae: 0.50554 |  0:00:04s\n"
     ]
    },
    {
     "name": "stdout",
     "output_type": "stream",
     "text": [
      "epoch 36 | loss: 0.4682  | train_mse: 0.42808 | train_mae: 0.49855 |  0:00:04s\n"
     ]
    },
    {
     "name": "stdout",
     "output_type": "stream",
     "text": [
      "epoch 37 | loss: 0.50501 | train_mse: 0.44126 | train_mae: 0.50116 |  0:00:05s\n",
      "epoch 38 | loss: 0.62986 | train_mse: 0.4685  | train_mae: 0.50374 |  0:00:05s\n"
     ]
    },
    {
     "name": "stdout",
     "output_type": "stream",
     "text": [
      "epoch 39 | loss: 0.40786 | train_mse: 0.48981 | train_mae: 0.50559 |  0:00:05s\n",
      "epoch 40 | loss: 0.46167 | train_mse: 0.48145 | train_mae: 0.50307 |  0:00:05s\n",
      "epoch 41 | loss: 0.37801 | train_mse: 0.47237 | train_mae: 0.50065 |  0:00:05s\n"
     ]
    },
    {
     "name": "stdout",
     "output_type": "stream",
     "text": [
      "epoch 42 | loss: 0.40607 | train_mse: 0.45951 | train_mae: 0.49241 |  0:00:05s\n",
      "epoch 43 | loss: 0.43718 | train_mse: 0.45198 | train_mae: 0.48678 |  0:00:05s\n"
     ]
    },
    {
     "name": "stdout",
     "output_type": "stream",
     "text": [
      "epoch 44 | loss: 0.36901 | train_mse: 0.43472 | train_mae: 0.47578 |  0:00:05s\n",
      "epoch 45 | loss: 0.34089 | train_mse: 0.43207 | train_mae: 0.47041 |  0:00:05s\n",
      "epoch 46 | loss: 0.47305 | train_mse: 0.42875 | train_mae: 0.46233 |  0:00:05s\n"
     ]
    },
    {
     "name": "stdout",
     "output_type": "stream",
     "text": [
      "epoch 47 | loss: 0.37566 | train_mse: 0.42292 | train_mae: 0.45853 |  0:00:06s\n",
      "epoch 48 | loss: 0.46824 | train_mse: 0.40838 | train_mae: 0.45235 |  0:00:06s\n",
      "epoch 49 | loss: 0.39249 | train_mse: 0.39203 | train_mae: 0.44335 |  0:00:06s\n"
     ]
    },
    {
     "name": "stdout",
     "output_type": "stream",
     "text": [
      "epoch 50 | loss: 0.39406 | train_mse: 0.38637 | train_mae: 0.43858 |  0:00:06s\n",
      "epoch 51 | loss: 0.32347 | train_mse: 0.3796  | train_mae: 0.4352  |  0:00:06s\n",
      "epoch 52 | loss: 0.54511 | train_mse: 0.37474 | train_mae: 0.43321 |  0:00:06s\n"
     ]
    },
    {
     "name": "stdout",
     "output_type": "stream",
     "text": [
      "epoch 53 | loss: 0.44922 | train_mse: 0.36407 | train_mae: 0.4342  |  0:00:06s\n",
      "epoch 54 | loss: 0.38788 | train_mse: 0.35344 | train_mae: 0.43092 |  0:00:06s\n"
     ]
    },
    {
     "name": "stdout",
     "output_type": "stream",
     "text": [
      "epoch 55 | loss: 0.3166  | train_mse: 0.32871 | train_mae: 0.42449 |  0:00:06s\n",
      "epoch 56 | loss: 0.38836 | train_mse: 0.2757  | train_mae: 0.40274 |  0:00:06s\n",
      "epoch 57 | loss: 0.37845 | train_mse: 0.2746  | train_mae: 0.40194 |  0:00:06s\n"
     ]
    },
    {
     "name": "stdout",
     "output_type": "stream",
     "text": [
      "epoch 58 | loss: 0.52576 | train_mse: 0.25603 | train_mae: 0.39087 |  0:00:07s\n",
      "epoch 59 | loss: 0.35895 | train_mse: 0.24825 | train_mae: 0.3836  |  0:00:07s\n",
      "epoch 60 | loss: 0.32314 | train_mse: 0.24563 | train_mae: 0.37999 |  0:00:07s\n"
     ]
    },
    {
     "name": "stdout",
     "output_type": "stream",
     "text": [
      "epoch 61 | loss: 0.28627 | train_mse: 0.24726 | train_mae: 0.37736 |  0:00:07s\n",
      "epoch 62 | loss: 0.44082 | train_mse: 0.24917 | train_mae: 0.37673 |  0:00:07s\n",
      "epoch 63 | loss: 0.44807 | train_mse: 0.25226 | train_mae: 0.377   |  0:00:07s\n"
     ]
    },
    {
     "name": "stdout",
     "output_type": "stream",
     "text": [
      "epoch 64 | loss: 0.38475 | train_mse: 0.2506  | train_mae: 0.37546 |  0:00:07s\n",
      "epoch 65 | loss: 0.37455 | train_mse: 0.24677 | train_mae: 0.37149 |  0:00:07s\n"
     ]
    },
    {
     "name": "stdout",
     "output_type": "stream",
     "text": [
      "epoch 66 | loss: 0.37723 | train_mse: 0.24369 | train_mae: 0.36806 |  0:00:07s\n",
      "epoch 67 | loss: 0.32557 | train_mse: 0.23821 | train_mae: 0.36473 |  0:00:07s\n",
      "epoch 68 | loss: 0.33032 | train_mse: 0.23891 | train_mae: 0.36388 |  0:00:07s\n"
     ]
    },
    {
     "name": "stdout",
     "output_type": "stream",
     "text": [
      "epoch 69 | loss: 0.33756 | train_mse: 0.23797 | train_mae: 0.36564 |  0:00:08s\n",
      "epoch 70 | loss: 0.42082 | train_mse: 0.24063 | train_mae: 0.36908 |  0:00:08s\n",
      "epoch 71 | loss: 0.27996 | train_mse: 0.24213 | train_mae: 0.37035 |  0:00:08s\n"
     ]
    },
    {
     "name": "stdout",
     "output_type": "stream",
     "text": [
      "epoch 72 | loss: 0.39668 | train_mse: 0.23718 | train_mae: 0.36644 |  0:00:08s\n",
      "epoch 73 | loss: 0.37501 | train_mse: 0.23368 | train_mae: 0.36379 |  0:00:08s\n",
      "epoch 74 | loss: 0.37432 | train_mse: 0.2318  | train_mae: 0.36311 |  0:00:08s\n"
     ]
    },
    {
     "name": "stdout",
     "output_type": "stream",
     "text": [
      "epoch 75 | loss: 0.35934 | train_mse: 0.22535 | train_mae: 0.35888 |  0:00:08s\n",
      "epoch 76 | loss: 0.32347 | train_mse: 0.21769 | train_mae: 0.35452 |  0:00:08s\n",
      "epoch 77 | loss: 0.3256  | train_mse: 0.21303 | train_mae: 0.34986 |  0:00:08s"
     ]
    },
    {
     "name": "stdout",
     "output_type": "stream",
     "text": [
      "\n",
      "epoch 78 | loss: 0.299   | train_mse: 0.20897 | train_mae: 0.34441 |  0:00:08s\n",
      "epoch 79 | loss: 0.37348 | train_mse: 0.20557 | train_mae: 0.33938 |  0:00:08s\n"
     ]
    },
    {
     "name": "stdout",
     "output_type": "stream",
     "text": [
      "epoch 80 | loss: 0.30812 | train_mse: 0.2034  | train_mae: 0.33682 |  0:00:09s\n",
      "epoch 81 | loss: 0.41667 | train_mse: 0.20013 | train_mae: 0.33357 |  0:00:09s\n",
      "epoch 82 | loss: 0.32094 | train_mse: 0.19722 | train_mae: 0.33105 |  0:00:09s\n"
     ]
    },
    {
     "name": "stdout",
     "output_type": "stream",
     "text": [
      "epoch 83 | loss: 0.33379 | train_mse: 0.19494 | train_mae: 0.33042 |  0:00:09s\n",
      "epoch 84 | loss: 0.24002 | train_mse: 0.19345 | train_mae: 0.32995 |  0:00:09s\n",
      "epoch 85 | loss: 0.38519 | train_mse: 0.19279 | train_mae: 0.3311  |  0:00:09s\n"
     ]
    },
    {
     "name": "stdout",
     "output_type": "stream",
     "text": [
      "epoch 86 | loss: 0.37795 | train_mse: 0.19296 | train_mae: 0.3345  |  0:00:09s\n",
      "epoch 87 | loss: 0.39186 | train_mse: 0.1954  | train_mae: 0.33652 |  0:00:09s\n",
      "epoch 88 | loss: 0.41709 | train_mse: 0.19779 | train_mae: 0.33795 |  0:00:09s\n"
     ]
    },
    {
     "name": "stdout",
     "output_type": "stream",
     "text": [
      "epoch 89 | loss: 0.30127 | train_mse: 0.19625 | train_mae: 0.33661 |  0:00:09s\n",
      "epoch 90 | loss: 0.39198 | train_mse: 0.19109 | train_mae: 0.33083 |  0:00:10s\n",
      "epoch 91 | loss: 0.28761 | train_mse: 0.18983 | train_mae: 0.32929 |  0:00:10s\n"
     ]
    },
    {
     "name": "stdout",
     "output_type": "stream",
     "text": [
      "epoch 92 | loss: 0.34555 | train_mse: 0.18838 | train_mae: 0.33058 |  0:00:10s\n",
      "epoch 93 | loss: 0.3642  | train_mse: 0.1894  | train_mae: 0.33151 |  0:00:10s\n",
      "epoch 94 | loss: 0.25546 | train_mse: 0.20103 | train_mae: 0.33977 |  0:00:10s\n"
     ]
    },
    {
     "name": "stdout",
     "output_type": "stream",
     "text": [
      "epoch 95 | loss: 0.26107 | train_mse: 0.21065 | train_mae: 0.34177 |  0:00:10s\n",
      "epoch 96 | loss: 0.29003 | train_mse: 0.19409 | train_mae: 0.33099 |  0:00:10s\n",
      "epoch 97 | loss: 0.27524 | train_mse: 0.18561 | train_mae: 0.32143 |  0:00:10s\n"
     ]
    },
    {
     "name": "stdout",
     "output_type": "stream",
     "text": [
      "epoch 98 | loss: 0.23006 | train_mse: 0.18238 | train_mae: 0.31839 |  0:00:10s\n",
      "epoch 99 | loss: 0.26797 | train_mse: 0.18016 | train_mae: 0.31789 |  0:00:10s\n"
     ]
    },
    {
     "name": "stdout",
     "output_type": "stream",
     "text": [
      "epoch 100| loss: 0.34305 | train_mse: 0.18071 | train_mae: 0.31803 |  0:00:11s\n",
      "epoch 101| loss: 0.28134 | train_mse: 0.18034 | train_mae: 0.31743 |  0:00:11s\n",
      "epoch 102| loss: 0.21073 | train_mse: 0.18054 | train_mae: 0.31813 |  0:00:11s\n"
     ]
    },
    {
     "name": "stdout",
     "output_type": "stream",
     "text": [
      "epoch 103| loss: 0.26412 | train_mse: 0.17758 | train_mae: 0.31734 |  0:00:11s\n",
      "epoch 104| loss: 0.25129 | train_mse: 0.17274 | train_mae: 0.31543 |  0:00:11s\n",
      "epoch 105| loss: 0.5036  | train_mse: 0.1731  | train_mae: 0.315   |  0:00:11s\n"
     ]
    },
    {
     "name": "stdout",
     "output_type": "stream",
     "text": [
      "epoch 106| loss: 0.46247 | train_mse: 0.17701 | train_mae: 0.31787 |  0:00:11s\n",
      "epoch 107| loss: 0.19065 | train_mse: 0.1733  | train_mae: 0.31312 |  0:00:11s\n",
      "epoch 108| loss: 0.27156 | train_mse: 0.17166 | train_mae: 0.31327 |  0:00:11s\n"
     ]
    },
    {
     "name": "stdout",
     "output_type": "stream",
     "text": [
      "epoch 109| loss: 0.26878 | train_mse: 0.1696  | train_mae: 0.31285 |  0:00:11s\n",
      "epoch 110| loss: 0.28534 | train_mse: 0.16743 | train_mae: 0.30955 |  0:00:11s\n",
      "epoch 111| loss: 0.30946 | train_mse: 0.16392 | train_mae: 0.3052  |  0:00:12s\n"
     ]
    },
    {
     "name": "stdout",
     "output_type": "stream",
     "text": [
      "epoch 112| loss: 0.24666 | train_mse: 0.16479 | train_mae: 0.30476 |  0:00:12s\n",
      "epoch 113| loss: 0.24012 | train_mse: 0.16525 | train_mae: 0.30437 |  0:00:12s\n",
      "epoch 114| loss: 0.27237 | train_mse: 0.16381 | train_mae: 0.29993 |  0:00:12s\n"
     ]
    },
    {
     "name": "stdout",
     "output_type": "stream",
     "text": [
      "epoch 115| loss: 0.22817 | train_mse: 0.15875 | train_mae: 0.29254 |  0:00:12s\n",
      "epoch 116| loss: 0.30851 | train_mse: 0.15801 | train_mae: 0.29245 |  0:00:12s\n",
      "epoch 117| loss: 0.25335 | train_mse: 0.15551 | train_mae: 0.29062 |  0:00:12s\n"
     ]
    },
    {
     "name": "stdout",
     "output_type": "stream",
     "text": [
      "epoch 118| loss: 0.27514 | train_mse: 0.15376 | train_mae: 0.28879 |  0:00:12s\n",
      "epoch 119| loss: 0.20798 | train_mse: 0.15123 | train_mae: 0.28656 |  0:00:12s\n",
      "epoch 120| loss: 0.4578  | train_mse: 0.14934 | train_mae: 0.28428 |  0:00:12s\n"
     ]
    },
    {
     "name": "stdout",
     "output_type": "stream",
     "text": [
      "epoch 121| loss: 0.19105 | train_mse: 0.14939 | train_mae: 0.28486 |  0:00:12s\n",
      "epoch 122| loss: 0.21812 | train_mse: 0.14615 | train_mae: 0.28307 |  0:00:13s\n",
      "epoch 123| loss: 0.33244 | train_mse: 0.14576 | train_mae: 0.28415 |  0:00:13s\n"
     ]
    },
    {
     "name": "stdout",
     "output_type": "stream",
     "text": [
      "epoch 124| loss: 0.29685 | train_mse: 0.14798 | train_mae: 0.28679 |  0:00:13s\n",
      "epoch 125| loss: 0.21494 | train_mse: 0.15139 | train_mae: 0.29082 |  0:00:13s\n",
      "epoch 126| loss: 0.51433 | train_mse: 0.15217 | train_mae: 0.29249 |  0:00:13s\n"
     ]
    },
    {
     "name": "stdout",
     "output_type": "stream",
     "text": [
      "epoch 127| loss: 0.22425 | train_mse: 0.15273 | train_mae: 0.2929  |  0:00:13s\n",
      "epoch 128| loss: 0.35841 | train_mse: 0.15271 | train_mae: 0.29342 |  0:00:13s\n",
      "epoch 129| loss: 0.22256 | train_mse: 0.15149 | train_mae: 0.29259 |  0:00:13s\n"
     ]
    },
    {
     "name": "stdout",
     "output_type": "stream",
     "text": [
      "epoch 130| loss: 0.31037 | train_mse: 0.14761 | train_mae: 0.28575 |  0:00:13s\n",
      "epoch 131| loss: 0.1698  | train_mse: 0.14061 | train_mae: 0.27578 |  0:00:13s\n",
      "epoch 132| loss: 0.16517 | train_mse: 0.13558 | train_mae: 0.26905 |  0:00:13s\n"
     ]
    },
    {
     "name": "stdout",
     "output_type": "stream",
     "text": [
      "epoch 133| loss: 0.16433 | train_mse: 0.13266 | train_mae: 0.2678  |  0:00:13s\n",
      "epoch 134| loss: 0.24288 | train_mse: 0.12814 | train_mae: 0.26497 |  0:00:14s\n",
      "epoch 135| loss: 0.32026 | train_mse: 0.12389 | train_mae: 0.26282 |  0:00:14s\n"
     ]
    },
    {
     "name": "stdout",
     "output_type": "stream",
     "text": [
      "epoch 136| loss: 0.2077  | train_mse: 0.1198  | train_mae: 0.25577 |  0:00:14s\n",
      "epoch 137| loss: 0.29759 | train_mse: 0.11841 | train_mae: 0.25445 |  0:00:14s\n",
      "epoch 138| loss: 0.15636 | train_mse: 0.11567 | train_mae: 0.2524  |  0:00:14s\n"
     ]
    },
    {
     "name": "stdout",
     "output_type": "stream",
     "text": [
      "epoch 139| loss: 0.21531 | train_mse: 0.11359 | train_mae: 0.25013 |  0:00:14s\n",
      "epoch 140| loss: 0.2893  | train_mse: 0.1142  | train_mae: 0.24755 |  0:00:14s\n",
      "epoch 141| loss: 0.33862 | train_mse: 0.11243 | train_mae: 0.24711 |  0:00:14s\n"
     ]
    },
    {
     "name": "stdout",
     "output_type": "stream",
     "text": [
      "epoch 142| loss: 0.16054 | train_mse: 0.11513 | train_mae: 0.25303 |  0:00:14s\n",
      "epoch 143| loss: 0.21314 | train_mse: 0.11615 | train_mae: 0.25538 |  0:00:14s\n",
      "epoch 144| loss: 0.17975 | train_mse: 0.11434 | train_mae: 0.25465 |  0:00:14s\n"
     ]
    },
    {
     "name": "stdout",
     "output_type": "stream",
     "text": [
      "epoch 145| loss: 0.25819 | train_mse: 0.11245 | train_mae: 0.25351 |  0:00:15s\n",
      "epoch 146| loss: 0.18758 | train_mse: 0.11025 | train_mae: 0.24847 |  0:00:15s\n",
      "epoch 147| loss: 0.29012 | train_mse: 0.10995 | train_mae: 0.24852 |  0:00:15s\n"
     ]
    },
    {
     "name": "stdout",
     "output_type": "stream",
     "text": [
      "epoch 148| loss: 0.17356 | train_mse: 0.11294 | train_mae: 0.2552  |  0:00:15s\n",
      "epoch 149| loss: 0.25997 | train_mse: 0.1152  | train_mae: 0.26089 |  0:00:15s\n",
      "epoch 150| loss: 0.2228  | train_mse: 0.12011 | train_mae: 0.26669 |  0:00:15s\n"
     ]
    },
    {
     "name": "stdout",
     "output_type": "stream",
     "text": [
      "epoch 151| loss: 0.23308 | train_mse: 0.12178 | train_mae: 0.26879 |  0:00:15s\n",
      "epoch 152| loss: 0.19748 | train_mse: 0.12471 | train_mae: 0.27139 |  0:00:15s\n"
     ]
    },
    {
     "name": "stdout",
     "output_type": "stream",
     "text": [
      "epoch 153| loss: 0.30683 | train_mse: 0.12586 | train_mae: 0.27238 |  0:00:15s\n",
      "epoch 154| loss: 0.21039 | train_mse: 0.12611 | train_mae: 0.27322 |  0:00:15s\n",
      "epoch 155| loss: 0.22944 | train_mse: 0.12793 | train_mae: 0.27332 |  0:00:15s\n"
     ]
    },
    {
     "name": "stdout",
     "output_type": "stream",
     "text": [
      "epoch 156| loss: 0.20809 | train_mse: 0.13119 | train_mae: 0.28014 |  0:00:15s\n",
      "epoch 157| loss: 0.16361 | train_mse: 0.13341 | train_mae: 0.28149 |  0:00:16s\n",
      "epoch 158| loss: 0.14533 | train_mse: 0.12665 | train_mae: 0.27793 |  0:00:16s\n"
     ]
    },
    {
     "name": "stdout",
     "output_type": "stream",
     "text": [
      "epoch 159| loss: 0.15672 | train_mse: 0.12594 | train_mae: 0.27774 |  0:00:16s\n",
      "epoch 160| loss: 0.14782 | train_mse: 0.12637 | train_mae: 0.27773 |  0:00:16s\n",
      "epoch 161| loss: 0.3208  | train_mse: 0.12615 | train_mae: 0.2786  |  0:00:16s\n"
     ]
    },
    {
     "name": "stdout",
     "output_type": "stream",
     "text": [
      "epoch 162| loss: 0.13657 | train_mse: 0.12439 | train_mae: 0.27744 |  0:00:16s\n",
      "epoch 163| loss: 0.28638 | train_mse: 0.12316 | train_mae: 0.27481 |  0:00:16s\n"
     ]
    },
    {
     "name": "stdout",
     "output_type": "stream",
     "text": [
      "epoch 164| loss: 0.17302 | train_mse: 0.12166 | train_mae: 0.27351 |  0:00:16s\n",
      "epoch 165| loss: 0.2703  | train_mse: 0.11925 | train_mae: 0.27086 |  0:00:16s\n",
      "epoch 166| loss: 0.16237 | train_mse: 0.11836 | train_mae: 0.26991 |  0:00:16s\n"
     ]
    },
    {
     "name": "stdout",
     "output_type": "stream",
     "text": [
      "epoch 167| loss: 0.19177 | train_mse: 0.11807 | train_mae: 0.26851 |  0:00:16s\n",
      "epoch 168| loss: 0.23302 | train_mse: 0.11832 | train_mae: 0.26668 |  0:00:17s\n",
      "epoch 169| loss: 0.19191 | train_mse: 0.11865 | train_mae: 0.26664 |  0:00:17s\n"
     ]
    },
    {
     "name": "stdout",
     "output_type": "stream",
     "text": [
      "epoch 170| loss: 0.23597 | train_mse: 0.11971 | train_mae: 0.26867 |  0:00:17s\n",
      "epoch 171| loss: 0.1263  | train_mse: 0.11902 | train_mae: 0.26912 |  0:00:17s\n",
      "epoch 172| loss: 0.24316 | train_mse: 0.12164 | train_mae: 0.2723  |  0:00:17s\n"
     ]
    },
    {
     "name": "stdout",
     "output_type": "stream",
     "text": [
      "epoch 173| loss: 0.17418 | train_mse: 0.1219  | train_mae: 0.27255 |  0:00:17s\n",
      "epoch 174| loss: 0.23934 | train_mse: 0.12168 | train_mae: 0.2725  |  0:00:17s\n",
      "epoch 175| loss: 0.23268 | train_mse: 0.11965 | train_mae: 0.27038 |  0:00:17s\n"
     ]
    },
    {
     "name": "stdout",
     "output_type": "stream",
     "text": [
      "epoch 176| loss: 0.29203 | train_mse: 0.11788 | train_mae: 0.26752 |  0:00:17s\n",
      "epoch 177| loss: 0.26849 | train_mse: 0.1148  | train_mae: 0.26396 |  0:00:17s\n",
      "epoch 178| loss: 0.20033 | train_mse: 0.11199 | train_mae: 0.2598  |  0:00:17s\n"
     ]
    },
    {
     "name": "stdout",
     "output_type": "stream",
     "text": [
      "epoch 179| loss: 0.29254 | train_mse: 0.11226 | train_mae: 0.2599  |  0:00:17s\n",
      "epoch 180| loss: 0.21677 | train_mse: 0.11051 | train_mae: 0.25911 |  0:00:18s\n",
      "epoch 181| loss: 0.25212 | train_mse: 0.10989 | train_mae: 0.25867 |  0:00:18s\n"
     ]
    },
    {
     "name": "stdout",
     "output_type": "stream",
     "text": [
      "epoch 182| loss: 0.17428 | train_mse: 0.11123 | train_mae: 0.26101 |  0:00:18s\n",
      "epoch 183| loss: 0.28236 | train_mse: 0.11431 | train_mae: 0.26205 |  0:00:18s\n",
      "epoch 184| loss: 0.2731  | train_mse: 0.11382 | train_mae: 0.25757 |  0:00:18s\n"
     ]
    },
    {
     "name": "stdout",
     "output_type": "stream",
     "text": [
      "epoch 185| loss: 0.42266 | train_mse: 0.11477 | train_mae: 0.2567  |  0:00:18s\n",
      "epoch 186| loss: 0.21351 | train_mse: 0.11861 | train_mae: 0.25775 |  0:00:18s\n",
      "epoch 187| loss: 0.20079 | train_mse: 0.11954 | train_mae: 0.25765 |  0:00:18s\n"
     ]
    },
    {
     "name": "stdout",
     "output_type": "stream",
     "text": [
      "epoch 188| loss: 0.18984 | train_mse: 0.12051 | train_mae: 0.26034 |  0:00:18s\n",
      "epoch 189| loss: 0.15883 | train_mse: 0.12262 | train_mae: 0.26494 |  0:00:18s\n"
     ]
    },
    {
     "name": "stdout",
     "output_type": "stream",
     "text": [
      "epoch 190| loss: 0.20103 | train_mse: 0.11835 | train_mae: 0.26237 |  0:00:19s\n",
      "epoch 191| loss: 0.19971 | train_mse: 0.11908 | train_mae: 0.26352 |  0:00:19s\n",
      "\n",
      "Early stopping occurred at epoch 191 with best_epoch = 141 and best_train_mae = 0.24711\n",
      "Best weights from best epoch are automatically used!\n"
     ]
    }
   ],
   "source": [
    "#Train the Model\n",
    "\n",
    "Y_train = np.reshape(Y_train, (-1, 1))\n",
    "Y_test = np.reshape(Y_test, (-1, 1))\n",
    "\n",
    "prior_model = TabNetRegressor(optimizer_fn=torch.optim.Adam, optimizer_params=dict(lr = 0.001),\n",
    "          #scheduler_params={\"step_size\":10, ], \"gamma\":0.9},\n",
    "          #scheduler_fn=torch.optim.lr_scheduler.StepLR\n",
    "          )  #TabNetRegressor()\n",
    "\n",
    "prior_model.fit(X_train,Y_train,eval_set=[(X_train, Y_train)],\n",
    "            eval_name=['train'], \n",
    "            eval_metric=[ 'mse', 'mae'], \n",
    "            max_epochs = n_epochs, \n",
    "            batch_size = batch_size,\n",
    "            patience=50\n",
    "            )"
   ]
  },
  {
   "cell_type": "code",
   "execution_count": 10,
   "id": "af65dcda",
   "metadata": {
    "execution": {
     "iopub.execute_input": "2022-07-22T12:40:45.791080Z",
     "iopub.status.busy": "2022-07-22T12:40:45.790653Z",
     "iopub.status.idle": "2022-07-22T12:40:45.836965Z",
     "shell.execute_reply": "2022-07-22T12:40:45.834881Z"
    },
    "id": "af65dcda",
    "papermill": {
     "duration": 0.065586,
     "end_time": "2022-07-22T12:40:45.840868",
     "exception": false,
     "start_time": "2022-07-22T12:40:45.775282",
     "status": "completed"
    },
    "tags": []
   },
   "outputs": [
    {
     "data": {
      "application/scrapbook.scrap.json+json": {
       "data": 0.30959627849026355,
       "encoder": "json",
       "name": "Prior Model MSE",
       "version": 1
      }
     },
     "metadata": {
      "scrapbook": {
       "data": true,
       "display": false,
       "name": "Prior Model MSE"
      }
     },
     "output_type": "display_data"
    },
    {
     "data": {
      "application/scrapbook.scrap.json+json": {
       "data": 0.3095904497262224,
       "encoder": "json",
       "name": "ABC Pre-generator MSE",
       "version": 1
      }
     },
     "metadata": {
      "scrapbook": {
       "data": true,
       "display": false,
       "name": "ABC Pre-generator MSE"
      }
     },
     "output_type": "display_data"
    },
    {
     "data": {
      "application/scrapbook.scrap.json+json": {
       "data": 0.39263817518115857,
       "encoder": "json",
       "name": "Prior Model MAE",
       "version": 1
      }
     },
     "metadata": {
      "scrapbook": {
       "data": true,
       "display": false,
       "name": "Prior Model MAE"
      }
     },
     "output_type": "display_data"
    },
    {
     "name": "stdout",
     "output_type": "stream",
     "text": [
      "Prior Model MAE 0.39263817518115857\n"
     ]
    },
    {
     "data": {
      "application/scrapbook.scrap.json+json": {
       "data": 0.39320365024807,
       "encoder": "json",
       "name": "ABC Pre-generator MAE",
       "version": 1
      }
     },
     "metadata": {
      "scrapbook": {
       "data": true,
       "display": false,
       "name": "ABC Pre-generator MAE"
      }
     },
     "output_type": "display_data"
    },
    {
     "name": "stdout",
     "output_type": "stream",
     "text": [
      "ABC Pre-generator MAE 0.39320365024807\n"
     ]
    }
   ],
   "source": [
    "y_pred = prior_model.predict(X_test)\n",
    "y_abc = y_pred + np.random.normal(0,variance, y_pred.shape) + bias \n",
    "mse = mean_squared_error(y_pred,Y_test)\n",
    "sb.glue(\"Prior Model MSE\",mse)\n",
    "mse = mean_squared_error(y_abc,Y_test)\n",
    "sb.glue(\"ABC Pre-generator MSE\",mse)\n",
    "mae = mean_absolute_error(y_pred,Y_test)\n",
    "sb.glue(\"Prior Model MAE\",mae)\n",
    "print(\"Prior Model MAE\",mae)\n",
    "mae = mean_absolute_error(y_abc,Y_test)\n",
    "sb.glue(\"ABC Pre-generator MAE\",mae)\n",
    "print(\"ABC Pre-generator MAE\",mae)"
   ]
  },
  {
   "cell_type": "markdown",
   "id": "25609da2",
   "metadata": {
    "papermill": {
     "duration": 0.016231,
     "end_time": "2022-07-22T12:40:45.871358",
     "exception": false,
     "start_time": "2022-07-22T12:40:45.855127",
     "status": "completed"
    },
    "tags": []
   },
   "source": [
    "# mGAN Model"
   ]
  },
  {
   "cell_type": "code",
   "execution_count": 11,
   "id": "dfc3464d",
   "metadata": {
    "execution": {
     "iopub.execute_input": "2022-07-22T12:40:45.902640Z",
     "iopub.status.busy": "2022-07-22T12:40:45.902218Z",
     "iopub.status.idle": "2022-07-22T12:40:45.907191Z",
     "shell.execute_reply": "2022-07-22T12:40:45.906155Z"
    },
    "papermill": {
     "duration": 0.024919,
     "end_time": "2022-07-22T12:40:45.910233",
     "exception": false,
     "start_time": "2022-07-22T12:40:45.885314",
     "status": "completed"
    },
    "tags": []
   },
   "outputs": [],
   "source": [
    "# gen = network.Generator(n_features+1).to(device)\n",
    "# disc = network.Discriminator(n_features+1).to(device)\n",
    "\n",
    "# criterion = torch.nn.BCELoss()\n",
    "# gen_opt = torch.optim.Adam(gen.parameters(), lr=0.001, betas=(0.5, 0.999))\n",
    "# disc_opt = torch.optim.Adam(disc.parameters(), lr=0.001, betas=(0.5, 0.999))"
   ]
  },
  {
   "cell_type": "code",
   "execution_count": 12,
   "id": "b75fdd85",
   "metadata": {
    "execution": {
     "iopub.execute_input": "2022-07-22T12:40:45.943107Z",
     "iopub.status.busy": "2022-07-22T12:40:45.942614Z",
     "iopub.status.idle": "2022-07-22T12:40:45.948066Z",
     "shell.execute_reply": "2022-07-22T12:40:45.946185Z"
    },
    "papermill": {
     "duration": 0.024621,
     "end_time": "2022-07-22T12:40:45.950661",
     "exception": false,
     "start_time": "2022-07-22T12:40:45.926040",
     "status": "completed"
    },
    "tags": []
   },
   "outputs": [],
   "source": [
    "#Training the ABC_GAN \n",
    "# ABC_train_test2.training_GAN(disc,gen,disc_opt,gen_opt,train_data,batch_size,n_epochs,criterion,prior_model,variance,bias,device)"
   ]
  },
  {
   "cell_type": "code",
   "execution_count": 13,
   "id": "1fa7c368",
   "metadata": {
    "execution": {
     "iopub.execute_input": "2022-07-22T12:40:45.980510Z",
     "iopub.status.busy": "2022-07-22T12:40:45.979847Z",
     "iopub.status.idle": "2022-07-22T12:40:45.984988Z",
     "shell.execute_reply": "2022-07-22T12:40:45.983905Z"
    },
    "papermill": {
     "duration": 0.024665,
     "end_time": "2022-07-22T12:40:45.989403",
     "exception": false,
     "start_time": "2022-07-22T12:40:45.964738",
     "status": "completed"
    },
    "tags": []
   },
   "outputs": [],
   "source": [
    "# ABC_GAN1_metrics=ABC_train_test2.test_generator(gen,test_data,prior_model,variance,bias,\"1\",device)\n",
    "# sb.glue(\"ABC_GAN_1 Metrics\",ABC_GAN1_metrics)\n",
    "\n",
    "# print(\"MAE\")\n",
    "# print(mean(ABC_GAN1_metrics[1]))"
   ]
  },
  {
   "cell_type": "code",
   "execution_count": 14,
   "id": "eb22ce5c",
   "metadata": {
    "execution": {
     "iopub.execute_input": "2022-07-22T12:40:46.018356Z",
     "iopub.status.busy": "2022-07-22T12:40:46.017731Z",
     "iopub.status.idle": "2022-07-22T12:40:46.022602Z",
     "shell.execute_reply": "2022-07-22T12:40:46.021322Z"
    },
    "papermill": {
     "duration": 0.024001,
     "end_time": "2022-07-22T12:40:46.026585",
     "exception": false,
     "start_time": "2022-07-22T12:40:46.002584",
     "status": "completed"
    },
    "tags": []
   },
   "outputs": [],
   "source": [
    "# sanityChecks.discProbVsError(train_data,disc,device)\n",
    "# sanityChecks.discProbVsError(test_data,disc,device)"
   ]
  },
  {
   "cell_type": "markdown",
   "id": "fca350a6",
   "metadata": {
    "papermill": {
     "duration": 0.013308,
     "end_time": "2022-07-22T12:40:46.054726",
     "exception": false,
     "start_time": "2022-07-22T12:40:46.041418",
     "status": "completed"
    },
    "tags": []
   },
   "source": [
    "# mGAN Model with TabNet Generator"
   ]
  },
  {
   "cell_type": "code",
   "execution_count": 15,
   "id": "fcb0f77a",
   "metadata": {
    "execution": {
     "iopub.execute_input": "2022-07-22T12:40:46.085440Z",
     "iopub.status.busy": "2022-07-22T12:40:46.084733Z",
     "iopub.status.idle": "2022-07-22T12:40:46.106521Z",
     "shell.execute_reply": "2022-07-22T12:40:46.104547Z"
    },
    "papermill": {
     "duration": 0.040594,
     "end_time": "2022-07-22T12:40:46.109453",
     "exception": false,
     "start_time": "2022-07-22T12:40:46.068859",
     "status": "completed"
    },
    "tags": []
   },
   "outputs": [],
   "source": [
    "gen2 = network.GeneratorTabnet(n_features+1).to(device)\n",
    "disc2 = network.Discriminator(n_features+1).to(device)\n",
    "\n",
    "criterion = torch.nn.BCELoss()\n",
    "gen_opt = torch.optim.Adam(gen2.parameters(), lr=0.001, betas=(0.5, 0.999))\n",
    "disc_opt = torch.optim.Adam(disc2.parameters(), lr=0.001, betas=(0.5, 0.999))"
   ]
  },
  {
   "cell_type": "code",
   "execution_count": 16,
   "id": "f2e1a538",
   "metadata": {
    "execution": {
     "iopub.execute_input": "2022-07-22T12:40:46.142340Z",
     "iopub.status.busy": "2022-07-22T12:40:46.141757Z",
     "iopub.status.idle": "2022-07-22T12:43:27.041473Z",
     "shell.execute_reply": "2022-07-22T12:43:27.040176Z"
    },
    "papermill": {
     "duration": 160.92002,
     "end_time": "2022-07-22T12:43:27.044733",
     "exception": false,
     "start_time": "2022-07-22T12:40:46.124713",
     "status": "completed"
    },
    "tags": []
   },
   "outputs": [
    {
     "data": {
      "image/png": "[encoded data removed]",
      "text/plain": [
       "<Figure size 432x288 with 1 Axes>"
      ]
     },
     "metadata": {
      "needs_background": "light"
     },
     "output_type": "display_data"
    },
    {
     "data": {
      "image/png": "[encoded data removed]",
      "text/plain": [
       "<Figure size 432x288 with 1 Axes>"
      ]
     },
     "metadata": {
      "needs_background": "light"
     },
     "output_type": "display_data"
    }
   ],
   "source": [
    "#Training the ABC_GAN \n",
    "ABC_train_test2.training_GAN(disc2,gen2,disc_opt,gen_opt,train_data,batch_size,n_epochs,criterion,prior_model,variance,bias,device)"
   ]
  },
  {
   "cell_type": "code",
   "execution_count": 17,
   "id": "47cb4086",
   "metadata": {
    "execution": {
     "iopub.execute_input": "2022-07-22T12:43:27.079065Z",
     "iopub.status.busy": "2022-07-22T12:43:27.078709Z",
     "iopub.status.idle": "2022-07-22T12:43:29.067338Z",
     "shell.execute_reply": "2022-07-22T12:43:29.062441Z"
    },
    "papermill": {
     "duration": 2.010034,
     "end_time": "2022-07-22T12:43:29.072316",
     "exception": false,
     "start_time": "2022-07-22T12:43:27.062282",
     "status": "completed"
    },
    "tags": []
   },
   "outputs": [
    {
     "data": {
      "application/scrapbook.scrap.json+json": {
       "data": 0.2688688634436805,
       "encoder": "json",
       "name": "ABC-GAN Model 1 MSE",
       "version": 1
      }
     },
     "metadata": {
      "scrapbook": {
       "data": true,
       "display": false,
       "name": "ABC-GAN Model 1 MSE"
      }
     },
     "output_type": "display_data"
    },
    {
     "data": {
      "application/scrapbook.scrap.json+json": {
       "data": 0.3625253261178732,
       "encoder": "json",
       "name": "ABC-GAN Model 1 MAE",
       "version": 1
      }
     },
     "metadata": {
      "scrapbook": {
       "data": true,
       "display": false,
       "name": "ABC-GAN Model 1 MAE"
      }
     },
     "output_type": "display_data"
    },
    {
     "data": {
      "application/scrapbook.scrap.json+json": {
       "data": 7.250506522357464,
       "encoder": "json",
       "name": "ABC-GAN Model 1 Manhattan Distance",
       "version": 1
      }
     },
     "metadata": {
      "scrapbook": {
       "data": true,
       "display": false,
       "name": "ABC-GAN Model 1 Manhattan Distance"
      }
     },
     "output_type": "display_data"
    },
    {
     "data": {
      "application/scrapbook.scrap.json+json": {
       "data": 2.318812238347856,
       "encoder": "json",
       "name": "ABC-GAN Model 1 Euclidean distance",
       "version": 1
      }
     },
     "metadata": {
      "scrapbook": {
       "data": true,
       "display": false,
       "name": "ABC-GAN Model 1 Euclidean distance"
      }
     },
     "output_type": "display_data"
    },
    {
     "data": {
      "application/scrapbook.scrap.json+json": {
       "data": [
        [
         0.2606734658313873,
         0.27032623926596416,
         0.26900084634436655,
         0.2631507855769881,
         0.26502477077801384,
         0.26253770433286294,
         0.2717179475889499,
         0.2630678906730865,
         0.27625012289055517,
         0.2679294995718045,
         0.2628438933176393,
         0.2630068174783059,
         0.26388216412625476,
         0.2666914273552852,
         0.271937113076291,
         0.26828941973337433,
         0.2677786649116892,
         0.2707469735681381,
         0.2627661708633354,
         0.26463642429340845,
         0.2684050552213845,
         0.2815624125766839,
         0.2756789401431673,
         0.2633864884185767,
         0.27020467878878085,
         0.2767615643108494,
         0.2720206615502701,
         0.2712506820816908,
         0.26490990927664937,
         0.26588450077164866,
         0.2665783804684858,
         0.27625731186383756,
         0.27896205415363445,
         0.2675075627308973,
         0.2768440457321664,
         0.27180811376024167,
         0.2753688954966268,
         0.2639443558861759,
         0.27226261185784956,
         0.27150224773811105,
         0.27208867043775975,
         0.2720054370206396,
         0.2727561024387646,
         0.26013778325811443,
         0.2656902668323417,
         0.26512893142153643,
         0.26705450239803635,
         0.27243532503247575,
         0.2661498807884803,
         0.2718100192086713,
         0.27041395342582075,
         0.2721734550550193,
         0.26959645350795525,
         0.27326852742431756,
         0.27392554874688424,
         0.26832551359740553,
         0.26886167259605276,
         0.271838531402769,
         0.27090875850071494,
         0.27449154712956964,
         0.2700086259862292,
         0.2704827599734327,
         0.266162892874483,
         0.26615185867460645,
         0.2712531010531366,
         0.2613914497057768,
         0.26480682624268576,
         0.26751267674344836,
         0.26747574026086285,
         0.27495823387883395,
         0.27736382805980103,
         0.25389469603683323,
         0.27282455453069365,
         0.26494505332232887,
         0.2664182716128879,
         0.27627924092569867,
         0.26684224965949055,
         0.26931839615314856,
         0.2670072930479711,
         0.26068550247958583,
         0.27385391190756353,
         0.2716494435510323,
         0.26803674496229857,
         0.25173190330958306,
         0.27054147258893846,
         0.2651036975461463,
         0.2705419695699896,
         0.2673237133657206,
         0.26665829899997584,
         0.2611115437136853,
         0.27675858135024234,
         0.262070875647051,
         0.2686250162963614,
         0.2663306611600097,
         0.2740335549135611,
         0.2765419298772422,
         0.27022123858017394,
         0.26694766824825994,
         0.27393391821768615,
         0.2666672547118359
        ],
        [
         0.3576581373810768,
         0.36343533024191854,
         0.3632271967828274,
         0.3597735121846199,
         0.35874116569757464,
         0.36267740204930304,
         0.3639395110309124,
         0.35860699191689493,
         0.36670513525605203,
         0.3624667629599571,
         0.35488825738430024,
         0.3575371004641056,
         0.3505644932389259,
         0.36227641850709913,
         0.3634893946349621,
         0.3612916849553585,
         0.36483024433255196,
         0.3638325877487659,
         0.35718297138810157,
         0.36060345992445947,
         0.36090425252914426,
         0.3705088198184967,
         0.36749805212020875,
         0.36053807884454725,
         0.36648012697696686,
         0.36720285639166833,
         0.36668194010853766,
         0.3648639112710953,
         0.36269605830311774,
         0.36203726232051847,
         0.35592554956674577,
         0.3649657770991325,
         0.3644524931907654,
         0.3655024044215679,
         0.36829855144023893,
         0.3645434357225895,
         0.3601363502442837,
         0.3588811904191971,
         0.36706016659736634,
         0.3614556595683098,
         0.36299749165773393,
         0.3626777172088623,
         0.36754035726189616,
         0.35922688618302345,
         0.35901606529951097,
         0.35601974204182624,
         0.3552023060619831,
         0.36997218877077104,
         0.35938362330198287,
         0.36777736991643906,
         0.36635482832789423,
         0.36108604073524475,
         0.3576212838292122,
         0.3670818880200386,
         0.36605432331562043,
         0.3627049244940281,
         0.3653589777648449,
         0.36313336789608003,
         0.3655535325407982,
         0.3675814069807529,
         0.3590247519314289,
         0.3652124613523483,
         0.3546035371720791,
         0.3603634342551231,
         0.3660305067896843,
         0.3620623365044594,
         0.3640841007232666,
         0.36353838369250296,
         0.3618558034300804,
         0.36555099934339524,
         0.3722332835197449,
         0.3517336778342724,
         0.3661628939211369,
         0.35881765857338904,
         0.3682920075953007,
         0.3689572274684906,
         0.36255988031625747,
         0.36114209070801734,
         0.3621407926082611,
         0.35731966495513917,
         0.36526223793625834,
         0.3616364024579525,
         0.3616184204816818,
         0.34765132442116736,
         0.35931011363863946,
         0.3634824253618717,
         0.36656073555350305,
         0.3630375385284424,
         0.36070121750235556,
         0.3590989299118519,
         0.3659777633845806,
         0.35517035722732543,
         0.365150860697031,
         0.3590139552950859,
         0.36836033686995506,
         0.3670163109898567,
         0.36348526999354364,
         0.36239684373140335,
         0.36547267585992815,
         0.3637383826076984
        ],
        [
         7.153162747621536,
         7.268706604838371,
         7.2645439356565475,
         7.195470243692398,
         7.174823313951492,
         7.253548040986061,
         7.278790220618248,
         7.172139838337898,
         7.33410270512104,
         7.2493352591991425,
         7.097765147686005,
         7.150742009282112,
         7.011289864778519,
         7.245528370141983,
         7.269787892699242,
         7.22583369910717,
         7.296604886651039,
         7.276651754975319,
         7.1436594277620316,
         7.212069198489189,
         7.218085050582886,
         7.410176396369934,
         7.349961042404175,
         7.210761576890945,
         7.329602539539337,
         7.344057127833366,
         7.3336388021707535,
         7.2972782254219055,
         7.253921166062355,
         7.24074524641037,
         7.118510991334915,
         7.299315541982651,
         7.289049863815308,
         7.310048088431358,
         7.365971028804779,
         7.29086871445179,
         7.2027270048856735,
         7.177623808383942,
         7.341203331947327,
         7.229113191366196,
         7.259949833154678,
         7.253554344177246,
         7.350807145237923,
         7.184537723660469,
         7.180321305990219,
         7.120394840836525,
         7.104046121239662,
         7.3994437754154205,
         7.187672466039658,
         7.355547398328781,
         7.327096566557884,
         7.221720814704895,
         7.152425676584244,
         7.341637760400772,
         7.3210864663124084,
         7.254098489880562,
         7.307179555296898,
         7.2626673579216,
         7.311070650815964,
         7.351628139615059,
         7.180495038628578,
         7.3042492270469666,
         7.092070743441582,
         7.207268685102463,
         7.320610135793686,
         7.241246730089188,
         7.281682014465332,
         7.2707676738500595,
         7.237116068601608,
         7.311019986867905,
         7.4446656703948975,
         7.034673556685448,
         7.323257878422737,
         7.176353171467781,
         7.3658401519060135,
         7.379144549369812,
         7.2511976063251495,
         7.222841814160347,
         7.242815852165222,
         7.146393299102783,
         7.305244758725166,
         7.23272804915905,
         7.2323684096336365,
         6.9530264884233475,
         7.186202272772789,
         7.269648507237434,
         7.331214711070061,
         7.260750770568848,
         7.2140243500471115,
         7.181978598237038,
         7.319555267691612,
         7.103407144546509,
         7.30301721394062,
         7.180279105901718,
         7.367206737399101,
         7.340326219797134,
         7.2697053998708725,
         7.247936874628067,
         7.309453517198563,
         7.274767652153969
        ],
        [
         2.2833022832353462,
         2.3251934941675896,
         2.319486349795431,
         2.2941263503869536,
         2.302280481513987,
         2.291452396768752,
         2.331171154544213,
         2.293764986536705,
         2.350532377528781,
         2.3148628450593116,
         2.2927882297222277,
         2.2934987136613176,
         2.2973121865617427,
         2.3095082911965705,
         2.3321111168908355,
         2.316417146083038,
         2.3142111611159826,
         2.327002249969424,
         2.2924492180344385,
         2.300593072637612,
         2.3169162920631576,
         2.373025126612375,
         2.348101105758299,
         2.2951535391715154,
         2.3246706381282527,
         2.3527072249255725,
         2.3324693419218616,
         2.3291658682098655,
         2.301781524283525,
         2.3060117119028196,
         2.309018754659588,
         2.3505629617767636,
         2.36204171916431,
         2.3130393975498875,
         2.3530577797077843,
         2.3315579073239494,
         2.3467803284356497,
         2.297582885931108,
         2.3335064253515547,
         2.3302456854937468,
         2.332760898325243,
         2.332404068855307,
         2.335620270672288,
         2.2809549897273924,
         2.3051692642074757,
         2.302732860848329,
         2.3110798445663288,
         2.334246452423033,
         2.3071622430530554,
         2.3315660797355555,
         2.325570697380842,
         2.333124321826933,
         2.3220527707524448,
         2.337813197945112,
         2.34062192054541,
         2.3165729584772654,
         2.318886252475756,
         2.331688364266413,
         2.3276973965733387,
         2.3430388265223847,
         2.32382712776243,
         2.325866548078082,
         2.307218641024223,
         2.307170815846137,
         2.3291762537564074,
         2.2864446186416885,
         2.3013336404905993,
         2.3130615069359846,
         2.3129018148674745,
         2.3450297818101755,
         2.355265709255756,
         2.253418274696614,
         2.335913331143489,
         2.301934201154885,
         2.3083252440368445,
         2.3506562527332604,
         2.310161248309263,
         2.320854998284678,
         2.3108755615479217,
         2.2833549985912653,
         2.3403158415374774,
         2.330877274980527,
         2.3153260891818177,
         2.2437999167019465,
         2.326118967675293,
         2.3026232759448355,
         2.3261211041989607,
         2.3122444220528267,
         2.3093648434146385,
         2.2852200931800213,
         2.3526945460481787,
         2.2894142292169453,
         2.3178654676074766,
         2.3079456716309843,
         2.3410833172425156,
         2.3517735004767877,
         2.3247418720372974,
         2.310617528922777,
         2.3406576777379735,
         2.3094036230673747
        ]
       ],
       "encoder": "json",
       "name": "ABC_GAN_2 Metrics",
       "version": 1
      }
     },
     "metadata": {
      "scrapbook": {
       "data": true,
       "display": false,
       "name": "ABC_GAN_2 Metrics"
      }
     },
     "output_type": "display_data"
    },
    {
     "name": "stdout",
     "output_type": "stream",
     "text": [
      "MAE\n",
      "0.3625253261178732\n"
     ]
    }
   ],
   "source": [
    "ABC_GAN2_metrics=ABC_train_test2.test_generator(gen2,test_data,prior_model,variance,bias,\"1\",device)\n",
    "sb.glue(\"ABC_GAN_2 Metrics\",ABC_GAN2_metrics)\n",
    "\n",
    "print(\"MAE\")\n",
    "print(mean(ABC_GAN2_metrics[1]))"
   ]
  },
  {
   "cell_type": "code",
   "execution_count": 18,
   "id": "3343f61b",
   "metadata": {
    "execution": {
     "iopub.execute_input": "2022-07-22T12:43:29.129108Z",
     "iopub.status.busy": "2022-07-22T12:43:29.128589Z",
     "iopub.status.idle": "2022-07-22T12:43:30.424075Z",
     "shell.execute_reply": "2022-07-22T12:43:30.422838Z"
    },
    "papermill": {
     "duration": 1.329717,
     "end_time": "2022-07-22T12:43:30.427311",
     "exception": false,
     "start_time": "2022-07-22T12:43:29.097594",
     "status": "completed"
    },
    "tags": []
   },
   "outputs": [
    {
     "data": {
      "image/png": "[encoded data removed]",
      "text/plain": [
       "<Figure size 432x288 with 1 Axes>"
      ]
     },
     "metadata": {
      "needs_background": "light"
     },
     "output_type": "display_data"
    },
    {
     "data": {
      "image/png": "[encoded data removed]",
      "text/plain": [
       "<Figure size 432x288 with 1 Axes>"
      ]
     },
     "metadata": {
      "needs_background": "light"
     },
     "output_type": "display_data"
    },
    {
     "data": {
      "image/png": "[encoded data removed]",
      "text/plain": [
       "<Figure size 432x288 with 1 Axes>"
      ]
     },
     "metadata": {
      "needs_background": "light"
     },
     "output_type": "display_data"
    },
    {
     "data": {
      "image/png": "[encoded data removed]",
      "text/plain": [
       "<Figure size 432x288 with 1 Axes>"
      ]
     },
     "metadata": {
      "needs_background": "light"
     },
     "output_type": "display_data"
    }
   ],
   "source": [
    "sanityChecks.discProbVsError(train_data,disc2,device)\n",
    "sanityChecks.discProbVsError(test_data,disc2,device)"
   ]
  },
  {
   "cell_type": "markdown",
   "id": "130f3a4d",
   "metadata": {
    "id": "130f3a4d",
    "papermill": {
     "duration": 0.032749,
     "end_time": "2022-07-22T12:43:30.487928",
     "exception": false,
     "start_time": "2022-07-22T12:43:30.455179",
     "status": "completed"
    },
    "tags": []
   },
   "source": [
    "# skipGAN Model"
   ]
  },
  {
   "cell_type": "code",
   "execution_count": 19,
   "id": "4e43dad1",
   "metadata": {
    "execution": {
     "iopub.execute_input": "2022-07-22T12:43:30.554783Z",
     "iopub.status.busy": "2022-07-22T12:43:30.554072Z",
     "iopub.status.idle": "2022-07-22T12:43:30.560243Z",
     "shell.execute_reply": "2022-07-22T12:43:30.558523Z"
    },
    "id": "4e43dad1",
    "papermill": {
     "duration": 0.047752,
     "end_time": "2022-07-22T12:43:30.568585",
     "exception": false,
     "start_time": "2022-07-22T12:43:30.520833",
     "status": "completed"
    },
    "tags": []
   },
   "outputs": [],
   "source": [
    "# #Generator\n",
    "# gen3 = network.GeneratorWithSkipConnection(n_features+1).to(device)\n",
    "# constraints=network.weightConstraint()\n",
    "# #Discriminator \n",
    "# disc3 = network.Discriminator(n_features+1).to(device)\n",
    "\n",
    "# criterion = torch.nn.BCELoss()\n",
    "# gen_opt = torch.optim.Adam(gen3.parameters(), lr=0.01, betas=(0.5, 0.999))\n",
    "# disc_opt = torch.optim.Adam(disc3.parameters(), lr=0.01, betas=(0.5, 0.999))\n"
   ]
  },
  {
   "cell_type": "code",
   "execution_count": 20,
   "id": "26acbc37",
   "metadata": {
    "execution": {
     "iopub.execute_input": "2022-07-22T12:43:30.623515Z",
     "iopub.status.busy": "2022-07-22T12:43:30.622679Z",
     "iopub.status.idle": "2022-07-22T12:43:30.628882Z",
     "shell.execute_reply": "2022-07-22T12:43:30.627534Z"
    },
    "id": "26acbc37",
    "papermill": {
     "duration": 0.042131,
     "end_time": "2022-07-22T12:43:30.634606",
     "exception": false,
     "start_time": "2022-07-22T12:43:30.592475",
     "status": "completed"
    },
    "tags": []
   },
   "outputs": [],
   "source": [
    "# ABC_train_test2.training_GAN_skip_connection(disc3,gen3,disc_opt,gen_opt,train_data,batch_size,n_epochs,criterion,prior_model,variance,bias,device)"
   ]
  },
  {
   "cell_type": "code",
   "execution_count": 21,
   "id": "c5e0717b",
   "metadata": {
    "execution": {
     "iopub.execute_input": "2022-07-22T12:43:30.700889Z",
     "iopub.status.busy": "2022-07-22T12:43:30.699779Z",
     "iopub.status.idle": "2022-07-22T12:43:30.706574Z",
     "shell.execute_reply": "2022-07-22T12:43:30.704903Z"
    },
    "id": "c5e0717b",
    "papermill": {
     "duration": 0.051822,
     "end_time": "2022-07-22T12:43:30.715135",
     "exception": false,
     "start_time": "2022-07-22T12:43:30.663313",
     "status": "completed"
    },
    "tags": []
   },
   "outputs": [],
   "source": [
    "# ABC_GAN3_metrics=ABC_train_test2.test_generator(gen3,test_data,prior_model,variance,bias,\"3\",device)\n",
    "# sb.glue(\"ABC_GAN_3 Metrics\",ABC_GAN3_metrics)\n",
    "\n",
    "# print(\"MAE\")\n",
    "# print(mean(ABC_GAN3_metrics[1]))"
   ]
  },
  {
   "cell_type": "code",
   "execution_count": 22,
   "id": "c8e46b48",
   "metadata": {
    "execution": {
     "iopub.execute_input": "2022-07-22T12:43:30.785392Z",
     "iopub.status.busy": "2022-07-22T12:43:30.785034Z",
     "iopub.status.idle": "2022-07-22T12:43:30.790632Z",
     "shell.execute_reply": "2022-07-22T12:43:30.788443Z"
    },
    "id": "c8e46b48",
    "papermill": {
     "duration": 0.054261,
     "end_time": "2022-07-22T12:43:30.801653",
     "exception": false,
     "start_time": "2022-07-22T12:43:30.747392",
     "status": "completed"
    },
    "tags": []
   },
   "outputs": [],
   "source": [
    "# sanityChecks.discProbVsError(train_data,disc3,device)\n",
    "# sanityChecks.discProbVsError(test_data,disc3,device)"
   ]
  },
  {
   "cell_type": "markdown",
   "id": "ec437f7d",
   "metadata": {
    "id": "130f3a4d",
    "papermill": {
     "duration": 0.027966,
     "end_time": "2022-07-22T12:43:30.854868",
     "exception": false,
     "start_time": "2022-07-22T12:43:30.826902",
     "status": "completed"
    },
    "tags": []
   },
   "source": [
    "# skipGAN Model with TabNet Generator"
   ]
  },
  {
   "cell_type": "code",
   "execution_count": 23,
   "id": "16769b7b",
   "metadata": {
    "execution": {
     "iopub.execute_input": "2022-07-22T12:43:30.914077Z",
     "iopub.status.busy": "2022-07-22T12:43:30.913369Z",
     "iopub.status.idle": "2022-07-22T12:43:30.938731Z",
     "shell.execute_reply": "2022-07-22T12:43:30.935408Z"
    },
    "id": "4e43dad1",
    "papermill": {
     "duration": 0.063538,
     "end_time": "2022-07-22T12:43:30.942605",
     "exception": false,
     "start_time": "2022-07-22T12:43:30.879067",
     "status": "completed"
    },
    "tags": []
   },
   "outputs": [],
   "source": [
    "#Generator\n",
    "gen4 = network.GeneratorTabnetskipConnection(n_features+1).to(device)\n",
    "constraints=network.weightConstraint()\n",
    "#Discriminator \n",
    "disc4 = network.Discriminator(n_features+1).to(device)\n",
    "\n",
    "criterion = torch.nn.BCELoss()\n",
    "gen_opt = torch.optim.Adam(gen4.parameters(), lr=0.001, betas=(0.5, 0.999))\n",
    "disc_opt = torch.optim.Adam(disc4.parameters(), lr=0.001, betas=(0.5, 0.999))\n"
   ]
  },
  {
   "cell_type": "code",
   "execution_count": 24,
   "id": "59244e1a",
   "metadata": {
    "execution": {
     "iopub.execute_input": "2022-07-22T12:43:31.007304Z",
     "iopub.status.busy": "2022-07-22T12:43:31.006269Z",
     "iopub.status.idle": "2022-07-22T12:46:42.951249Z",
     "shell.execute_reply": "2022-07-22T12:46:42.950035Z"
    },
    "id": "26acbc37",
    "papermill": {
     "duration": 191.979264,
     "end_time": "2022-07-22T12:46:42.954707",
     "exception": false,
     "start_time": "2022-07-22T12:43:30.975443",
     "status": "completed"
    },
    "tags": []
   },
   "outputs": [
    {
     "data": {
      "image/png": "[encoded data removed]",
      "text/plain": [
       "<Figure size 432x288 with 1 Axes>"
      ]
     },
     "metadata": {
      "needs_background": "light"
     },
     "output_type": "display_data"
    },
    {
     "data": {
      "image/png": "[encoded data removed]",
      "text/plain": [
       "<Figure size 432x288 with 1 Axes>"
      ]
     },
     "metadata": {
      "needs_background": "light"
     },
     "output_type": "display_data"
    }
   ],
   "source": [
    "ABC_train_test2.training_GAN_skip_connection(disc4,gen4,disc_opt,gen_opt,train_data,batch_size,n_epochs,criterion,prior_model,variance,bias,device)"
   ]
  },
  {
   "cell_type": "code",
   "execution_count": 25,
   "id": "a8d23ad0",
   "metadata": {
    "execution": {
     "iopub.execute_input": "2022-07-22T12:46:42.999818Z",
     "iopub.status.busy": "2022-07-22T12:46:42.999260Z",
     "iopub.status.idle": "2022-07-22T12:46:45.268891Z",
     "shell.execute_reply": "2022-07-22T12:46:45.266577Z"
    },
    "id": "c5e0717b",
    "papermill": {
     "duration": 2.295269,
     "end_time": "2022-07-22T12:46:45.271711",
     "exception": false,
     "start_time": "2022-07-22T12:46:42.976442",
     "status": "completed"
    },
    "tags": []
   },
   "outputs": [
    {
     "data": {
      "application/scrapbook.scrap.json+json": {
       "data": 0.3762380717148822,
       "encoder": "json",
       "name": "ABC-GAN Model 3 MSE",
       "version": 1
      }
     },
     "metadata": {
      "scrapbook": {
       "data": true,
       "display": false,
       "name": "ABC-GAN Model 3 MSE"
      }
     },
     "output_type": "display_data"
    },
    {
     "data": {
      "application/scrapbook.scrap.json+json": {
       "data": 0.3935111098010093,
       "encoder": "json",
       "name": "ABC-GAN Model 3 MAE",
       "version": 1
      }
     },
     "metadata": {
      "scrapbook": {
       "data": true,
       "display": false,
       "name": "ABC-GAN Model 3 MAE"
      }
     },
     "output_type": "display_data"
    },
    {
     "data": {
      "application/scrapbook.scrap.json+json": {
       "data": 7.870222196020186,
       "encoder": "json",
       "name": "ABC-GAN Model 3 Manhattan Distance",
       "version": 1
      }
     },
     "metadata": {
      "scrapbook": {
       "data": true,
       "display": false,
       "name": "ABC-GAN Model 3 Manhattan Distance"
      }
     },
     "output_type": "display_data"
    },
    {
     "data": {
      "application/scrapbook.scrap.json+json": {
       "data": 2.743059193893975,
       "encoder": "json",
       "name": "ABC-GAN Model 3 Euclidean distance",
       "version": 1
      }
     },
     "metadata": {
      "scrapbook": {
       "data": true,
       "display": false,
       "name": "ABC-GAN Model 3 Euclidean distance"
      }
     },
     "output_type": "display_data"
    },
    {
     "data": {
      "application/scrapbook.scrap.json+json": {
       "data": [
        [
         0.37364810551257854,
         0.38756350630607905,
         0.3721041672880757,
         0.3793450778194559,
         0.37425870009869444,
         0.3717569174321705,
         0.37419126804054476,
         0.37641044780146593,
         0.36470107060959184,
         0.37579149147072033,
         0.3749413441027048,
         0.3796596827824275,
         0.37803621255554865,
         0.36598454978923456,
         0.37584534369408473,
         0.38132173943139436,
         0.3654164065390252,
         0.384671788332441,
         0.37851065417475,
         0.3755672571804475,
         0.38094581102514924,
         0.3715924752713625,
         0.38483268680367966,
         0.3710208781947085,
         0.37398184159237957,
         0.3718035831999585,
         0.3724090751040289,
         0.37105649847742683,
         0.3738422734431153,
         0.38365478906288664,
         0.3681134794710759,
         0.3773786008492894,
         0.38044114313291505,
         0.3802865711953789,
         0.3743256554087261,
         0.38168288574237735,
         0.381107446531327,
         0.37717165860662644,
         0.3716599242153448,
         0.37506887641582554,
         0.37914672805299376,
         0.37229818722473845,
         0.369090953705232,
         0.37627369542196554,
         0.3802787964925137,
         0.3717827066446579,
         0.36872822630706054,
         0.36598897439436123,
         0.37866290427094007,
         0.37075496637770594,
         0.3828070678129896,
         0.38004996050052087,
         0.3780291821766107,
         0.3689996302495237,
         0.37722291231003346,
         0.38250135290745274,
         0.3729434904173154,
         0.37951513080745064,
         0.3826523655727315,
         0.36980047802785954,
         0.3719523215365099,
         0.36743874353075623,
         0.3712050393235906,
         0.3695674773797636,
         0.3786259159973878,
         0.39092443682504874,
         0.3846175561314868,
         0.37651256822818635,
         0.38591831697013723,
         0.37779822223481135,
         0.3749602134571238,
         0.3732910773020569,
         0.37486131219188457,
         0.38130240161469015,
         0.38106110673829524,
         0.37737757106306435,
         0.37983802339136796,
         0.3788483606836034,
         0.3728029467023082,
         0.37810837351127813,
         0.3747325385139756,
         0.38026394731305546,
         0.37594667672798737,
         0.37740979216170756,
         0.3789541863832867,
         0.38352511047787186,
         0.3732735185899042,
         0.37883140646585406,
         0.38110990063756095,
         0.37625399128450493,
         0.37466806415485365,
         0.367728469804868,
         0.3627948330754778,
         0.37746452457484464,
         0.38119932565471687,
         0.38818941921316147,
         0.38063633870461827,
         0.37696086008703117,
         0.372348936605593,
         0.3748737518643202
        ],
        [
         0.3932835852727294,
         0.3921579560264945,
         0.3951063107699156,
         0.39695848505944015,
         0.39408292565494774,
         0.3905255539342761,
         0.39500572085380553,
         0.39472843166440724,
         0.38680299259722234,
         0.39486678391695024,
         0.3942065708339214,
         0.3932702034711838,
         0.39346887432038785,
         0.3876482777297497,
         0.39382031559944153,
         0.3905907228589058,
         0.38933279234915974,
         0.39499952606856825,
         0.39242490865290164,
         0.39419623333960774,
         0.3961436115205288,
         0.39278845209628344,
         0.39523062817752364,
         0.3904296262189746,
         0.39395162686705587,
         0.3916393231600523,
         0.39088941626250745,
         0.39594455156475306,
         0.3923409698531032,
         0.39757070895284413,
         0.3910395042970777,
         0.39665038473904135,
         0.3918390225619078,
         0.3952870093286037,
         0.39143186174333094,
         0.3925743415951729,
         0.3923620142042637,
         0.39371665343642237,
         0.3938141889870167,
         0.3918777281418443,
         0.3964724883437157,
         0.3914599834010005,
         0.3904050702229142,
         0.3941573269665241,
         0.39320218563079834,
         0.3919503977522254,
         0.3893644079566002,
         0.3881292399019003,
         0.39574872218072416,
         0.3945486983284354,
         0.3947302918881178,
         0.39824123289436103,
         0.39293987676501274,
         0.38837053831666707,
         0.3922977389767766,
         0.39757976885885,
         0.39124291874468325,
         0.39569010604172944,
         0.39509038515388967,
         0.3940473398193717,
         0.39250698536634443,
         0.3916770491749048,
         0.3940358888357878,
         0.39127531591802833,
         0.39549654312431815,
         0.3997339913621545,
         0.3971709867939353,
         0.3898195199668407,
         0.39661766644567253,
         0.3928037267178297,
         0.39224657975137234,
         0.39565411061048505,
         0.39225218556821345,
         0.39480346739292144,
         0.39654053691774604,
         0.3943678172305226,
         0.39635256584733725,
         0.3968602020293474,
         0.39371391795575617,
         0.39547410011291506,
         0.39233094546943903,
         0.3951304329559207,
         0.3909432265907526,
         0.3930034626275301,
         0.39479679744690654,
         0.3937290497124195,
         0.39237797912210226,
         0.3958384096622467,
         0.39496592469513414,
         0.3937135687097907,
         0.39495296124368906,
         0.3889980250969529,
         0.3863122623413801,
         0.39143290389329194,
         0.3926300317049026,
         0.39439929034560917,
         0.3984441516920924,
         0.3943230602890253,
         0.3954165827482939,
         0.3973012438043952
        ],
        [
         7.865671705454588,
         7.84315912052989,
         7.902126215398312,
         7.939169701188803,
         7.881658513098955,
         7.810511078685522,
         7.900114417076111,
         7.894568633288145,
         7.736059851944447,
         7.8973356783390045,
         7.884131416678429,
         7.8654040694236755,
         7.869377486407757,
         7.752965554594994,
         7.876406311988831,
         7.811814457178116,
         7.786655846983194,
         7.899990521371365,
         7.848498173058033,
         7.883924666792154,
         7.922872230410576,
         7.855769041925669,
         7.904612563550472,
         7.808592524379492,
         7.879032537341118,
         7.832786463201046,
         7.817788325250149,
         7.918891031295061,
         7.846819397062063,
         7.951414179056883,
         7.820790085941553,
         7.933007694780827,
         7.836780451238155,
         7.905740186572075,
         7.828637234866619,
         7.851486831903458,
         7.847240284085274,
         7.874333068728447,
         7.876283779740334,
         7.8375545628368855,
         7.929449766874313,
         7.82919966802001,
         7.808101404458284,
         7.8831465393304825,
         7.864043712615967,
         7.839007955044508,
         7.787288159132004,
         7.762584798038006,
         7.914974443614483,
         7.890973966568708,
         7.894605837762356,
         7.96482465788722,
         7.858797535300255,
         7.767410766333342,
         7.845954779535532,
         7.951595377177,
         7.824858374893665,
         7.913802120834589,
         7.901807703077793,
         7.880946796387434,
         7.850139707326889,
         7.8335409834980965,
         7.8807177767157555,
         7.825506318360567,
         7.9099308624863625,
         7.99467982724309,
         7.943419735878706,
         7.796390399336815,
         7.93235332891345,
         7.856074534356594,
         7.844931595027447,
         7.9130822122097015,
         7.845043711364269,
         7.896069347858429,
         7.930810738354921,
         7.887356344610453,
         7.927051316946745,
         7.937204040586948,
         7.874278359115124,
         7.909482002258301,
         7.846618909388781,
         7.902608659118414,
         7.818864531815052,
         7.860069252550602,
         7.895935948938131,
         7.87458099424839,
         7.847559582442045,
         7.916768193244934,
         7.899318493902683,
         7.874271374195814,
         7.899059224873781,
         7.779960501939058,
         7.726245246827602,
         7.828658077865839,
         7.852600634098053,
         7.887985806912184,
         7.968883033841848,
         7.886461205780506,
         7.9083316549658775,
         7.946024876087904
        ],
        [
         2.7336719097674416,
         2.7841102934549093,
         2.7280182084732343,
         2.754433073499721,
         2.7359046039607975,
         2.7267450098319443,
         2.735658122063299,
         2.743758181040982,
         2.7007446032884777,
         2.7415013823477103,
         2.7383985980959924,
         2.755575013613048,
         2.749677117610534,
         2.7054927454688715,
         2.7416978086364105,
         2.7616000413940984,
         2.7033919676548024,
         2.773704340164759,
         2.751402021423805,
         2.7406833351573017,
         2.7602384354441165,
         2.7261418718451265,
         2.7742843646738153,
         2.724044339560972,
         2.7348924717157694,
         2.726916145391928,
         2.7291356694163404,
         2.7241750989149978,
         2.734382100011318,
         2.7700353393517805,
         2.713350251888156,
         2.747284480534513,
         2.7584094805989743,
         2.7578490574916494,
         2.7361493212495773,
         2.762907474898055,
         2.7608239586446905,
         2.7465311161777377,
         2.726389276003501,
         2.7388642770894127,
         2.753712868303425,
         2.7287293278181273,
         2.716950326028181,
         2.74325972311032,
         2.7578208661641304,
         2.7268395869381754,
         2.7156149443802247,
         2.705509099575757,
         2.7519553203892686,
         2.7230679990690865,
         2.76697332048211,
         2.7569909702446282,
         2.7496515494753537,
         2.716614180370572,
         2.746717722337093,
         2.7658682286307594,
         2.7310931526307023,
         2.755050383595373,
         2.7664141612301347,
         2.719560545484728,
         2.7274615360679606,
         2.710862385038223,
         2.7247203134398608,
         2.7187036520362553,
         2.7518209098609154,
         2.7961560644035903,
         2.7735088106277463,
         2.744130347589875,
         2.7781947986782254,
         2.7488114603763254,
         2.738467503758713,
         2.732365558639828,
         2.7381063244216235,
         2.7615300165476753,
         2.7606561058498222,
         2.747280732153394,
         2.7562221368800013,
         2.752629145684552,
         2.7305784980560737,
         2.7499395393763773,
         2.7376359820618066,
         2.757767021751676,
         2.7420673833003715,
         2.747398013254387,
         2.7530135720089968,
         2.7695671520216725,
         2.7323012959404904,
         2.752567552180524,
         2.7608328476659394,
         2.743187894711206,
         2.737400460856444,
         2.7119309349792373,
         2.6936771635646237,
         2.747597221482234,
         2.7611567346122055,
         2.786357547814571,
         2.759117027980576,
         2.7457635006935,
         2.7289153032133227,
         2.738151755707927
        ]
       ],
       "encoder": "json",
       "name": "ABC_GAN_4 Metrics",
       "version": 1
      }
     },
     "metadata": {
      "scrapbook": {
       "data": true,
       "display": false,
       "name": "ABC_GAN_4 Metrics"
      }
     },
     "output_type": "display_data"
    },
    {
     "name": "stdout",
     "output_type": "stream",
     "text": [
      "MAE\n",
      "0.3935111098010093\n"
     ]
    }
   ],
   "source": [
    "ABC_GAN4_metrics=ABC_train_test2.test_generator(gen4,test_data,prior_model,variance,bias,\"3\",device)\n",
    "sb.glue(\"ABC_GAN_4 Metrics\",ABC_GAN4_metrics)\n",
    "\n",
    "print(\"MAE\")\n",
    "print(mean(ABC_GAN4_metrics[1]))"
   ]
  },
  {
   "cell_type": "code",
   "execution_count": 26,
   "id": "c53611fb",
   "metadata": {
    "execution": {
     "iopub.execute_input": "2022-07-22T12:46:45.342379Z",
     "iopub.status.busy": "2022-07-22T12:46:45.341947Z",
     "iopub.status.idle": "2022-07-22T12:46:46.691233Z",
     "shell.execute_reply": "2022-07-22T12:46:46.690126Z"
    },
    "id": "c8e46b48",
    "papermill": {
     "duration": 1.393298,
     "end_time": "2022-07-22T12:46:46.694742",
     "exception": false,
     "start_time": "2022-07-22T12:46:45.301444",
     "status": "completed"
    },
    "tags": []
   },
   "outputs": [
    {
     "data": {
      "image/png": "[encoded data removed]",
      "text/plain": [
       "<Figure size 432x288 with 1 Axes>"
      ]
     },
     "metadata": {
      "needs_background": "light"
     },
     "output_type": "display_data"
    },
    {
     "data": {
      "image/png": "[encoded data removed]",
      "text/plain": [
       "<Figure size 432x288 with 1 Axes>"
      ]
     },
     "metadata": {
      "needs_background": "light"
     },
     "output_type": "display_data"
    },
    {
     "data": {
      "image/png": "[encoded data removed]",
      "text/plain": [
       "<Figure size 432x288 with 1 Axes>"
      ]
     },
     "metadata": {
      "needs_background": "light"
     },
     "output_type": "display_data"
    },
    {
     "data": {
      "image/png": "[encoded data removed]",
      "text/plain": [
       "<Figure size 432x288 with 1 Axes>"
      ]
     },
     "metadata": {
      "needs_background": "light"
     },
     "output_type": "display_data"
    }
   ],
   "source": [
    "sanityChecks.discProbVsError(train_data,disc4,device)\n",
    "sanityChecks.discProbVsError(test_data,disc4,device)"
   ]
  },
  {
   "cell_type": "markdown",
   "id": "a5bd74c3",
   "metadata": {
    "id": "a5bd74c3",
    "papermill": {
     "duration": 0.031826,
     "end_time": "2022-07-22T12:46:46.763234",
     "exception": false,
     "start_time": "2022-07-22T12:46:46.731408",
     "status": "completed"
    },
    "tags": []
   },
   "source": [
    "## Skip Connection Model Analysis - ABC-GAN "
   ]
  },
  {
   "cell_type": "markdown",
   "id": "5744a8bf",
   "metadata": {
    "id": "5744a8bf",
    "papermill": {
     "duration": 0.045655,
     "end_time": "2022-07-22T12:46:46.842749",
     "exception": false,
     "start_time": "2022-07-22T12:46:46.797094",
     "status": "completed"
    },
    "tags": []
   },
   "source": [
    "### Weight Analysis \n",
    "\n",
    "Study the weights of the skip connection layer\n",
    "\n",
    "Equation of the skip connection is \n",
    "\n",
    "$output = y_{gan} * w + y_{abc} * (1-w)$"
   ]
  },
  {
   "cell_type": "code",
   "execution_count": 27,
   "id": "52c31dea",
   "metadata": {
    "execution": {
     "iopub.execute_input": "2022-07-22T12:46:46.919021Z",
     "iopub.status.busy": "2022-07-22T12:46:46.918191Z",
     "iopub.status.idle": "2022-07-22T12:46:46.923701Z",
     "shell.execute_reply": "2022-07-22T12:46:46.922538Z"
    },
    "id": "52c31dea",
    "papermill": {
     "duration": 0.052256,
     "end_time": "2022-07-22T12:46:46.931773",
     "exception": false,
     "start_time": "2022-07-22T12:46:46.879517",
     "status": "completed"
    },
    "tags": []
   },
   "outputs": [],
   "source": [
    "# print(\"Weight of the node at skip connection\")\n",
    "# for name,param in gen3.named_parameters():\n",
    "#     if(name == \"skipNode.weight\"):\n",
    "#         print(param)\n",
    "#         sb.glue(\"Skip Connection Weight\",param.item())"
   ]
  },
  {
   "cell_type": "markdown",
   "id": "13032532",
   "metadata": {
    "id": "a5bd74c3",
    "papermill": {
     "duration": 0.036883,
     "end_time": "2022-07-22T12:46:47.001751",
     "exception": false,
     "start_time": "2022-07-22T12:46:46.964868",
     "status": "completed"
    },
    "tags": []
   },
   "source": [
    "## skipGAN Model Analysis (TabNet Generator) "
   ]
  },
  {
   "cell_type": "markdown",
   "id": "4c51698f",
   "metadata": {
    "id": "5744a8bf",
    "papermill": {
     "duration": 0.039502,
     "end_time": "2022-07-22T12:46:47.075470",
     "exception": false,
     "start_time": "2022-07-22T12:46:47.035968",
     "status": "completed"
    },
    "tags": []
   },
   "source": [
    "### Weight Analysis \n",
    "\n",
    "Study the weights of the skip connection layer\n",
    "\n",
    "Equation of the skip connection is \n",
    "\n",
    "$output = y_{gan} * w + y_{abc} * (1-w)$"
   ]
  },
  {
   "cell_type": "code",
   "execution_count": 28,
   "id": "c985ede9",
   "metadata": {
    "execution": {
     "iopub.execute_input": "2022-07-22T12:46:47.149942Z",
     "iopub.status.busy": "2022-07-22T12:46:47.149616Z",
     "iopub.status.idle": "2022-07-22T12:46:47.166714Z",
     "shell.execute_reply": "2022-07-22T12:46:47.164597Z"
    },
    "id": "52c31dea",
    "papermill": {
     "duration": 0.061915,
     "end_time": "2022-07-22T12:46:47.171457",
     "exception": false,
     "start_time": "2022-07-22T12:46:47.109542",
     "status": "completed"
    },
    "tags": []
   },
   "outputs": [
    {
     "name": "stdout",
     "output_type": "stream",
     "text": [
      "Weight of the node at skip connection\n",
      "Parameter containing:\n",
      "tensor([[0.2799]], requires_grad=True)\n"
     ]
    },
    {
     "data": {
      "application/scrapbook.scrap.json+json": {
       "data": 0.27990156412124634,
       "encoder": "json",
       "name": "Skip Connection Weight",
       "version": 1
      }
     },
     "metadata": {
      "scrapbook": {
       "data": true,
       "display": false,
       "name": "Skip Connection Weight"
      }
     },
     "output_type": "display_data"
    }
   ],
   "source": [
    "print(\"Weight of the node at skip connection\")\n",
    "for name,param in gen4.named_parameters():\n",
    "    if(name == \"skipNode.weight\"):\n",
    "        print(param)\n",
    "        sb.glue(\"Skip Connection Weight\",param.item())"
   ]
  }
 ],
 "metadata": {
  "colab": {
   "collapsed_sections": [],
   "name": "ABC_GAN_Model-Catboost_Pre-gen.ipynb",
   "provenance": []
  },
  "interpreter": {
   "hash": "31f2aee4e71d21fbe5cf8b01ff0e069b9275f58929596ceb00d14d90e3e16cd6"
  },
  "kernelspec": {
   "display_name": "Python 3 (ipykernel)",
   "language": "python",
   "name": "python3"
  },
  "language_info": {
   "codemirror_mode": {
    "name": "ipython",
    "version": 3
   },
   "file_extension": ".py",
   "mimetype": "text/x-python",
   "name": "python",
   "nbconvert_exporter": "python",
   "pygments_lexer": "ipython3",
   "version": "3.8.13"
  },
  "papermill": {
   "default_parameters": {},
   "duration": 393.577852,
   "end_time": "2022-07-22T12:46:48.079744",
   "environment_variables": {},
   "exception": null,
   "input_path": "ABC_GAN-TabNet.ipynb",
   "output_path": "./ABC_GAN_TabNet/ABC-GAN_output_3_11.ipynb",
   "parameters": {
    "bias": 0,
    "variance": 0.01
   },
   "start_time": "2022-07-22T12:40:14.501892",
   "version": "2.3.3"
  }
 },
 "nbformat": 4,
 "nbformat_minor": 5
}