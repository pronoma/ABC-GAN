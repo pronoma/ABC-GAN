{
 "cells": [
  {
   "cell_type": "markdown",
   "id": "622780e6",
   "metadata": {
    "id": "622780e6",
    "papermill": {
     "duration": 0.012299,
     "end_time": "2022-07-22T11:58:46.306462",
     "exception": false,
     "start_time": "2022-07-22T11:58:46.294163",
     "status": "completed"
    },
    "tags": []
   },
   "source": [
    "## Import Libraries "
   ]
  },
  {
   "cell_type": "code",
   "execution_count": 1,
   "id": "a62397e3",
   "metadata": {
    "execution": {
     "iopub.execute_input": "2022-07-22T11:58:46.335142Z",
     "iopub.status.busy": "2022-07-22T11:58:46.333783Z",
     "iopub.status.idle": "2022-07-22T11:58:46.370199Z",
     "shell.execute_reply": "2022-07-22T11:58:46.365128Z"
    },
    "id": "a62397e3",
    "papermill": {
     "duration": 0.055789,
     "end_time": "2022-07-22T11:58:46.374014",
     "exception": false,
     "start_time": "2022-07-22T11:58:46.318225",
     "status": "completed"
    },
    "tags": []
   },
   "outputs": [],
   "source": [
    "import warnings\n",
    "import sys\n",
    "sys.path.insert(0, '../../src')\n",
    "warnings.filterwarnings('ignore')"
   ]
  },
  {
   "cell_type": "code",
   "execution_count": 2,
   "id": "d6a4e155",
   "metadata": {
    "execution": {
     "iopub.execute_input": "2022-07-22T11:58:46.406366Z",
     "iopub.status.busy": "2022-07-22T11:58:46.404679Z",
     "iopub.status.idle": "2022-07-22T11:58:57.188808Z",
     "shell.execute_reply": "2022-07-22T11:58:57.182000Z"
    },
    "id": "d6a4e155",
    "papermill": {
     "duration": 10.804044,
     "end_time": "2022-07-22T11:58:57.195096",
     "exception": false,
     "start_time": "2022-07-22T11:58:46.391052",
     "status": "completed"
    },
    "tags": []
   },
   "outputs": [],
   "source": [
    "import ABC_train_test2\n",
    "import friedman3Dataset\n",
    "import network\n",
    "import dataset\n",
    "import sanityChecks\n",
    "import torch \n",
    "import scrapbook as sb\n",
    "from statistics import mean \n",
    "import catboost as ctb \n",
    "from sklearn.model_selection import train_test_split\n",
    "from sklearn.metrics import mean_squared_error,mean_absolute_error\n",
    "import numpy as np\n",
    "from pytorch_tabnet.tab_model import TabNetRegressor"
   ]
  },
  {
   "cell_type": "markdown",
   "id": "2fa5b0f7",
   "metadata": {
    "id": "2fa5b0f7",
    "papermill": {
     "duration": 0.010725,
     "end_time": "2022-07-22T11:58:57.221539",
     "exception": false,
     "start_time": "2022-07-22T11:58:57.210814",
     "status": "completed"
    },
    "tags": []
   },
   "source": [
    "## Parameters "
   ]
  },
  {
   "cell_type": "code",
   "execution_count": 3,
   "id": "783186fb",
   "metadata": {
    "execution": {
     "iopub.execute_input": "2022-07-22T11:58:57.254034Z",
     "iopub.status.busy": "2022-07-22T11:58:57.252794Z",
     "iopub.status.idle": "2022-07-22T11:58:57.264208Z",
     "shell.execute_reply": "2022-07-22T11:58:57.259120Z"
    },
    "id": "783186fb",
    "papermill": {
     "duration": 0.044342,
     "end_time": "2022-07-22T11:58:57.280116",
     "exception": false,
     "start_time": "2022-07-22T11:58:57.235774",
     "status": "completed"
    },
    "tags": [
     "parameters"
    ]
   },
   "outputs": [],
   "source": [
    "variance = 1\n",
    "bias = 1 "
   ]
  },
  {
   "cell_type": "code",
   "execution_count": 4,
   "id": "5c0a5349",
   "metadata": {
    "execution": {
     "iopub.execute_input": "2022-07-22T11:58:57.317961Z",
     "iopub.status.busy": "2022-07-22T11:58:57.317427Z",
     "iopub.status.idle": "2022-07-22T11:58:57.324599Z",
     "shell.execute_reply": "2022-07-22T11:58:57.322264Z"
    },
    "papermill": {
     "duration": 0.043384,
     "end_time": "2022-07-22T11:58:57.338523",
     "exception": false,
     "start_time": "2022-07-22T11:58:57.295139",
     "status": "completed"
    },
    "tags": [
     "injected-parameters"
    ]
   },
   "outputs": [],
   "source": [
    "# Parameters\n",
    "variance = 0.01\n",
    "bias = 0.1\n"
   ]
  },
  {
   "cell_type": "markdown",
   "id": "391cdbfd",
   "metadata": {
    "id": "391cdbfd",
    "papermill": {
     "duration": 0.014095,
     "end_time": "2022-07-22T11:58:57.374516",
     "exception": false,
     "start_time": "2022-07-22T11:58:57.360421",
     "status": "completed"
    },
    "tags": []
   },
   "source": [
    "## Dataset \n"
   ]
  },
  {
   "cell_type": "code",
   "execution_count": 5,
   "id": "5b51f161",
   "metadata": {
    "execution": {
     "iopub.execute_input": "2022-07-22T11:58:57.470734Z",
     "iopub.status.busy": "2022-07-22T11:58:57.469576Z",
     "iopub.status.idle": "2022-07-22T11:58:57.477036Z",
     "shell.execute_reply": "2022-07-22T11:58:57.474887Z"
    },
    "id": "5b51f161",
    "papermill": {
     "duration": 0.111884,
     "end_time": "2022-07-22T11:58:57.506032",
     "exception": false,
     "start_time": "2022-07-22T11:58:57.394148",
     "status": "completed"
    },
    "tags": []
   },
   "outputs": [],
   "source": [
    "#Parameters \n",
    "n_features = 4\n",
    "n_samples= 100\n",
    "n_target = 1"
   ]
  },
  {
   "cell_type": "code",
   "execution_count": 6,
   "id": "5d6eced4",
   "metadata": {
    "execution": {
     "iopub.execute_input": "2022-07-22T11:58:57.539487Z",
     "iopub.status.busy": "2022-07-22T11:58:57.538593Z",
     "iopub.status.idle": "2022-07-22T11:58:57.564215Z",
     "shell.execute_reply": "2022-07-22T11:58:57.563190Z"
    },
    "id": "5d6eced4",
    "papermill": {
     "duration": 0.080292,
     "end_time": "2022-07-22T11:58:57.594462",
     "exception": false,
     "start_time": "2022-07-22T11:58:57.514170",
     "status": "completed"
    },
    "tags": []
   },
   "outputs": [
    {
     "name": "stdout",
     "output_type": "stream",
     "text": [
      "          X1           X2        X3        X4         Y\n",
      "0  60.261813  1162.158837  0.615901  2.841391  1.547467\n",
      "1  13.243250  1294.725177  0.820568  5.106595  1.679242\n",
      "2  37.011641  1310.388869  0.411368  9.000701  1.456272\n",
      "3   1.189972   616.839015  0.756472  5.613587  1.732612\n",
      "4  32.380280  1579.404546  0.754512  5.050250  1.434461\n"
     ]
    }
   ],
   "source": [
    "X,Y = friedman3Dataset.friedman3_data(n_samples)"
   ]
  },
  {
   "cell_type": "code",
   "execution_count": 7,
   "id": "fe007438",
   "metadata": {
    "execution": {
     "iopub.execute_input": "2022-07-22T11:58:57.630505Z",
     "iopub.status.busy": "2022-07-22T11:58:57.627564Z",
     "iopub.status.idle": "2022-07-22T11:58:57.646027Z",
     "shell.execute_reply": "2022-07-22T11:58:57.644802Z"
    },
    "id": "fe007438",
    "papermill": {
     "duration": 0.055713,
     "end_time": "2022-07-22T11:58:57.662973",
     "exception": false,
     "start_time": "2022-07-22T11:58:57.607260",
     "status": "completed"
    },
    "tags": []
   },
   "outputs": [],
   "source": [
    "#Train test split for dataset \n",
    "X_train,X_test,Y_train,Y_test = train_test_split(X,Y,test_size = 0.2)\n",
    "train_data = dataset.CustomDataset(X_train,Y_train)\n",
    "test_data = dataset.CustomDataset(X_test,Y_test)\n"
   ]
  },
  {
   "cell_type": "markdown",
   "id": "a9a1af34",
   "metadata": {
    "id": "a9a1af34",
    "papermill": {
     "duration": 0.012204,
     "end_time": "2022-07-22T11:58:57.683310",
     "exception": false,
     "start_time": "2022-07-22T11:58:57.671106",
     "status": "completed"
    },
    "tags": []
   },
   "source": [
    "## Training Parameters "
   ]
  },
  {
   "cell_type": "code",
   "execution_count": 8,
   "id": "952b7fc8",
   "metadata": {
    "execution": {
     "iopub.execute_input": "2022-07-22T11:58:57.703493Z",
     "iopub.status.busy": "2022-07-22T11:58:57.702852Z",
     "iopub.status.idle": "2022-07-22T11:58:57.710130Z",
     "shell.execute_reply": "2022-07-22T11:58:57.708579Z"
    },
    "id": "952b7fc8",
    "papermill": {
     "duration": 0.039572,
     "end_time": "2022-07-22T11:58:57.730584",
     "exception": false,
     "start_time": "2022-07-22T11:58:57.691012",
     "status": "completed"
    },
    "tags": []
   },
   "outputs": [],
   "source": [
    "batch_size = 32\n",
    "n_epochs = 1000\n",
    "#Select the device \n",
    "device = torch.device('cuda' if torch.cuda.is_available() else 'cpu')"
   ]
  },
  {
   "cell_type": "markdown",
   "id": "a95e1600",
   "metadata": {
    "id": "a95e1600",
    "papermill": {
     "duration": 0.05795,
     "end_time": "2022-07-22T11:58:57.826205",
     "exception": false,
     "start_time": "2022-07-22T11:58:57.768255",
     "status": "completed"
    },
    "tags": []
   },
   "source": [
    "# ABC Pre-generator Model \n",
    "\n",
    "1. The catboost model is used as a pre-generator model for the ABC-GAN. \n",
    "2. The model is first trained on the entire dataset \n",
    "3. It generats X,Y pairs and we add some Gaussian noise with mean 0 and variance 1 to it which is then feed as input to the generator.\n"
   ]
  },
  {
   "cell_type": "code",
   "execution_count": 9,
   "id": "ac011ebf",
   "metadata": {
    "execution": {
     "iopub.execute_input": "2022-07-22T11:58:57.893066Z",
     "iopub.status.busy": "2022-07-22T11:58:57.892073Z",
     "iopub.status.idle": "2022-07-22T11:59:29.897060Z",
     "shell.execute_reply": "2022-07-22T11:59:29.895825Z"
    },
    "papermill": {
     "duration": 32.061657,
     "end_time": "2022-07-22T11:59:29.904025",
     "exception": false,
     "start_time": "2022-07-22T11:58:57.842368",
     "status": "completed"
    },
    "tags": []
   },
   "outputs": [
    {
     "name": "stdout",
     "output_type": "stream",
     "text": [
      "Device used : cpu\n"
     ]
    },
    {
     "name": "stdout",
     "output_type": "stream",
     "text": [
      "epoch 0  | loss: 1.14245 | train_mse: 5.74428 | train_mae: 1.78492 |  0:00:00s\n",
      "epoch 1  | loss: 1.04432 | train_mse: 4.36712 | train_mae: 1.5695  |  0:00:00s\n"
     ]
    },
    {
     "name": "stdout",
     "output_type": "stream",
     "text": [
      "epoch 2  | loss: 1.04039 | train_mse: 3.91145 | train_mae: 1.4826  |  0:00:00s\n",
      "epoch 3  | loss: 0.85622 | train_mse: 3.27909 | train_mae: 1.35946 |  0:00:00s\n"
     ]
    },
    {
     "name": "stdout",
     "output_type": "stream",
     "text": [
      "epoch 4  | loss: 0.84592 | train_mse: 2.97781 | train_mae: 1.29797 |  0:00:01s\n"
     ]
    },
    {
     "name": "stdout",
     "output_type": "stream",
     "text": [
      "epoch 5  | loss: 0.83518 | train_mse: 2.47114 | train_mae: 1.20076 |  0:00:01s\n",
      "epoch 6  | loss: 0.95207 | train_mse: 2.0688  | train_mae: 1.10012 |  0:00:01s\n"
     ]
    },
    {
     "name": "stdout",
     "output_type": "stream",
     "text": [
      "epoch 7  | loss: 0.85865 | train_mse: 1.77842 | train_mae: 1.03142 |  0:00:01s\n",
      "epoch 8  | loss: 0.73198 | train_mse: 1.50304 | train_mae: 0.9505  |  0:00:01s\n"
     ]
    },
    {
     "name": "stdout",
     "output_type": "stream",
     "text": [
      "epoch 9  | loss: 0.72256 | train_mse: 1.34159 | train_mae: 0.90451 |  0:00:02s\n"
     ]
    },
    {
     "name": "stdout",
     "output_type": "stream",
     "text": [
      "epoch 10 | loss: 0.75393 | train_mse: 1.23006 | train_mae: 0.87605 |  0:00:02s\n"
     ]
    },
    {
     "name": "stdout",
     "output_type": "stream",
     "text": [
      "epoch 11 | loss: 0.6765  | train_mse: 1.15353 | train_mae: 0.85218 |  0:00:02s\n"
     ]
    },
    {
     "name": "stdout",
     "output_type": "stream",
     "text": [
      "epoch 12 | loss: 0.67331 | train_mse: 1.06015 | train_mae: 0.82059 |  0:00:02s\n",
      "epoch 13 | loss: 0.79164 | train_mse: 0.95488 | train_mae: 0.77976 |  0:00:03s\n"
     ]
    },
    {
     "name": "stdout",
     "output_type": "stream",
     "text": [
      "epoch 14 | loss: 0.63017 | train_mse: 0.86232 | train_mae: 0.74027 |  0:00:03s\n"
     ]
    },
    {
     "name": "stdout",
     "output_type": "stream",
     "text": [
      "epoch 15 | loss: 0.67628 | train_mse: 0.7934  | train_mae: 0.71089 |  0:00:03s\n"
     ]
    },
    {
     "name": "stdout",
     "output_type": "stream",
     "text": [
      "epoch 16 | loss: 0.58142 | train_mse: 0.74444 | train_mae: 0.68649 |  0:00:03s\n"
     ]
    },
    {
     "name": "stdout",
     "output_type": "stream",
     "text": [
      "epoch 17 | loss: 0.65053 | train_mse: 0.72277 | train_mae: 0.67644 |  0:00:04s\n"
     ]
    },
    {
     "name": "stdout",
     "output_type": "stream",
     "text": [
      "epoch 18 | loss: 0.55736 | train_mse: 0.7019  | train_mae: 0.66386 |  0:00:04s\n"
     ]
    },
    {
     "name": "stdout",
     "output_type": "stream",
     "text": [
      "epoch 19 | loss: 0.49769 | train_mse: 0.65888 | train_mae: 0.6383  |  0:00:04s\n",
      "epoch 20 | loss: 0.4813  | train_mse: 0.63359 | train_mae: 0.62409 |  0:00:04s\n"
     ]
    },
    {
     "name": "stdout",
     "output_type": "stream",
     "text": [
      "epoch 21 | loss: 0.51077 | train_mse: 0.61521 | train_mae: 0.61616 |  0:00:05s\n"
     ]
    },
    {
     "name": "stdout",
     "output_type": "stream",
     "text": [
      "epoch 22 | loss: 0.60305 | train_mse: 0.59781 | train_mae: 0.60875 |  0:00:05s\n",
      "epoch 23 | loss: 0.61499 | train_mse: 0.58033 | train_mae: 0.59935 |  0:00:05s\n"
     ]
    },
    {
     "name": "stdout",
     "output_type": "stream",
     "text": [
      "epoch 24 | loss: 0.51234 | train_mse: 0.55115 | train_mae: 0.58391 |  0:00:05s\n",
      "epoch 25 | loss: 0.62371 | train_mse: 0.52665 | train_mae: 0.56995 |  0:00:05s\n"
     ]
    },
    {
     "name": "stdout",
     "output_type": "stream",
     "text": [
      "epoch 26 | loss: 0.40945 | train_mse: 0.49726 | train_mae: 0.55109 |  0:00:06s\n",
      "epoch 27 | loss: 0.46366 | train_mse: 0.46964 | train_mae: 0.53441 |  0:00:06s\n"
     ]
    },
    {
     "name": "stdout",
     "output_type": "stream",
     "text": [
      "epoch 28 | loss: 0.55452 | train_mse: 0.45372 | train_mae: 0.52319 |  0:00:06s\n",
      "epoch 29 | loss: 0.42539 | train_mse: 0.44524 | train_mae: 0.5176  |  0:00:06s\n"
     ]
    },
    {
     "name": "stdout",
     "output_type": "stream",
     "text": [
      "epoch 30 | loss: 0.56407 | train_mse: 0.44337 | train_mae: 0.51603 |  0:00:06s\n",
      "epoch 31 | loss: 0.68412 | train_mse: 0.4435  | train_mae: 0.51602 |  0:00:06s\n"
     ]
    },
    {
     "name": "stdout",
     "output_type": "stream",
     "text": [
      "epoch 32 | loss: 0.48641 | train_mse: 0.43327 | train_mae: 0.50969 |  0:00:07s\n",
      "epoch 33 | loss: 0.54895 | train_mse: 0.4319  | train_mae: 0.50591 |  0:00:07s\n"
     ]
    },
    {
     "name": "stdout",
     "output_type": "stream",
     "text": [
      "epoch 34 | loss: 0.6088  | train_mse: 0.42564 | train_mae: 0.49801 |  0:00:07s\n",
      "epoch 35 | loss: 0.41842 | train_mse: 0.41751 | train_mae: 0.49251 |  0:00:07s\n"
     ]
    },
    {
     "name": "stdout",
     "output_type": "stream",
     "text": [
      "epoch 36 | loss: 0.40741 | train_mse: 0.4106  | train_mae: 0.48819 |  0:00:07s\n",
      "epoch 37 | loss: 0.48268 | train_mse: 0.40088 | train_mae: 0.47872 |  0:00:07s\n"
     ]
    },
    {
     "name": "stdout",
     "output_type": "stream",
     "text": [
      "epoch 38 | loss: 0.46944 | train_mse: 0.37374 | train_mae: 0.4635  |  0:00:07s\n",
      "epoch 39 | loss: 0.39804 | train_mse: 0.35353 | train_mae: 0.45121 |  0:00:07s\n",
      "epoch 40 | loss: 0.4085  | train_mse: 0.33754 | train_mae: 0.44293 |  0:00:07s\n"
     ]
    },
    {
     "name": "stdout",
     "output_type": "stream",
     "text": [
      "epoch 41 | loss: 0.34743 | train_mse: 0.31918 | train_mae: 0.43292 |  0:00:08s\n",
      "epoch 42 | loss: 0.53291 | train_mse: 0.30414 | train_mae: 0.42216 |  0:00:08s\n",
      "epoch 43 | loss: 0.47874 | train_mse: 0.29624 | train_mae: 0.42137 |  0:00:08s\n"
     ]
    },
    {
     "name": "stdout",
     "output_type": "stream",
     "text": [
      "epoch 44 | loss: 0.37936 | train_mse: 0.29138 | train_mae: 0.41713 |  0:00:08s\n",
      "epoch 45 | loss: 0.31795 | train_mse: 0.27886 | train_mae: 0.40732 |  0:00:08s\n",
      "epoch 46 | loss: 0.47376 | train_mse: 0.26871 | train_mae: 0.39582 |  0:00:08s\n"
     ]
    },
    {
     "name": "stdout",
     "output_type": "stream",
     "text": [
      "epoch 47 | loss: 0.45822 | train_mse: 0.26301 | train_mae: 0.39383 |  0:00:08s\n",
      "epoch 48 | loss: 0.34744 | train_mse: 0.25908 | train_mae: 0.39298 |  0:00:08s\n",
      "epoch 49 | loss: 0.31523 | train_mse: 0.24755 | train_mae: 0.38757 |  0:00:08s\n"
     ]
    },
    {
     "name": "stdout",
     "output_type": "stream",
     "text": [
      "epoch 50 | loss: 0.26269 | train_mse: 0.23888 | train_mae: 0.38226 |  0:00:08s\n",
      "epoch 51 | loss: 0.35549 | train_mse: 0.22782 | train_mae: 0.37152 |  0:00:08s\n",
      "epoch 52 | loss: 0.3781  | train_mse: 0.21581 | train_mae: 0.36625 |  0:00:09s\n"
     ]
    },
    {
     "name": "stdout",
     "output_type": "stream",
     "text": [
      "epoch 53 | loss: 0.29156 | train_mse: 0.21158 | train_mae: 0.37019 |  0:00:09s\n",
      "epoch 54 | loss: 0.2363  | train_mse: 0.20183 | train_mae: 0.3617  |  0:00:09s\n",
      "epoch 55 | loss: 0.36591 | train_mse: 0.19186 | train_mae: 0.35265 |  0:00:09s\n"
     ]
    },
    {
     "name": "stdout",
     "output_type": "stream",
     "text": [
      "epoch 56 | loss: 0.35951 | train_mse: 0.18467 | train_mae: 0.34533 |  0:00:09s\n",
      "epoch 57 | loss: 0.33843 | train_mse: 0.18336 | train_mae: 0.34332 |  0:00:09s\n",
      "epoch 58 | loss: 0.21567 | train_mse: 0.26691 | train_mae: 0.3706  |  0:00:09s\n"
     ]
    },
    {
     "name": "stdout",
     "output_type": "stream",
     "text": [
      "epoch 59 | loss: 0.27381 | train_mse: 0.25618 | train_mae: 0.36913 |  0:00:09s\n",
      "epoch 60 | loss: 0.36098 | train_mse: 0.26317 | train_mae: 0.37562 |  0:00:09s\n",
      "epoch 61 | loss: 0.35305 | train_mse: 0.26164 | train_mae: 0.37594 |  0:00:09s\n"
     ]
    },
    {
     "name": "stdout",
     "output_type": "stream",
     "text": [
      "epoch 62 | loss: 0.30423 | train_mse: 0.2441  | train_mae: 0.36912 |  0:00:09s\n",
      "epoch 63 | loss: 0.25574 | train_mse: 0.23473 | train_mae: 0.36441 |  0:00:10s\n",
      "epoch 64 | loss: 0.29655 | train_mse: 0.22966 | train_mae: 0.36168 |  0:00:10s\n"
     ]
    },
    {
     "name": "stdout",
     "output_type": "stream",
     "text": [
      "epoch 65 | loss: 0.51328 | train_mse: 0.22664 | train_mae: 0.35786 |  0:00:10s\n",
      "epoch 66 | loss: 0.28967 | train_mse: 0.22506 | train_mae: 0.3557  |  0:00:10s\n",
      "epoch 67 | loss: 0.36962 | train_mse: 0.23282 | train_mae: 0.35843 |  0:00:10s\n"
     ]
    },
    {
     "name": "stdout",
     "output_type": "stream",
     "text": [
      "epoch 68 | loss: 0.27604 | train_mse: 0.23515 | train_mae: 0.35786 |  0:00:10s\n",
      "epoch 69 | loss: 0.27269 | train_mse: 0.2489  | train_mae: 0.35624 |  0:00:10s\n",
      "epoch 70 | loss: 0.2404  | train_mse: 0.26135 | train_mae: 0.35924 |  0:00:10s\n"
     ]
    },
    {
     "name": "stdout",
     "output_type": "stream",
     "text": [
      "epoch 71 | loss: 0.43357 | train_mse: 0.24931 | train_mae: 0.35497 |  0:00:10s\n",
      "epoch 72 | loss: 0.38054 | train_mse: 0.22105 | train_mae: 0.3477  |  0:00:10s\n",
      "epoch 73 | loss: 0.43656 | train_mse: 0.2172  | train_mae: 0.34656 |  0:00:10s\n"
     ]
    },
    {
     "name": "stdout",
     "output_type": "stream",
     "text": [
      "epoch 74 | loss: 0.2617  | train_mse: 0.21218 | train_mae: 0.34111 |  0:00:10s\n",
      "epoch 75 | loss: 0.44367 | train_mse: 0.2162  | train_mae: 0.3455  |  0:00:11s\n",
      "epoch 76 | loss: 0.33231 | train_mse: 0.21074 | train_mae: 0.34307 |  0:00:11s\n"
     ]
    },
    {
     "name": "stdout",
     "output_type": "stream",
     "text": [
      "epoch 77 | loss: 0.32037 | train_mse: 0.19944 | train_mae: 0.33711 |  0:00:11s\n",
      "epoch 78 | loss: 0.44779 | train_mse: 0.19942 | train_mae: 0.33897 |  0:00:11s\n"
     ]
    },
    {
     "name": "stdout",
     "output_type": "stream",
     "text": [
      "epoch 79 | loss: 0.30933 | train_mse: 0.19499 | train_mae: 0.3371  |  0:00:11s\n",
      "epoch 80 | loss: 0.22899 | train_mse: 0.18865 | train_mae: 0.333   |  0:00:11s\n",
      "epoch 81 | loss: 0.24745 | train_mse: 0.18253 | train_mae: 0.33128 |  0:00:11s\n"
     ]
    },
    {
     "name": "stdout",
     "output_type": "stream",
     "text": [
      "epoch 82 | loss: 0.38627 | train_mse: 0.1743  | train_mae: 0.32546 |  0:00:11s\n",
      "epoch 83 | loss: 0.51406 | train_mse: 0.16477 | train_mae: 0.31783 |  0:00:11s\n",
      "epoch 84 | loss: 0.36409 | train_mse: 0.16111 | train_mae: 0.31602 |  0:00:11s\n"
     ]
    },
    {
     "name": "stdout",
     "output_type": "stream",
     "text": [
      "epoch 85 | loss: 0.31093 | train_mse: 0.15755 | train_mae: 0.31075 |  0:00:12s\n",
      "epoch 86 | loss: 0.37164 | train_mse: 0.15613 | train_mae: 0.30886 |  0:00:12s\n",
      "epoch 87 | loss: 0.2545  | train_mse: 0.15516 | train_mae: 0.30633 |  0:00:12s\n"
     ]
    },
    {
     "name": "stdout",
     "output_type": "stream",
     "text": [
      "epoch 88 | loss: 0.28006 | train_mse: 0.15479 | train_mae: 0.30843 |  0:00:12s\n",
      "epoch 89 | loss: 0.2653  | train_mse: 0.15997 | train_mae: 0.31388 |  0:00:12s\n",
      "epoch 90 | loss: 0.34387 | train_mse: 0.17547 | train_mae: 0.32118 |  0:00:12s\n"
     ]
    },
    {
     "name": "stdout",
     "output_type": "stream",
     "text": [
      "epoch 91 | loss: 0.46363 | train_mse: 0.18974 | train_mae: 0.32524 |  0:00:12s\n",
      "epoch 92 | loss: 0.34804 | train_mse: 0.18766 | train_mae: 0.31978 |  0:00:12s\n",
      "epoch 93 | loss: 0.49143 | train_mse: 0.19841 | train_mae: 0.31787 |  0:00:12s\n"
     ]
    },
    {
     "name": "stdout",
     "output_type": "stream",
     "text": [
      "epoch 94 | loss: 0.47088 | train_mse: 0.17429 | train_mae: 0.3059  |  0:00:12s\n",
      "epoch 95 | loss: 0.2208  | train_mse: 0.16014 | train_mae: 0.30337 |  0:00:12s\n"
     ]
    },
    {
     "name": "stdout",
     "output_type": "stream",
     "text": [
      "epoch 96 | loss: 0.48597 | train_mse: 0.15563 | train_mae: 0.30226 |  0:00:13s\n"
     ]
    },
    {
     "name": "stdout",
     "output_type": "stream",
     "text": [
      "epoch 97 | loss: 0.36498 | train_mse: 0.15928 | train_mae: 0.30211 |  0:00:13s\n"
     ]
    },
    {
     "name": "stdout",
     "output_type": "stream",
     "text": [
      "epoch 98 | loss: 0.27538 | train_mse: 0.17314 | train_mae: 0.30671 |  0:00:13s\n",
      "epoch 99 | loss: 0.25285 | train_mse: 0.17807 | train_mae: 0.30745 |  0:00:13s\n"
     ]
    },
    {
     "name": "stdout",
     "output_type": "stream",
     "text": [
      "epoch 100| loss: 0.35009 | train_mse: 0.17823 | train_mae: 0.30396 |  0:00:13s\n",
      "epoch 101| loss: 0.33093 | train_mse: 0.13704 | train_mae: 0.28427 |  0:00:13s\n"
     ]
    },
    {
     "name": "stdout",
     "output_type": "stream",
     "text": [
      "epoch 102| loss: 0.30514 | train_mse: 0.12903 | train_mae: 0.27729 |  0:00:14s\n",
      "epoch 103| loss: 0.17187 | train_mse: 0.12619 | train_mae: 0.27968 |  0:00:14s\n"
     ]
    },
    {
     "name": "stdout",
     "output_type": "stream",
     "text": [
      "epoch 104| loss: 0.37664 | train_mse: 0.12211 | train_mae: 0.2702  |  0:00:14s\n"
     ]
    },
    {
     "name": "stdout",
     "output_type": "stream",
     "text": [
      "epoch 105| loss: 0.21073 | train_mse: 0.11909 | train_mae: 0.26515 |  0:00:14s\n"
     ]
    },
    {
     "name": "stdout",
     "output_type": "stream",
     "text": [
      "epoch 106| loss: 0.29564 | train_mse: 0.11903 | train_mae: 0.26422 |  0:00:14s\n",
      "epoch 107| loss: 0.21886 | train_mse: 0.11744 | train_mae: 0.26078 |  0:00:15s\n"
     ]
    },
    {
     "name": "stdout",
     "output_type": "stream",
     "text": [
      "epoch 108| loss: 0.35117 | train_mse: 0.12073 | train_mae: 0.26575 |  0:00:15s\n"
     ]
    },
    {
     "name": "stdout",
     "output_type": "stream",
     "text": [
      "epoch 109| loss: 0.31657 | train_mse: 0.12491 | train_mae: 0.27158 |  0:00:15s\n",
      "epoch 110| loss: 0.33921 | train_mse: 0.12228 | train_mae: 0.26527 |  0:00:15s\n",
      "epoch 111| loss: 0.31452 | train_mse: 0.12094 | train_mae: 0.26211 |  0:00:15s\n"
     ]
    },
    {
     "name": "stdout",
     "output_type": "stream",
     "text": [
      "epoch 112| loss: 0.38267 | train_mse: 0.12288 | train_mae: 0.26399 |  0:00:15s\n",
      "epoch 113| loss: 0.31621 | train_mse: 0.12617 | train_mae: 0.27155 |  0:00:15s\n",
      "epoch 114| loss: 0.47952 | train_mse: 0.12576 | train_mae: 0.27145 |  0:00:15s\n"
     ]
    },
    {
     "name": "stdout",
     "output_type": "stream",
     "text": [
      "epoch 115| loss: 0.19542 | train_mse: 0.12495 | train_mae: 0.27249 |  0:00:16s\n",
      "epoch 116| loss: 0.28893 | train_mse: 0.12443 | train_mae: 0.27201 |  0:00:16s\n",
      "epoch 117| loss: 0.28945 | train_mse: 0.12402 | train_mae: 0.27048 |  0:00:16s\n"
     ]
    },
    {
     "name": "stdout",
     "output_type": "stream",
     "text": [
      "epoch 118| loss: 0.18534 | train_mse: 0.12411 | train_mae: 0.26875 |  0:00:16s\n",
      "epoch 119| loss: 0.29423 | train_mse: 0.12236 | train_mae: 0.26729 |  0:00:16s\n"
     ]
    },
    {
     "name": "stdout",
     "output_type": "stream",
     "text": [
      "epoch 120| loss: 0.21228 | train_mse: 0.12322 | train_mae: 0.27011 |  0:00:16s\n",
      "epoch 121| loss: 0.29194 | train_mse: 0.12239 | train_mae: 0.26997 |  0:00:16s\n",
      "epoch 122| loss: 0.34274 | train_mse: 0.12558 | train_mae: 0.27519 |  0:00:16s\n"
     ]
    },
    {
     "name": "stdout",
     "output_type": "stream",
     "text": [
      "epoch 123| loss: 0.30469 | train_mse: 0.12705 | train_mae: 0.27765 |  0:00:16s\n",
      "epoch 124| loss: 0.40559 | train_mse: 0.12893 | train_mae: 0.28076 |  0:00:16s\n",
      "epoch 125| loss: 0.27797 | train_mse: 0.12886 | train_mae: 0.28092 |  0:00:16s\n"
     ]
    },
    {
     "name": "stdout",
     "output_type": "stream",
     "text": [
      "epoch 126| loss: 0.22289 | train_mse: 0.12924 | train_mae: 0.2806  |  0:00:16s\n",
      "epoch 127| loss: 0.50796 | train_mse: 0.12883 | train_mae: 0.28177 |  0:00:17s\n",
      "epoch 128| loss: 0.36905 | train_mse: 0.12472 | train_mae: 0.27836 |  0:00:17s\n"
     ]
    },
    {
     "name": "stdout",
     "output_type": "stream",
     "text": [
      "epoch 129| loss: 0.18862 | train_mse: 0.12281 | train_mae: 0.27519 |  0:00:17s\n",
      "epoch 130| loss: 0.32231 | train_mse: 0.12152 | train_mae: 0.2728  |  0:00:17s\n",
      "epoch 131| loss: 0.22147 | train_mse: 0.11988 | train_mae: 0.27012 |  0:00:17s\n"
     ]
    },
    {
     "name": "stdout",
     "output_type": "stream",
     "text": [
      "epoch 132| loss: 0.37989 | train_mse: 0.11562 | train_mae: 0.26404 |  0:00:17s\n",
      "epoch 133| loss: 0.23315 | train_mse: 0.11126 | train_mae: 0.25813 |  0:00:17s\n",
      "epoch 134| loss: 0.21865 | train_mse: 0.10499 | train_mae: 0.25276 |  0:00:17s\n"
     ]
    },
    {
     "name": "stdout",
     "output_type": "stream",
     "text": [
      "epoch 135| loss: 0.24968 | train_mse: 0.10268 | train_mae: 0.25009 |  0:00:17s\n",
      "epoch 136| loss: 0.30688 | train_mse: 0.10051 | train_mae: 0.24711 |  0:00:17s\n",
      "epoch 137| loss: 0.2331  | train_mse: 0.09872 | train_mae: 0.24241 |  0:00:17s\n"
     ]
    },
    {
     "name": "stdout",
     "output_type": "stream",
     "text": [
      "epoch 138| loss: 0.23742 | train_mse: 0.09779 | train_mae: 0.24096 |  0:00:18s\n",
      "epoch 139| loss: 0.28257 | train_mse: 0.09827 | train_mae: 0.24411 |  0:00:18s\n"
     ]
    },
    {
     "name": "stdout",
     "output_type": "stream",
     "text": [
      "epoch 140| loss: 0.13331 | train_mse: 0.10396 | train_mae: 0.25294 |  0:00:18s\n",
      "epoch 141| loss: 0.3465  | train_mse: 0.11054 | train_mae: 0.26364 |  0:00:18s\n"
     ]
    },
    {
     "name": "stdout",
     "output_type": "stream",
     "text": [
      "epoch 142| loss: 0.20426 | train_mse: 0.11627 | train_mae: 0.27054 |  0:00:18s\n",
      "epoch 143| loss: 0.20447 | train_mse: 0.11947 | train_mae: 0.27408 |  0:00:18s\n",
      "epoch 144| loss: 0.16576 | train_mse: 0.11371 | train_mae: 0.26863 |  0:00:18s\n"
     ]
    },
    {
     "name": "stdout",
     "output_type": "stream",
     "text": [
      "epoch 145| loss: 0.27491 | train_mse: 0.10594 | train_mae: 0.25771 |  0:00:18s\n",
      "epoch 146| loss: 0.17961 | train_mse: 0.1041  | train_mae: 0.25315 |  0:00:18s\n",
      "epoch 147| loss: 0.22179 | train_mse: 0.10771 | train_mae: 0.25293 |  0:00:18s\n"
     ]
    },
    {
     "name": "stdout",
     "output_type": "stream",
     "text": [
      "epoch 148| loss: 0.24411 | train_mse: 0.1041  | train_mae: 0.24768 |  0:00:18s\n",
      "epoch 149| loss: 0.14699 | train_mse: 0.10442 | train_mae: 0.24801 |  0:00:19s\n",
      "epoch 150| loss: 0.13593 | train_mse: 0.10336 | train_mae: 0.24667 |  0:00:19s\n"
     ]
    },
    {
     "name": "stdout",
     "output_type": "stream",
     "text": [
      "epoch 151| loss: 0.13406 | train_mse: 0.10038 | train_mae: 0.24287 |  0:00:19s\n",
      "epoch 152| loss: 0.13428 | train_mse: 0.09291 | train_mae: 0.23708 |  0:00:19s\n",
      "epoch 153| loss: 0.16061 | train_mse: 0.08833 | train_mae: 0.23459 |  0:00:19s\n"
     ]
    },
    {
     "name": "stdout",
     "output_type": "stream",
     "text": [
      "epoch 154| loss: 0.17615 | train_mse: 0.08534 | train_mae: 0.23232 |  0:00:19s\n",
      "epoch 155| loss: 0.30503 | train_mse: 0.0829  | train_mae: 0.23117 |  0:00:19s\n",
      "epoch 156| loss: 0.18376 | train_mse: 0.08128 | train_mae: 0.22907 |  0:00:19s\n"
     ]
    },
    {
     "name": "stdout",
     "output_type": "stream",
     "text": [
      "epoch 157| loss: 0.17765 | train_mse: 0.08024 | train_mae: 0.22727 |  0:00:19s\n",
      "epoch 158| loss: 0.20032 | train_mse: 0.081   | train_mae: 0.22854 |  0:00:19s\n",
      "epoch 159| loss: 0.2199  | train_mse: 0.08163 | train_mae: 0.23086 |  0:00:19s\n"
     ]
    },
    {
     "name": "stdout",
     "output_type": "stream",
     "text": [
      "epoch 160| loss: 0.2791  | train_mse: 0.08119 | train_mae: 0.2322  |  0:00:20s\n",
      "epoch 161| loss: 0.18411 | train_mse: 0.08181 | train_mae: 0.2349  |  0:00:20s\n",
      "epoch 162| loss: 0.2934  | train_mse: 0.08492 | train_mae: 0.2375  |  0:00:20s\n"
     ]
    },
    {
     "name": "stdout",
     "output_type": "stream",
     "text": [
      "epoch 163| loss: 0.23913 | train_mse: 0.09439 | train_mae: 0.24646 |  0:00:20s\n",
      "epoch 164| loss: 0.15479 | train_mse: 0.10015 | train_mae: 0.25296 |  0:00:20s\n",
      "epoch 165| loss: 0.28744 | train_mse: 0.10789 | train_mae: 0.25731 |  0:00:20s\n"
     ]
    },
    {
     "name": "stdout",
     "output_type": "stream",
     "text": [
      "epoch 166| loss: 0.177   | train_mse: 0.1108  | train_mae: 0.25948 |  0:00:20s\n",
      "epoch 167| loss: 0.15012 | train_mse: 0.10808 | train_mae: 0.25619 |  0:00:20s\n",
      "epoch 168| loss: 0.15702 | train_mse: 0.11057 | train_mae: 0.25839 |  0:00:20s\n"
     ]
    },
    {
     "name": "stdout",
     "output_type": "stream",
     "text": [
      "epoch 169| loss: 0.15241 | train_mse: 0.10899 | train_mae: 0.25675 |  0:00:20s\n",
      "epoch 170| loss: 0.35105 | train_mse: 0.10147 | train_mae: 0.24857 |  0:00:20s\n",
      "epoch 171| loss: 0.23048 | train_mse: 0.0935  | train_mae: 0.24022 |  0:00:20s\n"
     ]
    },
    {
     "name": "stdout",
     "output_type": "stream",
     "text": [
      "epoch 172| loss: 0.26327 | train_mse: 0.08983 | train_mae: 0.23632 |  0:00:21s\n",
      "epoch 173| loss: 0.42203 | train_mse: 0.08278 | train_mae: 0.22871 |  0:00:21s\n",
      "epoch 174| loss: 0.1774  | train_mse: 0.08297 | train_mae: 0.22915 |  0:00:21s\n"
     ]
    },
    {
     "name": "stdout",
     "output_type": "stream",
     "text": [
      "epoch 175| loss: 0.3591  | train_mse: 0.08205 | train_mae: 0.22687 |  0:00:21s\n",
      "epoch 176| loss: 0.12355 | train_mse: 0.08358 | train_mae: 0.2276  |  0:00:21s\n",
      "epoch 177| loss: 0.2354  | train_mse: 0.08493 | train_mae: 0.23011 |  0:00:21s\n"
     ]
    },
    {
     "name": "stdout",
     "output_type": "stream",
     "text": [
      "epoch 178| loss: 0.15539 | train_mse: 0.08638 | train_mae: 0.23247 |  0:00:21s\n",
      "epoch 179| loss: 0.41167 | train_mse: 0.08958 | train_mae: 0.23659 |  0:00:21s\n",
      "epoch 180| loss: 0.16545 | train_mse: 0.09316 | train_mae: 0.24085 |  0:00:21s\n"
     ]
    },
    {
     "name": "stdout",
     "output_type": "stream",
     "text": [
      "epoch 181| loss: 0.22927 | train_mse: 0.09521 | train_mae: 0.24424 |  0:00:21s\n",
      "epoch 182| loss: 0.19119 | train_mse: 0.09195 | train_mae: 0.24105 |  0:00:21s\n",
      "epoch 183| loss: 0.28646 | train_mse: 0.09368 | train_mae: 0.24549 |  0:00:21s\n"
     ]
    },
    {
     "name": "stdout",
     "output_type": "stream",
     "text": [
      "epoch 184| loss: 0.16168 | train_mse: 0.09793 | train_mae: 0.25115 |  0:00:22s\n",
      "epoch 185| loss: 0.16528 | train_mse: 0.09843 | train_mae: 0.25223 |  0:00:22s\n",
      "epoch 186| loss: 0.1914  | train_mse: 0.09485 | train_mae: 0.24873 |  0:00:22s\n"
     ]
    },
    {
     "name": "stdout",
     "output_type": "stream",
     "text": [
      "epoch 187| loss: 0.18189 | train_mse: 0.09226 | train_mae: 0.24497 |  0:00:22s\n",
      "epoch 188| loss: 0.28152 | train_mse: 0.08637 | train_mae: 0.23733 |  0:00:22s\n",
      "epoch 189| loss: 0.38339 | train_mse: 0.0827  | train_mae: 0.23232 |  0:00:22s\n"
     ]
    },
    {
     "name": "stdout",
     "output_type": "stream",
     "text": [
      "epoch 190| loss: 0.20736 | train_mse: 0.0799  | train_mae: 0.22866 |  0:00:22s\n"
     ]
    },
    {
     "name": "stdout",
     "output_type": "stream",
     "text": [
      "epoch 191| loss: 0.17288 | train_mse: 0.07631 | train_mae: 0.22717 |  0:00:22s\n",
      "epoch 192| loss: 0.18582 | train_mse: 0.07581 | train_mae: 0.22869 |  0:00:22s\n",
      "epoch 193| loss: 0.25583 | train_mse: 0.07533 | train_mae: 0.22615 |  0:00:23s\n"
     ]
    },
    {
     "name": "stdout",
     "output_type": "stream",
     "text": [
      "epoch 194| loss: 0.1376  | train_mse: 0.07568 | train_mae: 0.22584 |  0:00:23s\n",
      "epoch 195| loss: 0.20649 | train_mse: 0.07419 | train_mae: 0.22335 |  0:00:23s\n"
     ]
    },
    {
     "name": "stdout",
     "output_type": "stream",
     "text": [
      "epoch 196| loss: 0.20544 | train_mse: 0.07217 | train_mae: 0.22026 |  0:00:23s\n",
      "epoch 197| loss: 0.31    | train_mse: 0.06965 | train_mae: 0.2151  |  0:00:23s\n",
      "epoch 198| loss: 0.18351 | train_mse: 0.06986 | train_mae: 0.21483 |  0:00:23s\n"
     ]
    },
    {
     "name": "stdout",
     "output_type": "stream",
     "text": [
      "epoch 199| loss: 0.17911 | train_mse: 0.07112 | train_mae: 0.21429 |  0:00:23s\n",
      "epoch 200| loss: 0.15552 | train_mse: 0.07159 | train_mae: 0.21651 |  0:00:23s\n",
      "epoch 201| loss: 0.37693 | train_mse: 0.07173 | train_mae: 0.21909 |  0:00:23s\n"
     ]
    },
    {
     "name": "stdout",
     "output_type": "stream",
     "text": [
      "epoch 202| loss: 0.35107 | train_mse: 0.07158 | train_mae: 0.22027 |  0:00:23s\n",
      "epoch 203| loss: 0.1591  | train_mse: 0.07318 | train_mae: 0.22311 |  0:00:23s\n",
      "epoch 204| loss: 0.16415 | train_mse: 0.07509 | train_mae: 0.22492 |  0:00:24s\n"
     ]
    },
    {
     "name": "stdout",
     "output_type": "stream",
     "text": [
      "epoch 205| loss: 0.17244 | train_mse: 0.07663 | train_mae: 0.22586 |  0:00:24s\n",
      "epoch 206| loss: 0.21797 | train_mse: 0.07701 | train_mae: 0.22545 |  0:00:24s\n"
     ]
    },
    {
     "name": "stdout",
     "output_type": "stream",
     "text": [
      "epoch 207| loss: 0.15726 | train_mse: 0.07759 | train_mae: 0.22494 |  0:00:24s\n",
      "epoch 208| loss: 0.16287 | train_mse: 0.07875 | train_mae: 0.22446 |  0:00:24s\n",
      "epoch 209| loss: 0.13783 | train_mse: 0.07729 | train_mae: 0.22062 |  0:00:24s\n"
     ]
    },
    {
     "name": "stdout",
     "output_type": "stream",
     "text": [
      "epoch 210| loss: 0.13993 | train_mse: 0.07791 | train_mae: 0.22065 |  0:00:24s\n",
      "epoch 211| loss: 0.15218 | train_mse: 0.07949 | train_mae: 0.22391 |  0:00:24s\n",
      "epoch 212| loss: 0.23795 | train_mse: 0.08298 | train_mae: 0.22894 |  0:00:24s\n"
     ]
    },
    {
     "name": "stdout",
     "output_type": "stream",
     "text": [
      "epoch 213| loss: 0.44788 | train_mse: 0.08308 | train_mae: 0.23028 |  0:00:24s\n",
      "epoch 214| loss: 0.13978 | train_mse: 0.08453 | train_mae: 0.23133 |  0:00:24s\n",
      "epoch 215| loss: 0.18996 | train_mse: 0.08256 | train_mae: 0.22906 |  0:00:25s\n"
     ]
    },
    {
     "name": "stdout",
     "output_type": "stream",
     "text": [
      "epoch 216| loss: 0.15086 | train_mse: 0.08177 | train_mae: 0.23051 |  0:00:25s\n",
      "epoch 217| loss: 0.18129 | train_mse: 0.08026 | train_mae: 0.22749 |  0:00:25s\n",
      "epoch 218| loss: 0.23555 | train_mse: 0.07941 | train_mae: 0.22553 |  0:00:25s\n"
     ]
    },
    {
     "name": "stdout",
     "output_type": "stream",
     "text": [
      "epoch 219| loss: 0.16027 | train_mse: 0.0796  | train_mae: 0.22517 |  0:00:25s\n",
      "epoch 220| loss: 0.11237 | train_mse: 0.08032 | train_mae: 0.22565 |  0:00:25s\n",
      "epoch 221| loss: 0.21987 | train_mse: 0.08903 | train_mae: 0.23148 |  0:00:25s\n"
     ]
    },
    {
     "name": "stdout",
     "output_type": "stream",
     "text": [
      "epoch 222| loss: 0.13073 | train_mse: 0.08303 | train_mae: 0.22702 |  0:00:25s\n",
      "epoch 223| loss: 0.14233 | train_mse: 0.0822  | train_mae: 0.22552 |  0:00:25s\n",
      "epoch 224| loss: 0.38952 | train_mse: 0.0821  | train_mae: 0.22677 |  0:00:25s\n"
     ]
    },
    {
     "name": "stdout",
     "output_type": "stream",
     "text": [
      "epoch 225| loss: 0.14945 | train_mse: 0.08361 | train_mae: 0.23055 |  0:00:25s\n",
      "epoch 226| loss: 0.18077 | train_mse: 0.08654 | train_mae: 0.23607 |  0:00:26s\n",
      "epoch 227| loss: 0.26584 | train_mse: 0.09152 | train_mae: 0.24079 |  0:00:26s\n"
     ]
    },
    {
     "name": "stdout",
     "output_type": "stream",
     "text": [
      "epoch 228| loss: 0.14501 | train_mse: 0.09003 | train_mae: 0.23905 |  0:00:26s\n",
      "epoch 229| loss: 0.27407 | train_mse: 0.08352 | train_mae: 0.23226 |  0:00:26s\n",
      "epoch 230| loss: 0.18686 | train_mse: 0.0797  | train_mae: 0.22917 |  0:00:26s\n"
     ]
    },
    {
     "name": "stdout",
     "output_type": "stream",
     "text": [
      "epoch 231| loss: 0.12337 | train_mse: 0.07777 | train_mae: 0.22856 |  0:00:26s\n",
      "epoch 232| loss: 0.207   | train_mse: 0.07502 | train_mae: 0.22607 |  0:00:26s\n",
      "epoch 233| loss: 0.12062 | train_mse: 0.07502 | train_mae: 0.22605 |  0:00:26s\n"
     ]
    },
    {
     "name": "stdout",
     "output_type": "stream",
     "text": [
      "epoch 234| loss: 0.13127 | train_mse: 0.07508 | train_mae: 0.22537 |  0:00:26s\n",
      "epoch 235| loss: 0.2545  | train_mse: 0.07524 | train_mae: 0.22702 |  0:00:26s\n",
      "epoch 236| loss: 0.30874 | train_mse: 0.07034 | train_mae: 0.22046 |  0:00:26s\n"
     ]
    },
    {
     "name": "stdout",
     "output_type": "stream",
     "text": [
      "epoch 237| loss: 0.24589 | train_mse: 0.06449 | train_mae: 0.21245 |  0:00:26s\n",
      "epoch 238| loss: 0.15426 | train_mse: 0.06143 | train_mae: 0.20774 |  0:00:27s\n",
      "epoch 239| loss: 0.12009 | train_mse: 0.05961 | train_mae: 0.20473 |  0:00:27s\n"
     ]
    },
    {
     "name": "stdout",
     "output_type": "stream",
     "text": [
      "epoch 240| loss: 0.08291 | train_mse: 0.05876 | train_mae: 0.20368 |  0:00:27s\n",
      "epoch 241| loss: 0.2583  | train_mse: 0.05926 | train_mae: 0.20182 |  0:00:27s\n"
     ]
    },
    {
     "name": "stdout",
     "output_type": "stream",
     "text": [
      "epoch 242| loss: 0.24581 | train_mse: 0.06051 | train_mae: 0.20288 |  0:00:27s\n",
      "epoch 243| loss: 0.31364 | train_mse: 0.06137 | train_mae: 0.20477 |  0:00:27s\n",
      "epoch 244| loss: 0.35105 | train_mse: 0.06433 | train_mae: 0.2092  |  0:00:27s\n"
     ]
    },
    {
     "name": "stdout",
     "output_type": "stream",
     "text": [
      "epoch 245| loss: 0.15092 | train_mse: 0.08452 | train_mae: 0.2249  |  0:00:27s\n",
      "epoch 246| loss: 0.3131  | train_mse: 0.07727 | train_mae: 0.22157 |  0:00:27s\n",
      "epoch 247| loss: 0.13499 | train_mse: 0.08017 | train_mae: 0.22438 |  0:00:27s\n"
     ]
    },
    {
     "name": "stdout",
     "output_type": "stream",
     "text": [
      "epoch 248| loss: 0.17597 | train_mse: 0.08263 | train_mae: 0.22711 |  0:00:27s\n",
      "epoch 249| loss: 0.38691 | train_mse: 0.08532 | train_mae: 0.23173 |  0:00:28s\n",
      "epoch 250| loss: 0.33818 | train_mse: 0.08786 | train_mae: 0.23444 |  0:00:28s\n"
     ]
    },
    {
     "name": "stdout",
     "output_type": "stream",
     "text": [
      "epoch 251| loss: 0.14542 | train_mse: 0.08967 | train_mae: 0.23739 |  0:00:28s\n",
      "epoch 252| loss: 0.11052 | train_mse: 0.09374 | train_mae: 0.2411  |  0:00:28s\n"
     ]
    },
    {
     "name": "stdout",
     "output_type": "stream",
     "text": [
      "epoch 253| loss: 0.16053 | train_mse: 0.09262 | train_mae: 0.24119 |  0:00:28s\n",
      "epoch 254| loss: 0.15239 | train_mse: 0.08898 | train_mae: 0.238   |  0:00:28s\n",
      "epoch 255| loss: 0.15673 | train_mse: 0.08656 | train_mae: 0.23488 |  0:00:28s\n"
     ]
    },
    {
     "name": "stdout",
     "output_type": "stream",
     "text": [
      "epoch 256| loss: 0.1942  | train_mse: 0.08291 | train_mae: 0.2289  |  0:00:28s\n",
      "epoch 257| loss: 0.42837 | train_mse: 0.07864 | train_mae: 0.22477 |  0:00:28s\n",
      "epoch 258| loss: 0.47449 | train_mse: 0.07816 | train_mae: 0.22538 |  0:00:28s\n"
     ]
    },
    {
     "name": "stdout",
     "output_type": "stream",
     "text": [
      "epoch 259| loss: 0.12187 | train_mse: 0.07964 | train_mae: 0.22816 |  0:00:28s\n",
      "epoch 260| loss: 0.17178 | train_mse: 0.08188 | train_mae: 0.23143 |  0:00:29s\n",
      "epoch 261| loss: 0.16329 | train_mse: 0.08033 | train_mae: 0.22918 |  0:00:29s\n"
     ]
    },
    {
     "name": "stdout",
     "output_type": "stream",
     "text": [
      "epoch 262| loss: 0.15675 | train_mse: 0.07656 | train_mae: 0.22442 |  0:00:29s\n",
      "epoch 263| loss: 0.21597 | train_mse: 0.07484 | train_mae: 0.22134 |  0:00:29s\n",
      "epoch 264| loss: 0.13818 | train_mse: 0.07394 | train_mae: 0.21903 |  0:00:29s\n"
     ]
    },
    {
     "name": "stdout",
     "output_type": "stream",
     "text": [
      "epoch 265| loss: 0.20961 | train_mse: 0.07256 | train_mae: 0.2163  |  0:00:29s\n",
      "epoch 266| loss: 0.23018 | train_mse: 0.07059 | train_mae: 0.21394 |  0:00:29s\n",
      "epoch 267| loss: 0.12662 | train_mse: 0.06908 | train_mae: 0.212   |  0:00:29s\n"
     ]
    },
    {
     "name": "stdout",
     "output_type": "stream",
     "text": [
      "epoch 268| loss: 0.16943 | train_mse: 0.06781 | train_mae: 0.21023 |  0:00:29s\n",
      "epoch 269| loss: 0.29165 | train_mse: 0.06678 | train_mae: 0.21049 |  0:00:29s\n",
      "epoch 270| loss: 0.10901 | train_mse: 0.06513 | train_mae: 0.21108 |  0:00:29s\n"
     ]
    },
    {
     "name": "stdout",
     "output_type": "stream",
     "text": [
      "epoch 271| loss: 0.24154 | train_mse: 0.06449 | train_mae: 0.21134 |  0:00:29s\n",
      "epoch 272| loss: 0.40522 | train_mse: 0.06453 | train_mae: 0.21086 |  0:00:30s\n",
      "epoch 273| loss: 0.22042 | train_mse: 0.06349 | train_mae: 0.20896 |  0:00:30s\n"
     ]
    },
    {
     "name": "stdout",
     "output_type": "stream",
     "text": [
      "epoch 274| loss: 0.12445 | train_mse: 0.06372 | train_mae: 0.20865 |  0:00:30s\n",
      "epoch 275| loss: 0.13975 | train_mse: 0.07005 | train_mae: 0.21724 |  0:00:30s\n",
      "epoch 276| loss: 0.11166 | train_mse: 0.07486 | train_mae: 0.223   |  0:00:30s\n"
     ]
    },
    {
     "name": "stdout",
     "output_type": "stream",
     "text": [
      "epoch 277| loss: 0.19524 | train_mse: 0.0755  | train_mae: 0.22415 |  0:00:30s\n",
      "epoch 278| loss: 0.1436  | train_mse: 0.07267 | train_mae: 0.22148 |  0:00:30s\n",
      "epoch 279| loss: 0.1985  | train_mse: 0.0695  | train_mae: 0.21729 |  0:00:30s\n"
     ]
    },
    {
     "name": "stdout",
     "output_type": "stream",
     "text": [
      "epoch 280| loss: 0.15758 | train_mse: 0.06728 | train_mae: 0.21472 |  0:00:30s\n",
      "epoch 281| loss: 0.20094 | train_mse: 0.0649  | train_mae: 0.21154 |  0:00:30s\n",
      "epoch 282| loss: 0.26363 | train_mse: 0.06276 | train_mae: 0.20953 |  0:00:30s\n"
     ]
    },
    {
     "name": "stdout",
     "output_type": "stream",
     "text": [
      "epoch 283| loss: 0.20492 | train_mse: 0.06289 | train_mae: 0.21287 |  0:00:31s\n",
      "epoch 284| loss: 0.10653 | train_mse: 0.0646  | train_mae: 0.21637 |  0:00:31s\n",
      "epoch 285| loss: 0.17715 | train_mse: 0.06436 | train_mae: 0.2193  |  0:00:31s\n"
     ]
    },
    {
     "name": "stdout",
     "output_type": "stream",
     "text": [
      "epoch 286| loss: 0.21083 | train_mse: 0.06596 | train_mae: 0.2218  |  0:00:31s\n",
      "epoch 287| loss: 0.19521 | train_mse: 0.06568 | train_mae: 0.22086 |  0:00:31s\n"
     ]
    },
    {
     "name": "stdout",
     "output_type": "stream",
     "text": [
      "epoch 288| loss: 0.16754 | train_mse: 0.06454 | train_mae: 0.21753 |  0:00:31s\n",
      "epoch 289| loss: 0.10433 | train_mse: 0.06347 | train_mae: 0.21528 |  0:00:31s\n"
     ]
    },
    {
     "name": "stdout",
     "output_type": "stream",
     "text": [
      "epoch 290| loss: 0.14668 | train_mse: 0.06168 | train_mae: 0.2123  |  0:00:31s\n",
      "epoch 291| loss: 0.16937 | train_mse: 0.05902 | train_mae: 0.20628 |  0:00:31s\n",
      "\n",
      "Early stopping occurred at epoch 291 with best_epoch = 241 and best_train_mae = 0.20182\n",
      "Best weights from best epoch are automatically used!\n"
     ]
    }
   ],
   "source": [
    "#Train the Model\n",
    "\n",
    "Y_train = np.reshape(Y_train, (-1, 1))\n",
    "Y_test = np.reshape(Y_test, (-1, 1))\n",
    "\n",
    "prior_model = TabNetRegressor(optimizer_fn=torch.optim.Adam, optimizer_params=dict(lr = 0.001),\n",
    "          #scheduler_params={\"step_size\":10, ], \"gamma\":0.9},\n",
    "          #scheduler_fn=torch.optim.lr_scheduler.StepLR\n",
    "          )  #TabNetRegressor()\n",
    "\n",
    "prior_model.fit(X_train,Y_train,eval_set=[(X_train, Y_train)],\n",
    "            eval_name=['train'], \n",
    "            eval_metric=[ 'mse', 'mae'], \n",
    "            max_epochs = n_epochs, \n",
    "            batch_size = batch_size,\n",
    "            patience=50\n",
    "            )"
   ]
  },
  {
   "cell_type": "code",
   "execution_count": 10,
   "id": "af65dcda",
   "metadata": {
    "execution": {
     "iopub.execute_input": "2022-07-22T11:59:29.963699Z",
     "iopub.status.busy": "2022-07-22T11:59:29.962499Z",
     "iopub.status.idle": "2022-07-22T11:59:30.036497Z",
     "shell.execute_reply": "2022-07-22T11:59:30.035482Z"
    },
    "id": "af65dcda",
    "papermill": {
     "duration": 0.106149,
     "end_time": "2022-07-22T11:59:30.039074",
     "exception": false,
     "start_time": "2022-07-22T11:59:29.932925",
     "status": "completed"
    },
    "tags": []
   },
   "outputs": [
    {
     "data": {
      "application/scrapbook.scrap.json+json": {
       "data": 0.37624789638342726,
       "encoder": "json",
       "name": "Prior Model MSE",
       "version": 1
      }
     },
     "metadata": {
      "scrapbook": {
       "data": true,
       "display": false,
       "name": "Prior Model MSE"
      }
     },
     "output_type": "display_data"
    },
    {
     "data": {
      "application/scrapbook.scrap.json+json": {
       "data": 0.36326693060264503,
       "encoder": "json",
       "name": "ABC Pre-generator MSE",
       "version": 1
      }
     },
     "metadata": {
      "scrapbook": {
       "data": true,
       "display": false,
       "name": "ABC Pre-generator MSE"
      }
     },
     "output_type": "display_data"
    },
    {
     "data": {
      "application/scrapbook.scrap.json+json": {
       "data": 0.4643818899128872,
       "encoder": "json",
       "name": "Prior Model MAE",
       "version": 1
      }
     },
     "metadata": {
      "scrapbook": {
       "data": true,
       "display": false,
       "name": "Prior Model MAE"
      }
     },
     "output_type": "display_data"
    },
    {
     "name": "stdout",
     "output_type": "stream",
     "text": [
      "Prior Model MAE 0.4643818899128872\n"
     ]
    },
    {
     "data": {
      "application/scrapbook.scrap.json+json": {
       "data": 0.44844636798931325,
       "encoder": "json",
       "name": "ABC Pre-generator MAE",
       "version": 1
      }
     },
     "metadata": {
      "scrapbook": {
       "data": true,
       "display": false,
       "name": "ABC Pre-generator MAE"
      }
     },
     "output_type": "display_data"
    },
    {
     "name": "stdout",
     "output_type": "stream",
     "text": [
      "ABC Pre-generator MAE 0.44844636798931325\n"
     ]
    }
   ],
   "source": [
    "y_pred = prior_model.predict(X_test)\n",
    "y_abc = y_pred + np.random.normal(0,variance, y_pred.shape) + bias \n",
    "mse = mean_squared_error(y_pred,Y_test)\n",
    "sb.glue(\"Prior Model MSE\",mse)\n",
    "mse = mean_squared_error(y_abc,Y_test)\n",
    "sb.glue(\"ABC Pre-generator MSE\",mse)\n",
    "mae = mean_absolute_error(y_pred,Y_test)\n",
    "sb.glue(\"Prior Model MAE\",mae)\n",
    "print(\"Prior Model MAE\",mae)\n",
    "mae = mean_absolute_error(y_abc,Y_test)\n",
    "sb.glue(\"ABC Pre-generator MAE\",mae)\n",
    "print(\"ABC Pre-generator MAE\",mae)"
   ]
  },
  {
   "cell_type": "markdown",
   "id": "25609da2",
   "metadata": {
    "papermill": {
     "duration": 0.030127,
     "end_time": "2022-07-22T11:59:30.096606",
     "exception": false,
     "start_time": "2022-07-22T11:59:30.066479",
     "status": "completed"
    },
    "tags": []
   },
   "source": [
    "# mGAN Model"
   ]
  },
  {
   "cell_type": "code",
   "execution_count": 11,
   "id": "dfc3464d",
   "metadata": {
    "execution": {
     "iopub.execute_input": "2022-07-22T11:59:30.155551Z",
     "iopub.status.busy": "2022-07-22T11:59:30.154980Z",
     "iopub.status.idle": "2022-07-22T11:59:30.162969Z",
     "shell.execute_reply": "2022-07-22T11:59:30.160362Z"
    },
    "papermill": {
     "duration": 0.039473,
     "end_time": "2022-07-22T11:59:30.167425",
     "exception": false,
     "start_time": "2022-07-22T11:59:30.127952",
     "status": "completed"
    },
    "tags": []
   },
   "outputs": [],
   "source": [
    "# gen = network.Generator(n_features+1).to(device)\n",
    "# disc = network.Discriminator(n_features+1).to(device)\n",
    "\n",
    "# criterion = torch.nn.BCELoss()\n",
    "# gen_opt = torch.optim.Adam(gen.parameters(), lr=0.001, betas=(0.5, 0.999))\n",
    "# disc_opt = torch.optim.Adam(disc.parameters(), lr=0.001, betas=(0.5, 0.999))"
   ]
  },
  {
   "cell_type": "code",
   "execution_count": 12,
   "id": "b75fdd85",
   "metadata": {
    "execution": {
     "iopub.execute_input": "2022-07-22T11:59:30.221131Z",
     "iopub.status.busy": "2022-07-22T11:59:30.220600Z",
     "iopub.status.idle": "2022-07-22T11:59:30.233886Z",
     "shell.execute_reply": "2022-07-22T11:59:30.232876Z"
    },
    "papermill": {
     "duration": 0.047506,
     "end_time": "2022-07-22T11:59:30.237916",
     "exception": false,
     "start_time": "2022-07-22T11:59:30.190410",
     "status": "completed"
    },
    "tags": []
   },
   "outputs": [],
   "source": [
    "#Training the ABC_GAN \n",
    "# ABC_train_test2.training_GAN(disc,gen,disc_opt,gen_opt,train_data,batch_size,n_epochs,criterion,prior_model,variance,bias,device)"
   ]
  },
  {
   "cell_type": "code",
   "execution_count": 13,
   "id": "1fa7c368",
   "metadata": {
    "execution": {
     "iopub.execute_input": "2022-07-22T11:59:30.300253Z",
     "iopub.status.busy": "2022-07-22T11:59:30.298905Z",
     "iopub.status.idle": "2022-07-22T11:59:30.305860Z",
     "shell.execute_reply": "2022-07-22T11:59:30.304284Z"
    },
    "papermill": {
     "duration": 0.052825,
     "end_time": "2022-07-22T11:59:30.316995",
     "exception": false,
     "start_time": "2022-07-22T11:59:30.264170",
     "status": "completed"
    },
    "tags": []
   },
   "outputs": [],
   "source": [
    "# ABC_GAN1_metrics=ABC_train_test2.test_generator(gen,test_data,prior_model,variance,bias,\"1\",device)\n",
    "# sb.glue(\"ABC_GAN_1 Metrics\",ABC_GAN1_metrics)\n",
    "\n",
    "# print(\"MAE\")\n",
    "# print(mean(ABC_GAN1_metrics[1]))"
   ]
  },
  {
   "cell_type": "code",
   "execution_count": 14,
   "id": "eb22ce5c",
   "metadata": {
    "execution": {
     "iopub.execute_input": "2022-07-22T11:59:30.376470Z",
     "iopub.status.busy": "2022-07-22T11:59:30.375997Z",
     "iopub.status.idle": "2022-07-22T11:59:30.382666Z",
     "shell.execute_reply": "2022-07-22T11:59:30.379987Z"
    },
    "papermill": {
     "duration": 0.04771,
     "end_time": "2022-07-22T11:59:30.393733",
     "exception": false,
     "start_time": "2022-07-22T11:59:30.346023",
     "status": "completed"
    },
    "tags": []
   },
   "outputs": [],
   "source": [
    "# sanityChecks.discProbVsError(train_data,disc,device)\n",
    "# sanityChecks.discProbVsError(test_data,disc,device)"
   ]
  },
  {
   "cell_type": "markdown",
   "id": "d2478f14",
   "metadata": {
    "papermill": {
     "duration": 0.039634,
     "end_time": "2022-07-22T11:59:30.462622",
     "exception": false,
     "start_time": "2022-07-22T11:59:30.422988",
     "status": "completed"
    },
    "tags": []
   },
   "source": [
    "# mGAN Model with TabNet Generator"
   ]
  },
  {
   "cell_type": "code",
   "execution_count": 15,
   "id": "01bbd976",
   "metadata": {
    "execution": {
     "iopub.execute_input": "2022-07-22T11:59:30.513421Z",
     "iopub.status.busy": "2022-07-22T11:59:30.512345Z",
     "iopub.status.idle": "2022-07-22T11:59:30.540166Z",
     "shell.execute_reply": "2022-07-22T11:59:30.538584Z"
    },
    "papermill": {
     "duration": 0.060545,
     "end_time": "2022-07-22T11:59:30.544967",
     "exception": false,
     "start_time": "2022-07-22T11:59:30.484422",
     "status": "completed"
    },
    "tags": []
   },
   "outputs": [],
   "source": [
    "gen2 = network.GeneratorTabnet(n_features+1).to(device)\n",
    "disc2 = network.Discriminator(n_features+1).to(device)\n",
    "\n",
    "criterion = torch.nn.BCELoss()\n",
    "gen_opt = torch.optim.Adam(gen2.parameters(), lr=0.001, betas=(0.5, 0.999))\n",
    "disc_opt = torch.optim.Adam(disc2.parameters(), lr=0.001, betas=(0.5, 0.999))"
   ]
  },
  {
   "cell_type": "code",
   "execution_count": 16,
   "id": "be405202",
   "metadata": {
    "execution": {
     "iopub.execute_input": "2022-07-22T11:59:30.604215Z",
     "iopub.status.busy": "2022-07-22T11:59:30.603652Z",
     "iopub.status.idle": "2022-07-22T12:02:12.337495Z",
     "shell.execute_reply": "2022-07-22T12:02:12.334811Z"
    },
    "papermill": {
     "duration": 161.769902,
     "end_time": "2022-07-22T12:02:12.343640",
     "exception": false,
     "start_time": "2022-07-22T11:59:30.573738",
     "status": "completed"
    },
    "tags": []
   },
   "outputs": [
    {
     "data": {
      "image/png": "[encoded data removed]",
      "text/plain": [
       "<Figure size 432x288 with 1 Axes>"
      ]
     },
     "metadata": {
      "needs_background": "light"
     },
     "output_type": "display_data"
    },
    {
     "data": {
      "image/png": "[encoded data removed]",
      "text/plain": [
       "<Figure size 432x288 with 1 Axes>"
      ]
     },
     "metadata": {
      "needs_background": "light"
     },
     "output_type": "display_data"
    }
   ],
   "source": [
    "#Training the ABC_GAN \n",
    "ABC_train_test2.training_GAN(disc2,gen2,disc_opt,gen_opt,train_data,batch_size,n_epochs,criterion,prior_model,variance,bias,device)"
   ]
  },
  {
   "cell_type": "code",
   "execution_count": 17,
   "id": "a0516eeb",
   "metadata": {
    "execution": {
     "iopub.execute_input": "2022-07-22T12:02:12.381574Z",
     "iopub.status.busy": "2022-07-22T12:02:12.381165Z",
     "iopub.status.idle": "2022-07-22T12:02:15.628118Z",
     "shell.execute_reply": "2022-07-22T12:02:15.626771Z"
    },
    "papermill": {
     "duration": 3.271051,
     "end_time": "2022-07-22T12:02:15.631233",
     "exception": false,
     "start_time": "2022-07-22T12:02:12.360182",
     "status": "completed"
    },
    "tags": []
   },
   "outputs": [
    {
     "data": {
      "application/scrapbook.scrap.json+json": {
       "data": 0.6205855609584044,
       "encoder": "json",
       "name": "ABC-GAN Model 1 MSE",
       "version": 1
      }
     },
     "metadata": {
      "scrapbook": {
       "data": true,
       "display": false,
       "name": "ABC-GAN Model 1 MSE"
      }
     },
     "output_type": "display_data"
    },
    {
     "data": {
      "application/scrapbook.scrap.json+json": {
       "data": 0.564473144941032,
       "encoder": "json",
       "name": "ABC-GAN Model 1 MAE",
       "version": 1
      }
     },
     "metadata": {
      "scrapbook": {
       "data": true,
       "display": false,
       "name": "ABC-GAN Model 1 MAE"
      }
     },
     "output_type": "display_data"
    },
    {
     "data": {
      "application/scrapbook.scrap.json+json": {
       "data": 11.289462898820638,
       "encoder": "json",
       "name": "ABC-GAN Model 1 Manhattan Distance",
       "version": 1
      }
     },
     "metadata": {
      "scrapbook": {
       "data": true,
       "display": false,
       "name": "ABC-GAN Model 1 Manhattan Distance"
      }
     },
     "output_type": "display_data"
    },
    {
     "data": {
      "application/scrapbook.scrap.json+json": {
       "data": 3.522989604490627,
       "encoder": "json",
       "name": "ABC-GAN Model 1 Euclidean distance",
       "version": 1
      }
     },
     "metadata": {
      "scrapbook": {
       "data": true,
       "display": false,
       "name": "ABC-GAN Model 1 Euclidean distance"
      }
     },
     "output_type": "display_data"
    },
    {
     "data": {
      "application/scrapbook.scrap.json+json": {
       "data": [
        [
         0.625849055507663,
         0.6149123876501497,
         0.6212156918435344,
         0.6218619142643789,
         0.6209127174793277,
         0.6257373633800538,
         0.6215832456753676,
         0.6238836028424606,
         0.6234893267184443,
         0.6120792648898321,
         0.6269031973765425,
         0.6209628119964117,
         0.632113441453745,
         0.6166463555793861,
         0.616208350129378,
         0.6234484489066459,
         0.6237261403380139,
         0.6237616588956317,
         0.6233979063206785,
         0.611087102640993,
         0.6128870326748371,
         0.623215405442691,
         0.6213207408895233,
         0.6248874146049825,
         0.6225245365733171,
         0.6225824153833635,
         0.6237536542134544,
         0.6196982145659863,
         0.6130589749483806,
         0.6242979806582701,
         0.6175515021825653,
         0.617048450478744,
         0.6184543059060899,
         0.6247751251861098,
         0.6132843432049995,
         0.6174424614286187,
         0.6164178597108811,
         0.6219719211754272,
         0.6208667753507509,
         0.6185675585566344,
         0.6263050169619533,
         0.6138852620173163,
         0.6218350665485826,
         0.6248541920723204,
         0.622053024421132,
         0.6225504077212113,
         0.6268534233287305,
         0.631769160023449,
         0.6187716695059008,
         0.617459600283396,
         0.6253813668762123,
         0.6254604411622552,
         0.6176450426901814,
         0.6167222401093302,
         0.6220513014546037,
         0.6241679809062536,
         0.6256456008702516,
         0.622668846296974,
         0.6083780022260349,
         0.6268863897187218,
         0.629409074252194,
         0.6171409584402058,
         0.6222221859550396,
         0.6179938077096521,
         0.6174777958130871,
         0.624353894152066,
         0.619432582183455,
         0.6235180671886769,
         0.6272953835274395,
         0.6107663769392323,
         0.6151631959793689,
         0.6115292673171796,
         0.6261871816388493,
         0.6199568923343772,
         0.6190443717526273,
         0.6362145451624336,
         0.6083138019976279,
         0.6197034816992397,
         0.6185138729812781,
         0.6160253126855215,
         0.6206077189544171,
         0.6262494046635737,
         0.6129990337946077,
         0.6227513792967789,
         0.6139451126530767,
         0.6187898319044356,
         0.6365424513687694,
         0.616764267507907,
         0.622596151499871,
         0.6150164226668264,
         0.6161030452435968,
         0.6217288028855344,
         0.6191989894723356,
         0.6083771974914827,
         0.6204700992314214,
         0.6334549765182889,
         0.6088997402597922,
         0.6204018266443121,
         0.6182208087565864,
         0.6194460930981984
        ],
        [
         0.5636069487780333,
         0.5574990030378103,
         0.5687045019119978,
         0.5617479380220175,
         0.5658051665872336,
         0.5655380394309759,
         0.5650645297020673,
         0.5667480122298002,
         0.5668077077716589,
         0.5570546817034483,
         0.5660156276077032,
         0.5652496706694364,
         0.5676987443119288,
         0.5640196155756712,
         0.5623353268951178,
         0.5679180447012186,
         0.5668104853481054,
         0.5629516031593085,
         0.5651420231908559,
         0.559312779828906,
         0.5569488193839789,
         0.5678996708244085,
         0.5696144443005323,
         0.5682103391736746,
         0.5603695508092642,
         0.5668983932584524,
         0.5684957157820463,
         0.5633261915296316,
         0.5615467932075262,
         0.5686544995754957,
         0.5624506246298552,
         0.5632673170417547,
         0.5616646628826857,
         0.5693146612495184,
         0.5614383678883315,
         0.5621638562530279,
         0.562071306630969,
         0.5694101031869649,
         0.5652717139571906,
         0.5658707719296217,
         0.5688607897609472,
         0.5610321085900069,
         0.5591539304703474,
         0.5663492809981108,
         0.5679299112409353,
         0.5696231443434954,
         0.5687825415283442,
         0.5694250863045454,
         0.5604966919869184,
         0.5591122325509786,
         0.5681504409760236,
         0.5674469795078039,
         0.5603294495493174,
         0.560507520660758,
         0.5638232003897429,
         0.5634508039802313,
         0.5654502991586924,
         0.5632336769253016,
         0.5557393547147512,
         0.5651282753795386,
         0.5712859060615301,
         0.5675910618156195,
         0.5703577350825071,
         0.565494230017066,
         0.5645766090601683,
         0.5700377847999334,
         0.5626016434282064,
         0.5674836080521345,
         0.5685765314847231,
         0.5575086545199156,
         0.5589318994432688,
         0.5651281636208296,
         0.567895145341754,
         0.5633401822298765,
         0.5623477410525084,
         0.5714860316365957,
         0.5531798373907805,
         0.5652462001889944,
         0.5661576893180609,
         0.5642963107675314,
         0.5638494025915861,
         0.5682549174875021,
         0.5572616424411535,
         0.5693168502300978,
         0.5604269545525312,
         0.56705133728683,
         0.5760828148573637,
         0.5622338425368071,
         0.5620503287762404,
         0.5554014515131712,
         0.5643722470849752,
         0.5670997109264135,
         0.559177091345191,
         0.5595804762095213,
         0.5666289519518614,
         0.5653576996177435,
         0.5601633917540312,
         0.5673470463603735,
         0.5628054093569517,
         0.5643859889358283
        ],
        [
         11.272138975560665,
         11.149980060756207,
         11.374090038239956,
         11.23495876044035,
         11.31610333174467,
         11.310760788619518,
         11.301290594041348,
         11.334960244596004,
         11.336154155433178,
         11.141093634068966,
         11.320312552154064,
         11.304993413388729,
         11.353974886238575,
         11.280392311513424,
         11.246706537902355,
         11.358360894024372,
         11.336209706962109,
         11.259032063186169,
         11.30284046381712,
         11.186255596578121,
         11.138976387679577,
         11.35799341648817,
         11.392288886010647,
         11.364206783473492,
         11.207391016185284,
         11.337967865169048,
         11.369914315640926,
         11.266523830592632,
         11.230935864150524,
         11.373089991509914,
         11.249012492597103,
         11.265346340835094,
         11.233293257653713,
         11.386293224990368,
         11.228767357766628,
         11.243277125060558,
         11.241426132619381,
         11.3882020637393,
         11.30543427914381,
         11.317415438592434,
         11.377215795218945,
         11.220642171800137,
         11.183078609406948,
         11.326985619962215,
         11.358598224818707,
         11.392462886869907,
         11.375650830566883,
         11.388501726090908,
         11.209933839738369,
         11.182244651019573,
         11.363008819520473,
         11.348939590156078,
         11.206588990986347,
         11.21015041321516,
         11.276464007794857,
         11.269016079604626,
         11.309005983173847,
         11.264673538506031,
         11.114787094295025,
         11.30256550759077,
         11.425718121230602,
         11.35182123631239,
         11.407154701650143,
         11.30988460034132,
         11.291532181203365,
         11.400755695998669,
         11.252032868564129,
         11.34967216104269,
         11.371530629694462,
         11.150173090398312,
         11.178637988865376,
         11.302563272416592,
         11.35790290683508,
         11.26680364459753,
         11.246954821050167,
         11.429720632731915,
         11.063596747815609,
         11.304924003779888,
         11.323153786361217,
         11.285926215350628,
         11.276988051831722,
         11.365098349750042,
         11.14523284882307,
         11.386337004601955,
         11.208539091050625,
         11.341026745736599,
         11.521656297147274,
         11.244676850736141,
         11.241006575524807,
         11.108029030263424,
         11.287444941699505,
         11.34199421852827,
         11.18354182690382,
         11.191609524190426,
         11.332579039037228,
         11.30715399235487,
         11.203267835080624,
         11.34694092720747,
         11.256108187139034,
         11.287719778716564
        ],
        [
         3.537934582514671,
         3.506885762753471,
         3.5248140145078133,
         3.526646889793133,
         3.523954362585667,
         3.5376188697485595,
         3.5258566212350937,
         3.53237484659389,
         3.531258491581845,
         3.498797693179279,
         3.5409128692373737,
         3.524096513991669,
         3.555596831626851,
         3.5118267485153254,
         3.510579297293762,
         3.5311427297877547,
         3.531929048941991,
         3.532029611698157,
         3.5309995930916744,
         3.495960819691757,
         3.501105633010342,
         3.5304827019621303,
         3.525112029112049,
         3.53521545200567,
         3.5285252913173717,
         3.5286893186659647,
         3.5320069485023797,
         3.5205062549752313,
         3.5015967070705916,
         3.533547737496326,
         3.51440322724233,
         3.5129715355486275,
         3.5169711568509907,
         3.534897806687231,
         3.5022402636169883,
         3.5140929453519547,
         3.511176041473515,
         3.5269588066078317,
         3.523823989221796,
         3.517293159680138,
         3.5392231265122387,
         3.5039556561615224,
         3.5265707608059778,
         3.5351214747793898,
         3.5271887514595304,
         3.52859861055692,
         3.5407722980410092,
         3.554628419465103,
         3.5178734187173384,
         3.514141716787745,
         3.5366124098527174,
         3.5368359904362405,
         3.514669380440162,
         3.5120428246515734,
         3.527183866640932,
         3.5331798168399344,
         3.537359469633392,
         3.528934247891207,
         3.488202982127144,
         3.5408654019002808,
         3.5479827346034085,
         3.5132348581903994,
         3.5276683119449874,
         3.5156615528507635,
         3.5141934944253914,
         3.533705970088813,
         3.5197516451688893,
         3.531339879390475,
         3.542020280934144,
         3.495043281389323,
         3.5076008780343546,
         3.4972253782596843,
         3.538890169640333,
         3.521240952659665,
         3.5186485239438943,
         3.567112404067003,
         3.4880189276941373,
         3.520521216238413,
         3.517140523155929,
         3.5100578704218584,
         3.5230887554940113,
         3.5390659916525258,
         3.5014255205404776,
         3.5291681152837673,
         3.504126460769008,
         3.5179250472528136,
         3.568031533965947,
         3.512162489145134,
         3.528728245416105,
         3.5071824094758073,
         3.5102793200644213,
         3.526269425002958,
         3.519087920107526,
         3.4882006751088235,
         3.522698111480521,
         3.559367855443685,
         3.48969838312652,
         3.5225042984908113,
         3.5163071787219793,
         3.519790030948433
        ]
       ],
       "encoder": "json",
       "name": "ABC_GAN_2 Metrics",
       "version": 1
      }
     },
     "metadata": {
      "scrapbook": {
       "data": true,
       "display": false,
       "name": "ABC_GAN_2 Metrics"
      }
     },
     "output_type": "display_data"
    },
    {
     "name": "stdout",
     "output_type": "stream",
     "text": [
      "MAE\n",
      "0.564473144941032\n"
     ]
    }
   ],
   "source": [
    "ABC_GAN2_metrics=ABC_train_test2.test_generator(gen2,test_data,prior_model,variance,bias,\"1\",device)\n",
    "sb.glue(\"ABC_GAN_2 Metrics\",ABC_GAN2_metrics)\n",
    "\n",
    "print(\"MAE\")\n",
    "print(mean(ABC_GAN2_metrics[1]))"
   ]
  },
  {
   "cell_type": "code",
   "execution_count": 18,
   "id": "1ea15447",
   "metadata": {
    "execution": {
     "iopub.execute_input": "2022-07-22T12:02:15.697024Z",
     "iopub.status.busy": "2022-07-22T12:02:15.696098Z",
     "iopub.status.idle": "2022-07-22T12:02:16.905577Z",
     "shell.execute_reply": "2022-07-22T12:02:16.898572Z"
    },
    "papermill": {
     "duration": 1.246853,
     "end_time": "2022-07-22T12:02:16.908992",
     "exception": false,
     "start_time": "2022-07-22T12:02:15.662139",
     "status": "completed"
    },
    "tags": []
   },
   "outputs": [
    {
     "data": {
      "image/png": "[encoded data removed]",
      "text/plain": [
       "<Figure size 432x288 with 1 Axes>"
      ]
     },
     "metadata": {
      "needs_background": "light"
     },
     "output_type": "display_data"
    },
    {
     "data": {
      "image/png": "[encoded data removed]",
      "text/plain": [
       "<Figure size 432x288 with 1 Axes>"
      ]
     },
     "metadata": {
      "needs_background": "light"
     },
     "output_type": "display_data"
    },
    {
     "data": {
      "image/png": "[encoded data removed]",
      "text/plain": [
       "<Figure size 432x288 with 1 Axes>"
      ]
     },
     "metadata": {
      "needs_background": "light"
     },
     "output_type": "display_data"
    },
    {
     "data": {
      "image/png": "[encoded data removed]",
      "text/plain": [
       "<Figure size 432x288 with 1 Axes>"
      ]
     },
     "metadata": {
      "needs_background": "light"
     },
     "output_type": "display_data"
    }
   ],
   "source": [
    "sanityChecks.discProbVsError(train_data,disc2,device)\n",
    "sanityChecks.discProbVsError(test_data,disc2,device)"
   ]
  },
  {
   "cell_type": "markdown",
   "id": "130f3a4d",
   "metadata": {
    "id": "130f3a4d",
    "papermill": {
     "duration": 0.032032,
     "end_time": "2022-07-22T12:02:16.964121",
     "exception": false,
     "start_time": "2022-07-22T12:02:16.932089",
     "status": "completed"
    },
    "tags": []
   },
   "source": [
    "# skipGAN Model"
   ]
  },
  {
   "cell_type": "code",
   "execution_count": 19,
   "id": "4e43dad1",
   "metadata": {
    "execution": {
     "iopub.execute_input": "2022-07-22T12:02:17.029073Z",
     "iopub.status.busy": "2022-07-22T12:02:17.028171Z",
     "iopub.status.idle": "2022-07-22T12:02:17.034302Z",
     "shell.execute_reply": "2022-07-22T12:02:17.032986Z"
    },
    "id": "4e43dad1",
    "papermill": {
     "duration": 0.045764,
     "end_time": "2022-07-22T12:02:17.038630",
     "exception": false,
     "start_time": "2022-07-22T12:02:16.992866",
     "status": "completed"
    },
    "tags": []
   },
   "outputs": [],
   "source": [
    "# #Generator\n",
    "# gen3 = network.GeneratorWithSkipConnection(n_features+1).to(device)\n",
    "# constraints=network.weightConstraint()\n",
    "# #Discriminator \n",
    "# disc3 = network.Discriminator(n_features+1).to(device)\n",
    "\n",
    "# criterion = torch.nn.BCELoss()\n",
    "# gen_opt = torch.optim.Adam(gen3.parameters(), lr=0.01, betas=(0.5, 0.999))\n",
    "# disc_opt = torch.optim.Adam(disc3.parameters(), lr=0.01, betas=(0.5, 0.999))\n"
   ]
  },
  {
   "cell_type": "code",
   "execution_count": 20,
   "id": "26acbc37",
   "metadata": {
    "execution": {
     "iopub.execute_input": "2022-07-22T12:02:17.112505Z",
     "iopub.status.busy": "2022-07-22T12:02:17.112042Z",
     "iopub.status.idle": "2022-07-22T12:02:17.117722Z",
     "shell.execute_reply": "2022-07-22T12:02:17.116567Z"
    },
    "id": "26acbc37",
    "papermill": {
     "duration": 0.045345,
     "end_time": "2022-07-22T12:02:17.122047",
     "exception": false,
     "start_time": "2022-07-22T12:02:17.076702",
     "status": "completed"
    },
    "tags": []
   },
   "outputs": [],
   "source": [
    "# ABC_train_test2.training_GAN_skip_connection(disc3,gen3,disc_opt,gen_opt,train_data,batch_size,n_epochs,criterion,prior_model,variance,bias,device)"
   ]
  },
  {
   "cell_type": "code",
   "execution_count": 21,
   "id": "c5e0717b",
   "metadata": {
    "execution": {
     "iopub.execute_input": "2022-07-22T12:02:17.196552Z",
     "iopub.status.busy": "2022-07-22T12:02:17.195862Z",
     "iopub.status.idle": "2022-07-22T12:02:17.201729Z",
     "shell.execute_reply": "2022-07-22T12:02:17.200696Z"
    },
    "id": "c5e0717b",
    "papermill": {
     "duration": 0.054172,
     "end_time": "2022-07-22T12:02:17.210393",
     "exception": false,
     "start_time": "2022-07-22T12:02:17.156221",
     "status": "completed"
    },
    "tags": []
   },
   "outputs": [],
   "source": [
    "# ABC_GAN3_metrics=ABC_train_test2.test_generator(gen3,test_data,prior_model,variance,bias,\"3\",device)\n",
    "# sb.glue(\"ABC_GAN_3 Metrics\",ABC_GAN3_metrics)\n",
    "\n",
    "# print(\"MAE\")\n",
    "# print(mean(ABC_GAN3_metrics[1]))"
   ]
  },
  {
   "cell_type": "code",
   "execution_count": 22,
   "id": "c8e46b48",
   "metadata": {
    "execution": {
     "iopub.execute_input": "2022-07-22T12:02:17.283822Z",
     "iopub.status.busy": "2022-07-22T12:02:17.283284Z",
     "iopub.status.idle": "2022-07-22T12:02:17.288593Z",
     "shell.execute_reply": "2022-07-22T12:02:17.287353Z"
    },
    "id": "c8e46b48",
    "papermill": {
     "duration": 0.053752,
     "end_time": "2022-07-22T12:02:17.298704",
     "exception": false,
     "start_time": "2022-07-22T12:02:17.244952",
     "status": "completed"
    },
    "tags": []
   },
   "outputs": [],
   "source": [
    "# sanityChecks.discProbVsError(train_data,disc3,device)\n",
    "# sanityChecks.discProbVsError(test_data,disc3,device)"
   ]
  },
  {
   "cell_type": "markdown",
   "id": "af812b43",
   "metadata": {
    "id": "130f3a4d",
    "papermill": {
     "duration": 0.030771,
     "end_time": "2022-07-22T12:02:17.356783",
     "exception": false,
     "start_time": "2022-07-22T12:02:17.326012",
     "status": "completed"
    },
    "tags": []
   },
   "source": [
    "# skipGAN Model with TabNet Generator"
   ]
  },
  {
   "cell_type": "code",
   "execution_count": 23,
   "id": "2c07bce6",
   "metadata": {
    "execution": {
     "iopub.execute_input": "2022-07-22T12:02:17.427698Z",
     "iopub.status.busy": "2022-07-22T12:02:17.426869Z",
     "iopub.status.idle": "2022-07-22T12:02:17.449244Z",
     "shell.execute_reply": "2022-07-22T12:02:17.447004Z"
    },
    "id": "4e43dad1",
    "papermill": {
     "duration": 0.068936,
     "end_time": "2022-07-22T12:02:17.455014",
     "exception": false,
     "start_time": "2022-07-22T12:02:17.386078",
     "status": "completed"
    },
    "tags": []
   },
   "outputs": [],
   "source": [
    "#Generator\n",
    "gen4 = network.GeneratorTabnetskipConnection(n_features+1).to(device)\n",
    "constraints=network.weightConstraint()\n",
    "#Discriminator \n",
    "disc4 = network.Discriminator(n_features+1).to(device)\n",
    "\n",
    "criterion = torch.nn.BCELoss()\n",
    "gen_opt = torch.optim.Adam(gen4.parameters(), lr=0.001, betas=(0.5, 0.999))\n",
    "disc_opt = torch.optim.Adam(disc4.parameters(), lr=0.001, betas=(0.5, 0.999))\n"
   ]
  },
  {
   "cell_type": "code",
   "execution_count": 24,
   "id": "7d6a078a",
   "metadata": {
    "execution": {
     "iopub.execute_input": "2022-07-22T12:02:17.530797Z",
     "iopub.status.busy": "2022-07-22T12:02:17.529917Z",
     "iopub.status.idle": "2022-07-22T12:05:32.506022Z",
     "shell.execute_reply": "2022-07-22T12:05:32.504045Z"
    },
    "id": "26acbc37",
    "papermill": {
     "duration": 195.022039,
     "end_time": "2022-07-22T12:05:32.510259",
     "exception": false,
     "start_time": "2022-07-22T12:02:17.488220",
     "status": "completed"
    },
    "tags": []
   },
   "outputs": [
    {
     "data": {
      "image/png": "[encoded data removed]",
      "text/plain": [
       "<Figure size 432x288 with 1 Axes>"
      ]
     },
     "metadata": {
      "needs_background": "light"
     },
     "output_type": "display_data"
    },
    {
     "data": {
      "image/png": "[encoded data removed]",
      "text/plain": [
       "<Figure size 432x288 with 1 Axes>"
      ]
     },
     "metadata": {
      "needs_background": "light"
     },
     "output_type": "display_data"
    }
   ],
   "source": [
    "ABC_train_test2.training_GAN_skip_connection(disc4,gen4,disc_opt,gen_opt,train_data,batch_size,n_epochs,criterion,prior_model,variance,bias,device)"
   ]
  },
  {
   "cell_type": "code",
   "execution_count": 25,
   "id": "d56fbf23",
   "metadata": {
    "execution": {
     "iopub.execute_input": "2022-07-22T12:05:32.568591Z",
     "iopub.status.busy": "2022-07-22T12:05:32.567781Z",
     "iopub.status.idle": "2022-07-22T12:05:35.012410Z",
     "shell.execute_reply": "2022-07-22T12:05:35.010690Z"
    },
    "id": "c5e0717b",
    "papermill": {
     "duration": 2.475668,
     "end_time": "2022-07-22T12:05:35.016065",
     "exception": false,
     "start_time": "2022-07-22T12:05:32.540397",
     "status": "completed"
    },
    "tags": []
   },
   "outputs": [
    {
     "data": {
      "application/scrapbook.scrap.json+json": {
       "data": 0.444117395059597,
       "encoder": "json",
       "name": "ABC-GAN Model 3 MSE",
       "version": 1
      }
     },
     "metadata": {
      "scrapbook": {
       "data": true,
       "display": false,
       "name": "ABC-GAN Model 3 MSE"
      }
     },
     "output_type": "display_data"
    },
    {
     "data": {
      "application/scrapbook.scrap.json+json": {
       "data": 0.515754122313112,
       "encoder": "json",
       "name": "ABC-GAN Model 3 MAE",
       "version": 1
      }
     },
     "metadata": {
      "scrapbook": {
       "data": true,
       "display": false,
       "name": "ABC-GAN Model 3 MAE"
      }
     },
     "output_type": "display_data"
    },
    {
     "data": {
      "application/scrapbook.scrap.json+json": {
       "data": 10.31508244626224,
       "encoder": "json",
       "name": "ABC-GAN Model 3 Manhattan Distance",
       "version": 1
      }
     },
     "metadata": {
      "scrapbook": {
       "data": true,
       "display": false,
       "name": "ABC-GAN Model 3 Manhattan Distance"
      }
     },
     "output_type": "display_data"
    },
    {
     "data": {
      "application/scrapbook.scrap.json+json": {
       "data": 2.9802739187341465,
       "encoder": "json",
       "name": "ABC-GAN Model 3 Euclidean distance",
       "version": 1
      }
     },
     "metadata": {
      "scrapbook": {
       "data": true,
       "display": false,
       "name": "ABC-GAN Model 3 Euclidean distance"
      }
     },
     "output_type": "display_data"
    },
    {
     "data": {
      "application/scrapbook.scrap.json+json": {
       "data": [
        [
         0.4406998841532081,
         0.4385117212118713,
         0.4405800002226149,
         0.4370887998593741,
         0.4492101789284851,
         0.4467395252607204,
         0.4429414331200786,
         0.44286047998220335,
         0.4522445434721112,
         0.4518621316938609,
         0.4486690444938706,
         0.4451381137423686,
         0.44369791751301485,
         0.4459470132203139,
         0.44720644953837496,
         0.44605382998321286,
         0.448477413188802,
         0.456318890426474,
         0.4376253722945343,
         0.45021087765976897,
         0.4489707604786702,
         0.45217791649586675,
         0.44841082855335834,
         0.44474427458618243,
         0.43828958749845714,
         0.4464026417920324,
         0.4513280441775258,
         0.43401949422752467,
         0.4505439658833355,
         0.44710547472538187,
         0.44052346730209396,
         0.4447368684929291,
         0.43369176199620607,
         0.4448459588805701,
         0.44715670160077636,
         0.4352742121485013,
         0.45117566763917766,
         0.44524113397782694,
         0.442604467545471,
         0.4430250430138994,
         0.4505099667998437,
         0.45090342506059516,
         0.45162685279339065,
         0.4444296181811609,
         0.44475948786680747,
         0.43740179319526024,
         0.4405560890710086,
         0.44513307137353786,
         0.4448216484140417,
         0.4464696201680772,
         0.4423899133832235,
         0.45205364257366654,
         0.4430196570609456,
         0.4478451446120548,
         0.44123986953125094,
         0.43934303499990407,
         0.4415193092823528,
         0.44115091069649104,
         0.4411675530153367,
         0.43656901218148203,
         0.44004546997948407,
         0.4453183017976297,
         0.4422447451186158,
         0.43654694237033287,
         0.4409748755122921,
         0.43792295118681396,
         0.4468098512885609,
         0.4434243826235947,
         0.4364881156945186,
         0.43056757400334755,
         0.44118308338393175,
         0.44473505939384356,
         0.4480284893424047,
         0.454295383791937,
         0.4459011330878825,
         0.4377311506810543,
         0.44187936496388175,
         0.43756496749972873,
         0.44150259288481075,
         0.43786576003379574,
         0.4367365022163671,
         0.45344886908417087,
         0.46124909024732813,
         0.44063297977121235,
         0.4390621367927034,
         0.44219181945189706,
         0.4435923191682097,
         0.44963998515764336,
         0.444516868528882,
         0.44098616823985887,
         0.4473192476272024,
         0.44083481968261007,
         0.449834544634267,
         0.4437864573288959,
         0.4409311174587378,
         0.44184231613232966,
         0.4435371283997947,
         0.4438920345111784,
         0.4461614997389832,
         0.4452518959074864
        ],
        [
         0.5158407043665647,
         0.5127889961004257,
         0.512923476472497,
         0.512941250577569,
         0.51448964625597,
         0.5198060017079115,
         0.5190159536898136,
         0.5153088863939047,
         0.5175713878124952,
         0.5202328104525804,
         0.5220659822225571,
         0.5184592276811599,
         0.5173645738512278,
         0.5117983587086201,
         0.5201706469058991,
         0.5150670427829027,
         0.5160869151353836,
         0.5260833572596312,
         0.5074259597808123,
         0.5118452735245228,
         0.5073118871077895,
         0.5197531849145889,
         0.5178417634218931,
         0.5155919149518013,
         0.5162625093013048,
         0.5130268473178148,
         0.5143937600776554,
         0.5150483105331659,
         0.5221371404826641,
         0.5113569665700197,
         0.5150006957352161,
         0.5141707368195056,
         0.5098202355206013,
         0.5214302886277438,
         0.5153666444122791,
         0.5104383964091539,
         0.5211136426776648,
         0.519258389994502,
         0.5086062557995319,
         0.5104463949799538,
         0.5231943722814322,
         0.5223871171474457,
         0.5228774942457676,
         0.5192964881658554,
         0.517355915531516,
         0.5040210198611021,
         0.5118208855390549,
         0.5114091427996754,
         0.5142458513379097,
         0.5183677410706877,
         0.5155346322804689,
         0.5227557707577943,
         0.5108097538352012,
         0.5206201374530792,
         0.5134507488459349,
         0.5172743238508701,
         0.513300484791398,
         0.5170441988855601,
         0.5175252314656973,
         0.5123189713805913,
         0.5130456179380417,
         0.5179222103208303,
         0.5217712927609682,
         0.5117427466437221,
         0.5164119567722082,
         0.5135412909090519,
         0.5159092193469406,
         0.5214361187070609,
         0.509480420127511,
         0.5110983029007912,
         0.5168989915400743,
         0.5119503291323781,
         0.5132041614502668,
         0.5168521968647838,
         0.5198314256966114,
         0.5123426303267479,
         0.5157440479844808,
         0.5095018334686756,
         0.5170915085822344,
         0.5159860193729401,
         0.511379723995924,
         0.5261726304888725,
         0.5259058434516192,
         0.5155255611985922,
         0.5128659583628178,
         0.5133872579783201,
         0.5127624996006489,
         0.5184954930096864,
         0.5253570545464754,
         0.5111435048282147,
         0.5167236860841513,
         0.513078635185957,
         0.521948616579175,
         0.5206172365695239,
         0.5158753465861082,
         0.5075752902776003,
         0.5145095523446799,
         0.5195239774882794,
         0.5093672554939985,
         0.5101620875298977
        ],
        [
         10.316814087331295,
         10.255779922008514,
         10.25846952944994,
         10.25882501155138,
         10.2897929251194,
         10.39612003415823,
         10.380319073796272,
         10.306177727878094,
         10.351427756249905,
         10.404656209051609,
         10.441319644451141,
         10.3691845536232,
         10.347291477024555,
         10.235967174172401,
         10.403412938117981,
         10.301340855658054,
         10.321738302707672,
         10.521667145192623,
         10.148519195616245,
         10.236905470490456,
         10.14623774215579,
         10.395063698291779,
         10.356835268437862,
         10.311838299036026,
         10.325250186026096,
         10.260536946356297,
         10.287875201553106,
         10.300966210663319,
         10.442742809653282,
         10.227139331400394,
         10.300013914704323,
         10.283414736390114,
         10.196404710412025,
         10.428605772554874,
         10.307332888245583,
         10.208767928183079,
         10.422272853553295,
         10.385167799890041,
         10.172125115990639,
         10.208927899599075,
         10.463887445628643,
         10.447742342948914,
         10.457549884915352,
         10.385929763317108,
         10.347118310630322,
         10.080420397222042,
         10.236417710781097,
         10.22818285599351,
         10.284917026758194,
         10.367354821413755,
         10.310692645609379,
         10.455115415155888,
         10.216195076704025,
         10.412402749061584,
         10.269014976918697,
         10.345486477017403,
         10.266009695827961,
         10.3408839777112,
         10.350504629313946,
         10.246379427611828,
         10.260912358760834,
         10.358444206416607,
         10.435425855219364,
         10.234854932874441,
         10.328239135444164,
         10.270825818181038,
         10.31818438693881,
         10.428722374141216,
         10.18960840255022,
         10.221966058015823,
         10.337979830801487,
         10.239006582647562,
         10.264083229005337,
         10.337043937295675,
         10.396628513932228,
         10.246852606534958,
         10.314880959689617,
         10.190036669373512,
         10.341830171644688,
         10.319720387458801,
         10.22759447991848,
         10.52345260977745,
         10.518116869032383,
         10.310511223971844,
         10.257319167256355,
         10.267745159566402,
         10.255249992012978,
         10.36990986019373,
         10.507141090929508,
         10.222870096564293,
         10.334473721683025,
         10.261572703719139,
         10.4389723315835,
         10.412344731390476,
         10.317506931722164,
         10.151505805552006,
         10.290191046893597,
         10.390479549765587,
         10.18734510987997,
         10.203241750597954
        ],
        [
         2.968837766376627,
         2.961458158447866,
         2.968433931293115,
         2.9566494545663478,
         2.9973661068627737,
         2.9891119927520964,
         2.976378447442726,
         2.976106449649284,
         3.0074725051847477,
         3.0062006975378766,
         2.995560196336807,
         2.983749700435238,
         2.9789189902144533,
         2.9864594864833305,
         2.990673668384349,
         2.986817135290384,
         2.9949204102573477,
         3.020989541281048,
         2.958463696902615,
         3.0007028432011356,
         2.9965672376193067,
         3.0072509589186827,
         2.9946980767795552,
         2.982429461315665,
         2.960707981204689,
         2.9879847449143124,
         3.0044235526221192,
         2.9462501395079292,
         3.0018126719811664,
         2.9903360169900033,
         2.968243478227802,
         2.9824046287951242,
         2.9451375587439244,
         2.9827703863374064,
         2.9905073201742085,
         2.950505760538357,
         3.003916335849511,
         2.984094951498115,
         2.975246099217579,
         2.976659345689054,
         3.001699408001553,
         3.0030099069453473,
         3.0054179502804286,
         2.9813742407861543,
         2.982480470570788,
         2.9577078733210294,
         2.968353378797776,
         2.983732800950976,
         2.9826888822471638,
         2.988208895536178,
         2.9745248809960336,
         3.0068376829275856,
         2.97664125168266,
         2.99280852916472,
         2.9706560539088023,
         2.9642639389902645,
         2.971596571819105,
         2.970356580266049,
         2.970412607754474,
         2.9548909021535197,
         2.9666326701480386,
         2.9843535373599077,
         2.974036802457615,
         2.95481621211991,
         2.969763881227907,
         2.9594693821251603,
         2.989347257474651,
         2.9780006132423638,
         2.954617117985065,
         2.9345104327752782,
         2.9704648908342,
         2.982398562881372,
         2.9934210841189874,
         3.014283940812269,
         2.986305855360038,
         2.9588212202870734,
         2.972807982241308,
         2.9582595136320573,
         2.9715403173600414,
         2.959276127818409,
         2.955457670873894,
         3.0114742870699422,
         3.037265514397212,
         2.968612402356402,
         2.9633161721041628,
         2.9738588381155453,
         2.9785644836672907,
         2.9987997104096276,
         2.9816668778684248,
         2.9698019066592938,
         2.9910508107593303,
         2.969292237832477,
         2.9994484314095717,
         2.9792161966829327,
         2.9696165323446655,
         2.9726833539155484,
         2.9783791847237806,
         2.979570554664475,
         2.987177596792608,
         2.984131015580537
        ]
       ],
       "encoder": "json",
       "name": "ABC_GAN_4 Metrics",
       "version": 1
      }
     },
     "metadata": {
      "scrapbook": {
       "data": true,
       "display": false,
       "name": "ABC_GAN_4 Metrics"
      }
     },
     "output_type": "display_data"
    },
    {
     "name": "stdout",
     "output_type": "stream",
     "text": [
      "MAE\n",
      "0.515754122313112\n"
     ]
    }
   ],
   "source": [
    "ABC_GAN4_metrics=ABC_train_test2.test_generator(gen4,test_data,prior_model,variance,bias,\"3\",device)\n",
    "sb.glue(\"ABC_GAN_4 Metrics\",ABC_GAN4_metrics)\n",
    "\n",
    "print(\"MAE\")\n",
    "print(mean(ABC_GAN4_metrics[1]))"
   ]
  },
  {
   "cell_type": "code",
   "execution_count": 26,
   "id": "aa44320b",
   "metadata": {
    "execution": {
     "iopub.execute_input": "2022-07-22T12:05:35.105447Z",
     "iopub.status.busy": "2022-07-22T12:05:35.104937Z",
     "iopub.status.idle": "2022-07-22T12:05:36.726962Z",
     "shell.execute_reply": "2022-07-22T12:05:36.724857Z"
    },
    "id": "c8e46b48",
    "papermill": {
     "duration": 1.67334,
     "end_time": "2022-07-22T12:05:36.729754",
     "exception": false,
     "start_time": "2022-07-22T12:05:35.056414",
     "status": "completed"
    },
    "tags": []
   },
   "outputs": [
    {
     "data": {
      "image/png": "[encoded data removed]",
      "text/plain": [
       "<Figure size 432x288 with 1 Axes>"
      ]
     },
     "metadata": {
      "needs_background": "light"
     },
     "output_type": "display_data"
    },
    {
     "data": {
      "image/png": "[encoded data removed]",
      "text/plain": [
       "<Figure size 432x288 with 1 Axes>"
      ]
     },
     "metadata": {
      "needs_background": "light"
     },
     "output_type": "display_data"
    },
    {
     "data": {
      "image/png": "[encoded data removed]",
      "text/plain": [
       "<Figure size 432x288 with 1 Axes>"
      ]
     },
     "metadata": {
      "needs_background": "light"
     },
     "output_type": "display_data"
    },
    {
     "data": {
      "image/png": "[encoded data removed]",
      "text/plain": [
       "<Figure size 432x288 with 1 Axes>"
      ]
     },
     "metadata": {
      "needs_background": "light"
     },
     "output_type": "display_data"
    }
   ],
   "source": [
    "sanityChecks.discProbVsError(train_data,disc4,device)\n",
    "sanityChecks.discProbVsError(test_data,disc4,device)"
   ]
  },
  {
   "cell_type": "markdown",
   "id": "a5bd74c3",
   "metadata": {
    "id": "a5bd74c3",
    "papermill": {
     "duration": 0.060062,
     "end_time": "2022-07-22T12:05:36.831654",
     "exception": false,
     "start_time": "2022-07-22T12:05:36.771592",
     "status": "completed"
    },
    "tags": []
   },
   "source": [
    "## Skip Connection Model Analysis - ABC-GAN "
   ]
  },
  {
   "cell_type": "markdown",
   "id": "5744a8bf",
   "metadata": {
    "id": "5744a8bf",
    "papermill": {
     "duration": 0.044101,
     "end_time": "2022-07-22T12:05:36.911900",
     "exception": false,
     "start_time": "2022-07-22T12:05:36.867799",
     "status": "completed"
    },
    "tags": []
   },
   "source": [
    "### Weight Analysis \n",
    "\n",
    "Study the weights of the skip connection layer\n",
    "\n",
    "Equation of the skip connection is \n",
    "\n",
    "$output = y_{gan} * w + y_{abc} * (1-w)$"
   ]
  },
  {
   "cell_type": "code",
   "execution_count": 27,
   "id": "52c31dea",
   "metadata": {
    "execution": {
     "iopub.execute_input": "2022-07-22T12:05:37.005263Z",
     "iopub.status.busy": "2022-07-22T12:05:37.004484Z",
     "iopub.status.idle": "2022-07-22T12:05:37.009999Z",
     "shell.execute_reply": "2022-07-22T12:05:37.008806Z"
    },
    "id": "52c31dea",
    "papermill": {
     "duration": 0.057143,
     "end_time": "2022-07-22T12:05:37.018037",
     "exception": false,
     "start_time": "2022-07-22T12:05:36.960894",
     "status": "completed"
    },
    "tags": []
   },
   "outputs": [],
   "source": [
    "# print(\"Weight of the node at skip connection\")\n",
    "# for name,param in gen3.named_parameters():\n",
    "#     if(name == \"skipNode.weight\"):\n",
    "#         print(param)\n",
    "#         sb.glue(\"Skip Connection Weight\",param.item())"
   ]
  },
  {
   "cell_type": "markdown",
   "id": "640191e5",
   "metadata": {
    "id": "a5bd74c3",
    "papermill": {
     "duration": 0.046897,
     "end_time": "2022-07-22T12:05:37.096106",
     "exception": false,
     "start_time": "2022-07-22T12:05:37.049209",
     "status": "completed"
    },
    "tags": []
   },
   "source": [
    "## skipGAN Model Analysis (TabNet Generator) "
   ]
  },
  {
   "cell_type": "markdown",
   "id": "aec20337",
   "metadata": {
    "id": "5744a8bf",
    "papermill": {
     "duration": 0.048611,
     "end_time": "2022-07-22T12:05:37.189908",
     "exception": false,
     "start_time": "2022-07-22T12:05:37.141297",
     "status": "completed"
    },
    "tags": []
   },
   "source": [
    "### Weight Analysis \n",
    "\n",
    "Study the weights of the skip connection layer\n",
    "\n",
    "Equation of the skip connection is \n",
    "\n",
    "$output = y_{gan} * w + y_{abc} * (1-w)$"
   ]
  },
  {
   "cell_type": "code",
   "execution_count": 28,
   "id": "e2975bed",
   "metadata": {
    "execution": {
     "iopub.execute_input": "2022-07-22T12:05:37.289199Z",
     "iopub.status.busy": "2022-07-22T12:05:37.288572Z",
     "iopub.status.idle": "2022-07-22T12:05:37.304919Z",
     "shell.execute_reply": "2022-07-22T12:05:37.303986Z"
    },
    "id": "52c31dea",
    "papermill": {
     "duration": 0.07964,
     "end_time": "2022-07-22T12:05:37.315320",
     "exception": false,
     "start_time": "2022-07-22T12:05:37.235680",
     "status": "completed"
    },
    "tags": []
   },
   "outputs": [
    {
     "name": "stdout",
     "output_type": "stream",
     "text": [
      "Weight of the node at skip connection\n",
      "Parameter containing:\n",
      "tensor([[0.1804]], requires_grad=True)\n"
     ]
    },
    {
     "data": {
      "application/scrapbook.scrap.json+json": {
       "data": 0.1804005354642868,
       "encoder": "json",
       "name": "Skip Connection Weight",
       "version": 1
      }
     },
     "metadata": {
      "scrapbook": {
       "data": true,
       "display": false,
       "name": "Skip Connection Weight"
      }
     },
     "output_type": "display_data"
    }
   ],
   "source": [
    "print(\"Weight of the node at skip connection\")\n",
    "for name,param in gen4.named_parameters():\n",
    "    if(name == \"skipNode.weight\"):\n",
    "        print(param)\n",
    "        sb.glue(\"Skip Connection Weight\",param.item())"
   ]
  }
 ],
 "metadata": {
  "colab": {
   "collapsed_sections": [],
   "name": "ABC_GAN_Model-Catboost_Pre-gen.ipynb",
   "provenance": []
  },
  "interpreter": {
   "hash": "31f2aee4e71d21fbe5cf8b01ff0e069b9275f58929596ceb00d14d90e3e16cd6"
  },
  "kernelspec": {
   "display_name": "Python 3 (ipykernel)",
   "language": "python",
   "name": "python3"
  },
  "language_info": {
   "codemirror_mode": {
    "name": "ipython",
    "version": 3
   },
   "file_extension": ".py",
   "mimetype": "text/x-python",
   "name": "python",
   "nbconvert_exporter": "python",
   "pygments_lexer": "ipython3",
   "version": "3.8.13"
  },
  "papermill": {
   "default_parameters": {},
   "duration": 416.20075,
   "end_time": "2022-07-22T12:05:38.330661",
   "environment_variables": {},
   "exception": null,
   "input_path": "ABC_GAN-TabNet.ipynb",
   "output_path": "./ABC_GAN_TabNet/ABC-GAN_output_3_5.ipynb",
   "parameters": {
    "bias": 0.1,
    "variance": 0.01
   },
   "start_time": "2022-07-22T11:58:42.129911",
   "version": "2.3.3"
  }
 },
 "nbformat": 4,
 "nbformat_minor": 5
}