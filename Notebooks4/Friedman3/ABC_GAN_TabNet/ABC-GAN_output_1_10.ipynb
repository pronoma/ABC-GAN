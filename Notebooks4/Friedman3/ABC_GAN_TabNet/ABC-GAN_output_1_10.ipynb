{
 "cells": [
  {
   "cell_type": "markdown",
   "id": "622780e6",
   "metadata": {
    "id": "622780e6",
    "papermill": {
     "duration": 0.016572,
     "end_time": "2022-07-22T09:19:14.147782",
     "exception": false,
     "start_time": "2022-07-22T09:19:14.131210",
     "status": "completed"
    },
    "tags": []
   },
   "source": [
    "## Import Libraries "
   ]
  },
  {
   "cell_type": "code",
   "execution_count": 1,
   "id": "a62397e3",
   "metadata": {
    "execution": {
     "iopub.execute_input": "2022-07-22T09:19:14.173885Z",
     "iopub.status.busy": "2022-07-22T09:19:14.173314Z",
     "iopub.status.idle": "2022-07-22T09:19:14.191259Z",
     "shell.execute_reply": "2022-07-22T09:19:14.190176Z"
    },
    "id": "a62397e3",
    "papermill": {
     "duration": 0.037129,
     "end_time": "2022-07-22T09:19:14.194243",
     "exception": false,
     "start_time": "2022-07-22T09:19:14.157114",
     "status": "completed"
    },
    "tags": []
   },
   "outputs": [],
   "source": [
    "import warnings\n",
    "import sys\n",
    "sys.path.insert(0, '../../src')\n",
    "warnings.filterwarnings('ignore')"
   ]
  },
  {
   "cell_type": "code",
   "execution_count": 2,
   "id": "d6a4e155",
   "metadata": {
    "execution": {
     "iopub.execute_input": "2022-07-22T09:19:14.218289Z",
     "iopub.status.busy": "2022-07-22T09:19:14.217284Z",
     "iopub.status.idle": "2022-07-22T09:19:24.569425Z",
     "shell.execute_reply": "2022-07-22T09:19:24.568109Z"
    },
    "id": "d6a4e155",
    "papermill": {
     "duration": 10.369133,
     "end_time": "2022-07-22T09:19:24.572492",
     "exception": false,
     "start_time": "2022-07-22T09:19:14.203359",
     "status": "completed"
    },
    "tags": []
   },
   "outputs": [],
   "source": [
    "import ABC_train_test2\n",
    "import friedman3Dataset\n",
    "import network\n",
    "import dataset\n",
    "import sanityChecks\n",
    "import torch \n",
    "import scrapbook as sb\n",
    "from statistics import mean \n",
    "import catboost as ctb \n",
    "from sklearn.model_selection import train_test_split\n",
    "from sklearn.metrics import mean_squared_error,mean_absolute_error\n",
    "import numpy as np\n",
    "from pytorch_tabnet.tab_model import TabNetRegressor"
   ]
  },
  {
   "cell_type": "markdown",
   "id": "2fa5b0f7",
   "metadata": {
    "id": "2fa5b0f7",
    "papermill": {
     "duration": 0.008058,
     "end_time": "2022-07-22T09:19:24.589097",
     "exception": false,
     "start_time": "2022-07-22T09:19:24.581039",
     "status": "completed"
    },
    "tags": []
   },
   "source": [
    "## Parameters "
   ]
  },
  {
   "cell_type": "code",
   "execution_count": 3,
   "id": "783186fb",
   "metadata": {
    "execution": {
     "iopub.execute_input": "2022-07-22T09:19:24.607385Z",
     "iopub.status.busy": "2022-07-22T09:19:24.606984Z",
     "iopub.status.idle": "2022-07-22T09:19:24.611997Z",
     "shell.execute_reply": "2022-07-22T09:19:24.610656Z"
    },
    "id": "783186fb",
    "papermill": {
     "duration": 0.019552,
     "end_time": "2022-07-22T09:19:24.616544",
     "exception": false,
     "start_time": "2022-07-22T09:19:24.596992",
     "status": "completed"
    },
    "tags": [
     "parameters"
    ]
   },
   "outputs": [],
   "source": [
    "variance = 1\n",
    "bias = 1 "
   ]
  },
  {
   "cell_type": "code",
   "execution_count": 4,
   "id": "a76ea96e",
   "metadata": {
    "execution": {
     "iopub.execute_input": "2022-07-22T09:19:24.643156Z",
     "iopub.status.busy": "2022-07-22T09:19:24.642560Z",
     "iopub.status.idle": "2022-07-22T09:19:24.652848Z",
     "shell.execute_reply": "2022-07-22T09:19:24.651498Z"
    },
    "papermill": {
     "duration": 0.029795,
     "end_time": "2022-07-22T09:19:24.655874",
     "exception": false,
     "start_time": "2022-07-22T09:19:24.626079",
     "status": "completed"
    },
    "tags": [
     "injected-parameters"
    ]
   },
   "outputs": [],
   "source": [
    "# Parameters\n",
    "variance = 0.1\n",
    "bias = 0\n"
   ]
  },
  {
   "cell_type": "markdown",
   "id": "391cdbfd",
   "metadata": {
    "id": "391cdbfd",
    "papermill": {
     "duration": 0.009211,
     "end_time": "2022-07-22T09:19:24.673492",
     "exception": false,
     "start_time": "2022-07-22T09:19:24.664281",
     "status": "completed"
    },
    "tags": []
   },
   "source": [
    "## Dataset \n"
   ]
  },
  {
   "cell_type": "code",
   "execution_count": 5,
   "id": "5b51f161",
   "metadata": {
    "execution": {
     "iopub.execute_input": "2022-07-22T09:19:24.693568Z",
     "iopub.status.busy": "2022-07-22T09:19:24.693214Z",
     "iopub.status.idle": "2022-07-22T09:19:24.698880Z",
     "shell.execute_reply": "2022-07-22T09:19:24.697745Z"
    },
    "id": "5b51f161",
    "papermill": {
     "duration": 0.019703,
     "end_time": "2022-07-22T09:19:24.701966",
     "exception": false,
     "start_time": "2022-07-22T09:19:24.682263",
     "status": "completed"
    },
    "tags": []
   },
   "outputs": [],
   "source": [
    "#Parameters \n",
    "n_features = 4\n",
    "n_samples= 100\n",
    "n_target = 1"
   ]
  },
  {
   "cell_type": "code",
   "execution_count": 6,
   "id": "5d6eced4",
   "metadata": {
    "execution": {
     "iopub.execute_input": "2022-07-22T09:19:24.721384Z",
     "iopub.status.busy": "2022-07-22T09:19:24.720820Z",
     "iopub.status.idle": "2022-07-22T09:19:24.741039Z",
     "shell.execute_reply": "2022-07-22T09:19:24.738450Z"
    },
    "id": "5d6eced4",
    "papermill": {
     "duration": 0.034394,
     "end_time": "2022-07-22T09:19:24.744287",
     "exception": false,
     "start_time": "2022-07-22T09:19:24.709893",
     "status": "completed"
    },
    "tags": []
   },
   "outputs": [
    {
     "name": "stdout",
     "output_type": "stream",
     "text": [
      "          X1           X2        X3         X4         Y\n",
      "0   6.743807  1484.509748  0.932304  10.186568  1.588431\n",
      "1  77.064233   953.933866  0.087542   7.917651  0.839839\n",
      "2  37.283338  1367.927079  0.844749   6.856140  1.566639\n",
      "3   6.398101   785.291516  0.407371   2.835689  1.579273\n",
      "4  48.651447   777.105238  0.745326   3.757141  1.428763\n"
     ]
    }
   ],
   "source": [
    "X,Y = friedman3Dataset.friedman3_data(n_samples)"
   ]
  },
  {
   "cell_type": "code",
   "execution_count": 7,
   "id": "fe007438",
   "metadata": {
    "execution": {
     "iopub.execute_input": "2022-07-22T09:19:24.765460Z",
     "iopub.status.busy": "2022-07-22T09:19:24.764810Z",
     "iopub.status.idle": "2022-07-22T09:19:24.772126Z",
     "shell.execute_reply": "2022-07-22T09:19:24.770391Z"
    },
    "id": "fe007438",
    "papermill": {
     "duration": 0.020933,
     "end_time": "2022-07-22T09:19:24.775255",
     "exception": false,
     "start_time": "2022-07-22T09:19:24.754322",
     "status": "completed"
    },
    "tags": []
   },
   "outputs": [],
   "source": [
    "#Train test split for dataset \n",
    "X_train,X_test,Y_train,Y_test = train_test_split(X,Y,test_size = 0.2)\n",
    "train_data = dataset.CustomDataset(X_train,Y_train)\n",
    "test_data = dataset.CustomDataset(X_test,Y_test)\n"
   ]
  },
  {
   "cell_type": "markdown",
   "id": "a9a1af34",
   "metadata": {
    "id": "a9a1af34",
    "papermill": {
     "duration": 0.008996,
     "end_time": "2022-07-22T09:19:24.793327",
     "exception": false,
     "start_time": "2022-07-22T09:19:24.784331",
     "status": "completed"
    },
    "tags": []
   },
   "source": [
    "## Training Parameters "
   ]
  },
  {
   "cell_type": "code",
   "execution_count": 8,
   "id": "952b7fc8",
   "metadata": {
    "execution": {
     "iopub.execute_input": "2022-07-22T09:19:24.814302Z",
     "iopub.status.busy": "2022-07-22T09:19:24.813689Z",
     "iopub.status.idle": "2022-07-22T09:19:24.819589Z",
     "shell.execute_reply": "2022-07-22T09:19:24.817929Z"
    },
    "id": "952b7fc8",
    "papermill": {
     "duration": 0.021066,
     "end_time": "2022-07-22T09:19:24.823253",
     "exception": false,
     "start_time": "2022-07-22T09:19:24.802187",
     "status": "completed"
    },
    "tags": []
   },
   "outputs": [],
   "source": [
    "batch_size = 32\n",
    "n_epochs = 1000\n",
    "#Select the device \n",
    "device = torch.device('cuda' if torch.cuda.is_available() else 'cpu')"
   ]
  },
  {
   "cell_type": "markdown",
   "id": "a95e1600",
   "metadata": {
    "id": "a95e1600",
    "papermill": {
     "duration": 0.008566,
     "end_time": "2022-07-22T09:19:24.840908",
     "exception": false,
     "start_time": "2022-07-22T09:19:24.832342",
     "status": "completed"
    },
    "tags": []
   },
   "source": [
    "# ABC Pre-generator Model \n",
    "\n",
    "1. The catboost model is used as a pre-generator model for the ABC-GAN. \n",
    "2. The model is first trained on the entire dataset \n",
    "3. It generats X,Y pairs and we add some Gaussian noise with mean 0 and variance 1 to it which is then feed as input to the generator.\n"
   ]
  },
  {
   "cell_type": "code",
   "execution_count": 9,
   "id": "ac011ebf",
   "metadata": {
    "execution": {
     "iopub.execute_input": "2022-07-22T09:19:24.861947Z",
     "iopub.status.busy": "2022-07-22T09:19:24.861452Z",
     "iopub.status.idle": "2022-07-22T09:19:48.293820Z",
     "shell.execute_reply": "2022-07-22T09:19:48.292845Z"
    },
    "papermill": {
     "duration": 23.445537,
     "end_time": "2022-07-22T09:19:48.296478",
     "exception": false,
     "start_time": "2022-07-22T09:19:24.850941",
     "status": "completed"
    },
    "tags": []
   },
   "outputs": [
    {
     "name": "stdout",
     "output_type": "stream",
     "text": [
      "Device used : cpu\n"
     ]
    },
    {
     "name": "stdout",
     "output_type": "stream",
     "text": [
      "epoch 0  | loss: 1.11494 | train_mse: 5.18063 | train_mae: 1.56099 |  0:00:00s\n",
      "epoch 1  | loss: 1.02588 | train_mse: 3.96179 | train_mae: 1.37341 |  0:00:00s\n"
     ]
    },
    {
     "name": "stdout",
     "output_type": "stream",
     "text": [
      "epoch 2  | loss: 1.00373 | train_mse: 3.34206 | train_mae: 1.3009  |  0:00:00s\n",
      "epoch 3  | loss: 0.90662 | train_mse: 2.86691 | train_mae: 1.23145 |  0:00:00s\n"
     ]
    },
    {
     "name": "stdout",
     "output_type": "stream",
     "text": [
      "epoch 4  | loss: 0.83115 | train_mse: 2.53276 | train_mae: 1.18406 |  0:00:00s\n",
      "epoch 5  | loss: 0.87437 | train_mse: 2.29028 | train_mae: 1.1353  |  0:00:01s\n"
     ]
    },
    {
     "name": "stdout",
     "output_type": "stream",
     "text": [
      "epoch 6  | loss: 0.7216  | train_mse: 2.03415 | train_mae: 1.06834 |  0:00:01s\n",
      "epoch 7  | loss: 0.7708  | train_mse: 1.73911 | train_mae: 0.99362 |  0:00:01s\n"
     ]
    },
    {
     "name": "stdout",
     "output_type": "stream",
     "text": [
      "epoch 8  | loss: 0.77982 | train_mse: 1.56746 | train_mae: 0.96099 |  0:00:01s\n",
      "epoch 9  | loss: 0.60713 | train_mse: 1.40637 | train_mae: 0.92805 |  0:00:01s\n"
     ]
    },
    {
     "name": "stdout",
     "output_type": "stream",
     "text": [
      "epoch 10 | loss: 0.52405 | train_mse: 1.26054 | train_mae: 0.88146 |  0:00:01s\n",
      "epoch 11 | loss: 0.53711 | train_mse: 1.16206 | train_mae: 0.84999 |  0:00:01s\n"
     ]
    },
    {
     "name": "stdout",
     "output_type": "stream",
     "text": [
      "epoch 12 | loss: 0.6765  | train_mse: 1.08868 | train_mae: 0.82746 |  0:00:01s\n",
      "epoch 13 | loss: 0.41804 | train_mse: 0.99405 | train_mae: 0.79507 |  0:00:01s\n",
      "epoch 14 | loss: 0.57734 | train_mse: 0.91184 | train_mae: 0.76426 |  0:00:01s"
     ]
    },
    {
     "name": "stdout",
     "output_type": "stream",
     "text": [
      "\n",
      "epoch 15 | loss: 0.4624  | train_mse: 0.83076 | train_mae: 0.73261 |  0:00:02s\n"
     ]
    },
    {
     "name": "stdout",
     "output_type": "stream",
     "text": [
      "epoch 16 | loss: 0.41173 | train_mse: 0.76051 | train_mae: 0.70444 |  0:00:02s\n",
      "epoch 17 | loss: 0.46393 | train_mse: 0.70007 | train_mae: 0.67027 |  0:00:02s\n"
     ]
    },
    {
     "name": "stdout",
     "output_type": "stream",
     "text": [
      "epoch 18 | loss: 0.45329 | train_mse: 0.63395 | train_mae: 0.63661 |  0:00:02s\n",
      "epoch 19 | loss: 0.31487 | train_mse: 0.58648 | train_mae: 0.60735 |  0:00:02s\n"
     ]
    },
    {
     "name": "stdout",
     "output_type": "stream",
     "text": [
      "epoch 20 | loss: 0.40533 | train_mse: 0.54443 | train_mae: 0.58282 |  0:00:02s\n",
      "epoch 21 | loss: 0.35052 | train_mse: 0.50281 | train_mae: 0.56047 |  0:00:02s\n",
      "epoch 22 | loss: 0.50957 | train_mse: 0.47068 | train_mae: 0.54199 |  0:00:02s\n"
     ]
    },
    {
     "name": "stdout",
     "output_type": "stream",
     "text": [
      "epoch 23 | loss: 0.32211 | train_mse: 0.44007 | train_mae: 0.52329 |  0:00:02s\n",
      "epoch 24 | loss: 0.37266 | train_mse: 0.41544 | train_mae: 0.51294 |  0:00:03s\n",
      "epoch 25 | loss: 0.36767 | train_mse: 0.39159 | train_mae: 0.49553 |  0:00:03s\n"
     ]
    },
    {
     "name": "stdout",
     "output_type": "stream",
     "text": [
      "epoch 26 | loss: 0.40186 | train_mse: 0.37041 | train_mae: 0.48233 |  0:00:03s\n",
      "epoch 27 | loss: 0.28922 | train_mse: 0.35312 | train_mae: 0.47468 |  0:00:03s\n"
     ]
    },
    {
     "name": "stdout",
     "output_type": "stream",
     "text": [
      "epoch 28 | loss: 0.45992 | train_mse: 0.33259 | train_mae: 0.46288 |  0:00:03s\n",
      "epoch 29 | loss: 0.32035 | train_mse: 0.30592 | train_mae: 0.44292 |  0:00:03s\n",
      "epoch 30 | loss: 0.32108 | train_mse: 0.28764 | train_mae: 0.42643 |  0:00:03s\n"
     ]
    },
    {
     "name": "stdout",
     "output_type": "stream",
     "text": [
      "epoch 31 | loss: 0.29362 | train_mse: 0.27546 | train_mae: 0.41417 |  0:00:03s\n",
      "epoch 32 | loss: 0.33685 | train_mse: 0.26824 | train_mae: 0.40828 |  0:00:03s\n",
      "epoch 33 | loss: 0.28607 | train_mse: 0.25391 | train_mae: 0.39988 |  0:00:03s\n"
     ]
    },
    {
     "name": "stdout",
     "output_type": "stream",
     "text": [
      "epoch 34 | loss: 0.31664 | train_mse: 0.24587 | train_mae: 0.39593 |  0:00:04s\n",
      "epoch 35 | loss: 0.3532  | train_mse: 0.2341  | train_mae: 0.38951 |  0:00:04s\n"
     ]
    },
    {
     "name": "stdout",
     "output_type": "stream",
     "text": [
      "epoch 36 | loss: 0.26392 | train_mse: 0.22756 | train_mae: 0.3871  |  0:00:04s\n",
      "epoch 37 | loss: 0.26089 | train_mse: 0.21526 | train_mae: 0.38022 |  0:00:04s\n"
     ]
    },
    {
     "name": "stdout",
     "output_type": "stream",
     "text": [
      "epoch 38 | loss: 0.27577 | train_mse: 0.20292 | train_mae: 0.373   |  0:00:04s\n",
      "epoch 39 | loss: 0.25282 | train_mse: 0.20127 | train_mae: 0.37013 |  0:00:04s\n",
      "epoch 40 | loss: 0.38042 | train_mse: 0.19927 | train_mae: 0.36726 |  0:00:04s\n"
     ]
    },
    {
     "name": "stdout",
     "output_type": "stream",
     "text": [
      "epoch 41 | loss: 0.45449 | train_mse: 0.19242 | train_mae: 0.36067 |  0:00:04s\n",
      "epoch 42 | loss: 0.236   | train_mse: 0.18556 | train_mae: 0.35298 |  0:00:04s\n",
      "epoch 43 | loss: 0.20092 | train_mse: 0.17224 | train_mae: 0.34113 |  0:00:04s\n"
     ]
    },
    {
     "name": "stdout",
     "output_type": "stream",
     "text": [
      "epoch 44 | loss: 0.32008 | train_mse: 0.1622  | train_mae: 0.32989 |  0:00:05s\n",
      "epoch 45 | loss: 0.36101 | train_mse: 0.1522  | train_mae: 0.31859 |  0:00:05s\n"
     ]
    },
    {
     "name": "stdout",
     "output_type": "stream",
     "text": [
      "epoch 46 | loss: 0.36654 | train_mse: 0.14612 | train_mae: 0.30975 |  0:00:05s\n",
      "epoch 47 | loss: 0.31362 | train_mse: 0.14267 | train_mae: 0.30353 |  0:00:05s\n"
     ]
    },
    {
     "name": "stdout",
     "output_type": "stream",
     "text": [
      "epoch 48 | loss: 0.21545 | train_mse: 0.14015 | train_mae: 0.29859 |  0:00:05s\n",
      "epoch 49 | loss: 0.45279 | train_mse: 0.13645 | train_mae: 0.29522 |  0:00:05s\n",
      "epoch 50 | loss: 0.27096 | train_mse: 0.1347  | train_mae: 0.29201 |  0:00:05s\n"
     ]
    },
    {
     "name": "stdout",
     "output_type": "stream",
     "text": [
      "epoch 51 | loss: 0.17304 | train_mse: 0.13431 | train_mae: 0.29241 |  0:00:05s\n",
      "epoch 52 | loss: 0.28056 | train_mse: 0.13648 | train_mae: 0.29796 |  0:00:05s\n",
      "epoch 53 | loss: 0.27912 | train_mse: 0.13982 | train_mae: 0.3037  |  0:00:05s\n"
     ]
    },
    {
     "name": "stdout",
     "output_type": "stream",
     "text": [
      "epoch 54 | loss: 0.24782 | train_mse: 0.14224 | train_mae: 0.30814 |  0:00:06s\n",
      "epoch 55 | loss: 0.2022  | train_mse: 0.14311 | train_mae: 0.30953 |  0:00:06s\n"
     ]
    },
    {
     "name": "stdout",
     "output_type": "stream",
     "text": [
      "epoch 56 | loss: 0.24863 | train_mse: 0.14168 | train_mae: 0.3101  |  0:00:06s\n",
      "epoch 57 | loss: 0.25131 | train_mse: 0.13954 | train_mae: 0.31004 |  0:00:06s\n"
     ]
    },
    {
     "name": "stdout",
     "output_type": "stream",
     "text": [
      "epoch 58 | loss: 0.4433  | train_mse: 0.13769 | train_mae: 0.30847 |  0:00:06s\n",
      "epoch 59 | loss: 0.39503 | train_mse: 0.13608 | train_mae: 0.30577 |  0:00:06s\n",
      "epoch 60 | loss: 0.34646 | train_mse: 0.13592 | train_mae: 0.3056  |  0:00:06s\n"
     ]
    },
    {
     "name": "stdout",
     "output_type": "stream",
     "text": [
      "epoch 61 | loss: 0.25403 | train_mse: 0.13497 | train_mae: 0.30486 |  0:00:06s\n",
      "epoch 62 | loss: 0.30908 | train_mse: 0.13881 | train_mae: 0.30635 |  0:00:06s\n",
      "epoch 63 | loss: 0.27568 | train_mse: 0.13978 | train_mae: 0.30567 |  0:00:06s\n"
     ]
    },
    {
     "name": "stdout",
     "output_type": "stream",
     "text": [
      "epoch 64 | loss: 0.27972 | train_mse: 0.14264 | train_mae: 0.30561 |  0:00:07s\n",
      "epoch 65 | loss: 0.20224 | train_mse: 0.1401  | train_mae: 0.2992  |  0:00:07s\n",
      "epoch 66 | loss: 0.18018 | train_mse: 0.13557 | train_mae: 0.29368 |  0:00:07s\n"
     ]
    },
    {
     "name": "stdout",
     "output_type": "stream",
     "text": [
      "epoch 67 | loss: 0.27272 | train_mse: 0.13228 | train_mae: 0.28981 |  0:00:07s\n",
      "epoch 68 | loss: 0.25346 | train_mse: 0.13041 | train_mae: 0.28722 |  0:00:07s\n",
      "epoch 69 | loss: 0.1844  | train_mse: 0.12808 | train_mae: 0.28385 |  0:00:07s\n"
     ]
    },
    {
     "name": "stdout",
     "output_type": "stream",
     "text": [
      "epoch 70 | loss: 0.20344 | train_mse: 0.12868 | train_mae: 0.28684 |  0:00:07s\n",
      "epoch 71 | loss: 0.30686 | train_mse: 0.12908 | train_mae: 0.28944 |  0:00:07s\n",
      "epoch 72 | loss: 0.17914 | train_mse: 0.12682 | train_mae: 0.28753 |  0:00:07s\n"
     ]
    },
    {
     "name": "stdout",
     "output_type": "stream",
     "text": [
      "epoch 73 | loss: 0.21346 | train_mse: 0.12392 | train_mae: 0.28297 |  0:00:07s\n",
      "epoch 74 | loss: 0.27639 | train_mse: 0.12081 | train_mae: 0.28095 |  0:00:07s\n",
      "epoch 75 | loss: 0.1813  | train_mse: 0.11754 | train_mae: 0.27766 |  0:00:08s\n"
     ]
    },
    {
     "name": "stdout",
     "output_type": "stream",
     "text": [
      "epoch 76 | loss: 0.23731 | train_mse: 0.11531 | train_mae: 0.27506 |  0:00:08s\n",
      "epoch 77 | loss: 0.25618 | train_mse: 0.11562 | train_mae: 0.27631 |  0:00:08s\n"
     ]
    },
    {
     "name": "stdout",
     "output_type": "stream",
     "text": [
      "epoch 78 | loss: 0.24839 | train_mse: 0.11373 | train_mae: 0.27497 |  0:00:08s\n",
      "epoch 79 | loss: 0.15357 | train_mse: 0.10985 | train_mae: 0.26903 |  0:00:08s\n",
      "epoch 80 | loss: 0.26198 | train_mse: 0.10801 | train_mae: 0.26643 |  0:00:08s\n"
     ]
    },
    {
     "name": "stdout",
     "output_type": "stream",
     "text": [
      "epoch 81 | loss: 0.13878 | train_mse: 0.10659 | train_mae: 0.26318 |  0:00:08s\n",
      "epoch 82 | loss: 0.17794 | train_mse: 0.10416 | train_mae: 0.2581  |  0:00:08s\n",
      "epoch 83 | loss: 0.19133 | train_mse: 0.10528 | train_mae: 0.26063 |  0:00:08s\n"
     ]
    },
    {
     "name": "stdout",
     "output_type": "stream",
     "text": [
      "epoch 84 | loss: 0.34894 | train_mse: 0.10497 | train_mae: 0.25901 |  0:00:08s\n",
      "epoch 85 | loss: 0.30847 | train_mse: 0.10491 | train_mae: 0.25967 |  0:00:09s\n"
     ]
    },
    {
     "name": "stdout",
     "output_type": "stream",
     "text": [
      "epoch 86 | loss: 0.14026 | train_mse: 0.10473 | train_mae: 0.26022 |  0:00:09s\n",
      "epoch 87 | loss: 0.18077 | train_mse: 0.10574 | train_mae: 0.26162 |  0:00:09s\n"
     ]
    },
    {
     "name": "stdout",
     "output_type": "stream",
     "text": [
      "epoch 88 | loss: 0.28811 | train_mse: 0.10702 | train_mae: 0.26259 |  0:00:09s\n",
      "epoch 89 | loss: 0.18324 | train_mse: 0.10574 | train_mae: 0.25883 |  0:00:09s\n",
      "epoch 90 | loss: 0.299   | train_mse: 0.10167 | train_mae: 0.2516  |  0:00:09s\n"
     ]
    },
    {
     "name": "stdout",
     "output_type": "stream",
     "text": [
      "epoch 91 | loss: 0.24342 | train_mse: 0.09991 | train_mae: 0.24682 |  0:00:09s\n",
      "epoch 92 | loss: 0.15942 | train_mse: 0.09785 | train_mae: 0.2442  |  0:00:09s\n",
      "epoch 93 | loss: 0.26921 | train_mse: 0.09526 | train_mae: 0.23914 |  0:00:09s\n"
     ]
    },
    {
     "name": "stdout",
     "output_type": "stream",
     "text": [
      "epoch 94 | loss: 0.18524 | train_mse: 0.09472 | train_mae: 0.23611 |  0:00:09s\n",
      "epoch 95 | loss: 0.21085 | train_mse: 0.09392 | train_mae: 0.23345 |  0:00:10s\n",
      "epoch 96 | loss: 0.15476 | train_mse: 0.09357 | train_mae: 0.23193 |  0:00:10s\n"
     ]
    },
    {
     "name": "stdout",
     "output_type": "stream",
     "text": [
      "epoch 97 | loss: 0.11471 | train_mse: 0.09154 | train_mae: 0.23144 |  0:00:10s\n"
     ]
    },
    {
     "name": "stdout",
     "output_type": "stream",
     "text": [
      "epoch 98 | loss: 0.12873 | train_mse: 0.09012 | train_mae: 0.23235 |  0:00:10s\n",
      "epoch 99 | loss: 0.22078 | train_mse: 0.09166 | train_mae: 0.23686 |  0:00:10s\n",
      "epoch 100| loss: 0.17944 | train_mse: 0.09244 | train_mae: 0.2398  |  0:00:10s\n"
     ]
    },
    {
     "name": "stdout",
     "output_type": "stream",
     "text": [
      "epoch 101| loss: 0.14976 | train_mse: 0.09185 | train_mae: 0.23909 |  0:00:10s\n",
      "epoch 102| loss: 0.15947 | train_mse: 0.09229 | train_mae: 0.24029 |  0:00:10s\n",
      "epoch 103| loss: 0.16857 | train_mse: 0.09243 | train_mae: 0.23888 |  0:00:10s\n"
     ]
    },
    {
     "name": "stdout",
     "output_type": "stream",
     "text": [
      "epoch 104| loss: 0.28659 | train_mse: 0.09224 | train_mae: 0.2369  |  0:00:11s\n"
     ]
    },
    {
     "name": "stdout",
     "output_type": "stream",
     "text": [
      "epoch 105| loss: 0.23705 | train_mse: 0.09023 | train_mae: 0.23121 |  0:00:11s\n",
      "epoch 106| loss: 0.25925 | train_mse: 0.08788 | train_mae: 0.22809 |  0:00:11s\n",
      "epoch 107| loss: 0.19504 | train_mse: 0.08766 | train_mae: 0.23004 |  0:00:11s\n"
     ]
    },
    {
     "name": "stdout",
     "output_type": "stream",
     "text": [
      "epoch 108| loss: 0.19001 | train_mse: 0.08532 | train_mae: 0.22752 |  0:00:11s\n",
      "epoch 109| loss: 0.22858 | train_mse: 0.08441 | train_mae: 0.22713 |  0:00:11s\n"
     ]
    },
    {
     "name": "stdout",
     "output_type": "stream",
     "text": [
      "epoch 110| loss: 0.34464 | train_mse: 0.08343 | train_mae: 0.22662 |  0:00:11s\n",
      "epoch 111| loss: 0.18714 | train_mse: 0.08494 | train_mae: 0.23003 |  0:00:11s\n"
     ]
    },
    {
     "name": "stdout",
     "output_type": "stream",
     "text": [
      "epoch 112| loss: 0.1721  | train_mse: 0.08538 | train_mae: 0.23129 |  0:00:12s\n",
      "epoch 113| loss: 0.16723 | train_mse: 0.08385 | train_mae: 0.228   |  0:00:12s\n"
     ]
    },
    {
     "name": "stdout",
     "output_type": "stream",
     "text": [
      "epoch 114| loss: 0.17959 | train_mse: 0.08259 | train_mae: 0.226   |  0:00:12s\n",
      "epoch 115| loss: 0.34251 | train_mse: 0.08299 | train_mae: 0.22568 |  0:00:12s\n"
     ]
    },
    {
     "name": "stdout",
     "output_type": "stream",
     "text": [
      "epoch 116| loss: 0.18931 | train_mse: 0.08059 | train_mae: 0.2217  |  0:00:12s\n",
      "epoch 117| loss: 0.33323 | train_mse: 0.07857 | train_mae: 0.21823 |  0:00:12s\n"
     ]
    },
    {
     "name": "stdout",
     "output_type": "stream",
     "text": [
      "epoch 118| loss: 0.17592 | train_mse: 0.07706 | train_mae: 0.21777 |  0:00:12s\n",
      "epoch 119| loss: 0.28466 | train_mse: 0.07653 | train_mae: 0.21674 |  0:00:12s\n"
     ]
    },
    {
     "name": "stdout",
     "output_type": "stream",
     "text": [
      "epoch 120| loss: 0.20964 | train_mse: 0.07525 | train_mae: 0.21349 |  0:00:13s\n",
      "epoch 121| loss: 0.16082 | train_mse: 0.07423 | train_mae: 0.21456 |  0:00:13s\n"
     ]
    },
    {
     "name": "stdout",
     "output_type": "stream",
     "text": [
      "epoch 122| loss: 0.2897  | train_mse: 0.07499 | train_mae: 0.2174  |  0:00:13s\n",
      "epoch 123| loss: 0.26323 | train_mse: 0.07518 | train_mae: 0.21881 |  0:00:13s\n"
     ]
    },
    {
     "name": "stdout",
     "output_type": "stream",
     "text": [
      "epoch 124| loss: 0.17831 | train_mse: 0.07581 | train_mae: 0.21844 |  0:00:13s\n",
      "epoch 125| loss: 0.20445 | train_mse: 0.0753  | train_mae: 0.21699 |  0:00:13s\n",
      "epoch 126| loss: 0.26197 | train_mse: 0.07498 | train_mae: 0.21348 |  0:00:13s\n"
     ]
    },
    {
     "name": "stdout",
     "output_type": "stream",
     "text": [
      "epoch 127| loss: 0.17515 | train_mse: 0.07559 | train_mae: 0.21348 |  0:00:13s\n",
      "epoch 128| loss: 0.1529  | train_mse: 0.0756  | train_mae: 0.21391 |  0:00:13s\n",
      "epoch 129| loss: 0.15565 | train_mse: 0.07385 | train_mae: 0.21114 |  0:00:13s\n"
     ]
    },
    {
     "name": "stdout",
     "output_type": "stream",
     "text": [
      "epoch 130| loss: 0.13565 | train_mse: 0.07363 | train_mae: 0.20988 |  0:00:14s\n",
      "epoch 131| loss: 0.17248 | train_mse: 0.07322 | train_mae: 0.20851 |  0:00:14s\n"
     ]
    },
    {
     "name": "stdout",
     "output_type": "stream",
     "text": [
      "epoch 132| loss: 0.18725 | train_mse: 0.07441 | train_mae: 0.20974 |  0:00:14s\n",
      "epoch 133| loss: 0.11713 | train_mse: 0.07525 | train_mae: 0.21187 |  0:00:14s\n"
     ]
    },
    {
     "name": "stdout",
     "output_type": "stream",
     "text": [
      "epoch 134| loss: 0.1037  | train_mse: 0.07685 | train_mae: 0.21384 |  0:00:14s\n",
      "epoch 135| loss: 0.1186  | train_mse: 0.07954 | train_mae: 0.22216 |  0:00:14s\n"
     ]
    },
    {
     "name": "stdout",
     "output_type": "stream",
     "text": [
      "epoch 136| loss: 0.43103 | train_mse: 0.0815  | train_mae: 0.2257  |  0:00:14s\n",
      "epoch 137| loss: 0.18173 | train_mse: 0.08234 | train_mae: 0.2264  |  0:00:14s\n",
      "epoch 138| loss: 0.30601 | train_mse: 0.08546 | train_mae: 0.23272 |  0:00:14s\n"
     ]
    },
    {
     "name": "stdout",
     "output_type": "stream",
     "text": [
      "epoch 139| loss: 0.13909 | train_mse: 0.08799 | train_mae: 0.23733 |  0:00:14s\n",
      "epoch 140| loss: 0.20805 | train_mse: 0.0828  | train_mae: 0.22895 |  0:00:15s\n",
      "epoch 141| loss: 0.1803  | train_mse: 0.07889 | train_mae: 0.22494 |  0:00:15s\n"
     ]
    },
    {
     "name": "stdout",
     "output_type": "stream",
     "text": [
      "epoch 142| loss: 0.17845 | train_mse: 0.07512 | train_mae: 0.21824 |  0:00:15s\n",
      "epoch 143| loss: 0.25217 | train_mse: 0.07281 | train_mae: 0.21415 |  0:00:15s\n"
     ]
    },
    {
     "name": "stdout",
     "output_type": "stream",
     "text": [
      "epoch 144| loss: 0.10952 | train_mse: 0.07178 | train_mae: 0.21291 |  0:00:15s\n",
      "epoch 145| loss: 0.1328  | train_mse: 0.07229 | train_mae: 0.21243 |  0:00:15s\n",
      "epoch 146| loss: 0.1453  | train_mse: 0.07203 | train_mae: 0.21217 |  0:00:15s\n"
     ]
    },
    {
     "name": "stdout",
     "output_type": "stream",
     "text": [
      "epoch 147| loss: 0.23189 | train_mse: 0.07417 | train_mae: 0.2156  |  0:00:15s\n",
      "epoch 148| loss: 0.23349 | train_mse: 0.07401 | train_mae: 0.21372 |  0:00:15s\n",
      "epoch 149| loss: 0.20451 | train_mse: 0.07362 | train_mae: 0.214   |  0:00:15s\n"
     ]
    },
    {
     "name": "stdout",
     "output_type": "stream",
     "text": [
      "epoch 150| loss: 0.21281 | train_mse: 0.07407 | train_mae: 0.21511 |  0:00:16s\n",
      "epoch 151| loss: 0.16685 | train_mse: 0.07371 | train_mae: 0.21418 |  0:00:16s\n",
      "epoch 152| loss: 0.18465 | train_mse: 0.07368 | train_mae: 0.21261 |  0:00:16s\n"
     ]
    },
    {
     "name": "stdout",
     "output_type": "stream",
     "text": [
      "epoch 153| loss: 0.18132 | train_mse: 0.07338 | train_mae: 0.21141 |  0:00:16s\n",
      "epoch 154| loss: 0.21486 | train_mse: 0.07343 | train_mae: 0.21251 |  0:00:16s\n",
      "epoch 155| loss: 0.17335 | train_mse: 0.07413 | train_mae: 0.21636 |  0:00:16s\n"
     ]
    },
    {
     "name": "stdout",
     "output_type": "stream",
     "text": [
      "epoch 156| loss: 0.11996 | train_mse: 0.07359 | train_mae: 0.21602 |  0:00:16s\n",
      "epoch 157| loss: 0.14895 | train_mse: 0.07314 | train_mae: 0.21509 |  0:00:16s\n",
      "epoch 158| loss: 0.0919  | train_mse: 0.07283 | train_mae: 0.21551 |  0:00:16s\n"
     ]
    },
    {
     "name": "stdout",
     "output_type": "stream",
     "text": [
      "epoch 159| loss: 0.11449 | train_mse: 0.06988 | train_mae: 0.21154 |  0:00:16s\n",
      "epoch 160| loss: 0.10868 | train_mse: 0.06896 | train_mae: 0.21051 |  0:00:16s\n",
      "epoch 161| loss: 0.2116  | train_mse: 0.07066 | train_mae: 0.21288 |  0:00:17s\n"
     ]
    },
    {
     "name": "stdout",
     "output_type": "stream",
     "text": [
      "epoch 162| loss: 0.13741 | train_mse: 0.07014 | train_mae: 0.21218 |  0:00:17s\n",
      "epoch 163| loss: 0.25787 | train_mse: 0.07054 | train_mae: 0.21303 |  0:00:17s\n"
     ]
    },
    {
     "name": "stdout",
     "output_type": "stream",
     "text": [
      "epoch 164| loss: 0.24683 | train_mse: 0.06972 | train_mae: 0.21285 |  0:00:17s\n",
      "epoch 165| loss: 0.14922 | train_mse: 0.06818 | train_mae: 0.21022 |  0:00:17s\n",
      "epoch 166| loss: 0.17239 | train_mse: 0.06705 | train_mae: 0.20655 |  0:00:17s\n"
     ]
    },
    {
     "name": "stdout",
     "output_type": "stream",
     "text": [
      "epoch 167| loss: 0.14208 | train_mse: 0.06797 | train_mae: 0.208   |  0:00:17s\n",
      "epoch 168| loss: 0.32706 | train_mse: 0.06739 | train_mae: 0.20733 |  0:00:17s\n",
      "epoch 169| loss: 0.20168 | train_mse: 0.06604 | train_mae: 0.20566 |  0:00:17s\n"
     ]
    },
    {
     "name": "stdout",
     "output_type": "stream",
     "text": [
      "epoch 170| loss: 0.24328 | train_mse: 0.06532 | train_mae: 0.20392 |  0:00:17s\n",
      "epoch 171| loss: 0.17204 | train_mse: 0.0666  | train_mae: 0.20754 |  0:00:18s\n",
      "epoch 172| loss: 0.13053 | train_mse: 0.06834 | train_mae: 0.2098  |  0:00:18s\n"
     ]
    },
    {
     "name": "stdout",
     "output_type": "stream",
     "text": [
      "epoch 173| loss: 0.14444 | train_mse: 0.07244 | train_mae: 0.21394 |  0:00:18s\n",
      "epoch 174| loss: 0.17435 | train_mse: 0.07579 | train_mae: 0.21571 |  0:00:18s\n"
     ]
    },
    {
     "name": "stdout",
     "output_type": "stream",
     "text": [
      "epoch 175| loss: 0.12176 | train_mse: 0.07631 | train_mae: 0.21509 |  0:00:18s\n",
      "epoch 176| loss: 0.1426  | train_mse: 0.07726 | train_mae: 0.21554 |  0:00:18s\n",
      "epoch 177| loss: 0.20176 | train_mse: 0.07888 | train_mae: 0.21672 |  0:00:18s\n"
     ]
    },
    {
     "name": "stdout",
     "output_type": "stream",
     "text": [
      "epoch 178| loss: 0.18612 | train_mse: 0.07668 | train_mae: 0.21467 |  0:00:19s\n",
      "epoch 179| loss: 0.18883 | train_mse: 0.07225 | train_mae: 0.20928 |  0:00:19s\n"
     ]
    },
    {
     "name": "stdout",
     "output_type": "stream",
     "text": [
      "epoch 180| loss: 0.19686 | train_mse: 0.06825 | train_mae: 0.20845 |  0:00:19s\n",
      "epoch 181| loss: 0.14425 | train_mse: 0.06724 | train_mae: 0.20843 |  0:00:19s\n",
      "epoch 182| loss: 0.17627 | train_mse: 0.06975 | train_mae: 0.21063 |  0:00:19s\n"
     ]
    },
    {
     "name": "stdout",
     "output_type": "stream",
     "text": [
      "epoch 183| loss: 0.11448 | train_mse: 0.06968 | train_mae: 0.21024 |  0:00:19s\n",
      "epoch 184| loss: 0.10714 | train_mse: 0.06866 | train_mae: 0.20759 |  0:00:19s\n",
      "epoch 185| loss: 0.18167 | train_mse: 0.06615 | train_mae: 0.20446 |  0:00:19s\n"
     ]
    },
    {
     "name": "stdout",
     "output_type": "stream",
     "text": [
      "epoch 186| loss: 0.19065 | train_mse: 0.06526 | train_mae: 0.20414 |  0:00:20s\n",
      "epoch 187| loss: 0.14228 | train_mse: 0.06466 | train_mae: 0.20415 |  0:00:20s\n"
     ]
    },
    {
     "name": "stdout",
     "output_type": "stream",
     "text": [
      "epoch 188| loss: 0.09081 | train_mse: 0.06534 | train_mae: 0.20767 |  0:00:20s\n",
      "epoch 189| loss: 0.14795 | train_mse: 0.06642 | train_mae: 0.21256 |  0:00:20s\n"
     ]
    },
    {
     "name": "stdout",
     "output_type": "stream",
     "text": [
      "epoch 190| loss: 0.20397 | train_mse: 0.06427 | train_mae: 0.20918 |  0:00:20s\n",
      "epoch 191| loss: 0.12917 | train_mse: 0.06426 | train_mae: 0.20965 |  0:00:20s\n",
      "epoch 192| loss: 0.18963 | train_mse: 0.06449 | train_mae: 0.21116 |  0:00:20s\n"
     ]
    },
    {
     "name": "stdout",
     "output_type": "stream",
     "text": [
      "epoch 193| loss: 0.2991  | train_mse: 0.06532 | train_mae: 0.21197 |  0:00:20s\n",
      "epoch 194| loss: 0.20629 | train_mse: 0.0653  | train_mae: 0.21078 |  0:00:20s\n",
      "epoch 195| loss: 0.12919 | train_mse: 0.06588 | train_mae: 0.20994 |  0:00:20s\n"
     ]
    },
    {
     "name": "stdout",
     "output_type": "stream",
     "text": [
      "epoch 196| loss: 0.18046 | train_mse: 0.06559 | train_mae: 0.20615 |  0:00:20s\n",
      "epoch 197| loss: 0.13448 | train_mse: 0.0683  | train_mae: 0.20896 |  0:00:21s\n",
      "epoch 198| loss: 0.22155 | train_mse: 0.06994 | train_mae: 0.20988 |  0:00:21s\n"
     ]
    },
    {
     "name": "stdout",
     "output_type": "stream",
     "text": [
      "epoch 199| loss: 0.17176 | train_mse: 0.07111 | train_mae: 0.2114  |  0:00:21s\n",
      "epoch 200| loss: 0.14162 | train_mse: 0.07169 | train_mae: 0.21145 |  0:00:21s\n",
      "epoch 201| loss: 0.09434 | train_mse: 0.06993 | train_mae: 0.21041 |  0:00:21s\n"
     ]
    },
    {
     "name": "stdout",
     "output_type": "stream",
     "text": [
      "epoch 202| loss: 0.34934 | train_mse: 0.07114 | train_mae: 0.21167 |  0:00:21s\n",
      "epoch 203| loss: 0.13434 | train_mse: 0.07074 | train_mae: 0.21183 |  0:00:21s\n",
      "epoch 204| loss: 0.09693 | train_mse: 0.06978 | train_mae: 0.20962 |  0:00:21s\n"
     ]
    },
    {
     "name": "stdout",
     "output_type": "stream",
     "text": [
      "epoch 205| loss: 0.11241 | train_mse: 0.06821 | train_mae: 0.20838 |  0:00:21s\n",
      "epoch 206| loss: 0.11632 | train_mse: 0.06661 | train_mae: 0.20833 |  0:00:21s\n",
      "epoch 207| loss: 0.18838 | train_mse: 0.0656  | train_mae: 0.20844 |  0:00:22s\n"
     ]
    },
    {
     "name": "stdout",
     "output_type": "stream",
     "text": [
      "epoch 208| loss: 0.15964 | train_mse: 0.06432 | train_mae: 0.2082  |  0:00:22s\n",
      "epoch 209| loss: 0.11725 | train_mse: 0.06482 | train_mae: 0.20705 |  0:00:22s\n"
     ]
    },
    {
     "name": "stdout",
     "output_type": "stream",
     "text": [
      "epoch 210| loss: 0.14182 | train_mse: 0.06411 | train_mae: 0.20594 |  0:00:22s\n",
      "epoch 211| loss: 0.16601 | train_mse: 0.06642 | train_mae: 0.20999 |  0:00:22s\n",
      "epoch 212| loss: 0.16811 | train_mse: 0.06678 | train_mae: 0.2095  |  0:00:22s\n"
     ]
    },
    {
     "name": "stdout",
     "output_type": "stream",
     "text": [
      "epoch 213| loss: 0.12149 | train_mse: 0.06536 | train_mae: 0.20728 |  0:00:22s\n",
      "epoch 214| loss: 0.1613  | train_mse: 0.06516 | train_mae: 0.20644 |  0:00:22s\n"
     ]
    },
    {
     "name": "stdout",
     "output_type": "stream",
     "text": [
      "epoch 215| loss: 0.23776 | train_mse: 0.06399 | train_mae: 0.20608 |  0:00:22s\n",
      "epoch 216| loss: 0.13241 | train_mse: 0.06389 | train_mae: 0.20602 |  0:00:22s\n",
      "epoch 217| loss: 0.22738 | train_mse: 0.06413 | train_mae: 0.20644 |  0:00:23s\n"
     ]
    },
    {
     "name": "stdout",
     "output_type": "stream",
     "text": [
      "epoch 218| loss: 0.14687 | train_mse: 0.06415 | train_mae: 0.20447 |  0:00:23s\n",
      "epoch 219| loss: 0.12891 | train_mse: 0.0666  | train_mae: 0.20728 |  0:00:23s\n"
     ]
    },
    {
     "name": "stdout",
     "output_type": "stream",
     "text": [
      "epoch 220| loss: 0.10912 | train_mse: 0.0705  | train_mae: 0.21221 |  0:00:23s\n",
      "\n",
      "Early stopping occurred at epoch 220 with best_epoch = 170 and best_train_mae = 0.20392\n",
      "Best weights from best epoch are automatically used!\n"
     ]
    }
   ],
   "source": [
    "#Train the Model\n",
    "\n",
    "Y_train = np.reshape(Y_train, (-1, 1))\n",
    "Y_test = np.reshape(Y_test, (-1, 1))\n",
    "\n",
    "prior_model = TabNetRegressor(optimizer_fn=torch.optim.Adam, optimizer_params=dict(lr = 0.001),\n",
    "          #scheduler_params={\"step_size\":10, ], \"gamma\":0.9},\n",
    "          #scheduler_fn=torch.optim.lr_scheduler.StepLR\n",
    "          )  #TabNetRegressor()\n",
    "\n",
    "prior_model.fit(X_train,Y_train,eval_set=[(X_train, Y_train)],\n",
    "            eval_name=['train'], \n",
    "            eval_metric=[ 'mse', 'mae'], \n",
    "            max_epochs = n_epochs, \n",
    "            batch_size = batch_size,\n",
    "            patience=50\n",
    "            )"
   ]
  },
  {
   "cell_type": "code",
   "execution_count": 10,
   "id": "af65dcda",
   "metadata": {
    "execution": {
     "iopub.execute_input": "2022-07-22T09:19:48.334413Z",
     "iopub.status.busy": "2022-07-22T09:19:48.333997Z",
     "iopub.status.idle": "2022-07-22T09:19:48.389288Z",
     "shell.execute_reply": "2022-07-22T09:19:48.387547Z"
    },
    "id": "af65dcda",
    "papermill": {
     "duration": 0.080905,
     "end_time": "2022-07-22T09:19:48.394556",
     "exception": false,
     "start_time": "2022-07-22T09:19:48.313651",
     "status": "completed"
    },
    "tags": []
   },
   "outputs": [
    {
     "data": {
      "application/scrapbook.scrap.json+json": {
       "data": 0.15929176897847358,
       "encoder": "json",
       "name": "Prior Model MSE",
       "version": 1
      }
     },
     "metadata": {
      "scrapbook": {
       "data": true,
       "display": false,
       "name": "Prior Model MSE"
      }
     },
     "output_type": "display_data"
    },
    {
     "data": {
      "application/scrapbook.scrap.json+json": {
       "data": 0.15674937681639417,
       "encoder": "json",
       "name": "ABC Pre-generator MSE",
       "version": 1
      }
     },
     "metadata": {
      "scrapbook": {
       "data": true,
       "display": false,
       "name": "ABC Pre-generator MSE"
      }
     },
     "output_type": "display_data"
    },
    {
     "data": {
      "application/scrapbook.scrap.json+json": {
       "data": 0.29554554543622935,
       "encoder": "json",
       "name": "Prior Model MAE",
       "version": 1
      }
     },
     "metadata": {
      "scrapbook": {
       "data": true,
       "display": false,
       "name": "Prior Model MAE"
      }
     },
     "output_type": "display_data"
    },
    {
     "name": "stdout",
     "output_type": "stream",
     "text": [
      "Prior Model MAE 0.29554554543622935\n"
     ]
    },
    {
     "data": {
      "application/scrapbook.scrap.json+json": {
       "data": 0.27266832620515896,
       "encoder": "json",
       "name": "ABC Pre-generator MAE",
       "version": 1
      }
     },
     "metadata": {
      "scrapbook": {
       "data": true,
       "display": false,
       "name": "ABC Pre-generator MAE"
      }
     },
     "output_type": "display_data"
    },
    {
     "name": "stdout",
     "output_type": "stream",
     "text": [
      "ABC Pre-generator MAE 0.27266832620515896\n"
     ]
    }
   ],
   "source": [
    "y_pred = prior_model.predict(X_test)\n",
    "y_abc = y_pred + np.random.normal(0,variance, y_pred.shape) + bias \n",
    "mse = mean_squared_error(y_pred,Y_test)\n",
    "sb.glue(\"Prior Model MSE\",mse)\n",
    "mse = mean_squared_error(y_abc,Y_test)\n",
    "sb.glue(\"ABC Pre-generator MSE\",mse)\n",
    "mae = mean_absolute_error(y_pred,Y_test)\n",
    "sb.glue(\"Prior Model MAE\",mae)\n",
    "print(\"Prior Model MAE\",mae)\n",
    "mae = mean_absolute_error(y_abc,Y_test)\n",
    "sb.glue(\"ABC Pre-generator MAE\",mae)\n",
    "print(\"ABC Pre-generator MAE\",mae)"
   ]
  },
  {
   "cell_type": "markdown",
   "id": "25609da2",
   "metadata": {
    "papermill": {
     "duration": 0.017526,
     "end_time": "2022-07-22T09:19:48.429083",
     "exception": false,
     "start_time": "2022-07-22T09:19:48.411557",
     "status": "completed"
    },
    "tags": []
   },
   "source": [
    "# mGAN Model"
   ]
  },
  {
   "cell_type": "code",
   "execution_count": 11,
   "id": "dfc3464d",
   "metadata": {
    "execution": {
     "iopub.execute_input": "2022-07-22T09:19:48.462337Z",
     "iopub.status.busy": "2022-07-22T09:19:48.461960Z",
     "iopub.status.idle": "2022-07-22T09:19:48.466764Z",
     "shell.execute_reply": "2022-07-22T09:19:48.465398Z"
    },
    "papermill": {
     "duration": 0.025779,
     "end_time": "2022-07-22T09:19:48.470523",
     "exception": false,
     "start_time": "2022-07-22T09:19:48.444744",
     "status": "completed"
    },
    "tags": []
   },
   "outputs": [],
   "source": [
    "# gen = network.Generator(n_features+1).to(device)\n",
    "# disc = network.Discriminator(n_features+1).to(device)\n",
    "\n",
    "# criterion = torch.nn.BCELoss()\n",
    "# gen_opt = torch.optim.Adam(gen.parameters(), lr=0.001, betas=(0.5, 0.999))\n",
    "# disc_opt = torch.optim.Adam(disc.parameters(), lr=0.001, betas=(0.5, 0.999))"
   ]
  },
  {
   "cell_type": "code",
   "execution_count": 12,
   "id": "b75fdd85",
   "metadata": {
    "execution": {
     "iopub.execute_input": "2022-07-22T09:19:48.502277Z",
     "iopub.status.busy": "2022-07-22T09:19:48.501926Z",
     "iopub.status.idle": "2022-07-22T09:19:48.505999Z",
     "shell.execute_reply": "2022-07-22T09:19:48.504822Z"
    },
    "papermill": {
     "duration": 0.024624,
     "end_time": "2022-07-22T09:19:48.509969",
     "exception": false,
     "start_time": "2022-07-22T09:19:48.485345",
     "status": "completed"
    },
    "tags": []
   },
   "outputs": [],
   "source": [
    "#Training the ABC_GAN \n",
    "# ABC_train_test2.training_GAN(disc,gen,disc_opt,gen_opt,train_data,batch_size,n_epochs,criterion,prior_model,variance,bias,device)"
   ]
  },
  {
   "cell_type": "code",
   "execution_count": 13,
   "id": "1fa7c368",
   "metadata": {
    "execution": {
     "iopub.execute_input": "2022-07-22T09:19:48.563007Z",
     "iopub.status.busy": "2022-07-22T09:19:48.562654Z",
     "iopub.status.idle": "2022-07-22T09:19:48.567129Z",
     "shell.execute_reply": "2022-07-22T09:19:48.565780Z"
    },
    "papermill": {
     "duration": 0.045621,
     "end_time": "2022-07-22T09:19:48.570687",
     "exception": false,
     "start_time": "2022-07-22T09:19:48.525066",
     "status": "completed"
    },
    "tags": []
   },
   "outputs": [],
   "source": [
    "# ABC_GAN1_metrics=ABC_train_test2.test_generator(gen,test_data,prior_model,variance,bias,\"1\",device)\n",
    "# sb.glue(\"ABC_GAN_1 Metrics\",ABC_GAN1_metrics)\n",
    "\n",
    "# print(\"MAE\")\n",
    "# print(mean(ABC_GAN1_metrics[1]))"
   ]
  },
  {
   "cell_type": "code",
   "execution_count": 14,
   "id": "eb22ce5c",
   "metadata": {
    "execution": {
     "iopub.execute_input": "2022-07-22T09:19:48.621738Z",
     "iopub.status.busy": "2022-07-22T09:19:48.621380Z",
     "iopub.status.idle": "2022-07-22T09:19:48.629030Z",
     "shell.execute_reply": "2022-07-22T09:19:48.625348Z"
    },
    "papermill": {
     "duration": 0.033833,
     "end_time": "2022-07-22T09:19:48.633716",
     "exception": false,
     "start_time": "2022-07-22T09:19:48.599883",
     "status": "completed"
    },
    "tags": []
   },
   "outputs": [],
   "source": [
    "# sanityChecks.discProbVsError(train_data,disc,device)\n",
    "# sanityChecks.discProbVsError(test_data,disc,device)"
   ]
  },
  {
   "cell_type": "markdown",
   "id": "962ac65c",
   "metadata": {
    "papermill": {
     "duration": 0.017807,
     "end_time": "2022-07-22T09:19:48.666742",
     "exception": false,
     "start_time": "2022-07-22T09:19:48.648935",
     "status": "completed"
    },
    "tags": []
   },
   "source": [
    "# mGAN Model with TabNet Generator"
   ]
  },
  {
   "cell_type": "code",
   "execution_count": 15,
   "id": "a0ed7796",
   "metadata": {
    "execution": {
     "iopub.execute_input": "2022-07-22T09:19:48.702697Z",
     "iopub.status.busy": "2022-07-22T09:19:48.701135Z",
     "iopub.status.idle": "2022-07-22T09:19:48.721315Z",
     "shell.execute_reply": "2022-07-22T09:19:48.720376Z"
    },
    "papermill": {
     "duration": 0.041666,
     "end_time": "2022-07-22T09:19:48.724255",
     "exception": false,
     "start_time": "2022-07-22T09:19:48.682589",
     "status": "completed"
    },
    "tags": []
   },
   "outputs": [],
   "source": [
    "gen2 = network.GeneratorTabnet(n_features+1).to(device)\n",
    "disc2 = network.Discriminator(n_features+1).to(device)\n",
    "\n",
    "criterion = torch.nn.BCELoss()\n",
    "gen_opt = torch.optim.Adam(gen2.parameters(), lr=0.001, betas=(0.5, 0.999))\n",
    "disc_opt = torch.optim.Adam(disc2.parameters(), lr=0.001, betas=(0.5, 0.999))"
   ]
  },
  {
   "cell_type": "code",
   "execution_count": 16,
   "id": "dfebbf86",
   "metadata": {
    "execution": {
     "iopub.execute_input": "2022-07-22T09:19:48.760890Z",
     "iopub.status.busy": "2022-07-22T09:19:48.760271Z",
     "iopub.status.idle": "2022-07-22T09:22:52.845809Z",
     "shell.execute_reply": "2022-07-22T09:22:52.844562Z"
    },
    "papermill": {
     "duration": 184.107553,
     "end_time": "2022-07-22T09:22:52.848905",
     "exception": false,
     "start_time": "2022-07-22T09:19:48.741352",
     "status": "completed"
    },
    "tags": []
   },
   "outputs": [
    {
     "data": {
      "image/png": "[encoded data removed]",
      "text/plain": [
       "<Figure size 432x288 with 1 Axes>"
      ]
     },
     "metadata": {
      "needs_background": "light"
     },
     "output_type": "display_data"
    },
    {
     "data": {
      "image/png": "[encoded data removed]",
      "text/plain": [
       "<Figure size 432x288 with 1 Axes>"
      ]
     },
     "metadata": {
      "needs_background": "light"
     },
     "output_type": "display_data"
    }
   ],
   "source": [
    "#Training the ABC_GAN \n",
    "ABC_train_test2.training_GAN(disc2,gen2,disc_opt,gen_opt,train_data,batch_size,n_epochs,criterion,prior_model,variance,bias,device)"
   ]
  },
  {
   "cell_type": "code",
   "execution_count": 17,
   "id": "6f030b72",
   "metadata": {
    "execution": {
     "iopub.execute_input": "2022-07-22T09:22:52.883584Z",
     "iopub.status.busy": "2022-07-22T09:22:52.883101Z",
     "iopub.status.idle": "2022-07-22T09:22:54.769262Z",
     "shell.execute_reply": "2022-07-22T09:22:54.767929Z"
    },
    "papermill": {
     "duration": 1.907126,
     "end_time": "2022-07-22T09:22:54.772151",
     "exception": false,
     "start_time": "2022-07-22T09:22:52.865025",
     "status": "completed"
    },
    "tags": []
   },
   "outputs": [
    {
     "data": {
      "application/scrapbook.scrap.json+json": {
       "data": 0.38409694809424333,
       "encoder": "json",
       "name": "ABC-GAN Model 1 MSE",
       "version": 1
      }
     },
     "metadata": {
      "scrapbook": {
       "data": true,
       "display": false,
       "name": "ABC-GAN Model 1 MSE"
      }
     },
     "output_type": "display_data"
    },
    {
     "data": {
      "application/scrapbook.scrap.json+json": {
       "data": 0.4752558282762766,
       "encoder": "json",
       "name": "ABC-GAN Model 1 MAE",
       "version": 1
      }
     },
     "metadata": {
      "scrapbook": {
       "data": true,
       "display": false,
       "name": "ABC-GAN Model 1 MAE"
      }
     },
     "output_type": "display_data"
    },
    {
     "data": {
      "application/scrapbook.scrap.json+json": {
       "data": 9.505116565525531,
       "encoder": "json",
       "name": "ABC-GAN Model 1 Manhattan Distance",
       "version": 1
      }
     },
     "metadata": {
      "scrapbook": {
       "data": true,
       "display": false,
       "name": "ABC-GAN Model 1 Manhattan Distance"
      }
     },
     "output_type": "display_data"
    },
    {
     "data": {
      "application/scrapbook.scrap.json+json": {
       "data": 2.770208531902647,
       "encoder": "json",
       "name": "ABC-GAN Model 1 Euclidean distance",
       "version": 1
      }
     },
     "metadata": {
      "scrapbook": {
       "data": true,
       "display": false,
       "name": "ABC-GAN Model 1 Euclidean distance"
      }
     },
     "output_type": "display_data"
    },
    {
     "data": {
      "application/scrapbook.scrap.json+json": {
       "data": [
        [
         0.43063670553013295,
         0.3984908543158308,
         0.36997972033038995,
         0.33253507032938073,
         0.3946122331203768,
         0.41530017688711995,
         0.3992113697474905,
         0.3641509645384643,
         0.4254150239738488,
         0.3800363593114462,
         0.3873315820895911,
         0.37287293578244024,
         0.3637515679564861,
         0.359226862342847,
         0.40435516100146207,
         0.3747979638313637,
         0.3840256751006835,
         0.36046532500417017,
         0.39219379707307994,
         0.39722361976788645,
         0.40457738533989207,
         0.3498093302504689,
         0.3853203806534967,
         0.41744046221941566,
         0.3654267015420031,
         0.3780631923455303,
         0.38164918919807445,
         0.4409930732587247,
         0.39429264301128086,
         0.40138026573665914,
         0.34596572783783075,
         0.40893054418223185,
         0.3390359050132209,
         0.3702289323864542,
         0.40160920232029157,
         0.4132798957840058,
         0.36308261153747995,
         0.4298621328505551,
         0.3849473327736481,
         0.36551645693926493,
         0.3852007501874087,
         0.3783460001895461,
         0.38061729950805784,
         0.3720204798768729,
         0.3502906412342922,
         0.3865074942766309,
         0.42924331545368755,
         0.4035447922030091,
         0.38523761831541786,
         0.3746167839226052,
         0.3920969622298715,
         0.38289067879004157,
         0.42784553611404685,
         0.3602163273954815,
         0.41498737819849546,
         0.3502201804341346,
         0.3828934975707712,
         0.39514684453986665,
         0.3464234475112459,
         0.3377463095590217,
         0.3760603004291877,
         0.40742343301332884,
         0.3649674843512385,
         0.32756975563970286,
         0.3968652313787663,
         0.3657261345399493,
         0.38589048998668757,
         0.416937040260946,
         0.41299422464955005,
         0.32814151171595074,
         0.3936416587790431,
         0.3428150809906774,
         0.3932182220257041,
         0.370377058086664,
         0.3402099577450995,
         0.3871108617955686,
         0.41169836871538495,
         0.3819230778627343,
         0.3813350148778746,
         0.3417835430508042,
         0.412851977108904,
         0.3838259599383858,
         0.37682660238238347,
         0.3735547089874183,
         0.4141245325610129,
         0.3957657519900379,
         0.4195827762818015,
         0.38626442084874874,
         0.39437136296663544,
         0.3878214029948677,
         0.38843297172602476,
         0.3986245883485808,
         0.38059492931447597,
         0.37697568720205293,
         0.39077427058452724,
         0.3823351294245514,
         0.4008477105773244,
         0.35120922139643895,
         0.38508147863604697,
         0.3990242055337266
        ],
        [
         0.4848736129701138,
         0.47871470972895624,
         0.4744132626801729,
         0.4454729001969099,
         0.4683016862720251,
         0.49908715710043905,
         0.48710690811276436,
         0.4582448828965425,
         0.49426502361893654,
         0.47966918274760245,
         0.48835892975330353,
         0.46359056085348127,
         0.4720120720565319,
         0.46319123432040216,
         0.45996696054935454,
         0.4705323692411184,
         0.4740051321685314,
         0.46122240014374255,
         0.4761635858565569,
         0.48043259009718897,
         0.4822087071835995,
         0.47082545682787896,
         0.4869655530899763,
         0.5014643259346485,
         0.47358544282615184,
         0.46771097742021084,
         0.4577619358897209,
         0.490309963747859,
         0.4676875464618206,
         0.48180997334420683,
         0.451247463747859,
         0.4923880651593208,
         0.44166284762322905,
         0.4733080558478832,
         0.48322625607252123,
         0.505736430361867,
         0.46586233340203764,
         0.5053183317184449,
         0.4736782856285572,
         0.4714043874293566,
         0.4647780694067478,
         0.49281570985913276,
         0.478158038854599,
         0.47030692659318446,
         0.4607871748507023,
         0.4924767788499594,
         0.503368740901351,
         0.48464360311627386,
         0.4622191049158573,
         0.47272556722164155,
         0.4607373341917992,
         0.4832545965909958,
         0.49304915480315686,
         0.46171722039580343,
         0.49084556102752686,
         0.4519073847681284,
         0.472498008236289,
         0.484817985445261,
         0.4504637598991394,
         0.44307312071323396,
         0.4583797711879015,
         0.47337528355419634,
         0.4686681915074587,
         0.4314770489931107,
         0.5049736645072699,
         0.47391718365252017,
         0.46972819827497003,
         0.4818564224988222,
         0.48600919023156164,
         0.4427145253866911,
         0.4805593077093363,
         0.44820027947425845,
         0.48077840693295004,
         0.47117170356214044,
         0.4561303790658712,
         0.46925260312855244,
         0.49010046049952505,
         0.480339977145195,
         0.47706797569990156,
         0.46034660562872887,
         0.5019295796751976,
         0.48076200783252715,
         0.47066539749503133,
         0.46939024366438387,
         0.4852048821747303,
         0.47035689651966095,
         0.49294830597937106,
         0.4783523347228765,
         0.49257917068898677,
         0.48403169214725494,
         0.49188179448246955,
         0.4851834800094366,
         0.48416320644319055,
         0.4600544888526201,
         0.4830130871385336,
         0.467734444886446,
         0.49099977016448976,
         0.4636380825191736,
         0.48101203665137293,
         0.48820340521633626
        ],
        [
         9.697472259402275,
         9.574294194579124,
         9.488265253603458,
         8.909458003938198,
         9.366033725440502,
         9.981743142008781,
         9.742138162255287,
         9.164897657930851,
         9.88530047237873,
         9.59338365495205,
         9.76717859506607,
         9.271811217069626,
         9.440241441130638,
         9.263824686408043,
         9.199339210987091,
         9.410647384822369,
         9.480102643370628,
         9.224448002874851,
         9.523271717131138,
         9.608651801943779,
         9.64417414367199,
         9.416509136557579,
         9.739311061799526,
         10.02928651869297,
         9.471708856523037,
         9.354219548404217,
         9.155238717794418,
         9.80619927495718,
         9.353750929236412,
         9.636199466884136,
         9.02494927495718,
         9.847761303186417,
         8.83325695246458,
         9.466161116957664,
         9.664525121450424,
         10.114728607237339,
         9.317246668040752,
         10.106366634368896,
         9.473565712571144,
         9.428087748587132,
         9.295561388134956,
         9.856314197182655,
         9.56316077709198,
         9.40613853186369,
         9.215743497014046,
         9.849535576999187,
         10.06737481802702,
         9.692872062325478,
         9.244382098317146,
         9.45451134443283,
         9.214746683835983,
         9.665091931819916,
         9.860983096063137,
         9.234344407916069,
         9.816911220550537,
         9.038147695362568,
         9.44996016472578,
         9.69635970890522,
         9.009275197982788,
         8.861462414264679,
         9.16759542375803,
         9.467505671083927,
         9.373363830149174,
         8.629540979862213,
         10.099473290145397,
         9.478343673050404,
         9.394563965499401,
         9.637128449976444,
         9.720183804631233,
         8.854290507733822,
         9.611186154186726,
         8.964005589485168,
         9.615568138659,
         9.42343407124281,
         9.122607581317425,
         9.385052062571049,
         9.802009209990501,
         9.6067995429039,
         9.541359513998032,
         9.206932112574577,
         10.038591593503952,
         9.615240156650543,
         9.413307949900627,
         9.387804873287678,
         9.704097643494606,
         9.407137930393219,
         9.858966119587421,
         9.567046694457531,
         9.851583413779736,
         9.680633842945099,
         9.837635889649391,
         9.703669600188732,
         9.683264128863811,
         9.201089777052402,
         9.660261742770672,
         9.35468889772892,
         9.819995403289795,
         9.272761650383472,
         9.620240733027458,
         9.764068104326725
        ],
        [
         2.9347460044444493,
         2.8230864468373293,
         2.7202195511774043,
         2.5788953849638054,
         2.809313913112512,
         2.8820137990201222,
         2.825637520091671,
         2.698706966450653,
         2.9168991205519905,
         2.756941636347952,
         2.7832771406728116,
         2.730834801969684,
         2.6972266050759846,
         2.680398710426667,
         2.8437832582721985,
         2.737874956353426,
         2.7713739376009277,
         2.6850151768813904,
         2.8006920468808416,
         2.8185940458600505,
         2.844564590020385,
         2.6450305489746957,
         2.776041716738049,
         2.8894306090280684,
         2.7034300491856746,
         2.7497752357075673,
         2.7627855117546654,
         2.969825157340831,
         2.8081760735797205,
         2.833302898514944,
         2.6304590011548585,
         2.859827072332283,
         2.6039812019798485,
         2.7211355437995155,
         2.834110803480667,
         2.87499528967964,
         2.694745299791726,
         2.9321054989565263,
         2.774697579101723,
         2.7037620344226485,
         2.7756107442774054,
         2.7508035196631044,
         2.759048022445633,
         2.727711421235292,
         2.646849603714923,
         2.7803147098004244,
         2.9299942506895387,
         2.840932213915035,
         2.7757435699841504,
         2.7372131225851057,
         2.800346272266598,
         2.7672754788421106,
         2.9252197733300207,
         2.684087656524956,
         2.880928246931865,
         2.6465833840411475,
         2.7672856649459634,
         2.8112162653907173,
         2.6321985012960014,
         2.5990240843786796,
         2.742481724384641,
         2.8545522696679733,
         2.701730868725597,
         2.559569321740292,
         2.8173222441842407,
         2.7045374264001203,
         2.7780946347692606,
         2.8876877956626337,
         2.8740014775554656,
         2.561802145818255,
         2.805856941396133,
         2.618454051499386,
         2.804347417941308,
         2.7216798418868593,
         2.6084859890177654,
         2.782484004610156,
         2.8694890441170355,
         2.7637766836802653,
         2.7616481125511796,
         2.6145115912950327,
         2.8735064889744164,
         2.7706532079579564,
         2.745274494043841,
         2.7333302361310765,
         2.877931662013582,
         2.813416968705627,
         2.8968354329571486,
         2.779440306424114,
         2.8084563837333687,
         2.785036455757331,
         2.787231499987128,
         2.823560122783224,
         2.758966941862392,
         2.745817500133805,
         2.795618967543779,
         2.7652671821165904,
         2.8314226479892555,
         2.650317797534624,
         2.775180998191098,
         2.824975063726144
        ]
       ],
       "encoder": "json",
       "name": "ABC_GAN_2 Metrics",
       "version": 1
      }
     },
     "metadata": {
      "scrapbook": {
       "data": true,
       "display": false,
       "name": "ABC_GAN_2 Metrics"
      }
     },
     "output_type": "display_data"
    },
    {
     "name": "stdout",
     "output_type": "stream",
     "text": [
      "MAE\n",
      "0.4752558282762766\n"
     ]
    }
   ],
   "source": [
    "ABC_GAN2_metrics=ABC_train_test2.test_generator(gen2,test_data,prior_model,variance,bias,\"1\",device)\n",
    "sb.glue(\"ABC_GAN_2 Metrics\",ABC_GAN2_metrics)\n",
    "\n",
    "print(\"MAE\")\n",
    "print(mean(ABC_GAN2_metrics[1]))"
   ]
  },
  {
   "cell_type": "code",
   "execution_count": 18,
   "id": "f20a60a9",
   "metadata": {
    "execution": {
     "iopub.execute_input": "2022-07-22T09:22:54.812037Z",
     "iopub.status.busy": "2022-07-22T09:22:54.811234Z",
     "iopub.status.idle": "2022-07-22T09:22:55.789824Z",
     "shell.execute_reply": "2022-07-22T09:22:55.788827Z"
    },
    "papermill": {
     "duration": 1.001969,
     "end_time": "2022-07-22T09:22:55.792544",
     "exception": false,
     "start_time": "2022-07-22T09:22:54.790575",
     "status": "completed"
    },
    "tags": []
   },
   "outputs": [
    {
     "data": {
      "image/png": "[encoded data removed]",
      "text/plain": [
       "<Figure size 432x288 with 1 Axes>"
      ]
     },
     "metadata": {
      "needs_background": "light"
     },
     "output_type": "display_data"
    },
    {
     "data": {
      "image/png": "[encoded data removed]",
      "text/plain": [
       "<Figure size 432x288 with 1 Axes>"
      ]
     },
     "metadata": {
      "needs_background": "light"
     },
     "output_type": "display_data"
    },
    {
     "data": {
      "image/png": "[encoded data removed]",
      "text/plain": [
       "<Figure size 432x288 with 1 Axes>"
      ]
     },
     "metadata": {
      "needs_background": "light"
     },
     "output_type": "display_data"
    },
    {
     "data": {
      "image/png": "[encoded data removed]",
      "text/plain": [
       "<Figure size 432x288 with 1 Axes>"
      ]
     },
     "metadata": {
      "needs_background": "light"
     },
     "output_type": "display_data"
    }
   ],
   "source": [
    "sanityChecks.discProbVsError(train_data,disc2,device)\n",
    "sanityChecks.discProbVsError(test_data,disc2,device)"
   ]
  },
  {
   "cell_type": "markdown",
   "id": "130f3a4d",
   "metadata": {
    "id": "130f3a4d",
    "papermill": {
     "duration": 0.020567,
     "end_time": "2022-07-22T09:22:55.833926",
     "exception": false,
     "start_time": "2022-07-22T09:22:55.813359",
     "status": "completed"
    },
    "tags": []
   },
   "source": [
    "# skipGAN Model"
   ]
  },
  {
   "cell_type": "code",
   "execution_count": 19,
   "id": "4e43dad1",
   "metadata": {
    "execution": {
     "iopub.execute_input": "2022-07-22T09:22:55.878069Z",
     "iopub.status.busy": "2022-07-22T09:22:55.877644Z",
     "iopub.status.idle": "2022-07-22T09:22:55.883135Z",
     "shell.execute_reply": "2022-07-22T09:22:55.882044Z"
    },
    "id": "4e43dad1",
    "papermill": {
     "duration": 0.030987,
     "end_time": "2022-07-22T09:22:55.886500",
     "exception": false,
     "start_time": "2022-07-22T09:22:55.855513",
     "status": "completed"
    },
    "tags": []
   },
   "outputs": [],
   "source": [
    "# #Generator\n",
    "# gen3 = network.GeneratorWithSkipConnection(n_features+1).to(device)\n",
    "# constraints=network.weightConstraint()\n",
    "# #Discriminator \n",
    "# disc3 = network.Discriminator(n_features+1).to(device)\n",
    "\n",
    "# criterion = torch.nn.BCELoss()\n",
    "# gen_opt = torch.optim.Adam(gen3.parameters(), lr=0.01, betas=(0.5, 0.999))\n",
    "# disc_opt = torch.optim.Adam(disc3.parameters(), lr=0.01, betas=(0.5, 0.999))\n"
   ]
  },
  {
   "cell_type": "code",
   "execution_count": 20,
   "id": "26acbc37",
   "metadata": {
    "execution": {
     "iopub.execute_input": "2022-07-22T09:22:55.930808Z",
     "iopub.status.busy": "2022-07-22T09:22:55.930219Z",
     "iopub.status.idle": "2022-07-22T09:22:55.935724Z",
     "shell.execute_reply": "2022-07-22T09:22:55.934492Z"
    },
    "id": "26acbc37",
    "papermill": {
     "duration": 0.031503,
     "end_time": "2022-07-22T09:22:55.939044",
     "exception": false,
     "start_time": "2022-07-22T09:22:55.907541",
     "status": "completed"
    },
    "tags": []
   },
   "outputs": [],
   "source": [
    "# ABC_train_test2.training_GAN_skip_connection(disc3,gen3,disc_opt,gen_opt,train_data,batch_size,n_epochs,criterion,prior_model,variance,bias,device)"
   ]
  },
  {
   "cell_type": "code",
   "execution_count": 21,
   "id": "c5e0717b",
   "metadata": {
    "execution": {
     "iopub.execute_input": "2022-07-22T09:22:55.983070Z",
     "iopub.status.busy": "2022-07-22T09:22:55.982670Z",
     "iopub.status.idle": "2022-07-22T09:22:55.987795Z",
     "shell.execute_reply": "2022-07-22T09:22:55.986600Z"
    },
    "id": "c5e0717b",
    "papermill": {
     "duration": 0.033413,
     "end_time": "2022-07-22T09:22:55.993294",
     "exception": false,
     "start_time": "2022-07-22T09:22:55.959881",
     "status": "completed"
    },
    "tags": []
   },
   "outputs": [],
   "source": [
    "# ABC_GAN3_metrics=ABC_train_test2.test_generator(gen3,test_data,prior_model,variance,bias,\"3\",device)\n",
    "# sb.glue(\"ABC_GAN_3 Metrics\",ABC_GAN3_metrics)\n",
    "\n",
    "# print(\"MAE\")\n",
    "# print(mean(ABC_GAN3_metrics[1]))"
   ]
  },
  {
   "cell_type": "code",
   "execution_count": 22,
   "id": "c8e46b48",
   "metadata": {
    "execution": {
     "iopub.execute_input": "2022-07-22T09:22:56.039893Z",
     "iopub.status.busy": "2022-07-22T09:22:56.039208Z",
     "iopub.status.idle": "2022-07-22T09:22:56.043967Z",
     "shell.execute_reply": "2022-07-22T09:22:56.042816Z"
    },
    "id": "c8e46b48",
    "papermill": {
     "duration": 0.036899,
     "end_time": "2022-07-22T09:22:56.050283",
     "exception": false,
     "start_time": "2022-07-22T09:22:56.013384",
     "status": "completed"
    },
    "tags": []
   },
   "outputs": [],
   "source": [
    "# sanityChecks.discProbVsError(train_data,disc3,device)\n",
    "# sanityChecks.discProbVsError(test_data,disc3,device)"
   ]
  },
  {
   "cell_type": "markdown",
   "id": "83ef51e5",
   "metadata": {
    "id": "130f3a4d",
    "papermill": {
     "duration": 0.023825,
     "end_time": "2022-07-22T09:22:56.096167",
     "exception": false,
     "start_time": "2022-07-22T09:22:56.072342",
     "status": "completed"
    },
    "tags": []
   },
   "source": [
    "# skipGAN Model with TabNet Generator"
   ]
  },
  {
   "cell_type": "code",
   "execution_count": 23,
   "id": "6a3f86ae",
   "metadata": {
    "execution": {
     "iopub.execute_input": "2022-07-22T09:22:56.154117Z",
     "iopub.status.busy": "2022-07-22T09:22:56.153378Z",
     "iopub.status.idle": "2022-07-22T09:22:56.181947Z",
     "shell.execute_reply": "2022-07-22T09:22:56.180630Z"
    },
    "id": "4e43dad1",
    "papermill": {
     "duration": 0.066001,
     "end_time": "2022-07-22T09:22:56.185688",
     "exception": false,
     "start_time": "2022-07-22T09:22:56.119687",
     "status": "completed"
    },
    "tags": []
   },
   "outputs": [],
   "source": [
    "#Generator\n",
    "gen4 = network.GeneratorTabnetskipConnection(n_features+1).to(device)\n",
    "constraints=network.weightConstraint()\n",
    "#Discriminator \n",
    "disc4 = network.Discriminator(n_features+1).to(device)\n",
    "\n",
    "criterion = torch.nn.BCELoss()\n",
    "gen_opt = torch.optim.Adam(gen4.parameters(), lr=0.001, betas=(0.5, 0.999))\n",
    "disc_opt = torch.optim.Adam(disc4.parameters(), lr=0.001, betas=(0.5, 0.999))\n"
   ]
  },
  {
   "cell_type": "code",
   "execution_count": 24,
   "id": "d4626485",
   "metadata": {
    "execution": {
     "iopub.execute_input": "2022-07-22T09:22:56.245081Z",
     "iopub.status.busy": "2022-07-22T09:22:56.244443Z",
     "iopub.status.idle": "2022-07-22T09:26:51.294069Z",
     "shell.execute_reply": "2022-07-22T09:26:51.291997Z"
    },
    "id": "26acbc37",
    "papermill": {
     "duration": 235.090097,
     "end_time": "2022-07-22T09:26:51.298299",
     "exception": false,
     "start_time": "2022-07-22T09:22:56.208202",
     "status": "completed"
    },
    "tags": []
   },
   "outputs": [
    {
     "data": {
      "image/png": "[encoded data removed]",
      "text/plain": [
       "<Figure size 432x288 with 1 Axes>"
      ]
     },
     "metadata": {
      "needs_background": "light"
     },
     "output_type": "display_data"
    },
    {
     "data": {
      "image/png": "[encoded data removed]",
      "text/plain": [
       "<Figure size 432x288 with 1 Axes>"
      ]
     },
     "metadata": {
      "needs_background": "light"
     },
     "output_type": "display_data"
    }
   ],
   "source": [
    "ABC_train_test2.training_GAN_skip_connection(disc4,gen4,disc_opt,gen_opt,train_data,batch_size,n_epochs,criterion,prior_model,variance,bias,device)"
   ]
  },
  {
   "cell_type": "code",
   "execution_count": 25,
   "id": "bb680c06",
   "metadata": {
    "execution": {
     "iopub.execute_input": "2022-07-22T09:26:51.356210Z",
     "iopub.status.busy": "2022-07-22T09:26:51.355573Z",
     "iopub.status.idle": "2022-07-22T09:26:53.497898Z",
     "shell.execute_reply": "2022-07-22T09:26:53.496756Z"
    },
    "id": "c5e0717b",
    "papermill": {
     "duration": 2.180392,
     "end_time": "2022-07-22T09:26:53.500432",
     "exception": false,
     "start_time": "2022-07-22T09:26:51.320040",
     "status": "completed"
    },
    "tags": []
   },
   "outputs": [
    {
     "data": {
      "application/scrapbook.scrap.json+json": {
       "data": 0.1699371626388564,
       "encoder": "json",
       "name": "ABC-GAN Model 3 MSE",
       "version": 1
      }
     },
     "metadata": {
      "scrapbook": {
       "data": true,
       "display": false,
       "name": "ABC-GAN Model 3 MSE"
      }
     },
     "output_type": "display_data"
    },
    {
     "data": {
      "application/scrapbook.scrap.json+json": {
       "data": 0.31130331527607996,
       "encoder": "json",
       "name": "ABC-GAN Model 3 MAE",
       "version": 1
      }
     },
     "metadata": {
      "scrapbook": {
       "data": true,
       "display": false,
       "name": "ABC-GAN Model 3 MAE"
      }
     },
     "output_type": "display_data"
    },
    {
     "data": {
      "application/scrapbook.scrap.json+json": {
       "data": 6.2260663055215995,
       "encoder": "json",
       "name": "ABC-GAN Model 3 Manhattan Distance",
       "version": 1
      }
     },
     "metadata": {
      "scrapbook": {
       "data": true,
       "display": false,
       "name": "ABC-GAN Model 3 Manhattan Distance"
      }
     },
     "output_type": "display_data"
    },
    {
     "data": {
      "application/scrapbook.scrap.json+json": {
       "data": 1.8410890804873001,
       "encoder": "json",
       "name": "ABC-GAN Model 3 Euclidean distance",
       "version": 1
      }
     },
     "metadata": {
      "scrapbook": {
       "data": true,
       "display": false,
       "name": "ABC-GAN Model 3 Euclidean distance"
      }
     },
     "output_type": "display_data"
    },
    {
     "data": {
      "application/scrapbook.scrap.json+json": {
       "data": [
        [
         0.16375970221639627,
         0.16059885861176268,
         0.20099993933913868,
         0.16108454772419156,
         0.17000786613767666,
         0.17562752722799965,
         0.1929832036639206,
         0.1774648103827193,
         0.15611833200206487,
         0.175335823179481,
         0.18760120645799883,
         0.17310032314592325,
         0.17652850384136046,
         0.16426614936041542,
         0.13636043297099004,
         0.21952689897685893,
         0.16624962572765187,
         0.1574538745136605,
         0.1602378236864121,
         0.17386974610172992,
         0.14532414374866315,
         0.1853827453285743,
         0.1684376052991329,
         0.16556778872232508,
         0.17526477630340287,
         0.18399163624004009,
         0.17885165658287314,
         0.16703159678486287,
         0.14078143309667862,
         0.16630538859085847,
         0.1752249598440965,
         0.15906025707649124,
         0.17748076797203266,
         0.1816208440942925,
         0.15980624208489247,
         0.19158948737001924,
         0.15664139760669027,
         0.160702552202739,
         0.1744520610611062,
         0.18863462918149615,
         0.14766375776132393,
         0.1796597746356834,
         0.1777216961962321,
         0.18396044178103216,
         0.20144890471782034,
         0.15730126248989734,
         0.15868455729019523,
         0.16529726733930322,
         0.18423165867527339,
         0.2048050621341317,
         0.14049436333091472,
         0.152927331144966,
         0.17117220356443302,
         0.16627728170256767,
         0.16509877896953165,
         0.16701020133024028,
         0.19564475940382525,
         0.15883813021370283,
         0.18351318798351804,
         0.1461562194686455,
         0.15648685759264874,
         0.1744250151051559,
         0.16556955929327083,
         0.15829136974118224,
         0.15178744559690605,
         0.18782546614778634,
         0.14844611318749718,
         0.16115641766965566,
         0.18027702138815255,
         0.19128230938728089,
         0.15744327739531963,
         0.17408851363961292,
         0.17385526944620683,
         0.14049624226169766,
         0.18801481418149427,
         0.19716264297569586,
         0.19771943827180533,
         0.21104323840204256,
         0.18545034884579548,
         0.19006940385193438,
         0.1783736043060208,
         0.15199555758326017,
         0.1339641187407865,
         0.16759009633356547,
         0.1381075272769076,
         0.169995828299437,
         0.16367719003220502,
         0.17180695084538844,
         0.15457151772523528,
         0.1387349101601328,
         0.16863635848619113,
         0.18552021244978517,
         0.18474666271492235,
         0.15280603004906973,
         0.1877760356926849,
         0.12752608825712802,
         0.15698048925359787,
         0.1872852090862145,
         0.16113363314374188,
         0.16236347447536564
        ],
        [
         0.3084684282541275,
         0.30408949265256524,
         0.3436456028255634,
         0.305768324341625,
         0.287717566594074,
         0.32899660244584084,
         0.3302600342780352,
         0.3345629721879959,
         0.3034116940572858,
         0.32446210770867767,
         0.3199787605088204,
         0.2990234447643161,
         0.3377398382872343,
         0.30125736112240703,
         0.2807355849072337,
         0.3619007559493184,
         0.30744778700172903,
         0.3179542631522054,
         0.29603020260110496,
         0.29021937123034147,
         0.29568389637861403,
         0.32938032522797583,
         0.30070169158279897,
         0.31456978717178574,
         0.28964996626600625,
         0.3035703143919818,
         0.3149021599441767,
         0.2833189062774181,
         0.2888616845011711,
         0.29614294655621054,
         0.2968498462811112,
         0.295867192116566,
         0.3263922592625022,
         0.33429898843169215,
         0.3214097870979458,
         0.3278960426647245,
         0.27939029153785666,
         0.3040307273156941,
         0.31470622243359686,
         0.3307709812186658,
         0.30903229787945746,
         0.31172564923763274,
         0.32963986285030844,
         0.3293791556730866,
         0.31247398344567046,
         0.297758174687624,
         0.3065844729542732,
         0.29393468648195265,
         0.32845328566618265,
         0.3591148294508457,
         0.2817248784005642,
         0.2900700072525069,
         0.33410045467317107,
         0.3070211173966527,
         0.2924186009913683,
         0.3253114126622677,
         0.3591866482980549,
         0.30027859639376403,
         0.32158082965761425,
         0.2840395402163267,
         0.3309502615593374,
         0.31177081540226936,
         0.3102043379098177,
         0.3056025194004178,
         0.29955135480267925,
         0.3183891368098557,
         0.290107736736536,
         0.3023391457274556,
         0.329023216618225,
         0.33863035347312687,
         0.2901933924295008,
         0.31315281707793474,
         0.3140912916511297,
         0.29056950099766254,
         0.31061483088415115,
         0.33828877173364164,
         0.32963816095143555,
         0.3341051378753036,
         0.32317212149500846,
         0.3141000550240278,
         0.30909018088132145,
         0.3093274806626141,
         0.28589305831119416,
         0.29565841872245074,
         0.2867281677667052,
         0.29694750886410476,
         0.31694048307836054,
         0.33090864270925524,
         0.293726853094995,
         0.27426254434976727,
         0.3183493286371231,
         0.321629348769784,
         0.3211507435888052,
         0.3040222445502877,
         0.3371236237697303,
         0.2826491334941238,
         0.3019533114507794,
         0.3547969352453947,
         0.2853353399317712,
         0.3034505253715906
        ],
        [
         6.16936856508255,
         6.081789853051305,
         6.872912056511268,
         6.1153664868324995,
         5.75435133188148,
         6.579932048916817,
         6.605200685560703,
         6.691259443759918,
         6.068233881145716,
         6.489242154173553,
         6.399575210176408,
         5.980468895286322,
         6.754796765744686,
         6.02514722244814,
         5.614711698144674,
         7.238015118986368,
         6.14895574003458,
         6.359085263044108,
         5.9206040520220995,
         5.80438742460683,
         5.91367792757228,
         6.587606504559517,
         6.014033831655979,
         6.291395743435714,
         5.792999325320125,
         6.071406287839636,
         6.2980431988835335,
         5.666378125548363,
         5.777233690023422,
         5.92285893112421,
         5.936996925622225,
         5.91734384233132,
         6.527845185250044,
         6.6859797686338425,
         6.428195741958916,
         6.55792085329449,
         5.587805830757134,
         6.080614546313882,
         6.294124448671937,
         6.615419624373317,
         6.1806459575891495,
         6.234512984752655,
         6.592797257006168,
         6.587583113461733,
         6.249479668913409,
         5.9551634937524796,
         6.1316894590854645,
         5.878693729639053,
         6.569065713323653,
         7.182296589016914,
         5.634497568011284,
         5.801400145050138,
         6.682009093463421,
         6.140422347933054,
         5.848372019827366,
         6.506228253245354,
         7.183732965961099,
         6.00557192787528,
         6.431616593152285,
         5.680790804326534,
         6.6190052311867476,
         6.235416308045387,
         6.204086758196354,
         6.112050388008356,
         5.991027096053585,
         6.367782736197114,
         5.8021547347307205,
         6.046782914549112,
         6.5804643323645,
         6.772607069462538,
         5.803867848590016,
         6.263056341558695,
         6.2818258330225945,
         5.811390019953251,
         6.212296617683023,
         6.7657754346728325,
         6.592763219028711,
         6.6821027575060725,
         6.463442429900169,
         6.2820011004805565,
         6.181803617626429,
         6.186549613252282,
         5.717861166223884,
         5.913168374449015,
         5.734563355334103,
         5.938950177282095,
         6.338809661567211,
         6.618172854185104,
         5.8745370618999,
         5.485250886995345,
         6.366986572742462,
         6.4325869753956795,
         6.423014871776104,
         6.0804448910057545,
         6.742472475394607,
         5.652982669882476,
         6.039066229015589,
         7.095938704907894,
         5.706706798635423,
         6.069010507431813
        ],
        [
         1.8097497186981202,
         1.7921989767420508,
         2.0049934630274415,
         1.7949069486978513,
         1.8439515510862896,
         1.8741799658944156,
         1.9646027774790538,
         1.8839575917876672,
         1.7670219693148406,
         1.8726228834417302,
         1.9370142305001212,
         1.86064678617906,
         1.8789811273206576,
         1.8125459958876378,
         1.6514262500698602,
         2.095361061854777,
         1.8234562003385322,
         1.7745640282258655,
         1.7901833631581547,
         1.8647774457115782,
         1.7048410116410455,
         1.9255271762744577,
         1.8354160580050123,
         1.8197131022352127,
         1.8722434473294487,
         1.918289009716941,
         1.8913046110178717,
         1.8277395699872718,
         1.6779835106262435,
         1.8237619833238026,
         1.8720307681450992,
         1.7835933229101932,
         1.8840422923704905,
         1.9058900497892972,
         1.7877709142107243,
         1.9574957847720604,
         1.7699796473784113,
         1.792777466406464,
         1.8678975403437212,
         1.9423420356955474,
         1.718509573795409,
         1.8955726028600612,
         1.8853206422050977,
         1.9181263867692981,
         2.0072314501213873,
         1.7737038224568236,
         1.7814856569178166,
         1.8182258789232058,
         1.9195398337897205,
         2.0238827146558256,
         1.676271835538107,
         1.7488700989208203,
         1.8502551368091538,
         1.823607861918607,
         1.817133891431953,
         1.8276225065928702,
         1.978103937632324,
         1.7823474981815575,
         1.9157932455435687,
         1.7097147099364003,
         1.7691063144573802,
         1.8677527411579722,
         1.819722832154781,
         1.7792772113483737,
         1.7423400678220426,
         1.9381716443482826,
         1.7230560825898684,
         1.7953073144710108,
         1.8988260656950786,
         1.9559259157099018,
         1.7745043104783917,
         1.8659502332035167,
         1.864699812013756,
         1.6762830444868053,
         1.939148339769262,
         1.9857625385513538,
         1.9885644986864537,
         2.054474328883389,
         1.9258782352256618,
         1.9497148707025567,
         1.8887752873543258,
         1.7435340982226886,
         1.6368513600250116,
         1.8307927044510828,
         1.6619718847014686,
         1.843886267096954,
         1.809293729786322,
         1.8536825555924534,
         1.758246386177064,
         1.6657425380900424,
         1.8364986168586739,
         1.9262409633780773,
         1.9222209171420561,
         1.7481763643812926,
         1.9379165910466059,
         1.597035304914253,
         1.7718944057341446,
         1.9353821797578612,
         1.79518039842096,
         1.8020181712478132
        ]
       ],
       "encoder": "json",
       "name": "ABC_GAN_4 Metrics",
       "version": 1
      }
     },
     "metadata": {
      "scrapbook": {
       "data": true,
       "display": false,
       "name": "ABC_GAN_4 Metrics"
      }
     },
     "output_type": "display_data"
    },
    {
     "name": "stdout",
     "output_type": "stream",
     "text": [
      "MAE\n",
      "0.31130331527607996\n"
     ]
    }
   ],
   "source": [
    "ABC_GAN4_metrics=ABC_train_test2.test_generator(gen4,test_data,prior_model,variance,bias,\"3\",device)\n",
    "sb.glue(\"ABC_GAN_4 Metrics\",ABC_GAN4_metrics)\n",
    "\n",
    "print(\"MAE\")\n",
    "print(mean(ABC_GAN4_metrics[1]))"
   ]
  },
  {
   "cell_type": "code",
   "execution_count": 26,
   "id": "4a71b91d",
   "metadata": {
    "execution": {
     "iopub.execute_input": "2022-07-22T09:26:53.551211Z",
     "iopub.status.busy": "2022-07-22T09:26:53.550766Z",
     "iopub.status.idle": "2022-07-22T09:26:54.713615Z",
     "shell.execute_reply": "2022-07-22T09:26:54.712568Z"
    },
    "id": "c8e46b48",
    "papermill": {
     "duration": 1.193492,
     "end_time": "2022-07-22T09:26:54.716735",
     "exception": false,
     "start_time": "2022-07-22T09:26:53.523243",
     "status": "completed"
    },
    "tags": []
   },
   "outputs": [
    {
     "data": {
      "image/png": "[encoded data removed]",
      "text/plain": [
       "<Figure size 432x288 with 1 Axes>"
      ]
     },
     "metadata": {
      "needs_background": "light"
     },
     "output_type": "display_data"
    },
    {
     "data": {
      "image/png": "[encoded data removed]",
      "text/plain": [
       "<Figure size 432x288 with 1 Axes>"
      ]
     },
     "metadata": {
      "needs_background": "light"
     },
     "output_type": "display_data"
    },
    {
     "data": {
      "image/png": "[encoded data removed]",
      "text/plain": [
       "<Figure size 432x288 with 1 Axes>"
      ]
     },
     "metadata": {
      "needs_background": "light"
     },
     "output_type": "display_data"
    },
    {
     "data": {
      "image/png": "[encoded data removed]",
      "text/plain": [
       "<Figure size 432x288 with 1 Axes>"
      ]
     },
     "metadata": {
      "needs_background": "light"
     },
     "output_type": "display_data"
    }
   ],
   "source": [
    "sanityChecks.discProbVsError(train_data,disc4,device)\n",
    "sanityChecks.discProbVsError(test_data,disc4,device)"
   ]
  },
  {
   "cell_type": "markdown",
   "id": "a5bd74c3",
   "metadata": {
    "id": "a5bd74c3",
    "papermill": {
     "duration": 0.026626,
     "end_time": "2022-07-22T09:26:54.770092",
     "exception": false,
     "start_time": "2022-07-22T09:26:54.743466",
     "status": "completed"
    },
    "tags": []
   },
   "source": [
    "## Skip Connection Model Analysis - ABC-GAN "
   ]
  },
  {
   "cell_type": "markdown",
   "id": "5744a8bf",
   "metadata": {
    "id": "5744a8bf",
    "papermill": {
     "duration": 0.027882,
     "end_time": "2022-07-22T09:26:54.831056",
     "exception": false,
     "start_time": "2022-07-22T09:26:54.803174",
     "status": "completed"
    },
    "tags": []
   },
   "source": [
    "### Weight Analysis \n",
    "\n",
    "Study the weights of the skip connection layer\n",
    "\n",
    "Equation of the skip connection is \n",
    "\n",
    "$output = y_{gan} * w + y_{abc} * (1-w)$"
   ]
  },
  {
   "cell_type": "code",
   "execution_count": 27,
   "id": "52c31dea",
   "metadata": {
    "execution": {
     "iopub.execute_input": "2022-07-22T09:26:54.891355Z",
     "iopub.status.busy": "2022-07-22T09:26:54.890732Z",
     "iopub.status.idle": "2022-07-22T09:26:54.895617Z",
     "shell.execute_reply": "2022-07-22T09:26:54.894477Z"
    },
    "id": "52c31dea",
    "papermill": {
     "duration": 0.035497,
     "end_time": "2022-07-22T09:26:54.899339",
     "exception": false,
     "start_time": "2022-07-22T09:26:54.863842",
     "status": "completed"
    },
    "tags": []
   },
   "outputs": [],
   "source": [
    "# print(\"Weight of the node at skip connection\")\n",
    "# for name,param in gen3.named_parameters():\n",
    "#     if(name == \"skipNode.weight\"):\n",
    "#         print(param)\n",
    "#         sb.glue(\"Skip Connection Weight\",param.item())"
   ]
  },
  {
   "cell_type": "markdown",
   "id": "1904e407",
   "metadata": {
    "id": "a5bd74c3",
    "papermill": {
     "duration": 0.026616,
     "end_time": "2022-07-22T09:26:54.952129",
     "exception": false,
     "start_time": "2022-07-22T09:26:54.925513",
     "status": "completed"
    },
    "tags": []
   },
   "source": [
    "## skipGAN Model Analysis (TabNet Generator) "
   ]
  },
  {
   "cell_type": "markdown",
   "id": "a1bda0d5",
   "metadata": {
    "id": "5744a8bf",
    "papermill": {
     "duration": 0.024986,
     "end_time": "2022-07-22T09:26:55.002343",
     "exception": false,
     "start_time": "2022-07-22T09:26:54.977357",
     "status": "completed"
    },
    "tags": []
   },
   "source": [
    "### Weight Analysis \n",
    "\n",
    "Study the weights of the skip connection layer\n",
    "\n",
    "Equation of the skip connection is \n",
    "\n",
    "$output = y_{gan} * w + y_{abc} * (1-w)$"
   ]
  },
  {
   "cell_type": "code",
   "execution_count": 28,
   "id": "a6463da4",
   "metadata": {
    "execution": {
     "iopub.execute_input": "2022-07-22T09:26:55.057536Z",
     "iopub.status.busy": "2022-07-22T09:26:55.056625Z",
     "iopub.status.idle": "2022-07-22T09:26:55.070496Z",
     "shell.execute_reply": "2022-07-22T09:26:55.069402Z"
    },
    "id": "52c31dea",
    "papermill": {
     "duration": 0.046945,
     "end_time": "2022-07-22T09:26:55.074834",
     "exception": false,
     "start_time": "2022-07-22T09:26:55.027889",
     "status": "completed"
    },
    "tags": []
   },
   "outputs": [
    {
     "name": "stdout",
     "output_type": "stream",
     "text": [
      "Weight of the node at skip connection\n",
      "Parameter containing:\n",
      "tensor([[0.]], requires_grad=True)\n"
     ]
    },
    {
     "data": {
      "application/scrapbook.scrap.json+json": {
       "data": 0.0,
       "encoder": "json",
       "name": "Skip Connection Weight",
       "version": 1
      }
     },
     "metadata": {
      "scrapbook": {
       "data": true,
       "display": false,
       "name": "Skip Connection Weight"
      }
     },
     "output_type": "display_data"
    }
   ],
   "source": [
    "print(\"Weight of the node at skip connection\")\n",
    "for name,param in gen4.named_parameters():\n",
    "    if(name == \"skipNode.weight\"):\n",
    "        print(param)\n",
    "        sb.glue(\"Skip Connection Weight\",param.item())"
   ]
  }
 ],
 "metadata": {
  "colab": {
   "collapsed_sections": [],
   "name": "ABC_GAN_Model-Catboost_Pre-gen.ipynb",
   "provenance": []
  },
  "interpreter": {
   "hash": "31f2aee4e71d21fbe5cf8b01ff0e069b9275f58929596ceb00d14d90e3e16cd6"
  },
  "kernelspec": {
   "display_name": "Python 3 (ipykernel)",
   "language": "python",
   "name": "python3"
  },
  "language_info": {
   "codemirror_mode": {
    "name": "ipython",
    "version": 3
   },
   "file_extension": ".py",
   "mimetype": "text/x-python",
   "name": "python",
   "nbconvert_exporter": "python",
   "pygments_lexer": "ipython3",
   "version": "3.8.13"
  },
  "papermill": {
   "default_parameters": {},
   "duration": 469.067854,
   "end_time": "2022-07-22T09:26:55.958746",
   "environment_variables": {},
   "exception": null,
   "input_path": "ABC_GAN-TabNet.ipynb",
   "output_path": "./ABC_GAN_TabNet/ABC-GAN_output_1_10.ipynb",
   "parameters": {
    "bias": 0,
    "variance": 0.1
   },
   "start_time": "2022-07-22T09:19:06.890892",
   "version": "2.3.3"
  }
 },
 "nbformat": 4,
 "nbformat_minor": 5
}