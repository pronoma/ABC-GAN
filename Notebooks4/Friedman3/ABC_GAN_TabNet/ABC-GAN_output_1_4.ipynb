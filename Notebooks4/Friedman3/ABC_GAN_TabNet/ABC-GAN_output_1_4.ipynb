{
 "cells": [
  {
   "cell_type": "markdown",
   "id": "622780e6",
   "metadata": {
    "id": "622780e6",
    "papermill": {
     "duration": 0.008856,
     "end_time": "2022-07-22T08:32:10.039903",
     "exception": false,
     "start_time": "2022-07-22T08:32:10.031047",
     "status": "completed"
    },
    "tags": []
   },
   "source": [
    "## Import Libraries "
   ]
  },
  {
   "cell_type": "code",
   "execution_count": 1,
   "id": "a62397e3",
   "metadata": {
    "execution": {
     "iopub.execute_input": "2022-07-22T08:32:10.059416Z",
     "iopub.status.busy": "2022-07-22T08:32:10.058903Z",
     "iopub.status.idle": "2022-07-22T08:32:10.076651Z",
     "shell.execute_reply": "2022-07-22T08:32:10.075101Z"
    },
    "id": "a62397e3",
    "papermill": {
     "duration": 0.031859,
     "end_time": "2022-07-22T08:32:10.079461",
     "exception": false,
     "start_time": "2022-07-22T08:32:10.047602",
     "status": "completed"
    },
    "tags": []
   },
   "outputs": [],
   "source": [
    "import warnings\n",
    "import sys\n",
    "sys.path.insert(0, '../../src')\n",
    "warnings.filterwarnings('ignore')"
   ]
  },
  {
   "cell_type": "code",
   "execution_count": 2,
   "id": "d6a4e155",
   "metadata": {
    "execution": {
     "iopub.execute_input": "2022-07-22T08:32:10.099450Z",
     "iopub.status.busy": "2022-07-22T08:32:10.098909Z",
     "iopub.status.idle": "2022-07-22T08:32:17.032188Z",
     "shell.execute_reply": "2022-07-22T08:32:17.031289Z"
    },
    "id": "d6a4e155",
    "papermill": {
     "duration": 6.94783,
     "end_time": "2022-07-22T08:32:17.035048",
     "exception": false,
     "start_time": "2022-07-22T08:32:10.087218",
     "status": "completed"
    },
    "tags": []
   },
   "outputs": [],
   "source": [
    "import ABC_train_test2\n",
    "import friedman3Dataset\n",
    "import network\n",
    "import dataset\n",
    "import sanityChecks\n",
    "import torch \n",
    "import scrapbook as sb\n",
    "from statistics import mean \n",
    "import catboost as ctb \n",
    "from sklearn.model_selection import train_test_split\n",
    "from sklearn.metrics import mean_squared_error,mean_absolute_error\n",
    "import numpy as np\n",
    "from pytorch_tabnet.tab_model import TabNetRegressor"
   ]
  },
  {
   "cell_type": "markdown",
   "id": "2fa5b0f7",
   "metadata": {
    "id": "2fa5b0f7",
    "papermill": {
     "duration": 0.008721,
     "end_time": "2022-07-22T08:32:17.051385",
     "exception": false,
     "start_time": "2022-07-22T08:32:17.042664",
     "status": "completed"
    },
    "tags": []
   },
   "source": [
    "## Parameters "
   ]
  },
  {
   "cell_type": "code",
   "execution_count": 3,
   "id": "783186fb",
   "metadata": {
    "execution": {
     "iopub.execute_input": "2022-07-22T08:32:17.069911Z",
     "iopub.status.busy": "2022-07-22T08:32:17.069543Z",
     "iopub.status.idle": "2022-07-22T08:32:17.073463Z",
     "shell.execute_reply": "2022-07-22T08:32:17.072731Z"
    },
    "id": "783186fb",
    "papermill": {
     "duration": 0.015262,
     "end_time": "2022-07-22T08:32:17.076214",
     "exception": false,
     "start_time": "2022-07-22T08:32:17.060952",
     "status": "completed"
    },
    "tags": [
     "parameters"
    ]
   },
   "outputs": [],
   "source": [
    "variance = 1\n",
    "bias = 1 "
   ]
  },
  {
   "cell_type": "code",
   "execution_count": 4,
   "id": "9f50f4e8",
   "metadata": {
    "execution": {
     "iopub.execute_input": "2022-07-22T08:32:17.097773Z",
     "iopub.status.busy": "2022-07-22T08:32:17.097417Z",
     "iopub.status.idle": "2022-07-22T08:32:17.101791Z",
     "shell.execute_reply": "2022-07-22T08:32:17.100902Z"
    },
    "papermill": {
     "duration": 0.020079,
     "end_time": "2022-07-22T08:32:17.105659",
     "exception": false,
     "start_time": "2022-07-22T08:32:17.085580",
     "status": "completed"
    },
    "tags": [
     "injected-parameters"
    ]
   },
   "outputs": [],
   "source": [
    "# Parameters\n",
    "variance = 0.1\n",
    "bias = 0.1\n"
   ]
  },
  {
   "cell_type": "markdown",
   "id": "391cdbfd",
   "metadata": {
    "id": "391cdbfd",
    "papermill": {
     "duration": 0.008141,
     "end_time": "2022-07-22T08:32:17.121247",
     "exception": false,
     "start_time": "2022-07-22T08:32:17.113106",
     "status": "completed"
    },
    "tags": []
   },
   "source": [
    "## Dataset \n"
   ]
  },
  {
   "cell_type": "code",
   "execution_count": 5,
   "id": "5b51f161",
   "metadata": {
    "execution": {
     "iopub.execute_input": "2022-07-22T08:32:17.140349Z",
     "iopub.status.busy": "2022-07-22T08:32:17.139921Z",
     "iopub.status.idle": "2022-07-22T08:32:17.148946Z",
     "shell.execute_reply": "2022-07-22T08:32:17.147758Z"
    },
    "id": "5b51f161",
    "papermill": {
     "duration": 0.028161,
     "end_time": "2022-07-22T08:32:17.156866",
     "exception": false,
     "start_time": "2022-07-22T08:32:17.128705",
     "status": "completed"
    },
    "tags": []
   },
   "outputs": [],
   "source": [
    "#Parameters \n",
    "n_features = 4\n",
    "n_samples= 100\n",
    "n_target = 1"
   ]
  },
  {
   "cell_type": "code",
   "execution_count": 6,
   "id": "5d6eced4",
   "metadata": {
    "execution": {
     "iopub.execute_input": "2022-07-22T08:32:17.178342Z",
     "iopub.status.busy": "2022-07-22T08:32:17.177693Z",
     "iopub.status.idle": "2022-07-22T08:32:17.197111Z",
     "shell.execute_reply": "2022-07-22T08:32:17.195940Z"
    },
    "id": "5d6eced4",
    "papermill": {
     "duration": 0.033653,
     "end_time": "2022-07-22T08:32:17.202382",
     "exception": false,
     "start_time": "2022-07-22T08:32:17.168729",
     "status": "completed"
    },
    "tags": []
   },
   "outputs": [
    {
     "name": "stdout",
     "output_type": "stream",
     "text": [
      "          X1           X2        X3        X4         Y\n",
      "0   4.917401  1454.694543  0.447695  1.941752  1.374786\n",
      "1  60.563769  1336.597037  0.281505  9.420745  1.612788\n",
      "2  34.061345  1647.599671  0.337865  1.512643  1.495754\n",
      "3  39.389920  1247.904798  0.304399  1.871629  1.618407\n",
      "4  84.986605   293.350295  0.820564  1.387502  1.233227\n"
     ]
    }
   ],
   "source": [
    "X,Y = friedman3Dataset.friedman3_data(n_samples)"
   ]
  },
  {
   "cell_type": "code",
   "execution_count": 7,
   "id": "fe007438",
   "metadata": {
    "execution": {
     "iopub.execute_input": "2022-07-22T08:32:17.226529Z",
     "iopub.status.busy": "2022-07-22T08:32:17.225191Z",
     "iopub.status.idle": "2022-07-22T08:32:17.232578Z",
     "shell.execute_reply": "2022-07-22T08:32:17.231529Z"
    },
    "id": "fe007438",
    "papermill": {
     "duration": 0.021243,
     "end_time": "2022-07-22T08:32:17.235662",
     "exception": false,
     "start_time": "2022-07-22T08:32:17.214419",
     "status": "completed"
    },
    "tags": []
   },
   "outputs": [],
   "source": [
    "#Train test split for dataset \n",
    "X_train,X_test,Y_train,Y_test = train_test_split(X,Y,test_size = 0.2)\n",
    "train_data = dataset.CustomDataset(X_train,Y_train)\n",
    "test_data = dataset.CustomDataset(X_test,Y_test)\n"
   ]
  },
  {
   "cell_type": "markdown",
   "id": "a9a1af34",
   "metadata": {
    "id": "a9a1af34",
    "papermill": {
     "duration": 0.013151,
     "end_time": "2022-07-22T08:32:17.262279",
     "exception": false,
     "start_time": "2022-07-22T08:32:17.249128",
     "status": "completed"
    },
    "tags": []
   },
   "source": [
    "## Training Parameters "
   ]
  },
  {
   "cell_type": "code",
   "execution_count": 8,
   "id": "952b7fc8",
   "metadata": {
    "execution": {
     "iopub.execute_input": "2022-07-22T08:32:17.279590Z",
     "iopub.status.busy": "2022-07-22T08:32:17.279268Z",
     "iopub.status.idle": "2022-07-22T08:32:17.284317Z",
     "shell.execute_reply": "2022-07-22T08:32:17.283310Z"
    },
    "id": "952b7fc8",
    "papermill": {
     "duration": 0.017648,
     "end_time": "2022-07-22T08:32:17.287892",
     "exception": false,
     "start_time": "2022-07-22T08:32:17.270244",
     "status": "completed"
    },
    "tags": []
   },
   "outputs": [],
   "source": [
    "batch_size = 32\n",
    "n_epochs = 1000\n",
    "#Select the device \n",
    "device = torch.device('cuda' if torch.cuda.is_available() else 'cpu')"
   ]
  },
  {
   "cell_type": "markdown",
   "id": "a95e1600",
   "metadata": {
    "id": "a95e1600",
    "papermill": {
     "duration": 0.012983,
     "end_time": "2022-07-22T08:32:17.312645",
     "exception": false,
     "start_time": "2022-07-22T08:32:17.299662",
     "status": "completed"
    },
    "tags": []
   },
   "source": [
    "# ABC Pre-generator Model \n",
    "\n",
    "1. The catboost model is used as a pre-generator model for the ABC-GAN. \n",
    "2. The model is first trained on the entire dataset \n",
    "3. It generats X,Y pairs and we add some Gaussian noise with mean 0 and variance 1 to it which is then feed as input to the generator.\n"
   ]
  },
  {
   "cell_type": "code",
   "execution_count": 9,
   "id": "ac011ebf",
   "metadata": {
    "execution": {
     "iopub.execute_input": "2022-07-22T08:32:17.334676Z",
     "iopub.status.busy": "2022-07-22T08:32:17.333986Z",
     "iopub.status.idle": "2022-07-22T08:32:44.250397Z",
     "shell.execute_reply": "2022-07-22T08:32:44.248682Z"
    },
    "papermill": {
     "duration": 26.933462,
     "end_time": "2022-07-22T08:32:44.254374",
     "exception": false,
     "start_time": "2022-07-22T08:32:17.320912",
     "status": "completed"
    },
    "tags": []
   },
   "outputs": [
    {
     "name": "stdout",
     "output_type": "stream",
     "text": [
      "Device used : cpu\n"
     ]
    },
    {
     "name": "stdout",
     "output_type": "stream",
     "text": [
      "epoch 0  | loss: 1.26517 | train_mse: 5.22994 | train_mae: 1.59306 |  0:00:00s\n",
      "epoch 1  | loss: 1.48969 | train_mse: 3.72402 | train_mae: 1.37374 |  0:00:00s\n",
      "epoch 2  | loss: 1.03946 | train_mse: 2.86908 | train_mae: 1.23987 |  0:00:00s\n"
     ]
    },
    {
     "name": "stdout",
     "output_type": "stream",
     "text": [
      "epoch 3  | loss: 0.94685 | train_mse: 2.47458 | train_mae: 1.16678 |  0:00:00s\n",
      "epoch 4  | loss: 0.86827 | train_mse: 2.16128 | train_mae: 1.09335 |  0:00:00s\n",
      "epoch 5  | loss: 0.85428 | train_mse: 1.85352 | train_mae: 1.01367 |  0:00:00s\n"
     ]
    },
    {
     "name": "stdout",
     "output_type": "stream",
     "text": [
      "epoch 6  | loss: 0.76549 | train_mse: 1.49647 | train_mae: 0.92917 |  0:00:00s\n",
      "epoch 7  | loss: 0.64429 | train_mse: 1.2653  | train_mae: 0.84864 |  0:00:00s\n"
     ]
    },
    {
     "name": "stdout",
     "output_type": "stream",
     "text": [
      "epoch 8  | loss: 0.54961 | train_mse: 1.09975 | train_mae: 0.78736 |  0:00:01s\n",
      "epoch 9  | loss: 0.62042 | train_mse: 0.98528 | train_mae: 0.74255 |  0:00:01s\n",
      "epoch 10 | loss: 0.60849 | train_mse: 0.89375 | train_mae: 0.70503 |  0:00:01s\n"
     ]
    },
    {
     "name": "stdout",
     "output_type": "stream",
     "text": [
      "epoch 11 | loss: 0.50238 | train_mse: 0.80958 | train_mae: 0.66308 |  0:00:01s\n",
      "epoch 12 | loss: 0.45032 | train_mse: 0.75697 | train_mae: 0.63609 |  0:00:01s\n",
      "epoch 13 | loss: 0.47669 | train_mse: 0.71099 | train_mae: 0.60863 |  0:00:01s\n"
     ]
    },
    {
     "name": "stdout",
     "output_type": "stream",
     "text": [
      "epoch 14 | loss: 0.47714 | train_mse: 0.68182 | train_mae: 0.59075 |  0:00:01s\n",
      "epoch 15 | loss: 0.50162 | train_mse: 0.64791 | train_mae: 0.57261 |  0:00:01s\n",
      "epoch 16 | loss: 0.52401 | train_mse: 0.6196  | train_mae: 0.55933 |  0:00:01s\n"
     ]
    },
    {
     "name": "stdout",
     "output_type": "stream",
     "text": [
      "epoch 17 | loss: 0.43028 | train_mse: 0.58701 | train_mae: 0.53956 |  0:00:01s\n",
      "epoch 18 | loss: 0.40733 | train_mse: 0.55766 | train_mae: 0.52386 |  0:00:01s\n",
      "epoch 19 | loss: 0.46075 | train_mse: 0.53791 | train_mae: 0.51231 |  0:00:01s\n"
     ]
    },
    {
     "name": "stdout",
     "output_type": "stream",
     "text": [
      "epoch 20 | loss: 0.57206 | train_mse: 0.51885 | train_mae: 0.5037  |  0:00:02s\n",
      "epoch 21 | loss: 0.30343 | train_mse: 0.50064 | train_mae: 0.49417 |  0:00:02s\n",
      "epoch 22 | loss: 0.36937 | train_mse: 0.46987 | train_mae: 0.476   |  0:00:02s\n"
     ]
    },
    {
     "name": "stdout",
     "output_type": "stream",
     "text": [
      "epoch 23 | loss: 0.60847 | train_mse: 0.44104 | train_mae: 0.46561 |  0:00:02s\n",
      "epoch 24 | loss: 0.36616 | train_mse: 0.40726 | train_mae: 0.4499  |  0:00:02s\n",
      "epoch 25 | loss: 0.29229 | train_mse: 0.38387 | train_mae: 0.44094 |  0:00:02s\n"
     ]
    },
    {
     "name": "stdout",
     "output_type": "stream",
     "text": [
      "epoch 26 | loss: 0.36127 | train_mse: 0.35659 | train_mae: 0.42964 |  0:00:02s\n",
      "epoch 27 | loss: 0.44202 | train_mse: 0.33676 | train_mae: 0.41839 |  0:00:02s\n",
      "epoch 28 | loss: 0.25561 | train_mse: 0.31645 | train_mae: 0.40423 |  0:00:02s\n"
     ]
    },
    {
     "name": "stdout",
     "output_type": "stream",
     "text": [
      "epoch 29 | loss: 0.40841 | train_mse: 0.29828 | train_mae: 0.39208 |  0:00:02s\n",
      "epoch 30 | loss: 0.38275 | train_mse: 0.28191 | train_mae: 0.38084 |  0:00:02s\n",
      "epoch 31 | loss: 0.33924 | train_mse: 0.27102 | train_mae: 0.3802  |  0:00:03s\n"
     ]
    },
    {
     "name": "stdout",
     "output_type": "stream",
     "text": [
      "epoch 32 | loss: 0.4909  | train_mse: 0.25862 | train_mae: 0.37307 |  0:00:03s\n",
      "epoch 33 | loss: 0.297   | train_mse: 0.25196 | train_mae: 0.36892 |  0:00:03s\n",
      "epoch 34 | loss: 0.44215 | train_mse: 0.24462 | train_mae: 0.3654  |  0:00:03s\n"
     ]
    },
    {
     "name": "stdout",
     "output_type": "stream",
     "text": [
      "epoch 35 | loss: 0.27559 | train_mse: 0.24252 | train_mae: 0.36596 |  0:00:03s\n",
      "epoch 36 | loss: 0.2291  | train_mse: 0.2389  | train_mae: 0.36466 |  0:00:03s\n",
      "epoch 37 | loss: 0.34722 | train_mse: 0.23666 | train_mae: 0.36765 |  0:00:03s\n"
     ]
    },
    {
     "name": "stdout",
     "output_type": "stream",
     "text": [
      "epoch 38 | loss: 0.30306 | train_mse: 0.23329 | train_mae: 0.36563 |  0:00:03s\n",
      "epoch 39 | loss: 0.30365 | train_mse: 0.23448 | train_mae: 0.3704  |  0:00:03s\n",
      "epoch 40 | loss: 0.22841 | train_mse: 0.22315 | train_mae: 0.3635  |  0:00:03s\n"
     ]
    },
    {
     "name": "stdout",
     "output_type": "stream",
     "text": [
      "epoch 41 | loss: 0.20232 | train_mse: 0.21497 | train_mae: 0.35647 |  0:00:03s\n",
      "epoch 42 | loss: 0.42122 | train_mse: 0.20586 | train_mae: 0.34764 |  0:00:04s\n",
      "epoch 43 | loss: 0.25839 | train_mse: 0.19957 | train_mae: 0.34165 |  0:00:04s\n"
     ]
    },
    {
     "name": "stdout",
     "output_type": "stream",
     "text": [
      "epoch 44 | loss: 0.29921 | train_mse: 0.19496 | train_mae: 0.33477 |  0:00:04s\n",
      "epoch 45 | loss: 0.29724 | train_mse: 0.18871 | train_mae: 0.32611 |  0:00:04s\n",
      "epoch 46 | loss: 0.21581 | train_mse: 0.18623 | train_mae: 0.32068 |  0:00:04s\n"
     ]
    },
    {
     "name": "stdout",
     "output_type": "stream",
     "text": [
      "epoch 47 | loss: 0.2561  | train_mse: 0.18197 | train_mae: 0.31311 |  0:00:04s\n",
      "epoch 48 | loss: 0.29746 | train_mse: 0.17718 | train_mae: 0.30834 |  0:00:04s\n",
      "epoch 49 | loss: 0.31102 | train_mse: 0.17022 | train_mae: 0.302   |  0:00:04s\n"
     ]
    },
    {
     "name": "stdout",
     "output_type": "stream",
     "text": [
      "epoch 50 | loss: 0.26522 | train_mse: 0.16575 | train_mae: 0.2997  |  0:00:04s\n",
      "epoch 51 | loss: 0.27544 | train_mse: 0.16178 | train_mae: 0.29979 |  0:00:04s\n",
      "epoch 52 | loss: 0.27602 | train_mse: 0.16062 | train_mae: 0.30402 |  0:00:04s\n"
     ]
    },
    {
     "name": "stdout",
     "output_type": "stream",
     "text": [
      "epoch 53 | loss: 0.30531 | train_mse: 0.16015 | train_mae: 0.30531 |  0:00:05s\n",
      "epoch 54 | loss: 0.2044  | train_mse: 0.16161 | train_mae: 0.30881 |  0:00:05s\n",
      "epoch 55 | loss: 0.22566 | train_mse: 0.15841 | train_mae: 0.305   |  0:00:05s\n"
     ]
    },
    {
     "name": "stdout",
     "output_type": "stream",
     "text": [
      "epoch 56 | loss: 0.17914 | train_mse: 0.15925 | train_mae: 0.30621 |  0:00:05s\n",
      "epoch 57 | loss: 0.21001 | train_mse: 0.16143 | train_mae: 0.30863 |  0:00:05s\n",
      "epoch 58 | loss: 0.22625 | train_mse: 0.16054 | train_mae: 0.30817 |  0:00:05s\n"
     ]
    },
    {
     "name": "stdout",
     "output_type": "stream",
     "text": [
      "epoch 59 | loss: 0.25821 | train_mse: 0.16046 | train_mae: 0.30616 |  0:00:05s\n",
      "epoch 60 | loss: 0.34152 | train_mse: 0.15897 | train_mae: 0.30277 |  0:00:05s\n",
      "epoch 61 | loss: 0.17642 | train_mse: 0.15614 | train_mae: 0.29861 |  0:00:05s\n"
     ]
    },
    {
     "name": "stdout",
     "output_type": "stream",
     "text": [
      "epoch 62 | loss: 0.53041 | train_mse: 0.15555 | train_mae: 0.29691 |  0:00:05s\n",
      "epoch 63 | loss: 0.23646 | train_mse: 0.15362 | train_mae: 0.29434 |  0:00:05s\n",
      "epoch 64 | loss: 0.17883 | train_mse: 0.15094 | train_mae: 0.29221 |  0:00:06s\n"
     ]
    },
    {
     "name": "stdout",
     "output_type": "stream",
     "text": [
      "epoch 65 | loss: 0.24447 | train_mse: 0.15056 | train_mae: 0.29199 |  0:00:06s\n",
      "epoch 66 | loss: 0.19444 | train_mse: 0.14954 | train_mae: 0.29228 |  0:00:06s\n",
      "epoch 67 | loss: 0.50976 | train_mse: 0.14448 | train_mae: 0.28726 |  0:00:06s\n"
     ]
    },
    {
     "name": "stdout",
     "output_type": "stream",
     "text": [
      "epoch 68 | loss: 0.20474 | train_mse: 0.14499 | train_mae: 0.28647 |  0:00:06s\n",
      "epoch 69 | loss: 0.28007 | train_mse: 0.14621 | train_mae: 0.28982 |  0:00:06s\n",
      "epoch 70 | loss: 0.3535  | train_mse: 0.14611 | train_mae: 0.29016 |  0:00:06s\n"
     ]
    },
    {
     "name": "stdout",
     "output_type": "stream",
     "text": [
      "epoch 71 | loss: 0.28919 | train_mse: 0.14373 | train_mae: 0.28995 |  0:00:06s\n",
      "epoch 72 | loss: 0.19493 | train_mse: 0.14103 | train_mae: 0.28646 |  0:00:06s\n",
      "epoch 73 | loss: 0.19563 | train_mse: 0.13552 | train_mae: 0.28017 |  0:00:06s\n"
     ]
    },
    {
     "name": "stdout",
     "output_type": "stream",
     "text": [
      "epoch 74 | loss: 0.17557 | train_mse: 0.12832 | train_mae: 0.2736  |  0:00:06s\n",
      "epoch 75 | loss: 0.45109 | train_mse: 0.12841 | train_mae: 0.27412 |  0:00:06s\n",
      "epoch 76 | loss: 0.27737 | train_mse: 0.12486 | train_mae: 0.27088 |  0:00:07s\n"
     ]
    },
    {
     "name": "stdout",
     "output_type": "stream",
     "text": [
      "epoch 77 | loss: 0.20991 | train_mse: 0.123   | train_mae: 0.26746 |  0:00:07s\n",
      "epoch 78 | loss: 0.21735 | train_mse: 0.12397 | train_mae: 0.26528 |  0:00:07s\n",
      "epoch 79 | loss: 0.20318 | train_mse: 0.12201 | train_mae: 0.26319 |  0:00:07s\n"
     ]
    },
    {
     "name": "stdout",
     "output_type": "stream",
     "text": [
      "epoch 80 | loss: 0.14858 | train_mse: 0.12027 | train_mae: 0.26161 |  0:00:07s\n",
      "epoch 81 | loss: 0.17808 | train_mse: 0.11768 | train_mae: 0.258   |  0:00:07s\n",
      "epoch 82 | loss: 0.26078 | train_mse: 0.11593 | train_mae: 0.25566 |  0:00:07s\n"
     ]
    },
    {
     "name": "stdout",
     "output_type": "stream",
     "text": [
      "epoch 83 | loss: 0.17075 | train_mse: 0.11329 | train_mae: 0.25031 |  0:00:07s\n",
      "epoch 84 | loss: 0.23054 | train_mse: 0.11282 | train_mae: 0.2538  |  0:00:07s\n",
      "epoch 85 | loss: 0.34851 | train_mse: 0.11357 | train_mae: 0.25672 |  0:00:07s\n"
     ]
    },
    {
     "name": "stdout",
     "output_type": "stream",
     "text": [
      "epoch 86 | loss: 0.21719 | train_mse: 0.11415 | train_mae: 0.25764 |  0:00:07s\n",
      "epoch 87 | loss: 0.17423 | train_mse: 0.11274 | train_mae: 0.25682 |  0:00:08s\n",
      "epoch 88 | loss: 0.20141 | train_mse: 0.11269 | train_mae: 0.25793 |  0:00:08s\n"
     ]
    },
    {
     "name": "stdout",
     "output_type": "stream",
     "text": [
      "epoch 89 | loss: 0.7399  | train_mse: 0.11182 | train_mae: 0.25925 |  0:00:08s\n",
      "epoch 90 | loss: 0.18982 | train_mse: 0.11203 | train_mae: 0.26214 |  0:00:08s\n",
      "epoch 91 | loss: 0.23313 | train_mse: 0.11172 | train_mae: 0.26219 |  0:00:08s\n"
     ]
    },
    {
     "name": "stdout",
     "output_type": "stream",
     "text": [
      "epoch 92 | loss: 0.17877 | train_mse: 0.1112  | train_mae: 0.26022 |  0:00:08s\n",
      "epoch 93 | loss: 0.20186 | train_mse: 0.11057 | train_mae: 0.25698 |  0:00:08s\n",
      "epoch 94 | loss: 0.17378 | train_mse: 0.1111  | train_mae: 0.26043 |  0:00:08s\n"
     ]
    },
    {
     "name": "stdout",
     "output_type": "stream",
     "text": [
      "epoch 95 | loss: 0.32483 | train_mse: 0.11035 | train_mae: 0.26107 |  0:00:08s\n",
      "epoch 96 | loss: 0.21277 | train_mse: 0.11041 | train_mae: 0.26397 |  0:00:08s\n",
      "epoch 97 | loss: 0.30579 | train_mse: 0.10877 | train_mae: 0.26241 |  0:00:08s\n"
     ]
    },
    {
     "name": "stdout",
     "output_type": "stream",
     "text": [
      "epoch 98 | loss: 0.13815 | train_mse: 0.10648 | train_mae: 0.26237 |  0:00:08s\n",
      "epoch 99 | loss: 0.29796 | train_mse: 0.10526 | train_mae: 0.26241 |  0:00:09s\n",
      "epoch 100| loss: 0.25527 | train_mse: 0.10489 | train_mae: 0.25955 |  0:00:09s\n"
     ]
    },
    {
     "name": "stdout",
     "output_type": "stream",
     "text": [
      "epoch 101| loss: 0.13013 | train_mse: 0.10412 | train_mae: 0.25955 |  0:00:09s\n",
      "epoch 102| loss: 0.24821 | train_mse: 0.10507 | train_mae: 0.2613  |  0:00:09s\n",
      "epoch 103| loss: 0.23493 | train_mse: 0.10676 | train_mae: 0.26564 |  0:00:09s\n"
     ]
    },
    {
     "name": "stdout",
     "output_type": "stream",
     "text": [
      "epoch 104| loss: 0.2158  | train_mse: 0.10892 | train_mae: 0.27036 |  0:00:09s\n",
      "epoch 105| loss: 0.19897 | train_mse: 0.1106  | train_mae: 0.27335 |  0:00:09s\n",
      "epoch 106| loss: 0.34131 | train_mse: 0.11302 | train_mae: 0.2769  |  0:00:09s\n"
     ]
    },
    {
     "name": "stdout",
     "output_type": "stream",
     "text": [
      "epoch 107| loss: 0.24697 | train_mse: 0.1142  | train_mae: 0.27683 |  0:00:09s\n",
      "epoch 108| loss: 0.16736 | train_mse: 0.11626 | train_mae: 0.27493 |  0:00:09s\n",
      "epoch 109| loss: 0.20576 | train_mse: 0.11637 | train_mae: 0.27399 |  0:00:09s\n"
     ]
    },
    {
     "name": "stdout",
     "output_type": "stream",
     "text": [
      "epoch 110| loss: 0.1485  | train_mse: 0.11423 | train_mae: 0.27098 |  0:00:09s\n",
      "epoch 111| loss: 0.15888 | train_mse: 0.11084 | train_mae: 0.26648 |  0:00:10s\n",
      "epoch 112| loss: 0.20101 | train_mse: 0.10713 | train_mae: 0.26047 |  0:00:10s\n"
     ]
    },
    {
     "name": "stdout",
     "output_type": "stream",
     "text": [
      "epoch 113| loss: 0.15854 | train_mse: 0.10439 | train_mae: 0.25654 |  0:00:10s\n",
      "epoch 114| loss: 0.36079 | train_mse: 0.10179 | train_mae: 0.25449 |  0:00:10s\n",
      "epoch 115| loss: 0.17405 | train_mse: 0.09915 | train_mae: 0.24788 |  0:00:10s\n"
     ]
    },
    {
     "name": "stdout",
     "output_type": "stream",
     "text": [
      "epoch 116| loss: 0.14792 | train_mse: 0.09721 | train_mae: 0.2436  |  0:00:10s\n",
      "epoch 117| loss: 0.18021 | train_mse: 0.09677 | train_mae: 0.24141 |  0:00:10s\n",
      "epoch 118| loss: 0.13925 | train_mse: 0.09722 | train_mae: 0.24425 |  0:00:10s\n"
     ]
    },
    {
     "name": "stdout",
     "output_type": "stream",
     "text": [
      "epoch 119| loss: 0.20091 | train_mse: 0.09687 | train_mae: 0.24676 |  0:00:10s\n",
      "epoch 120| loss: 0.24299 | train_mse: 0.09663 | train_mae: 0.24877 |  0:00:10s\n"
     ]
    },
    {
     "name": "stdout",
     "output_type": "stream",
     "text": [
      "epoch 121| loss: 0.15542 | train_mse: 0.09654 | train_mae: 0.25081 |  0:00:10s\n",
      "epoch 122| loss: 0.18678 | train_mse: 0.09457 | train_mae: 0.24813 |  0:00:11s\n",
      "epoch 123| loss: 0.1324  | train_mse: 0.0928  | train_mae: 0.24364 |  0:00:11s\n"
     ]
    },
    {
     "name": "stdout",
     "output_type": "stream",
     "text": [
      "epoch 124| loss: 0.28506 | train_mse: 0.09297 | train_mae: 0.24413 |  0:00:11s\n",
      "epoch 125| loss: 0.29667 | train_mse: 0.09189 | train_mae: 0.2438  |  0:00:11s\n",
      "epoch 126| loss: 0.17314 | train_mse: 0.0912  | train_mae: 0.24155 |  0:00:11s\n"
     ]
    },
    {
     "name": "stdout",
     "output_type": "stream",
     "text": [
      "epoch 127| loss: 0.16044 | train_mse: 0.09048 | train_mae: 0.23785 |  0:00:11s\n",
      "epoch 128| loss: 0.15978 | train_mse: 0.08982 | train_mae: 0.23467 |  0:00:11s\n",
      "epoch 129| loss: 0.17329 | train_mse: 0.09009 | train_mae: 0.233   |  0:00:11s\n"
     ]
    },
    {
     "name": "stdout",
     "output_type": "stream",
     "text": [
      "epoch 130| loss: 0.19633 | train_mse: 0.08948 | train_mae: 0.23069 |  0:00:11s\n",
      "epoch 131| loss: 0.16191 | train_mse: 0.09006 | train_mae: 0.23139 |  0:00:11s\n",
      "epoch 132| loss: 0.14547 | train_mse: 0.0911  | train_mae: 0.23138 |  0:00:11s\n"
     ]
    },
    {
     "name": "stdout",
     "output_type": "stream",
     "text": [
      "epoch 133| loss: 0.4395  | train_mse: 0.09283 | train_mae: 0.2329  |  0:00:11s\n",
      "epoch 134| loss: 0.17837 | train_mse: 0.09987 | train_mae: 0.23961 |  0:00:12s\n",
      "epoch 135| loss: 0.31931 | train_mse: 0.09557 | train_mae: 0.23579 |  0:00:12s\n"
     ]
    },
    {
     "name": "stdout",
     "output_type": "stream",
     "text": [
      "epoch 136| loss: 0.34875 | train_mse: 0.0921  | train_mae: 0.23228 |  0:00:12s\n",
      "epoch 137| loss: 0.36396 | train_mse: 0.08796 | train_mae: 0.22918 |  0:00:12s\n",
      "epoch 138| loss: 0.14363 | train_mse: 0.08656 | train_mae: 0.22795 |  0:00:12s\n"
     ]
    },
    {
     "name": "stdout",
     "output_type": "stream",
     "text": [
      "epoch 139| loss: 0.13079 | train_mse: 0.08612 | train_mae: 0.22857 |  0:00:12s\n",
      "epoch 140| loss: 0.16281 | train_mse: 0.08857 | train_mae: 0.23473 |  0:00:12s\n",
      "epoch 141| loss: 0.24698 | train_mse: 0.08689 | train_mae: 0.23502 |  0:00:12s\n"
     ]
    },
    {
     "name": "stdout",
     "output_type": "stream",
     "text": [
      "epoch 142| loss: 0.17833 | train_mse: 0.08859 | train_mae: 0.23939 |  0:00:12s\n",
      "epoch 143| loss: 0.28537 | train_mse: 0.08926 | train_mae: 0.24133 |  0:00:12s\n",
      "epoch 144| loss: 0.11874 | train_mse: 0.08925 | train_mae: 0.24067 |  0:00:12s\n"
     ]
    },
    {
     "name": "stdout",
     "output_type": "stream",
     "text": [
      "epoch 145| loss: 0.22594 | train_mse: 0.08845 | train_mae: 0.24092 |  0:00:13s\n",
      "epoch 146| loss: 0.20762 | train_mse: 0.08739 | train_mae: 0.23936 |  0:00:13s\n",
      "epoch 147| loss: 0.26005 | train_mse: 0.08701 | train_mae: 0.237   |  0:00:13s\n"
     ]
    },
    {
     "name": "stdout",
     "output_type": "stream",
     "text": [
      "epoch 148| loss: 0.18897 | train_mse: 0.0872  | train_mae: 0.23589 |  0:00:13s\n",
      "epoch 149| loss: 0.17036 | train_mse: 0.08765 | train_mae: 0.23485 |  0:00:13s\n",
      "epoch 150| loss: 0.13745 | train_mse: 0.08731 | train_mae: 0.23491 |  0:00:13s\n"
     ]
    },
    {
     "name": "stdout",
     "output_type": "stream",
     "text": [
      "epoch 151| loss: 0.34011 | train_mse: 0.08667 | train_mae: 0.23352 |  0:00:13s\n",
      "epoch 152| loss: 0.19201 | train_mse: 0.08759 | train_mae: 0.23501 |  0:00:13s\n",
      "epoch 153| loss: 0.36766 | train_mse: 0.08774 | train_mae: 0.23528 |  0:00:13s\n"
     ]
    },
    {
     "name": "stdout",
     "output_type": "stream",
     "text": [
      "epoch 154| loss: 0.14014 | train_mse: 0.08937 | train_mae: 0.23609 |  0:00:13s\n",
      "epoch 155| loss: 0.14138 | train_mse: 0.09112 | train_mae: 0.23955 |  0:00:13s\n"
     ]
    },
    {
     "name": "stdout",
     "output_type": "stream",
     "text": [
      "epoch 156| loss: 0.13042 | train_mse: 0.09163 | train_mae: 0.24076 |  0:00:13s\n",
      "epoch 157| loss: 0.14342 | train_mse: 0.09107 | train_mae: 0.23721 |  0:00:14s\n",
      "epoch 158| loss: 0.22701 | train_mse: 0.08937 | train_mae: 0.23672 |  0:00:14s\n"
     ]
    },
    {
     "name": "stdout",
     "output_type": "stream",
     "text": [
      "epoch 159| loss: 0.21646 | train_mse: 0.09033 | train_mae: 0.23946 |  0:00:14s\n",
      "epoch 160| loss: 0.30212 | train_mse: 0.09028 | train_mae: 0.23874 |  0:00:14s\n",
      "epoch 161| loss: 0.13787 | train_mse: 0.09076 | train_mae: 0.23991 |  0:00:14s\n"
     ]
    },
    {
     "name": "stdout",
     "output_type": "stream",
     "text": [
      "epoch 162| loss: 0.20134 | train_mse: 0.0924  | train_mae: 0.24164 |  0:00:14s\n",
      "epoch 163| loss: 0.33774 | train_mse: 0.09407 | train_mae: 0.24284 |  0:00:14s\n",
      "epoch 164| loss: 0.13761 | train_mse: 0.09545 | train_mae: 0.24506 |  0:00:14s\n"
     ]
    },
    {
     "name": "stdout",
     "output_type": "stream",
     "text": [
      "epoch 165| loss: 0.16922 | train_mse: 0.09587 | train_mae: 0.24605 |  0:00:14s\n",
      "epoch 166| loss: 0.17278 | train_mse: 0.09589 | train_mae: 0.24566 |  0:00:14s\n"
     ]
    },
    {
     "name": "stdout",
     "output_type": "stream",
     "text": [
      "epoch 167| loss: 0.25571 | train_mse: 0.09447 | train_mae: 0.24463 |  0:00:14s\n",
      "epoch 168| loss: 0.19769 | train_mse: 0.09233 | train_mae: 0.24201 |  0:00:14s\n",
      "epoch 169| loss: 0.18307 | train_mse: 0.09136 | train_mae: 0.23985 |  0:00:15s\n"
     ]
    },
    {
     "name": "stdout",
     "output_type": "stream",
     "text": [
      "epoch 170| loss: 0.13571 | train_mse: 0.0895  | train_mae: 0.23741 |  0:00:15s\n",
      "epoch 171| loss: 0.15439 | train_mse: 0.08894 | train_mae: 0.2349  |  0:00:15s\n",
      "epoch 172| loss: 0.17749 | train_mse: 0.0906  | train_mae: 0.23454 |  0:00:15s\n"
     ]
    },
    {
     "name": "stdout",
     "output_type": "stream",
     "text": [
      "epoch 173| loss: 0.1325  | train_mse: 0.0922  | train_mae: 0.2356  |  0:00:15s\n",
      "epoch 174| loss: 0.1596  | train_mse: 0.09272 | train_mae: 0.2348  |  0:00:15s\n",
      "epoch 175| loss: 0.1722  | train_mse: 0.09266 | train_mae: 0.2402  |  0:00:15s\n"
     ]
    },
    {
     "name": "stdout",
     "output_type": "stream",
     "text": [
      "epoch 176| loss: 0.24922 | train_mse: 0.0905  | train_mae: 0.24138 |  0:00:15s\n",
      "epoch 177| loss: 0.15978 | train_mse: 0.08947 | train_mae: 0.24273 |  0:00:15s\n",
      "epoch 178| loss: 0.19582 | train_mse: 0.08916 | train_mae: 0.24176 |  0:00:15s\n"
     ]
    },
    {
     "name": "stdout",
     "output_type": "stream",
     "text": [
      "epoch 179| loss: 0.30938 | train_mse: 0.08891 | train_mae: 0.24242 |  0:00:15s\n",
      "epoch 180| loss: 0.26511 | train_mse: 0.08323 | train_mae: 0.23459 |  0:00:16s\n",
      "epoch 181| loss: 0.2502  | train_mse: 0.08305 | train_mae: 0.23332 |  0:00:16s\n"
     ]
    },
    {
     "name": "stdout",
     "output_type": "stream",
     "text": [
      "epoch 182| loss: 0.15194 | train_mse: 0.08237 | train_mae: 0.23087 |  0:00:16s\n",
      "epoch 183| loss: 0.27802 | train_mse: 0.08069 | train_mae: 0.22793 |  0:00:16s\n",
      "epoch 184| loss: 0.16133 | train_mse: 0.08109 | train_mae: 0.22712 |  0:00:16s\n"
     ]
    },
    {
     "name": "stdout",
     "output_type": "stream",
     "text": [
      "epoch 185| loss: 0.13599 | train_mse: 0.08138 | train_mae: 0.22594 |  0:00:16s\n",
      "epoch 186| loss: 0.12815 | train_mse: 0.08193 | train_mae: 0.22642 |  0:00:16s\n",
      "epoch 187| loss: 0.11244 | train_mse: 0.08237 | train_mae: 0.22714 |  0:00:16s\n"
     ]
    },
    {
     "name": "stdout",
     "output_type": "stream",
     "text": [
      "epoch 188| loss: 0.21623 | train_mse: 0.08058 | train_mae: 0.22632 |  0:00:16s\n",
      "epoch 189| loss: 0.25518 | train_mse: 0.07866 | train_mae: 0.22484 |  0:00:16s\n",
      "epoch 190| loss: 0.1109  | train_mse: 0.0775  | train_mae: 0.22405 |  0:00:16s\n"
     ]
    },
    {
     "name": "stdout",
     "output_type": "stream",
     "text": [
      "epoch 191| loss: 0.27807 | train_mse: 0.07714 | train_mae: 0.22495 |  0:00:16s\n",
      "epoch 192| loss: 0.17066 | train_mse: 0.07681 | train_mae: 0.22389 |  0:00:17s\n",
      "epoch 193| loss: 0.10495 | train_mse: 0.07753 | train_mae: 0.22321 |  0:00:17s\n"
     ]
    },
    {
     "name": "stdout",
     "output_type": "stream",
     "text": [
      "epoch 194| loss: 0.17791 | train_mse: 0.07697 | train_mae: 0.22223 |  0:00:17s\n",
      "epoch 195| loss: 0.15427 | train_mse: 0.0774  | train_mae: 0.22183 |  0:00:17s\n",
      "epoch 196| loss: 0.24021 | train_mse: 0.07871 | train_mae: 0.22401 |  0:00:17s\n"
     ]
    },
    {
     "name": "stdout",
     "output_type": "stream",
     "text": [
      "epoch 197| loss: 0.25751 | train_mse: 0.07797 | train_mae: 0.22441 |  0:00:17s\n",
      "epoch 198| loss: 0.15861 | train_mse: 0.07794 | train_mae: 0.22478 |  0:00:17s\n",
      "epoch 199| loss: 0.14199 | train_mse: 0.07722 | train_mae: 0.2243  |  0:00:17s\n"
     ]
    },
    {
     "name": "stdout",
     "output_type": "stream",
     "text": [
      "epoch 200| loss: 0.15617 | train_mse: 0.07731 | train_mae: 0.22581 |  0:00:17s\n",
      "epoch 201| loss: 0.17866 | train_mse: 0.07697 | train_mae: 0.22698 |  0:00:17s\n",
      "epoch 202| loss: 0.15923 | train_mse: 0.07758 | train_mae: 0.22612 |  0:00:17s"
     ]
    },
    {
     "name": "stdout",
     "output_type": "stream",
     "text": [
      "\n",
      "epoch 203| loss: 0.20977 | train_mse: 0.07586 | train_mae: 0.22328 |  0:00:18s\n",
      "epoch 204| loss: 0.14637 | train_mse: 0.07314 | train_mae: 0.21794 |  0:00:18s\n"
     ]
    },
    {
     "name": "stdout",
     "output_type": "stream",
     "text": [
      "epoch 205| loss: 0.1851  | train_mse: 0.07142 | train_mae: 0.21636 |  0:00:18s\n",
      "epoch 206| loss: 0.1127  | train_mse: 0.07099 | train_mae: 0.2173  |  0:00:18s\n",
      "epoch 207| loss: 0.14446 | train_mse: 0.07015 | train_mae: 0.21674 |  0:00:18s\n"
     ]
    },
    {
     "name": "stdout",
     "output_type": "stream",
     "text": [
      "epoch 208| loss: 0.17129 | train_mse: 0.0699  | train_mae: 0.21549 |  0:00:18s\n",
      "epoch 209| loss: 0.17242 | train_mse: 0.07079 | train_mae: 0.21737 |  0:00:18s\n",
      "epoch 210| loss: 0.11001 | train_mse: 0.07176 | train_mae: 0.21764 |  0:00:18s\n"
     ]
    },
    {
     "name": "stdout",
     "output_type": "stream",
     "text": [
      "epoch 211| loss: 0.13188 | train_mse: 0.07213 | train_mae: 0.21777 |  0:00:18s\n",
      "epoch 212| loss: 0.12329 | train_mse: 0.07252 | train_mae: 0.21822 |  0:00:18s\n",
      "epoch 213| loss: 0.15586 | train_mse: 0.07261 | train_mae: 0.21945 |  0:00:18s\n"
     ]
    },
    {
     "name": "stdout",
     "output_type": "stream",
     "text": [
      "epoch 214| loss: 0.18222 | train_mse: 0.07217 | train_mae: 0.22074 |  0:00:18s\n",
      "epoch 215| loss: 0.13221 | train_mse: 0.07203 | train_mae: 0.22175 |  0:00:19s\n",
      "epoch 216| loss: 0.19132 | train_mse: 0.07139 | train_mae: 0.22196 |  0:00:19s\n"
     ]
    },
    {
     "name": "stdout",
     "output_type": "stream",
     "text": [
      "epoch 217| loss: 0.32028 | train_mse: 0.07038 | train_mae: 0.22182 |  0:00:19s\n",
      "epoch 218| loss: 0.22741 | train_mse: 0.06985 | train_mae: 0.2199  |  0:00:19s\n",
      "epoch 219| loss: 0.24717 | train_mse: 0.0698  | train_mae: 0.21842 |  0:00:19s\n"
     ]
    },
    {
     "name": "stdout",
     "output_type": "stream",
     "text": [
      "epoch 220| loss: 0.10424 | train_mse: 0.07172 | train_mae: 0.2187  |  0:00:19s\n",
      "epoch 221| loss: 0.1564  | train_mse: 0.07464 | train_mae: 0.2231  |  0:00:19s\n",
      "epoch 222| loss: 0.11988 | train_mse: 0.07973 | train_mae: 0.22802 |  0:00:19s\n"
     ]
    },
    {
     "name": "stdout",
     "output_type": "stream",
     "text": [
      "epoch 223| loss: 0.15658 | train_mse: 0.08184 | train_mae: 0.22896 |  0:00:19s\n",
      "epoch 224| loss: 0.17072 | train_mse: 0.08396 | train_mae: 0.22924 |  0:00:19s\n",
      "epoch 225| loss: 0.12797 | train_mse: 0.08728 | train_mae: 0.2308  |  0:00:19s\n"
     ]
    },
    {
     "name": "stdout",
     "output_type": "stream",
     "text": [
      "epoch 226| loss: 0.09482 | train_mse: 0.08422 | train_mae: 0.2285  |  0:00:19s\n",
      "epoch 227| loss: 0.11984 | train_mse: 0.08175 | train_mae: 0.22536 |  0:00:20s\n",
      "epoch 228| loss: 0.12095 | train_mse: 0.07898 | train_mae: 0.2257  |  0:00:20s\n"
     ]
    },
    {
     "name": "stdout",
     "output_type": "stream",
     "text": [
      "epoch 229| loss: 0.212   | train_mse: 0.07576 | train_mae: 0.22311 |  0:00:20s\n",
      "epoch 230| loss: 0.11842 | train_mse: 0.07381 | train_mae: 0.22257 |  0:00:20s\n",
      "epoch 231| loss: 0.29585 | train_mse: 0.07282 | train_mae: 0.2211  |  0:00:20s\n"
     ]
    },
    {
     "name": "stdout",
     "output_type": "stream",
     "text": [
      "epoch 232| loss: 0.20361 | train_mse: 0.07238 | train_mae: 0.21998 |  0:00:20s\n",
      "epoch 233| loss: 0.13213 | train_mse: 0.07237 | train_mae: 0.21954 |  0:00:20s\n",
      "epoch 234| loss: 0.15795 | train_mse: 0.07355 | train_mae: 0.22109 |  0:00:20s\n"
     ]
    },
    {
     "name": "stdout",
     "output_type": "stream",
     "text": [
      "epoch 235| loss: 0.14207 | train_mse: 0.07409 | train_mae: 0.21904 |  0:00:20s\n",
      "epoch 236| loss: 0.09699 | train_mse: 0.07504 | train_mae: 0.21904 |  0:00:20s\n"
     ]
    },
    {
     "name": "stdout",
     "output_type": "stream",
     "text": [
      "epoch 237| loss: 0.10836 | train_mse: 0.07609 | train_mae: 0.21887 |  0:00:20s\n",
      "epoch 238| loss: 0.1638  | train_mse: 0.07706 | train_mae: 0.21956 |  0:00:21s\n",
      "epoch 239| loss: 0.16112 | train_mse: 0.0737  | train_mae: 0.21558 |  0:00:21s\n"
     ]
    },
    {
     "name": "stdout",
     "output_type": "stream",
     "text": [
      "epoch 240| loss: 0.14742 | train_mse: 0.06794 | train_mae: 0.20531 |  0:00:21s\n",
      "epoch 241| loss: 0.10944 | train_mse: 0.06652 | train_mae: 0.20265 |  0:00:21s\n",
      "epoch 242| loss: 0.17777 | train_mse: 0.0659  | train_mae: 0.20255 |  0:00:21s\n"
     ]
    },
    {
     "name": "stdout",
     "output_type": "stream",
     "text": [
      "epoch 243| loss: 0.148   | train_mse: 0.06595 | train_mae: 0.2054  |  0:00:21s\n",
      "epoch 244| loss: 0.20429 | train_mse: 0.0656  | train_mae: 0.20429 |  0:00:21s\n",
      "epoch 245| loss: 0.13574 | train_mse: 0.06496 | train_mae: 0.20316 |  0:00:21s\n"
     ]
    },
    {
     "name": "stdout",
     "output_type": "stream",
     "text": [
      "epoch 246| loss: 0.14413 | train_mse: 0.06539 | train_mae: 0.20247 |  0:00:21s\n",
      "epoch 247| loss: 0.13859 | train_mse: 0.06557 | train_mae: 0.20269 |  0:00:21s\n",
      "epoch 248| loss: 0.12405 | train_mse: 0.0643  | train_mae: 0.2015  |  0:00:21s\n"
     ]
    },
    {
     "name": "stdout",
     "output_type": "stream",
     "text": [
      "epoch 249| loss: 0.13596 | train_mse: 0.06329 | train_mae: 0.19921 |  0:00:22s\n",
      "epoch 250| loss: 0.13869 | train_mse: 0.06276 | train_mae: 0.19873 |  0:00:22s\n",
      "epoch 251| loss: 0.17356 | train_mse: 0.06217 | train_mae: 0.19717 |  0:00:22s\n"
     ]
    },
    {
     "name": "stdout",
     "output_type": "stream",
     "text": [
      "epoch 252| loss: 0.25189 | train_mse: 0.06189 | train_mae: 0.1982  |  0:00:22s\n",
      "epoch 253| loss: 0.19426 | train_mse: 0.06169 | train_mae: 0.19937 |  0:00:22s\n",
      "epoch 254| loss: 0.16007 | train_mse: 0.06384 | train_mae: 0.20348 |  0:00:22s\n"
     ]
    },
    {
     "name": "stdout",
     "output_type": "stream",
     "text": [
      "epoch 255| loss: 0.14301 | train_mse: 0.06583 | train_mae: 0.20553 |  0:00:22s\n",
      "epoch 256| loss: 0.15847 | train_mse: 0.06863 | train_mae: 0.20959 |  0:00:22s\n",
      "epoch 257| loss: 0.13911 | train_mse: 0.0703  | train_mae: 0.21262 |  0:00:22s\n"
     ]
    },
    {
     "name": "stdout",
     "output_type": "stream",
     "text": [
      "epoch 258| loss: 0.10551 | train_mse: 0.07055 | train_mae: 0.21255 |  0:00:22s\n",
      "epoch 259| loss: 0.10504 | train_mse: 0.07084 | train_mae: 0.21401 |  0:00:22s\n",
      "epoch 260| loss: 0.20378 | train_mse: 0.07104 | train_mae: 0.21312 |  0:00:22s\n"
     ]
    },
    {
     "name": "stdout",
     "output_type": "stream",
     "text": [
      "epoch 261| loss: 0.12244 | train_mse: 0.07074 | train_mae: 0.21078 |  0:00:23s\n",
      "epoch 262| loss: 0.15693 | train_mse: 0.07108 | train_mae: 0.20914 |  0:00:23s\n",
      "epoch 263| loss: 0.15447 | train_mse: 0.06924 | train_mae: 0.20538 |  0:00:23s\n"
     ]
    },
    {
     "name": "stdout",
     "output_type": "stream",
     "text": [
      "epoch 264| loss: 0.15188 | train_mse: 0.06877 | train_mae: 0.20604 |  0:00:23s\n",
      "epoch 265| loss: 0.12459 | train_mse: 0.06693 | train_mae: 0.20367 |  0:00:23s\n",
      "epoch 266| loss: 0.13952 | train_mse: 0.06751 | train_mae: 0.20593 |  0:00:23s\n"
     ]
    },
    {
     "name": "stdout",
     "output_type": "stream",
     "text": [
      "epoch 267| loss: 0.15069 | train_mse: 0.06865 | train_mae: 0.20839 |  0:00:23s\n",
      "epoch 268| loss: 0.21849 | train_mse: 0.068   | train_mae: 0.20929 |  0:00:23s\n",
      "epoch 269| loss: 0.14834 | train_mse: 0.06866 | train_mae: 0.21164 |  0:00:23s\n"
     ]
    },
    {
     "name": "stdout",
     "output_type": "stream",
     "text": [
      "epoch 270| loss: 0.17431 | train_mse: 0.06652 | train_mae: 0.20931 |  0:00:23s\n",
      "epoch 271| loss: 0.35452 | train_mse: 0.06645 | train_mae: 0.20936 |  0:00:23s\n",
      "epoch 272| loss: 0.12367 | train_mse: 0.06701 | train_mae: 0.21061 |  0:00:23s\n"
     ]
    },
    {
     "name": "stdout",
     "output_type": "stream",
     "text": [
      "epoch 273| loss: 0.12762 | train_mse: 0.06731 | train_mae: 0.21002 |  0:00:24s\n",
      "epoch 274| loss: 0.20662 | train_mse: 0.06844 | train_mae: 0.21045 |  0:00:24s\n",
      "epoch 275| loss: 0.09253 | train_mse: 0.067   | train_mae: 0.2095  |  0:00:24s\n"
     ]
    },
    {
     "name": "stdout",
     "output_type": "stream",
     "text": [
      "epoch 276| loss: 0.09914 | train_mse: 0.06669 | train_mae: 0.20899 |  0:00:24s\n",
      "epoch 277| loss: 0.14404 | train_mse: 0.06525 | train_mae: 0.20727 |  0:00:24s\n",
      "epoch 278| loss: 0.13785 | train_mse: 0.06482 | train_mae: 0.20957 |  0:00:24s\n"
     ]
    },
    {
     "name": "stdout",
     "output_type": "stream",
     "text": [
      "epoch 279| loss: 0.08747 | train_mse: 0.06649 | train_mae: 0.21184 |  0:00:24s\n",
      "epoch 280| loss: 0.16789 | train_mse: 0.06801 | train_mae: 0.21212 |  0:00:24s\n",
      "epoch 281| loss: 0.1716  | train_mse: 0.06917 | train_mae: 0.21217 |  0:00:24s\n"
     ]
    },
    {
     "name": "stdout",
     "output_type": "stream",
     "text": [
      "epoch 282| loss: 0.10595 | train_mse: 0.07156 | train_mae: 0.21524 |  0:00:24s\n",
      "epoch 283| loss: 0.13391 | train_mse: 0.07315 | train_mae: 0.21644 |  0:00:24s\n",
      "epoch 284| loss: 0.16117 | train_mse: 0.07378 | train_mae: 0.21844 |  0:00:25s\n"
     ]
    },
    {
     "name": "stdout",
     "output_type": "stream",
     "text": [
      "epoch 285| loss: 0.11369 | train_mse: 0.07302 | train_mae: 0.21851 |  0:00:25s\n",
      "epoch 286| loss: 0.12191 | train_mse: 0.07056 | train_mae: 0.21631 |  0:00:25s\n",
      "epoch 287| loss: 0.14936 | train_mse: 0.07045 | train_mae: 0.21474 |  0:00:25s\n"
     ]
    },
    {
     "name": "stdout",
     "output_type": "stream",
     "text": [
      "epoch 288| loss: 0.14874 | train_mse: 0.06891 | train_mae: 0.21447 |  0:00:25s\n",
      "epoch 289| loss: 0.11873 | train_mse: 0.06599 | train_mae: 0.21082 |  0:00:25s\n",
      "epoch 290| loss: 0.13876 | train_mse: 0.06446 | train_mae: 0.20815 |  0:00:25s\n"
     ]
    },
    {
     "name": "stdout",
     "output_type": "stream",
     "text": [
      "epoch 291| loss: 0.15714 | train_mse: 0.0645  | train_mae: 0.20847 |  0:00:25s\n",
      "epoch 292| loss: 0.21243 | train_mse: 0.06493 | train_mae: 0.21001 |  0:00:25s\n",
      "epoch 293| loss: 0.06059 | train_mse: 0.06455 | train_mae: 0.20893 |  0:00:25s\n"
     ]
    },
    {
     "name": "stdout",
     "output_type": "stream",
     "text": [
      "epoch 294| loss: 0.22751 | train_mse: 0.06408 | train_mae: 0.20712 |  0:00:25s\n",
      "epoch 295| loss: 0.16347 | train_mse: 0.06452 | train_mae: 0.20749 |  0:00:25s\n",
      "epoch 296| loss: 0.15841 | train_mse: 0.06574 | train_mae: 0.2092  |  0:00:26s\n"
     ]
    },
    {
     "name": "stdout",
     "output_type": "stream",
     "text": [
      "epoch 297| loss: 0.12666 | train_mse: 0.06773 | train_mae: 0.21043 |  0:00:26s\n",
      "epoch 298| loss: 0.11788 | train_mse: 0.06789 | train_mae: 0.20956 |  0:00:26s\n",
      "epoch 299| loss: 0.11596 | train_mse: 0.06835 | train_mae: 0.20761 |  0:00:26s"
     ]
    },
    {
     "name": "stdout",
     "output_type": "stream",
     "text": [
      "\n",
      "epoch 300| loss: 0.12129 | train_mse: 0.06823 | train_mae: 0.20736 |  0:00:26s\n"
     ]
    },
    {
     "name": "stdout",
     "output_type": "stream",
     "text": [
      "epoch 301| loss: 0.20866 | train_mse: 0.06873 | train_mae: 0.20658 |  0:00:26s\n",
      "\n",
      "Early stopping occurred at epoch 301 with best_epoch = 251 and best_train_mae = 0.19717\n",
      "Best weights from best epoch are automatically used!\n"
     ]
    }
   ],
   "source": [
    "#Train the Model\n",
    "\n",
    "Y_train = np.reshape(Y_train, (-1, 1))\n",
    "Y_test = np.reshape(Y_test, (-1, 1))\n",
    "\n",
    "prior_model = TabNetRegressor(optimizer_fn=torch.optim.Adam, optimizer_params=dict(lr = 0.001),\n",
    "          #scheduler_params={\"step_size\":10, ], \"gamma\":0.9},\n",
    "          #scheduler_fn=torch.optim.lr_scheduler.StepLR\n",
    "          )  #TabNetRegressor()\n",
    "\n",
    "prior_model.fit(X_train,Y_train,eval_set=[(X_train, Y_train)],\n",
    "            eval_name=['train'], \n",
    "            eval_metric=[ 'mse', 'mae'], \n",
    "            max_epochs = n_epochs, \n",
    "            batch_size = batch_size,\n",
    "            patience=50\n",
    "            )"
   ]
  },
  {
   "cell_type": "code",
   "execution_count": 10,
   "id": "af65dcda",
   "metadata": {
    "execution": {
     "iopub.execute_input": "2022-07-22T08:32:44.288855Z",
     "iopub.status.busy": "2022-07-22T08:32:44.288417Z",
     "iopub.status.idle": "2022-07-22T08:32:44.348248Z",
     "shell.execute_reply": "2022-07-22T08:32:44.346342Z"
    },
    "id": "af65dcda",
    "papermill": {
     "duration": 0.08123,
     "end_time": "2022-07-22T08:32:44.351634",
     "exception": false,
     "start_time": "2022-07-22T08:32:44.270404",
     "status": "completed"
    },
    "tags": []
   },
   "outputs": [
    {
     "data": {
      "application/scrapbook.scrap.json+json": {
       "data": 0.08299085205442738,
       "encoder": "json",
       "name": "Prior Model MSE",
       "version": 1
      }
     },
     "metadata": {
      "scrapbook": {
       "data": true,
       "display": false,
       "name": "Prior Model MSE"
      }
     },
     "output_type": "display_data"
    },
    {
     "data": {
      "application/scrapbook.scrap.json+json": {
       "data": 0.12186720661437925,
       "encoder": "json",
       "name": "ABC Pre-generator MSE",
       "version": 1
      }
     },
     "metadata": {
      "scrapbook": {
       "data": true,
       "display": false,
       "name": "ABC Pre-generator MSE"
      }
     },
     "output_type": "display_data"
    },
    {
     "data": {
      "application/scrapbook.scrap.json+json": {
       "data": 0.24715184421082553,
       "encoder": "json",
       "name": "Prior Model MAE",
       "version": 1
      }
     },
     "metadata": {
      "scrapbook": {
       "data": true,
       "display": false,
       "name": "Prior Model MAE"
      }
     },
     "output_type": "display_data"
    },
    {
     "name": "stdout",
     "output_type": "stream",
     "text": [
      "Prior Model MAE 0.24715184421082553\n"
     ]
    },
    {
     "data": {
      "application/scrapbook.scrap.json+json": {
       "data": 0.2972346892648478,
       "encoder": "json",
       "name": "ABC Pre-generator MAE",
       "version": 1
      }
     },
     "metadata": {
      "scrapbook": {
       "data": true,
       "display": false,
       "name": "ABC Pre-generator MAE"
      }
     },
     "output_type": "display_data"
    },
    {
     "name": "stdout",
     "output_type": "stream",
     "text": [
      "ABC Pre-generator MAE 0.2972346892648478\n"
     ]
    }
   ],
   "source": [
    "y_pred = prior_model.predict(X_test)\n",
    "y_abc = y_pred + np.random.normal(0,variance, y_pred.shape) + bias \n",
    "mse = mean_squared_error(y_pred,Y_test)\n",
    "sb.glue(\"Prior Model MSE\",mse)\n",
    "mse = mean_squared_error(y_abc,Y_test)\n",
    "sb.glue(\"ABC Pre-generator MSE\",mse)\n",
    "mae = mean_absolute_error(y_pred,Y_test)\n",
    "sb.glue(\"Prior Model MAE\",mae)\n",
    "print(\"Prior Model MAE\",mae)\n",
    "mae = mean_absolute_error(y_abc,Y_test)\n",
    "sb.glue(\"ABC Pre-generator MAE\",mae)\n",
    "print(\"ABC Pre-generator MAE\",mae)"
   ]
  },
  {
   "cell_type": "markdown",
   "id": "25609da2",
   "metadata": {
    "papermill": {
     "duration": 0.017016,
     "end_time": "2022-07-22T08:32:44.389156",
     "exception": false,
     "start_time": "2022-07-22T08:32:44.372140",
     "status": "completed"
    },
    "tags": []
   },
   "source": [
    "# mGAN Model"
   ]
  },
  {
   "cell_type": "code",
   "execution_count": 11,
   "id": "dfc3464d",
   "metadata": {
    "execution": {
     "iopub.execute_input": "2022-07-22T08:32:44.428772Z",
     "iopub.status.busy": "2022-07-22T08:32:44.428129Z",
     "iopub.status.idle": "2022-07-22T08:32:44.433150Z",
     "shell.execute_reply": "2022-07-22T08:32:44.431926Z"
    },
    "papermill": {
     "duration": 0.028362,
     "end_time": "2022-07-22T08:32:44.435973",
     "exception": false,
     "start_time": "2022-07-22T08:32:44.407611",
     "status": "completed"
    },
    "tags": []
   },
   "outputs": [],
   "source": [
    "# gen = network.Generator(n_features+1).to(device)\n",
    "# disc = network.Discriminator(n_features+1).to(device)\n",
    "\n",
    "# criterion = torch.nn.BCELoss()\n",
    "# gen_opt = torch.optim.Adam(gen.parameters(), lr=0.001, betas=(0.5, 0.999))\n",
    "# disc_opt = torch.optim.Adam(disc.parameters(), lr=0.001, betas=(0.5, 0.999))"
   ]
  },
  {
   "cell_type": "code",
   "execution_count": 12,
   "id": "b75fdd85",
   "metadata": {
    "execution": {
     "iopub.execute_input": "2022-07-22T08:32:44.470135Z",
     "iopub.status.busy": "2022-07-22T08:32:44.469451Z",
     "iopub.status.idle": "2022-07-22T08:32:44.473884Z",
     "shell.execute_reply": "2022-07-22T08:32:44.472849Z"
    },
    "papermill": {
     "duration": 0.025987,
     "end_time": "2022-07-22T08:32:44.477621",
     "exception": false,
     "start_time": "2022-07-22T08:32:44.451634",
     "status": "completed"
    },
    "tags": []
   },
   "outputs": [],
   "source": [
    "#Training the ABC_GAN \n",
    "# ABC_train_test2.training_GAN(disc,gen,disc_opt,gen_opt,train_data,batch_size,n_epochs,criterion,prior_model,variance,bias,device)"
   ]
  },
  {
   "cell_type": "code",
   "execution_count": 13,
   "id": "1fa7c368",
   "metadata": {
    "execution": {
     "iopub.execute_input": "2022-07-22T08:32:44.518061Z",
     "iopub.status.busy": "2022-07-22T08:32:44.517408Z",
     "iopub.status.idle": "2022-07-22T08:32:44.522184Z",
     "shell.execute_reply": "2022-07-22T08:32:44.521168Z"
    },
    "papermill": {
     "duration": 0.026892,
     "end_time": "2022-07-22T08:32:44.525530",
     "exception": false,
     "start_time": "2022-07-22T08:32:44.498638",
     "status": "completed"
    },
    "tags": []
   },
   "outputs": [],
   "source": [
    "# ABC_GAN1_metrics=ABC_train_test2.test_generator(gen,test_data,prior_model,variance,bias,\"1\",device)\n",
    "# sb.glue(\"ABC_GAN_1 Metrics\",ABC_GAN1_metrics)\n",
    "\n",
    "# print(\"MAE\")\n",
    "# print(mean(ABC_GAN1_metrics[1]))"
   ]
  },
  {
   "cell_type": "code",
   "execution_count": 14,
   "id": "eb22ce5c",
   "metadata": {
    "execution": {
     "iopub.execute_input": "2022-07-22T08:32:44.562330Z",
     "iopub.status.busy": "2022-07-22T08:32:44.561739Z",
     "iopub.status.idle": "2022-07-22T08:32:44.566358Z",
     "shell.execute_reply": "2022-07-22T08:32:44.565181Z"
    },
    "papermill": {
     "duration": 0.026635,
     "end_time": "2022-07-22T08:32:44.569720",
     "exception": false,
     "start_time": "2022-07-22T08:32:44.543085",
     "status": "completed"
    },
    "tags": []
   },
   "outputs": [],
   "source": [
    "# sanityChecks.discProbVsError(train_data,disc,device)\n",
    "# sanityChecks.discProbVsError(test_data,disc,device)"
   ]
  },
  {
   "cell_type": "markdown",
   "id": "3e03e5db",
   "metadata": {
    "papermill": {
     "duration": 0.016833,
     "end_time": "2022-07-22T08:32:44.602538",
     "exception": false,
     "start_time": "2022-07-22T08:32:44.585705",
     "status": "completed"
    },
    "tags": []
   },
   "source": [
    "# mGAN Model with TabNet Generator"
   ]
  },
  {
   "cell_type": "code",
   "execution_count": 15,
   "id": "2e2b50e9",
   "metadata": {
    "execution": {
     "iopub.execute_input": "2022-07-22T08:32:44.640551Z",
     "iopub.status.busy": "2022-07-22T08:32:44.639992Z",
     "iopub.status.idle": "2022-07-22T08:32:44.661866Z",
     "shell.execute_reply": "2022-07-22T08:32:44.660951Z"
    },
    "papermill": {
     "duration": 0.045872,
     "end_time": "2022-07-22T08:32:44.665521",
     "exception": false,
     "start_time": "2022-07-22T08:32:44.619649",
     "status": "completed"
    },
    "tags": []
   },
   "outputs": [],
   "source": [
    "gen2 = network.GeneratorTabnet(n_features+1).to(device)\n",
    "disc2 = network.Discriminator(n_features+1).to(device)\n",
    "\n",
    "criterion = torch.nn.BCELoss()\n",
    "gen_opt = torch.optim.Adam(gen2.parameters(), lr=0.001, betas=(0.5, 0.999))\n",
    "disc_opt = torch.optim.Adam(disc2.parameters(), lr=0.001, betas=(0.5, 0.999))"
   ]
  },
  {
   "cell_type": "code",
   "execution_count": 16,
   "id": "cd64c6e3",
   "metadata": {
    "execution": {
     "iopub.execute_input": "2022-07-22T08:32:44.700438Z",
     "iopub.status.busy": "2022-07-22T08:32:44.699836Z",
     "iopub.status.idle": "2022-07-22T08:35:21.644444Z",
     "shell.execute_reply": "2022-07-22T08:35:21.643438Z"
    },
    "papermill": {
     "duration": 156.966184,
     "end_time": "2022-07-22T08:35:21.647263",
     "exception": false,
     "start_time": "2022-07-22T08:32:44.681079",
     "status": "completed"
    },
    "tags": []
   },
   "outputs": [
    {
     "data": {
      "image/png": "[encoded data removed]",
      "text/plain": [
       "<Figure size 432x288 with 1 Axes>"
      ]
     },
     "metadata": {
      "needs_background": "light"
     },
     "output_type": "display_data"
    },
    {
     "data": {
      "image/png": "[encoded data removed]",
      "text/plain": [
       "<Figure size 432x288 with 1 Axes>"
      ]
     },
     "metadata": {
      "needs_background": "light"
     },
     "output_type": "display_data"
    }
   ],
   "source": [
    "#Training the ABC_GAN \n",
    "ABC_train_test2.training_GAN(disc2,gen2,disc_opt,gen_opt,train_data,batch_size,n_epochs,criterion,prior_model,variance,bias,device)"
   ]
  },
  {
   "cell_type": "code",
   "execution_count": 17,
   "id": "0a2755a0",
   "metadata": {
    "execution": {
     "iopub.execute_input": "2022-07-22T08:35:21.683351Z",
     "iopub.status.busy": "2022-07-22T08:35:21.682499Z",
     "iopub.status.idle": "2022-07-22T08:35:23.490510Z",
     "shell.execute_reply": "2022-07-22T08:35:23.489470Z"
    },
    "papermill": {
     "duration": 1.830676,
     "end_time": "2022-07-22T08:35:23.494988",
     "exception": false,
     "start_time": "2022-07-22T08:35:21.664312",
     "status": "completed"
    },
    "tags": []
   },
   "outputs": [
    {
     "data": {
      "application/scrapbook.scrap.json+json": {
       "data": 0.33569659458455553,
       "encoder": "json",
       "name": "ABC-GAN Model 1 MSE",
       "version": 1
      }
     },
     "metadata": {
      "scrapbook": {
       "data": true,
       "display": false,
       "name": "ABC-GAN Model 1 MSE"
      }
     },
     "output_type": "display_data"
    },
    {
     "data": {
      "application/scrapbook.scrap.json+json": {
       "data": 0.4256621323097497,
       "encoder": "json",
       "name": "ABC-GAN Model 1 MAE",
       "version": 1
      }
     },
     "metadata": {
      "scrapbook": {
       "data": true,
       "display": false,
       "name": "ABC-GAN Model 1 MAE"
      }
     },
     "output_type": "display_data"
    },
    {
     "data": {
      "application/scrapbook.scrap.json+json": {
       "data": 8.513242646194994,
       "encoder": "json",
       "name": "ABC-GAN Model 1 Manhattan Distance",
       "version": 1
      }
     },
     "metadata": {
      "scrapbook": {
       "data": true,
       "display": false,
       "name": "ABC-GAN Model 1 Manhattan Distance"
      }
     },
     "output_type": "display_data"
    },
    {
     "data": {
      "application/scrapbook.scrap.json+json": {
       "data": 2.5802858675251272,
       "encoder": "json",
       "name": "ABC-GAN Model 1 Euclidean distance",
       "version": 1
      }
     },
     "metadata": {
      "scrapbook": {
       "data": true,
       "display": false,
       "name": "ABC-GAN Model 1 Euclidean distance"
      }
     },
     "output_type": "display_data"
    },
    {
     "data": {
      "application/scrapbook.scrap.json+json": {
       "data": [
        [
         0.39773978118415754,
         0.28850721598330453,
         0.48167763363402044,
         0.48163020145574686,
         0.3244190346657364,
         0.35683996838799314,
         0.41416059198919547,
         0.26539416779170927,
         0.4346407094311969,
         0.37782056729137625,
         0.27816363661070265,
         0.2901393597449158,
         0.32568748596484604,
         0.317663971572307,
         0.4469145694023574,
         0.42601564588694973,
         0.230759804915944,
         0.24639248154684315,
         0.3451883442892484,
         0.364541522293116,
         0.26360230470569546,
         0.27979435518113616,
         0.3623605091167555,
         0.37448389576644237,
         0.29056679832488463,
         0.4571669873985469,
         0.3453160427936258,
         0.3366799694728668,
         0.34847412450567467,
         0.3097901073566026,
         0.3152887406547275,
         0.3158076019549375,
         0.28334764177860244,
         0.2674274939083191,
         0.3241139778182155,
         0.314292855282666,
         0.32613865462400526,
         0.3917750225230313,
         0.4651915376291244,
         0.40065519494572516,
         0.32154401282713374,
         0.33605423086358205,
         0.29200283920417586,
         0.41472744799871375,
         0.25445406346701205,
         0.4392300951650309,
         0.33324834776600165,
         0.2365390658293845,
         0.23478338676478883,
         0.27232836617035694,
         0.29654964410991774,
         0.25445626558593315,
         0.4592402581791893,
         0.32546518940754054,
         0.297696105923016,
         0.3195814749347274,
         0.2849747721073088,
         0.4109658778917714,
         0.31043520343096537,
         0.33757641476424755,
         0.438706602577175,
         0.33864483678254553,
         0.2998189493269731,
         0.2853868058623915,
         0.42434714663719825,
         0.2996174292961524,
         0.2968976921749681,
         0.3363034900903158,
         0.29599795329490974,
         0.3589089966272414,
         0.31164640285572187,
         0.3428589011103441,
         0.26013297490688675,
         0.3496721825110996,
         0.33856326531829933,
         0.33180973066449354,
         0.3665111579698297,
         0.25961868176843833,
         0.3117220164100105,
         0.4963456493582544,
         0.3021645742237125,
         0.2398213650001888,
         0.28058460947052344,
         0.362088504281889,
         0.28817603867031927,
         0.4468870252742338,
         0.26536251046507753,
         0.3035330897485352,
         0.3390432154912987,
         0.2794798396758523,
         0.3723177044471746,
         0.32133539694983204,
         0.3296668589726162,
         0.3540779840681693,
         0.3163136988251952,
         0.3570761988139129,
         0.3243876215486229,
         0.4356558912931794,
         0.24358852607602532,
         0.36616436744189335
        ],
        [
         0.4347624110756442,
         0.4103030328406021,
         0.47226691625546663,
         0.48739703677129,
         0.44705967910122124,
         0.4313534439308569,
         0.4669229035032913,
         0.40364096804987637,
         0.46280464648734776,
         0.4737832055194303,
         0.40363779596518723,
         0.40764149960596113,
         0.4196556281996891,
         0.4380662991432473,
         0.4530319134471938,
         0.46687739056069405,
         0.35924282025080173,
         0.37988258737605063,
         0.43006581549998374,
         0.43899303579237314,
         0.37350155531894413,
         0.4123817938147113,
         0.4217744611902162,
         0.4481101545272395,
         0.39161711584310976,
         0.4808832213981077,
         0.4169483071891591,
         0.41439107989426704,
         0.4489410125417635,
         0.4280737193999812,
         0.4304187644040212,
         0.4087013280717656,
         0.39911406065803023,
         0.39015032730530946,
         0.4268992864293978,
         0.4172244551358745,
         0.42357184186112135,
         0.46153188969474285,
         0.48657721567433326,
         0.45132020867895334,
         0.4147268294589594,
         0.4468486879719421,
         0.3881734949303791,
         0.4756663205800578,
         0.38241865641903133,
         0.46854352185036985,
         0.41634095541667193,
         0.37847851782571523,
         0.3500427250517532,
         0.3897366869961843,
         0.39866733669769017,
         0.37925397052895277,
         0.48389576754998415,
         0.4154697735561058,
         0.40816339224111287,
         0.4150278498185799,
         0.40631346113514155,
         0.4599394130287692,
         0.4215544362319633,
         0.4527188920183107,
         0.48229202765505763,
         0.41388196039479225,
         0.3789328266633675,
         0.3917414405150339,
         0.4782795266015455,
         0.40374485857319087,
         0.3899197169346735,
         0.4351098437560722,
         0.4108718161238357,
         0.44604456357192246,
         0.4302539155585691,
         0.4429136880440637,
         0.3829913560999557,
         0.41419342930894343,
         0.43506973076146094,
         0.4472162007121369,
         0.44495692912023516,
         0.3792386096669361,
         0.40652114420663565,
         0.4907498854910955,
         0.41472737982403485,
         0.35847158476244656,
         0.3978679067688063,
         0.4327981415903196,
         0.39377274743746965,
         0.46917039358522744,
         0.37718987979460505,
         0.4198193373857066,
         0.4288335648132488,
         0.397666857088916,
         0.48341997067909687,
         0.43113972402643413,
         0.4389701769454405,
         0.45190156407188625,
         0.4393392889061943,
         0.46368683732580396,
         0.4333569937152788,
         0.4562640609918162,
         0.3655657038791105,
         0.4358261299086735
        ],
        [
         8.695248221512884,
         8.206060656812042,
         9.445338325109333,
         9.7479407354258,
         8.941193582024425,
         8.627068878617138,
         9.338458070065826,
         8.072819360997528,
         9.256092929746956,
         9.475664110388607,
         8.072755919303745,
         8.152829992119223,
         8.393112563993782,
         8.761325982864946,
         9.060638268943876,
         9.33754781121388,
         7.184856405016035,
         7.597651747521013,
         8.601316309999675,
         8.779860715847462,
         7.470031106378883,
         8.247635876294225,
         8.435489223804325,
         8.96220309054479,
         7.832342316862196,
         9.617664427962154,
         8.338966143783182,
         8.28782159788534,
         8.97882025083527,
         8.561474387999624,
         8.608375288080424,
         8.174026561435312,
         7.982281213160604,
         7.8030065461061895,
         8.537985728587955,
         8.344489102717489,
         8.471436837222427,
         9.230637793894857,
         9.731544313486665,
         9.026404173579067,
         8.294536589179188,
         8.936973759438843,
         7.763469898607582,
         9.513326411601156,
         7.648373128380626,
         9.370870437007397,
         8.326819108333439,
         7.569570356514305,
         7.0008545010350645,
         7.794733739923686,
         7.973346733953804,
         7.5850794105790555,
         9.677915350999683,
         8.309395471122116,
         8.163267844822258,
         8.300556996371597,
         8.126269222702831,
         9.198788260575384,
         8.431088724639267,
         9.054377840366215,
         9.645840553101152,
         8.277639207895845,
         7.578656533267349,
         7.834828810300678,
         9.56559053203091,
         8.074897171463817,
         7.79839433869347,
         8.702196875121444,
         8.217436322476715,
         8.92089127143845,
         8.605078311171383,
         8.858273760881275,
         7.659827121999115,
         8.283868586178869,
         8.70139461522922,
         8.944324014242738,
         8.899138582404703,
         7.584772193338722,
         8.130422884132713,
         9.81499770982191,
         8.294547596480697,
         7.169431695248932,
         7.957358135376126,
         8.655962831806391,
         7.875454948749393,
         9.383407871704549,
         7.5437975958921015,
         8.396386747714132,
         8.576671296264976,
         7.95333714177832,
         9.668399413581938,
         8.622794480528682,
         8.77940353890881,
         9.038031281437725,
         8.786785778123885,
         9.273736746516079,
         8.667139874305576,
         9.125281219836324,
         7.31131407758221,
         8.71652259817347
        ],
        [
         2.820424723988065,
         2.4021124702365815,
         3.103796493438384,
         3.1036436698040806,
         2.5472300040072406,
         2.671478872789351,
         2.8780569556184794,
         2.3038844059184447,
         2.9483578800111663,
         2.748892749058705,
         2.358659096226933,
         2.40889750610073,
         2.5522048740837637,
         2.520571251015559,
         2.989697541231746,
         2.9189575052985948,
         2.1483007467109627,
         2.219876039542943,
         2.6275020239354654,
         2.7001537818913794,
         2.2960936596998627,
         2.365562745653288,
         2.692064297585611,
         2.7367275924594407,
         2.410671268858053,
         3.0237955863402766,
         2.627987986249655,
         2.5949179928192985,
         2.6399777442458663,
         2.489136827724031,
         2.51113018640901,
         2.5131955831368855,
         2.380536249581604,
         2.3126932088295633,
         2.5460321200574647,
         2.5071611646747645,
         2.5539720226502296,
         2.799196393692416,
         3.0502181483596362,
         2.8307426408832193,
         2.535918030328006,
         2.5925054710205804,
         2.41662094340083,
         2.8800258609905356,
         2.2558992152443866,
         2.963882909849952,
         2.5816597288023906,
         2.175035934550896,
         2.1669489461673472,
         2.3337881916333236,
         2.435362987769658,
         2.2559089768247884,
         3.030644347920717,
         2.5513337273180885,
         2.4400660069884013,
         2.528167221268116,
         2.3873616069096397,
         2.866935220376531,
         2.491727125633806,
         2.598370315271661,
         2.9621161441684727,
         2.602478959694182,
         2.448750494954409,
         2.3890868793846387,
         2.913235818251582,
         2.447927406179164,
         2.4367917111438477,
         2.59346675355716,
         2.4330966001986427,
         2.6792125582985813,
         2.496583276623161,
         2.6186213972636216,
         2.2809339091998555,
         2.644511987157932,
         2.602165503261848,
         2.576081251298156,
         2.7074384867244157,
         2.278678045571328,
         2.4968861263982807,
         3.150700396287322,
         2.458310697302977,
         2.190074724753422,
         2.368901050996109,
         2.6910537128860472,
         2.400733382407631,
         2.9896054096627327,
         2.3037469933353254,
         2.463871302436616,
         2.6040092760637346,
         2.364232812883927,
         2.7288008518291496,
         2.5350952524504167,
         2.567749438604227,
         2.6611200050661723,
         2.5152085353910327,
         2.6723629948564733,
         2.5471066783651715,
         2.9517990829091985,
         2.2072087625597416,
         2.7061573030476014
        ]
       ],
       "encoder": "json",
       "name": "ABC_GAN_2 Metrics",
       "version": 1
      }
     },
     "metadata": {
      "scrapbook": {
       "data": true,
       "display": false,
       "name": "ABC_GAN_2 Metrics"
      }
     },
     "output_type": "display_data"
    },
    {
     "name": "stdout",
     "output_type": "stream",
     "text": [
      "MAE\n",
      "0.4256621323097497\n"
     ]
    }
   ],
   "source": [
    "ABC_GAN2_metrics=ABC_train_test2.test_generator(gen2,test_data,prior_model,variance,bias,\"1\",device)\n",
    "sb.glue(\"ABC_GAN_2 Metrics\",ABC_GAN2_metrics)\n",
    "\n",
    "print(\"MAE\")\n",
    "print(mean(ABC_GAN2_metrics[1]))"
   ]
  },
  {
   "cell_type": "code",
   "execution_count": 18,
   "id": "6a5d1d59",
   "metadata": {
    "execution": {
     "iopub.execute_input": "2022-07-22T08:35:23.536954Z",
     "iopub.status.busy": "2022-07-22T08:35:23.535781Z",
     "iopub.status.idle": "2022-07-22T08:35:24.469072Z",
     "shell.execute_reply": "2022-07-22T08:35:24.467988Z"
    },
    "papermill": {
     "duration": 0.958858,
     "end_time": "2022-07-22T08:35:24.472153",
     "exception": false,
     "start_time": "2022-07-22T08:35:23.513295",
     "status": "completed"
    },
    "tags": []
   },
   "outputs": [
    {
     "data": {
      "image/png": "[encoded data removed]",
      "text/plain": [
       "<Figure size 432x288 with 1 Axes>"
      ]
     },
     "metadata": {
      "needs_background": "light"
     },
     "output_type": "display_data"
    },
    {
     "data": {
      "image/png": "[encoded data removed]",
      "text/plain": [
       "<Figure size 432x288 with 1 Axes>"
      ]
     },
     "metadata": {
      "needs_background": "light"
     },
     "output_type": "display_data"
    },
    {
     "data": {
      "image/png": "[encoded data removed]",
      "text/plain": [
       "<Figure size 432x288 with 1 Axes>"
      ]
     },
     "metadata": {
      "needs_background": "light"
     },
     "output_type": "display_data"
    },
    {
     "data": {
      "image/png": "[encoded data removed]",
      "text/plain": [
       "<Figure size 432x288 with 1 Axes>"
      ]
     },
     "metadata": {
      "needs_background": "light"
     },
     "output_type": "display_data"
    }
   ],
   "source": [
    "sanityChecks.discProbVsError(train_data,disc2,device)\n",
    "sanityChecks.discProbVsError(test_data,disc2,device)"
   ]
  },
  {
   "cell_type": "markdown",
   "id": "130f3a4d",
   "metadata": {
    "id": "130f3a4d",
    "papermill": {
     "duration": 0.023865,
     "end_time": "2022-07-22T08:35:24.518087",
     "exception": false,
     "start_time": "2022-07-22T08:35:24.494222",
     "status": "completed"
    },
    "tags": []
   },
   "source": [
    "# skipGAN Model"
   ]
  },
  {
   "cell_type": "code",
   "execution_count": 19,
   "id": "4e43dad1",
   "metadata": {
    "execution": {
     "iopub.execute_input": "2022-07-22T08:35:24.573464Z",
     "iopub.status.busy": "2022-07-22T08:35:24.573123Z",
     "iopub.status.idle": "2022-07-22T08:35:24.577699Z",
     "shell.execute_reply": "2022-07-22T08:35:24.576529Z"
    },
    "id": "4e43dad1",
    "papermill": {
     "duration": 0.039477,
     "end_time": "2022-07-22T08:35:24.580607",
     "exception": false,
     "start_time": "2022-07-22T08:35:24.541130",
     "status": "completed"
    },
    "tags": []
   },
   "outputs": [],
   "source": [
    "# #Generator\n",
    "# gen3 = network.GeneratorWithSkipConnection(n_features+1).to(device)\n",
    "# constraints=network.weightConstraint()\n",
    "# #Discriminator \n",
    "# disc3 = network.Discriminator(n_features+1).to(device)\n",
    "\n",
    "# criterion = torch.nn.BCELoss()\n",
    "# gen_opt = torch.optim.Adam(gen3.parameters(), lr=0.01, betas=(0.5, 0.999))\n",
    "# disc_opt = torch.optim.Adam(disc3.parameters(), lr=0.01, betas=(0.5, 0.999))\n"
   ]
  },
  {
   "cell_type": "code",
   "execution_count": 20,
   "id": "26acbc37",
   "metadata": {
    "execution": {
     "iopub.execute_input": "2022-07-22T08:35:24.630858Z",
     "iopub.status.busy": "2022-07-22T08:35:24.630466Z",
     "iopub.status.idle": "2022-07-22T08:35:24.635776Z",
     "shell.execute_reply": "2022-07-22T08:35:24.634805Z"
    },
    "id": "26acbc37",
    "papermill": {
     "duration": 0.035281,
     "end_time": "2022-07-22T08:35:24.638524",
     "exception": false,
     "start_time": "2022-07-22T08:35:24.603243",
     "status": "completed"
    },
    "tags": []
   },
   "outputs": [],
   "source": [
    "# ABC_train_test2.training_GAN_skip_connection(disc3,gen3,disc_opt,gen_opt,train_data,batch_size,n_epochs,criterion,prior_model,variance,bias,device)"
   ]
  },
  {
   "cell_type": "code",
   "execution_count": 21,
   "id": "c5e0717b",
   "metadata": {
    "execution": {
     "iopub.execute_input": "2022-07-22T08:35:24.687892Z",
     "iopub.status.busy": "2022-07-22T08:35:24.687251Z",
     "iopub.status.idle": "2022-07-22T08:35:24.691794Z",
     "shell.execute_reply": "2022-07-22T08:35:24.690846Z"
    },
    "id": "c5e0717b",
    "papermill": {
     "duration": 0.031234,
     "end_time": "2022-07-22T08:35:24.695013",
     "exception": false,
     "start_time": "2022-07-22T08:35:24.663779",
     "status": "completed"
    },
    "tags": []
   },
   "outputs": [],
   "source": [
    "# ABC_GAN3_metrics=ABC_train_test2.test_generator(gen3,test_data,prior_model,variance,bias,\"3\",device)\n",
    "# sb.glue(\"ABC_GAN_3 Metrics\",ABC_GAN3_metrics)\n",
    "\n",
    "# print(\"MAE\")\n",
    "# print(mean(ABC_GAN3_metrics[1]))"
   ]
  },
  {
   "cell_type": "code",
   "execution_count": 22,
   "id": "c8e46b48",
   "metadata": {
    "execution": {
     "iopub.execute_input": "2022-07-22T08:35:24.749283Z",
     "iopub.status.busy": "2022-07-22T08:35:24.748930Z",
     "iopub.status.idle": "2022-07-22T08:35:24.753511Z",
     "shell.execute_reply": "2022-07-22T08:35:24.752336Z"
    },
    "id": "c8e46b48",
    "papermill": {
     "duration": 0.037444,
     "end_time": "2022-07-22T08:35:24.756582",
     "exception": false,
     "start_time": "2022-07-22T08:35:24.719138",
     "status": "completed"
    },
    "tags": []
   },
   "outputs": [],
   "source": [
    "# sanityChecks.discProbVsError(train_data,disc3,device)\n",
    "# sanityChecks.discProbVsError(test_data,disc3,device)"
   ]
  },
  {
   "cell_type": "markdown",
   "id": "3f464a45",
   "metadata": {
    "id": "130f3a4d",
    "papermill": {
     "duration": 0.019986,
     "end_time": "2022-07-22T08:35:24.797746",
     "exception": false,
     "start_time": "2022-07-22T08:35:24.777760",
     "status": "completed"
    },
    "tags": []
   },
   "source": [
    "# skipGAN Model with TabNet Generator"
   ]
  },
  {
   "cell_type": "code",
   "execution_count": 23,
   "id": "fb5bad57",
   "metadata": {
    "execution": {
     "iopub.execute_input": "2022-07-22T08:35:24.842783Z",
     "iopub.status.busy": "2022-07-22T08:35:24.842419Z",
     "iopub.status.idle": "2022-07-22T08:35:24.861283Z",
     "shell.execute_reply": "2022-07-22T08:35:24.860354Z"
    },
    "id": "4e43dad1",
    "papermill": {
     "duration": 0.043841,
     "end_time": "2022-07-22T08:35:24.864164",
     "exception": false,
     "start_time": "2022-07-22T08:35:24.820323",
     "status": "completed"
    },
    "tags": []
   },
   "outputs": [],
   "source": [
    "#Generator\n",
    "gen4 = network.GeneratorTabnetskipConnection(n_features+1).to(device)\n",
    "constraints=network.weightConstraint()\n",
    "#Discriminator \n",
    "disc4 = network.Discriminator(n_features+1).to(device)\n",
    "\n",
    "criterion = torch.nn.BCELoss()\n",
    "gen_opt = torch.optim.Adam(gen4.parameters(), lr=0.001, betas=(0.5, 0.999))\n",
    "disc_opt = torch.optim.Adam(disc4.parameters(), lr=0.001, betas=(0.5, 0.999))\n"
   ]
  },
  {
   "cell_type": "code",
   "execution_count": 24,
   "id": "73a69242",
   "metadata": {
    "execution": {
     "iopub.execute_input": "2022-07-22T08:35:24.911367Z",
     "iopub.status.busy": "2022-07-22T08:35:24.910439Z",
     "iopub.status.idle": "2022-07-22T08:38:41.318846Z",
     "shell.execute_reply": "2022-07-22T08:38:41.317157Z"
    },
    "id": "26acbc37",
    "papermill": {
     "duration": 196.436957,
     "end_time": "2022-07-22T08:38:41.321653",
     "exception": false,
     "start_time": "2022-07-22T08:35:24.884696",
     "status": "completed"
    },
    "tags": []
   },
   "outputs": [
    {
     "data": {
      "image/png": "[encoded data removed]",
      "text/plain": [
       "<Figure size 432x288 with 1 Axes>"
      ]
     },
     "metadata": {
      "needs_background": "light"
     },
     "output_type": "display_data"
    },
    {
     "data": {
      "image/png": "[encoded data removed]",
      "text/plain": [
       "<Figure size 432x288 with 1 Axes>"
      ]
     },
     "metadata": {
      "needs_background": "light"
     },
     "output_type": "display_data"
    }
   ],
   "source": [
    "ABC_train_test2.training_GAN_skip_connection(disc4,gen4,disc_opt,gen_opt,train_data,batch_size,n_epochs,criterion,prior_model,variance,bias,device)"
   ]
  },
  {
   "cell_type": "code",
   "execution_count": 25,
   "id": "7b8d0885",
   "metadata": {
    "execution": {
     "iopub.execute_input": "2022-07-22T08:38:41.368589Z",
     "iopub.status.busy": "2022-07-22T08:38:41.367898Z",
     "iopub.status.idle": "2022-07-22T08:38:43.252931Z",
     "shell.execute_reply": "2022-07-22T08:38:43.251691Z"
    },
    "id": "c5e0717b",
    "papermill": {
     "duration": 1.913973,
     "end_time": "2022-07-22T08:38:43.257355",
     "exception": false,
     "start_time": "2022-07-22T08:38:41.343382",
     "status": "completed"
    },
    "tags": []
   },
   "outputs": [
    {
     "data": {
      "application/scrapbook.scrap.json+json": {
       "data": 0.10083263501784094,
       "encoder": "json",
       "name": "ABC-GAN Model 3 MSE",
       "version": 1
      }
     },
     "metadata": {
      "scrapbook": {
       "data": true,
       "display": false,
       "name": "ABC-GAN Model 3 MSE"
      }
     },
     "output_type": "display_data"
    },
    {
     "data": {
      "application/scrapbook.scrap.json+json": {
       "data": 0.27177682423964145,
       "encoder": "json",
       "name": "ABC-GAN Model 3 MAE",
       "version": 1
      }
     },
     "metadata": {
      "scrapbook": {
       "data": true,
       "display": false,
       "name": "ABC-GAN Model 3 MAE"
      }
     },
     "output_type": "display_data"
    },
    {
     "data": {
      "application/scrapbook.scrap.json+json": {
       "data": 5.435536484792829,
       "encoder": "json",
       "name": "ABC-GAN Model 3 Manhattan Distance",
       "version": 1
      }
     },
     "metadata": {
      "scrapbook": {
       "data": true,
       "display": false,
       "name": "ABC-GAN Model 3 Manhattan Distance"
      }
     },
     "output_type": "display_data"
    },
    {
     "data": {
      "application/scrapbook.scrap.json+json": {
       "data": 1.4171274813446963,
       "encoder": "json",
       "name": "ABC-GAN Model 3 Euclidean distance",
       "version": 1
      }
     },
     "metadata": {
      "scrapbook": {
       "data": true,
       "display": false,
       "name": "ABC-GAN Model 3 Euclidean distance"
      }
     },
     "output_type": "display_data"
    },
    {
     "data": {
      "application/scrapbook.scrap.json+json": {
       "data": [
        [
         0.0902198637617659,
         0.09884111847977987,
         0.07965074906418487,
         0.09258660376134088,
         0.09094701347311954,
         0.11112539829273704,
         0.12333353497274971,
         0.10231454970991553,
         0.09792536422591432,
         0.08294530100816531,
         0.08899387514494511,
         0.09448739368772525,
         0.0994260733611016,
         0.09861430362222487,
         0.11130880644712975,
         0.0950075312942621,
         0.11007321194480957,
         0.12659527053977615,
         0.10208674478827132,
         0.10234637851679514,
         0.10502343337358026,
         0.07933421527019843,
         0.10312338866174164,
         0.10577096610342762,
         0.10214339816301976,
         0.0792860272336618,
         0.08129257315427658,
         0.09944414220032463,
         0.1214380344016561,
         0.10307633447067872,
         0.09027404620583374,
         0.1029352761539605,
         0.08828669157926101,
         0.10716394768184087,
         0.11486797085203744,
         0.09234700917618494,
         0.0994349568177697,
         0.09517907785847073,
         0.128139162912657,
         0.0918315907637186,
         0.10359616926726797,
         0.09276272672347714,
         0.11132425090484,
         0.0798873398293368,
         0.10609653261399052,
         0.08669912280335114,
         0.10821155091855512,
         0.09421668524225099,
         0.10057112087285472,
         0.10358085356370691,
         0.0970201233914955,
         0.12212902247893291,
         0.1282821682311357,
         0.09480744449122797,
         0.1256417689849527,
         0.11720378802753743,
         0.10514053751827164,
         0.0792498847198319,
         0.11179904182111275,
         0.10705216870356796,
         0.08652249487110955,
         0.12550945210067374,
         0.10368641846724011,
         0.09660817698821467,
         0.11232740781936867,
         0.11445593466815081,
         0.0933818523906495,
         0.11588817335481609,
         0.09816481865256131,
         0.10275250952683031,
         0.08258211909486447,
         0.10183834299302053,
         0.07603251782298334,
         0.10906808517178512,
         0.09087079354128125,
         0.12461462702761246,
         0.10490100399447297,
         0.08803488835350824,
         0.09081044660329622,
         0.11646543019372084,
         0.0922757322024354,
         0.10426630211548057,
         0.10224620852097913,
         0.08636846978756209,
         0.09568579064459984,
         0.08126884269111569,
         0.09375960321613304,
         0.09802275534725023,
         0.08998471546430217,
         0.10770901990417166,
         0.10871729665099364,
         0.08348688462095771,
         0.09093131187498624,
         0.1041700887614871,
         0.0999975866525823,
         0.1487215079741952,
         0.11147034077483284,
         0.0985038551532266,
         0.08775503344405165,
         0.09891303210787943
        ],
        [
         0.25697758242022245,
         0.26381406399887053,
         0.26021605941932646,
         0.2575979188783094,
         0.2593625386012718,
         0.29853275313507766,
         0.31044821708928794,
         0.2824603889835998,
         0.26226822070311756,
         0.22916266622487455,
         0.2655993875814602,
         0.2644909766269848,
         0.2712363402126357,
         0.2695075009716675,
         0.28041252612601963,
         0.25987782382871955,
         0.2743456520838663,
         0.3155031380010769,
         0.26049026574473827,
         0.28737402230035514,
         0.2849577153800055,
         0.2475842562271282,
         0.276807474414818,
         0.27284504591953007,
         0.27296548543963584,
         0.2389691841090098,
         0.2447199512971565,
         0.26227080849930645,
         0.3061559461755678,
         0.28048512923996893,
         0.26102163314353677,
         0.2645291707245633,
         0.24216459158342332,
         0.27270138307940217,
         0.2885285920230672,
         0.24714258208405226,
         0.25893413394223896,
         0.27470633804332467,
         0.30984783701132984,
         0.24573043405544012,
         0.2858271029544994,
         0.25266224357765166,
         0.2645590970059857,
         0.25111375672277064,
         0.2612946209264919,
         0.2565814680187032,
         0.2836304113967344,
         0.2762803558958694,
         0.2707821753574535,
         0.28396648715715855,
         0.2632044614059851,
         0.3002905428176746,
         0.31349617287050935,
         0.2701657500816509,
         0.3012008708668873,
         0.2874992158962414,
         0.27478840097319335,
         0.24600185777526348,
         0.2978473399532959,
         0.26885382055770607,
         0.25353634923230856,
         0.30143985270988194,
         0.27441494413651524,
         0.26896035417448727,
         0.2649980717105791,
         0.29699724807869643,
         0.26598693320993333,
         0.29366937454324216,
         0.26904318972956387,
         0.2804576070746407,
         0.2586447720648721,
         0.28803282876033337,
         0.23363399624358863,
         0.28771405841689557,
         0.26543807953130455,
         0.2907146860612556,
         0.2899733894271776,
         0.2625921503407881,
         0.2597742565674707,
         0.30294023144524546,
         0.26858083948027345,
         0.27592124573420734,
         0.281887808511965,
         0.2559068602276966,
         0.2626004823250696,
         0.25588457498233763,
         0.24545450068544597,
         0.24932106665801257,
         0.26165604561101646,
         0.28871857847552745,
         0.28420034169685093,
         0.25639648656360803,
         0.25003248087596147,
         0.28659130956511947,
         0.25201068639289587,
         0.3230315792141482,
         0.2976959590800107,
         0.2638057333184406,
         0.24986804209183902,
         0.2663635414792225
        ],
        [
         5.139551648404449,
         5.276281279977411,
         5.20432118838653,
         5.151958377566189,
         5.187250772025436,
         5.970655062701553,
         6.208964341785759,
         5.649207779671997,
         5.245364414062351,
         4.583253324497491,
         5.311987751629204,
         5.2898195325396955,
         5.424726804252714,
         5.390150019433349,
         5.608250522520393,
         5.197556476574391,
         5.486913041677326,
         6.3100627600215375,
         5.209805314894766,
         5.747480446007103,
         5.699154307600111,
         4.951685124542564,
         5.53614948829636,
         5.456900918390602,
         5.459309708792716,
         4.779383682180196,
         4.89439902594313,
         5.245416169986129,
         6.123118923511356,
         5.609702584799379,
         5.220432662870735,
         5.290583414491266,
         4.843291831668466,
         5.454027661588043,
         5.7705718404613435,
         4.942851641681045,
         5.17868267884478,
         5.494126760866493,
         6.196956740226597,
         4.914608681108803,
         5.7165420590899885,
         5.053244871553034,
         5.2911819401197135,
         5.022275134455413,
         5.225892418529838,
         5.131629360374063,
         5.672608227934688,
         5.525607117917389,
         5.4156435071490705,
         5.679329743143171,
         5.264089228119701,
         6.0058108563534915,
         6.2699234574101865,
         5.403315001633018,
         6.024017417337745,
         5.749984317924827,
         5.495768019463867,
         4.92003715550527,
         5.956946799065918,
         5.377076411154121,
         5.070726984646171,
         6.028797054197639,
         5.488298882730305,
         5.379207083489746,
         5.299961434211582,
         5.939944961573929,
         5.319738664198667,
         5.873387490864843,
         5.380863794591278,
         5.609152141492814,
         5.172895441297442,
         5.760656575206667,
         4.6726799248717725,
         5.754281168337911,
         5.308761590626091,
         5.814293721225113,
         5.799467788543552,
         5.251843006815761,
         5.195485131349415,
         6.058804628904909,
         5.3716167896054685,
         5.518424914684147,
         5.6377561702392995,
         5.118137204553932,
         5.252009646501392,
         5.117691499646753,
         4.909090013708919,
         4.986421333160251,
         5.233120912220329,
         5.774371569510549,
         5.684006833937019,
         5.127929731272161,
         5.00064961751923,
         5.731826191302389,
         5.0402137278579175,
         6.4606315842829645,
         5.953919181600213,
         5.276114666368812,
         4.99736084183678,
         5.3272708295844495
        ],
        [
         1.3432785545951806,
         1.4059951527639054,
         1.2621469729329058,
         1.3607836254257388,
         1.348680936864754,
         1.4908078232470947,
         1.5705638157855903,
         1.4304862789269637,
         1.3994667857860315,
         1.2879852561901888,
         1.3341204978932384,
         1.374681007999494,
         1.410149448541548,
         1.4043810282272036,
         1.4920375762502078,
         1.3784595118773861,
         1.4837332101480345,
         1.5911962200795735,
         1.428892891635138,
         1.430708765030781,
         1.4492993712382565,
         1.2596365767172564,
         1.4361294416712,
         1.4544481159768308,
         1.4292893210474902,
         1.2592539635328672,
         1.275088805960405,
         1.410277576935297,
         1.5584481666173957,
         1.4358017583961842,
         1.3436818537573076,
         1.4348189861718483,
         1.3288091780181308,
         1.463994178143075,
         1.5157042643737428,
         1.3590217744847575,
         1.410212443696124,
         1.3797034308754235,
         1.6008695319273023,
         1.3552238985770477,
         1.4394177244098947,
         1.3620772865258206,
         1.4921410851849097,
         1.2640200934268158,
         1.456684815696179,
         1.3168076761877654,
         1.4711325631536754,
         1.3727103499445976,
         1.4182462471154627,
         1.4393113183999278,
         1.3929832977569796,
         1.5628756986973271,
         1.6017625806038527,
         1.3770072221395788,
         1.5851925371067876,
         1.5310374784931782,
         1.4501071513393184,
         1.2589669155290135,
         1.495319643561956,
         1.463230458291297,
         1.3154656580170352,
         1.5843576117826035,
         1.440044571999354,
         1.3900228558424115,
         1.4988489438190138,
         1.5129833751112456,
         1.3666151791243173,
         1.5224202662524964,
         1.4011767815130345,
         1.4335446245361902,
         1.2851623951459556,
         1.4271534114664794,
         1.233146526759763,
         1.4769433650061543,
         1.3481156741265288,
         1.5786996359511358,
         1.4484543761849937,
         1.3269128709414815,
         1.3476679606141584,
         1.5262072611131219,
         1.3584972006039275,
         1.4440658026245243,
         1.4300084511706854,
         1.314294257672627,
         1.3833711768328834,
         1.274902684059577,
         1.3693765239417026,
         1.4001625287605024,
         1.3415268574598287,
         1.4677126415219817,
         1.4745663542275311,
         1.2921833044963682,
         1.3485645099511274,
         1.4433993817477344,
         1.4141964973268906,
         1.7246536346420125,
         1.4931198262352077,
         1.4035943513225364,
         1.324802124425015,
         1.406506538256253
        ]
       ],
       "encoder": "json",
       "name": "ABC_GAN_4 Metrics",
       "version": 1
      }
     },
     "metadata": {
      "scrapbook": {
       "data": true,
       "display": false,
       "name": "ABC_GAN_4 Metrics"
      }
     },
     "output_type": "display_data"
    },
    {
     "name": "stdout",
     "output_type": "stream",
     "text": [
      "MAE\n",
      "0.27177682423964145\n"
     ]
    }
   ],
   "source": [
    "ABC_GAN4_metrics=ABC_train_test2.test_generator(gen4,test_data,prior_model,variance,bias,\"3\",device)\n",
    "sb.glue(\"ABC_GAN_4 Metrics\",ABC_GAN4_metrics)\n",
    "\n",
    "print(\"MAE\")\n",
    "print(mean(ABC_GAN4_metrics[1]))"
   ]
  },
  {
   "cell_type": "code",
   "execution_count": 26,
   "id": "90e3e702",
   "metadata": {
    "execution": {
     "iopub.execute_input": "2022-07-22T08:38:43.307972Z",
     "iopub.status.busy": "2022-07-22T08:38:43.307574Z",
     "iopub.status.idle": "2022-07-22T08:38:44.631532Z",
     "shell.execute_reply": "2022-07-22T08:38:44.630474Z"
    },
    "id": "c8e46b48",
    "papermill": {
     "duration": 1.352139,
     "end_time": "2022-07-22T08:38:44.634365",
     "exception": false,
     "start_time": "2022-07-22T08:38:43.282226",
     "status": "completed"
    },
    "tags": []
   },
   "outputs": [
    {
     "data": {
      "image/png": "[encoded data removed]",
      "text/plain": [
       "<Figure size 432x288 with 1 Axes>"
      ]
     },
     "metadata": {
      "needs_background": "light"
     },
     "output_type": "display_data"
    },
    {
     "data": {
      "image/png": "[encoded data removed]",
      "text/plain": [
       "<Figure size 432x288 with 1 Axes>"
      ]
     },
     "metadata": {
      "needs_background": "light"
     },
     "output_type": "display_data"
    },
    {
     "data": {
      "image/png": "[encoded data removed]",
      "text/plain": [
       "<Figure size 432x288 with 1 Axes>"
      ]
     },
     "metadata": {
      "needs_background": "light"
     },
     "output_type": "display_data"
    },
    {
     "data": {
      "image/png": "[encoded data removed]",
      "text/plain": [
       "<Figure size 432x288 with 1 Axes>"
      ]
     },
     "metadata": {
      "needs_background": "light"
     },
     "output_type": "display_data"
    }
   ],
   "source": [
    "sanityChecks.discProbVsError(train_data,disc4,device)\n",
    "sanityChecks.discProbVsError(test_data,disc4,device)"
   ]
  },
  {
   "cell_type": "markdown",
   "id": "a5bd74c3",
   "metadata": {
    "id": "a5bd74c3",
    "papermill": {
     "duration": 0.028925,
     "end_time": "2022-07-22T08:38:44.690749",
     "exception": false,
     "start_time": "2022-07-22T08:38:44.661824",
     "status": "completed"
    },
    "tags": []
   },
   "source": [
    "## Skip Connection Model Analysis - ABC-GAN "
   ]
  },
  {
   "cell_type": "markdown",
   "id": "5744a8bf",
   "metadata": {
    "id": "5744a8bf",
    "papermill": {
     "duration": 0.028576,
     "end_time": "2022-07-22T08:38:44.746259",
     "exception": false,
     "start_time": "2022-07-22T08:38:44.717683",
     "status": "completed"
    },
    "tags": []
   },
   "source": [
    "### Weight Analysis \n",
    "\n",
    "Study the weights of the skip connection layer\n",
    "\n",
    "Equation of the skip connection is \n",
    "\n",
    "$output = y_{gan} * w + y_{abc} * (1-w)$"
   ]
  },
  {
   "cell_type": "code",
   "execution_count": 27,
   "id": "52c31dea",
   "metadata": {
    "execution": {
     "iopub.execute_input": "2022-07-22T08:38:44.803777Z",
     "iopub.status.busy": "2022-07-22T08:38:44.803427Z",
     "iopub.status.idle": "2022-07-22T08:38:44.808533Z",
     "shell.execute_reply": "2022-07-22T08:38:44.806978Z"
    },
    "id": "52c31dea",
    "papermill": {
     "duration": 0.038111,
     "end_time": "2022-07-22T08:38:44.811760",
     "exception": false,
     "start_time": "2022-07-22T08:38:44.773649",
     "status": "completed"
    },
    "tags": []
   },
   "outputs": [],
   "source": [
    "# print(\"Weight of the node at skip connection\")\n",
    "# for name,param in gen3.named_parameters():\n",
    "#     if(name == \"skipNode.weight\"):\n",
    "#         print(param)\n",
    "#         sb.glue(\"Skip Connection Weight\",param.item())"
   ]
  },
  {
   "cell_type": "markdown",
   "id": "b88db337",
   "metadata": {
    "id": "a5bd74c3",
    "papermill": {
     "duration": 0.025579,
     "end_time": "2022-07-22T08:38:44.863492",
     "exception": false,
     "start_time": "2022-07-22T08:38:44.837913",
     "status": "completed"
    },
    "tags": []
   },
   "source": [
    "## skipGAN Model Analysis (TabNet Generator) "
   ]
  },
  {
   "cell_type": "markdown",
   "id": "54a8382c",
   "metadata": {
    "id": "5744a8bf",
    "papermill": {
     "duration": 0.031907,
     "end_time": "2022-07-22T08:38:44.922648",
     "exception": false,
     "start_time": "2022-07-22T08:38:44.890741",
     "status": "completed"
    },
    "tags": []
   },
   "source": [
    "### Weight Analysis \n",
    "\n",
    "Study the weights of the skip connection layer\n",
    "\n",
    "Equation of the skip connection is \n",
    "\n",
    "$output = y_{gan} * w + y_{abc} * (1-w)$"
   ]
  },
  {
   "cell_type": "code",
   "execution_count": 28,
   "id": "825d163e",
   "metadata": {
    "execution": {
     "iopub.execute_input": "2022-07-22T08:38:44.982134Z",
     "iopub.status.busy": "2022-07-22T08:38:44.981753Z",
     "iopub.status.idle": "2022-07-22T08:38:44.994305Z",
     "shell.execute_reply": "2022-07-22T08:38:44.993328Z"
    },
    "id": "52c31dea",
    "papermill": {
     "duration": 0.050032,
     "end_time": "2022-07-22T08:38:44.999200",
     "exception": false,
     "start_time": "2022-07-22T08:38:44.949168",
     "status": "completed"
    },
    "tags": []
   },
   "outputs": [
    {
     "name": "stdout",
     "output_type": "stream",
     "text": [
      "Weight of the node at skip connection\n",
      "Parameter containing:\n",
      "tensor([[0.]], requires_grad=True)\n"
     ]
    },
    {
     "data": {
      "application/scrapbook.scrap.json+json": {
       "data": 0.0,
       "encoder": "json",
       "name": "Skip Connection Weight",
       "version": 1
      }
     },
     "metadata": {
      "scrapbook": {
       "data": true,
       "display": false,
       "name": "Skip Connection Weight"
      }
     },
     "output_type": "display_data"
    }
   ],
   "source": [
    "print(\"Weight of the node at skip connection\")\n",
    "for name,param in gen4.named_parameters():\n",
    "    if(name == \"skipNode.weight\"):\n",
    "        print(param)\n",
    "        sb.glue(\"Skip Connection Weight\",param.item())"
   ]
  }
 ],
 "metadata": {
  "colab": {
   "collapsed_sections": [],
   "name": "ABC_GAN_Model-Catboost_Pre-gen.ipynb",
   "provenance": []
  },
  "interpreter": {
   "hash": "31f2aee4e71d21fbe5cf8b01ff0e069b9275f58929596ceb00d14d90e3e16cd6"
  },
  "kernelspec": {
   "display_name": "Python 3 (ipykernel)",
   "language": "python",
   "name": "python3"
  },
  "language_info": {
   "codemirror_mode": {
    "name": "ipython",
    "version": 3
   },
   "file_extension": ".py",
   "mimetype": "text/x-python",
   "name": "python",
   "nbconvert_exporter": "python",
   "pygments_lexer": "ipython3",
   "version": "3.8.13"
  },
  "papermill": {
   "default_parameters": {},
   "duration": 399.271619,
   "end_time": "2022-07-22T08:38:45.868343",
   "environment_variables": {},
   "exception": null,
   "input_path": "ABC_GAN-TabNet.ipynb",
   "output_path": "./ABC_GAN_TabNet/ABC-GAN_output_1_4.ipynb",
   "parameters": {
    "bias": 0.1,
    "variance": 0.1
   },
   "start_time": "2022-07-22T08:32:06.596724",
   "version": "2.3.3"
  }
 },
 "nbformat": 4,
 "nbformat_minor": 5
}