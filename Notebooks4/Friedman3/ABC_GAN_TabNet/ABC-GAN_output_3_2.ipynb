{
 "cells": [
  {
   "cell_type": "markdown",
   "id": "622780e6",
   "metadata": {
    "id": "622780e6",
    "papermill": {
     "duration": 0.008834,
     "end_time": "2022-07-22T11:37:16.222362",
     "exception": false,
     "start_time": "2022-07-22T11:37:16.213528",
     "status": "completed"
    },
    "tags": []
   },
   "source": [
    "## Import Libraries "
   ]
  },
  {
   "cell_type": "code",
   "execution_count": 1,
   "id": "a62397e3",
   "metadata": {
    "execution": {
     "iopub.execute_input": "2022-07-22T11:37:16.259389Z",
     "iopub.status.busy": "2022-07-22T11:37:16.257150Z",
     "iopub.status.idle": "2022-07-22T11:37:16.286115Z",
     "shell.execute_reply": "2022-07-22T11:37:16.279379Z"
    },
    "id": "a62397e3",
    "papermill": {
     "duration": 0.053754,
     "end_time": "2022-07-22T11:37:16.289037",
     "exception": false,
     "start_time": "2022-07-22T11:37:16.235283",
     "status": "completed"
    },
    "tags": []
   },
   "outputs": [],
   "source": [
    "import warnings\n",
    "import sys\n",
    "sys.path.insert(0, '../../src')\n",
    "warnings.filterwarnings('ignore')"
   ]
  },
  {
   "cell_type": "code",
   "execution_count": 2,
   "id": "d6a4e155",
   "metadata": {
    "execution": {
     "iopub.execute_input": "2022-07-22T11:37:16.319229Z",
     "iopub.status.busy": "2022-07-22T11:37:16.318125Z",
     "iopub.status.idle": "2022-07-22T11:37:24.349114Z",
     "shell.execute_reply": "2022-07-22T11:37:24.348223Z"
    },
    "id": "d6a4e155",
    "papermill": {
     "duration": 8.050347,
     "end_time": "2022-07-22T11:37:24.352049",
     "exception": false,
     "start_time": "2022-07-22T11:37:16.301702",
     "status": "completed"
    },
    "tags": []
   },
   "outputs": [],
   "source": [
    "import ABC_train_test2\n",
    "import friedman3Dataset\n",
    "import network\n",
    "import dataset\n",
    "import sanityChecks\n",
    "import torch \n",
    "import scrapbook as sb\n",
    "from statistics import mean \n",
    "import catboost as ctb \n",
    "from sklearn.model_selection import train_test_split\n",
    "from sklearn.metrics import mean_squared_error,mean_absolute_error\n",
    "import numpy as np\n",
    "from pytorch_tabnet.tab_model import TabNetRegressor"
   ]
  },
  {
   "cell_type": "markdown",
   "id": "2fa5b0f7",
   "metadata": {
    "id": "2fa5b0f7",
    "papermill": {
     "duration": 0.008102,
     "end_time": "2022-07-22T11:37:24.368501",
     "exception": false,
     "start_time": "2022-07-22T11:37:24.360399",
     "status": "completed"
    },
    "tags": []
   },
   "source": [
    "## Parameters "
   ]
  },
  {
   "cell_type": "code",
   "execution_count": 3,
   "id": "783186fb",
   "metadata": {
    "execution": {
     "iopub.execute_input": "2022-07-22T11:37:24.387885Z",
     "iopub.status.busy": "2022-07-22T11:37:24.387512Z",
     "iopub.status.idle": "2022-07-22T11:37:24.392126Z",
     "shell.execute_reply": "2022-07-22T11:37:24.391070Z"
    },
    "id": "783186fb",
    "papermill": {
     "duration": 0.019378,
     "end_time": "2022-07-22T11:37:24.396482",
     "exception": false,
     "start_time": "2022-07-22T11:37:24.377104",
     "status": "completed"
    },
    "tags": [
     "parameters"
    ]
   },
   "outputs": [],
   "source": [
    "variance = 1\n",
    "bias = 1 "
   ]
  },
  {
   "cell_type": "code",
   "execution_count": 4,
   "id": "2a95cd0f",
   "metadata": {
    "execution": {
     "iopub.execute_input": "2022-07-22T11:37:24.421531Z",
     "iopub.status.busy": "2022-07-22T11:37:24.421143Z",
     "iopub.status.idle": "2022-07-22T11:37:24.425560Z",
     "shell.execute_reply": "2022-07-22T11:37:24.424609Z"
    },
    "papermill": {
     "duration": 0.021044,
     "end_time": "2022-07-22T11:37:24.428405",
     "exception": false,
     "start_time": "2022-07-22T11:37:24.407361",
     "status": "completed"
    },
    "tags": [
     "injected-parameters"
    ]
   },
   "outputs": [],
   "source": [
    "# Parameters\n",
    "variance = 0.01\n",
    "bias = 1\n"
   ]
  },
  {
   "cell_type": "markdown",
   "id": "391cdbfd",
   "metadata": {
    "id": "391cdbfd",
    "papermill": {
     "duration": 0.007578,
     "end_time": "2022-07-22T11:37:24.443793",
     "exception": false,
     "start_time": "2022-07-22T11:37:24.436215",
     "status": "completed"
    },
    "tags": []
   },
   "source": [
    "## Dataset \n"
   ]
  },
  {
   "cell_type": "code",
   "execution_count": 5,
   "id": "5b51f161",
   "metadata": {
    "execution": {
     "iopub.execute_input": "2022-07-22T11:37:24.463492Z",
     "iopub.status.busy": "2022-07-22T11:37:24.462918Z",
     "iopub.status.idle": "2022-07-22T11:37:24.467673Z",
     "shell.execute_reply": "2022-07-22T11:37:24.466625Z"
    },
    "id": "5b51f161",
    "papermill": {
     "duration": 0.019338,
     "end_time": "2022-07-22T11:37:24.470887",
     "exception": false,
     "start_time": "2022-07-22T11:37:24.451549",
     "status": "completed"
    },
    "tags": []
   },
   "outputs": [],
   "source": [
    "#Parameters \n",
    "n_features = 4\n",
    "n_samples= 100\n",
    "n_target = 1"
   ]
  },
  {
   "cell_type": "code",
   "execution_count": 6,
   "id": "5d6eced4",
   "metadata": {
    "execution": {
     "iopub.execute_input": "2022-07-22T11:37:24.525449Z",
     "iopub.status.busy": "2022-07-22T11:37:24.524992Z",
     "iopub.status.idle": "2022-07-22T11:37:24.540110Z",
     "shell.execute_reply": "2022-07-22T11:37:24.539399Z"
    },
    "id": "5d6eced4",
    "papermill": {
     "duration": 0.065719,
     "end_time": "2022-07-22T11:37:24.544457",
     "exception": false,
     "start_time": "2022-07-22T11:37:24.478738",
     "status": "completed"
    },
    "tags": []
   },
   "outputs": [
    {
     "name": "stdout",
     "output_type": "stream",
     "text": [
      "          X1           X2        X3        X4         Y\n",
      "0  96.387228   686.042593  0.083383  5.267698  0.603556\n",
      "1  99.684678  1053.450608  0.218543  7.613234  1.152452\n",
      "2  53.058175   765.814274  0.044803  4.464193  0.561359\n",
      "3  99.321271   208.104530  0.559269  6.135839  0.754502\n",
      "4  30.687201  1702.974609  0.657723  4.911031  1.619543\n"
     ]
    }
   ],
   "source": [
    "X,Y = friedman3Dataset.friedman3_data(n_samples)"
   ]
  },
  {
   "cell_type": "code",
   "execution_count": 7,
   "id": "fe007438",
   "metadata": {
    "execution": {
     "iopub.execute_input": "2022-07-22T11:37:24.562496Z",
     "iopub.status.busy": "2022-07-22T11:37:24.562147Z",
     "iopub.status.idle": "2022-07-22T11:37:24.567719Z",
     "shell.execute_reply": "2022-07-22T11:37:24.566949Z"
    },
    "id": "fe007438",
    "papermill": {
     "duration": 0.01879,
     "end_time": "2022-07-22T11:37:24.571313",
     "exception": false,
     "start_time": "2022-07-22T11:37:24.552523",
     "status": "completed"
    },
    "tags": []
   },
   "outputs": [],
   "source": [
    "#Train test split for dataset \n",
    "X_train,X_test,Y_train,Y_test = train_test_split(X,Y,test_size = 0.2)\n",
    "train_data = dataset.CustomDataset(X_train,Y_train)\n",
    "test_data = dataset.CustomDataset(X_test,Y_test)\n"
   ]
  },
  {
   "cell_type": "markdown",
   "id": "a9a1af34",
   "metadata": {
    "id": "a9a1af34",
    "papermill": {
     "duration": 0.007594,
     "end_time": "2022-07-22T11:37:24.587607",
     "exception": false,
     "start_time": "2022-07-22T11:37:24.580013",
     "status": "completed"
    },
    "tags": []
   },
   "source": [
    "## Training Parameters "
   ]
  },
  {
   "cell_type": "code",
   "execution_count": 8,
   "id": "952b7fc8",
   "metadata": {
    "execution": {
     "iopub.execute_input": "2022-07-22T11:37:24.606198Z",
     "iopub.status.busy": "2022-07-22T11:37:24.605604Z",
     "iopub.status.idle": "2022-07-22T11:37:24.612431Z",
     "shell.execute_reply": "2022-07-22T11:37:24.610994Z"
    },
    "id": "952b7fc8",
    "papermill": {
     "duration": 0.020785,
     "end_time": "2022-07-22T11:37:24.616521",
     "exception": false,
     "start_time": "2022-07-22T11:37:24.595736",
     "status": "completed"
    },
    "tags": []
   },
   "outputs": [],
   "source": [
    "batch_size = 32\n",
    "n_epochs = 1000\n",
    "#Select the device \n",
    "device = torch.device('cuda' if torch.cuda.is_available() else 'cpu')"
   ]
  },
  {
   "cell_type": "markdown",
   "id": "a95e1600",
   "metadata": {
    "id": "a95e1600",
    "papermill": {
     "duration": 0.00854,
     "end_time": "2022-07-22T11:37:24.634413",
     "exception": false,
     "start_time": "2022-07-22T11:37:24.625873",
     "status": "completed"
    },
    "tags": []
   },
   "source": [
    "# ABC Pre-generator Model \n",
    "\n",
    "1. The catboost model is used as a pre-generator model for the ABC-GAN. \n",
    "2. The model is first trained on the entire dataset \n",
    "3. It generats X,Y pairs and we add some Gaussian noise with mean 0 and variance 1 to it which is then feed as input to the generator.\n"
   ]
  },
  {
   "cell_type": "code",
   "execution_count": 9,
   "id": "ac011ebf",
   "metadata": {
    "execution": {
     "iopub.execute_input": "2022-07-22T11:37:24.658503Z",
     "iopub.status.busy": "2022-07-22T11:37:24.658050Z",
     "iopub.status.idle": "2022-07-22T11:38:00.977578Z",
     "shell.execute_reply": "2022-07-22T11:38:00.976536Z"
    },
    "papermill": {
     "duration": 36.337472,
     "end_time": "2022-07-22T11:38:00.980059",
     "exception": false,
     "start_time": "2022-07-22T11:37:24.642587",
     "status": "completed"
    },
    "tags": []
   },
   "outputs": [
    {
     "name": "stdout",
     "output_type": "stream",
     "text": [
      "Device used : cpu\n"
     ]
    },
    {
     "name": "stdout",
     "output_type": "stream",
     "text": [
      "epoch 0  | loss: 1.03951 | train_mse: 4.92565 | train_mae: 1.64828 |  0:00:00s\n",
      "epoch 1  | loss: 0.8385  | train_mse: 3.68568 | train_mae: 1.44189 |  0:00:00s\n",
      "epoch 2  | loss: 0.77779 | train_mse: 2.90892 | train_mae: 1.31228 |  0:00:00s\n"
     ]
    },
    {
     "name": "stdout",
     "output_type": "stream",
     "text": [
      "epoch 3  | loss: 0.78998 | train_mse: 2.3599  | train_mae: 1.21353 |  0:00:00s\n",
      "epoch 4  | loss: 0.79536 | train_mse: 1.98949 | train_mae: 1.11419 |  0:00:00s\n",
      "epoch 5  | loss: 0.68052 | train_mse: 1.67852 | train_mae: 1.03403 |  0:00:00s\n"
     ]
    },
    {
     "name": "stdout",
     "output_type": "stream",
     "text": [
      "epoch 6  | loss: 0.7955  | train_mse: 1.41613 | train_mae: 0.95065 |  0:00:00s\n",
      "epoch 7  | loss: 0.72639 | train_mse: 1.2385  | train_mae: 0.88182 |  0:00:00s\n",
      "epoch 8  | loss: 0.59746 | train_mse: 1.09248 | train_mae: 0.83797 |  0:00:01s\n"
     ]
    },
    {
     "name": "stdout",
     "output_type": "stream",
     "text": [
      "epoch 9  | loss: 0.60729 | train_mse: 1.02093 | train_mae: 0.81291 |  0:00:01s\n",
      "epoch 10 | loss: 0.50394 | train_mse: 0.90595 | train_mae: 0.76985 |  0:00:01s\n"
     ]
    },
    {
     "name": "stdout",
     "output_type": "stream",
     "text": [
      "epoch 11 | loss: 0.48268 | train_mse: 0.79698 | train_mae: 0.71714 |  0:00:01s\n",
      "epoch 12 | loss: 0.54539 | train_mse: 0.74172 | train_mae: 0.69853 |  0:00:01s\n"
     ]
    },
    {
     "name": "stdout",
     "output_type": "stream",
     "text": [
      "epoch 13 | loss: 0.57688 | train_mse: 0.70753 | train_mae: 0.683   |  0:00:01s\n",
      "epoch 14 | loss: 0.50982 | train_mse: 0.67557 | train_mae: 0.66914 |  0:00:01s\n"
     ]
    },
    {
     "name": "stdout",
     "output_type": "stream",
     "text": [
      "epoch 15 | loss: 0.58091 | train_mse: 0.6356  | train_mae: 0.64347 |  0:00:01s\n",
      "epoch 16 | loss: 0.40172 | train_mse: 0.59581 | train_mae: 0.61601 |  0:00:02s\n"
     ]
    },
    {
     "name": "stdout",
     "output_type": "stream",
     "text": [
      "epoch 17 | loss: 0.38115 | train_mse: 0.56986 | train_mae: 0.59849 |  0:00:02s\n",
      "epoch 18 | loss: 0.48546 | train_mse: 0.55688 | train_mae: 0.59185 |  0:00:02s\n",
      "epoch 19 | loss: 0.49757 | train_mse: 0.53606 | train_mae: 0.57948 |  0:00:02s"
     ]
    },
    {
     "name": "stdout",
     "output_type": "stream",
     "text": [
      "\n",
      "epoch 20 | loss: 0.57704 | train_mse: 0.52249 | train_mae: 0.57057 |  0:00:02s\n"
     ]
    },
    {
     "name": "stdout",
     "output_type": "stream",
     "text": [
      "epoch 21 | loss: 0.43803 | train_mse: 0.51182 | train_mae: 0.5662  |  0:00:02s\n",
      "epoch 22 | loss: 0.45341 | train_mse: 0.49612 | train_mae: 0.55584 |  0:00:02s\n"
     ]
    },
    {
     "name": "stdout",
     "output_type": "stream",
     "text": [
      "epoch 23 | loss: 0.56314 | train_mse: 0.4854  | train_mae: 0.54876 |  0:00:02s\n",
      "epoch 24 | loss: 0.47806 | train_mse: 0.47747 | train_mae: 0.54083 |  0:00:03s\n"
     ]
    },
    {
     "name": "stdout",
     "output_type": "stream",
     "text": [
      "epoch 25 | loss: 0.39787 | train_mse: 0.46662 | train_mae: 0.53077 |  0:00:03s\n",
      "epoch 26 | loss: 0.4188  | train_mse: 0.45591 | train_mae: 0.52126 |  0:00:03s\n"
     ]
    },
    {
     "name": "stdout",
     "output_type": "stream",
     "text": [
      "epoch 27 | loss: 0.3426  | train_mse: 0.44646 | train_mae: 0.5155  |  0:00:03s\n",
      "epoch 28 | loss: 0.38488 | train_mse: 0.43234 | train_mae: 0.50823 |  0:00:03s\n"
     ]
    },
    {
     "name": "stdout",
     "output_type": "stream",
     "text": [
      "epoch 29 | loss: 0.36192 | train_mse: 0.41958 | train_mae: 0.50189 |  0:00:03s\n",
      "epoch 30 | loss: 0.3925  | train_mse: 0.40863 | train_mae: 0.49465 |  0:00:03s\n"
     ]
    },
    {
     "name": "stdout",
     "output_type": "stream",
     "text": [
      "epoch 31 | loss: 0.39888 | train_mse: 0.40112 | train_mae: 0.48872 |  0:00:04s\n",
      "epoch 32 | loss: 0.39411 | train_mse: 0.38351 | train_mae: 0.47887 |  0:00:04s\n"
     ]
    },
    {
     "name": "stdout",
     "output_type": "stream",
     "text": [
      "epoch 33 | loss: 0.41738 | train_mse: 0.36413 | train_mae: 0.47082 |  0:00:04s\n"
     ]
    },
    {
     "name": "stdout",
     "output_type": "stream",
     "text": [
      "epoch 34 | loss: 0.31948 | train_mse: 0.3564  | train_mae: 0.4646  |  0:00:04s\n",
      "epoch 35 | loss: 0.30294 | train_mse: 0.34616 | train_mae: 0.45665 |  0:00:04s\n"
     ]
    },
    {
     "name": "stdout",
     "output_type": "stream",
     "text": [
      "epoch 36 | loss: 0.35368 | train_mse: 0.3415  | train_mae: 0.45394 |  0:00:04s\n",
      "epoch 37 | loss: 0.27996 | train_mse: 0.3251  | train_mae: 0.44364 |  0:00:05s\n",
      "epoch 38 | loss: 0.28317 | train_mse: 0.30981 | train_mae: 0.43209 |  0:00:05s\n"
     ]
    },
    {
     "name": "stdout",
     "output_type": "stream",
     "text": [
      "epoch 39 | loss: 0.27081 | train_mse: 0.30045 | train_mae: 0.42408 |  0:00:05s\n",
      "epoch 40 | loss: 0.32381 | train_mse: 0.28402 | train_mae: 0.41371 |  0:00:05s\n",
      "epoch 41 | loss: 0.30162 | train_mse: 0.2716  | train_mae: 0.40439 |  0:00:05s\n"
     ]
    },
    {
     "name": "stdout",
     "output_type": "stream",
     "text": [
      "epoch 42 | loss: 0.25724 | train_mse: 0.26338 | train_mae: 0.39966 |  0:00:05s\n",
      "epoch 43 | loss: 0.29682 | train_mse: 0.25849 | train_mae: 0.39552 |  0:00:05s\n"
     ]
    },
    {
     "name": "stdout",
     "output_type": "stream",
     "text": [
      "epoch 44 | loss: 0.36344 | train_mse: 0.25666 | train_mae: 0.39508 |  0:00:05s\n",
      "epoch 45 | loss: 0.30774 | train_mse: 0.25589 | train_mae: 0.39396 |  0:00:05s\n",
      "epoch 46 | loss: 0.26841 | train_mse: 0.25623 | train_mae: 0.39378 |  0:00:05s\n"
     ]
    },
    {
     "name": "stdout",
     "output_type": "stream",
     "text": [
      "epoch 47 | loss: 0.29181 | train_mse: 0.26399 | train_mae: 0.39742 |  0:00:05s\n",
      "epoch 48 | loss: 0.29911 | train_mse: 0.25591 | train_mae: 0.39694 |  0:00:06s\n",
      "epoch 49 | loss: 0.31721 | train_mse: 0.2732  | train_mae: 0.40946 |  0:00:06s\n"
     ]
    },
    {
     "name": "stdout",
     "output_type": "stream",
     "text": [
      "epoch 50 | loss: 0.35632 | train_mse: 0.26834 | train_mae: 0.40906 |  0:00:06s\n",
      "epoch 51 | loss: 0.25072 | train_mse: 0.27519 | train_mae: 0.40883 |  0:00:06s\n",
      "epoch 52 | loss: 0.22785 | train_mse: 0.27613 | train_mae: 0.40848 |  0:00:06s\n"
     ]
    },
    {
     "name": "stdout",
     "output_type": "stream",
     "text": [
      "epoch 53 | loss: 0.30755 | train_mse: 0.27059 | train_mae: 0.40329 |  0:00:06s\n",
      "epoch 54 | loss: 0.33518 | train_mse: 0.26912 | train_mae: 0.40069 |  0:00:06s\n"
     ]
    },
    {
     "name": "stdout",
     "output_type": "stream",
     "text": [
      "epoch 55 | loss: 0.25978 | train_mse: 0.22509 | train_mae: 0.38815 |  0:00:06s\n",
      "epoch 56 | loss: 0.40964 | train_mse: 0.21931 | train_mae: 0.38266 |  0:00:06s\n",
      "epoch 57 | loss: 0.25288 | train_mse: 0.21489 | train_mae: 0.37881 |  0:00:06s\n"
     ]
    },
    {
     "name": "stdout",
     "output_type": "stream",
     "text": [
      "epoch 58 | loss: 0.34942 | train_mse: 0.20449 | train_mae: 0.36897 |  0:00:06s\n",
      "epoch 59 | loss: 0.40555 | train_mse: 0.20537 | train_mae: 0.36671 |  0:00:07s\n",
      "epoch 60 | loss: 0.29198 | train_mse: 0.21311 | train_mae: 0.37009 |  0:00:07s\n"
     ]
    },
    {
     "name": "stdout",
     "output_type": "stream",
     "text": [
      "epoch 61 | loss: 0.29881 | train_mse: 0.21666 | train_mae: 0.37249 |  0:00:07s\n",
      "epoch 62 | loss: 0.21097 | train_mse: 0.21306 | train_mae: 0.37102 |  0:00:07s\n",
      "epoch 63 | loss: 0.15615 | train_mse: 0.20626 | train_mae: 0.36665 |  0:00:07s\n"
     ]
    },
    {
     "name": "stdout",
     "output_type": "stream",
     "text": [
      "epoch 64 | loss: 0.26568 | train_mse: 0.19653 | train_mae: 0.35894 |  0:00:07s\n",
      "epoch 65 | loss: 0.2409  | train_mse: 0.19495 | train_mae: 0.35377 |  0:00:07s\n"
     ]
    },
    {
     "name": "stdout",
     "output_type": "stream",
     "text": [
      "epoch 66 | loss: 0.19019 | train_mse: 0.18855 | train_mae: 0.34654 |  0:00:07s\n",
      "epoch 67 | loss: 0.23655 | train_mse: 0.1749  | train_mae: 0.33643 |  0:00:07s\n",
      "epoch 68 | loss: 0.24497 | train_mse: 0.16675 | train_mae: 0.33037 |  0:00:07s\n"
     ]
    },
    {
     "name": "stdout",
     "output_type": "stream",
     "text": [
      "epoch 69 | loss: 0.2265  | train_mse: 0.1549  | train_mae: 0.32293 |  0:00:07s\n",
      "epoch 70 | loss: 0.18539 | train_mse: 0.14834 | train_mae: 0.31702 |  0:00:07s\n",
      "epoch 71 | loss: 0.18301 | train_mse: 0.14617 | train_mae: 0.31337 |  0:00:08s\n"
     ]
    },
    {
     "name": "stdout",
     "output_type": "stream",
     "text": [
      "epoch 72 | loss: 0.19668 | train_mse: 0.14749 | train_mae: 0.30869 |  0:00:08s\n",
      "epoch 73 | loss: 0.21597 | train_mse: 0.13152 | train_mae: 0.29335 |  0:00:08s\n",
      "epoch 74 | loss: 0.21567 | train_mse: 0.12814 | train_mae: 0.28986 |  0:00:08s\n"
     ]
    },
    {
     "name": "stdout",
     "output_type": "stream",
     "text": [
      "epoch 75 | loss: 0.29856 | train_mse: 0.13296 | train_mae: 0.29396 |  0:00:08s\n",
      "epoch 76 | loss: 0.16063 | train_mse: 0.13228 | train_mae: 0.29282 |  0:00:08s\n",
      "epoch 77 | loss: 0.28662 | train_mse: 0.13266 | train_mae: 0.29161 |  0:00:08s\n"
     ]
    },
    {
     "name": "stdout",
     "output_type": "stream",
     "text": [
      "epoch 78 | loss: 0.28332 | train_mse: 0.1311  | train_mae: 0.29219 |  0:00:08s\n",
      "epoch 79 | loss: 0.24458 | train_mse: 0.13078 | train_mae: 0.29102 |  0:00:08s\n",
      "epoch 80 | loss: 0.15741 | train_mse: 0.12853 | train_mae: 0.28781 |  0:00:08s\n"
     ]
    },
    {
     "name": "stdout",
     "output_type": "stream",
     "text": [
      "epoch 81 | loss: 0.23081 | train_mse: 0.13124 | train_mae: 0.2914  |  0:00:08s\n",
      "epoch 82 | loss: 0.13027 | train_mse: 0.13301 | train_mae: 0.29181 |  0:00:09s\n",
      "epoch 83 | loss: 0.22757 | train_mse: 0.13497 | train_mae: 0.29092 |  0:00:09s\n"
     ]
    },
    {
     "name": "stdout",
     "output_type": "stream",
     "text": [
      "epoch 84 | loss: 0.15179 | train_mse: 0.1349  | train_mae: 0.2911  |  0:00:09s\n",
      "epoch 85 | loss: 0.33324 | train_mse: 0.13395 | train_mae: 0.29165 |  0:00:09s\n",
      "epoch 86 | loss: 0.2556  | train_mse: 0.13343 | train_mae: 0.28904 |  0:00:09s\n"
     ]
    },
    {
     "name": "stdout",
     "output_type": "stream",
     "text": [
      "epoch 87 | loss: 0.16244 | train_mse: 0.13765 | train_mae: 0.2932  |  0:00:09s\n",
      "epoch 88 | loss: 0.24795 | train_mse: 0.14444 | train_mae: 0.30021 |  0:00:09s\n",
      "epoch 89 | loss: 0.19177 | train_mse: 0.14647 | train_mae: 0.30206 |  0:00:09s\n"
     ]
    },
    {
     "name": "stdout",
     "output_type": "stream",
     "text": [
      "epoch 90 | loss: 0.32283 | train_mse: 0.14333 | train_mae: 0.29918 |  0:00:09s\n",
      "epoch 91 | loss: 0.20561 | train_mse: 0.13844 | train_mae: 0.29476 |  0:00:09s\n",
      "epoch 92 | loss: 0.28632 | train_mse: 0.13824 | train_mae: 0.29458 |  0:00:09s\n"
     ]
    },
    {
     "name": "stdout",
     "output_type": "stream",
     "text": [
      "epoch 93 | loss: 0.25476 | train_mse: 0.13662 | train_mae: 0.2945  |  0:00:10s\n",
      "epoch 94 | loss: 0.23335 | train_mse: 0.14035 | train_mae: 0.29911 |  0:00:10s\n",
      "epoch 95 | loss: 0.17106 | train_mse: 0.14156 | train_mae: 0.3013  |  0:00:10s\n"
     ]
    },
    {
     "name": "stdout",
     "output_type": "stream",
     "text": [
      "epoch 96 | loss: 0.13282 | train_mse: 0.14088 | train_mae: 0.29919 |  0:00:10s\n",
      "epoch 97 | loss: 0.28212 | train_mse: 0.13756 | train_mae: 0.29379 |  0:00:10s\n",
      "epoch 98 | loss: 0.28128 | train_mse: 0.1322  | train_mae: 0.28882 |  0:00:10s\n"
     ]
    },
    {
     "name": "stdout",
     "output_type": "stream",
     "text": [
      "epoch 99 | loss: 0.17649 | train_mse: 0.12665 | train_mae: 0.28437 |  0:00:10s\n",
      "epoch 100| loss: 0.19482 | train_mse: 0.12007 | train_mae: 0.27936 |  0:00:10s\n",
      "epoch 101| loss: 0.1938  | train_mse: 0.11775 | train_mae: 0.27889 |  0:00:10s\n"
     ]
    },
    {
     "name": "stdout",
     "output_type": "stream",
     "text": [
      "epoch 102| loss: 0.2085  | train_mse: 0.11895 | train_mae: 0.28066 |  0:00:10s\n",
      "epoch 103| loss: 0.26885 | train_mse: 0.11886 | train_mae: 0.28087 |  0:00:10s\n",
      "epoch 104| loss: 0.16696 | train_mse: 0.11659 | train_mae: 0.27699 |  0:00:11s\n"
     ]
    },
    {
     "name": "stdout",
     "output_type": "stream",
     "text": [
      "epoch 105| loss: 0.15115 | train_mse: 0.11227 | train_mae: 0.27047 |  0:00:11s\n",
      "epoch 106| loss: 0.13031 | train_mse: 0.10824 | train_mae: 0.26678 |  0:00:11s\n",
      "epoch 107| loss: 0.18941 | train_mse: 0.10772 | train_mae: 0.26536 |  0:00:11s\n"
     ]
    },
    {
     "name": "stdout",
     "output_type": "stream",
     "text": [
      "epoch 108| loss: 0.17405 | train_mse: 0.10651 | train_mae: 0.26187 |  0:00:11s\n",
      "epoch 109| loss: 0.19055 | train_mse: 0.10756 | train_mae: 0.26508 |  0:00:11s\n"
     ]
    },
    {
     "name": "stdout",
     "output_type": "stream",
     "text": [
      "epoch 110| loss: 0.13777 | train_mse: 0.10553 | train_mae: 0.26264 |  0:00:11s\n",
      "epoch 111| loss: 0.20648 | train_mse: 0.10497 | train_mae: 0.26311 |  0:00:11s\n",
      "epoch 112| loss: 0.13395 | train_mse: 0.1041  | train_mae: 0.26114 |  0:00:11s\n"
     ]
    },
    {
     "name": "stdout",
     "output_type": "stream",
     "text": [
      "epoch 113| loss: 0.18928 | train_mse: 0.10372 | train_mae: 0.26081 |  0:00:11s\n",
      "epoch 114| loss: 0.18926 | train_mse: 0.10297 | train_mae: 0.25895 |  0:00:12s\n",
      "epoch 115| loss: 0.2304  | train_mse: 0.10571 | train_mae: 0.26365 |  0:00:12s\n"
     ]
    },
    {
     "name": "stdout",
     "output_type": "stream",
     "text": [
      "epoch 116| loss: 0.16242 | train_mse: 0.104   | train_mae: 0.26151 |  0:00:12s\n",
      "epoch 117| loss: 0.20338 | train_mse: 0.10789 | train_mae: 0.26605 |  0:00:12s\n",
      "epoch 118| loss: 0.1606  | train_mse: 0.11239 | train_mae: 0.27009 |  0:00:12s\n"
     ]
    },
    {
     "name": "stdout",
     "output_type": "stream",
     "text": [
      "epoch 119| loss: 0.25047 | train_mse: 0.11181 | train_mae: 0.27008 |  0:00:12s\n",
      "epoch 120| loss: 0.14415 | train_mse: 0.10924 | train_mae: 0.26719 |  0:00:12s\n",
      "epoch 121| loss: 0.13376 | train_mse: 0.10559 | train_mae: 0.26333 |  0:00:12s\n"
     ]
    },
    {
     "name": "stdout",
     "output_type": "stream",
     "text": [
      "epoch 122| loss: 0.16061 | train_mse: 0.10336 | train_mae: 0.25987 |  0:00:12s\n",
      "epoch 123| loss: 0.10974 | train_mse: 0.10262 | train_mae: 0.25885 |  0:00:12s\n"
     ]
    },
    {
     "name": "stdout",
     "output_type": "stream",
     "text": [
      "epoch 124| loss: 0.19245 | train_mse: 0.09913 | train_mae: 0.25275 |  0:00:12s\n",
      "epoch 125| loss: 0.18397 | train_mse: 0.0955  | train_mae: 0.24774 |  0:00:13s\n",
      "epoch 126| loss: 0.14456 | train_mse: 0.09332 | train_mae: 0.24505 |  0:00:13s\n"
     ]
    },
    {
     "name": "stdout",
     "output_type": "stream",
     "text": [
      "epoch 127| loss: 0.13814 | train_mse: 0.09315 | train_mae: 0.24646 |  0:00:13s\n",
      "epoch 128| loss: 0.20884 | train_mse: 0.09178 | train_mae: 0.24554 |  0:00:13s\n",
      "epoch 129| loss: 0.19033 | train_mse: 0.0899  | train_mae: 0.2445  |  0:00:13s\n"
     ]
    },
    {
     "name": "stdout",
     "output_type": "stream",
     "text": [
      "epoch 130| loss: 0.19966 | train_mse: 0.09051 | train_mae: 0.24519 |  0:00:13s\n",
      "epoch 131| loss: 0.37184 | train_mse: 0.09097 | train_mae: 0.24512 |  0:00:13s\n"
     ]
    },
    {
     "name": "stdout",
     "output_type": "stream",
     "text": [
      "epoch 132| loss: 0.19426 | train_mse: 0.09353 | train_mae: 0.24605 |  0:00:13s\n",
      "epoch 133| loss: 0.19168 | train_mse: 0.09335 | train_mae: 0.24362 |  0:00:13s\n",
      "epoch 134| loss: 0.21484 | train_mse: 0.09175 | train_mae: 0.2421  |  0:00:13s\n"
     ]
    },
    {
     "name": "stdout",
     "output_type": "stream",
     "text": [
      "epoch 135| loss: 0.18937 | train_mse: 0.09177 | train_mae: 0.24176 |  0:00:13s\n",
      "epoch 136| loss: 0.10782 | train_mse: 0.09093 | train_mae: 0.24184 |  0:00:14s\n",
      "epoch 137| loss: 0.12713 | train_mse: 0.08967 | train_mae: 0.24149 |  0:00:14s\n"
     ]
    },
    {
     "name": "stdout",
     "output_type": "stream",
     "text": [
      "epoch 138| loss: 0.17682 | train_mse: 0.08647 | train_mae: 0.23614 |  0:00:14s\n",
      "epoch 139| loss: 0.12831 | train_mse: 0.08376 | train_mae: 0.2328  |  0:00:14s\n",
      "epoch 140| loss: 0.18597 | train_mse: 0.08097 | train_mae: 0.22915 |  0:00:14s\n"
     ]
    },
    {
     "name": "stdout",
     "output_type": "stream",
     "text": [
      "epoch 141| loss: 0.16683 | train_mse: 0.07798 | train_mae: 0.22563 |  0:00:14s\n",
      "epoch 142| loss: 0.13006 | train_mse: 0.07472 | train_mae: 0.22153 |  0:00:14s\n",
      "epoch 143| loss: 0.21304 | train_mse: 0.07417 | train_mae: 0.22261 |  0:00:14s"
     ]
    },
    {
     "name": "stdout",
     "output_type": "stream",
     "text": [
      "\n",
      "epoch 144| loss: 0.15539 | train_mse: 0.07582 | train_mae: 0.22447 |  0:00:14s\n",
      "epoch 145| loss: 0.11693 | train_mse: 0.07917 | train_mae: 0.22868 |  0:00:14s\n"
     ]
    },
    {
     "name": "stdout",
     "output_type": "stream",
     "text": [
      "epoch 146| loss: 0.21961 | train_mse: 0.08004 | train_mae: 0.22947 |  0:00:14s\n",
      "epoch 147| loss: 0.15464 | train_mse: 0.08096 | train_mae: 0.23062 |  0:00:15s\n",
      "epoch 148| loss: 0.19995 | train_mse: 0.0823  | train_mae: 0.23204 |  0:00:15s\n"
     ]
    },
    {
     "name": "stdout",
     "output_type": "stream",
     "text": [
      "epoch 149| loss: 0.11321 | train_mse: 0.08046 | train_mae: 0.2288  |  0:00:15s\n",
      "epoch 150| loss: 0.19984 | train_mse: 0.08144 | train_mae: 0.22812 |  0:00:15s\n",
      "epoch 151| loss: 0.25275 | train_mse: 0.08707 | train_mae: 0.23122 |  0:00:15s\n"
     ]
    },
    {
     "name": "stdout",
     "output_type": "stream",
     "text": [
      "epoch 152| loss: 0.20892 | train_mse: 0.0858  | train_mae: 0.2308  |  0:00:15s\n",
      "epoch 153| loss: 0.31288 | train_mse: 0.08494 | train_mae: 0.23427 |  0:00:15s\n",
      "epoch 154| loss: 0.13271 | train_mse: 0.08186 | train_mae: 0.23417 |  0:00:15s\n"
     ]
    },
    {
     "name": "stdout",
     "output_type": "stream",
     "text": [
      "epoch 155| loss: 0.19456 | train_mse: 0.08703 | train_mae: 0.23779 |  0:00:15s\n",
      "epoch 156| loss: 0.13667 | train_mse: 0.08286 | train_mae: 0.23395 |  0:00:15s\n",
      "epoch 157| loss: 0.15327 | train_mse: 0.08064 | train_mae: 0.23036 |  0:00:15s\n"
     ]
    },
    {
     "name": "stdout",
     "output_type": "stream",
     "text": [
      "epoch 158| loss: 0.09351 | train_mse: 0.07955 | train_mae: 0.2289  |  0:00:15s\n",
      "epoch 159| loss: 0.12981 | train_mse: 0.07438 | train_mae: 0.22138 |  0:00:16s\n",
      "epoch 160| loss: 0.16832 | train_mse: 0.0857  | train_mae: 0.22709 |  0:00:16s\n"
     ]
    },
    {
     "name": "stdout",
     "output_type": "stream",
     "text": [
      "epoch 161| loss: 0.20884 | train_mse: 0.08466 | train_mae: 0.22449 |  0:00:16s\n",
      "epoch 162| loss: 0.16235 | train_mse: 0.08105 | train_mae: 0.22205 |  0:00:16s\n",
      "epoch 163| loss: 0.14804 | train_mse: 0.08242 | train_mae: 0.22301 |  0:00:16s\n"
     ]
    },
    {
     "name": "stdout",
     "output_type": "stream",
     "text": [
      "epoch 164| loss: 0.14293 | train_mse: 0.07497 | train_mae: 0.21825 |  0:00:16s\n",
      "epoch 165| loss: 0.10012 | train_mse: 0.07228 | train_mae: 0.21825 |  0:00:16s\n"
     ]
    },
    {
     "name": "stdout",
     "output_type": "stream",
     "text": [
      "epoch 166| loss: 0.15675 | train_mse: 0.07226 | train_mae: 0.21879 |  0:00:16s\n",
      "epoch 167| loss: 0.15021 | train_mse: 0.07225 | train_mae: 0.21813 |  0:00:16s\n",
      "epoch 168| loss: 0.13177 | train_mse: 0.07278 | train_mae: 0.21973 |  0:00:16s\n"
     ]
    },
    {
     "name": "stdout",
     "output_type": "stream",
     "text": [
      "epoch 169| loss: 0.08915 | train_mse: 0.07322 | train_mae: 0.22166 |  0:00:16s\n",
      "epoch 170| loss: 0.12468 | train_mse: 0.07318 | train_mae: 0.22321 |  0:00:17s\n",
      "epoch 171| loss: 0.15011 | train_mse: 0.0747  | train_mae: 0.22535 |  0:00:17s\n"
     ]
    },
    {
     "name": "stdout",
     "output_type": "stream",
     "text": [
      "epoch 172| loss: 0.16336 | train_mse: 0.07688 | train_mae: 0.22777 |  0:00:17s\n",
      "epoch 173| loss: 0.12502 | train_mse: 0.07631 | train_mae: 0.22693 |  0:00:17s\n",
      "epoch 174| loss: 0.08185 | train_mse: 0.0744  | train_mae: 0.22351 |  0:00:17s\n"
     ]
    },
    {
     "name": "stdout",
     "output_type": "stream",
     "text": [
      "epoch 175| loss: 0.11182 | train_mse: 0.07604 | train_mae: 0.2228  |  0:00:17s\n",
      "epoch 176| loss: 0.16125 | train_mse: 0.07616 | train_mae: 0.22132 |  0:00:17s\n",
      "epoch 177| loss: 0.14576 | train_mse: 0.07548 | train_mae: 0.21978 |  0:00:17s\n"
     ]
    },
    {
     "name": "stdout",
     "output_type": "stream",
     "text": [
      "epoch 178| loss: 0.12288 | train_mse: 0.07436 | train_mae: 0.21912 |  0:00:17s\n",
      "epoch 179| loss: 0.12406 | train_mse: 0.07292 | train_mae: 0.21958 |  0:00:17s\n",
      "epoch 180| loss: 0.25595 | train_mse: 0.07272 | train_mae: 0.22075 |  0:00:17s\n"
     ]
    },
    {
     "name": "stdout",
     "output_type": "stream",
     "text": [
      "epoch 181| loss: 0.0944  | train_mse: 0.07525 | train_mae: 0.22533 |  0:00:17s\n",
      "epoch 182| loss: 0.16739 | train_mse: 0.0775  | train_mae: 0.22877 |  0:00:18s\n",
      "epoch 183| loss: 0.1752  | train_mse: 0.08073 | train_mae: 0.23473 |  0:00:18s\n"
     ]
    },
    {
     "name": "stdout",
     "output_type": "stream",
     "text": [
      "epoch 184| loss: 0.12723 | train_mse: 0.08262 | train_mae: 0.23705 |  0:00:18s\n",
      "epoch 185| loss: 0.11794 | train_mse: 0.08445 | train_mae: 0.23833 |  0:00:18s\n",
      "epoch 186| loss: 0.16218 | train_mse: 0.08487 | train_mae: 0.23855 |  0:00:18s\n"
     ]
    },
    {
     "name": "stdout",
     "output_type": "stream",
     "text": [
      "epoch 187| loss: 0.12552 | train_mse: 0.08488 | train_mae: 0.2369  |  0:00:18s\n",
      "epoch 188| loss: 0.10298 | train_mse: 0.07977 | train_mae: 0.23089 |  0:00:18s\n",
      "epoch 189| loss: 0.1679  | train_mse: 0.07788 | train_mae: 0.22812 |  0:00:18s\n"
     ]
    },
    {
     "name": "stdout",
     "output_type": "stream",
     "text": [
      "epoch 190| loss: 0.10744 | train_mse: 0.07813 | train_mae: 0.22744 |  0:00:18s\n",
      "epoch 191| loss: 0.16887 | train_mse: 0.07635 | train_mae: 0.22427 |  0:00:18s\n",
      "epoch 192| loss: 0.1557  | train_mse: 0.07376 | train_mae: 0.2197  |  0:00:18s\n"
     ]
    },
    {
     "name": "stdout",
     "output_type": "stream",
     "text": [
      "epoch 193| loss: 0.1141  | train_mse: 0.07158 | train_mae: 0.21546 |  0:00:19s\n",
      "epoch 194| loss: 0.09267 | train_mse: 0.07147 | train_mae: 0.214   |  0:00:19s\n",
      "epoch 195| loss: 0.15582 | train_mse: 0.0721  | train_mae: 0.21437 |  0:00:19s\n"
     ]
    },
    {
     "name": "stdout",
     "output_type": "stream",
     "text": [
      "epoch 196| loss: 0.13446 | train_mse: 0.07247 | train_mae: 0.21578 |  0:00:19s\n",
      "epoch 197| loss: 0.12247 | train_mse: 0.07264 | train_mae: 0.21806 |  0:00:19s\n",
      "epoch 198| loss: 0.10475 | train_mse: 0.07178 | train_mae: 0.21612 |  0:00:19s\n"
     ]
    },
    {
     "name": "stdout",
     "output_type": "stream",
     "text": [
      "epoch 199| loss: 0.09034 | train_mse: 0.07094 | train_mae: 0.21767 |  0:00:19s\n",
      "epoch 200| loss: 0.10788 | train_mse: 0.07088 | train_mae: 0.21753 |  0:00:19s\n",
      "epoch 201| loss: 0.13943 | train_mse: 0.074   | train_mae: 0.21933 |  0:00:19s\n"
     ]
    },
    {
     "name": "stdout",
     "output_type": "stream",
     "text": [
      "epoch 202| loss: 0.09593 | train_mse: 0.07368 | train_mae: 0.21893 |  0:00:19s\n",
      "epoch 203| loss: 0.17262 | train_mse: 0.07403 | train_mae: 0.21735 |  0:00:19s\n",
      "epoch 204| loss: 0.13859 | train_mse: 0.07294 | train_mae: 0.21559 |  0:00:19s\n"
     ]
    },
    {
     "name": "stdout",
     "output_type": "stream",
     "text": [
      "epoch 205| loss: 0.10615 | train_mse: 0.07078 | train_mae: 0.21278 |  0:00:20s\n",
      "epoch 206| loss: 0.16136 | train_mse: 0.07262 | train_mae: 0.21394 |  0:00:20s\n",
      "epoch 207| loss: 0.20976 | train_mse: 0.07251 | train_mae: 0.21222 |  0:00:20s\n"
     ]
    },
    {
     "name": "stdout",
     "output_type": "stream",
     "text": [
      "epoch 208| loss: 0.13293 | train_mse: 0.07101 | train_mae: 0.21036 |  0:00:20s\n",
      "epoch 209| loss: 0.21687 | train_mse: 0.06931 | train_mae: 0.20895 |  0:00:20s\n",
      "epoch 210| loss: 0.14189 | train_mse: 0.06979 | train_mae: 0.21003 |  0:00:20s\n"
     ]
    },
    {
     "name": "stdout",
     "output_type": "stream",
     "text": [
      "epoch 211| loss: 0.09992 | train_mse: 0.07039 | train_mae: 0.21073 |  0:00:20s\n",
      "epoch 212| loss: 0.19556 | train_mse: 0.07264 | train_mae: 0.21333 |  0:00:20s\n",
      "epoch 213| loss: 0.14464 | train_mse: 0.07382 | train_mae: 0.21557 |  0:00:20s\n"
     ]
    },
    {
     "name": "stdout",
     "output_type": "stream",
     "text": [
      "epoch 214| loss: 0.11703 | train_mse: 0.07722 | train_mae: 0.2177  |  0:00:20s\n",
      "epoch 215| loss: 0.12664 | train_mse: 0.07892 | train_mae: 0.22083 |  0:00:20s\n",
      "epoch 216| loss: 0.11436 | train_mse: 0.07958 | train_mae: 0.22224 |  0:00:20s\n"
     ]
    },
    {
     "name": "stdout",
     "output_type": "stream",
     "text": [
      "epoch 217| loss: 0.14294 | train_mse: 0.08253 | train_mae: 0.22476 |  0:00:21s\n",
      "epoch 218| loss: 0.13754 | train_mse: 0.08175 | train_mae: 0.22392 |  0:00:21s\n",
      "epoch 219| loss: 0.12653 | train_mse: 0.07905 | train_mae: 0.22149 |  0:00:21s\n"
     ]
    },
    {
     "name": "stdout",
     "output_type": "stream",
     "text": [
      "epoch 220| loss: 0.13754 | train_mse: 0.07528 | train_mae: 0.21804 |  0:00:21s\n",
      "epoch 221| loss: 0.14684 | train_mse: 0.07369 | train_mae: 0.21793 |  0:00:21s\n",
      "epoch 222| loss: 0.11206 | train_mse: 0.07334 | train_mae: 0.21828 |  0:00:21s\n"
     ]
    },
    {
     "name": "stdout",
     "output_type": "stream",
     "text": [
      "epoch 223| loss: 0.09549 | train_mse: 0.07102 | train_mae: 0.21641 |  0:00:21s\n",
      "epoch 224| loss: 0.30188 | train_mse: 0.07105 | train_mae: 0.21574 |  0:00:21s\n",
      "epoch 225| loss: 0.08544 | train_mse: 0.07037 | train_mae: 0.21518 |  0:00:21s\n"
     ]
    },
    {
     "name": "stdout",
     "output_type": "stream",
     "text": [
      "epoch 226| loss: 0.1043  | train_mse: 0.06944 | train_mae: 0.21428 |  0:00:21s\n",
      "epoch 227| loss: 0.13864 | train_mse: 0.06839 | train_mae: 0.21198 |  0:00:21s\n",
      "epoch 228| loss: 0.11067 | train_mse: 0.06844 | train_mae: 0.21182 |  0:00:22s\n"
     ]
    },
    {
     "name": "stdout",
     "output_type": "stream",
     "text": [
      "epoch 229| loss: 0.1072  | train_mse: 0.06796 | train_mae: 0.21052 |  0:00:22s\n",
      "epoch 230| loss: 0.15855 | train_mse: 0.06566 | train_mae: 0.20764 |  0:00:22s\n",
      "epoch 231| loss: 0.19643 | train_mse: 0.0638  | train_mae: 0.20589 |  0:00:22s\n"
     ]
    },
    {
     "name": "stdout",
     "output_type": "stream",
     "text": [
      "epoch 232| loss: 0.07275 | train_mse: 0.06209 | train_mae: 0.20404 |  0:00:22s\n",
      "epoch 233| loss: 0.13322 | train_mse: 0.06125 | train_mae: 0.20432 |  0:00:22s\n",
      "epoch 234| loss: 0.12293 | train_mse: 0.05991 | train_mae: 0.20163 |  0:00:22s\n"
     ]
    },
    {
     "name": "stdout",
     "output_type": "stream",
     "text": [
      "epoch 235| loss: 0.19173 | train_mse: 0.05945 | train_mae: 0.20072 |  0:00:22s\n",
      "epoch 236| loss: 0.10461 | train_mse: 0.05987 | train_mae: 0.20106 |  0:00:22s\n",
      "epoch 237| loss: 0.14293 | train_mse: 0.05998 | train_mae: 0.20098 |  0:00:22s\n"
     ]
    },
    {
     "name": "stdout",
     "output_type": "stream",
     "text": [
      "epoch 238| loss: 0.07704 | train_mse: 0.05993 | train_mae: 0.20091 |  0:00:22s\n",
      "epoch 239| loss: 0.09312 | train_mse: 0.0621  | train_mae: 0.20463 |  0:00:23s\n",
      "epoch 240| loss: 0.10299 | train_mse: 0.06291 | train_mae: 0.20574 |  0:00:23s\n"
     ]
    },
    {
     "name": "stdout",
     "output_type": "stream",
     "text": [
      "epoch 241| loss: 0.08882 | train_mse: 0.06227 | train_mae: 0.20413 |  0:00:23s\n",
      "epoch 242| loss: 0.18713 | train_mse: 0.06176 | train_mae: 0.20167 |  0:00:23s\n",
      "epoch 243| loss: 0.14799 | train_mse: 0.06147 | train_mae: 0.20101 |  0:00:23s\n"
     ]
    },
    {
     "name": "stdout",
     "output_type": "stream",
     "text": [
      "epoch 244| loss: 0.09451 | train_mse: 0.05936 | train_mae: 0.19532 |  0:00:23s\n",
      "epoch 245| loss: 0.1611  | train_mse: 0.05844 | train_mae: 0.19445 |  0:00:23s\n"
     ]
    },
    {
     "name": "stdout",
     "output_type": "stream",
     "text": [
      "epoch 246| loss: 0.19095 | train_mse: 0.05888 | train_mae: 0.19646 |  0:00:23s\n",
      "epoch 247| loss: 0.13091 | train_mse: 0.05695 | train_mae: 0.19247 |  0:00:23s\n",
      "epoch 248| loss: 0.11468 | train_mse: 0.05639 | train_mae: 0.19341 |  0:00:23s\n"
     ]
    },
    {
     "name": "stdout",
     "output_type": "stream",
     "text": [
      "epoch 249| loss: 0.07493 | train_mse: 0.05557 | train_mae: 0.19326 |  0:00:23s\n",
      "epoch 250| loss: 0.09422 | train_mse: 0.05594 | train_mae: 0.19528 |  0:00:23s\n",
      "epoch 251| loss: 0.23777 | train_mse: 0.05485 | train_mae: 0.19302 |  0:00:24s\n"
     ]
    },
    {
     "name": "stdout",
     "output_type": "stream",
     "text": [
      "epoch 252| loss: 0.10279 | train_mse: 0.05419 | train_mae: 0.19225 |  0:00:24s\n"
     ]
    },
    {
     "name": "stdout",
     "output_type": "stream",
     "text": [
      "epoch 253| loss: 0.16136 | train_mse: 0.05532 | train_mae: 0.19354 |  0:00:24s\n",
      "epoch 254| loss: 0.12478 | train_mse: 0.05533 | train_mae: 0.19439 |  0:00:24s\n"
     ]
    },
    {
     "name": "stdout",
     "output_type": "stream",
     "text": [
      "epoch 255| loss: 0.12894 | train_mse: 0.05492 | train_mae: 0.19382 |  0:00:24s\n",
      "epoch 256| loss: 0.11174 | train_mse: 0.05575 | train_mae: 0.19392 |  0:00:24s\n",
      "epoch 257| loss: 0.08635 | train_mse: 0.056   | train_mae: 0.19381 |  0:00:24s\n"
     ]
    },
    {
     "name": "stdout",
     "output_type": "stream",
     "text": [
      "epoch 258| loss: 0.13066 | train_mse: 0.05739 | train_mae: 0.19608 |  0:00:25s\n",
      "epoch 259| loss: 0.1242  | train_mse: 0.05772 | train_mae: 0.19702 |  0:00:25s\n",
      "epoch 260| loss: 0.10581 | train_mse: 0.05721 | train_mae: 0.1973  |  0:00:25s\n"
     ]
    },
    {
     "name": "stdout",
     "output_type": "stream",
     "text": [
      "epoch 261| loss: 0.10637 | train_mse: 0.05715 | train_mae: 0.1977  |  0:00:25s\n",
      "epoch 262| loss: 0.10647 | train_mse: 0.05632 | train_mae: 0.19696 |  0:00:25s\n",
      "epoch 263| loss: 0.12591 | train_mse: 0.05466 | train_mae: 0.1939  |  0:00:25s"
     ]
    },
    {
     "name": "stdout",
     "output_type": "stream",
     "text": [
      "\n",
      "epoch 264| loss: 0.1897  | train_mse: 0.05305 | train_mae: 0.19177 |  0:00:25s\n",
      "epoch 265| loss: 0.08812 | train_mse: 0.05324 | train_mae: 0.19225 |  0:00:25s\n"
     ]
    },
    {
     "name": "stdout",
     "output_type": "stream",
     "text": [
      "epoch 266| loss: 0.10311 | train_mse: 0.05391 | train_mae: 0.19428 |  0:00:25s\n",
      "epoch 267| loss: 0.10444 | train_mse: 0.05404 | train_mae: 0.19345 |  0:00:25s\n",
      "epoch 268| loss: 0.14274 | train_mse: 0.05357 | train_mae: 0.19287 |  0:00:26s\n"
     ]
    },
    {
     "name": "stdout",
     "output_type": "stream",
     "text": [
      "epoch 269| loss: 0.11408 | train_mse: 0.05442 | train_mae: 0.1947  |  0:00:26s\n",
      "epoch 270| loss: 0.10547 | train_mse: 0.05744 | train_mae: 0.19952 |  0:00:26s\n",
      "epoch 271| loss: 0.1247  | train_mse: 0.06026 | train_mae: 0.20323 |  0:00:26s\n"
     ]
    },
    {
     "name": "stdout",
     "output_type": "stream",
     "text": [
      "epoch 272| loss: 0.18463 | train_mse: 0.06269 | train_mae: 0.20648 |  0:00:26s\n",
      "epoch 273| loss: 0.16448 | train_mse: 0.06422 | train_mae: 0.20831 |  0:00:26s\n"
     ]
    },
    {
     "name": "stdout",
     "output_type": "stream",
     "text": [
      "epoch 274| loss: 0.13195 | train_mse: 0.0648  | train_mae: 0.21019 |  0:00:26s\n",
      "epoch 275| loss: 0.09086 | train_mse: 0.06614 | train_mae: 0.21199 |  0:00:26s\n"
     ]
    },
    {
     "name": "stdout",
     "output_type": "stream",
     "text": [
      "epoch 276| loss: 0.13877 | train_mse: 0.06422 | train_mae: 0.20879 |  0:00:26s\n",
      "epoch 277| loss: 0.11341 | train_mse: 0.06158 | train_mae: 0.20515 |  0:00:26s\n"
     ]
    },
    {
     "name": "stdout",
     "output_type": "stream",
     "text": [
      "epoch 278| loss: 0.12619 | train_mse: 0.06003 | train_mae: 0.2025  |  0:00:27s\n",
      "epoch 279| loss: 0.10016 | train_mse: 0.05797 | train_mae: 0.19847 |  0:00:27s\n"
     ]
    },
    {
     "name": "stdout",
     "output_type": "stream",
     "text": [
      "epoch 280| loss: 0.20318 | train_mse: 0.05599 | train_mae: 0.19551 |  0:00:27s\n",
      "epoch 281| loss: 0.11205 | train_mse: 0.05437 | train_mae: 0.19276 |  0:00:27s\n"
     ]
    },
    {
     "name": "stdout",
     "output_type": "stream",
     "text": [
      "epoch 282| loss: 0.07822 | train_mse: 0.05322 | train_mae: 0.18945 |  0:00:27s\n",
      "epoch 283| loss: 0.09834 | train_mse: 0.05378 | train_mae: 0.1898  |  0:00:27s\n"
     ]
    },
    {
     "name": "stdout",
     "output_type": "stream",
     "text": [
      "epoch 284| loss: 0.13454 | train_mse: 0.05359 | train_mae: 0.19063 |  0:00:27s\n",
      "epoch 285| loss: 0.11114 | train_mse: 0.05335 | train_mae: 0.18967 |  0:00:27s\n"
     ]
    },
    {
     "name": "stdout",
     "output_type": "stream",
     "text": [
      "epoch 286| loss: 0.1076  | train_mse: 0.05292 | train_mae: 0.1884  |  0:00:28s\n",
      "epoch 287| loss: 0.08712 | train_mse: 0.05278 | train_mae: 0.18764 |  0:00:28s\n"
     ]
    },
    {
     "name": "stdout",
     "output_type": "stream",
     "text": [
      "epoch 288| loss: 0.10437 | train_mse: 0.0551  | train_mae: 0.19214 |  0:00:28s\n",
      "epoch 289| loss: 0.15797 | train_mse: 0.05789 | train_mae: 0.19518 |  0:00:28s\n"
     ]
    },
    {
     "name": "stdout",
     "output_type": "stream",
     "text": [
      "epoch 290| loss: 0.21869 | train_mse: 0.06016 | train_mae: 0.2004  |  0:00:28s\n",
      "epoch 291| loss: 0.11938 | train_mse: 0.06222 | train_mae: 0.20423 |  0:00:28s\n",
      "epoch 292| loss: 0.10162 | train_mse: 0.0607  | train_mae: 0.20064 |  0:00:28s\n"
     ]
    },
    {
     "name": "stdout",
     "output_type": "stream",
     "text": [
      "epoch 293| loss: 0.12724 | train_mse: 0.05874 | train_mae: 0.19712 |  0:00:28s\n"
     ]
    },
    {
     "name": "stdout",
     "output_type": "stream",
     "text": [
      "epoch 294| loss: 0.09273 | train_mse: 0.05553 | train_mae: 0.19235 |  0:00:29s\n",
      "epoch 295| loss: 0.1164  | train_mse: 0.05357 | train_mae: 0.18994 |  0:00:29s\n"
     ]
    },
    {
     "name": "stdout",
     "output_type": "stream",
     "text": [
      "epoch 296| loss: 0.09454 | train_mse: 0.05297 | train_mae: 0.18987 |  0:00:29s\n",
      "epoch 297| loss: 0.14237 | train_mse: 0.05413 | train_mae: 0.19237 |  0:00:29s\n"
     ]
    },
    {
     "name": "stdout",
     "output_type": "stream",
     "text": [
      "epoch 298| loss: 0.3133  | train_mse: 0.05404 | train_mae: 0.19237 |  0:00:29s\n",
      "epoch 299| loss: 0.12085 | train_mse: 0.05624 | train_mae: 0.19665 |  0:00:29s\n",
      "epoch 300| loss: 0.08757 | train_mse: 0.0565  | train_mae: 0.19594 |  0:00:29s\n"
     ]
    },
    {
     "name": "stdout",
     "output_type": "stream",
     "text": [
      "epoch 301| loss: 0.08899 | train_mse: 0.05446 | train_mae: 0.19177 |  0:00:29s\n",
      "epoch 302| loss: 0.10281 | train_mse: 0.05244 | train_mae: 0.18817 |  0:00:29s\n",
      "epoch 303| loss: 0.1226  | train_mse: 0.05217 | train_mae: 0.18709 |  0:00:29s\n"
     ]
    },
    {
     "name": "stdout",
     "output_type": "stream",
     "text": [
      "epoch 304| loss: 0.12408 | train_mse: 0.05073 | train_mae: 0.18529 |  0:00:30s\n",
      "epoch 305| loss: 0.08244 | train_mse: 0.05143 | train_mae: 0.1852  |  0:00:30s\n",
      "epoch 306| loss: 0.11121 | train_mse: 0.05043 | train_mae: 0.18421 |  0:00:30s\n"
     ]
    },
    {
     "name": "stdout",
     "output_type": "stream",
     "text": [
      "epoch 307| loss: 0.0959  | train_mse: 0.04857 | train_mae: 0.18162 |  0:00:30s\n",
      "epoch 308| loss: 0.12727 | train_mse: 0.04693 | train_mae: 0.17795 |  0:00:30s\n",
      "epoch 309| loss: 0.08866 | train_mse: 0.04651 | train_mae: 0.17678 |  0:00:30s\n"
     ]
    },
    {
     "name": "stdout",
     "output_type": "stream",
     "text": [
      "epoch 310| loss: 0.14458 | train_mse: 0.04706 | train_mae: 0.1789  |  0:00:30s\n",
      "epoch 311| loss: 0.09319 | train_mse: 0.04984 | train_mae: 0.18427 |  0:00:30s\n",
      "epoch 312| loss: 0.11638 | train_mse: 0.05163 | train_mae: 0.18792 |  0:00:30s\n"
     ]
    },
    {
     "name": "stdout",
     "output_type": "stream",
     "text": [
      "epoch 313| loss: 0.12002 | train_mse: 0.05494 | train_mae: 0.19343 |  0:00:30s\n",
      "epoch 314| loss: 0.18865 | train_mse: 0.05567 | train_mae: 0.19208 |  0:00:30s\n",
      "epoch 315| loss: 0.07846 | train_mse: 0.05686 | train_mae: 0.19525 |  0:00:31s\n"
     ]
    },
    {
     "name": "stdout",
     "output_type": "stream",
     "text": [
      "epoch 316| loss: 0.09113 | train_mse: 0.05811 | train_mae: 0.19818 |  0:00:31s\n",
      "epoch 317| loss: 0.09976 | train_mse: 0.05981 | train_mae: 0.20064 |  0:00:31s\n"
     ]
    },
    {
     "name": "stdout",
     "output_type": "stream",
     "text": [
      "epoch 318| loss: 0.11501 | train_mse: 0.0601  | train_mae: 0.20234 |  0:00:31s\n",
      "epoch 319| loss: 0.10534 | train_mse: 0.05933 | train_mae: 0.20236 |  0:00:31s\n"
     ]
    },
    {
     "name": "stdout",
     "output_type": "stream",
     "text": [
      "epoch 320| loss: 0.07723 | train_mse: 0.05891 | train_mae: 0.20225 |  0:00:31s\n"
     ]
    },
    {
     "name": "stdout",
     "output_type": "stream",
     "text": [
      "epoch 321| loss: 0.14573 | train_mse: 0.05839 | train_mae: 0.20139 |  0:00:31s\n",
      "epoch 322| loss: 0.13849 | train_mse: 0.05596 | train_mae: 0.19663 |  0:00:32s\n"
     ]
    },
    {
     "name": "stdout",
     "output_type": "stream",
     "text": [
      "epoch 323| loss: 0.05939 | train_mse: 0.05599 | train_mae: 0.19756 |  0:00:32s\n",
      "epoch 324| loss: 0.08046 | train_mse: 0.05452 | train_mae: 0.19482 |  0:00:32s\n"
     ]
    },
    {
     "name": "stdout",
     "output_type": "stream",
     "text": [
      "epoch 325| loss: 0.05692 | train_mse: 0.05354 | train_mae: 0.19355 |  0:00:32s\n",
      "epoch 326| loss: 0.15216 | train_mse: 0.05235 | train_mae: 0.19061 |  0:00:32s\n"
     ]
    },
    {
     "name": "stdout",
     "output_type": "stream",
     "text": [
      "epoch 327| loss: 0.09632 | train_mse: 0.05303 | train_mae: 0.19023 |  0:00:32s\n",
      "epoch 328| loss: 0.10732 | train_mse: 0.05361 | train_mae: 0.19075 |  0:00:32s\n"
     ]
    },
    {
     "name": "stdout",
     "output_type": "stream",
     "text": [
      "epoch 329| loss: 0.10834 | train_mse: 0.0549  | train_mae: 0.19249 |  0:00:32s\n",
      "epoch 330| loss: 0.16472 | train_mse: 0.05898 | train_mae: 0.19849 |  0:00:32s\n"
     ]
    },
    {
     "name": "stdout",
     "output_type": "stream",
     "text": [
      "epoch 331| loss: 0.0656  | train_mse: 0.06252 | train_mae: 0.20247 |  0:00:33s\n",
      "epoch 332| loss: 0.11098 | train_mse: 0.06359 | train_mae: 0.2017  |  0:00:33s\n"
     ]
    },
    {
     "name": "stdout",
     "output_type": "stream",
     "text": [
      "epoch 333| loss: 0.14463 | train_mse: 0.06525 | train_mae: 0.20288 |  0:00:33s\n",
      "epoch 334| loss: 0.13634 | train_mse: 0.06303 | train_mae: 0.20098 |  0:00:33s\n"
     ]
    },
    {
     "name": "stdout",
     "output_type": "stream",
     "text": [
      "epoch 335| loss: 0.13226 | train_mse: 0.05728 | train_mae: 0.19427 |  0:00:33s\n",
      "epoch 336| loss: 0.11322 | train_mse: 0.05545 | train_mae: 0.19261 |  0:00:33s\n"
     ]
    },
    {
     "name": "stdout",
     "output_type": "stream",
     "text": [
      "epoch 337| loss: 0.12298 | train_mse: 0.05618 | train_mae: 0.19614 |  0:00:33s\n",
      "epoch 338| loss: 0.07835 | train_mse: 0.05613 | train_mae: 0.19722 |  0:00:34s\n"
     ]
    },
    {
     "name": "stdout",
     "output_type": "stream",
     "text": [
      "epoch 339| loss: 0.21104 | train_mse: 0.0535  | train_mae: 0.19288 |  0:00:34s\n",
      "epoch 340| loss: 0.11281 | train_mse: 0.05393 | train_mae: 0.19338 |  0:00:34s\n"
     ]
    },
    {
     "name": "stdout",
     "output_type": "stream",
     "text": [
      "epoch 341| loss: 0.14743 | train_mse: 0.05278 | train_mae: 0.19107 |  0:00:34s\n"
     ]
    },
    {
     "name": "stdout",
     "output_type": "stream",
     "text": [
      "epoch 342| loss: 0.16094 | train_mse: 0.05141 | train_mae: 0.18784 |  0:00:34s\n",
      "epoch 343| loss: 0.1261  | train_mse: 0.0502  | train_mae: 0.18504 |  0:00:34s\n"
     ]
    },
    {
     "name": "stdout",
     "output_type": "stream",
     "text": [
      "epoch 344| loss: 0.18179 | train_mse: 0.05014 | train_mae: 0.18433 |  0:00:34s\n",
      "epoch 345| loss: 0.12537 | train_mse: 0.04858 | train_mae: 0.1822  |  0:00:34s\n",
      "epoch 346| loss: 0.10302 | train_mse: 0.04848 | train_mae: 0.18355 |  0:00:35s\n"
     ]
    },
    {
     "name": "stdout",
     "output_type": "stream",
     "text": [
      "epoch 347| loss: 0.12712 | train_mse: 0.04825 | train_mae: 0.18395 |  0:00:35s\n",
      "epoch 348| loss: 0.09662 | train_mse: 0.04903 | train_mae: 0.18631 |  0:00:35s\n"
     ]
    },
    {
     "name": "stdout",
     "output_type": "stream",
     "text": [
      "epoch 349| loss: 0.06696 | train_mse: 0.04873 | train_mae: 0.18628 |  0:00:35s\n",
      "epoch 350| loss: 0.09073 | train_mse: 0.0482  | train_mae: 0.18537 |  0:00:35s\n",
      "epoch 351| loss: 0.1016  | train_mse: 0.04769 | train_mae: 0.18372 |  0:00:35s\n"
     ]
    },
    {
     "name": "stdout",
     "output_type": "stream",
     "text": [
      "epoch 352| loss: 0.05551 | train_mse: 0.0484  | train_mae: 0.18347 |  0:00:35s\n",
      "epoch 353| loss: 0.09036 | train_mse: 0.04769 | train_mae: 0.18173 |  0:00:35s\n",
      "epoch 354| loss: 0.24777 | train_mse: 0.04626 | train_mae: 0.17944 |  0:00:35s\n"
     ]
    },
    {
     "name": "stdout",
     "output_type": "stream",
     "text": [
      "epoch 355| loss: 0.10631 | train_mse: 0.04744 | train_mae: 0.18146 |  0:00:35s\n",
      "epoch 356| loss: 0.10104 | train_mse: 0.04809 | train_mae: 0.18201 |  0:00:36s\n",
      "epoch 357| loss: 0.07749 | train_mse: 0.04874 | train_mae: 0.18246 |  0:00:36s\n"
     ]
    },
    {
     "name": "stdout",
     "output_type": "stream",
     "text": [
      "epoch 358| loss: 0.09209 | train_mse: 0.04914 | train_mae: 0.18158 |  0:00:36s\n",
      "epoch 359| loss: 0.11095 | train_mse: 0.04935 | train_mae: 0.18383 |  0:00:36s\n",
      "\n",
      "Early stopping occurred at epoch 359 with best_epoch = 309 and best_train_mae = 0.17678\n",
      "Best weights from best epoch are automatically used!\n"
     ]
    }
   ],
   "source": [
    "#Train the Model\n",
    "\n",
    "Y_train = np.reshape(Y_train, (-1, 1))\n",
    "Y_test = np.reshape(Y_test, (-1, 1))\n",
    "\n",
    "prior_model = TabNetRegressor(optimizer_fn=torch.optim.Adam, optimizer_params=dict(lr = 0.001),\n",
    "          #scheduler_params={\"step_size\":10, ], \"gamma\":0.9},\n",
    "          #scheduler_fn=torch.optim.lr_scheduler.StepLR\n",
    "          )  #TabNetRegressor()\n",
    "\n",
    "prior_model.fit(X_train,Y_train,eval_set=[(X_train, Y_train)],\n",
    "            eval_name=['train'], \n",
    "            eval_metric=[ 'mse', 'mae'], \n",
    "            max_epochs = n_epochs, \n",
    "            batch_size = batch_size,\n",
    "            patience=50\n",
    "            )"
   ]
  },
  {
   "cell_type": "code",
   "execution_count": 10,
   "id": "af65dcda",
   "metadata": {
    "execution": {
     "iopub.execute_input": "2022-07-22T11:38:01.017156Z",
     "iopub.status.busy": "2022-07-22T11:38:01.016438Z",
     "iopub.status.idle": "2022-07-22T11:38:01.064419Z",
     "shell.execute_reply": "2022-07-22T11:38:01.063355Z"
    },
    "id": "af65dcda",
    "papermill": {
     "duration": 0.074248,
     "end_time": "2022-07-22T11:38:01.071324",
     "exception": false,
     "start_time": "2022-07-22T11:38:00.997076",
     "status": "completed"
    },
    "tags": []
   },
   "outputs": [
    {
     "data": {
      "application/scrapbook.scrap.json+json": {
       "data": 0.4663430652188943,
       "encoder": "json",
       "name": "Prior Model MSE",
       "version": 1
      }
     },
     "metadata": {
      "scrapbook": {
       "data": true,
       "display": false,
       "name": "Prior Model MSE"
      }
     },
     "output_type": "display_data"
    },
    {
     "data": {
      "application/scrapbook.scrap.json+json": {
       "data": 1.7886287889110162,
       "encoder": "json",
       "name": "ABC Pre-generator MSE",
       "version": 1
      }
     },
     "metadata": {
      "scrapbook": {
       "data": true,
       "display": false,
       "name": "ABC Pre-generator MSE"
      }
     },
     "output_type": "display_data"
    },
    {
     "data": {
      "application/scrapbook.scrap.json+json": {
       "data": 0.5421842514668945,
       "encoder": "json",
       "name": "Prior Model MAE",
       "version": 1
      }
     },
     "metadata": {
      "scrapbook": {
       "data": true,
       "display": false,
       "name": "Prior Model MAE"
      }
     },
     "output_type": "display_data"
    },
    {
     "name": "stdout",
     "output_type": "stream",
     "text": [
      "Prior Model MAE 0.5421842514668945\n"
     ]
    },
    {
     "data": {
      "application/scrapbook.scrap.json+json": {
       "data": 1.2316080349486977,
       "encoder": "json",
       "name": "ABC Pre-generator MAE",
       "version": 1
      }
     },
     "metadata": {
      "scrapbook": {
       "data": true,
       "display": false,
       "name": "ABC Pre-generator MAE"
      }
     },
     "output_type": "display_data"
    },
    {
     "name": "stdout",
     "output_type": "stream",
     "text": [
      "ABC Pre-generator MAE 1.2316080349486977\n"
     ]
    }
   ],
   "source": [
    "y_pred = prior_model.predict(X_test)\n",
    "y_abc = y_pred + np.random.normal(0,variance, y_pred.shape) + bias \n",
    "mse = mean_squared_error(y_pred,Y_test)\n",
    "sb.glue(\"Prior Model MSE\",mse)\n",
    "mse = mean_squared_error(y_abc,Y_test)\n",
    "sb.glue(\"ABC Pre-generator MSE\",mse)\n",
    "mae = mean_absolute_error(y_pred,Y_test)\n",
    "sb.glue(\"Prior Model MAE\",mae)\n",
    "print(\"Prior Model MAE\",mae)\n",
    "mae = mean_absolute_error(y_abc,Y_test)\n",
    "sb.glue(\"ABC Pre-generator MAE\",mae)\n",
    "print(\"ABC Pre-generator MAE\",mae)"
   ]
  },
  {
   "cell_type": "markdown",
   "id": "25609da2",
   "metadata": {
    "papermill": {
     "duration": 0.02127,
     "end_time": "2022-07-22T11:38:01.111727",
     "exception": false,
     "start_time": "2022-07-22T11:38:01.090457",
     "status": "completed"
    },
    "tags": []
   },
   "source": [
    "# mGAN Model"
   ]
  },
  {
   "cell_type": "code",
   "execution_count": 11,
   "id": "dfc3464d",
   "metadata": {
    "execution": {
     "iopub.execute_input": "2022-07-22T11:38:01.148418Z",
     "iopub.status.busy": "2022-07-22T11:38:01.148049Z",
     "iopub.status.idle": "2022-07-22T11:38:01.152441Z",
     "shell.execute_reply": "2022-07-22T11:38:01.151352Z"
    },
    "papermill": {
     "duration": 0.026309,
     "end_time": "2022-07-22T11:38:01.155601",
     "exception": false,
     "start_time": "2022-07-22T11:38:01.129292",
     "status": "completed"
    },
    "tags": []
   },
   "outputs": [],
   "source": [
    "# gen = network.Generator(n_features+1).to(device)\n",
    "# disc = network.Discriminator(n_features+1).to(device)\n",
    "\n",
    "# criterion = torch.nn.BCELoss()\n",
    "# gen_opt = torch.optim.Adam(gen.parameters(), lr=0.001, betas=(0.5, 0.999))\n",
    "# disc_opt = torch.optim.Adam(disc.parameters(), lr=0.001, betas=(0.5, 0.999))"
   ]
  },
  {
   "cell_type": "code",
   "execution_count": 12,
   "id": "b75fdd85",
   "metadata": {
    "execution": {
     "iopub.execute_input": "2022-07-22T11:38:01.216566Z",
     "iopub.status.busy": "2022-07-22T11:38:01.215801Z",
     "iopub.status.idle": "2022-07-22T11:38:01.221013Z",
     "shell.execute_reply": "2022-07-22T11:38:01.219862Z"
    },
    "papermill": {
     "duration": 0.044188,
     "end_time": "2022-07-22T11:38:01.226585",
     "exception": false,
     "start_time": "2022-07-22T11:38:01.182397",
     "status": "completed"
    },
    "tags": []
   },
   "outputs": [],
   "source": [
    "#Training the ABC_GAN \n",
    "# ABC_train_test2.training_GAN(disc,gen,disc_opt,gen_opt,train_data,batch_size,n_epochs,criterion,prior_model,variance,bias,device)"
   ]
  },
  {
   "cell_type": "code",
   "execution_count": 13,
   "id": "1fa7c368",
   "metadata": {
    "execution": {
     "iopub.execute_input": "2022-07-22T11:38:01.289340Z",
     "iopub.status.busy": "2022-07-22T11:38:01.288758Z",
     "iopub.status.idle": "2022-07-22T11:38:01.293663Z",
     "shell.execute_reply": "2022-07-22T11:38:01.292691Z"
    },
    "papermill": {
     "duration": 0.049674,
     "end_time": "2022-07-22T11:38:01.296397",
     "exception": false,
     "start_time": "2022-07-22T11:38:01.246723",
     "status": "completed"
    },
    "tags": []
   },
   "outputs": [],
   "source": [
    "# ABC_GAN1_metrics=ABC_train_test2.test_generator(gen,test_data,prior_model,variance,bias,\"1\",device)\n",
    "# sb.glue(\"ABC_GAN_1 Metrics\",ABC_GAN1_metrics)\n",
    "\n",
    "# print(\"MAE\")\n",
    "# print(mean(ABC_GAN1_metrics[1]))"
   ]
  },
  {
   "cell_type": "code",
   "execution_count": 14,
   "id": "eb22ce5c",
   "metadata": {
    "execution": {
     "iopub.execute_input": "2022-07-22T11:38:01.345643Z",
     "iopub.status.busy": "2022-07-22T11:38:01.343146Z",
     "iopub.status.idle": "2022-07-22T11:38:01.349226Z",
     "shell.execute_reply": "2022-07-22T11:38:01.348299Z"
    },
    "papermill": {
     "duration": 0.031004,
     "end_time": "2022-07-22T11:38:01.352742",
     "exception": false,
     "start_time": "2022-07-22T11:38:01.321738",
     "status": "completed"
    },
    "tags": []
   },
   "outputs": [],
   "source": [
    "# sanityChecks.discProbVsError(train_data,disc,device)\n",
    "# sanityChecks.discProbVsError(test_data,disc,device)"
   ]
  },
  {
   "cell_type": "markdown",
   "id": "4839f15b",
   "metadata": {
    "papermill": {
     "duration": 0.023317,
     "end_time": "2022-07-22T11:38:01.397696",
     "exception": false,
     "start_time": "2022-07-22T11:38:01.374379",
     "status": "completed"
    },
    "tags": []
   },
   "source": [
    "# mGAN Model with TabNet Generator"
   ]
  },
  {
   "cell_type": "code",
   "execution_count": 15,
   "id": "3ce0d490",
   "metadata": {
    "execution": {
     "iopub.execute_input": "2022-07-22T11:38:01.439356Z",
     "iopub.status.busy": "2022-07-22T11:38:01.438586Z",
     "iopub.status.idle": "2022-07-22T11:38:01.456298Z",
     "shell.execute_reply": "2022-07-22T11:38:01.455297Z"
    },
    "papermill": {
     "duration": 0.041986,
     "end_time": "2022-07-22T11:38:01.459860",
     "exception": false,
     "start_time": "2022-07-22T11:38:01.417874",
     "status": "completed"
    },
    "tags": []
   },
   "outputs": [],
   "source": [
    "gen2 = network.GeneratorTabnet(n_features+1).to(device)\n",
    "disc2 = network.Discriminator(n_features+1).to(device)\n",
    "\n",
    "criterion = torch.nn.BCELoss()\n",
    "gen_opt = torch.optim.Adam(gen2.parameters(), lr=0.001, betas=(0.5, 0.999))\n",
    "disc_opt = torch.optim.Adam(disc2.parameters(), lr=0.001, betas=(0.5, 0.999))"
   ]
  },
  {
   "cell_type": "code",
   "execution_count": 16,
   "id": "5752377a",
   "metadata": {
    "execution": {
     "iopub.execute_input": "2022-07-22T11:38:01.498636Z",
     "iopub.status.busy": "2022-07-22T11:38:01.498271Z",
     "iopub.status.idle": "2022-07-22T11:40:42.365593Z",
     "shell.execute_reply": "2022-07-22T11:40:42.364389Z"
    },
    "papermill": {
     "duration": 160.891692,
     "end_time": "2022-07-22T11:40:42.369132",
     "exception": false,
     "start_time": "2022-07-22T11:38:01.477440",
     "status": "completed"
    },
    "tags": []
   },
   "outputs": [
    {
     "data": {
      "image/png": "[encoded data removed]",
      "text/plain": [
       "<Figure size 432x288 with 1 Axes>"
      ]
     },
     "metadata": {
      "needs_background": "light"
     },
     "output_type": "display_data"
    },
    {
     "data": {
      "image/png": "[encoded data removed]",
      "text/plain": [
       "<Figure size 432x288 with 1 Axes>"
      ]
     },
     "metadata": {
      "needs_background": "light"
     },
     "output_type": "display_data"
    }
   ],
   "source": [
    "#Training the ABC_GAN \n",
    "ABC_train_test2.training_GAN(disc2,gen2,disc_opt,gen_opt,train_data,batch_size,n_epochs,criterion,prior_model,variance,bias,device)"
   ]
  },
  {
   "cell_type": "code",
   "execution_count": 17,
   "id": "50b54b15",
   "metadata": {
    "execution": {
     "iopub.execute_input": "2022-07-22T11:40:42.408711Z",
     "iopub.status.busy": "2022-07-22T11:40:42.408242Z",
     "iopub.status.idle": "2022-07-22T11:40:44.586989Z",
     "shell.execute_reply": "2022-07-22T11:40:44.585513Z"
    },
    "papermill": {
     "duration": 2.202215,
     "end_time": "2022-07-22T11:40:44.589607",
     "exception": false,
     "start_time": "2022-07-22T11:40:42.387392",
     "status": "completed"
    },
    "tags": []
   },
   "outputs": [
    {
     "data": {
      "application/scrapbook.scrap.json+json": {
       "data": 0.5398010511984772,
       "encoder": "json",
       "name": "ABC-GAN Model 1 MSE",
       "version": 1
      }
     },
     "metadata": {
      "scrapbook": {
       "data": true,
       "display": false,
       "name": "ABC-GAN Model 1 MSE"
      }
     },
     "output_type": "display_data"
    },
    {
     "data": {
      "application/scrapbook.scrap.json+json": {
       "data": 0.528106277666986,
       "encoder": "json",
       "name": "ABC-GAN Model 1 MAE",
       "version": 1
      }
     },
     "metadata": {
      "scrapbook": {
       "data": true,
       "display": false,
       "name": "ABC-GAN Model 1 MAE"
      }
     },
     "output_type": "display_data"
    },
    {
     "data": {
      "application/scrapbook.scrap.json+json": {
       "data": 10.562125553339719,
       "encoder": "json",
       "name": "ABC-GAN Model 1 Manhattan Distance",
       "version": 1
      }
     },
     "metadata": {
      "scrapbook": {
       "data": true,
       "display": false,
       "name": "ABC-GAN Model 1 Manhattan Distance"
      }
     },
     "output_type": "display_data"
    },
    {
     "data": {
      "application/scrapbook.scrap.json+json": {
       "data": 3.285724358427874,
       "encoder": "json",
       "name": "ABC-GAN Model 1 Euclidean distance",
       "version": 1
      }
     },
     "metadata": {
      "scrapbook": {
       "data": true,
       "display": false,
       "name": "ABC-GAN Model 1 Euclidean distance"
      }
     },
     "output_type": "display_data"
    },
    {
     "data": {
      "application/scrapbook.scrap.json+json": {
       "data": [
        [
         0.5389373044029349,
         0.5401446988264695,
         0.5397356434151949,
         0.5408808639153742,
         0.5405263464402454,
         0.5413764804342284,
         0.540073192632738,
         0.5425012252148489,
         0.540883226253119,
         0.5396316136823236,
         0.5367380259701905,
         0.5380077294156751,
         0.5407483677403953,
         0.5411677401240306,
         0.5387794080021449,
         0.5451891312182733,
         0.5404961057899277,
         0.5406212559436027,
         0.5394843449618536,
         0.5398230065374536,
         0.5424099806630824,
         0.5432136022907225,
         0.5392247186964534,
         0.5400573949654117,
         0.5437185061296003,
         0.5368217495507736,
         0.5395007911818069,
         0.540906239997671,
         0.5386047145624815,
         0.5369052305439542,
         0.5387562142351394,
         0.5414970228629763,
         0.5394389636222628,
         0.5415760287744286,
         0.5383412775477965,
         0.538383029595751,
         0.5384171171017564,
         0.5407754556430374,
         0.539958556247166,
         0.5376773001676016,
         0.5394206473699027,
         0.5427731707940417,
         0.5390087679194947,
         0.5422049064506085,
         0.5426317054766466,
         0.5382720121194513,
         0.5392755297445426,
         0.5389988654183983,
         0.540871659521911,
         0.5375020349851514,
         0.5397185773491344,
         0.5387961862382047,
         0.5366586160469323,
         0.5416138080335797,
         0.5428940249359521,
         0.5394690583151596,
         0.5394150282225987,
         0.5411443560039851,
         0.5406758349807292,
         0.5395224582845962,
         0.5386497758115478,
         0.5365170910621465,
         0.5402984961430398,
         0.5390296726086333,
         0.5359739745684611,
         0.5403644855165781,
         0.5369775033399113,
         0.5407631705098384,
         0.5418918244539475,
         0.543508284896817,
         0.5409840527528644,
         0.5394847515350495,
         0.5426776836037289,
         0.5393795679040414,
         0.5408509382085503,
         0.5395916085149258,
         0.5401390456923181,
         0.5354428920468589,
         0.5370155657924585,
         0.5403001483111884,
         0.5423169635177683,
         0.5354084648498745,
         0.5365421395847605,
         0.5401792386952762,
         0.5414732613367335,
         0.5360466007752892,
         0.5397064550178756,
         0.5398030154028044,
         0.5418491948280104,
         0.5395693099007118,
         0.5405488485948201,
         0.5388446453480051,
         0.5391641974520592,
         0.5358940163009274,
         0.5374275732212743,
         0.5365433012223632,
         0.5399727438829192,
         0.5425406674182762,
         0.5424563542911105,
         0.5411807414220402
        ],
        [
         0.5268563717603684,
         0.5278391361236572,
         0.5280611932277679,
         0.5283398427069187,
         0.5283597826957702,
         0.5277508109807968,
         0.5269620075821877,
         0.5300110183656216,
         0.5283718556165695,
         0.5282757468521595,
         0.526485475897789,
         0.5263318739831447,
         0.5280140392482281,
         0.5284459888935089,
         0.5283843301236629,
         0.5319141797721386,
         0.5282534427940846,
         0.5294591024518013,
         0.528031338751316,
         0.5271358378231525,
         0.5295994341373443,
         0.5292440965771675,
         0.5278471156954765,
         0.5269316658377647,
         0.5301359586417675,
         0.5278136655688286,
         0.5289466798305511,
         0.5289695844054222,
         0.5279823705554009,
         0.5262119472026825,
         0.5270913384854794,
         0.5285950973629951,
         0.5272690854966641,
         0.5292550154030323,
         0.5276428669691086,
         0.5271369874477386,
         0.5266201503574848,
         0.5278299741446972,
         0.5280683383345603,
         0.5271584197878838,
         0.5279872998595238,
         0.5301192119717598,
         0.5274836465716362,
         0.529294452816248,
         0.5289839930832386,
         0.5265351839363575,
         0.5283090159296989,
         0.5260842330753803,
         0.5290796741843223,
         0.5274535849690437,
         0.5265555493533611,
         0.5280409574508667,
         0.5272000320255756,
         0.5286180160939693,
         0.5303779132664204,
         0.5277086496353149,
         0.5291317410767078,
         0.5282075747847557,
         0.5280968189239502,
         0.5279841288924217,
         0.5269984304904938,
         0.5260030686855316,
         0.5281628511846066,
         0.5282915316522121,
         0.5263386726379394,
         0.5277515992522239,
         0.5254583030939102,
         0.5290264584124088,
         0.5287971802055835,
         0.5310622572898864,
         0.5282441295683384,
         0.528966049104929,
         0.530843186378479,
         0.5281908325850964,
         0.5289385184645653,
         0.5279238164424896,
         0.5291617780923843,
         0.5262429036200047,
         0.5265042424201966,
         0.5293361000716686,
         0.5295580260455608,
         0.5266591250896454,
         0.5270143203437329,
         0.5293364800512791,
         0.529399174451828,
         0.5250680558383465,
         0.5289286144077778,
         0.5283610105514527,
         0.5299388602375984,
         0.5286325007677078,
         0.5278815470635891,
         0.5280792288482189,
         0.5273003295063973,
         0.5254748329520226,
         0.5269485719501972,
         0.526004009693861,
         0.528818167746067,
         0.5293640084564686,
         0.5305912829935551,
         0.5281428642570972
        ],
        [
         10.537127435207367,
         10.556782722473145,
         10.561223864555359,
         10.566796854138374,
         10.567195653915405,
         10.555016219615936,
         10.539240151643753,
         10.600220367312431,
         10.56743711233139,
         10.56551493704319,
         10.52970951795578,
         10.526637479662895,
         10.560280784964561,
         10.568919777870178,
         10.567686602473259,
         10.638283595442772,
         10.565068855881691,
         10.589182049036026,
         10.560626775026321,
         10.54271675646305,
         10.591988682746887,
         10.58488193154335,
         10.55694231390953,
         10.538633316755295,
         10.60271917283535,
         10.556273311376572,
         10.578933596611023,
         10.579391688108444,
         10.559647411108017,
         10.52423894405365,
         10.541826769709587,
         10.571901947259903,
         10.545381709933281,
         10.585100308060646,
         10.552857339382172,
         10.542739748954773,
         10.532403007149696,
         10.556599482893944,
         10.561366766691208,
         10.543168395757675,
         10.559745997190475,
         10.602384239435196,
         10.549672931432724,
         10.585889056324959,
         10.579679861664772,
         10.53070367872715,
         10.566180318593979,
         10.521684661507607,
         10.581593483686447,
         10.549071699380875,
         10.531110987067223,
         10.560819149017334,
         10.544000640511513,
         10.572360321879387,
         10.607558265328407,
         10.554172992706299,
         10.582634821534157,
         10.564151495695114,
         10.561936378479004,
         10.559682577848434,
         10.539968609809875,
         10.520061373710632,
         10.563257023692131,
         10.565830633044243,
         10.526773452758789,
         10.55503198504448,
         10.509166061878204,
         10.580529168248177,
         10.575943604111671,
         10.62124514579773,
         10.564882591366768,
         10.57932098209858,
         10.61686372756958,
         10.563816651701927,
         10.578770369291306,
         10.558476328849792,
         10.583235561847687,
         10.524858072400093,
         10.53008484840393,
         10.586722001433372,
         10.591160520911217,
         10.533182501792908,
         10.540286406874657,
         10.586729601025581,
         10.58798348903656,
         10.50136111676693,
         10.578572288155556,
         10.567220211029053,
         10.598777204751968,
         10.572650015354156,
         10.557630941271782,
         10.561584576964378,
         10.546006590127945,
         10.509496659040451,
         10.538971439003944,
         10.52008019387722,
         10.576363354921341,
         10.587280169129372,
         10.611825659871101,
         10.562857285141945
        ],
        [
         3.28310007280599,
         3.2867756200460954,
         3.2855308350864547,
         3.2890146363778134,
         3.28793657615303,
         3.2905211758450315,
         3.2865580555734533,
         3.293937538007814,
         3.2890218188790388,
         3.285214189919201,
         3.276394438922733,
         3.2802674568262717,
         3.2886117671151007,
         3.289886746148051,
         3.2826191006638124,
         3.302087616094622,
         3.2878446003116615,
         3.2882252232582934,
         3.2847658819521786,
         3.2857967269368737,
         3.2936605188242534,
         3.2960995200106518,
         3.283975391797123,
         3.2865099877085773,
         3.2976309864191906,
         3.276649964676647,
         3.2848159497354095,
         3.289091789529964,
         3.282086880515144,
         3.2769047302109784,
         3.282548443618584,
         3.2908874877849477,
         3.2846277220478513,
         3.291127553816256,
         3.28128413139672,
         3.2814113719427227,
         3.2815152509222214,
         3.288694134890131,
         3.2862092332873933,
         3.279259978006018,
         3.284571958017978,
         3.2947630287899066,
         3.283317736435189,
         3.293037826841983,
         3.294333636645343,
         3.2810730321632624,
         3.2841301123571296,
         3.2832875762515785,
         3.288986650997267,
         3.2787254687916505,
         3.2854788915746647,
         3.2826702126110834,
         3.2761520601062837,
         3.2912423430479247,
         3.295129815154335,
         3.284719343612661,
         3.284554850273013,
         3.2898156665806826,
         3.2883912023380955,
         3.284881910463742,
         3.282224172147746,
         3.2757200462253993,
         3.2872435143841714,
         3.2833814052242953,
         3.2740616199713193,
         3.287444252049236,
         3.2771252748099555,
         3.28865677902039,
         3.2920869504129064,
         3.296993433104825,
         3.2893283592638314,
         3.2847671197058994,
         3.2944732009950513,
         3.2844468876936994,
         3.288923648273247,
         3.285092414270642,
         3.286758420365933,
         3.272439127155336,
         3.2772414186094325,
         3.287248540378985,
         3.2933780940480193,
         3.27233392198863,
         3.275796512559229,
         3.2868807057612424,
         3.2908152829860664,
         3.2742834354261063,
         3.2854419946724844,
         3.2857358853164214,
         3.291957456675315,
         3.2850245353747725,
         3.2880050139706904,
         3.282817830303732,
         3.283791094001137,
         3.273817393505409,
         3.2784983551048925,
         3.275800058679904,
         3.2862524062613305,
         3.2940572776388577,
         3.293801312438595,
         3.2899262648942154
        ]
       ],
       "encoder": "json",
       "name": "ABC_GAN_2 Metrics",
       "version": 1
      }
     },
     "metadata": {
      "scrapbook": {
       "data": true,
       "display": false,
       "name": "ABC_GAN_2 Metrics"
      }
     },
     "output_type": "display_data"
    },
    {
     "name": "stdout",
     "output_type": "stream",
     "text": [
      "MAE\n",
      "0.528106277666986\n"
     ]
    }
   ],
   "source": [
    "ABC_GAN2_metrics=ABC_train_test2.test_generator(gen2,test_data,prior_model,variance,bias,\"1\",device)\n",
    "sb.glue(\"ABC_GAN_2 Metrics\",ABC_GAN2_metrics)\n",
    "\n",
    "print(\"MAE\")\n",
    "print(mean(ABC_GAN2_metrics[1]))"
   ]
  },
  {
   "cell_type": "code",
   "execution_count": 18,
   "id": "01156218",
   "metadata": {
    "execution": {
     "iopub.execute_input": "2022-07-22T11:40:44.646718Z",
     "iopub.status.busy": "2022-07-22T11:40:44.645825Z",
     "iopub.status.idle": "2022-07-22T11:40:45.962127Z",
     "shell.execute_reply": "2022-07-22T11:40:45.960902Z"
    },
    "papermill": {
     "duration": 1.351102,
     "end_time": "2022-07-22T11:40:45.965810",
     "exception": false,
     "start_time": "2022-07-22T11:40:44.614708",
     "status": "completed"
    },
    "tags": []
   },
   "outputs": [
    {
     "data": {
      "image/png": "[encoded data removed]",
      "text/plain": [
       "<Figure size 432x288 with 1 Axes>"
      ]
     },
     "metadata": {
      "needs_background": "light"
     },
     "output_type": "display_data"
    },
    {
     "data": {
      "image/png": "[encoded data removed]",
      "text/plain": [
       "<Figure size 432x288 with 1 Axes>"
      ]
     },
     "metadata": {
      "needs_background": "light"
     },
     "output_type": "display_data"
    },
    {
     "data": {
      "image/png": "[encoded data removed]",
      "text/plain": [
       "<Figure size 432x288 with 1 Axes>"
      ]
     },
     "metadata": {
      "needs_background": "light"
     },
     "output_type": "display_data"
    },
    {
     "data": {
      "image/png": "[encoded data removed]",
      "text/plain": [
       "<Figure size 432x288 with 1 Axes>"
      ]
     },
     "metadata": {
      "needs_background": "light"
     },
     "output_type": "display_data"
    }
   ],
   "source": [
    "sanityChecks.discProbVsError(train_data,disc2,device)\n",
    "sanityChecks.discProbVsError(test_data,disc2,device)"
   ]
  },
  {
   "cell_type": "markdown",
   "id": "130f3a4d",
   "metadata": {
    "id": "130f3a4d",
    "papermill": {
     "duration": 0.038849,
     "end_time": "2022-07-22T11:40:46.044772",
     "exception": false,
     "start_time": "2022-07-22T11:40:46.005923",
     "status": "completed"
    },
    "tags": []
   },
   "source": [
    "# skipGAN Model"
   ]
  },
  {
   "cell_type": "code",
   "execution_count": 19,
   "id": "4e43dad1",
   "metadata": {
    "execution": {
     "iopub.execute_input": "2022-07-22T11:40:46.127042Z",
     "iopub.status.busy": "2022-07-22T11:40:46.126425Z",
     "iopub.status.idle": "2022-07-22T11:40:46.134037Z",
     "shell.execute_reply": "2022-07-22T11:40:46.132253Z"
    },
    "id": "4e43dad1",
    "papermill": {
     "duration": 0.060519,
     "end_time": "2022-07-22T11:40:46.144760",
     "exception": false,
     "start_time": "2022-07-22T11:40:46.084241",
     "status": "completed"
    },
    "tags": []
   },
   "outputs": [],
   "source": [
    "# #Generator\n",
    "# gen3 = network.GeneratorWithSkipConnection(n_features+1).to(device)\n",
    "# constraints=network.weightConstraint()\n",
    "# #Discriminator \n",
    "# disc3 = network.Discriminator(n_features+1).to(device)\n",
    "\n",
    "# criterion = torch.nn.BCELoss()\n",
    "# gen_opt = torch.optim.Adam(gen3.parameters(), lr=0.01, betas=(0.5, 0.999))\n",
    "# disc_opt = torch.optim.Adam(disc3.parameters(), lr=0.01, betas=(0.5, 0.999))\n"
   ]
  },
  {
   "cell_type": "code",
   "execution_count": 20,
   "id": "26acbc37",
   "metadata": {
    "execution": {
     "iopub.execute_input": "2022-07-22T11:40:46.231616Z",
     "iopub.status.busy": "2022-07-22T11:40:46.231187Z",
     "iopub.status.idle": "2022-07-22T11:40:46.238717Z",
     "shell.execute_reply": "2022-07-22T11:40:46.236602Z"
    },
    "id": "26acbc37",
    "papermill": {
     "duration": 0.064666,
     "end_time": "2022-07-22T11:40:46.247418",
     "exception": false,
     "start_time": "2022-07-22T11:40:46.182752",
     "status": "completed"
    },
    "tags": []
   },
   "outputs": [],
   "source": [
    "# ABC_train_test2.training_GAN_skip_connection(disc3,gen3,disc_opt,gen_opt,train_data,batch_size,n_epochs,criterion,prior_model,variance,bias,device)"
   ]
  },
  {
   "cell_type": "code",
   "execution_count": 21,
   "id": "c5e0717b",
   "metadata": {
    "execution": {
     "iopub.execute_input": "2022-07-22T11:40:46.319392Z",
     "iopub.status.busy": "2022-07-22T11:40:46.318018Z",
     "iopub.status.idle": "2022-07-22T11:40:46.325505Z",
     "shell.execute_reply": "2022-07-22T11:40:46.323959Z"
    },
    "id": "c5e0717b",
    "papermill": {
     "duration": 0.052124,
     "end_time": "2022-07-22T11:40:46.331381",
     "exception": false,
     "start_time": "2022-07-22T11:40:46.279257",
     "status": "completed"
    },
    "tags": []
   },
   "outputs": [],
   "source": [
    "# ABC_GAN3_metrics=ABC_train_test2.test_generator(gen3,test_data,prior_model,variance,bias,\"3\",device)\n",
    "# sb.glue(\"ABC_GAN_3 Metrics\",ABC_GAN3_metrics)\n",
    "\n",
    "# print(\"MAE\")\n",
    "# print(mean(ABC_GAN3_metrics[1]))"
   ]
  },
  {
   "cell_type": "code",
   "execution_count": 22,
   "id": "c8e46b48",
   "metadata": {
    "execution": {
     "iopub.execute_input": "2022-07-22T11:40:46.397137Z",
     "iopub.status.busy": "2022-07-22T11:40:46.396697Z",
     "iopub.status.idle": "2022-07-22T11:40:46.401844Z",
     "shell.execute_reply": "2022-07-22T11:40:46.400784Z"
    },
    "id": "c8e46b48",
    "papermill": {
     "duration": 0.04723,
     "end_time": "2022-07-22T11:40:46.411279",
     "exception": false,
     "start_time": "2022-07-22T11:40:46.364049",
     "status": "completed"
    },
    "tags": []
   },
   "outputs": [],
   "source": [
    "# sanityChecks.discProbVsError(train_data,disc3,device)\n",
    "# sanityChecks.discProbVsError(test_data,disc3,device)"
   ]
  },
  {
   "cell_type": "markdown",
   "id": "1f0e1551",
   "metadata": {
    "id": "130f3a4d",
    "papermill": {
     "duration": 0.041551,
     "end_time": "2022-07-22T11:40:46.491380",
     "exception": false,
     "start_time": "2022-07-22T11:40:46.449829",
     "status": "completed"
    },
    "tags": []
   },
   "source": [
    "# skipGAN Model with TabNet Generator"
   ]
  },
  {
   "cell_type": "code",
   "execution_count": 23,
   "id": "7570bd76",
   "metadata": {
    "execution": {
     "iopub.execute_input": "2022-07-22T11:40:46.570178Z",
     "iopub.status.busy": "2022-07-22T11:40:46.569450Z",
     "iopub.status.idle": "2022-07-22T11:40:46.593917Z",
     "shell.execute_reply": "2022-07-22T11:40:46.592302Z"
    },
    "id": "4e43dad1",
    "papermill": {
     "duration": 0.072898,
     "end_time": "2022-07-22T11:40:46.600523",
     "exception": false,
     "start_time": "2022-07-22T11:40:46.527625",
     "status": "completed"
    },
    "tags": []
   },
   "outputs": [],
   "source": [
    "#Generator\n",
    "gen4 = network.GeneratorTabnetskipConnection(n_features+1).to(device)\n",
    "constraints=network.weightConstraint()\n",
    "#Discriminator \n",
    "disc4 = network.Discriminator(n_features+1).to(device)\n",
    "\n",
    "criterion = torch.nn.BCELoss()\n",
    "gen_opt = torch.optim.Adam(gen4.parameters(), lr=0.001, betas=(0.5, 0.999))\n",
    "disc_opt = torch.optim.Adam(disc4.parameters(), lr=0.001, betas=(0.5, 0.999))\n"
   ]
  },
  {
   "cell_type": "code",
   "execution_count": 24,
   "id": "5818bd91",
   "metadata": {
    "execution": {
     "iopub.execute_input": "2022-07-22T11:40:46.675899Z",
     "iopub.status.busy": "2022-07-22T11:40:46.674956Z",
     "iopub.status.idle": "2022-07-22T11:44:02.461429Z",
     "shell.execute_reply": "2022-07-22T11:44:02.459946Z"
    },
    "id": "26acbc37",
    "papermill": {
     "duration": 195.827483,
     "end_time": "2022-07-22T11:44:02.464527",
     "exception": false,
     "start_time": "2022-07-22T11:40:46.637044",
     "status": "completed"
    },
    "tags": []
   },
   "outputs": [
    {
     "data": {
      "image/png": "[encoded data removed]",
      "text/plain": [
       "<Figure size 432x288 with 1 Axes>"
      ]
     },
     "metadata": {
      "needs_background": "light"
     },
     "output_type": "display_data"
    },
    {
     "data": {
      "image/png": "[encoded data removed]",
      "text/plain": [
       "<Figure size 432x288 with 1 Axes>"
      ]
     },
     "metadata": {
      "needs_background": "light"
     },
     "output_type": "display_data"
    }
   ],
   "source": [
    "ABC_train_test2.training_GAN_skip_connection(disc4,gen4,disc_opt,gen_opt,train_data,batch_size,n_epochs,criterion,prior_model,variance,bias,device)"
   ]
  },
  {
   "cell_type": "code",
   "execution_count": 25,
   "id": "bcedbc32",
   "metadata": {
    "execution": {
     "iopub.execute_input": "2022-07-22T11:44:02.515329Z",
     "iopub.status.busy": "2022-07-22T11:44:02.515004Z",
     "iopub.status.idle": "2022-07-22T11:44:04.778364Z",
     "shell.execute_reply": "2022-07-22T11:44:04.776458Z"
    },
    "id": "c5e0717b",
    "papermill": {
     "duration": 2.293801,
     "end_time": "2022-07-22T11:44:04.781605",
     "exception": false,
     "start_time": "2022-07-22T11:44:02.487804",
     "status": "completed"
    },
    "tags": []
   },
   "outputs": [
    {
     "data": {
      "application/scrapbook.scrap.json+json": {
       "data": 0.5098272652150706,
       "encoder": "json",
       "name": "ABC-GAN Model 3 MSE",
       "version": 1
      }
     },
     "metadata": {
      "scrapbook": {
       "data": true,
       "display": false,
       "name": "ABC-GAN Model 3 MSE"
      }
     },
     "output_type": "display_data"
    },
    {
     "data": {
      "application/scrapbook.scrap.json+json": {
       "data": 0.5419747740924359,
       "encoder": "json",
       "name": "ABC-GAN Model 3 MAE",
       "version": 1
      }
     },
     "metadata": {
      "scrapbook": {
       "data": true,
       "display": false,
       "name": "ABC-GAN Model 3 MAE"
      }
     },
     "output_type": "display_data"
    },
    {
     "data": {
      "application/scrapbook.scrap.json+json": {
       "data": 10.839495481848717,
       "encoder": "json",
       "name": "ABC-GAN Model 3 Manhattan Distance",
       "version": 1
      }
     },
     "metadata": {
      "scrapbook": {
       "data": true,
       "display": false,
       "name": "ABC-GAN Model 3 Manhattan Distance"
      }
     },
     "output_type": "display_data"
    },
    {
     "data": {
      "application/scrapbook.scrap.json+json": {
       "data": 3.1931923040489534,
       "encoder": "json",
       "name": "ABC-GAN Model 3 Euclidean distance",
       "version": 1
      }
     },
     "metadata": {
      "scrapbook": {
       "data": true,
       "display": false,
       "name": "ABC-GAN Model 3 Euclidean distance"
      }
     },
     "output_type": "display_data"
    },
    {
     "data": {
      "application/scrapbook.scrap.json+json": {
       "data": [
        [
         0.5097548199318711,
         0.5106143229304023,
         0.5120053912470686,
         0.5090622307499619,
         0.5090215199306782,
         0.5129619591811211,
         0.5031497582469739,
         0.5118282014215633,
         0.5104534198268118,
         0.5121036970780855,
         0.5108671551150713,
         0.5122277388597769,
         0.5091169469786534,
         0.5103111199197464,
         0.5084306328124502,
         0.5070324139038104,
         0.5087307584220423,
         0.5036717298025288,
         0.5077420082466328,
         0.5105922276096981,
         0.5137325283844417,
         0.5094479541554685,
         0.5097150331687563,
         0.5125016124810495,
         0.5077601250639758,
         0.506182531773749,
         0.5116448680560092,
         0.5114156706452403,
         0.5089470965367974,
         0.5139181072517519,
         0.5108634366575658,
         0.5039142828603463,
         0.5109572193576459,
         0.5131375203648039,
         0.5099476393708193,
         0.510755357550029,
         0.510425478271001,
         0.5082406387690571,
         0.5080220676324582,
         0.5108683670893066,
         0.5074885459118816,
         0.5067768072349379,
         0.5062591596803785,
         0.510118350280002,
         0.5060619896800418,
         0.5076793538866453,
         0.5076866337394759,
         0.5145370590652435,
         0.5114565354624339,
         0.5153088376482491,
         0.5089310954869063,
         0.5063717270032712,
         0.5130865442781343,
         0.5077165554623482,
         0.5114507868532132,
         0.5115643186923433,
         0.5093304199411018,
         0.5077250189634639,
         0.508503268392698,
         0.5134205141588339,
         0.5126877801458873,
         0.5093342974036804,
         0.5049422302247863,
         0.5083601338120876,
         0.5114085555002854,
         0.5098598314355802,
         0.508689051485747,
         0.5084812170871394,
         0.5082213070005211,
         0.5085273834087407,
         0.5145082729792283,
         0.5142056941114199,
         0.5103035178353275,
         0.5132742406268721,
         0.5055426728424645,
         0.5062212763178184,
         0.5067949402192993,
         0.5134043886632783,
         0.5141915221959008,
         0.5137659814106498,
         0.509897172352616,
         0.511308336223707,
         0.5077772567615769,
         0.509579912487766,
         0.5081149802528636,
         0.5089006721110627,
         0.5103535613451622,
         0.5084705292972387,
         0.5078356979991262,
         0.5088333507171667,
         0.5099454626002676,
         0.509696570467057,
         0.5145254950922585,
         0.5082438820515329,
         0.505974530806758,
         0.5120016264661622,
         0.513964992046954,
         0.5067642346905525,
         0.5127926698738554,
         0.5114721836798419
        ],
        [
         0.5434293188154697,
         0.5438516117632389,
         0.5411948956549167,
         0.5406299836933612,
         0.5427419580519199,
         0.5424363680183888,
         0.5373464651405812,
         0.543011949211359,
         0.5431195802986621,
         0.5423119105398655,
         0.5425072588026524,
         0.5436756081879139,
         0.5415523685514927,
         0.5412601955235005,
         0.5399024970829487,
         0.5395134218037129,
         0.5423546828329563,
         0.5363929487764836,
         0.5407163955271244,
         0.5412970371544361,
         0.5456105686724186,
         0.5416913159191609,
         0.542897642403841,
         0.5441826291382312,
         0.5405145950615406,
         0.541556141525507,
         0.5434507377445698,
         0.5440226353704929,
         0.5395531423389912,
         0.5445431925356388,
         0.5428724326193333,
         0.5372710056602955,
         0.5442846722900867,
         0.5460419245064259,
         0.5447745360434055,
         0.5435039795935154,
         0.5446158178150654,
         0.542040578275919,
         0.5410420633852482,
         0.5427393473684787,
         0.5416549928486347,
         0.5404177434742451,
         0.5409590519964695,
         0.5424169547855854,
         0.540459368377924,
         0.5397567965090275,
         0.5380441196262836,
         0.5446257390081882,
         0.5442260392010212,
         0.5451026178896428,
         0.5404796071350575,
         0.5391578562557697,
         0.5431983061134815,
         0.5393021203577518,
         0.5412233300507069,
         0.5430221147835255,
         0.5426459200680256,
         0.5399722941219807,
         0.5409306414425373,
         0.5430599398910999,
         0.5423954851925373,
         0.5404975183308125,
         0.540468368679285,
         0.5398200459778308,
         0.5440654523670674,
         0.5413150765001774,
         0.542927510291338,
         0.5418413199484349,
         0.5412198759615421,
         0.5429510690271855,
         0.5441646911203861,
         0.546043298393488,
         0.5429377354681492,
         0.54363509491086,
         0.5369291372597218,
         0.5405417747795582,
         0.5400858052074909,
         0.5433079041540623,
         0.5441354222595691,
         0.543205339461565,
         0.5424915321171284,
         0.5423124082386493,
         0.5421127088367939,
         0.5409069813787937,
         0.5417219080030918,
         0.5395923145115376,
         0.5418196476995945,
         0.5402985580265522,
         0.5402220256626606,
         0.5377833552658557,
         0.5428501345217228,
         0.5425354398787021,
         0.5466894932091236,
         0.5408598311245442,
         0.5395812012255192,
         0.5410198695957661,
         0.5431355960667134,
         0.5409841813147068,
         0.5456075735390187,
         0.5453537560999393
        ],
        [
         10.868586376309395,
         10.877032235264778,
         10.823897913098335,
         10.812599673867226,
         10.854839161038399,
         10.848727360367775,
         10.746929302811623,
         10.86023898422718,
         10.862391605973244,
         10.84623821079731,
         10.850145176053047,
         10.873512163758278,
         10.831047371029854,
         10.825203910470009,
         10.798049941658974,
         10.790268436074257,
         10.847093656659126,
         10.72785897552967,
         10.814327910542488,
         10.825940743088722,
         10.912211373448372,
         10.833826318383217,
         10.85795284807682,
         10.883652582764626,
         10.810291901230812,
         10.83112283051014,
         10.869014754891396,
         10.880452707409859,
         10.791062846779823,
         10.890863850712776,
         10.857448652386665,
         10.74542011320591,
         10.885693445801735,
         10.920838490128517,
         10.89549072086811,
         10.870079591870308,
         10.892316356301308,
         10.84081156551838,
         10.820841267704964,
         10.854786947369576,
         10.833099856972694,
         10.808354869484901,
         10.81918103992939,
         10.848339095711708,
         10.80918736755848,
         10.79513593018055,
         10.760882392525673,
         10.892514780163765,
         10.884520784020424,
         10.902052357792854,
         10.809592142701149,
         10.783157125115395,
         10.86396612226963,
         10.786042407155037,
         10.824466601014137,
         10.86044229567051,
         10.852918401360512,
         10.799445882439613,
         10.818612828850746,
         10.861198797821999,
         10.847909703850746,
         10.809950366616249,
         10.809367373585701,
         10.796400919556618,
         10.881309047341347,
         10.826301530003548,
         10.85855020582676,
         10.836826398968697,
         10.824397519230843,
         10.859021380543709,
         10.883293822407722,
         10.920865967869759,
         10.858754709362984,
         10.872701898217201,
         10.738582745194435,
         10.810835495591164,
         10.801716104149818,
         10.866158083081245,
         10.882708445191383,
         10.8641067892313,
         10.849830642342567,
         10.846248164772987,
         10.842254176735878,
         10.818139627575874,
         10.834438160061836,
         10.791846290230751,
         10.83639295399189,
         10.805971160531044,
         10.804440513253212,
         10.755667105317116,
         10.857002690434456,
         10.850708797574043,
         10.933789864182472,
         10.817196622490883,
         10.791624024510384,
         10.820397391915321,
         10.862711921334267,
         10.819683626294136,
         10.912151470780373,
         10.907075121998787
        ],
        [
         3.1929761036746616,
         3.195666825344602,
         3.200016847602739,
         3.190806264096778,
         3.190678673670159,
         3.20300471177025,
         3.172222433080549,
         3.199463084398891,
         3.1951632816706312,
         3.2003240369627743,
         3.1964578993475614,
         3.200711604814707,
         3.190977740375678,
         3.1947178902674533,
         3.1888262191986887,
         3.1844384556898264,
         3.1897672592903774,
         3.1738674509264837,
         3.186665995195081,
         3.195597683093722,
         3.2054095787728647,
         3.1920148939360184,
         3.1928514940997688,
         3.2015671552570923,
         3.1867228466372026,
         3.181768476095484,
         3.198890020166399,
         3.1981734494715583,
         3.1904454125930357,
         3.2059884817377364,
         3.1964462662699833,
         3.174631578184613,
         3.1967396495731273,
         3.2035527789153213,
         3.193579932836563,
         3.196108125674189,
         3.1950758309342238,
         3.1882303516811863,
         3.1875447216704527,
         3.196461690961763,
         3.185870511844076,
         3.1836356802716543,
         3.1820093013075197,
         3.194114432139218,
         3.1813896010392746,
         3.1864693749874493,
         3.186492221046447,
         3.207918512260695,
         3.198301222406776,
         3.210323465472752,
         3.190395259170582,
         3.1823630434105756,
         3.203393651358304,
         3.186586121423202,
         3.198283248410663,
         3.198638206150684,
         3.1916466594568447,
         3.186612681087753,
         3.1890539926213166,
         3.2044360319994967,
         3.202148591636208,
         3.1916588082176967,
         3.1778679337719065,
         3.1886051301849454,
         3.198151201867371,
         3.1933049695748768,
         3.189636504323798,
         3.1889848450161673,
         3.188169716312233,
         3.1891296098112436,
         3.2078287765378883,
         3.2068853865126514,
         3.1946940943862763,
         3.2039795274841323,
         3.1797568235400155,
         3.1818902442347645,
         3.1836926366070557,
         3.204385709190697,
         3.2068411940596646,
         3.20551394135371,
         3.193421902450774,
         3.197837820226995,
         3.186776605793311,
         3.1924282685371836,
         3.187836194828284,
         3.190299898476827,
         3.194850736247821,
         3.1889513301310783,
         3.186959987195089,
         3.1900888724835452,
         3.1935731167464056,
         3.1927936684573184,
         3.2078824638451406,
         3.1882405243379393,
         3.181114681386881,
         3.20000508270272,
         3.2061347197114283,
         3.183596188873685,
         3.2024761353485696,
         3.1983501486855435
        ]
       ],
       "encoder": "json",
       "name": "ABC_GAN_4 Metrics",
       "version": 1
      }
     },
     "metadata": {
      "scrapbook": {
       "data": true,
       "display": false,
       "name": "ABC_GAN_4 Metrics"
      }
     },
     "output_type": "display_data"
    },
    {
     "name": "stdout",
     "output_type": "stream",
     "text": [
      "MAE\n",
      "0.5419747740924359\n"
     ]
    }
   ],
   "source": [
    "ABC_GAN4_metrics=ABC_train_test2.test_generator(gen4,test_data,prior_model,variance,bias,\"3\",device)\n",
    "sb.glue(\"ABC_GAN_4 Metrics\",ABC_GAN4_metrics)\n",
    "\n",
    "print(\"MAE\")\n",
    "print(mean(ABC_GAN4_metrics[1]))"
   ]
  },
  {
   "cell_type": "code",
   "execution_count": 26,
   "id": "16d1cf51",
   "metadata": {
    "execution": {
     "iopub.execute_input": "2022-07-22T11:44:04.859852Z",
     "iopub.status.busy": "2022-07-22T11:44:04.859378Z",
     "iopub.status.idle": "2022-07-22T11:44:06.174425Z",
     "shell.execute_reply": "2022-07-22T11:44:06.171927Z"
    },
    "id": "c8e46b48",
    "papermill": {
     "duration": 1.355194,
     "end_time": "2022-07-22T11:44:06.178641",
     "exception": false,
     "start_time": "2022-07-22T11:44:04.823447",
     "status": "completed"
    },
    "tags": []
   },
   "outputs": [
    {
     "data": {
      "image/png": "[encoded data removed]",
      "text/plain": [
       "<Figure size 432x288 with 1 Axes>"
      ]
     },
     "metadata": {
      "needs_background": "light"
     },
     "output_type": "display_data"
    },
    {
     "data": {
      "image/png": "[encoded data removed]",
      "text/plain": [
       "<Figure size 432x288 with 1 Axes>"
      ]
     },
     "metadata": {
      "needs_background": "light"
     },
     "output_type": "display_data"
    },
    {
     "data": {
      "image/png": "[encoded data removed]",
      "text/plain": [
       "<Figure size 432x288 with 1 Axes>"
      ]
     },
     "metadata": {
      "needs_background": "light"
     },
     "output_type": "display_data"
    },
    {
     "data": {
      "image/png": "[encoded data removed]",
      "text/plain": [
       "<Figure size 432x288 with 1 Axes>"
      ]
     },
     "metadata": {
      "needs_background": "light"
     },
     "output_type": "display_data"
    }
   ],
   "source": [
    "sanityChecks.discProbVsError(train_data,disc4,device)\n",
    "sanityChecks.discProbVsError(test_data,disc4,device)"
   ]
  },
  {
   "cell_type": "markdown",
   "id": "a5bd74c3",
   "metadata": {
    "id": "a5bd74c3",
    "papermill": {
     "duration": 0.046397,
     "end_time": "2022-07-22T11:44:06.259743",
     "exception": false,
     "start_time": "2022-07-22T11:44:06.213346",
     "status": "completed"
    },
    "tags": []
   },
   "source": [
    "## Skip Connection Model Analysis - ABC-GAN "
   ]
  },
  {
   "cell_type": "markdown",
   "id": "5744a8bf",
   "metadata": {
    "id": "5744a8bf",
    "papermill": {
     "duration": 0.050822,
     "end_time": "2022-07-22T11:44:06.358679",
     "exception": false,
     "start_time": "2022-07-22T11:44:06.307857",
     "status": "completed"
    },
    "tags": []
   },
   "source": [
    "### Weight Analysis \n",
    "\n",
    "Study the weights of the skip connection layer\n",
    "\n",
    "Equation of the skip connection is \n",
    "\n",
    "$output = y_{gan} * w + y_{abc} * (1-w)$"
   ]
  },
  {
   "cell_type": "code",
   "execution_count": 27,
   "id": "52c31dea",
   "metadata": {
    "execution": {
     "iopub.execute_input": "2022-07-22T11:44:06.451272Z",
     "iopub.status.busy": "2022-07-22T11:44:06.450496Z",
     "iopub.status.idle": "2022-07-22T11:44:06.455894Z",
     "shell.execute_reply": "2022-07-22T11:44:06.454703Z"
    },
    "id": "52c31dea",
    "papermill": {
     "duration": 0.060428,
     "end_time": "2022-07-22T11:44:06.460214",
     "exception": false,
     "start_time": "2022-07-22T11:44:06.399786",
     "status": "completed"
    },
    "tags": []
   },
   "outputs": [],
   "source": [
    "# print(\"Weight of the node at skip connection\")\n",
    "# for name,param in gen3.named_parameters():\n",
    "#     if(name == \"skipNode.weight\"):\n",
    "#         print(param)\n",
    "#         sb.glue(\"Skip Connection Weight\",param.item())"
   ]
  },
  {
   "cell_type": "markdown",
   "id": "c1662e56",
   "metadata": {
    "id": "a5bd74c3",
    "papermill": {
     "duration": 0.050649,
     "end_time": "2022-07-22T11:44:06.550771",
     "exception": false,
     "start_time": "2022-07-22T11:44:06.500122",
     "status": "completed"
    },
    "tags": []
   },
   "source": [
    "## skipGAN Model Analysis (TabNet Generator) "
   ]
  },
  {
   "cell_type": "markdown",
   "id": "54b5c4ad",
   "metadata": {
    "id": "5744a8bf",
    "papermill": {
     "duration": 0.055682,
     "end_time": "2022-07-22T11:44:06.670088",
     "exception": false,
     "start_time": "2022-07-22T11:44:06.614406",
     "status": "completed"
    },
    "tags": []
   },
   "source": [
    "### Weight Analysis \n",
    "\n",
    "Study the weights of the skip connection layer\n",
    "\n",
    "Equation of the skip connection is \n",
    "\n",
    "$output = y_{gan} * w + y_{abc} * (1-w)$"
   ]
  },
  {
   "cell_type": "code",
   "execution_count": 28,
   "id": "9c4a39d5",
   "metadata": {
    "execution": {
     "iopub.execute_input": "2022-07-22T11:44:06.774991Z",
     "iopub.status.busy": "2022-07-22T11:44:06.774565Z",
     "iopub.status.idle": "2022-07-22T11:44:06.793391Z",
     "shell.execute_reply": "2022-07-22T11:44:06.792330Z"
    },
    "id": "52c31dea",
    "papermill": {
     "duration": 0.078858,
     "end_time": "2022-07-22T11:44:06.799455",
     "exception": false,
     "start_time": "2022-07-22T11:44:06.720597",
     "status": "completed"
    },
    "tags": []
   },
   "outputs": [
    {
     "name": "stdout",
     "output_type": "stream",
     "text": [
      "Weight of the node at skip connection\n",
      "Parameter containing:\n",
      "tensor([[0.2128]], requires_grad=True)\n"
     ]
    },
    {
     "data": {
      "application/scrapbook.scrap.json+json": {
       "data": 0.2128216028213501,
       "encoder": "json",
       "name": "Skip Connection Weight",
       "version": 1
      }
     },
     "metadata": {
      "scrapbook": {
       "data": true,
       "display": false,
       "name": "Skip Connection Weight"
      }
     },
     "output_type": "display_data"
    }
   ],
   "source": [
    "print(\"Weight of the node at skip connection\")\n",
    "for name,param in gen4.named_parameters():\n",
    "    if(name == \"skipNode.weight\"):\n",
    "        print(param)\n",
    "        sb.glue(\"Skip Connection Weight\",param.item())"
   ]
  }
 ],
 "metadata": {
  "colab": {
   "collapsed_sections": [],
   "name": "ABC_GAN_Model-Catboost_Pre-gen.ipynb",
   "provenance": []
  },
  "interpreter": {
   "hash": "31f2aee4e71d21fbe5cf8b01ff0e069b9275f58929596ceb00d14d90e3e16cd6"
  },
  "kernelspec": {
   "display_name": "Python 3 (ipykernel)",
   "language": "python",
   "name": "python3"
  },
  "language_info": {
   "codemirror_mode": {
    "name": "ipython",
    "version": 3
   },
   "file_extension": ".py",
   "mimetype": "text/x-python",
   "name": "python",
   "nbconvert_exporter": "python",
   "pygments_lexer": "ipython3",
   "version": "3.8.13"
  },
  "papermill": {
   "default_parameters": {},
   "duration": 415.57391,
   "end_time": "2022-07-22T11:44:07.744443",
   "environment_variables": {},
   "exception": null,
   "input_path": "ABC_GAN-TabNet.ipynb",
   "output_path": "./ABC_GAN_TabNet/ABC-GAN_output_3_2.ipynb",
   "parameters": {
    "bias": 1,
    "variance": 0.01
   },
   "start_time": "2022-07-22T11:37:12.170533",
   "version": "2.3.3"
  }
 },
 "nbformat": 4,
 "nbformat_minor": 5
}