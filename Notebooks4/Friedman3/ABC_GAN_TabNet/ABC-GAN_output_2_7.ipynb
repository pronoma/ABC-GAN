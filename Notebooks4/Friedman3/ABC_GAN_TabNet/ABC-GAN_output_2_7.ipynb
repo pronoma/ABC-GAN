{
 "cells": [
  {
   "cell_type": "markdown",
   "id": "622780e6",
   "metadata": {
    "id": "622780e6",
    "papermill": {
     "duration": 0.015067,
     "end_time": "2022-07-22T10:33:13.543250",
     "exception": false,
     "start_time": "2022-07-22T10:33:13.528183",
     "status": "completed"
    },
    "tags": []
   },
   "source": [
    "## Import Libraries "
   ]
  },
  {
   "cell_type": "code",
   "execution_count": 1,
   "id": "a62397e3",
   "metadata": {
    "execution": {
     "iopub.execute_input": "2022-07-22T10:33:13.578645Z",
     "iopub.status.busy": "2022-07-22T10:33:13.576614Z",
     "iopub.status.idle": "2022-07-22T10:33:13.602894Z",
     "shell.execute_reply": "2022-07-22T10:33:13.600809Z"
    },
    "id": "a62397e3",
    "papermill": {
     "duration": 0.049166,
     "end_time": "2022-07-22T10:33:13.607361",
     "exception": false,
     "start_time": "2022-07-22T10:33:13.558195",
     "status": "completed"
    },
    "tags": []
   },
   "outputs": [],
   "source": [
    "import warnings\n",
    "import sys\n",
    "sys.path.insert(0, '../../src')\n",
    "warnings.filterwarnings('ignore')"
   ]
  },
  {
   "cell_type": "code",
   "execution_count": 2,
   "id": "d6a4e155",
   "metadata": {
    "execution": {
     "iopub.execute_input": "2022-07-22T10:33:13.631192Z",
     "iopub.status.busy": "2022-07-22T10:33:13.630515Z",
     "iopub.status.idle": "2022-07-22T10:33:23.966715Z",
     "shell.execute_reply": "2022-07-22T10:33:23.964304Z"
    },
    "id": "d6a4e155",
    "papermill": {
     "duration": 10.351832,
     "end_time": "2022-07-22T10:33:23.970086",
     "exception": false,
     "start_time": "2022-07-22T10:33:13.618254",
     "status": "completed"
    },
    "tags": []
   },
   "outputs": [],
   "source": [
    "import ABC_train_test2\n",
    "import friedman3Dataset\n",
    "import network\n",
    "import dataset\n",
    "import sanityChecks\n",
    "import torch \n",
    "import scrapbook as sb\n",
    "from statistics import mean \n",
    "import catboost as ctb \n",
    "from sklearn.model_selection import train_test_split\n",
    "from sklearn.metrics import mean_squared_error,mean_absolute_error\n",
    "import numpy as np\n",
    "from pytorch_tabnet.tab_model import TabNetRegressor"
   ]
  },
  {
   "cell_type": "markdown",
   "id": "2fa5b0f7",
   "metadata": {
    "id": "2fa5b0f7",
    "papermill": {
     "duration": 0.00868,
     "end_time": "2022-07-22T10:33:23.987259",
     "exception": false,
     "start_time": "2022-07-22T10:33:23.978579",
     "status": "completed"
    },
    "tags": []
   },
   "source": [
    "## Parameters "
   ]
  },
  {
   "cell_type": "code",
   "execution_count": 3,
   "id": "783186fb",
   "metadata": {
    "execution": {
     "iopub.execute_input": "2022-07-22T10:33:24.010037Z",
     "iopub.status.busy": "2022-07-22T10:33:24.009413Z",
     "iopub.status.idle": "2022-07-22T10:33:24.019367Z",
     "shell.execute_reply": "2022-07-22T10:33:24.017530Z"
    },
    "id": "783186fb",
    "papermill": {
     "duration": 0.029911,
     "end_time": "2022-07-22T10:33:24.026633",
     "exception": false,
     "start_time": "2022-07-22T10:33:23.996722",
     "status": "completed"
    },
    "tags": [
     "parameters"
    ]
   },
   "outputs": [],
   "source": [
    "variance = 1\n",
    "bias = 1 "
   ]
  },
  {
   "cell_type": "code",
   "execution_count": 4,
   "id": "b6e26c0e",
   "metadata": {
    "execution": {
     "iopub.execute_input": "2022-07-22T10:33:24.052743Z",
     "iopub.status.busy": "2022-07-22T10:33:24.051574Z",
     "iopub.status.idle": "2022-07-22T10:33:24.058997Z",
     "shell.execute_reply": "2022-07-22T10:33:24.056117Z"
    },
    "papermill": {
     "duration": 0.025467,
     "end_time": "2022-07-22T10:33:24.064826",
     "exception": false,
     "start_time": "2022-07-22T10:33:24.039359",
     "status": "completed"
    },
    "tags": [
     "injected-parameters"
    ]
   },
   "outputs": [],
   "source": [
    "# Parameters\n",
    "variance = 0.1\n",
    "bias = 0.01\n"
   ]
  },
  {
   "cell_type": "markdown",
   "id": "391cdbfd",
   "metadata": {
    "id": "391cdbfd",
    "papermill": {
     "duration": 0.010024,
     "end_time": "2022-07-22T10:33:24.083483",
     "exception": false,
     "start_time": "2022-07-22T10:33:24.073459",
     "status": "completed"
    },
    "tags": []
   },
   "source": [
    "## Dataset \n"
   ]
  },
  {
   "cell_type": "code",
   "execution_count": 5,
   "id": "5b51f161",
   "metadata": {
    "execution": {
     "iopub.execute_input": "2022-07-22T10:33:24.117191Z",
     "iopub.status.busy": "2022-07-22T10:33:24.115740Z",
     "iopub.status.idle": "2022-07-22T10:33:24.125521Z",
     "shell.execute_reply": "2022-07-22T10:33:24.123803Z"
    },
    "id": "5b51f161",
    "papermill": {
     "duration": 0.033639,
     "end_time": "2022-07-22T10:33:24.131866",
     "exception": false,
     "start_time": "2022-07-22T10:33:24.098227",
     "status": "completed"
    },
    "tags": []
   },
   "outputs": [],
   "source": [
    "#Parameters \n",
    "n_features = 4\n",
    "n_samples= 100\n",
    "n_target = 1"
   ]
  },
  {
   "cell_type": "code",
   "execution_count": 6,
   "id": "5d6eced4",
   "metadata": {
    "execution": {
     "iopub.execute_input": "2022-07-22T10:33:24.163375Z",
     "iopub.status.busy": "2022-07-22T10:33:24.162716Z",
     "iopub.status.idle": "2022-07-22T10:33:24.182707Z",
     "shell.execute_reply": "2022-07-22T10:33:24.181225Z"
    },
    "id": "5d6eced4",
    "papermill": {
     "duration": 0.05629,
     "end_time": "2022-07-22T10:33:24.203163",
     "exception": false,
     "start_time": "2022-07-22T10:33:24.146873",
     "status": "completed"
    },
    "tags": []
   },
   "outputs": [
    {
     "name": "stdout",
     "output_type": "stream",
     "text": [
      "          X1           X2        X3         X4         Y\n",
      "0   3.477256   918.776538  0.773779   9.886239  1.792516\n",
      "1  46.323715   317.373931  0.098135   4.424864  0.675265\n",
      "2  85.433999   809.908997  0.329461   9.364297  1.119768\n",
      "3  10.344086  1708.454619  0.838339  10.001504  1.546625\n",
      "4  57.058626   635.740705  0.525137   9.261685  1.403309\n"
     ]
    }
   ],
   "source": [
    "X,Y = friedman3Dataset.friedman3_data(n_samples)"
   ]
  },
  {
   "cell_type": "code",
   "execution_count": 7,
   "id": "fe007438",
   "metadata": {
    "execution": {
     "iopub.execute_input": "2022-07-22T10:33:24.224025Z",
     "iopub.status.busy": "2022-07-22T10:33:24.223033Z",
     "iopub.status.idle": "2022-07-22T10:33:24.232107Z",
     "shell.execute_reply": "2022-07-22T10:33:24.228788Z"
    },
    "id": "fe007438",
    "papermill": {
     "duration": 0.041105,
     "end_time": "2022-07-22T10:33:24.252411",
     "exception": false,
     "start_time": "2022-07-22T10:33:24.211306",
     "status": "completed"
    },
    "tags": []
   },
   "outputs": [],
   "source": [
    "#Train test split for dataset \n",
    "X_train,X_test,Y_train,Y_test = train_test_split(X,Y,test_size = 0.2)\n",
    "train_data = dataset.CustomDataset(X_train,Y_train)\n",
    "test_data = dataset.CustomDataset(X_test,Y_test)\n"
   ]
  },
  {
   "cell_type": "markdown",
   "id": "a9a1af34",
   "metadata": {
    "id": "a9a1af34",
    "papermill": {
     "duration": 0.01315,
     "end_time": "2022-07-22T10:33:24.273145",
     "exception": false,
     "start_time": "2022-07-22T10:33:24.259995",
     "status": "completed"
    },
    "tags": []
   },
   "source": [
    "## Training Parameters "
   ]
  },
  {
   "cell_type": "code",
   "execution_count": 8,
   "id": "952b7fc8",
   "metadata": {
    "execution": {
     "iopub.execute_input": "2022-07-22T10:33:24.293833Z",
     "iopub.status.busy": "2022-07-22T10:33:24.292744Z",
     "iopub.status.idle": "2022-07-22T10:33:24.301808Z",
     "shell.execute_reply": "2022-07-22T10:33:24.298742Z"
    },
    "id": "952b7fc8",
    "papermill": {
     "duration": 0.02918,
     "end_time": "2022-07-22T10:33:24.310507",
     "exception": false,
     "start_time": "2022-07-22T10:33:24.281327",
     "status": "completed"
    },
    "tags": []
   },
   "outputs": [],
   "source": [
    "batch_size = 32\n",
    "n_epochs = 1000\n",
    "#Select the device \n",
    "device = torch.device('cuda' if torch.cuda.is_available() else 'cpu')"
   ]
  },
  {
   "cell_type": "markdown",
   "id": "a95e1600",
   "metadata": {
    "id": "a95e1600",
    "papermill": {
     "duration": 0.055742,
     "end_time": "2022-07-22T10:33:24.374715",
     "exception": false,
     "start_time": "2022-07-22T10:33:24.318973",
     "status": "completed"
    },
    "tags": []
   },
   "source": [
    "# ABC Pre-generator Model \n",
    "\n",
    "1. The catboost model is used as a pre-generator model for the ABC-GAN. \n",
    "2. The model is first trained on the entire dataset \n",
    "3. It generats X,Y pairs and we add some Gaussian noise with mean 0 and variance 1 to it which is then feed as input to the generator.\n"
   ]
  },
  {
   "cell_type": "code",
   "execution_count": 9,
   "id": "ac011ebf",
   "metadata": {
    "execution": {
     "iopub.execute_input": "2022-07-22T10:33:24.437831Z",
     "iopub.status.busy": "2022-07-22T10:33:24.437317Z",
     "iopub.status.idle": "2022-07-22T10:34:16.620937Z",
     "shell.execute_reply": "2022-07-22T10:34:16.619643Z"
    },
    "papermill": {
     "duration": 52.242735,
     "end_time": "2022-07-22T10:34:16.626277",
     "exception": false,
     "start_time": "2022-07-22T10:33:24.383542",
     "status": "completed"
    },
    "tags": []
   },
   "outputs": [
    {
     "name": "stdout",
     "output_type": "stream",
     "text": [
      "Device used : cpu\n"
     ]
    },
    {
     "name": "stdout",
     "output_type": "stream",
     "text": [
      "epoch 0  | loss: 1.21029 | train_mse: 3.44046 | train_mae: 1.38897 |  0:00:00s\n",
      "epoch 1  | loss: 1.42085 | train_mse: 2.70812 | train_mae: 1.28557 |  0:00:00s\n"
     ]
    },
    {
     "name": "stdout",
     "output_type": "stream",
     "text": [
      "epoch 2  | loss: 1.17159 | train_mse: 2.61213 | train_mae: 1.28593 |  0:00:00s\n"
     ]
    },
    {
     "name": "stdout",
     "output_type": "stream",
     "text": [
      "epoch 3  | loss: 1.17327 | train_mse: 2.3313  | train_mae: 1.22414 |  0:00:00s\n",
      "epoch 4  | loss: 1.27483 | train_mse: 2.06914 | train_mae: 1.13125 |  0:00:01s\n"
     ]
    },
    {
     "name": "stdout",
     "output_type": "stream",
     "text": [
      "epoch 5  | loss: 1.12022 | train_mse: 1.91057 | train_mae: 1.10119 |  0:00:01s\n",
      "epoch 6  | loss: 0.99892 | train_mse: 1.69693 | train_mae: 1.04028 |  0:00:01s\n"
     ]
    },
    {
     "name": "stdout",
     "output_type": "stream",
     "text": [
      "epoch 7  | loss: 0.94296 | train_mse: 1.50557 | train_mae: 0.98469 |  0:00:01s\n"
     ]
    },
    {
     "name": "stdout",
     "output_type": "stream",
     "text": [
      "epoch 8  | loss: 0.85032 | train_mse: 1.38378 | train_mae: 0.94036 |  0:00:01s\n",
      "epoch 9  | loss: 0.82173 | train_mse: 1.27371 | train_mae: 0.89511 |  0:00:01s\n"
     ]
    },
    {
     "name": "stdout",
     "output_type": "stream",
     "text": [
      "epoch 10 | loss: 1.10698 | train_mse: 1.22139 | train_mae: 0.86667 |  0:00:02s\n",
      "epoch 11 | loss: 0.83208 | train_mse: 1.11936 | train_mae: 0.82319 |  0:00:02s\n"
     ]
    },
    {
     "name": "stdout",
     "output_type": "stream",
     "text": [
      "epoch 12 | loss: 0.90934 | train_mse: 1.03489 | train_mae: 0.77925 |  0:00:02s\n",
      "epoch 13 | loss: 0.72414 | train_mse: 0.95474 | train_mae: 0.73728 |  0:00:02s\n"
     ]
    },
    {
     "name": "stdout",
     "output_type": "stream",
     "text": [
      "epoch 14 | loss: 0.77422 | train_mse: 0.88032 | train_mae: 0.70155 |  0:00:02s\n",
      "epoch 15 | loss: 0.65229 | train_mse: 0.83766 | train_mae: 0.67866 |  0:00:02s\n"
     ]
    },
    {
     "name": "stdout",
     "output_type": "stream",
     "text": [
      "epoch 16 | loss: 0.73405 | train_mse: 0.79134 | train_mae: 0.65336 |  0:00:03s\n",
      "epoch 17 | loss: 0.75302 | train_mse: 0.75412 | train_mae: 0.63294 |  0:00:03s\n"
     ]
    },
    {
     "name": "stdout",
     "output_type": "stream",
     "text": [
      "epoch 18 | loss: 0.71733 | train_mse: 0.7195  | train_mae: 0.61438 |  0:00:03s\n",
      "epoch 19 | loss: 0.721   | train_mse: 0.6897  | train_mae: 0.60423 |  0:00:03s\n"
     ]
    },
    {
     "name": "stdout",
     "output_type": "stream",
     "text": [
      "epoch 20 | loss: 0.7537  | train_mse: 0.67175 | train_mae: 0.59877 |  0:00:03s\n",
      "epoch 21 | loss: 0.60795 | train_mse: 0.64624 | train_mae: 0.59434 |  0:00:03s\n"
     ]
    },
    {
     "name": "stdout",
     "output_type": "stream",
     "text": [
      "epoch 22 | loss: 0.69397 | train_mse: 0.61849 | train_mae: 0.58708 |  0:00:03s\n"
     ]
    },
    {
     "name": "stdout",
     "output_type": "stream",
     "text": [
      "epoch 23 | loss: 0.65502 | train_mse: 0.58171 | train_mae: 0.5735  |  0:00:04s\n",
      "epoch 24 | loss: 0.58374 | train_mse: 0.56402 | train_mae: 0.56899 |  0:00:04s\n"
     ]
    },
    {
     "name": "stdout",
     "output_type": "stream",
     "text": [
      "epoch 25 | loss: 0.55565 | train_mse: 0.5405  | train_mae: 0.56155 |  0:00:04s\n"
     ]
    },
    {
     "name": "stdout",
     "output_type": "stream",
     "text": [
      "epoch 26 | loss: 0.60136 | train_mse: 0.51423 | train_mae: 0.54899 |  0:00:04s\n",
      "epoch 27 | loss: 0.66567 | train_mse: 0.5032  | train_mae: 0.53841 |  0:00:04s\n"
     ]
    },
    {
     "name": "stdout",
     "output_type": "stream",
     "text": [
      "epoch 28 | loss: 0.61782 | train_mse: 0.49665 | train_mae: 0.53102 |  0:00:04s\n"
     ]
    },
    {
     "name": "stdout",
     "output_type": "stream",
     "text": [
      "epoch 29 | loss: 0.52268 | train_mse: 0.49039 | train_mae: 0.5163  |  0:00:05s\n",
      "epoch 30 | loss: 0.42522 | train_mse: 0.48101 | train_mae: 0.51306 |  0:00:05s\n"
     ]
    },
    {
     "name": "stdout",
     "output_type": "stream",
     "text": [
      "epoch 31 | loss: 0.49865 | train_mse: 0.4759  | train_mae: 0.51175 |  0:00:05s\n",
      "epoch 32 | loss: 0.46594 | train_mse: 0.46506 | train_mae: 0.50603 |  0:00:05s\n"
     ]
    },
    {
     "name": "stdout",
     "output_type": "stream",
     "text": [
      "epoch 33 | loss: 0.49866 | train_mse: 0.46356 | train_mae: 0.50366 |  0:00:05s\n",
      "epoch 34 | loss: 0.68379 | train_mse: 0.45289 | train_mae: 0.49474 |  0:00:06s\n"
     ]
    },
    {
     "name": "stdout",
     "output_type": "stream",
     "text": [
      "epoch 35 | loss: 0.44715 | train_mse: 0.44285 | train_mae: 0.48401 |  0:00:06s\n"
     ]
    },
    {
     "name": "stdout",
     "output_type": "stream",
     "text": [
      "epoch 36 | loss: 0.70055 | train_mse: 0.43533 | train_mae: 0.48049 |  0:00:06s\n",
      "epoch 37 | loss: 0.47913 | train_mse: 0.43964 | train_mae: 0.48502 |  0:00:06s\n"
     ]
    },
    {
     "name": "stdout",
     "output_type": "stream",
     "text": [
      "epoch 38 | loss: 0.36738 | train_mse: 0.43569 | train_mae: 0.48184 |  0:00:06s\n",
      "epoch 39 | loss: 0.601   | train_mse: 0.42692 | train_mae: 0.47884 |  0:00:06s\n"
     ]
    },
    {
     "name": "stdout",
     "output_type": "stream",
     "text": [
      "epoch 40 | loss: 0.54246 | train_mse: 0.41412 | train_mae: 0.47507 |  0:00:07s\n",
      "epoch 41 | loss: 0.36384 | train_mse: 0.40905 | train_mae: 0.47052 |  0:00:07s\n"
     ]
    },
    {
     "name": "stdout",
     "output_type": "stream",
     "text": [
      "epoch 42 | loss: 0.35802 | train_mse: 0.39051 | train_mae: 0.46199 |  0:00:07s\n",
      "epoch 43 | loss: 0.50294 | train_mse: 0.37563 | train_mae: 0.4556  |  0:00:07s\n"
     ]
    },
    {
     "name": "stdout",
     "output_type": "stream",
     "text": [
      "epoch 44 | loss: 0.31216 | train_mse: 0.36201 | train_mae: 0.44838 |  0:00:07s\n",
      "epoch 45 | loss: 0.55731 | train_mse: 0.34757 | train_mae: 0.44067 |  0:00:07s\n"
     ]
    },
    {
     "name": "stdout",
     "output_type": "stream",
     "text": [
      "epoch 46 | loss: 0.32705 | train_mse: 0.33826 | train_mae: 0.43409 |  0:00:08s\n",
      "epoch 47 | loss: 0.36875 | train_mse: 0.3398  | train_mae: 0.43297 |  0:00:08s\n"
     ]
    },
    {
     "name": "stdout",
     "output_type": "stream",
     "text": [
      "epoch 48 | loss: 0.53358 | train_mse: 0.34024 | train_mae: 0.42944 |  0:00:08s\n",
      "epoch 49 | loss: 0.38641 | train_mse: 0.3415  | train_mae: 0.41994 |  0:00:08s\n"
     ]
    },
    {
     "name": "stdout",
     "output_type": "stream",
     "text": [
      "epoch 50 | loss: 0.48045 | train_mse: 0.33362 | train_mae: 0.40422 |  0:00:08s\n"
     ]
    },
    {
     "name": "stdout",
     "output_type": "stream",
     "text": [
      "epoch 51 | loss: 0.34888 | train_mse: 0.3305  | train_mae: 0.39768 |  0:00:09s\n",
      "epoch 52 | loss: 0.31239 | train_mse: 0.3217  | train_mae: 0.39391 |  0:00:09s\n"
     ]
    },
    {
     "name": "stdout",
     "output_type": "stream",
     "text": [
      "epoch 53 | loss: 0.38904 | train_mse: 0.30372 | train_mae: 0.38404 |  0:00:09s\n",
      "epoch 54 | loss: 0.40321 | train_mse: 0.28897 | train_mae: 0.37669 |  0:00:09s\n",
      "epoch 55 | loss: 0.42428 | train_mse: 0.26027 | train_mae: 0.36866 |  0:00:09s\n"
     ]
    },
    {
     "name": "stdout",
     "output_type": "stream",
     "text": [
      "epoch 56 | loss: 0.44392 | train_mse: 0.23773 | train_mae: 0.35997 |  0:00:09s\n",
      "epoch 57 | loss: 0.28785 | train_mse: 0.22378 | train_mae: 0.35394 |  0:00:09s\n"
     ]
    },
    {
     "name": "stdout",
     "output_type": "stream",
     "text": [
      "epoch 58 | loss: 0.36607 | train_mse: 0.21112 | train_mae: 0.34795 |  0:00:09s\n",
      "epoch 59 | loss: 0.25344 | train_mse: 0.20845 | train_mae: 0.35083 |  0:00:09s\n"
     ]
    },
    {
     "name": "stdout",
     "output_type": "stream",
     "text": [
      "epoch 60 | loss: 0.35251 | train_mse: 0.2136  | train_mae: 0.35743 |  0:00:09s\n",
      "epoch 61 | loss: 0.42467 | train_mse: 0.21595 | train_mae: 0.35857 |  0:00:10s\n",
      "epoch 62 | loss: 0.51622 | train_mse: 0.21347 | train_mae: 0.35606 |  0:00:10s\n"
     ]
    },
    {
     "name": "stdout",
     "output_type": "stream",
     "text": [
      "epoch 63 | loss: 0.35189 | train_mse: 0.21313 | train_mae: 0.35602 |  0:00:10s\n",
      "epoch 64 | loss: 0.3823  | train_mse: 0.22322 | train_mae: 0.35952 |  0:00:10s\n",
      "epoch 65 | loss: 0.37895 | train_mse: 0.23464 | train_mae: 0.36028 |  0:00:10s\n"
     ]
    },
    {
     "name": "stdout",
     "output_type": "stream",
     "text": [
      "epoch 66 | loss: 0.32363 | train_mse: 0.24    | train_mae: 0.36    |  0:00:10s\n",
      "epoch 67 | loss: 0.27998 | train_mse: 0.2393  | train_mae: 0.35571 |  0:00:10s\n",
      "epoch 68 | loss: 0.24388 | train_mse: 0.23349 | train_mae: 0.35239 |  0:00:10s"
     ]
    },
    {
     "name": "stdout",
     "output_type": "stream",
     "text": [
      "\n",
      "epoch 69 | loss: 0.39256 | train_mse: 0.21343 | train_mae: 0.34878 |  0:00:10s\n",
      "epoch 70 | loss: 0.40628 | train_mse: 0.21436 | train_mae: 0.34462 |  0:00:10s\n"
     ]
    },
    {
     "name": "stdout",
     "output_type": "stream",
     "text": [
      "epoch 71 | loss: 0.42598 | train_mse: 0.21666 | train_mae: 0.3411  |  0:00:10s\n",
      "epoch 72 | loss: 0.29713 | train_mse: 0.22652 | train_mae: 0.34102 |  0:00:11s\n",
      "epoch 73 | loss: 0.30483 | train_mse: 0.24294 | train_mae: 0.35068 |  0:00:11s\n"
     ]
    },
    {
     "name": "stdout",
     "output_type": "stream",
     "text": [
      "epoch 74 | loss: 0.50014 | train_mse: 0.25621 | train_mae: 0.35643 |  0:00:11s\n",
      "epoch 75 | loss: 0.41329 | train_mse: 0.24815 | train_mae: 0.35027 |  0:00:11s\n",
      "epoch 76 | loss: 0.45817 | train_mse: 0.24268 | train_mae: 0.35385 |  0:00:11s\n"
     ]
    },
    {
     "name": "stdout",
     "output_type": "stream",
     "text": [
      "epoch 77 | loss: 0.34271 | train_mse: 0.22248 | train_mae: 0.34055 |  0:00:11s\n",
      "epoch 78 | loss: 0.2654  | train_mse: 0.21224 | train_mae: 0.33678 |  0:00:11s\n"
     ]
    },
    {
     "name": "stdout",
     "output_type": "stream",
     "text": [
      "epoch 79 | loss: 0.42657 | train_mse: 0.19933 | train_mae: 0.33303 |  0:00:11s\n",
      "epoch 80 | loss: 0.45385 | train_mse: 0.19781 | train_mae: 0.33282 |  0:00:11s\n",
      "epoch 81 | loss: 0.22557 | train_mse: 0.19357 | train_mae: 0.33084 |  0:00:11s\n"
     ]
    },
    {
     "name": "stdout",
     "output_type": "stream",
     "text": [
      "epoch 82 | loss: 0.35397 | train_mse: 0.18792 | train_mae: 0.32808 |  0:00:11s\n",
      "epoch 83 | loss: 0.27188 | train_mse: 0.18558 | train_mae: 0.32519 |  0:00:12s\n",
      "epoch 84 | loss: 0.43115 | train_mse: 0.18165 | train_mae: 0.32087 |  0:00:12s\n"
     ]
    },
    {
     "name": "stdout",
     "output_type": "stream",
     "text": [
      "epoch 85 | loss: 0.24308 | train_mse: 0.17862 | train_mae: 0.31731 |  0:00:12s\n",
      "epoch 86 | loss: 0.28501 | train_mse: 0.17978 | train_mae: 0.3165  |  0:00:12s\n"
     ]
    },
    {
     "name": "stdout",
     "output_type": "stream",
     "text": [
      "epoch 87 | loss: 0.39391 | train_mse: 0.17696 | train_mae: 0.3118  |  0:00:12s\n",
      "epoch 88 | loss: 0.35797 | train_mse: 0.17471 | train_mae: 0.3084  |  0:00:12s\n"
     ]
    },
    {
     "name": "stdout",
     "output_type": "stream",
     "text": [
      "epoch 89 | loss: 0.21568 | train_mse: 0.17525 | train_mae: 0.31142 |  0:00:12s\n",
      "epoch 90 | loss: 0.3994  | train_mse: 0.17172 | train_mae: 0.30808 |  0:00:12s\n",
      "epoch 91 | loss: 0.3052  | train_mse: 0.17118 | train_mae: 0.30929 |  0:00:12s\n"
     ]
    },
    {
     "name": "stdout",
     "output_type": "stream",
     "text": [
      "epoch 92 | loss: 0.30247 | train_mse: 0.16708 | train_mae: 0.30799 |  0:00:13s\n",
      "epoch 93 | loss: 0.23959 | train_mse: 0.16423 | train_mae: 0.3066  |  0:00:13s\n"
     ]
    },
    {
     "name": "stdout",
     "output_type": "stream",
     "text": [
      "epoch 94 | loss: 0.34411 | train_mse: 0.16139 | train_mae: 0.30398 |  0:00:13s\n",
      "epoch 95 | loss: 0.21577 | train_mse: 0.16191 | train_mae: 0.30506 |  0:00:13s\n",
      "epoch 96 | loss: 0.32442 | train_mse: 0.16307 | train_mae: 0.30675 |  0:00:13s\n"
     ]
    },
    {
     "name": "stdout",
     "output_type": "stream",
     "text": [
      "epoch 97 | loss: 0.32755 | train_mse: 0.1692  | train_mae: 0.30997 |  0:00:13s\n",
      "epoch 98 | loss: 0.34801 | train_mse: 0.17041 | train_mae: 0.31425 |  0:00:13s\n",
      "epoch 99 | loss: 0.22582 | train_mse: 0.16737 | train_mae: 0.31171 |  0:00:13s"
     ]
    },
    {
     "name": "stdout",
     "output_type": "stream",
     "text": [
      "\n",
      "epoch 100| loss: 0.33464 | train_mse: 0.16463 | train_mae: 0.30408 |  0:00:13s\n"
     ]
    },
    {
     "name": "stdout",
     "output_type": "stream",
     "text": [
      "epoch 101| loss: 0.1878  | train_mse: 0.15906 | train_mae: 0.29922 |  0:00:13s\n",
      "epoch 102| loss: 0.2884  | train_mse: 0.15736 | train_mae: 0.3029  |  0:00:13s\n",
      "epoch 103| loss: 0.44764 | train_mse: 0.15983 | train_mae: 0.30353 |  0:00:14s\n"
     ]
    },
    {
     "name": "stdout",
     "output_type": "stream",
     "text": [
      "epoch 104| loss: 0.19489 | train_mse: 0.14801 | train_mae: 0.28893 |  0:00:14s\n",
      "epoch 105| loss: 0.18617 | train_mse: 0.14066 | train_mae: 0.28288 |  0:00:14s\n",
      "epoch 106| loss: 0.22633 | train_mse: 0.13478 | train_mae: 0.27623 |  0:00:14s\n"
     ]
    },
    {
     "name": "stdout",
     "output_type": "stream",
     "text": [
      "epoch 107| loss: 0.24349 | train_mse: 0.12994 | train_mae: 0.27172 |  0:00:14s\n",
      "epoch 108| loss: 0.24004 | train_mse: 0.12959 | train_mae: 0.27518 |  0:00:14s\n"
     ]
    },
    {
     "name": "stdout",
     "output_type": "stream",
     "text": [
      "epoch 109| loss: 0.17266 | train_mse: 0.13036 | train_mae: 0.28209 |  0:00:14s\n",
      "epoch 110| loss: 0.30458 | train_mse: 0.12374 | train_mae: 0.27448 |  0:00:14s\n",
      "epoch 111| loss: 0.26108 | train_mse: 0.11997 | train_mae: 0.26701 |  0:00:14s\n"
     ]
    },
    {
     "name": "stdout",
     "output_type": "stream",
     "text": [
      "epoch 112| loss: 0.24282 | train_mse: 0.12162 | train_mae: 0.27202 |  0:00:14s\n",
      "epoch 113| loss: 0.13664 | train_mse: 0.12584 | train_mae: 0.27366 |  0:00:15s\n",
      "epoch 114| loss: 0.25729 | train_mse: 0.13077 | train_mae: 0.27878 |  0:00:15s\n"
     ]
    },
    {
     "name": "stdout",
     "output_type": "stream",
     "text": [
      "epoch 115| loss: 0.20598 | train_mse: 0.13997 | train_mae: 0.2886  |  0:00:15s\n",
      "epoch 116| loss: 0.17243 | train_mse: 0.1461  | train_mae: 0.294   |  0:00:15s\n",
      "epoch 117| loss: 0.2986  | train_mse: 0.14975 | train_mae: 0.29448 |  0:00:15s\n"
     ]
    },
    {
     "name": "stdout",
     "output_type": "stream",
     "text": [
      "epoch 118| loss: 0.34851 | train_mse: 0.15298 | train_mae: 0.29251 |  0:00:15s\n",
      "epoch 119| loss: 0.22649 | train_mse: 0.16071 | train_mae: 0.29268 |  0:00:15s\n",
      "epoch 120| loss: 0.31084 | train_mse: 0.17343 | train_mae: 0.29399 |  0:00:15s\n"
     ]
    },
    {
     "name": "stdout",
     "output_type": "stream",
     "text": [
      "epoch 121| loss: 0.18798 | train_mse: 0.17993 | train_mae: 0.29338 |  0:00:15s\n",
      "epoch 122| loss: 0.17947 | train_mse: 0.18104 | train_mae: 0.28963 |  0:00:15s\n",
      "epoch 123| loss: 0.28437 | train_mse: 0.1794  | train_mae: 0.28743 |  0:00:15s\n"
     ]
    },
    {
     "name": "stdout",
     "output_type": "stream",
     "text": [
      "epoch 124| loss: 0.21424 | train_mse: 0.17428 | train_mae: 0.28424 |  0:00:16s\n",
      "epoch 125| loss: 0.25346 | train_mse: 0.17872 | train_mae: 0.29121 |  0:00:16s\n",
      "epoch 126| loss: 0.36941 | train_mse: 0.16369 | train_mae: 0.28367 |  0:00:16s\n"
     ]
    },
    {
     "name": "stdout",
     "output_type": "stream",
     "text": [
      "epoch 127| loss: 0.23921 | train_mse: 0.15123 | train_mae: 0.2812  |  0:00:16s\n",
      "epoch 128| loss: 0.19713 | train_mse: 0.12965 | train_mae: 0.26571 |  0:00:16s\n",
      "epoch 129| loss: 0.30486 | train_mse: 0.12847 | train_mae: 0.25981 |  0:00:16s\n"
     ]
    },
    {
     "name": "stdout",
     "output_type": "stream",
     "text": [
      "epoch 130| loss: 0.15595 | train_mse: 0.12719 | train_mae: 0.26044 |  0:00:16s\n",
      "epoch 131| loss: 0.29484 | train_mse: 0.12651 | train_mae: 0.26137 |  0:00:16s\n"
     ]
    },
    {
     "name": "stdout",
     "output_type": "stream",
     "text": [
      "epoch 132| loss: 0.31708 | train_mse: 0.13031 | train_mae: 0.26421 |  0:00:16s\n",
      "epoch 133| loss: 0.31369 | train_mse: 0.13379 | train_mae: 0.26893 |  0:00:16s\n",
      "epoch 134| loss: 0.4317  | train_mse: 0.13479 | train_mae: 0.27064 |  0:00:17s\n"
     ]
    },
    {
     "name": "stdout",
     "output_type": "stream",
     "text": [
      "epoch 135| loss: 0.31159 | train_mse: 0.13876 | train_mae: 0.27376 |  0:00:17s\n",
      "epoch 136| loss: 0.21499 | train_mse: 0.1408  | train_mae: 0.276   |  0:00:17s\n",
      "epoch 137| loss: 0.23365 | train_mse: 0.14168 | train_mae: 0.28031 |  0:00:17s\n"
     ]
    },
    {
     "name": "stdout",
     "output_type": "stream",
     "text": [
      "epoch 138| loss: 0.20369 | train_mse: 0.13751 | train_mae: 0.27861 |  0:00:17s\n",
      "epoch 139| loss: 0.28966 | train_mse: 0.136   | train_mae: 0.27566 |  0:00:17s\n",
      "epoch 140| loss: 0.30793 | train_mse: 0.13748 | train_mae: 0.27716 |  0:00:17s\n"
     ]
    },
    {
     "name": "stdout",
     "output_type": "stream",
     "text": [
      "epoch 141| loss: 0.19814 | train_mse: 0.12951 | train_mae: 0.26872 |  0:00:17s\n",
      "epoch 142| loss: 0.21006 | train_mse: 0.1239  | train_mae: 0.26338 |  0:00:17s\n",
      "epoch 143| loss: 0.23267 | train_mse: 0.12229 | train_mae: 0.26013 |  0:00:17s\n"
     ]
    },
    {
     "name": "stdout",
     "output_type": "stream",
     "text": [
      "epoch 144| loss: 0.21009 | train_mse: 0.12605 | train_mae: 0.26174 |  0:00:18s\n",
      "epoch 145| loss: 0.2294  | train_mse: 0.12828 | train_mae: 0.26552 |  0:00:18s\n",
      "epoch 146| loss: 0.38945 | train_mse: 0.13244 | train_mae: 0.26959 |  0:00:18s\n"
     ]
    },
    {
     "name": "stdout",
     "output_type": "stream",
     "text": [
      "epoch 147| loss: 0.15843 | train_mse: 0.13578 | train_mae: 0.27537 |  0:00:18s\n",
      "epoch 148| loss: 0.22159 | train_mse: 0.12963 | train_mae: 0.2721  |  0:00:18s\n",
      "epoch 149| loss: 0.15139 | train_mse: 0.1218  | train_mae: 0.26495 |  0:00:18s\n"
     ]
    },
    {
     "name": "stdout",
     "output_type": "stream",
     "text": [
      "epoch 150| loss: 0.15712 | train_mse: 0.11905 | train_mae: 0.26326 |  0:00:18s\n",
      "epoch 151| loss: 0.23273 | train_mse: 0.11583 | train_mae: 0.26189 |  0:00:18s\n"
     ]
    },
    {
     "name": "stdout",
     "output_type": "stream",
     "text": [
      "epoch 152| loss: 0.16217 | train_mse: 0.11196 | train_mae: 0.25722 |  0:00:18s\n",
      "epoch 153| loss: 0.11492 | train_mse: 0.10772 | train_mae: 0.25193 |  0:00:18s\n"
     ]
    },
    {
     "name": "stdout",
     "output_type": "stream",
     "text": [
      "epoch 154| loss: 0.43395 | train_mse: 0.10574 | train_mae: 0.2499  |  0:00:18s\n",
      "epoch 155| loss: 0.31609 | train_mse: 0.10303 | train_mae: 0.24708 |  0:00:19s\n",
      "epoch 156| loss: 0.18244 | train_mse: 0.10002 | train_mae: 0.24513 |  0:00:19s\n"
     ]
    },
    {
     "name": "stdout",
     "output_type": "stream",
     "text": [
      "epoch 157| loss: 0.19351 | train_mse: 0.10097 | train_mae: 0.24681 |  0:00:19s\n",
      "epoch 158| loss: 0.26739 | train_mse: 0.1     | train_mae: 0.24585 |  0:00:19s\n",
      "epoch 159| loss: 0.20806 | train_mse: 0.10992 | train_mae: 0.25507 |  0:00:19s\n"
     ]
    },
    {
     "name": "stdout",
     "output_type": "stream",
     "text": [
      "epoch 160| loss: 0.20015 | train_mse: 0.11212 | train_mae: 0.2584  |  0:00:19s\n",
      "epoch 161| loss: 0.27196 | train_mse: 0.11016 | train_mae: 0.25561 |  0:00:19s\n"
     ]
    },
    {
     "name": "stdout",
     "output_type": "stream",
     "text": [
      "epoch 162| loss: 0.1664  | train_mse: 0.10531 | train_mae: 0.25019 |  0:00:19s\n",
      "epoch 163| loss: 0.17733 | train_mse: 0.10113 | train_mae: 0.24566 |  0:00:19s\n",
      "epoch 164| loss: 0.16726 | train_mse: 0.10031 | train_mae: 0.24262 |  0:00:19s\n"
     ]
    },
    {
     "name": "stdout",
     "output_type": "stream",
     "text": [
      "epoch 165| loss: 0.16748 | train_mse: 0.10088 | train_mae: 0.24133 |  0:00:19s\n",
      "epoch 166| loss: 0.23576 | train_mse: 0.09874 | train_mae: 0.23932 |  0:00:20s\n",
      "epoch 167| loss: 0.19906 | train_mse: 0.09707 | train_mae: 0.23743 |  0:00:20s\n"
     ]
    },
    {
     "name": "stdout",
     "output_type": "stream",
     "text": [
      "epoch 168| loss: 0.15029 | train_mse: 0.09622 | train_mae: 0.23501 |  0:00:20s\n",
      "epoch 169| loss: 0.19779 | train_mse: 0.09576 | train_mae: 0.23608 |  0:00:20s\n",
      "epoch 170| loss: 0.42123 | train_mse: 0.09442 | train_mae: 0.23872 |  0:00:20s\n"
     ]
    },
    {
     "name": "stdout",
     "output_type": "stream",
     "text": [
      "epoch 171| loss: 0.13923 | train_mse: 0.09699 | train_mae: 0.24455 |  0:00:20s\n",
      "epoch 172| loss: 0.15264 | train_mse: 0.10211 | train_mae: 0.24841 |  0:00:20s\n"
     ]
    },
    {
     "name": "stdout",
     "output_type": "stream",
     "text": [
      "epoch 173| loss: 0.18262 | train_mse: 0.10338 | train_mae: 0.25082 |  0:00:20s\n",
      "epoch 174| loss: 0.2777  | train_mse: 0.10181 | train_mae: 0.25282 |  0:00:20s\n",
      "epoch 175| loss: 0.13714 | train_mse: 0.10348 | train_mae: 0.25455 |  0:00:20s\n"
     ]
    },
    {
     "name": "stdout",
     "output_type": "stream",
     "text": [
      "epoch 176| loss: 0.13364 | train_mse: 0.10371 | train_mae: 0.25403 |  0:00:21s\n",
      "epoch 177| loss: 0.19846 | train_mse: 0.10215 | train_mae: 0.25332 |  0:00:21s\n",
      "epoch 178| loss: 0.20169 | train_mse: 0.10324 | train_mae: 0.25467 |  0:00:21s\n"
     ]
    },
    {
     "name": "stdout",
     "output_type": "stream",
     "text": [
      "epoch 179| loss: 0.24637 | train_mse: 0.10573 | train_mae: 0.25703 |  0:00:21s\n",
      "epoch 180| loss: 0.09893 | train_mse: 0.10484 | train_mae: 0.25573 |  0:00:21s\n",
      "epoch 181| loss: 0.14964 | train_mse: 0.10276 | train_mae: 0.25188 |  0:00:21s"
     ]
    },
    {
     "name": "stdout",
     "output_type": "stream",
     "text": [
      "\n",
      "epoch 182| loss: 0.21261 | train_mse: 0.10341 | train_mae: 0.25327 |  0:00:21s\n",
      "epoch 183| loss: 0.13658 | train_mse: 0.10331 | train_mae: 0.25145 |  0:00:21s\n"
     ]
    },
    {
     "name": "stdout",
     "output_type": "stream",
     "text": [
      "epoch 184| loss: 0.18863 | train_mse: 0.09639 | train_mae: 0.24482 |  0:00:21s\n",
      "epoch 185| loss: 0.1999  | train_mse: 0.09259 | train_mae: 0.23793 |  0:00:21s\n",
      "epoch 186| loss: 0.09996 | train_mse: 0.09216 | train_mae: 0.23667 |  0:00:21s\n"
     ]
    },
    {
     "name": "stdout",
     "output_type": "stream",
     "text": [
      "epoch 187| loss: 0.15841 | train_mse: 0.09189 | train_mae: 0.23636 |  0:00:22s\n",
      "epoch 188| loss: 0.20236 | train_mse: 0.09365 | train_mae: 0.24231 |  0:00:22s\n",
      "epoch 189| loss: 0.27733 | train_mse: 0.093   | train_mae: 0.24126 |  0:00:22s\n"
     ]
    },
    {
     "name": "stdout",
     "output_type": "stream",
     "text": [
      "epoch 190| loss: 0.17164 | train_mse: 0.09572 | train_mae: 0.24404 |  0:00:22s\n",
      "epoch 191| loss: 0.40295 | train_mse: 0.09985 | train_mae: 0.24931 |  0:00:22s\n",
      "epoch 192| loss: 0.11563 | train_mse: 0.09692 | train_mae: 0.24251 |  0:00:22s\n"
     ]
    },
    {
     "name": "stdout",
     "output_type": "stream",
     "text": [
      "epoch 193| loss: 0.15956 | train_mse: 0.09699 | train_mae: 0.23757 |  0:00:22s\n",
      "epoch 194| loss: 0.12845 | train_mse: 0.09504 | train_mae: 0.23314 |  0:00:22s\n"
     ]
    },
    {
     "name": "stdout",
     "output_type": "stream",
     "text": [
      "epoch 195| loss: 0.33532 | train_mse: 0.09032 | train_mae: 0.22674 |  0:00:22s\n",
      "epoch 196| loss: 0.13679 | train_mse: 0.08487 | train_mae: 0.21832 |  0:00:22s\n",
      "epoch 197| loss: 0.14097 | train_mse: 0.08443 | train_mae: 0.21772 |  0:00:23s\n"
     ]
    },
    {
     "name": "stdout",
     "output_type": "stream",
     "text": [
      "epoch 198| loss: 0.25969 | train_mse: 0.08547 | train_mae: 0.22334 |  0:00:23s\n",
      "epoch 199| loss: 0.17096 | train_mse: 0.08756 | train_mae: 0.22635 |  0:00:23s\n",
      "epoch 200| loss: 0.13163 | train_mse: 0.08662 | train_mae: 0.22813 |  0:00:23s\n"
     ]
    },
    {
     "name": "stdout",
     "output_type": "stream",
     "text": [
      "epoch 201| loss: 0.2857  | train_mse: 0.08788 | train_mae: 0.23086 |  0:00:23s\n",
      "epoch 202| loss: 0.30292 | train_mse: 0.08877 | train_mae: 0.23155 |  0:00:23s\n",
      "epoch 203| loss: 0.20098 | train_mse: 0.09072 | train_mae: 0.23194 |  0:00:23s\n"
     ]
    },
    {
     "name": "stdout",
     "output_type": "stream",
     "text": [
      "epoch 204| loss: 0.1817  | train_mse: 0.09083 | train_mae: 0.23235 |  0:00:23s\n",
      "epoch 205| loss: 0.15073 | train_mse: 0.09091 | train_mae: 0.23237 |  0:00:23s\n"
     ]
    },
    {
     "name": "stdout",
     "output_type": "stream",
     "text": [
      "epoch 206| loss: 0.13685 | train_mse: 0.09139 | train_mae: 0.23627 |  0:00:23s\n",
      "epoch 207| loss: 0.1217  | train_mse: 0.0896  | train_mae: 0.236   |  0:00:23s\n",
      "epoch 208| loss: 0.1808  | train_mse: 0.08818 | train_mae: 0.2334  |  0:00:24s\n"
     ]
    },
    {
     "name": "stdout",
     "output_type": "stream",
     "text": [
      "epoch 209| loss: 0.17353 | train_mse: 0.08834 | train_mae: 0.23134 |  0:00:24s\n",
      "epoch 210| loss: 0.14942 | train_mse: 0.08536 | train_mae: 0.22839 |  0:00:24s\n",
      "epoch 211| loss: 0.13499 | train_mse: 0.08438 | train_mae: 0.22634 |  0:00:24s\n"
     ]
    },
    {
     "name": "stdout",
     "output_type": "stream",
     "text": [
      "epoch 212| loss: 0.25758 | train_mse: 0.0812  | train_mae: 0.22074 |  0:00:24s\n",
      "epoch 213| loss: 0.16379 | train_mse: 0.07569 | train_mae: 0.21501 |  0:00:24s\n",
      "epoch 214| loss: 0.19732 | train_mse: 0.07304 | train_mae: 0.2117  |  0:00:24s\n"
     ]
    },
    {
     "name": "stdout",
     "output_type": "stream",
     "text": [
      "epoch 215| loss: 0.19875 | train_mse: 0.07516 | train_mae: 0.21708 |  0:00:24s\n",
      "epoch 216| loss: 0.26913 | train_mse: 0.07856 | train_mae: 0.22284 |  0:00:24s\n",
      "epoch 217| loss: 0.16477 | train_mse: 0.08261 | train_mae: 0.22945 |  0:00:24s\n"
     ]
    },
    {
     "name": "stdout",
     "output_type": "stream",
     "text": [
      "epoch 218| loss: 0.4359  | train_mse: 0.08374 | train_mae: 0.23164 |  0:00:24s\n",
      "epoch 219| loss: 0.20554 | train_mse: 0.08601 | train_mae: 0.2337  |  0:00:25s\n",
      "epoch 220| loss: 0.10638 | train_mse: 0.08531 | train_mae: 0.23254 |  0:00:25s\n"
     ]
    },
    {
     "name": "stdout",
     "output_type": "stream",
     "text": [
      "epoch 221| loss: 0.11469 | train_mse: 0.08674 | train_mae: 0.23281 |  0:00:25s\n",
      "epoch 222| loss: 0.19714 | train_mse: 0.0903  | train_mae: 0.2355  |  0:00:25s\n",
      "epoch 223| loss: 0.10039 | train_mse: 0.08905 | train_mae: 0.23619 |  0:00:25s\n"
     ]
    },
    {
     "name": "stdout",
     "output_type": "stream",
     "text": [
      "epoch 224| loss: 0.26995 | train_mse: 0.09025 | train_mae: 0.23871 |  0:00:25s\n",
      "epoch 225| loss: 0.12558 | train_mse: 0.08986 | train_mae: 0.23881 |  0:00:25s\n"
     ]
    },
    {
     "name": "stdout",
     "output_type": "stream",
     "text": [
      "epoch 226| loss: 0.13792 | train_mse: 0.08776 | train_mae: 0.23712 |  0:00:25s\n",
      "epoch 227| loss: 0.19791 | train_mse: 0.08746 | train_mae: 0.23614 |  0:00:26s\n"
     ]
    },
    {
     "name": "stdout",
     "output_type": "stream",
     "text": [
      "epoch 228| loss: 0.13058 | train_mse: 0.08655 | train_mae: 0.23327 |  0:00:26s\n",
      "epoch 229| loss: 0.17943 | train_mse: 0.08583 | train_mae: 0.23042 |  0:00:26s\n"
     ]
    },
    {
     "name": "stdout",
     "output_type": "stream",
     "text": [
      "epoch 230| loss: 0.16789 | train_mse: 0.08799 | train_mae: 0.23496 |  0:00:26s\n",
      "epoch 231| loss: 0.24038 | train_mse: 0.08491 | train_mae: 0.23104 |  0:00:26s\n"
     ]
    },
    {
     "name": "stdout",
     "output_type": "stream",
     "text": [
      "epoch 232| loss: 0.09063 | train_mse: 0.08353 | train_mae: 0.22963 |  0:00:26s\n",
      "epoch 233| loss: 0.26518 | train_mse: 0.08554 | train_mae: 0.23155 |  0:00:26s\n"
     ]
    },
    {
     "name": "stdout",
     "output_type": "stream",
     "text": [
      "epoch 234| loss: 0.13485 | train_mse: 0.08614 | train_mae: 0.23266 |  0:00:26s\n",
      "epoch 235| loss: 0.13546 | train_mse: 0.08546 | train_mae: 0.23007 |  0:00:26s\n",
      "epoch 236| loss: 0.28876 | train_mse: 0.08607 | train_mae: 0.23155 |  0:00:27s\n"
     ]
    },
    {
     "name": "stdout",
     "output_type": "stream",
     "text": [
      "epoch 237| loss: 0.20369 | train_mse: 0.08976 | train_mae: 0.23736 |  0:00:27s\n",
      "epoch 238| loss: 0.11028 | train_mse: 0.09044 | train_mae: 0.23806 |  0:00:27s\n",
      "epoch 239| loss: 0.18027 | train_mse: 0.08901 | train_mae: 0.23554 |  0:00:27s\n"
     ]
    },
    {
     "name": "stdout",
     "output_type": "stream",
     "text": [
      "epoch 240| loss: 0.10251 | train_mse: 0.08804 | train_mae: 0.23403 |  0:00:27s\n",
      "epoch 241| loss: 0.11693 | train_mse: 0.08334 | train_mae: 0.22841 |  0:00:27s\n",
      "epoch 242| loss: 0.08368 | train_mse: 0.08214 | train_mae: 0.22601 |  0:00:27s\n"
     ]
    },
    {
     "name": "stdout",
     "output_type": "stream",
     "text": [
      "epoch 243| loss: 0.09905 | train_mse: 0.08009 | train_mae: 0.22096 |  0:00:27s\n",
      "epoch 244| loss: 0.13971 | train_mse: 0.07732 | train_mae: 0.21728 |  0:00:27s\n"
     ]
    },
    {
     "name": "stdout",
     "output_type": "stream",
     "text": [
      "epoch 245| loss: 0.28101 | train_mse: 0.07334 | train_mae: 0.21348 |  0:00:27s\n",
      "epoch 246| loss: 0.19785 | train_mse: 0.07161 | train_mae: 0.2129  |  0:00:28s\n",
      "epoch 247| loss: 0.31236 | train_mse: 0.07064 | train_mae: 0.21313 |  0:00:28s\n"
     ]
    },
    {
     "name": "stdout",
     "output_type": "stream",
     "text": [
      "epoch 248| loss: 0.13609 | train_mse: 0.07373 | train_mae: 0.21692 |  0:00:28s\n",
      "epoch 249| loss: 0.12685 | train_mse: 0.07239 | train_mae: 0.2154  |  0:00:28s\n",
      "epoch 250| loss: 0.15507 | train_mse: 0.07769 | train_mae: 0.22351 |  0:00:28s\n"
     ]
    },
    {
     "name": "stdout",
     "output_type": "stream",
     "text": [
      "epoch 251| loss: 0.16801 | train_mse: 0.07528 | train_mae: 0.2199  |  0:00:28s\n",
      "epoch 252| loss: 0.349   | train_mse: 0.07131 | train_mae: 0.21339 |  0:00:28s\n"
     ]
    },
    {
     "name": "stdout",
     "output_type": "stream",
     "text": [
      "epoch 253| loss: 0.43703 | train_mse: 0.07095 | train_mae: 0.21192 |  0:00:28s\n",
      "epoch 254| loss: 0.1474  | train_mse: 0.07009 | train_mae: 0.20785 |  0:00:28s\n"
     ]
    },
    {
     "name": "stdout",
     "output_type": "stream",
     "text": [
      "epoch 255| loss: 0.10653 | train_mse: 0.07485 | train_mae: 0.21237 |  0:00:28s\n",
      "epoch 256| loss: 0.1122  | train_mse: 0.08416 | train_mae: 0.22619 |  0:00:29s\n",
      "epoch 257| loss: 0.10636 | train_mse: 0.08773 | train_mae: 0.22945 |  0:00:29s\n"
     ]
    },
    {
     "name": "stdout",
     "output_type": "stream",
     "text": [
      "epoch 258| loss: 0.18224 | train_mse: 0.09049 | train_mae: 0.23393 |  0:00:29s\n",
      "epoch 259| loss: 0.19031 | train_mse: 0.08839 | train_mae: 0.23166 |  0:00:29s\n",
      "epoch 260| loss: 0.15419 | train_mse: 0.08815 | train_mae: 0.23183 |  0:00:29s\n"
     ]
    },
    {
     "name": "stdout",
     "output_type": "stream",
     "text": [
      "epoch 261| loss: 0.13354 | train_mse: 0.08906 | train_mae: 0.23288 |  0:00:29s\n",
      "epoch 262| loss: 0.13255 | train_mse: 0.08993 | train_mae: 0.23599 |  0:00:29s\n"
     ]
    },
    {
     "name": "stdout",
     "output_type": "stream",
     "text": [
      "epoch 263| loss: 0.0834  | train_mse: 0.08903 | train_mae: 0.23537 |  0:00:29s\n",
      "epoch 264| loss: 0.07078 | train_mse: 0.08424 | train_mae: 0.22949 |  0:00:29s\n",
      "epoch 265| loss: 0.10114 | train_mse: 0.07939 | train_mae: 0.22258 |  0:00:29s\n"
     ]
    },
    {
     "name": "stdout",
     "output_type": "stream",
     "text": [
      "epoch 266| loss: 0.10334 | train_mse: 0.0799  | train_mae: 0.22322 |  0:00:29s\n",
      "epoch 267| loss: 0.24943 | train_mse: 0.08065 | train_mae: 0.2242  |  0:00:30s\n",
      "epoch 268| loss: 0.11774 | train_mse: 0.08112 | train_mae: 0.22391 |  0:00:30s\n"
     ]
    },
    {
     "name": "stdout",
     "output_type": "stream",
     "text": [
      "epoch 269| loss: 0.15692 | train_mse: 0.08297 | train_mae: 0.22534 |  0:00:30s\n",
      "epoch 270| loss: 0.12478 | train_mse: 0.07971 | train_mae: 0.22127 |  0:00:30s\n",
      "epoch 271| loss: 0.14585 | train_mse: 0.07685 | train_mae: 0.21545 |  0:00:30s\n"
     ]
    },
    {
     "name": "stdout",
     "output_type": "stream",
     "text": [
      "epoch 272| loss: 0.13904 | train_mse: 0.07497 | train_mae: 0.21003 |  0:00:30s\n",
      "epoch 273| loss: 0.10259 | train_mse: 0.07333 | train_mae: 0.20683 |  0:00:30s\n"
     ]
    },
    {
     "name": "stdout",
     "output_type": "stream",
     "text": [
      "epoch 274| loss: 0.10727 | train_mse: 0.06966 | train_mae: 0.20515 |  0:00:30s\n",
      "epoch 275| loss: 0.12425 | train_mse: 0.06491 | train_mae: 0.20035 |  0:00:30s\n",
      "epoch 276| loss: 0.10861 | train_mse: 0.0651  | train_mae: 0.20006 |  0:00:30s\n"
     ]
    },
    {
     "name": "stdout",
     "output_type": "stream",
     "text": [
      "epoch 277| loss: 0.17608 | train_mse: 0.06769 | train_mae: 0.20264 |  0:00:31s\n",
      "epoch 278| loss: 0.1186  | train_mse: 0.06972 | train_mae: 0.20424 |  0:00:31s\n",
      "epoch 279| loss: 0.0869  | train_mse: 0.07323 | train_mae: 0.20922 |  0:00:31s\n"
     ]
    },
    {
     "name": "stdout",
     "output_type": "stream",
     "text": [
      "epoch 280| loss: 0.1711  | train_mse: 0.07565 | train_mae: 0.21066 |  0:00:31s\n",
      "epoch 281| loss: 0.18267 | train_mse: 0.07596 | train_mae: 0.21141 |  0:00:31s\n",
      "epoch 282| loss: 0.12326 | train_mse: 0.07666 | train_mae: 0.21268 |  0:00:31s\n"
     ]
    },
    {
     "name": "stdout",
     "output_type": "stream",
     "text": [
      "epoch 283| loss: 0.13716 | train_mse: 0.07366 | train_mae: 0.20754 |  0:00:31s\n",
      "epoch 284| loss: 0.18911 | train_mse: 0.07379 | train_mae: 0.2073  |  0:00:31s\n"
     ]
    },
    {
     "name": "stdout",
     "output_type": "stream",
     "text": [
      "epoch 285| loss: 0.10225 | train_mse: 0.07526 | train_mae: 0.20846 |  0:00:31s\n",
      "epoch 286| loss: 0.17551 | train_mse: 0.07506 | train_mae: 0.20739 |  0:00:31s\n",
      "epoch 287| loss: 0.10195 | train_mse: 0.07612 | train_mae: 0.2093  |  0:00:32s\n"
     ]
    },
    {
     "name": "stdout",
     "output_type": "stream",
     "text": [
      "epoch 288| loss: 0.14741 | train_mse: 0.07672 | train_mae: 0.21231 |  0:00:32s\n",
      "epoch 289| loss: 0.12698 | train_mse: 0.07481 | train_mae: 0.21169 |  0:00:32s\n",
      "epoch 290| loss: 0.10696 | train_mse: 0.07355 | train_mae: 0.21247 |  0:00:32s\n"
     ]
    },
    {
     "name": "stdout",
     "output_type": "stream",
     "text": [
      "epoch 291| loss: 0.10373 | train_mse: 0.07311 | train_mae: 0.21329 |  0:00:32s\n",
      "epoch 292| loss: 0.13706 | train_mse: 0.07258 | train_mae: 0.2122  |  0:00:32s\n",
      "epoch 293| loss: 0.30433 | train_mse: 0.07118 | train_mae: 0.20963 |  0:00:32s\n"
     ]
    },
    {
     "name": "stdout",
     "output_type": "stream",
     "text": [
      "epoch 294| loss: 0.16505 | train_mse: 0.06774 | train_mae: 0.20547 |  0:00:32s\n",
      "epoch 295| loss: 0.14422 | train_mse: 0.06399 | train_mae: 0.19773 |  0:00:32s\n",
      "epoch 296| loss: 0.14543 | train_mse: 0.06395 | train_mae: 0.19795 |  0:00:32s\n"
     ]
    },
    {
     "name": "stdout",
     "output_type": "stream",
     "text": [
      "epoch 297| loss: 0.33896 | train_mse: 0.06433 | train_mae: 0.1987  |  0:00:32s\n",
      "epoch 298| loss: 0.13043 | train_mse: 0.06727 | train_mae: 0.20374 |  0:00:33s\n",
      "epoch 299| loss: 0.17831 | train_mse: 0.06807 | train_mae: 0.20447 |  0:00:33s\n"
     ]
    },
    {
     "name": "stdout",
     "output_type": "stream",
     "text": [
      "epoch 300| loss: 0.17955 | train_mse: 0.07127 | train_mae: 0.20592 |  0:00:33s\n",
      "epoch 301| loss: 0.27769 | train_mse: 0.0707  | train_mae: 0.20568 |  0:00:33s\n",
      "epoch 302| loss: 0.10006 | train_mse: 0.06972 | train_mae: 0.20472 |  0:00:33s\n"
     ]
    },
    {
     "name": "stdout",
     "output_type": "stream",
     "text": [
      "epoch 303| loss: 0.13791 | train_mse: 0.06725 | train_mae: 0.202   |  0:00:33s\n",
      "epoch 304| loss: 0.16675 | train_mse: 0.06447 | train_mae: 0.1982  |  0:00:33s\n"
     ]
    },
    {
     "name": "stdout",
     "output_type": "stream",
     "text": [
      "epoch 305| loss: 0.26604 | train_mse: 0.06272 | train_mae: 0.19457 |  0:00:33s\n",
      "epoch 306| loss: 0.09193 | train_mse: 0.06186 | train_mae: 0.19309 |  0:00:33s\n",
      "epoch 307| loss: 0.2672  | train_mse: 0.06404 | train_mae: 0.19403 |  0:00:33s\n"
     ]
    },
    {
     "name": "stdout",
     "output_type": "stream",
     "text": [
      "epoch 308| loss: 0.16904 | train_mse: 0.0648  | train_mae: 0.19501 |  0:00:34s\n",
      "epoch 309| loss: 0.12741 | train_mse: 0.06801 | train_mae: 0.19943 |  0:00:34s\n",
      "epoch 310| loss: 0.13397 | train_mse: 0.06653 | train_mae: 0.19709 |  0:00:34s\n"
     ]
    },
    {
     "name": "stdout",
     "output_type": "stream",
     "text": [
      "epoch 311| loss: 0.17312 | train_mse: 0.06498 | train_mae: 0.19552 |  0:00:34s\n",
      "epoch 312| loss: 0.15377 | train_mse: 0.06451 | train_mae: 0.1934  |  0:00:34s\n",
      "epoch 313| loss: 0.15567 | train_mse: 0.06562 | train_mae: 0.19359 |  0:00:34s\n"
     ]
    },
    {
     "name": "stdout",
     "output_type": "stream",
     "text": [
      "epoch 314| loss: 0.20275 | train_mse: 0.06791 | train_mae: 0.19674 |  0:00:34s\n",
      "epoch 315| loss: 0.11845 | train_mse: 0.06921 | train_mae: 0.19766 |  0:00:34s\n"
     ]
    },
    {
     "name": "stdout",
     "output_type": "stream",
     "text": [
      "epoch 316| loss: 0.11339 | train_mse: 0.07008 | train_mae: 0.19775 |  0:00:34s\n",
      "epoch 317| loss: 0.13135 | train_mse: 0.06761 | train_mae: 0.19405 |  0:00:34s\n",
      "epoch 318| loss: 0.15109 | train_mse: 0.06587 | train_mae: 0.19292 |  0:00:35s\n"
     ]
    },
    {
     "name": "stdout",
     "output_type": "stream",
     "text": [
      "epoch 319| loss: 0.11148 | train_mse: 0.06441 | train_mae: 0.19203 |  0:00:35s\n",
      "epoch 320| loss: 0.16121 | train_mse: 0.06187 | train_mae: 0.18958 |  0:00:35s\n",
      "epoch 321| loss: 0.2584  | train_mse: 0.06012 | train_mae: 0.18959 |  0:00:35s\n"
     ]
    },
    {
     "name": "stdout",
     "output_type": "stream",
     "text": [
      "epoch 322| loss: 0.21064 | train_mse: 0.05817 | train_mae: 0.18773 |  0:00:35s\n",
      "epoch 323| loss: 0.14134 | train_mse: 0.05799 | train_mae: 0.18772 |  0:00:35s\n"
     ]
    },
    {
     "name": "stdout",
     "output_type": "stream",
     "text": [
      "epoch 324| loss: 0.14379 | train_mse: 0.0573  | train_mae: 0.18603 |  0:00:35s\n",
      "epoch 325| loss: 0.11508 | train_mse: 0.05794 | train_mae: 0.18757 |  0:00:35s\n"
     ]
    },
    {
     "name": "stdout",
     "output_type": "stream",
     "text": [
      "epoch 326| loss: 0.43342 | train_mse: 0.05803 | train_mae: 0.18874 |  0:00:35s\n",
      "epoch 327| loss: 0.11572 | train_mse: 0.05819 | train_mae: 0.18899 |  0:00:35s\n",
      "epoch 328| loss: 0.16717 | train_mse: 0.05793 | train_mae: 0.18863 |  0:00:36s\n"
     ]
    },
    {
     "name": "stdout",
     "output_type": "stream",
     "text": [
      "epoch 329| loss: 0.09531 | train_mse: 0.0585  | train_mae: 0.18983 |  0:00:36s\n",
      "epoch 330| loss: 0.10783 | train_mse: 0.05966 | train_mae: 0.19318 |  0:00:36s\n",
      "epoch 331| loss: 0.16629 | train_mse: 0.05964 | train_mae: 0.19377 |  0:00:36s\n"
     ]
    },
    {
     "name": "stdout",
     "output_type": "stream",
     "text": [
      "epoch 332| loss: 0.11966 | train_mse: 0.06018 | train_mae: 0.19339 |  0:00:36s\n",
      "epoch 333| loss: 0.10659 | train_mse: 0.06035 | train_mae: 0.19365 |  0:00:36s\n",
      "epoch 334| loss: 0.27893 | train_mse: 0.0627  | train_mae: 0.19505 |  0:00:36s\n"
     ]
    },
    {
     "name": "stdout",
     "output_type": "stream",
     "text": [
      "epoch 335| loss: 0.10432 | train_mse: 0.06511 | train_mae: 0.1975  |  0:00:36s\n",
      "epoch 336| loss: 0.10326 | train_mse: 0.06809 | train_mae: 0.19931 |  0:00:36s\n",
      "epoch 337| loss: 0.11714 | train_mse: 0.07054 | train_mae: 0.20042 |  0:00:36s\n"
     ]
    },
    {
     "name": "stdout",
     "output_type": "stream",
     "text": [
      "epoch 338| loss: 0.09672 | train_mse: 0.0731  | train_mae: 0.20355 |  0:00:36s\n",
      "epoch 339| loss: 0.1203  | train_mse: 0.07283 | train_mae: 0.20351 |  0:00:37s\n",
      "epoch 340| loss: 0.08972 | train_mse: 0.07199 | train_mae: 0.2023  |  0:00:37s\n"
     ]
    },
    {
     "name": "stdout",
     "output_type": "stream",
     "text": [
      "epoch 341| loss: 0.12398 | train_mse: 0.06934 | train_mae: 0.19981 |  0:00:37s\n",
      "epoch 342| loss: 0.26571 | train_mse: 0.06901 | train_mae: 0.19981 |  0:00:37s\n",
      "epoch 343| loss: 0.06852 | train_mse: 0.06516 | train_mae: 0.19397 |  0:00:37s\n"
     ]
    },
    {
     "name": "stdout",
     "output_type": "stream",
     "text": [
      "epoch 344| loss: 0.12955 | train_mse: 0.06316 | train_mae: 0.19178 |  0:00:37s\n",
      "epoch 345| loss: 0.07643 | train_mse: 0.06146 | train_mae: 0.19151 |  0:00:37s\n"
     ]
    },
    {
     "name": "stdout",
     "output_type": "stream",
     "text": [
      "epoch 346| loss: 0.17776 | train_mse: 0.06002 | train_mae: 0.19033 |  0:00:37s\n",
      "epoch 347| loss: 0.25696 | train_mse: 0.05765 | train_mae: 0.18923 |  0:00:37s\n",
      "epoch 348| loss: 0.11376 | train_mse: 0.0575  | train_mae: 0.18981 |  0:00:37s\n"
     ]
    },
    {
     "name": "stdout",
     "output_type": "stream",
     "text": [
      "epoch 349| loss: 0.1216  | train_mse: 0.05803 | train_mae: 0.1917  |  0:00:38s\n",
      "epoch 350| loss: 0.11126 | train_mse: 0.05806 | train_mae: 0.19204 |  0:00:38s\n",
      "epoch 351| loss: 0.067   | train_mse: 0.05857 | train_mae: 0.19078 |  0:00:38s\n"
     ]
    },
    {
     "name": "stdout",
     "output_type": "stream",
     "text": [
      "epoch 352| loss: 0.17637 | train_mse: 0.05858 | train_mae: 0.19164 |  0:00:38s\n",
      "epoch 353| loss: 0.08973 | train_mse: 0.05787 | train_mae: 0.19028 |  0:00:38s\n",
      "epoch 354| loss: 0.17163 | train_mse: 0.05563 | train_mae: 0.18684 |  0:00:38s\n"
     ]
    },
    {
     "name": "stdout",
     "output_type": "stream",
     "text": [
      "epoch 355| loss: 0.09844 | train_mse: 0.05681 | train_mae: 0.18789 |  0:00:38s\n",
      "epoch 356| loss: 0.10474 | train_mse: 0.05806 | train_mae: 0.18931 |  0:00:38s\n"
     ]
    },
    {
     "name": "stdout",
     "output_type": "stream",
     "text": [
      "epoch 357| loss: 0.13878 | train_mse: 0.05854 | train_mae: 0.1903  |  0:00:38s\n",
      "epoch 358| loss: 0.16419 | train_mse: 0.05896 | train_mae: 0.19067 |  0:00:38s\n",
      "epoch 359| loss: 0.0833  | train_mse: 0.06051 | train_mae: 0.1922  |  0:00:38s\n"
     ]
    },
    {
     "name": "stdout",
     "output_type": "stream",
     "text": [
      "epoch 360| loss: 0.14833 | train_mse: 0.06136 | train_mae: 0.19268 |  0:00:39s\n",
      "epoch 361| loss: 0.10528 | train_mse: 0.06393 | train_mae: 0.19529 |  0:00:39s\n",
      "epoch 362| loss: 0.22254 | train_mse: 0.06537 | train_mae: 0.19636 |  0:00:39s\n"
     ]
    },
    {
     "name": "stdout",
     "output_type": "stream",
     "text": [
      "epoch 363| loss: 0.20284 | train_mse: 0.06452 | train_mae: 0.19337 |  0:00:39s\n",
      "epoch 364| loss: 0.09967 | train_mse: 0.06313 | train_mae: 0.19044 |  0:00:39s\n",
      "epoch 365| loss: 0.32534 | train_mse: 0.06363 | train_mae: 0.19038 |  0:00:39s\n"
     ]
    },
    {
     "name": "stdout",
     "output_type": "stream",
     "text": [
      "epoch 366| loss: 0.11222 | train_mse: 0.06221 | train_mae: 0.18926 |  0:00:39s\n",
      "epoch 367| loss: 0.18124 | train_mse: 0.06038 | train_mae: 0.18633 |  0:00:39s\n"
     ]
    },
    {
     "name": "stdout",
     "output_type": "stream",
     "text": [
      "epoch 368| loss: 0.09577 | train_mse: 0.05959 | train_mae: 0.18531 |  0:00:39s\n",
      "epoch 369| loss: 0.12189 | train_mse: 0.05859 | train_mae: 0.18353 |  0:00:39s\n",
      "epoch 370| loss: 0.12406 | train_mse: 0.05941 | train_mae: 0.18362 |  0:00:40s\n"
     ]
    },
    {
     "name": "stdout",
     "output_type": "stream",
     "text": [
      "epoch 371| loss: 0.10811 | train_mse: 0.0592  | train_mae: 0.18295 |  0:00:40s\n",
      "epoch 372| loss: 0.07434 | train_mse: 0.05767 | train_mae: 0.18074 |  0:00:40s\n",
      "epoch 373| loss: 0.1607  | train_mse: 0.0546  | train_mae: 0.17877 |  0:00:40s\n"
     ]
    },
    {
     "name": "stdout",
     "output_type": "stream",
     "text": [
      "epoch 374| loss: 0.08623 | train_mse: 0.05427 | train_mae: 0.17862 |  0:00:40s\n",
      "epoch 375| loss: 0.1014  | train_mse: 0.05413 | train_mae: 0.17926 |  0:00:40s\n",
      "epoch 376| loss: 0.09469 | train_mse: 0.05492 | train_mae: 0.18078 |  0:00:40s\n"
     ]
    },
    {
     "name": "stdout",
     "output_type": "stream",
     "text": [
      "epoch 377| loss: 0.12796 | train_mse: 0.05542 | train_mae: 0.18228 |  0:00:40s\n",
      "epoch 378| loss: 0.0782  | train_mse: 0.05582 | train_mae: 0.18327 |  0:00:40s\n",
      "epoch 379| loss: 0.13954 | train_mse: 0.05559 | train_mae: 0.18316 |  0:00:40s\n"
     ]
    },
    {
     "name": "stdout",
     "output_type": "stream",
     "text": [
      "epoch 380| loss: 0.11659 | train_mse: 0.05621 | train_mae: 0.18269 |  0:00:41s\n",
      "epoch 381| loss: 0.22396 | train_mse: 0.05827 | train_mae: 0.18363 |  0:00:41s\n",
      "epoch 382| loss: 0.13364 | train_mse: 0.0594  | train_mae: 0.18513 |  0:00:41s\n"
     ]
    },
    {
     "name": "stdout",
     "output_type": "stream",
     "text": [
      "epoch 383| loss: 0.09272 | train_mse: 0.0604  | train_mae: 0.18738 |  0:00:41s\n",
      "epoch 384| loss: 0.13248 | train_mse: 0.06294 | train_mae: 0.19107 |  0:00:41s\n",
      "epoch 385| loss: 0.1571  | train_mse: 0.0646  | train_mae: 0.19485 |  0:00:41s\n"
     ]
    },
    {
     "name": "stdout",
     "output_type": "stream",
     "text": [
      "epoch 386| loss: 0.16098 | train_mse: 0.06426 | train_mae: 0.19463 |  0:00:41s\n",
      "epoch 387| loss: 0.08951 | train_mse: 0.06323 | train_mae: 0.19292 |  0:00:41s\n"
     ]
    },
    {
     "name": "stdout",
     "output_type": "stream",
     "text": [
      "epoch 388| loss: 0.20296 | train_mse: 0.06409 | train_mae: 0.1942  |  0:00:41s\n",
      "epoch 389| loss: 0.11916 | train_mse: 0.06276 | train_mae: 0.19271 |  0:00:41s\n",
      "epoch 390| loss: 0.123   | train_mse: 0.06251 | train_mae: 0.19275 |  0:00:41s\n"
     ]
    },
    {
     "name": "stdout",
     "output_type": "stream",
     "text": [
      "epoch 391| loss: 0.132   | train_mse: 0.06474 | train_mae: 0.1963  |  0:00:42s\n",
      "epoch 392| loss: 0.11862 | train_mse: 0.06637 | train_mae: 0.19815 |  0:00:42s\n",
      "epoch 393| loss: 0.11229 | train_mse: 0.0654  | train_mae: 0.195   |  0:00:42s\n"
     ]
    },
    {
     "name": "stdout",
     "output_type": "stream",
     "text": [
      "epoch 394| loss: 0.09838 | train_mse: 0.06472 | train_mae: 0.19299 |  0:00:42s\n",
      "epoch 395| loss: 0.07012 | train_mse: 0.06175 | train_mae: 0.18849 |  0:00:42s\n",
      "epoch 396| loss: 0.10913 | train_mse: 0.05712 | train_mae: 0.18326 |  0:00:42s\n"
     ]
    },
    {
     "name": "stdout",
     "output_type": "stream",
     "text": [
      "epoch 397| loss: 0.07285 | train_mse: 0.05476 | train_mae: 0.18067 |  0:00:42s\n",
      "epoch 398| loss: 0.11544 | train_mse: 0.05523 | train_mae: 0.1838  |  0:00:42s\n"
     ]
    },
    {
     "name": "stdout",
     "output_type": "stream",
     "text": [
      "epoch 399| loss: 0.13086 | train_mse: 0.0558  | train_mae: 0.18582 |  0:00:42s\n",
      "epoch 400| loss: 0.10192 | train_mse: 0.0567  | train_mae: 0.18665 |  0:00:42s\n",
      "epoch 401| loss: 0.11152 | train_mse: 0.05948 | train_mae: 0.19104 |  0:00:43s\n"
     ]
    },
    {
     "name": "stdout",
     "output_type": "stream",
     "text": [
      "epoch 402| loss: 0.07147 | train_mse: 0.0592  | train_mae: 0.19057 |  0:00:43s\n",
      "epoch 403| loss: 0.12278 | train_mse: 0.06016 | train_mae: 0.19127 |  0:00:43s\n",
      "epoch 404| loss: 0.11964 | train_mse: 0.06093 | train_mae: 0.19228 |  0:00:43s\n"
     ]
    },
    {
     "name": "stdout",
     "output_type": "stream",
     "text": [
      "epoch 405| loss: 0.1808  | train_mse: 0.06035 | train_mae: 0.19157 |  0:00:43s\n",
      "epoch 406| loss: 0.14165 | train_mse: 0.05915 | train_mae: 0.1905  |  0:00:43s\n",
      "epoch 407| loss: 0.15175 | train_mse: 0.05844 | train_mae: 0.19106 |  0:00:43s\n"
     ]
    },
    {
     "name": "stdout",
     "output_type": "stream",
     "text": [
      "epoch 408| loss: 0.25707 | train_mse: 0.0585  | train_mae: 0.19037 |  0:00:43s\n",
      "epoch 409| loss: 0.13177 | train_mse: 0.05895 | train_mae: 0.19127 |  0:00:43s\n"
     ]
    },
    {
     "name": "stdout",
     "output_type": "stream",
     "text": [
      "epoch 410| loss: 0.16276 | train_mse: 0.06116 | train_mae: 0.19407 |  0:00:43s\n",
      "epoch 411| loss: 0.138   | train_mse: 0.06177 | train_mae: 0.19475 |  0:00:44s\n",
      "epoch 412| loss: 0.10434 | train_mse: 0.06472 | train_mae: 0.19735 |  0:00:44s\n"
     ]
    },
    {
     "name": "stdout",
     "output_type": "stream",
     "text": [
      "epoch 413| loss: 0.12313 | train_mse: 0.06589 | train_mae: 0.19818 |  0:00:44s\n",
      "epoch 414| loss: 0.09827 | train_mse: 0.06598 | train_mae: 0.19932 |  0:00:44s\n",
      "epoch 415| loss: 0.08417 | train_mse: 0.06566 | train_mae: 0.19932 |  0:00:44s\n"
     ]
    },
    {
     "name": "stdout",
     "output_type": "stream",
     "text": [
      "epoch 416| loss: 0.07022 | train_mse: 0.06341 | train_mae: 0.19679 |  0:00:44s\n",
      "epoch 417| loss: 0.06465 | train_mse: 0.06171 | train_mae: 0.19424 |  0:00:44s\n",
      "epoch 418| loss: 0.10335 | train_mse: 0.05891 | train_mae: 0.18994 |  0:00:44s\n"
     ]
    },
    {
     "name": "stdout",
     "output_type": "stream",
     "text": [
      "epoch 419| loss: 0.07606 | train_mse: 0.05723 | train_mae: 0.18743 |  0:00:44s\n",
      "epoch 420| loss: 0.13624 | train_mse: 0.05543 | train_mae: 0.18427 |  0:00:44s\n",
      "epoch 421| loss: 0.11455 | train_mse: 0.05461 | train_mae: 0.18277 |  0:00:44s\n"
     ]
    },
    {
     "name": "stdout",
     "output_type": "stream",
     "text": [
      "epoch 422| loss: 0.20456 | train_mse: 0.05332 | train_mae: 0.18093 |  0:00:45s\n",
      "epoch 423| loss: 0.14117 | train_mse: 0.05202 | train_mae: 0.17834 |  0:00:45s\n",
      "epoch 424| loss: 0.14425 | train_mse: 0.0506  | train_mae: 0.17685 |  0:00:45s\n"
     ]
    },
    {
     "name": "stdout",
     "output_type": "stream",
     "text": [
      "epoch 425| loss: 0.07302 | train_mse: 0.04948 | train_mae: 0.17573 |  0:00:45s\n",
      "epoch 426| loss: 0.11022 | train_mse: 0.04902 | train_mae: 0.17541 |  0:00:45s\n",
      "epoch 427| loss: 0.11402 | train_mse: 0.05022 | train_mae: 0.17679 |  0:00:45s\n"
     ]
    },
    {
     "name": "stdout",
     "output_type": "stream",
     "text": [
      "epoch 428| loss: 0.12809 | train_mse: 0.05044 | train_mae: 0.17864 |  0:00:45s\n",
      "epoch 429| loss: 0.18532 | train_mse: 0.05044 | train_mae: 0.17986 |  0:00:45s\n",
      "epoch 430| loss: 0.05803 | train_mse: 0.05172 | train_mae: 0.18234 |  0:00:45s\n"
     ]
    },
    {
     "name": "stdout",
     "output_type": "stream",
     "text": [
      "epoch 431| loss: 0.09651 | train_mse: 0.05131 | train_mae: 0.1816  |  0:00:45s\n",
      "epoch 432| loss: 0.12258 | train_mse: 0.05034 | train_mae: 0.18097 |  0:00:46s\n",
      "epoch 433| loss: 0.06894 | train_mse: 0.05131 | train_mae: 0.18169 |  0:00:46s\n"
     ]
    },
    {
     "name": "stdout",
     "output_type": "stream",
     "text": [
      "epoch 434| loss: 0.10412 | train_mse: 0.05188 | train_mae: 0.18231 |  0:00:46s\n",
      "epoch 435| loss: 0.1784  | train_mse: 0.05235 | train_mae: 0.18243 |  0:00:46s\n",
      "epoch 436| loss: 0.08489 | train_mse: 0.05374 | train_mae: 0.18434 |  0:00:46s\n"
     ]
    },
    {
     "name": "stdout",
     "output_type": "stream",
     "text": [
      "epoch 437| loss: 0.17639 | train_mse: 0.05596 | train_mae: 0.18721 |  0:00:46s\n",
      "epoch 438| loss: 0.0907  | train_mse: 0.05728 | train_mae: 0.18926 |  0:00:46s\n"
     ]
    },
    {
     "name": "stdout",
     "output_type": "stream",
     "text": [
      "epoch 439| loss: 0.15858 | train_mse: 0.05613 | train_mae: 0.18744 |  0:00:46s\n",
      "epoch 440| loss: 0.15888 | train_mse: 0.05569 | train_mae: 0.18518 |  0:00:46s\n",
      "epoch 441| loss: 0.11544 | train_mse: 0.05474 | train_mae: 0.18332 |  0:00:46s\n"
     ]
    },
    {
     "name": "stdout",
     "output_type": "stream",
     "text": [
      "epoch 442| loss: 0.13833 | train_mse: 0.05448 | train_mae: 0.18085 |  0:00:46s\n",
      "epoch 443| loss: 0.24941 | train_mse: 0.05125 | train_mae: 0.17576 |  0:00:47s\n",
      "epoch 444| loss: 0.13577 | train_mse: 0.04912 | train_mae: 0.17191 |  0:00:47s\n"
     ]
    },
    {
     "name": "stdout",
     "output_type": "stream",
     "text": [
      "epoch 445| loss: 0.1138  | train_mse: 0.04914 | train_mae: 0.17105 |  0:00:47s\n",
      "epoch 446| loss: 0.20462 | train_mse: 0.05228 | train_mae: 0.17514 |  0:00:47s\n",
      "epoch 447| loss: 0.10834 | train_mse: 0.05584 | train_mae: 0.18033 |  0:00:47s\n"
     ]
    },
    {
     "name": "stdout",
     "output_type": "stream",
     "text": [
      "epoch 448| loss: 0.12581 | train_mse: 0.05895 | train_mae: 0.18553 |  0:00:47s\n",
      "epoch 449| loss: 0.22582 | train_mse: 0.06118 | train_mae: 0.18923 |  0:00:47s\n"
     ]
    },
    {
     "name": "stdout",
     "output_type": "stream",
     "text": [
      "epoch 450| loss: 0.1272  | train_mse: 0.06331 | train_mae: 0.19208 |  0:00:47s\n",
      "epoch 451| loss: 0.1796  | train_mse: 0.06249 | train_mae: 0.19147 |  0:00:47s\n",
      "epoch 452| loss: 0.15529 | train_mse: 0.06008 | train_mae: 0.18936 |  0:00:47s\n"
     ]
    },
    {
     "name": "stdout",
     "output_type": "stream",
     "text": [
      "epoch 453| loss: 0.09795 | train_mse: 0.05855 | train_mae: 0.18691 |  0:00:48s\n",
      "epoch 454| loss: 0.11784 | train_mse: 0.05476 | train_mae: 0.18291 |  0:00:48s\n",
      "epoch 455| loss: 0.18699 | train_mse: 0.05282 | train_mae: 0.18086 |  0:00:48s\n"
     ]
    },
    {
     "name": "stdout",
     "output_type": "stream",
     "text": [
      "epoch 456| loss: 0.1373  | train_mse: 0.05097 | train_mae: 0.17675 |  0:00:48s\n",
      "epoch 457| loss: 0.23869 | train_mse: 0.05014 | train_mae: 0.17519 |  0:00:48s\n",
      "epoch 458| loss: 0.24392 | train_mse: 0.04978 | train_mae: 0.1745  |  0:00:48s\n"
     ]
    },
    {
     "name": "stdout",
     "output_type": "stream",
     "text": [
      "epoch 459| loss: 0.25656 | train_mse: 0.04945 | train_mae: 0.17465 |  0:00:48s\n",
      "epoch 460| loss: 0.08133 | train_mse: 0.0493  | train_mae: 0.17558 |  0:00:48s\n"
     ]
    },
    {
     "name": "stdout",
     "output_type": "stream",
     "text": [
      "epoch 461| loss: 0.1251  | train_mse: 0.04938 | train_mae: 0.17561 |  0:00:48s\n",
      "epoch 462| loss: 0.11701 | train_mse: 0.0506  | train_mae: 0.17752 |  0:00:48s\n",
      "epoch 463| loss: 0.26613 | train_mse: 0.05001 | train_mae: 0.17553 |  0:00:48s\n"
     ]
    },
    {
     "name": "stdout",
     "output_type": "stream",
     "text": [
      "epoch 464| loss: 0.162   | train_mse: 0.05124 | train_mae: 0.17651 |  0:00:49s\n",
      "epoch 465| loss: 0.14687 | train_mse: 0.05161 | train_mae: 0.17658 |  0:00:49s\n",
      "epoch 466| loss: 0.08138 | train_mse: 0.05195 | train_mae: 0.17768 |  0:00:49s\n"
     ]
    },
    {
     "name": "stdout",
     "output_type": "stream",
     "text": [
      "epoch 467| loss: 0.106   | train_mse: 0.05184 | train_mae: 0.1783  |  0:00:49s\n",
      "epoch 468| loss: 0.10523 | train_mse: 0.05199 | train_mae: 0.1781  |  0:00:49s\n",
      "epoch 469| loss: 0.11415 | train_mse: 0.05339 | train_mae: 0.17897 |  0:00:49s\n"
     ]
    },
    {
     "name": "stdout",
     "output_type": "stream",
     "text": [
      "epoch 470| loss: 0.0701  | train_mse: 0.05414 | train_mae: 0.17927 |  0:00:49s\n",
      "epoch 471| loss: 0.10995 | train_mse: 0.05509 | train_mae: 0.18204 |  0:00:49s\n"
     ]
    },
    {
     "name": "stdout",
     "output_type": "stream",
     "text": [
      "epoch 472| loss: 0.09486 | train_mse: 0.05489 | train_mae: 0.18278 |  0:00:49s\n",
      "epoch 473| loss: 0.09411 | train_mse: 0.05304 | train_mae: 0.17964 |  0:00:49s\n",
      "epoch 474| loss: 0.14859 | train_mse: 0.05013 | train_mae: 0.17613 |  0:00:50s\n"
     ]
    },
    {
     "name": "stdout",
     "output_type": "stream",
     "text": [
      "epoch 475| loss: 0.11291 | train_mse: 0.05004 | train_mae: 0.17626 |  0:00:50s\n",
      "epoch 476| loss: 0.06527 | train_mse: 0.04976 | train_mae: 0.17548 |  0:00:50s\n",
      "epoch 477| loss: 0.11696 | train_mse: 0.04904 | train_mae: 0.1729  |  0:00:50s\n"
     ]
    },
    {
     "name": "stdout",
     "output_type": "stream",
     "text": [
      "epoch 478| loss: 0.0779  | train_mse: 0.04963 | train_mae: 0.17449 |  0:00:50s\n",
      "epoch 479| loss: 0.09672 | train_mse: 0.04979 | train_mae: 0.17508 |  0:00:50s\n",
      "epoch 480| loss: 0.20363 | train_mse: 0.04984 | train_mae: 0.17705 |  0:00:50s\n"
     ]
    },
    {
     "name": "stdout",
     "output_type": "stream",
     "text": [
      "epoch 481| loss: 0.10035 | train_mse: 0.04815 | train_mae: 0.17563 |  0:00:50s\n",
      "epoch 482| loss: 0.11041 | train_mse: 0.0475  | train_mae: 0.17506 |  0:00:50s\n",
      "epoch 483| loss: 0.094   | train_mse: 0.04693 | train_mae: 0.17377 |  0:00:50s\n"
     ]
    },
    {
     "name": "stdout",
     "output_type": "stream",
     "text": [
      "epoch 484| loss: 0.09113 | train_mse: 0.04799 | train_mae: 0.17561 |  0:00:51s\n",
      "epoch 485| loss: 0.12377 | train_mse: 0.04779 | train_mae: 0.17557 |  0:00:51s\n",
      "epoch 486| loss: 0.11844 | train_mse: 0.04657 | train_mae: 0.1725  |  0:00:51s\n"
     ]
    },
    {
     "name": "stdout",
     "output_type": "stream",
     "text": [
      "epoch 487| loss: 0.10851 | train_mse: 0.04675 | train_mae: 0.17157 |  0:00:51s\n",
      "epoch 488| loss: 0.07039 | train_mse: 0.04785 | train_mae: 0.17274 |  0:00:51s\n",
      "epoch 489| loss: 0.08587 | train_mse: 0.048   | train_mae: 0.1727  |  0:00:51s\n"
     ]
    },
    {
     "name": "stdout",
     "output_type": "stream",
     "text": [
      "epoch 490| loss: 0.11222 | train_mse: 0.04859 | train_mae: 0.1749  |  0:00:51s\n",
      "epoch 491| loss: 0.15885 | train_mse: 0.04968 | train_mae: 0.1786  |  0:00:51s\n"
     ]
    },
    {
     "name": "stdout",
     "output_type": "stream",
     "text": [
      "epoch 492| loss: 0.07037 | train_mse: 0.05026 | train_mae: 0.17992 |  0:00:51s\n",
      "epoch 493| loss: 0.12007 | train_mse: 0.05132 | train_mae: 0.18163 |  0:00:51s\n"
     ]
    },
    {
     "name": "stdout",
     "output_type": "stream",
     "text": [
      "epoch 494| loss: 0.102   | train_mse: 0.05256 | train_mae: 0.18332 |  0:00:52s\n",
      "epoch 495| loss: 0.09422 | train_mse: 0.05324 | train_mae: 0.18378 |  0:00:52s\n",
      "\n",
      "Early stopping occurred at epoch 495 with best_epoch = 445 and best_train_mae = 0.17105\n",
      "Best weights from best epoch are automatically used!\n"
     ]
    }
   ],
   "source": [
    "#Train the Model\n",
    "\n",
    "Y_train = np.reshape(Y_train, (-1, 1))\n",
    "Y_test = np.reshape(Y_test, (-1, 1))\n",
    "\n",
    "prior_model = TabNetRegressor(optimizer_fn=torch.optim.Adam, optimizer_params=dict(lr = 0.001),\n",
    "          #scheduler_params={\"step_size\":10, ], \"gamma\":0.9},\n",
    "          #scheduler_fn=torch.optim.lr_scheduler.StepLR\n",
    "          )  #TabNetRegressor()\n",
    "\n",
    "prior_model.fit(X_train,Y_train,eval_set=[(X_train, Y_train)],\n",
    "            eval_name=['train'], \n",
    "            eval_metric=[ 'mse', 'mae'], \n",
    "            max_epochs = n_epochs, \n",
    "            batch_size = batch_size,\n",
    "            patience=50\n",
    "            )"
   ]
  },
  {
   "cell_type": "code",
   "execution_count": 10,
   "id": "af65dcda",
   "metadata": {
    "execution": {
     "iopub.execute_input": "2022-07-22T10:34:16.677691Z",
     "iopub.status.busy": "2022-07-22T10:34:16.676703Z",
     "iopub.status.idle": "2022-07-22T10:34:16.730567Z",
     "shell.execute_reply": "2022-07-22T10:34:16.729276Z"
    },
    "id": "af65dcda",
    "papermill": {
     "duration": 0.087112,
     "end_time": "2022-07-22T10:34:16.736326",
     "exception": false,
     "start_time": "2022-07-22T10:34:16.649214",
     "status": "completed"
    },
    "tags": []
   },
   "outputs": [
    {
     "data": {
      "application/scrapbook.scrap.json+json": {
       "data": 0.32082071700935105,
       "encoder": "json",
       "name": "Prior Model MSE",
       "version": 1
      }
     },
     "metadata": {
      "scrapbook": {
       "data": true,
       "display": false,
       "name": "Prior Model MSE"
      }
     },
     "output_type": "display_data"
    },
    {
     "data": {
      "application/scrapbook.scrap.json+json": {
       "data": 0.34597379845392745,
       "encoder": "json",
       "name": "ABC Pre-generator MSE",
       "version": 1
      }
     },
     "metadata": {
      "scrapbook": {
       "data": true,
       "display": false,
       "name": "ABC Pre-generator MSE"
      }
     },
     "output_type": "display_data"
    },
    {
     "data": {
      "application/scrapbook.scrap.json+json": {
       "data": 0.42935873246419964,
       "encoder": "json",
       "name": "Prior Model MAE",
       "version": 1
      }
     },
     "metadata": {
      "scrapbook": {
       "data": true,
       "display": false,
       "name": "Prior Model MAE"
      }
     },
     "output_type": "display_data"
    },
    {
     "name": "stdout",
     "output_type": "stream",
     "text": [
      "Prior Model MAE 0.42935873246419964\n"
     ]
    },
    {
     "data": {
      "application/scrapbook.scrap.json+json": {
       "data": 0.42930746363852246,
       "encoder": "json",
       "name": "ABC Pre-generator MAE",
       "version": 1
      }
     },
     "metadata": {
      "scrapbook": {
       "data": true,
       "display": false,
       "name": "ABC Pre-generator MAE"
      }
     },
     "output_type": "display_data"
    },
    {
     "name": "stdout",
     "output_type": "stream",
     "text": [
      "ABC Pre-generator MAE 0.42930746363852246\n"
     ]
    }
   ],
   "source": [
    "y_pred = prior_model.predict(X_test)\n",
    "y_abc = y_pred + np.random.normal(0,variance, y_pred.shape) + bias \n",
    "mse = mean_squared_error(y_pred,Y_test)\n",
    "sb.glue(\"Prior Model MSE\",mse)\n",
    "mse = mean_squared_error(y_abc,Y_test)\n",
    "sb.glue(\"ABC Pre-generator MSE\",mse)\n",
    "mae = mean_absolute_error(y_pred,Y_test)\n",
    "sb.glue(\"Prior Model MAE\",mae)\n",
    "print(\"Prior Model MAE\",mae)\n",
    "mae = mean_absolute_error(y_abc,Y_test)\n",
    "sb.glue(\"ABC Pre-generator MAE\",mae)\n",
    "print(\"ABC Pre-generator MAE\",mae)"
   ]
  },
  {
   "cell_type": "markdown",
   "id": "25609da2",
   "metadata": {
    "papermill": {
     "duration": 0.033031,
     "end_time": "2022-07-22T10:34:16.792652",
     "exception": false,
     "start_time": "2022-07-22T10:34:16.759621",
     "status": "completed"
    },
    "tags": []
   },
   "source": [
    "# mGAN Model"
   ]
  },
  {
   "cell_type": "code",
   "execution_count": 11,
   "id": "dfc3464d",
   "metadata": {
    "execution": {
     "iopub.execute_input": "2022-07-22T10:34:16.846263Z",
     "iopub.status.busy": "2022-07-22T10:34:16.845573Z",
     "iopub.status.idle": "2022-07-22T10:34:16.853403Z",
     "shell.execute_reply": "2022-07-22T10:34:16.850391Z"
    },
    "papermill": {
     "duration": 0.037151,
     "end_time": "2022-07-22T10:34:16.856988",
     "exception": false,
     "start_time": "2022-07-22T10:34:16.819837",
     "status": "completed"
    },
    "tags": []
   },
   "outputs": [],
   "source": [
    "# gen = network.Generator(n_features+1).to(device)\n",
    "# disc = network.Discriminator(n_features+1).to(device)\n",
    "\n",
    "# criterion = torch.nn.BCELoss()\n",
    "# gen_opt = torch.optim.Adam(gen.parameters(), lr=0.001, betas=(0.5, 0.999))\n",
    "# disc_opt = torch.optim.Adam(disc.parameters(), lr=0.001, betas=(0.5, 0.999))"
   ]
  },
  {
   "cell_type": "code",
   "execution_count": 12,
   "id": "b75fdd85",
   "metadata": {
    "execution": {
     "iopub.execute_input": "2022-07-22T10:34:16.908234Z",
     "iopub.status.busy": "2022-07-22T10:34:16.907593Z",
     "iopub.status.idle": "2022-07-22T10:34:16.912063Z",
     "shell.execute_reply": "2022-07-22T10:34:16.910930Z"
    },
    "papermill": {
     "duration": 0.034067,
     "end_time": "2022-07-22T10:34:16.916367",
     "exception": false,
     "start_time": "2022-07-22T10:34:16.882300",
     "status": "completed"
    },
    "tags": []
   },
   "outputs": [],
   "source": [
    "#Training the ABC_GAN \n",
    "# ABC_train_test2.training_GAN(disc,gen,disc_opt,gen_opt,train_data,batch_size,n_epochs,criterion,prior_model,variance,bias,device)"
   ]
  },
  {
   "cell_type": "code",
   "execution_count": 13,
   "id": "1fa7c368",
   "metadata": {
    "execution": {
     "iopub.execute_input": "2022-07-22T10:34:16.981722Z",
     "iopub.status.busy": "2022-07-22T10:34:16.980630Z",
     "iopub.status.idle": "2022-07-22T10:34:16.986172Z",
     "shell.execute_reply": "2022-07-22T10:34:16.984977Z"
    },
    "papermill": {
     "duration": 0.048575,
     "end_time": "2022-07-22T10:34:16.990980",
     "exception": false,
     "start_time": "2022-07-22T10:34:16.942405",
     "status": "completed"
    },
    "tags": []
   },
   "outputs": [],
   "source": [
    "# ABC_GAN1_metrics=ABC_train_test2.test_generator(gen,test_data,prior_model,variance,bias,\"1\",device)\n",
    "# sb.glue(\"ABC_GAN_1 Metrics\",ABC_GAN1_metrics)\n",
    "\n",
    "# print(\"MAE\")\n",
    "# print(mean(ABC_GAN1_metrics[1]))"
   ]
  },
  {
   "cell_type": "code",
   "execution_count": 14,
   "id": "eb22ce5c",
   "metadata": {
    "execution": {
     "iopub.execute_input": "2022-07-22T10:34:17.067494Z",
     "iopub.status.busy": "2022-07-22T10:34:17.065769Z",
     "iopub.status.idle": "2022-07-22T10:34:17.072931Z",
     "shell.execute_reply": "2022-07-22T10:34:17.070669Z"
    },
    "papermill": {
     "duration": 0.048577,
     "end_time": "2022-07-22T10:34:17.079835",
     "exception": false,
     "start_time": "2022-07-22T10:34:17.031258",
     "status": "completed"
    },
    "tags": []
   },
   "outputs": [],
   "source": [
    "# sanityChecks.discProbVsError(train_data,disc,device)\n",
    "# sanityChecks.discProbVsError(test_data,disc,device)"
   ]
  },
  {
   "cell_type": "markdown",
   "id": "682e52f4",
   "metadata": {
    "papermill": {
     "duration": 0.036904,
     "end_time": "2022-07-22T10:34:17.156271",
     "exception": false,
     "start_time": "2022-07-22T10:34:17.119367",
     "status": "completed"
    },
    "tags": []
   },
   "source": [
    "# mGAN Model with TabNet Generator"
   ]
  },
  {
   "cell_type": "code",
   "execution_count": 15,
   "id": "d1c3289c",
   "metadata": {
    "execution": {
     "iopub.execute_input": "2022-07-22T10:34:17.222996Z",
     "iopub.status.busy": "2022-07-22T10:34:17.222619Z",
     "iopub.status.idle": "2022-07-22T10:34:17.260945Z",
     "shell.execute_reply": "2022-07-22T10:34:17.259626Z"
    },
    "papermill": {
     "duration": 0.084136,
     "end_time": "2022-07-22T10:34:17.275832",
     "exception": false,
     "start_time": "2022-07-22T10:34:17.191696",
     "status": "completed"
    },
    "tags": []
   },
   "outputs": [],
   "source": [
    "gen2 = network.GeneratorTabnet(n_features+1).to(device)\n",
    "disc2 = network.Discriminator(n_features+1).to(device)\n",
    "\n",
    "criterion = torch.nn.BCELoss()\n",
    "gen_opt = torch.optim.Adam(gen2.parameters(), lr=0.001, betas=(0.5, 0.999))\n",
    "disc_opt = torch.optim.Adam(disc2.parameters(), lr=0.001, betas=(0.5, 0.999))"
   ]
  },
  {
   "cell_type": "code",
   "execution_count": 16,
   "id": "f2c680bb",
   "metadata": {
    "execution": {
     "iopub.execute_input": "2022-07-22T10:34:17.327050Z",
     "iopub.status.busy": "2022-07-22T10:34:17.326694Z",
     "iopub.status.idle": "2022-07-22T10:37:14.503784Z",
     "shell.execute_reply": "2022-07-22T10:37:14.502195Z"
    },
    "papermill": {
     "duration": 177.206789,
     "end_time": "2022-07-22T10:37:14.507809",
     "exception": false,
     "start_time": "2022-07-22T10:34:17.301020",
     "status": "completed"
    },
    "tags": []
   },
   "outputs": [
    {
     "data": {
      "image/png": "[encoded data removed]",
      "text/plain": [
       "<Figure size 432x288 with 1 Axes>"
      ]
     },
     "metadata": {
      "needs_background": "light"
     },
     "output_type": "display_data"
    },
    {
     "data": {
      "image/png": "[encoded data removed]",
      "text/plain": [
       "<Figure size 432x288 with 1 Axes>"
      ]
     },
     "metadata": {
      "needs_background": "light"
     },
     "output_type": "display_data"
    }
   ],
   "source": [
    "#Training the ABC_GAN \n",
    "ABC_train_test2.training_GAN(disc2,gen2,disc_opt,gen_opt,train_data,batch_size,n_epochs,criterion,prior_model,variance,bias,device)"
   ]
  },
  {
   "cell_type": "code",
   "execution_count": 17,
   "id": "e519e094",
   "metadata": {
    "execution": {
     "iopub.execute_input": "2022-07-22T10:37:14.564886Z",
     "iopub.status.busy": "2022-07-22T10:37:14.564246Z",
     "iopub.status.idle": "2022-07-22T10:37:16.510057Z",
     "shell.execute_reply": "2022-07-22T10:37:16.508832Z"
    },
    "papermill": {
     "duration": 1.980804,
     "end_time": "2022-07-22T10:37:16.512907",
     "exception": false,
     "start_time": "2022-07-22T10:37:14.532103",
     "status": "completed"
    },
    "tags": []
   },
   "outputs": [
    {
     "data": {
      "application/scrapbook.scrap.json+json": {
       "data": 0.23828143222971826,
       "encoder": "json",
       "name": "ABC-GAN Model 1 MSE",
       "version": 1
      }
     },
     "metadata": {
      "scrapbook": {
       "data": true,
       "display": false,
       "name": "ABC-GAN Model 1 MSE"
      }
     },
     "output_type": "display_data"
    },
    {
     "data": {
      "application/scrapbook.scrap.json+json": {
       "data": 0.36310115895047784,
       "encoder": "json",
       "name": "ABC-GAN Model 1 MAE",
       "version": 1
      }
     },
     "metadata": {
      "scrapbook": {
       "data": true,
       "display": false,
       "name": "ABC-GAN Model 1 MAE"
      }
     },
     "output_type": "display_data"
    },
    {
     "data": {
      "application/scrapbook.scrap.json+json": {
       "data": 7.262023179009557,
       "encoder": "json",
       "name": "ABC-GAN Model 1 Manhattan Distance",
       "version": 1
      }
     },
     "metadata": {
      "scrapbook": {
       "data": true,
       "display": false,
       "name": "ABC-GAN Model 1 Manhattan Distance"
      }
     },
     "output_type": "display_data"
    },
    {
     "data": {
      "application/scrapbook.scrap.json+json": {
       "data": 2.180648400146065,
       "encoder": "json",
       "name": "ABC-GAN Model 1 Euclidean distance",
       "version": 1
      }
     },
     "metadata": {
      "scrapbook": {
       "data": true,
       "display": false,
       "name": "ABC-GAN Model 1 Euclidean distance"
      }
     },
     "output_type": "display_data"
    },
    {
     "data": {
      "application/scrapbook.scrap.json+json": {
       "data": [
        [
         0.3032981953055295,
         0.24064521152096213,
         0.27099842652238626,
         0.24396527876982219,
         0.2282822250422561,
         0.23501957572384136,
         0.22342231104359395,
         0.21980533112334782,
         0.2565343256188456,
         0.24973580629789796,
         0.27353479731667907,
         0.2261531882141008,
         0.21958551028826861,
         0.24977016677779065,
         0.2985243031643203,
         0.2277175499736554,
         0.24382695832737095,
         0.21496401731639284,
         0.26081972495656186,
         0.23860078098232623,
         0.23343953932874548,
         0.213293352780084,
         0.2449885238327763,
         0.2306798301696585,
         0.23935830050549933,
         0.25917121037943425,
         0.25573202874794776,
         0.24850190657738339,
         0.22383521802987533,
         0.19786283081134345,
         0.22384607577594662,
         0.2398273845193497,
         0.2333400369596617,
         0.22958880040132668,
         0.2233284275730199,
         0.23074474275903345,
         0.21107590144743432,
         0.20790382024253723,
         0.2213751381116082,
         0.24378247093912703,
         0.20025280828156378,
         0.24062473148331254,
         0.2664627745952554,
         0.2112809603495535,
         0.2589324649913428,
         0.28856273628833645,
         0.22252277788179686,
         0.19504154448241537,
         0.2697173813157544,
         0.2570864882885034,
         0.22056133447293286,
         0.2467158823001566,
         0.2309110696765603,
         0.23132359903920197,
         0.2500845801934021,
         0.24344565735281218,
         0.2035259443852789,
         0.23658147798202175,
         0.27027428547811827,
         0.22632924029269738,
         0.22844981858713478,
         0.24854970352718714,
         0.24497056484745,
         0.23657888120271373,
         0.23390246836542908,
         0.20727410130898355,
         0.24141018215178275,
         0.24540573522474007,
         0.23149243531566568,
         0.2069016987123653,
         0.2522452473102056,
         0.2998765366680199,
         0.2176909785082123,
         0.2768359296740712,
         0.23776875043109208,
         0.2512075773828329,
         0.25478492482954335,
         0.23899106202203382,
         0.2541205518161707,
         0.23333422019768552,
         0.2787303157650718,
         0.2353775354102861,
         0.28325607407253983,
         0.22784347154173495,
         0.23947668925007828,
         0.24999134159327507,
         0.21882238925245065,
         0.2439640439120608,
         0.21322385742555658,
         0.2223812575487109,
         0.21371794619495382,
         0.21868338997787234,
         0.22067189113138905,
         0.2746326696358617,
         0.24405962644894927,
         0.21408476126863613,
         0.20700343084066822,
         0.2353315722048272,
         0.2129503404553986,
         0.22503228764942676
        ],
        [
         0.38628258984535935,
         0.34745177868753674,
         0.36597685385495426,
         0.35213440377265215,
         0.3572359839454293,
         0.36296899560838936,
         0.36195924784988165,
         0.3359684655442834,
         0.3529820593073964,
         0.3624070709571242,
         0.4035080851987004,
         0.34909827876836064,
         0.3524229833856225,
         0.3766110522672534,
         0.3966880517080426,
         0.36615685615688565,
         0.34677797835320234,
         0.3698795732110739,
         0.37608668450266125,
         0.37237315382808445,
         0.37443115655332804,
         0.3494844676926732,
         0.3786414900794625,
         0.3704926880076528,
         0.3643787601962686,
         0.3920613253489137,
         0.3770748497918248,
         0.3765061927959323,
         0.3747559988871217,
         0.3605487274006009,
         0.3549425084143877,
         0.36445546615868807,
         0.33691934775561094,
         0.3642235590144992,
         0.3357627743855119,
         0.355392617918551,
         0.3520909929648042,
         0.3634996073320508,
         0.35624343771487477,
         0.34888344202190635,
         0.32074773255735634,
         0.35598428491503,
         0.3954555677250028,
         0.3657203005626798,
         0.3654582494869828,
         0.397223243303597,
         0.3482500469312072,
         0.3563639594241977,
         0.3638383293524384,
         0.36732094679027794,
         0.34986466336995364,
         0.34962425474077463,
         0.35630913730710745,
         0.3801584796980023,
         0.37642383500933646,
         0.3755973184481263,
         0.34346701819449665,
         0.37280766405165194,
         0.3661969548091292,
         0.3509505895897746,
         0.3383647447451949,
         0.3382193485274911,
         0.3671276656910777,
         0.3572658641263843,
         0.3664244247600436,
         0.35006629545241597,
         0.3709174836054444,
         0.3500758083537221,
         0.36241901349276306,
         0.34220490548759697,
         0.38146218154579403,
         0.3883006235584617,
         0.3591224098578095,
         0.38335366640239954,
         0.3524106005206704,
         0.35945730227977035,
         0.3787642212584615,
         0.36786659602075816,
         0.3812493206933141,
         0.3507000068202615,
         0.38495961148291824,
         0.3585716562345624,
         0.3790085488930345,
         0.37290648836642504,
         0.37421245109289886,
         0.3696088621392846,
         0.3611381912603974,
         0.36641780454665424,
         0.33502105716615915,
         0.33976050186902285,
         0.3738147599622607,
         0.34129493180662396,
         0.3526677178218961,
         0.3893548307940364,
         0.38516430351883174,
         0.3762177938595414,
         0.3375457992777228,
         0.37287373971194027,
         0.33269505146890876,
         0.35758717712014915
        ],
        [
         7.7256517969071865,
         6.949035573750734,
         7.319537077099085,
         7.042688075453043,
         7.1447196789085865,
         7.2593799121677876,
         7.239184956997633,
         6.719369310885668,
         7.059641186147928,
         7.248141419142485,
         8.070161703974009,
         6.981965575367212,
         7.04845966771245,
         7.532221045345068,
         7.933761034160852,
         7.3231371231377125,
         6.935559567064047,
         7.3975914642214775,
         7.521733690053225,
         7.447463076561689,
         7.488623131066561,
         6.989689353853464,
         7.572829801589251,
         7.409853760153055,
         7.287575203925371,
         7.841226506978273,
         7.541496995836496,
         7.530123855918646,
         7.4951199777424335,
         7.210974548012018,
         7.098850168287754,
         7.289109323173761,
         6.738386955112219,
         7.284471180289984,
         6.7152554877102375,
         7.107852358371019,
         7.0418198592960835,
         7.269992146641016,
         7.124868754297495,
         6.9776688404381275,
         6.414954651147127,
         7.1196856983006,
         7.909111354500055,
         7.314406011253595,
         7.3091649897396564,
         7.9444648660719395,
         6.965000938624144,
         7.1272791884839535,
         7.276766587048769,
         7.346418935805559,
         6.997293267399073,
         6.992485094815493,
         7.126182746142149,
         7.603169593960047,
         7.528476700186729,
         7.511946368962526,
         6.869340363889933,
         7.456153281033039,
         7.323939096182585,
         7.019011791795492,
         6.767294894903898,
         6.764386970549822,
         7.342553313821554,
         7.145317282527685,
         7.328488495200872,
         7.001325909048319,
         7.418349672108889,
         7.001516167074442,
         7.248380269855261,
         6.84409810975194,
         7.62924363091588,
         7.766012471169233,
         7.182448197156191,
         7.667073328047991,
         7.048212010413408,
         7.1891460455954075,
         7.5752844251692295,
         7.357331920415163,
         7.6249864138662815,
         7.01400013640523,
         7.699192229658365,
         7.171433124691248,
         7.580170977860689,
         7.458129767328501,
         7.484249021857977,
         7.392177242785692,
         7.222763825207949,
         7.3283560909330845,
         6.700421143323183,
         6.795210037380457,
         7.4762951992452145,
         6.825898636132479,
         7.0533543564379215,
         7.787096615880728,
         7.703286070376635,
         7.524355877190828,
         6.750915985554457,
         7.457474794238806,
         6.653901029378176,
         7.151743542402983
        ],
        [
         2.462917762758348,
         2.193833227576618,
         2.328082586689683,
         2.2089150222216434,
         2.13673688151937,
         2.168038633068338,
         2.113869963094201,
         2.0966894434958547,
         2.265101876820756,
         2.234886155032949,
         2.3389518905555926,
         2.126749577238001,
         2.0956407625748676,
         2.235039895741419,
         2.4434578087796823,
         2.134092547073137,
         2.2082887416611574,
         2.073470604162947,
         2.283942753032842,
         2.1844943624661806,
         2.1607384817637945,
         2.0653975538868248,
         2.2135425174718297,
         2.147928444663176,
         2.187959325515442,
         2.2767134662905395,
         2.2615571129111363,
         2.2293582331127646,
         2.115822383991035,
         1.9892854536810118,
         2.11587370027583,
         2.190102210031987,
         2.1602779310063864,
         2.142842973254581,
         2.113425785652384,
         2.1482306336100576,
         2.054633307660685,
         2.039136190854045,
         2.104163197623265,
         2.2080872760791275,
         2.0012636422099104,
         2.1937398728350295,
         2.3085180293653997,
         2.0556310970091567,
         2.275664584209821,
         2.4023435902815256,
         2.1096102857248153,
         1.9750521232737903,
         2.3225734921235723,
         2.2675382611479935,
         2.1002920486110157,
         2.221332403311835,
         2.1490047448833627,
         2.1509235181158903,
         2.236446199636388,
         2.2065613852907524,
         2.0175526976278904,
         2.175230920992168,
         2.324970044874205,
         2.1275772150156964,
         2.1375210810054472,
         2.229572620603272,
         2.2134613836588612,
         2.175218983011659,
         2.16287987815056,
         2.0360456837162744,
         2.1973173742169463,
         2.2154265287963852,
         2.151708322778279,
         2.034215813095382,
         2.246086584752269,
         2.448985653971945,
         2.0865808324060313,
         2.35302328791736,
         2.1806822346737826,
         2.2414619219733933,
         2.2573653883655753,
         2.186280229165666,
         2.254420332662792,
         2.160251004849601,
         2.3610604217811613,
         2.1696890809988703,
         2.3801515669071995,
         2.1346825128891416,
         2.188500350697154,
         2.236029255592489,
         2.0919961245301133,
         2.2089094318783684,
         2.065061052005759,
         2.1089393426493372,
         2.0674522785058613,
         2.091331585272275,
         2.1008183697377985,
         2.3436410545809343,
         2.2093421032015357,
         2.069225755052533,
         2.0347158565296937,
         2.16947722829638,
         2.0637361287499845,
         2.121472543538694
        ]
       ],
       "encoder": "json",
       "name": "ABC_GAN_2 Metrics",
       "version": 1
      }
     },
     "metadata": {
      "scrapbook": {
       "data": true,
       "display": false,
       "name": "ABC_GAN_2 Metrics"
      }
     },
     "output_type": "display_data"
    },
    {
     "name": "stdout",
     "output_type": "stream",
     "text": [
      "MAE\n",
      "0.36310115895047784\n"
     ]
    }
   ],
   "source": [
    "ABC_GAN2_metrics=ABC_train_test2.test_generator(gen2,test_data,prior_model,variance,bias,\"1\",device)\n",
    "sb.glue(\"ABC_GAN_2 Metrics\",ABC_GAN2_metrics)\n",
    "\n",
    "print(\"MAE\")\n",
    "print(mean(ABC_GAN2_metrics[1]))"
   ]
  },
  {
   "cell_type": "code",
   "execution_count": 18,
   "id": "928c80ce",
   "metadata": {
    "execution": {
     "iopub.execute_input": "2022-07-22T10:37:16.598648Z",
     "iopub.status.busy": "2022-07-22T10:37:16.597783Z",
     "iopub.status.idle": "2022-07-22T10:37:17.618652Z",
     "shell.execute_reply": "2022-07-22T10:37:17.617556Z"
    },
    "papermill": {
     "duration": 1.079819,
     "end_time": "2022-07-22T10:37:17.621953",
     "exception": false,
     "start_time": "2022-07-22T10:37:16.542134",
     "status": "completed"
    },
    "tags": []
   },
   "outputs": [
    {
     "data": {
      "image/png": "[encoded data removed]",
      "text/plain": [
       "<Figure size 432x288 with 1 Axes>"
      ]
     },
     "metadata": {
      "needs_background": "light"
     },
     "output_type": "display_data"
    },
    {
     "data": {
      "image/png": "[encoded data removed]",
      "text/plain": [
       "<Figure size 432x288 with 1 Axes>"
      ]
     },
     "metadata": {
      "needs_background": "light"
     },
     "output_type": "display_data"
    },
    {
     "data": {
      "image/png": "[encoded data removed]",
      "text/plain": [
       "<Figure size 432x288 with 1 Axes>"
      ]
     },
     "metadata": {
      "needs_background": "light"
     },
     "output_type": "display_data"
    },
    {
     "data": {
      "image/png": "[encoded data removed]",
      "text/plain": [
       "<Figure size 432x288 with 1 Axes>"
      ]
     },
     "metadata": {
      "needs_background": "light"
     },
     "output_type": "display_data"
    }
   ],
   "source": [
    "sanityChecks.discProbVsError(train_data,disc2,device)\n",
    "sanityChecks.discProbVsError(test_data,disc2,device)"
   ]
  },
  {
   "cell_type": "markdown",
   "id": "130f3a4d",
   "metadata": {
    "id": "130f3a4d",
    "papermill": {
     "duration": 0.02919,
     "end_time": "2022-07-22T10:37:17.678740",
     "exception": false,
     "start_time": "2022-07-22T10:37:17.649550",
     "status": "completed"
    },
    "tags": []
   },
   "source": [
    "# skipGAN Model"
   ]
  },
  {
   "cell_type": "code",
   "execution_count": 19,
   "id": "4e43dad1",
   "metadata": {
    "execution": {
     "iopub.execute_input": "2022-07-22T10:37:17.735835Z",
     "iopub.status.busy": "2022-07-22T10:37:17.735456Z",
     "iopub.status.idle": "2022-07-22T10:37:17.741074Z",
     "shell.execute_reply": "2022-07-22T10:37:17.739500Z"
    },
    "id": "4e43dad1",
    "papermill": {
     "duration": 0.039765,
     "end_time": "2022-07-22T10:37:17.746267",
     "exception": false,
     "start_time": "2022-07-22T10:37:17.706502",
     "status": "completed"
    },
    "tags": []
   },
   "outputs": [],
   "source": [
    "# #Generator\n",
    "# gen3 = network.GeneratorWithSkipConnection(n_features+1).to(device)\n",
    "# constraints=network.weightConstraint()\n",
    "# #Discriminator \n",
    "# disc3 = network.Discriminator(n_features+1).to(device)\n",
    "\n",
    "# criterion = torch.nn.BCELoss()\n",
    "# gen_opt = torch.optim.Adam(gen3.parameters(), lr=0.01, betas=(0.5, 0.999))\n",
    "# disc_opt = torch.optim.Adam(disc3.parameters(), lr=0.01, betas=(0.5, 0.999))\n"
   ]
  },
  {
   "cell_type": "code",
   "execution_count": 20,
   "id": "26acbc37",
   "metadata": {
    "execution": {
     "iopub.execute_input": "2022-07-22T10:37:17.807330Z",
     "iopub.status.busy": "2022-07-22T10:37:17.806621Z",
     "iopub.status.idle": "2022-07-22T10:37:17.812286Z",
     "shell.execute_reply": "2022-07-22T10:37:17.811155Z"
    },
    "id": "26acbc37",
    "papermill": {
     "duration": 0.038578,
     "end_time": "2022-07-22T10:37:17.815068",
     "exception": false,
     "start_time": "2022-07-22T10:37:17.776490",
     "status": "completed"
    },
    "tags": []
   },
   "outputs": [],
   "source": [
    "# ABC_train_test2.training_GAN_skip_connection(disc3,gen3,disc_opt,gen_opt,train_data,batch_size,n_epochs,criterion,prior_model,variance,bias,device)"
   ]
  },
  {
   "cell_type": "code",
   "execution_count": 21,
   "id": "c5e0717b",
   "metadata": {
    "execution": {
     "iopub.execute_input": "2022-07-22T10:37:17.877250Z",
     "iopub.status.busy": "2022-07-22T10:37:17.876802Z",
     "iopub.status.idle": "2022-07-22T10:37:17.883228Z",
     "shell.execute_reply": "2022-07-22T10:37:17.881239Z"
    },
    "id": "c5e0717b",
    "papermill": {
     "duration": 0.041991,
     "end_time": "2022-07-22T10:37:17.886713",
     "exception": false,
     "start_time": "2022-07-22T10:37:17.844722",
     "status": "completed"
    },
    "tags": []
   },
   "outputs": [],
   "source": [
    "# ABC_GAN3_metrics=ABC_train_test2.test_generator(gen3,test_data,prior_model,variance,bias,\"3\",device)\n",
    "# sb.glue(\"ABC_GAN_3 Metrics\",ABC_GAN3_metrics)\n",
    "\n",
    "# print(\"MAE\")\n",
    "# print(mean(ABC_GAN3_metrics[1]))"
   ]
  },
  {
   "cell_type": "code",
   "execution_count": 22,
   "id": "c8e46b48",
   "metadata": {
    "execution": {
     "iopub.execute_input": "2022-07-22T10:37:17.953511Z",
     "iopub.status.busy": "2022-07-22T10:37:17.952637Z",
     "iopub.status.idle": "2022-07-22T10:37:17.958120Z",
     "shell.execute_reply": "2022-07-22T10:37:17.956889Z"
    },
    "id": "c8e46b48",
    "papermill": {
     "duration": 0.040475,
     "end_time": "2022-07-22T10:37:17.962004",
     "exception": false,
     "start_time": "2022-07-22T10:37:17.921529",
     "status": "completed"
    },
    "tags": []
   },
   "outputs": [],
   "source": [
    "# sanityChecks.discProbVsError(train_data,disc3,device)\n",
    "# sanityChecks.discProbVsError(test_data,disc3,device)"
   ]
  },
  {
   "cell_type": "markdown",
   "id": "add2fa01",
   "metadata": {
    "id": "130f3a4d",
    "papermill": {
     "duration": 0.03628,
     "end_time": "2022-07-22T10:37:18.029232",
     "exception": false,
     "start_time": "2022-07-22T10:37:17.992952",
     "status": "completed"
    },
    "tags": []
   },
   "source": [
    "# skipGAN Model with TabNet Generator"
   ]
  },
  {
   "cell_type": "code",
   "execution_count": 23,
   "id": "dad785d8",
   "metadata": {
    "execution": {
     "iopub.execute_input": "2022-07-22T10:37:18.128290Z",
     "iopub.status.busy": "2022-07-22T10:37:18.127594Z",
     "iopub.status.idle": "2022-07-22T10:37:18.154735Z",
     "shell.execute_reply": "2022-07-22T10:37:18.153353Z"
    },
    "id": "4e43dad1",
    "papermill": {
     "duration": 0.085993,
     "end_time": "2022-07-22T10:37:18.158664",
     "exception": false,
     "start_time": "2022-07-22T10:37:18.072671",
     "status": "completed"
    },
    "tags": []
   },
   "outputs": [],
   "source": [
    "#Generator\n",
    "gen4 = network.GeneratorTabnetskipConnection(n_features+1).to(device)\n",
    "constraints=network.weightConstraint()\n",
    "#Discriminator \n",
    "disc4 = network.Discriminator(n_features+1).to(device)\n",
    "\n",
    "criterion = torch.nn.BCELoss()\n",
    "gen_opt = torch.optim.Adam(gen4.parameters(), lr=0.001, betas=(0.5, 0.999))\n",
    "disc_opt = torch.optim.Adam(disc4.parameters(), lr=0.001, betas=(0.5, 0.999))\n"
   ]
  },
  {
   "cell_type": "code",
   "execution_count": 24,
   "id": "6d711892",
   "metadata": {
    "execution": {
     "iopub.execute_input": "2022-07-22T10:37:18.238289Z",
     "iopub.status.busy": "2022-07-22T10:37:18.237800Z",
     "iopub.status.idle": "2022-07-22T10:40:44.264930Z",
     "shell.execute_reply": "2022-07-22T10:40:44.263656Z"
    },
    "id": "26acbc37",
    "papermill": {
     "duration": 206.06237,
     "end_time": "2022-07-22T10:40:44.268498",
     "exception": false,
     "start_time": "2022-07-22T10:37:18.206128",
     "status": "completed"
    },
    "tags": []
   },
   "outputs": [
    {
     "data": {
      "image/png": "[encoded data removed]",
      "text/plain": [
       "<Figure size 432x288 with 1 Axes>"
      ]
     },
     "metadata": {
      "needs_background": "light"
     },
     "output_type": "display_data"
    },
    {
     "data": {
      "image/png": "[encoded data removed]",
      "text/plain": [
       "<Figure size 432x288 with 1 Axes>"
      ]
     },
     "metadata": {
      "needs_background": "light"
     },
     "output_type": "display_data"
    }
   ],
   "source": [
    "ABC_train_test2.training_GAN_skip_connection(disc4,gen4,disc_opt,gen_opt,train_data,batch_size,n_epochs,criterion,prior_model,variance,bias,device)"
   ]
  },
  {
   "cell_type": "code",
   "execution_count": 25,
   "id": "0c0deaeb",
   "metadata": {
    "execution": {
     "iopub.execute_input": "2022-07-22T10:40:44.329565Z",
     "iopub.status.busy": "2022-07-22T10:40:44.329190Z",
     "iopub.status.idle": "2022-07-22T10:40:46.443736Z",
     "shell.execute_reply": "2022-07-22T10:40:46.442741Z"
    },
    "id": "c5e0717b",
    "papermill": {
     "duration": 2.151261,
     "end_time": "2022-07-22T10:40:46.448512",
     "exception": false,
     "start_time": "2022-07-22T10:40:44.297251",
     "status": "completed"
    },
    "tags": []
   },
   "outputs": [
    {
     "data": {
      "application/scrapbook.scrap.json+json": {
       "data": 0.4184600601842352,
       "encoder": "json",
       "name": "ABC-GAN Model 3 MSE",
       "version": 1
      }
     },
     "metadata": {
      "scrapbook": {
       "data": true,
       "display": false,
       "name": "ABC-GAN Model 3 MSE"
      }
     },
     "output_type": "display_data"
    },
    {
     "data": {
      "application/scrapbook.scrap.json+json": {
       "data": 0.5339307545898482,
       "encoder": "json",
       "name": "ABC-GAN Model 3 MAE",
       "version": 1
      }
     },
     "metadata": {
      "scrapbook": {
       "data": true,
       "display": false,
       "name": "ABC-GAN Model 3 MAE"
      }
     },
     "output_type": "display_data"
    },
    {
     "data": {
      "application/scrapbook.scrap.json+json": {
       "data": 10.678615091796964,
       "encoder": "json",
       "name": "ABC-GAN Model 3 Manhattan Distance",
       "version": 1
      }
     },
     "metadata": {
      "scrapbook": {
       "data": true,
       "display": false,
       "name": "ABC-GAN Model 3 Manhattan Distance"
      }
     },
     "output_type": "display_data"
    },
    {
     "data": {
      "application/scrapbook.scrap.json+json": {
       "data": 2.8897603015826054,
       "encoder": "json",
       "name": "ABC-GAN Model 3 Euclidean distance",
       "version": 1
      }
     },
     "metadata": {
      "scrapbook": {
       "data": true,
       "display": false,
       "name": "ABC-GAN Model 3 Euclidean distance"
      }
     },
     "output_type": "display_data"
    },
    {
     "data": {
      "application/scrapbook.scrap.json+json": {
       "data": [
        [
         0.4367629163715917,
         0.46701294967702367,
         0.4538709052390312,
         0.44042819281112167,
         0.5189444681226116,
         0.4322222491858332,
         0.3492658353438778,
         0.3781021439407735,
         0.44017028117553736,
         0.3741803451620177,
         0.42746447265836923,
         0.3685906270154426,
         0.48805712749861774,
         0.3621850147839634,
         0.47498557881253867,
         0.3767986471884804,
         0.3991660179873837,
         0.43943553962345394,
         0.39191577831948937,
         0.3906690741991145,
         0.4016092767630304,
         0.4322899056223939,
         0.4093145003232993,
         0.37068088217970674,
         0.4461711659518892,
         0.41352595083344623,
         0.40872405014041496,
         0.49744258931283003,
         0.4134963386861762,
         0.4165035717043251,
         0.3642388874723347,
         0.4247171088234033,
         0.37241923706904434,
         0.3609037737407652,
         0.41141983340833654,
         0.38319696362445355,
         0.364649842817775,
         0.4211701387107903,
         0.44241831553990335,
         0.4460364669588416,
         0.41767390095346657,
         0.4127623285432095,
         0.4350783507709754,
         0.48315203359669895,
         0.4056257186259347,
         0.4287173362404767,
         0.4541025836221678,
         0.45737264649429576,
         0.44186589890859806,
         0.3873695831358104,
         0.362741468545882,
         0.4245404049583554,
         0.43881807767765746,
         0.38045696257751593,
         0.4448806953200183,
         0.43485523022567296,
         0.4683476619180015,
         0.42337034488459746,
         0.5310389890011139,
         0.39250690191690535,
         0.35914991225932424,
         0.3503731098116344,
         0.4318234642886344,
         0.45816212387310407,
         0.402061646099245,
         0.45122208222906623,
         0.4026250192177227,
         0.3959369836398013,
         0.42274012750925616,
         0.41126652558756227,
         0.3717792775511458,
         0.4619269188603744,
         0.46020646736386406,
         0.4216698300284037,
         0.464120589579348,
         0.4690659550389924,
         0.379415042163119,
         0.4130670671805647,
         0.4395291327534151,
         0.41002093339258633,
         0.34662699976937256,
         0.4448294077552797,
         0.4520903547974224,
         0.4196619855996396,
         0.42758441250230483,
         0.5344855401756149,
         0.4545787679185912,
         0.4363452047274687,
         0.3965854370860396,
         0.40575800410316826,
         0.40221676231892783,
         0.38401439616796196,
         0.3998561984225807,
         0.37062835078396184,
         0.3706466094903891,
         0.4000033603763214,
         0.4056935482420041,
         0.3454379424377218,
         0.4397228519957189,
         0.3966435926090788
        ],
        [
         0.5804910130798817,
         0.5677025655284524,
         0.5530604569241404,
         0.5309752149507403,
         0.5709197210147977,
         0.5544185379520059,
         0.49058855455368755,
         0.5109019028022885,
         0.5221516752615571,
         0.5228709744289517,
         0.5312796780839563,
         0.4878238597884774,
         0.5577338291332126,
         0.5020477568730712,
         0.5966632561758161,
         0.4955065893009305,
         0.5261994810774923,
         0.5400497030466795,
         0.5412988347932697,
         0.5168564463034272,
         0.5096511268988252,
         0.5512682745233178,
         0.5362290536984802,
         0.48470459077507255,
         0.5571114091202617,
         0.5240962572395802,
         0.5106590436771512,
         0.5679893190041184,
         0.5414918480440974,
         0.5489060057327151,
         0.5084406131878495,
         0.5045466737821698,
         0.5251758204773068,
         0.49687896985560653,
         0.5382381761446595,
         0.5079782949760556,
         0.4911151802167296,
         0.5475930580869317,
         0.5254708012565971,
         0.5443545846268535,
         0.5613487513735891,
         0.5387740587815643,
         0.5190386371687055,
         0.54009790699929,
         0.5148831373080611,
         0.5386489724740386,
         0.5621286096051336,
         0.5397847661748528,
         0.5511844759806991,
         0.5302221344783902,
         0.493087057210505,
         0.5386228332296014,
         0.5478691210970282,
         0.5118221400305629,
         0.5800076650455595,
         0.5380529360845685,
         0.5582390252500773,
         0.5413422988727689,
         0.5920141635462641,
         0.537904834933579,
         0.49325768146663906,
         0.4666759127750993,
         0.5318852284923196,
         0.5441504893824458,
         0.542318713106215,
         0.5442430859431624,
         0.524260219372809,
         0.5327770637348295,
         0.5378031620755792,
         0.5249369768425822,
         0.5009050590917468,
         0.5498348927125335,
         0.5505623934790492,
         0.5592546893283725,
         0.5786698194220662,
         0.5577185342088342,
         0.49886660994961857,
         0.5420626105740667,
         0.5603880727663636,
         0.5120417984202504,
         0.5040383068844676,
         0.5460724195465445,
         0.5598364794626832,
         0.5337103654630482,
         0.5610535365529359,
         0.6096845395863056,
         0.5439956435933709,
         0.5521482178941369,
         0.5230334023013711,
         0.5473398106172681,
         0.5314915435388684,
         0.5336242580786348,
         0.5299016350880266,
         0.49674053844064475,
         0.5189759040251374,
         0.5252934219315648,
         0.548815863020718,
         0.4749913202598691,
         0.5372190004214644,
         0.505983561091125
        ],
        [
         11.609820261597633,
         11.354051310569048,
         11.061209138482809,
         10.619504299014807,
         11.418394420295954,
         11.088370759040117,
         9.811771091073751,
         10.21803805604577,
         10.443033505231142,
         10.457419488579035,
         10.625593561679125,
         9.756477195769548,
         11.154676582664251,
         10.040955137461424,
         11.933265123516321,
         9.91013178601861,
         10.523989621549845,
         10.80099406093359,
         10.825976695865393,
         10.337128926068544,
         10.193022537976503,
         11.025365490466356,
         10.724581073969603,
         9.694091815501451,
         11.142228182405233,
         10.481925144791603,
         10.213180873543024,
         11.359786380082369,
         10.829836960881948,
         10.978120114654303,
         10.16881226375699,
         10.090933475643396,
         10.503516409546137,
         9.937579397112131,
         10.76476352289319,
         10.159565899521112,
         9.822303604334593,
         10.951861161738634,
         10.50941602513194,
         10.88709169253707,
         11.22697502747178,
         10.775481175631285,
         10.38077274337411,
         10.8019581399858,
         10.297662746161222,
         10.772979449480772,
         11.24257219210267,
         10.795695323497057,
         11.023689519613981,
         10.604442689567804,
         9.8617411442101,
         10.772456664592028,
         10.957382421940565,
         10.236442800611258,
         11.600153300911188,
         10.76105872169137,
         11.164780505001545,
         10.826845977455378,
         11.840283270925283,
         10.75809669867158,
         9.86515362933278,
         9.333518255501986,
         10.637704569846392,
         10.883009787648916,
         10.8463742621243,
         10.884861718863249,
         10.485204387456179,
         10.655541274696589,
         10.756063241511583,
         10.498739536851645,
         10.018101181834936,
         10.99669785425067,
         11.011247869580984,
         11.18509378656745,
         11.573396388441324,
         11.154370684176683,
         9.977332198992372,
         10.841252211481333,
         11.207761455327272,
         10.240835968405008,
         10.080766137689352,
         10.921448390930891,
         11.196729589253664,
         10.674207309260964,
         11.221070731058717,
         12.193690791726112,
         10.879912871867418,
         11.042964357882738,
         10.460668046027422,
         10.946796212345362,
         10.629830870777369,
         10.672485161572695,
         10.59803270176053,
         9.934810768812895,
         10.379518080502748,
         10.505868438631296,
         10.976317260414362,
         9.499826405197382,
         10.744380008429289,
         10.1196712218225
        ],
        [
         2.9555470436844398,
         3.056183730331093,
         3.0128753881932493,
         2.9679224815049388,
         3.221628371251444,
         2.9401437012018077,
         2.6429749728057503,
         2.749916885801363,
         2.9670533570380475,
         2.7356181939810886,
         2.923916799973519,
         2.715108200479099,
         3.1242827256783845,
         2.6914123236099052,
         3.082160212618866,
         2.7451726619230357,
         2.825477014549521,
         2.964575988648137,
         2.7996991921257877,
         2.7952426520755385,
         2.8341110661476563,
         2.9403738048839765,
         2.861169342500717,
         2.722795923971191,
         2.987209955633816,
         2.87585100738354,
         2.859104930359902,
         3.154180049752487,
         2.8757480372458786,
         2.8861863131278445,
         2.699032743307627,
         2.9145054771724253,
         2.729172904266215,
         2.686647627586339,
         2.8685182007731327,
         2.768382067650538,
         2.7005549163746885,
         2.902309903200519,
         2.9746203641470053,
         2.986759002527126,
         2.8902384017705756,
         2.873194488868477,
         2.9498418627817165,
         3.108543175176111,
         2.848247596772214,
         2.928198546002223,
         3.0136442511423533,
         3.0244756454443325,
         2.972762684469105,
         2.783413670785607,
         2.6934790459399607,
         2.9138991230252134,
         2.9624924562862858,
         2.7584668298803807,
         2.982886841031749,
         2.9490853844053855,
         3.0605478657194736,
         2.9098809078194163,
         3.25895378611331,
         2.801809779113869,
         2.6801116105838734,
         2.647161157963883,
         2.9387870432837913,
         3.027084815042697,
         2.8357067764465524,
         3.0040708454664182,
         2.8376927924555986,
         2.8140255280995627,
         2.907714317154476,
         2.867983701444491,
         2.7268270115691084,
         3.0394964019073107,
         3.033830803996373,
         2.9040310949726544,
         3.04670507131671,
         3.06289390948819,
         2.7546870681190594,
         2.8742549197333376,
         2.9648916767848874,
         2.863637314300071,
         2.6329717042511964,
         2.982714896718356,
         3.006959776243847,
         2.897108854011666,
         2.9243269738601554,
         3.2695123189112314,
         3.015223931712506,
         2.9541333914617622,
         2.8163289477120372,
         2.848712004057863,
         2.8362537344847265,
         2.7713332393198837,
         2.827918663690951,
         2.7226029853210765,
         2.722670047913956,
         2.828439005445659,
         2.8484857319003867,
         2.6284517969242724,
         2.96554498194082,
         2.8165354342137388
        ]
       ],
       "encoder": "json",
       "name": "ABC_GAN_4 Metrics",
       "version": 1
      }
     },
     "metadata": {
      "scrapbook": {
       "data": true,
       "display": false,
       "name": "ABC_GAN_4 Metrics"
      }
     },
     "output_type": "display_data"
    },
    {
     "name": "stdout",
     "output_type": "stream",
     "text": [
      "MAE\n",
      "0.5339307545898482\n"
     ]
    }
   ],
   "source": [
    "ABC_GAN4_metrics=ABC_train_test2.test_generator(gen4,test_data,prior_model,variance,bias,\"3\",device)\n",
    "sb.glue(\"ABC_GAN_4 Metrics\",ABC_GAN4_metrics)\n",
    "\n",
    "print(\"MAE\")\n",
    "print(mean(ABC_GAN4_metrics[1]))"
   ]
  },
  {
   "cell_type": "code",
   "execution_count": 26,
   "id": "93063d29",
   "metadata": {
    "execution": {
     "iopub.execute_input": "2022-07-22T10:40:46.517395Z",
     "iopub.status.busy": "2022-07-22T10:40:46.515320Z",
     "iopub.status.idle": "2022-07-22T10:40:47.674012Z",
     "shell.execute_reply": "2022-07-22T10:40:47.672982Z"
    },
    "id": "c8e46b48",
    "papermill": {
     "duration": 1.195966,
     "end_time": "2022-07-22T10:40:47.676760",
     "exception": false,
     "start_time": "2022-07-22T10:40:46.480794",
     "status": "completed"
    },
    "tags": []
   },
   "outputs": [
    {
     "data": {
      "image/png": "[encoded data removed]",
      "text/plain": [
       "<Figure size 432x288 with 1 Axes>"
      ]
     },
     "metadata": {
      "needs_background": "light"
     },
     "output_type": "display_data"
    },
    {
     "data": {
      "image/png": "[encoded data removed]",
      "text/plain": [
       "<Figure size 432x288 with 1 Axes>"
      ]
     },
     "metadata": {
      "needs_background": "light"
     },
     "output_type": "display_data"
    },
    {
     "data": {
      "image/png": "[encoded data removed]",
      "text/plain": [
       "<Figure size 432x288 with 1 Axes>"
      ]
     },
     "metadata": {
      "needs_background": "light"
     },
     "output_type": "display_data"
    },
    {
     "data": {
      "image/png": "[encoded data removed]",
      "text/plain": [
       "<Figure size 432x288 with 1 Axes>"
      ]
     },
     "metadata": {
      "needs_background": "light"
     },
     "output_type": "display_data"
    }
   ],
   "source": [
    "sanityChecks.discProbVsError(train_data,disc4,device)\n",
    "sanityChecks.discProbVsError(test_data,disc4,device)"
   ]
  },
  {
   "cell_type": "markdown",
   "id": "a5bd74c3",
   "metadata": {
    "id": "a5bd74c3",
    "papermill": {
     "duration": 0.034119,
     "end_time": "2022-07-22T10:40:47.746476",
     "exception": false,
     "start_time": "2022-07-22T10:40:47.712357",
     "status": "completed"
    },
    "tags": []
   },
   "source": [
    "## Skip Connection Model Analysis - ABC-GAN "
   ]
  },
  {
   "cell_type": "markdown",
   "id": "5744a8bf",
   "metadata": {
    "id": "5744a8bf",
    "papermill": {
     "duration": 0.036153,
     "end_time": "2022-07-22T10:40:47.823230",
     "exception": false,
     "start_time": "2022-07-22T10:40:47.787077",
     "status": "completed"
    },
    "tags": []
   },
   "source": [
    "### Weight Analysis \n",
    "\n",
    "Study the weights of the skip connection layer\n",
    "\n",
    "Equation of the skip connection is \n",
    "\n",
    "$output = y_{gan} * w + y_{abc} * (1-w)$"
   ]
  },
  {
   "cell_type": "code",
   "execution_count": 27,
   "id": "52c31dea",
   "metadata": {
    "execution": {
     "iopub.execute_input": "2022-07-22T10:40:47.897256Z",
     "iopub.status.busy": "2022-07-22T10:40:47.896893Z",
     "iopub.status.idle": "2022-07-22T10:40:47.901793Z",
     "shell.execute_reply": "2022-07-22T10:40:47.900670Z"
    },
    "id": "52c31dea",
    "papermill": {
     "duration": 0.045467,
     "end_time": "2022-07-22T10:40:47.904802",
     "exception": false,
     "start_time": "2022-07-22T10:40:47.859335",
     "status": "completed"
    },
    "tags": []
   },
   "outputs": [],
   "source": [
    "# print(\"Weight of the node at skip connection\")\n",
    "# for name,param in gen3.named_parameters():\n",
    "#     if(name == \"skipNode.weight\"):\n",
    "#         print(param)\n",
    "#         sb.glue(\"Skip Connection Weight\",param.item())"
   ]
  },
  {
   "cell_type": "markdown",
   "id": "1b10b687",
   "metadata": {
    "id": "a5bd74c3",
    "papermill": {
     "duration": 0.036611,
     "end_time": "2022-07-22T10:40:47.980610",
     "exception": false,
     "start_time": "2022-07-22T10:40:47.943999",
     "status": "completed"
    },
    "tags": []
   },
   "source": [
    "## skipGAN Model Analysis (TabNet Generator) "
   ]
  },
  {
   "cell_type": "markdown",
   "id": "ea1bc57e",
   "metadata": {
    "id": "5744a8bf",
    "papermill": {
     "duration": 0.03809,
     "end_time": "2022-07-22T10:40:48.052788",
     "exception": false,
     "start_time": "2022-07-22T10:40:48.014698",
     "status": "completed"
    },
    "tags": []
   },
   "source": [
    "### Weight Analysis \n",
    "\n",
    "Study the weights of the skip connection layer\n",
    "\n",
    "Equation of the skip connection is \n",
    "\n",
    "$output = y_{gan} * w + y_{abc} * (1-w)$"
   ]
  },
  {
   "cell_type": "code",
   "execution_count": 28,
   "id": "d4002521",
   "metadata": {
    "execution": {
     "iopub.execute_input": "2022-07-22T10:40:48.147293Z",
     "iopub.status.busy": "2022-07-22T10:40:48.146355Z",
     "iopub.status.idle": "2022-07-22T10:40:48.171612Z",
     "shell.execute_reply": "2022-07-22T10:40:48.163164Z"
    },
    "id": "52c31dea",
    "papermill": {
     "duration": 0.083443,
     "end_time": "2022-07-22T10:40:48.174907",
     "exception": false,
     "start_time": "2022-07-22T10:40:48.091464",
     "status": "completed"
    },
    "tags": []
   },
   "outputs": [
    {
     "name": "stdout",
     "output_type": "stream",
     "text": [
      "Weight of the node at skip connection\n",
      "Parameter containing:\n",
      "tensor([[0.0929]], requires_grad=True)\n"
     ]
    },
    {
     "data": {
      "application/scrapbook.scrap.json+json": {
       "data": 0.09292666614055634,
       "encoder": "json",
       "name": "Skip Connection Weight",
       "version": 1
      }
     },
     "metadata": {
      "scrapbook": {
       "data": true,
       "display": false,
       "name": "Skip Connection Weight"
      }
     },
     "output_type": "display_data"
    }
   ],
   "source": [
    "print(\"Weight of the node at skip connection\")\n",
    "for name,param in gen4.named_parameters():\n",
    "    if(name == \"skipNode.weight\"):\n",
    "        print(param)\n",
    "        sb.glue(\"Skip Connection Weight\",param.item())"
   ]
  }
 ],
 "metadata": {
  "colab": {
   "collapsed_sections": [],
   "name": "ABC_GAN_Model-Catboost_Pre-gen.ipynb",
   "provenance": []
  },
  "interpreter": {
   "hash": "31f2aee4e71d21fbe5cf8b01ff0e069b9275f58929596ceb00d14d90e3e16cd6"
  },
  "kernelspec": {
   "display_name": "Python 3 (ipykernel)",
   "language": "python",
   "name": "python3"
  },
  "language_info": {
   "codemirror_mode": {
    "name": "ipython",
    "version": 3
   },
   "file_extension": ".py",
   "mimetype": "text/x-python",
   "name": "python",
   "nbconvert_exporter": "python",
   "pygments_lexer": "ipython3",
   "version": "3.8.13"
  },
  "papermill": {
   "default_parameters": {},
   "duration": 460.308775,
   "end_time": "2022-07-22T10:40:48.979657",
   "environment_variables": {},
   "exception": null,
   "input_path": "ABC_GAN-TabNet.ipynb",
   "output_path": "./ABC_GAN_TabNet/ABC-GAN_output_2_7.ipynb",
   "parameters": {
    "bias": 0.01,
    "variance": 0.1
   },
   "start_time": "2022-07-22T10:33:08.670882",
   "version": "2.3.3"
  }
 },
 "nbformat": 4,
 "nbformat_minor": 5
}