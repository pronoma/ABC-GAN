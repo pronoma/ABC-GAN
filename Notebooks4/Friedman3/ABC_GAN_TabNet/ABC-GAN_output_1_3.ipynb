{
 "cells": [
  {
   "cell_type": "markdown",
   "id": "622780e6",
   "metadata": {
    "id": "622780e6",
    "papermill": {
     "duration": 0.009132,
     "end_time": "2022-07-22T08:25:29.226583",
     "exception": false,
     "start_time": "2022-07-22T08:25:29.217451",
     "status": "completed"
    },
    "tags": []
   },
   "source": [
    "## Import Libraries "
   ]
  },
  {
   "cell_type": "code",
   "execution_count": 1,
   "id": "a62397e3",
   "metadata": {
    "execution": {
     "iopub.execute_input": "2022-07-22T08:25:29.247573Z",
     "iopub.status.busy": "2022-07-22T08:25:29.246976Z",
     "iopub.status.idle": "2022-07-22T08:25:29.264126Z",
     "shell.execute_reply": "2022-07-22T08:25:29.263263Z"
    },
    "id": "a62397e3",
    "papermill": {
     "duration": 0.030897,
     "end_time": "2022-07-22T08:25:29.268530",
     "exception": false,
     "start_time": "2022-07-22T08:25:29.237633",
     "status": "completed"
    },
    "tags": []
   },
   "outputs": [],
   "source": [
    "import warnings\n",
    "import sys\n",
    "sys.path.insert(0, '../../src')\n",
    "warnings.filterwarnings('ignore')"
   ]
  },
  {
   "cell_type": "code",
   "execution_count": 2,
   "id": "d6a4e155",
   "metadata": {
    "execution": {
     "iopub.execute_input": "2022-07-22T08:25:29.286276Z",
     "iopub.status.busy": "2022-07-22T08:25:29.285945Z",
     "iopub.status.idle": "2022-07-22T08:25:36.238813Z",
     "shell.execute_reply": "2022-07-22T08:25:36.237440Z"
    },
    "id": "d6a4e155",
    "papermill": {
     "duration": 6.967626,
     "end_time": "2022-07-22T08:25:36.244598",
     "exception": false,
     "start_time": "2022-07-22T08:25:29.276972",
     "status": "completed"
    },
    "tags": []
   },
   "outputs": [],
   "source": [
    "import ABC_train_test2\n",
    "import friedman3Dataset\n",
    "import network\n",
    "import dataset\n",
    "import sanityChecks\n",
    "import torch \n",
    "import scrapbook as sb\n",
    "from statistics import mean \n",
    "import catboost as ctb \n",
    "from sklearn.model_selection import train_test_split\n",
    "from sklearn.metrics import mean_squared_error,mean_absolute_error\n",
    "import numpy as np\n",
    "from pytorch_tabnet.tab_model import TabNetRegressor"
   ]
  },
  {
   "cell_type": "markdown",
   "id": "2fa5b0f7",
   "metadata": {
    "id": "2fa5b0f7",
    "papermill": {
     "duration": 0.007357,
     "end_time": "2022-07-22T08:25:36.259536",
     "exception": false,
     "start_time": "2022-07-22T08:25:36.252179",
     "status": "completed"
    },
    "tags": []
   },
   "source": [
    "## Parameters "
   ]
  },
  {
   "cell_type": "code",
   "execution_count": 3,
   "id": "783186fb",
   "metadata": {
    "execution": {
     "iopub.execute_input": "2022-07-22T08:25:36.278357Z",
     "iopub.status.busy": "2022-07-22T08:25:36.277529Z",
     "iopub.status.idle": "2022-07-22T08:25:36.284569Z",
     "shell.execute_reply": "2022-07-22T08:25:36.282300Z"
    },
    "id": "783186fb",
    "papermill": {
     "duration": 0.02156,
     "end_time": "2022-07-22T08:25:36.289537",
     "exception": false,
     "start_time": "2022-07-22T08:25:36.267977",
     "status": "completed"
    },
    "tags": [
     "parameters"
    ]
   },
   "outputs": [],
   "source": [
    "variance = 1\n",
    "bias = 1 "
   ]
  },
  {
   "cell_type": "code",
   "execution_count": 4,
   "id": "e1d9e128",
   "metadata": {
    "execution": {
     "iopub.execute_input": "2022-07-22T08:25:36.308025Z",
     "iopub.status.busy": "2022-07-22T08:25:36.307671Z",
     "iopub.status.idle": "2022-07-22T08:25:36.315169Z",
     "shell.execute_reply": "2022-07-22T08:25:36.313337Z"
    },
    "papermill": {
     "duration": 0.020155,
     "end_time": "2022-07-22T08:25:36.318611",
     "exception": false,
     "start_time": "2022-07-22T08:25:36.298456",
     "status": "completed"
    },
    "tags": [
     "injected-parameters"
    ]
   },
   "outputs": [],
   "source": [
    "# Parameters\n",
    "variance = 1\n",
    "bias = 0.1\n"
   ]
  },
  {
   "cell_type": "markdown",
   "id": "391cdbfd",
   "metadata": {
    "id": "391cdbfd",
    "papermill": {
     "duration": 0.007826,
     "end_time": "2022-07-22T08:25:36.333713",
     "exception": false,
     "start_time": "2022-07-22T08:25:36.325887",
     "status": "completed"
    },
    "tags": []
   },
   "source": [
    "## Dataset \n"
   ]
  },
  {
   "cell_type": "code",
   "execution_count": 5,
   "id": "5b51f161",
   "metadata": {
    "execution": {
     "iopub.execute_input": "2022-07-22T08:25:36.352204Z",
     "iopub.status.busy": "2022-07-22T08:25:36.351884Z",
     "iopub.status.idle": "2022-07-22T08:25:36.358601Z",
     "shell.execute_reply": "2022-07-22T08:25:36.357620Z"
    },
    "id": "5b51f161",
    "papermill": {
     "duration": 0.018447,
     "end_time": "2022-07-22T08:25:36.361090",
     "exception": false,
     "start_time": "2022-07-22T08:25:36.342643",
     "status": "completed"
    },
    "tags": []
   },
   "outputs": [],
   "source": [
    "#Parameters \n",
    "n_features = 4\n",
    "n_samples= 100\n",
    "n_target = 1"
   ]
  },
  {
   "cell_type": "code",
   "execution_count": 6,
   "id": "5d6eced4",
   "metadata": {
    "execution": {
     "iopub.execute_input": "2022-07-22T08:25:36.384053Z",
     "iopub.status.busy": "2022-07-22T08:25:36.383343Z",
     "iopub.status.idle": "2022-07-22T08:25:36.407951Z",
     "shell.execute_reply": "2022-07-22T08:25:36.405516Z"
    },
    "id": "5d6eced4",
    "papermill": {
     "duration": 0.040154,
     "end_time": "2022-07-22T08:25:36.410755",
     "exception": false,
     "start_time": "2022-07-22T08:25:36.370601",
     "status": "completed"
    },
    "tags": []
   },
   "outputs": [
    {
     "name": "stdout",
     "output_type": "stream",
     "text": [
      "          X1           X2        X3        X4         Y\n",
      "0   7.520219   824.624936  0.488189  4.199152  1.499298\n",
      "1  77.893040   657.056761  0.705440  8.263029  1.305966\n",
      "2  26.334044  1657.852782  0.576949  2.737782  1.444660\n",
      "3  25.393628  1597.705007  0.365614  2.309786  1.599138\n",
      "4  91.049826  1273.926025  0.351625  1.374022  1.313793\n"
     ]
    }
   ],
   "source": [
    "X,Y = friedman3Dataset.friedman3_data(n_samples)"
   ]
  },
  {
   "cell_type": "code",
   "execution_count": 7,
   "id": "fe007438",
   "metadata": {
    "execution": {
     "iopub.execute_input": "2022-07-22T08:25:36.436439Z",
     "iopub.status.busy": "2022-07-22T08:25:36.435516Z",
     "iopub.status.idle": "2022-07-22T08:25:36.443400Z",
     "shell.execute_reply": "2022-07-22T08:25:36.442154Z"
    },
    "id": "fe007438",
    "papermill": {
     "duration": 0.028629,
     "end_time": "2022-07-22T08:25:36.451458",
     "exception": false,
     "start_time": "2022-07-22T08:25:36.422829",
     "status": "completed"
    },
    "tags": []
   },
   "outputs": [],
   "source": [
    "#Train test split for dataset \n",
    "X_train,X_test,Y_train,Y_test = train_test_split(X,Y,test_size = 0.2)\n",
    "train_data = dataset.CustomDataset(X_train,Y_train)\n",
    "test_data = dataset.CustomDataset(X_test,Y_test)\n"
   ]
  },
  {
   "cell_type": "markdown",
   "id": "a9a1af34",
   "metadata": {
    "id": "a9a1af34",
    "papermill": {
     "duration": 0.011134,
     "end_time": "2022-07-22T08:25:36.470791",
     "exception": false,
     "start_time": "2022-07-22T08:25:36.459657",
     "status": "completed"
    },
    "tags": []
   },
   "source": [
    "## Training Parameters "
   ]
  },
  {
   "cell_type": "code",
   "execution_count": 8,
   "id": "952b7fc8",
   "metadata": {
    "execution": {
     "iopub.execute_input": "2022-07-22T08:25:36.489993Z",
     "iopub.status.busy": "2022-07-22T08:25:36.489338Z",
     "iopub.status.idle": "2022-07-22T08:25:36.495831Z",
     "shell.execute_reply": "2022-07-22T08:25:36.494754Z"
    },
    "id": "952b7fc8",
    "papermill": {
     "duration": 0.021312,
     "end_time": "2022-07-22T08:25:36.500579",
     "exception": false,
     "start_time": "2022-07-22T08:25:36.479267",
     "status": "completed"
    },
    "tags": []
   },
   "outputs": [],
   "source": [
    "batch_size = 32\n",
    "n_epochs = 1000\n",
    "#Select the device \n",
    "device = torch.device('cuda' if torch.cuda.is_available() else 'cpu')"
   ]
  },
  {
   "cell_type": "markdown",
   "id": "a95e1600",
   "metadata": {
    "id": "a95e1600",
    "papermill": {
     "duration": 0.008566,
     "end_time": "2022-07-22T08:25:36.516378",
     "exception": false,
     "start_time": "2022-07-22T08:25:36.507812",
     "status": "completed"
    },
    "tags": []
   },
   "source": [
    "# ABC Pre-generator Model \n",
    "\n",
    "1. The catboost model is used as a pre-generator model for the ABC-GAN. \n",
    "2. The model is first trained on the entire dataset \n",
    "3. It generats X,Y pairs and we add some Gaussian noise with mean 0 and variance 1 to it which is then feed as input to the generator.\n"
   ]
  },
  {
   "cell_type": "code",
   "execution_count": 9,
   "id": "ac011ebf",
   "metadata": {
    "execution": {
     "iopub.execute_input": "2022-07-22T08:25:36.535726Z",
     "iopub.status.busy": "2022-07-22T08:25:36.535320Z",
     "iopub.status.idle": "2022-07-22T08:26:03.387565Z",
     "shell.execute_reply": "2022-07-22T08:26:03.386623Z"
    },
    "papermill": {
     "duration": 26.864871,
     "end_time": "2022-07-22T08:26:03.390297",
     "exception": false,
     "start_time": "2022-07-22T08:25:36.525426",
     "status": "completed"
    },
    "tags": []
   },
   "outputs": [
    {
     "name": "stdout",
     "output_type": "stream",
     "text": [
      "Device used : cpu\n"
     ]
    },
    {
     "name": "stdout",
     "output_type": "stream",
     "text": [
      "epoch 0  | loss: 1.07224 | train_mse: 5.34635 | train_mae: 1.70661 |  0:00:00s\n",
      "epoch 1  | loss: 1.05868 | train_mse: 4.06452 | train_mae: 1.48833 |  0:00:00s\n",
      "epoch 2  | loss: 0.84942 | train_mse: 3.15632 | train_mae: 1.35258 |  0:00:00s\n"
     ]
    },
    {
     "name": "stdout",
     "output_type": "stream",
     "text": [
      "epoch 3  | loss: 0.84427 | train_mse: 2.7161  | train_mae: 1.25528 |  0:00:00s\n",
      "epoch 4  | loss: 0.94934 | train_mse: 2.36604 | train_mae: 1.17787 |  0:00:00s\n"
     ]
    },
    {
     "name": "stdout",
     "output_type": "stream",
     "text": [
      "epoch 5  | loss: 0.80327 | train_mse: 2.17648 | train_mae: 1.11659 |  0:00:00s\n",
      "epoch 6  | loss: 0.71131 | train_mse: 1.81084 | train_mae: 1.01619 |  0:00:00s\n",
      "epoch 7  | loss: 0.67968 | train_mse: 1.54876 | train_mae: 0.94413 |  0:00:00s\n"
     ]
    },
    {
     "name": "stdout",
     "output_type": "stream",
     "text": [
      "epoch 8  | loss: 0.60309 | train_mse: 1.30681 | train_mae: 0.8746  |  0:00:01s\n",
      "epoch 9  | loss: 0.63556 | train_mse: 1.14158 | train_mae: 0.81428 |  0:00:01s\n",
      "epoch 10 | loss: 0.49172 | train_mse: 1.041   | train_mae: 0.78082 |  0:00:01s\n"
     ]
    },
    {
     "name": "stdout",
     "output_type": "stream",
     "text": [
      "epoch 11 | loss: 0.57574 | train_mse: 0.97125 | train_mae: 0.76157 |  0:00:01s\n",
      "epoch 12 | loss: 0.62874 | train_mse: 0.92022 | train_mae: 0.75029 |  0:00:01s\n",
      "epoch 13 | loss: 0.47802 | train_mse: 0.85207 | train_mae: 0.71801 |  0:00:01s\n"
     ]
    },
    {
     "name": "stdout",
     "output_type": "stream",
     "text": [
      "epoch 14 | loss: 0.51322 | train_mse: 0.80248 | train_mae: 0.69901 |  0:00:01s\n",
      "epoch 15 | loss: 0.50986 | train_mse: 0.73823 | train_mae: 0.67093 |  0:00:01s\n"
     ]
    },
    {
     "name": "stdout",
     "output_type": "stream",
     "text": [
      "epoch 16 | loss: 0.39599 | train_mse: 0.69194 | train_mae: 0.64896 |  0:00:01s\n",
      "epoch 17 | loss: 0.43635 | train_mse: 0.64558 | train_mae: 0.63002 |  0:00:01s\n",
      "epoch 18 | loss: 0.44669 | train_mse: 0.60711 | train_mae: 0.60985 |  0:00:02s\n"
     ]
    },
    {
     "name": "stdout",
     "output_type": "stream",
     "text": [
      "epoch 19 | loss: 0.38176 | train_mse: 0.58271 | train_mae: 0.59573 |  0:00:02s\n",
      "epoch 20 | loss: 0.37966 | train_mse: 0.55833 | train_mae: 0.58167 |  0:00:02s\n",
      "epoch 21 | loss: 0.53494 | train_mse: 0.54359 | train_mae: 0.57318 |  0:00:02s\n"
     ]
    },
    {
     "name": "stdout",
     "output_type": "stream",
     "text": [
      "epoch 22 | loss: 0.47199 | train_mse: 0.53354 | train_mae: 0.56814 |  0:00:02s\n",
      "epoch 23 | loss: 0.45774 | train_mse: 0.51607 | train_mae: 0.56204 |  0:00:02s\n",
      "epoch 24 | loss: 0.33913 | train_mse: 0.4979  | train_mae: 0.55023 |  0:00:02s\n"
     ]
    },
    {
     "name": "stdout",
     "output_type": "stream",
     "text": [
      "epoch 25 | loss: 0.31911 | train_mse: 0.45716 | train_mae: 0.53009 |  0:00:02s\n",
      "epoch 26 | loss: 0.50493 | train_mse: 0.41675 | train_mae: 0.50868 |  0:00:02s\n",
      "epoch 27 | loss: 0.33752 | train_mse: 0.42045 | train_mae: 0.50483 |  0:00:02s\n"
     ]
    },
    {
     "name": "stdout",
     "output_type": "stream",
     "text": [
      "epoch 28 | loss: 0.33759 | train_mse: 0.38174 | train_mae: 0.48101 |  0:00:03s\n",
      "epoch 29 | loss: 0.3257  | train_mse: 0.35703 | train_mae: 0.46275 |  0:00:03s\n",
      "epoch 30 | loss: 0.4043  | train_mse: 0.34016 | train_mae: 0.45459 |  0:00:03s\n"
     ]
    },
    {
     "name": "stdout",
     "output_type": "stream",
     "text": [
      "epoch 31 | loss: 0.40594 | train_mse: 0.32314 | train_mae: 0.44393 |  0:00:03s\n",
      "epoch 32 | loss: 0.37181 | train_mse: 0.30755 | train_mae: 0.43435 |  0:00:03s\n",
      "epoch 33 | loss: 0.29485 | train_mse: 0.29277 | train_mae: 0.42351 |  0:00:03s\n"
     ]
    },
    {
     "name": "stdout",
     "output_type": "stream",
     "text": [
      "epoch 34 | loss: 0.30224 | train_mse: 0.28246 | train_mae: 0.41395 |  0:00:03s\n",
      "epoch 35 | loss: 0.28451 | train_mse: 0.28061 | train_mae: 0.41399 |  0:00:03s\n"
     ]
    },
    {
     "name": "stdout",
     "output_type": "stream",
     "text": [
      "epoch 36 | loss: 0.26081 | train_mse: 0.27728 | train_mae: 0.41056 |  0:00:03s\n",
      "epoch 37 | loss: 0.29478 | train_mse: 0.26647 | train_mae: 0.40172 |  0:00:03s\n",
      "epoch 38 | loss: 0.28262 | train_mse: 0.25137 | train_mae: 0.39455 |  0:00:03s\n"
     ]
    },
    {
     "name": "stdout",
     "output_type": "stream",
     "text": [
      "epoch 39 | loss: 0.37065 | train_mse: 0.23927 | train_mae: 0.38869 |  0:00:04s\n",
      "epoch 40 | loss: 0.24362 | train_mse: 0.23217 | train_mae: 0.38441 |  0:00:04s\n",
      "epoch 41 | loss: 0.29779 | train_mse: 0.22928 | train_mae: 0.38179 |  0:00:04s\n"
     ]
    },
    {
     "name": "stdout",
     "output_type": "stream",
     "text": [
      "epoch 42 | loss: 0.19728 | train_mse: 0.22364 | train_mae: 0.37759 |  0:00:04s\n",
      "epoch 43 | loss: 0.3942  | train_mse: 0.20821 | train_mae: 0.36378 |  0:00:04s\n",
      "epoch 44 | loss: 0.2349  | train_mse: 0.2024  | train_mae: 0.3573  |  0:00:04s\n"
     ]
    },
    {
     "name": "stdout",
     "output_type": "stream",
     "text": [
      "epoch 45 | loss: 0.2259  | train_mse: 0.19911 | train_mae: 0.35723 |  0:00:04s\n",
      "epoch 46 | loss: 0.2106  | train_mse: 0.1899  | train_mae: 0.34761 |  0:00:04s\n"
     ]
    },
    {
     "name": "stdout",
     "output_type": "stream",
     "text": [
      "epoch 47 | loss: 0.40508 | train_mse: 0.18412 | train_mae: 0.34067 |  0:00:04s\n",
      "epoch 48 | loss: 0.26075 | train_mse: 0.17446 | train_mae: 0.33041 |  0:00:04s\n",
      "epoch 49 | loss: 0.23137 | train_mse: 0.17043 | train_mae: 0.32852 |  0:00:04s\n"
     ]
    },
    {
     "name": "stdout",
     "output_type": "stream",
     "text": [
      "epoch 50 | loss: 0.38627 | train_mse: 0.16745 | train_mae: 0.32523 |  0:00:05s\n",
      "epoch 51 | loss: 0.16546 | train_mse: 0.16285 | train_mae: 0.31917 |  0:00:05s\n",
      "epoch 52 | loss: 0.27749 | train_mse: 0.1587  | train_mae: 0.31444 |  0:00:05s\n"
     ]
    },
    {
     "name": "stdout",
     "output_type": "stream",
     "text": [
      "epoch 53 | loss: 0.20202 | train_mse: 0.1502  | train_mae: 0.30303 |  0:00:05s\n",
      "epoch 54 | loss: 0.30097 | train_mse: 0.14274 | train_mae: 0.29489 |  0:00:05s\n",
      "epoch 55 | loss: 0.21236 | train_mse: 0.13665 | train_mae: 0.28817 |  0:00:05s\n"
     ]
    },
    {
     "name": "stdout",
     "output_type": "stream",
     "text": [
      "epoch 56 | loss: 0.27985 | train_mse: 0.1354  | train_mae: 0.28547 |  0:00:05s\n",
      "epoch 57 | loss: 0.27873 | train_mse: 0.13336 | train_mae: 0.28321 |  0:00:05s\n"
     ]
    },
    {
     "name": "stdout",
     "output_type": "stream",
     "text": [
      "epoch 58 | loss: 0.22667 | train_mse: 0.1322  | train_mae: 0.28167 |  0:00:05s\n",
      "epoch 59 | loss: 0.32388 | train_mse: 0.1292  | train_mae: 0.28171 |  0:00:05s\n",
      "epoch 60 | loss: 0.15102 | train_mse: 0.12515 | train_mae: 0.27938 |  0:00:05s\n"
     ]
    },
    {
     "name": "stdout",
     "output_type": "stream",
     "text": [
      "epoch 61 | loss: 0.24453 | train_mse: 0.12497 | train_mae: 0.27929 |  0:00:06s\n",
      "epoch 62 | loss: 0.28336 | train_mse: 0.12302 | train_mae: 0.28177 |  0:00:06s\n",
      "epoch 63 | loss: 0.38503 | train_mse: 0.11903 | train_mae: 0.28336 |  0:00:06s\n"
     ]
    },
    {
     "name": "stdout",
     "output_type": "stream",
     "text": [
      "epoch 64 | loss: 0.25138 | train_mse: 0.11452 | train_mae: 0.27915 |  0:00:06s\n",
      "epoch 65 | loss: 0.44882 | train_mse: 0.11276 | train_mae: 0.27664 |  0:00:06s\n",
      "epoch 66 | loss: 0.29027 | train_mse: 0.11063 | train_mae: 0.27294 |  0:00:06s\n"
     ]
    },
    {
     "name": "stdout",
     "output_type": "stream",
     "text": [
      "epoch 67 | loss: 0.16619 | train_mse: 0.10777 | train_mae: 0.26717 |  0:00:06s\n",
      "epoch 68 | loss: 0.25304 | train_mse: 0.10523 | train_mae: 0.2608  |  0:00:06s\n"
     ]
    },
    {
     "name": "stdout",
     "output_type": "stream",
     "text": [
      "epoch 69 | loss: 0.22692 | train_mse: 0.10639 | train_mae: 0.26116 |  0:00:06s\n",
      "epoch 70 | loss: 0.21663 | train_mse: 0.1089  | train_mae: 0.26798 |  0:00:06s\n"
     ]
    },
    {
     "name": "stdout",
     "output_type": "stream",
     "text": [
      "epoch 71 | loss: 0.19648 | train_mse: 0.10984 | train_mae: 0.26913 |  0:00:07s\n",
      "epoch 72 | loss: 0.19547 | train_mse: 0.10886 | train_mae: 0.26765 |  0:00:07s\n",
      "epoch 73 | loss: 0.15588 | train_mse: 0.10966 | train_mae: 0.26501 |  0:00:07s\n"
     ]
    },
    {
     "name": "stdout",
     "output_type": "stream",
     "text": [
      "epoch 74 | loss: 0.12758 | train_mse: 0.10923 | train_mae: 0.26256 |  0:00:07s\n",
      "epoch 75 | loss: 0.20032 | train_mse: 0.1101  | train_mae: 0.26003 |  0:00:07s\n",
      "epoch 76 | loss: 0.26268 | train_mse: 0.1101  | train_mae: 0.25865 |  0:00:07s\n"
     ]
    },
    {
     "name": "stdout",
     "output_type": "stream",
     "text": [
      "epoch 77 | loss: 0.16221 | train_mse: 0.11038 | train_mae: 0.25883 |  0:00:07s\n",
      "epoch 78 | loss: 0.23673 | train_mse: 0.10902 | train_mae: 0.26089 |  0:00:07s\n",
      "epoch 79 | loss: 0.22543 | train_mse: 0.10813 | train_mae: 0.26047 |  0:00:07s\n"
     ]
    },
    {
     "name": "stdout",
     "output_type": "stream",
     "text": [
      "epoch 80 | loss: 0.15967 | train_mse: 0.10625 | train_mae: 0.25855 |  0:00:08s\n",
      "epoch 81 | loss: 0.2228  | train_mse: 0.10357 | train_mae: 0.25585 |  0:00:08s\n",
      "epoch 82 | loss: 0.29149 | train_mse: 0.10287 | train_mae: 0.25709 |  0:00:08s\n"
     ]
    },
    {
     "name": "stdout",
     "output_type": "stream",
     "text": [
      "epoch 83 | loss: 0.29945 | train_mse: 0.1038  | train_mae: 0.26019 |  0:00:08s\n",
      "epoch 84 | loss: 0.26521 | train_mse: 0.10637 | train_mae: 0.26332 |  0:00:08s\n",
      "epoch 85 | loss: 0.16596 | train_mse: 0.10604 | train_mae: 0.26077 |  0:00:08s\n"
     ]
    },
    {
     "name": "stdout",
     "output_type": "stream",
     "text": [
      "epoch 86 | loss: 0.17146 | train_mse: 0.1035  | train_mae: 0.25762 |  0:00:08s\n",
      "epoch 87 | loss: 0.16576 | train_mse: 0.10305 | train_mae: 0.25488 |  0:00:08s\n",
      "epoch 88 | loss: 0.24946 | train_mse: 0.1007  | train_mae: 0.25292 |  0:00:08s"
     ]
    },
    {
     "name": "stdout",
     "output_type": "stream",
     "text": [
      "\n",
      "epoch 89 | loss: 0.20183 | train_mse: 0.10081 | train_mae: 0.25347 |  0:00:08s\n",
      "epoch 90 | loss: 0.19538 | train_mse: 0.09853 | train_mae: 0.25131 |  0:00:08s\n"
     ]
    },
    {
     "name": "stdout",
     "output_type": "stream",
     "text": [
      "epoch 91 | loss: 0.22332 | train_mse: 0.0951  | train_mae: 0.24671 |  0:00:09s\n",
      "epoch 92 | loss: 0.18947 | train_mse: 0.09261 | train_mae: 0.24343 |  0:00:09s\n",
      "epoch 93 | loss: 0.11813 | train_mse: 0.08923 | train_mae: 0.23937 |  0:00:09s\n"
     ]
    },
    {
     "name": "stdout",
     "output_type": "stream",
     "text": [
      "epoch 94 | loss: 0.29476 | train_mse: 0.08911 | train_mae: 0.2382  |  0:00:09s\n",
      "epoch 95 | loss: 0.17841 | train_mse: 0.0874  | train_mae: 0.23508 |  0:00:09s\n",
      "epoch 96 | loss: 0.21467 | train_mse: 0.08626 | train_mae: 0.23537 |  0:00:09s\n"
     ]
    },
    {
     "name": "stdout",
     "output_type": "stream",
     "text": [
      "epoch 97 | loss: 0.24903 | train_mse: 0.08461 | train_mae: 0.23371 |  0:00:09s\n",
      "epoch 98 | loss: 0.1263  | train_mse: 0.08247 | train_mae: 0.2305  |  0:00:09s\n",
      "epoch 99 | loss: 0.21028 | train_mse: 0.08158 | train_mae: 0.2276  |  0:00:09s\n"
     ]
    },
    {
     "name": "stdout",
     "output_type": "stream",
     "text": [
      "epoch 100| loss: 0.13095 | train_mse: 0.08071 | train_mae: 0.22602 |  0:00:09s\n",
      "epoch 101| loss: 0.17475 | train_mse: 0.07969 | train_mae: 0.22352 |  0:00:09s\n",
      "epoch 102| loss: 0.22979 | train_mse: 0.07939 | train_mae: 0.22201 |  0:00:10s\n"
     ]
    },
    {
     "name": "stdout",
     "output_type": "stream",
     "text": [
      "epoch 103| loss: 0.0919  | train_mse: 0.08064 | train_mae: 0.2249  |  0:00:10s\n",
      "epoch 104| loss: 0.11847 | train_mse: 0.08189 | train_mae: 0.2261  |  0:00:10s\n",
      "epoch 105| loss: 0.14829 | train_mse: 0.08205 | train_mae: 0.22522 |  0:00:10s\n"
     ]
    },
    {
     "name": "stdout",
     "output_type": "stream",
     "text": [
      "epoch 106| loss: 0.24745 | train_mse: 0.08389 | train_mae: 0.22646 |  0:00:10s\n",
      "epoch 107| loss: 0.13179 | train_mse: 0.08563 | train_mae: 0.22817 |  0:00:10s\n",
      "epoch 108| loss: 0.27707 | train_mse: 0.08483 | train_mae: 0.22762 |  0:00:10s\n"
     ]
    },
    {
     "name": "stdout",
     "output_type": "stream",
     "text": [
      "epoch 109| loss: 0.11198 | train_mse: 0.0821  | train_mae: 0.22508 |  0:00:10s\n",
      "epoch 110| loss: 0.29911 | train_mse: 0.07899 | train_mae: 0.22124 |  0:00:10s\n",
      "epoch 111| loss: 0.18228 | train_mse: 0.07901 | train_mae: 0.22244 |  0:00:10s\n"
     ]
    },
    {
     "name": "stdout",
     "output_type": "stream",
     "text": [
      "epoch 112| loss: 0.16475 | train_mse: 0.07726 | train_mae: 0.21961 |  0:00:10s\n",
      "epoch 113| loss: 0.308   | train_mse: 0.07472 | train_mae: 0.2169  |  0:00:11s\n",
      "epoch 114| loss: 0.19353 | train_mse: 0.07488 | train_mae: 0.2169  |  0:00:11s\n"
     ]
    },
    {
     "name": "stdout",
     "output_type": "stream",
     "text": [
      "epoch 115| loss: 0.19284 | train_mse: 0.07527 | train_mae: 0.21632 |  0:00:11s\n",
      "epoch 116| loss: 0.248   | train_mse: 0.0745  | train_mae: 0.21498 |  0:00:11s\n",
      "epoch 117| loss: 0.10576 | train_mse: 0.07234 | train_mae: 0.21453 |  0:00:11s\n"
     ]
    },
    {
     "name": "stdout",
     "output_type": "stream",
     "text": [
      "epoch 118| loss: 0.10973 | train_mse: 0.07287 | train_mae: 0.21739 |  0:00:11s\n",
      "epoch 119| loss: 0.17492 | train_mse: 0.07032 | train_mae: 0.21538 |  0:00:11s\n",
      "epoch 120| loss: 0.17403 | train_mse: 0.07124 | train_mae: 0.21861 |  0:00:11s\n"
     ]
    },
    {
     "name": "stdout",
     "output_type": "stream",
     "text": [
      "epoch 121| loss: 0.16365 | train_mse: 0.07156 | train_mae: 0.21994 |  0:00:11s\n",
      "epoch 122| loss: 0.13439 | train_mse: 0.0713  | train_mae: 0.21842 |  0:00:11s\n",
      "epoch 123| loss: 0.13858 | train_mse: 0.07373 | train_mae: 0.21675 |  0:00:11s\n"
     ]
    },
    {
     "name": "stdout",
     "output_type": "stream",
     "text": [
      "epoch 124| loss: 0.13896 | train_mse: 0.0778  | train_mae: 0.21992 |  0:00:12s\n",
      "epoch 125| loss: 0.18262 | train_mse: 0.08217 | train_mae: 0.22468 |  0:00:12s\n",
      "epoch 126| loss: 0.17536 | train_mse: 0.08531 | train_mae: 0.22725 |  0:00:12s\n"
     ]
    },
    {
     "name": "stdout",
     "output_type": "stream",
     "text": [
      "epoch 127| loss: 0.27169 | train_mse: 0.08597 | train_mae: 0.22832 |  0:00:12s\n",
      "epoch 128| loss: 0.15853 | train_mse: 0.08575 | train_mae: 0.22824 |  0:00:12s\n",
      "epoch 129| loss: 0.18991 | train_mse: 0.08081 | train_mae: 0.22397 |  0:00:12s\n"
     ]
    },
    {
     "name": "stdout",
     "output_type": "stream",
     "text": [
      "epoch 130| loss: 0.16249 | train_mse: 0.07932 | train_mae: 0.22253 |  0:00:12s\n",
      "epoch 131| loss: 0.14263 | train_mse: 0.07646 | train_mae: 0.2224  |  0:00:12s\n"
     ]
    },
    {
     "name": "stdout",
     "output_type": "stream",
     "text": [
      "epoch 132| loss: 0.15812 | train_mse: 0.0766  | train_mae: 0.22302 |  0:00:12s\n",
      "epoch 133| loss: 0.16456 | train_mse: 0.07331 | train_mae: 0.21853 |  0:00:12s\n",
      "epoch 134| loss: 0.21784 | train_mse: 0.07495 | train_mae: 0.21826 |  0:00:12s\n"
     ]
    },
    {
     "name": "stdout",
     "output_type": "stream",
     "text": [
      "epoch 135| loss: 0.11072 | train_mse: 0.07955 | train_mae: 0.22228 |  0:00:12s\n",
      "epoch 136| loss: 0.24209 | train_mse: 0.08143 | train_mae: 0.22452 |  0:00:13s\n",
      "epoch 137| loss: 0.1253  | train_mse: 0.0834  | train_mae: 0.2271  |  0:00:13s\n"
     ]
    },
    {
     "name": "stdout",
     "output_type": "stream",
     "text": [
      "epoch 138| loss: 0.17294 | train_mse: 0.08129 | train_mae: 0.22679 |  0:00:13s\n",
      "epoch 139| loss: 0.1563  | train_mse: 0.08246 | train_mae: 0.23007 |  0:00:13s\n",
      "epoch 140| loss: 0.20167 | train_mse: 0.08376 | train_mae: 0.23311 |  0:00:13s\n"
     ]
    },
    {
     "name": "stdout",
     "output_type": "stream",
     "text": [
      "epoch 141| loss: 0.09568 | train_mse: 0.08293 | train_mae: 0.2318  |  0:00:13s\n",
      "epoch 142| loss: 0.12848 | train_mse: 0.07678 | train_mae: 0.22612 |  0:00:13s\n",
      "epoch 143| loss: 0.11204 | train_mse: 0.07068 | train_mae: 0.21816 |  0:00:13s\n"
     ]
    },
    {
     "name": "stdout",
     "output_type": "stream",
     "text": [
      "epoch 144| loss: 0.17213 | train_mse: 0.06769 | train_mae: 0.21267 |  0:00:13s\n",
      "epoch 145| loss: 0.23285 | train_mse: 0.06556 | train_mae: 0.20783 |  0:00:13s\n",
      "epoch 146| loss: 0.32822 | train_mse: 0.06452 | train_mae: 0.20565 |  0:00:13s\n"
     ]
    },
    {
     "name": "stdout",
     "output_type": "stream",
     "text": [
      "epoch 147| loss: 0.12357 | train_mse: 0.06393 | train_mae: 0.20298 |  0:00:14s\n",
      "epoch 148| loss: 0.17125 | train_mse: 0.06401 | train_mae: 0.20319 |  0:00:14s\n",
      "epoch 149| loss: 0.21198 | train_mse: 0.06489 | train_mae: 0.20306 |  0:00:14s\n"
     ]
    },
    {
     "name": "stdout",
     "output_type": "stream",
     "text": [
      "epoch 150| loss: 0.13282 | train_mse: 0.06482 | train_mae: 0.20303 |  0:00:14s\n",
      "epoch 151| loss: 0.12756 | train_mse: 0.06361 | train_mae: 0.20357 |  0:00:14s\n",
      "epoch 152| loss: 0.28972 | train_mse: 0.06506 | train_mae: 0.2075  |  0:00:14s\n"
     ]
    },
    {
     "name": "stdout",
     "output_type": "stream",
     "text": [
      "epoch 153| loss: 0.15869 | train_mse: 0.06594 | train_mae: 0.20951 |  0:00:14s\n",
      "epoch 154| loss: 0.27551 | train_mse: 0.06723 | train_mae: 0.21228 |  0:00:14s\n"
     ]
    },
    {
     "name": "stdout",
     "output_type": "stream",
     "text": [
      "epoch 155| loss: 0.11889 | train_mse: 0.06765 | train_mae: 0.21258 |  0:00:14s\n",
      "epoch 156| loss: 0.0972  | train_mse: 0.06612 | train_mae: 0.21079 |  0:00:14s\n",
      "epoch 157| loss: 0.12819 | train_mse: 0.06359 | train_mae: 0.20512 |  0:00:14s\n"
     ]
    },
    {
     "name": "stdout",
     "output_type": "stream",
     "text": [
      "epoch 158| loss: 0.1347  | train_mse: 0.06211 | train_mae: 0.20173 |  0:00:14s\n",
      "epoch 159| loss: 0.08818 | train_mse: 0.06143 | train_mae: 0.19739 |  0:00:15s\n",
      "epoch 160| loss: 0.14045 | train_mse: 0.06251 | train_mae: 0.19927 |  0:00:15s\n"
     ]
    },
    {
     "name": "stdout",
     "output_type": "stream",
     "text": [
      "epoch 161| loss: 0.11036 | train_mse: 0.0652  | train_mae: 0.2012  |  0:00:15s\n",
      "epoch 162| loss: 0.10332 | train_mse: 0.06485 | train_mae: 0.20173 |  0:00:15s\n",
      "epoch 163| loss: 0.15661 | train_mse: 0.06033 | train_mae: 0.19633 |  0:00:15s\n"
     ]
    },
    {
     "name": "stdout",
     "output_type": "stream",
     "text": [
      "epoch 164| loss: 0.13854 | train_mse: 0.05773 | train_mae: 0.19106 |  0:00:15s\n",
      "epoch 165| loss: 0.18949 | train_mse: 0.05747 | train_mae: 0.19126 |  0:00:15s\n",
      "epoch 166| loss: 0.10757 | train_mse: 0.05737 | train_mae: 0.19354 |  0:00:15s\n"
     ]
    },
    {
     "name": "stdout",
     "output_type": "stream",
     "text": [
      "epoch 167| loss: 0.17133 | train_mse: 0.06298 | train_mae: 0.19968 |  0:00:15s\n",
      "epoch 168| loss: 0.11579 | train_mse: 0.06778 | train_mae: 0.20295 |  0:00:15s\n",
      "epoch 169| loss: 0.1272  | train_mse: 0.06975 | train_mae: 0.20491 |  0:00:15s\n"
     ]
    },
    {
     "name": "stdout",
     "output_type": "stream",
     "text": [
      "epoch 170| loss: 0.08932 | train_mse: 0.0636  | train_mae: 0.19778 |  0:00:16s\n",
      "epoch 171| loss: 0.18216 | train_mse: 0.06181 | train_mae: 0.19495 |  0:00:16s\n",
      "epoch 172| loss: 0.10878 | train_mse: 0.05821 | train_mae: 0.1898  |  0:00:16s\n"
     ]
    },
    {
     "name": "stdout",
     "output_type": "stream",
     "text": [
      "epoch 173| loss: 0.15423 | train_mse: 0.05689 | train_mae: 0.18832 |  0:00:16s\n",
      "epoch 174| loss: 0.13595 | train_mse: 0.05727 | train_mae: 0.18755 |  0:00:16s\n",
      "epoch 175| loss: 0.13706 | train_mse: 0.05793 | train_mae: 0.19007 |  0:00:16s\n"
     ]
    },
    {
     "name": "stdout",
     "output_type": "stream",
     "text": [
      "epoch 176| loss: 0.0845  | train_mse: 0.0597  | train_mae: 0.19471 |  0:00:16s\n",
      "epoch 177| loss: 0.2268  | train_mse: 0.06172 | train_mae: 0.19877 |  0:00:16s\n",
      "epoch 178| loss: 0.15332 | train_mse: 0.06257 | train_mae: 0.1988  |  0:00:16s\n"
     ]
    },
    {
     "name": "stdout",
     "output_type": "stream",
     "text": [
      "epoch 179| loss: 0.12449 | train_mse: 0.06123 | train_mae: 0.19665 |  0:00:16s\n",
      "epoch 180| loss: 0.16269 | train_mse: 0.06077 | train_mae: 0.19335 |  0:00:16s\n",
      "epoch 181| loss: 0.10401 | train_mse: 0.06161 | train_mae: 0.19392 |  0:00:17s\n"
     ]
    },
    {
     "name": "stdout",
     "output_type": "stream",
     "text": [
      "epoch 182| loss: 0.09212 | train_mse: 0.06191 | train_mae: 0.19494 |  0:00:17s\n"
     ]
    },
    {
     "name": "stdout",
     "output_type": "stream",
     "text": [
      "epoch 183| loss: 0.1696  | train_mse: 0.06186 | train_mae: 0.19589 |  0:00:17s\n"
     ]
    },
    {
     "name": "stdout",
     "output_type": "stream",
     "text": [
      "epoch 184| loss: 0.12024 | train_mse: 0.06339 | train_mae: 0.19943 |  0:00:17s\n"
     ]
    },
    {
     "name": "stdout",
     "output_type": "stream",
     "text": [
      "epoch 185| loss: 0.30924 | train_mse: 0.06368 | train_mae: 0.201   |  0:00:18s\n",
      "epoch 186| loss: 0.12145 | train_mse: 0.06495 | train_mae: 0.20224 |  0:00:18s\n"
     ]
    },
    {
     "name": "stdout",
     "output_type": "stream",
     "text": [
      "epoch 187| loss: 0.21228 | train_mse: 0.06405 | train_mae: 0.20217 |  0:00:18s\n",
      "epoch 188| loss: 0.18715 | train_mse: 0.06236 | train_mae: 0.20071 |  0:00:18s\n"
     ]
    },
    {
     "name": "stdout",
     "output_type": "stream",
     "text": [
      "epoch 189| loss: 0.15402 | train_mse: 0.06166 | train_mae: 0.19786 |  0:00:18s\n",
      "epoch 190| loss: 0.11133 | train_mse: 0.06163 | train_mae: 0.19792 |  0:00:18s\n"
     ]
    },
    {
     "name": "stdout",
     "output_type": "stream",
     "text": [
      "epoch 191| loss: 0.11097 | train_mse: 0.06095 | train_mae: 0.19708 |  0:00:18s\n",
      "epoch 192| loss: 0.23223 | train_mse: 0.06154 | train_mae: 0.19997 |  0:00:19s\n"
     ]
    },
    {
     "name": "stdout",
     "output_type": "stream",
     "text": [
      "epoch 193| loss: 0.20508 | train_mse: 0.06281 | train_mae: 0.20301 |  0:00:19s\n",
      "epoch 194| loss: 0.11835 | train_mse: 0.06436 | train_mae: 0.20486 |  0:00:19s\n"
     ]
    },
    {
     "name": "stdout",
     "output_type": "stream",
     "text": [
      "epoch 195| loss: 0.17775 | train_mse: 0.06392 | train_mae: 0.20407 |  0:00:19s\n",
      "epoch 196| loss: 0.24277 | train_mse: 0.06189 | train_mae: 0.20234 |  0:00:19s\n"
     ]
    },
    {
     "name": "stdout",
     "output_type": "stream",
     "text": [
      "epoch 197| loss: 0.12068 | train_mse: 0.06037 | train_mae: 0.19886 |  0:00:19s\n",
      "epoch 198| loss: 0.08857 | train_mse: 0.05901 | train_mae: 0.19734 |  0:00:20s\n"
     ]
    },
    {
     "name": "stdout",
     "output_type": "stream",
     "text": [
      "epoch 199| loss: 0.08705 | train_mse: 0.05868 | train_mae: 0.19667 |  0:00:20s\n",
      "epoch 200| loss: 0.1548  | train_mse: 0.05745 | train_mae: 0.19418 |  0:00:20s\n"
     ]
    },
    {
     "name": "stdout",
     "output_type": "stream",
     "text": [
      "epoch 201| loss: 0.09131 | train_mse: 0.0557  | train_mae: 0.18993 |  0:00:20s\n",
      "epoch 202| loss: 0.08919 | train_mse: 0.05427 | train_mae: 0.18752 |  0:00:20s\n"
     ]
    },
    {
     "name": "stdout",
     "output_type": "stream",
     "text": [
      "epoch 203| loss: 0.17215 | train_mse: 0.05267 | train_mae: 0.18469 |  0:00:20s\n",
      "epoch 204| loss: 0.12754 | train_mse: 0.05349 | train_mae: 0.18566 |  0:00:20s\n"
     ]
    },
    {
     "name": "stdout",
     "output_type": "stream",
     "text": [
      "epoch 205| loss: 0.13798 | train_mse: 0.05351 | train_mae: 0.18583 |  0:00:20s\n",
      "epoch 206| loss: 0.15528 | train_mse: 0.05464 | train_mae: 0.18695 |  0:00:21s\n",
      "epoch 207| loss: 0.30861 | train_mse: 0.05559 | train_mae: 0.18679 |  0:00:21s\n"
     ]
    },
    {
     "name": "stdout",
     "output_type": "stream",
     "text": [
      "epoch 208| loss: 0.31507 | train_mse: 0.05617 | train_mae: 0.1867  |  0:00:21s\n",
      "epoch 209| loss: 0.177   | train_mse: 0.05384 | train_mae: 0.18265 |  0:00:21s\n"
     ]
    },
    {
     "name": "stdout",
     "output_type": "stream",
     "text": [
      "epoch 210| loss: 0.09618 | train_mse: 0.0518  | train_mae: 0.17917 |  0:00:21s\n",
      "epoch 211| loss: 0.15816 | train_mse: 0.0493  | train_mae: 0.17753 |  0:00:21s\n"
     ]
    },
    {
     "name": "stdout",
     "output_type": "stream",
     "text": [
      "epoch 212| loss: 0.07661 | train_mse: 0.04816 | train_mae: 0.17734 |  0:00:21s\n",
      "epoch 213| loss: 0.10027 | train_mse: 0.04716 | train_mae: 0.17572 |  0:00:21s\n",
      "epoch 214| loss: 0.12715 | train_mse: 0.04645 | train_mae: 0.17426 |  0:00:22s\n"
     ]
    },
    {
     "name": "stdout",
     "output_type": "stream",
     "text": [
      "epoch 215| loss: 0.1256  | train_mse: 0.04493 | train_mae: 0.17319 |  0:00:22s\n",
      "epoch 216| loss: 0.13045 | train_mse: 0.04374 | train_mae: 0.17076 |  0:00:22s\n",
      "epoch 217| loss: 0.08314 | train_mse: 0.0447  | train_mae: 0.17305 |  0:00:22s\n"
     ]
    },
    {
     "name": "stdout",
     "output_type": "stream",
     "text": [
      "epoch 218| loss: 0.11413 | train_mse: 0.04802 | train_mae: 0.17854 |  0:00:22s\n",
      "epoch 219| loss: 0.23716 | train_mse: 0.05291 | train_mae: 0.18261 |  0:00:22s\n",
      "epoch 220| loss: 0.27298 | train_mse: 0.05254 | train_mae: 0.18121 |  0:00:22s\n"
     ]
    },
    {
     "name": "stdout",
     "output_type": "stream",
     "text": [
      "epoch 221| loss: 0.07319 | train_mse: 0.05332 | train_mae: 0.18206 |  0:00:22s\n",
      "epoch 222| loss: 0.09461 | train_mse: 0.05522 | train_mae: 0.18286 |  0:00:22s\n",
      "epoch 223| loss: 0.12704 | train_mse: 0.05646 | train_mae: 0.18479 |  0:00:22s\n"
     ]
    },
    {
     "name": "stdout",
     "output_type": "stream",
     "text": [
      "epoch 224| loss: 0.16018 | train_mse: 0.05878 | train_mae: 0.18828 |  0:00:22s\n",
      "epoch 225| loss: 0.13073 | train_mse: 0.06085 | train_mae: 0.19136 |  0:00:23s\n",
      "epoch 226| loss: 0.0849  | train_mse: 0.06141 | train_mae: 0.19215 |  0:00:23s\n"
     ]
    },
    {
     "name": "stdout",
     "output_type": "stream",
     "text": [
      "epoch 227| loss: 0.29472 | train_mse: 0.06236 | train_mae: 0.19316 |  0:00:23s\n",
      "epoch 228| loss: 0.12068 | train_mse: 0.06188 | train_mae: 0.19266 |  0:00:23s\n",
      "epoch 229| loss: 0.13355 | train_mse: 0.06185 | train_mae: 0.19356 |  0:00:23s\n"
     ]
    },
    {
     "name": "stdout",
     "output_type": "stream",
     "text": [
      "epoch 230| loss: 0.12533 | train_mse: 0.05822 | train_mae: 0.18802 |  0:00:23s\n",
      "epoch 231| loss: 0.15556 | train_mse: 0.05693 | train_mae: 0.18609 |  0:00:23s\n"
     ]
    },
    {
     "name": "stdout",
     "output_type": "stream",
     "text": [
      "epoch 232| loss: 0.08408 | train_mse: 0.05981 | train_mae: 0.18829 |  0:00:23s\n",
      "epoch 233| loss: 0.09989 | train_mse: 0.06178 | train_mae: 0.19149 |  0:00:23s\n",
      "epoch 234| loss: 0.15387 | train_mse: 0.06017 | train_mae: 0.18926 |  0:00:23s\n"
     ]
    },
    {
     "name": "stdout",
     "output_type": "stream",
     "text": [
      "epoch 235| loss: 0.08454 | train_mse: 0.05971 | train_mae: 0.18758 |  0:00:24s\n",
      "epoch 236| loss: 0.13843 | train_mse: 0.05822 | train_mae: 0.18474 |  0:00:24s\n",
      "epoch 237| loss: 0.09612 | train_mse: 0.05998 | train_mae: 0.18616 |  0:00:24s\n"
     ]
    },
    {
     "name": "stdout",
     "output_type": "stream",
     "text": [
      "epoch 238| loss: 0.10723 | train_mse: 0.06019 | train_mae: 0.18597 |  0:00:24s\n",
      "epoch 239| loss: 0.08808 | train_mse: 0.05671 | train_mae: 0.1822  |  0:00:24s\n",
      "epoch 240| loss: 0.19797 | train_mse: 0.05221 | train_mae: 0.17782 |  0:00:24s\n"
     ]
    },
    {
     "name": "stdout",
     "output_type": "stream",
     "text": [
      "epoch 241| loss: 0.17736 | train_mse: 0.04966 | train_mae: 0.17609 |  0:00:24s\n",
      "epoch 242| loss: 0.15718 | train_mse: 0.05012 | train_mae: 0.17625 |  0:00:24s\n"
     ]
    },
    {
     "name": "stdout",
     "output_type": "stream",
     "text": [
      "epoch 243| loss: 0.09009 | train_mse: 0.05132 | train_mae: 0.17756 |  0:00:24s\n",
      "epoch 244| loss: 0.1545  | train_mse: 0.05274 | train_mae: 0.18016 |  0:00:24s\n",
      "epoch 245| loss: 0.1154  | train_mse: 0.05274 | train_mae: 0.18148 |  0:00:24s\n"
     ]
    },
    {
     "name": "stdout",
     "output_type": "stream",
     "text": [
      "epoch 246| loss: 0.1696  | train_mse: 0.05441 | train_mae: 0.18386 |  0:00:24s\n",
      "epoch 247| loss: 0.13106 | train_mse: 0.05282 | train_mae: 0.18109 |  0:00:25s\n",
      "epoch 248| loss: 0.09716 | train_mse: 0.05326 | train_mae: 0.18216 |  0:00:25s\n"
     ]
    },
    {
     "name": "stdout",
     "output_type": "stream",
     "text": [
      "epoch 249| loss: 0.1153  | train_mse: 0.0511  | train_mae: 0.17958 |  0:00:25s\n",
      "epoch 250| loss: 0.11624 | train_mse: 0.05043 | train_mae: 0.17915 |  0:00:25s\n",
      "epoch 251| loss: 0.07703 | train_mse: 0.05141 | train_mae: 0.18017 |  0:00:25s\n"
     ]
    },
    {
     "name": "stdout",
     "output_type": "stream",
     "text": [
      "epoch 252| loss: 0.10888 | train_mse: 0.05    | train_mae: 0.17788 |  0:00:25s\n",
      "epoch 253| loss: 0.18704 | train_mse: 0.04969 | train_mae: 0.1755  |  0:00:25s\n"
     ]
    },
    {
     "name": "stdout",
     "output_type": "stream",
     "text": [
      "epoch 254| loss: 0.34305 | train_mse: 0.05084 | train_mae: 0.17685 |  0:00:25s\n",
      "epoch 255| loss: 0.15952 | train_mse: 0.05243 | train_mae: 0.18019 |  0:00:25s\n",
      "epoch 256| loss: 0.11602 | train_mse: 0.05127 | train_mae: 0.17889 |  0:00:25s\n"
     ]
    },
    {
     "name": "stdout",
     "output_type": "stream",
     "text": [
      "epoch 257| loss: 0.14728 | train_mse: 0.05115 | train_mae: 0.17959 |  0:00:25s\n",
      "epoch 258| loss: 0.11513 | train_mse: 0.05084 | train_mae: 0.17836 |  0:00:26s\n",
      "epoch 259| loss: 0.1286  | train_mse: 0.05332 | train_mae: 0.18106 |  0:00:26s\n"
     ]
    },
    {
     "name": "stdout",
     "output_type": "stream",
     "text": [
      "epoch 260| loss: 0.09438 | train_mse: 0.05174 | train_mae: 0.17977 |  0:00:26s\n",
      "epoch 261| loss: 0.08099 | train_mse: 0.05226 | train_mae: 0.17915 |  0:00:26s\n",
      "epoch 262| loss: 0.12128 | train_mse: 0.05441 | train_mae: 0.18046 |  0:00:26s\n"
     ]
    },
    {
     "name": "stdout",
     "output_type": "stream",
     "text": [
      "epoch 263| loss: 0.13017 | train_mse: 0.05616 | train_mae: 0.18241 |  0:00:26s\n",
      "epoch 264| loss: 0.06289 | train_mse: 0.05194 | train_mae: 0.1782  |  0:00:26s\n",
      "epoch 265| loss: 0.14631 | train_mse: 0.04939 | train_mae: 0.17576 |  0:00:26s"
     ]
    },
    {
     "name": "stdout",
     "output_type": "stream",
     "text": [
      "\n",
      "epoch 266| loss: 0.12751 | train_mse: 0.04838 | train_mae: 0.17446 |  0:00:26s\n",
      "\n",
      "Early stopping occurred at epoch 266 with best_epoch = 216 and best_train_mae = 0.17076\n",
      "Best weights from best epoch are automatically used!\n"
     ]
    }
   ],
   "source": [
    "#Train the Model\n",
    "\n",
    "Y_train = np.reshape(Y_train, (-1, 1))\n",
    "Y_test = np.reshape(Y_test, (-1, 1))\n",
    "\n",
    "prior_model = TabNetRegressor(optimizer_fn=torch.optim.Adam, optimizer_params=dict(lr = 0.001),\n",
    "          #scheduler_params={\"step_size\":10, ], \"gamma\":0.9},\n",
    "          #scheduler_fn=torch.optim.lr_scheduler.StepLR\n",
    "          )  #TabNetRegressor()\n",
    "\n",
    "prior_model.fit(X_train,Y_train,eval_set=[(X_train, Y_train)],\n",
    "            eval_name=['train'], \n",
    "            eval_metric=[ 'mse', 'mae'], \n",
    "            max_epochs = n_epochs, \n",
    "            batch_size = batch_size,\n",
    "            patience=50\n",
    "            )"
   ]
  },
  {
   "cell_type": "code",
   "execution_count": 10,
   "id": "af65dcda",
   "metadata": {
    "execution": {
     "iopub.execute_input": "2022-07-22T08:26:03.423855Z",
     "iopub.status.busy": "2022-07-22T08:26:03.422995Z",
     "iopub.status.idle": "2022-07-22T08:26:03.475523Z",
     "shell.execute_reply": "2022-07-22T08:26:03.472915Z"
    },
    "id": "af65dcda",
    "papermill": {
     "duration": 0.072686,
     "end_time": "2022-07-22T08:26:03.479407",
     "exception": false,
     "start_time": "2022-07-22T08:26:03.406721",
     "status": "completed"
    },
    "tags": []
   },
   "outputs": [
    {
     "data": {
      "application/scrapbook.scrap.json+json": {
       "data": 0.5529433446545641,
       "encoder": "json",
       "name": "Prior Model MSE",
       "version": 1
      }
     },
     "metadata": {
      "scrapbook": {
       "data": true,
       "display": false,
       "name": "Prior Model MSE"
      }
     },
     "output_type": "display_data"
    },
    {
     "data": {
      "application/scrapbook.scrap.json+json": {
       "data": 1.9791133764543738,
       "encoder": "json",
       "name": "ABC Pre-generator MSE",
       "version": 1
      }
     },
     "metadata": {
      "scrapbook": {
       "data": true,
       "display": false,
       "name": "ABC Pre-generator MSE"
      }
     },
     "output_type": "display_data"
    },
    {
     "data": {
      "application/scrapbook.scrap.json+json": {
       "data": 0.4343582137669092,
       "encoder": "json",
       "name": "Prior Model MAE",
       "version": 1
      }
     },
     "metadata": {
      "scrapbook": {
       "data": true,
       "display": false,
       "name": "Prior Model MAE"
      }
     },
     "output_type": "display_data"
    },
    {
     "name": "stdout",
     "output_type": "stream",
     "text": [
      "Prior Model MAE 0.4343582137669092\n"
     ]
    },
    {
     "data": {
      "application/scrapbook.scrap.json+json": {
       "data": 1.1307766103015706,
       "encoder": "json",
       "name": "ABC Pre-generator MAE",
       "version": 1
      }
     },
     "metadata": {
      "scrapbook": {
       "data": true,
       "display": false,
       "name": "ABC Pre-generator MAE"
      }
     },
     "output_type": "display_data"
    },
    {
     "name": "stdout",
     "output_type": "stream",
     "text": [
      "ABC Pre-generator MAE 1.1307766103015706\n"
     ]
    }
   ],
   "source": [
    "y_pred = prior_model.predict(X_test)\n",
    "y_abc = y_pred + np.random.normal(0,variance, y_pred.shape) + bias \n",
    "mse = mean_squared_error(y_pred,Y_test)\n",
    "sb.glue(\"Prior Model MSE\",mse)\n",
    "mse = mean_squared_error(y_abc,Y_test)\n",
    "sb.glue(\"ABC Pre-generator MSE\",mse)\n",
    "mae = mean_absolute_error(y_pred,Y_test)\n",
    "sb.glue(\"Prior Model MAE\",mae)\n",
    "print(\"Prior Model MAE\",mae)\n",
    "mae = mean_absolute_error(y_abc,Y_test)\n",
    "sb.glue(\"ABC Pre-generator MAE\",mae)\n",
    "print(\"ABC Pre-generator MAE\",mae)"
   ]
  },
  {
   "cell_type": "markdown",
   "id": "25609da2",
   "metadata": {
    "papermill": {
     "duration": 0.016941,
     "end_time": "2022-07-22T08:26:03.512336",
     "exception": false,
     "start_time": "2022-07-22T08:26:03.495395",
     "status": "completed"
    },
    "tags": []
   },
   "source": [
    "# mGAN Model"
   ]
  },
  {
   "cell_type": "code",
   "execution_count": 11,
   "id": "dfc3464d",
   "metadata": {
    "execution": {
     "iopub.execute_input": "2022-07-22T08:26:03.548695Z",
     "iopub.status.busy": "2022-07-22T08:26:03.547714Z",
     "iopub.status.idle": "2022-07-22T08:26:03.553720Z",
     "shell.execute_reply": "2022-07-22T08:26:03.552007Z"
    },
    "papermill": {
     "duration": 0.027105,
     "end_time": "2022-07-22T08:26:03.556994",
     "exception": false,
     "start_time": "2022-07-22T08:26:03.529889",
     "status": "completed"
    },
    "tags": []
   },
   "outputs": [],
   "source": [
    "# gen = network.Generator(n_features+1).to(device)\n",
    "# disc = network.Discriminator(n_features+1).to(device)\n",
    "\n",
    "# criterion = torch.nn.BCELoss()\n",
    "# gen_opt = torch.optim.Adam(gen.parameters(), lr=0.001, betas=(0.5, 0.999))\n",
    "# disc_opt = torch.optim.Adam(disc.parameters(), lr=0.001, betas=(0.5, 0.999))"
   ]
  },
  {
   "cell_type": "code",
   "execution_count": 12,
   "id": "b75fdd85",
   "metadata": {
    "execution": {
     "iopub.execute_input": "2022-07-22T08:26:03.592268Z",
     "iopub.status.busy": "2022-07-22T08:26:03.591831Z",
     "iopub.status.idle": "2022-07-22T08:26:03.597085Z",
     "shell.execute_reply": "2022-07-22T08:26:03.595317Z"
    },
    "papermill": {
     "duration": 0.025877,
     "end_time": "2022-07-22T08:26:03.599696",
     "exception": false,
     "start_time": "2022-07-22T08:26:03.573819",
     "status": "completed"
    },
    "tags": []
   },
   "outputs": [],
   "source": [
    "#Training the ABC_GAN \n",
    "# ABC_train_test2.training_GAN(disc,gen,disc_opt,gen_opt,train_data,batch_size,n_epochs,criterion,prior_model,variance,bias,device)"
   ]
  },
  {
   "cell_type": "code",
   "execution_count": 13,
   "id": "1fa7c368",
   "metadata": {
    "execution": {
     "iopub.execute_input": "2022-07-22T08:26:03.634874Z",
     "iopub.status.busy": "2022-07-22T08:26:03.634211Z",
     "iopub.status.idle": "2022-07-22T08:26:03.639001Z",
     "shell.execute_reply": "2022-07-22T08:26:03.637950Z"
    },
    "papermill": {
     "duration": 0.027481,
     "end_time": "2022-07-22T08:26:03.642709",
     "exception": false,
     "start_time": "2022-07-22T08:26:03.615228",
     "status": "completed"
    },
    "tags": []
   },
   "outputs": [],
   "source": [
    "# ABC_GAN1_metrics=ABC_train_test2.test_generator(gen,test_data,prior_model,variance,bias,\"1\",device)\n",
    "# sb.glue(\"ABC_GAN_1 Metrics\",ABC_GAN1_metrics)\n",
    "\n",
    "# print(\"MAE\")\n",
    "# print(mean(ABC_GAN1_metrics[1]))"
   ]
  },
  {
   "cell_type": "code",
   "execution_count": 14,
   "id": "eb22ce5c",
   "metadata": {
    "execution": {
     "iopub.execute_input": "2022-07-22T08:26:03.693254Z",
     "iopub.status.busy": "2022-07-22T08:26:03.692617Z",
     "iopub.status.idle": "2022-07-22T08:26:03.697182Z",
     "shell.execute_reply": "2022-07-22T08:26:03.696115Z"
    },
    "papermill": {
     "duration": 0.024775,
     "end_time": "2022-07-22T08:26:03.700718",
     "exception": false,
     "start_time": "2022-07-22T08:26:03.675943",
     "status": "completed"
    },
    "tags": []
   },
   "outputs": [],
   "source": [
    "# sanityChecks.discProbVsError(train_data,disc,device)\n",
    "# sanityChecks.discProbVsError(test_data,disc,device)"
   ]
  },
  {
   "cell_type": "markdown",
   "id": "64a4c5ad",
   "metadata": {
    "papermill": {
     "duration": 0.016816,
     "end_time": "2022-07-22T08:26:03.732333",
     "exception": false,
     "start_time": "2022-07-22T08:26:03.715517",
     "status": "completed"
    },
    "tags": []
   },
   "source": [
    "# mGAN Model with TabNet Generator"
   ]
  },
  {
   "cell_type": "code",
   "execution_count": 15,
   "id": "2c77f252",
   "metadata": {
    "execution": {
     "iopub.execute_input": "2022-07-22T08:26:03.767247Z",
     "iopub.status.busy": "2022-07-22T08:26:03.766790Z",
     "iopub.status.idle": "2022-07-22T08:26:03.785047Z",
     "shell.execute_reply": "2022-07-22T08:26:03.784009Z"
    },
    "papermill": {
     "duration": 0.038952,
     "end_time": "2022-07-22T08:26:03.788081",
     "exception": false,
     "start_time": "2022-07-22T08:26:03.749129",
     "status": "completed"
    },
    "tags": []
   },
   "outputs": [],
   "source": [
    "gen2 = network.GeneratorTabnet(n_features+1).to(device)\n",
    "disc2 = network.Discriminator(n_features+1).to(device)\n",
    "\n",
    "criterion = torch.nn.BCELoss()\n",
    "gen_opt = torch.optim.Adam(gen2.parameters(), lr=0.001, betas=(0.5, 0.999))\n",
    "disc_opt = torch.optim.Adam(disc2.parameters(), lr=0.001, betas=(0.5, 0.999))"
   ]
  },
  {
   "cell_type": "code",
   "execution_count": 16,
   "id": "6026ffe3",
   "metadata": {
    "execution": {
     "iopub.execute_input": "2022-07-22T08:26:03.820088Z",
     "iopub.status.busy": "2022-07-22T08:26:03.819728Z",
     "iopub.status.idle": "2022-07-22T08:28:42.444444Z",
     "shell.execute_reply": "2022-07-22T08:28:42.443004Z"
    },
    "papermill": {
     "duration": 158.64461,
     "end_time": "2022-07-22T08:28:42.447631",
     "exception": false,
     "start_time": "2022-07-22T08:26:03.803021",
     "status": "completed"
    },
    "tags": []
   },
   "outputs": [
    {
     "data": {
      "image/png": "[encoded data removed]",
      "text/plain": [
       "<Figure size 432x288 with 1 Axes>"
      ]
     },
     "metadata": {
      "needs_background": "light"
     },
     "output_type": "display_data"
    },
    {
     "data": {
      "image/png": "[encoded data removed]",
      "text/plain": [
       "<Figure size 432x288 with 1 Axes>"
      ]
     },
     "metadata": {
      "needs_background": "light"
     },
     "output_type": "display_data"
    }
   ],
   "source": [
    "#Training the ABC_GAN \n",
    "ABC_train_test2.training_GAN(disc2,gen2,disc_opt,gen_opt,train_data,batch_size,n_epochs,criterion,prior_model,variance,bias,device)"
   ]
  },
  {
   "cell_type": "code",
   "execution_count": 17,
   "id": "481eb70e",
   "metadata": {
    "execution": {
     "iopub.execute_input": "2022-07-22T08:28:42.485054Z",
     "iopub.status.busy": "2022-07-22T08:28:42.484533Z",
     "iopub.status.idle": "2022-07-22T08:28:44.565045Z",
     "shell.execute_reply": "2022-07-22T08:28:44.563840Z"
    },
    "papermill": {
     "duration": 2.10296,
     "end_time": "2022-07-22T08:28:44.568067",
     "exception": false,
     "start_time": "2022-07-22T08:28:42.465107",
     "status": "completed"
    },
    "tags": []
   },
   "outputs": [
    {
     "data": {
      "application/scrapbook.scrap.json+json": {
       "data": 0.7064130662518368,
       "encoder": "json",
       "name": "ABC-GAN Model 1 MSE",
       "version": 1
      }
     },
     "metadata": {
      "scrapbook": {
       "data": true,
       "display": false,
       "name": "ABC-GAN Model 1 MSE"
      }
     },
     "output_type": "display_data"
    },
    {
     "data": {
      "application/scrapbook.scrap.json+json": {
       "data": 0.49946812698617576,
       "encoder": "json",
       "name": "ABC-GAN Model 1 MAE",
       "version": 1
      }
     },
     "metadata": {
      "scrapbook": {
       "data": true,
       "display": false,
       "name": "ABC-GAN Model 1 MAE"
      }
     },
     "output_type": "display_data"
    },
    {
     "data": {
      "application/scrapbook.scrap.json+json": {
       "data": 9.989362539723516,
       "encoder": "json",
       "name": "ABC-GAN Model 1 Manhattan Distance",
       "version": 1
      }
     },
     "metadata": {
      "scrapbook": {
       "data": true,
       "display": false,
       "name": "ABC-GAN Model 1 Manhattan Distance"
      }
     },
     "output_type": "display_data"
    },
    {
     "data": {
      "application/scrapbook.scrap.json+json": {
       "data": 3.7516380916025587,
       "encoder": "json",
       "name": "ABC-GAN Model 1 Euclidean distance",
       "version": 1
      }
     },
     "metadata": {
      "scrapbook": {
       "data": true,
       "display": false,
       "name": "ABC-GAN Model 1 Euclidean distance"
      }
     },
     "output_type": "display_data"
    },
    {
     "data": {
      "application/scrapbook.scrap.json+json": {
       "data": [
        [
         0.7159690848864446,
         0.7641313141930741,
         0.7354542220555583,
         0.8113355275646204,
         0.6859845437324292,
         0.7093737900742865,
         0.7732814834073831,
         0.8059284357510416,
         0.7645064520754239,
         0.6136543789231508,
         0.7365135863662193,
         0.746337089783066,
         0.6895140983592454,
         0.5919011724422131,
         0.5495922910174087,
         0.675279719232916,
         0.7109260805816817,
         0.6523474506825593,
         0.8196831116673018,
         0.8626202035218011,
         0.6524028435469431,
         0.6249433578419307,
         0.6999247585575584,
         0.7447737521832819,
         0.6991108932948773,
         0.7410035853906167,
         0.5969890437154273,
         0.6784236918366576,
         0.7714409386894545,
         0.7426801803992837,
         0.8638556376592982,
         0.6635046138273811,
         0.5278321205558287,
         0.6846818113362971,
         0.7944196157199428,
         0.6435978263459111,
         0.6730944963903408,
         0.7219897398112087,
         0.8009997561604354,
         0.6123404514025712,
         0.6583363514128259,
         0.6466214830218645,
         0.6807419926809031,
         0.6097936137257898,
         0.6995533788976684,
         0.6579888823733033,
         0.6843000016407557,
         0.5512304934504029,
         0.805155460193245,
         0.6110853021651808,
         0.7960507863656915,
         0.7716728967702252,
         0.8239648261787021,
         0.6830684605266955,
         0.7921645680954318,
         0.7521610942552082,
         0.5723415732454413,
         0.6876313570961006,
         0.7257699179672062,
         0.655722407362686,
         0.5131120683539594,
         0.6279387924479742,
         0.7972114693485752,
         0.7978789655911094,
         0.7192169180921143,
         0.7124940188395626,
         0.5562554178789398,
         0.7913973718094841,
         0.7472696103176736,
         0.7215979192114561,
         0.7000710649615398,
         0.6735677915585467,
         0.7278244090189481,
         0.7733580705094092,
         0.7271610605090173,
         0.7467101349257419,
         0.8132649433127487,
         0.6035424894780911,
         0.753795565911824,
         0.6529340007942539,
         0.6381302081159198,
         0.625836744620241,
         0.8205641502795548,
         0.8405846414073428,
         0.8143525361945632,
         0.5833960878960548,
         0.5925269639764201,
         0.5541150242942875,
         0.7131718515036137,
         0.589252149757616,
         0.6211992141349548,
         0.7209617676609457,
         0.8082015973986734,
         0.5203445961609232,
         0.881016437745858,
         0.749501680542216,
         0.8675558705495353,
         0.7294514206070605,
         0.7750469243781579,
         0.8217966766803728
        ],
        [
         0.5032604150474072,
         0.5062312416732311,
         0.5081002958118915,
         0.5117498613893986,
         0.5135133117437363,
         0.5010233670473099,
         0.5100125160068274,
         0.5050332427024842,
         0.53829250857234,
         0.48136330395936966,
         0.5009449489414692,
         0.5078741054981947,
         0.49161763712763784,
         0.5018037348985672,
         0.4446767386049032,
         0.4881882473826408,
         0.5209437496960163,
         0.5310918562114239,
         0.5098123662173748,
         0.5426425971090794,
         0.492244603484869,
         0.4860326051712036,
         0.47110630199313164,
         0.5272672049701214,
         0.48541927710175514,
         0.49610159248113633,
         0.4943592347204685,
         0.49170868992805483,
         0.5002333074808121,
         0.5011838287115097,
         0.5461709193885327,
         0.47580656260251997,
         0.46372838206589223,
         0.5023634128272534,
         0.5253749027848243,
         0.4893693126738071,
         0.5065991308540105,
         0.5512328095734119,
         0.5338748455047607,
         0.4507384829223156,
         0.5079891555011272,
         0.5096661284565925,
         0.4876745853573084,
         0.47758169025182723,
         0.5319003827869893,
         0.4636426903307438,
         0.48500148206949234,
         0.4461860626935959,
         0.48934526592493055,
         0.48415267616510393,
         0.5118757776916028,
         0.5394355863332748,
         0.5160052560269832,
         0.5071905001997947,
         0.5253151565790176,
         0.4588902026414871,
         0.4920613832771778,
         0.4807672373950481,
         0.4986982986330986,
         0.4758937515318394,
         0.4244151182472706,
         0.5100157797336579,
         0.5259852141141892,
         0.47101023867726327,
         0.5076848991215229,
         0.5282097525894642,
         0.47752069160342214,
         0.4960183687508106,
         0.49512082934379575,
         0.49637234322726725,
         0.5102393481880426,
         0.48280342295765877,
         0.4761372163891792,
         0.5011551178991794,
         0.5500030152499675,
         0.5030606105923653,
         0.4663847766816616,
         0.519448097422719,
         0.5381942167878151,
         0.4890813119709492,
         0.5030299589037895,
         0.4421446681022644,
         0.5172366388142109,
         0.5348017454147339,
         0.5043094001710415,
         0.4832355879247189,
         0.4666838631033897,
         0.4393448866903782,
         0.4989828258752823,
         0.5063694290816784,
         0.4708768673241138,
         0.5085060305893421,
         0.534187825396657,
         0.44098479971289634,
         0.5778250515460968,
         0.5109995659440756,
         0.5376139424741269,
         0.49767605364322665,
         0.5477390117943287,
         0.4570394538342953
        ],
        [
         10.065208300948143,
         10.124624833464622,
         10.162005916237831,
         10.234997227787971,
         10.270266234874725,
         10.020467340946198,
         10.200250320136547,
         10.100664854049683,
         10.7658501714468,
         9.627266079187393,
         10.018898978829384,
         10.157482109963894,
         9.832352742552757,
         10.036074697971344,
         8.893534772098064,
         9.763764947652817,
         10.418874993920326,
         10.621837124228477,
         10.196247324347496,
         10.852851942181587,
         9.84489206969738,
         9.720652103424072,
         9.422126039862633,
         10.545344099402428,
         9.708385542035103,
         9.922031849622726,
         9.88718469440937,
         9.834173798561096,
         10.004666149616241,
         10.023676574230194,
         10.923418387770653,
         9.5161312520504,
         9.274567641317844,
         10.047268256545067,
         10.507498055696487,
         9.787386253476143,
         10.131982617080212,
         11.024656191468239,
         10.677496910095215,
         9.014769658446312,
         10.159783110022545,
         10.193322569131851,
         9.753491707146168,
         9.551633805036545,
         10.638007655739784,
         9.272853806614876,
         9.700029641389847,
         8.923721253871918,
         9.786905318498611,
         9.683053523302078,
         10.237515553832054,
         10.788711726665497,
         10.320105120539665,
         10.143810003995895,
         10.506303131580353,
         9.177804052829742,
         9.841227665543556,
         9.615344747900963,
         9.973965972661972,
         9.517875030636787,
         8.488302364945412,
         10.200315594673157,
         10.519704282283783,
         9.420204773545265,
         10.153697982430458,
         10.564195051789284,
         9.550413832068443,
         9.920367375016212,
         9.902416586875916,
         9.927446864545345,
         10.204786963760853,
         9.656068459153175,
         9.522744327783585,
         10.02310235798359,
         11.000060304999352,
         10.061212211847305,
         9.327695533633232,
         10.38896194845438,
         10.763884335756302,
         9.781626239418983,
         10.06059917807579,
         8.842893362045288,
         10.344732776284218,
         10.696034908294678,
         10.08618800342083,
         9.664711758494377,
         9.333677262067795,
         8.786897733807564,
         9.979656517505646,
         10.127388581633568,
         9.417537346482277,
         10.170120611786842,
         10.68375650793314,
         8.819695994257927,
         11.556501030921936,
         10.219991318881512,
         10.752278849482536,
         9.953521072864532,
         10.954780235886574,
         9.140789076685905
        ],
        [
         3.7840958890769265,
         3.9092999736348557,
         3.8352424227304285,
         4.028239137798599,
         3.704010107255187,
         3.7666265811048656,
         3.932636478006537,
         4.014793732562214,
         3.9102594596149856,
         3.503296672915815,
         3.838003612208356,
         3.8635141769717007,
         3.7135268905967154,
         3.4406428830734908,
         3.315395273620956,
         3.67499583464503,
         3.7707454981254878,
         3.612056064577512,
         4.048908770686991,
         4.153601337446339,
         3.612209416816647,
         3.53537369408647,
         3.741456290156437,
         3.8594656422444853,
         3.739280394126328,
         3.8496846244611174,
         3.455398801051558,
         3.683540937295682,
         3.9279535096267484,
         3.8540373127391585,
         4.156574641839836,
         3.6428137855986575,
         3.24909870750591,
         3.7004913493651004,
         3.9860246254130014,
         3.587750900901318,
         3.6690448249928505,
         3.7999729994072555,
         4.002498610019585,
         3.4995441171746107,
         3.6285984936689424,
         3.5961687474918764,
         3.6898292445068597,
         3.4922589071424524,
         3.740463551213054,
         3.627640782583919,
         3.6994594244044783,
         3.320332794918012,
         4.012867952458055,
         3.495955669527807,
         3.9901147511461157,
         3.9285439968777878,
         4.059469980622352,
         3.6961289493920404,
         3.980363219846731,
         3.8785592537827966,
         3.383316636809039,
         3.7084534703730627,
         3.8099079200610775,
         3.621387599699005,
         3.2034733286043116,
         3.5438363180259165,
         3.9930225878363754,
         3.994693894633503,
         3.792669028776738,
         3.774901373121059,
         3.3354322594798407,
         3.9784352999878836,
         3.865927082389614,
         3.798941745306069,
         3.741847311052496,
         3.6703345666534184,
         3.8152966045091383,
         3.932831220658749,
         3.813557553017962,
         3.864479615487037,
         4.033026018544261,
         3.4743128514228276,
         3.8827710875399903,
         3.613679567405649,
         3.5724787140469285,
         3.5378997855231598,
         4.05108417656201,
         4.100206437259819,
         4.035721834305638,
         3.415833976925854,
         3.442461224113992,
         3.32900893448572,
         3.7766965763842184,
         3.4329350409164925,
         3.5247672664587513,
         3.797266826708246,
         4.020451709444284,
         3.225971469684514,
         4.19765753187622,
         3.871696477107202,
         4.165467250020183,
         3.8195586671945763,
         3.9371231232415322,
         4.0541254955424675
        ]
       ],
       "encoder": "json",
       "name": "ABC_GAN_2 Metrics",
       "version": 1
      }
     },
     "metadata": {
      "scrapbook": {
       "data": true,
       "display": false,
       "name": "ABC_GAN_2 Metrics"
      }
     },
     "output_type": "display_data"
    },
    {
     "name": "stdout",
     "output_type": "stream",
     "text": [
      "MAE\n",
      "0.49946812698617576\n"
     ]
    }
   ],
   "source": [
    "ABC_GAN2_metrics=ABC_train_test2.test_generator(gen2,test_data,prior_model,variance,bias,\"1\",device)\n",
    "sb.glue(\"ABC_GAN_2 Metrics\",ABC_GAN2_metrics)\n",
    "\n",
    "print(\"MAE\")\n",
    "print(mean(ABC_GAN2_metrics[1]))"
   ]
  },
  {
   "cell_type": "code",
   "execution_count": 18,
   "id": "f34bf66e",
   "metadata": {
    "execution": {
     "iopub.execute_input": "2022-07-22T08:28:44.608186Z",
     "iopub.status.busy": "2022-07-22T08:28:44.607275Z",
     "iopub.status.idle": "2022-07-22T08:28:45.554652Z",
     "shell.execute_reply": "2022-07-22T08:28:45.553390Z"
    },
    "papermill": {
     "duration": 0.97452,
     "end_time": "2022-07-22T08:28:45.560452",
     "exception": false,
     "start_time": "2022-07-22T08:28:44.585932",
     "status": "completed"
    },
    "tags": []
   },
   "outputs": [
    {
     "data": {
      "image/png": "[encoded data removed]",
      "text/plain": [
       "<Figure size 432x288 with 1 Axes>"
      ]
     },
     "metadata": {
      "needs_background": "light"
     },
     "output_type": "display_data"
    },
    {
     "data": {
      "image/png": "[encoded data removed]",
      "text/plain": [
       "<Figure size 432x288 with 1 Axes>"
      ]
     },
     "metadata": {
      "needs_background": "light"
     },
     "output_type": "display_data"
    },
    {
     "data": {
      "image/png": "[encoded data removed]",
      "text/plain": [
       "<Figure size 432x288 with 1 Axes>"
      ]
     },
     "metadata": {
      "needs_background": "light"
     },
     "output_type": "display_data"
    },
    {
     "data": {
      "image/png": "[encoded data removed]",
      "text/plain": [
       "<Figure size 432x288 with 1 Axes>"
      ]
     },
     "metadata": {
      "needs_background": "light"
     },
     "output_type": "display_data"
    }
   ],
   "source": [
    "sanityChecks.discProbVsError(train_data,disc2,device)\n",
    "sanityChecks.discProbVsError(test_data,disc2,device)"
   ]
  },
  {
   "cell_type": "markdown",
   "id": "130f3a4d",
   "metadata": {
    "id": "130f3a4d",
    "papermill": {
     "duration": 0.023994,
     "end_time": "2022-07-22T08:28:45.606804",
     "exception": false,
     "start_time": "2022-07-22T08:28:45.582810",
     "status": "completed"
    },
    "tags": []
   },
   "source": [
    "# skipGAN Model"
   ]
  },
  {
   "cell_type": "code",
   "execution_count": 19,
   "id": "4e43dad1",
   "metadata": {
    "execution": {
     "iopub.execute_input": "2022-07-22T08:28:45.650443Z",
     "iopub.status.busy": "2022-07-22T08:28:45.649687Z",
     "iopub.status.idle": "2022-07-22T08:28:45.654960Z",
     "shell.execute_reply": "2022-07-22T08:28:45.653534Z"
    },
    "id": "4e43dad1",
    "papermill": {
     "duration": 0.030818,
     "end_time": "2022-07-22T08:28:45.657862",
     "exception": false,
     "start_time": "2022-07-22T08:28:45.627044",
     "status": "completed"
    },
    "tags": []
   },
   "outputs": [],
   "source": [
    "# #Generator\n",
    "# gen3 = network.GeneratorWithSkipConnection(n_features+1).to(device)\n",
    "# constraints=network.weightConstraint()\n",
    "# #Discriminator \n",
    "# disc3 = network.Discriminator(n_features+1).to(device)\n",
    "\n",
    "# criterion = torch.nn.BCELoss()\n",
    "# gen_opt = torch.optim.Adam(gen3.parameters(), lr=0.01, betas=(0.5, 0.999))\n",
    "# disc_opt = torch.optim.Adam(disc3.parameters(), lr=0.01, betas=(0.5, 0.999))\n"
   ]
  },
  {
   "cell_type": "code",
   "execution_count": 20,
   "id": "26acbc37",
   "metadata": {
    "execution": {
     "iopub.execute_input": "2022-07-22T08:28:45.701961Z",
     "iopub.status.busy": "2022-07-22T08:28:45.701528Z",
     "iopub.status.idle": "2022-07-22T08:28:45.706652Z",
     "shell.execute_reply": "2022-07-22T08:28:45.705598Z"
    },
    "id": "26acbc37",
    "papermill": {
     "duration": 0.032318,
     "end_time": "2022-07-22T08:28:45.709878",
     "exception": false,
     "start_time": "2022-07-22T08:28:45.677560",
     "status": "completed"
    },
    "tags": []
   },
   "outputs": [],
   "source": [
    "# ABC_train_test2.training_GAN_skip_connection(disc3,gen3,disc_opt,gen_opt,train_data,batch_size,n_epochs,criterion,prior_model,variance,bias,device)"
   ]
  },
  {
   "cell_type": "code",
   "execution_count": 21,
   "id": "c5e0717b",
   "metadata": {
    "execution": {
     "iopub.execute_input": "2022-07-22T08:28:45.754428Z",
     "iopub.status.busy": "2022-07-22T08:28:45.753840Z",
     "iopub.status.idle": "2022-07-22T08:28:45.759193Z",
     "shell.execute_reply": "2022-07-22T08:28:45.758062Z"
    },
    "id": "c5e0717b",
    "papermill": {
     "duration": 0.031051,
     "end_time": "2022-07-22T08:28:45.762385",
     "exception": false,
     "start_time": "2022-07-22T08:28:45.731334",
     "status": "completed"
    },
    "tags": []
   },
   "outputs": [],
   "source": [
    "# ABC_GAN3_metrics=ABC_train_test2.test_generator(gen3,test_data,prior_model,variance,bias,\"3\",device)\n",
    "# sb.glue(\"ABC_GAN_3 Metrics\",ABC_GAN3_metrics)\n",
    "\n",
    "# print(\"MAE\")\n",
    "# print(mean(ABC_GAN3_metrics[1]))"
   ]
  },
  {
   "cell_type": "code",
   "execution_count": 22,
   "id": "c8e46b48",
   "metadata": {
    "execution": {
     "iopub.execute_input": "2022-07-22T08:28:45.807039Z",
     "iopub.status.busy": "2022-07-22T08:28:45.806391Z",
     "iopub.status.idle": "2022-07-22T08:28:45.810999Z",
     "shell.execute_reply": "2022-07-22T08:28:45.809718Z"
    },
    "id": "c8e46b48",
    "papermill": {
     "duration": 0.032635,
     "end_time": "2022-07-22T08:28:45.814821",
     "exception": false,
     "start_time": "2022-07-22T08:28:45.782186",
     "status": "completed"
    },
    "tags": []
   },
   "outputs": [],
   "source": [
    "# sanityChecks.discProbVsError(train_data,disc3,device)\n",
    "# sanityChecks.discProbVsError(test_data,disc3,device)"
   ]
  },
  {
   "cell_type": "markdown",
   "id": "4162a8fe",
   "metadata": {
    "id": "130f3a4d",
    "papermill": {
     "duration": 0.021187,
     "end_time": "2022-07-22T08:28:45.855696",
     "exception": false,
     "start_time": "2022-07-22T08:28:45.834509",
     "status": "completed"
    },
    "tags": []
   },
   "source": [
    "# skipGAN Model with TabNet Generator"
   ]
  },
  {
   "cell_type": "code",
   "execution_count": 23,
   "id": "4ac5b499",
   "metadata": {
    "execution": {
     "iopub.execute_input": "2022-07-22T08:28:45.899560Z",
     "iopub.status.busy": "2022-07-22T08:28:45.899051Z",
     "iopub.status.idle": "2022-07-22T08:28:45.918096Z",
     "shell.execute_reply": "2022-07-22T08:28:45.916996Z"
    },
    "id": "4e43dad1",
    "papermill": {
     "duration": 0.044692,
     "end_time": "2022-07-22T08:28:45.921312",
     "exception": false,
     "start_time": "2022-07-22T08:28:45.876620",
     "status": "completed"
    },
    "tags": []
   },
   "outputs": [],
   "source": [
    "#Generator\n",
    "gen4 = network.GeneratorTabnetskipConnection(n_features+1).to(device)\n",
    "constraints=network.weightConstraint()\n",
    "#Discriminator \n",
    "disc4 = network.Discriminator(n_features+1).to(device)\n",
    "\n",
    "criterion = torch.nn.BCELoss()\n",
    "gen_opt = torch.optim.Adam(gen4.parameters(), lr=0.001, betas=(0.5, 0.999))\n",
    "disc_opt = torch.optim.Adam(disc4.parameters(), lr=0.001, betas=(0.5, 0.999))\n"
   ]
  },
  {
   "cell_type": "code",
   "execution_count": 24,
   "id": "88c8619f",
   "metadata": {
    "execution": {
     "iopub.execute_input": "2022-07-22T08:28:45.965351Z",
     "iopub.status.busy": "2022-07-22T08:28:45.964716Z",
     "iopub.status.idle": "2022-07-22T08:31:59.938861Z",
     "shell.execute_reply": "2022-07-22T08:31:59.937562Z"
    },
    "id": "26acbc37",
    "papermill": {
     "duration": 194.00009,
     "end_time": "2022-07-22T08:31:59.941686",
     "exception": false,
     "start_time": "2022-07-22T08:28:45.941596",
     "status": "completed"
    },
    "tags": []
   },
   "outputs": [
    {
     "data": {
      "image/png": "[encoded data removed]",
      "text/plain": [
       "<Figure size 432x288 with 1 Axes>"
      ]
     },
     "metadata": {
      "needs_background": "light"
     },
     "output_type": "display_data"
    },
    {
     "data": {
      "image/png": "[encoded data removed]",
      "text/plain": [
       "<Figure size 432x288 with 1 Axes>"
      ]
     },
     "metadata": {
      "needs_background": "light"
     },
     "output_type": "display_data"
    }
   ],
   "source": [
    "ABC_train_test2.training_GAN_skip_connection(disc4,gen4,disc_opt,gen_opt,train_data,batch_size,n_epochs,criterion,prior_model,variance,bias,device)"
   ]
  },
  {
   "cell_type": "code",
   "execution_count": 25,
   "id": "583075a7",
   "metadata": {
    "execution": {
     "iopub.execute_input": "2022-07-22T08:31:59.991556Z",
     "iopub.status.busy": "2022-07-22T08:31:59.991154Z",
     "iopub.status.idle": "2022-07-22T08:32:01.908741Z",
     "shell.execute_reply": "2022-07-22T08:32:01.907466Z"
    },
    "id": "c5e0717b",
    "papermill": {
     "duration": 1.946732,
     "end_time": "2022-07-22T08:32:01.912215",
     "exception": false,
     "start_time": "2022-07-22T08:31:59.965483",
     "status": "completed"
    },
    "tags": []
   },
   "outputs": [
    {
     "data": {
      "application/scrapbook.scrap.json+json": {
       "data": 0.49166742532527036,
       "encoder": "json",
       "name": "ABC-GAN Model 3 MSE",
       "version": 1
      }
     },
     "metadata": {
      "scrapbook": {
       "data": true,
       "display": false,
       "name": "ABC-GAN Model 3 MSE"
      }
     },
     "output_type": "display_data"
    },
    {
     "data": {
      "application/scrapbook.scrap.json+json": {
       "data": 0.5067046569702216,
       "encoder": "json",
       "name": "ABC-GAN Model 3 MAE",
       "version": 1
      }
     },
     "metadata": {
      "scrapbook": {
       "data": true,
       "display": false,
       "name": "ABC-GAN Model 3 MAE"
      }
     },
     "output_type": "display_data"
    },
    {
     "data": {
      "application/scrapbook.scrap.json+json": {
       "data": 10.134093139404431,
       "encoder": "json",
       "name": "ABC-GAN Model 3 Manhattan Distance",
       "version": 1
      }
     },
     "metadata": {
      "scrapbook": {
       "data": true,
       "display": false,
       "name": "ABC-GAN Model 3 Manhattan Distance"
      }
     },
     "output_type": "display_data"
    },
    {
     "data": {
      "application/scrapbook.scrap.json+json": {
       "data": 3.0819286831952746,
       "encoder": "json",
       "name": "ABC-GAN Model 3 Euclidean distance",
       "version": 1
      }
     },
     "metadata": {
      "scrapbook": {
       "data": true,
       "display": false,
       "name": "ABC-GAN Model 3 Euclidean distance"
      }
     },
     "output_type": "display_data"
    },
    {
     "data": {
      "application/scrapbook.scrap.json+json": {
       "data": [
        [
         0.7234538845630638,
         0.39985917303875745,
         0.3047717062821308,
         0.9372177600287624,
         0.3059426352200914,
         0.8848814385123507,
         0.3266852025336828,
         0.4682204831866835,
         0.4183061281799345,
         0.250988261691241,
         0.6135937738265664,
         0.3613917901454352,
         0.27882349997151906,
         0.48351896549437967,
         0.32960439481002346,
         0.5304921647677124,
         0.5650784372481048,
         0.3777932087524287,
         0.5525619023716979,
         0.4617245895963345,
         0.5896511884782596,
         0.41609949480496916,
         1.084120249267835,
         0.3299192198948532,
         0.3316492299895461,
         0.5787728197350719,
         0.2739904455820522,
         0.8493698174012954,
         0.6883081632207416,
         0.4059416443314957,
         0.6820190025300386,
         0.27319833145578143,
         0.39058348544887916,
         0.40118862565030416,
         0.3485678135576374,
         0.29892566225288986,
         0.31886433937320063,
         0.3965985881345516,
         0.46714075586739606,
         0.35458687846223536,
         0.8533040552361546,
         0.39803513413681396,
         0.7062110869547187,
         0.3687068040640502,
         0.46411716786690177,
         0.36732629600066147,
         0.3364410812416955,
         0.33244611466240687,
         0.34088603056610134,
         0.3671737442246418,
         0.3904811260968927,
         1.0600302283206973,
         0.39196865685903165,
         0.8494159486134405,
         0.3654400700080004,
         0.550078230157492,
         0.742408373107269,
         0.503177686963322,
         0.6396174949038389,
         0.5221049516951973,
         0.7184430592248028,
         0.19368432769127705,
         0.6213572442274693,
         0.5367935905858842,
         0.46364686022239043,
         0.6564680182477218,
         0.7201284035726991,
         0.9643469714739374,
         0.32020840152566143,
         0.4330457268857488,
         0.5508663916919969,
         0.3481512842087656,
         0.7557793859939478,
         0.315261415402574,
         0.38970666289752626,
         0.4046601281345179,
         0.38288247427052324,
         0.3661638657757853,
         0.26613532510078636,
         0.25925723801093603,
         0.4633715818028672,
         0.44589477600580213,
         1.0144646464583509,
         0.38143955467502594,
         0.4310705139383494,
         0.5576932652039012,
         0.48321686690243626,
         0.34521513772900175,
         0.4096123426777137,
         0.4781616607868756,
         0.34311003953975233,
         0.3715692765727585,
         0.3595850935622341,
         0.4461490868151824,
         0.45126757902765835,
         0.6400911960858515,
         0.5970204545190891,
         0.3353113691296828,
         0.6943738097767804,
         0.6473620688335073
        ],
        [
         0.5577337116003036,
         0.4884540982544422,
         0.4224865473806858,
         0.6626605462282896,
         0.4700890578329563,
         0.657890810072422,
         0.47255183532834055,
         0.5364226967096328,
         0.49139002338051796,
         0.42041582241654396,
         0.5621073894202709,
         0.45510770529508593,
         0.3776646554470062,
         0.5068232998251915,
         0.40641487538814547,
         0.4814372107386589,
         0.5310265824198723,
         0.46059814020991324,
         0.5122475780546665,
         0.4988256670534611,
         0.5110890224575997,
         0.46127221882343294,
         0.7366004027426243,
         0.39282126128673556,
         0.4549058639444411,
         0.4736868256703019,
         0.3691794518381357,
         0.6660774126648903,
         0.5679623275995255,
         0.4644796162843704,
         0.5752321165055037,
         0.3955219253897667,
         0.494864734262228,
         0.47674043476581573,
         0.4716089997440577,
         0.4263153918087482,
         0.4166473113000393,
         0.4868396453559399,
         0.534944786131382,
         0.45051550641655924,
         0.5767838947474957,
         0.4519506763201207,
         0.5979825168848037,
         0.4503195099532604,
         0.5337672762572765,
         0.46836250498890875,
         0.4389549150131643,
         0.44095233604311945,
         0.47262608762830494,
         0.44993237480521203,
         0.4076450698077679,
         0.7340250208973884,
         0.48326297774910926,
         0.6625764343887568,
         0.45654800683259966,
         0.5171310938894749,
         0.6060741402208805,
         0.5400626495480537,
         0.573382843285799,
         0.48491631001234053,
         0.627238842099905,
         0.3567228622734547,
         0.5703346285969019,
         0.5839178152382374,
         0.5797613400965929,
         0.5573207721114158,
         0.6304081592708826,
         0.6797043781727552,
         0.3880569482222199,
         0.4910382144153118,
         0.5396331673488021,
         0.42509552016854285,
         0.5732360099442303,
         0.4456727109849453,
         0.49626454412937165,
         0.4672735370695591,
         0.49426441788673403,
         0.45389237627387047,
         0.39163926243782043,
         0.4064337410032749,
         0.4992941804230213,
         0.5165452748537064,
         0.7238088443875312,
         0.47576163467019794,
         0.5011865045875311,
         0.5092755805701017,
         0.524368254467845,
         0.4860573083162308,
         0.5190550550818444,
         0.49797906056046487,
         0.4408328354358673,
         0.49691951684653757,
         0.4758916337043047,
         0.4720939002931118,
         0.47492814138531686,
         0.5675829321146011,
         0.5856857046484947,
         0.43118881732225417,
         0.6050848893821239,
         0.5621062329038977
        ],
        [
         11.154674232006073,
         9.769081965088844,
         8.449730947613716,
         13.253210924565792,
         9.401781156659126,
         13.15781620144844,
         9.45103670656681,
         10.728453934192657,
         9.82780046761036,
         8.40831644833088,
         11.242147788405418,
         9.102154105901718,
         7.5532931089401245,
         10.13646599650383,
         8.128297507762909,
         9.628744214773178,
         10.620531648397446,
         9.211962804198265,
         10.24495156109333,
         9.976513341069221,
         10.221780449151993,
         9.225444376468658,
         14.732008054852486,
         7.856425225734711,
         9.098117278888822,
         9.473736513406038,
         7.383589036762714,
         13.321548253297806,
         11.359246551990509,
         9.289592325687408,
         11.504642330110073,
         7.910438507795334,
         9.89729468524456,
         9.534808695316315,
         9.432179994881153,
         8.526307836174965,
         8.332946226000786,
         9.736792907118797,
         10.69889572262764,
         9.010310128331184,
         11.535677894949913,
         9.039013526402414,
         11.959650337696075,
         9.006390199065208,
         10.67534552514553,
         9.367250099778175,
         8.779098300263286,
         8.819046720862389,
         9.4525217525661,
         8.99864749610424,
         8.152901396155357,
         14.68050041794777,
         9.665259554982185,
         13.251528687775135,
         9.130960136651993,
         10.342621877789497,
         12.12148280441761,
         10.801252990961075,
         11.46765686571598,
         9.698326200246811,
         12.5447768419981,
         7.134457245469093,
         11.406692571938038,
         11.678356304764748,
         11.595226801931858,
         11.146415442228317,
         12.608163185417652,
         13.594087563455105,
         7.761138964444399,
         9.820764288306236,
         10.792663346976042,
         8.501910403370857,
         11.464720198884606,
         8.913454219698906,
         9.925290882587433,
         9.345470741391182,
         9.88528835773468,
         9.07784752547741,
         7.832785248756409,
         8.128674820065498,
         9.985883608460426,
         10.330905497074127,
         14.476176887750626,
         9.51523269340396,
         10.023730091750622,
         10.185511611402035,
         10.4873650893569,
         9.721146166324615,
         10.381101101636887,
         9.959581211209297,
         8.816656708717346,
         9.938390336930752,
         9.517832674086094,
         9.441878005862236,
         9.498562827706337,
         11.351658642292023,
         11.713714092969894,
         8.623776346445084,
         12.101697787642479,
         11.242124658077955
        ],
        [
         3.8038240878438736,
         2.827929182418674,
         2.468893299768667,
         4.329475164563858,
         2.47363148112281,
         4.206854973759734,
         2.5561111186084333,
         3.0601322951358934,
         2.892425031629807,
         2.240483258992314,
         3.5031236741701437,
         2.6884634650500097,
         2.3614550597947828,
         3.109723349413512,
         2.5675061628359277,
         3.2572754405107114,
         3.3617805914369394,
         2.74879322158808,
         3.324340242429159,
         3.038830661936708,
         3.4340972277390738,
         2.8847859359230426,
         4.656436940983599,
         2.5687320603552766,
         2.5754581339619795,
         3.402272239945157,
         2.3408991673374238,
         4.121576924919138,
         3.7102780575604886,
         2.8493565741461553,
         3.6932885144002454,
         2.337512915283171,
         2.7949364409548894,
         2.832626433719435,
         2.6403326061602064,
         2.445099843576494,
         2.525329045384782,
         2.8163756430368148,
         3.056601890555576,
         2.663031650064397,
         4.1311113643574275,
         2.8214717228312387,
         3.7582205548762535,
         2.7155360578127117,
         3.0466938404339277,
         2.710447549762443,
         2.5939972291492355,
         2.578550424802303,
         2.61107652345197,
         2.709884662581202,
         2.79457018554515,
         4.60441142453777,
         2.7998880579731455,
         4.121688849521371,
         2.7034794987497146,
         3.3168606547682766,
         3.853331994799485,
         3.172310473340597,
         3.576639469960144,
         3.2314236852978513,
         3.7906280725621255,
         1.9681683245661539,
         3.5252155798687523,
         3.276564025273683,
         3.045149783581722,
         3.623445924110699,
         3.7950715502417056,
         4.3916898148069095,
         2.530645773416981,
         2.9429431760934457,
         3.319236031655468,
         2.6387545706592936,
         3.8878770196443915,
         2.5110213675019732,
         2.79179749587081,
         2.8448554555003946,
         2.767245830317658,
         2.7061554492518916,
         2.3070991530525355,
         2.277091293782206,
         3.044245659610496,
         2.9862845678394483,
         4.504363765191153,
         2.7620266279492163,
         2.9362238127852223,
         3.3397403048856993,
         3.1087517330994325,
         2.6276039950076258,
         2.8622101344161077,
         3.0924477708988896,
         2.6195802699659816,
         2.7260567733367496,
         2.6817348622197312,
         2.9871360424834434,
         3.0042222921337176,
         3.577963655728916,
         3.455489703411339,
         2.5896384656151628,
         3.7265904249777178,
         3.5982275326430018
        ]
       ],
       "encoder": "json",
       "name": "ABC_GAN_4 Metrics",
       "version": 1
      }
     },
     "metadata": {
      "scrapbook": {
       "data": true,
       "display": false,
       "name": "ABC_GAN_4 Metrics"
      }
     },
     "output_type": "display_data"
    },
    {
     "name": "stdout",
     "output_type": "stream",
     "text": [
      "MAE\n",
      "0.5067046569702216\n"
     ]
    }
   ],
   "source": [
    "ABC_GAN4_metrics=ABC_train_test2.test_generator(gen4,test_data,prior_model,variance,bias,\"3\",device)\n",
    "sb.glue(\"ABC_GAN_4 Metrics\",ABC_GAN4_metrics)\n",
    "\n",
    "print(\"MAE\")\n",
    "print(mean(ABC_GAN4_metrics[1]))"
   ]
  },
  {
   "cell_type": "code",
   "execution_count": 26,
   "id": "6a2338c8",
   "metadata": {
    "execution": {
     "iopub.execute_input": "2022-07-22T08:32:01.969793Z",
     "iopub.status.busy": "2022-07-22T08:32:01.969404Z",
     "iopub.status.idle": "2022-07-22T08:32:03.047114Z",
     "shell.execute_reply": "2022-07-22T08:32:03.046237Z"
    },
    "id": "c8e46b48",
    "papermill": {
     "duration": 1.110921,
     "end_time": "2022-07-22T08:32:03.049621",
     "exception": false,
     "start_time": "2022-07-22T08:32:01.938700",
     "status": "completed"
    },
    "tags": []
   },
   "outputs": [
    {
     "data": {
      "image/png": "[encoded data removed]",
      "text/plain": [
       "<Figure size 432x288 with 1 Axes>"
      ]
     },
     "metadata": {
      "needs_background": "light"
     },
     "output_type": "display_data"
    },
    {
     "data": {
      "image/png": "[encoded data removed]",
      "text/plain": [
       "<Figure size 432x288 with 1 Axes>"
      ]
     },
     "metadata": {
      "needs_background": "light"
     },
     "output_type": "display_data"
    },
    {
     "data": {
      "image/png": "[encoded data removed]",
      "text/plain": [
       "<Figure size 432x288 with 1 Axes>"
      ]
     },
     "metadata": {
      "needs_background": "light"
     },
     "output_type": "display_data"
    },
    {
     "data": {
      "image/png": "[encoded data removed]",
      "text/plain": [
       "<Figure size 432x288 with 1 Axes>"
      ]
     },
     "metadata": {
      "needs_background": "light"
     },
     "output_type": "display_data"
    }
   ],
   "source": [
    "sanityChecks.discProbVsError(train_data,disc4,device)\n",
    "sanityChecks.discProbVsError(test_data,disc4,device)"
   ]
  },
  {
   "cell_type": "markdown",
   "id": "a5bd74c3",
   "metadata": {
    "id": "a5bd74c3",
    "papermill": {
     "duration": 0.026939,
     "end_time": "2022-07-22T08:32:03.104223",
     "exception": false,
     "start_time": "2022-07-22T08:32:03.077284",
     "status": "completed"
    },
    "tags": []
   },
   "source": [
    "## Skip Connection Model Analysis - ABC-GAN "
   ]
  },
  {
   "cell_type": "markdown",
   "id": "5744a8bf",
   "metadata": {
    "id": "5744a8bf",
    "papermill": {
     "duration": 0.029281,
     "end_time": "2022-07-22T08:32:03.174395",
     "exception": false,
     "start_time": "2022-07-22T08:32:03.145114",
     "status": "completed"
    },
    "tags": []
   },
   "source": [
    "### Weight Analysis \n",
    "\n",
    "Study the weights of the skip connection layer\n",
    "\n",
    "Equation of the skip connection is \n",
    "\n",
    "$output = y_{gan} * w + y_{abc} * (1-w)$"
   ]
  },
  {
   "cell_type": "code",
   "execution_count": 27,
   "id": "52c31dea",
   "metadata": {
    "execution": {
     "iopub.execute_input": "2022-07-22T08:32:03.239350Z",
     "iopub.status.busy": "2022-07-22T08:32:03.238493Z",
     "iopub.status.idle": "2022-07-22T08:32:03.246847Z",
     "shell.execute_reply": "2022-07-22T08:32:03.245420Z"
    },
    "id": "52c31dea",
    "papermill": {
     "duration": 0.040299,
     "end_time": "2022-07-22T08:32:03.250814",
     "exception": false,
     "start_time": "2022-07-22T08:32:03.210515",
     "status": "completed"
    },
    "tags": []
   },
   "outputs": [],
   "source": [
    "# print(\"Weight of the node at skip connection\")\n",
    "# for name,param in gen3.named_parameters():\n",
    "#     if(name == \"skipNode.weight\"):\n",
    "#         print(param)\n",
    "#         sb.glue(\"Skip Connection Weight\",param.item())"
   ]
  },
  {
   "cell_type": "markdown",
   "id": "74416733",
   "metadata": {
    "id": "a5bd74c3",
    "papermill": {
     "duration": 0.032067,
     "end_time": "2022-07-22T08:32:03.311095",
     "exception": false,
     "start_time": "2022-07-22T08:32:03.279028",
     "status": "completed"
    },
    "tags": []
   },
   "source": [
    "## skipGAN Model Analysis (TabNet Generator) "
   ]
  },
  {
   "cell_type": "markdown",
   "id": "a0a25156",
   "metadata": {
    "id": "5744a8bf",
    "papermill": {
     "duration": 0.028365,
     "end_time": "2022-07-22T08:32:03.364399",
     "exception": false,
     "start_time": "2022-07-22T08:32:03.336034",
     "status": "completed"
    },
    "tags": []
   },
   "source": [
    "### Weight Analysis \n",
    "\n",
    "Study the weights of the skip connection layer\n",
    "\n",
    "Equation of the skip connection is \n",
    "\n",
    "$output = y_{gan} * w + y_{abc} * (1-w)$"
   ]
  },
  {
   "cell_type": "code",
   "execution_count": 28,
   "id": "95ed146b",
   "metadata": {
    "execution": {
     "iopub.execute_input": "2022-07-22T08:32:03.420489Z",
     "iopub.status.busy": "2022-07-22T08:32:03.419794Z",
     "iopub.status.idle": "2022-07-22T08:32:03.433381Z",
     "shell.execute_reply": "2022-07-22T08:32:03.432414Z"
    },
    "id": "52c31dea",
    "papermill": {
     "duration": 0.04732,
     "end_time": "2022-07-22T08:32:03.438889",
     "exception": false,
     "start_time": "2022-07-22T08:32:03.391569",
     "status": "completed"
    },
    "tags": []
   },
   "outputs": [
    {
     "name": "stdout",
     "output_type": "stream",
     "text": [
      "Weight of the node at skip connection\n",
      "Parameter containing:\n",
      "tensor([[0.6598]], requires_grad=True)\n"
     ]
    },
    {
     "data": {
      "application/scrapbook.scrap.json+json": {
       "data": 0.6597686409950256,
       "encoder": "json",
       "name": "Skip Connection Weight",
       "version": 1
      }
     },
     "metadata": {
      "scrapbook": {
       "data": true,
       "display": false,
       "name": "Skip Connection Weight"
      }
     },
     "output_type": "display_data"
    }
   ],
   "source": [
    "print(\"Weight of the node at skip connection\")\n",
    "for name,param in gen4.named_parameters():\n",
    "    if(name == \"skipNode.weight\"):\n",
    "        print(param)\n",
    "        sb.glue(\"Skip Connection Weight\",param.item())"
   ]
  }
 ],
 "metadata": {
  "colab": {
   "collapsed_sections": [],
   "name": "ABC_GAN_Model-Catboost_Pre-gen.ipynb",
   "provenance": []
  },
  "interpreter": {
   "hash": "31f2aee4e71d21fbe5cf8b01ff0e069b9275f58929596ceb00d14d90e3e16cd6"
  },
  "kernelspec": {
   "display_name": "Python 3 (ipykernel)",
   "language": "python",
   "name": "python3"
  },
  "language_info": {
   "codemirror_mode": {
    "name": "ipython",
    "version": 3
   },
   "file_extension": ".py",
   "mimetype": "text/x-python",
   "name": "python",
   "nbconvert_exporter": "python",
   "pygments_lexer": "ipython3",
   "version": "3.8.13"
  },
  "papermill": {
   "default_parameters": {},
   "duration": 398.972648,
   "end_time": "2022-07-22T08:32:04.231044",
   "environment_variables": {},
   "exception": null,
   "input_path": "ABC_GAN-TabNet.ipynb",
   "output_path": "./ABC_GAN_TabNet/ABC-GAN_output_1_3.ipynb",
   "parameters": {
    "bias": 0.1,
    "variance": 1
   },
   "start_time": "2022-07-22T08:25:25.258396",
   "version": "2.3.3"
  }
 },
 "nbformat": 4,
 "nbformat_minor": 5
}