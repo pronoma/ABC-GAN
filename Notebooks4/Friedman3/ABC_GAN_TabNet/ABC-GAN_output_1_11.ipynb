{
 "cells": [
  {
   "cell_type": "markdown",
   "id": "622780e6",
   "metadata": {
    "id": "622780e6",
    "papermill": {
     "duration": 0.015366,
     "end_time": "2022-07-22T09:27:02.197311",
     "exception": false,
     "start_time": "2022-07-22T09:27:02.181945",
     "status": "completed"
    },
    "tags": []
   },
   "source": [
    "## Import Libraries "
   ]
  },
  {
   "cell_type": "code",
   "execution_count": 1,
   "id": "a62397e3",
   "metadata": {
    "execution": {
     "iopub.execute_input": "2022-07-22T09:27:02.221442Z",
     "iopub.status.busy": "2022-07-22T09:27:02.220856Z",
     "iopub.status.idle": "2022-07-22T09:27:02.234314Z",
     "shell.execute_reply": "2022-07-22T09:27:02.232736Z"
    },
    "id": "a62397e3",
    "papermill": {
     "duration": 0.028243,
     "end_time": "2022-07-22T09:27:02.237878",
     "exception": false,
     "start_time": "2022-07-22T09:27:02.209635",
     "status": "completed"
    },
    "tags": []
   },
   "outputs": [],
   "source": [
    "import warnings\n",
    "import sys\n",
    "sys.path.insert(0, '../../src')\n",
    "warnings.filterwarnings('ignore')"
   ]
  },
  {
   "cell_type": "code",
   "execution_count": 2,
   "id": "d6a4e155",
   "metadata": {
    "execution": {
     "iopub.execute_input": "2022-07-22T09:27:02.255044Z",
     "iopub.status.busy": "2022-07-22T09:27:02.254394Z",
     "iopub.status.idle": "2022-07-22T09:27:10.736416Z",
     "shell.execute_reply": "2022-07-22T09:27:10.735401Z"
    },
    "id": "d6a4e155",
    "papermill": {
     "duration": 8.495744,
     "end_time": "2022-07-22T09:27:10.741150",
     "exception": false,
     "start_time": "2022-07-22T09:27:02.245406",
     "status": "completed"
    },
    "tags": []
   },
   "outputs": [],
   "source": [
    "import ABC_train_test2\n",
    "import friedman3Dataset\n",
    "import network\n",
    "import dataset\n",
    "import sanityChecks\n",
    "import torch \n",
    "import scrapbook as sb\n",
    "from statistics import mean \n",
    "import catboost as ctb \n",
    "from sklearn.model_selection import train_test_split\n",
    "from sklearn.metrics import mean_squared_error,mean_absolute_error\n",
    "import numpy as np\n",
    "from pytorch_tabnet.tab_model import TabNetRegressor"
   ]
  },
  {
   "cell_type": "markdown",
   "id": "2fa5b0f7",
   "metadata": {
    "id": "2fa5b0f7",
    "papermill": {
     "duration": 0.007756,
     "end_time": "2022-07-22T09:27:10.756809",
     "exception": false,
     "start_time": "2022-07-22T09:27:10.749053",
     "status": "completed"
    },
    "tags": []
   },
   "source": [
    "## Parameters "
   ]
  },
  {
   "cell_type": "code",
   "execution_count": 3,
   "id": "783186fb",
   "metadata": {
    "execution": {
     "iopub.execute_input": "2022-07-22T09:27:10.774298Z",
     "iopub.status.busy": "2022-07-22T09:27:10.773946Z",
     "iopub.status.idle": "2022-07-22T09:27:10.778610Z",
     "shell.execute_reply": "2022-07-22T09:27:10.777337Z"
    },
    "id": "783186fb",
    "papermill": {
     "duration": 0.018023,
     "end_time": "2022-07-22T09:27:10.782688",
     "exception": false,
     "start_time": "2022-07-22T09:27:10.764665",
     "status": "completed"
    },
    "tags": [
     "parameters"
    ]
   },
   "outputs": [],
   "source": [
    "variance = 1\n",
    "bias = 1 "
   ]
  },
  {
   "cell_type": "code",
   "execution_count": 4,
   "id": "41f88e7a",
   "metadata": {
    "execution": {
     "iopub.execute_input": "2022-07-22T09:27:10.800736Z",
     "iopub.status.busy": "2022-07-22T09:27:10.800321Z",
     "iopub.status.idle": "2022-07-22T09:27:10.806448Z",
     "shell.execute_reply": "2022-07-22T09:27:10.804884Z"
    },
    "papermill": {
     "duration": 0.018348,
     "end_time": "2022-07-22T09:27:10.809145",
     "exception": false,
     "start_time": "2022-07-22T09:27:10.790797",
     "status": "completed"
    },
    "tags": [
     "injected-parameters"
    ]
   },
   "outputs": [],
   "source": [
    "# Parameters\n",
    "variance = 0.01\n",
    "bias = 0\n"
   ]
  },
  {
   "cell_type": "markdown",
   "id": "391cdbfd",
   "metadata": {
    "id": "391cdbfd",
    "papermill": {
     "duration": 0.008656,
     "end_time": "2022-07-22T09:27:10.825774",
     "exception": false,
     "start_time": "2022-07-22T09:27:10.817118",
     "status": "completed"
    },
    "tags": []
   },
   "source": [
    "## Dataset \n"
   ]
  },
  {
   "cell_type": "code",
   "execution_count": 5,
   "id": "5b51f161",
   "metadata": {
    "execution": {
     "iopub.execute_input": "2022-07-22T09:27:10.849252Z",
     "iopub.status.busy": "2022-07-22T09:27:10.848594Z",
     "iopub.status.idle": "2022-07-22T09:27:10.853974Z",
     "shell.execute_reply": "2022-07-22T09:27:10.852700Z"
    },
    "id": "5b51f161",
    "papermill": {
     "duration": 0.021366,
     "end_time": "2022-07-22T09:27:10.857512",
     "exception": false,
     "start_time": "2022-07-22T09:27:10.836146",
     "status": "completed"
    },
    "tags": []
   },
   "outputs": [],
   "source": [
    "#Parameters \n",
    "n_features = 4\n",
    "n_samples= 100\n",
    "n_target = 1"
   ]
  },
  {
   "cell_type": "code",
   "execution_count": 6,
   "id": "5d6eced4",
   "metadata": {
    "execution": {
     "iopub.execute_input": "2022-07-22T09:27:10.879250Z",
     "iopub.status.busy": "2022-07-22T09:27:10.878640Z",
     "iopub.status.idle": "2022-07-22T09:27:10.897286Z",
     "shell.execute_reply": "2022-07-22T09:27:10.896208Z"
    },
    "id": "5d6eced4",
    "papermill": {
     "duration": 0.032385,
     "end_time": "2022-07-22T09:27:10.900205",
     "exception": false,
     "start_time": "2022-07-22T09:27:10.867820",
     "status": "completed"
    },
    "tags": []
   },
   "outputs": [
    {
     "name": "stdout",
     "output_type": "stream",
     "text": [
      "          X1           X2        X3         X4         Y\n",
      "0  58.502111  1153.215572  0.795004  10.091584  1.510415\n",
      "1  19.196740   824.928770  0.697966   6.765799  1.531628\n",
      "2  38.386346  1520.396945  0.035014   8.649288  1.033132\n",
      "3  19.552945  1014.844270  0.635300   5.137314  1.505946\n",
      "4  11.904411   632.211890  0.787350   9.493684  1.601604\n"
     ]
    }
   ],
   "source": [
    "X,Y = friedman3Dataset.friedman3_data(n_samples)"
   ]
  },
  {
   "cell_type": "code",
   "execution_count": 7,
   "id": "fe007438",
   "metadata": {
    "execution": {
     "iopub.execute_input": "2022-07-22T09:27:10.921544Z",
     "iopub.status.busy": "2022-07-22T09:27:10.920980Z",
     "iopub.status.idle": "2022-07-22T09:27:10.928978Z",
     "shell.execute_reply": "2022-07-22T09:27:10.927886Z"
    },
    "id": "fe007438",
    "papermill": {
     "duration": 0.022563,
     "end_time": "2022-07-22T09:27:10.932942",
     "exception": false,
     "start_time": "2022-07-22T09:27:10.910379",
     "status": "completed"
    },
    "tags": []
   },
   "outputs": [],
   "source": [
    "#Train test split for dataset \n",
    "X_train,X_test,Y_train,Y_test = train_test_split(X,Y,test_size = 0.2)\n",
    "train_data = dataset.CustomDataset(X_train,Y_train)\n",
    "test_data = dataset.CustomDataset(X_test,Y_test)\n"
   ]
  },
  {
   "cell_type": "markdown",
   "id": "a9a1af34",
   "metadata": {
    "id": "a9a1af34",
    "papermill": {
     "duration": 0.008007,
     "end_time": "2022-07-22T09:27:10.950295",
     "exception": false,
     "start_time": "2022-07-22T09:27:10.942288",
     "status": "completed"
    },
    "tags": []
   },
   "source": [
    "## Training Parameters "
   ]
  },
  {
   "cell_type": "code",
   "execution_count": 8,
   "id": "952b7fc8",
   "metadata": {
    "execution": {
     "iopub.execute_input": "2022-07-22T09:27:10.971324Z",
     "iopub.status.busy": "2022-07-22T09:27:10.970959Z",
     "iopub.status.idle": "2022-07-22T09:27:10.977911Z",
     "shell.execute_reply": "2022-07-22T09:27:10.976518Z"
    },
    "id": "952b7fc8",
    "papermill": {
     "duration": 0.023339,
     "end_time": "2022-07-22T09:27:10.981947",
     "exception": false,
     "start_time": "2022-07-22T09:27:10.958608",
     "status": "completed"
    },
    "tags": []
   },
   "outputs": [],
   "source": [
    "batch_size = 32\n",
    "n_epochs = 1000\n",
    "#Select the device \n",
    "device = torch.device('cuda' if torch.cuda.is_available() else 'cpu')"
   ]
  },
  {
   "cell_type": "markdown",
   "id": "a95e1600",
   "metadata": {
    "id": "a95e1600",
    "papermill": {
     "duration": 0.007964,
     "end_time": "2022-07-22T09:27:10.998720",
     "exception": false,
     "start_time": "2022-07-22T09:27:10.990756",
     "status": "completed"
    },
    "tags": []
   },
   "source": [
    "# ABC Pre-generator Model \n",
    "\n",
    "1. The catboost model is used as a pre-generator model for the ABC-GAN. \n",
    "2. The model is first trained on the entire dataset \n",
    "3. It generats X,Y pairs and we add some Gaussian noise with mean 0 and variance 1 to it which is then feed as input to the generator.\n"
   ]
  },
  {
   "cell_type": "code",
   "execution_count": 9,
   "id": "ac011ebf",
   "metadata": {
    "execution": {
     "iopub.execute_input": "2022-07-22T09:27:11.016828Z",
     "iopub.status.busy": "2022-07-22T09:27:11.016448Z",
     "iopub.status.idle": "2022-07-22T09:27:48.735169Z",
     "shell.execute_reply": "2022-07-22T09:27:48.732461Z"
    },
    "papermill": {
     "duration": 37.731815,
     "end_time": "2022-07-22T09:27:48.738418",
     "exception": false,
     "start_time": "2022-07-22T09:27:11.006603",
     "status": "completed"
    },
    "tags": []
   },
   "outputs": [
    {
     "name": "stdout",
     "output_type": "stream",
     "text": [
      "Device used : cpu\n"
     ]
    },
    {
     "name": "stdout",
     "output_type": "stream",
     "text": [
      "epoch 0  | loss: 1.18254 | train_mse: 5.88428 | train_mae: 1.80037 |  0:00:00s\n",
      "epoch 1  | loss: 1.30926 | train_mse: 4.06402 | train_mae: 1.49375 |  0:00:00s\n",
      "epoch 2  | loss: 1.19319 | train_mse: 3.01475 | train_mae: 1.31967 |  0:00:00s\n"
     ]
    },
    {
     "name": "stdout",
     "output_type": "stream",
     "text": [
      "epoch 3  | loss: 1.27327 | train_mse: 2.55843 | train_mae: 1.25378 |  0:00:00s\n",
      "epoch 4  | loss: 0.89977 | train_mse: 2.04834 | train_mae: 1.11919 |  0:00:00s\n",
      "epoch 5  | loss: 1.0134  | train_mse: 1.92855 | train_mae: 1.09583 |  0:00:00s\n"
     ]
    },
    {
     "name": "stdout",
     "output_type": "stream",
     "text": [
      "epoch 6  | loss: 1.09702 | train_mse: 2.08056 | train_mae: 1.08575 |  0:00:00s\n",
      "epoch 7  | loss: 0.9214  | train_mse: 1.8301  | train_mae: 1.04032 |  0:00:00s\n",
      "epoch 8  | loss: 0.82483 | train_mse: 1.62839 | train_mae: 0.9816  |  0:00:01s\n"
     ]
    },
    {
     "name": "stdout",
     "output_type": "stream",
     "text": [
      "epoch 9  | loss: 0.89689 | train_mse: 1.46141 | train_mae: 0.92398 |  0:00:01s\n",
      "epoch 10 | loss: 0.83757 | train_mse: 1.32168 | train_mae: 0.87593 |  0:00:01s\n"
     ]
    },
    {
     "name": "stdout",
     "output_type": "stream",
     "text": [
      "epoch 11 | loss: 0.79275 | train_mse: 1.2479  | train_mae: 0.84522 |  0:00:01s\n",
      "epoch 12 | loss: 0.81482 | train_mse: 1.16843 | train_mae: 0.81511 |  0:00:01s\n"
     ]
    },
    {
     "name": "stdout",
     "output_type": "stream",
     "text": [
      "epoch 13 | loss: 0.69313 | train_mse: 1.14007 | train_mae: 0.80147 |  0:00:01s\n",
      "epoch 14 | loss: 0.73657 | train_mse: 1.04986 | train_mae: 0.76956 |  0:00:01s"
     ]
    },
    {
     "name": "stdout",
     "output_type": "stream",
     "text": [
      "\n",
      "epoch 15 | loss: 0.64429 | train_mse: 0.99568 | train_mae: 0.7473  |  0:00:01s\n",
      "epoch 16 | loss: 0.68614 | train_mse: 0.95628 | train_mae: 0.73321 |  0:00:02s\n"
     ]
    },
    {
     "name": "stdout",
     "output_type": "stream",
     "text": [
      "epoch 17 | loss: 0.52514 | train_mse: 0.90665 | train_mae: 0.71273 |  0:00:02s\n",
      "epoch 18 | loss: 0.55238 | train_mse: 0.86732 | train_mae: 0.69253 |  0:00:02s\n"
     ]
    },
    {
     "name": "stdout",
     "output_type": "stream",
     "text": [
      "epoch 19 | loss: 0.56929 | train_mse: 0.82599 | train_mae: 0.67481 |  0:00:02s\n",
      "epoch 20 | loss: 0.5372  | train_mse: 0.76073 | train_mae: 0.65235 |  0:00:02s\n",
      "epoch 21 | loss: 0.57639 | train_mse: 0.72474 | train_mae: 0.63779 |  0:00:02s\n"
     ]
    },
    {
     "name": "stdout",
     "output_type": "stream",
     "text": [
      "epoch 22 | loss: 0.62005 | train_mse: 0.68247 | train_mae: 0.61981 |  0:00:02s\n",
      "epoch 23 | loss: 0.58526 | train_mse: 0.6668  | train_mae: 0.60777 |  0:00:02s\n"
     ]
    },
    {
     "name": "stdout",
     "output_type": "stream",
     "text": [
      "epoch 24 | loss: 0.42906 | train_mse: 0.68836 | train_mae: 0.60432 |  0:00:02s\n",
      "epoch 25 | loss: 0.47153 | train_mse: 0.60799 | train_mae: 0.58775 |  0:00:02s\n"
     ]
    },
    {
     "name": "stdout",
     "output_type": "stream",
     "text": [
      "epoch 26 | loss: 0.35307 | train_mse: 0.53171 | train_mae: 0.56862 |  0:00:03s\n",
      "epoch 27 | loss: 0.38105 | train_mse: 0.49064 | train_mae: 0.55632 |  0:00:03s\n"
     ]
    },
    {
     "name": "stdout",
     "output_type": "stream",
     "text": [
      "epoch 28 | loss: 0.48063 | train_mse: 0.46477 | train_mae: 0.5436  |  0:00:03s\n",
      "epoch 29 | loss: 0.45728 | train_mse: 0.44862 | train_mae: 0.53318 |  0:00:03s\n"
     ]
    },
    {
     "name": "stdout",
     "output_type": "stream",
     "text": [
      "epoch 30 | loss: 0.38249 | train_mse: 0.43347 | train_mae: 0.52417 |  0:00:03s\n",
      "epoch 31 | loss: 0.45114 | train_mse: 0.40635 | train_mae: 0.51026 |  0:00:03s\n",
      "epoch 32 | loss: 0.42516 | train_mse: 0.37744 | train_mae: 0.49209 |  0:00:03s\n"
     ]
    },
    {
     "name": "stdout",
     "output_type": "stream",
     "text": [
      "epoch 33 | loss: 0.54894 | train_mse: 0.35248 | train_mae: 0.47358 |  0:00:03s\n",
      "epoch 34 | loss: 0.44252 | train_mse: 0.33506 | train_mae: 0.4617  |  0:00:03s\n",
      "epoch 35 | loss: 0.36    | train_mse: 0.32715 | train_mae: 0.45497 |  0:00:03s\n"
     ]
    },
    {
     "name": "stdout",
     "output_type": "stream",
     "text": [
      "epoch 36 | loss: 0.27264 | train_mse: 0.31791 | train_mae: 0.44803 |  0:00:04s\n",
      "epoch 37 | loss: 0.46165 | train_mse: 0.31309 | train_mae: 0.4451  |  0:00:04s\n"
     ]
    },
    {
     "name": "stdout",
     "output_type": "stream",
     "text": [
      "epoch 38 | loss: 0.39204 | train_mse: 0.30214 | train_mae: 0.43432 |  0:00:04s\n",
      "epoch 39 | loss: 0.37782 | train_mse: 0.29511 | train_mae: 0.4305  |  0:00:04s\n",
      "epoch 40 | loss: 0.28983 | train_mse: 0.29152 | train_mae: 0.42851 |  0:00:04s\n"
     ]
    },
    {
     "name": "stdout",
     "output_type": "stream",
     "text": [
      "epoch 41 | loss: 0.44782 | train_mse: 0.29186 | train_mae: 0.42538 |  0:00:04s\n",
      "epoch 42 | loss: 0.59786 | train_mse: 0.30024 | train_mae: 0.42441 |  0:00:04s\n",
      "epoch 43 | loss: 0.41413 | train_mse: 0.28809 | train_mae: 0.4201  |  0:00:04s\n"
     ]
    },
    {
     "name": "stdout",
     "output_type": "stream",
     "text": [
      "epoch 44 | loss: 0.3903  | train_mse: 0.29507 | train_mae: 0.42317 |  0:00:04s\n",
      "epoch 45 | loss: 0.35161 | train_mse: 0.30786 | train_mae: 0.42722 |  0:00:04s\n",
      "epoch 46 | loss: 0.48561 | train_mse: 0.31125 | train_mae: 0.42752 |  0:00:05s\n"
     ]
    },
    {
     "name": "stdout",
     "output_type": "stream",
     "text": [
      "epoch 47 | loss: 0.35114 | train_mse: 0.30701 | train_mae: 0.42358 |  0:00:05s\n",
      "epoch 48 | loss: 0.33256 | train_mse: 0.29053 | train_mae: 0.41218 |  0:00:05s\n"
     ]
    },
    {
     "name": "stdout",
     "output_type": "stream",
     "text": [
      "epoch 49 | loss: 0.35919 | train_mse: 0.28891 | train_mae: 0.41004 |  0:00:05s\n",
      "epoch 50 | loss: 0.25034 | train_mse: 0.28222 | train_mae: 0.40641 |  0:00:05s\n",
      "epoch 51 | loss: 0.36681 | train_mse: 0.2797  | train_mae: 0.40401 |  0:00:05s\n"
     ]
    },
    {
     "name": "stdout",
     "output_type": "stream",
     "text": [
      "epoch 52 | loss: 0.2387  | train_mse: 0.27601 | train_mae: 0.40163 |  0:00:05s\n",
      "epoch 53 | loss: 0.2638  | train_mse: 0.27089 | train_mae: 0.3977  |  0:00:05s\n",
      "epoch 54 | loss: 0.41216 | train_mse: 0.25383 | train_mae: 0.38777 |  0:00:05s\n"
     ]
    },
    {
     "name": "stdout",
     "output_type": "stream",
     "text": [
      "epoch 55 | loss: 0.38756 | train_mse: 0.22203 | train_mae: 0.36797 |  0:00:05s\n",
      "epoch 56 | loss: 0.26443 | train_mse: 0.21439 | train_mae: 0.36015 |  0:00:06s\n",
      "epoch 57 | loss: 0.37037 | train_mse: 0.21585 | train_mae: 0.36036 |  0:00:06s\n"
     ]
    },
    {
     "name": "stdout",
     "output_type": "stream",
     "text": [
      "epoch 58 | loss: 0.23632 | train_mse: 0.21709 | train_mae: 0.35925 |  0:00:06s\n",
      "epoch 59 | loss: 0.35749 | train_mse: 0.21818 | train_mae: 0.35723 |  0:00:06s\n"
     ]
    },
    {
     "name": "stdout",
     "output_type": "stream",
     "text": [
      "epoch 60 | loss: 0.23285 | train_mse: 0.20891 | train_mae: 0.34784 |  0:00:06s\n",
      "epoch 61 | loss: 0.33496 | train_mse: 0.19837 | train_mae: 0.33836 |  0:00:06s\n",
      "epoch 62 | loss: 0.2315  | train_mse: 0.19036 | train_mae: 0.33299 |  0:00:06s\n"
     ]
    },
    {
     "name": "stdout",
     "output_type": "stream",
     "text": [
      "epoch 63 | loss: 0.31436 | train_mse: 0.19439 | train_mae: 0.33768 |  0:00:06s\n",
      "epoch 64 | loss: 0.28876 | train_mse: 0.20006 | train_mae: 0.34152 |  0:00:06s\n",
      "epoch 65 | loss: 0.3208  | train_mse: 0.19958 | train_mae: 0.3422  |  0:00:06s\n"
     ]
    },
    {
     "name": "stdout",
     "output_type": "stream",
     "text": [
      "epoch 66 | loss: 0.2377  | train_mse: 0.20375 | train_mae: 0.34459 |  0:00:06s\n",
      "epoch 67 | loss: 0.23422 | train_mse: 0.20826 | train_mae: 0.34487 |  0:00:07s\n",
      "epoch 68 | loss: 0.25514 | train_mse: 0.20656 | train_mae: 0.34191 |  0:00:07s\n"
     ]
    },
    {
     "name": "stdout",
     "output_type": "stream",
     "text": [
      "epoch 69 | loss: 0.21984 | train_mse: 0.20507 | train_mae: 0.3421  |  0:00:07s\n",
      "epoch 70 | loss: 0.1851  | train_mse: 0.20458 | train_mae: 0.34169 |  0:00:07s\n",
      "epoch 71 | loss: 0.39803 | train_mse: 0.20438 | train_mae: 0.3407  |  0:00:07s\n"
     ]
    },
    {
     "name": "stdout",
     "output_type": "stream",
     "text": [
      "epoch 72 | loss: 0.21312 | train_mse: 0.19733 | train_mae: 0.33502 |  0:00:07s\n",
      "epoch 73 | loss: 0.3011  | train_mse: 0.19745 | train_mae: 0.3363  |  0:00:07s\n",
      "epoch 74 | loss: 0.19817 | train_mse: 0.19551 | train_mae: 0.33191 |  0:00:07s\n"
     ]
    },
    {
     "name": "stdout",
     "output_type": "stream",
     "text": [
      "epoch 75 | loss: 0.34531 | train_mse: 0.18964 | train_mae: 0.32782 |  0:00:07s\n",
      "epoch 76 | loss: 0.24017 | train_mse: 0.18962 | train_mae: 0.33014 |  0:00:07s\n",
      "epoch 77 | loss: 0.36146 | train_mse: 0.18759 | train_mae: 0.32661 |  0:00:07s\n"
     ]
    },
    {
     "name": "stdout",
     "output_type": "stream",
     "text": [
      "epoch 78 | loss: 0.24604 | train_mse: 0.18432 | train_mae: 0.32621 |  0:00:08s\n",
      "epoch 79 | loss: 0.26095 | train_mse: 0.17952 | train_mae: 0.3207  |  0:00:08s\n",
      "epoch 80 | loss: 0.22594 | train_mse: 0.17536 | train_mae: 0.3167  |  0:00:08s\n"
     ]
    },
    {
     "name": "stdout",
     "output_type": "stream",
     "text": [
      "epoch 81 | loss: 0.30145 | train_mse: 0.1697  | train_mae: 0.3112  |  0:00:08s\n",
      "epoch 82 | loss: 0.27501 | train_mse: 0.16673 | train_mae: 0.31015 |  0:00:08s\n"
     ]
    },
    {
     "name": "stdout",
     "output_type": "stream",
     "text": [
      "epoch 83 | loss: 0.23923 | train_mse: 0.16354 | train_mae: 0.30587 |  0:00:08s\n",
      "epoch 84 | loss: 0.34258 | train_mse: 0.16163 | train_mae: 0.30347 |  0:00:08s\n",
      "epoch 85 | loss: 0.2954  | train_mse: 0.16747 | train_mae: 0.30583 |  0:00:08s\n"
     ]
    },
    {
     "name": "stdout",
     "output_type": "stream",
     "text": [
      "epoch 86 | loss: 0.33044 | train_mse: 0.17301 | train_mae: 0.30951 |  0:00:08s\n",
      "epoch 87 | loss: 0.16534 | train_mse: 0.17332 | train_mae: 0.30936 |  0:00:08s\n",
      "epoch 88 | loss: 0.24032 | train_mse: 0.16685 | train_mae: 0.30475 |  0:00:08s\n"
     ]
    },
    {
     "name": "stdout",
     "output_type": "stream",
     "text": [
      "epoch 89 | loss: 0.21353 | train_mse: 0.15507 | train_mae: 0.29711 |  0:00:09s\n",
      "epoch 90 | loss: 0.14366 | train_mse: 0.13533 | train_mae: 0.2831  |  0:00:09s\n"
     ]
    },
    {
     "name": "stdout",
     "output_type": "stream",
     "text": [
      "epoch 91 | loss: 0.32804 | train_mse: 0.13577 | train_mae: 0.28366 |  0:00:09s\n",
      "epoch 92 | loss: 0.26107 | train_mse: 0.13421 | train_mae: 0.28058 |  0:00:09s\n",
      "epoch 93 | loss: 0.15206 | train_mse: 0.1495  | train_mae: 0.29711 |  0:00:09s\n"
     ]
    },
    {
     "name": "stdout",
     "output_type": "stream",
     "text": [
      "epoch 94 | loss: 0.23399 | train_mse: 0.1519  | train_mae: 0.29961 |  0:00:09s\n",
      "epoch 95 | loss: 0.20924 | train_mse: 0.15775 | train_mae: 0.30326 |  0:00:09s\n",
      "epoch 96 | loss: 0.2259  | train_mse: 0.15973 | train_mae: 0.30386 |  0:00:09s\n"
     ]
    },
    {
     "name": "stdout",
     "output_type": "stream",
     "text": [
      "epoch 97 | loss: 0.29389 | train_mse: 0.16936 | train_mae: 0.30839 |  0:00:09s\n",
      "epoch 98 | loss: 0.31622 | train_mse: 0.185   | train_mae: 0.31415 |  0:00:09s\n",
      "epoch 99 | loss: 0.26979 | train_mse: 0.18539 | train_mae: 0.31424 |  0:00:10s\n"
     ]
    },
    {
     "name": "stdout",
     "output_type": "stream",
     "text": [
      "epoch 100| loss: 0.19402 | train_mse: 0.18285 | train_mae: 0.31264 |  0:00:10s\n",
      "epoch 101| loss: 0.3117  | train_mse: 0.18763 | train_mae: 0.31551 |  0:00:10s\n"
     ]
    },
    {
     "name": "stdout",
     "output_type": "stream",
     "text": [
      "epoch 102| loss: 0.15929 | train_mse: 0.18261 | train_mae: 0.31274 |  0:00:10s\n",
      "epoch 103| loss: 0.26624 | train_mse: 0.17714 | train_mae: 0.31182 |  0:00:10s\n",
      "epoch 104| loss: 0.22204 | train_mse: 0.17439 | train_mae: 0.31125 |  0:00:10s\n"
     ]
    },
    {
     "name": "stdout",
     "output_type": "stream",
     "text": [
      "epoch 105| loss: 0.20672 | train_mse: 0.17369 | train_mae: 0.31078 |  0:00:10s\n",
      "epoch 106| loss: 0.39701 | train_mse: 0.16488 | train_mae: 0.3064  |  0:00:10s\n",
      "epoch 107| loss: 0.48627 | train_mse: 0.1653  | train_mae: 0.30744 |  0:00:10s\n"
     ]
    },
    {
     "name": "stdout",
     "output_type": "stream",
     "text": [
      "epoch 108| loss: 0.28634 | train_mse: 0.15833 | train_mae: 0.29976 |  0:00:10s\n",
      "epoch 109| loss: 0.26447 | train_mse: 0.16002 | train_mae: 0.30107 |  0:00:10s\n",
      "epoch 110| loss: 0.23489 | train_mse: 0.15831 | train_mae: 0.30179 |  0:00:11s\n"
     ]
    },
    {
     "name": "stdout",
     "output_type": "stream",
     "text": [
      "epoch 111| loss: 0.28851 | train_mse: 0.15381 | train_mae: 0.29592 |  0:00:11s\n",
      "epoch 112| loss: 0.15154 | train_mse: 0.1458  | train_mae: 0.28846 |  0:00:11s\n",
      "epoch 113| loss: 0.27739 | train_mse: 0.13689 | train_mae: 0.28293 |  0:00:11s\n"
     ]
    },
    {
     "name": "stdout",
     "output_type": "stream",
     "text": [
      "epoch 114| loss: 0.44629 | train_mse: 0.12091 | train_mae: 0.2704  |  0:00:11s\n",
      "epoch 115| loss: 0.28575 | train_mse: 0.11086 | train_mae: 0.25653 |  0:00:11s\n",
      "epoch 116| loss: 0.42145 | train_mse: 0.10684 | train_mae: 0.25317 |  0:00:11s\n"
     ]
    },
    {
     "name": "stdout",
     "output_type": "stream",
     "text": [
      "epoch 117| loss: 0.19052 | train_mse: 0.10771 | train_mae: 0.25085 |  0:00:11s\n",
      "epoch 118| loss: 0.15922 | train_mse: 0.10896 | train_mae: 0.25011 |  0:00:11s\n",
      "epoch 119| loss: 0.30214 | train_mse: 0.10959 | train_mae: 0.24835 |  0:00:11s\n"
     ]
    },
    {
     "name": "stdout",
     "output_type": "stream",
     "text": [
      "epoch 120| loss: 0.22527 | train_mse: 0.10929 | train_mae: 0.24831 |  0:00:11s\n",
      "epoch 121| loss: 0.2912  | train_mse: 0.11018 | train_mae: 0.24976 |  0:00:12s\n",
      "epoch 122| loss: 0.38144 | train_mse: 0.12305 | train_mae: 0.26218 |  0:00:12s\n"
     ]
    },
    {
     "name": "stdout",
     "output_type": "stream",
     "text": [
      "epoch 123| loss: 0.37705 | train_mse: 0.14235 | train_mae: 0.27604 |  0:00:12s\n",
      "epoch 124| loss: 0.21537 | train_mse: 0.21188 | train_mae: 0.30108 |  0:00:12s\n",
      "epoch 125| loss: 0.20996 | train_mse: 0.1794  | train_mae: 0.2899  |  0:00:12s\n"
     ]
    },
    {
     "name": "stdout",
     "output_type": "stream",
     "text": [
      "epoch 126| loss: 0.27543 | train_mse: 0.15457 | train_mae: 0.27996 |  0:00:12s\n",
      "epoch 127| loss: 0.32046 | train_mse: 0.14952 | train_mae: 0.27756 |  0:00:12s\n",
      "epoch 128| loss: 0.20705 | train_mse: 0.14172 | train_mae: 0.27365 |  0:00:12s\n"
     ]
    },
    {
     "name": "stdout",
     "output_type": "stream",
     "text": [
      "epoch 129| loss: 0.28978 | train_mse: 0.14601 | train_mae: 0.27363 |  0:00:12s\n",
      "epoch 130| loss: 0.20717 | train_mse: 0.16546 | train_mae: 0.27994 |  0:00:12s\n",
      "epoch 131| loss: 0.21831 | train_mse: 0.17808 | train_mae: 0.28306 |  0:00:12s\n"
     ]
    },
    {
     "name": "stdout",
     "output_type": "stream",
     "text": [
      "epoch 132| loss: 0.22495 | train_mse: 0.18353 | train_mae: 0.2811  |  0:00:13s\n",
      "epoch 133| loss: 0.12372 | train_mse: 0.17582 | train_mae: 0.27772 |  0:00:13s\n",
      "epoch 134| loss: 0.22783 | train_mse: 0.14442 | train_mae: 0.26528 |  0:00:13s\n"
     ]
    },
    {
     "name": "stdout",
     "output_type": "stream",
     "text": [
      "epoch 135| loss: 0.12173 | train_mse: 0.13388 | train_mae: 0.25928 |  0:00:13s\n",
      "epoch 136| loss: 0.48111 | train_mse: 0.13258 | train_mae: 0.25775 |  0:00:13s\n",
      "epoch 137| loss: 0.18101 | train_mse: 0.13037 | train_mae: 0.25537 |  0:00:13s\n"
     ]
    },
    {
     "name": "stdout",
     "output_type": "stream",
     "text": [
      "epoch 138| loss: 0.15159 | train_mse: 0.13014 | train_mae: 0.25376 |  0:00:13s\n",
      "epoch 139| loss: 0.30706 | train_mse: 0.11835 | train_mae: 0.24605 |  0:00:13s\n",
      "epoch 140| loss: 0.13551 | train_mse: 0.10916 | train_mae: 0.24073 |  0:00:13s\n"
     ]
    },
    {
     "name": "stdout",
     "output_type": "stream",
     "text": [
      "epoch 141| loss: 0.1889  | train_mse: 0.11694 | train_mae: 0.24788 |  0:00:13s\n",
      "epoch 142| loss: 0.18892 | train_mse: 0.12831 | train_mae: 0.25978 |  0:00:13s\n",
      "epoch 143| loss: 0.14795 | train_mse: 0.12886 | train_mae: 0.26185 |  0:00:13s\n"
     ]
    },
    {
     "name": "stdout",
     "output_type": "stream",
     "text": [
      "epoch 144| loss: 0.16676 | train_mse: 0.1303  | train_mae: 0.26473 |  0:00:14s\n",
      "epoch 145| loss: 0.23521 | train_mse: 0.1281  | train_mae: 0.26355 |  0:00:14s\n",
      "epoch 146| loss: 0.25757 | train_mse: 0.12441 | train_mae: 0.2607  |  0:00:14s\n"
     ]
    },
    {
     "name": "stdout",
     "output_type": "stream",
     "text": [
      "epoch 147| loss: 0.21648 | train_mse: 0.12526 | train_mae: 0.26152 |  0:00:14s\n",
      "epoch 148| loss: 0.21736 | train_mse: 0.11789 | train_mae: 0.25749 |  0:00:14s\n",
      "epoch 149| loss: 0.19787 | train_mse: 0.11635 | train_mae: 0.25733 |  0:00:14s\n"
     ]
    },
    {
     "name": "stdout",
     "output_type": "stream",
     "text": [
      "epoch 150| loss: 0.16635 | train_mse: 0.11934 | train_mae: 0.2589  |  0:00:14s\n",
      "epoch 151| loss: 0.13082 | train_mse: 0.1222  | train_mae: 0.26047 |  0:00:14s\n",
      "epoch 152| loss: 0.28647 | train_mse: 0.11463 | train_mae: 0.25249 |  0:00:14s\n"
     ]
    },
    {
     "name": "stdout",
     "output_type": "stream",
     "text": [
      "epoch 153| loss: 0.37538 | train_mse: 0.10708 | train_mae: 0.24406 |  0:00:14s\n",
      "epoch 154| loss: 0.21745 | train_mse: 0.10594 | train_mae: 0.24001 |  0:00:14s\n",
      "epoch 155| loss: 0.22363 | train_mse: 0.11029 | train_mae: 0.24131 |  0:00:15s\n"
     ]
    },
    {
     "name": "stdout",
     "output_type": "stream",
     "text": [
      "epoch 156| loss: 0.13644 | train_mse: 0.11169 | train_mae: 0.24453 |  0:00:15s\n",
      "epoch 157| loss: 0.12614 | train_mse: 0.11049 | train_mae: 0.2437  |  0:00:15s\n",
      "epoch 158| loss: 0.09443 | train_mse: 0.10547 | train_mae: 0.24226 |  0:00:15s\n"
     ]
    },
    {
     "name": "stdout",
     "output_type": "stream",
     "text": [
      "epoch 159| loss: 0.20372 | train_mse: 0.09987 | train_mae: 0.23878 |  0:00:15s\n",
      "epoch 160| loss: 0.13738 | train_mse: 0.09646 | train_mae: 0.23462 |  0:00:15s\n",
      "epoch 161| loss: 0.20583 | train_mse: 0.08916 | train_mae: 0.22655 |  0:00:15s\n"
     ]
    },
    {
     "name": "stdout",
     "output_type": "stream",
     "text": [
      "epoch 162| loss: 0.11418 | train_mse: 0.08482 | train_mae: 0.22235 |  0:00:15s\n",
      "epoch 163| loss: 0.1101  | train_mse: 0.08407 | train_mae: 0.22002 |  0:00:15s\n",
      "epoch 164| loss: 0.12223 | train_mse: 0.07932 | train_mae: 0.2131  |  0:00:15s\n"
     ]
    },
    {
     "name": "stdout",
     "output_type": "stream",
     "text": [
      "epoch 165| loss: 0.09217 | train_mse: 0.07624 | train_mae: 0.20854 |  0:00:15s\n",
      "epoch 166| loss: 0.33852 | train_mse: 0.07389 | train_mae: 0.20687 |  0:00:16s\n",
      "epoch 167| loss: 0.17671 | train_mse: 0.07141 | train_mae: 0.20558 |  0:00:16s\n"
     ]
    },
    {
     "name": "stdout",
     "output_type": "stream",
     "text": [
      "epoch 168| loss: 0.16016 | train_mse: 0.07434 | train_mae: 0.20903 |  0:00:16s\n",
      "epoch 169| loss: 0.13099 | train_mse: 0.07716 | train_mae: 0.21139 |  0:00:16s\n",
      "epoch 170| loss: 0.16383 | train_mse: 0.08003 | train_mae: 0.21065 |  0:00:16s\n"
     ]
    },
    {
     "name": "stdout",
     "output_type": "stream",
     "text": [
      "epoch 171| loss: 0.10187 | train_mse: 0.08264 | train_mae: 0.21009 |  0:00:16s\n",
      "epoch 172| loss: 0.0836  | train_mse: 0.08633 | train_mae: 0.21241 |  0:00:16s\n",
      "epoch 173| loss: 0.167   | train_mse: 0.08418 | train_mae: 0.21191 |  0:00:16s\n"
     ]
    },
    {
     "name": "stdout",
     "output_type": "stream",
     "text": [
      "epoch 174| loss: 0.15985 | train_mse: 0.09049 | train_mae: 0.21591 |  0:00:16s\n",
      "epoch 175| loss: 0.14917 | train_mse: 0.09449 | train_mae: 0.21891 |  0:00:16s\n",
      "epoch 176| loss: 0.10454 | train_mse: 0.09628 | train_mae: 0.21905 |  0:00:16s\n"
     ]
    },
    {
     "name": "stdout",
     "output_type": "stream",
     "text": [
      "epoch 177| loss: 0.36255 | train_mse: 0.09585 | train_mae: 0.21922 |  0:00:17s\n",
      "epoch 178| loss: 0.15382 | train_mse: 0.09378 | train_mae: 0.21823 |  0:00:17s\n",
      "epoch 179| loss: 0.10905 | train_mse: 0.0957  | train_mae: 0.21977 |  0:00:17s\n"
     ]
    },
    {
     "name": "stdout",
     "output_type": "stream",
     "text": [
      "epoch 180| loss: 0.30255 | train_mse: 0.097   | train_mae: 0.22155 |  0:00:17s\n",
      "epoch 181| loss: 0.0954  | train_mse: 0.09681 | train_mae: 0.22074 |  0:00:17s\n",
      "epoch 182| loss: 0.09836 | train_mse: 0.09415 | train_mae: 0.21818 |  0:00:17s\n"
     ]
    },
    {
     "name": "stdout",
     "output_type": "stream",
     "text": [
      "epoch 183| loss: 0.16501 | train_mse: 0.08859 | train_mae: 0.21304 |  0:00:17s\n",
      "epoch 184| loss: 0.10963 | train_mse: 0.08474 | train_mae: 0.20916 |  0:00:17s\n",
      "epoch 185| loss: 0.12352 | train_mse: 0.08166 | train_mae: 0.20616 |  0:00:17s\n"
     ]
    },
    {
     "name": "stdout",
     "output_type": "stream",
     "text": [
      "epoch 186| loss: 0.10069 | train_mse: 0.08179 | train_mae: 0.20582 |  0:00:17s\n",
      "epoch 187| loss: 0.19122 | train_mse: 0.08466 | train_mae: 0.20741 |  0:00:17s\n",
      "epoch 188| loss: 0.14623 | train_mse: 0.0858  | train_mae: 0.20849 |  0:00:18s\n"
     ]
    },
    {
     "name": "stdout",
     "output_type": "stream",
     "text": [
      "epoch 189| loss: 0.19329 | train_mse: 0.08323 | train_mae: 0.20947 |  0:00:18s\n",
      "epoch 190| loss: 0.17849 | train_mse: 0.08126 | train_mae: 0.20861 |  0:00:18s\n"
     ]
    },
    {
     "name": "stdout",
     "output_type": "stream",
     "text": [
      "epoch 191| loss: 0.15083 | train_mse: 0.08206 | train_mae: 0.20984 |  0:00:18s\n",
      "epoch 192| loss: 0.10625 | train_mse: 0.08269 | train_mae: 0.20858 |  0:00:18s\n",
      "epoch 193| loss: 0.15715 | train_mse: 0.08352 | train_mae: 0.2079  |  0:00:18s\n"
     ]
    },
    {
     "name": "stdout",
     "output_type": "stream",
     "text": [
      "epoch 194| loss: 0.28565 | train_mse: 0.08635 | train_mae: 0.20915 |  0:00:18s\n",
      "epoch 195| loss: 0.14293 | train_mse: 0.08221 | train_mae: 0.20581 |  0:00:18s\n",
      "epoch 196| loss: 0.08734 | train_mse: 0.07958 | train_mae: 0.20381 |  0:00:18s\n"
     ]
    },
    {
     "name": "stdout",
     "output_type": "stream",
     "text": [
      "epoch 197| loss: 0.29803 | train_mse: 0.07363 | train_mae: 0.19965 |  0:00:18s\n",
      "epoch 198| loss: 0.11359 | train_mse: 0.06869 | train_mae: 0.1959  |  0:00:18s\n",
      "epoch 199| loss: 0.27706 | train_mse: 0.06539 | train_mae: 0.19386 |  0:00:19s\n"
     ]
    },
    {
     "name": "stdout",
     "output_type": "stream",
     "text": [
      "epoch 200| loss: 0.11618 | train_mse: 0.06387 | train_mae: 0.19193 |  0:00:19s\n",
      "epoch 201| loss: 0.1587  | train_mse: 0.06324 | train_mae: 0.1906  |  0:00:19s\n"
     ]
    },
    {
     "name": "stdout",
     "output_type": "stream",
     "text": [
      "epoch 202| loss: 0.15258 | train_mse: 0.06199 | train_mae: 0.18898 |  0:00:19s\n",
      "epoch 203| loss: 0.33718 | train_mse: 0.05932 | train_mae: 0.18547 |  0:00:19s\n",
      "epoch 204| loss: 0.24077 | train_mse: 0.05785 | train_mae: 0.18287 |  0:00:19s\n"
     ]
    },
    {
     "name": "stdout",
     "output_type": "stream",
     "text": [
      "epoch 205| loss: 0.11926 | train_mse: 0.05699 | train_mae: 0.18196 |  0:00:19s\n",
      "epoch 206| loss: 0.0939  | train_mse: 0.05578 | train_mae: 0.1818  |  0:00:19s\n",
      "epoch 207| loss: 0.18404 | train_mse: 0.05518 | train_mae: 0.18116 |  0:00:19s\n"
     ]
    },
    {
     "name": "stdout",
     "output_type": "stream",
     "text": [
      "epoch 208| loss: 0.16955 | train_mse: 0.0553  | train_mae: 0.18311 |  0:00:19s\n",
      "epoch 209| loss: 0.07553 | train_mse: 0.05228 | train_mae: 0.17881 |  0:00:20s\n",
      "epoch 210| loss: 0.0855  | train_mse: 0.05237 | train_mae: 0.17759 |  0:00:20s\n"
     ]
    },
    {
     "name": "stdout",
     "output_type": "stream",
     "text": [
      "epoch 211| loss: 0.16996 | train_mse: 0.05333 | train_mae: 0.17934 |  0:00:20s\n",
      "epoch 212| loss: 0.15752 | train_mse: 0.05345 | train_mae: 0.1787  |  0:00:20s\n",
      "epoch 213| loss: 0.12124 | train_mse: 0.05173 | train_mae: 0.17382 |  0:00:20s"
     ]
    },
    {
     "name": "stdout",
     "output_type": "stream",
     "text": [
      "\n",
      "epoch 214| loss: 0.10815 | train_mse: 0.05216 | train_mae: 0.1734  |  0:00:20s\n",
      "epoch 215| loss: 0.07466 | train_mse: 0.05164 | train_mae: 0.17355 |  0:00:20s\n"
     ]
    },
    {
     "name": "stdout",
     "output_type": "stream",
     "text": [
      "epoch 216| loss: 0.16457 | train_mse: 0.05129 | train_mae: 0.17276 |  0:00:20s\n",
      "epoch 217| loss: 0.1353  | train_mse: 0.05207 | train_mae: 0.17281 |  0:00:20s\n",
      "epoch 218| loss: 0.13404 | train_mse: 0.05368 | train_mae: 0.17631 |  0:00:20s\n"
     ]
    },
    {
     "name": "stdout",
     "output_type": "stream",
     "text": [
      "epoch 219| loss: 0.13381 | train_mse: 0.0532  | train_mae: 0.17518 |  0:00:20s\n",
      "epoch 220| loss: 0.10354 | train_mse: 0.05468 | train_mae: 0.17673 |  0:00:21s\n",
      "epoch 221| loss: 0.05961 | train_mse: 0.05487 | train_mae: 0.17639 |  0:00:21s\n"
     ]
    },
    {
     "name": "stdout",
     "output_type": "stream",
     "text": [
      "epoch 222| loss: 0.15012 | train_mse: 0.05457 | train_mae: 0.17368 |  0:00:21s\n",
      "epoch 223| loss: 0.07899 | train_mse: 0.0535  | train_mae: 0.17237 |  0:00:21s\n",
      "epoch 224| loss: 0.07806 | train_mse: 0.05342 | train_mae: 0.17288 |  0:00:21s\n"
     ]
    },
    {
     "name": "stdout",
     "output_type": "stream",
     "text": [
      "epoch 225| loss: 0.10859 | train_mse: 0.05327 | train_mae: 0.17389 |  0:00:21s\n",
      "epoch 226| loss: 0.10964 | train_mse: 0.05222 | train_mae: 0.17237 |  0:00:21s\n",
      "epoch 227| loss: 0.38812 | train_mse: 0.05427 | train_mae: 0.17543 |  0:00:21s\n"
     ]
    },
    {
     "name": "stdout",
     "output_type": "stream",
     "text": [
      "epoch 228| loss: 0.15894 | train_mse: 0.05445 | train_mae: 0.17669 |  0:00:21s\n",
      "epoch 229| loss: 0.1205  | train_mse: 0.05709 | train_mae: 0.18174 |  0:00:21s\n",
      "epoch 230| loss: 0.13728 | train_mse: 0.05919 | train_mae: 0.18487 |  0:00:22s\n"
     ]
    },
    {
     "name": "stdout",
     "output_type": "stream",
     "text": [
      "epoch 231| loss: 0.20982 | train_mse: 0.06099 | train_mae: 0.1868  |  0:00:22s\n",
      "epoch 232| loss: 0.1091  | train_mse: 0.0613  | train_mae: 0.18574 |  0:00:22s\n",
      "epoch 233| loss: 0.14579 | train_mse: 0.06142 | train_mae: 0.18467 |  0:00:22s\n"
     ]
    },
    {
     "name": "stdout",
     "output_type": "stream",
     "text": [
      "epoch 234| loss: 0.14761 | train_mse: 0.05873 | train_mae: 0.18128 |  0:00:22s\n",
      "epoch 235| loss: 0.07529 | train_mse: 0.05731 | train_mae: 0.18112 |  0:00:22s\n",
      "epoch 236| loss: 0.09447 | train_mse: 0.05667 | train_mae: 0.18111 |  0:00:22s\n"
     ]
    },
    {
     "name": "stdout",
     "output_type": "stream",
     "text": [
      "epoch 237| loss: 0.12097 | train_mse: 0.05723 | train_mae: 0.18092 |  0:00:22s\n",
      "epoch 238| loss: 0.17337 | train_mse: 0.05849 | train_mae: 0.1822  |  0:00:22s\n",
      "epoch 239| loss: 0.17587 | train_mse: 0.05729 | train_mae: 0.18103 |  0:00:22s\n"
     ]
    },
    {
     "name": "stdout",
     "output_type": "stream",
     "text": [
      "epoch 240| loss: 0.06891 | train_mse: 0.05766 | train_mae: 0.18045 |  0:00:22s\n",
      "epoch 241| loss: 0.16066 | train_mse: 0.05895 | train_mae: 0.17958 |  0:00:23s\n",
      "epoch 242| loss: 0.08068 | train_mse: 0.06108 | train_mae: 0.18117 |  0:00:23s\n"
     ]
    },
    {
     "name": "stdout",
     "output_type": "stream",
     "text": [
      "epoch 243| loss: 0.11603 | train_mse: 0.06091 | train_mae: 0.18202 |  0:00:23s\n",
      "epoch 244| loss: 0.14531 | train_mse: 0.05982 | train_mae: 0.18009 |  0:00:23s\n",
      "epoch 245| loss: 0.18799 | train_mse: 0.06039 | train_mae: 0.18008 |  0:00:23s"
     ]
    },
    {
     "name": "stdout",
     "output_type": "stream",
     "text": [
      "\n",
      "epoch 246| loss: 0.23233 | train_mse: 0.0603  | train_mae: 0.18036 |  0:00:23s\n",
      "epoch 247| loss: 0.24929 | train_mse: 0.05959 | train_mae: 0.17943 |  0:00:23s\n"
     ]
    },
    {
     "name": "stdout",
     "output_type": "stream",
     "text": [
      "epoch 248| loss: 0.09177 | train_mse: 0.05748 | train_mae: 0.17677 |  0:00:23s\n",
      "epoch 249| loss: 0.18032 | train_mse: 0.05535 | train_mae: 0.17436 |  0:00:23s\n",
      "epoch 250| loss: 0.15862 | train_mse: 0.05368 | train_mae: 0.1716  |  0:00:23s\n"
     ]
    },
    {
     "name": "stdout",
     "output_type": "stream",
     "text": [
      "epoch 251| loss: 0.10448 | train_mse: 0.05369 | train_mae: 0.17057 |  0:00:23s\n",
      "epoch 252| loss: 0.07662 | train_mse: 0.05383 | train_mae: 0.17063 |  0:00:24s\n",
      "epoch 253| loss: 0.08089 | train_mse: 0.05367 | train_mae: 0.16823 |  0:00:24s\n"
     ]
    },
    {
     "name": "stdout",
     "output_type": "stream",
     "text": [
      "epoch 254| loss: 0.09248 | train_mse: 0.05291 | train_mae: 0.16818 |  0:00:24s\n",
      "epoch 255| loss: 0.09222 | train_mse: 0.05182 | train_mae: 0.17055 |  0:00:24s\n",
      "epoch 256| loss: 0.13539 | train_mse: 0.05075 | train_mae: 0.17049 |  0:00:24s\n"
     ]
    },
    {
     "name": "stdout",
     "output_type": "stream",
     "text": [
      "epoch 257| loss: 0.14141 | train_mse: 0.0513  | train_mae: 0.17127 |  0:00:24s\n",
      "epoch 258| loss: 0.06957 | train_mse: 0.04949 | train_mae: 0.16672 |  0:00:24s\n",
      "epoch 259| loss: 0.15015 | train_mse: 0.05009 | train_mae: 0.16809 |  0:00:24s\n"
     ]
    },
    {
     "name": "stdout",
     "output_type": "stream",
     "text": [
      "epoch 260| loss: 0.20404 | train_mse: 0.05155 | train_mae: 0.16913 |  0:00:24s\n",
      "epoch 261| loss: 0.12934 | train_mse: 0.05013 | train_mae: 0.16643 |  0:00:24s\n",
      "epoch 262| loss: 0.0917  | train_mse: 0.05199 | train_mae: 0.16774 |  0:00:25s\n"
     ]
    },
    {
     "name": "stdout",
     "output_type": "stream",
     "text": [
      "epoch 263| loss: 0.11446 | train_mse: 0.05264 | train_mae: 0.16849 |  0:00:25s\n",
      "epoch 264| loss: 0.07451 | train_mse: 0.05307 | train_mae: 0.17048 |  0:00:25s\n"
     ]
    },
    {
     "name": "stdout",
     "output_type": "stream",
     "text": [
      "epoch 265| loss: 0.13698 | train_mse: 0.05164 | train_mae: 0.17043 |  0:00:25s\n",
      "epoch 266| loss: 0.1341  | train_mse: 0.0501  | train_mae: 0.16826 |  0:00:25s\n",
      "epoch 267| loss: 0.0968  | train_mse: 0.05    | train_mae: 0.16947 |  0:00:25s\n"
     ]
    },
    {
     "name": "stdout",
     "output_type": "stream",
     "text": [
      "epoch 268| loss: 0.17881 | train_mse: 0.0501  | train_mae: 0.1702  |  0:00:25s\n",
      "epoch 269| loss: 0.09866 | train_mse: 0.05021 | train_mae: 0.16835 |  0:00:25s\n",
      "epoch 270| loss: 0.11132 | train_mse: 0.05045 | train_mae: 0.16906 |  0:00:25s\n"
     ]
    },
    {
     "name": "stdout",
     "output_type": "stream",
     "text": [
      "epoch 271| loss: 0.11388 | train_mse: 0.051   | train_mae: 0.17062 |  0:00:25s\n",
      "epoch 272| loss: 0.09949 | train_mse: 0.05054 | train_mae: 0.17137 |  0:00:25s\n",
      "epoch 273| loss: 0.23138 | train_mse: 0.04934 | train_mae: 0.16924 |  0:00:26s\n"
     ]
    },
    {
     "name": "stdout",
     "output_type": "stream",
     "text": [
      "epoch 274| loss: 0.07959 | train_mse: 0.04973 | train_mae: 0.16663 |  0:00:26s\n",
      "epoch 275| loss: 0.11591 | train_mse: 0.05083 | train_mae: 0.16495 |  0:00:26s\n",
      "epoch 276| loss: 0.12699 | train_mse: 0.05417 | train_mae: 0.16807 |  0:00:26s\n"
     ]
    },
    {
     "name": "stdout",
     "output_type": "stream",
     "text": [
      "epoch 277| loss: 0.096   | train_mse: 0.05809 | train_mae: 0.17263 |  0:00:26s\n",
      "epoch 278| loss: 0.08056 | train_mse: 0.06302 | train_mae: 0.17828 |  0:00:26s\n",
      "epoch 279| loss: 0.16106 | train_mse: 0.06581 | train_mae: 0.18085 |  0:00:26s\n"
     ]
    },
    {
     "name": "stdout",
     "output_type": "stream",
     "text": [
      "epoch 280| loss: 0.079   | train_mse: 0.06962 | train_mae: 0.18408 |  0:00:26s\n",
      "epoch 281| loss: 0.10971 | train_mse: 0.07269 | train_mae: 0.18717 |  0:00:26s\n",
      "epoch 282| loss: 0.11638 | train_mse: 0.07192 | train_mae: 0.18707 |  0:00:26s\n"
     ]
    },
    {
     "name": "stdout",
     "output_type": "stream",
     "text": [
      "epoch 283| loss: 0.2164  | train_mse: 0.07092 | train_mae: 0.18423 |  0:00:27s\n",
      "epoch 284| loss: 0.10354 | train_mse: 0.06952 | train_mae: 0.18256 |  0:00:27s\n"
     ]
    },
    {
     "name": "stdout",
     "output_type": "stream",
     "text": [
      "epoch 285| loss: 0.19119 | train_mse: 0.06404 | train_mae: 0.17882 |  0:00:27s\n",
      "epoch 286| loss: 0.08143 | train_mse: 0.05817 | train_mae: 0.17217 |  0:00:27s\n",
      "epoch 287| loss: 0.13875 | train_mse: 0.05371 | train_mae: 0.16818 |  0:00:27s\n"
     ]
    },
    {
     "name": "stdout",
     "output_type": "stream",
     "text": [
      "epoch 288| loss: 0.11861 | train_mse: 0.05344 | train_mae: 0.16739 |  0:00:27s\n",
      "epoch 289| loss: 0.1383  | train_mse: 0.05469 | train_mae: 0.16868 |  0:00:27s\n",
      "epoch 290| loss: 0.06379 | train_mse: 0.05629 | train_mae: 0.17073 |  0:00:27s\n"
     ]
    },
    {
     "name": "stdout",
     "output_type": "stream",
     "text": [
      "epoch 291| loss: 0.11499 | train_mse: 0.05503 | train_mae: 0.16826 |  0:00:27s\n",
      "epoch 292| loss: 0.11098 | train_mse: 0.05686 | train_mae: 0.1692  |  0:00:27s\n",
      "epoch 293| loss: 0.15903 | train_mse: 0.06032 | train_mae: 0.17146 |  0:00:28s\n"
     ]
    },
    {
     "name": "stdout",
     "output_type": "stream",
     "text": [
      "epoch 294| loss: 0.0892  | train_mse: 0.06421 | train_mae: 0.17331 |  0:00:28s\n",
      "epoch 295| loss: 0.14033 | train_mse: 0.06543 | train_mae: 0.17536 |  0:00:28s\n",
      "epoch 296| loss: 0.08318 | train_mse: 0.06711 | train_mae: 0.17947 |  0:00:28s\n"
     ]
    },
    {
     "name": "stdout",
     "output_type": "stream",
     "text": [
      "epoch 297| loss: 0.10493 | train_mse: 0.06983 | train_mae: 0.18226 |  0:00:28s\n",
      "epoch 298| loss: 0.08112 | train_mse: 0.07097 | train_mae: 0.18178 |  0:00:28s\n",
      "epoch 299| loss: 0.11492 | train_mse: 0.06678 | train_mae: 0.17589 |  0:00:28s\n"
     ]
    },
    {
     "name": "stdout",
     "output_type": "stream",
     "text": [
      "epoch 300| loss: 0.10223 | train_mse: 0.06001 | train_mae: 0.17061 |  0:00:28s\n",
      "epoch 301| loss: 0.14037 | train_mse: 0.05086 | train_mae: 0.16117 |  0:00:28s\n",
      "epoch 302| loss: 0.11578 | train_mse: 0.04947 | train_mae: 0.15975 |  0:00:28s\n"
     ]
    },
    {
     "name": "stdout",
     "output_type": "stream",
     "text": [
      "epoch 303| loss: 0.20273 | train_mse: 0.04709 | train_mae: 0.15656 |  0:00:28s\n",
      "epoch 304| loss: 0.09352 | train_mse: 0.04708 | train_mae: 0.15735 |  0:00:29s\n",
      "epoch 305| loss: 0.14735 | train_mse: 0.0459  | train_mae: 0.1575  |  0:00:29s\n"
     ]
    },
    {
     "name": "stdout",
     "output_type": "stream",
     "text": [
      "epoch 306| loss: 0.08367 | train_mse: 0.04459 | train_mae: 0.15632 |  0:00:29s\n",
      "epoch 307| loss: 0.10015 | train_mse: 0.04358 | train_mae: 0.15416 |  0:00:29s\n"
     ]
    },
    {
     "name": "stdout",
     "output_type": "stream",
     "text": [
      "epoch 308| loss: 0.21981 | train_mse: 0.04362 | train_mae: 0.15258 |  0:00:29s\n",
      "epoch 309| loss: 0.08787 | train_mse: 0.04537 | train_mae: 0.15321 |  0:00:29s\n"
     ]
    },
    {
     "name": "stdout",
     "output_type": "stream",
     "text": [
      "epoch 310| loss: 0.28573 | train_mse: 0.04418 | train_mae: 0.15113 |  0:00:29s\n"
     ]
    },
    {
     "name": "stdout",
     "output_type": "stream",
     "text": [
      "epoch 311| loss: 0.07936 | train_mse: 0.04488 | train_mae: 0.15218 |  0:00:30s\n",
      "epoch 312| loss: 0.17494 | train_mse: 0.04464 | train_mae: 0.15324 |  0:00:30s\n"
     ]
    },
    {
     "name": "stdout",
     "output_type": "stream",
     "text": [
      "epoch 313| loss: 0.07911 | train_mse: 0.04539 | train_mae: 0.15534 |  0:00:30s\n",
      "epoch 314| loss: 0.12369 | train_mse: 0.04611 | train_mae: 0.15724 |  0:00:30s\n"
     ]
    },
    {
     "name": "stdout",
     "output_type": "stream",
     "text": [
      "epoch 315| loss: 0.06709 | train_mse: 0.04733 | train_mae: 0.15791 |  0:00:30s\n",
      "epoch 316| loss: 0.12397 | train_mse: 0.04857 | train_mae: 0.15799 |  0:00:30s\n",
      "epoch 317| loss: 0.26676 | train_mse: 0.04761 | train_mae: 0.15573 |  0:00:30s\n"
     ]
    },
    {
     "name": "stdout",
     "output_type": "stream",
     "text": [
      "epoch 318| loss: 0.09021 | train_mse: 0.04762 | train_mae: 0.15563 |  0:00:30s\n",
      "epoch 319| loss: 0.08643 | train_mse: 0.04674 | train_mae: 0.15266 |  0:00:31s\n",
      "epoch 320| loss: 0.10795 | train_mse: 0.04599 | train_mae: 0.15209 |  0:00:31s\n"
     ]
    },
    {
     "name": "stdout",
     "output_type": "stream",
     "text": [
      "epoch 321| loss: 0.14385 | train_mse: 0.04611 | train_mae: 0.15295 |  0:00:31s\n",
      "epoch 322| loss: 0.09682 | train_mse: 0.05068 | train_mae: 0.15777 |  0:00:31s\n",
      "epoch 323| loss: 0.0929  | train_mse: 0.05145 | train_mae: 0.15837 |  0:00:31s\n"
     ]
    },
    {
     "name": "stdout",
     "output_type": "stream",
     "text": [
      "epoch 324| loss: 0.20355 | train_mse: 0.04888 | train_mae: 0.15518 |  0:00:31s\n",
      "epoch 325| loss: 0.17139 | train_mse: 0.04456 | train_mae: 0.15033 |  0:00:31s\n",
      "epoch 326| loss: 0.1514  | train_mse: 0.04643 | train_mae: 0.15264 |  0:00:31s\n"
     ]
    },
    {
     "name": "stdout",
     "output_type": "stream",
     "text": [
      "epoch 327| loss: 0.17307 | train_mse: 0.0496  | train_mae: 0.15516 |  0:00:31s\n",
      "epoch 328| loss: 0.09498 | train_mse: 0.05312 | train_mae: 0.15993 |  0:00:31s\n",
      "epoch 329| loss: 0.11322 | train_mse: 0.05908 | train_mae: 0.16505 |  0:00:31s\n"
     ]
    },
    {
     "name": "stdout",
     "output_type": "stream",
     "text": [
      "epoch 330| loss: 0.09358 | train_mse: 0.05857 | train_mae: 0.16451 |  0:00:32s\n",
      "epoch 331| loss: 0.07099 | train_mse: 0.0552  | train_mae: 0.16228 |  0:00:32s\n"
     ]
    },
    {
     "name": "stdout",
     "output_type": "stream",
     "text": [
      "epoch 332| loss: 0.08023 | train_mse: 0.05389 | train_mae: 0.16271 |  0:00:32s\n",
      "epoch 333| loss: 0.08688 | train_mse: 0.05149 | train_mae: 0.16055 |  0:00:32s\n",
      "epoch 334| loss: 0.27444 | train_mse: 0.0506  | train_mae: 0.16094 |  0:00:32s\n"
     ]
    },
    {
     "name": "stdout",
     "output_type": "stream",
     "text": [
      "epoch 335| loss: 0.12012 | train_mse: 0.05061 | train_mae: 0.16139 |  0:00:32s\n",
      "epoch 336| loss: 0.13096 | train_mse: 0.05208 | train_mae: 0.1624  |  0:00:32s\n"
     ]
    },
    {
     "name": "stdout",
     "output_type": "stream",
     "text": [
      "epoch 337| loss: 0.09694 | train_mse: 0.05503 | train_mae: 0.16503 |  0:00:33s\n",
      "epoch 338| loss: 0.05819 | train_mse: 0.05689 | train_mae: 0.16706 |  0:00:33s\n"
     ]
    },
    {
     "name": "stdout",
     "output_type": "stream",
     "text": [
      "epoch 339| loss: 0.08902 | train_mse: 0.06185 | train_mae: 0.17175 |  0:00:33s\n",
      "epoch 340| loss: 0.16771 | train_mse: 0.05984 | train_mae: 0.171   |  0:00:33s\n"
     ]
    },
    {
     "name": "stdout",
     "output_type": "stream",
     "text": [
      "epoch 341| loss: 0.16229 | train_mse: 0.06164 | train_mae: 0.17438 |  0:00:33s\n",
      "epoch 342| loss: 0.13275 | train_mse: 0.06209 | train_mae: 0.17624 |  0:00:33s\n",
      "epoch 343| loss: 0.17519 | train_mse: 0.06305 | train_mae: 0.17848 |  0:00:33s\n"
     ]
    },
    {
     "name": "stdout",
     "output_type": "stream",
     "text": [
      "epoch 344| loss: 0.1036  | train_mse: 0.06236 | train_mae: 0.17939 |  0:00:33s\n",
      "epoch 345| loss: 0.14548 | train_mse: 0.06112 | train_mae: 0.17865 |  0:00:33s\n",
      "epoch 346| loss: 0.06992 | train_mse: 0.05793 | train_mae: 0.17627 |  0:00:33s\n"
     ]
    },
    {
     "name": "stdout",
     "output_type": "stream",
     "text": [
      "epoch 347| loss: 0.13458 | train_mse: 0.05596 | train_mae: 0.17539 |  0:00:34s\n",
      "epoch 348| loss: 0.18545 | train_mse: 0.05354 | train_mae: 0.17358 |  0:00:34s\n"
     ]
    },
    {
     "name": "stdout",
     "output_type": "stream",
     "text": [
      "epoch 349| loss: 0.10715 | train_mse: 0.05365 | train_mae: 0.17258 |  0:00:34s\n",
      "epoch 350| loss: 0.07742 | train_mse: 0.05218 | train_mae: 0.16925 |  0:00:34s\n",
      "epoch 351| loss: 0.08455 | train_mse: 0.05095 | train_mae: 0.16722 |  0:00:34s\n"
     ]
    },
    {
     "name": "stdout",
     "output_type": "stream",
     "text": [
      "epoch 352| loss: 0.19965 | train_mse: 0.04783 | train_mae: 0.16393 |  0:00:34s\n",
      "epoch 353| loss: 0.15298 | train_mse: 0.04507 | train_mae: 0.16108 |  0:00:34s\n",
      "epoch 354| loss: 0.08227 | train_mse: 0.04415 | train_mae: 0.16086 |  0:00:34s\n"
     ]
    },
    {
     "name": "stdout",
     "output_type": "stream",
     "text": [
      "epoch 355| loss: 0.05532 | train_mse: 0.04301 | train_mae: 0.16041 |  0:00:34s\n",
      "epoch 356| loss: 0.08737 | train_mse: 0.04224 | train_mae: 0.15871 |  0:00:34s\n"
     ]
    },
    {
     "name": "stdout",
     "output_type": "stream",
     "text": [
      "epoch 357| loss: 0.13018 | train_mse: 0.04146 | train_mae: 0.15419 |  0:00:35s\n",
      "epoch 358| loss: 0.08768 | train_mse: 0.04201 | train_mae: 0.15373 |  0:00:35s\n",
      "epoch 359| loss: 0.15787 | train_mse: 0.04476 | train_mae: 0.15746 |  0:00:35s"
     ]
    },
    {
     "name": "stdout",
     "output_type": "stream",
     "text": [
      "\n",
      "epoch 360| loss: 0.18635 | train_mse: 0.04846 | train_mae: 0.16048 |  0:00:35s\n"
     ]
    },
    {
     "name": "stdout",
     "output_type": "stream",
     "text": [
      "epoch 361| loss: 0.238   | train_mse: 0.05284 | train_mae: 0.16536 |  0:00:35s\n",
      "epoch 362| loss: 0.07097 | train_mse: 0.05643 | train_mae: 0.17086 |  0:00:35s\n",
      "epoch 363| loss: 0.11257 | train_mse: 0.06067 | train_mae: 0.17628 |  0:00:35s\n"
     ]
    },
    {
     "name": "stdout",
     "output_type": "stream",
     "text": [
      "epoch 364| loss: 0.06673 | train_mse: 0.06433 | train_mae: 0.18102 |  0:00:35s\n",
      "epoch 365| loss: 0.12083 | train_mse: 0.06299 | train_mae: 0.18009 |  0:00:35s\n",
      "epoch 366| loss: 0.08134 | train_mse: 0.06677 | train_mae: 0.18166 |  0:00:35s\n"
     ]
    },
    {
     "name": "stdout",
     "output_type": "stream",
     "text": [
      "epoch 367| loss: 0.16114 | train_mse: 0.06691 | train_mae: 0.18133 |  0:00:36s\n",
      "epoch 368| loss: 0.21141 | train_mse: 0.06707 | train_mae: 0.18293 |  0:00:36s\n",
      "epoch 369| loss: 0.11021 | train_mse: 0.06463 | train_mae: 0.182   |  0:00:36s"
     ]
    },
    {
     "name": "stdout",
     "output_type": "stream",
     "text": [
      "\n",
      "epoch 370| loss: 0.08544 | train_mse: 0.05958 | train_mae: 0.17888 |  0:00:36s\n",
      "epoch 371| loss: 0.07316 | train_mse: 0.05533 | train_mae: 0.17403 |  0:00:36s\n"
     ]
    },
    {
     "name": "stdout",
     "output_type": "stream",
     "text": [
      "epoch 372| loss: 0.07362 | train_mse: 0.05358 | train_mae: 0.17112 |  0:00:36s\n",
      "epoch 373| loss: 0.10937 | train_mse: 0.05405 | train_mae: 0.16888 |  0:00:36s\n",
      "epoch 374| loss: 0.10913 | train_mse: 0.05822 | train_mae: 0.17317 |  0:00:36s"
     ]
    },
    {
     "name": "stdout",
     "output_type": "stream",
     "text": [
      "\n"
     ]
    },
    {
     "name": "stdout",
     "output_type": "stream",
     "text": [
      "epoch 375| loss: 0.10261 | train_mse: 0.05871 | train_mae: 0.17374 |  0:00:37s\n",
      "\n",
      "Early stopping occurred at epoch 375 with best_epoch = 325 and best_train_mae = 0.15033\n",
      "Best weights from best epoch are automatically used!\n"
     ]
    }
   ],
   "source": [
    "#Train the Model\n",
    "\n",
    "Y_train = np.reshape(Y_train, (-1, 1))\n",
    "Y_test = np.reshape(Y_test, (-1, 1))\n",
    "\n",
    "prior_model = TabNetRegressor(optimizer_fn=torch.optim.Adam, optimizer_params=dict(lr = 0.001),\n",
    "          #scheduler_params={\"step_size\":10, ], \"gamma\":0.9},\n",
    "          #scheduler_fn=torch.optim.lr_scheduler.StepLR\n",
    "          )  #TabNetRegressor()\n",
    "\n",
    "prior_model.fit(X_train,Y_train,eval_set=[(X_train, Y_train)],\n",
    "            eval_name=['train'], \n",
    "            eval_metric=[ 'mse', 'mae'], \n",
    "            max_epochs = n_epochs, \n",
    "            batch_size = batch_size,\n",
    "            patience=50\n",
    "            )"
   ]
  },
  {
   "cell_type": "code",
   "execution_count": 10,
   "id": "af65dcda",
   "metadata": {
    "execution": {
     "iopub.execute_input": "2022-07-22T09:27:48.802241Z",
     "iopub.status.busy": "2022-07-22T09:27:48.801184Z",
     "iopub.status.idle": "2022-07-22T09:27:48.880449Z",
     "shell.execute_reply": "2022-07-22T09:27:48.877428Z"
    },
    "id": "af65dcda",
    "papermill": {
     "duration": 0.124077,
     "end_time": "2022-07-22T09:27:48.887197",
     "exception": false,
     "start_time": "2022-07-22T09:27:48.763120",
     "status": "completed"
    },
    "tags": []
   },
   "outputs": [
    {
     "data": {
      "application/scrapbook.scrap.json+json": {
       "data": 0.5256823229794991,
       "encoder": "json",
       "name": "Prior Model MSE",
       "version": 1
      }
     },
     "metadata": {
      "scrapbook": {
       "data": true,
       "display": false,
       "name": "Prior Model MSE"
      }
     },
     "output_type": "display_data"
    },
    {
     "data": {
      "application/scrapbook.scrap.json+json": {
       "data": 0.523310433537741,
       "encoder": "json",
       "name": "ABC Pre-generator MSE",
       "version": 1
      }
     },
     "metadata": {
      "scrapbook": {
       "data": true,
       "display": false,
       "name": "ABC Pre-generator MSE"
      }
     },
     "output_type": "display_data"
    },
    {
     "data": {
      "application/scrapbook.scrap.json+json": {
       "data": 0.5280010612010819,
       "encoder": "json",
       "name": "Prior Model MAE",
       "version": 1
      }
     },
     "metadata": {
      "scrapbook": {
       "data": true,
       "display": false,
       "name": "Prior Model MAE"
      }
     },
     "output_type": "display_data"
    },
    {
     "name": "stdout",
     "output_type": "stream",
     "text": [
      "Prior Model MAE 0.5280010612010819\n"
     ]
    },
    {
     "data": {
      "application/scrapbook.scrap.json+json": {
       "data": 0.5292657896436939,
       "encoder": "json",
       "name": "ABC Pre-generator MAE",
       "version": 1
      }
     },
     "metadata": {
      "scrapbook": {
       "data": true,
       "display": false,
       "name": "ABC Pre-generator MAE"
      }
     },
     "output_type": "display_data"
    },
    {
     "name": "stdout",
     "output_type": "stream",
     "text": [
      "ABC Pre-generator MAE 0.5292657896436939\n"
     ]
    }
   ],
   "source": [
    "y_pred = prior_model.predict(X_test)\n",
    "y_abc = y_pred + np.random.normal(0,variance, y_pred.shape) + bias \n",
    "mse = mean_squared_error(y_pred,Y_test)\n",
    "sb.glue(\"Prior Model MSE\",mse)\n",
    "mse = mean_squared_error(y_abc,Y_test)\n",
    "sb.glue(\"ABC Pre-generator MSE\",mse)\n",
    "mae = mean_absolute_error(y_pred,Y_test)\n",
    "sb.glue(\"Prior Model MAE\",mae)\n",
    "print(\"Prior Model MAE\",mae)\n",
    "mae = mean_absolute_error(y_abc,Y_test)\n",
    "sb.glue(\"ABC Pre-generator MAE\",mae)\n",
    "print(\"ABC Pre-generator MAE\",mae)"
   ]
  },
  {
   "cell_type": "markdown",
   "id": "25609da2",
   "metadata": {
    "papermill": {
     "duration": -0.158143,
     "end_time": "2022-07-22T09:27:48.748649",
     "exception": false,
     "start_time": "2022-07-22T09:27:48.906792",
     "status": "completed"
    },
    "tags": []
   },
   "source": [
    "# mGAN Model"
   ]
  },
  {
   "cell_type": "code",
   "execution_count": 11,
   "id": "dfc3464d",
   "metadata": {
    "execution": {
     "iopub.execute_input": "2022-07-22T09:27:49.138782Z",
     "iopub.status.busy": "2022-07-22T09:27:49.137627Z",
     "iopub.status.idle": "2022-07-22T09:27:49.146095Z",
     "shell.execute_reply": "2022-07-22T09:27:49.144716Z"
    },
    "papermill": {
     "duration": 0.390812,
     "end_time": "2022-07-22T09:27:49.261501",
     "exception": false,
     "start_time": "2022-07-22T09:27:48.870689",
     "status": "completed"
    },
    "tags": []
   },
   "outputs": [],
   "source": [
    "# gen = network.Generator(n_features+1).to(device)\n",
    "# disc = network.Discriminator(n_features+1).to(device)\n",
    "\n",
    "# criterion = torch.nn.BCELoss()\n",
    "# gen_opt = torch.optim.Adam(gen.parameters(), lr=0.001, betas=(0.5, 0.999))\n",
    "# disc_opt = torch.optim.Adam(disc.parameters(), lr=0.001, betas=(0.5, 0.999))"
   ]
  },
  {
   "cell_type": "code",
   "execution_count": 12,
   "id": "b75fdd85",
   "metadata": {
    "execution": {
     "iopub.execute_input": "2022-07-22T09:27:49.504000Z",
     "iopub.status.busy": "2022-07-22T09:27:49.503428Z",
     "iopub.status.idle": "2022-07-22T09:27:49.509962Z",
     "shell.execute_reply": "2022-07-22T09:27:49.508089Z"
    },
    "papermill": {
     "duration": 0.064717,
     "end_time": "2022-07-22T09:27:49.518886",
     "exception": false,
     "start_time": "2022-07-22T09:27:49.454169",
     "status": "completed"
    },
    "tags": []
   },
   "outputs": [],
   "source": [
    "#Training the ABC_GAN \n",
    "# ABC_train_test2.training_GAN(disc,gen,disc_opt,gen_opt,train_data,batch_size,n_epochs,criterion,prior_model,variance,bias,device)"
   ]
  },
  {
   "cell_type": "code",
   "execution_count": 13,
   "id": "1fa7c368",
   "metadata": {
    "execution": {
     "iopub.execute_input": "2022-07-22T09:27:49.621921Z",
     "iopub.status.busy": "2022-07-22T09:27:49.621429Z",
     "iopub.status.idle": "2022-07-22T09:27:49.626612Z",
     "shell.execute_reply": "2022-07-22T09:27:49.625450Z"
    },
    "papermill": {
     "duration": 0.092598,
     "end_time": "2022-07-22T09:27:49.643561",
     "exception": false,
     "start_time": "2022-07-22T09:27:49.550963",
     "status": "completed"
    },
    "tags": []
   },
   "outputs": [],
   "source": [
    "# ABC_GAN1_metrics=ABC_train_test2.test_generator(gen,test_data,prior_model,variance,bias,\"1\",device)\n",
    "# sb.glue(\"ABC_GAN_1 Metrics\",ABC_GAN1_metrics)\n",
    "\n",
    "# print(\"MAE\")\n",
    "# print(mean(ABC_GAN1_metrics[1]))"
   ]
  },
  {
   "cell_type": "code",
   "execution_count": 14,
   "id": "eb22ce5c",
   "metadata": {
    "execution": {
     "iopub.execute_input": "2022-07-22T09:27:49.740223Z",
     "iopub.status.busy": "2022-07-22T09:27:49.739777Z",
     "iopub.status.idle": "2022-07-22T09:27:49.744755Z",
     "shell.execute_reply": "2022-07-22T09:27:49.743301Z"
    },
    "papermill": {
     "duration": 0.121913,
     "end_time": "2022-07-22T09:27:49.798713",
     "exception": false,
     "start_time": "2022-07-22T09:27:49.676800",
     "status": "completed"
    },
    "tags": []
   },
   "outputs": [],
   "source": [
    "# sanityChecks.discProbVsError(train_data,disc,device)\n",
    "# sanityChecks.discProbVsError(test_data,disc,device)"
   ]
  },
  {
   "cell_type": "markdown",
   "id": "6fecb538",
   "metadata": {
    "papermill": {
     "duration": 0.190901,
     "end_time": "2022-07-22T09:27:50.313086",
     "exception": false,
     "start_time": "2022-07-22T09:27:50.122185",
     "status": "completed"
    },
    "tags": []
   },
   "source": [
    "# mGAN Model with TabNet Generator"
   ]
  },
  {
   "cell_type": "code",
   "execution_count": 15,
   "id": "bd9a3a8c",
   "metadata": {
    "execution": {
     "iopub.execute_input": "2022-07-22T09:27:50.589558Z",
     "iopub.status.busy": "2022-07-22T09:27:50.588997Z",
     "iopub.status.idle": "2022-07-22T09:27:50.614644Z",
     "shell.execute_reply": "2022-07-22T09:27:50.613486Z"
    },
    "papermill": {
     "duration": 0.17266,
     "end_time": "2022-07-22T09:27:50.628725",
     "exception": false,
     "start_time": "2022-07-22T09:27:50.456065",
     "status": "completed"
    },
    "tags": []
   },
   "outputs": [],
   "source": [
    "gen2 = network.GeneratorTabnet(n_features+1).to(device)\n",
    "disc2 = network.Discriminator(n_features+1).to(device)\n",
    "\n",
    "criterion = torch.nn.BCELoss()\n",
    "gen_opt = torch.optim.Adam(gen2.parameters(), lr=0.001, betas=(0.5, 0.999))\n",
    "disc_opt = torch.optim.Adam(disc2.parameters(), lr=0.001, betas=(0.5, 0.999))"
   ]
  },
  {
   "cell_type": "code",
   "execution_count": 16,
   "id": "58324ab0",
   "metadata": {
    "execution": {
     "iopub.execute_input": "2022-07-22T09:27:50.765512Z",
     "iopub.status.busy": "2022-07-22T09:27:50.764308Z",
     "iopub.status.idle": "2022-07-22T09:35:21.577897Z",
     "shell.execute_reply": "2022-07-22T09:35:21.520303Z"
    },
    "papermill": {
     "duration": 450.917618,
     "end_time": "2022-07-22T09:35:21.592957",
     "exception": false,
     "start_time": "2022-07-22T09:27:50.675339",
     "status": "completed"
    },
    "tags": []
   },
   "outputs": [
    {
     "data": {
      "image/png": "[encoded data removed]",
      "text/plain": [
       "<Figure size 432x288 with 1 Axes>"
      ]
     },
     "metadata": {
      "needs_background": "light"
     },
     "output_type": "display_data"
    },
    {
     "data": {
      "image/png": "[encoded data removed]",
      "text/plain": [
       "<Figure size 432x288 with 1 Axes>"
      ]
     },
     "metadata": {
      "needs_background": "light"
     },
     "output_type": "display_data"
    }
   ],
   "source": [
    "#Training the ABC_GAN \n",
    "ABC_train_test2.training_GAN(disc2,gen2,disc_opt,gen_opt,train_data,batch_size,n_epochs,criterion,prior_model,variance,bias,device)"
   ]
  },
  {
   "cell_type": "code",
   "execution_count": 17,
   "id": "2ce7bf43",
   "metadata": {
    "execution": {
     "iopub.execute_input": "2022-07-22T09:35:21.663222Z",
     "iopub.status.busy": "2022-07-22T09:35:21.662620Z",
     "iopub.status.idle": "2022-07-22T09:35:24.526696Z",
     "shell.execute_reply": "2022-07-22T09:35:24.525213Z"
    },
    "papermill": {
     "duration": 2.898903,
     "end_time": "2022-07-22T09:35:24.530335",
     "exception": false,
     "start_time": "2022-07-22T09:35:21.631432",
     "status": "completed"
    },
    "tags": []
   },
   "outputs": [
    {
     "data": {
      "application/scrapbook.scrap.json+json": {
       "data": 0.45261540893963226,
       "encoder": "json",
       "name": "ABC-GAN Model 1 MSE",
       "version": 1
      }
     },
     "metadata": {
      "scrapbook": {
       "data": true,
       "display": false,
       "name": "ABC-GAN Model 1 MSE"
      }
     },
     "output_type": "display_data"
    },
    {
     "data": {
      "application/scrapbook.scrap.json+json": {
       "data": 0.5036289090439677,
       "encoder": "json",
       "name": "ABC-GAN Model 1 MAE",
       "version": 1
      }
     },
     "metadata": {
      "scrapbook": {
       "data": true,
       "display": false,
       "name": "ABC-GAN Model 1 MAE"
      }
     },
     "output_type": "display_data"
    },
    {
     "data": {
      "application/scrapbook.scrap.json+json": {
       "data": 10.072578180879354,
       "encoder": "json",
       "name": "ABC-GAN Model 1 Manhattan Distance",
       "version": 1
      }
     },
     "metadata": {
      "scrapbook": {
       "data": true,
       "display": false,
       "name": "ABC-GAN Model 1 Manhattan Distance"
      }
     },
     "output_type": "display_data"
    },
    {
     "data": {
      "application/scrapbook.scrap.json+json": {
       "data": 3.0086764020635446,
       "encoder": "json",
       "name": "ABC-GAN Model 1 Euclidean distance",
       "version": 1
      }
     },
     "metadata": {
      "scrapbook": {
       "data": true,
       "display": false,
       "name": "ABC-GAN Model 1 Euclidean distance"
      }
     },
     "output_type": "display_data"
    },
    {
     "data": {
      "application/scrapbook.scrap.json+json": {
       "data": [
        [
         0.45163654455429114,
         0.4547197627189642,
         0.4484262180420598,
         0.46152398619415125,
         0.45522368579229733,
         0.4546243890316878,
         0.45534020572698075,
         0.4540756098596243,
         0.459975378698765,
         0.4571227808678563,
         0.44779487177126676,
         0.45458391846116797,
         0.4533150890884867,
         0.4568042683584942,
         0.450503635633944,
         0.45432376051022716,
         0.4524227597950567,
         0.45359650341852403,
         0.45793461678372616,
         0.45177276688038476,
         0.4513234427209351,
         0.4489379435967632,
         0.4488434093227113,
         0.44664357366100305,
         0.44956343466824145,
         0.4533402543133844,
         0.4514481012157766,
         0.45449051793841183,
         0.45168369901374145,
         0.45792411777577335,
         0.4470593716153485,
         0.448160430051358,
         0.4485362195494676,
         0.45076984037446133,
         0.4477911518190683,
         0.45204000968402214,
         0.455302586697501,
         0.4440734167251099,
         0.458073672671374,
         0.44802066943883023,
         0.4547652878873258,
         0.45078815866402167,
         0.4559911401968444,
         0.4511775266159912,
         0.4631333850176714,
         0.451997161695785,
         0.4562445663262952,
         0.45425834804675,
         0.4555659693233318,
         0.4479944905913215,
         0.45116846171081965,
         0.45273901745197137,
         0.456058825869292,
         0.45060231753755753,
         0.44594493675700403,
         0.452918548197702,
         0.45770787932003076,
         0.44935372983092714,
         0.45508786504245524,
         0.4626044615609433,
         0.4472512124962476,
         0.4509202764106409,
         0.4488185093813196,
         0.4464910847740534,
         0.45323971390105144,
         0.45397020098149177,
         0.4487576057075796,
         0.44846636678046004,
         0.456254182630947,
         0.45651183870405215,
         0.4495052319456415,
         0.44632370259597903,
         0.45202983056891677,
         0.46066879755213563,
         0.4506790435273419,
         0.45426206462567886,
         0.456671680547741,
         0.45334752453888355,
         0.4470084578403214,
         0.44813229544885325,
         0.45680647457217194,
         0.4514515233026171,
         0.44828908622691344,
         0.4489503547524003,
         0.4588641031121486,
         0.44928065015503715,
         0.44438700977482304,
         0.45383043771101617,
         0.4519405888923956,
         0.4549408479705403,
         0.45607083999604037,
         0.4543507538391875,
         0.4508157211276028,
         0.45375306780809044,
         0.4591725764607736,
         0.4523490998904526,
         0.45405915148907566,
         0.4544670509839979,
         0.4516333334489507,
         0.4509699088043753
        ],
        [
         0.5011677034199238,
         0.5021513182669878,
         0.49945848658680914,
         0.509082930907607,
         0.505846320465207,
         0.505381541326642,
         0.5043914403766394,
         0.503714244440198,
         0.5052586540579795,
         0.5051776554435492,
         0.5017036356031894,
         0.5048598725348711,
         0.5040342956781387,
         0.5061685383319855,
         0.5041504256427288,
         0.503494756668806,
         0.5055039901286363,
         0.5031579416245222,
         0.5052339397370815,
         0.5024576228111982,
         0.5042100455611944,
         0.5025220792740583,
         0.501709358021617,
         0.5008616086095572,
         0.5023644175380468,
         0.5038238015025854,
         0.5039760772138834,
         0.5053433891385793,
         0.5055285654962063,
         0.504407848790288,
         0.50257056504488,
         0.5022572401911021,
         0.50249446593225,
         0.5026435196399689,
         0.5018434446305037,
         0.5032675385475158,
         0.503807719424367,
         0.4967554837465286,
         0.5068870633840561,
         0.5038101129233837,
         0.505823815613985,
         0.4994742155075073,
         0.5048628527671098,
         0.5030733790248633,
         0.5062543347477912,
         0.503556065633893,
         0.5053528670221568,
         0.5054053418338299,
         0.5070065170526504,
         0.5019153479486704,
         0.5014097996056079,
         0.505373228341341,
         0.5089049138128757,
         0.5024809904396534,
         0.5012914948165417,
         0.5052309386432171,
         0.5053753476589918,
         0.5004480708390474,
         0.5038948033005,
         0.5074659369885921,
         0.5026371527463198,
         0.5061558891087771,
         0.5027508921921253,
         0.5016913622617721,
         0.5037727128714323,
         0.506397944316268,
         0.5007592555135488,
         0.5001904036849737,
         0.5027674373239279,
         0.506674649566412,
         0.49916941821575167,
         0.5007363576442003,
         0.503021153062582,
         0.5065451603382826,
         0.5000077825039625,
         0.5056217599660158,
         0.503474060818553,
         0.5060197029262781,
         0.4983584225177765,
         0.5031271539628506,
         0.5032810267060995,
         0.5021803874522448,
         0.5018685918301344,
         0.5049250546842814,
         0.5079401854425669,
         0.5039600938558578,
         0.4989832494407892,
         0.5043947149068118,
         0.5014646016061306,
         0.5061863854527473,
         0.5048155006021261,
         0.5048254407942295,
         0.5039111822843552,
         0.5038607142865658,
         0.5056464210152626,
         0.5035658720880747,
         0.5056078132241965,
         0.5031067684292794,
         0.5027604185044765,
         0.5016478899866342
        ],
        [
         10.023354068398476,
         10.043026365339756,
         9.989169731736183,
         10.181658618152142,
         10.116926409304142,
         10.10763082653284,
         10.087828807532787,
         10.074284888803959,
         10.105173081159592,
         10.103553108870983,
         10.03407271206379,
         10.097197450697422,
         10.080685913562775,
         10.12337076663971,
         10.083008512854576,
         10.069895133376122,
         10.110079802572727,
         10.063158832490444,
         10.10467879474163,
         10.049152456223965,
         10.084200911223888,
         10.050441585481167,
         10.034187160432339,
         10.017232172191143,
         10.047288350760937,
         10.076476030051708,
         10.079521544277668,
         10.106867782771587,
         10.110571309924126,
         10.08815697580576,
         10.051411300897598,
         10.04514480382204,
         10.049889318645,
         10.052870392799377,
         10.036868892610073,
         10.065350770950317,
         10.076154388487339,
         9.935109674930573,
         10.137741267681122,
         10.076202258467674,
         10.116476312279701,
         9.989484310150146,
         10.097257055342197,
         10.061467580497265,
         10.125086694955826,
         10.07112131267786,
         10.107057340443134,
         10.108106836676598,
         10.140130341053009,
         10.038306958973408,
         10.02819599211216,
         10.10746456682682,
         10.178098276257515,
         10.049619808793068,
         10.025829896330833,
         10.104618772864342,
         10.107506953179836,
         10.008961416780949,
         10.077896066009998,
         10.149318739771843,
         10.052743054926395,
         10.123117782175541,
         10.055017843842506,
         10.033827245235443,
         10.075454257428646,
         10.12795888632536,
         10.015185110270977,
         10.003808073699474,
         10.055348746478558,
         10.13349299132824,
         9.983388364315033,
         10.014727152884007,
         10.06042306125164,
         10.130903206765652,
         10.00015565007925,
         10.112435199320316,
         10.06948121637106,
         10.120394058525562,
         9.96716845035553,
         10.062543079257011,
         10.06562053412199,
         10.043607749044895,
         10.037371836602688,
         10.098501093685627,
         10.158803708851337,
         10.079201877117157,
         9.979664988815784,
         10.087894298136234,
         10.029292032122612,
         10.123727709054947,
         10.096310012042522,
         10.09650881588459,
         10.078223645687103,
         10.077214285731316,
         10.112928420305252,
         10.071317441761494,
         10.112156264483929,
         10.062135368585587,
         10.055208370089531,
         10.032957799732685
        ],
        [
         3.005450197738406,
         3.015691505174109,
         2.9947494654546976,
         3.0381704566865606,
         3.017362045868203,
         3.015375230486872,
         3.017748186071796,
         3.0135547443496837,
         3.03306900250807,
         3.0236493873061945,
         2.9926405456428165,
         3.015241013455369,
         3.0110300200711606,
         3.022595799502455,
         3.0016783159890537,
         3.0143780801691986,
         3.0080650252115784,
         3.0119644865719253,
         3.026333150146316,
         3.005903414550723,
         3.0044082369775755,
         2.9964577206987695,
         2.9961422173278467,
         2.9887909718178793,
         2.998544429113037,
         3.0111135957096815,
         3.0048231269603094,
         3.0149312361591663,
         3.0056070901358396,
         3.026298457772377,
         2.990181839338031,
         2.9938618206301975,
         2.9951167574886544,
         3.0025650380115376,
         2.992628115282847,
         3.006792342959594,
         3.017623524223991,
         2.9801792453646474,
         3.026792601654015,
         2.9933949603713517,
         3.015842462355505,
         3.002626046193637,
         3.019904436225903,
         3.003922524353753,
         3.043463109740847,
         3.0066498356003644,
         3.0207435055836673,
         3.014161070834636,
         3.0184962127633415,
         2.9933075037199957,
         3.0038923473081374,
         3.0091162073006466,
         3.0201285597447405,
         3.002007053747734,
         2.986452533548806,
         3.009712771005572,
         3.0255838422361747,
         2.997844992093244,
         3.0169118815187668,
         3.0417247132537923,
         2.990823339805438,
         3.003066021287714,
         2.9960591095014117,
         2.988280725681754,
         3.0107796794220976,
         3.0132049415248603,
         2.9958558233252135,
         2.994883526217539,
         3.020775339646916,
         3.0216281660854705,
         2.9983503195778893,
         2.9877205444819603,
         3.006758489034052,
         3.0353543369831986,
         3.0022626251790228,
         3.0141734012019907,
         3.0221571122221325,
         3.011137740253287,
         2.9900115646609846,
         2.9937678448699163,
         3.0226030985631303,
         3.004834515585233,
         2.9942915229713805,
         2.996499139837688,
         3.02940292173936,
         2.997601208149734,
         2.9812313220373325,
         3.0127410698930506,
         3.006461670776448,
         3.0164245323579384,
         3.0201683396659873,
         3.0144676274234143,
         3.0027178393169174,
         3.01248424994419,
         3.030421015175197,
         3.007820140535177,
         3.0135001293813666,
         3.014853399367863,
         3.005439513445415,
         3.0032312891429966
        ]
       ],
       "encoder": "json",
       "name": "ABC_GAN_2 Metrics",
       "version": 1
      }
     },
     "metadata": {
      "scrapbook": {
       "data": true,
       "display": false,
       "name": "ABC_GAN_2 Metrics"
      }
     },
     "output_type": "display_data"
    },
    {
     "name": "stdout",
     "output_type": "stream",
     "text": [
      "MAE\n",
      "0.5036289090439677\n"
     ]
    }
   ],
   "source": [
    "ABC_GAN2_metrics=ABC_train_test2.test_generator(gen2,test_data,prior_model,variance,bias,\"1\",device)\n",
    "sb.glue(\"ABC_GAN_2 Metrics\",ABC_GAN2_metrics)\n",
    "\n",
    "print(\"MAE\")\n",
    "print(mean(ABC_GAN2_metrics[1]))"
   ]
  },
  {
   "cell_type": "code",
   "execution_count": 18,
   "id": "180bd415",
   "metadata": {
    "execution": {
     "iopub.execute_input": "2022-07-22T09:35:24.577211Z",
     "iopub.status.busy": "2022-07-22T09:35:24.576191Z",
     "iopub.status.idle": "2022-07-22T09:35:25.707410Z",
     "shell.execute_reply": "2022-07-22T09:35:25.706296Z"
    },
    "papermill": {
     "duration": 1.158648,
     "end_time": "2022-07-22T09:35:25.710422",
     "exception": false,
     "start_time": "2022-07-22T09:35:24.551774",
     "status": "completed"
    },
    "tags": []
   },
   "outputs": [
    {
     "data": {
      "image/png": "[encoded data removed]",
      "text/plain": [
       "<Figure size 432x288 with 1 Axes>"
      ]
     },
     "metadata": {
      "needs_background": "light"
     },
     "output_type": "display_data"
    },
    {
     "data": {
      "image/png": "[encoded data removed]",
      "text/plain": [
       "<Figure size 432x288 with 1 Axes>"
      ]
     },
     "metadata": {
      "needs_background": "light"
     },
     "output_type": "display_data"
    },
    {
     "data": {
      "image/png": "[encoded data removed]",
      "text/plain": [
       "<Figure size 432x288 with 1 Axes>"
      ]
     },
     "metadata": {
      "needs_background": "light"
     },
     "output_type": "display_data"
    },
    {
     "data": {
      "image/png": "[encoded data removed]",
      "text/plain": [
       "<Figure size 432x288 with 1 Axes>"
      ]
     },
     "metadata": {
      "needs_background": "light"
     },
     "output_type": "display_data"
    }
   ],
   "source": [
    "sanityChecks.discProbVsError(train_data,disc2,device)\n",
    "sanityChecks.discProbVsError(test_data,disc2,device)"
   ]
  },
  {
   "cell_type": "markdown",
   "id": "130f3a4d",
   "metadata": {
    "id": "130f3a4d",
    "papermill": {
     "duration": 0.02409,
     "end_time": "2022-07-22T09:35:25.756567",
     "exception": false,
     "start_time": "2022-07-22T09:35:25.732477",
     "status": "completed"
    },
    "tags": []
   },
   "source": [
    "# skipGAN Model"
   ]
  },
  {
   "cell_type": "code",
   "execution_count": 19,
   "id": "4e43dad1",
   "metadata": {
    "execution": {
     "iopub.execute_input": "2022-07-22T09:35:25.807664Z",
     "iopub.status.busy": "2022-07-22T09:35:25.807311Z",
     "iopub.status.idle": "2022-07-22T09:35:25.812584Z",
     "shell.execute_reply": "2022-07-22T09:35:25.811240Z"
    },
    "id": "4e43dad1",
    "papermill": {
     "duration": 0.033791,
     "end_time": "2022-07-22T09:35:25.815581",
     "exception": false,
     "start_time": "2022-07-22T09:35:25.781790",
     "status": "completed"
    },
    "tags": []
   },
   "outputs": [],
   "source": [
    "# #Generator\n",
    "# gen3 = network.GeneratorWithSkipConnection(n_features+1).to(device)\n",
    "# constraints=network.weightConstraint()\n",
    "# #Discriminator \n",
    "# disc3 = network.Discriminator(n_features+1).to(device)\n",
    "\n",
    "# criterion = torch.nn.BCELoss()\n",
    "# gen_opt = torch.optim.Adam(gen3.parameters(), lr=0.01, betas=(0.5, 0.999))\n",
    "# disc_opt = torch.optim.Adam(disc3.parameters(), lr=0.01, betas=(0.5, 0.999))\n"
   ]
  },
  {
   "cell_type": "code",
   "execution_count": 20,
   "id": "26acbc37",
   "metadata": {
    "execution": {
     "iopub.execute_input": "2022-07-22T09:35:25.868123Z",
     "iopub.status.busy": "2022-07-22T09:35:25.867784Z",
     "iopub.status.idle": "2022-07-22T09:35:25.874085Z",
     "shell.execute_reply": "2022-07-22T09:35:25.872123Z"
    },
    "id": "26acbc37",
    "papermill": {
     "duration": 0.033695,
     "end_time": "2022-07-22T09:35:25.877850",
     "exception": false,
     "start_time": "2022-07-22T09:35:25.844155",
     "status": "completed"
    },
    "tags": []
   },
   "outputs": [],
   "source": [
    "# ABC_train_test2.training_GAN_skip_connection(disc3,gen3,disc_opt,gen_opt,train_data,batch_size,n_epochs,criterion,prior_model,variance,bias,device)"
   ]
  },
  {
   "cell_type": "code",
   "execution_count": 21,
   "id": "c5e0717b",
   "metadata": {
    "execution": {
     "iopub.execute_input": "2022-07-22T09:35:25.931526Z",
     "iopub.status.busy": "2022-07-22T09:35:25.931136Z",
     "iopub.status.idle": "2022-07-22T09:35:25.936296Z",
     "shell.execute_reply": "2022-07-22T09:35:25.934978Z"
    },
    "id": "c5e0717b",
    "papermill": {
     "duration": 0.03496,
     "end_time": "2022-07-22T09:35:25.939273",
     "exception": false,
     "start_time": "2022-07-22T09:35:25.904313",
     "status": "completed"
    },
    "tags": []
   },
   "outputs": [],
   "source": [
    "# ABC_GAN3_metrics=ABC_train_test2.test_generator(gen3,test_data,prior_model,variance,bias,\"3\",device)\n",
    "# sb.glue(\"ABC_GAN_3 Metrics\",ABC_GAN3_metrics)\n",
    "\n",
    "# print(\"MAE\")\n",
    "# print(mean(ABC_GAN3_metrics[1]))"
   ]
  },
  {
   "cell_type": "code",
   "execution_count": 22,
   "id": "c8e46b48",
   "metadata": {
    "execution": {
     "iopub.execute_input": "2022-07-22T09:35:25.991045Z",
     "iopub.status.busy": "2022-07-22T09:35:25.990716Z",
     "iopub.status.idle": "2022-07-22T09:35:25.994910Z",
     "shell.execute_reply": "2022-07-22T09:35:25.993822Z"
    },
    "id": "c8e46b48",
    "papermill": {
     "duration": 0.034748,
     "end_time": "2022-07-22T09:35:25.998210",
     "exception": false,
     "start_time": "2022-07-22T09:35:25.963462",
     "status": "completed"
    },
    "tags": []
   },
   "outputs": [],
   "source": [
    "# sanityChecks.discProbVsError(train_data,disc3,device)\n",
    "# sanityChecks.discProbVsError(test_data,disc3,device)"
   ]
  },
  {
   "cell_type": "markdown",
   "id": "d97b0f61",
   "metadata": {
    "id": "130f3a4d",
    "papermill": {
     "duration": 0.022167,
     "end_time": "2022-07-22T09:35:26.042306",
     "exception": false,
     "start_time": "2022-07-22T09:35:26.020139",
     "status": "completed"
    },
    "tags": []
   },
   "source": [
    "# skipGAN Model with TabNet Generator"
   ]
  },
  {
   "cell_type": "code",
   "execution_count": 23,
   "id": "a712f484",
   "metadata": {
    "execution": {
     "iopub.execute_input": "2022-07-22T09:35:26.107611Z",
     "iopub.status.busy": "2022-07-22T09:35:26.106730Z",
     "iopub.status.idle": "2022-07-22T09:35:26.136435Z",
     "shell.execute_reply": "2022-07-22T09:35:26.135071Z"
    },
    "id": "4e43dad1",
    "papermill": {
     "duration": 0.069914,
     "end_time": "2022-07-22T09:35:26.139669",
     "exception": false,
     "start_time": "2022-07-22T09:35:26.069755",
     "status": "completed"
    },
    "tags": []
   },
   "outputs": [],
   "source": [
    "#Generator\n",
    "gen4 = network.GeneratorTabnetskipConnection(n_features+1).to(device)\n",
    "constraints=network.weightConstraint()\n",
    "#Discriminator \n",
    "disc4 = network.Discriminator(n_features+1).to(device)\n",
    "\n",
    "criterion = torch.nn.BCELoss()\n",
    "gen_opt = torch.optim.Adam(gen4.parameters(), lr=0.001, betas=(0.5, 0.999))\n",
    "disc_opt = torch.optim.Adam(disc4.parameters(), lr=0.001, betas=(0.5, 0.999))\n"
   ]
  },
  {
   "cell_type": "code",
   "execution_count": 24,
   "id": "7e9283ab",
   "metadata": {
    "execution": {
     "iopub.execute_input": "2022-07-22T09:35:26.202180Z",
     "iopub.status.busy": "2022-07-22T09:35:26.201869Z",
     "iopub.status.idle": "2022-07-22T09:40:49.983851Z",
     "shell.execute_reply": "2022-07-22T09:40:49.979932Z"
    },
    "id": "26acbc37",
    "papermill": {
     "duration": 323.819819,
     "end_time": "2022-07-22T09:40:49.988277",
     "exception": false,
     "start_time": "2022-07-22T09:35:26.168458",
     "status": "completed"
    },
    "tags": []
   },
   "outputs": [
    {
     "data": {
      "image/png": "[encoded data removed]",
      "text/plain": [
       "<Figure size 432x288 with 1 Axes>"
      ]
     },
     "metadata": {
      "needs_background": "light"
     },
     "output_type": "display_data"
    },
    {
     "data": {
      "image/png": "[encoded data removed]",
      "text/plain": [
       "<Figure size 432x288 with 1 Axes>"
      ]
     },
     "metadata": {
      "needs_background": "light"
     },
     "output_type": "display_data"
    }
   ],
   "source": [
    "ABC_train_test2.training_GAN_skip_connection(disc4,gen4,disc_opt,gen_opt,train_data,batch_size,n_epochs,criterion,prior_model,variance,bias,device)"
   ]
  },
  {
   "cell_type": "code",
   "execution_count": 25,
   "id": "a9e46b91",
   "metadata": {
    "execution": {
     "iopub.execute_input": "2022-07-22T09:40:50.074686Z",
     "iopub.status.busy": "2022-07-22T09:40:50.071375Z",
     "iopub.status.idle": "2022-07-22T09:40:52.204233Z",
     "shell.execute_reply": "2022-07-22T09:40:52.203069Z"
    },
    "id": "c5e0717b",
    "papermill": {
     "duration": 2.178299,
     "end_time": "2022-07-22T09:40:52.207110",
     "exception": false,
     "start_time": "2022-07-22T09:40:50.028811",
     "status": "completed"
    },
    "tags": []
   },
   "outputs": [
    {
     "data": {
      "application/scrapbook.scrap.json+json": {
       "data": 0.5153490515946904,
       "encoder": "json",
       "name": "ABC-GAN Model 3 MSE",
       "version": 1
      }
     },
     "metadata": {
      "scrapbook": {
       "data": true,
       "display": false,
       "name": "ABC-GAN Model 3 MSE"
      }
     },
     "output_type": "display_data"
    },
    {
     "data": {
      "application/scrapbook.scrap.json+json": {
       "data": 0.49094855070859195,
       "encoder": "json",
       "name": "ABC-GAN Model 3 MAE",
       "version": 1
      }
     },
     "metadata": {
      "scrapbook": {
       "data": true,
       "display": false,
       "name": "ABC-GAN Model 3 MAE"
      }
     },
     "output_type": "display_data"
    },
    {
     "data": {
      "application/scrapbook.scrap.json+json": {
       "data": 9.818971014171838,
       "encoder": "json",
       "name": "ABC-GAN Model 3 Manhattan Distance",
       "version": 1
      }
     },
     "metadata": {
      "scrapbook": {
       "data": true,
       "display": false,
       "name": "ABC-GAN Model 3 Manhattan Distance"
      }
     },
     "output_type": "display_data"
    },
    {
     "data": {
      "application/scrapbook.scrap.json+json": {
       "data": 3.2104402961790046,
       "encoder": "json",
       "name": "ABC-GAN Model 3 Euclidean distance",
       "version": 1
      }
     },
     "metadata": {
      "scrapbook": {
       "data": true,
       "display": false,
       "name": "ABC-GAN Model 3 Euclidean distance"
      }
     },
     "output_type": "display_data"
    },
    {
     "data": {
      "application/scrapbook.scrap.json+json": {
       "data": [
        [
         0.5116954684863435,
         0.5148448756607138,
         0.5134920258183697,
         0.5145642859948707,
         0.5177081088186488,
         0.5157440700718656,
         0.5187797319581151,
         0.5148401047720602,
         0.5103244671422705,
         0.5141226737353984,
         0.5147850667180525,
         0.5179317975142839,
         0.5130337134335626,
         0.5166441403416661,
         0.5133400277334993,
         0.5133782586593335,
         0.5142787769426862,
         0.5133426877874172,
         0.513916176175078,
         0.5163492392570428,
         0.51945040421961,
         0.5155056833113452,
         0.5162218329371909,
         0.5141545485658471,
         0.5160565375722717,
         0.5158353627122011,
         0.5152661671706336,
         0.5159097050682163,
         0.5205122431533075,
         0.5151892834606324,
         0.5160907057833433,
         0.5138326552713594,
         0.5145339971405899,
         0.5173370568861,
         0.5146988788227134,
         0.5178344715394434,
         0.518042718835974,
         0.5146069370294174,
         0.5148447155559066,
         0.5170324206444931,
         0.514951291014347,
         0.5167161980868213,
         0.5109014021071018,
         0.5176611335339738,
         0.5114423974706679,
         0.5173652570473732,
         0.5181293100616575,
         0.5154113977346956,
         0.5180916272753308,
         0.5132488809447888,
         0.514244424313737,
         0.516343086674542,
         0.5144679639671595,
         0.5194257569996978,
         0.5128123915917235,
         0.5152124008965756,
         0.5160856741158176,
         0.5175482764595964,
         0.5177537126184633,
         0.5168167014152514,
         0.512507745488173,
         0.513530760625912,
         0.5177421341946712,
         0.5163451745622721,
         0.5149090281886115,
         0.5147672207969762,
         0.5138919665118877,
         0.5161591048614902,
         0.5146811863735469,
         0.5095839835071433,
         0.5164618585702353,
         0.5144511423514773,
         0.5155062557088887,
         0.5180045053112579,
         0.5155262137908118,
         0.5124907292636907,
         0.5126357117630107,
         0.515493973624783,
         0.5150798317092301,
         0.5214595770529569,
         0.5137816153448886,
         0.5135363170457942,
         0.5148351062935962,
         0.5105219805532418,
         0.5154100065737522,
         0.5130241624858308,
         0.5143248373908018,
         0.5163319716594684,
         0.5201041345588701,
         0.5154757736970293,
         0.5127176902779444,
         0.5094302859642643,
         0.5142764229920533,
         0.5162346662490319,
         0.5170075826646763,
         0.5119100230194314,
         0.5163750371728918,
         0.5170446884095921,
         0.520540182448702,
         0.5200932633789461
        ],
        [
         0.4895511411130428,
         0.4902531422674656,
         0.49450016357004645,
         0.4883611150085926,
         0.49489709064364434,
         0.49032583422958853,
         0.4950895681977272,
         0.49351960197091105,
         0.48649759218096733,
         0.4866476163268089,
         0.49188908860087394,
         0.49216865599155424,
         0.4878893233835697,
         0.4891964517533779,
         0.491467060148716,
         0.4889185465872288,
         0.4895405311137438,
         0.4930380716919899,
         0.48916114754974843,
         0.4927345260977745,
         0.4933816876262426,
         0.4881928119808435,
         0.49133840054273603,
         0.4899356458336115,
         0.4932309541851282,
         0.49073369465768335,
         0.4916589420288801,
         0.490982498973608,
         0.49192112796008586,
         0.49016995579004285,
         0.49060846157371996,
         0.49005373641848565,
         0.4911085952073336,
         0.49083915576338766,
         0.4905177537351847,
         0.49081911481916907,
         0.49289159290492535,
         0.48929551281034944,
         0.49276097007095815,
         0.49136144369840623,
         0.4914056215435266,
         0.4939565386623144,
         0.4891658842563629,
         0.49364001117646694,
         0.4896224595606327,
         0.49169415757060053,
         0.49107910692691803,
         0.49142127074301245,
         0.49268819838762284,
         0.48929514177143574,
         0.48929052278399465,
         0.49431919641792776,
         0.4915249619632959,
         0.4902273528277874,
         0.49206287413835526,
         0.4891225013881922,
         0.4909289889037609,
         0.49221682287752627,
         0.4917241703718901,
         0.49039481580257416,
         0.48989414758980276,
         0.49253339134156704,
         0.4921873822808266,
         0.493117219209671,
         0.49248658306896687,
         0.49201406389474867,
         0.4872143018990755,
         0.491547292470932,
         0.48933135308325293,
         0.4911250229924917,
         0.49169060699641703,
         0.4920901536941528,
         0.4887464739382267,
         0.49048007763922213,
         0.4909290786832571,
         0.48736834675073626,
         0.4905407004058361,
         0.49032290242612364,
         0.48922622837126256,
         0.4923199687153101,
         0.4913761179894209,
         0.4916564177721739,
         0.49182756021618845,
         0.48909523002803323,
         0.48978901877999304,
         0.48832499943673613,
         0.48960145860910415,
         0.4922255169600248,
         0.49152899868786337,
         0.4933658506721258,
         0.4918057404458523,
         0.48954258374869825,
         0.48950128965079787,
         0.4900491591542959,
         0.49236427173018454,
         0.489463360235095,
         0.48621794283390046,
         0.49246541522443293,
         0.49196552149951456,
         0.494294398650527
        ],
        [
         9.791022822260857,
         9.805062845349312,
         9.890003271400928,
         9.767222300171852,
         9.897941812872887,
         9.80651668459177,
         9.901791363954544,
         9.87039203941822,
         9.729951843619347,
         9.732952326536179,
         9.837781772017479,
         9.843373119831085,
         9.757786467671394,
         9.783929035067558,
         9.82934120297432,
         9.778370931744576,
         9.790810622274876,
         9.860761433839798,
         9.783222950994968,
         9.85469052195549,
         9.867633752524853,
         9.76385623961687,
         9.826768010854721,
         9.79871291667223,
         9.864619083702564,
         9.814673893153667,
         9.833178840577602,
         9.81964997947216,
         9.838422559201717,
         9.803399115800858,
         9.8121692314744,
         9.801074728369713,
         9.822171904146671,
         9.816783115267754,
         9.810355074703693,
         9.816382296383381,
         9.857831858098507,
         9.78591025620699,
         9.855219401419163,
         9.827228873968124,
         9.828112430870533,
         9.879130773246288,
         9.783317685127258,
         9.872800223529339,
         9.792449191212654,
         9.83388315141201,
         9.82158213853836,
         9.828425414860249,
         9.853763967752457,
         9.785902835428715,
         9.785810455679893,
         9.886383928358555,
         9.830499239265919,
         9.804547056555748,
         9.841257482767105,
         9.782450027763844,
         9.818579778075218,
         9.844336457550526,
         9.834483407437801,
         9.807896316051483,
         9.797882951796055,
         9.85066782683134,
         9.843747645616531,
         9.86234438419342,
         9.849731661379337,
         9.840281277894974,
         9.74428603798151,
         9.83094584941864,
         9.786627061665058,
         9.822500459849834,
         9.833812139928341,
         9.841803073883057,
         9.774929478764534,
         9.809601552784443,
         9.818581573665142,
         9.747366935014725,
         9.810814008116722,
         9.806458048522472,
         9.784524567425251,
         9.846399374306202,
         9.827522359788418,
         9.833128355443478,
         9.836551204323769,
         9.781904600560665,
         9.795780375599861,
         9.766499988734722,
         9.792029172182083,
         9.844510339200497,
         9.830579973757267,
         9.867317013442516,
         9.836114808917046,
         9.790851674973965,
         9.790025793015957,
         9.800983183085918,
         9.847285434603691,
         9.7892672047019,
         9.724358856678009,
         9.849308304488659,
         9.839310429990292,
         9.88588797301054
        ],
        [
         3.199048197468564,
         3.208877921207704,
         3.2046591888011107,
         3.2080033852690075,
         3.2177883983215825,
         3.2116789069639746,
         3.2211169862583855,
         3.208863053394645,
         3.194759669027611,
         3.206626494418701,
         3.2086915299481578,
         3.2184834860980223,
         3.2032287256253262,
         3.2144801767678266,
         3.2041848502653503,
         3.204304163650303,
         3.2071132719088244,
         3.2041931520662645,
         3.205982458389559,
         3.2135626312771404,
         3.223198424607489,
         3.210936571504785,
         3.2131661424121565,
         3.206725895881489,
         3.212651669796375,
         3.211963146464172,
         3.210190546278004,
         3.2121945926989426,
         3.226491106925006,
         3.2099510384447685,
         3.2127580232048083,
         3.205721932018931,
         3.207908967351131,
         3.216635064430219,
         3.20842291109733,
         3.2181810748913535,
         3.2188281061155597,
         3.2081363344765057,
         3.2088774222643863,
         3.2156878599904344,
         3.2092095320011342,
         3.214704335041782,
         3.1965650379965735,
         3.2176424087644477,
         3.198257017410164,
         3.216722732991991,
         3.2190971096307655,
         3.210642919213208,
         3.2189800473918155,
         3.2039003759317763,
         3.2070061562576924,
         3.2135434855453315,
         3.2077031158358764,
         3.2231219554950066,
         3.202537717472578,
         3.2100230556697738,
         3.2127423616462547,
         3.2172916450318776,
         3.217930119248904,
         3.2150169561458033,
         3.20158631146553,
         3.2047800568086164,
         3.21789413808059,
         3.213549982689773,
         3.20907783697626,
         3.208635912025471,
         3.2059069434775793,
         3.21297091446994,
         3.208367766866968,
         3.192441020620877,
         3.213913062203878,
         3.207650674096159,
         3.2109383541540897,
         3.218709385176791,
         3.211000510092802,
         3.2015331616701728,
         3.2019859829893407,
         3.2109001031635445,
         3.20961004394375,
         3.2294258841254027,
         3.2055627129878106,
         3.204797394675033,
         3.2088474762555985,
         3.1953778510631317,
         3.2106385862434044,
         3.203198908859176,
         3.207256888341817,
         3.2135088973253785,
         3.225225990714046,
         3.2108434209628767,
         3.2022419967202493,
         3.1919595422381666,
         3.2071059321202764,
         3.2132060819344654,
         3.215610619041666,
         3.1997188095813405,
         3.2136429085164138,
         3.2157260095026503,
         3.2265776991998876,
         3.2251922838148612
        ]
       ],
       "encoder": "json",
       "name": "ABC_GAN_4 Metrics",
       "version": 1
      }
     },
     "metadata": {
      "scrapbook": {
       "data": true,
       "display": false,
       "name": "ABC_GAN_4 Metrics"
      }
     },
     "output_type": "display_data"
    },
    {
     "name": "stdout",
     "output_type": "stream",
     "text": [
      "MAE\n",
      "0.49094855070859195\n"
     ]
    }
   ],
   "source": [
    "ABC_GAN4_metrics=ABC_train_test2.test_generator(gen4,test_data,prior_model,variance,bias,\"3\",device)\n",
    "sb.glue(\"ABC_GAN_4 Metrics\",ABC_GAN4_metrics)\n",
    "\n",
    "print(\"MAE\")\n",
    "print(mean(ABC_GAN4_metrics[1]))"
   ]
  },
  {
   "cell_type": "code",
   "execution_count": 26,
   "id": "8c4c1f00",
   "metadata": {
    "execution": {
     "iopub.execute_input": "2022-07-22T09:40:52.267177Z",
     "iopub.status.busy": "2022-07-22T09:40:52.266853Z",
     "iopub.status.idle": "2022-07-22T09:40:53.707406Z",
     "shell.execute_reply": "2022-07-22T09:40:53.706232Z"
    },
    "id": "c8e46b48",
    "papermill": {
     "duration": 1.474224,
     "end_time": "2022-07-22T09:40:53.710197",
     "exception": false,
     "start_time": "2022-07-22T09:40:52.235973",
     "status": "completed"
    },
    "tags": []
   },
   "outputs": [
    {
     "data": {
      "image/png": "[encoded data removed]",
      "text/plain": [
       "<Figure size 432x288 with 1 Axes>"
      ]
     },
     "metadata": {
      "needs_background": "light"
     },
     "output_type": "display_data"
    },
    {
     "data": {
      "image/png": "[encoded data removed]",
      "text/plain": [
       "<Figure size 432x288 with 1 Axes>"
      ]
     },
     "metadata": {
      "needs_background": "light"
     },
     "output_type": "display_data"
    },
    {
     "data": {
      "image/png": "[encoded data removed]",
      "text/plain": [
       "<Figure size 432x288 with 1 Axes>"
      ]
     },
     "metadata": {
      "needs_background": "light"
     },
     "output_type": "display_data"
    },
    {
     "data": {
      "image/png": "[encoded data removed]",
      "text/plain": [
       "<Figure size 432x288 with 1 Axes>"
      ]
     },
     "metadata": {
      "needs_background": "light"
     },
     "output_type": "display_data"
    }
   ],
   "source": [
    "sanityChecks.discProbVsError(train_data,disc4,device)\n",
    "sanityChecks.discProbVsError(test_data,disc4,device)"
   ]
  },
  {
   "cell_type": "markdown",
   "id": "a5bd74c3",
   "metadata": {
    "id": "a5bd74c3",
    "papermill": {
     "duration": 0.028345,
     "end_time": "2022-07-22T09:40:53.769832",
     "exception": false,
     "start_time": "2022-07-22T09:40:53.741487",
     "status": "completed"
    },
    "tags": []
   },
   "source": [
    "## Skip Connection Model Analysis - ABC-GAN "
   ]
  },
  {
   "cell_type": "markdown",
   "id": "5744a8bf",
   "metadata": {
    "id": "5744a8bf",
    "papermill": {
     "duration": 0.030833,
     "end_time": "2022-07-22T09:40:53.835309",
     "exception": false,
     "start_time": "2022-07-22T09:40:53.804476",
     "status": "completed"
    },
    "tags": []
   },
   "source": [
    "### Weight Analysis \n",
    "\n",
    "Study the weights of the skip connection layer\n",
    "\n",
    "Equation of the skip connection is \n",
    "\n",
    "$output = y_{gan} * w + y_{abc} * (1-w)$"
   ]
  },
  {
   "cell_type": "code",
   "execution_count": 27,
   "id": "52c31dea",
   "metadata": {
    "execution": {
     "iopub.execute_input": "2022-07-22T09:40:53.901101Z",
     "iopub.status.busy": "2022-07-22T09:40:53.900484Z",
     "iopub.status.idle": "2022-07-22T09:40:53.909458Z",
     "shell.execute_reply": "2022-07-22T09:40:53.903981Z"
    },
    "id": "52c31dea",
    "papermill": {
     "duration": 0.043333,
     "end_time": "2022-07-22T09:40:53.912813",
     "exception": false,
     "start_time": "2022-07-22T09:40:53.869480",
     "status": "completed"
    },
    "tags": []
   },
   "outputs": [],
   "source": [
    "# print(\"Weight of the node at skip connection\")\n",
    "# for name,param in gen3.named_parameters():\n",
    "#     if(name == \"skipNode.weight\"):\n",
    "#         print(param)\n",
    "#         sb.glue(\"Skip Connection Weight\",param.item())"
   ]
  },
  {
   "cell_type": "markdown",
   "id": "18088fdf",
   "metadata": {
    "id": "a5bd74c3",
    "papermill": {
     "duration": 0.030524,
     "end_time": "2022-07-22T09:40:53.972668",
     "exception": false,
     "start_time": "2022-07-22T09:40:53.942144",
     "status": "completed"
    },
    "tags": []
   },
   "source": [
    "## skipGAN Model Analysis (TabNet Generator) "
   ]
  },
  {
   "cell_type": "markdown",
   "id": "23f703c4",
   "metadata": {
    "id": "5744a8bf",
    "papermill": {
     "duration": 0.046877,
     "end_time": "2022-07-22T09:40:54.052194",
     "exception": false,
     "start_time": "2022-07-22T09:40:54.005317",
     "status": "completed"
    },
    "tags": []
   },
   "source": [
    "### Weight Analysis \n",
    "\n",
    "Study the weights of the skip connection layer\n",
    "\n",
    "Equation of the skip connection is \n",
    "\n",
    "$output = y_{gan} * w + y_{abc} * (1-w)$"
   ]
  },
  {
   "cell_type": "code",
   "execution_count": 28,
   "id": "4a9b87ce",
   "metadata": {
    "execution": {
     "iopub.execute_input": "2022-07-22T09:40:54.139546Z",
     "iopub.status.busy": "2022-07-22T09:40:54.138937Z",
     "iopub.status.idle": "2022-07-22T09:40:54.156833Z",
     "shell.execute_reply": "2022-07-22T09:40:54.155282Z"
    },
    "id": "52c31dea",
    "papermill": {
     "duration": 0.066825,
     "end_time": "2022-07-22T09:40:54.161577",
     "exception": false,
     "start_time": "2022-07-22T09:40:54.094752",
     "status": "completed"
    },
    "tags": []
   },
   "outputs": [
    {
     "name": "stdout",
     "output_type": "stream",
     "text": [
      "Weight of the node at skip connection\n",
      "Parameter containing:\n",
      "tensor([[0.1254]], requires_grad=True)\n"
     ]
    },
    {
     "data": {
      "application/scrapbook.scrap.json+json": {
       "data": 0.12535172700881958,
       "encoder": "json",
       "name": "Skip Connection Weight",
       "version": 1
      }
     },
     "metadata": {
      "scrapbook": {
       "data": true,
       "display": false,
       "name": "Skip Connection Weight"
      }
     },
     "output_type": "display_data"
    }
   ],
   "source": [
    "print(\"Weight of the node at skip connection\")\n",
    "for name,param in gen4.named_parameters():\n",
    "    if(name == \"skipNode.weight\"):\n",
    "        print(param)\n",
    "        sb.glue(\"Skip Connection Weight\",param.item())"
   ]
  }
 ],
 "metadata": {
  "colab": {
   "collapsed_sections": [],
   "name": "ABC_GAN_Model-Catboost_Pre-gen.ipynb",
   "provenance": []
  },
  "interpreter": {
   "hash": "31f2aee4e71d21fbe5cf8b01ff0e069b9275f58929596ceb00d14d90e3e16cd6"
  },
  "kernelspec": {
   "display_name": "Python 3 (ipykernel)",
   "language": "python",
   "name": "python3"
  },
  "language_info": {
   "codemirror_mode": {
    "name": "ipython",
    "version": 3
   },
   "file_extension": ".py",
   "mimetype": "text/x-python",
   "name": "python",
   "nbconvert_exporter": "python",
   "pygments_lexer": "ipython3",
   "version": "3.8.13"
  },
  "papermill": {
   "default_parameters": {},
   "duration": 836.583981,
   "end_time": "2022-07-22T09:40:55.173209",
   "environment_variables": {},
   "exception": null,
   "input_path": "ABC_GAN-TabNet.ipynb",
   "output_path": "./ABC_GAN_TabNet/ABC-GAN_output_1_11.ipynb",
   "parameters": {
    "bias": 0,
    "variance": 0.01
   },
   "start_time": "2022-07-22T09:26:58.589228",
   "version": "2.3.3"
  }
 },
 "nbformat": 4,
 "nbformat_minor": 5
}