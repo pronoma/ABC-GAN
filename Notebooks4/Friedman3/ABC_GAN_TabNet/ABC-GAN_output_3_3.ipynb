{
 "cells": [
  {
   "cell_type": "markdown",
   "id": "622780e6",
   "metadata": {
    "id": "622780e6",
    "papermill": {
     "duration": 0.033913,
     "end_time": "2022-07-22T11:44:14.329570",
     "exception": false,
     "start_time": "2022-07-22T11:44:14.295657",
     "status": "completed"
    },
    "tags": []
   },
   "source": [
    "## Import Libraries "
   ]
  },
  {
   "cell_type": "code",
   "execution_count": 1,
   "id": "a62397e3",
   "metadata": {
    "execution": {
     "iopub.execute_input": "2022-07-22T11:44:14.417372Z",
     "iopub.status.busy": "2022-07-22T11:44:14.416619Z",
     "iopub.status.idle": "2022-07-22T11:44:14.441486Z",
     "shell.execute_reply": "2022-07-22T11:44:14.439069Z"
    },
    "id": "a62397e3",
    "papermill": {
     "duration": 0.050082,
     "end_time": "2022-07-22T11:44:14.448398",
     "exception": false,
     "start_time": "2022-07-22T11:44:14.398316",
     "status": "completed"
    },
    "tags": []
   },
   "outputs": [],
   "source": [
    "import warnings\n",
    "import sys\n",
    "sys.path.insert(0, '../../src')\n",
    "warnings.filterwarnings('ignore')"
   ]
  },
  {
   "cell_type": "code",
   "execution_count": 2,
   "id": "d6a4e155",
   "metadata": {
    "execution": {
     "iopub.execute_input": "2022-07-22T11:44:14.519147Z",
     "iopub.status.busy": "2022-07-22T11:44:14.518374Z",
     "iopub.status.idle": "2022-07-22T11:44:22.220265Z",
     "shell.execute_reply": "2022-07-22T11:44:22.219061Z"
    },
    "id": "d6a4e155",
    "papermill": {
     "duration": 7.757024,
     "end_time": "2022-07-22T11:44:22.226924",
     "exception": false,
     "start_time": "2022-07-22T11:44:14.469900",
     "status": "completed"
    },
    "tags": []
   },
   "outputs": [],
   "source": [
    "import ABC_train_test2\n",
    "import friedman3Dataset\n",
    "import network\n",
    "import dataset\n",
    "import sanityChecks\n",
    "import torch \n",
    "import scrapbook as sb\n",
    "from statistics import mean \n",
    "import catboost as ctb \n",
    "from sklearn.model_selection import train_test_split\n",
    "from sklearn.metrics import mean_squared_error,mean_absolute_error\n",
    "import numpy as np\n",
    "from pytorch_tabnet.tab_model import TabNetRegressor"
   ]
  },
  {
   "cell_type": "markdown",
   "id": "2fa5b0f7",
   "metadata": {
    "id": "2fa5b0f7",
    "papermill": {
     "duration": 0.007028,
     "end_time": "2022-07-22T11:44:22.245715",
     "exception": false,
     "start_time": "2022-07-22T11:44:22.238687",
     "status": "completed"
    },
    "tags": []
   },
   "source": [
    "## Parameters "
   ]
  },
  {
   "cell_type": "code",
   "execution_count": 3,
   "id": "783186fb",
   "metadata": {
    "execution": {
     "iopub.execute_input": "2022-07-22T11:44:22.263194Z",
     "iopub.status.busy": "2022-07-22T11:44:22.262757Z",
     "iopub.status.idle": "2022-07-22T11:44:22.268840Z",
     "shell.execute_reply": "2022-07-22T11:44:22.267576Z"
    },
    "id": "783186fb",
    "papermill": {
     "duration": 0.019581,
     "end_time": "2022-07-22T11:44:22.272966",
     "exception": false,
     "start_time": "2022-07-22T11:44:22.253385",
     "status": "completed"
    },
    "tags": [
     "parameters"
    ]
   },
   "outputs": [],
   "source": [
    "variance = 1\n",
    "bias = 1 "
   ]
  },
  {
   "cell_type": "code",
   "execution_count": 4,
   "id": "5914e7c6",
   "metadata": {
    "execution": {
     "iopub.execute_input": "2022-07-22T11:44:22.294852Z",
     "iopub.status.busy": "2022-07-22T11:44:22.294206Z",
     "iopub.status.idle": "2022-07-22T11:44:22.301159Z",
     "shell.execute_reply": "2022-07-22T11:44:22.300075Z"
    },
    "papermill": {
     "duration": 0.019929,
     "end_time": "2022-07-22T11:44:22.304186",
     "exception": false,
     "start_time": "2022-07-22T11:44:22.284257",
     "status": "completed"
    },
    "tags": [
     "injected-parameters"
    ]
   },
   "outputs": [],
   "source": [
    "# Parameters\n",
    "variance = 1\n",
    "bias = 0.1\n"
   ]
  },
  {
   "cell_type": "markdown",
   "id": "391cdbfd",
   "metadata": {
    "id": "391cdbfd",
    "papermill": {
     "duration": 0.013655,
     "end_time": "2022-07-22T11:44:22.325563",
     "exception": false,
     "start_time": "2022-07-22T11:44:22.311908",
     "status": "completed"
    },
    "tags": []
   },
   "source": [
    "## Dataset \n"
   ]
  },
  {
   "cell_type": "code",
   "execution_count": 5,
   "id": "5b51f161",
   "metadata": {
    "execution": {
     "iopub.execute_input": "2022-07-22T11:44:22.347671Z",
     "iopub.status.busy": "2022-07-22T11:44:22.347259Z",
     "iopub.status.idle": "2022-07-22T11:44:22.354146Z",
     "shell.execute_reply": "2022-07-22T11:44:22.352181Z"
    },
    "id": "5b51f161",
    "papermill": {
     "duration": 0.020224,
     "end_time": "2022-07-22T11:44:22.357122",
     "exception": false,
     "start_time": "2022-07-22T11:44:22.336898",
     "status": "completed"
    },
    "tags": []
   },
   "outputs": [],
   "source": [
    "#Parameters \n",
    "n_features = 4\n",
    "n_samples= 100\n",
    "n_target = 1"
   ]
  },
  {
   "cell_type": "code",
   "execution_count": 6,
   "id": "5d6eced4",
   "metadata": {
    "execution": {
     "iopub.execute_input": "2022-07-22T11:44:22.382628Z",
     "iopub.status.busy": "2022-07-22T11:44:22.378920Z",
     "iopub.status.idle": "2022-07-22T11:44:22.402782Z",
     "shell.execute_reply": "2022-07-22T11:44:22.400965Z"
    },
    "id": "5d6eced4",
    "papermill": {
     "duration": 0.041901,
     "end_time": "2022-07-22T11:44:22.406629",
     "exception": false,
     "start_time": "2022-07-22T11:44:22.364728",
     "status": "completed"
    },
    "tags": []
   },
   "outputs": [
    {
     "name": "stdout",
     "output_type": "stream",
     "text": [
      "          X1           X2        X3         X4         Y\n",
      "0   7.314211  1060.617671  0.591372   2.456623  1.574758\n",
      "1  24.970523  1559.141884  0.128584   7.185496  1.419550\n",
      "2   7.801807   762.251497  0.011242  10.946274  0.885624\n",
      "3  27.697540  1246.475825  0.761881   8.671474  1.513475\n",
      "4  94.941637   450.344708  0.379274  10.495652  0.989207\n"
     ]
    }
   ],
   "source": [
    "X,Y = friedman3Dataset.friedman3_data(n_samples)"
   ]
  },
  {
   "cell_type": "code",
   "execution_count": 7,
   "id": "fe007438",
   "metadata": {
    "execution": {
     "iopub.execute_input": "2022-07-22T11:44:22.427376Z",
     "iopub.status.busy": "2022-07-22T11:44:22.426635Z",
     "iopub.status.idle": "2022-07-22T11:44:22.434070Z",
     "shell.execute_reply": "2022-07-22T11:44:22.432942Z"
    },
    "id": "fe007438",
    "papermill": {
     "duration": 0.023415,
     "end_time": "2022-07-22T11:44:22.438388",
     "exception": false,
     "start_time": "2022-07-22T11:44:22.414973",
     "status": "completed"
    },
    "tags": []
   },
   "outputs": [],
   "source": [
    "#Train test split for dataset \n",
    "X_train,X_test,Y_train,Y_test = train_test_split(X,Y,test_size = 0.2)\n",
    "train_data = dataset.CustomDataset(X_train,Y_train)\n",
    "test_data = dataset.CustomDataset(X_test,Y_test)\n"
   ]
  },
  {
   "cell_type": "markdown",
   "id": "a9a1af34",
   "metadata": {
    "id": "a9a1af34",
    "papermill": {
     "duration": 0.008778,
     "end_time": "2022-07-22T11:44:22.454778",
     "exception": false,
     "start_time": "2022-07-22T11:44:22.446000",
     "status": "completed"
    },
    "tags": []
   },
   "source": [
    "## Training Parameters "
   ]
  },
  {
   "cell_type": "code",
   "execution_count": 8,
   "id": "952b7fc8",
   "metadata": {
    "execution": {
     "iopub.execute_input": "2022-07-22T11:44:22.474910Z",
     "iopub.status.busy": "2022-07-22T11:44:22.474408Z",
     "iopub.status.idle": "2022-07-22T11:44:22.481723Z",
     "shell.execute_reply": "2022-07-22T11:44:22.479874Z"
    },
    "id": "952b7fc8",
    "papermill": {
     "duration": 0.022735,
     "end_time": "2022-07-22T11:44:22.485826",
     "exception": false,
     "start_time": "2022-07-22T11:44:22.463091",
     "status": "completed"
    },
    "tags": []
   },
   "outputs": [],
   "source": [
    "batch_size = 32\n",
    "n_epochs = 1000\n",
    "#Select the device \n",
    "device = torch.device('cuda' if torch.cuda.is_available() else 'cpu')"
   ]
  },
  {
   "cell_type": "markdown",
   "id": "a95e1600",
   "metadata": {
    "id": "a95e1600",
    "papermill": {
     "duration": 0.011561,
     "end_time": "2022-07-22T11:44:22.505818",
     "exception": false,
     "start_time": "2022-07-22T11:44:22.494257",
     "status": "completed"
    },
    "tags": []
   },
   "source": [
    "# ABC Pre-generator Model \n",
    "\n",
    "1. The catboost model is used as a pre-generator model for the ABC-GAN. \n",
    "2. The model is first trained on the entire dataset \n",
    "3. It generats X,Y pairs and we add some Gaussian noise with mean 0 and variance 1 to it which is then feed as input to the generator.\n"
   ]
  },
  {
   "cell_type": "code",
   "execution_count": 9,
   "id": "ac011ebf",
   "metadata": {
    "execution": {
     "iopub.execute_input": "2022-07-22T11:44:22.543950Z",
     "iopub.status.busy": "2022-07-22T11:44:22.543341Z",
     "iopub.status.idle": "2022-07-22T11:45:12.358858Z",
     "shell.execute_reply": "2022-07-22T11:45:12.357543Z"
    },
    "papermill": {
     "duration": 49.829599,
     "end_time": "2022-07-22T11:45:12.361746",
     "exception": false,
     "start_time": "2022-07-22T11:44:22.532147",
     "status": "completed"
    },
    "tags": []
   },
   "outputs": [
    {
     "name": "stdout",
     "output_type": "stream",
     "text": [
      "Device used : cpu\n"
     ]
    },
    {
     "name": "stdout",
     "output_type": "stream",
     "text": [
      "epoch 0  | loss: 1.11677 | train_mse: 4.28202 | train_mae: 1.48494 |  0:00:00s\n",
      "epoch 1  | loss: 1.26412 | train_mse: 3.4188  | train_mae: 1.3873  |  0:00:00s\n",
      "epoch 2  | loss: 0.9852  | train_mse: 2.82362 | train_mae: 1.24833 |  0:00:00s\n"
     ]
    },
    {
     "name": "stdout",
     "output_type": "stream",
     "text": [
      "epoch 3  | loss: 0.77618 | train_mse: 2.30772 | train_mae: 1.1339  |  0:00:00s\n",
      "epoch 4  | loss: 0.78436 | train_mse: 2.02275 | train_mae: 1.07608 |  0:00:00s\n"
     ]
    },
    {
     "name": "stdout",
     "output_type": "stream",
     "text": [
      "epoch 5  | loss: 0.66951 | train_mse: 1.96618 | train_mae: 1.05356 |  0:00:00s\n",
      "epoch 6  | loss: 0.65438 | train_mse: 1.87071 | train_mae: 0.99119 |  0:00:00s\n",
      "epoch 7  | loss: 0.52372 | train_mse: 1.6084  | train_mae: 0.91377 |  0:00:00s\n"
     ]
    },
    {
     "name": "stdout",
     "output_type": "stream",
     "text": [
      "epoch 8  | loss: 0.53241 | train_mse: 1.43717 | train_mae: 0.87511 |  0:00:01s\n",
      "epoch 9  | loss: 0.58314 | train_mse: 1.28699 | train_mae: 0.82336 |  0:00:01s\n"
     ]
    },
    {
     "name": "stdout",
     "output_type": "stream",
     "text": [
      "epoch 10 | loss: 0.48733 | train_mse: 1.1541  | train_mae: 0.78575 |  0:00:01s\n",
      "epoch 11 | loss: 0.54441 | train_mse: 1.01625 | train_mae: 0.74298 |  0:00:01s\n"
     ]
    },
    {
     "name": "stdout",
     "output_type": "stream",
     "text": [
      "epoch 12 | loss: 0.43519 | train_mse: 0.91381 | train_mae: 0.70199 |  0:00:01s\n",
      "epoch 13 | loss: 0.38778 | train_mse: 0.8243  | train_mae: 0.66381 |  0:00:01s\n"
     ]
    },
    {
     "name": "stdout",
     "output_type": "stream",
     "text": [
      "epoch 14 | loss: 0.36732 | train_mse: 0.70983 | train_mae: 0.62362 |  0:00:01s\n",
      "epoch 15 | loss: 0.36613 | train_mse: 0.62958 | train_mae: 0.59149 |  0:00:02s\n"
     ]
    },
    {
     "name": "stdout",
     "output_type": "stream",
     "text": [
      "epoch 16 | loss: 0.53103 | train_mse: 0.58488 | train_mae: 0.5729  |  0:00:02s\n",
      "epoch 17 | loss: 0.37386 | train_mse: 0.54449 | train_mae: 0.55293 |  0:00:02s\n"
     ]
    },
    {
     "name": "stdout",
     "output_type": "stream",
     "text": [
      "epoch 18 | loss: 0.42139 | train_mse: 0.51231 | train_mae: 0.53811 |  0:00:02s\n",
      "epoch 19 | loss: 0.46042 | train_mse: 0.48341 | train_mae: 0.52258 |  0:00:02s\n"
     ]
    },
    {
     "name": "stdout",
     "output_type": "stream",
     "text": [
      "epoch 20 | loss: 0.36876 | train_mse: 0.45361 | train_mae: 0.50869 |  0:00:02s\n",
      "epoch 21 | loss: 0.46734 | train_mse: 0.41275 | train_mae: 0.48766 |  0:00:02s\n"
     ]
    },
    {
     "name": "stdout",
     "output_type": "stream",
     "text": [
      "epoch 22 | loss: 0.30794 | train_mse: 0.37523 | train_mae: 0.46693 |  0:00:02s\n",
      "epoch 23 | loss: 0.43392 | train_mse: 0.35326 | train_mae: 0.45324 |  0:00:03s\n"
     ]
    },
    {
     "name": "stdout",
     "output_type": "stream",
     "text": [
      "epoch 24 | loss: 0.32315 | train_mse: 0.31713 | train_mae: 0.43315 |  0:00:03s\n",
      "epoch 25 | loss: 0.34003 | train_mse: 0.29597 | train_mae: 0.41956 |  0:00:03s\n"
     ]
    },
    {
     "name": "stdout",
     "output_type": "stream",
     "text": [
      "epoch 26 | loss: 0.28511 | train_mse: 0.28624 | train_mae: 0.41152 |  0:00:03s\n",
      "epoch 27 | loss: 0.24697 | train_mse: 0.29005 | train_mae: 0.40928 |  0:00:03s\n"
     ]
    },
    {
     "name": "stdout",
     "output_type": "stream",
     "text": [
      "epoch 28 | loss: 0.39561 | train_mse: 0.29372 | train_mae: 0.40788 |  0:00:03s\n",
      "epoch 29 | loss: 0.45111 | train_mse: 0.2807  | train_mae: 0.39786 |  0:00:03s\n"
     ]
    },
    {
     "name": "stdout",
     "output_type": "stream",
     "text": [
      "epoch 30 | loss: 0.24031 | train_mse: 0.26913 | train_mae: 0.38786 |  0:00:03s\n",
      "epoch 31 | loss: 0.24719 | train_mse: 0.2551  | train_mae: 0.37865 |  0:00:03s\n"
     ]
    },
    {
     "name": "stdout",
     "output_type": "stream",
     "text": [
      "epoch 32 | loss: 0.20516 | train_mse: 0.24671 | train_mae: 0.37228 |  0:00:04s\n",
      "epoch 33 | loss: 0.226   | train_mse: 0.23566 | train_mae: 0.36884 |  0:00:04s\n"
     ]
    },
    {
     "name": "stdout",
     "output_type": "stream",
     "text": [
      "epoch 34 | loss: 0.29753 | train_mse: 0.22006 | train_mae: 0.36058 |  0:00:04s\n",
      "epoch 35 | loss: 0.36424 | train_mse: 0.2188  | train_mae: 0.35521 |  0:00:04s\n"
     ]
    },
    {
     "name": "stdout",
     "output_type": "stream",
     "text": [
      "epoch 36 | loss: 0.3526  | train_mse: 0.22368 | train_mae: 0.35559 |  0:00:04s\n",
      "epoch 37 | loss: 0.33759 | train_mse: 0.222   | train_mae: 0.35273 |  0:00:04s\n"
     ]
    },
    {
     "name": "stdout",
     "output_type": "stream",
     "text": [
      "epoch 38 | loss: 0.21299 | train_mse: 0.2154  | train_mae: 0.34942 |  0:00:04s\n",
      "epoch 39 | loss: 0.22172 | train_mse: 0.20679 | train_mae: 0.34933 |  0:00:04s\n",
      "epoch 40 | loss: 0.25237 | train_mse: 0.21534 | train_mae: 0.35289 |  0:00:05s\n"
     ]
    },
    {
     "name": "stdout",
     "output_type": "stream",
     "text": [
      "epoch 41 | loss: 0.33902 | train_mse: 0.2279  | train_mae: 0.35354 |  0:00:05s\n",
      "epoch 42 | loss: 0.3337  | train_mse: 0.24035 | train_mae: 0.35296 |  0:00:05s\n",
      "epoch 43 | loss: 0.28683 | train_mse: 0.24478 | train_mae: 0.35223 |  0:00:05s\n"
     ]
    },
    {
     "name": "stdout",
     "output_type": "stream",
     "text": [
      "epoch 44 | loss: 0.41764 | train_mse: 0.24241 | train_mae: 0.35153 |  0:00:05s\n",
      "epoch 45 | loss: 0.28526 | train_mse: 0.23589 | train_mae: 0.35189 |  0:00:05s\n",
      "epoch 46 | loss: 0.25235 | train_mse: 0.23779 | train_mae: 0.35263 |  0:00:05s\n"
     ]
    },
    {
     "name": "stdout",
     "output_type": "stream",
     "text": [
      "epoch 47 | loss: 0.23333 | train_mse: 0.23578 | train_mae: 0.34835 |  0:00:05s\n",
      "epoch 48 | loss: 0.26385 | train_mse: 0.23474 | train_mae: 0.3445  |  0:00:05s\n"
     ]
    },
    {
     "name": "stdout",
     "output_type": "stream",
     "text": [
      "epoch 49 | loss: 0.17265 | train_mse: 0.23538 | train_mae: 0.34194 |  0:00:05s\n",
      "epoch 50 | loss: 0.21974 | train_mse: 0.23508 | train_mae: 0.3448  |  0:00:06s\n",
      "epoch 51 | loss: 0.25017 | train_mse: 0.23202 | train_mae: 0.3458  |  0:00:06s\n"
     ]
    },
    {
     "name": "stdout",
     "output_type": "stream",
     "text": [
      "epoch 52 | loss: 0.22077 | train_mse: 0.2231  | train_mae: 0.34459 |  0:00:06s\n",
      "epoch 53 | loss: 0.28107 | train_mse: 0.21656 | train_mae: 0.34133 |  0:00:06s\n",
      "epoch 54 | loss: 0.30722 | train_mse: 0.20965 | train_mae: 0.33269 |  0:00:06s\n"
     ]
    },
    {
     "name": "stdout",
     "output_type": "stream",
     "text": [
      "epoch 55 | loss: 0.43839 | train_mse: 0.1994  | train_mae: 0.32352 |  0:00:06s\n",
      "epoch 56 | loss: 0.41382 | train_mse: 0.18287 | train_mae: 0.311   |  0:00:06s\n",
      "epoch 57 | loss: 0.23127 | train_mse: 0.175   | train_mae: 0.30723 |  0:00:06s\n"
     ]
    },
    {
     "name": "stdout",
     "output_type": "stream",
     "text": [
      "epoch 58 | loss: 0.38465 | train_mse: 0.16983 | train_mae: 0.30264 |  0:00:06s\n",
      "epoch 59 | loss: 0.24411 | train_mse: 0.17339 | train_mae: 0.30871 |  0:00:06s\n",
      "epoch 60 | loss: 0.32633 | train_mse: 0.17651 | train_mae: 0.31143 |  0:00:06s\n"
     ]
    },
    {
     "name": "stdout",
     "output_type": "stream",
     "text": [
      "epoch 61 | loss: 0.28527 | train_mse: 0.17075 | train_mae: 0.30743 |  0:00:07s\n",
      "epoch 62 | loss: 0.23593 | train_mse: 0.1629  | train_mae: 0.30077 |  0:00:07s\n",
      "epoch 63 | loss: 0.26047 | train_mse: 0.15884 | train_mae: 0.29537 |  0:00:07s\n"
     ]
    },
    {
     "name": "stdout",
     "output_type": "stream",
     "text": [
      "epoch 64 | loss: 0.24811 | train_mse: 0.15461 | train_mae: 0.29298 |  0:00:07s\n",
      "epoch 65 | loss: 0.26189 | train_mse: 0.15364 | train_mae: 0.29565 |  0:00:07s\n",
      "epoch 66 | loss: 0.35539 | train_mse: 0.1566  | train_mae: 0.29722 |  0:00:07s\n"
     ]
    },
    {
     "name": "stdout",
     "output_type": "stream",
     "text": [
      "epoch 67 | loss: 0.2083  | train_mse: 0.15919 | train_mae: 0.29955 |  0:00:07s\n",
      "epoch 68 | loss: 0.16891 | train_mse: 0.16108 | train_mae: 0.30263 |  0:00:07s\n",
      "epoch 69 | loss: 0.19052 | train_mse: 0.16115 | train_mae: 0.30207 |  0:00:07s\n"
     ]
    },
    {
     "name": "stdout",
     "output_type": "stream",
     "text": [
      "epoch 70 | loss: 0.19871 | train_mse: 0.16025 | train_mae: 0.29874 |  0:00:07s\n",
      "epoch 71 | loss: 0.27143 | train_mse: 0.16048 | train_mae: 0.29784 |  0:00:07s\n",
      "epoch 72 | loss: 0.25808 | train_mse: 0.16063 | train_mae: 0.29923 |  0:00:07s\n"
     ]
    },
    {
     "name": "stdout",
     "output_type": "stream",
     "text": [
      "epoch 73 | loss: 0.23904 | train_mse: 0.1624  | train_mae: 0.30066 |  0:00:08s\n",
      "epoch 74 | loss: 0.28799 | train_mse: 0.16056 | train_mae: 0.30194 |  0:00:08s\n",
      "epoch 75 | loss: 0.22116 | train_mse: 0.15905 | train_mae: 0.30523 |  0:00:08s\n"
     ]
    },
    {
     "name": "stdout",
     "output_type": "stream",
     "text": [
      "epoch 76 | loss: 0.19487 | train_mse: 0.15837 | train_mae: 0.30838 |  0:00:08s\n",
      "epoch 77 | loss: 0.24048 | train_mse: 0.15889 | train_mae: 0.31004 |  0:00:08s\n",
      "epoch 78 | loss: 0.30365 | train_mse: 0.15699 | train_mae: 0.3104  |  0:00:08s\n"
     ]
    },
    {
     "name": "stdout",
     "output_type": "stream",
     "text": [
      "epoch 79 | loss: 0.34104 | train_mse: 0.15611 | train_mae: 0.31022 |  0:00:08s\n",
      "epoch 80 | loss: 0.25287 | train_mse: 0.15337 | train_mae: 0.30967 |  0:00:08s\n",
      "epoch 81 | loss: 0.20613 | train_mse: 0.14969 | train_mae: 0.3074  |  0:00:08s\n"
     ]
    },
    {
     "name": "stdout",
     "output_type": "stream",
     "text": [
      "epoch 82 | loss: 0.22103 | train_mse: 0.14677 | train_mae: 0.30297 |  0:00:08s\n",
      "epoch 83 | loss: 0.3791  | train_mse: 0.14536 | train_mae: 0.3002  |  0:00:08s\n",
      "epoch 84 | loss: 0.20542 | train_mse: 0.14479 | train_mae: 0.30063 |  0:00:09s\n"
     ]
    },
    {
     "name": "stdout",
     "output_type": "stream",
     "text": [
      "epoch 85 | loss: 0.22314 | train_mse: 0.14293 | train_mae: 0.29719 |  0:00:09s\n",
      "epoch 86 | loss: 0.24486 | train_mse: 0.14165 | train_mae: 0.29425 |  0:00:09s\n",
      "epoch 87 | loss: 0.20152 | train_mse: 0.14126 | train_mae: 0.29393 |  0:00:09s\n"
     ]
    },
    {
     "name": "stdout",
     "output_type": "stream",
     "text": [
      "epoch 88 | loss: 0.25538 | train_mse: 0.14126 | train_mae: 0.29283 |  0:00:09s\n",
      "epoch 89 | loss: 0.18363 | train_mse: 0.13937 | train_mae: 0.28983 |  0:00:09s\n",
      "epoch 90 | loss: 0.1731  | train_mse: 0.13747 | train_mae: 0.28809 |  0:00:09s\n"
     ]
    },
    {
     "name": "stdout",
     "output_type": "stream",
     "text": [
      "epoch 91 | loss: 0.23948 | train_mse: 0.13485 | train_mae: 0.28365 |  0:00:09s\n",
      "epoch 92 | loss: 0.33248 | train_mse: 0.13449 | train_mae: 0.2823  |  0:00:09s\n",
      "epoch 93 | loss: 0.21473 | train_mse: 0.13669 | train_mae: 0.28619 |  0:00:09s\n"
     ]
    },
    {
     "name": "stdout",
     "output_type": "stream",
     "text": [
      "epoch 94 | loss: 0.19547 | train_mse: 0.13634 | train_mae: 0.28548 |  0:00:09s\n",
      "epoch 95 | loss: 0.32361 | train_mse: 0.13551 | train_mae: 0.28729 |  0:00:10s\n",
      "epoch 96 | loss: 0.18651 | train_mse: 0.1355  | train_mae: 0.2868  |  0:00:10s\n"
     ]
    },
    {
     "name": "stdout",
     "output_type": "stream",
     "text": [
      "epoch 97 | loss: 0.21499 | train_mse: 0.13494 | train_mae: 0.28308 |  0:00:10s\n",
      "epoch 98 | loss: 0.34767 | train_mse: 0.13421 | train_mae: 0.28161 |  0:00:10s\n",
      "epoch 99 | loss: 0.23204 | train_mse: 0.13415 | train_mae: 0.28364 |  0:00:10s\n"
     ]
    },
    {
     "name": "stdout",
     "output_type": "stream",
     "text": [
      "epoch 100| loss: 0.23124 | train_mse: 0.13344 | train_mae: 0.28203 |  0:00:10s\n",
      "epoch 101| loss: 0.20594 | train_mse: 0.13078 | train_mae: 0.27835 |  0:00:10s\n",
      "epoch 102| loss: 0.28348 | train_mse: 0.13066 | train_mae: 0.27707 |  0:00:10s\n"
     ]
    },
    {
     "name": "stdout",
     "output_type": "stream",
     "text": [
      "epoch 103| loss: 0.32866 | train_mse: 0.12952 | train_mae: 0.27592 |  0:00:10s\n",
      "epoch 104| loss: 0.27221 | train_mse: 0.12949 | train_mae: 0.27755 |  0:00:10s\n",
      "epoch 105| loss: 0.14906 | train_mse: 0.12827 | train_mae: 0.27684 |  0:00:10s\n"
     ]
    },
    {
     "name": "stdout",
     "output_type": "stream",
     "text": [
      "epoch 106| loss: 0.20051 | train_mse: 0.1263  | train_mae: 0.27424 |  0:00:10s\n",
      "epoch 107| loss: 0.24008 | train_mse: 0.12538 | train_mae: 0.27218 |  0:00:11s\n",
      "epoch 108| loss: 0.27752 | train_mse: 0.1249  | train_mae: 0.27471 |  0:00:11s\n"
     ]
    },
    {
     "name": "stdout",
     "output_type": "stream",
     "text": [
      "epoch 109| loss: 0.24607 | train_mse: 0.12368 | train_mae: 0.2747  |  0:00:11s\n",
      "epoch 110| loss: 0.26867 | train_mse: 0.12501 | train_mae: 0.27841 |  0:00:11s\n",
      "epoch 111| loss: 0.18307 | train_mse: 0.12558 | train_mae: 0.28005 |  0:00:11s\n"
     ]
    },
    {
     "name": "stdout",
     "output_type": "stream",
     "text": [
      "epoch 112| loss: 0.33578 | train_mse: 0.12538 | train_mae: 0.28016 |  0:00:11s\n",
      "epoch 113| loss: 0.19619 | train_mse: 0.12414 | train_mae: 0.27863 |  0:00:11s\n",
      "epoch 114| loss: 0.20646 | train_mse: 0.12308 | train_mae: 0.27701 |  0:00:11s\n"
     ]
    },
    {
     "name": "stdout",
     "output_type": "stream",
     "text": [
      "epoch 115| loss: 0.21153 | train_mse: 0.12121 | train_mae: 0.27584 |  0:00:11s\n",
      "epoch 116| loss: 0.26911 | train_mse: 0.11995 | train_mae: 0.27464 |  0:00:11s\n",
      "epoch 117| loss: 0.19218 | train_mse: 0.11948 | train_mae: 0.27358 |  0:00:11s\n"
     ]
    },
    {
     "name": "stdout",
     "output_type": "stream",
     "text": [
      "epoch 118| loss: 0.24551 | train_mse: 0.11884 | train_mae: 0.27177 |  0:00:12s\n",
      "epoch 119| loss: 0.18387 | train_mse: 0.12149 | train_mae: 0.27505 |  0:00:12s\n",
      "epoch 120| loss: 0.1734  | train_mse: 0.12487 | train_mae: 0.27806 |  0:00:12s\n"
     ]
    },
    {
     "name": "stdout",
     "output_type": "stream",
     "text": [
      "epoch 121| loss: 0.15815 | train_mse: 0.13045 | train_mae: 0.2804  |  0:00:12s\n",
      "epoch 122| loss: 0.21036 | train_mse: 0.13244 | train_mae: 0.28049 |  0:00:12s\n",
      "epoch 123| loss: 0.19422 | train_mse: 0.13462 | train_mae: 0.27935 |  0:00:12s\n"
     ]
    },
    {
     "name": "stdout",
     "output_type": "stream",
     "text": [
      "epoch 124| loss: 0.23145 | train_mse: 0.13365 | train_mae: 0.27985 |  0:00:12s\n",
      "epoch 125| loss: 0.20704 | train_mse: 0.13298 | train_mae: 0.2798  |  0:00:12s\n",
      "epoch 126| loss: 0.33988 | train_mse: 0.13118 | train_mae: 0.27846 |  0:00:12s\n"
     ]
    },
    {
     "name": "stdout",
     "output_type": "stream",
     "text": [
      "epoch 127| loss: 0.16114 | train_mse: 0.13039 | train_mae: 0.27857 |  0:00:12s\n",
      "epoch 128| loss: 0.2029  | train_mse: 0.12661 | train_mae: 0.27408 |  0:00:12s\n",
      "epoch 129| loss: 0.26575 | train_mse: 0.12095 | train_mae: 0.27259 |  0:00:13s\n"
     ]
    },
    {
     "name": "stdout",
     "output_type": "stream",
     "text": [
      "epoch 130| loss: 0.16324 | train_mse: 0.1192  | train_mae: 0.27444 |  0:00:13s\n",
      "epoch 131| loss: 0.19364 | train_mse: 0.11777 | train_mae: 0.27312 |  0:00:13s\n",
      "epoch 132| loss: 0.19544 | train_mse: 0.11566 | train_mae: 0.27101 |  0:00:13s\n"
     ]
    },
    {
     "name": "stdout",
     "output_type": "stream",
     "text": [
      "epoch 133| loss: 0.16636 | train_mse: 0.11465 | train_mae: 0.26876 |  0:00:13s\n",
      "epoch 134| loss: 0.17948 | train_mse: 0.11701 | train_mae: 0.27048 |  0:00:13s\n"
     ]
    },
    {
     "name": "stdout",
     "output_type": "stream",
     "text": [
      "epoch 135| loss: 0.16065 | train_mse: 0.11716 | train_mae: 0.26964 |  0:00:13s\n",
      "epoch 136| loss: 0.46797 | train_mse: 0.11669 | train_mae: 0.26863 |  0:00:13s\n",
      "epoch 137| loss: 0.21937 | train_mse: 0.11909 | train_mae: 0.26871 |  0:00:13s\n"
     ]
    },
    {
     "name": "stdout",
     "output_type": "stream",
     "text": [
      "epoch 138| loss: 0.20619 | train_mse: 0.11886 | train_mae: 0.26897 |  0:00:13s\n",
      "epoch 139| loss: 0.1463  | train_mse: 0.11713 | train_mae: 0.26593 |  0:00:13s\n",
      "epoch 140| loss: 0.35722 | train_mse: 0.1164  | train_mae: 0.26438 |  0:00:14s\n"
     ]
    },
    {
     "name": "stdout",
     "output_type": "stream",
     "text": [
      "epoch 141| loss: 0.32762 | train_mse: 0.11721 | train_mae: 0.26493 |  0:00:14s\n",
      "epoch 142| loss: 0.16926 | train_mse: 0.11359 | train_mae: 0.26211 |  0:00:14s\n",
      "epoch 143| loss: 0.28639 | train_mse: 0.11163 | train_mae: 0.25936 |  0:00:14s\n"
     ]
    },
    {
     "name": "stdout",
     "output_type": "stream",
     "text": [
      "epoch 144| loss: 0.1763  | train_mse: 0.11078 | train_mae: 0.25776 |  0:00:14s\n",
      "epoch 145| loss: 0.15304 | train_mse: 0.11132 | train_mae: 0.25709 |  0:00:14s\n",
      "epoch 146| loss: 0.18916 | train_mse: 0.1119  | train_mae: 0.25374 |  0:00:14s\n"
     ]
    },
    {
     "name": "stdout",
     "output_type": "stream",
     "text": [
      "epoch 147| loss: 0.31761 | train_mse: 0.11155 | train_mae: 0.25419 |  0:00:14s\n",
      "epoch 148| loss: 0.14161 | train_mse: 0.11333 | train_mae: 0.25641 |  0:00:14s\n"
     ]
    },
    {
     "name": "stdout",
     "output_type": "stream",
     "text": [
      "epoch 149| loss: 0.21658 | train_mse: 0.11485 | train_mae: 0.25711 |  0:00:14s\n",
      "epoch 150| loss: 0.19123 | train_mse: 0.11254 | train_mae: 0.25585 |  0:00:14s\n",
      "epoch 151| loss: 0.20356 | train_mse: 0.1105  | train_mae: 0.25492 |  0:00:15s\n"
     ]
    },
    {
     "name": "stdout",
     "output_type": "stream",
     "text": [
      "epoch 152| loss: 0.18867 | train_mse: 0.10877 | train_mae: 0.25389 |  0:00:15s\n",
      "epoch 153| loss: 0.32798 | train_mse: 0.10727 | train_mae: 0.25305 |  0:00:15s\n",
      "epoch 154| loss: 0.20559 | train_mse: 0.10625 | train_mae: 0.25317 |  0:00:15s\n"
     ]
    },
    {
     "name": "stdout",
     "output_type": "stream",
     "text": [
      "epoch 155| loss: 0.3143  | train_mse: 0.10829 | train_mae: 0.25737 |  0:00:15s\n",
      "epoch 156| loss: 0.1318  | train_mse: 0.1098  | train_mae: 0.26118 |  0:00:15s\n",
      "epoch 157| loss: 0.15075 | train_mse: 0.10839 | train_mae: 0.25771 |  0:00:15s\n"
     ]
    },
    {
     "name": "stdout",
     "output_type": "stream",
     "text": [
      "epoch 158| loss: 0.17783 | train_mse: 0.10742 | train_mae: 0.25376 |  0:00:15s\n",
      "epoch 159| loss: 0.14782 | train_mse: 0.1096  | train_mae: 0.25419 |  0:00:15s\n",
      "epoch 160| loss: 0.41168 | train_mse: 0.11086 | train_mae: 0.25696 |  0:00:15s\n"
     ]
    },
    {
     "name": "stdout",
     "output_type": "stream",
     "text": [
      "epoch 161| loss: 0.20197 | train_mse: 0.11355 | train_mae: 0.26084 |  0:00:15s\n",
      "epoch 162| loss: 0.2527  | train_mse: 0.11645 | train_mae: 0.26383 |  0:00:16s\n",
      "epoch 163| loss: 0.16122 | train_mse: 0.11539 | train_mae: 0.26145 |  0:00:16s\n"
     ]
    },
    {
     "name": "stdout",
     "output_type": "stream",
     "text": [
      "epoch 164| loss: 0.2056  | train_mse: 0.11519 | train_mae: 0.26109 |  0:00:16s\n",
      "epoch 165| loss: 0.13946 | train_mse: 0.11609 | train_mae: 0.26168 |  0:00:16s\n",
      "epoch 166| loss: 0.15206 | train_mse: 0.11446 | train_mae: 0.25855 |  0:00:16s\n"
     ]
    },
    {
     "name": "stdout",
     "output_type": "stream",
     "text": [
      "epoch 167| loss: 0.16384 | train_mse: 0.11091 | train_mae: 0.25401 |  0:00:16s\n",
      "epoch 168| loss: 0.21512 | train_mse: 0.108   | train_mae: 0.2505  |  0:00:16s\n"
     ]
    },
    {
     "name": "stdout",
     "output_type": "stream",
     "text": [
      "epoch 169| loss: 0.16052 | train_mse: 0.10546 | train_mae: 0.24753 |  0:00:16s\n",
      "epoch 170| loss: 0.17062 | train_mse: 0.10259 | train_mae: 0.24639 |  0:00:16s\n",
      "epoch 171| loss: 0.17053 | train_mse: 0.10084 | train_mae: 0.24577 |  0:00:16s\n"
     ]
    },
    {
     "name": "stdout",
     "output_type": "stream",
     "text": [
      "epoch 172| loss: 0.13329 | train_mse: 0.09983 | train_mae: 0.24692 |  0:00:17s\n",
      "epoch 173| loss: 0.189   | train_mse: 0.09984 | train_mae: 0.25043 |  0:00:17s\n",
      "epoch 174| loss: 0.16543 | train_mse: 0.09915 | train_mae: 0.25013 |  0:00:17s\n"
     ]
    },
    {
     "name": "stdout",
     "output_type": "stream",
     "text": [
      "epoch 175| loss: 0.13451 | train_mse: 0.09891 | train_mae: 0.24877 |  0:00:17s\n",
      "epoch 176| loss: 0.29715 | train_mse: 0.10001 | train_mae: 0.24928 |  0:00:17s\n",
      "epoch 177| loss: 0.23628 | train_mse: 0.10097 | train_mae: 0.24971 |  0:00:17s\n"
     ]
    },
    {
     "name": "stdout",
     "output_type": "stream",
     "text": [
      "epoch 178| loss: 0.10249 | train_mse: 0.10193 | train_mae: 0.24875 |  0:00:17s\n",
      "epoch 179| loss: 0.23968 | train_mse: 0.10261 | train_mae: 0.24518 |  0:00:17s\n",
      "epoch 180| loss: 0.13231 | train_mse: 0.10377 | train_mae: 0.24494 |  0:00:17s\n"
     ]
    },
    {
     "name": "stdout",
     "output_type": "stream",
     "text": [
      "epoch 181| loss: 0.13879 | train_mse: 0.10384 | train_mae: 0.24774 |  0:00:17s\n",
      "epoch 182| loss: 0.16239 | train_mse: 0.10183 | train_mae: 0.24659 |  0:00:17s\n",
      "epoch 183| loss: 0.25014 | train_mse: 0.10024 | train_mae: 0.24727 |  0:00:17s\n"
     ]
    },
    {
     "name": "stdout",
     "output_type": "stream",
     "text": [
      "epoch 184| loss: 0.21582 | train_mse: 0.10159 | train_mae: 0.25004 |  0:00:18s\n",
      "epoch 185| loss: 0.29043 | train_mse: 0.10321 | train_mae: 0.24952 |  0:00:18s\n",
      "epoch 186| loss: 0.2114  | train_mse: 0.10398 | train_mae: 0.2466  |  0:00:18s\n"
     ]
    },
    {
     "name": "stdout",
     "output_type": "stream",
     "text": [
      "epoch 187| loss: 0.22034 | train_mse: 0.10685 | train_mae: 0.24615 |  0:00:18s\n",
      "epoch 188| loss: 0.15644 | train_mse: 0.10844 | train_mae: 0.2457  |  0:00:18s\n",
      "epoch 189| loss: 0.14554 | train_mse: 0.10786 | train_mae: 0.24598 |  0:00:18s\n"
     ]
    },
    {
     "name": "stdout",
     "output_type": "stream",
     "text": [
      "epoch 190| loss: 0.18477 | train_mse: 0.10808 | train_mae: 0.24729 |  0:00:18s\n",
      "epoch 191| loss: 0.14523 | train_mse: 0.10871 | train_mae: 0.2489  |  0:00:18s\n"
     ]
    },
    {
     "name": "stdout",
     "output_type": "stream",
     "text": [
      "epoch 192| loss: 0.11875 | train_mse: 0.10668 | train_mae: 0.24674 |  0:00:18s\n",
      "epoch 193| loss: 0.15384 | train_mse: 0.10539 | train_mae: 0.2482  |  0:00:18s\n",
      "epoch 194| loss: 0.30224 | train_mse: 0.10222 | train_mae: 0.24709 |  0:00:18s\n"
     ]
    },
    {
     "name": "stdout",
     "output_type": "stream",
     "text": [
      "epoch 195| loss: 0.25541 | train_mse: 0.10033 | train_mae: 0.24836 |  0:00:19s\n",
      "epoch 196| loss: 0.23158 | train_mse: 0.10423 | train_mae: 0.25313 |  0:00:19s\n",
      "epoch 197| loss: 0.27278 | train_mse: 0.12287 | train_mae: 0.26039 |  0:00:19s\n"
     ]
    },
    {
     "name": "stdout",
     "output_type": "stream",
     "text": [
      "epoch 198| loss: 0.33425 | train_mse: 0.10163 | train_mae: 0.25028 |  0:00:19s\n",
      "epoch 199| loss: 0.11883 | train_mse: 0.1006  | train_mae: 0.24721 |  0:00:19s\n",
      "epoch 200| loss: 0.30092 | train_mse: 0.10054 | train_mae: 0.24543 |  0:00:19s\n"
     ]
    },
    {
     "name": "stdout",
     "output_type": "stream",
     "text": [
      "epoch 201| loss: 0.22007 | train_mse: 0.09951 | train_mae: 0.24464 |  0:00:19s\n",
      "epoch 202| loss: 0.19883 | train_mse: 0.09876 | train_mae: 0.24369 |  0:00:19s\n"
     ]
    },
    {
     "name": "stdout",
     "output_type": "stream",
     "text": [
      "epoch 203| loss: 0.25485 | train_mse: 0.09861 | train_mae: 0.24472 |  0:00:19s\n",
      "epoch 204| loss: 0.1641  | train_mse: 0.09681 | train_mae: 0.24366 |  0:00:19s\n",
      "epoch 205| loss: 0.20346 | train_mse: 0.09587 | train_mae: 0.24302 |  0:00:19s\n"
     ]
    },
    {
     "name": "stdout",
     "output_type": "stream",
     "text": [
      "epoch 206| loss: 0.15032 | train_mse: 0.11229 | train_mae: 0.24838 |  0:00:20s\n",
      "epoch 207| loss: 0.16993 | train_mse: 0.10395 | train_mae: 0.24444 |  0:00:20s\n",
      "epoch 208| loss: 0.15031 | train_mse: 0.09222 | train_mae: 0.23567 |  0:00:20s\n"
     ]
    },
    {
     "name": "stdout",
     "output_type": "stream",
     "text": [
      "epoch 209| loss: 0.40224 | train_mse: 0.09519 | train_mae: 0.23754 |  0:00:20s\n",
      "epoch 210| loss: 0.23348 | train_mse: 0.09914 | train_mae: 0.24332 |  0:00:20s\n",
      "epoch 211| loss: 0.1186  | train_mse: 0.09872 | train_mae: 0.24208 |  0:00:20s\n"
     ]
    },
    {
     "name": "stdout",
     "output_type": "stream",
     "text": [
      "epoch 212| loss: 0.28464 | train_mse: 0.09993 | train_mae: 0.24509 |  0:00:20s\n",
      "epoch 213| loss: 0.19106 | train_mse: 0.0972  | train_mae: 0.24025 |  0:00:20s\n",
      "epoch 214| loss: 0.15574 | train_mse: 0.09395 | train_mae: 0.2353  |  0:00:20s\n"
     ]
    },
    {
     "name": "stdout",
     "output_type": "stream",
     "text": [
      "epoch 215| loss: 0.15211 | train_mse: 0.09126 | train_mae: 0.23389 |  0:00:20s\n",
      "epoch 216| loss: 0.14627 | train_mse: 0.09067 | train_mae: 0.23462 |  0:00:20s\n",
      "epoch 217| loss: 0.2061  | train_mse: 0.08892 | train_mae: 0.23293 |  0:00:21s\n"
     ]
    },
    {
     "name": "stdout",
     "output_type": "stream",
     "text": [
      "epoch 218| loss: 0.20162 | train_mse: 0.08887 | train_mae: 0.23293 |  0:00:21s\n",
      "epoch 219| loss: 0.13894 | train_mse: 0.08686 | train_mae: 0.23162 |  0:00:21s\n",
      "epoch 220| loss: 0.36589 | train_mse: 0.0833  | train_mae: 0.22963 |  0:00:21s\n"
     ]
    },
    {
     "name": "stdout",
     "output_type": "stream",
     "text": [
      "epoch 221| loss: 0.2014  | train_mse: 0.08022 | train_mae: 0.22889 |  0:00:21s\n",
      "epoch 222| loss: 0.13364 | train_mse: 0.08049 | train_mae: 0.22665 |  0:00:21s\n",
      "epoch 223| loss: 0.16584 | train_mse: 0.08169 | train_mae: 0.2254  |  0:00:21s\n"
     ]
    },
    {
     "name": "stdout",
     "output_type": "stream",
     "text": [
      "epoch 224| loss: 0.25246 | train_mse: 0.08292 | train_mae: 0.22521 |  0:00:21s\n",
      "epoch 225| loss: 0.13817 | train_mse: 0.08395 | train_mae: 0.22491 |  0:00:21s\n",
      "epoch 226| loss: 0.25601 | train_mse: 0.08381 | train_mae: 0.22685 |  0:00:21s\n"
     ]
    },
    {
     "name": "stdout",
     "output_type": "stream",
     "text": [
      "epoch 227| loss: 0.1431  | train_mse: 0.08127 | train_mae: 0.22688 |  0:00:22s\n",
      "epoch 228| loss: 0.13401 | train_mse: 0.08193 | train_mae: 0.22703 |  0:00:22s\n",
      "epoch 229| loss: 0.13947 | train_mse: 0.08225 | train_mae: 0.22695 |  0:00:22s\n"
     ]
    },
    {
     "name": "stdout",
     "output_type": "stream",
     "text": [
      "epoch 230| loss: 0.14648 | train_mse: 0.08261 | train_mae: 0.22718 |  0:00:22s\n",
      "epoch 231| loss: 0.14318 | train_mse: 0.08146 | train_mae: 0.22627 |  0:00:22s\n",
      "epoch 232| loss: 0.11439 | train_mse: 0.0788  | train_mae: 0.22437 |  0:00:22s\n"
     ]
    },
    {
     "name": "stdout",
     "output_type": "stream",
     "text": [
      "epoch 233| loss: 0.27903 | train_mse: 0.07888 | train_mae: 0.22462 |  0:00:22s\n",
      "epoch 234| loss: 0.12614 | train_mse: 0.07716 | train_mae: 0.22193 |  0:00:22s\n"
     ]
    },
    {
     "name": "stdout",
     "output_type": "stream",
     "text": [
      "epoch 235| loss: 0.21018 | train_mse: 0.07649 | train_mae: 0.22181 |  0:00:22s\n",
      "epoch 236| loss: 0.2407  | train_mse: 0.07466 | train_mae: 0.22096 |  0:00:22s\n",
      "epoch 237| loss: 0.15887 | train_mse: 0.07567 | train_mae: 0.2218  |  0:00:22s\n"
     ]
    },
    {
     "name": "stdout",
     "output_type": "stream",
     "text": [
      "epoch 238| loss: 0.11108 | train_mse: 0.07501 | train_mae: 0.22106 |  0:00:23s\n",
      "epoch 239| loss: 0.29209 | train_mse: 0.07558 | train_mae: 0.22014 |  0:00:23s\n",
      "epoch 240| loss: 0.18546 | train_mse: 0.07902 | train_mae: 0.22102 |  0:00:23s\n"
     ]
    },
    {
     "name": "stdout",
     "output_type": "stream",
     "text": [
      "epoch 241| loss: 0.12863 | train_mse: 0.07828 | train_mae: 0.21937 |  0:00:23s\n",
      "epoch 242| loss: 0.19116 | train_mse: 0.07878 | train_mae: 0.22159 |  0:00:23s\n",
      "epoch 243| loss: 0.23263 | train_mse: 0.07897 | train_mae: 0.2231  |  0:00:23s\n"
     ]
    },
    {
     "name": "stdout",
     "output_type": "stream",
     "text": [
      "epoch 244| loss: 0.1361  | train_mse: 0.08031 | train_mae: 0.2243  |  0:00:23s\n",
      "epoch 245| loss: 0.13139 | train_mse: 0.07975 | train_mae: 0.22442 |  0:00:23s\n",
      "epoch 246| loss: 0.22779 | train_mse: 0.08175 | train_mae: 0.22633 |  0:00:23s\n"
     ]
    },
    {
     "name": "stdout",
     "output_type": "stream",
     "text": [
      "epoch 247| loss: 0.11543 | train_mse: 0.08345 | train_mae: 0.2292  |  0:00:23s\n",
      "epoch 248| loss: 0.24098 | train_mse: 0.08159 | train_mae: 0.22883 |  0:00:23s\n",
      "epoch 249| loss: 0.15784 | train_mse: 0.08113 | train_mae: 0.22753 |  0:00:24s\n"
     ]
    },
    {
     "name": "stdout",
     "output_type": "stream",
     "text": [
      "epoch 250| loss: 0.09612 | train_mse: 0.0812  | train_mae: 0.22776 |  0:00:24s\n",
      "epoch 251| loss: 0.16947 | train_mse: 0.07838 | train_mae: 0.22581 |  0:00:24s\n",
      "epoch 252| loss: 0.10672 | train_mse: 0.0765  | train_mae: 0.22505 |  0:00:24s\n"
     ]
    },
    {
     "name": "stdout",
     "output_type": "stream",
     "text": [
      "epoch 253| loss: 0.14187 | train_mse: 0.07485 | train_mae: 0.22368 |  0:00:24s\n",
      "epoch 254| loss: 0.14609 | train_mse: 0.07426 | train_mae: 0.22116 |  0:00:24s\n",
      "epoch 255| loss: 0.23542 | train_mse: 0.07321 | train_mae: 0.21845 |  0:00:24s\n"
     ]
    },
    {
     "name": "stdout",
     "output_type": "stream",
     "text": [
      "epoch 256| loss: 0.15194 | train_mse: 0.0715  | train_mae: 0.21608 |  0:00:24s\n",
      "epoch 257| loss: 0.1286  | train_mse: 0.07142 | train_mae: 0.21655 |  0:00:24s\n",
      "epoch 258| loss: 0.10948 | train_mse: 0.07046 | train_mae: 0.216   |  0:00:24s"
     ]
    },
    {
     "name": "stdout",
     "output_type": "stream",
     "text": [
      "\n",
      "epoch 259| loss: 0.17926 | train_mse: 0.07091 | train_mae: 0.21527 |  0:00:24s\n"
     ]
    },
    {
     "name": "stdout",
     "output_type": "stream",
     "text": [
      "epoch 260| loss: 0.20352 | train_mse: 0.07211 | train_mae: 0.21562 |  0:00:25s\n",
      "epoch 261| loss: 0.16475 | train_mse: 0.07566 | train_mae: 0.21721 |  0:00:25s\n",
      "epoch 262| loss: 0.11778 | train_mse: 0.07769 | train_mae: 0.21725 |  0:00:25s\n"
     ]
    },
    {
     "name": "stdout",
     "output_type": "stream",
     "text": [
      "epoch 263| loss: 0.16282 | train_mse: 0.07936 | train_mae: 0.21732 |  0:00:25s\n",
      "epoch 264| loss: 0.18118 | train_mse: 0.07915 | train_mae: 0.21665 |  0:00:25s\n",
      "epoch 265| loss: 0.15104 | train_mse: 0.07982 | train_mae: 0.21686 |  0:00:25s\n"
     ]
    },
    {
     "name": "stdout",
     "output_type": "stream",
     "text": [
      "epoch 266| loss: 0.10326 | train_mse: 0.08016 | train_mae: 0.21834 |  0:00:25s\n",
      "epoch 267| loss: 0.12532 | train_mse: 0.08072 | train_mae: 0.2206  |  0:00:25s\n"
     ]
    },
    {
     "name": "stdout",
     "output_type": "stream",
     "text": [
      "epoch 268| loss: 0.14221 | train_mse: 0.08313 | train_mae: 0.22374 |  0:00:25s\n",
      "epoch 269| loss: 0.11031 | train_mse: 0.08468 | train_mae: 0.22576 |  0:00:25s\n",
      "epoch 270| loss: 0.17533 | train_mse: 0.08746 | train_mae: 0.22392 |  0:00:26s\n"
     ]
    },
    {
     "name": "stdout",
     "output_type": "stream",
     "text": [
      "epoch 271| loss: 0.10315 | train_mse: 0.09    | train_mae: 0.22698 |  0:00:26s\n",
      "epoch 272| loss: 0.15572 | train_mse: 0.08981 | train_mae: 0.22686 |  0:00:26s\n",
      "epoch 273| loss: 0.26232 | train_mse: 0.09021 | train_mae: 0.22576 |  0:00:26s\n"
     ]
    },
    {
     "name": "stdout",
     "output_type": "stream",
     "text": [
      "epoch 274| loss: 0.16835 | train_mse: 0.09024 | train_mae: 0.22487 |  0:00:26s\n",
      "epoch 275| loss: 0.17583 | train_mse: 0.09009 | train_mae: 0.22364 |  0:00:26s\n",
      "epoch 276| loss: 0.17219 | train_mse: 0.08949 | train_mae: 0.22203 |  0:00:26s\n"
     ]
    },
    {
     "name": "stdout",
     "output_type": "stream",
     "text": [
      "epoch 277| loss: 0.12259 | train_mse: 0.09054 | train_mae: 0.22214 |  0:00:26s\n",
      "epoch 278| loss: 0.14308 | train_mse: 0.08893 | train_mae: 0.22262 |  0:00:26s\n",
      "epoch 279| loss: 0.19212 | train_mse: 0.0889  | train_mae: 0.2235  |  0:00:26s\n"
     ]
    },
    {
     "name": "stdout",
     "output_type": "stream",
     "text": [
      "epoch 280| loss: 0.13126 | train_mse: 0.08488 | train_mae: 0.22088 |  0:00:26s\n",
      "epoch 281| loss: 0.1293  | train_mse: 0.08112 | train_mae: 0.21879 |  0:00:27s\n",
      "epoch 282| loss: 0.14272 | train_mse: 0.07936 | train_mae: 0.21914 |  0:00:27s\n"
     ]
    },
    {
     "name": "stdout",
     "output_type": "stream",
     "text": [
      "epoch 283| loss: 0.10452 | train_mse: 0.07941 | train_mae: 0.22014 |  0:00:27s\n",
      "epoch 284| loss: 0.12848 | train_mse: 0.07956 | train_mae: 0.22064 |  0:00:27s\n",
      "epoch 285| loss: 0.11789 | train_mse: 0.07813 | train_mae: 0.2185  |  0:00:27s\n"
     ]
    },
    {
     "name": "stdout",
     "output_type": "stream",
     "text": [
      "epoch 286| loss: 0.16814 | train_mse: 0.07893 | train_mae: 0.21908 |  0:00:27s\n",
      "epoch 287| loss: 0.21669 | train_mse: 0.07729 | train_mae: 0.21637 |  0:00:27s\n",
      "epoch 288| loss: 0.19555 | train_mse: 0.07572 | train_mae: 0.21575 |  0:00:27s\n"
     ]
    },
    {
     "name": "stdout",
     "output_type": "stream",
     "text": [
      "epoch 289| loss: 0.09051 | train_mse: 0.07554 | train_mae: 0.2159  |  0:00:27s\n",
      "epoch 290| loss: 0.12052 | train_mse: 0.07422 | train_mae: 0.21365 |  0:00:27s\n",
      "epoch 291| loss: 0.17294 | train_mse: 0.07586 | train_mae: 0.21587 |  0:00:27s\n"
     ]
    },
    {
     "name": "stdout",
     "output_type": "stream",
     "text": [
      "epoch 292| loss: 0.22345 | train_mse: 0.07771 | train_mae: 0.21853 |  0:00:27s\n",
      "epoch 293| loss: 0.14458 | train_mse: 0.0809  | train_mae: 0.22203 |  0:00:28s\n",
      "epoch 294| loss: 0.12535 | train_mse: 0.08177 | train_mae: 0.22197 |  0:00:28s\n"
     ]
    },
    {
     "name": "stdout",
     "output_type": "stream",
     "text": [
      "epoch 295| loss: 0.13323 | train_mse: 0.08246 | train_mae: 0.22326 |  0:00:28s\n",
      "epoch 296| loss: 0.17657 | train_mse: 0.08059 | train_mae: 0.21986 |  0:00:28s\n",
      "epoch 297| loss: 0.14929 | train_mse: 0.08041 | train_mae: 0.21843 |  0:00:28s\n"
     ]
    },
    {
     "name": "stdout",
     "output_type": "stream",
     "text": [
      "epoch 298| loss: 0.13335 | train_mse: 0.07824 | train_mae: 0.21482 |  0:00:28s\n",
      "epoch 299| loss: 0.1188  | train_mse: 0.07701 | train_mae: 0.21429 |  0:00:28s\n",
      "epoch 300| loss: 0.10683 | train_mse: 0.07582 | train_mae: 0.21462 |  0:00:28s\n"
     ]
    },
    {
     "name": "stdout",
     "output_type": "stream",
     "text": [
      "epoch 301| loss: 0.11595 | train_mse: 0.07261 | train_mae: 0.21339 |  0:00:28s\n",
      "epoch 302| loss: 0.10145 | train_mse: 0.07025 | train_mae: 0.2126  |  0:00:28s\n",
      "epoch 303| loss: 0.11248 | train_mse: 0.07039 | train_mae: 0.2142  |  0:00:28s\n"
     ]
    },
    {
     "name": "stdout",
     "output_type": "stream",
     "text": [
      "epoch 304| loss: 0.15863 | train_mse: 0.07047 | train_mae: 0.21486 |  0:00:29s\n",
      "epoch 305| loss: 0.13865 | train_mse: 0.07    | train_mae: 0.21439 |  0:00:29s\n",
      "epoch 306| loss: 0.1411  | train_mse: 0.06901 | train_mae: 0.21279 |  0:00:29s\n"
     ]
    },
    {
     "name": "stdout",
     "output_type": "stream",
     "text": [
      "epoch 307| loss: 0.17337 | train_mse: 0.067   | train_mae: 0.20818 |  0:00:29s\n",
      "epoch 308| loss: 0.16615 | train_mse: 0.0677  | train_mae: 0.20887 |  0:00:29s\n",
      "epoch 309| loss: 0.2484  | train_mse: 0.0675  | train_mae: 0.21035 |  0:00:29s\n"
     ]
    },
    {
     "name": "stdout",
     "output_type": "stream",
     "text": [
      "epoch 310| loss: 0.20228 | train_mse: 0.06807 | train_mae: 0.21173 |  0:00:29s\n",
      "epoch 311| loss: 0.12567 | train_mse: 0.0678  | train_mae: 0.21055 |  0:00:29s\n"
     ]
    },
    {
     "name": "stdout",
     "output_type": "stream",
     "text": [
      "epoch 312| loss: 0.25973 | train_mse: 0.06727 | train_mae: 0.20933 |  0:00:29s\n",
      "epoch 313| loss: 0.146   | train_mse: 0.06735 | train_mae: 0.20939 |  0:00:29s\n",
      "epoch 314| loss: 0.17702 | train_mse: 0.0663  | train_mae: 0.20759 |  0:00:29s\n"
     ]
    },
    {
     "name": "stdout",
     "output_type": "stream",
     "text": [
      "epoch 315| loss: 0.31732 | train_mse: 0.06558 | train_mae: 0.2056  |  0:00:30s\n",
      "epoch 316| loss: 0.09841 | train_mse: 0.06614 | train_mae: 0.20658 |  0:00:30s\n",
      "epoch 317| loss: 0.10834 | train_mse: 0.06629 | train_mae: 0.20623 |  0:00:30s\n"
     ]
    },
    {
     "name": "stdout",
     "output_type": "stream",
     "text": [
      "epoch 318| loss: 0.15048 | train_mse: 0.06721 | train_mae: 0.20533 |  0:00:30s\n",
      "epoch 319| loss: 0.13112 | train_mse: 0.06691 | train_mae: 0.20414 |  0:00:30s\n",
      "epoch 320| loss: 0.12074 | train_mse: 0.06651 | train_mae: 0.20385 |  0:00:30s\n"
     ]
    },
    {
     "name": "stdout",
     "output_type": "stream",
     "text": [
      "epoch 321| loss: 0.09465 | train_mse: 0.0648  | train_mae: 0.20149 |  0:00:30s\n",
      "epoch 322| loss: 0.13694 | train_mse: 0.0644  | train_mae: 0.20144 |  0:00:30s\n"
     ]
    },
    {
     "name": "stdout",
     "output_type": "stream",
     "text": [
      "epoch 323| loss: 0.15111 | train_mse: 0.06377 | train_mae: 0.20162 |  0:00:30s\n",
      "epoch 324| loss: 0.23918 | train_mse: 0.06351 | train_mae: 0.20205 |  0:00:30s\n",
      "epoch 325| loss: 0.19483 | train_mse: 0.06375 | train_mae: 0.20282 |  0:00:30s\n"
     ]
    },
    {
     "name": "stdout",
     "output_type": "stream",
     "text": [
      "epoch 326| loss: 0.11731 | train_mse: 0.0648  | train_mae: 0.20406 |  0:00:31s\n",
      "epoch 327| loss: 0.1175  | train_mse: 0.06555 | train_mae: 0.20542 |  0:00:31s\n",
      "epoch 328| loss: 0.13418 | train_mse: 0.06574 | train_mae: 0.20666 |  0:00:31s\n"
     ]
    },
    {
     "name": "stdout",
     "output_type": "stream",
     "text": [
      "epoch 329| loss: 0.13142 | train_mse: 0.06461 | train_mae: 0.20616 |  0:00:31s\n",
      "epoch 330| loss: 0.23902 | train_mse: 0.06408 | train_mae: 0.20549 |  0:00:31s\n"
     ]
    },
    {
     "name": "stdout",
     "output_type": "stream",
     "text": [
      "epoch 331| loss: 0.14971 | train_mse: 0.0638  | train_mae: 0.20468 |  0:00:31s\n",
      "epoch 332| loss: 0.14011 | train_mse: 0.06309 | train_mae: 0.20338 |  0:00:31s\n"
     ]
    },
    {
     "name": "stdout",
     "output_type": "stream",
     "text": [
      "epoch 333| loss: 0.11079 | train_mse: 0.06257 | train_mae: 0.20276 |  0:00:31s\n",
      "epoch 334| loss: 0.09117 | train_mse: 0.06106 | train_mae: 0.2012  |  0:00:31s\n"
     ]
    },
    {
     "name": "stdout",
     "output_type": "stream",
     "text": [
      "epoch 335| loss: 0.1892  | train_mse: 0.06117 | train_mae: 0.20202 |  0:00:32s\n",
      "epoch 336| loss: 0.12977 | train_mse: 0.06194 | train_mae: 0.20273 |  0:00:32s\n"
     ]
    },
    {
     "name": "stdout",
     "output_type": "stream",
     "text": [
      "epoch 337| loss: 0.11297 | train_mse: 0.06233 | train_mae: 0.2027  |  0:00:32s\n",
      "epoch 338| loss: 0.08535 | train_mse: 0.06295 | train_mae: 0.20254 |  0:00:32s\n"
     ]
    },
    {
     "name": "stdout",
     "output_type": "stream",
     "text": [
      "epoch 339| loss: 0.14884 | train_mse: 0.06431 | train_mae: 0.20079 |  0:00:32s\n",
      "epoch 340| loss: 0.16983 | train_mse: 0.0648  | train_mae: 0.20109 |  0:00:32s\n"
     ]
    },
    {
     "name": "stdout",
     "output_type": "stream",
     "text": [
      "epoch 341| loss: 0.15912 | train_mse: 0.06313 | train_mae: 0.20069 |  0:00:32s\n",
      "epoch 342| loss: 0.09403 | train_mse: 0.06062 | train_mae: 0.19822 |  0:00:32s\n"
     ]
    },
    {
     "name": "stdout",
     "output_type": "stream",
     "text": [
      "epoch 343| loss: 0.18114 | train_mse: 0.05718 | train_mae: 0.19411 |  0:00:32s\n",
      "epoch 344| loss: 0.21065 | train_mse: 0.05543 | train_mae: 0.19192 |  0:00:33s\n"
     ]
    },
    {
     "name": "stdout",
     "output_type": "stream",
     "text": [
      "epoch 345| loss: 0.10201 | train_mse: 0.05597 | train_mae: 0.19402 |  0:00:33s\n",
      "epoch 346| loss: 0.11142 | train_mse: 0.05853 | train_mae: 0.19858 |  0:00:33s\n"
     ]
    },
    {
     "name": "stdout",
     "output_type": "stream",
     "text": [
      "epoch 347| loss: 0.14316 | train_mse: 0.0579  | train_mae: 0.1984  |  0:00:33s\n",
      "epoch 348| loss: 0.10377 | train_mse: 0.05871 | train_mae: 0.19846 |  0:00:33s\n"
     ]
    },
    {
     "name": "stdout",
     "output_type": "stream",
     "text": [
      "epoch 349| loss: 0.10287 | train_mse: 0.05826 | train_mae: 0.19682 |  0:00:33s\n",
      "epoch 350| loss: 0.12802 | train_mse: 0.05855 | train_mae: 0.1961  |  0:00:33s\n"
     ]
    },
    {
     "name": "stdout",
     "output_type": "stream",
     "text": [
      "epoch 351| loss: 0.15229 | train_mse: 0.05661 | train_mae: 0.19526 |  0:00:33s\n",
      "epoch 352| loss: 0.12318 | train_mse: 0.05675 | train_mae: 0.19542 |  0:00:34s\n",
      "epoch 353| loss: 0.11635 | train_mse: 0.05717 | train_mae: 0.1963  |  0:00:34s\n"
     ]
    },
    {
     "name": "stdout",
     "output_type": "stream",
     "text": [
      "epoch 354| loss: 0.23198 | train_mse: 0.05911 | train_mae: 0.19748 |  0:00:34s\n",
      "epoch 355| loss: 0.13935 | train_mse: 0.05936 | train_mae: 0.19849 |  0:00:34s\n"
     ]
    },
    {
     "name": "stdout",
     "output_type": "stream",
     "text": [
      "epoch 356| loss: 0.10832 | train_mse: 0.05864 | train_mae: 0.19685 |  0:00:34s\n",
      "epoch 357| loss: 0.17886 | train_mse: 0.05851 | train_mae: 0.19736 |  0:00:34s\n"
     ]
    },
    {
     "name": "stdout",
     "output_type": "stream",
     "text": [
      "epoch 358| loss: 0.1143  | train_mse: 0.05952 | train_mae: 0.19885 |  0:00:34s\n",
      "epoch 359| loss: 0.08122 | train_mse: 0.05995 | train_mae: 0.19853 |  0:00:35s\n"
     ]
    },
    {
     "name": "stdout",
     "output_type": "stream",
     "text": [
      "epoch 360| loss: 0.18213 | train_mse: 0.06176 | train_mae: 0.20253 |  0:00:35s\n",
      "epoch 361| loss: 0.11316 | train_mse: 0.06209 | train_mae: 0.20271 |  0:00:35s\n"
     ]
    },
    {
     "name": "stdout",
     "output_type": "stream",
     "text": [
      "epoch 362| loss: 0.07671 | train_mse: 0.0632  | train_mae: 0.20296 |  0:00:35s\n"
     ]
    },
    {
     "name": "stdout",
     "output_type": "stream",
     "text": [
      "epoch 363| loss: 0.20154 | train_mse: 0.0573  | train_mae: 0.19678 |  0:00:35s\n"
     ]
    },
    {
     "name": "stdout",
     "output_type": "stream",
     "text": [
      "epoch 364| loss: 0.13024 | train_mse: 0.06234 | train_mae: 0.20074 |  0:00:35s\n",
      "epoch 365| loss: 0.25838 | train_mse: 0.0616  | train_mae: 0.19921 |  0:00:36s\n",
      "epoch 366| loss: 0.13433 | train_mse: 0.06172 | train_mae: 0.20202 |  0:00:36s\n"
     ]
    },
    {
     "name": "stdout",
     "output_type": "stream",
     "text": [
      "epoch 367| loss: 0.13942 | train_mse: 0.06115 | train_mae: 0.20145 |  0:00:36s\n",
      "epoch 368| loss: 0.13042 | train_mse: 0.0607  | train_mae: 0.20279 |  0:00:36s\n",
      "epoch 369| loss: 0.17202 | train_mse: 0.06102 | train_mae: 0.20454 |  0:00:36s\n"
     ]
    },
    {
     "name": "stdout",
     "output_type": "stream",
     "text": [
      "epoch 370| loss: 0.09244 | train_mse: 0.05967 | train_mae: 0.20353 |  0:00:36s\n",
      "epoch 371| loss: 0.15279 | train_mse: 0.06036 | train_mae: 0.20294 |  0:00:36s\n",
      "epoch 372| loss: 0.08108 | train_mse: 0.05877 | train_mae: 0.19985 |  0:00:36s\n"
     ]
    },
    {
     "name": "stdout",
     "output_type": "stream",
     "text": [
      "epoch 373| loss: 0.22152 | train_mse: 0.0571  | train_mae: 0.19723 |  0:00:36s\n",
      "epoch 374| loss: 0.13997 | train_mse: 0.05611 | train_mae: 0.19547 |  0:00:36s\n",
      "epoch 375| loss: 0.22837 | train_mse: 0.05618 | train_mae: 0.19593 |  0:00:36s\n"
     ]
    },
    {
     "name": "stdout",
     "output_type": "stream",
     "text": [
      "epoch 376| loss: 0.13204 | train_mse: 0.05615 | train_mae: 0.19355 |  0:00:37s\n",
      "epoch 377| loss: 0.20213 | train_mse: 0.05717 | train_mae: 0.1952  |  0:00:37s\n",
      "epoch 378| loss: 0.058   | train_mse: 0.05823 | train_mae: 0.19696 |  0:00:37s\n"
     ]
    },
    {
     "name": "stdout",
     "output_type": "stream",
     "text": [
      "epoch 379| loss: 0.1008  | train_mse: 0.06055 | train_mae: 0.19956 |  0:00:37s\n",
      "epoch 380| loss: 0.11303 | train_mse: 0.06235 | train_mae: 0.20107 |  0:00:37s\n",
      "epoch 381| loss: 0.17307 | train_mse: 0.06359 | train_mae: 0.20134 |  0:00:37s\n"
     ]
    },
    {
     "name": "stdout",
     "output_type": "stream",
     "text": [
      "epoch 382| loss: 0.16982 | train_mse: 0.06232 | train_mae: 0.19753 |  0:00:37s\n",
      "epoch 383| loss: 0.16628 | train_mse: 0.06542 | train_mae: 0.20059 |  0:00:37s\n",
      "epoch 384| loss: 0.11326 | train_mse: 0.06683 | train_mae: 0.20311 |  0:00:37s\n"
     ]
    },
    {
     "name": "stdout",
     "output_type": "stream",
     "text": [
      "epoch 385| loss: 0.10386 | train_mse: 0.06888 | train_mae: 0.20471 |  0:00:37s\n",
      "epoch 386| loss: 0.1154  | train_mse: 0.06819 | train_mae: 0.2036  |  0:00:37s\n",
      "epoch 387| loss: 0.09187 | train_mse: 0.06517 | train_mae: 0.19803 |  0:00:38s\n"
     ]
    },
    {
     "name": "stdout",
     "output_type": "stream",
     "text": [
      "epoch 388| loss: 0.19276 | train_mse: 0.06315 | train_mae: 0.19423 |  0:00:38s\n",
      "epoch 389| loss: 0.08408 | train_mse: 0.06144 | train_mae: 0.19211 |  0:00:38s\n",
      "epoch 390| loss: 0.4159  | train_mse: 0.06088 | train_mae: 0.19088 |  0:00:38s\n"
     ]
    },
    {
     "name": "stdout",
     "output_type": "stream",
     "text": [
      "epoch 391| loss: 0.18988 | train_mse: 0.05921 | train_mae: 0.18915 |  0:00:38s\n",
      "epoch 392| loss: 0.13815 | train_mse: 0.05781 | train_mae: 0.18917 |  0:00:38s\n",
      "epoch 393| loss: 0.08723 | train_mse: 0.05816 | train_mae: 0.18971 |  0:00:38s\n"
     ]
    },
    {
     "name": "stdout",
     "output_type": "stream",
     "text": [
      "epoch 394| loss: 0.09506 | train_mse: 0.05701 | train_mae: 0.18822 |  0:00:38s\n",
      "epoch 395| loss: 0.10835 | train_mse: 0.05625 | train_mae: 0.18864 |  0:00:38s\n",
      "epoch 396| loss: 0.08163 | train_mse: 0.05532 | train_mae: 0.18855 |  0:00:38s\n"
     ]
    },
    {
     "name": "stdout",
     "output_type": "stream",
     "text": [
      "epoch 397| loss: 0.15883 | train_mse: 0.05381 | train_mae: 0.18534 |  0:00:38s\n",
      "epoch 398| loss: 0.07231 | train_mse: 0.05337 | train_mae: 0.18173 |  0:00:39s\n",
      "epoch 399| loss: 0.11769 | train_mse: 0.05388 | train_mae: 0.18328 |  0:00:39s\n"
     ]
    },
    {
     "name": "stdout",
     "output_type": "stream",
     "text": [
      "epoch 400| loss: 0.10587 | train_mse: 0.05464 | train_mae: 0.18473 |  0:00:39s\n",
      "epoch 401| loss: 0.08013 | train_mse: 0.05555 | train_mae: 0.18828 |  0:00:39s\n",
      "epoch 402| loss: 0.11812 | train_mse: 0.05669 | train_mae: 0.19174 |  0:00:39s\n"
     ]
    },
    {
     "name": "stdout",
     "output_type": "stream",
     "text": [
      "epoch 403| loss: 0.2222  | train_mse: 0.05734 | train_mae: 0.19378 |  0:00:39s\n",
      "epoch 404| loss: 0.20466 | train_mse: 0.05759 | train_mae: 0.19565 |  0:00:39s\n",
      "epoch 405| loss: 0.21047 | train_mse: 0.05715 | train_mae: 0.196   |  0:00:39s\n"
     ]
    },
    {
     "name": "stdout",
     "output_type": "stream",
     "text": [
      "epoch 406| loss: 0.08008 | train_mse: 0.05676 | train_mae: 0.19463 |  0:00:39s\n",
      "epoch 407| loss: 0.14248 | train_mse: 0.0571  | train_mae: 0.19472 |  0:00:39s\n",
      "epoch 408| loss: 0.08922 | train_mse: 0.05816 | train_mae: 0.19557 |  0:00:39s\n"
     ]
    },
    {
     "name": "stdout",
     "output_type": "stream",
     "text": [
      "epoch 409| loss: 0.09461 | train_mse: 0.05817 | train_mae: 0.19379 |  0:00:39s\n",
      "epoch 410| loss: 0.1303  | train_mse: 0.05905 | train_mae: 0.19289 |  0:00:40s\n",
      "epoch 411| loss: 0.14141 | train_mse: 0.05768 | train_mae: 0.19003 |  0:00:40s\n"
     ]
    },
    {
     "name": "stdout",
     "output_type": "stream",
     "text": [
      "epoch 412| loss: 0.07485 | train_mse: 0.05844 | train_mae: 0.18784 |  0:00:40s\n",
      "epoch 413| loss: 0.13633 | train_mse: 0.06029 | train_mae: 0.18872 |  0:00:40s\n",
      "epoch 414| loss: 0.08292 | train_mse: 0.06236 | train_mae: 0.18986 |  0:00:40s\n"
     ]
    },
    {
     "name": "stdout",
     "output_type": "stream",
     "text": [
      "epoch 415| loss: 0.08325 | train_mse: 0.06666 | train_mae: 0.19648 |  0:00:40s\n",
      "epoch 416| loss: 0.14026 | train_mse: 0.07064 | train_mae: 0.20194 |  0:00:40s\n",
      "epoch 417| loss: 0.10854 | train_mse: 0.071   | train_mae: 0.20165 |  0:00:40s\n"
     ]
    },
    {
     "name": "stdout",
     "output_type": "stream",
     "text": [
      "epoch 418| loss: 0.13655 | train_mse: 0.07134 | train_mae: 0.20189 |  0:00:40s\n",
      "epoch 419| loss: 0.12633 | train_mse: 0.06924 | train_mae: 0.19883 |  0:00:40s\n",
      "epoch 420| loss: 0.14123 | train_mse: 0.06494 | train_mae: 0.19372 |  0:00:40s\n"
     ]
    },
    {
     "name": "stdout",
     "output_type": "stream",
     "text": [
      "epoch 421| loss: 0.10829 | train_mse: 0.06336 | train_mae: 0.19209 |  0:00:41s\n",
      "epoch 422| loss: 0.08457 | train_mse: 0.0604  | train_mae: 0.18881 |  0:00:41s\n",
      "epoch 423| loss: 0.15896 | train_mse: 0.06041 | train_mae: 0.18906 |  0:00:41s\n"
     ]
    },
    {
     "name": "stdout",
     "output_type": "stream",
     "text": [
      "epoch 424| loss: 0.1369  | train_mse: 0.0614  | train_mae: 0.19252 |  0:00:41s\n",
      "epoch 425| loss: 0.18405 | train_mse: 0.06123 | train_mae: 0.19294 |  0:00:41s\n",
      "epoch 426| loss: 0.16425 | train_mse: 0.05983 | train_mae: 0.19053 |  0:00:41s\n"
     ]
    },
    {
     "name": "stdout",
     "output_type": "stream",
     "text": [
      "epoch 427| loss: 0.21072 | train_mse: 0.05833 | train_mae: 0.1874  |  0:00:41s\n",
      "epoch 428| loss: 0.06847 | train_mse: 0.05651 | train_mae: 0.18664 |  0:00:41s\n",
      "epoch 429| loss: 0.08045 | train_mse: 0.05476 | train_mae: 0.18533 |  0:00:41s\n"
     ]
    },
    {
     "name": "stdout",
     "output_type": "stream",
     "text": [
      "epoch 430| loss: 0.15479 | train_mse: 0.05449 | train_mae: 0.1851  |  0:00:41s\n",
      "epoch 431| loss: 0.10559 | train_mse: 0.05369 | train_mae: 0.18399 |  0:00:41s\n",
      "epoch 432| loss: 0.30019 | train_mse: 0.0552  | train_mae: 0.18604 |  0:00:42s\n"
     ]
    },
    {
     "name": "stdout",
     "output_type": "stream",
     "text": [
      "epoch 433| loss: 0.20416 | train_mse: 0.05658 | train_mae: 0.1873  |  0:00:42s\n",
      "epoch 434| loss: 0.09877 | train_mse: 0.06016 | train_mae: 0.19031 |  0:00:42s\n",
      "epoch 435| loss: 0.07168 | train_mse: 0.06146 | train_mae: 0.19207 |  0:00:42s\n"
     ]
    },
    {
     "name": "stdout",
     "output_type": "stream",
     "text": [
      "epoch 436| loss: 0.08588 | train_mse: 0.0615  | train_mae: 0.19337 |  0:00:42s\n",
      "epoch 437| loss: 0.17803 | train_mse: 0.06429 | train_mae: 0.19776 |  0:00:42s\n",
      "epoch 438| loss: 0.12508 | train_mse: 0.06332 | train_mae: 0.19706 |  0:00:42s\n"
     ]
    },
    {
     "name": "stdout",
     "output_type": "stream",
     "text": [
      "epoch 439| loss: 0.11518 | train_mse: 0.06299 | train_mae: 0.19844 |  0:00:42s\n",
      "epoch 440| loss: 0.15945 | train_mse: 0.066   | train_mae: 0.20502 |  0:00:42s\n",
      "epoch 441| loss: 0.0786  | train_mse: 0.06467 | train_mae: 0.20311 |  0:00:42s\n"
     ]
    },
    {
     "name": "stdout",
     "output_type": "stream",
     "text": [
      "epoch 442| loss: 0.14554 | train_mse: 0.05997 | train_mae: 0.19478 |  0:00:42s\n",
      "epoch 443| loss: 0.16474 | train_mse: 0.05633 | train_mae: 0.18992 |  0:00:42s\n",
      "epoch 444| loss: 0.15841 | train_mse: 0.05511 | train_mae: 0.18957 |  0:00:43s\n"
     ]
    },
    {
     "name": "stdout",
     "output_type": "stream",
     "text": [
      "epoch 445| loss: 0.19229 | train_mse: 0.05279 | train_mae: 0.18372 |  0:00:43s\n",
      "epoch 446| loss: 0.09449 | train_mse: 0.05045 | train_mae: 0.17867 |  0:00:43s\n",
      "epoch 447| loss: 0.12465 | train_mse: 0.04863 | train_mae: 0.17467 |  0:00:43s\n"
     ]
    },
    {
     "name": "stdout",
     "output_type": "stream",
     "text": [
      "epoch 448| loss: 0.2409  | train_mse: 0.04845 | train_mae: 0.17512 |  0:00:43s\n",
      "epoch 449| loss: 0.08375 | train_mse: 0.04852 | train_mae: 0.17368 |  0:00:43s\n",
      "epoch 450| loss: 0.09873 | train_mse: 0.0486  | train_mae: 0.17292 |  0:00:43s\n"
     ]
    },
    {
     "name": "stdout",
     "output_type": "stream",
     "text": [
      "epoch 451| loss: 0.08017 | train_mse: 0.04862 | train_mae: 0.1711  |  0:00:43s\n",
      "epoch 452| loss: 0.09245 | train_mse: 0.0481  | train_mae: 0.16974 |  0:00:43s\n"
     ]
    },
    {
     "name": "stdout",
     "output_type": "stream",
     "text": [
      "epoch 453| loss: 0.08035 | train_mse: 0.0474  | train_mae: 0.16761 |  0:00:43s\n",
      "epoch 454| loss: 0.25654 | train_mse: 0.04776 | train_mae: 0.17124 |  0:00:43s\n",
      "epoch 455| loss: 0.09619 | train_mse: 0.0488  | train_mae: 0.17319 |  0:00:44s\n"
     ]
    },
    {
     "name": "stdout",
     "output_type": "stream",
     "text": [
      "epoch 456| loss: 0.07833 | train_mse: 0.05075 | train_mae: 0.17523 |  0:00:44s\n",
      "epoch 457| loss: 0.14969 | train_mse: 0.05245 | train_mae: 0.1764  |  0:00:44s\n",
      "epoch 458| loss: 0.16591 | train_mse: 0.05513 | train_mae: 0.17878 |  0:00:44s\n"
     ]
    },
    {
     "name": "stdout",
     "output_type": "stream",
     "text": [
      "epoch 459| loss: 0.11059 | train_mse: 0.05764 | train_mae: 0.1813  |  0:00:44s\n",
      "epoch 460| loss: 0.12835 | train_mse: 0.05942 | train_mae: 0.18293 |  0:00:44s\n",
      "epoch 461| loss: 0.11862 | train_mse: 0.05986 | train_mae: 0.18458 |  0:00:44s\n"
     ]
    },
    {
     "name": "stdout",
     "output_type": "stream",
     "text": [
      "epoch 462| loss: 0.12299 | train_mse: 0.05928 | train_mae: 0.18498 |  0:00:44s\n",
      "epoch 463| loss: 0.12691 | train_mse: 0.05771 | train_mae: 0.18284 |  0:00:44s\n",
      "epoch 464| loss: 0.07824 | train_mse: 0.05712 | train_mae: 0.17945 |  0:00:44s\n"
     ]
    },
    {
     "name": "stdout",
     "output_type": "stream",
     "text": [
      "epoch 465| loss: 0.1384  | train_mse: 0.05504 | train_mae: 0.17404 |  0:00:44s\n",
      "epoch 466| loss: 0.09671 | train_mse: 0.0516  | train_mae: 0.17127 |  0:00:45s\n",
      "epoch 467| loss: 0.07671 | train_mse: 0.04842 | train_mae: 0.16909 |  0:00:45s\n"
     ]
    },
    {
     "name": "stdout",
     "output_type": "stream",
     "text": [
      "epoch 468| loss: 0.16883 | train_mse: 0.04536 | train_mae: 0.16613 |  0:00:45s\n",
      "epoch 469| loss: 0.25204 | train_mse: 0.04426 | train_mae: 0.16469 |  0:00:45s\n",
      "epoch 470| loss: 0.1094  | train_mse: 0.04424 | train_mae: 0.16582 |  0:00:45s\n"
     ]
    },
    {
     "name": "stdout",
     "output_type": "stream",
     "text": [
      "epoch 471| loss: 0.07103 | train_mse: 0.045   | train_mae: 0.16841 |  0:00:45s\n",
      "epoch 472| loss: 0.09273 | train_mse: 0.04575 | train_mae: 0.17111 |  0:00:45s\n",
      "epoch 473| loss: 0.07887 | train_mse: 0.04686 | train_mae: 0.17372 |  0:00:45s\n"
     ]
    },
    {
     "name": "stdout",
     "output_type": "stream",
     "text": [
      "epoch 474| loss: 0.09694 | train_mse: 0.04725 | train_mae: 0.17323 |  0:00:45s\n",
      "epoch 475| loss: 0.15377 | train_mse: 0.04689 | train_mae: 0.17211 |  0:00:45s\n",
      "epoch 476| loss: 0.06974 | train_mse: 0.04731 | train_mae: 0.1729  |  0:00:45s\n"
     ]
    },
    {
     "name": "stdout",
     "output_type": "stream",
     "text": [
      "epoch 477| loss: 0.08957 | train_mse: 0.04845 | train_mae: 0.17412 |  0:00:46s\n",
      "epoch 478| loss: 0.1612  | train_mse: 0.04903 | train_mae: 0.17512 |  0:00:46s\n",
      "epoch 479| loss: 0.28561 | train_mse: 0.04953 | train_mae: 0.1746  |  0:00:46s\n"
     ]
    },
    {
     "name": "stdout",
     "output_type": "stream",
     "text": [
      "epoch 480| loss: 0.06982 | train_mse: 0.05087 | train_mae: 0.1755  |  0:00:46s\n",
      "epoch 481| loss: 0.12273 | train_mse: 0.05061 | train_mae: 0.17386 |  0:00:46s\n",
      "epoch 482| loss: 0.12511 | train_mse: 0.05063 | train_mae: 0.17312 |  0:00:46s\n"
     ]
    },
    {
     "name": "stdout",
     "output_type": "stream",
     "text": [
      "epoch 483| loss: 0.09334 | train_mse: 0.04958 | train_mae: 0.17073 |  0:00:46s\n",
      "epoch 484| loss: 0.17164 | train_mse: 0.04655 | train_mae: 0.16633 |  0:00:46s\n"
     ]
    },
    {
     "name": "stdout",
     "output_type": "stream",
     "text": [
      "epoch 485| loss: 0.19226 | train_mse: 0.0479  | train_mae: 0.16991 |  0:00:46s\n",
      "epoch 486| loss: 0.07205 | train_mse: 0.04806 | train_mae: 0.16993 |  0:00:46s\n",
      "epoch 487| loss: 0.29904 | train_mse: 0.0467  | train_mae: 0.16841 |  0:00:46s\n"
     ]
    },
    {
     "name": "stdout",
     "output_type": "stream",
     "text": [
      "epoch 488| loss: 0.09428 | train_mse: 0.04753 | train_mae: 0.17059 |  0:00:46s\n",
      "epoch 489| loss: 0.10373 | train_mse: 0.05045 | train_mae: 0.17559 |  0:00:47s\n",
      "epoch 490| loss: 0.06906 | train_mse: 0.05343 | train_mae: 0.18009 |  0:00:47s\n"
     ]
    },
    {
     "name": "stdout",
     "output_type": "stream",
     "text": [
      "epoch 491| loss: 0.11594 | train_mse: 0.05446 | train_mae: 0.1828  |  0:00:47s\n",
      "epoch 492| loss: 0.09948 | train_mse: 0.05455 | train_mae: 0.18317 |  0:00:47s\n",
      "epoch 493| loss: 0.08585 | train_mse: 0.05303 | train_mae: 0.18135 |  0:00:47s\n"
     ]
    },
    {
     "name": "stdout",
     "output_type": "stream",
     "text": [
      "epoch 494| loss: 0.06298 | train_mse: 0.05033 | train_mae: 0.17687 |  0:00:47s\n",
      "epoch 495| loss: 0.08907 | train_mse: 0.05011 | train_mae: 0.17593 |  0:00:47s\n",
      "epoch 496| loss: 0.09123 | train_mse: 0.05149 | train_mae: 0.17737 |  0:00:47s"
     ]
    },
    {
     "name": "stdout",
     "output_type": "stream",
     "text": [
      "\n",
      "epoch 497| loss: 0.11671 | train_mse: 0.05355 | train_mae: 0.17923 |  0:00:47s\n",
      "epoch 498| loss: 0.08553 | train_mse: 0.05422 | train_mae: 0.18023 |  0:00:47s\n"
     ]
    },
    {
     "name": "stdout",
     "output_type": "stream",
     "text": [
      "epoch 499| loss: 0.10478 | train_mse: 0.05429 | train_mae: 0.18045 |  0:00:47s\n",
      "epoch 500| loss: 0.09929 | train_mse: 0.05434 | train_mae: 0.18042 |  0:00:48s\n",
      "epoch 501| loss: 0.10406 | train_mse: 0.05482 | train_mae: 0.18068 |  0:00:48s\n"
     ]
    },
    {
     "name": "stdout",
     "output_type": "stream",
     "text": [
      "epoch 502| loss: 0.0882  | train_mse: 0.05464 | train_mae: 0.18043 |  0:00:48s\n",
      "epoch 503| loss: 0.15021 | train_mse: 0.05363 | train_mae: 0.17972 |  0:00:48s\n"
     ]
    },
    {
     "name": "stdout",
     "output_type": "stream",
     "text": [
      "epoch 504| loss: 0.08807 | train_mse: 0.05174 | train_mae: 0.17895 |  0:00:48s\n",
      "epoch 505| loss: 0.08874 | train_mse: 0.05018 | train_mae: 0.17685 |  0:00:48s\n"
     ]
    },
    {
     "name": "stdout",
     "output_type": "stream",
     "text": [
      "epoch 506| loss: 0.1769  | train_mse: 0.04983 | train_mae: 0.17747 |  0:00:48s\n",
      "epoch 507| loss: 0.07374 | train_mse: 0.05093 | train_mae: 0.17843 |  0:00:48s\n",
      "epoch 508| loss: 0.08096 | train_mse: 0.05176 | train_mae: 0.17911 |  0:00:48s\n"
     ]
    },
    {
     "name": "stdout",
     "output_type": "stream",
     "text": [
      "epoch 509| loss: 0.07801 | train_mse: 0.0532  | train_mae: 0.18259 |  0:00:48s\n",
      "epoch 510| loss: 0.14695 | train_mse: 0.05598 | train_mae: 0.18727 |  0:00:48s\n",
      "epoch 511| loss: 0.10204 | train_mse: 0.05843 | train_mae: 0.19223 |  0:00:49s\n"
     ]
    },
    {
     "name": "stdout",
     "output_type": "stream",
     "text": [
      "epoch 512| loss: 0.14565 | train_mse: 0.06126 | train_mae: 0.19581 |  0:00:49s\n",
      "epoch 513| loss: 0.22644 | train_mse: 0.06197 | train_mae: 0.19571 |  0:00:49s\n",
      "epoch 514| loss: 0.09537 | train_mse: 0.06291 | train_mae: 0.19543 |  0:00:49s\n"
     ]
    },
    {
     "name": "stdout",
     "output_type": "stream",
     "text": [
      "epoch 515| loss: 0.13056 | train_mse: 0.06175 | train_mae: 0.19235 |  0:00:49s\n",
      "epoch 516| loss: 0.07328 | train_mse: 0.05881 | train_mae: 0.18631 |  0:00:49s\n",
      "epoch 517| loss: 0.06467 | train_mse: 0.05608 | train_mae: 0.18049 |  0:00:49s\n"
     ]
    },
    {
     "name": "stdout",
     "output_type": "stream",
     "text": [
      "epoch 518| loss: 0.06764 | train_mse: 0.05291 | train_mae: 0.17554 |  0:00:49s\n",
      "epoch 519| loss: 0.13565 | train_mse: 0.05151 | train_mae: 0.17512 |  0:00:49s\n",
      "\n",
      "Early stopping occurred at epoch 519 with best_epoch = 469 and best_train_mae = 0.16469\n",
      "Best weights from best epoch are automatically used!\n"
     ]
    }
   ],
   "source": [
    "#Train the Model\n",
    "\n",
    "Y_train = np.reshape(Y_train, (-1, 1))\n",
    "Y_test = np.reshape(Y_test, (-1, 1))\n",
    "\n",
    "prior_model = TabNetRegressor(optimizer_fn=torch.optim.Adam, optimizer_params=dict(lr = 0.001),\n",
    "          #scheduler_params={\"step_size\":10, ], \"gamma\":0.9},\n",
    "          #scheduler_fn=torch.optim.lr_scheduler.StepLR\n",
    "          )  #TabNetRegressor()\n",
    "\n",
    "prior_model.fit(X_train,Y_train,eval_set=[(X_train, Y_train)],\n",
    "            eval_name=['train'], \n",
    "            eval_metric=[ 'mse', 'mae'], \n",
    "            max_epochs = n_epochs, \n",
    "            batch_size = batch_size,\n",
    "            patience=50\n",
    "            )"
   ]
  },
  {
   "cell_type": "code",
   "execution_count": 10,
   "id": "af65dcda",
   "metadata": {
    "execution": {
     "iopub.execute_input": "2022-07-22T11:45:12.406737Z",
     "iopub.status.busy": "2022-07-22T11:45:12.406096Z",
     "iopub.status.idle": "2022-07-22T11:45:12.459931Z",
     "shell.execute_reply": "2022-07-22T11:45:12.457648Z"
    },
    "id": "af65dcda",
    "papermill": {
     "duration": 0.078897,
     "end_time": "2022-07-22T11:45:12.462903",
     "exception": false,
     "start_time": "2022-07-22T11:45:12.384006",
     "status": "completed"
    },
    "tags": []
   },
   "outputs": [
    {
     "data": {
      "application/scrapbook.scrap.json+json": {
       "data": 0.2606306640968292,
       "encoder": "json",
       "name": "Prior Model MSE",
       "version": 1
      }
     },
     "metadata": {
      "scrapbook": {
       "data": true,
       "display": false,
       "name": "Prior Model MSE"
      }
     },
     "output_type": "display_data"
    },
    {
     "data": {
      "application/scrapbook.scrap.json+json": {
       "data": 1.0884841380631083,
       "encoder": "json",
       "name": "ABC Pre-generator MSE",
       "version": 1
      }
     },
     "metadata": {
      "scrapbook": {
       "data": true,
       "display": false,
       "name": "ABC Pre-generator MSE"
      }
     },
     "output_type": "display_data"
    },
    {
     "data": {
      "application/scrapbook.scrap.json+json": {
       "data": 0.34959404707297637,
       "encoder": "json",
       "name": "Prior Model MAE",
       "version": 1
      }
     },
     "metadata": {
      "scrapbook": {
       "data": true,
       "display": false,
       "name": "Prior Model MAE"
      }
     },
     "output_type": "display_data"
    },
    {
     "name": "stdout",
     "output_type": "stream",
     "text": [
      "Prior Model MAE 0.34959404707297637\n"
     ]
    },
    {
     "data": {
      "application/scrapbook.scrap.json+json": {
       "data": 0.8888317043158965,
       "encoder": "json",
       "name": "ABC Pre-generator MAE",
       "version": 1
      }
     },
     "metadata": {
      "scrapbook": {
       "data": true,
       "display": false,
       "name": "ABC Pre-generator MAE"
      }
     },
     "output_type": "display_data"
    },
    {
     "name": "stdout",
     "output_type": "stream",
     "text": [
      "ABC Pre-generator MAE 0.8888317043158965\n"
     ]
    }
   ],
   "source": [
    "y_pred = prior_model.predict(X_test)\n",
    "y_abc = y_pred + np.random.normal(0,variance, y_pred.shape) + bias \n",
    "mse = mean_squared_error(y_pred,Y_test)\n",
    "sb.glue(\"Prior Model MSE\",mse)\n",
    "mse = mean_squared_error(y_abc,Y_test)\n",
    "sb.glue(\"ABC Pre-generator MSE\",mse)\n",
    "mae = mean_absolute_error(y_pred,Y_test)\n",
    "sb.glue(\"Prior Model MAE\",mae)\n",
    "print(\"Prior Model MAE\",mae)\n",
    "mae = mean_absolute_error(y_abc,Y_test)\n",
    "sb.glue(\"ABC Pre-generator MAE\",mae)\n",
    "print(\"ABC Pre-generator MAE\",mae)"
   ]
  },
  {
   "cell_type": "markdown",
   "id": "25609da2",
   "metadata": {
    "papermill": {
     "duration": 0.022625,
     "end_time": "2022-07-22T11:45:12.510802",
     "exception": false,
     "start_time": "2022-07-22T11:45:12.488177",
     "status": "completed"
    },
    "tags": []
   },
   "source": [
    "# mGAN Model"
   ]
  },
  {
   "cell_type": "code",
   "execution_count": 11,
   "id": "dfc3464d",
   "metadata": {
    "execution": {
     "iopub.execute_input": "2022-07-22T11:45:12.556794Z",
     "iopub.status.busy": "2022-07-22T11:45:12.556418Z",
     "iopub.status.idle": "2022-07-22T11:45:12.560603Z",
     "shell.execute_reply": "2022-07-22T11:45:12.559503Z"
    },
    "papermill": {
     "duration": 0.030517,
     "end_time": "2022-07-22T11:45:12.563805",
     "exception": false,
     "start_time": "2022-07-22T11:45:12.533288",
     "status": "completed"
    },
    "tags": []
   },
   "outputs": [],
   "source": [
    "# gen = network.Generator(n_features+1).to(device)\n",
    "# disc = network.Discriminator(n_features+1).to(device)\n",
    "\n",
    "# criterion = torch.nn.BCELoss()\n",
    "# gen_opt = torch.optim.Adam(gen.parameters(), lr=0.001, betas=(0.5, 0.999))\n",
    "# disc_opt = torch.optim.Adam(disc.parameters(), lr=0.001, betas=(0.5, 0.999))"
   ]
  },
  {
   "cell_type": "code",
   "execution_count": 12,
   "id": "b75fdd85",
   "metadata": {
    "execution": {
     "iopub.execute_input": "2022-07-22T11:45:12.609745Z",
     "iopub.status.busy": "2022-07-22T11:45:12.609413Z",
     "iopub.status.idle": "2022-07-22T11:45:12.613750Z",
     "shell.execute_reply": "2022-07-22T11:45:12.612340Z"
    },
    "papermill": {
     "duration": 0.031369,
     "end_time": "2022-07-22T11:45:12.617059",
     "exception": false,
     "start_time": "2022-07-22T11:45:12.585690",
     "status": "completed"
    },
    "tags": []
   },
   "outputs": [],
   "source": [
    "#Training the ABC_GAN \n",
    "# ABC_train_test2.training_GAN(disc,gen,disc_opt,gen_opt,train_data,batch_size,n_epochs,criterion,prior_model,variance,bias,device)"
   ]
  },
  {
   "cell_type": "code",
   "execution_count": 13,
   "id": "1fa7c368",
   "metadata": {
    "execution": {
     "iopub.execute_input": "2022-07-22T11:45:12.660882Z",
     "iopub.status.busy": "2022-07-22T11:45:12.660182Z",
     "iopub.status.idle": "2022-07-22T11:45:12.665380Z",
     "shell.execute_reply": "2022-07-22T11:45:12.663817Z"
    },
    "papermill": {
     "duration": 0.030078,
     "end_time": "2022-07-22T11:45:12.668043",
     "exception": false,
     "start_time": "2022-07-22T11:45:12.637965",
     "status": "completed"
    },
    "tags": []
   },
   "outputs": [],
   "source": [
    "# ABC_GAN1_metrics=ABC_train_test2.test_generator(gen,test_data,prior_model,variance,bias,\"1\",device)\n",
    "# sb.glue(\"ABC_GAN_1 Metrics\",ABC_GAN1_metrics)\n",
    "\n",
    "# print(\"MAE\")\n",
    "# print(mean(ABC_GAN1_metrics[1]))"
   ]
  },
  {
   "cell_type": "code",
   "execution_count": 14,
   "id": "eb22ce5c",
   "metadata": {
    "execution": {
     "iopub.execute_input": "2022-07-22T11:45:12.714337Z",
     "iopub.status.busy": "2022-07-22T11:45:12.713680Z",
     "iopub.status.idle": "2022-07-22T11:45:12.717872Z",
     "shell.execute_reply": "2022-07-22T11:45:12.716906Z"
    },
    "papermill": {
     "duration": 0.031704,
     "end_time": "2022-07-22T11:45:12.721551",
     "exception": false,
     "start_time": "2022-07-22T11:45:12.689847",
     "status": "completed"
    },
    "tags": []
   },
   "outputs": [],
   "source": [
    "# sanityChecks.discProbVsError(train_data,disc,device)\n",
    "# sanityChecks.discProbVsError(test_data,disc,device)"
   ]
  },
  {
   "cell_type": "markdown",
   "id": "b7fda131",
   "metadata": {
    "papermill": {
     "duration": 0.021397,
     "end_time": "2022-07-22T11:45:12.765438",
     "exception": false,
     "start_time": "2022-07-22T11:45:12.744041",
     "status": "completed"
    },
    "tags": []
   },
   "source": [
    "# mGAN Model with TabNet Generator"
   ]
  },
  {
   "cell_type": "code",
   "execution_count": 15,
   "id": "5fe62c92",
   "metadata": {
    "execution": {
     "iopub.execute_input": "2022-07-22T11:45:12.811428Z",
     "iopub.status.busy": "2022-07-22T11:45:12.810824Z",
     "iopub.status.idle": "2022-07-22T11:45:12.828993Z",
     "shell.execute_reply": "2022-07-22T11:45:12.828106Z"
    },
    "papermill": {
     "duration": 0.044901,
     "end_time": "2022-07-22T11:45:12.831747",
     "exception": false,
     "start_time": "2022-07-22T11:45:12.786846",
     "status": "completed"
    },
    "tags": []
   },
   "outputs": [],
   "source": [
    "gen2 = network.GeneratorTabnet(n_features+1).to(device)\n",
    "disc2 = network.Discriminator(n_features+1).to(device)\n",
    "\n",
    "criterion = torch.nn.BCELoss()\n",
    "gen_opt = torch.optim.Adam(gen2.parameters(), lr=0.001, betas=(0.5, 0.999))\n",
    "disc_opt = torch.optim.Adam(disc2.parameters(), lr=0.001, betas=(0.5, 0.999))"
   ]
  },
  {
   "cell_type": "code",
   "execution_count": 16,
   "id": "cf395a04",
   "metadata": {
    "execution": {
     "iopub.execute_input": "2022-07-22T11:45:12.876065Z",
     "iopub.status.busy": "2022-07-22T11:45:12.875424Z",
     "iopub.status.idle": "2022-07-22T11:47:55.584358Z",
     "shell.execute_reply": "2022-07-22T11:47:55.581367Z"
    },
    "papermill": {
     "duration": 162.736386,
     "end_time": "2022-07-22T11:47:55.589301",
     "exception": false,
     "start_time": "2022-07-22T11:45:12.852915",
     "status": "completed"
    },
    "tags": []
   },
   "outputs": [
    {
     "data": {
      "image/png": "[encoded data removed]",
      "text/plain": [
       "<Figure size 432x288 with 1 Axes>"
      ]
     },
     "metadata": {
      "needs_background": "light"
     },
     "output_type": "display_data"
    },
    {
     "data": {
      "image/png": "[encoded data removed]",
      "text/plain": [
       "<Figure size 432x288 with 1 Axes>"
      ]
     },
     "metadata": {
      "needs_background": "light"
     },
     "output_type": "display_data"
    }
   ],
   "source": [
    "#Training the ABC_GAN \n",
    "ABC_train_test2.training_GAN(disc2,gen2,disc_opt,gen_opt,train_data,batch_size,n_epochs,criterion,prior_model,variance,bias,device)"
   ]
  },
  {
   "cell_type": "code",
   "execution_count": 17,
   "id": "6178b717",
   "metadata": {
    "execution": {
     "iopub.execute_input": "2022-07-22T11:47:55.639296Z",
     "iopub.status.busy": "2022-07-22T11:47:55.638496Z",
     "iopub.status.idle": "2022-07-22T11:47:57.759165Z",
     "shell.execute_reply": "2022-07-22T11:47:57.756503Z"
    },
    "papermill": {
     "duration": 2.1511,
     "end_time": "2022-07-22T11:47:57.763885",
     "exception": false,
     "start_time": "2022-07-22T11:47:55.612785",
     "status": "completed"
    },
    "tags": []
   },
   "outputs": [
    {
     "data": {
      "application/scrapbook.scrap.json+json": {
       "data": 0.5224067372543897,
       "encoder": "json",
       "name": "ABC-GAN Model 1 MSE",
       "version": 1
      }
     },
     "metadata": {
      "scrapbook": {
       "data": true,
       "display": false,
       "name": "ABC-GAN Model 1 MSE"
      }
     },
     "output_type": "display_data"
    },
    {
     "data": {
      "application/scrapbook.scrap.json+json": {
       "data": 0.5143983787186444,
       "encoder": "json",
       "name": "ABC-GAN Model 1 MAE",
       "version": 1
      }
     },
     "metadata": {
      "scrapbook": {
       "data": true,
       "display": false,
       "name": "ABC-GAN Model 1 MAE"
      }
     },
     "output_type": "display_data"
    },
    {
     "data": {
      "application/scrapbook.scrap.json+json": {
       "data": 10.287967574372887,
       "encoder": "json",
       "name": "ABC-GAN Model 1 Manhattan Distance",
       "version": 1
      }
     },
     "metadata": {
      "scrapbook": {
       "data": true,
       "display": false,
       "name": "ABC-GAN Model 1 Manhattan Distance"
      }
     },
     "output_type": "display_data"
    },
    {
     "data": {
      "application/scrapbook.scrap.json+json": {
       "data": 3.2139975641534564,
       "encoder": "json",
       "name": "ABC-GAN Model 1 Euclidean distance",
       "version": 1
      }
     },
     "metadata": {
      "scrapbook": {
       "data": true,
       "display": false,
       "name": "ABC-GAN Model 1 Euclidean distance"
      }
     },
     "output_type": "display_data"
    },
    {
     "data": {
      "application/scrapbook.scrap.json+json": {
       "data": [
        [
         0.5183145133902771,
         0.43908682578176794,
         0.6462106068379029,
         0.46665304624721615,
         0.39497469036654265,
         0.4936438576223379,
         0.7895880116085673,
         0.5484476829459091,
         0.6284841721641123,
         0.562969806046843,
         0.502253487780844,
         0.3708144419611543,
         0.5094649156931906,
         0.5794064929707444,
         0.7710507228666079,
         0.4187872669104095,
         0.4033407627895196,
         0.5571299169157029,
         0.48016912023864877,
         0.5469522318490926,
         0.39136735723381805,
         0.43415406355456765,
         0.5644884518925328,
         0.5813100179380571,
         0.6039060695241153,
         0.4759825298227282,
         0.3829947017280591,
         0.7436791736027182,
         0.3847672576279001,
         0.5344265114184037,
         0.5677709894612291,
         0.45505338099563525,
         0.44600126617306335,
         0.4150524339861684,
         0.5444070533153988,
         0.788478940607998,
         0.6260321144083711,
         0.6354460225703138,
         0.5466147340967362,
         0.6040036990086307,
         0.5630388688944994,
         0.5019981580168551,
         0.5027208426937886,
         0.6099336038750469,
         0.5290798273841177,
         0.37031512997979904,
         0.6605346135688805,
         0.6908512750564022,
         0.650912846386374,
         0.5071658767858915,
         0.7312240157927903,
         0.5309730899857206,
         0.6519614782327119,
         0.41825361332344463,
         0.571645874071353,
         0.5007400064322574,
         0.43551337803966705,
         0.4075529200507688,
         0.4226196032062951,
         0.4918994921666524,
         0.5277257038692698,
         0.4343941100463399,
         0.4292316870160864,
         0.3762974516372309,
         0.7000403822803152,
         0.5585872583766743,
         0.2796309560959217,
         0.6576873691199352,
         0.5252330884449792,
         0.26925854348633227,
         0.46703900830711903,
         0.43524075309494525,
         0.5506211652904277,
         0.5054911177429444,
         0.4242426343481182,
         0.4364317176432856,
         0.46936438230661465,
         0.711004796046353,
         0.4670243585210455,
         0.6319137113969839,
         0.4315818862127826,
         0.4918041255117682,
         0.4439285146819943,
         0.355778434394023,
         0.33833895110582707,
         0.6419116458425853,
         0.49460058796151946,
         0.5242561669705609,
         0.5403117268581183,
         0.4921390325696192,
         0.7890607531023284,
         0.4759057645356618,
         0.5087814039999999,
         0.48772557944886596,
         0.756369658812123,
         0.5310356606139083,
         0.44281330322322415,
         0.5836294765005678,
         0.3826098226688332,
         0.5690171794565814
        ],
        [
         0.5038065809756518,
         0.48555643633008005,
         0.49838112741708757,
         0.48694988451898097,
         0.46287477742880584,
         0.5178291041404008,
         0.6157055232673884,
         0.5565102584660053,
         0.5699724299833179,
         0.6015024933964014,
         0.5327864412218333,
         0.4412399549037218,
         0.5001202389597893,
         0.5324832949787378,
         0.5675146330147982,
         0.463879331946373,
         0.4678485091775656,
         0.5642222963273525,
         0.5079564984887839,
         0.5018435627222061,
         0.4499598115682602,
         0.4800096105784178,
         0.5332986894994974,
         0.572813855111599,
         0.5432207863777876,
         0.5044410321861506,
         0.4394107548519969,
         0.6145304396748543,
         0.44579421542584896,
         0.5523367453366518,
         0.5302074152976275,
         0.4861419819295406,
         0.5075025252997876,
         0.4829054202884436,
         0.5119392715394497,
         0.581021960452199,
         0.5749428423121572,
         0.5472844898700714,
         0.4622243236750364,
         0.5392394106835127,
         0.5434758704155683,
         0.47711947839707136,
         0.5260434374213219,
         0.5491490293294191,
         0.5366530664265156,
         0.41470809616148474,
         0.5500402051955462,
         0.6050990652292967,
         0.5212281599640847,
         0.5378073241561652,
         0.5848272768780589,
         0.5167557112872601,
         0.5634532505646348,
         0.4444789789617062,
         0.5606681931763887,
         0.4953264262527227,
         0.5192518938332796,
         0.46167492363601925,
         0.4655320405960083,
         0.50665735155344,
         0.540031073987484,
         0.4752251457422972,
         0.4819315202534199,
         0.44222751148045064,
         0.5929793823510409,
         0.5045142263174057,
         0.38435492143034933,
         0.5840679302811622,
         0.5417766869068146,
         0.3732485815882683,
         0.4862247843295336,
         0.46114331744611264,
         0.5258237859234214,
         0.5333778087049723,
         0.48492984771728515,
         0.5096460942178964,
         0.5139088831841946,
         0.5796404406428337,
         0.5088540963828564,
         0.5741727370768785,
         0.4870725400745869,
         0.49559954516589644,
         0.47293951734900475,
         0.4399093672633171,
         0.43266231901943686,
         0.5100377067923546,
         0.5195713363587856,
         0.5071851927787066,
         0.54893179833889,
         0.5301124675199389,
         0.5736992176622152,
         0.48930313214659693,
         0.5324427936226129,
         0.511922762170434,
         0.6168106768280268,
         0.5557703383266925,
         0.46720445193350313,
         0.5658205918967724,
         0.44834422804415225,
         0.5182603735476732
        ],
        [
         10.076131619513035,
         9.7111287266016,
         9.967622548341751,
         9.73899769037962,
         9.257495548576117,
         10.356582082808018,
         12.314110465347767,
         11.130205169320107,
         11.399448599666357,
         12.030049867928028,
         10.655728824436665,
         8.824799098074436,
         10.002404779195786,
         10.649665899574757,
         11.350292660295963,
         9.27758663892746,
         9.356970183551311,
         11.28444592654705,
         10.159129969775677,
         10.036871254444122,
         8.999196231365204,
         9.600192211568356,
         10.665973789989948,
         11.45627710223198,
         10.864415727555752,
         10.088820643723011,
         8.788215097039938,
         12.290608793497086,
         8.91588430851698,
         11.046734906733036,
         10.604148305952549,
         9.722839638590813,
         10.15005050599575,
         9.658108405768871,
         10.238785430788994,
         11.62043920904398,
         11.498856846243143,
         10.945689797401428,
         9.244486473500729,
         10.784788213670254,
         10.869517408311367,
         9.542389567941427,
         10.520868748426437,
         10.982980586588383,
         10.733061328530312,
         8.294161923229694,
         11.000804103910923,
         12.101981304585934,
         10.424563199281693,
         10.756146483123302,
         11.696545537561178,
         10.335114225745201,
         11.269065011292696,
         8.889579579234123,
         11.213363863527775,
         9.906528525054455,
         10.385037876665592,
         9.233498472720385,
         9.310640811920166,
         10.133147031068802,
         10.80062147974968,
         9.504502914845943,
         9.638630405068398,
         8.844550229609013,
         11.859587647020817,
         10.090284526348114,
         7.687098428606987,
         11.681358605623245,
         10.835533738136292,
         7.464971631765366,
         9.724495686590672,
         9.222866348922253,
         10.516475718468428,
         10.667556174099445,
         9.698596954345703,
         10.19292188435793,
         10.278177663683891,
         11.592808812856674,
         10.177081927657127,
         11.483454741537571,
         9.741450801491737,
         9.911990903317928,
         9.458790346980095,
         8.798187345266342,
         8.653246380388737,
         10.200754135847092,
         10.391426727175713,
         10.143703855574131,
         10.978635966777802,
         10.602249350398779,
         11.473984353244305,
         9.786062642931938,
         10.648855872452259,
         10.23845524340868,
         12.336213536560535,
         11.115406766533852,
         9.344089038670063,
         11.316411837935448,
         8.966884560883045,
         10.365207470953465
        ],
        [
         3.21967238516678,
         2.963399486339187,
         3.5950260272712984,
         3.0550058796906305,
         2.8106038154337676,
         3.142113484972616,
         3.973884778421657,
         3.3119410711723387,
         3.545374936911785,
         3.355502364913018,
         3.169395802927883,
         2.7232864041857745,
         3.192068030895302,
         3.4041342305224815,
         3.9269599510731146,
         2.894087997661473,
         2.8402139454256594,
         3.3380530760181233,
         3.098932462118685,
         3.307422657747547,
         2.79773964919475,
         2.9467068519096626,
         3.360025154347904,
         3.4097214488519647,
         3.4753591743131103,
         3.0853931024189714,
         2.767651357118736,
         3.8566285110254475,
         2.774048513014508,
         3.2693317709232375,
         3.369780377001531,
         3.016797576887237,
         2.986641144071592,
         2.881154053452083,
         3.299718331359205,
         3.9710928989586685,
         3.5384519621110333,
         3.564957286056353,
         3.3064020750560155,
         3.475640082081661,
         3.3557081782970912,
         3.168590090298381,
         3.170870046828752,
         3.492659742588868,
         3.2529366036986267,
         2.7214522960353325,
         3.6346516024754845,
         3.7171259732659108,
         3.6080821675410166,
         3.18485753774291,
         3.8241966889604155,
         3.2587515707268033,
         3.610987339309602,
         2.8922434659739302,
         3.3812597477015958,
         3.164616900770952,
         2.9513162420847654,
         2.855005849558872,
         2.9072997891730914,
         3.1365570046363014,
         3.2487711642073838,
         2.947521365643818,
         2.929954562842524,
         2.7433463202345814,
         3.7417653114013305,
         3.3424160673880037,
         2.3648719039132824,
         3.626809532136848,
         3.2410895959383144,
         2.320597093363397,
         3.0562689944018966,
         2.9503923572804527,
         3.318497145668285,
         3.1795946840531246,
         2.9128770463173286,
         2.9544262307368094,
         3.063868085628409,
         3.77095424540355,
         3.0562210604635442,
         3.555035052983258,
         2.93796489500056,
         3.1362529410484994,
         2.9796929864735873,
         2.6675023313730133,
         2.6013033314314846,
         3.5830479925409464,
         3.145156873548661,
         3.238074016975402,
         3.2872837627990625,
         3.137320616607806,
         3.972557748107202,
         3.0851442900962076,
         3.189926030490362,
         3.1232213480599347,
         3.8893949627470925,
         3.258943573042983,
         2.9759479270418168,
         3.416517163722634,
         2.7662603733879902,
         3.3734764841527536
        ]
       ],
       "encoder": "json",
       "name": "ABC_GAN_2 Metrics",
       "version": 1
      }
     },
     "metadata": {
      "scrapbook": {
       "data": true,
       "display": false,
       "name": "ABC_GAN_2 Metrics"
      }
     },
     "output_type": "display_data"
    },
    {
     "name": "stdout",
     "output_type": "stream",
     "text": [
      "MAE\n",
      "0.5143983787186444\n"
     ]
    }
   ],
   "source": [
    "ABC_GAN2_metrics=ABC_train_test2.test_generator(gen2,test_data,prior_model,variance,bias,\"1\",device)\n",
    "sb.glue(\"ABC_GAN_2 Metrics\",ABC_GAN2_metrics)\n",
    "\n",
    "print(\"MAE\")\n",
    "print(mean(ABC_GAN2_metrics[1]))"
   ]
  },
  {
   "cell_type": "code",
   "execution_count": 18,
   "id": "81ffbe7d",
   "metadata": {
    "execution": {
     "iopub.execute_input": "2022-07-22T11:47:57.838277Z",
     "iopub.status.busy": "2022-07-22T11:47:57.837694Z",
     "iopub.status.idle": "2022-07-22T11:47:58.981610Z",
     "shell.execute_reply": "2022-07-22T11:47:58.980406Z"
    },
    "papermill": {
     "duration": 1.188148,
     "end_time": "2022-07-22T11:47:58.988226",
     "exception": false,
     "start_time": "2022-07-22T11:47:57.800078",
     "status": "completed"
    },
    "tags": []
   },
   "outputs": [
    {
     "data": {
      "image/png": "[encoded data removed]",
      "text/plain": [
       "<Figure size 432x288 with 1 Axes>"
      ]
     },
     "metadata": {
      "needs_background": "light"
     },
     "output_type": "display_data"
    },
    {
     "data": {
      "image/png": "[encoded data removed]",
      "text/plain": [
       "<Figure size 432x288 with 1 Axes>"
      ]
     },
     "metadata": {
      "needs_background": "light"
     },
     "output_type": "display_data"
    },
    {
     "data": {
      "image/png": "[encoded data removed]",
      "text/plain": [
       "<Figure size 432x288 with 1 Axes>"
      ]
     },
     "metadata": {
      "needs_background": "light"
     },
     "output_type": "display_data"
    },
    {
     "data": {
      "image/png": "[encoded data removed]",
      "text/plain": [
       "<Figure size 432x288 with 1 Axes>"
      ]
     },
     "metadata": {
      "needs_background": "light"
     },
     "output_type": "display_data"
    }
   ],
   "source": [
    "sanityChecks.discProbVsError(train_data,disc2,device)\n",
    "sanityChecks.discProbVsError(test_data,disc2,device)"
   ]
  },
  {
   "cell_type": "markdown",
   "id": "130f3a4d",
   "metadata": {
    "id": "130f3a4d",
    "papermill": {
     "duration": 0.041585,
     "end_time": "2022-07-22T11:47:59.069288",
     "exception": false,
     "start_time": "2022-07-22T11:47:59.027703",
     "status": "completed"
    },
    "tags": []
   },
   "source": [
    "# skipGAN Model"
   ]
  },
  {
   "cell_type": "code",
   "execution_count": 19,
   "id": "4e43dad1",
   "metadata": {
    "execution": {
     "iopub.execute_input": "2022-07-22T11:47:59.165015Z",
     "iopub.status.busy": "2022-07-22T11:47:59.164566Z",
     "iopub.status.idle": "2022-07-22T11:47:59.172422Z",
     "shell.execute_reply": "2022-07-22T11:47:59.168996Z"
    },
    "id": "4e43dad1",
    "papermill": {
     "duration": 0.069337,
     "end_time": "2022-07-22T11:47:59.179856",
     "exception": false,
     "start_time": "2022-07-22T11:47:59.110519",
     "status": "completed"
    },
    "tags": []
   },
   "outputs": [],
   "source": [
    "# #Generator\n",
    "# gen3 = network.GeneratorWithSkipConnection(n_features+1).to(device)\n",
    "# constraints=network.weightConstraint()\n",
    "# #Discriminator \n",
    "# disc3 = network.Discriminator(n_features+1).to(device)\n",
    "\n",
    "# criterion = torch.nn.BCELoss()\n",
    "# gen_opt = torch.optim.Adam(gen3.parameters(), lr=0.01, betas=(0.5, 0.999))\n",
    "# disc_opt = torch.optim.Adam(disc3.parameters(), lr=0.01, betas=(0.5, 0.999))\n"
   ]
  },
  {
   "cell_type": "code",
   "execution_count": 20,
   "id": "26acbc37",
   "metadata": {
    "execution": {
     "iopub.execute_input": "2022-07-22T11:47:59.263061Z",
     "iopub.status.busy": "2022-07-22T11:47:59.262450Z",
     "iopub.status.idle": "2022-07-22T11:47:59.268523Z",
     "shell.execute_reply": "2022-07-22T11:47:59.267286Z"
    },
    "id": "26acbc37",
    "papermill": {
     "duration": 0.057973,
     "end_time": "2022-07-22T11:47:59.278169",
     "exception": false,
     "start_time": "2022-07-22T11:47:59.220196",
     "status": "completed"
    },
    "tags": []
   },
   "outputs": [],
   "source": [
    "# ABC_train_test2.training_GAN_skip_connection(disc3,gen3,disc_opt,gen_opt,train_data,batch_size,n_epochs,criterion,prior_model,variance,bias,device)"
   ]
  },
  {
   "cell_type": "code",
   "execution_count": 21,
   "id": "c5e0717b",
   "metadata": {
    "execution": {
     "iopub.execute_input": "2022-07-22T11:47:59.367757Z",
     "iopub.status.busy": "2022-07-22T11:47:59.367300Z",
     "iopub.status.idle": "2022-07-22T11:47:59.376220Z",
     "shell.execute_reply": "2022-07-22T11:47:59.374851Z"
    },
    "id": "c5e0717b",
    "papermill": {
     "duration": 0.064834,
     "end_time": "2022-07-22T11:47:59.387150",
     "exception": false,
     "start_time": "2022-07-22T11:47:59.322316",
     "status": "completed"
    },
    "tags": []
   },
   "outputs": [],
   "source": [
    "# ABC_GAN3_metrics=ABC_train_test2.test_generator(gen3,test_data,prior_model,variance,bias,\"3\",device)\n",
    "# sb.glue(\"ABC_GAN_3 Metrics\",ABC_GAN3_metrics)\n",
    "\n",
    "# print(\"MAE\")\n",
    "# print(mean(ABC_GAN3_metrics[1]))"
   ]
  },
  {
   "cell_type": "code",
   "execution_count": 22,
   "id": "c8e46b48",
   "metadata": {
    "execution": {
     "iopub.execute_input": "2022-07-22T11:47:59.472736Z",
     "iopub.status.busy": "2022-07-22T11:47:59.472305Z",
     "iopub.status.idle": "2022-07-22T11:47:59.477834Z",
     "shell.execute_reply": "2022-07-22T11:47:59.476806Z"
    },
    "id": "c8e46b48",
    "papermill": {
     "duration": 0.067811,
     "end_time": "2022-07-22T11:47:59.488026",
     "exception": false,
     "start_time": "2022-07-22T11:47:59.420215",
     "status": "completed"
    },
    "tags": []
   },
   "outputs": [],
   "source": [
    "# sanityChecks.discProbVsError(train_data,disc3,device)\n",
    "# sanityChecks.discProbVsError(test_data,disc3,device)"
   ]
  },
  {
   "cell_type": "markdown",
   "id": "b30e3825",
   "metadata": {
    "id": "130f3a4d",
    "papermill": {
     "duration": 0.044631,
     "end_time": "2022-07-22T11:47:59.568357",
     "exception": false,
     "start_time": "2022-07-22T11:47:59.523726",
     "status": "completed"
    },
    "tags": []
   },
   "source": [
    "# skipGAN Model with TabNet Generator"
   ]
  },
  {
   "cell_type": "code",
   "execution_count": 23,
   "id": "f6d4023a",
   "metadata": {
    "execution": {
     "iopub.execute_input": "2022-07-22T11:47:59.662483Z",
     "iopub.status.busy": "2022-07-22T11:47:59.662021Z",
     "iopub.status.idle": "2022-07-22T11:47:59.682360Z",
     "shell.execute_reply": "2022-07-22T11:47:59.681351Z"
    },
    "id": "4e43dad1",
    "papermill": {
     "duration": 0.075505,
     "end_time": "2022-07-22T11:47:59.691257",
     "exception": false,
     "start_time": "2022-07-22T11:47:59.615752",
     "status": "completed"
    },
    "tags": []
   },
   "outputs": [],
   "source": [
    "#Generator\n",
    "gen4 = network.GeneratorTabnetskipConnection(n_features+1).to(device)\n",
    "constraints=network.weightConstraint()\n",
    "#Discriminator \n",
    "disc4 = network.Discriminator(n_features+1).to(device)\n",
    "\n",
    "criterion = torch.nn.BCELoss()\n",
    "gen_opt = torch.optim.Adam(gen4.parameters(), lr=0.001, betas=(0.5, 0.999))\n",
    "disc_opt = torch.optim.Adam(disc4.parameters(), lr=0.001, betas=(0.5, 0.999))\n"
   ]
  },
  {
   "cell_type": "code",
   "execution_count": 24,
   "id": "2704aa42",
   "metadata": {
    "execution": {
     "iopub.execute_input": "2022-07-22T11:47:59.791422Z",
     "iopub.status.busy": "2022-07-22T11:47:59.790927Z",
     "iopub.status.idle": "2022-07-22T11:51:31.218967Z",
     "shell.execute_reply": "2022-07-22T11:51:31.217092Z"
    },
    "id": "26acbc37",
    "papermill": {
     "duration": 211.477401,
     "end_time": "2022-07-22T11:51:31.222000",
     "exception": false,
     "start_time": "2022-07-22T11:47:59.744599",
     "status": "completed"
    },
    "tags": []
   },
   "outputs": [
    {
     "data": {
      "image/png": "[encoded data removed]",
      "text/plain": [
       "<Figure size 432x288 with 1 Axes>"
      ]
     },
     "metadata": {
      "needs_background": "light"
     },
     "output_type": "display_data"
    },
    {
     "data": {
      "image/png": "[encoded data removed]",
      "text/plain": [
       "<Figure size 432x288 with 1 Axes>"
      ]
     },
     "metadata": {
      "needs_background": "light"
     },
     "output_type": "display_data"
    }
   ],
   "source": [
    "ABC_train_test2.training_GAN_skip_connection(disc4,gen4,disc_opt,gen_opt,train_data,batch_size,n_epochs,criterion,prior_model,variance,bias,device)"
   ]
  },
  {
   "cell_type": "code",
   "execution_count": 25,
   "id": "8bb39097",
   "metadata": {
    "execution": {
     "iopub.execute_input": "2022-07-22T11:51:31.287103Z",
     "iopub.status.busy": "2022-07-22T11:51:31.286654Z",
     "iopub.status.idle": "2022-07-22T11:51:33.756716Z",
     "shell.execute_reply": "2022-07-22T11:51:33.755403Z"
    },
    "id": "c5e0717b",
    "papermill": {
     "duration": 2.503312,
     "end_time": "2022-07-22T11:51:33.760556",
     "exception": false,
     "start_time": "2022-07-22T11:51:31.257244",
     "status": "completed"
    },
    "tags": []
   },
   "outputs": [
    {
     "data": {
      "application/scrapbook.scrap.json+json": {
       "data": 0.4901978626218048,
       "encoder": "json",
       "name": "ABC-GAN Model 3 MSE",
       "version": 1
      }
     },
     "metadata": {
      "scrapbook": {
       "data": true,
       "display": false,
       "name": "ABC-GAN Model 3 MSE"
      }
     },
     "output_type": "display_data"
    },
    {
     "data": {
      "application/scrapbook.scrap.json+json": {
       "data": 0.5152311490345747,
       "encoder": "json",
       "name": "ABC-GAN Model 3 MAE",
       "version": 1
      }
     },
     "metadata": {
      "scrapbook": {
       "data": true,
       "display": false,
       "name": "ABC-GAN Model 3 MAE"
      }
     },
     "output_type": "display_data"
    },
    {
     "data": {
      "application/scrapbook.scrap.json+json": {
       "data": 10.304622980691493,
       "encoder": "json",
       "name": "ABC-GAN Model 3 Manhattan Distance",
       "version": 1
      }
     },
     "metadata": {
      "scrapbook": {
       "data": true,
       "display": false,
       "name": "ABC-GAN Model 3 Manhattan Distance"
      }
     },
     "output_type": "display_data"
    },
    {
     "data": {
      "application/scrapbook.scrap.json+json": {
       "data": 3.0977716375896662,
       "encoder": "json",
       "name": "ABC-GAN Model 3 Euclidean distance",
       "version": 1
      }
     },
     "metadata": {
      "scrapbook": {
       "data": true,
       "display": false,
       "name": "ABC-GAN Model 3 Euclidean distance"
      }
     },
     "output_type": "display_data"
    },
    {
     "data": {
      "application/scrapbook.scrap.json+json": {
       "data": [
        [
         0.340276428030717,
         0.6922064571126801,
         0.6218529760491835,
         0.34050098431837367,
         0.589580632288923,
         0.5668132555083736,
         0.6610894188686155,
         0.24693289609093153,
         0.35400963165230437,
         0.7217801161181544,
         0.4005111881088534,
         0.5476822650590065,
         0.4053833655219649,
         0.33966405390625537,
         0.6174130012354155,
         0.3927966603399335,
         0.5651679682735435,
         0.37481105016445804,
         0.47910338897747023,
         0.3142226389476999,
         0.7082954041656053,
         0.3759746565632631,
         0.26840125615072086,
         0.5301794989434468,
         0.6144756781211004,
         0.5592767379301788,
         0.4562931035053276,
         0.42599078253819583,
         0.34417057607951196,
         0.45832548674494317,
         0.6108870340282267,
         0.34807337240219194,
         0.34081304725494876,
         0.6296419949129742,
         0.4854218232957598,
         0.4849150685573436,
         0.5136717038188066,
         0.6448507037550366,
         0.34774670146995706,
         0.7431820632457848,
         0.6826598828980799,
         0.29597962333469613,
         0.5981311455805063,
         0.39883519722142197,
         0.48116899796376655,
         0.527135251518044,
         0.3009812240076654,
         0.4915745561876202,
         0.7040802408870708,
         0.5514983525852172,
         0.33534071415844896,
         0.2787270741540736,
         0.2297470704305983,
         0.7000263501960449,
         0.39940723903771436,
         0.533905382271852,
         0.5971408217423534,
         0.46669222401334165,
         0.28407327739263544,
         0.4094654765709098,
         0.3566191137167928,
         0.7166192008893326,
         0.33987738560940894,
         0.6426215108770762,
         0.37639160742828254,
         0.5445768344537019,
         0.4326392536489047,
         0.3811121815395131,
         0.611945040357736,
         0.42437697247699535,
         0.6650723312116182,
         0.5181298234211205,
         0.6017152242010783,
         0.571790144640264,
         0.5514614699850586,
         0.561442886240625,
         0.3348723651028858,
         0.4488661949780951,
         0.5601039983784121,
         0.4100073330191026,
         0.760649043182726,
         0.4412791837268612,
         0.41718727004310663,
         0.8354846209712369,
         0.4679839973437662,
         0.4634762452345636,
         0.748773438758773,
         0.32150915653548606,
         0.3875816224692369,
         0.31415260146136204,
         0.38435042514721157,
         0.41892432628375553,
         0.371461424974472,
         0.30249414056646456,
         0.44215981545287164,
         0.83451783332094,
         0.4268617577362413,
         0.5429432474637663,
         0.6460279758582882,
         0.7127720912651044
        ],
        [
         0.41743692457675935,
         0.6235513918101787,
         0.5853516217321157,
         0.4412580067291856,
         0.5067062826827169,
         0.5496457014232874,
         0.6105905417352915,
         0.3790005108341575,
         0.4565753351897001,
         0.5939920058473944,
         0.5137238960713149,
         0.5237300163134933,
         0.46882289331406357,
         0.45812686495482924,
         0.5762299958616495,
         0.4909289967268705,
         0.5241346841678023,
         0.4666174527257681,
         0.5410062968730927,
         0.4324415076524019,
         0.6165611216798424,
         0.46894980743527415,
         0.3996641684323549,
         0.5163485120981932,
         0.5904062174260616,
         0.5188040032982826,
         0.49127336163073776,
         0.5225775526836515,
         0.4499864791054279,
         0.44438232872635125,
         0.559396057203412,
         0.456380563788116,
         0.42145103178918364,
         0.5659902058541775,
         0.5263997556641697,
         0.5385316897183656,
         0.5568867821246386,
         0.5363999834284187,
         0.4332591909915209,
         0.5859745021909475,
         0.5791269168257713,
         0.402119942009449,
         0.5521570855751634,
         0.4968755435198545,
         0.5462386459112167,
         0.550024189054966,
         0.4413326034322381,
         0.46150297336280344,
         0.5956518217921257,
         0.5616100240498781,
         0.43438084814697503,
         0.42508490942418575,
         0.39056766778230667,
         0.600732272863388,
         0.47199949584901335,
         0.5449812354519963,
         0.6038741337135434,
         0.5073758332058788,
         0.39280047453939915,
         0.48829224035143853,
         0.4769144460558891,
         0.6488595128059387,
         0.4502737632021308,
         0.619529498834163,
         0.4892637265846133,
         0.5361454768106342,
         0.5046599371358752,
         0.4541673298925161,
         0.5283844655379653,
         0.46390888318419454,
         0.5641225425526499,
         0.5220000205561519,
         0.5874265347141773,
         0.5866703474894166,
         0.5743314936757088,
         0.5783781897742302,
         0.43335554022341966,
         0.504394268989563,
         0.5219715762883425,
         0.5261856626253575,
         0.6104394100606442,
         0.5100861376151442,
         0.513071759045124,
         0.6938850522041321,
         0.5299487084150314,
         0.4989148149266839,
         0.640193335711956,
         0.44144560731947424,
         0.4519092161208391,
         0.4355765819549561,
         0.46680953446775675,
         0.4955538485199213,
         0.5231756438501179,
         0.4389850445091724,
         0.4572508348152041,
         0.650584657303989,
         0.48115215068683026,
         0.5489038771018386,
         0.5573566727340221,
         0.6007056998088955
        ],
        [
         8.348738491535187,
         12.471027836203575,
         11.707032434642315,
         8.825160134583712,
         10.134125653654337,
         10.992914028465748,
         12.21181083470583,
         7.580010216683149,
         9.131506703794003,
         11.87984011694789,
         10.274477921426296,
         10.474600326269865,
         9.376457866281271,
         9.162537299096584,
         11.52459991723299,
         9.81857993453741,
         10.482693683356047,
         9.332349054515362,
         10.820125937461853,
         8.648830153048038,
         12.33122243359685,
         9.378996148705482,
         7.9932833686470985,
         10.326970241963863,
         11.808124348521233,
         10.376080065965652,
         9.825467232614756,
         10.451551053673029,
         8.999729582108557,
         8.887646574527025,
         11.187921144068241,
         9.12761127576232,
         8.429020635783672,
         11.31980411708355,
         10.527995113283396,
         10.770633794367313,
         11.137735642492771,
         10.727999668568373,
         8.665183819830418,
         11.71949004381895,
         11.582538336515427,
         8.04239884018898,
         11.043141711503267,
         9.937510870397091,
         10.924772918224335,
         11.00048378109932,
         8.826652068644762,
         9.23005946725607,
         11.913036435842514,
         11.232200480997562,
         8.6876169629395,
         8.501698188483715,
         7.811353355646133,
         12.014645457267761,
         9.439989916980267,
         10.899624709039927,
         12.077482674270868,
         10.147516664117575,
         7.856009490787983,
         9.76584480702877,
         9.538288921117783,
         12.977190256118774,
         9.005475264042616,
         12.390589976683259,
         9.785274531692266,
         10.722909536212683,
         10.093198742717505,
         9.083346597850323,
         10.567689310759306,
         9.278177663683891,
         11.282450851053,
         10.440000411123037,
         11.748530694283545,
         11.733406949788332,
         11.486629873514175,
         11.567563795484602,
         8.667110804468393,
         10.08788537979126,
         10.43943152576685,
         10.52371325250715,
         12.208788201212883,
         10.201722752302885,
         10.261435180902481,
         13.877701044082642,
         10.598974168300629,
         9.978296298533678,
         12.80386671423912,
         8.828912146389484,
         9.038184322416782,
         8.711531639099121,
         9.336190689355135,
         9.911076970398426,
         10.463512877002358,
         8.779700890183449,
         9.145016696304083,
         13.011693146079779,
         9.623043013736606,
         10.978077542036772,
         11.147133454680443,
         12.014113996177912
        ],
        [
         2.608740799814029,
         3.720769966317939,
         3.526621544904368,
         2.6096014420534552,
         3.4338917638414954,
         3.3669370517084913,
         3.636177715317598,
         2.222309141820424,
         2.6608631368497866,
         3.7994213141428634,
         2.8302338705797916,
         3.3096291788023824,
         2.84739658467859,
         2.6063923492300822,
         3.514009109935304,
         2.8028437713862453,
         3.362046901140862,
         2.737922753345894,
         3.0954915247096713,
         2.506881085922106,
         3.763762490289751,
         2.7421694205984544,
         2.316899894905781,
         3.256315399169579,
         3.505640250000277,
         3.3444782490851352,
         3.020904180887992,
         2.918872325190658,
         2.6236256443308066,
         3.027624437558077,
         3.4953884877885226,
         2.638459294369318,
         2.610796994233557,
         3.548639161461684,
         3.1158363990933795,
         3.114209590112212,
         3.205219817169507,
         3.5912413000382926,
         2.63722089127914,
         3.855339319037391,
         3.6950233636557153,
         2.433021263099425,
         3.4587024896064893,
         2.824305922599115,
         3.1021573073065345,
         3.246953191895578,
         2.453492302851857,
         3.1355208696088126,
         3.7525464444482783,
         3.321139420696509,
         2.589751780223151,
         2.361046692270501,
         2.1435814443617405,
         3.7417278099724056,
         2.8263306212745682,
         3.2677373893012027,
         3.4558380220790244,
         3.0551341182126257,
         2.3835825028416173,
         2.8616969670840753,
         2.6706520316836215,
         3.7858135212641746,
         2.6072107149573043,
         3.5850286215791254,
         2.7436895138782833,
         3.300232823464738,
         2.94156167247571,
         2.760841109298082,
         3.498414041698712,
         2.91333819690401,
         3.6471148356245062,
         3.2190987043615804,
         3.469049507288929,
         3.3816863977615195,
         3.321028364784193,
         3.350948779795433,
         2.587942677506153,
         2.996218266342074,
         3.346950846302981,
         2.863589820554273,
         3.9003821432847467,
         2.97078839275658,
         2.8885542059760856,
         4.087749065124319,
         3.059359401390318,
         3.0445894476417132,
         3.8698150828140943,
         2.5357805762150876,
         2.784175362541795,
         2.506601689384901,
         2.7725454915914782,
         2.8945615429068203,
         2.7256611123706187,
         2.4596509531495094,
         2.973751218420504,
         4.085383294920907,
         2.9218547456581114,
         3.2952791914002257,
         3.5945179811993935,
         3.7756379362039056
        ]
       ],
       "encoder": "json",
       "name": "ABC_GAN_4 Metrics",
       "version": 1
      }
     },
     "metadata": {
      "scrapbook": {
       "data": true,
       "display": false,
       "name": "ABC_GAN_4 Metrics"
      }
     },
     "output_type": "display_data"
    },
    {
     "name": "stdout",
     "output_type": "stream",
     "text": [
      "MAE\n",
      "0.5152311490345747\n"
     ]
    }
   ],
   "source": [
    "ABC_GAN4_metrics=ABC_train_test2.test_generator(gen4,test_data,prior_model,variance,bias,\"3\",device)\n",
    "sb.glue(\"ABC_GAN_4 Metrics\",ABC_GAN4_metrics)\n",
    "\n",
    "print(\"MAE\")\n",
    "print(mean(ABC_GAN4_metrics[1]))"
   ]
  },
  {
   "cell_type": "code",
   "execution_count": 26,
   "id": "aa69b96a",
   "metadata": {
    "execution": {
     "iopub.execute_input": "2022-07-22T11:51:33.855764Z",
     "iopub.status.busy": "2022-07-22T11:51:33.855059Z",
     "iopub.status.idle": "2022-07-22T11:51:35.319268Z",
     "shell.execute_reply": "2022-07-22T11:51:35.317103Z"
    },
    "id": "c8e46b48",
    "papermill": {
     "duration": 1.51177,
     "end_time": "2022-07-22T11:51:35.322747",
     "exception": false,
     "start_time": "2022-07-22T11:51:33.810977",
     "status": "completed"
    },
    "tags": []
   },
   "outputs": [
    {
     "data": {
      "image/png": "[encoded data removed]",
      "text/plain": [
       "<Figure size 432x288 with 1 Axes>"
      ]
     },
     "metadata": {
      "needs_background": "light"
     },
     "output_type": "display_data"
    },
    {
     "data": {
      "image/png": "[encoded data removed]",
      "text/plain": [
       "<Figure size 432x288 with 1 Axes>"
      ]
     },
     "metadata": {
      "needs_background": "light"
     },
     "output_type": "display_data"
    },
    {
     "data": {
      "image/png": "[encoded data removed]",
      "text/plain": [
       "<Figure size 432x288 with 1 Axes>"
      ]
     },
     "metadata": {
      "needs_background": "light"
     },
     "output_type": "display_data"
    },
    {
     "data": {
      "image/png": "[encoded data removed]",
      "text/plain": [
       "<Figure size 432x288 with 1 Axes>"
      ]
     },
     "metadata": {
      "needs_background": "light"
     },
     "output_type": "display_data"
    }
   ],
   "source": [
    "sanityChecks.discProbVsError(train_data,disc4,device)\n",
    "sanityChecks.discProbVsError(test_data,disc4,device)"
   ]
  },
  {
   "cell_type": "markdown",
   "id": "a5bd74c3",
   "metadata": {
    "id": "a5bd74c3",
    "papermill": {
     "duration": 0.053462,
     "end_time": "2022-07-22T11:51:35.420309",
     "exception": false,
     "start_time": "2022-07-22T11:51:35.366847",
     "status": "completed"
    },
    "tags": []
   },
   "source": [
    "## Skip Connection Model Analysis - ABC-GAN "
   ]
  },
  {
   "cell_type": "markdown",
   "id": "5744a8bf",
   "metadata": {
    "id": "5744a8bf",
    "papermill": {
     "duration": 0.048666,
     "end_time": "2022-07-22T11:51:35.523314",
     "exception": false,
     "start_time": "2022-07-22T11:51:35.474648",
     "status": "completed"
    },
    "tags": []
   },
   "source": [
    "### Weight Analysis \n",
    "\n",
    "Study the weights of the skip connection layer\n",
    "\n",
    "Equation of the skip connection is \n",
    "\n",
    "$output = y_{gan} * w + y_{abc} * (1-w)$"
   ]
  },
  {
   "cell_type": "code",
   "execution_count": 27,
   "id": "52c31dea",
   "metadata": {
    "execution": {
     "iopub.execute_input": "2022-07-22T11:51:35.615048Z",
     "iopub.status.busy": "2022-07-22T11:51:35.614563Z",
     "iopub.status.idle": "2022-07-22T11:51:35.619646Z",
     "shell.execute_reply": "2022-07-22T11:51:35.618664Z"
    },
    "id": "52c31dea",
    "papermill": {
     "duration": 0.068041,
     "end_time": "2022-07-22T11:51:35.628298",
     "exception": false,
     "start_time": "2022-07-22T11:51:35.560257",
     "status": "completed"
    },
    "tags": []
   },
   "outputs": [],
   "source": [
    "# print(\"Weight of the node at skip connection\")\n",
    "# for name,param in gen3.named_parameters():\n",
    "#     if(name == \"skipNode.weight\"):\n",
    "#         print(param)\n",
    "#         sb.glue(\"Skip Connection Weight\",param.item())"
   ]
  },
  {
   "cell_type": "markdown",
   "id": "e86ecff2",
   "metadata": {
    "id": "a5bd74c3",
    "papermill": {
     "duration": 0.055763,
     "end_time": "2022-07-22T11:51:35.737508",
     "exception": false,
     "start_time": "2022-07-22T11:51:35.681745",
     "status": "completed"
    },
    "tags": []
   },
   "source": [
    "## skipGAN Model Analysis (TabNet Generator) "
   ]
  },
  {
   "cell_type": "markdown",
   "id": "dc770e1f",
   "metadata": {
    "id": "5744a8bf",
    "papermill": {
     "duration": 0.037975,
     "end_time": "2022-07-22T11:51:35.822123",
     "exception": false,
     "start_time": "2022-07-22T11:51:35.784148",
     "status": "completed"
    },
    "tags": []
   },
   "source": [
    "### Weight Analysis \n",
    "\n",
    "Study the weights of the skip connection layer\n",
    "\n",
    "Equation of the skip connection is \n",
    "\n",
    "$output = y_{gan} * w + y_{abc} * (1-w)$"
   ]
  },
  {
   "cell_type": "code",
   "execution_count": 28,
   "id": "05c60629",
   "metadata": {
    "execution": {
     "iopub.execute_input": "2022-07-22T11:51:35.922622Z",
     "iopub.status.busy": "2022-07-22T11:51:35.921873Z",
     "iopub.status.idle": "2022-07-22T11:51:35.937799Z",
     "shell.execute_reply": "2022-07-22T11:51:35.936496Z"
    },
    "id": "52c31dea",
    "papermill": {
     "duration": 0.074754,
     "end_time": "2022-07-22T11:51:35.944725",
     "exception": false,
     "start_time": "2022-07-22T11:51:35.869971",
     "status": "completed"
    },
    "tags": []
   },
   "outputs": [
    {
     "name": "stdout",
     "output_type": "stream",
     "text": [
      "Weight of the node at skip connection\n",
      "Parameter containing:\n",
      "tensor([[0.9098]], requires_grad=True)\n"
     ]
    },
    {
     "data": {
      "application/scrapbook.scrap.json+json": {
       "data": 0.9098351001739502,
       "encoder": "json",
       "name": "Skip Connection Weight",
       "version": 1
      }
     },
     "metadata": {
      "scrapbook": {
       "data": true,
       "display": false,
       "name": "Skip Connection Weight"
      }
     },
     "output_type": "display_data"
    }
   ],
   "source": [
    "print(\"Weight of the node at skip connection\")\n",
    "for name,param in gen4.named_parameters():\n",
    "    if(name == \"skipNode.weight\"):\n",
    "        print(param)\n",
    "        sb.glue(\"Skip Connection Weight\",param.item())"
   ]
  }
 ],
 "metadata": {
  "colab": {
   "collapsed_sections": [],
   "name": "ABC_GAN_Model-Catboost_Pre-gen.ipynb",
   "provenance": []
  },
  "interpreter": {
   "hash": "31f2aee4e71d21fbe5cf8b01ff0e069b9275f58929596ceb00d14d90e3e16cd6"
  },
  "kernelspec": {
   "display_name": "Python 3 (ipykernel)",
   "language": "python",
   "name": "python3"
  },
  "language_info": {
   "codemirror_mode": {
    "name": "ipython",
    "version": 3
   },
   "file_extension": ".py",
   "mimetype": "text/x-python",
   "name": "python",
   "nbconvert_exporter": "python",
   "pygments_lexer": "ipython3",
   "version": "3.8.13"
  },
  "papermill": {
   "default_parameters": {},
   "duration": 446.908508,
   "end_time": "2022-07-22T11:51:37.101881",
   "environment_variables": {},
   "exception": null,
   "input_path": "ABC_GAN-TabNet.ipynb",
   "output_path": "./ABC_GAN_TabNet/ABC-GAN_output_3_3.ipynb",
   "parameters": {
    "bias": 0.1,
    "variance": 1
   },
   "start_time": "2022-07-22T11:44:10.193373",
   "version": "2.3.3"
  }
 },
 "nbformat": 4,
 "nbformat_minor": 5
}