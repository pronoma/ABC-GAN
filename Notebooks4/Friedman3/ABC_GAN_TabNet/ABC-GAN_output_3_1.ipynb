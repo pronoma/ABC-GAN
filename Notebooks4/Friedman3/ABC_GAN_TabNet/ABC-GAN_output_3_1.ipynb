{
 "cells": [
  {
   "cell_type": "markdown",
   "id": "622780e6",
   "metadata": {
    "id": "622780e6",
    "papermill": {
     "duration": 0.014745,
     "end_time": "2022-07-22T11:30:08.387655",
     "exception": false,
     "start_time": "2022-07-22T11:30:08.372910",
     "status": "completed"
    },
    "tags": []
   },
   "source": [
    "## Import Libraries "
   ]
  },
  {
   "cell_type": "code",
   "execution_count": 1,
   "id": "a62397e3",
   "metadata": {
    "execution": {
     "iopub.execute_input": "2022-07-22T11:30:08.414962Z",
     "iopub.status.busy": "2022-07-22T11:30:08.414362Z",
     "iopub.status.idle": "2022-07-22T11:30:08.441279Z",
     "shell.execute_reply": "2022-07-22T11:30:08.437464Z"
    },
    "id": "a62397e3",
    "papermill": {
     "duration": 0.053225,
     "end_time": "2022-07-22T11:30:08.453844",
     "exception": false,
     "start_time": "2022-07-22T11:30:08.400619",
     "status": "completed"
    },
    "tags": []
   },
   "outputs": [],
   "source": [
    "import warnings\n",
    "import sys\n",
    "sys.path.insert(0, '../../src')\n",
    "warnings.filterwarnings('ignore')"
   ]
  },
  {
   "cell_type": "code",
   "execution_count": 2,
   "id": "d6a4e155",
   "metadata": {
    "execution": {
     "iopub.execute_input": "2022-07-22T11:30:08.477031Z",
     "iopub.status.busy": "2022-07-22T11:30:08.476059Z",
     "iopub.status.idle": "2022-07-22T11:30:16.186056Z",
     "shell.execute_reply": "2022-07-22T11:30:16.185009Z"
    },
    "id": "d6a4e155",
    "papermill": {
     "duration": 7.728058,
     "end_time": "2022-07-22T11:30:16.190876",
     "exception": false,
     "start_time": "2022-07-22T11:30:08.462818",
     "status": "completed"
    },
    "tags": []
   },
   "outputs": [],
   "source": [
    "import ABC_train_test2\n",
    "import friedman3Dataset\n",
    "import network\n",
    "import dataset\n",
    "import sanityChecks\n",
    "import torch \n",
    "import scrapbook as sb\n",
    "from statistics import mean \n",
    "import catboost as ctb \n",
    "from sklearn.model_selection import train_test_split\n",
    "from sklearn.metrics import mean_squared_error,mean_absolute_error\n",
    "import numpy as np\n",
    "from pytorch_tabnet.tab_model import TabNetRegressor"
   ]
  },
  {
   "cell_type": "markdown",
   "id": "2fa5b0f7",
   "metadata": {
    "id": "2fa5b0f7",
    "papermill": {
     "duration": 0.008124,
     "end_time": "2022-07-22T11:30:16.208533",
     "exception": false,
     "start_time": "2022-07-22T11:30:16.200409",
     "status": "completed"
    },
    "tags": []
   },
   "source": [
    "## Parameters "
   ]
  },
  {
   "cell_type": "code",
   "execution_count": 3,
   "id": "783186fb",
   "metadata": {
    "execution": {
     "iopub.execute_input": "2022-07-22T11:30:16.229929Z",
     "iopub.status.busy": "2022-07-22T11:30:16.229290Z",
     "iopub.status.idle": "2022-07-22T11:30:16.237402Z",
     "shell.execute_reply": "2022-07-22T11:30:16.234006Z"
    },
    "id": "783186fb",
    "papermill": {
     "duration": 0.024913,
     "end_time": "2022-07-22T11:30:16.241601",
     "exception": false,
     "start_time": "2022-07-22T11:30:16.216688",
     "status": "completed"
    },
    "tags": [
     "parameters"
    ]
   },
   "outputs": [],
   "source": [
    "variance = 1\n",
    "bias = 1 "
   ]
  },
  {
   "cell_type": "code",
   "execution_count": 4,
   "id": "43ae62c7",
   "metadata": {
    "execution": {
     "iopub.execute_input": "2022-07-22T11:30:16.268126Z",
     "iopub.status.busy": "2022-07-22T11:30:16.266697Z",
     "iopub.status.idle": "2022-07-22T11:30:16.286005Z",
     "shell.execute_reply": "2022-07-22T11:30:16.279861Z"
    },
    "papermill": {
     "duration": 0.038402,
     "end_time": "2022-07-22T11:30:16.289465",
     "exception": false,
     "start_time": "2022-07-22T11:30:16.251063",
     "status": "completed"
    },
    "tags": [
     "injected-parameters"
    ]
   },
   "outputs": [],
   "source": [
    "# Parameters\n",
    "variance = 0.1\n",
    "bias = 1\n"
   ]
  },
  {
   "cell_type": "markdown",
   "id": "391cdbfd",
   "metadata": {
    "id": "391cdbfd",
    "papermill": {
     "duration": 0.013094,
     "end_time": "2022-07-22T11:30:16.309754",
     "exception": false,
     "start_time": "2022-07-22T11:30:16.296660",
     "status": "completed"
    },
    "tags": []
   },
   "source": [
    "## Dataset \n"
   ]
  },
  {
   "cell_type": "code",
   "execution_count": 5,
   "id": "5b51f161",
   "metadata": {
    "execution": {
     "iopub.execute_input": "2022-07-22T11:30:16.338570Z",
     "iopub.status.busy": "2022-07-22T11:30:16.338104Z",
     "iopub.status.idle": "2022-07-22T11:30:16.348484Z",
     "shell.execute_reply": "2022-07-22T11:30:16.346132Z"
    },
    "id": "5b51f161",
    "papermill": {
     "duration": 0.030522,
     "end_time": "2022-07-22T11:30:16.354148",
     "exception": false,
     "start_time": "2022-07-22T11:30:16.323626",
     "status": "completed"
    },
    "tags": []
   },
   "outputs": [],
   "source": [
    "#Parameters \n",
    "n_features = 4\n",
    "n_samples= 100\n",
    "n_target = 1"
   ]
  },
  {
   "cell_type": "code",
   "execution_count": 6,
   "id": "5d6eced4",
   "metadata": {
    "execution": {
     "iopub.execute_input": "2022-07-22T11:30:16.382630Z",
     "iopub.status.busy": "2022-07-22T11:30:16.382223Z",
     "iopub.status.idle": "2022-07-22T11:30:16.418871Z",
     "shell.execute_reply": "2022-07-22T11:30:16.416884Z"
    },
    "id": "5d6eced4",
    "papermill": {
     "duration": 0.055962,
     "end_time": "2022-07-22T11:30:16.421587",
     "exception": false,
     "start_time": "2022-07-22T11:30:16.365625",
     "status": "completed"
    },
    "tags": []
   },
   "outputs": [
    {
     "name": "stdout",
     "output_type": "stream",
     "text": [
      "          X1           X2        X3         X4         Y\n",
      "0  99.292578  1324.870837  0.262887   6.519446  1.173695\n",
      "1  72.168065   522.639399  0.038227  10.821318  0.286467\n",
      "2  65.979962  1548.567410  0.747437   2.230239  1.421784\n",
      "3  39.394800   146.612624  0.863397   5.012217  1.076727\n",
      "4  55.323086   147.350513  0.032818   4.862143  0.092189\n"
     ]
    }
   ],
   "source": [
    "X,Y = friedman3Dataset.friedman3_data(n_samples)"
   ]
  },
  {
   "cell_type": "code",
   "execution_count": 7,
   "id": "fe007438",
   "metadata": {
    "execution": {
     "iopub.execute_input": "2022-07-22T11:30:16.440074Z",
     "iopub.status.busy": "2022-07-22T11:30:16.439402Z",
     "iopub.status.idle": "2022-07-22T11:30:16.446756Z",
     "shell.execute_reply": "2022-07-22T11:30:16.445616Z"
    },
    "id": "fe007438",
    "papermill": {
     "duration": 0.022598,
     "end_time": "2022-07-22T11:30:16.452201",
     "exception": false,
     "start_time": "2022-07-22T11:30:16.429603",
     "status": "completed"
    },
    "tags": []
   },
   "outputs": [],
   "source": [
    "#Train test split for dataset \n",
    "X_train,X_test,Y_train,Y_test = train_test_split(X,Y,test_size = 0.2)\n",
    "train_data = dataset.CustomDataset(X_train,Y_train)\n",
    "test_data = dataset.CustomDataset(X_test,Y_test)\n"
   ]
  },
  {
   "cell_type": "markdown",
   "id": "a9a1af34",
   "metadata": {
    "id": "a9a1af34",
    "papermill": {
     "duration": 0.010319,
     "end_time": "2022-07-22T11:30:16.470072",
     "exception": false,
     "start_time": "2022-07-22T11:30:16.459753",
     "status": "completed"
    },
    "tags": []
   },
   "source": [
    "## Training Parameters "
   ]
  },
  {
   "cell_type": "code",
   "execution_count": 8,
   "id": "952b7fc8",
   "metadata": {
    "execution": {
     "iopub.execute_input": "2022-07-22T11:30:16.490219Z",
     "iopub.status.busy": "2022-07-22T11:30:16.489303Z",
     "iopub.status.idle": "2022-07-22T11:30:16.502330Z",
     "shell.execute_reply": "2022-07-22T11:30:16.499199Z"
    },
    "id": "952b7fc8",
    "papermill": {
     "duration": 0.033502,
     "end_time": "2022-07-22T11:30:16.511272",
     "exception": false,
     "start_time": "2022-07-22T11:30:16.477770",
     "status": "completed"
    },
    "tags": []
   },
   "outputs": [],
   "source": [
    "batch_size = 32\n",
    "n_epochs = 1000\n",
    "#Select the device \n",
    "device = torch.device('cuda' if torch.cuda.is_available() else 'cpu')"
   ]
  },
  {
   "cell_type": "markdown",
   "id": "a95e1600",
   "metadata": {
    "id": "a95e1600",
    "papermill": {
     "duration": 0.013505,
     "end_time": "2022-07-22T11:30:16.548197",
     "exception": false,
     "start_time": "2022-07-22T11:30:16.534692",
     "status": "completed"
    },
    "tags": []
   },
   "source": [
    "# ABC Pre-generator Model \n",
    "\n",
    "1. The catboost model is used as a pre-generator model for the ABC-GAN. \n",
    "2. The model is first trained on the entire dataset \n",
    "3. It generats X,Y pairs and we add some Gaussian noise with mean 0 and variance 1 to it which is then feed as input to the generator.\n"
   ]
  },
  {
   "cell_type": "code",
   "execution_count": 9,
   "id": "ac011ebf",
   "metadata": {
    "execution": {
     "iopub.execute_input": "2022-07-22T11:30:16.572804Z",
     "iopub.status.busy": "2022-07-22T11:30:16.570329Z",
     "iopub.status.idle": "2022-07-22T11:31:10.791896Z",
     "shell.execute_reply": "2022-07-22T11:31:10.790092Z"
    },
    "papermill": {
     "duration": 54.239509,
     "end_time": "2022-07-22T11:31:10.795602",
     "exception": false,
     "start_time": "2022-07-22T11:30:16.556093",
     "status": "completed"
    },
    "tags": []
   },
   "outputs": [
    {
     "name": "stdout",
     "output_type": "stream",
     "text": [
      "Device used : cpu\n"
     ]
    },
    {
     "name": "stdout",
     "output_type": "stream",
     "text": [
      "epoch 0  | loss: 1.29173 | train_mse: 5.38433 | train_mae: 1.55578 |  0:00:00s\n",
      "epoch 1  | loss: 1.25334 | train_mse: 4.51112 | train_mae: 1.50705 |  0:00:00s\n"
     ]
    },
    {
     "name": "stdout",
     "output_type": "stream",
     "text": [
      "epoch 2  | loss: 1.02562 | train_mse: 3.78349 | train_mae: 1.44299 |  0:00:00s\n",
      "epoch 3  | loss: 0.81802 | train_mse: 2.9524  | train_mae: 1.31416 |  0:00:00s\n",
      "epoch 4  | loss: 0.86304 | train_mse: 2.41226 | train_mae: 1.20203 |  0:00:00s\n"
     ]
    },
    {
     "name": "stdout",
     "output_type": "stream",
     "text": [
      "epoch 5  | loss: 0.90008 | train_mse: 1.94299 | train_mae: 1.07377 |  0:00:00s\n",
      "epoch 6  | loss: 0.6512  | train_mse: 1.6459  | train_mae: 1.00275 |  0:00:00s\n",
      "epoch 7  | loss: 0.79013 | train_mse: 1.44426 | train_mae: 0.93623 |  0:00:01s\n"
     ]
    },
    {
     "name": "stdout",
     "output_type": "stream",
     "text": [
      "epoch 8  | loss: 0.6518  | train_mse: 1.27271 | train_mae: 0.87837 |  0:00:01s\n",
      "epoch 9  | loss: 0.60709 | train_mse: 1.13466 | train_mae: 0.83449 |  0:00:01s\n",
      "epoch 10 | loss: 0.57328 | train_mse: 1.04231 | train_mae: 0.7998  |  0:00:01s\n"
     ]
    },
    {
     "name": "stdout",
     "output_type": "stream",
     "text": [
      "epoch 11 | loss: 0.64382 | train_mse: 0.9722  | train_mae: 0.7701  |  0:00:01s\n",
      "epoch 12 | loss: 0.72565 | train_mse: 0.90823 | train_mae: 0.73805 |  0:00:01s\n"
     ]
    },
    {
     "name": "stdout",
     "output_type": "stream",
     "text": [
      "epoch 13 | loss: 0.66681 | train_mse: 0.83854 | train_mae: 0.70635 |  0:00:01s\n",
      "epoch 14 | loss: 0.44955 | train_mse: 0.75195 | train_mae: 0.66199 |  0:00:01s\n",
      "epoch 15 | loss: 0.72066 | train_mse: 0.70075 | train_mae: 0.63205 |  0:00:01s\n"
     ]
    },
    {
     "name": "stdout",
     "output_type": "stream",
     "text": [
      "epoch 16 | loss: 0.39255 | train_mse: 0.68353 | train_mae: 0.62239 |  0:00:01s\n",
      "epoch 17 | loss: 0.51528 | train_mse: 0.64877 | train_mae: 0.60901 |  0:00:01s\n",
      "epoch 18 | loss: 0.43405 | train_mse: 0.61218 | train_mae: 0.58673 |  0:00:02s\n"
     ]
    },
    {
     "name": "stdout",
     "output_type": "stream",
     "text": [
      "epoch 19 | loss: 0.57033 | train_mse: 0.56892 | train_mae: 0.56885 |  0:00:02s\n",
      "epoch 20 | loss: 0.42891 | train_mse: 0.51922 | train_mae: 0.54389 |  0:00:02s\n",
      "epoch 21 | loss: 0.32646 | train_mse: 0.49672 | train_mae: 0.53569 |  0:00:02s\n"
     ]
    },
    {
     "name": "stdout",
     "output_type": "stream",
     "text": [
      "epoch 22 | loss: 0.60772 | train_mse: 0.47901 | train_mae: 0.52623 |  0:00:02s\n",
      "epoch 23 | loss: 0.38108 | train_mse: 0.4637  | train_mae: 0.5117  |  0:00:02s\n"
     ]
    },
    {
     "name": "stdout",
     "output_type": "stream",
     "text": [
      "epoch 24 | loss: 0.43407 | train_mse: 0.45271 | train_mae: 0.50367 |  0:00:02s\n",
      "epoch 25 | loss: 0.42108 | train_mse: 0.44678 | train_mae: 0.495   |  0:00:02s\n",
      "epoch 26 | loss: 0.47805 | train_mse: 0.43759 | train_mae: 0.48999 |  0:00:02s\n"
     ]
    },
    {
     "name": "stdout",
     "output_type": "stream",
     "text": [
      "epoch 27 | loss: 0.5238  | train_mse: 0.42833 | train_mae: 0.48821 |  0:00:02s\n",
      "epoch 28 | loss: 0.3031  | train_mse: 0.42421 | train_mae: 0.4812  |  0:00:02s\n",
      "epoch 29 | loss: 0.49885 | train_mse: 0.38862 | train_mae: 0.4535  |  0:00:03s\n"
     ]
    },
    {
     "name": "stdout",
     "output_type": "stream",
     "text": [
      "epoch 30 | loss: 0.60323 | train_mse: 0.35411 | train_mae: 0.43718 |  0:00:03s\n",
      "epoch 31 | loss: 0.37463 | train_mse: 0.33799 | train_mae: 0.42204 |  0:00:03s\n",
      "epoch 32 | loss: 0.38474 | train_mse: 0.32543 | train_mae: 0.41044 |  0:00:03s\n"
     ]
    },
    {
     "name": "stdout",
     "output_type": "stream",
     "text": [
      "epoch 33 | loss: 0.4692  | train_mse: 0.33143 | train_mae: 0.40124 |  0:00:03s\n",
      "epoch 34 | loss: 0.4117  | train_mse: 0.35959 | train_mae: 0.40736 |  0:00:03s\n"
     ]
    },
    {
     "name": "stdout",
     "output_type": "stream",
     "text": [
      "epoch 35 | loss: 0.48147 | train_mse: 0.4106  | train_mae: 0.42127 |  0:00:03s\n",
      "epoch 36 | loss: 0.49587 | train_mse: 0.41745 | train_mae: 0.41845 |  0:00:03s\n",
      "epoch 37 | loss: 0.49285 | train_mse: 0.42388 | train_mae: 0.42157 |  0:00:03s\n"
     ]
    },
    {
     "name": "stdout",
     "output_type": "stream",
     "text": [
      "epoch 38 | loss: 0.43706 | train_mse: 0.42957 | train_mae: 0.42403 |  0:00:03s\n",
      "epoch 39 | loss: 0.43656 | train_mse: 0.41218 | train_mae: 0.41952 |  0:00:04s\n",
      "epoch 40 | loss: 0.4181  | train_mse: 0.40235 | train_mae: 0.41687 |  0:00:04s\n"
     ]
    },
    {
     "name": "stdout",
     "output_type": "stream",
     "text": [
      "epoch 41 | loss: 0.23836 | train_mse: 0.37015 | train_mae: 0.40878 |  0:00:04s\n",
      "epoch 42 | loss: 0.25318 | train_mse: 0.31708 | train_mae: 0.39334 |  0:00:04s\n"
     ]
    },
    {
     "name": "stdout",
     "output_type": "stream",
     "text": [
      "epoch 43 | loss: 0.46098 | train_mse: 0.26663 | train_mae: 0.37775 |  0:00:04s\n"
     ]
    },
    {
     "name": "stdout",
     "output_type": "stream",
     "text": [
      "epoch 44 | loss: 0.58883 | train_mse: 0.30148 | train_mae: 0.38566 |  0:00:04s\n"
     ]
    },
    {
     "name": "stdout",
     "output_type": "stream",
     "text": [
      "epoch 45 | loss: 0.44665 | train_mse: 0.30629 | train_mae: 0.38817 |  0:00:04s\n",
      "epoch 46 | loss: 0.25239 | train_mse: 0.30101 | train_mae: 0.38536 |  0:00:05s\n"
     ]
    },
    {
     "name": "stdout",
     "output_type": "stream",
     "text": [
      "epoch 47 | loss: 0.34697 | train_mse: 0.29256 | train_mae: 0.38241 |  0:00:05s\n",
      "epoch 48 | loss: 0.44635 | train_mse: 0.29925 | train_mae: 0.37954 |  0:00:05s\n"
     ]
    },
    {
     "name": "stdout",
     "output_type": "stream",
     "text": [
      "epoch 49 | loss: 0.27506 | train_mse: 0.30169 | train_mae: 0.37955 |  0:00:05s\n",
      "epoch 50 | loss: 0.27963 | train_mse: 0.29715 | train_mae: 0.37516 |  0:00:05s\n"
     ]
    },
    {
     "name": "stdout",
     "output_type": "stream",
     "text": [
      "epoch 51 | loss: 0.47946 | train_mse: 0.30843 | train_mae: 0.37354 |  0:00:05s\n",
      "epoch 52 | loss: 0.4946  | train_mse: 0.27942 | train_mae: 0.37007 |  0:00:05s\n"
     ]
    },
    {
     "name": "stdout",
     "output_type": "stream",
     "text": [
      "epoch 53 | loss: 0.31506 | train_mse: 0.25853 | train_mae: 0.36598 |  0:00:05s\n",
      "epoch 54 | loss: 0.28907 | train_mse: 0.23512 | train_mae: 0.35896 |  0:00:06s\n"
     ]
    },
    {
     "name": "stdout",
     "output_type": "stream",
     "text": [
      "epoch 55 | loss: 0.6272  | train_mse: 0.22753 | train_mae: 0.35735 |  0:00:06s\n",
      "epoch 56 | loss: 0.19479 | train_mse: 0.24756 | train_mae: 0.36646 |  0:00:06s\n"
     ]
    },
    {
     "name": "stdout",
     "output_type": "stream",
     "text": [
      "epoch 57 | loss: 0.4856  | train_mse: 0.26435 | train_mae: 0.36358 |  0:00:06s\n",
      "epoch 58 | loss: 0.37375 | train_mse: 0.28439 | train_mae: 0.36416 |  0:00:06s\n"
     ]
    },
    {
     "name": "stdout",
     "output_type": "stream",
     "text": [
      "epoch 59 | loss: 0.48685 | train_mse: 0.29596 | train_mae: 0.36492 |  0:00:06s\n",
      "epoch 60 | loss: 0.40698 | train_mse: 0.29574 | train_mae: 0.36573 |  0:00:06s\n"
     ]
    },
    {
     "name": "stdout",
     "output_type": "stream",
     "text": [
      "epoch 61 | loss: 0.47802 | train_mse: 0.28844 | train_mae: 0.3628  |  0:00:06s\n",
      "epoch 62 | loss: 0.49602 | train_mse: 0.27777 | train_mae: 0.35896 |  0:00:07s\n"
     ]
    },
    {
     "name": "stdout",
     "output_type": "stream",
     "text": [
      "epoch 63 | loss: 0.35953 | train_mse: 0.27345 | train_mae: 0.35826 |  0:00:07s\n",
      "epoch 64 | loss: 0.38734 | train_mse: 0.26331 | train_mae: 0.35728 |  0:00:07s\n"
     ]
    },
    {
     "name": "stdout",
     "output_type": "stream",
     "text": [
      "epoch 65 | loss: 0.31929 | train_mse: 0.22936 | train_mae: 0.35487 |  0:00:07s\n",
      "epoch 66 | loss: 0.29527 | train_mse: 0.22161 | train_mae: 0.35055 |  0:00:07s\n"
     ]
    },
    {
     "name": "stdout",
     "output_type": "stream",
     "text": [
      "epoch 67 | loss: 0.28407 | train_mse: 0.25031 | train_mae: 0.35537 |  0:00:07s\n",
      "epoch 68 | loss: 0.38996 | train_mse: 0.32757 | train_mae: 0.37495 |  0:00:07s\n",
      "epoch 69 | loss: 0.32425 | train_mse: 0.34308 | train_mae: 0.37534 |  0:00:07s\n"
     ]
    },
    {
     "name": "stdout",
     "output_type": "stream",
     "text": [
      "epoch 70 | loss: 0.41019 | train_mse: 0.33565 | train_mae: 0.37408 |  0:00:08s\n",
      "epoch 71 | loss: 0.37858 | train_mse: 0.23035 | train_mae: 0.34372 |  0:00:08s\n"
     ]
    },
    {
     "name": "stdout",
     "output_type": "stream",
     "text": [
      "epoch 72 | loss: 0.38826 | train_mse: 0.23516 | train_mae: 0.34568 |  0:00:08s\n",
      "epoch 73 | loss: 0.32914 | train_mse: 0.27874 | train_mae: 0.35805 |  0:00:08s\n"
     ]
    },
    {
     "name": "stdout",
     "output_type": "stream",
     "text": [
      "epoch 74 | loss: 0.29836 | train_mse: 0.31039 | train_mae: 0.36245 |  0:00:08s\n",
      "epoch 75 | loss: 0.35377 | train_mse: 0.31979 | train_mae: 0.36089 |  0:00:08s\n"
     ]
    },
    {
     "name": "stdout",
     "output_type": "stream",
     "text": [
      "epoch 76 | loss: 0.29155 | train_mse: 0.32004 | train_mae: 0.36336 |  0:00:08s\n",
      "epoch 77 | loss: 0.24414 | train_mse: 0.31568 | train_mae: 0.36149 |  0:00:08s\n",
      "epoch 78 | loss: 0.31481 | train_mse: 0.30442 | train_mae: 0.35881 |  0:00:08s\n"
     ]
    },
    {
     "name": "stdout",
     "output_type": "stream",
     "text": [
      "epoch 79 | loss: 0.34656 | train_mse: 0.26734 | train_mae: 0.35016 |  0:00:08s\n",
      "epoch 80 | loss: 0.30127 | train_mse: 0.21246 | train_mae: 0.33701 |  0:00:09s\n",
      "epoch 81 | loss: 0.29084 | train_mse: 0.18821 | train_mae: 0.32897 |  0:00:09s\n"
     ]
    },
    {
     "name": "stdout",
     "output_type": "stream",
     "text": [
      "epoch 82 | loss: 0.4088  | train_mse: 0.19561 | train_mae: 0.3304  |  0:00:09s\n",
      "epoch 83 | loss: 0.37874 | train_mse: 0.21523 | train_mae: 0.33986 |  0:00:09s\n",
      "epoch 84 | loss: 0.50706 | train_mse: 0.2131  | train_mae: 0.33604 |  0:00:09s\n"
     ]
    },
    {
     "name": "stdout",
     "output_type": "stream",
     "text": [
      "epoch 85 | loss: 0.45353 | train_mse: 0.22254 | train_mae: 0.33679 |  0:00:09s\n",
      "epoch 86 | loss: 0.28517 | train_mse: 0.23595 | train_mae: 0.33888 |  0:00:09s\n",
      "epoch 87 | loss: 0.5295  | train_mse: 0.23456 | train_mae: 0.33513 |  0:00:09s\n"
     ]
    },
    {
     "name": "stdout",
     "output_type": "stream",
     "text": [
      "epoch 88 | loss: 0.28178 | train_mse: 0.22363 | train_mae: 0.32913 |  0:00:09s\n",
      "epoch 89 | loss: 0.27413 | train_mse: 0.2189  | train_mae: 0.32856 |  0:00:09s\n",
      "epoch 90 | loss: 0.35932 | train_mse: 0.20445 | train_mae: 0.32383 |  0:00:09s\n"
     ]
    },
    {
     "name": "stdout",
     "output_type": "stream",
     "text": [
      "epoch 91 | loss: 0.32497 | train_mse: 0.20469 | train_mae: 0.32294 |  0:00:10s\n",
      "epoch 92 | loss: 0.28901 | train_mse: 0.18687 | train_mae: 0.31004 |  0:00:10s\n",
      "epoch 93 | loss: 0.29391 | train_mse: 0.1996  | train_mae: 0.3139  |  0:00:10s\n"
     ]
    },
    {
     "name": "stdout",
     "output_type": "stream",
     "text": [
      "epoch 94 | loss: 0.36645 | train_mse: 0.18509 | train_mae: 0.30671 |  0:00:10s\n",
      "epoch 95 | loss: 0.36257 | train_mse: 0.17016 | train_mae: 0.29845 |  0:00:10s\n",
      "epoch 96 | loss: 0.30665 | train_mse: 0.15499 | train_mae: 0.29788 |  0:00:10s\n"
     ]
    },
    {
     "name": "stdout",
     "output_type": "stream",
     "text": [
      "epoch 97 | loss: 0.25993 | train_mse: 0.15134 | train_mae: 0.29578 |  0:00:10s\n",
      "epoch 98 | loss: 0.22144 | train_mse: 0.15699 | train_mae: 0.29594 |  0:00:10s\n",
      "epoch 99 | loss: 0.20869 | train_mse: 0.15791 | train_mae: 0.29772 |  0:00:10s\n"
     ]
    },
    {
     "name": "stdout",
     "output_type": "stream",
     "text": [
      "epoch 100| loss: 0.22758 | train_mse: 0.15494 | train_mae: 0.29588 |  0:00:10s\n",
      "epoch 101| loss: 0.27061 | train_mse: 0.14967 | train_mae: 0.29155 |  0:00:11s\n",
      "epoch 102| loss: 0.22239 | train_mse: 0.15298 | train_mae: 0.30042 |  0:00:11s\n"
     ]
    },
    {
     "name": "stdout",
     "output_type": "stream",
     "text": [
      "epoch 103| loss: 0.35816 | train_mse: 0.15373 | train_mae: 0.29934 |  0:00:11s\n",
      "epoch 104| loss: 0.546   | train_mse: 0.15039 | train_mae: 0.29396 |  0:00:11s\n",
      "epoch 105| loss: 0.21243 | train_mse: 0.15495 | train_mae: 0.29702 |  0:00:11s\n"
     ]
    },
    {
     "name": "stdout",
     "output_type": "stream",
     "text": [
      "epoch 106| loss: 0.33807 | train_mse: 0.16033 | train_mae: 0.29919 |  0:00:11s\n",
      "epoch 107| loss: 0.2594  | train_mse: 0.16036 | train_mae: 0.29924 |  0:00:11s\n",
      "epoch 108| loss: 0.22948 | train_mse: 0.15885 | train_mae: 0.30146 |  0:00:11s"
     ]
    },
    {
     "name": "stdout",
     "output_type": "stream",
     "text": [
      "\n",
      "epoch 109| loss: 0.47233 | train_mse: 0.15679 | train_mae: 0.30356 |  0:00:11s\n",
      "epoch 110| loss: 0.24882 | train_mse: 0.15004 | train_mae: 0.30073 |  0:00:11s\n"
     ]
    },
    {
     "name": "stdout",
     "output_type": "stream",
     "text": [
      "epoch 111| loss: 0.50907 | train_mse: 0.13827 | train_mae: 0.29713 |  0:00:11s\n",
      "epoch 112| loss: 0.3     | train_mse: 0.13322 | train_mae: 0.29174 |  0:00:11s\n",
      "epoch 113| loss: 0.17264 | train_mse: 0.13345 | train_mae: 0.28522 |  0:00:12s\n"
     ]
    },
    {
     "name": "stdout",
     "output_type": "stream",
     "text": [
      "epoch 114| loss: 0.29929 | train_mse: 0.13088 | train_mae: 0.28234 |  0:00:12s\n",
      "epoch 115| loss: 0.21392 | train_mse: 0.1322  | train_mae: 0.28351 |  0:00:12s\n",
      "epoch 116| loss: 0.24928 | train_mse: 0.13395 | train_mae: 0.28487 |  0:00:12s\n"
     ]
    },
    {
     "name": "stdout",
     "output_type": "stream",
     "text": [
      "epoch 117| loss: 0.45533 | train_mse: 0.13414 | train_mae: 0.28294 |  0:00:12s\n",
      "epoch 118| loss: 0.33754 | train_mse: 0.13927 | train_mae: 0.28666 |  0:00:12s\n"
     ]
    },
    {
     "name": "stdout",
     "output_type": "stream",
     "text": [
      "epoch 119| loss: 0.21391 | train_mse: 0.13759 | train_mae: 0.28619 |  0:00:12s\n",
      "epoch 120| loss: 0.23372 | train_mse: 0.13754 | train_mae: 0.28626 |  0:00:12s\n",
      "epoch 121| loss: 0.18141 | train_mse: 0.13935 | train_mae: 0.28578 |  0:00:12s\n"
     ]
    },
    {
     "name": "stdout",
     "output_type": "stream",
     "text": [
      "epoch 122| loss: 0.29619 | train_mse: 0.14237 | train_mae: 0.28595 |  0:00:12s\n",
      "epoch 123| loss: 0.32913 | train_mse: 0.14655 | train_mae: 0.29295 |  0:00:12s\n",
      "epoch 124| loss: 0.36884 | train_mse: 0.14923 | train_mae: 0.29326 |  0:00:12s\n"
     ]
    },
    {
     "name": "stdout",
     "output_type": "stream",
     "text": [
      "epoch 125| loss: 0.23185 | train_mse: 0.15642 | train_mae: 0.29389 |  0:00:13s\n",
      "epoch 126| loss: 0.26433 | train_mse: 0.15759 | train_mae: 0.29668 |  0:00:13s\n",
      "epoch 127| loss: 0.61506 | train_mse: 0.15913 | train_mae: 0.29944 |  0:00:13s\n"
     ]
    },
    {
     "name": "stdout",
     "output_type": "stream",
     "text": [
      "epoch 128| loss: 0.25808 | train_mse: 0.15805 | train_mae: 0.29958 |  0:00:13s\n",
      "epoch 129| loss: 0.19594 | train_mse: 0.1543  | train_mae: 0.29719 |  0:00:13s\n",
      "epoch 130| loss: 0.24555 | train_mse: 0.15054 | train_mae: 0.29528 |  0:00:13s\n"
     ]
    },
    {
     "name": "stdout",
     "output_type": "stream",
     "text": [
      "epoch 131| loss: 0.23856 | train_mse: 0.14691 | train_mae: 0.29053 |  0:00:13s\n",
      "epoch 132| loss: 0.19546 | train_mse: 0.13787 | train_mae: 0.28322 |  0:00:13s\n",
      "epoch 133| loss: 0.1622  | train_mse: 0.13086 | train_mae: 0.27336 |  0:00:13s\n"
     ]
    },
    {
     "name": "stdout",
     "output_type": "stream",
     "text": [
      "epoch 134| loss: 0.2097  | train_mse: 0.14571 | train_mae: 0.28409 |  0:00:13s\n",
      "epoch 135| loss: 0.18755 | train_mse: 0.14912 | train_mae: 0.28705 |  0:00:13s\n",
      "epoch 136| loss: 0.15468 | train_mse: 0.14968 | train_mae: 0.28765 |  0:00:14s\n"
     ]
    },
    {
     "name": "stdout",
     "output_type": "stream",
     "text": [
      "epoch 137| loss: 0.28861 | train_mse: 0.14705 | train_mae: 0.28735 |  0:00:14s\n",
      "epoch 138| loss: 0.21914 | train_mse: 0.13863 | train_mae: 0.28485 |  0:00:14s\n",
      "epoch 139| loss: 0.31205 | train_mse: 0.13448 | train_mae: 0.28429 |  0:00:14s\n"
     ]
    },
    {
     "name": "stdout",
     "output_type": "stream",
     "text": [
      "epoch 140| loss: 0.20216 | train_mse: 0.13046 | train_mae: 0.2825  |  0:00:14s\n",
      "epoch 141| loss: 0.21586 | train_mse: 0.12853 | train_mae: 0.28025 |  0:00:14s\n"
     ]
    },
    {
     "name": "stdout",
     "output_type": "stream",
     "text": [
      "epoch 142| loss: 0.21375 | train_mse: 0.12957 | train_mae: 0.28212 |  0:00:14s\n",
      "epoch 143| loss: 0.3109  | train_mse: 0.13004 | train_mae: 0.28346 |  0:00:14s\n",
      "epoch 144| loss: 0.32978 | train_mse: 0.12982 | train_mae: 0.28281 |  0:00:14s\n"
     ]
    },
    {
     "name": "stdout",
     "output_type": "stream",
     "text": [
      "epoch 145| loss: 0.23906 | train_mse: 0.1293  | train_mae: 0.28209 |  0:00:14s\n",
      "epoch 146| loss: 0.20623 | train_mse: 0.13049 | train_mae: 0.27929 |  0:00:14s\n",
      "epoch 147| loss: 0.33009 | train_mse: 0.12353 | train_mae: 0.2739  |  0:00:15s\n"
     ]
    },
    {
     "name": "stdout",
     "output_type": "stream",
     "text": [
      "epoch 148| loss: 0.16715 | train_mse: 0.11885 | train_mae: 0.27089 |  0:00:15s\n",
      "epoch 149| loss: 0.27689 | train_mse: 0.11284 | train_mae: 0.26748 |  0:00:15s\n",
      "epoch 150| loss: 0.31034 | train_mse: 0.10515 | train_mae: 0.2619  |  0:00:15s\n"
     ]
    },
    {
     "name": "stdout",
     "output_type": "stream",
     "text": [
      "epoch 151| loss: 0.16644 | train_mse: 0.11501 | train_mae: 0.27019 |  0:00:15s\n",
      "epoch 152| loss: 0.19112 | train_mse: 0.12316 | train_mae: 0.2749  |  0:00:15s\n",
      "epoch 153| loss: 0.25293 | train_mse: 0.1298  | train_mae: 0.27504 |  0:00:15s\n"
     ]
    },
    {
     "name": "stdout",
     "output_type": "stream",
     "text": [
      "epoch 154| loss: 0.3059  | train_mse: 0.13192 | train_mae: 0.27398 |  0:00:15s\n",
      "epoch 155| loss: 0.3632  | train_mse: 0.13133 | train_mae: 0.26544 |  0:00:15s\n",
      "epoch 156| loss: 0.27912 | train_mse: 0.13399 | train_mae: 0.2641  |  0:00:15s\n"
     ]
    },
    {
     "name": "stdout",
     "output_type": "stream",
     "text": [
      "epoch 157| loss: 0.26734 | train_mse: 0.13397 | train_mae: 0.2646  |  0:00:15s\n",
      "epoch 158| loss: 0.25836 | train_mse: 0.13127 | train_mae: 0.26014 |  0:00:15s\n",
      "epoch 159| loss: 0.31653 | train_mse: 0.13083 | train_mae: 0.2581  |  0:00:16s\n"
     ]
    },
    {
     "name": "stdout",
     "output_type": "stream",
     "text": [
      "epoch 160| loss: 0.18351 | train_mse: 0.12682 | train_mae: 0.25513 |  0:00:16s\n",
      "epoch 161| loss: 0.39861 | train_mse: 0.12743 | train_mae: 0.25231 |  0:00:16s\n",
      "epoch 162| loss: 0.37757 | train_mse: 0.12197 | train_mae: 0.25029 |  0:00:16s\n"
     ]
    },
    {
     "name": "stdout",
     "output_type": "stream",
     "text": [
      "epoch 163| loss: 0.20462 | train_mse: 0.11364 | train_mae: 0.2451  |  0:00:16s\n",
      "epoch 164| loss: 0.4296  | train_mse: 0.10336 | train_mae: 0.24253 |  0:00:16s\n"
     ]
    },
    {
     "name": "stdout",
     "output_type": "stream",
     "text": [
      "epoch 165| loss: 0.25707 | train_mse: 0.10477 | train_mae: 0.24452 |  0:00:16s\n",
      "epoch 166| loss: 0.15518 | train_mse: 0.10964 | train_mae: 0.24736 |  0:00:16s\n",
      "epoch 167| loss: 0.21586 | train_mse: 0.11574 | train_mae: 0.25129 |  0:00:16s\n"
     ]
    },
    {
     "name": "stdout",
     "output_type": "stream",
     "text": [
      "epoch 168| loss: 0.37884 | train_mse: 0.11659 | train_mae: 0.25262 |  0:00:16s\n",
      "epoch 169| loss: 0.26757 | train_mse: 0.10407 | train_mae: 0.24672 |  0:00:16s\n",
      "epoch 170| loss: 0.25774 | train_mse: 0.09863 | train_mae: 0.24432 |  0:00:17s\n"
     ]
    },
    {
     "name": "stdout",
     "output_type": "stream",
     "text": [
      "epoch 171| loss: 0.13077 | train_mse: 0.09807 | train_mae: 0.24421 |  0:00:17s\n",
      "epoch 172| loss: 0.1675  | train_mse: 0.09282 | train_mae: 0.23979 |  0:00:17s\n",
      "epoch 173| loss: 0.18493 | train_mse: 0.09215 | train_mae: 0.23943 |  0:00:17s\n"
     ]
    },
    {
     "name": "stdout",
     "output_type": "stream",
     "text": [
      "epoch 174| loss: 0.27049 | train_mse: 0.08896 | train_mae: 0.23646 |  0:00:17s\n",
      "epoch 175| loss: 0.20537 | train_mse: 0.08702 | train_mae: 0.23463 |  0:00:17s\n",
      "epoch 176| loss: 0.39589 | train_mse: 0.08754 | train_mae: 0.23353 |  0:00:17s"
     ]
    },
    {
     "name": "stdout",
     "output_type": "stream",
     "text": [
      "\n",
      "epoch 177| loss: 0.14829 | train_mse: 0.08479 | train_mae: 0.23244 |  0:00:17s\n",
      "epoch 178| loss: 0.21439 | train_mse: 0.08504 | train_mae: 0.2341  |  0:00:17s\n"
     ]
    },
    {
     "name": "stdout",
     "output_type": "stream",
     "text": [
      "epoch 179| loss: 0.12155 | train_mse: 0.08389 | train_mae: 0.23373 |  0:00:17s\n",
      "epoch 180| loss: 0.18833 | train_mse: 0.08293 | train_mae: 0.23361 |  0:00:18s\n",
      "epoch 181| loss: 0.17205 | train_mse: 0.0829  | train_mae: 0.23465 |  0:00:18s\n"
     ]
    },
    {
     "name": "stdout",
     "output_type": "stream",
     "text": [
      "epoch 182| loss: 0.55146 | train_mse: 0.08279 | train_mae: 0.23486 |  0:00:18s\n",
      "epoch 183| loss: 0.14029 | train_mse: 0.08357 | train_mae: 0.23578 |  0:00:18s\n",
      "epoch 184| loss: 0.24773 | train_mse: 0.08178 | train_mae: 0.23483 |  0:00:18s\n"
     ]
    },
    {
     "name": "stdout",
     "output_type": "stream",
     "text": [
      "epoch 185| loss: 0.25139 | train_mse: 0.08076 | train_mae: 0.23464 |  0:00:18s\n",
      "epoch 186| loss: 0.22152 | train_mse: 0.08241 | train_mae: 0.23665 |  0:00:18s\n",
      "epoch 187| loss: 0.29584 | train_mse: 0.08425 | train_mae: 0.23813 |  0:00:18s\n"
     ]
    },
    {
     "name": "stdout",
     "output_type": "stream",
     "text": [
      "epoch 188| loss: 0.16988 | train_mse: 0.08696 | train_mae: 0.24063 |  0:00:18s\n",
      "epoch 189| loss: 0.16792 | train_mse: 0.09079 | train_mae: 0.24214 |  0:00:18s\n",
      "epoch 190| loss: 0.10357 | train_mse: 0.09047 | train_mae: 0.24035 |  0:00:18s\n"
     ]
    },
    {
     "name": "stdout",
     "output_type": "stream",
     "text": [
      "epoch 191| loss: 0.30185 | train_mse: 0.08757 | train_mae: 0.23539 |  0:00:19s\n",
      "epoch 192| loss: 0.07047 | train_mse: 0.0893  | train_mae: 0.23553 |  0:00:19s\n",
      "epoch 193| loss: 0.2308  | train_mse: 0.08666 | train_mae: 0.23359 |  0:00:19s\n"
     ]
    },
    {
     "name": "stdout",
     "output_type": "stream",
     "text": [
      "epoch 194| loss: 0.31882 | train_mse: 0.0826  | train_mae: 0.22934 |  0:00:19s\n",
      "epoch 195| loss: 0.15535 | train_mse: 0.08254 | train_mae: 0.2282  |  0:00:19s\n"
     ]
    },
    {
     "name": "stdout",
     "output_type": "stream",
     "text": [
      "epoch 196| loss: 0.37277 | train_mse: 0.08252 | train_mae: 0.22751 |  0:00:19s\n",
      "epoch 197| loss: 0.20242 | train_mse: 0.08588 | train_mae: 0.22481 |  0:00:19s\n"
     ]
    },
    {
     "name": "stdout",
     "output_type": "stream",
     "text": [
      "epoch 198| loss: 0.25701 | train_mse: 0.08658 | train_mae: 0.22542 |  0:00:19s\n",
      "epoch 199| loss: 0.14991 | train_mse: 0.08614 | train_mae: 0.22179 |  0:00:19s\n",
      "epoch 200| loss: 0.10613 | train_mse: 0.08434 | train_mae: 0.22304 |  0:00:19s\n"
     ]
    },
    {
     "name": "stdout",
     "output_type": "stream",
     "text": [
      "epoch 201| loss: 0.1033  | train_mse: 0.08334 | train_mae: 0.22586 |  0:00:19s\n",
      "epoch 202| loss: 0.1746  | train_mse: 0.08602 | train_mae: 0.2276  |  0:00:20s\n",
      "epoch 203| loss: 0.25527 | train_mse: 0.08825 | train_mae: 0.23138 |  0:00:20s\n"
     ]
    },
    {
     "name": "stdout",
     "output_type": "stream",
     "text": [
      "epoch 204| loss: 0.14463 | train_mse: 0.08871 | train_mae: 0.23162 |  0:00:20s\n",
      "epoch 205| loss: 0.2499  | train_mse: 0.0841  | train_mae: 0.22864 |  0:00:20s\n",
      "epoch 206| loss: 0.16441 | train_mse: 0.08218 | train_mae: 0.22789 |  0:00:20s\n"
     ]
    },
    {
     "name": "stdout",
     "output_type": "stream",
     "text": [
      "epoch 207| loss: 0.20926 | train_mse: 0.07468 | train_mae: 0.22172 |  0:00:20s\n",
      "epoch 208| loss: 0.13185 | train_mse: 0.07302 | train_mae: 0.21621 |  0:00:20s\n"
     ]
    },
    {
     "name": "stdout",
     "output_type": "stream",
     "text": [
      "epoch 209| loss: 0.23101 | train_mse: 0.07454 | train_mae: 0.21613 |  0:00:20s\n",
      "epoch 210| loss: 0.28613 | train_mse: 0.07766 | train_mae: 0.21896 |  0:00:20s\n",
      "epoch 211| loss: 0.14857 | train_mse: 0.08093 | train_mae: 0.22027 |  0:00:20s\n"
     ]
    },
    {
     "name": "stdout",
     "output_type": "stream",
     "text": [
      "epoch 212| loss: 0.165   | train_mse: 0.08363 | train_mae: 0.2236  |  0:00:21s\n",
      "epoch 213| loss: 0.20911 | train_mse: 0.0826  | train_mae: 0.22378 |  0:00:21s\n",
      "epoch 214| loss: 0.35019 | train_mse: 0.08025 | train_mae: 0.22269 |  0:00:21s\n"
     ]
    },
    {
     "name": "stdout",
     "output_type": "stream",
     "text": [
      "epoch 215| loss: 0.16931 | train_mse: 0.0968  | train_mae: 0.22903 |  0:00:21s\n",
      "epoch 216| loss: 0.38864 | train_mse: 0.08943 | train_mae: 0.22581 |  0:00:21s\n",
      "epoch 217| loss: 0.23369 | train_mse: 0.08552 | train_mae: 0.22277 |  0:00:21s\n"
     ]
    },
    {
     "name": "stdout",
     "output_type": "stream",
     "text": [
      "epoch 218| loss: 0.35888 | train_mse: 0.08864 | train_mae: 0.22459 |  0:00:21s\n",
      "epoch 219| loss: 0.14267 | train_mse: 0.08456 | train_mae: 0.22528 |  0:00:21s\n",
      "epoch 220| loss: 0.15974 | train_mse: 0.08128 | train_mae: 0.22332 |  0:00:21s\n"
     ]
    },
    {
     "name": "stdout",
     "output_type": "stream",
     "text": [
      "epoch 221| loss: 0.17782 | train_mse: 0.0918  | train_mae: 0.22899 |  0:00:21s\n",
      "epoch 222| loss: 0.16734 | train_mse: 0.087   | train_mae: 0.22899 |  0:00:21s\n",
      "epoch 223| loss: 0.18421 | train_mse: 0.08559 | train_mae: 0.22602 |  0:00:21s\n"
     ]
    },
    {
     "name": "stdout",
     "output_type": "stream",
     "text": [
      "epoch 224| loss: 0.1346  | train_mse: 0.09084 | train_mae: 0.2286  |  0:00:22s\n",
      "epoch 225| loss: 0.0925  | train_mse: 0.09561 | train_mae: 0.23028 |  0:00:22s\n",
      "epoch 226| loss: 0.2821  | train_mse: 0.09581 | train_mae: 0.23288 |  0:00:22s\n"
     ]
    },
    {
     "name": "stdout",
     "output_type": "stream",
     "text": [
      "epoch 227| loss: 0.23591 | train_mse: 0.08092 | train_mae: 0.22336 |  0:00:22s\n",
      "epoch 228| loss: 0.37612 | train_mse: 0.07164 | train_mae: 0.2195  |  0:00:22s\n",
      "epoch 229| loss: 0.21648 | train_mse: 0.06956 | train_mae: 0.21701 |  0:00:22s"
     ]
    },
    {
     "name": "stdout",
     "output_type": "stream",
     "text": [
      "\n",
      "epoch 230| loss: 0.11711 | train_mse: 0.06981 | train_mae: 0.21566 |  0:00:22s\n",
      "epoch 231| loss: 0.19073 | train_mse: 0.07251 | train_mae: 0.21914 |  0:00:22s\n"
     ]
    },
    {
     "name": "stdout",
     "output_type": "stream",
     "text": [
      "epoch 232| loss: 0.31854 | train_mse: 0.07296 | train_mae: 0.21899 |  0:00:22s\n",
      "epoch 233| loss: 0.15718 | train_mse: 0.07173 | train_mae: 0.21713 |  0:00:22s\n",
      "epoch 234| loss: 0.16704 | train_mse: 0.07145 | train_mae: 0.21746 |  0:00:22s\n"
     ]
    },
    {
     "name": "stdout",
     "output_type": "stream",
     "text": [
      "epoch 235| loss: 0.2507  | train_mse: 0.06949 | train_mae: 0.21694 |  0:00:23s\n",
      "epoch 236| loss: 0.14923 | train_mse: 0.0684  | train_mae: 0.21565 |  0:00:23s\n",
      "epoch 237| loss: 0.18621 | train_mse: 0.06889 | train_mae: 0.21606 |  0:00:23s\n"
     ]
    },
    {
     "name": "stdout",
     "output_type": "stream",
     "text": [
      "epoch 238| loss: 0.14184 | train_mse: 0.06844 | train_mae: 0.21809 |  0:00:23s\n",
      "epoch 239| loss: 0.13345 | train_mse: 0.07084 | train_mae: 0.22207 |  0:00:23s\n",
      "epoch 240| loss: 0.12907 | train_mse: 0.07072 | train_mae: 0.22326 |  0:00:23s\n"
     ]
    },
    {
     "name": "stdout",
     "output_type": "stream",
     "text": [
      "epoch 241| loss: 0.17814 | train_mse: 0.06948 | train_mae: 0.22277 |  0:00:23s\n",
      "epoch 242| loss: 0.29157 | train_mse: 0.06545 | train_mae: 0.22128 |  0:00:23s\n",
      "epoch 243| loss: 0.14625 | train_mse: 0.06733 | train_mae: 0.22149 |  0:00:23s\n"
     ]
    },
    {
     "name": "stdout",
     "output_type": "stream",
     "text": [
      "epoch 244| loss: 0.22471 | train_mse: 0.06932 | train_mae: 0.2208  |  0:00:23s\n",
      "epoch 245| loss: 0.09618 | train_mse: 0.07223 | train_mae: 0.22216 |  0:00:23s\n",
      "epoch 246| loss: 0.22629 | train_mse: 0.07078 | train_mae: 0.22162 |  0:00:24s\n"
     ]
    },
    {
     "name": "stdout",
     "output_type": "stream",
     "text": [
      "epoch 247| loss: 0.2893  | train_mse: 0.07266 | train_mae: 0.22383 |  0:00:24s\n",
      "epoch 248| loss: 0.10736 | train_mse: 0.07063 | train_mae: 0.22137 |  0:00:24s\n",
      "epoch 249| loss: 0.19092 | train_mse: 0.07139 | train_mae: 0.22215 |  0:00:24s\n"
     ]
    },
    {
     "name": "stdout",
     "output_type": "stream",
     "text": [
      "epoch 250| loss: 0.15512 | train_mse: 0.07235 | train_mae: 0.22039 |  0:00:24s\n",
      "epoch 251| loss: 0.23327 | train_mse: 0.07631 | train_mae: 0.22233 |  0:00:24s\n",
      "epoch 252| loss: 0.16066 | train_mse: 0.07821 | train_mae: 0.21993 |  0:00:24s\n"
     ]
    },
    {
     "name": "stdout",
     "output_type": "stream",
     "text": [
      "epoch 253| loss: 0.24614 | train_mse: 0.07961 | train_mae: 0.21926 |  0:00:24s\n",
      "epoch 254| loss: 0.31255 | train_mse: 0.0869  | train_mae: 0.22332 |  0:00:24s\n",
      "epoch 255| loss: 0.18298 | train_mse: 0.09467 | train_mae: 0.23057 |  0:00:24s\n"
     ]
    },
    {
     "name": "stdout",
     "output_type": "stream",
     "text": [
      "epoch 256| loss: 0.18859 | train_mse: 0.09768 | train_mae: 0.23091 |  0:00:24s\n",
      "epoch 257| loss: 0.10109 | train_mse: 0.09936 | train_mae: 0.22871 |  0:00:24s\n",
      "epoch 258| loss: 0.11969 | train_mse: 0.09976 | train_mae: 0.22974 |  0:00:25s\n"
     ]
    },
    {
     "name": "stdout",
     "output_type": "stream",
     "text": [
      "epoch 259| loss: 0.21743 | train_mse: 0.09958 | train_mae: 0.22923 |  0:00:25s\n",
      "epoch 260| loss: 0.20009 | train_mse: 0.09958 | train_mae: 0.22976 |  0:00:25s\n",
      "epoch 261| loss: 0.15125 | train_mse: 0.09387 | train_mae: 0.22742 |  0:00:25s\n"
     ]
    },
    {
     "name": "stdout",
     "output_type": "stream",
     "text": [
      "epoch 262| loss: 0.12585 | train_mse: 0.08764 | train_mae: 0.22336 |  0:00:25s\n",
      "epoch 263| loss: 0.1841  | train_mse: 0.08287 | train_mae: 0.21933 |  0:00:25s\n",
      "epoch 264| loss: 0.27157 | train_mse: 0.08082 | train_mae: 0.22144 |  0:00:25s\n"
     ]
    },
    {
     "name": "stdout",
     "output_type": "stream",
     "text": [
      "epoch 265| loss: 0.42774 | train_mse: 0.07755 | train_mae: 0.22166 |  0:00:25s\n",
      "epoch 266| loss: 0.2492  | train_mse: 0.0767  | train_mae: 0.22039 |  0:00:25s\n",
      "epoch 267| loss: 0.14118 | train_mse: 0.07486 | train_mae: 0.21876 |  0:00:25s\n"
     ]
    },
    {
     "name": "stdout",
     "output_type": "stream",
     "text": [
      "epoch 268| loss: 0.18618 | train_mse: 0.07777 | train_mae: 0.21851 |  0:00:25s\n",
      "epoch 269| loss: 0.17622 | train_mse: 0.07971 | train_mae: 0.22127 |  0:00:26s\n",
      "epoch 270| loss: 0.16066 | train_mse: 0.08142 | train_mae: 0.22226 |  0:00:26s\n"
     ]
    },
    {
     "name": "stdout",
     "output_type": "stream",
     "text": [
      "epoch 271| loss: 0.14818 | train_mse: 0.07975 | train_mae: 0.22002 |  0:00:26s\n",
      "epoch 272| loss: 0.17348 | train_mse: 0.07702 | train_mae: 0.21901 |  0:00:26s\n",
      "epoch 273| loss: 0.13937 | train_mse: 0.07528 | train_mae: 0.21713 |  0:00:26s\n"
     ]
    },
    {
     "name": "stdout",
     "output_type": "stream",
     "text": [
      "epoch 274| loss: 0.41428 | train_mse: 0.07235 | train_mae: 0.21483 |  0:00:26s\n",
      "epoch 275| loss: 0.19797 | train_mse: 0.07109 | train_mae: 0.21207 |  0:00:26s\n",
      "epoch 276| loss: 0.26994 | train_mse: 0.07524 | train_mae: 0.21435 |  0:00:26s\n"
     ]
    },
    {
     "name": "stdout",
     "output_type": "stream",
     "text": [
      "epoch 277| loss: 0.18367 | train_mse: 0.07301 | train_mae: 0.21227 |  0:00:26s\n",
      "epoch 278| loss: 0.27027 | train_mse: 0.07166 | train_mae: 0.2125  |  0:00:26s\n"
     ]
    },
    {
     "name": "stdout",
     "output_type": "stream",
     "text": [
      "epoch 279| loss: 0.15115 | train_mse: 0.07482 | train_mae: 0.21548 |  0:00:26s\n",
      "epoch 280| loss: 0.24634 | train_mse: 0.0768  | train_mae: 0.21863 |  0:00:27s\n"
     ]
    },
    {
     "name": "stdout",
     "output_type": "stream",
     "text": [
      "epoch 281| loss: 0.16163 | train_mse: 0.07424 | train_mae: 0.21729 |  0:00:27s\n",
      "epoch 282| loss: 0.14005 | train_mse: 0.07446 | train_mae: 0.21923 |  0:00:27s\n"
     ]
    },
    {
     "name": "stdout",
     "output_type": "stream",
     "text": [
      "epoch 283| loss: 0.13361 | train_mse: 0.07558 | train_mae: 0.22256 |  0:00:27s\n",
      "epoch 284| loss: 0.14197 | train_mse: 0.07836 | train_mae: 0.22553 |  0:00:27s\n"
     ]
    },
    {
     "name": "stdout",
     "output_type": "stream",
     "text": [
      "epoch 285| loss: 0.15188 | train_mse: 0.08131 | train_mae: 0.22795 |  0:00:27s\n",
      "epoch 286| loss: 0.06054 | train_mse: 0.08202 | train_mae: 0.22301 |  0:00:27s\n"
     ]
    },
    {
     "name": "stdout",
     "output_type": "stream",
     "text": [
      "epoch 287| loss: 0.21719 | train_mse: 0.08237 | train_mae: 0.22595 |  0:00:27s\n"
     ]
    },
    {
     "name": "stdout",
     "output_type": "stream",
     "text": [
      "epoch 288| loss: 0.14864 | train_mse: 0.07859 | train_mae: 0.22426 |  0:00:28s\n",
      "epoch 289| loss: 0.20156 | train_mse: 0.07351 | train_mae: 0.21796 |  0:00:28s\n"
     ]
    },
    {
     "name": "stdout",
     "output_type": "stream",
     "text": [
      "epoch 290| loss: 0.17681 | train_mse: 0.06978 | train_mae: 0.21373 |  0:00:28s\n",
      "epoch 291| loss: 0.1161  | train_mse: 0.06329 | train_mae: 0.20711 |  0:00:28s\n"
     ]
    },
    {
     "name": "stdout",
     "output_type": "stream",
     "text": [
      "epoch 292| loss: 0.12748 | train_mse: 0.06217 | train_mae: 0.20403 |  0:00:28s\n",
      "epoch 293| loss: 0.11901 | train_mse: 0.06293 | train_mae: 0.20547 |  0:00:29s\n",
      "epoch 294| loss: 0.19708 | train_mse: 0.06197 | train_mae: 0.20464 |  0:00:29s\n"
     ]
    },
    {
     "name": "stdout",
     "output_type": "stream",
     "text": [
      "epoch 295| loss: 0.29223 | train_mse: 0.06188 | train_mae: 0.20164 |  0:00:29s\n",
      "epoch 296| loss: 0.12594 | train_mse: 0.06252 | train_mae: 0.20412 |  0:00:29s\n",
      "epoch 297| loss: 0.10276 | train_mse: 0.06374 | train_mae: 0.2063  |  0:00:29s\n"
     ]
    },
    {
     "name": "stdout",
     "output_type": "stream",
     "text": [
      "epoch 298| loss: 0.28409 | train_mse: 0.06351 | train_mae: 0.20389 |  0:00:29s\n",
      "epoch 299| loss: 0.21297 | train_mse: 0.06078 | train_mae: 0.20027 |  0:00:29s\n"
     ]
    },
    {
     "name": "stdout",
     "output_type": "stream",
     "text": [
      "epoch 300| loss: 0.11806 | train_mse: 0.06092 | train_mae: 0.19851 |  0:00:29s\n",
      "epoch 301| loss: 0.19828 | train_mse: 0.06129 | train_mae: 0.20016 |  0:00:29s\n",
      "epoch 302| loss: 0.16119 | train_mse: 0.06395 | train_mae: 0.20247 |  0:00:29s\n"
     ]
    },
    {
     "name": "stdout",
     "output_type": "stream",
     "text": [
      "epoch 303| loss: 0.14566 | train_mse: 0.06761 | train_mae: 0.20507 |  0:00:29s\n",
      "epoch 304| loss: 0.27032 | train_mse: 0.06589 | train_mae: 0.20304 |  0:00:30s\n",
      "epoch 305| loss: 0.13881 | train_mse: 0.06601 | train_mae: 0.20359 |  0:00:30s\n"
     ]
    },
    {
     "name": "stdout",
     "output_type": "stream",
     "text": [
      "epoch 306| loss: 0.11027 | train_mse: 0.06567 | train_mae: 0.20311 |  0:00:30s\n",
      "epoch 307| loss: 0.25723 | train_mse: 0.06358 | train_mae: 0.2024  |  0:00:30s\n",
      "epoch 308| loss: 0.09454 | train_mse: 0.06455 | train_mae: 0.20292 |  0:00:30s\n"
     ]
    },
    {
     "name": "stdout",
     "output_type": "stream",
     "text": [
      "epoch 309| loss: 0.14034 | train_mse: 0.06593 | train_mae: 0.2056  |  0:00:30s\n",
      "epoch 310| loss: 0.14922 | train_mse: 0.06715 | train_mae: 0.20766 |  0:00:30s\n",
      "epoch 311| loss: 0.19066 | train_mse: 0.06801 | train_mae: 0.20799 |  0:00:30s\n"
     ]
    },
    {
     "name": "stdout",
     "output_type": "stream",
     "text": [
      "epoch 312| loss: 0.11499 | train_mse: 0.06879 | train_mae: 0.20853 |  0:00:30s\n",
      "epoch 313| loss: 0.16766 | train_mse: 0.06797 | train_mae: 0.20773 |  0:00:30s\n"
     ]
    },
    {
     "name": "stdout",
     "output_type": "stream",
     "text": [
      "epoch 314| loss: 0.10721 | train_mse: 0.06615 | train_mae: 0.20644 |  0:00:31s\n"
     ]
    },
    {
     "name": "stdout",
     "output_type": "stream",
     "text": [
      "epoch 315| loss: 0.17108 | train_mse: 0.06356 | train_mae: 0.20307 |  0:00:31s\n"
     ]
    },
    {
     "name": "stdout",
     "output_type": "stream",
     "text": [
      "epoch 316| loss: 0.10085 | train_mse: 0.06281 | train_mae: 0.20098 |  0:00:32s\n",
      "epoch 317| loss: 0.35348 | train_mse: 0.06313 | train_mae: 0.20156 |  0:00:32s\n"
     ]
    },
    {
     "name": "stdout",
     "output_type": "stream",
     "text": [
      "epoch 318| loss: 0.16648 | train_mse: 0.06382 | train_mae: 0.20277 |  0:00:32s\n"
     ]
    },
    {
     "name": "stdout",
     "output_type": "stream",
     "text": [
      "epoch 319| loss: 0.15386 | train_mse: 0.06268 | train_mae: 0.20178 |  0:00:32s\n",
      "epoch 320| loss: 0.21117 | train_mse: 0.06178 | train_mae: 0.20132 |  0:00:32s\n"
     ]
    },
    {
     "name": "stdout",
     "output_type": "stream",
     "text": [
      "epoch 321| loss: 0.28332 | train_mse: 0.06126 | train_mae: 0.20254 |  0:00:32s\n",
      "epoch 322| loss: 0.24962 | train_mse: 0.06549 | train_mae: 0.20413 |  0:00:32s\n"
     ]
    },
    {
     "name": "stdout",
     "output_type": "stream",
     "text": [
      "epoch 323| loss: 0.11469 | train_mse: 0.07595 | train_mae: 0.20995 |  0:00:33s\n",
      "epoch 324| loss: 0.15837 | train_mse: 0.07087 | train_mae: 0.20822 |  0:00:33s\n"
     ]
    },
    {
     "name": "stdout",
     "output_type": "stream",
     "text": [
      "epoch 325| loss: 0.18095 | train_mse: 0.06696 | train_mae: 0.20282 |  0:00:33s\n",
      "epoch 326| loss: 0.23531 | train_mse: 0.06803 | train_mae: 0.20256 |  0:00:33s\n"
     ]
    },
    {
     "name": "stdout",
     "output_type": "stream",
     "text": [
      "epoch 327| loss: 0.09693 | train_mse: 0.06592 | train_mae: 0.19942 |  0:00:33s\n",
      "epoch 328| loss: 0.26172 | train_mse: 0.06366 | train_mae: 0.19476 |  0:00:33s\n"
     ]
    },
    {
     "name": "stdout",
     "output_type": "stream",
     "text": [
      "epoch 329| loss: 0.13927 | train_mse: 0.0638  | train_mae: 0.19609 |  0:00:33s\n",
      "epoch 330| loss: 0.17514 | train_mse: 0.06224 | train_mae: 0.19466 |  0:00:33s\n"
     ]
    },
    {
     "name": "stdout",
     "output_type": "stream",
     "text": [
      "epoch 331| loss: 0.19493 | train_mse: 0.06154 | train_mae: 0.19313 |  0:00:34s\n",
      "epoch 332| loss: 0.36119 | train_mse: 0.06036 | train_mae: 0.19069 |  0:00:34s\n"
     ]
    },
    {
     "name": "stdout",
     "output_type": "stream",
     "text": [
      "epoch 333| loss: 0.12649 | train_mse: 0.06134 | train_mae: 0.19241 |  0:00:34s\n",
      "epoch 334| loss: 0.13924 | train_mse: 0.06068 | train_mae: 0.19152 |  0:00:34s\n"
     ]
    },
    {
     "name": "stdout",
     "output_type": "stream",
     "text": [
      "epoch 335| loss: 0.20696 | train_mse: 0.05969 | train_mae: 0.19057 |  0:00:34s\n",
      "epoch 336| loss: 0.17184 | train_mse: 0.05935 | train_mae: 0.19118 |  0:00:34s\n"
     ]
    },
    {
     "name": "stdout",
     "output_type": "stream",
     "text": [
      "epoch 337| loss: 0.12179 | train_mse: 0.05909 | train_mae: 0.19101 |  0:00:34s\n",
      "epoch 338| loss: 0.26231 | train_mse: 0.06045 | train_mae: 0.19499 |  0:00:34s\n"
     ]
    },
    {
     "name": "stdout",
     "output_type": "stream",
     "text": [
      "epoch 339| loss: 0.18369 | train_mse: 0.06101 | train_mae: 0.19674 |  0:00:35s\n",
      "epoch 340| loss: 0.15484 | train_mse: 0.06228 | train_mae: 0.19916 |  0:00:35s\n"
     ]
    },
    {
     "name": "stdout",
     "output_type": "stream",
     "text": [
      "epoch 341| loss: 0.28631 | train_mse: 0.0646  | train_mae: 0.19947 |  0:00:35s\n",
      "epoch 342| loss: 0.15227 | train_mse: 0.06923 | train_mae: 0.19903 |  0:00:35s\n"
     ]
    },
    {
     "name": "stdout",
     "output_type": "stream",
     "text": [
      "epoch 343| loss: 0.19686 | train_mse: 0.07282 | train_mae: 0.1976  |  0:00:35s\n",
      "epoch 344| loss: 0.19076 | train_mse: 0.0806  | train_mae: 0.19958 |  0:00:35s\n"
     ]
    },
    {
     "name": "stdout",
     "output_type": "stream",
     "text": [
      "epoch 345| loss: 0.19991 | train_mse: 0.08086 | train_mae: 0.20111 |  0:00:35s\n",
      "epoch 346| loss: 0.10697 | train_mse: 0.08096 | train_mae: 0.20646 |  0:00:35s\n"
     ]
    },
    {
     "name": "stdout",
     "output_type": "stream",
     "text": [
      "epoch 347| loss: 0.13565 | train_mse: 0.08633 | train_mae: 0.21096 |  0:00:36s\n",
      "epoch 348| loss: 0.12627 | train_mse: 0.08686 | train_mae: 0.21209 |  0:00:36s\n"
     ]
    },
    {
     "name": "stdout",
     "output_type": "stream",
     "text": [
      "epoch 349| loss: 0.08645 | train_mse: 0.08445 | train_mae: 0.20996 |  0:00:36s\n",
      "epoch 350| loss: 0.13194 | train_mse: 0.08654 | train_mae: 0.21269 |  0:00:36s\n",
      "epoch 351| loss: 0.1219  | train_mse: 0.09133 | train_mae: 0.21471 |  0:00:36s"
     ]
    },
    {
     "name": "stdout",
     "output_type": "stream",
     "text": [
      "\n",
      "epoch 352| loss: 0.16727 | train_mse: 0.09517 | train_mae: 0.21519 |  0:00:36s\n"
     ]
    },
    {
     "name": "stdout",
     "output_type": "stream",
     "text": [
      "epoch 353| loss: 0.15722 | train_mse: 0.09795 | train_mae: 0.2165  |  0:00:36s\n",
      "epoch 354| loss: 0.12586 | train_mse: 0.10251 | train_mae: 0.21909 |  0:00:36s\n",
      "epoch 355| loss: 0.4263  | train_mse: 0.1007  | train_mae: 0.21723 |  0:00:36s\n"
     ]
    },
    {
     "name": "stdout",
     "output_type": "stream",
     "text": [
      "epoch 356| loss: 0.2312  | train_mse: 0.10125 | train_mae: 0.21522 |  0:00:36s\n",
      "epoch 357| loss: 0.27715 | train_mse: 0.10481 | train_mae: 0.21574 |  0:00:37s\n"
     ]
    },
    {
     "name": "stdout",
     "output_type": "stream",
     "text": [
      "epoch 358| loss: 0.0933  | train_mse: 0.1007  | train_mae: 0.21266 |  0:00:37s\n"
     ]
    },
    {
     "name": "stdout",
     "output_type": "stream",
     "text": [
      "epoch 359| loss: 0.10891 | train_mse: 0.09545 | train_mae: 0.20785 |  0:00:37s\n"
     ]
    },
    {
     "name": "stdout",
     "output_type": "stream",
     "text": [
      "epoch 360| loss: 0.15551 | train_mse: 0.07703 | train_mae: 0.19957 |  0:00:38s\n"
     ]
    },
    {
     "name": "stdout",
     "output_type": "stream",
     "text": [
      "epoch 361| loss: 0.29375 | train_mse: 0.06919 | train_mae: 0.19756 |  0:00:38s\n",
      "epoch 362| loss: 0.12879 | train_mse: 0.07209 | train_mae: 0.19787 |  0:00:38s\n"
     ]
    },
    {
     "name": "stdout",
     "output_type": "stream",
     "text": [
      "epoch 363| loss: 0.0871  | train_mse: 0.07803 | train_mae: 0.20237 |  0:00:38s\n",
      "epoch 364| loss: 0.53688 | train_mse: 0.07702 | train_mae: 0.20339 |  0:00:39s\n"
     ]
    },
    {
     "name": "stdout",
     "output_type": "stream",
     "text": [
      "epoch 365| loss: 0.12037 | train_mse: 0.0712  | train_mae: 0.20137 |  0:00:39s\n",
      "epoch 366| loss: 0.1086  | train_mse: 0.0679  | train_mae: 0.19896 |  0:00:39s\n"
     ]
    },
    {
     "name": "stdout",
     "output_type": "stream",
     "text": [
      "epoch 367| loss: 0.36574 | train_mse: 0.06234 | train_mae: 0.19353 |  0:00:39s\n",
      "epoch 368| loss: 0.17331 | train_mse: 0.06573 | train_mae: 0.19556 |  0:00:39s\n"
     ]
    },
    {
     "name": "stdout",
     "output_type": "stream",
     "text": [
      "epoch 369| loss: 0.22569 | train_mse: 0.06379 | train_mae: 0.19218 |  0:00:39s\n",
      "epoch 370| loss: 0.2497  | train_mse: 0.06027 | train_mae: 0.19217 |  0:00:39s\n"
     ]
    },
    {
     "name": "stdout",
     "output_type": "stream",
     "text": [
      "epoch 371| loss: 0.15147 | train_mse: 0.06336 | train_mae: 0.19712 |  0:00:40s\n",
      "epoch 372| loss: 0.19815 | train_mse: 0.06199 | train_mae: 0.19502 |  0:00:40s\n"
     ]
    },
    {
     "name": "stdout",
     "output_type": "stream",
     "text": [
      "epoch 373| loss: 0.25282 | train_mse: 0.0678  | train_mae: 0.20206 |  0:00:40s\n",
      "epoch 374| loss: 0.29297 | train_mse: 0.07285 | train_mae: 0.20854 |  0:00:40s\n",
      "epoch 375| loss: 0.13187 | train_mse: 0.07625 | train_mae: 0.21127 |  0:00:40s\n"
     ]
    },
    {
     "name": "stdout",
     "output_type": "stream",
     "text": [
      "epoch 376| loss: 0.09303 | train_mse: 0.07239 | train_mae: 0.20854 |  0:00:40s\n",
      "epoch 377| loss: 0.34653 | train_mse: 0.07149 | train_mae: 0.20852 |  0:00:40s\n"
     ]
    },
    {
     "name": "stdout",
     "output_type": "stream",
     "text": [
      "epoch 378| loss: 0.1251  | train_mse: 0.06726 | train_mae: 0.20325 |  0:00:40s\n",
      "epoch 379| loss: 0.19261 | train_mse: 0.06277 | train_mae: 0.19634 |  0:00:40s\n",
      "epoch 380| loss: 0.19472 | train_mse: 0.05831 | train_mae: 0.18896 |  0:00:41s\n"
     ]
    },
    {
     "name": "stdout",
     "output_type": "stream",
     "text": [
      "epoch 381| loss: 0.13734 | train_mse: 0.05678 | train_mae: 0.18537 |  0:00:41s\n",
      "epoch 382| loss: 0.18409 | train_mse: 0.05587 | train_mae: 0.18406 |  0:00:41s\n",
      "epoch 383| loss: 0.31526 | train_mse: 0.05389 | train_mae: 0.17994 |  0:00:41s\n"
     ]
    },
    {
     "name": "stdout",
     "output_type": "stream",
     "text": [
      "epoch 384| loss: 0.17575 | train_mse: 0.05248 | train_mae: 0.1774  |  0:00:41s\n",
      "epoch 385| loss: 0.22564 | train_mse: 0.05222 | train_mae: 0.1777  |  0:00:41s\n"
     ]
    },
    {
     "name": "stdout",
     "output_type": "stream",
     "text": [
      "epoch 386| loss: 0.20101 | train_mse: 0.05279 | train_mae: 0.17926 |  0:00:41s\n",
      "epoch 387| loss: 0.09892 | train_mse: 0.05405 | train_mae: 0.18133 |  0:00:41s\n",
      "epoch 388| loss: 0.21287 | train_mse: 0.06106 | train_mae: 0.19055 |  0:00:41s\n"
     ]
    },
    {
     "name": "stdout",
     "output_type": "stream",
     "text": [
      "epoch 389| loss: 0.26857 | train_mse: 0.05915 | train_mae: 0.18875 |  0:00:41s\n",
      "epoch 390| loss: 0.23639 | train_mse: 0.06213 | train_mae: 0.19182 |  0:00:41s\n",
      "epoch 391| loss: 0.09064 | train_mse: 0.05858 | train_mae: 0.19033 |  0:00:42s\n"
     ]
    },
    {
     "name": "stdout",
     "output_type": "stream",
     "text": [
      "epoch 392| loss: 0.36297 | train_mse: 0.05967 | train_mae: 0.19089 |  0:00:42s\n",
      "epoch 393| loss: 0.38052 | train_mse: 0.06212 | train_mae: 0.192   |  0:00:42s\n",
      "epoch 394| loss: 0.33746 | train_mse: 0.06031 | train_mae: 0.19158 |  0:00:42s\n"
     ]
    },
    {
     "name": "stdout",
     "output_type": "stream",
     "text": [
      "epoch 395| loss: 0.35802 | train_mse: 0.06338 | train_mae: 0.1945  |  0:00:42s\n",
      "epoch 396| loss: 0.13507 | train_mse: 0.06748 | train_mae: 0.19791 |  0:00:42s\n",
      "epoch 397| loss: 0.24695 | train_mse: 0.06586 | train_mae: 0.19992 |  0:00:42s\n"
     ]
    },
    {
     "name": "stdout",
     "output_type": "stream",
     "text": [
      "epoch 398| loss: 0.11575 | train_mse: 0.06903 | train_mae: 0.20366 |  0:00:42s\n",
      "epoch 399| loss: 0.10787 | train_mse: 0.07124 | train_mae: 0.20722 |  0:00:42s\n",
      "epoch 400| loss: 0.15883 | train_mse: 0.06991 | train_mae: 0.20623 |  0:00:42s\n"
     ]
    },
    {
     "name": "stdout",
     "output_type": "stream",
     "text": [
      "epoch 401| loss: 0.08924 | train_mse: 0.06517 | train_mae: 0.20197 |  0:00:42s\n",
      "epoch 402| loss: 0.12833 | train_mse: 0.05506 | train_mae: 0.19349 |  0:00:43s\n",
      "epoch 403| loss: 0.09479 | train_mse: 0.05357 | train_mae: 0.19127 |  0:00:43s\n"
     ]
    },
    {
     "name": "stdout",
     "output_type": "stream",
     "text": [
      "epoch 404| loss: 0.18035 | train_mse: 0.0558  | train_mae: 0.19209 |  0:00:43s\n",
      "epoch 405| loss: 0.2066  | train_mse: 0.05255 | train_mae: 0.18505 |  0:00:43s\n",
      "epoch 406| loss: 0.14285 | train_mse: 0.05334 | train_mae: 0.1869  |  0:00:43s\n"
     ]
    },
    {
     "name": "stdout",
     "output_type": "stream",
     "text": [
      "epoch 407| loss: 0.1103  | train_mse: 0.05286 | train_mae: 0.18412 |  0:00:43s\n",
      "epoch 408| loss: 0.10834 | train_mse: 0.05145 | train_mae: 0.18046 |  0:00:43s\n"
     ]
    },
    {
     "name": "stdout",
     "output_type": "stream",
     "text": [
      "epoch 409| loss: 0.2812  | train_mse: 0.05107 | train_mae: 0.17934 |  0:00:43s\n",
      "epoch 410| loss: 0.17632 | train_mse: 0.05188 | train_mae: 0.18093 |  0:00:43s\n",
      "epoch 411| loss: 0.16346 | train_mse: 0.05254 | train_mae: 0.18344 |  0:00:43s\n"
     ]
    },
    {
     "name": "stdout",
     "output_type": "stream",
     "text": [
      "epoch 412| loss: 0.10632 | train_mse: 0.05401 | train_mae: 0.18667 |  0:00:43s\n",
      "epoch 413| loss: 0.09924 | train_mse: 0.05342 | train_mae: 0.18638 |  0:00:44s\n",
      "epoch 414| loss: 0.11262 | train_mse: 0.05377 | train_mae: 0.18773 |  0:00:44s\n"
     ]
    },
    {
     "name": "stdout",
     "output_type": "stream",
     "text": [
      "epoch 415| loss: 0.18653 | train_mse: 0.0529  | train_mae: 0.18592 |  0:00:44s\n",
      "epoch 416| loss: 0.18913 | train_mse: 0.05437 | train_mae: 0.18732 |  0:00:44s\n",
      "epoch 417| loss: 0.11792 | train_mse: 0.0526  | train_mae: 0.18803 |  0:00:44s\n"
     ]
    },
    {
     "name": "stdout",
     "output_type": "stream",
     "text": [
      "epoch 418| loss: 0.50733 | train_mse: 0.05486 | train_mae: 0.19003 |  0:00:44s\n",
      "epoch 419| loss: 0.28055 | train_mse: 0.05625 | train_mae: 0.19073 |  0:00:44s\n"
     ]
    },
    {
     "name": "stdout",
     "output_type": "stream",
     "text": [
      "epoch 420| loss: 0.15068 | train_mse: 0.05769 | train_mae: 0.19316 |  0:00:44s\n",
      "epoch 421| loss: 0.13994 | train_mse: 0.05937 | train_mae: 0.19325 |  0:00:44s\n",
      "epoch 422| loss: 0.07848 | train_mse: 0.06123 | train_mae: 0.19297 |  0:00:44s\n"
     ]
    },
    {
     "name": "stdout",
     "output_type": "stream",
     "text": [
      "epoch 423| loss: 0.10498 | train_mse: 0.05975 | train_mae: 0.19057 |  0:00:44s\n",
      "epoch 424| loss: 0.12671 | train_mse: 0.06001 | train_mae: 0.18859 |  0:00:44s\n",
      "epoch 425| loss: 0.08131 | train_mse: 0.05916 | train_mae: 0.18705 |  0:00:45s\n"
     ]
    },
    {
     "name": "stdout",
     "output_type": "stream",
     "text": [
      "epoch 426| loss: 0.08093 | train_mse: 0.05532 | train_mae: 0.18742 |  0:00:45s\n",
      "epoch 427| loss: 0.07736 | train_mse: 0.0484  | train_mae: 0.1821  |  0:00:45s\n",
      "epoch 428| loss: 0.14046 | train_mse: 0.04543 | train_mae: 0.1789  |  0:00:45s\n"
     ]
    },
    {
     "name": "stdout",
     "output_type": "stream",
     "text": [
      "epoch 429| loss: 0.11705 | train_mse: 0.04349 | train_mae: 0.17547 |  0:00:45s\n",
      "epoch 430| loss: 0.2026  | train_mse: 0.04233 | train_mae: 0.17287 |  0:00:45s\n",
      "epoch 431| loss: 0.0939  | train_mse: 0.04397 | train_mae: 0.17682 |  0:00:45s\n"
     ]
    },
    {
     "name": "stdout",
     "output_type": "stream",
     "text": [
      "epoch 432| loss: 0.08861 | train_mse: 0.04427 | train_mae: 0.17829 |  0:00:45s\n",
      "epoch 433| loss: 0.24199 | train_mse: 0.044   | train_mae: 0.17844 |  0:00:45s\n",
      "epoch 434| loss: 0.1253  | train_mse: 0.04435 | train_mae: 0.17818 |  0:00:45s\n"
     ]
    },
    {
     "name": "stdout",
     "output_type": "stream",
     "text": [
      "epoch 435| loss: 0.28635 | train_mse: 0.04509 | train_mae: 0.1787  |  0:00:45s\n",
      "epoch 436| loss: 0.15366 | train_mse: 0.04594 | train_mae: 0.18    |  0:00:46s\n",
      "epoch 437| loss: 0.26665 | train_mse: 0.0467  | train_mae: 0.18063 |  0:00:46s\n"
     ]
    },
    {
     "name": "stdout",
     "output_type": "stream",
     "text": [
      "epoch 438| loss: 0.15145 | train_mse: 0.04893 | train_mae: 0.18475 |  0:00:46s\n",
      "epoch 439| loss: 0.14628 | train_mse: 0.05022 | train_mae: 0.18705 |  0:00:46s\n",
      "epoch 440| loss: 0.22399 | train_mse: 0.05053 | train_mae: 0.18703 |  0:00:46s\n"
     ]
    },
    {
     "name": "stdout",
     "output_type": "stream",
     "text": [
      "epoch 441| loss: 0.14489 | train_mse: 0.05183 | train_mae: 0.18851 |  0:00:46s\n",
      "epoch 442| loss: 0.12671 | train_mse: 0.05408 | train_mae: 0.18997 |  0:00:46s\n",
      "epoch 443| loss: 0.08765 | train_mse: 0.05532 | train_mae: 0.19106 |  0:00:46s\n"
     ]
    },
    {
     "name": "stdout",
     "output_type": "stream",
     "text": [
      "epoch 444| loss: 0.18508 | train_mse: 0.05642 | train_mae: 0.19212 |  0:00:46s\n",
      "epoch 445| loss: 0.07216 | train_mse: 0.05464 | train_mae: 0.1887  |  0:00:46s\n",
      "epoch 446| loss: 0.2246  | train_mse: 0.0562  | train_mae: 0.19092 |  0:00:46s\n"
     ]
    },
    {
     "name": "stdout",
     "output_type": "stream",
     "text": [
      "epoch 447| loss: 0.07344 | train_mse: 0.05618 | train_mae: 0.19055 |  0:00:46s\n",
      "epoch 448| loss: 0.14268 | train_mse: 0.06224 | train_mae: 0.19694 |  0:00:47s\n",
      "epoch 449| loss: 0.14759 | train_mse: 0.05746 | train_mae: 0.19208 |  0:00:47s\n"
     ]
    },
    {
     "name": "stdout",
     "output_type": "stream",
     "text": [
      "epoch 450| loss: 0.24797 | train_mse: 0.05136 | train_mae: 0.18424 |  0:00:47s\n",
      "epoch 451| loss: 0.14192 | train_mse: 0.04968 | train_mae: 0.18352 |  0:00:47s\n",
      "epoch 452| loss: 0.08727 | train_mse: 0.04753 | train_mae: 0.18112 |  0:00:47s\n"
     ]
    },
    {
     "name": "stdout",
     "output_type": "stream",
     "text": [
      "epoch 453| loss: 0.06627 | train_mse: 0.04633 | train_mae: 0.17988 |  0:00:47s\n",
      "epoch 454| loss: 0.20695 | train_mse: 0.04572 | train_mae: 0.17937 |  0:00:47s\n",
      "epoch 455| loss: 0.22282 | train_mse: 0.04619 | train_mae: 0.18085 |  0:00:47s\n"
     ]
    },
    {
     "name": "stdout",
     "output_type": "stream",
     "text": [
      "epoch 456| loss: 0.10012 | train_mse: 0.04635 | train_mae: 0.18207 |  0:00:47s\n",
      "epoch 457| loss: 0.07254 | train_mse: 0.04635 | train_mae: 0.18224 |  0:00:47s\n"
     ]
    },
    {
     "name": "stdout",
     "output_type": "stream",
     "text": [
      "epoch 458| loss: 0.08982 | train_mse: 0.04568 | train_mae: 0.1789  |  0:00:47s\n",
      "epoch 459| loss: 0.18371 | train_mse: 0.04518 | train_mae: 0.1774  |  0:00:48s\n",
      "epoch 460| loss: 0.10327 | train_mse: 0.04549 | train_mae: 0.1768  |  0:00:48s\n"
     ]
    },
    {
     "name": "stdout",
     "output_type": "stream",
     "text": [
      "epoch 461| loss: 0.3788  | train_mse: 0.04597 | train_mae: 0.17751 |  0:00:48s\n",
      "epoch 462| loss: 0.10334 | train_mse: 0.04616 | train_mae: 0.17797 |  0:00:48s\n",
      "epoch 463| loss: 0.08756 | train_mse: 0.04714 | train_mae: 0.17938 |  0:00:48s\n"
     ]
    },
    {
     "name": "stdout",
     "output_type": "stream",
     "text": [
      "epoch 464| loss: 0.07857 | train_mse: 0.04726 | train_mae: 0.17854 |  0:00:48s\n",
      "epoch 465| loss: 0.10277 | train_mse: 0.04674 | train_mae: 0.1773  |  0:00:48s\n",
      "epoch 466| loss: 0.1061  | train_mse: 0.0461  | train_mae: 0.17639 |  0:00:48s\n"
     ]
    },
    {
     "name": "stdout",
     "output_type": "stream",
     "text": [
      "epoch 467| loss: 0.08623 | train_mse: 0.04462 | train_mae: 0.17381 |  0:00:48s\n",
      "epoch 468| loss: 0.09415 | train_mse: 0.04328 | train_mae: 0.17206 |  0:00:48s\n",
      "epoch 469| loss: 0.07416 | train_mse: 0.04271 | train_mae: 0.1703  |  0:00:48s\n"
     ]
    },
    {
     "name": "stdout",
     "output_type": "stream",
     "text": [
      "epoch 470| loss: 0.09474 | train_mse: 0.04069 | train_mae: 0.16515 |  0:00:48s\n",
      "epoch 471| loss: 0.07935 | train_mse: 0.04071 | train_mae: 0.16493 |  0:00:49s\n",
      "epoch 472| loss: 0.06325 | train_mse: 0.04053 | train_mae: 0.16457 |  0:00:49s\n"
     ]
    },
    {
     "name": "stdout",
     "output_type": "stream",
     "text": [
      "epoch 473| loss: 0.09977 | train_mse: 0.03981 | train_mae: 0.16532 |  0:00:49s\n",
      "epoch 474| loss: 0.15209 | train_mse: 0.03884 | train_mae: 0.16467 |  0:00:49s\n",
      "epoch 475| loss: 0.11021 | train_mse: 0.03823 | train_mae: 0.16378 |  0:00:49s\n"
     ]
    },
    {
     "name": "stdout",
     "output_type": "stream",
     "text": [
      "epoch 476| loss: 0.09695 | train_mse: 0.03907 | train_mae: 0.16421 |  0:00:49s\n",
      "epoch 477| loss: 0.16334 | train_mse: 0.0401  | train_mae: 0.16462 |  0:00:49s\n",
      "epoch 478| loss: 0.09474 | train_mse: 0.03947 | train_mae: 0.16213 |  0:00:49s\n"
     ]
    },
    {
     "name": "stdout",
     "output_type": "stream",
     "text": [
      "epoch 479| loss: 0.09287 | train_mse: 0.03979 | train_mae: 0.16383 |  0:00:49s\n",
      "epoch 480| loss: 0.33824 | train_mse: 0.03965 | train_mae: 0.16277 |  0:00:49s\n",
      "epoch 481| loss: 0.15577 | train_mse: 0.04193 | train_mae: 0.16786 |  0:00:49s\n"
     ]
    },
    {
     "name": "stdout",
     "output_type": "stream",
     "text": [
      "epoch 482| loss: 0.12012 | train_mse: 0.04218 | train_mae: 0.16793 |  0:00:50s\n",
      "epoch 483| loss: 0.14847 | train_mse: 0.04253 | train_mae: 0.16851 |  0:00:50s\n",
      "epoch 484| loss: 0.0896  | train_mse: 0.04388 | train_mae: 0.17031 |  0:00:50s\n"
     ]
    },
    {
     "name": "stdout",
     "output_type": "stream",
     "text": [
      "epoch 485| loss: 0.12892 | train_mse: 0.04385 | train_mae: 0.1691  |  0:00:50s\n",
      "epoch 486| loss: 0.15624 | train_mse: 0.04482 | train_mae: 0.16993 |  0:00:50s\n",
      "epoch 487| loss: 0.04764 | train_mse: 0.04447 | train_mae: 0.16768 |  0:00:50s\n"
     ]
    },
    {
     "name": "stdout",
     "output_type": "stream",
     "text": [
      "epoch 488| loss: 0.08354 | train_mse: 0.04457 | train_mae: 0.1681  |  0:00:50s\n",
      "epoch 489| loss: 0.15618 | train_mse: 0.04469 | train_mae: 0.16852 |  0:00:50s\n"
     ]
    },
    {
     "name": "stdout",
     "output_type": "stream",
     "text": [
      "epoch 490| loss: 0.11365 | train_mse: 0.0429  | train_mae: 0.16524 |  0:00:50s\n",
      "epoch 491| loss: 0.0989  | train_mse: 0.04411 | train_mae: 0.16683 |  0:00:50s\n",
      "epoch 492| loss: 0.09876 | train_mse: 0.04718 | train_mae: 0.17195 |  0:00:50s\n"
     ]
    },
    {
     "name": "stdout",
     "output_type": "stream",
     "text": [
      "epoch 493| loss: 0.15609 | train_mse: 0.0526  | train_mae: 0.17847 |  0:00:51s\n",
      "epoch 494| loss: 0.09292 | train_mse: 0.05802 | train_mae: 0.18369 |  0:00:51s\n",
      "epoch 495| loss: 0.16315 | train_mse: 0.05705 | train_mae: 0.18278 |  0:00:51s\n"
     ]
    },
    {
     "name": "stdout",
     "output_type": "stream",
     "text": [
      "epoch 496| loss: 0.22387 | train_mse: 0.05626 | train_mae: 0.18295 |  0:00:51s\n",
      "epoch 497| loss: 0.15677 | train_mse: 0.05925 | train_mae: 0.18422 |  0:00:51s\n",
      "epoch 498| loss: 0.36047 | train_mse: 0.06209 | train_mae: 0.18141 |  0:00:51s\n"
     ]
    },
    {
     "name": "stdout",
     "output_type": "stream",
     "text": [
      "epoch 499| loss: 0.19858 | train_mse: 0.06187 | train_mae: 0.1787  |  0:00:51s\n",
      "epoch 500| loss: 0.08036 | train_mse: 0.06366 | train_mae: 0.1805  |  0:00:51s\n",
      "epoch 501| loss: 0.09702 | train_mse: 0.06265 | train_mae: 0.17694 |  0:00:51s\n"
     ]
    },
    {
     "name": "stdout",
     "output_type": "stream",
     "text": [
      "epoch 502| loss: 0.32072 | train_mse: 0.06413 | train_mae: 0.17641 |  0:00:51s\n",
      "epoch 503| loss: 0.09776 | train_mse: 0.06924 | train_mae: 0.18029 |  0:00:51s\n",
      "epoch 504| loss: 0.11495 | train_mse: 0.0687  | train_mae: 0.17982 |  0:00:52s\n"
     ]
    },
    {
     "name": "stdout",
     "output_type": "stream",
     "text": [
      "epoch 505| loss: 0.17355 | train_mse: 0.06532 | train_mae: 0.18039 |  0:00:52s\n",
      "epoch 506| loss: 0.12356 | train_mse: 0.06275 | train_mae: 0.17748 |  0:00:52s\n",
      "epoch 507| loss: 0.12893 | train_mse: 0.06121 | train_mae: 0.17839 |  0:00:52s\n"
     ]
    },
    {
     "name": "stdout",
     "output_type": "stream",
     "text": [
      "epoch 508| loss: 0.3079  | train_mse: 0.05873 | train_mae: 0.17856 |  0:00:52s\n",
      "epoch 509| loss: 0.21175 | train_mse: 0.05934 | train_mae: 0.18075 |  0:00:52s\n",
      "epoch 510| loss: 0.18148 | train_mse: 0.05824 | train_mae: 0.18146 |  0:00:52s\n"
     ]
    },
    {
     "name": "stdout",
     "output_type": "stream",
     "text": [
      "epoch 511| loss: 0.11348 | train_mse: 0.05696 | train_mae: 0.18187 |  0:00:52s\n",
      "epoch 512| loss: 0.10414 | train_mse: 0.05413 | train_mae: 0.18023 |  0:00:52s\n",
      "epoch 513| loss: 0.17463 | train_mse: 0.05405 | train_mae: 0.18034 |  0:00:52s\n"
     ]
    },
    {
     "name": "stdout",
     "output_type": "stream",
     "text": [
      "epoch 514| loss: 0.10658 | train_mse: 0.05235 | train_mae: 0.17751 |  0:00:52s\n",
      "epoch 515| loss: 0.12459 | train_mse: 0.05245 | train_mae: 0.17635 |  0:00:52s\n",
      "epoch 516| loss: 0.11452 | train_mse: 0.05078 | train_mae: 0.17334 |  0:00:53s\n"
     ]
    },
    {
     "name": "stdout",
     "output_type": "stream",
     "text": [
      "epoch 517| loss: 0.1322  | train_mse: 0.0507  | train_mae: 0.17162 |  0:00:53s\n",
      "epoch 518| loss: 0.21542 | train_mse: 0.04977 | train_mae: 0.17056 |  0:00:53s\n",
      "epoch 519| loss: 0.23558 | train_mse: 0.05263 | train_mae: 0.17393 |  0:00:53s\n"
     ]
    },
    {
     "name": "stdout",
     "output_type": "stream",
     "text": [
      "epoch 520| loss: 0.14835 | train_mse: 0.05588 | train_mae: 0.17682 |  0:00:53s\n",
      "epoch 521| loss: 0.10344 | train_mse: 0.0562  | train_mae: 0.17656 |  0:00:53s\n",
      "epoch 522| loss: 0.26985 | train_mse: 0.05663 | train_mae: 0.17513 |  0:00:53s\n"
     ]
    },
    {
     "name": "stdout",
     "output_type": "stream",
     "text": [
      "epoch 523| loss: 0.23414 | train_mse: 0.05985 | train_mae: 0.17446 |  0:00:53s\n",
      "epoch 524| loss: 0.08085 | train_mse: 0.06278 | train_mae: 0.17513 |  0:00:53s\n",
      "epoch 525| loss: 0.31853 | train_mse: 0.06277 | train_mae: 0.1748  |  0:00:53s\n"
     ]
    },
    {
     "name": "stdout",
     "output_type": "stream",
     "text": [
      "epoch 526| loss: 0.26145 | train_mse: 0.06221 | train_mae: 0.17409 |  0:00:53s\n",
      "epoch 527| loss: 0.10451 | train_mse: 0.06    | train_mae: 0.17189 |  0:00:54s\n",
      "epoch 528| loss: 0.12938 | train_mse: 0.05852 | train_mae: 0.17067 |  0:00:54s\n",
      "\n",
      "Early stopping occurred at epoch 528 with best_epoch = 478 and best_train_mae = 0.16213\n",
      "Best weights from best epoch are automatically used!\n"
     ]
    }
   ],
   "source": [
    "#Train the Model\n",
    "\n",
    "Y_train = np.reshape(Y_train, (-1, 1))\n",
    "Y_test = np.reshape(Y_test, (-1, 1))\n",
    "\n",
    "prior_model = TabNetRegressor(optimizer_fn=torch.optim.Adam, optimizer_params=dict(lr = 0.001),\n",
    "          #scheduler_params={\"step_size\":10, ], \"gamma\":0.9},\n",
    "          #scheduler_fn=torch.optim.lr_scheduler.StepLR\n",
    "          )  #TabNetRegressor()\n",
    "\n",
    "prior_model.fit(X_train,Y_train,eval_set=[(X_train, Y_train)],\n",
    "            eval_name=['train'], \n",
    "            eval_metric=[ 'mse', 'mae'], \n",
    "            max_epochs = n_epochs, \n",
    "            batch_size = batch_size,\n",
    "            patience=50\n",
    "            )"
   ]
  },
  {
   "cell_type": "code",
   "execution_count": 10,
   "id": "af65dcda",
   "metadata": {
    "execution": {
     "iopub.execute_input": "2022-07-22T11:31:10.840577Z",
     "iopub.status.busy": "2022-07-22T11:31:10.840114Z",
     "iopub.status.idle": "2022-07-22T11:31:10.891491Z",
     "shell.execute_reply": "2022-07-22T11:31:10.890010Z"
    },
    "id": "af65dcda",
    "papermill": {
     "duration": 0.079629,
     "end_time": "2022-07-22T11:31:10.895905",
     "exception": false,
     "start_time": "2022-07-22T11:31:10.816276",
     "status": "completed"
    },
    "tags": []
   },
   "outputs": [
    {
     "data": {
      "application/scrapbook.scrap.json+json": {
       "data": 0.5504277284617387,
       "encoder": "json",
       "name": "Prior Model MSE",
       "version": 1
      }
     },
     "metadata": {
      "scrapbook": {
       "data": true,
       "display": false,
       "name": "Prior Model MSE"
      }
     },
     "output_type": "display_data"
    },
    {
     "data": {
      "application/scrapbook.scrap.json+json": {
       "data": 1.6522014236566727,
       "encoder": "json",
       "name": "ABC Pre-generator MSE",
       "version": 1
      }
     },
     "metadata": {
      "scrapbook": {
       "data": true,
       "display": false,
       "name": "ABC Pre-generator MSE"
      }
     },
     "output_type": "display_data"
    },
    {
     "data": {
      "application/scrapbook.scrap.json+json": {
       "data": 0.5797179631548504,
       "encoder": "json",
       "name": "Prior Model MAE",
       "version": 1
      }
     },
     "metadata": {
      "scrapbook": {
       "data": true,
       "display": false,
       "name": "Prior Model MAE"
      }
     },
     "output_type": "display_data"
    },
    {
     "name": "stdout",
     "output_type": "stream",
     "text": [
      "Prior Model MAE 0.5797179631548504\n"
     ]
    },
    {
     "data": {
      "application/scrapbook.scrap.json+json": {
       "data": 1.1458359173285064,
       "encoder": "json",
       "name": "ABC Pre-generator MAE",
       "version": 1
      }
     },
     "metadata": {
      "scrapbook": {
       "data": true,
       "display": false,
       "name": "ABC Pre-generator MAE"
      }
     },
     "output_type": "display_data"
    },
    {
     "name": "stdout",
     "output_type": "stream",
     "text": [
      "ABC Pre-generator MAE 1.1458359173285064\n"
     ]
    }
   ],
   "source": [
    "y_pred = prior_model.predict(X_test)\n",
    "y_abc = y_pred + np.random.normal(0,variance, y_pred.shape) + bias \n",
    "mse = mean_squared_error(y_pred,Y_test)\n",
    "sb.glue(\"Prior Model MSE\",mse)\n",
    "mse = mean_squared_error(y_abc,Y_test)\n",
    "sb.glue(\"ABC Pre-generator MSE\",mse)\n",
    "mae = mean_absolute_error(y_pred,Y_test)\n",
    "sb.glue(\"Prior Model MAE\",mae)\n",
    "print(\"Prior Model MAE\",mae)\n",
    "mae = mean_absolute_error(y_abc,Y_test)\n",
    "sb.glue(\"ABC Pre-generator MAE\",mae)\n",
    "print(\"ABC Pre-generator MAE\",mae)"
   ]
  },
  {
   "cell_type": "markdown",
   "id": "25609da2",
   "metadata": {
    "papermill": {
     "duration": 0.023041,
     "end_time": "2022-07-22T11:31:10.946154",
     "exception": false,
     "start_time": "2022-07-22T11:31:10.923113",
     "status": "completed"
    },
    "tags": []
   },
   "source": [
    "# mGAN Model"
   ]
  },
  {
   "cell_type": "code",
   "execution_count": 11,
   "id": "dfc3464d",
   "metadata": {
    "execution": {
     "iopub.execute_input": "2022-07-22T11:31:10.991187Z",
     "iopub.status.busy": "2022-07-22T11:31:10.990389Z",
     "iopub.status.idle": "2022-07-22T11:31:10.996191Z",
     "shell.execute_reply": "2022-07-22T11:31:10.994850Z"
    },
    "papermill": {
     "duration": 0.031789,
     "end_time": "2022-07-22T11:31:10.999420",
     "exception": false,
     "start_time": "2022-07-22T11:31:10.967631",
     "status": "completed"
    },
    "tags": []
   },
   "outputs": [],
   "source": [
    "# gen = network.Generator(n_features+1).to(device)\n",
    "# disc = network.Discriminator(n_features+1).to(device)\n",
    "\n",
    "# criterion = torch.nn.BCELoss()\n",
    "# gen_opt = torch.optim.Adam(gen.parameters(), lr=0.001, betas=(0.5, 0.999))\n",
    "# disc_opt = torch.optim.Adam(disc.parameters(), lr=0.001, betas=(0.5, 0.999))"
   ]
  },
  {
   "cell_type": "code",
   "execution_count": 12,
   "id": "b75fdd85",
   "metadata": {
    "execution": {
     "iopub.execute_input": "2022-07-22T11:31:11.044120Z",
     "iopub.status.busy": "2022-07-22T11:31:11.043314Z",
     "iopub.status.idle": "2022-07-22T11:31:11.047684Z",
     "shell.execute_reply": "2022-07-22T11:31:11.046775Z"
    },
    "papermill": {
     "duration": 0.032934,
     "end_time": "2022-07-22T11:31:11.051984",
     "exception": false,
     "start_time": "2022-07-22T11:31:11.019050",
     "status": "completed"
    },
    "tags": []
   },
   "outputs": [],
   "source": [
    "#Training the ABC_GAN \n",
    "# ABC_train_test2.training_GAN(disc,gen,disc_opt,gen_opt,train_data,batch_size,n_epochs,criterion,prior_model,variance,bias,device)"
   ]
  },
  {
   "cell_type": "code",
   "execution_count": 13,
   "id": "1fa7c368",
   "metadata": {
    "execution": {
     "iopub.execute_input": "2022-07-22T11:31:11.096518Z",
     "iopub.status.busy": "2022-07-22T11:31:11.095862Z",
     "iopub.status.idle": "2022-07-22T11:31:11.100655Z",
     "shell.execute_reply": "2022-07-22T11:31:11.099444Z"
    },
    "papermill": {
     "duration": 0.031882,
     "end_time": "2022-07-22T11:31:11.104400",
     "exception": false,
     "start_time": "2022-07-22T11:31:11.072518",
     "status": "completed"
    },
    "tags": []
   },
   "outputs": [],
   "source": [
    "# ABC_GAN1_metrics=ABC_train_test2.test_generator(gen,test_data,prior_model,variance,bias,\"1\",device)\n",
    "# sb.glue(\"ABC_GAN_1 Metrics\",ABC_GAN1_metrics)\n",
    "\n",
    "# print(\"MAE\")\n",
    "# print(mean(ABC_GAN1_metrics[1]))"
   ]
  },
  {
   "cell_type": "code",
   "execution_count": 14,
   "id": "eb22ce5c",
   "metadata": {
    "execution": {
     "iopub.execute_input": "2022-07-22T11:31:11.182126Z",
     "iopub.status.busy": "2022-07-22T11:31:11.181483Z",
     "iopub.status.idle": "2022-07-22T11:31:11.186130Z",
     "shell.execute_reply": "2022-07-22T11:31:11.185064Z"
    },
    "papermill": {
     "duration": 0.047885,
     "end_time": "2022-07-22T11:31:11.189963",
     "exception": false,
     "start_time": "2022-07-22T11:31:11.142078",
     "status": "completed"
    },
    "tags": []
   },
   "outputs": [],
   "source": [
    "# sanityChecks.discProbVsError(train_data,disc,device)\n",
    "# sanityChecks.discProbVsError(test_data,disc,device)"
   ]
  },
  {
   "cell_type": "markdown",
   "id": "403f8a22",
   "metadata": {
    "papermill": {
     "duration": 0.024677,
     "end_time": "2022-07-22T11:31:11.250739",
     "exception": false,
     "start_time": "2022-07-22T11:31:11.226062",
     "status": "completed"
    },
    "tags": []
   },
   "source": [
    "# mGAN Model with TabNet Generator"
   ]
  },
  {
   "cell_type": "code",
   "execution_count": 15,
   "id": "d303c81f",
   "metadata": {
    "execution": {
     "iopub.execute_input": "2022-07-22T11:31:11.301458Z",
     "iopub.status.busy": "2022-07-22T11:31:11.300772Z",
     "iopub.status.idle": "2022-07-22T11:31:11.320265Z",
     "shell.execute_reply": "2022-07-22T11:31:11.319268Z"
    },
    "papermill": {
     "duration": 0.046053,
     "end_time": "2022-07-22T11:31:11.323482",
     "exception": false,
     "start_time": "2022-07-22T11:31:11.277429",
     "status": "completed"
    },
    "tags": []
   },
   "outputs": [],
   "source": [
    "gen2 = network.GeneratorTabnet(n_features+1).to(device)\n",
    "disc2 = network.Discriminator(n_features+1).to(device)\n",
    "\n",
    "criterion = torch.nn.BCELoss()\n",
    "gen_opt = torch.optim.Adam(gen2.parameters(), lr=0.001, betas=(0.5, 0.999))\n",
    "disc_opt = torch.optim.Adam(disc2.parameters(), lr=0.001, betas=(0.5, 0.999))"
   ]
  },
  {
   "cell_type": "code",
   "execution_count": 16,
   "id": "fa1bd77e",
   "metadata": {
    "execution": {
     "iopub.execute_input": "2022-07-22T11:31:11.371719Z",
     "iopub.status.busy": "2022-07-22T11:31:11.370970Z",
     "iopub.status.idle": "2022-07-22T11:33:51.547889Z",
     "shell.execute_reply": "2022-07-22T11:33:51.546761Z"
    },
    "papermill": {
     "duration": 160.203823,
     "end_time": "2022-07-22T11:33:51.550437",
     "exception": false,
     "start_time": "2022-07-22T11:31:11.346614",
     "status": "completed"
    },
    "tags": []
   },
   "outputs": [
    {
     "data": {
      "image/png": "[encoded data removed]",
      "text/plain": [
       "<Figure size 432x288 with 1 Axes>"
      ]
     },
     "metadata": {
      "needs_background": "light"
     },
     "output_type": "display_data"
    },
    {
     "data": {
      "image/png": "[encoded data removed]",
      "text/plain": [
       "<Figure size 432x288 with 1 Axes>"
      ]
     },
     "metadata": {
      "needs_background": "light"
     },
     "output_type": "display_data"
    }
   ],
   "source": [
    "#Training the ABC_GAN \n",
    "ABC_train_test2.training_GAN(disc2,gen2,disc_opt,gen_opt,train_data,batch_size,n_epochs,criterion,prior_model,variance,bias,device)"
   ]
  },
  {
   "cell_type": "code",
   "execution_count": 17,
   "id": "8b0f1f02",
   "metadata": {
    "execution": {
     "iopub.execute_input": "2022-07-22T11:33:51.600579Z",
     "iopub.status.busy": "2022-07-22T11:33:51.600164Z",
     "iopub.status.idle": "2022-07-22T11:33:53.752384Z",
     "shell.execute_reply": "2022-07-22T11:33:53.750316Z"
    },
    "papermill": {
     "duration": 2.181334,
     "end_time": "2022-07-22T11:33:53.755080",
     "exception": false,
     "start_time": "2022-07-22T11:33:51.573746",
     "status": "completed"
    },
    "tags": []
   },
   "outputs": [
    {
     "data": {
      "application/scrapbook.scrap.json+json": {
       "data": 0.546237577009659,
       "encoder": "json",
       "name": "ABC-GAN Model 1 MSE",
       "version": 1
      }
     },
     "metadata": {
      "scrapbook": {
       "data": true,
       "display": false,
       "name": "ABC-GAN Model 1 MSE"
      }
     },
     "output_type": "display_data"
    },
    {
     "data": {
      "application/scrapbook.scrap.json+json": {
       "data": 0.5333731934027747,
       "encoder": "json",
       "name": "ABC-GAN Model 1 MAE",
       "version": 1
      }
     },
     "metadata": {
      "scrapbook": {
       "data": true,
       "display": false,
       "name": "ABC-GAN Model 1 MAE"
      }
     },
     "output_type": "display_data"
    },
    {
     "data": {
      "application/scrapbook.scrap.json+json": {
       "data": 10.667463868055492,
       "encoder": "json",
       "name": "ABC-GAN Model 1 Manhattan Distance",
       "version": 1
      }
     },
     "metadata": {
      "scrapbook": {
       "data": true,
       "display": false,
       "name": "ABC-GAN Model 1 Manhattan Distance"
      }
     },
     "output_type": "display_data"
    },
    {
     "data": {
      "application/scrapbook.scrap.json+json": {
       "data": 3.302293402161086,
       "encoder": "json",
       "name": "ABC-GAN Model 1 Euclidean distance",
       "version": 1
      }
     },
     "metadata": {
      "scrapbook": {
       "data": true,
       "display": false,
       "name": "ABC-GAN Model 1 Euclidean distance"
      }
     },
     "output_type": "display_data"
    },
    {
     "data": {
      "application/scrapbook.scrap.json+json": {
       "data": [
        [
         0.5606419930416179,
         0.463833327037241,
         0.531798971297559,
         0.48144318929663915,
         0.5777197476611782,
         0.548803456932327,
         0.6332873650635118,
         0.5426290440393844,
         0.5806827561273401,
         0.4897311835381535,
         0.5583405260128872,
         0.47721060558008244,
         0.4925761025739986,
         0.6356571676475499,
         0.5412842914072474,
         0.5532161879562679,
         0.5033955605959086,
         0.5500497161349518,
         0.5729053284703534,
         0.5633700341988443,
         0.6041729950240908,
         0.5239232462793726,
         0.4746504629014446,
         0.5567480454490402,
         0.5664152948891928,
         0.56662172789812,
         0.5434247118615747,
         0.641221271231584,
         0.6093462772317674,
         0.5921535911526261,
         0.5230145687113865,
         0.5443667726075688,
         0.5349714009045659,
         0.576336334906029,
         0.6117293571055715,
         0.5214982445035755,
         0.5981793501390765,
         0.5917012227507541,
         0.5835100488654248,
         0.6031140117398787,
         0.5509902571655398,
         0.6093224785912236,
         0.4761153565045353,
         0.6075095343871318,
         0.5353164032144546,
         0.4918986171230717,
         0.5783562499824315,
         0.4861039192688438,
         0.5550346439895886,
         0.4787180958899471,
         0.562998575030018,
         0.5929176803193025,
         0.5402255188199956,
         0.49891319544771645,
         0.49599467043393586,
         0.5800483789878527,
         0.5446397674013429,
         0.4739746472740384,
         0.5456017854011461,
         0.5406682017639023,
         0.5918110016070293,
         0.4785587543498394,
         0.4835046517304784,
         0.5342405946702403,
         0.5557604764207745,
         0.5828914749776057,
         0.5447307996846795,
         0.5913800981682928,
         0.607446959887986,
         0.5697153081768287,
         0.5431001311468184,
         0.5614573954242548,
         0.5789475909772609,
         0.5359381448662175,
         0.5246125716936654,
         0.6412686861530712,
         0.4674718282661665,
         0.5209676618994707,
         0.5859408136953241,
         0.6162785700048554,
         0.4766501512512926,
         0.49460638863035006,
         0.5869414952410045,
         0.46965126534443885,
         0.5159910887353873,
         0.5032840793790868,
         0.5753179255547444,
         0.49996051079229564,
         0.555550051863278,
         0.4534751392115922,
         0.5861027060477975,
         0.5240734865176637,
         0.5715795937826706,
         0.47348791641652194,
         0.5631356500583911,
         0.4902698395016468,
         0.5502363661867777,
         0.4862120849495065,
         0.5728379067786651,
         0.5873470731602195
        ],
        [
         0.5492771347984672,
         0.4869784554466605,
         0.5291779829189182,
         0.49660159554332495,
         0.5650689935311675,
         0.5375430142506957,
         0.5730620956048369,
         0.5327327525243163,
         0.5529157301411033,
         0.496702722646296,
         0.5515451325103641,
         0.48842201437801125,
         0.5107241934165359,
         0.5854081777855754,
         0.5285817807540297,
         0.5450828900560737,
         0.5157451620325446,
         0.545061738230288,
         0.5491334890946746,
         0.5400475358590484,
         0.5708817934617401,
         0.5244589870795607,
         0.4900769641622901,
         0.5356909318827092,
         0.5343317223712802,
         0.5495536783710122,
         0.5400753727182745,
         0.5903325581923127,
         0.572244162671268,
         0.5590867003425956,
         0.52028105314821,
         0.5274503117427229,
         0.534141649864614,
         0.5436616895720363,
         0.5636469183489681,
         0.5245651980862022,
         0.549409537576139,
         0.5558642437681556,
         0.550969903729856,
         0.5563973555341363,
         0.5297135537490248,
         0.56549999024719,
         0.4965832790359855,
         0.571004799567163,
         0.5356135239824653,
         0.5042748620733619,
         0.5420782266184687,
         0.502104846201837,
         0.5387171199545264,
         0.4940559251233935,
         0.5421925192698837,
         0.5486270135268569,
         0.5358847802504897,
         0.5102686462923884,
         0.5176297103986144,
         0.5446607803925871,
         0.5359289327636361,
         0.48666897919028995,
         0.5379988608881832,
         0.5302032297477126,
         0.5571508152410388,
         0.5009901126846671,
         0.5022696873173118,
         0.5334148442372679,
         0.5313636561855674,
         0.5639704229310155,
         0.5409864192828536,
         0.5560746932402253,
         0.5639896104112267,
         0.537709672562778,
         0.5432620940729975,
         0.5412020673975348,
         0.5536538546904921,
         0.5274331903085112,
         0.5264675004407764,
         0.5763319259509444,
         0.4835518566891551,
         0.5289954325184226,
         0.5423209315165878,
         0.5788242226466537,
         0.47876928057521584,
         0.5151163233444095,
         0.5563765658065677,
         0.47565793078392743,
         0.5101364886388182,
         0.509291566722095,
         0.547850469313562,
         0.5177762752398849,
         0.5518874501809478,
         0.4766922941431403,
         0.5443649461492897,
         0.5094575574621558,
         0.547984560392797,
         0.485494083724916,
         0.541831718198955,
         0.4991774184629321,
         0.5235981306061148,
         0.49580481704324486,
         0.5604462129995227,
         0.5569993367418646
        ],
        [
         10.985542695969343,
         9.73956910893321,
         10.583559658378363,
         9.932031910866499,
         11.30137987062335,
         10.750860285013914,
         11.461241912096739,
         10.654655050486326,
         11.058314602822065,
         9.93405445292592,
         11.030902650207281,
         9.768440287560225,
         10.214483868330717,
         11.708163555711508,
         10.571635615080595,
         10.901657801121473,
         10.314903240650892,
         10.90123476460576,
         10.982669781893492,
         10.800950717180967,
         11.4176358692348,
         10.489179741591215,
         9.801539283245802,
         10.713818637654185,
         10.686634447425604,
         10.991073567420244,
         10.801507454365492,
         11.806651163846254,
         11.44488325342536,
         11.181734006851912,
         10.405621062964201,
         10.54900623485446,
         10.68283299729228,
         10.873233791440725,
         11.27293836697936,
         10.491303961724043,
         10.98819075152278,
         11.117284875363111,
         11.01939807459712,
         11.127947110682726,
         10.594271074980497,
         11.3099998049438,
         9.93166558071971,
         11.42009599134326,
         10.712270479649305,
         10.085497241467237,
         10.841564532369375,
         10.042096924036741,
         10.774342399090528,
         9.88111850246787,
         10.843850385397673,
         10.972540270537138,
         10.717695605009794,
         10.205372925847769,
         10.352594207972288,
         10.893215607851744,
         10.718578655272722,
         9.7333795838058,
         10.759977217763662,
         10.604064594954252,
         11.143016304820776,
         10.019802253693342,
         10.045393746346235,
         10.66829688474536,
         10.627273123711348,
         11.27940845862031,
         10.819728385657072,
         11.121493864804506,
         11.279792208224535,
         10.75419345125556,
         10.865241881459951,
         10.824041347950697,
         11.073077093809843,
         10.548663806170225,
         10.529350008815527,
         11.526638519018888,
         9.671037133783102,
         10.579908650368452,
         10.846418630331755,
         11.576484452933073,
         9.575385611504316,
         10.30232646688819,
         11.127531316131353,
         9.513158615678549,
         10.202729772776365,
         10.1858313344419,
         10.957009386271238,
         10.355525504797697,
         11.037749003618956,
         9.533845882862806,
         10.887298922985792,
         10.189151149243116,
         10.95969120785594,
         9.70988167449832,
         10.836634363979101,
         9.983548369258642,
         10.471962612122297,
         9.916096340864897,
         11.208924259990454,
         11.139986734837294
        ],
        [
         3.348557877778486,
         3.045762062398312,
         3.2612849347996535,
         3.103041054503273,
         3.3991756284757573,
         3.3130151129517262,
         3.558896921978808,
         3.294325557802035,
         3.407881324598437,
         3.129636348006437,
         3.341677800186269,
         3.0893708277902885,
         3.138713438891797,
         3.5655495162668815,
         3.2902409984900722,
         3.3263078268743196,
         3.1729971969603397,
         3.3167746867550467,
         3.384982506514187,
         3.356694904809921,
         3.476127141012223,
         3.2370457095301353,
         3.0810727446830746,
         3.3369088853279774,
         3.3657548778518995,
         3.3663681554402807,
         3.296739940794769,
         3.5811206939492672,
         3.490977734766486,
         3.4413764430896716,
         3.2342373713485735,
         3.299596255930622,
         3.2709980156049183,
         3.3951033413020846,
         3.4977974701390915,
         3.2295456166574747,
         3.458841858596824,
         3.4400616934896804,
         3.4161675862446352,
         3.4730793591275124,
         3.319609185327514,
         3.4909095622522894,
         3.085823574038332,
         3.48571236445904,
         3.2720525766388735,
         3.1365542148130383,
         3.401047632663887,
         3.1180247570179547,
         3.3317702321426323,
         3.094246583224896,
         3.3555881005570933,
         3.443596028338116,
         3.287021505314486,
         3.158839012826441,
         3.149586228170094,
         3.406019315822659,
         3.3004235104039084,
         3.078878520741078,
         3.3033370563754048,
         3.2883679896383327,
         3.440380797548519,
         3.093731579661815,
         3.1096773200140184,
         3.2687630525023996,
         3.333948039249486,
         3.4143563814505535,
         3.3006993188858615,
         3.439128081849505,
         3.4855328427314696,
         3.37554531350663,
         3.295755243178165,
         3.3509920782486335,
         3.4027858909348407,
         3.2739521831151337,
         3.2391744988304207,
         3.5812530939688445,
         3.057684837474806,
         3.2279022968468882,
         3.4232756643172166,
         3.5107793152086773,
         3.087556157388211,
         3.145175316672666,
         3.4261975869497205,
         3.0648042852503283,
         3.2124479411669458,
         3.172645833934468,
         3.3921023733217264,
         3.1621527818633166,
         3.333316822215608,
         3.0115615192507432,
         3.4237485481495207,
         3.2375098039007195,
         3.3810637195494277,
         3.0772972440650648,
         3.3559965734737904,
         3.1313570205316634,
         3.317337384670958,
         3.11837164221812,
         3.3847833218055925,
         3.427381137720809
        ]
       ],
       "encoder": "json",
       "name": "ABC_GAN_2 Metrics",
       "version": 1
      }
     },
     "metadata": {
      "scrapbook": {
       "data": true,
       "display": false,
       "name": "ABC_GAN_2 Metrics"
      }
     },
     "output_type": "display_data"
    },
    {
     "name": "stdout",
     "output_type": "stream",
     "text": [
      "MAE\n",
      "0.5333731934027747\n"
     ]
    }
   ],
   "source": [
    "ABC_GAN2_metrics=ABC_train_test2.test_generator(gen2,test_data,prior_model,variance,bias,\"1\",device)\n",
    "sb.glue(\"ABC_GAN_2 Metrics\",ABC_GAN2_metrics)\n",
    "\n",
    "print(\"MAE\")\n",
    "print(mean(ABC_GAN2_metrics[1]))"
   ]
  },
  {
   "cell_type": "code",
   "execution_count": 18,
   "id": "0b6b31d9",
   "metadata": {
    "execution": {
     "iopub.execute_input": "2022-07-22T11:33:53.821860Z",
     "iopub.status.busy": "2022-07-22T11:33:53.821498Z",
     "iopub.status.idle": "2022-07-22T11:33:55.051812Z",
     "shell.execute_reply": "2022-07-22T11:33:55.045981Z"
    },
    "papermill": {
     "duration": 1.273261,
     "end_time": "2022-07-22T11:33:55.056985",
     "exception": false,
     "start_time": "2022-07-22T11:33:53.783724",
     "status": "completed"
    },
    "tags": []
   },
   "outputs": [
    {
     "data": {
      "image/png": "[encoded data removed]",
      "text/plain": [
       "<Figure size 432x288 with 1 Axes>"
      ]
     },
     "metadata": {
      "needs_background": "light"
     },
     "output_type": "display_data"
    },
    {
     "data": {
      "image/png": "[encoded data removed]",
      "text/plain": [
       "<Figure size 432x288 with 1 Axes>"
      ]
     },
     "metadata": {
      "needs_background": "light"
     },
     "output_type": "display_data"
    },
    {
     "data": {
      "image/png": "[encoded data removed]",
      "text/plain": [
       "<Figure size 432x288 with 1 Axes>"
      ]
     },
     "metadata": {
      "needs_background": "light"
     },
     "output_type": "display_data"
    },
    {
     "data": {
      "image/png": "[encoded data removed]",
      "text/plain": [
       "<Figure size 432x288 with 1 Axes>"
      ]
     },
     "metadata": {
      "needs_background": "light"
     },
     "output_type": "display_data"
    }
   ],
   "source": [
    "sanityChecks.discProbVsError(train_data,disc2,device)\n",
    "sanityChecks.discProbVsError(test_data,disc2,device)"
   ]
  },
  {
   "cell_type": "markdown",
   "id": "130f3a4d",
   "metadata": {
    "id": "130f3a4d",
    "papermill": {
     "duration": 0.038154,
     "end_time": "2022-07-22T11:33:55.132496",
     "exception": false,
     "start_time": "2022-07-22T11:33:55.094342",
     "status": "completed"
    },
    "tags": []
   },
   "source": [
    "# skipGAN Model"
   ]
  },
  {
   "cell_type": "code",
   "execution_count": 19,
   "id": "4e43dad1",
   "metadata": {
    "execution": {
     "iopub.execute_input": "2022-07-22T11:33:55.215271Z",
     "iopub.status.busy": "2022-07-22T11:33:55.214831Z",
     "iopub.status.idle": "2022-07-22T11:33:55.224674Z",
     "shell.execute_reply": "2022-07-22T11:33:55.221524Z"
    },
    "id": "4e43dad1",
    "papermill": {
     "duration": 0.063045,
     "end_time": "2022-07-22T11:33:55.234423",
     "exception": false,
     "start_time": "2022-07-22T11:33:55.171378",
     "status": "completed"
    },
    "tags": []
   },
   "outputs": [],
   "source": [
    "# #Generator\n",
    "# gen3 = network.GeneratorWithSkipConnection(n_features+1).to(device)\n",
    "# constraints=network.weightConstraint()\n",
    "# #Discriminator \n",
    "# disc3 = network.Discriminator(n_features+1).to(device)\n",
    "\n",
    "# criterion = torch.nn.BCELoss()\n",
    "# gen_opt = torch.optim.Adam(gen3.parameters(), lr=0.01, betas=(0.5, 0.999))\n",
    "# disc_opt = torch.optim.Adam(disc3.parameters(), lr=0.01, betas=(0.5, 0.999))\n"
   ]
  },
  {
   "cell_type": "code",
   "execution_count": 20,
   "id": "26acbc37",
   "metadata": {
    "execution": {
     "iopub.execute_input": "2022-07-22T11:33:55.335848Z",
     "iopub.status.busy": "2022-07-22T11:33:55.335395Z",
     "iopub.status.idle": "2022-07-22T11:33:55.341366Z",
     "shell.execute_reply": "2022-07-22T11:33:55.340278Z"
    },
    "id": "26acbc37",
    "papermill": {
     "duration": 0.071383,
     "end_time": "2022-07-22T11:33:55.349224",
     "exception": false,
     "start_time": "2022-07-22T11:33:55.277841",
     "status": "completed"
    },
    "tags": []
   },
   "outputs": [],
   "source": [
    "# ABC_train_test2.training_GAN_skip_connection(disc3,gen3,disc_opt,gen_opt,train_data,batch_size,n_epochs,criterion,prior_model,variance,bias,device)"
   ]
  },
  {
   "cell_type": "code",
   "execution_count": 21,
   "id": "c5e0717b",
   "metadata": {
    "execution": {
     "iopub.execute_input": "2022-07-22T11:33:55.448358Z",
     "iopub.status.busy": "2022-07-22T11:33:55.447881Z",
     "iopub.status.idle": "2022-07-22T11:33:55.453920Z",
     "shell.execute_reply": "2022-07-22T11:33:55.452736Z"
    },
    "id": "c5e0717b",
    "papermill": {
     "duration": 0.062321,
     "end_time": "2022-07-22T11:33:55.465061",
     "exception": false,
     "start_time": "2022-07-22T11:33:55.402740",
     "status": "completed"
    },
    "tags": []
   },
   "outputs": [],
   "source": [
    "# ABC_GAN3_metrics=ABC_train_test2.test_generator(gen3,test_data,prior_model,variance,bias,\"3\",device)\n",
    "# sb.glue(\"ABC_GAN_3 Metrics\",ABC_GAN3_metrics)\n",
    "\n",
    "# print(\"MAE\")\n",
    "# print(mean(ABC_GAN3_metrics[1]))"
   ]
  },
  {
   "cell_type": "code",
   "execution_count": 22,
   "id": "c8e46b48",
   "metadata": {
    "execution": {
     "iopub.execute_input": "2022-07-22T11:33:55.560165Z",
     "iopub.status.busy": "2022-07-22T11:33:55.559709Z",
     "iopub.status.idle": "2022-07-22T11:33:55.565343Z",
     "shell.execute_reply": "2022-07-22T11:33:55.563532Z"
    },
    "id": "c8e46b48",
    "papermill": {
     "duration": 0.059994,
     "end_time": "2022-07-22T11:33:55.570342",
     "exception": false,
     "start_time": "2022-07-22T11:33:55.510348",
     "status": "completed"
    },
    "tags": []
   },
   "outputs": [],
   "source": [
    "# sanityChecks.discProbVsError(train_data,disc3,device)\n",
    "# sanityChecks.discProbVsError(test_data,disc3,device)"
   ]
  },
  {
   "cell_type": "markdown",
   "id": "8755474d",
   "metadata": {
    "id": "130f3a4d",
    "papermill": {
     "duration": 0.049904,
     "end_time": "2022-07-22T11:33:55.670797",
     "exception": false,
     "start_time": "2022-07-22T11:33:55.620893",
     "status": "completed"
    },
    "tags": []
   },
   "source": [
    "# skipGAN Model with TabNet Generator"
   ]
  },
  {
   "cell_type": "code",
   "execution_count": 23,
   "id": "373c9dc1",
   "metadata": {
    "execution": {
     "iopub.execute_input": "2022-07-22T11:33:55.761989Z",
     "iopub.status.busy": "2022-07-22T11:33:55.761130Z",
     "iopub.status.idle": "2022-07-22T11:33:55.787618Z",
     "shell.execute_reply": "2022-07-22T11:33:55.786645Z"
    },
    "id": "4e43dad1",
    "papermill": {
     "duration": 0.081856,
     "end_time": "2022-07-22T11:33:55.792154",
     "exception": false,
     "start_time": "2022-07-22T11:33:55.710298",
     "status": "completed"
    },
    "tags": []
   },
   "outputs": [],
   "source": [
    "#Generator\n",
    "gen4 = network.GeneratorTabnetskipConnection(n_features+1).to(device)\n",
    "constraints=network.weightConstraint()\n",
    "#Discriminator \n",
    "disc4 = network.Discriminator(n_features+1).to(device)\n",
    "\n",
    "criterion = torch.nn.BCELoss()\n",
    "gen_opt = torch.optim.Adam(gen4.parameters(), lr=0.001, betas=(0.5, 0.999))\n",
    "disc_opt = torch.optim.Adam(disc4.parameters(), lr=0.001, betas=(0.5, 0.999))\n"
   ]
  },
  {
   "cell_type": "code",
   "execution_count": 24,
   "id": "8c1c7ff4",
   "metadata": {
    "execution": {
     "iopub.execute_input": "2022-07-22T11:33:55.877803Z",
     "iopub.status.busy": "2022-07-22T11:33:55.876733Z",
     "iopub.status.idle": "2022-07-22T11:37:04.317665Z",
     "shell.execute_reply": "2022-07-22T11:37:04.316570Z"
    },
    "id": "26acbc37",
    "papermill": {
     "duration": 188.487623,
     "end_time": "2022-07-22T11:37:04.320798",
     "exception": false,
     "start_time": "2022-07-22T11:33:55.833175",
     "status": "completed"
    },
    "tags": []
   },
   "outputs": [
    {
     "data": {
      "image/png": "[encoded data removed]",
      "text/plain": [
       "<Figure size 432x288 with 1 Axes>"
      ]
     },
     "metadata": {
      "needs_background": "light"
     },
     "output_type": "display_data"
    },
    {
     "data": {
      "image/png": "[encoded data removed]",
      "text/plain": [
       "<Figure size 432x288 with 1 Axes>"
      ]
     },
     "metadata": {
      "needs_background": "light"
     },
     "output_type": "display_data"
    }
   ],
   "source": [
    "ABC_train_test2.training_GAN_skip_connection(disc4,gen4,disc_opt,gen_opt,train_data,batch_size,n_epochs,criterion,prior_model,variance,bias,device)"
   ]
  },
  {
   "cell_type": "code",
   "execution_count": 25,
   "id": "99d83bba",
   "metadata": {
    "execution": {
     "iopub.execute_input": "2022-07-22T11:37:04.378466Z",
     "iopub.status.busy": "2022-07-22T11:37:04.378142Z",
     "iopub.status.idle": "2022-07-22T11:37:06.563331Z",
     "shell.execute_reply": "2022-07-22T11:37:06.560707Z"
    },
    "id": "c5e0717b",
    "papermill": {
     "duration": 2.217191,
     "end_time": "2022-07-22T11:37:06.566116",
     "exception": false,
     "start_time": "2022-07-22T11:37:04.348925",
     "status": "completed"
    },
    "tags": []
   },
   "outputs": [
    {
     "data": {
      "application/scrapbook.scrap.json+json": {
       "data": 0.43353765484978896,
       "encoder": "json",
       "name": "ABC-GAN Model 3 MSE",
       "version": 1
      }
     },
     "metadata": {
      "scrapbook": {
       "data": true,
       "display": false,
       "name": "ABC-GAN Model 3 MSE"
      }
     },
     "output_type": "display_data"
    },
    {
     "data": {
      "application/scrapbook.scrap.json+json": {
       "data": 0.5203499883003533,
       "encoder": "json",
       "name": "ABC-GAN Model 3 MAE",
       "version": 1
      }
     },
     "metadata": {
      "scrapbook": {
       "data": true,
       "display": false,
       "name": "ABC-GAN Model 3 MAE"
      }
     },
     "output_type": "display_data"
    },
    {
     "data": {
      "application/scrapbook.scrap.json+json": {
       "data": 10.406999766007067,
       "encoder": "json",
       "name": "ABC-GAN Model 3 Manhattan Distance",
       "version": 1
      }
     },
     "metadata": {
      "scrapbook": {
       "data": true,
       "display": false,
       "name": "ABC-GAN Model 3 Manhattan Distance"
      }
     },
     "output_type": "display_data"
    },
    {
     "data": {
      "application/scrapbook.scrap.json+json": {
       "data": 2.942315505696319,
       "encoder": "json",
       "name": "ABC-GAN Model 3 Euclidean distance",
       "version": 1
      }
     },
     "metadata": {
      "scrapbook": {
       "data": true,
       "display": false,
       "name": "ABC-GAN Model 3 Euclidean distance"
      }
     },
     "output_type": "display_data"
    },
    {
     "data": {
      "application/scrapbook.scrap.json+json": {
       "data": [
        [
         0.4743526166169209,
         0.4343828633145012,
         0.4752336039791917,
         0.43220615376667554,
         0.5135194200206993,
         0.48460593132122154,
         0.37101861371039385,
         0.4369035265776661,
         0.409333860493574,
         0.41614386147375376,
         0.4040050695045464,
         0.3809290675938583,
         0.408425006427591,
         0.466804790713611,
         0.4385203164361128,
         0.4875473995495646,
         0.4570043164394596,
         0.4862874484397208,
         0.412706870209213,
         0.41199202769894044,
         0.41829901216321697,
         0.4169666344757058,
         0.4875315756575894,
         0.46765288015173656,
         0.43035301227247447,
         0.4470465433014361,
         0.49003294771749284,
         0.40486668378632684,
         0.39560069235783835,
         0.46962359162701633,
         0.4700056744983632,
         0.4148754803896246,
         0.5324964184678261,
         0.40320023354420426,
         0.42348281415250044,
         0.44968444335166924,
         0.4767420782727843,
         0.4465702909776102,
         0.4423292377168734,
         0.45338349687384605,
         0.42449449631478764,
         0.3959704216161509,
         0.39171283132668966,
         0.42489831762543806,
         0.39703476154387785,
         0.4440467828785133,
         0.38142916014568334,
         0.4485715182542075,
         0.43928144620364923,
         0.41607672424377046,
         0.45480319940911046,
         0.4794712464963345,
         0.40313224436705875,
         0.4636291775566102,
         0.4070153458528029,
         0.3950353511437201,
         0.42016354661837296,
         0.41436467516208814,
         0.38861117861593175,
         0.39913613365840717,
         0.454677844177947,
         0.4550111974506558,
         0.37530502761856865,
         0.39303313953713676,
         0.41745802755543354,
         0.39131595873476765,
         0.49009062057308644,
         0.47119157598429984,
         0.4395417036728208,
         0.439493173393876,
         0.5272944778461607,
         0.48698181984505096,
         0.4497908728544818,
         0.4337730319681574,
         0.4176665668386542,
         0.48145885369547925,
         0.41933552036207705,
         0.4150904500994663,
         0.44112756002526526,
         0.41693689453800237,
         0.40095516641125767,
         0.4307750654792626,
         0.42713603991543037,
         0.392066101735839,
         0.4300684125700017,
         0.39970293759941267,
         0.4421817767988447,
         0.47176455167173115,
         0.3745180665618677,
         0.38964856326221525,
         0.4378770240870592,
         0.4110797578644515,
         0.40801274121886344,
         0.4190709591071366,
         0.4496488934200694,
         0.42392628190406256,
         0.4135168812280027,
         0.387143283538709,
         0.4664778846497821,
         0.4300757141069525
        ],
        [
         0.5746760403737425,
         0.5188544159755111,
         0.527872352860868,
         0.5453779524192214,
         0.5851119315251708,
         0.574005969427526,
         0.48398103173822166,
         0.5395276641473175,
         0.5029481431469321,
         0.507506506703794,
         0.5017225688323379,
         0.49264023508876564,
         0.5132581686601043,
         0.527381899021566,
         0.5166339686140418,
         0.5651406859979033,
         0.5226736223325134,
         0.5450382059440017,
         0.5067826991900801,
         0.5092550316825509,
         0.5006236946210265,
         0.5141773229464889,
         0.5383278137072921,
         0.5493499046191573,
         0.51853494849056,
         0.5351682459935546,
         0.5626212557777762,
         0.5010426184162498,
         0.5048356076702476,
         0.5290189227089286,
         0.5385685211047531,
         0.5145354205742478,
         0.5725547960028052,
         0.49052780624479053,
         0.511418036185205,
         0.5191361984238029,
         0.5637626374140382,
         0.522831859253347,
         0.5361042534932494,
         0.5398060387000442,
         0.5253181731328368,
         0.4938132410869002,
         0.4756719881668687,
         0.5174714704975486,
         0.4987519210204482,
         0.5205617090687156,
         0.46855248119682075,
         0.5298563590273261,
         0.5074637209996581,
         0.5232105514034628,
         0.538470653630793,
         0.542750065587461,
         0.5065373769029975,
         0.5348558535799384,
         0.5117102211341262,
         0.49772451277822255,
         0.4986144607886672,
         0.5323231657966971,
         0.4712569335475564,
         0.5179960062727332,
         0.5278967505320906,
         0.5367405882105232,
         0.4647514006122947,
         0.47414182778447866,
         0.5135318538174033,
         0.4886936103925109,
         0.5523665538057685,
         0.5337718015536665,
         0.49976439829915764,
         0.5434956366196275,
         0.5579352205619216,
         0.5489695033058524,
         0.5441971367225051,
         0.5226130416616798,
         0.5137478655204177,
         0.5616226306185126,
         0.49823011215776203,
         0.49236045870929956,
         0.516416255198419,
         0.5234941666945815,
         0.48836197052150965,
         0.5412458395585418,
         0.5028442984446884,
         0.4955430841073394,
         0.5338926678523421,
         0.4875632142648101,
         0.5194382345303893,
         0.5611141359433531,
         0.48236148413270713,
         0.4975537469610572,
         0.5334809130057693,
         0.5130931308493019,
         0.5307007228955627,
         0.5018433371558786,
         0.5304457763209939,
         0.5437963729724288,
         0.4948854034766555,
         0.4935679530724883,
         0.5264330839738249,
         0.5058467855677009
        ],
        [
         11.493520807474852,
         10.377088319510221,
         10.55744705721736,
         10.907559048384428,
         11.702238630503416,
         11.48011938855052,
         9.679620634764433,
         10.790553282946348,
         10.058962862938643,
         10.15013013407588,
         10.034451376646757,
         9.852804701775312,
         10.265163373202085,
         10.547637980431318,
         10.332679372280836,
         11.302813719958067,
         10.453472446650267,
         10.900764118880033,
         10.135653983801603,
         10.185100633651018,
         10.01247389242053,
         10.283546458929777,
         10.766556274145842,
         10.986998092383146,
         10.370698969811201,
         10.703364919871092,
         11.252425115555525,
         10.020852368324995,
         10.096712153404951,
         10.580378454178572,
         10.77137042209506,
         10.290708411484957,
         11.451095920056105,
         9.810556124895811,
         10.2283607237041,
         10.382723968476057,
         11.275252748280764,
         10.456637185066938,
         10.722085069864988,
         10.796120774000883,
         10.506363462656736,
         9.876264821738005,
         9.513439763337374,
         10.349429409950972,
         9.975038420408964,
         10.411234181374311,
         9.371049623936415,
         10.597127180546522,
         10.149274419993162,
         10.464211028069258,
         10.769413072615862,
         10.85500131174922,
         10.13074753805995,
         10.697117071598768,
         10.234204422682524,
         9.954490255564451,
         9.972289215773344,
         10.646463315933943,
         9.425138670951128,
         10.359920125454664,
         10.557935010641813,
         10.734811764210463,
         9.295028012245893,
         9.482836555689573,
         10.270637076348066,
         9.773872207850218,
         11.04733107611537,
         10.675436031073332,
         9.995287965983152,
         10.86991273239255,
         11.158704411238432,
         10.979390066117048,
         10.883942734450102,
         10.452260833233595,
         10.274957310408354,
         11.232452612370253,
         9.964602243155241,
         9.847209174185991,
         10.328325103968382,
         10.46988333389163,
         9.767239410430193,
         10.824916791170835,
         10.056885968893766,
         9.910861682146788,
         10.677853357046843,
         9.751264285296202,
         10.388764690607786,
         11.222282718867064,
         9.647229682654142,
         9.951074939221144,
         10.669618260115385,
         10.261862616986036,
         10.614014457911253,
         10.03686674311757,
         10.608915526419878,
         10.875927459448576,
         9.89770806953311,
         9.871359061449766,
         10.5286616794765,
         10.116935711354017
        ],
        [
         3.080105896286428,
         2.9474832088224057,
         3.0829648197123225,
         2.940088957044244,
         3.2047446700812197,
         3.11321676508791,
         2.724036026598745,
         2.956022755587873,
         2.8612370069379924,
         2.884939727182368,
         2.842551915109191,
         2.760177775411788,
         2.858058804250154,
         3.0555025469261547,
         2.9614871819277315,
         3.1226507955567646,
         3.0232575690452164,
         3.1186133086348518,
         2.8730014626143614,
         2.8705122459203705,
         2.892400429273986,
         2.887790277965856,
         3.122600120596902,
         3.058276900974588,
         2.9337791746226385,
         2.9901389375794434,
         3.1306004143534283,
         2.8455814301696827,
         2.812830220108702,
         3.06471398870112,
         3.0659604514682286,
         2.880539811874242,
         3.2634227996624223,
         2.8397191183080213,
         2.9102673903011063,
         2.998947960040885,
         3.087853876959803,
         2.988545770027992,
         2.97432088960446,
         3.011257202146128,
         2.9137415682067194,
         2.8141443517209663,
         2.7989742096942933,
         2.9151271588918317,
         2.817923922123796,
         2.9800898740759925,
         2.761988993988511,
         2.9952346093560265,
         2.9640561607488114,
         2.8847070015645278,
         3.015968167634103,
         3.096679662142452,
         2.839479686023687,
         3.0450917147324486,
         2.853122310216661,
         2.810819635422096,
         2.898839583758898,
         2.878765968820974,
         2.787870795485084,
         2.8253712451938315,
         3.015552500547609,
         3.016657744758778,
         2.7397263645063847,
         2.8036873560978113,
         2.8894914000752228,
         2.7975559287877254,
         3.1307846319192465,
         3.0698259754725505,
         2.964934075735313,
         2.9647703904143268,
         3.24744354176069,
         3.1208390533478365,
         2.999302828506924,
         2.9454134920861534,
         2.890213026192548,
         3.1030915348905816,
         2.8959817691486838,
         2.8812859979511454,
         2.970277966875374,
         2.8876872910272064,
         2.8318021343704705,
         2.9352174211777315,
         2.922793321175585,
         2.800236067676577,
         2.932808935372374,
         2.8273766554861863,
         2.973825068153286,
         3.071691884521399,
         2.7368524496650077,
         2.791589379769938,
         2.959314191116108,
         2.8673324113693255,
         2.8566159742564747,
         2.895068079016922,
         2.998829416355887,
         2.911790795727133,
         2.875819470091969,
         2.782600523031321,
         3.0544324665959866,
         2.932833831320665
        ]
       ],
       "encoder": "json",
       "name": "ABC_GAN_4 Metrics",
       "version": 1
      }
     },
     "metadata": {
      "scrapbook": {
       "data": true,
       "display": false,
       "name": "ABC_GAN_4 Metrics"
      }
     },
     "output_type": "display_data"
    },
    {
     "name": "stdout",
     "output_type": "stream",
     "text": [
      "MAE\n",
      "0.5203499883003533\n"
     ]
    }
   ],
   "source": [
    "ABC_GAN4_metrics=ABC_train_test2.test_generator(gen4,test_data,prior_model,variance,bias,\"3\",device)\n",
    "sb.glue(\"ABC_GAN_4 Metrics\",ABC_GAN4_metrics)\n",
    "\n",
    "print(\"MAE\")\n",
    "print(mean(ABC_GAN4_metrics[1]))"
   ]
  },
  {
   "cell_type": "code",
   "execution_count": 26,
   "id": "6f1cc06f",
   "metadata": {
    "execution": {
     "iopub.execute_input": "2022-07-22T11:37:06.665142Z",
     "iopub.status.busy": "2022-07-22T11:37:06.663981Z",
     "iopub.status.idle": "2022-07-22T11:37:08.159610Z",
     "shell.execute_reply": "2022-07-22T11:37:08.158356Z"
    },
    "id": "c8e46b48",
    "papermill": {
     "duration": 1.550929,
     "end_time": "2022-07-22T11:37:08.163005",
     "exception": false,
     "start_time": "2022-07-22T11:37:06.612076",
     "status": "completed"
    },
    "tags": []
   },
   "outputs": [
    {
     "data": {
      "image/png": "[encoded data removed]",
      "text/plain": [
       "<Figure size 432x288 with 1 Axes>"
      ]
     },
     "metadata": {
      "needs_background": "light"
     },
     "output_type": "display_data"
    },
    {
     "data": {
      "image/png": "[encoded data removed]",
      "text/plain": [
       "<Figure size 432x288 with 1 Axes>"
      ]
     },
     "metadata": {
      "needs_background": "light"
     },
     "output_type": "display_data"
    },
    {
     "data": {
      "image/png": "[encoded data removed]",
      "text/plain": [
       "<Figure size 432x288 with 1 Axes>"
      ]
     },
     "metadata": {
      "needs_background": "light"
     },
     "output_type": "display_data"
    },
    {
     "data": {
      "image/png": "[encoded data removed]",
      "text/plain": [
       "<Figure size 432x288 with 1 Axes>"
      ]
     },
     "metadata": {
      "needs_background": "light"
     },
     "output_type": "display_data"
    }
   ],
   "source": [
    "sanityChecks.discProbVsError(train_data,disc4,device)\n",
    "sanityChecks.discProbVsError(test_data,disc4,device)"
   ]
  },
  {
   "cell_type": "markdown",
   "id": "a5bd74c3",
   "metadata": {
    "id": "a5bd74c3",
    "papermill": {
     "duration": 0.04405,
     "end_time": "2022-07-22T11:37:08.260958",
     "exception": false,
     "start_time": "2022-07-22T11:37:08.216908",
     "status": "completed"
    },
    "tags": []
   },
   "source": [
    "## Skip Connection Model Analysis - ABC-GAN "
   ]
  },
  {
   "cell_type": "markdown",
   "id": "5744a8bf",
   "metadata": {
    "id": "5744a8bf",
    "papermill": {
     "duration": 0.047699,
     "end_time": "2022-07-22T11:37:08.358370",
     "exception": false,
     "start_time": "2022-07-22T11:37:08.310671",
     "status": "completed"
    },
    "tags": []
   },
   "source": [
    "### Weight Analysis \n",
    "\n",
    "Study the weights of the skip connection layer\n",
    "\n",
    "Equation of the skip connection is \n",
    "\n",
    "$output = y_{gan} * w + y_{abc} * (1-w)$"
   ]
  },
  {
   "cell_type": "code",
   "execution_count": 27,
   "id": "52c31dea",
   "metadata": {
    "execution": {
     "iopub.execute_input": "2022-07-22T11:37:08.471368Z",
     "iopub.status.busy": "2022-07-22T11:37:08.470933Z",
     "iopub.status.idle": "2022-07-22T11:37:08.476197Z",
     "shell.execute_reply": "2022-07-22T11:37:08.475117Z"
    },
    "id": "52c31dea",
    "papermill": {
     "duration": 0.069265,
     "end_time": "2022-07-22T11:37:08.481652",
     "exception": false,
     "start_time": "2022-07-22T11:37:08.412387",
     "status": "completed"
    },
    "tags": []
   },
   "outputs": [],
   "source": [
    "# print(\"Weight of the node at skip connection\")\n",
    "# for name,param in gen3.named_parameters():\n",
    "#     if(name == \"skipNode.weight\"):\n",
    "#         print(param)\n",
    "#         sb.glue(\"Skip Connection Weight\",param.item())"
   ]
  },
  {
   "cell_type": "markdown",
   "id": "6d82e1a5",
   "metadata": {
    "id": "a5bd74c3",
    "papermill": {
     "duration": 0.052479,
     "end_time": "2022-07-22T11:37:08.582961",
     "exception": false,
     "start_time": "2022-07-22T11:37:08.530482",
     "status": "completed"
    },
    "tags": []
   },
   "source": [
    "## skipGAN Model Analysis (TabNet Generator) "
   ]
  },
  {
   "cell_type": "markdown",
   "id": "95487e11",
   "metadata": {
    "id": "5744a8bf",
    "papermill": {
     "duration": 0.061827,
     "end_time": "2022-07-22T11:37:08.702099",
     "exception": false,
     "start_time": "2022-07-22T11:37:08.640272",
     "status": "completed"
    },
    "tags": []
   },
   "source": [
    "### Weight Analysis \n",
    "\n",
    "Study the weights of the skip connection layer\n",
    "\n",
    "Equation of the skip connection is \n",
    "\n",
    "$output = y_{gan} * w + y_{abc} * (1-w)$"
   ]
  },
  {
   "cell_type": "code",
   "execution_count": 28,
   "id": "af41ca78",
   "metadata": {
    "execution": {
     "iopub.execute_input": "2022-07-22T11:37:08.807933Z",
     "iopub.status.busy": "2022-07-22T11:37:08.807448Z",
     "iopub.status.idle": "2022-07-22T11:37:08.824065Z",
     "shell.execute_reply": "2022-07-22T11:37:08.822989Z"
    },
    "id": "52c31dea",
    "papermill": {
     "duration": 0.077902,
     "end_time": "2022-07-22T11:37:08.833319",
     "exception": false,
     "start_time": "2022-07-22T11:37:08.755417",
     "status": "completed"
    },
    "tags": []
   },
   "outputs": [
    {
     "name": "stdout",
     "output_type": "stream",
     "text": [
      "Weight of the node at skip connection\n",
      "Parameter containing:\n",
      "tensor([[0.1764]], requires_grad=True)\n"
     ]
    },
    {
     "data": {
      "application/scrapbook.scrap.json+json": {
       "data": 0.17643006145954132,
       "encoder": "json",
       "name": "Skip Connection Weight",
       "version": 1
      }
     },
     "metadata": {
      "scrapbook": {
       "data": true,
       "display": false,
       "name": "Skip Connection Weight"
      }
     },
     "output_type": "display_data"
    }
   ],
   "source": [
    "print(\"Weight of the node at skip connection\")\n",
    "for name,param in gen4.named_parameters():\n",
    "    if(name == \"skipNode.weight\"):\n",
    "        print(param)\n",
    "        sb.glue(\"Skip Connection Weight\",param.item())"
   ]
  }
 ],
 "metadata": {
  "colab": {
   "collapsed_sections": [],
   "name": "ABC_GAN_Model-Catboost_Pre-gen.ipynb",
   "provenance": []
  },
  "interpreter": {
   "hash": "31f2aee4e71d21fbe5cf8b01ff0e069b9275f58929596ceb00d14d90e3e16cd6"
  },
  "kernelspec": {
   "display_name": "Python 3 (ipykernel)",
   "language": "python",
   "name": "python3"
  },
  "language_info": {
   "codemirror_mode": {
    "name": "ipython",
    "version": 3
   },
   "file_extension": ".py",
   "mimetype": "text/x-python",
   "name": "python",
   "nbconvert_exporter": "python",
   "pygments_lexer": "ipython3",
   "version": "3.8.13"
  },
  "papermill": {
   "default_parameters": {},
   "duration": 426.25481,
   "end_time": "2022-07-22T11:37:09.762025",
   "environment_variables": {},
   "exception": null,
   "input_path": "ABC_GAN-TabNet.ipynb",
   "output_path": "./ABC_GAN_TabNet/ABC-GAN_output_3_1.ipynb",
   "parameters": {
    "bias": 1,
    "variance": 0.1
   },
   "start_time": "2022-07-22T11:30:03.507215",
   "version": "2.3.3"
  }
 },
 "nbformat": 4,
 "nbformat_minor": 5
}