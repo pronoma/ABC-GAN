{
 "cells": [
  {
   "cell_type": "markdown",
   "id": "622780e6",
   "metadata": {
    "id": "622780e6",
    "papermill": {
     "duration": 0.008108,
     "end_time": "2022-07-22T08:45:40.426964",
     "exception": false,
     "start_time": "2022-07-22T08:45:40.418856",
     "status": "completed"
    },
    "tags": []
   },
   "source": [
    "## Import Libraries "
   ]
  },
  {
   "cell_type": "code",
   "execution_count": 1,
   "id": "a62397e3",
   "metadata": {
    "execution": {
     "iopub.execute_input": "2022-07-22T08:45:40.445498Z",
     "iopub.status.busy": "2022-07-22T08:45:40.444752Z",
     "iopub.status.idle": "2022-07-22T08:45:40.458061Z",
     "shell.execute_reply": "2022-07-22T08:45:40.457284Z"
    },
    "id": "a62397e3",
    "papermill": {
     "duration": 0.026881,
     "end_time": "2022-07-22T08:45:40.461526",
     "exception": false,
     "start_time": "2022-07-22T08:45:40.434645",
     "status": "completed"
    },
    "tags": []
   },
   "outputs": [],
   "source": [
    "import warnings\n",
    "import sys\n",
    "sys.path.insert(0, '../../src')\n",
    "warnings.filterwarnings('ignore')"
   ]
  },
  {
   "cell_type": "code",
   "execution_count": 2,
   "id": "d6a4e155",
   "metadata": {
    "execution": {
     "iopub.execute_input": "2022-07-22T08:45:40.484071Z",
     "iopub.status.busy": "2022-07-22T08:45:40.483571Z",
     "iopub.status.idle": "2022-07-22T08:45:54.111219Z",
     "shell.execute_reply": "2022-07-22T08:45:54.108868Z"
    },
    "id": "d6a4e155",
    "papermill": {
     "duration": 13.655733,
     "end_time": "2022-07-22T08:45:54.127106",
     "exception": false,
     "start_time": "2022-07-22T08:45:40.471373",
     "status": "completed"
    },
    "tags": []
   },
   "outputs": [],
   "source": [
    "import ABC_train_test2\n",
    "import friedman3Dataset\n",
    "import network\n",
    "import dataset\n",
    "import sanityChecks\n",
    "import torch \n",
    "import scrapbook as sb\n",
    "from statistics import mean \n",
    "import catboost as ctb \n",
    "from sklearn.model_selection import train_test_split\n",
    "from sklearn.metrics import mean_squared_error,mean_absolute_error\n",
    "import numpy as np\n",
    "from pytorch_tabnet.tab_model import TabNetRegressor"
   ]
  },
  {
   "cell_type": "markdown",
   "id": "2fa5b0f7",
   "metadata": {
    "id": "2fa5b0f7",
    "papermill": {
     "duration": 0.011561,
     "end_time": "2022-07-22T08:45:54.155759",
     "exception": false,
     "start_time": "2022-07-22T08:45:54.144198",
     "status": "completed"
    },
    "tags": []
   },
   "source": [
    "## Parameters "
   ]
  },
  {
   "cell_type": "code",
   "execution_count": 3,
   "id": "783186fb",
   "metadata": {
    "execution": {
     "iopub.execute_input": "2022-07-22T08:45:54.185158Z",
     "iopub.status.busy": "2022-07-22T08:45:54.184602Z",
     "iopub.status.idle": "2022-07-22T08:45:54.198877Z",
     "shell.execute_reply": "2022-07-22T08:45:54.191044Z"
    },
    "id": "783186fb",
    "papermill": {
     "duration": 0.041479,
     "end_time": "2022-07-22T08:45:54.210121",
     "exception": false,
     "start_time": "2022-07-22T08:45:54.168642",
     "status": "completed"
    },
    "tags": [
     "parameters"
    ]
   },
   "outputs": [],
   "source": [
    "variance = 1\n",
    "bias = 1 "
   ]
  },
  {
   "cell_type": "code",
   "execution_count": 4,
   "id": "38305542",
   "metadata": {
    "execution": {
     "iopub.execute_input": "2022-07-22T08:45:54.329503Z",
     "iopub.status.busy": "2022-07-22T08:45:54.329040Z",
     "iopub.status.idle": "2022-07-22T08:45:54.337522Z",
     "shell.execute_reply": "2022-07-22T08:45:54.336211Z"
    },
    "papermill": {
     "duration": 0.127578,
     "end_time": "2022-07-22T08:45:54.351794",
     "exception": false,
     "start_time": "2022-07-22T08:45:54.224216",
     "status": "completed"
    },
    "tags": [
     "injected-parameters"
    ]
   },
   "outputs": [],
   "source": [
    "# Parameters\n",
    "variance = 1\n",
    "bias = 0.01\n"
   ]
  },
  {
   "cell_type": "markdown",
   "id": "391cdbfd",
   "metadata": {
    "id": "391cdbfd",
    "papermill": {
     "duration": 0.048825,
     "end_time": "2022-07-22T08:45:54.430662",
     "exception": false,
     "start_time": "2022-07-22T08:45:54.381837",
     "status": "completed"
    },
    "tags": []
   },
   "source": [
    "## Dataset \n"
   ]
  },
  {
   "cell_type": "code",
   "execution_count": 5,
   "id": "5b51f161",
   "metadata": {
    "execution": {
     "iopub.execute_input": "2022-07-22T08:45:54.467788Z",
     "iopub.status.busy": "2022-07-22T08:45:54.467315Z",
     "iopub.status.idle": "2022-07-22T08:45:54.475143Z",
     "shell.execute_reply": "2022-07-22T08:45:54.471908Z"
    },
    "id": "5b51f161",
    "papermill": {
     "duration": 0.042019,
     "end_time": "2022-07-22T08:45:54.486185",
     "exception": false,
     "start_time": "2022-07-22T08:45:54.444166",
     "status": "completed"
    },
    "tags": []
   },
   "outputs": [],
   "source": [
    "#Parameters \n",
    "n_features = 4\n",
    "n_samples= 100\n",
    "n_target = 1"
   ]
  },
  {
   "cell_type": "code",
   "execution_count": 6,
   "id": "5d6eced4",
   "metadata": {
    "execution": {
     "iopub.execute_input": "2022-07-22T08:45:54.509988Z",
     "iopub.status.busy": "2022-07-22T08:45:54.508841Z",
     "iopub.status.idle": "2022-07-22T08:45:54.538971Z",
     "shell.execute_reply": "2022-07-22T08:45:54.536935Z"
    },
    "id": "5d6eced4",
    "papermill": {
     "duration": 0.057382,
     "end_time": "2022-07-22T08:45:54.553475",
     "exception": false,
     "start_time": "2022-07-22T08:45:54.496093",
     "status": "completed"
    },
    "tags": []
   },
   "outputs": [
    {
     "name": "stdout",
     "output_type": "stream",
     "text": [
      "          X1           X2        X3        X4         Y\n",
      "0  56.245945   391.384323  0.523802  3.311274  1.448748\n",
      "1  83.186955   251.731584  0.223521  4.773517  0.524928\n",
      "2  95.831317   775.410831  0.855772  7.125144  1.428718\n",
      "3  24.059270  1061.295546  0.358698  1.168915  1.492153\n",
      "4  64.663902   652.245652  0.812766  6.907799  1.432975\n"
     ]
    }
   ],
   "source": [
    "X,Y = friedman3Dataset.friedman3_data(n_samples)"
   ]
  },
  {
   "cell_type": "code",
   "execution_count": 7,
   "id": "fe007438",
   "metadata": {
    "execution": {
     "iopub.execute_input": "2022-07-22T08:45:54.800303Z",
     "iopub.status.busy": "2022-07-22T08:45:54.799248Z",
     "iopub.status.idle": "2022-07-22T08:45:54.810572Z",
     "shell.execute_reply": "2022-07-22T08:45:54.808410Z"
    },
    "id": "fe007438",
    "papermill": {
     "duration": 0.25411,
     "end_time": "2022-07-22T08:45:54.816698",
     "exception": false,
     "start_time": "2022-07-22T08:45:54.562588",
     "status": "completed"
    },
    "tags": []
   },
   "outputs": [],
   "source": [
    "#Train test split for dataset \n",
    "X_train,X_test,Y_train,Y_test = train_test_split(X,Y,test_size = 0.2)\n",
    "train_data = dataset.CustomDataset(X_train,Y_train)\n",
    "test_data = dataset.CustomDataset(X_test,Y_test)\n"
   ]
  },
  {
   "cell_type": "markdown",
   "id": "a9a1af34",
   "metadata": {
    "id": "a9a1af34",
    "papermill": {
     "duration": 0.096698,
     "end_time": "2022-07-22T08:45:54.979847",
     "exception": false,
     "start_time": "2022-07-22T08:45:54.883149",
     "status": "completed"
    },
    "tags": []
   },
   "source": [
    "## Training Parameters "
   ]
  },
  {
   "cell_type": "code",
   "execution_count": 8,
   "id": "952b7fc8",
   "metadata": {
    "execution": {
     "iopub.execute_input": "2022-07-22T08:45:55.065753Z",
     "iopub.status.busy": "2022-07-22T08:45:55.065068Z",
     "iopub.status.idle": "2022-07-22T08:45:55.075179Z",
     "shell.execute_reply": "2022-07-22T08:45:55.072967Z"
    },
    "id": "952b7fc8",
    "papermill": {
     "duration": 0.056127,
     "end_time": "2022-07-22T08:45:55.088224",
     "exception": false,
     "start_time": "2022-07-22T08:45:55.032097",
     "status": "completed"
    },
    "tags": []
   },
   "outputs": [],
   "source": [
    "batch_size = 32\n",
    "n_epochs = 1000\n",
    "#Select the device \n",
    "device = torch.device('cuda' if torch.cuda.is_available() else 'cpu')"
   ]
  },
  {
   "cell_type": "markdown",
   "id": "a95e1600",
   "metadata": {
    "id": "a95e1600",
    "papermill": {
     "duration": 0.043012,
     "end_time": "2022-07-22T08:45:55.149180",
     "exception": false,
     "start_time": "2022-07-22T08:45:55.106168",
     "status": "completed"
    },
    "tags": []
   },
   "source": [
    "# ABC Pre-generator Model \n",
    "\n",
    "1. The catboost model is used as a pre-generator model for the ABC-GAN. \n",
    "2. The model is first trained on the entire dataset \n",
    "3. It generats X,Y pairs and we add some Gaussian noise with mean 0 and variance 1 to it which is then feed as input to the generator.\n"
   ]
  },
  {
   "cell_type": "code",
   "execution_count": 9,
   "id": "ac011ebf",
   "metadata": {
    "execution": {
     "iopub.execute_input": "2022-07-22T08:45:55.355344Z",
     "iopub.status.busy": "2022-07-22T08:45:55.354636Z",
     "iopub.status.idle": "2022-07-22T08:46:34.558694Z",
     "shell.execute_reply": "2022-07-22T08:46:34.557650Z"
    },
    "papermill": {
     "duration": 39.329403,
     "end_time": "2022-07-22T08:46:34.562065",
     "exception": false,
     "start_time": "2022-07-22T08:45:55.232662",
     "status": "completed"
    },
    "tags": []
   },
   "outputs": [
    {
     "name": "stdout",
     "output_type": "stream",
     "text": [
      "Device used : cpu\n"
     ]
    },
    {
     "name": "stdout",
     "output_type": "stream",
     "text": [
      "epoch 0  | loss: 1.20844 | train_mse: 4.2876  | train_mae: 1.53981 |  0:00:00s\n"
     ]
    },
    {
     "name": "stdout",
     "output_type": "stream",
     "text": [
      "epoch 1  | loss: 1.18771 | train_mse: 3.49452 | train_mae: 1.39977 |  0:00:00s\n"
     ]
    },
    {
     "name": "stdout",
     "output_type": "stream",
     "text": [
      "epoch 2  | loss: 1.32408 | train_mse: 2.98285 | train_mae: 1.30866 |  0:00:01s\n"
     ]
    },
    {
     "name": "stdout",
     "output_type": "stream",
     "text": [
      "epoch 3  | loss: 1.09192 | train_mse: 2.6322  | train_mae: 1.23755 |  0:00:01s\n"
     ]
    },
    {
     "name": "stdout",
     "output_type": "stream",
     "text": [
      "epoch 4  | loss: 1.06597 | train_mse: 2.26301 | train_mae: 1.14018 |  0:00:01s\n"
     ]
    },
    {
     "name": "stdout",
     "output_type": "stream",
     "text": [
      "epoch 5  | loss: 1.04845 | train_mse: 2.06355 | train_mae: 1.0772  |  0:00:02s\n"
     ]
    },
    {
     "name": "stdout",
     "output_type": "stream",
     "text": [
      "epoch 6  | loss: 0.95125 | train_mse: 1.95455 | train_mae: 1.0357  |  0:00:02s\n"
     ]
    },
    {
     "name": "stdout",
     "output_type": "stream",
     "text": [
      "epoch 7  | loss: 0.88696 | train_mse: 1.75616 | train_mae: 0.99509 |  0:00:02s\n"
     ]
    },
    {
     "name": "stdout",
     "output_type": "stream",
     "text": [
      "epoch 8  | loss: 0.81222 | train_mse: 1.60597 | train_mae: 0.95548 |  0:00:03s\n"
     ]
    },
    {
     "name": "stdout",
     "output_type": "stream",
     "text": [
      "epoch 9  | loss: 0.75057 | train_mse: 1.34225 | train_mae: 0.87785 |  0:00:03s\n"
     ]
    },
    {
     "name": "stdout",
     "output_type": "stream",
     "text": [
      "epoch 10 | loss: 0.75453 | train_mse: 1.2585  | train_mae: 0.85384 |  0:00:03s\n"
     ]
    },
    {
     "name": "stdout",
     "output_type": "stream",
     "text": [
      "epoch 11 | loss: 0.74232 | train_mse: 1.17249 | train_mae: 0.8191  |  0:00:04s\n"
     ]
    },
    {
     "name": "stdout",
     "output_type": "stream",
     "text": [
      "epoch 12 | loss: 0.66025 | train_mse: 1.09966 | train_mae: 0.79486 |  0:00:04s\n",
      "epoch 13 | loss: 0.77143 | train_mse: 1.02759 | train_mae: 0.76611 |  0:00:04s\n"
     ]
    },
    {
     "name": "stdout",
     "output_type": "stream",
     "text": [
      "epoch 14 | loss: 0.78839 | train_mse: 0.94063 | train_mae: 0.73803 |  0:00:04s\n"
     ]
    },
    {
     "name": "stdout",
     "output_type": "stream",
     "text": [
      "epoch 15 | loss: 0.60138 | train_mse: 0.85528 | train_mae: 0.70734 |  0:00:05s\n"
     ]
    },
    {
     "name": "stdout",
     "output_type": "stream",
     "text": [
      "epoch 16 | loss: 0.75747 | train_mse: 0.78205 | train_mae: 0.67706 |  0:00:05s\n",
      "epoch 17 | loss: 0.62092 | train_mse: 0.70079 | train_mae: 0.63629 |  0:00:05s\n"
     ]
    },
    {
     "name": "stdout",
     "output_type": "stream",
     "text": [
      "epoch 18 | loss: 0.63439 | train_mse: 0.65432 | train_mae: 0.60841 |  0:00:06s\n"
     ]
    },
    {
     "name": "stdout",
     "output_type": "stream",
     "text": [
      "epoch 19 | loss: 0.51897 | train_mse: 0.61908 | train_mae: 0.5836  |  0:00:06s\n"
     ]
    },
    {
     "name": "stdout",
     "output_type": "stream",
     "text": [
      "epoch 20 | loss: 0.54108 | train_mse: 0.57616 | train_mae: 0.55543 |  0:00:06s\n",
      "epoch 21 | loss: 0.61281 | train_mse: 0.54406 | train_mae: 0.53497 |  0:00:06s\n"
     ]
    },
    {
     "name": "stdout",
     "output_type": "stream",
     "text": [
      "epoch 22 | loss: 0.60379 | train_mse: 0.52709 | train_mae: 0.52478 |  0:00:07s\n",
      "epoch 23 | loss: 0.67701 | train_mse: 0.50316 | train_mae: 0.51062 |  0:00:07s\n"
     ]
    },
    {
     "name": "stdout",
     "output_type": "stream",
     "text": [
      "epoch 24 | loss: 0.54023 | train_mse: 0.49179 | train_mae: 0.50401 |  0:00:08s\n"
     ]
    },
    {
     "name": "stdout",
     "output_type": "stream",
     "text": [
      "epoch 25 | loss: 0.5429  | train_mse: 0.47673 | train_mae: 0.49395 |  0:00:09s\n"
     ]
    },
    {
     "name": "stdout",
     "output_type": "stream",
     "text": [
      "epoch 26 | loss: 0.45013 | train_mse: 0.46446 | train_mae: 0.48501 |  0:00:09s\n"
     ]
    },
    {
     "name": "stdout",
     "output_type": "stream",
     "text": [
      "epoch 27 | loss: 0.49551 | train_mse: 0.45385 | train_mae: 0.4777  |  0:00:10s\n"
     ]
    },
    {
     "name": "stdout",
     "output_type": "stream",
     "text": [
      "epoch 28 | loss: 0.41903 | train_mse: 0.44509 | train_mae: 0.47023 |  0:00:11s\n"
     ]
    },
    {
     "name": "stdout",
     "output_type": "stream",
     "text": [
      "epoch 29 | loss: 0.50715 | train_mse: 0.42983 | train_mae: 0.45909 |  0:00:11s\n"
     ]
    },
    {
     "name": "stdout",
     "output_type": "stream",
     "text": [
      "epoch 30 | loss: 0.40172 | train_mse: 0.41112 | train_mae: 0.44636 |  0:00:12s\n"
     ]
    },
    {
     "name": "stdout",
     "output_type": "stream",
     "text": [
      "epoch 31 | loss: 0.43271 | train_mse: 0.39887 | train_mae: 0.43915 |  0:00:13s\n"
     ]
    },
    {
     "name": "stdout",
     "output_type": "stream",
     "text": [
      "epoch 32 | loss: 0.4819  | train_mse: 0.38754 | train_mae: 0.43148 |  0:00:13s\n"
     ]
    },
    {
     "name": "stdout",
     "output_type": "stream",
     "text": [
      "epoch 33 | loss: 0.52817 | train_mse: 0.37937 | train_mae: 0.42561 |  0:00:13s\n"
     ]
    },
    {
     "name": "stdout",
     "output_type": "stream",
     "text": [
      "epoch 34 | loss: 0.40372 | train_mse: 0.37239 | train_mae: 0.42131 |  0:00:14s\n"
     ]
    },
    {
     "name": "stdout",
     "output_type": "stream",
     "text": [
      "epoch 35 | loss: 0.53762 | train_mse: 0.37031 | train_mae: 0.4214  |  0:00:14s\n",
      "epoch 36 | loss: 0.44369 | train_mse: 0.36581 | train_mae: 0.41867 |  0:00:14s\n"
     ]
    },
    {
     "name": "stdout",
     "output_type": "stream",
     "text": [
      "epoch 37 | loss: 0.38224 | train_mse: 0.35916 | train_mae: 0.41432 |  0:00:15s\n",
      "epoch 38 | loss: 0.46963 | train_mse: 0.35676 | train_mae: 0.41095 |  0:00:15s\n"
     ]
    },
    {
     "name": "stdout",
     "output_type": "stream",
     "text": [
      "epoch 39 | loss: 0.34692 | train_mse: 0.35396 | train_mae: 0.40405 |  0:00:15s\n",
      "epoch 40 | loss: 0.51364 | train_mse: 0.33755 | train_mae: 0.39245 |  0:00:15s\n"
     ]
    },
    {
     "name": "stdout",
     "output_type": "stream",
     "text": [
      "epoch 41 | loss: 0.37206 | train_mse: 0.32595 | train_mae: 0.3853  |  0:00:15s\n",
      "epoch 42 | loss: 0.44124 | train_mse: 0.31616 | train_mae: 0.37876 |  0:00:15s\n"
     ]
    },
    {
     "name": "stdout",
     "output_type": "stream",
     "text": [
      "epoch 43 | loss: 0.34715 | train_mse: 0.30932 | train_mae: 0.3765  |  0:00:16s\n"
     ]
    },
    {
     "name": "stdout",
     "output_type": "stream",
     "text": [
      "epoch 44 | loss: 0.33715 | train_mse: 0.30167 | train_mae: 0.37312 |  0:00:16s\n",
      "epoch 45 | loss: 0.37031 | train_mse: 0.29252 | train_mae: 0.36728 |  0:00:16s\n"
     ]
    },
    {
     "name": "stdout",
     "output_type": "stream",
     "text": [
      "epoch 46 | loss: 0.33555 | train_mse: 0.28457 | train_mae: 0.3624  |  0:00:16s\n",
      "epoch 47 | loss: 0.48945 | train_mse: 0.27785 | train_mae: 0.35941 |  0:00:16s\n"
     ]
    },
    {
     "name": "stdout",
     "output_type": "stream",
     "text": [
      "epoch 48 | loss: 0.42938 | train_mse: 0.27343 | train_mae: 0.35567 |  0:00:16s\n",
      "epoch 49 | loss: 0.33019 | train_mse: 0.26962 | train_mae: 0.35137 |  0:00:17s\n",
      "epoch 50 | loss: 0.34827 | train_mse: 0.27102 | train_mae: 0.35222 |  0:00:17s\n"
     ]
    },
    {
     "name": "stdout",
     "output_type": "stream",
     "text": [
      "epoch 51 | loss: 0.33984 | train_mse: 0.27017 | train_mae: 0.3509  |  0:00:17s\n",
      "epoch 52 | loss: 0.44543 | train_mse: 0.26579 | train_mae: 0.34815 |  0:00:17s\n",
      "epoch 53 | loss: 0.31763 | train_mse: 0.26259 | train_mae: 0.34621 |  0:00:17s\n"
     ]
    },
    {
     "name": "stdout",
     "output_type": "stream",
     "text": [
      "epoch 54 | loss: 0.29992 | train_mse: 0.25665 | train_mae: 0.3408  |  0:00:17s\n",
      "epoch 55 | loss: 0.25257 | train_mse: 0.24968 | train_mae: 0.33604 |  0:00:17s\n",
      "epoch 56 | loss: 0.37289 | train_mse: 0.24648 | train_mae: 0.33093 |  0:00:17s\n"
     ]
    },
    {
     "name": "stdout",
     "output_type": "stream",
     "text": [
      "epoch 57 | loss: 0.28765 | train_mse: 0.24692 | train_mae: 0.32987 |  0:00:17s\n",
      "epoch 58 | loss: 0.35099 | train_mse: 0.24476 | train_mae: 0.32705 |  0:00:17s\n",
      "epoch 59 | loss: 0.40724 | train_mse: 0.24234 | train_mae: 0.32617 |  0:00:18s\n"
     ]
    },
    {
     "name": "stdout",
     "output_type": "stream",
     "text": [
      "epoch 60 | loss: 0.28442 | train_mse: 0.24153 | train_mae: 0.32474 |  0:00:18s\n",
      "epoch 61 | loss: 0.35199 | train_mse: 0.24107 | train_mae: 0.32499 |  0:00:18s\n",
      "epoch 62 | loss: 0.30194 | train_mse: 0.23817 | train_mae: 0.32003 |  0:00:18s\n"
     ]
    },
    {
     "name": "stdout",
     "output_type": "stream",
     "text": [
      "epoch 63 | loss: 0.35027 | train_mse: 0.23402 | train_mae: 0.31754 |  0:00:18s\n",
      "epoch 64 | loss: 0.38018 | train_mse: 0.23158 | train_mae: 0.31863 |  0:00:18s\n"
     ]
    },
    {
     "name": "stdout",
     "output_type": "stream",
     "text": [
      "epoch 65 | loss: 0.36562 | train_mse: 0.22986 | train_mae: 0.31958 |  0:00:18s\n",
      "epoch 66 | loss: 0.27112 | train_mse: 0.22694 | train_mae: 0.31901 |  0:00:18s\n"
     ]
    },
    {
     "name": "stdout",
     "output_type": "stream",
     "text": [
      "epoch 67 | loss: 0.57982 | train_mse: 0.22376 | train_mae: 0.31986 |  0:00:18s\n",
      "epoch 68 | loss: 0.32507 | train_mse: 0.22461 | train_mae: 0.32058 |  0:00:18s\n",
      "epoch 69 | loss: 0.37694 | train_mse: 0.22257 | train_mae: 0.31474 |  0:00:19s\n"
     ]
    },
    {
     "name": "stdout",
     "output_type": "stream",
     "text": [
      "epoch 70 | loss: 0.24825 | train_mse: 0.2262  | train_mae: 0.3167  |  0:00:19s\n",
      "epoch 71 | loss: 0.40247 | train_mse: 0.22531 | train_mae: 0.31692 |  0:00:19s\n",
      "epoch 72 | loss: 0.30825 | train_mse: 0.22213 | train_mae: 0.3131  |  0:00:19s\n"
     ]
    },
    {
     "name": "stdout",
     "output_type": "stream",
     "text": [
      "epoch 73 | loss: 0.41131 | train_mse: 0.22039 | train_mae: 0.30863 |  0:00:19s\n",
      "epoch 74 | loss: 0.3078  | train_mse: 0.21564 | train_mae: 0.30382 |  0:00:19s\n",
      "epoch 75 | loss: 0.38033 | train_mse: 0.21148 | train_mae: 0.30081 |  0:00:19s\n"
     ]
    },
    {
     "name": "stdout",
     "output_type": "stream",
     "text": [
      "epoch 76 | loss: 0.35108 | train_mse: 0.20925 | train_mae: 0.30121 |  0:00:19s\n",
      "epoch 77 | loss: 0.46081 | train_mse: 0.21178 | train_mae: 0.30666 |  0:00:19s\n"
     ]
    },
    {
     "name": "stdout",
     "output_type": "stream",
     "text": [
      "epoch 78 | loss: 0.34777 | train_mse: 0.21101 | train_mae: 0.30753 |  0:00:19s\n",
      "epoch 79 | loss: 0.28846 | train_mse: 0.20956 | train_mae: 0.30984 |  0:00:20s\n"
     ]
    },
    {
     "name": "stdout",
     "output_type": "stream",
     "text": [
      "epoch 80 | loss: 0.25455 | train_mse: 0.20687 | train_mae: 0.30805 |  0:00:20s\n",
      "epoch 81 | loss: 0.34144 | train_mse: 0.20055 | train_mae: 0.30425 |  0:00:20s\n",
      "epoch 82 | loss: 0.28476 | train_mse: 0.19539 | train_mae: 0.30245 |  0:00:20s\n"
     ]
    },
    {
     "name": "stdout",
     "output_type": "stream",
     "text": [
      "epoch 83 | loss: 0.39731 | train_mse: 0.19504 | train_mae: 0.30355 |  0:00:20s\n",
      "epoch 84 | loss: 0.35728 | train_mse: 0.19506 | train_mae: 0.30885 |  0:00:20s\n",
      "epoch 85 | loss: 0.31153 | train_mse: 0.19441 | train_mae: 0.31142 |  0:00:20s\n"
     ]
    },
    {
     "name": "stdout",
     "output_type": "stream",
     "text": [
      "epoch 86 | loss: 0.27561 | train_mse: 0.19647 | train_mae: 0.31164 |  0:00:20s\n",
      "epoch 87 | loss: 0.23779 | train_mse: 0.19641 | train_mae: 0.31108 |  0:00:20s\n",
      "epoch 88 | loss: 0.21381 | train_mse: 0.1948  | train_mae: 0.31101 |  0:00:20s\n"
     ]
    },
    {
     "name": "stdout",
     "output_type": "stream",
     "text": [
      "epoch 89 | loss: 0.31543 | train_mse: 0.18892 | train_mae: 0.30925 |  0:00:20s\n",
      "epoch 90 | loss: 0.26661 | train_mse: 0.18154 | train_mae: 0.30469 |  0:00:21s\n",
      "epoch 91 | loss: 0.18681 | train_mse: 0.17685 | train_mae: 0.30157 |  0:00:21s\n"
     ]
    },
    {
     "name": "stdout",
     "output_type": "stream",
     "text": [
      "epoch 92 | loss: 0.28325 | train_mse: 0.16674 | train_mae: 0.29848 |  0:00:21s\n",
      "epoch 93 | loss: 0.25782 | train_mse: 0.15721 | train_mae: 0.29042 |  0:00:21s\n",
      "epoch 94 | loss: 0.34087 | train_mse: 0.14988 | train_mae: 0.28332 |  0:00:21s\n"
     ]
    },
    {
     "name": "stdout",
     "output_type": "stream",
     "text": [
      "epoch 95 | loss: 0.26436 | train_mse: 0.14726 | train_mae: 0.28299 |  0:00:21s\n",
      "epoch 96 | loss: 0.21942 | train_mse: 0.14442 | train_mae: 0.28546 |  0:00:21s\n",
      "epoch 97 | loss: 0.43317 | train_mse: 0.14223 | train_mae: 0.28429 |  0:00:21s\n"
     ]
    },
    {
     "name": "stdout",
     "output_type": "stream",
     "text": [
      "epoch 98 | loss: 0.48669 | train_mse: 0.14012 | train_mae: 0.28252 |  0:00:21s\n",
      "epoch 99 | loss: 0.30259 | train_mse: 0.13835 | train_mae: 0.28347 |  0:00:21s\n",
      "epoch 100| loss: 0.36996 | train_mse: 0.13923 | train_mae: 0.28224 |  0:00:21s"
     ]
    },
    {
     "name": "stdout",
     "output_type": "stream",
     "text": [
      "\n",
      "epoch 101| loss: 0.26933 | train_mse: 0.14391 | train_mae: 0.28495 |  0:00:22s\n",
      "epoch 102| loss: 0.26478 | train_mse: 0.14358 | train_mae: 0.28178 |  0:00:22s\n"
     ]
    },
    {
     "name": "stdout",
     "output_type": "stream",
     "text": [
      "epoch 103| loss: 0.20743 | train_mse: 0.14415 | train_mae: 0.28172 |  0:00:22s\n",
      "epoch 104| loss: 0.29504 | train_mse: 0.14686 | train_mae: 0.28435 |  0:00:22s\n",
      "epoch 105| loss: 0.51025 | train_mse: 0.15507 | train_mae: 0.28229 |  0:00:22s\n"
     ]
    },
    {
     "name": "stdout",
     "output_type": "stream",
     "text": [
      "epoch 106| loss: 0.32866 | train_mse: 0.16026 | train_mae: 0.28074 |  0:00:22s\n",
      "epoch 107| loss: 0.2157  | train_mse: 0.16042 | train_mae: 0.28146 |  0:00:22s\n",
      "epoch 108| loss: 0.15895 | train_mse: 0.15997 | train_mae: 0.28069 |  0:00:22s\n"
     ]
    },
    {
     "name": "stdout",
     "output_type": "stream",
     "text": [
      "epoch 109| loss: 0.27457 | train_mse: 0.15911 | train_mae: 0.27741 |  0:00:22s\n",
      "epoch 110| loss: 0.15363 | train_mse: 0.15685 | train_mae: 0.27346 |  0:00:22s\n",
      "epoch 111| loss: 0.26896 | train_mse: 0.15875 | train_mae: 0.27052 |  0:00:23s"
     ]
    },
    {
     "name": "stdout",
     "output_type": "stream",
     "text": [
      "\n",
      "epoch 112| loss: 0.14619 | train_mse: 0.1589  | train_mae: 0.27228 |  0:00:23s\n",
      "epoch 113| loss: 0.36249 | train_mse: 0.15926 | train_mae: 0.27629 |  0:00:23s\n"
     ]
    },
    {
     "name": "stdout",
     "output_type": "stream",
     "text": [
      "epoch 114| loss: 0.23798 | train_mse: 0.15876 | train_mae: 0.28036 |  0:00:23s\n",
      "epoch 115| loss: 0.26255 | train_mse: 0.15749 | train_mae: 0.28204 |  0:00:23s\n",
      "epoch 116| loss: 0.26523 | train_mse: 0.1525  | train_mae: 0.28034 |  0:00:23s\n"
     ]
    },
    {
     "name": "stdout",
     "output_type": "stream",
     "text": [
      "epoch 117| loss: 0.24862 | train_mse: 0.14903 | train_mae: 0.27294 |  0:00:23s\n",
      "epoch 118| loss: 0.27604 | train_mse: 0.1424  | train_mae: 0.26833 |  0:00:23s\n"
     ]
    },
    {
     "name": "stdout",
     "output_type": "stream",
     "text": [
      "epoch 119| loss: 0.3202  | train_mse: 0.13895 | train_mae: 0.26767 |  0:00:23s\n"
     ]
    },
    {
     "name": "stdout",
     "output_type": "stream",
     "text": [
      "epoch 120| loss: 0.25756 | train_mse: 0.13778 | train_mae: 0.26704 |  0:00:23s\n",
      "epoch 121| loss: 0.18422 | train_mse: 0.13439 | train_mae: 0.26245 |  0:00:24s\n",
      "epoch 122| loss: 0.22912 | train_mse: 0.13319 | train_mae: 0.26217 |  0:00:24s\n"
     ]
    },
    {
     "name": "stdout",
     "output_type": "stream",
     "text": [
      "epoch 123| loss: 0.14054 | train_mse: 0.13025 | train_mae: 0.25889 |  0:00:24s\n",
      "epoch 124| loss: 0.15964 | train_mse: 0.12589 | train_mae: 0.25545 |  0:00:24s\n",
      "epoch 125| loss: 0.13933 | train_mse: 0.11891 | train_mae: 0.25054 |  0:00:24s\n"
     ]
    },
    {
     "name": "stdout",
     "output_type": "stream",
     "text": [
      "epoch 126| loss: 0.21607 | train_mse: 0.11088 | train_mae: 0.24445 |  0:00:24s\n",
      "epoch 127| loss: 0.16819 | train_mse: 0.10367 | train_mae: 0.24062 |  0:00:24s\n"
     ]
    },
    {
     "name": "stdout",
     "output_type": "stream",
     "text": [
      "epoch 128| loss: 0.16478 | train_mse: 0.09975 | train_mae: 0.23922 |  0:00:24s\n",
      "epoch 129| loss: 0.24193 | train_mse: 0.092   | train_mae: 0.23378 |  0:00:25s\n"
     ]
    },
    {
     "name": "stdout",
     "output_type": "stream",
     "text": [
      "epoch 130| loss: 0.1729  | train_mse: 0.08893 | train_mae: 0.23303 |  0:00:25s\n",
      "epoch 131| loss: 0.16423 | train_mse: 0.08944 | train_mae: 0.23694 |  0:00:25s\n"
     ]
    },
    {
     "name": "stdout",
     "output_type": "stream",
     "text": [
      "epoch 132| loss: 0.28367 | train_mse: 0.09217 | train_mae: 0.24262 |  0:00:25s\n",
      "epoch 133| loss: 0.26217 | train_mse: 0.09122 | train_mae: 0.24172 |  0:00:25s\n"
     ]
    },
    {
     "name": "stdout",
     "output_type": "stream",
     "text": [
      "epoch 134| loss: 0.155   | train_mse: 0.08695 | train_mae: 0.23569 |  0:00:26s\n"
     ]
    },
    {
     "name": "stdout",
     "output_type": "stream",
     "text": [
      "epoch 135| loss: 0.28077 | train_mse: 0.08474 | train_mae: 0.232   |  0:00:26s\n",
      "epoch 136| loss: 0.18639 | train_mse: 0.08407 | train_mae: 0.23158 |  0:00:26s\n"
     ]
    },
    {
     "name": "stdout",
     "output_type": "stream",
     "text": [
      "epoch 137| loss: 0.2068  | train_mse: 0.08085 | train_mae: 0.22746 |  0:00:26s\n",
      "epoch 138| loss: 0.25046 | train_mse: 0.07945 | train_mae: 0.22605 |  0:00:26s\n"
     ]
    },
    {
     "name": "stdout",
     "output_type": "stream",
     "text": [
      "epoch 139| loss: 0.1389  | train_mse: 0.07554 | train_mae: 0.22274 |  0:00:26s\n",
      "epoch 140| loss: 0.13583 | train_mse: 0.07142 | train_mae: 0.21562 |  0:00:27s\n"
     ]
    },
    {
     "name": "stdout",
     "output_type": "stream",
     "text": [
      "epoch 141| loss: 0.22815 | train_mse: 0.07016 | train_mae: 0.21533 |  0:00:27s\n",
      "epoch 142| loss: 0.23112 | train_mse: 0.06936 | train_mae: 0.21062 |  0:00:27s\n"
     ]
    },
    {
     "name": "stdout",
     "output_type": "stream",
     "text": [
      "epoch 143| loss: 0.3269  | train_mse: 0.06938 | train_mae: 0.21127 |  0:00:27s\n",
      "epoch 144| loss: 0.34262 | train_mse: 0.06864 | train_mae: 0.21126 |  0:00:27s\n",
      "epoch 145| loss: 0.21539 | train_mse: 0.06866 | train_mae: 0.21183 |  0:00:27s\n"
     ]
    },
    {
     "name": "stdout",
     "output_type": "stream",
     "text": [
      "epoch 146| loss: 0.3036  | train_mse: 0.06996 | train_mae: 0.21436 |  0:00:27s\n",
      "epoch 147| loss: 0.29276 | train_mse: 0.07055 | train_mae: 0.21603 |  0:00:27s\n"
     ]
    },
    {
     "name": "stdout",
     "output_type": "stream",
     "text": [
      "epoch 148| loss: 0.1992  | train_mse: 0.07165 | train_mae: 0.2182  |  0:00:27s\n",
      "epoch 149| loss: 0.10528 | train_mse: 0.07243 | train_mae: 0.21856 |  0:00:27s\n",
      "epoch 150| loss: 0.20762 | train_mse: 0.07129 | train_mae: 0.21664 |  0:00:28s\n"
     ]
    },
    {
     "name": "stdout",
     "output_type": "stream",
     "text": [
      "epoch 151| loss: 0.24187 | train_mse: 0.07171 | train_mae: 0.21628 |  0:00:28s\n",
      "epoch 152| loss: 0.1058  | train_mse: 0.07325 | train_mae: 0.21863 |  0:00:28s\n",
      "epoch 153| loss: 0.22604 | train_mse: 0.07287 | train_mae: 0.21719 |  0:00:28s\n"
     ]
    },
    {
     "name": "stdout",
     "output_type": "stream",
     "text": [
      "epoch 154| loss: 0.17435 | train_mse: 0.07174 | train_mae: 0.2166  |  0:00:28s\n",
      "epoch 155| loss: 0.32703 | train_mse: 0.07147 | train_mae: 0.21561 |  0:00:28s\n",
      "epoch 156| loss: 0.15101 | train_mse: 0.07313 | train_mae: 0.21725 |  0:00:28s\n"
     ]
    },
    {
     "name": "stdout",
     "output_type": "stream",
     "text": [
      "epoch 157| loss: 0.12402 | train_mse: 0.07399 | train_mae: 0.21877 |  0:00:28s\n",
      "epoch 158| loss: 0.20569 | train_mse: 0.07635 | train_mae: 0.22396 |  0:00:28s\n"
     ]
    },
    {
     "name": "stdout",
     "output_type": "stream",
     "text": [
      "epoch 159| loss: 0.20245 | train_mse: 0.07966 | train_mae: 0.22786 |  0:00:28s\n",
      "epoch 160| loss: 0.17294 | train_mse: 0.07947 | train_mae: 0.22931 |  0:00:28s\n",
      "epoch 161| loss: 0.16446 | train_mse: 0.07902 | train_mae: 0.22828 |  0:00:28s\n"
     ]
    },
    {
     "name": "stdout",
     "output_type": "stream",
     "text": [
      "epoch 162| loss: 0.34057 | train_mse: 0.07619 | train_mae: 0.22241 |  0:00:29s\n",
      "epoch 163| loss: 0.15931 | train_mse: 0.07488 | train_mae: 0.22029 |  0:00:29s\n",
      "epoch 164| loss: 0.17967 | train_mse: 0.07558 | train_mae: 0.22251 |  0:00:29s\n"
     ]
    },
    {
     "name": "stdout",
     "output_type": "stream",
     "text": [
      "epoch 165| loss: 0.09518 | train_mse: 0.07724 | train_mae: 0.22411 |  0:00:29s\n",
      "epoch 166| loss: 0.1136  | train_mse: 0.07963 | train_mae: 0.22466 |  0:00:29s\n",
      "epoch 167| loss: 0.1444  | train_mse: 0.07983 | train_mae: 0.2229  |  0:00:29s\n"
     ]
    },
    {
     "name": "stdout",
     "output_type": "stream",
     "text": [
      "epoch 168| loss: 0.1456  | train_mse: 0.07585 | train_mae: 0.21628 |  0:00:29s\n",
      "epoch 169| loss: 0.1719  | train_mse: 0.07365 | train_mae: 0.21345 |  0:00:29s\n"
     ]
    },
    {
     "name": "stdout",
     "output_type": "stream",
     "text": [
      "epoch 170| loss: 0.23799 | train_mse: 0.07065 | train_mae: 0.21051 |  0:00:29s\n",
      "epoch 171| loss: 0.18784 | train_mse: 0.07026 | train_mae: 0.21128 |  0:00:29s\n",
      "epoch 172| loss: 0.12574 | train_mse: 0.07057 | train_mae: 0.21119 |  0:00:30s\n"
     ]
    },
    {
     "name": "stdout",
     "output_type": "stream",
     "text": [
      "epoch 173| loss: 0.19698 | train_mse: 0.06945 | train_mae: 0.20916 |  0:00:30s\n",
      "epoch 174| loss: 0.22147 | train_mse: 0.06836 | train_mae: 0.20621 |  0:00:30s\n",
      "epoch 175| loss: 0.29195 | train_mse: 0.06915 | train_mae: 0.20763 |  0:00:30s\n"
     ]
    },
    {
     "name": "stdout",
     "output_type": "stream",
     "text": [
      "epoch 176| loss: 0.17549 | train_mse: 0.06918 | train_mae: 0.20644 |  0:00:30s\n",
      "epoch 177| loss: 0.20147 | train_mse: 0.0702  | train_mae: 0.20584 |  0:00:30s\n",
      "epoch 178| loss: 0.26602 | train_mse: 0.07186 | train_mae: 0.20807 |  0:00:30s\n"
     ]
    },
    {
     "name": "stdout",
     "output_type": "stream",
     "text": [
      "epoch 179| loss: 0.14706 | train_mse: 0.07449 | train_mae: 0.21198 |  0:00:30s\n",
      "epoch 180| loss: 0.09871 | train_mse: 0.07623 | train_mae: 0.21365 |  0:00:30s\n"
     ]
    },
    {
     "name": "stdout",
     "output_type": "stream",
     "text": [
      "epoch 181| loss: 0.13877 | train_mse: 0.07636 | train_mae: 0.21454 |  0:00:30s\n",
      "epoch 182| loss: 0.14331 | train_mse: 0.07479 | train_mae: 0.21387 |  0:00:31s\n"
     ]
    },
    {
     "name": "stdout",
     "output_type": "stream",
     "text": [
      "epoch 183| loss: 0.15272 | train_mse: 0.07142 | train_mae: 0.20993 |  0:00:31s\n",
      "epoch 184| loss: 0.1899  | train_mse: 0.0684  | train_mae: 0.20698 |  0:00:31s\n",
      "epoch 185| loss: 0.17129 | train_mse: 0.06363 | train_mae: 0.20056 |  0:00:31s\n"
     ]
    },
    {
     "name": "stdout",
     "output_type": "stream",
     "text": [
      "epoch 186| loss: 0.1175  | train_mse: 0.06145 | train_mae: 0.19712 |  0:00:31s\n",
      "epoch 187| loss: 0.16599 | train_mse: 0.05912 | train_mae: 0.19332 |  0:00:31s\n",
      "epoch 188| loss: 0.08319 | train_mse: 0.05768 | train_mae: 0.19034 |  0:00:31s\n"
     ]
    },
    {
     "name": "stdout",
     "output_type": "stream",
     "text": [
      "epoch 189| loss: 0.15234 | train_mse: 0.05618 | train_mae: 0.18813 |  0:00:31s\n",
      "epoch 190| loss: 0.49678 | train_mse: 0.05784 | train_mae: 0.19278 |  0:00:31s\n",
      "epoch 191| loss: 0.15787 | train_mse: 0.05744 | train_mae: 0.19313 |  0:00:32s\n"
     ]
    },
    {
     "name": "stdout",
     "output_type": "stream",
     "text": [
      "epoch 192| loss: 0.11535 | train_mse: 0.05795 | train_mae: 0.19557 |  0:00:32s\n",
      "epoch 193| loss: 0.15634 | train_mse: 0.06039 | train_mae: 0.20042 |  0:00:32s\n",
      "epoch 194| loss: 0.18612 | train_mse: 0.06265 | train_mae: 0.19997 |  0:00:32s\n"
     ]
    },
    {
     "name": "stdout",
     "output_type": "stream",
     "text": [
      "epoch 195| loss: 0.15242 | train_mse: 0.06438 | train_mae: 0.20154 |  0:00:32s\n",
      "epoch 196| loss: 0.11793 | train_mse: 0.06486 | train_mae: 0.20219 |  0:00:32s\n",
      "epoch 197| loss: 0.23348 | train_mse: 0.06457 | train_mae: 0.2025  |  0:00:32s\n"
     ]
    },
    {
     "name": "stdout",
     "output_type": "stream",
     "text": [
      "epoch 198| loss: 0.15518 | train_mse: 0.06529 | train_mae: 0.20645 |  0:00:32s\n",
      "epoch 199| loss: 0.20376 | train_mse: 0.06559 | train_mae: 0.20605 |  0:00:32s\n"
     ]
    },
    {
     "name": "stdout",
     "output_type": "stream",
     "text": [
      "epoch 200| loss: 0.14188 | train_mse: 0.06686 | train_mae: 0.20608 |  0:00:32s\n",
      "epoch 201| loss: 0.15786 | train_mse: 0.06644 | train_mae: 0.20671 |  0:00:32s\n",
      "epoch 202| loss: 0.14349 | train_mse: 0.06645 | train_mae: 0.20873 |  0:00:33s\n"
     ]
    },
    {
     "name": "stdout",
     "output_type": "stream",
     "text": [
      "epoch 203| loss: 0.14318 | train_mse: 0.06697 | train_mae: 0.20892 |  0:00:33s\n",
      "epoch 204| loss: 0.13338 | train_mse: 0.06455 | train_mae: 0.20446 |  0:00:33s\n",
      "epoch 205| loss: 0.20179 | train_mse: 0.0662  | train_mae: 0.20467 |  0:00:33s\n"
     ]
    },
    {
     "name": "stdout",
     "output_type": "stream",
     "text": [
      "epoch 206| loss: 0.12629 | train_mse: 0.06771 | train_mae: 0.20544 |  0:00:33s\n",
      "epoch 207| loss: 0.13294 | train_mse: 0.07049 | train_mae: 0.20908 |  0:00:33s\n",
      "epoch 208| loss: 0.13127 | train_mse: 0.07088 | train_mae: 0.20939 |  0:00:33s\n"
     ]
    },
    {
     "name": "stdout",
     "output_type": "stream",
     "text": [
      "epoch 209| loss: 0.15114 | train_mse: 0.07314 | train_mae: 0.21206 |  0:00:33s\n",
      "epoch 210| loss: 0.10698 | train_mse: 0.07117 | train_mae: 0.20841 |  0:00:33s\n"
     ]
    },
    {
     "name": "stdout",
     "output_type": "stream",
     "text": [
      "epoch 211| loss: 0.10802 | train_mse: 0.06827 | train_mae: 0.20543 |  0:00:33s\n",
      "epoch 212| loss: 0.11981 | train_mse: 0.0674  | train_mae: 0.20403 |  0:00:33s\n",
      "epoch 213| loss: 0.13764 | train_mse: 0.06562 | train_mae: 0.20096 |  0:00:34s\n"
     ]
    },
    {
     "name": "stdout",
     "output_type": "stream",
     "text": [
      "epoch 214| loss: 0.21706 | train_mse: 0.06431 | train_mae: 0.20006 |  0:00:34s\n",
      "epoch 215| loss: 0.14222 | train_mse: 0.06301 | train_mae: 0.19685 |  0:00:34s\n",
      "epoch 216| loss: 0.22445 | train_mse: 0.06023 | train_mae: 0.19269 |  0:00:34s\n"
     ]
    },
    {
     "name": "stdout",
     "output_type": "stream",
     "text": [
      "epoch 217| loss: 0.21218 | train_mse: 0.05892 | train_mae: 0.19069 |  0:00:34s\n",
      "epoch 218| loss: 0.16346 | train_mse: 0.05738 | train_mae: 0.18632 |  0:00:34s\n",
      "epoch 219| loss: 0.13971 | train_mse: 0.05745 | train_mae: 0.18656 |  0:00:34s\n"
     ]
    },
    {
     "name": "stdout",
     "output_type": "stream",
     "text": [
      "epoch 220| loss: 0.11718 | train_mse: 0.05658 | train_mae: 0.18535 |  0:00:34s\n",
      "epoch 221| loss: 0.13045 | train_mse: 0.05775 | train_mae: 0.18606 |  0:00:34s\n",
      "epoch 222| loss: 0.13204 | train_mse: 0.05803 | train_mae: 0.18867 |  0:00:34s\n"
     ]
    },
    {
     "name": "stdout",
     "output_type": "stream",
     "text": [
      "epoch 223| loss: 0.12673 | train_mse: 0.0591  | train_mae: 0.1911  |  0:00:35s\n",
      "epoch 224| loss: 0.15703 | train_mse: 0.06021 | train_mae: 0.19291 |  0:00:35s\n",
      "epoch 225| loss: 0.11127 | train_mse: 0.05948 | train_mae: 0.19238 |  0:00:35s\n"
     ]
    },
    {
     "name": "stdout",
     "output_type": "stream",
     "text": [
      "epoch 226| loss: 0.16885 | train_mse: 0.05762 | train_mae: 0.19012 |  0:00:35s\n",
      "epoch 227| loss: 0.18621 | train_mse: 0.05648 | train_mae: 0.18708 |  0:00:35s\n",
      "epoch 228| loss: 0.22846 | train_mse: 0.05861 | train_mae: 0.19163 |  0:00:35s\n"
     ]
    },
    {
     "name": "stdout",
     "output_type": "stream",
     "text": [
      "epoch 229| loss: 0.15836 | train_mse: 0.05685 | train_mae: 0.19098 |  0:00:35s\n",
      "epoch 230| loss: 0.17403 | train_mse: 0.05769 | train_mae: 0.19314 |  0:00:35s\n",
      "epoch 231| loss: 0.15075 | train_mse: 0.05881 | train_mae: 0.19534 |  0:00:35s\n"
     ]
    },
    {
     "name": "stdout",
     "output_type": "stream",
     "text": [
      "epoch 232| loss: 0.16443 | train_mse: 0.061   | train_mae: 0.19931 |  0:00:35s\n",
      "epoch 233| loss: 0.08001 | train_mse: 0.07615 | train_mae: 0.20855 |  0:00:35s\n",
      "epoch 234| loss: 0.15856 | train_mse: 0.08017 | train_mae: 0.21284 |  0:00:35s\n"
     ]
    },
    {
     "name": "stdout",
     "output_type": "stream",
     "text": [
      "epoch 235| loss: 0.16746 | train_mse: 0.07539 | train_mae: 0.20881 |  0:00:36s\n",
      "epoch 236| loss: 0.12606 | train_mse: 0.08048 | train_mae: 0.21329 |  0:00:36s\n",
      "epoch 237| loss: 0.29063 | train_mse: 0.07989 | train_mae: 0.21115 |  0:00:36s\n"
     ]
    },
    {
     "name": "stdout",
     "output_type": "stream",
     "text": [
      "epoch 238| loss: 0.24044 | train_mse: 0.07648 | train_mae: 0.20649 |  0:00:36s\n",
      "epoch 239| loss: 0.17362 | train_mse: 0.06114 | train_mae: 0.195   |  0:00:36s\n",
      "epoch 240| loss: 0.08626 | train_mse: 0.06573 | train_mae: 0.19976 |  0:00:36s\n"
     ]
    },
    {
     "name": "stdout",
     "output_type": "stream",
     "text": [
      "epoch 241| loss: 0.14065 | train_mse: 0.06177 | train_mae: 0.19663 |  0:00:36s\n",
      "epoch 242| loss: 0.12865 | train_mse: 0.06093 | train_mae: 0.19786 |  0:00:36s\n",
      "epoch 243| loss: 0.10865 | train_mse: 0.05861 | train_mae: 0.19292 |  0:00:36s\n"
     ]
    },
    {
     "name": "stdout",
     "output_type": "stream",
     "text": [
      "epoch 244| loss: 0.11509 | train_mse: 0.05909 | train_mae: 0.19383 |  0:00:36s\n",
      "epoch 245| loss: 0.17301 | train_mse: 0.06045 | train_mae: 0.19539 |  0:00:36s\n",
      "epoch 246| loss: 0.25903 | train_mse: 0.06123 | train_mae: 0.19616 |  0:00:37s\n"
     ]
    },
    {
     "name": "stdout",
     "output_type": "stream",
     "text": [
      "epoch 247| loss: 0.08833 | train_mse: 0.07866 | train_mae: 0.20897 |  0:00:37s\n",
      "epoch 248| loss: 0.09409 | train_mse: 0.07666 | train_mae: 0.2095  |  0:00:37s\n",
      "epoch 249| loss: 0.12732 | train_mse: 0.07577 | train_mae: 0.20957 |  0:00:37s\n"
     ]
    },
    {
     "name": "stdout",
     "output_type": "stream",
     "text": [
      "epoch 250| loss: 0.15524 | train_mse: 0.07674 | train_mae: 0.21155 |  0:00:37s\n",
      "epoch 251| loss: 0.12431 | train_mse: 0.07889 | train_mae: 0.21464 |  0:00:37s\n",
      "epoch 252| loss: 0.14806 | train_mse: 0.08115 | train_mae: 0.21806 |  0:00:37s\n"
     ]
    },
    {
     "name": "stdout",
     "output_type": "stream",
     "text": [
      "epoch 253| loss: 0.2019  | train_mse: 0.08721 | train_mae: 0.22589 |  0:00:37s\n",
      "epoch 254| loss: 0.14262 | train_mse: 0.08507 | train_mae: 0.22539 |  0:00:37s\n"
     ]
    },
    {
     "name": "stdout",
     "output_type": "stream",
     "text": [
      "epoch 255| loss: 0.1258  | train_mse: 0.08357 | train_mae: 0.2266  |  0:00:37s\n",
      "epoch 256| loss: 0.14942 | train_mse: 0.07868 | train_mae: 0.22322 |  0:00:37s\n",
      "epoch 257| loss: 0.10209 | train_mse: 0.07426 | train_mae: 0.21722 |  0:00:37s\n"
     ]
    },
    {
     "name": "stdout",
     "output_type": "stream",
     "text": [
      "epoch 258| loss: 0.10773 | train_mse: 0.06988 | train_mae: 0.20916 |  0:00:38s\n",
      "epoch 259| loss: 0.12922 | train_mse: 0.07    | train_mae: 0.2104  |  0:00:38s\n",
      "epoch 260| loss: 0.12222 | train_mse: 0.06912 | train_mae: 0.20791 |  0:00:38s\n"
     ]
    },
    {
     "name": "stdout",
     "output_type": "stream",
     "text": [
      "epoch 261| loss: 0.14326 | train_mse: 0.06843 | train_mae: 0.20626 |  0:00:38s\n",
      "epoch 262| loss: 0.10468 | train_mse: 0.06846 | train_mae: 0.20495 |  0:00:38s\n",
      "epoch 263| loss: 0.17379 | train_mse: 0.06841 | train_mae: 0.20248 |  0:00:38s\n"
     ]
    },
    {
     "name": "stdout",
     "output_type": "stream",
     "text": [
      "epoch 264| loss: 0.19679 | train_mse: 0.06712 | train_mae: 0.2     |  0:00:38s\n",
      "epoch 265| loss: 0.13013 | train_mse: 0.06693 | train_mae: 0.20085 |  0:00:38s\n",
      "epoch 266| loss: 0.15699 | train_mse: 0.06595 | train_mae: 0.19924 |  0:00:38s\n"
     ]
    },
    {
     "name": "stdout",
     "output_type": "stream",
     "text": [
      "epoch 267| loss: 0.1869  | train_mse: 0.06677 | train_mae: 0.20107 |  0:00:38s\n",
      "epoch 268| loss: 0.1496  | train_mse: 0.06642 | train_mae: 0.19916 |  0:00:38s\n",
      "epoch 269| loss: 0.10368 | train_mse: 0.0698  | train_mae: 0.2049  |  0:00:39s\n"
     ]
    },
    {
     "name": "stdout",
     "output_type": "stream",
     "text": [
      "epoch 270| loss: 0.15842 | train_mse: 0.06925 | train_mae: 0.20396 |  0:00:39s\n",
      "\n",
      "Early stopping occurred at epoch 270 with best_epoch = 220 and best_train_mae = 0.18535\n",
      "Best weights from best epoch are automatically used!\n"
     ]
    }
   ],
   "source": [
    "#Train the Model\n",
    "\n",
    "Y_train = np.reshape(Y_train, (-1, 1))\n",
    "Y_test = np.reshape(Y_test, (-1, 1))\n",
    "\n",
    "prior_model = TabNetRegressor(optimizer_fn=torch.optim.Adam, optimizer_params=dict(lr = 0.001),\n",
    "          #scheduler_params={\"step_size\":10, ], \"gamma\":0.9},\n",
    "          #scheduler_fn=torch.optim.lr_scheduler.StepLR\n",
    "          )  #TabNetRegressor()\n",
    "\n",
    "prior_model.fit(X_train,Y_train,eval_set=[(X_train, Y_train)],\n",
    "            eval_name=['train'], \n",
    "            eval_metric=[ 'mse', 'mae'], \n",
    "            max_epochs = n_epochs, \n",
    "            batch_size = batch_size,\n",
    "            patience=50\n",
    "            )"
   ]
  },
  {
   "cell_type": "code",
   "execution_count": 10,
   "id": "af65dcda",
   "metadata": {
    "execution": {
     "iopub.execute_input": "2022-07-22T08:46:34.595358Z",
     "iopub.status.busy": "2022-07-22T08:46:34.594909Z",
     "iopub.status.idle": "2022-07-22T08:46:34.645147Z",
     "shell.execute_reply": "2022-07-22T08:46:34.643754Z"
    },
    "id": "af65dcda",
    "papermill": {
     "duration": 0.071035,
     "end_time": "2022-07-22T08:46:34.648968",
     "exception": false,
     "start_time": "2022-07-22T08:46:34.577933",
     "status": "completed"
    },
    "tags": []
   },
   "outputs": [
    {
     "data": {
      "application/scrapbook.scrap.json+json": {
       "data": 0.8296181206891253,
       "encoder": "json",
       "name": "Prior Model MSE",
       "version": 1
      }
     },
     "metadata": {
      "scrapbook": {
       "data": true,
       "display": false,
       "name": "Prior Model MSE"
      }
     },
     "output_type": "display_data"
    },
    {
     "data": {
      "application/scrapbook.scrap.json+json": {
       "data": 1.790537266370647,
       "encoder": "json",
       "name": "ABC Pre-generator MSE",
       "version": 1
      }
     },
     "metadata": {
      "scrapbook": {
       "data": true,
       "display": false,
       "name": "ABC Pre-generator MSE"
      }
     },
     "output_type": "display_data"
    },
    {
     "data": {
      "application/scrapbook.scrap.json+json": {
       "data": 0.5126180926744037,
       "encoder": "json",
       "name": "Prior Model MAE",
       "version": 1
      }
     },
     "metadata": {
      "scrapbook": {
       "data": true,
       "display": false,
       "name": "Prior Model MAE"
      }
     },
     "output_type": "display_data"
    },
    {
     "name": "stdout",
     "output_type": "stream",
     "text": [
      "Prior Model MAE 0.5126180926744037\n"
     ]
    },
    {
     "data": {
      "application/scrapbook.scrap.json+json": {
       "data": 0.8689695564265408,
       "encoder": "json",
       "name": "ABC Pre-generator MAE",
       "version": 1
      }
     },
     "metadata": {
      "scrapbook": {
       "data": true,
       "display": false,
       "name": "ABC Pre-generator MAE"
      }
     },
     "output_type": "display_data"
    },
    {
     "name": "stdout",
     "output_type": "stream",
     "text": [
      "ABC Pre-generator MAE 0.8689695564265408\n"
     ]
    }
   ],
   "source": [
    "y_pred = prior_model.predict(X_test)\n",
    "y_abc = y_pred + np.random.normal(0,variance, y_pred.shape) + bias \n",
    "mse = mean_squared_error(y_pred,Y_test)\n",
    "sb.glue(\"Prior Model MSE\",mse)\n",
    "mse = mean_squared_error(y_abc,Y_test)\n",
    "sb.glue(\"ABC Pre-generator MSE\",mse)\n",
    "mae = mean_absolute_error(y_pred,Y_test)\n",
    "sb.glue(\"Prior Model MAE\",mae)\n",
    "print(\"Prior Model MAE\",mae)\n",
    "mae = mean_absolute_error(y_abc,Y_test)\n",
    "sb.glue(\"ABC Pre-generator MAE\",mae)\n",
    "print(\"ABC Pre-generator MAE\",mae)"
   ]
  },
  {
   "cell_type": "markdown",
   "id": "25609da2",
   "metadata": {
    "papermill": {
     "duration": 0.018229,
     "end_time": "2022-07-22T08:46:34.683551",
     "exception": false,
     "start_time": "2022-07-22T08:46:34.665322",
     "status": "completed"
    },
    "tags": []
   },
   "source": [
    "# mGAN Model"
   ]
  },
  {
   "cell_type": "code",
   "execution_count": 11,
   "id": "dfc3464d",
   "metadata": {
    "execution": {
     "iopub.execute_input": "2022-07-22T08:46:34.745901Z",
     "iopub.status.busy": "2022-07-22T08:46:34.743860Z",
     "iopub.status.idle": "2022-07-22T08:46:34.758772Z",
     "shell.execute_reply": "2022-07-22T08:46:34.757067Z"
    },
    "papermill": {
     "duration": 0.060216,
     "end_time": "2022-07-22T08:46:34.762210",
     "exception": false,
     "start_time": "2022-07-22T08:46:34.701994",
     "status": "completed"
    },
    "tags": []
   },
   "outputs": [],
   "source": [
    "# gen = network.Generator(n_features+1).to(device)\n",
    "# disc = network.Discriminator(n_features+1).to(device)\n",
    "\n",
    "# criterion = torch.nn.BCELoss()\n",
    "# gen_opt = torch.optim.Adam(gen.parameters(), lr=0.001, betas=(0.5, 0.999))\n",
    "# disc_opt = torch.optim.Adam(disc.parameters(), lr=0.001, betas=(0.5, 0.999))"
   ]
  },
  {
   "cell_type": "code",
   "execution_count": 12,
   "id": "b75fdd85",
   "metadata": {
    "execution": {
     "iopub.execute_input": "2022-07-22T08:46:34.807152Z",
     "iopub.status.busy": "2022-07-22T08:46:34.806597Z",
     "iopub.status.idle": "2022-07-22T08:46:34.812570Z",
     "shell.execute_reply": "2022-07-22T08:46:34.811224Z"
    },
    "papermill": {
     "duration": 0.036252,
     "end_time": "2022-07-22T08:46:34.817658",
     "exception": false,
     "start_time": "2022-07-22T08:46:34.781406",
     "status": "completed"
    },
    "tags": []
   },
   "outputs": [],
   "source": [
    "#Training the ABC_GAN \n",
    "# ABC_train_test2.training_GAN(disc,gen,disc_opt,gen_opt,train_data,batch_size,n_epochs,criterion,prior_model,variance,bias,device)"
   ]
  },
  {
   "cell_type": "code",
   "execution_count": 13,
   "id": "1fa7c368",
   "metadata": {
    "execution": {
     "iopub.execute_input": "2022-07-22T08:46:34.864425Z",
     "iopub.status.busy": "2022-07-22T08:46:34.863716Z",
     "iopub.status.idle": "2022-07-22T08:46:34.869467Z",
     "shell.execute_reply": "2022-07-22T08:46:34.867961Z"
    },
    "papermill": {
     "duration": 0.034831,
     "end_time": "2022-07-22T08:46:34.874099",
     "exception": false,
     "start_time": "2022-07-22T08:46:34.839268",
     "status": "completed"
    },
    "tags": []
   },
   "outputs": [],
   "source": [
    "# ABC_GAN1_metrics=ABC_train_test2.test_generator(gen,test_data,prior_model,variance,bias,\"1\",device)\n",
    "# sb.glue(\"ABC_GAN_1 Metrics\",ABC_GAN1_metrics)\n",
    "\n",
    "# print(\"MAE\")\n",
    "# print(mean(ABC_GAN1_metrics[1]))"
   ]
  },
  {
   "cell_type": "code",
   "execution_count": 14,
   "id": "eb22ce5c",
   "metadata": {
    "execution": {
     "iopub.execute_input": "2022-07-22T08:46:34.929298Z",
     "iopub.status.busy": "2022-07-22T08:46:34.928840Z",
     "iopub.status.idle": "2022-07-22T08:46:34.934432Z",
     "shell.execute_reply": "2022-07-22T08:46:34.933148Z"
    },
    "papermill": {
     "duration": 0.036862,
     "end_time": "2022-07-22T08:46:34.938089",
     "exception": false,
     "start_time": "2022-07-22T08:46:34.901227",
     "status": "completed"
    },
    "tags": []
   },
   "outputs": [],
   "source": [
    "# sanityChecks.discProbVsError(train_data,disc,device)\n",
    "# sanityChecks.discProbVsError(test_data,disc,device)"
   ]
  },
  {
   "cell_type": "markdown",
   "id": "27039c17",
   "metadata": {
    "papermill": {
     "duration": 0.025973,
     "end_time": "2022-07-22T08:46:34.981023",
     "exception": false,
     "start_time": "2022-07-22T08:46:34.955050",
     "status": "completed"
    },
    "tags": []
   },
   "source": [
    "# mGAN Model with TabNet Generator"
   ]
  },
  {
   "cell_type": "code",
   "execution_count": 15,
   "id": "72e81b25",
   "metadata": {
    "execution": {
     "iopub.execute_input": "2022-07-22T08:46:35.019633Z",
     "iopub.status.busy": "2022-07-22T08:46:35.018659Z",
     "iopub.status.idle": "2022-07-22T08:46:35.036644Z",
     "shell.execute_reply": "2022-07-22T08:46:35.035592Z"
    },
    "papermill": {
     "duration": 0.040539,
     "end_time": "2022-07-22T08:46:35.039554",
     "exception": false,
     "start_time": "2022-07-22T08:46:34.999015",
     "status": "completed"
    },
    "tags": []
   },
   "outputs": [],
   "source": [
    "gen2 = network.GeneratorTabnet(n_features+1).to(device)\n",
    "disc2 = network.Discriminator(n_features+1).to(device)\n",
    "\n",
    "criterion = torch.nn.BCELoss()\n",
    "gen_opt = torch.optim.Adam(gen2.parameters(), lr=0.001, betas=(0.5, 0.999))\n",
    "disc_opt = torch.optim.Adam(disc2.parameters(), lr=0.001, betas=(0.5, 0.999))"
   ]
  },
  {
   "cell_type": "code",
   "execution_count": 16,
   "id": "9acf396f",
   "metadata": {
    "execution": {
     "iopub.execute_input": "2022-07-22T08:46:35.097315Z",
     "iopub.status.busy": "2022-07-22T08:46:35.096671Z",
     "iopub.status.idle": "2022-07-22T08:49:44.800820Z",
     "shell.execute_reply": "2022-07-22T08:49:44.798496Z"
    },
    "papermill": {
     "duration": 189.749632,
     "end_time": "2022-07-22T08:49:44.807929",
     "exception": false,
     "start_time": "2022-07-22T08:46:35.058297",
     "status": "completed"
    },
    "tags": []
   },
   "outputs": [
    {
     "data": {
      "image/png": "[encoded data removed]",
      "text/plain": [
       "<Figure size 432x288 with 1 Axes>"
      ]
     },
     "metadata": {
      "needs_background": "light"
     },
     "output_type": "display_data"
    },
    {
     "data": {
      "image/png": "[encoded data removed]",
      "text/plain": [
       "<Figure size 432x288 with 1 Axes>"
      ]
     },
     "metadata": {
      "needs_background": "light"
     },
     "output_type": "display_data"
    }
   ],
   "source": [
    "#Training the ABC_GAN \n",
    "ABC_train_test2.training_GAN(disc2,gen2,disc_opt,gen_opt,train_data,batch_size,n_epochs,criterion,prior_model,variance,bias,device)"
   ]
  },
  {
   "cell_type": "code",
   "execution_count": 17,
   "id": "e13a7423",
   "metadata": {
    "execution": {
     "iopub.execute_input": "2022-07-22T08:49:44.855534Z",
     "iopub.status.busy": "2022-07-22T08:49:44.854997Z",
     "iopub.status.idle": "2022-07-22T08:49:46.756167Z",
     "shell.execute_reply": "2022-07-22T08:49:46.754950Z"
    },
    "papermill": {
     "duration": 1.930631,
     "end_time": "2022-07-22T08:49:46.759112",
     "exception": false,
     "start_time": "2022-07-22T08:49:44.828481",
     "status": "completed"
    },
    "tags": []
   },
   "outputs": [
    {
     "data": {
      "application/scrapbook.scrap.json+json": {
       "data": 0.6783379046159587,
       "encoder": "json",
       "name": "ABC-GAN Model 1 MSE",
       "version": 1
      }
     },
     "metadata": {
      "scrapbook": {
       "data": true,
       "display": false,
       "name": "ABC-GAN Model 1 MSE"
      }
     },
     "output_type": "display_data"
    },
    {
     "data": {
      "application/scrapbook.scrap.json+json": {
       "data": 0.5906603853702546,
       "encoder": "json",
       "name": "ABC-GAN Model 1 MAE",
       "version": 1
      }
     },
     "metadata": {
      "scrapbook": {
       "data": true,
       "display": false,
       "name": "ABC-GAN Model 1 MAE"
      }
     },
     "output_type": "display_data"
    },
    {
     "data": {
      "application/scrapbook.scrap.json+json": {
       "data": 11.813207707405091,
       "encoder": "json",
       "name": "ABC-GAN Model 1 Manhattan Distance",
       "version": 1
      }
     },
     "metadata": {
      "scrapbook": {
       "data": true,
       "display": false,
       "name": "ABC-GAN Model 1 Manhattan Distance"
      }
     },
     "output_type": "display_data"
    },
    {
     "data": {
      "application/scrapbook.scrap.json+json": {
       "data": 3.6778064787145848,
       "encoder": "json",
       "name": "ABC-GAN Model 1 Euclidean distance",
       "version": 1
      }
     },
     "metadata": {
      "scrapbook": {
       "data": true,
       "display": false,
       "name": "ABC-GAN Model 1 Euclidean distance"
      }
     },
     "output_type": "display_data"
    },
    {
     "data": {
      "application/scrapbook.scrap.json+json": {
       "data": [
        [
         0.5817297436909797,
         0.795071637862249,
         0.7831862800829213,
         0.7105092122536267,
         0.5974505350197742,
         0.585509885539448,
         0.6099125174229775,
         0.7198776501759915,
         0.5540692497472954,
         0.8341719154390175,
         0.7788318061604177,
         0.877183092106411,
         0.7719865574998462,
         0.7759362837595325,
         0.6028607502956651,
         0.75810810958842,
         0.7804175848899594,
         0.595521241412372,
         0.6674386404675335,
         0.7343477342116487,
         0.6115564529415455,
         0.6765503447353518,
         0.595098558318882,
         0.6461449370161916,
         0.8005510216636866,
         0.5389717384578163,
         0.6337477091461913,
         0.6271078187274626,
         0.6108869028041373,
         0.5824359725705756,
         0.7388304414761538,
         0.6660361754398122,
         0.5984262623905238,
         0.6767572464719571,
         0.6458259740522487,
         0.7949600742414991,
         0.6476409662999166,
         0.6580428947162726,
         0.5812839465508834,
         0.7470362673363724,
         0.5988433714980137,
         0.7564511957891917,
         0.6345863112406793,
         0.7095456686194093,
         0.6300334018129078,
         0.6282706148244334,
         0.543904861797771,
         0.7482228534253121,
         0.5283230953812058,
         0.715391667414431,
         0.7235983423618777,
         0.7201640355550226,
         0.6850111332344107,
         0.6162563067943305,
         0.7253651758593596,
         0.7255642018488083,
         0.7483369686690535,
         0.7228198809237257,
         0.7672395233382806,
         0.6508859609176894,
         0.6846554437830229,
         0.7518999345628006,
         0.7026956167526607,
         0.6679405362049187,
         0.6572331339237049,
         0.6523516373825168,
         0.6566115599081864,
         0.6133787922460326,
         0.7843581205140407,
         0.6379718572034422,
         0.6470114434672228,
         0.661091861114731,
         0.6812888549218599,
         0.6727426978509956,
         0.6220406780846477,
         0.7020679390466517,
         0.582842168863537,
         0.644987317030864,
         0.5577038549309724,
         0.7135547258934103,
         0.592426539062683,
         0.7472605034997111,
         0.738296719721464,
         0.758496431703314,
         0.6478233689122205,
         0.7647170181416663,
         0.7906903112465652,
         0.6853216529119873,
         0.764289112515639,
         0.64225800348976,
         0.6905566311570556,
         0.6351560125335172,
         0.7654606357032645,
         0.6232302611066977,
         0.5739279151687523,
         0.6503963360173329,
         0.6982630810322681,
         0.7487583259066025,
         0.5570122233682117,
         0.6941945004214578
        ],
        [
         0.5186947958543897,
         0.660424759797752,
         0.6478547727689147,
         0.6218094764277339,
         0.5394560171291232,
         0.5673157265409827,
         0.5915742812678217,
         0.6105900598689914,
         0.5433249054476619,
         0.6480799121782184,
         0.6422653106972576,
         0.7169734282419086,
         0.6331555990502238,
         0.6141426866874099,
         0.550439471565187,
         0.6388181110844016,
         0.6271773790940642,
         0.5157800493761897,
         0.5740587396547199,
         0.6362994646653533,
         0.5752491315826773,
         0.5947677990421653,
         0.5519855612888932,
         0.5551772696897388,
         0.6469556642696261,
         0.4903645975515246,
         0.5339152147993446,
         0.6060397921130061,
         0.5674885986372828,
         0.5254108851775527,
         0.5773482834920287,
         0.6143715841695666,
         0.5688984552398324,
         0.6007490133866668,
         0.5499861126765608,
         0.630018968693912,
         0.6002430701628327,
         0.5519987864419817,
         0.5525310290977359,
         0.6220206441357732,
         0.5458377351984381,
         0.6586486713960766,
         0.592497449927032,
         0.6172408295795322,
         0.5547419561073184,
         0.5110132170841097,
         0.5033891765400768,
         0.5997184379026294,
         0.4759565157815814,
         0.5929361490532756,
         0.6366780078038573,
         0.5898027194663882,
         0.5943277103826403,
         0.5476799352094531,
         0.6263035310432314,
         0.6269858611747623,
         0.6420083684846759,
         0.6024315623566509,
         0.5905438685789705,
         0.5548082588240504,
         0.5778850777074694,
         0.6233798963949084,
         0.6115889413282275,
         0.5850093683227897,
         0.595615497045219,
         0.5896492248401046,
         0.6236160261556506,
         0.527622794918716,
         0.6921480493620038,
         0.5885456873103976,
         0.5697658030316234,
         0.6030386852100491,
         0.6324950283393264,
         0.5603601014241576,
         0.5636806583032012,
         0.6159213462844491,
         0.5604277355596423,
         0.6238070895895362,
         0.5443125305697322,
         0.5845610493794083,
         0.5241387886926532,
         0.6648313125595451,
         0.5888242153450847,
         0.6141655830666423,
         0.5695702394470572,
         0.6125899551436305,
         0.6455949099734426,
         0.595953012816608,
         0.6608840150758624,
         0.5795224590227008,
         0.6025086728855967,
         0.5848202435299754,
         0.6540514184162021,
         0.5341648383066058,
         0.5291848076507449,
         0.5885969771072268,
         0.6265210015699267,
         0.6142596511170269,
         0.5288216741755605,
         0.5962987991049886
        ],
        [
         10.373895917087793,
         13.208495195955038,
         12.957095455378294,
         12.436189528554678,
         10.789120342582464,
         11.346314530819654,
         11.831485625356436,
         12.211801197379827,
         10.866498108953238,
         12.961598243564367,
         12.84530621394515,
         14.339468564838171,
         12.663111981004477,
         12.282853733748198,
         11.00878943130374,
         12.776362221688032,
         12.543547581881285,
         10.315600987523794,
         11.481174793094397,
         12.725989293307066,
         11.504982631653547,
         11.895355980843306,
         11.039711225777864,
         11.103545393794775,
         12.939113285392523,
         9.807291951030493,
         10.67830429598689,
         12.120795842260122,
         11.349771972745657,
         10.508217703551054,
         11.546965669840574,
         12.287431683391333,
         11.377969104796648,
         12.014980267733335,
         10.999722253531218,
         12.60037937387824,
         12.004861403256655,
         11.039975728839636,
         11.050620581954718,
         12.440412882715464,
         10.916754703968763,
         13.172973427921534,
         11.84994899854064,
         12.344816591590643,
         11.094839122146368,
         10.220264341682196,
         10.067783530801535,
         11.994368758052588,
         9.519130315631628,
         11.858722981065512,
         12.733560156077147,
         11.796054389327765,
         11.886554207652807,
         10.953598704189062,
         12.52607062086463,
         12.539717223495245,
         12.840167369693518,
         12.048631247133017,
         11.810877371579409,
         11.096165176481009,
         11.55770155414939,
         12.467597927898169,
         12.23177882656455,
         11.700187366455793,
         11.912309940904379,
         11.792984496802092,
         12.472320523113012,
         10.552455898374319,
         13.842960987240076,
         11.770913746207952,
         11.395316060632467,
         12.060773704200983,
         12.649900566786528,
         11.207202028483152,
         11.273613166064024,
         12.318426925688982,
         11.208554711192846,
         12.476141791790724,
         10.886250611394644,
         11.691220987588167,
         10.482775773853064,
         13.2966262511909,
         11.776484306901693,
         12.283311661332846,
         11.391404788941145,
         12.25179910287261,
         12.911898199468851,
         11.919060256332159,
         13.217680301517248,
         11.590449180454016,
         12.050173457711935,
         11.696404870599508,
         13.081028368324041,
         10.683296766132116,
         10.583696153014898,
         11.771939542144537,
         12.530420031398535,
         12.285193022340536,
         10.57643348351121,
         11.925975982099771
        ],
        [
         3.4109521945960477,
         3.987660060391931,
         3.9577424880427006,
         3.7696398030942606,
         3.4567341090103363,
         3.4220166146278364,
         3.49259936844459,
         3.7944107584076647,
         3.328871429620842,
         4.084536486405813,
         3.946724733650467,
         4.188515469964056,
         3.9293423304666297,
         3.939381382297308,
         3.472350069608953,
         3.8938621177140313,
         3.9507406518017842,
         3.4511483347209864,
         3.6535972423559047,
         3.8323562835718934,
         3.4973031122324683,
         3.6784516980255475,
         3.4499233565947,
         3.594843354073141,
         4.001377317033939,
         3.283204953876064,
         3.5601901891505494,
         3.541490699486482,
         3.495388112367888,
         3.413022040862249,
         3.8440354875473086,
         3.649756636927487,
         3.459555643115236,
         3.679014124658825,
         3.593955965373668,
         3.987380278432192,
         3.5990025459838635,
         3.6277896706294115,
         3.4096449860678555,
         3.8653234465859962,
         3.4607611055893868,
         3.8896045963290193,
         3.5625449084627108,
         3.7670828730448953,
         3.549741967560199,
         3.5447725309938667,
         3.2981960578406215,
         3.8683920520684354,
         3.2506094671036867,
         3.782569675272171,
         3.8042038388127355,
         3.7951654392266554,
         3.701381183381173,
         3.5107159007653426,
         3.8088454309918105,
         3.8093679314259163,
         3.8686870348195743,
         3.802156969205048,
         3.917242712261472,
         3.608007652202776,
         3.7004200944839303,
         3.8778858533040927,
         3.7488548031436495,
         3.654970687173616,
         3.625556878394559,
         3.6120676554641578,
         3.6238420492846712,
         3.5025099350209774,
         3.9607022622611785,
         3.5720354343243637,
         3.5972529615450255,
         3.6361844318316168,
         3.691311027052204,
         3.668085870998648,
         3.5271537479521577,
         3.747180110554206,
         3.4142119701727274,
         3.591621686733902,
         3.3397720129702635,
         3.7777102215321126,
         3.4421694875839077,
         3.8659035256967056,
         3.8426467954301087,
         3.8948592572859777,
         3.599509324650293,
         3.910797918946123,
         3.9766576700705962,
         3.7022200175353905,
         3.9097036013376743,
         3.584014518636218,
         3.716333222834184,
         3.564143691080698,
         3.9126989040897704,
         3.530524779991489,
         3.388002110887041,
         3.6066503462834674,
         3.737012392359084,
         3.869776029453391,
         3.337700475981066,
         3.7261092319508236
        ]
       ],
       "encoder": "json",
       "name": "ABC_GAN_2 Metrics",
       "version": 1
      }
     },
     "metadata": {
      "scrapbook": {
       "data": true,
       "display": false,
       "name": "ABC_GAN_2 Metrics"
      }
     },
     "output_type": "display_data"
    },
    {
     "name": "stdout",
     "output_type": "stream",
     "text": [
      "MAE\n",
      "0.5906603853702546\n"
     ]
    }
   ],
   "source": [
    "ABC_GAN2_metrics=ABC_train_test2.test_generator(gen2,test_data,prior_model,variance,bias,\"1\",device)\n",
    "sb.glue(\"ABC_GAN_2 Metrics\",ABC_GAN2_metrics)\n",
    "\n",
    "print(\"MAE\")\n",
    "print(mean(ABC_GAN2_metrics[1]))"
   ]
  },
  {
   "cell_type": "code",
   "execution_count": 18,
   "id": "0362de14",
   "metadata": {
    "execution": {
     "iopub.execute_input": "2022-07-22T08:49:46.811165Z",
     "iopub.status.busy": "2022-07-22T08:49:46.810637Z",
     "iopub.status.idle": "2022-07-22T08:49:47.748859Z",
     "shell.execute_reply": "2022-07-22T08:49:47.747372Z"
    },
    "papermill": {
     "duration": 0.965331,
     "end_time": "2022-07-22T08:49:47.751851",
     "exception": false,
     "start_time": "2022-07-22T08:49:46.786520",
     "status": "completed"
    },
    "tags": []
   },
   "outputs": [
    {
     "data": {
      "image/png": "[encoded data removed]",
      "text/plain": [
       "<Figure size 432x288 with 1 Axes>"
      ]
     },
     "metadata": {
      "needs_background": "light"
     },
     "output_type": "display_data"
    },
    {
     "data": {
      "image/png": "[encoded data removed]",
      "text/plain": [
       "<Figure size 432x288 with 1 Axes>"
      ]
     },
     "metadata": {
      "needs_background": "light"
     },
     "output_type": "display_data"
    },
    {
     "data": {
      "image/png": "[encoded data removed]",
      "text/plain": [
       "<Figure size 432x288 with 1 Axes>"
      ]
     },
     "metadata": {
      "needs_background": "light"
     },
     "output_type": "display_data"
    },
    {
     "data": {
      "image/png": "[encoded data removed]",
      "text/plain": [
       "<Figure size 432x288 with 1 Axes>"
      ]
     },
     "metadata": {
      "needs_background": "light"
     },
     "output_type": "display_data"
    }
   ],
   "source": [
    "sanityChecks.discProbVsError(train_data,disc2,device)\n",
    "sanityChecks.discProbVsError(test_data,disc2,device)"
   ]
  },
  {
   "cell_type": "markdown",
   "id": "130f3a4d",
   "metadata": {
    "id": "130f3a4d",
    "papermill": {
     "duration": 0.022633,
     "end_time": "2022-07-22T08:49:47.797044",
     "exception": false,
     "start_time": "2022-07-22T08:49:47.774411",
     "status": "completed"
    },
    "tags": []
   },
   "source": [
    "# skipGAN Model"
   ]
  },
  {
   "cell_type": "code",
   "execution_count": 19,
   "id": "4e43dad1",
   "metadata": {
    "execution": {
     "iopub.execute_input": "2022-07-22T08:49:47.850438Z",
     "iopub.status.busy": "2022-07-22T08:49:47.850051Z",
     "iopub.status.idle": "2022-07-22T08:49:47.855939Z",
     "shell.execute_reply": "2022-07-22T08:49:47.854286Z"
    },
    "id": "4e43dad1",
    "papermill": {
     "duration": 0.036186,
     "end_time": "2022-07-22T08:49:47.859239",
     "exception": false,
     "start_time": "2022-07-22T08:49:47.823053",
     "status": "completed"
    },
    "tags": []
   },
   "outputs": [],
   "source": [
    "# #Generator\n",
    "# gen3 = network.GeneratorWithSkipConnection(n_features+1).to(device)\n",
    "# constraints=network.weightConstraint()\n",
    "# #Discriminator \n",
    "# disc3 = network.Discriminator(n_features+1).to(device)\n",
    "\n",
    "# criterion = torch.nn.BCELoss()\n",
    "# gen_opt = torch.optim.Adam(gen3.parameters(), lr=0.01, betas=(0.5, 0.999))\n",
    "# disc_opt = torch.optim.Adam(disc3.parameters(), lr=0.01, betas=(0.5, 0.999))\n"
   ]
  },
  {
   "cell_type": "code",
   "execution_count": 20,
   "id": "26acbc37",
   "metadata": {
    "execution": {
     "iopub.execute_input": "2022-07-22T08:49:47.906421Z",
     "iopub.status.busy": "2022-07-22T08:49:47.905940Z",
     "iopub.status.idle": "2022-07-22T08:49:47.912103Z",
     "shell.execute_reply": "2022-07-22T08:49:47.910969Z"
    },
    "id": "26acbc37",
    "papermill": {
     "duration": 0.035176,
     "end_time": "2022-07-22T08:49:47.914998",
     "exception": false,
     "start_time": "2022-07-22T08:49:47.879822",
     "status": "completed"
    },
    "tags": []
   },
   "outputs": [],
   "source": [
    "# ABC_train_test2.training_GAN_skip_connection(disc3,gen3,disc_opt,gen_opt,train_data,batch_size,n_epochs,criterion,prior_model,variance,bias,device)"
   ]
  },
  {
   "cell_type": "code",
   "execution_count": 21,
   "id": "c5e0717b",
   "metadata": {
    "execution": {
     "iopub.execute_input": "2022-07-22T08:49:47.962905Z",
     "iopub.status.busy": "2022-07-22T08:49:47.962548Z",
     "iopub.status.idle": "2022-07-22T08:49:47.966916Z",
     "shell.execute_reply": "2022-07-22T08:49:47.965817Z"
    },
    "id": "c5e0717b",
    "papermill": {
     "duration": 0.031337,
     "end_time": "2022-07-22T08:49:47.970051",
     "exception": false,
     "start_time": "2022-07-22T08:49:47.938714",
     "status": "completed"
    },
    "tags": []
   },
   "outputs": [],
   "source": [
    "# ABC_GAN3_metrics=ABC_train_test2.test_generator(gen3,test_data,prior_model,variance,bias,\"3\",device)\n",
    "# sb.glue(\"ABC_GAN_3 Metrics\",ABC_GAN3_metrics)\n",
    "\n",
    "# print(\"MAE\")\n",
    "# print(mean(ABC_GAN3_metrics[1]))"
   ]
  },
  {
   "cell_type": "code",
   "execution_count": 22,
   "id": "c8e46b48",
   "metadata": {
    "execution": {
     "iopub.execute_input": "2022-07-22T08:49:48.017092Z",
     "iopub.status.busy": "2022-07-22T08:49:48.016663Z",
     "iopub.status.idle": "2022-07-22T08:49:48.021201Z",
     "shell.execute_reply": "2022-07-22T08:49:48.020091Z"
    },
    "id": "c8e46b48",
    "papermill": {
     "duration": 0.032302,
     "end_time": "2022-07-22T08:49:48.026466",
     "exception": false,
     "start_time": "2022-07-22T08:49:47.994164",
     "status": "completed"
    },
    "tags": []
   },
   "outputs": [],
   "source": [
    "# sanityChecks.discProbVsError(train_data,disc3,device)\n",
    "# sanityChecks.discProbVsError(test_data,disc3,device)"
   ]
  },
  {
   "cell_type": "markdown",
   "id": "f6797a81",
   "metadata": {
    "id": "130f3a4d",
    "papermill": {
     "duration": 0.021686,
     "end_time": "2022-07-22T08:49:48.071591",
     "exception": false,
     "start_time": "2022-07-22T08:49:48.049905",
     "status": "completed"
    },
    "tags": []
   },
   "source": [
    "# skipGAN Model with TabNet Generator"
   ]
  },
  {
   "cell_type": "code",
   "execution_count": 23,
   "id": "2116d561",
   "metadata": {
    "execution": {
     "iopub.execute_input": "2022-07-22T08:49:48.142820Z",
     "iopub.status.busy": "2022-07-22T08:49:48.141818Z",
     "iopub.status.idle": "2022-07-22T08:49:48.160672Z",
     "shell.execute_reply": "2022-07-22T08:49:48.159341Z"
    },
    "id": "4e43dad1",
    "papermill": {
     "duration": 0.054638,
     "end_time": "2022-07-22T08:49:48.165585",
     "exception": false,
     "start_time": "2022-07-22T08:49:48.110947",
     "status": "completed"
    },
    "tags": []
   },
   "outputs": [],
   "source": [
    "#Generator\n",
    "gen4 = network.GeneratorTabnetskipConnection(n_features+1).to(device)\n",
    "constraints=network.weightConstraint()\n",
    "#Discriminator \n",
    "disc4 = network.Discriminator(n_features+1).to(device)\n",
    "\n",
    "criterion = torch.nn.BCELoss()\n",
    "gen_opt = torch.optim.Adam(gen4.parameters(), lr=0.001, betas=(0.5, 0.999))\n",
    "disc_opt = torch.optim.Adam(disc4.parameters(), lr=0.001, betas=(0.5, 0.999))\n"
   ]
  },
  {
   "cell_type": "code",
   "execution_count": 24,
   "id": "b281eac5",
   "metadata": {
    "execution": {
     "iopub.execute_input": "2022-07-22T08:49:48.236557Z",
     "iopub.status.busy": "2022-07-22T08:49:48.235507Z",
     "iopub.status.idle": "2022-07-22T08:53:09.992067Z",
     "shell.execute_reply": "2022-07-22T08:53:09.990814Z"
    },
    "id": "26acbc37",
    "papermill": {
     "duration": 201.795239,
     "end_time": "2022-07-22T08:53:09.994869",
     "exception": false,
     "start_time": "2022-07-22T08:49:48.199630",
     "status": "completed"
    },
    "tags": []
   },
   "outputs": [
    {
     "data": {
      "image/png": "[encoded data removed]",
      "text/plain": [
       "<Figure size 432x288 with 1 Axes>"
      ]
     },
     "metadata": {
      "needs_background": "light"
     },
     "output_type": "display_data"
    },
    {
     "data": {
      "image/png": "[encoded data removed]",
      "text/plain": [
       "<Figure size 432x288 with 1 Axes>"
      ]
     },
     "metadata": {
      "needs_background": "light"
     },
     "output_type": "display_data"
    }
   ],
   "source": [
    "ABC_train_test2.training_GAN_skip_connection(disc4,gen4,disc_opt,gen_opt,train_data,batch_size,n_epochs,criterion,prior_model,variance,bias,device)"
   ]
  },
  {
   "cell_type": "code",
   "execution_count": 25,
   "id": "ab87b788",
   "metadata": {
    "execution": {
     "iopub.execute_input": "2022-07-22T08:53:10.048494Z",
     "iopub.status.busy": "2022-07-22T08:53:10.048152Z",
     "iopub.status.idle": "2022-07-22T08:53:11.998369Z",
     "shell.execute_reply": "2022-07-22T08:53:11.996882Z"
    },
    "id": "c5e0717b",
    "papermill": {
     "duration": 1.980713,
     "end_time": "2022-07-22T08:53:12.001040",
     "exception": false,
     "start_time": "2022-07-22T08:53:10.020327",
     "status": "completed"
    },
    "tags": []
   },
   "outputs": [
    {
     "data": {
      "application/scrapbook.scrap.json+json": {
       "data": 0.8943822424559855,
       "encoder": "json",
       "name": "ABC-GAN Model 3 MSE",
       "version": 1
      }
     },
     "metadata": {
      "scrapbook": {
       "data": true,
       "display": false,
       "name": "ABC-GAN Model 3 MSE"
      }
     },
     "output_type": "display_data"
    },
    {
     "data": {
      "application/scrapbook.scrap.json+json": {
       "data": 0.6417035373817198,
       "encoder": "json",
       "name": "ABC-GAN Model 3 MAE",
       "version": 1
      }
     },
     "metadata": {
      "scrapbook": {
       "data": true,
       "display": false,
       "name": "ABC-GAN Model 3 MAE"
      }
     },
     "output_type": "display_data"
    },
    {
     "data": {
      "application/scrapbook.scrap.json+json": {
       "data": 12.834070747634396,
       "encoder": "json",
       "name": "ABC-GAN Model 3 Manhattan Distance",
       "version": 1
      }
     },
     "metadata": {
      "scrapbook": {
       "data": true,
       "display": false,
       "name": "ABC-GAN Model 3 Manhattan Distance"
      }
     },
     "output_type": "display_data"
    },
    {
     "data": {
      "application/scrapbook.scrap.json+json": {
       "data": 4.224228975203828,
       "encoder": "json",
       "name": "ABC-GAN Model 3 Euclidean distance",
       "version": 1
      }
     },
     "metadata": {
      "scrapbook": {
       "data": true,
       "display": false,
       "name": "ABC-GAN Model 3 Euclidean distance"
      }
     },
     "output_type": "display_data"
    },
    {
     "data": {
      "application/scrapbook.scrap.json+json": {
       "data": [
        [
         0.79263363052384,
         0.9744687948600885,
         0.912782632924222,
         0.8090045268041302,
         1.050989624176413,
         0.9152544145143123,
         0.902398698773348,
         0.8518482229174754,
         0.7322893263263435,
         0.8861831632860724,
         0.8631830530163036,
         0.7963302698495053,
         0.9618096901129413,
         0.8243163881427146,
         0.8841041323963733,
         0.9140835127317816,
         1.0957813596560233,
         1.041584174568905,
         0.6678000524158445,
         0.830642312877543,
         0.8066654249710673,
         0.8772704141910603,
         0.8157160944240018,
         0.9265572993125308,
         0.9002026176504089,
         1.0184484291561453,
         0.9396988839324336,
         0.9058333633694888,
         1.0158476768751745,
         0.9604419698801161,
         0.9467458073138744,
         0.9644893901669759,
         0.9479272630092476,
         0.7881219963319317,
         0.9560102132843437,
         0.8999097474221998,
         0.8673704785568882,
         0.8266692223371843,
         1.0440113891659002,
         0.9246113369607754,
         0.8920626994392021,
         0.9586128850978388,
         1.0247333651734236,
         0.8117938534584235,
         0.8189037681365485,
         0.9650250494856893,
         0.9039827810191087,
         0.8844172249889912,
         0.9645325380230443,
         0.8898291643244753,
         1.045007677801549,
         1.0385983418690625,
         0.9304980483138217,
         0.9537717563083928,
         1.0588837993198053,
         0.7759187839187742,
         0.8545903110375512,
         0.8514485169313855,
         0.8028189667843758,
         1.0685984779584883,
         0.9065781501699337,
         0.8651660357254813,
         0.8594561657706932,
         0.8116221508659753,
         0.7203801821725826,
         1.0899134095797949,
         0.8110075449353538,
         0.9553681208910193,
         0.8258925536980992,
         0.8353404474294251,
         0.8318117908867457,
         0.8338779628481348,
         0.9508535752246763,
         0.9918177917939301,
         0.7795321527633214,
         1.069269908901614,
         0.8979565614101676,
         0.8983780692621408,
         0.812317385411409,
         0.9153235531074042,
         0.8702683271930299,
         0.9081955893699722,
         0.8717352040966702,
         0.8495149399174533,
         0.9046007642123266,
         0.7631396566997909,
         0.9347173923466654,
         0.7407878450018986,
         0.850193300462125,
         0.974087851135012,
         0.7331821916878467,
         0.8823612486350687,
         0.9368651383252026,
         0.7882831963567769,
         0.8776657583111191,
         0.8932748883589419,
         0.8621894910847528,
         0.7672337388698184,
         0.8887214127352451,
         0.9452777893750547
        ],
        [
         0.6248766561970115,
         0.7396064484491944,
         0.6471049582585693,
         0.6373809313401579,
         0.717732940427959,
         0.6822694944217801,
         0.6742374861612916,
         0.5909748723730445,
         0.5345875086262822,
         0.6630656195804476,
         0.6665419901721179,
         0.5837158838286995,
         0.6917057637125253,
         0.6435891726985574,
         0.6198255984112621,
         0.6714949088171125,
         0.7655180668458342,
         0.6958971282001585,
         0.5739516846835613,
         0.6274693757295609,
         0.6450368316844106,
         0.6408848216757178,
         0.6130243169143796,
         0.6786308838054538,
         0.6558841427788138,
         0.7093865176662802,
         0.6335735669359565,
         0.635127099044621,
         0.6561106549575925,
         0.6711459117010236,
         0.5876699874177576,
         0.6723735669627786,
         0.6691215438768268,
         0.6221147676929831,
         0.7044758843258023,
         0.6363570062443614,
         0.6157134497538209,
         0.569887301698327,
         0.6993680151179433,
         0.6526423180475831,
         0.6488785145804286,
         0.6382150052115321,
         0.7129200479015708,
         0.6260869475081563,
         0.5832328716292977,
         0.6974522536620498,
         0.6607284976169467,
         0.6461018122732639,
         0.6601788586005568,
         0.6151550009846687,
         0.6442212855443359,
         0.6890817718580365,
         0.6720730198547245,
         0.6436077279970049,
         0.6691564531996846,
         0.6357356185093522,
         0.6703389739617706,
         0.6349839156493544,
         0.5878012472763657,
         0.6876562932506204,
         0.632595488242805,
         0.6466902369633317,
         0.6531371679157019,
         0.6265413515269757,
         0.5635732023045421,
         0.7063637642189861,
         0.6111666893586516,
         0.6925583532080054,
         0.6294266687706113,
         0.610740189626813,
         0.6151737017557025,
         0.638347489014268,
         0.6345671785995364,
         0.6595825342461467,
         0.5683914152905345,
         0.6656323561444879,
         0.6202373949810862,
         0.6163696745410562,
         0.5940616166219115,
         0.617725950293243,
         0.6784974848851562,
         0.6562827406451106,
         0.5861857239156961,
         0.59591149315238,
         0.5975373281165958,
         0.5512899519875646,
         0.6269497783854604,
         0.6083738060668111,
         0.6653520523570478,
         0.6289708351716399,
         0.6001914052292705,
         0.6723423449322581,
         0.65346475597471,
         0.5850998861715198,
         0.6555138660594821,
         0.6458647781983018,
         0.6118945760652423,
         0.6067613838240504,
         0.6518122609704733,
         0.6454936681315303
        ],
        [
         12.49753312394023,
         14.792128968983889,
         12.942099165171385,
         12.74761862680316,
         14.35465880855918,
         13.645389888435602,
         13.484749723225832,
         11.81949744746089,
         10.691750172525644,
         13.261312391608953,
         13.330839803442359,
         11.674317676573992,
         13.834115274250507,
         12.871783453971148,
         12.39651196822524,
         13.429898176342249,
         15.310361336916685,
         13.91794256400317,
         11.479033693671227,
         12.549387514591217,
         12.900736633688211,
         12.817696433514357,
         12.260486338287592,
         13.572617676109076,
         13.117682855576277,
         14.187730353325605,
         12.67147133871913,
         12.70254198089242,
         13.12221309915185,
         13.422918234020472,
         11.75339974835515,
         13.447471339255571,
         13.382430877536535,
         12.442295353859663,
         14.089517686516047,
         12.727140124887228,
         12.314268995076418,
         11.397746033966541,
         13.987360302358866,
         13.052846360951662,
         12.977570291608572,
         12.764300104230642,
         14.258400958031416,
         12.521738950163126,
         11.664657432585955,
         13.949045073240995,
         13.214569952338934,
         12.922036245465279,
         13.203577172011137,
         12.303100019693375,
         12.884425710886717,
         13.78163543716073,
         13.441460397094488,
         12.8721545599401,
         13.383129063993692,
         12.714712370187044,
         13.40677947923541,
         12.69967831298709,
         11.756024945527315,
         13.753125865012407,
         12.6519097648561,
         12.933804739266634,
         13.062743358314037,
         12.530827030539513,
         11.271464046090841,
         14.12727528437972,
         12.223333787173033,
         13.851167064160109,
         12.588533375412226,
         12.214803792536259,
         12.30347403511405,
         12.766949780285358,
         12.691343571990728,
         13.191650684922934,
         11.36782830581069,
         13.312647122889757,
         12.404747899621725,
         12.327393490821123,
         11.88123233243823,
         12.354519005864859,
         13.569949697703123,
         13.125654812902212,
         11.723714478313923,
         11.9182298630476,
         11.950746562331915,
         11.025799039751291,
         12.538995567709208,
         12.167476121336222,
         13.307041047140956,
         12.579416703432798,
         12.00382810458541,
         13.446846898645163,
         13.0692951194942,
         11.701997723430395,
         13.110277321189642,
         12.917295563966036,
         12.237891521304846,
         12.135227676481009,
         13.036245219409466,
         12.909873362630606
        ],
        [
         3.9815414867205385,
         4.4146773265100325,
         4.272663415070797,
         4.022448326092282,
         4.584734723354042,
         4.278444611104162,
         4.248290712212025,
         4.127585790549908,
         3.826981385704256,
         4.209948131001313,
         4.15495620438123,
         3.9908151293927543,
         4.385908549235703,
         4.060335917489376,
         4.205006854682578,
         4.275706988865775,
         4.6814129483651055,
         4.564173911167068,
         3.654586303306694,
         4.075885947564143,
         4.0166289969850775,
         4.188723944570853,
         4.039099143185277,
         4.304781758260297,
         4.243118234625118,
         4.513199373296388,
         4.335202149686757,
         4.256367849163155,
         4.507433142876718,
         4.382788997613543,
         4.351426909219261,
         4.392014094164489,
         4.354141162179397,
         3.970193940683331,
         4.372665578990334,
         4.242427954419968,
         4.165022157340554,
         4.066126467135975,
         4.569488787962829,
         4.300258915369574,
         4.223890859004769,
         4.378613673522337,
         4.527103632949932,
         4.029376759396976,
         4.0469834893079275,
         4.393233546001599,
         4.25201782926438,
         4.205751359719192,
         4.392112334681444,
         4.218599683128219,
         4.571668574605007,
         4.5576273254162905,
         4.3139263978742655,
         4.3675433742743595,
         4.6019209017969995,
         3.9393369592325413,
         4.134223774876128,
         4.126617299753844,
         4.007041219614233,
         4.62298275566433,
         4.258117307378776,
         4.159726038395994,
         4.145976762526999,
         4.028950609937966,
         3.795734927975299,
         4.668861551984156,
         4.027424847058859,
         4.371196909065112,
         4.064215923639145,
         4.0873963532533155,
         4.078754199229823,
         4.083816751148697,
         4.360856739735156,
         4.453802401979527,
         3.9484988356673516,
         4.62443490364307,
         4.237821519153838,
         4.238816035786741,
         4.030675837651569,
         4.278606205547325,
         4.171973938540436,
         4.261914099016948,
         4.175488484229528,
         4.121929014229753,
         4.2534709690141925,
         3.9067624875330997,
         4.3236960863286065,
         3.849124173112368,
         4.123574421450703,
         4.413814339400814,
         3.8293137549379437,
         4.200860027744483,
         4.328660620388719,
         3.9705999454913035,
         4.1896676677538975,
         4.226759724325342,
         4.15256424654635,
         3.917227945549808,
         4.215972990272222,
         4.348051953174099
        ]
       ],
       "encoder": "json",
       "name": "ABC_GAN_4 Metrics",
       "version": 1
      }
     },
     "metadata": {
      "scrapbook": {
       "data": true,
       "display": false,
       "name": "ABC_GAN_4 Metrics"
      }
     },
     "output_type": "display_data"
    },
    {
     "name": "stdout",
     "output_type": "stream",
     "text": [
      "MAE\n",
      "0.6417035373817198\n"
     ]
    }
   ],
   "source": [
    "ABC_GAN4_metrics=ABC_train_test2.test_generator(gen4,test_data,prior_model,variance,bias,\"3\",device)\n",
    "sb.glue(\"ABC_GAN_4 Metrics\",ABC_GAN4_metrics)\n",
    "\n",
    "print(\"MAE\")\n",
    "print(mean(ABC_GAN4_metrics[1]))"
   ]
  },
  {
   "cell_type": "code",
   "execution_count": 26,
   "id": "57314fa7",
   "metadata": {
    "execution": {
     "iopub.execute_input": "2022-07-22T08:53:12.057121Z",
     "iopub.status.busy": "2022-07-22T08:53:12.056499Z",
     "iopub.status.idle": "2022-07-22T08:53:13.419921Z",
     "shell.execute_reply": "2022-07-22T08:53:13.418757Z"
    },
    "id": "c8e46b48",
    "papermill": {
     "duration": 1.396427,
     "end_time": "2022-07-22T08:53:13.422562",
     "exception": false,
     "start_time": "2022-07-22T08:53:12.026135",
     "status": "completed"
    },
    "tags": []
   },
   "outputs": [
    {
     "data": {
      "image/png": "[encoded data removed]",
      "text/plain": [
       "<Figure size 432x288 with 1 Axes>"
      ]
     },
     "metadata": {
      "needs_background": "light"
     },
     "output_type": "display_data"
    },
    {
     "data": {
      "image/png": "[encoded data removed]",
      "text/plain": [
       "<Figure size 432x288 with 1 Axes>"
      ]
     },
     "metadata": {
      "needs_background": "light"
     },
     "output_type": "display_data"
    },
    {
     "data": {
      "image/png": "[encoded data removed]",
      "text/plain": [
       "<Figure size 432x288 with 1 Axes>"
      ]
     },
     "metadata": {
      "needs_background": "light"
     },
     "output_type": "display_data"
    },
    {
     "data": {
      "image/png": "[encoded data removed]",
      "text/plain": [
       "<Figure size 432x288 with 1 Axes>"
      ]
     },
     "metadata": {
      "needs_background": "light"
     },
     "output_type": "display_data"
    }
   ],
   "source": [
    "sanityChecks.discProbVsError(train_data,disc4,device)\n",
    "sanityChecks.discProbVsError(test_data,disc4,device)"
   ]
  },
  {
   "cell_type": "markdown",
   "id": "a5bd74c3",
   "metadata": {
    "id": "a5bd74c3",
    "papermill": {
     "duration": 0.02911,
     "end_time": "2022-07-22T08:53:13.483257",
     "exception": false,
     "start_time": "2022-07-22T08:53:13.454147",
     "status": "completed"
    },
    "tags": []
   },
   "source": [
    "## Skip Connection Model Analysis - ABC-GAN "
   ]
  },
  {
   "cell_type": "markdown",
   "id": "5744a8bf",
   "metadata": {
    "id": "5744a8bf",
    "papermill": {
     "duration": 0.041909,
     "end_time": "2022-07-22T08:53:13.551951",
     "exception": false,
     "start_time": "2022-07-22T08:53:13.510042",
     "status": "completed"
    },
    "tags": []
   },
   "source": [
    "### Weight Analysis \n",
    "\n",
    "Study the weights of the skip connection layer\n",
    "\n",
    "Equation of the skip connection is \n",
    "\n",
    "$output = y_{gan} * w + y_{abc} * (1-w)$"
   ]
  },
  {
   "cell_type": "code",
   "execution_count": 27,
   "id": "52c31dea",
   "metadata": {
    "execution": {
     "iopub.execute_input": "2022-07-22T08:53:13.620763Z",
     "iopub.status.busy": "2022-07-22T08:53:13.620055Z",
     "iopub.status.idle": "2022-07-22T08:53:13.626199Z",
     "shell.execute_reply": "2022-07-22T08:53:13.624081Z"
    },
    "id": "52c31dea",
    "papermill": {
     "duration": 0.037969,
     "end_time": "2022-07-22T08:53:13.628886",
     "exception": false,
     "start_time": "2022-07-22T08:53:13.590917",
     "status": "completed"
    },
    "tags": []
   },
   "outputs": [],
   "source": [
    "# print(\"Weight of the node at skip connection\")\n",
    "# for name,param in gen3.named_parameters():\n",
    "#     if(name == \"skipNode.weight\"):\n",
    "#         print(param)\n",
    "#         sb.glue(\"Skip Connection Weight\",param.item())"
   ]
  },
  {
   "cell_type": "markdown",
   "id": "3ec2bec8",
   "metadata": {
    "id": "a5bd74c3",
    "papermill": {
     "duration": 0.035713,
     "end_time": "2022-07-22T08:53:13.692843",
     "exception": false,
     "start_time": "2022-07-22T08:53:13.657130",
     "status": "completed"
    },
    "tags": []
   },
   "source": [
    "## skipGAN Model Analysis (TabNet Generator) "
   ]
  },
  {
   "cell_type": "markdown",
   "id": "ed578e5d",
   "metadata": {
    "id": "5744a8bf",
    "papermill": {
     "duration": 0.029904,
     "end_time": "2022-07-22T08:53:13.760952",
     "exception": false,
     "start_time": "2022-07-22T08:53:13.731048",
     "status": "completed"
    },
    "tags": []
   },
   "source": [
    "### Weight Analysis \n",
    "\n",
    "Study the weights of the skip connection layer\n",
    "\n",
    "Equation of the skip connection is \n",
    "\n",
    "$output = y_{gan} * w + y_{abc} * (1-w)$"
   ]
  },
  {
   "cell_type": "code",
   "execution_count": 28,
   "id": "17a6abf4",
   "metadata": {
    "execution": {
     "iopub.execute_input": "2022-07-22T08:53:13.854962Z",
     "iopub.status.busy": "2022-07-22T08:53:13.854607Z",
     "iopub.status.idle": "2022-07-22T08:53:13.869368Z",
     "shell.execute_reply": "2022-07-22T08:53:13.868308Z"
    },
    "id": "52c31dea",
    "papermill": {
     "duration": 0.047668,
     "end_time": "2022-07-22T08:53:13.872222",
     "exception": false,
     "start_time": "2022-07-22T08:53:13.824554",
     "status": "completed"
    },
    "tags": []
   },
   "outputs": [
    {
     "name": "stdout",
     "output_type": "stream",
     "text": [
      "Weight of the node at skip connection\n",
      "Parameter containing:\n",
      "tensor([[0.7565]], requires_grad=True)\n"
     ]
    },
    {
     "data": {
      "application/scrapbook.scrap.json+json": {
       "data": 0.7565299272537231,
       "encoder": "json",
       "name": "Skip Connection Weight",
       "version": 1
      }
     },
     "metadata": {
      "scrapbook": {
       "data": true,
       "display": false,
       "name": "Skip Connection Weight"
      }
     },
     "output_type": "display_data"
    }
   ],
   "source": [
    "print(\"Weight of the node at skip connection\")\n",
    "for name,param in gen4.named_parameters():\n",
    "    if(name == \"skipNode.weight\"):\n",
    "        print(param)\n",
    "        sb.glue(\"Skip Connection Weight\",param.item())"
   ]
  }
 ],
 "metadata": {
  "colab": {
   "collapsed_sections": [],
   "name": "ABC_GAN_Model-Catboost_Pre-gen.ipynb",
   "provenance": []
  },
  "interpreter": {
   "hash": "31f2aee4e71d21fbe5cf8b01ff0e069b9275f58929596ceb00d14d90e3e16cd6"
  },
  "kernelspec": {
   "display_name": "Python 3 (ipykernel)",
   "language": "python",
   "name": "python3"
  },
  "language_info": {
   "codemirror_mode": {
    "name": "ipython",
    "version": 3
   },
   "file_extension": ".py",
   "mimetype": "text/x-python",
   "name": "python",
   "nbconvert_exporter": "python",
   "pygments_lexer": "ipython3",
   "version": "3.8.13"
  },
  "papermill": {
   "default_parameters": {},
   "duration": 458.063744,
   "end_time": "2022-07-22T08:53:14.757222",
   "environment_variables": {},
   "exception": null,
   "input_path": "ABC_GAN-TabNet.ipynb",
   "output_path": "./ABC_GAN_TabNet/ABC-GAN_output_1_6.ipynb",
   "parameters": {
    "bias": 0.01,
    "variance": 1
   },
   "start_time": "2022-07-22T08:45:36.693478",
   "version": "2.3.3"
  }
 },
 "nbformat": 4,
 "nbformat_minor": 5
}