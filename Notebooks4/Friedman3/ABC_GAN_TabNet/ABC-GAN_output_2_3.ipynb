{
 "cells": [
  {
   "cell_type": "markdown",
   "id": "622780e6",
   "metadata": {
    "id": "622780e6",
    "papermill": {
     "duration": 0.008006,
     "end_time": "2022-07-22T10:03:39.613301",
     "exception": false,
     "start_time": "2022-07-22T10:03:39.605295",
     "status": "completed"
    },
    "tags": []
   },
   "source": [
    "## Import Libraries "
   ]
  },
  {
   "cell_type": "code",
   "execution_count": 1,
   "id": "a62397e3",
   "metadata": {
    "execution": {
     "iopub.execute_input": "2022-07-22T10:03:39.635266Z",
     "iopub.status.busy": "2022-07-22T10:03:39.634646Z",
     "iopub.status.idle": "2022-07-22T10:03:39.649751Z",
     "shell.execute_reply": "2022-07-22T10:03:39.648459Z"
    },
    "id": "a62397e3",
    "papermill": {
     "duration": 0.034496,
     "end_time": "2022-07-22T10:03:39.655490",
     "exception": false,
     "start_time": "2022-07-22T10:03:39.620994",
     "status": "completed"
    },
    "tags": []
   },
   "outputs": [],
   "source": [
    "import warnings\n",
    "import sys\n",
    "sys.path.insert(0, '../../src')\n",
    "warnings.filterwarnings('ignore')"
   ]
  },
  {
   "cell_type": "code",
   "execution_count": 2,
   "id": "d6a4e155",
   "metadata": {
    "execution": {
     "iopub.execute_input": "2022-07-22T10:03:39.675677Z",
     "iopub.status.busy": "2022-07-22T10:03:39.675315Z",
     "iopub.status.idle": "2022-07-22T10:03:47.089111Z",
     "shell.execute_reply": "2022-07-22T10:03:47.088170Z"
    },
    "id": "d6a4e155",
    "papermill": {
     "duration": 7.426266,
     "end_time": "2022-07-22T10:03:47.091827",
     "exception": false,
     "start_time": "2022-07-22T10:03:39.665561",
     "status": "completed"
    },
    "tags": []
   },
   "outputs": [],
   "source": [
    "import ABC_train_test2\n",
    "import friedman3Dataset\n",
    "import network\n",
    "import dataset\n",
    "import sanityChecks\n",
    "import torch \n",
    "import scrapbook as sb\n",
    "from statistics import mean \n",
    "import catboost as ctb \n",
    "from sklearn.model_selection import train_test_split\n",
    "from sklearn.metrics import mean_squared_error,mean_absolute_error\n",
    "import numpy as np\n",
    "from pytorch_tabnet.tab_model import TabNetRegressor"
   ]
  },
  {
   "cell_type": "markdown",
   "id": "2fa5b0f7",
   "metadata": {
    "id": "2fa5b0f7",
    "papermill": {
     "duration": 0.013372,
     "end_time": "2022-07-22T10:03:47.114375",
     "exception": false,
     "start_time": "2022-07-22T10:03:47.101003",
     "status": "completed"
    },
    "tags": []
   },
   "source": [
    "## Parameters "
   ]
  },
  {
   "cell_type": "code",
   "execution_count": 3,
   "id": "783186fb",
   "metadata": {
    "execution": {
     "iopub.execute_input": "2022-07-22T10:03:47.133935Z",
     "iopub.status.busy": "2022-07-22T10:03:47.133524Z",
     "iopub.status.idle": "2022-07-22T10:03:47.142953Z",
     "shell.execute_reply": "2022-07-22T10:03:47.141728Z"
    },
    "id": "783186fb",
    "papermill": {
     "duration": 0.024935,
     "end_time": "2022-07-22T10:03:47.148257",
     "exception": false,
     "start_time": "2022-07-22T10:03:47.123322",
     "status": "completed"
    },
    "tags": [
     "parameters"
    ]
   },
   "outputs": [],
   "source": [
    "variance = 1\n",
    "bias = 1 "
   ]
  },
  {
   "cell_type": "code",
   "execution_count": 4,
   "id": "d2c9e4c0",
   "metadata": {
    "execution": {
     "iopub.execute_input": "2022-07-22T10:03:47.172306Z",
     "iopub.status.busy": "2022-07-22T10:03:47.171970Z",
     "iopub.status.idle": "2022-07-22T10:03:47.176992Z",
     "shell.execute_reply": "2022-07-22T10:03:47.175870Z"
    },
    "papermill": {
     "duration": 0.017605,
     "end_time": "2022-07-22T10:03:47.180070",
     "exception": false,
     "start_time": "2022-07-22T10:03:47.162465",
     "status": "completed"
    },
    "tags": [
     "injected-parameters"
    ]
   },
   "outputs": [],
   "source": [
    "# Parameters\n",
    "variance = 1\n",
    "bias = 0.1\n"
   ]
  },
  {
   "cell_type": "markdown",
   "id": "391cdbfd",
   "metadata": {
    "id": "391cdbfd",
    "papermill": {
     "duration": 0.011839,
     "end_time": "2022-07-22T10:03:47.199911",
     "exception": false,
     "start_time": "2022-07-22T10:03:47.188072",
     "status": "completed"
    },
    "tags": []
   },
   "source": [
    "## Dataset \n"
   ]
  },
  {
   "cell_type": "code",
   "execution_count": 5,
   "id": "5b51f161",
   "metadata": {
    "execution": {
     "iopub.execute_input": "2022-07-22T10:03:47.225399Z",
     "iopub.status.busy": "2022-07-22T10:03:47.225060Z",
     "iopub.status.idle": "2022-07-22T10:03:47.230271Z",
     "shell.execute_reply": "2022-07-22T10:03:47.229227Z"
    },
    "id": "5b51f161",
    "papermill": {
     "duration": 0.019389,
     "end_time": "2022-07-22T10:03:47.233349",
     "exception": false,
     "start_time": "2022-07-22T10:03:47.213960",
     "status": "completed"
    },
    "tags": []
   },
   "outputs": [],
   "source": [
    "#Parameters \n",
    "n_features = 4\n",
    "n_samples= 100\n",
    "n_target = 1"
   ]
  },
  {
   "cell_type": "code",
   "execution_count": 6,
   "id": "5d6eced4",
   "metadata": {
    "execution": {
     "iopub.execute_input": "2022-07-22T10:03:47.258296Z",
     "iopub.status.busy": "2022-07-22T10:03:47.257692Z",
     "iopub.status.idle": "2022-07-22T10:03:47.278374Z",
     "shell.execute_reply": "2022-07-22T10:03:47.277310Z"
    },
    "id": "5d6eced4",
    "papermill": {
     "duration": 0.039793,
     "end_time": "2022-07-22T10:03:47.281285",
     "exception": false,
     "start_time": "2022-07-22T10:03:47.241492",
     "status": "completed"
    },
    "tags": []
   },
   "outputs": [
    {
     "name": "stdout",
     "output_type": "stream",
     "text": [
      "          X1           X2        X3        X4         Y\n",
      "0  44.485237   253.229010  0.681047  1.848283  1.273471\n",
      "1  50.866189  1449.520930  0.703099  5.315177  1.552199\n",
      "2  42.826414   592.735548  0.238882  1.301643  1.427445\n",
      "3  71.181621  1277.951386  0.374634  8.800277  1.308378\n",
      "4  85.187944  1032.665724  0.966155  6.750593  1.453434\n"
     ]
    }
   ],
   "source": [
    "X,Y = friedman3Dataset.friedman3_data(n_samples)"
   ]
  },
  {
   "cell_type": "code",
   "execution_count": 7,
   "id": "fe007438",
   "metadata": {
    "execution": {
     "iopub.execute_input": "2022-07-22T10:03:47.300942Z",
     "iopub.status.busy": "2022-07-22T10:03:47.300319Z",
     "iopub.status.idle": "2022-07-22T10:03:47.309019Z",
     "shell.execute_reply": "2022-07-22T10:03:47.308113Z"
    },
    "id": "fe007438",
    "papermill": {
     "duration": 0.022643,
     "end_time": "2022-07-22T10:03:47.312356",
     "exception": false,
     "start_time": "2022-07-22T10:03:47.289713",
     "status": "completed"
    },
    "tags": []
   },
   "outputs": [],
   "source": [
    "#Train test split for dataset \n",
    "X_train,X_test,Y_train,Y_test = train_test_split(X,Y,test_size = 0.2)\n",
    "train_data = dataset.CustomDataset(X_train,Y_train)\n",
    "test_data = dataset.CustomDataset(X_test,Y_test)\n"
   ]
  },
  {
   "cell_type": "markdown",
   "id": "a9a1af34",
   "metadata": {
    "id": "a9a1af34",
    "papermill": {
     "duration": 0.008181,
     "end_time": "2022-07-22T10:03:47.330658",
     "exception": false,
     "start_time": "2022-07-22T10:03:47.322477",
     "status": "completed"
    },
    "tags": []
   },
   "source": [
    "## Training Parameters "
   ]
  },
  {
   "cell_type": "code",
   "execution_count": 8,
   "id": "952b7fc8",
   "metadata": {
    "execution": {
     "iopub.execute_input": "2022-07-22T10:03:47.350192Z",
     "iopub.status.busy": "2022-07-22T10:03:47.349550Z",
     "iopub.status.idle": "2022-07-22T10:03:47.354995Z",
     "shell.execute_reply": "2022-07-22T10:03:47.353761Z"
    },
    "id": "952b7fc8",
    "papermill": {
     "duration": 0.022367,
     "end_time": "2022-07-22T10:03:47.361727",
     "exception": false,
     "start_time": "2022-07-22T10:03:47.339360",
     "status": "completed"
    },
    "tags": []
   },
   "outputs": [],
   "source": [
    "batch_size = 32\n",
    "n_epochs = 1000\n",
    "#Select the device \n",
    "device = torch.device('cuda' if torch.cuda.is_available() else 'cpu')"
   ]
  },
  {
   "cell_type": "markdown",
   "id": "a95e1600",
   "metadata": {
    "id": "a95e1600",
    "papermill": {
     "duration": 0.008648,
     "end_time": "2022-07-22T10:03:47.379164",
     "exception": false,
     "start_time": "2022-07-22T10:03:47.370516",
     "status": "completed"
    },
    "tags": []
   },
   "source": [
    "# ABC Pre-generator Model \n",
    "\n",
    "1. The catboost model is used as a pre-generator model for the ABC-GAN. \n",
    "2. The model is first trained on the entire dataset \n",
    "3. It generats X,Y pairs and we add some Gaussian noise with mean 0 and variance 1 to it which is then feed as input to the generator.\n"
   ]
  },
  {
   "cell_type": "code",
   "execution_count": 9,
   "id": "ac011ebf",
   "metadata": {
    "execution": {
     "iopub.execute_input": "2022-07-22T10:03:47.402123Z",
     "iopub.status.busy": "2022-07-22T10:03:47.401637Z",
     "iopub.status.idle": "2022-07-22T10:04:14.072400Z",
     "shell.execute_reply": "2022-07-22T10:04:14.071116Z"
    },
    "papermill": {
     "duration": 26.685378,
     "end_time": "2022-07-22T10:04:14.077206",
     "exception": false,
     "start_time": "2022-07-22T10:03:47.391828",
     "status": "completed"
    },
    "tags": []
   },
   "outputs": [
    {
     "name": "stdout",
     "output_type": "stream",
     "text": [
      "Device used : cpu\n"
     ]
    },
    {
     "name": "stdout",
     "output_type": "stream",
     "text": [
      "epoch 0  | loss: 0.98251 | train_mse: 5.15616 | train_mae: 1.67526 |  0:00:00s\n",
      "epoch 1  | loss: 1.09086 | train_mse: 3.49307 | train_mae: 1.46793 |  0:00:00s\n",
      "epoch 2  | loss: 0.84574 | train_mse: 2.88477 | train_mae: 1.36557 |  0:00:00s\n"
     ]
    },
    {
     "name": "stdout",
     "output_type": "stream",
     "text": [
      "epoch 3  | loss: 0.96004 | train_mse: 2.42735 | train_mae: 1.26138 |  0:00:00s\n",
      "epoch 4  | loss: 0.81582 | train_mse: 2.15006 | train_mae: 1.20678 |  0:00:00s\n"
     ]
    },
    {
     "name": "stdout",
     "output_type": "stream",
     "text": [
      "epoch 5  | loss: 0.78911 | train_mse: 2.07277 | train_mae: 1.16515 |  0:00:00s\n",
      "epoch 6  | loss: 0.69327 | train_mse: 1.87258 | train_mae: 1.08773 |  0:00:00s\n",
      "epoch 7  | loss: 0.81301 | train_mse: 1.6893  | train_mae: 1.03075 |  0:00:00s\n"
     ]
    },
    {
     "name": "stdout",
     "output_type": "stream",
     "text": [
      "epoch 8  | loss: 0.85778 | train_mse: 1.60296 | train_mae: 0.99949 |  0:00:01s\n",
      "epoch 9  | loss: 0.70412 | train_mse: 1.49982 | train_mae: 0.95532 |  0:00:01s\n",
      "epoch 10 | loss: 0.77379 | train_mse: 1.396   | train_mae: 0.91599 |  0:00:01s\n"
     ]
    },
    {
     "name": "stdout",
     "output_type": "stream",
     "text": [
      "epoch 11 | loss: 0.76723 | train_mse: 1.28748 | train_mae: 0.87614 |  0:00:01s\n",
      "epoch 12 | loss: 0.77115 | train_mse: 1.18956 | train_mae: 0.8334  |  0:00:01s\n",
      "epoch 13 | loss: 0.68237 | train_mse: 1.12059 | train_mae: 0.80662 |  0:00:01s\n"
     ]
    },
    {
     "name": "stdout",
     "output_type": "stream",
     "text": [
      "epoch 14 | loss: 0.75348 | train_mse: 1.06766 | train_mae: 0.78286 |  0:00:01s\n",
      "epoch 15 | loss: 0.71541 | train_mse: 1.02787 | train_mae: 0.75803 |  0:00:01s\n"
     ]
    },
    {
     "name": "stdout",
     "output_type": "stream",
     "text": [
      "epoch 16 | loss: 0.69364 | train_mse: 1.00654 | train_mae: 0.74283 |  0:00:01s\n",
      "epoch 17 | loss: 0.63729 | train_mse: 0.94421 | train_mae: 0.72074 |  0:00:01s\n",
      "epoch 18 | loss: 0.59008 | train_mse: 0.89376 | train_mae: 0.70278 |  0:00:01s\n"
     ]
    },
    {
     "name": "stdout",
     "output_type": "stream",
     "text": [
      "epoch 19 | loss: 0.72716 | train_mse: 0.84231 | train_mae: 0.68038 |  0:00:02s\n",
      "epoch 20 | loss: 0.63566 | train_mse: 0.80128 | train_mae: 0.66254 |  0:00:02s\n",
      "epoch 21 | loss: 0.67463 | train_mse: 0.77534 | train_mae: 0.65046 |  0:00:02s\n"
     ]
    },
    {
     "name": "stdout",
     "output_type": "stream",
     "text": [
      "epoch 22 | loss: 0.72739 | train_mse: 0.75334 | train_mae: 0.64469 |  0:00:02s\n",
      "epoch 23 | loss: 0.56118 | train_mse: 0.72323 | train_mae: 0.63089 |  0:00:02s\n",
      "epoch 24 | loss: 0.60158 | train_mse: 0.69403 | train_mae: 0.61419 |  0:00:02s\n"
     ]
    },
    {
     "name": "stdout",
     "output_type": "stream",
     "text": [
      "epoch 25 | loss: 0.64345 | train_mse: 0.67191 | train_mae: 0.60594 |  0:00:02s\n",
      "epoch 26 | loss: 0.53284 | train_mse: 0.65397 | train_mae: 0.59984 |  0:00:02s\n"
     ]
    },
    {
     "name": "stdout",
     "output_type": "stream",
     "text": [
      "epoch 27 | loss: 0.50212 | train_mse: 0.62871 | train_mae: 0.5879  |  0:00:02s\n",
      "epoch 28 | loss: 0.65985 | train_mse: 0.6167  | train_mae: 0.58042 |  0:00:02s\n",
      "epoch 29 | loss: 0.53641 | train_mse: 0.59952 | train_mae: 0.56837 |  0:00:03s\n"
     ]
    },
    {
     "name": "stdout",
     "output_type": "stream",
     "text": [
      "epoch 30 | loss: 0.67458 | train_mse: 0.58907 | train_mae: 0.5611  |  0:00:03s\n",
      "epoch 31 | loss: 0.63603 | train_mse: 0.57848 | train_mae: 0.55598 |  0:00:03s\n"
     ]
    },
    {
     "name": "stdout",
     "output_type": "stream",
     "text": [
      "epoch 32 | loss: 0.50153 | train_mse: 0.56616 | train_mae: 0.54806 |  0:00:03s\n",
      "epoch 33 | loss: 0.46472 | train_mse: 0.55416 | train_mae: 0.54146 |  0:00:03s\n",
      "epoch 34 | loss: 0.43953 | train_mse: 0.54319 | train_mae: 0.53506 |  0:00:03s\n"
     ]
    },
    {
     "name": "stdout",
     "output_type": "stream",
     "text": [
      "epoch 35 | loss: 0.55174 | train_mse: 0.54277 | train_mae: 0.53654 |  0:00:03s\n",
      "epoch 36 | loss: 0.47373 | train_mse: 0.54508 | train_mae: 0.53463 |  0:00:03s\n",
      "epoch 37 | loss: 0.59677 | train_mse: 0.52975 | train_mae: 0.52444 |  0:00:03s\n"
     ]
    },
    {
     "name": "stdout",
     "output_type": "stream",
     "text": [
      "epoch 38 | loss: 0.46093 | train_mse: 0.50605 | train_mae: 0.51225 |  0:00:03s\n",
      "epoch 39 | loss: 0.61256 | train_mse: 0.49018 | train_mae: 0.503   |  0:00:04s\n",
      "epoch 40 | loss: 0.47682 | train_mse: 0.47948 | train_mae: 0.49508 |  0:00:04s\n"
     ]
    },
    {
     "name": "stdout",
     "output_type": "stream",
     "text": [
      "epoch 41 | loss: 0.43645 | train_mse: 0.46386 | train_mae: 0.49099 |  0:00:04s\n",
      "epoch 42 | loss: 0.48689 | train_mse: 0.45029 | train_mae: 0.48475 |  0:00:04s\n",
      "epoch 43 | loss: 0.32355 | train_mse: 0.43863 | train_mae: 0.47745 |  0:00:04s\n"
     ]
    },
    {
     "name": "stdout",
     "output_type": "stream",
     "text": [
      "epoch 44 | loss: 0.47543 | train_mse: 0.42447 | train_mae: 0.4703  |  0:00:04s\n",
      "epoch 45 | loss: 0.55793 | train_mse: 0.41937 | train_mae: 0.46807 |  0:00:04s\n"
     ]
    },
    {
     "name": "stdout",
     "output_type": "stream",
     "text": [
      "epoch 46 | loss: 0.51539 | train_mse: 0.41312 | train_mae: 0.46493 |  0:00:04s\n",
      "epoch 47 | loss: 0.50219 | train_mse: 0.40707 | train_mae: 0.46357 |  0:00:04s\n",
      "epoch 48 | loss: 0.39029 | train_mse: 0.39515 | train_mae: 0.45789 |  0:00:04s\n"
     ]
    },
    {
     "name": "stdout",
     "output_type": "stream",
     "text": [
      "epoch 49 | loss: 0.48245 | train_mse: 0.39141 | train_mae: 0.45794 |  0:00:05s\n",
      "epoch 50 | loss: 0.49486 | train_mse: 0.37992 | train_mae: 0.44958 |  0:00:05s\n",
      "epoch 51 | loss: 0.46297 | train_mse: 0.37014 | train_mae: 0.44456 |  0:00:05s\n"
     ]
    },
    {
     "name": "stdout",
     "output_type": "stream",
     "text": [
      "epoch 52 | loss: 0.51157 | train_mse: 0.35762 | train_mae: 0.43522 |  0:00:05s\n",
      "epoch 53 | loss: 0.46529 | train_mse: 0.35023 | train_mae: 0.42862 |  0:00:05s\n",
      "epoch 54 | loss: 0.38646 | train_mse: 0.34121 | train_mae: 0.42495 |  0:00:05s\n"
     ]
    },
    {
     "name": "stdout",
     "output_type": "stream",
     "text": [
      "epoch 55 | loss: 0.38186 | train_mse: 0.33481 | train_mae: 0.4227  |  0:00:05s\n",
      "epoch 56 | loss: 0.40498 | train_mse: 0.33393 | train_mae: 0.4251  |  0:00:05s\n"
     ]
    },
    {
     "name": "stdout",
     "output_type": "stream",
     "text": [
      "epoch 57 | loss: 0.49848 | train_mse: 0.33382 | train_mae: 0.4248  |  0:00:05s\n",
      "epoch 58 | loss: 0.44733 | train_mse: 0.3331  | train_mae: 0.42328 |  0:00:05s\n",
      "epoch 59 | loss: 0.37964 | train_mse: 0.33556 | train_mae: 0.42217 |  0:00:06s\n"
     ]
    },
    {
     "name": "stdout",
     "output_type": "stream",
     "text": [
      "epoch 60 | loss: 0.3785  | train_mse: 0.33418 | train_mae: 0.42049 |  0:00:06s\n",
      "epoch 61 | loss: 0.40295 | train_mse: 0.3236  | train_mae: 0.41589 |  0:00:06s\n",
      "epoch 62 | loss: 0.33337 | train_mse: 0.31599 | train_mae: 0.40789 |  0:00:06s\n"
     ]
    },
    {
     "name": "stdout",
     "output_type": "stream",
     "text": [
      "epoch 63 | loss: 0.334   | train_mse: 0.30892 | train_mae: 0.40541 |  0:00:06s\n",
      "epoch 64 | loss: 0.43023 | train_mse: 0.30089 | train_mae: 0.39961 |  0:00:06s\n",
      "epoch 65 | loss: 0.3668  | train_mse: 0.29768 | train_mae: 0.39368 |  0:00:06s\n"
     ]
    },
    {
     "name": "stdout",
     "output_type": "stream",
     "text": [
      "epoch 66 | loss: 0.42099 | train_mse: 0.28972 | train_mae: 0.39311 |  0:00:06s\n",
      "epoch 67 | loss: 0.39483 | train_mse: 0.2852  | train_mae: 0.3916  |  0:00:06s\n",
      "epoch 68 | loss: 0.30602 | train_mse: 0.27629 | train_mae: 0.38674 |  0:00:06s\n"
     ]
    },
    {
     "name": "stdout",
     "output_type": "stream",
     "text": [
      "epoch 69 | loss: 0.29482 | train_mse: 0.27028 | train_mae: 0.38421 |  0:00:07s\n",
      "epoch 70 | loss: 0.40111 | train_mse: 0.26415 | train_mae: 0.38242 |  0:00:07s\n",
      "epoch 71 | loss: 0.39572 | train_mse: 0.26452 | train_mae: 0.38473 |  0:00:07s\n"
     ]
    },
    {
     "name": "stdout",
     "output_type": "stream",
     "text": [
      "epoch 72 | loss: 0.38377 | train_mse: 0.26089 | train_mae: 0.38339 |  0:00:07s\n",
      "epoch 73 | loss: 0.50737 | train_mse: 0.25499 | train_mae: 0.38082 |  0:00:07s\n",
      "epoch 74 | loss: 0.32321 | train_mse: 0.25212 | train_mae: 0.37825 |  0:00:07s\n"
     ]
    },
    {
     "name": "stdout",
     "output_type": "stream",
     "text": [
      "epoch 75 | loss: 0.36605 | train_mse: 0.24427 | train_mae: 0.37098 |  0:00:07s\n",
      "epoch 76 | loss: 0.32113 | train_mse: 0.23845 | train_mae: 0.36558 |  0:00:07s\n"
     ]
    },
    {
     "name": "stdout",
     "output_type": "stream",
     "text": [
      "epoch 77 | loss: 0.34437 | train_mse: 0.23345 | train_mae: 0.36016 |  0:00:07s\n",
      "epoch 78 | loss: 0.4278  | train_mse: 0.22771 | train_mae: 0.3554  |  0:00:07s\n",
      "epoch 79 | loss: 0.26303 | train_mse: 0.22426 | train_mae: 0.35285 |  0:00:07s\n"
     ]
    },
    {
     "name": "stdout",
     "output_type": "stream",
     "text": [
      "epoch 80 | loss: 0.35703 | train_mse: 0.22303 | train_mae: 0.35322 |  0:00:08s\n",
      "epoch 81 | loss: 0.40395 | train_mse: 0.22409 | train_mae: 0.35673 |  0:00:08s\n",
      "epoch 82 | loss: 0.30769 | train_mse: 0.22338 | train_mae: 0.35599 |  0:00:08s\n"
     ]
    },
    {
     "name": "stdout",
     "output_type": "stream",
     "text": [
      "epoch 83 | loss: 0.38063 | train_mse: 0.21972 | train_mae: 0.3545  |  0:00:08s\n",
      "epoch 84 | loss: 0.44256 | train_mse: 0.21765 | train_mae: 0.35163 |  0:00:08s\n",
      "epoch 85 | loss: 0.36091 | train_mse: 0.21388 | train_mae: 0.34832 |  0:00:08s\n"
     ]
    },
    {
     "name": "stdout",
     "output_type": "stream",
     "text": [
      "epoch 86 | loss: 0.53386 | train_mse: 0.20965 | train_mae: 0.34573 |  0:00:08s\n",
      "epoch 87 | loss: 0.39245 | train_mse: 0.20658 | train_mae: 0.34209 |  0:00:08s\n"
     ]
    },
    {
     "name": "stdout",
     "output_type": "stream",
     "text": [
      "epoch 88 | loss: 0.32439 | train_mse: 0.20147 | train_mae: 0.33533 |  0:00:08s\n",
      "epoch 89 | loss: 0.28575 | train_mse: 0.19917 | train_mae: 0.33439 |  0:00:08s\n",
      "epoch 90 | loss: 0.35076 | train_mse: 0.19984 | train_mae: 0.33905 |  0:00:08s\n"
     ]
    },
    {
     "name": "stdout",
     "output_type": "stream",
     "text": [
      "epoch 91 | loss: 0.33681 | train_mse: 0.19671 | train_mae: 0.33674 |  0:00:09s\n",
      "epoch 92 | loss: 0.28457 | train_mse: 0.1919  | train_mae: 0.33337 |  0:00:09s\n",
      "epoch 93 | loss: 0.31463 | train_mse: 0.1901  | train_mae: 0.33332 |  0:00:09s\n"
     ]
    },
    {
     "name": "stdout",
     "output_type": "stream",
     "text": [
      "epoch 94 | loss: 0.4257  | train_mse: 0.18813 | train_mae: 0.33588 |  0:00:09s\n",
      "epoch 95 | loss: 0.24252 | train_mse: 0.18691 | train_mae: 0.33675 |  0:00:09s\n",
      "epoch 96 | loss: 0.34115 | train_mse: 0.18577 | train_mae: 0.33441 |  0:00:09s\n"
     ]
    },
    {
     "name": "stdout",
     "output_type": "stream",
     "text": [
      "epoch 97 | loss: 0.33227 | train_mse: 0.18843 | train_mae: 0.33941 |  0:00:09s\n",
      "epoch 98 | loss: 0.21898 | train_mse: 0.18669 | train_mae: 0.33818 |  0:00:09s\n"
     ]
    },
    {
     "name": "stdout",
     "output_type": "stream",
     "text": [
      "epoch 99 | loss: 0.35529 | train_mse: 0.18705 | train_mae: 0.34127 |  0:00:09s\n",
      "epoch 100| loss: 0.29827 | train_mse: 0.1896  | train_mae: 0.34508 |  0:00:09s\n",
      "epoch 101| loss: 0.26776 | train_mse: 0.18597 | train_mae: 0.34031 |  0:00:09s\n"
     ]
    },
    {
     "name": "stdout",
     "output_type": "stream",
     "text": [
      "epoch 102| loss: 0.26678 | train_mse: 0.18088 | train_mae: 0.33504 |  0:00:10s\n",
      "epoch 103| loss: 0.23898 | train_mse: 0.1745  | train_mae: 0.32696 |  0:00:10s\n",
      "epoch 104| loss: 0.2133  | train_mse: 0.17172 | train_mae: 0.32182 |  0:00:10s\n"
     ]
    },
    {
     "name": "stdout",
     "output_type": "stream",
     "text": [
      "epoch 105| loss: 0.28255 | train_mse: 0.16883 | train_mae: 0.32403 |  0:00:10s\n",
      "epoch 106| loss: 0.22562 | train_mse: 0.16492 | train_mae: 0.32136 |  0:00:10s\n",
      "epoch 107| loss: 0.25562 | train_mse: 0.16083 | train_mae: 0.3148  |  0:00:10s\n"
     ]
    },
    {
     "name": "stdout",
     "output_type": "stream",
     "text": [
      "epoch 108| loss: 0.3032  | train_mse: 0.16038 | train_mae: 0.31672 |  0:00:10s\n",
      "epoch 109| loss: 0.36871 | train_mse: 0.16071 | train_mae: 0.31912 |  0:00:10s\n"
     ]
    },
    {
     "name": "stdout",
     "output_type": "stream",
     "text": [
      "epoch 110| loss: 0.26813 | train_mse: 0.15781 | train_mae: 0.31796 |  0:00:10s\n",
      "epoch 111| loss: 0.22288 | train_mse: 0.15914 | train_mae: 0.31947 |  0:00:10s\n",
      "epoch 112| loss: 0.24612 | train_mse: 0.16077 | train_mae: 0.32194 |  0:00:10s\n"
     ]
    },
    {
     "name": "stdout",
     "output_type": "stream",
     "text": [
      "epoch 113| loss: 0.30771 | train_mse: 0.15522 | train_mae: 0.31765 |  0:00:11s\n",
      "epoch 114| loss: 0.32135 | train_mse: 0.14755 | train_mae: 0.3085  |  0:00:11s\n",
      "epoch 115| loss: 0.27873 | train_mse: 0.14128 | train_mae: 0.30107 |  0:00:11s\n"
     ]
    },
    {
     "name": "stdout",
     "output_type": "stream",
     "text": [
      "epoch 116| loss: 0.26819 | train_mse: 0.14157 | train_mae: 0.30373 |  0:00:11s\n",
      "epoch 117| loss: 0.30762 | train_mse: 0.14074 | train_mae: 0.30098 |  0:00:11s\n",
      "epoch 118| loss: 0.20637 | train_mse: 0.15864 | train_mae: 0.31098 |  0:00:11s\n"
     ]
    },
    {
     "name": "stdout",
     "output_type": "stream",
     "text": [
      "epoch 119| loss: 0.38568 | train_mse: 0.17582 | train_mae: 0.31867 |  0:00:11s\n",
      "epoch 120| loss: 0.22945 | train_mse: 0.17425 | train_mae: 0.31751 |  0:00:11s\n",
      "epoch 121| loss: 0.24679 | train_mse: 0.17334 | train_mae: 0.31787 |  0:00:11s\n"
     ]
    },
    {
     "name": "stdout",
     "output_type": "stream",
     "text": [
      "epoch 122| loss: 0.27192 | train_mse: 0.17264 | train_mae: 0.3168  |  0:00:11s\n",
      "epoch 123| loss: 0.28338 | train_mse: 0.17246 | train_mae: 0.31716 |  0:00:11s\n",
      "epoch 124| loss: 0.3139  | train_mse: 0.17063 | train_mae: 0.31691 |  0:00:12s\n"
     ]
    },
    {
     "name": "stdout",
     "output_type": "stream",
     "text": [
      "epoch 125| loss: 0.20654 | train_mse: 0.17003 | train_mae: 0.31698 |  0:00:12s\n",
      "epoch 126| loss: 0.22258 | train_mse: 0.167   | train_mae: 0.31461 |  0:00:12s\n",
      "epoch 127| loss: 0.22858 | train_mse: 0.14665 | train_mae: 0.30467 |  0:00:12s\n"
     ]
    },
    {
     "name": "stdout",
     "output_type": "stream",
     "text": [
      "epoch 128| loss: 0.30151 | train_mse: 0.13965 | train_mae: 0.29866 |  0:00:12s\n",
      "epoch 129| loss: 0.23488 | train_mse: 0.14801 | train_mae: 0.30842 |  0:00:12s\n",
      "epoch 130| loss: 0.23433 | train_mse: 0.14819 | train_mae: 0.30853 |  0:00:12s\n"
     ]
    },
    {
     "name": "stdout",
     "output_type": "stream",
     "text": [
      "epoch 131| loss: 0.22275 | train_mse: 0.14755 | train_mae: 0.30531 |  0:00:12s\n",
      "epoch 132| loss: 0.24801 | train_mse: 0.14402 | train_mae: 0.30415 |  0:00:12s\n",
      "epoch 133| loss: 0.22519 | train_mse: 0.13971 | train_mae: 0.30236 |  0:00:12s\n"
     ]
    },
    {
     "name": "stdout",
     "output_type": "stream",
     "text": [
      "epoch 134| loss: 0.26594 | train_mse: 0.13727 | train_mae: 0.30059 |  0:00:12s\n",
      "epoch 135| loss: 0.32729 | train_mse: 0.13294 | train_mae: 0.29501 |  0:00:13s\n",
      "epoch 136| loss: 0.32598 | train_mse: 0.12399 | train_mae: 0.28665 |  0:00:13s\n"
     ]
    },
    {
     "name": "stdout",
     "output_type": "stream",
     "text": [
      "epoch 137| loss: 0.16515 | train_mse: 0.12402 | train_mae: 0.28522 |  0:00:13s\n",
      "epoch 138| loss: 0.15828 | train_mse: 0.12332 | train_mae: 0.28484 |  0:00:13s\n",
      "epoch 139| loss: 0.2996  | train_mse: 0.12654 | train_mae: 0.28705 |  0:00:13s\n"
     ]
    },
    {
     "name": "stdout",
     "output_type": "stream",
     "text": [
      "epoch 140| loss: 0.22586 | train_mse: 0.12807 | train_mae: 0.28737 |  0:00:13s\n",
      "epoch 141| loss: 0.19436 | train_mse: 0.12613 | train_mae: 0.28544 |  0:00:13s\n"
     ]
    },
    {
     "name": "stdout",
     "output_type": "stream",
     "text": [
      "epoch 142| loss: 0.29818 | train_mse: 0.12353 | train_mae: 0.28499 |  0:00:13s\n",
      "epoch 143| loss: 0.16433 | train_mse: 0.12365 | train_mae: 0.28385 |  0:00:13s\n",
      "epoch 144| loss: 0.20116 | train_mse: 0.11697 | train_mae: 0.27793 |  0:00:13s\n"
     ]
    },
    {
     "name": "stdout",
     "output_type": "stream",
     "text": [
      "epoch 145| loss: 0.32648 | train_mse: 0.11353 | train_mae: 0.27321 |  0:00:14s\n",
      "epoch 146| loss: 0.22647 | train_mse: 0.12064 | train_mae: 0.28343 |  0:00:14s\n",
      "epoch 147| loss: 0.20764 | train_mse: 0.13678 | train_mae: 0.291   |  0:00:14s\n"
     ]
    },
    {
     "name": "stdout",
     "output_type": "stream",
     "text": [
      "epoch 148| loss: 0.27084 | train_mse: 0.13203 | train_mae: 0.28646 |  0:00:14s\n",
      "epoch 149| loss: 0.26858 | train_mse: 0.11967 | train_mae: 0.27876 |  0:00:14s\n",
      "epoch 150| loss: 0.25727 | train_mse: 0.11553 | train_mae: 0.27664 |  0:00:14s\n"
     ]
    },
    {
     "name": "stdout",
     "output_type": "stream",
     "text": [
      "epoch 151| loss: 0.23922 | train_mse: 0.10989 | train_mae: 0.27152 |  0:00:14s\n",
      "epoch 152| loss: 0.21017 | train_mse: 0.11751 | train_mae: 0.27447 |  0:00:14s\n"
     ]
    },
    {
     "name": "stdout",
     "output_type": "stream",
     "text": [
      "epoch 153| loss: 0.19118 | train_mse: 0.11089 | train_mae: 0.2713  |  0:00:14s\n",
      "epoch 154| loss: 0.29736 | train_mse: 0.12955 | train_mae: 0.28062 |  0:00:14s\n",
      "epoch 155| loss: 0.16561 | train_mse: 0.1359  | train_mae: 0.28263 |  0:00:14s\n"
     ]
    },
    {
     "name": "stdout",
     "output_type": "stream",
     "text": [
      "epoch 156| loss: 0.2819  | train_mse: 0.13794 | train_mae: 0.2832  |  0:00:15s\n",
      "epoch 157| loss: 0.21236 | train_mse: 0.13842 | train_mae: 0.28351 |  0:00:15s\n",
      "epoch 158| loss: 0.26682 | train_mse: 0.13939 | train_mae: 0.28586 |  0:00:15s\n"
     ]
    },
    {
     "name": "stdout",
     "output_type": "stream",
     "text": [
      "epoch 159| loss: 0.23356 | train_mse: 0.14035 | train_mae: 0.29051 |  0:00:15s\n",
      "epoch 160| loss: 0.28074 | train_mse: 0.14033 | train_mae: 0.29269 |  0:00:15s\n",
      "epoch 161| loss: 0.45046 | train_mse: 0.14406 | train_mae: 0.29839 |  0:00:15s\n"
     ]
    },
    {
     "name": "stdout",
     "output_type": "stream",
     "text": [
      "epoch 162| loss: 0.25489 | train_mse: 0.14476 | train_mae: 0.30024 |  0:00:15s\n",
      "epoch 163| loss: 0.20372 | train_mse: 0.14377 | train_mae: 0.29892 |  0:00:15s\n",
      "epoch 164| loss: 0.25002 | train_mse: 0.14009 | train_mae: 0.29595 |  0:00:15s\n"
     ]
    },
    {
     "name": "stdout",
     "output_type": "stream",
     "text": [
      "epoch 165| loss: 0.39613 | train_mse: 0.13852 | train_mae: 0.29497 |  0:00:15s\n",
      "epoch 166| loss: 0.22884 | train_mse: 0.13608 | train_mae: 0.29225 |  0:00:15s\n",
      "epoch 167| loss: 0.21331 | train_mse: 0.13388 | train_mae: 0.29124 |  0:00:15s\n"
     ]
    },
    {
     "name": "stdout",
     "output_type": "stream",
     "text": [
      "epoch 168| loss: 0.18015 | train_mse: 0.13164 | train_mae: 0.28677 |  0:00:16s\n",
      "epoch 169| loss: 0.21895 | train_mse: 0.12989 | train_mae: 0.28572 |  0:00:16s\n",
      "epoch 170| loss: 0.23831 | train_mse: 0.12885 | train_mae: 0.28681 |  0:00:16s\n"
     ]
    },
    {
     "name": "stdout",
     "output_type": "stream",
     "text": [
      "epoch 171| loss: 0.30509 | train_mse: 0.12719 | train_mae: 0.28409 |  0:00:16s\n",
      "epoch 172| loss: 0.17239 | train_mse: 0.12557 | train_mae: 0.28102 |  0:00:16s\n",
      "epoch 173| loss: 0.34139 | train_mse: 0.12465 | train_mae: 0.28047 |  0:00:16s\n"
     ]
    },
    {
     "name": "stdout",
     "output_type": "stream",
     "text": [
      "epoch 174| loss: 0.2638  | train_mse: 0.1256  | train_mae: 0.2812  |  0:00:16s\n",
      "epoch 175| loss: 0.2099  | train_mse: 0.12335 | train_mae: 0.28209 |  0:00:16s\n"
     ]
    },
    {
     "name": "stdout",
     "output_type": "stream",
     "text": [
      "epoch 176| loss: 0.20413 | train_mse: 0.11883 | train_mae: 0.27989 |  0:00:16s\n",
      "epoch 177| loss: 0.19973 | train_mse: 0.11354 | train_mae: 0.27923 |  0:00:16s\n",
      "epoch 178| loss: 0.17871 | train_mse: 0.1224  | train_mae: 0.28614 |  0:00:17s\n",
      "epoch 179| loss: 0.17949 | train_mse: 0.12334 | train_mae: 0.2862  |  0:00:17s\n"
     ]
    },
    {
     "name": "stdout",
     "output_type": "stream",
     "text": [
      "epoch 180| loss: 0.15702 | train_mse: 0.12704 | train_mae: 0.28715 |  0:00:17s\n",
      "epoch 181| loss: 0.22178 | train_mse: 0.12659 | train_mae: 0.28503 |  0:00:17s\n",
      "epoch 182| loss: 0.30152 | train_mse: 0.12479 | train_mae: 0.28128 |  0:00:17s\n"
     ]
    },
    {
     "name": "stdout",
     "output_type": "stream",
     "text": [
      "epoch 183| loss: 0.20808 | train_mse: 0.12206 | train_mae: 0.2764  |  0:00:17s\n",
      "epoch 184| loss: 0.23874 | train_mse: 0.11987 | train_mae: 0.27338 |  0:00:17s\n",
      "epoch 185| loss: 0.18858 | train_mse: 0.11814 | train_mae: 0.26992 |  0:00:17s\n"
     ]
    },
    {
     "name": "stdout",
     "output_type": "stream",
     "text": [
      "epoch 186| loss: 0.19928 | train_mse: 0.11757 | train_mae: 0.27005 |  0:00:17s\n",
      "epoch 187| loss: 0.17039 | train_mse: 0.11686 | train_mae: 0.27064 |  0:00:17s\n",
      "epoch 188| loss: 0.16705 | train_mse: 0.11424 | train_mae: 0.26907 |  0:00:17s\n"
     ]
    },
    {
     "name": "stdout",
     "output_type": "stream",
     "text": [
      "epoch 189| loss: 0.18388 | train_mse: 0.11118 | train_mae: 0.26718 |  0:00:18s\n",
      "epoch 190| loss: 0.16079 | train_mse: 0.11052 | train_mae: 0.26695 |  0:00:18s\n",
      "epoch 191| loss: 0.19146 | train_mse: 0.10819 | train_mae: 0.26536 |  0:00:18s\n"
     ]
    },
    {
     "name": "stdout",
     "output_type": "stream",
     "text": [
      "epoch 192| loss: 0.26266 | train_mse: 0.10556 | train_mae: 0.26369 |  0:00:18s\n",
      "epoch 193| loss: 0.25848 | train_mse: 0.10462 | train_mae: 0.26048 |  0:00:18s\n",
      "epoch 194| loss: 0.23112 | train_mse: 0.10322 | train_mae: 0.26107 |  0:00:18s\n"
     ]
    },
    {
     "name": "stdout",
     "output_type": "stream",
     "text": [
      "epoch 195| loss: 0.23707 | train_mse: 0.1004  | train_mae: 0.25889 |  0:00:18s\n",
      "epoch 196| loss: 0.29099 | train_mse: 0.09548 | train_mae: 0.25302 |  0:00:18s\n"
     ]
    },
    {
     "name": "stdout",
     "output_type": "stream",
     "text": [
      "epoch 197| loss: 0.23592 | train_mse: 0.08947 | train_mae: 0.24617 |  0:00:18s\n",
      "epoch 198| loss: 0.26557 | train_mse: 0.09249 | train_mae: 0.25    |  0:00:18s\n",
      "epoch 199| loss: 0.27865 | train_mse: 0.09296 | train_mae: 0.25233 |  0:00:19s\n"
     ]
    },
    {
     "name": "stdout",
     "output_type": "stream",
     "text": [
      "epoch 200| loss: 0.18619 | train_mse: 0.08885 | train_mae: 0.25101 |  0:00:19s\n",
      "epoch 201| loss: 0.23305 | train_mse: 0.08592 | train_mae: 0.24687 |  0:00:19s\n",
      "epoch 202| loss: 0.16798 | train_mse: 0.09892 | train_mae: 0.25645 |  0:00:19s\n"
     ]
    },
    {
     "name": "stdout",
     "output_type": "stream",
     "text": [
      "epoch 203| loss: 0.1777  | train_mse: 0.09968 | train_mae: 0.2561  |  0:00:19s\n",
      "epoch 204| loss: 0.18437 | train_mse: 0.09425 | train_mae: 0.25669 |  0:00:19s\n"
     ]
    },
    {
     "name": "stdout",
     "output_type": "stream",
     "text": [
      "epoch 205| loss: 0.34502 | train_mse: 0.09532 | train_mae: 0.25813 |  0:00:19s\n",
      "epoch 206| loss: 0.25153 | train_mse: 0.09339 | train_mae: 0.2546  |  0:00:19s\n",
      "epoch 207| loss: 0.15049 | train_mse: 0.09009 | train_mae: 0.24946 |  0:00:19s\n"
     ]
    },
    {
     "name": "stdout",
     "output_type": "stream",
     "text": [
      "epoch 208| loss: 0.14603 | train_mse: 0.08494 | train_mae: 0.24232 |  0:00:19s\n",
      "epoch 209| loss: 0.19604 | train_mse: 0.08325 | train_mae: 0.23797 |  0:00:20s\n",
      "epoch 210| loss: 0.23734 | train_mse: 0.08219 | train_mae: 0.24021 |  0:00:20s\n"
     ]
    },
    {
     "name": "stdout",
     "output_type": "stream",
     "text": [
      "epoch 211| loss: 0.24575 | train_mse: 0.09287 | train_mae: 0.25087 |  0:00:20s\n",
      "epoch 212| loss: 0.14818 | train_mse: 0.10165 | train_mae: 0.2584  |  0:00:20s\n",
      "epoch 213| loss: 0.23157 | train_mse: 0.11148 | train_mae: 0.26264 |  0:00:20s\n"
     ]
    },
    {
     "name": "stdout",
     "output_type": "stream",
     "text": [
      "epoch 214| loss: 0.31383 | train_mse: 0.11597 | train_mae: 0.26214 |  0:00:20s\n",
      "epoch 215| loss: 0.23872 | train_mse: 0.11914 | train_mae: 0.26177 |  0:00:20s\n"
     ]
    },
    {
     "name": "stdout",
     "output_type": "stream",
     "text": [
      "epoch 216| loss: 0.23096 | train_mse: 0.11775 | train_mae: 0.26094 |  0:00:20s\n",
      "epoch 217| loss: 0.26184 | train_mse: 0.1095  | train_mae: 0.25543 |  0:00:20s\n",
      "epoch 218| loss: 0.20495 | train_mse: 0.10425 | train_mae: 0.252   |  0:00:20s\n",
      "epoch 219| loss: 0.18012 | train_mse: 0.10073 | train_mae: 0.24821 |  0:00:20s\n"
     ]
    },
    {
     "name": "stdout",
     "output_type": "stream",
     "text": [
      "epoch 220| loss: 0.1998  | train_mse: 0.09697 | train_mae: 0.24842 |  0:00:21s\n",
      "epoch 221| loss: 0.15574 | train_mse: 0.09444 | train_mae: 0.24583 |  0:00:21s\n",
      "epoch 222| loss: 0.23626 | train_mse: 0.09487 | train_mae: 0.246   |  0:00:21s\n"
     ]
    },
    {
     "name": "stdout",
     "output_type": "stream",
     "text": [
      "epoch 223| loss: 0.2155  | train_mse: 0.09524 | train_mae: 0.24342 |  0:00:21s\n",
      "epoch 224| loss: 0.2013  | train_mse: 0.09207 | train_mae: 0.2418  |  0:00:21s\n",
      "epoch 225| loss: 0.17889 | train_mse: 0.08928 | train_mae: 0.23991 |  0:00:21s\n"
     ]
    },
    {
     "name": "stdout",
     "output_type": "stream",
     "text": [
      "epoch 226| loss: 0.17434 | train_mse: 0.08128 | train_mae: 0.23221 |  0:00:21s\n",
      "epoch 227| loss: 0.19319 | train_mse: 0.07972 | train_mae: 0.23096 |  0:00:21s\n"
     ]
    },
    {
     "name": "stdout",
     "output_type": "stream",
     "text": [
      "epoch 228| loss: 0.1497  | train_mse: 0.09219 | train_mae: 0.2394  |  0:00:21s\n",
      "epoch 229| loss: 0.163   | train_mse: 0.09385 | train_mae: 0.24105 |  0:00:21s\n",
      "epoch 230| loss: 0.22748 | train_mse: 0.09664 | train_mae: 0.24432 |  0:00:22s\n"
     ]
    },
    {
     "name": "stdout",
     "output_type": "stream",
     "text": [
      "epoch 231| loss: 0.20784 | train_mse: 0.10116 | train_mae: 0.24846 |  0:00:22s\n",
      "epoch 232| loss: 0.1405  | train_mse: 0.09962 | train_mae: 0.24916 |  0:00:22s\n",
      "epoch 233| loss: 0.1923  | train_mse: 0.09809 | train_mae: 0.24948 |  0:00:22s\n"
     ]
    },
    {
     "name": "stdout",
     "output_type": "stream",
     "text": [
      "epoch 234| loss: 0.21421 | train_mse: 0.0989  | train_mae: 0.25032 |  0:00:22s\n",
      "epoch 235| loss: 0.2039  | train_mse: 0.10029 | train_mae: 0.25246 |  0:00:22s\n",
      "epoch 236| loss: 0.19009 | train_mse: 0.10063 | train_mae: 0.25284 |  0:00:22s\n"
     ]
    },
    {
     "name": "stdout",
     "output_type": "stream",
     "text": [
      "epoch 237| loss: 0.20081 | train_mse: 0.09985 | train_mae: 0.25025 |  0:00:22s\n",
      "epoch 238| loss: 0.30811 | train_mse: 0.10068 | train_mae: 0.25093 |  0:00:22s\n"
     ]
    },
    {
     "name": "stdout",
     "output_type": "stream",
     "text": [
      "epoch 239| loss: 0.17492 | train_mse: 0.10202 | train_mae: 0.25078 |  0:00:22s\n",
      "epoch 240| loss: 0.1733  | train_mse: 0.1039  | train_mae: 0.25216 |  0:00:23s\n"
     ]
    },
    {
     "name": "stdout",
     "output_type": "stream",
     "text": [
      "epoch 241| loss: 0.27581 | train_mse: 0.10498 | train_mae: 0.25459 |  0:00:23s\n",
      "epoch 242| loss: 0.18522 | train_mse: 0.105   | train_mae: 0.25468 |  0:00:23s\n",
      "epoch 243| loss: 0.22684 | train_mse: 0.10434 | train_mae: 0.25641 |  0:00:23s\n"
     ]
    },
    {
     "name": "stdout",
     "output_type": "stream",
     "text": [
      "epoch 244| loss: 0.30464 | train_mse: 0.10215 | train_mae: 0.25723 |  0:00:23s\n",
      "epoch 245| loss: 0.16971 | train_mse: 0.09232 | train_mae: 0.24985 |  0:00:23s\n"
     ]
    },
    {
     "name": "stdout",
     "output_type": "stream",
     "text": [
      "epoch 246| loss: 0.20453 | train_mse: 0.09451 | train_mae: 0.25452 |  0:00:23s\n",
      "epoch 247| loss: 0.20969 | train_mse: 0.1038  | train_mae: 0.26475 |  0:00:23s\n"
     ]
    },
    {
     "name": "stdout",
     "output_type": "stream",
     "text": [
      "epoch 248| loss: 0.2222  | train_mse: 0.10675 | train_mae: 0.26673 |  0:00:23s\n",
      "epoch 249| loss: 0.18898 | train_mse: 0.11056 | train_mae: 0.27018 |  0:00:23s\n",
      "epoch 250| loss: 0.16968 | train_mse: 0.11064 | train_mae: 0.27152 |  0:00:23s\n"
     ]
    },
    {
     "name": "stdout",
     "output_type": "stream",
     "text": [
      "epoch 251| loss: 0.19917 | train_mse: 0.11037 | train_mae: 0.27106 |  0:00:24s\n",
      "epoch 252| loss: 0.14758 | train_mse: 0.10688 | train_mae: 0.26465 |  0:00:24s\n",
      "epoch 253| loss: 0.15023 | train_mse: 0.10161 | train_mae: 0.26033 |  0:00:24s\n"
     ]
    },
    {
     "name": "stdout",
     "output_type": "stream",
     "text": [
      "epoch 254| loss: 0.18017 | train_mse: 0.10009 | train_mae: 0.25713 |  0:00:24s\n",
      "epoch 255| loss: 0.16699 | train_mse: 0.09953 | train_mae: 0.25533 |  0:00:24s\n",
      "epoch 256| loss: 0.1441  | train_mse: 0.09861 | train_mae: 0.25425 |  0:00:24s\n"
     ]
    },
    {
     "name": "stdout",
     "output_type": "stream",
     "text": [
      "epoch 257| loss: 0.16555 | train_mse: 0.09657 | train_mae: 0.25347 |  0:00:24s\n",
      "epoch 258| loss: 0.14959 | train_mse: 0.09602 | train_mae: 0.25261 |  0:00:24s\n",
      "epoch 259| loss: 0.18948 | train_mse: 0.09194 | train_mae: 0.24817 |  0:00:24s\n"
     ]
    },
    {
     "name": "stdout",
     "output_type": "stream",
     "text": [
      "epoch 260| loss: 0.14093 | train_mse: 0.09032 | train_mae: 0.24334 |  0:00:24s\n",
      "epoch 261| loss: 0.15355 | train_mse: 0.08087 | train_mae: 0.23458 |  0:00:25s\n",
      "epoch 262| loss: 0.16631 | train_mse: 0.08044 | train_mae: 0.23427 |  0:00:25s\n"
     ]
    },
    {
     "name": "stdout",
     "output_type": "stream",
     "text": [
      "epoch 263| loss: 0.22875 | train_mse: 0.08495 | train_mae: 0.23923 |  0:00:25s\n",
      "epoch 264| loss: 0.17265 | train_mse: 0.08996 | train_mae: 0.24355 |  0:00:25s\n",
      "epoch 265| loss: 0.29677 | train_mse: 0.08661 | train_mae: 0.24279 |  0:00:25s\n"
     ]
    },
    {
     "name": "stdout",
     "output_type": "stream",
     "text": [
      "epoch 266| loss: 0.16391 | train_mse: 0.08854 | train_mae: 0.24708 |  0:00:25s\n",
      "epoch 267| loss: 0.18609 | train_mse: 0.08556 | train_mae: 0.24321 |  0:00:25s\n"
     ]
    },
    {
     "name": "stdout",
     "output_type": "stream",
     "text": [
      "epoch 268| loss: 0.21075 | train_mse: 0.09348 | train_mae: 0.25074 |  0:00:25s\n",
      "epoch 269| loss: 0.14876 | train_mse: 0.09661 | train_mae: 0.25225 |  0:00:25s\n"
     ]
    },
    {
     "name": "stdout",
     "output_type": "stream",
     "text": [
      "epoch 270| loss: 0.18605 | train_mse: 0.08912 | train_mae: 0.24683 |  0:00:25s\n",
      "epoch 271| loss: 0.17089 | train_mse: 0.08552 | train_mae: 0.24392 |  0:00:25s\n",
      "epoch 272| loss: 0.12093 | train_mse: 0.09011 | train_mae: 0.24919 |  0:00:26s\n"
     ]
    },
    {
     "name": "stdout",
     "output_type": "stream",
     "text": [
      "epoch 273| loss: 0.16805 | train_mse: 0.08276 | train_mae: 0.23941 |  0:00:26s\n",
      "epoch 274| loss: 0.19403 | train_mse: 0.08158 | train_mae: 0.23898 |  0:00:26s\n"
     ]
    },
    {
     "name": "stdout",
     "output_type": "stream",
     "text": [
      "epoch 275| loss: 0.34147 | train_mse: 0.09532 | train_mae: 0.25066 |  0:00:26s\n",
      "epoch 276| loss: 0.15451 | train_mse: 0.09829 | train_mae: 0.25543 |  0:00:26s\n",
      "epoch 277| loss: 0.19502 | train_mse: 0.09614 | train_mae: 0.25488 |  0:00:26s\n",
      "\n",
      "Early stopping occurred at epoch 277 with best_epoch = 227 and best_train_mae = 0.23096\n",
      "Best weights from best epoch are automatically used!\n"
     ]
    }
   ],
   "source": [
    "#Train the Model\n",
    "\n",
    "Y_train = np.reshape(Y_train, (-1, 1))\n",
    "Y_test = np.reshape(Y_test, (-1, 1))\n",
    "\n",
    "prior_model = TabNetRegressor(optimizer_fn=torch.optim.Adam, optimizer_params=dict(lr = 0.001),\n",
    "          #scheduler_params={\"step_size\":10, ], \"gamma\":0.9},\n",
    "          #scheduler_fn=torch.optim.lr_scheduler.StepLR\n",
    "          )  #TabNetRegressor()\n",
    "\n",
    "prior_model.fit(X_train,Y_train,eval_set=[(X_train, Y_train)],\n",
    "            eval_name=['train'], \n",
    "            eval_metric=[ 'mse', 'mae'], \n",
    "            max_epochs = n_epochs, \n",
    "            batch_size = batch_size,\n",
    "            patience=50\n",
    "            )"
   ]
  },
  {
   "cell_type": "code",
   "execution_count": 10,
   "id": "af65dcda",
   "metadata": {
    "execution": {
     "iopub.execute_input": "2022-07-22T10:04:14.119727Z",
     "iopub.status.busy": "2022-07-22T10:04:14.119362Z",
     "iopub.status.idle": "2022-07-22T10:04:14.176774Z",
     "shell.execute_reply": "2022-07-22T10:04:14.175832Z"
    },
    "id": "af65dcda",
    "papermill": {
     "duration": 0.08386,
     "end_time": "2022-07-22T10:04:14.179569",
     "exception": false,
     "start_time": "2022-07-22T10:04:14.095709",
     "status": "completed"
    },
    "tags": []
   },
   "outputs": [
    {
     "data": {
      "application/scrapbook.scrap.json+json": {
       "data": 0.4316043864810394,
       "encoder": "json",
       "name": "Prior Model MSE",
       "version": 1
      }
     },
     "metadata": {
      "scrapbook": {
       "data": true,
       "display": false,
       "name": "Prior Model MSE"
      }
     },
     "output_type": "display_data"
    },
    {
     "data": {
      "application/scrapbook.scrap.json+json": {
       "data": 1.8171012367644512,
       "encoder": "json",
       "name": "ABC Pre-generator MSE",
       "version": 1
      }
     },
     "metadata": {
      "scrapbook": {
       "data": true,
       "display": false,
       "name": "ABC Pre-generator MSE"
      }
     },
     "output_type": "display_data"
    },
    {
     "data": {
      "application/scrapbook.scrap.json+json": {
       "data": 0.5003084981131432,
       "encoder": "json",
       "name": "Prior Model MAE",
       "version": 1
      }
     },
     "metadata": {
      "scrapbook": {
       "data": true,
       "display": false,
       "name": "Prior Model MAE"
      }
     },
     "output_type": "display_data"
    },
    {
     "name": "stdout",
     "output_type": "stream",
     "text": [
      "Prior Model MAE 0.5003084981131432\n"
     ]
    },
    {
     "data": {
      "application/scrapbook.scrap.json+json": {
       "data": 1.0949775255347105,
       "encoder": "json",
       "name": "ABC Pre-generator MAE",
       "version": 1
      }
     },
     "metadata": {
      "scrapbook": {
       "data": true,
       "display": false,
       "name": "ABC Pre-generator MAE"
      }
     },
     "output_type": "display_data"
    },
    {
     "name": "stdout",
     "output_type": "stream",
     "text": [
      "ABC Pre-generator MAE 1.0949775255347105\n"
     ]
    }
   ],
   "source": [
    "y_pred = prior_model.predict(X_test)\n",
    "y_abc = y_pred + np.random.normal(0,variance, y_pred.shape) + bias \n",
    "mse = mean_squared_error(y_pred,Y_test)\n",
    "sb.glue(\"Prior Model MSE\",mse)\n",
    "mse = mean_squared_error(y_abc,Y_test)\n",
    "sb.glue(\"ABC Pre-generator MSE\",mse)\n",
    "mae = mean_absolute_error(y_pred,Y_test)\n",
    "sb.glue(\"Prior Model MAE\",mae)\n",
    "print(\"Prior Model MAE\",mae)\n",
    "mae = mean_absolute_error(y_abc,Y_test)\n",
    "sb.glue(\"ABC Pre-generator MAE\",mae)\n",
    "print(\"ABC Pre-generator MAE\",mae)"
   ]
  },
  {
   "cell_type": "markdown",
   "id": "25609da2",
   "metadata": {
    "papermill": {
     "duration": 0.024897,
     "end_time": "2022-07-22T10:04:14.225067",
     "exception": false,
     "start_time": "2022-07-22T10:04:14.200170",
     "status": "completed"
    },
    "tags": []
   },
   "source": [
    "# mGAN Model"
   ]
  },
  {
   "cell_type": "code",
   "execution_count": 11,
   "id": "dfc3464d",
   "metadata": {
    "execution": {
     "iopub.execute_input": "2022-07-22T10:04:14.271355Z",
     "iopub.status.busy": "2022-07-22T10:04:14.270419Z",
     "iopub.status.idle": "2022-07-22T10:04:14.275808Z",
     "shell.execute_reply": "2022-07-22T10:04:14.274793Z"
    },
    "papermill": {
     "duration": 0.034849,
     "end_time": "2022-07-22T10:04:14.278785",
     "exception": false,
     "start_time": "2022-07-22T10:04:14.243936",
     "status": "completed"
    },
    "tags": []
   },
   "outputs": [],
   "source": [
    "# gen = network.Generator(n_features+1).to(device)\n",
    "# disc = network.Discriminator(n_features+1).to(device)\n",
    "\n",
    "# criterion = torch.nn.BCELoss()\n",
    "# gen_opt = torch.optim.Adam(gen.parameters(), lr=0.001, betas=(0.5, 0.999))\n",
    "# disc_opt = torch.optim.Adam(disc.parameters(), lr=0.001, betas=(0.5, 0.999))"
   ]
  },
  {
   "cell_type": "code",
   "execution_count": 12,
   "id": "b75fdd85",
   "metadata": {
    "execution": {
     "iopub.execute_input": "2022-07-22T10:04:14.319719Z",
     "iopub.status.busy": "2022-07-22T10:04:14.318908Z",
     "iopub.status.idle": "2022-07-22T10:04:14.324190Z",
     "shell.execute_reply": "2022-07-22T10:04:14.322539Z"
    },
    "papermill": {
     "duration": 0.031814,
     "end_time": "2022-07-22T10:04:14.328694",
     "exception": false,
     "start_time": "2022-07-22T10:04:14.296880",
     "status": "completed"
    },
    "tags": []
   },
   "outputs": [],
   "source": [
    "#Training the ABC_GAN \n",
    "# ABC_train_test2.training_GAN(disc,gen,disc_opt,gen_opt,train_data,batch_size,n_epochs,criterion,prior_model,variance,bias,device)"
   ]
  },
  {
   "cell_type": "code",
   "execution_count": 13,
   "id": "1fa7c368",
   "metadata": {
    "execution": {
     "iopub.execute_input": "2022-07-22T10:04:14.364363Z",
     "iopub.status.busy": "2022-07-22T10:04:14.363690Z",
     "iopub.status.idle": "2022-07-22T10:04:14.368383Z",
     "shell.execute_reply": "2022-07-22T10:04:14.367371Z"
    },
    "papermill": {
     "duration": 0.026331,
     "end_time": "2022-07-22T10:04:14.371729",
     "exception": false,
     "start_time": "2022-07-22T10:04:14.345398",
     "status": "completed"
    },
    "tags": []
   },
   "outputs": [],
   "source": [
    "# ABC_GAN1_metrics=ABC_train_test2.test_generator(gen,test_data,prior_model,variance,bias,\"1\",device)\n",
    "# sb.glue(\"ABC_GAN_1 Metrics\",ABC_GAN1_metrics)\n",
    "\n",
    "# print(\"MAE\")\n",
    "# print(mean(ABC_GAN1_metrics[1]))"
   ]
  },
  {
   "cell_type": "code",
   "execution_count": 14,
   "id": "eb22ce5c",
   "metadata": {
    "execution": {
     "iopub.execute_input": "2022-07-22T10:04:14.412669Z",
     "iopub.status.busy": "2022-07-22T10:04:14.411960Z",
     "iopub.status.idle": "2022-07-22T10:04:14.416965Z",
     "shell.execute_reply": "2022-07-22T10:04:14.415583Z"
    },
    "papermill": {
     "duration": 0.030757,
     "end_time": "2022-07-22T10:04:14.420605",
     "exception": false,
     "start_time": "2022-07-22T10:04:14.389848",
     "status": "completed"
    },
    "tags": []
   },
   "outputs": [],
   "source": [
    "# sanityChecks.discProbVsError(train_data,disc,device)\n",
    "# sanityChecks.discProbVsError(test_data,disc,device)"
   ]
  },
  {
   "cell_type": "markdown",
   "id": "d34624aa",
   "metadata": {
    "papermill": {
     "duration": 0.017057,
     "end_time": "2022-07-22T10:04:14.453908",
     "exception": false,
     "start_time": "2022-07-22T10:04:14.436851",
     "status": "completed"
    },
    "tags": []
   },
   "source": [
    "# mGAN Model with TabNet Generator"
   ]
  },
  {
   "cell_type": "code",
   "execution_count": 15,
   "id": "41663cf2",
   "metadata": {
    "execution": {
     "iopub.execute_input": "2022-07-22T10:04:14.496200Z",
     "iopub.status.busy": "2022-07-22T10:04:14.495836Z",
     "iopub.status.idle": "2022-07-22T10:04:14.524399Z",
     "shell.execute_reply": "2022-07-22T10:04:14.523573Z"
    },
    "papermill": {
     "duration": 0.052351,
     "end_time": "2022-07-22T10:04:14.527560",
     "exception": false,
     "start_time": "2022-07-22T10:04:14.475209",
     "status": "completed"
    },
    "tags": []
   },
   "outputs": [],
   "source": [
    "gen2 = network.GeneratorTabnet(n_features+1).to(device)\n",
    "disc2 = network.Discriminator(n_features+1).to(device)\n",
    "\n",
    "criterion = torch.nn.BCELoss()\n",
    "gen_opt = torch.optim.Adam(gen2.parameters(), lr=0.001, betas=(0.5, 0.999))\n",
    "disc_opt = torch.optim.Adam(disc2.parameters(), lr=0.001, betas=(0.5, 0.999))"
   ]
  },
  {
   "cell_type": "code",
   "execution_count": 16,
   "id": "0b0a0744",
   "metadata": {
    "execution": {
     "iopub.execute_input": "2022-07-22T10:04:14.567284Z",
     "iopub.status.busy": "2022-07-22T10:04:14.566647Z",
     "iopub.status.idle": "2022-07-22T10:07:14.811167Z",
     "shell.execute_reply": "2022-07-22T10:07:14.809345Z"
    },
    "papermill": {
     "duration": 180.271334,
     "end_time": "2022-07-22T10:07:14.814722",
     "exception": false,
     "start_time": "2022-07-22T10:04:14.543388",
     "status": "completed"
    },
    "tags": []
   },
   "outputs": [
    {
     "data": {
      "image/png": "[encoded data removed]",
      "text/plain": [
       "<Figure size 432x288 with 1 Axes>"
      ]
     },
     "metadata": {
      "needs_background": "light"
     },
     "output_type": "display_data"
    },
    {
     "data": {
      "image/png": "[encoded data removed]",
      "text/plain": [
       "<Figure size 432x288 with 1 Axes>"
      ]
     },
     "metadata": {
      "needs_background": "light"
     },
     "output_type": "display_data"
    }
   ],
   "source": [
    "#Training the ABC_GAN \n",
    "ABC_train_test2.training_GAN(disc2,gen2,disc_opt,gen_opt,train_data,batch_size,n_epochs,criterion,prior_model,variance,bias,device)"
   ]
  },
  {
   "cell_type": "code",
   "execution_count": 17,
   "id": "f51ba13a",
   "metadata": {
    "execution": {
     "iopub.execute_input": "2022-07-22T10:07:14.848813Z",
     "iopub.status.busy": "2022-07-22T10:07:14.848455Z",
     "iopub.status.idle": "2022-07-22T10:07:16.721580Z",
     "shell.execute_reply": "2022-07-22T10:07:16.720488Z"
    },
    "papermill": {
     "duration": 1.895428,
     "end_time": "2022-07-22T10:07:16.726515",
     "exception": false,
     "start_time": "2022-07-22T10:07:14.831087",
     "status": "completed"
    },
    "tags": []
   },
   "outputs": [
    {
     "data": {
      "application/scrapbook.scrap.json+json": {
       "data": 0.36794772997963193,
       "encoder": "json",
       "name": "ABC-GAN Model 1 MSE",
       "version": 1
      }
     },
     "metadata": {
      "scrapbook": {
       "data": true,
       "display": false,
       "name": "ABC-GAN Model 1 MSE"
      }
     },
     "output_type": "display_data"
    },
    {
     "data": {
      "application/scrapbook.scrap.json+json": {
       "data": 0.45373726487532257,
       "encoder": "json",
       "name": "ABC-GAN Model 1 MAE",
       "version": 1
      }
     },
     "metadata": {
      "scrapbook": {
       "data": true,
       "display": false,
       "name": "ABC-GAN Model 1 MAE"
      }
     },
     "output_type": "display_data"
    },
    {
     "data": {
      "application/scrapbook.scrap.json+json": {
       "data": 9.074745297506452,
       "encoder": "json",
       "name": "ABC-GAN Model 1 Manhattan Distance",
       "version": 1
      }
     },
     "metadata": {
      "scrapbook": {
       "data": true,
       "display": false,
       "name": "ABC-GAN Model 1 Manhattan Distance"
      }
     },
     "output_type": "display_data"
    },
    {
     "data": {
      "application/scrapbook.scrap.json+json": {
       "data": 2.707381007008046,
       "encoder": "json",
       "name": "ABC-GAN Model 1 Euclidean distance",
       "version": 1
      }
     },
     "metadata": {
      "scrapbook": {
       "data": true,
       "display": false,
       "name": "ABC-GAN Model 1 Euclidean distance"
      }
     },
     "output_type": "display_data"
    },
    {
     "data": {
      "application/scrapbook.scrap.json+json": {
       "data": [
        [
         0.32355777726965507,
         0.3758240615498903,
         0.35758810009101233,
         0.3472056851516789,
         0.3829178013165304,
         0.412484544726954,
         0.3975614582992024,
         0.3158856974220181,
         0.43154146324855186,
         0.3281964000792731,
         0.34721865255973805,
         0.43406386300435595,
         0.25403835986996637,
         0.3027311555239021,
         0.44741789639948,
         0.3542371432866379,
         0.33226110703803813,
         0.39443560627777996,
         0.36183044490890204,
         0.3771664733202541,
         0.2972413570047211,
         0.3865314410992948,
         0.4274022418690275,
         0.3707362955394365,
         0.42630019904445476,
         0.36816617406402635,
         0.4036492247051403,
         0.32945012259690365,
         0.2726072886528639,
         0.3818090991404134,
         0.34959808545789994,
         0.3150080980669013,
         0.4444512196154107,
         0.34960415497037656,
         0.38756579539483543,
         0.3451962099953758,
         0.3788967534074786,
         0.35747345097493544,
         0.36941955544874655,
         0.373321456897587,
         0.3474737348728411,
         0.3912597060524997,
         0.32475116135565696,
         0.3640369687977682,
         0.3411375282411225,
         0.4360938360001058,
         0.30696987959048955,
         0.3101072950395529,
         0.35968527422255814,
         0.3573596579569114,
         0.39060550116432374,
         0.381794088120023,
         0.3537644868781099,
         0.3381660559527656,
         0.42299583477106995,
         0.35051101057305784,
         0.3740117036672076,
         0.31055927593325444,
         0.34523264561341965,
         0.3627912243234332,
         0.3710155819884273,
         0.318135239518492,
         0.3306614861960495,
         0.46879438190415934,
         0.3990900030326852,
         0.3897115057184429,
         0.3590233424930912,
         0.41347631930298273,
         0.49734271853476414,
         0.35724556102027194,
         0.42220366089949374,
         0.3843719020878539,
         0.4103765144289616,
         0.2555398092859904,
         0.42687467017481273,
         0.3586530055600539,
         0.46678823633841315,
         0.37589828643229706,
         0.46812688397396424,
         0.38317814694264923,
         0.3220530245864166,
         0.34599749682225245,
         0.38964420676587663,
         0.3893590072513694,
         0.32039032925159705,
         0.3988147656095085,
         0.346739012211565,
         0.3323325778974634,
         0.35185544802566276,
         0.35179766208047536,
         0.3414539760286609,
         0.36517596527071966,
         0.3219433631974089,
         0.332191273667377,
         0.3938426126501243,
         0.42938277158998,
         0.3852877949758172,
         0.4252803585710133,
         0.26258631553210066,
         0.3502389957281266
        ],
        [
         0.440899695456028,
         0.47967707850039004,
         0.45596318431198596,
         0.4621284890919924,
         0.4519668061286211,
         0.4819737162441015,
         0.48257377482950686,
         0.42203998789191244,
         0.46789979971945284,
         0.4101793937385082,
         0.44636531807482244,
         0.49669271521270275,
         0.42764657698571684,
         0.38712523840367796,
         0.46389929912984373,
         0.4451531406491995,
         0.4382993433624506,
         0.4855379831045866,
         0.4695396337658167,
         0.4626496821641922,
         0.40870331786572933,
         0.44017777405679226,
         0.5242037374526263,
         0.4458195447921753,
         0.49377692602574824,
         0.43266995511949063,
         0.4871447514742613,
         0.4382375854998827,
         0.3849104601889849,
         0.4454309117048979,
         0.4067438695579767,
         0.44802057184278965,
         0.4928434696048498,
         0.42038453184068203,
         0.4690123599022627,
         0.4341086123138666,
         0.44434179849922656,
         0.428102108463645,
         0.4554778341203928,
         0.4438686080276966,
         0.41230603978037833,
         0.45902316085994244,
         0.44710075519979,
         0.45722886435687543,
         0.4514283586293459,
         0.5189541038125753,
         0.40062980391085146,
         0.4430578168481588,
         0.47152763083577154,
         0.4720046889036894,
         0.45424119383096695,
         0.4622175585478544,
         0.4692727502435446,
         0.44193608574569226,
         0.45247838012874125,
         0.4263706743717194,
         0.46561111845076086,
         0.3870930138975382,
         0.4514771945774555,
         0.44307705797255037,
         0.4530310545116663,
         0.4529726099222898,
         0.4308054938912392,
         0.5081146281212569,
         0.483338638395071,
         0.44223496206104757,
         0.4475654002279043,
         0.5164695959538221,
         0.5641355592757463,
         0.4285502824932337,
         0.5073317658156157,
         0.47264984250068665,
         0.47682640627026557,
         0.3945227265357971,
         0.4667361509054899,
         0.4455381102859974,
         0.4884564567357302,
         0.46171432361006737,
         0.5206660863012076,
         0.464121238142252,
         0.42210308499634264,
         0.4340137351304293,
         0.48567597158253195,
         0.4205744076520205,
         0.4246512554585934,
         0.46949812211096287,
         0.45267302356660366,
         0.42966949455440046,
         0.41998648308217523,
         0.47073593325912955,
         0.4574802413582802,
         0.4543026689440012,
         0.43944246880710125,
         0.42168081775307653,
         0.46796784587204454,
         0.4615135472267866,
         0.49578315354883673,
         0.48623435720801356,
         0.3984686892479658,
         0.4262640181928873
        ],
        [
         8.81799390912056,
         9.593541570007801,
         9.11926368623972,
         9.242569781839848,
         9.039336122572422,
         9.63947432488203,
         9.651475496590137,
         8.44079975783825,
         9.357995994389057,
         8.203587874770164,
         8.927306361496449,
         9.933854304254055,
         8.552931539714336,
         7.742504768073559,
         9.277985982596874,
         8.90306281298399,
         8.765986867249012,
         9.710759662091732,
         9.390792675316334,
         9.252993643283844,
         8.174066357314587,
         8.803555481135845,
         10.484074749052525,
         8.916390895843506,
         9.875538520514965,
         8.653399102389812,
         9.742895029485226,
         8.764751709997654,
         7.698209203779697,
         8.908618234097958,
         8.134877391159534,
         8.960411436855793,
         9.856869392096996,
         8.40769063681364,
         9.380247198045254,
         8.682172246277332,
         8.886835969984531,
         8.5620421692729,
         9.109556682407856,
         8.877372160553932,
         8.246120795607567,
         9.180463217198849,
         8.9420151039958,
         9.144577287137508,
         9.028567172586918,
         10.379082076251507,
         8.01259607821703,
         8.861156336963177,
         9.430552616715431,
         9.440093778073788,
         9.084823876619339,
         9.244351170957088,
         9.385455004870892,
         8.838721714913845,
         9.049567602574825,
         8.527413487434387,
         9.312222369015217,
         7.741860277950764,
         9.02954389154911,
         8.861541159451008,
         9.060621090233326,
         9.059452198445797,
         8.616109877824783,
         10.162292562425137,
         9.66677276790142,
         8.844699241220951,
         8.951308004558086,
         10.329391919076443,
         11.282711185514927,
         8.571005649864674,
         10.146635316312313,
         9.452996850013733,
         9.536528125405312,
         7.890454530715942,
         9.334723018109798,
         8.910762205719948,
         9.769129134714603,
         9.234286472201347,
         10.41332172602415,
         9.28242476284504,
         8.442061699926853,
         8.680274702608585,
         9.713519431650639,
         8.411488153040409,
         8.493025109171867,
         9.389962442219257,
         9.053460471332073,
         8.593389891088009,
         8.399729661643505,
         9.41471866518259,
         9.149604827165604,
         9.086053378880024,
         8.788849376142025,
         8.433616355061531,
         9.359356917440891,
         9.230270944535732,
         9.915663070976734,
         9.72468714416027,
         7.969373784959316,
         8.525280363857746
        ],
        [
         2.5438466041397034,
         2.7416201835771865,
         2.674277846787848,
         2.6351686289559493,
         2.767373488767031,
         2.8722275144109113,
         2.8197923976747026,
         2.5135063056297198,
         2.9378273034627203,
         2.562016393699592,
         2.6352178375221205,
         2.9464007297187393,
         2.254055721893167,
         2.4606143766299593,
         2.9913806056718357,
         2.661718028967899,
         2.5778328380173843,
         2.808685123960249,
         2.6900945890763843,
         2.7465122367113315,
         2.4382016200664007,
         2.7804008383659173,
         2.9237039585738755,
         2.722999432755859,
         2.9199321877209914,
         2.7135444498442487,
         2.841299789551044,
         2.5669052284683347,
         2.3349830348542744,
         2.763364250837784,
         2.644231780528704,
         2.5100123428656733,
         2.9814466945273757,
         2.644254734212937,
         2.784118515418607,
         2.627531959826087,
         2.752804945532751,
         2.6738491018564807,
         2.7181595076402214,
         2.732476740605808,
         2.6361856341040975,
         2.797354843606723,
         2.5485335444355326,
         2.698284524648089,
         2.61203954120577,
         2.95328236374413,
         2.4777807796110194,
         2.4904107895668655,
         2.682108402815062,
         2.6734234904216407,
         2.795015209848861,
         2.7633099287630514,
         2.6599416793535524,
         2.600638598316827,
         2.9085935940624976,
         2.6476820450086445,
         2.735001658746143,
         2.492225013650471,
         2.627670624767951,
         2.693663766409732,
         2.724024897053723,
         2.5224402451534584,
         2.5716200582358564,
         3.0620071257401063,
         2.825207967681973,
         2.7918148424221934,
         2.6796393133893646,
         2.875678421878854,
         3.153863403937349,
         2.672996674222667,
         2.905868754432979,
         2.7726229534065894,
         2.864878756348902,
         2.260707010145235,
         2.921898937933387,
         2.678256916578594,
         3.0554483675507043,
         2.741890903855575,
         3.0598264132919835,
         2.768314096856241,
         2.537924445630392,
         2.6305797719219712,
         2.7915737739342537,
         2.7905519427216166,
         2.5313645697591527,
         2.824233579608842,
         2.633397092014666,
         2.5781100748318075,
         2.6527549755891995,
         2.652537132936975,
         2.613250757308456,
         2.7025024154317405,
         2.537492318007717,
         2.5775619242508103,
         2.8065730443019805,
         2.9304701724807916,
         2.775924332455109,
         2.9164374108525397,
         2.291664528381502,
         2.646654475854854
        ]
       ],
       "encoder": "json",
       "name": "ABC_GAN_2 Metrics",
       "version": 1
      }
     },
     "metadata": {
      "scrapbook": {
       "data": true,
       "display": false,
       "name": "ABC_GAN_2 Metrics"
      }
     },
     "output_type": "display_data"
    },
    {
     "name": "stdout",
     "output_type": "stream",
     "text": [
      "MAE\n",
      "0.45373726487532257\n"
     ]
    }
   ],
   "source": [
    "ABC_GAN2_metrics=ABC_train_test2.test_generator(gen2,test_data,prior_model,variance,bias,\"1\",device)\n",
    "sb.glue(\"ABC_GAN_2 Metrics\",ABC_GAN2_metrics)\n",
    "\n",
    "print(\"MAE\")\n",
    "print(mean(ABC_GAN2_metrics[1]))"
   ]
  },
  {
   "cell_type": "code",
   "execution_count": 18,
   "id": "f76b6b1f",
   "metadata": {
    "execution": {
     "iopub.execute_input": "2022-07-22T10:07:16.766974Z",
     "iopub.status.busy": "2022-07-22T10:07:16.766243Z",
     "iopub.status.idle": "2022-07-22T10:07:17.719688Z",
     "shell.execute_reply": "2022-07-22T10:07:17.718579Z"
    },
    "papermill": {
     "duration": 0.977684,
     "end_time": "2022-07-22T10:07:17.722609",
     "exception": false,
     "start_time": "2022-07-22T10:07:16.744925",
     "status": "completed"
    },
    "tags": []
   },
   "outputs": [
    {
     "data": {
      "image/png": "[encoded data removed]",
      "text/plain": [
       "<Figure size 432x288 with 1 Axes>"
      ]
     },
     "metadata": {
      "needs_background": "light"
     },
     "output_type": "display_data"
    },
    {
     "data": {
      "image/png": "[encoded data removed]",
      "text/plain": [
       "<Figure size 432x288 with 1 Axes>"
      ]
     },
     "metadata": {
      "needs_background": "light"
     },
     "output_type": "display_data"
    },
    {
     "data": {
      "image/png": "[encoded data removed]",
      "text/plain": [
       "<Figure size 432x288 with 1 Axes>"
      ]
     },
     "metadata": {
      "needs_background": "light"
     },
     "output_type": "display_data"
    },
    {
     "data": {
      "image/png": "[encoded data removed]",
      "text/plain": [
       "<Figure size 432x288 with 1 Axes>"
      ]
     },
     "metadata": {
      "needs_background": "light"
     },
     "output_type": "display_data"
    }
   ],
   "source": [
    "sanityChecks.discProbVsError(train_data,disc2,device)\n",
    "sanityChecks.discProbVsError(test_data,disc2,device)"
   ]
  },
  {
   "cell_type": "markdown",
   "id": "130f3a4d",
   "metadata": {
    "id": "130f3a4d",
    "papermill": {
     "duration": 0.02231,
     "end_time": "2022-07-22T10:07:17.764743",
     "exception": false,
     "start_time": "2022-07-22T10:07:17.742433",
     "status": "completed"
    },
    "tags": []
   },
   "source": [
    "# skipGAN Model"
   ]
  },
  {
   "cell_type": "code",
   "execution_count": 19,
   "id": "4e43dad1",
   "metadata": {
    "execution": {
     "iopub.execute_input": "2022-07-22T10:07:17.808313Z",
     "iopub.status.busy": "2022-07-22T10:07:17.807897Z",
     "iopub.status.idle": "2022-07-22T10:07:17.814323Z",
     "shell.execute_reply": "2022-07-22T10:07:17.812444Z"
    },
    "id": "4e43dad1",
    "papermill": {
     "duration": 0.033097,
     "end_time": "2022-07-22T10:07:17.818085",
     "exception": false,
     "start_time": "2022-07-22T10:07:17.784988",
     "status": "completed"
    },
    "tags": []
   },
   "outputs": [],
   "source": [
    "# #Generator\n",
    "# gen3 = network.GeneratorWithSkipConnection(n_features+1).to(device)\n",
    "# constraints=network.weightConstraint()\n",
    "# #Discriminator \n",
    "# disc3 = network.Discriminator(n_features+1).to(device)\n",
    "\n",
    "# criterion = torch.nn.BCELoss()\n",
    "# gen_opt = torch.optim.Adam(gen3.parameters(), lr=0.01, betas=(0.5, 0.999))\n",
    "# disc_opt = torch.optim.Adam(disc3.parameters(), lr=0.01, betas=(0.5, 0.999))\n"
   ]
  },
  {
   "cell_type": "code",
   "execution_count": 20,
   "id": "26acbc37",
   "metadata": {
    "execution": {
     "iopub.execute_input": "2022-07-22T10:07:17.867648Z",
     "iopub.status.busy": "2022-07-22T10:07:17.866720Z",
     "iopub.status.idle": "2022-07-22T10:07:17.872521Z",
     "shell.execute_reply": "2022-07-22T10:07:17.870941Z"
    },
    "id": "26acbc37",
    "papermill": {
     "duration": 0.035069,
     "end_time": "2022-07-22T10:07:17.875803",
     "exception": false,
     "start_time": "2022-07-22T10:07:17.840734",
     "status": "completed"
    },
    "tags": []
   },
   "outputs": [],
   "source": [
    "# ABC_train_test2.training_GAN_skip_connection(disc3,gen3,disc_opt,gen_opt,train_data,batch_size,n_epochs,criterion,prior_model,variance,bias,device)"
   ]
  },
  {
   "cell_type": "code",
   "execution_count": 21,
   "id": "c5e0717b",
   "metadata": {
    "execution": {
     "iopub.execute_input": "2022-07-22T10:07:17.921393Z",
     "iopub.status.busy": "2022-07-22T10:07:17.920846Z",
     "iopub.status.idle": "2022-07-22T10:07:17.926109Z",
     "shell.execute_reply": "2022-07-22T10:07:17.925050Z"
    },
    "id": "c5e0717b",
    "papermill": {
     "duration": 0.032254,
     "end_time": "2022-07-22T10:07:17.928744",
     "exception": false,
     "start_time": "2022-07-22T10:07:17.896490",
     "status": "completed"
    },
    "tags": []
   },
   "outputs": [],
   "source": [
    "# ABC_GAN3_metrics=ABC_train_test2.test_generator(gen3,test_data,prior_model,variance,bias,\"3\",device)\n",
    "# sb.glue(\"ABC_GAN_3 Metrics\",ABC_GAN3_metrics)\n",
    "\n",
    "# print(\"MAE\")\n",
    "# print(mean(ABC_GAN3_metrics[1]))"
   ]
  },
  {
   "cell_type": "code",
   "execution_count": 22,
   "id": "c8e46b48",
   "metadata": {
    "execution": {
     "iopub.execute_input": "2022-07-22T10:07:17.992898Z",
     "iopub.status.busy": "2022-07-22T10:07:17.992223Z",
     "iopub.status.idle": "2022-07-22T10:07:17.998498Z",
     "shell.execute_reply": "2022-07-22T10:07:17.995914Z"
    },
    "id": "c8e46b48",
    "papermill": {
     "duration": 0.048684,
     "end_time": "2022-07-22T10:07:18.005897",
     "exception": false,
     "start_time": "2022-07-22T10:07:17.957213",
     "status": "completed"
    },
    "tags": []
   },
   "outputs": [],
   "source": [
    "# sanityChecks.discProbVsError(train_data,disc3,device)\n",
    "# sanityChecks.discProbVsError(test_data,disc3,device)"
   ]
  },
  {
   "cell_type": "markdown",
   "id": "840bff0c",
   "metadata": {
    "id": "130f3a4d",
    "papermill": {
     "duration": 0.033167,
     "end_time": "2022-07-22T10:07:18.067593",
     "exception": false,
     "start_time": "2022-07-22T10:07:18.034426",
     "status": "completed"
    },
    "tags": []
   },
   "source": [
    "# skipGAN Model with TabNet Generator"
   ]
  },
  {
   "cell_type": "code",
   "execution_count": 23,
   "id": "c0334dcc",
   "metadata": {
    "execution": {
     "iopub.execute_input": "2022-07-22T10:07:18.120260Z",
     "iopub.status.busy": "2022-07-22T10:07:18.119544Z",
     "iopub.status.idle": "2022-07-22T10:07:18.137438Z",
     "shell.execute_reply": "2022-07-22T10:07:18.136304Z"
    },
    "id": "4e43dad1",
    "papermill": {
     "duration": 0.052239,
     "end_time": "2022-07-22T10:07:18.142297",
     "exception": false,
     "start_time": "2022-07-22T10:07:18.090058",
     "status": "completed"
    },
    "tags": []
   },
   "outputs": [],
   "source": [
    "#Generator\n",
    "gen4 = network.GeneratorTabnetskipConnection(n_features+1).to(device)\n",
    "constraints=network.weightConstraint()\n",
    "#Discriminator \n",
    "disc4 = network.Discriminator(n_features+1).to(device)\n",
    "\n",
    "criterion = torch.nn.BCELoss()\n",
    "gen_opt = torch.optim.Adam(gen4.parameters(), lr=0.001, betas=(0.5, 0.999))\n",
    "disc_opt = torch.optim.Adam(disc4.parameters(), lr=0.001, betas=(0.5, 0.999))\n"
   ]
  },
  {
   "cell_type": "code",
   "execution_count": 24,
   "id": "fffe61aa",
   "metadata": {
    "execution": {
     "iopub.execute_input": "2022-07-22T10:07:18.188148Z",
     "iopub.status.busy": "2022-07-22T10:07:18.187295Z",
     "iopub.status.idle": "2022-07-22T10:10:44.058272Z",
     "shell.execute_reply": "2022-07-22T10:10:44.056648Z"
    },
    "id": "26acbc37",
    "papermill": {
     "duration": 205.901203,
     "end_time": "2022-07-22T10:10:44.066274",
     "exception": false,
     "start_time": "2022-07-22T10:07:18.165071",
     "status": "completed"
    },
    "tags": []
   },
   "outputs": [
    {
     "data": {
      "image/png": "[encoded data removed]",
      "text/plain": [
       "<Figure size 432x288 with 1 Axes>"
      ]
     },
     "metadata": {
      "needs_background": "light"
     },
     "output_type": "display_data"
    },
    {
     "data": {
      "image/png": "[encoded data removed]",
      "text/plain": [
       "<Figure size 432x288 with 1 Axes>"
      ]
     },
     "metadata": {
      "needs_background": "light"
     },
     "output_type": "display_data"
    }
   ],
   "source": [
    "ABC_train_test2.training_GAN_skip_connection(disc4,gen4,disc_opt,gen_opt,train_data,batch_size,n_epochs,criterion,prior_model,variance,bias,device)"
   ]
  },
  {
   "cell_type": "code",
   "execution_count": 25,
   "id": "6e14d8bb",
   "metadata": {
    "execution": {
     "iopub.execute_input": "2022-07-22T10:10:44.127034Z",
     "iopub.status.busy": "2022-07-22T10:10:44.125675Z",
     "iopub.status.idle": "2022-07-22T10:10:46.232293Z",
     "shell.execute_reply": "2022-07-22T10:10:46.230748Z"
    },
    "id": "c5e0717b",
    "papermill": {
     "duration": 2.139498,
     "end_time": "2022-07-22T10:10:46.235119",
     "exception": false,
     "start_time": "2022-07-22T10:10:44.095621",
     "status": "completed"
    },
    "tags": []
   },
   "outputs": [
    {
     "data": {
      "application/scrapbook.scrap.json+json": {
       "data": 0.7684672802267626,
       "encoder": "json",
       "name": "ABC-GAN Model 3 MSE",
       "version": 1
      }
     },
     "metadata": {
      "scrapbook": {
       "data": true,
       "display": false,
       "name": "ABC-GAN Model 3 MSE"
      }
     },
     "output_type": "display_data"
    },
    {
     "data": {
      "application/scrapbook.scrap.json+json": {
       "data": 0.5646832781299017,
       "encoder": "json",
       "name": "ABC-GAN Model 3 MAE",
       "version": 1
      }
     },
     "metadata": {
      "scrapbook": {
       "data": true,
       "display": false,
       "name": "ABC-GAN Model 3 MAE"
      }
     },
     "output_type": "display_data"
    },
    {
     "data": {
      "application/scrapbook.scrap.json+json": {
       "data": 11.293665562598035,
       "encoder": "json",
       "name": "ABC-GAN Model 3 Manhattan Distance",
       "version": 1
      }
     },
     "metadata": {
      "scrapbook": {
       "data": true,
       "display": false,
       "name": "ABC-GAN Model 3 Manhattan Distance"
      }
     },
     "output_type": "display_data"
    },
    {
     "data": {
      "application/scrapbook.scrap.json+json": {
       "data": 3.8237690303197622,
       "encoder": "json",
       "name": "ABC-GAN Model 3 Euclidean distance",
       "version": 1
      }
     },
     "metadata": {
      "scrapbook": {
       "data": true,
       "display": false,
       "name": "ABC-GAN Model 3 Euclidean distance"
      }
     },
     "output_type": "display_data"
    },
    {
     "data": {
      "application/scrapbook.scrap.json+json": {
       "data": [
        [
         0.6461882327098392,
         0.39757947746963873,
         0.4178620835118047,
         1.1395282580501136,
         0.3978925826141749,
         1.0545210878095186,
         1.0395791694601217,
         1.0616365927235645,
         1.0309362378497866,
         0.9240969480928408,
         0.3671156645838459,
         0.3075626013702431,
         0.6445203022186087,
         0.9352913237347517,
         0.38742479747758457,
         1.150735952722691,
         0.3595176302583417,
         0.46909277890077083,
         1.1744857743414792,
         0.6806893105310354,
         0.32957480709841525,
         1.1220925797682542,
         0.7464166420385576,
         0.4222322021543716,
         0.34925938355248987,
         0.3648217945736908,
         1.1640361050219357,
         0.9420664743778489,
         0.3547319090117912,
         1.2447033311600006,
         0.6349010067399679,
         0.5295864525998819,
         1.227473104003182,
         0.7061578184056265,
         1.188488962460068,
         0.8678592238836205,
         1.0397721065483534,
         0.4174923152417196,
         1.1510497791790404,
         1.0705121351180147,
         0.3963328274682079,
         0.9401107154455588,
         0.9737777131332465,
         0.5057348361400177,
         0.4217101251977352,
         0.410556753263925,
         1.02530760043683,
         1.0036330695940374,
         0.5004848759165187,
         1.1964991168472379,
         0.4267871933687766,
         0.5071074510375274,
         0.48995332519553525,
         0.44689875299325177,
         0.5925477628793874,
         0.9758977645889682,
         0.4631810671416489,
         1.1231158343274523,
         0.5852688274338858,
         0.4588916490150788,
         1.18902646943739,
         1.0860768974267665,
         0.29270980664700796,
         1.1769551077336173,
         1.1433499139089567,
         0.41036741752262784,
         0.49975270524644655,
         1.1749247925249473,
         0.5915798253377711,
         0.9685476845373321,
         0.47956541958309096,
         0.3873910708780696,
         1.0306382460540022,
         0.32352641662741244,
         0.9666907516778362,
         1.192398292668407,
         1.0799498913737626,
         1.093920142372357,
         1.1364334128198446,
         0.4062149822498453,
         0.43539604822975564,
         0.5394909158355687,
         1.1237270145609717,
         0.4509401387581101,
         0.4022852075178986,
         0.4529240192120734,
         0.9663514294560207,
         1.251181363962026,
         1.1513710730414677,
         0.9858795660815977,
         1.0378447144339429,
         0.2779281541501441,
         1.0196841940310535,
         1.0709052765682128,
         0.3939531263578443,
         0.9121111619793973,
         1.13030683096019,
         0.43958609026912815,
         0.9953932343351394,
         1.2761670155158158
        ],
        [
         0.5834633726626635,
         0.5236372105777264,
         0.5333158932626247,
         0.6265413772314787,
         0.5017986617982387,
         0.6111767280846834,
         0.5848589088767767,
         0.6048926960676908,
         0.5807446610182524,
         0.5693784989416599,
         0.5026165205985308,
         0.42531514428555967,
         0.5636216964572668,
         0.5958561815321446,
         0.49426473286002875,
         0.6360483296215534,
         0.49509520307183263,
         0.5147898025810719,
         0.6541587655432523,
         0.5402659326791763,
         0.4616155125200748,
         0.6537362646311522,
         0.5612422490492464,
         0.5079593669623137,
         0.4680876284837723,
         0.47541957180947064,
         0.6566256623715162,
         0.58666668003425,
         0.46869806237518785,
         0.688098668679595,
         0.5634489877149462,
         0.5976311694830656,
         0.625795929506421,
         0.5743934005498886,
         0.6127656560391188,
         0.631211007013917,
         0.531244246661663,
         0.5099459815770387,
         0.5925346661359072,
         0.5974651675671339,
         0.48223842196166516,
         0.6035333398729563,
         0.5745114997029305,
         0.5436756201088428,
         0.5215940177440643,
         0.5183583337813615,
         0.6222203228622675,
         0.5774360083043575,
         0.5508922411128878,
         0.6569741431623697,
         0.5358633697032928,
         0.5421775214374065,
         0.5339019302278757,
         0.5132814190350473,
         0.5415089692920446,
         0.603912242129445,
         0.5357044357806444,
         0.6405743785202503,
         0.5319692928344011,
         0.5446453290060163,
         0.6736034544650465,
         0.6267821621149778,
         0.4143625196069479,
         0.6472285773605109,
         0.6027422856539488,
         0.5240071684122085,
         0.5132530730217695,
         0.6265083663165569,
         0.5936972204595804,
         0.5762498494237661,
         0.49491515681147574,
         0.4973074022680521,
         0.6031340297311545,
         0.42633319813758136,
         0.5692940402776003,
         0.6321430068463088,
         0.6888352384790778,
         0.6108958970755338,
         0.5595042061060667,
         0.4828068919479847,
         0.4909905884414911,
         0.5468495361506939,
         0.6170849073678255,
         0.5355469308793545,
         0.5182050544768572,
         0.5025128001347184,
         0.6059223610907793,
         0.6739549312740565,
         0.6102115929126739,
         0.6302680347114802,
         0.5968047384172678,
         0.4232255559414625,
         0.5914559967815876,
         0.6261141311377287,
         0.5031620207242667,
         0.5653290472924709,
         0.6430690473876893,
         0.5120495099574327,
         0.576101665571332,
         0.6544665843248367
        ],
        [
         11.66926745325327,
         10.472744211554527,
         10.666317865252495,
         12.530827544629574,
         10.035973235964775,
         12.223534561693668,
         11.697178177535534,
         12.097853921353817,
         11.614893220365047,
         11.387569978833199,
         10.052330411970615,
         8.506302885711193,
         11.272433929145336,
         11.917123630642891,
         9.885294657200575,
         12.720966592431068,
         9.901904061436653,
         10.295796051621437,
         13.083175310865045,
         10.805318653583527,
         9.232310250401497,
         13.074725292623043,
         11.224844980984926,
         10.159187339246273,
         9.361752569675446,
         9.508391436189413,
         13.132513247430325,
         11.733333600685,
         9.373961247503757,
         13.7619733735919,
         11.268979754298925,
         11.952623389661312,
         12.515918590128422,
         11.487868010997772,
         12.255313120782375,
         12.62422014027834,
         10.624884933233261,
         10.198919631540775,
         11.850693322718143,
         11.949303351342678,
         9.644768439233303,
         12.070666797459126,
         11.490229994058609,
         10.873512402176857,
         10.431880354881287,
         10.367166675627232,
         12.44440645724535,
         11.54872016608715,
         11.017844822257757,
         13.139482863247395,
         10.717267394065857,
         10.84355042874813,
         10.678038604557514,
         10.265628380700946,
         10.830179385840893,
         12.078244842588902,
         10.714088715612888,
         12.811487570405006,
         10.639385856688023,
         10.892906580120325,
         13.47206908930093,
         12.535643242299557,
         8.287250392138958,
         12.944571547210217,
         12.054845713078976,
         10.480143368244171,
         10.26506146043539,
         12.530167326331139,
         11.873944409191608,
         11.524996988475323,
         9.898303136229515,
         9.946148045361042,
         12.062680594623089,
         8.526663962751627,
         11.385880805552006,
         12.642860136926174,
         13.776704769581556,
         12.217917941510677,
         11.190084122121334,
         9.656137838959694,
         9.819811768829823,
         10.936990723013878,
         12.34169814735651,
         10.71093861758709,
         10.364101089537144,
         10.050256002694368,
         12.118447221815586,
         13.479098625481129,
         12.204231858253479,
         12.605360694229603,
         11.936094768345356,
         8.46451111882925,
         11.829119935631752,
         12.522282622754574,
         10.063240414485335,
         11.306580945849419,
         12.861380947753787,
         10.240990199148655,
         11.52203331142664,
         13.089331686496735
        ],
        [
         3.5949637903874336,
         2.8198562994225034,
         2.890889425459939,
         4.773946497501021,
         2.820966439411057,
         4.592430920132645,
         4.559778875033573,
         4.607898854626834,
         4.540784597070834,
         4.299062567799731,
         2.7096703289656694,
         2.480171773769886,
         3.590321161730824,
         4.325023291809541,
         2.783612032872342,
         4.797365845383675,
         2.681483284521243,
         3.0629814850918406,
         4.846618974793622,
         3.6896864650835455,
         2.5673909211431565,
         4.737283144943427,
         3.863720077952226,
         2.9059669721260484,
         2.6429505615977376,
         2.7011915688217703,
         4.8250100622111365,
         4.340660029022888,
         2.6635762013195388,
         4.989395416601095,
         3.5634281436278967,
         3.254493670603407,
         4.954741373680734,
         3.758078813451433,
         4.875426058223154,
         4.166195444007927,
         4.56020198357124,
         2.889610061034947,
         4.798019964900189,
         4.627120346647609,
         2.815431858412517,
         4.33615201635173,
         4.413111630433217,
         3.1803610994351494,
         2.904169847642301,
         2.86550781979015,
         4.528371893819743,
         4.480252380377778,
         3.163810600894177,
         4.8918281180909,
         2.9215995391866305,
         3.184674083913541,
         3.1303460677552417,
         2.9896446377228574,
         3.442521642283131,
         4.417913001834617,
         3.043619776324398,
         4.73944265568738,
         3.421312109217415,
         3.0294938488634657,
         4.876528415660858,
         4.660637075393806,
         2.4195446127195424,
         4.851711260439181,
         4.781945030861306,
         2.8648470029746016,
         3.161495548775758,
         4.8475247137584505,
         3.4397087822598325,
         4.401244561569675,
         3.096983757087179,
         2.783490868955994,
         4.540128293460444,
         2.5437233207540966,
         4.39702342881599,
         4.883437913331973,
         4.647472197601106,
         4.677435499015154,
         4.767459308310548,
         2.8503157097060154,
         2.950918664517054,
         3.2847858859766452,
         4.740732041701939,
         3.0031321607884993,
         2.836495046771274,
         3.0097309488127784,
         4.3962516521601005,
         5.002362169939369,
         4.798689556621615,
         4.440449450408365,
         4.555973473219402,
         2.3576605105491506,
         4.515936655957551,
         4.62796991469956,
         2.806966784120697,
         4.271091574713418,
         4.754591109570181,
         2.9650837771271426,
         4.461823022790436,
         5.052062975687884
        ]
       ],
       "encoder": "json",
       "name": "ABC_GAN_4 Metrics",
       "version": 1
      }
     },
     "metadata": {
      "scrapbook": {
       "data": true,
       "display": false,
       "name": "ABC_GAN_4 Metrics"
      }
     },
     "output_type": "display_data"
    },
    {
     "name": "stdout",
     "output_type": "stream",
     "text": [
      "MAE\n",
      "0.5646832781299017\n"
     ]
    }
   ],
   "source": [
    "ABC_GAN4_metrics=ABC_train_test2.test_generator(gen4,test_data,prior_model,variance,bias,\"3\",device)\n",
    "sb.glue(\"ABC_GAN_4 Metrics\",ABC_GAN4_metrics)\n",
    "\n",
    "print(\"MAE\")\n",
    "print(mean(ABC_GAN4_metrics[1]))"
   ]
  },
  {
   "cell_type": "code",
   "execution_count": 26,
   "id": "dfd4092c",
   "metadata": {
    "execution": {
     "iopub.execute_input": "2022-07-22T10:10:46.287169Z",
     "iopub.status.busy": "2022-07-22T10:10:46.286751Z",
     "iopub.status.idle": "2022-07-22T10:10:47.397906Z",
     "shell.execute_reply": "2022-07-22T10:10:47.396997Z"
    },
    "id": "c8e46b48",
    "papermill": {
     "duration": 1.140794,
     "end_time": "2022-07-22T10:10:47.400669",
     "exception": false,
     "start_time": "2022-07-22T10:10:46.259875",
     "status": "completed"
    },
    "tags": []
   },
   "outputs": [
    {
     "data": {
      "image/png": "[encoded data removed]",
      "text/plain": [
       "<Figure size 432x288 with 1 Axes>"
      ]
     },
     "metadata": {
      "needs_background": "light"
     },
     "output_type": "display_data"
    },
    {
     "data": {
      "image/png": "[encoded data removed]",
      "text/plain": [
       "<Figure size 432x288 with 1 Axes>"
      ]
     },
     "metadata": {
      "needs_background": "light"
     },
     "output_type": "display_data"
    },
    {
     "data": {
      "image/png": "[encoded data removed]",
      "text/plain": [
       "<Figure size 432x288 with 1 Axes>"
      ]
     },
     "metadata": {
      "needs_background": "light"
     },
     "output_type": "display_data"
    },
    {
     "data": {
      "image/png": "[encoded data removed]",
      "text/plain": [
       "<Figure size 432x288 with 1 Axes>"
      ]
     },
     "metadata": {
      "needs_background": "light"
     },
     "output_type": "display_data"
    }
   ],
   "source": [
    "sanityChecks.discProbVsError(train_data,disc4,device)\n",
    "sanityChecks.discProbVsError(test_data,disc4,device)"
   ]
  },
  {
   "cell_type": "markdown",
   "id": "a5bd74c3",
   "metadata": {
    "id": "a5bd74c3",
    "papermill": {
     "duration": 0.027579,
     "end_time": "2022-07-22T10:10:47.456550",
     "exception": false,
     "start_time": "2022-07-22T10:10:47.428971",
     "status": "completed"
    },
    "tags": []
   },
   "source": [
    "## Skip Connection Model Analysis - ABC-GAN "
   ]
  },
  {
   "cell_type": "markdown",
   "id": "5744a8bf",
   "metadata": {
    "id": "5744a8bf",
    "papermill": {
     "duration": 0.030706,
     "end_time": "2022-07-22T10:10:47.515641",
     "exception": false,
     "start_time": "2022-07-22T10:10:47.484935",
     "status": "completed"
    },
    "tags": []
   },
   "source": [
    "### Weight Analysis \n",
    "\n",
    "Study the weights of the skip connection layer\n",
    "\n",
    "Equation of the skip connection is \n",
    "\n",
    "$output = y_{gan} * w + y_{abc} * (1-w)$"
   ]
  },
  {
   "cell_type": "code",
   "execution_count": 27,
   "id": "52c31dea",
   "metadata": {
    "execution": {
     "iopub.execute_input": "2022-07-22T10:10:47.572527Z",
     "iopub.status.busy": "2022-07-22T10:10:47.572010Z",
     "iopub.status.idle": "2022-07-22T10:10:47.577405Z",
     "shell.execute_reply": "2022-07-22T10:10:47.575618Z"
    },
    "id": "52c31dea",
    "papermill": {
     "duration": 0.0392,
     "end_time": "2022-07-22T10:10:47.582154",
     "exception": false,
     "start_time": "2022-07-22T10:10:47.542954",
     "status": "completed"
    },
    "tags": []
   },
   "outputs": [],
   "source": [
    "# print(\"Weight of the node at skip connection\")\n",
    "# for name,param in gen3.named_parameters():\n",
    "#     if(name == \"skipNode.weight\"):\n",
    "#         print(param)\n",
    "#         sb.glue(\"Skip Connection Weight\",param.item())"
   ]
  },
  {
   "cell_type": "markdown",
   "id": "9023e51c",
   "metadata": {
    "id": "a5bd74c3",
    "papermill": {
     "duration": 0.026395,
     "end_time": "2022-07-22T10:10:47.633901",
     "exception": false,
     "start_time": "2022-07-22T10:10:47.607506",
     "status": "completed"
    },
    "tags": []
   },
   "source": [
    "## skipGAN Model Analysis (TabNet Generator) "
   ]
  },
  {
   "cell_type": "markdown",
   "id": "250caf5c",
   "metadata": {
    "id": "5744a8bf",
    "papermill": {
     "duration": 0.025463,
     "end_time": "2022-07-22T10:10:47.685803",
     "exception": false,
     "start_time": "2022-07-22T10:10:47.660340",
     "status": "completed"
    },
    "tags": []
   },
   "source": [
    "### Weight Analysis \n",
    "\n",
    "Study the weights of the skip connection layer\n",
    "\n",
    "Equation of the skip connection is \n",
    "\n",
    "$output = y_{gan} * w + y_{abc} * (1-w)$"
   ]
  },
  {
   "cell_type": "code",
   "execution_count": 28,
   "id": "7c2348ae",
   "metadata": {
    "execution": {
     "iopub.execute_input": "2022-07-22T10:10:47.741400Z",
     "iopub.status.busy": "2022-07-22T10:10:47.740684Z",
     "iopub.status.idle": "2022-07-22T10:10:47.756818Z",
     "shell.execute_reply": "2022-07-22T10:10:47.755680Z"
    },
    "id": "52c31dea",
    "papermill": {
     "duration": 0.048518,
     "end_time": "2022-07-22T10:10:47.761012",
     "exception": false,
     "start_time": "2022-07-22T10:10:47.712494",
     "status": "completed"
    },
    "tags": []
   },
   "outputs": [
    {
     "name": "stdout",
     "output_type": "stream",
     "text": [
      "Weight of the node at skip connection\n",
      "Parameter containing:\n",
      "tensor([[0.8006]], requires_grad=True)\n"
     ]
    },
    {
     "data": {
      "application/scrapbook.scrap.json+json": {
       "data": 0.8005838990211487,
       "encoder": "json",
       "name": "Skip Connection Weight",
       "version": 1
      }
     },
     "metadata": {
      "scrapbook": {
       "data": true,
       "display": false,
       "name": "Skip Connection Weight"
      }
     },
     "output_type": "display_data"
    }
   ],
   "source": [
    "print(\"Weight of the node at skip connection\")\n",
    "for name,param in gen4.named_parameters():\n",
    "    if(name == \"skipNode.weight\"):\n",
    "        print(param)\n",
    "        sb.glue(\"Skip Connection Weight\",param.item())"
   ]
  }
 ],
 "metadata": {
  "colab": {
   "collapsed_sections": [],
   "name": "ABC_GAN_Model-Catboost_Pre-gen.ipynb",
   "provenance": []
  },
  "interpreter": {
   "hash": "31f2aee4e71d21fbe5cf8b01ff0e069b9275f58929596ceb00d14d90e3e16cd6"
  },
  "kernelspec": {
   "display_name": "Python 3 (ipykernel)",
   "language": "python",
   "name": "python3"
  },
  "language_info": {
   "codemirror_mode": {
    "name": "ipython",
    "version": 3
   },
   "file_extension": ".py",
   "mimetype": "text/x-python",
   "name": "python",
   "nbconvert_exporter": "python",
   "pygments_lexer": "ipython3",
   "version": "3.8.13"
  },
  "papermill": {
   "default_parameters": {},
   "duration": 432.795287,
   "end_time": "2022-07-22T10:10:48.662731",
   "environment_variables": {},
   "exception": null,
   "input_path": "ABC_GAN-TabNet.ipynb",
   "output_path": "./ABC_GAN_TabNet/ABC-GAN_output_2_3.ipynb",
   "parameters": {
    "bias": 0.1,
    "variance": 1
   },
   "start_time": "2022-07-22T10:03:35.867444",
   "version": "2.3.3"
  }
 },
 "nbformat": 4,
 "nbformat_minor": 5
}