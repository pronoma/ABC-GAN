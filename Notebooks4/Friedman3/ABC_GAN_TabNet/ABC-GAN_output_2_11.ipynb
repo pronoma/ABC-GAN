{
 "cells": [
  {
   "cell_type": "markdown",
   "id": "622780e6",
   "metadata": {
    "id": "622780e6",
    "papermill": {
     "duration": 0.009444,
     "end_time": "2022-07-22T11:08:31.416817",
     "exception": false,
     "start_time": "2022-07-22T11:08:31.407373",
     "status": "completed"
    },
    "tags": []
   },
   "source": [
    "## Import Libraries "
   ]
  },
  {
   "cell_type": "code",
   "execution_count": 1,
   "id": "a62397e3",
   "metadata": {
    "execution": {
     "iopub.execute_input": "2022-07-22T11:08:31.447524Z",
     "iopub.status.busy": "2022-07-22T11:08:31.446429Z",
     "iopub.status.idle": "2022-07-22T11:08:31.480198Z",
     "shell.execute_reply": "2022-07-22T11:08:31.476459Z"
    },
    "id": "a62397e3",
    "papermill": {
     "duration": 0.057354,
     "end_time": "2022-07-22T11:08:31.484517",
     "exception": false,
     "start_time": "2022-07-22T11:08:31.427163",
     "status": "completed"
    },
    "tags": []
   },
   "outputs": [],
   "source": [
    "import warnings\n",
    "import sys\n",
    "sys.path.insert(0, '../../src')\n",
    "warnings.filterwarnings('ignore')"
   ]
  },
  {
   "cell_type": "code",
   "execution_count": 2,
   "id": "d6a4e155",
   "metadata": {
    "execution": {
     "iopub.execute_input": "2022-07-22T11:08:31.503683Z",
     "iopub.status.busy": "2022-07-22T11:08:31.503200Z",
     "iopub.status.idle": "2022-07-22T11:08:42.208190Z",
     "shell.execute_reply": "2022-07-22T11:08:42.207232Z"
    },
    "id": "d6a4e155",
    "papermill": {
     "duration": 10.718226,
     "end_time": "2022-07-22T11:08:42.211277",
     "exception": false,
     "start_time": "2022-07-22T11:08:31.493051",
     "status": "completed"
    },
    "tags": []
   },
   "outputs": [],
   "source": [
    "import ABC_train_test2\n",
    "import friedman3Dataset\n",
    "import network\n",
    "import dataset\n",
    "import sanityChecks\n",
    "import torch \n",
    "import scrapbook as sb\n",
    "from statistics import mean \n",
    "import catboost as ctb \n",
    "from sklearn.model_selection import train_test_split\n",
    "from sklearn.metrics import mean_squared_error,mean_absolute_error\n",
    "import numpy as np\n",
    "from pytorch_tabnet.tab_model import TabNetRegressor"
   ]
  },
  {
   "cell_type": "markdown",
   "id": "2fa5b0f7",
   "metadata": {
    "id": "2fa5b0f7",
    "papermill": {
     "duration": 0.014174,
     "end_time": "2022-07-22T11:08:42.233197",
     "exception": false,
     "start_time": "2022-07-22T11:08:42.219023",
     "status": "completed"
    },
    "tags": []
   },
   "source": [
    "## Parameters "
   ]
  },
  {
   "cell_type": "code",
   "execution_count": 3,
   "id": "783186fb",
   "metadata": {
    "execution": {
     "iopub.execute_input": "2022-07-22T11:08:42.274742Z",
     "iopub.status.busy": "2022-07-22T11:08:42.273708Z",
     "iopub.status.idle": "2022-07-22T11:08:42.292213Z",
     "shell.execute_reply": "2022-07-22T11:08:42.287974Z"
    },
    "id": "783186fb",
    "papermill": {
     "duration": 0.048558,
     "end_time": "2022-07-22T11:08:42.296019",
     "exception": false,
     "start_time": "2022-07-22T11:08:42.247461",
     "status": "completed"
    },
    "tags": [
     "parameters"
    ]
   },
   "outputs": [],
   "source": [
    "variance = 1\n",
    "bias = 1 "
   ]
  },
  {
   "cell_type": "code",
   "execution_count": 4,
   "id": "7e136045",
   "metadata": {
    "execution": {
     "iopub.execute_input": "2022-07-22T11:08:42.313924Z",
     "iopub.status.busy": "2022-07-22T11:08:42.313577Z",
     "iopub.status.idle": "2022-07-22T11:08:42.318272Z",
     "shell.execute_reply": "2022-07-22T11:08:42.317103Z"
    },
    "papermill": {
     "duration": 0.018548,
     "end_time": "2022-07-22T11:08:42.322358",
     "exception": false,
     "start_time": "2022-07-22T11:08:42.303810",
     "status": "completed"
    },
    "tags": [
     "injected-parameters"
    ]
   },
   "outputs": [],
   "source": [
    "# Parameters\n",
    "variance = 0.01\n",
    "bias = 0\n"
   ]
  },
  {
   "cell_type": "markdown",
   "id": "391cdbfd",
   "metadata": {
    "id": "391cdbfd",
    "papermill": {
     "duration": 0.012526,
     "end_time": "2022-07-22T11:08:42.346793",
     "exception": false,
     "start_time": "2022-07-22T11:08:42.334267",
     "status": "completed"
    },
    "tags": []
   },
   "source": [
    "## Dataset \n"
   ]
  },
  {
   "cell_type": "code",
   "execution_count": 5,
   "id": "5b51f161",
   "metadata": {
    "execution": {
     "iopub.execute_input": "2022-07-22T11:08:42.364549Z",
     "iopub.status.busy": "2022-07-22T11:08:42.364192Z",
     "iopub.status.idle": "2022-07-22T11:08:42.374418Z",
     "shell.execute_reply": "2022-07-22T11:08:42.367654Z"
    },
    "id": "5b51f161",
    "papermill": {
     "duration": 0.023865,
     "end_time": "2022-07-22T11:08:42.378447",
     "exception": false,
     "start_time": "2022-07-22T11:08:42.354582",
     "status": "completed"
    },
    "tags": []
   },
   "outputs": [],
   "source": [
    "#Parameters \n",
    "n_features = 4\n",
    "n_samples= 100\n",
    "n_target = 1"
   ]
  },
  {
   "cell_type": "code",
   "execution_count": 6,
   "id": "5d6eced4",
   "metadata": {
    "execution": {
     "iopub.execute_input": "2022-07-22T11:08:42.411816Z",
     "iopub.status.busy": "2022-07-22T11:08:42.410646Z",
     "iopub.status.idle": "2022-07-22T11:08:42.430488Z",
     "shell.execute_reply": "2022-07-22T11:08:42.429251Z"
    },
    "id": "5d6eced4",
    "papermill": {
     "duration": 0.037702,
     "end_time": "2022-07-22T11:08:42.435288",
     "exception": false,
     "start_time": "2022-07-22T11:08:42.397586",
     "status": "completed"
    },
    "tags": []
   },
   "outputs": [
    {
     "name": "stdout",
     "output_type": "stream",
     "text": [
      "          X1           X2        X3         X4         Y\n",
      "0  65.030901  1252.996515  0.155486   3.488734  1.380786\n",
      "1  47.510738  1451.438974  0.264329   8.159302  1.304904\n",
      "2  58.836002  1595.171538  0.907671  10.803557  1.451543\n",
      "3  86.709838  1319.069744  0.120173   1.899865  1.202638\n",
      "4  71.678988   900.520901  0.491483   2.099686  1.521675\n"
     ]
    }
   ],
   "source": [
    "X,Y = friedman3Dataset.friedman3_data(n_samples)"
   ]
  },
  {
   "cell_type": "code",
   "execution_count": 7,
   "id": "fe007438",
   "metadata": {
    "execution": {
     "iopub.execute_input": "2022-07-22T11:08:42.459620Z",
     "iopub.status.busy": "2022-07-22T11:08:42.459199Z",
     "iopub.status.idle": "2022-07-22T11:08:42.466386Z",
     "shell.execute_reply": "2022-07-22T11:08:42.465279Z"
    },
    "id": "fe007438",
    "papermill": {
     "duration": 0.019448,
     "end_time": "2022-07-22T11:08:42.469358",
     "exception": false,
     "start_time": "2022-07-22T11:08:42.449910",
     "status": "completed"
    },
    "tags": []
   },
   "outputs": [],
   "source": [
    "#Train test split for dataset \n",
    "X_train,X_test,Y_train,Y_test = train_test_split(X,Y,test_size = 0.2)\n",
    "train_data = dataset.CustomDataset(X_train,Y_train)\n",
    "test_data = dataset.CustomDataset(X_test,Y_test)\n"
   ]
  },
  {
   "cell_type": "markdown",
   "id": "a9a1af34",
   "metadata": {
    "id": "a9a1af34",
    "papermill": {
     "duration": 0.01437,
     "end_time": "2022-07-22T11:08:42.496091",
     "exception": false,
     "start_time": "2022-07-22T11:08:42.481721",
     "status": "completed"
    },
    "tags": []
   },
   "source": [
    "## Training Parameters "
   ]
  },
  {
   "cell_type": "code",
   "execution_count": 8,
   "id": "952b7fc8",
   "metadata": {
    "execution": {
     "iopub.execute_input": "2022-07-22T11:08:42.515516Z",
     "iopub.status.busy": "2022-07-22T11:08:42.515151Z",
     "iopub.status.idle": "2022-07-22T11:08:42.520915Z",
     "shell.execute_reply": "2022-07-22T11:08:42.519550Z"
    },
    "id": "952b7fc8",
    "papermill": {
     "duration": 0.021179,
     "end_time": "2022-07-22T11:08:42.525593",
     "exception": false,
     "start_time": "2022-07-22T11:08:42.504414",
     "status": "completed"
    },
    "tags": []
   },
   "outputs": [],
   "source": [
    "batch_size = 32\n",
    "n_epochs = 1000\n",
    "#Select the device \n",
    "device = torch.device('cuda' if torch.cuda.is_available() else 'cpu')"
   ]
  },
  {
   "cell_type": "markdown",
   "id": "a95e1600",
   "metadata": {
    "id": "a95e1600",
    "papermill": {
     "duration": 0.011943,
     "end_time": "2022-07-22T11:08:42.548835",
     "exception": false,
     "start_time": "2022-07-22T11:08:42.536892",
     "status": "completed"
    },
    "tags": []
   },
   "source": [
    "# ABC Pre-generator Model \n",
    "\n",
    "1. The catboost model is used as a pre-generator model for the ABC-GAN. \n",
    "2. The model is first trained on the entire dataset \n",
    "3. It generats X,Y pairs and we add some Gaussian noise with mean 0 and variance 1 to it which is then feed as input to the generator.\n"
   ]
  },
  {
   "cell_type": "code",
   "execution_count": 9,
   "id": "ac011ebf",
   "metadata": {
    "execution": {
     "iopub.execute_input": "2022-07-22T11:08:42.574221Z",
     "iopub.status.busy": "2022-07-22T11:08:42.571608Z",
     "iopub.status.idle": "2022-07-22T11:09:36.436762Z",
     "shell.execute_reply": "2022-07-22T11:09:36.433182Z"
    },
    "papermill": {
     "duration": 53.881328,
     "end_time": "2022-07-22T11:09:36.440842",
     "exception": false,
     "start_time": "2022-07-22T11:08:42.559514",
     "status": "completed"
    },
    "tags": []
   },
   "outputs": [
    {
     "name": "stdout",
     "output_type": "stream",
     "text": [
      "Device used : cpu\n"
     ]
    },
    {
     "name": "stdout",
     "output_type": "stream",
     "text": [
      "epoch 0  | loss: 1.27552 | train_mse: 5.35287 | train_mae: 1.72018 |  0:00:00s\n",
      "epoch 1  | loss: 1.04534 | train_mse: 4.0611  | train_mae: 1.51354 |  0:00:00s\n"
     ]
    },
    {
     "name": "stdout",
     "output_type": "stream",
     "text": [
      "epoch 2  | loss: 0.99728 | train_mse: 3.2784  | train_mae: 1.39527 |  0:00:00s\n",
      "epoch 3  | loss: 0.97285 | train_mse: 2.80922 | train_mae: 1.30113 |  0:00:00s\n"
     ]
    },
    {
     "name": "stdout",
     "output_type": "stream",
     "text": [
      "epoch 4  | loss: 0.91419 | train_mse: 2.48189 | train_mae: 1.21026 |  0:00:00s\n",
      "epoch 5  | loss: 0.93503 | train_mse: 2.11183 | train_mae: 1.12679 |  0:00:00s\n"
     ]
    },
    {
     "name": "stdout",
     "output_type": "stream",
     "text": [
      "epoch 6  | loss: 0.91403 | train_mse: 1.89967 | train_mae: 1.07106 |  0:00:01s\n",
      "epoch 7  | loss: 0.81559 | train_mse: 1.58629 | train_mae: 0.98778 |  0:00:01s\n"
     ]
    },
    {
     "name": "stdout",
     "output_type": "stream",
     "text": [
      "epoch 8  | loss: 0.78315 | train_mse: 1.39626 | train_mae: 0.92701 |  0:00:01s\n"
     ]
    },
    {
     "name": "stdout",
     "output_type": "stream",
     "text": [
      "epoch 9  | loss: 0.70877 | train_mse: 1.28608 | train_mae: 0.89941 |  0:00:01s\n"
     ]
    },
    {
     "name": "stdout",
     "output_type": "stream",
     "text": [
      "epoch 10 | loss: 0.69735 | train_mse: 1.17587 | train_mae: 0.8558  |  0:00:01s\n"
     ]
    },
    {
     "name": "stdout",
     "output_type": "stream",
     "text": [
      "epoch 11 | loss: 0.77845 | train_mse: 1.10011 | train_mae: 0.82792 |  0:00:02s\n",
      "epoch 12 | loss: 0.66053 | train_mse: 1.06077 | train_mae: 0.81047 |  0:00:02s\n"
     ]
    },
    {
     "name": "stdout",
     "output_type": "stream",
     "text": [
      "epoch 13 | loss: 0.6146  | train_mse: 1.00091 | train_mae: 0.77736 |  0:00:02s\n"
     ]
    },
    {
     "name": "stdout",
     "output_type": "stream",
     "text": [
      "epoch 14 | loss: 0.57284 | train_mse: 0.90129 | train_mae: 0.73601 |  0:00:03s\n"
     ]
    },
    {
     "name": "stdout",
     "output_type": "stream",
     "text": [
      "epoch 15 | loss: 0.6342  | train_mse: 0.84887 | train_mae: 0.71445 |  0:00:03s\n"
     ]
    },
    {
     "name": "stdout",
     "output_type": "stream",
     "text": [
      "epoch 16 | loss: 0.4792  | train_mse: 0.7914  | train_mae: 0.68821 |  0:00:04s\n"
     ]
    },
    {
     "name": "stdout",
     "output_type": "stream",
     "text": [
      "epoch 17 | loss: 0.53448 | train_mse: 0.7329  | train_mae: 0.66006 |  0:00:04s\n"
     ]
    },
    {
     "name": "stdout",
     "output_type": "stream",
     "text": [
      "epoch 18 | loss: 0.47522 | train_mse: 0.68988 | train_mae: 0.63827 |  0:00:05s\n"
     ]
    },
    {
     "name": "stdout",
     "output_type": "stream",
     "text": [
      "epoch 19 | loss: 0.46537 | train_mse: 0.64944 | train_mae: 0.62096 |  0:00:05s\n"
     ]
    },
    {
     "name": "stdout",
     "output_type": "stream",
     "text": [
      "epoch 20 | loss: 0.54572 | train_mse: 0.61681 | train_mae: 0.60731 |  0:00:06s\n"
     ]
    },
    {
     "name": "stdout",
     "output_type": "stream",
     "text": [
      "epoch 21 | loss: 0.4349  | train_mse: 0.59216 | train_mae: 0.60013 |  0:00:06s\n"
     ]
    },
    {
     "name": "stdout",
     "output_type": "stream",
     "text": [
      "epoch 22 | loss: 0.44341 | train_mse: 0.56983 | train_mae: 0.59198 |  0:00:06s\n"
     ]
    },
    {
     "name": "stdout",
     "output_type": "stream",
     "text": [
      "epoch 23 | loss: 0.61434 | train_mse: 0.55362 | train_mae: 0.58494 |  0:00:07s\n"
     ]
    },
    {
     "name": "stdout",
     "output_type": "stream",
     "text": [
      "epoch 24 | loss: 0.5619  | train_mse: 0.53524 | train_mae: 0.57913 |  0:00:07s\n",
      "epoch 25 | loss: 0.77181 | train_mse: 0.50846 | train_mae: 0.56219 |  0:00:07s\n"
     ]
    },
    {
     "name": "stdout",
     "output_type": "stream",
     "text": [
      "epoch 26 | loss: 0.50772 | train_mse: 0.50338 | train_mae: 0.56524 |  0:00:07s\n"
     ]
    },
    {
     "name": "stdout",
     "output_type": "stream",
     "text": [
      "epoch 27 | loss: 0.57361 | train_mse: 0.49113 | train_mae: 0.56135 |  0:00:07s\n"
     ]
    },
    {
     "name": "stdout",
     "output_type": "stream",
     "text": [
      "epoch 28 | loss: 0.30773 | train_mse: 0.47397 | train_mae: 0.55343 |  0:00:08s\n"
     ]
    },
    {
     "name": "stdout",
     "output_type": "stream",
     "text": [
      "epoch 29 | loss: 0.56876 | train_mse: 0.45926 | train_mae: 0.5457  |  0:00:08s\n"
     ]
    },
    {
     "name": "stdout",
     "output_type": "stream",
     "text": [
      "epoch 30 | loss: 0.40415 | train_mse: 0.44194 | train_mae: 0.53578 |  0:00:08s\n"
     ]
    },
    {
     "name": "stdout",
     "output_type": "stream",
     "text": [
      "epoch 31 | loss: 0.32626 | train_mse: 0.42311 | train_mae: 0.5232  |  0:00:09s\n"
     ]
    },
    {
     "name": "stdout",
     "output_type": "stream",
     "text": [
      "epoch 32 | loss: 0.49969 | train_mse: 0.40753 | train_mae: 0.51272 |  0:00:09s\n"
     ]
    },
    {
     "name": "stdout",
     "output_type": "stream",
     "text": [
      "epoch 33 | loss: 0.44647 | train_mse: 0.39228 | train_mae: 0.50093 |  0:00:09s\n",
      "epoch 34 | loss: 0.47496 | train_mse: 0.38408 | train_mae: 0.49682 |  0:00:10s\n"
     ]
    },
    {
     "name": "stdout",
     "output_type": "stream",
     "text": [
      "epoch 35 | loss: 0.3608  | train_mse: 0.37044 | train_mae: 0.48439 |  0:00:10s\n"
     ]
    },
    {
     "name": "stdout",
     "output_type": "stream",
     "text": [
      "epoch 36 | loss: 0.34682 | train_mse: 0.35975 | train_mae: 0.47846 |  0:00:10s\n"
     ]
    },
    {
     "name": "stdout",
     "output_type": "stream",
     "text": [
      "epoch 37 | loss: 0.43541 | train_mse: 0.3456  | train_mae: 0.46691 |  0:00:11s\n",
      "epoch 38 | loss: 0.32722 | train_mse: 0.33839 | train_mae: 0.46317 |  0:00:11s\n"
     ]
    },
    {
     "name": "stdout",
     "output_type": "stream",
     "text": [
      "epoch 39 | loss: 0.47295 | train_mse: 0.32221 | train_mae: 0.45205 |  0:00:11s\n"
     ]
    },
    {
     "name": "stdout",
     "output_type": "stream",
     "text": [
      "epoch 40 | loss: 0.38224 | train_mse: 0.31861 | train_mae: 0.44564 |  0:00:11s\n"
     ]
    },
    {
     "name": "stdout",
     "output_type": "stream",
     "text": [
      "epoch 41 | loss: 0.54961 | train_mse: 0.30489 | train_mae: 0.4343  |  0:00:12s\n"
     ]
    },
    {
     "name": "stdout",
     "output_type": "stream",
     "text": [
      "epoch 42 | loss: 0.53547 | train_mse: 0.30087 | train_mae: 0.42811 |  0:00:12s\n"
     ]
    },
    {
     "name": "stdout",
     "output_type": "stream",
     "text": [
      "epoch 43 | loss: 0.38108 | train_mse: 0.29017 | train_mae: 0.42054 |  0:00:12s\n"
     ]
    },
    {
     "name": "stdout",
     "output_type": "stream",
     "text": [
      "epoch 44 | loss: 0.46491 | train_mse: 0.28199 | train_mae: 0.41432 |  0:00:13s\n"
     ]
    },
    {
     "name": "stdout",
     "output_type": "stream",
     "text": [
      "epoch 45 | loss: 0.48477 | train_mse: 0.2745  | train_mae: 0.40906 |  0:00:14s\n"
     ]
    },
    {
     "name": "stdout",
     "output_type": "stream",
     "text": [
      "epoch 46 | loss: 0.36929 | train_mse: 0.26818 | train_mae: 0.40695 |  0:00:14s\n"
     ]
    },
    {
     "name": "stdout",
     "output_type": "stream",
     "text": [
      "epoch 47 | loss: 0.37886 | train_mse: 0.25638 | train_mae: 0.40114 |  0:00:14s\n"
     ]
    },
    {
     "name": "stdout",
     "output_type": "stream",
     "text": [
      "epoch 48 | loss: 0.33979 | train_mse: 0.24525 | train_mae: 0.39492 |  0:00:15s\n"
     ]
    },
    {
     "name": "stdout",
     "output_type": "stream",
     "text": [
      "epoch 49 | loss: 0.46507 | train_mse: 0.23714 | train_mae: 0.38873 |  0:00:15s\n"
     ]
    },
    {
     "name": "stdout",
     "output_type": "stream",
     "text": [
      "epoch 50 | loss: 0.2529  | train_mse: 0.22762 | train_mae: 0.38028 |  0:00:16s\n"
     ]
    },
    {
     "name": "stdout",
     "output_type": "stream",
     "text": [
      "epoch 51 | loss: 0.32986 | train_mse: 0.22182 | train_mae: 0.37537 |  0:00:16s\n"
     ]
    },
    {
     "name": "stdout",
     "output_type": "stream",
     "text": [
      "epoch 52 | loss: 0.28373 | train_mse: 0.21946 | train_mae: 0.37302 |  0:00:16s\n"
     ]
    },
    {
     "name": "stdout",
     "output_type": "stream",
     "text": [
      "epoch 53 | loss: 0.26928 | train_mse: 0.21837 | train_mae: 0.37046 |  0:00:17s\n"
     ]
    },
    {
     "name": "stdout",
     "output_type": "stream",
     "text": [
      "epoch 54 | loss: 0.34467 | train_mse: 0.21898 | train_mae: 0.37139 |  0:00:17s\n"
     ]
    },
    {
     "name": "stdout",
     "output_type": "stream",
     "text": [
      "epoch 55 | loss: 0.38482 | train_mse: 0.21685 | train_mae: 0.37018 |  0:00:17s\n"
     ]
    },
    {
     "name": "stdout",
     "output_type": "stream",
     "text": [
      "epoch 56 | loss: 0.3127  | train_mse: 0.21498 | train_mae: 0.36779 |  0:00:18s\n",
      "epoch 57 | loss: 0.43778 | train_mse: 0.21591 | train_mae: 0.36801 |  0:00:18s\n"
     ]
    },
    {
     "name": "stdout",
     "output_type": "stream",
     "text": [
      "epoch 58 | loss: 0.44342 | train_mse: 0.21583 | train_mae: 0.36449 |  0:00:18s\n"
     ]
    },
    {
     "name": "stdout",
     "output_type": "stream",
     "text": [
      "epoch 59 | loss: 0.42201 | train_mse: 0.21657 | train_mae: 0.36085 |  0:00:19s\n"
     ]
    },
    {
     "name": "stdout",
     "output_type": "stream",
     "text": [
      "epoch 60 | loss: 0.39691 | train_mse: 0.21984 | train_mae: 0.36085 |  0:00:19s\n"
     ]
    },
    {
     "name": "stdout",
     "output_type": "stream",
     "text": [
      "epoch 61 | loss: 0.28703 | train_mse: 0.21915 | train_mae: 0.36068 |  0:00:20s\n"
     ]
    },
    {
     "name": "stdout",
     "output_type": "stream",
     "text": [
      "epoch 62 | loss: 0.33928 | train_mse: 0.21768 | train_mae: 0.36203 |  0:00:20s\n"
     ]
    },
    {
     "name": "stdout",
     "output_type": "stream",
     "text": [
      "epoch 63 | loss: 0.25231 | train_mse: 0.21162 | train_mae: 0.35998 |  0:00:20s\n"
     ]
    },
    {
     "name": "stdout",
     "output_type": "stream",
     "text": [
      "epoch 64 | loss: 0.33789 | train_mse: 0.20354 | train_mae: 0.35371 |  0:00:21s\n"
     ]
    },
    {
     "name": "stdout",
     "output_type": "stream",
     "text": [
      "epoch 65 | loss: 0.28384 | train_mse: 0.21328 | train_mae: 0.36143 |  0:00:21s\n"
     ]
    },
    {
     "name": "stdout",
     "output_type": "stream",
     "text": [
      "epoch 66 | loss: 0.31797 | train_mse: 0.21343 | train_mae: 0.36298 |  0:00:21s\n",
      "epoch 67 | loss: 0.29305 | train_mse: 0.20968 | train_mae: 0.36068 |  0:00:21s\n"
     ]
    },
    {
     "name": "stdout",
     "output_type": "stream",
     "text": [
      "epoch 68 | loss: 0.4463  | train_mse: 0.20431 | train_mae: 0.35714 |  0:00:21s\n",
      "epoch 69 | loss: 0.54139 | train_mse: 0.20157 | train_mae: 0.35469 |  0:00:21s\n"
     ]
    },
    {
     "name": "stdout",
     "output_type": "stream",
     "text": [
      "epoch 70 | loss: 0.19352 | train_mse: 0.20055 | train_mae: 0.35145 |  0:00:22s\n"
     ]
    },
    {
     "name": "stdout",
     "output_type": "stream",
     "text": [
      "epoch 71 | loss: 0.26568 | train_mse: 0.19748 | train_mae: 0.348   |  0:00:22s\n"
     ]
    },
    {
     "name": "stdout",
     "output_type": "stream",
     "text": [
      "epoch 72 | loss: 0.29928 | train_mse: 0.1921  | train_mae: 0.34328 |  0:00:22s\n"
     ]
    },
    {
     "name": "stdout",
     "output_type": "stream",
     "text": [
      "epoch 73 | loss: 0.21573 | train_mse: 0.18783 | train_mae: 0.34103 |  0:00:23s\n"
     ]
    },
    {
     "name": "stdout",
     "output_type": "stream",
     "text": [
      "epoch 74 | loss: 0.33184 | train_mse: 0.18404 | train_mae: 0.33796 |  0:00:23s\n"
     ]
    },
    {
     "name": "stdout",
     "output_type": "stream",
     "text": [
      "epoch 75 | loss: 0.32638 | train_mse: 0.18168 | train_mae: 0.33625 |  0:00:24s\n"
     ]
    },
    {
     "name": "stdout",
     "output_type": "stream",
     "text": [
      "epoch 76 | loss: 0.48787 | train_mse: 0.18158 | train_mae: 0.33731 |  0:00:24s\n",
      "epoch 77 | loss: 0.30896 | train_mse: 0.18172 | train_mae: 0.33755 |  0:00:25s\n"
     ]
    },
    {
     "name": "stdout",
     "output_type": "stream",
     "text": [
      "epoch 78 | loss: 0.22429 | train_mse: 0.18087 | train_mae: 0.33733 |  0:00:25s\n",
      "epoch 79 | loss: 0.21584 | train_mse: 0.17922 | train_mae: 0.33572 |  0:00:25s\n"
     ]
    },
    {
     "name": "stdout",
     "output_type": "stream",
     "text": [
      "epoch 80 | loss: 0.28614 | train_mse: 0.17429 | train_mae: 0.33168 |  0:00:25s\n"
     ]
    },
    {
     "name": "stdout",
     "output_type": "stream",
     "text": [
      "epoch 81 | loss: 0.30402 | train_mse: 0.17148 | train_mae: 0.32778 |  0:00:25s\n",
      "epoch 82 | loss: 0.44546 | train_mse: 0.17114 | train_mae: 0.3252  |  0:00:26s\n"
     ]
    },
    {
     "name": "stdout",
     "output_type": "stream",
     "text": [
      "epoch 83 | loss: 0.3541  | train_mse: 0.1714  | train_mae: 0.3249  |  0:00:26s\n",
      "epoch 84 | loss: 0.27102 | train_mse: 0.17185 | train_mae: 0.32782 |  0:00:26s\n"
     ]
    },
    {
     "name": "stdout",
     "output_type": "stream",
     "text": [
      "epoch 85 | loss: 0.35016 | train_mse: 0.17424 | train_mae: 0.3305  |  0:00:26s\n",
      "epoch 86 | loss: 0.27356 | train_mse: 0.17412 | train_mae: 0.33287 |  0:00:26s\n"
     ]
    },
    {
     "name": "stdout",
     "output_type": "stream",
     "text": [
      "epoch 87 | loss: 0.25055 | train_mse: 0.17139 | train_mae: 0.33083 |  0:00:26s\n"
     ]
    },
    {
     "name": "stdout",
     "output_type": "stream",
     "text": [
      "epoch 88 | loss: 0.27551 | train_mse: 0.16696 | train_mae: 0.32493 |  0:00:27s\n"
     ]
    },
    {
     "name": "stdout",
     "output_type": "stream",
     "text": [
      "epoch 89 | loss: 0.18617 | train_mse: 0.16471 | train_mae: 0.31992 |  0:00:27s\n",
      "epoch 90 | loss: 0.2672  | train_mse: 0.16425 | train_mae: 0.32098 |  0:00:27s\n"
     ]
    },
    {
     "name": "stdout",
     "output_type": "stream",
     "text": [
      "epoch 91 | loss: 0.36105 | train_mse: 0.16524 | train_mae: 0.32266 |  0:00:28s\n",
      "epoch 92 | loss: 0.31421 | train_mse: 0.17083 | train_mae: 0.32662 |  0:00:28s\n"
     ]
    },
    {
     "name": "stdout",
     "output_type": "stream",
     "text": [
      "epoch 93 | loss: 0.31673 | train_mse: 0.17439 | train_mae: 0.32688 |  0:00:28s\n",
      "epoch 94 | loss: 0.30232 | train_mse: 0.17263 | train_mae: 0.32426 |  0:00:28s\n"
     ]
    },
    {
     "name": "stdout",
     "output_type": "stream",
     "text": [
      "epoch 95 | loss: 0.23621 | train_mse: 0.17138 | train_mae: 0.32377 |  0:00:28s\n",
      "epoch 96 | loss: 0.32755 | train_mse: 0.16789 | train_mae: 0.3208  |  0:00:29s\n"
     ]
    },
    {
     "name": "stdout",
     "output_type": "stream",
     "text": [
      "epoch 97 | loss: 0.37011 | train_mse: 0.15652 | train_mae: 0.31032 |  0:00:29s\n"
     ]
    },
    {
     "name": "stdout",
     "output_type": "stream",
     "text": [
      "epoch 98 | loss: 0.27501 | train_mse: 0.1559  | train_mae: 0.31223 |  0:00:29s\n"
     ]
    },
    {
     "name": "stdout",
     "output_type": "stream",
     "text": [
      "epoch 99 | loss: 0.19515 | train_mse: 0.15503 | train_mae: 0.31265 |  0:00:29s\n",
      "epoch 100| loss: 0.24908 | train_mse: 0.15082 | train_mae: 0.3049  |  0:00:30s\n"
     ]
    },
    {
     "name": "stdout",
     "output_type": "stream",
     "text": [
      "epoch 101| loss: 0.23125 | train_mse: 0.15044 | train_mae: 0.30396 |  0:00:30s\n",
      "epoch 102| loss: 0.26017 | train_mse: 0.15077 | train_mae: 0.30272 |  0:00:30s\n",
      "epoch 103| loss: 0.2643  | train_mse: 0.15178 | train_mae: 0.30763 |  0:00:30s\n"
     ]
    },
    {
     "name": "stdout",
     "output_type": "stream",
     "text": [
      "epoch 104| loss: 0.19343 | train_mse: 0.15965 | train_mae: 0.31064 |  0:00:30s\n",
      "epoch 105| loss: 0.26651 | train_mse: 0.18247 | train_mae: 0.32113 |  0:00:30s\n"
     ]
    },
    {
     "name": "stdout",
     "output_type": "stream",
     "text": [
      "epoch 106| loss: 0.20347 | train_mse: 0.2209  | train_mae: 0.33832 |  0:00:30s\n",
      "epoch 107| loss: 0.33171 | train_mse: 0.22416 | train_mae: 0.34276 |  0:00:30s\n",
      "epoch 108| loss: 0.26555 | train_mse: 0.20598 | train_mae: 0.33882 |  0:00:31s\n"
     ]
    },
    {
     "name": "stdout",
     "output_type": "stream",
     "text": [
      "epoch 109| loss: 0.24705 | train_mse: 0.19507 | train_mae: 0.33866 |  0:00:31s\n",
      "epoch 110| loss: 0.25032 | train_mse: 0.17554 | train_mae: 0.33483 |  0:00:31s\n",
      "epoch 111| loss: 0.26704 | train_mse: 0.16828 | train_mae: 0.3349  |  0:00:31s\n"
     ]
    },
    {
     "name": "stdout",
     "output_type": "stream",
     "text": [
      "epoch 112| loss: 0.22332 | train_mse: 0.16411 | train_mae: 0.33084 |  0:00:31s\n",
      "epoch 113| loss: 0.25587 | train_mse: 0.16203 | train_mae: 0.32618 |  0:00:31s\n"
     ]
    },
    {
     "name": "stdout",
     "output_type": "stream",
     "text": [
      "epoch 114| loss: 0.24932 | train_mse: 0.16062 | train_mae: 0.32164 |  0:00:31s\n",
      "epoch 115| loss: 0.20787 | train_mse: 0.15687 | train_mae: 0.3171  |  0:00:31s\n",
      "epoch 116| loss: 0.22283 | train_mse: 0.15404 | train_mae: 0.31349 |  0:00:31s\n"
     ]
    },
    {
     "name": "stdout",
     "output_type": "stream",
     "text": [
      "epoch 117| loss: 0.23494 | train_mse: 0.15107 | train_mae: 0.31106 |  0:00:31s\n",
      "epoch 118| loss: 0.2704  | train_mse: 0.14623 | train_mae: 0.3055  |  0:00:32s\n",
      "epoch 119| loss: 0.19696 | train_mse: 0.14123 | train_mae: 0.29952 |  0:00:32s\n"
     ]
    },
    {
     "name": "stdout",
     "output_type": "stream",
     "text": [
      "epoch 120| loss: 0.19453 | train_mse: 0.13946 | train_mae: 0.29787 |  0:00:32s\n",
      "epoch 121| loss: 0.18146 | train_mse: 0.1376  | train_mae: 0.29516 |  0:00:32s\n",
      "epoch 122| loss: 0.13685 | train_mse: 0.13341 | train_mae: 0.28987 |  0:00:32s\n"
     ]
    },
    {
     "name": "stdout",
     "output_type": "stream",
     "text": [
      "epoch 123| loss: 0.32131 | train_mse: 0.1296  | train_mae: 0.28745 |  0:00:32s\n",
      "epoch 124| loss: 0.29699 | train_mse: 0.1275  | train_mae: 0.28516 |  0:00:32s\n",
      "epoch 125| loss: 0.33344 | train_mse: 0.12629 | train_mae: 0.28254 |  0:00:32s\n"
     ]
    },
    {
     "name": "stdout",
     "output_type": "stream",
     "text": [
      "epoch 126| loss: 0.30024 | train_mse: 0.12852 | train_mae: 0.28354 |  0:00:32s\n",
      "epoch 127| loss: 0.30673 | train_mse: 0.13134 | train_mae: 0.28657 |  0:00:32s\n",
      "epoch 128| loss: 0.17864 | train_mse: 0.13384 | train_mae: 0.28808 |  0:00:33s\n"
     ]
    },
    {
     "name": "stdout",
     "output_type": "stream",
     "text": [
      "epoch 129| loss: 0.25759 | train_mse: 0.13121 | train_mae: 0.28558 |  0:00:33s\n",
      "epoch 130| loss: 0.19019 | train_mse: 0.12618 | train_mae: 0.2808  |  0:00:33s\n"
     ]
    },
    {
     "name": "stdout",
     "output_type": "stream",
     "text": [
      "epoch 131| loss: 0.3027  | train_mse: 0.12229 | train_mae: 0.27749 |  0:00:33s\n",
      "epoch 132| loss: 0.25941 | train_mse: 0.12056 | train_mae: 0.27643 |  0:00:33s\n"
     ]
    },
    {
     "name": "stdout",
     "output_type": "stream",
     "text": [
      "epoch 133| loss: 0.2888  | train_mse: 0.11969 | train_mae: 0.27562 |  0:00:33s\n",
      "epoch 134| loss: 0.24828 | train_mse: 0.11802 | train_mae: 0.27474 |  0:00:33s\n",
      "epoch 135| loss: 0.17155 | train_mse: 0.11762 | train_mae: 0.27483 |  0:00:33s\n"
     ]
    },
    {
     "name": "stdout",
     "output_type": "stream",
     "text": [
      "epoch 136| loss: 0.19584 | train_mse: 0.13883 | train_mae: 0.28524 |  0:00:33s\n",
      "epoch 137| loss: 0.19077 | train_mse: 0.13832 | train_mae: 0.28373 |  0:00:33s\n"
     ]
    },
    {
     "name": "stdout",
     "output_type": "stream",
     "text": [
      "epoch 138| loss: 0.25035 | train_mse: 0.13513 | train_mae: 0.28217 |  0:00:34s\n"
     ]
    },
    {
     "name": "stdout",
     "output_type": "stream",
     "text": [
      "epoch 139| loss: 0.32443 | train_mse: 0.13241 | train_mae: 0.28094 |  0:00:34s\n"
     ]
    },
    {
     "name": "stdout",
     "output_type": "stream",
     "text": [
      "epoch 140| loss: 0.51589 | train_mse: 0.1348  | train_mae: 0.27971 |  0:00:34s\n"
     ]
    },
    {
     "name": "stdout",
     "output_type": "stream",
     "text": [
      "epoch 141| loss: 0.19745 | train_mse: 0.11372 | train_mae: 0.26692 |  0:00:35s\n"
     ]
    },
    {
     "name": "stdout",
     "output_type": "stream",
     "text": [
      "epoch 142| loss: 0.15425 | train_mse: 0.11571 | train_mae: 0.26957 |  0:00:35s\n"
     ]
    },
    {
     "name": "stdout",
     "output_type": "stream",
     "text": [
      "epoch 143| loss: 0.20958 | train_mse: 0.11891 | train_mae: 0.27404 |  0:00:35s\n",
      "epoch 144| loss: 0.18135 | train_mse: 0.11961 | train_mae: 0.27442 |  0:00:35s\n"
     ]
    },
    {
     "name": "stdout",
     "output_type": "stream",
     "text": [
      "epoch 145| loss: 0.21705 | train_mse: 0.12081 | train_mae: 0.27617 |  0:00:36s\n",
      "epoch 146| loss: 0.14689 | train_mse: 0.11923 | train_mae: 0.2739  |  0:00:36s\n"
     ]
    },
    {
     "name": "stdout",
     "output_type": "stream",
     "text": [
      "epoch 147| loss: 0.19121 | train_mse: 0.1179  | train_mae: 0.27148 |  0:00:36s\n",
      "epoch 148| loss: 0.17944 | train_mse: 0.11621 | train_mae: 0.26925 |  0:00:36s\n"
     ]
    },
    {
     "name": "stdout",
     "output_type": "stream",
     "text": [
      "epoch 149| loss: 0.31691 | train_mse: 0.11528 | train_mae: 0.26704 |  0:00:36s\n",
      "epoch 150| loss: 0.1759  | train_mse: 0.11175 | train_mae: 0.26237 |  0:00:36s\n"
     ]
    },
    {
     "name": "stdout",
     "output_type": "stream",
     "text": [
      "epoch 151| loss: 0.27282 | train_mse: 0.10842 | train_mae: 0.25742 |  0:00:37s\n"
     ]
    },
    {
     "name": "stdout",
     "output_type": "stream",
     "text": [
      "epoch 152| loss: 0.25599 | train_mse: 0.11007 | train_mae: 0.26182 |  0:00:37s\n",
      "epoch 153| loss: 0.21644 | train_mse: 0.11111 | train_mae: 0.26406 |  0:00:37s\n"
     ]
    },
    {
     "name": "stdout",
     "output_type": "stream",
     "text": [
      "epoch 154| loss: 0.18847 | train_mse: 0.11071 | train_mae: 0.26444 |  0:00:37s\n",
      "epoch 155| loss: 0.23606 | train_mse: 0.11218 | train_mae: 0.26807 |  0:00:37s\n",
      "epoch 156| loss: 0.3452  | train_mse: 0.11283 | train_mae: 0.27017 |  0:00:37s\n"
     ]
    },
    {
     "name": "stdout",
     "output_type": "stream",
     "text": [
      "epoch 157| loss: 0.17832 | train_mse: 0.11575 | train_mae: 0.27465 |  0:00:37s\n",
      "epoch 158| loss: 0.19539 | train_mse: 0.11373 | train_mae: 0.27251 |  0:00:37s\n"
     ]
    },
    {
     "name": "stdout",
     "output_type": "stream",
     "text": [
      "epoch 159| loss: 0.19972 | train_mse: 0.11281 | train_mae: 0.27116 |  0:00:38s\n"
     ]
    },
    {
     "name": "stdout",
     "output_type": "stream",
     "text": [
      "epoch 160| loss: 0.24025 | train_mse: 0.1121  | train_mae: 0.27211 |  0:00:38s\n",
      "epoch 161| loss: 0.28809 | train_mse: 0.11426 | train_mae: 0.27289 |  0:00:38s\n"
     ]
    },
    {
     "name": "stdout",
     "output_type": "stream",
     "text": [
      "epoch 162| loss: 0.19489 | train_mse: 0.11499 | train_mae: 0.27157 |  0:00:38s\n",
      "epoch 163| loss: 0.26234 | train_mse: 0.1154  | train_mae: 0.27152 |  0:00:38s\n"
     ]
    },
    {
     "name": "stdout",
     "output_type": "stream",
     "text": [
      "epoch 164| loss: 0.11685 | train_mse: 0.11503 | train_mae: 0.26945 |  0:00:38s\n",
      "epoch 165| loss: 0.16609 | train_mse: 0.11421 | train_mae: 0.26751 |  0:00:39s\n",
      "epoch 166| loss: 0.23816 | train_mse: 0.11228 | train_mae: 0.26455 |  0:00:39s\n"
     ]
    },
    {
     "name": "stdout",
     "output_type": "stream",
     "text": [
      "epoch 167| loss: 0.1693  | train_mse: 0.10907 | train_mae: 0.26108 |  0:00:39s\n",
      "epoch 168| loss: 0.15456 | train_mse: 0.10732 | train_mae: 0.26058 |  0:00:39s\n"
     ]
    },
    {
     "name": "stdout",
     "output_type": "stream",
     "text": [
      "epoch 169| loss: 0.208   | train_mse: 0.10672 | train_mae: 0.26057 |  0:00:39s\n",
      "epoch 170| loss: 0.1596  | train_mse: 0.10742 | train_mae: 0.26268 |  0:00:39s\n"
     ]
    },
    {
     "name": "stdout",
     "output_type": "stream",
     "text": [
      "epoch 171| loss: 0.17624 | train_mse: 0.11022 | train_mae: 0.26602 |  0:00:39s\n",
      "epoch 172| loss: 0.19263 | train_mse: 0.11621 | train_mae: 0.27157 |  0:00:39s\n",
      "epoch 173| loss: 0.27491 | train_mse: 0.10762 | train_mae: 0.2625  |  0:00:39s\n"
     ]
    },
    {
     "name": "stdout",
     "output_type": "stream",
     "text": [
      "epoch 174| loss: 0.1257  | train_mse: 0.11301 | train_mae: 0.27137 |  0:00:39s\n",
      "epoch 175| loss: 0.17813 | train_mse: 0.115   | train_mae: 0.27475 |  0:00:40s\n",
      "epoch 176| loss: 0.15583 | train_mse: 0.11422 | train_mae: 0.27519 |  0:00:40s\n"
     ]
    },
    {
     "name": "stdout",
     "output_type": "stream",
     "text": [
      "epoch 177| loss: 0.17156 | train_mse: 0.11285 | train_mae: 0.27461 |  0:00:40s\n",
      "epoch 178| loss: 0.17635 | train_mse: 0.11349 | train_mae: 0.27511 |  0:00:40s\n",
      "epoch 179| loss: 0.28533 | train_mse: 0.10748 | train_mae: 0.26915 |  0:00:40s\n"
     ]
    },
    {
     "name": "stdout",
     "output_type": "stream",
     "text": [
      "epoch 180| loss: 0.18317 | train_mse: 0.10876 | train_mae: 0.26869 |  0:00:40s\n",
      "epoch 181| loss: 0.24357 | train_mse: 0.10317 | train_mae: 0.25914 |  0:00:40s\n",
      "epoch 182| loss: 0.22612 | train_mse: 0.10091 | train_mae: 0.25215 |  0:00:40s\n"
     ]
    },
    {
     "name": "stdout",
     "output_type": "stream",
     "text": [
      "epoch 183| loss: 0.33869 | train_mse: 0.10534 | train_mae: 0.25098 |  0:00:40s\n",
      "epoch 184| loss: 0.21041 | train_mse: 0.10448 | train_mae: 0.24947 |  0:00:40s\n",
      "epoch 185| loss: 0.18911 | train_mse: 0.09838 | train_mae: 0.24426 |  0:00:41s\n"
     ]
    },
    {
     "name": "stdout",
     "output_type": "stream",
     "text": [
      "epoch 186| loss: 0.16229 | train_mse: 0.09431 | train_mae: 0.23989 |  0:00:41s\n",
      "epoch 187| loss: 0.19221 | train_mse: 0.09103 | train_mae: 0.23684 |  0:00:41s\n"
     ]
    },
    {
     "name": "stdout",
     "output_type": "stream",
     "text": [
      "epoch 188| loss: 0.1554  | train_mse: 0.08854 | train_mae: 0.23292 |  0:00:41s\n",
      "epoch 189| loss: 0.14748 | train_mse: 0.09782 | train_mae: 0.24198 |  0:00:41s\n"
     ]
    },
    {
     "name": "stdout",
     "output_type": "stream",
     "text": [
      "epoch 190| loss: 0.28486 | train_mse: 0.09492 | train_mae: 0.24083 |  0:00:41s\n",
      "epoch 191| loss: 0.28703 | train_mse: 0.09365 | train_mae: 0.23986 |  0:00:41s\n",
      "epoch 192| loss: 0.15249 | train_mse: 0.09469 | train_mae: 0.24109 |  0:00:41s\n"
     ]
    },
    {
     "name": "stdout",
     "output_type": "stream",
     "text": [
      "epoch 193| loss: 0.26615 | train_mse: 0.0966  | train_mae: 0.24262 |  0:00:41s\n"
     ]
    },
    {
     "name": "stdout",
     "output_type": "stream",
     "text": [
      "epoch 194| loss: 0.21957 | train_mse: 0.09786 | train_mae: 0.24316 |  0:00:42s\n",
      "epoch 195| loss: 0.31443 | train_mse: 0.09948 | train_mae: 0.24409 |  0:00:42s\n"
     ]
    },
    {
     "name": "stdout",
     "output_type": "stream",
     "text": [
      "epoch 196| loss: 0.23999 | train_mse: 0.09976 | train_mae: 0.24531 |  0:00:42s\n",
      "epoch 197| loss: 0.24257 | train_mse: 0.09926 | train_mae: 0.24439 |  0:00:42s\n"
     ]
    },
    {
     "name": "stdout",
     "output_type": "stream",
     "text": [
      "epoch 198| loss: 0.22778 | train_mse: 0.09818 | train_mae: 0.24348 |  0:00:42s\n",
      "epoch 199| loss: 0.16035 | train_mse: 0.0978  | train_mae: 0.24479 |  0:00:42s\n"
     ]
    },
    {
     "name": "stdout",
     "output_type": "stream",
     "text": [
      "epoch 200| loss: 0.25813 | train_mse: 0.09656 | train_mae: 0.24353 |  0:00:42s\n",
      "epoch 201| loss: 0.18218 | train_mse: 0.09669 | train_mae: 0.24406 |  0:00:43s\n",
      "epoch 202| loss: 0.2201  | train_mse: 0.0953  | train_mae: 0.24214 |  0:00:43s\n"
     ]
    },
    {
     "name": "stdout",
     "output_type": "stream",
     "text": [
      "epoch 203| loss: 0.16009 | train_mse: 0.09371 | train_mae: 0.24041 |  0:00:43s\n",
      "epoch 204| loss: 0.17712 | train_mse: 0.10323 | train_mae: 0.24887 |  0:00:43s\n",
      "epoch 205| loss: 0.16356 | train_mse: 0.1067  | train_mae: 0.24757 |  0:00:43s\n"
     ]
    },
    {
     "name": "stdout",
     "output_type": "stream",
     "text": [
      "epoch 206| loss: 0.18501 | train_mse: 0.10519 | train_mae: 0.24829 |  0:00:43s\n",
      "epoch 207| loss: 0.15294 | train_mse: 0.10343 | train_mae: 0.24725 |  0:00:43s\n",
      "epoch 208| loss: 0.21523 | train_mse: 0.10294 | train_mae: 0.2472  |  0:00:43s\n"
     ]
    },
    {
     "name": "stdout",
     "output_type": "stream",
     "text": [
      "epoch 209| loss: 0.23921 | train_mse: 0.11334 | train_mae: 0.25803 |  0:00:43s\n",
      "epoch 210| loss: 0.21752 | train_mse: 0.11407 | train_mae: 0.25991 |  0:00:43s\n",
      "epoch 211| loss: 0.142   | train_mse: 0.11326 | train_mae: 0.2633  |  0:00:44s\n"
     ]
    },
    {
     "name": "stdout",
     "output_type": "stream",
     "text": [
      "epoch 212| loss: 0.1385  | train_mse: 0.11197 | train_mae: 0.26112 |  0:00:44s\n",
      "epoch 213| loss: 0.17253 | train_mse: 0.1101  | train_mae: 0.25682 |  0:00:44s\n",
      "epoch 214| loss: 0.21306 | train_mse: 0.08732 | train_mae: 0.23556 |  0:00:44s\n"
     ]
    },
    {
     "name": "stdout",
     "output_type": "stream",
     "text": [
      "epoch 215| loss: 0.21098 | train_mse: 0.08862 | train_mae: 0.23861 |  0:00:44s\n",
      "epoch 216| loss: 0.32196 | train_mse: 0.08787 | train_mae: 0.23676 |  0:00:44s\n"
     ]
    },
    {
     "name": "stdout",
     "output_type": "stream",
     "text": [
      "epoch 217| loss: 0.24685 | train_mse: 0.08919 | train_mae: 0.23788 |  0:00:44s\n"
     ]
    },
    {
     "name": "stdout",
     "output_type": "stream",
     "text": [
      "epoch 218| loss: 0.152   | train_mse: 0.08945 | train_mae: 0.2388  |  0:00:44s\n",
      "epoch 219| loss: 0.19243 | train_mse: 0.08682 | train_mae: 0.23704 |  0:00:45s\n"
     ]
    },
    {
     "name": "stdout",
     "output_type": "stream",
     "text": [
      "epoch 220| loss: 0.18469 | train_mse: 0.08642 | train_mae: 0.23799 |  0:00:45s\n",
      "epoch 221| loss: 0.30806 | train_mse: 0.08728 | train_mae: 0.24014 |  0:00:45s\n",
      "epoch 222| loss: 0.13869 | train_mse: 0.0863  | train_mae: 0.23877 |  0:00:45s\n"
     ]
    },
    {
     "name": "stdout",
     "output_type": "stream",
     "text": [
      "epoch 223| loss: 0.181   | train_mse: 0.085   | train_mae: 0.23841 |  0:00:45s\n"
     ]
    },
    {
     "name": "stdout",
     "output_type": "stream",
     "text": [
      "epoch 224| loss: 0.18012 | train_mse: 0.08373 | train_mae: 0.23616 |  0:00:45s\n",
      "epoch 225| loss: 0.15086 | train_mse: 0.08245 | train_mae: 0.23213 |  0:00:45s\n"
     ]
    },
    {
     "name": "stdout",
     "output_type": "stream",
     "text": [
      "epoch 226| loss: 0.22652 | train_mse: 0.08127 | train_mae: 0.22825 |  0:00:46s\n"
     ]
    },
    {
     "name": "stdout",
     "output_type": "stream",
     "text": [
      "epoch 227| loss: 0.29    | train_mse: 0.08745 | train_mae: 0.23066 |  0:00:46s\n",
      "epoch 228| loss: 0.27263 | train_mse: 0.09846 | train_mae: 0.23708 |  0:00:46s\n"
     ]
    },
    {
     "name": "stdout",
     "output_type": "stream",
     "text": [
      "epoch 229| loss: 0.21523 | train_mse: 0.09766 | train_mae: 0.23516 |  0:00:46s\n",
      "epoch 230| loss: 0.14807 | train_mse: 0.09625 | train_mae: 0.23194 |  0:00:46s\n"
     ]
    },
    {
     "name": "stdout",
     "output_type": "stream",
     "text": [
      "epoch 231| loss: 0.13603 | train_mse: 0.09444 | train_mae: 0.22932 |  0:00:46s\n",
      "epoch 232| loss: 0.19514 | train_mse: 0.08699 | train_mae: 0.22413 |  0:00:46s\n",
      "epoch 233| loss: 0.21975 | train_mse: 0.07697 | train_mae: 0.2145  |  0:00:46s\n"
     ]
    },
    {
     "name": "stdout",
     "output_type": "stream",
     "text": [
      "epoch 234| loss: 0.16004 | train_mse: 0.08103 | train_mae: 0.22141 |  0:00:47s\n",
      "epoch 235| loss: 0.14387 | train_mse: 0.08183 | train_mae: 0.22249 |  0:00:47s\n",
      "epoch 236| loss: 0.26032 | train_mse: 0.08543 | train_mae: 0.22791 |  0:00:47s\n"
     ]
    },
    {
     "name": "stdout",
     "output_type": "stream",
     "text": [
      "epoch 237| loss: 0.19624 | train_mse: 0.08795 | train_mae: 0.23183 |  0:00:47s\n"
     ]
    },
    {
     "name": "stdout",
     "output_type": "stream",
     "text": [
      "epoch 238| loss: 0.3078  | train_mse: 0.08964 | train_mae: 0.23397 |  0:00:47s\n"
     ]
    },
    {
     "name": "stdout",
     "output_type": "stream",
     "text": [
      "epoch 239| loss: 0.16824 | train_mse: 0.09183 | train_mae: 0.23578 |  0:00:47s\n",
      "epoch 240| loss: 0.12654 | train_mse: 0.08902 | train_mae: 0.23296 |  0:00:48s\n"
     ]
    },
    {
     "name": "stdout",
     "output_type": "stream",
     "text": [
      "epoch 241| loss: 0.16378 | train_mse: 0.10118 | train_mae: 0.24525 |  0:00:48s\n",
      "epoch 242| loss: 0.18806 | train_mse: 0.10115 | train_mae: 0.24402 |  0:00:48s\n"
     ]
    },
    {
     "name": "stdout",
     "output_type": "stream",
     "text": [
      "epoch 243| loss: 0.23426 | train_mse: 0.10009 | train_mae: 0.24198 |  0:00:48s\n",
      "epoch 244| loss: 0.15163 | train_mse: 0.09426 | train_mae: 0.23987 |  0:00:48s\n"
     ]
    },
    {
     "name": "stdout",
     "output_type": "stream",
     "text": [
      "epoch 245| loss: 0.13273 | train_mse: 0.08373 | train_mae: 0.22711 |  0:00:48s\n",
      "epoch 246| loss: 0.13317 | train_mse: 0.08604 | train_mae: 0.23092 |  0:00:48s\n"
     ]
    },
    {
     "name": "stdout",
     "output_type": "stream",
     "text": [
      "epoch 247| loss: 0.26451 | train_mse: 0.08801 | train_mae: 0.23262 |  0:00:48s\n",
      "epoch 248| loss: 0.11909 | train_mse: 0.08681 | train_mae: 0.23117 |  0:00:49s\n",
      "epoch 249| loss: 0.22321 | train_mse: 0.0868  | train_mae: 0.23163 |  0:00:49s\n"
     ]
    },
    {
     "name": "stdout",
     "output_type": "stream",
     "text": [
      "epoch 250| loss: 0.15327 | train_mse: 0.08715 | train_mae: 0.23198 |  0:00:49s\n",
      "epoch 251| loss: 0.14183 | train_mse: 0.0876  | train_mae: 0.23383 |  0:00:49s\n",
      "epoch 252| loss: 0.19071 | train_mse: 0.08744 | train_mae: 0.2341  |  0:00:49s\n"
     ]
    },
    {
     "name": "stdout",
     "output_type": "stream",
     "text": [
      "epoch 253| loss: 0.1499  | train_mse: 0.08687 | train_mae: 0.23461 |  0:00:49s\n",
      "epoch 254| loss: 0.18594 | train_mse: 0.0876  | train_mae: 0.23653 |  0:00:49s\n",
      "epoch 255| loss: 0.14649 | train_mse: 0.0871  | train_mae: 0.23543 |  0:00:49s\n"
     ]
    },
    {
     "name": "stdout",
     "output_type": "stream",
     "text": [
      "epoch 256| loss: 0.10909 | train_mse: 0.08582 | train_mae: 0.23322 |  0:00:49s\n",
      "epoch 257| loss: 0.12587 | train_mse: 0.0864  | train_mae: 0.23387 |  0:00:49s\n",
      "epoch 258| loss: 0.22619 | train_mse: 0.08707 | train_mae: 0.23542 |  0:00:50s\n"
     ]
    },
    {
     "name": "stdout",
     "output_type": "stream",
     "text": [
      "epoch 259| loss: 0.17869 | train_mse: 0.08962 | train_mae: 0.2383  |  0:00:50s\n",
      "epoch 260| loss: 0.15411 | train_mse: 0.0919  | train_mae: 0.24109 |  0:00:50s\n"
     ]
    },
    {
     "name": "stdout",
     "output_type": "stream",
     "text": [
      "epoch 261| loss: 0.16048 | train_mse: 0.093   | train_mae: 0.24234 |  0:00:50s\n",
      "epoch 262| loss: 0.17073 | train_mse: 0.09247 | train_mae: 0.24066 |  0:00:50s\n"
     ]
    },
    {
     "name": "stdout",
     "output_type": "stream",
     "text": [
      "epoch 263| loss: 0.16641 | train_mse: 0.08955 | train_mae: 0.23693 |  0:00:50s\n",
      "epoch 264| loss: 0.1242  | train_mse: 0.08531 | train_mae: 0.23135 |  0:00:50s\n"
     ]
    },
    {
     "name": "stdout",
     "output_type": "stream",
     "text": [
      "epoch 265| loss: 0.28687 | train_mse: 0.08406 | train_mae: 0.22957 |  0:00:51s\n"
     ]
    },
    {
     "name": "stdout",
     "output_type": "stream",
     "text": [
      "epoch 266| loss: 0.26698 | train_mse: 0.08247 | train_mae: 0.22813 |  0:00:51s\n"
     ]
    },
    {
     "name": "stdout",
     "output_type": "stream",
     "text": [
      "epoch 267| loss: 0.27327 | train_mse: 0.08052 | train_mae: 0.2258  |  0:00:51s\n",
      "epoch 268| loss: 0.09754 | train_mse: 0.07807 | train_mae: 0.22365 |  0:00:51s\n"
     ]
    },
    {
     "name": "stdout",
     "output_type": "stream",
     "text": [
      "epoch 269| loss: 0.14243 | train_mse: 0.07629 | train_mae: 0.22253 |  0:00:51s\n",
      "epoch 270| loss: 0.30074 | train_mse: 0.07689 | train_mae: 0.22293 |  0:00:52s\n"
     ]
    },
    {
     "name": "stdout",
     "output_type": "stream",
     "text": [
      "epoch 271| loss: 0.12434 | train_mse: 0.07789 | train_mae: 0.22476 |  0:00:52s\n",
      "epoch 272| loss: 0.20545 | train_mse: 0.07913 | train_mae: 0.22588 |  0:00:52s\n"
     ]
    },
    {
     "name": "stdout",
     "output_type": "stream",
     "text": [
      "epoch 273| loss: 0.13477 | train_mse: 0.07979 | train_mae: 0.22609 |  0:00:52s\n",
      "epoch 274| loss: 0.1338  | train_mse: 0.08223 | train_mae: 0.22868 |  0:00:52s\n"
     ]
    },
    {
     "name": "stdout",
     "output_type": "stream",
     "text": [
      "epoch 275| loss: 0.234   | train_mse: 0.08263 | train_mae: 0.2286  |  0:00:52s\n",
      "epoch 276| loss: 0.076   | train_mse: 0.08203 | train_mae: 0.22723 |  0:00:52s\n"
     ]
    },
    {
     "name": "stdout",
     "output_type": "stream",
     "text": [
      "epoch 277| loss: 0.16638 | train_mse: 0.07869 | train_mae: 0.22228 |  0:00:52s\n",
      "epoch 278| loss: 0.28036 | train_mse: 0.07751 | train_mae: 0.2207  |  0:00:52s\n",
      "epoch 279| loss: 0.15901 | train_mse: 0.07702 | train_mae: 0.22107 |  0:00:53s\n"
     ]
    },
    {
     "name": "stdout",
     "output_type": "stream",
     "text": [
      "epoch 280| loss: 0.13028 | train_mse: 0.07865 | train_mae: 0.22433 |  0:00:53s\n",
      "epoch 281| loss: 0.13456 | train_mse: 0.07789 | train_mae: 0.22096 |  0:00:53s\n"
     ]
    },
    {
     "name": "stdout",
     "output_type": "stream",
     "text": [
      "epoch 282| loss: 0.16746 | train_mse: 0.07731 | train_mae: 0.22079 |  0:00:53s\n"
     ]
    },
    {
     "name": "stdout",
     "output_type": "stream",
     "text": [
      "epoch 283| loss: 0.15182 | train_mse: 0.07838 | train_mae: 0.22265 |  0:00:53s\n",
      "\n",
      "Early stopping occurred at epoch 283 with best_epoch = 233 and best_train_mae = 0.2145\n",
      "Best weights from best epoch are automatically used!\n"
     ]
    }
   ],
   "source": [
    "#Train the Model\n",
    "\n",
    "Y_train = np.reshape(Y_train, (-1, 1))\n",
    "Y_test = np.reshape(Y_test, (-1, 1))\n",
    "\n",
    "prior_model = TabNetRegressor(optimizer_fn=torch.optim.Adam, optimizer_params=dict(lr = 0.001),\n",
    "          #scheduler_params={\"step_size\":10, ], \"gamma\":0.9},\n",
    "          #scheduler_fn=torch.optim.lr_scheduler.StepLR\n",
    "          )  #TabNetRegressor()\n",
    "\n",
    "prior_model.fit(X_train,Y_train,eval_set=[(X_train, Y_train)],\n",
    "            eval_name=['train'], \n",
    "            eval_metric=[ 'mse', 'mae'], \n",
    "            max_epochs = n_epochs, \n",
    "            batch_size = batch_size,\n",
    "            patience=50\n",
    "            )"
   ]
  },
  {
   "cell_type": "code",
   "execution_count": 10,
   "id": "af65dcda",
   "metadata": {
    "execution": {
     "iopub.execute_input": "2022-07-22T11:09:36.491023Z",
     "iopub.status.busy": "2022-07-22T11:09:36.489659Z",
     "iopub.status.idle": "2022-07-22T11:09:36.567412Z",
     "shell.execute_reply": "2022-07-22T11:09:36.565225Z"
    },
    "id": "af65dcda",
    "papermill": {
     "duration": 0.114435,
     "end_time": "2022-07-22T11:09:36.574621",
     "exception": false,
     "start_time": "2022-07-22T11:09:36.460186",
     "status": "completed"
    },
    "tags": []
   },
   "outputs": [
    {
     "data": {
      "application/scrapbook.scrap.json+json": {
       "data": 0.4291478164166495,
       "encoder": "json",
       "name": "Prior Model MSE",
       "version": 1
      }
     },
     "metadata": {
      "scrapbook": {
       "data": true,
       "display": false,
       "name": "Prior Model MSE"
      }
     },
     "output_type": "display_data"
    },
    {
     "data": {
      "application/scrapbook.scrap.json+json": {
       "data": 0.4279792259402938,
       "encoder": "json",
       "name": "ABC Pre-generator MSE",
       "version": 1
      }
     },
     "metadata": {
      "scrapbook": {
       "data": true,
       "display": false,
       "name": "ABC Pre-generator MSE"
      }
     },
     "output_type": "display_data"
    },
    {
     "data": {
      "application/scrapbook.scrap.json+json": {
       "data": 0.4543019220270253,
       "encoder": "json",
       "name": "Prior Model MAE",
       "version": 1
      }
     },
     "metadata": {
      "scrapbook": {
       "data": true,
       "display": false,
       "name": "Prior Model MAE"
      }
     },
     "output_type": "display_data"
    },
    {
     "name": "stdout",
     "output_type": "stream",
     "text": [
      "Prior Model MAE 0.4543019220270253\n"
     ]
    },
    {
     "data": {
      "application/scrapbook.scrap.json+json": {
       "data": 0.4551953803225869,
       "encoder": "json",
       "name": "ABC Pre-generator MAE",
       "version": 1
      }
     },
     "metadata": {
      "scrapbook": {
       "data": true,
       "display": false,
       "name": "ABC Pre-generator MAE"
      }
     },
     "output_type": "display_data"
    },
    {
     "name": "stdout",
     "output_type": "stream",
     "text": [
      "ABC Pre-generator MAE 0.4551953803225869\n"
     ]
    }
   ],
   "source": [
    "y_pred = prior_model.predict(X_test)\n",
    "y_abc = y_pred + np.random.normal(0,variance, y_pred.shape) + bias \n",
    "mse = mean_squared_error(y_pred,Y_test)\n",
    "sb.glue(\"Prior Model MSE\",mse)\n",
    "mse = mean_squared_error(y_abc,Y_test)\n",
    "sb.glue(\"ABC Pre-generator MSE\",mse)\n",
    "mae = mean_absolute_error(y_pred,Y_test)\n",
    "sb.glue(\"Prior Model MAE\",mae)\n",
    "print(\"Prior Model MAE\",mae)\n",
    "mae = mean_absolute_error(y_abc,Y_test)\n",
    "sb.glue(\"ABC Pre-generator MAE\",mae)\n",
    "print(\"ABC Pre-generator MAE\",mae)"
   ]
  },
  {
   "cell_type": "markdown",
   "id": "25609da2",
   "metadata": {
    "papermill": {
     "duration": 0.041732,
     "end_time": "2022-07-22T11:09:36.647050",
     "exception": false,
     "start_time": "2022-07-22T11:09:36.605318",
     "status": "completed"
    },
    "tags": []
   },
   "source": [
    "# mGAN Model"
   ]
  },
  {
   "cell_type": "code",
   "execution_count": 11,
   "id": "dfc3464d",
   "metadata": {
    "execution": {
     "iopub.execute_input": "2022-07-22T11:09:36.708319Z",
     "iopub.status.busy": "2022-07-22T11:09:36.707877Z",
     "iopub.status.idle": "2022-07-22T11:09:36.715456Z",
     "shell.execute_reply": "2022-07-22T11:09:36.713054Z"
    },
    "papermill": {
     "duration": 0.057052,
     "end_time": "2022-07-22T11:09:36.726392",
     "exception": false,
     "start_time": "2022-07-22T11:09:36.669340",
     "status": "completed"
    },
    "tags": []
   },
   "outputs": [],
   "source": [
    "# gen = network.Generator(n_features+1).to(device)\n",
    "# disc = network.Discriminator(n_features+1).to(device)\n",
    "\n",
    "# criterion = torch.nn.BCELoss()\n",
    "# gen_opt = torch.optim.Adam(gen.parameters(), lr=0.001, betas=(0.5, 0.999))\n",
    "# disc_opt = torch.optim.Adam(disc.parameters(), lr=0.001, betas=(0.5, 0.999))"
   ]
  },
  {
   "cell_type": "code",
   "execution_count": 12,
   "id": "b75fdd85",
   "metadata": {
    "execution": {
     "iopub.execute_input": "2022-07-22T11:09:36.844773Z",
     "iopub.status.busy": "2022-07-22T11:09:36.844018Z",
     "iopub.status.idle": "2022-07-22T11:09:36.851252Z",
     "shell.execute_reply": "2022-07-22T11:09:36.849065Z"
    },
    "papermill": {
     "duration": 0.100629,
     "end_time": "2022-07-22T11:09:36.864183",
     "exception": false,
     "start_time": "2022-07-22T11:09:36.763554",
     "status": "completed"
    },
    "tags": []
   },
   "outputs": [],
   "source": [
    "#Training the ABC_GAN \n",
    "# ABC_train_test2.training_GAN(disc,gen,disc_opt,gen_opt,train_data,batch_size,n_epochs,criterion,prior_model,variance,bias,device)"
   ]
  },
  {
   "cell_type": "code",
   "execution_count": 13,
   "id": "1fa7c368",
   "metadata": {
    "execution": {
     "iopub.execute_input": "2022-07-22T11:09:36.940527Z",
     "iopub.status.busy": "2022-07-22T11:09:36.939574Z",
     "iopub.status.idle": "2022-07-22T11:09:36.945554Z",
     "shell.execute_reply": "2022-07-22T11:09:36.944028Z"
    },
    "papermill": {
     "duration": 0.0524,
     "end_time": "2022-07-22T11:09:36.952197",
     "exception": false,
     "start_time": "2022-07-22T11:09:36.899797",
     "status": "completed"
    },
    "tags": []
   },
   "outputs": [],
   "source": [
    "# ABC_GAN1_metrics=ABC_train_test2.test_generator(gen,test_data,prior_model,variance,bias,\"1\",device)\n",
    "# sb.glue(\"ABC_GAN_1 Metrics\",ABC_GAN1_metrics)\n",
    "\n",
    "# print(\"MAE\")\n",
    "# print(mean(ABC_GAN1_metrics[1]))"
   ]
  },
  {
   "cell_type": "code",
   "execution_count": 14,
   "id": "eb22ce5c",
   "metadata": {
    "execution": {
     "iopub.execute_input": "2022-07-22T11:09:37.079853Z",
     "iopub.status.busy": "2022-07-22T11:09:37.079416Z",
     "iopub.status.idle": "2022-07-22T11:09:37.084317Z",
     "shell.execute_reply": "2022-07-22T11:09:37.083031Z"
    },
    "papermill": {
     "duration": 0.069306,
     "end_time": "2022-07-22T11:09:37.094868",
     "exception": false,
     "start_time": "2022-07-22T11:09:37.025562",
     "status": "completed"
    },
    "tags": []
   },
   "outputs": [],
   "source": [
    "# sanityChecks.discProbVsError(train_data,disc,device)\n",
    "# sanityChecks.discProbVsError(test_data,disc,device)"
   ]
  },
  {
   "cell_type": "markdown",
   "id": "90b02f92",
   "metadata": {
    "papermill": {
     "duration": 0.039084,
     "end_time": "2022-07-22T11:09:37.180210",
     "exception": false,
     "start_time": "2022-07-22T11:09:37.141126",
     "status": "completed"
    },
    "tags": []
   },
   "source": [
    "# mGAN Model with TabNet Generator"
   ]
  },
  {
   "cell_type": "code",
   "execution_count": 15,
   "id": "3164e429",
   "metadata": {
    "execution": {
     "iopub.execute_input": "2022-07-22T11:09:37.261389Z",
     "iopub.status.busy": "2022-07-22T11:09:37.260865Z",
     "iopub.status.idle": "2022-07-22T11:09:37.287088Z",
     "shell.execute_reply": "2022-07-22T11:09:37.285691Z"
    },
    "papermill": {
     "duration": 0.078273,
     "end_time": "2022-07-22T11:09:37.296759",
     "exception": false,
     "start_time": "2022-07-22T11:09:37.218486",
     "status": "completed"
    },
    "tags": []
   },
   "outputs": [],
   "source": [
    "gen2 = network.GeneratorTabnet(n_features+1).to(device)\n",
    "disc2 = network.Discriminator(n_features+1).to(device)\n",
    "\n",
    "criterion = torch.nn.BCELoss()\n",
    "gen_opt = torch.optim.Adam(gen2.parameters(), lr=0.001, betas=(0.5, 0.999))\n",
    "disc_opt = torch.optim.Adam(disc2.parameters(), lr=0.001, betas=(0.5, 0.999))"
   ]
  },
  {
   "cell_type": "code",
   "execution_count": 16,
   "id": "6d155c9d",
   "metadata": {
    "execution": {
     "iopub.execute_input": "2022-07-22T11:09:37.374091Z",
     "iopub.status.busy": "2022-07-22T11:09:37.373387Z",
     "iopub.status.idle": "2022-07-22T11:14:15.010596Z",
     "shell.execute_reply": "2022-07-22T11:14:14.993724Z"
    },
    "papermill": {
     "duration": 277.694278,
     "end_time": "2022-07-22T11:14:15.024632",
     "exception": false,
     "start_time": "2022-07-22T11:09:37.330354",
     "status": "completed"
    },
    "tags": []
   },
   "outputs": [
    {
     "data": {
      "image/png": "[encoded data removed]",
      "text/plain": [
       "<Figure size 432x288 with 1 Axes>"
      ]
     },
     "metadata": {
      "needs_background": "light"
     },
     "output_type": "display_data"
    },
    {
     "data": {
      "image/png": "[encoded data removed]",
      "text/plain": [
       "<Figure size 432x288 with 1 Axes>"
      ]
     },
     "metadata": {
      "needs_background": "light"
     },
     "output_type": "display_data"
    }
   ],
   "source": [
    "#Training the ABC_GAN \n",
    "ABC_train_test2.training_GAN(disc2,gen2,disc_opt,gen_opt,train_data,batch_size,n_epochs,criterion,prior_model,variance,bias,device)"
   ]
  },
  {
   "cell_type": "code",
   "execution_count": 17,
   "id": "c6582c5a",
   "metadata": {
    "execution": {
     "iopub.execute_input": "2022-07-22T11:14:15.117564Z",
     "iopub.status.busy": "2022-07-22T11:14:15.116727Z",
     "iopub.status.idle": "2022-07-22T11:14:19.075436Z",
     "shell.execute_reply": "2022-07-22T11:14:19.072421Z"
    },
    "papermill": {
     "duration": 4.016437,
     "end_time": "2022-07-22T11:14:19.091779",
     "exception": false,
     "start_time": "2022-07-22T11:14:15.075342",
     "status": "completed"
    },
    "tags": []
   },
   "outputs": [
    {
     "data": {
      "application/scrapbook.scrap.json+json": {
       "data": 0.6273007477909375,
       "encoder": "json",
       "name": "ABC-GAN Model 1 MSE",
       "version": 1
      }
     },
     "metadata": {
      "scrapbook": {
       "data": true,
       "display": false,
       "name": "ABC-GAN Model 1 MSE"
      }
     },
     "output_type": "display_data"
    },
    {
     "data": {
      "application/scrapbook.scrap.json+json": {
       "data": 0.5466155129857362,
       "encoder": "json",
       "name": "ABC-GAN Model 1 MAE",
       "version": 1
      }
     },
     "metadata": {
      "scrapbook": {
       "data": true,
       "display": false,
       "name": "ABC-GAN Model 1 MAE"
      }
     },
     "output_type": "display_data"
    },
    {
     "data": {
      "application/scrapbook.scrap.json+json": {
       "data": 10.932310259714722,
       "encoder": "json",
       "name": "ABC-GAN Model 1 Manhattan Distance",
       "version": 1
      }
     },
     "metadata": {
      "scrapbook": {
       "data": true,
       "display": false,
       "name": "ABC-GAN Model 1 Manhattan Distance"
      }
     },
     "output_type": "display_data"
    },
    {
     "data": {
      "application/scrapbook.scrap.json+json": {
       "data": 3.5420116789228935,
       "encoder": "json",
       "name": "ABC-GAN Model 1 Euclidean distance",
       "version": 1
      }
     },
     "metadata": {
      "scrapbook": {
       "data": true,
       "display": false,
       "name": "ABC-GAN Model 1 Euclidean distance"
      }
     },
     "output_type": "display_data"
    },
    {
     "data": {
      "application/scrapbook.scrap.json+json": {
       "data": [
        [
         0.6248296523892323,
         0.6187593058254757,
         0.6206796998636193,
         0.6247527565965477,
         0.6223099516585155,
         0.6288336709017683,
         0.6336137906076658,
         0.6299541651059752,
         0.6126589403186664,
         0.6335277460597557,
         0.6314876493630509,
         0.6297676658290274,
         0.6302601515741438,
         0.631031356753575,
         0.6251688646968823,
         0.6233894048739697,
         0.6276073434015939,
         0.6246523796854928,
         0.6316203422998476,
         0.62598890573374,
         0.6282513024204113,
         0.6217775616505237,
         0.6323247404272854,
         0.624324173741578,
         0.6240506168288112,
         0.6311713878914565,
         0.6249637135261582,
         0.6310737257611034,
         0.6258378700908744,
         0.6240035545736785,
         0.6316958512233681,
         0.6181641378183309,
         0.6236885847574454,
         0.6336392831364887,
         0.6283388702525163,
         0.6264128880261579,
         0.6360107302367595,
         0.6278186802223462,
         0.6284478185472158,
         0.6334885924526679,
         0.6250291215999064,
         0.6354273986454725,
         0.6238049827154314,
         0.6255965229056498,
         0.624082179286154,
         0.6324937102291235,
         0.6239083125605478,
         0.636723563595244,
         0.6179778254842985,
         0.6317856118367817,
         0.6294041502606265,
         0.628938790706596,
         0.627026233564026,
         0.6338129237998312,
         0.6308596931566731,
         0.6322581258836346,
         0.6252982153143245,
         0.6246627703571407,
         0.6252610726260149,
         0.6213459108564642,
         0.6203098100641422,
         0.6264919817128255,
         0.618536978983866,
         0.6319055253846705,
         0.6380295266384528,
         0.6292287466930386,
         0.6299465313398758,
         0.6226399004939978,
         0.6287247768947662,
         0.6306325077145662,
         0.6301810138493267,
         0.6322084176649835,
         0.6286464134674448,
         0.6241835461978729,
         0.6295449468945284,
         0.632050343985363,
         0.6280849412243047,
         0.6271809518044955,
         0.624808380160415,
         0.623550130663634,
         0.6197978247926036,
         0.6254889386020843,
         0.6231945055617683,
         0.6243737500297606,
         0.6296524996928182,
         0.6310473062133334,
         0.6262296343414195,
         0.6217183529826745,
         0.6304233822489107,
         0.6315714244580997,
         0.6308258470733642,
         0.625770753037502,
         0.6262116123692772,
         0.6226646116882676,
         0.625623619382109,
         0.6219422205294076,
         0.6342349019087489,
         0.6246933240308803,
         0.6289659402689523,
         0.6266840155415315
        ],
        [
         0.5469400353729725,
         0.5429999273270368,
         0.5462656330317259,
         0.5436288084834814,
         0.5454826157540082,
         0.5475632350891828,
         0.5460341401398182,
         0.5496476460248232,
         0.544320372864604,
         0.5454396348446607,
         0.5474873807281255,
         0.5470881950110197,
         0.5474978435784579,
         0.5482314039021731,
         0.5452008254826068,
         0.5452378954738378,
         0.5456385899335146,
         0.5455577664077282,
         0.5496928703039885,
         0.5446136374026537,
         0.5464627504348755,
         0.5461041644215584,
         0.5496009636670351,
         0.5440294187515974,
         0.546763027831912,
         0.5470536608248949,
         0.5448026187717915,
         0.5440090339630842,
         0.5448332529515028,
         0.5454818457365036,
         0.5501497246325016,
         0.5451109360903501,
         0.5438501793891192,
         0.5485927987843752,
         0.549388162791729,
         0.5461927641183137,
         0.5511997815221548,
         0.54578499160707,
         0.5448972877115011,
         0.5476981393992901,
         0.5427567772567272,
         0.5499304141849279,
         0.5471202895045281,
         0.5462609611451625,
         0.5497360594570637,
         0.5486602120101451,
         0.5447986181825399,
         0.5469274777919054,
         0.5441609028726816,
         0.5490859732031822,
         0.5453586511313915,
         0.5461512930691242,
         0.5475997779518366,
         0.5503243904560804,
         0.5495148051530123,
         0.5493582274764777,
         0.54678162522614,
         0.546298849210143,
         0.5447373028844595,
         0.5460154220461846,
         0.5445457141846418,
         0.5478834543377161,
         0.5482721399515867,
         0.5489873114973307,
         0.5490031968802214,
         0.5460641968995332,
         0.5465443704277277,
         0.5438752055168152,
         0.5486187431961298,
         0.5468192752450705,
         0.5474352058023214,
         0.5441728815436363,
         0.5443138901144267,
         0.547801685705781,
         0.5476188350468874,
         0.550019308924675,
         0.546395780518651,
         0.5477541703730822,
         0.544620280712843,
         0.5449287485331297,
         0.5397920098155737,
         0.5488400366157293,
         0.543078238517046,
         0.5464118219912052,
         0.5462970171123743,
         0.5485059801489115,
         0.5469326999038457,
         0.5468138013035059,
         0.5500847201794385,
         0.5449851606041193,
         0.5481489855796099,
         0.5467371378093958,
         0.5468990799039603,
         0.5464729588478804,
         0.543895860388875,
         0.5482268579304218,
         0.5461751319468021,
         0.5456785731017589,
         0.5464029263705015,
         0.5473459143191576
        ],
        [
         10.93880070745945,
         10.859998546540737,
         10.925312660634518,
         10.872576169669628,
         10.909652315080166,
         10.951264701783657,
         10.920682802796364,
         10.992952920496464,
         10.88640745729208,
         10.908792696893215,
         10.949747614562511,
         10.941763900220394,
         10.949956871569157,
         10.96462807804346,
         10.904016509652138,
         10.904757909476757,
         10.912771798670292,
         10.911155328154564,
         10.99385740607977,
         10.892272748053074,
         10.92925500869751,
         10.922083288431168,
         10.992019273340702,
         10.880588375031948,
         10.93526055663824,
         10.941073216497898,
         10.89605237543583,
         10.880180679261684,
         10.896665059030056,
         10.909636914730072,
         11.002994492650032,
         10.902218721807003,
         10.877003587782383,
         10.971855975687504,
         10.98776325583458,
         10.923855282366276,
         11.023995630443096,
         10.9156998321414,
         10.897945754230022,
         10.953962787985802,
         10.855135545134544,
         10.998608283698559,
         10.942405790090561,
         10.925219222903252,
         10.994721189141273,
         10.973204240202904,
         10.895972363650799,
         10.938549555838108,
         10.883218057453632,
         10.981719464063644,
         10.90717302262783,
         10.923025861382484,
         10.951995559036732,
         11.006487809121609,
         10.990296103060246,
         10.987164549529552,
         10.9356325045228,
         10.925976984202862,
         10.89474605768919,
         10.92030844092369,
         10.890914283692837,
         10.957669086754322,
         10.965442799031734,
         10.979746229946613,
         10.980063937604427,
         10.921283937990665,
         10.930887408554554,
         10.877504110336304,
         10.972374863922596,
         10.93638550490141,
         10.948704116046429,
         10.883457630872726,
         10.886277802288532,
         10.95603371411562,
         10.952376700937748,
         11.0003861784935,
         10.92791561037302,
         10.955083407461643,
         10.892405614256859,
         10.898574970662594,
         10.795840196311474,
         10.976800732314587,
         10.86156477034092,
         10.928236439824104,
         10.925940342247486,
         10.97011960297823,
         10.938653998076916,
         10.936276026070118,
         11.001694403588772,
         10.899703212082386,
         10.962979711592197,
         10.934742756187916,
         10.937981598079205,
         10.929459176957607,
         10.8779172077775,
         10.964537158608437,
         10.923502638936043,
         10.91357146203518,
         10.92805852741003,
         10.946918286383152
        ],
        [
         3.5350520572948634,
         3.517838273216879,
         3.5232930615082796,
         3.534834526810407,
         3.527917095563657,
         3.54636058770613,
         3.5598140137025855,
         3.5495187423254304,
         3.500454085739925,
         3.5595722946999,
         3.5538363759831455,
         3.5489932821267143,
         3.5503806882477935,
         3.552552200189534,
         3.5360114951648054,
         3.530975516408942,
         3.5429009114046464,
         3.5345505504533183,
         3.554209735791763,
         3.538329848201662,
         3.5447180492118444,
         3.5264076952346946,
         3.5561910534370487,
         3.533621863588627,
         3.5328476243076525,
         3.552946348853178,
         3.5354312707961335,
         3.552671461762552,
         3.5379029667046393,
         3.532714408422165,
         3.5544221787046295,
         3.51614600896587,
         3.5318227157020363,
         3.5598856249505784,
         3.5449650781143567,
         3.539527900797387,
         3.566540985988411,
         3.5434973690475524,
         3.5452723972840663,
         3.5594622977429267,
         3.5356162732963723,
         3.564905044024237,
         3.5321522694114744,
         3.5372207251050924,
         3.5329369631686154,
         3.5566661643430164,
         3.532444798041571,
         3.5685390949105327,
         3.5156160924773867,
         3.5546747019573584,
         3.5479688562912344,
         3.5466569913274553,
         3.541260322438965,
         3.5603733618816755,
         3.552068955289785,
         3.556003728579695,
         3.536377285625289,
         3.5345799477650544,
         3.5362722537327778,
         3.525183430281222,
         3.5222430639129443,
         3.5397513520382344,
         3.5172062179629617,
         3.555012026378168,
         3.572196877660729,
         3.5474744444267348,
         3.549497235778261,
         3.5288522227319117,
         3.5460535159378694,
         3.5514293114591657,
         3.550157781984701,
         3.5558639390870495,
         3.5458325213338684,
         3.533223871191501,
         3.548365671388811,
         3.5554193676284176,
         3.5442486967601603,
         3.541697197120317,
         3.5349918816325867,
         3.5314306751333344,
         3.520789186510898,
         3.536916562776352,
         3.5304235030992195,
         3.5337621595963715,
         3.5486687636149368,
         3.552597095684602,
         3.5390101281048056,
         3.52623979043591,
         3.5508404138989706,
         3.5540720996009627,
         3.5519736684647993,
         3.5377132530421456,
         3.538959203973047,
         3.5289222481892897,
         3.537297328136579,
         3.526874595245506,
         3.5615583721420285,
         3.5346663888714596,
         3.546733540228113,
         3.5402938170200833
        ]
       ],
       "encoder": "json",
       "name": "ABC_GAN_2 Metrics",
       "version": 1
      }
     },
     "metadata": {
      "scrapbook": {
       "data": true,
       "display": false,
       "name": "ABC_GAN_2 Metrics"
      }
     },
     "output_type": "display_data"
    },
    {
     "name": "stdout",
     "output_type": "stream",
     "text": [
      "MAE\n",
      "0.5466155129857362\n"
     ]
    }
   ],
   "source": [
    "ABC_GAN2_metrics=ABC_train_test2.test_generator(gen2,test_data,prior_model,variance,bias,\"1\",device)\n",
    "sb.glue(\"ABC_GAN_2 Metrics\",ABC_GAN2_metrics)\n",
    "\n",
    "print(\"MAE\")\n",
    "print(mean(ABC_GAN2_metrics[1]))"
   ]
  },
  {
   "cell_type": "code",
   "execution_count": 18,
   "id": "34d990e6",
   "metadata": {
    "execution": {
     "iopub.execute_input": "2022-07-22T11:14:19.175051Z",
     "iopub.status.busy": "2022-07-22T11:14:19.173189Z",
     "iopub.status.idle": "2022-07-22T11:14:21.561993Z",
     "shell.execute_reply": "2022-07-22T11:14:21.557993Z"
    },
    "papermill": {
     "duration": 2.433512,
     "end_time": "2022-07-22T11:14:21.566002",
     "exception": false,
     "start_time": "2022-07-22T11:14:19.132490",
     "status": "completed"
    },
    "tags": []
   },
   "outputs": [
    {
     "data": {
      "image/png": "[encoded data removed]",
      "text/plain": [
       "<Figure size 432x288 with 1 Axes>"
      ]
     },
     "metadata": {
      "needs_background": "light"
     },
     "output_type": "display_data"
    },
    {
     "data": {
      "image/png": "[encoded data removed]",
      "text/plain": [
       "<Figure size 432x288 with 1 Axes>"
      ]
     },
     "metadata": {
      "needs_background": "light"
     },
     "output_type": "display_data"
    },
    {
     "data": {
      "image/png": "[encoded data removed]",
      "text/plain": [
       "<Figure size 432x288 with 1 Axes>"
      ]
     },
     "metadata": {
      "needs_background": "light"
     },
     "output_type": "display_data"
    },
    {
     "data": {
      "image/png": "[encoded data removed]",
      "text/plain": [
       "<Figure size 432x288 with 1 Axes>"
      ]
     },
     "metadata": {
      "needs_background": "light"
     },
     "output_type": "display_data"
    }
   ],
   "source": [
    "sanityChecks.discProbVsError(train_data,disc2,device)\n",
    "sanityChecks.discProbVsError(test_data,disc2,device)"
   ]
  },
  {
   "cell_type": "markdown",
   "id": "130f3a4d",
   "metadata": {
    "id": "130f3a4d",
    "papermill": {
     "duration": 0.052387,
     "end_time": "2022-07-22T11:14:21.657737",
     "exception": false,
     "start_time": "2022-07-22T11:14:21.605350",
     "status": "completed"
    },
    "tags": []
   },
   "source": [
    "# skipGAN Model"
   ]
  },
  {
   "cell_type": "code",
   "execution_count": 19,
   "id": "4e43dad1",
   "metadata": {
    "execution": {
     "iopub.execute_input": "2022-07-22T11:14:21.766386Z",
     "iopub.status.busy": "2022-07-22T11:14:21.764465Z",
     "iopub.status.idle": "2022-07-22T11:14:21.773342Z",
     "shell.execute_reply": "2022-07-22T11:14:21.771935Z"
    },
    "id": "4e43dad1",
    "papermill": {
     "duration": 0.103609,
     "end_time": "2022-07-22T11:14:21.794877",
     "exception": false,
     "start_time": "2022-07-22T11:14:21.691268",
     "status": "completed"
    },
    "tags": []
   },
   "outputs": [],
   "source": [
    "# #Generator\n",
    "# gen3 = network.GeneratorWithSkipConnection(n_features+1).to(device)\n",
    "# constraints=network.weightConstraint()\n",
    "# #Discriminator \n",
    "# disc3 = network.Discriminator(n_features+1).to(device)\n",
    "\n",
    "# criterion = torch.nn.BCELoss()\n",
    "# gen_opt = torch.optim.Adam(gen3.parameters(), lr=0.01, betas=(0.5, 0.999))\n",
    "# disc_opt = torch.optim.Adam(disc3.parameters(), lr=0.01, betas=(0.5, 0.999))\n"
   ]
  },
  {
   "cell_type": "code",
   "execution_count": 20,
   "id": "26acbc37",
   "metadata": {
    "execution": {
     "iopub.execute_input": "2022-07-22T11:14:21.959431Z",
     "iopub.status.busy": "2022-07-22T11:14:21.958664Z",
     "iopub.status.idle": "2022-07-22T11:14:21.967850Z",
     "shell.execute_reply": "2022-07-22T11:14:21.965639Z"
    },
    "id": "26acbc37",
    "papermill": {
     "duration": 0.109084,
     "end_time": "2022-07-22T11:14:21.985280",
     "exception": false,
     "start_time": "2022-07-22T11:14:21.876196",
     "status": "completed"
    },
    "tags": []
   },
   "outputs": [],
   "source": [
    "# ABC_train_test2.training_GAN_skip_connection(disc3,gen3,disc_opt,gen_opt,train_data,batch_size,n_epochs,criterion,prior_model,variance,bias,device)"
   ]
  },
  {
   "cell_type": "code",
   "execution_count": 21,
   "id": "c5e0717b",
   "metadata": {
    "execution": {
     "iopub.execute_input": "2022-07-22T11:14:22.103827Z",
     "iopub.status.busy": "2022-07-22T11:14:22.101896Z",
     "iopub.status.idle": "2022-07-22T11:14:22.118242Z",
     "shell.execute_reply": "2022-07-22T11:14:22.116361Z"
    },
    "id": "c5e0717b",
    "papermill": {
     "duration": 0.101164,
     "end_time": "2022-07-22T11:14:22.131965",
     "exception": false,
     "start_time": "2022-07-22T11:14:22.030801",
     "status": "completed"
    },
    "tags": []
   },
   "outputs": [],
   "source": [
    "# ABC_GAN3_metrics=ABC_train_test2.test_generator(gen3,test_data,prior_model,variance,bias,\"3\",device)\n",
    "# sb.glue(\"ABC_GAN_3 Metrics\",ABC_GAN3_metrics)\n",
    "\n",
    "# print(\"MAE\")\n",
    "# print(mean(ABC_GAN3_metrics[1]))"
   ]
  },
  {
   "cell_type": "code",
   "execution_count": 22,
   "id": "c8e46b48",
   "metadata": {
    "execution": {
     "iopub.execute_input": "2022-07-22T11:14:22.274158Z",
     "iopub.status.busy": "2022-07-22T11:14:22.273048Z",
     "iopub.status.idle": "2022-07-22T11:14:22.279560Z",
     "shell.execute_reply": "2022-07-22T11:14:22.278016Z"
    },
    "id": "c8e46b48",
    "papermill": {
     "duration": 0.11599,
     "end_time": "2022-07-22T11:14:22.293269",
     "exception": false,
     "start_time": "2022-07-22T11:14:22.177279",
     "status": "completed"
    },
    "tags": []
   },
   "outputs": [],
   "source": [
    "# sanityChecks.discProbVsError(train_data,disc3,device)\n",
    "# sanityChecks.discProbVsError(test_data,disc3,device)"
   ]
  },
  {
   "cell_type": "markdown",
   "id": "b9221ae6",
   "metadata": {
    "id": "130f3a4d",
    "papermill": {
     "duration": 0.044456,
     "end_time": "2022-07-22T11:14:22.393093",
     "exception": false,
     "start_time": "2022-07-22T11:14:22.348637",
     "status": "completed"
    },
    "tags": []
   },
   "source": [
    "# skipGAN Model with TabNet Generator"
   ]
  },
  {
   "cell_type": "code",
   "execution_count": 23,
   "id": "6ae38895",
   "metadata": {
    "execution": {
     "iopub.execute_input": "2022-07-22T11:14:22.531207Z",
     "iopub.status.busy": "2022-07-22T11:14:22.529842Z",
     "iopub.status.idle": "2022-07-22T11:14:22.576852Z",
     "shell.execute_reply": "2022-07-22T11:14:22.571068Z"
    },
    "id": "4e43dad1",
    "papermill": {
     "duration": 0.162182,
     "end_time": "2022-07-22T11:14:22.601951",
     "exception": false,
     "start_time": "2022-07-22T11:14:22.439769",
     "status": "completed"
    },
    "tags": []
   },
   "outputs": [],
   "source": [
    "#Generator\n",
    "gen4 = network.GeneratorTabnetskipConnection(n_features+1).to(device)\n",
    "constraints=network.weightConstraint()\n",
    "#Discriminator \n",
    "disc4 = network.Discriminator(n_features+1).to(device)\n",
    "\n",
    "criterion = torch.nn.BCELoss()\n",
    "gen_opt = torch.optim.Adam(gen4.parameters(), lr=0.001, betas=(0.5, 0.999))\n",
    "disc_opt = torch.optim.Adam(disc4.parameters(), lr=0.001, betas=(0.5, 0.999))\n"
   ]
  },
  {
   "cell_type": "code",
   "execution_count": 24,
   "id": "3453fb4b",
   "metadata": {
    "execution": {
     "iopub.execute_input": "2022-07-22T11:14:22.720374Z",
     "iopub.status.busy": "2022-07-22T11:14:22.719408Z",
     "iopub.status.idle": "2022-07-22T11:20:05.224554Z",
     "shell.execute_reply": "2022-07-22T11:20:05.221413Z"
    },
    "id": "26acbc37",
    "papermill": {
     "duration": 342.565152,
     "end_time": "2022-07-22T11:20:05.231964",
     "exception": false,
     "start_time": "2022-07-22T11:14:22.666812",
     "status": "completed"
    },
    "tags": []
   },
   "outputs": [
    {
     "data": {
      "image/png": "[encoded data removed]",
      "text/plain": [
       "<Figure size 432x288 with 1 Axes>"
      ]
     },
     "metadata": {
      "needs_background": "light"
     },
     "output_type": "display_data"
    },
    {
     "data": {
      "image/png": "[encoded data removed]",
      "text/plain": [
       "<Figure size 432x288 with 1 Axes>"
      ]
     },
     "metadata": {
      "needs_background": "light"
     },
     "output_type": "display_data"
    }
   ],
   "source": [
    "ABC_train_test2.training_GAN_skip_connection(disc4,gen4,disc_opt,gen_opt,train_data,batch_size,n_epochs,criterion,prior_model,variance,bias,device)"
   ]
  },
  {
   "cell_type": "code",
   "execution_count": 25,
   "id": "c347895c",
   "metadata": {
    "execution": {
     "iopub.execute_input": "2022-07-22T11:20:05.313207Z",
     "iopub.status.busy": "2022-07-22T11:20:05.312623Z",
     "iopub.status.idle": "2022-07-22T11:20:08.686271Z",
     "shell.execute_reply": "2022-07-22T11:20:08.684958Z"
    },
    "id": "c5e0717b",
    "papermill": {
     "duration": 3.411984,
     "end_time": "2022-07-22T11:20:08.689177",
     "exception": false,
     "start_time": "2022-07-22T11:20:05.277193",
     "status": "completed"
    },
    "tags": []
   },
   "outputs": [
    {
     "data": {
      "application/scrapbook.scrap.json+json": {
       "data": 0.44333232323090144,
       "encoder": "json",
       "name": "ABC-GAN Model 3 MSE",
       "version": 1
      }
     },
     "metadata": {
      "scrapbook": {
       "data": true,
       "display": false,
       "name": "ABC-GAN Model 3 MSE"
      }
     },
     "output_type": "display_data"
    },
    {
     "data": {
      "application/scrapbook.scrap.json+json": {
       "data": 0.5337585426643491,
       "encoder": "json",
       "name": "ABC-GAN Model 3 MAE",
       "version": 1
      }
     },
     "metadata": {
      "scrapbook": {
       "data": true,
       "display": false,
       "name": "ABC-GAN Model 3 MAE"
      }
     },
     "output_type": "display_data"
    },
    {
     "data": {
      "application/scrapbook.scrap.json+json": {
       "data": 10.675170853286982,
       "encoder": "json",
       "name": "ABC-GAN Model 3 Manhattan Distance",
       "version": 1
      }
     },
     "metadata": {
      "scrapbook": {
       "data": true,
       "display": false,
       "name": "ABC-GAN Model 3 Manhattan Distance"
      }
     },
     "output_type": "display_data"
    },
    {
     "data": {
      "application/scrapbook.scrap.json+json": {
       "data": 2.9776718158317976,
       "encoder": "json",
       "name": "ABC-GAN Model 3 Euclidean distance",
       "version": 1
      }
     },
     "metadata": {
      "scrapbook": {
       "data": true,
       "display": false,
       "name": "ABC-GAN Model 3 Euclidean distance"
      }
     },
     "output_type": "display_data"
    },
    {
     "data": {
      "application/scrapbook.scrap.json+json": {
       "data": [
        [
         0.44357739369904514,
         0.4400169488608322,
         0.4380194254025504,
         0.4458599778884267,
         0.44463885259621716,
         0.4468648388680805,
         0.4408039356707463,
         0.44527809560682713,
         0.4456809860345694,
         0.44020462328544846,
         0.44077442662980026,
         0.44227549910359976,
         0.4488006359628849,
         0.44394176760449094,
         0.44071924438440424,
         0.44318147681320463,
         0.44402717391131646,
         0.4440803540881815,
         0.45518579256240044,
         0.4426165588654819,
         0.4449160908120097,
         0.44735084753681836,
         0.44104600866707655,
         0.44000604068883675,
         0.43964451787728,
         0.4421732039374672,
         0.44632251325237693,
         0.4424089672185927,
         0.44249583000716325,
         0.44123299245715464,
         0.4411319321936028,
         0.44222215799445513,
         0.4416883060098845,
         0.44973002905733284,
         0.44253268652160127,
         0.4377734449638447,
         0.44182239799556366,
         0.43946001462052714,
         0.44128444151657015,
         0.4446787307584475,
         0.4445831095648735,
         0.44092912258295536,
         0.4429388176152944,
         0.4425639168279624,
         0.4435563588375868,
         0.4401981390031978,
         0.44182545129104145,
         0.44221239919081573,
         0.44511528528322647,
         0.4421962268652041,
         0.44593493199124906,
         0.44386407893349145,
         0.4457948426146695,
         0.43973428966146855,
         0.4411460922893734,
         0.4462429859426792,
         0.4436457823201806,
         0.4457635395316566,
         0.4397438904042067,
         0.44362361972483055,
         0.44480321422347757,
         0.4454937110585491,
         0.44396710937894623,
         0.44209671368407283,
         0.44232477012428423,
         0.4471878207135408,
         0.4496016238234296,
         0.43951936284038967,
         0.44537598415495283,
         0.4378951266115344,
         0.44265746935222144,
         0.44777961430312213,
         0.4448080383306786,
         0.4436912658826973,
         0.43909801029210904,
         0.45292012557950345,
         0.4387180777493237,
         0.4423383995720506,
         0.44579293690814376,
         0.44580124711469515,
         0.44052254367495713,
         0.4449989057008191,
         0.4391235495430569,
         0.44799899796424303,
         0.4438978527978702,
         0.44117892890593663,
         0.4444178431376898,
         0.44661983596934896,
         0.4480741858459069,
         0.44947727365351514,
         0.44385799072038823,
         0.4360235739242732,
         0.4462190178694205,
         0.44170755317907595,
         0.43842081438356095,
         0.4408143384142932,
         0.442950086737817,
         0.4402720753274478,
         0.44465010254703136,
         0.4420541886946925
        ],
        [
         0.5335755381733179,
         0.5321000691503286,
         0.530650557205081,
         0.5404011871665716,
         0.5369954902678729,
         0.5347857128828764,
         0.5319322485476732,
         0.5350905109196902,
         0.5351166043430566,
         0.5300772327929735,
         0.5328507740050554,
         0.531965859606862,
         0.5384054552763701,
         0.5383015539497137,
         0.5313437867909669,
         0.5368850331753492,
         0.5351077105849982,
         0.5315751675516367,
         0.5372420009225607,
         0.5354404676705599,
         0.5375937063246965,
         0.537026583775878,
         0.5330182019621134,
         0.5310031328350305,
         0.5294293362647295,
         0.5298215832561255,
         0.538749972358346,
         0.5324053291231394,
         0.5364132735878229,
         0.5312093507498503,
         0.5319300923496485,
         0.5297462817281484,
         0.5323965292423963,
         0.5331881154328585,
         0.5354468528181314,
         0.5312007587403059,
         0.533174454793334,
         0.5282234106212854,
         0.5339700285345316,
         0.5327682692557574,
         0.534156958386302,
         0.5321393940597773,
         0.5308481905609369,
         0.5313890662044287,
         0.5327185187488794,
         0.5290844980627298,
         0.5313882622867823,
         0.5370191354304552,
         0.5339827101677657,
         0.5350149247795344,
         0.5341249246150255,
         0.5327669095247984,
         0.5396038729697465,
         0.5302659045904875,
         0.5356101084500551,
         0.5350507993251086,
         0.5341626722365618,
         0.5371432077139616,
         0.5292365361005068,
         0.5368465606123209,
         0.5338761743158102,
         0.5370152499526739,
         0.5342183444648981,
         0.535638565942645,
         0.5333389949053526,
         0.5364945482462644,
         0.536189916357398,
         0.5320662569254637,
         0.5331174921244383,
         0.5320164036005736,
         0.5363864172250032,
         0.5389075752347707,
         0.536035430803895,
         0.5326933976262808,
         0.5308979582041502,
         0.537515614554286,
         0.5253047484904527,
         0.5321200240403414,
         0.5356881845742464,
         0.5325796846300364,
         0.5325281906872987,
         0.5332498181611299,
         0.5290574643760919,
         0.5408553790301085,
         0.5376718964427709,
         0.533776332065463,
         0.5344085019081831,
         0.5335867170244455,
         0.5363929655402899,
         0.5356276523321867,
         0.5314004633575677,
         0.5301045846194029,
         0.5320471834391356,
         0.532829512283206,
         0.5312163930386304,
         0.5323469657450914,
         0.5358819033950567,
         0.5298825334757566,
         0.5352308485656977,
         0.5345465991646051
        ],
        [
         10.671510763466358,
         10.642001383006573,
         10.61301114410162,
         10.808023743331432,
         10.739909805357456,
         10.695714257657528,
         10.638644970953465,
         10.701810218393803,
         10.702332086861134,
         10.60154465585947,
         10.657015480101109,
         10.639317192137241,
         10.768109105527401,
         10.766031078994274,
         10.62687573581934,
         10.737700663506985,
         10.702154211699963,
         10.631503351032734,
         10.744840018451214,
         10.708809353411198,
         10.75187412649393,
         10.740531675517559,
         10.660364039242268,
         10.620062656700611,
         10.58858672529459,
         10.596431665122509,
         10.77499944716692,
         10.648106582462788,
         10.728265471756458,
         10.624187014997005,
         10.63860184699297,
         10.59492563456297,
         10.647930584847927,
         10.66376230865717,
         10.708937056362629,
         10.624015174806118,
         10.66348909586668,
         10.564468212425709,
         10.679400570690632,
         10.655365385115147,
         10.68313916772604,
         10.642787881195545,
         10.616963811218739,
         10.627781324088573,
         10.654370374977589,
         10.581689961254597,
         10.627765245735645,
         10.740382708609104,
         10.679654203355312,
         10.700298495590687,
         10.68249849230051,
         10.655338190495968,
         10.792077459394932,
         10.60531809180975,
         10.712202169001102,
         10.70101598650217,
         10.683253444731236,
         10.742864154279232,
         10.584730722010136,
         10.736931212246418,
         10.677523486316204,
         10.740304999053478,
         10.684366889297962,
         10.712771318852901,
         10.666779898107052,
         10.72989096492529,
         10.72379832714796,
         10.641325138509274,
         10.662349842488766,
         10.64032807201147,
         10.727728344500065,
         10.778151504695415,
         10.7207086160779,
         10.653867952525616,
         10.617959164083004,
         10.75031229108572,
         10.506094969809055,
         10.642400480806828,
         10.713763691484928,
         10.651593692600727,
         10.650563813745975,
         10.664996363222599,
         10.58114928752184,
         10.817107580602169,
         10.75343792885542,
         10.675526641309261,
         10.688170038163662,
         10.67173434048891,
         10.727859310805798,
         10.712553046643734,
         10.628009267151356,
         10.602091692388058,
         10.640943668782711,
         10.65659024566412,
         10.62432786077261,
         10.646939314901829,
         10.717638067901134,
         10.597650669515133,
         10.704616971313953,
         10.690931983292103
        ],
        [
         2.978514373640138,
         2.9665365288862775,
         2.959795349015031,
         2.986168039104386,
         2.9820759634731546,
         2.9895311969206153,
         2.969188224652476,
         2.9842188110352335,
         2.985568575781067,
         2.9671690996148112,
         2.9690888387847214,
         2.9741402088791973,
         2.995999452479539,
         2.979737463618199,
         2.968902977142918,
         2.9771848340780074,
         2.980024073430671,
         2.980202523615405,
         3.0172364592865457,
         2.9752867386706847,
         2.983005500538038,
         2.9911564570808333,
         2.9700033961835004,
         2.9664997579262895,
         2.965280822712345,
         2.9737962402877143,
         2.987716563706728,
         2.974588937041865,
         2.974880938818101,
         2.9706329038006514,
         2.9702926865667725,
         2.9739608537923137,
         2.972165224242705,
         2.99909996184633,
         2.9750048286401185,
         2.958964159850013,
         2.97261634926394,
         2.9646585456693906,
         2.9708060910014646,
         2.982209686653329,
         2.9818890306813013,
         2.9696098147162546,
         2.9763696598886855,
         2.9751098024374243,
         2.978443750812115,
         2.9671472461042367,
         2.972626620654002,
         2.9739280394482175,
         2.9836731901574827,
         2.9738736585981727,
         2.986419032859418,
         2.979476729002901,
         2.9859499078674094,
         2.9655835502021133,
         2.970340358576348,
         2.9874503709440234,
         2.978743971274405,
         2.985845071438425,
         2.965615923899138,
         2.9786695678602237,
         2.982627077673229,
         2.9849412424989175,
         2.9798225094087276,
         2.9735390149923133,
         2.9743058690198096,
         2.9906113780079844,
         2.998671785385755,
         2.9648587245951186,
         2.9845468136886475,
         2.959375361834096,
         2.9754242364819894,
         2.9925895619116303,
         2.9826432516500474,
         2.978896661123703,
         2.9634372282608217,
         3.0097180119722293,
         2.9621548836930307,
         2.97435169262833,
         2.985943525615124,
         2.9859713565762656,
         2.9682403665301673,
         2.9832831099338164,
         2.963523408185118,
         2.9933225618507713,
         2.9795900818665317,
         2.9704509048490824,
         2.981334745169317,
         2.9887115483744795,
         2.9935737366763053,
         2.998257072545698,
         2.979456295099454,
         2.953044442348517,
         2.9873701406736344,
         2.972229981610024,
         2.961151176092031,
         2.9692232600944415,
         2.9764075216200387,
         2.9673964188407576,
         2.9821136884667268,
         2.973396000181249
        ]
       ],
       "encoder": "json",
       "name": "ABC_GAN_4 Metrics",
       "version": 1
      }
     },
     "metadata": {
      "scrapbook": {
       "data": true,
       "display": false,
       "name": "ABC_GAN_4 Metrics"
      }
     },
     "output_type": "display_data"
    },
    {
     "name": "stdout",
     "output_type": "stream",
     "text": [
      "MAE\n",
      "0.5337585426643491\n"
     ]
    }
   ],
   "source": [
    "ABC_GAN4_metrics=ABC_train_test2.test_generator(gen4,test_data,prior_model,variance,bias,\"3\",device)\n",
    "sb.glue(\"ABC_GAN_4 Metrics\",ABC_GAN4_metrics)\n",
    "\n",
    "print(\"MAE\")\n",
    "print(mean(ABC_GAN4_metrics[1]))"
   ]
  },
  {
   "cell_type": "code",
   "execution_count": 26,
   "id": "f1ef0953",
   "metadata": {
    "execution": {
     "iopub.execute_input": "2022-07-22T11:20:08.757383Z",
     "iopub.status.busy": "2022-07-22T11:20:08.756516Z",
     "iopub.status.idle": "2022-07-22T11:20:11.232599Z",
     "shell.execute_reply": "2022-07-22T11:20:11.228715Z"
    },
    "id": "c8e46b48",
    "papermill": {
     "duration": 2.519148,
     "end_time": "2022-07-22T11:20:11.237093",
     "exception": false,
     "start_time": "2022-07-22T11:20:08.717945",
     "status": "completed"
    },
    "tags": []
   },
   "outputs": [
    {
     "data": {
      "image/png": "[encoded data removed]",
      "text/plain": [
       "<Figure size 432x288 with 1 Axes>"
      ]
     },
     "metadata": {
      "needs_background": "light"
     },
     "output_type": "display_data"
    },
    {
     "data": {
      "image/png": "[encoded data removed]",
      "text/plain": [
       "<Figure size 432x288 with 1 Axes>"
      ]
     },
     "metadata": {
      "needs_background": "light"
     },
     "output_type": "display_data"
    },
    {
     "data": {
      "image/png": "[encoded data removed]",
      "text/plain": [
       "<Figure size 432x288 with 1 Axes>"
      ]
     },
     "metadata": {
      "needs_background": "light"
     },
     "output_type": "display_data"
    },
    {
     "data": {
      "image/png": "[encoded data removed]",
      "text/plain": [
       "<Figure size 432x288 with 1 Axes>"
      ]
     },
     "metadata": {
      "needs_background": "light"
     },
     "output_type": "display_data"
    }
   ],
   "source": [
    "sanityChecks.discProbVsError(train_data,disc4,device)\n",
    "sanityChecks.discProbVsError(test_data,disc4,device)"
   ]
  },
  {
   "cell_type": "markdown",
   "id": "a5bd74c3",
   "metadata": {
    "id": "a5bd74c3",
    "papermill": {
     "duration": 0.046308,
     "end_time": "2022-07-22T11:20:11.344904",
     "exception": false,
     "start_time": "2022-07-22T11:20:11.298596",
     "status": "completed"
    },
    "tags": []
   },
   "source": [
    "## Skip Connection Model Analysis - ABC-GAN "
   ]
  },
  {
   "cell_type": "markdown",
   "id": "5744a8bf",
   "metadata": {
    "id": "5744a8bf",
    "papermill": {
     "duration": 0.149344,
     "end_time": "2022-07-22T11:20:11.587135",
     "exception": false,
     "start_time": "2022-07-22T11:20:11.437791",
     "status": "completed"
    },
    "tags": []
   },
   "source": [
    "### Weight Analysis \n",
    "\n",
    "Study the weights of the skip connection layer\n",
    "\n",
    "Equation of the skip connection is \n",
    "\n",
    "$output = y_{gan} * w + y_{abc} * (1-w)$"
   ]
  },
  {
   "cell_type": "code",
   "execution_count": 27,
   "id": "52c31dea",
   "metadata": {
    "execution": {
     "iopub.execute_input": "2022-07-22T11:20:11.752584Z",
     "iopub.status.busy": "2022-07-22T11:20:11.752058Z",
     "iopub.status.idle": "2022-07-22T11:20:11.759244Z",
     "shell.execute_reply": "2022-07-22T11:20:11.757067Z"
    },
    "id": "52c31dea",
    "papermill": {
     "duration": 0.121536,
     "end_time": "2022-07-22T11:20:11.775269",
     "exception": false,
     "start_time": "2022-07-22T11:20:11.653733",
     "status": "completed"
    },
    "tags": []
   },
   "outputs": [],
   "source": [
    "# print(\"Weight of the node at skip connection\")\n",
    "# for name,param in gen3.named_parameters():\n",
    "#     if(name == \"skipNode.weight\"):\n",
    "#         print(param)\n",
    "#         sb.glue(\"Skip Connection Weight\",param.item())"
   ]
  },
  {
   "cell_type": "markdown",
   "id": "6f15af04",
   "metadata": {
    "id": "a5bd74c3",
    "papermill": {
     "duration": 0.138553,
     "end_time": "2022-07-22T11:20:12.042781",
     "exception": false,
     "start_time": "2022-07-22T11:20:11.904228",
     "status": "completed"
    },
    "tags": []
   },
   "source": [
    "## skipGAN Model Analysis (TabNet Generator) "
   ]
  },
  {
   "cell_type": "markdown",
   "id": "26aaceb8",
   "metadata": {
    "id": "5744a8bf",
    "papermill": {
     "duration": 0.150219,
     "end_time": "2022-07-22T11:20:12.358868",
     "exception": false,
     "start_time": "2022-07-22T11:20:12.208649",
     "status": "completed"
    },
    "tags": []
   },
   "source": [
    "### Weight Analysis \n",
    "\n",
    "Study the weights of the skip connection layer\n",
    "\n",
    "Equation of the skip connection is \n",
    "\n",
    "$output = y_{gan} * w + y_{abc} * (1-w)$"
   ]
  },
  {
   "cell_type": "code",
   "execution_count": 28,
   "id": "030ca3fe",
   "metadata": {
    "execution": {
     "iopub.execute_input": "2022-07-22T11:20:12.631701Z",
     "iopub.status.busy": "2022-07-22T11:20:12.631293Z",
     "iopub.status.idle": "2022-07-22T11:20:12.650523Z",
     "shell.execute_reply": "2022-07-22T11:20:12.649351Z"
    },
    "id": "52c31dea",
    "papermill": {
     "duration": 0.169034,
     "end_time": "2022-07-22T11:20:12.666817",
     "exception": false,
     "start_time": "2022-07-22T11:20:12.497783",
     "status": "completed"
    },
    "tags": []
   },
   "outputs": [
    {
     "name": "stdout",
     "output_type": "stream",
     "text": [
      "Weight of the node at skip connection\n",
      "Parameter containing:\n",
      "tensor([[0.1137]], requires_grad=True)\n"
     ]
    },
    {
     "data": {
      "application/scrapbook.scrap.json+json": {
       "data": 0.11371055245399475,
       "encoder": "json",
       "name": "Skip Connection Weight",
       "version": 1
      }
     },
     "metadata": {
      "scrapbook": {
       "data": true,
       "display": false,
       "name": "Skip Connection Weight"
      }
     },
     "output_type": "display_data"
    }
   ],
   "source": [
    "print(\"Weight of the node at skip connection\")\n",
    "for name,param in gen4.named_parameters():\n",
    "    if(name == \"skipNode.weight\"):\n",
    "        print(param)\n",
    "        sb.glue(\"Skip Connection Weight\",param.item())"
   ]
  }
 ],
 "metadata": {
  "colab": {
   "collapsed_sections": [],
   "name": "ABC_GAN_Model-Catboost_Pre-gen.ipynb",
   "provenance": []
  },
  "interpreter": {
   "hash": "31f2aee4e71d21fbe5cf8b01ff0e069b9275f58929596ceb00d14d90e3e16cd6"
  },
  "kernelspec": {
   "display_name": "Python 3 (ipykernel)",
   "language": "python",
   "name": "python3"
  },
  "language_info": {
   "codemirror_mode": {
    "name": "ipython",
    "version": 3
   },
   "file_extension": ".py",
   "mimetype": "text/x-python",
   "name": "python",
   "nbconvert_exporter": "python",
   "pygments_lexer": "ipython3",
   "version": "3.8.13"
  },
  "papermill": {
   "default_parameters": {},
   "duration": 709.977175,
   "end_time": "2022-07-22T11:20:15.770413",
   "environment_variables": {},
   "exception": null,
   "input_path": "ABC_GAN-TabNet.ipynb",
   "output_path": "./ABC_GAN_TabNet/ABC-GAN_output_2_11.ipynb",
   "parameters": {
    "bias": 0,
    "variance": 0.01
   },
   "start_time": "2022-07-22T11:08:25.793238",
   "version": "2.3.3"
  }
 },
 "nbformat": 4,
 "nbformat_minor": 5
}