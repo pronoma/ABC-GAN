{
 "cells": [
  {
   "cell_type": "markdown",
   "id": "622780e6",
   "metadata": {
    "id": "622780e6",
    "papermill": {
     "duration": 0.01119,
     "end_time": "2022-07-22T10:55:41.810417",
     "exception": false,
     "start_time": "2022-07-22T10:55:41.799227",
     "status": "completed"
    },
    "tags": []
   },
   "source": [
    "## Import Libraries "
   ]
  },
  {
   "cell_type": "code",
   "execution_count": 1,
   "id": "a62397e3",
   "metadata": {
    "execution": {
     "iopub.execute_input": "2022-07-22T10:55:41.840406Z",
     "iopub.status.busy": "2022-07-22T10:55:41.839647Z",
     "iopub.status.idle": "2022-07-22T10:55:41.860062Z",
     "shell.execute_reply": "2022-07-22T10:55:41.857562Z"
    },
    "id": "a62397e3",
    "papermill": {
     "duration": 0.039752,
     "end_time": "2022-07-22T10:55:41.863879",
     "exception": false,
     "start_time": "2022-07-22T10:55:41.824127",
     "status": "completed"
    },
    "tags": []
   },
   "outputs": [],
   "source": [
    "import warnings\n",
    "import sys\n",
    "sys.path.insert(0, '../../src')\n",
    "warnings.filterwarnings('ignore')"
   ]
  },
  {
   "cell_type": "code",
   "execution_count": 2,
   "id": "d6a4e155",
   "metadata": {
    "execution": {
     "iopub.execute_input": "2022-07-22T10:55:41.905133Z",
     "iopub.status.busy": "2022-07-22T10:55:41.904785Z",
     "iopub.status.idle": "2022-07-22T10:55:52.050037Z",
     "shell.execute_reply": "2022-07-22T10:55:52.048955Z"
    },
    "id": "d6a4e155",
    "papermill": {
     "duration": 10.1642,
     "end_time": "2022-07-22T10:55:52.056049",
     "exception": false,
     "start_time": "2022-07-22T10:55:41.891849",
     "status": "completed"
    },
    "tags": []
   },
   "outputs": [],
   "source": [
    "import ABC_train_test2\n",
    "import friedman3Dataset\n",
    "import network\n",
    "import dataset\n",
    "import sanityChecks\n",
    "import torch \n",
    "import scrapbook as sb\n",
    "from statistics import mean \n",
    "import catboost as ctb \n",
    "from sklearn.model_selection import train_test_split\n",
    "from sklearn.metrics import mean_squared_error,mean_absolute_error\n",
    "import numpy as np\n",
    "from pytorch_tabnet.tab_model import TabNetRegressor"
   ]
  },
  {
   "cell_type": "markdown",
   "id": "2fa5b0f7",
   "metadata": {
    "id": "2fa5b0f7",
    "papermill": {
     "duration": 0.012128,
     "end_time": "2022-07-22T10:55:52.082291",
     "exception": false,
     "start_time": "2022-07-22T10:55:52.070163",
     "status": "completed"
    },
    "tags": []
   },
   "source": [
    "## Parameters "
   ]
  },
  {
   "cell_type": "code",
   "execution_count": 3,
   "id": "783186fb",
   "metadata": {
    "execution": {
     "iopub.execute_input": "2022-07-22T10:55:52.116708Z",
     "iopub.status.busy": "2022-07-22T10:55:52.115885Z",
     "iopub.status.idle": "2022-07-22T10:55:52.123713Z",
     "shell.execute_reply": "2022-07-22T10:55:52.121347Z"
    },
    "id": "783186fb",
    "papermill": {
     "duration": 0.038315,
     "end_time": "2022-07-22T10:55:52.130025",
     "exception": false,
     "start_time": "2022-07-22T10:55:52.091710",
     "status": "completed"
    },
    "tags": [
     "parameters"
    ]
   },
   "outputs": [],
   "source": [
    "variance = 1\n",
    "bias = 1 "
   ]
  },
  {
   "cell_type": "code",
   "execution_count": 4,
   "id": "4901e272",
   "metadata": {
    "execution": {
     "iopub.execute_input": "2022-07-22T10:55:52.149812Z",
     "iopub.status.busy": "2022-07-22T10:55:52.149527Z",
     "iopub.status.idle": "2022-07-22T10:55:52.155208Z",
     "shell.execute_reply": "2022-07-22T10:55:52.153912Z"
    },
    "papermill": {
     "duration": 0.020049,
     "end_time": "2022-07-22T10:55:52.159133",
     "exception": false,
     "start_time": "2022-07-22T10:55:52.139084",
     "status": "completed"
    },
    "tags": [
     "injected-parameters"
    ]
   },
   "outputs": [],
   "source": [
    "# Parameters\n",
    "variance = 0.1\n",
    "bias = 0\n"
   ]
  },
  {
   "cell_type": "markdown",
   "id": "391cdbfd",
   "metadata": {
    "id": "391cdbfd",
    "papermill": {
     "duration": 0.013337,
     "end_time": "2022-07-22T10:55:52.185494",
     "exception": false,
     "start_time": "2022-07-22T10:55:52.172157",
     "status": "completed"
    },
    "tags": []
   },
   "source": [
    "## Dataset \n"
   ]
  },
  {
   "cell_type": "code",
   "execution_count": 5,
   "id": "5b51f161",
   "metadata": {
    "execution": {
     "iopub.execute_input": "2022-07-22T10:55:52.203253Z",
     "iopub.status.busy": "2022-07-22T10:55:52.202459Z",
     "iopub.status.idle": "2022-07-22T10:55:52.207727Z",
     "shell.execute_reply": "2022-07-22T10:55:52.206142Z"
    },
    "id": "5b51f161",
    "papermill": {
     "duration": 0.023006,
     "end_time": "2022-07-22T10:55:52.217022",
     "exception": false,
     "start_time": "2022-07-22T10:55:52.194016",
     "status": "completed"
    },
    "tags": []
   },
   "outputs": [],
   "source": [
    "#Parameters \n",
    "n_features = 4\n",
    "n_samples= 100\n",
    "n_target = 1"
   ]
  },
  {
   "cell_type": "code",
   "execution_count": 6,
   "id": "5d6eced4",
   "metadata": {
    "execution": {
     "iopub.execute_input": "2022-07-22T10:55:52.242729Z",
     "iopub.status.busy": "2022-07-22T10:55:52.241880Z",
     "iopub.status.idle": "2022-07-22T10:55:52.263159Z",
     "shell.execute_reply": "2022-07-22T10:55:52.258559Z"
    },
    "id": "5d6eced4",
    "papermill": {
     "duration": 0.036347,
     "end_time": "2022-07-22T10:55:52.268711",
     "exception": false,
     "start_time": "2022-07-22T10:55:52.232364",
     "status": "completed"
    },
    "tags": []
   },
   "outputs": [
    {
     "name": "stdout",
     "output_type": "stream",
     "text": [
      "          X1           X2        X3         X4         Y\n",
      "0  37.757721   832.383941  0.514885  10.179204  1.470948\n",
      "1  66.767888  1276.007718  0.306762   1.432570  1.481018\n",
      "2  99.206614   134.589382  0.558820   9.675875  0.583329\n",
      "3  58.060068   573.896012  0.092391   4.434116  0.641990\n",
      "4   8.245824   209.138155  0.311991   4.597395  1.499891\n"
     ]
    }
   ],
   "source": [
    "X,Y = friedman3Dataset.friedman3_data(n_samples)"
   ]
  },
  {
   "cell_type": "code",
   "execution_count": 7,
   "id": "fe007438",
   "metadata": {
    "execution": {
     "iopub.execute_input": "2022-07-22T10:55:52.293898Z",
     "iopub.status.busy": "2022-07-22T10:55:52.293191Z",
     "iopub.status.idle": "2022-07-22T10:55:52.300681Z",
     "shell.execute_reply": "2022-07-22T10:55:52.299867Z"
    },
    "id": "fe007438",
    "papermill": {
     "duration": 0.019777,
     "end_time": "2022-07-22T10:55:52.303679",
     "exception": false,
     "start_time": "2022-07-22T10:55:52.283902",
     "status": "completed"
    },
    "tags": []
   },
   "outputs": [],
   "source": [
    "#Train test split for dataset \n",
    "X_train,X_test,Y_train,Y_test = train_test_split(X,Y,test_size = 0.2)\n",
    "train_data = dataset.CustomDataset(X_train,Y_train)\n",
    "test_data = dataset.CustomDataset(X_test,Y_test)\n"
   ]
  },
  {
   "cell_type": "markdown",
   "id": "a9a1af34",
   "metadata": {
    "id": "a9a1af34",
    "papermill": {
     "duration": 0.018695,
     "end_time": "2022-07-22T10:55:52.333403",
     "exception": false,
     "start_time": "2022-07-22T10:55:52.314708",
     "status": "completed"
    },
    "tags": []
   },
   "source": [
    "## Training Parameters "
   ]
  },
  {
   "cell_type": "code",
   "execution_count": 8,
   "id": "952b7fc8",
   "metadata": {
    "execution": {
     "iopub.execute_input": "2022-07-22T10:55:52.362922Z",
     "iopub.status.busy": "2022-07-22T10:55:52.361417Z",
     "iopub.status.idle": "2022-07-22T10:55:52.380549Z",
     "shell.execute_reply": "2022-07-22T10:55:52.375899Z"
    },
    "id": "952b7fc8",
    "papermill": {
     "duration": 0.045592,
     "end_time": "2022-07-22T10:55:52.393154",
     "exception": false,
     "start_time": "2022-07-22T10:55:52.347562",
     "status": "completed"
    },
    "tags": []
   },
   "outputs": [],
   "source": [
    "batch_size = 32\n",
    "n_epochs = 1000\n",
    "#Select the device \n",
    "device = torch.device('cuda' if torch.cuda.is_available() else 'cpu')"
   ]
  },
  {
   "cell_type": "markdown",
   "id": "a95e1600",
   "metadata": {
    "id": "a95e1600",
    "papermill": {
     "duration": 0.014986,
     "end_time": "2022-07-22T10:55:52.423998",
     "exception": false,
     "start_time": "2022-07-22T10:55:52.409012",
     "status": "completed"
    },
    "tags": []
   },
   "source": [
    "# ABC Pre-generator Model \n",
    "\n",
    "1. The catboost model is used as a pre-generator model for the ABC-GAN. \n",
    "2. The model is first trained on the entire dataset \n",
    "3. It generats X,Y pairs and we add some Gaussian noise with mean 0 and variance 1 to it which is then feed as input to the generator.\n"
   ]
  },
  {
   "cell_type": "code",
   "execution_count": 9,
   "id": "ac011ebf",
   "metadata": {
    "execution": {
     "iopub.execute_input": "2022-07-22T10:55:52.462647Z",
     "iopub.status.busy": "2022-07-22T10:55:52.461563Z",
     "iopub.status.idle": "2022-07-22T10:57:24.642719Z",
     "shell.execute_reply": "2022-07-22T10:57:24.639795Z"
    },
    "papermill": {
     "duration": 92.209705,
     "end_time": "2022-07-22T10:57:24.647486",
     "exception": false,
     "start_time": "2022-07-22T10:55:52.437781",
     "status": "completed"
    },
    "tags": []
   },
   "outputs": [
    {
     "name": "stdout",
     "output_type": "stream",
     "text": [
      "Device used : cpu\n"
     ]
    },
    {
     "name": "stdout",
     "output_type": "stream",
     "text": [
      "epoch 0  | loss: 1.10189 | train_mse: 4.2071  | train_mae: 1.48037 |  0:00:00s\n",
      "epoch 1  | loss: 1.09337 | train_mse: 3.36665 | train_mae: 1.35594 |  0:00:00s\n"
     ]
    },
    {
     "name": "stdout",
     "output_type": "stream",
     "text": [
      "epoch 2  | loss: 1.00339 | train_mse: 2.75868 | train_mae: 1.23346 |  0:00:00s\n",
      "epoch 3  | loss: 0.90545 | train_mse: 2.23714 | train_mae: 1.11386 |  0:00:00s\n"
     ]
    },
    {
     "name": "stdout",
     "output_type": "stream",
     "text": [
      "epoch 4  | loss: 0.95314 | train_mse: 1.95533 | train_mae: 1.03954 |  0:00:01s\n"
     ]
    },
    {
     "name": "stdout",
     "output_type": "stream",
     "text": [
      "epoch 5  | loss: 1.01711 | train_mse: 2.12715 | train_mae: 1.06954 |  0:00:01s\n"
     ]
    },
    {
     "name": "stdout",
     "output_type": "stream",
     "text": [
      "epoch 6  | loss: 0.85543 | train_mse: 1.87415 | train_mae: 1.00979 |  0:00:02s\n"
     ]
    },
    {
     "name": "stdout",
     "output_type": "stream",
     "text": [
      "epoch 7  | loss: 0.9262  | train_mse: 1.60832 | train_mae: 0.9381  |  0:00:02s\n"
     ]
    },
    {
     "name": "stdout",
     "output_type": "stream",
     "text": [
      "epoch 8  | loss: 0.86839 | train_mse: 1.50025 | train_mae: 0.90697 |  0:00:03s\n"
     ]
    },
    {
     "name": "stdout",
     "output_type": "stream",
     "text": [
      "epoch 9  | loss: 0.91181 | train_mse: 1.40079 | train_mae: 0.86598 |  0:00:03s\n",
      "epoch 10 | loss: 0.85743 | train_mse: 1.28938 | train_mae: 0.82397 |  0:00:03s\n"
     ]
    },
    {
     "name": "stdout",
     "output_type": "stream",
     "text": [
      "epoch 11 | loss: 0.87458 | train_mse: 1.19314 | train_mae: 0.80165 |  0:00:03s\n"
     ]
    },
    {
     "name": "stdout",
     "output_type": "stream",
     "text": [
      "epoch 12 | loss: 0.71904 | train_mse: 1.11864 | train_mae: 0.77917 |  0:00:03s\n"
     ]
    },
    {
     "name": "stdout",
     "output_type": "stream",
     "text": [
      "epoch 13 | loss: 0.69856 | train_mse: 1.07416 | train_mae: 0.76239 |  0:00:04s\n"
     ]
    },
    {
     "name": "stdout",
     "output_type": "stream",
     "text": [
      "epoch 14 | loss: 0.74009 | train_mse: 0.99803 | train_mae: 0.73044 |  0:00:04s\n"
     ]
    },
    {
     "name": "stdout",
     "output_type": "stream",
     "text": [
      "epoch 15 | loss: 0.68242 | train_mse: 0.92355 | train_mae: 0.69111 |  0:00:05s\n"
     ]
    },
    {
     "name": "stdout",
     "output_type": "stream",
     "text": [
      "epoch 16 | loss: 0.69501 | train_mse: 0.88107 | train_mae: 0.67192 |  0:00:05s\n"
     ]
    },
    {
     "name": "stdout",
     "output_type": "stream",
     "text": [
      "epoch 17 | loss: 0.68156 | train_mse: 0.87029 | train_mae: 0.66888 |  0:00:05s\n"
     ]
    },
    {
     "name": "stdout",
     "output_type": "stream",
     "text": [
      "epoch 18 | loss: 0.59621 | train_mse: 0.83768 | train_mae: 0.65476 |  0:00:06s\n",
      "epoch 19 | loss: 0.58482 | train_mse: 0.80496 | train_mae: 0.65124 |  0:00:06s\n"
     ]
    },
    {
     "name": "stdout",
     "output_type": "stream",
     "text": [
      "epoch 20 | loss: 0.8003  | train_mse: 0.72033 | train_mae: 0.62807 |  0:00:06s\n",
      "epoch 21 | loss: 0.63764 | train_mse: 0.68886 | train_mae: 0.61058 |  0:00:06s\n"
     ]
    },
    {
     "name": "stdout",
     "output_type": "stream",
     "text": [
      "epoch 22 | loss: 0.57927 | train_mse: 0.66444 | train_mae: 0.59621 |  0:00:06s\n",
      "epoch 23 | loss: 0.61093 | train_mse: 0.64192 | train_mae: 0.58164 |  0:00:07s\n"
     ]
    },
    {
     "name": "stdout",
     "output_type": "stream",
     "text": [
      "epoch 24 | loss: 0.54252 | train_mse: 0.6207  | train_mae: 0.57067 |  0:00:07s\n",
      "epoch 25 | loss: 0.55326 | train_mse: 0.61394 | train_mae: 0.56629 |  0:00:07s\n"
     ]
    },
    {
     "name": "stdout",
     "output_type": "stream",
     "text": [
      "epoch 26 | loss: 0.53782 | train_mse: 0.6016  | train_mae: 0.56487 |  0:00:07s\n"
     ]
    },
    {
     "name": "stdout",
     "output_type": "stream",
     "text": [
      "epoch 27 | loss: 0.54946 | train_mse: 0.59555 | train_mae: 0.56245 |  0:00:07s\n",
      "epoch 28 | loss: 0.61581 | train_mse: 0.58647 | train_mae: 0.55944 |  0:00:07s\n"
     ]
    },
    {
     "name": "stdout",
     "output_type": "stream",
     "text": [
      "epoch 29 | loss: 0.55373 | train_mse: 0.56568 | train_mae: 0.55128 |  0:00:07s\n",
      "epoch 30 | loss: 0.62084 | train_mse: 0.54686 | train_mae: 0.54398 |  0:00:08s\n"
     ]
    },
    {
     "name": "stdout",
     "output_type": "stream",
     "text": [
      "epoch 31 | loss: 0.59617 | train_mse: 0.5301  | train_mae: 0.53376 |  0:00:08s\n",
      "epoch 32 | loss: 0.49632 | train_mse: 0.51159 | train_mae: 0.52954 |  0:00:08s\n"
     ]
    },
    {
     "name": "stdout",
     "output_type": "stream",
     "text": [
      "epoch 33 | loss: 0.46972 | train_mse: 0.50885 | train_mae: 0.52873 |  0:00:08s\n"
     ]
    },
    {
     "name": "stdout",
     "output_type": "stream",
     "text": [
      "epoch 34 | loss: 0.40424 | train_mse: 0.51083 | train_mae: 0.52421 |  0:00:08s\n"
     ]
    },
    {
     "name": "stdout",
     "output_type": "stream",
     "text": [
      "epoch 35 | loss: 0.54081 | train_mse: 0.49488 | train_mae: 0.51277 |  0:00:08s\n",
      "epoch 36 | loss: 0.6958  | train_mse: 0.47577 | train_mae: 0.49894 |  0:00:09s\n"
     ]
    },
    {
     "name": "stdout",
     "output_type": "stream",
     "text": [
      "epoch 37 | loss: 0.64257 | train_mse: 0.46304 | train_mae: 0.49125 |  0:00:09s\n"
     ]
    },
    {
     "name": "stdout",
     "output_type": "stream",
     "text": [
      "epoch 38 | loss: 0.50595 | train_mse: 0.44797 | train_mae: 0.48182 |  0:00:09s\n",
      "epoch 39 | loss: 0.4846  | train_mse: 0.44048 | train_mae: 0.47197 |  0:00:09s\n"
     ]
    },
    {
     "name": "stdout",
     "output_type": "stream",
     "text": [
      "epoch 40 | loss: 0.59216 | train_mse: 0.44096 | train_mae: 0.47135 |  0:00:09s\n"
     ]
    },
    {
     "name": "stdout",
     "output_type": "stream",
     "text": [
      "epoch 41 | loss: 0.52171 | train_mse: 0.42112 | train_mae: 0.46109 |  0:00:10s\n",
      "epoch 42 | loss: 0.42544 | train_mse: 0.39799 | train_mae: 0.44786 |  0:00:10s\n"
     ]
    },
    {
     "name": "stdout",
     "output_type": "stream",
     "text": [
      "epoch 43 | loss: 0.50151 | train_mse: 0.38664 | train_mae: 0.44142 |  0:00:10s\n",
      "epoch 44 | loss: 0.50593 | train_mse: 0.36677 | train_mae: 0.42883 |  0:00:10s\n"
     ]
    },
    {
     "name": "stdout",
     "output_type": "stream",
     "text": [
      "epoch 45 | loss: 0.36688 | train_mse: 0.35407 | train_mae: 0.42018 |  0:00:10s\n"
     ]
    },
    {
     "name": "stdout",
     "output_type": "stream",
     "text": [
      "epoch 46 | loss: 0.3686  | train_mse: 0.34773 | train_mae: 0.41616 |  0:00:11s\n"
     ]
    },
    {
     "name": "stdout",
     "output_type": "stream",
     "text": [
      "epoch 47 | loss: 0.47018 | train_mse: 0.34629 | train_mae: 0.41584 |  0:00:11s\n",
      "epoch 48 | loss: 0.29016 | train_mse: 0.3381  | train_mae: 0.41235 |  0:00:11s\n"
     ]
    },
    {
     "name": "stdout",
     "output_type": "stream",
     "text": [
      "epoch 49 | loss: 0.42574 | train_mse: 0.32554 | train_mae: 0.40619 |  0:00:11s\n",
      "epoch 50 | loss: 0.48113 | train_mse: 0.31433 | train_mae: 0.39876 |  0:00:11s\n"
     ]
    },
    {
     "name": "stdout",
     "output_type": "stream",
     "text": [
      "epoch 51 | loss: 0.45065 | train_mse: 0.30639 | train_mae: 0.39455 |  0:00:12s\n",
      "epoch 52 | loss: 0.50212 | train_mse: 0.29596 | train_mae: 0.39231 |  0:00:12s\n"
     ]
    },
    {
     "name": "stdout",
     "output_type": "stream",
     "text": [
      "epoch 53 | loss: 0.45366 | train_mse: 0.28793 | train_mae: 0.39392 |  0:00:12s\n",
      "epoch 54 | loss: 0.28005 | train_mse: 0.27268 | train_mae: 0.3916  |  0:00:12s\n",
      "epoch 55 | loss: 0.41087 | train_mse: 0.25906 | train_mae: 0.3826  |  0:00:12s\n"
     ]
    },
    {
     "name": "stdout",
     "output_type": "stream",
     "text": [
      "epoch 56 | loss: 0.49161 | train_mse: 0.24695 | train_mae: 0.37435 |  0:00:12s\n"
     ]
    },
    {
     "name": "stdout",
     "output_type": "stream",
     "text": [
      "epoch 57 | loss: 0.45281 | train_mse: 0.2445  | train_mae: 0.37257 |  0:00:12s\n",
      "epoch 58 | loss: 0.30053 | train_mse: 0.2518  | train_mae: 0.37064 |  0:00:13s\n"
     ]
    },
    {
     "name": "stdout",
     "output_type": "stream",
     "text": [
      "epoch 59 | loss: 0.41018 | train_mse: 0.25345 | train_mae: 0.36844 |  0:00:13s\n",
      "epoch 60 | loss: 0.35965 | train_mse: 0.25177 | train_mae: 0.3649  |  0:00:13s\n"
     ]
    },
    {
     "name": "stdout",
     "output_type": "stream",
     "text": [
      "epoch 61 | loss: 0.33969 | train_mse: 0.24545 | train_mae: 0.35991 |  0:00:13s\n",
      "epoch 62 | loss: 0.38176 | train_mse: 0.24154 | train_mae: 0.35945 |  0:00:13s\n"
     ]
    },
    {
     "name": "stdout",
     "output_type": "stream",
     "text": [
      "epoch 63 | loss: 0.2471  | train_mse: 0.23591 | train_mae: 0.35452 |  0:00:13s\n",
      "epoch 64 | loss: 0.49298 | train_mse: 0.2353  | train_mae: 0.34978 |  0:00:13s\n"
     ]
    },
    {
     "name": "stdout",
     "output_type": "stream",
     "text": [
      "epoch 65 | loss: 0.36774 | train_mse: 0.23014 | train_mae: 0.35014 |  0:00:14s\n",
      "epoch 66 | loss: 0.36567 | train_mse: 0.23265 | train_mae: 0.34834 |  0:00:14s\n"
     ]
    },
    {
     "name": "stdout",
     "output_type": "stream",
     "text": [
      "epoch 67 | loss: 0.25849 | train_mse: 0.23937 | train_mae: 0.35117 |  0:00:14s\n",
      "epoch 68 | loss: 0.24552 | train_mse: 0.24922 | train_mae: 0.34959 |  0:00:14s\n"
     ]
    },
    {
     "name": "stdout",
     "output_type": "stream",
     "text": [
      "epoch 69 | loss: 0.37226 | train_mse: 0.25031 | train_mae: 0.34959 |  0:00:14s\n",
      "epoch 70 | loss: 0.33048 | train_mse: 0.25266 | train_mae: 0.35215 |  0:00:14s\n"
     ]
    },
    {
     "name": "stdout",
     "output_type": "stream",
     "text": [
      "epoch 71 | loss: 0.3234  | train_mse: 0.24466 | train_mae: 0.34619 |  0:00:14s\n",
      "epoch 72 | loss: 0.24795 | train_mse: 0.22767 | train_mae: 0.33972 |  0:00:14s\n"
     ]
    },
    {
     "name": "stdout",
     "output_type": "stream",
     "text": [
      "epoch 73 | loss: 0.18345 | train_mse: 0.20002 | train_mae: 0.32907 |  0:00:15s\n",
      "epoch 74 | loss: 0.25804 | train_mse: 0.18569 | train_mae: 0.32076 |  0:00:15s\n"
     ]
    },
    {
     "name": "stdout",
     "output_type": "stream",
     "text": [
      "epoch 75 | loss: 0.44163 | train_mse: 0.17765 | train_mae: 0.31363 |  0:00:15s\n"
     ]
    },
    {
     "name": "stdout",
     "output_type": "stream",
     "text": [
      "epoch 76 | loss: 0.37335 | train_mse: 0.16978 | train_mae: 0.3049  |  0:00:15s\n",
      "epoch 77 | loss: 0.26624 | train_mse: 0.17073 | train_mae: 0.30627 |  0:00:15s\n"
     ]
    },
    {
     "name": "stdout",
     "output_type": "stream",
     "text": [
      "epoch 78 | loss: 0.33894 | train_mse: 0.177   | train_mae: 0.30717 |  0:00:15s\n"
     ]
    },
    {
     "name": "stdout",
     "output_type": "stream",
     "text": [
      "epoch 79 | loss: 0.27434 | train_mse: 0.1767  | train_mae: 0.30636 |  0:00:16s\n",
      "epoch 80 | loss: 0.31749 | train_mse: 0.16718 | train_mae: 0.30067 |  0:00:16s\n"
     ]
    },
    {
     "name": "stdout",
     "output_type": "stream",
     "text": [
      "epoch 81 | loss: 0.46311 | train_mse: 0.16642 | train_mae: 0.29907 |  0:00:16s\n",
      "epoch 82 | loss: 0.51496 | train_mse: 0.16478 | train_mae: 0.29612 |  0:00:16s\n"
     ]
    },
    {
     "name": "stdout",
     "output_type": "stream",
     "text": [
      "epoch 83 | loss: 0.33436 | train_mse: 0.16245 | train_mae: 0.29716 |  0:00:16s\n"
     ]
    },
    {
     "name": "stdout",
     "output_type": "stream",
     "text": [
      "epoch 84 | loss: 0.38024 | train_mse: 0.15875 | train_mae: 0.29288 |  0:00:17s\n"
     ]
    },
    {
     "name": "stdout",
     "output_type": "stream",
     "text": [
      "epoch 85 | loss: 0.28129 | train_mse: 0.15994 | train_mae: 0.29262 |  0:00:17s\n",
      "epoch 86 | loss: 0.21716 | train_mse: 0.16114 | train_mae: 0.29076 |  0:00:17s\n"
     ]
    },
    {
     "name": "stdout",
     "output_type": "stream",
     "text": [
      "epoch 87 | loss: 0.26132 | train_mse: 0.16126 | train_mae: 0.29446 |  0:00:17s\n",
      "epoch 88 | loss: 0.191   | train_mse: 0.16319 | train_mae: 0.2974  |  0:00:17s\n"
     ]
    },
    {
     "name": "stdout",
     "output_type": "stream",
     "text": [
      "epoch 89 | loss: 0.35262 | train_mse: 0.16874 | train_mae: 0.30773 |  0:00:17s\n",
      "epoch 90 | loss: 0.31976 | train_mse: 0.16185 | train_mae: 0.30389 |  0:00:18s\n"
     ]
    },
    {
     "name": "stdout",
     "output_type": "stream",
     "text": [
      "epoch 91 | loss: 0.24928 | train_mse: 0.15183 | train_mae: 0.29667 |  0:00:18s\n"
     ]
    },
    {
     "name": "stdout",
     "output_type": "stream",
     "text": [
      "epoch 92 | loss: 0.49071 | train_mse: 0.14998 | train_mae: 0.29159 |  0:00:18s\n"
     ]
    },
    {
     "name": "stdout",
     "output_type": "stream",
     "text": [
      "epoch 93 | loss: 0.24276 | train_mse: 0.14704 | train_mae: 0.28836 |  0:00:18s\n",
      "epoch 94 | loss: 0.35716 | train_mse: 0.14515 | train_mae: 0.28812 |  0:00:18s\n"
     ]
    },
    {
     "name": "stdout",
     "output_type": "stream",
     "text": [
      "epoch 95 | loss: 0.2681  | train_mse: 0.14592 | train_mae: 0.28741 |  0:00:19s\n",
      "epoch 96 | loss: 0.33456 | train_mse: 0.14522 | train_mae: 0.28646 |  0:00:19s\n"
     ]
    },
    {
     "name": "stdout",
     "output_type": "stream",
     "text": [
      "epoch 97 | loss: 0.18522 | train_mse: 0.14589 | train_mae: 0.28781 |  0:00:19s\n",
      "epoch 98 | loss: 0.23393 | train_mse: 0.15068 | train_mae: 0.29096 |  0:00:19s\n"
     ]
    },
    {
     "name": "stdout",
     "output_type": "stream",
     "text": [
      "epoch 99 | loss: 0.25858 | train_mse: 0.15565 | train_mae: 0.29341 |  0:00:19s\n",
      "epoch 100| loss: 0.31043 | train_mse: 0.16081 | train_mae: 0.29808 |  0:00:19s\n",
      "epoch 101| loss: 0.21498 | train_mse: 0.16795 | train_mae: 0.30183 |  0:00:20s\n"
     ]
    },
    {
     "name": "stdout",
     "output_type": "stream",
     "text": [
      "epoch 102| loss: 0.26854 | train_mse: 0.16345 | train_mae: 0.3007  |  0:00:20s\n",
      "epoch 103| loss: 0.26907 | train_mse: 0.1553  | train_mae: 0.29328 |  0:00:20s\n"
     ]
    },
    {
     "name": "stdout",
     "output_type": "stream",
     "text": [
      "epoch 104| loss: 0.43548 | train_mse: 0.15553 | train_mae: 0.29216 |  0:00:20s\n"
     ]
    },
    {
     "name": "stdout",
     "output_type": "stream",
     "text": [
      "epoch 105| loss: 0.30126 | train_mse: 0.15301 | train_mae: 0.28884 |  0:00:21s\n",
      "epoch 106| loss: 0.32347 | train_mse: 0.14781 | train_mae: 0.2852  |  0:00:21s\n"
     ]
    },
    {
     "name": "stdout",
     "output_type": "stream",
     "text": [
      "epoch 107| loss: 0.32996 | train_mse: 0.14724 | train_mae: 0.2832  |  0:00:21s\n",
      "epoch 108| loss: 0.30301 | train_mse: 0.14415 | train_mae: 0.27605 |  0:00:21s\n"
     ]
    },
    {
     "name": "stdout",
     "output_type": "stream",
     "text": [
      "epoch 109| loss: 0.27742 | train_mse: 0.14778 | train_mae: 0.27639 |  0:00:21s\n",
      "epoch 110| loss: 0.25098 | train_mse: 0.14653 | train_mae: 0.27104 |  0:00:21s\n"
     ]
    },
    {
     "name": "stdout",
     "output_type": "stream",
     "text": [
      "epoch 111| loss: 0.25643 | train_mse: 0.1431  | train_mae: 0.27218 |  0:00:22s\n"
     ]
    },
    {
     "name": "stdout",
     "output_type": "stream",
     "text": [
      "epoch 112| loss: 0.12927 | train_mse: 0.14271 | train_mae: 0.27599 |  0:00:22s\n"
     ]
    },
    {
     "name": "stdout",
     "output_type": "stream",
     "text": [
      "epoch 113| loss: 0.33368 | train_mse: 0.13665 | train_mae: 0.26877 |  0:00:22s\n",
      "epoch 114| loss: 0.18799 | train_mse: 0.13941 | train_mae: 0.26881 |  0:00:22s\n"
     ]
    },
    {
     "name": "stdout",
     "output_type": "stream",
     "text": [
      "epoch 115| loss: 0.23564 | train_mse: 0.1436  | train_mae: 0.27447 |  0:00:22s\n"
     ]
    },
    {
     "name": "stdout",
     "output_type": "stream",
     "text": [
      "epoch 116| loss: 0.22756 | train_mse: 0.14992 | train_mae: 0.28163 |  0:00:23s\n"
     ]
    },
    {
     "name": "stdout",
     "output_type": "stream",
     "text": [
      "epoch 117| loss: 0.4685  | train_mse: 0.14908 | train_mae: 0.28271 |  0:00:23s\n",
      "epoch 118| loss: 0.27696 | train_mse: 0.14874 | train_mae: 0.28409 |  0:00:23s"
     ]
    },
    {
     "name": "stdout",
     "output_type": "stream",
     "text": [
      "\n",
      "epoch 119| loss: 0.21516 | train_mse: 0.15132 | train_mae: 0.28442 |  0:00:23s\n"
     ]
    },
    {
     "name": "stdout",
     "output_type": "stream",
     "text": [
      "epoch 120| loss: 0.17351 | train_mse: 0.14281 | train_mae: 0.27769 |  0:00:24s\n",
      "epoch 121| loss: 0.28677 | train_mse: 0.14351 | train_mae: 0.27811 |  0:00:24s\n",
      "epoch 122| loss: 0.28284 | train_mse: 0.14757 | train_mae: 0.28283 |  0:00:24s\n"
     ]
    },
    {
     "name": "stdout",
     "output_type": "stream",
     "text": [
      "epoch 123| loss: 0.17604 | train_mse: 0.15371 | train_mae: 0.28265 |  0:00:24s\n"
     ]
    },
    {
     "name": "stdout",
     "output_type": "stream",
     "text": [
      "epoch 124| loss: 0.2115  | train_mse: 0.15239 | train_mae: 0.27758 |  0:00:25s\n"
     ]
    },
    {
     "name": "stdout",
     "output_type": "stream",
     "text": [
      "epoch 125| loss: 0.23515 | train_mse: 0.15257 | train_mae: 0.27781 |  0:00:25s\n"
     ]
    },
    {
     "name": "stdout",
     "output_type": "stream",
     "text": [
      "epoch 126| loss: 0.21907 | train_mse: 0.15277 | train_mae: 0.27646 |  0:00:26s\n"
     ]
    },
    {
     "name": "stdout",
     "output_type": "stream",
     "text": [
      "epoch 127| loss: 0.31637 | train_mse: 0.1713  | train_mae: 0.28489 |  0:00:26s\n",
      "epoch 128| loss: 0.37643 | train_mse: 0.19055 | train_mae: 0.29172 |  0:00:26s\n"
     ]
    },
    {
     "name": "stdout",
     "output_type": "stream",
     "text": [
      "epoch 129| loss: 0.14435 | train_mse: 0.20595 | train_mae: 0.29421 |  0:00:27s\n"
     ]
    },
    {
     "name": "stdout",
     "output_type": "stream",
     "text": [
      "epoch 130| loss: 0.1795  | train_mse: 0.20512 | train_mae: 0.29096 |  0:00:27s\n"
     ]
    },
    {
     "name": "stdout",
     "output_type": "stream",
     "text": [
      "epoch 131| loss: 0.16304 | train_mse: 0.20539 | train_mae: 0.29255 |  0:00:28s\n"
     ]
    },
    {
     "name": "stdout",
     "output_type": "stream",
     "text": [
      "epoch 132| loss: 0.27598 | train_mse: 0.19693 | train_mae: 0.28773 |  0:00:28s\n"
     ]
    },
    {
     "name": "stdout",
     "output_type": "stream",
     "text": [
      "epoch 133| loss: 0.22396 | train_mse: 0.18856 | train_mae: 0.28306 |  0:00:29s\n"
     ]
    },
    {
     "name": "stdout",
     "output_type": "stream",
     "text": [
      "epoch 134| loss: 0.27119 | train_mse: 0.1728  | train_mae: 0.27567 |  0:00:29s\n",
      "epoch 135| loss: 0.1118  | train_mse: 0.15863 | train_mae: 0.26684 |  0:00:30s\n"
     ]
    },
    {
     "name": "stdout",
     "output_type": "stream",
     "text": [
      "epoch 136| loss: 0.14778 | train_mse: 0.14654 | train_mae: 0.25947 |  0:00:30s\n"
     ]
    },
    {
     "name": "stdout",
     "output_type": "stream",
     "text": [
      "epoch 137| loss: 0.15097 | train_mse: 0.13145 | train_mae: 0.25368 |  0:00:30s\n",
      "epoch 138| loss: 0.17899 | train_mse: 0.11937 | train_mae: 0.25279 |  0:00:30s\n"
     ]
    },
    {
     "name": "stdout",
     "output_type": "stream",
     "text": [
      "epoch 139| loss: 0.24784 | train_mse: 0.11092 | train_mae: 0.25059 |  0:00:31s\n"
     ]
    },
    {
     "name": "stdout",
     "output_type": "stream",
     "text": [
      "epoch 140| loss: 0.30606 | train_mse: 0.10867 | train_mae: 0.24875 |  0:00:31s\n"
     ]
    },
    {
     "name": "stdout",
     "output_type": "stream",
     "text": [
      "epoch 141| loss: 0.24461 | train_mse: 0.10706 | train_mae: 0.24541 |  0:00:32s\n"
     ]
    },
    {
     "name": "stdout",
     "output_type": "stream",
     "text": [
      "epoch 142| loss: 0.19945 | train_mse: 0.11102 | train_mae: 0.24713 |  0:00:32s\n"
     ]
    },
    {
     "name": "stdout",
     "output_type": "stream",
     "text": [
      "epoch 143| loss: 0.33224 | train_mse: 0.11589 | train_mae: 0.24946 |  0:00:32s\n"
     ]
    },
    {
     "name": "stdout",
     "output_type": "stream",
     "text": [
      "epoch 144| loss: 0.25398 | train_mse: 0.11605 | train_mae: 0.24913 |  0:00:32s\n",
      "epoch 145| loss: 0.3626  | train_mse: 0.11377 | train_mae: 0.24369 |  0:00:32s\n"
     ]
    },
    {
     "name": "stdout",
     "output_type": "stream",
     "text": [
      "epoch 146| loss: 0.14468 | train_mse: 0.11473 | train_mae: 0.24636 |  0:00:33s\n"
     ]
    },
    {
     "name": "stdout",
     "output_type": "stream",
     "text": [
      "epoch 147| loss: 0.23294 | train_mse: 0.11747 | train_mae: 0.24748 |  0:00:33s\n"
     ]
    },
    {
     "name": "stdout",
     "output_type": "stream",
     "text": [
      "epoch 148| loss: 0.44924 | train_mse: 0.11621 | train_mae: 0.24443 |  0:00:34s\n"
     ]
    },
    {
     "name": "stdout",
     "output_type": "stream",
     "text": [
      "epoch 149| loss: 0.1886  | train_mse: 0.11667 | train_mae: 0.24084 |  0:00:34s\n"
     ]
    },
    {
     "name": "stdout",
     "output_type": "stream",
     "text": [
      "epoch 150| loss: 0.37126 | train_mse: 0.12064 | train_mae: 0.24177 |  0:00:34s\n"
     ]
    },
    {
     "name": "stdout",
     "output_type": "stream",
     "text": [
      "epoch 151| loss: 0.20663 | train_mse: 0.11944 | train_mae: 0.23947 |  0:00:35s\n"
     ]
    },
    {
     "name": "stdout",
     "output_type": "stream",
     "text": [
      "epoch 152| loss: 0.27672 | train_mse: 0.11888 | train_mae: 0.23584 |  0:00:35s\n"
     ]
    },
    {
     "name": "stdout",
     "output_type": "stream",
     "text": [
      "epoch 153| loss: 0.36971 | train_mse: 0.12262 | train_mae: 0.23835 |  0:00:35s\n",
      "epoch 154| loss: 0.24166 | train_mse: 0.12636 | train_mae: 0.24296 |  0:00:36s\n"
     ]
    },
    {
     "name": "stdout",
     "output_type": "stream",
     "text": [
      "epoch 155| loss: 0.18771 | train_mse: 0.12968 | train_mae: 0.24514 |  0:00:36s\n"
     ]
    },
    {
     "name": "stdout",
     "output_type": "stream",
     "text": [
      "epoch 156| loss: 0.2563  | train_mse: 0.12569 | train_mae: 0.24445 |  0:00:36s\n"
     ]
    },
    {
     "name": "stdout",
     "output_type": "stream",
     "text": [
      "epoch 157| loss: 0.25764 | train_mse: 0.12981 | train_mae: 0.24735 |  0:00:36s\n"
     ]
    },
    {
     "name": "stdout",
     "output_type": "stream",
     "text": [
      "epoch 158| loss: 0.15388 | train_mse: 0.11461 | train_mae: 0.23526 |  0:00:37s\n"
     ]
    },
    {
     "name": "stdout",
     "output_type": "stream",
     "text": [
      "epoch 159| loss: 0.16035 | train_mse: 0.11172 | train_mae: 0.23009 |  0:00:37s\n"
     ]
    },
    {
     "name": "stdout",
     "output_type": "stream",
     "text": [
      "epoch 160| loss: 0.24088 | train_mse: 0.10993 | train_mae: 0.22857 |  0:00:38s\n"
     ]
    },
    {
     "name": "stdout",
     "output_type": "stream",
     "text": [
      "epoch 161| loss: 0.35153 | train_mse: 0.10908 | train_mae: 0.22841 |  0:00:38s\n"
     ]
    },
    {
     "name": "stdout",
     "output_type": "stream",
     "text": [
      "epoch 162| loss: 0.14912 | train_mse: 0.10547 | train_mae: 0.22777 |  0:00:38s\n",
      "epoch 163| loss: 0.30603 | train_mse: 0.10598 | train_mae: 0.23137 |  0:00:39s\n"
     ]
    },
    {
     "name": "stdout",
     "output_type": "stream",
     "text": [
      "epoch 164| loss: 0.27765 | train_mse: 0.10764 | train_mae: 0.23515 |  0:00:39s\n"
     ]
    },
    {
     "name": "stdout",
     "output_type": "stream",
     "text": [
      "epoch 165| loss: 0.12877 | train_mse: 0.1035  | train_mae: 0.23483 |  0:00:39s\n",
      "epoch 166| loss: 0.24327 | train_mse: 0.10363 | train_mae: 0.22994 |  0:00:39s\n"
     ]
    },
    {
     "name": "stdout",
     "output_type": "stream",
     "text": [
      "epoch 167| loss: 0.23054 | train_mse: 0.1053  | train_mae: 0.22558 |  0:00:39s\n",
      "epoch 168| loss: 0.18442 | train_mse: 0.11152 | train_mae: 0.22396 |  0:00:39s"
     ]
    },
    {
     "name": "stdout",
     "output_type": "stream",
     "text": [
      "\n",
      "epoch 169| loss: 0.26872 | train_mse: 0.11565 | train_mae: 0.22111 |  0:00:40s\n"
     ]
    },
    {
     "name": "stdout",
     "output_type": "stream",
     "text": [
      "epoch 170| loss: 0.11739 | train_mse: 0.11494 | train_mae: 0.22064 |  0:00:40s\n"
     ]
    },
    {
     "name": "stdout",
     "output_type": "stream",
     "text": [
      "epoch 171| loss: 0.16128 | train_mse: 0.11443 | train_mae: 0.21946 |  0:00:41s\n"
     ]
    },
    {
     "name": "stdout",
     "output_type": "stream",
     "text": [
      "epoch 172| loss: 0.14186 | train_mse: 0.11424 | train_mae: 0.22119 |  0:00:41s\n"
     ]
    },
    {
     "name": "stdout",
     "output_type": "stream",
     "text": [
      "epoch 173| loss: 0.23202 | train_mse: 0.10885 | train_mae: 0.21837 |  0:00:41s\n"
     ]
    },
    {
     "name": "stdout",
     "output_type": "stream",
     "text": [
      "epoch 174| loss: 0.3891  | train_mse: 0.10483 | train_mae: 0.21535 |  0:00:42s\n"
     ]
    },
    {
     "name": "stdout",
     "output_type": "stream",
     "text": [
      "epoch 175| loss: 0.16925 | train_mse: 0.10329 | train_mae: 0.21798 |  0:00:42s\n",
      "epoch 176| loss: 0.24291 | train_mse: 0.10068 | train_mae: 0.21932 |  0:00:42s\n"
     ]
    },
    {
     "name": "stdout",
     "output_type": "stream",
     "text": [
      "epoch 177| loss: 0.122   | train_mse: 0.10212 | train_mae: 0.22203 |  0:00:43s\n"
     ]
    },
    {
     "name": "stdout",
     "output_type": "stream",
     "text": [
      "epoch 178| loss: 0.15128 | train_mse: 0.10313 | train_mae: 0.22545 |  0:00:43s\n",
      "epoch 179| loss: 0.23961 | train_mse: 0.10185 | train_mae: 0.22478 |  0:00:43s\n"
     ]
    },
    {
     "name": "stdout",
     "output_type": "stream",
     "text": [
      "epoch 180| loss: 0.11789 | train_mse: 0.09961 | train_mae: 0.22181 |  0:00:43s\n"
     ]
    },
    {
     "name": "stdout",
     "output_type": "stream",
     "text": [
      "epoch 181| loss: 0.14485 | train_mse: 0.09966 | train_mae: 0.22269 |  0:00:44s\n"
     ]
    },
    {
     "name": "stdout",
     "output_type": "stream",
     "text": [
      "epoch 182| loss: 0.18851 | train_mse: 0.09648 | train_mae: 0.21918 |  0:00:44s\n",
      "epoch 183| loss: 0.25296 | train_mse: 0.09154 | train_mae: 0.21553 |  0:00:44s\n"
     ]
    },
    {
     "name": "stdout",
     "output_type": "stream",
     "text": [
      "epoch 184| loss: 0.17292 | train_mse: 0.08898 | train_mae: 0.21239 |  0:00:44s\n"
     ]
    },
    {
     "name": "stdout",
     "output_type": "stream",
     "text": [
      "epoch 185| loss: 0.19454 | train_mse: 0.08679 | train_mae: 0.2066  |  0:00:45s\n"
     ]
    },
    {
     "name": "stdout",
     "output_type": "stream",
     "text": [
      "epoch 186| loss: 0.14354 | train_mse: 0.08536 | train_mae: 0.2008  |  0:00:45s\n"
     ]
    },
    {
     "name": "stdout",
     "output_type": "stream",
     "text": [
      "epoch 187| loss: 0.1394  | train_mse: 0.08255 | train_mae: 0.20013 |  0:00:45s\n"
     ]
    },
    {
     "name": "stdout",
     "output_type": "stream",
     "text": [
      "epoch 188| loss: 0.13632 | train_mse: 0.08453 | train_mae: 0.19979 |  0:00:46s\n"
     ]
    },
    {
     "name": "stdout",
     "output_type": "stream",
     "text": [
      "epoch 189| loss: 0.07813 | train_mse: 0.08676 | train_mae: 0.20064 |  0:00:46s\n",
      "epoch 190| loss: 0.14491 | train_mse: 0.08544 | train_mae: 0.20074 |  0:00:46s\n"
     ]
    },
    {
     "name": "stdout",
     "output_type": "stream",
     "text": [
      "epoch 191| loss: 0.15711 | train_mse: 0.08771 | train_mae: 0.20471 |  0:00:46s\n"
     ]
    },
    {
     "name": "stdout",
     "output_type": "stream",
     "text": [
      "epoch 192| loss: 0.2329  | train_mse: 0.08436 | train_mae: 0.20289 |  0:00:47s\n"
     ]
    },
    {
     "name": "stdout",
     "output_type": "stream",
     "text": [
      "epoch 193| loss: 0.32443 | train_mse: 0.09288 | train_mae: 0.21022 |  0:00:48s\n"
     ]
    },
    {
     "name": "stdout",
     "output_type": "stream",
     "text": [
      "epoch 194| loss: 0.2143  | train_mse: 0.10425 | train_mae: 0.21688 |  0:00:48s\n"
     ]
    },
    {
     "name": "stdout",
     "output_type": "stream",
     "text": [
      "epoch 195| loss: 0.22741 | train_mse: 0.11289 | train_mae: 0.22048 |  0:00:48s\n",
      "epoch 196| loss: 0.12129 | train_mse: 0.11842 | train_mae: 0.22275 |  0:00:49s\n",
      "epoch 197| loss: 0.17895 | train_mse: 0.1216  | train_mae: 0.22146 |  0:00:49s\n"
     ]
    },
    {
     "name": "stdout",
     "output_type": "stream",
     "text": [
      "epoch 198| loss: 0.22245 | train_mse: 0.12574 | train_mae: 0.22073 |  0:00:49s\n"
     ]
    },
    {
     "name": "stdout",
     "output_type": "stream",
     "text": [
      "epoch 199| loss: 0.19782 | train_mse: 0.12786 | train_mae: 0.2211  |  0:00:49s\n",
      "epoch 200| loss: 0.16234 | train_mse: 0.12468 | train_mae: 0.21723 |  0:00:49s\n"
     ]
    },
    {
     "name": "stdout",
     "output_type": "stream",
     "text": [
      "epoch 201| loss: 0.13284 | train_mse: 0.12642 | train_mae: 0.21505 |  0:00:49s\n",
      "epoch 202| loss: 0.27188 | train_mse: 0.13668 | train_mae: 0.21835 |  0:00:49s\n",
      "epoch 203| loss: 0.19751 | train_mse: 0.14011 | train_mae: 0.22149 |  0:00:49s\n"
     ]
    },
    {
     "name": "stdout",
     "output_type": "stream",
     "text": [
      "epoch 204| loss: 0.22881 | train_mse: 0.13185 | train_mae: 0.22093 |  0:00:50s\n",
      "epoch 205| loss: 0.27378 | train_mse: 0.12186 | train_mae: 0.2168  |  0:00:50s\n",
      "epoch 206| loss: 0.20981 | train_mse: 0.11287 | train_mae: 0.21047 |  0:00:50s\n"
     ]
    },
    {
     "name": "stdout",
     "output_type": "stream",
     "text": [
      "epoch 207| loss: 0.27468 | train_mse: 0.10715 | train_mae: 0.2076  |  0:00:50s\n",
      "epoch 208| loss: 0.2794  | train_mse: 0.11468 | train_mae: 0.21234 |  0:00:50s\n"
     ]
    },
    {
     "name": "stdout",
     "output_type": "stream",
     "text": [
      "epoch 209| loss: 0.08714 | train_mse: 0.1104  | train_mae: 0.21052 |  0:00:50s\n",
      "epoch 210| loss: 0.17171 | train_mse: 0.10412 | train_mae: 0.2055  |  0:00:50s\n"
     ]
    },
    {
     "name": "stdout",
     "output_type": "stream",
     "text": [
      "epoch 211| loss: 0.25158 | train_mse: 0.10517 | train_mae: 0.20327 |  0:00:50s\n",
      "epoch 212| loss: 0.16797 | train_mse: 0.10635 | train_mae: 0.20289 |  0:00:51s\n"
     ]
    },
    {
     "name": "stdout",
     "output_type": "stream",
     "text": [
      "epoch 213| loss: 0.40657 | train_mse: 0.10842 | train_mae: 0.20357 |  0:00:51s\n",
      "epoch 214| loss: 0.54201 | train_mse: 0.10725 | train_mae: 0.20066 |  0:00:51s\n"
     ]
    },
    {
     "name": "stdout",
     "output_type": "stream",
     "text": [
      "epoch 215| loss: 0.14203 | train_mse: 0.10565 | train_mae: 0.20066 |  0:00:51s\n",
      "epoch 216| loss: 0.25199 | train_mse: 0.10065 | train_mae: 0.2021  |  0:00:51s\n"
     ]
    },
    {
     "name": "stdout",
     "output_type": "stream",
     "text": [
      "epoch 217| loss: 0.31241 | train_mse: 0.10549 | train_mae: 0.20824 |  0:00:51s\n"
     ]
    },
    {
     "name": "stdout",
     "output_type": "stream",
     "text": [
      "epoch 218| loss: 0.35159 | train_mse: 0.10128 | train_mae: 0.20681 |  0:00:51s\n"
     ]
    },
    {
     "name": "stdout",
     "output_type": "stream",
     "text": [
      "epoch 219| loss: 0.24365 | train_mse: 0.0952  | train_mae: 0.20244 |  0:00:52s\n",
      "epoch 220| loss: 0.15375 | train_mse: 0.08478 | train_mae: 0.19623 |  0:00:52s\n"
     ]
    },
    {
     "name": "stdout",
     "output_type": "stream",
     "text": [
      "epoch 221| loss: 0.12183 | train_mse: 0.08222 | train_mae: 0.19412 |  0:00:52s\n",
      "epoch 222| loss: 0.17589 | train_mse: 0.06914 | train_mae: 0.18741 |  0:00:52s\n"
     ]
    },
    {
     "name": "stdout",
     "output_type": "stream",
     "text": [
      "epoch 223| loss: 0.32216 | train_mse: 0.06533 | train_mae: 0.1852  |  0:00:52s\n"
     ]
    },
    {
     "name": "stdout",
     "output_type": "stream",
     "text": [
      "epoch 224| loss: 0.11489 | train_mse: 0.06379 | train_mae: 0.18676 |  0:00:53s\n",
      "epoch 225| loss: 0.27004 | train_mse: 0.06432 | train_mae: 0.19039 |  0:00:53s\n"
     ]
    },
    {
     "name": "stdout",
     "output_type": "stream",
     "text": [
      "epoch 226| loss: 0.18389 | train_mse: 0.06744 | train_mae: 0.19178 |  0:00:53s\n",
      "epoch 227| loss: 0.27884 | train_mse: 0.05979 | train_mae: 0.18419 |  0:00:53s\n"
     ]
    },
    {
     "name": "stdout",
     "output_type": "stream",
     "text": [
      "epoch 228| loss: 0.2855  | train_mse: 0.05653 | train_mae: 0.18102 |  0:00:53s\n",
      "epoch 229| loss: 0.2541  | train_mse: 0.05876 | train_mae: 0.18207 |  0:00:53s\n"
     ]
    },
    {
     "name": "stdout",
     "output_type": "stream",
     "text": [
      "epoch 230| loss: 0.16959 | train_mse: 0.06045 | train_mae: 0.18296 |  0:00:54s\n",
      "epoch 231| loss: 0.19095 | train_mse: 0.06329 | train_mae: 0.18595 |  0:00:54s\n"
     ]
    },
    {
     "name": "stdout",
     "output_type": "stream",
     "text": [
      "epoch 232| loss: 0.41358 | train_mse: 0.06269 | train_mae: 0.18553 |  0:00:54s\n",
      "epoch 233| loss: 0.19709 | train_mse: 0.06189 | train_mae: 0.18547 |  0:00:54s\n"
     ]
    },
    {
     "name": "stdout",
     "output_type": "stream",
     "text": [
      "epoch 234| loss: 0.21025 | train_mse: 0.06282 | train_mae: 0.18656 |  0:00:54s\n",
      "epoch 235| loss: 0.22467 | train_mse: 0.06659 | train_mae: 0.19107 |  0:00:54s\n"
     ]
    },
    {
     "name": "stdout",
     "output_type": "stream",
     "text": [
      "epoch 236| loss: 0.2525  | train_mse: 0.07026 | train_mae: 0.19197 |  0:00:54s\n"
     ]
    },
    {
     "name": "stdout",
     "output_type": "stream",
     "text": [
      "epoch 237| loss: 0.10501 | train_mse: 0.07499 | train_mae: 0.1941  |  0:00:55s\n"
     ]
    },
    {
     "name": "stdout",
     "output_type": "stream",
     "text": [
      "epoch 238| loss: 0.20867 | train_mse: 0.07961 | train_mae: 0.19624 |  0:00:55s\n"
     ]
    },
    {
     "name": "stdout",
     "output_type": "stream",
     "text": [
      "epoch 239| loss: 0.18458 | train_mse: 0.0811  | train_mae: 0.19696 |  0:00:55s\n",
      "epoch 240| loss: 0.21565 | train_mse: 0.07948 | train_mae: 0.19428 |  0:00:55s\n"
     ]
    },
    {
     "name": "stdout",
     "output_type": "stream",
     "text": [
      "epoch 241| loss: 0.1391  | train_mse: 0.07909 | train_mae: 0.19428 |  0:00:55s\n"
     ]
    },
    {
     "name": "stdout",
     "output_type": "stream",
     "text": [
      "epoch 242| loss: 0.19256 | train_mse: 0.07495 | train_mae: 0.19064 |  0:00:56s\n",
      "epoch 243| loss: 0.26184 | train_mse: 0.07523 | train_mae: 0.19339 |  0:00:56s\n",
      "epoch 244| loss: 0.42567 | train_mse: 0.07979 | train_mae: 0.19768 |  0:00:56s\n"
     ]
    },
    {
     "name": "stdout",
     "output_type": "stream",
     "text": [
      "epoch 245| loss: 0.1386  | train_mse: 0.08479 | train_mae: 0.20064 |  0:00:56s\n",
      "epoch 246| loss: 0.15108 | train_mse: 0.08417 | train_mae: 0.1989  |  0:00:56s\n"
     ]
    },
    {
     "name": "stdout",
     "output_type": "stream",
     "text": [
      "epoch 247| loss: 0.2026  | train_mse: 0.07956 | train_mae: 0.19375 |  0:00:56s\n"
     ]
    },
    {
     "name": "stdout",
     "output_type": "stream",
     "text": [
      "epoch 248| loss: 0.31856 | train_mse: 0.08332 | train_mae: 0.19483 |  0:00:57s\n",
      "epoch 249| loss: 0.10836 | train_mse: 0.08845 | train_mae: 0.19967 |  0:00:57s\n"
     ]
    },
    {
     "name": "stdout",
     "output_type": "stream",
     "text": [
      "epoch 250| loss: 0.15719 | train_mse: 0.08994 | train_mae: 0.19983 |  0:00:57s\n"
     ]
    },
    {
     "name": "stdout",
     "output_type": "stream",
     "text": [
      "epoch 251| loss: 0.15794 | train_mse: 0.08986 | train_mae: 0.19751 |  0:00:57s\n"
     ]
    },
    {
     "name": "stdout",
     "output_type": "stream",
     "text": [
      "epoch 252| loss: 0.15208 | train_mse: 0.08474 | train_mae: 0.19458 |  0:00:58s\n",
      "epoch 253| loss: 0.14394 | train_mse: 0.08369 | train_mae: 0.19285 |  0:00:58s\n"
     ]
    },
    {
     "name": "stdout",
     "output_type": "stream",
     "text": [
      "epoch 254| loss: 0.16746 | train_mse: 0.08038 | train_mae: 0.19016 |  0:00:58s\n"
     ]
    },
    {
     "name": "stdout",
     "output_type": "stream",
     "text": [
      "epoch 255| loss: 0.10718 | train_mse: 0.07728 | train_mae: 0.18667 |  0:00:58s\n"
     ]
    },
    {
     "name": "stdout",
     "output_type": "stream",
     "text": [
      "epoch 256| loss: 0.15681 | train_mse: 0.07725 | train_mae: 0.18619 |  0:00:59s\n"
     ]
    },
    {
     "name": "stdout",
     "output_type": "stream",
     "text": [
      "epoch 257| loss: 0.09718 | train_mse: 0.07767 | train_mae: 0.18648 |  0:00:59s\n"
     ]
    },
    {
     "name": "stdout",
     "output_type": "stream",
     "text": [
      "epoch 258| loss: 0.11567 | train_mse: 0.07274 | train_mae: 0.18289 |  0:00:59s\n"
     ]
    },
    {
     "name": "stdout",
     "output_type": "stream",
     "text": [
      "epoch 259| loss: 0.12054 | train_mse: 0.07194 | train_mae: 0.18293 |  0:01:00s\n",
      "epoch 260| loss: 0.11375 | train_mse: 0.07282 | train_mae: 0.18432 |  0:01:00s\n"
     ]
    },
    {
     "name": "stdout",
     "output_type": "stream",
     "text": [
      "epoch 261| loss: 0.18765 | train_mse: 0.07539 | train_mae: 0.1881  |  0:01:00s\n"
     ]
    },
    {
     "name": "stdout",
     "output_type": "stream",
     "text": [
      "epoch 262| loss: 0.28053 | train_mse: 0.07341 | train_mae: 0.18681 |  0:01:00s\n"
     ]
    },
    {
     "name": "stdout",
     "output_type": "stream",
     "text": [
      "epoch 263| loss: 0.24128 | train_mse: 0.07336 | train_mae: 0.18748 |  0:01:00s\n",
      "epoch 264| loss: 0.22581 | train_mse: 0.0693  | train_mae: 0.18631 |  0:01:01s\n"
     ]
    },
    {
     "name": "stdout",
     "output_type": "stream",
     "text": [
      "epoch 265| loss: 0.132   | train_mse: 0.0751  | train_mae: 0.19143 |  0:01:01s\n"
     ]
    },
    {
     "name": "stdout",
     "output_type": "stream",
     "text": [
      "epoch 266| loss: 0.15271 | train_mse: 0.07688 | train_mae: 0.19196 |  0:01:01s\n"
     ]
    },
    {
     "name": "stdout",
     "output_type": "stream",
     "text": [
      "epoch 267| loss: 0.29755 | train_mse: 0.07362 | train_mae: 0.18833 |  0:01:02s\n"
     ]
    },
    {
     "name": "stdout",
     "output_type": "stream",
     "text": [
      "epoch 268| loss: 0.26794 | train_mse: 0.07244 | train_mae: 0.18677 |  0:01:02s\n"
     ]
    },
    {
     "name": "stdout",
     "output_type": "stream",
     "text": [
      "epoch 269| loss: 0.13351 | train_mse: 0.07116 | train_mae: 0.18341 |  0:01:03s\n"
     ]
    },
    {
     "name": "stdout",
     "output_type": "stream",
     "text": [
      "epoch 270| loss: 0.23827 | train_mse: 0.06636 | train_mae: 0.17741 |  0:01:03s\n"
     ]
    },
    {
     "name": "stdout",
     "output_type": "stream",
     "text": [
      "epoch 271| loss: 0.21673 | train_mse: 0.0636  | train_mae: 0.17496 |  0:01:04s\n"
     ]
    },
    {
     "name": "stdout",
     "output_type": "stream",
     "text": [
      "epoch 272| loss: 0.23573 | train_mse: 0.06064 | train_mae: 0.17372 |  0:01:04s\n"
     ]
    },
    {
     "name": "stdout",
     "output_type": "stream",
     "text": [
      "epoch 273| loss: 0.21697 | train_mse: 0.05964 | train_mae: 0.17411 |  0:01:05s\n"
     ]
    },
    {
     "name": "stdout",
     "output_type": "stream",
     "text": [
      "epoch 274| loss: 0.53793 | train_mse: 0.06121 | train_mae: 0.17623 |  0:01:05s\n"
     ]
    },
    {
     "name": "stdout",
     "output_type": "stream",
     "text": [
      "epoch 275| loss: 0.17774 | train_mse: 0.06361 | train_mae: 0.17774 |  0:01:05s\n"
     ]
    },
    {
     "name": "stdout",
     "output_type": "stream",
     "text": [
      "epoch 276| loss: 0.11256 | train_mse: 0.06534 | train_mae: 0.17947 |  0:01:06s\n"
     ]
    },
    {
     "name": "stdout",
     "output_type": "stream",
     "text": [
      "epoch 277| loss: 0.09838 | train_mse: 0.06403 | train_mae: 0.17789 |  0:01:06s\n"
     ]
    },
    {
     "name": "stdout",
     "output_type": "stream",
     "text": [
      "epoch 278| loss: 0.17267 | train_mse: 0.0622  | train_mae: 0.17727 |  0:01:07s\n"
     ]
    },
    {
     "name": "stdout",
     "output_type": "stream",
     "text": [
      "epoch 279| loss: 0.30014 | train_mse: 0.05937 | train_mae: 0.17463 |  0:01:07s\n",
      "epoch 280| loss: 0.33668 | train_mse: 0.05788 | train_mae: 0.17161 |  0:01:07s\n"
     ]
    },
    {
     "name": "stdout",
     "output_type": "stream",
     "text": [
      "epoch 281| loss: 0.28313 | train_mse: 0.05684 | train_mae: 0.16848 |  0:01:07s\n"
     ]
    },
    {
     "name": "stdout",
     "output_type": "stream",
     "text": [
      "epoch 282| loss: 0.28443 | train_mse: 0.05754 | train_mae: 0.16931 |  0:01:08s\n",
      "epoch 283| loss: 0.11674 | train_mse: 0.0578  | train_mae: 0.16962 |  0:01:08s\n"
     ]
    },
    {
     "name": "stdout",
     "output_type": "stream",
     "text": [
      "epoch 284| loss: 0.13586 | train_mse: 0.05722 | train_mae: 0.1687  |  0:01:08s\n"
     ]
    },
    {
     "name": "stdout",
     "output_type": "stream",
     "text": [
      "epoch 285| loss: 0.12735 | train_mse: 0.05679 | train_mae: 0.16683 |  0:01:09s\n"
     ]
    },
    {
     "name": "stdout",
     "output_type": "stream",
     "text": [
      "epoch 286| loss: 0.219   | train_mse: 0.05694 | train_mae: 0.16686 |  0:01:09s\n"
     ]
    },
    {
     "name": "stdout",
     "output_type": "stream",
     "text": [
      "epoch 287| loss: 0.19245 | train_mse: 0.05834 | train_mae: 0.16898 |  0:01:09s\n"
     ]
    },
    {
     "name": "stdout",
     "output_type": "stream",
     "text": [
      "epoch 288| loss: 0.24452 | train_mse: 0.05874 | train_mae: 0.1705  |  0:01:10s\n"
     ]
    },
    {
     "name": "stdout",
     "output_type": "stream",
     "text": [
      "epoch 289| loss: 0.08668 | train_mse: 0.06192 | train_mae: 0.17585 |  0:01:10s\n"
     ]
    },
    {
     "name": "stdout",
     "output_type": "stream",
     "text": [
      "epoch 290| loss: 0.28512 | train_mse: 0.06502 | train_mae: 0.18035 |  0:01:11s\n"
     ]
    },
    {
     "name": "stdout",
     "output_type": "stream",
     "text": [
      "epoch 291| loss: 0.10579 | train_mse: 0.06529 | train_mae: 0.18062 |  0:01:11s\n"
     ]
    },
    {
     "name": "stdout",
     "output_type": "stream",
     "text": [
      "epoch 292| loss: 0.11773 | train_mse: 0.06571 | train_mae: 0.18192 |  0:01:12s\n"
     ]
    },
    {
     "name": "stdout",
     "output_type": "stream",
     "text": [
      "epoch 293| loss: 0.07486 | train_mse: 0.06622 | train_mae: 0.18287 |  0:01:12s\n"
     ]
    },
    {
     "name": "stdout",
     "output_type": "stream",
     "text": [
      "epoch 294| loss: 0.14176 | train_mse: 0.06214 | train_mae: 0.17506 |  0:01:12s\n"
     ]
    },
    {
     "name": "stdout",
     "output_type": "stream",
     "text": [
      "epoch 295| loss: 0.15777 | train_mse: 0.06357 | train_mae: 0.17591 |  0:01:12s\n"
     ]
    },
    {
     "name": "stdout",
     "output_type": "stream",
     "text": [
      "epoch 296| loss: 0.1148  | train_mse: 0.0622  | train_mae: 0.17327 |  0:01:13s\n"
     ]
    },
    {
     "name": "stdout",
     "output_type": "stream",
     "text": [
      "epoch 297| loss: 0.16925 | train_mse: 0.0593  | train_mae: 0.16948 |  0:01:13s\n"
     ]
    },
    {
     "name": "stdout",
     "output_type": "stream",
     "text": [
      "epoch 298| loss: 0.10909 | train_mse: 0.06201 | train_mae: 0.16867 |  0:01:13s\n",
      "epoch 299| loss: 0.24531 | train_mse: 0.06164 | train_mae: 0.16753 |  0:01:13s\n"
     ]
    },
    {
     "name": "stdout",
     "output_type": "stream",
     "text": [
      "epoch 300| loss: 0.29934 | train_mse: 0.06083 | train_mae: 0.16667 |  0:01:14s\n"
     ]
    },
    {
     "name": "stdout",
     "output_type": "stream",
     "text": [
      "epoch 301| loss: 0.28296 | train_mse: 0.06309 | train_mae: 0.16758 |  0:01:14s\n"
     ]
    },
    {
     "name": "stdout",
     "output_type": "stream",
     "text": [
      "epoch 302| loss: 0.14246 | train_mse: 0.06869 | train_mae: 0.17235 |  0:01:14s\n"
     ]
    },
    {
     "name": "stdout",
     "output_type": "stream",
     "text": [
      "epoch 303| loss: 0.09133 | train_mse: 0.07559 | train_mae: 0.17748 |  0:01:15s\n"
     ]
    },
    {
     "name": "stdout",
     "output_type": "stream",
     "text": [
      "epoch 304| loss: 0.14136 | train_mse: 0.07658 | train_mae: 0.17896 |  0:01:15s\n"
     ]
    },
    {
     "name": "stdout",
     "output_type": "stream",
     "text": [
      "epoch 305| loss: 0.13786 | train_mse: 0.07699 | train_mae: 0.17994 |  0:01:15s\n"
     ]
    },
    {
     "name": "stdout",
     "output_type": "stream",
     "text": [
      "epoch 306| loss: 0.12242 | train_mse: 0.07698 | train_mae: 0.18054 |  0:01:15s\n",
      "epoch 307| loss: 0.34377 | train_mse: 0.07578 | train_mae: 0.17878 |  0:01:15s\n"
     ]
    },
    {
     "name": "stdout",
     "output_type": "stream",
     "text": [
      "epoch 308| loss: 0.16159 | train_mse: 0.08103 | train_mae: 0.18121 |  0:01:16s\n"
     ]
    },
    {
     "name": "stdout",
     "output_type": "stream",
     "text": [
      "epoch 309| loss: 0.39479 | train_mse: 0.06948 | train_mae: 0.17383 |  0:01:16s\n"
     ]
    },
    {
     "name": "stdout",
     "output_type": "stream",
     "text": [
      "epoch 310| loss: 0.10434 | train_mse: 0.06919 | train_mae: 0.1736  |  0:01:16s\n",
      "epoch 311| loss: 0.12178 | train_mse: 0.06806 | train_mae: 0.17337 |  0:01:16s\n"
     ]
    },
    {
     "name": "stdout",
     "output_type": "stream",
     "text": [
      "epoch 312| loss: 0.19807 | train_mse: 0.06519 | train_mae: 0.17213 |  0:01:17s\n",
      "epoch 313| loss: 0.1541  | train_mse: 0.06499 | train_mae: 0.17161 |  0:01:17s\n"
     ]
    },
    {
     "name": "stdout",
     "output_type": "stream",
     "text": [
      "epoch 314| loss: 0.12842 | train_mse: 0.06588 | train_mae: 0.17637 |  0:01:17s\n"
     ]
    },
    {
     "name": "stdout",
     "output_type": "stream",
     "text": [
      "epoch 315| loss: 0.16495 | train_mse: 0.06647 | train_mae: 0.17855 |  0:01:18s\n"
     ]
    },
    {
     "name": "stdout",
     "output_type": "stream",
     "text": [
      "epoch 316| loss: 0.20402 | train_mse: 0.06086 | train_mae: 0.17599 |  0:01:18s\n"
     ]
    },
    {
     "name": "stdout",
     "output_type": "stream",
     "text": [
      "epoch 317| loss: 0.1649  | train_mse: 0.05851 | train_mae: 0.17511 |  0:01:18s\n"
     ]
    },
    {
     "name": "stdout",
     "output_type": "stream",
     "text": [
      "epoch 318| loss: 0.12878 | train_mse: 0.057   | train_mae: 0.17364 |  0:01:19s\n",
      "epoch 319| loss: 0.15869 | train_mse: 0.0583  | train_mae: 0.17508 |  0:01:19s\n"
     ]
    },
    {
     "name": "stdout",
     "output_type": "stream",
     "text": [
      "epoch 320| loss: 0.24337 | train_mse: 0.05777 | train_mae: 0.17165 |  0:01:19s\n"
     ]
    },
    {
     "name": "stdout",
     "output_type": "stream",
     "text": [
      "epoch 321| loss: 0.22538 | train_mse: 0.05823 | train_mae: 0.17047 |  0:01:19s\n"
     ]
    },
    {
     "name": "stdout",
     "output_type": "stream",
     "text": [
      "epoch 322| loss: 0.1509  | train_mse: 0.05672 | train_mae: 0.16836 |  0:01:20s\n",
      "epoch 323| loss: 0.10184 | train_mse: 0.05338 | train_mae: 0.16358 |  0:01:20s\n"
     ]
    },
    {
     "name": "stdout",
     "output_type": "stream",
     "text": [
      "epoch 324| loss: 0.16146 | train_mse: 0.04917 | train_mae: 0.1596  |  0:01:20s\n",
      "epoch 325| loss: 0.18428 | train_mse: 0.04865 | train_mae: 0.15812 |  0:01:20s\n"
     ]
    },
    {
     "name": "stdout",
     "output_type": "stream",
     "text": [
      "epoch 326| loss: 0.15706 | train_mse: 0.04741 | train_mae: 0.15578 |  0:01:20s\n",
      "epoch 327| loss: 0.11907 | train_mse: 0.04653 | train_mae: 0.15482 |  0:01:20s\n"
     ]
    },
    {
     "name": "stdout",
     "output_type": "stream",
     "text": [
      "epoch 328| loss: 0.13448 | train_mse: 0.04473 | train_mae: 0.1529  |  0:01:21s\n"
     ]
    },
    {
     "name": "stdout",
     "output_type": "stream",
     "text": [
      "epoch 329| loss: 0.09147 | train_mse: 0.04421 | train_mae: 0.15045 |  0:01:21s\n"
     ]
    },
    {
     "name": "stdout",
     "output_type": "stream",
     "text": [
      "epoch 330| loss: 0.17179 | train_mse: 0.04398 | train_mae: 0.14862 |  0:01:22s\n"
     ]
    },
    {
     "name": "stdout",
     "output_type": "stream",
     "text": [
      "epoch 331| loss: 0.38439 | train_mse: 0.04623 | train_mae: 0.14823 |  0:01:22s\n"
     ]
    },
    {
     "name": "stdout",
     "output_type": "stream",
     "text": [
      "epoch 332| loss: 0.13116 | train_mse: 0.04914 | train_mae: 0.15022 |  0:01:22s\n",
      "epoch 333| loss: 0.15325 | train_mse: 0.04971 | train_mae: 0.14995 |  0:01:22s\n"
     ]
    },
    {
     "name": "stdout",
     "output_type": "stream",
     "text": [
      "epoch 334| loss: 0.31905 | train_mse: 0.05221 | train_mae: 0.1537  |  0:01:22s\n"
     ]
    },
    {
     "name": "stdout",
     "output_type": "stream",
     "text": [
      "epoch 335| loss: 0.23756 | train_mse: 0.04919 | train_mae: 0.15015 |  0:01:23s\n",
      "epoch 336| loss: 0.17541 | train_mse: 0.04767 | train_mae: 0.1492  |  0:01:23s\n"
     ]
    },
    {
     "name": "stdout",
     "output_type": "stream",
     "text": [
      "epoch 337| loss: 0.13805 | train_mse: 0.051   | train_mae: 0.15442 |  0:01:23s\n"
     ]
    },
    {
     "name": "stdout",
     "output_type": "stream",
     "text": [
      "epoch 338| loss: 0.18907 | train_mse: 0.04951 | train_mae: 0.1535  |  0:01:23s\n"
     ]
    },
    {
     "name": "stdout",
     "output_type": "stream",
     "text": [
      "epoch 339| loss: 0.17388 | train_mse: 0.04907 | train_mae: 0.15163 |  0:01:24s\n"
     ]
    },
    {
     "name": "stdout",
     "output_type": "stream",
     "text": [
      "epoch 340| loss: 0.21726 | train_mse: 0.05103 | train_mae: 0.15513 |  0:01:24s\n",
      "epoch 341| loss: 0.17263 | train_mse: 0.05352 | train_mae: 0.15815 |  0:01:24s\n"
     ]
    },
    {
     "name": "stdout",
     "output_type": "stream",
     "text": [
      "epoch 342| loss: 0.12877 | train_mse: 0.05517 | train_mae: 0.16118 |  0:01:24s\n",
      "epoch 343| loss: 0.24586 | train_mse: 0.05542 | train_mae: 0.16186 |  0:01:24s\n"
     ]
    },
    {
     "name": "stdout",
     "output_type": "stream",
     "text": [
      "epoch 344| loss: 0.12442 | train_mse: 0.05766 | train_mae: 0.16425 |  0:01:25s\n"
     ]
    },
    {
     "name": "stdout",
     "output_type": "stream",
     "text": [
      "epoch 345| loss: 0.16963 | train_mse: 0.05568 | train_mae: 0.16279 |  0:01:25s\n"
     ]
    },
    {
     "name": "stdout",
     "output_type": "stream",
     "text": [
      "epoch 346| loss: 0.20627 | train_mse: 0.05646 | train_mae: 0.16235 |  0:01:25s\n"
     ]
    },
    {
     "name": "stdout",
     "output_type": "stream",
     "text": [
      "epoch 347| loss: 0.35934 | train_mse: 0.0558  | train_mae: 0.16333 |  0:01:26s\n",
      "epoch 348| loss: 0.10748 | train_mse: 0.05599 | train_mae: 0.16302 |  0:01:26s\n"
     ]
    },
    {
     "name": "stdout",
     "output_type": "stream",
     "text": [
      "epoch 349| loss: 0.11263 | train_mse: 0.05565 | train_mae: 0.1609  |  0:01:26s\n"
     ]
    },
    {
     "name": "stdout",
     "output_type": "stream",
     "text": [
      "epoch 350| loss: 0.14698 | train_mse: 0.05693 | train_mae: 0.16145 |  0:01:26s\n",
      "epoch 351| loss: 0.19878 | train_mse: 0.05698 | train_mae: 0.16044 |  0:01:26s\n"
     ]
    },
    {
     "name": "stdout",
     "output_type": "stream",
     "text": [
      "epoch 352| loss: 0.0739  | train_mse: 0.05661 | train_mae: 0.15821 |  0:01:26s\n",
      "epoch 353| loss: 0.31556 | train_mse: 0.05773 | train_mae: 0.16115 |  0:01:27s\n"
     ]
    },
    {
     "name": "stdout",
     "output_type": "stream",
     "text": [
      "epoch 354| loss: 0.16589 | train_mse: 0.06242 | train_mae: 0.16478 |  0:01:27s\n",
      "epoch 355| loss: 0.18271 | train_mse: 0.06817 | train_mae: 0.1688  |  0:01:27s\n"
     ]
    },
    {
     "name": "stdout",
     "output_type": "stream",
     "text": [
      "epoch 356| loss: 0.30393 | train_mse: 0.08027 | train_mae: 0.17717 |  0:01:28s\n",
      "epoch 357| loss: 0.11038 | train_mse: 0.08661 | train_mae: 0.18016 |  0:01:28s\n"
     ]
    },
    {
     "name": "stdout",
     "output_type": "stream",
     "text": [
      "epoch 358| loss: 0.26927 | train_mse: 0.08504 | train_mae: 0.17823 |  0:01:28s\n"
     ]
    },
    {
     "name": "stdout",
     "output_type": "stream",
     "text": [
      "epoch 359| loss: 0.28873 | train_mse: 0.07955 | train_mae: 0.17583 |  0:01:29s\n"
     ]
    },
    {
     "name": "stdout",
     "output_type": "stream",
     "text": [
      "epoch 360| loss: 0.22118 | train_mse: 0.07594 | train_mae: 0.1763  |  0:01:29s\n",
      "epoch 361| loss: 0.10253 | train_mse: 0.07295 | train_mae: 0.17536 |  0:01:29s\n"
     ]
    },
    {
     "name": "stdout",
     "output_type": "stream",
     "text": [
      "epoch 362| loss: 0.18028 | train_mse: 0.06733 | train_mae: 0.17395 |  0:01:30s\n",
      "epoch 363| loss: 0.09617 | train_mse: 0.06227 | train_mae: 0.1717  |  0:01:30s\n"
     ]
    },
    {
     "name": "stdout",
     "output_type": "stream",
     "text": [
      "epoch 364| loss: 0.17793 | train_mse: 0.06003 | train_mae: 0.17126 |  0:01:30s\n",
      "epoch 365| loss: 0.10121 | train_mse: 0.05921 | train_mae: 0.1722  |  0:01:30s\n",
      "epoch 366| loss: 0.07004 | train_mse: 0.059   | train_mae: 0.1741  |  0:01:30s\n"
     ]
    },
    {
     "name": "stdout",
     "output_type": "stream",
     "text": [
      "epoch 367| loss: 0.07845 | train_mse: 0.06283 | train_mae: 0.17792 |  0:01:30s\n",
      "epoch 368| loss: 0.12924 | train_mse: 0.06963 | train_mae: 0.18066 |  0:01:30s\n"
     ]
    },
    {
     "name": "stdout",
     "output_type": "stream",
     "text": [
      "epoch 369| loss: 0.13284 | train_mse: 0.0705  | train_mae: 0.17951 |  0:01:30s\n",
      "epoch 370| loss: 0.09452 | train_mse: 0.06789 | train_mae: 0.17636 |  0:01:30s\n",
      "epoch 371| loss: 0.46836 | train_mse: 0.06646 | train_mae: 0.1752  |  0:01:30s\n"
     ]
    },
    {
     "name": "stdout",
     "output_type": "stream",
     "text": [
      "epoch 372| loss: 0.11627 | train_mse: 0.07059 | train_mae: 0.17708 |  0:01:31s\n",
      "epoch 373| loss: 0.18526 | train_mse: 0.07353 | train_mae: 0.17827 |  0:01:31s\n",
      "epoch 374| loss: 0.17187 | train_mse: 0.0875  | train_mae: 0.18832 |  0:01:31s\n"
     ]
    },
    {
     "name": "stdout",
     "output_type": "stream",
     "text": [
      "epoch 375| loss: 0.59905 | train_mse: 0.08713 | train_mae: 0.19128 |  0:01:31s\n",
      "epoch 376| loss: 0.11748 | train_mse: 0.08594 | train_mae: 0.19209 |  0:01:31s\n"
     ]
    },
    {
     "name": "stdout",
     "output_type": "stream",
     "text": [
      "epoch 377| loss: 0.15869 | train_mse: 0.08165 | train_mae: 0.18897 |  0:01:31s\n",
      "epoch 378| loss: 0.26366 | train_mse: 0.08079 | train_mae: 0.18883 |  0:01:31s\n"
     ]
    },
    {
     "name": "stdout",
     "output_type": "stream",
     "text": [
      "epoch 379| loss: 0.2573  | train_mse: 0.08387 | train_mae: 0.18967 |  0:01:31s\n",
      "epoch 380| loss: 0.12916 | train_mse: 0.08377 | train_mae: 0.1896  |  0:01:31s\n"
     ]
    },
    {
     "name": "stdout",
     "output_type": "stream",
     "text": [
      "epoch 381| loss: 0.21687 | train_mse: 0.0724  | train_mae: 0.17886 |  0:01:32s\n",
      "\n",
      "Early stopping occurred at epoch 381 with best_epoch = 331 and best_train_mae = 0.14823\n",
      "Best weights from best epoch are automatically used!\n"
     ]
    }
   ],
   "source": [
    "#Train the Model\n",
    "\n",
    "Y_train = np.reshape(Y_train, (-1, 1))\n",
    "Y_test = np.reshape(Y_test, (-1, 1))\n",
    "\n",
    "prior_model = TabNetRegressor(optimizer_fn=torch.optim.Adam, optimizer_params=dict(lr = 0.001),\n",
    "          #scheduler_params={\"step_size\":10, ], \"gamma\":0.9},\n",
    "          #scheduler_fn=torch.optim.lr_scheduler.StepLR\n",
    "          )  #TabNetRegressor()\n",
    "\n",
    "prior_model.fit(X_train,Y_train,eval_set=[(X_train, Y_train)],\n",
    "            eval_name=['train'], \n",
    "            eval_metric=[ 'mse', 'mae'], \n",
    "            max_epochs = n_epochs, \n",
    "            batch_size = batch_size,\n",
    "            patience=50\n",
    "            )"
   ]
  },
  {
   "cell_type": "code",
   "execution_count": 10,
   "id": "af65dcda",
   "metadata": {
    "execution": {
     "iopub.execute_input": "2022-07-22T10:57:24.712803Z",
     "iopub.status.busy": "2022-07-22T10:57:24.712202Z",
     "iopub.status.idle": "2022-07-22T10:57:24.781539Z",
     "shell.execute_reply": "2022-07-22T10:57:24.780181Z"
    },
    "id": "af65dcda",
    "papermill": {
     "duration": 0.10645,
     "end_time": "2022-07-22T10:57:24.785733",
     "exception": false,
     "start_time": "2022-07-22T10:57:24.679283",
     "status": "completed"
    },
    "tags": []
   },
   "outputs": [
    {
     "data": {
      "application/scrapbook.scrap.json+json": {
       "data": 0.38182371576401136,
       "encoder": "json",
       "name": "Prior Model MSE",
       "version": 1
      }
     },
     "metadata": {
      "scrapbook": {
       "data": true,
       "display": false,
       "name": "Prior Model MSE"
      }
     },
     "output_type": "display_data"
    },
    {
     "data": {
      "application/scrapbook.scrap.json+json": {
       "data": 0.40766333340335337,
       "encoder": "json",
       "name": "ABC Pre-generator MSE",
       "version": 1
      }
     },
     "metadata": {
      "scrapbook": {
       "data": true,
       "display": false,
       "name": "ABC Pre-generator MSE"
      }
     },
     "output_type": "display_data"
    },
    {
     "data": {
      "application/scrapbook.scrap.json+json": {
       "data": 0.47610889284382524,
       "encoder": "json",
       "name": "Prior Model MAE",
       "version": 1
      }
     },
     "metadata": {
      "scrapbook": {
       "data": true,
       "display": false,
       "name": "Prior Model MAE"
      }
     },
     "output_type": "display_data"
    },
    {
     "name": "stdout",
     "output_type": "stream",
     "text": [
      "Prior Model MAE 0.47610889284382524\n"
     ]
    },
    {
     "data": {
      "application/scrapbook.scrap.json+json": {
       "data": 0.5110609584000213,
       "encoder": "json",
       "name": "ABC Pre-generator MAE",
       "version": 1
      }
     },
     "metadata": {
      "scrapbook": {
       "data": true,
       "display": false,
       "name": "ABC Pre-generator MAE"
      }
     },
     "output_type": "display_data"
    },
    {
     "name": "stdout",
     "output_type": "stream",
     "text": [
      "ABC Pre-generator MAE 0.5110609584000213\n"
     ]
    }
   ],
   "source": [
    "y_pred = prior_model.predict(X_test)\n",
    "y_abc = y_pred + np.random.normal(0,variance, y_pred.shape) + bias \n",
    "mse = mean_squared_error(y_pred,Y_test)\n",
    "sb.glue(\"Prior Model MSE\",mse)\n",
    "mse = mean_squared_error(y_abc,Y_test)\n",
    "sb.glue(\"ABC Pre-generator MSE\",mse)\n",
    "mae = mean_absolute_error(y_pred,Y_test)\n",
    "sb.glue(\"Prior Model MAE\",mae)\n",
    "print(\"Prior Model MAE\",mae)\n",
    "mae = mean_absolute_error(y_abc,Y_test)\n",
    "sb.glue(\"ABC Pre-generator MAE\",mae)\n",
    "print(\"ABC Pre-generator MAE\",mae)"
   ]
  },
  {
   "cell_type": "markdown",
   "id": "25609da2",
   "metadata": {
    "papermill": {
     "duration": 0.033529,
     "end_time": "2022-07-22T10:57:24.846076",
     "exception": false,
     "start_time": "2022-07-22T10:57:24.812547",
     "status": "completed"
    },
    "tags": []
   },
   "source": [
    "# mGAN Model"
   ]
  },
  {
   "cell_type": "code",
   "execution_count": 11,
   "id": "dfc3464d",
   "metadata": {
    "execution": {
     "iopub.execute_input": "2022-07-22T10:57:24.919109Z",
     "iopub.status.busy": "2022-07-22T10:57:24.918359Z",
     "iopub.status.idle": "2022-07-22T10:57:24.924759Z",
     "shell.execute_reply": "2022-07-22T10:57:24.922693Z"
    },
    "papermill": {
     "duration": 0.044858,
     "end_time": "2022-07-22T10:57:24.931225",
     "exception": false,
     "start_time": "2022-07-22T10:57:24.886367",
     "status": "completed"
    },
    "tags": []
   },
   "outputs": [],
   "source": [
    "# gen = network.Generator(n_features+1).to(device)\n",
    "# disc = network.Discriminator(n_features+1).to(device)\n",
    "\n",
    "# criterion = torch.nn.BCELoss()\n",
    "# gen_opt = torch.optim.Adam(gen.parameters(), lr=0.001, betas=(0.5, 0.999))\n",
    "# disc_opt = torch.optim.Adam(disc.parameters(), lr=0.001, betas=(0.5, 0.999))"
   ]
  },
  {
   "cell_type": "code",
   "execution_count": 12,
   "id": "b75fdd85",
   "metadata": {
    "execution": {
     "iopub.execute_input": "2022-07-22T10:57:25.038754Z",
     "iopub.status.busy": "2022-07-22T10:57:25.037604Z",
     "iopub.status.idle": "2022-07-22T10:57:25.053482Z",
     "shell.execute_reply": "2022-07-22T10:57:25.049328Z"
    },
    "papermill": {
     "duration": 0.110834,
     "end_time": "2022-07-22T10:57:25.079029",
     "exception": false,
     "start_time": "2022-07-22T10:57:24.968195",
     "status": "completed"
    },
    "tags": []
   },
   "outputs": [],
   "source": [
    "#Training the ABC_GAN \n",
    "# ABC_train_test2.training_GAN(disc,gen,disc_opt,gen_opt,train_data,batch_size,n_epochs,criterion,prior_model,variance,bias,device)"
   ]
  },
  {
   "cell_type": "code",
   "execution_count": 13,
   "id": "1fa7c368",
   "metadata": {
    "execution": {
     "iopub.execute_input": "2022-07-22T10:57:25.220336Z",
     "iopub.status.busy": "2022-07-22T10:57:25.219795Z",
     "iopub.status.idle": "2022-07-22T10:57:25.233964Z",
     "shell.execute_reply": "2022-07-22T10:57:25.228992Z"
    },
    "papermill": {
     "duration": 0.092398,
     "end_time": "2022-07-22T10:57:25.248664",
     "exception": false,
     "start_time": "2022-07-22T10:57:25.156266",
     "status": "completed"
    },
    "tags": []
   },
   "outputs": [],
   "source": [
    "# ABC_GAN1_metrics=ABC_train_test2.test_generator(gen,test_data,prior_model,variance,bias,\"1\",device)\n",
    "# sb.glue(\"ABC_GAN_1 Metrics\",ABC_GAN1_metrics)\n",
    "\n",
    "# print(\"MAE\")\n",
    "# print(mean(ABC_GAN1_metrics[1]))"
   ]
  },
  {
   "cell_type": "code",
   "execution_count": 14,
   "id": "eb22ce5c",
   "metadata": {
    "execution": {
     "iopub.execute_input": "2022-07-22T10:57:25.332555Z",
     "iopub.status.busy": "2022-07-22T10:57:25.332194Z",
     "iopub.status.idle": "2022-07-22T10:57:25.336708Z",
     "shell.execute_reply": "2022-07-22T10:57:25.335766Z"
    },
    "papermill": {
     "duration": 0.052617,
     "end_time": "2022-07-22T10:57:25.340226",
     "exception": false,
     "start_time": "2022-07-22T10:57:25.287609",
     "status": "completed"
    },
    "tags": []
   },
   "outputs": [],
   "source": [
    "# sanityChecks.discProbVsError(train_data,disc,device)\n",
    "# sanityChecks.discProbVsError(test_data,disc,device)"
   ]
  },
  {
   "cell_type": "markdown",
   "id": "65b01079",
   "metadata": {
    "papermill": {
     "duration": 0.041798,
     "end_time": "2022-07-22T10:57:25.407555",
     "exception": false,
     "start_time": "2022-07-22T10:57:25.365757",
     "status": "completed"
    },
    "tags": []
   },
   "source": [
    "# mGAN Model with TabNet Generator"
   ]
  },
  {
   "cell_type": "code",
   "execution_count": 15,
   "id": "1e22c47c",
   "metadata": {
    "execution": {
     "iopub.execute_input": "2022-07-22T10:57:25.475872Z",
     "iopub.status.busy": "2022-07-22T10:57:25.475430Z",
     "iopub.status.idle": "2022-07-22T10:57:25.517968Z",
     "shell.execute_reply": "2022-07-22T10:57:25.511558Z"
    },
    "papermill": {
     "duration": 0.083765,
     "end_time": "2022-07-22T10:57:25.528846",
     "exception": false,
     "start_time": "2022-07-22T10:57:25.445081",
     "status": "completed"
    },
    "tags": []
   },
   "outputs": [],
   "source": [
    "gen2 = network.GeneratorTabnet(n_features+1).to(device)\n",
    "disc2 = network.Discriminator(n_features+1).to(device)\n",
    "\n",
    "criterion = torch.nn.BCELoss()\n",
    "gen_opt = torch.optim.Adam(gen2.parameters(), lr=0.001, betas=(0.5, 0.999))\n",
    "disc_opt = torch.optim.Adam(disc2.parameters(), lr=0.001, betas=(0.5, 0.999))"
   ]
  },
  {
   "cell_type": "code",
   "execution_count": 16,
   "id": "f42890a5",
   "metadata": {
    "execution": {
     "iopub.execute_input": "2022-07-22T10:57:25.618841Z",
     "iopub.status.busy": "2022-07-22T10:57:25.617614Z",
     "iopub.status.idle": "2022-07-22T11:02:36.772313Z",
     "shell.execute_reply": "2022-07-22T11:02:36.765774Z"
    },
    "papermill": {
     "duration": 311.206694,
     "end_time": "2022-07-22T11:02:36.776843",
     "exception": false,
     "start_time": "2022-07-22T10:57:25.570149",
     "status": "completed"
    },
    "tags": []
   },
   "outputs": [
    {
     "data": {
      "image/png": "[encoded data removed]",
      "text/plain": [
       "<Figure size 432x288 with 1 Axes>"
      ]
     },
     "metadata": {
      "needs_background": "light"
     },
     "output_type": "display_data"
    },
    {
     "data": {
      "image/png": "[encoded data removed]",
      "text/plain": [
       "<Figure size 432x288 with 1 Axes>"
      ]
     },
     "metadata": {
      "needs_background": "light"
     },
     "output_type": "display_data"
    }
   ],
   "source": [
    "#Training the ABC_GAN \n",
    "ABC_train_test2.training_GAN(disc2,gen2,disc_opt,gen_opt,train_data,batch_size,n_epochs,criterion,prior_model,variance,bias,device)"
   ]
  },
  {
   "cell_type": "code",
   "execution_count": 17,
   "id": "ff95fd72",
   "metadata": {
    "execution": {
     "iopub.execute_input": "2022-07-22T11:02:36.836933Z",
     "iopub.status.busy": "2022-07-22T11:02:36.836191Z",
     "iopub.status.idle": "2022-07-22T11:02:39.466658Z",
     "shell.execute_reply": "2022-07-22T11:02:39.464900Z"
    },
    "papermill": {
     "duration": 2.671338,
     "end_time": "2022-07-22T11:02:39.474724",
     "exception": false,
     "start_time": "2022-07-22T11:02:36.803386",
     "status": "completed"
    },
    "tags": []
   },
   "outputs": [
    {
     "data": {
      "application/scrapbook.scrap.json+json": {
       "data": 0.3699282394654032,
       "encoder": "json",
       "name": "ABC-GAN Model 1 MSE",
       "version": 1
      }
     },
     "metadata": {
      "scrapbook": {
       "data": true,
       "display": false,
       "name": "ABC-GAN Model 1 MSE"
      }
     },
     "output_type": "display_data"
    },
    {
     "data": {
      "application/scrapbook.scrap.json+json": {
       "data": 0.4312588498070836,
       "encoder": "json",
       "name": "ABC-GAN Model 1 MAE",
       "version": 1
      }
     },
     "metadata": {
      "scrapbook": {
       "data": true,
       "display": false,
       "name": "ABC-GAN Model 1 MAE"
      }
     },
     "output_type": "display_data"
    },
    {
     "data": {
      "application/scrapbook.scrap.json+json": {
       "data": 8.625176996141672,
       "encoder": "json",
       "name": "ABC-GAN Model 1 Manhattan Distance",
       "version": 1
      }
     },
     "metadata": {
      "scrapbook": {
       "data": true,
       "display": false,
       "name": "ABC-GAN Model 1 Manhattan Distance"
      }
     },
     "output_type": "display_data"
    },
    {
     "data": {
      "application/scrapbook.scrap.json+json": {
       "data": 2.7188908464309702,
       "encoder": "json",
       "name": "ABC-GAN Model 1 Euclidean distance",
       "version": 1
      }
     },
     "metadata": {
      "scrapbook": {
       "data": true,
       "display": false,
       "name": "ABC-GAN Model 1 Euclidean distance"
      }
     },
     "output_type": "display_data"
    },
    {
     "data": {
      "application/scrapbook.scrap.json+json": {
       "data": [
        [
         0.39180451310418485,
         0.38444009692084113,
         0.373248763457668,
         0.39593014056726034,
         0.3497465978722798,
         0.3883908633320684,
         0.3279466798482748,
         0.3700111134066103,
         0.36988190039316454,
         0.3816678233184375,
         0.3828431538167431,
         0.3765241547050949,
         0.3758980769819721,
         0.3546232676590763,
         0.36519192072070983,
         0.3876476986312636,
         0.33923251355122364,
         0.38609642146883355,
         0.36932981958617295,
         0.4069262665325878,
         0.3823568953479188,
         0.407176891925946,
         0.3549489085164313,
         0.4026198707467863,
         0.4131096586352895,
         0.35071658449940196,
         0.3685675840407046,
         0.35487941441153337,
         0.37000923033495564,
         0.40328023175818417,
         0.3554647651463077,
         0.3645773637620674,
         0.3419330497503264,
         0.38634480027840395,
         0.37909011250266467,
         0.37317620845756116,
         0.3818824222186695,
         0.4097793742482443,
         0.36907787776954376,
         0.3876452104321006,
         0.35008552977182006,
         0.38684704022603256,
         0.3529808828902542,
         0.3461236062772159,
         0.3669978019028301,
         0.33650392576074317,
         0.3618321379153704,
         0.3587325800273454,
         0.3772223936560871,
         0.3656553930059717,
         0.3676451921619214,
         0.35633135284706363,
         0.33429873090610024,
         0.39624853228397305,
         0.38521013157255884,
         0.3875172117669256,
         0.35944288224963716,
         0.33089958145888243,
         0.36288812533723447,
         0.35287210549284537,
         0.3394900226738442,
         0.37600869304967655,
         0.3476414998423013,
         0.3569914926204617,
         0.41055845723322265,
         0.3451306976952688,
         0.4150914690706024,
         0.3808927235859643,
         0.3758536563977437,
         0.3849209120461698,
         0.38601459523226483,
         0.3999355825554479,
         0.35047917230228737,
         0.3426107207140739,
         0.3287696409632899,
         0.345452378216837,
         0.38568388258776604,
         0.3807301873842952,
         0.3526640998174926,
         0.38501321303358804,
         0.34253962813786204,
         0.36141232238476007,
         0.4140265345316377,
         0.3664484279448447,
         0.34072637274252404,
         0.36206064817581585,
         0.3653244872533488,
         0.3825218294180723,
         0.3887228721024415,
         0.3576440839587612,
         0.34418388629027363,
         0.3995786162664245,
         0.3632625836243329,
         0.3722686686295034,
         0.3358854791561722,
         0.3592011593429076,
         0.3493915803472937,
         0.4058877260970739,
         0.3709983705306127,
         0.35045219441473585
        ],
        [
         0.43516271822154523,
         0.441267316788435,
         0.42317219376564025,
         0.4348800785839558,
         0.4275768205523491,
         0.436759165674448,
         0.42214482724666597,
         0.43483284376561643,
         0.4306370183825493,
         0.44059666991233826,
         0.41066963598132133,
         0.43267414160072803,
         0.4362875081598759,
         0.40995611660182474,
         0.4195592351257801,
         0.43855558671057226,
         0.40822329223155973,
         0.4352348789572716,
         0.445143698900938,
         0.4354633692651987,
         0.42968473918735983,
         0.4452261447906494,
         0.4346078734844923,
         0.4284018240869045,
         0.45745617151260376,
         0.42680433504283427,
         0.4389651857316494,
         0.4250116549432278,
         0.43170562386512756,
         0.43674675077199937,
         0.434384735673666,
         0.41969129219651224,
         0.41291673071682455,
         0.42523387968540194,
         0.4357503138482571,
         0.44263714253902436,
         0.4350168704986572,
         0.4486107215285301,
         0.4377678129822016,
         0.4326525446027517,
         0.42338461652398107,
         0.4551854856312275,
         0.4253356296569109,
         0.41149590313434603,
         0.42901559472084044,
         0.4148262578994036,
         0.4262188382446766,
         0.43699649572372434,
         0.4330005332827568,
         0.42174589037895205,
         0.4411913130432367,
         0.420103957131505,
         0.4213298439979553,
         0.437989117577672,
         0.43246578723192214,
         0.4355939425528049,
         0.42868136018514635,
         0.4090308278799057,
         0.4274739656597376,
         0.44275821149349215,
         0.4209814578294754,
         0.44330576062202454,
         0.4217786952853203,
         0.421415725722909,
         0.45222616717219355,
         0.4323422499001026,
         0.45297500640153887,
         0.4521109264343977,
         0.43720829151570795,
         0.4422029085457325,
         0.43309880681335927,
         0.4369065411388874,
         0.415189515799284,
         0.4154170848429203,
         0.41380364894866944,
         0.4253822822123766,
         0.4425516210496426,
         0.44415469840168953,
         0.43700653947889806,
         0.4467669703066349,
         0.4160622417926788,
         0.4333994291722775,
         0.45474585667252543,
         0.42358892410993576,
         0.41912406869232655,
         0.4307855531573296,
         0.42737862206995486,
         0.44926102049648764,
         0.45193763412535193,
         0.4420159190893173,
         0.4110564742237329,
         0.45578932836651803,
         0.42158803455531596,
         0.42459315359592437,
         0.406360836699605,
         0.4207214329391718,
         0.4071154877543449,
         0.4458590280264616,
         0.42480796165764334,
         0.42097603902220726
        ],
        [
         8.703254364430904,
         8.8253463357687,
         8.463443875312805,
         8.697601571679115,
         8.551536411046982,
         8.73518331348896,
         8.442896544933319,
         8.696656875312328,
         8.612740367650986,
         8.811933398246765,
         8.213392719626427,
         8.65348283201456,
         8.725750163197517,
         8.199122332036495,
         8.391184702515602,
         8.771111734211445,
         8.164465844631195,
         8.704697579145432,
         8.90287397801876,
         8.709267385303974,
         8.593694783747196,
         8.904522895812988,
         8.692157469689846,
         8.56803648173809,
         9.149123430252075,
         8.536086700856686,
         8.779303714632988,
         8.500233098864555,
         8.634112477302551,
         8.734935015439987,
         8.68769471347332,
         8.393825843930244,
         8.25833461433649,
         8.504677593708038,
         8.715006276965141,
         8.852742850780487,
         8.700337409973145,
         8.972214430570602,
         8.755356259644032,
         8.653050892055035,
         8.467692330479622,
         9.10370971262455,
         8.506712593138218,
         8.22991806268692,
         8.580311894416809,
         8.296525157988071,
         8.524376764893532,
         8.739929914474487,
         8.660010665655136,
         8.43491780757904,
         8.823826260864735,
         8.4020791426301,
         8.426596879959106,
         8.75978235155344,
         8.649315744638443,
         8.711878851056099,
         8.573627203702927,
         8.180616557598114,
         8.549479313194752,
         8.855164229869843,
         8.419629156589508,
         8.86611521244049,
         8.435573905706406,
         8.42831451445818,
         9.04452334344387,
         8.646844998002052,
         9.059500128030777,
         9.042218528687954,
         8.74416583031416,
         8.84405817091465,
         8.661976136267185,
         8.738130822777748,
         8.30379031598568,
         8.308341696858406,
         8.276072978973389,
         8.507645644247532,
         8.851032420992851,
         8.88309396803379,
         8.740130789577961,
         8.935339406132698,
         8.321244835853577,
         8.667988583445549,
         9.094917133450508,
         8.471778482198715,
         8.382481373846531,
         8.615711063146591,
         8.547572441399097,
         8.985220409929752,
         9.038752682507038,
         8.840318381786346,
         8.221129484474659,
         9.11578656733036,
         8.43176069110632,
         8.491863071918488,
         8.1272167339921,
         8.414428658783436,
         8.142309755086899,
         8.917180560529232,
         8.496159233152866,
         8.419520780444145
        ],
        [
         2.7993017454507645,
         2.772868900329913,
         2.7322106926723935,
         2.814001210260082,
         2.644793367627346,
         2.7870804198374626,
         2.5610415062949476,
         2.7203349551355265,
         2.719859924309208,
         2.7628529577899634,
         2.767103734292385,
         2.744172570029425,
         2.7418901399653928,
         2.663168292313035,
         2.7025614543270238,
         2.7844126800144537,
         2.6047361231081494,
         2.7788358046809227,
         2.7178293529439,
         2.852810076162056,
         2.765345892823966,
         2.853688462064302,
         2.6643907690743536,
         2.8376746492393603,
         2.8744030985068516,
         2.6484583610070294,
         2.715023329699782,
         2.6641299308086808,
         2.720328032921602,
         2.840000816049827,
         2.666326180895007,
         2.7002865172498542,
         2.6150833629172374,
         2.7797294842426807,
         2.753507263482937,
         2.7319451255746743,
         2.7636295779958266,
         2.86279365043394,
         2.7169021983484933,
         2.784403743827754,
         2.6460745634687624,
         2.78153569175746,
         2.6569941019515046,
         2.6310591261969614,
         2.709235323491963,
         2.5942394868660186,
         2.6901008825520667,
         2.678554012997854,
         2.746715834068341,
         2.7042758476382236,
         2.7116238388165916,
         2.6695743212994225,
         2.5857251629131053,
         2.815132438390681,
         2.775644543426117,
         2.7839440072204242,
         2.681204513831935,
         2.5725457487045102,
         2.6940234792489632,
         2.656584670184052,
         2.605724554414162,
         2.7422935402676223,
         2.636821950160084,
         2.6720460049200563,
         2.8655137662667847,
         2.627282617821192,
         2.8812895344640475,
         2.7600460995641516,
         2.7417281280161374,
         2.774602357261919,
         2.7785413267837673,
         2.828199365516681,
         2.6475617926775095,
         2.617673473579445,
         2.5642528774022657,
         2.6285067175749695,
         2.777350833394175,
         2.759457147282035,
         2.655801573226029,
         2.7749350011616056,
         2.6174018726128474,
         2.6885398356162034,
         2.8775911263820566,
         2.7072067817026637,
         2.6104649882445234,
         2.690950197145298,
         2.7030519316259864,
         2.7659422604894424,
         2.788271407529911,
         2.6744871805965387,
         2.623676375966646,
         2.8269369156966504,
         2.6954130801208667,
         2.7286211486005287,
         2.591854467967568,
         2.6803028162612805,
         2.6434507006838377,
         2.849167338353695,
         2.723961712398369,
         2.647459893614012
        ]
       ],
       "encoder": "json",
       "name": "ABC_GAN_2 Metrics",
       "version": 1
      }
     },
     "metadata": {
      "scrapbook": {
       "data": true,
       "display": false,
       "name": "ABC_GAN_2 Metrics"
      }
     },
     "output_type": "display_data"
    },
    {
     "name": "stdout",
     "output_type": "stream",
     "text": [
      "MAE\n",
      "0.4312588498070836\n"
     ]
    }
   ],
   "source": [
    "ABC_GAN2_metrics=ABC_train_test2.test_generator(gen2,test_data,prior_model,variance,bias,\"1\",device)\n",
    "sb.glue(\"ABC_GAN_2 Metrics\",ABC_GAN2_metrics)\n",
    "\n",
    "print(\"MAE\")\n",
    "print(mean(ABC_GAN2_metrics[1]))"
   ]
  },
  {
   "cell_type": "code",
   "execution_count": 18,
   "id": "f583add1",
   "metadata": {
    "execution": {
     "iopub.execute_input": "2022-07-22T11:02:39.580077Z",
     "iopub.status.busy": "2022-07-22T11:02:39.579383Z",
     "iopub.status.idle": "2022-07-22T11:02:42.702226Z",
     "shell.execute_reply": "2022-07-22T11:02:42.697765Z"
    },
    "papermill": {
     "duration": 3.179563,
     "end_time": "2022-07-22T11:02:42.706398",
     "exception": false,
     "start_time": "2022-07-22T11:02:39.526835",
     "status": "completed"
    },
    "tags": []
   },
   "outputs": [
    {
     "data": {
      "image/png": "[encoded data removed]",
      "text/plain": [
       "<Figure size 432x288 with 1 Axes>"
      ]
     },
     "metadata": {
      "needs_background": "light"
     },
     "output_type": "display_data"
    },
    {
     "data": {
      "image/png": "[encoded data removed]",
      "text/plain": [
       "<Figure size 432x288 with 1 Axes>"
      ]
     },
     "metadata": {
      "needs_background": "light"
     },
     "output_type": "display_data"
    },
    {
     "data": {
      "image/png": "[encoded data removed]",
      "text/plain": [
       "<Figure size 432x288 with 1 Axes>"
      ]
     },
     "metadata": {
      "needs_background": "light"
     },
     "output_type": "display_data"
    },
    {
     "data": {
      "image/png": "[encoded data removed]",
      "text/plain": [
       "<Figure size 432x288 with 1 Axes>"
      ]
     },
     "metadata": {
      "needs_background": "light"
     },
     "output_type": "display_data"
    }
   ],
   "source": [
    "sanityChecks.discProbVsError(train_data,disc2,device)\n",
    "sanityChecks.discProbVsError(test_data,disc2,device)"
   ]
  },
  {
   "cell_type": "markdown",
   "id": "130f3a4d",
   "metadata": {
    "id": "130f3a4d",
    "papermill": {
     "duration": 0.085224,
     "end_time": "2022-07-22T11:02:42.836145",
     "exception": false,
     "start_time": "2022-07-22T11:02:42.750921",
     "status": "completed"
    },
    "tags": []
   },
   "source": [
    "# skipGAN Model"
   ]
  },
  {
   "cell_type": "code",
   "execution_count": 19,
   "id": "4e43dad1",
   "metadata": {
    "execution": {
     "iopub.execute_input": "2022-07-22T11:02:42.952232Z",
     "iopub.status.busy": "2022-07-22T11:02:42.951542Z",
     "iopub.status.idle": "2022-07-22T11:02:42.958645Z",
     "shell.execute_reply": "2022-07-22T11:02:42.957422Z"
    },
    "id": "4e43dad1",
    "papermill": {
     "duration": 0.095813,
     "end_time": "2022-07-22T11:02:42.981350",
     "exception": false,
     "start_time": "2022-07-22T11:02:42.885537",
     "status": "completed"
    },
    "tags": []
   },
   "outputs": [],
   "source": [
    "# #Generator\n",
    "# gen3 = network.GeneratorWithSkipConnection(n_features+1).to(device)\n",
    "# constraints=network.weightConstraint()\n",
    "# #Discriminator \n",
    "# disc3 = network.Discriminator(n_features+1).to(device)\n",
    "\n",
    "# criterion = torch.nn.BCELoss()\n",
    "# gen_opt = torch.optim.Adam(gen3.parameters(), lr=0.01, betas=(0.5, 0.999))\n",
    "# disc_opt = torch.optim.Adam(disc3.parameters(), lr=0.01, betas=(0.5, 0.999))\n"
   ]
  },
  {
   "cell_type": "code",
   "execution_count": 20,
   "id": "26acbc37",
   "metadata": {
    "execution": {
     "iopub.execute_input": "2022-07-22T11:02:43.195949Z",
     "iopub.status.busy": "2022-07-22T11:02:43.194791Z",
     "iopub.status.idle": "2022-07-22T11:02:43.214948Z",
     "shell.execute_reply": "2022-07-22T11:02:43.200510Z"
    },
    "id": "26acbc37",
    "papermill": {
     "duration": 0.200879,
     "end_time": "2022-07-22T11:02:43.312114",
     "exception": false,
     "start_time": "2022-07-22T11:02:43.111235",
     "status": "completed"
    },
    "tags": []
   },
   "outputs": [],
   "source": [
    "# ABC_train_test2.training_GAN_skip_connection(disc3,gen3,disc_opt,gen_opt,train_data,batch_size,n_epochs,criterion,prior_model,variance,bias,device)"
   ]
  },
  {
   "cell_type": "code",
   "execution_count": 21,
   "id": "c5e0717b",
   "metadata": {
    "execution": {
     "iopub.execute_input": "2022-07-22T11:02:43.551864Z",
     "iopub.status.busy": "2022-07-22T11:02:43.551441Z",
     "iopub.status.idle": "2022-07-22T11:02:43.560328Z",
     "shell.execute_reply": "2022-07-22T11:02:43.556419Z"
    },
    "id": "c5e0717b",
    "papermill": {
     "duration": 0.216713,
     "end_time": "2022-07-22T11:02:43.590254",
     "exception": false,
     "start_time": "2022-07-22T11:02:43.373541",
     "status": "completed"
    },
    "tags": []
   },
   "outputs": [],
   "source": [
    "# ABC_GAN3_metrics=ABC_train_test2.test_generator(gen3,test_data,prior_model,variance,bias,\"3\",device)\n",
    "# sb.glue(\"ABC_GAN_3 Metrics\",ABC_GAN3_metrics)\n",
    "\n",
    "# print(\"MAE\")\n",
    "# print(mean(ABC_GAN3_metrics[1]))"
   ]
  },
  {
   "cell_type": "code",
   "execution_count": 22,
   "id": "c8e46b48",
   "metadata": {
    "execution": {
     "iopub.execute_input": "2022-07-22T11:02:43.815249Z",
     "iopub.status.busy": "2022-07-22T11:02:43.814092Z",
     "iopub.status.idle": "2022-07-22T11:02:43.820816Z",
     "shell.execute_reply": "2022-07-22T11:02:43.819294Z"
    },
    "id": "c8e46b48",
    "papermill": {
     "duration": 0.14322,
     "end_time": "2022-07-22T11:02:43.855870",
     "exception": false,
     "start_time": "2022-07-22T11:02:43.712650",
     "status": "completed"
    },
    "tags": []
   },
   "outputs": [],
   "source": [
    "# sanityChecks.discProbVsError(train_data,disc3,device)\n",
    "# sanityChecks.discProbVsError(test_data,disc3,device)"
   ]
  },
  {
   "cell_type": "markdown",
   "id": "e48d1b20",
   "metadata": {
    "id": "130f3a4d",
    "papermill": {
     "duration": 0.174913,
     "end_time": "2022-07-22T11:02:44.129417",
     "exception": false,
     "start_time": "2022-07-22T11:02:43.954504",
     "status": "completed"
    },
    "tags": []
   },
   "source": [
    "# skipGAN Model with TabNet Generator"
   ]
  },
  {
   "cell_type": "code",
   "execution_count": 23,
   "id": "4ea1f092",
   "metadata": {
    "execution": {
     "iopub.execute_input": "2022-07-22T11:02:44.371893Z",
     "iopub.status.busy": "2022-07-22T11:02:44.371525Z",
     "iopub.status.idle": "2022-07-22T11:02:44.409500Z",
     "shell.execute_reply": "2022-07-22T11:02:44.407746Z"
    },
    "id": "4e43dad1",
    "papermill": {
     "duration": 0.1545,
     "end_time": "2022-07-22T11:02:44.426454",
     "exception": false,
     "start_time": "2022-07-22T11:02:44.271954",
     "status": "completed"
    },
    "tags": []
   },
   "outputs": [],
   "source": [
    "#Generator\n",
    "gen4 = network.GeneratorTabnetskipConnection(n_features+1).to(device)\n",
    "constraints=network.weightConstraint()\n",
    "#Discriminator \n",
    "disc4 = network.Discriminator(n_features+1).to(device)\n",
    "\n",
    "criterion = torch.nn.BCELoss()\n",
    "gen_opt = torch.optim.Adam(gen4.parameters(), lr=0.001, betas=(0.5, 0.999))\n",
    "disc_opt = torch.optim.Adam(disc4.parameters(), lr=0.001, betas=(0.5, 0.999))\n"
   ]
  },
  {
   "cell_type": "code",
   "execution_count": 24,
   "id": "2d682137",
   "metadata": {
    "execution": {
     "iopub.execute_input": "2022-07-22T11:02:44.704066Z",
     "iopub.status.busy": "2022-07-22T11:02:44.703095Z",
     "iopub.status.idle": "2022-07-22T11:08:10.953214Z",
     "shell.execute_reply": "2022-07-22T11:08:10.950797Z"
    },
    "id": "26acbc37",
    "papermill": {
     "duration": 326.405415,
     "end_time": "2022-07-22T11:08:10.957626",
     "exception": false,
     "start_time": "2022-07-22T11:02:44.552211",
     "status": "completed"
    },
    "tags": []
   },
   "outputs": [
    {
     "data": {
      "image/png": "[encoded data removed]",
      "text/plain": [
       "<Figure size 432x288 with 1 Axes>"
      ]
     },
     "metadata": {
      "needs_background": "light"
     },
     "output_type": "display_data"
    },
    {
     "data": {
      "image/png": "[encoded data removed]",
      "text/plain": [
       "<Figure size 432x288 with 1 Axes>"
      ]
     },
     "metadata": {
      "needs_background": "light"
     },
     "output_type": "display_data"
    }
   ],
   "source": [
    "ABC_train_test2.training_GAN_skip_connection(disc4,gen4,disc_opt,gen_opt,train_data,batch_size,n_epochs,criterion,prior_model,variance,bias,device)"
   ]
  },
  {
   "cell_type": "code",
   "execution_count": 25,
   "id": "02edee28",
   "metadata": {
    "execution": {
     "iopub.execute_input": "2022-07-22T11:08:11.093886Z",
     "iopub.status.busy": "2022-07-22T11:08:11.091179Z",
     "iopub.status.idle": "2022-07-22T11:08:14.458020Z",
     "shell.execute_reply": "2022-07-22T11:08:14.455037Z"
    },
    "id": "c5e0717b",
    "papermill": {
     "duration": 3.468306,
     "end_time": "2022-07-22T11:08:14.463962",
     "exception": false,
     "start_time": "2022-07-22T11:08:10.995656",
     "status": "completed"
    },
    "tags": []
   },
   "outputs": [
    {
     "data": {
      "application/scrapbook.scrap.json+json": {
       "data": 0.39099901472434,
       "encoder": "json",
       "name": "ABC-GAN Model 3 MSE",
       "version": 1
      }
     },
     "metadata": {
      "scrapbook": {
       "data": true,
       "display": false,
       "name": "ABC-GAN Model 3 MSE"
      }
     },
     "output_type": "display_data"
    },
    {
     "data": {
      "application/scrapbook.scrap.json+json": {
       "data": 0.48304057443587045,
       "encoder": "json",
       "name": "ABC-GAN Model 3 MAE",
       "version": 1
      }
     },
     "metadata": {
      "scrapbook": {
       "data": true,
       "display": false,
       "name": "ABC-GAN Model 3 MAE"
      }
     },
     "output_type": "display_data"
    },
    {
     "data": {
      "application/scrapbook.scrap.json+json": {
       "data": 9.660811488717409,
       "encoder": "json",
       "name": "ABC-GAN Model 3 Manhattan Distance",
       "version": 1
      }
     },
     "metadata": {
      "scrapbook": {
       "data": true,
       "display": false,
       "name": "ABC-GAN Model 3 Manhattan Distance"
      }
     },
     "output_type": "display_data"
    },
    {
     "data": {
      "application/scrapbook.scrap.json+json": {
       "data": 2.7946653763666744,
       "encoder": "json",
       "name": "ABC-GAN Model 3 Euclidean distance",
       "version": 1
      }
     },
     "metadata": {
      "scrapbook": {
       "data": true,
       "display": false,
       "name": "ABC-GAN Model 3 Euclidean distance"
      }
     },
     "output_type": "display_data"
    },
    {
     "data": {
      "application/scrapbook.scrap.json+json": {
       "data": [
        [
         0.3562595717793887,
         0.381127202444583,
         0.39770802176935927,
         0.3805168663540811,
         0.5021167800126582,
         0.3511970031646619,
         0.36008327030241455,
         0.35104432600668867,
         0.3730749079204757,
         0.3447511377107021,
         0.389670295477235,
         0.36346166996012885,
         0.42121021280299675,
         0.3931426608826798,
         0.41102240366046816,
         0.40083710733085587,
         0.38062393239288916,
         0.3597343479306769,
         0.39855205490849743,
         0.39318967860410037,
         0.4072996561488592,
         0.3844984594302441,
         0.36479379956538666,
         0.33899211819554087,
         0.3988004685447565,
         0.3783654136373861,
         0.42085214253741876,
         0.4126036327344546,
         0.39697584575862754,
         0.37048301740351797,
         0.38698386307046934,
         0.3811296080987304,
         0.41728773397492835,
         0.3630016390232411,
         0.41037392399315725,
         0.4050343834407616,
         0.3495720084839279,
         0.39629804149723197,
         0.38221240385137323,
         0.34769921334002646,
         0.4156203045611623,
         0.4521374314573758,
         0.4203368075138318,
         0.38866066707774516,
         0.44664673990290815,
         0.3597532280889085,
         0.40571661899883704,
         0.3822006885452415,
         0.4065704432235397,
         0.4024933115614179,
         0.3707470127224956,
         0.3438036729542943,
         0.396236931414836,
         0.3729000187108818,
         0.3710348784797422,
         0.3876888411989419,
         0.40939324354841833,
         0.3588467743400578,
         0.3534852841556592,
         0.3742857038797214,
         0.41955579060835346,
         0.4174068845700235,
         0.37219195828084184,
         0.39877819566762013,
         0.36397917822976245,
         0.3735135507001828,
         0.42803354706652785,
         0.3950627159146223,
         0.357291284781152,
         0.4036580092740456,
         0.36781076012368474,
         0.35508716329779455,
         0.39152283698944296,
         0.38380168679188953,
         0.4090869634536018,
         0.4116908668978029,
         0.4254461330168088,
         0.41204740678566526,
         0.39200792891987835,
         0.3672762055171018,
         0.3951986011881932,
         0.42381318986433847,
         0.4182823334157515,
         0.4120997046604523,
         0.3941714208635214,
         0.39747746258039035,
         0.3700583600566645,
         0.36172280046387895,
         0.4553446121149444,
         0.40598729667694056,
         0.3638005786236812,
         0.4376366980154138,
         0.3666267951329945,
         0.4007020076279767,
         0.36759122854552573,
         0.40899169342307784,
         0.4258888134289599,
         0.43819049792398984,
         0.3772802629731496,
         0.39264862148575647
        ],
        [
         0.46083007752895355,
         0.46589604216987934,
         0.47499024160206316,
         0.48259641327895225,
         0.5408197661861778,
         0.45504192523658277,
         0.4651789154857397,
         0.44036678671836854,
         0.4457463758066297,
         0.4633472701534629,
         0.49079705998301504,
         0.4792456253431737,
         0.4960362398996949,
         0.4835285909473896,
         0.5033653521386441,
         0.4815815235720947,
         0.4822856149636209,
         0.48399915794143455,
         0.4928100685589015,
         0.48884007669985297,
         0.49150885213166473,
         0.49306407030671834,
         0.46530112288892267,
         0.44880873467773197,
         0.49172341711819173,
         0.47845219215378165,
         0.5052982900291682,
         0.4814660558477044,
         0.46772892493754625,
         0.4645426099887118,
         0.48386293364455923,
         0.4732684241607785,
         0.5016381144523621,
         0.47852398194372653,
         0.5092410669662059,
         0.49784169225022196,
         0.4616160455159843,
         0.5051759095164016,
         0.453012269618921,
         0.4412838372401893,
         0.48960946649312975,
         0.5368189610540867,
         0.49948217188939453,
         0.47951120790094137,
         0.523661683127284,
         0.45400768555700777,
         0.49677302967756987,
         0.4709780670236796,
         0.48631276562809944,
         0.4976861622184515,
         0.48383224811404946,
         0.45248511638492345,
         0.47772479616105556,
         0.474074634630233,
         0.4492539122700691,
         0.4740273457020521,
         0.5022130655124784,
         0.46834496352821586,
         0.4546338625252247,
         0.4716872427612543,
         0.5045769533142448,
         0.5044456815696321,
         0.4663228430785239,
         0.48334683310240506,
         0.5000103962142021,
         0.4839212956605479,
         0.49871200136840343,
         0.48432281402638183,
         0.4845254705287516,
         0.497057528141886,
         0.44748810650780796,
         0.47472048085182905,
         0.4827974890358746,
         0.493695430457592,
         0.49089353093877436,
         0.5036874734330923,
         0.5105485783424228,
         0.49074332639575,
         0.4862410452216864,
         0.47386173920240254,
         0.48890463896095754,
         0.4846954016014934,
         0.5105186596469139,
         0.49600807270035147,
         0.46423881500959396,
         0.4895137345418334,
         0.47617002883926035,
         0.4625722494442016,
         0.509720403701067,
         0.4663569978438318,
         0.4654597972054034,
         0.517644178494811,
         0.4424565672874451,
         0.4988203993067145,
         0.45571030480787156,
         0.5178468751255423,
         0.5073564343620092,
         0.53801652751863,
         0.45468065720051526,
         0.4816676248330623
        ],
        [
         9.216601550579071,
         9.317920843397587,
         9.499804832041264,
         9.651928265579045,
         10.816395323723555,
         9.100838504731655,
         9.303578309714794,
         8.80733573436737,
         8.914927516132593,
         9.266945403069258,
         9.815941199660301,
         9.584912506863475,
         9.920724797993898,
         9.670571818947792,
         10.067307042772882,
         9.631630471441895,
         9.645712299272418,
         9.67998315882869,
         9.856201371178031,
         9.776801533997059,
         9.830177042633295,
         9.861281406134367,
         9.306022457778454,
         8.97617469355464,
         9.834468342363834,
         9.569043843075633,
         10.105965800583363,
         9.629321116954088,
         9.354578498750925,
         9.290852199774235,
         9.677258672891185,
         9.46536848321557,
         10.032762289047241,
         9.57047963887453,
         10.184821339324117,
         9.95683384500444,
         9.232320910319686,
         10.103518190328032,
         9.06024539237842,
         8.825676744803786,
         9.792189329862595,
         10.736379221081734,
         9.98964343778789,
         9.590224158018827,
         10.473233662545681,
         9.080153711140156,
         9.935460593551397,
         9.419561340473592,
         9.726255312561989,
         9.95372324436903,
         9.676644962280989,
         9.04970232769847,
         9.554495923221111,
         9.481492692604661,
         8.985078245401382,
         9.480546914041042,
         10.044261310249567,
         9.366899270564318,
         9.092677250504494,
         9.433744855225086,
         10.091539066284895,
         10.088913631392643,
         9.326456861570477,
         9.666936662048101,
         10.000207924284041,
         9.678425913210958,
         9.974240027368069,
         9.686456280527636,
         9.690509410575032,
         9.94115056283772,
         8.94976213015616,
         9.494409617036581,
         9.655949780717492,
         9.87390860915184,
         9.817870618775487,
         10.073749468661845,
         10.210971566848457,
         9.814866527915001,
         9.724820904433727,
         9.47723478404805,
         9.77809277921915,
         9.693908032029867,
         10.210373192938277,
         9.92016145400703,
         9.28477630019188,
         9.790274690836668,
         9.523400576785207,
         9.251444988884032,
         10.19440807402134,
         9.327139956876636,
         9.309195944108069,
         10.352883569896221,
         8.849131345748901,
         9.97640798613429,
         9.114206096157432,
         10.356937502510846,
         10.147128687240183,
         10.7603305503726,
         9.093613144010305,
         9.633352496661246
        ],
        [
         2.669305421938032,
         2.7608955157505797,
         2.8203121166614142,
         2.758683984634996,
         3.168964436571222,
         2.650271696127255,
         2.6835918851509986,
         2.649695552348189,
         2.7315743003640804,
         2.6258375338573487,
         2.791667227580089,
         2.696151590545787,
         2.902447976460549,
         2.804077962121167,
         2.8671323780407074,
         2.831385199265038,
         2.7590720628243446,
         2.6822913634826357,
         2.823303224623588,
         2.8042456333356407,
         2.8541186245454453,
         2.7730793693302185,
         2.701087927355889,
         2.6038130431946946,
         2.824182956342441,
         2.750874092492734,
         2.9012140304962637,
         2.8726421034805383,
         2.8177148392221225,
         2.7220691299212736,
         2.7820275450486442,
         2.760904229047905,
         2.8889019850972044,
         2.6944448000404133,
         2.8648697142912356,
         2.8461707026837355,
         2.6441331603530407,
         2.8153083010470876,
         2.7648233355908047,
         2.6370408162940007,
         2.8831243627743923,
         3.007116331163049,
         2.899437212680529,
         2.788048303303747,
         2.988801565520562,
         2.6823617507297874,
         2.848566723806332,
         2.764780962554688,
         2.851562530345564,
         2.8372286180758075,
         2.7230387904783715,
         2.622226813051435,
         2.8150912291250383,
         2.730933974708586,
         2.72409573429328,
         2.7845604364026357,
         2.8614445427036266,
         2.6789803072813276,
         2.658891814856931,
         2.736003303651958,
         2.8967422757585926,
         2.8893143981575404,
         2.7283400018357016,
         2.8241040903890924,
         2.698070340927984,
         2.733179652712872,
         2.925862426931683,
         2.810916988865457,
         2.6731677268033596,
         2.841330706813431,
         2.712234356111893,
         2.664909616845549,
         2.7982953274786526,
         2.7705655985444184,
         2.860373973639118,
         2.8694629006063237,
         2.9170057696782457,
         2.8707051634943817,
         2.8000283174278016,
         2.710262738249197,
         2.811400367034881,
         2.911402376396428,
         2.892342764665874,
         2.87088733551302,
         2.807744364658298,
         2.819494502851142,
         2.7205086291231075,
         2.6896944081582164,
         3.0177627876125204,
         2.8495167894818256,
         2.69740830659239,
         2.9585019790948723,
         2.707865562146668,
         2.8309080084947187,
         2.71142482302396,
         2.8600408858024315,
         2.918522960091148,
         2.960373280260413,
         2.746926511478418,
         2.802315547848802
        ]
       ],
       "encoder": "json",
       "name": "ABC_GAN_4 Metrics",
       "version": 1
      }
     },
     "metadata": {
      "scrapbook": {
       "data": true,
       "display": false,
       "name": "ABC_GAN_4 Metrics"
      }
     },
     "output_type": "display_data"
    },
    {
     "name": "stdout",
     "output_type": "stream",
     "text": [
      "MAE\n",
      "0.48304057443587045\n"
     ]
    }
   ],
   "source": [
    "ABC_GAN4_metrics=ABC_train_test2.test_generator(gen4,test_data,prior_model,variance,bias,\"3\",device)\n",
    "sb.glue(\"ABC_GAN_4 Metrics\",ABC_GAN4_metrics)\n",
    "\n",
    "print(\"MAE\")\n",
    "print(mean(ABC_GAN4_metrics[1]))"
   ]
  },
  {
   "cell_type": "code",
   "execution_count": 26,
   "id": "2320c195",
   "metadata": {
    "execution": {
     "iopub.execute_input": "2022-07-22T11:08:14.578711Z",
     "iopub.status.busy": "2022-07-22T11:08:14.577805Z",
     "iopub.status.idle": "2022-07-22T11:08:17.955410Z",
     "shell.execute_reply": "2022-07-22T11:08:17.948789Z"
    },
    "id": "c8e46b48",
    "papermill": {
     "duration": 3.443667,
     "end_time": "2022-07-22T11:08:17.958713",
     "exception": false,
     "start_time": "2022-07-22T11:08:14.515046",
     "status": "completed"
    },
    "tags": []
   },
   "outputs": [
    {
     "data": {
      "image/png": "[encoded data removed]",
      "text/plain": [
       "<Figure size 432x288 with 1 Axes>"
      ]
     },
     "metadata": {
      "needs_background": "light"
     },
     "output_type": "display_data"
    },
    {
     "data": {
      "image/png": "[encoded data removed]",
      "text/plain": [
       "<Figure size 432x288 with 1 Axes>"
      ]
     },
     "metadata": {
      "needs_background": "light"
     },
     "output_type": "display_data"
    },
    {
     "data": {
      "image/png": "[encoded data removed]",
      "text/plain": [
       "<Figure size 432x288 with 1 Axes>"
      ]
     },
     "metadata": {
      "needs_background": "light"
     },
     "output_type": "display_data"
    },
    {
     "data": {
      "image/png": "[encoded data removed]",
      "text/plain": [
       "<Figure size 432x288 with 1 Axes>"
      ]
     },
     "metadata": {
      "needs_background": "light"
     },
     "output_type": "display_data"
    }
   ],
   "source": [
    "sanityChecks.discProbVsError(train_data,disc4,device)\n",
    "sanityChecks.discProbVsError(test_data,disc4,device)"
   ]
  },
  {
   "cell_type": "markdown",
   "id": "a5bd74c3",
   "metadata": {
    "id": "a5bd74c3",
    "papermill": {
     "duration": 0.076991,
     "end_time": "2022-07-22T11:08:18.093675",
     "exception": false,
     "start_time": "2022-07-22T11:08:18.016684",
     "status": "completed"
    },
    "tags": []
   },
   "source": [
    "## Skip Connection Model Analysis - ABC-GAN "
   ]
  },
  {
   "cell_type": "markdown",
   "id": "5744a8bf",
   "metadata": {
    "id": "5744a8bf",
    "papermill": {
     "duration": 0.098848,
     "end_time": "2022-07-22T11:08:18.300759",
     "exception": false,
     "start_time": "2022-07-22T11:08:18.201911",
     "status": "completed"
    },
    "tags": []
   },
   "source": [
    "### Weight Analysis \n",
    "\n",
    "Study the weights of the skip connection layer\n",
    "\n",
    "Equation of the skip connection is \n",
    "\n",
    "$output = y_{gan} * w + y_{abc} * (1-w)$"
   ]
  },
  {
   "cell_type": "code",
   "execution_count": 27,
   "id": "52c31dea",
   "metadata": {
    "execution": {
     "iopub.execute_input": "2022-07-22T11:08:18.608236Z",
     "iopub.status.busy": "2022-07-22T11:08:18.607225Z",
     "iopub.status.idle": "2022-07-22T11:08:18.612597Z",
     "shell.execute_reply": "2022-07-22T11:08:18.611557Z"
    },
    "id": "52c31dea",
    "papermill": {
     "duration": 0.147266,
     "end_time": "2022-07-22T11:08:18.616704",
     "exception": false,
     "start_time": "2022-07-22T11:08:18.469438",
     "status": "completed"
    },
    "tags": []
   },
   "outputs": [],
   "source": [
    "# print(\"Weight of the node at skip connection\")\n",
    "# for name,param in gen3.named_parameters():\n",
    "#     if(name == \"skipNode.weight\"):\n",
    "#         print(param)\n",
    "#         sb.glue(\"Skip Connection Weight\",param.item())"
   ]
  },
  {
   "cell_type": "markdown",
   "id": "ecd1fae0",
   "metadata": {
    "id": "a5bd74c3",
    "papermill": {
     "duration": 0.044846,
     "end_time": "2022-07-22T11:08:18.702382",
     "exception": false,
     "start_time": "2022-07-22T11:08:18.657536",
     "status": "completed"
    },
    "tags": []
   },
   "source": [
    "## skipGAN Model Analysis (TabNet Generator) "
   ]
  },
  {
   "cell_type": "markdown",
   "id": "33b91c98",
   "metadata": {
    "id": "5744a8bf",
    "papermill": {
     "duration": 0.036063,
     "end_time": "2022-07-22T11:08:18.779025",
     "exception": false,
     "start_time": "2022-07-22T11:08:18.742962",
     "status": "completed"
    },
    "tags": []
   },
   "source": [
    "### Weight Analysis \n",
    "\n",
    "Study the weights of the skip connection layer\n",
    "\n",
    "Equation of the skip connection is \n",
    "\n",
    "$output = y_{gan} * w + y_{abc} * (1-w)$"
   ]
  },
  {
   "cell_type": "code",
   "execution_count": 28,
   "id": "bfa65ff4",
   "metadata": {
    "execution": {
     "iopub.execute_input": "2022-07-22T11:08:18.863397Z",
     "iopub.status.busy": "2022-07-22T11:08:18.862900Z",
     "iopub.status.idle": "2022-07-22T11:08:18.880146Z",
     "shell.execute_reply": "2022-07-22T11:08:18.879134Z"
    },
    "id": "52c31dea",
    "papermill": {
     "duration": 0.068499,
     "end_time": "2022-07-22T11:08:18.886543",
     "exception": false,
     "start_time": "2022-07-22T11:08:18.818044",
     "status": "completed"
    },
    "tags": []
   },
   "outputs": [
    {
     "name": "stdout",
     "output_type": "stream",
     "text": [
      "Weight of the node at skip connection\n",
      "Parameter containing:\n",
      "tensor([[0.]], requires_grad=True)\n"
     ]
    },
    {
     "data": {
      "application/scrapbook.scrap.json+json": {
       "data": 0.0,
       "encoder": "json",
       "name": "Skip Connection Weight",
       "version": 1
      }
     },
     "metadata": {
      "scrapbook": {
       "data": true,
       "display": false,
       "name": "Skip Connection Weight"
      }
     },
     "output_type": "display_data"
    }
   ],
   "source": [
    "print(\"Weight of the node at skip connection\")\n",
    "for name,param in gen4.named_parameters():\n",
    "    if(name == \"skipNode.weight\"):\n",
    "        print(param)\n",
    "        sb.glue(\"Skip Connection Weight\",param.item())"
   ]
  }
 ],
 "metadata": {
  "colab": {
   "collapsed_sections": [],
   "name": "ABC_GAN_Model-Catboost_Pre-gen.ipynb",
   "provenance": []
  },
  "interpreter": {
   "hash": "31f2aee4e71d21fbe5cf8b01ff0e069b9275f58929596ceb00d14d90e3e16cd6"
  },
  "kernelspec": {
   "display_name": "Python 3 (ipykernel)",
   "language": "python",
   "name": "python3"
  },
  "language_info": {
   "codemirror_mode": {
    "name": "ipython",
    "version": 3
   },
   "file_extension": ".py",
   "mimetype": "text/x-python",
   "name": "python",
   "nbconvert_exporter": "python",
   "pygments_lexer": "ipython3",
   "version": "3.8.13"
  },
  "papermill": {
   "default_parameters": {},
   "duration": 761.953293,
   "end_time": "2022-07-22T11:08:20.139428",
   "environment_variables": {},
   "exception": null,
   "input_path": "ABC_GAN-TabNet.ipynb",
   "output_path": "./ABC_GAN_TabNet/ABC-GAN_output_2_10.ipynb",
   "parameters": {
    "bias": 0,
    "variance": 0.1
   },
   "start_time": "2022-07-22T10:55:38.186135",
   "version": "2.3.3"
  }
 },
 "nbformat": 4,
 "nbformat_minor": 5
}