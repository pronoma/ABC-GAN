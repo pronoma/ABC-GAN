{
 "cells": [
  {
   "cell_type": "markdown",
   "id": "622780e6",
   "metadata": {
    "id": "622780e6",
    "papermill": {
     "duration": 0.010344,
     "end_time": "2022-07-22T08:18:38.181125",
     "exception": false,
     "start_time": "2022-07-22T08:18:38.170781",
     "status": "completed"
    },
    "tags": []
   },
   "source": [
    "## Import Libraries "
   ]
  },
  {
   "cell_type": "code",
   "execution_count": 1,
   "id": "a62397e3",
   "metadata": {
    "execution": {
     "iopub.execute_input": "2022-07-22T08:18:38.201055Z",
     "iopub.status.busy": "2022-07-22T08:18:38.200135Z",
     "iopub.status.idle": "2022-07-22T08:18:38.215697Z",
     "shell.execute_reply": "2022-07-22T08:18:38.214670Z"
    },
    "id": "a62397e3",
    "papermill": {
     "duration": 0.030645,
     "end_time": "2022-07-22T08:18:38.220164",
     "exception": false,
     "start_time": "2022-07-22T08:18:38.189519",
     "status": "completed"
    },
    "tags": []
   },
   "outputs": [],
   "source": [
    "import warnings\n",
    "import sys\n",
    "sys.path.insert(0, '../../src')\n",
    "warnings.filterwarnings('ignore')"
   ]
  },
  {
   "cell_type": "code",
   "execution_count": 2,
   "id": "d6a4e155",
   "metadata": {
    "execution": {
     "iopub.execute_input": "2022-07-22T08:18:38.242036Z",
     "iopub.status.busy": "2022-07-22T08:18:38.241293Z",
     "iopub.status.idle": "2022-07-22T08:18:46.897830Z",
     "shell.execute_reply": "2022-07-22T08:18:46.896789Z"
    },
    "id": "d6a4e155",
    "papermill": {
     "duration": 8.670277,
     "end_time": "2022-07-22T08:18:46.900922",
     "exception": false,
     "start_time": "2022-07-22T08:18:38.230645",
     "status": "completed"
    },
    "tags": []
   },
   "outputs": [],
   "source": [
    "import ABC_train_test2\n",
    "import friedman3Dataset\n",
    "import network\n",
    "import dataset\n",
    "import sanityChecks\n",
    "import torch \n",
    "import scrapbook as sb\n",
    "from statistics import mean \n",
    "import catboost as ctb \n",
    "from sklearn.model_selection import train_test_split\n",
    "from sklearn.metrics import mean_squared_error,mean_absolute_error\n",
    "import numpy as np\n",
    "from pytorch_tabnet.tab_model import TabNetRegressor"
   ]
  },
  {
   "cell_type": "markdown",
   "id": "2fa5b0f7",
   "metadata": {
    "id": "2fa5b0f7",
    "papermill": {
     "duration": 0.007549,
     "end_time": "2022-07-22T08:18:46.915879",
     "exception": false,
     "start_time": "2022-07-22T08:18:46.908330",
     "status": "completed"
    },
    "tags": []
   },
   "source": [
    "## Parameters "
   ]
  },
  {
   "cell_type": "code",
   "execution_count": 3,
   "id": "783186fb",
   "metadata": {
    "execution": {
     "iopub.execute_input": "2022-07-22T08:18:46.933218Z",
     "iopub.status.busy": "2022-07-22T08:18:46.932868Z",
     "iopub.status.idle": "2022-07-22T08:18:46.937908Z",
     "shell.execute_reply": "2022-07-22T08:18:46.936487Z"
    },
    "id": "783186fb",
    "papermill": {
     "duration": 0.017751,
     "end_time": "2022-07-22T08:18:46.941202",
     "exception": false,
     "start_time": "2022-07-22T08:18:46.923451",
     "status": "completed"
    },
    "tags": [
     "parameters"
    ]
   },
   "outputs": [],
   "source": [
    "variance = 1\n",
    "bias = 1 "
   ]
  },
  {
   "cell_type": "code",
   "execution_count": 4,
   "id": "050d3edf",
   "metadata": {
    "execution": {
     "iopub.execute_input": "2022-07-22T08:18:46.963227Z",
     "iopub.status.busy": "2022-07-22T08:18:46.961807Z",
     "iopub.status.idle": "2022-07-22T08:18:46.969861Z",
     "shell.execute_reply": "2022-07-22T08:18:46.966998Z"
    },
    "papermill": {
     "duration": 0.021294,
     "end_time": "2022-07-22T08:18:46.973778",
     "exception": false,
     "start_time": "2022-07-22T08:18:46.952484",
     "status": "completed"
    },
    "tags": [
     "injected-parameters"
    ]
   },
   "outputs": [],
   "source": [
    "# Parameters\n",
    "variance = 0.01\n",
    "bias = 1\n"
   ]
  },
  {
   "cell_type": "markdown",
   "id": "391cdbfd",
   "metadata": {
    "id": "391cdbfd",
    "papermill": {
     "duration": 0.008839,
     "end_time": "2022-07-22T08:18:46.990762",
     "exception": false,
     "start_time": "2022-07-22T08:18:46.981923",
     "status": "completed"
    },
    "tags": []
   },
   "source": [
    "## Dataset \n"
   ]
  },
  {
   "cell_type": "code",
   "execution_count": 5,
   "id": "5b51f161",
   "metadata": {
    "execution": {
     "iopub.execute_input": "2022-07-22T08:18:47.052776Z",
     "iopub.status.busy": "2022-07-22T08:18:47.050086Z",
     "iopub.status.idle": "2022-07-22T08:18:47.057910Z",
     "shell.execute_reply": "2022-07-22T08:18:47.056936Z"
    },
    "id": "5b51f161",
    "papermill": {
     "duration": 0.061687,
     "end_time": "2022-07-22T08:18:47.060655",
     "exception": false,
     "start_time": "2022-07-22T08:18:46.998968",
     "status": "completed"
    },
    "tags": []
   },
   "outputs": [],
   "source": [
    "#Parameters \n",
    "n_features = 4\n",
    "n_samples= 100\n",
    "n_target = 1"
   ]
  },
  {
   "cell_type": "code",
   "execution_count": 6,
   "id": "5d6eced4",
   "metadata": {
    "execution": {
     "iopub.execute_input": "2022-07-22T08:18:47.089194Z",
     "iopub.status.busy": "2022-07-22T08:18:47.088319Z",
     "iopub.status.idle": "2022-07-22T08:18:47.109980Z",
     "shell.execute_reply": "2022-07-22T08:18:47.108962Z"
    },
    "id": "5d6eced4",
    "papermill": {
     "duration": 0.04306,
     "end_time": "2022-07-22T08:18:47.112672",
     "exception": false,
     "start_time": "2022-07-22T08:18:47.069612",
     "status": "completed"
    },
    "tags": []
   },
   "outputs": [
    {
     "name": "stdout",
     "output_type": "stream",
     "text": [
      "          X1           X2        X3        X4         Y\n",
      "0  66.588417  1591.449828  0.341785  5.638500  1.476936\n",
      "1  74.790644  1161.785767  0.095003  3.647399  0.994185\n",
      "2  41.734330  1577.385500  0.080261  3.575919  1.092948\n",
      "3  52.143126  1735.206519  0.626082  3.985998  1.454844\n",
      "4  36.316118  1134.917251  0.680884  9.081066  1.381352\n"
     ]
    }
   ],
   "source": [
    "X,Y = friedman3Dataset.friedman3_data(n_samples)"
   ]
  },
  {
   "cell_type": "code",
   "execution_count": 7,
   "id": "fe007438",
   "metadata": {
    "execution": {
     "iopub.execute_input": "2022-07-22T08:18:47.139985Z",
     "iopub.status.busy": "2022-07-22T08:18:47.139041Z",
     "iopub.status.idle": "2022-07-22T08:18:47.145974Z",
     "shell.execute_reply": "2022-07-22T08:18:47.145027Z"
    },
    "id": "fe007438",
    "papermill": {
     "duration": 0.025366,
     "end_time": "2022-07-22T08:18:47.149115",
     "exception": false,
     "start_time": "2022-07-22T08:18:47.123749",
     "status": "completed"
    },
    "tags": []
   },
   "outputs": [],
   "source": [
    "#Train test split for dataset \n",
    "X_train,X_test,Y_train,Y_test = train_test_split(X,Y,test_size = 0.2)\n",
    "train_data = dataset.CustomDataset(X_train,Y_train)\n",
    "test_data = dataset.CustomDataset(X_test,Y_test)\n"
   ]
  },
  {
   "cell_type": "markdown",
   "id": "a9a1af34",
   "metadata": {
    "id": "a9a1af34",
    "papermill": {
     "duration": 0.007323,
     "end_time": "2022-07-22T08:18:47.164055",
     "exception": false,
     "start_time": "2022-07-22T08:18:47.156732",
     "status": "completed"
    },
    "tags": []
   },
   "source": [
    "## Training Parameters "
   ]
  },
  {
   "cell_type": "code",
   "execution_count": 8,
   "id": "952b7fc8",
   "metadata": {
    "execution": {
     "iopub.execute_input": "2022-07-22T08:18:47.190424Z",
     "iopub.status.busy": "2022-07-22T08:18:47.189819Z",
     "iopub.status.idle": "2022-07-22T08:18:47.196359Z",
     "shell.execute_reply": "2022-07-22T08:18:47.194500Z"
    },
    "id": "952b7fc8",
    "papermill": {
     "duration": 0.025296,
     "end_time": "2022-07-22T08:18:47.199460",
     "exception": false,
     "start_time": "2022-07-22T08:18:47.174164",
     "status": "completed"
    },
    "tags": []
   },
   "outputs": [],
   "source": [
    "batch_size = 32\n",
    "n_epochs = 1000\n",
    "#Select the device \n",
    "device = torch.device('cuda' if torch.cuda.is_available() else 'cpu')"
   ]
  },
  {
   "cell_type": "markdown",
   "id": "a95e1600",
   "metadata": {
    "id": "a95e1600",
    "papermill": {
     "duration": 0.007916,
     "end_time": "2022-07-22T08:18:47.215110",
     "exception": false,
     "start_time": "2022-07-22T08:18:47.207194",
     "status": "completed"
    },
    "tags": []
   },
   "source": [
    "# ABC Pre-generator Model \n",
    "\n",
    "1. The catboost model is used as a pre-generator model for the ABC-GAN. \n",
    "2. The model is first trained on the entire dataset \n",
    "3. It generats X,Y pairs and we add some Gaussian noise with mean 0 and variance 1 to it which is then feed as input to the generator.\n"
   ]
  },
  {
   "cell_type": "code",
   "execution_count": 9,
   "id": "ac011ebf",
   "metadata": {
    "execution": {
     "iopub.execute_input": "2022-07-22T08:18:47.246130Z",
     "iopub.status.busy": "2022-07-22T08:18:47.245570Z",
     "iopub.status.idle": "2022-07-22T08:19:22.839610Z",
     "shell.execute_reply": "2022-07-22T08:19:22.838297Z"
    },
    "papermill": {
     "duration": 35.61185,
     "end_time": "2022-07-22T08:19:22.842475",
     "exception": false,
     "start_time": "2022-07-22T08:18:47.230625",
     "status": "completed"
    },
    "tags": []
   },
   "outputs": [
    {
     "name": "stdout",
     "output_type": "stream",
     "text": [
      "Device used : cpu\n"
     ]
    },
    {
     "name": "stdout",
     "output_type": "stream",
     "text": [
      "epoch 0  | loss: 1.24137 | train_mse: 5.50701 | train_mae: 1.75196 |  0:00:00s\n",
      "epoch 1  | loss: 1.19145 | train_mse: 4.06365 | train_mae: 1.52593 |  0:00:00s\n"
     ]
    },
    {
     "name": "stdout",
     "output_type": "stream",
     "text": [
      "epoch 2  | loss: 1.28097 | train_mse: 3.725   | train_mae: 1.50514 |  0:00:00s\n",
      "epoch 3  | loss: 1.16126 | train_mse: 3.10766 | train_mae: 1.38122 |  0:00:00s\n",
      "epoch 4  | loss: 0.89803 | train_mse: 2.4998  | train_mae: 1.21177 |  0:00:00s\n"
     ]
    },
    {
     "name": "stdout",
     "output_type": "stream",
     "text": [
      "epoch 5  | loss: 0.82269 | train_mse: 2.22889 | train_mae: 1.14481 |  0:00:00s\n",
      "epoch 6  | loss: 0.82063 | train_mse: 2.05989 | train_mae: 1.10993 |  0:00:00s\n"
     ]
    },
    {
     "name": "stdout",
     "output_type": "stream",
     "text": [
      "epoch 7  | loss: 0.86045 | train_mse: 1.9106  | train_mae: 1.07368 |  0:00:01s\n",
      "epoch 8  | loss: 0.71041 | train_mse: 1.75869 | train_mae: 1.03484 |  0:00:01s\n",
      "epoch 9  | loss: 0.71023 | train_mse: 1.60252 | train_mae: 0.99352 |  0:00:01s\n"
     ]
    },
    {
     "name": "stdout",
     "output_type": "stream",
     "text": [
      "epoch 10 | loss: 0.90815 | train_mse: 1.47825 | train_mae: 0.9549  |  0:00:01s\n",
      "epoch 11 | loss: 0.84337 | train_mse: 1.34596 | train_mae: 0.89742 |  0:00:01s\n",
      "epoch 12 | loss: 0.71612 | train_mse: 1.24805 | train_mae: 0.84843 |  0:00:01s\n"
     ]
    },
    {
     "name": "stdout",
     "output_type": "stream",
     "text": [
      "epoch 13 | loss: 0.59307 | train_mse: 1.16264 | train_mae: 0.80405 |  0:00:01s\n",
      "epoch 14 | loss: 0.7263  | train_mse: 1.07821 | train_mae: 0.76801 |  0:00:01s\n",
      "epoch 15 | loss: 0.57551 | train_mse: 1.00841 | train_mae: 0.74144 |  0:00:01s\n"
     ]
    },
    {
     "name": "stdout",
     "output_type": "stream",
     "text": [
      "epoch 16 | loss: 0.60903 | train_mse: 0.93809 | train_mae: 0.7174  |  0:00:01s\n",
      "epoch 17 | loss: 0.59297 | train_mse: 0.87269 | train_mae: 0.69537 |  0:00:01s\n"
     ]
    },
    {
     "name": "stdout",
     "output_type": "stream",
     "text": [
      "epoch 18 | loss: 0.62153 | train_mse: 0.81764 | train_mae: 0.67196 |  0:00:02s\n",
      "epoch 19 | loss: 0.61734 | train_mse: 0.78201 | train_mae: 0.6534  |  0:00:02s\n",
      "epoch 20 | loss: 0.58068 | train_mse: 0.7494  | train_mae: 0.63578 |  0:00:02s\n"
     ]
    },
    {
     "name": "stdout",
     "output_type": "stream",
     "text": [
      "epoch 21 | loss: 0.55637 | train_mse: 0.73082 | train_mae: 0.6246  |  0:00:02s\n",
      "epoch 22 | loss: 0.74317 | train_mse: 0.71716 | train_mae: 0.6145  |  0:00:02s\n",
      "epoch 23 | loss: 0.64985 | train_mse: 0.7004  | train_mae: 0.60586 |  0:00:02s\n"
     ]
    },
    {
     "name": "stdout",
     "output_type": "stream",
     "text": [
      "epoch 24 | loss: 0.51492 | train_mse: 0.68056 | train_mae: 0.59806 |  0:00:02s\n",
      "epoch 25 | loss: 0.44292 | train_mse: 0.6559  | train_mae: 0.58565 |  0:00:02s\n",
      "epoch 26 | loss: 0.49872 | train_mse: 0.59856 | train_mae: 0.56597 |  0:00:02s\n"
     ]
    },
    {
     "name": "stdout",
     "output_type": "stream",
     "text": [
      "epoch 27 | loss: 0.59823 | train_mse: 0.56227 | train_mae: 0.54994 |  0:00:02s\n",
      "epoch 28 | loss: 0.57658 | train_mse: 0.5284  | train_mae: 0.53513 |  0:00:02s\n",
      "epoch 29 | loss: 0.54815 | train_mse: 0.50071 | train_mae: 0.52181 |  0:00:03s\n"
     ]
    },
    {
     "name": "stdout",
     "output_type": "stream",
     "text": [
      "epoch 30 | loss: 0.59349 | train_mse: 0.48251 | train_mae: 0.51508 |  0:00:03s\n",
      "epoch 31 | loss: 0.45877 | train_mse: 0.46479 | train_mae: 0.51    |  0:00:03s\n",
      "epoch 32 | loss: 0.37561 | train_mse: 0.44926 | train_mae: 0.50445 |  0:00:03s\n"
     ]
    },
    {
     "name": "stdout",
     "output_type": "stream",
     "text": [
      "epoch 33 | loss: 0.49951 | train_mse: 0.442   | train_mae: 0.49642 |  0:00:03s\n",
      "epoch 34 | loss: 0.44014 | train_mse: 0.43801 | train_mae: 0.49182 |  0:00:03s\n",
      "epoch 35 | loss: 0.3254  | train_mse: 0.4314  | train_mae: 0.48609 |  0:00:03s\n"
     ]
    },
    {
     "name": "stdout",
     "output_type": "stream",
     "text": [
      "epoch 36 | loss: 0.55296 | train_mse: 0.41918 | train_mae: 0.47771 |  0:00:03s\n",
      "epoch 37 | loss: 0.43112 | train_mse: 0.40332 | train_mae: 0.46993 |  0:00:03s\n",
      "epoch 38 | loss: 0.41942 | train_mse: 0.39484 | train_mae: 0.46622 |  0:00:03s\n"
     ]
    },
    {
     "name": "stdout",
     "output_type": "stream",
     "text": [
      "epoch 39 | loss: 0.44316 | train_mse: 0.38585 | train_mae: 0.46147 |  0:00:03s\n",
      "epoch 40 | loss: 0.3072  | train_mse: 0.37208 | train_mae: 0.45148 |  0:00:04s\n",
      "epoch 41 | loss: 0.53024 | train_mse: 0.35811 | train_mae: 0.44265 |  0:00:04s\n"
     ]
    },
    {
     "name": "stdout",
     "output_type": "stream",
     "text": [
      "epoch 42 | loss: 0.63473 | train_mse: 0.3424  | train_mae: 0.43705 |  0:00:04s\n",
      "epoch 43 | loss: 0.61397 | train_mse: 0.33491 | train_mae: 0.43446 |  0:00:04s\n",
      "epoch 44 | loss: 0.53007 | train_mse: 0.32264 | train_mae: 0.42917 |  0:00:04s\n"
     ]
    },
    {
     "name": "stdout",
     "output_type": "stream",
     "text": [
      "epoch 45 | loss: 0.44304 | train_mse: 0.31315 | train_mae: 0.42625 |  0:00:04s\n",
      "epoch 46 | loss: 0.43925 | train_mse: 0.31033 | train_mae: 0.4279  |  0:00:04s\n",
      "epoch 47 | loss: 0.43713 | train_mse: 0.32298 | train_mae: 0.43768 |  0:00:04s\n"
     ]
    },
    {
     "name": "stdout",
     "output_type": "stream",
     "text": [
      "epoch 48 | loss: 0.52665 | train_mse: 0.31972 | train_mae: 0.4377  |  0:00:04s\n",
      "epoch 49 | loss: 0.40131 | train_mse: 0.31227 | train_mae: 0.43106 |  0:00:04s\n",
      "epoch 50 | loss: 0.49417 | train_mse: 0.31171 | train_mae: 0.42685 |  0:00:04s\n"
     ]
    },
    {
     "name": "stdout",
     "output_type": "stream",
     "text": [
      "epoch 51 | loss: 0.46324 | train_mse: 0.31003 | train_mae: 0.42435 |  0:00:05s\n",
      "epoch 52 | loss: 0.48936 | train_mse: 0.29496 | train_mae: 0.4121  |  0:00:05s\n",
      "epoch 53 | loss: 0.37663 | train_mse: 0.29223 | train_mae: 0.40891 |  0:00:05s\n"
     ]
    },
    {
     "name": "stdout",
     "output_type": "stream",
     "text": [
      "epoch 54 | loss: 0.4723  | train_mse: 0.28805 | train_mae: 0.40483 |  0:00:05s\n",
      "epoch 55 | loss: 0.47602 | train_mse: 0.29009 | train_mae: 0.40294 |  0:00:05s\n",
      "epoch 56 | loss: 0.34543 | train_mse: 0.29119 | train_mae: 0.40055 |  0:00:05s\n"
     ]
    },
    {
     "name": "stdout",
     "output_type": "stream",
     "text": [
      "epoch 57 | loss: 0.4269  | train_mse: 0.29092 | train_mae: 0.40088 |  0:00:05s\n",
      "epoch 58 | loss: 0.51417 | train_mse: 0.279   | train_mae: 0.39517 |  0:00:05s\n",
      "epoch 59 | loss: 0.42588 | train_mse: 0.27246 | train_mae: 0.39264 |  0:00:05s\n"
     ]
    },
    {
     "name": "stdout",
     "output_type": "stream",
     "text": [
      "epoch 60 | loss: 0.3805  | train_mse: 0.2698  | train_mae: 0.39037 |  0:00:05s\n",
      "epoch 61 | loss: 0.38683 | train_mse: 0.2646  | train_mae: 0.38714 |  0:00:05s\n",
      "epoch 62 | loss: 0.29013 | train_mse: 0.25676 | train_mae: 0.38401 |  0:00:06s\n"
     ]
    },
    {
     "name": "stdout",
     "output_type": "stream",
     "text": [
      "epoch 63 | loss: 0.31833 | train_mse: 0.25131 | train_mae: 0.38323 |  0:00:06s\n",
      "epoch 64 | loss: 0.36653 | train_mse: 0.24977 | train_mae: 0.38512 |  0:00:06s\n",
      "epoch 65 | loss: 0.55317 | train_mse: 0.24854 | train_mae: 0.38562 |  0:00:06s\n"
     ]
    },
    {
     "name": "stdout",
     "output_type": "stream",
     "text": [
      "epoch 66 | loss: 0.25911 | train_mse: 0.24447 | train_mae: 0.37913 |  0:00:06s\n",
      "epoch 67 | loss: 0.29533 | train_mse: 0.2413  | train_mae: 0.37489 |  0:00:06s\n",
      "epoch 68 | loss: 0.50828 | train_mse: 0.23585 | train_mae: 0.36974 |  0:00:06s\n"
     ]
    },
    {
     "name": "stdout",
     "output_type": "stream",
     "text": [
      "epoch 69 | loss: 0.478   | train_mse: 0.22595 | train_mae: 0.36142 |  0:00:06s\n",
      "epoch 70 | loss: 0.33046 | train_mse: 0.21911 | train_mae: 0.35587 |  0:00:06s\n",
      "epoch 71 | loss: 0.39839 | train_mse: 0.21633 | train_mae: 0.35117 |  0:00:06s\n"
     ]
    },
    {
     "name": "stdout",
     "output_type": "stream",
     "text": [
      "epoch 72 | loss: 0.40281 | train_mse: 0.21062 | train_mae: 0.34593 |  0:00:06s\n",
      "epoch 73 | loss: 0.40864 | train_mse: 0.20262 | train_mae: 0.33807 |  0:00:06s\n",
      "epoch 74 | loss: 0.39169 | train_mse: 0.19811 | train_mae: 0.3283  |  0:00:07s\n"
     ]
    },
    {
     "name": "stdout",
     "output_type": "stream",
     "text": [
      "epoch 75 | loss: 0.34259 | train_mse: 0.19485 | train_mae: 0.32268 |  0:00:07s\n",
      "epoch 76 | loss: 0.45858 | train_mse: 0.19682 | train_mae: 0.3243  |  0:00:07s\n",
      "epoch 77 | loss: 0.39688 | train_mse: 0.19617 | train_mae: 0.3278  |  0:00:07s\n"
     ]
    },
    {
     "name": "stdout",
     "output_type": "stream",
     "text": [
      "epoch 78 | loss: 0.28386 | train_mse: 0.19607 | train_mae: 0.32818 |  0:00:07s\n",
      "epoch 79 | loss: 0.35434 | train_mse: 0.19585 | train_mae: 0.32855 |  0:00:07s\n",
      "epoch 80 | loss: 0.24602 | train_mse: 0.19781 | train_mae: 0.33175 |  0:00:07s\n"
     ]
    },
    {
     "name": "stdout",
     "output_type": "stream",
     "text": [
      "epoch 81 | loss: 0.32682 | train_mse: 0.19672 | train_mae: 0.33451 |  0:00:07s\n",
      "epoch 82 | loss: 0.38491 | train_mse: 0.19357 | train_mae: 0.33078 |  0:00:07s\n"
     ]
    },
    {
     "name": "stdout",
     "output_type": "stream",
     "text": [
      "epoch 83 | loss: 0.28923 | train_mse: 0.19223 | train_mae: 0.32783 |  0:00:07s\n",
      "epoch 84 | loss: 0.29157 | train_mse: 0.19394 | train_mae: 0.32524 |  0:00:07s\n",
      "epoch 85 | loss: 0.26692 | train_mse: 0.19636 | train_mae: 0.32537 |  0:00:08s\n"
     ]
    },
    {
     "name": "stdout",
     "output_type": "stream",
     "text": [
      "epoch 86 | loss: 0.29299 | train_mse: 0.20288 | train_mae: 0.33159 |  0:00:08s\n",
      "epoch 87 | loss: 0.38156 | train_mse: 0.20295 | train_mae: 0.3337  |  0:00:08s\n",
      "epoch 88 | loss: 0.22677 | train_mse: 0.2059  | train_mae: 0.33401 |  0:00:08s\n"
     ]
    },
    {
     "name": "stdout",
     "output_type": "stream",
     "text": [
      "epoch 89 | loss: 0.2786  | train_mse: 0.2067  | train_mae: 0.33593 |  0:00:08s\n",
      "epoch 90 | loss: 0.37413 | train_mse: 0.20403 | train_mae: 0.33732 |  0:00:08s\n",
      "epoch 91 | loss: 0.3212  | train_mse: 0.21025 | train_mae: 0.34206 |  0:00:08s\n"
     ]
    },
    {
     "name": "stdout",
     "output_type": "stream",
     "text": [
      "epoch 92 | loss: 0.2591  | train_mse: 0.20838 | train_mae: 0.34075 |  0:00:08s\n",
      "epoch 93 | loss: 0.44534 | train_mse: 0.20368 | train_mae: 0.33658 |  0:00:08s\n",
      "epoch 94 | loss: 0.25914 | train_mse: 0.20155 | train_mae: 0.33335 |  0:00:08s\n"
     ]
    },
    {
     "name": "stdout",
     "output_type": "stream",
     "text": [
      "epoch 95 | loss: 0.28318 | train_mse: 0.20324 | train_mae: 0.33469 |  0:00:08s\n",
      "epoch 96 | loss: 0.34357 | train_mse: 0.20178 | train_mae: 0.33336 |  0:00:09s\n",
      "epoch 97 | loss: 0.32539 | train_mse: 0.20147 | train_mae: 0.33365 |  0:00:09s\n"
     ]
    },
    {
     "name": "stdout",
     "output_type": "stream",
     "text": [
      "epoch 98 | loss: 0.3608  | train_mse: 0.20576 | train_mae: 0.33951 |  0:00:09s\n",
      "epoch 99 | loss: 0.24901 | train_mse: 0.20444 | train_mae: 0.33853 |  0:00:09s\n",
      "epoch 100| loss: 0.26679 | train_mse: 0.1986  | train_mae: 0.33569 |  0:00:09s\n"
     ]
    },
    {
     "name": "stdout",
     "output_type": "stream",
     "text": [
      "epoch 101| loss: 0.34545 | train_mse: 0.22577 | train_mae: 0.34497 |  0:00:09s\n",
      "epoch 102| loss: 0.25677 | train_mse: 0.23244 | train_mae: 0.34574 |  0:00:09s\n",
      "epoch 103| loss: 0.33181 | train_mse: 0.22259 | train_mae: 0.34423 |  0:00:09s\n"
     ]
    },
    {
     "name": "stdout",
     "output_type": "stream",
     "text": [
      "epoch 104| loss: 0.22703 | train_mse: 0.21461 | train_mae: 0.34134 |  0:00:09s\n",
      "epoch 105| loss: 0.33771 | train_mse: 0.20407 | train_mae: 0.33503 |  0:00:09s\n"
     ]
    },
    {
     "name": "stdout",
     "output_type": "stream",
     "text": [
      "epoch 106| loss: 0.28404 | train_mse: 0.20126 | train_mae: 0.33199 |  0:00:09s\n",
      "epoch 107| loss: 0.25097 | train_mse: 0.19111 | train_mae: 0.32546 |  0:00:10s\n",
      "epoch 108| loss: 0.27444 | train_mse: 0.18178 | train_mae: 0.3249  |  0:00:10s\n"
     ]
    },
    {
     "name": "stdout",
     "output_type": "stream",
     "text": [
      "epoch 109| loss: 0.22822 | train_mse: 0.17147 | train_mae: 0.31805 |  0:00:10s\n",
      "epoch 110| loss: 0.2645  | train_mse: 0.16874 | train_mae: 0.31519 |  0:00:10s\n",
      "epoch 111| loss: 0.2333  | train_mse: 0.16993 | train_mae: 0.31348 |  0:00:10s\n"
     ]
    },
    {
     "name": "stdout",
     "output_type": "stream",
     "text": [
      "epoch 112| loss: 0.30706 | train_mse: 0.16783 | train_mae: 0.31058 |  0:00:10s\n",
      "epoch 113| loss: 0.29682 | train_mse: 0.1669  | train_mae: 0.30895 |  0:00:10s\n",
      "epoch 114| loss: 0.28839 | train_mse: 0.16505 | train_mae: 0.30869 |  0:00:10s\n"
     ]
    },
    {
     "name": "stdout",
     "output_type": "stream",
     "text": [
      "epoch 115| loss: 0.19715 | train_mse: 0.16266 | train_mae: 0.30949 |  0:00:10s\n",
      "epoch 116| loss: 0.25037 | train_mse: 0.16155 | train_mae: 0.30837 |  0:00:10s\n",
      "epoch 117| loss: 0.17062 | train_mse: 0.1502  | train_mae: 0.29857 |  0:00:10s\n"
     ]
    },
    {
     "name": "stdout",
     "output_type": "stream",
     "text": [
      "epoch 118| loss: 0.23336 | train_mse: 0.14444 | train_mae: 0.28985 |  0:00:11s\n",
      "epoch 119| loss: 0.25252 | train_mse: 0.14203 | train_mae: 0.28774 |  0:00:11s\n",
      "epoch 120| loss: 0.20947 | train_mse: 0.1446  | train_mae: 0.28867 |  0:00:11s\n"
     ]
    },
    {
     "name": "stdout",
     "output_type": "stream",
     "text": [
      "epoch 121| loss: 0.27753 | train_mse: 0.14588 | train_mae: 0.29279 |  0:00:11s\n",
      "epoch 122| loss: 0.35668 | train_mse: 0.14668 | train_mae: 0.29502 |  0:00:11s\n",
      "epoch 123| loss: 0.2921  | train_mse: 0.15091 | train_mae: 0.2964  |  0:00:11s\n"
     ]
    },
    {
     "name": "stdout",
     "output_type": "stream",
     "text": [
      "epoch 124| loss: 0.41411 | train_mse: 0.15261 | train_mae: 0.29213 |  0:00:11s\n",
      "epoch 125| loss: 0.26485 | train_mse: 0.15479 | train_mae: 0.29049 |  0:00:11s\n",
      "epoch 126| loss: 0.22374 | train_mse: 0.15444 | train_mae: 0.28563 |  0:00:11s\n"
     ]
    },
    {
     "name": "stdout",
     "output_type": "stream",
     "text": [
      "epoch 127| loss: 0.23596 | train_mse: 0.16074 | train_mae: 0.28619 |  0:00:11s\n",
      "epoch 128| loss: 0.17296 | train_mse: 0.16197 | train_mae: 0.28747 |  0:00:11s\n",
      "epoch 129| loss: 0.28912 | train_mse: 0.15812 | train_mae: 0.28499 |  0:00:11s\n"
     ]
    },
    {
     "name": "stdout",
     "output_type": "stream",
     "text": [
      "epoch 130| loss: 0.20048 | train_mse: 0.15711 | train_mae: 0.28872 |  0:00:12s\n",
      "epoch 131| loss: 0.16562 | train_mse: 0.15542 | train_mae: 0.28929 |  0:00:12s\n",
      "epoch 132| loss: 0.19497 | train_mse: 0.15363 | train_mae: 0.29247 |  0:00:12s\n"
     ]
    },
    {
     "name": "stdout",
     "output_type": "stream",
     "text": [
      "epoch 133| loss: 0.26388 | train_mse: 0.14653 | train_mae: 0.28726 |  0:00:12s\n",
      "epoch 134| loss: 0.30186 | train_mse: 0.1407  | train_mae: 0.28348 |  0:00:12s\n",
      "epoch 135| loss: 0.23334 | train_mse: 0.13438 | train_mae: 0.27705 |  0:00:12s\n"
     ]
    },
    {
     "name": "stdout",
     "output_type": "stream",
     "text": [
      "epoch 136| loss: 0.16771 | train_mse: 0.12977 | train_mae: 0.27262 |  0:00:12s\n",
      "epoch 137| loss: 0.14696 | train_mse: 0.12568 | train_mae: 0.26967 |  0:00:12s\n",
      "epoch 138| loss: 0.31724 | train_mse: 0.12256 | train_mae: 0.26786 |  0:00:12s\n"
     ]
    },
    {
     "name": "stdout",
     "output_type": "stream",
     "text": [
      "epoch 139| loss: 0.36051 | train_mse: 0.12039 | train_mae: 0.26642 |  0:00:12s\n",
      "epoch 140| loss: 0.211   | train_mse: 0.11892 | train_mae: 0.26471 |  0:00:12s\n"
     ]
    },
    {
     "name": "stdout",
     "output_type": "stream",
     "text": [
      "epoch 141| loss: 0.1569  | train_mse: 0.12093 | train_mae: 0.2665  |  0:00:13s\n",
      "epoch 142| loss: 0.24555 | train_mse: 0.12001 | train_mae: 0.26854 |  0:00:13s\n",
      "epoch 143| loss: 0.22301 | train_mse: 0.12007 | train_mae: 0.27152 |  0:00:13s\n"
     ]
    },
    {
     "name": "stdout",
     "output_type": "stream",
     "text": [
      "epoch 144| loss: 0.23447 | train_mse: 0.11885 | train_mae: 0.27214 |  0:00:13s\n",
      "epoch 145| loss: 0.48659 | train_mse: 0.11606 | train_mae: 0.27209 |  0:00:13s\n",
      "epoch 146| loss: 0.24413 | train_mse: 0.11471 | train_mae: 0.27081 |  0:00:13s\n"
     ]
    },
    {
     "name": "stdout",
     "output_type": "stream",
     "text": [
      "epoch 147| loss: 0.15272 | train_mse: 0.11129 | train_mae: 0.26638 |  0:00:13s\n",
      "epoch 148| loss: 0.1907  | train_mse: 0.10851 | train_mae: 0.26018 |  0:00:13s\n",
      "epoch 149| loss: 0.24024 | train_mse: 0.10762 | train_mae: 0.25627 |  0:00:13s\n"
     ]
    },
    {
     "name": "stdout",
     "output_type": "stream",
     "text": [
      "epoch 150| loss: 0.34392 | train_mse: 0.10709 | train_mae: 0.25517 |  0:00:13s\n",
      "epoch 151| loss: 0.25301 | train_mse: 0.11025 | train_mae: 0.2574  |  0:00:13s\n",
      "epoch 152| loss: 0.18014 | train_mse: 0.10983 | train_mae: 0.25665 |  0:00:14s\n"
     ]
    },
    {
     "name": "stdout",
     "output_type": "stream",
     "text": [
      "epoch 153| loss: 0.16234 | train_mse: 0.10849 | train_mae: 0.25449 |  0:00:14s\n",
      "epoch 154| loss: 0.11355 | train_mse: 0.11132 | train_mae: 0.2558  |  0:00:14s\n",
      "epoch 155| loss: 0.16548 | train_mse: 0.11635 | train_mae: 0.25746 |  0:00:14s\n"
     ]
    },
    {
     "name": "stdout",
     "output_type": "stream",
     "text": [
      "epoch 156| loss: 0.3205  | train_mse: 0.11409 | train_mae: 0.25606 |  0:00:14s\n",
      "epoch 157| loss: 0.27056 | train_mse: 0.10835 | train_mae: 0.25268 |  0:00:14s\n",
      "epoch 158| loss: 0.23865 | train_mse: 0.1025  | train_mae: 0.24936 |  0:00:14s\n"
     ]
    },
    {
     "name": "stdout",
     "output_type": "stream",
     "text": [
      "epoch 159| loss: 0.25912 | train_mse: 0.09636 | train_mae: 0.24598 |  0:00:14s\n",
      "epoch 160| loss: 0.17222 | train_mse: 0.09467 | train_mae: 0.24537 |  0:00:14s\n",
      "epoch 161| loss: 0.23801 | train_mse: 0.09478 | train_mae: 0.24826 |  0:00:14s\n"
     ]
    },
    {
     "name": "stdout",
     "output_type": "stream",
     "text": [
      "epoch 162| loss: 0.20346 | train_mse: 0.09617 | train_mae: 0.25014 |  0:00:14s\n",
      "epoch 163| loss: 0.27458 | train_mse: 0.09531 | train_mae: 0.24985 |  0:00:15s\n",
      "epoch 164| loss: 0.38822 | train_mse: 0.09267 | train_mae: 0.2448  |  0:00:15s\n"
     ]
    },
    {
     "name": "stdout",
     "output_type": "stream",
     "text": [
      "epoch 165| loss: 0.21674 | train_mse: 0.0904  | train_mae: 0.24026 |  0:00:15s\n",
      "epoch 166| loss: 0.16516 | train_mse: 0.09016 | train_mae: 0.23889 |  0:00:15s\n",
      "epoch 167| loss: 0.2921  | train_mse: 0.08902 | train_mae: 0.23871 |  0:00:15s\n"
     ]
    },
    {
     "name": "stdout",
     "output_type": "stream",
     "text": [
      "epoch 168| loss: 0.14419 | train_mse: 0.08633 | train_mae: 0.23262 |  0:00:15s\n",
      "epoch 169| loss: 0.15816 | train_mse: 0.085   | train_mae: 0.23069 |  0:00:15s\n",
      "epoch 170| loss: 0.24649 | train_mse: 0.08356 | train_mae: 0.22974 |  0:00:15s\n"
     ]
    },
    {
     "name": "stdout",
     "output_type": "stream",
     "text": [
      "epoch 171| loss: 0.11728 | train_mse: 0.08274 | train_mae: 0.22694 |  0:00:15s\n",
      "epoch 172| loss: 0.16067 | train_mse: 0.08534 | train_mae: 0.23306 |  0:00:15s\n"
     ]
    },
    {
     "name": "stdout",
     "output_type": "stream",
     "text": [
      "epoch 173| loss: 0.21983 | train_mse: 0.08754 | train_mae: 0.23474 |  0:00:15s\n",
      "epoch 174| loss: 0.14571 | train_mse: 0.08962 | train_mae: 0.23705 |  0:00:16s\n",
      "epoch 175| loss: 0.20189 | train_mse: 0.09054 | train_mae: 0.23701 |  0:00:16s\n"
     ]
    },
    {
     "name": "stdout",
     "output_type": "stream",
     "text": [
      "epoch 176| loss: 0.14717 | train_mse: 0.09058 | train_mae: 0.23593 |  0:00:16s\n"
     ]
    },
    {
     "name": "stdout",
     "output_type": "stream",
     "text": [
      "epoch 177| loss: 0.23832 | train_mse: 0.09142 | train_mae: 0.23656 |  0:00:16s\n"
     ]
    },
    {
     "name": "stdout",
     "output_type": "stream",
     "text": [
      "epoch 178| loss: 0.18049 | train_mse: 0.09186 | train_mae: 0.237   |  0:00:17s\n"
     ]
    },
    {
     "name": "stdout",
     "output_type": "stream",
     "text": [
      "epoch 179| loss: 0.13327 | train_mse: 0.08945 | train_mae: 0.23542 |  0:00:17s\n",
      "epoch 180| loss: 0.21996 | train_mse: 0.08884 | train_mae: 0.23518 |  0:00:17s\n"
     ]
    },
    {
     "name": "stdout",
     "output_type": "stream",
     "text": [
      "epoch 181| loss: 0.13404 | train_mse: 0.08788 | train_mae: 0.23472 |  0:00:18s\n",
      "epoch 182| loss: 0.22094 | train_mse: 0.08693 | train_mae: 0.23295 |  0:00:18s\n"
     ]
    },
    {
     "name": "stdout",
     "output_type": "stream",
     "text": [
      "epoch 183| loss: 0.19308 | train_mse: 0.08748 | train_mae: 0.23382 |  0:00:18s\n",
      "epoch 184| loss: 0.21321 | train_mse: 0.08984 | train_mae: 0.23725 |  0:00:18s\n",
      "epoch 185| loss: 0.17053 | train_mse: 0.09438 | train_mae: 0.24155 |  0:00:18s\n"
     ]
    },
    {
     "name": "stdout",
     "output_type": "stream",
     "text": [
      "epoch 186| loss: 0.15159 | train_mse: 0.09778 | train_mae: 0.2444  |  0:00:18s\n",
      "epoch 187| loss: 0.12926 | train_mse: 0.09698 | train_mae: 0.24382 |  0:00:18s\n",
      "epoch 188| loss: 0.2207  | train_mse: 0.0942  | train_mae: 0.24064 |  0:00:18s\n"
     ]
    },
    {
     "name": "stdout",
     "output_type": "stream",
     "text": [
      "epoch 189| loss: 0.22333 | train_mse: 0.0887  | train_mae: 0.23484 |  0:00:18s\n",
      "epoch 190| loss: 0.13032 | train_mse: 0.08761 | train_mae: 0.23446 |  0:00:18s\n"
     ]
    },
    {
     "name": "stdout",
     "output_type": "stream",
     "text": [
      "epoch 191| loss: 0.18891 | train_mse: 0.08566 | train_mae: 0.23101 |  0:00:18s\n",
      "epoch 192| loss: 0.19617 | train_mse: 0.08521 | train_mae: 0.23014 |  0:00:19s\n",
      "epoch 193| loss: 0.15525 | train_mse: 0.08576 | train_mae: 0.23153 |  0:00:19s\n"
     ]
    },
    {
     "name": "stdout",
     "output_type": "stream",
     "text": [
      "epoch 194| loss: 0.14592 | train_mse: 0.08629 | train_mae: 0.2317  |  0:00:19s\n",
      "epoch 195| loss: 0.22412 | train_mse: 0.08626 | train_mae: 0.22901 |  0:00:19s\n",
      "epoch 196| loss: 0.17381 | train_mse: 0.08769 | train_mae: 0.23146 |  0:00:19s\n"
     ]
    },
    {
     "name": "stdout",
     "output_type": "stream",
     "text": [
      "epoch 197| loss: 0.20072 | train_mse: 0.08827 | train_mae: 0.23365 |  0:00:19s\n",
      "epoch 198| loss: 0.15167 | train_mse: 0.08887 | train_mae: 0.23354 |  0:00:19s\n",
      "epoch 199| loss: 0.18033 | train_mse: 0.08787 | train_mae: 0.23125 |  0:00:19s\n"
     ]
    },
    {
     "name": "stdout",
     "output_type": "stream",
     "text": [
      "epoch 200| loss: 0.10809 | train_mse: 0.08521 | train_mae: 0.22941 |  0:00:19s\n",
      "epoch 201| loss: 0.12532 | train_mse: 0.08159 | train_mae: 0.22296 |  0:00:19s\n"
     ]
    },
    {
     "name": "stdout",
     "output_type": "stream",
     "text": [
      "epoch 202| loss: 0.19604 | train_mse: 0.08305 | train_mae: 0.22399 |  0:00:19s\n",
      "epoch 203| loss: 0.10363 | train_mse: 0.08102 | train_mae: 0.22153 |  0:00:20s\n",
      "epoch 204| loss: 0.20027 | train_mse: 0.08505 | train_mae: 0.22482 |  0:00:20s\n"
     ]
    },
    {
     "name": "stdout",
     "output_type": "stream",
     "text": [
      "epoch 205| loss: 0.15416 | train_mse: 0.09831 | train_mae: 0.23501 |  0:00:20s\n",
      "epoch 206| loss: 0.23529 | train_mse: 0.11338 | train_mae: 0.24551 |  0:00:20s\n",
      "epoch 207| loss: 0.14316 | train_mse: 0.11331 | train_mae: 0.24779 |  0:00:20s\n"
     ]
    },
    {
     "name": "stdout",
     "output_type": "stream",
     "text": [
      "epoch 208| loss: 0.21126 | train_mse: 0.10563 | train_mae: 0.2435  |  0:00:20s\n",
      "epoch 209| loss: 0.20742 | train_mse: 0.10249 | train_mae: 0.23948 |  0:00:20s\n",
      "epoch 210| loss: 0.11629 | train_mse: 0.09648 | train_mae: 0.23512 |  0:00:20s\n"
     ]
    },
    {
     "name": "stdout",
     "output_type": "stream",
     "text": [
      "epoch 211| loss: 0.1589  | train_mse: 0.08852 | train_mae: 0.22992 |  0:00:20s\n",
      "epoch 212| loss: 0.14095 | train_mse: 0.08867 | train_mae: 0.22962 |  0:00:20s\n",
      "epoch 213| loss: 0.16136 | train_mse: 0.08474 | train_mae: 0.22741 |  0:00:20s\n"
     ]
    },
    {
     "name": "stdout",
     "output_type": "stream",
     "text": [
      "epoch 214| loss: 0.27381 | train_mse: 0.08186 | train_mae: 0.22421 |  0:00:21s\n",
      "epoch 215| loss: 0.14284 | train_mse: 0.08313 | train_mae: 0.2275  |  0:00:21s\n",
      "epoch 216| loss: 0.16955 | train_mse: 0.08173 | train_mae: 0.22733 |  0:00:21s\n"
     ]
    },
    {
     "name": "stdout",
     "output_type": "stream",
     "text": [
      "epoch 217| loss: 0.29976 | train_mse: 0.08605 | train_mae: 0.23254 |  0:00:21s\n",
      "epoch 218| loss: 0.11552 | train_mse: 0.08687 | train_mae: 0.23323 |  0:00:21s\n",
      "epoch 219| loss: 0.19743 | train_mse: 0.0857  | train_mae: 0.23171 |  0:00:21s\n"
     ]
    },
    {
     "name": "stdout",
     "output_type": "stream",
     "text": [
      "epoch 220| loss: 0.14117 | train_mse: 0.08448 | train_mae: 0.22994 |  0:00:21s\n",
      "epoch 221| loss: 0.13277 | train_mse: 0.08212 | train_mae: 0.22699 |  0:00:21s\n",
      "epoch 222| loss: 0.15522 | train_mse: 0.08027 | train_mae: 0.22418 |  0:00:21s\n"
     ]
    },
    {
     "name": "stdout",
     "output_type": "stream",
     "text": [
      "epoch 223| loss: 0.33225 | train_mse: 0.07843 | train_mae: 0.221   |  0:00:21s\n",
      "epoch 224| loss: 0.25711 | train_mse: 0.07696 | train_mae: 0.21966 |  0:00:21s\n",
      "epoch 225| loss: 0.18078 | train_mse: 0.07266 | train_mae: 0.21359 |  0:00:21s\n"
     ]
    },
    {
     "name": "stdout",
     "output_type": "stream",
     "text": [
      "epoch 226| loss: 0.13981 | train_mse: 0.07351 | train_mae: 0.21322 |  0:00:22s\n",
      "epoch 227| loss: 0.09628 | train_mse: 0.07319 | train_mae: 0.21161 |  0:00:22s\n",
      "epoch 228| loss: 0.29411 | train_mse: 0.07481 | train_mae: 0.21262 |  0:00:22s\n"
     ]
    },
    {
     "name": "stdout",
     "output_type": "stream",
     "text": [
      "epoch 229| loss: 0.15344 | train_mse: 0.07729 | train_mae: 0.21502 |  0:00:22s\n",
      "epoch 230| loss: 0.1609  | train_mse: 0.07765 | train_mae: 0.21649 |  0:00:22s\n",
      "epoch 231| loss: 0.10588 | train_mse: 0.07632 | train_mae: 0.21387 |  0:00:22s\n"
     ]
    },
    {
     "name": "stdout",
     "output_type": "stream",
     "text": [
      "epoch 232| loss: 0.124   | train_mse: 0.07774 | train_mae: 0.21547 |  0:00:22s\n",
      "epoch 233| loss: 0.13667 | train_mse: 0.07905 | train_mae: 0.2173  |  0:00:22s\n",
      "epoch 234| loss: 0.13873 | train_mse: 0.08035 | train_mae: 0.21798 |  0:00:22s\n"
     ]
    },
    {
     "name": "stdout",
     "output_type": "stream",
     "text": [
      "epoch 235| loss: 0.17124 | train_mse: 0.0784  | train_mae: 0.21497 |  0:00:22s\n",
      "epoch 236| loss: 0.12355 | train_mse: 0.08032 | train_mae: 0.2156  |  0:00:22s\n",
      "epoch 237| loss: 0.1117  | train_mse: 0.07712 | train_mae: 0.21055 |  0:00:23s\n"
     ]
    },
    {
     "name": "stdout",
     "output_type": "stream",
     "text": [
      "epoch 238| loss: 0.11337 | train_mse: 0.07557 | train_mae: 0.20906 |  0:00:23s\n",
      "epoch 239| loss: 0.15658 | train_mse: 0.07434 | train_mae: 0.20735 |  0:00:23s\n",
      "epoch 240| loss: 0.12609 | train_mse: 0.07478 | train_mae: 0.20979 |  0:00:23s\n"
     ]
    },
    {
     "name": "stdout",
     "output_type": "stream",
     "text": [
      "epoch 241| loss: 0.26954 | train_mse: 0.06984 | train_mae: 0.20402 |  0:00:23s\n",
      "epoch 242| loss: 0.14859 | train_mse: 0.06776 | train_mae: 0.20362 |  0:00:23s\n",
      "epoch 243| loss: 0.09856 | train_mse: 0.06771 | train_mae: 0.20509 |  0:00:23s\n"
     ]
    },
    {
     "name": "stdout",
     "output_type": "stream",
     "text": [
      "epoch 244| loss: 0.17329 | train_mse: 0.06894 | train_mae: 0.20786 |  0:00:23s\n",
      "epoch 245| loss: 0.10973 | train_mse: 0.07109 | train_mae: 0.21205 |  0:00:23s\n",
      "epoch 246| loss: 0.08881 | train_mse: 0.07122 | train_mae: 0.21406 |  0:00:23s\n"
     ]
    },
    {
     "name": "stdout",
     "output_type": "stream",
     "text": [
      "epoch 247| loss: 0.14397 | train_mse: 0.06958 | train_mae: 0.21316 |  0:00:23s\n",
      "epoch 248| loss: 0.09147 | train_mse: 0.07089 | train_mae: 0.21478 |  0:00:24s\n",
      "epoch 249| loss: 0.12777 | train_mse: 0.07391 | train_mae: 0.21778 |  0:00:24s\n"
     ]
    },
    {
     "name": "stdout",
     "output_type": "stream",
     "text": [
      "epoch 250| loss: 0.19674 | train_mse: 0.07636 | train_mae: 0.21966 |  0:00:24s\n",
      "epoch 251| loss: 0.24708 | train_mse: 0.07214 | train_mae: 0.21048 |  0:00:24s\n",
      "epoch 252| loss: 0.26177 | train_mse: 0.07501 | train_mae: 0.21081 |  0:00:24s\n"
     ]
    },
    {
     "name": "stdout",
     "output_type": "stream",
     "text": [
      "epoch 253| loss: 0.13341 | train_mse: 0.07613 | train_mae: 0.20939 |  0:00:24s\n",
      "epoch 254| loss: 0.14227 | train_mse: 0.07581 | train_mae: 0.20963 |  0:00:24s\n",
      "epoch 255| loss: 0.14019 | train_mse: 0.07307 | train_mae: 0.20749 |  0:00:24s\n"
     ]
    },
    {
     "name": "stdout",
     "output_type": "stream",
     "text": [
      "epoch 256| loss: 0.24317 | train_mse: 0.06835 | train_mae: 0.20293 |  0:00:24s\n",
      "epoch 257| loss: 0.10614 | train_mse: 0.06492 | train_mae: 0.19897 |  0:00:24s\n"
     ]
    },
    {
     "name": "stdout",
     "output_type": "stream",
     "text": [
      "epoch 258| loss: 0.08709 | train_mse: 0.07017 | train_mae: 0.20237 |  0:00:24s\n",
      "epoch 259| loss: 0.22483 | train_mse: 0.07925 | train_mae: 0.20778 |  0:00:24s\n",
      "epoch 260| loss: 0.13175 | train_mse: 0.09208 | train_mae: 0.21259 |  0:00:25s\n"
     ]
    },
    {
     "name": "stdout",
     "output_type": "stream",
     "text": [
      "epoch 261| loss: 0.10237 | train_mse: 0.09808 | train_mae: 0.21735 |  0:00:25s\n",
      "epoch 262| loss: 0.29381 | train_mse: 0.09459 | train_mae: 0.21679 |  0:00:25s\n",
      "epoch 263| loss: 0.14698 | train_mse: 0.09994 | train_mae: 0.2215  |  0:00:25s\n"
     ]
    },
    {
     "name": "stdout",
     "output_type": "stream",
     "text": [
      "epoch 264| loss: 0.09428 | train_mse: 0.09171 | train_mae: 0.22098 |  0:00:25s\n",
      "epoch 265| loss: 0.08135 | train_mse: 0.07812 | train_mae: 0.21502 |  0:00:25s\n",
      "epoch 266| loss: 0.10913 | train_mse: 0.06636 | train_mae: 0.20757 |  0:00:25s\n"
     ]
    },
    {
     "name": "stdout",
     "output_type": "stream",
     "text": [
      "epoch 267| loss: 0.107   | train_mse: 0.0613  | train_mae: 0.20164 |  0:00:25s\n",
      "epoch 268| loss: 0.11286 | train_mse: 0.0603  | train_mae: 0.19736 |  0:00:25s\n",
      "epoch 269| loss: 0.14824 | train_mse: 0.05826 | train_mae: 0.19148 |  0:00:25s\n"
     ]
    },
    {
     "name": "stdout",
     "output_type": "stream",
     "text": [
      "epoch 270| loss: 0.17303 | train_mse: 0.05919 | train_mae: 0.19176 |  0:00:25s\n",
      "epoch 271| loss: 0.19169 | train_mse: 0.05852 | train_mae: 0.18954 |  0:00:25s\n",
      "epoch 272| loss: 0.2012  | train_mse: 0.06313 | train_mae: 0.19729 |  0:00:26s\n"
     ]
    },
    {
     "name": "stdout",
     "output_type": "stream",
     "text": [
      "epoch 273| loss: 0.1731  | train_mse: 0.06967 | train_mae: 0.20572 |  0:00:26s\n",
      "epoch 274| loss: 0.12736 | train_mse: 0.07332 | train_mae: 0.209   |  0:00:26s\n",
      "epoch 275| loss: 0.13143 | train_mse: 0.07674 | train_mae: 0.21138 |  0:00:26s\n"
     ]
    },
    {
     "name": "stdout",
     "output_type": "stream",
     "text": [
      "epoch 276| loss: 0.33733 | train_mse: 0.07706 | train_mae: 0.21151 |  0:00:26s\n",
      "epoch 277| loss: 0.25533 | train_mse: 0.07444 | train_mae: 0.20831 |  0:00:26s\n",
      "epoch 278| loss: 0.18283 | train_mse: 0.07665 | train_mae: 0.20996 |  0:00:26s\n"
     ]
    },
    {
     "name": "stdout",
     "output_type": "stream",
     "text": [
      "epoch 279| loss: 0.12803 | train_mse: 0.07551 | train_mae: 0.20948 |  0:00:26s\n",
      "epoch 280| loss: 0.14266 | train_mse: 0.07202 | train_mae: 0.20654 |  0:00:26s\n"
     ]
    },
    {
     "name": "stdout",
     "output_type": "stream",
     "text": [
      "epoch 281| loss: 0.09328 | train_mse: 0.07046 | train_mae: 0.20394 |  0:00:26s\n",
      "epoch 282| loss: 0.14127 | train_mse: 0.06877 | train_mae: 0.20294 |  0:00:26s\n",
      "epoch 283| loss: 0.231   | train_mse: 0.06552 | train_mae: 0.20023 |  0:00:27s\n"
     ]
    },
    {
     "name": "stdout",
     "output_type": "stream",
     "text": [
      "epoch 284| loss: 0.21664 | train_mse: 0.06483 | train_mae: 0.19891 |  0:00:27s\n",
      "epoch 285| loss: 0.10985 | train_mse: 0.0642  | train_mae: 0.19777 |  0:00:27s\n",
      "epoch 286| loss: 0.15555 | train_mse: 0.06307 | train_mae: 0.19555 |  0:00:27s\n"
     ]
    },
    {
     "name": "stdout",
     "output_type": "stream",
     "text": [
      "epoch 287| loss: 0.28696 | train_mse: 0.06242 | train_mae: 0.19417 |  0:00:27s\n",
      "epoch 288| loss: 0.22998 | train_mse: 0.06098 | train_mae: 0.1925  |  0:00:27s\n",
      "epoch 289| loss: 0.17857 | train_mse: 0.06024 | train_mae: 0.19144 |  0:00:27s\n"
     ]
    },
    {
     "name": "stdout",
     "output_type": "stream",
     "text": [
      "epoch 290| loss: 0.12482 | train_mse: 0.05943 | train_mae: 0.18785 |  0:00:27s\n",
      "epoch 291| loss: 0.06487 | train_mse: 0.05957 | train_mae: 0.19053 |  0:00:27s\n"
     ]
    },
    {
     "name": "stdout",
     "output_type": "stream",
     "text": [
      "epoch 292| loss: 0.09424 | train_mse: 0.06022 | train_mae: 0.19105 |  0:00:27s\n",
      "epoch 293| loss: 0.1082  | train_mse: 0.0584  | train_mae: 0.18833 |  0:00:27s\n",
      "epoch 294| loss: 0.08337 | train_mse: 0.05657 | train_mae: 0.18638 |  0:00:28s\n"
     ]
    },
    {
     "name": "stdout",
     "output_type": "stream",
     "text": [
      "epoch 295| loss: 0.20967 | train_mse: 0.05539 | train_mae: 0.18628 |  0:00:28s\n",
      "epoch 296| loss: 0.11426 | train_mse: 0.05582 | train_mae: 0.1878  |  0:00:28s\n",
      "epoch 297| loss: 0.3588  | train_mse: 0.05283 | train_mae: 0.18419 |  0:00:28s\n"
     ]
    },
    {
     "name": "stdout",
     "output_type": "stream",
     "text": [
      "epoch 298| loss: 0.21819 | train_mse: 0.05198 | train_mae: 0.18312 |  0:00:28s\n",
      "epoch 299| loss: 0.08163 | train_mse: 0.05201 | train_mae: 0.18234 |  0:00:28s\n",
      "epoch 300| loss: 0.07578 | train_mse: 0.05237 | train_mae: 0.1831  |  0:00:28s\n"
     ]
    },
    {
     "name": "stdout",
     "output_type": "stream",
     "text": [
      "epoch 301| loss: 0.15235 | train_mse: 0.05132 | train_mae: 0.18175 |  0:00:28s\n",
      "epoch 302| loss: 0.07485 | train_mse: 0.05129 | train_mae: 0.17958 |  0:00:28s\n"
     ]
    },
    {
     "name": "stdout",
     "output_type": "stream",
     "text": [
      "epoch 303| loss: 0.09388 | train_mse: 0.0591  | train_mae: 0.1871  |  0:00:28s\n",
      "epoch 304| loss: 0.07512 | train_mse: 0.06869 | train_mae: 0.19598 |  0:00:28s\n",
      "epoch 305| loss: 0.12131 | train_mse: 0.07987 | train_mae: 0.20357 |  0:00:29s\n"
     ]
    },
    {
     "name": "stdout",
     "output_type": "stream",
     "text": [
      "epoch 306| loss: 0.11742 | train_mse: 0.08659 | train_mae: 0.20769 |  0:00:29s\n",
      "epoch 307| loss: 0.10967 | train_mse: 0.08266 | train_mae: 0.20407 |  0:00:29s\n",
      "epoch 308| loss: 0.17688 | train_mse: 0.06356 | train_mae: 0.19044 |  0:00:29s\n"
     ]
    },
    {
     "name": "stdout",
     "output_type": "stream",
     "text": [
      "epoch 309| loss: 0.19274 | train_mse: 0.05151 | train_mae: 0.1798  |  0:00:29s\n",
      "epoch 310| loss: 0.13574 | train_mse: 0.04726 | train_mae: 0.17387 |  0:00:29s\n",
      "epoch 311| loss: 0.17661 | train_mse: 0.04829 | train_mae: 0.17391 |  0:00:29s\n"
     ]
    },
    {
     "name": "stdout",
     "output_type": "stream",
     "text": [
      "epoch 312| loss: 0.08186 | train_mse: 0.05542 | train_mae: 0.18103 |  0:00:29s\n",
      "epoch 313| loss: 0.09763 | train_mse: 0.06465 | train_mae: 0.18718 |  0:00:29s\n",
      "epoch 314| loss: 0.18346 | train_mse: 0.06885 | train_mae: 0.18991 |  0:00:29s\n"
     ]
    },
    {
     "name": "stdout",
     "output_type": "stream",
     "text": [
      "epoch 315| loss: 0.16182 | train_mse: 0.06227 | train_mae: 0.18864 |  0:00:29s\n",
      "epoch 316| loss: 0.08982 | train_mse: 0.06163 | train_mae: 0.18839 |  0:00:30s\n",
      "epoch 317| loss: 0.11427 | train_mse: 0.06875 | train_mae: 0.19517 |  0:00:30s\n"
     ]
    },
    {
     "name": "stdout",
     "output_type": "stream",
     "text": [
      "epoch 318| loss: 0.20388 | train_mse: 0.06981 | train_mae: 0.19659 |  0:00:30s\n",
      "epoch 319| loss: 0.17811 | train_mse: 0.0717  | train_mae: 0.19935 |  0:00:30s\n",
      "epoch 320| loss: 0.12329 | train_mse: 0.07069 | train_mae: 0.19817 |  0:00:30s\n"
     ]
    },
    {
     "name": "stdout",
     "output_type": "stream",
     "text": [
      "epoch 321| loss: 0.13276 | train_mse: 0.06057 | train_mae: 0.18985 |  0:00:30s\n",
      "epoch 322| loss: 0.10019 | train_mse: 0.05495 | train_mae: 0.1805  |  0:00:30s\n",
      "epoch 323| loss: 0.12337 | train_mse: 0.05797 | train_mae: 0.18348 |  0:00:30s\n"
     ]
    },
    {
     "name": "stdout",
     "output_type": "stream",
     "text": [
      "epoch 324| loss: 0.09878 | train_mse: 0.06886 | train_mae: 0.18318 |  0:00:30s\n",
      "epoch 325| loss: 0.1464  | train_mse: 0.0592  | train_mae: 0.1771  |  0:00:30s\n"
     ]
    },
    {
     "name": "stdout",
     "output_type": "stream",
     "text": [
      "epoch 326| loss: 0.25869 | train_mse: 0.05621 | train_mae: 0.17556 |  0:00:30s\n",
      "epoch 327| loss: 0.14008 | train_mse: 0.05884 | train_mae: 0.17401 |  0:00:31s\n",
      "epoch 328| loss: 0.12305 | train_mse: 0.06417 | train_mae: 0.17588 |  0:00:31s\n"
     ]
    },
    {
     "name": "stdout",
     "output_type": "stream",
     "text": [
      "epoch 329| loss: 0.17625 | train_mse: 0.04623 | train_mae: 0.16735 |  0:00:31s\n",
      "epoch 330| loss: 0.08398 | train_mse: 0.04544 | train_mae: 0.16619 |  0:00:31s\n",
      "epoch 331| loss: 0.09961 | train_mse: 0.04862 | train_mae: 0.17137 |  0:00:31s\n"
     ]
    },
    {
     "name": "stdout",
     "output_type": "stream",
     "text": [
      "epoch 332| loss: 0.10517 | train_mse: 0.05051 | train_mae: 0.17454 |  0:00:31s\n",
      "epoch 333| loss: 0.09549 | train_mse: 0.05239 | train_mae: 0.17689 |  0:00:31s\n",
      "epoch 334| loss: 0.13453 | train_mse: 0.05212 | train_mae: 0.17696 |  0:00:31s\n"
     ]
    },
    {
     "name": "stdout",
     "output_type": "stream",
     "text": [
      "epoch 335| loss: 0.14972 | train_mse: 0.05311 | train_mae: 0.17947 |  0:00:31s\n",
      "epoch 336| loss: 0.15251 | train_mse: 0.05344 | train_mae: 0.18068 |  0:00:31s\n",
      "epoch 337| loss: 0.14375 | train_mse: 0.05268 | train_mae: 0.17964 |  0:00:31s\n"
     ]
    },
    {
     "name": "stdout",
     "output_type": "stream",
     "text": [
      "epoch 338| loss: 0.26191 | train_mse: 0.05156 | train_mae: 0.1787  |  0:00:31s\n",
      "epoch 339| loss: 0.12824 | train_mse: 0.05179 | train_mae: 0.17916 |  0:00:32s\n",
      "epoch 340| loss: 0.06859 | train_mse: 0.05092 | train_mae: 0.17745 |  0:00:32s\n"
     ]
    },
    {
     "name": "stdout",
     "output_type": "stream",
     "text": [
      "epoch 341| loss: 0.11256 | train_mse: 0.04894 | train_mae: 0.17453 |  0:00:32s\n",
      "epoch 342| loss: 0.11016 | train_mse: 0.04813 | train_mae: 0.17235 |  0:00:32s\n",
      "epoch 343| loss: 0.05216 | train_mse: 0.04785 | train_mae: 0.16995 |  0:00:32s\n"
     ]
    },
    {
     "name": "stdout",
     "output_type": "stream",
     "text": [
      "epoch 344| loss: 0.14199 | train_mse: 0.04852 | train_mae: 0.1703  |  0:00:32s\n",
      "epoch 345| loss: 0.09506 | train_mse: 0.04734 | train_mae: 0.1701  |  0:00:32s\n",
      "epoch 346| loss: 0.16393 | train_mse: 0.04644 | train_mae: 0.16938 |  0:00:32s\n"
     ]
    },
    {
     "name": "stdout",
     "output_type": "stream",
     "text": [
      "epoch 347| loss: 0.11146 | train_mse: 0.04853 | train_mae: 0.17573 |  0:00:32s\n",
      "epoch 348| loss: 0.0925  | train_mse: 0.06517 | train_mae: 0.18867 |  0:00:32s\n",
      "epoch 349| loss: 0.10358 | train_mse: 0.06628 | train_mae: 0.1911  |  0:00:32s\n"
     ]
    },
    {
     "name": "stdout",
     "output_type": "stream",
     "text": [
      "epoch 350| loss: 0.10751 | train_mse: 0.05343 | train_mae: 0.18803 |  0:00:32s\n",
      "epoch 351| loss: 0.09348 | train_mse: 0.05048 | train_mae: 0.18603 |  0:00:33s\n",
      "epoch 352| loss: 0.17502 | train_mse: 0.04849 | train_mae: 0.18419 |  0:00:33s\n"
     ]
    },
    {
     "name": "stdout",
     "output_type": "stream",
     "text": [
      "epoch 353| loss: 0.09989 | train_mse: 0.049   | train_mae: 0.18484 |  0:00:33s\n",
      "epoch 354| loss: 0.14952 | train_mse: 0.04857 | train_mae: 0.18297 |  0:00:33s\n",
      "epoch 355| loss: 0.08529 | train_mse: 0.04931 | train_mae: 0.18425 |  0:00:33s\n"
     ]
    },
    {
     "name": "stdout",
     "output_type": "stream",
     "text": [
      "epoch 356| loss: 0.16013 | train_mse: 0.05162 | train_mae: 0.18604 |  0:00:33s\n",
      "epoch 357| loss: 0.12012 | train_mse: 0.05271 | train_mae: 0.18743 |  0:00:33s\n",
      "epoch 358| loss: 0.0907  | train_mse: 0.05531 | train_mae: 0.19094 |  0:00:33s\n"
     ]
    },
    {
     "name": "stdout",
     "output_type": "stream",
     "text": [
      "epoch 359| loss: 0.19022 | train_mse: 0.05223 | train_mae: 0.18818 |  0:00:33s\n",
      "epoch 360| loss: 0.10746 | train_mse: 0.0574  | train_mae: 0.19072 |  0:00:33s\n",
      "epoch 361| loss: 0.17228 | train_mse: 0.06445 | train_mae: 0.19166 |  0:00:33s\n"
     ]
    },
    {
     "name": "stdout",
     "output_type": "stream",
     "text": [
      "epoch 362| loss: 0.09745 | train_mse: 0.06753 | train_mae: 0.19308 |  0:00:34s\n",
      "epoch 363| loss: 0.11729 | train_mse: 0.0692  | train_mae: 0.19172 |  0:00:34s\n",
      "epoch 364| loss: 0.27006 | train_mse: 0.06442 | train_mae: 0.18727 |  0:00:34s\n"
     ]
    },
    {
     "name": "stdout",
     "output_type": "stream",
     "text": [
      "epoch 365| loss: 0.08462 | train_mse: 0.0575  | train_mae: 0.18114 |  0:00:34s\n",
      "epoch 366| loss: 0.07993 | train_mse: 0.05279 | train_mae: 0.17765 |  0:00:34s\n",
      "epoch 367| loss: 0.11988 | train_mse: 0.05016 | train_mae: 0.1777  |  0:00:34s\n"
     ]
    },
    {
     "name": "stdout",
     "output_type": "stream",
     "text": [
      "epoch 368| loss: 0.07863 | train_mse: 0.04581 | train_mae: 0.17349 |  0:00:34s\n",
      "epoch 369| loss: 0.08898 | train_mse: 0.04696 | train_mae: 0.17513 |  0:00:34s\n",
      "epoch 370| loss: 0.20131 | train_mse: 0.04605 | train_mae: 0.17275 |  0:00:34s\n"
     ]
    },
    {
     "name": "stdout",
     "output_type": "stream",
     "text": [
      "epoch 371| loss: 0.1511  | train_mse: 0.0464  | train_mae: 0.17335 |  0:00:34s\n",
      "epoch 372| loss: 0.12457 | train_mse: 0.04905 | train_mae: 0.17729 |  0:00:34s\n"
     ]
    },
    {
     "name": "stdout",
     "output_type": "stream",
     "text": [
      "epoch 373| loss: 0.17729 | train_mse: 0.05219 | train_mae: 0.18161 |  0:00:34s\n",
      "epoch 374| loss: 0.11023 | train_mse: 0.0543  | train_mae: 0.18461 |  0:00:35s\n",
      "epoch 375| loss: 0.11774 | train_mse: 0.05731 | train_mae: 0.18837 |  0:00:35s\n"
     ]
    },
    {
     "name": "stdout",
     "output_type": "stream",
     "text": [
      "epoch 376| loss: 0.07172 | train_mse: 0.05952 | train_mae: 0.19046 |  0:00:35s\n",
      "epoch 377| loss: 0.13242 | train_mse: 0.05475 | train_mae: 0.18284 |  0:00:35s\n",
      "epoch 378| loss: 0.09052 | train_mse: 0.05189 | train_mae: 0.17808 |  0:00:35s\n"
     ]
    },
    {
     "name": "stdout",
     "output_type": "stream",
     "text": [
      "epoch 379| loss: 0.26983 | train_mse: 0.05058 | train_mae: 0.17352 |  0:00:35s\n",
      "epoch 380| loss: 0.06818 | train_mse: 0.05893 | train_mae: 0.17944 |  0:00:35s\n",
      "\n",
      "Early stopping occurred at epoch 380 with best_epoch = 330 and best_train_mae = 0.16619\n",
      "Best weights from best epoch are automatically used!\n"
     ]
    }
   ],
   "source": [
    "#Train the Model\n",
    "\n",
    "Y_train = np.reshape(Y_train, (-1, 1))\n",
    "Y_test = np.reshape(Y_test, (-1, 1))\n",
    "\n",
    "prior_model = TabNetRegressor(optimizer_fn=torch.optim.Adam, optimizer_params=dict(lr = 0.001),\n",
    "          #scheduler_params={\"step_size\":10, ], \"gamma\":0.9},\n",
    "          #scheduler_fn=torch.optim.lr_scheduler.StepLR\n",
    "          )  #TabNetRegressor()\n",
    "\n",
    "prior_model.fit(X_train,Y_train,eval_set=[(X_train, Y_train)],\n",
    "            eval_name=['train'], \n",
    "            eval_metric=[ 'mse', 'mae'], \n",
    "            max_epochs = n_epochs, \n",
    "            batch_size = batch_size,\n",
    "            patience=50\n",
    "            )"
   ]
  },
  {
   "cell_type": "code",
   "execution_count": 10,
   "id": "af65dcda",
   "metadata": {
    "execution": {
     "iopub.execute_input": "2022-07-22T08:19:22.878999Z",
     "iopub.status.busy": "2022-07-22T08:19:22.878635Z",
     "iopub.status.idle": "2022-07-22T08:19:22.931146Z",
     "shell.execute_reply": "2022-07-22T08:19:22.929882Z"
    },
    "id": "af65dcda",
    "papermill": {
     "duration": 0.075836,
     "end_time": "2022-07-22T08:19:22.935076",
     "exception": false,
     "start_time": "2022-07-22T08:19:22.859240",
     "status": "completed"
    },
    "tags": []
   },
   "outputs": [
    {
     "data": {
      "application/scrapbook.scrap.json+json": {
       "data": 0.22657986668787822,
       "encoder": "json",
       "name": "Prior Model MSE",
       "version": 1
      }
     },
     "metadata": {
      "scrapbook": {
       "data": true,
       "display": false,
       "name": "Prior Model MSE"
      }
     },
     "output_type": "display_data"
    },
    {
     "data": {
      "application/scrapbook.scrap.json+json": {
       "data": 1.0014581775301101,
       "encoder": "json",
       "name": "ABC Pre-generator MSE",
       "version": 1
      }
     },
     "metadata": {
      "scrapbook": {
       "data": true,
       "display": false,
       "name": "ABC Pre-generator MSE"
      }
     },
     "output_type": "display_data"
    },
    {
     "data": {
      "application/scrapbook.scrap.json+json": {
       "data": 0.3567768771012406,
       "encoder": "json",
       "name": "Prior Model MAE",
       "version": 1
      }
     },
     "metadata": {
      "scrapbook": {
       "data": true,
       "display": false,
       "name": "Prior Model MAE"
      }
     },
     "output_type": "display_data"
    },
    {
     "name": "stdout",
     "output_type": "stream",
     "text": [
      "Prior Model MAE 0.3567768771012406\n"
     ]
    },
    {
     "data": {
      "application/scrapbook.scrap.json+json": {
       "data": 0.9006324155105394,
       "encoder": "json",
       "name": "ABC Pre-generator MAE",
       "version": 1
      }
     },
     "metadata": {
      "scrapbook": {
       "data": true,
       "display": false,
       "name": "ABC Pre-generator MAE"
      }
     },
     "output_type": "display_data"
    },
    {
     "name": "stdout",
     "output_type": "stream",
     "text": [
      "ABC Pre-generator MAE 0.9006324155105394\n"
     ]
    }
   ],
   "source": [
    "y_pred = prior_model.predict(X_test)\n",
    "y_abc = y_pred + np.random.normal(0,variance, y_pred.shape) + bias \n",
    "mse = mean_squared_error(y_pred,Y_test)\n",
    "sb.glue(\"Prior Model MSE\",mse)\n",
    "mse = mean_squared_error(y_abc,Y_test)\n",
    "sb.glue(\"ABC Pre-generator MSE\",mse)\n",
    "mae = mean_absolute_error(y_pred,Y_test)\n",
    "sb.glue(\"Prior Model MAE\",mae)\n",
    "print(\"Prior Model MAE\",mae)\n",
    "mae = mean_absolute_error(y_abc,Y_test)\n",
    "sb.glue(\"ABC Pre-generator MAE\",mae)\n",
    "print(\"ABC Pre-generator MAE\",mae)"
   ]
  },
  {
   "cell_type": "markdown",
   "id": "25609da2",
   "metadata": {
    "papermill": {
     "duration": 0.018093,
     "end_time": "2022-07-22T08:19:22.974963",
     "exception": false,
     "start_time": "2022-07-22T08:19:22.956870",
     "status": "completed"
    },
    "tags": []
   },
   "source": [
    "# mGAN Model"
   ]
  },
  {
   "cell_type": "code",
   "execution_count": 11,
   "id": "dfc3464d",
   "metadata": {
    "execution": {
     "iopub.execute_input": "2022-07-22T08:19:23.013803Z",
     "iopub.status.busy": "2022-07-22T08:19:23.013365Z",
     "iopub.status.idle": "2022-07-22T08:19:23.018024Z",
     "shell.execute_reply": "2022-07-22T08:19:23.016741Z"
    },
    "papermill": {
     "duration": 0.027854,
     "end_time": "2022-07-22T08:19:23.022046",
     "exception": false,
     "start_time": "2022-07-22T08:19:22.994192",
     "status": "completed"
    },
    "tags": []
   },
   "outputs": [],
   "source": [
    "# gen = network.Generator(n_features+1).to(device)\n",
    "# disc = network.Discriminator(n_features+1).to(device)\n",
    "\n",
    "# criterion = torch.nn.BCELoss()\n",
    "# gen_opt = torch.optim.Adam(gen.parameters(), lr=0.001, betas=(0.5, 0.999))\n",
    "# disc_opt = torch.optim.Adam(disc.parameters(), lr=0.001, betas=(0.5, 0.999))"
   ]
  },
  {
   "cell_type": "code",
   "execution_count": 12,
   "id": "b75fdd85",
   "metadata": {
    "execution": {
     "iopub.execute_input": "2022-07-22T08:19:23.065538Z",
     "iopub.status.busy": "2022-07-22T08:19:23.065181Z",
     "iopub.status.idle": "2022-07-22T08:19:23.070317Z",
     "shell.execute_reply": "2022-07-22T08:19:23.069085Z"
    },
    "papermill": {
     "duration": 0.029974,
     "end_time": "2022-07-22T08:19:23.074569",
     "exception": false,
     "start_time": "2022-07-22T08:19:23.044595",
     "status": "completed"
    },
    "tags": []
   },
   "outputs": [],
   "source": [
    "#Training the ABC_GAN \n",
    "# ABC_train_test2.training_GAN(disc,gen,disc_opt,gen_opt,train_data,batch_size,n_epochs,criterion,prior_model,variance,bias,device)"
   ]
  },
  {
   "cell_type": "code",
   "execution_count": 13,
   "id": "1fa7c368",
   "metadata": {
    "execution": {
     "iopub.execute_input": "2022-07-22T08:19:23.124174Z",
     "iopub.status.busy": "2022-07-22T08:19:23.123798Z",
     "iopub.status.idle": "2022-07-22T08:19:23.129039Z",
     "shell.execute_reply": "2022-07-22T08:19:23.127561Z"
    },
    "papermill": {
     "duration": 0.031468,
     "end_time": "2022-07-22T08:19:23.132898",
     "exception": false,
     "start_time": "2022-07-22T08:19:23.101430",
     "status": "completed"
    },
    "tags": []
   },
   "outputs": [],
   "source": [
    "# ABC_GAN1_metrics=ABC_train_test2.test_generator(gen,test_data,prior_model,variance,bias,\"1\",device)\n",
    "# sb.glue(\"ABC_GAN_1 Metrics\",ABC_GAN1_metrics)\n",
    "\n",
    "# print(\"MAE\")\n",
    "# print(mean(ABC_GAN1_metrics[1]))"
   ]
  },
  {
   "cell_type": "code",
   "execution_count": 14,
   "id": "eb22ce5c",
   "metadata": {
    "execution": {
     "iopub.execute_input": "2022-07-22T08:19:23.177775Z",
     "iopub.status.busy": "2022-07-22T08:19:23.177371Z",
     "iopub.status.idle": "2022-07-22T08:19:23.182702Z",
     "shell.execute_reply": "2022-07-22T08:19:23.181039Z"
    },
    "papermill": {
     "duration": 0.031323,
     "end_time": "2022-07-22T08:19:23.186581",
     "exception": false,
     "start_time": "2022-07-22T08:19:23.155258",
     "status": "completed"
    },
    "tags": []
   },
   "outputs": [],
   "source": [
    "# sanityChecks.discProbVsError(train_data,disc,device)\n",
    "# sanityChecks.discProbVsError(test_data,disc,device)"
   ]
  },
  {
   "cell_type": "markdown",
   "id": "13ecea3b",
   "metadata": {
    "papermill": {
     "duration": 0.020417,
     "end_time": "2022-07-22T08:19:23.225661",
     "exception": false,
     "start_time": "2022-07-22T08:19:23.205244",
     "status": "completed"
    },
    "tags": []
   },
   "source": [
    "# mGAN Model with TabNet Generator"
   ]
  },
  {
   "cell_type": "code",
   "execution_count": 15,
   "id": "c6a4a82f",
   "metadata": {
    "execution": {
     "iopub.execute_input": "2022-07-22T08:19:23.266642Z",
     "iopub.status.busy": "2022-07-22T08:19:23.266138Z",
     "iopub.status.idle": "2022-07-22T08:19:23.286194Z",
     "shell.execute_reply": "2022-07-22T08:19:23.284666Z"
    },
    "papermill": {
     "duration": 0.04486,
     "end_time": "2022-07-22T08:19:23.290210",
     "exception": false,
     "start_time": "2022-07-22T08:19:23.245350",
     "status": "completed"
    },
    "tags": []
   },
   "outputs": [],
   "source": [
    "gen2 = network.GeneratorTabnet(n_features+1).to(device)\n",
    "disc2 = network.Discriminator(n_features+1).to(device)\n",
    "\n",
    "criterion = torch.nn.BCELoss()\n",
    "gen_opt = torch.optim.Adam(gen2.parameters(), lr=0.001, betas=(0.5, 0.999))\n",
    "disc_opt = torch.optim.Adam(disc2.parameters(), lr=0.001, betas=(0.5, 0.999))"
   ]
  },
  {
   "cell_type": "code",
   "execution_count": 16,
   "id": "b37f4578",
   "metadata": {
    "execution": {
     "iopub.execute_input": "2022-07-22T08:19:23.340046Z",
     "iopub.status.busy": "2022-07-22T08:19:23.339689Z",
     "iopub.status.idle": "2022-07-22T08:22:04.706264Z",
     "shell.execute_reply": "2022-07-22T08:22:04.705147Z"
    },
    "papermill": {
     "duration": 161.397061,
     "end_time": "2022-07-22T08:22:04.709432",
     "exception": false,
     "start_time": "2022-07-22T08:19:23.312371",
     "status": "completed"
    },
    "tags": []
   },
   "outputs": [
    {
     "data": {
      "image/png": "[encoded data removed]",
      "text/plain": [
       "<Figure size 432x288 with 1 Axes>"
      ]
     },
     "metadata": {
      "needs_background": "light"
     },
     "output_type": "display_data"
    },
    {
     "data": {
      "image/png": "[encoded data removed]",
      "text/plain": [
       "<Figure size 432x288 with 1 Axes>"
      ]
     },
     "metadata": {
      "needs_background": "light"
     },
     "output_type": "display_data"
    }
   ],
   "source": [
    "#Training the ABC_GAN \n",
    "ABC_train_test2.training_GAN(disc2,gen2,disc_opt,gen_opt,train_data,batch_size,n_epochs,criterion,prior_model,variance,bias,device)"
   ]
  },
  {
   "cell_type": "code",
   "execution_count": 17,
   "id": "34b140cb",
   "metadata": {
    "execution": {
     "iopub.execute_input": "2022-07-22T08:22:04.749512Z",
     "iopub.status.busy": "2022-07-22T08:22:04.748974Z",
     "iopub.status.idle": "2022-07-22T08:22:06.429626Z",
     "shell.execute_reply": "2022-07-22T08:22:06.428579Z"
    },
    "papermill": {
     "duration": 1.703917,
     "end_time": "2022-07-22T08:22:06.432426",
     "exception": false,
     "start_time": "2022-07-22T08:22:04.728509",
     "status": "completed"
    },
    "tags": []
   },
   "outputs": [
    {
     "data": {
      "application/scrapbook.scrap.json+json": {
       "data": 0.20605945429985345,
       "encoder": "json",
       "name": "ABC-GAN Model 1 MSE",
       "version": 1
      }
     },
     "metadata": {
      "scrapbook": {
       "data": true,
       "display": false,
       "name": "ABC-GAN Model 1 MSE"
      }
     },
     "output_type": "display_data"
    },
    {
     "data": {
      "application/scrapbook.scrap.json+json": {
       "data": 0.34191558917984366,
       "encoder": "json",
       "name": "ABC-GAN Model 1 MAE",
       "version": 1
      }
     },
     "metadata": {
      "scrapbook": {
       "data": true,
       "display": false,
       "name": "ABC-GAN Model 1 MAE"
      }
     },
     "output_type": "display_data"
    },
    {
     "data": {
      "application/scrapbook.scrap.json+json": {
       "data": 6.838311783596874,
       "encoder": "json",
       "name": "ABC-GAN Model 1 Manhattan Distance",
       "version": 1
      }
     },
     "metadata": {
      "scrapbook": {
       "data": true,
       "display": false,
       "name": "ABC-GAN Model 1 Manhattan Distance"
      }
     },
     "output_type": "display_data"
    },
    {
     "data": {
      "application/scrapbook.scrap.json+json": {
       "data": 2.0300584529907426,
       "encoder": "json",
       "name": "ABC-GAN Model 1 Euclidean distance",
       "version": 1
      }
     },
     "metadata": {
      "scrapbook": {
       "data": true,
       "display": false,
       "name": "ABC-GAN Model 1 Euclidean distance"
      }
     },
     "output_type": "display_data"
    },
    {
     "data": {
      "application/scrapbook.scrap.json+json": {
       "data": [
        [
         0.20716812570255289,
         0.2061650755883857,
         0.20669452391422216,
         0.20825344929313666,
         0.20677874329256102,
         0.20622846712258874,
         0.2049805473720662,
         0.2025953505276889,
         0.20499501694780076,
         0.20727082657696833,
         0.2064111584331516,
         0.20445578498723044,
         0.21023920227482656,
         0.20625239838463577,
         0.20783474737032578,
         0.2057223439915843,
         0.20447808714208798,
         0.20495514560458633,
         0.20480835011790663,
         0.20594526790871334,
         0.2049405779936088,
         0.20305651321104207,
         0.20529797983780887,
         0.2044786299113126,
         0.20558970399902918,
         0.20541974347111128,
         0.20551659236799918,
         0.20598534527089338,
         0.20404324805439816,
         0.2061036726476108,
         0.2081514602899069,
         0.20470131261507912,
         0.20663087581638484,
         0.20712765665152738,
         0.20554932429582032,
         0.20670798065598844,
         0.20723835493589232,
         0.20652808556440191,
         0.20406359833263155,
         0.20447354309368743,
         0.2060876505883445,
         0.2095302563341627,
         0.20582470520463544,
         0.20614282690616498,
         0.20635345280463815,
         0.20298490450438783,
         0.20457952122988612,
         0.20520625568926212,
         0.20628823721162756,
         0.20192412509049013,
         0.20684352489297506,
         0.20666724255704844,
         0.20583822862272294,
         0.20641451839883115,
         0.20623594920470137,
         0.2072403615358401,
         0.20444158015606817,
         0.20640582799852827,
         0.20521312446053344,
         0.20644263275532554,
         0.2065289388584234,
         0.20627567644186412,
         0.20652370973294598,
         0.20611216503761315,
         0.20746221333461962,
         0.20416028164446248,
         0.20576598434593904,
         0.20509540436821289,
         0.20884387048889072,
         0.20601196862885968,
         0.20649148940409673,
         0.20638118409443748,
         0.2073420358899453,
         0.20669487363048233,
         0.20520680177730174,
         0.20620011873674932,
         0.20879916427379905,
         0.20429697333458288,
         0.20672386987617514,
         0.2050947046553527,
         0.20556817379178494,
         0.20718905419900763,
         0.20576520767554154,
         0.20825927730713273,
         0.20691798596746738,
         0.2028674154233642,
         0.20818595731820802,
         0.2059413846297553,
         0.2049920660753261,
         0.20654836280218855,
         0.2078276508078704,
         0.2064296129386463,
         0.20607906284327832,
         0.2076463055396192,
         0.20824590575623142,
         0.20795298183252214,
         0.20818565484194068,
         0.20553666302175794,
         0.20345057013001613,
         0.2058429708136031
        ],
        [
         0.3423157397657633,
         0.3398010466247797,
         0.3417488742619753,
         0.3443631801754236,
         0.34318165965378283,
         0.3446489904075861,
         0.34023049511015413,
         0.3395943511277437,
         0.3404368404299021,
         0.34199076779186727,
         0.3419793080538511,
         0.3417324338108301,
         0.3452619004994631,
         0.3415336225181818,
         0.3443716045469046,
         0.3422718230634928,
         0.3401864130049944,
         0.34185467548668386,
         0.3393842879682779,
         0.3402088966220617,
         0.34130272902548314,
         0.3393772058188915,
         0.3421489018946886,
         0.34086257703602313,
         0.34325600899755954,
         0.34234318844974043,
         0.34189657904207704,
         0.3439462561160326,
         0.34065806604921817,
         0.34217665530741215,
         0.3433355811983347,
         0.33951275758445265,
         0.3413198161870241,
         0.34386010877788065,
         0.34059139527380466,
         0.34125426299870015,
         0.34201471097767355,
         0.3416006673127413,
         0.3398220885545015,
         0.33962091244757175,
         0.34291687197983267,
         0.3470196474343538,
         0.3407467622309923,
         0.34303856901824475,
         0.3435308698564768,
         0.34029312394559386,
         0.3411787111312151,
         0.34208733178675177,
         0.3426671098917723,
         0.3377636898308992,
         0.34233717657625673,
         0.3429703149944544,
         0.34377454333007335,
         0.3428301390260458,
         0.3436104912310839,
         0.3415551718324423,
         0.33903176970779897,
         0.3440216276794672,
         0.341113855317235,
         0.34149383045732973,
         0.34199898354709146,
         0.34326210953295233,
         0.3417525667697191,
         0.3419956464320421,
         0.34206302352249623,
         0.34025180004537103,
         0.3418031055480242,
         0.34123191274702547,
         0.34545980058610437,
         0.341117574647069,
         0.3413048584014177,
         0.3423817973583937,
         0.34269990883767604,
         0.3423771928995848,
         0.3404610764235258,
         0.3409845720976591,
         0.344369513168931,
         0.3415820885449648,
         0.34380889050662516,
         0.3399034205824137,
         0.3406620416790247,
         0.3420980881899595,
         0.34171126820147035,
         0.34375643618404866,
         0.3427982185035944,
         0.3385112781077623,
         0.3434707004576921,
         0.3415686715394258,
         0.3404397699981928,
         0.34244946874678134,
         0.3434625346213579,
         0.34073133803904054,
         0.3425960410386324,
         0.34297428019344806,
         0.3442833457142115,
         0.3431237157434225,
         0.3432147581130266,
         0.3387914214283228,
         0.3398742634803057,
         0.3422524485737085
        ],
        [
         6.846314795315266,
         6.796020932495594,
         6.834977485239506,
         6.887263603508472,
         6.863633193075657,
         6.892979808151722,
         6.804609902203083,
         6.791887022554874,
         6.8087368085980415,
         6.839815355837345,
         6.8395861610770226,
         6.834648676216602,
         6.905238009989262,
         6.830672450363636,
         6.887432090938091,
         6.8454364612698555,
         6.803728260099888,
         6.837093509733677,
         6.787685759365559,
         6.804177932441235,
         6.826054580509663,
         6.7875441163778305,
         6.842978037893772,
         6.817251540720463,
         6.865120179951191,
         6.846863768994808,
         6.837931580841541,
         6.878925122320652,
         6.8131613209843636,
         6.843533106148243,
         6.866711623966694,
         6.790255151689053,
         6.826396323740482,
         6.877202175557613,
         6.811827905476093,
         6.825085259974003,
         6.840294219553471,
         6.832013346254826,
         6.796441771090031,
         6.792418248951435,
         6.858337439596653,
         6.940392948687077,
         6.814935244619846,
         6.860771380364895,
         6.870617397129536,
         6.805862478911877,
         6.823574222624302,
         6.841746635735035,
         6.853342197835445,
         6.755273796617985,
         6.846743531525135,
         6.859406299889088,
         6.875490866601467,
         6.856602780520916,
         6.872209824621677,
         6.831103436648846,
         6.780635394155979,
         6.880432553589344,
         6.8222771063447,
         6.829876609146595,
         6.83997967094183,
         6.865242190659046,
         6.8350513353943825,
         6.839912928640842,
         6.8412604704499245,
         6.805036000907421,
         6.8360621109604836,
         6.82463825494051,
         6.909196011722088,
         6.8223514929413795,
         6.826097168028355,
         6.847635947167873,
         6.853998176753521,
         6.847543857991695,
         6.809221528470516,
         6.819691441953182,
         6.88739026337862,
         6.831641770899296,
         6.8761778101325035,
         6.7980684116482735,
         6.813240833580494,
         6.8419617637991905,
         6.8342253640294075,
         6.875128723680973,
         6.855964370071888,
         6.770225562155247,
         6.869414009153843,
         6.831373430788517,
         6.808795399963856,
         6.848989374935627,
         6.869250692427158,
         6.814626760780811,
         6.851920820772648,
         6.859485603868961,
         6.885666914284229,
         6.86247431486845,
         6.864295162260532,
         6.775828428566456,
         6.797485269606113,
         6.845048971474171
        ],
        [
         2.0355251199754467,
         2.030591419209614,
         2.033197107583139,
         2.0408500645228043,
         2.0336112868125067,
         2.0309035778322353,
         2.0247496011708024,
         2.0129349245700365,
         2.024821063441413,
         2.0360295998681766,
         2.0318029354893237,
         2.022156200629568,
         2.0505570085946236,
         2.031021409954291,
         2.0387974267706235,
         2.028409938802235,
         2.022266486604018,
         2.024624140943629,
         2.0238989605111546,
         2.0295086494455417,
         2.024552187490403,
         2.015224618800803,
         2.02631675627385,
         2.0222691705671263,
         2.027755922190978,
         2.0269175783495057,
         2.0273953357349876,
         2.029706113066093,
         2.02011508609979,
         2.030289007248036,
         2.040350265468686,
         2.0233700235749223,
         2.0328840390754452,
         2.035326296452377,
         2.0275567774827925,
         2.0332632916373052,
         2.035870108508361,
         2.032378338619077,
         2.0202158218003916,
         2.022244016402014,
         2.030210090548978,
         2.0470967555744046,
         2.028914513746873,
         2.0304818487549454,
         2.031518903700569,
         2.0148692488813653,
         2.022768010573067,
         2.025864041288369,
         2.0311978594495788,
         2.009597596985477,
         2.0339298163553976,
         2.033062923556713,
         2.0289811661162505,
         2.0318194722899534,
         2.030940418646994,
         2.035879964712262,
         2.0220859534454423,
         2.0317767003218057,
         2.0258979463957876,
         2.031957837925411,
         2.0323825371146222,
         2.03113601928509,
         2.0323568079101957,
         2.0303308352956333,
         2.0369693828559114,
         2.0206943442513148,
         2.0286250730282274,
         2.0253167869161253,
         2.043741032953494,
         2.0298372773641717,
         2.0321982649539723,
         2.031655404316576,
         2.036379315795293,
         2.033198827613681,
         2.025866736867466,
         2.030763987945174,
         2.0435222742793826,
         2.021370690074351,
         2.0333414365333486,
         2.0253133320814967,
         2.0276497419021116,
         2.0356279335822034,
         2.0286212444689697,
         2.040878621119506,
         2.034295878024961,
         2.0142860542800975,
         2.040519332514191,
         2.029489515271046,
         2.024806489891447,
         2.0324781071499323,
         2.038762618883672,
         2.0318937616846324,
         2.030167790323146,
         2.0378729378428835,
         2.040813101468292,
         2.0393772668759556,
         2.0405178501642207,
         2.0274943305556143,
         2.017179070533978,
         2.029004538258124
        ]
       ],
       "encoder": "json",
       "name": "ABC_GAN_2 Metrics",
       "version": 1
      }
     },
     "metadata": {
      "scrapbook": {
       "data": true,
       "display": false,
       "name": "ABC_GAN_2 Metrics"
      }
     },
     "output_type": "display_data"
    },
    {
     "name": "stdout",
     "output_type": "stream",
     "text": [
      "MAE\n",
      "0.34191558917984366\n"
     ]
    }
   ],
   "source": [
    "ABC_GAN2_metrics=ABC_train_test2.test_generator(gen2,test_data,prior_model,variance,bias,\"1\",device)\n",
    "sb.glue(\"ABC_GAN_2 Metrics\",ABC_GAN2_metrics)\n",
    "\n",
    "print(\"MAE\")\n",
    "print(mean(ABC_GAN2_metrics[1]))"
   ]
  },
  {
   "cell_type": "code",
   "execution_count": 18,
   "id": "9d1be5f3",
   "metadata": {
    "execution": {
     "iopub.execute_input": "2022-07-22T08:22:06.474566Z",
     "iopub.status.busy": "2022-07-22T08:22:06.473945Z",
     "iopub.status.idle": "2022-07-22T08:22:07.338750Z",
     "shell.execute_reply": "2022-07-22T08:22:07.337178Z"
    },
    "papermill": {
     "duration": 0.889306,
     "end_time": "2022-07-22T08:22:07.341503",
     "exception": false,
     "start_time": "2022-07-22T08:22:06.452197",
     "status": "completed"
    },
    "tags": []
   },
   "outputs": [
    {
     "data": {
      "image/png": "[encoded data removed]",
      "text/plain": [
       "<Figure size 432x288 with 1 Axes>"
      ]
     },
     "metadata": {
      "needs_background": "light"
     },
     "output_type": "display_data"
    },
    {
     "data": {
      "image/png": "[encoded data removed]",
      "text/plain": [
       "<Figure size 432x288 with 1 Axes>"
      ]
     },
     "metadata": {
      "needs_background": "light"
     },
     "output_type": "display_data"
    },
    {
     "data": {
      "image/png": "[encoded data removed]",
      "text/plain": [
       "<Figure size 432x288 with 1 Axes>"
      ]
     },
     "metadata": {
      "needs_background": "light"
     },
     "output_type": "display_data"
    },
    {
     "data": {
      "image/png": "[encoded data removed]",
      "text/plain": [
       "<Figure size 432x288 with 1 Axes>"
      ]
     },
     "metadata": {
      "needs_background": "light"
     },
     "output_type": "display_data"
    }
   ],
   "source": [
    "sanityChecks.discProbVsError(train_data,disc2,device)\n",
    "sanityChecks.discProbVsError(test_data,disc2,device)"
   ]
  },
  {
   "cell_type": "markdown",
   "id": "130f3a4d",
   "metadata": {
    "id": "130f3a4d",
    "papermill": {
     "duration": 0.021507,
     "end_time": "2022-07-22T08:22:07.384148",
     "exception": false,
     "start_time": "2022-07-22T08:22:07.362641",
     "status": "completed"
    },
    "tags": []
   },
   "source": [
    "# skipGAN Model"
   ]
  },
  {
   "cell_type": "code",
   "execution_count": 19,
   "id": "4e43dad1",
   "metadata": {
    "execution": {
     "iopub.execute_input": "2022-07-22T08:22:07.429979Z",
     "iopub.status.busy": "2022-07-22T08:22:07.429650Z",
     "iopub.status.idle": "2022-07-22T08:22:07.434890Z",
     "shell.execute_reply": "2022-07-22T08:22:07.433425Z"
    },
    "id": "4e43dad1",
    "papermill": {
     "duration": 0.033157,
     "end_time": "2022-07-22T08:22:07.439920",
     "exception": false,
     "start_time": "2022-07-22T08:22:07.406763",
     "status": "completed"
    },
    "tags": []
   },
   "outputs": [],
   "source": [
    "# #Generator\n",
    "# gen3 = network.GeneratorWithSkipConnection(n_features+1).to(device)\n",
    "# constraints=network.weightConstraint()\n",
    "# #Discriminator \n",
    "# disc3 = network.Discriminator(n_features+1).to(device)\n",
    "\n",
    "# criterion = torch.nn.BCELoss()\n",
    "# gen_opt = torch.optim.Adam(gen3.parameters(), lr=0.01, betas=(0.5, 0.999))\n",
    "# disc_opt = torch.optim.Adam(disc3.parameters(), lr=0.01, betas=(0.5, 0.999))\n"
   ]
  },
  {
   "cell_type": "code",
   "execution_count": 20,
   "id": "26acbc37",
   "metadata": {
    "execution": {
     "iopub.execute_input": "2022-07-22T08:22:07.489648Z",
     "iopub.status.busy": "2022-07-22T08:22:07.489233Z",
     "iopub.status.idle": "2022-07-22T08:22:07.494025Z",
     "shell.execute_reply": "2022-07-22T08:22:07.493102Z"
    },
    "id": "26acbc37",
    "papermill": {
     "duration": 0.035227,
     "end_time": "2022-07-22T08:22:07.499635",
     "exception": false,
     "start_time": "2022-07-22T08:22:07.464408",
     "status": "completed"
    },
    "tags": []
   },
   "outputs": [],
   "source": [
    "# ABC_train_test2.training_GAN_skip_connection(disc3,gen3,disc_opt,gen_opt,train_data,batch_size,n_epochs,criterion,prior_model,variance,bias,device)"
   ]
  },
  {
   "cell_type": "code",
   "execution_count": 21,
   "id": "c5e0717b",
   "metadata": {
    "execution": {
     "iopub.execute_input": "2022-07-22T08:22:07.544966Z",
     "iopub.status.busy": "2022-07-22T08:22:07.544358Z",
     "iopub.status.idle": "2022-07-22T08:22:07.548674Z",
     "shell.execute_reply": "2022-07-22T08:22:07.547710Z"
    },
    "id": "c5e0717b",
    "papermill": {
     "duration": 0.031087,
     "end_time": "2022-07-22T08:22:07.551962",
     "exception": false,
     "start_time": "2022-07-22T08:22:07.520875",
     "status": "completed"
    },
    "tags": []
   },
   "outputs": [],
   "source": [
    "# ABC_GAN3_metrics=ABC_train_test2.test_generator(gen3,test_data,prior_model,variance,bias,\"3\",device)\n",
    "# sb.glue(\"ABC_GAN_3 Metrics\",ABC_GAN3_metrics)\n",
    "\n",
    "# print(\"MAE\")\n",
    "# print(mean(ABC_GAN3_metrics[1]))"
   ]
  },
  {
   "cell_type": "code",
   "execution_count": 22,
   "id": "c8e46b48",
   "metadata": {
    "execution": {
     "iopub.execute_input": "2022-07-22T08:22:07.598603Z",
     "iopub.status.busy": "2022-07-22T08:22:07.598256Z",
     "iopub.status.idle": "2022-07-22T08:22:07.602688Z",
     "shell.execute_reply": "2022-07-22T08:22:07.601325Z"
    },
    "id": "c8e46b48",
    "papermill": {
     "duration": 0.032132,
     "end_time": "2022-07-22T08:22:07.605765",
     "exception": false,
     "start_time": "2022-07-22T08:22:07.573633",
     "status": "completed"
    },
    "tags": []
   },
   "outputs": [],
   "source": [
    "# sanityChecks.discProbVsError(train_data,disc3,device)\n",
    "# sanityChecks.discProbVsError(test_data,disc3,device)"
   ]
  },
  {
   "cell_type": "markdown",
   "id": "d6b09c6b",
   "metadata": {
    "id": "130f3a4d",
    "papermill": {
     "duration": 0.02194,
     "end_time": "2022-07-22T08:22:07.649011",
     "exception": false,
     "start_time": "2022-07-22T08:22:07.627071",
     "status": "completed"
    },
    "tags": []
   },
   "source": [
    "# skipGAN Model with TabNet Generator"
   ]
  },
  {
   "cell_type": "code",
   "execution_count": 23,
   "id": "4da8d317",
   "metadata": {
    "execution": {
     "iopub.execute_input": "2022-07-22T08:22:07.696019Z",
     "iopub.status.busy": "2022-07-22T08:22:07.695630Z",
     "iopub.status.idle": "2022-07-22T08:22:07.715307Z",
     "shell.execute_reply": "2022-07-22T08:22:07.714508Z"
    },
    "id": "4e43dad1",
    "papermill": {
     "duration": 0.047507,
     "end_time": "2022-07-22T08:22:07.718305",
     "exception": false,
     "start_time": "2022-07-22T08:22:07.670798",
     "status": "completed"
    },
    "tags": []
   },
   "outputs": [],
   "source": [
    "#Generator\n",
    "gen4 = network.GeneratorTabnetskipConnection(n_features+1).to(device)\n",
    "constraints=network.weightConstraint()\n",
    "#Discriminator \n",
    "disc4 = network.Discriminator(n_features+1).to(device)\n",
    "\n",
    "criterion = torch.nn.BCELoss()\n",
    "gen_opt = torch.optim.Adam(gen4.parameters(), lr=0.001, betas=(0.5, 0.999))\n",
    "disc_opt = torch.optim.Adam(disc4.parameters(), lr=0.001, betas=(0.5, 0.999))\n"
   ]
  },
  {
   "cell_type": "code",
   "execution_count": 24,
   "id": "4f2a59e9",
   "metadata": {
    "execution": {
     "iopub.execute_input": "2022-07-22T08:22:07.767297Z",
     "iopub.status.busy": "2022-07-22T08:22:07.766483Z",
     "iopub.status.idle": "2022-07-22T08:25:18.751011Z",
     "shell.execute_reply": "2022-07-22T08:25:18.749261Z"
    },
    "id": "26acbc37",
    "papermill": {
     "duration": 191.013557,
     "end_time": "2022-07-22T08:25:18.754196",
     "exception": false,
     "start_time": "2022-07-22T08:22:07.740639",
     "status": "completed"
    },
    "tags": []
   },
   "outputs": [
    {
     "data": {
      "image/png": "[encoded data removed]",
      "text/plain": [
       "<Figure size 432x288 with 1 Axes>"
      ]
     },
     "metadata": {
      "needs_background": "light"
     },
     "output_type": "display_data"
    },
    {
     "data": {
      "image/png": "[encoded data removed]",
      "text/plain": [
       "<Figure size 432x288 with 1 Axes>"
      ]
     },
     "metadata": {
      "needs_background": "light"
     },
     "output_type": "display_data"
    }
   ],
   "source": [
    "ABC_train_test2.training_GAN_skip_connection(disc4,gen4,disc_opt,gen_opt,train_data,batch_size,n_epochs,criterion,prior_model,variance,bias,device)"
   ]
  },
  {
   "cell_type": "code",
   "execution_count": 25,
   "id": "bcc5b88b",
   "metadata": {
    "execution": {
     "iopub.execute_input": "2022-07-22T08:25:18.806974Z",
     "iopub.status.busy": "2022-07-22T08:25:18.806643Z",
     "iopub.status.idle": "2022-07-22T08:25:20.671696Z",
     "shell.execute_reply": "2022-07-22T08:25:20.670243Z"
    },
    "id": "c5e0717b",
    "papermill": {
     "duration": 1.896226,
     "end_time": "2022-07-22T08:25:20.675878",
     "exception": false,
     "start_time": "2022-07-22T08:25:18.779652",
     "status": "completed"
    },
    "tags": []
   },
   "outputs": [
    {
     "data": {
      "application/scrapbook.scrap.json+json": {
       "data": 0.35173531572096917,
       "encoder": "json",
       "name": "ABC-GAN Model 3 MSE",
       "version": 1
      }
     },
     "metadata": {
      "scrapbook": {
       "data": true,
       "display": false,
       "name": "ABC-GAN Model 3 MSE"
      }
     },
     "output_type": "display_data"
    },
    {
     "data": {
      "application/scrapbook.scrap.json+json": {
       "data": 0.50681509514153,
       "encoder": "json",
       "name": "ABC-GAN Model 3 MAE",
       "version": 1
      }
     },
     "metadata": {
      "scrapbook": {
       "data": true,
       "display": false,
       "name": "ABC-GAN Model 3 MAE"
      }
     },
     "output_type": "display_data"
    },
    {
     "data": {
      "application/scrapbook.scrap.json+json": {
       "data": 10.136301902830601,
       "encoder": "json",
       "name": "ABC-GAN Model 3 Manhattan Distance",
       "version": 1
      }
     },
     "metadata": {
      "scrapbook": {
       "data": true,
       "display": false,
       "name": "ABC-GAN Model 3 Manhattan Distance"
      }
     },
     "output_type": "display_data"
    },
    {
     "data": {
      "application/scrapbook.scrap.json+json": {
       "data": 2.6522863085352095,
       "encoder": "json",
       "name": "ABC-GAN Model 3 Euclidean distance",
       "version": 1
      }
     },
     "metadata": {
      "scrapbook": {
       "data": true,
       "display": false,
       "name": "ABC-GAN Model 3 Euclidean distance"
      }
     },
     "output_type": "display_data"
    },
    {
     "data": {
      "application/scrapbook.scrap.json+json": {
       "data": [
        [
         0.3498241253237341,
         0.3503877014413953,
         0.35232441404605563,
         0.34956827594333834,
         0.35121911009382495,
         0.35210760720003825,
         0.35276018822143806,
         0.3521887797111939,
         0.3534812927377654,
         0.35324622971044606,
         0.35448339901919923,
         0.3504746156608852,
         0.34790323238773,
         0.3533467963692744,
         0.3551022270535059,
         0.3475709528293011,
         0.35540966044184624,
         0.3535964087467816,
         0.35547085876599926,
         0.35601996561332017,
         0.3491835542842045,
         0.34610497153633474,
         0.35324933619513593,
         0.352549779686765,
         0.3511933455740701,
         0.35191821327464223,
         0.3528895231693503,
         0.3553710174676897,
         0.3497682289778985,
         0.3542223011693947,
         0.3541656530809171,
         0.35609386472368215,
         0.3561333714467823,
         0.3505044804734059,
         0.35544274286771194,
         0.3503508457915287,
         0.3502447078010368,
         0.34893782125486733,
         0.35166491982177084,
         0.35316687840521455,
         0.35226073103487165,
         0.3525386285907529,
         0.3538276465070102,
         0.35014098470699084,
         0.35046188868275874,
         0.35404716709137823,
         0.3514049336154538,
         0.35278139259782043,
         0.3503454671491545,
         0.3532179869138535,
         0.3521857498878222,
         0.3507307041769175,
         0.3490127692725558,
         0.35198389621382786,
         0.3507771305387256,
         0.35332475942711017,
         0.3541320680049755,
         0.35241462952408725,
         0.3534140970018963,
         0.3523307720647339,
         0.35233082523351067,
         0.3489377120764264,
         0.3526090501862732,
         0.35487170638781274,
         0.3540636431793317,
         0.34882774933134597,
         0.347940120145832,
         0.3494435465997596,
         0.3550919451330358,
         0.3488931770464134,
         0.3515174103463308,
         0.3442748863558373,
         0.35073522692970105,
         0.3519215099674291,
         0.3528826568944924,
         0.350850469871064,
         0.34518950837490225,
         0.3515456209344454,
         0.3484230328245094,
         0.3518852402129598,
         0.35400955207535245,
         0.34794676350974374,
         0.3504648522965387,
         0.351225967538826,
         0.3550572045753032,
         0.35395696742571675,
         0.35013857313193686,
         0.34733984282220964,
         0.3503144508194911,
         0.3496799943354543,
         0.35355392167824834,
         0.3501953664191791,
         0.3524051503671637,
         0.3494136242638873,
         0.3541299597984797,
         0.35049537989185675,
         0.3505136230626281,
         0.3552631509302365,
         0.35123821117389864,
         0.3529791766271792
        ],
        [
         0.5057758692651987,
         0.5054709780961275,
         0.5079976949840784,
         0.506393613293767,
         0.5041290048509837,
         0.5077981520444155,
         0.5074365887790918,
         0.5044238124042749,
         0.5100079063326121,
         0.507259413972497,
         0.5094971913844347,
         0.5065036136657,
         0.5037446189671755,
         0.508727103844285,
         0.5085205707699061,
         0.5031441438943147,
         0.5110097099095583,
         0.508599354699254,
         0.5093619827181101,
         0.5085135448724032,
         0.5074962947517634,
         0.5034210402518511,
         0.5112057853490114,
         0.507462689653039,
         0.5083547357469798,
         0.5073166329413652,
         0.508132191374898,
         0.510827474668622,
         0.5049759913235903,
         0.5084200892597437,
         0.5085565242916346,
         0.5101511765271425,
         0.5106811303645372,
         0.5054678563028574,
         0.5108507473021746,
         0.5041874412447214,
         0.503497001901269,
         0.5040356520563364,
         0.5053132910281419,
         0.5076902318745852,
         0.5073023561388255,
         0.5071574870496989,
         0.5085533071309328,
         0.5057279575616122,
         0.5074694473296404,
         0.5102592248469591,
         0.5064866010099649,
         0.5047363299876452,
         0.5042962420731782,
         0.509382325783372,
         0.5095661032944918,
         0.5049531538039446,
         0.5044253814965487,
         0.504391523078084,
         0.5057663936167955,
         0.5076711211353541,
         0.5106626976281404,
         0.5071050990372896,
         0.506633848324418,
         0.5074262026697397,
         0.5064902771264315,
         0.5037779364734888,
         0.5076968315988779,
         0.5095012355595827,
         0.5063193071633577,
         0.5045886296778918,
         0.5029136229306459,
         0.5056788627058267,
         0.5075491685420275,
         0.5036586079746485,
         0.5062261838465929,
         0.5001093138009309,
         0.5052882332354784,
         0.5082187432795763,
         0.5090249944478273,
         0.506465120986104,
         0.5027070377022028,
         0.5065803084522486,
         0.505020647123456,
         0.5086459729820489,
         0.5080231044441461,
         0.5065732065588235,
         0.504611948505044,
         0.507738870754838,
         0.509814028814435,
         0.5085152734071017,
         0.5052913907915354,
         0.5038509566336871,
         0.5051372367888689,
         0.504899850860238,
         0.5072418544441462,
         0.5069980818778277,
         0.5071286875754595,
         0.5046251300722361,
         0.5061922926455736,
         0.507159261777997,
         0.5059955779463052,
         0.5093465987592936,
         0.50481485016644,
         0.5087586257606744
        ],
        [
         10.115517385303974,
         10.10941956192255,
         10.159953899681568,
         10.12787226587534,
         10.082580097019672,
         10.15596304088831,
         10.148731775581837,
         10.088476248085499,
         10.20015812665224,
         10.14518827944994,
         10.189943827688694,
         10.130072273314,
         10.07489237934351,
         10.1745420768857,
         10.17041141539812,
         10.062882877886295,
         10.220194198191166,
         10.17198709398508,
         10.187239654362202,
         10.170270897448063,
         10.149925895035267,
         10.068420805037022,
         10.224115706980228,
         10.14925379306078,
         10.167094714939594,
         10.146332658827305,
         10.16264382749796,
         10.21654949337244,
         10.099519826471806,
         10.168401785194874,
         10.171130485832691,
         10.20302353054285,
         10.213622607290745,
         10.109357126057148,
         10.217014946043491,
         10.083748824894428,
         10.06994003802538,
         10.080713041126728,
         10.10626582056284,
         10.153804637491703,
         10.146047122776508,
         10.143149740993977,
         10.171066142618656,
         10.114559151232243,
         10.149388946592808,
         10.205184496939182,
         10.129732020199299,
         10.094726599752903,
         10.085924841463566,
         10.187646515667439,
         10.191322065889835,
         10.099063076078892,
         10.088507629930973,
         10.08783046156168,
         10.11532787233591,
         10.15342242270708,
         10.213253952562809,
         10.142101980745792,
         10.132676966488361,
         10.148524053394794,
         10.12980554252863,
         10.075558729469776,
         10.153936631977558,
         10.190024711191654,
         10.126386143267155,
         10.091772593557835,
         10.058272458612919,
         10.113577254116535,
         10.15098337084055,
         10.07317215949297,
         10.124523676931858,
         10.00218627601862,
         10.105764664709568,
         10.164374865591526,
         10.180499888956547,
         10.12930241972208,
         10.054140754044056,
         10.131606169044971,
         10.10041294246912,
         10.17291945964098,
         10.160462088882923,
         10.131464131176472,
         10.09223897010088,
         10.15477741509676,
         10.1962805762887,
         10.170305468142033,
         10.105827815830708,
         10.07701913267374,
         10.102744735777378,
         10.097997017204762,
         10.144837088882923,
         10.139961637556553,
         10.14257375150919,
         10.092502601444721,
         10.123845852911472,
         10.14318523555994,
         10.119911558926105,
         10.186931975185871,
         10.0962970033288,
         10.17517251521349
        ],
        [
         2.6450864837420123,
         2.6472162791936564,
         2.6545222321391684,
         2.644119044004405,
         2.650355108636671,
         2.6537053611885333,
         2.6561633542440046,
         2.65401122722265,
         2.658876803230136,
         2.6579925873126364,
         2.662643044116876,
         2.647544581913155,
         2.6378143694647282,
         2.6583709160659823,
         2.6649661425748206,
         2.6365543909781235,
         2.6661195038551675,
         2.6593097177530174,
         2.6663490347889534,
         2.668407636075569,
         2.642663634608856,
         2.630988299237892,
         2.6580042746208514,
         2.655371083998487,
         2.650257895277628,
         2.652991569058003,
         2.656650233543551,
         2.6659745590222337,
         2.6448751538698323,
         2.6616622669654944,
         2.661449428717056,
         2.668684562565168,
         2.668832596648888,
         2.647657381435166,
         2.6662435855251934,
         2.647077051358833,
         2.646676058005727,
         2.6417336022198277,
         2.6520366506583986,
         2.6576940320707143,
         2.6542823174442907,
         2.6553290891742702,
         2.660179116176241,
         2.6462841295181847,
         2.6474965106030215,
         2.6610041980101355,
         2.651056142805934,
         2.6562431838889315,
         2.64705673210513,
         2.6578863290737376,
         2.653999811182443,
         2.6485116732871594,
         2.642017294691902,
         2.6532391381623626,
         2.648686959754684,
         2.658288018357342,
         2.661323234802475,
         2.6548620661875724,
         2.6586240689570846,
         2.6545461836808713,
         2.654546383974146,
         2.6417331889364846,
         2.655594284472962,
         2.664100998039724,
         2.6610661140953704,
         2.641316903861958,
         2.6379542078884994,
         2.643647278287176,
         2.6649275604902876,
         2.6415646009379117,
         2.651480380264319,
         2.624023194851133,
         2.648528749814512,
         2.6530039953510403,
         2.6566243878067985,
         2.648963834675981,
         2.6275064543209106,
         2.651586773743018,
         2.6397842064248715,
         2.6528672798048523,
         2.660862837785339,
         2.6379793915409717,
         2.647507704602722,
         2.650380982194168,
         2.664797195192547,
         2.660665207897141,
         2.6462750164407964,
         2.6356776844758905,
         2.646939556618137,
         2.644541526750731,
         2.659149945671542,
         2.6464896237060103,
         2.654826361053256,
         2.643534090054022,
         2.6613153131430316,
         2.647623009009616,
         2.6476919120722036,
         2.665569923788294,
         2.6504271775466637,
         2.656987680164058
        ]
       ],
       "encoder": "json",
       "name": "ABC_GAN_4 Metrics",
       "version": 1
      }
     },
     "metadata": {
      "scrapbook": {
       "data": true,
       "display": false,
       "name": "ABC_GAN_4 Metrics"
      }
     },
     "output_type": "display_data"
    },
    {
     "name": "stdout",
     "output_type": "stream",
     "text": [
      "MAE\n",
      "0.50681509514153\n"
     ]
    }
   ],
   "source": [
    "ABC_GAN4_metrics=ABC_train_test2.test_generator(gen4,test_data,prior_model,variance,bias,\"3\",device)\n",
    "sb.glue(\"ABC_GAN_4 Metrics\",ABC_GAN4_metrics)\n",
    "\n",
    "print(\"MAE\")\n",
    "print(mean(ABC_GAN4_metrics[1]))"
   ]
  },
  {
   "cell_type": "code",
   "execution_count": 26,
   "id": "23123ec4",
   "metadata": {
    "execution": {
     "iopub.execute_input": "2022-07-22T08:25:20.728843Z",
     "iopub.status.busy": "2022-07-22T08:25:20.728501Z",
     "iopub.status.idle": "2022-07-22T08:25:21.702857Z",
     "shell.execute_reply": "2022-07-22T08:25:21.701854Z"
    },
    "id": "c8e46b48",
    "papermill": {
     "duration": 1.004284,
     "end_time": "2022-07-22T08:25:21.705725",
     "exception": false,
     "start_time": "2022-07-22T08:25:20.701441",
     "status": "completed"
    },
    "tags": []
   },
   "outputs": [
    {
     "data": {
      "image/png": "[encoded data removed]",
      "text/plain": [
       "<Figure size 432x288 with 1 Axes>"
      ]
     },
     "metadata": {
      "needs_background": "light"
     },
     "output_type": "display_data"
    },
    {
     "data": {
      "image/png": "[encoded data removed]",
      "text/plain": [
       "<Figure size 432x288 with 1 Axes>"
      ]
     },
     "metadata": {
      "needs_background": "light"
     },
     "output_type": "display_data"
    },
    {
     "data": {
      "image/png": "[encoded data removed]",
      "text/plain": [
       "<Figure size 432x288 with 1 Axes>"
      ]
     },
     "metadata": {
      "needs_background": "light"
     },
     "output_type": "display_data"
    },
    {
     "data": {
      "image/png": "[encoded data removed]",
      "text/plain": [
       "<Figure size 432x288 with 1 Axes>"
      ]
     },
     "metadata": {
      "needs_background": "light"
     },
     "output_type": "display_data"
    }
   ],
   "source": [
    "sanityChecks.discProbVsError(train_data,disc4,device)\n",
    "sanityChecks.discProbVsError(test_data,disc4,device)"
   ]
  },
  {
   "cell_type": "markdown",
   "id": "a5bd74c3",
   "metadata": {
    "id": "a5bd74c3",
    "papermill": {
     "duration": 0.02854,
     "end_time": "2022-07-22T08:25:21.763198",
     "exception": false,
     "start_time": "2022-07-22T08:25:21.734658",
     "status": "completed"
    },
    "tags": []
   },
   "source": [
    "## Skip Connection Model Analysis - ABC-GAN "
   ]
  },
  {
   "cell_type": "markdown",
   "id": "5744a8bf",
   "metadata": {
    "id": "5744a8bf",
    "papermill": {
     "duration": 0.027847,
     "end_time": "2022-07-22T08:25:21.819349",
     "exception": false,
     "start_time": "2022-07-22T08:25:21.791502",
     "status": "completed"
    },
    "tags": []
   },
   "source": [
    "### Weight Analysis \n",
    "\n",
    "Study the weights of the skip connection layer\n",
    "\n",
    "Equation of the skip connection is \n",
    "\n",
    "$output = y_{gan} * w + y_{abc} * (1-w)$"
   ]
  },
  {
   "cell_type": "code",
   "execution_count": 27,
   "id": "52c31dea",
   "metadata": {
    "execution": {
     "iopub.execute_input": "2022-07-22T08:25:21.880420Z",
     "iopub.status.busy": "2022-07-22T08:25:21.880012Z",
     "iopub.status.idle": "2022-07-22T08:25:21.885187Z",
     "shell.execute_reply": "2022-07-22T08:25:21.883989Z"
    },
    "id": "52c31dea",
    "papermill": {
     "duration": 0.036493,
     "end_time": "2022-07-22T08:25:21.887931",
     "exception": false,
     "start_time": "2022-07-22T08:25:21.851438",
     "status": "completed"
    },
    "tags": []
   },
   "outputs": [],
   "source": [
    "# print(\"Weight of the node at skip connection\")\n",
    "# for name,param in gen3.named_parameters():\n",
    "#     if(name == \"skipNode.weight\"):\n",
    "#         print(param)\n",
    "#         sb.glue(\"Skip Connection Weight\",param.item())"
   ]
  },
  {
   "cell_type": "markdown",
   "id": "87736383",
   "metadata": {
    "id": "a5bd74c3",
    "papermill": {
     "duration": 0.027569,
     "end_time": "2022-07-22T08:25:21.942987",
     "exception": false,
     "start_time": "2022-07-22T08:25:21.915418",
     "status": "completed"
    },
    "tags": []
   },
   "source": [
    "## skipGAN Model Analysis (TabNet Generator) "
   ]
  },
  {
   "cell_type": "markdown",
   "id": "685997bf",
   "metadata": {
    "id": "5744a8bf",
    "papermill": {
     "duration": 0.029603,
     "end_time": "2022-07-22T08:25:22.001129",
     "exception": false,
     "start_time": "2022-07-22T08:25:21.971526",
     "status": "completed"
    },
    "tags": []
   },
   "source": [
    "### Weight Analysis \n",
    "\n",
    "Study the weights of the skip connection layer\n",
    "\n",
    "Equation of the skip connection is \n",
    "\n",
    "$output = y_{gan} * w + y_{abc} * (1-w)$"
   ]
  },
  {
   "cell_type": "code",
   "execution_count": 28,
   "id": "51f6fb44",
   "metadata": {
    "execution": {
     "iopub.execute_input": "2022-07-22T08:25:22.060597Z",
     "iopub.status.busy": "2022-07-22T08:25:22.059969Z",
     "iopub.status.idle": "2022-07-22T08:25:22.074604Z",
     "shell.execute_reply": "2022-07-22T08:25:22.073586Z"
    },
    "id": "52c31dea",
    "papermill": {
     "duration": 0.050421,
     "end_time": "2022-07-22T08:25:22.079362",
     "exception": false,
     "start_time": "2022-07-22T08:25:22.028941",
     "status": "completed"
    },
    "tags": []
   },
   "outputs": [
    {
     "name": "stdout",
     "output_type": "stream",
     "text": [
      "Weight of the node at skip connection\n",
      "Parameter containing:\n",
      "tensor([[0.1671]], requires_grad=True)\n"
     ]
    },
    {
     "data": {
      "application/scrapbook.scrap.json+json": {
       "data": 0.16708874702453613,
       "encoder": "json",
       "name": "Skip Connection Weight",
       "version": 1
      }
     },
     "metadata": {
      "scrapbook": {
       "data": true,
       "display": false,
       "name": "Skip Connection Weight"
      }
     },
     "output_type": "display_data"
    }
   ],
   "source": [
    "print(\"Weight of the node at skip connection\")\n",
    "for name,param in gen4.named_parameters():\n",
    "    if(name == \"skipNode.weight\"):\n",
    "        print(param)\n",
    "        sb.glue(\"Skip Connection Weight\",param.item())"
   ]
  }
 ],
 "metadata": {
  "colab": {
   "collapsed_sections": [],
   "name": "ABC_GAN_Model-Catboost_Pre-gen.ipynb",
   "provenance": []
  },
  "interpreter": {
   "hash": "31f2aee4e71d21fbe5cf8b01ff0e069b9275f58929596ceb00d14d90e3e16cd6"
  },
  "kernelspec": {
   "display_name": "Python 3 (ipykernel)",
   "language": "python",
   "name": "python3"
  },
  "language_info": {
   "codemirror_mode": {
    "name": "ipython",
    "version": 3
   },
   "file_extension": ".py",
   "mimetype": "text/x-python",
   "name": "python",
   "nbconvert_exporter": "python",
   "pygments_lexer": "ipython3",
   "version": "3.8.13"
  },
  "papermill": {
   "default_parameters": {},
   "duration": 409.029749,
   "end_time": "2022-07-22T08:25:22.857259",
   "environment_variables": {},
   "exception": null,
   "input_path": "ABC_GAN-TabNet.ipynb",
   "output_path": "./ABC_GAN_TabNet/ABC-GAN_output_1_2.ipynb",
   "parameters": {
    "bias": 1,
    "variance": 0.01
   },
   "start_time": "2022-07-22T08:18:33.827510",
   "version": "2.3.3"
  }
 },
 "nbformat": 4,
 "nbformat_minor": 5
}