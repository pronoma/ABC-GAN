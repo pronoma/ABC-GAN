{
 "cells": [
  {
   "cell_type": "markdown",
   "id": "622780e6",
   "metadata": {
    "id": "622780e6",
    "papermill": {
     "duration": 0.008791,
     "end_time": "2022-07-22T09:55:34.566602",
     "exception": false,
     "start_time": "2022-07-22T09:55:34.557811",
     "status": "completed"
    },
    "tags": []
   },
   "source": [
    "## Import Libraries "
   ]
  },
  {
   "cell_type": "code",
   "execution_count": 1,
   "id": "a62397e3",
   "metadata": {
    "execution": {
     "iopub.execute_input": "2022-07-22T09:55:34.584942Z",
     "iopub.status.busy": "2022-07-22T09:55:34.584051Z",
     "iopub.status.idle": "2022-07-22T09:55:34.599065Z",
     "shell.execute_reply": "2022-07-22T09:55:34.598310Z"
    },
    "id": "a62397e3",
    "papermill": {
     "duration": 0.027839,
     "end_time": "2022-07-22T09:55:34.601919",
     "exception": false,
     "start_time": "2022-07-22T09:55:34.574080",
     "status": "completed"
    },
    "tags": []
   },
   "outputs": [],
   "source": [
    "import warnings\n",
    "import sys\n",
    "sys.path.insert(0, '../../src')\n",
    "warnings.filterwarnings('ignore')"
   ]
  },
  {
   "cell_type": "code",
   "execution_count": 2,
   "id": "d6a4e155",
   "metadata": {
    "execution": {
     "iopub.execute_input": "2022-07-22T09:55:34.624835Z",
     "iopub.status.busy": "2022-07-22T09:55:34.624110Z",
     "iopub.status.idle": "2022-07-22T09:55:41.806073Z",
     "shell.execute_reply": "2022-07-22T09:55:41.805157Z"
    },
    "id": "d6a4e155",
    "papermill": {
     "duration": 7.197454,
     "end_time": "2022-07-22T09:55:41.809959",
     "exception": false,
     "start_time": "2022-07-22T09:55:34.612505",
     "status": "completed"
    },
    "tags": []
   },
   "outputs": [],
   "source": [
    "import ABC_train_test2\n",
    "import friedman3Dataset\n",
    "import network\n",
    "import dataset\n",
    "import sanityChecks\n",
    "import torch \n",
    "import scrapbook as sb\n",
    "from statistics import mean \n",
    "import catboost as ctb \n",
    "from sklearn.model_selection import train_test_split\n",
    "from sklearn.metrics import mean_squared_error,mean_absolute_error\n",
    "import numpy as np\n",
    "from pytorch_tabnet.tab_model import TabNetRegressor"
   ]
  },
  {
   "cell_type": "markdown",
   "id": "2fa5b0f7",
   "metadata": {
    "id": "2fa5b0f7",
    "papermill": {
     "duration": 0.013338,
     "end_time": "2022-07-22T09:55:41.835310",
     "exception": false,
     "start_time": "2022-07-22T09:55:41.821972",
     "status": "completed"
    },
    "tags": []
   },
   "source": [
    "## Parameters "
   ]
  },
  {
   "cell_type": "code",
   "execution_count": 3,
   "id": "783186fb",
   "metadata": {
    "execution": {
     "iopub.execute_input": "2022-07-22T09:55:41.864602Z",
     "iopub.status.busy": "2022-07-22T09:55:41.863055Z",
     "iopub.status.idle": "2022-07-22T09:55:41.878703Z",
     "shell.execute_reply": "2022-07-22T09:55:41.875642Z"
    },
    "id": "783186fb",
    "papermill": {
     "duration": 0.041458,
     "end_time": "2022-07-22T09:55:41.887102",
     "exception": false,
     "start_time": "2022-07-22T09:55:41.845644",
     "status": "completed"
    },
    "tags": [
     "parameters"
    ]
   },
   "outputs": [],
   "source": [
    "variance = 1\n",
    "bias = 1 "
   ]
  },
  {
   "cell_type": "code",
   "execution_count": 4,
   "id": "f7c794e6",
   "metadata": {
    "execution": {
     "iopub.execute_input": "2022-07-22T09:55:41.913084Z",
     "iopub.status.busy": "2022-07-22T09:55:41.912542Z",
     "iopub.status.idle": "2022-07-22T09:55:41.919049Z",
     "shell.execute_reply": "2022-07-22T09:55:41.916896Z"
    },
    "papermill": {
     "duration": 0.025382,
     "end_time": "2022-07-22T09:55:41.925095",
     "exception": false,
     "start_time": "2022-07-22T09:55:41.899713",
     "status": "completed"
    },
    "tags": [
     "injected-parameters"
    ]
   },
   "outputs": [],
   "source": [
    "# Parameters\n",
    "variance = 0.01\n",
    "bias = 1\n"
   ]
  },
  {
   "cell_type": "markdown",
   "id": "391cdbfd",
   "metadata": {
    "id": "391cdbfd",
    "papermill": {
     "duration": 0.009624,
     "end_time": "2022-07-22T09:55:41.948220",
     "exception": false,
     "start_time": "2022-07-22T09:55:41.938596",
     "status": "completed"
    },
    "tags": []
   },
   "source": [
    "## Dataset \n"
   ]
  },
  {
   "cell_type": "code",
   "execution_count": 5,
   "id": "5b51f161",
   "metadata": {
    "execution": {
     "iopub.execute_input": "2022-07-22T09:55:41.979922Z",
     "iopub.status.busy": "2022-07-22T09:55:41.978107Z",
     "iopub.status.idle": "2022-07-22T09:55:41.986288Z",
     "shell.execute_reply": "2022-07-22T09:55:41.984324Z"
    },
    "id": "5b51f161",
    "papermill": {
     "duration": 0.032809,
     "end_time": "2022-07-22T09:55:41.992908",
     "exception": false,
     "start_time": "2022-07-22T09:55:41.960099",
     "status": "completed"
    },
    "tags": []
   },
   "outputs": [],
   "source": [
    "#Parameters \n",
    "n_features = 4\n",
    "n_samples= 100\n",
    "n_target = 1"
   ]
  },
  {
   "cell_type": "code",
   "execution_count": 6,
   "id": "5d6eced4",
   "metadata": {
    "execution": {
     "iopub.execute_input": "2022-07-22T09:55:42.021592Z",
     "iopub.status.busy": "2022-07-22T09:55:42.020887Z",
     "iopub.status.idle": "2022-07-22T09:55:42.045786Z",
     "shell.execute_reply": "2022-07-22T09:55:42.043787Z"
    },
    "id": "5d6eced4",
    "papermill": {
     "duration": 0.045295,
     "end_time": "2022-07-22T09:55:42.051986",
     "exception": false,
     "start_time": "2022-07-22T09:55:42.006691",
     "status": "completed"
    },
    "tags": []
   },
   "outputs": [
    {
     "name": "stdout",
     "output_type": "stream",
     "text": [
      "          X1           X2        X3        X4         Y\n",
      "0  17.343592  1151.662264  0.073531  1.969609  1.490130\n",
      "1  92.986625   280.534312  0.663821  9.437256  1.167698\n",
      "2   3.292484   458.156794  0.699808  6.896073  1.562459\n",
      "3  73.618978  1329.221170  0.106223  1.696330  1.164698\n",
      "4  58.086411   263.307705  0.685437  1.602459  1.468774\n"
     ]
    }
   ],
   "source": [
    "X,Y = friedman3Dataset.friedman3_data(n_samples)"
   ]
  },
  {
   "cell_type": "code",
   "execution_count": 7,
   "id": "fe007438",
   "metadata": {
    "execution": {
     "iopub.execute_input": "2022-07-22T09:55:42.098836Z",
     "iopub.status.busy": "2022-07-22T09:55:42.097571Z",
     "iopub.status.idle": "2022-07-22T09:55:42.109041Z",
     "shell.execute_reply": "2022-07-22T09:55:42.105747Z"
    },
    "id": "fe007438",
    "papermill": {
     "duration": 0.038343,
     "end_time": "2022-07-22T09:55:42.116005",
     "exception": false,
     "start_time": "2022-07-22T09:55:42.077662",
     "status": "completed"
    },
    "tags": []
   },
   "outputs": [],
   "source": [
    "#Train test split for dataset \n",
    "X_train,X_test,Y_train,Y_test = train_test_split(X,Y,test_size = 0.2)\n",
    "train_data = dataset.CustomDataset(X_train,Y_train)\n",
    "test_data = dataset.CustomDataset(X_test,Y_test)\n"
   ]
  },
  {
   "cell_type": "markdown",
   "id": "a9a1af34",
   "metadata": {
    "id": "a9a1af34",
    "papermill": {
     "duration": 0.014549,
     "end_time": "2022-07-22T09:55:42.143444",
     "exception": false,
     "start_time": "2022-07-22T09:55:42.128895",
     "status": "completed"
    },
    "tags": []
   },
   "source": [
    "## Training Parameters "
   ]
  },
  {
   "cell_type": "code",
   "execution_count": 8,
   "id": "952b7fc8",
   "metadata": {
    "execution": {
     "iopub.execute_input": "2022-07-22T09:55:42.171293Z",
     "iopub.status.busy": "2022-07-22T09:55:42.170633Z",
     "iopub.status.idle": "2022-07-22T09:55:42.176690Z",
     "shell.execute_reply": "2022-07-22T09:55:42.175532Z"
    },
    "id": "952b7fc8",
    "papermill": {
     "duration": 0.022878,
     "end_time": "2022-07-22T09:55:42.181181",
     "exception": false,
     "start_time": "2022-07-22T09:55:42.158303",
     "status": "completed"
    },
    "tags": []
   },
   "outputs": [],
   "source": [
    "batch_size = 32\n",
    "n_epochs = 1000\n",
    "#Select the device \n",
    "device = torch.device('cuda' if torch.cuda.is_available() else 'cpu')"
   ]
  },
  {
   "cell_type": "markdown",
   "id": "a95e1600",
   "metadata": {
    "id": "a95e1600",
    "papermill": {
     "duration": 0.013354,
     "end_time": "2022-07-22T09:55:42.205177",
     "exception": false,
     "start_time": "2022-07-22T09:55:42.191823",
     "status": "completed"
    },
    "tags": []
   },
   "source": [
    "# ABC Pre-generator Model \n",
    "\n",
    "1. The catboost model is used as a pre-generator model for the ABC-GAN. \n",
    "2. The model is first trained on the entire dataset \n",
    "3. It generats X,Y pairs and we add some Gaussian noise with mean 0 and variance 1 to it which is then feed as input to the generator.\n"
   ]
  },
  {
   "cell_type": "code",
   "execution_count": 9,
   "id": "ac011ebf",
   "metadata": {
    "execution": {
     "iopub.execute_input": "2022-07-22T09:55:42.225593Z",
     "iopub.status.busy": "2022-07-22T09:55:42.224364Z",
     "iopub.status.idle": "2022-07-22T09:57:00.466088Z",
     "shell.execute_reply": "2022-07-22T09:57:00.464834Z"
    },
    "papermill": {
     "duration": 78.254986,
     "end_time": "2022-07-22T09:57:00.468713",
     "exception": false,
     "start_time": "2022-07-22T09:55:42.213727",
     "status": "completed"
    },
    "tags": []
   },
   "outputs": [
    {
     "name": "stdout",
     "output_type": "stream",
     "text": [
      "Device used : cpu\n"
     ]
    },
    {
     "name": "stdout",
     "output_type": "stream",
     "text": [
      "epoch 0  | loss: 0.87754 | train_mse: 4.6736  | train_mae: 1.60248 |  0:00:00s\n",
      "epoch 1  | loss: 1.05118 | train_mse: 3.16243 | train_mae: 1.38033 |  0:00:00s\n",
      "epoch 2  | loss: 0.83557 | train_mse: 2.55961 | train_mae: 1.23088 |  0:00:00s\n"
     ]
    },
    {
     "name": "stdout",
     "output_type": "stream",
     "text": [
      "epoch 3  | loss: 0.83695 | train_mse: 1.93316 | train_mae: 1.07263 |  0:00:00s\n",
      "epoch 4  | loss: 0.66402 | train_mse: 1.60122 | train_mae: 0.98306 |  0:00:00s\n",
      "epoch 5  | loss: 0.75511 | train_mse: 1.38883 | train_mae: 0.91598 |  0:00:00s\n"
     ]
    },
    {
     "name": "stdout",
     "output_type": "stream",
     "text": [
      "epoch 6  | loss: 0.54243 | train_mse: 1.21988 | train_mae: 0.85346 |  0:00:00s\n",
      "epoch 7  | loss: 0.63465 | train_mse: 1.10259 | train_mae: 0.81949 |  0:00:00s\n"
     ]
    },
    {
     "name": "stdout",
     "output_type": "stream",
     "text": [
      "epoch 8  | loss: 0.63415 | train_mse: 0.97745 | train_mae: 0.76648 |  0:00:01s\n",
      "epoch 9  | loss: 0.6141  | train_mse: 0.86865 | train_mae: 0.72796 |  0:00:01s\n",
      "epoch 10 | loss: 0.73079 | train_mse: 0.78651 | train_mae: 0.70031 |  0:00:01s\n"
     ]
    },
    {
     "name": "stdout",
     "output_type": "stream",
     "text": [
      "epoch 11 | loss: 0.53398 | train_mse: 0.71492 | train_mae: 0.6733  |  0:00:01s\n",
      "epoch 12 | loss: 0.4986  | train_mse: 0.66142 | train_mae: 0.64959 |  0:00:01s\n",
      "epoch 13 | loss: 0.61708 | train_mse: 0.62276 | train_mae: 0.63188 |  0:00:01s\n"
     ]
    },
    {
     "name": "stdout",
     "output_type": "stream",
     "text": [
      "epoch 14 | loss: 0.41999 | train_mse: 0.58805 | train_mae: 0.61186 |  0:00:01s\n",
      "epoch 15 | loss: 0.49812 | train_mse: 0.55896 | train_mae: 0.59062 |  0:00:01s\n",
      "epoch 16 | loss: 0.40019 | train_mse: 0.53361 | train_mae: 0.57583 |  0:00:01s\n"
     ]
    },
    {
     "name": "stdout",
     "output_type": "stream",
     "text": [
      "epoch 17 | loss: 0.40038 | train_mse: 0.507   | train_mae: 0.56025 |  0:00:01s\n",
      "epoch 18 | loss: 0.52087 | train_mse: 0.49676 | train_mae: 0.55495 |  0:00:02s\n",
      "epoch 19 | loss: 0.52382 | train_mse: 0.48264 | train_mae: 0.54666 |  0:00:02s\n"
     ]
    },
    {
     "name": "stdout",
     "output_type": "stream",
     "text": [
      "epoch 20 | loss: 0.47731 | train_mse: 0.48531 | train_mae: 0.54295 |  0:00:02s\n",
      "epoch 21 | loss: 0.45181 | train_mse: 0.48868 | train_mae: 0.53958 |  0:00:02s\n",
      "epoch 22 | loss: 0.36811 | train_mse: 0.4803  | train_mae: 0.52932 |  0:00:02s\n"
     ]
    },
    {
     "name": "stdout",
     "output_type": "stream",
     "text": [
      "epoch 23 | loss: 0.33587 | train_mse: 0.47312 | train_mae: 0.52517 |  0:00:02s\n",
      "epoch 24 | loss: 0.30881 | train_mse: 0.46313 | train_mae: 0.52318 |  0:00:02s\n",
      "epoch 25 | loss: 0.4124  | train_mse: 0.46089 | train_mae: 0.52644 |  0:00:02s\n"
     ]
    },
    {
     "name": "stdout",
     "output_type": "stream",
     "text": [
      "epoch 26 | loss: 0.34361 | train_mse: 0.45439 | train_mae: 0.52532 |  0:00:02s\n",
      "epoch 27 | loss: 0.45687 | train_mse: 0.45334 | train_mae: 0.52292 |  0:00:02s\n"
     ]
    },
    {
     "name": "stdout",
     "output_type": "stream",
     "text": [
      "epoch 28 | loss: 0.39495 | train_mse: 0.44236 | train_mae: 0.51498 |  0:00:03s\n",
      "epoch 29 | loss: 0.48358 | train_mse: 0.42681 | train_mae: 0.50369 |  0:00:03s\n"
     ]
    },
    {
     "name": "stdout",
     "output_type": "stream",
     "text": [
      "epoch 30 | loss: 0.30794 | train_mse: 0.40706 | train_mae: 0.48992 |  0:00:03s\n",
      "epoch 31 | loss: 0.26694 | train_mse: 0.38288 | train_mae: 0.4757  |  0:00:03s\n"
     ]
    },
    {
     "name": "stdout",
     "output_type": "stream",
     "text": [
      "epoch 32 | loss: 0.32493 | train_mse: 0.3547  | train_mae: 0.46091 |  0:00:03s\n",
      "epoch 33 | loss: 0.31291 | train_mse: 0.3474  | train_mae: 0.45842 |  0:00:03s\n"
     ]
    },
    {
     "name": "stdout",
     "output_type": "stream",
     "text": [
      "epoch 34 | loss: 0.3464  | train_mse: 0.34452 | train_mae: 0.45798 |  0:00:03s\n",
      "epoch 35 | loss: 0.25877 | train_mse: 0.33761 | train_mae: 0.45259 |  0:00:04s\n"
     ]
    },
    {
     "name": "stdout",
     "output_type": "stream",
     "text": [
      "epoch 36 | loss: 0.35361 | train_mse: 0.33733 | train_mae: 0.45176 |  0:00:04s\n",
      "epoch 37 | loss: 0.45527 | train_mse: 0.32789 | train_mae: 0.44229 |  0:00:04s\n"
     ]
    },
    {
     "name": "stdout",
     "output_type": "stream",
     "text": [
      "epoch 38 | loss: 0.3108  | train_mse: 0.31909 | train_mae: 0.43116 |  0:00:04s\n",
      "epoch 39 | loss: 0.38069 | train_mse: 0.30663 | train_mae: 0.4235  |  0:00:04s\n"
     ]
    },
    {
     "name": "stdout",
     "output_type": "stream",
     "text": [
      "epoch 40 | loss: 0.297   | train_mse: 0.3003  | train_mae: 0.41708 |  0:00:04s\n",
      "epoch 41 | loss: 0.31264 | train_mse: 0.29299 | train_mae: 0.41285 |  0:00:04s\n"
     ]
    },
    {
     "name": "stdout",
     "output_type": "stream",
     "text": [
      "epoch 42 | loss: 0.24555 | train_mse: 0.28949 | train_mae: 0.40943 |  0:00:05s\n",
      "epoch 43 | loss: 0.43869 | train_mse: 0.27836 | train_mae: 0.40186 |  0:00:05s\n"
     ]
    },
    {
     "name": "stdout",
     "output_type": "stream",
     "text": [
      "epoch 44 | loss: 0.31702 | train_mse: 0.25635 | train_mae: 0.39073 |  0:00:05s\n",
      "epoch 45 | loss: 0.30351 | train_mse: 0.24111 | train_mae: 0.37902 |  0:00:05s\n"
     ]
    },
    {
     "name": "stdout",
     "output_type": "stream",
     "text": [
      "epoch 46 | loss: 0.38727 | train_mse: 0.24034 | train_mae: 0.37567 |  0:00:05s\n",
      "epoch 47 | loss: 0.30119 | train_mse: 0.24039 | train_mae: 0.37475 |  0:00:05s\n"
     ]
    },
    {
     "name": "stdout",
     "output_type": "stream",
     "text": [
      "epoch 48 | loss: 0.3852  | train_mse: 0.23892 | train_mae: 0.37342 |  0:00:05s\n",
      "epoch 49 | loss: 0.33642 | train_mse: 0.23213 | train_mae: 0.37031 |  0:00:05s\n"
     ]
    },
    {
     "name": "stdout",
     "output_type": "stream",
     "text": [
      "epoch 50 | loss: 0.31919 | train_mse: 0.22051 | train_mae: 0.35886 |  0:00:06s\n",
      "epoch 51 | loss: 0.33502 | train_mse: 0.2114  | train_mae: 0.34977 |  0:00:06s\n",
      "epoch 52 | loss: 0.40367 | train_mse: 0.20556 | train_mae: 0.34601 |  0:00:06s\n"
     ]
    },
    {
     "name": "stdout",
     "output_type": "stream",
     "text": [
      "epoch 53 | loss: 0.24165 | train_mse: 0.19826 | train_mae: 0.3376  |  0:00:06s\n",
      "epoch 54 | loss: 0.35032 | train_mse: 0.19239 | train_mae: 0.32836 |  0:00:06s\n",
      "epoch 55 | loss: 0.34095 | train_mse: 0.19062 | train_mae: 0.32258 |  0:00:06s\n"
     ]
    },
    {
     "name": "stdout",
     "output_type": "stream",
     "text": [
      "epoch 56 | loss: 0.30073 | train_mse: 0.1912  | train_mae: 0.32274 |  0:00:06s\n",
      "epoch 57 | loss: 0.37364 | train_mse: 0.19187 | train_mae: 0.32166 |  0:00:06s\n",
      "epoch 58 | loss: 0.26746 | train_mse: 0.1913  | train_mae: 0.32145 |  0:00:06s\n"
     ]
    },
    {
     "name": "stdout",
     "output_type": "stream",
     "text": [
      "epoch 59 | loss: 0.33025 | train_mse: 0.19151 | train_mae: 0.32035 |  0:00:06s\n",
      "epoch 60 | loss: 0.25813 | train_mse: 0.19422 | train_mae: 0.31957 |  0:00:07s\n",
      "epoch 61 | loss: 0.25953 | train_mse: 0.19947 | train_mae: 0.32025 |  0:00:07s\n"
     ]
    },
    {
     "name": "stdout",
     "output_type": "stream",
     "text": [
      "epoch 62 | loss: 0.29772 | train_mse: 0.19563 | train_mae: 0.31856 |  0:00:07s\n",
      "epoch 63 | loss: 0.29697 | train_mse: 0.19141 | train_mae: 0.31777 |  0:00:07s\n",
      "epoch 64 | loss: 0.30085 | train_mse: 0.19174 | train_mae: 0.31766 |  0:00:07s\n"
     ]
    },
    {
     "name": "stdout",
     "output_type": "stream",
     "text": [
      "epoch 65 | loss: 0.32253 | train_mse: 0.19575 | train_mae: 0.31934 |  0:00:07s\n",
      "epoch 66 | loss: 0.31483 | train_mse: 0.19528 | train_mae: 0.31479 |  0:00:07s\n",
      "epoch 67 | loss: 0.28642 | train_mse: 0.19429 | train_mae: 0.31217 |  0:00:07s\n"
     ]
    },
    {
     "name": "stdout",
     "output_type": "stream",
     "text": [
      "epoch 68 | loss: 0.41265 | train_mse: 0.19413 | train_mae: 0.31281 |  0:00:07s\n",
      "epoch 69 | loss: 0.26552 | train_mse: 0.19468 | train_mae: 0.31266 |  0:00:07s\n"
     ]
    },
    {
     "name": "stdout",
     "output_type": "stream",
     "text": [
      "epoch 70 | loss: 0.2277  | train_mse: 0.19004 | train_mae: 0.30877 |  0:00:07s\n",
      "epoch 71 | loss: 0.32558 | train_mse: 0.18966 | train_mae: 0.30512 |  0:00:08s\n"
     ]
    },
    {
     "name": "stdout",
     "output_type": "stream",
     "text": [
      "epoch 72 | loss: 0.26364 | train_mse: 0.1855  | train_mae: 0.29936 |  0:00:08s\n",
      "epoch 73 | loss: 0.27853 | train_mse: 0.18125 | train_mae: 0.29517 |  0:00:08s\n"
     ]
    },
    {
     "name": "stdout",
     "output_type": "stream",
     "text": [
      "epoch 74 | loss: 0.21864 | train_mse: 0.17809 | train_mae: 0.29646 |  0:00:08s\n",
      "epoch 75 | loss: 0.31601 | train_mse: 0.17741 | train_mae: 0.29774 |  0:00:08s\n",
      "epoch 76 | loss: 0.31572 | train_mse: 0.17519 | train_mae: 0.29919 |  0:00:08s\n"
     ]
    },
    {
     "name": "stdout",
     "output_type": "stream",
     "text": [
      "epoch 77 | loss: 0.28855 | train_mse: 0.16924 | train_mae: 0.29331 |  0:00:08s\n",
      "epoch 78 | loss: 0.27392 | train_mse: 0.16268 | train_mae: 0.28736 |  0:00:08s\n"
     ]
    },
    {
     "name": "stdout",
     "output_type": "stream",
     "text": [
      "epoch 79 | loss: 0.20574 | train_mse: 0.15591 | train_mae: 0.28212 |  0:00:08s\n",
      "epoch 80 | loss: 0.25659 | train_mse: 0.15141 | train_mae: 0.28296 |  0:00:08s\n",
      "epoch 81 | loss: 0.35545 | train_mse: 0.15205 | train_mae: 0.28329 |  0:00:09s\n"
     ]
    },
    {
     "name": "stdout",
     "output_type": "stream",
     "text": [
      "epoch 82 | loss: 0.22029 | train_mse: 0.15145 | train_mae: 0.28106 |  0:00:09s\n",
      "epoch 83 | loss: 0.19538 | train_mse: 0.15167 | train_mae: 0.28072 |  0:00:09s\n",
      "epoch 84 | loss: 0.23356 | train_mse: 0.15023 | train_mae: 0.28532 |  0:00:09s\n"
     ]
    },
    {
     "name": "stdout",
     "output_type": "stream",
     "text": [
      "epoch 85 | loss: 0.32369 | train_mse: 0.15006 | train_mae: 0.29124 |  0:00:09s\n",
      "epoch 86 | loss: 0.36736 | train_mse: 0.14952 | train_mae: 0.29201 |  0:00:09s\n",
      "epoch 87 | loss: 0.26306 | train_mse: 0.14642 | train_mae: 0.28541 |  0:00:09s\n"
     ]
    },
    {
     "name": "stdout",
     "output_type": "stream",
     "text": [
      "epoch 88 | loss: 0.31513 | train_mse: 0.14677 | train_mae: 0.28161 |  0:00:09s\n",
      "epoch 89 | loss: 0.29553 | train_mse: 0.14515 | train_mae: 0.28097 |  0:00:09s\n"
     ]
    },
    {
     "name": "stdout",
     "output_type": "stream",
     "text": [
      "epoch 90 | loss: 0.34095 | train_mse: 0.14403 | train_mae: 0.2789  |  0:00:09s\n",
      "epoch 91 | loss: 0.13647 | train_mse: 0.14693 | train_mae: 0.28165 |  0:00:09s\n",
      "epoch 92 | loss: 0.2872  | train_mse: 0.15088 | train_mae: 0.28614 |  0:00:10s\n"
     ]
    },
    {
     "name": "stdout",
     "output_type": "stream",
     "text": [
      "epoch 93 | loss: 0.30261 | train_mse: 0.15464 | train_mae: 0.28601 |  0:00:10s\n",
      "epoch 94 | loss: 0.26903 | train_mse: 0.1543  | train_mae: 0.28681 |  0:00:10s\n",
      "epoch 95 | loss: 0.21431 | train_mse: 0.15138 | train_mae: 0.28524 |  0:00:10s\n"
     ]
    },
    {
     "name": "stdout",
     "output_type": "stream",
     "text": [
      "epoch 96 | loss: 0.29025 | train_mse: 0.14917 | train_mae: 0.28109 |  0:00:10s\n",
      "epoch 97 | loss: 0.26572 | train_mse: 0.14463 | train_mae: 0.2726  |  0:00:10s\n",
      "epoch 98 | loss: 0.23141 | train_mse: 0.14292 | train_mae: 0.2718  |  0:00:10s\n"
     ]
    },
    {
     "name": "stdout",
     "output_type": "stream",
     "text": [
      "epoch 99 | loss: 0.22598 | train_mse: 0.14039 | train_mae: 0.27373 |  0:00:10s\n",
      "epoch 100| loss: 0.24431 | train_mse: 0.14137 | train_mae: 0.27429 |  0:00:10s\n"
     ]
    },
    {
     "name": "stdout",
     "output_type": "stream",
     "text": [
      "epoch 101| loss: 0.26521 | train_mse: 0.14386 | train_mae: 0.27585 |  0:00:10s\n",
      "epoch 102| loss: 0.17731 | train_mse: 0.14592 | train_mae: 0.27316 |  0:00:10s\n",
      "epoch 103| loss: 0.27232 | train_mse: 0.14596 | train_mae: 0.27453 |  0:00:11s\n"
     ]
    },
    {
     "name": "stdout",
     "output_type": "stream",
     "text": [
      "epoch 104| loss: 0.26946 | train_mse: 0.14454 | train_mae: 0.27573 |  0:00:11s\n",
      "epoch 105| loss: 0.24493 | train_mse: 0.14334 | train_mae: 0.27512 |  0:00:11s\n",
      "epoch 106| loss: 0.25576 | train_mse: 0.14228 | train_mae: 0.27721 |  0:00:11s\n"
     ]
    },
    {
     "name": "stdout",
     "output_type": "stream",
     "text": [
      "epoch 107| loss: 0.28791 | train_mse: 0.14307 | train_mae: 0.27662 |  0:00:11s\n",
      "epoch 108| loss: 0.31314 | train_mse: 0.14361 | train_mae: 0.27689 |  0:00:11s\n",
      "epoch 109| loss: 0.27475 | train_mse: 0.1447  | train_mae: 0.2781  |  0:00:11s\n"
     ]
    },
    {
     "name": "stdout",
     "output_type": "stream",
     "text": [
      "epoch 110| loss: 0.22998 | train_mse: 0.15303 | train_mae: 0.279   |  0:00:11s\n",
      "epoch 111| loss: 0.22772 | train_mse: 0.15429 | train_mae: 0.27541 |  0:00:11s\n",
      "epoch 112| loss: 0.31835 | train_mse: 0.15358 | train_mae: 0.27394 |  0:00:11s\n"
     ]
    },
    {
     "name": "stdout",
     "output_type": "stream",
     "text": [
      "epoch 113| loss: 0.19787 | train_mse: 0.15351 | train_mae: 0.27544 |  0:00:11s\n",
      "epoch 114| loss: 0.2052  | train_mse: 0.15648 | train_mae: 0.27875 |  0:00:12s\n",
      "epoch 115| loss: 0.20823 | train_mse: 0.15757 | train_mae: 0.27818 |  0:00:12s\n"
     ]
    },
    {
     "name": "stdout",
     "output_type": "stream",
     "text": [
      "epoch 116| loss: 0.21604 | train_mse: 0.15685 | train_mae: 0.27922 |  0:00:12s\n",
      "epoch 117| loss: 0.34679 | train_mse: 0.16048 | train_mae: 0.28156 |  0:00:12s\n",
      "epoch 118| loss: 0.29096 | train_mse: 0.15795 | train_mae: 0.28551 |  0:00:12s\n"
     ]
    },
    {
     "name": "stdout",
     "output_type": "stream",
     "text": [
      "epoch 119| loss: 0.23466 | train_mse: 0.15079 | train_mae: 0.28122 |  0:00:12s\n",
      "epoch 120| loss: 0.27401 | train_mse: 0.14905 | train_mae: 0.28023 |  0:00:12s\n",
      "epoch 121| loss: 0.16932 | train_mse: 0.1505  | train_mae: 0.27927 |  0:00:12s\n"
     ]
    },
    {
     "name": "stdout",
     "output_type": "stream",
     "text": [
      "epoch 122| loss: 0.21976 | train_mse: 0.15105 | train_mae: 0.27648 |  0:00:12s\n",
      "epoch 123| loss: 0.29626 | train_mse: 0.14929 | train_mae: 0.2728  |  0:00:12s\n",
      "epoch 124| loss: 0.23368 | train_mse: 0.1486  | train_mae: 0.27191 |  0:00:13s\n"
     ]
    },
    {
     "name": "stdout",
     "output_type": "stream",
     "text": [
      "epoch 125| loss: 0.27683 | train_mse: 0.14294 | train_mae: 0.27112 |  0:00:13s\n",
      "epoch 126| loss: 0.22109 | train_mse: 0.14101 | train_mae: 0.26868 |  0:00:13s\n",
      "epoch 127| loss: 0.18926 | train_mse: 0.13938 | train_mae: 0.26855 |  0:00:13s\n"
     ]
    },
    {
     "name": "stdout",
     "output_type": "stream",
     "text": [
      "epoch 128| loss: 0.22798 | train_mse: 0.13918 | train_mae: 0.27042 |  0:00:13s\n",
      "epoch 129| loss: 0.27611 | train_mse: 0.13601 | train_mae: 0.27239 |  0:00:13s\n"
     ]
    },
    {
     "name": "stdout",
     "output_type": "stream",
     "text": [
      "epoch 130| loss: 0.479   | train_mse: 0.13475 | train_mae: 0.27326 |  0:00:13s\n",
      "epoch 131| loss: 0.22404 | train_mse: 0.1324  | train_mae: 0.27334 |  0:00:13s\n",
      "epoch 132| loss: 0.24262 | train_mse: 0.13787 | train_mae: 0.27976 |  0:00:13s\n"
     ]
    },
    {
     "name": "stdout",
     "output_type": "stream",
     "text": [
      "epoch 133| loss: 0.29665 | train_mse: 0.13833 | train_mae: 0.28019 |  0:00:13s\n",
      "epoch 134| loss: 0.19952 | train_mse: 0.13765 | train_mae: 0.27831 |  0:00:14s\n",
      "epoch 135| loss: 0.21667 | train_mse: 0.1342  | train_mae: 0.27601 |  0:00:14s\n"
     ]
    },
    {
     "name": "stdout",
     "output_type": "stream",
     "text": [
      "epoch 136| loss: 0.32602 | train_mse: 0.12988 | train_mae: 0.27456 |  0:00:14s\n",
      "epoch 137| loss: 0.20126 | train_mse: 0.12819 | train_mae: 0.27091 |  0:00:14s\n",
      "epoch 138| loss: 0.29662 | train_mse: 0.12674 | train_mae: 0.27273 |  0:00:14s\n"
     ]
    },
    {
     "name": "stdout",
     "output_type": "stream",
     "text": [
      "epoch 139| loss: 0.26849 | train_mse: 0.12821 | train_mae: 0.27312 |  0:00:14s\n",
      "epoch 140| loss: 0.19353 | train_mse: 0.12514 | train_mae: 0.27255 |  0:00:14s\n",
      "epoch 141| loss: 0.20574 | train_mse: 0.12471 | train_mae: 0.27127 |  0:00:14s\n"
     ]
    },
    {
     "name": "stdout",
     "output_type": "stream",
     "text": [
      "epoch 142| loss: 0.18433 | train_mse: 0.12442 | train_mae: 0.27141 |  0:00:14s\n",
      "epoch 143| loss: 0.17098 | train_mse: 0.12375 | train_mae: 0.27034 |  0:00:14s\n"
     ]
    },
    {
     "name": "stdout",
     "output_type": "stream",
     "text": [
      "epoch 144| loss: 0.141   | train_mse: 0.12418 | train_mae: 0.26872 |  0:00:14s\n",
      "epoch 145| loss: 0.1959  | train_mse: 0.12477 | train_mae: 0.26453 |  0:00:15s\n",
      "epoch 146| loss: 0.29654 | train_mse: 0.12577 | train_mae: 0.26503 |  0:00:15s\n"
     ]
    },
    {
     "name": "stdout",
     "output_type": "stream",
     "text": [
      "epoch 147| loss: 0.18729 | train_mse: 0.1239  | train_mae: 0.26278 |  0:00:15s\n",
      "epoch 148| loss: 0.18627 | train_mse: 0.12446 | train_mae: 0.26355 |  0:00:15s\n",
      "epoch 149| loss: 0.30214 | train_mse: 0.12458 | train_mae: 0.26384 |  0:00:15s\n"
     ]
    },
    {
     "name": "stdout",
     "output_type": "stream",
     "text": [
      "epoch 150| loss: 0.18793 | train_mse: 0.12586 | train_mae: 0.26601 |  0:00:15s\n",
      "epoch 151| loss: 0.22877 | train_mse: 0.12521 | train_mae: 0.26505 |  0:00:15s\n",
      "epoch 152| loss: 0.21926 | train_mse: 0.1226  | train_mae: 0.26181 |  0:00:15s\n"
     ]
    },
    {
     "name": "stdout",
     "output_type": "stream",
     "text": [
      "epoch 153| loss: 0.17238 | train_mse: 0.11966 | train_mae: 0.25497 |  0:00:15s\n",
      "epoch 154| loss: 0.24668 | train_mse: 0.11853 | train_mae: 0.24986 |  0:00:15s\n"
     ]
    },
    {
     "name": "stdout",
     "output_type": "stream",
     "text": [
      "epoch 155| loss: 0.27346 | train_mse: 0.11779 | train_mae: 0.24683 |  0:00:15s\n",
      "epoch 156| loss: 0.22878 | train_mse: 0.11953 | train_mae: 0.24959 |  0:00:16s\n",
      "epoch 157| loss: 0.17458 | train_mse: 0.11863 | train_mae: 0.2474  |  0:00:16s\n"
     ]
    },
    {
     "name": "stdout",
     "output_type": "stream",
     "text": [
      "epoch 158| loss: 0.2604  | train_mse: 0.11759 | train_mae: 0.24643 |  0:00:16s\n",
      "epoch 159| loss: 0.25027 | train_mse: 0.11519 | train_mae: 0.24711 |  0:00:16s\n",
      "epoch 160| loss: 0.28184 | train_mse: 0.11392 | train_mae: 0.24952 |  0:00:16s\n"
     ]
    },
    {
     "name": "stdout",
     "output_type": "stream",
     "text": [
      "epoch 161| loss: 0.22594 | train_mse: 0.11327 | train_mae: 0.25097 |  0:00:16s\n",
      "epoch 162| loss: 0.14335 | train_mse: 0.1139  | train_mae: 0.25213 |  0:00:16s\n",
      "epoch 163| loss: 0.2202  | train_mse: 0.11342 | train_mae: 0.25149 |  0:00:16s\n"
     ]
    },
    {
     "name": "stdout",
     "output_type": "stream",
     "text": [
      "epoch 164| loss: 0.20328 | train_mse: 0.11294 | train_mae: 0.25348 |  0:00:16s\n",
      "epoch 165| loss: 0.21262 | train_mse: 0.11113 | train_mae: 0.25395 |  0:00:16s\n",
      "epoch 166| loss: 0.23782 | train_mse: 0.1101  | train_mae: 0.25494 |  0:00:17s\n"
     ]
    },
    {
     "name": "stdout",
     "output_type": "stream",
     "text": [
      "epoch 167| loss: 0.16496 | train_mse: 0.11016 | train_mae: 0.25794 |  0:00:17s\n",
      "epoch 168| loss: 0.31741 | train_mse: 0.10967 | train_mae: 0.25904 |  0:00:17s\n",
      "epoch 169| loss: 0.25642 | train_mse: 0.10969 | train_mae: 0.26098 |  0:00:17s\n"
     ]
    },
    {
     "name": "stdout",
     "output_type": "stream",
     "text": [
      "epoch 170| loss: 0.18961 | train_mse: 0.11045 | train_mae: 0.26152 |  0:00:17s\n",
      "epoch 171| loss: 0.15415 | train_mse: 0.11067 | train_mae: 0.25994 |  0:00:17s\n",
      "epoch 172| loss: 0.14007 | train_mse: 0.11068 | train_mae: 0.25674 |  0:00:17s\n"
     ]
    },
    {
     "name": "stdout",
     "output_type": "stream",
     "text": [
      "epoch 173| loss: 0.24844 | train_mse: 0.11277 | train_mae: 0.25565 |  0:00:17s\n",
      "epoch 174| loss: 0.27804 | train_mse: 0.1134  | train_mae: 0.25496 |  0:00:17s\n"
     ]
    },
    {
     "name": "stdout",
     "output_type": "stream",
     "text": [
      "epoch 175| loss: 0.15895 | train_mse: 0.11301 | train_mae: 0.25311 |  0:00:17s\n",
      "epoch 176| loss: 0.27813 | train_mse: 0.11299 | train_mae: 0.25047 |  0:00:17s\n",
      "epoch 177| loss: 0.19322 | train_mse: 0.11326 | train_mae: 0.25015 |  0:00:18s\n"
     ]
    },
    {
     "name": "stdout",
     "output_type": "stream",
     "text": [
      "epoch 178| loss: 0.245   | train_mse: 0.11588 | train_mae: 0.25136 |  0:00:18s\n",
      "epoch 179| loss: 0.15614 | train_mse: 0.11522 | train_mae: 0.25141 |  0:00:18s\n",
      "epoch 180| loss: 0.16021 | train_mse: 0.11514 | train_mae: 0.25119 |  0:00:18s\n"
     ]
    },
    {
     "name": "stdout",
     "output_type": "stream",
     "text": [
      "epoch 181| loss: 0.18351 | train_mse: 0.11825 | train_mae: 0.25499 |  0:00:18s\n",
      "epoch 182| loss: 0.20898 | train_mse: 0.11669 | train_mae: 0.25627 |  0:00:18s\n",
      "epoch 183| loss: 0.21006 | train_mse: 0.11775 | train_mae: 0.25994 |  0:00:18s\n"
     ]
    },
    {
     "name": "stdout",
     "output_type": "stream",
     "text": [
      "epoch 184| loss: 0.14019 | train_mse: 0.11718 | train_mae: 0.26282 |  0:00:18s\n",
      "epoch 185| loss: 0.28616 | train_mse: 0.11929 | train_mae: 0.2669  |  0:00:18s\n"
     ]
    },
    {
     "name": "stdout",
     "output_type": "stream",
     "text": [
      "epoch 186| loss: 0.17118 | train_mse: 0.11857 | train_mae: 0.2647  |  0:00:18s\n",
      "epoch 187| loss: 0.22761 | train_mse: 0.1124  | train_mae: 0.26347 |  0:00:18s\n",
      "epoch 188| loss: 0.24073 | train_mse: 0.10948 | train_mae: 0.25803 |  0:00:19s\n"
     ]
    },
    {
     "name": "stdout",
     "output_type": "stream",
     "text": [
      "epoch 189| loss: 0.14987 | train_mse: 0.10516 | train_mae: 0.2539  |  0:00:19s\n",
      "epoch 190| loss: 0.16058 | train_mse: 0.10387 | train_mae: 0.249   |  0:00:19s\n",
      "epoch 191| loss: 0.25804 | train_mse: 0.10275 | train_mae: 0.24633 |  0:00:19s\n"
     ]
    },
    {
     "name": "stdout",
     "output_type": "stream",
     "text": [
      "epoch 192| loss: 0.2617  | train_mse: 0.10332 | train_mae: 0.24619 |  0:00:19s\n",
      "epoch 193| loss: 0.19847 | train_mse: 0.10529 | train_mae: 0.24891 |  0:00:19s\n",
      "epoch 194| loss: 0.41079 | train_mse: 0.10442 | train_mae: 0.25067 |  0:00:19s\n"
     ]
    },
    {
     "name": "stdout",
     "output_type": "stream",
     "text": [
      "epoch 195| loss: 0.17498 | train_mse: 0.10511 | train_mae: 0.25298 |  0:00:19s\n",
      "epoch 196| loss: 0.18621 | train_mse: 0.10492 | train_mae: 0.25366 |  0:00:19s\n"
     ]
    },
    {
     "name": "stdout",
     "output_type": "stream",
     "text": [
      "epoch 197| loss: 0.15306 | train_mse: 0.10559 | train_mae: 0.25458 |  0:00:19s\n",
      "epoch 198| loss: 0.17867 | train_mse: 0.10369 | train_mae: 0.25196 |  0:00:20s\n",
      "epoch 199| loss: 0.11982 | train_mse: 0.09917 | train_mae: 0.24908 |  0:00:20s\n"
     ]
    },
    {
     "name": "stdout",
     "output_type": "stream",
     "text": [
      "epoch 200| loss: 0.16391 | train_mse: 0.09502 | train_mae: 0.24347 |  0:00:20s\n",
      "epoch 201| loss: 0.22011 | train_mse: 0.09448 | train_mae: 0.23856 |  0:00:20s\n",
      "epoch 202| loss: 0.19009 | train_mse: 0.09731 | train_mae: 0.23754 |  0:00:20s\n"
     ]
    },
    {
     "name": "stdout",
     "output_type": "stream",
     "text": [
      "epoch 203| loss: 0.21389 | train_mse: 0.09909 | train_mae: 0.23554 |  0:00:20s\n",
      "epoch 204| loss: 0.1804  | train_mse: 0.10119 | train_mae: 0.23392 |  0:00:20s\n",
      "epoch 205| loss: 0.27609 | train_mse: 0.10335 | train_mae: 0.23312 |  0:00:20s\n"
     ]
    },
    {
     "name": "stdout",
     "output_type": "stream",
     "text": [
      "epoch 206| loss: 0.19118 | train_mse: 0.10268 | train_mae: 0.2306  |  0:00:20s\n",
      "epoch 207| loss: 0.27898 | train_mse: 0.10653 | train_mae: 0.23266 |  0:00:20s\n"
     ]
    },
    {
     "name": "stdout",
     "output_type": "stream",
     "text": [
      "epoch 208| loss: 0.26181 | train_mse: 0.10942 | train_mae: 0.23675 |  0:00:21s\n",
      "epoch 209| loss: 0.16572 | train_mse: 0.11434 | train_mae: 0.24201 |  0:00:21s\n",
      "epoch 210| loss: 0.23596 | train_mse: 0.11634 | train_mae: 0.24464 |  0:00:21s\n"
     ]
    },
    {
     "name": "stdout",
     "output_type": "stream",
     "text": [
      "epoch 211| loss: 0.1499  | train_mse: 0.11744 | train_mae: 0.247   |  0:00:21s\n",
      "epoch 212| loss: 0.22041 | train_mse: 0.116   | train_mae: 0.2456  |  0:00:21s\n",
      "epoch 213| loss: 0.23372 | train_mse: 0.11623 | train_mae: 0.24167 |  0:00:21s\n"
     ]
    },
    {
     "name": "stdout",
     "output_type": "stream",
     "text": [
      "epoch 214| loss: 0.11891 | train_mse: 0.11713 | train_mae: 0.23992 |  0:00:21s\n",
      "epoch 215| loss: 0.1664  | train_mse: 0.11079 | train_mae: 0.2355  |  0:00:21s\n",
      "epoch 216| loss: 0.16159 | train_mse: 0.10882 | train_mae: 0.23515 |  0:00:21s\n"
     ]
    },
    {
     "name": "stdout",
     "output_type": "stream",
     "text": [
      "epoch 217| loss: 0.1777  | train_mse: 0.10323 | train_mae: 0.23417 |  0:00:21s\n",
      "epoch 218| loss: 0.27658 | train_mse: 0.09876 | train_mae: 0.23461 |  0:00:21s\n"
     ]
    },
    {
     "name": "stdout",
     "output_type": "stream",
     "text": [
      "epoch 219| loss: 0.23448 | train_mse: 0.10113 | train_mae: 0.23854 |  0:00:22s\n",
      "epoch 220| loss: 0.13261 | train_mse: 0.10227 | train_mae: 0.23967 |  0:00:22s\n",
      "epoch 221| loss: 0.23098 | train_mse: 0.10418 | train_mae: 0.24076 |  0:00:22s\n"
     ]
    },
    {
     "name": "stdout",
     "output_type": "stream",
     "text": [
      "epoch 222| loss: 0.32503 | train_mse: 0.10553 | train_mae: 0.24203 |  0:00:22s\n",
      "epoch 223| loss: 0.20276 | train_mse: 0.10697 | train_mae: 0.24199 |  0:00:22s\n",
      "epoch 224| loss: 0.20085 | train_mse: 0.10772 | train_mae: 0.24096 |  0:00:22s\n"
     ]
    },
    {
     "name": "stdout",
     "output_type": "stream",
     "text": [
      "epoch 225| loss: 0.15845 | train_mse: 0.10619 | train_mae: 0.24069 |  0:00:22s\n",
      "epoch 226| loss: 0.15073 | train_mse: 0.1043  | train_mae: 0.24282 |  0:00:22s\n",
      "epoch 227| loss: 0.15838 | train_mse: 0.10287 | train_mae: 0.24337 |  0:00:22s\n"
     ]
    },
    {
     "name": "stdout",
     "output_type": "stream",
     "text": [
      "epoch 228| loss: 0.17064 | train_mse: 0.10256 | train_mae: 0.2443  |  0:00:22s\n",
      "epoch 229| loss: 0.12786 | train_mse: 0.10014 | train_mae: 0.24327 |  0:00:23s\n",
      "epoch 230| loss: 0.23074 | train_mse: 0.0999  | train_mae: 0.24198 |  0:00:23s\n"
     ]
    },
    {
     "name": "stdout",
     "output_type": "stream",
     "text": [
      "epoch 231| loss: 0.20004 | train_mse: 0.09815 | train_mae: 0.24102 |  0:00:23s\n",
      "epoch 232| loss: 0.13242 | train_mse: 0.09799 | train_mae: 0.24191 |  0:00:23s\n",
      "epoch 233| loss: 0.15857 | train_mse: 0.09952 | train_mae: 0.24258 |  0:00:23s\n"
     ]
    },
    {
     "name": "stdout",
     "output_type": "stream",
     "text": [
      "epoch 234| loss: 0.16872 | train_mse: 0.09974 | train_mae: 0.24153 |  0:00:23s\n",
      "epoch 235| loss: 0.29928 | train_mse: 0.09798 | train_mae: 0.23805 |  0:00:23s\n",
      "epoch 236| loss: 0.17183 | train_mse: 0.10055 | train_mae: 0.23854 |  0:00:23s\n"
     ]
    },
    {
     "name": "stdout",
     "output_type": "stream",
     "text": [
      "epoch 237| loss: 0.14921 | train_mse: 0.0989  | train_mae: 0.23512 |  0:00:23s\n",
      "epoch 238| loss: 0.18379 | train_mse: 0.10161 | train_mae: 0.23234 |  0:00:23s\n"
     ]
    },
    {
     "name": "stdout",
     "output_type": "stream",
     "text": [
      "epoch 239| loss: 0.16074 | train_mse: 0.10535 | train_mae: 0.23143 |  0:00:23s\n",
      "epoch 240| loss: 0.15717 | train_mse: 0.10692 | train_mae: 0.23056 |  0:00:23s\n",
      "epoch 241| loss: 0.1544  | train_mse: 0.10348 | train_mae: 0.22714 |  0:00:24s\n"
     ]
    },
    {
     "name": "stdout",
     "output_type": "stream",
     "text": [
      "epoch 242| loss: 0.19896 | train_mse: 0.10464 | train_mae: 0.22705 |  0:00:24s\n",
      "epoch 243| loss: 0.14305 | train_mse: 0.09885 | train_mae: 0.22705 |  0:00:24s\n",
      "epoch 244| loss: 0.14564 | train_mse: 0.0942  | train_mae: 0.22801 |  0:00:24s\n"
     ]
    },
    {
     "name": "stdout",
     "output_type": "stream",
     "text": [
      "epoch 245| loss: 0.13361 | train_mse: 0.0942  | train_mae: 0.22802 |  0:00:24s\n",
      "epoch 246| loss: 0.15634 | train_mse: 0.09033 | train_mae: 0.22649 |  0:00:24s\n",
      "epoch 247| loss: 0.14471 | train_mse: 0.08933 | train_mae: 0.22827 |  0:00:24s\n"
     ]
    },
    {
     "name": "stdout",
     "output_type": "stream",
     "text": [
      "epoch 248| loss: 0.17587 | train_mse: 0.08657 | train_mae: 0.22672 |  0:00:24s\n",
      "epoch 249| loss: 0.12455 | train_mse: 0.0845  | train_mae: 0.22321 |  0:00:24s\n"
     ]
    },
    {
     "name": "stdout",
     "output_type": "stream",
     "text": [
      "epoch 250| loss: 0.1192  | train_mse: 0.08326 | train_mae: 0.2222  |  0:00:24s\n",
      "epoch 251| loss: 0.19111 | train_mse: 0.08183 | train_mae: 0.21858 |  0:00:25s\n",
      "epoch 252| loss: 0.15691 | train_mse: 0.0811  | train_mae: 0.21676 |  0:00:25s\n"
     ]
    },
    {
     "name": "stdout",
     "output_type": "stream",
     "text": [
      "epoch 253| loss: 0.10102 | train_mse: 0.08119 | train_mae: 0.21874 |  0:00:25s\n",
      "epoch 254| loss: 0.21922 | train_mse: 0.08056 | train_mae: 0.21795 |  0:00:25s\n",
      "epoch 255| loss: 0.14695 | train_mse: 0.07938 | train_mae: 0.21558 |  0:00:25s\n"
     ]
    },
    {
     "name": "stdout",
     "output_type": "stream",
     "text": [
      "epoch 256| loss: 0.22468 | train_mse: 0.07888 | train_mae: 0.2152  |  0:00:25s\n",
      "epoch 257| loss: 0.21715 | train_mse: 0.08113 | train_mae: 0.21686 |  0:00:25s\n",
      "epoch 258| loss: 0.11431 | train_mse: 0.08264 | train_mae: 0.21865 |  0:00:25s\n"
     ]
    },
    {
     "name": "stdout",
     "output_type": "stream",
     "text": [
      "epoch 259| loss: 0.1264  | train_mse: 0.08335 | train_mae: 0.22246 |  0:00:25s\n",
      "epoch 260| loss: 0.2053  | train_mse: 0.08364 | train_mae: 0.22382 |  0:00:25s\n"
     ]
    },
    {
     "name": "stdout",
     "output_type": "stream",
     "text": [
      "epoch 261| loss: 0.17454 | train_mse: 0.08208 | train_mae: 0.22435 |  0:00:25s\n",
      "epoch 262| loss: 0.21593 | train_mse: 0.08201 | train_mae: 0.22519 |  0:00:26s\n",
      "epoch 263| loss: 0.20518 | train_mse: 0.08257 | train_mae: 0.22643 |  0:00:26s\n"
     ]
    },
    {
     "name": "stdout",
     "output_type": "stream",
     "text": [
      "epoch 264| loss: 0.18921 | train_mse: 0.08238 | train_mae: 0.22464 |  0:00:26s\n",
      "epoch 265| loss: 0.15915 | train_mse: 0.08167 | train_mae: 0.22322 |  0:00:26s\n",
      "epoch 266| loss: 0.24721 | train_mse: 0.0808  | train_mae: 0.22207 |  0:00:26s\n"
     ]
    },
    {
     "name": "stdout",
     "output_type": "stream",
     "text": [
      "epoch 267| loss: 0.30687 | train_mse: 0.0821  | train_mae: 0.2218  |  0:00:26s\n",
      "epoch 268| loss: 0.16301 | train_mse: 0.08401 | train_mae: 0.22061 |  0:00:26s\n",
      "epoch 269| loss: 0.13878 | train_mse: 0.08489 | train_mae: 0.21991 |  0:00:26s\n"
     ]
    },
    {
     "name": "stdout",
     "output_type": "stream",
     "text": [
      "epoch 270| loss: 0.16269 | train_mse: 0.08539 | train_mae: 0.21834 |  0:00:26s\n",
      "epoch 271| loss: 0.20898 | train_mse: 0.08305 | train_mae: 0.21559 |  0:00:26s\n"
     ]
    },
    {
     "name": "stdout",
     "output_type": "stream",
     "text": [
      "epoch 272| loss: 0.25477 | train_mse: 0.08047 | train_mae: 0.21285 |  0:00:27s\n",
      "epoch 273| loss: 0.14561 | train_mse: 0.08065 | train_mae: 0.21103 |  0:00:27s\n",
      "epoch 274| loss: 0.25297 | train_mse: 0.07922 | train_mae: 0.20742 |  0:00:27s\n"
     ]
    },
    {
     "name": "stdout",
     "output_type": "stream",
     "text": [
      "epoch 275| loss: 0.23326 | train_mse: 0.07813 | train_mae: 0.2046  |  0:00:27s\n",
      "epoch 276| loss: 0.23018 | train_mse: 0.07803 | train_mae: 0.20484 |  0:00:27s\n",
      "epoch 277| loss: 0.16737 | train_mse: 0.07863 | train_mae: 0.20643 |  0:00:27s\n"
     ]
    },
    {
     "name": "stdout",
     "output_type": "stream",
     "text": [
      "epoch 278| loss: 0.18712 | train_mse: 0.08087 | train_mae: 0.20744 |  0:00:27s\n",
      "epoch 279| loss: 0.21108 | train_mse: 0.08085 | train_mae: 0.20802 |  0:00:27s\n",
      "epoch 280| loss: 0.29755 | train_mse: 0.07855 | train_mae: 0.20473 |  0:00:27s\n"
     ]
    },
    {
     "name": "stdout",
     "output_type": "stream",
     "text": [
      "epoch 281| loss: 0.19167 | train_mse: 0.07801 | train_mae: 0.2058  |  0:00:27s\n",
      "epoch 282| loss: 0.21732 | train_mse: 0.07842 | train_mae: 0.21017 |  0:00:27s\n",
      "epoch 283| loss: 0.27887 | train_mse: 0.07993 | train_mae: 0.21104 |  0:00:28s"
     ]
    },
    {
     "name": "stdout",
     "output_type": "stream",
     "text": [
      "\n",
      "epoch 284| loss: 0.10371 | train_mse: 0.08096 | train_mae: 0.21225 |  0:00:28s\n",
      "epoch 285| loss: 0.11393 | train_mse: 0.08098 | train_mae: 0.21127 |  0:00:28s\n"
     ]
    },
    {
     "name": "stdout",
     "output_type": "stream",
     "text": [
      "epoch 286| loss: 0.15429 | train_mse: 0.08094 | train_mae: 0.21174 |  0:00:28s\n",
      "epoch 287| loss: 0.22776 | train_mse: 0.08057 | train_mae: 0.21127 |  0:00:28s\n",
      "epoch 288| loss: 0.17726 | train_mse: 0.08126 | train_mae: 0.21308 |  0:00:28s\n"
     ]
    },
    {
     "name": "stdout",
     "output_type": "stream",
     "text": [
      "epoch 289| loss: 0.24948 | train_mse: 0.08231 | train_mae: 0.21457 |  0:00:28s\n",
      "epoch 290| loss: 0.19714 | train_mse: 0.08275 | train_mae: 0.21513 |  0:00:28s\n"
     ]
    },
    {
     "name": "stdout",
     "output_type": "stream",
     "text": [
      "epoch 291| loss: 0.12406 | train_mse: 0.08338 | train_mae: 0.21404 |  0:00:28s\n",
      "epoch 292| loss: 0.14489 | train_mse: 0.08215 | train_mae: 0.21187 |  0:00:28s\n"
     ]
    },
    {
     "name": "stdout",
     "output_type": "stream",
     "text": [
      "epoch 293| loss: 0.1405  | train_mse: 0.08229 | train_mae: 0.21002 |  0:00:29s\n",
      "epoch 294| loss: 0.15712 | train_mse: 0.0789  | train_mae: 0.20484 |  0:00:29s\n",
      "epoch 295| loss: 0.23502 | train_mse: 0.07928 | train_mae: 0.20275 |  0:00:29s\n"
     ]
    },
    {
     "name": "stdout",
     "output_type": "stream",
     "text": [
      "epoch 296| loss: 0.10162 | train_mse: 0.07825 | train_mae: 0.20259 |  0:00:29s\n",
      "epoch 297| loss: 0.31351 | train_mse: 0.07903 | train_mae: 0.20205 |  0:00:29s\n",
      "epoch 298| loss: 0.15904 | train_mse: 0.08035 | train_mae: 0.20266 |  0:00:29s\n"
     ]
    },
    {
     "name": "stdout",
     "output_type": "stream",
     "text": [
      "epoch 299| loss: 0.1394  | train_mse: 0.0812  | train_mae: 0.20422 |  0:00:29s\n",
      "epoch 300| loss: 0.11968 | train_mse: 0.08044 | train_mae: 0.20421 |  0:00:29s\n",
      "epoch 301| loss: 0.23517 | train_mse: 0.07958 | train_mae: 0.20465 |  0:00:29s\n"
     ]
    },
    {
     "name": "stdout",
     "output_type": "stream",
     "text": [
      "epoch 302| loss: 0.18813 | train_mse: 0.08024 | train_mae: 0.20648 |  0:00:29s\n",
      "epoch 303| loss: 0.1797  | train_mse: 0.08239 | train_mae: 0.212   |  0:00:29s\n",
      "epoch 304| loss: 0.17112 | train_mse: 0.08569 | train_mae: 0.21651 |  0:00:30s\n"
     ]
    },
    {
     "name": "stdout",
     "output_type": "stream",
     "text": [
      "epoch 305| loss: 0.26543 | train_mse: 0.0874  | train_mae: 0.21999 |  0:00:30s\n",
      "epoch 306| loss: 0.23473 | train_mse: 0.08744 | train_mae: 0.22087 |  0:00:30s\n",
      "epoch 307| loss: 0.19775 | train_mse: 0.08398 | train_mae: 0.21862 |  0:00:30s\n"
     ]
    },
    {
     "name": "stdout",
     "output_type": "stream",
     "text": [
      "epoch 308| loss: 0.15049 | train_mse: 0.0832  | train_mae: 0.21735 |  0:00:30s\n",
      "epoch 309| loss: 0.10534 | train_mse: 0.08246 | train_mae: 0.21702 |  0:00:30s\n",
      "epoch 310| loss: 0.1656  | train_mse: 0.08176 | train_mae: 0.21513 |  0:00:30s\n"
     ]
    },
    {
     "name": "stdout",
     "output_type": "stream",
     "text": [
      "epoch 311| loss: 0.25369 | train_mse: 0.08047 | train_mae: 0.21245 |  0:00:30s\n",
      "epoch 312| loss: 0.12644 | train_mse: 0.08198 | train_mae: 0.21257 |  0:00:30s\n",
      "epoch 313| loss: 0.12382 | train_mse: 0.08219 | train_mae: 0.21204 |  0:00:30s\n"
     ]
    },
    {
     "name": "stdout",
     "output_type": "stream",
     "text": [
      "epoch 314| loss: 0.15938 | train_mse: 0.07698 | train_mae: 0.20859 |  0:00:30s\n",
      "epoch 315| loss: 0.09931 | train_mse: 0.0747  | train_mae: 0.20888 |  0:00:31s\n",
      "epoch 316| loss: 0.17941 | train_mse: 0.07466 | train_mae: 0.21105 |  0:00:31s\n"
     ]
    },
    {
     "name": "stdout",
     "output_type": "stream",
     "text": [
      "epoch 317| loss: 0.10708 | train_mse: 0.07018 | train_mae: 0.20923 |  0:00:31s\n",
      "epoch 318| loss: 0.10604 | train_mse: 0.06809 | train_mae: 0.20766 |  0:00:31s\n",
      "epoch 319| loss: 0.09093 | train_mse: 0.06673 | train_mae: 0.20652 |  0:00:31s\n"
     ]
    },
    {
     "name": "stdout",
     "output_type": "stream",
     "text": [
      "epoch 320| loss: 0.19614 | train_mse: 0.06569 | train_mae: 0.20496 |  0:00:31s\n",
      "epoch 321| loss: 0.20541 | train_mse: 0.06506 | train_mae: 0.20124 |  0:00:31s\n",
      "epoch 322| loss: 0.18424 | train_mse: 0.06531 | train_mae: 0.20088 |  0:00:31s\n"
     ]
    },
    {
     "name": "stdout",
     "output_type": "stream",
     "text": [
      "epoch 323| loss: 0.15933 | train_mse: 0.0657  | train_mae: 0.19994 |  0:00:31s\n",
      "epoch 324| loss: 0.17437 | train_mse: 0.06651 | train_mae: 0.19996 |  0:00:31s\n"
     ]
    },
    {
     "name": "stdout",
     "output_type": "stream",
     "text": [
      "epoch 325| loss: 0.1077  | train_mse: 0.06666 | train_mae: 0.19845 |  0:00:32s\n",
      "epoch 326| loss: 0.13473 | train_mse: 0.06625 | train_mae: 0.19785 |  0:00:32s\n",
      "epoch 327| loss: 0.12042 | train_mse: 0.0667  | train_mae: 0.19887 |  0:00:32s\n"
     ]
    },
    {
     "name": "stdout",
     "output_type": "stream",
     "text": [
      "epoch 328| loss: 0.10027 | train_mse: 0.06674 | train_mae: 0.20037 |  0:00:32s\n",
      "epoch 329| loss: 0.16634 | train_mse: 0.06593 | train_mae: 0.20059 |  0:00:32s\n",
      "epoch 330| loss: 0.08495 | train_mse: 0.06495 | train_mae: 0.19946 |  0:00:32s\n"
     ]
    },
    {
     "name": "stdout",
     "output_type": "stream",
     "text": [
      "epoch 331| loss: 0.13182 | train_mse: 0.06512 | train_mae: 0.20257 |  0:00:32s\n",
      "epoch 332| loss: 0.24179 | train_mse: 0.06361 | train_mae: 0.20041 |  0:00:32s\n",
      "epoch 333| loss: 0.18    | train_mse: 0.06237 | train_mae: 0.19715 |  0:00:32s\n"
     ]
    },
    {
     "name": "stdout",
     "output_type": "stream",
     "text": [
      "epoch 334| loss: 0.08756 | train_mse: 0.06215 | train_mae: 0.19396 |  0:00:32s\n",
      "epoch 335| loss: 0.15348 | train_mse: 0.06129 | train_mae: 0.19175 |  0:00:32s\n"
     ]
    },
    {
     "name": "stdout",
     "output_type": "stream",
     "text": [
      "epoch 336| loss: 0.11699 | train_mse: 0.06158 | train_mae: 0.19244 |  0:00:33s\n",
      "epoch 337| loss: 0.16781 | train_mse: 0.06144 | train_mae: 0.19195 |  0:00:33s\n",
      "epoch 338| loss: 0.11318 | train_mse: 0.06092 | train_mae: 0.18965 |  0:00:33s\n"
     ]
    },
    {
     "name": "stdout",
     "output_type": "stream",
     "text": [
      "epoch 339| loss: 0.13902 | train_mse: 0.05985 | train_mae: 0.18782 |  0:00:33s\n",
      "epoch 340| loss: 0.12614 | train_mse: 0.0592  | train_mae: 0.18908 |  0:00:33s\n",
      "epoch 341| loss: 0.19127 | train_mse: 0.05972 | train_mae: 0.19076 |  0:00:33s\n"
     ]
    },
    {
     "name": "stdout",
     "output_type": "stream",
     "text": [
      "epoch 342| loss: 0.16455 | train_mse: 0.05984 | train_mae: 0.19089 |  0:00:33s\n",
      "epoch 343| loss: 0.13744 | train_mse: 0.0612  | train_mae: 0.19331 |  0:00:33s\n",
      "epoch 344| loss: 0.17536 | train_mse: 0.06336 | train_mae: 0.19446 |  0:00:33s\n"
     ]
    },
    {
     "name": "stdout",
     "output_type": "stream",
     "text": [
      "epoch 345| loss: 0.16995 | train_mse: 0.0616  | train_mae: 0.19251 |  0:00:33s\n",
      "epoch 346| loss: 0.16038 | train_mse: 0.06167 | train_mae: 0.19208 |  0:00:33s\n",
      "epoch 347| loss: 0.11124 | train_mse: 0.06251 | train_mae: 0.1927  |  0:00:34s\n"
     ]
    },
    {
     "name": "stdout",
     "output_type": "stream",
     "text": [
      "epoch 348| loss: 0.15225 | train_mse: 0.06194 | train_mae: 0.18998 |  0:00:34s\n",
      "epoch 349| loss: 0.15019 | train_mse: 0.06481 | train_mae: 0.1925  |  0:00:34s\n",
      "epoch 350| loss: 0.19206 | train_mse: 0.07112 | train_mae: 0.19739 |  0:00:34s\n"
     ]
    },
    {
     "name": "stdout",
     "output_type": "stream",
     "text": [
      "epoch 351| loss: 0.13055 | train_mse: 0.07291 | train_mae: 0.19898 |  0:00:34s\n",
      "epoch 352| loss: 0.24499 | train_mse: 0.07639 | train_mae: 0.20329 |  0:00:34s\n",
      "epoch 353| loss: 0.14525 | train_mse: 0.07971 | train_mae: 0.20639 |  0:00:34s\n"
     ]
    },
    {
     "name": "stdout",
     "output_type": "stream",
     "text": [
      "epoch 354| loss: 0.13999 | train_mse: 0.083   | train_mae: 0.20862 |  0:00:34s\n",
      "epoch 355| loss: 0.20993 | train_mse: 0.08083 | train_mae: 0.20858 |  0:00:34s\n"
     ]
    },
    {
     "name": "stdout",
     "output_type": "stream",
     "text": [
      "epoch 356| loss: 0.20527 | train_mse: 0.06967 | train_mae: 0.20343 |  0:00:34s\n",
      "epoch 357| loss: 0.09687 | train_mse: 0.06197 | train_mae: 0.19814 |  0:00:34s\n",
      "epoch 358| loss: 0.18933 | train_mse: 0.05932 | train_mae: 0.19606 |  0:00:35s\n"
     ]
    },
    {
     "name": "stdout",
     "output_type": "stream",
     "text": [
      "epoch 359| loss: 0.20472 | train_mse: 0.05756 | train_mae: 0.19425 |  0:00:35s\n",
      "epoch 360| loss: 0.15013 | train_mse: 0.05574 | train_mae: 0.19423 |  0:00:35s\n",
      "epoch 361| loss: 0.09358 | train_mse: 0.05685 | train_mae: 0.19671 |  0:00:35s\n"
     ]
    },
    {
     "name": "stdout",
     "output_type": "stream",
     "text": [
      "epoch 362| loss: 0.1449  | train_mse: 0.05676 | train_mae: 0.19642 |  0:00:35s\n",
      "epoch 363| loss: 0.16317 | train_mse: 0.0561  | train_mae: 0.19215 |  0:00:35s\n",
      "epoch 364| loss: 0.1411  | train_mse: 0.05787 | train_mae: 0.19196 |  0:00:35s\n"
     ]
    },
    {
     "name": "stdout",
     "output_type": "stream",
     "text": [
      "epoch 365| loss: 0.13374 | train_mse: 0.05811 | train_mae: 0.19144 |  0:00:35s\n",
      "epoch 366| loss: 0.17716 | train_mse: 0.05771 | train_mae: 0.19008 |  0:00:35s\n",
      "epoch 367| loss: 0.17898 | train_mse: 0.06152 | train_mae: 0.19141 |  0:00:35s\n"
     ]
    },
    {
     "name": "stdout",
     "output_type": "stream",
     "text": [
      "epoch 368| loss: 0.08331 | train_mse: 0.06603 | train_mae: 0.19706 |  0:00:35s\n",
      "epoch 369| loss: 0.29738 | train_mse: 0.07679 | train_mae: 0.20854 |  0:00:36s\n",
      "epoch 370| loss: 0.11952 | train_mse: 0.08221 | train_mae: 0.21406 |  0:00:36s\n"
     ]
    },
    {
     "name": "stdout",
     "output_type": "stream",
     "text": [
      "epoch 371| loss: 0.27329 | train_mse: 0.0827  | train_mae: 0.21544 |  0:00:36s\n",
      "epoch 372| loss: 0.13569 | train_mse: 0.07712 | train_mae: 0.21133 |  0:00:36s\n",
      "epoch 373| loss: 0.11221 | train_mse: 0.06061 | train_mae: 0.19718 |  0:00:36s\n"
     ]
    },
    {
     "name": "stdout",
     "output_type": "stream",
     "text": [
      "epoch 374| loss: 0.12221 | train_mse: 0.05635 | train_mae: 0.19217 |  0:00:36s\n",
      "epoch 375| loss: 0.13789 | train_mse: 0.05602 | train_mae: 0.19049 |  0:00:36s\n",
      "epoch 376| loss: 0.20474 | train_mse: 0.05564 | train_mae: 0.18872 |  0:00:36s\n"
     ]
    },
    {
     "name": "stdout",
     "output_type": "stream",
     "text": [
      "epoch 377| loss: 0.13467 | train_mse: 0.05475 | train_mae: 0.18601 |  0:00:36s\n",
      "epoch 378| loss: 0.13134 | train_mse: 0.05085 | train_mae: 0.18321 |  0:00:36s\n"
     ]
    },
    {
     "name": "stdout",
     "output_type": "stream",
     "text": [
      "epoch 379| loss: 0.11553 | train_mse: 0.04943 | train_mae: 0.18119 |  0:00:37s\n",
      "epoch 380| loss: 0.18899 | train_mse: 0.05004 | train_mae: 0.18235 |  0:00:37s\n",
      "epoch 381| loss: 0.18188 | train_mse: 0.04902 | train_mae: 0.18064 |  0:00:37s\n"
     ]
    },
    {
     "name": "stdout",
     "output_type": "stream",
     "text": [
      "epoch 382| loss: 0.15622 | train_mse: 0.0493  | train_mae: 0.18103 |  0:00:37s\n",
      "epoch 383| loss: 0.15335 | train_mse: 0.049   | train_mae: 0.18138 |  0:00:37s\n",
      "epoch 384| loss: 0.23856 | train_mse: 0.04905 | train_mae: 0.18206 |  0:00:37s\n"
     ]
    },
    {
     "name": "stdout",
     "output_type": "stream",
     "text": [
      "epoch 385| loss: 0.08212 | train_mse: 0.05017 | train_mae: 0.18287 |  0:00:37s\n",
      "epoch 386| loss: 0.24062 | train_mse: 0.05154 | train_mae: 0.18314 |  0:00:37s\n",
      "epoch 387| loss: 0.08285 | train_mse: 0.05064 | train_mae: 0.18123 |  0:00:37s\n"
     ]
    },
    {
     "name": "stdout",
     "output_type": "stream",
     "text": [
      "epoch 388| loss: 0.09253 | train_mse: 0.05273 | train_mae: 0.18303 |  0:00:37s\n",
      "epoch 389| loss: 0.11743 | train_mse: 0.05347 | train_mae: 0.18238 |  0:00:37s\n",
      "epoch 390| loss: 0.11275 | train_mse: 0.05282 | train_mae: 0.18211 |  0:00:38s\n"
     ]
    },
    {
     "name": "stdout",
     "output_type": "stream",
     "text": [
      "epoch 391| loss: 0.12956 | train_mse: 0.05123 | train_mae: 0.18086 |  0:00:38s\n",
      "epoch 392| loss: 0.1239  | train_mse: 0.05127 | train_mae: 0.18108 |  0:00:38s\n"
     ]
    },
    {
     "name": "stdout",
     "output_type": "stream",
     "text": [
      "epoch 393| loss: 0.16743 | train_mse: 0.05048 | train_mae: 0.18099 |  0:00:38s\n",
      "epoch 394| loss: 0.11521 | train_mse: 0.05317 | train_mae: 0.18533 |  0:00:38s\n",
      "epoch 395| loss: 0.11681 | train_mse: 0.05392 | train_mae: 0.18792 |  0:00:38s\n"
     ]
    },
    {
     "name": "stdout",
     "output_type": "stream",
     "text": [
      "epoch 396| loss: 0.18223 | train_mse: 0.05379 | train_mae: 0.18697 |  0:00:38s\n",
      "epoch 397| loss: 0.09569 | train_mse: 0.05168 | train_mae: 0.18379 |  0:00:39s\n",
      "epoch 398| loss: 0.14937 | train_mse: 0.0508  | train_mae: 0.18111 |  0:00:39s\n"
     ]
    },
    {
     "name": "stdout",
     "output_type": "stream",
     "text": [
      "epoch 399| loss: 0.13198 | train_mse: 0.05119 | train_mae: 0.17991 |  0:00:39s\n",
      "epoch 400| loss: 0.09596 | train_mse: 0.0494  | train_mae: 0.17856 |  0:00:39s\n",
      "epoch 401| loss: 0.08677 | train_mse: 0.05229 | train_mae: 0.1824  |  0:00:39s\n"
     ]
    },
    {
     "name": "stdout",
     "output_type": "stream",
     "text": [
      "epoch 402| loss: 0.09976 | train_mse: 0.05179 | train_mae: 0.18388 |  0:00:39s\n",
      "epoch 403| loss: 0.10231 | train_mse: 0.0518  | train_mae: 0.18459 |  0:00:39s\n",
      "epoch 404| loss: 0.07221 | train_mse: 0.0515  | train_mae: 0.18459 |  0:00:39s\n"
     ]
    },
    {
     "name": "stdout",
     "output_type": "stream",
     "text": [
      "epoch 405| loss: 0.14421 | train_mse: 0.05153 | train_mae: 0.18244 |  0:00:39s\n",
      "epoch 406| loss: 0.1075  | train_mse: 0.05216 | train_mae: 0.18337 |  0:00:39s\n"
     ]
    },
    {
     "name": "stdout",
     "output_type": "stream",
     "text": [
      "epoch 407| loss: 0.15799 | train_mse: 0.05163 | train_mae: 0.1811  |  0:00:39s\n",
      "epoch 408| loss: 0.22961 | train_mse: 0.05212 | train_mae: 0.18039 |  0:00:40s\n",
      "epoch 409| loss: 0.13827 | train_mse: 0.0531  | train_mae: 0.17974 |  0:00:40s\n"
     ]
    },
    {
     "name": "stdout",
     "output_type": "stream",
     "text": [
      "epoch 410| loss: 0.0662  | train_mse: 0.05268 | train_mae: 0.17604 |  0:00:40s\n",
      "epoch 411| loss: 0.19571 | train_mse: 0.05207 | train_mae: 0.17355 |  0:00:40s\n",
      "epoch 412| loss: 0.07874 | train_mse: 0.0519  | train_mae: 0.17442 |  0:00:40s\n"
     ]
    },
    {
     "name": "stdout",
     "output_type": "stream",
     "text": [
      "epoch 413| loss: 0.16951 | train_mse: 0.0535  | train_mae: 0.17627 |  0:00:40s\n",
      "epoch 414| loss: 0.10356 | train_mse: 0.05348 | train_mae: 0.17715 |  0:00:40s\n",
      "epoch 415| loss: 0.08773 | train_mse: 0.05341 | train_mae: 0.17705 |  0:00:40s\n"
     ]
    },
    {
     "name": "stdout",
     "output_type": "stream",
     "text": [
      "epoch 416| loss: 0.0781  | train_mse: 0.05431 | train_mae: 0.17813 |  0:00:40s\n",
      "epoch 417| loss: 0.1149  | train_mse: 0.05423 | train_mae: 0.17661 |  0:00:40s\n",
      "epoch 418| loss: 0.07376 | train_mse: 0.05426 | train_mae: 0.17835 |  0:00:41s\n"
     ]
    },
    {
     "name": "stdout",
     "output_type": "stream",
     "text": [
      "epoch 419| loss: 0.15038 | train_mse: 0.05247 | train_mae: 0.17719 |  0:00:41s\n",
      "epoch 420| loss: 0.12089 | train_mse: 0.0495  | train_mae: 0.17697 |  0:00:41s\n",
      "epoch 421| loss: 0.08054 | train_mse: 0.04809 | train_mae: 0.17521 |  0:00:41s\n"
     ]
    },
    {
     "name": "stdout",
     "output_type": "stream",
     "text": [
      "epoch 422| loss: 0.17868 | train_mse: 0.0502  | train_mae: 0.17568 |  0:00:41s\n",
      "epoch 423| loss: 0.08046 | train_mse: 0.0513  | train_mae: 0.17579 |  0:00:41s\n",
      "epoch 424| loss: 0.12018 | train_mse: 0.05307 | train_mae: 0.17713 |  0:00:41s\n"
     ]
    },
    {
     "name": "stdout",
     "output_type": "stream",
     "text": [
      "epoch 425| loss: 0.10162 | train_mse: 0.05714 | train_mae: 0.18189 |  0:00:41s\n",
      "epoch 426| loss: 0.06777 | train_mse: 0.05969 | train_mae: 0.18462 |  0:00:41s\n"
     ]
    },
    {
     "name": "stdout",
     "output_type": "stream",
     "text": [
      "epoch 427| loss: 0.15504 | train_mse: 0.06076 | train_mae: 0.18589 |  0:00:41s\n",
      "epoch 428| loss: 0.15784 | train_mse: 0.06216 | train_mae: 0.1883  |  0:00:41s\n",
      "epoch 429| loss: 0.24153 | train_mse: 0.06226 | train_mae: 0.18937 |  0:00:42s\n"
     ]
    },
    {
     "name": "stdout",
     "output_type": "stream",
     "text": [
      "epoch 430| loss: 0.07578 | train_mse: 0.0609  | train_mae: 0.18921 |  0:00:42s\n",
      "epoch 431| loss: 0.05996 | train_mse: 0.05786 | train_mae: 0.1858  |  0:00:42s\n",
      "epoch 432| loss: 0.10336 | train_mse: 0.05562 | train_mae: 0.18379 |  0:00:42s\n"
     ]
    },
    {
     "name": "stdout",
     "output_type": "stream",
     "text": [
      "epoch 433| loss: 0.10458 | train_mse: 0.05216 | train_mae: 0.1798  |  0:00:42s\n",
      "epoch 434| loss: 0.08814 | train_mse: 0.0494  | train_mae: 0.17642 |  0:00:42s\n",
      "epoch 435| loss: 0.10841 | train_mse: 0.04815 | train_mae: 0.17509 |  0:00:42s\n"
     ]
    },
    {
     "name": "stdout",
     "output_type": "stream",
     "text": [
      "epoch 436| loss: 0.14897 | train_mse: 0.04785 | train_mae: 0.17411 |  0:00:42s\n",
      "epoch 437| loss: 0.0971  | train_mse: 0.04743 | train_mae: 0.17267 |  0:00:42s\n",
      "epoch 438| loss: 0.08031 | train_mse: 0.04693 | train_mae: 0.17047 |  0:00:42s"
     ]
    },
    {
     "name": "stdout",
     "output_type": "stream",
     "text": [
      "\n",
      "epoch 439| loss: 0.10273 | train_mse: 0.0465  | train_mae: 0.16929 |  0:00:42s\n"
     ]
    },
    {
     "name": "stdout",
     "output_type": "stream",
     "text": [
      "epoch 440| loss: 0.10305 | train_mse: 0.04731 | train_mae: 0.16996 |  0:00:43s\n",
      "epoch 441| loss: 0.14991 | train_mse: 0.04933 | train_mae: 0.17404 |  0:00:43s\n"
     ]
    },
    {
     "name": "stdout",
     "output_type": "stream",
     "text": [
      "epoch 442| loss: 0.12735 | train_mse: 0.04934 | train_mae: 0.1743  |  0:00:43s\n",
      "epoch 443| loss: 0.13312 | train_mse: 0.04913 | train_mae: 0.17505 |  0:00:43s\n",
      "epoch 444| loss: 0.08598 | train_mse: 0.05008 | train_mae: 0.17612 |  0:00:43s\n"
     ]
    },
    {
     "name": "stdout",
     "output_type": "stream",
     "text": [
      "epoch 445| loss: 0.0681  | train_mse: 0.05094 | train_mae: 0.17623 |  0:00:43s\n",
      "epoch 446| loss: 0.12796 | train_mse: 0.052   | train_mae: 0.17734 |  0:00:43s\n"
     ]
    },
    {
     "name": "stdout",
     "output_type": "stream",
     "text": [
      "epoch 447| loss: 0.1589  | train_mse: 0.05059 | train_mae: 0.17454 |  0:00:43s\n",
      "epoch 448| loss: 0.1132  | train_mse: 0.05093 | train_mae: 0.17393 |  0:00:43s\n",
      "epoch 449| loss: 0.06951 | train_mse: 0.05155 | train_mae: 0.17389 |  0:00:44s\n"
     ]
    },
    {
     "name": "stdout",
     "output_type": "stream",
     "text": [
      "epoch 450| loss: 0.09887 | train_mse: 0.05127 | train_mae: 0.17309 |  0:00:44s\n",
      "epoch 451| loss: 0.07037 | train_mse: 0.05084 | train_mae: 0.17247 |  0:00:44s\n",
      "epoch 452| loss: 0.11928 | train_mse: 0.05035 | train_mae: 0.1721  |  0:00:44s\n"
     ]
    },
    {
     "name": "stdout",
     "output_type": "stream",
     "text": [
      "epoch 453| loss: 0.10027 | train_mse: 0.04901 | train_mae: 0.17025 |  0:00:44s\n",
      "epoch 454| loss: 0.09934 | train_mse: 0.0477  | train_mae: 0.17018 |  0:00:44s\n",
      "epoch 455| loss: 0.16655 | train_mse: 0.04616 | train_mae: 0.16976 |  0:00:44s\n"
     ]
    },
    {
     "name": "stdout",
     "output_type": "stream",
     "text": [
      "epoch 456| loss: 0.13542 | train_mse: 0.04744 | train_mae: 0.17283 |  0:00:44s\n",
      "epoch 457| loss: 0.07725 | train_mse: 0.04906 | train_mae: 0.17506 |  0:00:44s\n",
      "epoch 458| loss: 0.1578  | train_mse: 0.05023 | train_mae: 0.17714 |  0:00:44s\n"
     ]
    },
    {
     "name": "stdout",
     "output_type": "stream",
     "text": [
      "epoch 459| loss: 0.14255 | train_mse: 0.05358 | train_mae: 0.18334 |  0:00:44s\n",
      "epoch 460| loss: 0.09328 | train_mse: 0.05663 | train_mae: 0.18781 |  0:00:45s\n",
      "epoch 461| loss: 0.12906 | train_mse: 0.05868 | train_mae: 0.19123 |  0:00:45s\n"
     ]
    },
    {
     "name": "stdout",
     "output_type": "stream",
     "text": [
      "epoch 462| loss: 0.19717 | train_mse: 0.05766 | train_mae: 0.1899  |  0:00:45s\n",
      "epoch 463| loss: 0.07211 | train_mse: 0.05708 | train_mae: 0.18876 |  0:00:45s\n"
     ]
    },
    {
     "name": "stdout",
     "output_type": "stream",
     "text": [
      "epoch 464| loss: 0.15559 | train_mse: 0.05465 | train_mae: 0.18459 |  0:00:45s\n",
      "epoch 465| loss: 0.15524 | train_mse: 0.05362 | train_mae: 0.18368 |  0:00:45s\n",
      "epoch 466| loss: 0.08123 | train_mse: 0.05495 | train_mae: 0.18599 |  0:00:45s\n"
     ]
    },
    {
     "name": "stdout",
     "output_type": "stream",
     "text": [
      "epoch 467| loss: 0.13358 | train_mse: 0.05481 | train_mae: 0.186   |  0:00:45s\n",
      "epoch 468| loss: 0.20672 | train_mse: 0.05173 | train_mae: 0.18201 |  0:00:45s\n"
     ]
    },
    {
     "name": "stdout",
     "output_type": "stream",
     "text": [
      "epoch 469| loss: 0.08455 | train_mse: 0.0508  | train_mae: 0.17997 |  0:00:45s\n",
      "epoch 470| loss: 0.08583 | train_mse: 0.05077 | train_mae: 0.17991 |  0:00:46s\n",
      "epoch 471| loss: 0.1456  | train_mse: 0.05018 | train_mae: 0.17839 |  0:00:46s\n"
     ]
    },
    {
     "name": "stdout",
     "output_type": "stream",
     "text": [
      "epoch 472| loss: 0.07405 | train_mse: 0.04754 | train_mae: 0.17286 |  0:00:46s\n",
      "epoch 473| loss: 0.1652  | train_mse: 0.04695 | train_mae: 0.17116 |  0:00:46s\n",
      "epoch 474| loss: 0.081   | train_mse: 0.04746 | train_mae: 0.17251 |  0:00:46s\n"
     ]
    },
    {
     "name": "stdout",
     "output_type": "stream",
     "text": [
      "epoch 475| loss: 0.14955 | train_mse: 0.04769 | train_mae: 0.17199 |  0:00:46s\n",
      "epoch 476| loss: 0.1287  | train_mse: 0.04809 | train_mae: 0.17283 |  0:00:46s\n",
      "epoch 477| loss: 0.10293 | train_mse: 0.04749 | train_mae: 0.17179 |  0:00:46s\n"
     ]
    },
    {
     "name": "stdout",
     "output_type": "stream",
     "text": [
      "epoch 478| loss: 0.08788 | train_mse: 0.04738 | train_mae: 0.17108 |  0:00:46s\n",
      "epoch 479| loss: 0.20199 | train_mse: 0.04757 | train_mae: 0.17197 |  0:00:46s\n"
     ]
    },
    {
     "name": "stdout",
     "output_type": "stream",
     "text": [
      "epoch 480| loss: 0.12238 | train_mse: 0.04867 | train_mae: 0.17284 |  0:00:46s\n",
      "epoch 481| loss: 0.12926 | train_mse: 0.04886 | train_mae: 0.17329 |  0:00:47s\n",
      "epoch 482| loss: 0.15364 | train_mse: 0.04873 | train_mae: 0.17345 |  0:00:47s\n"
     ]
    },
    {
     "name": "stdout",
     "output_type": "stream",
     "text": [
      "epoch 483| loss: 0.09714 | train_mse: 0.04755 | train_mae: 0.17285 |  0:00:47s\n",
      "epoch 484| loss: 0.09753 | train_mse: 0.04754 | train_mae: 0.17282 |  0:00:47s\n",
      "epoch 485| loss: 0.10145 | train_mse: 0.04675 | train_mae: 0.17099 |  0:00:47s\n"
     ]
    },
    {
     "name": "stdout",
     "output_type": "stream",
     "text": [
      "epoch 486| loss: 0.1571  | train_mse: 0.04651 | train_mae: 0.1697  |  0:00:47s\n",
      "epoch 487| loss: 0.07292 | train_mse: 0.04587 | train_mae: 0.16806 |  0:00:47s\n",
      "epoch 488| loss: 0.10468 | train_mse: 0.04575 | train_mae: 0.1687  |  0:00:47s\n"
     ]
    },
    {
     "name": "stdout",
     "output_type": "stream",
     "text": [
      "epoch 489| loss: 0.12438 | train_mse: 0.04553 | train_mae: 0.16793 |  0:00:47s\n",
      "epoch 490| loss: 0.10927 | train_mse: 0.04487 | train_mae: 0.16691 |  0:00:47s\n"
     ]
    },
    {
     "name": "stdout",
     "output_type": "stream",
     "text": [
      "epoch 491| loss: 0.18621 | train_mse: 0.04531 | train_mae: 0.16735 |  0:00:48s\n",
      "epoch 492| loss: 0.17117 | train_mse: 0.04592 | train_mae: 0.1679  |  0:00:48s\n",
      "epoch 493| loss: 0.1291  | train_mse: 0.04547 | train_mae: 0.16748 |  0:00:48s\n"
     ]
    },
    {
     "name": "stdout",
     "output_type": "stream",
     "text": [
      "epoch 494| loss: 0.1428  | train_mse: 0.04569 | train_mae: 0.16966 |  0:00:48s\n",
      "epoch 495| loss: 0.16372 | train_mse: 0.04613 | train_mae: 0.17094 |  0:00:48s\n",
      "epoch 496| loss: 0.11099 | train_mse: 0.04605 | train_mae: 0.17159 |  0:00:48s\n"
     ]
    },
    {
     "name": "stdout",
     "output_type": "stream",
     "text": [
      "epoch 497| loss: 0.10741 | train_mse: 0.0458  | train_mae: 0.1717  |  0:00:48s\n",
      "epoch 498| loss: 0.1989  | train_mse: 0.04549 | train_mae: 0.17082 |  0:00:48s\n",
      "epoch 499| loss: 0.18512 | train_mse: 0.04695 | train_mae: 0.17231 |  0:00:48s\n"
     ]
    },
    {
     "name": "stdout",
     "output_type": "stream",
     "text": [
      "epoch 500| loss: 0.17947 | train_mse: 0.04972 | train_mae: 0.17615 |  0:00:48s\n",
      "epoch 501| loss: 0.12181 | train_mse: 0.05088 | train_mae: 0.17705 |  0:00:48s\n"
     ]
    },
    {
     "name": "stdout",
     "output_type": "stream",
     "text": [
      "epoch 502| loss: 0.09244 | train_mse: 0.05088 | train_mae: 0.17699 |  0:00:49s\n",
      "epoch 503| loss: 0.17421 | train_mse: 0.05067 | train_mae: 0.1756  |  0:00:49s\n",
      "epoch 504| loss: 0.09354 | train_mse: 0.05028 | train_mae: 0.17359 |  0:00:49s\n"
     ]
    },
    {
     "name": "stdout",
     "output_type": "stream",
     "text": [
      "epoch 505| loss: 0.09512 | train_mse: 0.04825 | train_mae: 0.17074 |  0:00:49s\n",
      "epoch 506| loss: 0.11043 | train_mse: 0.04613 | train_mae: 0.16702 |  0:00:49s\n",
      "epoch 507| loss: 0.1089  | train_mse: 0.04486 | train_mae: 0.16411 |  0:00:49s\n"
     ]
    },
    {
     "name": "stdout",
     "output_type": "stream",
     "text": [
      "epoch 508| loss: 0.10601 | train_mse: 0.04435 | train_mae: 0.16402 |  0:00:49s\n",
      "epoch 509| loss: 0.17703 | train_mse: 0.04393 | train_mae: 0.16413 |  0:00:49s\n",
      "epoch 510| loss: 0.14586 | train_mse: 0.04427 | train_mae: 0.1653  |  0:00:49s\n"
     ]
    },
    {
     "name": "stdout",
     "output_type": "stream",
     "text": [
      "epoch 511| loss: 0.10452 | train_mse: 0.04464 | train_mae: 0.16621 |  0:00:49s\n",
      "epoch 512| loss: 0.10705 | train_mse: 0.04595 | train_mae: 0.1686  |  0:00:49s\n",
      "epoch 513| loss: 0.08958 | train_mse: 0.04571 | train_mae: 0.16871 |  0:00:50s\n"
     ]
    },
    {
     "name": "stdout",
     "output_type": "stream",
     "text": [
      "epoch 514| loss: 0.06963 | train_mse: 0.0468  | train_mae: 0.16973 |  0:00:50s\n",
      "epoch 515| loss: 0.07813 | train_mse: 0.04771 | train_mae: 0.17165 |  0:00:50s\n",
      "epoch 516| loss: 0.09091 | train_mse: 0.04769 | train_mae: 0.17192 |  0:00:50s\n"
     ]
    },
    {
     "name": "stdout",
     "output_type": "stream",
     "text": [
      "epoch 517| loss: 0.09122 | train_mse: 0.04719 | train_mae: 0.17087 |  0:00:50s\n",
      "epoch 518| loss: 0.17988 | train_mse: 0.04705 | train_mae: 0.16989 |  0:00:50s\n",
      "epoch 519| loss: 0.15683 | train_mse: 0.04797 | train_mae: 0.17142 |  0:00:50s\n"
     ]
    },
    {
     "name": "stdout",
     "output_type": "stream",
     "text": [
      "epoch 520| loss: 0.26989 | train_mse: 0.04889 | train_mae: 0.17277 |  0:00:50s\n",
      "epoch 521| loss: 0.07671 | train_mse: 0.05002 | train_mae: 0.17446 |  0:00:50s\n",
      "epoch 522| loss: 0.09967 | train_mse: 0.04962 | train_mae: 0.17379 |  0:00:50s\n"
     ]
    },
    {
     "name": "stdout",
     "output_type": "stream",
     "text": [
      "epoch 523| loss: 0.08259 | train_mse: 0.04956 | train_mae: 0.17389 |  0:00:50s\n",
      "epoch 524| loss: 0.0961  | train_mse: 0.0479  | train_mae: 0.17157 |  0:00:51s\n",
      "epoch 525| loss: 0.07323 | train_mse: 0.04471 | train_mae: 0.16702 |  0:00:51s\n"
     ]
    },
    {
     "name": "stdout",
     "output_type": "stream",
     "text": [
      "epoch 526| loss: 0.11739 | train_mse: 0.04321 | train_mae: 0.16543 |  0:00:51s\n",
      "epoch 527| loss: 0.1459  | train_mse: 0.04255 | train_mae: 0.16485 |  0:00:51s\n",
      "epoch 528| loss: 0.08482 | train_mse: 0.04266 | train_mae: 0.16397 |  0:00:51s\n"
     ]
    },
    {
     "name": "stdout",
     "output_type": "stream",
     "text": [
      "epoch 529| loss: 0.09074 | train_mse: 0.04206 | train_mae: 0.16197 |  0:00:51s\n",
      "epoch 530| loss: 0.08901 | train_mse: 0.04233 | train_mae: 0.16279 |  0:00:51s\n",
      "epoch 531| loss: 0.09824 | train_mse: 0.0429  | train_mae: 0.16356 |  0:00:51s\n"
     ]
    },
    {
     "name": "stdout",
     "output_type": "stream",
     "text": [
      "epoch 532| loss: 0.14398 | train_mse: 0.04367 | train_mae: 0.16307 |  0:00:51s\n",
      "epoch 533| loss: 0.17866 | train_mse: 0.04471 | train_mae: 0.16515 |  0:00:51s\n",
      "epoch 534| loss: 0.13059 | train_mse: 0.04605 | train_mae: 0.16724 |  0:00:52s\n"
     ]
    },
    {
     "name": "stdout",
     "output_type": "stream",
     "text": [
      "epoch 535| loss: 0.07701 | train_mse: 0.04693 | train_mae: 0.16866 |  0:00:52s\n",
      "epoch 536| loss: 0.09152 | train_mse: 0.04742 | train_mae: 0.16993 |  0:00:52s\n",
      "epoch 537| loss: 0.14989 | train_mse: 0.0466  | train_mae: 0.16817 |  0:00:52s\n"
     ]
    },
    {
     "name": "stdout",
     "output_type": "stream",
     "text": [
      "epoch 538| loss: 0.09679 | train_mse: 0.0466  | train_mae: 0.16737 |  0:00:52s\n",
      "epoch 539| loss: 0.11227 | train_mse: 0.04578 | train_mae: 0.16495 |  0:00:52s\n",
      "epoch 540| loss: 0.25892 | train_mse: 0.04736 | train_mae: 0.16599 |  0:00:52s\n"
     ]
    },
    {
     "name": "stdout",
     "output_type": "stream",
     "text": [
      "epoch 541| loss: 0.07863 | train_mse: 0.04713 | train_mae: 0.165   |  0:00:52s\n",
      "epoch 542| loss: 0.124   | train_mse: 0.04757 | train_mae: 0.16637 |  0:00:52s\n",
      "epoch 543| loss: 0.08751 | train_mse: 0.04663 | train_mae: 0.16476 |  0:00:52s"
     ]
    },
    {
     "name": "stdout",
     "output_type": "stream",
     "text": [
      "\n",
      "epoch 544| loss: 0.17276 | train_mse: 0.045   | train_mae: 0.16175 |  0:00:52s\n",
      "epoch 545| loss: 0.05748 | train_mse: 0.04411 | train_mae: 0.16079 |  0:00:53s\n"
     ]
    },
    {
     "name": "stdout",
     "output_type": "stream",
     "text": [
      "epoch 546| loss: 0.12553 | train_mse: 0.04337 | train_mae: 0.15845 |  0:00:53s\n",
      "epoch 547| loss: 0.0693  | train_mse: 0.04301 | train_mae: 0.15717 |  0:00:53s\n",
      "epoch 548| loss: 0.28097 | train_mse: 0.04349 | train_mae: 0.15873 |  0:00:53s\n"
     ]
    },
    {
     "name": "stdout",
     "output_type": "stream",
     "text": [
      "epoch 549| loss: 0.0924  | train_mse: 0.04368 | train_mae: 0.16053 |  0:00:53s\n",
      "epoch 550| loss: 0.17383 | train_mse: 0.04418 | train_mae: 0.16196 |  0:00:53s\n",
      "epoch 551| loss: 0.05048 | train_mse: 0.04423 | train_mae: 0.16212 |  0:00:53s\n"
     ]
    },
    {
     "name": "stdout",
     "output_type": "stream",
     "text": [
      "epoch 552| loss: 0.0686  | train_mse: 0.04316 | train_mae: 0.15988 |  0:00:53s\n",
      "epoch 553| loss: 0.07966 | train_mse: 0.04228 | train_mae: 0.15851 |  0:00:53s\n",
      "epoch 554| loss: 0.06005 | train_mse: 0.04203 | train_mae: 0.15814 |  0:00:53s\n"
     ]
    },
    {
     "name": "stdout",
     "output_type": "stream",
     "text": [
      "epoch 555| loss: 0.11109 | train_mse: 0.04153 | train_mae: 0.15689 |  0:00:54s\n",
      "epoch 556| loss: 0.08122 | train_mse: 0.04126 | train_mae: 0.15695 |  0:00:54s\n",
      "epoch 557| loss: 0.0867  | train_mse: 0.04124 | train_mae: 0.15703 |  0:00:54s\n"
     ]
    },
    {
     "name": "stdout",
     "output_type": "stream",
     "text": [
      "epoch 558| loss: 0.1222  | train_mse: 0.04041 | train_mae: 0.15546 |  0:00:54s\n",
      "epoch 559| loss: 0.08863 | train_mse: 0.04146 | train_mae: 0.15833 |  0:00:54s\n",
      "epoch 560| loss: 0.23594 | train_mse: 0.04158 | train_mae: 0.15934 |  0:00:54s\n"
     ]
    },
    {
     "name": "stdout",
     "output_type": "stream",
     "text": [
      "epoch 561| loss: 0.09731 | train_mse: 0.04258 | train_mae: 0.16182 |  0:00:54s\n",
      "epoch 562| loss: 0.07241 | train_mse: 0.04273 | train_mae: 0.16262 |  0:00:54s\n",
      "epoch 563| loss: 0.07292 | train_mse: 0.04203 | train_mae: 0.1623  |  0:00:54s\n"
     ]
    },
    {
     "name": "stdout",
     "output_type": "stream",
     "text": [
      "epoch 564| loss: 0.09948 | train_mse: 0.04209 | train_mae: 0.16283 |  0:00:54s\n",
      "epoch 565| loss: 0.2004  | train_mse: 0.04002 | train_mae: 0.15987 |  0:00:54s\n"
     ]
    },
    {
     "name": "stdout",
     "output_type": "stream",
     "text": [
      "epoch 566| loss: 0.0818  | train_mse: 0.04007 | train_mae: 0.16037 |  0:00:55s\n",
      "epoch 567| loss: 0.11064 | train_mse: 0.0405  | train_mae: 0.16107 |  0:00:55s\n",
      "epoch 568| loss: 0.06555 | train_mse: 0.04109 | train_mae: 0.16194 |  0:00:55s"
     ]
    },
    {
     "name": "stdout",
     "output_type": "stream",
     "text": [
      "\n",
      "epoch 569| loss: 0.0566  | train_mse: 0.0421  | train_mae: 0.1629  |  0:00:55s\n",
      "epoch 570| loss: 0.08853 | train_mse: 0.04314 | train_mae: 0.16466 |  0:00:55s\n"
     ]
    },
    {
     "name": "stdout",
     "output_type": "stream",
     "text": [
      "epoch 571| loss: 0.09016 | train_mse: 0.0429  | train_mae: 0.16406 |  0:00:55s\n",
      "epoch 572| loss: 0.07008 | train_mse: 0.04331 | train_mae: 0.16525 |  0:00:55s\n",
      "epoch 573| loss: 0.17619 | train_mse: 0.04269 | train_mae: 0.16482 |  0:00:55s\n"
     ]
    },
    {
     "name": "stdout",
     "output_type": "stream",
     "text": [
      "epoch 574| loss: 0.13773 | train_mse: 0.04221 | train_mae: 0.16274 |  0:00:55s\n",
      "epoch 575| loss: 0.07087 | train_mse: 0.04223 | train_mae: 0.16135 |  0:00:55s\n"
     ]
    },
    {
     "name": "stdout",
     "output_type": "stream",
     "text": [
      "epoch 576| loss: 0.09164 | train_mse: 0.04359 | train_mae: 0.16262 |  0:00:56s\n",
      "epoch 577| loss: 0.13093 | train_mse: 0.04356 | train_mae: 0.16188 |  0:00:56s\n",
      "epoch 578| loss: 0.06793 | train_mse: 0.04443 | train_mae: 0.16254 |  0:00:56s\n"
     ]
    },
    {
     "name": "stdout",
     "output_type": "stream",
     "text": [
      "epoch 579| loss: 0.0993  | train_mse: 0.04426 | train_mae: 0.16131 |  0:00:56s\n",
      "epoch 580| loss: 0.14069 | train_mse: 0.04531 | train_mae: 0.16224 |  0:00:56s\n",
      "epoch 581| loss: 0.11563 | train_mse: 0.04431 | train_mae: 0.16032 |  0:00:56s\n"
     ]
    },
    {
     "name": "stdout",
     "output_type": "stream",
     "text": [
      "epoch 582| loss: 0.12533 | train_mse: 0.04393 | train_mae: 0.15882 |  0:00:56s\n",
      "epoch 583| loss: 0.13645 | train_mse: 0.04385 | train_mae: 0.15933 |  0:00:56s\n",
      "epoch 584| loss: 0.14903 | train_mse: 0.0408  | train_mae: 0.15552 |  0:00:56s\n"
     ]
    },
    {
     "name": "stdout",
     "output_type": "stream",
     "text": [
      "epoch 585| loss: 0.16814 | train_mse: 0.03974 | train_mae: 0.15343 |  0:00:56s\n",
      "epoch 586| loss: 0.07873 | train_mse: 0.03984 | train_mae: 0.15319 |  0:00:56s\n"
     ]
    },
    {
     "name": "stdout",
     "output_type": "stream",
     "text": [
      "epoch 587| loss: 0.1364  | train_mse: 0.04011 | train_mae: 0.15239 |  0:00:57s\n",
      "epoch 588| loss: 0.12467 | train_mse: 0.04076 | train_mae: 0.15215 |  0:00:57s\n",
      "epoch 589| loss: 0.19754 | train_mse: 0.04208 | train_mae: 0.15167 |  0:00:57s\n"
     ]
    },
    {
     "name": "stdout",
     "output_type": "stream",
     "text": [
      "epoch 590| loss: 0.08899 | train_mse: 0.043   | train_mae: 0.15389 |  0:00:57s\n",
      "epoch 591| loss: 0.04641 | train_mse: 0.04296 | train_mae: 0.15432 |  0:00:57s\n"
     ]
    },
    {
     "name": "stdout",
     "output_type": "stream",
     "text": [
      "epoch 592| loss: 0.11607 | train_mse: 0.04271 | train_mae: 0.15411 |  0:00:57s\n",
      "epoch 593| loss: 0.12589 | train_mse: 0.04323 | train_mae: 0.15541 |  0:00:57s\n",
      "epoch 594| loss: 0.08158 | train_mse: 0.04308 | train_mae: 0.15477 |  0:00:57s\n"
     ]
    },
    {
     "name": "stdout",
     "output_type": "stream",
     "text": [
      "epoch 595| loss: 0.0716  | train_mse: 0.04218 | train_mae: 0.1539  |  0:00:57s\n",
      "epoch 596| loss: 0.15152 | train_mse: 0.043   | train_mae: 0.15438 |  0:00:58s\n",
      "epoch 597| loss: 0.08873 | train_mse: 0.04193 | train_mae: 0.15168 |  0:00:58s\n"
     ]
    },
    {
     "name": "stdout",
     "output_type": "stream",
     "text": [
      "epoch 598| loss: 0.10358 | train_mse: 0.04291 | train_mae: 0.15214 |  0:00:58s\n",
      "epoch 599| loss: 0.0826  | train_mse: 0.04384 | train_mae: 0.1533  |  0:00:58s\n",
      "epoch 600| loss: 0.1111  | train_mse: 0.0428  | train_mae: 0.15232 |  0:00:58s\n"
     ]
    },
    {
     "name": "stdout",
     "output_type": "stream",
     "text": [
      "epoch 601| loss: 0.07805 | train_mse: 0.04175 | train_mae: 0.15246 |  0:00:58s\n",
      "epoch 602| loss: 0.08364 | train_mse: 0.04132 | train_mae: 0.1519  |  0:00:58s\n",
      "epoch 603| loss: 0.08924 | train_mse: 0.04101 | train_mae: 0.15358 |  0:00:58s\n"
     ]
    },
    {
     "name": "stdout",
     "output_type": "stream",
     "text": [
      "epoch 604| loss: 0.07883 | train_mse: 0.0393  | train_mae: 0.15102 |  0:00:58s\n",
      "epoch 605| loss: 0.12449 | train_mse: 0.04041 | train_mae: 0.15255 |  0:00:58s\n"
     ]
    },
    {
     "name": "stdout",
     "output_type": "stream",
     "text": [
      "epoch 606| loss: 0.21072 | train_mse: 0.04076 | train_mae: 0.15352 |  0:00:58s\n",
      "epoch 607| loss: 0.07048 | train_mse: 0.04108 | train_mae: 0.15551 |  0:00:59s\n",
      "epoch 608| loss: 0.09306 | train_mse: 0.04214 | train_mae: 0.15639 |  0:00:59s"
     ]
    },
    {
     "name": "stdout",
     "output_type": "stream",
     "text": [
      "\n",
      "epoch 609| loss: 0.10608 | train_mse: 0.04178 | train_mae: 0.15632 |  0:00:59s\n",
      "epoch 610| loss: 0.09625 | train_mse: 0.04174 | train_mae: 0.15543 |  0:00:59s\n"
     ]
    },
    {
     "name": "stdout",
     "output_type": "stream",
     "text": [
      "epoch 611| loss: 0.09313 | train_mse: 0.0418  | train_mae: 0.15559 |  0:00:59s\n",
      "epoch 612| loss: 0.10104 | train_mse: 0.04394 | train_mae: 0.15895 |  0:00:59s\n",
      "epoch 613| loss: 0.13557 | train_mse: 0.04564 | train_mae: 0.16196 |  0:00:59s\n"
     ]
    },
    {
     "name": "stdout",
     "output_type": "stream",
     "text": [
      "epoch 614| loss: 0.10209 | train_mse: 0.04885 | train_mae: 0.1662  |  0:00:59s\n",
      "epoch 615| loss: 0.15905 | train_mse: 0.04783 | train_mae: 0.16475 |  0:00:59s\n",
      "epoch 616| loss: 0.06319 | train_mse: 0.04804 | train_mae: 0.16475 |  0:00:59s"
     ]
    },
    {
     "name": "stdout",
     "output_type": "stream",
     "text": [
      "\n",
      "epoch 617| loss: 0.12167 | train_mse: 0.04717 | train_mae: 0.16144 |  0:00:59s\n",
      "epoch 618| loss: 0.1156  | train_mse: 0.04552 | train_mae: 0.15767 |  0:01:00s\n"
     ]
    },
    {
     "name": "stdout",
     "output_type": "stream",
     "text": [
      "epoch 619| loss: 0.08203 | train_mse: 0.04549 | train_mae: 0.15729 |  0:01:00s\n",
      "epoch 620| loss: 0.20464 | train_mse: 0.04751 | train_mae: 0.16021 |  0:01:00s\n",
      "epoch 621| loss: 0.16201 | train_mse: 0.04936 | train_mae: 0.16183 |  0:01:00s\n"
     ]
    },
    {
     "name": "stdout",
     "output_type": "stream",
     "text": [
      "epoch 622| loss: 0.07852 | train_mse: 0.0515  | train_mae: 0.16439 |  0:01:00s\n",
      "epoch 623| loss: 0.06774 | train_mse: 0.05269 | train_mae: 0.16552 |  0:01:00s\n",
      "epoch 624| loss: 0.15662 | train_mse: 0.05197 | train_mae: 0.16418 |  0:01:00s\n"
     ]
    },
    {
     "name": "stdout",
     "output_type": "stream",
     "text": [
      "epoch 625| loss: 0.07492 | train_mse: 0.05231 | train_mae: 0.16666 |  0:01:00s\n",
      "epoch 626| loss: 0.13249 | train_mse: 0.05049 | train_mae: 0.16511 |  0:01:00s\n"
     ]
    },
    {
     "name": "stdout",
     "output_type": "stream",
     "text": [
      "epoch 627| loss: 0.22381 | train_mse: 0.04713 | train_mae: 0.16147 |  0:01:00s\n",
      "epoch 628| loss: 0.08935 | train_mse: 0.04687 | train_mae: 0.16151 |  0:01:01s\n",
      "epoch 629| loss: 0.07517 | train_mse: 0.04401 | train_mae: 0.15713 |  0:01:01s\n"
     ]
    },
    {
     "name": "stdout",
     "output_type": "stream",
     "text": [
      "epoch 630| loss: 0.06035 | train_mse: 0.04279 | train_mae: 0.15634 |  0:01:01s\n",
      "epoch 631| loss: 0.08473 | train_mse: 0.04167 | train_mae: 0.1562  |  0:01:01s\n",
      "epoch 632| loss: 0.23117 | train_mse: 0.03934 | train_mae: 0.15374 |  0:01:01s\n"
     ]
    },
    {
     "name": "stdout",
     "output_type": "stream",
     "text": [
      "epoch 633| loss: 0.1542  | train_mse: 0.0377  | train_mae: 0.15165 |  0:01:01s\n",
      "epoch 634| loss: 0.09161 | train_mse: 0.0372  | train_mae: 0.1505  |  0:01:01s\n",
      "epoch 635| loss: 0.06748 | train_mse: 0.03698 | train_mae: 0.15105 |  0:01:01s\n"
     ]
    },
    {
     "name": "stdout",
     "output_type": "stream",
     "text": [
      "epoch 636| loss: 0.06842 | train_mse: 0.03812 | train_mae: 0.15281 |  0:01:01s\n",
      "epoch 637| loss: 0.08518 | train_mse: 0.0383  | train_mae: 0.15355 |  0:01:01s\n"
     ]
    },
    {
     "name": "stdout",
     "output_type": "stream",
     "text": [
      "epoch 638| loss: 0.0571  | train_mse: 0.03887 | train_mae: 0.15421 |  0:01:01s\n",
      "epoch 639| loss: 0.08067 | train_mse: 0.04023 | train_mae: 0.1561  |  0:01:02s\n",
      "epoch 640| loss: 0.08882 | train_mse: 0.04091 | train_mae: 0.15816 |  0:01:02s\n"
     ]
    },
    {
     "name": "stdout",
     "output_type": "stream",
     "text": [
      "epoch 641| loss: 0.10835 | train_mse: 0.04351 | train_mae: 0.1603  |  0:01:02s\n",
      "epoch 642| loss: 0.17569 | train_mse: 0.04391 | train_mae: 0.16047 |  0:01:02s\n",
      "epoch 643| loss: 0.07261 | train_mse: 0.04433 | train_mae: 0.16037 |  0:01:02s\n"
     ]
    },
    {
     "name": "stdout",
     "output_type": "stream",
     "text": [
      "epoch 644| loss: 0.07813 | train_mse: 0.04357 | train_mae: 0.15914 |  0:01:02s\n",
      "epoch 645| loss: 0.06604 | train_mse: 0.04306 | train_mae: 0.15844 |  0:01:02s\n",
      "epoch 646| loss: 0.06805 | train_mse: 0.04197 | train_mae: 0.15634 |  0:01:02s\n"
     ]
    },
    {
     "name": "stdout",
     "output_type": "stream",
     "text": [
      "epoch 647| loss: 0.10637 | train_mse: 0.0407  | train_mae: 0.15408 |  0:01:02s\n",
      "epoch 648| loss: 0.12506 | train_mse: 0.03845 | train_mae: 0.15079 |  0:01:02s\n"
     ]
    },
    {
     "name": "stdout",
     "output_type": "stream",
     "text": [
      "epoch 649| loss: 0.1717  | train_mse: 0.03789 | train_mae: 0.15006 |  0:01:02s\n",
      "epoch 650| loss: 0.08416 | train_mse: 0.03877 | train_mae: 0.15158 |  0:01:03s\n",
      "epoch 651| loss: 0.07304 | train_mse: 0.0405  | train_mae: 0.15281 |  0:01:03s\n"
     ]
    },
    {
     "name": "stdout",
     "output_type": "stream",
     "text": [
      "epoch 652| loss: 0.08418 | train_mse: 0.03949 | train_mae: 0.15157 |  0:01:03s\n",
      "epoch 653| loss: 0.1074  | train_mse: 0.03915 | train_mae: 0.15036 |  0:01:03s\n",
      "epoch 654| loss: 0.07038 | train_mse: 0.03832 | train_mae: 0.14896 |  0:01:03s\n"
     ]
    },
    {
     "name": "stdout",
     "output_type": "stream",
     "text": [
      "epoch 655| loss: 0.08417 | train_mse: 0.0398  | train_mae: 0.15128 |  0:01:03s\n",
      "epoch 656| loss: 0.07453 | train_mse: 0.03951 | train_mae: 0.15159 |  0:01:03s\n",
      "epoch 657| loss: 0.06296 | train_mse: 0.0397  | train_mae: 0.15193 |  0:01:03s\n"
     ]
    },
    {
     "name": "stdout",
     "output_type": "stream",
     "text": [
      "epoch 658| loss: 0.07268 | train_mse: 0.04001 | train_mae: 0.15256 |  0:01:03s\n",
      "epoch 659| loss: 0.10927 | train_mse: 0.04155 | train_mae: 0.15406 |  0:01:03s\n"
     ]
    },
    {
     "name": "stdout",
     "output_type": "stream",
     "text": [
      "epoch 660| loss: 0.08416 | train_mse: 0.04099 | train_mae: 0.15349 |  0:01:03s\n",
      "epoch 661| loss: 0.15966 | train_mse: 0.04114 | train_mae: 0.15363 |  0:01:04s\n",
      "epoch 662| loss: 0.09893 | train_mse: 0.04033 | train_mae: 0.15244 |  0:01:04s\n"
     ]
    },
    {
     "name": "stdout",
     "output_type": "stream",
     "text": [
      "epoch 663| loss: 0.06513 | train_mse: 0.03969 | train_mae: 0.15138 |  0:01:04s\n",
      "epoch 664| loss: 0.14957 | train_mse: 0.03872 | train_mae: 0.14934 |  0:01:04s\n",
      "epoch 665| loss: 0.0922  | train_mse: 0.03786 | train_mae: 0.14899 |  0:01:04s\n"
     ]
    },
    {
     "name": "stdout",
     "output_type": "stream",
     "text": [
      "epoch 666| loss: 0.05832 | train_mse: 0.03719 | train_mae: 0.14839 |  0:01:04s\n",
      "epoch 667| loss: 0.1614  | train_mse: 0.03551 | train_mae: 0.14536 |  0:01:04s\n",
      "epoch 668| loss: 0.05514 | train_mse: 0.03416 | train_mae: 0.14201 |  0:01:04s\n"
     ]
    },
    {
     "name": "stdout",
     "output_type": "stream",
     "text": [
      "epoch 669| loss: 0.10426 | train_mse: 0.0331  | train_mae: 0.13866 |  0:01:04s\n",
      "epoch 670| loss: 0.24542 | train_mse: 0.03358 | train_mae: 0.1395  |  0:01:04s\n"
     ]
    },
    {
     "name": "stdout",
     "output_type": "stream",
     "text": [
      "epoch 671| loss: 0.23865 | train_mse: 0.03581 | train_mae: 0.14298 |  0:01:05s\n",
      "epoch 672| loss: 0.09378 | train_mse: 0.03893 | train_mae: 0.14779 |  0:01:05s\n",
      "epoch 673| loss: 0.14953 | train_mse: 0.04011 | train_mae: 0.14904 |  0:01:05s\n"
     ]
    },
    {
     "name": "stdout",
     "output_type": "stream",
     "text": [
      "epoch 674| loss: 0.09369 | train_mse: 0.04101 | train_mae: 0.15043 |  0:01:05s\n",
      "epoch 675| loss: 0.10724 | train_mse: 0.04124 | train_mae: 0.15029 |  0:01:05s\n",
      "epoch 676| loss: 0.05301 | train_mse: 0.04104 | train_mae: 0.15029 |  0:01:05s\n"
     ]
    },
    {
     "name": "stdout",
     "output_type": "stream",
     "text": [
      "epoch 677| loss: 0.06425 | train_mse: 0.04033 | train_mae: 0.14866 |  0:01:05s\n",
      "epoch 678| loss: 0.05031 | train_mse: 0.03873 | train_mae: 0.14585 |  0:01:05s\n",
      "epoch 679| loss: 0.11698 | train_mse: 0.03783 | train_mae: 0.1454  |  0:01:05s\n"
     ]
    },
    {
     "name": "stdout",
     "output_type": "stream",
     "text": [
      "epoch 680| loss: 0.12314 | train_mse: 0.03524 | train_mae: 0.14211 |  0:01:05s\n",
      "epoch 681| loss: 0.08831 | train_mse: 0.03431 | train_mae: 0.13955 |  0:01:05s\n",
      "epoch 682| loss: 0.1097  | train_mse: 0.03396 | train_mae: 0.13916 |  0:01:06s\n"
     ]
    },
    {
     "name": "stdout",
     "output_type": "stream",
     "text": [
      "epoch 683| loss: 0.05332 | train_mse: 0.03348 | train_mae: 0.13897 |  0:01:06s\n",
      "epoch 684| loss: 0.14367 | train_mse: 0.03246 | train_mae: 0.13682 |  0:01:06s\n",
      "epoch 685| loss: 0.04898 | train_mse: 0.03393 | train_mae: 0.13939 |  0:01:06s\n"
     ]
    },
    {
     "name": "stdout",
     "output_type": "stream",
     "text": [
      "epoch 686| loss: 0.11842 | train_mse: 0.03509 | train_mae: 0.14191 |  0:01:06s\n",
      "epoch 687| loss: 0.15083 | train_mse: 0.03761 | train_mae: 0.14639 |  0:01:06s\n",
      "epoch 688| loss: 0.08912 | train_mse: 0.03867 | train_mae: 0.14787 |  0:01:06s\n"
     ]
    },
    {
     "name": "stdout",
     "output_type": "stream",
     "text": [
      "epoch 689| loss: 0.05773 | train_mse: 0.03766 | train_mae: 0.14648 |  0:01:06s\n",
      "epoch 690| loss: 0.106   | train_mse: 0.03567 | train_mae: 0.14392 |  0:01:06s\n"
     ]
    },
    {
     "name": "stdout",
     "output_type": "stream",
     "text": [
      "epoch 691| loss: 0.0588  | train_mse: 0.03697 | train_mae: 0.14615 |  0:01:06s\n",
      "epoch 692| loss: 0.15079 | train_mse: 0.04009 | train_mae: 0.15064 |  0:01:07s\n",
      "epoch 693| loss: 0.06407 | train_mse: 0.04153 | train_mae: 0.15232 |  0:01:07s\n"
     ]
    },
    {
     "name": "stdout",
     "output_type": "stream",
     "text": [
      "epoch 694| loss: 0.09782 | train_mse: 0.03997 | train_mae: 0.15001 |  0:01:07s\n",
      "epoch 695| loss: 0.11912 | train_mse: 0.04093 | train_mae: 0.15134 |  0:01:07s\n",
      "epoch 696| loss: 0.139   | train_mse: 0.03996 | train_mae: 0.15106 |  0:01:07s\n"
     ]
    },
    {
     "name": "stdout",
     "output_type": "stream",
     "text": [
      "epoch 697| loss: 0.10516 | train_mse: 0.04024 | train_mae: 0.15098 |  0:01:07s\n",
      "epoch 698| loss: 0.09205 | train_mse: 0.04282 | train_mae: 0.15288 |  0:01:07s\n",
      "epoch 699| loss: 0.26276 | train_mse: 0.04315 | train_mae: 0.15355 |  0:01:07s\n"
     ]
    },
    {
     "name": "stdout",
     "output_type": "stream",
     "text": [
      "epoch 700| loss: 0.09049 | train_mse: 0.0418  | train_mae: 0.1517  |  0:01:07s\n",
      "epoch 701| loss: 0.0567  | train_mse: 0.0385  | train_mae: 0.14683 |  0:01:07s\n"
     ]
    },
    {
     "name": "stdout",
     "output_type": "stream",
     "text": [
      "epoch 702| loss: 0.15334 | train_mse: 0.03719 | train_mae: 0.14572 |  0:01:07s\n",
      "epoch 703| loss: 0.09604 | train_mse: 0.03488 | train_mae: 0.14191 |  0:01:08s\n",
      "epoch 704| loss: 0.17874 | train_mse: 0.03304 | train_mae: 0.13865 |  0:01:08s\n"
     ]
    },
    {
     "name": "stdout",
     "output_type": "stream",
     "text": [
      "epoch 705| loss: 0.08502 | train_mse: 0.03253 | train_mae: 0.13628 |  0:01:08s\n",
      "epoch 706| loss: 0.05886 | train_mse: 0.03256 | train_mae: 0.13655 |  0:01:08s\n"
     ]
    },
    {
     "name": "stdout",
     "output_type": "stream",
     "text": [
      "epoch 707| loss: 0.09016 | train_mse: 0.03265 | train_mae: 0.13764 |  0:01:08s\n",
      "epoch 708| loss: 0.07978 | train_mse: 0.03279 | train_mae: 0.13774 |  0:01:08s\n",
      "epoch 709| loss: 0.11482 | train_mse: 0.03328 | train_mae: 0.13762 |  0:01:08s\n"
     ]
    },
    {
     "name": "stdout",
     "output_type": "stream",
     "text": [
      "epoch 710| loss: 0.07144 | train_mse: 0.03429 | train_mae: 0.13914 |  0:01:08s\n",
      "epoch 711| loss: 0.13931 | train_mse: 0.03491 | train_mae: 0.14004 |  0:01:08s\n"
     ]
    },
    {
     "name": "stdout",
     "output_type": "stream",
     "text": [
      "epoch 712| loss: 0.11181 | train_mse: 0.03548 | train_mae: 0.13989 |  0:01:08s\n",
      "epoch 713| loss: 0.12419 | train_mse: 0.0354  | train_mae: 0.13851 |  0:01:09s\n",
      "epoch 714| loss: 0.09368 | train_mse: 0.03381 | train_mae: 0.13701 |  0:01:09s\n"
     ]
    },
    {
     "name": "stdout",
     "output_type": "stream",
     "text": [
      "epoch 715| loss: 0.09376 | train_mse: 0.03344 | train_mae: 0.13894 |  0:01:09s\n",
      "epoch 716| loss: 0.12237 | train_mse: 0.03435 | train_mae: 0.13992 |  0:01:09s\n",
      "epoch 717| loss: 0.06319 | train_mse: 0.03179 | train_mae: 0.13742 |  0:01:09s\n"
     ]
    },
    {
     "name": "stdout",
     "output_type": "stream",
     "text": [
      "epoch 718| loss: 0.15051 | train_mse: 0.03027 | train_mae: 0.13608 |  0:01:09s\n",
      "epoch 719| loss: 0.09211 | train_mse: 0.0294  | train_mae: 0.13479 |  0:01:09s\n",
      "epoch 720| loss: 0.22537 | train_mse: 0.0288  | train_mae: 0.1324  |  0:01:09s\n"
     ]
    },
    {
     "name": "stdout",
     "output_type": "stream",
     "text": [
      "epoch 721| loss: 0.11584 | train_mse: 0.02907 | train_mae: 0.13251 |  0:01:09s\n",
      "epoch 722| loss: 0.09304 | train_mse: 0.05296 | train_mae: 0.1464  |  0:01:09s\n"
     ]
    },
    {
     "name": "stdout",
     "output_type": "stream",
     "text": [
      "epoch 723| loss: 0.06854 | train_mse: 0.05534 | train_mae: 0.14905 |  0:01:10s\n",
      "epoch 724| loss: 0.13844 | train_mse: 0.05441 | train_mae: 0.15057 |  0:01:10s\n",
      "epoch 725| loss: 0.06018 | train_mse: 0.05501 | train_mae: 0.15188 |  0:01:10s\n"
     ]
    },
    {
     "name": "stdout",
     "output_type": "stream",
     "text": [
      "epoch 726| loss: 0.07028 | train_mse: 0.05651 | train_mae: 0.15364 |  0:01:10s\n",
      "epoch 727| loss: 0.12353 | train_mse: 0.05822 | train_mae: 0.15142 |  0:01:10s\n",
      "epoch 728| loss: 0.20103 | train_mse: 0.03985 | train_mae: 0.14485 |  0:01:10s\n"
     ]
    },
    {
     "name": "stdout",
     "output_type": "stream",
     "text": [
      "epoch 729| loss: 0.12002 | train_mse: 0.03326 | train_mae: 0.14108 |  0:01:10s\n",
      "epoch 730| loss: 0.07081 | train_mse: 0.0321  | train_mae: 0.13797 |  0:01:10s\n",
      "epoch 731| loss: 0.09411 | train_mse: 0.0303  | train_mae: 0.13273 |  0:01:10s\n"
     ]
    },
    {
     "name": "stdout",
     "output_type": "stream",
     "text": [
      "epoch 732| loss: 0.08425 | train_mse: 0.02873 | train_mae: 0.12938 |  0:01:10s\n",
      "epoch 733| loss: 0.19291 | train_mse: 0.02603 | train_mae: 0.12513 |  0:01:11s\n"
     ]
    },
    {
     "name": "stdout",
     "output_type": "stream",
     "text": [
      "epoch 734| loss: 0.13064 | train_mse: 0.02795 | train_mae: 0.12796 |  0:01:11s\n",
      "epoch 735| loss: 0.11256 | train_mse: 0.02932 | train_mae: 0.13453 |  0:01:11s\n",
      "epoch 736| loss: 0.05003 | train_mse: 0.03101 | train_mae: 0.13907 |  0:01:11s\n"
     ]
    },
    {
     "name": "stdout",
     "output_type": "stream",
     "text": [
      "epoch 737| loss: 0.12025 | train_mse: 0.03168 | train_mae: 0.13944 |  0:01:11s\n",
      "epoch 738| loss: 0.06306 | train_mse: 0.03168 | train_mae: 0.14094 |  0:01:11s\n"
     ]
    },
    {
     "name": "stdout",
     "output_type": "stream",
     "text": [
      "epoch 739| loss: 0.13332 | train_mse: 0.03192 | train_mae: 0.14088 |  0:01:12s\n",
      "epoch 740| loss: 0.05566 | train_mse: 0.05327 | train_mae: 0.1561  |  0:01:12s\n"
     ]
    },
    {
     "name": "stdout",
     "output_type": "stream",
     "text": [
      "epoch 741| loss: 0.11017 | train_mse: 0.05909 | train_mae: 0.15839 |  0:01:12s\n",
      "epoch 742| loss: 0.08439 | train_mse: 0.05997 | train_mae: 0.15785 |  0:01:12s\n"
     ]
    },
    {
     "name": "stdout",
     "output_type": "stream",
     "text": [
      "epoch 743| loss: 0.12169 | train_mse: 0.06321 | train_mae: 0.16156 |  0:01:12s\n",
      "epoch 744| loss: 0.09735 | train_mse: 0.05595 | train_mae: 0.15549 |  0:01:12s\n"
     ]
    },
    {
     "name": "stdout",
     "output_type": "stream",
     "text": [
      "epoch 745| loss: 0.08173 | train_mse: 0.04829 | train_mae: 0.15417 |  0:01:13s\n",
      "epoch 746| loss: 0.13722 | train_mse: 0.03812 | train_mae: 0.15141 |  0:01:13s\n"
     ]
    },
    {
     "name": "stdout",
     "output_type": "stream",
     "text": [
      "epoch 747| loss: 0.14192 | train_mse: 0.04245 | train_mae: 0.15617 |  0:01:13s\n",
      "epoch 748| loss: 0.09324 | train_mse: 0.04138 | train_mae: 0.1536  |  0:01:13s\n"
     ]
    },
    {
     "name": "stdout",
     "output_type": "stream",
     "text": [
      "epoch 749| loss: 0.09359 | train_mse: 0.04001 | train_mae: 0.14823 |  0:01:13s\n"
     ]
    },
    {
     "name": "stdout",
     "output_type": "stream",
     "text": [
      "epoch 750| loss: 0.1368  | train_mse: 0.04386 | train_mae: 0.15453 |  0:01:13s\n",
      "epoch 751| loss: 0.09763 | train_mse: 0.04866 | train_mae: 0.16306 |  0:01:14s\n"
     ]
    },
    {
     "name": "stdout",
     "output_type": "stream",
     "text": [
      "epoch 752| loss: 0.08072 | train_mse: 0.04698 | train_mae: 0.16206 |  0:01:14s\n",
      "epoch 753| loss: 0.04971 | train_mse: 0.0425  | train_mae: 0.15697 |  0:01:14s\n"
     ]
    },
    {
     "name": "stdout",
     "output_type": "stream",
     "text": [
      "epoch 754| loss: 0.08484 | train_mse: 0.03607 | train_mae: 0.14795 |  0:01:14s\n",
      "epoch 755| loss: 0.28428 | train_mse: 0.03209 | train_mae: 0.14031 |  0:01:14s\n"
     ]
    },
    {
     "name": "stdout",
     "output_type": "stream",
     "text": [
      "epoch 756| loss: 0.08258 | train_mse: 0.03155 | train_mae: 0.1401  |  0:01:14s\n",
      "epoch 757| loss: 0.11443 | train_mse: 0.03125 | train_mae: 0.13938 |  0:01:15s\n"
     ]
    },
    {
     "name": "stdout",
     "output_type": "stream",
     "text": [
      "epoch 758| loss: 0.10352 | train_mse: 0.03148 | train_mae: 0.13857 |  0:01:15s\n",
      "epoch 759| loss: 0.10066 | train_mse: 0.03078 | train_mae: 0.13581 |  0:01:15s\n"
     ]
    },
    {
     "name": "stdout",
     "output_type": "stream",
     "text": [
      "epoch 760| loss: 0.10473 | train_mse: 0.03162 | train_mae: 0.13709 |  0:01:15s\n",
      "epoch 761| loss: 0.08053 | train_mse: 0.0324  | train_mae: 0.13875 |  0:01:15s\n"
     ]
    },
    {
     "name": "stdout",
     "output_type": "stream",
     "text": [
      "epoch 762| loss: 0.171   | train_mse: 0.03171 | train_mae: 0.13715 |  0:01:15s\n",
      "epoch 763| loss: 0.1108  | train_mse: 0.03433 | train_mae: 0.14053 |  0:01:15s\n"
     ]
    },
    {
     "name": "stdout",
     "output_type": "stream",
     "text": [
      "epoch 764| loss: 0.16569 | train_mse: 0.03582 | train_mae: 0.14253 |  0:01:16s\n"
     ]
    },
    {
     "name": "stdout",
     "output_type": "stream",
     "text": [
      "epoch 765| loss: 0.1038  | train_mse: 0.03613 | train_mae: 0.14279 |  0:01:16s\n",
      "epoch 766| loss: 0.102   | train_mse: 0.03561 | train_mae: 0.14211 |  0:01:16s\n"
     ]
    },
    {
     "name": "stdout",
     "output_type": "stream",
     "text": [
      "epoch 767| loss: 0.09318 | train_mse: 0.03629 | train_mae: 0.14328 |  0:01:16s\n",
      "epoch 768| loss: 0.07094 | train_mse: 0.0354  | train_mae: 0.1415  |  0:01:16s\n",
      "epoch 769| loss: 0.06147 | train_mse: 0.03539 | train_mae: 0.14451 |  0:01:16s\n"
     ]
    },
    {
     "name": "stdout",
     "output_type": "stream",
     "text": [
      "epoch 770| loss: 0.07218 | train_mse: 0.03359 | train_mae: 0.14163 |  0:01:16s\n",
      "epoch 771| loss: 0.05097 | train_mse: 0.03729 | train_mae: 0.14752 |  0:01:16s\n"
     ]
    },
    {
     "name": "stdout",
     "output_type": "stream",
     "text": [
      "epoch 772| loss: 0.09809 | train_mse: 0.04969 | train_mae: 0.15379 |  0:01:17s\n",
      "epoch 773| loss: 0.07989 | train_mse: 0.04165 | train_mae: 0.14626 |  0:01:17s\n",
      "epoch 774| loss: 0.11083 | train_mse: 0.04215 | train_mae: 0.14865 |  0:01:17s\n"
     ]
    },
    {
     "name": "stdout",
     "output_type": "stream",
     "text": [
      "epoch 775| loss: 0.07392 | train_mse: 0.04365 | train_mae: 0.14673 |  0:01:17s\n",
      "epoch 776| loss: 0.1     | train_mse: 0.04659 | train_mae: 0.14886 |  0:01:17s\n",
      "epoch 777| loss: 0.06602 | train_mse: 0.04853 | train_mae: 0.15201 |  0:01:17s\n"
     ]
    },
    {
     "name": "stdout",
     "output_type": "stream",
     "text": [
      "epoch 778| loss: 0.15479 | train_mse: 0.05005 | train_mae: 0.15477 |  0:01:17s\n",
      "epoch 779| loss: 0.09816 | train_mse: 0.04929 | train_mae: 0.15456 |  0:01:17s\n"
     ]
    },
    {
     "name": "stdout",
     "output_type": "stream",
     "text": [
      "epoch 780| loss: 0.10594 | train_mse: 0.05056 | train_mae: 0.15713 |  0:01:17s\n",
      "epoch 781| loss: 0.07246 | train_mse: 0.05294 | train_mae: 0.16086 |  0:01:17s\n"
     ]
    },
    {
     "name": "stdout",
     "output_type": "stream",
     "text": [
      "epoch 782| loss: 0.073   | train_mse: 0.05056 | train_mae: 0.15898 |  0:01:18s\n",
      "epoch 783| loss: 0.16409 | train_mse: 0.04583 | train_mae: 0.15394 |  0:01:18s\n",
      "\n",
      "Early stopping occurred at epoch 783 with best_epoch = 733 and best_train_mae = 0.12513\n",
      "Best weights from best epoch are automatically used!\n"
     ]
    }
   ],
   "source": [
    "#Train the Model\n",
    "\n",
    "Y_train = np.reshape(Y_train, (-1, 1))\n",
    "Y_test = np.reshape(Y_test, (-1, 1))\n",
    "\n",
    "prior_model = TabNetRegressor(optimizer_fn=torch.optim.Adam, optimizer_params=dict(lr = 0.001),\n",
    "          #scheduler_params={\"step_size\":10, ], \"gamma\":0.9},\n",
    "          #scheduler_fn=torch.optim.lr_scheduler.StepLR\n",
    "          )  #TabNetRegressor()\n",
    "\n",
    "prior_model.fit(X_train,Y_train,eval_set=[(X_train, Y_train)],\n",
    "            eval_name=['train'], \n",
    "            eval_metric=[ 'mse', 'mae'], \n",
    "            max_epochs = n_epochs, \n",
    "            batch_size = batch_size,\n",
    "            patience=50\n",
    "            )"
   ]
  },
  {
   "cell_type": "code",
   "execution_count": 10,
   "id": "af65dcda",
   "metadata": {
    "execution": {
     "iopub.execute_input": "2022-07-22T09:57:00.536788Z",
     "iopub.status.busy": "2022-07-22T09:57:00.536247Z",
     "iopub.status.idle": "2022-07-22T09:57:00.583875Z",
     "shell.execute_reply": "2022-07-22T09:57:00.582650Z"
    },
    "id": "af65dcda",
    "papermill": {
     "duration": 0.092824,
     "end_time": "2022-07-22T09:57:00.588682",
     "exception": false,
     "start_time": "2022-07-22T09:57:00.495858",
     "status": "completed"
    },
    "tags": []
   },
   "outputs": [
    {
     "data": {
      "application/scrapbook.scrap.json+json": {
       "data": 0.2544557651871573,
       "encoder": "json",
       "name": "Prior Model MSE",
       "version": 1
      }
     },
     "metadata": {
      "scrapbook": {
       "data": true,
       "display": false,
       "name": "Prior Model MSE"
      }
     },
     "output_type": "display_data"
    },
    {
     "data": {
      "application/scrapbook.scrap.json+json": {
       "data": 1.3554577544805535,
       "encoder": "json",
       "name": "ABC Pre-generator MSE",
       "version": 1
      }
     },
     "metadata": {
      "scrapbook": {
       "data": true,
       "display": false,
       "name": "ABC Pre-generator MSE"
      }
     },
     "output_type": "display_data"
    },
    {
     "data": {
      "application/scrapbook.scrap.json+json": {
       "data": 0.3532754793157562,
       "encoder": "json",
       "name": "Prior Model MAE",
       "version": 1
      }
     },
     "metadata": {
      "scrapbook": {
       "data": true,
       "display": false,
       "name": "Prior Model MAE"
      }
     },
     "output_type": "display_data"
    },
    {
     "name": "stdout",
     "output_type": "stream",
     "text": [
      "Prior Model MAE 0.3532754793157562\n"
     ]
    },
    {
     "data": {
      "application/scrapbook.scrap.json+json": {
       "data": 1.050690077561452,
       "encoder": "json",
       "name": "ABC Pre-generator MAE",
       "version": 1
      }
     },
     "metadata": {
      "scrapbook": {
       "data": true,
       "display": false,
       "name": "ABC Pre-generator MAE"
      }
     },
     "output_type": "display_data"
    },
    {
     "name": "stdout",
     "output_type": "stream",
     "text": [
      "ABC Pre-generator MAE 1.050690077561452\n"
     ]
    }
   ],
   "source": [
    "y_pred = prior_model.predict(X_test)\n",
    "y_abc = y_pred + np.random.normal(0,variance, y_pred.shape) + bias \n",
    "mse = mean_squared_error(y_pred,Y_test)\n",
    "sb.glue(\"Prior Model MSE\",mse)\n",
    "mse = mean_squared_error(y_abc,Y_test)\n",
    "sb.glue(\"ABC Pre-generator MSE\",mse)\n",
    "mae = mean_absolute_error(y_pred,Y_test)\n",
    "sb.glue(\"Prior Model MAE\",mae)\n",
    "print(\"Prior Model MAE\",mae)\n",
    "mae = mean_absolute_error(y_abc,Y_test)\n",
    "sb.glue(\"ABC Pre-generator MAE\",mae)\n",
    "print(\"ABC Pre-generator MAE\",mae)"
   ]
  },
  {
   "cell_type": "markdown",
   "id": "25609da2",
   "metadata": {
    "papermill": {
     "duration": 0.028955,
     "end_time": "2022-07-22T09:57:00.647954",
     "exception": false,
     "start_time": "2022-07-22T09:57:00.618999",
     "status": "completed"
    },
    "tags": []
   },
   "source": [
    "# mGAN Model"
   ]
  },
  {
   "cell_type": "code",
   "execution_count": 11,
   "id": "dfc3464d",
   "metadata": {
    "execution": {
     "iopub.execute_input": "2022-07-22T09:57:00.717397Z",
     "iopub.status.busy": "2022-07-22T09:57:00.716957Z",
     "iopub.status.idle": "2022-07-22T09:57:00.722316Z",
     "shell.execute_reply": "2022-07-22T09:57:00.720726Z"
    },
    "papermill": {
     "duration": 0.044335,
     "end_time": "2022-07-22T09:57:00.725222",
     "exception": false,
     "start_time": "2022-07-22T09:57:00.680887",
     "status": "completed"
    },
    "tags": []
   },
   "outputs": [],
   "source": [
    "# gen = network.Generator(n_features+1).to(device)\n",
    "# disc = network.Discriminator(n_features+1).to(device)\n",
    "\n",
    "# criterion = torch.nn.BCELoss()\n",
    "# gen_opt = torch.optim.Adam(gen.parameters(), lr=0.001, betas=(0.5, 0.999))\n",
    "# disc_opt = torch.optim.Adam(disc.parameters(), lr=0.001, betas=(0.5, 0.999))"
   ]
  },
  {
   "cell_type": "code",
   "execution_count": 12,
   "id": "b75fdd85",
   "metadata": {
    "execution": {
     "iopub.execute_input": "2022-07-22T09:57:00.787102Z",
     "iopub.status.busy": "2022-07-22T09:57:00.786476Z",
     "iopub.status.idle": "2022-07-22T09:57:00.791360Z",
     "shell.execute_reply": "2022-07-22T09:57:00.790103Z"
    },
    "papermill": {
     "duration": 0.041889,
     "end_time": "2022-07-22T09:57:00.796595",
     "exception": false,
     "start_time": "2022-07-22T09:57:00.754706",
     "status": "completed"
    },
    "tags": []
   },
   "outputs": [],
   "source": [
    "#Training the ABC_GAN \n",
    "# ABC_train_test2.training_GAN(disc,gen,disc_opt,gen_opt,train_data,batch_size,n_epochs,criterion,prior_model,variance,bias,device)"
   ]
  },
  {
   "cell_type": "code",
   "execution_count": 13,
   "id": "1fa7c368",
   "metadata": {
    "execution": {
     "iopub.execute_input": "2022-07-22T09:57:00.863304Z",
     "iopub.status.busy": "2022-07-22T09:57:00.862829Z",
     "iopub.status.idle": "2022-07-22T09:57:00.867683Z",
     "shell.execute_reply": "2022-07-22T09:57:00.865867Z"
    },
    "papermill": {
     "duration": 0.041186,
     "end_time": "2022-07-22T09:57:00.872312",
     "exception": false,
     "start_time": "2022-07-22T09:57:00.831126",
     "status": "completed"
    },
    "tags": []
   },
   "outputs": [],
   "source": [
    "# ABC_GAN1_metrics=ABC_train_test2.test_generator(gen,test_data,prior_model,variance,bias,\"1\",device)\n",
    "# sb.glue(\"ABC_GAN_1 Metrics\",ABC_GAN1_metrics)\n",
    "\n",
    "# print(\"MAE\")\n",
    "# print(mean(ABC_GAN1_metrics[1]))"
   ]
  },
  {
   "cell_type": "code",
   "execution_count": 14,
   "id": "eb22ce5c",
   "metadata": {
    "execution": {
     "iopub.execute_input": "2022-07-22T09:57:00.937815Z",
     "iopub.status.busy": "2022-07-22T09:57:00.937375Z",
     "iopub.status.idle": "2022-07-22T09:57:00.943607Z",
     "shell.execute_reply": "2022-07-22T09:57:00.942268Z"
    },
    "papermill": {
     "duration": 0.04381,
     "end_time": "2022-07-22T09:57:00.947737",
     "exception": false,
     "start_time": "2022-07-22T09:57:00.903927",
     "status": "completed"
    },
    "tags": []
   },
   "outputs": [],
   "source": [
    "# sanityChecks.discProbVsError(train_data,disc,device)\n",
    "# sanityChecks.discProbVsError(test_data,disc,device)"
   ]
  },
  {
   "cell_type": "markdown",
   "id": "b050d85b",
   "metadata": {
    "papermill": {
     "duration": 0.038347,
     "end_time": "2022-07-22T09:57:01.017759",
     "exception": false,
     "start_time": "2022-07-22T09:57:00.979412",
     "status": "completed"
    },
    "tags": []
   },
   "source": [
    "# mGAN Model with TabNet Generator"
   ]
  },
  {
   "cell_type": "code",
   "execution_count": 15,
   "id": "b9dbe9e0",
   "metadata": {
    "execution": {
     "iopub.execute_input": "2022-07-22T09:57:01.112704Z",
     "iopub.status.busy": "2022-07-22T09:57:01.111977Z",
     "iopub.status.idle": "2022-07-22T09:57:01.132634Z",
     "shell.execute_reply": "2022-07-22T09:57:01.131624Z"
    },
    "papermill": {
     "duration": 0.072326,
     "end_time": "2022-07-22T09:57:01.140037",
     "exception": false,
     "start_time": "2022-07-22T09:57:01.067711",
     "status": "completed"
    },
    "tags": []
   },
   "outputs": [],
   "source": [
    "gen2 = network.GeneratorTabnet(n_features+1).to(device)\n",
    "disc2 = network.Discriminator(n_features+1).to(device)\n",
    "\n",
    "criterion = torch.nn.BCELoss()\n",
    "gen_opt = torch.optim.Adam(gen2.parameters(), lr=0.001, betas=(0.5, 0.999))\n",
    "disc_opt = torch.optim.Adam(disc2.parameters(), lr=0.001, betas=(0.5, 0.999))"
   ]
  },
  {
   "cell_type": "code",
   "execution_count": 16,
   "id": "07a900eb",
   "metadata": {
    "execution": {
     "iopub.execute_input": "2022-07-22T09:57:01.209935Z",
     "iopub.status.busy": "2022-07-22T09:57:01.209071Z",
     "iopub.status.idle": "2022-07-22T10:00:01.444339Z",
     "shell.execute_reply": "2022-07-22T10:00:01.442974Z"
    },
    "papermill": {
     "duration": 180.273371,
     "end_time": "2022-07-22T10:00:01.447019",
     "exception": false,
     "start_time": "2022-07-22T09:57:01.173648",
     "status": "completed"
    },
    "tags": []
   },
   "outputs": [
    {
     "data": {
      "image/png": "[encoded data removed]",
      "text/plain": [
       "<Figure size 432x288 with 1 Axes>"
      ]
     },
     "metadata": {
      "needs_background": "light"
     },
     "output_type": "display_data"
    },
    {
     "data": {
      "image/png": "[encoded data removed]",
      "text/plain": [
       "<Figure size 432x288 with 1 Axes>"
      ]
     },
     "metadata": {
      "needs_background": "light"
     },
     "output_type": "display_data"
    }
   ],
   "source": [
    "#Training the ABC_GAN \n",
    "ABC_train_test2.training_GAN(disc2,gen2,disc_opt,gen_opt,train_data,batch_size,n_epochs,criterion,prior_model,variance,bias,device)"
   ]
  },
  {
   "cell_type": "code",
   "execution_count": 17,
   "id": "2ddc555c",
   "metadata": {
    "execution": {
     "iopub.execute_input": "2022-07-22T10:00:01.522678Z",
     "iopub.status.busy": "2022-07-22T10:00:01.520003Z",
     "iopub.status.idle": "2022-07-22T10:00:03.435196Z",
     "shell.execute_reply": "2022-07-22T10:00:03.434100Z"
    },
    "papermill": {
     "duration": 1.959707,
     "end_time": "2022-07-22T10:00:03.439487",
     "exception": false,
     "start_time": "2022-07-22T10:00:01.479780",
     "status": "completed"
    },
    "tags": []
   },
   "outputs": [
    {
     "data": {
      "application/scrapbook.scrap.json+json": {
       "data": 0.2792711244520424,
       "encoder": "json",
       "name": "ABC-GAN Model 1 MSE",
       "version": 1
      }
     },
     "metadata": {
      "scrapbook": {
       "data": true,
       "display": false,
       "name": "ABC-GAN Model 1 MSE"
      }
     },
     "output_type": "display_data"
    },
    {
     "data": {
      "application/scrapbook.scrap.json+json": {
       "data": 0.454395443059504,
       "encoder": "json",
       "name": "ABC-GAN Model 1 MAE",
       "version": 1
      }
     },
     "metadata": {
      "scrapbook": {
       "data": true,
       "display": false,
       "name": "ABC-GAN Model 1 MAE"
      }
     },
     "output_type": "display_data"
    },
    {
     "data": {
      "application/scrapbook.scrap.json+json": {
       "data": 9.08790886119008,
       "encoder": "json",
       "name": "ABC-GAN Model 1 Manhattan Distance",
       "version": 1
      }
     },
     "metadata": {
      "scrapbook": {
       "data": true,
       "display": false,
       "name": "ABC-GAN Model 1 Manhattan Distance"
      }
     },
     "output_type": "display_data"
    },
    {
     "data": {
      "application/scrapbook.scrap.json+json": {
       "data": 2.3633021835821166,
       "encoder": "json",
       "name": "ABC-GAN Model 1 Euclidean distance",
       "version": 1
      }
     },
     "metadata": {
      "scrapbook": {
       "data": true,
       "display": false,
       "name": "ABC-GAN Model 1 Euclidean distance"
      }
     },
     "output_type": "display_data"
    },
    {
     "data": {
      "application/scrapbook.scrap.json+json": {
       "data": [
        [
         0.2810744971049282,
         0.280844869768341,
         0.28311416184835064,
         0.2776542388192936,
         0.27361269672645244,
         0.2747638750066223,
         0.28160315217591514,
         0.27768678301619776,
         0.2782788238634891,
         0.2843788107361824,
         0.27815471584094903,
         0.27803641088485326,
         0.27916802098361637,
         0.2799232380720208,
         0.2814739583835297,
         0.277456809575909,
         0.28364311248636576,
         0.28225430897152926,
         0.2812516077790387,
         0.28175437989628,
         0.27551328559548754,
         0.27968518619098803,
         0.2787210555517496,
         0.2806382015650276,
         0.2773611853061018,
         0.2804111273721069,
         0.2764435293548345,
         0.27791182606180315,
         0.2831989055542238,
         0.27767718481732706,
         0.28008620299685016,
         0.27271681395137815,
         0.2840589630458308,
         0.2728568130883671,
         0.2830265654366148,
         0.2805366887069229,
         0.27722112351872785,
         0.2802729776556915,
         0.27687539451733373,
         0.2792518078931835,
         0.2772511408062136,
         0.28148974466953774,
         0.2750569519838771,
         0.2783918575925318,
         0.2830478654176048,
         0.2860326413045594,
         0.2830477321602912,
         0.28001371626344035,
         0.2760854272396463,
         0.28463923278214914,
         0.2741596224420827,
         0.28229795480627046,
         0.2832623855904438,
         0.274208752023516,
         0.27450538535912056,
         0.28413156910561044,
         0.28006856009170156,
         0.2786633320878912,
         0.27793208258847635,
         0.268691229993726,
         0.2828700557705076,
         0.27580812499977186,
         0.274839577294559,
         0.2754131118006343,
         0.27344985603373895,
         0.2778280894077435,
         0.279763957159869,
         0.28168724027375414,
         0.27984990083333156,
         0.2767260355849264,
         0.2725591188764838,
         0.2854816538735539,
         0.284556910766693,
         0.2760336330482982,
         0.27917397898825597,
         0.28435747127408173,
         0.2842914616792713,
         0.27801436534734575,
         0.2770113279993961,
         0.2780581851834877,
         0.27897514716349503,
         0.27880488133417164,
         0.27922092385738995,
         0.27704738550515307,
         0.2787057157639153,
         0.2730506720353105,
         0.28094977495239787,
         0.2852711688347228,
         0.27869676704023305,
         0.28239868304474913,
         0.2772987247331545,
         0.2860727870079554,
         0.2795202046688249,
         0.28199945881997446,
         0.2798905403970115,
         0.2786911875002235,
         0.2877868324615113,
         0.2753351173125423,
         0.2791098653797058,
         0.27694205676698874
        ],
        [
         0.45496106836944816,
         0.4539228143170476,
         0.45601545069366695,
         0.4509813265874982,
         0.4504816571250558,
         0.4481962839141488,
         0.4552674213424325,
         0.4520859459415078,
         0.4539616445079446,
         0.45921280328184366,
         0.4541248755529523,
         0.4517636025324464,
         0.45106339175254107,
         0.4535399438813329,
         0.45546815190464257,
         0.4539838643744588,
         0.45933734979480506,
         0.4564325185492635,
         0.45567540545016527,
         0.45603399369865655,
         0.45041614044457673,
         0.4547576727345586,
         0.4558359468355775,
         0.4568641247227788,
         0.45299363005906346,
         0.4530731776729226,
         0.45315543878823517,
         0.452272973395884,
         0.4569125259295106,
         0.4530192183330655,
         0.4547428356483579,
         0.45012524295598266,
         0.45768437851220367,
         0.45002792272716763,
         0.4564759867265821,
         0.45567588675767184,
         0.4497297974303365,
         0.4536276748403907,
         0.45341001097112893,
         0.45321068707853557,
         0.45377404857426884,
         0.457914968021214,
         0.45027322936803105,
         0.45410942379385233,
         0.4580493064597249,
         0.4596824759617448,
         0.4564739989116788,
         0.45416164565831424,
         0.45237995255738495,
         0.46067660842090846,
         0.4511754812672734,
         0.45619668532162905,
         0.4581893214955926,
         0.4489090831950307,
         0.4517244579270482,
         0.458111216314137,
         0.4527244107797742,
         0.4551936933770776,
         0.45416320357471707,
         0.44514914993196725,
         0.4554850922897458,
         0.45290135089308026,
         0.45075860116630795,
         0.4537113519385457,
         0.4496247136965394,
         0.45454849395900965,
         0.45541285295039413,
         0.45648832637816666,
         0.456173131801188,
         0.4518417285755277,
         0.45034015122801063,
         0.4586998337879777,
         0.45917983893305064,
         0.45325977075845003,
         0.4540611671283841,
         0.45635020080953836,
         0.46043692249804735,
         0.4532690213993192,
         0.45265574995428326,
         0.4544290179386735,
         0.45371344331651925,
         0.4544681319966912,
         0.4554558051750064,
         0.45487861800938845,
         0.45562348011881115,
         0.45174924973398445,
         0.45486247856169937,
         0.4593395056203008,
         0.4523329401388764,
         0.4582314373925328,
         0.45348971132189037,
         0.45810129065066574,
         0.454051617719233,
         0.45365561041980984,
         0.45571513194590807,
         0.4551981931552291,
         0.4598616862669587,
         0.45386857483536003,
         0.4553793141618371,
         0.4543876202777028
        ],
        [
         9.099221367388964,
         9.078456286340952,
         9.120309013873339,
         9.019626531749964,
         9.009633142501116,
         8.963925678282976,
         9.10534842684865,
         9.041718918830156,
         9.079232890158892,
         9.184256065636873,
         9.082497511059046,
         9.035272050648928,
         9.021267835050821,
         9.070798877626657,
         9.109363038092852,
         9.079677287489176,
         9.186746995896101,
         9.12865037098527,
         9.113508109003305,
         9.120679873973131,
         9.008322808891535,
         9.095153454691172,
         9.11671893671155,
         9.137282494455576,
         9.059872601181269,
         9.061463553458452,
         9.063108775764704,
         9.04545946791768,
         9.138250518590212,
         9.06038436666131,
         9.094856712967157,
         9.002504859119654,
         9.153687570244074,
         9.000558454543352,
         9.129519734531641,
         9.113517735153437,
         8.99459594860673,
         9.072553496807814,
         9.068200219422579,
         9.064213741570711,
         9.075480971485376,
         9.15829936042428,
         9.00546458736062,
         9.082188475877047,
         9.160986129194498,
         9.193649519234896,
         9.129479978233576,
         9.083232913166285,
         9.0475990511477,
         9.213532168418169,
         9.023509625345469,
         9.123933706432581,
         9.163786429911852,
         8.978181663900614,
         9.034489158540964,
         9.16222432628274,
         9.054488215595484,
         9.103873867541552,
         9.083264071494341,
         8.902982998639345,
         9.109701845794916,
         9.058027017861605,
         9.015172023326159,
         9.074227038770914,
         8.992494273930788,
         9.090969879180193,
         9.108257059007883,
         9.129766527563334,
         9.12346263602376,
         9.036834571510553,
         9.006803024560213,
         9.173996675759554,
         9.183596778661013,
         9.065195415169,
         9.081223342567682,
         9.127004016190767,
         9.208738449960947,
         9.065380427986383,
         9.053114999085665,
         9.08858035877347,
         9.074268866330385,
         9.089362639933825,
         9.109116103500128,
         9.097572360187769,
         9.112469602376223,
         9.03498499467969,
         9.097249571233988,
         9.186790112406015,
         9.046658802777529,
         9.164628747850657,
         9.069794226437807,
         9.162025813013315,
         9.08103235438466,
         9.073112208396196,
         9.114302638918161,
         9.103963863104582,
         9.197233725339174,
         9.077371496707201,
         9.107586283236742,
         9.087752405554056
        ],
        [
         2.3709681444714867,
         2.3699994504992654,
         2.3795552603305965,
         2.3564984142549026,
         2.339284919484809,
         2.3442008233366964,
         2.3731967983119944,
         2.356636514255848,
         2.359147404735402,
         2.38486398243666,
         2.3586212745625312,
         2.3581196360017582,
         2.3629135446884906,
         2.3661075126545743,
         2.372652348674494,
         2.3556604576038076,
         2.381777120078055,
         2.3759390100401534,
         2.371715024108245,
         2.3738339448928603,
         2.347395516718423,
         2.365101207944337,
         2.361021200886386,
         2.3691272720773258,
         2.3552544886109517,
         2.3681686062107437,
         2.3513550533887244,
         2.3575912540633635,
         2.379911366224481,
         2.3565957855233766,
         2.3667961593548785,
         2.3354520502522766,
         2.383522448167127,
         2.336051425325937,
         2.3791871109125267,
         2.3686987512426434,
         2.354659735582735,
         2.3675851733599425,
         2.3531910016712785,
         2.3632681096023935,
         2.354787212493789,
         2.3727188820824843,
         2.3454507114150878,
         2.359626485664762,
         2.379276635524355,
         2.3917886248770373,
         2.379276075449384,
         2.366489874322053,
         2.3498315992412997,
         2.3859557111654404,
         2.341621756142877,
         2.3761227022452793,
         2.38017808405356,
         2.341831556809823,
         2.343097886811904,
         2.383827045343728,
         2.3667216147730663,
         2.3607767030699502,
         2.357677172933039,
         2.3181511167036803,
         2.3785291916245535,
         2.348651208671785,
         2.3445237354079356,
         2.346968733497037,
         2.3385887027595893,
         2.357236048459057,
         2.365434239880149,
         2.373551096032079,
         2.3657975434653387,
         2.3525562079785742,
         2.3347767296959416,
         2.38948385168661,
         2.3856106587902937,
         2.3496111722934,
         2.362938759207508,
         2.384774502019349,
         2.384497689993728,
         2.3580261463662597,
         2.3537685867535747,
         2.358211971742522,
         2.362097149414033,
         2.36137621455867,
         2.363137422400102,
         2.3539217722989565,
         2.3609562290051684,
         2.336881135339624,
         2.3704420471819083,
         2.388602808483331,
         2.360918325737818,
         2.3765465829423547,
         2.35498927697412,
         2.3919564670284257,
         2.3644035386068296,
         2.374866138627499,
         2.3659693167791147,
         2.360894692696917,
         2.3991116375088146,
         2.3466363898676006,
         2.362667413664927,
         2.353474269105098
        ]
       ],
       "encoder": "json",
       "name": "ABC_GAN_2 Metrics",
       "version": 1
      }
     },
     "metadata": {
      "scrapbook": {
       "data": true,
       "display": false,
       "name": "ABC_GAN_2 Metrics"
      }
     },
     "output_type": "display_data"
    },
    {
     "name": "stdout",
     "output_type": "stream",
     "text": [
      "MAE\n",
      "0.454395443059504\n"
     ]
    }
   ],
   "source": [
    "ABC_GAN2_metrics=ABC_train_test2.test_generator(gen2,test_data,prior_model,variance,bias,\"1\",device)\n",
    "sb.glue(\"ABC_GAN_2 Metrics\",ABC_GAN2_metrics)\n",
    "\n",
    "print(\"MAE\")\n",
    "print(mean(ABC_GAN2_metrics[1]))"
   ]
  },
  {
   "cell_type": "code",
   "execution_count": 18,
   "id": "0d724422",
   "metadata": {
    "execution": {
     "iopub.execute_input": "2022-07-22T10:00:03.520567Z",
     "iopub.status.busy": "2022-07-22T10:00:03.520054Z",
     "iopub.status.idle": "2022-07-22T10:00:04.511512Z",
     "shell.execute_reply": "2022-07-22T10:00:04.510539Z"
    },
    "papermill": {
     "duration": 1.038742,
     "end_time": "2022-07-22T10:00:04.514246",
     "exception": false,
     "start_time": "2022-07-22T10:00:03.475504",
     "status": "completed"
    },
    "tags": []
   },
   "outputs": [
    {
     "data": {
      "image/png": "[encoded data removed]",
      "text/plain": [
       "<Figure size 432x288 with 1 Axes>"
      ]
     },
     "metadata": {
      "needs_background": "light"
     },
     "output_type": "display_data"
    },
    {
     "data": {
      "image/png": "[encoded data removed]",
      "text/plain": [
       "<Figure size 432x288 with 1 Axes>"
      ]
     },
     "metadata": {
      "needs_background": "light"
     },
     "output_type": "display_data"
    },
    {
     "data": {
      "image/png": "[encoded data removed]",
      "text/plain": [
       "<Figure size 432x288 with 1 Axes>"
      ]
     },
     "metadata": {
      "needs_background": "light"
     },
     "output_type": "display_data"
    },
    {
     "data": {
      "image/png": "[encoded data removed]",
      "text/plain": [
       "<Figure size 432x288 with 1 Axes>"
      ]
     },
     "metadata": {
      "needs_background": "light"
     },
     "output_type": "display_data"
    }
   ],
   "source": [
    "sanityChecks.discProbVsError(train_data,disc2,device)\n",
    "sanityChecks.discProbVsError(test_data,disc2,device)"
   ]
  },
  {
   "cell_type": "markdown",
   "id": "130f3a4d",
   "metadata": {
    "id": "130f3a4d",
    "papermill": {
     "duration": 0.032964,
     "end_time": "2022-07-22T10:00:04.581673",
     "exception": false,
     "start_time": "2022-07-22T10:00:04.548709",
     "status": "completed"
    },
    "tags": []
   },
   "source": [
    "# skipGAN Model"
   ]
  },
  {
   "cell_type": "code",
   "execution_count": 19,
   "id": "4e43dad1",
   "metadata": {
    "execution": {
     "iopub.execute_input": "2022-07-22T10:00:04.658782Z",
     "iopub.status.busy": "2022-07-22T10:00:04.658277Z",
     "iopub.status.idle": "2022-07-22T10:00:04.665836Z",
     "shell.execute_reply": "2022-07-22T10:00:04.663920Z"
    },
    "id": "4e43dad1",
    "papermill": {
     "duration": 0.046627,
     "end_time": "2022-07-22T10:00:04.668682",
     "exception": false,
     "start_time": "2022-07-22T10:00:04.622055",
     "status": "completed"
    },
    "tags": []
   },
   "outputs": [],
   "source": [
    "# #Generator\n",
    "# gen3 = network.GeneratorWithSkipConnection(n_features+1).to(device)\n",
    "# constraints=network.weightConstraint()\n",
    "# #Discriminator \n",
    "# disc3 = network.Discriminator(n_features+1).to(device)\n",
    "\n",
    "# criterion = torch.nn.BCELoss()\n",
    "# gen_opt = torch.optim.Adam(gen3.parameters(), lr=0.01, betas=(0.5, 0.999))\n",
    "# disc_opt = torch.optim.Adam(disc3.parameters(), lr=0.01, betas=(0.5, 0.999))\n"
   ]
  },
  {
   "cell_type": "code",
   "execution_count": 20,
   "id": "26acbc37",
   "metadata": {
    "execution": {
     "iopub.execute_input": "2022-07-22T10:00:04.741551Z",
     "iopub.status.busy": "2022-07-22T10:00:04.740730Z",
     "iopub.status.idle": "2022-07-22T10:00:04.747243Z",
     "shell.execute_reply": "2022-07-22T10:00:04.745489Z"
    },
    "id": "26acbc37",
    "papermill": {
     "duration": 0.045165,
     "end_time": "2022-07-22T10:00:04.749963",
     "exception": false,
     "start_time": "2022-07-22T10:00:04.704798",
     "status": "completed"
    },
    "tags": []
   },
   "outputs": [],
   "source": [
    "# ABC_train_test2.training_GAN_skip_connection(disc3,gen3,disc_opt,gen_opt,train_data,batch_size,n_epochs,criterion,prior_model,variance,bias,device)"
   ]
  },
  {
   "cell_type": "code",
   "execution_count": 21,
   "id": "c5e0717b",
   "metadata": {
    "execution": {
     "iopub.execute_input": "2022-07-22T10:00:04.823056Z",
     "iopub.status.busy": "2022-07-22T10:00:04.822444Z",
     "iopub.status.idle": "2022-07-22T10:00:04.828146Z",
     "shell.execute_reply": "2022-07-22T10:00:04.826798Z"
    },
    "id": "c5e0717b",
    "papermill": {
     "duration": 0.045538,
     "end_time": "2022-07-22T10:00:04.831265",
     "exception": false,
     "start_time": "2022-07-22T10:00:04.785727",
     "status": "completed"
    },
    "tags": []
   },
   "outputs": [],
   "source": [
    "# ABC_GAN3_metrics=ABC_train_test2.test_generator(gen3,test_data,prior_model,variance,bias,\"3\",device)\n",
    "# sb.glue(\"ABC_GAN_3 Metrics\",ABC_GAN3_metrics)\n",
    "\n",
    "# print(\"MAE\")\n",
    "# print(mean(ABC_GAN3_metrics[1]))"
   ]
  },
  {
   "cell_type": "code",
   "execution_count": 22,
   "id": "c8e46b48",
   "metadata": {
    "execution": {
     "iopub.execute_input": "2022-07-22T10:00:04.904941Z",
     "iopub.status.busy": "2022-07-22T10:00:04.904331Z",
     "iopub.status.idle": "2022-07-22T10:00:04.909441Z",
     "shell.execute_reply": "2022-07-22T10:00:04.908098Z"
    },
    "id": "c8e46b48",
    "papermill": {
     "duration": 0.04677,
     "end_time": "2022-07-22T10:00:04.912090",
     "exception": false,
     "start_time": "2022-07-22T10:00:04.865320",
     "status": "completed"
    },
    "tags": []
   },
   "outputs": [],
   "source": [
    "# sanityChecks.discProbVsError(train_data,disc3,device)\n",
    "# sanityChecks.discProbVsError(test_data,disc3,device)"
   ]
  },
  {
   "cell_type": "markdown",
   "id": "968a36c7",
   "metadata": {
    "id": "130f3a4d",
    "papermill": {
     "duration": 0.038319,
     "end_time": "2022-07-22T10:00:04.986131",
     "exception": false,
     "start_time": "2022-07-22T10:00:04.947812",
     "status": "completed"
    },
    "tags": []
   },
   "source": [
    "# skipGAN Model with TabNet Generator"
   ]
  },
  {
   "cell_type": "code",
   "execution_count": 23,
   "id": "6b191a7e",
   "metadata": {
    "execution": {
     "iopub.execute_input": "2022-07-22T10:00:05.074061Z",
     "iopub.status.busy": "2022-07-22T10:00:05.073734Z",
     "iopub.status.idle": "2022-07-22T10:00:05.094712Z",
     "shell.execute_reply": "2022-07-22T10:00:05.093263Z"
    },
    "id": "4e43dad1",
    "papermill": {
     "duration": 0.075446,
     "end_time": "2022-07-22T10:00:05.098614",
     "exception": false,
     "start_time": "2022-07-22T10:00:05.023168",
     "status": "completed"
    },
    "tags": []
   },
   "outputs": [],
   "source": [
    "#Generator\n",
    "gen4 = network.GeneratorTabnetskipConnection(n_features+1).to(device)\n",
    "constraints=network.weightConstraint()\n",
    "#Discriminator \n",
    "disc4 = network.Discriminator(n_features+1).to(device)\n",
    "\n",
    "criterion = torch.nn.BCELoss()\n",
    "gen_opt = torch.optim.Adam(gen4.parameters(), lr=0.001, betas=(0.5, 0.999))\n",
    "disc_opt = torch.optim.Adam(disc4.parameters(), lr=0.001, betas=(0.5, 0.999))\n"
   ]
  },
  {
   "cell_type": "code",
   "execution_count": 24,
   "id": "7ca43546",
   "metadata": {
    "execution": {
     "iopub.execute_input": "2022-07-22T10:00:05.183575Z",
     "iopub.status.busy": "2022-07-22T10:00:05.183071Z",
     "iopub.status.idle": "2022-07-22T10:03:28.750445Z",
     "shell.execute_reply": "2022-07-22T10:03:28.748813Z"
    },
    "id": "26acbc37",
    "papermill": {
     "duration": 203.615576,
     "end_time": "2022-07-22T10:03:28.753409",
     "exception": false,
     "start_time": "2022-07-22T10:00:05.137833",
     "status": "completed"
    },
    "tags": []
   },
   "outputs": [
    {
     "data": {
      "image/png": "[encoded data removed]",
      "text/plain": [
       "<Figure size 432x288 with 1 Axes>"
      ]
     },
     "metadata": {
      "needs_background": "light"
     },
     "output_type": "display_data"
    },
    {
     "data": {
      "image/png": "[encoded data removed]",
      "text/plain": [
       "<Figure size 432x288 with 1 Axes>"
      ]
     },
     "metadata": {
      "needs_background": "light"
     },
     "output_type": "display_data"
    }
   ],
   "source": [
    "ABC_train_test2.training_GAN_skip_connection(disc4,gen4,disc_opt,gen_opt,train_data,batch_size,n_epochs,criterion,prior_model,variance,bias,device)"
   ]
  },
  {
   "cell_type": "code",
   "execution_count": 25,
   "id": "a92cd862",
   "metadata": {
    "execution": {
     "iopub.execute_input": "2022-07-22T10:03:28.831685Z",
     "iopub.status.busy": "2022-07-22T10:03:28.831246Z",
     "iopub.status.idle": "2022-07-22T10:03:30.796173Z",
     "shell.execute_reply": "2022-07-22T10:03:30.795051Z"
    },
    "id": "c5e0717b",
    "papermill": {
     "duration": 2.011202,
     "end_time": "2022-07-22T10:03:30.800157",
     "exception": false,
     "start_time": "2022-07-22T10:03:28.788955",
     "status": "completed"
    },
    "tags": []
   },
   "outputs": [
    {
     "data": {
      "application/scrapbook.scrap.json+json": {
       "data": 0.22797758369215618,
       "encoder": "json",
       "name": "ABC-GAN Model 3 MSE",
       "version": 1
      }
     },
     "metadata": {
      "scrapbook": {
       "data": true,
       "display": false,
       "name": "ABC-GAN Model 3 MSE"
      }
     },
     "output_type": "display_data"
    },
    {
     "data": {
      "application/scrapbook.scrap.json+json": {
       "data": 0.31994469223171473,
       "encoder": "json",
       "name": "ABC-GAN Model 3 MAE",
       "version": 1
      }
     },
     "metadata": {
      "scrapbook": {
       "data": true,
       "display": false,
       "name": "ABC-GAN Model 3 MAE"
      }
     },
     "output_type": "display_data"
    },
    {
     "data": {
      "application/scrapbook.scrap.json+json": {
       "data": 6.398893844634294,
       "encoder": "json",
       "name": "ABC-GAN Model 3 Manhattan Distance",
       "version": 1
      }
     },
     "metadata": {
      "scrapbook": {
       "data": true,
       "display": false,
       "name": "ABC-GAN Model 3 Manhattan Distance"
      }
     },
     "output_type": "display_data"
    },
    {
     "data": {
      "application/scrapbook.scrap.json+json": {
       "data": 2.135289654328388,
       "encoder": "json",
       "name": "ABC-GAN Model 3 Euclidean distance",
       "version": 1
      }
     },
     "metadata": {
      "scrapbook": {
       "data": true,
       "display": false,
       "name": "ABC-GAN Model 3 Euclidean distance"
      }
     },
     "output_type": "display_data"
    },
    {
     "data": {
      "application/scrapbook.scrap.json+json": {
       "data": [
        [
         0.22895883521612032,
         0.23013435861587278,
         0.23018934504106942,
         0.22591488660658737,
         0.2274766369587491,
         0.2289569536933811,
         0.22902661229742263,
         0.22680677346312664,
         0.2291824752123385,
         0.2218155206926705,
         0.227651294805494,
         0.22807558297410546,
         0.2267866193707721,
         0.23105338605265285,
         0.23061330080457026,
         0.2252695035073354,
         0.2256257888314641,
         0.22668254736646257,
         0.22713919268544663,
         0.22777105009799525,
         0.22968219429304843,
         0.22994115032098347,
         0.22614974479410624,
         0.22738126492871977,
         0.22755546769813897,
         0.2261288619581578,
         0.2252644258643767,
         0.22928172655002146,
         0.22652058551677595,
         0.22957558390244587,
         0.2284172877239409,
         0.2267554028486643,
         0.22756215883783537,
         0.2279769736021347,
         0.23039870569176038,
         0.230778234335341,
         0.22705937593116624,
         0.22686019320131984,
         0.22857267190783476,
         0.22717100079496344,
         0.22964371761525007,
         0.22855028844366662,
         0.22729361608001614,
         0.22962606795701537,
         0.22425355860418694,
         0.22817013597174074,
         0.22536626111713431,
         0.22705269967985814,
         0.228324522667711,
         0.2273757860724924,
         0.22561161639490437,
         0.22860386294617543,
         0.22988913053400814,
         0.2286839581607893,
         0.22974759599038208,
         0.22654715775049294,
         0.22729007690463687,
         0.22531095711609775,
         0.22752201087729368,
         0.23055153107938137,
         0.22976098163466824,
         0.22756874665656981,
         0.23730982483485347,
         0.2300724876741281,
         0.22726242726979612,
         0.2270880829538977,
         0.22590983252140714,
         0.22655034592070883,
         0.22939913591855846,
         0.2294460887048298,
         0.22864042273012514,
         0.2252795847041602,
         0.2273702214588224,
         0.22989837624382484,
         0.22672966252536683,
         0.2284211910587115,
         0.22863605546696295,
         0.2264428696769924,
         0.22723036204963565,
         0.22739014870557755,
         0.22803137385321626,
         0.22859680826889878,
         0.2265091070559846,
         0.23021496382591633,
         0.22998635100198514,
         0.22820467110968085,
         0.2247684426300459,
         0.22988845923915954,
         0.22624034330133078,
         0.2298836675730187,
         0.2243751308260006,
         0.22592289965744589,
         0.22468091309181504,
         0.22995676772799084,
         0.23026126661688434,
         0.2299113045211071,
         0.22575698772662087,
         0.22898216844283134,
         0.2313946070520118,
         0.22820706002546878
        ],
        [
         0.324587363936007,
         0.3218050519004464,
         0.32165379319339993,
         0.3199927369132638,
         0.3182571897283196,
         0.31909277383238077,
         0.3168553808704019,
         0.3201237374916673,
         0.3221302965655923,
         0.31311072651296856,
         0.31822957191616297,
         0.32058291379362347,
         0.322459433414042,
         0.32454468253999946,
         0.3185871923342347,
         0.3191860342398286,
         0.3188696736469865,
         0.3196091616526246,
         0.320638389326632,
         0.3197113135829568,
         0.32560649905353783,
         0.3199003363028169,
         0.3181270221248269,
         0.31810380462557075,
         0.3219615051522851,
         0.3140603268519044,
         0.3153754541650414,
         0.32201746199280024,
         0.31866712067276237,
         0.3208404013887048,
         0.3177599856629968,
         0.31961548421531916,
         0.3210737669840455,
         0.3210610026493669,
         0.3232462743297219,
         0.3231967041268945,
         0.31973806861788034,
         0.31772357169538734,
         0.3203201601281762,
         0.3211328784003854,
         0.32368113193660975,
         0.3245607057586312,
         0.3145440110936761,
         0.324103500880301,
         0.31142587307840586,
         0.3245528617873788,
         0.31919035110622646,
         0.3188712591305375,
         0.3221560874953866,
         0.32226698491722344,
         0.31677585039287803,
         0.32006339970976116,
         0.3209924140945077,
         0.32085369173437356,
         0.32080842200666665,
         0.31996641103178264,
         0.31941134128719567,
         0.31839074436575177,
         0.3170535499230027,
         0.3244433173909783,
         0.31744572762399914,
         0.32081288788467643,
         0.32907911781221627,
         0.3250443900004029,
         0.3198625588789582,
         0.318424210883677,
         0.3151026705279946,
         0.3183885315433145,
         0.3247265676036477,
         0.3213162997737527,
         0.31845401767641307,
         0.3174539918079972,
         0.3207100862637162,
         0.3233406523242593,
         0.3167582893744111,
         0.32272383365780116,
         0.31923441831022503,
         0.32019199077039956,
         0.31748042199760673,
         0.318156517483294,
         0.31613420192152264,
         0.31939154509454964,
         0.3146205866709352,
         0.3229476073756814,
         0.3254911476746202,
         0.31988131944090126,
         0.3170066649094224,
         0.3238510126248002,
         0.3161215493455529,
         0.32095651272684333,
         0.3186037177219987,
         0.32040947023779154,
         0.3168047467246652,
         0.3214362466707826,
         0.31910139713436364,
         0.3209998348727822,
         0.31479454729706047,
         0.31884889397770166,
         0.31789714340120556,
         0.3207967394962907
        ],
        [
         6.4917472787201405,
         6.436101038008928,
         6.433075863867998,
         6.399854738265276,
         6.365143794566393,
         6.381855476647615,
         6.337107617408037,
         6.402474749833345,
         6.442605931311846,
         6.262214530259371,
         6.364591438323259,
         6.411658275872469,
         6.44918866828084,
         6.49089365079999,
         6.371743846684694,
         6.383720684796572,
         6.37739347293973,
         6.392183233052492,
         6.4127677865326405,
         6.394226271659136,
         6.512129981070757,
         6.398006726056337,
         6.362540442496538,
         6.3620760925114155,
         6.439230103045702,
         6.281206537038088,
         6.307509083300829,
         6.440349239856005,
         6.373342413455248,
         6.4168080277740955,
         6.355199713259935,
         6.392309684306383,
         6.42147533968091,
         6.421220052987337,
         6.4649254865944386,
         6.4639340825378895,
         6.394761372357607,
         6.354471433907747,
         6.406403202563524,
         6.422657568007708,
         6.473622638732195,
         6.491214115172625,
         6.290880221873522,
         6.48207001760602,
         6.228517461568117,
         6.491057235747576,
         6.383807022124529,
         6.37742518261075,
         6.443121749907732,
         6.445339698344469,
         6.335517007857561,
         6.401267994195223,
         6.419848281890154,
         6.417073834687471,
         6.416168440133333,
         6.3993282206356525,
         6.388226825743914,
         6.367814887315035,
         6.341070998460054,
         6.488866347819567,
         6.348914552479982,
         6.416257757693529,
         6.581582356244326,
         6.5008878000080585,
         6.3972511775791645,
         6.36848421767354,
         6.302053410559893,
         6.367770630866289,
         6.494531352072954,
         6.426325995475054,
         6.369080353528261,
         6.3490798361599445,
         6.414201725274324,
         6.466813046485186,
         6.335165787488222,
         6.454476673156023,
         6.3846883662045,
         6.403839815407991,
         6.349608439952135,
         6.36313034966588,
         6.322684038430452,
         6.387830901890993,
         6.292411733418703,
         6.458952147513628,
         6.509822953492403,
         6.397626388818026,
         6.340133298188448,
         6.477020252496004,
         6.322430986911058,
         6.419130254536867,
         6.372074354439974,
         6.408189404755831,
         6.336094934493303,
         6.428724933415651,
         6.382027942687273,
         6.419996697455645,
         6.29589094594121,
         6.376977879554033,
         6.357942868024111,
         6.415934789925814
        ],
        [
         2.1399010968552745,
         2.1453874177680485,
         2.145643703139314,
         2.1256287851202402,
         2.1329633703312822,
         2.1398923042685167,
         2.1402178033902186,
         2.1298205251294138,
         2.140945936787468,
         2.106255068564444,
         2.1337820638738814,
         2.1357695707828848,
         2.12972589490184,
         2.1496668860670147,
         2.147618684983767,
         2.122590415069923,
         2.124268292054768,
         2.1292371749829213,
         2.1313807387956127,
         2.134343224966384,
         2.143278769983263,
         2.1444866533554525,
         2.1267333861775257,
         2.132516189522226,
         2.1333329215016534,
         2.1266351918378374,
         2.1225664930191313,
         2.1414094729874593,
         2.128476382376727,
         2.142781294964308,
         2.1373688859153015,
         2.129579314553296,
         2.133364285994473,
         2.135307816695919,
         2.1466192288888144,
         2.148386531029,
         2.1310062220986885,
         2.130071328389356,
         2.1380957504650473,
         2.131529970678167,
         2.14309923995717,
         2.1379910591191282,
         2.13210513849583,
         2.1430168826073928,
         2.1177986618382163,
         2.1362122365146248,
         2.123046212955028,
         2.1309748927655536,
         2.1369348266510655,
         2.1324904973879364,
         2.124201574215142,
         2.1382416278156002,
         2.1442440650915096,
         2.1386161794992073,
         2.1435838961439417,
         2.1286012202876,
         2.1320885389900526,
         2.1227857033440647,
         2.133176086858718,
         2.1473310461099437,
         2.143646340396047,
         2.1333951657232646,
         2.178576713521254,
         2.145099007850818,
         2.13195885171265,
         2.1311409289575276,
         2.125605008092553,
         2.1286161980061546,
         2.141957683608892,
         2.142176877406858,
         2.1384126015814866,
         2.122637909320194,
         2.13246440279233,
         2.1442871833960337,
         2.1294584406621646,
         2.1373871481727944,
         2.138392178562964,
         2.1281112267783016,
         2.131808443784927,
         2.1325578477761282,
         2.135562566881225,
         2.138208634670147,
         2.128422453630785,
         2.1457630988807517,
         2.1446974192271746,
         2.1363738956918605,
         2.1202284906587114,
         2.144240934406204,
         2.127159341945642,
         2.1442185876119004,
         2.118372634009421,
         2.1256664821060043,
         2.11981561977364,
         2.144559477972065,
         2.145978875091199,
         2.1443474742732676,
         2.1248858215283986,
         2.140010132886437,
         2.151253620808164,
         2.1363850777679043
        ]
       ],
       "encoder": "json",
       "name": "ABC_GAN_4 Metrics",
       "version": 1
      }
     },
     "metadata": {
      "scrapbook": {
       "data": true,
       "display": false,
       "name": "ABC_GAN_4 Metrics"
      }
     },
     "output_type": "display_data"
    },
    {
     "name": "stdout",
     "output_type": "stream",
     "text": [
      "MAE\n",
      "0.31994469223171473\n"
     ]
    }
   ],
   "source": [
    "ABC_GAN4_metrics=ABC_train_test2.test_generator(gen4,test_data,prior_model,variance,bias,\"3\",device)\n",
    "sb.glue(\"ABC_GAN_4 Metrics\",ABC_GAN4_metrics)\n",
    "\n",
    "print(\"MAE\")\n",
    "print(mean(ABC_GAN4_metrics[1]))"
   ]
  },
  {
   "cell_type": "code",
   "execution_count": 26,
   "id": "b80a9393",
   "metadata": {
    "execution": {
     "iopub.execute_input": "2022-07-22T10:03:30.884768Z",
     "iopub.status.busy": "2022-07-22T10:03:30.884410Z",
     "iopub.status.idle": "2022-07-22T10:03:32.002008Z",
     "shell.execute_reply": "2022-07-22T10:03:32.000922Z"
    },
    "id": "c8e46b48",
    "papermill": {
     "duration": 1.167141,
     "end_time": "2022-07-22T10:03:32.007545",
     "exception": false,
     "start_time": "2022-07-22T10:03:30.840404",
     "status": "completed"
    },
    "tags": []
   },
   "outputs": [
    {
     "data": {
      "image/png": "[encoded data removed]",
      "text/plain": [
       "<Figure size 432x288 with 1 Axes>"
      ]
     },
     "metadata": {
      "needs_background": "light"
     },
     "output_type": "display_data"
    },
    {
     "data": {
      "image/png": "[encoded data removed]",
      "text/plain": [
       "<Figure size 432x288 with 1 Axes>"
      ]
     },
     "metadata": {
      "needs_background": "light"
     },
     "output_type": "display_data"
    },
    {
     "data": {
      "image/png": "[encoded data removed]",
      "text/plain": [
       "<Figure size 432x288 with 1 Axes>"
      ]
     },
     "metadata": {
      "needs_background": "light"
     },
     "output_type": "display_data"
    },
    {
     "data": {
      "image/png": "[encoded data removed]",
      "text/plain": [
       "<Figure size 432x288 with 1 Axes>"
      ]
     },
     "metadata": {
      "needs_background": "light"
     },
     "output_type": "display_data"
    }
   ],
   "source": [
    "sanityChecks.discProbVsError(train_data,disc4,device)\n",
    "sanityChecks.discProbVsError(test_data,disc4,device)"
   ]
  },
  {
   "cell_type": "markdown",
   "id": "a5bd74c3",
   "metadata": {
    "id": "a5bd74c3",
    "papermill": {
     "duration": 0.059,
     "end_time": "2022-07-22T10:03:32.108002",
     "exception": false,
     "start_time": "2022-07-22T10:03:32.049002",
     "status": "completed"
    },
    "tags": []
   },
   "source": [
    "## Skip Connection Model Analysis - ABC-GAN "
   ]
  },
  {
   "cell_type": "markdown",
   "id": "5744a8bf",
   "metadata": {
    "id": "5744a8bf",
    "papermill": {
     "duration": 0.05183,
     "end_time": "2022-07-22T10:03:32.206609",
     "exception": false,
     "start_time": "2022-07-22T10:03:32.154779",
     "status": "completed"
    },
    "tags": []
   },
   "source": [
    "### Weight Analysis \n",
    "\n",
    "Study the weights of the skip connection layer\n",
    "\n",
    "Equation of the skip connection is \n",
    "\n",
    "$output = y_{gan} * w + y_{abc} * (1-w)$"
   ]
  },
  {
   "cell_type": "code",
   "execution_count": 27,
   "id": "52c31dea",
   "metadata": {
    "execution": {
     "iopub.execute_input": "2022-07-22T10:03:32.300005Z",
     "iopub.status.busy": "2022-07-22T10:03:32.299539Z",
     "iopub.status.idle": "2022-07-22T10:03:32.305059Z",
     "shell.execute_reply": "2022-07-22T10:03:32.303690Z"
    },
    "id": "52c31dea",
    "papermill": {
     "duration": 0.056725,
     "end_time": "2022-07-22T10:03:32.309467",
     "exception": false,
     "start_time": "2022-07-22T10:03:32.252742",
     "status": "completed"
    },
    "tags": []
   },
   "outputs": [],
   "source": [
    "# print(\"Weight of the node at skip connection\")\n",
    "# for name,param in gen3.named_parameters():\n",
    "#     if(name == \"skipNode.weight\"):\n",
    "#         print(param)\n",
    "#         sb.glue(\"Skip Connection Weight\",param.item())"
   ]
  },
  {
   "cell_type": "markdown",
   "id": "cf91e76d",
   "metadata": {
    "id": "a5bd74c3",
    "papermill": {
     "duration": 0.052146,
     "end_time": "2022-07-22T10:03:32.405898",
     "exception": false,
     "start_time": "2022-07-22T10:03:32.353752",
     "status": "completed"
    },
    "tags": []
   },
   "source": [
    "## skipGAN Model Analysis (TabNet Generator) "
   ]
  },
  {
   "cell_type": "markdown",
   "id": "76d1e8a9",
   "metadata": {
    "id": "5744a8bf",
    "papermill": {
     "duration": 0.046773,
     "end_time": "2022-07-22T10:03:32.497908",
     "exception": false,
     "start_time": "2022-07-22T10:03:32.451135",
     "status": "completed"
    },
    "tags": []
   },
   "source": [
    "### Weight Analysis \n",
    "\n",
    "Study the weights of the skip connection layer\n",
    "\n",
    "Equation of the skip connection is \n",
    "\n",
    "$output = y_{gan} * w + y_{abc} * (1-w)$"
   ]
  },
  {
   "cell_type": "code",
   "execution_count": 28,
   "id": "6a3087e8",
   "metadata": {
    "execution": {
     "iopub.execute_input": "2022-07-22T10:03:32.587008Z",
     "iopub.status.busy": "2022-07-22T10:03:32.586436Z",
     "iopub.status.idle": "2022-07-22T10:03:32.601737Z",
     "shell.execute_reply": "2022-07-22T10:03:32.600596Z"
    },
    "id": "52c31dea",
    "papermill": {
     "duration": 0.071294,
     "end_time": "2022-07-22T10:03:32.605515",
     "exception": false,
     "start_time": "2022-07-22T10:03:32.534221",
     "status": "completed"
    },
    "tags": []
   },
   "outputs": [
    {
     "name": "stdout",
     "output_type": "stream",
     "text": [
      "Weight of the node at skip connection\n",
      "Parameter containing:\n",
      "tensor([[0.1767]], requires_grad=True)\n"
     ]
    },
    {
     "data": {
      "application/scrapbook.scrap.json+json": {
       "data": 0.17668487131595612,
       "encoder": "json",
       "name": "Skip Connection Weight",
       "version": 1
      }
     },
     "metadata": {
      "scrapbook": {
       "data": true,
       "display": false,
       "name": "Skip Connection Weight"
      }
     },
     "output_type": "display_data"
    }
   ],
   "source": [
    "print(\"Weight of the node at skip connection\")\n",
    "for name,param in gen4.named_parameters():\n",
    "    if(name == \"skipNode.weight\"):\n",
    "        print(param)\n",
    "        sb.glue(\"Skip Connection Weight\",param.item())"
   ]
  }
 ],
 "metadata": {
  "colab": {
   "collapsed_sections": [],
   "name": "ABC_GAN_Model-Catboost_Pre-gen.ipynb",
   "provenance": []
  },
  "interpreter": {
   "hash": "31f2aee4e71d21fbe5cf8b01ff0e069b9275f58929596ceb00d14d90e3e16cd6"
  },
  "kernelspec": {
   "display_name": "Python 3 (ipykernel)",
   "language": "python",
   "name": "python3"
  },
  "language_info": {
   "codemirror_mode": {
    "name": "ipython",
    "version": 3
   },
   "file_extension": ".py",
   "mimetype": "text/x-python",
   "name": "python",
   "nbconvert_exporter": "python",
   "pygments_lexer": "ipython3",
   "version": "3.8.13"
  },
  "papermill": {
   "default_parameters": {},
   "duration": 482.598573,
   "end_time": "2022-07-22T10:03:33.418590",
   "environment_variables": {},
   "exception": null,
   "input_path": "ABC_GAN-TabNet.ipynb",
   "output_path": "./ABC_GAN_TabNet/ABC-GAN_output_2_2.ipynb",
   "parameters": {
    "bias": 1,
    "variance": 0.01
   },
   "start_time": "2022-07-22T09:55:30.820017",
   "version": "2.3.3"
  }
 },
 "nbformat": 4,
 "nbformat_minor": 5
}