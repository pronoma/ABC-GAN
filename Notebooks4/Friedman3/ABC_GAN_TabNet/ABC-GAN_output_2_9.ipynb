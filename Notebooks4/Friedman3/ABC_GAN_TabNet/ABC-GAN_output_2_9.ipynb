{
 "cells": [
  {
   "cell_type": "markdown",
   "id": "622780e6",
   "metadata": {
    "id": "622780e6",
    "papermill": {
     "duration": 0.009145,
     "end_time": "2022-07-22T10:48:32.905818",
     "exception": false,
     "start_time": "2022-07-22T10:48:32.896673",
     "status": "completed"
    },
    "tags": []
   },
   "source": [
    "## Import Libraries "
   ]
  },
  {
   "cell_type": "code",
   "execution_count": 1,
   "id": "a62397e3",
   "metadata": {
    "execution": {
     "iopub.execute_input": "2022-07-22T10:48:32.924661Z",
     "iopub.status.busy": "2022-07-22T10:48:32.924053Z",
     "iopub.status.idle": "2022-07-22T10:48:32.941485Z",
     "shell.execute_reply": "2022-07-22T10:48:32.940333Z"
    },
    "id": "a62397e3",
    "papermill": {
     "duration": 0.031195,
     "end_time": "2022-07-22T10:48:32.945335",
     "exception": false,
     "start_time": "2022-07-22T10:48:32.914140",
     "status": "completed"
    },
    "tags": []
   },
   "outputs": [],
   "source": [
    "import warnings\n",
    "import sys\n",
    "sys.path.insert(0, '../../src')\n",
    "warnings.filterwarnings('ignore')"
   ]
  },
  {
   "cell_type": "code",
   "execution_count": 2,
   "id": "d6a4e155",
   "metadata": {
    "execution": {
     "iopub.execute_input": "2022-07-22T10:48:32.964763Z",
     "iopub.status.busy": "2022-07-22T10:48:32.964413Z",
     "iopub.status.idle": "2022-07-22T10:48:40.431960Z",
     "shell.execute_reply": "2022-07-22T10:48:40.431146Z"
    },
    "id": "d6a4e155",
    "papermill": {
     "duration": 7.479813,
     "end_time": "2022-07-22T10:48:40.434773",
     "exception": false,
     "start_time": "2022-07-22T10:48:32.954960",
     "status": "completed"
    },
    "tags": []
   },
   "outputs": [],
   "source": [
    "import ABC_train_test2\n",
    "import friedman3Dataset\n",
    "import network\n",
    "import dataset\n",
    "import sanityChecks\n",
    "import torch \n",
    "import scrapbook as sb\n",
    "from statistics import mean \n",
    "import catboost as ctb \n",
    "from sklearn.model_selection import train_test_split\n",
    "from sklearn.metrics import mean_squared_error,mean_absolute_error\n",
    "import numpy as np\n",
    "from pytorch_tabnet.tab_model import TabNetRegressor"
   ]
  },
  {
   "cell_type": "markdown",
   "id": "2fa5b0f7",
   "metadata": {
    "id": "2fa5b0f7",
    "papermill": {
     "duration": 0.007451,
     "end_time": "2022-07-22T10:48:40.450102",
     "exception": false,
     "start_time": "2022-07-22T10:48:40.442651",
     "status": "completed"
    },
    "tags": []
   },
   "source": [
    "## Parameters "
   ]
  },
  {
   "cell_type": "code",
   "execution_count": 3,
   "id": "783186fb",
   "metadata": {
    "execution": {
     "iopub.execute_input": "2022-07-22T10:48:40.469570Z",
     "iopub.status.busy": "2022-07-22T10:48:40.469140Z",
     "iopub.status.idle": "2022-07-22T10:48:40.474861Z",
     "shell.execute_reply": "2022-07-22T10:48:40.473475Z"
    },
    "id": "783186fb",
    "papermill": {
     "duration": 0.023189,
     "end_time": "2022-07-22T10:48:40.481091",
     "exception": false,
     "start_time": "2022-07-22T10:48:40.457902",
     "status": "completed"
    },
    "tags": [
     "parameters"
    ]
   },
   "outputs": [],
   "source": [
    "variance = 1\n",
    "bias = 1 "
   ]
  },
  {
   "cell_type": "code",
   "execution_count": 4,
   "id": "13d38900",
   "metadata": {
    "execution": {
     "iopub.execute_input": "2022-07-22T10:48:40.499639Z",
     "iopub.status.busy": "2022-07-22T10:48:40.498793Z",
     "iopub.status.idle": "2022-07-22T10:48:40.505510Z",
     "shell.execute_reply": "2022-07-22T10:48:40.503390Z"
    },
    "papermill": {
     "duration": 0.020331,
     "end_time": "2022-07-22T10:48:40.508677",
     "exception": false,
     "start_time": "2022-07-22T10:48:40.488346",
     "status": "completed"
    },
    "tags": [
     "injected-parameters"
    ]
   },
   "outputs": [],
   "source": [
    "# Parameters\n",
    "variance = 1\n",
    "bias = 0\n"
   ]
  },
  {
   "cell_type": "markdown",
   "id": "391cdbfd",
   "metadata": {
    "id": "391cdbfd",
    "papermill": {
     "duration": 0.008007,
     "end_time": "2022-07-22T10:48:40.523892",
     "exception": false,
     "start_time": "2022-07-22T10:48:40.515885",
     "status": "completed"
    },
    "tags": []
   },
   "source": [
    "## Dataset \n"
   ]
  },
  {
   "cell_type": "code",
   "execution_count": 5,
   "id": "5b51f161",
   "metadata": {
    "execution": {
     "iopub.execute_input": "2022-07-22T10:48:40.541182Z",
     "iopub.status.busy": "2022-07-22T10:48:40.540667Z",
     "iopub.status.idle": "2022-07-22T10:48:40.545626Z",
     "shell.execute_reply": "2022-07-22T10:48:40.544547Z"
    },
    "id": "5b51f161",
    "papermill": {
     "duration": 0.017492,
     "end_time": "2022-07-22T10:48:40.548856",
     "exception": false,
     "start_time": "2022-07-22T10:48:40.531364",
     "status": "completed"
    },
    "tags": []
   },
   "outputs": [],
   "source": [
    "#Parameters \n",
    "n_features = 4\n",
    "n_samples= 100\n",
    "n_target = 1"
   ]
  },
  {
   "cell_type": "code",
   "execution_count": 6,
   "id": "5d6eced4",
   "metadata": {
    "execution": {
     "iopub.execute_input": "2022-07-22T10:48:40.567283Z",
     "iopub.status.busy": "2022-07-22T10:48:40.566836Z",
     "iopub.status.idle": "2022-07-22T10:48:40.588979Z",
     "shell.execute_reply": "2022-07-22T10:48:40.586437Z"
    },
    "id": "5d6eced4",
    "papermill": {
     "duration": 0.033444,
     "end_time": "2022-07-22T10:48:40.591694",
     "exception": false,
     "start_time": "2022-07-22T10:48:40.558250",
     "status": "completed"
    },
    "tags": []
   },
   "outputs": [
    {
     "name": "stdout",
     "output_type": "stream",
     "text": [
      "          X1           X2        X3        X4         Y\n",
      "0  32.425135   534.201498  0.604844  4.080824  1.526472\n",
      "1  54.691078   154.237754  0.095699  7.087253  0.253123\n",
      "2  34.599436   268.324567  0.057734  8.660839  0.300660\n",
      "3  99.681923  1219.558264  0.846486  3.480567  1.607307\n",
      "4  69.421411  1247.705396  0.822774  9.866843  1.530526\n"
     ]
    }
   ],
   "source": [
    "X,Y = friedman3Dataset.friedman3_data(n_samples)"
   ]
  },
  {
   "cell_type": "code",
   "execution_count": 7,
   "id": "fe007438",
   "metadata": {
    "execution": {
     "iopub.execute_input": "2022-07-22T10:48:40.612238Z",
     "iopub.status.busy": "2022-07-22T10:48:40.610877Z",
     "iopub.status.idle": "2022-07-22T10:48:40.620633Z",
     "shell.execute_reply": "2022-07-22T10:48:40.619511Z"
    },
    "id": "fe007438",
    "papermill": {
     "duration": 0.022515,
     "end_time": "2022-07-22T10:48:40.623644",
     "exception": false,
     "start_time": "2022-07-22T10:48:40.601129",
     "status": "completed"
    },
    "tags": []
   },
   "outputs": [],
   "source": [
    "#Train test split for dataset \n",
    "X_train,X_test,Y_train,Y_test = train_test_split(X,Y,test_size = 0.2)\n",
    "train_data = dataset.CustomDataset(X_train,Y_train)\n",
    "test_data = dataset.CustomDataset(X_test,Y_test)\n"
   ]
  },
  {
   "cell_type": "markdown",
   "id": "a9a1af34",
   "metadata": {
    "id": "a9a1af34",
    "papermill": {
     "duration": 0.008155,
     "end_time": "2022-07-22T10:48:40.639419",
     "exception": false,
     "start_time": "2022-07-22T10:48:40.631264",
     "status": "completed"
    },
    "tags": []
   },
   "source": [
    "## Training Parameters "
   ]
  },
  {
   "cell_type": "code",
   "execution_count": 8,
   "id": "952b7fc8",
   "metadata": {
    "execution": {
     "iopub.execute_input": "2022-07-22T10:48:40.660398Z",
     "iopub.status.busy": "2022-07-22T10:48:40.659909Z",
     "iopub.status.idle": "2022-07-22T10:48:40.665756Z",
     "shell.execute_reply": "2022-07-22T10:48:40.664529Z"
    },
    "id": "952b7fc8",
    "papermill": {
     "duration": 0.02,
     "end_time": "2022-07-22T10:48:40.669965",
     "exception": false,
     "start_time": "2022-07-22T10:48:40.649965",
     "status": "completed"
    },
    "tags": []
   },
   "outputs": [],
   "source": [
    "batch_size = 32\n",
    "n_epochs = 1000\n",
    "#Select the device \n",
    "device = torch.device('cuda' if torch.cuda.is_available() else 'cpu')"
   ]
  },
  {
   "cell_type": "markdown",
   "id": "a95e1600",
   "metadata": {
    "id": "a95e1600",
    "papermill": {
     "duration": 0.009236,
     "end_time": "2022-07-22T10:48:40.687718",
     "exception": false,
     "start_time": "2022-07-22T10:48:40.678482",
     "status": "completed"
    },
    "tags": []
   },
   "source": [
    "# ABC Pre-generator Model \n",
    "\n",
    "1. The catboost model is used as a pre-generator model for the ABC-GAN. \n",
    "2. The model is first trained on the entire dataset \n",
    "3. It generats X,Y pairs and we add some Gaussian noise with mean 0 and variance 1 to it which is then feed as input to the generator.\n"
   ]
  },
  {
   "cell_type": "code",
   "execution_count": 9,
   "id": "ac011ebf",
   "metadata": {
    "execution": {
     "iopub.execute_input": "2022-07-22T10:48:40.705856Z",
     "iopub.status.busy": "2022-07-22T10:48:40.705144Z",
     "iopub.status.idle": "2022-07-22T10:49:08.664450Z",
     "shell.execute_reply": "2022-07-22T10:49:08.663141Z"
    },
    "papermill": {
     "duration": 27.972943,
     "end_time": "2022-07-22T10:49:08.668670",
     "exception": false,
     "start_time": "2022-07-22T10:48:40.695727",
     "status": "completed"
    },
    "tags": []
   },
   "outputs": [
    {
     "name": "stdout",
     "output_type": "stream",
     "text": [
      "Device used : cpu\n"
     ]
    },
    {
     "name": "stdout",
     "output_type": "stream",
     "text": [
      "epoch 0  | loss: 1.24346 | train_mse: 6.50778 | train_mae: 1.77421 |  0:00:00s\n",
      "epoch 1  | loss: 1.0952  | train_mse: 4.38442 | train_mae: 1.52778 |  0:00:00s\n"
     ]
    },
    {
     "name": "stdout",
     "output_type": "stream",
     "text": [
      "epoch 2  | loss: 0.84044 | train_mse: 3.49155 | train_mae: 1.3887  |  0:00:00s\n",
      "epoch 3  | loss: 1.01713 | train_mse: 2.86342 | train_mae: 1.27191 |  0:00:00s\n",
      "epoch 4  | loss: 0.85378 | train_mse: 2.41215 | train_mae: 1.18986 |  0:00:00s\n"
     ]
    },
    {
     "name": "stdout",
     "output_type": "stream",
     "text": [
      "epoch 5  | loss: 0.83835 | train_mse: 2.11098 | train_mae: 1.10703 |  0:00:00s\n",
      "epoch 6  | loss: 0.85596 | train_mse: 1.80291 | train_mae: 1.02676 |  0:00:00s\n",
      "epoch 7  | loss: 0.82045 | train_mse: 1.55146 | train_mae: 0.94662 |  0:00:00s\n"
     ]
    },
    {
     "name": "stdout",
     "output_type": "stream",
     "text": [
      "epoch 8  | loss: 0.75028 | train_mse: 1.34508 | train_mae: 0.87914 |  0:00:01s\n",
      "epoch 9  | loss: 0.66609 | train_mse: 1.13507 | train_mae: 0.80045 |  0:00:01s\n",
      "epoch 10 | loss: 0.68787 | train_mse: 1.0411  | train_mae: 0.76534 |  0:00:01s\n"
     ]
    },
    {
     "name": "stdout",
     "output_type": "stream",
     "text": [
      "epoch 11 | loss: 0.59494 | train_mse: 0.98392 | train_mae: 0.74434 |  0:00:01s\n",
      "epoch 12 | loss: 0.71755 | train_mse: 0.96157 | train_mae: 0.73215 |  0:00:01s\n"
     ]
    },
    {
     "name": "stdout",
     "output_type": "stream",
     "text": [
      "epoch 13 | loss: 0.58149 | train_mse: 0.91078 | train_mae: 0.71266 |  0:00:01s\n",
      "epoch 14 | loss: 0.64447 | train_mse: 0.86817 | train_mae: 0.69302 |  0:00:01s\n",
      "epoch 15 | loss: 0.66038 | train_mse: 0.82878 | train_mae: 0.67325 |  0:00:01s\n"
     ]
    },
    {
     "name": "stdout",
     "output_type": "stream",
     "text": [
      "epoch 16 | loss: 0.57365 | train_mse: 0.78936 | train_mae: 0.64692 |  0:00:01s\n",
      "epoch 17 | loss: 0.58539 | train_mse: 0.76514 | train_mae: 0.62575 |  0:00:01s\n",
      "epoch 18 | loss: 0.57136 | train_mse: 0.73538 | train_mae: 0.60558 |  0:00:01s\n"
     ]
    },
    {
     "name": "stdout",
     "output_type": "stream",
     "text": [
      "epoch 19 | loss: 0.66076 | train_mse: 0.71596 | train_mae: 0.5955  |  0:00:02s\n",
      "epoch 20 | loss: 0.66536 | train_mse: 0.6858  | train_mae: 0.58365 |  0:00:02s\n",
      "epoch 21 | loss: 0.51157 | train_mse: 0.66805 | train_mae: 0.57603 |  0:00:02s\n"
     ]
    },
    {
     "name": "stdout",
     "output_type": "stream",
     "text": [
      "epoch 22 | loss: 0.39971 | train_mse: 0.6379  | train_mae: 0.56308 |  0:00:02s\n",
      "epoch 23 | loss: 0.50184 | train_mse: 0.61519 | train_mae: 0.55421 |  0:00:02s\n"
     ]
    },
    {
     "name": "stdout",
     "output_type": "stream",
     "text": [
      "epoch 24 | loss: 0.406   | train_mse: 0.58816 | train_mae: 0.54078 |  0:00:02s\n",
      "epoch 25 | loss: 0.35831 | train_mse: 0.55473 | train_mae: 0.52883 |  0:00:02s\n",
      "epoch 26 | loss: 0.34593 | train_mse: 0.51775 | train_mae: 0.51876 |  0:00:02s\n"
     ]
    },
    {
     "name": "stdout",
     "output_type": "stream",
     "text": [
      "epoch 27 | loss: 0.46622 | train_mse: 0.49682 | train_mae: 0.5116  |  0:00:02s\n",
      "epoch 28 | loss: 0.43937 | train_mse: 0.47247 | train_mae: 0.50171 |  0:00:02s\n",
      "epoch 29 | loss: 0.44714 | train_mse: 0.44896 | train_mae: 0.49096 |  0:00:02s\n"
     ]
    },
    {
     "name": "stdout",
     "output_type": "stream",
     "text": [
      "epoch 30 | loss: 0.32957 | train_mse: 0.41548 | train_mae: 0.47491 |  0:00:03s\n",
      "epoch 31 | loss: 0.3259  | train_mse: 0.38479 | train_mae: 0.45884 |  0:00:03s\n",
      "epoch 32 | loss: 0.27928 | train_mse: 0.35695 | train_mae: 0.44188 |  0:00:03s\n"
     ]
    },
    {
     "name": "stdout",
     "output_type": "stream",
     "text": [
      "epoch 33 | loss: 0.41897 | train_mse: 0.33708 | train_mae: 0.43107 |  0:00:03s\n",
      "epoch 34 | loss: 0.41392 | train_mse: 0.31497 | train_mae: 0.41898 |  0:00:03s\n"
     ]
    },
    {
     "name": "stdout",
     "output_type": "stream",
     "text": [
      "epoch 35 | loss: 0.42053 | train_mse: 0.28782 | train_mae: 0.40089 |  0:00:03s\n",
      "epoch 36 | loss: 0.3553  | train_mse: 0.26762 | train_mae: 0.38657 |  0:00:03s\n",
      "epoch 37 | loss: 0.32578 | train_mse: 0.25091 | train_mae: 0.37731 |  0:00:03s\n"
     ]
    },
    {
     "name": "stdout",
     "output_type": "stream",
     "text": [
      "epoch 38 | loss: 0.27744 | train_mse: 0.23693 | train_mae: 0.36932 |  0:00:03s\n",
      "epoch 39 | loss: 0.33757 | train_mse: 0.23045 | train_mae: 0.36604 |  0:00:03s\n",
      "epoch 40 | loss: 0.30052 | train_mse: 0.22581 | train_mae: 0.36362 |  0:00:04s\n"
     ]
    },
    {
     "name": "stdout",
     "output_type": "stream",
     "text": [
      "epoch 41 | loss: 0.38886 | train_mse: 0.22385 | train_mae: 0.36043 |  0:00:04s\n",
      "epoch 42 | loss: 0.28017 | train_mse: 0.22288 | train_mae: 0.35757 |  0:00:04s\n",
      "epoch 43 | loss: 0.59671 | train_mse: 0.22278 | train_mae: 0.35642 |  0:00:04s"
     ]
    },
    {
     "name": "stdout",
     "output_type": "stream",
     "text": [
      "\n",
      "epoch 44 | loss: 0.42075 | train_mse: 0.21567 | train_mae: 0.35262 |  0:00:04s\n"
     ]
    },
    {
     "name": "stdout",
     "output_type": "stream",
     "text": [
      "epoch 45 | loss: 0.43068 | train_mse: 0.20958 | train_mae: 0.34799 |  0:00:04s\n",
      "epoch 46 | loss: 0.21947 | train_mse: 0.2052  | train_mae: 0.34651 |  0:00:04s\n",
      "epoch 47 | loss: 0.42307 | train_mse: 0.20281 | train_mae: 0.34622 |  0:00:04s\n"
     ]
    },
    {
     "name": "stdout",
     "output_type": "stream",
     "text": [
      "epoch 48 | loss: 0.218   | train_mse: 0.19917 | train_mae: 0.34443 |  0:00:04s\n",
      "epoch 49 | loss: 0.26238 | train_mse: 0.19694 | train_mae: 0.34537 |  0:00:04s\n",
      "epoch 50 | loss: 0.22361 | train_mse: 0.19589 | train_mae: 0.34517 |  0:00:05s\n"
     ]
    },
    {
     "name": "stdout",
     "output_type": "stream",
     "text": [
      "epoch 51 | loss: 0.23902 | train_mse: 0.19247 | train_mae: 0.34104 |  0:00:05s\n",
      "epoch 52 | loss: 0.29906 | train_mse: 0.18903 | train_mae: 0.33892 |  0:00:05s\n",
      "epoch 53 | loss: 0.24505 | train_mse: 0.18654 | train_mae: 0.3365  |  0:00:05s\n"
     ]
    },
    {
     "name": "stdout",
     "output_type": "stream",
     "text": [
      "epoch 54 | loss: 0.25135 | train_mse: 0.18532 | train_mae: 0.3325  |  0:00:05s\n",
      "epoch 55 | loss: 0.25085 | train_mse: 0.18197 | train_mae: 0.32742 |  0:00:05s\n"
     ]
    },
    {
     "name": "stdout",
     "output_type": "stream",
     "text": [
      "epoch 56 | loss: 0.347   | train_mse: 0.18193 | train_mae: 0.32481 |  0:00:05s\n",
      "epoch 57 | loss: 0.29278 | train_mse: 0.18437 | train_mae: 0.32705 |  0:00:05s\n",
      "epoch 58 | loss: 0.44555 | train_mse: 0.18099 | train_mae: 0.32247 |  0:00:05s\n"
     ]
    },
    {
     "name": "stdout",
     "output_type": "stream",
     "text": [
      "epoch 59 | loss: 0.31036 | train_mse: 0.17722 | train_mae: 0.31892 |  0:00:05s\n",
      "epoch 60 | loss: 0.26308 | train_mse: 0.17483 | train_mae: 0.31797 |  0:00:05s\n",
      "epoch 61 | loss: 0.32053 | train_mse: 0.17286 | train_mae: 0.31607 |  0:00:06s\n"
     ]
    },
    {
     "name": "stdout",
     "output_type": "stream",
     "text": [
      "epoch 62 | loss: 0.17011 | train_mse: 0.16921 | train_mae: 0.31338 |  0:00:06s\n",
      "epoch 63 | loss: 0.18899 | train_mse: 0.16034 | train_mae: 0.30344 |  0:00:06s\n",
      "epoch 64 | loss: 0.17857 | train_mse: 0.16152 | train_mae: 0.30795 |  0:00:06s\n"
     ]
    },
    {
     "name": "stdout",
     "output_type": "stream",
     "text": [
      "epoch 65 | loss: 0.27868 | train_mse: 0.16303 | train_mae: 0.31302 |  0:00:06s\n",
      "epoch 66 | loss: 0.24217 | train_mse: 0.1633  | train_mae: 0.31667 |  0:00:06s\n",
      "epoch 67 | loss: 0.3291  | train_mse: 0.16227 | train_mae: 0.31742 |  0:00:06s\n"
     ]
    },
    {
     "name": "stdout",
     "output_type": "stream",
     "text": [
      "epoch 68 | loss: 0.28937 | train_mse: 0.15798 | train_mae: 0.31541 |  0:00:06s\n",
      "epoch 69 | loss: 0.16585 | train_mse: 0.1567  | train_mae: 0.31417 |  0:00:06s\n",
      "epoch 70 | loss: 0.29481 | train_mse: 0.15388 | train_mae: 0.30899 |  0:00:06s\n"
     ]
    },
    {
     "name": "stdout",
     "output_type": "stream",
     "text": [
      "epoch 71 | loss: 0.30389 | train_mse: 0.14869 | train_mae: 0.29933 |  0:00:06s\n",
      "epoch 72 | loss: 0.3437  | train_mse: 0.14547 | train_mae: 0.29513 |  0:00:06s\n",
      "epoch 73 | loss: 0.16865 | train_mse: 0.14406 | train_mae: 0.29341 |  0:00:07s\n"
     ]
    },
    {
     "name": "stdout",
     "output_type": "stream",
     "text": [
      "epoch 74 | loss: 0.3205  | train_mse: 0.14186 | train_mae: 0.28991 |  0:00:07s\n",
      "epoch 75 | loss: 0.47922 | train_mse: 0.14512 | train_mae: 0.29233 |  0:00:07s\n",
      "epoch 76 | loss: 0.16922 | train_mse: 0.14411 | train_mae: 0.29084 |  0:00:07s\n"
     ]
    },
    {
     "name": "stdout",
     "output_type": "stream",
     "text": [
      "epoch 77 | loss: 0.17043 | train_mse: 0.14211 | train_mae: 0.28907 |  0:00:07s\n",
      "epoch 78 | loss: 0.15422 | train_mse: 0.13769 | train_mae: 0.28266 |  0:00:07s\n",
      "epoch 79 | loss: 0.36713 | train_mse: 0.13665 | train_mae: 0.28141 |  0:00:07s"
     ]
    },
    {
     "name": "stdout",
     "output_type": "stream",
     "text": [
      "\n",
      "epoch 80 | loss: 0.19755 | train_mse: 0.13317 | train_mae: 0.27812 |  0:00:07s\n",
      "epoch 81 | loss: 0.29416 | train_mse: 0.13208 | train_mae: 0.27999 |  0:00:07s\n"
     ]
    },
    {
     "name": "stdout",
     "output_type": "stream",
     "text": [
      "epoch 82 | loss: 0.2495  | train_mse: 0.13119 | train_mae: 0.27931 |  0:00:07s\n",
      "epoch 83 | loss: 0.18778 | train_mse: 0.13284 | train_mae: 0.2836  |  0:00:07s\n",
      "epoch 84 | loss: 0.23504 | train_mse: 0.13178 | train_mae: 0.28173 |  0:00:08s\n"
     ]
    },
    {
     "name": "stdout",
     "output_type": "stream",
     "text": [
      "epoch 85 | loss: 0.19312 | train_mse: 0.13036 | train_mae: 0.27897 |  0:00:08s\n",
      "epoch 86 | loss: 0.157   | train_mse: 0.12431 | train_mae: 0.27258 |  0:00:08s\n",
      "epoch 87 | loss: 0.32976 | train_mse: 0.12721 | train_mae: 0.2753  |  0:00:08s\n"
     ]
    },
    {
     "name": "stdout",
     "output_type": "stream",
     "text": [
      "epoch 88 | loss: 0.2144  | train_mse: 0.1272  | train_mae: 0.27227 |  0:00:08s\n",
      "epoch 89 | loss: 0.1979  | train_mse: 0.12541 | train_mae: 0.27028 |  0:00:08s\n",
      "epoch 90 | loss: 0.38203 | train_mse: 0.12723 | train_mae: 0.27147 |  0:00:08s\n"
     ]
    },
    {
     "name": "stdout",
     "output_type": "stream",
     "text": [
      "epoch 91 | loss: 0.2343  | train_mse: 0.12413 | train_mae: 0.26888 |  0:00:08s\n",
      "epoch 92 | loss: 0.34802 | train_mse: 0.12031 | train_mae: 0.26608 |  0:00:08s\n",
      "epoch 93 | loss: 0.31708 | train_mse: 0.11649 | train_mae: 0.26206 |  0:00:08s\n"
     ]
    },
    {
     "name": "stdout",
     "output_type": "stream",
     "text": [
      "epoch 94 | loss: 0.21696 | train_mse: 0.11475 | train_mae: 0.25928 |  0:00:08s\n",
      "epoch 95 | loss: 0.63401 | train_mse: 0.11422 | train_mae: 0.25974 |  0:00:09s\n",
      "epoch 96 | loss: 0.25228 | train_mse: 0.11419 | train_mae: 0.257   |  0:00:09s\n"
     ]
    },
    {
     "name": "stdout",
     "output_type": "stream",
     "text": [
      "epoch 97 | loss: 0.1639  | train_mse: 0.11053 | train_mae: 0.25347 |  0:00:09s\n",
      "epoch 98 | loss: 0.24537 | train_mse: 0.10734 | train_mae: 0.25035 |  0:00:09s\n"
     ]
    },
    {
     "name": "stdout",
     "output_type": "stream",
     "text": [
      "epoch 99 | loss: 0.22189 | train_mse: 0.10655 | train_mae: 0.24989 |  0:00:09s\n",
      "epoch 100| loss: 0.18524 | train_mse: 0.10812 | train_mae: 0.25309 |  0:00:09s\n",
      "epoch 101| loss: 0.15877 | train_mse: 0.11057 | train_mae: 0.25551 |  0:00:09s\n"
     ]
    },
    {
     "name": "stdout",
     "output_type": "stream",
     "text": [
      "epoch 102| loss: 0.22568 | train_mse: 0.10904 | train_mae: 0.25464 |  0:00:09s\n",
      "epoch 103| loss: 0.35474 | train_mse: 0.10843 | train_mae: 0.25562 |  0:00:09s\n",
      "epoch 104| loss: 0.13528 | train_mse: 0.09956 | train_mae: 0.24308 |  0:00:09s\n"
     ]
    },
    {
     "name": "stdout",
     "output_type": "stream",
     "text": [
      "epoch 105| loss: 0.24289 | train_mse: 0.09507 | train_mae: 0.2398  |  0:00:10s\n",
      "epoch 106| loss: 0.2894  | train_mse: 0.09363 | train_mae: 0.23479 |  0:00:10s\n",
      "epoch 107| loss: 0.1672  | train_mse: 0.09181 | train_mae: 0.23192 |  0:00:10s\n"
     ]
    },
    {
     "name": "stdout",
     "output_type": "stream",
     "text": [
      "epoch 108| loss: 0.22564 | train_mse: 0.08625 | train_mae: 0.22476 |  0:00:10s\n",
      "epoch 109| loss: 0.30529 | train_mse: 0.08739 | train_mae: 0.22369 |  0:00:10s\n"
     ]
    },
    {
     "name": "stdout",
     "output_type": "stream",
     "text": [
      "epoch 110| loss: 0.2079  | train_mse: 0.08728 | train_mae: 0.22307 |  0:00:10s\n",
      "epoch 111| loss: 0.32544 | train_mse: 0.08983 | train_mae: 0.2268  |  0:00:10s\n",
      "epoch 112| loss: 0.25531 | train_mse: 0.09377 | train_mae: 0.22973 |  0:00:10s\n"
     ]
    },
    {
     "name": "stdout",
     "output_type": "stream",
     "text": [
      "epoch 113| loss: 0.15498 | train_mse: 0.09566 | train_mae: 0.22855 |  0:00:10s\n",
      "epoch 114| loss: 0.18183 | train_mse: 0.0953  | train_mae: 0.22594 |  0:00:10s\n",
      "epoch 115| loss: 0.15651 | train_mse: 0.0937  | train_mae: 0.22223 |  0:00:10s\n"
     ]
    },
    {
     "name": "stdout",
     "output_type": "stream",
     "text": [
      "epoch 116| loss: 0.2013  | train_mse: 0.09205 | train_mae: 0.21974 |  0:00:11s\n",
      "epoch 117| loss: 0.30582 | train_mse: 0.08887 | train_mae: 0.2172  |  0:00:11s\n",
      "epoch 118| loss: 0.188   | train_mse: 0.0845  | train_mae: 0.21011 |  0:00:11s\n"
     ]
    },
    {
     "name": "stdout",
     "output_type": "stream",
     "text": [
      "epoch 119| loss: 0.20885 | train_mse: 0.082   | train_mae: 0.20943 |  0:00:11s\n",
      "epoch 120| loss: 0.19911 | train_mse: 0.07971 | train_mae: 0.20849 |  0:00:11s\n"
     ]
    },
    {
     "name": "stdout",
     "output_type": "stream",
     "text": [
      "epoch 121| loss: 0.11977 | train_mse: 0.07967 | train_mae: 0.20808 |  0:00:11s\n",
      "epoch 122| loss: 0.19733 | train_mse: 0.07816 | train_mae: 0.20361 |  0:00:11s\n",
      "epoch 123| loss: 0.31628 | train_mse: 0.07789 | train_mae: 0.20307 |  0:00:11s\n"
     ]
    },
    {
     "name": "stdout",
     "output_type": "stream",
     "text": [
      "epoch 124| loss: 0.27149 | train_mse: 0.07822 | train_mae: 0.20634 |  0:00:11s\n",
      "epoch 125| loss: 0.17746 | train_mse: 0.07747 | train_mae: 0.20649 |  0:00:12s\n",
      "epoch 126| loss: 0.23048 | train_mse: 0.07429 | train_mae: 0.20225 |  0:00:12s\n"
     ]
    },
    {
     "name": "stdout",
     "output_type": "stream",
     "text": [
      "epoch 127| loss: 0.27326 | train_mse: 0.07392 | train_mae: 0.20129 |  0:00:12s\n",
      "epoch 128| loss: 0.20748 | train_mse: 0.07333 | train_mae: 0.20003 |  0:00:12s\n",
      "epoch 129| loss: 0.14809 | train_mse: 0.073   | train_mae: 0.19735 |  0:00:12s\n"
     ]
    },
    {
     "name": "stdout",
     "output_type": "stream",
     "text": [
      "epoch 130| loss: 0.19934 | train_mse: 0.07628 | train_mae: 0.20277 |  0:00:12s\n",
      "epoch 131| loss: 0.25268 | train_mse: 0.07698 | train_mae: 0.20402 |  0:00:12s\n"
     ]
    },
    {
     "name": "stdout",
     "output_type": "stream",
     "text": [
      "epoch 132| loss: 0.1248  | train_mse: 0.07878 | train_mae: 0.20719 |  0:00:12s\n",
      "epoch 133| loss: 0.42953 | train_mse: 0.07957 | train_mae: 0.20982 |  0:00:12s\n",
      "epoch 134| loss: 0.2129  | train_mse: 0.07796 | train_mae: 0.20967 |  0:00:12s\n"
     ]
    },
    {
     "name": "stdout",
     "output_type": "stream",
     "text": [
      "epoch 135| loss: 0.34712 | train_mse: 0.08114 | train_mae: 0.21553 |  0:00:13s\n",
      "epoch 136| loss: 0.24704 | train_mse: 0.08328 | train_mae: 0.21943 |  0:00:13s\n",
      "epoch 137| loss: 0.21121 | train_mse: 0.08108 | train_mae: 0.21788 |  0:00:13s\n"
     ]
    },
    {
     "name": "stdout",
     "output_type": "stream",
     "text": [
      "epoch 138| loss: 0.2548  | train_mse: 0.08142 | train_mae: 0.21655 |  0:00:13s\n",
      "epoch 139| loss: 0.25259 | train_mse: 0.08294 | train_mae: 0.2184  |  0:00:13s\n"
     ]
    },
    {
     "name": "stdout",
     "output_type": "stream",
     "text": [
      "epoch 140| loss: 0.12875 | train_mse: 0.08221 | train_mae: 0.21871 |  0:00:13s\n",
      "epoch 141| loss: 0.16282 | train_mse: 0.08209 | train_mae: 0.21954 |  0:00:13s\n",
      "epoch 142| loss: 0.27636 | train_mse: 0.07965 | train_mae: 0.21673 |  0:00:13s\n"
     ]
    },
    {
     "name": "stdout",
     "output_type": "stream",
     "text": [
      "epoch 143| loss: 0.30879 | train_mse: 0.07737 | train_mae: 0.21307 |  0:00:13s\n",
      "epoch 144| loss: 0.22507 | train_mse: 0.07975 | train_mae: 0.21447 |  0:00:13s\n",
      "epoch 145| loss: 0.25424 | train_mse: 0.08568 | train_mae: 0.21879 |  0:00:13s\n"
     ]
    },
    {
     "name": "stdout",
     "output_type": "stream",
     "text": [
      "epoch 146| loss: 0.26723 | train_mse: 0.0865  | train_mae: 0.2193  |  0:00:14s\n",
      "epoch 147| loss: 0.24845 | train_mse: 0.08762 | train_mae: 0.22121 |  0:00:14s\n",
      "epoch 148| loss: 0.22698 | train_mse: 0.08301 | train_mae: 0.21699 |  0:00:14s\n"
     ]
    },
    {
     "name": "stdout",
     "output_type": "stream",
     "text": [
      "epoch 149| loss: 0.17486 | train_mse: 0.0799  | train_mae: 0.21599 |  0:00:14s\n",
      "epoch 150| loss: 0.36798 | train_mse: 0.07878 | train_mae: 0.2141  |  0:00:14s\n"
     ]
    },
    {
     "name": "stdout",
     "output_type": "stream",
     "text": [
      "epoch 151| loss: 0.1611  | train_mse: 0.077   | train_mae: 0.21004 |  0:00:14s\n",
      "epoch 152| loss: 0.27812 | train_mse: 0.07583 | train_mae: 0.20848 |  0:00:14s\n",
      "epoch 153| loss: 0.18377 | train_mse: 0.07407 | train_mae: 0.20379 |  0:00:14s\n"
     ]
    },
    {
     "name": "stdout",
     "output_type": "stream",
     "text": [
      "epoch 154| loss: 0.17133 | train_mse: 0.07394 | train_mae: 0.20412 |  0:00:14s\n",
      "epoch 155| loss: 0.16329 | train_mse: 0.07492 | train_mae: 0.20581 |  0:00:14s\n",
      "epoch 156| loss: 0.13731 | train_mse: 0.07331 | train_mae: 0.2031  |  0:00:14s\n"
     ]
    },
    {
     "name": "stdout",
     "output_type": "stream",
     "text": [
      "epoch 157| loss: 0.16018 | train_mse: 0.07267 | train_mae: 0.20429 |  0:00:15s\n",
      "epoch 158| loss: 0.22125 | train_mse: 0.0702  | train_mae: 0.20191 |  0:00:15s\n",
      "epoch 159| loss: 0.17824 | train_mse: 0.06802 | train_mae: 0.19758 |  0:00:15s\n"
     ]
    },
    {
     "name": "stdout",
     "output_type": "stream",
     "text": [
      "epoch 160| loss: 0.35469 | train_mse: 0.06537 | train_mae: 0.19195 |  0:00:15s\n",
      "epoch 161| loss: 0.1383  | train_mse: 0.06486 | train_mae: 0.19005 |  0:00:15s\n"
     ]
    },
    {
     "name": "stdout",
     "output_type": "stream",
     "text": [
      "epoch 162| loss: 0.19612 | train_mse: 0.06356 | train_mae: 0.1877  |  0:00:15s\n",
      "epoch 163| loss: 0.13449 | train_mse: 0.06423 | train_mae: 0.18809 |  0:00:15s\n",
      "epoch 164| loss: 0.27844 | train_mse: 0.06404 | train_mae: 0.19021 |  0:00:15s\n"
     ]
    },
    {
     "name": "stdout",
     "output_type": "stream",
     "text": [
      "epoch 165| loss: 0.19996 | train_mse: 0.06448 | train_mae: 0.19136 |  0:00:15s\n",
      "epoch 166| loss: 0.12994 | train_mse: 0.06683 | train_mae: 0.19611 |  0:00:15s\n",
      "epoch 167| loss: 0.15963 | train_mse: 0.07008 | train_mae: 0.20251 |  0:00:15s\n"
     ]
    },
    {
     "name": "stdout",
     "output_type": "stream",
     "text": [
      "epoch 168| loss: 0.20883 | train_mse: 0.06919 | train_mae: 0.20148 |  0:00:16s\n",
      "epoch 169| loss: 0.13556 | train_mse: 0.06853 | train_mae: 0.20308 |  0:00:16s\n",
      "epoch 170| loss: 0.2589  | train_mse: 0.06734 | train_mae: 0.19971 |  0:00:16s\n"
     ]
    },
    {
     "name": "stdout",
     "output_type": "stream",
     "text": [
      "epoch 171| loss: 0.11987 | train_mse: 0.06829 | train_mae: 0.20143 |  0:00:16s\n",
      "epoch 172| loss: 0.20721 | train_mse: 0.07035 | train_mae: 0.20674 |  0:00:16s\n"
     ]
    },
    {
     "name": "stdout",
     "output_type": "stream",
     "text": [
      "epoch 173| loss: 0.31319 | train_mse: 0.0682  | train_mae: 0.20427 |  0:00:16s\n",
      "epoch 174| loss: 0.11673 | train_mse: 0.06696 | train_mae: 0.20025 |  0:00:16s\n",
      "epoch 175| loss: 0.28185 | train_mse: 0.0641  | train_mae: 0.19358 |  0:00:16s\n"
     ]
    },
    {
     "name": "stdout",
     "output_type": "stream",
     "text": [
      "epoch 176| loss: 0.10029 | train_mse: 0.06474 | train_mae: 0.19159 |  0:00:16s\n",
      "epoch 177| loss: 0.19821 | train_mse: 0.0662  | train_mae: 0.1921  |  0:00:16s\n",
      "epoch 178| loss: 0.09635 | train_mse: 0.06652 | train_mae: 0.18918 |  0:00:16s\n"
     ]
    },
    {
     "name": "stdout",
     "output_type": "stream",
     "text": [
      "epoch 179| loss: 0.12212 | train_mse: 0.06509 | train_mae: 0.18642 |  0:00:17s\n",
      "epoch 180| loss: 0.21739 | train_mse: 0.06126 | train_mae: 0.17984 |  0:00:17s\n",
      "epoch 181| loss: 0.10486 | train_mse: 0.06013 | train_mae: 0.17851 |  0:00:17s\n"
     ]
    },
    {
     "name": "stdout",
     "output_type": "stream",
     "text": [
      "epoch 182| loss: 0.17844 | train_mse: 0.06098 | train_mae: 0.17997 |  0:00:17s\n",
      "epoch 183| loss: 0.15549 | train_mse: 0.06215 | train_mae: 0.18054 |  0:00:17s\n",
      "epoch 184| loss: 0.12726 | train_mse: 0.06254 | train_mae: 0.18191 |  0:00:17s\n"
     ]
    },
    {
     "name": "stdout",
     "output_type": "stream",
     "text": [
      "epoch 185| loss: 0.27429 | train_mse: 0.06111 | train_mae: 0.18148 |  0:00:17s\n",
      "epoch 186| loss: 0.16594 | train_mse: 0.06077 | train_mae: 0.18297 |  0:00:17s\n",
      "epoch 187| loss: 0.12107 | train_mse: 0.05933 | train_mae: 0.18078 |  0:00:17s\n"
     ]
    },
    {
     "name": "stdout",
     "output_type": "stream",
     "text": [
      "epoch 188| loss: 0.13499 | train_mse: 0.05829 | train_mae: 0.1805  |  0:00:17s\n",
      "epoch 189| loss: 0.10184 | train_mse: 0.0573  | train_mae: 0.17898 |  0:00:18s\n",
      "epoch 190| loss: 0.10749 | train_mse: 0.05607 | train_mae: 0.17769 |  0:00:18s\n"
     ]
    },
    {
     "name": "stdout",
     "output_type": "stream",
     "text": [
      "epoch 191| loss: 0.31723 | train_mse: 0.05553 | train_mae: 0.17829 |  0:00:18s\n",
      "epoch 192| loss: 0.22485 | train_mse: 0.05749 | train_mae: 0.18179 |  0:00:18s\n",
      "epoch 193| loss: 0.17831 | train_mse: 0.05814 | train_mae: 0.18133 |  0:00:18s\n"
     ]
    },
    {
     "name": "stdout",
     "output_type": "stream",
     "text": [
      "epoch 194| loss: 0.21454 | train_mse: 0.05819 | train_mae: 0.18029 |  0:00:18s\n",
      "epoch 195| loss: 0.27371 | train_mse: 0.05733 | train_mae: 0.17917 |  0:00:18s\n"
     ]
    },
    {
     "name": "stdout",
     "output_type": "stream",
     "text": [
      "epoch 196| loss: 0.20957 | train_mse: 0.05816 | train_mae: 0.17882 |  0:00:18s\n",
      "epoch 197| loss: 0.11484 | train_mse: 0.05773 | train_mae: 0.17662 |  0:00:18s\n",
      "epoch 198| loss: 0.20522 | train_mse: 0.05814 | train_mae: 0.17501 |  0:00:18s\n"
     ]
    },
    {
     "name": "stdout",
     "output_type": "stream",
     "text": [
      "epoch 199| loss: 0.11386 | train_mse: 0.05923 | train_mae: 0.17691 |  0:00:18s\n",
      "epoch 200| loss: 0.09188 | train_mse: 0.06036 | train_mae: 0.17675 |  0:00:19s\n",
      "epoch 201| loss: 0.09969 | train_mse: 0.06252 | train_mae: 0.17826 |  0:00:19s\n"
     ]
    },
    {
     "name": "stdout",
     "output_type": "stream",
     "text": [
      "epoch 202| loss: 0.49651 | train_mse: 0.06661 | train_mae: 0.17975 |  0:00:19s\n",
      "epoch 203| loss: 0.16551 | train_mse: 0.07176 | train_mae: 0.18625 |  0:00:19s\n"
     ]
    },
    {
     "name": "stdout",
     "output_type": "stream",
     "text": [
      "epoch 204| loss: 0.1921  | train_mse: 0.07368 | train_mae: 0.18789 |  0:00:19s\n",
      "epoch 205| loss: 0.15496 | train_mse: 0.0746  | train_mae: 0.1903  |  0:00:19s\n",
      "epoch 206| loss: 0.27364 | train_mse: 0.07745 | train_mae: 0.19387 |  0:00:19s\n"
     ]
    },
    {
     "name": "stdout",
     "output_type": "stream",
     "text": [
      "epoch 207| loss: 0.12908 | train_mse: 0.07661 | train_mae: 0.19289 |  0:00:19s\n",
      "epoch 208| loss: 0.12712 | train_mse: 0.07595 | train_mae: 0.19364 |  0:00:19s\n",
      "epoch 209| loss: 0.16068 | train_mse: 0.07099 | train_mae: 0.1869  |  0:00:19s\n"
     ]
    },
    {
     "name": "stdout",
     "output_type": "stream",
     "text": [
      "epoch 210| loss: 0.27998 | train_mse: 0.06862 | train_mae: 0.18302 |  0:00:20s\n",
      "epoch 211| loss: 0.21013 | train_mse: 0.06855 | train_mae: 0.18204 |  0:00:20s\n",
      "epoch 212| loss: 0.23425 | train_mse: 0.07183 | train_mae: 0.18641 |  0:00:20s\n"
     ]
    },
    {
     "name": "stdout",
     "output_type": "stream",
     "text": [
      "epoch 213| loss: 0.14733 | train_mse: 0.07448 | train_mae: 0.19054 |  0:00:20s\n",
      "epoch 214| loss: 0.30261 | train_mse: 0.07763 | train_mae: 0.19402 |  0:00:20s\n"
     ]
    },
    {
     "name": "stdout",
     "output_type": "stream",
     "text": [
      "epoch 215| loss: 0.14643 | train_mse: 0.07952 | train_mae: 0.19572 |  0:00:20s\n",
      "epoch 216| loss: 0.24445 | train_mse: 0.0777  | train_mae: 0.19227 |  0:00:20s\n",
      "epoch 217| loss: 0.19626 | train_mse: 0.07726 | train_mae: 0.18993 |  0:00:20s\n"
     ]
    },
    {
     "name": "stdout",
     "output_type": "stream",
     "text": [
      "epoch 218| loss: 0.1254  | train_mse: 0.07575 | train_mae: 0.18934 |  0:00:20s\n",
      "epoch 219| loss: 0.15521 | train_mse: 0.07381 | train_mae: 0.19008 |  0:00:20s\n",
      "epoch 220| loss: 0.15158 | train_mse: 0.07305 | train_mae: 0.19151 |  0:00:20s\n"
     ]
    },
    {
     "name": "stdout",
     "output_type": "stream",
     "text": [
      "epoch 221| loss: 0.16898 | train_mse: 0.07165 | train_mae: 0.19125 |  0:00:21s\n",
      "epoch 222| loss: 0.16492 | train_mse: 0.07015 | train_mae: 0.18885 |  0:00:21s\n",
      "epoch 223| loss: 0.32575 | train_mse: 0.06912 | train_mae: 0.18857 |  0:00:21s\n"
     ]
    },
    {
     "name": "stdout",
     "output_type": "stream",
     "text": [
      "epoch 224| loss: 0.16714 | train_mse: 0.06733 | train_mae: 0.18574 |  0:00:21s\n",
      "epoch 225| loss: 0.09189 | train_mse: 0.06624 | train_mae: 0.18395 |  0:00:21s\n"
     ]
    },
    {
     "name": "stdout",
     "output_type": "stream",
     "text": [
      "epoch 226| loss: 0.17081 | train_mse: 0.06523 | train_mae: 0.18532 |  0:00:21s\n",
      "epoch 227| loss: 0.13495 | train_mse: 0.06575 | train_mae: 0.18714 |  0:00:21s\n",
      "epoch 228| loss: 0.18261 | train_mse: 0.06546 | train_mae: 0.18835 |  0:00:21s\n"
     ]
    },
    {
     "name": "stdout",
     "output_type": "stream",
     "text": [
      "epoch 229| loss: 0.10501 | train_mse: 0.06384 | train_mae: 0.18749 |  0:00:21s\n",
      "epoch 230| loss: 0.19903 | train_mse: 0.05753 | train_mae: 0.18106 |  0:00:21s\n",
      "epoch 231| loss: 0.16457 | train_mse: 0.0569  | train_mae: 0.17954 |  0:00:21s\n"
     ]
    },
    {
     "name": "stdout",
     "output_type": "stream",
     "text": [
      "epoch 232| loss: 0.08374 | train_mse: 0.0561  | train_mae: 0.17789 |  0:00:22s\n",
      "epoch 233| loss: 0.12919 | train_mse: 0.05628 | train_mae: 0.17721 |  0:00:22s\n",
      "epoch 234| loss: 0.09608 | train_mse: 0.0565  | train_mae: 0.17561 |  0:00:22s\n"
     ]
    },
    {
     "name": "stdout",
     "output_type": "stream",
     "text": [
      "epoch 235| loss: 0.16952 | train_mse: 0.05293 | train_mae: 0.17027 |  0:00:22s\n",
      "epoch 236| loss: 0.21107 | train_mse: 0.04814 | train_mae: 0.16431 |  0:00:22s\n"
     ]
    },
    {
     "name": "stdout",
     "output_type": "stream",
     "text": [
      "epoch 237| loss: 0.09956 | train_mse: 0.04746 | train_mae: 0.16225 |  0:00:22s\n",
      "epoch 238| loss: 0.12196 | train_mse: 0.0464  | train_mae: 0.16074 |  0:00:22s\n"
     ]
    },
    {
     "name": "stdout",
     "output_type": "stream",
     "text": [
      "epoch 239| loss: 0.12375 | train_mse: 0.04587 | train_mae: 0.1596  |  0:00:22s\n",
      "epoch 240| loss: 0.1836  | train_mse: 0.04453 | train_mae: 0.15734 |  0:00:22s\n",
      "epoch 241| loss: 0.10387 | train_mse: 0.04509 | train_mae: 0.15771 |  0:00:22s\n"
     ]
    },
    {
     "name": "stdout",
     "output_type": "stream",
     "text": [
      "epoch 242| loss: 0.12606 | train_mse: 0.04522 | train_mae: 0.15834 |  0:00:22s\n",
      "epoch 243| loss: 0.34767 | train_mse: 0.04734 | train_mae: 0.15938 |  0:00:23s\n",
      "epoch 244| loss: 0.37367 | train_mse: 0.04917 | train_mae: 0.16147 |  0:00:23s\n"
     ]
    },
    {
     "name": "stdout",
     "output_type": "stream",
     "text": [
      "epoch 245| loss: 0.15582 | train_mse: 0.05266 | train_mae: 0.16743 |  0:00:23s\n",
      "epoch 246| loss: 0.11064 | train_mse: 0.05436 | train_mae: 0.16867 |  0:00:23s\n"
     ]
    },
    {
     "name": "stdout",
     "output_type": "stream",
     "text": [
      "epoch 247| loss: 0.19419 | train_mse: 0.0563  | train_mae: 0.17224 |  0:00:23s\n",
      "epoch 248| loss: 0.13373 | train_mse: 0.05781 | train_mae: 0.17519 |  0:00:23s\n",
      "epoch 249| loss: 0.13312 | train_mse: 0.05657 | train_mae: 0.17282 |  0:00:23s\n"
     ]
    },
    {
     "name": "stdout",
     "output_type": "stream",
     "text": [
      "epoch 250| loss: 0.0817  | train_mse: 0.0569  | train_mae: 0.17397 |  0:00:23s\n",
      "epoch 251| loss: 0.13685 | train_mse: 0.05699 | train_mae: 0.17403 |  0:00:23s\n",
      "epoch 252| loss: 0.16902 | train_mse: 0.0557  | train_mae: 0.1725  |  0:00:23s\n"
     ]
    },
    {
     "name": "stdout",
     "output_type": "stream",
     "text": [
      "epoch 253| loss: 0.46578 | train_mse: 0.05644 | train_mae: 0.17383 |  0:00:24s\n",
      "epoch 254| loss: 0.08768 | train_mse: 0.05581 | train_mae: 0.17296 |  0:00:24s\n",
      "epoch 255| loss: 0.20869 | train_mse: 0.05679 | train_mae: 0.17394 |  0:00:24s\n"
     ]
    },
    {
     "name": "stdout",
     "output_type": "stream",
     "text": [
      "epoch 256| loss: 0.18404 | train_mse: 0.05649 | train_mae: 0.17261 |  0:00:24s\n",
      "epoch 257| loss: 0.17245 | train_mse: 0.05845 | train_mae: 0.17477 |  0:00:24s\n"
     ]
    },
    {
     "name": "stdout",
     "output_type": "stream",
     "text": [
      "epoch 258| loss: 0.2053  | train_mse: 0.05921 | train_mae: 0.17322 |  0:00:24s\n",
      "epoch 259| loss: 0.08019 | train_mse: 0.05816 | train_mae: 0.17318 |  0:00:24s\n",
      "epoch 260| loss: 0.12427 | train_mse: 0.0568  | train_mae: 0.16987 |  0:00:24s\n"
     ]
    },
    {
     "name": "stdout",
     "output_type": "stream",
     "text": [
      "epoch 261| loss: 0.18532 | train_mse: 0.05515 | train_mae: 0.16776 |  0:00:24s\n",
      "epoch 262| loss: 0.29957 | train_mse: 0.05276 | train_mae: 0.16377 |  0:00:24s\n",
      "epoch 263| loss: 0.09468 | train_mse: 0.0508  | train_mae: 0.1603  |  0:00:24s\n"
     ]
    },
    {
     "name": "stdout",
     "output_type": "stream",
     "text": [
      "epoch 264| loss: 0.18201 | train_mse: 0.05078 | train_mae: 0.159   |  0:00:25s\n",
      "epoch 265| loss: 0.16658 | train_mse: 0.05083 | train_mae: 0.1598  |  0:00:25s\n",
      "epoch 266| loss: 0.14417 | train_mse: 0.05301 | train_mae: 0.16243 |  0:00:25s\n"
     ]
    },
    {
     "name": "stdout",
     "output_type": "stream",
     "text": [
      "epoch 267| loss: 0.11747 | train_mse: 0.05391 | train_mae: 0.16383 |  0:00:25s\n",
      "epoch 268| loss: 0.14807 | train_mse: 0.05596 | train_mae: 0.16638 |  0:00:25s\n",
      "epoch 269| loss: 0.18774 | train_mse: 0.05437 | train_mae: 0.16526 |  0:00:25s\n"
     ]
    },
    {
     "name": "stdout",
     "output_type": "stream",
     "text": [
      "epoch 270| loss: 0.12468 | train_mse: 0.05418 | train_mae: 0.16549 |  0:00:25s\n",
      "epoch 271| loss: 0.16279 | train_mse: 0.05487 | train_mae: 0.16562 |  0:00:25s\n",
      "epoch 272| loss: 0.18351 | train_mse: 0.05407 | train_mae: 0.16564 |  0:00:25s\n"
     ]
    },
    {
     "name": "stdout",
     "output_type": "stream",
     "text": [
      "epoch 273| loss: 0.14648 | train_mse: 0.05349 | train_mae: 0.16637 |  0:00:25s\n",
      "epoch 274| loss: 0.0896  | train_mse: 0.05313 | train_mae: 0.16673 |  0:00:25s\n",
      "epoch 275| loss: 0.08189 | train_mse: 0.0543  | train_mae: 0.16714 |  0:00:26s\n"
     ]
    },
    {
     "name": "stdout",
     "output_type": "stream",
     "text": [
      "epoch 276| loss: 0.27823 | train_mse: 0.05583 | train_mae: 0.1707  |  0:00:26s\n",
      "epoch 277| loss: 0.14527 | train_mse: 0.05691 | train_mae: 0.17235 |  0:00:26s\n"
     ]
    },
    {
     "name": "stdout",
     "output_type": "stream",
     "text": [
      "epoch 278| loss: 0.09039 | train_mse: 0.05734 | train_mae: 0.17507 |  0:00:26s\n",
      "epoch 279| loss: 0.11591 | train_mse: 0.05609 | train_mae: 0.17295 |  0:00:26s\n"
     ]
    },
    {
     "name": "stdout",
     "output_type": "stream",
     "text": [
      "epoch 280| loss: 0.09874 | train_mse: 0.05643 | train_mae: 0.17052 |  0:00:26s\n",
      "epoch 281| loss: 0.2314  | train_mse: 0.05746 | train_mae: 0.17147 |  0:00:26s\n",
      "epoch 282| loss: 0.10983 | train_mse: 0.05788 | train_mae: 0.17247 |  0:00:26s"
     ]
    },
    {
     "name": "stdout",
     "output_type": "stream",
     "text": [
      "\n",
      "epoch 283| loss: 0.15672 | train_mse: 0.06081 | train_mae: 0.17504 |  0:00:27s\n"
     ]
    },
    {
     "name": "stdout",
     "output_type": "stream",
     "text": [
      "epoch 284| loss: 0.25669 | train_mse: 0.06218 | train_mae: 0.17743 |  0:00:27s\n",
      "epoch 285| loss: 0.36051 | train_mse: 0.06422 | train_mae: 0.18078 |  0:00:27s\n"
     ]
    },
    {
     "name": "stdout",
     "output_type": "stream",
     "text": [
      "epoch 286| loss: 0.21344 | train_mse: 0.06635 | train_mae: 0.18334 |  0:00:27s\n",
      "epoch 287| loss: 0.15842 | train_mse: 0.06703 | train_mae: 0.18593 |  0:00:27s\n",
      "epoch 288| loss: 0.15444 | train_mse: 0.06511 | train_mae: 0.18638 |  0:00:27s\n"
     ]
    },
    {
     "name": "stdout",
     "output_type": "stream",
     "text": [
      "epoch 289| loss: 0.19022 | train_mse: 0.06384 | train_mae: 0.18621 |  0:00:27s\n",
      "epoch 290| loss: 0.36135 | train_mse: 0.06116 | train_mae: 0.18097 |  0:00:27s\n",
      "\n",
      "Early stopping occurred at epoch 290 with best_epoch = 240 and best_train_mae = 0.15734\n",
      "Best weights from best epoch are automatically used!\n"
     ]
    }
   ],
   "source": [
    "#Train the Model\n",
    "\n",
    "Y_train = np.reshape(Y_train, (-1, 1))\n",
    "Y_test = np.reshape(Y_test, (-1, 1))\n",
    "\n",
    "prior_model = TabNetRegressor(optimizer_fn=torch.optim.Adam, optimizer_params=dict(lr = 0.001),\n",
    "          #scheduler_params={\"step_size\":10, ], \"gamma\":0.9},\n",
    "          #scheduler_fn=torch.optim.lr_scheduler.StepLR\n",
    "          )  #TabNetRegressor()\n",
    "\n",
    "prior_model.fit(X_train,Y_train,eval_set=[(X_train, Y_train)],\n",
    "            eval_name=['train'], \n",
    "            eval_metric=[ 'mse', 'mae'], \n",
    "            max_epochs = n_epochs, \n",
    "            batch_size = batch_size,\n",
    "            patience=50\n",
    "            )"
   ]
  },
  {
   "cell_type": "code",
   "execution_count": 10,
   "id": "af65dcda",
   "metadata": {
    "execution": {
     "iopub.execute_input": "2022-07-22T10:49:08.703239Z",
     "iopub.status.busy": "2022-07-22T10:49:08.702781Z",
     "iopub.status.idle": "2022-07-22T10:49:08.759794Z",
     "shell.execute_reply": "2022-07-22T10:49:08.758693Z"
    },
    "id": "af65dcda",
    "papermill": {
     "duration": 0.080074,
     "end_time": "2022-07-22T10:49:08.765164",
     "exception": false,
     "start_time": "2022-07-22T10:49:08.685090",
     "status": "completed"
    },
    "tags": []
   },
   "outputs": [
    {
     "data": {
      "application/scrapbook.scrap.json+json": {
       "data": 0.2903038827563705,
       "encoder": "json",
       "name": "Prior Model MSE",
       "version": 1
      }
     },
     "metadata": {
      "scrapbook": {
       "data": true,
       "display": false,
       "name": "Prior Model MSE"
      }
     },
     "output_type": "display_data"
    },
    {
     "data": {
      "application/scrapbook.scrap.json+json": {
       "data": 1.1709643243275658,
       "encoder": "json",
       "name": "ABC Pre-generator MSE",
       "version": 1
      }
     },
     "metadata": {
      "scrapbook": {
       "data": true,
       "display": false,
       "name": "ABC Pre-generator MSE"
      }
     },
     "output_type": "display_data"
    },
    {
     "data": {
      "application/scrapbook.scrap.json+json": {
       "data": 0.3762669971683743,
       "encoder": "json",
       "name": "Prior Model MAE",
       "version": 1
      }
     },
     "metadata": {
      "scrapbook": {
       "data": true,
       "display": false,
       "name": "Prior Model MAE"
      }
     },
     "output_type": "display_data"
    },
    {
     "name": "stdout",
     "output_type": "stream",
     "text": [
      "Prior Model MAE 0.3762669971683743\n"
     ]
    },
    {
     "data": {
      "application/scrapbook.scrap.json+json": {
       "data": 0.8445691111071028,
       "encoder": "json",
       "name": "ABC Pre-generator MAE",
       "version": 1
      }
     },
     "metadata": {
      "scrapbook": {
       "data": true,
       "display": false,
       "name": "ABC Pre-generator MAE"
      }
     },
     "output_type": "display_data"
    },
    {
     "name": "stdout",
     "output_type": "stream",
     "text": [
      "ABC Pre-generator MAE 0.8445691111071028\n"
     ]
    }
   ],
   "source": [
    "y_pred = prior_model.predict(X_test)\n",
    "y_abc = y_pred + np.random.normal(0,variance, y_pred.shape) + bias \n",
    "mse = mean_squared_error(y_pred,Y_test)\n",
    "sb.glue(\"Prior Model MSE\",mse)\n",
    "mse = mean_squared_error(y_abc,Y_test)\n",
    "sb.glue(\"ABC Pre-generator MSE\",mse)\n",
    "mae = mean_absolute_error(y_pred,Y_test)\n",
    "sb.glue(\"Prior Model MAE\",mae)\n",
    "print(\"Prior Model MAE\",mae)\n",
    "mae = mean_absolute_error(y_abc,Y_test)\n",
    "sb.glue(\"ABC Pre-generator MAE\",mae)\n",
    "print(\"ABC Pre-generator MAE\",mae)"
   ]
  },
  {
   "cell_type": "markdown",
   "id": "25609da2",
   "metadata": {
    "papermill": {
     "duration": 0.018541,
     "end_time": "2022-07-22T10:49:08.802943",
     "exception": false,
     "start_time": "2022-07-22T10:49:08.784402",
     "status": "completed"
    },
    "tags": []
   },
   "source": [
    "# mGAN Model"
   ]
  },
  {
   "cell_type": "code",
   "execution_count": 11,
   "id": "dfc3464d",
   "metadata": {
    "execution": {
     "iopub.execute_input": "2022-07-22T10:49:08.843090Z",
     "iopub.status.busy": "2022-07-22T10:49:08.842657Z",
     "iopub.status.idle": "2022-07-22T10:49:08.847858Z",
     "shell.execute_reply": "2022-07-22T10:49:08.846456Z"
    },
    "papermill": {
     "duration": 0.02987,
     "end_time": "2022-07-22T10:49:08.852324",
     "exception": false,
     "start_time": "2022-07-22T10:49:08.822454",
     "status": "completed"
    },
    "tags": []
   },
   "outputs": [],
   "source": [
    "# gen = network.Generator(n_features+1).to(device)\n",
    "# disc = network.Discriminator(n_features+1).to(device)\n",
    "\n",
    "# criterion = torch.nn.BCELoss()\n",
    "# gen_opt = torch.optim.Adam(gen.parameters(), lr=0.001, betas=(0.5, 0.999))\n",
    "# disc_opt = torch.optim.Adam(disc.parameters(), lr=0.001, betas=(0.5, 0.999))"
   ]
  },
  {
   "cell_type": "code",
   "execution_count": 12,
   "id": "b75fdd85",
   "metadata": {
    "execution": {
     "iopub.execute_input": "2022-07-22T10:49:08.901065Z",
     "iopub.status.busy": "2022-07-22T10:49:08.900189Z",
     "iopub.status.idle": "2022-07-22T10:49:08.905447Z",
     "shell.execute_reply": "2022-07-22T10:49:08.904321Z"
    },
    "papermill": {
     "duration": 0.034348,
     "end_time": "2022-07-22T10:49:08.911877",
     "exception": false,
     "start_time": "2022-07-22T10:49:08.877529",
     "status": "completed"
    },
    "tags": []
   },
   "outputs": [],
   "source": [
    "#Training the ABC_GAN \n",
    "# ABC_train_test2.training_GAN(disc,gen,disc_opt,gen_opt,train_data,batch_size,n_epochs,criterion,prior_model,variance,bias,device)"
   ]
  },
  {
   "cell_type": "code",
   "execution_count": 13,
   "id": "1fa7c368",
   "metadata": {
    "execution": {
     "iopub.execute_input": "2022-07-22T10:49:08.952760Z",
     "iopub.status.busy": "2022-07-22T10:49:08.951999Z",
     "iopub.status.idle": "2022-07-22T10:49:08.957797Z",
     "shell.execute_reply": "2022-07-22T10:49:08.956552Z"
    },
    "papermill": {
     "duration": 0.030893,
     "end_time": "2022-07-22T10:49:08.963686",
     "exception": false,
     "start_time": "2022-07-22T10:49:08.932793",
     "status": "completed"
    },
    "tags": []
   },
   "outputs": [],
   "source": [
    "# ABC_GAN1_metrics=ABC_train_test2.test_generator(gen,test_data,prior_model,variance,bias,\"1\",device)\n",
    "# sb.glue(\"ABC_GAN_1 Metrics\",ABC_GAN1_metrics)\n",
    "\n",
    "# print(\"MAE\")\n",
    "# print(mean(ABC_GAN1_metrics[1]))"
   ]
  },
  {
   "cell_type": "code",
   "execution_count": 14,
   "id": "eb22ce5c",
   "metadata": {
    "execution": {
     "iopub.execute_input": "2022-07-22T10:49:09.005326Z",
     "iopub.status.busy": "2022-07-22T10:49:09.004353Z",
     "iopub.status.idle": "2022-07-22T10:49:09.009614Z",
     "shell.execute_reply": "2022-07-22T10:49:09.008218Z"
    },
    "papermill": {
     "duration": 0.032146,
     "end_time": "2022-07-22T10:49:09.015857",
     "exception": false,
     "start_time": "2022-07-22T10:49:08.983711",
     "status": "completed"
    },
    "tags": []
   },
   "outputs": [],
   "source": [
    "# sanityChecks.discProbVsError(train_data,disc,device)\n",
    "# sanityChecks.discProbVsError(test_data,disc,device)"
   ]
  },
  {
   "cell_type": "markdown",
   "id": "00137eaf",
   "metadata": {
    "papermill": {
     "duration": 0.019435,
     "end_time": "2022-07-22T10:49:09.060299",
     "exception": false,
     "start_time": "2022-07-22T10:49:09.040864",
     "status": "completed"
    },
    "tags": []
   },
   "source": [
    "# mGAN Model with TabNet Generator"
   ]
  },
  {
   "cell_type": "code",
   "execution_count": 15,
   "id": "66134c35",
   "metadata": {
    "execution": {
     "iopub.execute_input": "2022-07-22T10:49:09.105683Z",
     "iopub.status.busy": "2022-07-22T10:49:09.104902Z",
     "iopub.status.idle": "2022-07-22T10:49:09.137783Z",
     "shell.execute_reply": "2022-07-22T10:49:09.135398Z"
    },
    "papermill": {
     "duration": 0.058148,
     "end_time": "2022-07-22T10:49:09.141653",
     "exception": false,
     "start_time": "2022-07-22T10:49:09.083505",
     "status": "completed"
    },
    "tags": []
   },
   "outputs": [],
   "source": [
    "gen2 = network.GeneratorTabnet(n_features+1).to(device)\n",
    "disc2 = network.Discriminator(n_features+1).to(device)\n",
    "\n",
    "criterion = torch.nn.BCELoss()\n",
    "gen_opt = torch.optim.Adam(gen2.parameters(), lr=0.001, betas=(0.5, 0.999))\n",
    "disc_opt = torch.optim.Adam(disc2.parameters(), lr=0.001, betas=(0.5, 0.999))"
   ]
  },
  {
   "cell_type": "code",
   "execution_count": 16,
   "id": "261228ef",
   "metadata": {
    "execution": {
     "iopub.execute_input": "2022-07-22T10:49:09.185320Z",
     "iopub.status.busy": "2022-07-22T10:49:09.184886Z",
     "iopub.status.idle": "2022-07-22T10:52:06.439525Z",
     "shell.execute_reply": "2022-07-22T10:52:06.438217Z"
    },
    "papermill": {
     "duration": 177.280751,
     "end_time": "2022-07-22T10:52:06.442700",
     "exception": false,
     "start_time": "2022-07-22T10:49:09.161949",
     "status": "completed"
    },
    "tags": []
   },
   "outputs": [
    {
     "data": {
      "image/png": "[encoded data removed]",
      "text/plain": [
       "<Figure size 432x288 with 1 Axes>"
      ]
     },
     "metadata": {
      "needs_background": "light"
     },
     "output_type": "display_data"
    },
    {
     "data": {
      "image/png": "[encoded data removed]",
      "text/plain": [
       "<Figure size 432x288 with 1 Axes>"
      ]
     },
     "metadata": {
      "needs_background": "light"
     },
     "output_type": "display_data"
    }
   ],
   "source": [
    "#Training the ABC_GAN \n",
    "ABC_train_test2.training_GAN(disc2,gen2,disc_opt,gen_opt,train_data,batch_size,n_epochs,criterion,prior_model,variance,bias,device)"
   ]
  },
  {
   "cell_type": "code",
   "execution_count": 17,
   "id": "ee2669bb",
   "metadata": {
    "execution": {
     "iopub.execute_input": "2022-07-22T10:52:06.479738Z",
     "iopub.status.busy": "2022-07-22T10:52:06.479163Z",
     "iopub.status.idle": "2022-07-22T10:52:08.378826Z",
     "shell.execute_reply": "2022-07-22T10:52:08.377607Z"
    },
    "papermill": {
     "duration": 1.92359,
     "end_time": "2022-07-22T10:52:08.383056",
     "exception": false,
     "start_time": "2022-07-22T10:52:06.459466",
     "status": "completed"
    },
    "tags": []
   },
   "outputs": [
    {
     "data": {
      "application/scrapbook.scrap.json+json": {
       "data": 0.3266351371982973,
       "encoder": "json",
       "name": "ABC-GAN Model 1 MSE",
       "version": 1
      }
     },
     "metadata": {
      "scrapbook": {
       "data": true,
       "display": false,
       "name": "ABC-GAN Model 1 MSE"
      }
     },
     "output_type": "display_data"
    },
    {
     "data": {
      "application/scrapbook.scrap.json+json": {
       "data": 0.4515164520954713,
       "encoder": "json",
       "name": "ABC-GAN Model 1 MAE",
       "version": 1
      }
     },
     "metadata": {
      "scrapbook": {
       "data": true,
       "display": false,
       "name": "ABC-GAN Model 1 MAE"
      }
     },
     "output_type": "display_data"
    },
    {
     "data": {
      "application/scrapbook.scrap.json+json": {
       "data": 9.030329041909427,
       "encoder": "json",
       "name": "ABC-GAN Model 1 Manhattan Distance",
       "version": 1
      }
     },
     "metadata": {
      "scrapbook": {
       "data": true,
       "display": false,
       "name": "ABC-GAN Model 1 Manhattan Distance"
      }
     },
     "output_type": "display_data"
    },
    {
     "data": {
      "application/scrapbook.scrap.json+json": {
       "data": 2.5470046599215266,
       "encoder": "json",
       "name": "ABC-GAN Model 1 Euclidean distance",
       "version": 1
      }
     },
     "metadata": {
      "scrapbook": {
       "data": true,
       "display": false,
       "name": "ABC-GAN Model 1 Euclidean distance"
      }
     },
     "output_type": "display_data"
    },
    {
     "data": {
      "application/scrapbook.scrap.json+json": {
       "data": [
        [
         0.3062625422276629,
         0.1994557714861154,
         0.2712816680320006,
         0.31026537916406716,
         0.2781046369084762,
         0.4024655682510815,
         0.2882331625528728,
         0.40615157366747623,
         0.3685395995292589,
         0.27107222471337894,
         0.3110824225005671,
         0.313309809153667,
         0.37195631282862984,
         0.28246231448555437,
         0.33601041988752434,
         0.2718336677269755,
         0.3510571861687622,
         0.3843433637836679,
         0.2784043907818873,
         0.34557567463738764,
         0.3779580881345137,
         0.44000677053130477,
         0.36685239665556196,
         0.23531964090848462,
         0.34544388524127484,
         0.40180420248676796,
         0.4023681968107124,
         0.3650607908408301,
         0.30187735150904377,
         0.29575949543160196,
         0.37061111049495116,
         0.333750589065139,
         0.3671574497359873,
         0.3145870943334828,
         0.3828831651304395,
         0.41985480462712876,
         0.2514796105571804,
         0.41321030604192,
         0.376683366818671,
         0.328992973140697,
         0.2798309944659203,
         0.3892178585724983,
         0.2561537407529629,
         0.36375624062070455,
         0.32106426627735457,
         0.36233145574471304,
         0.38112461012328624,
         0.26025527113268687,
         0.3788681573817775,
         0.32544700413928573,
         0.3369491247120253,
         0.3853770205784977,
         0.25782801352567597,
         0.2933441916333756,
         0.3727169202046985,
         0.27348698445406333,
         0.28962281466115075,
         0.4649312763816371,
         0.32199602921556586,
         0.32293306463263954,
         0.24945281513993725,
         0.3172552967603023,
         0.3559538291553139,
         0.23673901589269625,
         0.35294755788203735,
         0.3379394670373748,
         0.3737319767582351,
         0.25880120498198744,
         0.3632138639066517,
         0.3515205148775256,
         0.3563725532385621,
         0.3314973904327023,
         0.37087444982626666,
         0.32324591646405654,
         0.26784277956285807,
         0.26591482561929686,
         0.39411500788089054,
         0.24624649428940018,
         0.3509575446513478,
         0.30671998181093546,
         0.2839199568492101,
         0.35136373590082587,
         0.3957659184648831,
         0.29661982869730463,
         0.2369250491424876,
         0.2304034239178611,
         0.3394276780581681,
         0.37062911957111766,
         0.31468795343841005,
         0.3255887073114232,
         0.2959685812555267,
         0.24471862255177762,
         0.34704927633307114,
         0.37251930586713433,
         0.34205226864917104,
         0.2527085954726008,
         0.23738261080175405,
         0.3560358854036399,
         0.3304081448973467,
         0.25123255488440915
        ],
        [
         0.4442754867952317,
         0.3737915999721736,
         0.42895752186886965,
         0.4397177319508046,
         0.4367549817543477,
         0.4920488394331187,
         0.44499053242616354,
         0.481771443085745,
         0.48106818753294645,
         0.4216753378044814,
         0.4468109219800681,
         0.4318670480977744,
         0.48238186347298323,
         0.41512901284731923,
         0.4423665843438357,
         0.431290048873052,
         0.47864327798597517,
         0.4922857915516943,
         0.41817471901886166,
         0.45452235895209014,
         0.49261018144898117,
         0.5133224894758314,
         0.4793905984144658,
         0.40267100031487646,
         0.4671167160850018,
         0.5030433631036431,
         0.4653972098138183,
         0.4782513504382223,
         0.45713663804344834,
         0.4338298938702792,
         0.4378253712784499,
         0.4810852225404233,
         0.45767904478125276,
         0.45899751004762945,
         0.4764231964480132,
         0.47694023880176245,
         0.39001231114380064,
         0.49291195315308867,
         0.49265611725859343,
         0.4512876294087619,
         0.42956937397830186,
         0.5106560769956558,
         0.41419334667734803,
         0.4961628300603479,
         0.4458218783605844,
         0.47835827744565906,
         0.48587009250186386,
         0.4189574249554425,
         0.4906194746028632,
         0.4514003514777869,
         0.4541077248286456,
         0.4925394195597619,
         0.41894151545129715,
         0.4299482006113976,
         0.48619970115832983,
         0.43920536558143797,
         0.4418430801015347,
         0.5161146293859928,
         0.4425491980742663,
         0.4018454361241311,
         0.39394877213053403,
         0.46752640302293,
         0.4672519579064101,
         0.38477115142159163,
         0.4790889389347285,
         0.4575123860966414,
         0.4830735351424664,
         0.4218300226610154,
         0.4746032759081572,
         0.4737984232138842,
         0.4703238803427666,
         0.4374571322929114,
         0.4765897426288575,
         0.4371286917012185,
         0.43009578245691954,
         0.4069270311389118,
         0.5137961798813194,
         0.3890907659661025,
         0.45814982648007574,
         0.44932474638335407,
         0.4335354011040181,
         0.4793210288975388,
         0.49990864950232206,
         0.42176474812440573,
         0.38803848321549594,
         0.3911672699730843,
         0.4417012311052531,
         0.4876450273673981,
         0.45822499352507295,
         0.45922746234573425,
         0.44914977229200304,
         0.40631739641539755,
         0.44607526282779875,
         0.4752183448057622,
         0.4527147316839546,
         0.4130485176574439,
         0.38209499982185663,
         0.47406033682636917,
         0.42267293254844845,
         0.4054552502464503
        ],
        [
         8.885509735904634,
         7.475831999443471,
         8.579150437377393,
         8.794354639016092,
         8.735099635086954,
         9.840976788662374,
         8.899810648523271,
         9.6354288617149,
         9.62136375065893,
         8.433506756089628,
         8.936218439601362,
         8.637340961955488,
         9.647637269459665,
         8.302580256946385,
         8.847331686876714,
         8.62580097746104,
         9.572865559719503,
         9.845715831033885,
         8.363494380377233,
         9.090447179041803,
         9.852203628979623,
         10.266449789516628,
         9.587811968289316,
         8.053420006297529,
         9.342334321700037,
         10.060867262072861,
         9.307944196276367,
         9.565027008764446,
         9.142732760868967,
         8.676597877405584,
         8.756507425568998,
         9.621704450808465,
         9.153580895625055,
         9.17995020095259,
         9.528463928960264,
         9.53880477603525,
         7.800246222876012,
         9.858239063061774,
         9.853122345171869,
         9.025752588175237,
         8.591387479566038,
         10.213121539913118,
         8.28386693354696,
         9.923256601206958,
         8.916437567211688,
         9.56716554891318,
         9.717401850037277,
         8.379148499108851,
         9.812389492057264,
         9.028007029555738,
         9.082154496572912,
         9.850788391195238,
         8.378830309025943,
         8.598964012227952,
         9.723994023166597,
         8.784107311628759,
         8.836861602030694,
         10.322292587719858,
         8.850983961485326,
         8.036908722482622,
         7.878975442610681,
         9.3505280604586,
         9.345039158128202,
         7.695423028431833,
         9.58177877869457,
         9.150247721932828,
         9.661470702849329,
         8.436600453220308,
         9.492065518163145,
         9.475968464277685,
         9.406477606855333,
         8.749142645858228,
         9.53179485257715,
         8.74257383402437,
         8.601915649138391,
         8.138540622778237,
         10.275923597626388,
         7.78181531932205,
         9.162996529601514,
         8.986494927667081,
         8.670708022080362,
         9.586420577950776,
         9.998172990046442,
         8.435294962488115,
         7.760769664309919,
         7.823345399461687,
         8.834024622105062,
         9.752900547347963,
         9.164499870501459,
         9.184549246914685,
         8.98299544584006,
         8.12634792830795,
         8.921505256555974,
         9.504366896115243,
         9.054294633679092,
         8.260970353148878,
         7.641899996437132,
         9.481206736527383,
         8.453458650968969,
         8.109105004929006
        ],
        [
         2.474924411886807,
         1.9972770037534373,
         2.329298898947924,
         2.491045479970477,
         2.358408942098364,
         2.8371308332577176,
         2.400971314084668,
         2.8500932394133223,
         2.7149202549218967,
         2.3283995564051243,
         2.4943232448925587,
         2.5032371407985585,
         2.7274761697533854,
         2.376814315362285,
         2.592336474640298,
         2.3316675051429416,
         2.6497440863931074,
         2.7725200225919666,
         2.359679600207991,
         2.628975749745089,
         2.7493929807668955,
         2.966502218206839,
         2.7086985681524696,
         2.1694222314177782,
         2.6284744063478147,
         2.8347987670618457,
         2.8367876085837387,
         2.702076204850004,
         2.457142045177868,
         2.432116343564189,
         2.7225396617678546,
         2.5836044165666654,
         2.709824532090546,
         2.5083344846071975,
         2.7672483268779455,
         2.897774334302548,
         2.2426752353257946,
         2.874753227815981,
         2.7447526912954143,
         2.565123673980251,
         2.3657176267083115,
         2.790046087692812,
         2.2634210423735257,
         2.6972439289790033,
         2.534025517935266,
         2.6919563731409655,
         2.76088612631266,
         2.281470013533761,
         2.752701063979805,
         2.551262448825231,
         2.5959550254656776,
         2.7762457404865937,
         2.270806083863948,
         2.4221651125940014,
         2.7302634312633587,
         2.3387474615873485,
         2.4067522292963637,
         3.0493647744461048,
         2.537699860958998,
         2.5413896381021135,
         2.2336195519377835,
         2.518949371306626,
         2.6681597746586085,
         2.1759550358070188,
         2.6568686752718413,
         2.5997671704880605,
         2.7339787005689535,
         2.2750877125156626,
         2.695232323591611,
         2.65149208890966,
         2.6697286500262987,
         2.57486850317721,
         2.7235067461868594,
         2.5426203667242837,
         2.314488192075553,
         2.3061432115950513,
         2.807543438242374,
         2.219218305121874,
         2.649368017665148,
         2.476772019427446,
         2.382939180294831,
         2.650900737111165,
         2.813417560423206,
         2.435651160151242,
         2.1768098177952413,
         2.146641208576138,
         2.605485283236764,
         2.722605809040735,
         2.5087365482984065,
         2.5518178121152113,
         2.4329758784481474,
         2.212322863199572,
         2.63457501822617,
         2.7295395430992913,
         2.615539212664077,
         2.2481485514645194,
         2.1789107866168087,
         2.66846729567233,
         2.570634726667119,
         2.2415733531803466
        ]
       ],
       "encoder": "json",
       "name": "ABC_GAN_2 Metrics",
       "version": 1
      }
     },
     "metadata": {
      "scrapbook": {
       "data": true,
       "display": false,
       "name": "ABC_GAN_2 Metrics"
      }
     },
     "output_type": "display_data"
    },
    {
     "name": "stdout",
     "output_type": "stream",
     "text": [
      "MAE\n",
      "0.4515164520954713\n"
     ]
    }
   ],
   "source": [
    "ABC_GAN2_metrics=ABC_train_test2.test_generator(gen2,test_data,prior_model,variance,bias,\"1\",device)\n",
    "sb.glue(\"ABC_GAN_2 Metrics\",ABC_GAN2_metrics)\n",
    "\n",
    "print(\"MAE\")\n",
    "print(mean(ABC_GAN2_metrics[1]))"
   ]
  },
  {
   "cell_type": "code",
   "execution_count": 18,
   "id": "aa15a266",
   "metadata": {
    "execution": {
     "iopub.execute_input": "2022-07-22T10:52:08.424254Z",
     "iopub.status.busy": "2022-07-22T10:52:08.423329Z",
     "iopub.status.idle": "2022-07-22T10:52:09.387079Z",
     "shell.execute_reply": "2022-07-22T10:52:09.385396Z"
    },
    "papermill": {
     "duration": 0.988063,
     "end_time": "2022-07-22T10:52:09.390047",
     "exception": false,
     "start_time": "2022-07-22T10:52:08.401984",
     "status": "completed"
    },
    "tags": []
   },
   "outputs": [
    {
     "data": {
      "image/png": "[encoded data removed]",
      "text/plain": [
       "<Figure size 432x288 with 1 Axes>"
      ]
     },
     "metadata": {
      "needs_background": "light"
     },
     "output_type": "display_data"
    },
    {
     "data": {
      "image/png": "[encoded data removed]",
      "text/plain": [
       "<Figure size 432x288 with 1 Axes>"
      ]
     },
     "metadata": {
      "needs_background": "light"
     },
     "output_type": "display_data"
    },
    {
     "data": {
      "image/png": "[encoded data removed]",
      "text/plain": [
       "<Figure size 432x288 with 1 Axes>"
      ]
     },
     "metadata": {
      "needs_background": "light"
     },
     "output_type": "display_data"
    },
    {
     "data": {
      "image/png": "[encoded data removed]",
      "text/plain": [
       "<Figure size 432x288 with 1 Axes>"
      ]
     },
     "metadata": {
      "needs_background": "light"
     },
     "output_type": "display_data"
    }
   ],
   "source": [
    "sanityChecks.discProbVsError(train_data,disc2,device)\n",
    "sanityChecks.discProbVsError(test_data,disc2,device)"
   ]
  },
  {
   "cell_type": "markdown",
   "id": "130f3a4d",
   "metadata": {
    "id": "130f3a4d",
    "papermill": {
     "duration": 0.022774,
     "end_time": "2022-07-22T10:52:09.434344",
     "exception": false,
     "start_time": "2022-07-22T10:52:09.411570",
     "status": "completed"
    },
    "tags": []
   },
   "source": [
    "# skipGAN Model"
   ]
  },
  {
   "cell_type": "code",
   "execution_count": 19,
   "id": "4e43dad1",
   "metadata": {
    "execution": {
     "iopub.execute_input": "2022-07-22T10:52:09.482556Z",
     "iopub.status.busy": "2022-07-22T10:52:09.482156Z",
     "iopub.status.idle": "2022-07-22T10:52:09.488321Z",
     "shell.execute_reply": "2022-07-22T10:52:09.486643Z"
    },
    "id": "4e43dad1",
    "papermill": {
     "duration": 0.03724,
     "end_time": "2022-07-22T10:52:09.493157",
     "exception": false,
     "start_time": "2022-07-22T10:52:09.455917",
     "status": "completed"
    },
    "tags": []
   },
   "outputs": [],
   "source": [
    "# #Generator\n",
    "# gen3 = network.GeneratorWithSkipConnection(n_features+1).to(device)\n",
    "# constraints=network.weightConstraint()\n",
    "# #Discriminator \n",
    "# disc3 = network.Discriminator(n_features+1).to(device)\n",
    "\n",
    "# criterion = torch.nn.BCELoss()\n",
    "# gen_opt = torch.optim.Adam(gen3.parameters(), lr=0.01, betas=(0.5, 0.999))\n",
    "# disc_opt = torch.optim.Adam(disc3.parameters(), lr=0.01, betas=(0.5, 0.999))\n"
   ]
  },
  {
   "cell_type": "code",
   "execution_count": 20,
   "id": "26acbc37",
   "metadata": {
    "execution": {
     "iopub.execute_input": "2022-07-22T10:52:09.542749Z",
     "iopub.status.busy": "2022-07-22T10:52:09.542017Z",
     "iopub.status.idle": "2022-07-22T10:52:09.547531Z",
     "shell.execute_reply": "2022-07-22T10:52:09.545982Z"
    },
    "id": "26acbc37",
    "papermill": {
     "duration": 0.035171,
     "end_time": "2022-07-22T10:52:09.552524",
     "exception": false,
     "start_time": "2022-07-22T10:52:09.517353",
     "status": "completed"
    },
    "tags": []
   },
   "outputs": [],
   "source": [
    "# ABC_train_test2.training_GAN_skip_connection(disc3,gen3,disc_opt,gen_opt,train_data,batch_size,n_epochs,criterion,prior_model,variance,bias,device)"
   ]
  },
  {
   "cell_type": "code",
   "execution_count": 21,
   "id": "c5e0717b",
   "metadata": {
    "execution": {
     "iopub.execute_input": "2022-07-22T10:52:09.599145Z",
     "iopub.status.busy": "2022-07-22T10:52:09.598290Z",
     "iopub.status.idle": "2022-07-22T10:52:09.603235Z",
     "shell.execute_reply": "2022-07-22T10:52:09.602161Z"
    },
    "id": "c5e0717b",
    "papermill": {
     "duration": 0.031818,
     "end_time": "2022-07-22T10:52:09.606223",
     "exception": false,
     "start_time": "2022-07-22T10:52:09.574405",
     "status": "completed"
    },
    "tags": []
   },
   "outputs": [],
   "source": [
    "# ABC_GAN3_metrics=ABC_train_test2.test_generator(gen3,test_data,prior_model,variance,bias,\"3\",device)\n",
    "# sb.glue(\"ABC_GAN_3 Metrics\",ABC_GAN3_metrics)\n",
    "\n",
    "# print(\"MAE\")\n",
    "# print(mean(ABC_GAN3_metrics[1]))"
   ]
  },
  {
   "cell_type": "code",
   "execution_count": 22,
   "id": "c8e46b48",
   "metadata": {
    "execution": {
     "iopub.execute_input": "2022-07-22T10:52:09.659217Z",
     "iopub.status.busy": "2022-07-22T10:52:09.658880Z",
     "iopub.status.idle": "2022-07-22T10:52:09.663492Z",
     "shell.execute_reply": "2022-07-22T10:52:09.662035Z"
    },
    "id": "c8e46b48",
    "papermill": {
     "duration": 0.033176,
     "end_time": "2022-07-22T10:52:09.667796",
     "exception": false,
     "start_time": "2022-07-22T10:52:09.634620",
     "status": "completed"
    },
    "tags": []
   },
   "outputs": [],
   "source": [
    "# sanityChecks.discProbVsError(train_data,disc3,device)\n",
    "# sanityChecks.discProbVsError(test_data,disc3,device)"
   ]
  },
  {
   "cell_type": "markdown",
   "id": "8877f696",
   "metadata": {
    "id": "130f3a4d",
    "papermill": {
     "duration": 0.022482,
     "end_time": "2022-07-22T10:52:09.712409",
     "exception": false,
     "start_time": "2022-07-22T10:52:09.689927",
     "status": "completed"
    },
    "tags": []
   },
   "source": [
    "# skipGAN Model with TabNet Generator"
   ]
  },
  {
   "cell_type": "code",
   "execution_count": 23,
   "id": "e30f1e2a",
   "metadata": {
    "execution": {
     "iopub.execute_input": "2022-07-22T10:52:09.767368Z",
     "iopub.status.busy": "2022-07-22T10:52:09.766712Z",
     "iopub.status.idle": "2022-07-22T10:52:09.786697Z",
     "shell.execute_reply": "2022-07-22T10:52:09.785640Z"
    },
    "id": "4e43dad1",
    "papermill": {
     "duration": 0.048749,
     "end_time": "2022-07-22T10:52:09.789839",
     "exception": false,
     "start_time": "2022-07-22T10:52:09.741090",
     "status": "completed"
    },
    "tags": []
   },
   "outputs": [],
   "source": [
    "#Generator\n",
    "gen4 = network.GeneratorTabnetskipConnection(n_features+1).to(device)\n",
    "constraints=network.weightConstraint()\n",
    "#Discriminator \n",
    "disc4 = network.Discriminator(n_features+1).to(device)\n",
    "\n",
    "criterion = torch.nn.BCELoss()\n",
    "gen_opt = torch.optim.Adam(gen4.parameters(), lr=0.001, betas=(0.5, 0.999))\n",
    "disc_opt = torch.optim.Adam(disc4.parameters(), lr=0.001, betas=(0.5, 0.999))\n"
   ]
  },
  {
   "cell_type": "code",
   "execution_count": 24,
   "id": "33d55f53",
   "metadata": {
    "execution": {
     "iopub.execute_input": "2022-07-22T10:52:09.840294Z",
     "iopub.status.busy": "2022-07-22T10:52:09.839705Z",
     "iopub.status.idle": "2022-07-22T10:55:31.396197Z",
     "shell.execute_reply": "2022-07-22T10:55:31.390509Z"
    },
    "id": "26acbc37",
    "papermill": {
     "duration": 201.586131,
     "end_time": "2022-07-22T10:55:31.399156",
     "exception": false,
     "start_time": "2022-07-22T10:52:09.813025",
     "status": "completed"
    },
    "tags": []
   },
   "outputs": [
    {
     "data": {
      "image/png": "[encoded data removed]",
      "text/plain": [
       "<Figure size 432x288 with 1 Axes>"
      ]
     },
     "metadata": {
      "needs_background": "light"
     },
     "output_type": "display_data"
    },
    {
     "data": {
      "image/png": "[encoded data removed]",
      "text/plain": [
       "<Figure size 432x288 with 1 Axes>"
      ]
     },
     "metadata": {
      "needs_background": "light"
     },
     "output_type": "display_data"
    }
   ],
   "source": [
    "ABC_train_test2.training_GAN_skip_connection(disc4,gen4,disc_opt,gen_opt,train_data,batch_size,n_epochs,criterion,prior_model,variance,bias,device)"
   ]
  },
  {
   "cell_type": "code",
   "execution_count": 25,
   "id": "c969185b",
   "metadata": {
    "execution": {
     "iopub.execute_input": "2022-07-22T10:55:31.448079Z",
     "iopub.status.busy": "2022-07-22T10:55:31.447664Z",
     "iopub.status.idle": "2022-07-22T10:55:33.414526Z",
     "shell.execute_reply": "2022-07-22T10:55:33.413660Z"
    },
    "id": "c5e0717b",
    "papermill": {
     "duration": 1.994149,
     "end_time": "2022-07-22T10:55:33.417677",
     "exception": false,
     "start_time": "2022-07-22T10:55:31.423528",
     "status": "completed"
    },
    "tags": []
   },
   "outputs": [
    {
     "data": {
      "application/scrapbook.scrap.json+json": {
       "data": 0.47348837197690086,
       "encoder": "json",
       "name": "ABC-GAN Model 3 MSE",
       "version": 1
      }
     },
     "metadata": {
      "scrapbook": {
       "data": true,
       "display": false,
       "name": "ABC-GAN Model 3 MSE"
      }
     },
     "output_type": "display_data"
    },
    {
     "data": {
      "application/scrapbook.scrap.json+json": {
       "data": 0.48242130483919754,
       "encoder": "json",
       "name": "ABC-GAN Model 3 MAE",
       "version": 1
      }
     },
     "metadata": {
      "scrapbook": {
       "data": true,
       "display": false,
       "name": "ABC-GAN Model 3 MAE"
      }
     },
     "output_type": "display_data"
    },
    {
     "data": {
      "application/scrapbook.scrap.json+json": {
       "data": 9.64842609678395,
       "encoder": "json",
       "name": "ABC-GAN Model 3 Manhattan Distance",
       "version": 1
      }
     },
     "metadata": {
      "scrapbook": {
       "data": true,
       "display": false,
       "name": "ABC-GAN Model 3 Manhattan Distance"
      }
     },
     "output_type": "display_data"
    },
    {
     "data": {
      "application/scrapbook.scrap.json+json": {
       "data": 3.0599416219338247,
       "encoder": "json",
       "name": "ABC-GAN Model 3 Euclidean distance",
       "version": 1
      }
     },
     "metadata": {
      "scrapbook": {
       "data": true,
       "display": false,
       "name": "ABC-GAN Model 3 Euclidean distance"
      }
     },
     "output_type": "display_data"
    },
    {
     "data": {
      "application/scrapbook.scrap.json+json": {
       "data": [
        [
         0.5077850084936276,
         0.3889086863731269,
         0.4092322049286417,
         0.40500284089727234,
         0.45173277077266827,
         0.9210743840566973,
         0.5691886708297681,
         0.5112234779630664,
         0.47494164225581004,
         0.5096581456329236,
         0.4677200202023893,
         0.5256064629762219,
         0.4139926959305022,
         0.5141491572423519,
         0.3686024221795646,
         0.4672205686047959,
         0.5419944523649461,
         0.45988329075643924,
         0.47874610692233166,
         0.46404017865148395,
         0.4330540674186705,
         0.3538444634089677,
         0.4347903951590566,
         0.38714286421216626,
         0.3952150025035652,
         0.33734150417192144,
         0.4644158919069653,
         0.5528071557145134,
         0.4781091694405135,
         0.4338701658289338,
         0.7779380287557871,
         0.4392994075977998,
         0.36538959739095006,
         0.3619252675813042,
         0.4460319574199942,
         0.41285246810710446,
         0.4676916413637152,
         0.5343490334264394,
         0.5199463321619064,
         0.45035838164256514,
         0.47220459480603605,
         0.7640245994373713,
         0.47411395471267187,
         0.41272519067328234,
         0.4952742395287559,
         0.7564173722880937,
         0.39942578547698987,
         0.39183401957826836,
         0.43703445263305307,
         0.4908288365668357,
         0.5717292112397842,
         0.45760781107533577,
         0.5709129001578711,
         0.43318274258596573,
         0.5476881154426385,
         0.4659128444982195,
         0.7323015910226018,
         0.8762911018517489,
         0.46654854631160714,
         0.4983711247437701,
         0.5153251906275962,
         0.4962108791312979,
         0.545107434836525,
         0.4903293911360135,
         0.5412597991807142,
         0.3885425963521063,
         0.3335876861022796,
         0.43157694524512563,
         0.5366720789409138,
         0.441461906390478,
         0.38162170091587544,
         0.3791002617865069,
         0.43037979152003814,
         0.3231985379798139,
         0.44114629605287414,
         0.48613480098740974,
         0.267257817638669,
         0.33101457217384966,
         0.531704765657513,
         0.5193860957617081,
         0.45778776537028765,
         0.5285924849499943,
         0.40214041723298194,
         0.42519838859211473,
         0.31132487917665846,
         0.3937132753552203,
         0.3007976444772674,
         0.4510617035355266,
         0.48225320153399254,
         0.4640080635854217,
         0.44385488773659265,
         0.5040975778977506,
         0.4320980304110926,
         0.42379760019853163,
         0.44679078661846,
         0.5932079509699074,
         0.4488683305617818,
         0.4438845538153692,
         0.42638365084296304,
         0.5464524385324958
        ],
        [
         0.524475623993203,
         0.45946231330744924,
         0.41245836545713244,
         0.42847898225300013,
         0.4471863173414022,
         0.6121515541803092,
         0.5466853729914873,
         0.4978571459185332,
         0.4982933659572154,
         0.5049260136671364,
         0.47382962773554027,
         0.5248460735660047,
         0.43571081417612734,
         0.535354933468625,
         0.42653799275867643,
         0.47500585853122174,
         0.5534042503219098,
         0.48292865077964964,
         0.4758505481760949,
         0.514257064415142,
         0.5241621458437293,
         0.4168689131271094,
         0.481065641855821,
         0.41714362795464693,
         0.4144942961167544,
         0.46047082557342944,
         0.4800253935623914,
         0.5591943650506437,
         0.5014354333747179,
         0.4292407916393131,
         0.47940739183686676,
         0.47949833939783276,
         0.437999326037243,
         0.4320951947476715,
         0.4824935958255082,
         0.49077916140668093,
         0.47501613828353584,
         0.5052868753205985,
         0.48750950624234973,
         0.443821056233719,
         0.4817599144298583,
         0.5453956700395792,
         0.47506369589827957,
         0.44627695153467356,
         0.46909659351222216,
         0.5035684715490788,
         0.4114249251317233,
         0.4736556268762797,
         0.46740681868977846,
         0.49228702229447663,
         0.5202701655682176,
         0.5169904026668519,
         0.5510354190599174,
         0.43178917388431726,
         0.510659391945228,
         0.4547493643593043,
         0.5574452064465731,
         0.6075504879001528,
         0.5168544025626034,
         0.5230596731882542,
         0.49518124642781913,
         0.5062466165516526,
         0.5753059089649468,
         0.5125606774818152,
         0.5281319439876825,
         0.4202012605499476,
         0.4318570900242776,
         0.46662243665196,
         0.5479803397785872,
         0.4762983113061637,
         0.4447407313156873,
         0.4553292881231755,
         0.4662488516885787,
         0.4463519863318652,
         0.4752095616888255,
         0.5062995571177453,
         0.3773810393642634,
         0.43906956384889784,
         0.5516496207099408,
         0.5296405855100602,
         0.47673521977849304,
         0.5396153321955353,
         0.45023793508298693,
         0.431561427609995,
         0.42267136867158117,
         0.46223881575278936,
         0.3939285066910088,
         0.45195202375762167,
         0.4870477236341685,
         0.48980463757179676,
         0.4715805410873145,
         0.5219452175777406,
         0.47095526116900144,
         0.4435881030280143,
         0.4527305139694363,
         0.5785445767920464,
         0.474457225529477,
         0.44276121105067434,
         0.42908868701197206,
         0.5143312725704163
        ],
        [
         10.48951247986406,
         9.189246266148984,
         8.24916730914265,
         8.569579645060003,
         8.943726346828043,
         12.243031083606184,
         10.933707459829748,
         9.957142918370664,
         9.965867319144309,
         10.098520273342729,
         9.476592554710805,
         10.496921471320093,
         8.714216283522546,
         10.707098669372499,
         8.530759855173528,
         9.500117170624435,
         11.068085006438196,
         9.658573015592992,
         9.517010963521898,
         10.285141288302839,
         10.483242916874588,
         8.337378262542188,
         9.62131283711642,
         8.342872559092939,
         8.289885922335088,
         9.20941651146859,
         9.600507871247828,
         11.183887301012874,
         10.028708667494357,
         8.584815832786262,
         9.588147836737335,
         9.589966787956655,
         8.75998652074486,
         8.64190389495343,
         9.649871916510165,
         9.815583228133619,
         9.500322765670717,
         10.10573750641197,
         9.750190124846995,
         8.87642112467438,
         9.635198288597167,
         10.907913400791585,
         9.501273917965591,
         8.925539030693471,
         9.381931870244443,
         10.071369430981576,
         8.228498502634466,
         9.473112537525594,
         9.348136373795569,
         9.845740445889533,
         10.405403311364353,
         10.339808053337038,
         11.020708381198347,
         8.635783477686346,
         10.21318783890456,
         9.094987287186086,
         11.148904128931463,
         12.151009758003056,
         10.337088051252067,
         10.461193463765085,
         9.903624928556383,
         10.124932331033051,
         11.506118179298937,
         10.251213549636304,
         10.56263887975365,
         8.404025210998952,
         8.637141800485551,
         9.3324487330392,
         10.959606795571744,
         9.525966226123273,
         8.894814626313746,
         9.10658576246351,
         9.324977033771574,
         8.927039726637304,
         9.50419123377651,
         10.125991142354906,
         7.547620787285268,
         8.781391276977956,
         11.032992414198816,
         10.592811710201204,
         9.534704395569861,
         10.792306643910706,
         9.004758701659739,
         8.6312285521999,
         8.453427373431623,
         9.244776315055788,
         7.878570133820176,
         9.039040475152433,
         9.74095447268337,
         9.796092751435935,
         9.43161082174629,
         10.438904351554811,
         9.41910522338003,
         8.871762060560286,
         9.054610279388726,
         11.570891535840929,
         9.48914451058954,
         8.855224221013486,
         8.581773740239441,
         10.286625451408327
        ],
        [
         3.1868009303802696,
         2.7889377417688155,
         2.8608816995067854,
         2.8460598760295692,
         3.0057703530797832,
         4.292026057834918,
         3.3739847979200146,
         3.197572447851859,
         3.0820176581447747,
         3.192673317559827,
         3.0584964286472176,
         3.2422413943943837,
         2.87747353047948,
         3.206709083288822,
         2.715151642835312,
         3.056862995310048,
         3.292398676846248,
         3.032765374230058,
         3.0943371080809263,
         3.046441132375559,
         2.9429715167451773,
         2.660242332604185,
         2.9488655281618272,
         2.7825990160717238,
         2.811458705026859,
         2.597466088987194,
         3.047674168630779,
         3.3250779110105477,
         3.0922780257942963,
         2.9457432536761714,
         3.9444594781941595,
         2.9641167574770053,
         2.703292797278719,
         2.6904470542320813,
         2.9867439040533563,
         2.8735081976813794,
         3.058403640344797,
         3.269094778150182,
         3.2247366781239872,
         3.001194367722841,
         3.0731241263770523,
         3.909026987467268,
         3.079330949127332,
         2.8730652295876693,
         3.147298014261617,
         3.889517636643633,
         2.8263962407171075,
         2.799407150016833,
         2.9564656352917518,
         3.1331416711244824,
         3.381506206529227,
         3.0252530838769034,
         3.3790912984347465,
         2.943408712992355,
         3.3096468556105454,
         3.0525820038066773,
         3.8270134335343053,
         4.186385318748739,
         3.0546637992145946,
         3.1571225023548584,
         3.21037440379653,
         3.150272620365729,
         3.3018401985454258,
         3.1315471931172087,
         3.2901665586432376,
         2.787624782326726,
         2.582973813658511,
         2.937948077298595,
         3.2761931534661195,
         2.9714033936524946,
         2.762686015152194,
         2.7535441227135142,
         2.933870452218496,
         2.542434022663376,
         2.970341044570048,
         3.1181237980151133,
         2.31195941849622,
         2.5729927017924075,
         3.260996061504868,
         3.222998900904895,
         3.025847865872598,
         3.2514380970579597,
         2.835984545913401,
         2.9161563352883353,
         2.495295089470015,
         2.806112169373207,
         2.452743951077109,
         3.003536926809879,
         3.1056503394103867,
         3.046335712246507,
         2.9794458804837944,
         3.1752088998922594,
         2.939721178653148,
         2.911348828974404,
         2.989283481433168,
         3.4444388540658037,
         2.9962253939307764,
         2.9795454479345307,
         2.920217974203169,
         3.305911186140656
        ]
       ],
       "encoder": "json",
       "name": "ABC_GAN_4 Metrics",
       "version": 1
      }
     },
     "metadata": {
      "scrapbook": {
       "data": true,
       "display": false,
       "name": "ABC_GAN_4 Metrics"
      }
     },
     "output_type": "display_data"
    },
    {
     "name": "stdout",
     "output_type": "stream",
     "text": [
      "MAE\n",
      "0.48242130483919754\n"
     ]
    }
   ],
   "source": [
    "ABC_GAN4_metrics=ABC_train_test2.test_generator(gen4,test_data,prior_model,variance,bias,\"3\",device)\n",
    "sb.glue(\"ABC_GAN_4 Metrics\",ABC_GAN4_metrics)\n",
    "\n",
    "print(\"MAE\")\n",
    "print(mean(ABC_GAN4_metrics[1]))"
   ]
  },
  {
   "cell_type": "code",
   "execution_count": 26,
   "id": "ab1b1b26",
   "metadata": {
    "execution": {
     "iopub.execute_input": "2022-07-22T10:55:33.471857Z",
     "iopub.status.busy": "2022-07-22T10:55:33.471467Z",
     "iopub.status.idle": "2022-07-22T10:55:34.485840Z",
     "shell.execute_reply": "2022-07-22T10:55:34.484837Z"
    },
    "id": "c8e46b48",
    "papermill": {
     "duration": 1.044858,
     "end_time": "2022-07-22T10:55:34.488476",
     "exception": false,
     "start_time": "2022-07-22T10:55:33.443618",
     "status": "completed"
    },
    "tags": []
   },
   "outputs": [
    {
     "data": {
      "image/png": "[encoded data removed]",
      "text/plain": [
       "<Figure size 432x288 with 1 Axes>"
      ]
     },
     "metadata": {
      "needs_background": "light"
     },
     "output_type": "display_data"
    },
    {
     "data": {
      "image/png": "[encoded data removed]",
      "text/plain": [
       "<Figure size 432x288 with 1 Axes>"
      ]
     },
     "metadata": {
      "needs_background": "light"
     },
     "output_type": "display_data"
    },
    {
     "data": {
      "image/png": "[encoded data removed]",
      "text/plain": [
       "<Figure size 432x288 with 1 Axes>"
      ]
     },
     "metadata": {
      "needs_background": "light"
     },
     "output_type": "display_data"
    },
    {
     "data": {
      "image/png": "[encoded data removed]",
      "text/plain": [
       "<Figure size 432x288 with 1 Axes>"
      ]
     },
     "metadata": {
      "needs_background": "light"
     },
     "output_type": "display_data"
    }
   ],
   "source": [
    "sanityChecks.discProbVsError(train_data,disc4,device)\n",
    "sanityChecks.discProbVsError(test_data,disc4,device)"
   ]
  },
  {
   "cell_type": "markdown",
   "id": "a5bd74c3",
   "metadata": {
    "id": "a5bd74c3",
    "papermill": {
     "duration": 0.027227,
     "end_time": "2022-07-22T10:55:34.542812",
     "exception": false,
     "start_time": "2022-07-22T10:55:34.515585",
     "status": "completed"
    },
    "tags": []
   },
   "source": [
    "## Skip Connection Model Analysis - ABC-GAN "
   ]
  },
  {
   "cell_type": "markdown",
   "id": "5744a8bf",
   "metadata": {
    "id": "5744a8bf",
    "papermill": {
     "duration": 0.027605,
     "end_time": "2022-07-22T10:55:34.596605",
     "exception": false,
     "start_time": "2022-07-22T10:55:34.569000",
     "status": "completed"
    },
    "tags": []
   },
   "source": [
    "### Weight Analysis \n",
    "\n",
    "Study the weights of the skip connection layer\n",
    "\n",
    "Equation of the skip connection is \n",
    "\n",
    "$output = y_{gan} * w + y_{abc} * (1-w)$"
   ]
  },
  {
   "cell_type": "code",
   "execution_count": 27,
   "id": "52c31dea",
   "metadata": {
    "execution": {
     "iopub.execute_input": "2022-07-22T10:55:34.659714Z",
     "iopub.status.busy": "2022-07-22T10:55:34.659107Z",
     "iopub.status.idle": "2022-07-22T10:55:34.664475Z",
     "shell.execute_reply": "2022-07-22T10:55:34.663336Z"
    },
    "id": "52c31dea",
    "papermill": {
     "duration": 0.037092,
     "end_time": "2022-07-22T10:55:34.667727",
     "exception": false,
     "start_time": "2022-07-22T10:55:34.630635",
     "status": "completed"
    },
    "tags": []
   },
   "outputs": [],
   "source": [
    "# print(\"Weight of the node at skip connection\")\n",
    "# for name,param in gen3.named_parameters():\n",
    "#     if(name == \"skipNode.weight\"):\n",
    "#         print(param)\n",
    "#         sb.glue(\"Skip Connection Weight\",param.item())"
   ]
  },
  {
   "cell_type": "markdown",
   "id": "06e84a7e",
   "metadata": {
    "id": "a5bd74c3",
    "papermill": {
     "duration": 0.0271,
     "end_time": "2022-07-22T10:55:34.723385",
     "exception": false,
     "start_time": "2022-07-22T10:55:34.696285",
     "status": "completed"
    },
    "tags": []
   },
   "source": [
    "## skipGAN Model Analysis (TabNet Generator) "
   ]
  },
  {
   "cell_type": "markdown",
   "id": "222260e0",
   "metadata": {
    "id": "5744a8bf",
    "papermill": {
     "duration": 0.02934,
     "end_time": "2022-07-22T10:55:34.782974",
     "exception": false,
     "start_time": "2022-07-22T10:55:34.753634",
     "status": "completed"
    },
    "tags": []
   },
   "source": [
    "### Weight Analysis \n",
    "\n",
    "Study the weights of the skip connection layer\n",
    "\n",
    "Equation of the skip connection is \n",
    "\n",
    "$output = y_{gan} * w + y_{abc} * (1-w)$"
   ]
  },
  {
   "cell_type": "code",
   "execution_count": 28,
   "id": "c24a9a2c",
   "metadata": {
    "execution": {
     "iopub.execute_input": "2022-07-22T10:55:34.840003Z",
     "iopub.status.busy": "2022-07-22T10:55:34.839581Z",
     "iopub.status.idle": "2022-07-22T10:55:34.854548Z",
     "shell.execute_reply": "2022-07-22T10:55:34.853598Z"
    },
    "id": "52c31dea",
    "papermill": {
     "duration": 0.050023,
     "end_time": "2022-07-22T10:55:34.858736",
     "exception": false,
     "start_time": "2022-07-22T10:55:34.808713",
     "status": "completed"
    },
    "tags": []
   },
   "outputs": [
    {
     "name": "stdout",
     "output_type": "stream",
     "text": [
      "Weight of the node at skip connection\n",
      "Parameter containing:\n",
      "tensor([[0.8708]], requires_grad=True)\n"
     ]
    },
    {
     "data": {
      "application/scrapbook.scrap.json+json": {
       "data": 0.8707854747772217,
       "encoder": "json",
       "name": "Skip Connection Weight",
       "version": 1
      }
     },
     "metadata": {
      "scrapbook": {
       "data": true,
       "display": false,
       "name": "Skip Connection Weight"
      }
     },
     "output_type": "display_data"
    }
   ],
   "source": [
    "print(\"Weight of the node at skip connection\")\n",
    "for name,param in gen4.named_parameters():\n",
    "    if(name == \"skipNode.weight\"):\n",
    "        print(param)\n",
    "        sb.glue(\"Skip Connection Weight\",param.item())"
   ]
  }
 ],
 "metadata": {
  "colab": {
   "collapsed_sections": [],
   "name": "ABC_GAN_Model-Catboost_Pre-gen.ipynb",
   "provenance": []
  },
  "interpreter": {
   "hash": "31f2aee4e71d21fbe5cf8b01ff0e069b9275f58929596ceb00d14d90e3e16cd6"
  },
  "kernelspec": {
   "display_name": "Python 3 (ipykernel)",
   "language": "python",
   "name": "python3"
  },
  "language_info": {
   "codemirror_mode": {
    "name": "ipython",
    "version": 3
   },
   "file_extension": ".py",
   "mimetype": "text/x-python",
   "name": "python",
   "nbconvert_exporter": "python",
   "pygments_lexer": "ipython3",
   "version": "3.8.13"
  },
  "papermill": {
   "default_parameters": {},
   "duration": 426.406654,
   "end_time": "2022-07-22T10:55:35.650806",
   "environment_variables": {},
   "exception": null,
   "input_path": "ABC_GAN-TabNet.ipynb",
   "output_path": "./ABC_GAN_TabNet/ABC-GAN_output_2_9.ipynb",
   "parameters": {
    "bias": 0,
    "variance": 1
   },
   "start_time": "2022-07-22T10:48:29.244152",
   "version": "2.3.3"
  }
 },
 "nbformat": 4,
 "nbformat_minor": 5
}