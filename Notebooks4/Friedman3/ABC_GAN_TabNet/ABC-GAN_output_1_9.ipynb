{
 "cells": [
  {
   "cell_type": "markdown",
   "id": "622780e6",
   "metadata": {
    "id": "622780e6",
    "papermill": {
     "duration": 0.008334,
     "end_time": "2022-07-22T09:10:03.563138",
     "exception": false,
     "start_time": "2022-07-22T09:10:03.554804",
     "status": "completed"
    },
    "tags": []
   },
   "source": [
    "## Import Libraries "
   ]
  },
  {
   "cell_type": "code",
   "execution_count": 1,
   "id": "a62397e3",
   "metadata": {
    "execution": {
     "iopub.execute_input": "2022-07-22T09:10:03.581602Z",
     "iopub.status.busy": "2022-07-22T09:10:03.580986Z",
     "iopub.status.idle": "2022-07-22T09:10:03.594838Z",
     "shell.execute_reply": "2022-07-22T09:10:03.593097Z"
    },
    "id": "a62397e3",
    "papermill": {
     "duration": 0.029768,
     "end_time": "2022-07-22T09:10:03.600321",
     "exception": false,
     "start_time": "2022-07-22T09:10:03.570553",
     "status": "completed"
    },
    "tags": []
   },
   "outputs": [],
   "source": [
    "import warnings\n",
    "import sys\n",
    "sys.path.insert(0, '../../src')\n",
    "warnings.filterwarnings('ignore')"
   ]
  },
  {
   "cell_type": "code",
   "execution_count": 2,
   "id": "d6a4e155",
   "metadata": {
    "execution": {
     "iopub.execute_input": "2022-07-22T09:10:03.618644Z",
     "iopub.status.busy": "2022-07-22T09:10:03.618242Z",
     "iopub.status.idle": "2022-07-22T09:10:11.899614Z",
     "shell.execute_reply": "2022-07-22T09:10:11.898517Z"
    },
    "id": "d6a4e155",
    "papermill": {
     "duration": 8.293747,
     "end_time": "2022-07-22T09:10:11.902444",
     "exception": false,
     "start_time": "2022-07-22T09:10:03.608697",
     "status": "completed"
    },
    "tags": []
   },
   "outputs": [],
   "source": [
    "import ABC_train_test2\n",
    "import friedman3Dataset\n",
    "import network\n",
    "import dataset\n",
    "import sanityChecks\n",
    "import torch \n",
    "import scrapbook as sb\n",
    "from statistics import mean \n",
    "import catboost as ctb \n",
    "from sklearn.model_selection import train_test_split\n",
    "from sklearn.metrics import mean_squared_error,mean_absolute_error\n",
    "import numpy as np\n",
    "from pytorch_tabnet.tab_model import TabNetRegressor"
   ]
  },
  {
   "cell_type": "markdown",
   "id": "2fa5b0f7",
   "metadata": {
    "id": "2fa5b0f7",
    "papermill": {
     "duration": 0.007607,
     "end_time": "2022-07-22T09:10:11.918104",
     "exception": false,
     "start_time": "2022-07-22T09:10:11.910497",
     "status": "completed"
    },
    "tags": []
   },
   "source": [
    "## Parameters "
   ]
  },
  {
   "cell_type": "code",
   "execution_count": 3,
   "id": "783186fb",
   "metadata": {
    "execution": {
     "iopub.execute_input": "2022-07-22T09:10:11.936824Z",
     "iopub.status.busy": "2022-07-22T09:10:11.936281Z",
     "iopub.status.idle": "2022-07-22T09:10:11.941365Z",
     "shell.execute_reply": "2022-07-22T09:10:11.940031Z"
    },
    "id": "783186fb",
    "papermill": {
     "duration": 0.021758,
     "end_time": "2022-07-22T09:10:11.947667",
     "exception": false,
     "start_time": "2022-07-22T09:10:11.925909",
     "status": "completed"
    },
    "tags": [
     "parameters"
    ]
   },
   "outputs": [],
   "source": [
    "variance = 1\n",
    "bias = 1 "
   ]
  },
  {
   "cell_type": "code",
   "execution_count": 4,
   "id": "e8d79a7d",
   "metadata": {
    "execution": {
     "iopub.execute_input": "2022-07-22T09:10:11.967263Z",
     "iopub.status.busy": "2022-07-22T09:10:11.966509Z",
     "iopub.status.idle": "2022-07-22T09:10:11.972281Z",
     "shell.execute_reply": "2022-07-22T09:10:11.971191Z"
    },
    "papermill": {
     "duration": 0.019347,
     "end_time": "2022-07-22T09:10:11.975427",
     "exception": false,
     "start_time": "2022-07-22T09:10:11.956080",
     "status": "completed"
    },
    "tags": [
     "injected-parameters"
    ]
   },
   "outputs": [],
   "source": [
    "# Parameters\n",
    "variance = 1\n",
    "bias = 0\n"
   ]
  },
  {
   "cell_type": "markdown",
   "id": "391cdbfd",
   "metadata": {
    "id": "391cdbfd",
    "papermill": {
     "duration": 0.007644,
     "end_time": "2022-07-22T09:10:11.991165",
     "exception": false,
     "start_time": "2022-07-22T09:10:11.983521",
     "status": "completed"
    },
    "tags": []
   },
   "source": [
    "## Dataset \n"
   ]
  },
  {
   "cell_type": "code",
   "execution_count": 5,
   "id": "5b51f161",
   "metadata": {
    "execution": {
     "iopub.execute_input": "2022-07-22T09:10:12.011280Z",
     "iopub.status.busy": "2022-07-22T09:10:12.009877Z",
     "iopub.status.idle": "2022-07-22T09:10:12.016581Z",
     "shell.execute_reply": "2022-07-22T09:10:12.015634Z"
    },
    "id": "5b51f161",
    "papermill": {
     "duration": 0.019498,
     "end_time": "2022-07-22T09:10:12.019437",
     "exception": false,
     "start_time": "2022-07-22T09:10:11.999939",
     "status": "completed"
    },
    "tags": []
   },
   "outputs": [],
   "source": [
    "#Parameters \n",
    "n_features = 4\n",
    "n_samples= 100\n",
    "n_target = 1"
   ]
  },
  {
   "cell_type": "code",
   "execution_count": 6,
   "id": "5d6eced4",
   "metadata": {
    "execution": {
     "iopub.execute_input": "2022-07-22T09:10:12.040153Z",
     "iopub.status.busy": "2022-07-22T09:10:12.039650Z",
     "iopub.status.idle": "2022-07-22T09:10:12.059290Z",
     "shell.execute_reply": "2022-07-22T09:10:12.057817Z"
    },
    "id": "5d6eced4",
    "papermill": {
     "duration": 0.032778,
     "end_time": "2022-07-22T09:10:12.062073",
     "exception": false,
     "start_time": "2022-07-22T09:10:12.029295",
     "status": "completed"
    },
    "tags": []
   },
   "outputs": [
    {
     "name": "stdout",
     "output_type": "stream",
     "text": [
      "          X1          X2        X3        X4         Y\n",
      "0  30.487009  971.215069  0.721412  2.737027  1.457730\n",
      "1  92.828596  989.345031  0.005475  7.246291  0.027626\n",
      "2  72.545421  713.298387  0.914277  7.958299  1.416082\n",
      "3  69.024663  288.374316  0.856489  6.773381  1.184363\n",
      "4  23.215472  321.207646  0.244163  7.858464  1.255323\n"
     ]
    }
   ],
   "source": [
    "X,Y = friedman3Dataset.friedman3_data(n_samples)"
   ]
  },
  {
   "cell_type": "code",
   "execution_count": 7,
   "id": "fe007438",
   "metadata": {
    "execution": {
     "iopub.execute_input": "2022-07-22T09:10:12.082014Z",
     "iopub.status.busy": "2022-07-22T09:10:12.081489Z",
     "iopub.status.idle": "2022-07-22T09:10:12.088280Z",
     "shell.execute_reply": "2022-07-22T09:10:12.087206Z"
    },
    "id": "fe007438",
    "papermill": {
     "duration": 0.020038,
     "end_time": "2022-07-22T09:10:12.091259",
     "exception": false,
     "start_time": "2022-07-22T09:10:12.071221",
     "status": "completed"
    },
    "tags": []
   },
   "outputs": [],
   "source": [
    "#Train test split for dataset \n",
    "X_train,X_test,Y_train,Y_test = train_test_split(X,Y,test_size = 0.2)\n",
    "train_data = dataset.CustomDataset(X_train,Y_train)\n",
    "test_data = dataset.CustomDataset(X_test,Y_test)\n"
   ]
  },
  {
   "cell_type": "markdown",
   "id": "a9a1af34",
   "metadata": {
    "id": "a9a1af34",
    "papermill": {
     "duration": 0.008749,
     "end_time": "2022-07-22T09:10:12.108198",
     "exception": false,
     "start_time": "2022-07-22T09:10:12.099449",
     "status": "completed"
    },
    "tags": []
   },
   "source": [
    "## Training Parameters "
   ]
  },
  {
   "cell_type": "code",
   "execution_count": 8,
   "id": "952b7fc8",
   "metadata": {
    "execution": {
     "iopub.execute_input": "2022-07-22T09:10:12.132061Z",
     "iopub.status.busy": "2022-07-22T09:10:12.131347Z",
     "iopub.status.idle": "2022-07-22T09:10:12.139852Z",
     "shell.execute_reply": "2022-07-22T09:10:12.136464Z"
    },
    "id": "952b7fc8",
    "papermill": {
     "duration": 0.026529,
     "end_time": "2022-07-22T09:10:12.143456",
     "exception": false,
     "start_time": "2022-07-22T09:10:12.116927",
     "status": "completed"
    },
    "tags": []
   },
   "outputs": [],
   "source": [
    "batch_size = 32\n",
    "n_epochs = 1000\n",
    "#Select the device \n",
    "device = torch.device('cuda' if torch.cuda.is_available() else 'cpu')"
   ]
  },
  {
   "cell_type": "markdown",
   "id": "a95e1600",
   "metadata": {
    "id": "a95e1600",
    "papermill": {
     "duration": 0.00849,
     "end_time": "2022-07-22T09:10:12.160576",
     "exception": false,
     "start_time": "2022-07-22T09:10:12.152086",
     "status": "completed"
    },
    "tags": []
   },
   "source": [
    "# ABC Pre-generator Model \n",
    "\n",
    "1. The catboost model is used as a pre-generator model for the ABC-GAN. \n",
    "2. The model is first trained on the entire dataset \n",
    "3. It generats X,Y pairs and we add some Gaussian noise with mean 0 and variance 1 to it which is then feed as input to the generator.\n"
   ]
  },
  {
   "cell_type": "code",
   "execution_count": 9,
   "id": "ac011ebf",
   "metadata": {
    "execution": {
     "iopub.execute_input": "2022-07-22T09:10:12.180874Z",
     "iopub.status.busy": "2022-07-22T09:10:12.179963Z",
     "iopub.status.idle": "2022-07-22T09:10:37.939803Z",
     "shell.execute_reply": "2022-07-22T09:10:37.938356Z"
    },
    "papermill": {
     "duration": 25.773448,
     "end_time": "2022-07-22T09:10:37.942639",
     "exception": false,
     "start_time": "2022-07-22T09:10:12.169191",
     "status": "completed"
    },
    "tags": []
   },
   "outputs": [
    {
     "name": "stdout",
     "output_type": "stream",
     "text": [
      "Device used : cpu\n"
     ]
    },
    {
     "name": "stdout",
     "output_type": "stream",
     "text": [
      "epoch 0  | loss: 1.42385 | train_mse: 4.21196 | train_mae: 1.46378 |  0:00:00s\n",
      "epoch 1  | loss: 1.14895 | train_mse: 3.27671 | train_mae: 1.32075 |  0:00:00s\n",
      "epoch 2  | loss: 1.04085 | train_mse: 3.02303 | train_mae: 1.26073 |  0:00:00s"
     ]
    },
    {
     "name": "stdout",
     "output_type": "stream",
     "text": [
      "\n",
      "epoch 3  | loss: 0.96411 | train_mse: 2.64633 | train_mae: 1.19129 |  0:00:00s\n",
      "epoch 4  | loss: 1.03429 | train_mse: 2.31365 | train_mae: 1.11162 |  0:00:00s\n"
     ]
    },
    {
     "name": "stdout",
     "output_type": "stream",
     "text": [
      "epoch 5  | loss: 1.04178 | train_mse: 2.03721 | train_mae: 1.04421 |  0:00:00s\n",
      "epoch 6  | loss: 1.0073  | train_mse: 1.83592 | train_mae: 0.98727 |  0:00:00s\n"
     ]
    },
    {
     "name": "stdout",
     "output_type": "stream",
     "text": [
      "epoch 7  | loss: 0.88813 | train_mse: 1.67505 | train_mae: 0.9365  |  0:00:01s\n",
      "epoch 8  | loss: 0.79078 | train_mse: 1.46302 | train_mae: 0.86484 |  0:00:01s\n"
     ]
    },
    {
     "name": "stdout",
     "output_type": "stream",
     "text": [
      "epoch 9  | loss: 0.85519 | train_mse: 1.31374 | train_mae: 0.81423 |  0:00:01s\n",
      "epoch 10 | loss: 0.99894 | train_mse: 1.20554 | train_mae: 0.77482 |  0:00:01s\n",
      "epoch 11 | loss: 0.79081 | train_mse: 1.11845 | train_mae: 0.7425  |  0:00:01s\n"
     ]
    },
    {
     "name": "stdout",
     "output_type": "stream",
     "text": [
      "epoch 12 | loss: 0.68737 | train_mse: 1.05012 | train_mae: 0.71719 |  0:00:01s\n",
      "epoch 13 | loss: 0.71369 | train_mse: 0.98987 | train_mae: 0.69315 |  0:00:01s\n"
     ]
    },
    {
     "name": "stdout",
     "output_type": "stream",
     "text": [
      "epoch 14 | loss: 0.73421 | train_mse: 0.92832 | train_mae: 0.66887 |  0:00:01s\n",
      "epoch 15 | loss: 0.6427  | train_mse: 0.88671 | train_mae: 0.64942 |  0:00:01s\n",
      "epoch 16 | loss: 0.70631 | train_mse: 0.84739 | train_mae: 0.63047 |  0:00:01s\n"
     ]
    },
    {
     "name": "stdout",
     "output_type": "stream",
     "text": [
      "epoch 17 | loss: 0.55197 | train_mse: 0.81944 | train_mae: 0.61346 |  0:00:02s\n",
      "epoch 18 | loss: 0.62673 | train_mse: 0.78067 | train_mae: 0.59899 |  0:00:02s\n"
     ]
    },
    {
     "name": "stdout",
     "output_type": "stream",
     "text": [
      "epoch 19 | loss: 0.59663 | train_mse: 0.74195 | train_mae: 0.58012 |  0:00:02s\n",
      "epoch 20 | loss: 0.67922 | train_mse: 0.71363 | train_mae: 0.56938 |  0:00:02s\n",
      "epoch 21 | loss: 0.55621 | train_mse: 0.69791 | train_mae: 0.56697 |  0:00:02s\n"
     ]
    },
    {
     "name": "stdout",
     "output_type": "stream",
     "text": [
      "epoch 22 | loss: 0.61153 | train_mse: 0.66776 | train_mae: 0.55714 |  0:00:02s\n",
      "epoch 23 | loss: 0.63944 | train_mse: 0.6333  | train_mae: 0.53662 |  0:00:02s\n",
      "epoch 24 | loss: 0.52855 | train_mse: 0.6212  | train_mae: 0.52685 |  0:00:02s\n"
     ]
    },
    {
     "name": "stdout",
     "output_type": "stream",
     "text": [
      "epoch 25 | loss: 0.71661 | train_mse: 0.60311 | train_mae: 0.51673 |  0:00:02s\n",
      "epoch 26 | loss: 0.59569 | train_mse: 0.59045 | train_mae: 0.51096 |  0:00:02s\n"
     ]
    },
    {
     "name": "stdout",
     "output_type": "stream",
     "text": [
      "epoch 27 | loss: 0.40961 | train_mse: 0.58255 | train_mae: 0.51138 |  0:00:03s\n",
      "epoch 28 | loss: 0.52804 | train_mse: 0.57144 | train_mae: 0.50591 |  0:00:03s\n",
      "epoch 29 | loss: 0.54767 | train_mse: 0.54853 | train_mae: 0.4974  |  0:00:03s\n"
     ]
    },
    {
     "name": "stdout",
     "output_type": "stream",
     "text": [
      "epoch 30 | loss: 0.57266 | train_mse: 0.53147 | train_mae: 0.49351 |  0:00:03s\n",
      "epoch 31 | loss: 0.48743 | train_mse: 0.5235  | train_mae: 0.49259 |  0:00:03s\n",
      "epoch 32 | loss: 0.43025 | train_mse: 0.48728 | train_mae: 0.47599 |  0:00:03s\n"
     ]
    },
    {
     "name": "stdout",
     "output_type": "stream",
     "text": [
      "epoch 33 | loss: 0.42753 | train_mse: 0.47083 | train_mae: 0.46597 |  0:00:03s\n",
      "epoch 34 | loss: 0.39313 | train_mse: 0.45596 | train_mae: 0.45496 |  0:00:03s\n",
      "epoch 35 | loss: 0.38576 | train_mse: 0.44519 | train_mae: 0.44846 |  0:00:03s\n"
     ]
    },
    {
     "name": "stdout",
     "output_type": "stream",
     "text": [
      "epoch 36 | loss: 0.46028 | train_mse: 0.43397 | train_mae: 0.44417 |  0:00:03s\n",
      "epoch 37 | loss: 0.39862 | train_mse: 0.41594 | train_mae: 0.43285 |  0:00:03s\n"
     ]
    },
    {
     "name": "stdout",
     "output_type": "stream",
     "text": [
      "epoch 38 | loss: 0.46883 | train_mse: 0.40188 | train_mae: 0.42709 |  0:00:04s\n",
      "epoch 39 | loss: 0.50007 | train_mse: 0.38833 | train_mae: 0.41801 |  0:00:04s\n",
      "epoch 40 | loss: 0.30886 | train_mse: 0.37263 | train_mae: 0.4074  |  0:00:04s\n"
     ]
    },
    {
     "name": "stdout",
     "output_type": "stream",
     "text": [
      "epoch 41 | loss: 0.41303 | train_mse: 0.35771 | train_mae: 0.39794 |  0:00:04s\n",
      "epoch 42 | loss: 0.43684 | train_mse: 0.34266 | train_mae: 0.38741 |  0:00:04s\n",
      "epoch 43 | loss: 0.35682 | train_mse: 0.3325  | train_mae: 0.38264 |  0:00:04s\n"
     ]
    },
    {
     "name": "stdout",
     "output_type": "stream",
     "text": [
      "epoch 44 | loss: 0.37294 | train_mse: 0.32252 | train_mae: 0.37723 |  0:00:04s\n",
      "epoch 45 | loss: 0.36901 | train_mse: 0.30923 | train_mae: 0.36874 |  0:00:04s\n",
      "epoch 46 | loss: 0.29779 | train_mse: 0.29735 | train_mae: 0.35966 |  0:00:04s"
     ]
    },
    {
     "name": "stdout",
     "output_type": "stream",
     "text": [
      "\n",
      "epoch 47 | loss: 0.30991 | train_mse: 0.29084 | train_mae: 0.3608  |  0:00:04s\n"
     ]
    },
    {
     "name": "stdout",
     "output_type": "stream",
     "text": [
      "epoch 48 | loss: 0.31435 | train_mse: 0.2813  | train_mae: 0.35489 |  0:00:05s\n",
      "epoch 49 | loss: 0.33779 | train_mse: 0.26939 | train_mae: 0.3474  |  0:00:05s\n",
      "epoch 50 | loss: 0.36058 | train_mse: 0.26181 | train_mae: 0.34094 |  0:00:05s\n"
     ]
    },
    {
     "name": "stdout",
     "output_type": "stream",
     "text": [
      "epoch 51 | loss: 0.35921 | train_mse: 0.25584 | train_mae: 0.33633 |  0:00:05s\n",
      "epoch 52 | loss: 0.41844 | train_mse: 0.2521  | train_mae: 0.33638 |  0:00:05s\n",
      "epoch 53 | loss: 0.3839  | train_mse: 0.25225 | train_mae: 0.33723 |  0:00:05s\n"
     ]
    },
    {
     "name": "stdout",
     "output_type": "stream",
     "text": [
      "epoch 54 | loss: 0.29725 | train_mse: 0.24853 | train_mae: 0.33624 |  0:00:05s\n",
      "epoch 55 | loss: 0.29803 | train_mse: 0.24647 | train_mae: 0.33254 |  0:00:05s\n",
      "epoch 56 | loss: 0.33438 | train_mse: 0.2466  | train_mae: 0.33034 |  0:00:05s\n"
     ]
    },
    {
     "name": "stdout",
     "output_type": "stream",
     "text": [
      "epoch 57 | loss: 0.29298 | train_mse: 0.24201 | train_mae: 0.32578 |  0:00:05s\n",
      "epoch 58 | loss: 0.26964 | train_mse: 0.2325  | train_mae: 0.31611 |  0:00:06s\n"
     ]
    },
    {
     "name": "stdout",
     "output_type": "stream",
     "text": [
      "epoch 59 | loss: 0.51194 | train_mse: 0.22417 | train_mae: 0.3104  |  0:00:06s\n",
      "epoch 60 | loss: 0.26008 | train_mse: 0.21404 | train_mae: 0.30121 |  0:00:06s\n",
      "epoch 61 | loss: 0.35126 | train_mse: 0.20683 | train_mae: 0.29732 |  0:00:06s\n"
     ]
    },
    {
     "name": "stdout",
     "output_type": "stream",
     "text": [
      "epoch 62 | loss: 0.19926 | train_mse: 0.20181 | train_mae: 0.29539 |  0:00:06s\n",
      "epoch 63 | loss: 0.3028  | train_mse: 0.1974  | train_mae: 0.29313 |  0:00:06s\n",
      "epoch 64 | loss: 0.22478 | train_mse: 0.1917  | train_mae: 0.28976 |  0:00:06s\n"
     ]
    },
    {
     "name": "stdout",
     "output_type": "stream",
     "text": [
      "epoch 65 | loss: 0.29213 | train_mse: 0.18577 | train_mae: 0.28721 |  0:00:06s\n",
      "epoch 66 | loss: 0.2542  | train_mse: 0.18    | train_mae: 0.28172 |  0:00:06s\n",
      "epoch 67 | loss: 0.32082 | train_mse: 0.18119 | train_mae: 0.28824 |  0:00:06s\n"
     ]
    },
    {
     "name": "stdout",
     "output_type": "stream",
     "text": [
      "epoch 68 | loss: 0.32934 | train_mse: 0.1774  | train_mae: 0.29055 |  0:00:07s\n",
      "epoch 69 | loss: 0.19335 | train_mse: 0.1751  | train_mae: 0.29389 |  0:00:07s\n",
      "epoch 70 | loss: 0.26414 | train_mse: 0.17768 | train_mae: 0.29556 |  0:00:07s\n"
     ]
    },
    {
     "name": "stdout",
     "output_type": "stream",
     "text": [
      "epoch 71 | loss: 0.30252 | train_mse: 0.17709 | train_mae: 0.29264 |  0:00:07s\n",
      "epoch 72 | loss: 0.2609  | train_mse: 0.17331 | train_mae: 0.28716 |  0:00:07s\n",
      "epoch 73 | loss: 0.27502 | train_mse: 0.18597 | train_mae: 0.29148 |  0:00:07s\n"
     ]
    },
    {
     "name": "stdout",
     "output_type": "stream",
     "text": [
      "epoch 74 | loss: 0.21753 | train_mse: 0.185   | train_mae: 0.29262 |  0:00:07s\n",
      "epoch 75 | loss: 0.35204 | train_mse: 0.18608 | train_mae: 0.29353 |  0:00:07s\n",
      "epoch 76 | loss: 0.36427 | train_mse: 0.16479 | train_mae: 0.27763 |  0:00:07s\n"
     ]
    },
    {
     "name": "stdout",
     "output_type": "stream",
     "text": [
      "epoch 77 | loss: 0.24701 | train_mse: 0.16374 | train_mae: 0.28077 |  0:00:07s\n",
      "epoch 78 | loss: 0.22429 | train_mse: 0.171   | train_mae: 0.28646 |  0:00:07s\n"
     ]
    },
    {
     "name": "stdout",
     "output_type": "stream",
     "text": [
      "epoch 79 | loss: 0.20001 | train_mse: 0.1675  | train_mae: 0.28572 |  0:00:08s\n",
      "epoch 80 | loss: 0.28237 | train_mse: 0.17001 | train_mae: 0.28661 |  0:00:08s\n"
     ]
    },
    {
     "name": "stdout",
     "output_type": "stream",
     "text": [
      "epoch 81 | loss: 0.32706 | train_mse: 0.17398 | train_mae: 0.29105 |  0:00:08s\n",
      "epoch 82 | loss: 0.34363 | train_mse: 0.17297 | train_mae: 0.28902 |  0:00:08s\n"
     ]
    },
    {
     "name": "stdout",
     "output_type": "stream",
     "text": [
      "epoch 83 | loss: 0.27987 | train_mse: 0.16511 | train_mae: 0.28599 |  0:00:08s\n",
      "epoch 84 | loss: 0.31601 | train_mse: 0.15581 | train_mae: 0.28328 |  0:00:08s\n"
     ]
    },
    {
     "name": "stdout",
     "output_type": "stream",
     "text": [
      "epoch 85 | loss: 0.22658 | train_mse: 0.14999 | train_mae: 0.28167 |  0:00:08s\n",
      "epoch 86 | loss: 0.37662 | train_mse: 0.14482 | train_mae: 0.27821 |  0:00:08s\n"
     ]
    },
    {
     "name": "stdout",
     "output_type": "stream",
     "text": [
      "epoch 87 | loss: 0.3082  | train_mse: 0.14244 | train_mae: 0.27773 |  0:00:09s\n",
      "epoch 88 | loss: 0.41827 | train_mse: 0.14128 | train_mae: 0.27958 |  0:00:09s\n"
     ]
    },
    {
     "name": "stdout",
     "output_type": "stream",
     "text": [
      "epoch 89 | loss: 0.36166 | train_mse: 0.14528 | train_mae: 0.284   |  0:00:09s\n",
      "epoch 90 | loss: 0.24536 | train_mse: 0.14554 | train_mae: 0.28391 |  0:00:09s\n",
      "epoch 91 | loss: 0.33117 | train_mse: 0.14827 | train_mae: 0.28697 |  0:00:09s\n"
     ]
    },
    {
     "name": "stdout",
     "output_type": "stream",
     "text": [
      "epoch 92 | loss: 0.33757 | train_mse: 0.1454  | train_mae: 0.28488 |  0:00:09s\n",
      "epoch 93 | loss: 0.35915 | train_mse: 0.14067 | train_mae: 0.27826 |  0:00:09s\n",
      "epoch 94 | loss: 0.26198 | train_mse: 0.13553 | train_mae: 0.26884 |  0:00:09s\n"
     ]
    },
    {
     "name": "stdout",
     "output_type": "stream",
     "text": [
      "epoch 95 | loss: 0.20087 | train_mse: 0.13549 | train_mae: 0.26901 |  0:00:09s\n",
      "epoch 96 | loss: 0.37936 | train_mse: 0.13816 | train_mae: 0.27008 |  0:00:09s\n",
      "epoch 97 | loss: 0.27526 | train_mse: 0.14139 | train_mae: 0.27081 |  0:00:10s"
     ]
    },
    {
     "name": "stdout",
     "output_type": "stream",
     "text": [
      "\n",
      "epoch 98 | loss: 0.20414 | train_mse: 0.14235 | train_mae: 0.27415 |  0:00:10s\n",
      "epoch 99 | loss: 0.23802 | train_mse: 0.14833 | train_mae: 0.28245 |  0:00:10s\n"
     ]
    },
    {
     "name": "stdout",
     "output_type": "stream",
     "text": [
      "epoch 100| loss: 0.28036 | train_mse: 0.1559  | train_mae: 0.2889  |  0:00:10s\n",
      "epoch 101| loss: 0.20104 | train_mse: 0.14995 | train_mae: 0.28522 |  0:00:10s\n",
      "epoch 102| loss: 0.18208 | train_mse: 0.147   | train_mae: 0.27961 |  0:00:10s\n"
     ]
    },
    {
     "name": "stdout",
     "output_type": "stream",
     "text": [
      "epoch 103| loss: 0.25724 | train_mse: 0.14351 | train_mae: 0.27322 |  0:00:10s\n",
      "epoch 104| loss: 0.2031  | train_mse: 0.14298 | train_mae: 0.27151 |  0:00:10s\n",
      "epoch 105| loss: 0.28987 | train_mse: 0.14246 | train_mae: 0.27146 |  0:00:10s\n"
     ]
    },
    {
     "name": "stdout",
     "output_type": "stream",
     "text": [
      "epoch 106| loss: 0.25524 | train_mse: 0.14403 | train_mae: 0.27457 |  0:00:10s\n",
      "epoch 107| loss: 0.18732 | train_mse: 0.144   | train_mae: 0.27281 |  0:00:11s\n",
      "epoch 108| loss: 0.31216 | train_mse: 0.14161 | train_mae: 0.27234 |  0:00:11s\n"
     ]
    },
    {
     "name": "stdout",
     "output_type": "stream",
     "text": [
      "epoch 109| loss: 0.22461 | train_mse: 0.13649 | train_mae: 0.27126 |  0:00:11s\n",
      "epoch 110| loss: 0.30564 | train_mse: 0.13631 | train_mae: 0.27125 |  0:00:11s\n",
      "epoch 111| loss: 0.23466 | train_mse: 0.13953 | train_mae: 0.27217 |  0:00:11s\n"
     ]
    },
    {
     "name": "stdout",
     "output_type": "stream",
     "text": [
      "epoch 112| loss: 0.24952 | train_mse: 0.14104 | train_mae: 0.26977 |  0:00:11s\n",
      "epoch 113| loss: 0.22456 | train_mse: 0.13658 | train_mae: 0.26869 |  0:00:11s\n",
      "epoch 114| loss: 0.32106 | train_mse: 0.13294 | train_mae: 0.26545 |  0:00:11s\n"
     ]
    },
    {
     "name": "stdout",
     "output_type": "stream",
     "text": [
      "epoch 115| loss: 0.21032 | train_mse: 0.13452 | train_mae: 0.26602 |  0:00:11s\n",
      "epoch 116| loss: 0.22801 | train_mse: 0.13349 | train_mae: 0.26255 |  0:00:11s\n"
     ]
    },
    {
     "name": "stdout",
     "output_type": "stream",
     "text": [
      "epoch 117| loss: 0.17127 | train_mse: 0.13173 | train_mae: 0.26107 |  0:00:12s\n",
      "epoch 118| loss: 0.27616 | train_mse: 0.13014 | train_mae: 0.25973 |  0:00:12s\n",
      "epoch 119| loss: 0.29741 | train_mse: 0.12839 | train_mae: 0.25609 |  0:00:12s\n"
     ]
    },
    {
     "name": "stdout",
     "output_type": "stream",
     "text": [
      "epoch 120| loss: 0.1461  | train_mse: 0.12481 | train_mae: 0.24919 |  0:00:12s\n",
      "epoch 121| loss: 0.15076 | train_mse: 0.12284 | train_mae: 0.24206 |  0:00:12s\n",
      "epoch 122| loss: 0.202   | train_mse: 0.12083 | train_mae: 0.23992 |  0:00:12s\n"
     ]
    },
    {
     "name": "stdout",
     "output_type": "stream",
     "text": [
      "epoch 123| loss: 0.19488 | train_mse: 0.12264 | train_mae: 0.24045 |  0:00:12s\n",
      "epoch 124| loss: 0.17501 | train_mse: 0.12218 | train_mae: 0.24129 |  0:00:12s\n",
      "epoch 125| loss: 0.20276 | train_mse: 0.12021 | train_mae: 0.24097 |  0:00:12s\n"
     ]
    },
    {
     "name": "stdout",
     "output_type": "stream",
     "text": [
      "epoch 126| loss: 0.19221 | train_mse: 0.12131 | train_mae: 0.24563 |  0:00:12s\n",
      "epoch 127| loss: 0.20225 | train_mse: 0.12282 | train_mae: 0.24564 |  0:00:12s\n"
     ]
    },
    {
     "name": "stdout",
     "output_type": "stream",
     "text": [
      "epoch 128| loss: 0.17225 | train_mse: 0.12778 | train_mae: 0.25045 |  0:00:13s\n",
      "epoch 129| loss: 0.28068 | train_mse: 0.12223 | train_mae: 0.24879 |  0:00:13s\n",
      "epoch 130| loss: 0.19538 | train_mse: 0.11767 | train_mae: 0.24322 |  0:00:13s\n"
     ]
    },
    {
     "name": "stdout",
     "output_type": "stream",
     "text": [
      "epoch 131| loss: 0.17696 | train_mse: 0.11387 | train_mae: 0.24412 |  0:00:13s\n",
      "epoch 132| loss: 0.23574 | train_mse: 0.11175 | train_mae: 0.2458  |  0:00:13s\n",
      "epoch 133| loss: 0.21845 | train_mse: 0.10636 | train_mae: 0.24275 |  0:00:13s\n"
     ]
    },
    {
     "name": "stdout",
     "output_type": "stream",
     "text": [
      "epoch 134| loss: 0.17717 | train_mse: 0.09725 | train_mae: 0.23439 |  0:00:13s\n",
      "epoch 135| loss: 0.21166 | train_mse: 0.09654 | train_mae: 0.23397 |  0:00:13s\n",
      "epoch 136| loss: 0.12073 | train_mse: 0.09743 | train_mae: 0.23485 |  0:00:13s\n"
     ]
    },
    {
     "name": "stdout",
     "output_type": "stream",
     "text": [
      "epoch 137| loss: 0.19273 | train_mse: 0.09137 | train_mae: 0.22814 |  0:00:13s\n",
      "epoch 138| loss: 0.24619 | train_mse: 0.08837 | train_mae: 0.22317 |  0:00:14s\n"
     ]
    },
    {
     "name": "stdout",
     "output_type": "stream",
     "text": [
      "epoch 139| loss: 0.20796 | train_mse: 0.09018 | train_mae: 0.22411 |  0:00:14s\n",
      "epoch 140| loss: 0.37176 | train_mse: 0.08953 | train_mae: 0.22229 |  0:00:14s\n",
      "epoch 141| loss: 0.17601 | train_mse: 0.09438 | train_mae: 0.22198 |  0:00:14s\n"
     ]
    },
    {
     "name": "stdout",
     "output_type": "stream",
     "text": [
      "epoch 142| loss: 0.18591 | train_mse: 0.11079 | train_mae: 0.22915 |  0:00:14s\n",
      "epoch 143| loss: 0.26339 | train_mse: 0.12087 | train_mae: 0.23789 |  0:00:14s\n",
      "epoch 144| loss: 0.21013 | train_mse: 0.13185 | train_mae: 0.24719 |  0:00:14s\n"
     ]
    },
    {
     "name": "stdout",
     "output_type": "stream",
     "text": [
      "epoch 145| loss: 0.27446 | train_mse: 0.13583 | train_mae: 0.25091 |  0:00:14s\n",
      "epoch 146| loss: 0.16447 | train_mse: 0.13135 | train_mae: 0.25166 |  0:00:14s\n",
      "epoch 147| loss: 0.32941 | train_mse: 0.12303 | train_mae: 0.24723 |  0:00:14s\n"
     ]
    },
    {
     "name": "stdout",
     "output_type": "stream",
     "text": [
      "epoch 148| loss: 0.12751 | train_mse: 0.10478 | train_mae: 0.23514 |  0:00:14s\n",
      "epoch 149| loss: 0.21039 | train_mse: 0.09893 | train_mae: 0.22991 |  0:00:15s\n"
     ]
    },
    {
     "name": "stdout",
     "output_type": "stream",
     "text": [
      "epoch 150| loss: 0.19172 | train_mse: 0.09148 | train_mae: 0.22536 |  0:00:15s\n",
      "epoch 151| loss: 0.14921 | train_mse: 0.09083 | train_mae: 0.22839 |  0:00:15s\n",
      "epoch 152| loss: 0.23068 | train_mse: 0.09556 | train_mae: 0.23181 |  0:00:15s\n"
     ]
    },
    {
     "name": "stdout",
     "output_type": "stream",
     "text": [
      "epoch 153| loss: 0.27654 | train_mse: 0.10308 | train_mae: 0.23138 |  0:00:15s\n",
      "epoch 154| loss: 0.21828 | train_mse: 0.08649 | train_mae: 0.22551 |  0:00:15s\n",
      "epoch 155| loss: 0.14387 | train_mse: 0.08067 | train_mae: 0.22141 |  0:00:15s\n"
     ]
    },
    {
     "name": "stdout",
     "output_type": "stream",
     "text": [
      "epoch 156| loss: 0.16305 | train_mse: 0.07744 | train_mae: 0.21976 |  0:00:15s\n",
      "epoch 157| loss: 0.28077 | train_mse: 0.07627 | train_mae: 0.21761 |  0:00:15s\n",
      "epoch 158| loss: 0.22195 | train_mse: 0.07158 | train_mae: 0.21275 |  0:00:15s\n"
     ]
    },
    {
     "name": "stdout",
     "output_type": "stream",
     "text": [
      "epoch 159| loss: 0.15031 | train_mse: 0.07087 | train_mae: 0.21193 |  0:00:16s\n",
      "epoch 160| loss: 0.13888 | train_mse: 0.0733  | train_mae: 0.21428 |  0:00:16s\n",
      "epoch 161| loss: 0.19814 | train_mse: 0.08291 | train_mae: 0.21751 |  0:00:16s"
     ]
    },
    {
     "name": "stdout",
     "output_type": "stream",
     "text": [
      "\n",
      "epoch 162| loss: 0.19294 | train_mse: 0.09383 | train_mae: 0.22222 |  0:00:16s\n",
      "epoch 163| loss: 0.39057 | train_mse: 0.07925 | train_mae: 0.21381 |  0:00:16s\n"
     ]
    },
    {
     "name": "stdout",
     "output_type": "stream",
     "text": [
      "epoch 164| loss: 0.28338 | train_mse: 0.07622 | train_mae: 0.21187 |  0:00:16s\n",
      "epoch 165| loss: 0.16176 | train_mse: 0.07522 | train_mae: 0.20875 |  0:00:16s\n",
      "epoch 166| loss: 0.17355 | train_mse: 0.07597 | train_mae: 0.2074  |  0:00:16s\n"
     ]
    },
    {
     "name": "stdout",
     "output_type": "stream",
     "text": [
      "epoch 167| loss: 0.18128 | train_mse: 0.08559 | train_mae: 0.21574 |  0:00:16s\n",
      "epoch 168| loss: 0.18907 | train_mse: 0.08242 | train_mae: 0.21441 |  0:00:16s\n",
      "epoch 169| loss: 0.21351 | train_mse: 0.0876  | train_mae: 0.22053 |  0:00:16s\n"
     ]
    },
    {
     "name": "stdout",
     "output_type": "stream",
     "text": [
      "epoch 170| loss: 0.11754 | train_mse: 0.10028 | train_mae: 0.22852 |  0:00:17s\n",
      "epoch 171| loss: 0.24349 | train_mse: 0.09843 | train_mae: 0.22803 |  0:00:17s\n",
      "epoch 172| loss: 0.17682 | train_mse: 0.09177 | train_mae: 0.22891 |  0:00:17s\n"
     ]
    },
    {
     "name": "stdout",
     "output_type": "stream",
     "text": [
      "epoch 173| loss: 0.1607  | train_mse: 0.09198 | train_mae: 0.22702 |  0:00:17s\n",
      "epoch 174| loss: 0.16026 | train_mse: 0.09297 | train_mae: 0.22935 |  0:00:17s\n",
      "epoch 175| loss: 0.16726 | train_mse: 0.0968  | train_mae: 0.22895 |  0:00:17s\n"
     ]
    },
    {
     "name": "stdout",
     "output_type": "stream",
     "text": [
      "epoch 176| loss: 0.21112 | train_mse: 0.10011 | train_mae: 0.22879 |  0:00:17s\n",
      "epoch 177| loss: 0.36905 | train_mse: 0.09877 | train_mae: 0.21754 |  0:00:17s\n",
      "epoch 178| loss: 0.22147 | train_mse: 0.09237 | train_mae: 0.21739 |  0:00:17s\n"
     ]
    },
    {
     "name": "stdout",
     "output_type": "stream",
     "text": [
      "epoch 179| loss: 0.19036 | train_mse: 0.07927 | train_mae: 0.20775 |  0:00:17s\n",
      "epoch 180| loss: 0.1135  | train_mse: 0.08325 | train_mae: 0.20943 |  0:00:17s\n"
     ]
    },
    {
     "name": "stdout",
     "output_type": "stream",
     "text": [
      "epoch 181| loss: 0.13666 | train_mse: 0.08846 | train_mae: 0.21494 |  0:00:18s\n",
      "epoch 182| loss: 0.18074 | train_mse: 0.08611 | train_mae: 0.21301 |  0:00:18s\n",
      "epoch 183| loss: 0.13732 | train_mse: 0.08094 | train_mae: 0.20528 |  0:00:18s\n"
     ]
    },
    {
     "name": "stdout",
     "output_type": "stream",
     "text": [
      "epoch 184| loss: 0.19294 | train_mse: 0.0741  | train_mae: 0.19678 |  0:00:18s\n",
      "epoch 185| loss: 0.27562 | train_mse: 0.07693 | train_mae: 0.19882 |  0:00:18s\n",
      "epoch 186| loss: 0.39972 | train_mse: 0.07786 | train_mae: 0.20094 |  0:00:18s\n"
     ]
    },
    {
     "name": "stdout",
     "output_type": "stream",
     "text": [
      "epoch 187| loss: 0.21195 | train_mse: 0.07737 | train_mae: 0.20194 |  0:00:18s\n",
      "epoch 188| loss: 0.2486  | train_mse: 0.07545 | train_mae: 0.20066 |  0:00:18s\n",
      "epoch 189| loss: 0.21047 | train_mse: 0.07714 | train_mae: 0.20283 |  0:00:18s\n"
     ]
    },
    {
     "name": "stdout",
     "output_type": "stream",
     "text": [
      "epoch 190| loss: 0.17755 | train_mse: 0.08053 | train_mae: 0.20536 |  0:00:18s\n",
      "epoch 191| loss: 0.09895 | train_mse: 0.0783  | train_mae: 0.20361 |  0:00:18s\n"
     ]
    },
    {
     "name": "stdout",
     "output_type": "stream",
     "text": [
      "epoch 192| loss: 0.2791  | train_mse: 0.07717 | train_mae: 0.20108 |  0:00:19s\n",
      "epoch 193| loss: 0.11744 | train_mse: 0.07596 | train_mae: 0.19833 |  0:00:19s\n",
      "epoch 194| loss: 0.15056 | train_mse: 0.07478 | train_mae: 0.19412 |  0:00:19s\n"
     ]
    },
    {
     "name": "stdout",
     "output_type": "stream",
     "text": [
      "epoch 195| loss: 0.18939 | train_mse: 0.07234 | train_mae: 0.19156 |  0:00:19s\n",
      "epoch 196| loss: 0.12499 | train_mse: 0.07325 | train_mae: 0.1915  |  0:00:19s\n",
      "epoch 197| loss: 0.35956 | train_mse: 0.07462 | train_mae: 0.19306 |  0:00:19s\n"
     ]
    },
    {
     "name": "stdout",
     "output_type": "stream",
     "text": [
      "epoch 198| loss: 0.18477 | train_mse: 0.07767 | train_mae: 0.19387 |  0:00:19s\n",
      "epoch 199| loss: 0.15054 | train_mse: 0.07483 | train_mae: 0.18957 |  0:00:19s\n",
      "epoch 200| loss: 0.11569 | train_mse: 0.07984 | train_mae: 0.19243 |  0:00:19s\n"
     ]
    },
    {
     "name": "stdout",
     "output_type": "stream",
     "text": [
      "epoch 201| loss: 0.16621 | train_mse: 0.07784 | train_mae: 0.19173 |  0:00:19s\n",
      "epoch 202| loss: 0.18888 | train_mse: 0.07322 | train_mae: 0.19188 |  0:00:20s\n"
     ]
    },
    {
     "name": "stdout",
     "output_type": "stream",
     "text": [
      "epoch 203| loss: 0.2363  | train_mse: 0.07829 | train_mae: 0.19601 |  0:00:20s\n",
      "epoch 204| loss: 0.17553 | train_mse: 0.07052 | train_mae: 0.19369 |  0:00:20s\n",
      "epoch 205| loss: 0.14394 | train_mse: 0.07885 | train_mae: 0.2014  |  0:00:20s\n"
     ]
    },
    {
     "name": "stdout",
     "output_type": "stream",
     "text": [
      "epoch 206| loss: 0.2778  | train_mse: 0.07138 | train_mae: 0.19529 |  0:00:20s\n",
      "epoch 207| loss: 0.1601  | train_mse: 0.06429 | train_mae: 0.18891 |  0:00:20s\n",
      "epoch 208| loss: 0.16727 | train_mse: 0.06534 | train_mae: 0.18806 |  0:00:20s\n"
     ]
    },
    {
     "name": "stdout",
     "output_type": "stream",
     "text": [
      "epoch 209| loss: 0.15231 | train_mse: 0.06692 | train_mae: 0.1884  |  0:00:20s\n",
      "epoch 210| loss: 0.11515 | train_mse: 0.06897 | train_mae: 0.19009 |  0:00:20s\n",
      "epoch 211| loss: 0.1161  | train_mse: 0.0691  | train_mae: 0.18893 |  0:00:20s\n"
     ]
    },
    {
     "name": "stdout",
     "output_type": "stream",
     "text": [
      "epoch 212| loss: 0.22881 | train_mse: 0.06738 | train_mae: 0.18718 |  0:00:20s\n",
      "epoch 213| loss: 0.18743 | train_mse: 0.06691 | train_mae: 0.18807 |  0:00:21s\n"
     ]
    },
    {
     "name": "stdout",
     "output_type": "stream",
     "text": [
      "epoch 214| loss: 0.14279 | train_mse: 0.06839 | train_mae: 0.19043 |  0:00:21s\n",
      "epoch 215| loss: 0.13206 | train_mse: 0.06964 | train_mae: 0.19473 |  0:00:21s\n",
      "epoch 216| loss: 0.19693 | train_mse: 0.06977 | train_mae: 0.19522 |  0:00:21s\n"
     ]
    },
    {
     "name": "stdout",
     "output_type": "stream",
     "text": [
      "epoch 217| loss: 0.13731 | train_mse: 0.06796 | train_mae: 0.19075 |  0:00:21s\n",
      "epoch 218| loss: 0.16976 | train_mse: 0.06692 | train_mae: 0.18864 |  0:00:21s\n",
      "epoch 219| loss: 0.20157 | train_mse: 0.06863 | train_mae: 0.18988 |  0:00:21s\n"
     ]
    },
    {
     "name": "stdout",
     "output_type": "stream",
     "text": [
      "epoch 220| loss: 0.05954 | train_mse: 0.07562 | train_mae: 0.19688 |  0:00:21s\n",
      "epoch 221| loss: 0.0918  | train_mse: 0.07889 | train_mae: 0.19681 |  0:00:21s\n",
      "epoch 222| loss: 0.17797 | train_mse: 0.07889 | train_mae: 0.19512 |  0:00:21s\n"
     ]
    },
    {
     "name": "stdout",
     "output_type": "stream",
     "text": [
      "epoch 223| loss: 0.2134  | train_mse: 0.07167 | train_mae: 0.18873 |  0:00:21s\n",
      "epoch 224| loss: 0.12902 | train_mse: 0.07302 | train_mae: 0.19018 |  0:00:22s\n"
     ]
    },
    {
     "name": "stdout",
     "output_type": "stream",
     "text": [
      "epoch 225| loss: 0.1762  | train_mse: 0.07515 | train_mae: 0.19359 |  0:00:22s\n",
      "epoch 226| loss: 0.18482 | train_mse: 0.07566 | train_mae: 0.19529 |  0:00:22s\n",
      "epoch 227| loss: 0.15027 | train_mse: 0.07277 | train_mae: 0.19351 |  0:00:22s\n"
     ]
    },
    {
     "name": "stdout",
     "output_type": "stream",
     "text": [
      "epoch 228| loss: 0.19383 | train_mse: 0.0692  | train_mae: 0.19205 |  0:00:22s\n",
      "epoch 229| loss: 0.19499 | train_mse: 0.06775 | train_mae: 0.19367 |  0:00:22s\n",
      "epoch 230| loss: 0.17389 | train_mse: 0.06712 | train_mae: 0.19361 |  0:00:22s\n"
     ]
    },
    {
     "name": "stdout",
     "output_type": "stream",
     "text": [
      "epoch 231| loss: 0.15851 | train_mse: 0.06519 | train_mae: 0.19378 |  0:00:22s\n",
      "epoch 232| loss: 0.13577 | train_mse: 0.06595 | train_mae: 0.19551 |  0:00:22s\n",
      "epoch 233| loss: 0.14415 | train_mse: 0.07721 | train_mae: 0.2037  |  0:00:22s\n"
     ]
    },
    {
     "name": "stdout",
     "output_type": "stream",
     "text": [
      "epoch 234| loss: 0.12725 | train_mse: 0.08611 | train_mae: 0.20877 |  0:00:22s\n",
      "epoch 235| loss: 0.34077 | train_mse: 0.08691 | train_mae: 0.21018 |  0:00:23s\n"
     ]
    },
    {
     "name": "stdout",
     "output_type": "stream",
     "text": [
      "epoch 236| loss: 0.1528  | train_mse: 0.08467 | train_mae: 0.20933 |  0:00:23s\n",
      "epoch 237| loss: 0.28897 | train_mse: 0.07752 | train_mae: 0.20565 |  0:00:23s\n",
      "epoch 238| loss: 0.20594 | train_mse: 0.07192 | train_mae: 0.19974 |  0:00:23s\n"
     ]
    },
    {
     "name": "stdout",
     "output_type": "stream",
     "text": [
      "epoch 239| loss: 0.13039 | train_mse: 0.06875 | train_mae: 0.19731 |  0:00:23s\n",
      "epoch 240| loss: 0.26842 | train_mse: 0.06774 | train_mae: 0.19478 |  0:00:23s\n",
      "epoch 241| loss: 0.16543 | train_mse: 0.06469 | train_mae: 0.19131 |  0:00:23s\n"
     ]
    },
    {
     "name": "stdout",
     "output_type": "stream",
     "text": [
      "epoch 242| loss: 0.16195 | train_mse: 0.06552 | train_mae: 0.19029 |  0:00:23s\n",
      "epoch 243| loss: 0.1138  | train_mse: 0.06696 | train_mae: 0.19074 |  0:00:23s\n",
      "epoch 244| loss: 0.13011 | train_mse: 0.07154 | train_mae: 0.19526 |  0:00:23s\n"
     ]
    },
    {
     "name": "stdout",
     "output_type": "stream",
     "text": [
      "epoch 245| loss: 0.13667 | train_mse: 0.08157 | train_mae: 0.20161 |  0:00:24s\n",
      "epoch 246| loss: 0.12578 | train_mse: 0.08969 | train_mae: 0.20407 |  0:00:24s\n"
     ]
    },
    {
     "name": "stdout",
     "output_type": "stream",
     "text": [
      "epoch 247| loss: 0.1513  | train_mse: 0.08665 | train_mae: 0.20451 |  0:00:24s\n",
      "epoch 248| loss: 0.19531 | train_mse: 0.08617 | train_mae: 0.20754 |  0:00:24s\n",
      "epoch 249| loss: 0.1585  | train_mse: 0.08941 | train_mae: 0.2109  |  0:00:24s\n"
     ]
    },
    {
     "name": "stdout",
     "output_type": "stream",
     "text": [
      "epoch 250| loss: 0.11974 | train_mse: 0.08595 | train_mae: 0.21266 |  0:00:24s\n",
      "epoch 251| loss: 0.18936 | train_mse: 0.07979 | train_mae: 0.20944 |  0:00:24s\n",
      "epoch 252| loss: 0.26769 | train_mse: 0.07488 | train_mae: 0.20701 |  0:00:24s\n"
     ]
    },
    {
     "name": "stdout",
     "output_type": "stream",
     "text": [
      "epoch 253| loss: 0.17579 | train_mse: 0.07142 | train_mae: 0.2063  |  0:00:24s\n",
      "epoch 254| loss: 0.19505 | train_mse: 0.07173 | train_mae: 0.20911 |  0:00:24s\n",
      "epoch 255| loss: 0.15082 | train_mse: 0.0721  | train_mae: 0.21016 |  0:00:25s\n"
     ]
    },
    {
     "name": "stdout",
     "output_type": "stream",
     "text": [
      "epoch 256| loss: 0.14776 | train_mse: 0.07368 | train_mae: 0.21251 |  0:00:25s\n",
      "epoch 257| loss: 0.13989 | train_mse: 0.07634 | train_mae: 0.21759 |  0:00:25s\n",
      "epoch 258| loss: 0.20666 | train_mse: 0.07494 | train_mae: 0.21631 |  0:00:25s\n"
     ]
    },
    {
     "name": "stdout",
     "output_type": "stream",
     "text": [
      "epoch 259| loss: 0.14479 | train_mse: 0.07785 | train_mae: 0.22061 |  0:00:25s\n",
      "epoch 260| loss: 0.18161 | train_mse: 0.08961 | train_mae: 0.22446 |  0:00:25s\n",
      "epoch 261| loss: 0.20461 | train_mse: 0.09049 | train_mae: 0.21885 |  0:00:25s\n"
     ]
    },
    {
     "name": "stdout",
     "output_type": "stream",
     "text": [
      "epoch 262| loss: 0.12988 | train_mse: 0.0863  | train_mae: 0.215   |  0:00:25s\n",
      "\n",
      "Early stopping occurred at epoch 262 with best_epoch = 212 and best_train_mae = 0.18718\n",
      "Best weights from best epoch are automatically used!\n"
     ]
    }
   ],
   "source": [
    "#Train the Model\n",
    "\n",
    "Y_train = np.reshape(Y_train, (-1, 1))\n",
    "Y_test = np.reshape(Y_test, (-1, 1))\n",
    "\n",
    "prior_model = TabNetRegressor(optimizer_fn=torch.optim.Adam, optimizer_params=dict(lr = 0.001),\n",
    "          #scheduler_params={\"step_size\":10, ], \"gamma\":0.9},\n",
    "          #scheduler_fn=torch.optim.lr_scheduler.StepLR\n",
    "          )  #TabNetRegressor()\n",
    "\n",
    "prior_model.fit(X_train,Y_train,eval_set=[(X_train, Y_train)],\n",
    "            eval_name=['train'], \n",
    "            eval_metric=[ 'mse', 'mae'], \n",
    "            max_epochs = n_epochs, \n",
    "            batch_size = batch_size,\n",
    "            patience=50\n",
    "            )"
   ]
  },
  {
   "cell_type": "code",
   "execution_count": 10,
   "id": "af65dcda",
   "metadata": {
    "execution": {
     "iopub.execute_input": "2022-07-22T09:10:37.977945Z",
     "iopub.status.busy": "2022-07-22T09:10:37.977384Z",
     "iopub.status.idle": "2022-07-22T09:10:38.027882Z",
     "shell.execute_reply": "2022-07-22T09:10:38.026531Z"
    },
    "id": "af65dcda",
    "papermill": {
     "duration": 0.070907,
     "end_time": "2022-07-22T09:10:38.030846",
     "exception": false,
     "start_time": "2022-07-22T09:10:37.959939",
     "status": "completed"
    },
    "tags": []
   },
   "outputs": [
    {
     "data": {
      "application/scrapbook.scrap.json+json": {
       "data": 0.256745356612529,
       "encoder": "json",
       "name": "Prior Model MSE",
       "version": 1
      }
     },
     "metadata": {
      "scrapbook": {
       "data": true,
       "display": false,
       "name": "Prior Model MSE"
      }
     },
     "output_type": "display_data"
    },
    {
     "data": {
      "application/scrapbook.scrap.json+json": {
       "data": 2.4964999012651345,
       "encoder": "json",
       "name": "ABC Pre-generator MSE",
       "version": 1
      }
     },
     "metadata": {
      "scrapbook": {
       "data": true,
       "display": false,
       "name": "ABC Pre-generator MSE"
      }
     },
     "output_type": "display_data"
    },
    {
     "data": {
      "application/scrapbook.scrap.json+json": {
       "data": 0.4017590382245653,
       "encoder": "json",
       "name": "Prior Model MAE",
       "version": 1
      }
     },
     "metadata": {
      "scrapbook": {
       "data": true,
       "display": false,
       "name": "Prior Model MAE"
      }
     },
     "output_type": "display_data"
    },
    {
     "name": "stdout",
     "output_type": "stream",
     "text": [
      "Prior Model MAE 0.4017590382245653\n"
     ]
    },
    {
     "data": {
      "application/scrapbook.scrap.json+json": {
       "data": 1.1119687881430154,
       "encoder": "json",
       "name": "ABC Pre-generator MAE",
       "version": 1
      }
     },
     "metadata": {
      "scrapbook": {
       "data": true,
       "display": false,
       "name": "ABC Pre-generator MAE"
      }
     },
     "output_type": "display_data"
    },
    {
     "name": "stdout",
     "output_type": "stream",
     "text": [
      "ABC Pre-generator MAE 1.1119687881430154\n"
     ]
    }
   ],
   "source": [
    "y_pred = prior_model.predict(X_test)\n",
    "y_abc = y_pred + np.random.normal(0,variance, y_pred.shape) + bias \n",
    "mse = mean_squared_error(y_pred,Y_test)\n",
    "sb.glue(\"Prior Model MSE\",mse)\n",
    "mse = mean_squared_error(y_abc,Y_test)\n",
    "sb.glue(\"ABC Pre-generator MSE\",mse)\n",
    "mae = mean_absolute_error(y_pred,Y_test)\n",
    "sb.glue(\"Prior Model MAE\",mae)\n",
    "print(\"Prior Model MAE\",mae)\n",
    "mae = mean_absolute_error(y_abc,Y_test)\n",
    "sb.glue(\"ABC Pre-generator MAE\",mae)\n",
    "print(\"ABC Pre-generator MAE\",mae)"
   ]
  },
  {
   "cell_type": "markdown",
   "id": "25609da2",
   "metadata": {
    "papermill": {
     "duration": 0.016253,
     "end_time": "2022-07-22T09:10:38.062185",
     "exception": false,
     "start_time": "2022-07-22T09:10:38.045932",
     "status": "completed"
    },
    "tags": []
   },
   "source": [
    "# mGAN Model"
   ]
  },
  {
   "cell_type": "code",
   "execution_count": 11,
   "id": "dfc3464d",
   "metadata": {
    "execution": {
     "iopub.execute_input": "2022-07-22T09:10:38.096843Z",
     "iopub.status.busy": "2022-07-22T09:10:38.096487Z",
     "iopub.status.idle": "2022-07-22T09:10:38.101305Z",
     "shell.execute_reply": "2022-07-22T09:10:38.099933Z"
    },
    "papermill": {
     "duration": 0.025546,
     "end_time": "2022-07-22T09:10:38.104283",
     "exception": false,
     "start_time": "2022-07-22T09:10:38.078737",
     "status": "completed"
    },
    "tags": []
   },
   "outputs": [],
   "source": [
    "# gen = network.Generator(n_features+1).to(device)\n",
    "# disc = network.Discriminator(n_features+1).to(device)\n",
    "\n",
    "# criterion = torch.nn.BCELoss()\n",
    "# gen_opt = torch.optim.Adam(gen.parameters(), lr=0.001, betas=(0.5, 0.999))\n",
    "# disc_opt = torch.optim.Adam(disc.parameters(), lr=0.001, betas=(0.5, 0.999))"
   ]
  },
  {
   "cell_type": "code",
   "execution_count": 12,
   "id": "b75fdd85",
   "metadata": {
    "execution": {
     "iopub.execute_input": "2022-07-22T09:10:38.141866Z",
     "iopub.status.busy": "2022-07-22T09:10:38.141367Z",
     "iopub.status.idle": "2022-07-22T09:10:38.147727Z",
     "shell.execute_reply": "2022-07-22T09:10:38.145884Z"
    },
    "papermill": {
     "duration": 0.028594,
     "end_time": "2022-07-22T09:10:38.150982",
     "exception": false,
     "start_time": "2022-07-22T09:10:38.122388",
     "status": "completed"
    },
    "tags": []
   },
   "outputs": [],
   "source": [
    "#Training the ABC_GAN \n",
    "# ABC_train_test2.training_GAN(disc,gen,disc_opt,gen_opt,train_data,batch_size,n_epochs,criterion,prior_model,variance,bias,device)"
   ]
  },
  {
   "cell_type": "code",
   "execution_count": 13,
   "id": "1fa7c368",
   "metadata": {
    "execution": {
     "iopub.execute_input": "2022-07-22T09:10:38.202881Z",
     "iopub.status.busy": "2022-07-22T09:10:38.202467Z",
     "iopub.status.idle": "2022-07-22T09:10:38.208111Z",
     "shell.execute_reply": "2022-07-22T09:10:38.206239Z"
    },
    "papermill": {
     "duration": 0.050223,
     "end_time": "2022-07-22T09:10:38.217785",
     "exception": false,
     "start_time": "2022-07-22T09:10:38.167562",
     "status": "completed"
    },
    "tags": []
   },
   "outputs": [],
   "source": [
    "# ABC_GAN1_metrics=ABC_train_test2.test_generator(gen,test_data,prior_model,variance,bias,\"1\",device)\n",
    "# sb.glue(\"ABC_GAN_1 Metrics\",ABC_GAN1_metrics)\n",
    "\n",
    "# print(\"MAE\")\n",
    "# print(mean(ABC_GAN1_metrics[1]))"
   ]
  },
  {
   "cell_type": "code",
   "execution_count": 14,
   "id": "eb22ce5c",
   "metadata": {
    "execution": {
     "iopub.execute_input": "2022-07-22T09:10:38.267992Z",
     "iopub.status.busy": "2022-07-22T09:10:38.267556Z",
     "iopub.status.idle": "2022-07-22T09:10:38.273415Z",
     "shell.execute_reply": "2022-07-22T09:10:38.271178Z"
    },
    "papermill": {
     "duration": 0.042277,
     "end_time": "2022-07-22T09:10:38.276426",
     "exception": false,
     "start_time": "2022-07-22T09:10:38.234149",
     "status": "completed"
    },
    "tags": []
   },
   "outputs": [],
   "source": [
    "# sanityChecks.discProbVsError(train_data,disc,device)\n",
    "# sanityChecks.discProbVsError(test_data,disc,device)"
   ]
  },
  {
   "cell_type": "markdown",
   "id": "1ccbb520",
   "metadata": {
    "papermill": {
     "duration": 0.023802,
     "end_time": "2022-07-22T09:10:38.316242",
     "exception": false,
     "start_time": "2022-07-22T09:10:38.292440",
     "status": "completed"
    },
    "tags": []
   },
   "source": [
    "# mGAN Model with TabNet Generator"
   ]
  },
  {
   "cell_type": "code",
   "execution_count": 15,
   "id": "213b76f8",
   "metadata": {
    "execution": {
     "iopub.execute_input": "2022-07-22T09:10:38.351678Z",
     "iopub.status.busy": "2022-07-22T09:10:38.350818Z",
     "iopub.status.idle": "2022-07-22T09:10:38.369664Z",
     "shell.execute_reply": "2022-07-22T09:10:38.368689Z"
    },
    "papermill": {
     "duration": 0.041686,
     "end_time": "2022-07-22T09:10:38.374071",
     "exception": false,
     "start_time": "2022-07-22T09:10:38.332385",
     "status": "completed"
    },
    "tags": []
   },
   "outputs": [],
   "source": [
    "gen2 = network.GeneratorTabnet(n_features+1).to(device)\n",
    "disc2 = network.Discriminator(n_features+1).to(device)\n",
    "\n",
    "criterion = torch.nn.BCELoss()\n",
    "gen_opt = torch.optim.Adam(gen2.parameters(), lr=0.001, betas=(0.5, 0.999))\n",
    "disc_opt = torch.optim.Adam(disc2.parameters(), lr=0.001, betas=(0.5, 0.999))"
   ]
  },
  {
   "cell_type": "code",
   "execution_count": 16,
   "id": "d75fe001",
   "metadata": {
    "execution": {
     "iopub.execute_input": "2022-07-22T09:10:38.408788Z",
     "iopub.status.busy": "2022-07-22T09:10:38.408130Z",
     "iopub.status.idle": "2022-07-22T09:13:49.472756Z",
     "shell.execute_reply": "2022-07-22T09:13:49.468349Z"
    },
    "papermill": {
     "duration": 191.086062,
     "end_time": "2022-07-22T09:13:49.475831",
     "exception": false,
     "start_time": "2022-07-22T09:10:38.389769",
     "status": "completed"
    },
    "tags": []
   },
   "outputs": [
    {
     "data": {
      "image/png": "[encoded data removed]",
      "text/plain": [
       "<Figure size 432x288 with 1 Axes>"
      ]
     },
     "metadata": {
      "needs_background": "light"
     },
     "output_type": "display_data"
    },
    {
     "data": {
      "image/png": "[encoded data removed]",
      "text/plain": [
       "<Figure size 432x288 with 1 Axes>"
      ]
     },
     "metadata": {
      "needs_background": "light"
     },
     "output_type": "display_data"
    }
   ],
   "source": [
    "#Training the ABC_GAN \n",
    "ABC_train_test2.training_GAN(disc2,gen2,disc_opt,gen_opt,train_data,batch_size,n_epochs,criterion,prior_model,variance,bias,device)"
   ]
  },
  {
   "cell_type": "code",
   "execution_count": 17,
   "id": "d3e17e0f",
   "metadata": {
    "execution": {
     "iopub.execute_input": "2022-07-22T09:13:49.518577Z",
     "iopub.status.busy": "2022-07-22T09:13:49.517868Z",
     "iopub.status.idle": "2022-07-22T09:13:51.914601Z",
     "shell.execute_reply": "2022-07-22T09:13:51.913458Z"
    },
    "papermill": {
     "duration": 2.424664,
     "end_time": "2022-07-22T09:13:51.918589",
     "exception": false,
     "start_time": "2022-07-22T09:13:49.493925",
     "status": "completed"
    },
    "tags": []
   },
   "outputs": [
    {
     "data": {
      "application/scrapbook.scrap.json+json": {
       "data": 0.2506858309462252,
       "encoder": "json",
       "name": "ABC-GAN Model 1 MSE",
       "version": 1
      }
     },
     "metadata": {
      "scrapbook": {
       "data": true,
       "display": false,
       "name": "ABC-GAN Model 1 MSE"
      }
     },
     "output_type": "display_data"
    },
    {
     "data": {
      "application/scrapbook.scrap.json+json": {
       "data": 0.3939229450635612,
       "encoder": "json",
       "name": "ABC-GAN Model 1 MAE",
       "version": 1
      }
     },
     "metadata": {
      "scrapbook": {
       "data": true,
       "display": false,
       "name": "ABC-GAN Model 1 MAE"
      }
     },
     "output_type": "display_data"
    },
    {
     "data": {
      "application/scrapbook.scrap.json+json": {
       "data": 7.878458901271224,
       "encoder": "json",
       "name": "ABC-GAN Model 1 Manhattan Distance",
       "version": 1
      }
     },
     "metadata": {
      "scrapbook": {
       "data": true,
       "display": false,
       "name": "ABC-GAN Model 1 Manhattan Distance"
      }
     },
     "output_type": "display_data"
    },
    {
     "data": {
      "application/scrapbook.scrap.json+json": {
       "data": 2.234470521033583,
       "encoder": "json",
       "name": "ABC-GAN Model 1 Euclidean distance",
       "version": 1
      }
     },
     "metadata": {
      "scrapbook": {
       "data": true,
       "display": false,
       "name": "ABC-GAN Model 1 Euclidean distance"
      }
     },
     "output_type": "display_data"
    },
    {
     "data": {
      "application/scrapbook.scrap.json+json": {
       "data": [
        [
         0.2631453177653186,
         0.20095758471799846,
         0.24348679726893238,
         0.24066856047584975,
         0.26184599749033377,
         0.2495510964994402,
         0.23461590649171096,
         0.25554605075043546,
         0.2802483890252926,
         0.26095339514825583,
         0.2663966230506943,
         0.22091103918251495,
         0.21792541630588796,
         0.24960650855629565,
         0.31595527959112985,
         0.26907649499602637,
         0.2661765855165078,
         0.23585262372644564,
         0.23200471699934916,
         0.24274832147225323,
         0.27271676915119947,
         0.258299733144219,
         0.3115944410071959,
         0.2160992138469981,
         0.2505844865588491,
         0.30750216986308815,
         0.251355967160038,
         0.1981448572784489,
         0.22373025511451688,
         0.2814689194124095,
         0.2797625652489055,
         0.2468569631144386,
         0.3043403156084219,
         0.2125864310457064,
         0.2530566433116793,
         0.22189815071195026,
         0.249392495241845,
         0.2655497258035972,
         0.278114810622592,
         0.2731298484003642,
         0.26545386672201227,
         0.2627462346643274,
         0.2578910766250995,
         0.26660616821087796,
         0.16860585945931322,
         0.23204541623630423,
         0.2302000616706187,
         0.20475554879002789,
         0.2314826710197496,
         0.27805342090746576,
         0.2499459868911033,
         0.25843121624192583,
         0.2685329232445973,
         0.27714532508102463,
         0.15011330248884933,
         0.28118775143832236,
         0.28931576147681815,
         0.30358467003747835,
         0.24094078629886373,
         0.225969472836053,
         0.28861265570303324,
         0.25159869475176266,
         0.29741189867733564,
         0.23866721429605126,
         0.2728291989894194,
         0.3042089982483172,
         0.2756177291454852,
         0.26315988801715756,
         0.258498115040134,
         0.2230246171964411,
         0.2253332955026389,
         0.2928856334411963,
         0.25464780365773,
         0.21152305543776512,
         0.17860230498497626,
         0.277068052660213,
         0.22899273874953993,
         0.25714887530808983,
         0.20458024385695098,
         0.22539593910495434,
         0.29819120488805373,
         0.24631044665063695,
         0.23344900990791154,
         0.29532989408867044,
         0.21650867910334318,
         0.2581511177958319,
         0.2421167600054422,
         0.2525186237338091,
         0.23444570850366037,
         0.19209963404174019,
         0.2435028654265413,
         0.2585278998217587,
         0.19298532914144056,
         0.26130013086048776,
         0.25278549802501044,
         0.25081770379649737,
         0.28353793983256215,
         0.2232265699345624,
         0.2816611876125348,
         0.2144449516648629
        ],
        [
         0.40435365960001945,
         0.38658787980675696,
         0.3761345498263836,
         0.3928726453334093,
         0.4048084385693073,
         0.40652103051543237,
         0.3378289632499218,
         0.39897082298994063,
         0.40631387010216713,
         0.4128528945147991,
         0.4196058176457882,
         0.381499756872654,
         0.3828365534543991,
         0.39281864240765574,
         0.43756543174386026,
         0.3846832886338234,
         0.40888698399066925,
         0.3994034692645073,
         0.41534764915704725,
         0.38059783950448034,
         0.39873638898134234,
         0.4146586425602436,
         0.42276920899748804,
         0.37624309174716475,
         0.39954210370779036,
         0.4378052182495594,
         0.4118586637079716,
         0.34861090406775475,
         0.35846090465784075,
         0.42409525364637374,
         0.4046740926802158,
         0.3559266433119774,
         0.41844294145703315,
         0.369285024702549,
         0.38951297774910926,
         0.35486155599355695,
         0.37625711113214494,
         0.38783312737941744,
         0.4179591849446297,
         0.43831938579678537,
         0.4225320387631655,
         0.3929170906543732,
         0.405104448646307,
         0.4288718730211258,
         0.3405792087316513,
         0.3897362634539604,
         0.3777777135372162,
         0.36460195407271384,
         0.35252708941698074,
         0.4212303511798382,
         0.40164474546909334,
         0.34120160415768624,
         0.38702707141637804,
         0.3797544851899147,
         0.2995017945766449,
         0.4208007648587227,
         0.4030499283224344,
         0.4334893099963665,
         0.3981157675385475,
         0.39982240945100783,
         0.4355178751051426,
         0.41950959265232085,
         0.4647259287536144,
         0.3922508843243122,
         0.427596565335989,
         0.42968616746366023,
         0.4161142736673355,
         0.3706272229552269,
         0.40477552488446233,
         0.3862742818892002,
         0.373309525847435,
         0.41648384779691694,
         0.39985348358750344,
         0.3759957328438759,
         0.3312988728284836,
         0.4405361253768206,
         0.3922856040298939,
         0.4047130085527897,
         0.381058444082737,
         0.3799384400248528,
         0.41248143687844274,
         0.3861509397625923,
         0.39375685453414916,
         0.42464899867773054,
         0.38253679797053336,
         0.3992353960871696,
         0.39730810523033144,
         0.37987660579383375,
         0.3791680604219437,
         0.3623175635933876,
         0.3707076832652092,
         0.38915116190910337,
         0.35498922392725946,
         0.40314960964024066,
         0.3990672007203102,
         0.41578550487756727,
         0.36799589805305005,
         0.357709002494812,
         0.4082697704434395,
         0.3688087649643421
        ],
        [
         8.087073192000389,
         7.7317575961351395,
         7.522690996527672,
         7.857452906668186,
         8.096168771386147,
         8.130420610308647,
         6.756579264998436,
         7.979416459798813,
         8.126277402043343,
         8.257057890295982,
         8.392116352915764,
         7.629995137453079,
         7.656731069087982,
         7.856372848153114,
         8.751308634877205,
         7.693665772676468,
         8.177739679813385,
         7.988069385290146,
         8.306952983140945,
         7.611956790089607,
         7.974727779626846,
         8.293172851204872,
         8.45538417994976,
         7.5248618349432945,
         7.9908420741558075,
         8.756104364991188,
         8.237173274159431,
         6.972218081355095,
         7.169218093156815,
         8.481905072927475,
         8.093481853604317,
         7.118532866239548,
         8.368858829140663,
         7.38570049405098,
         7.790259554982185,
         7.0972311198711395,
         7.525142222642899,
         7.756662547588348,
         8.359183698892593,
         8.766387715935707,
         8.45064077526331,
         7.858341813087463,
         8.10208897292614,
         8.577437460422516,
         6.811584174633026,
         7.794725269079208,
         7.555554270744324,
         7.292039081454277,
         7.050541788339615,
         8.424607023596764,
         8.032894909381866,
         6.824032083153725,
         7.74054142832756,
         7.595089703798294,
         5.990035891532898,
         8.416015297174454,
         8.060998566448689,
         8.66978619992733,
         7.96231535077095,
         7.996448189020157,
         8.710357502102852,
         8.390191853046417,
         9.294518575072289,
         7.845017686486244,
         8.55193130671978,
         8.593723349273205,
         8.32228547334671,
         7.412544459104538,
         8.095510497689247,
         7.725485637784004,
         7.4661905169487,
         8.32967695593834,
         7.997069671750069,
         7.519914656877518,
         6.625977456569672,
         8.810722507536411,
         7.8457120805978775,
         8.094260171055794,
         7.621168881654739,
         7.598768800497055,
         8.249628737568855,
         7.723018795251846,
         7.875137090682983,
         8.492979973554611,
         7.650735959410667,
         7.984707921743393,
         7.946162104606628,
         7.597532115876675,
         7.583361208438873,
         7.246351271867752,
         7.414153665304184,
         7.783023238182068,
         7.099784478545189,
         8.062992192804813,
         7.981344014406204,
         8.315710097551346,
         7.359917961061001,
         7.15418004989624,
         8.16539540886879,
         7.376175299286842
        ],
        [
         2.294102516302698,
         2.0047822062159195,
         2.206747820975167,
         2.1939396549397148,
         2.288431766473861,
         2.234059518005016,
         2.166175923103712,
         2.2607346184390393,
         2.367481315767001,
         2.284527938757834,
         2.30823145741797,
         2.10195641811392,
         2.0877040801123514,
         2.234307537275456,
         2.5137831234660233,
         2.319812470852014,
         2.3072779872243734,
         2.1718776380194424,
         2.154087820862228,
         2.2033988357637533,
         2.3354518584256856,
         2.272882456900132,
         2.496375136101127,
         2.078938257125488,
         2.2386803548467973,
         2.4799281032444798,
         2.2421238465349678,
         1.9907026763354134,
         2.1153262401554844,
         2.3726311108657807,
         2.365428355494647,
         2.2219674305193524,
         2.467145377185633,
         2.0619720223402953,
         2.249696171982694,
         2.106647339788747,
         2.2333494811240135,
         2.304559505864829,
         2.358452079744645,
         2.3372199229014123,
         2.3041435142890396,
         2.292362251758336,
         2.271083779278517,
         2.309139095900799,
         1.8363325377464357,
         2.1542767521203223,
         2.145693648546403,
         2.0236380545444774,
         2.151662943026856,
         2.3581917687392,
         2.2358264104849614,
         2.2734608694320024,
         2.3174681151834533,
         2.354337805333061,
         1.7327048363114206,
         2.3714457676207665,
         2.4054760920733265,
         2.4640806400663045,
         2.195180112422959,
         2.1258855699969037,
         2.4025513759461345,
         2.2432061641844814,
         2.438900976576686,
         2.184798454302141,
         2.335933213897261,
         2.466613055379044,
         2.3478404083135005,
         2.294166027196626,
         2.27375511012129,
         2.111987770781077,
         2.1228909322084304,
         2.420271197371056,
         2.2567578676399025,
         2.056808476439968,
         1.889985740607459,
         2.3540095694801795,
         2.1400595260391237,
         2.2678133755143515,
         2.0227715830362607,
         2.123185997999018,
         2.4420942032937787,
         2.2195064615839124,
         2.1607823116080507,
         2.430349333279767,
         2.0809069133593803,
         2.272228499934951,
         2.2005306632966612,
         2.2473033784240575,
         2.1653900734216935,
         1.9601001711225894,
         2.206820633520275,
         2.273886100145558,
         1.9646135963157771,
         2.2860451914189612,
         2.248490596044424,
         2.2397218746822,
         2.3813355069479907,
         2.1129437755631946,
         2.373441331116212,
         2.07096572480021
        ]
       ],
       "encoder": "json",
       "name": "ABC_GAN_2 Metrics",
       "version": 1
      }
     },
     "metadata": {
      "scrapbook": {
       "data": true,
       "display": false,
       "name": "ABC_GAN_2 Metrics"
      }
     },
     "output_type": "display_data"
    },
    {
     "name": "stdout",
     "output_type": "stream",
     "text": [
      "MAE\n",
      "0.3939229450635612\n"
     ]
    }
   ],
   "source": [
    "ABC_GAN2_metrics=ABC_train_test2.test_generator(gen2,test_data,prior_model,variance,bias,\"1\",device)\n",
    "sb.glue(\"ABC_GAN_2 Metrics\",ABC_GAN2_metrics)\n",
    "\n",
    "print(\"MAE\")\n",
    "print(mean(ABC_GAN2_metrics[1]))"
   ]
  },
  {
   "cell_type": "code",
   "execution_count": 18,
   "id": "b2ba73e9",
   "metadata": {
    "execution": {
     "iopub.execute_input": "2022-07-22T09:13:51.960117Z",
     "iopub.status.busy": "2022-07-22T09:13:51.959360Z",
     "iopub.status.idle": "2022-07-22T09:13:52.982580Z",
     "shell.execute_reply": "2022-07-22T09:13:52.981416Z"
    },
    "papermill": {
     "duration": 1.047238,
     "end_time": "2022-07-22T09:13:52.985233",
     "exception": false,
     "start_time": "2022-07-22T09:13:51.937995",
     "status": "completed"
    },
    "tags": []
   },
   "outputs": [
    {
     "data": {
      "image/png": "[encoded data removed]",
      "text/plain": [
       "<Figure size 432x288 with 1 Axes>"
      ]
     },
     "metadata": {
      "needs_background": "light"
     },
     "output_type": "display_data"
    },
    {
     "data": {
      "image/png": "[encoded data removed]",
      "text/plain": [
       "<Figure size 432x288 with 1 Axes>"
      ]
     },
     "metadata": {
      "needs_background": "light"
     },
     "output_type": "display_data"
    },
    {
     "data": {
      "image/png": "[encoded data removed]",
      "text/plain": [
       "<Figure size 432x288 with 1 Axes>"
      ]
     },
     "metadata": {
      "needs_background": "light"
     },
     "output_type": "display_data"
    },
    {
     "data": {
      "image/png": "[encoded data removed]",
      "text/plain": [
       "<Figure size 432x288 with 1 Axes>"
      ]
     },
     "metadata": {
      "needs_background": "light"
     },
     "output_type": "display_data"
    }
   ],
   "source": [
    "sanityChecks.discProbVsError(train_data,disc2,device)\n",
    "sanityChecks.discProbVsError(test_data,disc2,device)"
   ]
  },
  {
   "cell_type": "markdown",
   "id": "130f3a4d",
   "metadata": {
    "id": "130f3a4d",
    "papermill": {
     "duration": 0.022734,
     "end_time": "2022-07-22T09:13:53.030621",
     "exception": false,
     "start_time": "2022-07-22T09:13:53.007887",
     "status": "completed"
    },
    "tags": []
   },
   "source": [
    "# skipGAN Model"
   ]
  },
  {
   "cell_type": "code",
   "execution_count": 19,
   "id": "4e43dad1",
   "metadata": {
    "execution": {
     "iopub.execute_input": "2022-07-22T09:13:53.077129Z",
     "iopub.status.busy": "2022-07-22T09:13:53.076694Z",
     "iopub.status.idle": "2022-07-22T09:13:53.083896Z",
     "shell.execute_reply": "2022-07-22T09:13:53.082249Z"
    },
    "id": "4e43dad1",
    "papermill": {
     "duration": 0.035254,
     "end_time": "2022-07-22T09:13:53.088519",
     "exception": false,
     "start_time": "2022-07-22T09:13:53.053265",
     "status": "completed"
    },
    "tags": []
   },
   "outputs": [],
   "source": [
    "# #Generator\n",
    "# gen3 = network.GeneratorWithSkipConnection(n_features+1).to(device)\n",
    "# constraints=network.weightConstraint()\n",
    "# #Discriminator \n",
    "# disc3 = network.Discriminator(n_features+1).to(device)\n",
    "\n",
    "# criterion = torch.nn.BCELoss()\n",
    "# gen_opt = torch.optim.Adam(gen3.parameters(), lr=0.01, betas=(0.5, 0.999))\n",
    "# disc_opt = torch.optim.Adam(disc3.parameters(), lr=0.01, betas=(0.5, 0.999))\n"
   ]
  },
  {
   "cell_type": "code",
   "execution_count": 20,
   "id": "26acbc37",
   "metadata": {
    "execution": {
     "iopub.execute_input": "2022-07-22T09:13:53.147580Z",
     "iopub.status.busy": "2022-07-22T09:13:53.146939Z",
     "iopub.status.idle": "2022-07-22T09:13:53.154958Z",
     "shell.execute_reply": "2022-07-22T09:13:53.153726Z"
    },
    "id": "26acbc37",
    "papermill": {
     "duration": 0.050272,
     "end_time": "2022-07-22T09:13:53.159271",
     "exception": false,
     "start_time": "2022-07-22T09:13:53.108999",
     "status": "completed"
    },
    "tags": []
   },
   "outputs": [],
   "source": [
    "# ABC_train_test2.training_GAN_skip_connection(disc3,gen3,disc_opt,gen_opt,train_data,batch_size,n_epochs,criterion,prior_model,variance,bias,device)"
   ]
  },
  {
   "cell_type": "code",
   "execution_count": 21,
   "id": "c5e0717b",
   "metadata": {
    "execution": {
     "iopub.execute_input": "2022-07-22T09:13:53.205508Z",
     "iopub.status.busy": "2022-07-22T09:13:53.204685Z",
     "iopub.status.idle": "2022-07-22T09:13:53.211383Z",
     "shell.execute_reply": "2022-07-22T09:13:53.208672Z"
    },
    "id": "c5e0717b",
    "papermill": {
     "duration": 0.038391,
     "end_time": "2022-07-22T09:13:53.218584",
     "exception": false,
     "start_time": "2022-07-22T09:13:53.180193",
     "status": "completed"
    },
    "tags": []
   },
   "outputs": [],
   "source": [
    "# ABC_GAN3_metrics=ABC_train_test2.test_generator(gen3,test_data,prior_model,variance,bias,\"3\",device)\n",
    "# sb.glue(\"ABC_GAN_3 Metrics\",ABC_GAN3_metrics)\n",
    "\n",
    "# print(\"MAE\")\n",
    "# print(mean(ABC_GAN3_metrics[1]))"
   ]
  },
  {
   "cell_type": "code",
   "execution_count": 22,
   "id": "c8e46b48",
   "metadata": {
    "execution": {
     "iopub.execute_input": "2022-07-22T09:13:53.266255Z",
     "iopub.status.busy": "2022-07-22T09:13:53.265746Z",
     "iopub.status.idle": "2022-07-22T09:13:53.271895Z",
     "shell.execute_reply": "2022-07-22T09:13:53.270338Z"
    },
    "id": "c8e46b48",
    "papermill": {
     "duration": 0.035578,
     "end_time": "2022-07-22T09:13:53.275679",
     "exception": false,
     "start_time": "2022-07-22T09:13:53.240101",
     "status": "completed"
    },
    "tags": []
   },
   "outputs": [],
   "source": [
    "# sanityChecks.discProbVsError(train_data,disc3,device)\n",
    "# sanityChecks.discProbVsError(test_data,disc3,device)"
   ]
  },
  {
   "cell_type": "markdown",
   "id": "672da9eb",
   "metadata": {
    "id": "130f3a4d",
    "papermill": {
     "duration": 0.03809,
     "end_time": "2022-07-22T09:13:53.335003",
     "exception": false,
     "start_time": "2022-07-22T09:13:53.296913",
     "status": "completed"
    },
    "tags": []
   },
   "source": [
    "# skipGAN Model with TabNet Generator"
   ]
  },
  {
   "cell_type": "code",
   "execution_count": 23,
   "id": "cc8540f0",
   "metadata": {
    "execution": {
     "iopub.execute_input": "2022-07-22T09:13:53.384280Z",
     "iopub.status.busy": "2022-07-22T09:13:53.383933Z",
     "iopub.status.idle": "2022-07-22T09:13:53.404338Z",
     "shell.execute_reply": "2022-07-22T09:13:53.403442Z"
    },
    "id": "4e43dad1",
    "papermill": {
     "duration": 0.048993,
     "end_time": "2022-07-22T09:13:53.407810",
     "exception": false,
     "start_time": "2022-07-22T09:13:53.358817",
     "status": "completed"
    },
    "tags": []
   },
   "outputs": [],
   "source": [
    "#Generator\n",
    "gen4 = network.GeneratorTabnetskipConnection(n_features+1).to(device)\n",
    "constraints=network.weightConstraint()\n",
    "#Discriminator \n",
    "disc4 = network.Discriminator(n_features+1).to(device)\n",
    "\n",
    "criterion = torch.nn.BCELoss()\n",
    "gen_opt = torch.optim.Adam(gen4.parameters(), lr=0.001, betas=(0.5, 0.999))\n",
    "disc_opt = torch.optim.Adam(disc4.parameters(), lr=0.001, betas=(0.5, 0.999))\n"
   ]
  },
  {
   "cell_type": "code",
   "execution_count": 24,
   "id": "56947251",
   "metadata": {
    "execution": {
     "iopub.execute_input": "2022-07-22T09:13:53.460593Z",
     "iopub.status.busy": "2022-07-22T09:13:53.459829Z",
     "iopub.status.idle": "2022-07-22T09:18:55.743894Z",
     "shell.execute_reply": "2022-07-22T09:18:55.741830Z"
    },
    "id": "26acbc37",
    "papermill": {
     "duration": 302.321723,
     "end_time": "2022-07-22T09:18:55.754133",
     "exception": false,
     "start_time": "2022-07-22T09:13:53.432410",
     "status": "completed"
    },
    "tags": []
   },
   "outputs": [
    {
     "data": {
      "image/png": "[encoded data removed]",
      "text/plain": [
       "<Figure size 432x288 with 1 Axes>"
      ]
     },
     "metadata": {
      "needs_background": "light"
     },
     "output_type": "display_data"
    },
    {
     "data": {
      "image/png": "[encoded data removed]",
      "text/plain": [
       "<Figure size 432x288 with 1 Axes>"
      ]
     },
     "metadata": {
      "needs_background": "light"
     },
     "output_type": "display_data"
    }
   ],
   "source": [
    "ABC_train_test2.training_GAN_skip_connection(disc4,gen4,disc_opt,gen_opt,train_data,batch_size,n_epochs,criterion,prior_model,variance,bias,device)"
   ]
  },
  {
   "cell_type": "code",
   "execution_count": 25,
   "id": "2a3900f3",
   "metadata": {
    "execution": {
     "iopub.execute_input": "2022-07-22T09:18:55.854441Z",
     "iopub.status.busy": "2022-07-22T09:18:55.853853Z",
     "iopub.status.idle": "2022-07-22T09:18:59.257286Z",
     "shell.execute_reply": "2022-07-22T09:18:59.255194Z"
    },
    "id": "c5e0717b",
    "papermill": {
     "duration": 3.450329,
     "end_time": "2022-07-22T09:18:59.262727",
     "exception": false,
     "start_time": "2022-07-22T09:18:55.812398",
     "status": "completed"
    },
    "tags": []
   },
   "outputs": [
    {
     "data": {
      "application/scrapbook.scrap.json+json": {
       "data": 0.33834529949804126,
       "encoder": "json",
       "name": "ABC-GAN Model 3 MSE",
       "version": 1
      }
     },
     "metadata": {
      "scrapbook": {
       "data": true,
       "display": false,
       "name": "ABC-GAN Model 3 MSE"
      }
     },
     "output_type": "display_data"
    },
    {
     "data": {
      "application/scrapbook.scrap.json+json": {
       "data": 0.46783941957727077,
       "encoder": "json",
       "name": "ABC-GAN Model 3 MAE",
       "version": 1
      }
     },
     "metadata": {
      "scrapbook": {
       "data": true,
       "display": false,
       "name": "ABC-GAN Model 3 MAE"
      }
     },
     "output_type": "display_data"
    },
    {
     "data": {
      "application/scrapbook.scrap.json+json": {
       "data": 9.356788391545415,
       "encoder": "json",
       "name": "ABC-GAN Model 3 Manhattan Distance",
       "version": 1
      }
     },
     "metadata": {
      "scrapbook": {
       "data": true,
       "display": false,
       "name": "ABC-GAN Model 3 Manhattan Distance"
      }
     },
     "output_type": "display_data"
    },
    {
     "data": {
      "application/scrapbook.scrap.json+json": {
       "data": 2.571147264562913,
       "encoder": "json",
       "name": "ABC-GAN Model 3 Euclidean distance",
       "version": 1
      }
     },
     "metadata": {
      "scrapbook": {
       "data": true,
       "display": false,
       "name": "ABC-GAN Model 3 Euclidean distance"
      }
     },
     "output_type": "display_data"
    },
    {
     "data": {
      "application/scrapbook.scrap.json+json": {
       "data": [
        [
         0.22607076785929853,
         0.14514525714788115,
         0.30735203173340864,
         0.42871780721949976,
         0.3222712815374515,
         0.28832705797692226,
         0.39445534208309346,
         0.44826683140119405,
         0.6062299047460544,
         0.1910245189383538,
         0.30625722388605847,
         0.2509767966125226,
         0.46275566107490657,
         0.28155835890367353,
         0.4389444498576842,
         0.5010919016631268,
         0.2687197168250852,
         0.2965204989267992,
         0.44059281014047186,
         0.4246978039846743,
         0.3253422767409029,
         0.3126511151444558,
         0.3701656375636353,
         0.30837441942328714,
         0.4093892283031623,
         0.26493263708186887,
         0.2514519121300733,
         0.33549623706178294,
         0.26311172226718293,
         0.30086266432553294,
         0.42109613900527376,
         0.3683200594290688,
         0.5417344252251622,
         0.24690140214080508,
         0.5017346002154568,
         0.2490055320252869,
         0.2401561156397174,
         0.40897905020649433,
         0.1867193107075964,
         0.27718121952245645,
         0.6503996855662717,
         0.30923257769695833,
         0.40438754289300094,
         0.44587747362860614,
         0.27451538508862783,
         0.26243550560456846,
         0.3366550835599852,
         0.25727019293854786,
         0.356250200690109,
         0.28925170836914055,
         0.33139296318567035,
         0.49417915434303267,
         0.25889033668706796,
         0.4057411159747044,
         0.5060476167326899,
         0.27418179862435343,
         0.27515220193000617,
         0.30530020392448587,
         0.3433270359514661,
         0.4547371971284869,
         0.30726325589367887,
         0.25539759971412285,
         0.4807655712158862,
         0.2925424976081871,
         0.3093549606176954,
         0.5567173426199694,
         0.2160277749396192,
         0.3281323281077229,
         0.22919691975742143,
         0.4531974600551612,
         0.34763785601238595,
         0.3526089587776897,
         0.3175087702457269,
         0.2226525363303599,
         0.2848478925697967,
         0.2985957140471856,
         0.1833448656648798,
         0.32084922745325095,
         0.25231776160573993,
         0.4406529470212438,
         0.37145387899837234,
         0.2218441701374439,
         0.29353566215119287,
         0.6100537266253304,
         0.37072184815977804,
         0.3142770906710674,
         0.4175006792423428,
         0.38028575517075125,
         0.16879227618693224,
         0.25180075671896596,
         0.3169768075831517,
         0.37260754359712134,
         0.525633149957974,
         0.29898194117477694,
         0.2770202493179103,
         0.23949128923541507,
         0.4895319405109609,
         0.26845535137267024,
         0.13161851743781564,
         0.215528368101287
        ],
        [
         0.3913195066154003,
         0.3033486679196358,
         0.450332597643137,
         0.5200401067733764,
         0.4296128906309605,
         0.42527017518877985,
         0.5304541602730751,
         0.6066321559250355,
         0.6702837629243732,
         0.35686829295009376,
         0.4459717862308025,
         0.38573532477021216,
         0.5692835923284292,
         0.4576594777405262,
         0.5720940321683884,
         0.6160195425152779,
         0.3909792274236679,
         0.4856611810624599,
         0.5133505094796419,
         0.5280270336195827,
         0.46063554510474203,
         0.4546976754441857,
         0.49769511446356773,
         0.47019405886530874,
         0.5492343887686729,
         0.44598872773349285,
         0.3970400163903832,
         0.5101141441613436,
         0.3994995716959238,
         0.4757140763103962,
         0.4174067134037614,
         0.49952510818839074,
         0.6197694905102253,
         0.4290681958198547,
         0.5020559124648571,
         0.4051961779594421,
         0.3741672053933144,
         0.5252137944102288,
         0.3472403112798929,
         0.44252213584259154,
         0.6388834919780493,
         0.43503802493214605,
         0.48073988147079944,
         0.4598368152976036,
         0.3851866990327835,
         0.41625559851527216,
         0.45649987980723383,
         0.43843428753316405,
         0.4866734862327576,
         0.45891097784042356,
         0.48218407332897184,
         0.5751894995570183,
         0.42057954221963884,
         0.495073289424181,
         0.6208480816334486,
         0.4512122761458158,
         0.4319393903017044,
         0.4611039847135544,
         0.4915001720190048,
         0.5332516957074404,
         0.4874187409877777,
         0.38644426530227066,
         0.5979447964578867,
         0.44080080576241015,
         0.4512873334810138,
         0.6224268496036529,
         0.3581549733877182,
         0.47158507257699966,
         0.39145577400922776,
         0.5351429734379053,
         0.4267754264175892,
         0.4439940579235554,
         0.49702070131897924,
         0.3824326448142529,
         0.4249054994434118,
         0.4374759020283818,
         0.3626385685056448,
         0.483842284232378,
         0.3741335116326809,
         0.5155173078179359,
         0.4960858330130577,
         0.36226859092712405,
         0.46224520690739157,
         0.6626699138432741,
         0.519530588388443,
         0.4416076958179474,
         0.5591245241463184,
         0.4739139094948769,
         0.33440600596368314,
         0.4195846028625965,
         0.4615614891052246,
         0.5357398308813572,
         0.5388377517461777,
         0.4744811046868563,
         0.3715092107653618,
         0.39814388677477835,
         0.5910832058638334,
         0.4097048658877611,
         0.2758154429495335,
         0.4129672724753618
        ],
        [
         7.826390132308006,
         6.0669733583927155,
         9.00665195286274,
         10.40080213546753,
         8.59225781261921,
         8.505403503775597,
         10.609083205461502,
         12.13264311850071,
         13.405675258487463,
         7.137365859001875,
         8.91943572461605,
         7.7147064954042435,
         11.385671846568584,
         9.153189554810524,
         11.441880643367767,
         12.320390850305557,
         7.819584548473358,
         9.713223621249199,
         10.267010189592838,
         10.560540672391653,
         9.212710902094841,
         9.093953508883715,
         9.953902289271355,
         9.403881177306175,
         10.984687775373459,
         8.919774554669857,
         7.940800327807665,
         10.202282883226871,
         7.989991433918476,
         9.514281526207924,
         8.348134268075228,
         9.990502163767815,
         12.395389810204506,
         8.581363916397095,
         10.041118249297142,
         8.103923559188843,
         7.483344107866287,
         10.504275888204575,
         6.944806225597858,
         8.85044271685183,
         12.777669839560986,
         8.700760498642921,
         9.614797629415989,
         9.196736305952072,
         7.70373398065567,
         8.325111970305443,
         9.129997596144676,
         8.76868575066328,
         9.733469724655151,
         9.178219556808472,
         9.643681466579437,
         11.503789991140366,
         8.411590844392776,
         9.90146578848362,
         12.416961632668972,
         9.024245522916317,
         8.638787806034088,
         9.222079694271088,
         9.830003440380096,
         10.665033914148808,
         9.748374819755554,
         7.728885306045413,
         11.958895929157734,
         8.816016115248203,
         9.025746669620275,
         12.448536992073059,
         7.163099467754364,
         9.431701451539993,
         7.829115480184555,
         10.702859468758106,
         8.535508528351784,
         8.879881158471107,
         9.940414026379585,
         7.648652896285057,
         8.498109988868237,
         8.749518040567636,
         7.252771370112896,
         9.67684568464756,
         7.482670232653618,
         10.310346156358719,
         9.921716660261154,
         7.2453718185424805,
         9.244904138147831,
         13.253398276865482,
         10.39061176776886,
         8.832153916358948,
         11.182490482926369,
         9.478278189897537,
         6.688120119273663,
         8.39169205725193,
         9.231229782104492,
         10.714796617627144,
         10.776755034923553,
         9.489622093737125,
         7.430184215307236,
         7.962877735495567,
         11.821664117276669,
         8.194097317755222,
         5.516308858990669,
         8.259345449507236
        ],
        [
         2.1263620005036703,
         1.7037914024192111,
         2.4793226160925834,
         2.9282001544276297,
         2.5387842820430864,
         2.4013623549015763,
         2.808755390143803,
         2.9942171978705687,
         3.4820393586117158,
         1.954607474345444,
         2.4749029228883237,
         2.240432086060734,
         3.0422217574493366,
         2.3730080442496333,
         2.962918999425007,
         3.1657286733487657,
         2.3182739994447816,
         2.435243309925311,
         2.9684770847708153,
         2.914439239320917,
         2.5508519233420937,
         2.5006043875209683,
         2.7209029294101446,
         2.4834428498489234,
         2.8614305104376108,
         2.3018802622285497,
         2.2425517257359897,
         2.590352242695124,
         2.293956068747538,
         2.4530090269933087,
         2.9020549236886395,
         2.7141114915532443,
         3.2916088018631924,
         2.222167420068997,
         3.1677581985229137,
         2.231616149902518,
         2.19160268132578,
         2.859996679041758,
         1.932456005748107,
         2.3544902612771894,
         3.606659633417802,
         2.4868959676550944,
         2.8438971250486573,
         2.9862266277983864,
         2.343140563810152,
         2.2910063535685294,
         2.5948220885447433,
         2.268348266640499,
         2.6692703148617563,
         2.405209796958014,
         2.574462907814639,
         3.1438166433271286,
         2.275479451399498,
         2.8486527200580434,
         3.181344422512878,
         2.3417164586019097,
         2.345856781348794,
         2.4710329982599823,
         2.62040850231969,
         3.0157493169309912,
         2.4789645253358463,
         2.260077873499596,
         3.10085656300283,
         2.4188530240929778,
         2.4873880301139,
         3.3368168742679583,
         2.078594597027613,
         2.56176629733363,
         2.1410134037759847,
         3.010639334278223,
         2.6368081311023976,
         2.6555939402615367,
         2.519955437089025,
         2.110225278639036,
         2.3868300843160024,
         2.443750044694365,
         1.9149144402029028,
         2.5331767701968646,
         2.2464094088377564,
         2.968679662817273,
         2.72563342729125,
         2.1063910849481102,
         2.422955476896729,
         3.493003654808653,
         2.722946375380088,
         2.507098285552712,
         2.8896390059740775,
         2.757846098573128,
         1.8373474150902014,
         2.2441067564577493,
         2.5178435518639826,
         2.729862793611142,
         3.2423237036359405,
         2.44533000298437,
         2.3538064887237877,
         2.188567061962759,
         3.128999650082949,
         2.31713336419236,
         1.6224581192611145,
         2.0761905890418006
        ]
       ],
       "encoder": "json",
       "name": "ABC_GAN_4 Metrics",
       "version": 1
      }
     },
     "metadata": {
      "scrapbook": {
       "data": true,
       "display": false,
       "name": "ABC_GAN_4 Metrics"
      }
     },
     "output_type": "display_data"
    },
    {
     "name": "stdout",
     "output_type": "stream",
     "text": [
      "MAE\n",
      "0.46783941957727077\n"
     ]
    }
   ],
   "source": [
    "ABC_GAN4_metrics=ABC_train_test2.test_generator(gen4,test_data,prior_model,variance,bias,\"3\",device)\n",
    "sb.glue(\"ABC_GAN_4 Metrics\",ABC_GAN4_metrics)\n",
    "\n",
    "print(\"MAE\")\n",
    "print(mean(ABC_GAN4_metrics[1]))"
   ]
  },
  {
   "cell_type": "code",
   "execution_count": 26,
   "id": "4e19ce45",
   "metadata": {
    "execution": {
     "iopub.execute_input": "2022-07-22T09:18:59.355138Z",
     "iopub.status.busy": "2022-07-22T09:18:59.352274Z",
     "iopub.status.idle": "2022-07-22T09:19:01.707791Z",
     "shell.execute_reply": "2022-07-22T09:19:01.706569Z"
    },
    "id": "c8e46b48",
    "papermill": {
     "duration": 2.419738,
     "end_time": "2022-07-22T09:19:01.721530",
     "exception": false,
     "start_time": "2022-07-22T09:18:59.301792",
     "status": "completed"
    },
    "tags": []
   },
   "outputs": [
    {
     "data": {
      "image/png": "[encoded data removed]",
      "text/plain": [
       "<Figure size 432x288 with 1 Axes>"
      ]
     },
     "metadata": {
      "needs_background": "light"
     },
     "output_type": "display_data"
    },
    {
     "data": {
      "image/png": "[encoded data removed]",
      "text/plain": [
       "<Figure size 432x288 with 1 Axes>"
      ]
     },
     "metadata": {
      "needs_background": "light"
     },
     "output_type": "display_data"
    },
    {
     "data": {
      "image/png": "[encoded data removed]",
      "text/plain": [
       "<Figure size 432x288 with 1 Axes>"
      ]
     },
     "metadata": {
      "needs_background": "light"
     },
     "output_type": "display_data"
    },
    {
     "data": {
      "image/png": "[encoded data removed]",
      "text/plain": [
       "<Figure size 432x288 with 1 Axes>"
      ]
     },
     "metadata": {
      "needs_background": "light"
     },
     "output_type": "display_data"
    }
   ],
   "source": [
    "sanityChecks.discProbVsError(train_data,disc4,device)\n",
    "sanityChecks.discProbVsError(test_data,disc4,device)"
   ]
  },
  {
   "cell_type": "markdown",
   "id": "a5bd74c3",
   "metadata": {
    "id": "a5bd74c3",
    "papermill": {
     "duration": 0.038247,
     "end_time": "2022-07-22T09:19:01.795260",
     "exception": false,
     "start_time": "2022-07-22T09:19:01.757013",
     "status": "completed"
    },
    "tags": []
   },
   "source": [
    "## Skip Connection Model Analysis - ABC-GAN "
   ]
  },
  {
   "cell_type": "markdown",
   "id": "5744a8bf",
   "metadata": {
    "id": "5744a8bf",
    "papermill": {
     "duration": 0.054904,
     "end_time": "2022-07-22T09:19:01.887694",
     "exception": false,
     "start_time": "2022-07-22T09:19:01.832790",
     "status": "completed"
    },
    "tags": []
   },
   "source": [
    "### Weight Analysis \n",
    "\n",
    "Study the weights of the skip connection layer\n",
    "\n",
    "Equation of the skip connection is \n",
    "\n",
    "$output = y_{gan} * w + y_{abc} * (1-w)$"
   ]
  },
  {
   "cell_type": "code",
   "execution_count": 27,
   "id": "52c31dea",
   "metadata": {
    "execution": {
     "iopub.execute_input": "2022-07-22T09:19:01.956156Z",
     "iopub.status.busy": "2022-07-22T09:19:01.955557Z",
     "iopub.status.idle": "2022-07-22T09:19:01.960586Z",
     "shell.execute_reply": "2022-07-22T09:19:01.959352Z"
    },
    "id": "52c31dea",
    "papermill": {
     "duration": 0.042933,
     "end_time": "2022-07-22T09:19:01.964201",
     "exception": false,
     "start_time": "2022-07-22T09:19:01.921268",
     "status": "completed"
    },
    "tags": []
   },
   "outputs": [],
   "source": [
    "# print(\"Weight of the node at skip connection\")\n",
    "# for name,param in gen3.named_parameters():\n",
    "#     if(name == \"skipNode.weight\"):\n",
    "#         print(param)\n",
    "#         sb.glue(\"Skip Connection Weight\",param.item())"
   ]
  },
  {
   "cell_type": "markdown",
   "id": "1f958ee6",
   "metadata": {
    "id": "a5bd74c3",
    "papermill": {
     "duration": 0.032899,
     "end_time": "2022-07-22T09:19:02.029624",
     "exception": false,
     "start_time": "2022-07-22T09:19:01.996725",
     "status": "completed"
    },
    "tags": []
   },
   "source": [
    "## skipGAN Model Analysis (TabNet Generator) "
   ]
  },
  {
   "cell_type": "markdown",
   "id": "d78d8f63",
   "metadata": {
    "id": "5744a8bf",
    "papermill": {
     "duration": 0.032513,
     "end_time": "2022-07-22T09:19:02.092854",
     "exception": false,
     "start_time": "2022-07-22T09:19:02.060341",
     "status": "completed"
    },
    "tags": []
   },
   "source": [
    "### Weight Analysis \n",
    "\n",
    "Study the weights of the skip connection layer\n",
    "\n",
    "Equation of the skip connection is \n",
    "\n",
    "$output = y_{gan} * w + y_{abc} * (1-w)$"
   ]
  },
  {
   "cell_type": "code",
   "execution_count": 28,
   "id": "70e5da71",
   "metadata": {
    "execution": {
     "iopub.execute_input": "2022-07-22T09:19:02.193251Z",
     "iopub.status.busy": "2022-07-22T09:19:02.192871Z",
     "iopub.status.idle": "2022-07-22T09:19:02.232538Z",
     "shell.execute_reply": "2022-07-22T09:19:02.231239Z"
    },
    "id": "52c31dea",
    "papermill": {
     "duration": 0.092183,
     "end_time": "2022-07-22T09:19:02.236017",
     "exception": false,
     "start_time": "2022-07-22T09:19:02.143834",
     "status": "completed"
    },
    "tags": []
   },
   "outputs": [
    {
     "name": "stdout",
     "output_type": "stream",
     "text": [
      "Weight of the node at skip connection\n",
      "Parameter containing:\n",
      "tensor([[0.5526]], requires_grad=True)\n"
     ]
    },
    {
     "data": {
      "application/scrapbook.scrap.json+json": {
       "data": 0.5526353120803833,
       "encoder": "json",
       "name": "Skip Connection Weight",
       "version": 1
      }
     },
     "metadata": {
      "scrapbook": {
       "data": true,
       "display": false,
       "name": "Skip Connection Weight"
      }
     },
     "output_type": "display_data"
    }
   ],
   "source": [
    "print(\"Weight of the node at skip connection\")\n",
    "for name,param in gen4.named_parameters():\n",
    "    if(name == \"skipNode.weight\"):\n",
    "        print(param)\n",
    "        sb.glue(\"Skip Connection Weight\",param.item())"
   ]
  }
 ],
 "metadata": {
  "colab": {
   "collapsed_sections": [],
   "name": "ABC_GAN_Model-Catboost_Pre-gen.ipynb",
   "provenance": []
  },
  "interpreter": {
   "hash": "31f2aee4e71d21fbe5cf8b01ff0e069b9275f58929596ceb00d14d90e3e16cd6"
  },
  "kernelspec": {
   "display_name": "Python 3 (ipykernel)",
   "language": "python",
   "name": "python3"
  },
  "language_info": {
   "codemirror_mode": {
    "name": "ipython",
    "version": 3
   },
   "file_extension": ".py",
   "mimetype": "text/x-python",
   "name": "python",
   "nbconvert_exporter": "python",
   "pygments_lexer": "ipython3",
   "version": "3.8.13"
  },
  "papermill": {
   "default_parameters": {},
   "duration": 543.530878,
   "end_time": "2022-07-22T09:19:03.142679",
   "environment_variables": {},
   "exception": null,
   "input_path": "ABC_GAN-TabNet.ipynb",
   "output_path": "./ABC_GAN_TabNet/ABC-GAN_output_1_9.ipynb",
   "parameters": {
    "bias": 0,
    "variance": 1
   },
   "start_time": "2022-07-22T09:09:59.611801",
   "version": "2.3.3"
  }
 },
 "nbformat": 4,
 "nbformat_minor": 5
}