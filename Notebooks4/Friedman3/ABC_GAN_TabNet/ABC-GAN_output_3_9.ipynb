{
 "cells": [
  {
   "cell_type": "markdown",
   "id": "622780e6",
   "metadata": {
    "id": "622780e6",
    "papermill": {
     "duration": 0.011284,
     "end_time": "2022-07-22T12:26:53.812268",
     "exception": false,
     "start_time": "2022-07-22T12:26:53.800984",
     "status": "completed"
    },
    "tags": []
   },
   "source": [
    "## Import Libraries "
   ]
  },
  {
   "cell_type": "code",
   "execution_count": 1,
   "id": "a62397e3",
   "metadata": {
    "execution": {
     "iopub.execute_input": "2022-07-22T12:26:53.840615Z",
     "iopub.status.busy": "2022-07-22T12:26:53.837941Z",
     "iopub.status.idle": "2022-07-22T12:26:53.857688Z",
     "shell.execute_reply": "2022-07-22T12:26:53.856348Z"
    },
    "id": "a62397e3",
    "papermill": {
     "duration": 0.04266,
     "end_time": "2022-07-22T12:26:53.863782",
     "exception": false,
     "start_time": "2022-07-22T12:26:53.821122",
     "status": "completed"
    },
    "tags": []
   },
   "outputs": [],
   "source": [
    "import warnings\n",
    "import sys\n",
    "sys.path.insert(0, '../../src')\n",
    "warnings.filterwarnings('ignore')"
   ]
  },
  {
   "cell_type": "code",
   "execution_count": 2,
   "id": "d6a4e155",
   "metadata": {
    "execution": {
     "iopub.execute_input": "2022-07-22T12:26:53.889470Z",
     "iopub.status.busy": "2022-07-22T12:26:53.888513Z",
     "iopub.status.idle": "2022-07-22T12:27:02.378329Z",
     "shell.execute_reply": "2022-07-22T12:27:02.377051Z"
    },
    "id": "d6a4e155",
    "papermill": {
     "duration": 8.506887,
     "end_time": "2022-07-22T12:27:02.382008",
     "exception": false,
     "start_time": "2022-07-22T12:26:53.875121",
     "status": "completed"
    },
    "tags": []
   },
   "outputs": [],
   "source": [
    "import ABC_train_test2\n",
    "import friedman3Dataset\n",
    "import network\n",
    "import dataset\n",
    "import sanityChecks\n",
    "import torch \n",
    "import scrapbook as sb\n",
    "from statistics import mean \n",
    "import catboost as ctb \n",
    "from sklearn.model_selection import train_test_split\n",
    "from sklearn.metrics import mean_squared_error,mean_absolute_error\n",
    "import numpy as np\n",
    "from pytorch_tabnet.tab_model import TabNetRegressor"
   ]
  },
  {
   "cell_type": "markdown",
   "id": "2fa5b0f7",
   "metadata": {
    "id": "2fa5b0f7",
    "papermill": {
     "duration": 0.007724,
     "end_time": "2022-07-22T12:27:02.398100",
     "exception": false,
     "start_time": "2022-07-22T12:27:02.390376",
     "status": "completed"
    },
    "tags": []
   },
   "source": [
    "## Parameters "
   ]
  },
  {
   "cell_type": "code",
   "execution_count": 3,
   "id": "783186fb",
   "metadata": {
    "execution": {
     "iopub.execute_input": "2022-07-22T12:27:02.416405Z",
     "iopub.status.busy": "2022-07-22T12:27:02.415268Z",
     "iopub.status.idle": "2022-07-22T12:27:02.421644Z",
     "shell.execute_reply": "2022-07-22T12:27:02.420509Z"
    },
    "id": "783186fb",
    "papermill": {
     "duration": 0.019973,
     "end_time": "2022-07-22T12:27:02.425596",
     "exception": false,
     "start_time": "2022-07-22T12:27:02.405623",
     "status": "completed"
    },
    "tags": [
     "parameters"
    ]
   },
   "outputs": [],
   "source": [
    "variance = 1\n",
    "bias = 1 "
   ]
  },
  {
   "cell_type": "code",
   "execution_count": 4,
   "id": "403df500",
   "metadata": {
    "execution": {
     "iopub.execute_input": "2022-07-22T12:27:02.449465Z",
     "iopub.status.busy": "2022-07-22T12:27:02.447342Z",
     "iopub.status.idle": "2022-07-22T12:27:02.454080Z",
     "shell.execute_reply": "2022-07-22T12:27:02.453220Z"
    },
    "papermill": {
     "duration": 0.023084,
     "end_time": "2022-07-22T12:27:02.456825",
     "exception": false,
     "start_time": "2022-07-22T12:27:02.433741",
     "status": "completed"
    },
    "tags": [
     "injected-parameters"
    ]
   },
   "outputs": [],
   "source": [
    "# Parameters\n",
    "variance = 1\n",
    "bias = 0\n"
   ]
  },
  {
   "cell_type": "markdown",
   "id": "391cdbfd",
   "metadata": {
    "id": "391cdbfd",
    "papermill": {
     "duration": 0.010584,
     "end_time": "2022-07-22T12:27:02.474803",
     "exception": false,
     "start_time": "2022-07-22T12:27:02.464219",
     "status": "completed"
    },
    "tags": []
   },
   "source": [
    "## Dataset \n"
   ]
  },
  {
   "cell_type": "code",
   "execution_count": 5,
   "id": "5b51f161",
   "metadata": {
    "execution": {
     "iopub.execute_input": "2022-07-22T12:27:02.494400Z",
     "iopub.status.busy": "2022-07-22T12:27:02.493398Z",
     "iopub.status.idle": "2022-07-22T12:27:02.500921Z",
     "shell.execute_reply": "2022-07-22T12:27:02.498378Z"
    },
    "id": "5b51f161",
    "papermill": {
     "duration": 0.021182,
     "end_time": "2022-07-22T12:27:02.503666",
     "exception": false,
     "start_time": "2022-07-22T12:27:02.482484",
     "status": "completed"
    },
    "tags": []
   },
   "outputs": [],
   "source": [
    "#Parameters \n",
    "n_features = 4\n",
    "n_samples= 100\n",
    "n_target = 1"
   ]
  },
  {
   "cell_type": "code",
   "execution_count": 6,
   "id": "5d6eced4",
   "metadata": {
    "execution": {
     "iopub.execute_input": "2022-07-22T12:27:02.529047Z",
     "iopub.status.busy": "2022-07-22T12:27:02.528171Z",
     "iopub.status.idle": "2022-07-22T12:27:02.546688Z",
     "shell.execute_reply": "2022-07-22T12:27:02.545607Z"
    },
    "id": "5d6eced4",
    "papermill": {
     "duration": 0.040702,
     "end_time": "2022-07-22T12:27:02.554132",
     "exception": false,
     "start_time": "2022-07-22T12:27:02.513430",
     "status": "completed"
    },
    "tags": []
   },
   "outputs": [
    {
     "name": "stdout",
     "output_type": "stream",
     "text": [
      "          X1           X2        X3        X4         Y\n",
      "0  16.540951  1118.368795  0.113040  8.852848  1.281187\n",
      "1  18.297197  1425.596835  0.401407  1.955693  1.610796\n",
      "2  57.262617   823.368103  0.646039  1.324830  1.578436\n",
      "3  24.880414   465.475632  0.083316  1.944527  1.196381\n",
      "4  81.002318  1160.008503  0.009400  9.261934  0.069931\n"
     ]
    }
   ],
   "source": [
    "X,Y = friedman3Dataset.friedman3_data(n_samples)"
   ]
  },
  {
   "cell_type": "code",
   "execution_count": 7,
   "id": "fe007438",
   "metadata": {
    "execution": {
     "iopub.execute_input": "2022-07-22T12:27:02.574753Z",
     "iopub.status.busy": "2022-07-22T12:27:02.574384Z",
     "iopub.status.idle": "2022-07-22T12:27:02.581046Z",
     "shell.execute_reply": "2022-07-22T12:27:02.580028Z"
    },
    "id": "fe007438",
    "papermill": {
     "duration": 0.022321,
     "end_time": "2022-07-22T12:27:02.584499",
     "exception": false,
     "start_time": "2022-07-22T12:27:02.562178",
     "status": "completed"
    },
    "tags": []
   },
   "outputs": [],
   "source": [
    "#Train test split for dataset \n",
    "X_train,X_test,Y_train,Y_test = train_test_split(X,Y,test_size = 0.2)\n",
    "train_data = dataset.CustomDataset(X_train,Y_train)\n",
    "test_data = dataset.CustomDataset(X_test,Y_test)\n"
   ]
  },
  {
   "cell_type": "markdown",
   "id": "a9a1af34",
   "metadata": {
    "id": "a9a1af34",
    "papermill": {
     "duration": 0.008323,
     "end_time": "2022-07-22T12:27:02.600546",
     "exception": false,
     "start_time": "2022-07-22T12:27:02.592223",
     "status": "completed"
    },
    "tags": []
   },
   "source": [
    "## Training Parameters "
   ]
  },
  {
   "cell_type": "code",
   "execution_count": 8,
   "id": "952b7fc8",
   "metadata": {
    "execution": {
     "iopub.execute_input": "2022-07-22T12:27:02.621792Z",
     "iopub.status.busy": "2022-07-22T12:27:02.621262Z",
     "iopub.status.idle": "2022-07-22T12:27:02.627180Z",
     "shell.execute_reply": "2022-07-22T12:27:02.626041Z"
    },
    "id": "952b7fc8",
    "papermill": {
     "duration": 0.019923,
     "end_time": "2022-07-22T12:27:02.630206",
     "exception": false,
     "start_time": "2022-07-22T12:27:02.610283",
     "status": "completed"
    },
    "tags": []
   },
   "outputs": [],
   "source": [
    "batch_size = 32\n",
    "n_epochs = 1000\n",
    "#Select the device \n",
    "device = torch.device('cuda' if torch.cuda.is_available() else 'cpu')"
   ]
  },
  {
   "cell_type": "markdown",
   "id": "a95e1600",
   "metadata": {
    "id": "a95e1600",
    "papermill": {
     "duration": 0.007865,
     "end_time": "2022-07-22T12:27:02.646239",
     "exception": false,
     "start_time": "2022-07-22T12:27:02.638374",
     "status": "completed"
    },
    "tags": []
   },
   "source": [
    "# ABC Pre-generator Model \n",
    "\n",
    "1. The catboost model is used as a pre-generator model for the ABC-GAN. \n",
    "2. The model is first trained on the entire dataset \n",
    "3. It generats X,Y pairs and we add some Gaussian noise with mean 0 and variance 1 to it which is then feed as input to the generator.\n"
   ]
  },
  {
   "cell_type": "code",
   "execution_count": 9,
   "id": "ac011ebf",
   "metadata": {
    "execution": {
     "iopub.execute_input": "2022-07-22T12:27:02.666473Z",
     "iopub.status.busy": "2022-07-22T12:27:02.666078Z",
     "iopub.status.idle": "2022-07-22T12:27:27.219218Z",
     "shell.execute_reply": "2022-07-22T12:27:27.217568Z"
    },
    "papermill": {
     "duration": 24.56597,
     "end_time": "2022-07-22T12:27:27.221967",
     "exception": false,
     "start_time": "2022-07-22T12:27:02.655997",
     "status": "completed"
    },
    "tags": []
   },
   "outputs": [
    {
     "name": "stdout",
     "output_type": "stream",
     "text": [
      "Device used : cpu\n"
     ]
    },
    {
     "name": "stdout",
     "output_type": "stream",
     "text": [
      "epoch 0  | loss: 1.27234 | train_mse: 5.18288 | train_mae: 1.67241 |  0:00:00s\n",
      "epoch 1  | loss: 1.15201 | train_mse: 3.72313 | train_mae: 1.42807 |  0:00:00s\n",
      "epoch 2  | loss: 0.98601 | train_mse: 3.00495 | train_mae: 1.32307 |  0:00:00s\n"
     ]
    },
    {
     "name": "stdout",
     "output_type": "stream",
     "text": [
      "epoch 3  | loss: 1.00891 | train_mse: 2.40953 | train_mae: 1.20247 |  0:00:00s\n",
      "epoch 4  | loss: 0.92589 | train_mse: 2.07386 | train_mae: 1.13984 |  0:00:00s\n",
      "epoch 5  | loss: 0.99989 | train_mse: 1.82309 | train_mae: 1.06542 |  0:00:00s\n"
     ]
    },
    {
     "name": "stdout",
     "output_type": "stream",
     "text": [
      "epoch 6  | loss: 0.82623 | train_mse: 1.73859 | train_mae: 1.05173 |  0:00:00s\n",
      "epoch 7  | loss: 0.87892 | train_mse: 1.50022 | train_mae: 0.98446 |  0:00:00s\n",
      "epoch 8  | loss: 0.69806 | train_mse: 1.32194 | train_mae: 0.91726 |  0:00:00s\n"
     ]
    },
    {
     "name": "stdout",
     "output_type": "stream",
     "text": [
      "epoch 9  | loss: 0.68511 | train_mse: 1.22598 | train_mae: 0.88546 |  0:00:01s\n",
      "epoch 10 | loss: 0.64697 | train_mse: 1.15279 | train_mae: 0.85262 |  0:00:01s\n"
     ]
    },
    {
     "name": "stdout",
     "output_type": "stream",
     "text": [
      "epoch 11 | loss: 0.70817 | train_mse: 1.08661 | train_mae: 0.82452 |  0:00:01s\n",
      "epoch 12 | loss: 0.69243 | train_mse: 1.0214  | train_mae: 0.80331 |  0:00:01s\n"
     ]
    },
    {
     "name": "stdout",
     "output_type": "stream",
     "text": [
      "epoch 13 | loss: 0.57101 | train_mse: 0.97188 | train_mae: 0.7813  |  0:00:01s\n",
      "epoch 14 | loss: 0.72121 | train_mse: 0.89885 | train_mae: 0.7501  |  0:00:01s\n"
     ]
    },
    {
     "name": "stdout",
     "output_type": "stream",
     "text": [
      "epoch 15 | loss: 0.6834  | train_mse: 0.8247  | train_mae: 0.71476 |  0:00:01s\n",
      "epoch 16 | loss: 0.54121 | train_mse: 0.79814 | train_mae: 0.70505 |  0:00:02s\n"
     ]
    },
    {
     "name": "stdout",
     "output_type": "stream",
     "text": [
      "epoch 17 | loss: 0.55787 | train_mse: 0.75562 | train_mae: 0.6772  |  0:00:02s\n",
      "epoch 18 | loss: 0.66502 | train_mse: 0.71532 | train_mae: 0.65437 |  0:00:02s\n"
     ]
    },
    {
     "name": "stdout",
     "output_type": "stream",
     "text": [
      "epoch 19 | loss: 0.6336  | train_mse: 0.68439 | train_mae: 0.63623 |  0:00:02s\n",
      "epoch 20 | loss: 0.50656 | train_mse: 0.66033 | train_mae: 0.62078 |  0:00:02s\n"
     ]
    },
    {
     "name": "stdout",
     "output_type": "stream",
     "text": [
      "epoch 21 | loss: 0.69465 | train_mse: 0.64496 | train_mae: 0.61038 |  0:00:02s\n",
      "epoch 22 | loss: 0.53372 | train_mse: 0.61419 | train_mae: 0.59391 |  0:00:02s\n"
     ]
    },
    {
     "name": "stdout",
     "output_type": "stream",
     "text": [
      "epoch 23 | loss: 0.60241 | train_mse: 0.58702 | train_mae: 0.57877 |  0:00:02s\n",
      "epoch 24 | loss: 0.48823 | train_mse: 0.56707 | train_mae: 0.56455 |  0:00:03s\n"
     ]
    },
    {
     "name": "stdout",
     "output_type": "stream",
     "text": [
      "epoch 25 | loss: 0.5726  | train_mse: 0.5393  | train_mae: 0.55163 |  0:00:03s\n",
      "epoch 26 | loss: 0.5179  | train_mse: 0.51719 | train_mae: 0.53924 |  0:00:03s\n"
     ]
    },
    {
     "name": "stdout",
     "output_type": "stream",
     "text": [
      "epoch 27 | loss: 0.4941  | train_mse: 0.49422 | train_mae: 0.52472 |  0:00:03s\n",
      "epoch 28 | loss: 0.60514 | train_mse: 0.48363 | train_mae: 0.5178  |  0:00:03s\n"
     ]
    },
    {
     "name": "stdout",
     "output_type": "stream",
     "text": [
      "epoch 29 | loss: 0.37517 | train_mse: 0.46696 | train_mae: 0.50383 |  0:00:03s\n",
      "epoch 30 | loss: 0.41774 | train_mse: 0.45169 | train_mae: 0.49244 |  0:00:03s\n"
     ]
    },
    {
     "name": "stdout",
     "output_type": "stream",
     "text": [
      "epoch 31 | loss: 0.6654  | train_mse: 0.44086 | train_mae: 0.48498 |  0:00:03s\n",
      "epoch 32 | loss: 0.58869 | train_mse: 0.42498 | train_mae: 0.47824 |  0:00:03s\n"
     ]
    },
    {
     "name": "stdout",
     "output_type": "stream",
     "text": [
      "epoch 33 | loss: 0.46536 | train_mse: 0.40685 | train_mae: 0.46961 |  0:00:04s\n",
      "epoch 34 | loss: 0.43856 | train_mse: 0.39079 | train_mae: 0.45912 |  0:00:04s\n"
     ]
    },
    {
     "name": "stdout",
     "output_type": "stream",
     "text": [
      "epoch 35 | loss: 0.42384 | train_mse: 0.38267 | train_mae: 0.45282 |  0:00:04s\n",
      "epoch 36 | loss: 0.39434 | train_mse: 0.36975 | train_mae: 0.4382  |  0:00:04s\n"
     ]
    },
    {
     "name": "stdout",
     "output_type": "stream",
     "text": [
      "epoch 37 | loss: 0.5725  | train_mse: 0.36406 | train_mae: 0.43007 |  0:00:04s\n",
      "epoch 38 | loss: 0.44622 | train_mse: 0.35414 | train_mae: 0.41767 |  0:00:04s\n",
      "epoch 39 | loss: 0.34091 | train_mse: 0.34866 | train_mae: 0.4135  |  0:00:04s\n"
     ]
    },
    {
     "name": "stdout",
     "output_type": "stream",
     "text": [
      "epoch 40 | loss: 0.47714 | train_mse: 0.34224 | train_mae: 0.40695 |  0:00:04s\n",
      "epoch 41 | loss: 0.50558 | train_mse: 0.33336 | train_mae: 0.40035 |  0:00:05s\n",
      "epoch 42 | loss: 0.42465 | train_mse: 0.32871 | train_mae: 0.39342 |  0:00:05s\n"
     ]
    },
    {
     "name": "stdout",
     "output_type": "stream",
     "text": [
      "epoch 43 | loss: 0.42566 | train_mse: 0.32586 | train_mae: 0.38908 |  0:00:05s\n",
      "epoch 44 | loss: 0.30253 | train_mse: 0.32556 | train_mae: 0.38718 |  0:00:05s\n",
      "epoch 45 | loss: 0.35707 | train_mse: 0.32183 | train_mae: 0.38464 |  0:00:05s\n"
     ]
    },
    {
     "name": "stdout",
     "output_type": "stream",
     "text": [
      "epoch 46 | loss: 0.4037  | train_mse: 0.31597 | train_mae: 0.37898 |  0:00:05s\n",
      "epoch 47 | loss: 0.39351 | train_mse: 0.31142 | train_mae: 0.37439 |  0:00:05s\n"
     ]
    },
    {
     "name": "stdout",
     "output_type": "stream",
     "text": [
      "epoch 48 | loss: 0.31665 | train_mse: 0.30333 | train_mae: 0.36913 |  0:00:05s\n",
      "epoch 49 | loss: 0.48227 | train_mse: 0.29557 | train_mae: 0.36613 |  0:00:05s\n",
      "epoch 50 | loss: 0.46185 | train_mse: 0.28725 | train_mae: 0.36091 |  0:00:05s\n"
     ]
    },
    {
     "name": "stdout",
     "output_type": "stream",
     "text": [
      "epoch 51 | loss: 0.43813 | train_mse: 0.27953 | train_mae: 0.35448 |  0:00:05s\n",
      "epoch 52 | loss: 0.31356 | train_mse: 0.27424 | train_mae: 0.34915 |  0:00:06s\n",
      "epoch 53 | loss: 0.22948 | train_mse: 0.26954 | train_mae: 0.34266 |  0:00:06s\n"
     ]
    },
    {
     "name": "stdout",
     "output_type": "stream",
     "text": [
      "epoch 54 | loss: 0.42574 | train_mse: 0.26484 | train_mae: 0.34018 |  0:00:06s\n",
      "epoch 55 | loss: 0.2954  | train_mse: 0.2617  | train_mae: 0.33884 |  0:00:06s\n",
      "epoch 56 | loss: 0.33171 | train_mse: 0.25902 | train_mae: 0.33922 |  0:00:06s\n"
     ]
    },
    {
     "name": "stdout",
     "output_type": "stream",
     "text": [
      "epoch 57 | loss: 0.36996 | train_mse: 0.25308 | train_mae: 0.33748 |  0:00:06s\n",
      "epoch 58 | loss: 0.38901 | train_mse: 0.24911 | train_mae: 0.33642 |  0:00:06s\n"
     ]
    },
    {
     "name": "stdout",
     "output_type": "stream",
     "text": [
      "epoch 59 | loss: 0.33709 | train_mse: 0.24504 | train_mae: 0.3346  |  0:00:06s\n",
      "epoch 60 | loss: 0.36232 | train_mse: 0.24262 | train_mae: 0.33427 |  0:00:06s\n",
      "epoch 61 | loss: 0.29213 | train_mse: 0.24124 | train_mae: 0.33425 |  0:00:06s\n"
     ]
    },
    {
     "name": "stdout",
     "output_type": "stream",
     "text": [
      "epoch 62 | loss: 0.30886 | train_mse: 0.24104 | train_mae: 0.33507 |  0:00:07s\n",
      "epoch 63 | loss: 0.34513 | train_mse: 0.23979 | train_mae: 0.33812 |  0:00:07s\n",
      "epoch 64 | loss: 0.29745 | train_mse: 0.24055 | train_mae: 0.33984 |  0:00:07s\n"
     ]
    },
    {
     "name": "stdout",
     "output_type": "stream",
     "text": [
      "epoch 65 | loss: 0.33349 | train_mse: 0.24222 | train_mae: 0.34251 |  0:00:07s\n",
      "epoch 66 | loss: 0.28642 | train_mse: 0.24102 | train_mae: 0.34248 |  0:00:07s\n",
      "epoch 67 | loss: 0.57928 | train_mse: 0.24013 | train_mae: 0.34165 |  0:00:07s\n"
     ]
    },
    {
     "name": "stdout",
     "output_type": "stream",
     "text": [
      "epoch 68 | loss: 0.24888 | train_mse: 0.23378 | train_mae: 0.33569 |  0:00:07s\n",
      "epoch 69 | loss: 0.28511 | train_mse: 0.22925 | train_mae: 0.33135 |  0:00:07s\n"
     ]
    },
    {
     "name": "stdout",
     "output_type": "stream",
     "text": [
      "epoch 70 | loss: 0.21496 | train_mse: 0.22669 | train_mae: 0.32869 |  0:00:07s\n",
      "epoch 71 | loss: 0.29716 | train_mse: 0.22393 | train_mae: 0.32422 |  0:00:07s\n",
      "epoch 72 | loss: 0.28133 | train_mse: 0.22205 | train_mae: 0.32251 |  0:00:07s\n"
     ]
    },
    {
     "name": "stdout",
     "output_type": "stream",
     "text": [
      "epoch 73 | loss: 0.28828 | train_mse: 0.21676 | train_mae: 0.3181  |  0:00:08s\n",
      "epoch 74 | loss: 0.27822 | train_mse: 0.2121  | train_mae: 0.31647 |  0:00:08s\n",
      "epoch 75 | loss: 0.20281 | train_mse: 0.21009 | train_mae: 0.31854 |  0:00:08s\n"
     ]
    },
    {
     "name": "stdout",
     "output_type": "stream",
     "text": [
      "epoch 76 | loss: 0.41149 | train_mse: 0.20819 | train_mae: 0.31813 |  0:00:08s\n",
      "epoch 77 | loss: 0.23689 | train_mse: 0.20441 | train_mae: 0.32109 |  0:00:08s\n"
     ]
    },
    {
     "name": "stdout",
     "output_type": "stream",
     "text": [
      "epoch 78 | loss: 0.55116 | train_mse: 0.20263 | train_mae: 0.32461 |  0:00:08s\n",
      "epoch 79 | loss: 0.23644 | train_mse: 0.20728 | train_mae: 0.32508 |  0:00:08s\n",
      "epoch 80 | loss: 0.37991 | train_mse: 0.20503 | train_mae: 0.32241 |  0:00:08s"
     ]
    },
    {
     "name": "stdout",
     "output_type": "stream",
     "text": [
      "\n",
      "epoch 81 | loss: 0.31195 | train_mse: 0.20536 | train_mae: 0.32196 |  0:00:08s\n",
      "epoch 82 | loss: 0.21814 | train_mse: 0.20494 | train_mae: 0.32064 |  0:00:08s\n"
     ]
    },
    {
     "name": "stdout",
     "output_type": "stream",
     "text": [
      "epoch 83 | loss: 0.37421 | train_mse: 0.20006 | train_mae: 0.31691 |  0:00:08s\n",
      "epoch 84 | loss: 0.24031 | train_mse: 0.19567 | train_mae: 0.31574 |  0:00:09s\n",
      "epoch 85 | loss: 0.25284 | train_mse: 0.19193 | train_mae: 0.31458 |  0:00:09s\n"
     ]
    },
    {
     "name": "stdout",
     "output_type": "stream",
     "text": [
      "epoch 86 | loss: 0.29187 | train_mse: 0.19131 | train_mae: 0.31189 |  0:00:09s\n",
      "epoch 87 | loss: 0.30452 | train_mse: 0.19121 | train_mae: 0.3066  |  0:00:09s\n",
      "epoch 88 | loss: 0.30194 | train_mse: 0.18763 | train_mae: 0.30245 |  0:00:09s\n"
     ]
    },
    {
     "name": "stdout",
     "output_type": "stream",
     "text": [
      "epoch 89 | loss: 0.28211 | train_mse: 0.18675 | train_mae: 0.30082 |  0:00:09s\n",
      "epoch 90 | loss: 0.3015  | train_mse: 0.19028 | train_mae: 0.30653 |  0:00:09s\n",
      "epoch 91 | loss: 0.32091 | train_mse: 0.18682 | train_mae: 0.30579 |  0:00:09s\n"
     ]
    },
    {
     "name": "stdout",
     "output_type": "stream",
     "text": [
      "epoch 92 | loss: 0.27601 | train_mse: 0.18431 | train_mae: 0.3058  |  0:00:09s\n",
      "epoch 93 | loss: 0.33856 | train_mse: 0.18449 | train_mae: 0.30798 |  0:00:09s\n",
      "epoch 94 | loss: 0.2863  | train_mse: 0.18397 | train_mae: 0.3061  |  0:00:09s\n"
     ]
    },
    {
     "name": "stdout",
     "output_type": "stream",
     "text": [
      "epoch 95 | loss: 0.30583 | train_mse: 0.18218 | train_mae: 0.30433 |  0:00:10s\n",
      "epoch 96 | loss: 0.26919 | train_mse: 0.17925 | train_mae: 0.30387 |  0:00:10s\n",
      "epoch 97 | loss: 0.3176  | train_mse: 0.17776 | train_mae: 0.30405 |  0:00:10s\n"
     ]
    },
    {
     "name": "stdout",
     "output_type": "stream",
     "text": [
      "epoch 98 | loss: 0.49535 | train_mse: 0.17724 | train_mae: 0.30387 |  0:00:10s\n",
      "epoch 99 | loss: 0.19548 | train_mse: 0.17924 | train_mae: 0.30654 |  0:00:10s\n",
      "epoch 100| loss: 0.37473 | train_mse: 0.17598 | train_mae: 0.30558 |  0:00:10s\n"
     ]
    },
    {
     "name": "stdout",
     "output_type": "stream",
     "text": [
      "epoch 101| loss: 0.26464 | train_mse: 0.17255 | train_mae: 0.30377 |  0:00:10s\n",
      "epoch 102| loss: 0.29268 | train_mse: 0.17057 | train_mae: 0.30138 |  0:00:10s\n",
      "epoch 103| loss: 0.30049 | train_mse: 0.17133 | train_mae: 0.30251 |  0:00:10s\n"
     ]
    },
    {
     "name": "stdout",
     "output_type": "stream",
     "text": [
      "epoch 104| loss: 0.33214 | train_mse: 0.17084 | train_mae: 0.30191 |  0:00:10s\n",
      "epoch 105| loss: 0.26662 | train_mse: 0.16874 | train_mae: 0.2961  |  0:00:10s\n",
      "epoch 106| loss: 0.39187 | train_mse: 0.16754 | train_mae: 0.29281 |  0:00:10s\n"
     ]
    },
    {
     "name": "stdout",
     "output_type": "stream",
     "text": [
      "epoch 107| loss: 0.23584 | train_mse: 0.16969 | train_mae: 0.29136 |  0:00:11s\n",
      "epoch 108| loss: 0.36524 | train_mse: 0.16912 | train_mae: 0.28561 |  0:00:11s\n",
      "epoch 109| loss: 0.26631 | train_mse: 0.17325 | train_mae: 0.28708 |  0:00:11s\n"
     ]
    },
    {
     "name": "stdout",
     "output_type": "stream",
     "text": [
      "epoch 110| loss: 0.3276  | train_mse: 0.17274 | train_mae: 0.28344 |  0:00:11s\n",
      "epoch 111| loss: 0.29261 | train_mse: 0.16844 | train_mae: 0.28083 |  0:00:11s\n",
      "epoch 112| loss: 0.26108 | train_mse: 0.16209 | train_mae: 0.27346 |  0:00:11s\n"
     ]
    },
    {
     "name": "stdout",
     "output_type": "stream",
     "text": [
      "epoch 113| loss: 0.26044 | train_mse: 0.15717 | train_mae: 0.26451 |  0:00:11s\n",
      "epoch 114| loss: 0.1798  | train_mse: 0.15469 | train_mae: 0.26408 |  0:00:11s\n",
      "epoch 115| loss: 0.194   | train_mse: 0.15426 | train_mae: 0.26606 |  0:00:11s\n"
     ]
    },
    {
     "name": "stdout",
     "output_type": "stream",
     "text": [
      "epoch 116| loss: 0.37439 | train_mse: 0.15443 | train_mae: 0.26743 |  0:00:11s\n",
      "epoch 117| loss: 0.18849 | train_mse: 0.15697 | train_mae: 0.27296 |  0:00:11s\n",
      "epoch 118| loss: 0.32571 | train_mse: 0.15895 | train_mae: 0.27665 |  0:00:12s\n"
     ]
    },
    {
     "name": "stdout",
     "output_type": "stream",
     "text": [
      "epoch 119| loss: 0.35965 | train_mse: 0.1579  | train_mae: 0.27788 |  0:00:12s\n",
      "epoch 120| loss: 0.31092 | train_mse: 0.15615 | train_mae: 0.28364 |  0:00:12s\n",
      "epoch 121| loss: 0.23563 | train_mse: 0.1528  | train_mae: 0.28367 |  0:00:12s\n"
     ]
    },
    {
     "name": "stdout",
     "output_type": "stream",
     "text": [
      "epoch 122| loss: 0.30269 | train_mse: 0.14817 | train_mae: 0.27721 |  0:00:12s\n",
      "epoch 123| loss: 0.18671 | train_mse: 0.14643 | train_mae: 0.27313 |  0:00:12s\n",
      "epoch 124| loss: 0.29637 | train_mse: 0.14434 | train_mae: 0.27379 |  0:00:12s\n"
     ]
    },
    {
     "name": "stdout",
     "output_type": "stream",
     "text": [
      "epoch 125| loss: 0.15933 | train_mse: 0.14528 | train_mae: 0.27523 |  0:00:12s\n",
      "epoch 126| loss: 0.38837 | train_mse: 0.13714 | train_mae: 0.26768 |  0:00:12s\n",
      "epoch 127| loss: 0.23291 | train_mse: 0.12893 | train_mae: 0.26316 |  0:00:12s\n"
     ]
    },
    {
     "name": "stdout",
     "output_type": "stream",
     "text": [
      "epoch 128| loss: 0.15189 | train_mse: 0.12036 | train_mae: 0.25456 |  0:00:12s\n",
      "epoch 129| loss: 0.49463 | train_mse: 0.11849 | train_mae: 0.25159 |  0:00:13s\n",
      "epoch 130| loss: 0.17388 | train_mse: 0.1217  | train_mae: 0.25417 |  0:00:13s\n"
     ]
    },
    {
     "name": "stdout",
     "output_type": "stream",
     "text": [
      "epoch 131| loss: 0.28993 | train_mse: 0.12696 | train_mae: 0.25903 |  0:00:13s\n",
      "epoch 132| loss: 0.27995 | train_mse: 0.13593 | train_mae: 0.26532 |  0:00:13s\n",
      "epoch 133| loss: 0.19013 | train_mse: 0.14113 | train_mae: 0.2685  |  0:00:13s\n"
     ]
    },
    {
     "name": "stdout",
     "output_type": "stream",
     "text": [
      "epoch 134| loss: 0.34023 | train_mse: 0.14406 | train_mae: 0.27305 |  0:00:13s\n",
      "epoch 135| loss: 0.33539 | train_mse: 0.15781 | train_mae: 0.28499 |  0:00:13s\n",
      "epoch 136| loss: 0.34334 | train_mse: 0.17623 | train_mae: 0.29458 |  0:00:13s\n"
     ]
    },
    {
     "name": "stdout",
     "output_type": "stream",
     "text": [
      "epoch 137| loss: 0.21621 | train_mse: 0.17113 | train_mae: 0.29008 |  0:00:13s\n",
      "epoch 138| loss: 0.19415 | train_mse: 0.17575 | train_mae: 0.29528 |  0:00:13s\n",
      "epoch 139| loss: 0.34871 | train_mse: 0.17882 | train_mae: 0.29694 |  0:00:13s\n"
     ]
    },
    {
     "name": "stdout",
     "output_type": "stream",
     "text": [
      "epoch 140| loss: 0.18365 | train_mse: 0.17273 | train_mae: 0.29339 |  0:00:13s\n",
      "epoch 141| loss: 0.20289 | train_mse: 0.15697 | train_mae: 0.28362 |  0:00:14s\n",
      "epoch 142| loss: 0.40269 | train_mse: 0.15186 | train_mae: 0.28108 |  0:00:14s\n"
     ]
    },
    {
     "name": "stdout",
     "output_type": "stream",
     "text": [
      "epoch 143| loss: 0.23783 | train_mse: 0.13684 | train_mae: 0.26776 |  0:00:14s\n",
      "epoch 144| loss: 0.18851 | train_mse: 0.12799 | train_mae: 0.26646 |  0:00:14s\n",
      "epoch 145| loss: 0.23318 | train_mse: 0.1267  | train_mae: 0.26635 |  0:00:14s\n"
     ]
    },
    {
     "name": "stdout",
     "output_type": "stream",
     "text": [
      "epoch 146| loss: 0.17998 | train_mse: 0.12665 | train_mae: 0.26919 |  0:00:14s\n",
      "epoch 147| loss: 0.16944 | train_mse: 0.12375 | train_mae: 0.26597 |  0:00:14s\n"
     ]
    },
    {
     "name": "stdout",
     "output_type": "stream",
     "text": [
      "epoch 148| loss: 0.21436 | train_mse: 0.11904 | train_mae: 0.25854 |  0:00:14s\n",
      "epoch 149| loss: 0.29389 | train_mse: 0.1214  | train_mae: 0.26696 |  0:00:14s\n",
      "epoch 150| loss: 0.22082 | train_mse: 0.12431 | train_mae: 0.26443 |  0:00:14s\n"
     ]
    },
    {
     "name": "stdout",
     "output_type": "stream",
     "text": [
      "epoch 151| loss: 0.19224 | train_mse: 0.12715 | train_mae: 0.26584 |  0:00:14s\n",
      "epoch 152| loss: 0.21453 | train_mse: 0.13554 | train_mae: 0.27011 |  0:00:14s\n",
      "epoch 153| loss: 0.25101 | train_mse: 0.1342  | train_mae: 0.26353 |  0:00:15s\n"
     ]
    },
    {
     "name": "stdout",
     "output_type": "stream",
     "text": [
      "epoch 154| loss: 0.18522 | train_mse: 0.13091 | train_mae: 0.26062 |  0:00:15s\n",
      "epoch 155| loss: 0.20655 | train_mse: 0.12811 | train_mae: 0.2586  |  0:00:15s\n",
      "epoch 156| loss: 0.2388  | train_mse: 0.1217  | train_mae: 0.25522 |  0:00:15s\n"
     ]
    },
    {
     "name": "stdout",
     "output_type": "stream",
     "text": [
      "epoch 157| loss: 0.22351 | train_mse: 0.12438 | train_mae: 0.26018 |  0:00:15s\n",
      "epoch 158| loss: 0.21818 | train_mse: 0.12537 | train_mae: 0.26214 |  0:00:15s\n",
      "epoch 159| loss: 0.23516 | train_mse: 0.12389 | train_mae: 0.26195 |  0:00:15s\n"
     ]
    },
    {
     "name": "stdout",
     "output_type": "stream",
     "text": [
      "epoch 160| loss: 0.15291 | train_mse: 0.12615 | train_mae: 0.26527 |  0:00:15s\n",
      "epoch 161| loss: 0.29722 | train_mse: 0.12613 | train_mae: 0.26566 |  0:00:15s\n",
      "epoch 162| loss: 0.31547 | train_mse: 0.12306 | train_mae: 0.26182 |  0:00:15s\n"
     ]
    },
    {
     "name": "stdout",
     "output_type": "stream",
     "text": [
      "epoch 163| loss: 0.13912 | train_mse: 0.12006 | train_mae: 0.25626 |  0:00:15s\n",
      "epoch 164| loss: 0.19714 | train_mse: 0.11491 | train_mae: 0.24946 |  0:00:15s\n",
      "epoch 165| loss: 0.18023 | train_mse: 0.11234 | train_mae: 0.24475 |  0:00:16s\n"
     ]
    },
    {
     "name": "stdout",
     "output_type": "stream",
     "text": [
      "epoch 166| loss: 0.24379 | train_mse: 0.11045 | train_mae: 0.24079 |  0:00:16s\n",
      "epoch 167| loss: 0.23908 | train_mse: 0.10337 | train_mae: 0.23188 |  0:00:16s\n",
      "epoch 168| loss: 0.2991  | train_mse: 0.10188 | train_mae: 0.23438 |  0:00:16s\n"
     ]
    },
    {
     "name": "stdout",
     "output_type": "stream",
     "text": [
      "epoch 169| loss: 0.17294 | train_mse: 0.09967 | train_mae: 0.23237 |  0:00:16s\n",
      "epoch 170| loss: 0.17435 | train_mse: 0.09953 | train_mae: 0.23506 |  0:00:16s\n",
      "epoch 171| loss: 0.14351 | train_mse: 0.10576 | train_mae: 0.24307 |  0:00:16s\n"
     ]
    },
    {
     "name": "stdout",
     "output_type": "stream",
     "text": [
      "epoch 172| loss: 0.22124 | train_mse: 0.10782 | train_mae: 0.24293 |  0:00:16s\n",
      "epoch 173| loss: 0.26945 | train_mse: 0.10768 | train_mae: 0.24154 |  0:00:16s\n",
      "epoch 174| loss: 0.21502 | train_mse: 0.10805 | train_mae: 0.24124 |  0:00:16s\n"
     ]
    },
    {
     "name": "stdout",
     "output_type": "stream",
     "text": [
      "epoch 175| loss: 0.45231 | train_mse: 0.09896 | train_mae: 0.23254 |  0:00:16s\n",
      "epoch 176| loss: 0.16211 | train_mse: 0.10009 | train_mae: 0.23569 |  0:00:17s\n",
      "epoch 177| loss: 0.30421 | train_mse: 0.10026 | train_mae: 0.2376  |  0:00:17s\n"
     ]
    },
    {
     "name": "stdout",
     "output_type": "stream",
     "text": [
      "epoch 178| loss: 0.19293 | train_mse: 0.09947 | train_mae: 0.23506 |  0:00:17s\n",
      "epoch 179| loss: 0.2215  | train_mse: 0.09999 | train_mae: 0.23943 |  0:00:17s\n",
      "epoch 180| loss: 0.2514  | train_mse: 0.10015 | train_mae: 0.24018 |  0:00:17s\n"
     ]
    },
    {
     "name": "stdout",
     "output_type": "stream",
     "text": [
      "epoch 181| loss: 0.20356 | train_mse: 0.09779 | train_mae: 0.2327  |  0:00:17s\n",
      "epoch 182| loss: 0.16606 | train_mse: 0.10053 | train_mae: 0.23327 |  0:00:17s\n",
      "epoch 183| loss: 0.15595 | train_mse: 0.10038 | train_mae: 0.23282 |  0:00:17s\n"
     ]
    },
    {
     "name": "stdout",
     "output_type": "stream",
     "text": [
      "epoch 184| loss: 0.15833 | train_mse: 0.10176 | train_mae: 0.23429 |  0:00:17s\n",
      "epoch 185| loss: 0.16742 | train_mse: 0.10118 | train_mae: 0.23392 |  0:00:17s\n"
     ]
    },
    {
     "name": "stdout",
     "output_type": "stream",
     "text": [
      "epoch 186| loss: 0.35078 | train_mse: 0.10209 | train_mae: 0.23444 |  0:00:18s\n",
      "epoch 187| loss: 0.18717 | train_mse: 0.10103 | train_mae: 0.2356  |  0:00:18s\n",
      "epoch 188| loss: 0.15584 | train_mse: 0.10069 | train_mae: 0.23593 |  0:00:18s\n"
     ]
    },
    {
     "name": "stdout",
     "output_type": "stream",
     "text": [
      "epoch 189| loss: 0.17772 | train_mse: 0.09558 | train_mae: 0.22992 |  0:00:18s\n",
      "epoch 190| loss: 0.18135 | train_mse: 0.0953  | train_mae: 0.23207 |  0:00:18s\n"
     ]
    },
    {
     "name": "stdout",
     "output_type": "stream",
     "text": [
      "epoch 191| loss: 0.2387  | train_mse: 0.09711 | train_mae: 0.23613 |  0:00:18s\n",
      "epoch 192| loss: 0.27322 | train_mse: 0.09803 | train_mae: 0.23846 |  0:00:18s\n",
      "epoch 193| loss: 0.10034 | train_mse: 0.09686 | train_mae: 0.23644 |  0:00:18s\n"
     ]
    },
    {
     "name": "stdout",
     "output_type": "stream",
     "text": [
      "epoch 194| loss: 0.23637 | train_mse: 0.09667 | train_mae: 0.23594 |  0:00:18s\n",
      "epoch 195| loss: 0.15631 | train_mse: 0.09544 | train_mae: 0.23307 |  0:00:18s\n",
      "epoch 196| loss: 0.11874 | train_mse: 0.10022 | train_mae: 0.23786 |  0:00:19s\n"
     ]
    },
    {
     "name": "stdout",
     "output_type": "stream",
     "text": [
      "epoch 197| loss: 0.25266 | train_mse: 0.1     | train_mae: 0.23665 |  0:00:19s\n",
      "epoch 198| loss: 0.41289 | train_mse: 0.10425 | train_mae: 0.23896 |  0:00:19s\n",
      "epoch 199| loss: 0.22419 | train_mse: 0.10405 | train_mae: 0.23972 |  0:00:19s\n"
     ]
    },
    {
     "name": "stdout",
     "output_type": "stream",
     "text": [
      "epoch 200| loss: 0.19117 | train_mse: 0.10422 | train_mae: 0.24131 |  0:00:19s\n",
      "epoch 201| loss: 0.14059 | train_mse: 0.10351 | train_mae: 0.23972 |  0:00:19s\n",
      "epoch 202| loss: 0.11469 | train_mse: 0.10539 | train_mae: 0.2425  |  0:00:19s\n"
     ]
    },
    {
     "name": "stdout",
     "output_type": "stream",
     "text": [
      "epoch 203| loss: 0.27285 | train_mse: 0.10374 | train_mae: 0.24168 |  0:00:19s\n",
      "epoch 204| loss: 0.18483 | train_mse: 0.10049 | train_mae: 0.23684 |  0:00:19s\n",
      "epoch 205| loss: 0.12054 | train_mse: 0.09988 | train_mae: 0.23359 |  0:00:19s\n"
     ]
    },
    {
     "name": "stdout",
     "output_type": "stream",
     "text": [
      "epoch 206| loss: 0.16668 | train_mse: 0.09856 | train_mae: 0.22829 |  0:00:19s\n",
      "epoch 207| loss: 0.10864 | train_mse: 0.09659 | train_mae: 0.22924 |  0:00:20s\n",
      "epoch 208| loss: 0.17783 | train_mse: 0.09785 | train_mae: 0.22868 |  0:00:20s\n"
     ]
    },
    {
     "name": "stdout",
     "output_type": "stream",
     "text": [
      "epoch 209| loss: 0.1135  | train_mse: 0.09348 | train_mae: 0.22486 |  0:00:20s\n",
      "epoch 210| loss: 0.15623 | train_mse: 0.09392 | train_mae: 0.22602 |  0:00:20s\n",
      "epoch 211| loss: 0.33197 | train_mse: 0.09532 | train_mae: 0.22958 |  0:00:20s\n"
     ]
    },
    {
     "name": "stdout",
     "output_type": "stream",
     "text": [
      "epoch 212| loss: 0.18999 | train_mse: 0.09977 | train_mae: 0.23615 |  0:00:20s\n",
      "epoch 213| loss: 0.12796 | train_mse: 0.10764 | train_mae: 0.24393 |  0:00:20s\n",
      "epoch 214| loss: 0.19726 | train_mse: 0.10946 | train_mae: 0.24961 |  0:00:20s\n"
     ]
    },
    {
     "name": "stdout",
     "output_type": "stream",
     "text": [
      "epoch 215| loss: 0.22303 | train_mse: 0.11204 | train_mae: 0.25417 |  0:00:20s\n",
      "epoch 216| loss: 0.1274  | train_mse: 0.10966 | train_mae: 0.25316 |  0:00:20s\n",
      "epoch 217| loss: 0.19131 | train_mse: 0.10607 | train_mae: 0.2466  |  0:00:20s\n"
     ]
    },
    {
     "name": "stdout",
     "output_type": "stream",
     "text": [
      "epoch 218| loss: 0.22884 | train_mse: 0.10633 | train_mae: 0.24863 |  0:00:20s\n",
      "epoch 219| loss: 0.25229 | train_mse: 0.10748 | train_mae: 0.24804 |  0:00:21s\n",
      "epoch 220| loss: 0.22209 | train_mse: 0.11147 | train_mae: 0.25098 |  0:00:21s\n"
     ]
    },
    {
     "name": "stdout",
     "output_type": "stream",
     "text": [
      "epoch 221| loss: 0.29359 | train_mse: 0.11464 | train_mae: 0.25353 |  0:00:21s\n",
      "epoch 222| loss: 0.1847  | train_mse: 0.11511 | train_mae: 0.2521  |  0:00:21s\n",
      "epoch 223| loss: 0.16665 | train_mse: 0.11472 | train_mae: 0.24987 |  0:00:21s\n"
     ]
    },
    {
     "name": "stdout",
     "output_type": "stream",
     "text": [
      "epoch 224| loss: 0.1531  | train_mse: 0.11276 | train_mae: 0.24566 |  0:00:21s\n",
      "epoch 225| loss: 0.18161 | train_mse: 0.11116 | train_mae: 0.24355 |  0:00:21s\n",
      "epoch 226| loss: 0.21508 | train_mse: 0.11085 | train_mae: 0.24472 |  0:00:21s\n"
     ]
    },
    {
     "name": "stdout",
     "output_type": "stream",
     "text": [
      "epoch 227| loss: 0.21838 | train_mse: 0.10687 | train_mae: 0.24141 |  0:00:21s\n",
      "epoch 228| loss: 0.17223 | train_mse: 0.10318 | train_mae: 0.23835 |  0:00:21s\n",
      "epoch 229| loss: 0.1314  | train_mse: 0.09974 | train_mae: 0.23418 |  0:00:21s\n"
     ]
    },
    {
     "name": "stdout",
     "output_type": "stream",
     "text": [
      "epoch 230| loss: 0.17449 | train_mse: 0.09718 | train_mae: 0.23039 |  0:00:22s\n",
      "epoch 231| loss: 0.17546 | train_mse: 0.09574 | train_mae: 0.22785 |  0:00:22s\n",
      "epoch 232| loss: 0.18993 | train_mse: 0.09426 | train_mae: 0.22529 |  0:00:22s\n"
     ]
    },
    {
     "name": "stdout",
     "output_type": "stream",
     "text": [
      "epoch 233| loss: 0.16048 | train_mse: 0.09441 | train_mae: 0.22768 |  0:00:22s\n",
      "epoch 234| loss: 0.21615 | train_mse: 0.09328 | train_mae: 0.22651 |  0:00:22s\n",
      "epoch 235| loss: 0.2285  | train_mse: 0.0964  | train_mae: 0.22921 |  0:00:22s\n"
     ]
    },
    {
     "name": "stdout",
     "output_type": "stream",
     "text": [
      "epoch 236| loss: 0.23703 | train_mse: 0.09546 | train_mae: 0.22795 |  0:00:22s\n",
      "epoch 237| loss: 0.13511 | train_mse: 0.09623 | train_mae: 0.23025 |  0:00:22s\n",
      "epoch 238| loss: 0.1123  | train_mse: 0.09489 | train_mae: 0.22838 |  0:00:22s\n"
     ]
    },
    {
     "name": "stdout",
     "output_type": "stream",
     "text": [
      "epoch 239| loss: 0.15372 | train_mse: 0.09385 | train_mae: 0.22702 |  0:00:22s\n",
      "epoch 240| loss: 0.25494 | train_mse: 0.09388 | train_mae: 0.22654 |  0:00:22s\n",
      "epoch 241| loss: 0.16871 | train_mse: 0.09482 | train_mae: 0.22699 |  0:00:22s\n"
     ]
    },
    {
     "name": "stdout",
     "output_type": "stream",
     "text": [
      "epoch 242| loss: 0.12643 | train_mse: 0.09822 | train_mae: 0.22974 |  0:00:23s\n",
      "epoch 243| loss: 0.11028 | train_mse: 0.10271 | train_mae: 0.23389 |  0:00:23s\n",
      "epoch 244| loss: 0.15141 | train_mse: 0.10166 | train_mae: 0.23374 |  0:00:23s\n"
     ]
    },
    {
     "name": "stdout",
     "output_type": "stream",
     "text": [
      "epoch 245| loss: 0.32627 | train_mse: 0.10338 | train_mae: 0.23505 |  0:00:23s\n",
      "epoch 246| loss: 0.14223 | train_mse: 0.10284 | train_mae: 0.2335  |  0:00:23s\n",
      "epoch 247| loss: 0.1703  | train_mse: 0.10252 | train_mae: 0.23498 |  0:00:23s\n"
     ]
    },
    {
     "name": "stdout",
     "output_type": "stream",
     "text": [
      "epoch 248| loss: 0.11216 | train_mse: 0.10133 | train_mae: 0.23293 |  0:00:23s\n",
      "epoch 249| loss: 0.10096 | train_mse: 0.0999  | train_mae: 0.23106 |  0:00:23s\n",
      "epoch 250| loss: 0.15215 | train_mse: 0.09913 | train_mae: 0.22994 |  0:00:23s\n"
     ]
    },
    {
     "name": "stdout",
     "output_type": "stream",
     "text": [
      "epoch 251| loss: 0.37229 | train_mse: 0.09886 | train_mae: 0.22885 |  0:00:23s\n",
      "epoch 252| loss: 0.15257 | train_mse: 0.09834 | train_mae: 0.23042 |  0:00:23s\n",
      "epoch 253| loss: 0.14664 | train_mse: 0.09758 | train_mae: 0.22942 |  0:00:23s\n"
     ]
    },
    {
     "name": "stdout",
     "output_type": "stream",
     "text": [
      "epoch 254| loss: 0.25438 | train_mse: 0.09925 | train_mae: 0.23225 |  0:00:24s\n",
      "epoch 255| loss: 0.15407 | train_mse: 0.10048 | train_mae: 0.23213 |  0:00:24s\n",
      "epoch 256| loss: 0.11083 | train_mse: 0.10158 | train_mae: 0.23424 |  0:00:24s\n"
     ]
    },
    {
     "name": "stdout",
     "output_type": "stream",
     "text": [
      "epoch 257| loss: 0.13096 | train_mse: 0.0945  | train_mae: 0.22947 |  0:00:24s\n",
      "epoch 258| loss: 0.12457 | train_mse: 0.09446 | train_mae: 0.23073 |  0:00:24s\n",
      "epoch 259| loss: 0.16936 | train_mse: 0.09733 | train_mae: 0.2348  |  0:00:24s\n",
      "\n",
      "Early stopping occurred at epoch 259 with best_epoch = 209 and best_train_mae = 0.22486\n",
      "Best weights from best epoch are automatically used!\n"
     ]
    }
   ],
   "source": [
    "#Train the Model\n",
    "\n",
    "Y_train = np.reshape(Y_train, (-1, 1))\n",
    "Y_test = np.reshape(Y_test, (-1, 1))\n",
    "\n",
    "prior_model = TabNetRegressor(optimizer_fn=torch.optim.Adam, optimizer_params=dict(lr = 0.001),\n",
    "          #scheduler_params={\"step_size\":10, ], \"gamma\":0.9},\n",
    "          #scheduler_fn=torch.optim.lr_scheduler.StepLR\n",
    "          )  #TabNetRegressor()\n",
    "\n",
    "prior_model.fit(X_train,Y_train,eval_set=[(X_train, Y_train)],\n",
    "            eval_name=['train'], \n",
    "            eval_metric=[ 'mse', 'mae'], \n",
    "            max_epochs = n_epochs, \n",
    "            batch_size = batch_size,\n",
    "            patience=50\n",
    "            )"
   ]
  },
  {
   "cell_type": "code",
   "execution_count": 10,
   "id": "af65dcda",
   "metadata": {
    "execution": {
     "iopub.execute_input": "2022-07-22T12:27:27.257316Z",
     "iopub.status.busy": "2022-07-22T12:27:27.256895Z",
     "iopub.status.idle": "2022-07-22T12:27:27.314560Z",
     "shell.execute_reply": "2022-07-22T12:27:27.313489Z"
    },
    "id": "af65dcda",
    "papermill": {
     "duration": 0.078981,
     "end_time": "2022-07-22T12:27:27.319692",
     "exception": false,
     "start_time": "2022-07-22T12:27:27.240711",
     "status": "completed"
    },
    "tags": []
   },
   "outputs": [
    {
     "data": {
      "application/scrapbook.scrap.json+json": {
       "data": 0.1557647028550452,
       "encoder": "json",
       "name": "Prior Model MSE",
       "version": 1
      }
     },
     "metadata": {
      "scrapbook": {
       "data": true,
       "display": false,
       "name": "Prior Model MSE"
      }
     },
     "output_type": "display_data"
    },
    {
     "data": {
      "application/scrapbook.scrap.json+json": {
       "data": 0.8315568463559467,
       "encoder": "json",
       "name": "ABC Pre-generator MSE",
       "version": 1
      }
     },
     "metadata": {
      "scrapbook": {
       "data": true,
       "display": false,
       "name": "ABC Pre-generator MSE"
      }
     },
     "output_type": "display_data"
    },
    {
     "data": {
      "application/scrapbook.scrap.json+json": {
       "data": 0.34336412432003294,
       "encoder": "json",
       "name": "Prior Model MAE",
       "version": 1
      }
     },
     "metadata": {
      "scrapbook": {
       "data": true,
       "display": false,
       "name": "Prior Model MAE"
      }
     },
     "output_type": "display_data"
    },
    {
     "name": "stdout",
     "output_type": "stream",
     "text": [
      "Prior Model MAE 0.34336412432003294\n"
     ]
    },
    {
     "data": {
      "application/scrapbook.scrap.json+json": {
       "data": 0.7606320773827049,
       "encoder": "json",
       "name": "ABC Pre-generator MAE",
       "version": 1
      }
     },
     "metadata": {
      "scrapbook": {
       "data": true,
       "display": false,
       "name": "ABC Pre-generator MAE"
      }
     },
     "output_type": "display_data"
    },
    {
     "name": "stdout",
     "output_type": "stream",
     "text": [
      "ABC Pre-generator MAE 0.7606320773827049\n"
     ]
    }
   ],
   "source": [
    "y_pred = prior_model.predict(X_test)\n",
    "y_abc = y_pred + np.random.normal(0,variance, y_pred.shape) + bias \n",
    "mse = mean_squared_error(y_pred,Y_test)\n",
    "sb.glue(\"Prior Model MSE\",mse)\n",
    "mse = mean_squared_error(y_abc,Y_test)\n",
    "sb.glue(\"ABC Pre-generator MSE\",mse)\n",
    "mae = mean_absolute_error(y_pred,Y_test)\n",
    "sb.glue(\"Prior Model MAE\",mae)\n",
    "print(\"Prior Model MAE\",mae)\n",
    "mae = mean_absolute_error(y_abc,Y_test)\n",
    "sb.glue(\"ABC Pre-generator MAE\",mae)\n",
    "print(\"ABC Pre-generator MAE\",mae)"
   ]
  },
  {
   "cell_type": "markdown",
   "id": "25609da2",
   "metadata": {
    "papermill": {
     "duration": 0.015401,
     "end_time": "2022-07-22T12:27:27.353849",
     "exception": false,
     "start_time": "2022-07-22T12:27:27.338448",
     "status": "completed"
    },
    "tags": []
   },
   "source": [
    "# mGAN Model"
   ]
  },
  {
   "cell_type": "code",
   "execution_count": 11,
   "id": "dfc3464d",
   "metadata": {
    "execution": {
     "iopub.execute_input": "2022-07-22T12:27:27.391657Z",
     "iopub.status.busy": "2022-07-22T12:27:27.391313Z",
     "iopub.status.idle": "2022-07-22T12:27:27.396943Z",
     "shell.execute_reply": "2022-07-22T12:27:27.395042Z"
    },
    "papermill": {
     "duration": 0.029459,
     "end_time": "2022-07-22T12:27:27.399960",
     "exception": false,
     "start_time": "2022-07-22T12:27:27.370501",
     "status": "completed"
    },
    "tags": []
   },
   "outputs": [],
   "source": [
    "# gen = network.Generator(n_features+1).to(device)\n",
    "# disc = network.Discriminator(n_features+1).to(device)\n",
    "\n",
    "# criterion = torch.nn.BCELoss()\n",
    "# gen_opt = torch.optim.Adam(gen.parameters(), lr=0.001, betas=(0.5, 0.999))\n",
    "# disc_opt = torch.optim.Adam(disc.parameters(), lr=0.001, betas=(0.5, 0.999))"
   ]
  },
  {
   "cell_type": "code",
   "execution_count": 12,
   "id": "b75fdd85",
   "metadata": {
    "execution": {
     "iopub.execute_input": "2022-07-22T12:27:27.436087Z",
     "iopub.status.busy": "2022-07-22T12:27:27.435687Z",
     "iopub.status.idle": "2022-07-22T12:27:27.441377Z",
     "shell.execute_reply": "2022-07-22T12:27:27.439673Z"
    },
    "papermill": {
     "duration": 0.026692,
     "end_time": "2022-07-22T12:27:27.444414",
     "exception": false,
     "start_time": "2022-07-22T12:27:27.417722",
     "status": "completed"
    },
    "tags": []
   },
   "outputs": [],
   "source": [
    "#Training the ABC_GAN \n",
    "# ABC_train_test2.training_GAN(disc,gen,disc_opt,gen_opt,train_data,batch_size,n_epochs,criterion,prior_model,variance,bias,device)"
   ]
  },
  {
   "cell_type": "code",
   "execution_count": 13,
   "id": "1fa7c368",
   "metadata": {
    "execution": {
     "iopub.execute_input": "2022-07-22T12:27:27.479224Z",
     "iopub.status.busy": "2022-07-22T12:27:27.478221Z",
     "iopub.status.idle": "2022-07-22T12:27:27.483249Z",
     "shell.execute_reply": "2022-07-22T12:27:27.482105Z"
    },
    "papermill": {
     "duration": 0.025937,
     "end_time": "2022-07-22T12:27:27.487113",
     "exception": false,
     "start_time": "2022-07-22T12:27:27.461176",
     "status": "completed"
    },
    "tags": []
   },
   "outputs": [],
   "source": [
    "# ABC_GAN1_metrics=ABC_train_test2.test_generator(gen,test_data,prior_model,variance,bias,\"1\",device)\n",
    "# sb.glue(\"ABC_GAN_1 Metrics\",ABC_GAN1_metrics)\n",
    "\n",
    "# print(\"MAE\")\n",
    "# print(mean(ABC_GAN1_metrics[1]))"
   ]
  },
  {
   "cell_type": "code",
   "execution_count": 14,
   "id": "eb22ce5c",
   "metadata": {
    "execution": {
     "iopub.execute_input": "2022-07-22T12:27:27.520024Z",
     "iopub.status.busy": "2022-07-22T12:27:27.519321Z",
     "iopub.status.idle": "2022-07-22T12:27:27.523885Z",
     "shell.execute_reply": "2022-07-22T12:27:27.522668Z"
    },
    "papermill": {
     "duration": 0.025335,
     "end_time": "2022-07-22T12:27:27.527131",
     "exception": false,
     "start_time": "2022-07-22T12:27:27.501796",
     "status": "completed"
    },
    "tags": []
   },
   "outputs": [],
   "source": [
    "# sanityChecks.discProbVsError(train_data,disc,device)\n",
    "# sanityChecks.discProbVsError(test_data,disc,device)"
   ]
  },
  {
   "cell_type": "markdown",
   "id": "e041e96a",
   "metadata": {
    "papermill": {
     "duration": 0.041447,
     "end_time": "2022-07-22T12:27:27.584542",
     "exception": false,
     "start_time": "2022-07-22T12:27:27.543095",
     "status": "completed"
    },
    "tags": []
   },
   "source": [
    "# mGAN Model with TabNet Generator"
   ]
  },
  {
   "cell_type": "code",
   "execution_count": 15,
   "id": "4d3471b6",
   "metadata": {
    "execution": {
     "iopub.execute_input": "2022-07-22T12:27:27.617746Z",
     "iopub.status.busy": "2022-07-22T12:27:27.617146Z",
     "iopub.status.idle": "2022-07-22T12:27:27.635050Z",
     "shell.execute_reply": "2022-07-22T12:27:27.634099Z"
    },
    "papermill": {
     "duration": 0.038625,
     "end_time": "2022-07-22T12:27:27.638110",
     "exception": false,
     "start_time": "2022-07-22T12:27:27.599485",
     "status": "completed"
    },
    "tags": []
   },
   "outputs": [],
   "source": [
    "gen2 = network.GeneratorTabnet(n_features+1).to(device)\n",
    "disc2 = network.Discriminator(n_features+1).to(device)\n",
    "\n",
    "criterion = torch.nn.BCELoss()\n",
    "gen_opt = torch.optim.Adam(gen2.parameters(), lr=0.001, betas=(0.5, 0.999))\n",
    "disc_opt = torch.optim.Adam(disc2.parameters(), lr=0.001, betas=(0.5, 0.999))"
   ]
  },
  {
   "cell_type": "code",
   "execution_count": 16,
   "id": "fdc4f27a",
   "metadata": {
    "execution": {
     "iopub.execute_input": "2022-07-22T12:27:27.672300Z",
     "iopub.status.busy": "2022-07-22T12:27:27.671929Z",
     "iopub.status.idle": "2022-07-22T12:30:02.422217Z",
     "shell.execute_reply": "2022-07-22T12:30:02.420276Z"
    },
    "papermill": {
     "duration": 154.771666,
     "end_time": "2022-07-22T12:30:02.424988",
     "exception": false,
     "start_time": "2022-07-22T12:27:27.653322",
     "status": "completed"
    },
    "tags": []
   },
   "outputs": [
    {
     "data": {
      "image/png": "[encoded data removed]",
      "text/plain": [
       "<Figure size 432x288 with 1 Axes>"
      ]
     },
     "metadata": {
      "needs_background": "light"
     },
     "output_type": "display_data"
    },
    {
     "data": {
      "image/png": "[encoded data removed]",
      "text/plain": [
       "<Figure size 432x288 with 1 Axes>"
      ]
     },
     "metadata": {
      "needs_background": "light"
     },
     "output_type": "display_data"
    }
   ],
   "source": [
    "#Training the ABC_GAN \n",
    "ABC_train_test2.training_GAN(disc2,gen2,disc_opt,gen_opt,train_data,batch_size,n_epochs,criterion,prior_model,variance,bias,device)"
   ]
  },
  {
   "cell_type": "code",
   "execution_count": 17,
   "id": "de284a80",
   "metadata": {
    "execution": {
     "iopub.execute_input": "2022-07-22T12:30:02.460379Z",
     "iopub.status.busy": "2022-07-22T12:30:02.459922Z",
     "iopub.status.idle": "2022-07-22T12:30:04.462038Z",
     "shell.execute_reply": "2022-07-22T12:30:04.460011Z"
    },
    "papermill": {
     "duration": 2.024397,
     "end_time": "2022-07-22T12:30:04.465364",
     "exception": false,
     "start_time": "2022-07-22T12:30:02.440967",
     "status": "completed"
    },
    "tags": []
   },
   "outputs": [
    {
     "data": {
      "application/scrapbook.scrap.json+json": {
       "data": 0.36867477467193527,
       "encoder": "json",
       "name": "ABC-GAN Model 1 MSE",
       "version": 1
      }
     },
     "metadata": {
      "scrapbook": {
       "data": true,
       "display": false,
       "name": "ABC-GAN Model 1 MSE"
      }
     },
     "output_type": "display_data"
    },
    {
     "data": {
      "application/scrapbook.scrap.json+json": {
       "data": 0.44633865692093966,
       "encoder": "json",
       "name": "ABC-GAN Model 1 MAE",
       "version": 1
      }
     },
     "metadata": {
      "scrapbook": {
       "data": true,
       "display": false,
       "name": "ABC-GAN Model 1 MAE"
      }
     },
     "output_type": "display_data"
    },
    {
     "data": {
      "application/scrapbook.scrap.json+json": {
       "data": 8.926773138418794,
       "encoder": "json",
       "name": "ABC-GAN Model 1 Manhattan Distance",
       "version": 1
      }
     },
     "metadata": {
      "scrapbook": {
       "data": true,
       "display": false,
       "name": "ABC-GAN Model 1 Manhattan Distance"
      }
     },
     "output_type": "display_data"
    },
    {
     "data": {
      "application/scrapbook.scrap.json+json": {
       "data": 2.6966817796917013,
       "encoder": "json",
       "name": "ABC-GAN Model 1 Euclidean distance",
       "version": 1
      }
     },
     "metadata": {
      "scrapbook": {
       "data": true,
       "display": false,
       "name": "ABC-GAN Model 1 Euclidean distance"
      }
     },
     "output_type": "display_data"
    },
    {
     "data": {
      "application/scrapbook.scrap.json+json": {
       "data": [
        [
         0.40797875739400863,
         0.44930080318881804,
         0.4473876188330923,
         0.4016368334159509,
         0.387267244820374,
         0.4016558340292322,
         0.39798542514016255,
         0.3592558257569586,
         0.42308798207177994,
         0.4113243657666031,
         0.46240865226968053,
         0.47303493024657683,
         0.37720785719606764,
         0.3842670205112371,
         0.41351561470717063,
         0.23782405523226413,
         0.35587581486319997,
         0.4153312272118363,
         0.40275493205612084,
         0.3261462358859776,
         0.4586368024749012,
         0.22028083270574,
         0.3542299405456392,
         0.3523975053807876,
         0.3803521979189012,
         0.3936830364415227,
         0.2444650270633581,
         0.3483803879868804,
         0.3010703054829976,
         0.46247061012480584,
         0.3042859403092188,
         0.44793201371736213,
         0.44878903381504054,
         0.44045512557090305,
         0.2163958545048784,
         0.3046012646680278,
         0.422723326304318,
         0.4954297064295526,
         0.4557441305012887,
         0.38608340497870297,
         0.26050560410118373,
         0.363432721247614,
         0.45178334892032035,
         0.3554379505423603,
         0.39047740065850645,
         0.4339028140863981,
         0.2382239992901099,
         0.3694480905508767,
         0.3455807663397102,
         0.2847536355049406,
         0.38648329309315066,
         0.19631941195422192,
         0.517865351701493,
         0.23507121883326376,
         0.45988382277780887,
         0.42765884565079854,
         0.22622771690489976,
         0.4659217282875575,
         0.3551324866758606,
         0.33127905457411133,
         0.2556234707680499,
         0.3938300219423775,
         0.48593468639386916,
         0.3991661723847718,
         0.34728780638920187,
         0.22804541013684795,
         0.38004694291679053,
         0.3996430054026906,
         0.2782015361680222,
         0.31529676265541384,
         0.4498942284868829,
         0.2711440572725771,
         0.4494707602378142,
         0.26607821476485743,
         0.5056254902321969,
         0.38312624900266556,
         0.1814107764068841,
         0.2511817784623081,
         0.22343279060620663,
         0.4425436780202038,
         0.2051824905906933,
         0.2606258609161922,
         0.3878610225701656,
         0.4057087017649666,
         0.3270377765747251,
         0.455893113928817,
         0.3596477313940979,
         0.4380418539131224,
         0.39770314719739863,
         0.3757149318047569,
         0.46722196361477975,
         0.26528984064748823,
         0.44337759942703536,
         0.43133245131526826,
         0.40182027606336457,
         0.4268755430409893,
         0.42099936905306967,
         0.2466808576591076,
         0.4904976498295657,
         0.2839387080201633
        ],
        [
         0.46325739566236734,
         0.4722485741600394,
         0.5224592292681336,
         0.4614999631419778,
         0.5026143224909901,
         0.44767293240875006,
         0.45377625729888676,
         0.4416569883003831,
         0.4655019396916032,
         0.4427846962586045,
         0.4982832303270698,
         0.5043551007285714,
         0.4711511528119445,
         0.4663719842210412,
         0.461699559353292,
         0.3644655069336295,
         0.48612887803465127,
         0.4581399278715253,
         0.47608114723116157,
         0.4857289457693696,
         0.4892104098573327,
         0.37166026923805473,
         0.46298379693180325,
         0.3775147279724479,
         0.452167478762567,
         0.43818522002547977,
         0.40076317843049764,
         0.4089156398549676,
         0.39200780298560856,
         0.4682505032047629,
         0.437238728441298,
         0.4654069060459733,
         0.49926301632076503,
         0.45058461036533115,
         0.4184209397062659,
         0.4390014806762338,
         0.44575283881276845,
         0.526818704046309,
         0.48351003173738716,
         0.43762631956487896,
         0.44794756527990104,
         0.40858214553445577,
         0.42936329301446674,
         0.4199857046827674,
         0.4853574806824327,
         0.46707071270793676,
         0.36562874224036934,
         0.4925111109390855,
         0.463361475430429,
         0.42575526144355536,
         0.4241001958027482,
         0.3553063714876771,
         0.5059191843494772,
         0.4073573609814048,
         0.4647135740146041,
         0.4706774512305856,
         0.3612097492441535,
         0.4771011298522353,
         0.4543385231867433,
         0.405705345608294,
         0.38458533827215435,
         0.44200209733098744,
         0.4818905422464013,
         0.4643954554572701,
         0.48504144940525296,
         0.3935917863622308,
         0.40220517609268425,
         0.4401032796129584,
         0.44785634372383354,
         0.4599478328600526,
         0.47953623030334713,
         0.42950609270483253,
         0.4535475799813867,
         0.4342737292870879,
         0.5141622280701995,
         0.4073623100295663,
         0.3473329221829772,
         0.3998153841122985,
         0.35896329637616875,
         0.49450134988874195,
         0.3762062439695001,
         0.4256961265578866,
         0.44877369944006207,
         0.45009079221636056,
         0.4295522475615144,
         0.48823200073093176,
         0.4488486910238862,
         0.448207244835794,
         0.44087128434330225,
         0.4592627117410302,
         0.4957570439204574,
         0.40927924159914253,
         0.4703340297564864,
         0.4862365314736962,
         0.4096495708450675,
         0.4802976747974753,
         0.5208498144522309,
         0.3318469339981675,
         0.4894197663292289,
         0.46068090554326774
        ],
        [
         9.265147913247347,
         9.444971483200788,
         10.449184585362673,
         9.229999262839556,
         10.052286449819803,
         8.953458648175001,
         9.075525145977736,
         8.833139766007662,
         9.310038793832064,
         8.85569392517209,
         9.965664606541395,
         10.087102014571428,
         9.42302305623889,
         9.327439684420824,
         9.23399118706584,
         7.28931013867259,
         9.722577560693026,
         9.162798557430506,
         9.521622944623232,
         9.714578915387392,
         9.784208197146654,
         7.433205384761095,
         9.259675938636065,
         7.550294559448957,
         9.04334957525134,
         8.763704400509596,
         8.015263568609953,
         8.178312797099352,
         7.8401560597121716,
         9.365010064095259,
         8.74477456882596,
         9.308138120919466,
         9.9852603264153,
         9.011692207306623,
         8.368418794125319,
         8.780029613524675,
         8.91505677625537,
         10.53637408092618,
         9.670200634747744,
         8.752526391297579,
         8.95895130559802,
         8.171642910689116,
         8.587265860289335,
         8.399714093655348,
         9.707149613648653,
         9.341414254158735,
         7.312574844807386,
         9.85022221878171,
         9.26722950860858,
         8.515105228871107,
         8.482003916054964,
         7.106127429753542,
         10.118383686989546,
         8.147147219628096,
         9.294271480292082,
         9.413549024611712,
         7.22419498488307,
         9.542022597044706,
         9.086770463734865,
         8.11410691216588,
         7.691706765443087,
         8.840041946619749,
         9.637810844928026,
         9.287909109145403,
         9.700828988105059,
         7.8718357272446156,
         8.044103521853685,
         8.802065592259169,
         8.957126874476671,
         9.198956657201052,
         9.590724606066942,
         8.590121854096651,
         9.070951599627733,
         8.685474585741758,
         10.28324456140399,
         8.147246200591326,
         6.946658443659544,
         7.99630768224597,
         7.179265927523375,
         9.89002699777484,
         7.524124879390001,
         8.513922531157732,
         8.975473988801241,
         9.001815844327211,
         8.591044951230288,
         9.764640014618635,
         8.976973820477724,
         8.96414489671588,
         8.817425686866045,
         9.185254234820604,
         9.915140878409147,
         8.185584831982851,
         9.406680595129728,
         9.724730629473925,
         8.19299141690135,
         9.605953495949507,
         10.416996289044619,
         6.63693867996335,
         9.788395326584578,
         9.213618110865355
        ],
        [
         2.856497006453914,
         2.9976684379324476,
         2.991279387931165,
         2.8342082965652007,
         2.783045974540751,
         2.8342753360576394,
         2.821295536239203,
         2.6805067646135816,
         2.9089103873161166,
         2.8681853697646638,
         3.0410809008300994,
         3.075824865776908,
         2.7466629105009144,
         2.772244651942671,
         2.8758150660540416,
         2.180935832308067,
         2.667867368754301,
         2.8821215352994263,
         2.8381505670281864,
         2.55400170667906,
         3.0286525138249227,
         2.0989560867523647,
         2.6616909683343755,
         2.654797564338146,
         2.758087010661198,
         2.806004406416792,
         2.2111762800073542,
         2.6396226548007973,
         2.453855356303617,
         3.0412846302995247,
         2.4669249697111533,
         2.993098774572473,
         2.9959607267620867,
         2.9680132262875887,
         2.080364653155203,
         2.46820284688284,
         2.90765653509598,
         3.1477919449339486,
         3.0190863866451014,
         2.778788962763106,
         2.282566993983676,
         2.6960442179148845,
         3.0059386185360486,
         2.6662256113928553,
         2.7945568545245467,
         2.9458540835771148,
         2.1827688805281693,
         2.7182644851113245,
         2.6289951173013244,
         2.386435146845355,
         2.7802276636748675,
         1.981511604579806,
         3.2182770287888296,
         2.168276821963763,
         3.0327671284746174,
         2.9245814936527195,
         2.1270999830985837,
         3.052611106209101,
         2.665079686147717,
         2.574020413959887,
         2.261077047639244,
         2.806528182443132,
         3.1174819530957003,
         2.825477560996625,
         2.6354802461380804,
         2.1356282922683336,
         2.7569800250157437,
         2.827164676500789,
         2.3588197733952554,
         2.5111621319835717,
         2.9996474075693724,
         2.3287080421236883,
         2.9982353484602045,
         2.306851598022107,
         3.1800172648342553,
         2.7681266192234255,
         1.9047875283447449,
         2.241346820384155,
         2.113919537760161,
         2.9750417745645312,
         2.025746729434325,
         2.283093782200776,
         2.7851787108556088,
         2.8485389299251875,
         2.5574900843394297,
         3.019579818215829,
         2.681968424102334,
         2.95987112527935,
         2.820294832805246,
         2.741222106304985,
         3.0568675588411733,
         2.303431529902672,
         2.977843513104862,
         2.9371157665821355,
         2.8348554674387354,
         2.921901925256867,
         2.9017214513218517,
         2.2211747236951336,
         3.1320844491474547,
         2.3830178682509424
        ]
       ],
       "encoder": "json",
       "name": "ABC_GAN_2 Metrics",
       "version": 1
      }
     },
     "metadata": {
      "scrapbook": {
       "data": true,
       "display": false,
       "name": "ABC_GAN_2 Metrics"
      }
     },
     "output_type": "display_data"
    },
    {
     "name": "stdout",
     "output_type": "stream",
     "text": [
      "MAE\n",
      "0.44633865692093966\n"
     ]
    }
   ],
   "source": [
    "ABC_GAN2_metrics=ABC_train_test2.test_generator(gen2,test_data,prior_model,variance,bias,\"1\",device)\n",
    "sb.glue(\"ABC_GAN_2 Metrics\",ABC_GAN2_metrics)\n",
    "\n",
    "print(\"MAE\")\n",
    "print(mean(ABC_GAN2_metrics[1]))"
   ]
  },
  {
   "cell_type": "code",
   "execution_count": 18,
   "id": "847d5e79",
   "metadata": {
    "execution": {
     "iopub.execute_input": "2022-07-22T12:30:04.524043Z",
     "iopub.status.busy": "2022-07-22T12:30:04.523555Z",
     "iopub.status.idle": "2022-07-22T12:30:06.204846Z",
     "shell.execute_reply": "2022-07-22T12:30:06.200319Z"
    },
    "papermill": {
     "duration": 1.714253,
     "end_time": "2022-07-22T12:30:06.208551",
     "exception": false,
     "start_time": "2022-07-22T12:30:04.494298",
     "status": "completed"
    },
    "tags": []
   },
   "outputs": [
    {
     "data": {
      "image/png": "[encoded data removed]",
      "text/plain": [
       "<Figure size 432x288 with 1 Axes>"
      ]
     },
     "metadata": {
      "needs_background": "light"
     },
     "output_type": "display_data"
    },
    {
     "data": {
      "image/png": "[encoded data removed]",
      "text/plain": [
       "<Figure size 432x288 with 1 Axes>"
      ]
     },
     "metadata": {
      "needs_background": "light"
     },
     "output_type": "display_data"
    },
    {
     "data": {
      "image/png": "[encoded data removed]",
      "text/plain": [
       "<Figure size 432x288 with 1 Axes>"
      ]
     },
     "metadata": {
      "needs_background": "light"
     },
     "output_type": "display_data"
    },
    {
     "data": {
      "image/png": "[encoded data removed]",
      "text/plain": [
       "<Figure size 432x288 with 1 Axes>"
      ]
     },
     "metadata": {
      "needs_background": "light"
     },
     "output_type": "display_data"
    }
   ],
   "source": [
    "sanityChecks.discProbVsError(train_data,disc2,device)\n",
    "sanityChecks.discProbVsError(test_data,disc2,device)"
   ]
  },
  {
   "cell_type": "markdown",
   "id": "130f3a4d",
   "metadata": {
    "id": "130f3a4d",
    "papermill": {
     "duration": 0.032239,
     "end_time": "2022-07-22T12:30:06.268639",
     "exception": false,
     "start_time": "2022-07-22T12:30:06.236400",
     "status": "completed"
    },
    "tags": []
   },
   "source": [
    "# skipGAN Model"
   ]
  },
  {
   "cell_type": "code",
   "execution_count": 19,
   "id": "4e43dad1",
   "metadata": {
    "execution": {
     "iopub.execute_input": "2022-07-22T12:30:06.350608Z",
     "iopub.status.busy": "2022-07-22T12:30:06.349350Z",
     "iopub.status.idle": "2022-07-22T12:30:06.356477Z",
     "shell.execute_reply": "2022-07-22T12:30:06.355397Z"
    },
    "id": "4e43dad1",
    "papermill": {
     "duration": 0.061473,
     "end_time": "2022-07-22T12:30:06.361424",
     "exception": false,
     "start_time": "2022-07-22T12:30:06.299951",
     "status": "completed"
    },
    "tags": []
   },
   "outputs": [],
   "source": [
    "# #Generator\n",
    "# gen3 = network.GeneratorWithSkipConnection(n_features+1).to(device)\n",
    "# constraints=network.weightConstraint()\n",
    "# #Discriminator \n",
    "# disc3 = network.Discriminator(n_features+1).to(device)\n",
    "\n",
    "# criterion = torch.nn.BCELoss()\n",
    "# gen_opt = torch.optim.Adam(gen3.parameters(), lr=0.01, betas=(0.5, 0.999))\n",
    "# disc_opt = torch.optim.Adam(disc3.parameters(), lr=0.01, betas=(0.5, 0.999))\n"
   ]
  },
  {
   "cell_type": "code",
   "execution_count": 20,
   "id": "26acbc37",
   "metadata": {
    "execution": {
     "iopub.execute_input": "2022-07-22T12:30:06.433893Z",
     "iopub.status.busy": "2022-07-22T12:30:06.432726Z",
     "iopub.status.idle": "2022-07-22T12:30:06.439607Z",
     "shell.execute_reply": "2022-07-22T12:30:06.438005Z"
    },
    "id": "26acbc37",
    "papermill": {
     "duration": 0.051503,
     "end_time": "2022-07-22T12:30:06.444458",
     "exception": false,
     "start_time": "2022-07-22T12:30:06.392955",
     "status": "completed"
    },
    "tags": []
   },
   "outputs": [],
   "source": [
    "# ABC_train_test2.training_GAN_skip_connection(disc3,gen3,disc_opt,gen_opt,train_data,batch_size,n_epochs,criterion,prior_model,variance,bias,device)"
   ]
  },
  {
   "cell_type": "code",
   "execution_count": 21,
   "id": "c5e0717b",
   "metadata": {
    "execution": {
     "iopub.execute_input": "2022-07-22T12:30:06.511879Z",
     "iopub.status.busy": "2022-07-22T12:30:06.511073Z",
     "iopub.status.idle": "2022-07-22T12:30:06.516143Z",
     "shell.execute_reply": "2022-07-22T12:30:06.514835Z"
    },
    "id": "c5e0717b",
    "papermill": {
     "duration": 0.049113,
     "end_time": "2022-07-22T12:30:06.527454",
     "exception": false,
     "start_time": "2022-07-22T12:30:06.478341",
     "status": "completed"
    },
    "tags": []
   },
   "outputs": [],
   "source": [
    "# ABC_GAN3_metrics=ABC_train_test2.test_generator(gen3,test_data,prior_model,variance,bias,\"3\",device)\n",
    "# sb.glue(\"ABC_GAN_3 Metrics\",ABC_GAN3_metrics)\n",
    "\n",
    "# print(\"MAE\")\n",
    "# print(mean(ABC_GAN3_metrics[1]))"
   ]
  },
  {
   "cell_type": "code",
   "execution_count": 22,
   "id": "c8e46b48",
   "metadata": {
    "execution": {
     "iopub.execute_input": "2022-07-22T12:30:06.598883Z",
     "iopub.status.busy": "2022-07-22T12:30:06.598529Z",
     "iopub.status.idle": "2022-07-22T12:30:06.604256Z",
     "shell.execute_reply": "2022-07-22T12:30:06.602245Z"
    },
    "id": "c8e46b48",
    "papermill": {
     "duration": 0.049992,
     "end_time": "2022-07-22T12:30:06.613590",
     "exception": false,
     "start_time": "2022-07-22T12:30:06.563598",
     "status": "completed"
    },
    "tags": []
   },
   "outputs": [],
   "source": [
    "# sanityChecks.discProbVsError(train_data,disc3,device)\n",
    "# sanityChecks.discProbVsError(test_data,disc3,device)"
   ]
  },
  {
   "cell_type": "markdown",
   "id": "f21f848d",
   "metadata": {
    "id": "130f3a4d",
    "papermill": {
     "duration": 0.032818,
     "end_time": "2022-07-22T12:30:06.675189",
     "exception": false,
     "start_time": "2022-07-22T12:30:06.642371",
     "status": "completed"
    },
    "tags": []
   },
   "source": [
    "# skipGAN Model with TabNet Generator"
   ]
  },
  {
   "cell_type": "code",
   "execution_count": 23,
   "id": "65b4a938",
   "metadata": {
    "execution": {
     "iopub.execute_input": "2022-07-22T12:30:06.754608Z",
     "iopub.status.busy": "2022-07-22T12:30:06.753642Z",
     "iopub.status.idle": "2022-07-22T12:30:06.778936Z",
     "shell.execute_reply": "2022-07-22T12:30:06.777981Z"
    },
    "id": "4e43dad1",
    "papermill": {
     "duration": 0.073702,
     "end_time": "2022-07-22T12:30:06.788713",
     "exception": false,
     "start_time": "2022-07-22T12:30:06.715011",
     "status": "completed"
    },
    "tags": []
   },
   "outputs": [],
   "source": [
    "#Generator\n",
    "gen4 = network.GeneratorTabnetskipConnection(n_features+1).to(device)\n",
    "constraints=network.weightConstraint()\n",
    "#Discriminator \n",
    "disc4 = network.Discriminator(n_features+1).to(device)\n",
    "\n",
    "criterion = torch.nn.BCELoss()\n",
    "gen_opt = torch.optim.Adam(gen4.parameters(), lr=0.001, betas=(0.5, 0.999))\n",
    "disc_opt = torch.optim.Adam(disc4.parameters(), lr=0.001, betas=(0.5, 0.999))\n"
   ]
  },
  {
   "cell_type": "code",
   "execution_count": 24,
   "id": "9b1348a6",
   "metadata": {
    "execution": {
     "iopub.execute_input": "2022-07-22T12:30:06.854975Z",
     "iopub.status.busy": "2022-07-22T12:30:06.854471Z",
     "iopub.status.idle": "2022-07-22T12:33:28.443161Z",
     "shell.execute_reply": "2022-07-22T12:33:28.441940Z"
    },
    "id": "26acbc37",
    "papermill": {
     "duration": 201.626672,
     "end_time": "2022-07-22T12:33:28.446171",
     "exception": false,
     "start_time": "2022-07-22T12:30:06.819499",
     "status": "completed"
    },
    "tags": []
   },
   "outputs": [
    {
     "data": {
      "image/png": "[encoded data removed]",
      "text/plain": [
       "<Figure size 432x288 with 1 Axes>"
      ]
     },
     "metadata": {
      "needs_background": "light"
     },
     "output_type": "display_data"
    },
    {
     "data": {
      "image/png": "[encoded data removed]",
      "text/plain": [
       "<Figure size 432x288 with 1 Axes>"
      ]
     },
     "metadata": {
      "needs_background": "light"
     },
     "output_type": "display_data"
    }
   ],
   "source": [
    "ABC_train_test2.training_GAN_skip_connection(disc4,gen4,disc_opt,gen_opt,train_data,batch_size,n_epochs,criterion,prior_model,variance,bias,device)"
   ]
  },
  {
   "cell_type": "code",
   "execution_count": 25,
   "id": "e8d1d803",
   "metadata": {
    "execution": {
     "iopub.execute_input": "2022-07-22T12:33:28.495726Z",
     "iopub.status.busy": "2022-07-22T12:33:28.495382Z",
     "iopub.status.idle": "2022-07-22T12:33:30.785405Z",
     "shell.execute_reply": "2022-07-22T12:33:30.783692Z"
    },
    "id": "c5e0717b",
    "papermill": {
     "duration": 2.319779,
     "end_time": "2022-07-22T12:33:30.788677",
     "exception": false,
     "start_time": "2022-07-22T12:33:28.468898",
     "status": "completed"
    },
    "tags": []
   },
   "outputs": [
    {
     "data": {
      "application/scrapbook.scrap.json+json": {
       "data": 0.23827816155368886,
       "encoder": "json",
       "name": "ABC-GAN Model 3 MSE",
       "version": 1
      }
     },
     "metadata": {
      "scrapbook": {
       "data": true,
       "display": false,
       "name": "ABC-GAN Model 3 MSE"
      }
     },
     "output_type": "display_data"
    },
    {
     "data": {
      "application/scrapbook.scrap.json+json": {
       "data": 0.39041643592901526,
       "encoder": "json",
       "name": "ABC-GAN Model 3 MAE",
       "version": 1
      }
     },
     "metadata": {
      "scrapbook": {
       "data": true,
       "display": false,
       "name": "ABC-GAN Model 3 MAE"
      }
     },
     "output_type": "display_data"
    },
    {
     "data": {
      "application/scrapbook.scrap.json+json": {
       "data": 7.808328718580306,
       "encoder": "json",
       "name": "ABC-GAN Model 3 Manhattan Distance",
       "version": 1
      }
     },
     "metadata": {
      "scrapbook": {
       "data": true,
       "display": false,
       "name": "ABC-GAN Model 3 Manhattan Distance"
      }
     },
     "output_type": "display_data"
    },
    {
     "data": {
      "application/scrapbook.scrap.json+json": {
       "data": 2.1757832314726766,
       "encoder": "json",
       "name": "ABC-GAN Model 3 Euclidean distance",
       "version": 1
      }
     },
     "metadata": {
      "scrapbook": {
       "data": true,
       "display": false,
       "name": "ABC-GAN Model 3 Euclidean distance"
      }
     },
     "output_type": "display_data"
    },
    {
     "data": {
      "application/scrapbook.scrap.json+json": {
       "data": [
        [
         0.26942509391703745,
         0.2053331705216038,
         0.23489471705526593,
         0.2255567883688526,
         0.22739699917102246,
         0.2187592272789106,
         0.2260888255047961,
         0.22886801981619706,
         0.2195241609821994,
         0.2910336189244057,
         0.2500740596542891,
         0.2459673535870456,
         0.3014370378050374,
         0.16880719863787652,
         0.20314836181864887,
         0.22823171728221933,
         0.250652163428828,
         0.21579323963363245,
         0.19565092355605543,
         0.22421549635705712,
         0.2140692989199778,
         0.27748664970197234,
         0.22048371469045724,
         0.2658585111095683,
         0.20006003103530964,
         0.28960422377528827,
         0.18409491992578692,
         0.2352224874718014,
         0.28093893103234835,
         0.2747849896126911,
         0.16131564798194922,
         0.20405537611807772,
         0.2799722384854413,
         0.31345016463905895,
         0.17287771805825097,
         0.3051523303752637,
         0.25950136219640485,
         0.23388051420855954,
         0.27456879548123203,
         0.2141233224968267,
         0.23884896394205932,
         0.2144928927962019,
         0.3802420530400133,
         0.23445530699122732,
         0.22847714333538344,
         0.25326565946284685,
         0.2568078129807879,
         0.24328181978776123,
         0.19317189273217417,
         0.20091959584078248,
         0.24856595420362565,
         0.18519947516212767,
         0.22064360151004553,
         0.20920911716854557,
         0.3011059866883917,
         0.2105917760297587,
         0.23064446017930038,
         0.24203107845194313,
         0.17586030078700787,
         0.23863894807016978,
         0.21827161821606386,
         0.2651901295598946,
         0.2478347664455291,
         0.2998029719341736,
         0.30225754021172857,
         0.23554430626598366,
         0.2432480599624322,
         0.19504715040900206,
         0.24272350355108077,
         0.23786963627515445,
         0.35715959858259944,
         0.16960273102905585,
         0.29642157602924063,
         0.2352332685201893,
         0.27651703944899847,
         0.2657836098874659,
         0.20967902914438738,
         0.2196581694291976,
         0.21072300622013573,
         0.21041432852322858,
         0.22422081479549835,
         0.17992688575198632,
         0.2755693397104185,
         0.2098981896378392,
         0.23496390264626096,
         0.18377743198316548,
         0.19376526407475075,
         0.241279581889236,
         0.2501764918518136,
         0.24096442490221315,
         0.29804850168337704,
         0.2693744701585639,
         0.21943642328688545,
         0.2604082388482901,
         0.23589363223316306,
         0.183008961043924,
         0.26449181525664633,
         0.267143638078362,
         0.23078383674495567,
         0.2268890313685928
        ],
        [
         0.42390753123909236,
         0.3860280802473426,
         0.4235053608193994,
         0.38668416272848843,
         0.3570406811311841,
         0.3725492930039763,
         0.39179096315056083,
         0.4011121464893222,
         0.35516260992735627,
         0.44902070621028545,
         0.3873813791200519,
         0.3773675987496972,
         0.4582365216687322,
         0.3435596892610192,
         0.36546708960086105,
         0.36953167486935856,
         0.3896353615447879,
         0.3957717353478074,
         0.3260253557935357,
         0.36597630102187395,
         0.3773424753919244,
         0.4446663150563836,
         0.3787204155698419,
         0.41721163876354694,
         0.3444072352722287,
         0.42123681847006084,
         0.33104814644902947,
         0.38395190741866825,
         0.43177059572190046,
         0.42143951412290337,
         0.33836401123553517,
         0.34969141203910115,
         0.40150603707879784,
         0.4564473884180188,
         0.33469537403434513,
         0.46704154890030625,
         0.4042919481173158,
         0.3867823401466012,
         0.4349301813170314,
         0.37718622777611016,
         0.39199622366577386,
         0.3775371743366122,
         0.47774738911539316,
         0.393708472372964,
         0.38517944421619177,
         0.40327882710844276,
         0.39195171315222976,
         0.41568043511360886,
         0.34713802170008423,
         0.36285083200782536,
         0.3994255507364869,
         0.3584059296175838,
         0.3969134697690606,
         0.3773525284603238,
         0.41986908558756114,
         0.3688543723896146,
         0.3843324711546302,
         0.4118867551907897,
         0.300851801969111,
         0.38979123812168837,
         0.3851182783022523,
         0.4428642125800252,
         0.3765681566670537,
         0.4321091176941991,
         0.41282697338610885,
         0.3804725894704461,
         0.3874083120375872,
         0.3551111789420247,
         0.399882679246366,
         0.39917692113667724,
         0.47355812806636094,
         0.3288240199908614,
         0.40938922557979823,
         0.3996028987690806,
         0.4269801514223218,
         0.3957075631245971,
         0.364701029099524,
         0.3757759230211377,
         0.4010266775265336,
         0.36988562513142825,
         0.36655636560171845,
         0.3441763872280717,
         0.38107212614268066,
         0.35921816918998956,
         0.3976930445060134,
         0.3517840351909399,
         0.3730081206187606,
         0.3743697078898549,
         0.42678776537068186,
         0.3743940943852067,
         0.4678466597571969,
         0.4245103860273957,
         0.34913864973932507,
         0.4165412874892354,
         0.3896701386198401,
         0.338992508687079,
         0.40796456281095744,
         0.4161785887554288,
         0.3740382669493556,
         0.40747555773705246
        ],
        [
         8.478150624781847,
         7.720561604946852,
         8.470107216387987,
         7.733683254569769,
         7.140813622623682,
         7.450985860079527,
         7.835819263011217,
         8.022242929786444,
         7.103252198547125,
         8.980414124205709,
         7.747627582401037,
         7.547351974993944,
         9.164730433374643,
         6.871193785220385,
         7.3093417920172215,
         7.390633497387171,
         7.792707230895758,
         7.915434706956148,
         6.520507115870714,
         7.319526020437479,
         7.546849507838488,
         8.893326301127672,
         7.574408311396837,
         8.344232775270939,
         6.888144705444574,
         8.424736369401217,
         6.620962928980589,
         7.679038148373365,
         8.63541191443801,
         8.428790282458067,
         6.767280224710703,
         6.9938282407820225,
         8.030120741575956,
         9.128947768360376,
         6.693907480686903,
         9.340830978006124,
         8.085838962346315,
         7.735646802932024,
         8.698603626340628,
         7.5437245555222034,
         7.839924473315477,
         7.5507434867322445,
         9.554947782307863,
         7.8741694474592805,
         7.703588884323835,
         8.065576542168856,
         7.839034263044596,
         8.313608702272177,
         6.942760434001684,
         7.2570166401565075,
         7.988511014729738,
         7.168118592351675,
         7.938269395381212,
         7.547050569206476,
         8.397381711751223,
         7.377087447792292,
         7.686649423092604,
         8.237735103815794,
         6.017036039382219,
         7.795824762433767,
         7.702365566045046,
         8.857284251600504,
         7.531363133341074,
         8.642182353883982,
         8.256539467722178,
         7.609451789408922,
         7.748166240751743,
         7.102223578840494,
         7.9976535849273205,
         7.983538422733545,
         9.471162561327219,
         6.576480399817228,
         8.187784511595964,
         7.992057975381613,
         8.539603028446436,
         7.9141512624919415,
         7.29402058199048,
         7.515518460422754,
         8.020533550530672,
         7.397712502628565,
         7.3311273120343685,
         6.883527744561434,
         7.621442522853613,
         7.184363383799791,
         7.953860890120268,
         7.035680703818798,
         7.460162412375212,
         7.487394157797098,
         8.535755307413638,
         7.487881887704134,
         9.356933195143938,
         8.490207720547915,
         6.982772994786501,
         8.330825749784708,
         7.793402772396803,
         6.779850173741579,
         8.159291256219149,
         8.323571775108576,
         7.480765338987112,
         8.149511154741049
        ],
        [
         2.3213146874865433,
         2.0264904170590285,
         2.16746265045221,
         2.1239434473114045,
         2.1325899707680445,
         2.091694180700949,
         2.126446921532706,
         2.1394766641223133,
         2.0953479948791296,
         2.4126069672634443,
         2.236399157817267,
         2.2179601150022767,
         2.455349416295112,
         1.8374286306568564,
         2.015680340821177,
         2.136500490438602,
         2.2389826414192138,
         2.0774659546362364,
         1.9781350993097282,
         2.1176189286888096,
         2.0691510284171035,
         2.355787128337246,
         2.0999224494750144,
         2.305899005201955,
         2.000300132656645,
         2.406674983354787,
         1.9188273498456652,
         2.1689743542596416,
         2.370396300336078,
         2.3442908932668365,
         1.7961940205999418,
         2.0201751217064214,
         2.366314596521102,
         2.503797773938858,
         1.859450015774831,
         2.4704344977159933,
         2.2781631293496294,
         2.162778371486822,
         2.3433684963369803,
         2.0694121024910754,
         2.1856301788823256,
         2.07119720353327,
         2.7576876293010897,
         2.1654343997970815,
         2.137648911001914,
         2.250625066344223,
         2.2663089506101675,
         2.2058187585917444,
         1.9655629866894329,
         2.0045927059668878,
         2.229645506369233,
         1.9245751487646705,
         2.1006837054161465,
         2.045527399809377,
         2.4540007607512746,
         2.0522756931258463,
         2.1477637681053303,
         2.2001412611554887,
         1.875421556808004,
         2.184669073659303,
         2.0893617121794104,
         2.302998608596604,
         2.226363700950629,
         2.448685246960799,
         2.4586888384329098,
         2.170457584317112,
         2.20566570432798,
         1.9750805067591652,
         2.2032861981643728,
         2.181144819928995,
         2.672675059121851,
         1.84175313779592,
         2.434837062430423,
         2.169024059434055,
         2.3516676612523226,
         2.305574157937523,
         2.047823376877935,
         2.0959874495292077,
         2.05291503097491,
         2.051410873146716,
         2.1176440437216937,
         1.8969812110402482,
         2.347634297374353,
         2.04889330926644,
         2.167781827796612,
         1.917172042270414,
         1.9685795085530617,
         2.19672293150154,
         2.236857133800966,
         2.1952877938995297,
         2.4415097856997297,
         2.3210965949678353,
         2.094929226904267,
         2.2821403937895237,
         2.1720664457293335,
         1.9131594865244457,
         2.2999644138840334,
         2.3114655008386435,
         2.148412608159595,
         2.1302067100100537
        ]
       ],
       "encoder": "json",
       "name": "ABC_GAN_4 Metrics",
       "version": 1
      }
     },
     "metadata": {
      "scrapbook": {
       "data": true,
       "display": false,
       "name": "ABC_GAN_4 Metrics"
      }
     },
     "output_type": "display_data"
    },
    {
     "name": "stdout",
     "output_type": "stream",
     "text": [
      "MAE\n",
      "0.39041643592901526\n"
     ]
    }
   ],
   "source": [
    "ABC_GAN4_metrics=ABC_train_test2.test_generator(gen4,test_data,prior_model,variance,bias,\"3\",device)\n",
    "sb.glue(\"ABC_GAN_4 Metrics\",ABC_GAN4_metrics)\n",
    "\n",
    "print(\"MAE\")\n",
    "print(mean(ABC_GAN4_metrics[1]))"
   ]
  },
  {
   "cell_type": "code",
   "execution_count": 26,
   "id": "ed2907b9",
   "metadata": {
    "execution": {
     "iopub.execute_input": "2022-07-22T12:33:30.864684Z",
     "iopub.status.busy": "2022-07-22T12:33:30.864097Z",
     "iopub.status.idle": "2022-07-22T12:33:32.281333Z",
     "shell.execute_reply": "2022-07-22T12:33:32.273103Z"
    },
    "id": "c8e46b48",
    "papermill": {
     "duration": 1.468185,
     "end_time": "2022-07-22T12:33:32.292825",
     "exception": false,
     "start_time": "2022-07-22T12:33:30.824640",
     "status": "completed"
    },
    "tags": []
   },
   "outputs": [
    {
     "data": {
      "image/png": "[encoded data removed]",
      "text/plain": [
       "<Figure size 432x288 with 1 Axes>"
      ]
     },
     "metadata": {
      "needs_background": "light"
     },
     "output_type": "display_data"
    },
    {
     "data": {
      "image/png": "[encoded data removed]",
      "text/plain": [
       "<Figure size 432x288 with 1 Axes>"
      ]
     },
     "metadata": {
      "needs_background": "light"
     },
     "output_type": "display_data"
    },
    {
     "data": {
      "image/png": "[encoded data removed]",
      "text/plain": [
       "<Figure size 432x288 with 1 Axes>"
      ]
     },
     "metadata": {
      "needs_background": "light"
     },
     "output_type": "display_data"
    },
    {
     "data": {
      "image/png": "[encoded data removed]",
      "text/plain": [
       "<Figure size 432x288 with 1 Axes>"
      ]
     },
     "metadata": {
      "needs_background": "light"
     },
     "output_type": "display_data"
    }
   ],
   "source": [
    "sanityChecks.discProbVsError(train_data,disc4,device)\n",
    "sanityChecks.discProbVsError(test_data,disc4,device)"
   ]
  },
  {
   "cell_type": "markdown",
   "id": "a5bd74c3",
   "metadata": {
    "id": "a5bd74c3",
    "papermill": {
     "duration": 0.03834,
     "end_time": "2022-07-22T12:33:32.376607",
     "exception": false,
     "start_time": "2022-07-22T12:33:32.338267",
     "status": "completed"
    },
    "tags": []
   },
   "source": [
    "## Skip Connection Model Analysis - ABC-GAN "
   ]
  },
  {
   "cell_type": "markdown",
   "id": "5744a8bf",
   "metadata": {
    "id": "5744a8bf",
    "papermill": {
     "duration": 0.043766,
     "end_time": "2022-07-22T12:33:32.467061",
     "exception": false,
     "start_time": "2022-07-22T12:33:32.423295",
     "status": "completed"
    },
    "tags": []
   },
   "source": [
    "### Weight Analysis \n",
    "\n",
    "Study the weights of the skip connection layer\n",
    "\n",
    "Equation of the skip connection is \n",
    "\n",
    "$output = y_{gan} * w + y_{abc} * (1-w)$"
   ]
  },
  {
   "cell_type": "code",
   "execution_count": 27,
   "id": "52c31dea",
   "metadata": {
    "execution": {
     "iopub.execute_input": "2022-07-22T12:33:32.557028Z",
     "iopub.status.busy": "2022-07-22T12:33:32.556517Z",
     "iopub.status.idle": "2022-07-22T12:33:32.562821Z",
     "shell.execute_reply": "2022-07-22T12:33:32.561412Z"
    },
    "id": "52c31dea",
    "papermill": {
     "duration": 0.056397,
     "end_time": "2022-07-22T12:33:32.567446",
     "exception": false,
     "start_time": "2022-07-22T12:33:32.511049",
     "status": "completed"
    },
    "tags": []
   },
   "outputs": [],
   "source": [
    "# print(\"Weight of the node at skip connection\")\n",
    "# for name,param in gen3.named_parameters():\n",
    "#     if(name == \"skipNode.weight\"):\n",
    "#         print(param)\n",
    "#         sb.glue(\"Skip Connection Weight\",param.item())"
   ]
  },
  {
   "cell_type": "markdown",
   "id": "433d2a3e",
   "metadata": {
    "id": "a5bd74c3",
    "papermill": {
     "duration": 0.04374,
     "end_time": "2022-07-22T12:33:32.647583",
     "exception": false,
     "start_time": "2022-07-22T12:33:32.603843",
     "status": "completed"
    },
    "tags": []
   },
   "source": [
    "## skipGAN Model Analysis (TabNet Generator) "
   ]
  },
  {
   "cell_type": "markdown",
   "id": "6407f18e",
   "metadata": {
    "id": "5744a8bf",
    "papermill": {
     "duration": 0.044163,
     "end_time": "2022-07-22T12:33:32.716995",
     "exception": false,
     "start_time": "2022-07-22T12:33:32.672832",
     "status": "completed"
    },
    "tags": []
   },
   "source": [
    "### Weight Analysis \n",
    "\n",
    "Study the weights of the skip connection layer\n",
    "\n",
    "Equation of the skip connection is \n",
    "\n",
    "$output = y_{gan} * w + y_{abc} * (1-w)$"
   ]
  },
  {
   "cell_type": "code",
   "execution_count": 28,
   "id": "ba10c030",
   "metadata": {
    "execution": {
     "iopub.execute_input": "2022-07-22T12:33:32.807829Z",
     "iopub.status.busy": "2022-07-22T12:33:32.807356Z",
     "iopub.status.idle": "2022-07-22T12:33:32.823180Z",
     "shell.execute_reply": "2022-07-22T12:33:32.821470Z"
    },
    "id": "52c31dea",
    "papermill": {
     "duration": 0.071748,
     "end_time": "2022-07-22T12:33:32.832430",
     "exception": false,
     "start_time": "2022-07-22T12:33:32.760682",
     "status": "completed"
    },
    "tags": []
   },
   "outputs": [
    {
     "name": "stdout",
     "output_type": "stream",
     "text": [
      "Weight of the node at skip connection\n",
      "Parameter containing:\n",
      "tensor([[0.7008]], requires_grad=True)\n"
     ]
    },
    {
     "data": {
      "application/scrapbook.scrap.json+json": {
       "data": 0.7007936835289001,
       "encoder": "json",
       "name": "Skip Connection Weight",
       "version": 1
      }
     },
     "metadata": {
      "scrapbook": {
       "data": true,
       "display": false,
       "name": "Skip Connection Weight"
      }
     },
     "output_type": "display_data"
    }
   ],
   "source": [
    "print(\"Weight of the node at skip connection\")\n",
    "for name,param in gen4.named_parameters():\n",
    "    if(name == \"skipNode.weight\"):\n",
    "        print(param)\n",
    "        sb.glue(\"Skip Connection Weight\",param.item())"
   ]
  }
 ],
 "metadata": {
  "colab": {
   "collapsed_sections": [],
   "name": "ABC_GAN_Model-Catboost_Pre-gen.ipynb",
   "provenance": []
  },
  "interpreter": {
   "hash": "31f2aee4e71d21fbe5cf8b01ff0e069b9275f58929596ceb00d14d90e3e16cd6"
  },
  "kernelspec": {
   "display_name": "Python 3 (ipykernel)",
   "language": "python",
   "name": "python3"
  },
  "language_info": {
   "codemirror_mode": {
    "name": "ipython",
    "version": 3
   },
   "file_extension": ".py",
   "mimetype": "text/x-python",
   "name": "python",
   "nbconvert_exporter": "python",
   "pygments_lexer": "ipython3",
   "version": "3.8.13"
  },
  "papermill": {
   "default_parameters": {},
   "duration": 404.108886,
   "end_time": "2022-07-22T12:33:33.833196",
   "environment_variables": {},
   "exception": null,
   "input_path": "ABC_GAN-TabNet.ipynb",
   "output_path": "./ABC_GAN_TabNet/ABC-GAN_output_3_9.ipynb",
   "parameters": {
    "bias": 0,
    "variance": 1
   },
   "start_time": "2022-07-22T12:26:49.724310",
   "version": "2.3.3"
  }
 },
 "nbformat": 4,
 "nbformat_minor": 5
}