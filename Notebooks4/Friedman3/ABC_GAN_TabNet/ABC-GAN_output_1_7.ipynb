{
 "cells": [
  {
   "cell_type": "markdown",
   "id": "622780e6",
   "metadata": {
    "id": "622780e6",
    "papermill": {
     "duration": 0.01013,
     "end_time": "2022-07-22T08:53:20.853508",
     "exception": false,
     "start_time": "2022-07-22T08:53:20.843378",
     "status": "completed"
    },
    "tags": []
   },
   "source": [
    "## Import Libraries "
   ]
  },
  {
   "cell_type": "code",
   "execution_count": 1,
   "id": "a62397e3",
   "metadata": {
    "execution": {
     "iopub.execute_input": "2022-07-22T08:53:20.872060Z",
     "iopub.status.busy": "2022-07-22T08:53:20.871550Z",
     "iopub.status.idle": "2022-07-22T08:53:20.888250Z",
     "shell.execute_reply": "2022-07-22T08:53:20.886870Z"
    },
    "id": "a62397e3",
    "papermill": {
     "duration": 0.030637,
     "end_time": "2022-07-22T08:53:20.892224",
     "exception": false,
     "start_time": "2022-07-22T08:53:20.861587",
     "status": "completed"
    },
    "tags": []
   },
   "outputs": [],
   "source": [
    "import warnings\n",
    "import sys\n",
    "sys.path.insert(0, '../../src')\n",
    "warnings.filterwarnings('ignore')"
   ]
  },
  {
   "cell_type": "code",
   "execution_count": 2,
   "id": "d6a4e155",
   "metadata": {
    "execution": {
     "iopub.execute_input": "2022-07-22T08:53:20.910260Z",
     "iopub.status.busy": "2022-07-22T08:53:20.909603Z",
     "iopub.status.idle": "2022-07-22T08:53:28.264906Z",
     "shell.execute_reply": "2022-07-22T08:53:28.264004Z"
    },
    "id": "d6a4e155",
    "papermill": {
     "duration": 7.367687,
     "end_time": "2022-07-22T08:53:28.267997",
     "exception": false,
     "start_time": "2022-07-22T08:53:20.900310",
     "status": "completed"
    },
    "tags": []
   },
   "outputs": [],
   "source": [
    "import ABC_train_test2\n",
    "import friedman3Dataset\n",
    "import network\n",
    "import dataset\n",
    "import sanityChecks\n",
    "import torch \n",
    "import scrapbook as sb\n",
    "from statistics import mean \n",
    "import catboost as ctb \n",
    "from sklearn.model_selection import train_test_split\n",
    "from sklearn.metrics import mean_squared_error,mean_absolute_error\n",
    "import numpy as np\n",
    "from pytorch_tabnet.tab_model import TabNetRegressor"
   ]
  },
  {
   "cell_type": "markdown",
   "id": "2fa5b0f7",
   "metadata": {
    "id": "2fa5b0f7",
    "papermill": {
     "duration": 0.015956,
     "end_time": "2022-07-22T08:53:28.293788",
     "exception": false,
     "start_time": "2022-07-22T08:53:28.277832",
     "status": "completed"
    },
    "tags": []
   },
   "source": [
    "## Parameters "
   ]
  },
  {
   "cell_type": "code",
   "execution_count": 3,
   "id": "783186fb",
   "metadata": {
    "execution": {
     "iopub.execute_input": "2022-07-22T08:53:28.313788Z",
     "iopub.status.busy": "2022-07-22T08:53:28.313386Z",
     "iopub.status.idle": "2022-07-22T08:53:28.317893Z",
     "shell.execute_reply": "2022-07-22T08:53:28.316778Z"
    },
    "id": "783186fb",
    "papermill": {
     "duration": 0.019151,
     "end_time": "2022-07-22T08:53:28.322281",
     "exception": false,
     "start_time": "2022-07-22T08:53:28.303130",
     "status": "completed"
    },
    "tags": [
     "parameters"
    ]
   },
   "outputs": [],
   "source": [
    "variance = 1\n",
    "bias = 1 "
   ]
  },
  {
   "cell_type": "code",
   "execution_count": 4,
   "id": "6c66618a",
   "metadata": {
    "execution": {
     "iopub.execute_input": "2022-07-22T08:53:28.343494Z",
     "iopub.status.busy": "2022-07-22T08:53:28.342993Z",
     "iopub.status.idle": "2022-07-22T08:53:28.347603Z",
     "shell.execute_reply": "2022-07-22T08:53:28.346486Z"
    },
    "papermill": {
     "duration": 0.020473,
     "end_time": "2022-07-22T08:53:28.350536",
     "exception": false,
     "start_time": "2022-07-22T08:53:28.330063",
     "status": "completed"
    },
    "tags": [
     "injected-parameters"
    ]
   },
   "outputs": [],
   "source": [
    "# Parameters\n",
    "variance = 0.1\n",
    "bias = 0.01\n"
   ]
  },
  {
   "cell_type": "markdown",
   "id": "391cdbfd",
   "metadata": {
    "id": "391cdbfd",
    "papermill": {
     "duration": 0.008417,
     "end_time": "2022-07-22T08:53:28.366602",
     "exception": false,
     "start_time": "2022-07-22T08:53:28.358185",
     "status": "completed"
    },
    "tags": []
   },
   "source": [
    "## Dataset \n"
   ]
  },
  {
   "cell_type": "code",
   "execution_count": 5,
   "id": "5b51f161",
   "metadata": {
    "execution": {
     "iopub.execute_input": "2022-07-22T08:53:28.391733Z",
     "iopub.status.busy": "2022-07-22T08:53:28.389861Z",
     "iopub.status.idle": "2022-07-22T08:53:28.397223Z",
     "shell.execute_reply": "2022-07-22T08:53:28.395501Z"
    },
    "id": "5b51f161",
    "papermill": {
     "duration": 0.023711,
     "end_time": "2022-07-22T08:53:28.399983",
     "exception": false,
     "start_time": "2022-07-22T08:53:28.376272",
     "status": "completed"
    },
    "tags": []
   },
   "outputs": [],
   "source": [
    "#Parameters \n",
    "n_features = 4\n",
    "n_samples= 100\n",
    "n_target = 1"
   ]
  },
  {
   "cell_type": "code",
   "execution_count": 6,
   "id": "5d6eced4",
   "metadata": {
    "execution": {
     "iopub.execute_input": "2022-07-22T08:53:28.418062Z",
     "iopub.status.busy": "2022-07-22T08:53:28.417627Z",
     "iopub.status.idle": "2022-07-22T08:53:28.435293Z",
     "shell.execute_reply": "2022-07-22T08:53:28.434225Z"
    },
    "id": "5d6eced4",
    "papermill": {
     "duration": 0.030313,
     "end_time": "2022-07-22T08:53:28.438356",
     "exception": false,
     "start_time": "2022-07-22T08:53:28.408043",
     "status": "completed"
    },
    "tags": []
   },
   "outputs": [
    {
     "name": "stdout",
     "output_type": "stream",
     "text": [
      "          X1           X2        X3        X4         Y\n",
      "0  59.606488  1192.887633  0.657195  1.518840  1.550570\n",
      "1  12.136312  1605.426972  0.798040  9.625596  1.539626\n",
      "2  22.256184  1526.331497  0.790114  8.947159  1.514352\n",
      "3  88.316364  1090.277022  0.637885  8.327974  1.440415\n",
      "4  79.639319  1221.667077  0.796303  3.146148  1.469564\n"
     ]
    }
   ],
   "source": [
    "X,Y = friedman3Dataset.friedman3_data(n_samples)"
   ]
  },
  {
   "cell_type": "code",
   "execution_count": 7,
   "id": "fe007438",
   "metadata": {
    "execution": {
     "iopub.execute_input": "2022-07-22T08:53:28.456774Z",
     "iopub.status.busy": "2022-07-22T08:53:28.456192Z",
     "iopub.status.idle": "2022-07-22T08:53:28.463446Z",
     "shell.execute_reply": "2022-07-22T08:53:28.462278Z"
    },
    "id": "fe007438",
    "papermill": {
     "duration": 0.01984,
     "end_time": "2022-07-22T08:53:28.466506",
     "exception": false,
     "start_time": "2022-07-22T08:53:28.446666",
     "status": "completed"
    },
    "tags": []
   },
   "outputs": [],
   "source": [
    "#Train test split for dataset \n",
    "X_train,X_test,Y_train,Y_test = train_test_split(X,Y,test_size = 0.2)\n",
    "train_data = dataset.CustomDataset(X_train,Y_train)\n",
    "test_data = dataset.CustomDataset(X_test,Y_test)\n"
   ]
  },
  {
   "cell_type": "markdown",
   "id": "a9a1af34",
   "metadata": {
    "id": "a9a1af34",
    "papermill": {
     "duration": 0.008311,
     "end_time": "2022-07-22T08:53:28.483042",
     "exception": false,
     "start_time": "2022-07-22T08:53:28.474731",
     "status": "completed"
    },
    "tags": []
   },
   "source": [
    "## Training Parameters "
   ]
  },
  {
   "cell_type": "code",
   "execution_count": 8,
   "id": "952b7fc8",
   "metadata": {
    "execution": {
     "iopub.execute_input": "2022-07-22T08:53:28.503803Z",
     "iopub.status.busy": "2022-07-22T08:53:28.502833Z",
     "iopub.status.idle": "2022-07-22T08:53:28.511882Z",
     "shell.execute_reply": "2022-07-22T08:53:28.510961Z"
    },
    "id": "952b7fc8",
    "papermill": {
     "duration": 0.022134,
     "end_time": "2022-07-22T08:53:28.514545",
     "exception": false,
     "start_time": "2022-07-22T08:53:28.492411",
     "status": "completed"
    },
    "tags": []
   },
   "outputs": [],
   "source": [
    "batch_size = 32\n",
    "n_epochs = 1000\n",
    "#Select the device \n",
    "device = torch.device('cuda' if torch.cuda.is_available() else 'cpu')"
   ]
  },
  {
   "cell_type": "markdown",
   "id": "a95e1600",
   "metadata": {
    "id": "a95e1600",
    "papermill": {
     "duration": 0.007869,
     "end_time": "2022-07-22T08:53:28.530436",
     "exception": false,
     "start_time": "2022-07-22T08:53:28.522567",
     "status": "completed"
    },
    "tags": []
   },
   "source": [
    "# ABC Pre-generator Model \n",
    "\n",
    "1. The catboost model is used as a pre-generator model for the ABC-GAN. \n",
    "2. The model is first trained on the entire dataset \n",
    "3. It generats X,Y pairs and we add some Gaussian noise with mean 0 and variance 1 to it which is then feed as input to the generator.\n"
   ]
  },
  {
   "cell_type": "code",
   "execution_count": 9,
   "id": "ac011ebf",
   "metadata": {
    "execution": {
     "iopub.execute_input": "2022-07-22T08:53:28.549180Z",
     "iopub.status.busy": "2022-07-22T08:53:28.548816Z",
     "iopub.status.idle": "2022-07-22T08:53:54.247257Z",
     "shell.execute_reply": "2022-07-22T08:53:54.246176Z"
    },
    "papermill": {
     "duration": 25.711486,
     "end_time": "2022-07-22T08:53:54.249964",
     "exception": false,
     "start_time": "2022-07-22T08:53:28.538478",
     "status": "completed"
    },
    "tags": []
   },
   "outputs": [
    {
     "name": "stdout",
     "output_type": "stream",
     "text": [
      "Device used : cpu\n"
     ]
    },
    {
     "name": "stdout",
     "output_type": "stream",
     "text": [
      "epoch 0  | loss: 1.26775 | train_mse: 5.765   | train_mae: 1.77191 |  0:00:00s\n",
      "epoch 1  | loss: 1.13226 | train_mse: 4.4019  | train_mae: 1.56666 |  0:00:00s\n",
      "epoch 2  | loss: 0.92594 | train_mse: 4.09208 | train_mae: 1.5627  |  0:00:00s\n"
     ]
    },
    {
     "name": "stdout",
     "output_type": "stream",
     "text": [
      "epoch 3  | loss: 0.8677  | train_mse: 3.63853 | train_mae: 1.48082 |  0:00:00s\n",
      "epoch 4  | loss: 0.92219 | train_mse: 3.02511 | train_mae: 1.36428 |  0:00:00s\n"
     ]
    },
    {
     "name": "stdout",
     "output_type": "stream",
     "text": [
      "epoch 5  | loss: 0.97552 | train_mse: 2.59909 | train_mae: 1.28174 |  0:00:00s\n",
      "epoch 6  | loss: 0.82106 | train_mse: 2.23657 | train_mae: 1.20491 |  0:00:00s\n",
      "epoch 7  | loss: 0.66434 | train_mse: 2.00814 | train_mae: 1.15232 |  0:00:00s\n"
     ]
    },
    {
     "name": "stdout",
     "output_type": "stream",
     "text": [
      "epoch 8  | loss: 0.6738  | train_mse: 1.79114 | train_mae: 1.0978  |  0:00:01s\n",
      "epoch 9  | loss: 0.76051 | train_mse: 1.64536 | train_mae: 1.0541  |  0:00:01s\n",
      "epoch 10 | loss: 0.65245 | train_mse: 1.49588 | train_mae: 1.01579 |  0:00:01s\n"
     ]
    },
    {
     "name": "stdout",
     "output_type": "stream",
     "text": [
      "epoch 11 | loss: 0.49262 | train_mse: 1.38987 | train_mae: 0.98311 |  0:00:01s\n",
      "epoch 12 | loss: 0.65128 | train_mse: 1.2858  | train_mae: 0.94209 |  0:00:01s\n"
     ]
    },
    {
     "name": "stdout",
     "output_type": "stream",
     "text": [
      "epoch 13 | loss: 0.59678 | train_mse: 1.16632 | train_mae: 0.88736 |  0:00:01s\n",
      "epoch 14 | loss: 0.65068 | train_mse: 1.09312 | train_mae: 0.84377 |  0:00:01s\n"
     ]
    },
    {
     "name": "stdout",
     "output_type": "stream",
     "text": [
      "epoch 15 | loss: 0.58645 | train_mse: 1.03325 | train_mae: 0.81845 |  0:00:01s\n",
      "epoch 16 | loss: 0.66575 | train_mse: 0.97381 | train_mae: 0.79095 |  0:00:01s\n",
      "epoch 17 | loss: 0.47957 | train_mse: 0.8986  | train_mae: 0.75643 |  0:00:01s\n"
     ]
    },
    {
     "name": "stdout",
     "output_type": "stream",
     "text": [
      "epoch 18 | loss: 0.58146 | train_mse: 0.83347 | train_mae: 0.7244  |  0:00:02s\n",
      "epoch 19 | loss: 0.56688 | train_mse: 0.79589 | train_mae: 0.70087 |  0:00:02s\n",
      "epoch 20 | loss: 0.55923 | train_mse: 0.7479  | train_mae: 0.67451 |  0:00:02s\n"
     ]
    },
    {
     "name": "stdout",
     "output_type": "stream",
     "text": [
      "epoch 21 | loss: 0.6687  | train_mse: 0.70019 | train_mae: 0.65316 |  0:00:02s\n",
      "epoch 22 | loss: 0.42375 | train_mse: 0.65612 | train_mae: 0.63164 |  0:00:02s\n",
      "epoch 23 | loss: 0.64575 | train_mse: 0.62396 | train_mae: 0.6167  |  0:00:02s\n"
     ]
    },
    {
     "name": "stdout",
     "output_type": "stream",
     "text": [
      "epoch 24 | loss: 0.7323  | train_mse: 0.58967 | train_mae: 0.60402 |  0:00:02s\n",
      "epoch 25 | loss: 0.61514 | train_mse: 0.55    | train_mae: 0.58363 |  0:00:02s\n",
      "epoch 26 | loss: 0.43583 | train_mse: 0.51538 | train_mae: 0.5635  |  0:00:02s\n"
     ]
    },
    {
     "name": "stdout",
     "output_type": "stream",
     "text": [
      "epoch 27 | loss: 0.44718 | train_mse: 0.50091 | train_mae: 0.55753 |  0:00:02s\n",
      "epoch 28 | loss: 0.42235 | train_mse: 0.48251 | train_mae: 0.54717 |  0:00:03s\n",
      "epoch 29 | loss: 0.45103 | train_mse: 0.46187 | train_mae: 0.53282 |  0:00:03s"
     ]
    },
    {
     "name": "stdout",
     "output_type": "stream",
     "text": [
      "\n",
      "epoch 30 | loss: 0.62139 | train_mse: 0.45435 | train_mae: 0.52356 |  0:00:03s\n",
      "epoch 31 | loss: 0.44077 | train_mse: 0.44836 | train_mae: 0.52206 |  0:00:03s\n"
     ]
    },
    {
     "name": "stdout",
     "output_type": "stream",
     "text": [
      "epoch 32 | loss: 0.51148 | train_mse: 0.4582  | train_mae: 0.52883 |  0:00:03s\n",
      "epoch 33 | loss: 0.40848 | train_mse: 0.44912 | train_mae: 0.52203 |  0:00:03s\n",
      "epoch 34 | loss: 0.47391 | train_mse: 0.4403  | train_mae: 0.51264 |  0:00:03s"
     ]
    },
    {
     "name": "stdout",
     "output_type": "stream",
     "text": [
      "\n",
      "epoch 35 | loss: 0.31716 | train_mse: 0.41688 | train_mae: 0.4975  |  0:00:03s\n",
      "epoch 36 | loss: 0.32425 | train_mse: 0.40048 | train_mae: 0.48837 |  0:00:03s"
     ]
    },
    {
     "name": "stdout",
     "output_type": "stream",
     "text": [
      "\n",
      "epoch 37 | loss: 0.25869 | train_mse: 0.39816 | train_mae: 0.48457 |  0:00:03s\n",
      "epoch 38 | loss: 0.37432 | train_mse: 0.3919  | train_mae: 0.47976 |  0:00:03s\n"
     ]
    },
    {
     "name": "stdout",
     "output_type": "stream",
     "text": [
      "epoch 39 | loss: 0.44348 | train_mse: 0.36279 | train_mae: 0.46234 |  0:00:04s\n",
      "epoch 40 | loss: 0.4108  | train_mse: 0.35106 | train_mae: 0.45252 |  0:00:04s\n",
      "epoch 41 | loss: 0.44911 | train_mse: 0.33885 | train_mae: 0.44629 |  0:00:04s\n"
     ]
    },
    {
     "name": "stdout",
     "output_type": "stream",
     "text": [
      "epoch 42 | loss: 0.40926 | train_mse: 0.32768 | train_mae: 0.4408  |  0:00:04s\n",
      "epoch 43 | loss: 0.36848 | train_mse: 0.31468 | train_mae: 0.43481 |  0:00:04s\n"
     ]
    },
    {
     "name": "stdout",
     "output_type": "stream",
     "text": [
      "epoch 44 | loss: 0.42263 | train_mse: 0.31498 | train_mae: 0.43231 |  0:00:04s\n",
      "epoch 45 | loss: 0.39434 | train_mse: 0.31823 | train_mae: 0.43139 |  0:00:04s\n"
     ]
    },
    {
     "name": "stdout",
     "output_type": "stream",
     "text": [
      "epoch 46 | loss: 0.35113 | train_mse: 0.31989 | train_mae: 0.43219 |  0:00:04s\n",
      "epoch 47 | loss: 0.41902 | train_mse: 0.3169  | train_mae: 0.4307  |  0:00:04s\n",
      "epoch 48 | loss: 0.37295 | train_mse: 0.30502 | train_mae: 0.42376 |  0:00:04s\n"
     ]
    },
    {
     "name": "stdout",
     "output_type": "stream",
     "text": [
      "epoch 49 | loss: 0.4813  | train_mse: 0.29197 | train_mae: 0.41895 |  0:00:05s\n",
      "epoch 50 | loss: 0.43937 | train_mse: 0.2789  | train_mae: 0.40948 |  0:00:05s\n",
      "epoch 51 | loss: 0.37003 | train_mse: 0.27113 | train_mae: 0.40095 |  0:00:05s\n"
     ]
    },
    {
     "name": "stdout",
     "output_type": "stream",
     "text": [
      "epoch 52 | loss: 0.30867 | train_mse: 0.26603 | train_mae: 0.40095 |  0:00:05s\n",
      "epoch 53 | loss: 0.22597 | train_mse: 0.2601  | train_mae: 0.39699 |  0:00:05s\n"
     ]
    },
    {
     "name": "stdout",
     "output_type": "stream",
     "text": [
      "epoch 54 | loss: 0.36241 | train_mse: 0.25755 | train_mae: 0.39465 |  0:00:05s\n",
      "epoch 55 | loss: 0.28677 | train_mse: 0.25882 | train_mae: 0.39443 |  0:00:05s\n"
     ]
    },
    {
     "name": "stdout",
     "output_type": "stream",
     "text": [
      "epoch 56 | loss: 0.52986 | train_mse: 0.25919 | train_mae: 0.39032 |  0:00:05s\n",
      "epoch 57 | loss: 0.40779 | train_mse: 0.26009 | train_mae: 0.39215 |  0:00:05s\n",
      "epoch 58 | loss: 0.33403 | train_mse: 0.25921 | train_mae: 0.39016 |  0:00:06s\n"
     ]
    },
    {
     "name": "stdout",
     "output_type": "stream",
     "text": [
      "epoch 59 | loss: 0.50124 | train_mse: 0.26176 | train_mae: 0.38764 |  0:00:06s\n",
      "epoch 60 | loss: 0.41685 | train_mse: 0.26209 | train_mae: 0.38226 |  0:00:06s\n",
      "epoch 61 | loss: 0.53673 | train_mse: 0.25709 | train_mae: 0.3799  |  0:00:06s\n"
     ]
    },
    {
     "name": "stdout",
     "output_type": "stream",
     "text": [
      "epoch 62 | loss: 0.31481 | train_mse: 0.25546 | train_mae: 0.38048 |  0:00:06s\n",
      "epoch 63 | loss: 0.30869 | train_mse: 0.24919 | train_mae: 0.37559 |  0:00:06s\n"
     ]
    },
    {
     "name": "stdout",
     "output_type": "stream",
     "text": [
      "epoch 64 | loss: 0.32521 | train_mse: 0.24694 | train_mae: 0.37498 |  0:00:06s\n",
      "epoch 65 | loss: 0.41606 | train_mse: 0.24936 | train_mae: 0.37312 |  0:00:06s\n",
      "epoch 66 | loss: 0.40532 | train_mse: 0.29448 | train_mae: 0.38677 |  0:00:06s\n"
     ]
    },
    {
     "name": "stdout",
     "output_type": "stream",
     "text": [
      "epoch 67 | loss: 0.35841 | train_mse: 0.30599 | train_mae: 0.38349 |  0:00:06s\n",
      "epoch 68 | loss: 0.37245 | train_mse: 0.30759 | train_mae: 0.38671 |  0:00:07s\n",
      "epoch 69 | loss: 0.47924 | train_mse: 0.30038 | train_mae: 0.38504 |  0:00:07s\n"
     ]
    },
    {
     "name": "stdout",
     "output_type": "stream",
     "text": [
      "epoch 70 | loss: 0.29715 | train_mse: 0.28559 | train_mae: 0.37734 |  0:00:07s\n",
      "epoch 71 | loss: 0.47192 | train_mse: 0.27104 | train_mae: 0.36423 |  0:00:07s\n",
      "epoch 72 | loss: 0.47592 | train_mse: 0.2675  | train_mae: 0.358   |  0:00:07s\n"
     ]
    },
    {
     "name": "stdout",
     "output_type": "stream",
     "text": [
      "epoch 73 | loss: 0.27498 | train_mse: 0.26241 | train_mae: 0.35594 |  0:00:07s\n",
      "epoch 74 | loss: 0.32151 | train_mse: 0.26568 | train_mae: 0.36126 |  0:00:07s\n"
     ]
    },
    {
     "name": "stdout",
     "output_type": "stream",
     "text": [
      "epoch 75 | loss: 0.4329  | train_mse: 0.2987  | train_mae: 0.37496 |  0:00:07s\n",
      "epoch 76 | loss: 0.37492 | train_mse: 0.30519 | train_mae: 0.37916 |  0:00:07s\n",
      "epoch 77 | loss: 0.47315 | train_mse: 0.30149 | train_mae: 0.37888 |  0:00:07s\n"
     ]
    },
    {
     "name": "stdout",
     "output_type": "stream",
     "text": [
      "epoch 78 | loss: 0.29032 | train_mse: 0.28913 | train_mae: 0.37318 |  0:00:07s\n",
      "epoch 79 | loss: 0.27854 | train_mse: 0.2477  | train_mae: 0.35886 |  0:00:08s\n",
      "epoch 80 | loss: 0.30491 | train_mse: 0.2304  | train_mae: 0.34878 |  0:00:08s\n"
     ]
    },
    {
     "name": "stdout",
     "output_type": "stream",
     "text": [
      "epoch 81 | loss: 0.41679 | train_mse: 0.22193 | train_mae: 0.34319 |  0:00:08s\n",
      "epoch 82 | loss: 0.39919 | train_mse: 0.21465 | train_mae: 0.33554 |  0:00:08s\n",
      "epoch 83 | loss: 0.34694 | train_mse: 0.20959 | train_mae: 0.33458 |  0:00:08s\n"
     ]
    },
    {
     "name": "stdout",
     "output_type": "stream",
     "text": [
      "epoch 84 | loss: 0.3299  | train_mse: 0.20851 | train_mae: 0.33111 |  0:00:08s\n",
      "epoch 85 | loss: 0.20879 | train_mse: 0.20403 | train_mae: 0.32816 |  0:00:08s\n"
     ]
    },
    {
     "name": "stdout",
     "output_type": "stream",
     "text": [
      "epoch 86 | loss: 0.25883 | train_mse: 0.19886 | train_mae: 0.32425 |  0:00:08s\n",
      "epoch 87 | loss: 0.24144 | train_mse: 0.19576 | train_mae: 0.32114 |  0:00:08s\n",
      "epoch 88 | loss: 0.54768 | train_mse: 0.19482 | train_mae: 0.32211 |  0:00:08s\n"
     ]
    },
    {
     "name": "stdout",
     "output_type": "stream",
     "text": [
      "epoch 89 | loss: 0.35119 | train_mse: 0.1933  | train_mae: 0.31716 |  0:00:09s\n",
      "epoch 90 | loss: 0.35781 | train_mse: 0.19317 | train_mae: 0.31608 |  0:00:09s\n",
      "epoch 91 | loss: 0.4309  | train_mse: 0.18985 | train_mae: 0.31381 |  0:00:09s\n"
     ]
    },
    {
     "name": "stdout",
     "output_type": "stream",
     "text": [
      "epoch 92 | loss: 0.36174 | train_mse: 0.18496 | train_mae: 0.30782 |  0:00:09s\n",
      "epoch 93 | loss: 0.31709 | train_mse: 0.18316 | train_mae: 0.30815 |  0:00:09s\n",
      "epoch 94 | loss: 0.27673 | train_mse: 0.18149 | train_mae: 0.31022 |  0:00:09s\n"
     ]
    },
    {
     "name": "stdout",
     "output_type": "stream",
     "text": [
      "epoch 95 | loss: 0.32446 | train_mse: 0.17885 | train_mae: 0.31072 |  0:00:09s\n",
      "epoch 96 | loss: 0.35234 | train_mse: 0.17634 | train_mae: 0.31256 |  0:00:09s\n",
      "epoch 97 | loss: 0.28186 | train_mse: 0.1749  | train_mae: 0.31488 |  0:00:09s\n"
     ]
    },
    {
     "name": "stdout",
     "output_type": "stream",
     "text": [
      "epoch 98 | loss: 0.27037 | train_mse: 0.17397 | train_mae: 0.31326 |  0:00:09s\n",
      "epoch 99 | loss: 0.39475 | train_mse: 0.17888 | train_mae: 0.31643 |  0:00:09s\n",
      "epoch 100| loss: 0.22091 | train_mse: 0.1877  | train_mae: 0.32236 |  0:00:10s\n"
     ]
    },
    {
     "name": "stdout",
     "output_type": "stream",
     "text": [
      "epoch 101| loss: 0.3563  | train_mse: 0.1772  | train_mae: 0.31319 |  0:00:10s\n",
      "epoch 102| loss: 0.23426 | train_mse: 0.17148 | train_mae: 0.30717 |  0:00:10s\n",
      "epoch 103| loss: 0.31373 | train_mse: 0.17582 | train_mae: 0.31123 |  0:00:10s\n"
     ]
    },
    {
     "name": "stdout",
     "output_type": "stream",
     "text": [
      "epoch 104| loss: 0.28439 | train_mse: 0.17528 | train_mae: 0.30969 |  0:00:10s\n",
      "epoch 105| loss: 0.23286 | train_mse: 0.17528 | train_mae: 0.30691 |  0:00:10s\n"
     ]
    },
    {
     "name": "stdout",
     "output_type": "stream",
     "text": [
      "epoch 106| loss: 0.25149 | train_mse: 0.17683 | train_mae: 0.30707 |  0:00:10s\n",
      "epoch 107| loss: 0.22655 | train_mse: 0.1783  | train_mae: 0.30861 |  0:00:10s\n",
      "epoch 108| loss: 0.23975 | train_mse: 0.16942 | train_mae: 0.30105 |  0:00:10s\n"
     ]
    },
    {
     "name": "stdout",
     "output_type": "stream",
     "text": [
      "epoch 109| loss: 0.31991 | train_mse: 0.16986 | train_mae: 0.30173 |  0:00:10s\n",
      "epoch 110| loss: 0.17509 | train_mse: 0.17964 | train_mae: 0.30978 |  0:00:11s\n",
      "epoch 111| loss: 0.21801 | train_mse: 0.1796  | train_mae: 0.31048 |  0:00:11s\n"
     ]
    },
    {
     "name": "stdout",
     "output_type": "stream",
     "text": [
      "epoch 112| loss: 0.28737 | train_mse: 0.17856 | train_mae: 0.31223 |  0:00:11s\n",
      "epoch 113| loss: 0.33261 | train_mse: 0.17141 | train_mae: 0.30646 |  0:00:11s\n",
      "epoch 114| loss: 0.25848 | train_mse: 0.16779 | train_mae: 0.30346 |  0:00:11s\n"
     ]
    },
    {
     "name": "stdout",
     "output_type": "stream",
     "text": [
      "epoch 115| loss: 0.27938 | train_mse: 0.1697  | train_mae: 0.30446 |  0:00:11s\n",
      "epoch 116| loss: 0.3822  | train_mse: 0.17191 | train_mae: 0.30685 |  0:00:11s\n",
      "epoch 117| loss: 0.25461 | train_mse: 0.17127 | train_mae: 0.30611 |  0:00:11s\n"
     ]
    },
    {
     "name": "stdout",
     "output_type": "stream",
     "text": [
      "epoch 118| loss: 0.32044 | train_mse: 0.16796 | train_mae: 0.30209 |  0:00:11s\n",
      "epoch 119| loss: 0.29312 | train_mse: 0.15984 | train_mae: 0.29863 |  0:00:11s\n",
      "epoch 120| loss: 0.37793 | train_mse: 0.15733 | train_mae: 0.29785 |  0:00:11s\n"
     ]
    },
    {
     "name": "stdout",
     "output_type": "stream",
     "text": [
      "epoch 121| loss: 0.22663 | train_mse: 0.15549 | train_mae: 0.2934  |  0:00:12s\n",
      "epoch 122| loss: 0.35089 | train_mse: 0.17121 | train_mae: 0.30555 |  0:00:12s\n",
      "epoch 123| loss: 0.29436 | train_mse: 0.17385 | train_mae: 0.30481 |  0:00:12s\n"
     ]
    },
    {
     "name": "stdout",
     "output_type": "stream",
     "text": [
      "epoch 124| loss: 0.26082 | train_mse: 0.17838 | train_mae: 0.3088  |  0:00:12s\n",
      "epoch 125| loss: 0.32944 | train_mse: 0.16836 | train_mae: 0.30118 |  0:00:12s\n",
      "epoch 126| loss: 0.19919 | train_mse: 0.16425 | train_mae: 0.29878 |  0:00:12s\n"
     ]
    },
    {
     "name": "stdout",
     "output_type": "stream",
     "text": [
      "epoch 127| loss: 0.22403 | train_mse: 0.15943 | train_mae: 0.29512 |  0:00:12s\n",
      "epoch 128| loss: 0.21304 | train_mse: 0.14598 | train_mae: 0.28359 |  0:00:12s\n"
     ]
    },
    {
     "name": "stdout",
     "output_type": "stream",
     "text": [
      "epoch 129| loss: 0.30148 | train_mse: 0.14261 | train_mae: 0.28214 |  0:00:12s\n",
      "epoch 130| loss: 0.25369 | train_mse: 0.14263 | train_mae: 0.28205 |  0:00:12s\n",
      "epoch 131| loss: 0.25638 | train_mse: 0.13702 | train_mae: 0.27802 |  0:00:12s\n"
     ]
    },
    {
     "name": "stdout",
     "output_type": "stream",
     "text": [
      "epoch 132| loss: 0.29161 | train_mse: 0.13522 | train_mae: 0.27674 |  0:00:13s\n",
      "epoch 133| loss: 0.20797 | train_mse: 0.13439 | train_mae: 0.27566 |  0:00:13s\n",
      "epoch 134| loss: 0.22812 | train_mse: 0.13628 | train_mae: 0.27707 |  0:00:13s\n"
     ]
    },
    {
     "name": "stdout",
     "output_type": "stream",
     "text": [
      "epoch 135| loss: 0.28968 | train_mse: 0.12663 | train_mae: 0.27094 |  0:00:13s\n",
      "epoch 136| loss: 0.3182  | train_mse: 0.11997 | train_mae: 0.26444 |  0:00:13s\n",
      "epoch 137| loss: 0.20561 | train_mse: 0.12869 | train_mae: 0.27196 |  0:00:13s"
     ]
    },
    {
     "name": "stdout",
     "output_type": "stream",
     "text": [
      "\n",
      "epoch 138| loss: 0.16965 | train_mse: 0.12381 | train_mae: 0.26842 |  0:00:13s\n",
      "epoch 139| loss: 0.25621 | train_mse: 0.12204 | train_mae: 0.26695 |  0:00:13s\n"
     ]
    },
    {
     "name": "stdout",
     "output_type": "stream",
     "text": [
      "epoch 140| loss: 0.18875 | train_mse: 0.12081 | train_mae: 0.26575 |  0:00:13s\n",
      "epoch 141| loss: 0.23915 | train_mse: 0.1239  | train_mae: 0.26912 |  0:00:13s\n",
      "epoch 142| loss: 0.31804 | train_mse: 0.13398 | train_mae: 0.27342 |  0:00:14s\n"
     ]
    },
    {
     "name": "stdout",
     "output_type": "stream",
     "text": [
      "epoch 143| loss: 0.27109 | train_mse: 0.13972 | train_mae: 0.27619 |  0:00:14s\n",
      "epoch 144| loss: 0.23406 | train_mse: 0.14004 | train_mae: 0.27848 |  0:00:14s\n",
      "epoch 145| loss: 0.22284 | train_mse: 0.14004 | train_mae: 0.27804 |  0:00:14s\n"
     ]
    },
    {
     "name": "stdout",
     "output_type": "stream",
     "text": [
      "epoch 146| loss: 0.3218  | train_mse: 0.14102 | train_mae: 0.27771 |  0:00:14s\n",
      "epoch 147| loss: 0.39518 | train_mse: 0.13914 | train_mae: 0.27779 |  0:00:14s\n",
      "epoch 148| loss: 0.26421 | train_mse: 0.1313  | train_mae: 0.27127 |  0:00:14s\n"
     ]
    },
    {
     "name": "stdout",
     "output_type": "stream",
     "text": [
      "epoch 149| loss: 0.25617 | train_mse: 0.12586 | train_mae: 0.2653  |  0:00:14s\n",
      "epoch 150| loss: 0.21085 | train_mse: 0.12117 | train_mae: 0.26052 |  0:00:14s\n",
      "epoch 151| loss: 0.24416 | train_mse: 0.11801 | train_mae: 0.26002 |  0:00:14s\n"
     ]
    },
    {
     "name": "stdout",
     "output_type": "stream",
     "text": [
      "epoch 152| loss: 0.27922 | train_mse: 0.11515 | train_mae: 0.25794 |  0:00:15s\n",
      "epoch 153| loss: 0.17094 | train_mse: 0.11423 | train_mae: 0.25854 |  0:00:15s\n"
     ]
    },
    {
     "name": "stdout",
     "output_type": "stream",
     "text": [
      "epoch 154| loss: 0.2606  | train_mse: 0.11265 | train_mae: 0.258   |  0:00:15s\n",
      "epoch 155| loss: 0.16217 | train_mse: 0.10643 | train_mae: 0.2513  |  0:00:15s\n"
     ]
    },
    {
     "name": "stdout",
     "output_type": "stream",
     "text": [
      "epoch 156| loss: 0.20963 | train_mse: 0.1035  | train_mae: 0.24794 |  0:00:15s\n",
      "epoch 157| loss: 0.36434 | train_mse: 0.10176 | train_mae: 0.24538 |  0:00:15s\n",
      "epoch 158| loss: 0.25853 | train_mse: 0.10022 | train_mae: 0.24543 |  0:00:15s\n"
     ]
    },
    {
     "name": "stdout",
     "output_type": "stream",
     "text": [
      "epoch 159| loss: 0.18423 | train_mse: 0.10061 | train_mae: 0.24508 |  0:00:16s\n",
      "epoch 160| loss: 0.25338 | train_mse: 0.10181 | train_mae: 0.24439 |  0:00:16s\n",
      "epoch 161| loss: 0.45199 | train_mse: 0.10286 | train_mae: 0.24368 |  0:00:16s\n"
     ]
    },
    {
     "name": "stdout",
     "output_type": "stream",
     "text": [
      "epoch 162| loss: 0.29521 | train_mse: 0.10995 | train_mae: 0.25198 |  0:00:16s\n",
      "epoch 163| loss: 0.35691 | train_mse: 0.12331 | train_mae: 0.26116 |  0:00:16s\n",
      "epoch 164| loss: 0.20236 | train_mse: 0.12511 | train_mae: 0.26345 |  0:00:16s\n"
     ]
    },
    {
     "name": "stdout",
     "output_type": "stream",
     "text": [
      "epoch 165| loss: 0.35298 | train_mse: 0.12284 | train_mae: 0.26145 |  0:00:16s\n",
      "epoch 166| loss: 0.19652 | train_mse: 0.12386 | train_mae: 0.26255 |  0:00:16s\n",
      "epoch 167| loss: 0.36228 | train_mse: 0.12493 | train_mae: 0.26282 |  0:00:16s\n"
     ]
    },
    {
     "name": "stdout",
     "output_type": "stream",
     "text": [
      "epoch 168| loss: 0.21056 | train_mse: 0.12429 | train_mae: 0.26164 |  0:00:16s\n",
      "epoch 169| loss: 0.23029 | train_mse: 0.12218 | train_mae: 0.25985 |  0:00:16s\n",
      "epoch 170| loss: 0.19145 | train_mse: 0.12085 | train_mae: 0.25791 |  0:00:17s\n"
     ]
    },
    {
     "name": "stdout",
     "output_type": "stream",
     "text": [
      "epoch 171| loss: 0.32397 | train_mse: 0.11577 | train_mae: 0.25178 |  0:00:17s\n",
      "epoch 172| loss: 0.24262 | train_mse: 0.11355 | train_mae: 0.24987 |  0:00:17s\n",
      "epoch 173| loss: 0.28679 | train_mse: 0.11181 | train_mae: 0.24811 |  0:00:17s\n"
     ]
    },
    {
     "name": "stdout",
     "output_type": "stream",
     "text": [
      "epoch 174| loss: 0.20381 | train_mse: 0.10916 | train_mae: 0.24404 |  0:00:17s\n",
      "epoch 175| loss: 0.33277 | train_mse: 0.10792 | train_mae: 0.24166 |  0:00:17s\n"
     ]
    },
    {
     "name": "stdout",
     "output_type": "stream",
     "text": [
      "epoch 176| loss: 0.19533 | train_mse: 0.10796 | train_mae: 0.24136 |  0:00:17s\n",
      "epoch 177| loss: 0.30151 | train_mse: 0.10546 | train_mae: 0.2399  |  0:00:17s\n"
     ]
    },
    {
     "name": "stdout",
     "output_type": "stream",
     "text": [
      "epoch 178| loss: 0.19708 | train_mse: 0.10463 | train_mae: 0.23967 |  0:00:17s\n",
      "epoch 179| loss: 0.44416 | train_mse: 0.10079 | train_mae: 0.23547 |  0:00:17s\n",
      "epoch 180| loss: 0.32553 | train_mse: 0.09917 | train_mae: 0.23185 |  0:00:18s\n"
     ]
    },
    {
     "name": "stdout",
     "output_type": "stream",
     "text": [
      "epoch 181| loss: 0.18435 | train_mse: 0.09914 | train_mae: 0.22925 |  0:00:18s\n",
      "epoch 182| loss: 0.17345 | train_mse: 0.09656 | train_mae: 0.22504 |  0:00:18s\n",
      "epoch 183| loss: 0.17302 | train_mse: 0.09558 | train_mae: 0.22353 |  0:00:18s\n"
     ]
    },
    {
     "name": "stdout",
     "output_type": "stream",
     "text": [
      "epoch 184| loss: 0.18491 | train_mse: 0.09463 | train_mae: 0.22211 |  0:00:18s\n",
      "epoch 185| loss: 0.22273 | train_mse: 0.09289 | train_mae: 0.21965 |  0:00:18s\n"
     ]
    },
    {
     "name": "stdout",
     "output_type": "stream",
     "text": [
      "epoch 186| loss: 0.23463 | train_mse: 0.09148 | train_mae: 0.21764 |  0:00:18s\n",
      "epoch 187| loss: 0.23744 | train_mse: 0.0916  | train_mae: 0.21721 |  0:00:18s\n",
      "epoch 188| loss: 0.18735 | train_mse: 0.09031 | train_mae: 0.21719 |  0:00:18s\n"
     ]
    },
    {
     "name": "stdout",
     "output_type": "stream",
     "text": [
      "epoch 189| loss: 0.15484 | train_mse: 0.08866 | train_mae: 0.21523 |  0:00:18s\n",
      "epoch 190| loss: 0.22917 | train_mse: 0.08746 | train_mae: 0.21395 |  0:00:18s\n"
     ]
    },
    {
     "name": "stdout",
     "output_type": "stream",
     "text": [
      "epoch 191| loss: 0.31161 | train_mse: 0.08707 | train_mae: 0.21369 |  0:00:19s\n",
      "epoch 192| loss: 0.16716 | train_mse: 0.08773 | train_mae: 0.21421 |  0:00:19s\n",
      "epoch 193| loss: 0.23232 | train_mse: 0.0886  | train_mae: 0.21567 |  0:00:19s\n"
     ]
    },
    {
     "name": "stdout",
     "output_type": "stream",
     "text": [
      "epoch 194| loss: 0.13729 | train_mse: 0.08841 | train_mae: 0.21739 |  0:00:19s\n",
      "epoch 195| loss: 0.15343 | train_mse: 0.08693 | train_mae: 0.2161  |  0:00:19s\n",
      "epoch 196| loss: 0.29242 | train_mse: 0.08803 | train_mae: 0.21738 |  0:00:19s\n"
     ]
    },
    {
     "name": "stdout",
     "output_type": "stream",
     "text": [
      "epoch 197| loss: 0.26882 | train_mse: 0.08772 | train_mae: 0.21719 |  0:00:19s\n",
      "epoch 198| loss: 0.15839 | train_mse: 0.08753 | train_mae: 0.21691 |  0:00:19s\n",
      "epoch 199| loss: 0.13305 | train_mse: 0.08734 | train_mae: 0.2153  |  0:00:19s\n"
     ]
    },
    {
     "name": "stdout",
     "output_type": "stream",
     "text": [
      "epoch 200| loss: 0.3172  | train_mse: 0.08651 | train_mae: 0.21301 |  0:00:19s\n",
      "epoch 201| loss: 0.27014 | train_mse: 0.0874  | train_mae: 0.215   |  0:00:20s\n",
      "epoch 202| loss: 0.25496 | train_mse: 0.08691 | train_mae: 0.21353 |  0:00:20s\n"
     ]
    },
    {
     "name": "stdout",
     "output_type": "stream",
     "text": [
      "epoch 203| loss: 0.21539 | train_mse: 0.08871 | train_mae: 0.21551 |  0:00:20s\n",
      "epoch 204| loss: 0.20067 | train_mse: 0.08955 | train_mae: 0.21646 |  0:00:20s\n",
      "epoch 205| loss: 0.41785 | train_mse: 0.09012 | train_mae: 0.21663 |  0:00:20s\n"
     ]
    },
    {
     "name": "stdout",
     "output_type": "stream",
     "text": [
      "epoch 206| loss: 0.17789 | train_mse: 0.09163 | train_mae: 0.21539 |  0:00:20s\n",
      "epoch 207| loss: 0.18292 | train_mse: 0.09334 | train_mae: 0.21279 |  0:00:20s\n"
     ]
    },
    {
     "name": "stdout",
     "output_type": "stream",
     "text": [
      "epoch 208| loss: 0.15026 | train_mse: 0.09277 | train_mae: 0.21118 |  0:00:20s\n",
      "epoch 209| loss: 0.19072 | train_mse: 0.09139 | train_mae: 0.21069 |  0:00:20s\n",
      "epoch 210| loss: 0.23364 | train_mse: 0.08838 | train_mae: 0.20917 |  0:00:20s\n"
     ]
    },
    {
     "name": "stdout",
     "output_type": "stream",
     "text": [
      "epoch 211| loss: 0.12804 | train_mse: 0.08702 | train_mae: 0.2091  |  0:00:20s\n",
      "epoch 212| loss: 0.27316 | train_mse: 0.08885 | train_mae: 0.21247 |  0:00:21s\n"
     ]
    },
    {
     "name": "stdout",
     "output_type": "stream",
     "text": [
      "epoch 213| loss: 0.36765 | train_mse: 0.08984 | train_mae: 0.2132  |  0:00:21s\n",
      "epoch 214| loss: 0.26843 | train_mse: 0.09179 | train_mae: 0.21635 |  0:00:21s\n",
      "epoch 215| loss: 0.10617 | train_mse: 0.09008 | train_mae: 0.2153  |  0:00:21s\n"
     ]
    },
    {
     "name": "stdout",
     "output_type": "stream",
     "text": [
      "epoch 216| loss: 0.25188 | train_mse: 0.08834 | train_mae: 0.21399 |  0:00:21s\n",
      "epoch 217| loss: 0.27209 | train_mse: 0.08717 | train_mae: 0.21281 |  0:00:21s\n"
     ]
    },
    {
     "name": "stdout",
     "output_type": "stream",
     "text": [
      "epoch 218| loss: 0.14061 | train_mse: 0.08614 | train_mae: 0.21184 |  0:00:21s\n",
      "epoch 219| loss: 0.19227 | train_mse: 0.08388 | train_mae: 0.21051 |  0:00:21s\n",
      "epoch 220| loss: 0.14176 | train_mse: 0.08336 | train_mae: 0.20986 |  0:00:21s\n"
     ]
    },
    {
     "name": "stdout",
     "output_type": "stream",
     "text": [
      "epoch 221| loss: 0.26281 | train_mse: 0.08423 | train_mae: 0.21162 |  0:00:21s\n",
      "epoch 222| loss: 0.26367 | train_mse: 0.08549 | train_mae: 0.21355 |  0:00:22s\n",
      "epoch 223| loss: 0.18824 | train_mse: 0.08648 | train_mae: 0.21594 |  0:00:22s\n"
     ]
    },
    {
     "name": "stdout",
     "output_type": "stream",
     "text": [
      "epoch 224| loss: 0.25107 | train_mse: 0.09066 | train_mae: 0.22082 |  0:00:22s\n",
      "epoch 225| loss: 0.20405 | train_mse: 0.09493 | train_mae: 0.22708 |  0:00:22s\n",
      "epoch 226| loss: 0.11025 | train_mse: 0.09892 | train_mae: 0.23242 |  0:00:22s\n"
     ]
    },
    {
     "name": "stdout",
     "output_type": "stream",
     "text": [
      "epoch 227| loss: 0.12227 | train_mse: 0.09983 | train_mae: 0.23294 |  0:00:22s\n",
      "epoch 228| loss: 0.1678  | train_mse: 0.10008 | train_mae: 0.23242 |  0:00:22s\n",
      "epoch 229| loss: 0.14025 | train_mse: 0.10396 | train_mae: 0.23529 |  0:00:22s\n"
     ]
    },
    {
     "name": "stdout",
     "output_type": "stream",
     "text": [
      "epoch 230| loss: 0.21824 | train_mse: 0.10966 | train_mae: 0.23925 |  0:00:22s\n",
      "epoch 231| loss: 0.27554 | train_mse: 0.11228 | train_mae: 0.24136 |  0:00:22s\n",
      "epoch 232| loss: 0.23736 | train_mse: 0.11109 | train_mae: 0.23882 |  0:00:22s\n"
     ]
    },
    {
     "name": "stdout",
     "output_type": "stream",
     "text": [
      "epoch 233| loss: 0.20868 | train_mse: 0.11205 | train_mae: 0.23509 |  0:00:23s\n",
      "epoch 234| loss: 0.23965 | train_mse: 0.10531 | train_mae: 0.23124 |  0:00:23s\n",
      "epoch 235| loss: 0.32946 | train_mse: 0.0991  | train_mae: 0.22819 |  0:00:23s\n"
     ]
    },
    {
     "name": "stdout",
     "output_type": "stream",
     "text": [
      "epoch 236| loss: 0.20831 | train_mse: 0.09295 | train_mae: 0.22518 |  0:00:23s\n",
      "epoch 237| loss: 0.20409 | train_mse: 0.08865 | train_mae: 0.22179 |  0:00:23s\n",
      "epoch 238| loss: 0.16478 | train_mse: 0.0869  | train_mae: 0.21932 |  0:00:23s\n"
     ]
    },
    {
     "name": "stdout",
     "output_type": "stream",
     "text": [
      "epoch 239| loss: 0.27479 | train_mse: 0.08764 | train_mae: 0.21961 |  0:00:23s\n",
      "epoch 240| loss: 0.2083  | train_mse: 0.09083 | train_mae: 0.22249 |  0:00:23s\n",
      "epoch 241| loss: 0.32694 | train_mse: 0.08941 | train_mae: 0.21946 |  0:00:23s\n"
     ]
    },
    {
     "name": "stdout",
     "output_type": "stream",
     "text": [
      "epoch 242| loss: 0.22053 | train_mse: 0.10368 | train_mae: 0.23469 |  0:00:23s\n",
      "epoch 243| loss: 0.1524  | train_mse: 0.10329 | train_mae: 0.23496 |  0:00:23s\n",
      "epoch 244| loss: 0.27563 | train_mse: 0.09352 | train_mae: 0.22775 |  0:00:24s\n"
     ]
    },
    {
     "name": "stdout",
     "output_type": "stream",
     "text": [
      "epoch 245| loss: 0.20569 | train_mse: 0.09432 | train_mae: 0.22608 |  0:00:24s\n",
      "epoch 246| loss: 0.22783 | train_mse: 0.09299 | train_mae: 0.22325 |  0:00:24s\n",
      "epoch 247| loss: 0.23264 | train_mse: 0.09239 | train_mae: 0.22234 |  0:00:24s\n"
     ]
    },
    {
     "name": "stdout",
     "output_type": "stream",
     "text": [
      "epoch 248| loss: 0.3606  | train_mse: 0.09169 | train_mae: 0.22419 |  0:00:24s\n",
      "epoch 249| loss: 0.12779 | train_mse: 0.08867 | train_mae: 0.22031 |  0:00:24s\n",
      "epoch 250| loss: 0.14581 | train_mse: 0.08894 | train_mae: 0.21969 |  0:00:24s\n"
     ]
    },
    {
     "name": "stdout",
     "output_type": "stream",
     "text": [
      "epoch 251| loss: 0.30303 | train_mse: 0.09035 | train_mae: 0.22036 |  0:00:24s\n",
      "epoch 252| loss: 0.14179 | train_mse: 0.09109 | train_mae: 0.21948 |  0:00:24s\n",
      "epoch 253| loss: 0.21169 | train_mse: 0.09124 | train_mae: 0.21905 |  0:00:24s\n"
     ]
    },
    {
     "name": "stdout",
     "output_type": "stream",
     "text": [
      "epoch 254| loss: 0.24925 | train_mse: 0.08623 | train_mae: 0.21323 |  0:00:24s\n",
      "epoch 255| loss: 0.16085 | train_mse: 0.08356 | train_mae: 0.21262 |  0:00:25s\n",
      "epoch 256| loss: 0.20416 | train_mse: 0.08275 | train_mae: 0.21317 |  0:00:25s\n"
     ]
    },
    {
     "name": "stdout",
     "output_type": "stream",
     "text": [
      "epoch 257| loss: 0.15878 | train_mse: 0.08169 | train_mae: 0.21252 |  0:00:25s\n",
      "epoch 258| loss: 0.14315 | train_mse: 0.07961 | train_mae: 0.2109  |  0:00:25s\n",
      "epoch 259| loss: 0.30443 | train_mse: 0.07964 | train_mae: 0.21121 |  0:00:25s\n"
     ]
    },
    {
     "name": "stdout",
     "output_type": "stream",
     "text": [
      "epoch 260| loss: 0.14137 | train_mse: 0.08007 | train_mae: 0.21208 |  0:00:25s\n",
      "epoch 261| loss: 0.11246 | train_mse: 0.08174 | train_mae: 0.21459 |  0:00:25s\n",
      "\n",
      "Early stopping occurred at epoch 261 with best_epoch = 211 and best_train_mae = 0.2091\n",
      "Best weights from best epoch are automatically used!\n"
     ]
    }
   ],
   "source": [
    "#Train the Model\n",
    "\n",
    "Y_train = np.reshape(Y_train, (-1, 1))\n",
    "Y_test = np.reshape(Y_test, (-1, 1))\n",
    "\n",
    "prior_model = TabNetRegressor(optimizer_fn=torch.optim.Adam, optimizer_params=dict(lr = 0.001),\n",
    "          #scheduler_params={\"step_size\":10, ], \"gamma\":0.9},\n",
    "          #scheduler_fn=torch.optim.lr_scheduler.StepLR\n",
    "          )  #TabNetRegressor()\n",
    "\n",
    "prior_model.fit(X_train,Y_train,eval_set=[(X_train, Y_train)],\n",
    "            eval_name=['train'], \n",
    "            eval_metric=[ 'mse', 'mae'], \n",
    "            max_epochs = n_epochs, \n",
    "            batch_size = batch_size,\n",
    "            patience=50\n",
    "            )"
   ]
  },
  {
   "cell_type": "code",
   "execution_count": 10,
   "id": "af65dcda",
   "metadata": {
    "execution": {
     "iopub.execute_input": "2022-07-22T08:53:54.292003Z",
     "iopub.status.busy": "2022-07-22T08:53:54.291549Z",
     "iopub.status.idle": "2022-07-22T08:53:54.343339Z",
     "shell.execute_reply": "2022-07-22T08:53:54.342229Z"
    },
    "id": "af65dcda",
    "papermill": {
     "duration": 0.078563,
     "end_time": "2022-07-22T08:53:54.346575",
     "exception": false,
     "start_time": "2022-07-22T08:53:54.268012",
     "status": "completed"
    },
    "tags": []
   },
   "outputs": [
    {
     "data": {
      "application/scrapbook.scrap.json+json": {
       "data": 0.7274600376075758,
       "encoder": "json",
       "name": "Prior Model MSE",
       "version": 1
      }
     },
     "metadata": {
      "scrapbook": {
       "data": true,
       "display": false,
       "name": "Prior Model MSE"
      }
     },
     "output_type": "display_data"
    },
    {
     "data": {
      "application/scrapbook.scrap.json+json": {
       "data": 0.7707524905717554,
       "encoder": "json",
       "name": "ABC Pre-generator MSE",
       "version": 1
      }
     },
     "metadata": {
      "scrapbook": {
       "data": true,
       "display": false,
       "name": "ABC Pre-generator MSE"
      }
     },
     "output_type": "display_data"
    },
    {
     "data": {
      "application/scrapbook.scrap.json+json": {
       "data": 0.672912917851038,
       "encoder": "json",
       "name": "Prior Model MAE",
       "version": 1
      }
     },
     "metadata": {
      "scrapbook": {
       "data": true,
       "display": false,
       "name": "Prior Model MAE"
      }
     },
     "output_type": "display_data"
    },
    {
     "name": "stdout",
     "output_type": "stream",
     "text": [
      "Prior Model MAE 0.672912917851038\n"
     ]
    },
    {
     "data": {
      "application/scrapbook.scrap.json+json": {
       "data": 0.7004204403215287,
       "encoder": "json",
       "name": "ABC Pre-generator MAE",
       "version": 1
      }
     },
     "metadata": {
      "scrapbook": {
       "data": true,
       "display": false,
       "name": "ABC Pre-generator MAE"
      }
     },
     "output_type": "display_data"
    },
    {
     "name": "stdout",
     "output_type": "stream",
     "text": [
      "ABC Pre-generator MAE 0.7004204403215287\n"
     ]
    }
   ],
   "source": [
    "y_pred = prior_model.predict(X_test)\n",
    "y_abc = y_pred + np.random.normal(0,variance, y_pred.shape) + bias \n",
    "mse = mean_squared_error(y_pred,Y_test)\n",
    "sb.glue(\"Prior Model MSE\",mse)\n",
    "mse = mean_squared_error(y_abc,Y_test)\n",
    "sb.glue(\"ABC Pre-generator MSE\",mse)\n",
    "mae = mean_absolute_error(y_pred,Y_test)\n",
    "sb.glue(\"Prior Model MAE\",mae)\n",
    "print(\"Prior Model MAE\",mae)\n",
    "mae = mean_absolute_error(y_abc,Y_test)\n",
    "sb.glue(\"ABC Pre-generator MAE\",mae)\n",
    "print(\"ABC Pre-generator MAE\",mae)"
   ]
  },
  {
   "cell_type": "markdown",
   "id": "25609da2",
   "metadata": {
    "papermill": {
     "duration": 0.017441,
     "end_time": "2022-07-22T08:53:54.380464",
     "exception": false,
     "start_time": "2022-07-22T08:53:54.363023",
     "status": "completed"
    },
    "tags": []
   },
   "source": [
    "# mGAN Model"
   ]
  },
  {
   "cell_type": "code",
   "execution_count": 11,
   "id": "dfc3464d",
   "metadata": {
    "execution": {
     "iopub.execute_input": "2022-07-22T08:53:54.414368Z",
     "iopub.status.busy": "2022-07-22T08:53:54.413764Z",
     "iopub.status.idle": "2022-07-22T08:53:54.418503Z",
     "shell.execute_reply": "2022-07-22T08:53:54.417238Z"
    },
    "papermill": {
     "duration": 0.024977,
     "end_time": "2022-07-22T08:53:54.421402",
     "exception": false,
     "start_time": "2022-07-22T08:53:54.396425",
     "status": "completed"
    },
    "tags": []
   },
   "outputs": [],
   "source": [
    "# gen = network.Generator(n_features+1).to(device)\n",
    "# disc = network.Discriminator(n_features+1).to(device)\n",
    "\n",
    "# criterion = torch.nn.BCELoss()\n",
    "# gen_opt = torch.optim.Adam(gen.parameters(), lr=0.001, betas=(0.5, 0.999))\n",
    "# disc_opt = torch.optim.Adam(disc.parameters(), lr=0.001, betas=(0.5, 0.999))"
   ]
  },
  {
   "cell_type": "code",
   "execution_count": 12,
   "id": "b75fdd85",
   "metadata": {
    "execution": {
     "iopub.execute_input": "2022-07-22T08:53:54.453732Z",
     "iopub.status.busy": "2022-07-22T08:53:54.453413Z",
     "iopub.status.idle": "2022-07-22T08:53:54.457211Z",
     "shell.execute_reply": "2022-07-22T08:53:54.456294Z"
    },
    "papermill": {
     "duration": 0.023357,
     "end_time": "2022-07-22T08:53:54.460197",
     "exception": false,
     "start_time": "2022-07-22T08:53:54.436840",
     "status": "completed"
    },
    "tags": []
   },
   "outputs": [],
   "source": [
    "#Training the ABC_GAN \n",
    "# ABC_train_test2.training_GAN(disc,gen,disc_opt,gen_opt,train_data,batch_size,n_epochs,criterion,prior_model,variance,bias,device)"
   ]
  },
  {
   "cell_type": "code",
   "execution_count": 13,
   "id": "1fa7c368",
   "metadata": {
    "execution": {
     "iopub.execute_input": "2022-07-22T08:53:54.495560Z",
     "iopub.status.busy": "2022-07-22T08:53:54.495249Z",
     "iopub.status.idle": "2022-07-22T08:53:54.499146Z",
     "shell.execute_reply": "2022-07-22T08:53:54.498079Z"
    },
    "papermill": {
     "duration": 0.026832,
     "end_time": "2022-07-22T08:53:54.502208",
     "exception": false,
     "start_time": "2022-07-22T08:53:54.475376",
     "status": "completed"
    },
    "tags": []
   },
   "outputs": [],
   "source": [
    "# ABC_GAN1_metrics=ABC_train_test2.test_generator(gen,test_data,prior_model,variance,bias,\"1\",device)\n",
    "# sb.glue(\"ABC_GAN_1 Metrics\",ABC_GAN1_metrics)\n",
    "\n",
    "# print(\"MAE\")\n",
    "# print(mean(ABC_GAN1_metrics[1]))"
   ]
  },
  {
   "cell_type": "code",
   "execution_count": 14,
   "id": "eb22ce5c",
   "metadata": {
    "execution": {
     "iopub.execute_input": "2022-07-22T08:53:54.541022Z",
     "iopub.status.busy": "2022-07-22T08:53:54.540006Z",
     "iopub.status.idle": "2022-07-22T08:53:54.545142Z",
     "shell.execute_reply": "2022-07-22T08:53:54.544049Z"
    },
    "papermill": {
     "duration": 0.030427,
     "end_time": "2022-07-22T08:53:54.548013",
     "exception": false,
     "start_time": "2022-07-22T08:53:54.517586",
     "status": "completed"
    },
    "tags": []
   },
   "outputs": [],
   "source": [
    "# sanityChecks.discProbVsError(train_data,disc,device)\n",
    "# sanityChecks.discProbVsError(test_data,disc,device)"
   ]
  },
  {
   "cell_type": "markdown",
   "id": "627280a0",
   "metadata": {
    "papermill": {
     "duration": 0.015817,
     "end_time": "2022-07-22T08:53:54.579216",
     "exception": false,
     "start_time": "2022-07-22T08:53:54.563399",
     "status": "completed"
    },
    "tags": []
   },
   "source": [
    "# mGAN Model with TabNet Generator"
   ]
  },
  {
   "cell_type": "code",
   "execution_count": 15,
   "id": "a773eea6",
   "metadata": {
    "execution": {
     "iopub.execute_input": "2022-07-22T08:53:54.615685Z",
     "iopub.status.busy": "2022-07-22T08:53:54.615207Z",
     "iopub.status.idle": "2022-07-22T08:53:54.633482Z",
     "shell.execute_reply": "2022-07-22T08:53:54.632615Z"
    },
    "papermill": {
     "duration": 0.039051,
     "end_time": "2022-07-22T08:53:54.636319",
     "exception": false,
     "start_time": "2022-07-22T08:53:54.597268",
     "status": "completed"
    },
    "tags": []
   },
   "outputs": [],
   "source": [
    "gen2 = network.GeneratorTabnet(n_features+1).to(device)\n",
    "disc2 = network.Discriminator(n_features+1).to(device)\n",
    "\n",
    "criterion = torch.nn.BCELoss()\n",
    "gen_opt = torch.optim.Adam(gen2.parameters(), lr=0.001, betas=(0.5, 0.999))\n",
    "disc_opt = torch.optim.Adam(disc2.parameters(), lr=0.001, betas=(0.5, 0.999))"
   ]
  },
  {
   "cell_type": "code",
   "execution_count": 16,
   "id": "b3fb08e8",
   "metadata": {
    "execution": {
     "iopub.execute_input": "2022-07-22T08:53:54.670514Z",
     "iopub.status.busy": "2022-07-22T08:53:54.669869Z",
     "iopub.status.idle": "2022-07-22T08:56:44.480107Z",
     "shell.execute_reply": "2022-07-22T08:56:44.477849Z"
    },
    "papermill": {
     "duration": 169.830888,
     "end_time": "2022-07-22T08:56:44.482913",
     "exception": false,
     "start_time": "2022-07-22T08:53:54.652025",
     "status": "completed"
    },
    "tags": []
   },
   "outputs": [
    {
     "data": {
      "image/png": "[encoded data removed]",
      "text/plain": [
       "<Figure size 432x288 with 1 Axes>"
      ]
     },
     "metadata": {
      "needs_background": "light"
     },
     "output_type": "display_data"
    },
    {
     "data": {
      "image/png": "[encoded data removed]",
      "text/plain": [
       "<Figure size 432x288 with 1 Axes>"
      ]
     },
     "metadata": {
      "needs_background": "light"
     },
     "output_type": "display_data"
    }
   ],
   "source": [
    "#Training the ABC_GAN \n",
    "ABC_train_test2.training_GAN(disc2,gen2,disc_opt,gen_opt,train_data,batch_size,n_epochs,criterion,prior_model,variance,bias,device)"
   ]
  },
  {
   "cell_type": "code",
   "execution_count": 17,
   "id": "70cdbb55",
   "metadata": {
    "execution": {
     "iopub.execute_input": "2022-07-22T08:56:44.526979Z",
     "iopub.status.busy": "2022-07-22T08:56:44.526360Z",
     "iopub.status.idle": "2022-07-22T08:56:46.425309Z",
     "shell.execute_reply": "2022-07-22T08:56:46.423530Z"
    },
    "papermill": {
     "duration": 1.928281,
     "end_time": "2022-07-22T08:56:46.428091",
     "exception": false,
     "start_time": "2022-07-22T08:56:44.499810",
     "status": "completed"
    },
    "tags": []
   },
   "outputs": [
    {
     "data": {
      "application/scrapbook.scrap.json+json": {
       "data": 0.9921145746352311,
       "encoder": "json",
       "name": "ABC-GAN Model 1 MSE",
       "version": 1
      }
     },
     "metadata": {
      "scrapbook": {
       "data": true,
       "display": false,
       "name": "ABC-GAN Model 1 MSE"
      }
     },
     "output_type": "display_data"
    },
    {
     "data": {
      "application/scrapbook.scrap.json+json": {
       "data": 0.7308295861631632,
       "encoder": "json",
       "name": "ABC-GAN Model 1 MAE",
       "version": 1
      }
     },
     "metadata": {
      "scrapbook": {
       "data": true,
       "display": false,
       "name": "ABC-GAN Model 1 MAE"
      }
     },
     "output_type": "display_data"
    },
    {
     "data": {
      "application/scrapbook.scrap.json+json": {
       "data": 14.616591723263264,
       "encoder": "json",
       "name": "ABC-GAN Model 1 Manhattan Distance",
       "version": 1
      }
     },
     "metadata": {
      "scrapbook": {
       "data": true,
       "display": false,
       "name": "ABC-GAN Model 1 Manhattan Distance"
      }
     },
     "output_type": "display_data"
    },
    {
     "data": {
      "application/scrapbook.scrap.json+json": {
       "data": 4.452654844130298,
       "encoder": "json",
       "name": "ABC-GAN Model 1 Euclidean distance",
       "version": 1
      }
     },
     "metadata": {
      "scrapbook": {
       "data": true,
       "display": false,
       "name": "ABC-GAN Model 1 Euclidean distance"
      }
     },
     "output_type": "display_data"
    },
    {
     "data": {
      "application/scrapbook.scrap.json+json": {
       "data": [
        [
         0.9838424768234638,
         0.9885524803341864,
         0.9286950619623251,
         1.0410689020291621,
         1.0288397091458759,
         0.9107012998220814,
         1.0611894696531858,
         0.939784115757963,
         1.015208186754902,
         1.061332922518354,
         0.9240337159589143,
         0.9878208937866427,
         0.9607463358261705,
         0.9561561118965773,
         1.008612277095382,
         1.0515311445726099,
         1.1119626655048447,
         0.9191848246715534,
         1.1319228759277253,
         0.9890312107377474,
         1.1023817241601432,
         0.9666287262342644,
         0.9782741171619665,
         0.9590338300888389,
         1.015144121101309,
         1.010375553120401,
         0.9998903952966707,
         0.9562937381752888,
         0.8929842638777667,
         0.9565595356753887,
         0.8918151048025029,
         1.0495512235568598,
         0.9584731197881853,
         1.0097413129575672,
         1.0543337271254816,
         0.9463980198275654,
         1.0159342269912233,
         1.0247497832475263,
         1.0281048126521584,
         1.006815948181568,
         0.9469455983363375,
         1.0414624557852112,
         0.9596113354732575,
         0.9687868895002373,
         0.9184739697050096,
         0.9733818375025016,
         0.9199704367437491,
         0.9604586804667038,
         0.8963672030282147,
         0.9044404715778243,
         0.904915001995254,
         0.9840480321562326,
         1.0160293625947068,
         1.0143759898125517,
         1.0287516520148752,
         1.145303405958321,
         0.9828177235717132,
         0.9484962160111177,
         0.9858256969374587,
         0.9429327948351997,
         1.0731268463937214,
         1.0158113207259178,
         1.0415296344085299,
         0.9068445587620528,
         0.9895713846126434,
         0.9859726915860714,
         0.9350219718265848,
         0.9722694430751263,
         1.0406158937189687,
         0.9274604112960564,
         1.064525700913733,
         1.10423485807238,
         0.9482168296908633,
         0.9697139777661847,
         1.178364514731483,
         0.9913818057315309,
         0.9783209206486745,
         1.0731692180434074,
         0.9190773287130247,
         0.9839229108241485,
         1.0006534435100949,
         1.0145390026548824,
         1.0467233339166877,
         1.0452782828824183,
         0.9697165939225725,
         1.0200353940194697,
         0.9464765531300893,
         1.003704929652316,
         0.8995250556922262,
         0.9900788679102741,
         0.9630296161967571,
         1.0443150298883321,
         0.9884905264920167,
         1.0034686358719027,
         0.9649762541501774,
         1.0144037142384523,
         1.0236641604434231,
         0.9525557471436045,
         1.016166801620006,
         0.9374085798374828
        ],
        [
         0.711197991669178,
         0.7475036814808845,
         0.7051939573138952,
         0.745272932946682,
         0.7588870294392109,
         0.6741600371897221,
         0.727620106935501,
         0.7091876454651356,
         0.7125458493828773,
         0.7579932734370232,
         0.7391286619007588,
         0.7291519977152348,
         0.7146551020443439,
         0.7264661617577076,
         0.7773588262498379,
         0.7780302338302135,
         0.7778281800448894,
         0.6891742922365666,
         0.8195914212614298,
         0.76960464194417,
         0.7688597483560443,
         0.735774676501751,
         0.7274850450456143,
         0.7167766321450472,
         0.7507143154740333,
         0.7590581953525544,
         0.7168387413024903,
         0.7081332556903362,
         0.7189554877579212,
         0.7327922031283378,
         0.6705281600356102,
         0.7904253344982862,
         0.7078671887516975,
         0.7241647981107235,
         0.7532676544040442,
         0.717422005161643,
         0.708767319470644,
         0.7573911763727665,
         0.7251884527504444,
         0.7502210665494203,
         0.7543170258402825,
         0.7287670284509659,
         0.7180699609220028,
         0.7451885104179382,
         0.7094756700098515,
         0.731218358874321,
         0.712341757118702,
         0.7300393339246511,
         0.6741962283849716,
         0.698927640914917,
         0.6816793281584979,
         0.7127396628260613,
         0.7297879176214337,
         0.7208834990859032,
         0.7599793251603841,
         0.7375836230814456,
         0.72321008592844,
         0.7407891169190407,
         0.6831419922411441,
         0.6978332236409187,
         0.7831987451761961,
         0.6973985679447651,
         0.7373928032815457,
         0.6851474486291409,
         0.7150172647088766,
         0.7398495681583881,
         0.7188147708773613,
         0.72045062109828,
         0.7628808341920376,
         0.7165068246424198,
         0.7602659069001675,
         0.7887524414807559,
         0.7258515857160092,
         0.7388302523642778,
         0.7961319379508496,
         0.6954418092966079,
         0.7365451231598854,
         0.7634370878338814,
         0.7105916038155555,
         0.708869981020689,
         0.7551094584167004,
         0.7568158268928528,
         0.7729898856952786,
         0.7565521821379662,
         0.7030211575329304,
         0.7380960449576378,
         0.7036177691072225,
         0.7304237753152847,
         0.7034591071307659,
         0.713762580230832,
         0.7089742295444011,
         0.7361646223813295,
         0.7016481764614582,
         0.7235175266861915,
         0.733392396196723,
         0.749933560192585,
         0.7215896366164088,
         0.7286958165466786,
         0.749094620347023,
         0.6933722950518131
        ],
        [
         14.22395983338356,
         14.950073629617691,
         14.103879146277905,
         14.90545865893364,
         15.177740588784218,
         13.483200743794441,
         14.552402138710022,
         14.183752909302711,
         14.250916987657547,
         15.159865468740463,
         14.782573238015175,
         14.583039954304695,
         14.293102040886879,
         14.529323235154152,
         15.547176524996758,
         15.560604676604271,
         15.556563600897789,
         13.78348584473133,
         16.391828425228596,
         15.3920928388834,
         15.377194967120886,
         14.715493530035019,
         14.549700900912285,
         14.335532642900944,
         15.014286309480667,
         15.181163907051086,
         14.336774826049805,
         14.162665113806725,
         14.379109755158424,
         14.655844062566757,
         13.410563200712204,
         15.808506689965725,
         14.15734377503395,
         14.48329596221447,
         15.065353088080883,
         14.34844010323286,
         14.17534638941288,
         15.14782352745533,
         14.503769055008888,
         15.004421330988407,
         15.086340516805649,
         14.575340569019318,
         14.361399218440056,
         14.903770208358765,
         14.18951340019703,
         14.62436717748642,
         14.246835142374039,
         14.600786678493023,
         13.483924567699432,
         13.97855281829834,
         13.633586563169956,
         14.254793256521225,
         14.595758352428675,
         14.417669981718063,
         15.199586503207684,
         14.751672461628914,
         14.464201718568802,
         14.815782338380814,
         13.662839844822884,
         13.956664472818375,
         15.663974903523922,
         13.947971358895302,
         14.747856065630913,
         13.702948972582817,
         14.300345294177532,
         14.796991363167763,
         14.376295417547226,
         14.409012421965599,
         15.257616683840752,
         14.330136492848396,
         15.20531813800335,
         15.775048829615116,
         14.517031714320183,
         14.776605047285557,
         15.92263875901699,
         13.90883618593216,
         14.730902463197708,
         15.268741756677628,
         14.211832076311111,
         14.17739962041378,
         15.102189168334007,
         15.136316537857056,
         15.459797713905573,
         15.131043642759323,
         14.060423150658607,
         14.761920899152756,
         14.072355382144451,
         14.608475506305695,
         14.069182142615318,
         14.275251604616642,
         14.179484590888023,
         14.72329244762659,
         14.032963529229164,
         14.470350533723831,
         14.66784792393446,
         14.9986712038517,
         14.431792732328176,
         14.57391633093357,
         14.98189240694046,
         13.867445901036263
        ],
        [
         4.435859503689142,
         4.44646484374764,
         4.309744915797976,
         4.563044821233213,
         4.536165140613547,
         4.267789357084253,
         4.606928411975133,
         4.335398749268545,
         4.506014173867858,
         4.607239786506351,
         4.298915481744004,
         4.444819217441003,
         4.383483399822955,
         4.3729992268386635,
         4.491352306589591,
         4.585915709152557,
         4.715851281592423,
         4.287621309471146,
         4.757988810259489,
         4.447541367402326,
         4.695490867119525,
         4.396882364208223,
         4.423288634403065,
         4.379574933915023,
         4.505871993524248,
         4.495276527913274,
         4.471890864716335,
         4.373313933792746,
         4.2260720861759244,
         4.3739216629367945,
         4.223304641634328,
         4.581596279806548,
         4.378294461975314,
         4.493865402874383,
         4.592022924867604,
         4.350627586515687,
         4.507625155203621,
         4.527139898981533,
         4.534544768005182,
         4.487350996259525,
         4.351886024096535,
         4.563907220321665,
         4.380893368876392,
         4.40178802192981,
         4.285963064948203,
         4.41221449501835,
         4.2894531976552654,
         4.382827125193746,
         4.234069444466433,
         4.253094100952445,
         4.254209684524856,
         4.4363228740844205,
         4.5078362050871075,
         4.504166936987464,
         4.535971014049529,
         4.786028428579005,
         4.433548744677819,
         4.355447660140385,
         4.440328134130311,
         4.342655396955185,
         4.632767739470049,
         4.507352483944246,
         4.564054413366541,
         4.258742910207314,
         4.448755746526535,
         4.440659166353732,
         4.324400471340703,
         4.409692603969411,
         4.562051936834934,
         4.306879174753004,
         4.6141644983978045,
         4.699435834379229,
         4.354806148821927,
         4.403893681201182,
         4.854615360111413,
         4.452823386867103,
         4.42339444465147,
         4.632859199335562,
         4.287370589797492,
         4.436040826737618,
         4.473596860491779,
         4.504528838080366,
         4.575419836291939,
         4.572260453828977,
         4.403899621750188,
         4.516714279250946,
         4.350808093056023,
         4.480412770386934,
         4.2415210849227805,
         4.4498963311750845,
         4.3886891350305435,
         4.570153235698628,
         4.446325508758927,
         4.47988534646123,
         4.393122475301998,
         4.504228489405155,
         4.524741231149961,
         4.364758291460375,
         4.508141083905884,
         4.329915887953213
        ]
       ],
       "encoder": "json",
       "name": "ABC_GAN_2 Metrics",
       "version": 1
      }
     },
     "metadata": {
      "scrapbook": {
       "data": true,
       "display": false,
       "name": "ABC_GAN_2 Metrics"
      }
     },
     "output_type": "display_data"
    },
    {
     "name": "stdout",
     "output_type": "stream",
     "text": [
      "MAE\n",
      "0.7308295861631632\n"
     ]
    }
   ],
   "source": [
    "ABC_GAN2_metrics=ABC_train_test2.test_generator(gen2,test_data,prior_model,variance,bias,\"1\",device)\n",
    "sb.glue(\"ABC_GAN_2 Metrics\",ABC_GAN2_metrics)\n",
    "\n",
    "print(\"MAE\")\n",
    "print(mean(ABC_GAN2_metrics[1]))"
   ]
  },
  {
   "cell_type": "code",
   "execution_count": 18,
   "id": "e1fc0f13",
   "metadata": {
    "execution": {
     "iopub.execute_input": "2022-07-22T08:56:46.469597Z",
     "iopub.status.busy": "2022-07-22T08:56:46.468910Z",
     "iopub.status.idle": "2022-07-22T08:56:47.452899Z",
     "shell.execute_reply": "2022-07-22T08:56:47.451694Z"
    },
    "papermill": {
     "duration": 1.010015,
     "end_time": "2022-07-22T08:56:47.457039",
     "exception": false,
     "start_time": "2022-07-22T08:56:46.447024",
     "status": "completed"
    },
    "tags": []
   },
   "outputs": [
    {
     "data": {
      "image/png": "[encoded data removed]",
      "text/plain": [
       "<Figure size 432x288 with 1 Axes>"
      ]
     },
     "metadata": {
      "needs_background": "light"
     },
     "output_type": "display_data"
    },
    {
     "data": {
      "image/png": "[encoded data removed]",
      "text/plain": [
       "<Figure size 432x288 with 1 Axes>"
      ]
     },
     "metadata": {
      "needs_background": "light"
     },
     "output_type": "display_data"
    },
    {
     "data": {
      "image/png": "[encoded data removed]",
      "text/plain": [
       "<Figure size 432x288 with 1 Axes>"
      ]
     },
     "metadata": {
      "needs_background": "light"
     },
     "output_type": "display_data"
    },
    {
     "data": {
      "image/png": "[encoded data removed]",
      "text/plain": [
       "<Figure size 432x288 with 1 Axes>"
      ]
     },
     "metadata": {
      "needs_background": "light"
     },
     "output_type": "display_data"
    }
   ],
   "source": [
    "sanityChecks.discProbVsError(train_data,disc2,device)\n",
    "sanityChecks.discProbVsError(test_data,disc2,device)"
   ]
  },
  {
   "cell_type": "markdown",
   "id": "130f3a4d",
   "metadata": {
    "id": "130f3a4d",
    "papermill": {
     "duration": 0.020261,
     "end_time": "2022-07-22T08:56:47.496369",
     "exception": false,
     "start_time": "2022-07-22T08:56:47.476108",
     "status": "completed"
    },
    "tags": []
   },
   "source": [
    "# skipGAN Model"
   ]
  },
  {
   "cell_type": "code",
   "execution_count": 19,
   "id": "4e43dad1",
   "metadata": {
    "execution": {
     "iopub.execute_input": "2022-07-22T08:56:47.542874Z",
     "iopub.status.busy": "2022-07-22T08:56:47.542073Z",
     "iopub.status.idle": "2022-07-22T08:56:47.547783Z",
     "shell.execute_reply": "2022-07-22T08:56:47.546437Z"
    },
    "id": "4e43dad1",
    "papermill": {
     "duration": 0.033588,
     "end_time": "2022-07-22T08:56:47.551164",
     "exception": false,
     "start_time": "2022-07-22T08:56:47.517576",
     "status": "completed"
    },
    "tags": []
   },
   "outputs": [],
   "source": [
    "# #Generator\n",
    "# gen3 = network.GeneratorWithSkipConnection(n_features+1).to(device)\n",
    "# constraints=network.weightConstraint()\n",
    "# #Discriminator \n",
    "# disc3 = network.Discriminator(n_features+1).to(device)\n",
    "\n",
    "# criterion = torch.nn.BCELoss()\n",
    "# gen_opt = torch.optim.Adam(gen3.parameters(), lr=0.01, betas=(0.5, 0.999))\n",
    "# disc_opt = torch.optim.Adam(disc3.parameters(), lr=0.01, betas=(0.5, 0.999))\n"
   ]
  },
  {
   "cell_type": "code",
   "execution_count": 20,
   "id": "26acbc37",
   "metadata": {
    "execution": {
     "iopub.execute_input": "2022-07-22T08:56:47.612286Z",
     "iopub.status.busy": "2022-07-22T08:56:47.611542Z",
     "iopub.status.idle": "2022-07-22T08:56:47.616365Z",
     "shell.execute_reply": "2022-07-22T08:56:47.615278Z"
    },
    "id": "26acbc37",
    "papermill": {
     "duration": 0.047263,
     "end_time": "2022-07-22T08:56:47.619370",
     "exception": false,
     "start_time": "2022-07-22T08:56:47.572107",
     "status": "completed"
    },
    "tags": []
   },
   "outputs": [],
   "source": [
    "# ABC_train_test2.training_GAN_skip_connection(disc3,gen3,disc_opt,gen_opt,train_data,batch_size,n_epochs,criterion,prior_model,variance,bias,device)"
   ]
  },
  {
   "cell_type": "code",
   "execution_count": 21,
   "id": "c5e0717b",
   "metadata": {
    "execution": {
     "iopub.execute_input": "2022-07-22T08:56:47.663796Z",
     "iopub.status.busy": "2022-07-22T08:56:47.663398Z",
     "iopub.status.idle": "2022-07-22T08:56:47.668525Z",
     "shell.execute_reply": "2022-07-22T08:56:47.667525Z"
    },
    "id": "c5e0717b",
    "papermill": {
     "duration": 0.031055,
     "end_time": "2022-07-22T08:56:47.671432",
     "exception": false,
     "start_time": "2022-07-22T08:56:47.640377",
     "status": "completed"
    },
    "tags": []
   },
   "outputs": [],
   "source": [
    "# ABC_GAN3_metrics=ABC_train_test2.test_generator(gen3,test_data,prior_model,variance,bias,\"3\",device)\n",
    "# sb.glue(\"ABC_GAN_3 Metrics\",ABC_GAN3_metrics)\n",
    "\n",
    "# print(\"MAE\")\n",
    "# print(mean(ABC_GAN3_metrics[1]))"
   ]
  },
  {
   "cell_type": "code",
   "execution_count": 22,
   "id": "c8e46b48",
   "metadata": {
    "execution": {
     "iopub.execute_input": "2022-07-22T08:56:47.718839Z",
     "iopub.status.busy": "2022-07-22T08:56:47.718166Z",
     "iopub.status.idle": "2022-07-22T08:56:47.723893Z",
     "shell.execute_reply": "2022-07-22T08:56:47.722873Z"
    },
    "id": "c8e46b48",
    "papermill": {
     "duration": 0.031891,
     "end_time": "2022-07-22T08:56:47.726789",
     "exception": false,
     "start_time": "2022-07-22T08:56:47.694898",
     "status": "completed"
    },
    "tags": []
   },
   "outputs": [],
   "source": [
    "# sanityChecks.discProbVsError(train_data,disc3,device)\n",
    "# sanityChecks.discProbVsError(test_data,disc3,device)"
   ]
  },
  {
   "cell_type": "markdown",
   "id": "a5300128",
   "metadata": {
    "id": "130f3a4d",
    "papermill": {
     "duration": 0.021196,
     "end_time": "2022-07-22T08:56:47.768823",
     "exception": false,
     "start_time": "2022-07-22T08:56:47.747627",
     "status": "completed"
    },
    "tags": []
   },
   "source": [
    "# skipGAN Model with TabNet Generator"
   ]
  },
  {
   "cell_type": "code",
   "execution_count": 23,
   "id": "8d085f3f",
   "metadata": {
    "execution": {
     "iopub.execute_input": "2022-07-22T08:56:47.815970Z",
     "iopub.status.busy": "2022-07-22T08:56:47.815583Z",
     "iopub.status.idle": "2022-07-22T08:56:47.834819Z",
     "shell.execute_reply": "2022-07-22T08:56:47.833771Z"
    },
    "id": "4e43dad1",
    "papermill": {
     "duration": 0.047443,
     "end_time": "2022-07-22T08:56:47.838702",
     "exception": false,
     "start_time": "2022-07-22T08:56:47.791259",
     "status": "completed"
    },
    "tags": []
   },
   "outputs": [],
   "source": [
    "#Generator\n",
    "gen4 = network.GeneratorTabnetskipConnection(n_features+1).to(device)\n",
    "constraints=network.weightConstraint()\n",
    "#Discriminator \n",
    "disc4 = network.Discriminator(n_features+1).to(device)\n",
    "\n",
    "criterion = torch.nn.BCELoss()\n",
    "gen_opt = torch.optim.Adam(gen4.parameters(), lr=0.001, betas=(0.5, 0.999))\n",
    "disc_opt = torch.optim.Adam(disc4.parameters(), lr=0.001, betas=(0.5, 0.999))\n"
   ]
  },
  {
   "cell_type": "code",
   "execution_count": 24,
   "id": "c45e6ea9",
   "metadata": {
    "execution": {
     "iopub.execute_input": "2022-07-22T08:56:47.887011Z",
     "iopub.status.busy": "2022-07-22T08:56:47.885538Z",
     "iopub.status.idle": "2022-07-22T09:01:35.630905Z",
     "shell.execute_reply": "2022-07-22T09:01:35.629057Z"
    },
    "id": "26acbc37",
    "papermill": {
     "duration": 287.776389,
     "end_time": "2022-07-22T09:01:35.636003",
     "exception": false,
     "start_time": "2022-07-22T08:56:47.859614",
     "status": "completed"
    },
    "tags": []
   },
   "outputs": [
    {
     "data": {
      "image/png": "[encoded data removed]",
      "text/plain": [
       "<Figure size 432x288 with 1 Axes>"
      ]
     },
     "metadata": {
      "needs_background": "light"
     },
     "output_type": "display_data"
    },
    {
     "data": {
      "image/png": "[encoded data removed]",
      "text/plain": [
       "<Figure size 432x288 with 1 Axes>"
      ]
     },
     "metadata": {
      "needs_background": "light"
     },
     "output_type": "display_data"
    }
   ],
   "source": [
    "ABC_train_test2.training_GAN_skip_connection(disc4,gen4,disc_opt,gen_opt,train_data,batch_size,n_epochs,criterion,prior_model,variance,bias,device)"
   ]
  },
  {
   "cell_type": "code",
   "execution_count": 25,
   "id": "78a7c4d5",
   "metadata": {
    "execution": {
     "iopub.execute_input": "2022-07-22T09:01:35.689713Z",
     "iopub.status.busy": "2022-07-22T09:01:35.688516Z",
     "iopub.status.idle": "2022-07-22T09:01:38.365299Z",
     "shell.execute_reply": "2022-07-22T09:01:38.361774Z"
    },
    "id": "c5e0717b",
    "papermill": {
     "duration": 2.710126,
     "end_time": "2022-07-22T09:01:38.369691",
     "exception": false,
     "start_time": "2022-07-22T09:01:35.659565",
     "status": "completed"
    },
    "tags": []
   },
   "outputs": [
    {
     "data": {
      "application/scrapbook.scrap.json+json": {
       "data": 0.7296789321274286,
       "encoder": "json",
       "name": "ABC-GAN Model 3 MSE",
       "version": 1
      }
     },
     "metadata": {
      "scrapbook": {
       "data": true,
       "display": false,
       "name": "ABC-GAN Model 3 MSE"
      }
     },
     "output_type": "display_data"
    },
    {
     "data": {
      "application/scrapbook.scrap.json+json": {
       "data": 0.6740264761250182,
       "encoder": "json",
       "name": "ABC-GAN Model 3 MAE",
       "version": 1
      }
     },
     "metadata": {
      "scrapbook": {
       "data": true,
       "display": false,
       "name": "ABC-GAN Model 3 MAE"
      }
     },
     "output_type": "display_data"
    },
    {
     "data": {
      "application/scrapbook.scrap.json+json": {
       "data": 13.480529522500365,
       "encoder": "json",
       "name": "ABC-GAN Model 3 Manhattan Distance",
       "version": 1
      }
     },
     "metadata": {
      "scrapbook": {
       "data": true,
       "display": false,
       "name": "ABC-GAN Model 3 Manhattan Distance"
      }
     },
     "output_type": "display_data"
    },
    {
     "data": {
      "application/scrapbook.scrap.json+json": {
       "data": 3.8189859647483066,
       "encoder": "json",
       "name": "ABC-GAN Model 3 Euclidean distance",
       "version": 1
      }
     },
     "metadata": {
      "scrapbook": {
       "data": true,
       "display": false,
       "name": "ABC-GAN Model 3 Euclidean distance"
      }
     },
     "output_type": "display_data"
    },
    {
     "data": {
      "application/scrapbook.scrap.json+json": {
       "data": [
        [
         0.7356471129527911,
         0.712385830913935,
         0.7620579687808424,
         0.6697286894341479,
         0.7072534240879997,
         0.7620539308954674,
         0.7164970783144,
         0.7480515029090372,
         0.7168495670458526,
         0.7085618811257811,
         0.7237727246856401,
         0.8090006132434897,
         0.7743044208263916,
         0.6591484636249907,
         0.7502679059742121,
         0.7307853606402857,
         0.674661196054477,
         0.7589885812841404,
         0.7401570214590005,
         0.753803773676179,
         0.7649774243510676,
         0.8057669275756822,
         0.7027302854730133,
         0.7317702002788975,
         0.7463393017840881,
         0.662969494234366,
         0.6849634915552288,
         0.739750657492392,
         0.6971518311470942,
         0.775161676116735,
         0.7489782558156115,
         0.7078747760150254,
         0.8437530043909606,
         0.747673175336945,
         0.7136670615168639,
         0.754724300286101,
         0.7130142924503431,
         0.688124135270515,
         0.7195091271299392,
         0.779293076625579,
         0.7792164190848618,
         0.7271069890039821,
         0.7530309776034784,
         0.6948613783970312,
         0.7526780732931895,
         0.7508359087148397,
         0.6945324938773941,
         0.7434689945832685,
         0.7442315980429135,
         0.7588127020971797,
         0.6930511859457351,
         0.6809498114391046,
         0.719829746674092,
         0.664929542732881,
         0.7810083473404201,
         0.6623262434078155,
         0.7807239387999031,
         0.6956790332429725,
         0.7221528193814472,
         0.7678693348556671,
         0.7411575877803073,
         0.6563939857121689,
         0.7224863669308672,
         0.6788965305529799,
         0.7351235645239267,
         0.8098549556500811,
         0.7503460676745688,
         0.7606270268304598,
         0.7148817616974454,
         0.694753275983939,
         0.7297031519892071,
         0.7441574470382349,
         0.7511778840326098,
         0.781918780162161,
         0.7237618519983353,
         0.69787964222085,
         0.7117309093948804,
         0.7661091111140725,
         0.7497981683122192,
         0.7536937694427507,
         0.7285542712187157,
         0.7313896969797019,
         0.6781646745645908,
         0.6901867504277148,
         0.7338649188949278,
         0.7354594890318141,
         0.7349167523625307,
         0.7224736546847594,
         0.7719255322965739,
         0.6948349291599238,
         0.7069798863364734,
         0.6954182856122287,
         0.6921727844337238,
         0.6937906135685726,
         0.7606134690214439,
         0.7579470681158809,
         0.7109080055064875,
         0.724131614048477,
         0.7003486434053587,
         0.7198952527372096
        ],
        [
         0.6828208591789007,
         0.6884706337470561,
         0.6732936663087458,
         0.6673931184224784,
         0.6518626429140568,
         0.6822109393775463,
         0.6517326273024082,
         0.693202918744646,
         0.655558992177248,
         0.6786371347960085,
         0.6869907491840422,
         0.6981778655201196,
         0.7061903645284474,
         0.6560594063252211,
         0.6866257754154503,
         0.6878652404993773,
         0.637822975218296,
         0.6889951605349779,
         0.663109615817666,
         0.6778704915195704,
         0.6966070363298058,
         0.6848917994648218,
         0.6630104056559503,
         0.6934224039316177,
         0.6869587017223239,
         0.6535069714300334,
         0.643957045674324,
         0.6899612150155008,
         0.6538094206247479,
         0.6910541813820601,
         0.6933461448177696,
         0.6673344143200666,
         0.7381233180873096,
         0.6769829662982374,
         0.6928051912225783,
         0.6829600428231061,
         0.6685291316825897,
         0.6929377817898057,
         0.661685262620449,
         0.6932175375521183,
         0.6954975131899118,
         0.6639130100607872,
         0.6646996479481458,
         0.6683175355195999,
         0.6997365409508347,
         0.6944468201138079,
         0.6522142043337226,
         0.6912641387432814,
         0.6630815587937832,
         0.6561035566497594,
         0.6402891272911801,
         0.6736448501003907,
         0.6507025458617136,
         0.6435795340687036,
         0.6802468568086624,
         0.6230869549908675,
         0.7110575120896101,
         0.6627249129116535,
         0.6687362547963858,
         0.6995793102309108,
         0.7047079326584935,
         0.6408497889060527,
         0.6680535967461765,
         0.6450857728719711,
         0.6679853333160282,
         0.7038590602576733,
         0.6763340557692572,
         0.6935655811801553,
         0.6675272166728974,
         0.665063179191202,
         0.6745870377868414,
         0.6932681019417941,
         0.6740678185597062,
         0.6923738580197096,
         0.6706783267203719,
         0.6614328477531671,
         0.6652860179543495,
         0.6867567148059607,
         0.690338964946568,
         0.6990147781558335,
         0.6690353630478058,
         0.6680706358980387,
         0.6494396924972534,
         0.6461438201367855,
         0.6859180143103003,
         0.689789017662406,
         0.6679281773976982,
         0.6572787929326296,
         0.6898017365485429,
         0.6563479762524367,
         0.6563151095993817,
         0.6462602983228862,
         0.6541406372911297,
         0.6545939828734845,
         0.6851246307604015,
         0.6953141167759895,
         0.6588960908353328,
         0.6888957956805826,
         0.6525679874932393,
         0.6470352165400982
        ],
        [
         13.656417183578014,
         13.769412674941123,
         13.465873326174915,
         13.347862368449569,
         13.037252858281136,
         13.644218787550926,
         13.034652546048164,
         13.86405837489292,
         13.11117984354496,
         13.57274269592017,
         13.739814983680844,
         13.963557310402393,
         14.123807290568948,
         13.121188126504421,
         13.732515508309007,
         13.757304809987545,
         12.756459504365921,
         13.779903210699558,
         13.262192316353321,
         13.557409830391407,
         13.932140726596117,
         13.697835989296436,
         13.260208113119006,
         13.868448078632355,
         13.739174034446478,
         13.070139428600669,
         12.87914091348648,
         13.799224300310016,
         13.076188412494957,
         13.821083627641201,
         13.86692289635539,
         13.346688286401331,
         14.762466361746192,
         13.539659325964749,
         13.856103824451566,
         13.659200856462121,
         13.370582633651793,
         13.858755635796115,
         13.233705252408981,
         13.864350751042366,
         13.909950263798237,
         13.278260201215744,
         13.293992958962917,
         13.366350710391998,
         13.994730819016695,
         13.888936402276158,
         13.044284086674452,
         13.825282774865627,
         13.261631175875664,
         13.122071132995188,
         12.805782545823604,
         13.472897002007812,
         13.014050917234272,
         12.871590681374073,
         13.604937136173248,
         12.46173909981735,
         14.221150241792202,
         13.25449825823307,
         13.374725095927715,
         13.991586204618216,
         14.09415865316987,
         12.816995778121054,
         13.36107193492353,
         12.901715457439423,
         13.359706666320562,
         14.077181205153465,
         13.526681115385145,
         13.871311623603106,
         13.350544333457947,
         13.301263583824039,
         13.491740755736828,
         13.865362038835883,
         13.481356371194124,
         13.847477160394192,
         13.413566534407437,
         13.228656955063343,
         13.30572035908699,
         13.735134296119213,
         13.80677929893136,
         13.98029556311667,
         13.380707260956115,
         13.361412717960775,
         12.988793849945068,
         12.92287640273571,
         13.718360286206007,
         13.79578035324812,
         13.358563547953963,
         13.145575858652592,
         13.79603473097086,
         13.126959525048733,
         13.126302191987634,
         12.925205966457725,
         13.082812745822594,
         13.09187965746969,
         13.70249261520803,
         13.90628233551979,
         13.177921816706657,
         13.77791591361165,
         13.051359749864787,
         12.940704330801964
        ],
        [
         3.8357453329249873,
         3.7746147642214694,
         3.9039927478950123,
         3.6598598045120467,
         3.7609930180419098,
         3.9039824049180014,
         3.7854909280419626,
         3.867949076472019,
         3.7864219707947306,
         3.764470430554027,
         3.8046622049418266,
         4.02243859678054,
         3.935236767531,
         3.630835891705905,
         3.87367501469654,
         3.8230494651267213,
         3.6733123908932033,
         3.8961226399694873,
         3.847484948531964,
         3.8827922264169095,
         3.911463726921337,
         4.0143914297828065,
         3.7489472801654955,
         3.8256246556056634,
         3.863519902327638,
         3.6413445160664653,
         3.701252467895777,
         3.8464286227418603,
         3.734037576530515,
         3.93741457333803,
         3.870344314956,
         3.7626447507438847,
         4.107926494938683,
         3.8669708437921924,
         3.778007574150332,
         3.885162288209081,
         3.77627936585826,
         3.709782029366455,
         3.7934394080568605,
         3.9478933030809706,
         3.947699125021718,
         3.813415762814178,
         3.8808014059044,
         3.7278985458218448,
         3.879891939972528,
         3.8751410521807843,
         3.727016216432105,
         3.856083491272637,
         3.8580606476386903,
         3.89567119273991,
         3.7230395806269243,
         3.6903924220578617,
         3.7942845087686607,
         3.646723303824629,
         3.9522356896835493,
         3.639577567267431,
         3.951516009836992,
         3.7300912408223277,
         3.800402134988999,
         3.9188501753847826,
         3.850084642654775,
         3.6232416030736037,
         3.801279697498902,
         3.684824366378891,
         3.8343801703115634,
         4.024561977781138,
         3.8738767860492644,
         3.9003256962219446,
         3.781221394463554,
         3.7276085523668896,
         3.8202176691628633,
         3.857868445238212,
         3.876023436545785,
         3.954538608136633,
         3.8046336275608335,
         3.735986194355782,
         3.7728792967570017,
         3.914355914104062,
         3.872462183965698,
         3.8825089038989993,
         3.8172091145723615,
         3.8246299088400746,
         3.6828376954858895,
         3.7153378054430384,
         3.8310962370969692,
         3.8352561558044957,
         3.833840769678706,
         3.801246255334583,
         3.929187020991935,
         3.727827595691421,
         3.760265645766196,
         3.7293921370974883,
         3.7206794659946825,
         3.725025137012025,
         3.900290935357115,
         3.8934485180001563,
         3.770697562803168,
         3.8056053764111617,
         3.7425890594756965,
         3.7944571488875964
        ]
       ],
       "encoder": "json",
       "name": "ABC_GAN_4 Metrics",
       "version": 1
      }
     },
     "metadata": {
      "scrapbook": {
       "data": true,
       "display": false,
       "name": "ABC_GAN_4 Metrics"
      }
     },
     "output_type": "display_data"
    },
    {
     "name": "stdout",
     "output_type": "stream",
     "text": [
      "MAE\n",
      "0.6740264761250182\n"
     ]
    }
   ],
   "source": [
    "ABC_GAN4_metrics=ABC_train_test2.test_generator(gen4,test_data,prior_model,variance,bias,\"3\",device)\n",
    "sb.glue(\"ABC_GAN_4 Metrics\",ABC_GAN4_metrics)\n",
    "\n",
    "print(\"MAE\")\n",
    "print(mean(ABC_GAN4_metrics[1]))"
   ]
  },
  {
   "cell_type": "code",
   "execution_count": 26,
   "id": "c0efaf25",
   "metadata": {
    "execution": {
     "iopub.execute_input": "2022-07-22T09:01:38.486585Z",
     "iopub.status.busy": "2022-07-22T09:01:38.485661Z",
     "iopub.status.idle": "2022-07-22T09:01:41.378121Z",
     "shell.execute_reply": "2022-07-22T09:01:41.377024Z"
    },
    "id": "c8e46b48",
    "papermill": {
     "duration": 2.951248,
     "end_time": "2022-07-22T09:01:41.382119",
     "exception": false,
     "start_time": "2022-07-22T09:01:38.430871",
     "status": "completed"
    },
    "tags": []
   },
   "outputs": [
    {
     "data": {
      "image/png": "[encoded data removed]",
      "text/plain": [
       "<Figure size 432x288 with 1 Axes>"
      ]
     },
     "metadata": {
      "needs_background": "light"
     },
     "output_type": "display_data"
    },
    {
     "data": {
      "image/png": "[encoded data removed]",
      "text/plain": [
       "<Figure size 432x288 with 1 Axes>"
      ]
     },
     "metadata": {
      "needs_background": "light"
     },
     "output_type": "display_data"
    },
    {
     "data": {
      "image/png": "[encoded data removed]",
      "text/plain": [
       "<Figure size 432x288 with 1 Axes>"
      ]
     },
     "metadata": {
      "needs_background": "light"
     },
     "output_type": "display_data"
    },
    {
     "data": {
      "image/png": "[encoded data removed]",
      "text/plain": [
       "<Figure size 432x288 with 1 Axes>"
      ]
     },
     "metadata": {
      "needs_background": "light"
     },
     "output_type": "display_data"
    }
   ],
   "source": [
    "sanityChecks.discProbVsError(train_data,disc4,device)\n",
    "sanityChecks.discProbVsError(test_data,disc4,device)"
   ]
  },
  {
   "cell_type": "markdown",
   "id": "a5bd74c3",
   "metadata": {
    "id": "a5bd74c3",
    "papermill": {
     "duration": 0.025058,
     "end_time": "2022-07-22T09:01:41.433552",
     "exception": false,
     "start_time": "2022-07-22T09:01:41.408494",
     "status": "completed"
    },
    "tags": []
   },
   "source": [
    "## Skip Connection Model Analysis - ABC-GAN "
   ]
  },
  {
   "cell_type": "markdown",
   "id": "5744a8bf",
   "metadata": {
    "id": "5744a8bf",
    "papermill": {
     "duration": 0.028034,
     "end_time": "2022-07-22T09:01:41.489084",
     "exception": false,
     "start_time": "2022-07-22T09:01:41.461050",
     "status": "completed"
    },
    "tags": []
   },
   "source": [
    "### Weight Analysis \n",
    "\n",
    "Study the weights of the skip connection layer\n",
    "\n",
    "Equation of the skip connection is \n",
    "\n",
    "$output = y_{gan} * w + y_{abc} * (1-w)$"
   ]
  },
  {
   "cell_type": "code",
   "execution_count": 27,
   "id": "52c31dea",
   "metadata": {
    "execution": {
     "iopub.execute_input": "2022-07-22T09:01:41.561066Z",
     "iopub.status.busy": "2022-07-22T09:01:41.560680Z",
     "iopub.status.idle": "2022-07-22T09:01:41.565003Z",
     "shell.execute_reply": "2022-07-22T09:01:41.563903Z"
    },
    "id": "52c31dea",
    "papermill": {
     "duration": 0.044036,
     "end_time": "2022-07-22T09:01:41.569120",
     "exception": false,
     "start_time": "2022-07-22T09:01:41.525084",
     "status": "completed"
    },
    "tags": []
   },
   "outputs": [],
   "source": [
    "# print(\"Weight of the node at skip connection\")\n",
    "# for name,param in gen3.named_parameters():\n",
    "#     if(name == \"skipNode.weight\"):\n",
    "#         print(param)\n",
    "#         sb.glue(\"Skip Connection Weight\",param.item())"
   ]
  },
  {
   "cell_type": "markdown",
   "id": "d52b95dd",
   "metadata": {
    "id": "a5bd74c3",
    "papermill": {
     "duration": 0.166371,
     "end_time": "2022-07-22T09:01:41.800820",
     "exception": false,
     "start_time": "2022-07-22T09:01:41.634449",
     "status": "completed"
    },
    "tags": []
   },
   "source": [
    "## skipGAN Model Analysis (TabNet Generator) "
   ]
  },
  {
   "cell_type": "markdown",
   "id": "b9962847",
   "metadata": {
    "id": "5744a8bf",
    "papermill": {
     "duration": 0.053441,
     "end_time": "2022-07-22T09:01:41.905084",
     "exception": false,
     "start_time": "2022-07-22T09:01:41.851643",
     "status": "completed"
    },
    "tags": []
   },
   "source": [
    "### Weight Analysis \n",
    "\n",
    "Study the weights of the skip connection layer\n",
    "\n",
    "Equation of the skip connection is \n",
    "\n",
    "$output = y_{gan} * w + y_{abc} * (1-w)$"
   ]
  },
  {
   "cell_type": "code",
   "execution_count": 28,
   "id": "2ef44f45",
   "metadata": {
    "execution": {
     "iopub.execute_input": "2022-07-22T09:01:42.009757Z",
     "iopub.status.busy": "2022-07-22T09:01:42.007337Z",
     "iopub.status.idle": "2022-07-22T09:01:42.025062Z",
     "shell.execute_reply": "2022-07-22T09:01:42.023792Z"
    },
    "id": "52c31dea",
    "papermill": {
     "duration": 0.082977,
     "end_time": "2022-07-22T09:01:42.037501",
     "exception": false,
     "start_time": "2022-07-22T09:01:41.954524",
     "status": "completed"
    },
    "tags": []
   },
   "outputs": [
    {
     "name": "stdout",
     "output_type": "stream",
     "text": [
      "Weight of the node at skip connection\n",
      "Parameter containing:\n",
      "tensor([[0.]], requires_grad=True)\n"
     ]
    },
    {
     "data": {
      "application/scrapbook.scrap.json+json": {
       "data": 0.0,
       "encoder": "json",
       "name": "Skip Connection Weight",
       "version": 1
      }
     },
     "metadata": {
      "scrapbook": {
       "data": true,
       "display": false,
       "name": "Skip Connection Weight"
      }
     },
     "output_type": "display_data"
    }
   ],
   "source": [
    "print(\"Weight of the node at skip connection\")\n",
    "for name,param in gen4.named_parameters():\n",
    "    if(name == \"skipNode.weight\"):\n",
    "        print(param)\n",
    "        sb.glue(\"Skip Connection Weight\",param.item())"
   ]
  }
 ],
 "metadata": {
  "colab": {
   "collapsed_sections": [],
   "name": "ABC_GAN_Model-Catboost_Pre-gen.ipynb",
   "provenance": []
  },
  "interpreter": {
   "hash": "31f2aee4e71d21fbe5cf8b01ff0e069b9275f58929596ceb00d14d90e3e16cd6"
  },
  "kernelspec": {
   "display_name": "Python 3 (ipykernel)",
   "language": "python",
   "name": "python3"
  },
  "language_info": {
   "codemirror_mode": {
    "name": "ipython",
    "version": 3
   },
   "file_extension": ".py",
   "mimetype": "text/x-python",
   "name": "python",
   "nbconvert_exporter": "python",
   "pygments_lexer": "ipython3",
   "version": "3.8.13"
  },
  "papermill": {
   "default_parameters": {},
   "duration": 507.262248,
   "end_time": "2022-07-22T09:01:44.495719",
   "environment_variables": {},
   "exception": null,
   "input_path": "ABC_GAN-TabNet.ipynb",
   "output_path": "./ABC_GAN_TabNet/ABC-GAN_output_1_7.ipynb",
   "parameters": {
    "bias": 0.01,
    "variance": 0.1
   },
   "start_time": "2022-07-22T08:53:17.233471",
   "version": "2.3.3"
  }
 },
 "nbformat": 4,
 "nbformat_minor": 5
}