{
 "cells": [
  {
   "cell_type": "markdown",
   "id": "622780e6",
   "metadata": {
    "id": "622780e6",
    "papermill": {
     "duration": 0.010039,
     "end_time": "2022-07-22T12:12:55.162794",
     "exception": false,
     "start_time": "2022-07-22T12:12:55.152755",
     "status": "completed"
    },
    "tags": []
   },
   "source": [
    "## Import Libraries "
   ]
  },
  {
   "cell_type": "code",
   "execution_count": 1,
   "id": "a62397e3",
   "metadata": {
    "execution": {
     "iopub.execute_input": "2022-07-22T12:12:55.199263Z",
     "iopub.status.busy": "2022-07-22T12:12:55.197936Z",
     "iopub.status.idle": "2022-07-22T12:12:55.217336Z",
     "shell.execute_reply": "2022-07-22T12:12:55.214574Z"
    },
    "id": "a62397e3",
    "papermill": {
     "duration": 0.049056,
     "end_time": "2022-07-22T12:12:55.230492",
     "exception": false,
     "start_time": "2022-07-22T12:12:55.181436",
     "status": "completed"
    },
    "tags": []
   },
   "outputs": [],
   "source": [
    "import warnings\n",
    "import sys\n",
    "sys.path.insert(0, '../../src')\n",
    "warnings.filterwarnings('ignore')"
   ]
  },
  {
   "cell_type": "code",
   "execution_count": 2,
   "id": "d6a4e155",
   "metadata": {
    "execution": {
     "iopub.execute_input": "2022-07-22T12:12:55.272134Z",
     "iopub.status.busy": "2022-07-22T12:12:55.271801Z",
     "iopub.status.idle": "2022-07-22T12:13:03.015398Z",
     "shell.execute_reply": "2022-07-22T12:13:03.014349Z"
    },
    "id": "d6a4e155",
    "papermill": {
     "duration": 7.783717,
     "end_time": "2022-07-22T12:13:03.021734",
     "exception": false,
     "start_time": "2022-07-22T12:12:55.238017",
     "status": "completed"
    },
    "tags": []
   },
   "outputs": [],
   "source": [
    "import ABC_train_test2\n",
    "import friedman3Dataset\n",
    "import network\n",
    "import dataset\n",
    "import sanityChecks\n",
    "import torch \n",
    "import scrapbook as sb\n",
    "from statistics import mean \n",
    "import catboost as ctb \n",
    "from sklearn.model_selection import train_test_split\n",
    "from sklearn.metrics import mean_squared_error,mean_absolute_error\n",
    "import numpy as np\n",
    "from pytorch_tabnet.tab_model import TabNetRegressor"
   ]
  },
  {
   "cell_type": "markdown",
   "id": "2fa5b0f7",
   "metadata": {
    "id": "2fa5b0f7",
    "papermill": {
     "duration": 0.010646,
     "end_time": "2022-07-22T12:13:03.048426",
     "exception": false,
     "start_time": "2022-07-22T12:13:03.037780",
     "status": "completed"
    },
    "tags": []
   },
   "source": [
    "## Parameters "
   ]
  },
  {
   "cell_type": "code",
   "execution_count": 3,
   "id": "783186fb",
   "metadata": {
    "execution": {
     "iopub.execute_input": "2022-07-22T12:13:03.081637Z",
     "iopub.status.busy": "2022-07-22T12:13:03.081064Z",
     "iopub.status.idle": "2022-07-22T12:13:03.093760Z",
     "shell.execute_reply": "2022-07-22T12:13:03.085393Z"
    },
    "id": "783186fb",
    "papermill": {
     "duration": 0.03574,
     "end_time": "2022-07-22T12:13:03.096574",
     "exception": false,
     "start_time": "2022-07-22T12:13:03.060834",
     "status": "completed"
    },
    "tags": [
     "parameters"
    ]
   },
   "outputs": [],
   "source": [
    "variance = 1\n",
    "bias = 1 "
   ]
  },
  {
   "cell_type": "code",
   "execution_count": 4,
   "id": "e3b296b3",
   "metadata": {
    "execution": {
     "iopub.execute_input": "2022-07-22T12:13:03.129714Z",
     "iopub.status.busy": "2022-07-22T12:13:03.127696Z",
     "iopub.status.idle": "2022-07-22T12:13:03.148746Z",
     "shell.execute_reply": "2022-07-22T12:13:03.145459Z"
    },
    "papermill": {
     "duration": 0.049784,
     "end_time": "2022-07-22T12:13:03.156793",
     "exception": false,
     "start_time": "2022-07-22T12:13:03.107009",
     "status": "completed"
    },
    "tags": [
     "injected-parameters"
    ]
   },
   "outputs": [],
   "source": [
    "# Parameters\n",
    "variance = 0.1\n",
    "bias = 0.01\n"
   ]
  },
  {
   "cell_type": "markdown",
   "id": "391cdbfd",
   "metadata": {
    "id": "391cdbfd",
    "papermill": {
     "duration": 0.008481,
     "end_time": "2022-07-22T12:13:03.172952",
     "exception": false,
     "start_time": "2022-07-22T12:13:03.164471",
     "status": "completed"
    },
    "tags": []
   },
   "source": [
    "## Dataset \n"
   ]
  },
  {
   "cell_type": "code",
   "execution_count": 5,
   "id": "5b51f161",
   "metadata": {
    "execution": {
     "iopub.execute_input": "2022-07-22T12:13:03.196688Z",
     "iopub.status.busy": "2022-07-22T12:13:03.196014Z",
     "iopub.status.idle": "2022-07-22T12:13:03.204838Z",
     "shell.execute_reply": "2022-07-22T12:13:03.202182Z"
    },
    "id": "5b51f161",
    "papermill": {
     "duration": 0.035939,
     "end_time": "2022-07-22T12:13:03.217829",
     "exception": false,
     "start_time": "2022-07-22T12:13:03.181890",
     "status": "completed"
    },
    "tags": []
   },
   "outputs": [],
   "source": [
    "#Parameters \n",
    "n_features = 4\n",
    "n_samples= 100\n",
    "n_target = 1"
   ]
  },
  {
   "cell_type": "code",
   "execution_count": 6,
   "id": "5d6eced4",
   "metadata": {
    "execution": {
     "iopub.execute_input": "2022-07-22T12:13:03.255659Z",
     "iopub.status.busy": "2022-07-22T12:13:03.254423Z",
     "iopub.status.idle": "2022-07-22T12:13:03.287982Z",
     "shell.execute_reply": "2022-07-22T12:13:03.286237Z"
    },
    "id": "5d6eced4",
    "papermill": {
     "duration": 0.06763,
     "end_time": "2022-07-22T12:13:03.303206",
     "exception": false,
     "start_time": "2022-07-22T12:13:03.235576",
     "status": "completed"
    },
    "tags": []
   },
   "outputs": [
    {
     "name": "stdout",
     "output_type": "stream",
     "text": [
      "          X1           X2        X3        X4         Y\n",
      "0  25.366320  1324.094663  0.802607  8.553250  1.732809\n",
      "1  43.648924  1736.745257  0.491979  4.796834  1.369708\n",
      "2  15.568623  1503.402809  0.795712  6.813678  1.547377\n",
      "3  66.107435   469.931798  0.601673  5.556450  1.368779\n",
      "4  21.724152   704.457682  0.271708  6.653917  1.465895\n"
     ]
    }
   ],
   "source": [
    "X,Y = friedman3Dataset.friedman3_data(n_samples)"
   ]
  },
  {
   "cell_type": "code",
   "execution_count": 7,
   "id": "fe007438",
   "metadata": {
    "execution": {
     "iopub.execute_input": "2022-07-22T12:13:03.327273Z",
     "iopub.status.busy": "2022-07-22T12:13:03.326577Z",
     "iopub.status.idle": "2022-07-22T12:13:03.347269Z",
     "shell.execute_reply": "2022-07-22T12:13:03.344223Z"
    },
    "id": "fe007438",
    "papermill": {
     "duration": 0.037933,
     "end_time": "2022-07-22T12:13:03.353522",
     "exception": false,
     "start_time": "2022-07-22T12:13:03.315589",
     "status": "completed"
    },
    "tags": []
   },
   "outputs": [],
   "source": [
    "#Train test split for dataset \n",
    "X_train,X_test,Y_train,Y_test = train_test_split(X,Y,test_size = 0.2)\n",
    "train_data = dataset.CustomDataset(X_train,Y_train)\n",
    "test_data = dataset.CustomDataset(X_test,Y_test)\n"
   ]
  },
  {
   "cell_type": "markdown",
   "id": "a9a1af34",
   "metadata": {
    "id": "a9a1af34",
    "papermill": {
     "duration": 0.010014,
     "end_time": "2022-07-22T12:13:03.386723",
     "exception": false,
     "start_time": "2022-07-22T12:13:03.376709",
     "status": "completed"
    },
    "tags": []
   },
   "source": [
    "## Training Parameters "
   ]
  },
  {
   "cell_type": "code",
   "execution_count": 8,
   "id": "952b7fc8",
   "metadata": {
    "execution": {
     "iopub.execute_input": "2022-07-22T12:13:03.423393Z",
     "iopub.status.busy": "2022-07-22T12:13:03.422774Z",
     "iopub.status.idle": "2022-07-22T12:13:03.436254Z",
     "shell.execute_reply": "2022-07-22T12:13:03.429300Z"
    },
    "id": "952b7fc8",
    "papermill": {
     "duration": 0.051628,
     "end_time": "2022-07-22T12:13:03.451568",
     "exception": false,
     "start_time": "2022-07-22T12:13:03.399940",
     "status": "completed"
    },
    "tags": []
   },
   "outputs": [],
   "source": [
    "batch_size = 32\n",
    "n_epochs = 1000\n",
    "#Select the device \n",
    "device = torch.device('cuda' if torch.cuda.is_available() else 'cpu')"
   ]
  },
  {
   "cell_type": "markdown",
   "id": "a95e1600",
   "metadata": {
    "id": "a95e1600",
    "papermill": {
     "duration": 0.008573,
     "end_time": "2022-07-22T12:13:03.468497",
     "exception": false,
     "start_time": "2022-07-22T12:13:03.459924",
     "status": "completed"
    },
    "tags": []
   },
   "source": [
    "# ABC Pre-generator Model \n",
    "\n",
    "1. The catboost model is used as a pre-generator model for the ABC-GAN. \n",
    "2. The model is first trained on the entire dataset \n",
    "3. It generats X,Y pairs and we add some Gaussian noise with mean 0 and variance 1 to it which is then feed as input to the generator.\n"
   ]
  },
  {
   "cell_type": "code",
   "execution_count": 9,
   "id": "ac011ebf",
   "metadata": {
    "execution": {
     "iopub.execute_input": "2022-07-22T12:13:03.499065Z",
     "iopub.status.busy": "2022-07-22T12:13:03.498042Z",
     "iopub.status.idle": "2022-07-22T12:13:23.894706Z",
     "shell.execute_reply": "2022-07-22T12:13:23.893721Z"
    },
    "papermill": {
     "duration": 20.420957,
     "end_time": "2022-07-22T12:13:23.897457",
     "exception": false,
     "start_time": "2022-07-22T12:13:03.476500",
     "status": "completed"
    },
    "tags": []
   },
   "outputs": [
    {
     "name": "stdout",
     "output_type": "stream",
     "text": [
      "Device used : cpu\n"
     ]
    },
    {
     "name": "stdout",
     "output_type": "stream",
     "text": [
      "epoch 0  | loss: 1.26175 | train_mse: 5.3579  | train_mae: 1.69744 |  0:00:00s\n",
      "epoch 1  | loss: 1.205   | train_mse: 3.75107 | train_mae: 1.47299 |  0:00:00s\n",
      "epoch 2  | loss: 0.99748 | train_mse: 3.22609 | train_mae: 1.39793 |  0:00:00s\n"
     ]
    },
    {
     "name": "stdout",
     "output_type": "stream",
     "text": [
      "epoch 3  | loss: 1.23465 | train_mse: 2.88119 | train_mae: 1.31533 |  0:00:00s\n",
      "epoch 4  | loss: 0.96467 | train_mse: 2.39524 | train_mae: 1.18605 |  0:00:00s\n"
     ]
    },
    {
     "name": "stdout",
     "output_type": "stream",
     "text": [
      "epoch 5  | loss: 0.86873 | train_mse: 1.97056 | train_mae: 1.06852 |  0:00:00s\n",
      "epoch 6  | loss: 0.88824 | train_mse: 1.75649 | train_mae: 1.00155 |  0:00:00s\n",
      "epoch 7  | loss: 0.93502 | train_mse: 1.58332 | train_mae: 0.96503 |  0:00:00s\n"
     ]
    },
    {
     "name": "stdout",
     "output_type": "stream",
     "text": [
      "epoch 8  | loss: 0.76875 | train_mse: 1.42481 | train_mae: 0.92008 |  0:00:01s\n",
      "epoch 9  | loss: 0.85961 | train_mse: 1.37706 | train_mae: 0.90841 |  0:00:01s\n",
      "epoch 10 | loss: 0.87756 | train_mse: 1.16335 | train_mae: 0.8381  |  0:00:01s\n"
     ]
    },
    {
     "name": "stdout",
     "output_type": "stream",
     "text": [
      "epoch 11 | loss: 0.77623 | train_mse: 1.03799 | train_mae: 0.79427 |  0:00:01s\n",
      "epoch 12 | loss: 0.73744 | train_mse: 0.9501  | train_mae: 0.75254 |  0:00:01s\n",
      "epoch 13 | loss: 0.65556 | train_mse: 0.88186 | train_mae: 0.7312  |  0:00:01s\n"
     ]
    },
    {
     "name": "stdout",
     "output_type": "stream",
     "text": [
      "epoch 14 | loss: 0.60537 | train_mse: 0.81253 | train_mae: 0.69714 |  0:00:01s\n",
      "epoch 15 | loss: 0.7202  | train_mse: 0.75692 | train_mae: 0.6659  |  0:00:01s\n",
      "epoch 16 | loss: 0.64866 | train_mse: 0.70388 | train_mae: 0.64469 |  0:00:01s\n"
     ]
    },
    {
     "name": "stdout",
     "output_type": "stream",
     "text": [
      "epoch 17 | loss: 0.74213 | train_mse: 0.65235 | train_mae: 0.61725 |  0:00:01s\n",
      "epoch 18 | loss: 0.67089 | train_mse: 0.62311 | train_mae: 0.60141 |  0:00:01s\n",
      "epoch 19 | loss: 0.61194 | train_mse: 0.58474 | train_mae: 0.57525 |  0:00:02s\n"
     ]
    },
    {
     "name": "stdout",
     "output_type": "stream",
     "text": [
      "epoch 20 | loss: 0.57457 | train_mse: 0.56094 | train_mae: 0.56178 |  0:00:02s\n",
      "epoch 21 | loss: 0.45477 | train_mse: 0.54974 | train_mae: 0.5524  |  0:00:02s\n",
      "epoch 22 | loss: 0.44571 | train_mse: 0.52358 | train_mae: 0.5359  |  0:00:02s\n"
     ]
    },
    {
     "name": "stdout",
     "output_type": "stream",
     "text": [
      "epoch 23 | loss: 0.57861 | train_mse: 0.50543 | train_mae: 0.52727 |  0:00:02s\n",
      "epoch 24 | loss: 0.42336 | train_mse: 0.49279 | train_mae: 0.52289 |  0:00:02s\n",
      "epoch 25 | loss: 0.37117 | train_mse: 0.4888  | train_mae: 0.52315 |  0:00:02s\n"
     ]
    },
    {
     "name": "stdout",
     "output_type": "stream",
     "text": [
      "epoch 26 | loss: 0.50533 | train_mse: 0.47896 | train_mae: 0.52359 |  0:00:02s\n",
      "epoch 27 | loss: 0.41176 | train_mse: 0.46315 | train_mae: 0.52078 |  0:00:02s\n"
     ]
    },
    {
     "name": "stdout",
     "output_type": "stream",
     "text": [
      "epoch 28 | loss: 0.46204 | train_mse: 0.44964 | train_mae: 0.51588 |  0:00:02s\n",
      "epoch 29 | loss: 0.47159 | train_mse: 0.42949 | train_mae: 0.5078  |  0:00:02s\n",
      "epoch 30 | loss: 0.50143 | train_mse: 0.42812 | train_mae: 0.5062  |  0:00:03s\n"
     ]
    },
    {
     "name": "stdout",
     "output_type": "stream",
     "text": [
      "epoch 31 | loss: 0.45425 | train_mse: 0.41858 | train_mae: 0.50068 |  0:00:03s\n",
      "epoch 32 | loss: 0.39013 | train_mse: 0.40884 | train_mae: 0.49808 |  0:00:03s\n",
      "epoch 33 | loss: 0.36848 | train_mse: 0.39478 | train_mae: 0.49443 |  0:00:03s\n"
     ]
    },
    {
     "name": "stdout",
     "output_type": "stream",
     "text": [
      "epoch 34 | loss: 0.66542 | train_mse: 0.38621 | train_mae: 0.49238 |  0:00:03s\n",
      "epoch 35 | loss: 0.46713 | train_mse: 0.37847 | train_mae: 0.48867 |  0:00:03s\n",
      "epoch 36 | loss: 0.42493 | train_mse: 0.36417 | train_mae: 0.48074 |  0:00:03s\n"
     ]
    },
    {
     "name": "stdout",
     "output_type": "stream",
     "text": [
      "epoch 37 | loss: 0.38336 | train_mse: 0.35083 | train_mae: 0.47357 |  0:00:03s\n",
      "epoch 38 | loss: 0.37856 | train_mse: 0.34069 | train_mae: 0.46594 |  0:00:03s\n"
     ]
    },
    {
     "name": "stdout",
     "output_type": "stream",
     "text": [
      "epoch 39 | loss: 0.64542 | train_mse: 0.33444 | train_mae: 0.46086 |  0:00:03s\n",
      "epoch 40 | loss: 0.53886 | train_mse: 0.33003 | train_mae: 0.45715 |  0:00:03s\n",
      "epoch 41 | loss: 0.48423 | train_mse: 0.33051 | train_mae: 0.45753 |  0:00:04s\n",
      "epoch 42 | loss: 0.41015 | train_mse: 0.32187 | train_mae: 0.45199 |  0:00:04s\n"
     ]
    },
    {
     "name": "stdout",
     "output_type": "stream",
     "text": [
      "epoch 43 | loss: 0.30999 | train_mse: 0.31964 | train_mae: 0.45004 |  0:00:04s\n",
      "epoch 44 | loss: 0.37205 | train_mse: 0.31794 | train_mae: 0.44684 |  0:00:04s\n",
      "epoch 45 | loss: 0.36626 | train_mse: 0.30773 | train_mae: 0.43643 |  0:00:04s\n"
     ]
    },
    {
     "name": "stdout",
     "output_type": "stream",
     "text": [
      "epoch 46 | loss: 0.46899 | train_mse: 0.30216 | train_mae: 0.43433 |  0:00:04s\n",
      "epoch 47 | loss: 0.43678 | train_mse: 0.29047 | train_mae: 0.42885 |  0:00:04s\n",
      "epoch 48 | loss: 0.37863 | train_mse: 0.27966 | train_mae: 0.42251 |  0:00:04s\n"
     ]
    },
    {
     "name": "stdout",
     "output_type": "stream",
     "text": [
      "epoch 49 | loss: 0.30412 | train_mse: 0.28296 | train_mae: 0.42396 |  0:00:04s\n",
      "epoch 50 | loss: 0.32843 | train_mse: 0.27781 | train_mae: 0.4196  |  0:00:04s\n"
     ]
    },
    {
     "name": "stdout",
     "output_type": "stream",
     "text": [
      "epoch 51 | loss: 0.44616 | train_mse: 0.26758 | train_mae: 0.41294 |  0:00:05s\n",
      "epoch 52 | loss: 0.34851 | train_mse: 0.26306 | train_mae: 0.40851 |  0:00:05s\n"
     ]
    },
    {
     "name": "stdout",
     "output_type": "stream",
     "text": [
      "epoch 53 | loss: 0.34286 | train_mse: 0.25428 | train_mae: 0.40163 |  0:00:05s\n",
      "epoch 54 | loss: 0.34059 | train_mse: 0.2486  | train_mae: 0.39935 |  0:00:05s\n"
     ]
    },
    {
     "name": "stdout",
     "output_type": "stream",
     "text": [
      "epoch 55 | loss: 0.5365  | train_mse: 0.24216 | train_mae: 0.39626 |  0:00:05s\n",
      "epoch 56 | loss: 0.48947 | train_mse: 0.23407 | train_mae: 0.39091 |  0:00:05s\n"
     ]
    },
    {
     "name": "stdout",
     "output_type": "stream",
     "text": [
      "epoch 57 | loss: 0.485   | train_mse: 0.22606 | train_mae: 0.38413 |  0:00:05s\n",
      "epoch 58 | loss: 0.33796 | train_mse: 0.22204 | train_mae: 0.38165 |  0:00:05s\n"
     ]
    },
    {
     "name": "stdout",
     "output_type": "stream",
     "text": [
      "epoch 59 | loss: 0.44933 | train_mse: 0.22202 | train_mae: 0.38339 |  0:00:06s\n",
      "epoch 60 | loss: 0.31474 | train_mse: 0.22105 | train_mae: 0.38329 |  0:00:06s\n"
     ]
    },
    {
     "name": "stdout",
     "output_type": "stream",
     "text": [
      "epoch 61 | loss: 0.32481 | train_mse: 0.22101 | train_mae: 0.38198 |  0:00:06s\n",
      "epoch 62 | loss: 0.29105 | train_mse: 0.21732 | train_mae: 0.37935 |  0:00:06s\n"
     ]
    },
    {
     "name": "stdout",
     "output_type": "stream",
     "text": [
      "epoch 63 | loss: 0.36267 | train_mse: 0.22024 | train_mae: 0.38044 |  0:00:06s\n",
      "epoch 64 | loss: 0.25226 | train_mse: 0.21704 | train_mae: 0.37614 |  0:00:06s\n"
     ]
    },
    {
     "name": "stdout",
     "output_type": "stream",
     "text": [
      "epoch 65 | loss: 0.37153 | train_mse: 0.21434 | train_mae: 0.37214 |  0:00:06s\n",
      "epoch 66 | loss: 0.30728 | train_mse: 0.20763 | train_mae: 0.36791 |  0:00:07s\n"
     ]
    },
    {
     "name": "stdout",
     "output_type": "stream",
     "text": [
      "epoch 67 | loss: 0.24561 | train_mse: 0.20597 | train_mae: 0.36396 |  0:00:07s\n",
      "epoch 68 | loss: 0.22677 | train_mse: 0.20193 | train_mae: 0.35826 |  0:00:07s\n"
     ]
    },
    {
     "name": "stdout",
     "output_type": "stream",
     "text": [
      "epoch 69 | loss: 0.25333 | train_mse: 0.18939 | train_mae: 0.34863 |  0:00:07s\n",
      "epoch 70 | loss: 0.34212 | train_mse: 0.17964 | train_mae: 0.34042 |  0:00:07s\n"
     ]
    },
    {
     "name": "stdout",
     "output_type": "stream",
     "text": [
      "epoch 71 | loss: 0.37319 | train_mse: 0.17674 | train_mae: 0.33446 |  0:00:07s\n"
     ]
    },
    {
     "name": "stdout",
     "output_type": "stream",
     "text": [
      "epoch 72 | loss: 0.3207  | train_mse: 0.17506 | train_mae: 0.33757 |  0:00:07s\n",
      "epoch 73 | loss: 0.29274 | train_mse: 0.17808 | train_mae: 0.34369 |  0:00:08s\n"
     ]
    },
    {
     "name": "stdout",
     "output_type": "stream",
     "text": [
      "epoch 74 | loss: 0.37167 | train_mse: 0.18142 | train_mae: 0.34897 |  0:00:08s\n",
      "epoch 75 | loss: 0.27018 | train_mse: 0.18768 | train_mae: 0.35445 |  0:00:08s\n",
      "epoch 76 | loss: 0.44156 | train_mse: 0.19399 | train_mae: 0.35798 |  0:00:08s\n"
     ]
    },
    {
     "name": "stdout",
     "output_type": "stream",
     "text": [
      "epoch 77 | loss: 0.26404 | train_mse: 0.19142 | train_mae: 0.35614 |  0:00:08s\n",
      "epoch 78 | loss: 0.27804 | train_mse: 0.19458 | train_mae: 0.36288 |  0:00:08s\n",
      "epoch 79 | loss: 0.3362  | train_mse: 0.19454 | train_mae: 0.3651  |  0:00:08s\n"
     ]
    },
    {
     "name": "stdout",
     "output_type": "stream",
     "text": [
      "epoch 80 | loss: 0.25177 | train_mse: 0.19075 | train_mae: 0.36122 |  0:00:08s\n",
      "epoch 81 | loss: 0.43869 | train_mse: 0.18983 | train_mae: 0.35739 |  0:00:08s\n",
      "epoch 82 | loss: 0.41858 | train_mse: 0.18831 | train_mae: 0.3514  |  0:00:08s\n"
     ]
    },
    {
     "name": "stdout",
     "output_type": "stream",
     "text": [
      "epoch 83 | loss: 0.3283  | train_mse: 0.19323 | train_mae: 0.34912 |  0:00:08s\n",
      "epoch 84 | loss: 0.31311 | train_mse: 0.18767 | train_mae: 0.34666 |  0:00:09s\n",
      "epoch 85 | loss: 0.32001 | train_mse: 0.18663 | train_mae: 0.34822 |  0:00:09s\n"
     ]
    },
    {
     "name": "stdout",
     "output_type": "stream",
     "text": [
      "epoch 86 | loss: 0.38661 | train_mse: 0.18482 | train_mae: 0.3438  |  0:00:09s\n",
      "epoch 87 | loss: 0.26336 | train_mse: 0.18262 | train_mae: 0.33974 |  0:00:09s\n",
      "epoch 88 | loss: 0.42939 | train_mse: 0.17664 | train_mae: 0.3361  |  0:00:09s\n"
     ]
    },
    {
     "name": "stdout",
     "output_type": "stream",
     "text": [
      "epoch 89 | loss: 0.27421 | train_mse: 0.17159 | train_mae: 0.33127 |  0:00:09s\n",
      "epoch 90 | loss: 0.48629 | train_mse: 0.17199 | train_mae: 0.33276 |  0:00:09s\n",
      "epoch 91 | loss: 0.30975 | train_mse: 0.17113 | train_mae: 0.33203 |  0:00:09s\n"
     ]
    },
    {
     "name": "stdout",
     "output_type": "stream",
     "text": [
      "epoch 92 | loss: 0.23161 | train_mse: 0.16996 | train_mae: 0.33064 |  0:00:09s\n",
      "epoch 93 | loss: 0.30947 | train_mse: 0.16536 | train_mae: 0.32948 |  0:00:09s\n",
      "epoch 94 | loss: 0.27763 | train_mse: 0.16323 | train_mae: 0.32899 |  0:00:09s\n"
     ]
    },
    {
     "name": "stdout",
     "output_type": "stream",
     "text": [
      "epoch 95 | loss: 0.35183 | train_mse: 0.16174 | train_mae: 0.33016 |  0:00:10s\n",
      "epoch 96 | loss: 0.30739 | train_mse: 0.16283 | train_mae: 0.32943 |  0:00:10s\n",
      "epoch 97 | loss: 0.28862 | train_mse: 0.15908 | train_mae: 0.32596 |  0:00:10s\n"
     ]
    },
    {
     "name": "stdout",
     "output_type": "stream",
     "text": [
      "epoch 98 | loss: 0.22714 | train_mse: 0.15805 | train_mae: 0.32738 |  0:00:10s\n",
      "epoch 99 | loss: 0.33716 | train_mse: 0.15943 | train_mae: 0.32892 |  0:00:10s\n",
      "epoch 100| loss: 0.31445 | train_mse: 0.1607  | train_mae: 0.33092 |  0:00:10s\n"
     ]
    },
    {
     "name": "stdout",
     "output_type": "stream",
     "text": [
      "epoch 101| loss: 0.30833 | train_mse: 0.16298 | train_mae: 0.33524 |  0:00:10s\n",
      "epoch 102| loss: 0.36572 | train_mse: 0.16466 | train_mae: 0.33394 |  0:00:10s\n",
      "epoch 103| loss: 0.444   | train_mse: 0.16394 | train_mae: 0.33494 |  0:00:10s\n"
     ]
    },
    {
     "name": "stdout",
     "output_type": "stream",
     "text": [
      "epoch 104| loss: 0.23209 | train_mse: 0.16283 | train_mae: 0.33454 |  0:00:10s\n",
      "epoch 105| loss: 0.24911 | train_mse: 0.16011 | train_mae: 0.33084 |  0:00:10s\n",
      "epoch 106| loss: 0.21759 | train_mse: 0.15772 | train_mae: 0.32952 |  0:00:11s\n"
     ]
    },
    {
     "name": "stdout",
     "output_type": "stream",
     "text": [
      "epoch 107| loss: 0.24045 | train_mse: 0.15688 | train_mae: 0.32922 |  0:00:11s\n",
      "epoch 108| loss: 0.2177  | train_mse: 0.15703 | train_mae: 0.3326  |  0:00:11s\n",
      "epoch 109| loss: 0.26738 | train_mse: 0.15597 | train_mae: 0.33524 |  0:00:11s\n"
     ]
    },
    {
     "name": "stdout",
     "output_type": "stream",
     "text": [
      "epoch 110| loss: 0.29521 | train_mse: 0.15296 | train_mae: 0.33366 |  0:00:11s\n",
      "epoch 111| loss: 0.21991 | train_mse: 0.15033 | train_mae: 0.33112 |  0:00:11s\n",
      "epoch 112| loss: 0.22497 | train_mse: 0.15045 | train_mae: 0.33001 |  0:00:11s\n"
     ]
    },
    {
     "name": "stdout",
     "output_type": "stream",
     "text": [
      "epoch 113| loss: 0.2892  | train_mse: 0.15251 | train_mae: 0.32804 |  0:00:11s\n",
      "epoch 114| loss: 0.24597 | train_mse: 0.14975 | train_mae: 0.3224  |  0:00:11s\n",
      "epoch 115| loss: 0.24735 | train_mse: 0.14984 | train_mae: 0.32117 |  0:00:11s\n"
     ]
    },
    {
     "name": "stdout",
     "output_type": "stream",
     "text": [
      "epoch 116| loss: 0.22513 | train_mse: 0.14695 | train_mae: 0.31974 |  0:00:12s\n",
      "epoch 117| loss: 0.23187 | train_mse: 0.14436 | train_mae: 0.31849 |  0:00:12s\n",
      "epoch 118| loss: 0.30891 | train_mse: 0.14437 | train_mae: 0.31633 |  0:00:12s\n"
     ]
    },
    {
     "name": "stdout",
     "output_type": "stream",
     "text": [
      "epoch 119| loss: 0.32575 | train_mse: 0.14339 | train_mae: 0.31542 |  0:00:12s\n",
      "epoch 120| loss: 0.397   | train_mse: 0.1431  | train_mae: 0.31408 |  0:00:12s\n",
      "epoch 121| loss: 0.30414 | train_mse: 0.14385 | train_mae: 0.31519 |  0:00:12s\n"
     ]
    },
    {
     "name": "stdout",
     "output_type": "stream",
     "text": [
      "epoch 122| loss: 0.25144 | train_mse: 0.14355 | train_mae: 0.31538 |  0:00:12s\n",
      "epoch 123| loss: 0.2371  | train_mse: 0.14117 | train_mae: 0.31112 |  0:00:12s\n",
      "epoch 124| loss: 0.16079 | train_mse: 0.13934 | train_mae: 0.30819 |  0:00:12s\n"
     ]
    },
    {
     "name": "stdout",
     "output_type": "stream",
     "text": [
      "epoch 125| loss: 0.25217 | train_mse: 0.13892 | train_mae: 0.30935 |  0:00:12s\n",
      "epoch 126| loss: 0.29481 | train_mse: 0.13615 | train_mae: 0.30862 |  0:00:12s\n",
      "epoch 127| loss: 0.18573 | train_mse: 0.1351  | train_mae: 0.30864 |  0:00:12s\n"
     ]
    },
    {
     "name": "stdout",
     "output_type": "stream",
     "text": [
      "epoch 128| loss: 0.29022 | train_mse: 0.13589 | train_mae: 0.30907 |  0:00:13s\n",
      "epoch 129| loss: 0.2266  | train_mse: 0.13426 | train_mae: 0.30791 |  0:00:13s\n",
      "epoch 130| loss: 0.25401 | train_mse: 0.13224 | train_mae: 0.3038  |  0:00:13s\n"
     ]
    },
    {
     "name": "stdout",
     "output_type": "stream",
     "text": [
      "epoch 131| loss: 0.21535 | train_mse: 0.12879 | train_mae: 0.29847 |  0:00:13s\n",
      "epoch 132| loss: 0.18268 | train_mse: 0.12531 | train_mae: 0.29272 |  0:00:13s\n",
      "epoch 133| loss: 0.34787 | train_mse: 0.12145 | train_mae: 0.28669 |  0:00:13s\n"
     ]
    },
    {
     "name": "stdout",
     "output_type": "stream",
     "text": [
      "epoch 134| loss: 0.21475 | train_mse: 0.12215 | train_mae: 0.2886  |  0:00:13s\n",
      "epoch 135| loss: 0.35048 | train_mse: 0.12378 | train_mae: 0.28886 |  0:00:13s\n",
      "epoch 136| loss: 0.465   | train_mse: 0.1249  | train_mae: 0.29052 |  0:00:13s\n"
     ]
    },
    {
     "name": "stdout",
     "output_type": "stream",
     "text": [
      "epoch 137| loss: 0.28006 | train_mse: 0.12449 | train_mae: 0.28879 |  0:00:13s\n",
      "epoch 138| loss: 0.19679 | train_mse: 0.12562 | train_mae: 0.29019 |  0:00:13s\n",
      "epoch 139| loss: 0.20876 | train_mse: 0.12578 | train_mae: 0.29036 |  0:00:14s\n"
     ]
    },
    {
     "name": "stdout",
     "output_type": "stream",
     "text": [
      "epoch 140| loss: 0.25122 | train_mse: 0.12687 | train_mae: 0.29068 |  0:00:14s\n",
      "epoch 141| loss: 0.31034 | train_mse: 0.12721 | train_mae: 0.29158 |  0:00:14s\n",
      "epoch 142| loss: 0.27758 | train_mse: 0.1243  | train_mae: 0.28799 |  0:00:14s\n"
     ]
    },
    {
     "name": "stdout",
     "output_type": "stream",
     "text": [
      "epoch 143| loss: 0.29453 | train_mse: 0.12161 | train_mae: 0.28363 |  0:00:14s\n",
      "epoch 144| loss: 0.24374 | train_mse: 0.12117 | train_mae: 0.28311 |  0:00:14s\n",
      "epoch 145| loss: 0.25038 | train_mse: 0.12496 | train_mae: 0.28815 |  0:00:14s\n"
     ]
    },
    {
     "name": "stdout",
     "output_type": "stream",
     "text": [
      "epoch 146| loss: 0.23535 | train_mse: 0.12696 | train_mae: 0.29313 |  0:00:14s\n",
      "epoch 147| loss: 0.26945 | train_mse: 0.12978 | train_mae: 0.29678 |  0:00:14s\n",
      "epoch 148| loss: 0.27549 | train_mse: 0.13187 | train_mae: 0.29643 |  0:00:14s"
     ]
    },
    {
     "name": "stdout",
     "output_type": "stream",
     "text": [
      "\n",
      "epoch 149| loss: 0.26772 | train_mse: 0.13373 | train_mae: 0.29958 |  0:00:14s\n",
      "epoch 150| loss: 0.26608 | train_mse: 0.13507 | train_mae: 0.30031 |  0:00:14s\n"
     ]
    },
    {
     "name": "stdout",
     "output_type": "stream",
     "text": [
      "epoch 151| loss: 0.25941 | train_mse: 0.13665 | train_mae: 0.30083 |  0:00:15s\n",
      "epoch 152| loss: 0.24701 | train_mse: 0.13646 | train_mae: 0.29982 |  0:00:15s\n",
      "epoch 153| loss: 0.18985 | train_mse: 0.13666 | train_mae: 0.30049 |  0:00:15s\n"
     ]
    },
    {
     "name": "stdout",
     "output_type": "stream",
     "text": [
      "epoch 154| loss: 0.34979 | train_mse: 0.1363  | train_mae: 0.30094 |  0:00:15s\n",
      "epoch 155| loss: 0.32909 | train_mse: 0.13327 | train_mae: 0.29718 |  0:00:15s\n",
      "epoch 156| loss: 0.1975  | train_mse: 0.12861 | train_mae: 0.29225 |  0:00:15s\n"
     ]
    },
    {
     "name": "stdout",
     "output_type": "stream",
     "text": [
      "epoch 157| loss: 0.22908 | train_mse: 0.12247 | train_mae: 0.28663 |  0:00:15s\n",
      "epoch 158| loss: 0.23293 | train_mse: 0.1144  | train_mae: 0.2764  |  0:00:15s\n",
      "epoch 159| loss: 0.26662 | train_mse: 0.11145 | train_mae: 0.27341 |  0:00:15s\n"
     ]
    },
    {
     "name": "stdout",
     "output_type": "stream",
     "text": [
      "epoch 160| loss: 0.34424 | train_mse: 0.11388 | train_mae: 0.28065 |  0:00:15s\n",
      "epoch 161| loss: 0.22344 | train_mse: 0.12049 | train_mae: 0.28967 |  0:00:15s\n",
      "epoch 162| loss: 0.19337 | train_mse: 0.12569 | train_mae: 0.29464 |  0:00:16s\n"
     ]
    },
    {
     "name": "stdout",
     "output_type": "stream",
     "text": [
      "epoch 163| loss: 0.31987 | train_mse: 0.12935 | train_mae: 0.29731 |  0:00:16s\n",
      "epoch 164| loss: 0.16257 | train_mse: 0.12985 | train_mae: 0.29772 |  0:00:16s\n",
      "epoch 165| loss: 0.21082 | train_mse: 0.12857 | train_mae: 0.29741 |  0:00:16s\n"
     ]
    },
    {
     "name": "stdout",
     "output_type": "stream",
     "text": [
      "epoch 166| loss: 0.27329 | train_mse: 0.12433 | train_mae: 0.29248 |  0:00:16s\n",
      "epoch 167| loss: 0.32767 | train_mse: 0.12439 | train_mae: 0.29656 |  0:00:16s\n",
      "epoch 168| loss: 0.21082 | train_mse: 0.12151 | train_mae: 0.29439 |  0:00:16s\n"
     ]
    },
    {
     "name": "stdout",
     "output_type": "stream",
     "text": [
      "epoch 169| loss: 0.23818 | train_mse: 0.12228 | train_mae: 0.29774 |  0:00:16s\n",
      "epoch 170| loss: 0.20843 | train_mse: 0.11983 | train_mae: 0.29668 |  0:00:16s\n",
      "epoch 171| loss: 0.17618 | train_mse: 0.11619 | train_mae: 0.29333 |  0:00:16s\n"
     ]
    },
    {
     "name": "stdout",
     "output_type": "stream",
     "text": [
      "epoch 172| loss: 0.44437 | train_mse: 0.11905 | train_mae: 0.29611 |  0:00:16s\n",
      "epoch 173| loss: 0.28388 | train_mse: 0.11731 | train_mae: 0.291   |  0:00:16s\n"
     ]
    },
    {
     "name": "stdout",
     "output_type": "stream",
     "text": [
      "epoch 174| loss: 0.25748 | train_mse: 0.12053 | train_mae: 0.28993 |  0:00:17s\n",
      "epoch 175| loss: 0.16827 | train_mse: 0.12041 | train_mae: 0.28897 |  0:00:17s\n",
      "epoch 176| loss: 0.25686 | train_mse: 0.11877 | train_mae: 0.28459 |  0:00:17s\n"
     ]
    },
    {
     "name": "stdout",
     "output_type": "stream",
     "text": [
      "epoch 177| loss: 0.22849 | train_mse: 0.11714 | train_mae: 0.28086 |  0:00:17s\n",
      "epoch 178| loss: 0.21769 | train_mse: 0.11745 | train_mae: 0.27771 |  0:00:17s\n"
     ]
    },
    {
     "name": "stdout",
     "output_type": "stream",
     "text": [
      "epoch 179| loss: 0.2527  | train_mse: 0.11855 | train_mae: 0.27683 |  0:00:17s\n",
      "epoch 180| loss: 0.21539 | train_mse: 0.12061 | train_mae: 0.27769 |  0:00:17s\n",
      "epoch 181| loss: 0.23286 | train_mse: 0.12211 | train_mae: 0.2783  |  0:00:17s\n"
     ]
    },
    {
     "name": "stdout",
     "output_type": "stream",
     "text": [
      "epoch 182| loss: 0.26598 | train_mse: 0.12034 | train_mae: 0.27594 |  0:00:18s\n",
      "epoch 183| loss: 0.31519 | train_mse: 0.11883 | train_mae: 0.27587 |  0:00:18s\n",
      "epoch 184| loss: 0.27406 | train_mse: 0.12071 | train_mae: 0.27735 |  0:00:18s\n"
     ]
    },
    {
     "name": "stdout",
     "output_type": "stream",
     "text": [
      "epoch 185| loss: 0.3426  | train_mse: 0.12255 | train_mae: 0.27969 |  0:00:18s\n",
      "epoch 186| loss: 0.2104  | train_mse: 0.1231  | train_mae: 0.28181 |  0:00:18s\n",
      "epoch 187| loss: 0.27598 | train_mse: 0.12489 | train_mae: 0.28747 |  0:00:18s\n"
     ]
    },
    {
     "name": "stdout",
     "output_type": "stream",
     "text": [
      "epoch 188| loss: 0.19581 | train_mse: 0.1268  | train_mae: 0.29087 |  0:00:18s\n",
      "epoch 189| loss: 0.18532 | train_mse: 0.12589 | train_mae: 0.28912 |  0:00:18s\n",
      "epoch 190| loss: 0.32331 | train_mse: 0.12289 | train_mae: 0.28524 |  0:00:18s\n"
     ]
    },
    {
     "name": "stdout",
     "output_type": "stream",
     "text": [
      "epoch 191| loss: 0.27143 | train_mse: 0.12198 | train_mae: 0.2849  |  0:00:18s\n",
      "epoch 192| loss: 0.19513 | train_mse: 0.12066 | train_mae: 0.28243 |  0:00:18s\n",
      "epoch 193| loss: 0.20958 | train_mse: 0.12047 | train_mae: 0.28069 |  0:00:18s\n"
     ]
    },
    {
     "name": "stdout",
     "output_type": "stream",
     "text": [
      "epoch 194| loss: 0.31379 | train_mse: 0.12082 | train_mae: 0.27937 |  0:00:19s\n",
      "epoch 195| loss: 0.26173 | train_mse: 0.11987 | train_mae: 0.27661 |  0:00:19s\n",
      "epoch 196| loss: 0.19322 | train_mse: 0.11981 | train_mae: 0.27696 |  0:00:19s\n"
     ]
    },
    {
     "name": "stdout",
     "output_type": "stream",
     "text": [
      "epoch 197| loss: 0.18743 | train_mse: 0.12048 | train_mae: 0.2748  |  0:00:19s\n",
      "epoch 198| loss: 0.21024 | train_mse: 0.12681 | train_mae: 0.28107 |  0:00:19s\n",
      "epoch 199| loss: 0.19753 | train_mse: 0.12695 | train_mae: 0.27975 |  0:00:19s\n"
     ]
    },
    {
     "name": "stdout",
     "output_type": "stream",
     "text": [
      "epoch 200| loss: 0.2432  | train_mse: 0.12556 | train_mae: 0.27844 |  0:00:19s\n",
      "epoch 201| loss: 0.19303 | train_mse: 0.12424 | train_mae: 0.27735 |  0:00:19s\n",
      "epoch 202| loss: 0.19532 | train_mse: 0.12422 | train_mae: 0.27882 |  0:00:19s\n"
     ]
    },
    {
     "name": "stdout",
     "output_type": "stream",
     "text": [
      "epoch 203| loss: 0.44627 | train_mse: 0.12281 | train_mae: 0.28084 |  0:00:19s\n",
      "epoch 204| loss: 0.22955 | train_mse: 0.1227  | train_mae: 0.28411 |  0:00:19s\n",
      "epoch 205| loss: 0.23845 | train_mse: 0.12136 | train_mae: 0.28434 |  0:00:20s\n"
     ]
    },
    {
     "name": "stdout",
     "output_type": "stream",
     "text": [
      "epoch 206| loss: 0.28321 | train_mse: 0.11911 | train_mae: 0.28325 |  0:00:20s\n",
      "epoch 207| loss: 0.21114 | train_mse: 0.11654 | train_mae: 0.27642 |  0:00:20s\n",
      "epoch 208| loss: 0.24283 | train_mse: 0.11647 | train_mae: 0.27605 |  0:00:20s\n"
     ]
    },
    {
     "name": "stdout",
     "output_type": "stream",
     "text": [
      "epoch 209| loss: 0.21147 | train_mse: 0.11577 | train_mae: 0.27501 |  0:00:20s\n",
      "\n",
      "Early stopping occurred at epoch 209 with best_epoch = 159 and best_train_mae = 0.27341\n",
      "Best weights from best epoch are automatically used!\n"
     ]
    }
   ],
   "source": [
    "#Train the Model\n",
    "\n",
    "Y_train = np.reshape(Y_train, (-1, 1))\n",
    "Y_test = np.reshape(Y_test, (-1, 1))\n",
    "\n",
    "prior_model = TabNetRegressor(optimizer_fn=torch.optim.Adam, optimizer_params=dict(lr = 0.001),\n",
    "          #scheduler_params={\"step_size\":10, ], \"gamma\":0.9},\n",
    "          #scheduler_fn=torch.optim.lr_scheduler.StepLR\n",
    "          )  #TabNetRegressor()\n",
    "\n",
    "prior_model.fit(X_train,Y_train,eval_set=[(X_train, Y_train)],\n",
    "            eval_name=['train'], \n",
    "            eval_metric=[ 'mse', 'mae'], \n",
    "            max_epochs = n_epochs, \n",
    "            batch_size = batch_size,\n",
    "            patience=50\n",
    "            )"
   ]
  },
  {
   "cell_type": "code",
   "execution_count": 10,
   "id": "af65dcda",
   "metadata": {
    "execution": {
     "iopub.execute_input": "2022-07-22T12:13:23.927735Z",
     "iopub.status.busy": "2022-07-22T12:13:23.927379Z",
     "iopub.status.idle": "2022-07-22T12:13:23.977785Z",
     "shell.execute_reply": "2022-07-22T12:13:23.976757Z"
    },
    "id": "af65dcda",
    "papermill": {
     "duration": 0.068746,
     "end_time": "2022-07-22T12:13:23.981832",
     "exception": false,
     "start_time": "2022-07-22T12:13:23.913086",
     "status": "completed"
    },
    "tags": []
   },
   "outputs": [
    {
     "data": {
      "application/scrapbook.scrap.json+json": {
       "data": 0.8362016680114909,
       "encoder": "json",
       "name": "Prior Model MSE",
       "version": 1
      }
     },
     "metadata": {
      "scrapbook": {
       "data": true,
       "display": false,
       "name": "Prior Model MSE"
      }
     },
     "output_type": "display_data"
    },
    {
     "data": {
      "application/scrapbook.scrap.json+json": {
       "data": 0.784437071462251,
       "encoder": "json",
       "name": "ABC Pre-generator MSE",
       "version": 1
      }
     },
     "metadata": {
      "scrapbook": {
       "data": true,
       "display": false,
       "name": "ABC Pre-generator MSE"
      }
     },
     "output_type": "display_data"
    },
    {
     "data": {
      "application/scrapbook.scrap.json+json": {
       "data": 0.570209318991856,
       "encoder": "json",
       "name": "Prior Model MAE",
       "version": 1
      }
     },
     "metadata": {
      "scrapbook": {
       "data": true,
       "display": false,
       "name": "Prior Model MAE"
      }
     },
     "output_type": "display_data"
    },
    {
     "name": "stdout",
     "output_type": "stream",
     "text": [
      "Prior Model MAE 0.570209318991856\n"
     ]
    },
    {
     "data": {
      "application/scrapbook.scrap.json+json": {
       "data": 0.5560067691881521,
       "encoder": "json",
       "name": "ABC Pre-generator MAE",
       "version": 1
      }
     },
     "metadata": {
      "scrapbook": {
       "data": true,
       "display": false,
       "name": "ABC Pre-generator MAE"
      }
     },
     "output_type": "display_data"
    },
    {
     "name": "stdout",
     "output_type": "stream",
     "text": [
      "ABC Pre-generator MAE 0.5560067691881521\n"
     ]
    }
   ],
   "source": [
    "y_pred = prior_model.predict(X_test)\n",
    "y_abc = y_pred + np.random.normal(0,variance, y_pred.shape) + bias \n",
    "mse = mean_squared_error(y_pred,Y_test)\n",
    "sb.glue(\"Prior Model MSE\",mse)\n",
    "mse = mean_squared_error(y_abc,Y_test)\n",
    "sb.glue(\"ABC Pre-generator MSE\",mse)\n",
    "mae = mean_absolute_error(y_pred,Y_test)\n",
    "sb.glue(\"Prior Model MAE\",mae)\n",
    "print(\"Prior Model MAE\",mae)\n",
    "mae = mean_absolute_error(y_abc,Y_test)\n",
    "sb.glue(\"ABC Pre-generator MAE\",mae)\n",
    "print(\"ABC Pre-generator MAE\",mae)"
   ]
  },
  {
   "cell_type": "markdown",
   "id": "25609da2",
   "metadata": {
    "papermill": {
     "duration": 0.014917,
     "end_time": "2022-07-22T12:13:24.010436",
     "exception": false,
     "start_time": "2022-07-22T12:13:23.995519",
     "status": "completed"
    },
    "tags": []
   },
   "source": [
    "# mGAN Model"
   ]
  },
  {
   "cell_type": "code",
   "execution_count": 11,
   "id": "dfc3464d",
   "metadata": {
    "execution": {
     "iopub.execute_input": "2022-07-22T12:13:24.042494Z",
     "iopub.status.busy": "2022-07-22T12:13:24.042144Z",
     "iopub.status.idle": "2022-07-22T12:13:24.046657Z",
     "shell.execute_reply": "2022-07-22T12:13:24.045617Z"
    },
    "papermill": {
     "duration": 0.024121,
     "end_time": "2022-07-22T12:13:24.049869",
     "exception": false,
     "start_time": "2022-07-22T12:13:24.025748",
     "status": "completed"
    },
    "tags": []
   },
   "outputs": [],
   "source": [
    "# gen = network.Generator(n_features+1).to(device)\n",
    "# disc = network.Discriminator(n_features+1).to(device)\n",
    "\n",
    "# criterion = torch.nn.BCELoss()\n",
    "# gen_opt = torch.optim.Adam(gen.parameters(), lr=0.001, betas=(0.5, 0.999))\n",
    "# disc_opt = torch.optim.Adam(disc.parameters(), lr=0.001, betas=(0.5, 0.999))"
   ]
  },
  {
   "cell_type": "code",
   "execution_count": 12,
   "id": "b75fdd85",
   "metadata": {
    "execution": {
     "iopub.execute_input": "2022-07-22T12:13:24.082179Z",
     "iopub.status.busy": "2022-07-22T12:13:24.081500Z",
     "iopub.status.idle": "2022-07-22T12:13:24.086826Z",
     "shell.execute_reply": "2022-07-22T12:13:24.085098Z"
    },
    "papermill": {
     "duration": 0.02486,
     "end_time": "2022-07-22T12:13:24.089742",
     "exception": false,
     "start_time": "2022-07-22T12:13:24.064882",
     "status": "completed"
    },
    "tags": []
   },
   "outputs": [],
   "source": [
    "#Training the ABC_GAN \n",
    "# ABC_train_test2.training_GAN(disc,gen,disc_opt,gen_opt,train_data,batch_size,n_epochs,criterion,prior_model,variance,bias,device)"
   ]
  },
  {
   "cell_type": "code",
   "execution_count": 13,
   "id": "1fa7c368",
   "metadata": {
    "execution": {
     "iopub.execute_input": "2022-07-22T12:13:24.119513Z",
     "iopub.status.busy": "2022-07-22T12:13:24.118882Z",
     "iopub.status.idle": "2022-07-22T12:13:24.123634Z",
     "shell.execute_reply": "2022-07-22T12:13:24.122535Z"
    },
    "papermill": {
     "duration": 0.024624,
     "end_time": "2022-07-22T12:13:24.128285",
     "exception": false,
     "start_time": "2022-07-22T12:13:24.103661",
     "status": "completed"
    },
    "tags": []
   },
   "outputs": [],
   "source": [
    "# ABC_GAN1_metrics=ABC_train_test2.test_generator(gen,test_data,prior_model,variance,bias,\"1\",device)\n",
    "# sb.glue(\"ABC_GAN_1 Metrics\",ABC_GAN1_metrics)\n",
    "\n",
    "# print(\"MAE\")\n",
    "# print(mean(ABC_GAN1_metrics[1]))"
   ]
  },
  {
   "cell_type": "code",
   "execution_count": 14,
   "id": "eb22ce5c",
   "metadata": {
    "execution": {
     "iopub.execute_input": "2022-07-22T12:13:24.158595Z",
     "iopub.status.busy": "2022-07-22T12:13:24.157979Z",
     "iopub.status.idle": "2022-07-22T12:13:24.163139Z",
     "shell.execute_reply": "2022-07-22T12:13:24.162167Z"
    },
    "papermill": {
     "duration": 0.023297,
     "end_time": "2022-07-22T12:13:24.165682",
     "exception": false,
     "start_time": "2022-07-22T12:13:24.142385",
     "status": "completed"
    },
    "tags": []
   },
   "outputs": [],
   "source": [
    "# sanityChecks.discProbVsError(train_data,disc,device)\n",
    "# sanityChecks.discProbVsError(test_data,disc,device)"
   ]
  },
  {
   "cell_type": "markdown",
   "id": "2f5e3d61",
   "metadata": {
    "papermill": {
     "duration": 0.014602,
     "end_time": "2022-07-22T12:13:24.195200",
     "exception": false,
     "start_time": "2022-07-22T12:13:24.180598",
     "status": "completed"
    },
    "tags": []
   },
   "source": [
    "# mGAN Model with TabNet Generator"
   ]
  },
  {
   "cell_type": "code",
   "execution_count": 15,
   "id": "112941b0",
   "metadata": {
    "execution": {
     "iopub.execute_input": "2022-07-22T12:13:24.238882Z",
     "iopub.status.busy": "2022-07-22T12:13:24.238273Z",
     "iopub.status.idle": "2022-07-22T12:13:24.262211Z",
     "shell.execute_reply": "2022-07-22T12:13:24.260235Z"
    },
    "papermill": {
     "duration": 0.054857,
     "end_time": "2022-07-22T12:13:24.266524",
     "exception": false,
     "start_time": "2022-07-22T12:13:24.211667",
     "status": "completed"
    },
    "tags": []
   },
   "outputs": [],
   "source": [
    "gen2 = network.GeneratorTabnet(n_features+1).to(device)\n",
    "disc2 = network.Discriminator(n_features+1).to(device)\n",
    "\n",
    "criterion = torch.nn.BCELoss()\n",
    "gen_opt = torch.optim.Adam(gen2.parameters(), lr=0.001, betas=(0.5, 0.999))\n",
    "disc_opt = torch.optim.Adam(disc2.parameters(), lr=0.001, betas=(0.5, 0.999))"
   ]
  },
  {
   "cell_type": "code",
   "execution_count": 16,
   "id": "69a98e68",
   "metadata": {
    "execution": {
     "iopub.execute_input": "2022-07-22T12:13:24.302004Z",
     "iopub.status.busy": "2022-07-22T12:13:24.300731Z",
     "iopub.status.idle": "2022-07-22T12:16:01.024610Z",
     "shell.execute_reply": "2022-07-22T12:16:01.023529Z"
    },
    "papermill": {
     "duration": 156.742999,
     "end_time": "2022-07-22T12:16:01.027402",
     "exception": false,
     "start_time": "2022-07-22T12:13:24.284403",
     "status": "completed"
    },
    "tags": []
   },
   "outputs": [
    {
     "data": {
      "image/png": "[encoded data removed]",
      "text/plain": [
       "<Figure size 432x288 with 1 Axes>"
      ]
     },
     "metadata": {
      "needs_background": "light"
     },
     "output_type": "display_data"
    },
    {
     "data": {
      "image/png": "[encoded data removed]",
      "text/plain": [
       "<Figure size 432x288 with 1 Axes>"
      ]
     },
     "metadata": {
      "needs_background": "light"
     },
     "output_type": "display_data"
    }
   ],
   "source": [
    "#Training the ABC_GAN \n",
    "ABC_train_test2.training_GAN(disc2,gen2,disc_opt,gen_opt,train_data,batch_size,n_epochs,criterion,prior_model,variance,bias,device)"
   ]
  },
  {
   "cell_type": "code",
   "execution_count": 17,
   "id": "3da12a97",
   "metadata": {
    "execution": {
     "iopub.execute_input": "2022-07-22T12:16:01.060374Z",
     "iopub.status.busy": "2022-07-22T12:16:01.059944Z",
     "iopub.status.idle": "2022-07-22T12:16:03.123508Z",
     "shell.execute_reply": "2022-07-22T12:16:03.122536Z"
    },
    "papermill": {
     "duration": 2.082733,
     "end_time": "2022-07-22T12:16:03.126193",
     "exception": false,
     "start_time": "2022-07-22T12:16:01.043460",
     "status": "completed"
    },
    "tags": []
   },
   "outputs": [
    {
     "data": {
      "application/scrapbook.scrap.json+json": {
       "data": 0.6106526595930941,
       "encoder": "json",
       "name": "ABC-GAN Model 1 MSE",
       "version": 1
      }
     },
     "metadata": {
      "scrapbook": {
       "data": true,
       "display": false,
       "name": "ABC-GAN Model 1 MSE"
      }
     },
     "output_type": "display_data"
    },
    {
     "data": {
      "application/scrapbook.scrap.json+json": {
       "data": 0.5288042409755289,
       "encoder": "json",
       "name": "ABC-GAN Model 1 MAE",
       "version": 1
      }
     },
     "metadata": {
      "scrapbook": {
       "data": true,
       "display": false,
       "name": "ABC-GAN Model 1 MAE"
      }
     },
     "output_type": "display_data"
    },
    {
     "data": {
      "application/scrapbook.scrap.json+json": {
       "data": 10.576084819510578,
       "encoder": "json",
       "name": "ABC-GAN Model 1 Manhattan Distance",
       "version": 1
      }
     },
     "metadata": {
      "scrapbook": {
       "data": true,
       "display": false,
       "name": "ABC-GAN Model 1 Manhattan Distance"
      }
     },
     "output_type": "display_data"
    },
    {
     "data": {
      "application/scrapbook.scrap.json+json": {
       "data": 3.4893371937370876,
       "encoder": "json",
       "name": "ABC-GAN Model 1 Euclidean distance",
       "version": 1
      }
     },
     "metadata": {
      "scrapbook": {
       "data": true,
       "display": false,
       "name": "ABC-GAN Model 1 Euclidean distance"
      }
     },
     "output_type": "display_data"
    },
    {
     "data": {
      "application/scrapbook.scrap.json+json": {
       "data": [
        [
         0.642377882862912,
         0.6313473255714307,
         0.3754534176870898,
         0.5972516800697675,
         0.6078129643101,
         0.5532762036126356,
         0.6220790091208105,
         0.6531328595324511,
         0.5903208074680342,
         0.6209996083400962,
         0.6581249294236231,
         0.6008552060362333,
         0.5990786969837275,
         0.6390190196284138,
         0.5544593447288458,
         0.6042892190739115,
         0.2678343539305079,
         0.6427930644991198,
         0.6535393652872628,
         0.6095405989991518,
         0.6404511662258318,
         0.3027065139366079,
         0.6474461733054226,
         0.6175035177550665,
         0.6188290379876825,
         0.6475408388982034,
         0.6353996790649143,
         0.6314052560162917,
         0.5634331758676883,
         0.624263907509358,
         0.5660406334530738,
         0.6549107010213014,
         0.5986666591527456,
         0.6107349119350598,
         0.62932542913992,
         0.6124273685069334,
         0.5849699755619099,
         0.6011885167109856,
         0.6482130174633498,
         0.6160672825429249,
         0.6199736003485491,
         0.6490266838735501,
         0.6064543146231628,
         0.610430005527185,
         0.5932475405335298,
         0.6082722698232761,
         0.6438676481282867,
         0.6481518401691948,
         0.6131158088696458,
         0.5717038995796896,
         0.6538287846929002,
         0.6342116374291897,
         0.549188908808326,
         0.6751252621400463,
         0.5752079688598466,
         0.6339982024101376,
         0.6579516225300284,
         0.6257021625283994,
         0.6455223565598573,
         0.6201371649526344,
         0.5385493191975042,
         0.589120636403256,
         0.6052155556074607,
         0.6673343617947184,
         0.6397899373293392,
         0.6092828287765701,
         0.6679842970238024,
         0.6209140762604364,
         0.5952047035144102,
         0.5912590567276526,
         0.616245145197353,
         0.6453401174429361,
         0.6394325879396948,
         0.6266549459261779,
         0.6021412521137638,
         0.657591516846295,
         0.6076323026878351,
         0.6430288531485944,
         0.5994474451575976,
         0.6013885423717771,
         0.6624657902330237,
         0.6005105615107347,
         0.6211748609727751,
         0.591812886535946,
         0.6178166235094962,
         0.644856869696753,
         0.5671091397788449,
         0.6410361733371911,
         0.63068144606262,
         0.6390513984705374,
         0.5862647737384487,
         0.6294172437907238,
         0.6830598697094706,
         0.6510779553752009,
         0.6315384041895277,
         0.6265157339509635,
         0.6263875047915335,
         0.6104781336645819,
         0.5985443988887945,
         0.6316817080262414
        ],
        [
         0.5238288655877114,
         0.5251257371157407,
         0.5043446909636259,
         0.5206403836607933,
         0.5235972631722688,
         0.4988781429827213,
         0.5495835267007351,
         0.550399661809206,
         0.5140119411051274,
         0.5297808203846216,
         0.559134079143405,
         0.5198344681411982,
         0.5260152846574784,
         0.5495195090770721,
         0.483989467471838,
         0.5117227040231228,
         0.41494061425328255,
         0.5353144943714142,
         0.5441698655486107,
         0.5313463229686022,
         0.550253864377737,
         0.4589507572352886,
         0.5576879918575287,
         0.5248520545661449,
         0.5302897017449141,
         0.5598255313932896,
         0.5415793195366859,
         0.5437673181295395,
         0.49967458136379717,
         0.5283189110457898,
         0.5055295079946518,
         0.5581871937960386,
         0.5215821728110314,
         0.5303028080612421,
         0.5058266013860703,
         0.5308174401521683,
         0.5122485149651765,
         0.5099874041974545,
         0.5391945406794548,
         0.5269461628049612,
         0.5351174335926772,
         0.5619751408696174,
         0.5145504832267761,
         0.5231701072305441,
         0.513759970292449,
         0.528295137733221,
         0.543795183300972,
         0.5446549583226442,
         0.5402515206485987,
         0.4971985474228859,
         0.5453320853412151,
         0.5355923499912023,
         0.47929404117166996,
         0.5598406121134758,
         0.493798965215683,
         0.544399605691433,
         0.5632843770086765,
         0.5402254041284322,
         0.5475867975503206,
         0.5342652041465044,
         0.4991042770445347,
         0.5089523427188396,
         0.5220222488045693,
         0.5432167273014784,
         0.5417837779968977,
         0.5409379612654448,
         0.5641995027661324,
         0.5347182370722294,
         0.5193293981254101,
         0.5147896327078343,
         0.5289445482194424,
         0.5547742053866387,
         0.5545687537640334,
         0.5326622027903796,
         0.5175295099616051,
         0.5415283869951963,
         0.5093217734247446,
         0.5426736667752265,
         0.5240086767822504,
         0.5295912571251392,
         0.5368733197450638,
         0.5218702875077724,
         0.5356219653040171,
         0.5350634448230267,
         0.5326407194137573,
         0.5483925685286521,
         0.5015831287950278,
         0.529669227451086,
         0.5448104936629534,
         0.5440911833196879,
         0.5097301080822945,
         0.5300032049417496,
         0.5640122324228287,
         0.556150783598423,
         0.5487072348594666,
         0.5342584609985351,
         0.5290850460529327,
         0.5191392537206412,
         0.5147028546780348,
         0.5209733463823796
        ],
        [
         10.476577311754227,
         10.502514742314816,
         10.086893819272518,
         10.412807673215866,
         10.471945263445377,
         9.977562859654427,
         10.991670534014702,
         11.00799323618412,
         10.280238822102547,
         10.595616407692432,
         11.1826815828681,
         10.396689362823963,
         10.520305693149567,
         10.990390181541443,
         9.67978934943676,
         10.234454080462456,
         8.298812285065651,
         10.706289887428284,
         10.883397310972214,
         10.626926459372044,
         11.005077287554741,
         9.179015144705772,
         11.153759837150574,
         10.497041091322899,
         10.605794034898281,
         11.196510627865791,
         10.831586390733719,
         10.87534636259079,
         9.993491627275944,
         10.566378220915794,
         10.110590159893036,
         11.163743875920773,
         10.431643456220627,
         10.606056161224842,
         10.116532027721405,
         10.616348803043365,
         10.244970299303532,
         10.199748083949089,
         10.783890813589096,
         10.538923256099224,
         10.702348671853542,
         11.23950281739235,
         10.291009664535522,
         10.463402144610882,
         10.27519940584898,
         10.565902754664421,
         10.87590366601944,
         10.893099166452885,
         10.805030412971973,
         9.943970948457718,
         10.906641706824303,
         10.711846999824047,
         9.5858808234334,
         11.196812242269516,
         9.87597930431366,
         10.887992113828659,
         11.26568754017353,
         10.804508082568645,
         10.951735951006413,
         10.685304082930088,
         9.982085540890694,
         10.179046854376793,
         10.440444976091385,
         10.864334546029568,
         10.835675559937954,
         10.818759225308895,
         11.283990055322647,
         10.694364741444588,
         10.386587962508202,
         10.295792654156685,
         10.578890964388847,
         11.095484107732773,
         11.091375075280666,
         10.65324405580759,
         10.350590199232101,
         10.830567739903927,
         10.186435468494892,
         10.853473335504532,
         10.480173535645008,
         10.591825142502785,
         10.737466394901276,
         10.437405750155449,
         10.712439306080341,
         10.701268896460533,
         10.652814388275146,
         10.967851370573044,
         10.031662575900555,
         10.59338454902172,
         10.896209873259068,
         10.881823666393757,
         10.19460216164589,
         10.600064098834991,
         11.280244648456573,
         11.12301567196846,
         10.974144697189331,
         10.685169219970703,
         10.581700921058655,
         10.382785074412823,
         10.294057093560696,
         10.41946692764759
        ],
        [
         3.584348986532734,
         3.553441502463297,
         2.740267934662922,
         3.456158792850142,
         3.4865827519509702,
         3.3264882492281123,
         3.527262420407108,
         3.614229819843921,
         3.4360465871930033,
         3.5242009259975404,
         3.6280157922027376,
         3.4665695032300543,
         3.461441020684095,
         3.574965789006697,
         3.330043076985179,
         3.4764614741829414,
         2.31445178792088,
         3.5855071175473068,
         3.6153543817647056,
         3.491534330345763,
         3.5789695897725418,
         2.460514230548598,
         3.598461263666521,
         3.5142666881017055,
         3.518036492100906,
         3.5987243264751565,
         3.5648272863209356,
         3.5536045250317083,
         3.3568830062058708,
         3.5334513085915247,
         3.3646415364881705,
         3.6191454820752966,
         3.460250450914632,
         3.4949532527204417,
         3.547746972769958,
         3.499792475296023,
         3.4204384969237784,
         3.467530869973577,
         3.6005916665552338,
         3.5101774386572675,
         3.5212884015614203,
         3.6028507709133613,
         3.4826837772705197,
         3.4940807246747605,
         3.4445537897775083,
         3.487899854707059,
         3.588502885963133,
         3.600421753542757,
         3.501759011895724,
         3.3814313524887347,
         3.616154821610657,
         3.561493050475291,
         3.3141783561188314,
         3.674575518723343,
         3.391778202830623,
         3.5608937148141266,
         3.627538070179356,
         3.5375193639848797,
         3.5931110658031638,
         3.521752873080774,
         3.281918095253153,
         3.432551926492172,
         3.479125049800483,
         3.6533118175012613,
         3.5771215727993906,
         3.4907959802216175,
         3.655090414815487,
         3.5239582184255145,
         3.450231016944837,
         3.438776109977655,
         3.510684107684293,
         3.5926038396765545,
         3.576122447399403,
         3.540211705325482,
         3.4702773725273426,
         3.6265452343691926,
         3.4860645510025634,
         3.586164673153185,
         3.462506159294443,
         3.4681076752943443,
         3.6399609619693005,
         3.4655751658584317,
         3.5246981742349943,
         3.4403862763821915,
         3.515157531347624,
         3.591258469385775,
         3.367815730644552,
         3.58060378522168,
         3.5515671078064117,
         3.575056358913905,
         3.4242218787293814,
         3.548005760397589,
         3.696105706576777,
         3.608539747252899,
         3.553979190117825,
         3.5398184528333188,
         3.5394561864544487,
         3.494218463875955,
         3.4598971050850476,
         3.554382388056303
        ]
       ],
       "encoder": "json",
       "name": "ABC_GAN_2 Metrics",
       "version": 1
      }
     },
     "metadata": {
      "scrapbook": {
       "data": true,
       "display": false,
       "name": "ABC_GAN_2 Metrics"
      }
     },
     "output_type": "display_data"
    },
    {
     "name": "stdout",
     "output_type": "stream",
     "text": [
      "MAE\n",
      "0.5288042409755289\n"
     ]
    }
   ],
   "source": [
    "ABC_GAN2_metrics=ABC_train_test2.test_generator(gen2,test_data,prior_model,variance,bias,\"1\",device)\n",
    "sb.glue(\"ABC_GAN_2 Metrics\",ABC_GAN2_metrics)\n",
    "\n",
    "print(\"MAE\")\n",
    "print(mean(ABC_GAN2_metrics[1]))"
   ]
  },
  {
   "cell_type": "code",
   "execution_count": 18,
   "id": "c0ec0593",
   "metadata": {
    "execution": {
     "iopub.execute_input": "2022-07-22T12:16:03.186199Z",
     "iopub.status.busy": "2022-07-22T12:16:03.185722Z",
     "iopub.status.idle": "2022-07-22T12:16:04.310367Z",
     "shell.execute_reply": "2022-07-22T12:16:04.308926Z"
    },
    "papermill": {
     "duration": 1.171336,
     "end_time": "2022-07-22T12:16:04.316926",
     "exception": false,
     "start_time": "2022-07-22T12:16:03.145590",
     "status": "completed"
    },
    "tags": []
   },
   "outputs": [
    {
     "data": {
      "image/png": "[encoded data removed]",
      "text/plain": [
       "<Figure size 432x288 with 1 Axes>"
      ]
     },
     "metadata": {
      "needs_background": "light"
     },
     "output_type": "display_data"
    },
    {
     "data": {
      "image/png": "[encoded data removed]",
      "text/plain": [
       "<Figure size 432x288 with 1 Axes>"
      ]
     },
     "metadata": {
      "needs_background": "light"
     },
     "output_type": "display_data"
    },
    {
     "data": {
      "image/png": "[encoded data removed]",
      "text/plain": [
       "<Figure size 432x288 with 1 Axes>"
      ]
     },
     "metadata": {
      "needs_background": "light"
     },
     "output_type": "display_data"
    },
    {
     "data": {
      "image/png": "[encoded data removed]",
      "text/plain": [
       "<Figure size 432x288 with 1 Axes>"
      ]
     },
     "metadata": {
      "needs_background": "light"
     },
     "output_type": "display_data"
    }
   ],
   "source": [
    "sanityChecks.discProbVsError(train_data,disc2,device)\n",
    "sanityChecks.discProbVsError(test_data,disc2,device)"
   ]
  },
  {
   "cell_type": "markdown",
   "id": "130f3a4d",
   "metadata": {
    "id": "130f3a4d",
    "papermill": {
     "duration": 0.022301,
     "end_time": "2022-07-22T12:16:04.359818",
     "exception": false,
     "start_time": "2022-07-22T12:16:04.337517",
     "status": "completed"
    },
    "tags": []
   },
   "source": [
    "# skipGAN Model"
   ]
  },
  {
   "cell_type": "code",
   "execution_count": 19,
   "id": "4e43dad1",
   "metadata": {
    "execution": {
     "iopub.execute_input": "2022-07-22T12:16:04.409723Z",
     "iopub.status.busy": "2022-07-22T12:16:04.409285Z",
     "iopub.status.idle": "2022-07-22T12:16:04.415537Z",
     "shell.execute_reply": "2022-07-22T12:16:04.413376Z"
    },
    "id": "4e43dad1",
    "papermill": {
     "duration": 0.043334,
     "end_time": "2022-07-22T12:16:04.424556",
     "exception": false,
     "start_time": "2022-07-22T12:16:04.381222",
     "status": "completed"
    },
    "tags": []
   },
   "outputs": [],
   "source": [
    "# #Generator\n",
    "# gen3 = network.GeneratorWithSkipConnection(n_features+1).to(device)\n",
    "# constraints=network.weightConstraint()\n",
    "# #Discriminator \n",
    "# disc3 = network.Discriminator(n_features+1).to(device)\n",
    "\n",
    "# criterion = torch.nn.BCELoss()\n",
    "# gen_opt = torch.optim.Adam(gen3.parameters(), lr=0.01, betas=(0.5, 0.999))\n",
    "# disc_opt = torch.optim.Adam(disc3.parameters(), lr=0.01, betas=(0.5, 0.999))\n"
   ]
  },
  {
   "cell_type": "code",
   "execution_count": 20,
   "id": "26acbc37",
   "metadata": {
    "execution": {
     "iopub.execute_input": "2022-07-22T12:16:04.502776Z",
     "iopub.status.busy": "2022-07-22T12:16:04.501891Z",
     "iopub.status.idle": "2022-07-22T12:16:04.515181Z",
     "shell.execute_reply": "2022-07-22T12:16:04.509110Z"
    },
    "id": "26acbc37",
    "papermill": {
     "duration": 0.094509,
     "end_time": "2022-07-22T12:16:04.552004",
     "exception": false,
     "start_time": "2022-07-22T12:16:04.457495",
     "status": "completed"
    },
    "tags": []
   },
   "outputs": [],
   "source": [
    "# ABC_train_test2.training_GAN_skip_connection(disc3,gen3,disc_opt,gen_opt,train_data,batch_size,n_epochs,criterion,prior_model,variance,bias,device)"
   ]
  },
  {
   "cell_type": "code",
   "execution_count": 21,
   "id": "c5e0717b",
   "metadata": {
    "execution": {
     "iopub.execute_input": "2022-07-22T12:16:04.614530Z",
     "iopub.status.busy": "2022-07-22T12:16:04.614013Z",
     "iopub.status.idle": "2022-07-22T12:16:04.621743Z",
     "shell.execute_reply": "2022-07-22T12:16:04.620281Z"
    },
    "id": "c5e0717b",
    "papermill": {
     "duration": 0.057608,
     "end_time": "2022-07-22T12:16:04.636319",
     "exception": false,
     "start_time": "2022-07-22T12:16:04.578711",
     "status": "completed"
    },
    "tags": []
   },
   "outputs": [],
   "source": [
    "# ABC_GAN3_metrics=ABC_train_test2.test_generator(gen3,test_data,prior_model,variance,bias,\"3\",device)\n",
    "# sb.glue(\"ABC_GAN_3 Metrics\",ABC_GAN3_metrics)\n",
    "\n",
    "# print(\"MAE\")\n",
    "# print(mean(ABC_GAN3_metrics[1]))"
   ]
  },
  {
   "cell_type": "code",
   "execution_count": 22,
   "id": "c8e46b48",
   "metadata": {
    "execution": {
     "iopub.execute_input": "2022-07-22T12:16:04.701359Z",
     "iopub.status.busy": "2022-07-22T12:16:04.700864Z",
     "iopub.status.idle": "2022-07-22T12:16:04.711242Z",
     "shell.execute_reply": "2022-07-22T12:16:04.709936Z"
    },
    "id": "c8e46b48",
    "papermill": {
     "duration": 0.053039,
     "end_time": "2022-07-22T12:16:04.720346",
     "exception": false,
     "start_time": "2022-07-22T12:16:04.667307",
     "status": "completed"
    },
    "tags": []
   },
   "outputs": [],
   "source": [
    "# sanityChecks.discProbVsError(train_data,disc3,device)\n",
    "# sanityChecks.discProbVsError(test_data,disc3,device)"
   ]
  },
  {
   "cell_type": "markdown",
   "id": "807fa5f4",
   "metadata": {
    "id": "130f3a4d",
    "papermill": {
     "duration": 0.033163,
     "end_time": "2022-07-22T12:16:04.780617",
     "exception": false,
     "start_time": "2022-07-22T12:16:04.747454",
     "status": "completed"
    },
    "tags": []
   },
   "source": [
    "# skipGAN Model with TabNet Generator"
   ]
  },
  {
   "cell_type": "code",
   "execution_count": 23,
   "id": "3c28f48d",
   "metadata": {
    "execution": {
     "iopub.execute_input": "2022-07-22T12:16:04.832634Z",
     "iopub.status.busy": "2022-07-22T12:16:04.832153Z",
     "iopub.status.idle": "2022-07-22T12:16:04.859520Z",
     "shell.execute_reply": "2022-07-22T12:16:04.858418Z"
    },
    "id": "4e43dad1",
    "papermill": {
     "duration": 0.060797,
     "end_time": "2022-07-22T12:16:04.864078",
     "exception": false,
     "start_time": "2022-07-22T12:16:04.803281",
     "status": "completed"
    },
    "tags": []
   },
   "outputs": [],
   "source": [
    "#Generator\n",
    "gen4 = network.GeneratorTabnetskipConnection(n_features+1).to(device)\n",
    "constraints=network.weightConstraint()\n",
    "#Discriminator \n",
    "disc4 = network.Discriminator(n_features+1).to(device)\n",
    "\n",
    "criterion = torch.nn.BCELoss()\n",
    "gen_opt = torch.optim.Adam(gen4.parameters(), lr=0.001, betas=(0.5, 0.999))\n",
    "disc_opt = torch.optim.Adam(disc4.parameters(), lr=0.001, betas=(0.5, 0.999))\n"
   ]
  },
  {
   "cell_type": "code",
   "execution_count": 24,
   "id": "dfde73dc",
   "metadata": {
    "execution": {
     "iopub.execute_input": "2022-07-22T12:16:04.932146Z",
     "iopub.status.busy": "2022-07-22T12:16:04.931604Z",
     "iopub.status.idle": "2022-07-22T12:19:27.353735Z",
     "shell.execute_reply": "2022-07-22T12:19:27.352643Z"
    },
    "id": "26acbc37",
    "papermill": {
     "duration": 202.464151,
     "end_time": "2022-07-22T12:19:27.356443",
     "exception": false,
     "start_time": "2022-07-22T12:16:04.892292",
     "status": "completed"
    },
    "tags": []
   },
   "outputs": [
    {
     "data": {
      "image/png": "[encoded data removed]",
      "text/plain": [
       "<Figure size 432x288 with 1 Axes>"
      ]
     },
     "metadata": {
      "needs_background": "light"
     },
     "output_type": "display_data"
    },
    {
     "data": {
      "image/png": "[encoded data removed]",
      "text/plain": [
       "<Figure size 432x288 with 1 Axes>"
      ]
     },
     "metadata": {
      "needs_background": "light"
     },
     "output_type": "display_data"
    }
   ],
   "source": [
    "ABC_train_test2.training_GAN_skip_connection(disc4,gen4,disc_opt,gen_opt,train_data,batch_size,n_epochs,criterion,prior_model,variance,bias,device)"
   ]
  },
  {
   "cell_type": "code",
   "execution_count": 25,
   "id": "69211fb5",
   "metadata": {
    "execution": {
     "iopub.execute_input": "2022-07-22T12:19:27.399980Z",
     "iopub.status.busy": "2022-07-22T12:19:27.399589Z",
     "iopub.status.idle": "2022-07-22T12:19:29.623321Z",
     "shell.execute_reply": "2022-07-22T12:19:29.621627Z"
    },
    "id": "c5e0717b",
    "papermill": {
     "duration": 2.249994,
     "end_time": "2022-07-22T12:19:29.626475",
     "exception": false,
     "start_time": "2022-07-22T12:19:27.376481",
     "status": "completed"
    },
    "tags": []
   },
   "outputs": [
    {
     "data": {
      "application/scrapbook.scrap.json+json": {
       "data": 0.842457372893069,
       "encoder": "json",
       "name": "ABC-GAN Model 3 MSE",
       "version": 1
      }
     },
     "metadata": {
      "scrapbook": {
       "data": true,
       "display": false,
       "name": "ABC-GAN Model 3 MSE"
      }
     },
     "output_type": "display_data"
    },
    {
     "data": {
      "application/scrapbook.scrap.json+json": {
       "data": 0.5735810442276197,
       "encoder": "json",
       "name": "ABC-GAN Model 3 MAE",
       "version": 1
      }
     },
     "metadata": {
      "scrapbook": {
       "data": true,
       "display": false,
       "name": "ABC-GAN Model 3 MAE"
      }
     },
     "output_type": "display_data"
    },
    {
     "data": {
      "application/scrapbook.scrap.json+json": {
       "data": 11.471620884552394,
       "encoder": "json",
       "name": "ABC-GAN Model 3 Manhattan Distance",
       "version": 1
      }
     },
     "metadata": {
      "scrapbook": {
       "data": true,
       "display": false,
       "name": "ABC-GAN Model 3 Manhattan Distance"
      }
     },
     "output_type": "display_data"
    },
    {
     "data": {
      "application/scrapbook.scrap.json+json": {
       "data": 4.103616012996675,
       "encoder": "json",
       "name": "ABC-GAN Model 3 Euclidean distance",
       "version": 1
      }
     },
     "metadata": {
      "scrapbook": {
       "data": true,
       "display": false,
       "name": "ABC-GAN Model 3 Euclidean distance"
      }
     },
     "output_type": "display_data"
    },
    {
     "data": {
      "application/scrapbook.scrap.json+json": {
       "data": [
        [
         0.8675936604172956,
         0.8229259778728562,
         0.8210393952260772,
         0.8020215052232448,
         0.82513104521367,
         0.8791920561637923,
         0.9108085782035188,
         0.790566955603012,
         0.813135849580511,
         0.7912503974657485,
         0.8836597736671241,
         0.8583855963628124,
         0.9151455662243295,
         0.8513938509052188,
         0.8103740060182008,
         0.8068966313573303,
         0.8988984186000535,
         0.7947888105086954,
         0.8968364961019895,
         0.9500135950769455,
         0.8407564026293363,
         0.8162355560132504,
         0.8382812636953467,
         0.802709783662659,
         0.8126724957517963,
         0.8558094566349423,
         0.8818630465157555,
         0.8798508092884463,
         0.8264224599216243,
         0.8979995106972417,
         0.8192282114256528,
         0.8815716511981997,
         0.8323658949079833,
         0.8262211404990614,
         0.8119236519709944,
         0.9359781173492656,
         0.8078965257667703,
         0.7995308754582909,
         0.8367281166423549,
         0.9162864668945836,
         0.8376943419665034,
         0.8863132446256519,
         0.8158579759730543,
         0.9280607799350614,
         0.8614271571409798,
         0.9021787474280843,
         0.8871366987651831,
         0.8157450511552771,
         0.8600606646191059,
         0.7796048888373373,
         0.8734656335090547,
         0.7785492594994566,
         0.8204960151169087,
         0.8292202535492512,
         0.8417227167069156,
         0.9012383260191055,
         0.8557173506011913,
         0.8273227437327275,
         0.8209809859914403,
         0.8675638501343782,
         0.8815056000439002,
         0.839264017972574,
         0.80062390504457,
         0.8565197697346274,
         0.8263154929377319,
         0.8912709957584368,
         0.8385653698960805,
         0.8348602800439394,
         0.8234322216031739,
         0.7853683454477463,
         0.8186011150966627,
         0.823831642248809,
         0.7967250609985566,
         0.7834922245776712,
         0.85689028370518,
         0.8829152007822924,
         0.8010453778186422,
         0.7869764034312683,
         0.9357173997172575,
         0.7951138778072179,
         0.8242806671898455,
         0.8035881361315429,
         0.8617370674277991,
         0.8487420117518807,
         0.8462120262302573,
         0.81256527476437,
         0.8461175440941657,
         0.8562870052059767,
         0.8509141593303993,
         0.8385627488246714,
         0.8882947425962815,
         0.792686876194794,
         0.7576877849785417,
         0.8447482842523379,
         0.8319360065318294,
         0.8692343197977381,
         0.7992372707527196,
         0.8499977533063536,
         0.7979964269841473,
         0.8651303102722577
        ],
        [
         0.6062655501067639,
         0.558886144310236,
         0.547293402440846,
         0.558407980389893,
         0.5747799184173346,
         0.5842344725504518,
         0.5821478443220258,
         0.5520651318132878,
         0.5612843045033514,
         0.5480001645162702,
         0.5992659111972898,
         0.5867374704219401,
         0.5788497702611494,
         0.5618035232255352,
         0.5821206976193934,
         0.5864445604383945,
         0.6124854424968362,
         0.5507640277035535,
         0.5831916166469455,
         0.6209832761436701,
         0.5390034299343824,
         0.5929500348865986,
         0.5687174274586141,
         0.5597780627198518,
         0.5597159204749914,
         0.5746677544433624,
         0.5860393709503114,
         0.5764176904223859,
         0.5669405072927475,
         0.5801978761330246,
         0.5721858352422714,
         0.5615753439255059,
         0.5693235248327255,
         0.5780366899445653,
         0.5487790888175368,
         0.6000650642905384,
         0.5538762954995036,
         0.5319655538070946,
         0.5790737614035606,
         0.619129927828908,
         0.5627590607851743,
         0.6018555387854576,
         0.5565363243222237,
         0.6027131949551403,
         0.580793127976358,
         0.5902319348417222,
         0.5568938802927732,
         0.5599262403324247,
         0.5843531084246933,
         0.555066206981428,
         0.5979739435017108,
         0.5483912563649938,
         0.5321367586962878,
         0.5642328526824713,
         0.5658765398897231,
         0.5981344610452652,
         0.5757075273664668,
         0.6074221067130565,
         0.5730405712500215,
         0.591922658495605,
         0.6133940495550633,
         0.5700193559750915,
         0.562584871146828,
         0.5577646099030972,
         0.5471301385201514,
         0.603765613399446,
         0.6039595849812031,
         0.5711433056741952,
         0.5483872281387449,
         0.5496681063901633,
         0.5750371248461306,
         0.570782104425598,
         0.5492694426793605,
         0.5492847862886265,
         0.5797014844836668,
         0.572450602799654,
         0.5660804526880383,
         0.5165907103335485,
         0.59650637016166,
         0.5878968823701143,
         0.5941830260679126,
         0.5638448692858219,
         0.5832912659272551,
         0.5690299686975777,
         0.5687177275307477,
         0.5446318430360406,
         0.5844296345487237,
         0.5795238493010402,
         0.5859089754521847,
         0.5732019232935273,
         0.6034882989712059,
         0.5781558645889163,
         0.5415524985524826,
         0.5548872778192162,
         0.5873221125919372,
         0.5860487489029765,
         0.5506163598969579,
         0.6131157096475363,
         0.5674996902642306,
         0.5768202900886535
        ],
        [
         12.125311002135277,
         11.17772288620472,
         10.94586804881692,
         11.168159607797861,
         11.495598368346691,
         11.684689451009035,
         11.642956886440516,
         11.041302636265755,
         11.225686090067029,
         10.960003290325403,
         11.985318223945796,
         11.734749408438802,
         11.576995405222988,
         11.236070464510703,
         11.64241395238787,
         11.728891208767891,
         12.249708849936724,
         11.015280554071069,
         11.66383233293891,
         12.419665522873402,
         10.780068598687649,
         11.859000697731972,
         11.374348549172282,
         11.195561254397035,
         11.194318409499829,
         11.493355088867247,
         11.720787419006228,
         11.528353808447719,
         11.33881014585495,
         11.603957522660494,
         11.443716704845428,
         11.231506878510118,
         11.38647049665451,
         11.560733798891306,
         10.975581776350737,
         12.001301285810769,
         11.077525909990072,
         10.639311076141894,
         11.581475228071213,
         12.38259855657816,
         11.255181215703487,
         12.037110775709152,
         11.130726486444473,
         12.054263899102807,
         11.615862559527159,
         11.804638696834445,
         11.137877605855465,
         11.198524806648493,
         11.687062168493867,
         11.10132413962856,
         11.959478870034218,
         10.967825127299875,
         10.642735173925757,
         11.284657053649426,
         11.317530797794461,
         11.962689220905304,
         11.514150547329336,
         12.148442134261131,
         11.46081142500043,
         11.8384531699121,
         12.267880991101265,
         11.40038711950183,
         11.251697422936559,
         11.155292198061943,
         10.942602770403028,
         12.07531226798892,
         12.079191699624062,
         11.422866113483906,
         10.967744562774897,
         10.993362127803266,
         11.500742496922612,
         11.415642088511959,
         10.98538885358721,
         10.98569572577253,
         11.594029689673334,
         11.44901205599308,
         11.321609053760767,
         10.33181420667097,
         11.9301274032332,
         11.757937647402287,
         11.883660521358252,
         11.276897385716438,
         11.665825318545103,
         11.380599373951554,
         11.374354550614953,
         10.892636860720813,
         11.688592690974474,
         11.590476986020803,
         11.718179509043694,
         11.464038465870544,
         12.069765979424119,
         11.563117291778326,
         10.831049971049652,
         11.097745556384325,
         11.746442251838744,
         11.72097497805953,
         11.012327197939157,
         12.262314192950726,
         11.349993805284612,
         11.536405801773071
        ],
        [
         4.165557970830068,
         4.056910099750439,
         4.052257137019015,
         4.005050574520239,
         4.062341800522624,
         4.193309089880669,
         4.268040717246073,
         3.976347458668601,
         4.032705914347118,
         3.9780658553265518,
         4.203949984638552,
         4.1433937692737155,
         4.278190192649994,
         4.126484825866245,
         4.025851477683201,
         4.017204578702285,
         4.24004343987194,
         3.9869507408762788,
         4.235177673019137,
         4.358930132674635,
         4.100625324579987,
         4.040385021290051,
         4.094584871987261,
         4.006768732189715,
         4.031556760735972,
         4.137171634425969,
         4.199673907616532,
         4.19487975820153,
         4.065519548401223,
         4.237922865502018,
         4.047785101572594,
         4.198979998042857,
         4.080112485968943,
         4.065024330798185,
         4.0296988770154885,
         4.326610953966778,
         4.019692838431241,
         3.998827016659488,
         4.09078993995623,
         4.280856145433022,
         4.093151211393255,
         4.210257105274336,
         4.039450398192938,
         4.308272925280063,
         4.150728025638346,
         4.2477729398546815,
         4.21221247983808,
         4.039170833612456,
         4.147434543471677,
         3.9486830433382147,
         4.179630685859828,
         3.946008767094814,
         4.050915983125073,
         4.072395495403783,
         4.102981152057405,
         4.245558446233205,
         4.136948997996449,
         4.067733382936319,
         4.052112994454721,
         4.165486406494152,
         4.198822692241006,
         4.0969843006108135,
         4.001559458622525,
         4.138888183400531,
         4.065256432102978,
         4.22201609603383,
         4.095278671582876,
         4.086221433167663,
         4.058157763328513,
         3.963252062253286,
         4.046235571730007,
         4.059141885297455,
         3.991804256219377,
         3.9585154403580924,
         4.1397832883018895,
         4.202178484506084,
         4.002612591342415,
         3.967307407880736,
         4.32600832111372,
         3.9877659856295926,
         4.060247941172671,
         4.008960304446885,
         4.1514745992907125,
         4.120053426235832,
         4.113908181353243,
         4.03129079765866,
         4.113678509786991,
         4.138325760995566,
         4.125322191854593,
         4.095272271350639,
         4.214960836345414,
         3.9816752157723614,
         3.892782513777367,
         4.110348608700576,
         4.07905873096191,
         4.169494741087313,
         3.998092722168208,
         4.123100176581582,
         3.994987927351339,
         4.1596401533600424
        ]
       ],
       "encoder": "json",
       "name": "ABC_GAN_4 Metrics",
       "version": 1
      }
     },
     "metadata": {
      "scrapbook": {
       "data": true,
       "display": false,
       "name": "ABC_GAN_4 Metrics"
      }
     },
     "output_type": "display_data"
    },
    {
     "name": "stdout",
     "output_type": "stream",
     "text": [
      "MAE\n",
      "0.5735810442276197\n"
     ]
    }
   ],
   "source": [
    "ABC_GAN4_metrics=ABC_train_test2.test_generator(gen4,test_data,prior_model,variance,bias,\"3\",device)\n",
    "sb.glue(\"ABC_GAN_4 Metrics\",ABC_GAN4_metrics)\n",
    "\n",
    "print(\"MAE\")\n",
    "print(mean(ABC_GAN4_metrics[1]))"
   ]
  },
  {
   "cell_type": "code",
   "execution_count": 26,
   "id": "e30c6f43",
   "metadata": {
    "execution": {
     "iopub.execute_input": "2022-07-22T12:19:29.700426Z",
     "iopub.status.busy": "2022-07-22T12:19:29.699578Z",
     "iopub.status.idle": "2022-07-22T12:19:31.060854Z",
     "shell.execute_reply": "2022-07-22T12:19:31.059679Z"
    },
    "id": "c8e46b48",
    "papermill": {
     "duration": 1.39814,
     "end_time": "2022-07-22T12:19:31.063605",
     "exception": false,
     "start_time": "2022-07-22T12:19:29.665465",
     "status": "completed"
    },
    "tags": []
   },
   "outputs": [
    {
     "data": {
      "image/png": "[encoded data removed]",
      "text/plain": [
       "<Figure size 432x288 with 1 Axes>"
      ]
     },
     "metadata": {
      "needs_background": "light"
     },
     "output_type": "display_data"
    },
    {
     "data": {
      "image/png": "[encoded data removed]",
      "text/plain": [
       "<Figure size 432x288 with 1 Axes>"
      ]
     },
     "metadata": {
      "needs_background": "light"
     },
     "output_type": "display_data"
    },
    {
     "data": {
      "image/png": "[encoded data removed]",
      "text/plain": [
       "<Figure size 432x288 with 1 Axes>"
      ]
     },
     "metadata": {
      "needs_background": "light"
     },
     "output_type": "display_data"
    },
    {
     "data": {
      "image/png": "[encoded data removed]",
      "text/plain": [
       "<Figure size 432x288 with 1 Axes>"
      ]
     },
     "metadata": {
      "needs_background": "light"
     },
     "output_type": "display_data"
    }
   ],
   "source": [
    "sanityChecks.discProbVsError(train_data,disc4,device)\n",
    "sanityChecks.discProbVsError(test_data,disc4,device)"
   ]
  },
  {
   "cell_type": "markdown",
   "id": "a5bd74c3",
   "metadata": {
    "id": "a5bd74c3",
    "papermill": {
     "duration": 0.029586,
     "end_time": "2022-07-22T12:19:31.130967",
     "exception": false,
     "start_time": "2022-07-22T12:19:31.101381",
     "status": "completed"
    },
    "tags": []
   },
   "source": [
    "## Skip Connection Model Analysis - ABC-GAN "
   ]
  },
  {
   "cell_type": "markdown",
   "id": "5744a8bf",
   "metadata": {
    "id": "5744a8bf",
    "papermill": {
     "duration": 0.034276,
     "end_time": "2022-07-22T12:19:31.204256",
     "exception": false,
     "start_time": "2022-07-22T12:19:31.169980",
     "status": "completed"
    },
    "tags": []
   },
   "source": [
    "### Weight Analysis \n",
    "\n",
    "Study the weights of the skip connection layer\n",
    "\n",
    "Equation of the skip connection is \n",
    "\n",
    "$output = y_{gan} * w + y_{abc} * (1-w)$"
   ]
  },
  {
   "cell_type": "code",
   "execution_count": 27,
   "id": "52c31dea",
   "metadata": {
    "execution": {
     "iopub.execute_input": "2022-07-22T12:19:31.292349Z",
     "iopub.status.busy": "2022-07-22T12:19:31.291355Z",
     "iopub.status.idle": "2022-07-22T12:19:31.297028Z",
     "shell.execute_reply": "2022-07-22T12:19:31.295807Z"
    },
    "id": "52c31dea",
    "papermill": {
     "duration": 0.05763,
     "end_time": "2022-07-22T12:19:31.300806",
     "exception": false,
     "start_time": "2022-07-22T12:19:31.243176",
     "status": "completed"
    },
    "tags": []
   },
   "outputs": [],
   "source": [
    "# print(\"Weight of the node at skip connection\")\n",
    "# for name,param in gen3.named_parameters():\n",
    "#     if(name == \"skipNode.weight\"):\n",
    "#         print(param)\n",
    "#         sb.glue(\"Skip Connection Weight\",param.item())"
   ]
  },
  {
   "cell_type": "markdown",
   "id": "5073edf3",
   "metadata": {
    "id": "a5bd74c3",
    "papermill": {
     "duration": 0.037266,
     "end_time": "2022-07-22T12:19:31.386606",
     "exception": false,
     "start_time": "2022-07-22T12:19:31.349340",
     "status": "completed"
    },
    "tags": []
   },
   "source": [
    "## skipGAN Model Analysis (TabNet Generator) "
   ]
  },
  {
   "cell_type": "markdown",
   "id": "a426906f",
   "metadata": {
    "id": "5744a8bf",
    "papermill": {
     "duration": 0.040919,
     "end_time": "2022-07-22T12:19:31.464563",
     "exception": false,
     "start_time": "2022-07-22T12:19:31.423644",
     "status": "completed"
    },
    "tags": []
   },
   "source": [
    "### Weight Analysis \n",
    "\n",
    "Study the weights of the skip connection layer\n",
    "\n",
    "Equation of the skip connection is \n",
    "\n",
    "$output = y_{gan} * w + y_{abc} * (1-w)$"
   ]
  },
  {
   "cell_type": "code",
   "execution_count": 28,
   "id": "acab3dd7",
   "metadata": {
    "execution": {
     "iopub.execute_input": "2022-07-22T12:19:31.554255Z",
     "iopub.status.busy": "2022-07-22T12:19:31.553896Z",
     "iopub.status.idle": "2022-07-22T12:19:31.572631Z",
     "shell.execute_reply": "2022-07-22T12:19:31.570156Z"
    },
    "id": "52c31dea",
    "papermill": {
     "duration": 0.073792,
     "end_time": "2022-07-22T12:19:31.580733",
     "exception": false,
     "start_time": "2022-07-22T12:19:31.506941",
     "status": "completed"
    },
    "tags": []
   },
   "outputs": [
    {
     "name": "stdout",
     "output_type": "stream",
     "text": [
      "Weight of the node at skip connection\n",
      "Parameter containing:\n",
      "tensor([[0.]], requires_grad=True)\n"
     ]
    },
    {
     "data": {
      "application/scrapbook.scrap.json+json": {
       "data": 0.0,
       "encoder": "json",
       "name": "Skip Connection Weight",
       "version": 1
      }
     },
     "metadata": {
      "scrapbook": {
       "data": true,
       "display": false,
       "name": "Skip Connection Weight"
      }
     },
     "output_type": "display_data"
    }
   ],
   "source": [
    "print(\"Weight of the node at skip connection\")\n",
    "for name,param in gen4.named_parameters():\n",
    "    if(name == \"skipNode.weight\"):\n",
    "        print(param)\n",
    "        sb.glue(\"Skip Connection Weight\",param.item())"
   ]
  }
 ],
 "metadata": {
  "colab": {
   "collapsed_sections": [],
   "name": "ABC_GAN_Model-Catboost_Pre-gen.ipynb",
   "provenance": []
  },
  "interpreter": {
   "hash": "31f2aee4e71d21fbe5cf8b01ff0e069b9275f58929596ceb00d14d90e3e16cd6"
  },
  "kernelspec": {
   "display_name": "Python 3 (ipykernel)",
   "language": "python",
   "name": "python3"
  },
  "language_info": {
   "codemirror_mode": {
    "name": "ipython",
    "version": 3
   },
   "file_extension": ".py",
   "mimetype": "text/x-python",
   "name": "python",
   "nbconvert_exporter": "python",
   "pygments_lexer": "ipython3",
   "version": "3.8.13"
  },
  "papermill": {
   "default_parameters": {},
   "duration": 401.641328,
   "end_time": "2022-07-22T12:19:32.624862",
   "environment_variables": {},
   "exception": null,
   "input_path": "ABC_GAN-TabNet.ipynb",
   "output_path": "./ABC_GAN_TabNet/ABC-GAN_output_3_7.ipynb",
   "parameters": {
    "bias": 0.01,
    "variance": 0.1
   },
   "start_time": "2022-07-22T12:12:50.983534",
   "version": "2.3.3"
  }
 },
 "nbformat": 4,
 "nbformat_minor": 5
}