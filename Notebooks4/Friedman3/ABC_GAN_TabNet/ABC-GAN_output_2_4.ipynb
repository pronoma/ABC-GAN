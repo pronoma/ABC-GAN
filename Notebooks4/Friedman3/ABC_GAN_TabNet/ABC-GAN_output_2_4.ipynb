{
 "cells": [
  {
   "cell_type": "markdown",
   "id": "622780e6",
   "metadata": {
    "id": "622780e6",
    "papermill": {
     "duration": 0.008995,
     "end_time": "2022-07-22T10:10:56.520597",
     "exception": false,
     "start_time": "2022-07-22T10:10:56.511602",
     "status": "completed"
    },
    "tags": []
   },
   "source": [
    "## Import Libraries "
   ]
  },
  {
   "cell_type": "code",
   "execution_count": 1,
   "id": "a62397e3",
   "metadata": {
    "execution": {
     "iopub.execute_input": "2022-07-22T10:10:56.552561Z",
     "iopub.status.busy": "2022-07-22T10:10:56.551614Z",
     "iopub.status.idle": "2022-07-22T10:10:56.638755Z",
     "shell.execute_reply": "2022-07-22T10:10:56.633670Z"
    },
    "id": "a62397e3",
    "papermill": {
     "duration": 0.110917,
     "end_time": "2022-07-22T10:10:56.642488",
     "exception": false,
     "start_time": "2022-07-22T10:10:56.531571",
     "status": "completed"
    },
    "tags": []
   },
   "outputs": [],
   "source": [
    "import warnings\n",
    "import sys\n",
    "sys.path.insert(0, '../../src')\n",
    "warnings.filterwarnings('ignore')"
   ]
  },
  {
   "cell_type": "code",
   "execution_count": 2,
   "id": "d6a4e155",
   "metadata": {
    "execution": {
     "iopub.execute_input": "2022-07-22T10:10:56.669579Z",
     "iopub.status.busy": "2022-07-22T10:10:56.668062Z",
     "iopub.status.idle": "2022-07-22T10:11:06.115301Z",
     "shell.execute_reply": "2022-07-22T10:11:06.114253Z"
    },
    "id": "d6a4e155",
    "papermill": {
     "duration": 9.468573,
     "end_time": "2022-07-22T10:11:06.118922",
     "exception": false,
     "start_time": "2022-07-22T10:10:56.650349",
     "status": "completed"
    },
    "tags": []
   },
   "outputs": [],
   "source": [
    "import ABC_train_test2\n",
    "import friedman3Dataset\n",
    "import network\n",
    "import dataset\n",
    "import sanityChecks\n",
    "import torch \n",
    "import scrapbook as sb\n",
    "from statistics import mean \n",
    "import catboost as ctb \n",
    "from sklearn.model_selection import train_test_split\n",
    "from sklearn.metrics import mean_squared_error,mean_absolute_error\n",
    "import numpy as np\n",
    "from pytorch_tabnet.tab_model import TabNetRegressor"
   ]
  },
  {
   "cell_type": "markdown",
   "id": "2fa5b0f7",
   "metadata": {
    "id": "2fa5b0f7",
    "papermill": {
     "duration": 0.008007,
     "end_time": "2022-07-22T10:11:06.135107",
     "exception": false,
     "start_time": "2022-07-22T10:11:06.127100",
     "status": "completed"
    },
    "tags": []
   },
   "source": [
    "## Parameters "
   ]
  },
  {
   "cell_type": "code",
   "execution_count": 3,
   "id": "783186fb",
   "metadata": {
    "execution": {
     "iopub.execute_input": "2022-07-22T10:11:06.155884Z",
     "iopub.status.busy": "2022-07-22T10:11:06.154979Z",
     "iopub.status.idle": "2022-07-22T10:11:06.162908Z",
     "shell.execute_reply": "2022-07-22T10:11:06.161284Z"
    },
    "id": "783186fb",
    "papermill": {
     "duration": 0.022411,
     "end_time": "2022-07-22T10:11:06.166742",
     "exception": false,
     "start_time": "2022-07-22T10:11:06.144331",
     "status": "completed"
    },
    "tags": [
     "parameters"
    ]
   },
   "outputs": [],
   "source": [
    "variance = 1\n",
    "bias = 1 "
   ]
  },
  {
   "cell_type": "code",
   "execution_count": 4,
   "id": "db07cd97",
   "metadata": {
    "execution": {
     "iopub.execute_input": "2022-07-22T10:11:06.190734Z",
     "iopub.status.busy": "2022-07-22T10:11:06.190333Z",
     "iopub.status.idle": "2022-07-22T10:11:06.195720Z",
     "shell.execute_reply": "2022-07-22T10:11:06.194765Z"
    },
    "papermill": {
     "duration": 0.020268,
     "end_time": "2022-07-22T10:11:06.198323",
     "exception": false,
     "start_time": "2022-07-22T10:11:06.178055",
     "status": "completed"
    },
    "tags": [
     "injected-parameters"
    ]
   },
   "outputs": [],
   "source": [
    "# Parameters\n",
    "variance = 0.1\n",
    "bias = 0.1\n"
   ]
  },
  {
   "cell_type": "markdown",
   "id": "391cdbfd",
   "metadata": {
    "id": "391cdbfd",
    "papermill": {
     "duration": 0.011408,
     "end_time": "2022-07-22T10:11:06.218935",
     "exception": false,
     "start_time": "2022-07-22T10:11:06.207527",
     "status": "completed"
    },
    "tags": []
   },
   "source": [
    "## Dataset \n"
   ]
  },
  {
   "cell_type": "code",
   "execution_count": 5,
   "id": "5b51f161",
   "metadata": {
    "execution": {
     "iopub.execute_input": "2022-07-22T10:11:06.240290Z",
     "iopub.status.busy": "2022-07-22T10:11:06.239419Z",
     "iopub.status.idle": "2022-07-22T10:11:06.245909Z",
     "shell.execute_reply": "2022-07-22T10:11:06.244992Z"
    },
    "id": "5b51f161",
    "papermill": {
     "duration": 0.018633,
     "end_time": "2022-07-22T10:11:06.248849",
     "exception": false,
     "start_time": "2022-07-22T10:11:06.230216",
     "status": "completed"
    },
    "tags": []
   },
   "outputs": [],
   "source": [
    "#Parameters \n",
    "n_features = 4\n",
    "n_samples= 100\n",
    "n_target = 1"
   ]
  },
  {
   "cell_type": "code",
   "execution_count": 6,
   "id": "5d6eced4",
   "metadata": {
    "execution": {
     "iopub.execute_input": "2022-07-22T10:11:06.275414Z",
     "iopub.status.busy": "2022-07-22T10:11:06.274908Z",
     "iopub.status.idle": "2022-07-22T10:11:06.295738Z",
     "shell.execute_reply": "2022-07-22T10:11:06.294667Z"
    },
    "id": "5d6eced4",
    "papermill": {
     "duration": 0.041054,
     "end_time": "2022-07-22T10:11:06.299928",
     "exception": false,
     "start_time": "2022-07-22T10:11:06.258874",
     "status": "completed"
    },
    "tags": []
   },
   "outputs": [
    {
     "name": "stdout",
     "output_type": "stream",
     "text": [
      "          X1           X2        X3         X4         Y\n",
      "0  35.730761  1356.834582  0.977087   5.008729  1.666938\n",
      "1  74.317570  1240.515273  0.703892   5.125902  1.531833\n",
      "2  77.596321  1277.338206  0.425101   4.533707  1.551892\n",
      "3  84.281384  1377.911525  0.595254   4.614523  1.391332\n",
      "4  67.910671  1427.437845  0.408673  10.286826  1.570204\n"
     ]
    }
   ],
   "source": [
    "X,Y = friedman3Dataset.friedman3_data(n_samples)"
   ]
  },
  {
   "cell_type": "code",
   "execution_count": 7,
   "id": "fe007438",
   "metadata": {
    "execution": {
     "iopub.execute_input": "2022-07-22T10:11:06.318586Z",
     "iopub.status.busy": "2022-07-22T10:11:06.317886Z",
     "iopub.status.idle": "2022-07-22T10:11:06.324331Z",
     "shell.execute_reply": "2022-07-22T10:11:06.323309Z"
    },
    "id": "fe007438",
    "papermill": {
     "duration": 0.019615,
     "end_time": "2022-07-22T10:11:06.327934",
     "exception": false,
     "start_time": "2022-07-22T10:11:06.308319",
     "status": "completed"
    },
    "tags": []
   },
   "outputs": [],
   "source": [
    "#Train test split for dataset \n",
    "X_train,X_test,Y_train,Y_test = train_test_split(X,Y,test_size = 0.2)\n",
    "train_data = dataset.CustomDataset(X_train,Y_train)\n",
    "test_data = dataset.CustomDataset(X_test,Y_test)\n"
   ]
  },
  {
   "cell_type": "markdown",
   "id": "a9a1af34",
   "metadata": {
    "id": "a9a1af34",
    "papermill": {
     "duration": 0.010028,
     "end_time": "2022-07-22T10:11:06.346297",
     "exception": false,
     "start_time": "2022-07-22T10:11:06.336269",
     "status": "completed"
    },
    "tags": []
   },
   "source": [
    "## Training Parameters "
   ]
  },
  {
   "cell_type": "code",
   "execution_count": 8,
   "id": "952b7fc8",
   "metadata": {
    "execution": {
     "iopub.execute_input": "2022-07-22T10:11:06.365172Z",
     "iopub.status.busy": "2022-07-22T10:11:06.364394Z",
     "iopub.status.idle": "2022-07-22T10:11:06.370115Z",
     "shell.execute_reply": "2022-07-22T10:11:06.369094Z"
    },
    "id": "952b7fc8",
    "papermill": {
     "duration": 0.021027,
     "end_time": "2022-07-22T10:11:06.375508",
     "exception": false,
     "start_time": "2022-07-22T10:11:06.354481",
     "status": "completed"
    },
    "tags": []
   },
   "outputs": [],
   "source": [
    "batch_size = 32\n",
    "n_epochs = 1000\n",
    "#Select the device \n",
    "device = torch.device('cuda' if torch.cuda.is_available() else 'cpu')"
   ]
  },
  {
   "cell_type": "markdown",
   "id": "a95e1600",
   "metadata": {
    "id": "a95e1600",
    "papermill": {
     "duration": 0.008368,
     "end_time": "2022-07-22T10:11:06.393784",
     "exception": false,
     "start_time": "2022-07-22T10:11:06.385416",
     "status": "completed"
    },
    "tags": []
   },
   "source": [
    "# ABC Pre-generator Model \n",
    "\n",
    "1. The catboost model is used as a pre-generator model for the ABC-GAN. \n",
    "2. The model is first trained on the entire dataset \n",
    "3. It generats X,Y pairs and we add some Gaussian noise with mean 0 and variance 1 to it which is then feed as input to the generator.\n"
   ]
  },
  {
   "cell_type": "code",
   "execution_count": 9,
   "id": "ac011ebf",
   "metadata": {
    "execution": {
     "iopub.execute_input": "2022-07-22T10:11:06.413440Z",
     "iopub.status.busy": "2022-07-22T10:11:06.412736Z",
     "iopub.status.idle": "2022-07-22T10:11:36.397000Z",
     "shell.execute_reply": "2022-07-22T10:11:36.395633Z"
    },
    "papermill": {
     "duration": 29.99775,
     "end_time": "2022-07-22T10:11:36.399992",
     "exception": false,
     "start_time": "2022-07-22T10:11:06.402242",
     "status": "completed"
    },
    "tags": []
   },
   "outputs": [
    {
     "name": "stdout",
     "output_type": "stream",
     "text": [
      "Device used : cpu\n"
     ]
    },
    {
     "name": "stdout",
     "output_type": "stream",
     "text": [
      "epoch 0  | loss: 1.28171 | train_mse: 6.00258 | train_mae: 1.81871 |  0:00:00s\n",
      "epoch 1  | loss: 1.31378 | train_mse: 4.35228 | train_mae: 1.5964  |  0:00:00s\n",
      "epoch 2  | loss: 1.03532 | train_mse: 3.35299 | train_mae: 1.40883 |  0:00:00s\n"
     ]
    },
    {
     "name": "stdout",
     "output_type": "stream",
     "text": [
      "epoch 3  | loss: 0.90542 | train_mse: 2.6123  | train_mae: 1.23809 |  0:00:00s\n",
      "epoch 4  | loss: 0.68717 | train_mse: 2.17531 | train_mae: 1.13787 |  0:00:00s\n"
     ]
    },
    {
     "name": "stdout",
     "output_type": "stream",
     "text": [
      "epoch 5  | loss: 0.7211  | train_mse: 1.86598 | train_mae: 1.05786 |  0:00:00s\n",
      "epoch 6  | loss: 0.89911 | train_mse: 1.63944 | train_mae: 1.01293 |  0:00:00s\n"
     ]
    },
    {
     "name": "stdout",
     "output_type": "stream",
     "text": [
      "epoch 7  | loss: 0.71004 | train_mse: 1.43232 | train_mae: 0.94534 |  0:00:01s\n",
      "epoch 8  | loss: 0.72736 | train_mse: 1.29978 | train_mae: 0.90037 |  0:00:01s\n",
      "epoch 9  | loss: 0.65633 | train_mse: 1.30891 | train_mae: 0.89722 |  0:00:01s\n"
     ]
    },
    {
     "name": "stdout",
     "output_type": "stream",
     "text": [
      "epoch 10 | loss: 0.77736 | train_mse: 1.14694 | train_mae: 0.85386 |  0:00:01s\n",
      "epoch 11 | loss: 0.56492 | train_mse: 1.05801 | train_mae: 0.8192  |  0:00:01s\n",
      "epoch 12 | loss: 0.68588 | train_mse: 1.00216 | train_mae: 0.79684 |  0:00:01s\n"
     ]
    },
    {
     "name": "stdout",
     "output_type": "stream",
     "text": [
      "epoch 13 | loss: 0.53948 | train_mse: 0.95496 | train_mae: 0.77662 |  0:00:01s\n",
      "epoch 14 | loss: 0.58491 | train_mse: 0.91031 | train_mae: 0.75215 |  0:00:01s\n"
     ]
    },
    {
     "name": "stdout",
     "output_type": "stream",
     "text": [
      "epoch 15 | loss: 0.62818 | train_mse: 0.88163 | train_mae: 0.73141 |  0:00:01s\n",
      "epoch 16 | loss: 0.54752 | train_mse: 0.84601 | train_mae: 0.70519 |  0:00:01s\n",
      "epoch 17 | loss: 0.53976 | train_mse: 0.80691 | train_mae: 0.67526 |  0:00:01s\n"
     ]
    },
    {
     "name": "stdout",
     "output_type": "stream",
     "text": [
      "epoch 18 | loss: 0.71667 | train_mse: 0.78372 | train_mae: 0.66013 |  0:00:02s\n",
      "epoch 19 | loss: 0.67896 | train_mse: 0.74157 | train_mae: 0.63645 |  0:00:02s\n",
      "epoch 20 | loss: 0.52676 | train_mse: 0.71182 | train_mae: 0.61922 |  0:00:02s\n"
     ]
    },
    {
     "name": "stdout",
     "output_type": "stream",
     "text": [
      "epoch 21 | loss: 0.55782 | train_mse: 0.67599 | train_mae: 0.60295 |  0:00:02s\n",
      "epoch 22 | loss: 0.47472 | train_mse: 0.64857 | train_mae: 0.58755 |  0:00:02s\n",
      "epoch 23 | loss: 0.47163 | train_mse: 0.62015 | train_mae: 0.57256 |  0:00:02s\n"
     ]
    },
    {
     "name": "stdout",
     "output_type": "stream",
     "text": [
      "epoch 24 | loss: 0.52017 | train_mse: 0.59168 | train_mae: 0.55868 |  0:00:02s\n",
      "epoch 25 | loss: 0.5187  | train_mse: 0.57023 | train_mae: 0.54563 |  0:00:02s\n"
     ]
    },
    {
     "name": "stdout",
     "output_type": "stream",
     "text": [
      "epoch 26 | loss: 0.40356 | train_mse: 0.55538 | train_mae: 0.53824 |  0:00:02s\n",
      "epoch 27 | loss: 0.47694 | train_mse: 0.53168 | train_mae: 0.52582 |  0:00:02s\n",
      "epoch 28 | loss: 0.38639 | train_mse: 0.51459 | train_mae: 0.5171  |  0:00:03s\n"
     ]
    },
    {
     "name": "stdout",
     "output_type": "stream",
     "text": [
      "epoch 29 | loss: 0.41606 | train_mse: 0.49476 | train_mae: 0.50814 |  0:00:03s\n",
      "epoch 30 | loss: 0.5301  | train_mse: 0.48223 | train_mae: 0.50266 |  0:00:03s\n"
     ]
    },
    {
     "name": "stdout",
     "output_type": "stream",
     "text": [
      "epoch 31 | loss: 0.34935 | train_mse: 0.45479 | train_mae: 0.49    |  0:00:03s\n",
      "epoch 32 | loss: 0.41047 | train_mse: 0.41639 | train_mae: 0.47439 |  0:00:03s\n"
     ]
    },
    {
     "name": "stdout",
     "output_type": "stream",
     "text": [
      "epoch 33 | loss: 0.44439 | train_mse: 0.38224 | train_mae: 0.4604  |  0:00:03s\n",
      "epoch 34 | loss: 0.41595 | train_mse: 0.35637 | train_mae: 0.44747 |  0:00:03s\n"
     ]
    },
    {
     "name": "stdout",
     "output_type": "stream",
     "text": [
      "epoch 35 | loss: 0.28454 | train_mse: 0.33718 | train_mae: 0.43634 |  0:00:03s\n",
      "epoch 36 | loss: 0.39783 | train_mse: 0.32287 | train_mae: 0.42646 |  0:00:03s\n",
      "epoch 37 | loss: 0.37256 | train_mse: 0.30832 | train_mae: 0.41629 |  0:00:03s\n"
     ]
    },
    {
     "name": "stdout",
     "output_type": "stream",
     "text": [
      "epoch 38 | loss: 0.34478 | train_mse: 0.29181 | train_mae: 0.40659 |  0:00:04s\n",
      "epoch 39 | loss: 0.31136 | train_mse: 0.28423 | train_mae: 0.4008  |  0:00:04s\n",
      "epoch 40 | loss: 0.40858 | train_mse: 0.27481 | train_mae: 0.3931  |  0:00:04s\n"
     ]
    },
    {
     "name": "stdout",
     "output_type": "stream",
     "text": [
      "epoch 41 | loss: 0.37761 | train_mse: 0.27236 | train_mae: 0.39137 |  0:00:04s\n",
      "epoch 42 | loss: 0.34713 | train_mse: 0.26551 | train_mae: 0.38744 |  0:00:04s\n",
      "epoch 43 | loss: 0.36636 | train_mse: 0.26177 | train_mae: 0.3846  |  0:00:04s\n"
     ]
    },
    {
     "name": "stdout",
     "output_type": "stream",
     "text": [
      "epoch 44 | loss: 0.3192  | train_mse: 0.26186 | train_mae: 0.38575 |  0:00:04s\n",
      "epoch 45 | loss: 0.34846 | train_mse: 0.25903 | train_mae: 0.38614 |  0:00:04s\n"
     ]
    },
    {
     "name": "stdout",
     "output_type": "stream",
     "text": [
      "epoch 46 | loss: 0.51092 | train_mse: 0.25517 | train_mae: 0.38446 |  0:00:04s\n",
      "epoch 47 | loss: 0.34622 | train_mse: 0.25124 | train_mae: 0.3828  |  0:00:04s\n",
      "epoch 48 | loss: 0.35372 | train_mse: 0.25038 | train_mae: 0.38313 |  0:00:05s\n"
     ]
    },
    {
     "name": "stdout",
     "output_type": "stream",
     "text": [
      "epoch 49 | loss: 0.31401 | train_mse: 0.24111 | train_mae: 0.37488 |  0:00:05s\n",
      "epoch 50 | loss: 0.32225 | train_mse: 0.23913 | train_mae: 0.37276 |  0:00:05s\n",
      "epoch 51 | loss: 0.27144 | train_mse: 0.23424 | train_mae: 0.37177 |  0:00:05s\n"
     ]
    },
    {
     "name": "stdout",
     "output_type": "stream",
     "text": [
      "epoch 52 | loss: 0.38268 | train_mse: 0.22899 | train_mae: 0.36778 |  0:00:05s\n",
      "epoch 53 | loss: 0.27237 | train_mse: 0.22493 | train_mae: 0.36521 |  0:00:05s\n",
      "epoch 54 | loss: 0.21881 | train_mse: 0.22187 | train_mae: 0.36243 |  0:00:05s\n"
     ]
    },
    {
     "name": "stdout",
     "output_type": "stream",
     "text": [
      "epoch 55 | loss: 0.42177 | train_mse: 0.22535 | train_mae: 0.36474 |  0:00:05s\n",
      "epoch 56 | loss: 0.25319 | train_mse: 0.2197  | train_mae: 0.35874 |  0:00:05s\n"
     ]
    },
    {
     "name": "stdout",
     "output_type": "stream",
     "text": [
      "epoch 57 | loss: 0.19851 | train_mse: 0.21934 | train_mae: 0.35748 |  0:00:06s\n",
      "epoch 58 | loss: 0.26846 | train_mse: 0.21828 | train_mae: 0.35576 |  0:00:06s\n"
     ]
    },
    {
     "name": "stdout",
     "output_type": "stream",
     "text": [
      "epoch 59 | loss: 0.27925 | train_mse: 0.21719 | train_mae: 0.35268 |  0:00:06s\n",
      "epoch 60 | loss: 0.36149 | train_mse: 0.21172 | train_mae: 0.34858 |  0:00:06s\n",
      "epoch 61 | loss: 0.29249 | train_mse: 0.20772 | train_mae: 0.34602 |  0:00:06s\n"
     ]
    },
    {
     "name": "stdout",
     "output_type": "stream",
     "text": [
      "epoch 62 | loss: 0.35395 | train_mse: 0.20672 | train_mae: 0.34489 |  0:00:06s\n",
      "epoch 63 | loss: 0.30381 | train_mse: 0.20218 | train_mae: 0.34227 |  0:00:06s\n"
     ]
    },
    {
     "name": "stdout",
     "output_type": "stream",
     "text": [
      "epoch 64 | loss: 0.32728 | train_mse: 0.19806 | train_mae: 0.33705 |  0:00:06s\n",
      "epoch 65 | loss: 0.29652 | train_mse: 0.19769 | train_mae: 0.33752 |  0:00:06s\n"
     ]
    },
    {
     "name": "stdout",
     "output_type": "stream",
     "text": [
      "epoch 66 | loss: 0.41824 | train_mse: 0.1907  | train_mae: 0.33279 |  0:00:06s\n",
      "epoch 67 | loss: 0.26341 | train_mse: 0.18899 | train_mae: 0.33499 |  0:00:07s\n",
      "epoch 68 | loss: 0.30315 | train_mse: 0.1864  | train_mae: 0.33685 |  0:00:07s\n"
     ]
    },
    {
     "name": "stdout",
     "output_type": "stream",
     "text": [
      "epoch 69 | loss: 0.33564 | train_mse: 0.18677 | train_mae: 0.3413  |  0:00:07s\n",
      "epoch 70 | loss: 0.53014 | train_mse: 0.19695 | train_mae: 0.34652 |  0:00:07s\n",
      "epoch 71 | loss: 0.31258 | train_mse: 0.19875 | train_mae: 0.34269 |  0:00:07s\n"
     ]
    },
    {
     "name": "stdout",
     "output_type": "stream",
     "text": [
      "epoch 72 | loss: 0.29568 | train_mse: 0.1998  | train_mae: 0.34114 |  0:00:07s\n",
      "epoch 73 | loss: 0.28621 | train_mse: 0.19852 | train_mae: 0.33966 |  0:00:07s\n"
     ]
    },
    {
     "name": "stdout",
     "output_type": "stream",
     "text": [
      "epoch 74 | loss: 0.2944  | train_mse: 0.19592 | train_mae: 0.33844 |  0:00:07s\n",
      "epoch 75 | loss: 0.23841 | train_mse: 0.1878  | train_mae: 0.3336  |  0:00:07s\n",
      "epoch 76 | loss: 0.31332 | train_mse: 0.18305 | train_mae: 0.32926 |  0:00:07s\n"
     ]
    },
    {
     "name": "stdout",
     "output_type": "stream",
     "text": [
      "epoch 77 | loss: 0.45216 | train_mse: 0.1758  | train_mae: 0.32303 |  0:00:08s\n",
      "epoch 78 | loss: 0.30506 | train_mse: 0.17152 | train_mae: 0.32261 |  0:00:08s\n",
      "epoch 79 | loss: 0.14149 | train_mse: 0.16504 | train_mae: 0.31894 |  0:00:08s\n"
     ]
    },
    {
     "name": "stdout",
     "output_type": "stream",
     "text": [
      "epoch 80 | loss: 0.26856 | train_mse: 0.16056 | train_mae: 0.31858 |  0:00:08s\n",
      "epoch 81 | loss: 0.31858 | train_mse: 0.15662 | train_mae: 0.31534 |  0:00:08s\n",
      "epoch 82 | loss: 0.24129 | train_mse: 0.1518  | train_mae: 0.30939 |  0:00:08s\n"
     ]
    },
    {
     "name": "stdout",
     "output_type": "stream",
     "text": [
      "epoch 83 | loss: 0.29907 | train_mse: 0.14583 | train_mae: 0.30298 |  0:00:08s\n",
      "epoch 84 | loss: 0.18904 | train_mse: 0.14208 | train_mae: 0.29801 |  0:00:08s\n"
     ]
    },
    {
     "name": "stdout",
     "output_type": "stream",
     "text": [
      "epoch 85 | loss: 0.27065 | train_mse: 0.14068 | train_mae: 0.2981  |  0:00:08s\n",
      "epoch 86 | loss: 0.21325 | train_mse: 0.13862 | train_mae: 0.29893 |  0:00:08s\n",
      "epoch 87 | loss: 0.19717 | train_mse: 0.13609 | train_mae: 0.2989  |  0:00:08s\n"
     ]
    },
    {
     "name": "stdout",
     "output_type": "stream",
     "text": [
      "epoch 88 | loss: 0.209   | train_mse: 0.13269 | train_mae: 0.29566 |  0:00:09s\n",
      "epoch 89 | loss: 0.21055 | train_mse: 0.13016 | train_mae: 0.29324 |  0:00:09s\n",
      "epoch 90 | loss: 0.37296 | train_mse: 0.12637 | train_mae: 0.28949 |  0:00:09s\n"
     ]
    },
    {
     "name": "stdout",
     "output_type": "stream",
     "text": [
      "epoch 91 | loss: 0.21794 | train_mse: 0.12504 | train_mae: 0.28828 |  0:00:09s\n",
      "epoch 92 | loss: 0.25296 | train_mse: 0.12417 | train_mae: 0.28703 |  0:00:09s\n",
      "epoch 93 | loss: 0.12733 | train_mse: 0.12325 | train_mae: 0.28805 |  0:00:09s\n"
     ]
    },
    {
     "name": "stdout",
     "output_type": "stream",
     "text": [
      "epoch 94 | loss: 0.18521 | train_mse: 0.12063 | train_mae: 0.28308 |  0:00:09s\n",
      "epoch 95 | loss: 0.44282 | train_mse: 0.11893 | train_mae: 0.27986 |  0:00:09s\n"
     ]
    },
    {
     "name": "stdout",
     "output_type": "stream",
     "text": [
      "epoch 96 | loss: 0.21823 | train_mse: 0.11538 | train_mae: 0.27436 |  0:00:09s\n",
      "epoch 97 | loss: 0.26585 | train_mse: 0.11166 | train_mae: 0.26831 |  0:00:09s\n",
      "epoch 98 | loss: 0.19618 | train_mse: 0.11112 | train_mae: 0.26656 |  0:00:10s\n"
     ]
    },
    {
     "name": "stdout",
     "output_type": "stream",
     "text": [
      "epoch 99 | loss: 0.15111 | train_mse: 0.11063 | train_mae: 0.26651 |  0:00:10s\n",
      "epoch 100| loss: 0.16266 | train_mse: 0.11114 | train_mae: 0.26764 |  0:00:10s\n",
      "epoch 101| loss: 0.21582 | train_mse: 0.11241 | train_mae: 0.26874 |  0:00:10s\n"
     ]
    },
    {
     "name": "stdout",
     "output_type": "stream",
     "text": [
      "epoch 102| loss: 0.2142  | train_mse: 0.11455 | train_mae: 0.27471 |  0:00:10s\n",
      "epoch 103| loss: 0.18898 | train_mse: 0.11549 | train_mae: 0.27839 |  0:00:10s\n",
      "epoch 104| loss: 0.24583 | train_mse: 0.1166  | train_mae: 0.28059 |  0:00:10s\n"
     ]
    },
    {
     "name": "stdout",
     "output_type": "stream",
     "text": [
      "epoch 105| loss: 0.20025 | train_mse: 0.11714 | train_mae: 0.28161 |  0:00:10s\n",
      "epoch 106| loss: 0.17948 | train_mse: 0.11463 | train_mae: 0.27671 |  0:00:10s\n",
      "epoch 107| loss: 0.24297 | train_mse: 0.11148 | train_mae: 0.27184 |  0:00:10s\n"
     ]
    },
    {
     "name": "stdout",
     "output_type": "stream",
     "text": [
      "epoch 108| loss: 0.17469 | train_mse: 0.10827 | train_mae: 0.26742 |  0:00:10s\n",
      "epoch 109| loss: 0.21369 | train_mse: 0.106   | train_mae: 0.26467 |  0:00:11s\n",
      "epoch 110| loss: 0.17949 | train_mse: 0.10571 | train_mae: 0.26315 |  0:00:11s\n"
     ]
    },
    {
     "name": "stdout",
     "output_type": "stream",
     "text": [
      "epoch 111| loss: 0.1672  | train_mse: 0.10443 | train_mae: 0.25968 |  0:00:11s\n",
      "epoch 112| loss: 0.172   | train_mse: 0.10459 | train_mae: 0.25773 |  0:00:11s\n",
      "epoch 113| loss: 0.16529 | train_mse: 0.10278 | train_mae: 0.25541 |  0:00:11s\n"
     ]
    },
    {
     "name": "stdout",
     "output_type": "stream",
     "text": [
      "epoch 114| loss: 0.20723 | train_mse: 0.10169 | train_mae: 0.25272 |  0:00:11s\n",
      "epoch 115| loss: 0.15949 | train_mse: 0.10162 | train_mae: 0.2497  |  0:00:11s\n"
     ]
    },
    {
     "name": "stdout",
     "output_type": "stream",
     "text": [
      "epoch 116| loss: 0.12747 | train_mse: 0.10073 | train_mae: 0.24957 |  0:00:11s\n",
      "epoch 117| loss: 0.21906 | train_mse: 0.09962 | train_mae: 0.24764 |  0:00:11s\n",
      "epoch 118| loss: 0.20275 | train_mse: 0.09976 | train_mae: 0.24844 |  0:00:11s\n"
     ]
    },
    {
     "name": "stdout",
     "output_type": "stream",
     "text": [
      "epoch 119| loss: 0.26522 | train_mse: 0.09951 | train_mae: 0.24728 |  0:00:12s\n",
      "epoch 120| loss: 0.23167 | train_mse: 0.1002  | train_mae: 0.24934 |  0:00:12s\n",
      "epoch 121| loss: 0.25424 | train_mse: 0.09846 | train_mae: 0.24713 |  0:00:12s\n"
     ]
    },
    {
     "name": "stdout",
     "output_type": "stream",
     "text": [
      "epoch 122| loss: 0.18933 | train_mse: 0.09543 | train_mae: 0.24365 |  0:00:12s\n",
      "epoch 123| loss: 0.16646 | train_mse: 0.08974 | train_mae: 0.2376  |  0:00:12s\n",
      "epoch 124| loss: 0.22891 | train_mse: 0.08899 | train_mae: 0.2374  |  0:00:12s\n"
     ]
    },
    {
     "name": "stdout",
     "output_type": "stream",
     "text": [
      "epoch 125| loss: 0.16166 | train_mse: 0.0873  | train_mae: 0.23423 |  0:00:12s\n",
      "epoch 126| loss: 0.17998 | train_mse: 0.08699 | train_mae: 0.23506 |  0:00:12s\n"
     ]
    },
    {
     "name": "stdout",
     "output_type": "stream",
     "text": [
      "epoch 127| loss: 0.40183 | train_mse: 0.08799 | train_mae: 0.23712 |  0:00:12s\n",
      "epoch 128| loss: 0.14189 | train_mse: 0.08638 | train_mae: 0.23532 |  0:00:12s\n",
      "epoch 129| loss: 0.28858 | train_mse: 0.08666 | train_mae: 0.2362  |  0:00:12s\n"
     ]
    },
    {
     "name": "stdout",
     "output_type": "stream",
     "text": [
      "epoch 130| loss: 0.18778 | train_mse: 0.08466 | train_mae: 0.23631 |  0:00:13s\n",
      "epoch 131| loss: 0.19947 | train_mse: 0.08161 | train_mae: 0.22987 |  0:00:13s\n",
      "epoch 132| loss: 0.12972 | train_mse: 0.07982 | train_mae: 0.22503 |  0:00:13s\n"
     ]
    },
    {
     "name": "stdout",
     "output_type": "stream",
     "text": [
      "epoch 133| loss: 0.21675 | train_mse: 0.0784  | train_mae: 0.2232  |  0:00:13s\n",
      "epoch 134| loss: 0.13283 | train_mse: 0.07814 | train_mae: 0.22078 |  0:00:13s\n",
      "epoch 135| loss: 0.22724 | train_mse: 0.07854 | train_mae: 0.21997 |  0:00:13s\n"
     ]
    },
    {
     "name": "stdout",
     "output_type": "stream",
     "text": [
      "epoch 136| loss: 0.29058 | train_mse: 0.08134 | train_mae: 0.22295 |  0:00:13s\n",
      "epoch 137| loss: 0.28532 | train_mse: 0.08132 | train_mae: 0.22316 |  0:00:13s\n",
      "epoch 138| loss: 0.32026 | train_mse: 0.08299 | train_mae: 0.22584 |  0:00:13s\n"
     ]
    },
    {
     "name": "stdout",
     "output_type": "stream",
     "text": [
      "epoch 139| loss: 0.38981 | train_mse: 0.08129 | train_mae: 0.22539 |  0:00:13s\n"
     ]
    },
    {
     "name": "stdout",
     "output_type": "stream",
     "text": [
      "epoch 140| loss: 0.32448 | train_mse: 0.08009 | train_mae: 0.22376 |  0:00:14s\n",
      "epoch 141| loss: 0.18659 | train_mse: 0.08121 | train_mae: 0.22758 |  0:00:14s\n",
      "epoch 142| loss: 0.14925 | train_mse: 0.0803  | train_mae: 0.22865 |  0:00:14s\n"
     ]
    },
    {
     "name": "stdout",
     "output_type": "stream",
     "text": [
      "epoch 143| loss: 0.23276 | train_mse: 0.0782  | train_mae: 0.22695 |  0:00:14s\n",
      "epoch 144| loss: 0.14089 | train_mse: 0.0771  | train_mae: 0.22716 |  0:00:14s\n"
     ]
    },
    {
     "name": "stdout",
     "output_type": "stream",
     "text": [
      "epoch 145| loss: 0.19351 | train_mse: 0.07495 | train_mae: 0.22437 |  0:00:14s\n",
      "epoch 146| loss: 0.17027 | train_mse: 0.07309 | train_mae: 0.22158 |  0:00:14s\n",
      "epoch 147| loss: 0.28555 | train_mse: 0.0741  | train_mae: 0.22053 |  0:00:15s"
     ]
    },
    {
     "name": "stdout",
     "output_type": "stream",
     "text": [
      "\n",
      "epoch 148| loss: 0.17736 | train_mse: 0.07608 | train_mae: 0.22368 |  0:00:15s\n",
      "epoch 149| loss: 0.2112  | train_mse: 0.0784  | train_mae: 0.2247  |  0:00:15s\n"
     ]
    },
    {
     "name": "stdout",
     "output_type": "stream",
     "text": [
      "epoch 150| loss: 0.16832 | train_mse: 0.08171 | train_mae: 0.22524 |  0:00:15s\n",
      "epoch 151| loss: 0.1377  | train_mse: 0.08168 | train_mae: 0.22526 |  0:00:15s\n",
      "epoch 152| loss: 0.25744 | train_mse: 0.08043 | train_mae: 0.22562 |  0:00:15s\n"
     ]
    },
    {
     "name": "stdout",
     "output_type": "stream",
     "text": [
      "epoch 153| loss: 0.15635 | train_mse: 0.07808 | train_mae: 0.22606 |  0:00:15s\n",
      "epoch 154| loss: 0.2022  | train_mse: 0.07695 | train_mae: 0.22755 |  0:00:15s\n"
     ]
    },
    {
     "name": "stdout",
     "output_type": "stream",
     "text": [
      "epoch 155| loss: 0.19169 | train_mse: 0.0771  | train_mae: 0.22761 |  0:00:15s\n",
      "epoch 156| loss: 0.21344 | train_mse: 0.08105 | train_mae: 0.22869 |  0:00:15s\n",
      "epoch 157| loss: 0.2443  | train_mse: 0.08372 | train_mae: 0.22855 |  0:00:16s\n"
     ]
    },
    {
     "name": "stdout",
     "output_type": "stream",
     "text": [
      "epoch 158| loss: 0.1794  | train_mse: 0.08652 | train_mae: 0.22941 |  0:00:16s\n",
      "epoch 159| loss: 0.1878  | train_mse: 0.08161 | train_mae: 0.22745 |  0:00:16s\n",
      "epoch 160| loss: 0.26682 | train_mse: 0.07793 | train_mae: 0.22537 |  0:00:16s\n"
     ]
    },
    {
     "name": "stdout",
     "output_type": "stream",
     "text": [
      "epoch 161| loss: 0.1647  | train_mse: 0.07348 | train_mae: 0.21949 |  0:00:16s\n",
      "epoch 162| loss: 0.26583 | train_mse: 0.07202 | train_mae: 0.2192  |  0:00:16s\n",
      "epoch 163| loss: 0.18936 | train_mse: 0.07101 | train_mae: 0.21927 |  0:00:16s\n"
     ]
    },
    {
     "name": "stdout",
     "output_type": "stream",
     "text": [
      "epoch 164| loss: 0.215   | train_mse: 0.06994 | train_mae: 0.21767 |  0:00:16s\n",
      "epoch 165| loss: 0.23409 | train_mse: 0.06878 | train_mae: 0.21641 |  0:00:16s\n"
     ]
    },
    {
     "name": "stdout",
     "output_type": "stream",
     "text": [
      "epoch 166| loss: 0.23018 | train_mse: 0.06753 | train_mae: 0.21314 |  0:00:16s\n",
      "epoch 167| loss: 0.12867 | train_mse: 0.06768 | train_mae: 0.21187 |  0:00:16s\n",
      "epoch 168| loss: 0.28094 | train_mse: 0.06804 | train_mae: 0.21073 |  0:00:17s\n"
     ]
    },
    {
     "name": "stdout",
     "output_type": "stream",
     "text": [
      "epoch 169| loss: 0.13385 | train_mse: 0.06931 | train_mae: 0.21277 |  0:00:17s\n",
      "epoch 170| loss: 0.18072 | train_mse: 0.06839 | train_mae: 0.21137 |  0:00:17s\n",
      "epoch 171| loss: 0.18858 | train_mse: 0.06877 | train_mae: 0.21103 |  0:00:17s\n"
     ]
    },
    {
     "name": "stdout",
     "output_type": "stream",
     "text": [
      "epoch 172| loss: 0.10481 | train_mse: 0.06706 | train_mae: 0.20917 |  0:00:17s\n",
      "epoch 173| loss: 0.1899  | train_mse: 0.06418 | train_mae: 0.20504 |  0:00:17s\n",
      "epoch 174| loss: 0.1405  | train_mse: 0.06368 | train_mae: 0.2065  |  0:00:17s"
     ]
    },
    {
     "name": "stdout",
     "output_type": "stream",
     "text": [
      "\n",
      "epoch 175| loss: 0.18698 | train_mse: 0.06414 | train_mae: 0.20633 |  0:00:17s\n"
     ]
    },
    {
     "name": "stdout",
     "output_type": "stream",
     "text": [
      "epoch 176| loss: 0.14294 | train_mse: 0.0649  | train_mae: 0.20809 |  0:00:17s\n",
      "epoch 177| loss: 0.10382 | train_mse: 0.06964 | train_mae: 0.21515 |  0:00:17s\n",
      "epoch 178| loss: 0.1532  | train_mse: 0.07385 | train_mae: 0.21944 |  0:00:18s\n"
     ]
    },
    {
     "name": "stdout",
     "output_type": "stream",
     "text": [
      "epoch 179| loss: 0.11816 | train_mse: 0.07489 | train_mae: 0.21959 |  0:00:18s\n",
      "epoch 180| loss: 0.20309 | train_mse: 0.07405 | train_mae: 0.21879 |  0:00:18s\n",
      "epoch 181| loss: 0.15663 | train_mse: 0.07266 | train_mae: 0.21557 |  0:00:18s\n"
     ]
    },
    {
     "name": "stdout",
     "output_type": "stream",
     "text": [
      "epoch 182| loss: 0.16926 | train_mse: 0.07289 | train_mae: 0.2137  |  0:00:18s\n",
      "epoch 183| loss: 0.17664 | train_mse: 0.07149 | train_mae: 0.21096 |  0:00:18s\n",
      "epoch 184| loss: 0.18786 | train_mse: 0.06911 | train_mae: 0.20914 |  0:00:18s\n"
     ]
    },
    {
     "name": "stdout",
     "output_type": "stream",
     "text": [
      "epoch 185| loss: 0.15153 | train_mse: 0.06792 | train_mae: 0.20825 |  0:00:18s\n",
      "epoch 186| loss: 0.25742 | train_mse: 0.06686 | train_mae: 0.20685 |  0:00:18s\n"
     ]
    },
    {
     "name": "stdout",
     "output_type": "stream",
     "text": [
      "epoch 187| loss: 0.13059 | train_mse: 0.06776 | train_mae: 0.20763 |  0:00:18s\n",
      "epoch 188| loss: 0.30812 | train_mse: 0.06937 | train_mae: 0.20956 |  0:00:19s\n",
      "epoch 189| loss: 0.14867 | train_mse: 0.0685  | train_mae: 0.20997 |  0:00:19s"
     ]
    },
    {
     "name": "stdout",
     "output_type": "stream",
     "text": [
      "\n",
      "epoch 190| loss: 0.3015  | train_mse: 0.0667  | train_mae: 0.20794 |  0:00:19s\n",
      "epoch 191| loss: 0.17132 | train_mse: 0.06723 | train_mae: 0.20926 |  0:00:19s\n"
     ]
    },
    {
     "name": "stdout",
     "output_type": "stream",
     "text": [
      "epoch 192| loss: 0.17638 | train_mse: 0.06814 | train_mae: 0.20865 |  0:00:19s\n",
      "epoch 193| loss: 0.18554 | train_mse: 0.06703 | train_mae: 0.2046  |  0:00:19s\n",
      "epoch 194| loss: 0.12157 | train_mse: 0.06528 | train_mae: 0.20276 |  0:00:19s\n"
     ]
    },
    {
     "name": "stdout",
     "output_type": "stream",
     "text": [
      "epoch 195| loss: 0.21294 | train_mse: 0.06257 | train_mae: 0.19883 |  0:00:19s\n",
      "epoch 196| loss: 0.16313 | train_mse: 0.06104 | train_mae: 0.19764 |  0:00:19s\n",
      "epoch 197| loss: 0.23265 | train_mse: 0.05972 | train_mae: 0.19526 |  0:00:19s\n"
     ]
    },
    {
     "name": "stdout",
     "output_type": "stream",
     "text": [
      "epoch 198| loss: 0.16673 | train_mse: 0.05903 | train_mae: 0.19412 |  0:00:20s\n",
      "epoch 199| loss: 0.10896 | train_mse: 0.05802 | train_mae: 0.19111 |  0:00:20s\n",
      "epoch 200| loss: 0.16133 | train_mse: 0.05748 | train_mae: 0.18794 |  0:00:20s\n"
     ]
    },
    {
     "name": "stdout",
     "output_type": "stream",
     "text": [
      "epoch 201| loss: 0.13104 | train_mse: 0.0578  | train_mae: 0.1882  |  0:00:20s\n",
      "epoch 202| loss: 0.12852 | train_mse: 0.05766 | train_mae: 0.18677 |  0:00:20s\n",
      "epoch 203| loss: 0.21668 | train_mse: 0.05812 | train_mae: 0.18865 |  0:00:20s\n"
     ]
    },
    {
     "name": "stdout",
     "output_type": "stream",
     "text": [
      "epoch 204| loss: 0.21997 | train_mse: 0.0579  | train_mae: 0.18827 |  0:00:20s\n",
      "epoch 205| loss: 0.14692 | train_mse: 0.05907 | train_mae: 0.19132 |  0:00:20s\n"
     ]
    },
    {
     "name": "stdout",
     "output_type": "stream",
     "text": [
      "epoch 206| loss: 0.27269 | train_mse: 0.05913 | train_mae: 0.1921  |  0:00:20s\n",
      "epoch 207| loss: 0.14393 | train_mse: 0.06106 | train_mae: 0.19394 |  0:00:20s\n",
      "epoch 208| loss: 0.30851 | train_mse: 0.06659 | train_mae: 0.19636 |  0:00:20s\n"
     ]
    },
    {
     "name": "stdout",
     "output_type": "stream",
     "text": [
      "epoch 209| loss: 0.11476 | train_mse: 0.06543 | train_mae: 0.19618 |  0:00:21s\n",
      "epoch 210| loss: 0.11427 | train_mse: 0.06556 | train_mae: 0.19678 |  0:00:21s\n",
      "epoch 211| loss: 0.18155 | train_mse: 0.06553 | train_mae: 0.19808 |  0:00:21s\n"
     ]
    },
    {
     "name": "stdout",
     "output_type": "stream",
     "text": [
      "epoch 212| loss: 0.2122  | train_mse: 0.06859 | train_mae: 0.20319 |  0:00:21s\n",
      "epoch 213| loss: 0.13294 | train_mse: 0.0636  | train_mae: 0.2012  |  0:00:21s\n",
      "epoch 214| loss: 0.22874 | train_mse: 0.06208 | train_mae: 0.19861 |  0:00:21s\n"
     ]
    },
    {
     "name": "stdout",
     "output_type": "stream",
     "text": [
      "epoch 215| loss: 0.09726 | train_mse: 0.06215 | train_mae: 0.19713 |  0:00:21s\n",
      "epoch 216| loss: 0.15367 | train_mse: 0.06419 | train_mae: 0.19693 |  0:00:21s\n"
     ]
    },
    {
     "name": "stdout",
     "output_type": "stream",
     "text": [
      "epoch 217| loss: 0.09548 | train_mse: 0.06495 | train_mae: 0.19718 |  0:00:21s\n",
      "epoch 218| loss: 0.16186 | train_mse: 0.06271 | train_mae: 0.1948  |  0:00:21s\n",
      "epoch 219| loss: 0.09446 | train_mse: 0.05944 | train_mae: 0.19    |  0:00:21s\n"
     ]
    },
    {
     "name": "stdout",
     "output_type": "stream",
     "text": [
      "epoch 220| loss: 0.1957  | train_mse: 0.05497 | train_mae: 0.18517 |  0:00:22s\n",
      "epoch 221| loss: 0.2743  | train_mse: 0.0545  | train_mae: 0.1859  |  0:00:22s\n"
     ]
    },
    {
     "name": "stdout",
     "output_type": "stream",
     "text": [
      "epoch 222| loss: 0.23045 | train_mse: 0.05563 | train_mae: 0.1876  |  0:00:22s\n",
      "epoch 223| loss: 0.12368 | train_mse: 0.05827 | train_mae: 0.19134 |  0:00:22s\n",
      "epoch 224| loss: 0.12911 | train_mse: 0.06054 | train_mae: 0.19337 |  0:00:22s\n"
     ]
    },
    {
     "name": "stdout",
     "output_type": "stream",
     "text": [
      "epoch 225| loss: 0.16893 | train_mse: 0.06182 | train_mae: 0.1974  |  0:00:22s\n",
      "epoch 226| loss: 0.17223 | train_mse: 0.06037 | train_mae: 0.1987  |  0:00:22s\n",
      "epoch 227| loss: 0.13871 | train_mse: 0.05938 | train_mae: 0.19731 |  0:00:22s\n"
     ]
    },
    {
     "name": "stdout",
     "output_type": "stream",
     "text": [
      "epoch 228| loss: 0.09397 | train_mse: 0.05865 | train_mae: 0.19725 |  0:00:22s\n",
      "epoch 229| loss: 0.16437 | train_mse: 0.05873 | train_mae: 0.19566 |  0:00:22s\n",
      "epoch 230| loss: 0.17336 | train_mse: 0.05988 | train_mae: 0.19612 |  0:00:23s\n"
     ]
    },
    {
     "name": "stdout",
     "output_type": "stream",
     "text": [
      "epoch 231| loss: 0.11249 | train_mse: 0.05927 | train_mae: 0.19311 |  0:00:23s\n",
      "epoch 232| loss: 0.21735 | train_mse: 0.05764 | train_mae: 0.18837 |  0:00:23s\n",
      "epoch 233| loss: 0.20911 | train_mse: 0.05701 | train_mae: 0.18529 |  0:00:23s\n"
     ]
    },
    {
     "name": "stdout",
     "output_type": "stream",
     "text": [
      "epoch 234| loss: 0.12039 | train_mse: 0.05625 | train_mae: 0.18364 |  0:00:23s\n",
      "epoch 235| loss: 0.12279 | train_mse: 0.05787 | train_mae: 0.18659 |  0:00:23s\n",
      "epoch 236| loss: 0.32776 | train_mse: 0.05859 | train_mae: 0.18751 |  0:00:23s\n"
     ]
    },
    {
     "name": "stdout",
     "output_type": "stream",
     "text": [
      "epoch 237| loss: 0.09603 | train_mse: 0.06023 | train_mae: 0.18954 |  0:00:23s\n",
      "epoch 238| loss: 0.10257 | train_mse: 0.0592  | train_mae: 0.18949 |  0:00:23s\n"
     ]
    },
    {
     "name": "stdout",
     "output_type": "stream",
     "text": [
      "epoch 239| loss: 0.10372 | train_mse: 0.05933 | train_mae: 0.19417 |  0:00:23s\n",
      "epoch 240| loss: 0.13102 | train_mse: 0.05984 | train_mae: 0.19563 |  0:00:23s\n",
      "epoch 241| loss: 0.08903 | train_mse: 0.063   | train_mae: 0.19949 |  0:00:24s\n"
     ]
    },
    {
     "name": "stdout",
     "output_type": "stream",
     "text": [
      "epoch 242| loss: 0.15759 | train_mse: 0.06306 | train_mae: 0.19848 |  0:00:24s\n",
      "epoch 243| loss: 0.11369 | train_mse: 0.06345 | train_mae: 0.199   |  0:00:24s\n",
      "epoch 244| loss: 0.15453 | train_mse: 0.0616  | train_mae: 0.19516 |  0:00:24s\n"
     ]
    },
    {
     "name": "stdout",
     "output_type": "stream",
     "text": [
      "epoch 245| loss: 0.08069 | train_mse: 0.05727 | train_mae: 0.18835 |  0:00:24s\n",
      "epoch 246| loss: 0.13346 | train_mse: 0.05534 | train_mae: 0.18433 |  0:00:24s\n",
      "epoch 247| loss: 0.18393 | train_mse: 0.05371 | train_mae: 0.1819  |  0:00:24s\n"
     ]
    },
    {
     "name": "stdout",
     "output_type": "stream",
     "text": [
      "epoch 248| loss: 0.08162 | train_mse: 0.05147 | train_mae: 0.17985 |  0:00:24s\n",
      "epoch 249| loss: 0.07802 | train_mse: 0.05018 | train_mae: 0.17768 |  0:00:24s\n"
     ]
    },
    {
     "name": "stdout",
     "output_type": "stream",
     "text": [
      "epoch 250| loss: 0.09626 | train_mse: 0.04707 | train_mae: 0.17145 |  0:00:24s\n",
      "epoch 251| loss: 0.10073 | train_mse: 0.04365 | train_mae: 0.16582 |  0:00:25s\n",
      "epoch 252| loss: 0.19078 | train_mse: 0.04209 | train_mae: 0.16329 |  0:00:25s\n"
     ]
    },
    {
     "name": "stdout",
     "output_type": "stream",
     "text": [
      "epoch 253| loss: 0.15777 | train_mse: 0.04182 | train_mae: 0.16328 |  0:00:25s\n",
      "epoch 254| loss: 0.23435 | train_mse: 0.04087 | train_mae: 0.15939 |  0:00:25s\n",
      "epoch 255| loss: 0.16499 | train_mse: 0.04273 | train_mae: 0.1597  |  0:00:25s\n"
     ]
    },
    {
     "name": "stdout",
     "output_type": "stream",
     "text": [
      "epoch 256| loss: 0.14238 | train_mse: 0.04316 | train_mae: 0.16046 |  0:00:25s\n",
      "epoch 257| loss: 0.18374 | train_mse: 0.04376 | train_mae: 0.16284 |  0:00:25s\n",
      "epoch 258| loss: 0.1643  | train_mse: 0.0445  | train_mae: 0.16545 |  0:00:25s\n"
     ]
    },
    {
     "name": "stdout",
     "output_type": "stream",
     "text": [
      "epoch 259| loss: 0.1508  | train_mse: 0.04588 | train_mae: 0.16651 |  0:00:25s\n",
      "epoch 260| loss: 0.24315 | train_mse: 0.04778 | train_mae: 0.16864 |  0:00:25s\n",
      "epoch 261| loss: 0.11714 | train_mse: 0.04958 | train_mae: 0.17124 |  0:00:25s\n"
     ]
    },
    {
     "name": "stdout",
     "output_type": "stream",
     "text": [
      "epoch 262| loss: 0.11003 | train_mse: 0.05218 | train_mae: 0.17336 |  0:00:26s\n",
      "epoch 263| loss: 0.26262 | train_mse: 0.05104 | train_mae: 0.17202 |  0:00:26s\n",
      "epoch 264| loss: 0.21081 | train_mse: 0.0493  | train_mae: 0.17232 |  0:00:26s\n"
     ]
    },
    {
     "name": "stdout",
     "output_type": "stream",
     "text": [
      "epoch 265| loss: 0.15778 | train_mse: 0.04987 | train_mae: 0.17471 |  0:00:26s\n",
      "epoch 266| loss: 0.09755 | train_mse: 0.05002 | train_mae: 0.17803 |  0:00:26s\n",
      "epoch 267| loss: 0.22139 | train_mse: 0.05171 | train_mae: 0.18161 |  0:00:26s\n"
     ]
    },
    {
     "name": "stdout",
     "output_type": "stream",
     "text": [
      "epoch 268| loss: 0.07373 | train_mse: 0.05238 | train_mae: 0.18358 |  0:00:26s\n",
      "epoch 269| loss: 0.2032  | train_mse: 0.05291 | train_mae: 0.18696 |  0:00:26s\n",
      "epoch 270| loss: 0.11153 | train_mse: 0.0529  | train_mae: 0.18802 |  0:00:26s"
     ]
    },
    {
     "name": "stdout",
     "output_type": "stream",
     "text": [
      "\n",
      "epoch 271| loss: 0.11472 | train_mse: 0.05115 | train_mae: 0.18493 |  0:00:26s\n",
      "epoch 272| loss: 0.08273 | train_mse: 0.05014 | train_mae: 0.18121 |  0:00:27s\n"
     ]
    },
    {
     "name": "stdout",
     "output_type": "stream",
     "text": [
      "epoch 273| loss: 0.12626 | train_mse: 0.04961 | train_mae: 0.17727 |  0:00:27s\n",
      "epoch 274| loss: 0.17792 | train_mse: 0.05045 | train_mae: 0.17672 |  0:00:27s\n",
      "epoch 275| loss: 0.2267  | train_mse: 0.0501  | train_mae: 0.17653 |  0:00:27s\n"
     ]
    },
    {
     "name": "stdout",
     "output_type": "stream",
     "text": [
      "epoch 276| loss: 0.17795 | train_mse: 0.04878 | train_mae: 0.17496 |  0:00:27s\n",
      "epoch 277| loss: 0.14994 | train_mse: 0.04781 | train_mae: 0.17297 |  0:00:27s\n",
      "epoch 278| loss: 0.13831 | train_mse: 0.04626 | train_mae: 0.16588 |  0:00:27s\n"
     ]
    },
    {
     "name": "stdout",
     "output_type": "stream",
     "text": [
      "epoch 279| loss: 0.09514 | train_mse: 0.0457  | train_mae: 0.16403 |  0:00:27s\n",
      "epoch 280| loss: 0.12523 | train_mse: 0.04544 | train_mae: 0.16484 |  0:00:27s\n"
     ]
    },
    {
     "name": "stdout",
     "output_type": "stream",
     "text": [
      "epoch 281| loss: 0.18758 | train_mse: 0.04604 | train_mae: 0.16408 |  0:00:27s\n",
      "epoch 282| loss: 0.21463 | train_mse: 0.04751 | train_mae: 0.16516 |  0:00:27s\n",
      "epoch 283| loss: 0.07923 | train_mse: 0.04899 | train_mae: 0.16676 |  0:00:28s\n"
     ]
    },
    {
     "name": "stdout",
     "output_type": "stream",
     "text": [
      "epoch 284| loss: 0.1874  | train_mse: 0.05131 | train_mae: 0.17151 |  0:00:28s\n",
      "epoch 285| loss: 0.19761 | train_mse: 0.05316 | train_mae: 0.17391 |  0:00:28s\n",
      "epoch 286| loss: 0.11921 | train_mse: 0.053   | train_mae: 0.17318 |  0:00:28s\n"
     ]
    },
    {
     "name": "stdout",
     "output_type": "stream",
     "text": [
      "epoch 287| loss: 0.14392 | train_mse: 0.05247 | train_mae: 0.17204 |  0:00:28s\n",
      "epoch 288| loss: 0.11919 | train_mse: 0.05178 | train_mae: 0.17263 |  0:00:28s\n",
      "epoch 289| loss: 0.13296 | train_mse: 0.05318 | train_mae: 0.17367 |  0:00:28s\n"
     ]
    },
    {
     "name": "stdout",
     "output_type": "stream",
     "text": [
      "epoch 290| loss: 0.10675 | train_mse: 0.05642 | train_mae: 0.17867 |  0:00:28s\n",
      "epoch 291| loss: 0.10851 | train_mse: 0.05768 | train_mae: 0.18222 |  0:00:28s\n"
     ]
    },
    {
     "name": "stdout",
     "output_type": "stream",
     "text": [
      "epoch 292| loss: 0.09901 | train_mse: 0.05698 | train_mae: 0.18212 |  0:00:28s\n",
      "epoch 293| loss: 0.12229 | train_mse: 0.05369 | train_mae: 0.17843 |  0:00:28s\n",
      "epoch 294| loss: 0.14169 | train_mse: 0.04937 | train_mae: 0.17318 |  0:00:29s\n"
     ]
    },
    {
     "name": "stdout",
     "output_type": "stream",
     "text": [
      "epoch 295| loss: 0.09294 | train_mse: 0.04862 | train_mae: 0.16944 |  0:00:29s\n",
      "epoch 296| loss: 0.20674 | train_mse: 0.04553 | train_mae: 0.16547 |  0:00:29s\n",
      "epoch 297| loss: 0.12843 | train_mse: 0.04498 | train_mae: 0.16412 |  0:00:29s\n"
     ]
    },
    {
     "name": "stdout",
     "output_type": "stream",
     "text": [
      "epoch 298| loss: 0.158   | train_mse: 0.04387 | train_mae: 0.16237 |  0:00:29s\n",
      "epoch 299| loss: 0.08855 | train_mse: 0.04348 | train_mae: 0.16224 |  0:00:29s\n",
      "epoch 300| loss: 0.15825 | train_mse: 0.0432  | train_mae: 0.16181 |  0:00:29s\n"
     ]
    },
    {
     "name": "stdout",
     "output_type": "stream",
     "text": [
      "epoch 301| loss: 0.12725 | train_mse: 0.04407 | train_mae: 0.16286 |  0:00:29s\n",
      "epoch 302| loss: 0.18878 | train_mse: 0.04515 | train_mae: 0.16352 |  0:00:29s\n",
      "epoch 303| loss: 0.0819  | train_mse: 0.04758 | train_mae: 0.16578 |  0:00:29s\n"
     ]
    },
    {
     "name": "stdout",
     "output_type": "stream",
     "text": [
      "epoch 304| loss: 0.11886 | train_mse: 0.04917 | train_mae: 0.16703 |  0:00:29s\n",
      "\n",
      "Early stopping occurred at epoch 304 with best_epoch = 254 and best_train_mae = 0.15939\n",
      "Best weights from best epoch are automatically used!\n"
     ]
    }
   ],
   "source": [
    "#Train the Model\n",
    "\n",
    "Y_train = np.reshape(Y_train, (-1, 1))\n",
    "Y_test = np.reshape(Y_test, (-1, 1))\n",
    "\n",
    "prior_model = TabNetRegressor(optimizer_fn=torch.optim.Adam, optimizer_params=dict(lr = 0.001),\n",
    "          #scheduler_params={\"step_size\":10, ], \"gamma\":0.9},\n",
    "          #scheduler_fn=torch.optim.lr_scheduler.StepLR\n",
    "          )  #TabNetRegressor()\n",
    "\n",
    "prior_model.fit(X_train,Y_train,eval_set=[(X_train, Y_train)],\n",
    "            eval_name=['train'], \n",
    "            eval_metric=[ 'mse', 'mae'], \n",
    "            max_epochs = n_epochs, \n",
    "            batch_size = batch_size,\n",
    "            patience=50\n",
    "            )"
   ]
  },
  {
   "cell_type": "code",
   "execution_count": 10,
   "id": "af65dcda",
   "metadata": {
    "execution": {
     "iopub.execute_input": "2022-07-22T10:11:36.453753Z",
     "iopub.status.busy": "2022-07-22T10:11:36.450318Z",
     "iopub.status.idle": "2022-07-22T10:11:36.532206Z",
     "shell.execute_reply": "2022-07-22T10:11:36.530135Z"
    },
    "id": "af65dcda",
    "papermill": {
     "duration": 0.11774,
     "end_time": "2022-07-22T10:11:36.534998",
     "exception": false,
     "start_time": "2022-07-22T10:11:36.417258",
     "status": "completed"
    },
    "tags": []
   },
   "outputs": [
    {
     "data": {
      "application/scrapbook.scrap.json+json": {
       "data": 0.2227280104340498,
       "encoder": "json",
       "name": "Prior Model MSE",
       "version": 1
      }
     },
     "metadata": {
      "scrapbook": {
       "data": true,
       "display": false,
       "name": "Prior Model MSE"
      }
     },
     "output_type": "display_data"
    },
    {
     "data": {
      "application/scrapbook.scrap.json+json": {
       "data": 0.21440650930129518,
       "encoder": "json",
       "name": "ABC Pre-generator MSE",
       "version": 1
      }
     },
     "metadata": {
      "scrapbook": {
       "data": true,
       "display": false,
       "name": "ABC Pre-generator MSE"
      }
     },
     "output_type": "display_data"
    },
    {
     "data": {
      "application/scrapbook.scrap.json+json": {
       "data": 0.3729023264031657,
       "encoder": "json",
       "name": "Prior Model MAE",
       "version": 1
      }
     },
     "metadata": {
      "scrapbook": {
       "data": true,
       "display": false,
       "name": "Prior Model MAE"
      }
     },
     "output_type": "display_data"
    },
    {
     "name": "stdout",
     "output_type": "stream",
     "text": [
      "Prior Model MAE 0.3729023264031657\n"
     ]
    },
    {
     "data": {
      "application/scrapbook.scrap.json+json": {
       "data": 0.3609532346007588,
       "encoder": "json",
       "name": "ABC Pre-generator MAE",
       "version": 1
      }
     },
     "metadata": {
      "scrapbook": {
       "data": true,
       "display": false,
       "name": "ABC Pre-generator MAE"
      }
     },
     "output_type": "display_data"
    },
    {
     "name": "stdout",
     "output_type": "stream",
     "text": [
      "ABC Pre-generator MAE 0.3609532346007588\n"
     ]
    }
   ],
   "source": [
    "y_pred = prior_model.predict(X_test)\n",
    "y_abc = y_pred + np.random.normal(0,variance, y_pred.shape) + bias \n",
    "mse = mean_squared_error(y_pred,Y_test)\n",
    "sb.glue(\"Prior Model MSE\",mse)\n",
    "mse = mean_squared_error(y_abc,Y_test)\n",
    "sb.glue(\"ABC Pre-generator MSE\",mse)\n",
    "mae = mean_absolute_error(y_pred,Y_test)\n",
    "sb.glue(\"Prior Model MAE\",mae)\n",
    "print(\"Prior Model MAE\",mae)\n",
    "mae = mean_absolute_error(y_abc,Y_test)\n",
    "sb.glue(\"ABC Pre-generator MAE\",mae)\n",
    "print(\"ABC Pre-generator MAE\",mae)"
   ]
  },
  {
   "cell_type": "markdown",
   "id": "25609da2",
   "metadata": {
    "papermill": {
     "duration": 0.018409,
     "end_time": "2022-07-22T10:11:36.572812",
     "exception": false,
     "start_time": "2022-07-22T10:11:36.554403",
     "status": "completed"
    },
    "tags": []
   },
   "source": [
    "# mGAN Model"
   ]
  },
  {
   "cell_type": "code",
   "execution_count": 11,
   "id": "dfc3464d",
   "metadata": {
    "execution": {
     "iopub.execute_input": "2022-07-22T10:11:36.609652Z",
     "iopub.status.busy": "2022-07-22T10:11:36.609113Z",
     "iopub.status.idle": "2022-07-22T10:11:36.619396Z",
     "shell.execute_reply": "2022-07-22T10:11:36.618137Z"
    },
    "papermill": {
     "duration": 0.032814,
     "end_time": "2022-07-22T10:11:36.622348",
     "exception": false,
     "start_time": "2022-07-22T10:11:36.589534",
     "status": "completed"
    },
    "tags": []
   },
   "outputs": [],
   "source": [
    "# gen = network.Generator(n_features+1).to(device)\n",
    "# disc = network.Discriminator(n_features+1).to(device)\n",
    "\n",
    "# criterion = torch.nn.BCELoss()\n",
    "# gen_opt = torch.optim.Adam(gen.parameters(), lr=0.001, betas=(0.5, 0.999))\n",
    "# disc_opt = torch.optim.Adam(disc.parameters(), lr=0.001, betas=(0.5, 0.999))"
   ]
  },
  {
   "cell_type": "code",
   "execution_count": 12,
   "id": "b75fdd85",
   "metadata": {
    "execution": {
     "iopub.execute_input": "2022-07-22T10:11:36.659196Z",
     "iopub.status.busy": "2022-07-22T10:11:36.658865Z",
     "iopub.status.idle": "2022-07-22T10:11:36.663013Z",
     "shell.execute_reply": "2022-07-22T10:11:36.661951Z"
    },
    "papermill": {
     "duration": 0.02621,
     "end_time": "2022-07-22T10:11:36.666440",
     "exception": false,
     "start_time": "2022-07-22T10:11:36.640230",
     "status": "completed"
    },
    "tags": []
   },
   "outputs": [],
   "source": [
    "#Training the ABC_GAN \n",
    "# ABC_train_test2.training_GAN(disc,gen,disc_opt,gen_opt,train_data,batch_size,n_epochs,criterion,prior_model,variance,bias,device)"
   ]
  },
  {
   "cell_type": "code",
   "execution_count": 13,
   "id": "1fa7c368",
   "metadata": {
    "execution": {
     "iopub.execute_input": "2022-07-22T10:11:36.716319Z",
     "iopub.status.busy": "2022-07-22T10:11:36.715879Z",
     "iopub.status.idle": "2022-07-22T10:11:36.721765Z",
     "shell.execute_reply": "2022-07-22T10:11:36.719689Z"
    },
    "papermill": {
     "duration": 0.03448,
     "end_time": "2022-07-22T10:11:36.725051",
     "exception": false,
     "start_time": "2022-07-22T10:11:36.690571",
     "status": "completed"
    },
    "tags": []
   },
   "outputs": [],
   "source": [
    "# ABC_GAN1_metrics=ABC_train_test2.test_generator(gen,test_data,prior_model,variance,bias,\"1\",device)\n",
    "# sb.glue(\"ABC_GAN_1 Metrics\",ABC_GAN1_metrics)\n",
    "\n",
    "# print(\"MAE\")\n",
    "# print(mean(ABC_GAN1_metrics[1]))"
   ]
  },
  {
   "cell_type": "code",
   "execution_count": 14,
   "id": "eb22ce5c",
   "metadata": {
    "execution": {
     "iopub.execute_input": "2022-07-22T10:11:36.765031Z",
     "iopub.status.busy": "2022-07-22T10:11:36.764539Z",
     "iopub.status.idle": "2022-07-22T10:11:36.768600Z",
     "shell.execute_reply": "2022-07-22T10:11:36.767704Z"
    },
    "papermill": {
     "duration": 0.026392,
     "end_time": "2022-07-22T10:11:36.772755",
     "exception": false,
     "start_time": "2022-07-22T10:11:36.746363",
     "status": "completed"
    },
    "tags": []
   },
   "outputs": [],
   "source": [
    "# sanityChecks.discProbVsError(train_data,disc,device)\n",
    "# sanityChecks.discProbVsError(test_data,disc,device)"
   ]
  },
  {
   "cell_type": "markdown",
   "id": "cd66ea95",
   "metadata": {
    "papermill": {
     "duration": 0.016696,
     "end_time": "2022-07-22T10:11:36.810535",
     "exception": false,
     "start_time": "2022-07-22T10:11:36.793839",
     "status": "completed"
    },
    "tags": []
   },
   "source": [
    "# mGAN Model with TabNet Generator"
   ]
  },
  {
   "cell_type": "code",
   "execution_count": 15,
   "id": "07e67d59",
   "metadata": {
    "execution": {
     "iopub.execute_input": "2022-07-22T10:11:36.849809Z",
     "iopub.status.busy": "2022-07-22T10:11:36.849393Z",
     "iopub.status.idle": "2022-07-22T10:11:36.899726Z",
     "shell.execute_reply": "2022-07-22T10:11:36.895151Z"
    },
    "papermill": {
     "duration": 0.075287,
     "end_time": "2022-07-22T10:11:36.902770",
     "exception": false,
     "start_time": "2022-07-22T10:11:36.827483",
     "status": "completed"
    },
    "tags": []
   },
   "outputs": [],
   "source": [
    "gen2 = network.GeneratorTabnet(n_features+1).to(device)\n",
    "disc2 = network.Discriminator(n_features+1).to(device)\n",
    "\n",
    "criterion = torch.nn.BCELoss()\n",
    "gen_opt = torch.optim.Adam(gen2.parameters(), lr=0.001, betas=(0.5, 0.999))\n",
    "disc_opt = torch.optim.Adam(disc2.parameters(), lr=0.001, betas=(0.5, 0.999))"
   ]
  },
  {
   "cell_type": "code",
   "execution_count": 16,
   "id": "e6173056",
   "metadata": {
    "execution": {
     "iopub.execute_input": "2022-07-22T10:11:36.939025Z",
     "iopub.status.busy": "2022-07-22T10:11:36.938691Z",
     "iopub.status.idle": "2022-07-22T10:14:26.255897Z",
     "shell.execute_reply": "2022-07-22T10:14:26.254656Z"
    },
    "papermill": {
     "duration": 169.339933,
     "end_time": "2022-07-22T10:14:26.258967",
     "exception": false,
     "start_time": "2022-07-22T10:11:36.919034",
     "status": "completed"
    },
    "tags": []
   },
   "outputs": [
    {
     "data": {
      "image/png": "[encoded data removed]",
      "text/plain": [
       "<Figure size 432x288 with 1 Axes>"
      ]
     },
     "metadata": {
      "needs_background": "light"
     },
     "output_type": "display_data"
    },
    {
     "data": {
      "image/png": "[encoded data removed]",
      "text/plain": [
       "<Figure size 432x288 with 1 Axes>"
      ]
     },
     "metadata": {
      "needs_background": "light"
     },
     "output_type": "display_data"
    }
   ],
   "source": [
    "#Training the ABC_GAN \n",
    "ABC_train_test2.training_GAN(disc2,gen2,disc_opt,gen_opt,train_data,batch_size,n_epochs,criterion,prior_model,variance,bias,device)"
   ]
  },
  {
   "cell_type": "code",
   "execution_count": 17,
   "id": "a6c01035",
   "metadata": {
    "execution": {
     "iopub.execute_input": "2022-07-22T10:14:26.296618Z",
     "iopub.status.busy": "2022-07-22T10:14:26.296200Z",
     "iopub.status.idle": "2022-07-22T10:14:28.097245Z",
     "shell.execute_reply": "2022-07-22T10:14:28.095859Z"
    },
    "papermill": {
     "duration": 1.825101,
     "end_time": "2022-07-22T10:14:28.101493",
     "exception": false,
     "start_time": "2022-07-22T10:14:26.276392",
     "status": "completed"
    },
    "tags": []
   },
   "outputs": [
    {
     "data": {
      "application/scrapbook.scrap.json+json": {
       "data": 0.48758322106993934,
       "encoder": "json",
       "name": "ABC-GAN Model 1 MSE",
       "version": 1
      }
     },
     "metadata": {
      "scrapbook": {
       "data": true,
       "display": false,
       "name": "ABC-GAN Model 1 MSE"
      }
     },
     "output_type": "display_data"
    },
    {
     "data": {
      "application/scrapbook.scrap.json+json": {
       "data": 0.4992845835033804,
       "encoder": "json",
       "name": "ABC-GAN Model 1 MAE",
       "version": 1
      }
     },
     "metadata": {
      "scrapbook": {
       "data": true,
       "display": false,
       "name": "ABC-GAN Model 1 MAE"
      }
     },
     "output_type": "display_data"
    },
    {
     "data": {
      "application/scrapbook.scrap.json+json": {
       "data": 9.985691670067608,
       "encoder": "json",
       "name": "ABC-GAN Model 1 Manhattan Distance",
       "version": 1
      }
     },
     "metadata": {
      "scrapbook": {
       "data": true,
       "display": false,
       "name": "ABC-GAN Model 1 Manhattan Distance"
      }
     },
     "output_type": "display_data"
    },
    {
     "data": {
      "application/scrapbook.scrap.json+json": {
       "data": 3.116518395315079,
       "encoder": "json",
       "name": "ABC-GAN Model 1 Euclidean distance",
       "version": 1
      }
     },
     "metadata": {
      "scrapbook": {
       "data": true,
       "display": false,
       "name": "ABC-GAN Model 1 Euclidean distance"
      }
     },
     "output_type": "display_data"
    },
    {
     "data": {
      "application/scrapbook.scrap.json+json": {
       "data": [
        [
         0.5642296656017403,
         0.581999164360383,
         0.613575648387837,
         0.48506148066282806,
         0.42297931949536843,
         0.4365354125045954,
         0.5773692368730667,
         0.5607770180961869,
         0.4728125856714282,
         0.49692921111885974,
         0.5419303866630685,
         0.3892166561986833,
         0.4508090869200062,
         0.5402222954650938,
         0.4221234851350927,
         0.5143616813140278,
         0.3746051097134454,
         0.5315665342403639,
         0.5674131101866898,
         0.4190046098408611,
         0.4594912623880111,
         0.5859159623107775,
         0.4487870011406277,
         0.4910773911405615,
         0.4830309946370054,
         0.356854087509093,
         0.525579591439447,
         0.5509511297356331,
         0.5165527545009827,
         0.602354961813796,
         0.4093419841429807,
         0.5502317488715759,
         0.45056524825979505,
         0.3827645252285326,
         0.4719317343873975,
         0.5144666211025684,
         0.3319620133748057,
         0.5660218436753569,
         0.463330549910939,
         0.3973723882652186,
         0.4510370012217443,
         0.4915470102933165,
         0.5004437783028359,
         0.4878175897200559,
         0.43624938926381435,
         0.42882717849746915,
         0.48888413737055353,
         0.4484344767627778,
         0.5222641271691566,
         0.5302896524402396,
         0.4446197115900617,
         0.44840045794448136,
         0.5103310539772844,
         0.570951317680735,
         0.48518198682304836,
         0.45064572515881307,
         0.5365269343926082,
         0.4965211588848867,
         0.5172824031705361,
         0.523888789418089,
         0.5084434048843195,
         0.46505119170550013,
         0.44167313074613634,
         0.41598007561021894,
         0.4797298112461652,
         0.5260791139430301,
         0.5304345369908805,
         0.3834958963832042,
         0.37620213809392694,
         0.422745669371155,
         0.6200356587668218,
         0.5986971681751815,
         0.526602665067686,
         0.5471041795725148,
         0.46958527499009295,
         0.516588031026014,
         0.5228592897613011,
         0.4658696261463076,
         0.500558796038081,
         0.4734784745830153,
         0.4388366429443237,
         0.4459345023976864,
         0.5027077522892895,
         0.444047428154717,
         0.45532612853144394,
         0.577752543093766,
         0.4714633427097564,
         0.4182249400263043,
         0.4644060232862593,
         0.5631512473220743,
         0.4251091799759827,
         0.45458497267867004,
         0.435902558741066,
         0.4354508142755392,
         0.5079260046145242,
         0.546386120663383,
         0.4249426550966417,
         0.5594472702068464,
         0.5382855513904607,
         0.5649729231264053
        ],
        [
         0.5206615223549307,
         0.5326155218295753,
         0.5428429703228176,
         0.48740199515596033,
         0.45136338463053105,
         0.47593730529770256,
         0.5431531256996095,
         0.534285534825176,
         0.48232748163864014,
         0.507115142699331,
         0.5469634714536369,
         0.4423294058069587,
         0.501258500944823,
         0.512769306730479,
         0.4541714436374605,
         0.49331423817202447,
         0.41730306623503566,
         0.5358380074612796,
         0.5245176310651004,
         0.47327280361205337,
         0.49879552898928525,
         0.5514776173047722,
         0.48607242507860066,
         0.4998901325277984,
         0.5137371252290904,
         0.4369220267981291,
         0.5240564110688866,
         0.5198768079280853,
         0.5036461747251451,
         0.5541401724331081,
         0.4532735261134803,
         0.5418172772042453,
         0.47628305954858663,
         0.42982984650880096,
         0.4911147619597614,
         0.5097384984605015,
         0.40002395389601586,
         0.5451027358882129,
         0.4947849321179092,
         0.4439510631375015,
         0.49323860546573994,
         0.5064039847813546,
         0.5003806606866419,
         0.5050352777354419,
         0.4816572072915733,
         0.48258133409544823,
         0.4931536353193223,
         0.46179016968235376,
         0.5328505772165955,
         0.5218361767940223,
         0.481054016482085,
         0.4905600636266172,
         0.5121228317730129,
         0.548550799768418,
         0.5274907390587031,
         0.49336028648540375,
         0.5056394311599434,
         0.4972011319361627,
         0.496443150844425,
         0.5072231183759868,
         0.516222173999995,
         0.49202347798272966,
         0.48627453139051796,
         0.45796756548807027,
         0.4890147469006479,
         0.5333497538231313,
         0.5181602436117828,
         0.41886783028021457,
         0.44290357707068323,
         0.4704070067964494,
         0.5433767738752067,
         0.5567593957297504,
         0.5028744275681675,
         0.5112330521456897,
         0.5041402171365916,
         0.5245150527916849,
         0.5177269625477493,
         0.4942771385423839,
         0.5108597083948553,
         0.48961754320189355,
         0.48321458464488387,
         0.47606005128473045,
         0.528320640604943,
         0.47470287410542367,
         0.503066650684923,
         0.5408338922075927,
         0.49574893368408085,
         0.462873160559684,
         0.5089641514234244,
         0.5471223193220794,
         0.46445610402151943,
         0.5020446474663913,
         0.4689823686145246,
         0.4745013969950378,
         0.5295007704757154,
         0.5306820961646735,
         0.4791447418741882,
         0.5168542663566769,
         0.5328695203177631,
         0.5353948651812971
        ],
        [
         10.413230447098613,
         10.652310436591506,
         10.856859406456351,
         9.748039903119206,
         9.027267692610621,
         9.518746105954051,
         10.86306251399219,
         10.68571069650352,
         9.646549632772803,
         10.142302853986621,
         10.939269429072738,
         8.846588116139174,
         10.02517001889646,
         10.25538613460958,
         9.08342887274921,
         9.86628476344049,
         8.346061324700713,
         10.716760149225593,
         10.490352621302009,
         9.465456072241068,
         9.975910579785705,
         11.029552346095443,
         9.721448501572013,
         9.997802650555968,
         10.274742504581809,
         8.738440535962582,
         10.48112822137773,
         10.397536158561707,
         10.072923494502902,
         11.082803448662162,
         9.065470522269607,
         10.836345544084907,
         9.525661190971732,
         8.59659693017602,
         9.822295239195228,
         10.194769969210029,
         8.000479077920318,
         10.902054717764258,
         9.895698642358184,
         8.87902126275003,
         9.8647721093148,
         10.128079695627093,
         10.007613213732839,
         10.100705554708838,
         9.633144145831466,
         9.651626681908965,
         9.863072706386447,
         9.235803393647075,
         10.657011544331908,
         10.436723535880446,
         9.6210803296417,
         9.811201272532344,
         10.242456635460258,
         10.971015995368361,
         10.549814781174064,
         9.867205729708076,
         10.112788623198867,
         9.944022638723254,
         9.9288630168885,
         10.144462367519736,
         10.3244434799999,
         9.840469559654593,
         9.725490627810359,
         9.159351309761405,
         9.780294938012958,
         10.666995076462626,
         10.363204872235656,
         8.377356605604291,
         8.858071541413665,
         9.408140135928988,
         10.867535477504134,
         11.135187914595008,
         10.057488551363349,
         10.224661042913795,
         10.082804342731833,
         10.490301055833697,
         10.354539250954986,
         9.885542770847678,
         10.217194167897105,
         9.792350864037871,
         9.664291692897677,
         9.521201025694609,
         10.56641281209886,
         9.494057482108474,
         10.061333013698459,
         10.816677844151855,
         9.914978673681617,
         9.25746321119368,
         10.17928302846849,
         10.942446386441588,
         9.289122080430388,
         10.040892949327826,
         9.379647372290492,
         9.490027939900756,
         10.590015409514308,
         10.613641923293471,
         9.582894837483764,
         10.337085327133536,
         10.657390406355262,
         10.707897303625941
        ],
        [
         3.359254874527208,
         3.411741972542422,
         3.503071932997771,
         3.114679696735534,
         2.908536812541208,
         2.9547771912771883,
         3.3981443079218008,
         3.3489610869527486,
         3.075101902934042,
         3.1525520173943513,
         3.2922040843880516,
         2.7900417781771054,
         3.0026957452263003,
         3.287011698990722,
         2.905592831540898,
         3.207371763029749,
         2.73717047227039,
         3.2605721407150736,
         3.368718184077409,
         2.894838889613241,
         3.0314724553853734,
         3.4232030682119268,
         2.9959539420379198,
         3.133934878521126,
         3.10815377559414,
         2.6715317235963827,
         3.2421585138282403,
         3.319491315655558,
         3.214195869890268,
         3.4708931467672577,
         2.8612653988855374,
         3.317323465903125,
         3.0018835695602686,
         2.766819564874199,
         3.072236105469101,
         3.207698929458837,
         2.576672324432448,
         3.364585691211792,
         3.044110871538483,
         2.8191218074613897,
         3.003454681601653,
         3.1354330172826734,
         3.1636806991314277,
         3.1235159347122146,
         2.9538090299266617,
         2.9285736408616025,
         3.126928644438672,
         2.994777042662034,
         3.231916233967572,
         3.256653658098262,
         2.9820117759326896,
         2.994663446681384,
         3.1947802865839914,
         3.3792049883981146,
         3.115066570149178,
         3.002151645599579,
         3.2757500954517518,
         3.1512573962940147,
         3.2164651503491717,
         3.2369392623838,
         3.188866271527609,
         3.04975799599083,
         2.9721141658628674,
         2.8843719441508195,
         3.0975145237630937,
         3.243698857610028,
         3.2570985155223062,
         2.7694616674841495,
         2.74299886290143,
         2.9077333762611555,
         3.52146463496887,
         3.4603386197746064,
         3.2453125121247908,
         3.307882040135394,
         3.0645889609867516,
         3.2143056202732625,
         3.2337572257709795,
         3.052440420864288,
         3.1640442349565245,
         3.0772665616842994,
         2.9625551233498553,
         2.9864175943684983,
         3.170828763239319,
         2.980092039366291,
         3.0177015376986644,
         3.399272107654125,
         3.0707111316753855,
         2.892144325673615,
         3.047641787632724,
         3.3560430489553448,
         2.915850407603184,
         3.0152445097493175,
         2.9526346158678893,
         2.951104248499328,
         3.1872433374768367,
         3.3057105761496515,
         2.9152792493915287,
         3.3449881022414605,
         3.2811142966695344,
         3.3614667129882614
        ]
       ],
       "encoder": "json",
       "name": "ABC_GAN_2 Metrics",
       "version": 1
      }
     },
     "metadata": {
      "scrapbook": {
       "data": true,
       "display": false,
       "name": "ABC_GAN_2 Metrics"
      }
     },
     "output_type": "display_data"
    },
    {
     "name": "stdout",
     "output_type": "stream",
     "text": [
      "MAE\n",
      "0.4992845835033804\n"
     ]
    }
   ],
   "source": [
    "ABC_GAN2_metrics=ABC_train_test2.test_generator(gen2,test_data,prior_model,variance,bias,\"1\",device)\n",
    "sb.glue(\"ABC_GAN_2 Metrics\",ABC_GAN2_metrics)\n",
    "\n",
    "print(\"MAE\")\n",
    "print(mean(ABC_GAN2_metrics[1]))"
   ]
  },
  {
   "cell_type": "code",
   "execution_count": 18,
   "id": "e894c7f8",
   "metadata": {
    "execution": {
     "iopub.execute_input": "2022-07-22T10:14:28.144694Z",
     "iopub.status.busy": "2022-07-22T10:14:28.144301Z",
     "iopub.status.idle": "2022-07-22T10:14:29.012147Z",
     "shell.execute_reply": "2022-07-22T10:14:29.010909Z"
    },
    "papermill": {
     "duration": 0.892512,
     "end_time": "2022-07-22T10:14:29.014948",
     "exception": false,
     "start_time": "2022-07-22T10:14:28.122436",
     "status": "completed"
    },
    "tags": []
   },
   "outputs": [
    {
     "data": {
      "image/png": "[encoded data removed]",
      "text/plain": [
       "<Figure size 432x288 with 1 Axes>"
      ]
     },
     "metadata": {
      "needs_background": "light"
     },
     "output_type": "display_data"
    },
    {
     "data": {
      "image/png": "[encoded data removed]",
      "text/plain": [
       "<Figure size 432x288 with 1 Axes>"
      ]
     },
     "metadata": {
      "needs_background": "light"
     },
     "output_type": "display_data"
    },
    {
     "data": {
      "image/png": "[encoded data removed]",
      "text/plain": [
       "<Figure size 432x288 with 1 Axes>"
      ]
     },
     "metadata": {
      "needs_background": "light"
     },
     "output_type": "display_data"
    },
    {
     "data": {
      "image/png": "[encoded data removed]",
      "text/plain": [
       "<Figure size 432x288 with 1 Axes>"
      ]
     },
     "metadata": {
      "needs_background": "light"
     },
     "output_type": "display_data"
    }
   ],
   "source": [
    "sanityChecks.discProbVsError(train_data,disc2,device)\n",
    "sanityChecks.discProbVsError(test_data,disc2,device)"
   ]
  },
  {
   "cell_type": "markdown",
   "id": "130f3a4d",
   "metadata": {
    "id": "130f3a4d",
    "papermill": {
     "duration": 0.025934,
     "end_time": "2022-07-22T10:14:29.063422",
     "exception": false,
     "start_time": "2022-07-22T10:14:29.037488",
     "status": "completed"
    },
    "tags": []
   },
   "source": [
    "# skipGAN Model"
   ]
  },
  {
   "cell_type": "code",
   "execution_count": 19,
   "id": "4e43dad1",
   "metadata": {
    "execution": {
     "iopub.execute_input": "2022-07-22T10:14:29.128495Z",
     "iopub.status.busy": "2022-07-22T10:14:29.127736Z",
     "iopub.status.idle": "2022-07-22T10:14:29.135089Z",
     "shell.execute_reply": "2022-07-22T10:14:29.133170Z"
    },
    "id": "4e43dad1",
    "papermill": {
     "duration": 0.04126,
     "end_time": "2022-07-22T10:14:29.138030",
     "exception": false,
     "start_time": "2022-07-22T10:14:29.096770",
     "status": "completed"
    },
    "tags": []
   },
   "outputs": [],
   "source": [
    "# #Generator\n",
    "# gen3 = network.GeneratorWithSkipConnection(n_features+1).to(device)\n",
    "# constraints=network.weightConstraint()\n",
    "# #Discriminator \n",
    "# disc3 = network.Discriminator(n_features+1).to(device)\n",
    "\n",
    "# criterion = torch.nn.BCELoss()\n",
    "# gen_opt = torch.optim.Adam(gen3.parameters(), lr=0.01, betas=(0.5, 0.999))\n",
    "# disc_opt = torch.optim.Adam(disc3.parameters(), lr=0.01, betas=(0.5, 0.999))\n"
   ]
  },
  {
   "cell_type": "code",
   "execution_count": 20,
   "id": "26acbc37",
   "metadata": {
    "execution": {
     "iopub.execute_input": "2022-07-22T10:14:29.199428Z",
     "iopub.status.busy": "2022-07-22T10:14:29.199097Z",
     "iopub.status.idle": "2022-07-22T10:14:29.203860Z",
     "shell.execute_reply": "2022-07-22T10:14:29.202733Z"
    },
    "id": "26acbc37",
    "papermill": {
     "duration": 0.041913,
     "end_time": "2022-07-22T10:14:29.208169",
     "exception": false,
     "start_time": "2022-07-22T10:14:29.166256",
     "status": "completed"
    },
    "tags": []
   },
   "outputs": [],
   "source": [
    "# ABC_train_test2.training_GAN_skip_connection(disc3,gen3,disc_opt,gen_opt,train_data,batch_size,n_epochs,criterion,prior_model,variance,bias,device)"
   ]
  },
  {
   "cell_type": "code",
   "execution_count": 21,
   "id": "c5e0717b",
   "metadata": {
    "execution": {
     "iopub.execute_input": "2022-07-22T10:14:29.255996Z",
     "iopub.status.busy": "2022-07-22T10:14:29.255569Z",
     "iopub.status.idle": "2022-07-22T10:14:29.261011Z",
     "shell.execute_reply": "2022-07-22T10:14:29.259471Z"
    },
    "id": "c5e0717b",
    "papermill": {
     "duration": 0.037448,
     "end_time": "2022-07-22T10:14:29.267260",
     "exception": false,
     "start_time": "2022-07-22T10:14:29.229812",
     "status": "completed"
    },
    "tags": []
   },
   "outputs": [],
   "source": [
    "# ABC_GAN3_metrics=ABC_train_test2.test_generator(gen3,test_data,prior_model,variance,bias,\"3\",device)\n",
    "# sb.glue(\"ABC_GAN_3 Metrics\",ABC_GAN3_metrics)\n",
    "\n",
    "# print(\"MAE\")\n",
    "# print(mean(ABC_GAN3_metrics[1]))"
   ]
  },
  {
   "cell_type": "code",
   "execution_count": 22,
   "id": "c8e46b48",
   "metadata": {
    "execution": {
     "iopub.execute_input": "2022-07-22T10:14:29.320387Z",
     "iopub.status.busy": "2022-07-22T10:14:29.319907Z",
     "iopub.status.idle": "2022-07-22T10:14:29.327532Z",
     "shell.execute_reply": "2022-07-22T10:14:29.325423Z"
    },
    "id": "c8e46b48",
    "papermill": {
     "duration": 0.039464,
     "end_time": "2022-07-22T10:14:29.331742",
     "exception": false,
     "start_time": "2022-07-22T10:14:29.292278",
     "status": "completed"
    },
    "tags": []
   },
   "outputs": [],
   "source": [
    "# sanityChecks.discProbVsError(train_data,disc3,device)\n",
    "# sanityChecks.discProbVsError(test_data,disc3,device)"
   ]
  },
  {
   "cell_type": "markdown",
   "id": "f7f854d2",
   "metadata": {
    "id": "130f3a4d",
    "papermill": {
     "duration": 0.026286,
     "end_time": "2022-07-22T10:14:29.381350",
     "exception": false,
     "start_time": "2022-07-22T10:14:29.355064",
     "status": "completed"
    },
    "tags": []
   },
   "source": [
    "# skipGAN Model with TabNet Generator"
   ]
  },
  {
   "cell_type": "code",
   "execution_count": 23,
   "id": "cef0586c",
   "metadata": {
    "execution": {
     "iopub.execute_input": "2022-07-22T10:14:29.436386Z",
     "iopub.status.busy": "2022-07-22T10:14:29.435653Z",
     "iopub.status.idle": "2022-07-22T10:14:29.455325Z",
     "shell.execute_reply": "2022-07-22T10:14:29.454116Z"
    },
    "id": "4e43dad1",
    "papermill": {
     "duration": 0.047882,
     "end_time": "2022-07-22T10:14:29.458152",
     "exception": false,
     "start_time": "2022-07-22T10:14:29.410270",
     "status": "completed"
    },
    "tags": []
   },
   "outputs": [],
   "source": [
    "#Generator\n",
    "gen4 = network.GeneratorTabnetskipConnection(n_features+1).to(device)\n",
    "constraints=network.weightConstraint()\n",
    "#Discriminator \n",
    "disc4 = network.Discriminator(n_features+1).to(device)\n",
    "\n",
    "criterion = torch.nn.BCELoss()\n",
    "gen_opt = torch.optim.Adam(gen4.parameters(), lr=0.001, betas=(0.5, 0.999))\n",
    "disc_opt = torch.optim.Adam(disc4.parameters(), lr=0.001, betas=(0.5, 0.999))\n"
   ]
  },
  {
   "cell_type": "code",
   "execution_count": 24,
   "id": "619e043e",
   "metadata": {
    "execution": {
     "iopub.execute_input": "2022-07-22T10:14:29.504407Z",
     "iopub.status.busy": "2022-07-22T10:14:29.503760Z",
     "iopub.status.idle": "2022-07-22T10:18:01.479500Z",
     "shell.execute_reply": "2022-07-22T10:18:01.477333Z"
    },
    "id": "26acbc37",
    "papermill": {
     "duration": 212.002793,
     "end_time": "2022-07-22T10:18:01.482681",
     "exception": false,
     "start_time": "2022-07-22T10:14:29.479888",
     "status": "completed"
    },
    "tags": []
   },
   "outputs": [
    {
     "data": {
      "image/png": "[encoded data removed]",
      "text/plain": [
       "<Figure size 432x288 with 1 Axes>"
      ]
     },
     "metadata": {
      "needs_background": "light"
     },
     "output_type": "display_data"
    },
    {
     "data": {
      "image/png": "[encoded data removed]",
      "text/plain": [
       "<Figure size 432x288 with 1 Axes>"
      ]
     },
     "metadata": {
      "needs_background": "light"
     },
     "output_type": "display_data"
    }
   ],
   "source": [
    "ABC_train_test2.training_GAN_skip_connection(disc4,gen4,disc_opt,gen_opt,train_data,batch_size,n_epochs,criterion,prior_model,variance,bias,device)"
   ]
  },
  {
   "cell_type": "code",
   "execution_count": 25,
   "id": "9e855dc7",
   "metadata": {
    "execution": {
     "iopub.execute_input": "2022-07-22T10:18:01.536930Z",
     "iopub.status.busy": "2022-07-22T10:18:01.536437Z",
     "iopub.status.idle": "2022-07-22T10:18:03.660979Z",
     "shell.execute_reply": "2022-07-22T10:18:03.659724Z"
    },
    "id": "c5e0717b",
    "papermill": {
     "duration": 2.156761,
     "end_time": "2022-07-22T10:18:03.666159",
     "exception": false,
     "start_time": "2022-07-22T10:18:01.509398",
     "status": "completed"
    },
    "tags": []
   },
   "outputs": [
    {
     "data": {
      "application/scrapbook.scrap.json+json": {
       "data": 0.23692426346040055,
       "encoder": "json",
       "name": "ABC-GAN Model 3 MSE",
       "version": 1
      }
     },
     "metadata": {
      "scrapbook": {
       "data": true,
       "display": false,
       "name": "ABC-GAN Model 3 MSE"
      }
     },
     "output_type": "display_data"
    },
    {
     "data": {
      "application/scrapbook.scrap.json+json": {
       "data": 0.3784494720879011,
       "encoder": "json",
       "name": "ABC-GAN Model 3 MAE",
       "version": 1
      }
     },
     "metadata": {
      "scrapbook": {
       "data": true,
       "display": false,
       "name": "ABC-GAN Model 3 MAE"
      }
     },
     "output_type": "display_data"
    },
    {
     "data": {
      "application/scrapbook.scrap.json+json": {
       "data": 7.5689894417580215,
       "encoder": "json",
       "name": "ABC-GAN Model 3 Manhattan Distance",
       "version": 1
      }
     },
     "metadata": {
      "scrapbook": {
       "data": true,
       "display": false,
       "name": "ABC-GAN Model 3 Manhattan Distance"
      }
     },
     "output_type": "display_data"
    },
    {
     "data": {
      "application/scrapbook.scrap.json+json": {
       "data": 2.1746243403111274,
       "encoder": "json",
       "name": "ABC-GAN Model 3 Euclidean distance",
       "version": 1
      }
     },
     "metadata": {
      "scrapbook": {
       "data": true,
       "display": false,
       "name": "ABC-GAN Model 3 Euclidean distance"
      }
     },
     "output_type": "display_data"
    },
    {
     "data": {
      "application/scrapbook.scrap.json+json": {
       "data": [
        [
         0.24258220628135319,
         0.2539731097082369,
         0.2232723863482089,
         0.24456107854776218,
         0.24416769747592024,
         0.24825766038839964,
         0.26597695222398765,
         0.20233131706677043,
         0.2284652367684354,
         0.22736844582862345,
         0.26656932700288516,
         0.2556915291655154,
         0.23396506468562142,
         0.22784922015214243,
         0.21598149519858914,
         0.23504257581901328,
         0.28173160858956037,
         0.2980949553257325,
         0.22852858041287766,
         0.2571561929725266,
         0.2548719916556904,
         0.2639468816854079,
         0.2187210558070872,
         0.28898907217692676,
         0.2037952758230998,
         0.239943796997487,
         0.22645574730486992,
         0.25543090029129634,
         0.2716679754292715,
         0.2283174470997673,
         0.23235713987654627,
         0.2242550815876963,
         0.23248441665183717,
         0.25230493449247837,
         0.19435518311055527,
         0.2266621266318381,
         0.22498793918351404,
         0.23047328628822386,
         0.2178641540423401,
         0.20743801321482036,
         0.23625578705272168,
         0.22558544814602385,
         0.2378923194502709,
         0.23968461619736928,
         0.254125480865623,
         0.2180584772963258,
         0.23198747309051737,
         0.2580960129938036,
         0.2514878015987563,
         0.22582371379227378,
         0.27498369514705306,
         0.25290750548975527,
         0.2507787055876358,
         0.2465020269717833,
         0.2406912839336853,
         0.2578913451581578,
         0.25191577731744774,
         0.20063499866958234,
         0.2459104123623185,
         0.20482516697450062,
         0.206814876883465,
         0.22132916173865516,
         0.2352535060931238,
         0.22137012207304313,
         0.21141755859280353,
         0.22792573835251365,
         0.23327486493312474,
         0.23983125253444756,
         0.23394436701231275,
         0.21194471421838715,
         0.24059445415824016,
         0.2605114325230121,
         0.27073774954035235,
         0.24512110670382659,
         0.21931281165740985,
         0.20982342956631023,
         0.2355496806632899,
         0.2542204847856175,
         0.28672392739368546,
         0.21632785606652827,
         0.21776826385162482,
         0.21877211201131855,
         0.21731554885254017,
         0.20975561716963798,
         0.22631318684932614,
         0.2505207702465014,
         0.25002106866730583,
         0.2439769665796983,
         0.2353991707173725,
         0.2788668689582686,
         0.21327520526108246,
         0.22184406786824246,
         0.24026638480587229,
         0.24052251143392084,
         0.2711714983892003,
         0.20312104229439507,
         0.22986684313656194,
         0.20523776293700874,
         0.22287107185553726,
         0.23058418125596858
        ],
        [
         0.39194673420861365,
         0.3944788835477084,
         0.3803399448283017,
         0.3723977160465438,
         0.38536043697968125,
         0.3804178570397198,
         0.41108150826767087,
         0.3663312177173793,
         0.3592723776586354,
         0.36734149130061267,
         0.39200666518881916,
         0.4135009747929871,
         0.3859753898344934,
         0.38266593563603235,
         0.35538859134539963,
         0.38737372374162077,
         0.3880094916559756,
         0.4162737892009318,
         0.38222636831924317,
         0.39030641289427875,
         0.4239573898725212,
         0.3921754819341004,
         0.3560979806352407,
         0.40995007650926707,
         0.3489780147559941,
         0.38899194421246647,
         0.3790148307569325,
         0.3840117043815553,
         0.4103693442419171,
         0.39489268101751807,
         0.39623213512822986,
         0.3465739299543202,
         0.3728789773769677,
         0.3945779056288302,
         0.3355777799151838,
         0.3626529202796519,
         0.36567495884373785,
         0.3754556297324598,
         0.3537095065345056,
         0.33946858029812577,
         0.37355393962934613,
         0.381956170219928,
         0.37965011233463886,
         0.39752928549423816,
         0.39164872290566566,
         0.3773331382311881,
         0.381267795804888,
         0.3768843692727387,
         0.4028405093587935,
         0.36994952959939836,
         0.41242964267730714,
         0.39884590143337845,
         0.3909912074916065,
         0.38366244817152617,
         0.36972148946952077,
         0.3819782511331141,
         0.3864217194728553,
         0.3476499692536891,
         0.38777573248371483,
         0.3591840491630137,
         0.33591405416373166,
         0.36387328151613474,
         0.38661170871928335,
         0.32918954761698843,
         0.3539997157640755,
         0.3593264895491302,
         0.3796893927268684,
         0.378302447963506,
         0.387928603682667,
         0.3570784160401672,
         0.3857761939056218,
         0.4186173322610557,
         0.3946643670089543,
         0.3753664373420179,
         0.3628255510702729,
         0.3592952318547759,
         0.3829704198986292,
         0.4000679449178278,
         0.43034942196682097,
         0.3571354576386511,
         0.3618530265404843,
         0.37165493266656996,
         0.3532001581974328,
         0.3586832201573998,
         0.37904731114394963,
         0.39117247918620707,
         0.3667582427151501,
         0.40390005451627076,
         0.3713251243811101,
         0.3966807955875993,
         0.3366007481701672,
         0.35642073387280104,
         0.39855267172679304,
         0.3645189588190988,
         0.4187261392362416,
         0.3603957443498075,
         0.36719014393165705,
         0.35431897174566984,
         0.36681043666321783,
         0.38294403376057745
        ],
        [
         7.838934684172273,
         7.889577670954168,
         7.606798896566033,
         7.447954320930876,
         7.707208739593625,
         7.608357140794396,
         8.221630165353417,
         7.326624354347587,
         7.185447553172708,
         7.346829826012254,
         7.840133303776383,
         8.270019495859742,
         7.719507796689868,
         7.6533187127206475,
         7.107771826907992,
         7.747474474832416,
         7.760189833119512,
         8.325475784018636,
         7.644527366384864,
         7.806128257885575,
         8.479147797450423,
         7.843509638682008,
         7.1219596127048135,
         8.199001530185342,
         6.979560295119882,
         7.77983888424933,
         7.58029661513865,
         7.680234087631106,
         8.207386884838343,
         7.897853620350361,
         7.924642702564597,
         6.931478599086404,
         7.457579547539353,
         7.891558112576604,
         6.711555598303676,
         7.253058405593038,
         7.313499176874757,
         7.509112594649196,
         7.074190130690113,
         6.789371605962515,
         7.471078792586923,
         7.6391234043985605,
         7.593002246692777,
         7.950585709884763,
         7.832974458113313,
         7.546662764623761,
         7.62535591609776,
         7.537687385454774,
         8.05681018717587,
         7.3989905919879675,
         8.248592853546143,
         7.976918028667569,
         7.8198241498321295,
         7.673248963430524,
         7.394429789390415,
         7.639565022662282,
         7.728434389457107,
         6.952999385073781,
         7.755514649674296,
         7.183680983260274,
         6.718281083274633,
         7.277465630322695,
         7.732234174385667,
         6.583790952339768,
         7.07999431528151,
         7.186529790982604,
         7.593787854537368,
         7.56604895927012,
         7.75857207365334,
         7.141568320803344,
         7.715523878112435,
         8.372346645221114,
         7.893287340179086,
         7.507328746840358,
         7.2565110214054585,
         7.185904637095518,
         7.659408397972584,
         8.001358898356557,
         8.606988439336419,
         7.142709152773023,
         7.237060530809686,
         7.433098653331399,
         7.064003163948655,
         7.1736644031479955,
         7.580946222878993,
         7.823449583724141,
         7.335164854303002,
         8.078001090325415,
         7.426502487622201,
         7.9336159117519855,
         6.732014963403344,
         7.128414677456021,
         7.971053434535861,
         7.290379176381975,
         8.374522784724832,
         7.20791488699615,
         7.3438028786331415,
         7.086379434913397,
         7.336208733264357,
         7.658880675211549
        ],
        [
         2.2026448024198233,
         2.2537662243819208,
         2.113160601318361,
         2.211610628242513,
         2.2098312038520964,
         2.228262374086138,
         2.306412591987772,
         2.011622812888989,
         2.1375932109193996,
         2.1324560761179745,
         2.3089795451795805,
         2.2613780275111695,
         2.163169270702695,
         2.1347094422995485,
         2.0783719359084363,
         2.168144717582354,
         2.3737380166714286,
         2.4417000443368653,
         2.137889521995361,
         2.267845642774334,
         2.257751056497108,
         2.297593879193657,
         2.091511682047639,
         2.404117601852816,
         2.018887197557604,
         2.1906336845647516,
         2.128171737923751,
         2.2602252113065915,
         2.3309567796476687,
         2.136901715567505,
         2.1557232655261958,
         2.1178058531777473,
         2.1563135980271384,
         2.2463523075977125,
         1.971573904831139,
         2.129141266482044,
         2.121263487563551,
         2.146966633593656,
         2.087410616253257,
         2.036850574857274,
         2.1737331347372044,
         2.1240783796556277,
         2.181248814098341,
         2.1894502332657355,
         2.254442196489513,
         2.0883413384613436,
         2.1540077673514424,
         2.271985972640692,
         2.24271175855818,
         2.125199820215849,
         2.345138354754589,
         2.2490331499991516,
         2.239547747147338,
         2.2203694601204695,
         2.194043226254603,
         2.271084961678703,
         2.2446192430675085,
         2.0031724771950237,
         2.2177033722403836,
         2.023982050189678,
         2.033788960946858,
         2.1039446843425096,
         2.1691173600943023,
         2.1041393588498036,
         2.056295497212419,
         2.1350678600574438,
         2.159976226411415,
         2.190119871305895,
         2.163073586415001,
         2.0588575192003313,
         2.1936018515593942,
         2.282592528345837,
         2.326962610530527,
         2.2141413988443763,
         2.094339092207419,
         2.0485283965144845,
         2.170482345762296,
         2.254863564766691,
         2.394677128105939,
         2.080037769207705,
         2.0869511918184616,
         2.0917557792979493,
         2.0847807983216855,
         2.048197339953541,
         2.1275017595730734,
         2.238395721254405,
         2.2361621974593247,
         2.208967933582098,
         2.169788794870932,
         2.361638706315039,
         2.065309687485547,
         2.1063905994294716,
         2.1921057675480546,
         2.193273860847846,
         2.3288258775151065,
         2.0155448012604187,
         2.14414012199092,
         2.026019560305422,
         2.1112606274713563,
         2.147483090764482
        ]
       ],
       "encoder": "json",
       "name": "ABC_GAN_4 Metrics",
       "version": 1
      }
     },
     "metadata": {
      "scrapbook": {
       "data": true,
       "display": false,
       "name": "ABC_GAN_4 Metrics"
      }
     },
     "output_type": "display_data"
    },
    {
     "name": "stdout",
     "output_type": "stream",
     "text": [
      "MAE\n",
      "0.3784494720879011\n"
     ]
    }
   ],
   "source": [
    "ABC_GAN4_metrics=ABC_train_test2.test_generator(gen4,test_data,prior_model,variance,bias,\"3\",device)\n",
    "sb.glue(\"ABC_GAN_4 Metrics\",ABC_GAN4_metrics)\n",
    "\n",
    "print(\"MAE\")\n",
    "print(mean(ABC_GAN4_metrics[1]))"
   ]
  },
  {
   "cell_type": "code",
   "execution_count": 26,
   "id": "93e00cc3",
   "metadata": {
    "execution": {
     "iopub.execute_input": "2022-07-22T10:18:03.719561Z",
     "iopub.status.busy": "2022-07-22T10:18:03.719077Z",
     "iopub.status.idle": "2022-07-22T10:18:04.798770Z",
     "shell.execute_reply": "2022-07-22T10:18:04.797468Z"
    },
    "id": "c8e46b48",
    "papermill": {
     "duration": 1.110084,
     "end_time": "2022-07-22T10:18:04.801998",
     "exception": false,
     "start_time": "2022-07-22T10:18:03.691914",
     "status": "completed"
    },
    "tags": []
   },
   "outputs": [
    {
     "data": {
      "image/png": "[encoded data removed]",
      "text/plain": [
       "<Figure size 432x288 with 1 Axes>"
      ]
     },
     "metadata": {
      "needs_background": "light"
     },
     "output_type": "display_data"
    },
    {
     "data": {
      "image/png": "[encoded data removed]",
      "text/plain": [
       "<Figure size 432x288 with 1 Axes>"
      ]
     },
     "metadata": {
      "needs_background": "light"
     },
     "output_type": "display_data"
    },
    {
     "data": {
      "image/png": "[encoded data removed]",
      "text/plain": [
       "<Figure size 432x288 with 1 Axes>"
      ]
     },
     "metadata": {
      "needs_background": "light"
     },
     "output_type": "display_data"
    },
    {
     "data": {
      "image/png": "[encoded data removed]",
      "text/plain": [
       "<Figure size 432x288 with 1 Axes>"
      ]
     },
     "metadata": {
      "needs_background": "light"
     },
     "output_type": "display_data"
    }
   ],
   "source": [
    "sanityChecks.discProbVsError(train_data,disc4,device)\n",
    "sanityChecks.discProbVsError(test_data,disc4,device)"
   ]
  },
  {
   "cell_type": "markdown",
   "id": "a5bd74c3",
   "metadata": {
    "id": "a5bd74c3",
    "papermill": {
     "duration": 0.028536,
     "end_time": "2022-07-22T10:18:04.860324",
     "exception": false,
     "start_time": "2022-07-22T10:18:04.831788",
     "status": "completed"
    },
    "tags": []
   },
   "source": [
    "## Skip Connection Model Analysis - ABC-GAN "
   ]
  },
  {
   "cell_type": "markdown",
   "id": "5744a8bf",
   "metadata": {
    "id": "5744a8bf",
    "papermill": {
     "duration": 0.030326,
     "end_time": "2022-07-22T10:18:04.923010",
     "exception": false,
     "start_time": "2022-07-22T10:18:04.892684",
     "status": "completed"
    },
    "tags": []
   },
   "source": [
    "### Weight Analysis \n",
    "\n",
    "Study the weights of the skip connection layer\n",
    "\n",
    "Equation of the skip connection is \n",
    "\n",
    "$output = y_{gan} * w + y_{abc} * (1-w)$"
   ]
  },
  {
   "cell_type": "code",
   "execution_count": 27,
   "id": "52c31dea",
   "metadata": {
    "execution": {
     "iopub.execute_input": "2022-07-22T10:18:04.997077Z",
     "iopub.status.busy": "2022-07-22T10:18:04.996705Z",
     "iopub.status.idle": "2022-07-22T10:18:05.003033Z",
     "shell.execute_reply": "2022-07-22T10:18:05.001122Z"
    },
    "id": "52c31dea",
    "papermill": {
     "duration": 0.054623,
     "end_time": "2022-07-22T10:18:05.007280",
     "exception": false,
     "start_time": "2022-07-22T10:18:04.952657",
     "status": "completed"
    },
    "tags": []
   },
   "outputs": [],
   "source": [
    "# print(\"Weight of the node at skip connection\")\n",
    "# for name,param in gen3.named_parameters():\n",
    "#     if(name == \"skipNode.weight\"):\n",
    "#         print(param)\n",
    "#         sb.glue(\"Skip Connection Weight\",param.item())"
   ]
  },
  {
   "cell_type": "markdown",
   "id": "bb4bd0a3",
   "metadata": {
    "id": "a5bd74c3",
    "papermill": {
     "duration": 0.031221,
     "end_time": "2022-07-22T10:18:05.081754",
     "exception": false,
     "start_time": "2022-07-22T10:18:05.050533",
     "status": "completed"
    },
    "tags": []
   },
   "source": [
    "## skipGAN Model Analysis (TabNet Generator) "
   ]
  },
  {
   "cell_type": "markdown",
   "id": "7d50497e",
   "metadata": {
    "id": "5744a8bf",
    "papermill": {
     "duration": 0.034162,
     "end_time": "2022-07-22T10:18:05.147082",
     "exception": false,
     "start_time": "2022-07-22T10:18:05.112920",
     "status": "completed"
    },
    "tags": []
   },
   "source": [
    "### Weight Analysis \n",
    "\n",
    "Study the weights of the skip connection layer\n",
    "\n",
    "Equation of the skip connection is \n",
    "\n",
    "$output = y_{gan} * w + y_{abc} * (1-w)$"
   ]
  },
  {
   "cell_type": "code",
   "execution_count": 28,
   "id": "3990b465",
   "metadata": {
    "execution": {
     "iopub.execute_input": "2022-07-22T10:18:05.235503Z",
     "iopub.status.busy": "2022-07-22T10:18:05.234270Z",
     "iopub.status.idle": "2022-07-22T10:18:05.252643Z",
     "shell.execute_reply": "2022-07-22T10:18:05.251633Z"
    },
    "id": "52c31dea",
    "papermill": {
     "duration": 0.060848,
     "end_time": "2022-07-22T10:18:05.255949",
     "exception": false,
     "start_time": "2022-07-22T10:18:05.195101",
     "status": "completed"
    },
    "tags": []
   },
   "outputs": [
    {
     "name": "stdout",
     "output_type": "stream",
     "text": [
      "Weight of the node at skip connection\n",
      "Parameter containing:\n",
      "tensor([[0.]], requires_grad=True)\n"
     ]
    },
    {
     "data": {
      "application/scrapbook.scrap.json+json": {
       "data": 0.0,
       "encoder": "json",
       "name": "Skip Connection Weight",
       "version": 1
      }
     },
     "metadata": {
      "scrapbook": {
       "data": true,
       "display": false,
       "name": "Skip Connection Weight"
      }
     },
     "output_type": "display_data"
    }
   ],
   "source": [
    "print(\"Weight of the node at skip connection\")\n",
    "for name,param in gen4.named_parameters():\n",
    "    if(name == \"skipNode.weight\"):\n",
    "        print(param)\n",
    "        sb.glue(\"Skip Connection Weight\",param.item())"
   ]
  }
 ],
 "metadata": {
  "colab": {
   "collapsed_sections": [],
   "name": "ABC_GAN_Model-Catboost_Pre-gen.ipynb",
   "provenance": []
  },
  "interpreter": {
   "hash": "31f2aee4e71d21fbe5cf8b01ff0e069b9275f58929596ceb00d14d90e3e16cd6"
  },
  "kernelspec": {
   "display_name": "Python 3 (ipykernel)",
   "language": "python",
   "name": "python3"
  },
  "language_info": {
   "codemirror_mode": {
    "name": "ipython",
    "version": 3
   },
   "file_extension": ".py",
   "mimetype": "text/x-python",
   "name": "python",
   "nbconvert_exporter": "python",
   "pygments_lexer": "ipython3",
   "version": "3.8.13"
  },
  "papermill": {
   "default_parameters": {},
   "duration": 434.790245,
   "end_time": "2022-07-22T10:18:06.025818",
   "environment_variables": {},
   "exception": null,
   "input_path": "ABC_GAN-TabNet.ipynb",
   "output_path": "./ABC_GAN_TabNet/ABC-GAN_output_2_4.ipynb",
   "parameters": {
    "bias": 0.1,
    "variance": 0.1
   },
   "start_time": "2022-07-22T10:10:51.235573",
   "version": "2.3.3"
  }
 },
 "nbformat": 4,
 "nbformat_minor": 5
}