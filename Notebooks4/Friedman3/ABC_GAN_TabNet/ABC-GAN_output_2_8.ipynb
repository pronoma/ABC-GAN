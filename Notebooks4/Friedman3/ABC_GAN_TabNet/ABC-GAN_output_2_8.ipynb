{
 "cells": [
  {
   "cell_type": "markdown",
   "id": "622780e6",
   "metadata": {
    "id": "622780e6",
    "papermill": {
     "duration": 0.016585,
     "end_time": "2022-07-22T10:40:56.907620",
     "exception": false,
     "start_time": "2022-07-22T10:40:56.891035",
     "status": "completed"
    },
    "tags": []
   },
   "source": [
    "## Import Libraries "
   ]
  },
  {
   "cell_type": "code",
   "execution_count": 1,
   "id": "a62397e3",
   "metadata": {
    "execution": {
     "iopub.execute_input": "2022-07-22T10:40:56.941631Z",
     "iopub.status.busy": "2022-07-22T10:40:56.939354Z",
     "iopub.status.idle": "2022-07-22T10:40:56.970968Z",
     "shell.execute_reply": "2022-07-22T10:40:56.968698Z"
    },
    "id": "a62397e3",
    "papermill": {
     "duration": 0.057415,
     "end_time": "2022-07-22T10:40:56.975417",
     "exception": false,
     "start_time": "2022-07-22T10:40:56.918002",
     "status": "completed"
    },
    "tags": []
   },
   "outputs": [],
   "source": [
    "import warnings\n",
    "import sys\n",
    "sys.path.insert(0, '../../src')\n",
    "warnings.filterwarnings('ignore')"
   ]
  },
  {
   "cell_type": "code",
   "execution_count": 2,
   "id": "d6a4e155",
   "metadata": {
    "execution": {
     "iopub.execute_input": "2022-07-22T10:40:57.000810Z",
     "iopub.status.busy": "2022-07-22T10:40:56.995283Z",
     "iopub.status.idle": "2022-07-22T10:41:04.921549Z",
     "shell.execute_reply": "2022-07-22T10:41:04.920600Z"
    },
    "id": "d6a4e155",
    "papermill": {
     "duration": 7.941028,
     "end_time": "2022-07-22T10:41:04.924391",
     "exception": false,
     "start_time": "2022-07-22T10:40:56.983363",
     "status": "completed"
    },
    "tags": []
   },
   "outputs": [],
   "source": [
    "import ABC_train_test2\n",
    "import friedman3Dataset\n",
    "import network\n",
    "import dataset\n",
    "import sanityChecks\n",
    "import torch \n",
    "import scrapbook as sb\n",
    "from statistics import mean \n",
    "import catboost as ctb \n",
    "from sklearn.model_selection import train_test_split\n",
    "from sklearn.metrics import mean_squared_error,mean_absolute_error\n",
    "import numpy as np\n",
    "from pytorch_tabnet.tab_model import TabNetRegressor"
   ]
  },
  {
   "cell_type": "markdown",
   "id": "2fa5b0f7",
   "metadata": {
    "id": "2fa5b0f7",
    "papermill": {
     "duration": 0.007697,
     "end_time": "2022-07-22T10:41:04.940006",
     "exception": false,
     "start_time": "2022-07-22T10:41:04.932309",
     "status": "completed"
    },
    "tags": []
   },
   "source": [
    "## Parameters "
   ]
  },
  {
   "cell_type": "code",
   "execution_count": 3,
   "id": "783186fb",
   "metadata": {
    "execution": {
     "iopub.execute_input": "2022-07-22T10:41:04.957985Z",
     "iopub.status.busy": "2022-07-22T10:41:04.957624Z",
     "iopub.status.idle": "2022-07-22T10:41:04.962594Z",
     "shell.execute_reply": "2022-07-22T10:41:04.961455Z"
    },
    "id": "783186fb",
    "papermill": {
     "duration": 0.01832,
     "end_time": "2022-07-22T10:41:04.966053",
     "exception": false,
     "start_time": "2022-07-22T10:41:04.947733",
     "status": "completed"
    },
    "tags": [
     "parameters"
    ]
   },
   "outputs": [],
   "source": [
    "variance = 1\n",
    "bias = 1 "
   ]
  },
  {
   "cell_type": "code",
   "execution_count": 4,
   "id": "2b9b447c",
   "metadata": {
    "execution": {
     "iopub.execute_input": "2022-07-22T10:41:04.990078Z",
     "iopub.status.busy": "2022-07-22T10:41:04.989749Z",
     "iopub.status.idle": "2022-07-22T10:41:04.994462Z",
     "shell.execute_reply": "2022-07-22T10:41:04.992993Z"
    },
    "papermill": {
     "duration": 0.020348,
     "end_time": "2022-07-22T10:41:04.997594",
     "exception": false,
     "start_time": "2022-07-22T10:41:04.977246",
     "status": "completed"
    },
    "tags": [
     "injected-parameters"
    ]
   },
   "outputs": [],
   "source": [
    "# Parameters\n",
    "variance = 0.01\n",
    "bias = 0.01\n"
   ]
  },
  {
   "cell_type": "markdown",
   "id": "391cdbfd",
   "metadata": {
    "id": "391cdbfd",
    "papermill": {
     "duration": 0.008594,
     "end_time": "2022-07-22T10:41:05.014117",
     "exception": false,
     "start_time": "2022-07-22T10:41:05.005523",
     "status": "completed"
    },
    "tags": []
   },
   "source": [
    "## Dataset \n"
   ]
  },
  {
   "cell_type": "code",
   "execution_count": 5,
   "id": "5b51f161",
   "metadata": {
    "execution": {
     "iopub.execute_input": "2022-07-22T10:41:05.032165Z",
     "iopub.status.busy": "2022-07-22T10:41:05.031756Z",
     "iopub.status.idle": "2022-07-22T10:41:05.037366Z",
     "shell.execute_reply": "2022-07-22T10:41:05.036289Z"
    },
    "id": "5b51f161",
    "papermill": {
     "duration": 0.01746,
     "end_time": "2022-07-22T10:41:05.040158",
     "exception": false,
     "start_time": "2022-07-22T10:41:05.022698",
     "status": "completed"
    },
    "tags": []
   },
   "outputs": [],
   "source": [
    "#Parameters \n",
    "n_features = 4\n",
    "n_samples= 100\n",
    "n_target = 1"
   ]
  },
  {
   "cell_type": "code",
   "execution_count": 6,
   "id": "5d6eced4",
   "metadata": {
    "execution": {
     "iopub.execute_input": "2022-07-22T10:41:05.062262Z",
     "iopub.status.busy": "2022-07-22T10:41:05.061899Z",
     "iopub.status.idle": "2022-07-22T10:41:05.078954Z",
     "shell.execute_reply": "2022-07-22T10:41:05.077925Z"
    },
    "id": "5d6eced4",
    "papermill": {
     "duration": 0.033645,
     "end_time": "2022-07-22T10:41:05.082902",
     "exception": false,
     "start_time": "2022-07-22T10:41:05.049257",
     "status": "completed"
    },
    "tags": []
   },
   "outputs": [
    {
     "name": "stdout",
     "output_type": "stream",
     "text": [
      "          X1           X2        X3         X4         Y\n",
      "0  44.426189   315.708592  0.966828   5.625892  1.360143\n",
      "1  51.585500   605.601279  0.572237   1.183097  1.677762\n",
      "2  75.388010  1009.202948  0.026412   3.026582  0.466810\n",
      "3  36.569456  1542.743546  0.089424  10.049560  1.267610\n",
      "4  30.180668   836.724251  0.150894   3.927787  1.308219\n"
     ]
    }
   ],
   "source": [
    "X,Y = friedman3Dataset.friedman3_data(n_samples)"
   ]
  },
  {
   "cell_type": "code",
   "execution_count": 7,
   "id": "fe007438",
   "metadata": {
    "execution": {
     "iopub.execute_input": "2022-07-22T10:41:05.116788Z",
     "iopub.status.busy": "2022-07-22T10:41:05.115469Z",
     "iopub.status.idle": "2022-07-22T10:41:05.124835Z",
     "shell.execute_reply": "2022-07-22T10:41:05.123714Z"
    },
    "id": "fe007438",
    "papermill": {
     "duration": 0.031752,
     "end_time": "2022-07-22T10:41:05.127756",
     "exception": false,
     "start_time": "2022-07-22T10:41:05.096004",
     "status": "completed"
    },
    "tags": []
   },
   "outputs": [],
   "source": [
    "#Train test split for dataset \n",
    "X_train,X_test,Y_train,Y_test = train_test_split(X,Y,test_size = 0.2)\n",
    "train_data = dataset.CustomDataset(X_train,Y_train)\n",
    "test_data = dataset.CustomDataset(X_test,Y_test)\n"
   ]
  },
  {
   "cell_type": "markdown",
   "id": "a9a1af34",
   "metadata": {
    "id": "a9a1af34",
    "papermill": {
     "duration": 0.017558,
     "end_time": "2022-07-22T10:41:05.153617",
     "exception": false,
     "start_time": "2022-07-22T10:41:05.136059",
     "status": "completed"
    },
    "tags": []
   },
   "source": [
    "## Training Parameters "
   ]
  },
  {
   "cell_type": "code",
   "execution_count": 8,
   "id": "952b7fc8",
   "metadata": {
    "execution": {
     "iopub.execute_input": "2022-07-22T10:41:05.181578Z",
     "iopub.status.busy": "2022-07-22T10:41:05.180776Z",
     "iopub.status.idle": "2022-07-22T10:41:05.186492Z",
     "shell.execute_reply": "2022-07-22T10:41:05.185472Z"
    },
    "id": "952b7fc8",
    "papermill": {
     "duration": 0.02841,
     "end_time": "2022-07-22T10:41:05.197411",
     "exception": false,
     "start_time": "2022-07-22T10:41:05.169001",
     "status": "completed"
    },
    "tags": []
   },
   "outputs": [],
   "source": [
    "batch_size = 32\n",
    "n_epochs = 1000\n",
    "#Select the device \n",
    "device = torch.device('cuda' if torch.cuda.is_available() else 'cpu')"
   ]
  },
  {
   "cell_type": "markdown",
   "id": "a95e1600",
   "metadata": {
    "id": "a95e1600",
    "papermill": {
     "duration": 0.008472,
     "end_time": "2022-07-22T10:41:05.220711",
     "exception": false,
     "start_time": "2022-07-22T10:41:05.212239",
     "status": "completed"
    },
    "tags": []
   },
   "source": [
    "# ABC Pre-generator Model \n",
    "\n",
    "1. The catboost model is used as a pre-generator model for the ABC-GAN. \n",
    "2. The model is first trained on the entire dataset \n",
    "3. It generats X,Y pairs and we add some Gaussian noise with mean 0 and variance 1 to it which is then feed as input to the generator.\n"
   ]
  },
  {
   "cell_type": "code",
   "execution_count": 9,
   "id": "ac011ebf",
   "metadata": {
    "execution": {
     "iopub.execute_input": "2022-07-22T10:41:05.239948Z",
     "iopub.status.busy": "2022-07-22T10:41:05.239171Z",
     "iopub.status.idle": "2022-07-22T10:41:49.867798Z",
     "shell.execute_reply": "2022-07-22T10:41:49.866828Z"
    },
    "papermill": {
     "duration": 44.642447,
     "end_time": "2022-07-22T10:41:49.870820",
     "exception": false,
     "start_time": "2022-07-22T10:41:05.228373",
     "status": "completed"
    },
    "tags": []
   },
   "outputs": [
    {
     "name": "stdout",
     "output_type": "stream",
     "text": [
      "Device used : cpu\n"
     ]
    },
    {
     "name": "stdout",
     "output_type": "stream",
     "text": [
      "epoch 0  | loss: 1.47717 | train_mse: 5.71997 | train_mae: 1.76692 |  0:00:00s\n",
      "epoch 1  | loss: 1.21348 | train_mse: 4.25928 | train_mae: 1.51803 |  0:00:00s\n",
      "epoch 2  | loss: 0.99378 | train_mse: 3.53879 | train_mae: 1.38585 |  0:00:00s\n"
     ]
    },
    {
     "name": "stdout",
     "output_type": "stream",
     "text": [
      "epoch 3  | loss: 0.90871 | train_mse: 3.02852 | train_mae: 1.30137 |  0:00:00s\n",
      "epoch 4  | loss: 0.98888 | train_mse: 2.82699 | train_mae: 1.26636 |  0:00:00s\n",
      "epoch 5  | loss: 0.95647 | train_mse: 2.4222  | train_mae: 1.16528 |  0:00:00s\n"
     ]
    },
    {
     "name": "stdout",
     "output_type": "stream",
     "text": [
      "epoch 6  | loss: 0.73094 | train_mse: 2.15931 | train_mae: 1.10121 |  0:00:00s\n",
      "epoch 7  | loss: 0.74841 | train_mse: 1.9299  | train_mae: 1.03995 |  0:00:00s\n"
     ]
    },
    {
     "name": "stdout",
     "output_type": "stream",
     "text": [
      "epoch 8  | loss: 0.76787 | train_mse: 1.78849 | train_mae: 1.00623 |  0:00:01s\n",
      "epoch 9  | loss: 0.70708 | train_mse: 1.64834 | train_mae: 0.97889 |  0:00:01s\n",
      "epoch 10 | loss: 0.71239 | train_mse: 1.47049 | train_mae: 0.92546 |  0:00:01s\n"
     ]
    },
    {
     "name": "stdout",
     "output_type": "stream",
     "text": [
      "epoch 11 | loss: 0.68051 | train_mse: 1.33409 | train_mae: 0.88046 |  0:00:01s\n",
      "epoch 12 | loss: 0.56245 | train_mse: 1.22302 | train_mae: 0.84193 |  0:00:01s\n"
     ]
    },
    {
     "name": "stdout",
     "output_type": "stream",
     "text": [
      "epoch 13 | loss: 0.73157 | train_mse: 1.13951 | train_mae: 0.81578 |  0:00:01s\n"
     ]
    },
    {
     "name": "stdout",
     "output_type": "stream",
     "text": [
      "epoch 14 | loss: 0.59385 | train_mse: 1.05947 | train_mae: 0.78303 |  0:00:01s\n",
      "epoch 15 | loss: 0.71241 | train_mse: 0.9778  | train_mae: 0.74415 |  0:00:02s\n",
      "epoch 16 | loss: 0.52648 | train_mse: 0.89777 | train_mae: 0.71113 |  0:00:02s\n"
     ]
    },
    {
     "name": "stdout",
     "output_type": "stream",
     "text": [
      "epoch 17 | loss: 0.58179 | train_mse: 0.84389 | train_mae: 0.68506 |  0:00:02s\n",
      "epoch 18 | loss: 0.4835  | train_mse: 0.77437 | train_mae: 0.65501 |  0:00:02s\n",
      "epoch 19 | loss: 0.66518 | train_mse: 0.716   | train_mae: 0.62846 |  0:00:02s\n"
     ]
    },
    {
     "name": "stdout",
     "output_type": "stream",
     "text": [
      "epoch 20 | loss: 0.52564 | train_mse: 0.66444 | train_mae: 0.60506 |  0:00:02s\n",
      "epoch 21 | loss: 0.64807 | train_mse: 0.65192 | train_mae: 0.59801 |  0:00:02s\n",
      "epoch 22 | loss: 0.6628  | train_mse: 0.63913 | train_mae: 0.59624 |  0:00:02s\n"
     ]
    },
    {
     "name": "stdout",
     "output_type": "stream",
     "text": [
      "epoch 23 | loss: 0.48051 | train_mse: 0.61448 | train_mae: 0.58482 |  0:00:02s\n",
      "epoch 24 | loss: 0.5094  | train_mse: 0.59912 | train_mae: 0.57774 |  0:00:02s\n"
     ]
    },
    {
     "name": "stdout",
     "output_type": "stream",
     "text": [
      "epoch 25 | loss: 0.47479 | train_mse: 0.57861 | train_mae: 0.57037 |  0:00:03s\n",
      "epoch 26 | loss: 0.43869 | train_mse: 0.55671 | train_mae: 0.55958 |  0:00:03s\n",
      "epoch 27 | loss: 0.53652 | train_mse: 0.54034 | train_mae: 0.54844 |  0:00:03s\n"
     ]
    },
    {
     "name": "stdout",
     "output_type": "stream",
     "text": [
      "epoch 28 | loss: 0.58869 | train_mse: 0.52173 | train_mae: 0.53707 |  0:00:03s\n",
      "epoch 29 | loss: 0.40679 | train_mse: 0.50462 | train_mae: 0.52897 |  0:00:03s\n",
      "epoch 30 | loss: 0.56143 | train_mse: 0.49438 | train_mae: 0.52375 |  0:00:03s\n"
     ]
    },
    {
     "name": "stdout",
     "output_type": "stream",
     "text": [
      "epoch 31 | loss: 0.42095 | train_mse: 0.4739  | train_mae: 0.508   |  0:00:03s\n",
      "epoch 32 | loss: 0.48175 | train_mse: 0.45968 | train_mae: 0.4991  |  0:00:03s\n"
     ]
    },
    {
     "name": "stdout",
     "output_type": "stream",
     "text": [
      "epoch 33 | loss: 0.46543 | train_mse: 0.4427  | train_mae: 0.48672 |  0:00:03s\n",
      "epoch 34 | loss: 0.48229 | train_mse: 0.43004 | train_mae: 0.47734 |  0:00:03s\n"
     ]
    },
    {
     "name": "stdout",
     "output_type": "stream",
     "text": [
      "epoch 35 | loss: 0.38098 | train_mse: 0.40217 | train_mae: 0.45389 |  0:00:04s\n",
      "epoch 36 | loss: 0.50274 | train_mse: 0.38085 | train_mae: 0.43694 |  0:00:04s\n",
      "epoch 37 | loss: 0.32496 | train_mse: 0.36387 | train_mae: 0.4238  |  0:00:04s\n"
     ]
    },
    {
     "name": "stdout",
     "output_type": "stream",
     "text": [
      "epoch 38 | loss: 0.53402 | train_mse: 0.35888 | train_mae: 0.41854 |  0:00:04s\n",
      "epoch 39 | loss: 0.45171 | train_mse: 0.34776 | train_mae: 0.41032 |  0:00:04s\n",
      "epoch 40 | loss: 0.38402 | train_mse: 0.34243 | train_mae: 0.40342 |  0:00:04s\n"
     ]
    },
    {
     "name": "stdout",
     "output_type": "stream",
     "text": [
      "epoch 41 | loss: 0.32089 | train_mse: 0.332   | train_mae: 0.39753 |  0:00:04s\n",
      "epoch 42 | loss: 0.38938 | train_mse: 0.3211  | train_mae: 0.3919  |  0:00:04s\n"
     ]
    },
    {
     "name": "stdout",
     "output_type": "stream",
     "text": [
      "epoch 43 | loss: 0.30227 | train_mse: 0.3067  | train_mae: 0.38374 |  0:00:04s\n",
      "epoch 44 | loss: 0.3054  | train_mse: 0.29832 | train_mae: 0.37722 |  0:00:04s\n"
     ]
    },
    {
     "name": "stdout",
     "output_type": "stream",
     "text": [
      "epoch 45 | loss: 0.43967 | train_mse: 0.287   | train_mae: 0.36631 |  0:00:05s\n",
      "epoch 46 | loss: 0.3864  | train_mse: 0.27491 | train_mae: 0.36128 |  0:00:05s\n",
      "epoch 47 | loss: 0.36731 | train_mse: 0.26994 | train_mae: 0.3602  |  0:00:05s\n"
     ]
    },
    {
     "name": "stdout",
     "output_type": "stream",
     "text": [
      "epoch 48 | loss: 0.29998 | train_mse: 0.26624 | train_mae: 0.36294 |  0:00:05s\n",
      "epoch 49 | loss: 0.31578 | train_mse: 0.2618  | train_mae: 0.36304 |  0:00:05s\n",
      "epoch 50 | loss: 0.38785 | train_mse: 0.2723  | train_mae: 0.37194 |  0:00:05s\n"
     ]
    },
    {
     "name": "stdout",
     "output_type": "stream",
     "text": [
      "epoch 51 | loss: 0.28552 | train_mse: 0.26057 | train_mae: 0.36359 |  0:00:05s\n",
      "epoch 52 | loss: 0.32334 | train_mse: 0.25504 | train_mae: 0.36147 |  0:00:05s\n",
      "epoch 53 | loss: 0.26794 | train_mse: 0.2502  | train_mae: 0.35615 |  0:00:05s\n"
     ]
    },
    {
     "name": "stdout",
     "output_type": "stream",
     "text": [
      "epoch 54 | loss: 0.4484  | train_mse: 0.25077 | train_mae: 0.35523 |  0:00:05s\n",
      "epoch 55 | loss: 0.30191 | train_mse: 0.25104 | train_mae: 0.35503 |  0:00:06s\n",
      "epoch 56 | loss: 0.28301 | train_mse: 0.24825 | train_mae: 0.34897 |  0:00:06s\n"
     ]
    },
    {
     "name": "stdout",
     "output_type": "stream",
     "text": [
      "epoch 57 | loss: 0.33635 | train_mse: 0.24454 | train_mae: 0.34557 |  0:00:06s\n",
      "epoch 58 | loss: 0.25196 | train_mse: 0.24297 | train_mae: 0.3438  |  0:00:06s\n"
     ]
    },
    {
     "name": "stdout",
     "output_type": "stream",
     "text": [
      "epoch 59 | loss: 0.35198 | train_mse: 0.24001 | train_mae: 0.34079 |  0:00:06s\n",
      "epoch 60 | loss: 0.26395 | train_mse: 0.23794 | train_mae: 0.33853 |  0:00:06s\n",
      "epoch 61 | loss: 0.24748 | train_mse: 0.2375  | train_mae: 0.33916 |  0:00:06s\n"
     ]
    },
    {
     "name": "stdout",
     "output_type": "stream",
     "text": [
      "epoch 62 | loss: 0.45173 | train_mse: 0.2352  | train_mae: 0.33693 |  0:00:06s\n",
      "epoch 63 | loss: 0.37916 | train_mse: 0.2338  | train_mae: 0.33404 |  0:00:06s\n"
     ]
    },
    {
     "name": "stdout",
     "output_type": "stream",
     "text": [
      "epoch 64 | loss: 0.32035 | train_mse: 0.2271  | train_mae: 0.32888 |  0:00:06s\n",
      "epoch 65 | loss: 0.40765 | train_mse: 0.22493 | train_mae: 0.32675 |  0:00:07s\n",
      "epoch 66 | loss: 0.40559 | train_mse: 0.22423 | train_mae: 0.32538 |  0:00:07s\n"
     ]
    },
    {
     "name": "stdout",
     "output_type": "stream",
     "text": [
      "epoch 67 | loss: 0.23158 | train_mse: 0.22221 | train_mae: 0.3245  |  0:00:07s\n",
      "epoch 68 | loss: 0.37206 | train_mse: 0.21693 | train_mae: 0.32364 |  0:00:07s\n",
      "epoch 69 | loss: 0.39643 | train_mse: 0.21484 | train_mae: 0.32656 |  0:00:07s\n"
     ]
    },
    {
     "name": "stdout",
     "output_type": "stream",
     "text": [
      "epoch 70 | loss: 0.20681 | train_mse: 0.20918 | train_mae: 0.32507 |  0:00:07s\n",
      "epoch 71 | loss: 0.34644 | train_mse: 0.20316 | train_mae: 0.3228  |  0:00:07s\n",
      "epoch 72 | loss: 0.32136 | train_mse: 0.19748 | train_mae: 0.3181  |  0:00:07s\n"
     ]
    },
    {
     "name": "stdout",
     "output_type": "stream",
     "text": [
      "epoch 73 | loss: 0.49358 | train_mse: 0.1923  | train_mae: 0.3123  |  0:00:07s\n",
      "epoch 74 | loss: 0.27453 | train_mse: 0.18927 | train_mae: 0.31022 |  0:00:07s\n"
     ]
    },
    {
     "name": "stdout",
     "output_type": "stream",
     "text": [
      "epoch 75 | loss: 0.35872 | train_mse: 0.19384 | train_mae: 0.31637 |  0:00:07s\n",
      "epoch 76 | loss: 0.56466 | train_mse: 0.19484 | train_mae: 0.31894 |  0:00:08s\n",
      "epoch 77 | loss: 0.44476 | train_mse: 0.19384 | train_mae: 0.31885 |  0:00:08s\n"
     ]
    },
    {
     "name": "stdout",
     "output_type": "stream",
     "text": [
      "epoch 78 | loss: 0.38523 | train_mse: 0.19336 | train_mae: 0.31713 |  0:00:08s\n",
      "epoch 79 | loss: 0.2965  | train_mse: 0.19814 | train_mae: 0.3202  |  0:00:08s\n",
      "epoch 80 | loss: 0.24786 | train_mse: 0.19986 | train_mae: 0.32115 |  0:00:08s\n"
     ]
    },
    {
     "name": "stdout",
     "output_type": "stream",
     "text": [
      "epoch 81 | loss: 0.32796 | train_mse: 0.19344 | train_mae: 0.31773 |  0:00:08s\n",
      "epoch 82 | loss: 0.25414 | train_mse: 0.18488 | train_mae: 0.30791 |  0:00:08s\n"
     ]
    },
    {
     "name": "stdout",
     "output_type": "stream",
     "text": [
      "epoch 83 | loss: 0.42051 | train_mse: 0.18501 | train_mae: 0.30775 |  0:00:08s\n",
      "epoch 84 | loss: 0.26604 | train_mse: 0.18356 | train_mae: 0.3069  |  0:00:08s\n"
     ]
    },
    {
     "name": "stdout",
     "output_type": "stream",
     "text": [
      "epoch 85 | loss: 0.17416 | train_mse: 0.17929 | train_mae: 0.30191 |  0:00:08s\n",
      "epoch 86 | loss: 0.23662 | train_mse: 0.17555 | train_mae: 0.29886 |  0:00:09s\n",
      "epoch 87 | loss: 0.3624  | train_mse: 0.1737  | train_mae: 0.29957 |  0:00:09s\n"
     ]
    },
    {
     "name": "stdout",
     "output_type": "stream",
     "text": [
      "epoch 88 | loss: 0.20585 | train_mse: 0.1687  | train_mae: 0.29631 |  0:00:09s\n",
      "epoch 89 | loss: 0.42301 | train_mse: 0.16453 | train_mae: 0.29316 |  0:00:09s\n",
      "epoch 90 | loss: 0.3492  | train_mse: 0.16316 | train_mae: 0.29155 |  0:00:09s\n"
     ]
    },
    {
     "name": "stdout",
     "output_type": "stream",
     "text": [
      "epoch 91 | loss: 0.236   | train_mse: 0.16087 | train_mae: 0.28963 |  0:00:09s\n",
      "epoch 92 | loss: 0.17299 | train_mse: 0.15686 | train_mae: 0.28289 |  0:00:09s\n",
      "epoch 93 | loss: 0.3205  | train_mse: 0.15176 | train_mae: 0.27843 |  0:00:09s\n"
     ]
    },
    {
     "name": "stdout",
     "output_type": "stream",
     "text": [
      "epoch 94 | loss: 0.20824 | train_mse: 0.14688 | train_mae: 0.27626 |  0:00:09s\n",
      "epoch 95 | loss: 0.25814 | train_mse: 0.14305 | train_mae: 0.27318 |  0:00:09s\n"
     ]
    },
    {
     "name": "stdout",
     "output_type": "stream",
     "text": [
      "epoch 96 | loss: 0.27722 | train_mse: 0.14165 | train_mae: 0.27149 |  0:00:10s\n",
      "epoch 97 | loss: 0.33707 | train_mse: 0.14229 | train_mae: 0.27374 |  0:00:10s\n",
      "epoch 98 | loss: 0.26267 | train_mse: 0.14363 | train_mae: 0.27502 |  0:00:10s\n"
     ]
    },
    {
     "name": "stdout",
     "output_type": "stream",
     "text": [
      "epoch 99 | loss: 0.28459 | train_mse: 0.14216 | train_mae: 0.2739  |  0:00:10s\n"
     ]
    },
    {
     "name": "stdout",
     "output_type": "stream",
     "text": [
      "epoch 100| loss: 0.18516 | train_mse: 0.14043 | train_mae: 0.2725  |  0:00:10s\n",
      "epoch 101| loss: 0.30002 | train_mse: 0.13792 | train_mae: 0.27207 |  0:00:10s\n"
     ]
    },
    {
     "name": "stdout",
     "output_type": "stream",
     "text": [
      "epoch 102| loss: 0.19164 | train_mse: 0.13245 | train_mae: 0.26806 |  0:00:10s\n",
      "epoch 103| loss: 0.30415 | train_mse: 0.13029 | train_mae: 0.26602 |  0:00:10s\n"
     ]
    },
    {
     "name": "stdout",
     "output_type": "stream",
     "text": [
      "epoch 104| loss: 0.3038  | train_mse: 0.12902 | train_mae: 0.26469 |  0:00:11s\n",
      "epoch 105| loss: 0.28992 | train_mse: 0.12785 | train_mae: 0.26215 |  0:00:11s\n",
      "epoch 106| loss: 0.26491 | train_mse: 0.12772 | train_mae: 0.26193 |  0:00:11s\n"
     ]
    },
    {
     "name": "stdout",
     "output_type": "stream",
     "text": [
      "epoch 107| loss: 0.29162 | train_mse: 0.12682 | train_mae: 0.26315 |  0:00:11s\n",
      "epoch 108| loss: 0.20065 | train_mse: 0.1248  | train_mae: 0.2613  |  0:00:11s\n",
      "epoch 109| loss: 0.38492 | train_mse: 0.12283 | train_mae: 0.26042 |  0:00:11s\n"
     ]
    },
    {
     "name": "stdout",
     "output_type": "stream",
     "text": [
      "epoch 110| loss: 0.23758 | train_mse: 0.12163 | train_mae: 0.25835 |  0:00:11s\n",
      "epoch 111| loss: 0.15405 | train_mse: 0.11947 | train_mae: 0.25587 |  0:00:11s\n",
      "epoch 112| loss: 0.26388 | train_mse: 0.11808 | train_mae: 0.25384 |  0:00:11s\n"
     ]
    },
    {
     "name": "stdout",
     "output_type": "stream",
     "text": [
      "epoch 113| loss: 0.16154 | train_mse: 0.11644 | train_mae: 0.25439 |  0:00:11s\n",
      "epoch 114| loss: 0.2139  | train_mse: 0.11416 | train_mae: 0.25458 |  0:00:11s\n"
     ]
    },
    {
     "name": "stdout",
     "output_type": "stream",
     "text": [
      "epoch 115| loss: 0.4286  | train_mse: 0.11167 | train_mae: 0.25314 |  0:00:12s\n",
      "epoch 116| loss: 0.29364 | train_mse: 0.11002 | train_mae: 0.25109 |  0:00:12s\n",
      "epoch 117| loss: 0.18262 | train_mse: 0.1087  | train_mae: 0.24822 |  0:00:12s\n"
     ]
    },
    {
     "name": "stdout",
     "output_type": "stream",
     "text": [
      "epoch 118| loss: 0.20698 | train_mse: 0.10663 | train_mae: 0.24447 |  0:00:12s\n",
      "epoch 119| loss: 0.28608 | train_mse: 0.10713 | train_mae: 0.24606 |  0:00:12s\n",
      "epoch 120| loss: 0.20963 | train_mse: 0.10546 | train_mae: 0.24468 |  0:00:12s\n"
     ]
    },
    {
     "name": "stdout",
     "output_type": "stream",
     "text": [
      "epoch 121| loss: 0.15753 | train_mse: 0.10421 | train_mae: 0.24488 |  0:00:12s\n",
      "epoch 122| loss: 0.18064 | train_mse: 0.10425 | train_mae: 0.24636 |  0:00:12s\n",
      "epoch 123| loss: 0.44132 | train_mse: 0.10422 | train_mae: 0.24315 |  0:00:12s\n"
     ]
    },
    {
     "name": "stdout",
     "output_type": "stream",
     "text": [
      "epoch 124| loss: 0.38614 | train_mse: 0.10939 | train_mae: 0.251   |  0:00:12s\n",
      "epoch 125| loss: 0.23592 | train_mse: 0.1104  | train_mae: 0.25077 |  0:00:13s\n",
      "epoch 126| loss: 0.21374 | train_mse: 0.11028 | train_mae: 0.24999 |  0:00:13s\n"
     ]
    },
    {
     "name": "stdout",
     "output_type": "stream",
     "text": [
      "epoch 127| loss: 0.37402 | train_mse: 0.10941 | train_mae: 0.24936 |  0:00:13s\n",
      "epoch 128| loss: 0.17898 | train_mse: 0.11406 | train_mae: 0.25557 |  0:00:13s\n",
      "epoch 129| loss: 0.24817 | train_mse: 0.11181 | train_mae: 0.25232 |  0:00:13s\n"
     ]
    },
    {
     "name": "stdout",
     "output_type": "stream",
     "text": [
      "epoch 130| loss: 0.13416 | train_mse: 0.1041  | train_mae: 0.24286 |  0:00:13s\n",
      "epoch 131| loss: 0.1986  | train_mse: 0.10031 | train_mae: 0.23831 |  0:00:13s\n",
      "epoch 132| loss: 0.16567 | train_mse: 0.0969  | train_mae: 0.23404 |  0:00:13s\n"
     ]
    },
    {
     "name": "stdout",
     "output_type": "stream",
     "text": [
      "epoch 133| loss: 0.28326 | train_mse: 0.0954  | train_mae: 0.2317  |  0:00:13s\n",
      "epoch 134| loss: 0.33055 | train_mse: 0.09421 | train_mae: 0.22948 |  0:00:13s\n"
     ]
    },
    {
     "name": "stdout",
     "output_type": "stream",
     "text": [
      "epoch 135| loss: 0.14644 | train_mse: 0.09349 | train_mae: 0.22962 |  0:00:13s\n",
      "epoch 136| loss: 0.20172 | train_mse: 0.09384 | train_mae: 0.23117 |  0:00:14s\n",
      "epoch 137| loss: 0.24088 | train_mse: 0.09332 | train_mae: 0.23082 |  0:00:14s\n"
     ]
    },
    {
     "name": "stdout",
     "output_type": "stream",
     "text": [
      "epoch 138| loss: 0.10659 | train_mse: 0.09417 | train_mae: 0.23033 |  0:00:14s\n",
      "epoch 139| loss: 0.22195 | train_mse: 0.09516 | train_mae: 0.23267 |  0:00:14s\n",
      "epoch 140| loss: 0.15877 | train_mse: 0.09366 | train_mae: 0.23258 |  0:00:14s\n"
     ]
    },
    {
     "name": "stdout",
     "output_type": "stream",
     "text": [
      "epoch 141| loss: 0.1983  | train_mse: 0.09342 | train_mae: 0.2336  |  0:00:14s\n",
      "epoch 142| loss: 0.24361 | train_mse: 0.09243 | train_mae: 0.23292 |  0:00:14s\n",
      "epoch 143| loss: 0.12626 | train_mse: 0.09075 | train_mae: 0.23255 |  0:00:14s\n"
     ]
    },
    {
     "name": "stdout",
     "output_type": "stream",
     "text": [
      "epoch 144| loss: 0.37958 | train_mse: 0.08899 | train_mae: 0.22985 |  0:00:14s\n",
      "epoch 145| loss: 0.2343  | train_mse: 0.08792 | train_mae: 0.23073 |  0:00:14s\n"
     ]
    },
    {
     "name": "stdout",
     "output_type": "stream",
     "text": [
      "epoch 146| loss: 0.22584 | train_mse: 0.08653 | train_mae: 0.23056 |  0:00:14s\n",
      "epoch 147| loss: 0.14917 | train_mse: 0.08439 | train_mae: 0.22898 |  0:00:15s\n",
      "epoch 148| loss: 0.35137 | train_mse: 0.08351 | train_mae: 0.22763 |  0:00:15s\n"
     ]
    },
    {
     "name": "stdout",
     "output_type": "stream",
     "text": [
      "epoch 149| loss: 0.16227 | train_mse: 0.08524 | train_mae: 0.23114 |  0:00:15s\n",
      "epoch 150| loss: 0.15475 | train_mse: 0.08654 | train_mae: 0.23223 |  0:00:15s\n",
      "epoch 151| loss: 0.13788 | train_mse: 0.08479 | train_mae: 0.2308  |  0:00:15s\n"
     ]
    },
    {
     "name": "stdout",
     "output_type": "stream",
     "text": [
      "epoch 152| loss: 0.20917 | train_mse: 0.08253 | train_mae: 0.22685 |  0:00:15s\n",
      "epoch 153| loss: 0.20369 | train_mse: 0.08167 | train_mae: 0.22528 |  0:00:16s\n"
     ]
    },
    {
     "name": "stdout",
     "output_type": "stream",
     "text": [
      "epoch 154| loss: 0.17209 | train_mse: 0.07988 | train_mae: 0.22169 |  0:00:16s\n",
      "epoch 155| loss: 0.23804 | train_mse: 0.07832 | train_mae: 0.22102 |  0:00:16s\n",
      "epoch 156| loss: 0.1681  | train_mse: 0.07826 | train_mae: 0.22126 |  0:00:16s\n"
     ]
    },
    {
     "name": "stdout",
     "output_type": "stream",
     "text": [
      "epoch 157| loss: 0.18843 | train_mse: 0.07794 | train_mae: 0.22074 |  0:00:16s\n",
      "epoch 158| loss: 0.32536 | train_mse: 0.07674 | train_mae: 0.21807 |  0:00:16s\n",
      "epoch 159| loss: 0.13841 | train_mse: 0.07759 | train_mae: 0.21781 |  0:00:16s\n"
     ]
    },
    {
     "name": "stdout",
     "output_type": "stream",
     "text": [
      "epoch 160| loss: 0.13443 | train_mse: 0.07687 | train_mae: 0.21738 |  0:00:16s\n",
      "epoch 161| loss: 0.25524 | train_mse: 0.07764 | train_mae: 0.21814 |  0:00:16s\n"
     ]
    },
    {
     "name": "stdout",
     "output_type": "stream",
     "text": [
      "epoch 162| loss: 0.16509 | train_mse: 0.07959 | train_mae: 0.221   |  0:00:16s\n",
      "epoch 163| loss: 0.19068 | train_mse: 0.08156 | train_mae: 0.22275 |  0:00:17s\n",
      "epoch 164| loss: 0.17818 | train_mse: 0.08376 | train_mae: 0.2227  |  0:00:17s\n"
     ]
    },
    {
     "name": "stdout",
     "output_type": "stream",
     "text": [
      "epoch 165| loss: 0.26469 | train_mse: 0.08393 | train_mae: 0.22035 |  0:00:17s\n",
      "epoch 166| loss: 0.17057 | train_mse: 0.08272 | train_mae: 0.21928 |  0:00:17s\n",
      "epoch 167| loss: 0.1332  | train_mse: 0.08228 | train_mae: 0.22029 |  0:00:17s\n"
     ]
    },
    {
     "name": "stdout",
     "output_type": "stream",
     "text": [
      "epoch 168| loss: 0.15133 | train_mse: 0.08114 | train_mae: 0.22014 |  0:00:17s\n",
      "epoch 169| loss: 0.35705 | train_mse: 0.08175 | train_mae: 0.22076 |  0:00:17s\n",
      "epoch 170| loss: 0.22573 | train_mse: 0.08154 | train_mae: 0.21834 |  0:00:17s\n"
     ]
    },
    {
     "name": "stdout",
     "output_type": "stream",
     "text": [
      "epoch 171| loss: 0.147   | train_mse: 0.08187 | train_mae: 0.21698 |  0:00:17s\n",
      "epoch 172| loss: 0.12594 | train_mse: 0.08436 | train_mae: 0.22171 |  0:00:17s\n"
     ]
    },
    {
     "name": "stdout",
     "output_type": "stream",
     "text": [
      "epoch 173| loss: 0.20827 | train_mse: 0.08597 | train_mae: 0.22442 |  0:00:17s\n",
      "epoch 174| loss: 0.1422  | train_mse: 0.08772 | train_mae: 0.22902 |  0:00:18s\n",
      "epoch 175| loss: 0.16319 | train_mse: 0.08901 | train_mae: 0.23141 |  0:00:18s\n"
     ]
    },
    {
     "name": "stdout",
     "output_type": "stream",
     "text": [
      "epoch 176| loss: 0.16979 | train_mse: 0.09116 | train_mae: 0.23453 |  0:00:18s\n",
      "epoch 177| loss: 0.15906 | train_mse: 0.09449 | train_mae: 0.238   |  0:00:18s\n",
      "epoch 178| loss: 0.11823 | train_mse: 0.09564 | train_mae: 0.23858 |  0:00:18s\n"
     ]
    },
    {
     "name": "stdout",
     "output_type": "stream",
     "text": [
      "epoch 179| loss: 0.17166 | train_mse: 0.09606 | train_mae: 0.24011 |  0:00:18s\n",
      "epoch 180| loss: 0.13481 | train_mse: 0.09803 | train_mae: 0.24305 |  0:00:18s\n",
      "epoch 181| loss: 0.22738 | train_mse: 0.09992 | train_mae: 0.24512 |  0:00:18s\n"
     ]
    },
    {
     "name": "stdout",
     "output_type": "stream",
     "text": [
      "epoch 182| loss: 0.19019 | train_mse: 0.0994  | train_mae: 0.2434  |  0:00:18s\n",
      "epoch 183| loss: 0.1351  | train_mse: 0.10207 | train_mae: 0.24542 |  0:00:18s\n"
     ]
    },
    {
     "name": "stdout",
     "output_type": "stream",
     "text": [
      "epoch 184| loss: 0.21474 | train_mse: 0.1024  | train_mae: 0.24595 |  0:00:18s\n",
      "epoch 185| loss: 0.11919 | train_mse: 0.10106 | train_mae: 0.24428 |  0:00:19s\n",
      "epoch 186| loss: 0.16023 | train_mse: 0.10094 | train_mae: 0.24244 |  0:00:19s\n"
     ]
    },
    {
     "name": "stdout",
     "output_type": "stream",
     "text": [
      "epoch 187| loss: 0.21728 | train_mse: 0.09409 | train_mae: 0.23484 |  0:00:19s\n",
      "epoch 188| loss: 0.16633 | train_mse: 0.09311 | train_mae: 0.23277 |  0:00:19s\n",
      "epoch 189| loss: 0.17866 | train_mse: 0.09051 | train_mae: 0.2295  |  0:00:19s\n"
     ]
    },
    {
     "name": "stdout",
     "output_type": "stream",
     "text": [
      "epoch 190| loss: 0.12698 | train_mse: 0.08799 | train_mae: 0.22573 |  0:00:19s\n",
      "epoch 191| loss: 0.17434 | train_mse: 0.08577 | train_mae: 0.22292 |  0:00:19s\n",
      "epoch 192| loss: 0.17935 | train_mse: 0.08317 | train_mae: 0.22101 |  0:00:19s\n"
     ]
    },
    {
     "name": "stdout",
     "output_type": "stream",
     "text": [
      "epoch 193| loss: 0.13569 | train_mse: 0.08108 | train_mae: 0.21697 |  0:00:19s\n",
      "epoch 194| loss: 0.15018 | train_mse: 0.08101 | train_mae: 0.21716 |  0:00:19s\n"
     ]
    },
    {
     "name": "stdout",
     "output_type": "stream",
     "text": [
      "epoch 195| loss: 0.24203 | train_mse: 0.08149 | train_mae: 0.21782 |  0:00:19s\n",
      "epoch 196| loss: 0.14861 | train_mse: 0.08237 | train_mae: 0.21966 |  0:00:20s\n",
      "epoch 197| loss: 0.10091 | train_mse: 0.08325 | train_mae: 0.2199  |  0:00:20s\n"
     ]
    },
    {
     "name": "stdout",
     "output_type": "stream",
     "text": [
      "epoch 198| loss: 0.18543 | train_mse: 0.0834  | train_mae: 0.21899 |  0:00:20s\n",
      "epoch 199| loss: 0.20298 | train_mse: 0.08328 | train_mae: 0.21941 |  0:00:20s\n",
      "epoch 200| loss: 0.12858 | train_mse: 0.08216 | train_mae: 0.21783 |  0:00:20s\n"
     ]
    },
    {
     "name": "stdout",
     "output_type": "stream",
     "text": [
      "epoch 201| loss: 0.20337 | train_mse: 0.07952 | train_mae: 0.21474 |  0:00:20s\n",
      "epoch 202| loss: 0.10949 | train_mse: 0.07878 | train_mae: 0.21343 |  0:00:20s\n",
      "epoch 203| loss: 0.16334 | train_mse: 0.07879 | train_mae: 0.21463 |  0:00:20s\n"
     ]
    },
    {
     "name": "stdout",
     "output_type": "stream",
     "text": [
      "epoch 204| loss: 0.28368 | train_mse: 0.07835 | train_mae: 0.21599 |  0:00:20s\n",
      "epoch 205| loss: 0.2162  | train_mse: 0.07816 | train_mae: 0.21606 |  0:00:20s\n"
     ]
    },
    {
     "name": "stdout",
     "output_type": "stream",
     "text": [
      "epoch 206| loss: 0.10005 | train_mse: 0.07806 | train_mae: 0.21564 |  0:00:21s\n",
      "epoch 207| loss: 0.11861 | train_mse: 0.07678 | train_mae: 0.21393 |  0:00:21s\n",
      "epoch 208| loss: 0.1044  | train_mse: 0.07518 | train_mae: 0.20862 |  0:00:21s\n"
     ]
    },
    {
     "name": "stdout",
     "output_type": "stream",
     "text": [
      "epoch 209| loss: 0.17641 | train_mse: 0.07697 | train_mae: 0.2072  |  0:00:21s\n",
      "epoch 210| loss: 0.19008 | train_mse: 0.07231 | train_mae: 0.20195 |  0:00:21s\n",
      "epoch 211| loss: 0.10778 | train_mse: 0.06769 | train_mae: 0.19379 |  0:00:21s\n"
     ]
    },
    {
     "name": "stdout",
     "output_type": "stream",
     "text": [
      "epoch 212| loss: 0.21729 | train_mse: 0.06634 | train_mae: 0.19156 |  0:00:21s\n",
      "epoch 213| loss: 0.17327 | train_mse: 0.06548 | train_mae: 0.19092 |  0:00:21s\n",
      "epoch 214| loss: 0.13064 | train_mse: 0.06537 | train_mae: 0.19132 |  0:00:21s\n"
     ]
    },
    {
     "name": "stdout",
     "output_type": "stream",
     "text": [
      "epoch 215| loss: 0.08559 | train_mse: 0.06616 | train_mae: 0.19381 |  0:00:21s\n",
      "epoch 216| loss: 0.18049 | train_mse: 0.06592 | train_mae: 0.19433 |  0:00:21s\n"
     ]
    },
    {
     "name": "stdout",
     "output_type": "stream",
     "text": [
      "epoch 217| loss: 0.26546 | train_mse: 0.06517 | train_mae: 0.19429 |  0:00:22s\n",
      "epoch 218| loss: 0.19083 | train_mse: 0.06488 | train_mae: 0.19522 |  0:00:22s\n",
      "epoch 219| loss: 0.18327 | train_mse: 0.06513 | train_mae: 0.19538 |  0:00:22s\n"
     ]
    },
    {
     "name": "stdout",
     "output_type": "stream",
     "text": [
      "epoch 220| loss: 0.14254 | train_mse: 0.06442 | train_mae: 0.19418 |  0:00:22s\n",
      "epoch 221| loss: 0.12156 | train_mse: 0.06448 | train_mae: 0.19345 |  0:00:22s\n",
      "epoch 222| loss: 0.23026 | train_mse: 0.06407 | train_mae: 0.19329 |  0:00:22s\n"
     ]
    },
    {
     "name": "stdout",
     "output_type": "stream",
     "text": [
      "epoch 223| loss: 0.18216 | train_mse: 0.06474 | train_mae: 0.19431 |  0:00:22s\n",
      "epoch 224| loss: 0.23387 | train_mse: 0.06514 | train_mae: 0.19636 |  0:00:22s\n",
      "epoch 225| loss: 0.09861 | train_mse: 0.06733 | train_mae: 0.20079 |  0:00:22s\n"
     ]
    },
    {
     "name": "stdout",
     "output_type": "stream",
     "text": [
      "epoch 226| loss: 0.21803 | train_mse: 0.06996 | train_mae: 0.20409 |  0:00:22s\n",
      "epoch 227| loss: 0.11514 | train_mse: 0.07384 | train_mae: 0.2055  |  0:00:22s\n"
     ]
    },
    {
     "name": "stdout",
     "output_type": "stream",
     "text": [
      "epoch 228| loss: 0.16255 | train_mse: 0.07565 | train_mae: 0.20482 |  0:00:23s\n",
      "epoch 229| loss: 0.10476 | train_mse: 0.07513 | train_mae: 0.20274 |  0:00:23s\n",
      "epoch 230| loss: 0.09596 | train_mse: 0.07377 | train_mae: 0.20126 |  0:00:23s\n"
     ]
    },
    {
     "name": "stdout",
     "output_type": "stream",
     "text": [
      "epoch 231| loss: 0.11274 | train_mse: 0.07242 | train_mae: 0.19839 |  0:00:23s\n",
      "epoch 232| loss: 0.13283 | train_mse: 0.07047 | train_mae: 0.19543 |  0:00:23s\n",
      "epoch 233| loss: 0.10711 | train_mse: 0.06962 | train_mae: 0.19272 |  0:00:23s\n"
     ]
    },
    {
     "name": "stdout",
     "output_type": "stream",
     "text": [
      "epoch 234| loss: 0.10793 | train_mse: 0.06347 | train_mae: 0.18746 |  0:00:23s\n",
      "epoch 235| loss: 0.10143 | train_mse: 0.06226 | train_mae: 0.18692 |  0:00:23s\n",
      "epoch 236| loss: 0.12411 | train_mse: 0.06461 | train_mae: 0.18992 |  0:00:23s\n"
     ]
    },
    {
     "name": "stdout",
     "output_type": "stream",
     "text": [
      "epoch 237| loss: 0.16721 | train_mse: 0.06469 | train_mae: 0.18909 |  0:00:23s\n",
      "epoch 238| loss: 0.29778 | train_mse: 0.06443 | train_mae: 0.1903  |  0:00:24s\n",
      "epoch 239| loss: 0.10987 | train_mse: 0.06517 | train_mae: 0.19142 |  0:00:24s\n"
     ]
    },
    {
     "name": "stdout",
     "output_type": "stream",
     "text": [
      "epoch 240| loss: 0.1827  | train_mse: 0.06593 | train_mae: 0.19152 |  0:00:24s\n",
      "epoch 241| loss: 0.20918 | train_mse: 0.06636 | train_mae: 0.19057 |  0:00:24s\n",
      "epoch 242| loss: 0.19428 | train_mse: 0.06423 | train_mae: 0.18764 |  0:00:24s\n"
     ]
    },
    {
     "name": "stdout",
     "output_type": "stream",
     "text": [
      "epoch 243| loss: 0.14123 | train_mse: 0.06565 | train_mae: 0.19007 |  0:00:24s\n",
      "epoch 244| loss: 0.16921 | train_mse: 0.06383 | train_mae: 0.18901 |  0:00:24s\n",
      "epoch 245| loss: 0.09507 | train_mse: 0.06256 | train_mae: 0.18942 |  0:00:24s\n"
     ]
    },
    {
     "name": "stdout",
     "output_type": "stream",
     "text": [
      "epoch 246| loss: 0.10518 | train_mse: 0.06044 | train_mae: 0.18688 |  0:00:24s\n",
      "epoch 247| loss: 0.11963 | train_mse: 0.05985 | train_mae: 0.18697 |  0:00:24s\n"
     ]
    },
    {
     "name": "stdout",
     "output_type": "stream",
     "text": [
      "epoch 248| loss: 0.0777  | train_mse: 0.05927 | train_mae: 0.18547 |  0:00:24s\n",
      "epoch 249| loss: 0.14092 | train_mse: 0.05966 | train_mae: 0.18496 |  0:00:25s\n",
      "epoch 250| loss: 0.17442 | train_mse: 0.05899 | train_mae: 0.18371 |  0:00:25s\n"
     ]
    },
    {
     "name": "stdout",
     "output_type": "stream",
     "text": [
      "epoch 251| loss: 0.09596 | train_mse: 0.05969 | train_mae: 0.18438 |  0:00:25s\n",
      "epoch 252| loss: 0.17942 | train_mse: 0.05974 | train_mae: 0.18468 |  0:00:25s\n",
      "epoch 253| loss: 0.31289 | train_mse: 0.05921 | train_mae: 0.18374 |  0:00:25s\n"
     ]
    },
    {
     "name": "stdout",
     "output_type": "stream",
     "text": [
      "epoch 254| loss: 0.14847 | train_mse: 0.06076 | train_mae: 0.18612 |  0:00:25s\n",
      "epoch 255| loss: 0.11496 | train_mse: 0.06235 | train_mae: 0.18831 |  0:00:25s\n"
     ]
    },
    {
     "name": "stdout",
     "output_type": "stream",
     "text": [
      "epoch 256| loss: 0.10022 | train_mse: 0.06263 | train_mae: 0.18816 |  0:00:25s\n",
      "epoch 257| loss: 0.09704 | train_mse: 0.06249 | train_mae: 0.18645 |  0:00:25s\n"
     ]
    },
    {
     "name": "stdout",
     "output_type": "stream",
     "text": [
      "epoch 258| loss: 0.26296 | train_mse: 0.06356 | train_mae: 0.18654 |  0:00:26s\n",
      "epoch 259| loss: 0.10649 | train_mse: 0.06454 | train_mae: 0.18673 |  0:00:26s\n",
      "epoch 260| loss: 0.16597 | train_mse: 0.0675  | train_mae: 0.19099 |  0:00:26s\n"
     ]
    },
    {
     "name": "stdout",
     "output_type": "stream",
     "text": [
      "epoch 261| loss: 0.12823 | train_mse: 0.07163 | train_mae: 0.19616 |  0:00:26s\n",
      "epoch 262| loss: 0.28214 | train_mse: 0.07129 | train_mae: 0.1961  |  0:00:26s\n",
      "epoch 263| loss: 0.32609 | train_mse: 0.06912 | train_mae: 0.19348 |  0:00:26s\n"
     ]
    },
    {
     "name": "stdout",
     "output_type": "stream",
     "text": [
      "epoch 264| loss: 0.12936 | train_mse: 0.06609 | train_mae: 0.18856 |  0:00:26s\n",
      "epoch 265| loss: 0.18382 | train_mse: 0.06443 | train_mae: 0.18736 |  0:00:26s\n"
     ]
    },
    {
     "name": "stdout",
     "output_type": "stream",
     "text": [
      "epoch 266| loss: 0.16602 | train_mse: 0.05844 | train_mae: 0.1809  |  0:00:27s\n",
      "epoch 267| loss: 0.21462 | train_mse: 0.05697 | train_mae: 0.18096 |  0:00:27s\n",
      "epoch 268| loss: 0.25445 | train_mse: 0.05677 | train_mae: 0.18143 |  0:00:27s\n"
     ]
    },
    {
     "name": "stdout",
     "output_type": "stream",
     "text": [
      "epoch 269| loss: 0.08384 | train_mse: 0.05627 | train_mae: 0.17985 |  0:00:27s\n",
      "epoch 270| loss: 0.11783 | train_mse: 0.05723 | train_mae: 0.18057 |  0:00:27s\n"
     ]
    },
    {
     "name": "stdout",
     "output_type": "stream",
     "text": [
      "epoch 271| loss: 0.1573  | train_mse: 0.05855 | train_mae: 0.18246 |  0:00:27s\n",
      "epoch 272| loss: 0.10186 | train_mse: 0.0599  | train_mae: 0.18203 |  0:00:27s\n",
      "epoch 273| loss: 0.10394 | train_mse: 0.061   | train_mae: 0.18216 |  0:00:27s\n"
     ]
    },
    {
     "name": "stdout",
     "output_type": "stream",
     "text": [
      "epoch 274| loss: 0.21683 | train_mse: 0.06285 | train_mae: 0.18629 |  0:00:27s\n",
      "epoch 275| loss: 0.21631 | train_mse: 0.06286 | train_mae: 0.18606 |  0:00:27s\n"
     ]
    },
    {
     "name": "stdout",
     "output_type": "stream",
     "text": [
      "epoch 276| loss: 0.10893 | train_mse: 0.06444 | train_mae: 0.18714 |  0:00:28s\n",
      "epoch 277| loss: 0.18427 | train_mse: 0.06726 | train_mae: 0.19014 |  0:00:28s\n",
      "epoch 278| loss: 0.1353  | train_mse: 0.06576 | train_mae: 0.18744 |  0:00:28s\n"
     ]
    },
    {
     "name": "stdout",
     "output_type": "stream",
     "text": [
      "epoch 279| loss: 0.09888 | train_mse: 0.06671 | train_mae: 0.18809 |  0:00:28s\n",
      "epoch 280| loss: 0.32618 | train_mse: 0.06757 | train_mae: 0.19043 |  0:00:28s\n",
      "epoch 281| loss: 0.10695 | train_mse: 0.068   | train_mae: 0.19201 |  0:00:28s\n"
     ]
    },
    {
     "name": "stdout",
     "output_type": "stream",
     "text": [
      "epoch 282| loss: 0.12432 | train_mse: 0.06738 | train_mae: 0.19052 |  0:00:28s\n",
      "epoch 283| loss: 0.12501 | train_mse: 0.06758 | train_mae: 0.1905  |  0:00:28s\n",
      "epoch 284| loss: 0.1227  | train_mse: 0.06782 | train_mae: 0.1914  |  0:00:28s\n"
     ]
    },
    {
     "name": "stdout",
     "output_type": "stream",
     "text": [
      "epoch 285| loss: 0.09225 | train_mse: 0.06727 | train_mae: 0.19002 |  0:00:28s\n",
      "epoch 286| loss: 0.08195 | train_mse: 0.06725 | train_mae: 0.18872 |  0:00:28s\n"
     ]
    },
    {
     "name": "stdout",
     "output_type": "stream",
     "text": [
      "epoch 287| loss: 0.13953 | train_mse: 0.06632 | train_mae: 0.18612 |  0:00:29s\n",
      "epoch 288| loss: 0.21096 | train_mse: 0.06544 | train_mae: 0.18487 |  0:00:29s\n",
      "epoch 289| loss: 0.17584 | train_mse: 0.06483 | train_mae: 0.18337 |  0:00:29s\n"
     ]
    },
    {
     "name": "stdout",
     "output_type": "stream",
     "text": [
      "epoch 290| loss: 0.13011 | train_mse: 0.06696 | train_mae: 0.1859  |  0:00:29s\n",
      "epoch 291| loss: 0.10112 | train_mse: 0.06691 | train_mae: 0.18667 |  0:00:29s\n",
      "epoch 292| loss: 0.12465 | train_mse: 0.06771 | train_mae: 0.18902 |  0:00:29s\n"
     ]
    },
    {
     "name": "stdout",
     "output_type": "stream",
     "text": [
      "epoch 293| loss: 0.11706 | train_mse: 0.0665  | train_mae: 0.18785 |  0:00:29s\n",
      "epoch 294| loss: 0.08727 | train_mse: 0.0665  | train_mae: 0.18889 |  0:00:29s\n",
      "epoch 295| loss: 0.12037 | train_mse: 0.06575 | train_mae: 0.18948 |  0:00:29s\n"
     ]
    },
    {
     "name": "stdout",
     "output_type": "stream",
     "text": [
      "epoch 296| loss: 0.18007 | train_mse: 0.06375 | train_mae: 0.18633 |  0:00:29s\n",
      "epoch 297| loss: 0.16365 | train_mse: 0.06323 | train_mae: 0.18448 |  0:00:30s\n",
      "epoch 298| loss: 0.09984 | train_mse: 0.06362 | train_mae: 0.1847  |  0:00:30s\n"
     ]
    },
    {
     "name": "stdout",
     "output_type": "stream",
     "text": [
      "epoch 299| loss: 0.11864 | train_mse: 0.06338 | train_mae: 0.18523 |  0:00:30s\n",
      "epoch 300| loss: 0.09322 | train_mse: 0.06275 | train_mae: 0.18479 |  0:00:30s\n",
      "epoch 301| loss: 0.11251 | train_mse: 0.06149 | train_mae: 0.18137 |  0:00:30s\n"
     ]
    },
    {
     "name": "stdout",
     "output_type": "stream",
     "text": [
      "epoch 302| loss: 0.13668 | train_mse: 0.06101 | train_mae: 0.17956 |  0:00:30s\n",
      "epoch 303| loss: 0.13732 | train_mse: 0.06084 | train_mae: 0.18053 |  0:00:30s\n",
      "epoch 304| loss: 0.07453 | train_mse: 0.06151 | train_mae: 0.18158 |  0:00:30s\n"
     ]
    },
    {
     "name": "stdout",
     "output_type": "stream",
     "text": [
      "epoch 305| loss: 0.13394 | train_mse: 0.05887 | train_mae: 0.17759 |  0:00:30s\n",
      "epoch 306| loss: 0.18212 | train_mse: 0.05926 | train_mae: 0.18061 |  0:00:30s\n"
     ]
    },
    {
     "name": "stdout",
     "output_type": "stream",
     "text": [
      "epoch 307| loss: 0.08304 | train_mse: 0.06001 | train_mae: 0.18293 |  0:00:30s\n",
      "epoch 308| loss: 0.12055 | train_mse: 0.06062 | train_mae: 0.18446 |  0:00:31s\n",
      "epoch 309| loss: 0.19303 | train_mse: 0.06071 | train_mae: 0.18449 |  0:00:31s\n"
     ]
    },
    {
     "name": "stdout",
     "output_type": "stream",
     "text": [
      "epoch 310| loss: 0.18199 | train_mse: 0.06003 | train_mae: 0.18245 |  0:00:31s\n",
      "epoch 311| loss: 0.11562 | train_mse: 0.05926 | train_mae: 0.18031 |  0:00:31s\n",
      "epoch 312| loss: 0.11639 | train_mse: 0.05787 | train_mae: 0.17784 |  0:00:31s\n"
     ]
    },
    {
     "name": "stdout",
     "output_type": "stream",
     "text": [
      "epoch 313| loss: 0.086   | train_mse: 0.05852 | train_mae: 0.17917 |  0:00:31s\n",
      "epoch 314| loss: 0.08743 | train_mse: 0.05865 | train_mae: 0.17967 |  0:00:31s\n"
     ]
    },
    {
     "name": "stdout",
     "output_type": "stream",
     "text": [
      "epoch 315| loss: 0.09416 | train_mse: 0.05878 | train_mae: 0.17844 |  0:00:31s\n",
      "epoch 316| loss: 0.11317 | train_mse: 0.05847 | train_mae: 0.17716 |  0:00:31s\n"
     ]
    },
    {
     "name": "stdout",
     "output_type": "stream",
     "text": [
      "epoch 317| loss: 0.12467 | train_mse: 0.05804 | train_mae: 0.1749  |  0:00:31s\n",
      "epoch 318| loss: 0.23191 | train_mse: 0.05798 | train_mae: 0.17416 |  0:00:32s\n"
     ]
    },
    {
     "name": "stdout",
     "output_type": "stream",
     "text": [
      "epoch 319| loss: 0.21598 | train_mse: 0.05687 | train_mae: 0.17369 |  0:00:32s\n",
      "epoch 320| loss: 0.07942 | train_mse: 0.05701 | train_mae: 0.1742  |  0:00:32s\n",
      "epoch 321| loss: 0.15803 | train_mse: 0.05597 | train_mae: 0.17322 |  0:00:32s\n"
     ]
    },
    {
     "name": "stdout",
     "output_type": "stream",
     "text": [
      "epoch 322| loss: 0.15191 | train_mse: 0.05762 | train_mae: 0.17793 |  0:00:32s\n",
      "epoch 323| loss: 0.08107 | train_mse: 0.05728 | train_mae: 0.1764  |  0:00:32s\n",
      "epoch 324| loss: 0.18483 | train_mse: 0.05776 | train_mae: 0.17751 |  0:00:32s\n"
     ]
    },
    {
     "name": "stdout",
     "output_type": "stream",
     "text": [
      "epoch 325| loss: 0.14678 | train_mse: 0.05831 | train_mae: 0.17966 |  0:00:32s\n",
      "epoch 326| loss: 0.15957 | train_mse: 0.05874 | train_mae: 0.1809  |  0:00:32s\n"
     ]
    },
    {
     "name": "stdout",
     "output_type": "stream",
     "text": [
      "epoch 327| loss: 0.12343 | train_mse: 0.05895 | train_mae: 0.18103 |  0:00:32s\n",
      "epoch 328| loss: 0.11162 | train_mse: 0.05932 | train_mae: 0.18107 |  0:00:33s\n",
      "epoch 329| loss: 0.11683 | train_mse: 0.06013 | train_mae: 0.1827  |  0:00:33s\n"
     ]
    },
    {
     "name": "stdout",
     "output_type": "stream",
     "text": [
      "epoch 330| loss: 0.12036 | train_mse: 0.06036 | train_mae: 0.18149 |  0:00:33s\n",
      "epoch 331| loss: 0.12318 | train_mse: 0.06037 | train_mae: 0.18033 |  0:00:33s\n",
      "epoch 332| loss: 0.21965 | train_mse: 0.06165 | train_mae: 0.18229 |  0:00:33s\n"
     ]
    },
    {
     "name": "stdout",
     "output_type": "stream",
     "text": [
      "epoch 333| loss: 0.12261 | train_mse: 0.06229 | train_mae: 0.18258 |  0:00:33s\n",
      "epoch 334| loss: 0.18134 | train_mse: 0.06429 | train_mae: 0.18675 |  0:00:33s\n",
      "epoch 335| loss: 0.11564 | train_mse: 0.06524 | train_mae: 0.18912 |  0:00:33s\n"
     ]
    },
    {
     "name": "stdout",
     "output_type": "stream",
     "text": [
      "epoch 336| loss: 0.11094 | train_mse: 0.06264 | train_mae: 0.1853  |  0:00:33s\n"
     ]
    },
    {
     "name": "stdout",
     "output_type": "stream",
     "text": [
      "epoch 337| loss: 0.08471 | train_mse: 0.05957 | train_mae: 0.1806  |  0:00:34s\n",
      "epoch 338| loss: 0.17316 | train_mse: 0.05703 | train_mae: 0.17759 |  0:00:34s\n"
     ]
    },
    {
     "name": "stdout",
     "output_type": "stream",
     "text": [
      "epoch 339| loss: 0.08184 | train_mse: 0.05514 | train_mae: 0.17564 |  0:00:34s\n"
     ]
    },
    {
     "name": "stdout",
     "output_type": "stream",
     "text": [
      "epoch 340| loss: 0.19709 | train_mse: 0.05416 | train_mae: 0.17311 |  0:00:34s\n",
      "epoch 341| loss: 0.10217 | train_mse: 0.05459 | train_mae: 0.17505 |  0:00:34s\n"
     ]
    },
    {
     "name": "stdout",
     "output_type": "stream",
     "text": [
      "epoch 342| loss: 0.18316 | train_mse: 0.05567 | train_mae: 0.17857 |  0:00:35s\n",
      "epoch 343| loss: 0.17835 | train_mse: 0.05716 | train_mae: 0.18165 |  0:00:35s\n"
     ]
    },
    {
     "name": "stdout",
     "output_type": "stream",
     "text": [
      "epoch 344| loss: 0.2156  | train_mse: 0.05781 | train_mae: 0.18021 |  0:00:35s\n",
      "epoch 345| loss: 0.09624 | train_mse: 0.05995 | train_mae: 0.18211 |  0:00:35s\n",
      "epoch 346| loss: 0.10514 | train_mse: 0.05959 | train_mae: 0.17966 |  0:00:35s\n"
     ]
    },
    {
     "name": "stdout",
     "output_type": "stream",
     "text": [
      "epoch 347| loss: 0.1339  | train_mse: 0.06044 | train_mae: 0.18094 |  0:00:35s\n",
      "epoch 348| loss: 0.10472 | train_mse: 0.06197 | train_mae: 0.18248 |  0:00:35s\n",
      "epoch 349| loss: 0.1673  | train_mse: 0.05975 | train_mae: 0.18009 |  0:00:35s\n"
     ]
    },
    {
     "name": "stdout",
     "output_type": "stream",
     "text": [
      "epoch 350| loss: 0.18781 | train_mse: 0.05764 | train_mae: 0.1767  |  0:00:35s\n",
      "epoch 351| loss: 0.20721 | train_mse: 0.0586  | train_mae: 0.18017 |  0:00:35s\n",
      "epoch 352| loss: 0.2202  | train_mse: 0.05718 | train_mae: 0.17824 |  0:00:36s\n"
     ]
    },
    {
     "name": "stdout",
     "output_type": "stream",
     "text": [
      "epoch 353| loss: 0.23935 | train_mse: 0.05731 | train_mae: 0.17904 |  0:00:36s\n",
      "epoch 354| loss: 0.12268 | train_mse: 0.05856 | train_mae: 0.18219 |  0:00:36s\n",
      "epoch 355| loss: 0.14506 | train_mse: 0.05888 | train_mae: 0.18412 |  0:00:36s\n"
     ]
    },
    {
     "name": "stdout",
     "output_type": "stream",
     "text": [
      "epoch 356| loss: 0.1278  | train_mse: 0.05888 | train_mae: 0.18433 |  0:00:36s\n",
      "epoch 357| loss: 0.16301 | train_mse: 0.06057 | train_mae: 0.18673 |  0:00:36s\n",
      "epoch 358| loss: 0.12401 | train_mse: 0.06181 | train_mae: 0.18834 |  0:00:36s\n"
     ]
    },
    {
     "name": "stdout",
     "output_type": "stream",
     "text": [
      "epoch 359| loss: 0.21384 | train_mse: 0.06298 | train_mae: 0.18912 |  0:00:36s\n",
      "epoch 360| loss: 0.25351 | train_mse: 0.06664 | train_mae: 0.19273 |  0:00:36s\n"
     ]
    },
    {
     "name": "stdout",
     "output_type": "stream",
     "text": [
      "epoch 361| loss: 0.13851 | train_mse: 0.06667 | train_mae: 0.19317 |  0:00:36s\n",
      "epoch 362| loss: 0.08711 | train_mse: 0.06785 | train_mae: 0.19413 |  0:00:36s\n",
      "epoch 363| loss: 0.14555 | train_mse: 0.06854 | train_mae: 0.19518 |  0:00:37s\n"
     ]
    },
    {
     "name": "stdout",
     "output_type": "stream",
     "text": [
      "epoch 364| loss: 0.18196 | train_mse: 0.06906 | train_mae: 0.19563 |  0:00:37s\n",
      "epoch 365| loss: 0.08263 | train_mse: 0.06749 | train_mae: 0.19313 |  0:00:37s\n",
      "epoch 366| loss: 0.1112  | train_mse: 0.06727 | train_mae: 0.19362 |  0:00:37s\n"
     ]
    },
    {
     "name": "stdout",
     "output_type": "stream",
     "text": [
      "epoch 367| loss: 0.33449 | train_mse: 0.06342 | train_mae: 0.18992 |  0:00:37s\n",
      "epoch 368| loss: 0.09924 | train_mse: 0.06007 | train_mae: 0.18634 |  0:00:37s\n",
      "epoch 369| loss: 0.12944 | train_mse: 0.05642 | train_mae: 0.18282 |  0:00:37s\n"
     ]
    },
    {
     "name": "stdout",
     "output_type": "stream",
     "text": [
      "epoch 370| loss: 0.13835 | train_mse: 0.05524 | train_mae: 0.18112 |  0:00:37s\n",
      "epoch 371| loss: 0.07284 | train_mse: 0.05339 | train_mae: 0.17775 |  0:00:37s\n",
      "epoch 372| loss: 0.15404 | train_mse: 0.05247 | train_mae: 0.17617 |  0:00:37s\n"
     ]
    },
    {
     "name": "stdout",
     "output_type": "stream",
     "text": [
      "epoch 373| loss: 0.07774 | train_mse: 0.05173 | train_mae: 0.1727  |  0:00:38s\n",
      "epoch 374| loss: 0.17628 | train_mse: 0.05089 | train_mae: 0.17025 |  0:00:38s\n",
      "epoch 375| loss: 0.24391 | train_mse: 0.05185 | train_mae: 0.17189 |  0:00:38s\n"
     ]
    },
    {
     "name": "stdout",
     "output_type": "stream",
     "text": [
      "epoch 376| loss: 0.14516 | train_mse: 0.05564 | train_mae: 0.17765 |  0:00:38s\n"
     ]
    },
    {
     "name": "stdout",
     "output_type": "stream",
     "text": [
      "epoch 377| loss: 0.16138 | train_mse: 0.05793 | train_mae: 0.18224 |  0:00:38s\n",
      "epoch 378| loss: 0.14301 | train_mse: 0.06253 | train_mae: 0.19094 |  0:00:38s\n",
      "epoch 379| loss: 0.09682 | train_mse: 0.06486 | train_mae: 0.19641 |  0:00:38s\n"
     ]
    },
    {
     "name": "stdout",
     "output_type": "stream",
     "text": [
      "epoch 380| loss: 0.2051  | train_mse: 0.06594 | train_mae: 0.19757 |  0:00:38s\n",
      "epoch 381| loss: 0.09658 | train_mse: 0.06623 | train_mae: 0.19733 |  0:00:39s\n",
      "epoch 382| loss: 0.15576 | train_mse: 0.06593 | train_mae: 0.19674 |  0:00:39s\n"
     ]
    },
    {
     "name": "stdout",
     "output_type": "stream",
     "text": [
      "epoch 383| loss: 0.09279 | train_mse: 0.06465 | train_mae: 0.19516 |  0:00:39s\n",
      "epoch 384| loss: 0.07298 | train_mse: 0.06203 | train_mae: 0.1909  |  0:00:39s\n",
      "epoch 385| loss: 0.12819 | train_mse: 0.06038 | train_mae: 0.18745 |  0:00:39s\n"
     ]
    },
    {
     "name": "stdout",
     "output_type": "stream",
     "text": [
      "epoch 386| loss: 0.09645 | train_mse: 0.05738 | train_mae: 0.18223 |  0:00:39s\n",
      "epoch 387| loss: 0.08488 | train_mse: 0.05471 | train_mae: 0.17642 |  0:00:39s\n",
      "epoch 388| loss: 0.12072 | train_mse: 0.0526  | train_mae: 0.17346 |  0:00:39s\n"
     ]
    },
    {
     "name": "stdout",
     "output_type": "stream",
     "text": [
      "epoch 389| loss: 0.205   | train_mse: 0.04898 | train_mae: 0.16722 |  0:00:39s\n",
      "epoch 390| loss: 0.08705 | train_mse: 0.04721 | train_mae: 0.16365 |  0:00:39s\n"
     ]
    },
    {
     "name": "stdout",
     "output_type": "stream",
     "text": [
      "epoch 391| loss: 0.19524 | train_mse: 0.0471  | train_mae: 0.16412 |  0:00:39s\n",
      "epoch 392| loss: 0.19123 | train_mse: 0.04812 | train_mae: 0.16802 |  0:00:40s\n",
      "epoch 393| loss: 0.13904 | train_mse: 0.04893 | train_mae: 0.16893 |  0:00:40s\n"
     ]
    },
    {
     "name": "stdout",
     "output_type": "stream",
     "text": [
      "epoch 394| loss: 0.10509 | train_mse: 0.04978 | train_mae: 0.16974 |  0:00:40s\n",
      "epoch 395| loss: 0.08805 | train_mse: 0.05033 | train_mae: 0.16942 |  0:00:40s\n",
      "epoch 396| loss: 0.13888 | train_mse: 0.05038 | train_mae: 0.16682 |  0:00:40s\n"
     ]
    },
    {
     "name": "stdout",
     "output_type": "stream",
     "text": [
      "epoch 397| loss: 0.07176 | train_mse: 0.052   | train_mae: 0.1682  |  0:00:40s\n",
      "epoch 398| loss: 0.13166 | train_mse: 0.05485 | train_mae: 0.17227 |  0:00:40s\n",
      "epoch 399| loss: 0.15948 | train_mse: 0.05588 | train_mae: 0.17375 |  0:00:40s\n"
     ]
    },
    {
     "name": "stdout",
     "output_type": "stream",
     "text": [
      "epoch 400| loss: 0.10696 | train_mse: 0.05665 | train_mae: 0.17429 |  0:00:40s\n",
      "epoch 401| loss: 0.09961 | train_mse: 0.05737 | train_mae: 0.17671 |  0:00:40s\n",
      "epoch 402| loss: 0.14497 | train_mse: 0.0601  | train_mae: 0.18117 |  0:00:40s"
     ]
    },
    {
     "name": "stdout",
     "output_type": "stream",
     "text": [
      "\n",
      "epoch 403| loss: 0.16177 | train_mse: 0.06007 | train_mae: 0.18305 |  0:00:41s\n",
      "epoch 404| loss: 0.08604 | train_mse: 0.06046 | train_mae: 0.18342 |  0:00:41s\n"
     ]
    },
    {
     "name": "stdout",
     "output_type": "stream",
     "text": [
      "epoch 405| loss: 0.09923 | train_mse: 0.06113 | train_mae: 0.18588 |  0:00:41s\n",
      "epoch 406| loss: 0.08273 | train_mse: 0.06244 | train_mae: 0.18875 |  0:00:41s\n",
      "epoch 407| loss: 0.07974 | train_mse: 0.06144 | train_mae: 0.18798 |  0:00:41s\n"
     ]
    },
    {
     "name": "stdout",
     "output_type": "stream",
     "text": [
      "epoch 408| loss: 0.12856 | train_mse: 0.06311 | train_mae: 0.1919  |  0:00:41s\n",
      "epoch 409| loss: 0.08288 | train_mse: 0.06296 | train_mae: 0.1921  |  0:00:41s\n",
      "epoch 410| loss: 0.0633  | train_mse: 0.06152 | train_mae: 0.18965 |  0:00:41s\n"
     ]
    },
    {
     "name": "stdout",
     "output_type": "stream",
     "text": [
      "epoch 411| loss: 0.11027 | train_mse: 0.0581  | train_mae: 0.1842  |  0:00:41s\n",
      "epoch 412| loss: 0.14522 | train_mse: 0.05697 | train_mae: 0.18151 |  0:00:41s\n"
     ]
    },
    {
     "name": "stdout",
     "output_type": "stream",
     "text": [
      "epoch 413| loss: 0.09479 | train_mse: 0.05798 | train_mae: 0.18139 |  0:00:42s\n",
      "epoch 414| loss: 0.20306 | train_mse: 0.05809 | train_mae: 0.17968 |  0:00:42s\n",
      "epoch 415| loss: 0.08566 | train_mse: 0.05918 | train_mae: 0.18006 |  0:00:42s\n"
     ]
    },
    {
     "name": "stdout",
     "output_type": "stream",
     "text": [
      "epoch 416| loss: 0.21514 | train_mse: 0.05802 | train_mae: 0.17773 |  0:00:42s\n",
      "epoch 417| loss: 0.10275 | train_mse: 0.05705 | train_mae: 0.17678 |  0:00:42s\n",
      "epoch 418| loss: 0.08472 | train_mse: 0.05576 | train_mae: 0.17494 |  0:00:42s\n"
     ]
    },
    {
     "name": "stdout",
     "output_type": "stream",
     "text": [
      "epoch 419| loss: 0.14646 | train_mse: 0.05611 | train_mae: 0.17598 |  0:00:42s\n",
      "epoch 420| loss: 0.14651 | train_mse: 0.05531 | train_mae: 0.17628 |  0:00:42s\n",
      "epoch 421| loss: 0.07389 | train_mse: 0.0552  | train_mae: 0.17723 |  0:00:42s\n"
     ]
    },
    {
     "name": "stdout",
     "output_type": "stream",
     "text": [
      "epoch 422| loss: 0.27225 | train_mse: 0.0573  | train_mae: 0.1799  |  0:00:42s\n",
      "epoch 423| loss: 0.12521 | train_mse: 0.05805 | train_mae: 0.18137 |  0:00:42s\n"
     ]
    },
    {
     "name": "stdout",
     "output_type": "stream",
     "text": [
      "epoch 424| loss: 0.09061 | train_mse: 0.05842 | train_mae: 0.18133 |  0:00:43s\n",
      "epoch 425| loss: 0.15133 | train_mse: 0.05768 | train_mae: 0.18073 |  0:00:43s\n"
     ]
    },
    {
     "name": "stdout",
     "output_type": "stream",
     "text": [
      "epoch 426| loss: 0.08404 | train_mse: 0.0586  | train_mae: 0.18246 |  0:00:43s\n",
      "epoch 427| loss: 0.28256 | train_mse: 0.06003 | train_mae: 0.18512 |  0:00:43s\n",
      "epoch 428| loss: 0.12217 | train_mse: 0.05859 | train_mae: 0.18265 |  0:00:43s\n"
     ]
    },
    {
     "name": "stdout",
     "output_type": "stream",
     "text": [
      "epoch 429| loss: 0.08462 | train_mse: 0.05827 | train_mae: 0.18194 |  0:00:43s\n",
      "epoch 430| loss: 0.17119 | train_mse: 0.05843 | train_mae: 0.1821  |  0:00:43s\n",
      "epoch 431| loss: 0.097   | train_mse: 0.06003 | train_mae: 0.18466 |  0:00:43s\n"
     ]
    },
    {
     "name": "stdout",
     "output_type": "stream",
     "text": [
      "epoch 432| loss: 0.16504 | train_mse: 0.06256 | train_mae: 0.18765 |  0:00:43s\n",
      "epoch 433| loss: 0.135   | train_mse: 0.06564 | train_mae: 0.19184 |  0:00:43s\n"
     ]
    },
    {
     "name": "stdout",
     "output_type": "stream",
     "text": [
      "epoch 434| loss: 0.11    | train_mse: 0.06517 | train_mae: 0.19135 |  0:00:44s\n",
      "epoch 435| loss: 0.06523 | train_mse: 0.06449 | train_mae: 0.19118 |  0:00:44s\n",
      "epoch 436| loss: 0.14343 | train_mse: 0.06315 | train_mae: 0.19332 |  0:00:44s\n"
     ]
    },
    {
     "name": "stdout",
     "output_type": "stream",
     "text": [
      "epoch 437| loss: 0.08459 | train_mse: 0.06172 | train_mae: 0.19392 |  0:00:44s\n",
      "epoch 438| loss: 0.16721 | train_mse: 0.06029 | train_mae: 0.19296 |  0:00:44s\n",
      "epoch 439| loss: 0.07529 | train_mse: 0.06011 | train_mae: 0.19288 |  0:00:44s\n"
     ]
    },
    {
     "name": "stdout",
     "output_type": "stream",
     "text": [
      "epoch 440| loss: 0.10513 | train_mse: 0.0604  | train_mae: 0.1928  |  0:00:44s\n",
      "\n",
      "Early stopping occurred at epoch 440 with best_epoch = 390 and best_train_mae = 0.16365\n",
      "Best weights from best epoch are automatically used!\n"
     ]
    }
   ],
   "source": [
    "#Train the Model\n",
    "\n",
    "Y_train = np.reshape(Y_train, (-1, 1))\n",
    "Y_test = np.reshape(Y_test, (-1, 1))\n",
    "\n",
    "prior_model = TabNetRegressor(optimizer_fn=torch.optim.Adam, optimizer_params=dict(lr = 0.001),\n",
    "          #scheduler_params={\"step_size\":10, ], \"gamma\":0.9},\n",
    "          #scheduler_fn=torch.optim.lr_scheduler.StepLR\n",
    "          )  #TabNetRegressor()\n",
    "\n",
    "prior_model.fit(X_train,Y_train,eval_set=[(X_train, Y_train)],\n",
    "            eval_name=['train'], \n",
    "            eval_metric=[ 'mse', 'mae'], \n",
    "            max_epochs = n_epochs, \n",
    "            batch_size = batch_size,\n",
    "            patience=50\n",
    "            )"
   ]
  },
  {
   "cell_type": "code",
   "execution_count": 10,
   "id": "af65dcda",
   "metadata": {
    "execution": {
     "iopub.execute_input": "2022-07-22T10:41:49.911023Z",
     "iopub.status.busy": "2022-07-22T10:41:49.910665Z",
     "iopub.status.idle": "2022-07-22T10:41:49.962859Z",
     "shell.execute_reply": "2022-07-22T10:41:49.961195Z"
    },
    "id": "af65dcda",
    "papermill": {
     "duration": 0.078438,
     "end_time": "2022-07-22T10:41:49.967300",
     "exception": false,
     "start_time": "2022-07-22T10:41:49.888862",
     "status": "completed"
    },
    "tags": []
   },
   "outputs": [
    {
     "data": {
      "application/scrapbook.scrap.json+json": {
       "data": 0.2892088400983034,
       "encoder": "json",
       "name": "Prior Model MSE",
       "version": 1
      }
     },
     "metadata": {
      "scrapbook": {
       "data": true,
       "display": false,
       "name": "Prior Model MSE"
      }
     },
     "output_type": "display_data"
    },
    {
     "data": {
      "application/scrapbook.scrap.json+json": {
       "data": 0.28298624506388736,
       "encoder": "json",
       "name": "ABC Pre-generator MSE",
       "version": 1
      }
     },
     "metadata": {
      "scrapbook": {
       "data": true,
       "display": false,
       "name": "ABC Pre-generator MSE"
      }
     },
     "output_type": "display_data"
    },
    {
     "data": {
      "application/scrapbook.scrap.json+json": {
       "data": 0.400531424743727,
       "encoder": "json",
       "name": "Prior Model MAE",
       "version": 1
      }
     },
     "metadata": {
      "scrapbook": {
       "data": true,
       "display": false,
       "name": "Prior Model MAE"
      }
     },
     "output_type": "display_data"
    },
    {
     "name": "stdout",
     "output_type": "stream",
     "text": [
      "Prior Model MAE 0.400531424743727\n"
     ]
    },
    {
     "data": {
      "application/scrapbook.scrap.json+json": {
       "data": 0.39488109533397775,
       "encoder": "json",
       "name": "ABC Pre-generator MAE",
       "version": 1
      }
     },
     "metadata": {
      "scrapbook": {
       "data": true,
       "display": false,
       "name": "ABC Pre-generator MAE"
      }
     },
     "output_type": "display_data"
    },
    {
     "name": "stdout",
     "output_type": "stream",
     "text": [
      "ABC Pre-generator MAE 0.39488109533397775\n"
     ]
    }
   ],
   "source": [
    "y_pred = prior_model.predict(X_test)\n",
    "y_abc = y_pred + np.random.normal(0,variance, y_pred.shape) + bias \n",
    "mse = mean_squared_error(y_pred,Y_test)\n",
    "sb.glue(\"Prior Model MSE\",mse)\n",
    "mse = mean_squared_error(y_abc,Y_test)\n",
    "sb.glue(\"ABC Pre-generator MSE\",mse)\n",
    "mae = mean_absolute_error(y_pred,Y_test)\n",
    "sb.glue(\"Prior Model MAE\",mae)\n",
    "print(\"Prior Model MAE\",mae)\n",
    "mae = mean_absolute_error(y_abc,Y_test)\n",
    "sb.glue(\"ABC Pre-generator MAE\",mae)\n",
    "print(\"ABC Pre-generator MAE\",mae)"
   ]
  },
  {
   "cell_type": "markdown",
   "id": "25609da2",
   "metadata": {
    "papermill": {
     "duration": 0.020416,
     "end_time": "2022-07-22T10:41:50.007034",
     "exception": false,
     "start_time": "2022-07-22T10:41:49.986618",
     "status": "completed"
    },
    "tags": []
   },
   "source": [
    "# mGAN Model"
   ]
  },
  {
   "cell_type": "code",
   "execution_count": 11,
   "id": "dfc3464d",
   "metadata": {
    "execution": {
     "iopub.execute_input": "2022-07-22T10:41:50.053848Z",
     "iopub.status.busy": "2022-07-22T10:41:50.052618Z",
     "iopub.status.idle": "2022-07-22T10:41:50.059590Z",
     "shell.execute_reply": "2022-07-22T10:41:50.058625Z"
    },
    "papermill": {
     "duration": 0.032635,
     "end_time": "2022-07-22T10:41:50.062514",
     "exception": false,
     "start_time": "2022-07-22T10:41:50.029879",
     "status": "completed"
    },
    "tags": []
   },
   "outputs": [],
   "source": [
    "# gen = network.Generator(n_features+1).to(device)\n",
    "# disc = network.Discriminator(n_features+1).to(device)\n",
    "\n",
    "# criterion = torch.nn.BCELoss()\n",
    "# gen_opt = torch.optim.Adam(gen.parameters(), lr=0.001, betas=(0.5, 0.999))\n",
    "# disc_opt = torch.optim.Adam(disc.parameters(), lr=0.001, betas=(0.5, 0.999))"
   ]
  },
  {
   "cell_type": "code",
   "execution_count": 12,
   "id": "b75fdd85",
   "metadata": {
    "execution": {
     "iopub.execute_input": "2022-07-22T10:41:50.130486Z",
     "iopub.status.busy": "2022-07-22T10:41:50.129834Z",
     "iopub.status.idle": "2022-07-22T10:41:50.134741Z",
     "shell.execute_reply": "2022-07-22T10:41:50.133659Z"
    },
    "papermill": {
     "duration": 0.04628,
     "end_time": "2022-07-22T10:41:50.138437",
     "exception": false,
     "start_time": "2022-07-22T10:41:50.092157",
     "status": "completed"
    },
    "tags": []
   },
   "outputs": [],
   "source": [
    "#Training the ABC_GAN \n",
    "# ABC_train_test2.training_GAN(disc,gen,disc_opt,gen_opt,train_data,batch_size,n_epochs,criterion,prior_model,variance,bias,device)"
   ]
  },
  {
   "cell_type": "code",
   "execution_count": 13,
   "id": "1fa7c368",
   "metadata": {
    "execution": {
     "iopub.execute_input": "2022-07-22T10:41:50.188768Z",
     "iopub.status.busy": "2022-07-22T10:41:50.188286Z",
     "iopub.status.idle": "2022-07-22T10:41:50.193503Z",
     "shell.execute_reply": "2022-07-22T10:41:50.192352Z"
    },
    "papermill": {
     "duration": 0.030308,
     "end_time": "2022-07-22T10:41:50.197553",
     "exception": false,
     "start_time": "2022-07-22T10:41:50.167245",
     "status": "completed"
    },
    "tags": []
   },
   "outputs": [],
   "source": [
    "# ABC_GAN1_metrics=ABC_train_test2.test_generator(gen,test_data,prior_model,variance,bias,\"1\",device)\n",
    "# sb.glue(\"ABC_GAN_1 Metrics\",ABC_GAN1_metrics)\n",
    "\n",
    "# print(\"MAE\")\n",
    "# print(mean(ABC_GAN1_metrics[1]))"
   ]
  },
  {
   "cell_type": "code",
   "execution_count": 14,
   "id": "eb22ce5c",
   "metadata": {
    "execution": {
     "iopub.execute_input": "2022-07-22T10:41:50.251739Z",
     "iopub.status.busy": "2022-07-22T10:41:50.250458Z",
     "iopub.status.idle": "2022-07-22T10:41:50.256994Z",
     "shell.execute_reply": "2022-07-22T10:41:50.255710Z"
    },
    "papermill": {
     "duration": 0.045471,
     "end_time": "2022-07-22T10:41:50.264856",
     "exception": false,
     "start_time": "2022-07-22T10:41:50.219385",
     "status": "completed"
    },
    "tags": []
   },
   "outputs": [],
   "source": [
    "# sanityChecks.discProbVsError(train_data,disc,device)\n",
    "# sanityChecks.discProbVsError(test_data,disc,device)"
   ]
  },
  {
   "cell_type": "markdown",
   "id": "ddbab05c",
   "metadata": {
    "papermill": {
     "duration": 0.055348,
     "end_time": "2022-07-22T10:41:50.341722",
     "exception": false,
     "start_time": "2022-07-22T10:41:50.286374",
     "status": "completed"
    },
    "tags": []
   },
   "source": [
    "# mGAN Model with TabNet Generator"
   ]
  },
  {
   "cell_type": "code",
   "execution_count": 15,
   "id": "e1b6c652",
   "metadata": {
    "execution": {
     "iopub.execute_input": "2022-07-22T10:41:50.446043Z",
     "iopub.status.busy": "2022-07-22T10:41:50.445443Z",
     "iopub.status.idle": "2022-07-22T10:41:50.471429Z",
     "shell.execute_reply": "2022-07-22T10:41:50.470125Z"
    },
    "papermill": {
     "duration": 0.089368,
     "end_time": "2022-07-22T10:41:50.474280",
     "exception": false,
     "start_time": "2022-07-22T10:41:50.384912",
     "status": "completed"
    },
    "tags": []
   },
   "outputs": [],
   "source": [
    "gen2 = network.GeneratorTabnet(n_features+1).to(device)\n",
    "disc2 = network.Discriminator(n_features+1).to(device)\n",
    "\n",
    "criterion = torch.nn.BCELoss()\n",
    "gen_opt = torch.optim.Adam(gen2.parameters(), lr=0.001, betas=(0.5, 0.999))\n",
    "disc_opt = torch.optim.Adam(disc2.parameters(), lr=0.001, betas=(0.5, 0.999))"
   ]
  },
  {
   "cell_type": "code",
   "execution_count": 16,
   "id": "a46e499c",
   "metadata": {
    "execution": {
     "iopub.execute_input": "2022-07-22T10:41:50.561790Z",
     "iopub.status.busy": "2022-07-22T10:41:50.560596Z",
     "iopub.status.idle": "2022-07-22T10:44:43.201592Z",
     "shell.execute_reply": "2022-07-22T10:44:43.200185Z"
    },
    "papermill": {
     "duration": 172.691054,
     "end_time": "2022-07-22T10:44:43.205001",
     "exception": false,
     "start_time": "2022-07-22T10:41:50.513947",
     "status": "completed"
    },
    "tags": []
   },
   "outputs": [
    {
     "data": {
      "image/png": "[encoded data removed]",
      "text/plain": [
       "<Figure size 432x288 with 1 Axes>"
      ]
     },
     "metadata": {
      "needs_background": "light"
     },
     "output_type": "display_data"
    },
    {
     "data": {
      "image/png": "[encoded data removed]",
      "text/plain": [
       "<Figure size 432x288 with 1 Axes>"
      ]
     },
     "metadata": {
      "needs_background": "light"
     },
     "output_type": "display_data"
    }
   ],
   "source": [
    "#Training the ABC_GAN \n",
    "ABC_train_test2.training_GAN(disc2,gen2,disc_opt,gen_opt,train_data,batch_size,n_epochs,criterion,prior_model,variance,bias,device)"
   ]
  },
  {
   "cell_type": "code",
   "execution_count": 17,
   "id": "0987d6f7",
   "metadata": {
    "execution": {
     "iopub.execute_input": "2022-07-22T10:44:43.254496Z",
     "iopub.status.busy": "2022-07-22T10:44:43.253561Z",
     "iopub.status.idle": "2022-07-22T10:44:45.072511Z",
     "shell.execute_reply": "2022-07-22T10:44:45.071503Z"
    },
    "papermill": {
     "duration": 1.845673,
     "end_time": "2022-07-22T10:44:45.075629",
     "exception": false,
     "start_time": "2022-07-22T10:44:43.229956",
     "status": "completed"
    },
    "tags": []
   },
   "outputs": [
    {
     "data": {
      "application/scrapbook.scrap.json+json": {
       "data": 0.5995396970381177,
       "encoder": "json",
       "name": "ABC-GAN Model 1 MSE",
       "version": 1
      }
     },
     "metadata": {
      "scrapbook": {
       "data": true,
       "display": false,
       "name": "ABC-GAN Model 1 MSE"
      }
     },
     "output_type": "display_data"
    },
    {
     "data": {
      "application/scrapbook.scrap.json+json": {
       "data": 0.5276288781277836,
       "encoder": "json",
       "name": "ABC-GAN Model 1 MAE",
       "version": 1
      }
     },
     "metadata": {
      "scrapbook": {
       "data": true,
       "display": false,
       "name": "ABC-GAN Model 1 MAE"
      }
     },
     "output_type": "display_data"
    },
    {
     "data": {
      "application/scrapbook.scrap.json+json": {
       "data": 10.55257756255567,
       "encoder": "json",
       "name": "ABC-GAN Model 1 Manhattan Distance",
       "version": 1
      }
     },
     "metadata": {
      "scrapbook": {
       "data": true,
       "display": false,
       "name": "ABC-GAN Model 1 Manhattan Distance"
      }
     },
     "output_type": "display_data"
    },
    {
     "data": {
      "application/scrapbook.scrap.json+json": {
       "data": 3.4626728630850563,
       "encoder": "json",
       "name": "ABC-GAN Model 1 Euclidean distance",
       "version": 1
      }
     },
     "metadata": {
      "scrapbook": {
       "data": true,
       "display": false,
       "name": "ABC-GAN Model 1 Euclidean distance"
      }
     },
     "output_type": "display_data"
    },
    {
     "data": {
      "application/scrapbook.scrap.json+json": {
       "data": [
        [
         0.6157564299929221,
         0.5964068988427835,
         0.5987211925263164,
         0.5954645202436881,
         0.6043031116876307,
         0.600191041844725,
         0.5866020866821364,
         0.5977767681793381,
         0.603402588295402,
         0.6124465425270464,
         0.5995532776742882,
         0.6007687832854225,
         0.6002119374749316,
         0.6040217453082652,
         0.6071661455813776,
         0.6096509605204405,
         0.5994584629888513,
         0.5929791619868876,
         0.6152309500962618,
         0.5949172280132083,
         0.600840401475997,
         0.6154053610470338,
         0.5896664542412811,
         0.5969005697037902,
         0.6025171221466754,
         0.6027052352605005,
         0.6086593617881851,
         0.6020519743454383,
         0.6047957963778903,
         0.5900437583558633,
         0.6039858120003879,
         0.5975598708712374,
         0.5919953896334406,
         0.5973791832023541,
         0.5985490319093383,
         0.5911932656196172,
         0.6129644220173569,
         0.6018936295355772,
         0.5702558488488986,
         0.6086959594695786,
         0.6095582138156505,
         0.607279334363805,
         0.5853212018958527,
         0.6001797225249801,
         0.5917078990657663,
         0.5866167749337435,
         0.6064949645827031,
         0.596846813054835,
         0.6026098624983973,
         0.5881777740144226,
         0.601688702446188,
         0.5992111655755203,
         0.5923663898382714,
         0.6052330670445718,
         0.6029984404384734,
         0.611513131060766,
         0.592316125742083,
         0.6105259061852413,
         0.5998597389355584,
         0.5854958750225828,
         0.6017331318712813,
         0.6031979945282687,
         0.5937661117628847,
         0.6048379879312401,
         0.6031554783410142,
         0.5874012214714244,
         0.6115747393905664,
         0.5856209223249769,
         0.5873221165694864,
         0.6214141050800979,
         0.6049193087401132,
         0.6005000122672317,
         0.6116693368135411,
         0.575996734971752,
         0.6021322496682524,
         0.6050033855253789,
         0.6047312177684123,
         0.6121885298162408,
         0.6043212827989292,
         0.6013315146879293,
         0.5914153436743486,
         0.6093386880351925,
         0.5876552777138124,
         0.5932806378125648,
         0.5830277892737077,
         0.5875459950645826,
         0.5951202001873299,
         0.5868932017166928,
         0.6058604318223398,
         0.5975952652333472,
         0.5978031713348461,
         0.596039590982923,
         0.583770098828891,
         0.5989848530804818,
         0.610943385576111,
         0.6091433825294141,
         0.5969824618411528,
         0.5908401428903285,
         0.6008112697973937,
         0.609011749445511
        ],
        [
         0.5218544403091073,
         0.524826362170279,
         0.5225669870153069,
         0.5268774779513479,
         0.5282089682295918,
         0.5250078024342656,
         0.5247285606339573,
         0.5288196513429284,
         0.5269148463383317,
         0.5398864986374974,
         0.5263889843598009,
         0.5303079241886735,
         0.5292031833902001,
         0.5338253917172551,
         0.5237045334652066,
         0.5366512009873986,
         0.5222586354240775,
         0.5256570788100362,
         0.535498913563788,
         0.5276914523914457,
         0.5292590675875545,
         0.5361172767356038,
         0.5282663675025105,
         0.5258807593956589,
         0.5331686148419976,
         0.5219674495980143,
         0.5327859172597528,
         0.5300787704065442,
         0.5333946401253342,
         0.5244650529697538,
         0.5324229652062058,
         0.5285631725564599,
         0.5243165144696832,
         0.5232371071353554,
         0.5290330352261663,
         0.5258517878130078,
         0.5281110277399421,
         0.5277339259162546,
         0.5183304602280259,
         0.5323131101205945,
         0.5292264068499207,
         0.527641579695046,
         0.5183120252564549,
         0.5280487457290292,
         0.5197393978014588,
         0.5242524297907949,
         0.5319556782022119,
         0.5248351642861963,
         0.5332738744094968,
         0.5218989500775933,
         0.5240601325407624,
         0.531711738742888,
         0.526263346709311,
         0.5292157443240285,
         0.5316439943388105,
         0.5371486829593778,
         0.5250937802717089,
         0.5298289222642779,
         0.5246729055419564,
         0.5229190165176988,
         0.5310203256085515,
         0.5352371515706181,
         0.5268621141090989,
         0.5342457482591272,
         0.5303298899903893,
         0.5212216163054109,
         0.5352368222549557,
         0.527188572473824,
         0.5232193129137158,
         0.5383329747244716,
         0.5292306447401642,
         0.5196122767403721,
         0.5344201827421784,
         0.5216946298256516,
         0.5279145168140531,
         0.525093981064856,
         0.5292581429705023,
         0.5314593056216836,
         0.5303890103474259,
         0.5314250269904732,
         0.5279014417901635,
         0.5291741462424397,
         0.5250010037794709,
         0.5233196767047048,
         0.5239425817504525,
         0.522141538746655,
         0.5221359061077238,
         0.5251683639362454,
         0.530368989892304,
         0.5284879127517342,
         0.5182079853489995,
         0.5236236499622464,
         0.5220358232036233,
         0.5290334546938539,
         0.5250454695895315,
         0.5296108631417156,
         0.5270990850403905,
         0.5212531620636582,
         0.5276848236098886,
         0.5303412558510899
        ],
        [
         10.437088806182146,
         10.49652724340558,
         10.451339740306139,
         10.537549559026957,
         10.564179364591837,
         10.500156048685312,
         10.494571212679148,
         10.576393026858568,
         10.538296926766634,
         10.797729972749949,
         10.527779687196016,
         10.60615848377347,
         10.584063667804003,
         10.676507834345102,
         10.474090669304132,
         10.733024019747972,
         10.44517270848155,
         10.513141576200724,
         10.709978271275759,
         10.553829047828913,
         10.585181351751089,
         10.722345534712076,
         10.565327350050211,
         10.51761518791318,
         10.663372296839952,
         10.439348991960287,
         10.655718345195055,
         10.601575408130884,
         10.667892802506685,
         10.489301059395075,
         10.648459304124117,
         10.571263451129198,
         10.486330289393663,
         10.46474214270711,
         10.580660704523325,
         10.517035756260157,
         10.562220554798841,
         10.55467851832509,
         10.366609204560518,
         10.64626220241189,
         10.584528136998415,
         10.552831593900919,
         10.366240505129099,
         10.560974914580584,
         10.394787956029177,
         10.485048595815897,
         10.639113564044237,
         10.496703285723925,
         10.665477488189936,
         10.437979001551867,
         10.481202650815248,
         10.63423477485776,
         10.52526693418622,
         10.58431488648057,
         10.632879886776209,
         10.742973659187555,
         10.50187560543418,
         10.596578445285559,
         10.493458110839128,
         10.458380330353975,
         10.62040651217103,
         10.704743031412363,
         10.537242282181978,
         10.684914965182543,
         10.606597799807787,
         10.424432326108217,
         10.704736445099115,
         10.54377144947648,
         10.464386258274317,
         10.766659494489431,
         10.584612894803286,
         10.392245534807444,
         10.688403654843569,
         10.433892596513033,
         10.558290336281061,
         10.501879621297121,
         10.585162859410048,
         10.629186112433672,
         10.607780206948519,
         10.628500539809465,
         10.55802883580327,
         10.583482924848795,
         10.500020075589418,
         10.466393534094095,
         10.47885163500905,
         10.4428307749331,
         10.442718122154474,
         10.503367278724909,
         10.607379797846079,
         10.569758255034685,
         10.36415970697999,
         10.472472999244928,
         10.440716464072466,
         10.580669093877077,
         10.500909391790628,
         10.59221726283431,
         10.54198170080781,
         10.425063241273165,
         10.553696472197771,
         10.606825117021799
        ],
        [
         3.509291751886475,
         3.453713650095455,
         3.4604080468242944,
         3.4509839763281667,
         3.4765014358910618,
         3.4646530615480824,
         3.425206816185371,
         3.4576777414309103,
         3.4739101551289493,
         3.499847261030248,
         3.462811798738962,
         3.4663201908808787,
         3.4647133719109626,
         3.4756920039274632,
         3.4847270928478102,
         3.491850399202235,
         3.4625379795428994,
         3.443774562850732,
         3.5077940364173656,
         3.449397709784154,
         3.4665267963077886,
         3.508291210965913,
         3.4341416809481844,
         3.455142745832045,
         3.471360315918459,
         3.4719021739112996,
         3.48900949207131,
         3.4700200989199996,
         3.47791833250262,
         3.4352401906005445,
         3.47558861777509,
         3.45705039266493,
         3.4409167081853074,
         3.456527688887662,
         3.4599104956901368,
         3.438584783365439,
         3.5013266686139324,
         3.4695637464545226,
         3.3771462771070446,
         3.48911438468153,
         3.491584780055184,
         3.4850518916188467,
         3.421465188763003,
         3.46462039053337,
         3.440081100979354,
         3.425249698733637,
         3.4828004955285716,
         3.454987157877247,
         3.4716274641683467,
         3.4298040002729677,
         3.4689730539345156,
         3.461823697346589,
         3.4419947409555154,
         3.4791753823128024,
         3.4727465799809623,
         3.4971792377879805,
         3.4418487059778875,
         3.4943551799587893,
         3.463696692655286,
         3.4219756721010826,
         3.469101128163551,
         3.4733211614484163,
         3.446058942510661,
         3.4780396430496308,
         3.4731987514134985,
         3.42753912150226,
         3.4973553991282227,
         3.4223410768799094,
         3.427308321611834,
         3.5253768736976134,
         3.478273447387693,
         3.465544725630392,
         3.497625871397743,
         3.3941029300000665,
         3.4702514308569987,
         3.478515158872759,
         3.4777326457576128,
         3.4991099720250025,
         3.4765537038824217,
         3.4679432368132246,
         3.4392305641650385,
         3.4909559952402507,
         3.428280261920873,
         3.4446498742617218,
         3.414755596741025,
         3.427961478968463,
         3.449986087471455,
         3.426056630345426,
         3.4809781149048895,
         3.457152774273498,
         3.457754101537141,
         3.4526499706252385,
         3.4169287344891788,
         3.4611698978249588,
         3.4955497009086023,
         3.4903964890236012,
         3.455379752910388,
         3.4375576879241705,
         3.4664427582101904,
         3.490019339331835
        ]
       ],
       "encoder": "json",
       "name": "ABC_GAN_2 Metrics",
       "version": 1
      }
     },
     "metadata": {
      "scrapbook": {
       "data": true,
       "display": false,
       "name": "ABC_GAN_2 Metrics"
      }
     },
     "output_type": "display_data"
    },
    {
     "name": "stdout",
     "output_type": "stream",
     "text": [
      "MAE\n",
      "0.5276288781277836\n"
     ]
    }
   ],
   "source": [
    "ABC_GAN2_metrics=ABC_train_test2.test_generator(gen2,test_data,prior_model,variance,bias,\"1\",device)\n",
    "sb.glue(\"ABC_GAN_2 Metrics\",ABC_GAN2_metrics)\n",
    "\n",
    "print(\"MAE\")\n",
    "print(mean(ABC_GAN2_metrics[1]))"
   ]
  },
  {
   "cell_type": "code",
   "execution_count": 18,
   "id": "65995173",
   "metadata": {
    "execution": {
     "iopub.execute_input": "2022-07-22T10:44:45.140625Z",
     "iopub.status.busy": "2022-07-22T10:44:45.140251Z",
     "iopub.status.idle": "2022-07-22T10:44:46.137009Z",
     "shell.execute_reply": "2022-07-22T10:44:46.135845Z"
    },
    "papermill": {
     "duration": 1.036572,
     "end_time": "2022-07-22T10:44:46.140465",
     "exception": false,
     "start_time": "2022-07-22T10:44:45.103893",
     "status": "completed"
    },
    "tags": []
   },
   "outputs": [
    {
     "data": {
      "image/png": "[encoded data removed]",
      "text/plain": [
       "<Figure size 432x288 with 1 Axes>"
      ]
     },
     "metadata": {
      "needs_background": "light"
     },
     "output_type": "display_data"
    },
    {
     "data": {
      "image/png": "[encoded data removed]",
      "text/plain": [
       "<Figure size 432x288 with 1 Axes>"
      ]
     },
     "metadata": {
      "needs_background": "light"
     },
     "output_type": "display_data"
    },
    {
     "data": {
      "image/png": "[encoded data removed]",
      "text/plain": [
       "<Figure size 432x288 with 1 Axes>"
      ]
     },
     "metadata": {
      "needs_background": "light"
     },
     "output_type": "display_data"
    },
    {
     "data": {
      "image/png": "[encoded data removed]",
      "text/plain": [
       "<Figure size 432x288 with 1 Axes>"
      ]
     },
     "metadata": {
      "needs_background": "light"
     },
     "output_type": "display_data"
    }
   ],
   "source": [
    "sanityChecks.discProbVsError(train_data,disc2,device)\n",
    "sanityChecks.discProbVsError(test_data,disc2,device)"
   ]
  },
  {
   "cell_type": "markdown",
   "id": "130f3a4d",
   "metadata": {
    "id": "130f3a4d",
    "papermill": {
     "duration": 0.026804,
     "end_time": "2022-07-22T10:44:46.203449",
     "exception": false,
     "start_time": "2022-07-22T10:44:46.176645",
     "status": "completed"
    },
    "tags": []
   },
   "source": [
    "# skipGAN Model"
   ]
  },
  {
   "cell_type": "code",
   "execution_count": 19,
   "id": "4e43dad1",
   "metadata": {
    "execution": {
     "iopub.execute_input": "2022-07-22T10:44:46.264693Z",
     "iopub.status.busy": "2022-07-22T10:44:46.264052Z",
     "iopub.status.idle": "2022-07-22T10:44:46.271841Z",
     "shell.execute_reply": "2022-07-22T10:44:46.270152Z"
    },
    "id": "4e43dad1",
    "papermill": {
     "duration": 0.040805,
     "end_time": "2022-07-22T10:44:46.275063",
     "exception": false,
     "start_time": "2022-07-22T10:44:46.234258",
     "status": "completed"
    },
    "tags": []
   },
   "outputs": [],
   "source": [
    "# #Generator\n",
    "# gen3 = network.GeneratorWithSkipConnection(n_features+1).to(device)\n",
    "# constraints=network.weightConstraint()\n",
    "# #Discriminator \n",
    "# disc3 = network.Discriminator(n_features+1).to(device)\n",
    "\n",
    "# criterion = torch.nn.BCELoss()\n",
    "# gen_opt = torch.optim.Adam(gen3.parameters(), lr=0.01, betas=(0.5, 0.999))\n",
    "# disc_opt = torch.optim.Adam(disc3.parameters(), lr=0.01, betas=(0.5, 0.999))\n"
   ]
  },
  {
   "cell_type": "code",
   "execution_count": 20,
   "id": "26acbc37",
   "metadata": {
    "execution": {
     "iopub.execute_input": "2022-07-22T10:44:46.340302Z",
     "iopub.status.busy": "2022-07-22T10:44:46.339969Z",
     "iopub.status.idle": "2022-07-22T10:44:46.345182Z",
     "shell.execute_reply": "2022-07-22T10:44:46.343810Z"
    },
    "id": "26acbc37",
    "papermill": {
     "duration": 0.043755,
     "end_time": "2022-07-22T10:44:46.349576",
     "exception": false,
     "start_time": "2022-07-22T10:44:46.305821",
     "status": "completed"
    },
    "tags": []
   },
   "outputs": [],
   "source": [
    "# ABC_train_test2.training_GAN_skip_connection(disc3,gen3,disc_opt,gen_opt,train_data,batch_size,n_epochs,criterion,prior_model,variance,bias,device)"
   ]
  },
  {
   "cell_type": "code",
   "execution_count": 21,
   "id": "c5e0717b",
   "metadata": {
    "execution": {
     "iopub.execute_input": "2022-07-22T10:44:46.406198Z",
     "iopub.status.busy": "2022-07-22T10:44:46.405410Z",
     "iopub.status.idle": "2022-07-22T10:44:46.410631Z",
     "shell.execute_reply": "2022-07-22T10:44:46.409559Z"
    },
    "id": "c5e0717b",
    "papermill": {
     "duration": 0.040415,
     "end_time": "2022-07-22T10:44:46.417143",
     "exception": false,
     "start_time": "2022-07-22T10:44:46.376728",
     "status": "completed"
    },
    "tags": []
   },
   "outputs": [],
   "source": [
    "# ABC_GAN3_metrics=ABC_train_test2.test_generator(gen3,test_data,prior_model,variance,bias,\"3\",device)\n",
    "# sb.glue(\"ABC_GAN_3 Metrics\",ABC_GAN3_metrics)\n",
    "\n",
    "# print(\"MAE\")\n",
    "# print(mean(ABC_GAN3_metrics[1]))"
   ]
  },
  {
   "cell_type": "code",
   "execution_count": 22,
   "id": "c8e46b48",
   "metadata": {
    "execution": {
     "iopub.execute_input": "2022-07-22T10:44:46.472997Z",
     "iopub.status.busy": "2022-07-22T10:44:46.472570Z",
     "iopub.status.idle": "2022-07-22T10:44:46.476259Z",
     "shell.execute_reply": "2022-07-22T10:44:46.475388Z"
    },
    "id": "c8e46b48",
    "papermill": {
     "duration": 0.034717,
     "end_time": "2022-07-22T10:44:46.480302",
     "exception": false,
     "start_time": "2022-07-22T10:44:46.445585",
     "status": "completed"
    },
    "tags": []
   },
   "outputs": [],
   "source": [
    "# sanityChecks.discProbVsError(train_data,disc3,device)\n",
    "# sanityChecks.discProbVsError(test_data,disc3,device)"
   ]
  },
  {
   "cell_type": "markdown",
   "id": "782aa584",
   "metadata": {
    "id": "130f3a4d",
    "papermill": {
     "duration": 0.028524,
     "end_time": "2022-07-22T10:44:46.539097",
     "exception": false,
     "start_time": "2022-07-22T10:44:46.510573",
     "status": "completed"
    },
    "tags": []
   },
   "source": [
    "# skipGAN Model with TabNet Generator"
   ]
  },
  {
   "cell_type": "code",
   "execution_count": 23,
   "id": "8f722dd2",
   "metadata": {
    "execution": {
     "iopub.execute_input": "2022-07-22T10:44:46.596344Z",
     "iopub.status.busy": "2022-07-22T10:44:46.595796Z",
     "iopub.status.idle": "2022-07-22T10:44:46.614582Z",
     "shell.execute_reply": "2022-07-22T10:44:46.613560Z"
    },
    "id": "4e43dad1",
    "papermill": {
     "duration": 0.051167,
     "end_time": "2022-07-22T10:44:46.617737",
     "exception": false,
     "start_time": "2022-07-22T10:44:46.566570",
     "status": "completed"
    },
    "tags": []
   },
   "outputs": [],
   "source": [
    "#Generator\n",
    "gen4 = network.GeneratorTabnetskipConnection(n_features+1).to(device)\n",
    "constraints=network.weightConstraint()\n",
    "#Discriminator \n",
    "disc4 = network.Discriminator(n_features+1).to(device)\n",
    "\n",
    "criterion = torch.nn.BCELoss()\n",
    "gen_opt = torch.optim.Adam(gen4.parameters(), lr=0.001, betas=(0.5, 0.999))\n",
    "disc_opt = torch.optim.Adam(disc4.parameters(), lr=0.001, betas=(0.5, 0.999))\n"
   ]
  },
  {
   "cell_type": "code",
   "execution_count": 24,
   "id": "a904c4fc",
   "metadata": {
    "execution": {
     "iopub.execute_input": "2022-07-22T10:44:46.670698Z",
     "iopub.status.busy": "2022-07-22T10:44:46.670347Z",
     "iopub.status.idle": "2022-07-22T10:48:21.833582Z",
     "shell.execute_reply": "2022-07-22T10:48:21.832455Z"
    },
    "id": "26acbc37",
    "papermill": {
     "duration": 215.193595,
     "end_time": "2022-07-22T10:48:21.836622",
     "exception": false,
     "start_time": "2022-07-22T10:44:46.643027",
     "status": "completed"
    },
    "tags": []
   },
   "outputs": [
    {
     "data": {
      "image/png": "[encoded data removed]",
      "text/plain": [
       "<Figure size 432x288 with 1 Axes>"
      ]
     },
     "metadata": {
      "needs_background": "light"
     },
     "output_type": "display_data"
    },
    {
     "data": {
      "image/png": "[encoded data removed]",
      "text/plain": [
       "<Figure size 432x288 with 1 Axes>"
      ]
     },
     "metadata": {
      "needs_background": "light"
     },
     "output_type": "display_data"
    }
   ],
   "source": [
    "ABC_train_test2.training_GAN_skip_connection(disc4,gen4,disc_opt,gen_opt,train_data,batch_size,n_epochs,criterion,prior_model,variance,bias,device)"
   ]
  },
  {
   "cell_type": "code",
   "execution_count": 25,
   "id": "0e0d8440",
   "metadata": {
    "execution": {
     "iopub.execute_input": "2022-07-22T10:48:21.923913Z",
     "iopub.status.busy": "2022-07-22T10:48:21.923479Z",
     "iopub.status.idle": "2022-07-22T10:48:24.135777Z",
     "shell.execute_reply": "2022-07-22T10:48:24.134738Z"
    },
    "id": "c5e0717b",
    "papermill": {
     "duration": 2.272667,
     "end_time": "2022-07-22T10:48:24.138607",
     "exception": false,
     "start_time": "2022-07-22T10:48:21.865940",
     "status": "completed"
    },
    "tags": []
   },
   "outputs": [
    {
     "data": {
      "application/scrapbook.scrap.json+json": {
       "data": 0.36647339613407864,
       "encoder": "json",
       "name": "ABC-GAN Model 3 MSE",
       "version": 1
      }
     },
     "metadata": {
      "scrapbook": {
       "data": true,
       "display": false,
       "name": "ABC-GAN Model 3 MSE"
      }
     },
     "output_type": "display_data"
    },
    {
     "data": {
      "application/scrapbook.scrap.json+json": {
       "data": 0.4604104652479291,
       "encoder": "json",
       "name": "ABC-GAN Model 3 MAE",
       "version": 1
      }
     },
     "metadata": {
      "scrapbook": {
       "data": true,
       "display": false,
       "name": "ABC-GAN Model 3 MAE"
      }
     },
     "output_type": "display_data"
    },
    {
     "data": {
      "application/scrapbook.scrap.json+json": {
       "data": 9.208209304958581,
       "encoder": "json",
       "name": "ABC-GAN Model 3 Manhattan Distance",
       "version": 1
      }
     },
     "metadata": {
      "scrapbook": {
       "data": true,
       "display": false,
       "name": "ABC-GAN Model 3 Manhattan Distance"
      }
     },
     "output_type": "display_data"
    },
    {
     "data": {
      "application/scrapbook.scrap.json+json": {
       "data": 2.707283928471982,
       "encoder": "json",
       "name": "ABC-GAN Model 3 Euclidean distance",
       "version": 1
      }
     },
     "metadata": {
      "scrapbook": {
       "data": true,
       "display": false,
       "name": "ABC-GAN Model 3 Euclidean distance"
      }
     },
     "output_type": "display_data"
    },
    {
     "data": {
      "application/scrapbook.scrap.json+json": {
       "data": [
        [
         0.3591596060800638,
         0.36596337295902776,
         0.371200296609061,
         0.36589041380045184,
         0.36418587987419004,
         0.3657613042673897,
         0.36428732943635833,
         0.3674542237259339,
         0.36787736422780054,
         0.36642655973031696,
         0.3693220535234071,
         0.36806974788045144,
         0.36879375693878613,
         0.3655020304879999,
         0.36340349231302826,
         0.3687121280490918,
         0.3669941856925373,
         0.36427614176656875,
         0.36900607451921025,
         0.3672415900332071,
         0.3693379615868855,
         0.3648733494934092,
         0.36490419830649057,
         0.3658181380417087,
         0.3658013568417813,
         0.36846550085278545,
         0.36857507664575884,
         0.3700619964352496,
         0.3682357797388603,
         0.36413630054976637,
         0.37081025454854005,
         0.36784507288831414,
         0.36804922374544635,
         0.36609150464114115,
         0.36472319790175456,
         0.3697185771230089,
         0.36646545621709475,
         0.3650606432926412,
         0.3627908749708048,
         0.3708082589095979,
         0.36515999060973997,
         0.36468615347839817,
         0.3697322424804519,
         0.3654419073535874,
         0.36580128373827825,
         0.3664736500409461,
         0.36621768353026757,
         0.36405630690331414,
         0.3654493309693392,
         0.3684242509821425,
         0.3693865669845482,
         0.3656848545055882,
         0.3683987943452864,
         0.3652633830710873,
         0.3655533921556017,
         0.3646566694157002,
         0.36792725188503483,
         0.36495606252444546,
         0.36245088954478877,
         0.3638302701233357,
         0.37110760607116644,
         0.3651663189641939,
         0.3658643342667776,
         0.3668203221076158,
         0.35923475657453674,
         0.36386890642758124,
         0.3657848460462253,
         0.36784961518244136,
         0.36832024133590624,
         0.3636749332926367,
         0.36458597176697877,
         0.3649735303008565,
         0.36390551366941826,
         0.36952815065264877,
         0.36430169618689395,
         0.36872349131738197,
         0.36933415718674667,
         0.3697197956924287,
         0.36711374495962357,
         0.36896258544304394,
         0.36238256211998354,
         0.364070197291717,
         0.36226093029956974,
         0.37185253237163396,
         0.3689080374068133,
         0.366827139830357,
         0.36969947138323805,
         0.36808640094589146,
         0.3671103504086669,
         0.3654185840903093,
         0.36410697795966207,
         0.36570796342959333,
         0.36759657590685213,
         0.36273625983492214,
         0.36811010090168195,
         0.3665919663465731,
         0.3659371177827813,
         0.36879842940852187,
         0.36527518349353577,
         0.3653711054626564
        ],
        [
         0.4536036694422364,
         0.4578668223693967,
         0.4650860907509923,
         0.4596433395519853,
         0.46012468356639147,
         0.45855615828186275,
         0.4595113003626466,
         0.4603114301338792,
         0.4614041144028306,
         0.46139527950435877,
         0.4612050140276551,
         0.46360182184726,
         0.4638432817533612,
         0.46146954912692306,
         0.4581491814926267,
         0.4613587999716401,
         0.46189284343272446,
         0.4600311631336808,
         0.46343353632837536,
         0.46177275720983746,
         0.4602306725457311,
         0.4584656612947583,
         0.45832357425242665,
         0.4571407178416848,
         0.46065510157495737,
         0.4602469878271222,
         0.461009075678885,
         0.46194663513451817,
         0.4622056121006608,
         0.45943721700459716,
         0.46414640862494705,
         0.46114813182502984,
         0.4616540828719735,
         0.4598351800814271,
         0.45972300712019204,
         0.4618634404614568,
         0.46145768780261276,
         0.45855605248361825,
         0.45885594431310894,
         0.46417435724288225,
         0.46131197083741426,
         0.45841399896889923,
         0.46376654002815487,
         0.4599021324887872,
         0.45843033734709027,
         0.45962801966816186,
         0.46252816934138535,
         0.4592780822888017,
         0.45971317160874603,
         0.46033041048794987,
         0.4627956638112664,
         0.45698895398527384,
         0.4607045317068696,
         0.45866986606270077,
         0.45976799074560404,
         0.4586098501458764,
         0.46129509825259446,
         0.45908643323928117,
         0.4573435174301267,
         0.4576624745503068,
         0.4626123713329434,
         0.4602836662903428,
         0.46240611243993046,
         0.45966683719307183,
         0.4569589586928487,
         0.45746215227991344,
         0.4580569097772241,
         0.4610440442338586,
         0.46304990220814946,
         0.45925304759293795,
         0.45801303405314686,
         0.45899486932903527,
         0.4603126751258969,
         0.4603207902982831,
         0.45881730783730745,
         0.4619882943108678,
         0.4639387832954526,
         0.4643281513825059,
         0.46173185054212806,
         0.4640123726800084,
         0.45695674810558556,
         0.45846714098006486,
         0.4598493518307805,
         0.4625734517350793,
         0.46214640606194735,
         0.46104154381901025,
         0.46407326925545933,
         0.4618271687999368,
         0.45814215634018185,
         0.459179169870913,
         0.46016602013260127,
         0.46195078287273644,
         0.46140218768268826,
         0.45947334785014393,
         0.46157208625227214,
         0.45783848557621243,
         0.46006217766553165,
         0.4601984882727265,
         0.45922525245696305,
         0.460085560567677
        ],
        [
         9.072073388844728,
         9.157336447387934,
         9.301721815019846,
         9.192866791039705,
         9.20249367132783,
         9.171123165637255,
         9.190226007252932,
         9.206228602677584,
         9.228082288056612,
         9.227905590087175,
         9.224100280553102,
         9.2720364369452,
         9.276865635067225,
         9.229390982538462,
         9.162983629852533,
         9.227175999432802,
         9.23785686865449,
         9.200623262673616,
         9.268670726567507,
         9.235455144196749,
         9.204613450914621,
         9.169313225895166,
         9.166471485048532,
         9.142814356833696,
         9.213102031499147,
         9.204939756542444,
         9.2201815135777,
         9.238932702690363,
         9.244112242013216,
         9.188744340091944,
         9.282928172498941,
         9.222962636500597,
         9.23308165743947,
         9.196703601628542,
         9.194460142403841,
         9.237268809229136,
         9.229153756052256,
         9.171121049672365,
         9.177118886262178,
         9.283487144857645,
         9.226239416748285,
         9.168279979377985,
         9.275330800563097,
         9.198042649775743,
         9.168606746941805,
         9.192560393363237,
         9.250563386827707,
         9.185561645776033,
         9.194263432174921,
         9.206608209758997,
         9.255913276225328,
         9.139779079705477,
         9.214090634137392,
         9.173397321254015,
         9.19535981491208,
         9.172197002917528,
         9.22590196505189,
         9.181728664785624,
         9.146870348602533,
         9.153249491006136,
         9.252247426658869,
         9.205673325806856,
         9.248122248798609,
         9.193336743861437,
         9.139179173856974,
         9.149243045598269,
         9.161138195544481,
         9.220880884677172,
         9.260998044162989,
         9.185060951858759,
         9.160260681062937,
         9.179897386580706,
         9.206253502517939,
         9.206415805965662,
         9.176346156746149,
         9.239765886217356,
         9.278775665909052,
         9.286563027650118,
         9.234637010842562,
         9.280247453600168,
         9.139134962111712,
         9.169342819601297,
         9.19698703661561,
         9.251469034701586,
         9.242928121238947,
         9.220830876380205,
         9.281465385109186,
         9.236543375998735,
         9.162843126803637,
         9.18358339741826,
         9.203320402652025,
         9.239015657454729,
         9.228043753653765,
         9.189466957002878,
         9.231441725045443,
         9.156769711524248,
         9.201243553310633,
         9.20396976545453,
         9.184505049139261,
         9.20171121135354
        ],
        [
         2.680147779806419,
         2.7054144708677366,
         2.7247029071407436,
         2.7051447791216345,
         2.698836341367109,
         2.704667462988342,
         2.6992122163192667,
         2.7109194887562924,
         2.712479914129506,
         2.70712600272066,
         2.717800778288972,
         2.713189075167639,
         2.7158562441292293,
         2.7037086769398804,
         2.695935801583666,
         2.7155556633922706,
         2.7092219757433584,
         2.6991707680936705,
         2.7166379019634186,
         2.710135015209416,
         2.717859310512174,
         2.7013824219958535,
         2.701496615976006,
         2.704877587033131,
         2.7048155458063357,
         2.714647309883129,
         2.715050926394416,
         2.7205219956296975,
         2.7138009497340083,
         2.698652628812261,
         2.7232710278212857,
         2.712360864222584,
         2.7131134283160607,
         2.7058880414427393,
         2.700826532385057,
         2.7192593738847677,
         2.7072696807562218,
         2.7020756587950725,
         2.693662469467193,
         2.7232636997161985,
         2.7024433041591824,
         2.7006893693218337,
         2.7193096273887307,
         2.70348629496651,
         2.704815275534646,
         2.7072999465923466,
         2.706354313574878,
         2.6983561918446357,
         2.703513754244055,
         2.714495352665547,
         2.7180381416917174,
         2.704384789580019,
         2.7144015706792035,
         2.702825865908077,
         2.703898637728869,
         2.700580194757046,
         2.7126638268869026,
         2.701688592434167,
         2.69240000573759,
         2.6975183785225103,
         2.724362700049927,
         2.7024667212167253,
         2.705048370239533,
         2.708580152432694,
         2.680428161971653,
         2.6976616037879224,
         2.7047545028938402,
         2.712377610814694,
         2.7141121617792665,
         2.696942466174007,
         2.7003183951785346,
         2.7017532466931784,
         2.6977973002782036,
         2.718558995691095,
         2.699265441511427,
         2.715597508164205,
         2.7178453126944024,
         2.719263855135903,
         2.7096632446103834,
         2.7164778130625105,
         2.692146214899865,
         2.698407668576848,
         2.691694374551352,
         2.727095643249917,
         2.716277001363496,
         2.708605323151961,
         2.719189112155453,
         2.713250452670713,
         2.7096507170064075,
         2.703400022528332,
         2.6985439702167615,
         2.7044702380673127,
         2.7114445445439306,
         2.693459707643395,
         2.713337800207272,
         2.707736938281018,
         2.7053174223472607,
         2.7158734484821707,
         2.702869525128935,
         2.703224391213783
        ]
       ],
       "encoder": "json",
       "name": "ABC_GAN_4 Metrics",
       "version": 1
      }
     },
     "metadata": {
      "scrapbook": {
       "data": true,
       "display": false,
       "name": "ABC_GAN_4 Metrics"
      }
     },
     "output_type": "display_data"
    },
    {
     "name": "stdout",
     "output_type": "stream",
     "text": [
      "MAE\n",
      "0.4604104652479291\n"
     ]
    }
   ],
   "source": [
    "ABC_GAN4_metrics=ABC_train_test2.test_generator(gen4,test_data,prior_model,variance,bias,\"3\",device)\n",
    "sb.glue(\"ABC_GAN_4 Metrics\",ABC_GAN4_metrics)\n",
    "\n",
    "print(\"MAE\")\n",
    "print(mean(ABC_GAN4_metrics[1]))"
   ]
  },
  {
   "cell_type": "code",
   "execution_count": 26,
   "id": "b0da150e",
   "metadata": {
    "execution": {
     "iopub.execute_input": "2022-07-22T10:48:24.215728Z",
     "iopub.status.busy": "2022-07-22T10:48:24.214829Z",
     "iopub.status.idle": "2022-07-22T10:48:25.454776Z",
     "shell.execute_reply": "2022-07-22T10:48:25.453201Z"
    },
    "id": "c8e46b48",
    "papermill": {
     "duration": 1.27945,
     "end_time": "2022-07-22T10:48:25.457862",
     "exception": false,
     "start_time": "2022-07-22T10:48:24.178412",
     "status": "completed"
    },
    "tags": []
   },
   "outputs": [
    {
     "data": {
      "image/png": "[encoded data removed]",
      "text/plain": [
       "<Figure size 432x288 with 1 Axes>"
      ]
     },
     "metadata": {
      "needs_background": "light"
     },
     "output_type": "display_data"
    },
    {
     "data": {
      "image/png": "[encoded data removed]",
      "text/plain": [
       "<Figure size 432x288 with 1 Axes>"
      ]
     },
     "metadata": {
      "needs_background": "light"
     },
     "output_type": "display_data"
    },
    {
     "data": {
      "image/png": "[encoded data removed]",
      "text/plain": [
       "<Figure size 432x288 with 1 Axes>"
      ]
     },
     "metadata": {
      "needs_background": "light"
     },
     "output_type": "display_data"
    },
    {
     "data": {
      "image/png": "[encoded data removed]",
      "text/plain": [
       "<Figure size 432x288 with 1 Axes>"
      ]
     },
     "metadata": {
      "needs_background": "light"
     },
     "output_type": "display_data"
    }
   ],
   "source": [
    "sanityChecks.discProbVsError(train_data,disc4,device)\n",
    "sanityChecks.discProbVsError(test_data,disc4,device)"
   ]
  },
  {
   "cell_type": "markdown",
   "id": "a5bd74c3",
   "metadata": {
    "id": "a5bd74c3",
    "papermill": {
     "duration": 0.033616,
     "end_time": "2022-07-22T10:48:25.527049",
     "exception": false,
     "start_time": "2022-07-22T10:48:25.493433",
     "status": "completed"
    },
    "tags": []
   },
   "source": [
    "## Skip Connection Model Analysis - ABC-GAN "
   ]
  },
  {
   "cell_type": "markdown",
   "id": "5744a8bf",
   "metadata": {
    "id": "5744a8bf",
    "papermill": {
     "duration": 0.033067,
     "end_time": "2022-07-22T10:48:25.598989",
     "exception": false,
     "start_time": "2022-07-22T10:48:25.565922",
     "status": "completed"
    },
    "tags": []
   },
   "source": [
    "### Weight Analysis \n",
    "\n",
    "Study the weights of the skip connection layer\n",
    "\n",
    "Equation of the skip connection is \n",
    "\n",
    "$output = y_{gan} * w + y_{abc} * (1-w)$"
   ]
  },
  {
   "cell_type": "code",
   "execution_count": 27,
   "id": "52c31dea",
   "metadata": {
    "execution": {
     "iopub.execute_input": "2022-07-22T10:48:25.670484Z",
     "iopub.status.busy": "2022-07-22T10:48:25.669956Z",
     "iopub.status.idle": "2022-07-22T10:48:25.675759Z",
     "shell.execute_reply": "2022-07-22T10:48:25.674581Z"
    },
    "id": "52c31dea",
    "papermill": {
     "duration": 0.043828,
     "end_time": "2022-07-22T10:48:25.679083",
     "exception": false,
     "start_time": "2022-07-22T10:48:25.635255",
     "status": "completed"
    },
    "tags": []
   },
   "outputs": [],
   "source": [
    "# print(\"Weight of the node at skip connection\")\n",
    "# for name,param in gen3.named_parameters():\n",
    "#     if(name == \"skipNode.weight\"):\n",
    "#         print(param)\n",
    "#         sb.glue(\"Skip Connection Weight\",param.item())"
   ]
  },
  {
   "cell_type": "markdown",
   "id": "f5e44ed5",
   "metadata": {
    "id": "a5bd74c3",
    "papermill": {
     "duration": 0.031795,
     "end_time": "2022-07-22T10:48:25.744773",
     "exception": false,
     "start_time": "2022-07-22T10:48:25.712978",
     "status": "completed"
    },
    "tags": []
   },
   "source": [
    "## skipGAN Model Analysis (TabNet Generator) "
   ]
  },
  {
   "cell_type": "markdown",
   "id": "b0645e48",
   "metadata": {
    "id": "5744a8bf",
    "papermill": {
     "duration": 0.033927,
     "end_time": "2022-07-22T10:48:25.809470",
     "exception": false,
     "start_time": "2022-07-22T10:48:25.775543",
     "status": "completed"
    },
    "tags": []
   },
   "source": [
    "### Weight Analysis \n",
    "\n",
    "Study the weights of the skip connection layer\n",
    "\n",
    "Equation of the skip connection is \n",
    "\n",
    "$output = y_{gan} * w + y_{abc} * (1-w)$"
   ]
  },
  {
   "cell_type": "code",
   "execution_count": 28,
   "id": "25c717af",
   "metadata": {
    "execution": {
     "iopub.execute_input": "2022-07-22T10:48:25.876900Z",
     "iopub.status.busy": "2022-07-22T10:48:25.876223Z",
     "iopub.status.idle": "2022-07-22T10:48:25.891974Z",
     "shell.execute_reply": "2022-07-22T10:48:25.890496Z"
    },
    "id": "52c31dea",
    "papermill": {
     "duration": 0.053758,
     "end_time": "2022-07-22T10:48:25.895909",
     "exception": false,
     "start_time": "2022-07-22T10:48:25.842151",
     "status": "completed"
    },
    "tags": []
   },
   "outputs": [
    {
     "name": "stdout",
     "output_type": "stream",
     "text": [
      "Weight of the node at skip connection\n",
      "Parameter containing:\n",
      "tensor([[0.1805]], requires_grad=True)\n"
     ]
    },
    {
     "data": {
      "application/scrapbook.scrap.json+json": {
       "data": 0.18048737943172455,
       "encoder": "json",
       "name": "Skip Connection Weight",
       "version": 1
      }
     },
     "metadata": {
      "scrapbook": {
       "data": true,
       "display": false,
       "name": "Skip Connection Weight"
      }
     },
     "output_type": "display_data"
    }
   ],
   "source": [
    "print(\"Weight of the node at skip connection\")\n",
    "for name,param in gen4.named_parameters():\n",
    "    if(name == \"skipNode.weight\"):\n",
    "        print(param)\n",
    "        sb.glue(\"Skip Connection Weight\",param.item())"
   ]
  }
 ],
 "metadata": {
  "colab": {
   "collapsed_sections": [],
   "name": "ABC_GAN_Model-Catboost_Pre-gen.ipynb",
   "provenance": []
  },
  "interpreter": {
   "hash": "31f2aee4e71d21fbe5cf8b01ff0e069b9275f58929596ceb00d14d90e3e16cd6"
  },
  "kernelspec": {
   "display_name": "Python 3 (ipykernel)",
   "language": "python",
   "name": "python3"
  },
  "language_info": {
   "codemirror_mode": {
    "name": "ipython",
    "version": 3
   },
   "file_extension": ".py",
   "mimetype": "text/x-python",
   "name": "python",
   "nbconvert_exporter": "python",
   "pygments_lexer": "ipython3",
   "version": "3.8.13"
  },
  "papermill": {
   "default_parameters": {},
   "duration": 455.069549,
   "end_time": "2022-07-22T10:48:26.699928",
   "environment_variables": {},
   "exception": null,
   "input_path": "ABC_GAN-TabNet.ipynb",
   "output_path": "./ABC_GAN_TabNet/ABC-GAN_output_2_8.ipynb",
   "parameters": {
    "bias": 0.01,
    "variance": 0.01
   },
   "start_time": "2022-07-22T10:40:51.630379",
   "version": "2.3.3"
  }
 },
 "nbformat": 4,
 "nbformat_minor": 5
}