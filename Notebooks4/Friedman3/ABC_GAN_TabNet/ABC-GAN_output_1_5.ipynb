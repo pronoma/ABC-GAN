{
 "cells": [
  {
   "cell_type": "markdown",
   "id": "622780e6",
   "metadata": {
    "id": "622780e6",
    "papermill": {
     "duration": 0.009004,
     "end_time": "2022-07-22T08:38:51.884284",
     "exception": false,
     "start_time": "2022-07-22T08:38:51.875280",
     "status": "completed"
    },
    "tags": []
   },
   "source": [
    "## Import Libraries "
   ]
  },
  {
   "cell_type": "code",
   "execution_count": 1,
   "id": "a62397e3",
   "metadata": {
    "execution": {
     "iopub.execute_input": "2022-07-22T08:38:51.902467Z",
     "iopub.status.busy": "2022-07-22T08:38:51.901922Z",
     "iopub.status.idle": "2022-07-22T08:38:51.918908Z",
     "shell.execute_reply": "2022-07-22T08:38:51.918142Z"
    },
    "id": "a62397e3",
    "papermill": {
     "duration": 0.029506,
     "end_time": "2022-07-22T08:38:51.921725",
     "exception": false,
     "start_time": "2022-07-22T08:38:51.892219",
     "status": "completed"
    },
    "tags": []
   },
   "outputs": [],
   "source": [
    "import warnings\n",
    "import sys\n",
    "sys.path.insert(0, '../../src')\n",
    "warnings.filterwarnings('ignore')"
   ]
  },
  {
   "cell_type": "code",
   "execution_count": 2,
   "id": "d6a4e155",
   "metadata": {
    "execution": {
     "iopub.execute_input": "2022-07-22T08:38:51.940981Z",
     "iopub.status.busy": "2022-07-22T08:38:51.940581Z",
     "iopub.status.idle": "2022-07-22T08:38:58.769301Z",
     "shell.execute_reply": "2022-07-22T08:38:58.767401Z"
    },
    "id": "d6a4e155",
    "papermill": {
     "duration": 6.841141,
     "end_time": "2022-07-22T08:38:58.772524",
     "exception": false,
     "start_time": "2022-07-22T08:38:51.931383",
     "status": "completed"
    },
    "tags": []
   },
   "outputs": [],
   "source": [
    "import ABC_train_test2\n",
    "import friedman3Dataset\n",
    "import network\n",
    "import dataset\n",
    "import sanityChecks\n",
    "import torch \n",
    "import scrapbook as sb\n",
    "from statistics import mean \n",
    "import catboost as ctb \n",
    "from sklearn.model_selection import train_test_split\n",
    "from sklearn.metrics import mean_squared_error,mean_absolute_error\n",
    "import numpy as np\n",
    "from pytorch_tabnet.tab_model import TabNetRegressor"
   ]
  },
  {
   "cell_type": "markdown",
   "id": "2fa5b0f7",
   "metadata": {
    "id": "2fa5b0f7",
    "papermill": {
     "duration": 0.00728,
     "end_time": "2022-07-22T08:38:58.787207",
     "exception": false,
     "start_time": "2022-07-22T08:38:58.779927",
     "status": "completed"
    },
    "tags": []
   },
   "source": [
    "## Parameters "
   ]
  },
  {
   "cell_type": "code",
   "execution_count": 3,
   "id": "783186fb",
   "metadata": {
    "execution": {
     "iopub.execute_input": "2022-07-22T08:38:58.805479Z",
     "iopub.status.busy": "2022-07-22T08:38:58.805150Z",
     "iopub.status.idle": "2022-07-22T08:38:58.811183Z",
     "shell.execute_reply": "2022-07-22T08:38:58.808734Z"
    },
    "id": "783186fb",
    "papermill": {
     "duration": 0.01901,
     "end_time": "2022-07-22T08:38:58.815374",
     "exception": false,
     "start_time": "2022-07-22T08:38:58.796364",
     "status": "completed"
    },
    "tags": [
     "parameters"
    ]
   },
   "outputs": [],
   "source": [
    "variance = 1\n",
    "bias = 1 "
   ]
  },
  {
   "cell_type": "code",
   "execution_count": 4,
   "id": "c423e81a",
   "metadata": {
    "execution": {
     "iopub.execute_input": "2022-07-22T08:38:58.837423Z",
     "iopub.status.busy": "2022-07-22T08:38:58.836764Z",
     "iopub.status.idle": "2022-07-22T08:38:58.844180Z",
     "shell.execute_reply": "2022-07-22T08:38:58.843176Z"
    },
    "papermill": {
     "duration": 0.022645,
     "end_time": "2022-07-22T08:38:58.847695",
     "exception": false,
     "start_time": "2022-07-22T08:38:58.825050",
     "status": "completed"
    },
    "tags": [
     "injected-parameters"
    ]
   },
   "outputs": [],
   "source": [
    "# Parameters\n",
    "variance = 0.01\n",
    "bias = 0.1\n"
   ]
  },
  {
   "cell_type": "markdown",
   "id": "391cdbfd",
   "metadata": {
    "id": "391cdbfd",
    "papermill": {
     "duration": 0.008109,
     "end_time": "2022-07-22T08:38:58.864849",
     "exception": false,
     "start_time": "2022-07-22T08:38:58.856740",
     "status": "completed"
    },
    "tags": []
   },
   "source": [
    "## Dataset \n"
   ]
  },
  {
   "cell_type": "code",
   "execution_count": 5,
   "id": "5b51f161",
   "metadata": {
    "execution": {
     "iopub.execute_input": "2022-07-22T08:38:58.883515Z",
     "iopub.status.busy": "2022-07-22T08:38:58.882807Z",
     "iopub.status.idle": "2022-07-22T08:38:58.889317Z",
     "shell.execute_reply": "2022-07-22T08:38:58.886909Z"
    },
    "id": "5b51f161",
    "papermill": {
     "duration": 0.019368,
     "end_time": "2022-07-22T08:38:58.892605",
     "exception": false,
     "start_time": "2022-07-22T08:38:58.873237",
     "status": "completed"
    },
    "tags": []
   },
   "outputs": [],
   "source": [
    "#Parameters \n",
    "n_features = 4\n",
    "n_samples= 100\n",
    "n_target = 1"
   ]
  },
  {
   "cell_type": "code",
   "execution_count": 6,
   "id": "5d6eced4",
   "metadata": {
    "execution": {
     "iopub.execute_input": "2022-07-22T08:38:58.912577Z",
     "iopub.status.busy": "2022-07-22T08:38:58.912118Z",
     "iopub.status.idle": "2022-07-22T08:38:58.931098Z",
     "shell.execute_reply": "2022-07-22T08:38:58.929714Z"
    },
    "id": "5d6eced4",
    "papermill": {
     "duration": 0.032143,
     "end_time": "2022-07-22T08:38:58.934110",
     "exception": false,
     "start_time": "2022-07-22T08:38:58.901967",
     "status": "completed"
    },
    "tags": []
   },
   "outputs": [
    {
     "name": "stdout",
     "output_type": "stream",
     "text": [
      "          X1           X2        X3         X4         Y\n",
      "0  24.469484   623.569285  0.098063   3.859179  1.229990\n",
      "1   4.213099   378.049801  0.809852   2.010264  1.512126\n",
      "2  21.475872  1720.130663  0.870452   9.689548  1.530135\n",
      "3  26.974462  1209.917404  0.162825   9.464952  1.447166\n",
      "4  17.483261   506.693610  0.154573  10.531113  1.299358\n"
     ]
    }
   ],
   "source": [
    "X,Y = friedman3Dataset.friedman3_data(n_samples)"
   ]
  },
  {
   "cell_type": "code",
   "execution_count": 7,
   "id": "fe007438",
   "metadata": {
    "execution": {
     "iopub.execute_input": "2022-07-22T08:38:58.960820Z",
     "iopub.status.busy": "2022-07-22T08:38:58.959463Z",
     "iopub.status.idle": "2022-07-22T08:38:58.968827Z",
     "shell.execute_reply": "2022-07-22T08:38:58.967487Z"
    },
    "id": "fe007438",
    "papermill": {
     "duration": 0.027507,
     "end_time": "2022-07-22T08:38:58.972091",
     "exception": false,
     "start_time": "2022-07-22T08:38:58.944584",
     "status": "completed"
    },
    "tags": []
   },
   "outputs": [],
   "source": [
    "#Train test split for dataset \n",
    "X_train,X_test,Y_train,Y_test = train_test_split(X,Y,test_size = 0.2)\n",
    "train_data = dataset.CustomDataset(X_train,Y_train)\n",
    "test_data = dataset.CustomDataset(X_test,Y_test)\n"
   ]
  },
  {
   "cell_type": "markdown",
   "id": "a9a1af34",
   "metadata": {
    "id": "a9a1af34",
    "papermill": {
     "duration": 0.008581,
     "end_time": "2022-07-22T08:38:58.989078",
     "exception": false,
     "start_time": "2022-07-22T08:38:58.980497",
     "status": "completed"
    },
    "tags": []
   },
   "source": [
    "## Training Parameters "
   ]
  },
  {
   "cell_type": "code",
   "execution_count": 8,
   "id": "952b7fc8",
   "metadata": {
    "execution": {
     "iopub.execute_input": "2022-07-22T08:38:59.010461Z",
     "iopub.status.busy": "2022-07-22T08:38:59.009856Z",
     "iopub.status.idle": "2022-07-22T08:38:59.017005Z",
     "shell.execute_reply": "2022-07-22T08:38:59.015788Z"
    },
    "id": "952b7fc8",
    "papermill": {
     "duration": 0.021712,
     "end_time": "2022-07-22T08:38:59.020964",
     "exception": false,
     "start_time": "2022-07-22T08:38:58.999252",
     "status": "completed"
    },
    "tags": []
   },
   "outputs": [],
   "source": [
    "batch_size = 32\n",
    "n_epochs = 1000\n",
    "#Select the device \n",
    "device = torch.device('cuda' if torch.cuda.is_available() else 'cpu')"
   ]
  },
  {
   "cell_type": "markdown",
   "id": "a95e1600",
   "metadata": {
    "id": "a95e1600",
    "papermill": {
     "duration": 0.008295,
     "end_time": "2022-07-22T08:38:59.037444",
     "exception": false,
     "start_time": "2022-07-22T08:38:59.029149",
     "status": "completed"
    },
    "tags": []
   },
   "source": [
    "# ABC Pre-generator Model \n",
    "\n",
    "1. The catboost model is used as a pre-generator model for the ABC-GAN. \n",
    "2. The model is first trained on the entire dataset \n",
    "3. It generats X,Y pairs and we add some Gaussian noise with mean 0 and variance 1 to it which is then feed as input to the generator.\n"
   ]
  },
  {
   "cell_type": "code",
   "execution_count": 9,
   "id": "ac011ebf",
   "metadata": {
    "execution": {
     "iopub.execute_input": "2022-07-22T08:38:59.056097Z",
     "iopub.status.busy": "2022-07-22T08:38:59.055132Z",
     "iopub.status.idle": "2022-07-22T08:39:25.981539Z",
     "shell.execute_reply": "2022-07-22T08:39:25.980372Z"
    },
    "papermill": {
     "duration": 26.93928,
     "end_time": "2022-07-22T08:39:25.984794",
     "exception": false,
     "start_time": "2022-07-22T08:38:59.045514",
     "status": "completed"
    },
    "tags": []
   },
   "outputs": [
    {
     "name": "stdout",
     "output_type": "stream",
     "text": [
      "Device used : cpu\n"
     ]
    },
    {
     "name": "stdout",
     "output_type": "stream",
     "text": [
      "epoch 0  | loss: 0.91932 | train_mse: 5.5823  | train_mae: 1.79808 |  0:00:00s\n",
      "epoch 1  | loss: 0.99792 | train_mse: 4.14823 | train_mae: 1.58009 |  0:00:00s\n",
      "epoch 2  | loss: 0.91687 | train_mse: 3.10954 | train_mae: 1.37258 |  0:00:00s\n"
     ]
    },
    {
     "name": "stdout",
     "output_type": "stream",
     "text": [
      "epoch 3  | loss: 0.72497 | train_mse: 2.55725 | train_mae: 1.24283 |  0:00:00s\n",
      "epoch 4  | loss: 0.85718 | train_mse: 2.23951 | train_mae: 1.16583 |  0:00:00s\n"
     ]
    },
    {
     "name": "stdout",
     "output_type": "stream",
     "text": [
      "epoch 5  | loss: 0.5828  | train_mse: 1.91425 | train_mae: 1.06724 |  0:00:00s\n",
      "epoch 6  | loss: 0.63358 | train_mse: 1.68397 | train_mae: 1.00148 |  0:00:00s\n"
     ]
    },
    {
     "name": "stdout",
     "output_type": "stream",
     "text": [
      "epoch 7  | loss: 0.51224 | train_mse: 1.59239 | train_mae: 0.96546 |  0:00:00s\n",
      "epoch 8  | loss: 0.46982 | train_mse: 1.43739 | train_mae: 0.90568 |  0:00:01s\n"
     ]
    },
    {
     "name": "stdout",
     "output_type": "stream",
     "text": [
      "epoch 9  | loss: 0.47145 | train_mse: 1.49456 | train_mae: 0.89878 |  0:00:01s\n",
      "epoch 10 | loss: 0.51627 | train_mse: 1.38339 | train_mae: 0.86027 |  0:00:01s\n",
      "epoch 11 | loss: 0.56028 | train_mse: 1.23078 | train_mae: 0.81318 |  0:00:01s\n"
     ]
    },
    {
     "name": "stdout",
     "output_type": "stream",
     "text": [
      "epoch 12 | loss: 0.41106 | train_mse: 1.13624 | train_mae: 0.7848  |  0:00:01s\n",
      "epoch 13 | loss: 0.52281 | train_mse: 1.01636 | train_mae: 0.74034 |  0:00:01s\n",
      "epoch 14 | loss: 0.38632 | train_mse: 0.91524 | train_mae: 0.70905 |  0:00:01s\n"
     ]
    },
    {
     "name": "stdout",
     "output_type": "stream",
     "text": [
      "epoch 15 | loss: 0.48931 | train_mse: 0.83914 | train_mae: 0.68466 |  0:00:01s\n",
      "epoch 16 | loss: 0.44107 | train_mse: 0.76973 | train_mae: 0.65759 |  0:00:01s\n"
     ]
    },
    {
     "name": "stdout",
     "output_type": "stream",
     "text": [
      "epoch 17 | loss: 0.38594 | train_mse: 0.69311 | train_mae: 0.63056 |  0:00:01s\n",
      "epoch 18 | loss: 0.42491 | train_mse: 0.65224 | train_mae: 0.61514 |  0:00:02s\n",
      "epoch 19 | loss: 0.35684 | train_mse: 0.54898 | train_mae: 0.56906 |  0:00:02s\n"
     ]
    },
    {
     "name": "stdout",
     "output_type": "stream",
     "text": [
      "epoch 20 | loss: 0.37734 | train_mse: 0.4875  | train_mae: 0.53547 |  0:00:02s\n",
      "epoch 21 | loss: 0.35514 | train_mse: 0.45294 | train_mae: 0.51855 |  0:00:02s\n",
      "epoch 22 | loss: 0.37389 | train_mse: 0.42633 | train_mae: 0.50474 |  0:00:02s\n"
     ]
    },
    {
     "name": "stdout",
     "output_type": "stream",
     "text": [
      "epoch 23 | loss: 0.37167 | train_mse: 0.39419 | train_mae: 0.4877  |  0:00:02s\n",
      "epoch 24 | loss: 0.36879 | train_mse: 0.35988 | train_mae: 0.4665  |  0:00:02s\n",
      "epoch 25 | loss: 0.48007 | train_mse: 0.33924 | train_mae: 0.45436 |  0:00:02s\n"
     ]
    },
    {
     "name": "stdout",
     "output_type": "stream",
     "text": [
      "epoch 26 | loss: 0.38666 | train_mse: 0.31787 | train_mae: 0.43912 |  0:00:02s\n",
      "epoch 27 | loss: 0.26107 | train_mse: 0.30341 | train_mae: 0.42523 |  0:00:02s\n",
      "epoch 28 | loss: 0.29583 | train_mse: 0.28722 | train_mae: 0.40984 |  0:00:02s\n"
     ]
    },
    {
     "name": "stdout",
     "output_type": "stream",
     "text": [
      "epoch 29 | loss: 0.35058 | train_mse: 0.27543 | train_mae: 0.40033 |  0:00:03s\n",
      "epoch 30 | loss: 0.38727 | train_mse: 0.2643  | train_mae: 0.39191 |  0:00:03s\n",
      "epoch 31 | loss: 0.36237 | train_mse: 0.26    | train_mae: 0.38487 |  0:00:03s\n"
     ]
    },
    {
     "name": "stdout",
     "output_type": "stream",
     "text": [
      "epoch 32 | loss: 0.33938 | train_mse: 0.24722 | train_mae: 0.37546 |  0:00:03s\n",
      "epoch 33 | loss: 0.37805 | train_mse: 0.24908 | train_mae: 0.37188 |  0:00:03s\n",
      "epoch 34 | loss: 0.2803  | train_mse: 0.23861 | train_mae: 0.36731 |  0:00:03s\n"
     ]
    },
    {
     "name": "stdout",
     "output_type": "stream",
     "text": [
      "epoch 35 | loss: 0.25139 | train_mse: 0.22398 | train_mae: 0.35949 |  0:00:03s\n",
      "epoch 36 | loss: 0.34418 | train_mse: 0.22503 | train_mae: 0.35957 |  0:00:03s\n",
      "epoch 37 | loss: 0.40907 | train_mse: 0.22154 | train_mae: 0.35894 |  0:00:03s\n"
     ]
    },
    {
     "name": "stdout",
     "output_type": "stream",
     "text": [
      "epoch 38 | loss: 0.26655 | train_mse: 0.22417 | train_mae: 0.36356 |  0:00:03s\n",
      "epoch 39 | loss: 0.26402 | train_mse: 0.22335 | train_mae: 0.36454 |  0:00:04s\n"
     ]
    },
    {
     "name": "stdout",
     "output_type": "stream",
     "text": [
      "epoch 40 | loss: 0.25917 | train_mse: 0.21871 | train_mae: 0.36134 |  0:00:04s\n",
      "epoch 41 | loss: 0.29942 | train_mse: 0.21696 | train_mae: 0.35816 |  0:00:04s\n",
      "epoch 42 | loss: 0.25549 | train_mse: 0.21187 | train_mae: 0.35466 |  0:00:04s\n"
     ]
    },
    {
     "name": "stdout",
     "output_type": "stream",
     "text": [
      "epoch 43 | loss: 0.27222 | train_mse: 0.20508 | train_mae: 0.3532  |  0:00:04s\n",
      "epoch 44 | loss: 0.31981 | train_mse: 0.19563 | train_mae: 0.34946 |  0:00:04s\n",
      "epoch 45 | loss: 0.41673 | train_mse: 0.19141 | train_mae: 0.34844 |  0:00:04s\n"
     ]
    },
    {
     "name": "stdout",
     "output_type": "stream",
     "text": [
      "epoch 46 | loss: 0.24939 | train_mse: 0.19535 | train_mae: 0.35351 |  0:00:04s\n",
      "epoch 47 | loss: 0.2849  | train_mse: 0.19741 | train_mae: 0.35372 |  0:00:04s\n",
      "epoch 48 | loss: 0.27679 | train_mse: 0.19551 | train_mae: 0.35209 |  0:00:04s\n"
     ]
    },
    {
     "name": "stdout",
     "output_type": "stream",
     "text": [
      "epoch 49 | loss: 0.29322 | train_mse: 0.18522 | train_mae: 0.33922 |  0:00:04s\n",
      "epoch 50 | loss: 0.24472 | train_mse: 0.17736 | train_mae: 0.32837 |  0:00:04s\n"
     ]
    },
    {
     "name": "stdout",
     "output_type": "stream",
     "text": [
      "epoch 51 | loss: 0.22555 | train_mse: 0.17154 | train_mae: 0.3211  |  0:00:05s\n",
      "epoch 52 | loss: 0.6034  | train_mse: 0.171   | train_mae: 0.32084 |  0:00:05s\n",
      "epoch 53 | loss: 0.27527 | train_mse: 0.17331 | train_mae: 0.32547 |  0:00:05s\n"
     ]
    },
    {
     "name": "stdout",
     "output_type": "stream",
     "text": [
      "epoch 54 | loss: 0.25064 | train_mse: 0.17261 | train_mae: 0.32331 |  0:00:05s\n",
      "epoch 55 | loss: 0.2783  | train_mse: 0.17101 | train_mae: 0.32068 |  0:00:05s\n",
      "epoch 56 | loss: 0.23494 | train_mse: 0.17011 | train_mae: 0.31977 |  0:00:05s\n"
     ]
    },
    {
     "name": "stdout",
     "output_type": "stream",
     "text": [
      "epoch 57 | loss: 0.5032  | train_mse: 0.17007 | train_mae: 0.31972 |  0:00:05s\n",
      "epoch 58 | loss: 0.23205 | train_mse: 0.17023 | train_mae: 0.31957 |  0:00:05s\n",
      "epoch 59 | loss: 0.2014  | train_mse: 0.17007 | train_mae: 0.32044 |  0:00:05s\n"
     ]
    },
    {
     "name": "stdout",
     "output_type": "stream",
     "text": [
      "epoch 60 | loss: 0.2636  | train_mse: 0.16792 | train_mae: 0.318   |  0:00:05s\n",
      "epoch 61 | loss: 0.2339  | train_mse: 0.16498 | train_mae: 0.31677 |  0:00:06s\n"
     ]
    },
    {
     "name": "stdout",
     "output_type": "stream",
     "text": [
      "epoch 62 | loss: 0.24683 | train_mse: 0.16199 | train_mae: 0.31172 |  0:00:06s\n",
      "epoch 63 | loss: 0.20362 | train_mse: 0.15991 | train_mae: 0.30747 |  0:00:06s\n",
      "epoch 64 | loss: 0.34889 | train_mse: 0.16109 | train_mae: 0.3062  |  0:00:06s\n"
     ]
    },
    {
     "name": "stdout",
     "output_type": "stream",
     "text": [
      "epoch 65 | loss: 0.31665 | train_mse: 0.16188 | train_mae: 0.30756 |  0:00:06s\n",
      "epoch 66 | loss: 0.42878 | train_mse: 0.1614  | train_mae: 0.30885 |  0:00:06s\n",
      "epoch 67 | loss: 0.1971  | train_mse: 0.15878 | train_mae: 0.30669 |  0:00:06s\n"
     ]
    },
    {
     "name": "stdout",
     "output_type": "stream",
     "text": [
      "epoch 68 | loss: 0.21452 | train_mse: 0.15573 | train_mae: 0.30575 |  0:00:06s\n",
      "epoch 69 | loss: 0.16006 | train_mse: 0.1508  | train_mae: 0.30367 |  0:00:06s\n",
      "epoch 70 | loss: 0.20664 | train_mse: 0.14792 | train_mae: 0.30086 |  0:00:06s\n"
     ]
    },
    {
     "name": "stdout",
     "output_type": "stream",
     "text": [
      "epoch 71 | loss: 0.30456 | train_mse: 0.13918 | train_mae: 0.28835 |  0:00:06s\n",
      "epoch 72 | loss: 0.21022 | train_mse: 0.13437 | train_mae: 0.28    |  0:00:07s\n"
     ]
    },
    {
     "name": "stdout",
     "output_type": "stream",
     "text": [
      "epoch 73 | loss: 0.16118 | train_mse: 0.13183 | train_mae: 0.27581 |  0:00:07s\n",
      "epoch 74 | loss: 0.23732 | train_mse: 0.13241 | train_mae: 0.2765  |  0:00:07s\n",
      "epoch 75 | loss: 0.26803 | train_mse: 0.13219 | train_mae: 0.27614 |  0:00:07s\n"
     ]
    },
    {
     "name": "stdout",
     "output_type": "stream",
     "text": [
      "epoch 76 | loss: 0.1636  | train_mse: 0.13298 | train_mae: 0.27561 |  0:00:07s\n",
      "epoch 77 | loss: 0.26749 | train_mse: 0.13397 | train_mae: 0.27546 |  0:00:07s\n",
      "epoch 78 | loss: 0.2508  | train_mse: 0.1351  | train_mae: 0.27668 |  0:00:07s\n"
     ]
    },
    {
     "name": "stdout",
     "output_type": "stream",
     "text": [
      "epoch 79 | loss: 0.2563  | train_mse: 0.13712 | train_mae: 0.28071 |  0:00:07s\n",
      "epoch 80 | loss: 0.27734 | train_mse: 0.13355 | train_mae: 0.27647 |  0:00:07s\n",
      "epoch 81 | loss: 0.18338 | train_mse: 0.13102 | train_mae: 0.27588 |  0:00:07s\n"
     ]
    },
    {
     "name": "stdout",
     "output_type": "stream",
     "text": [
      "epoch 82 | loss: 0.20669 | train_mse: 0.12599 | train_mae: 0.27282 |  0:00:07s\n",
      "epoch 83 | loss: 0.21911 | train_mse: 0.1238  | train_mae: 0.27264 |  0:00:07s\n"
     ]
    },
    {
     "name": "stdout",
     "output_type": "stream",
     "text": [
      "epoch 84 | loss: 0.20287 | train_mse: 0.12118 | train_mae: 0.2706  |  0:00:08s\n",
      "epoch 85 | loss: 0.42603 | train_mse: 0.11935 | train_mae: 0.26874 |  0:00:08s\n",
      "epoch 86 | loss: 0.36842 | train_mse: 0.11925 | train_mae: 0.26794 |  0:00:08s\n"
     ]
    },
    {
     "name": "stdout",
     "output_type": "stream",
     "text": [
      "epoch 87 | loss: 0.16886 | train_mse: 0.1195  | train_mae: 0.26875 |  0:00:08s\n",
      "epoch 88 | loss: 0.11924 | train_mse: 0.11862 | train_mae: 0.26957 |  0:00:08s\n",
      "epoch 89 | loss: 0.1905  | train_mse: 0.11759 | train_mae: 0.26882 |  0:00:08s\n"
     ]
    },
    {
     "name": "stdout",
     "output_type": "stream",
     "text": [
      "epoch 90 | loss: 0.17296 | train_mse: 0.11517 | train_mae: 0.26506 |  0:00:08s\n",
      "epoch 91 | loss: 0.22604 | train_mse: 0.11311 | train_mae: 0.26151 |  0:00:08s\n",
      "epoch 92 | loss: 0.23866 | train_mse: 0.11223 | train_mae: 0.25971 |  0:00:08s\n"
     ]
    },
    {
     "name": "stdout",
     "output_type": "stream",
     "text": [
      "epoch 93 | loss: 0.23124 | train_mse: 0.10986 | train_mae: 0.25633 |  0:00:08s\n",
      "epoch 94 | loss: 0.12713 | train_mse: 0.1093  | train_mae: 0.25649 |  0:00:08s\n"
     ]
    },
    {
     "name": "stdout",
     "output_type": "stream",
     "text": [
      "epoch 95 | loss: 0.18824 | train_mse: 0.10845 | train_mae: 0.25742 |  0:00:09s\n",
      "epoch 96 | loss: 0.22085 | train_mse: 0.10511 | train_mae: 0.25375 |  0:00:09s\n",
      "epoch 97 | loss: 0.20414 | train_mse: 0.10332 | train_mae: 0.24922 |  0:00:09s\n",
      "epoch 98 | loss: 0.17528 | train_mse: 0.1034  | train_mae: 0.25041 |  0:00:09s\n"
     ]
    },
    {
     "name": "stdout",
     "output_type": "stream",
     "text": [
      "epoch 99 | loss: 0.31718 | train_mse: 0.10186 | train_mae: 0.2471  |  0:00:09s\n",
      "epoch 100| loss: 0.24939 | train_mse: 0.1012  | train_mae: 0.24458 |  0:00:09s\n",
      "epoch 101| loss: 0.19638 | train_mse: 0.09984 | train_mae: 0.24094 |  0:00:09s\n"
     ]
    },
    {
     "name": "stdout",
     "output_type": "stream",
     "text": [
      "epoch 102| loss: 0.22051 | train_mse: 0.09987 | train_mae: 0.24069 |  0:00:09s\n",
      "epoch 103| loss: 0.16366 | train_mse: 0.09932 | train_mae: 0.24062 |  0:00:09s\n",
      "epoch 104| loss: 0.13304 | train_mse: 0.09738 | train_mae: 0.23886 |  0:00:09s\n"
     ]
    },
    {
     "name": "stdout",
     "output_type": "stream",
     "text": [
      "epoch 105| loss: 0.22097 | train_mse: 0.09656 | train_mae: 0.23908 |  0:00:09s\n",
      "epoch 106| loss: 0.31374 | train_mse: 0.09816 | train_mae: 0.24218 |  0:00:10s\n",
      "epoch 107| loss: 0.18341 | train_mse: 0.09767 | train_mae: 0.24083 |  0:00:10s\n"
     ]
    },
    {
     "name": "stdout",
     "output_type": "stream",
     "text": [
      "epoch 108| loss: 0.18951 | train_mse: 0.09888 | train_mae: 0.24249 |  0:00:10s\n",
      "epoch 109| loss: 0.20376 | train_mse: 0.09653 | train_mae: 0.23735 |  0:00:10s\n",
      "epoch 110| loss: 0.13752 | train_mse: 0.09559 | train_mae: 0.2382  |  0:00:10s\n"
     ]
    },
    {
     "name": "stdout",
     "output_type": "stream",
     "text": [
      "epoch 111| loss: 0.20776 | train_mse: 0.09504 | train_mae: 0.23724 |  0:00:10s\n",
      "epoch 112| loss: 0.14569 | train_mse: 0.09931 | train_mae: 0.24142 |  0:00:10s\n",
      "epoch 113| loss: 0.16635 | train_mse: 0.09868 | train_mae: 0.23921 |  0:00:10s\n"
     ]
    },
    {
     "name": "stdout",
     "output_type": "stream",
     "text": [
      "epoch 114| loss: 0.21864 | train_mse: 0.09795 | train_mae: 0.23739 |  0:00:10s\n",
      "epoch 115| loss: 0.17315 | train_mse: 0.09249 | train_mae: 0.23131 |  0:00:10s\n",
      "epoch 116| loss: 0.14613 | train_mse: 0.09028 | train_mae: 0.22957 |  0:00:10s\n"
     ]
    },
    {
     "name": "stdout",
     "output_type": "stream",
     "text": [
      "epoch 117| loss: 0.26998 | train_mse: 0.08615 | train_mae: 0.22419 |  0:00:11s\n",
      "epoch 118| loss: 0.14033 | train_mse: 0.08402 | train_mae: 0.22236 |  0:00:11s\n",
      "epoch 119| loss: 0.18849 | train_mse: 0.08313 | train_mae: 0.22099 |  0:00:11s\n"
     ]
    },
    {
     "name": "stdout",
     "output_type": "stream",
     "text": [
      "epoch 120| loss: 0.18872 | train_mse: 0.0826  | train_mae: 0.22243 |  0:00:11s\n",
      "epoch 121| loss: 0.13348 | train_mse: 0.08465 | train_mae: 0.22854 |  0:00:11s\n",
      "epoch 122| loss: 0.19551 | train_mse: 0.08608 | train_mae: 0.23376 |  0:00:11s\n"
     ]
    },
    {
     "name": "stdout",
     "output_type": "stream",
     "text": [
      "epoch 123| loss: 0.18195 | train_mse: 0.08662 | train_mae: 0.23558 |  0:00:11s\n",
      "epoch 124| loss: 0.08767 | train_mse: 0.08607 | train_mae: 0.23486 |  0:00:11s\n",
      "epoch 125| loss: 0.11309 | train_mse: 0.08334 | train_mae: 0.22977 |  0:00:11s\n"
     ]
    },
    {
     "name": "stdout",
     "output_type": "stream",
     "text": [
      "epoch 126| loss: 0.15067 | train_mse: 0.08269 | train_mae: 0.22472 |  0:00:11s\n",
      "epoch 127| loss: 0.1519  | train_mse: 0.08164 | train_mae: 0.22136 |  0:00:11s\n",
      "epoch 128| loss: 0.20934 | train_mse: 0.08227 | train_mae: 0.22223 |  0:00:12s\n"
     ]
    },
    {
     "name": "stdout",
     "output_type": "stream",
     "text": [
      "epoch 129| loss: 0.24398 | train_mse: 0.0793  | train_mae: 0.21622 |  0:00:12s\n",
      "epoch 130| loss: 0.12561 | train_mse: 0.0778  | train_mae: 0.21213 |  0:00:12s\n",
      "epoch 131| loss: 0.12698 | train_mse: 0.07539 | train_mae: 0.20711 |  0:00:12s\n"
     ]
    },
    {
     "name": "stdout",
     "output_type": "stream",
     "text": [
      "epoch 132| loss: 0.15172 | train_mse: 0.07394 | train_mae: 0.2065  |  0:00:12s\n",
      "epoch 133| loss: 0.1825  | train_mse: 0.07527 | train_mae: 0.21212 |  0:00:12s\n",
      "epoch 134| loss: 0.11649 | train_mse: 0.07661 | train_mae: 0.21565 |  0:00:12s\n"
     ]
    },
    {
     "name": "stdout",
     "output_type": "stream",
     "text": [
      "epoch 135| loss: 0.16992 | train_mse: 0.07691 | train_mae: 0.21793 |  0:00:12s\n",
      "epoch 136| loss: 0.34952 | train_mse: 0.07852 | train_mae: 0.2219  |  0:00:12s\n",
      "epoch 137| loss: 0.13067 | train_mse: 0.08007 | train_mae: 0.22384 |  0:00:12s\n"
     ]
    },
    {
     "name": "stdout",
     "output_type": "stream",
     "text": [
      "epoch 138| loss: 0.18897 | train_mse: 0.07997 | train_mae: 0.2238  |  0:00:12s\n",
      "epoch 139| loss: 0.15687 | train_mse: 0.08067 | train_mae: 0.22517 |  0:00:13s\n"
     ]
    },
    {
     "name": "stdout",
     "output_type": "stream",
     "text": [
      "epoch 140| loss: 0.14331 | train_mse: 0.07992 | train_mae: 0.22275 |  0:00:13s\n",
      "epoch 141| loss: 0.1504  | train_mse: 0.08105 | train_mae: 0.22475 |  0:00:13s\n",
      "epoch 142| loss: 0.14449 | train_mse: 0.0818  | train_mae: 0.22508 |  0:00:13s\n"
     ]
    },
    {
     "name": "stdout",
     "output_type": "stream",
     "text": [
      "epoch 143| loss: 0.12225 | train_mse: 0.08148 | train_mae: 0.22526 |  0:00:13s\n",
      "epoch 144| loss: 0.12487 | train_mse: 0.07959 | train_mae: 0.22347 |  0:00:13s\n",
      "epoch 145| loss: 0.14249 | train_mse: 0.0789  | train_mae: 0.22253 |  0:00:13s\n"
     ]
    },
    {
     "name": "stdout",
     "output_type": "stream",
     "text": [
      "epoch 146| loss: 0.18807 | train_mse: 0.07643 | train_mae: 0.21778 |  0:00:13s\n",
      "epoch 147| loss: 0.28329 | train_mse: 0.07462 | train_mae: 0.21261 |  0:00:13s\n",
      "epoch 148| loss: 0.12482 | train_mse: 0.07456 | train_mae: 0.21075 |  0:00:13s\n"
     ]
    },
    {
     "name": "stdout",
     "output_type": "stream",
     "text": [
      "epoch 149| loss: 0.16615 | train_mse: 0.07229 | train_mae: 0.20523 |  0:00:14s\n",
      "epoch 150| loss: 0.14946 | train_mse: 0.06962 | train_mae: 0.20061 |  0:00:14s\n",
      "epoch 151| loss: 0.13633 | train_mse: 0.06687 | train_mae: 0.19549 |  0:00:14s\n"
     ]
    },
    {
     "name": "stdout",
     "output_type": "stream",
     "text": [
      "epoch 152| loss: 0.15184 | train_mse: 0.06568 | train_mae: 0.19401 |  0:00:14s\n",
      "epoch 153| loss: 0.11676 | train_mse: 0.06574 | train_mae: 0.19572 |  0:00:14s\n",
      "epoch 154| loss: 0.09785 | train_mse: 0.06818 | train_mae: 0.20284 |  0:00:14s\n"
     ]
    },
    {
     "name": "stdout",
     "output_type": "stream",
     "text": [
      "epoch 155| loss: 0.18785 | train_mse: 0.06714 | train_mae: 0.20059 |  0:00:14s\n",
      "epoch 156| loss: 0.32046 | train_mse: 0.06807 | train_mae: 0.20103 |  0:00:14s\n",
      "epoch 157| loss: 0.10187 | train_mse: 0.06903 | train_mae: 0.20235 |  0:00:14s\n"
     ]
    },
    {
     "name": "stdout",
     "output_type": "stream",
     "text": [
      "epoch 158| loss: 0.10499 | train_mse: 0.06722 | train_mae: 0.20098 |  0:00:14s\n",
      "epoch 159| loss: 0.19274 | train_mse: 0.06459 | train_mae: 0.19724 |  0:00:14s\n",
      "epoch 160| loss: 0.08737 | train_mse: 0.06139 | train_mae: 0.19185 |  0:00:15s\n"
     ]
    },
    {
     "name": "stdout",
     "output_type": "stream",
     "text": [
      "epoch 161| loss: 0.15518 | train_mse: 0.06029 | train_mae: 0.18829 |  0:00:15s\n",
      "epoch 162| loss: 0.11215 | train_mse: 0.06152 | train_mae: 0.1933  |  0:00:15s\n",
      "epoch 163| loss: 0.10757 | train_mse: 0.06217 | train_mae: 0.19375 |  0:00:15s\n"
     ]
    },
    {
     "name": "stdout",
     "output_type": "stream",
     "text": [
      "epoch 164| loss: 0.25044 | train_mse: 0.06395 | train_mae: 0.19538 |  0:00:15s\n",
      "epoch 165| loss: 0.14508 | train_mse: 0.06589 | train_mae: 0.19785 |  0:00:15s\n",
      "epoch 166| loss: 0.12105 | train_mse: 0.06613 | train_mae: 0.19714 |  0:00:15s\n"
     ]
    },
    {
     "name": "stdout",
     "output_type": "stream",
     "text": [
      "epoch 167| loss: 0.14246 | train_mse: 0.06685 | train_mae: 0.199   |  0:00:15s\n",
      "epoch 168| loss: 0.11409 | train_mse: 0.06582 | train_mae: 0.1979  |  0:00:15s\n",
      "epoch 169| loss: 0.1336  | train_mse: 0.06576 | train_mae: 0.19811 |  0:00:15s\n"
     ]
    },
    {
     "name": "stdout",
     "output_type": "stream",
     "text": [
      "epoch 170| loss: 0.17285 | train_mse: 0.06803 | train_mae: 0.20181 |  0:00:15s\n",
      "epoch 171| loss: 0.10739 | train_mse: 0.06858 | train_mae: 0.20258 |  0:00:16s\n"
     ]
    },
    {
     "name": "stdout",
     "output_type": "stream",
     "text": [
      "epoch 172| loss: 0.10699 | train_mse: 0.06868 | train_mae: 0.2034  |  0:00:16s\n",
      "epoch 173| loss: 0.11975 | train_mse: 0.06965 | train_mae: 0.20411 |  0:00:16s\n",
      "epoch 174| loss: 0.14807 | train_mse: 0.0701  | train_mae: 0.20546 |  0:00:16s\n"
     ]
    },
    {
     "name": "stdout",
     "output_type": "stream",
     "text": [
      "epoch 175| loss: 0.14039 | train_mse: 0.06614 | train_mae: 0.20084 |  0:00:16s\n",
      "epoch 176| loss: 0.1908  | train_mse: 0.06455 | train_mae: 0.19866 |  0:00:16s\n",
      "epoch 177| loss: 0.12921 | train_mse: 0.06182 | train_mae: 0.19371 |  0:00:16s\n"
     ]
    },
    {
     "name": "stdout",
     "output_type": "stream",
     "text": [
      "epoch 178| loss: 0.2151  | train_mse: 0.05919 | train_mae: 0.18948 |  0:00:16s\n",
      "epoch 179| loss: 0.17039 | train_mse: 0.05852 | train_mae: 0.18798 |  0:00:16s\n",
      "epoch 180| loss: 0.11777 | train_mse: 0.05769 | train_mae: 0.18687 |  0:00:16s\n"
     ]
    },
    {
     "name": "stdout",
     "output_type": "stream",
     "text": [
      "epoch 181| loss: 0.10268 | train_mse: 0.06023 | train_mae: 0.18816 |  0:00:16s\n",
      "epoch 182| loss: 0.11783 | train_mse: 0.06326 | train_mae: 0.18749 |  0:00:17s\n"
     ]
    },
    {
     "name": "stdout",
     "output_type": "stream",
     "text": [
      "epoch 183| loss: 0.24416 | train_mse: 0.0621  | train_mae: 0.18318 |  0:00:17s\n",
      "epoch 184| loss: 0.1685  | train_mse: 0.05953 | train_mae: 0.18051 |  0:00:17s\n",
      "epoch 185| loss: 0.18474 | train_mse: 0.05651 | train_mae: 0.17997 |  0:00:17s\n"
     ]
    },
    {
     "name": "stdout",
     "output_type": "stream",
     "text": [
      "epoch 186| loss: 0.13886 | train_mse: 0.05412 | train_mae: 0.17826 |  0:00:17s\n",
      "epoch 187| loss: 0.15229 | train_mse: 0.05336 | train_mae: 0.17834 |  0:00:17s\n",
      "epoch 188| loss: 0.1109  | train_mse: 0.05261 | train_mae: 0.18016 |  0:00:17s\n"
     ]
    },
    {
     "name": "stdout",
     "output_type": "stream",
     "text": [
      "epoch 189| loss: 0.13226 | train_mse: 0.05327 | train_mae: 0.18247 |  0:00:17s\n",
      "epoch 190| loss: 0.21881 | train_mse: 0.05616 | train_mae: 0.18705 |  0:00:17s\n",
      "epoch 191| loss: 0.07867 | train_mse: 0.0594  | train_mae: 0.19091 |  0:00:17s\n"
     ]
    },
    {
     "name": "stdout",
     "output_type": "stream",
     "text": [
      "epoch 192| loss: 0.12554 | train_mse: 0.06337 | train_mae: 0.19476 |  0:00:17s\n",
      "epoch 193| loss: 0.15978 | train_mse: 0.06557 | train_mae: 0.19616 |  0:00:17s\n",
      "epoch 194| loss: 0.09883 | train_mse: 0.06543 | train_mae: 0.19408 |  0:00:18s\n"
     ]
    },
    {
     "name": "stdout",
     "output_type": "stream",
     "text": [
      "epoch 195| loss: 0.12572 | train_mse: 0.06525 | train_mae: 0.19278 |  0:00:18s\n",
      "epoch 196| loss: 0.2298  | train_mse: 0.06476 | train_mae: 0.1923  |  0:00:18s\n",
      "epoch 197| loss: 0.09342 | train_mse: 0.06494 | train_mae: 0.1928  |  0:00:18s\n"
     ]
    },
    {
     "name": "stdout",
     "output_type": "stream",
     "text": [
      "epoch 198| loss: 0.09922 | train_mse: 0.06445 | train_mae: 0.19251 |  0:00:18s\n",
      "epoch 199| loss: 0.0662  | train_mse: 0.06428 | train_mae: 0.19496 |  0:00:18s\n",
      "epoch 200| loss: 0.10355 | train_mse: 0.06294 | train_mae: 0.1941  |  0:00:18s\n"
     ]
    },
    {
     "name": "stdout",
     "output_type": "stream",
     "text": [
      "epoch 201| loss: 0.08404 | train_mse: 0.06075 | train_mae: 0.19286 |  0:00:18s\n",
      "epoch 202| loss: 0.10444 | train_mse: 0.0591  | train_mae: 0.19221 |  0:00:18s\n",
      "epoch 203| loss: 0.11466 | train_mse: 0.05749 | train_mae: 0.1915  |  0:00:18s\n"
     ]
    },
    {
     "name": "stdout",
     "output_type": "stream",
     "text": [
      "epoch 204| loss: 0.10637 | train_mse: 0.05589 | train_mae: 0.18931 |  0:00:18s\n",
      "epoch 205| loss: 0.24505 | train_mse: 0.05624 | train_mae: 0.18922 |  0:00:18s\n",
      "epoch 206| loss: 0.08846 | train_mse: 0.05836 | train_mae: 0.19255 |  0:00:19s\n"
     ]
    },
    {
     "name": "stdout",
     "output_type": "stream",
     "text": [
      "epoch 207| loss: 0.10479 | train_mse: 0.05889 | train_mae: 0.193   |  0:00:19s\n",
      "epoch 208| loss: 0.16633 | train_mse: 0.05724 | train_mae: 0.19045 |  0:00:19s\n",
      "epoch 209| loss: 0.10496 | train_mse: 0.05781 | train_mae: 0.19119 |  0:00:19s\n"
     ]
    },
    {
     "name": "stdout",
     "output_type": "stream",
     "text": [
      "epoch 210| loss: 0.11741 | train_mse: 0.05778 | train_mae: 0.19089 |  0:00:19s\n",
      "epoch 211| loss: 0.12477 | train_mse: 0.05725 | train_mae: 0.18988 |  0:00:19s\n",
      "epoch 212| loss: 0.13164 | train_mse: 0.05601 | train_mae: 0.18974 |  0:00:19s\n"
     ]
    },
    {
     "name": "stdout",
     "output_type": "stream",
     "text": [
      "epoch 213| loss: 0.1559  | train_mse: 0.05543 | train_mae: 0.19021 |  0:00:19s\n",
      "epoch 214| loss: 0.0979  | train_mse: 0.05442 | train_mae: 0.18806 |  0:00:19s\n",
      "epoch 215| loss: 0.07085 | train_mse: 0.05394 | train_mae: 0.18781 |  0:00:19s\n"
     ]
    },
    {
     "name": "stdout",
     "output_type": "stream",
     "text": [
      "epoch 216| loss: 0.08612 | train_mse: 0.05306 | train_mae: 0.18613 |  0:00:19s\n",
      "epoch 217| loss: 0.1327  | train_mse: 0.05007 | train_mae: 0.18156 |  0:00:20s\n"
     ]
    },
    {
     "name": "stdout",
     "output_type": "stream",
     "text": [
      "epoch 218| loss: 0.06166 | train_mse: 0.04874 | train_mae: 0.17884 |  0:00:20s\n",
      "epoch 219| loss: 0.10209 | train_mse: 0.04717 | train_mae: 0.17498 |  0:00:20s\n",
      "epoch 220| loss: 0.10801 | train_mse: 0.04564 | train_mae: 0.17127 |  0:00:20s\n"
     ]
    },
    {
     "name": "stdout",
     "output_type": "stream",
     "text": [
      "epoch 221| loss: 0.13971 | train_mse: 0.04498 | train_mae: 0.17    |  0:00:20s\n",
      "epoch 222| loss: 0.14568 | train_mse: 0.04516 | train_mae: 0.17149 |  0:00:20s\n",
      "epoch 223| loss: 0.24022 | train_mse: 0.04513 | train_mae: 0.17228 |  0:00:20s\n"
     ]
    },
    {
     "name": "stdout",
     "output_type": "stream",
     "text": [
      "epoch 224| loss: 0.17714 | train_mse: 0.04684 | train_mae: 0.17613 |  0:00:20s\n",
      "epoch 225| loss: 0.07084 | train_mse: 0.04934 | train_mae: 0.1801  |  0:00:20s\n",
      "epoch 226| loss: 0.0773  | train_mse: 0.04994 | train_mae: 0.1809  |  0:00:20s\n"
     ]
    },
    {
     "name": "stdout",
     "output_type": "stream",
     "text": [
      "epoch 227| loss: 0.18009 | train_mse: 0.04989 | train_mae: 0.18113 |  0:00:20s\n",
      "epoch 228| loss: 0.11029 | train_mse: 0.05067 | train_mae: 0.18122 |  0:00:21s\n"
     ]
    },
    {
     "name": "stdout",
     "output_type": "stream",
     "text": [
      "epoch 229| loss: 0.12327 | train_mse: 0.05291 | train_mae: 0.18278 |  0:00:21s\n",
      "epoch 230| loss: 0.09099 | train_mse: 0.05188 | train_mae: 0.18089 |  0:00:21s\n",
      "epoch 231| loss: 0.21573 | train_mse: 0.05203 | train_mae: 0.18065 |  0:00:21s\n"
     ]
    },
    {
     "name": "stdout",
     "output_type": "stream",
     "text": [
      "epoch 232| loss: 0.12832 | train_mse: 0.05102 | train_mae: 0.17986 |  0:00:21s\n",
      "epoch 233| loss: 0.28969 | train_mse: 0.05131 | train_mae: 0.18086 |  0:00:21s\n",
      "epoch 234| loss: 0.07984 | train_mse: 0.05166 | train_mae: 0.18006 |  0:00:21s\n"
     ]
    },
    {
     "name": "stdout",
     "output_type": "stream",
     "text": [
      "epoch 235| loss: 0.23385 | train_mse: 0.05315 | train_mae: 0.18071 |  0:00:21s\n",
      "epoch 236| loss: 0.11874 | train_mse: 0.05458 | train_mae: 0.18211 |  0:00:21s\n",
      "epoch 237| loss: 0.10799 | train_mse: 0.05448 | train_mae: 0.18154 |  0:00:21s\n"
     ]
    },
    {
     "name": "stdout",
     "output_type": "stream",
     "text": [
      "epoch 238| loss: 0.06799 | train_mse: 0.05236 | train_mae: 0.17837 |  0:00:21s\n",
      "epoch 239| loss: 0.11617 | train_mse: 0.04904 | train_mae: 0.17489 |  0:00:21s\n"
     ]
    },
    {
     "name": "stdout",
     "output_type": "stream",
     "text": [
      "epoch 240| loss: 0.12192 | train_mse: 0.04605 | train_mae: 0.16973 |  0:00:22s\n",
      "epoch 241| loss: 0.08172 | train_mse: 0.04375 | train_mae: 0.16455 |  0:00:22s\n",
      "epoch 242| loss: 0.20495 | train_mse: 0.04241 | train_mae: 0.16135 |  0:00:22s\n"
     ]
    },
    {
     "name": "stdout",
     "output_type": "stream",
     "text": [
      "epoch 243| loss: 0.10332 | train_mse: 0.04137 | train_mae: 0.15888 |  0:00:22s\n",
      "epoch 244| loss: 0.12697 | train_mse: 0.04182 | train_mae: 0.15871 |  0:00:22s\n",
      "epoch 245| loss: 0.10706 | train_mse: 0.04286 | train_mae: 0.16066 |  0:00:22s\n"
     ]
    },
    {
     "name": "stdout",
     "output_type": "stream",
     "text": [
      "epoch 246| loss: 0.13538 | train_mse: 0.04429 | train_mae: 0.16331 |  0:00:22s\n",
      "epoch 247| loss: 0.13708 | train_mse: 0.0459  | train_mae: 0.16514 |  0:00:22s\n",
      "epoch 248| loss: 0.07702 | train_mse: 0.04539 | train_mae: 0.16512 |  0:00:22s\n"
     ]
    },
    {
     "name": "stdout",
     "output_type": "stream",
     "text": [
      "epoch 249| loss: 0.15467 | train_mse: 0.04418 | train_mae: 0.16332 |  0:00:22s\n",
      "epoch 250| loss: 0.08817 | train_mse: 0.04352 | train_mae: 0.16321 |  0:00:22s\n",
      "epoch 251| loss: 0.13793 | train_mse: 0.04299 | train_mae: 0.16309 |  0:00:23s\n"
     ]
    },
    {
     "name": "stdout",
     "output_type": "stream",
     "text": [
      "epoch 252| loss: 0.08868 | train_mse: 0.04338 | train_mae: 0.16358 |  0:00:23s\n",
      "epoch 253| loss: 0.1947  | train_mse: 0.04343 | train_mae: 0.16402 |  0:00:23s\n",
      "epoch 254| loss: 0.19247 | train_mse: 0.04377 | train_mae: 0.16398 |  0:00:23s\n"
     ]
    },
    {
     "name": "stdout",
     "output_type": "stream",
     "text": [
      "epoch 255| loss: 0.11006 | train_mse: 0.04443 | train_mae: 0.16448 |  0:00:23s\n",
      "epoch 256| loss: 0.23754 | train_mse: 0.04524 | train_mae: 0.16686 |  0:00:23s\n",
      "epoch 257| loss: 0.08444 | train_mse: 0.04506 | train_mae: 0.16872 |  0:00:23s\n"
     ]
    },
    {
     "name": "stdout",
     "output_type": "stream",
     "text": [
      "epoch 258| loss: 0.15515 | train_mse: 0.04432 | train_mae: 0.16661 |  0:00:23s\n",
      "epoch 259| loss: 0.11174 | train_mse: 0.04332 | train_mae: 0.16549 |  0:00:23s\n",
      "epoch 260| loss: 0.11078 | train_mse: 0.04321 | train_mae: 0.16599 |  0:00:23s\n"
     ]
    },
    {
     "name": "stdout",
     "output_type": "stream",
     "text": [
      "epoch 261| loss: 0.05687 | train_mse: 0.04314 | train_mae: 0.16532 |  0:00:23s\n",
      "epoch 262| loss: 0.09682 | train_mse: 0.04334 | train_mae: 0.16417 |  0:00:23s\n",
      "epoch 263| loss: 0.17885 | train_mse: 0.046   | train_mae: 0.16597 |  0:00:24s\n"
     ]
    },
    {
     "name": "stdout",
     "output_type": "stream",
     "text": [
      "epoch 264| loss: 0.08723 | train_mse: 0.04882 | train_mae: 0.16979 |  0:00:24s\n",
      "epoch 265| loss: 0.15289 | train_mse: 0.05012 | train_mae: 0.17096 |  0:00:24s\n",
      "epoch 266| loss: 0.0996  | train_mse: 0.05199 | train_mae: 0.17317 |  0:00:24s\n"
     ]
    },
    {
     "name": "stdout",
     "output_type": "stream",
     "text": [
      "epoch 267| loss: 0.13654 | train_mse: 0.05162 | train_mae: 0.17215 |  0:00:24s\n",
      "epoch 268| loss: 0.09115 | train_mse: 0.0504  | train_mae: 0.1719  |  0:00:24s\n",
      "epoch 269| loss: 0.10913 | train_mse: 0.04931 | train_mae: 0.17153 |  0:00:24s\n"
     ]
    },
    {
     "name": "stdout",
     "output_type": "stream",
     "text": [
      "epoch 270| loss: 0.11454 | train_mse: 0.04756 | train_mae: 0.17012 |  0:00:24s\n",
      "epoch 271| loss: 0.12529 | train_mse: 0.0455  | train_mae: 0.16665 |  0:00:24s\n",
      "epoch 272| loss: 0.11797 | train_mse: 0.04548 | train_mae: 0.16673 |  0:00:24s\n"
     ]
    },
    {
     "name": "stdout",
     "output_type": "stream",
     "text": [
      "epoch 273| loss: 0.09197 | train_mse: 0.04585 | train_mae: 0.1646  |  0:00:25s\n",
      "epoch 274| loss: 0.09813 | train_mse: 0.04623 | train_mae: 0.16409 |  0:00:25s\n",
      "epoch 275| loss: 0.18323 | train_mse: 0.04675 | train_mae: 0.16562 |  0:00:25s\n"
     ]
    },
    {
     "name": "stdout",
     "output_type": "stream",
     "text": [
      "epoch 276| loss: 0.12166 | train_mse: 0.04717 | train_mae: 0.16766 |  0:00:25s\n",
      "epoch 277| loss: 0.13312 | train_mse: 0.04749 | train_mae: 0.16962 |  0:00:25s\n",
      "epoch 278| loss: 0.10257 | train_mse: 0.04853 | train_mae: 0.1711  |  0:00:25s\n"
     ]
    },
    {
     "name": "stdout",
     "output_type": "stream",
     "text": [
      "epoch 279| loss: 0.0713  | train_mse: 0.05191 | train_mae: 0.17685 |  0:00:25s\n",
      "epoch 280| loss: 0.08406 | train_mse: 0.05365 | train_mae: 0.17961 |  0:00:25s\n",
      "epoch 281| loss: 0.10355 | train_mse: 0.05624 | train_mae: 0.18326 |  0:00:25s\n"
     ]
    },
    {
     "name": "stdout",
     "output_type": "stream",
     "text": [
      "epoch 282| loss: 0.14799 | train_mse: 0.0562  | train_mae: 0.18391 |  0:00:25s\n",
      "epoch 283| loss: 0.2014  | train_mse: 0.05265 | train_mae: 0.17878 |  0:00:25s\n",
      "epoch 284| loss: 0.08634 | train_mse: 0.05027 | train_mae: 0.17576 |  0:00:25s\n"
     ]
    },
    {
     "name": "stdout",
     "output_type": "stream",
     "text": [
      "epoch 285| loss: 0.20264 | train_mse: 0.04744 | train_mae: 0.17221 |  0:00:26s\n",
      "epoch 286| loss: 0.16433 | train_mse: 0.04441 | train_mae: 0.16638 |  0:00:26s\n",
      "epoch 287| loss: 0.12246 | train_mse: 0.04362 | train_mae: 0.16494 |  0:00:26s\n"
     ]
    },
    {
     "name": "stdout",
     "output_type": "stream",
     "text": [
      "epoch 288| loss: 0.13424 | train_mse: 0.04347 | train_mae: 0.16556 |  0:00:26s\n",
      "epoch 289| loss: 0.08386 | train_mse: 0.04434 | train_mae: 0.16782 |  0:00:26s\n",
      "epoch 290| loss: 0.07537 | train_mse: 0.0463  | train_mae: 0.17197 |  0:00:26s\n"
     ]
    },
    {
     "name": "stdout",
     "output_type": "stream",
     "text": [
      "epoch 291| loss: 0.1194  | train_mse: 0.05016 | train_mae: 0.18033 |  0:00:26s\n",
      "epoch 292| loss: 0.05941 | train_mse: 0.05207 | train_mae: 0.1851  |  0:00:26s\n",
      "epoch 293| loss: 0.0578  | train_mse: 0.05214 | train_mae: 0.18527 |  0:00:26s\n"
     ]
    },
    {
     "name": "stdout",
     "output_type": "stream",
     "text": [
      "epoch 294| loss: 0.12176 | train_mse: 0.05408 | train_mae: 0.18861 |  0:00:26s\n",
      "\n",
      "Early stopping occurred at epoch 294 with best_epoch = 244 and best_train_mae = 0.15871\n",
      "Best weights from best epoch are automatically used!\n"
     ]
    }
   ],
   "source": [
    "#Train the Model\n",
    "\n",
    "Y_train = np.reshape(Y_train, (-1, 1))\n",
    "Y_test = np.reshape(Y_test, (-1, 1))\n",
    "\n",
    "prior_model = TabNetRegressor(optimizer_fn=torch.optim.Adam, optimizer_params=dict(lr = 0.001),\n",
    "          #scheduler_params={\"step_size\":10, ], \"gamma\":0.9},\n",
    "          #scheduler_fn=torch.optim.lr_scheduler.StepLR\n",
    "          )  #TabNetRegressor()\n",
    "\n",
    "prior_model.fit(X_train,Y_train,eval_set=[(X_train, Y_train)],\n",
    "            eval_name=['train'], \n",
    "            eval_metric=[ 'mse', 'mae'], \n",
    "            max_epochs = n_epochs, \n",
    "            batch_size = batch_size,\n",
    "            patience=50\n",
    "            )"
   ]
  },
  {
   "cell_type": "code",
   "execution_count": 10,
   "id": "af65dcda",
   "metadata": {
    "execution": {
     "iopub.execute_input": "2022-07-22T08:39:26.018673Z",
     "iopub.status.busy": "2022-07-22T08:39:26.018226Z",
     "iopub.status.idle": "2022-07-22T08:39:26.067238Z",
     "shell.execute_reply": "2022-07-22T08:39:26.066093Z"
    },
    "id": "af65dcda",
    "papermill": {
     "duration": 0.070835,
     "end_time": "2022-07-22T08:39:26.071022",
     "exception": false,
     "start_time": "2022-07-22T08:39:26.000187",
     "status": "completed"
    },
    "tags": []
   },
   "outputs": [
    {
     "data": {
      "application/scrapbook.scrap.json+json": {
       "data": 0.4687516181398192,
       "encoder": "json",
       "name": "Prior Model MSE",
       "version": 1
      }
     },
     "metadata": {
      "scrapbook": {
       "data": true,
       "display": false,
       "name": "Prior Model MSE"
      }
     },
     "output_type": "display_data"
    },
    {
     "data": {
      "application/scrapbook.scrap.json+json": {
       "data": 0.5198076474810877,
       "encoder": "json",
       "name": "ABC Pre-generator MSE",
       "version": 1
      }
     },
     "metadata": {
      "scrapbook": {
       "data": true,
       "display": false,
       "name": "ABC Pre-generator MSE"
      }
     },
     "output_type": "display_data"
    },
    {
     "data": {
      "application/scrapbook.scrap.json+json": {
       "data": 0.43655853841694886,
       "encoder": "json",
       "name": "Prior Model MAE",
       "version": 1
      }
     },
     "metadata": {
      "scrapbook": {
       "data": true,
       "display": false,
       "name": "Prior Model MAE"
      }
     },
     "output_type": "display_data"
    },
    {
     "name": "stdout",
     "output_type": "stream",
     "text": [
      "Prior Model MAE 0.43655853841694886\n"
     ]
    },
    {
     "data": {
      "application/scrapbook.scrap.json+json": {
       "data": 0.48074825848460545,
       "encoder": "json",
       "name": "ABC Pre-generator MAE",
       "version": 1
      }
     },
     "metadata": {
      "scrapbook": {
       "data": true,
       "display": false,
       "name": "ABC Pre-generator MAE"
      }
     },
     "output_type": "display_data"
    },
    {
     "name": "stdout",
     "output_type": "stream",
     "text": [
      "ABC Pre-generator MAE 0.48074825848460545\n"
     ]
    }
   ],
   "source": [
    "y_pred = prior_model.predict(X_test)\n",
    "y_abc = y_pred + np.random.normal(0,variance, y_pred.shape) + bias \n",
    "mse = mean_squared_error(y_pred,Y_test)\n",
    "sb.glue(\"Prior Model MSE\",mse)\n",
    "mse = mean_squared_error(y_abc,Y_test)\n",
    "sb.glue(\"ABC Pre-generator MSE\",mse)\n",
    "mae = mean_absolute_error(y_pred,Y_test)\n",
    "sb.glue(\"Prior Model MAE\",mae)\n",
    "print(\"Prior Model MAE\",mae)\n",
    "mae = mean_absolute_error(y_abc,Y_test)\n",
    "sb.glue(\"ABC Pre-generator MAE\",mae)\n",
    "print(\"ABC Pre-generator MAE\",mae)"
   ]
  },
  {
   "cell_type": "markdown",
   "id": "25609da2",
   "metadata": {
    "papermill": {
     "duration": 0.038328,
     "end_time": "2022-07-22T08:39:26.125464",
     "exception": false,
     "start_time": "2022-07-22T08:39:26.087136",
     "status": "completed"
    },
    "tags": []
   },
   "source": [
    "# mGAN Model"
   ]
  },
  {
   "cell_type": "code",
   "execution_count": 11,
   "id": "dfc3464d",
   "metadata": {
    "execution": {
     "iopub.execute_input": "2022-07-22T08:39:26.174061Z",
     "iopub.status.busy": "2022-07-22T08:39:26.173575Z",
     "iopub.status.idle": "2022-07-22T08:39:26.180286Z",
     "shell.execute_reply": "2022-07-22T08:39:26.177148Z"
    },
    "papermill": {
     "duration": 0.041506,
     "end_time": "2022-07-22T08:39:26.184782",
     "exception": false,
     "start_time": "2022-07-22T08:39:26.143276",
     "status": "completed"
    },
    "tags": []
   },
   "outputs": [],
   "source": [
    "# gen = network.Generator(n_features+1).to(device)\n",
    "# disc = network.Discriminator(n_features+1).to(device)\n",
    "\n",
    "# criterion = torch.nn.BCELoss()\n",
    "# gen_opt = torch.optim.Adam(gen.parameters(), lr=0.001, betas=(0.5, 0.999))\n",
    "# disc_opt = torch.optim.Adam(disc.parameters(), lr=0.001, betas=(0.5, 0.999))"
   ]
  },
  {
   "cell_type": "code",
   "execution_count": 12,
   "id": "b75fdd85",
   "metadata": {
    "execution": {
     "iopub.execute_input": "2022-07-22T08:39:26.227070Z",
     "iopub.status.busy": "2022-07-22T08:39:26.226660Z",
     "iopub.status.idle": "2022-07-22T08:39:26.231201Z",
     "shell.execute_reply": "2022-07-22T08:39:26.229898Z"
    },
    "papermill": {
     "duration": 0.030086,
     "end_time": "2022-07-22T08:39:26.235104",
     "exception": false,
     "start_time": "2022-07-22T08:39:26.205018",
     "status": "completed"
    },
    "tags": []
   },
   "outputs": [],
   "source": [
    "#Training the ABC_GAN \n",
    "# ABC_train_test2.training_GAN(disc,gen,disc_opt,gen_opt,train_data,batch_size,n_epochs,criterion,prior_model,variance,bias,device)"
   ]
  },
  {
   "cell_type": "code",
   "execution_count": 13,
   "id": "1fa7c368",
   "metadata": {
    "execution": {
     "iopub.execute_input": "2022-07-22T08:39:26.285178Z",
     "iopub.status.busy": "2022-07-22T08:39:26.284243Z",
     "iopub.status.idle": "2022-07-22T08:39:26.289320Z",
     "shell.execute_reply": "2022-07-22T08:39:26.288252Z"
    },
    "papermill": {
     "duration": 0.034033,
     "end_time": "2022-07-22T08:39:26.292516",
     "exception": false,
     "start_time": "2022-07-22T08:39:26.258483",
     "status": "completed"
    },
    "tags": []
   },
   "outputs": [],
   "source": [
    "# ABC_GAN1_metrics=ABC_train_test2.test_generator(gen,test_data,prior_model,variance,bias,\"1\",device)\n",
    "# sb.glue(\"ABC_GAN_1 Metrics\",ABC_GAN1_metrics)\n",
    "\n",
    "# print(\"MAE\")\n",
    "# print(mean(ABC_GAN1_metrics[1]))"
   ]
  },
  {
   "cell_type": "code",
   "execution_count": 14,
   "id": "eb22ce5c",
   "metadata": {
    "execution": {
     "iopub.execute_input": "2022-07-22T08:39:26.334893Z",
     "iopub.status.busy": "2022-07-22T08:39:26.333974Z",
     "iopub.status.idle": "2022-07-22T08:39:26.339187Z",
     "shell.execute_reply": "2022-07-22T08:39:26.337396Z"
    },
    "papermill": {
     "duration": 0.02782,
     "end_time": "2022-07-22T08:39:26.342859",
     "exception": false,
     "start_time": "2022-07-22T08:39:26.315039",
     "status": "completed"
    },
    "tags": []
   },
   "outputs": [],
   "source": [
    "# sanityChecks.discProbVsError(train_data,disc,device)\n",
    "# sanityChecks.discProbVsError(test_data,disc,device)"
   ]
  },
  {
   "cell_type": "markdown",
   "id": "75e2c5fc",
   "metadata": {
    "papermill": {
     "duration": 0.015729,
     "end_time": "2022-07-22T08:39:26.376411",
     "exception": false,
     "start_time": "2022-07-22T08:39:26.360682",
     "status": "completed"
    },
    "tags": []
   },
   "source": [
    "# mGAN Model with TabNet Generator"
   ]
  },
  {
   "cell_type": "code",
   "execution_count": 15,
   "id": "3280c502",
   "metadata": {
    "execution": {
     "iopub.execute_input": "2022-07-22T08:39:26.415111Z",
     "iopub.status.busy": "2022-07-22T08:39:26.414181Z",
     "iopub.status.idle": "2022-07-22T08:39:26.432245Z",
     "shell.execute_reply": "2022-07-22T08:39:26.431359Z"
    },
    "papermill": {
     "duration": 0.041473,
     "end_time": "2022-07-22T08:39:26.435071",
     "exception": false,
     "start_time": "2022-07-22T08:39:26.393598",
     "status": "completed"
    },
    "tags": []
   },
   "outputs": [],
   "source": [
    "gen2 = network.GeneratorTabnet(n_features+1).to(device)\n",
    "disc2 = network.Discriminator(n_features+1).to(device)\n",
    "\n",
    "criterion = torch.nn.BCELoss()\n",
    "gen_opt = torch.optim.Adam(gen2.parameters(), lr=0.001, betas=(0.5, 0.999))\n",
    "disc_opt = torch.optim.Adam(disc2.parameters(), lr=0.001, betas=(0.5, 0.999))"
   ]
  },
  {
   "cell_type": "code",
   "execution_count": 16,
   "id": "4b132655",
   "metadata": {
    "execution": {
     "iopub.execute_input": "2022-07-22T08:39:26.470727Z",
     "iopub.status.busy": "2022-07-22T08:39:26.469415Z",
     "iopub.status.idle": "2022-07-22T08:42:03.957103Z",
     "shell.execute_reply": "2022-07-22T08:42:03.955796Z"
    },
    "papermill": {
     "duration": 157.509048,
     "end_time": "2022-07-22T08:42:03.960294",
     "exception": false,
     "start_time": "2022-07-22T08:39:26.451246",
     "status": "completed"
    },
    "tags": []
   },
   "outputs": [
    {
     "data": {
      "image/png": "[encoded data removed]",
      "text/plain": [
       "<Figure size 432x288 with 1 Axes>"
      ]
     },
     "metadata": {
      "needs_background": "light"
     },
     "output_type": "display_data"
    },
    {
     "data": {
      "image/png": "[encoded data removed]",
      "text/plain": [
       "<Figure size 432x288 with 1 Axes>"
      ]
     },
     "metadata": {
      "needs_background": "light"
     },
     "output_type": "display_data"
    }
   ],
   "source": [
    "#Training the ABC_GAN \n",
    "ABC_train_test2.training_GAN(disc2,gen2,disc_opt,gen_opt,train_data,batch_size,n_epochs,criterion,prior_model,variance,bias,device)"
   ]
  },
  {
   "cell_type": "code",
   "execution_count": 17,
   "id": "5ccaad13",
   "metadata": {
    "execution": {
     "iopub.execute_input": "2022-07-22T08:42:04.001174Z",
     "iopub.status.busy": "2022-07-22T08:42:04.000597Z",
     "iopub.status.idle": "2022-07-22T08:42:05.700644Z",
     "shell.execute_reply": "2022-07-22T08:42:05.699544Z"
    },
    "papermill": {
     "duration": 1.724087,
     "end_time": "2022-07-22T08:42:05.703334",
     "exception": false,
     "start_time": "2022-07-22T08:42:03.979247",
     "status": "completed"
    },
    "tags": []
   },
   "outputs": [
    {
     "data": {
      "application/scrapbook.scrap.json+json": {
       "data": 0.48043336986577206,
       "encoder": "json",
       "name": "ABC-GAN Model 1 MSE",
       "version": 1
      }
     },
     "metadata": {
      "scrapbook": {
       "data": true,
       "display": false,
       "name": "ABC-GAN Model 1 MSE"
      }
     },
     "output_type": "display_data"
    },
    {
     "data": {
      "application/scrapbook.scrap.json+json": {
       "data": 0.40965437873080374,
       "encoder": "json",
       "name": "ABC-GAN Model 1 MAE",
       "version": 1
      }
     },
     "metadata": {
      "scrapbook": {
       "data": true,
       "display": false,
       "name": "ABC-GAN Model 1 MAE"
      }
     },
     "output_type": "display_data"
    },
    {
     "data": {
      "application/scrapbook.scrap.json+json": {
       "data": 8.193087574616074,
       "encoder": "json",
       "name": "ABC-GAN Model 1 Manhattan Distance",
       "version": 1
      }
     },
     "metadata": {
      "scrapbook": {
       "data": true,
       "display": false,
       "name": "ABC-GAN Model 1 Manhattan Distance"
      }
     },
     "output_type": "display_data"
    },
    {
     "data": {
      "application/scrapbook.scrap.json+json": {
       "data": 3.099632982256364,
       "encoder": "json",
       "name": "ABC-GAN Model 1 Euclidean distance",
       "version": 1
      }
     },
     "metadata": {
      "scrapbook": {
       "data": true,
       "display": false,
       "name": "ABC-GAN Model 1 Euclidean distance"
      }
     },
     "output_type": "display_data"
    },
    {
     "data": {
      "application/scrapbook.scrap.json+json": {
       "data": [
        [
         0.4841412714472192,
         0.4790856911521685,
         0.4657221517899002,
         0.47165594701202895,
         0.47709207422033073,
         0.48593741247420663,
         0.4846040838155911,
         0.4943492495721399,
         0.4619459313041544,
         0.46741336457694677,
         0.48000847092632615,
         0.4816717524319015,
         0.48461453120790876,
         0.46504296923600313,
         0.48590284931530175,
         0.4762727212839799,
         0.47930329544016104,
         0.47939811909803753,
         0.48631527501052896,
         0.47016066840756743,
         0.4825653163118366,
         0.48272319986364565,
         0.48864135966381567,
         0.4951168099692227,
         0.48494302808648443,
         0.48844545480735224,
         0.47279063877056904,
         0.47507494025992897,
         0.470384562594116,
         0.47576636343036344,
         0.4772596063234694,
         0.4863342535251151,
         0.46476018979068384,
         0.47755070731487664,
         0.4787981538232572,
         0.4831062351350635,
         0.4761179076140241,
         0.47464958741969365,
         0.4947045929145853,
         0.47093912743128924,
         0.4942943590610668,
         0.4669420568123046,
         0.4696173544176888,
         0.48364046715139414,
         0.49299696353424877,
         0.4668623540615616,
         0.48329910608462046,
         0.5008621805788904,
         0.4812354413041948,
         0.4783754240534964,
         0.47636648610229526,
         0.47916359119691626,
         0.4731558027134918,
         0.4797661893664193,
         0.46533395199260463,
         0.4883227660783517,
         0.5070016208883347,
         0.498321224315462,
         0.48296646546026967,
         0.47024739886952654,
         0.4908380519751141,
         0.4913431099869848,
         0.4784426547931037,
         0.4830338098859359,
         0.48726178041479606,
         0.47962831475808726,
         0.4709946778812476,
         0.48012404238599676,
         0.4885255905623918,
         0.4817428505190984,
         0.48971552693245035,
         0.5033274994049289,
         0.4815118671862457,
         0.4844298857528589,
         0.4793136840155274,
         0.4793106970495632,
         0.4864583823271767,
         0.47939538653267777,
         0.4767963289215583,
         0.4886075099554496,
         0.477021619435863,
         0.46882997786887975,
         0.4684319457314004,
         0.46963533093178106,
         0.47255260524972903,
         0.4883765250854406,
         0.48661303523312005,
         0.4832794325660815,
         0.48340431712193954,
         0.46120649836334665,
         0.472322234570154,
         0.4682985952653162,
         0.4668120927292419,
         0.5009753869675089,
         0.4719634481236593,
         0.4910368421858742,
         0.47299104607869646,
         0.4877269648440146,
         0.4964768548009008,
         0.4744995133681339
        ],
        [
         0.4102420326322317,
         0.4077905621379614,
         0.4052661031484604,
         0.40618862956762314,
         0.4032129630446434,
         0.4092402424663305,
         0.41110307537019253,
         0.4158064126968384,
         0.3999993182718754,
         0.4023445870727301,
         0.40325089208781717,
         0.4115189116448164,
         0.407852715626359,
         0.40351706705987456,
         0.4077392015606165,
         0.4128332853317261,
         0.40102071054279803,
         0.41255788691341877,
         0.4148671790957451,
         0.40993769392371177,
         0.40511767081916333,
         0.4077583570033312,
         0.40703311674296855,
         0.4140319999307394,
         0.4083451621234417,
         0.41155580393970015,
         0.41258228570222855,
         0.40792904458940027,
         0.4100000660866499,
         0.4078159615397453,
         0.41476220525801183,
         0.40999480411410333,
         0.4095909189432859,
         0.4096505243331194,
         0.40402502566576004,
         0.41076851189136504,
         0.4101572159677744,
         0.4046616904437542,
         0.42349091060459615,
         0.4061482988297939,
         0.4090368986129761,
         0.40566365160048007,
         0.4073968417942524,
         0.41160455495119097,
         0.41359095796942713,
         0.4072760343551636,
         0.41416032426059246,
         0.41282432414591314,
         0.40502614453434943,
         0.4100388802587986,
         0.4029464580118656,
         0.41085693389177325,
         0.41128090806305406,
         0.40311258994042876,
         0.40592906400561335,
         0.4081979118287563,
         0.4246828597038984,
         0.42521430663764476,
         0.41390934623777864,
         0.4123152788728476,
         0.4049824055284262,
         0.4115899920463562,
         0.40404409542679787,
         0.4094599116593599,
         0.40645986013114455,
         0.4120998717844486,
         0.40850157141685484,
         0.41279187723994254,
         0.41182900629937647,
         0.4074120815843344,
         0.40424368977546693,
         0.41987221986055373,
         0.40858837142586707,
         0.4084769431501627,
         0.41269909776747227,
         0.41042313203215597,
         0.4047489196062088,
         0.4142940979450941,
         0.41516909189522266,
         0.407117648422718,
         0.41111368499696255,
         0.4076378583908081,
         0.4065162532031536,
         0.4087102126330137,
         0.4051069229841232,
         0.41147025413811206,
         0.41086903102695943,
         0.40808477625250816,
         0.40819622837007047,
         0.40493551045656206,
         0.41266482695937157,
         0.40559069253504276,
         0.4085823010653257,
         0.4191435106098652,
         0.41017712093889713,
         0.4103281535208225,
         0.4083984661847353,
         0.4153221469372511,
         0.42503976486623285,
         0.405972957611084
        ],
        [
         8.204840652644634,
         8.155811242759228,
         8.105322062969208,
         8.123772591352463,
         8.064259260892868,
         8.18480484932661,
         8.22206150740385,
         8.316128253936768,
         7.999986365437508,
         8.046891741454601,
         8.065017841756344,
         8.230378232896328,
         8.15705431252718,
         8.07034134119749,
         8.15478403121233,
         8.256665706634521,
         8.02041421085596,
         8.251157738268375,
         8.297343581914902,
         8.198753878474236,
         8.102353416383266,
         8.155167140066624,
         8.140662334859371,
         8.280639998614788,
         8.166903242468834,
         8.231116078794003,
         8.251645714044571,
         8.158580891788006,
         8.200001321732998,
         8.156319230794907,
         8.295244105160236,
         8.199896082282066,
         8.191818378865719,
         8.193010486662388,
         8.0805005133152,
         8.215370237827301,
         8.203144319355488,
         8.093233808875084,
         8.469818212091923,
         8.122965976595879,
         8.180737972259521,
         8.113273032009602,
         8.147936835885048,
         8.232091099023819,
         8.271819159388542,
         8.145520687103271,
         8.28320648521185,
         8.256486482918262,
         8.100522890686989,
         8.200777605175972,
         8.058929160237312,
         8.217138677835464,
         8.225618161261082,
         8.062251798808575,
         8.118581280112267,
         8.163958236575127,
         8.493657194077969,
         8.504286132752895,
         8.278186924755573,
         8.246305577456951,
         8.099648110568523,
         8.231799840927124,
         8.080881908535957,
         8.189198233187199,
         8.12919720262289,
         8.241997435688972,
         8.170031428337097,
         8.255837544798851,
         8.23658012598753,
         8.148241631686687,
         8.084873795509338,
         8.397444397211075,
         8.171767428517342,
         8.169538863003254,
         8.253981955349445,
         8.20846264064312,
         8.094978392124176,
         8.285881958901882,
         8.303381837904453,
         8.142352968454361,
         8.222273699939251,
         8.152757167816162,
         8.130325064063072,
         8.174204252660275,
         8.102138459682465,
         8.229405082762241,
         8.217380620539188,
         8.161695525050163,
         8.16392456740141,
         8.09871020913124,
         8.253296539187431,
         8.111813850700855,
         8.171646021306515,
         8.382870212197304,
         8.203542418777943,
         8.20656307041645,
         8.167969323694706,
         8.306442938745022,
         8.500795297324657,
         8.11945915222168
        ],
        [
         3.111723867720974,
         3.0954343512733993,
         3.0519572467185716,
         3.0713382979151906,
         3.0889871292070175,
         3.1174906975778023,
         3.1132108306878,
         3.14435764369176,
         3.039558952559251,
         3.0574936290267125,
         3.098414016642469,
         3.103777544966461,
         3.113244388762015,
         3.049731034816032,
         3.11737982708332,
         3.0863334922978747,
         3.0961372561311324,
         3.09644350537205,
         3.118702534742706,
         3.066465941136694,
         3.106655166933841,
         3.1071633361110758,
         3.1261521385364963,
         3.146797769063727,
         3.1142993693172287,
         3.125525411214416,
         3.0750305324356346,
         3.0824501302046365,
         3.067195991762235,
         3.0846924106962867,
         3.089529434472083,
         3.118763388027745,
         3.048803666327774,
         3.0904715087341494,
         3.094505303996932,
         3.108395840735422,
         3.085831841218909,
         3.0810699031982174,
         3.145487539045689,
         3.069003510689713,
         3.1441830705640115,
         3.055951756203964,
         3.064693636948688,
         3.1101140401965774,
         3.1400540235296868,
         3.055690933525711,
         3.10901626269346,
         3.1650029402162976,
         3.1023714842171777,
         3.093138936593364,
         3.0866372838488663,
         3.095686002154986,
         3.0762178164541334,
         3.0976319644735693,
         3.0506850115756126,
         3.1251328486269236,
         3.184341755805537,
         3.156964441723922,
         3.10794615609817,
         3.066748763330725,
         3.133171083663048,
         3.134782639951245,
         3.0933562833695816,
         3.108162833205287,
         3.1217359927283925,
         3.0971868356884356,
         3.0691845101956567,
         3.098786996184141,
         3.1257817920078543,
         3.104006606046766,
         3.129586320689846,
         3.1727826884453614,
         3.103262371074175,
         3.11265123569236,
         3.096170809291785,
         3.096161161986124,
         3.119161369109256,
         3.096434680508141,
         3.0880295624283076,
         3.1260438575152767,
         3.0887590370110227,
         3.062123373964151,
         3.060823241323812,
         3.064752293193631,
         3.0742563499153066,
         3.1253048654025433,
         3.1196571453706894,
         3.1089529831314,
         3.109354650476331,
         3.0371252801402404,
         3.0735069044014005,
         3.0603875416859094,
         3.0555264447529886,
         3.165360601787761,
         3.072339330619778,
         3.133805489132579,
         3.075682187998937,
         3.1232257838459723,
         3.1511168013924866,
         3.080582780475584
        ]
       ],
       "encoder": "json",
       "name": "ABC_GAN_2 Metrics",
       "version": 1
      }
     },
     "metadata": {
      "scrapbook": {
       "data": true,
       "display": false,
       "name": "ABC_GAN_2 Metrics"
      }
     },
     "output_type": "display_data"
    },
    {
     "name": "stdout",
     "output_type": "stream",
     "text": [
      "MAE\n",
      "0.40965437873080374\n"
     ]
    }
   ],
   "source": [
    "ABC_GAN2_metrics=ABC_train_test2.test_generator(gen2,test_data,prior_model,variance,bias,\"1\",device)\n",
    "sb.glue(\"ABC_GAN_2 Metrics\",ABC_GAN2_metrics)\n",
    "\n",
    "print(\"MAE\")\n",
    "print(mean(ABC_GAN2_metrics[1]))"
   ]
  },
  {
   "cell_type": "code",
   "execution_count": 18,
   "id": "25367401",
   "metadata": {
    "execution": {
     "iopub.execute_input": "2022-07-22T08:42:05.742247Z",
     "iopub.status.busy": "2022-07-22T08:42:05.741768Z",
     "iopub.status.idle": "2022-07-22T08:42:06.637776Z",
     "shell.execute_reply": "2022-07-22T08:42:06.636463Z"
    },
    "papermill": {
     "duration": 0.918917,
     "end_time": "2022-07-22T08:42:06.640884",
     "exception": false,
     "start_time": "2022-07-22T08:42:05.721967",
     "status": "completed"
    },
    "tags": []
   },
   "outputs": [
    {
     "data": {
      "image/png": "[encoded data removed]",
      "text/plain": [
       "<Figure size 432x288 with 1 Axes>"
      ]
     },
     "metadata": {
      "needs_background": "light"
     },
     "output_type": "display_data"
    },
    {
     "data": {
      "image/png": "[encoded data removed]",
      "text/plain": [
       "<Figure size 432x288 with 1 Axes>"
      ]
     },
     "metadata": {
      "needs_background": "light"
     },
     "output_type": "display_data"
    },
    {
     "data": {
      "image/png": "[encoded data removed]",
      "text/plain": [
       "<Figure size 432x288 with 1 Axes>"
      ]
     },
     "metadata": {
      "needs_background": "light"
     },
     "output_type": "display_data"
    },
    {
     "data": {
      "image/png": "[encoded data removed]",
      "text/plain": [
       "<Figure size 432x288 with 1 Axes>"
      ]
     },
     "metadata": {
      "needs_background": "light"
     },
     "output_type": "display_data"
    }
   ],
   "source": [
    "sanityChecks.discProbVsError(train_data,disc2,device)\n",
    "sanityChecks.discProbVsError(test_data,disc2,device)"
   ]
  },
  {
   "cell_type": "markdown",
   "id": "130f3a4d",
   "metadata": {
    "id": "130f3a4d",
    "papermill": {
     "duration": 0.023067,
     "end_time": "2022-07-22T08:42:06.685928",
     "exception": false,
     "start_time": "2022-07-22T08:42:06.662861",
     "status": "completed"
    },
    "tags": []
   },
   "source": [
    "# skipGAN Model"
   ]
  },
  {
   "cell_type": "code",
   "execution_count": 19,
   "id": "4e43dad1",
   "metadata": {
    "execution": {
     "iopub.execute_input": "2022-07-22T08:42:06.731312Z",
     "iopub.status.busy": "2022-07-22T08:42:06.730720Z",
     "iopub.status.idle": "2022-07-22T08:42:06.736873Z",
     "shell.execute_reply": "2022-07-22T08:42:06.735975Z"
    },
    "id": "4e43dad1",
    "papermill": {
     "duration": 0.032536,
     "end_time": "2022-07-22T08:42:06.739721",
     "exception": false,
     "start_time": "2022-07-22T08:42:06.707185",
     "status": "completed"
    },
    "tags": []
   },
   "outputs": [],
   "source": [
    "# #Generator\n",
    "# gen3 = network.GeneratorWithSkipConnection(n_features+1).to(device)\n",
    "# constraints=network.weightConstraint()\n",
    "# #Discriminator \n",
    "# disc3 = network.Discriminator(n_features+1).to(device)\n",
    "\n",
    "# criterion = torch.nn.BCELoss()\n",
    "# gen_opt = torch.optim.Adam(gen3.parameters(), lr=0.01, betas=(0.5, 0.999))\n",
    "# disc_opt = torch.optim.Adam(disc3.parameters(), lr=0.01, betas=(0.5, 0.999))\n"
   ]
  },
  {
   "cell_type": "code",
   "execution_count": 20,
   "id": "26acbc37",
   "metadata": {
    "execution": {
     "iopub.execute_input": "2022-07-22T08:42:06.786442Z",
     "iopub.status.busy": "2022-07-22T08:42:06.786053Z",
     "iopub.status.idle": "2022-07-22T08:42:06.790862Z",
     "shell.execute_reply": "2022-07-22T08:42:06.789771Z"
    },
    "id": "26acbc37",
    "papermill": {
     "duration": 0.034468,
     "end_time": "2022-07-22T08:42:06.794750",
     "exception": false,
     "start_time": "2022-07-22T08:42:06.760282",
     "status": "completed"
    },
    "tags": []
   },
   "outputs": [],
   "source": [
    "# ABC_train_test2.training_GAN_skip_connection(disc3,gen3,disc_opt,gen_opt,train_data,batch_size,n_epochs,criterion,prior_model,variance,bias,device)"
   ]
  },
  {
   "cell_type": "code",
   "execution_count": 21,
   "id": "c5e0717b",
   "metadata": {
    "execution": {
     "iopub.execute_input": "2022-07-22T08:42:06.840674Z",
     "iopub.status.busy": "2022-07-22T08:42:06.840219Z",
     "iopub.status.idle": "2022-07-22T08:42:06.845285Z",
     "shell.execute_reply": "2022-07-22T08:42:06.843633Z"
    },
    "id": "c5e0717b",
    "papermill": {
     "duration": 0.031616,
     "end_time": "2022-07-22T08:42:06.847937",
     "exception": false,
     "start_time": "2022-07-22T08:42:06.816321",
     "status": "completed"
    },
    "tags": []
   },
   "outputs": [],
   "source": [
    "# ABC_GAN3_metrics=ABC_train_test2.test_generator(gen3,test_data,prior_model,variance,bias,\"3\",device)\n",
    "# sb.glue(\"ABC_GAN_3 Metrics\",ABC_GAN3_metrics)\n",
    "\n",
    "# print(\"MAE\")\n",
    "# print(mean(ABC_GAN3_metrics[1]))"
   ]
  },
  {
   "cell_type": "code",
   "execution_count": 22,
   "id": "c8e46b48",
   "metadata": {
    "execution": {
     "iopub.execute_input": "2022-07-22T08:42:06.894436Z",
     "iopub.status.busy": "2022-07-22T08:42:06.893812Z",
     "iopub.status.idle": "2022-07-22T08:42:06.897820Z",
     "shell.execute_reply": "2022-07-22T08:42:06.896921Z"
    },
    "id": "c8e46b48",
    "papermill": {
     "duration": 0.033314,
     "end_time": "2022-07-22T08:42:06.902207",
     "exception": false,
     "start_time": "2022-07-22T08:42:06.868893",
     "status": "completed"
    },
    "tags": []
   },
   "outputs": [],
   "source": [
    "# sanityChecks.discProbVsError(train_data,disc3,device)\n",
    "# sanityChecks.discProbVsError(test_data,disc3,device)"
   ]
  },
  {
   "cell_type": "markdown",
   "id": "f7e8e46f",
   "metadata": {
    "id": "130f3a4d",
    "papermill": {
     "duration": 0.021238,
     "end_time": "2022-07-22T08:42:06.945087",
     "exception": false,
     "start_time": "2022-07-22T08:42:06.923849",
     "status": "completed"
    },
    "tags": []
   },
   "source": [
    "# skipGAN Model with TabNet Generator"
   ]
  },
  {
   "cell_type": "code",
   "execution_count": 23,
   "id": "8afbe8ca",
   "metadata": {
    "execution": {
     "iopub.execute_input": "2022-07-22T08:42:06.989575Z",
     "iopub.status.busy": "2022-07-22T08:42:06.989066Z",
     "iopub.status.idle": "2022-07-22T08:42:07.007036Z",
     "shell.execute_reply": "2022-07-22T08:42:07.006162Z"
    },
    "id": "4e43dad1",
    "papermill": {
     "duration": 0.04351,
     "end_time": "2022-07-22T08:42:07.009763",
     "exception": false,
     "start_time": "2022-07-22T08:42:06.966253",
     "status": "completed"
    },
    "tags": []
   },
   "outputs": [],
   "source": [
    "#Generator\n",
    "gen4 = network.GeneratorTabnetskipConnection(n_features+1).to(device)\n",
    "constraints=network.weightConstraint()\n",
    "#Discriminator \n",
    "disc4 = network.Discriminator(n_features+1).to(device)\n",
    "\n",
    "criterion = torch.nn.BCELoss()\n",
    "gen_opt = torch.optim.Adam(gen4.parameters(), lr=0.001, betas=(0.5, 0.999))\n",
    "disc_opt = torch.optim.Adam(disc4.parameters(), lr=0.001, betas=(0.5, 0.999))\n"
   ]
  },
  {
   "cell_type": "code",
   "execution_count": 24,
   "id": "e158f561",
   "metadata": {
    "execution": {
     "iopub.execute_input": "2022-07-22T08:42:07.052804Z",
     "iopub.status.busy": "2022-07-22T08:42:07.052139Z",
     "iopub.status.idle": "2022-07-22T08:45:27.589448Z",
     "shell.execute_reply": "2022-07-22T08:45:27.588151Z"
    },
    "id": "26acbc37",
    "papermill": {
     "duration": 200.562273,
     "end_time": "2022-07-22T08:45:27.592525",
     "exception": false,
     "start_time": "2022-07-22T08:42:07.030252",
     "status": "completed"
    },
    "tags": []
   },
   "outputs": [
    {
     "data": {
      "image/png": "[encoded data removed]",
      "text/plain": [
       "<Figure size 432x288 with 1 Axes>"
      ]
     },
     "metadata": {
      "needs_background": "light"
     },
     "output_type": "display_data"
    },
    {
     "data": {
      "image/png": "[encoded data removed]",
      "text/plain": [
       "<Figure size 432x288 with 1 Axes>"
      ]
     },
     "metadata": {
      "needs_background": "light"
     },
     "output_type": "display_data"
    }
   ],
   "source": [
    "ABC_train_test2.training_GAN_skip_connection(disc4,gen4,disc_opt,gen_opt,train_data,batch_size,n_epochs,criterion,prior_model,variance,bias,device)"
   ]
  },
  {
   "cell_type": "code",
   "execution_count": 25,
   "id": "0330081a",
   "metadata": {
    "execution": {
     "iopub.execute_input": "2022-07-22T08:45:27.660431Z",
     "iopub.status.busy": "2022-07-22T08:45:27.660000Z",
     "iopub.status.idle": "2022-07-22T08:45:30.147897Z",
     "shell.execute_reply": "2022-07-22T08:45:30.146996Z"
    },
    "id": "c5e0717b",
    "papermill": {
     "duration": 2.534638,
     "end_time": "2022-07-22T08:45:30.150402",
     "exception": false,
     "start_time": "2022-07-22T08:45:27.615764",
     "status": "completed"
    },
    "tags": []
   },
   "outputs": [
    {
     "data": {
      "application/scrapbook.scrap.json+json": {
       "data": 0.5633107339394294,
       "encoder": "json",
       "name": "ABC-GAN Model 3 MSE",
       "version": 1
      }
     },
     "metadata": {
      "scrapbook": {
       "data": true,
       "display": false,
       "name": "ABC-GAN Model 3 MSE"
      }
     },
     "output_type": "display_data"
    },
    {
     "data": {
      "application/scrapbook.scrap.json+json": {
       "data": 0.508169174965471,
       "encoder": "json",
       "name": "ABC-GAN Model 3 MAE",
       "version": 1
      }
     },
     "metadata": {
      "scrapbook": {
       "data": true,
       "display": false,
       "name": "ABC-GAN Model 3 MAE"
      }
     },
     "output_type": "display_data"
    },
    {
     "data": {
      "application/scrapbook.scrap.json+json": {
       "data": 10.16338349930942,
       "encoder": "json",
       "name": "ABC-GAN Model 3 Manhattan Distance",
       "version": 1
      }
     },
     "metadata": {
      "scrapbook": {
       "data": true,
       "display": false,
       "name": "ABC-GAN Model 3 Manhattan Distance"
      }
     },
     "output_type": "display_data"
    },
    {
     "data": {
      "application/scrapbook.scrap.json+json": {
       "data": 3.3564929232390766,
       "encoder": "json",
       "name": "ABC-GAN Model 3 Euclidean distance",
       "version": 1
      }
     },
     "metadata": {
      "scrapbook": {
       "data": true,
       "display": false,
       "name": "ABC-GAN Model 3 Euclidean distance"
      }
     },
     "output_type": "display_data"
    },
    {
     "data": {
      "application/scrapbook.scrap.json+json": {
       "data": [
        [
         0.5636298491933266,
         0.5625264806729918,
         0.5582579713147815,
         0.564163002356427,
         0.5643401628758665,
         0.5614843734905598,
         0.5591219685191955,
         0.5571874603966165,
         0.564691108756431,
         0.5700637724486549,
         0.5621954965101386,
         0.5656718425447533,
         0.5608185930884257,
         0.5661744643133371,
         0.5561531346027895,
         0.5620114369686974,
         0.5660244121735486,
         0.5594569053703848,
         0.5643531649261936,
         0.5606888511999051,
         0.5605857111120465,
         0.5655384599350505,
         0.5587862558428451,
         0.5614316158149191,
         0.5649413136798269,
         0.5667578319474647,
         0.5651797054380348,
         0.5650266349343619,
         0.5641877664016619,
         0.5638023696170167,
         0.5550449472017377,
         0.5644100776717771,
         0.5653031261119444,
         0.5671088940052458,
         0.559887682078922,
         0.5651567494991868,
         0.5646436995893372,
         0.5654101242748784,
         0.572396561585675,
         0.5628103618616025,
         0.5677196462579195,
         0.5601779894566141,
         0.5646472090024792,
         0.5758425454102136,
         0.5596009974060164,
         0.5643748599602001,
         0.5584855053166962,
         0.5636585106360116,
         0.5729629205544082,
         0.5599791776246235,
         0.5676891266832527,
         0.5584083817894513,
         0.5533108725230399,
         0.5615136255864274,
         0.5581367582399016,
         0.5677497567697911,
         0.5556062116319749,
         0.5667739644734822,
         0.5657228744667261,
         0.5700887758265759,
         0.5561105108679998,
         0.563044228227535,
         0.5617319859781567,
         0.571639471176874,
         0.5628455427451939,
         0.5637234928521488,
         0.5624040747322733,
         0.5657804569670356,
         0.5581117173970973,
         0.5596263628162209,
         0.5550995620747775,
         0.5747145637659614,
         0.5660706038495006,
         0.5638090312566326,
         0.564954781283142,
         0.563854863731145,
         0.5619467042876642,
         0.5661130664749052,
         0.567893328869394,
         0.5675765238008227,
         0.564207193877271,
         0.5649787056662017,
         0.5643386456795414,
         0.5607594939045585,
         0.563132426577258,
         0.5602775947091929,
         0.5630840791948012,
         0.5593362395071125,
         0.5649531132105793,
         0.5678128203898931,
         0.5693973924593824,
         0.5564101039664022,
         0.5577940050081989,
         0.5591250595804238,
         0.5580991311293498,
         0.5653810900218428,
         0.5650720482479044,
         0.5644841657827042,
         0.5549014975527662,
         0.5706036643807124
        ],
        [
         0.5079782348126173,
         0.5074982728809119,
         0.502729456499219,
         0.5104608535766602,
         0.5072543196380138,
         0.506058618798852,
         0.508611011877656,
         0.5046145919710397,
         0.5120752412825823,
         0.5144996348768472,
         0.5065855484455823,
         0.5129984769970178,
         0.5071840014308691,
         0.5095261663198472,
         0.5010143738240004,
         0.5075796131044626,
         0.5130528587847948,
         0.5056015655398369,
         0.5077229600399733,
         0.5019970837980509,
         0.5049316171556711,
         0.5129546482115984,
         0.5039404768496751,
         0.5080853547900915,
         0.5075120065361262,
         0.5124494832009077,
         0.5084412645548582,
         0.5062205046415329,
         0.508556566759944,
         0.509955083951354,
         0.4982469525188208,
         0.5093721132725477,
         0.5091450363397598,
         0.5085109673440457,
         0.5052619893103838,
         0.5084905091673135,
         0.5103308852761984,
         0.509341461583972,
         0.5158317480236292,
         0.5064220432192087,
         0.5103672686964273,
         0.5039146471768617,
         0.510007506608963,
         0.5150204803794622,
         0.5040718007832765,
         0.5086582850664854,
         0.5030759874731302,
         0.5097163867205381,
         0.5164884556084871,
         0.5040632028132677,
         0.5121821362525225,
         0.5027665298432111,
         0.4987559486180544,
         0.5079920489341021,
         0.5027112487703562,
         0.5127412036061287,
         0.5017989568412304,
         0.5121533468365669,
         0.5114014271646738,
         0.5083235826343298,
         0.4994298774749041,
         0.504833583906293,
         0.5092678386718035,
         0.51529272608459,
         0.5088778901845217,
         0.5099023234099149,
         0.5043699037283659,
         0.5138585705310106,
         0.5016738105565309,
         0.5040501579642296,
         0.5010291252285242,
         0.5162638608366251,
         0.5088527042418718,
         0.511374794319272,
         0.5080273259431124,
         0.5050570074468851,
         0.5067491445690393,
         0.5129850503057242,
         0.5090735647827387,
         0.5100965980440378,
         0.5105139505118131,
         0.511377802491188,
         0.5081562455743551,
         0.5121831651777029,
         0.5125694584101439,
         0.5084481474012137,
         0.5093491453677416,
         0.5070272412151098,
         0.5095852691680193,
         0.511969942972064,
         0.5141552235931158,
         0.5008636001497507,
         0.5054718624800444,
         0.5034496236592532,
         0.5046349789947271,
         0.5131400566548109,
         0.51116300560534,
         0.5094629157334566,
         0.5004511903971434,
         0.516624764725566
        ],
        [
         10.159564696252346,
         10.149965457618237,
         10.054589129984379,
         10.209217071533203,
         10.145086392760277,
         10.12117237597704,
         10.17222023755312,
         10.092291839420795,
         10.241504825651646,
         10.289992697536945,
         10.131710968911648,
         10.259969539940357,
         10.143680028617382,
         10.190523326396942,
         10.020287476480007,
         10.151592262089252,
         10.261057175695896,
         10.112031310796738,
         10.154459200799465,
         10.039941675961018,
         10.098632343113422,
         10.259092964231968,
         10.078809536993504,
         10.16170709580183,
         10.150240130722523,
         10.248989664018154,
         10.168825291097164,
         10.124410092830658,
         10.17113133519888,
         10.19910167902708,
         9.964939050376415,
         10.187442265450954,
         10.182900726795197,
         10.170219346880913,
         10.105239786207676,
         10.169810183346272,
         10.206617705523968,
         10.18682923167944,
         10.316634960472584,
         10.128440864384174,
         10.207345373928547,
         10.078292943537235,
         10.20015013217926,
         10.300409607589245,
         10.081436015665531,
         10.173165701329708,
         10.061519749462605,
         10.194327734410763,
         10.329769112169743,
         10.081264056265354,
         10.24364272505045,
         10.055330596864223,
         9.975118972361088,
         10.159840978682041,
         10.054224975407124,
         10.254824072122574,
         10.035979136824608,
         10.243066936731339,
         10.228028543293476,
         10.166471652686596,
         9.988597549498081,
         10.096671678125858,
         10.18535677343607,
         10.3058545216918,
         10.177557803690434,
         10.1980464681983,
         10.087398074567318,
         10.277171410620213,
         10.033476211130619,
         10.081003159284592,
         10.020582504570484,
         10.325277216732502,
         10.177054084837437,
         10.22749588638544,
         10.160546518862247,
         10.101140148937702,
         10.134982891380787,
         10.259701006114483,
         10.181471295654774,
         10.201931960880756,
         10.210279010236263,
         10.227556049823761,
         10.163124911487103,
         10.243663303554058,
         10.251389168202877,
         10.168962948024273,
         10.186982907354832,
         10.140544824302197,
         10.191705383360386,
         10.23939885944128,
         10.283104471862316,
         10.017272002995014,
         10.109437249600887,
         10.068992473185062,
         10.092699579894543,
         10.262801133096218,
         10.2232601121068,
         10.189258314669132,
         10.009023807942867,
         10.332495294511318
        ],
        [
         3.35746883587421,
         3.3541809154337265,
         3.341430745398687,
         3.359056422141274,
         3.359583792304834,
         3.351072584980993,
         3.3440154560623534,
         3.338225457924064,
         3.3606282411371557,
         3.376577475636106,
         3.3531939893484792,
         3.363545280042334,
         3.349085227605967,
         3.365039269647048,
         3.3351255886481677,
         3.352645036292084,
         3.3645933251242965,
         3.345016906894148,
         3.359622493454268,
         3.3486978101940017,
         3.3483897954451067,
         3.3631487030312845,
         3.3430113844940617,
         3.3509151460904487,
         3.361372676987265,
         3.3667724364663094,
         3.3620818117292584,
         3.3616264960116014,
         3.359130144551299,
         3.3579826372898856,
         3.3318011561368346,
         3.359791891387849,
         3.362448887676791,
         3.3678150008729566,
         3.346304475324748,
         3.3620135320940827,
         3.360487165841694,
         3.3627670876076987,
         3.38347916082152,
         3.355027158941049,
         3.3696280099082725,
         3.3471719091095804,
         3.3604976089932843,
         3.39364861295395,
         3.345447645401184,
         3.359687068642554,
         3.3421116238590716,
         3.357554201010049,
         3.3851526422139604,
         3.346577886811013,
         3.369537436157232,
         3.341880853021098,
         3.3265924683466706,
         3.351159875584653,
         3.3410679677010506,
         3.369717367287028,
         3.3334852980985974,
         3.366820353014048,
         3.3636969972538435,
         3.3766515242961503,
         3.3349977837114064,
         3.355724149054969,
         3.351811408710689,
         3.3812408112315033,
         3.3551320175074895,
         3.35774773576619,
         3.353815960163208,
         3.363868181029202,
         3.340993018242023,
         3.3455234652180246,
         3.331965072070166,
         3.3903231815446775,
         3.3647306098690883,
         3.3580024754506437,
         3.3614127425329423,
         3.358138959993005,
         3.3524519512967337,
         3.364856806685553,
         3.3701434060567625,
         3.369203240532759,
         3.3591879788939205,
         3.36148391537488,
         3.3595792762771386,
         3.3489087592962523,
         3.3559869683217123,
         3.347469476213914,
         3.3558429021478373,
         3.3446561542469873,
         3.361407780114097,
         3.3699045101898446,
         3.374603361757888,
         3.3358959934818175,
         3.340041930899068,
         3.3440246996110052,
         3.3409553457936245,
         3.362680746136459,
         3.3617615865730404,
         3.360012398139935,
         3.3313705814657313,
         3.3781760296962386
        ]
       ],
       "encoder": "json",
       "name": "ABC_GAN_4 Metrics",
       "version": 1
      }
     },
     "metadata": {
      "scrapbook": {
       "data": true,
       "display": false,
       "name": "ABC_GAN_4 Metrics"
      }
     },
     "output_type": "display_data"
    },
    {
     "name": "stdout",
     "output_type": "stream",
     "text": [
      "MAE\n",
      "0.508169174965471\n"
     ]
    }
   ],
   "source": [
    "ABC_GAN4_metrics=ABC_train_test2.test_generator(gen4,test_data,prior_model,variance,bias,\"3\",device)\n",
    "sb.glue(\"ABC_GAN_4 Metrics\",ABC_GAN4_metrics)\n",
    "\n",
    "print(\"MAE\")\n",
    "print(mean(ABC_GAN4_metrics[1]))"
   ]
  },
  {
   "cell_type": "code",
   "execution_count": 26,
   "id": "b85a9caa",
   "metadata": {
    "execution": {
     "iopub.execute_input": "2022-07-22T08:45:30.210393Z",
     "iopub.status.busy": "2022-07-22T08:45:30.208970Z",
     "iopub.status.idle": "2022-07-22T08:45:31.372364Z",
     "shell.execute_reply": "2022-07-22T08:45:31.371229Z"
    },
    "id": "c8e46b48",
    "papermill": {
     "duration": 1.195395,
     "end_time": "2022-07-22T08:45:31.375209",
     "exception": false,
     "start_time": "2022-07-22T08:45:30.179814",
     "status": "completed"
    },
    "tags": []
   },
   "outputs": [
    {
     "data": {
      "image/png": "[encoded data removed]",
      "text/plain": [
       "<Figure size 432x288 with 1 Axes>"
      ]
     },
     "metadata": {
      "needs_background": "light"
     },
     "output_type": "display_data"
    },
    {
     "data": {
      "image/png": "[encoded data removed]",
      "text/plain": [
       "<Figure size 432x288 with 1 Axes>"
      ]
     },
     "metadata": {
      "needs_background": "light"
     },
     "output_type": "display_data"
    },
    {
     "data": {
      "image/png": "[encoded data removed]",
      "text/plain": [
       "<Figure size 432x288 with 1 Axes>"
      ]
     },
     "metadata": {
      "needs_background": "light"
     },
     "output_type": "display_data"
    },
    {
     "data": {
      "image/png": "[encoded data removed]",
      "text/plain": [
       "<Figure size 432x288 with 1 Axes>"
      ]
     },
     "metadata": {
      "needs_background": "light"
     },
     "output_type": "display_data"
    }
   ],
   "source": [
    "sanityChecks.discProbVsError(train_data,disc4,device)\n",
    "sanityChecks.discProbVsError(test_data,disc4,device)"
   ]
  },
  {
   "cell_type": "markdown",
   "id": "a5bd74c3",
   "metadata": {
    "id": "a5bd74c3",
    "papermill": {
     "duration": 0.034757,
     "end_time": "2022-07-22T08:45:31.438201",
     "exception": false,
     "start_time": "2022-07-22T08:45:31.403444",
     "status": "completed"
    },
    "tags": []
   },
   "source": [
    "## Skip Connection Model Analysis - ABC-GAN "
   ]
  },
  {
   "cell_type": "markdown",
   "id": "5744a8bf",
   "metadata": {
    "id": "5744a8bf",
    "papermill": {
     "duration": 0.029,
     "end_time": "2022-07-22T08:45:31.495498",
     "exception": false,
     "start_time": "2022-07-22T08:45:31.466498",
     "status": "completed"
    },
    "tags": []
   },
   "source": [
    "### Weight Analysis \n",
    "\n",
    "Study the weights of the skip connection layer\n",
    "\n",
    "Equation of the skip connection is \n",
    "\n",
    "$output = y_{gan} * w + y_{abc} * (1-w)$"
   ]
  },
  {
   "cell_type": "code",
   "execution_count": 27,
   "id": "52c31dea",
   "metadata": {
    "execution": {
     "iopub.execute_input": "2022-07-22T08:45:31.558685Z",
     "iopub.status.busy": "2022-07-22T08:45:31.558059Z",
     "iopub.status.idle": "2022-07-22T08:45:31.562421Z",
     "shell.execute_reply": "2022-07-22T08:45:31.561379Z"
    },
    "id": "52c31dea",
    "papermill": {
     "duration": 0.037388,
     "end_time": "2022-07-22T08:45:31.565776",
     "exception": false,
     "start_time": "2022-07-22T08:45:31.528388",
     "status": "completed"
    },
    "tags": []
   },
   "outputs": [],
   "source": [
    "# print(\"Weight of the node at skip connection\")\n",
    "# for name,param in gen3.named_parameters():\n",
    "#     if(name == \"skipNode.weight\"):\n",
    "#         print(param)\n",
    "#         sb.glue(\"Skip Connection Weight\",param.item())"
   ]
  },
  {
   "cell_type": "markdown",
   "id": "4566a0da",
   "metadata": {
    "id": "a5bd74c3",
    "papermill": {
     "duration": 0.028406,
     "end_time": "2022-07-22T08:45:31.622540",
     "exception": false,
     "start_time": "2022-07-22T08:45:31.594134",
     "status": "completed"
    },
    "tags": []
   },
   "source": [
    "## skipGAN Model Analysis (TabNet Generator) "
   ]
  },
  {
   "cell_type": "markdown",
   "id": "9b6d6e6f",
   "metadata": {
    "id": "5744a8bf",
    "papermill": {
     "duration": 0.029027,
     "end_time": "2022-07-22T08:45:31.680570",
     "exception": false,
     "start_time": "2022-07-22T08:45:31.651543",
     "status": "completed"
    },
    "tags": []
   },
   "source": [
    "### Weight Analysis \n",
    "\n",
    "Study the weights of the skip connection layer\n",
    "\n",
    "Equation of the skip connection is \n",
    "\n",
    "$output = y_{gan} * w + y_{abc} * (1-w)$"
   ]
  },
  {
   "cell_type": "code",
   "execution_count": 28,
   "id": "9039ad07",
   "metadata": {
    "execution": {
     "iopub.execute_input": "2022-07-22T08:45:31.743697Z",
     "iopub.status.busy": "2022-07-22T08:45:31.742980Z",
     "iopub.status.idle": "2022-07-22T08:45:31.758217Z",
     "shell.execute_reply": "2022-07-22T08:45:31.757229Z"
    },
    "id": "52c31dea",
    "papermill": {
     "duration": 0.053544,
     "end_time": "2022-07-22T08:45:31.762428",
     "exception": false,
     "start_time": "2022-07-22T08:45:31.708884",
     "status": "completed"
    },
    "tags": []
   },
   "outputs": [
    {
     "name": "stdout",
     "output_type": "stream",
     "text": [
      "Weight of the node at skip connection\n",
      "Parameter containing:\n",
      "tensor([[0.1571]], requires_grad=True)\n"
     ]
    },
    {
     "data": {
      "application/scrapbook.scrap.json+json": {
       "data": 0.15712794661521912,
       "encoder": "json",
       "name": "Skip Connection Weight",
       "version": 1
      }
     },
     "metadata": {
      "scrapbook": {
       "data": true,
       "display": false,
       "name": "Skip Connection Weight"
      }
     },
     "output_type": "display_data"
    }
   ],
   "source": [
    "print(\"Weight of the node at skip connection\")\n",
    "for name,param in gen4.named_parameters():\n",
    "    if(name == \"skipNode.weight\"):\n",
    "        print(param)\n",
    "        sb.glue(\"Skip Connection Weight\",param.item())"
   ]
  }
 ],
 "metadata": {
  "colab": {
   "collapsed_sections": [],
   "name": "ABC_GAN_Model-Catboost_Pre-gen.ipynb",
   "provenance": []
  },
  "interpreter": {
   "hash": "31f2aee4e71d21fbe5cf8b01ff0e069b9275f58929596ceb00d14d90e3e16cd6"
  },
  "kernelspec": {
   "display_name": "Python 3 (ipykernel)",
   "language": "python",
   "name": "python3"
  },
  "language_info": {
   "codemirror_mode": {
    "name": "ipython",
    "version": 3
   },
   "file_extension": ".py",
   "mimetype": "text/x-python",
   "name": "python",
   "nbconvert_exporter": "python",
   "pygments_lexer": "ipython3",
   "version": "3.8.13"
  },
  "papermill": {
   "default_parameters": {},
   "duration": 404.554385,
   "end_time": "2022-07-22T08:45:32.844767",
   "environment_variables": {},
   "exception": null,
   "input_path": "ABC_GAN-TabNet.ipynb",
   "output_path": "./ABC_GAN_TabNet/ABC-GAN_output_1_5.ipynb",
   "parameters": {
    "bias": 0.1,
    "variance": 0.01
   },
   "start_time": "2022-07-22T08:38:48.290382",
   "version": "2.3.3"
  }
 },
 "nbformat": 4,
 "nbformat_minor": 5
}