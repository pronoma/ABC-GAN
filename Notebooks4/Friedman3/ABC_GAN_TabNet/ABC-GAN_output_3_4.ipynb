{
 "cells": [
  {
   "cell_type": "markdown",
   "id": "622780e6",
   "metadata": {
    "id": "622780e6",
    "papermill": {
     "duration": 0.009912,
     "end_time": "2022-07-22T11:51:44.755720",
     "exception": false,
     "start_time": "2022-07-22T11:51:44.745808",
     "status": "completed"
    },
    "tags": []
   },
   "source": [
    "## Import Libraries "
   ]
  },
  {
   "cell_type": "code",
   "execution_count": 1,
   "id": "a62397e3",
   "metadata": {
    "execution": {
     "iopub.execute_input": "2022-07-22T11:51:44.799256Z",
     "iopub.status.busy": "2022-07-22T11:51:44.797005Z",
     "iopub.status.idle": "2022-07-22T11:51:44.824552Z",
     "shell.execute_reply": "2022-07-22T11:51:44.817107Z"
    },
    "id": "a62397e3",
    "papermill": {
     "duration": 0.063815,
     "end_time": "2022-07-22T11:51:44.827860",
     "exception": false,
     "start_time": "2022-07-22T11:51:44.764045",
     "status": "completed"
    },
    "tags": []
   },
   "outputs": [],
   "source": [
    "import warnings\n",
    "import sys\n",
    "sys.path.insert(0, '../../src')\n",
    "warnings.filterwarnings('ignore')"
   ]
  },
  {
   "cell_type": "code",
   "execution_count": 2,
   "id": "d6a4e155",
   "metadata": {
    "execution": {
     "iopub.execute_input": "2022-07-22T11:51:44.848591Z",
     "iopub.status.busy": "2022-07-22T11:51:44.848044Z",
     "iopub.status.idle": "2022-07-22T11:51:53.044400Z",
     "shell.execute_reply": "2022-07-22T11:51:53.042623Z"
    },
    "id": "d6a4e155",
    "papermill": {
     "duration": 8.212449,
     "end_time": "2022-07-22T11:51:53.047487",
     "exception": false,
     "start_time": "2022-07-22T11:51:44.835038",
     "status": "completed"
    },
    "tags": []
   },
   "outputs": [],
   "source": [
    "import ABC_train_test2\n",
    "import friedman3Dataset\n",
    "import network\n",
    "import dataset\n",
    "import sanityChecks\n",
    "import torch \n",
    "import scrapbook as sb\n",
    "from statistics import mean \n",
    "import catboost as ctb \n",
    "from sklearn.model_selection import train_test_split\n",
    "from sklearn.metrics import mean_squared_error,mean_absolute_error\n",
    "import numpy as np\n",
    "from pytorch_tabnet.tab_model import TabNetRegressor"
   ]
  },
  {
   "cell_type": "markdown",
   "id": "2fa5b0f7",
   "metadata": {
    "id": "2fa5b0f7",
    "papermill": {
     "duration": 0.008171,
     "end_time": "2022-07-22T11:51:53.063828",
     "exception": false,
     "start_time": "2022-07-22T11:51:53.055657",
     "status": "completed"
    },
    "tags": []
   },
   "source": [
    "## Parameters "
   ]
  },
  {
   "cell_type": "code",
   "execution_count": 3,
   "id": "783186fb",
   "metadata": {
    "execution": {
     "iopub.execute_input": "2022-07-22T11:51:53.085072Z",
     "iopub.status.busy": "2022-07-22T11:51:53.084125Z",
     "iopub.status.idle": "2022-07-22T11:51:53.098947Z",
     "shell.execute_reply": "2022-07-22T11:51:53.096889Z"
    },
    "id": "783186fb",
    "papermill": {
     "duration": 0.034384,
     "end_time": "2022-07-22T11:51:53.105956",
     "exception": false,
     "start_time": "2022-07-22T11:51:53.071572",
     "status": "completed"
    },
    "tags": [
     "parameters"
    ]
   },
   "outputs": [],
   "source": [
    "variance = 1\n",
    "bias = 1 "
   ]
  },
  {
   "cell_type": "code",
   "execution_count": 4,
   "id": "5536f3c8",
   "metadata": {
    "execution": {
     "iopub.execute_input": "2022-07-22T11:51:53.125240Z",
     "iopub.status.busy": "2022-07-22T11:51:53.124679Z",
     "iopub.status.idle": "2022-07-22T11:51:53.132428Z",
     "shell.execute_reply": "2022-07-22T11:51:53.129194Z"
    },
    "papermill": {
     "duration": 0.031741,
     "end_time": "2022-07-22T11:51:53.146002",
     "exception": false,
     "start_time": "2022-07-22T11:51:53.114261",
     "status": "completed"
    },
    "tags": [
     "injected-parameters"
    ]
   },
   "outputs": [],
   "source": [
    "# Parameters\n",
    "variance = 0.1\n",
    "bias = 0.1\n"
   ]
  },
  {
   "cell_type": "markdown",
   "id": "391cdbfd",
   "metadata": {
    "id": "391cdbfd",
    "papermill": {
     "duration": 0.008453,
     "end_time": "2022-07-22T11:51:53.162307",
     "exception": false,
     "start_time": "2022-07-22T11:51:53.153854",
     "status": "completed"
    },
    "tags": []
   },
   "source": [
    "## Dataset \n"
   ]
  },
  {
   "cell_type": "code",
   "execution_count": 5,
   "id": "5b51f161",
   "metadata": {
    "execution": {
     "iopub.execute_input": "2022-07-22T11:51:53.191740Z",
     "iopub.status.busy": "2022-07-22T11:51:53.191145Z",
     "iopub.status.idle": "2022-07-22T11:51:53.198584Z",
     "shell.execute_reply": "2022-07-22T11:51:53.196624Z"
    },
    "id": "5b51f161",
    "papermill": {
     "duration": 0.03961,
     "end_time": "2022-07-22T11:51:53.212265",
     "exception": false,
     "start_time": "2022-07-22T11:51:53.172655",
     "status": "completed"
    },
    "tags": []
   },
   "outputs": [],
   "source": [
    "#Parameters \n",
    "n_features = 4\n",
    "n_samples= 100\n",
    "n_target = 1"
   ]
  },
  {
   "cell_type": "code",
   "execution_count": 6,
   "id": "5d6eced4",
   "metadata": {
    "execution": {
     "iopub.execute_input": "2022-07-22T11:51:53.235637Z",
     "iopub.status.busy": "2022-07-22T11:51:53.234813Z",
     "iopub.status.idle": "2022-07-22T11:51:53.263510Z",
     "shell.execute_reply": "2022-07-22T11:51:53.261562Z"
    },
    "id": "5d6eced4",
    "papermill": {
     "duration": 0.048425,
     "end_time": "2022-07-22T11:51:53.269557",
     "exception": false,
     "start_time": "2022-07-22T11:51:53.221132",
     "status": "completed"
    },
    "tags": []
   },
   "outputs": [
    {
     "name": "stdout",
     "output_type": "stream",
     "text": [
      "          X1           X2        X3        X4         Y\n",
      "0  89.979480  1454.388199  0.448031  7.762003  1.176258\n",
      "1   2.440989   669.393298  0.591009  2.595968  1.596031\n",
      "2  38.821848   941.733713  0.060783  9.216220  0.916467\n",
      "3  18.013918  1272.876988  0.268099  4.051269  1.469215\n",
      "4  70.799285  1506.643550  0.008826  5.458795  0.324815\n"
     ]
    }
   ],
   "source": [
    "X,Y = friedman3Dataset.friedman3_data(n_samples)"
   ]
  },
  {
   "cell_type": "code",
   "execution_count": 7,
   "id": "fe007438",
   "metadata": {
    "execution": {
     "iopub.execute_input": "2022-07-22T11:51:53.306535Z",
     "iopub.status.busy": "2022-07-22T11:51:53.305806Z",
     "iopub.status.idle": "2022-07-22T11:51:53.318195Z",
     "shell.execute_reply": "2022-07-22T11:51:53.315530Z"
    },
    "id": "fe007438",
    "papermill": {
     "duration": 0.040085,
     "end_time": "2022-07-22T11:51:53.332237",
     "exception": false,
     "start_time": "2022-07-22T11:51:53.292152",
     "status": "completed"
    },
    "tags": []
   },
   "outputs": [],
   "source": [
    "#Train test split for dataset \n",
    "X_train,X_test,Y_train,Y_test = train_test_split(X,Y,test_size = 0.2)\n",
    "train_data = dataset.CustomDataset(X_train,Y_train)\n",
    "test_data = dataset.CustomDataset(X_test,Y_test)\n"
   ]
  },
  {
   "cell_type": "markdown",
   "id": "a9a1af34",
   "metadata": {
    "id": "a9a1af34",
    "papermill": {
     "duration": 0.007572,
     "end_time": "2022-07-22T11:51:53.358447",
     "exception": false,
     "start_time": "2022-07-22T11:51:53.350875",
     "status": "completed"
    },
    "tags": []
   },
   "source": [
    "## Training Parameters "
   ]
  },
  {
   "cell_type": "code",
   "execution_count": 8,
   "id": "952b7fc8",
   "metadata": {
    "execution": {
     "iopub.execute_input": "2022-07-22T11:51:53.383130Z",
     "iopub.status.busy": "2022-07-22T11:51:53.382046Z",
     "iopub.status.idle": "2022-07-22T11:51:53.389509Z",
     "shell.execute_reply": "2022-07-22T11:51:53.388186Z"
    },
    "id": "952b7fc8",
    "papermill": {
     "duration": 0.021106,
     "end_time": "2022-07-22T11:51:53.392483",
     "exception": false,
     "start_time": "2022-07-22T11:51:53.371377",
     "status": "completed"
    },
    "tags": []
   },
   "outputs": [],
   "source": [
    "batch_size = 32\n",
    "n_epochs = 1000\n",
    "#Select the device \n",
    "device = torch.device('cuda' if torch.cuda.is_available() else 'cpu')"
   ]
  },
  {
   "cell_type": "markdown",
   "id": "a95e1600",
   "metadata": {
    "id": "a95e1600",
    "papermill": {
     "duration": 0.007848,
     "end_time": "2022-07-22T11:51:53.408964",
     "exception": false,
     "start_time": "2022-07-22T11:51:53.401116",
     "status": "completed"
    },
    "tags": []
   },
   "source": [
    "# ABC Pre-generator Model \n",
    "\n",
    "1. The catboost model is used as a pre-generator model for the ABC-GAN. \n",
    "2. The model is first trained on the entire dataset \n",
    "3. It generats X,Y pairs and we add some Gaussian noise with mean 0 and variance 1 to it which is then feed as input to the generator.\n"
   ]
  },
  {
   "cell_type": "code",
   "execution_count": 9,
   "id": "ac011ebf",
   "metadata": {
    "execution": {
     "iopub.execute_input": "2022-07-22T11:51:53.427910Z",
     "iopub.status.busy": "2022-07-22T11:51:53.427259Z",
     "iopub.status.idle": "2022-07-22T11:52:31.490168Z",
     "shell.execute_reply": "2022-07-22T11:52:31.486963Z"
    },
    "papermill": {
     "duration": 38.078053,
     "end_time": "2022-07-22T11:52:31.494844",
     "exception": false,
     "start_time": "2022-07-22T11:51:53.416791",
     "status": "completed"
    },
    "tags": []
   },
   "outputs": [
    {
     "name": "stdout",
     "output_type": "stream",
     "text": [
      "Device used : cpu\n"
     ]
    },
    {
     "name": "stdout",
     "output_type": "stream",
     "text": [
      "epoch 0  | loss: 1.34684 | train_mse: 5.143   | train_mae: 1.74747 |  0:00:00s\n",
      "epoch 1  | loss: 1.1295  | train_mse: 3.82114 | train_mae: 1.54411 |  0:00:00s\n",
      "epoch 2  | loss: 1.10329 | train_mse: 3.16973 | train_mae: 1.43867 |  0:00:00s\n"
     ]
    },
    {
     "name": "stdout",
     "output_type": "stream",
     "text": [
      "epoch 3  | loss: 0.92973 | train_mse: 2.71913 | train_mae: 1.31926 |  0:00:00s\n",
      "epoch 4  | loss: 0.92162 | train_mse: 2.24186 | train_mae: 1.19485 |  0:00:00s\n",
      "epoch 5  | loss: 1.13277 | train_mse: 1.82215 | train_mae: 1.08932 |  0:00:00s\n"
     ]
    },
    {
     "name": "stdout",
     "output_type": "stream",
     "text": [
      "epoch 6  | loss: 0.80151 | train_mse: 1.559   | train_mae: 1.00656 |  0:00:00s\n",
      "epoch 7  | loss: 0.82213 | train_mse: 1.42839 | train_mae: 0.95212 |  0:00:00s\n",
      "epoch 8  | loss: 0.91141 | train_mse: 1.31489 | train_mae: 0.90794 |  0:00:01s\n"
     ]
    },
    {
     "name": "stdout",
     "output_type": "stream",
     "text": [
      "epoch 9  | loss: 0.81837 | train_mse: 1.18666 | train_mae: 0.84986 |  0:00:01s\n",
      "epoch 10 | loss: 0.80547 | train_mse: 1.11549 | train_mae: 0.83032 |  0:00:01s\n",
      "epoch 11 | loss: 0.73147 | train_mse: 1.06859 | train_mae: 0.81323 |  0:00:01s\n"
     ]
    },
    {
     "name": "stdout",
     "output_type": "stream",
     "text": [
      "epoch 12 | loss: 0.79189 | train_mse: 1.06624 | train_mae: 0.80449 |  0:00:01s\n",
      "epoch 13 | loss: 0.80253 | train_mse: 0.94071 | train_mae: 0.75033 |  0:00:01s\n",
      "epoch 14 | loss: 0.73245 | train_mse: 0.90221 | train_mae: 0.73747 |  0:00:01s\n"
     ]
    },
    {
     "name": "stdout",
     "output_type": "stream",
     "text": [
      "epoch 15 | loss: 0.71602 | train_mse: 0.84648 | train_mae: 0.7152  |  0:00:01s\n",
      "epoch 16 | loss: 0.71849 | train_mse: 0.80227 | train_mae: 0.69748 |  0:00:01s\n"
     ]
    },
    {
     "name": "stdout",
     "output_type": "stream",
     "text": [
      "epoch 17 | loss: 0.71796 | train_mse: 0.7606  | train_mae: 0.68071 |  0:00:01s\n",
      "epoch 18 | loss: 0.62998 | train_mse: 0.74862 | train_mae: 0.67425 |  0:00:02s\n",
      "epoch 19 | loss: 0.68838 | train_mse: 0.71315 | train_mae: 0.65792 |  0:00:02s\n"
     ]
    },
    {
     "name": "stdout",
     "output_type": "stream",
     "text": [
      "epoch 20 | loss: 0.7568  | train_mse: 0.68548 | train_mae: 0.64231 |  0:00:02s\n",
      "epoch 21 | loss: 0.60193 | train_mse: 0.6605  | train_mae: 0.63113 |  0:00:02s\n",
      "epoch 22 | loss: 0.74009 | train_mse: 0.63822 | train_mae: 0.61892 |  0:00:02s\n"
     ]
    },
    {
     "name": "stdout",
     "output_type": "stream",
     "text": [
      "epoch 23 | loss: 0.54901 | train_mse: 0.61943 | train_mae: 0.60783 |  0:00:02s\n",
      "epoch 24 | loss: 0.60818 | train_mse: 0.60354 | train_mae: 0.59894 |  0:00:02s\n",
      "epoch 25 | loss: 0.55765 | train_mse: 0.58956 | train_mae: 0.59398 |  0:00:02s\n"
     ]
    },
    {
     "name": "stdout",
     "output_type": "stream",
     "text": [
      "epoch 26 | loss: 0.5561  | train_mse: 0.5697  | train_mae: 0.58639 |  0:00:02s\n",
      "epoch 27 | loss: 0.50233 | train_mse: 0.56169 | train_mae: 0.58343 |  0:00:02s\n"
     ]
    },
    {
     "name": "stdout",
     "output_type": "stream",
     "text": [
      "epoch 28 | loss: 0.68916 | train_mse: 0.54147 | train_mae: 0.57174 |  0:00:02s\n",
      "epoch 29 | loss: 0.52921 | train_mse: 0.5239  | train_mae: 0.56028 |  0:00:03s\n",
      "epoch 30 | loss: 0.47673 | train_mse: 0.50942 | train_mae: 0.54746 |  0:00:03s\n"
     ]
    },
    {
     "name": "stdout",
     "output_type": "stream",
     "text": [
      "epoch 31 | loss: 0.86578 | train_mse: 0.50149 | train_mae: 0.5373  |  0:00:03s\n",
      "epoch 32 | loss: 0.51932 | train_mse: 0.49001 | train_mae: 0.53106 |  0:00:03s\n",
      "epoch 33 | loss: 0.45498 | train_mse: 0.46738 | train_mae: 0.51675 |  0:00:03s\n"
     ]
    },
    {
     "name": "stdout",
     "output_type": "stream",
     "text": [
      "epoch 34 | loss: 0.59663 | train_mse: 0.43741 | train_mae: 0.49721 |  0:00:03s\n",
      "epoch 35 | loss: 0.59574 | train_mse: 0.42643 | train_mae: 0.4857  |  0:00:03s\n",
      "epoch 36 | loss: 0.49058 | train_mse: 0.42574 | train_mae: 0.48098 |  0:00:03s\n"
     ]
    },
    {
     "name": "stdout",
     "output_type": "stream",
     "text": [
      "epoch 37 | loss: 0.61219 | train_mse: 0.41603 | train_mae: 0.4737  |  0:00:03s\n",
      "epoch 38 | loss: 0.51504 | train_mse: 0.40407 | train_mae: 0.46721 |  0:00:03s\n",
      "epoch 39 | loss: 0.45116 | train_mse: 0.38818 | train_mae: 0.45519 |  0:00:03s\n"
     ]
    },
    {
     "name": "stdout",
     "output_type": "stream",
     "text": [
      "epoch 40 | loss: 0.43239 | train_mse: 0.37005 | train_mae: 0.44471 |  0:00:04s\n",
      "epoch 41 | loss: 0.48773 | train_mse: 0.35806 | train_mae: 0.44148 |  0:00:04s\n",
      "epoch 42 | loss: 0.3297  | train_mse: 0.34085 | train_mae: 0.43464 |  0:00:04s\n"
     ]
    },
    {
     "name": "stdout",
     "output_type": "stream",
     "text": [
      "epoch 43 | loss: 0.38025 | train_mse: 0.33285 | train_mae: 0.43048 |  0:00:04s\n",
      "epoch 44 | loss: 0.40978 | train_mse: 0.32321 | train_mae: 0.42189 |  0:00:04s\n"
     ]
    },
    {
     "name": "stdout",
     "output_type": "stream",
     "text": [
      "epoch 45 | loss: 0.36356 | train_mse: 0.31057 | train_mae: 0.41503 |  0:00:04s\n",
      "epoch 46 | loss: 0.40633 | train_mse: 0.30181 | train_mae: 0.41118 |  0:00:04s\n"
     ]
    },
    {
     "name": "stdout",
     "output_type": "stream",
     "text": [
      "epoch 47 | loss: 0.40024 | train_mse: 0.29156 | train_mae: 0.40413 |  0:00:04s\n",
      "epoch 48 | loss: 0.44573 | train_mse: 0.2773  | train_mae: 0.39623 |  0:00:05s\n"
     ]
    },
    {
     "name": "stdout",
     "output_type": "stream",
     "text": [
      "epoch 49 | loss: 0.32517 | train_mse: 0.26378 | train_mae: 0.38936 |  0:00:05s\n",
      "epoch 50 | loss: 0.35802 | train_mse: 0.24671 | train_mae: 0.38174 |  0:00:05s\n"
     ]
    },
    {
     "name": "stdout",
     "output_type": "stream",
     "text": [
      "epoch 51 | loss: 0.38582 | train_mse: 0.2352  | train_mae: 0.37468 |  0:00:05s\n",
      "epoch 52 | loss: 0.26421 | train_mse: 0.23432 | train_mae: 0.37498 |  0:00:05s\n"
     ]
    },
    {
     "name": "stdout",
     "output_type": "stream",
     "text": [
      "epoch 53 | loss: 0.27687 | train_mse: 0.23473 | train_mae: 0.37121 |  0:00:05s\n",
      "epoch 54 | loss: 0.35526 | train_mse: 0.22757 | train_mae: 0.36442 |  0:00:05s\n"
     ]
    },
    {
     "name": "stdout",
     "output_type": "stream",
     "text": [
      "epoch 55 | loss: 0.31546 | train_mse: 0.21914 | train_mae: 0.3597  |  0:00:05s\n",
      "epoch 56 | loss: 0.39503 | train_mse: 0.21301 | train_mae: 0.35713 |  0:00:06s\n"
     ]
    },
    {
     "name": "stdout",
     "output_type": "stream",
     "text": [
      "epoch 57 | loss: 0.53653 | train_mse: 0.20892 | train_mae: 0.35406 |  0:00:06s\n",
      "epoch 58 | loss: 0.37987 | train_mse: 0.20326 | train_mae: 0.34861 |  0:00:06s\n"
     ]
    },
    {
     "name": "stdout",
     "output_type": "stream",
     "text": [
      "epoch 59 | loss: 0.3519  | train_mse: 0.21202 | train_mae: 0.35712 |  0:00:06s\n",
      "epoch 60 | loss: 0.62944 | train_mse: 0.19739 | train_mae: 0.34694 |  0:00:06s\n"
     ]
    },
    {
     "name": "stdout",
     "output_type": "stream",
     "text": [
      "epoch 61 | loss: 0.4354  | train_mse: 0.19627 | train_mae: 0.34308 |  0:00:06s\n",
      "epoch 62 | loss: 0.32421 | train_mse: 0.19708 | train_mae: 0.34344 |  0:00:06s\n"
     ]
    },
    {
     "name": "stdout",
     "output_type": "stream",
     "text": [
      "epoch 63 | loss: 0.33836 | train_mse: 0.20561 | train_mae: 0.34723 |  0:00:07s\n",
      "epoch 64 | loss: 0.37304 | train_mse: 0.20364 | train_mae: 0.34521 |  0:00:07s\n"
     ]
    },
    {
     "name": "stdout",
     "output_type": "stream",
     "text": [
      "epoch 65 | loss: 0.60384 | train_mse: 0.1996  | train_mae: 0.34108 |  0:00:07s\n",
      "epoch 66 | loss: 0.3791  | train_mse: 0.19129 | train_mae: 0.33533 |  0:00:07s\n"
     ]
    },
    {
     "name": "stdout",
     "output_type": "stream",
     "text": [
      "epoch 67 | loss: 0.32933 | train_mse: 0.19412 | train_mae: 0.3359  |  0:00:07s\n",
      "epoch 68 | loss: 0.47726 | train_mse: 0.19361 | train_mae: 0.33321 |  0:00:07s\n"
     ]
    },
    {
     "name": "stdout",
     "output_type": "stream",
     "text": [
      "epoch 69 | loss: 0.24343 | train_mse: 0.19738 | train_mae: 0.33643 |  0:00:07s\n",
      "epoch 70 | loss: 0.33815 | train_mse: 0.20223 | train_mae: 0.33963 |  0:00:07s\n"
     ]
    },
    {
     "name": "stdout",
     "output_type": "stream",
     "text": [
      "epoch 71 | loss: 0.39852 | train_mse: 0.20063 | train_mae: 0.3375  |  0:00:07s\n",
      "epoch 72 | loss: 0.23779 | train_mse: 0.19208 | train_mae: 0.33234 |  0:00:08s\n"
     ]
    },
    {
     "name": "stdout",
     "output_type": "stream",
     "text": [
      "epoch 73 | loss: 0.42146 | train_mse: 0.18741 | train_mae: 0.3306  |  0:00:08s\n",
      "epoch 74 | loss: 0.37659 | train_mse: 0.18304 | train_mae: 0.33267 |  0:00:08s\n",
      "epoch 75 | loss: 0.31776 | train_mse: 0.1841  | train_mae: 0.3368  |  0:00:08s\n"
     ]
    },
    {
     "name": "stdout",
     "output_type": "stream",
     "text": [
      "epoch 76 | loss: 0.27906 | train_mse: 0.18206 | train_mae: 0.33207 |  0:00:08s\n",
      "epoch 77 | loss: 0.25666 | train_mse: 0.18484 | train_mae: 0.33249 |  0:00:08s\n",
      "epoch 78 | loss: 0.3724  | train_mse: 0.19711 | train_mae: 0.33912 |  0:00:08s\n"
     ]
    },
    {
     "name": "stdout",
     "output_type": "stream",
     "text": [
      "epoch 79 | loss: 0.57023 | train_mse: 0.21213 | train_mae: 0.34515 |  0:00:08s\n",
      "epoch 80 | loss: 0.34969 | train_mse: 0.2265  | train_mae: 0.3537  |  0:00:08s\n",
      "epoch 81 | loss: 0.2529  | train_mse: 0.23029 | train_mae: 0.35539 |  0:00:08s\n"
     ]
    },
    {
     "name": "stdout",
     "output_type": "stream",
     "text": [
      "epoch 82 | loss: 0.64564 | train_mse: 0.23887 | train_mae: 0.35583 |  0:00:09s\n",
      "epoch 83 | loss: 0.3592  | train_mse: 0.23369 | train_mae: 0.35437 |  0:00:09s\n",
      "epoch 84 | loss: 0.31226 | train_mse: 0.22458 | train_mae: 0.34507 |  0:00:09s\n"
     ]
    },
    {
     "name": "stdout",
     "output_type": "stream",
     "text": [
      "epoch 85 | loss: 0.3957  | train_mse: 0.21895 | train_mae: 0.34504 |  0:00:09s\n",
      "epoch 86 | loss: 0.31333 | train_mse: 0.21117 | train_mae: 0.3438  |  0:00:09s\n",
      "epoch 87 | loss: 0.29692 | train_mse: 0.20888 | train_mae: 0.34833 |  0:00:09s\n"
     ]
    },
    {
     "name": "stdout",
     "output_type": "stream",
     "text": [
      "epoch 88 | loss: 0.2768  | train_mse: 0.20864 | train_mae: 0.34736 |  0:00:09s\n",
      "epoch 89 | loss: 0.236   | train_mse: 0.20979 | train_mae: 0.34756 |  0:00:09s\n",
      "epoch 90 | loss: 0.31976 | train_mse: 0.20341 | train_mae: 0.34567 |  0:00:09s\n"
     ]
    },
    {
     "name": "stdout",
     "output_type": "stream",
     "text": [
      "epoch 91 | loss: 0.42761 | train_mse: 0.21069 | train_mae: 0.35143 |  0:00:09s\n",
      "epoch 92 | loss: 0.3505  | train_mse: 0.20948 | train_mae: 0.35288 |  0:00:09s\n",
      "epoch 93 | loss: 0.44931 | train_mse: 0.19913 | train_mae: 0.34477 |  0:00:09s\n"
     ]
    },
    {
     "name": "stdout",
     "output_type": "stream",
     "text": [
      "epoch 94 | loss: 0.33576 | train_mse: 0.21947 | train_mae: 0.34845 |  0:00:10s\n",
      "epoch 95 | loss: 0.33305 | train_mse: 0.21882 | train_mae: 0.35071 |  0:00:10s\n",
      "epoch 96 | loss: 0.17313 | train_mse: 0.20907 | train_mae: 0.34725 |  0:00:10s\n"
     ]
    },
    {
     "name": "stdout",
     "output_type": "stream",
     "text": [
      "epoch 97 | loss: 0.33774 | train_mse: 0.20261 | train_mae: 0.34212 |  0:00:10s\n",
      "epoch 98 | loss: 0.35177 | train_mse: 0.201   | train_mae: 0.33955 |  0:00:10s\n",
      "epoch 99 | loss: 0.39189 | train_mse: 0.19813 | train_mae: 0.33617 |  0:00:10s\n"
     ]
    },
    {
     "name": "stdout",
     "output_type": "stream",
     "text": [
      "epoch 100| loss: 0.56491 | train_mse: 0.19528 | train_mae: 0.33279 |  0:00:10s\n",
      "epoch 101| loss: 0.45889 | train_mse: 0.19693 | train_mae: 0.33384 |  0:00:10s\n",
      "epoch 102| loss: 0.3699  | train_mse: 0.19645 | train_mae: 0.33346 |  0:00:10s\n"
     ]
    },
    {
     "name": "stdout",
     "output_type": "stream",
     "text": [
      "epoch 103| loss: 0.23936 | train_mse: 0.19718 | train_mae: 0.33239 |  0:00:10s\n",
      "epoch 104| loss: 0.27532 | train_mse: 0.19104 | train_mae: 0.32764 |  0:00:10s\n",
      "epoch 105| loss: 0.26857 | train_mse: 0.18743 | train_mae: 0.32829 |  0:00:10s\n"
     ]
    },
    {
     "name": "stdout",
     "output_type": "stream",
     "text": [
      "epoch 106| loss: 0.27248 | train_mse: 0.18752 | train_mae: 0.33049 |  0:00:11s\n",
      "epoch 107| loss: 0.29125 | train_mse: 0.2647  | train_mae: 0.35111 |  0:00:11s\n",
      "epoch 108| loss: 0.43233 | train_mse: 0.2675  | train_mae: 0.34911 |  0:00:11s\n"
     ]
    },
    {
     "name": "stdout",
     "output_type": "stream",
     "text": [
      "epoch 109| loss: 0.35534 | train_mse: 0.20123 | train_mae: 0.32265 |  0:00:11s\n",
      "epoch 110| loss: 0.41563 | train_mse: 0.16634 | train_mae: 0.31241 |  0:00:11s\n",
      "epoch 111| loss: 0.27103 | train_mse: 0.17163 | train_mae: 0.31561 |  0:00:11s\n"
     ]
    },
    {
     "name": "stdout",
     "output_type": "stream",
     "text": [
      "epoch 112| loss: 0.28455 | train_mse: 0.20817 | train_mae: 0.32613 |  0:00:11s\n",
      "epoch 113| loss: 0.39706 | train_mse: 0.21933 | train_mae: 0.32306 |  0:00:11s\n",
      "epoch 114| loss: 0.40736 | train_mse: 0.23003 | train_mae: 0.33292 |  0:00:11s\n"
     ]
    },
    {
     "name": "stdout",
     "output_type": "stream",
     "text": [
      "epoch 115| loss: 0.46246 | train_mse: 0.23153 | train_mae: 0.33616 |  0:00:11s\n",
      "epoch 116| loss: 0.3229  | train_mse: 0.222   | train_mae: 0.33397 |  0:00:11s\n",
      "epoch 117| loss: 0.33788 | train_mse: 0.22137 | train_mae: 0.33407 |  0:00:12s\n"
     ]
    },
    {
     "name": "stdout",
     "output_type": "stream",
     "text": [
      "epoch 118| loss: 0.35639 | train_mse: 0.21627 | train_mae: 0.32738 |  0:00:12s\n",
      "epoch 119| loss: 0.38852 | train_mse: 0.2208  | train_mae: 0.3343  |  0:00:12s\n",
      "epoch 120| loss: 0.26867 | train_mse: 0.2156  | train_mae: 0.33381 |  0:00:12s\n"
     ]
    },
    {
     "name": "stdout",
     "output_type": "stream",
     "text": [
      "epoch 121| loss: 0.2978  | train_mse: 0.21554 | train_mae: 0.33409 |  0:00:12s\n",
      "epoch 122| loss: 0.3627  | train_mse: 0.21298 | train_mae: 0.33255 |  0:00:12s\n",
      "epoch 123| loss: 0.43912 | train_mse: 0.20389 | train_mae: 0.32499 |  0:00:12s\n"
     ]
    },
    {
     "name": "stdout",
     "output_type": "stream",
     "text": [
      "epoch 124| loss: 0.34324 | train_mse: 0.16551 | train_mae: 0.30629 |  0:00:12s\n",
      "epoch 125| loss: 0.39893 | train_mse: 0.1484  | train_mae: 0.29518 |  0:00:12s\n",
      "epoch 126| loss: 0.2088  | train_mse: 0.14956 | train_mae: 0.29712 |  0:00:12s\n"
     ]
    },
    {
     "name": "stdout",
     "output_type": "stream",
     "text": [
      "epoch 127| loss: 0.39934 | train_mse: 0.15229 | train_mae: 0.29969 |  0:00:12s\n",
      "epoch 128| loss: 0.37038 | train_mse: 0.15228 | train_mae: 0.30118 |  0:00:12s\n",
      "epoch 129| loss: 0.3061  | train_mse: 0.15267 | train_mae: 0.30218 |  0:00:13s\n"
     ]
    },
    {
     "name": "stdout",
     "output_type": "stream",
     "text": [
      "epoch 130| loss: 0.26121 | train_mse: 0.15479 | train_mae: 0.30276 |  0:00:13s\n",
      "epoch 131| loss: 0.39579 | train_mse: 0.18285 | train_mae: 0.31191 |  0:00:13s\n",
      "epoch 132| loss: 0.24886 | train_mse: 0.1663  | train_mae: 0.30419 |  0:00:13s\n"
     ]
    },
    {
     "name": "stdout",
     "output_type": "stream",
     "text": [
      "epoch 133| loss: 0.42159 | train_mse: 0.16966 | train_mae: 0.30685 |  0:00:13s\n",
      "epoch 134| loss: 0.24776 | train_mse: 0.16131 | train_mae: 0.30258 |  0:00:13s\n",
      "epoch 135| loss: 0.32861 | train_mse: 0.15533 | train_mae: 0.30432 |  0:00:13s\n"
     ]
    },
    {
     "name": "stdout",
     "output_type": "stream",
     "text": [
      "epoch 136| loss: 0.29209 | train_mse: 0.14721 | train_mae: 0.29714 |  0:00:13s\n",
      "epoch 137| loss: 0.30599 | train_mse: 0.14588 | train_mae: 0.29335 |  0:00:13s\n",
      "epoch 138| loss: 0.54123 | train_mse: 0.15467 | train_mae: 0.30301 |  0:00:13s\n"
     ]
    },
    {
     "name": "stdout",
     "output_type": "stream",
     "text": [
      "epoch 139| loss: 0.39533 | train_mse: 0.15977 | train_mae: 0.30922 |  0:00:13s\n",
      "epoch 140| loss: 0.25017 | train_mse: 0.16144 | train_mae: 0.31008 |  0:00:13s\n",
      "epoch 141| loss: 0.30302 | train_mse: 0.16005 | train_mae: 0.3094  |  0:00:14s\n"
     ]
    },
    {
     "name": "stdout",
     "output_type": "stream",
     "text": [
      "epoch 142| loss: 0.24225 | train_mse: 0.15943 | train_mae: 0.31125 |  0:00:14s\n",
      "epoch 143| loss: 0.32175 | train_mse: 0.16495 | train_mae: 0.31213 |  0:00:14s\n",
      "epoch 144| loss: 0.19516 | train_mse: 0.16461 | train_mae: 0.31059 |  0:00:14s\n"
     ]
    },
    {
     "name": "stdout",
     "output_type": "stream",
     "text": [
      "epoch 145| loss: 0.20105 | train_mse: 0.15455 | train_mae: 0.30016 |  0:00:14s\n",
      "epoch 146| loss: 0.30219 | train_mse: 0.15116 | train_mae: 0.2913  |  0:00:14s\n",
      "epoch 147| loss: 0.20922 | train_mse: 0.14939 | train_mae: 0.28762 |  0:00:14s\n"
     ]
    },
    {
     "name": "stdout",
     "output_type": "stream",
     "text": [
      "epoch 148| loss: 0.32267 | train_mse: 0.1459  | train_mae: 0.27928 |  0:00:14s\n",
      "epoch 149| loss: 0.34401 | train_mse: 0.14343 | train_mae: 0.28428 |  0:00:14s\n",
      "epoch 150| loss: 0.51759 | train_mse: 0.14072 | train_mae: 0.28073 |  0:00:14s\n"
     ]
    },
    {
     "name": "stdout",
     "output_type": "stream",
     "text": [
      "epoch 151| loss: 0.33678 | train_mse: 0.15643 | train_mae: 0.28422 |  0:00:14s\n",
      "epoch 152| loss: 0.54072 | train_mse: 0.15518 | train_mae: 0.28364 |  0:00:15s\n",
      "epoch 153| loss: 0.28417 | train_mse: 0.15584 | train_mae: 0.28679 |  0:00:15s\n"
     ]
    },
    {
     "name": "stdout",
     "output_type": "stream",
     "text": [
      "epoch 154| loss: 0.34015 | train_mse: 0.14018 | train_mae: 0.27634 |  0:00:15s\n",
      "epoch 155| loss: 0.28357 | train_mse: 0.1412  | train_mae: 0.276   |  0:00:15s\n",
      "epoch 156| loss: 0.28355 | train_mse: 0.13914 | train_mae: 0.27248 |  0:00:15s\n"
     ]
    },
    {
     "name": "stdout",
     "output_type": "stream",
     "text": [
      "epoch 157| loss: 0.31736 | train_mse: 0.143   | train_mae: 0.27072 |  0:00:15s\n",
      "epoch 158| loss: 0.40752 | train_mse: 0.14547 | train_mae: 0.27299 |  0:00:15s\n",
      "epoch 159| loss: 0.22498 | train_mse: 0.14099 | train_mae: 0.27167 |  0:00:15s\n"
     ]
    },
    {
     "name": "stdout",
     "output_type": "stream",
     "text": [
      "epoch 160| loss: 0.22601 | train_mse: 0.1389  | train_mae: 0.27469 |  0:00:15s\n",
      "epoch 161| loss: 0.28835 | train_mse: 0.14068 | train_mae: 0.2779  |  0:00:15s\n",
      "epoch 162| loss: 0.23476 | train_mse: 0.14552 | train_mae: 0.28049 |  0:00:15s\n"
     ]
    },
    {
     "name": "stdout",
     "output_type": "stream",
     "text": [
      "epoch 163| loss: 0.2799  | train_mse: 0.14689 | train_mae: 0.28558 |  0:00:16s\n",
      "epoch 164| loss: 0.25457 | train_mse: 0.16068 | train_mae: 0.29902 |  0:00:16s\n",
      "epoch 165| loss: 0.27533 | train_mse: 0.16759 | train_mae: 0.30609 |  0:00:16s\n"
     ]
    },
    {
     "name": "stdout",
     "output_type": "stream",
     "text": [
      "epoch 166| loss: 0.1871  | train_mse: 0.16867 | train_mae: 0.30507 |  0:00:16s\n",
      "epoch 167| loss: 0.3401  | train_mse: 0.16706 | train_mae: 0.30404 |  0:00:16s\n",
      "epoch 168| loss: 0.44735 | train_mse: 0.16384 | train_mae: 0.30255 |  0:00:16s\n"
     ]
    },
    {
     "name": "stdout",
     "output_type": "stream",
     "text": [
      "epoch 169| loss: 0.4567  | train_mse: 0.16192 | train_mae: 0.30145 |  0:00:16s\n",
      "epoch 170| loss: 0.19685 | train_mse: 0.15711 | train_mae: 0.29871 |  0:00:16s\n",
      "epoch 171| loss: 0.30569 | train_mse: 0.15468 | train_mae: 0.29704 |  0:00:16s\n"
     ]
    },
    {
     "name": "stdout",
     "output_type": "stream",
     "text": [
      "epoch 172| loss: 0.28605 | train_mse: 0.15732 | train_mae: 0.3005  |  0:00:16s\n",
      "epoch 173| loss: 0.33634 | train_mse: 0.15642 | train_mae: 0.30343 |  0:00:16s\n",
      "epoch 174| loss: 0.41438 | train_mse: 0.15566 | train_mae: 0.30461 |  0:00:16s\n"
     ]
    },
    {
     "name": "stdout",
     "output_type": "stream",
     "text": [
      "epoch 175| loss: 0.46217 | train_mse: 0.1531  | train_mae: 0.30355 |  0:00:17s\n",
      "epoch 176| loss: 0.33147 | train_mse: 0.15109 | train_mae: 0.30234 |  0:00:17s\n",
      "epoch 177| loss: 0.31231 | train_mse: 0.14801 | train_mae: 0.29997 |  0:00:17s\n"
     ]
    },
    {
     "name": "stdout",
     "output_type": "stream",
     "text": [
      "epoch 178| loss: 0.26416 | train_mse: 0.14257 | train_mae: 0.29337 |  0:00:17s\n",
      "epoch 179| loss: 0.28313 | train_mse: 0.13617 | train_mae: 0.28658 |  0:00:17s\n"
     ]
    },
    {
     "name": "stdout",
     "output_type": "stream",
     "text": [
      "epoch 180| loss: 0.38653 | train_mse: 0.13358 | train_mae: 0.28205 |  0:00:17s\n",
      "epoch 181| loss: 0.31635 | train_mse: 0.13391 | train_mae: 0.2797  |  0:00:17s\n"
     ]
    },
    {
     "name": "stdout",
     "output_type": "stream",
     "text": [
      "epoch 182| loss: 0.27846 | train_mse: 0.13364 | train_mae: 0.27763 |  0:00:17s\n",
      "epoch 183| loss: 0.23835 | train_mse: 0.1328  | train_mae: 0.27631 |  0:00:17s\n",
      "epoch 184| loss: 0.21204 | train_mse: 0.13262 | train_mae: 0.27627 |  0:00:17s\n"
     ]
    },
    {
     "name": "stdout",
     "output_type": "stream",
     "text": [
      "epoch 185| loss: 0.33127 | train_mse: 0.13435 | train_mae: 0.2792  |  0:00:18s\n",
      "epoch 186| loss: 0.33192 | train_mse: 0.13263 | train_mae: 0.2794  |  0:00:18s\n",
      "epoch 187| loss: 0.2205  | train_mse: 0.13331 | train_mae: 0.28212 |  0:00:18s\n"
     ]
    },
    {
     "name": "stdout",
     "output_type": "stream",
     "text": [
      "epoch 188| loss: 0.20944 | train_mse: 0.13158 | train_mae: 0.28241 |  0:00:18s\n",
      "epoch 189| loss: 0.32504 | train_mse: 0.12904 | train_mae: 0.28087 |  0:00:18s\n",
      "epoch 190| loss: 0.29064 | train_mse: 0.12899 | train_mae: 0.27977 |  0:00:18s\n"
     ]
    },
    {
     "name": "stdout",
     "output_type": "stream",
     "text": [
      "epoch 191| loss: 0.20965 | train_mse: 0.13172 | train_mae: 0.28008 |  0:00:18s\n",
      "epoch 192| loss: 0.24796 | train_mse: 0.14267 | train_mae: 0.28257 |  0:00:18s\n",
      "epoch 193| loss: 0.24136 | train_mse: 0.14474 | train_mae: 0.28081 |  0:00:18s\n"
     ]
    },
    {
     "name": "stdout",
     "output_type": "stream",
     "text": [
      "epoch 194| loss: 0.2642  | train_mse: 0.1443  | train_mae: 0.27691 |  0:00:18s\n",
      "epoch 195| loss: 0.24227 | train_mse: 0.12874 | train_mae: 0.26743 |  0:00:18s\n",
      "epoch 196| loss: 0.24277 | train_mse: 0.11783 | train_mae: 0.25956 |  0:00:19s\n"
     ]
    },
    {
     "name": "stdout",
     "output_type": "stream",
     "text": [
      "epoch 197| loss: 0.25337 | train_mse: 0.10959 | train_mae: 0.25308 |  0:00:19s\n",
      "epoch 198| loss: 0.23178 | train_mse: 0.10774 | train_mae: 0.25272 |  0:00:19s\n"
     ]
    },
    {
     "name": "stdout",
     "output_type": "stream",
     "text": [
      "epoch 199| loss: 0.3661  | train_mse: 0.11344 | train_mae: 0.25839 |  0:00:19s\n",
      "epoch 200| loss: 0.18068 | train_mse: 0.11554 | train_mae: 0.26083 |  0:00:19s\n",
      "epoch 201| loss: 0.36293 | train_mse: 0.11144 | train_mae: 0.25786 |  0:00:19s\n"
     ]
    },
    {
     "name": "stdout",
     "output_type": "stream",
     "text": [
      "epoch 202| loss: 0.18578 | train_mse: 0.11182 | train_mae: 0.25869 |  0:00:19s\n",
      "epoch 203| loss: 0.29171 | train_mse: 0.11182 | train_mae: 0.25891 |  0:00:19s\n",
      "epoch 204| loss: 0.25558 | train_mse: 0.10759 | train_mae: 0.2561  |  0:00:19s\n"
     ]
    },
    {
     "name": "stdout",
     "output_type": "stream",
     "text": [
      "epoch 205| loss: 0.33607 | train_mse: 0.10476 | train_mae: 0.25696 |  0:00:19s\n",
      "epoch 206| loss: 0.14571 | train_mse: 0.10202 | train_mae: 0.25628 |  0:00:19s\n",
      "epoch 207| loss: 0.12056 | train_mse: 0.0989  | train_mae: 0.25421 |  0:00:20s\n"
     ]
    },
    {
     "name": "stdout",
     "output_type": "stream",
     "text": [
      "epoch 208| loss: 0.36162 | train_mse: 0.09828 | train_mae: 0.25399 |  0:00:20s\n",
      "epoch 209| loss: 0.34227 | train_mse: 0.09936 | train_mae: 0.25573 |  0:00:20s\n",
      "epoch 210| loss: 0.22696 | train_mse: 0.09818 | train_mae: 0.25559 |  0:00:20s\n"
     ]
    },
    {
     "name": "stdout",
     "output_type": "stream",
     "text": [
      "epoch 211| loss: 0.20587 | train_mse: 0.10017 | train_mae: 0.25958 |  0:00:20s\n",
      "epoch 212| loss: 0.21331 | train_mse: 0.10682 | train_mae: 0.26925 |  0:00:20s\n",
      "epoch 213| loss: 0.25348 | train_mse: 0.12196 | train_mae: 0.2816  |  0:00:20s\n"
     ]
    },
    {
     "name": "stdout",
     "output_type": "stream",
     "text": [
      "epoch 214| loss: 0.34158 | train_mse: 0.11893 | train_mae: 0.27389 |  0:00:20s\n",
      "epoch 215| loss: 0.14599 | train_mse: 0.12418 | train_mae: 0.27684 |  0:00:20s\n",
      "epoch 216| loss: 0.38067 | train_mse: 0.12125 | train_mae: 0.27296 |  0:00:20s\n"
     ]
    },
    {
     "name": "stdout",
     "output_type": "stream",
     "text": [
      "epoch 217| loss: 0.19219 | train_mse: 0.12542 | train_mae: 0.27556 |  0:00:20s\n",
      "epoch 218| loss: 0.279   | train_mse: 0.14239 | train_mae: 0.2832  |  0:00:20s\n",
      "epoch 219| loss: 0.37389 | train_mse: 0.15938 | train_mae: 0.29132 |  0:00:21s\n"
     ]
    },
    {
     "name": "stdout",
     "output_type": "stream",
     "text": [
      "epoch 220| loss: 0.18539 | train_mse: 0.14903 | train_mae: 0.27809 |  0:00:21s\n",
      "epoch 221| loss: 0.15751 | train_mse: 0.14757 | train_mae: 0.27693 |  0:00:21s\n",
      "epoch 222| loss: 0.31406 | train_mse: 0.13035 | train_mae: 0.26576 |  0:00:21s\n"
     ]
    },
    {
     "name": "stdout",
     "output_type": "stream",
     "text": [
      "epoch 223| loss: 0.20138 | train_mse: 0.12353 | train_mae: 0.26217 |  0:00:21s\n",
      "epoch 224| loss: 0.14346 | train_mse: 0.11382 | train_mae: 0.2553  |  0:00:21s\n",
      "epoch 225| loss: 0.23063 | train_mse: 0.11634 | train_mae: 0.26016 |  0:00:21s\n"
     ]
    },
    {
     "name": "stdout",
     "output_type": "stream",
     "text": [
      "epoch 226| loss: 0.38545 | train_mse: 0.10729 | train_mae: 0.25123 |  0:00:21s\n",
      "epoch 227| loss: 0.26405 | train_mse: 0.10573 | train_mae: 0.24919 |  0:00:21s\n"
     ]
    },
    {
     "name": "stdout",
     "output_type": "stream",
     "text": [
      "epoch 228| loss: 0.30017 | train_mse: 0.10507 | train_mae: 0.24638 |  0:00:21s\n",
      "epoch 229| loss: 0.18183 | train_mse: 0.10501 | train_mae: 0.24935 |  0:00:21s\n",
      "epoch 230| loss: 0.16838 | train_mse: 0.10412 | train_mae: 0.24998 |  0:00:22s\n"
     ]
    },
    {
     "name": "stdout",
     "output_type": "stream",
     "text": [
      "epoch 231| loss: 0.25675 | train_mse: 0.10273 | train_mae: 0.24936 |  0:00:22s\n",
      "epoch 232| loss: 0.13852 | train_mse: 0.10434 | train_mae: 0.25048 |  0:00:22s\n",
      "epoch 233| loss: 0.28149 | train_mse: 0.10312 | train_mae: 0.24791 |  0:00:22s\n"
     ]
    },
    {
     "name": "stdout",
     "output_type": "stream",
     "text": [
      "epoch 234| loss: 0.15094 | train_mse: 0.10367 | train_mae: 0.24856 |  0:00:22s\n",
      "epoch 235| loss: 0.1701  | train_mse: 0.10645 | train_mae: 0.25161 |  0:00:22s\n",
      "epoch 236| loss: 0.23147 | train_mse: 0.10687 | train_mae: 0.25145 |  0:00:22s\n"
     ]
    },
    {
     "name": "stdout",
     "output_type": "stream",
     "text": [
      "epoch 237| loss: 0.436   | train_mse: 0.11301 | train_mae: 0.25695 |  0:00:22s\n",
      "epoch 238| loss: 0.38379 | train_mse: 0.11816 | train_mae: 0.26134 |  0:00:22s\n",
      "epoch 239| loss: 0.37997 | train_mse: 0.12313 | train_mae: 0.2638  |  0:00:22s\n"
     ]
    },
    {
     "name": "stdout",
     "output_type": "stream",
     "text": [
      "epoch 240| loss: 0.15015 | train_mse: 0.13924 | train_mae: 0.2739  |  0:00:22s\n",
      "epoch 241| loss: 0.26269 | train_mse: 0.15283 | train_mae: 0.28379 |  0:00:23s\n",
      "epoch 242| loss: 0.2561  | train_mse: 0.15401 | train_mae: 0.28485 |  0:00:23s\n"
     ]
    },
    {
     "name": "stdout",
     "output_type": "stream",
     "text": [
      "epoch 243| loss: 0.22451 | train_mse: 0.15333 | train_mae: 0.28455 |  0:00:23s\n",
      "epoch 244| loss: 0.37733 | train_mse: 0.14824 | train_mae: 0.28076 |  0:00:23s\n",
      "epoch 245| loss: 0.28286 | train_mse: 0.13597 | train_mae: 0.27277 |  0:00:23s\n"
     ]
    },
    {
     "name": "stdout",
     "output_type": "stream",
     "text": [
      "epoch 246| loss: 0.2119  | train_mse: 0.11894 | train_mae: 0.26381 |  0:00:23s\n",
      "epoch 247| loss: 0.18618 | train_mse: 0.10965 | train_mae: 0.25802 |  0:00:23s\n",
      "epoch 248| loss: 0.23462 | train_mse: 0.10623 | train_mae: 0.25411 |  0:00:23s\n"
     ]
    },
    {
     "name": "stdout",
     "output_type": "stream",
     "text": [
      "epoch 249| loss: 0.19788 | train_mse: 0.10123 | train_mae: 0.24833 |  0:00:23s\n",
      "epoch 250| loss: 0.24407 | train_mse: 0.10202 | train_mae: 0.2491  |  0:00:23s\n",
      "epoch 251| loss: 0.26392 | train_mse: 0.10447 | train_mae: 0.25164 |  0:00:23s\n"
     ]
    },
    {
     "name": "stdout",
     "output_type": "stream",
     "text": [
      "epoch 252| loss: 0.15459 | train_mse: 0.10517 | train_mae: 0.25131 |  0:00:23s\n",
      "epoch 253| loss: 0.19938 | train_mse: 0.10531 | train_mae: 0.25133 |  0:00:24s\n",
      "epoch 254| loss: 0.183   | train_mse: 0.11019 | train_mae: 0.25484 |  0:00:24s\n"
     ]
    },
    {
     "name": "stdout",
     "output_type": "stream",
     "text": [
      "epoch 255| loss: 0.3398  | train_mse: 0.11702 | train_mae: 0.25994 |  0:00:24s\n",
      "epoch 256| loss: 0.27112 | train_mse: 0.12273 | train_mae: 0.26444 |  0:00:24s\n",
      "epoch 257| loss: 0.18301 | train_mse: 0.1245  | train_mae: 0.26665 |  0:00:24s\n"
     ]
    },
    {
     "name": "stdout",
     "output_type": "stream",
     "text": [
      "epoch 258| loss: 0.25431 | train_mse: 0.12326 | train_mae: 0.26443 |  0:00:24s\n",
      "epoch 259| loss: 0.16529 | train_mse: 0.12259 | train_mae: 0.26367 |  0:00:24s\n"
     ]
    },
    {
     "name": "stdout",
     "output_type": "stream",
     "text": [
      "epoch 260| loss: 0.17734 | train_mse: 0.11279 | train_mae: 0.25484 |  0:00:24s\n",
      "epoch 261| loss: 0.18583 | train_mse: 0.10945 | train_mae: 0.25091 |  0:00:24s\n",
      "epoch 262| loss: 0.25549 | train_mse: 0.10476 | train_mae: 0.24493 |  0:00:24s"
     ]
    },
    {
     "name": "stdout",
     "output_type": "stream",
     "text": [
      "\n",
      "epoch 263| loss: 0.33738 | train_mse: 0.09966 | train_mae: 0.24321 |  0:00:24s\n",
      "epoch 264| loss: 0.20639 | train_mse: 0.09511 | train_mae: 0.24136 |  0:00:25s\n"
     ]
    },
    {
     "name": "stdout",
     "output_type": "stream",
     "text": [
      "epoch 265| loss: 0.17945 | train_mse: 0.0966  | train_mae: 0.24266 |  0:00:25s\n",
      "epoch 266| loss: 0.48011 | train_mse: 0.10049 | train_mae: 0.24719 |  0:00:25s\n",
      "epoch 267| loss: 0.30457 | train_mse: 0.10805 | train_mae: 0.24893 |  0:00:25s\n"
     ]
    },
    {
     "name": "stdout",
     "output_type": "stream",
     "text": [
      "epoch 268| loss: 0.21235 | train_mse: 0.11547 | train_mae: 0.25094 |  0:00:25s\n",
      "epoch 269| loss: 0.19366 | train_mse: 0.11898 | train_mae: 0.25344 |  0:00:25s\n",
      "epoch 270| loss: 0.37198 | train_mse: 0.12568 | train_mae: 0.25701 |  0:00:25s\n"
     ]
    },
    {
     "name": "stdout",
     "output_type": "stream",
     "text": [
      "epoch 271| loss: 0.2493  | train_mse: 0.13078 | train_mae: 0.25967 |  0:00:25s\n",
      "epoch 272| loss: 0.21464 | train_mse: 0.13209 | train_mae: 0.25982 |  0:00:25s\n",
      "epoch 273| loss: 0.26585 | train_mse: 0.13311 | train_mae: 0.26202 |  0:00:25s\n"
     ]
    },
    {
     "name": "stdout",
     "output_type": "stream",
     "text": [
      "epoch 274| loss: 0.15834 | train_mse: 0.13663 | train_mae: 0.26364 |  0:00:25s\n",
      "epoch 275| loss: 0.26979 | train_mse: 0.13478 | train_mae: 0.26307 |  0:00:25s\n",
      "epoch 276| loss: 0.33041 | train_mse: 0.13691 | train_mae: 0.26512 |  0:00:26s\n"
     ]
    },
    {
     "name": "stdout",
     "output_type": "stream",
     "text": [
      "epoch 277| loss: 0.39951 | train_mse: 0.14323 | train_mae: 0.26882 |  0:00:26s\n",
      "epoch 278| loss: 0.25468 | train_mse: 0.14767 | train_mae: 0.27132 |  0:00:26s\n",
      "epoch 279| loss: 0.30269 | train_mse: 0.14234 | train_mae: 0.26986 |  0:00:26s\n"
     ]
    },
    {
     "name": "stdout",
     "output_type": "stream",
     "text": [
      "epoch 280| loss: 0.24748 | train_mse: 0.13949 | train_mae: 0.27105 |  0:00:26s\n",
      "epoch 281| loss: 0.32562 | train_mse: 0.13607 | train_mae: 0.2717  |  0:00:26s\n",
      "epoch 282| loss: 0.31003 | train_mse: 0.13421 | train_mae: 0.27152 |  0:00:26s\n"
     ]
    },
    {
     "name": "stdout",
     "output_type": "stream",
     "text": [
      "epoch 283| loss: 0.19472 | train_mse: 0.13653 | train_mae: 0.27388 |  0:00:26s\n",
      "epoch 284| loss: 0.24041 | train_mse: 0.1353  | train_mae: 0.27213 |  0:00:26s\n",
      "epoch 285| loss: 0.27457 | train_mse: 0.13015 | train_mae: 0.27006 |  0:00:26s\n"
     ]
    },
    {
     "name": "stdout",
     "output_type": "stream",
     "text": [
      "epoch 286| loss: 0.24698 | train_mse: 0.12765 | train_mae: 0.26953 |  0:00:26s\n",
      "epoch 287| loss: 0.18659 | train_mse: 0.13184 | train_mae: 0.27245 |  0:00:26s\n"
     ]
    },
    {
     "name": "stdout",
     "output_type": "stream",
     "text": [
      "epoch 288| loss: 0.28558 | train_mse: 0.12893 | train_mae: 0.26759 |  0:00:27s\n",
      "epoch 289| loss: 0.17684 | train_mse: 0.12938 | train_mae: 0.26676 |  0:00:27s\n",
      "epoch 290| loss: 0.18726 | train_mse: 0.12107 | train_mae: 0.25901 |  0:00:27s\n"
     ]
    },
    {
     "name": "stdout",
     "output_type": "stream",
     "text": [
      "epoch 291| loss: 0.32059 | train_mse: 0.11541 | train_mae: 0.25342 |  0:00:27s\n",
      "epoch 292| loss: 0.17466 | train_mse: 0.10918 | train_mae: 0.24744 |  0:00:27s\n",
      "epoch 293| loss: 0.37528 | train_mse: 0.11068 | train_mae: 0.24621 |  0:00:27s\n"
     ]
    },
    {
     "name": "stdout",
     "output_type": "stream",
     "text": [
      "epoch 294| loss: 0.12228 | train_mse: 0.11011 | train_mae: 0.24481 |  0:00:27s\n",
      "epoch 295| loss: 0.20986 | train_mse: 0.10792 | train_mae: 0.24264 |  0:00:27s\n",
      "epoch 296| loss: 0.28313 | train_mse: 0.09827 | train_mae: 0.23379 |  0:00:27s\n"
     ]
    },
    {
     "name": "stdout",
     "output_type": "stream",
     "text": [
      "epoch 297| loss: 0.24902 | train_mse: 0.09554 | train_mae: 0.22979 |  0:00:28s\n",
      "epoch 298| loss: 0.38337 | train_mse: 0.09415 | train_mae: 0.23011 |  0:00:28s\n",
      "epoch 299| loss: 0.26682 | train_mse: 0.09379 | train_mae: 0.23003 |  0:00:28s\n"
     ]
    },
    {
     "name": "stdout",
     "output_type": "stream",
     "text": [
      "epoch 300| loss: 0.28851 | train_mse: 0.09502 | train_mae: 0.2347  |  0:00:28s\n",
      "epoch 301| loss: 0.14329 | train_mse: 0.09559 | train_mae: 0.23737 |  0:00:28s\n",
      "epoch 302| loss: 0.18487 | train_mse: 0.09596 | train_mae: 0.23988 |  0:00:28s\n"
     ]
    },
    {
     "name": "stdout",
     "output_type": "stream",
     "text": [
      "epoch 303| loss: 0.29889 | train_mse: 0.09734 | train_mae: 0.24177 |  0:00:28s\n",
      "epoch 304| loss: 0.19047 | train_mse: 0.09866 | train_mae: 0.24217 |  0:00:28s\n",
      "epoch 305| loss: 0.30021 | train_mse: 0.09636 | train_mae: 0.23938 |  0:00:28s"
     ]
    },
    {
     "name": "stdout",
     "output_type": "stream",
     "text": [
      "\n",
      "epoch 306| loss: 0.29333 | train_mse: 0.09576 | train_mae: 0.23731 |  0:00:28s\n",
      "epoch 307| loss: 0.20841 | train_mse: 0.09675 | train_mae: 0.23595 |  0:00:29s\n"
     ]
    },
    {
     "name": "stdout",
     "output_type": "stream",
     "text": [
      "epoch 308| loss: 0.12515 | train_mse: 0.09686 | train_mae: 0.23487 |  0:00:29s\n",
      "epoch 309| loss: 0.1962  | train_mse: 0.09529 | train_mae: 0.23408 |  0:00:29s\n",
      "epoch 310| loss: 0.17213 | train_mse: 0.10042 | train_mae: 0.23886 |  0:00:29s\n"
     ]
    },
    {
     "name": "stdout",
     "output_type": "stream",
     "text": [
      "epoch 311| loss: 0.15111 | train_mse: 0.10829 | train_mae: 0.24322 |  0:00:29s\n",
      "epoch 312| loss: 0.1827  | train_mse: 0.11709 | train_mae: 0.25165 |  0:00:29s\n",
      "epoch 313| loss: 0.10436 | train_mse: 0.11664 | train_mae: 0.25219 |  0:00:29s\n"
     ]
    },
    {
     "name": "stdout",
     "output_type": "stream",
     "text": [
      "epoch 314| loss: 0.14469 | train_mse: 0.11961 | train_mae: 0.25416 |  0:00:29s\n",
      "epoch 315| loss: 0.20211 | train_mse: 0.11936 | train_mae: 0.25422 |  0:00:29s\n",
      "epoch 316| loss: 0.21031 | train_mse: 0.11304 | train_mae: 0.25177 |  0:00:29s\n"
     ]
    },
    {
     "name": "stdout",
     "output_type": "stream",
     "text": [
      "epoch 317| loss: 0.26014 | train_mse: 0.1066  | train_mae: 0.24496 |  0:00:29s\n",
      "epoch 318| loss: 0.14785 | train_mse: 0.10843 | train_mae: 0.24406 |  0:00:29s\n",
      "epoch 319| loss: 0.23341 | train_mse: 0.11778 | train_mae: 0.24679 |  0:00:30s\n"
     ]
    },
    {
     "name": "stdout",
     "output_type": "stream",
     "text": [
      "epoch 320| loss: 0.23091 | train_mse: 0.11994 | train_mae: 0.24604 |  0:00:30s\n",
      "epoch 321| loss: 0.43475 | train_mse: 0.1301  | train_mae: 0.2501  |  0:00:30s\n",
      "epoch 322| loss: 0.13913 | train_mse: 0.12578 | train_mae: 0.24706 |  0:00:30s\n"
     ]
    },
    {
     "name": "stdout",
     "output_type": "stream",
     "text": [
      "epoch 323| loss: 0.21074 | train_mse: 0.11879 | train_mae: 0.24487 |  0:00:30s\n",
      "epoch 324| loss: 0.12585 | train_mse: 0.10449 | train_mae: 0.24084 |  0:00:30s\n",
      "epoch 325| loss: 0.26592 | train_mse: 0.10684 | train_mae: 0.24424 |  0:00:30s\n"
     ]
    },
    {
     "name": "stdout",
     "output_type": "stream",
     "text": [
      "epoch 326| loss: 0.11923 | train_mse: 0.10732 | train_mae: 0.24583 |  0:00:30s\n",
      "epoch 327| loss: 0.15208 | train_mse: 0.10835 | train_mae: 0.24592 |  0:00:30s\n",
      "epoch 328| loss: 0.11305 | train_mse: 0.10314 | train_mae: 0.24255 |  0:00:30s\n"
     ]
    },
    {
     "name": "stdout",
     "output_type": "stream",
     "text": [
      "epoch 329| loss: 0.13469 | train_mse: 0.09564 | train_mae: 0.23481 |  0:00:30s\n",
      "epoch 330| loss: 0.33015 | train_mse: 0.09235 | train_mae: 0.23061 |  0:00:31s\n"
     ]
    },
    {
     "name": "stdout",
     "output_type": "stream",
     "text": [
      "epoch 331| loss: 0.19502 | train_mse: 0.09049 | train_mae: 0.23069 |  0:00:31s\n",
      "epoch 332| loss: 0.25485 | train_mse: 0.09666 | train_mae: 0.23754 |  0:00:31s\n",
      "epoch 333| loss: 0.23726 | train_mse: 0.09229 | train_mae: 0.23451 |  0:00:31s\n"
     ]
    },
    {
     "name": "stdout",
     "output_type": "stream",
     "text": [
      "epoch 334| loss: 0.24354 | train_mse: 0.093   | train_mae: 0.2344  |  0:00:31s\n",
      "epoch 335| loss: 0.25107 | train_mse: 0.09714 | train_mae: 0.24013 |  0:00:31s\n"
     ]
    },
    {
     "name": "stdout",
     "output_type": "stream",
     "text": [
      "epoch 336| loss: 0.18246 | train_mse: 0.10253 | train_mae: 0.24491 |  0:00:31s\n",
      "epoch 337| loss: 0.12364 | train_mse: 0.10349 | train_mae: 0.24453 |  0:00:31s\n"
     ]
    },
    {
     "name": "stdout",
     "output_type": "stream",
     "text": [
      "epoch 338| loss: 0.51253 | train_mse: 0.10018 | train_mae: 0.24083 |  0:00:32s\n",
      "epoch 339| loss: 0.13004 | train_mse: 0.09941 | train_mae: 0.23816 |  0:00:32s\n"
     ]
    },
    {
     "name": "stdout",
     "output_type": "stream",
     "text": [
      "epoch 340| loss: 0.12595 | train_mse: 0.1112  | train_mae: 0.24143 |  0:00:32s\n",
      "epoch 341| loss: 0.2742  | train_mse: 0.11475 | train_mae: 0.2399  |  0:00:32s\n"
     ]
    },
    {
     "name": "stdout",
     "output_type": "stream",
     "text": [
      "epoch 342| loss: 0.18291 | train_mse: 0.10262 | train_mae: 0.23226 |  0:00:32s\n",
      "epoch 343| loss: 0.17357 | train_mse: 0.08069 | train_mae: 0.21781 |  0:00:32s\n"
     ]
    },
    {
     "name": "stdout",
     "output_type": "stream",
     "text": [
      "epoch 344| loss: 0.24657 | train_mse: 0.07536 | train_mae: 0.21252 |  0:00:32s\n",
      "epoch 345| loss: 0.21238 | train_mse: 0.07303 | train_mae: 0.20994 |  0:00:32s\n"
     ]
    },
    {
     "name": "stdout",
     "output_type": "stream",
     "text": [
      "epoch 346| loss: 0.19856 | train_mse: 0.07019 | train_mae: 0.208   |  0:00:32s\n",
      "epoch 347| loss: 0.23993 | train_mse: 0.07057 | train_mae: 0.20847 |  0:00:33s\n"
     ]
    },
    {
     "name": "stdout",
     "output_type": "stream",
     "text": [
      "epoch 348| loss: 0.11499 | train_mse: 0.07304 | train_mae: 0.21056 |  0:00:33s\n",
      "epoch 349| loss: 0.19161 | train_mse: 0.0755  | train_mae: 0.21321 |  0:00:33s\n"
     ]
    },
    {
     "name": "stdout",
     "output_type": "stream",
     "text": [
      "epoch 350| loss: 0.25376 | train_mse: 0.0769  | train_mae: 0.21433 |  0:00:33s\n",
      "epoch 351| loss: 0.1349  | train_mse: 0.08611 | train_mae: 0.22464 |  0:00:33s\n"
     ]
    },
    {
     "name": "stdout",
     "output_type": "stream",
     "text": [
      "epoch 352| loss: 0.21256 | train_mse: 0.09211 | train_mae: 0.22897 |  0:00:33s\n",
      "epoch 353| loss: 0.31318 | train_mse: 0.09649 | train_mae: 0.23193 |  0:00:33s\n"
     ]
    },
    {
     "name": "stdout",
     "output_type": "stream",
     "text": [
      "epoch 354| loss: 0.1967  | train_mse: 0.10048 | train_mae: 0.23493 |  0:00:33s\n",
      "epoch 355| loss: 0.22861 | train_mse: 0.10185 | train_mae: 0.2356  |  0:00:34s\n",
      "epoch 356| loss: 0.20103 | train_mse: 0.10263 | train_mae: 0.23684 |  0:00:34s\n"
     ]
    },
    {
     "name": "stdout",
     "output_type": "stream",
     "text": [
      "epoch 357| loss: 0.40373 | train_mse: 0.10335 | train_mae: 0.23664 |  0:00:34s\n",
      "epoch 358| loss: 0.29811 | train_mse: 0.10427 | train_mae: 0.2363  |  0:00:34s\n"
     ]
    },
    {
     "name": "stdout",
     "output_type": "stream",
     "text": [
      "epoch 359| loss: 0.25259 | train_mse: 0.1111  | train_mae: 0.24127 |  0:00:34s\n",
      "epoch 360| loss: 0.26708 | train_mse: 0.1183  | train_mae: 0.24453 |  0:00:34s\n"
     ]
    },
    {
     "name": "stdout",
     "output_type": "stream",
     "text": [
      "epoch 361| loss: 0.1559  | train_mse: 0.10951 | train_mae: 0.24175 |  0:00:34s\n",
      "epoch 362| loss: 0.33207 | train_mse: 0.10226 | train_mae: 0.23898 |  0:00:34s\n"
     ]
    },
    {
     "name": "stdout",
     "output_type": "stream",
     "text": [
      "epoch 363| loss: 0.10156 | train_mse: 0.09853 | train_mae: 0.23825 |  0:00:35s\n",
      "epoch 364| loss: 0.23907 | train_mse: 0.09038 | train_mae: 0.2325  |  0:00:35s\n"
     ]
    },
    {
     "name": "stdout",
     "output_type": "stream",
     "text": [
      "epoch 365| loss: 0.13278 | train_mse: 0.08725 | train_mae: 0.22892 |  0:00:35s\n",
      "epoch 366| loss: 0.15264 | train_mse: 0.08604 | train_mae: 0.22973 |  0:00:35s\n",
      "epoch 367| loss: 0.13668 | train_mse: 0.08358 | train_mae: 0.22619 |  0:00:35s\n"
     ]
    },
    {
     "name": "stdout",
     "output_type": "stream",
     "text": [
      "epoch 368| loss: 0.14688 | train_mse: 0.08045 | train_mae: 0.22231 |  0:00:35s\n",
      "epoch 369| loss: 0.15205 | train_mse: 0.07859 | train_mae: 0.21941 |  0:00:35s\n",
      "epoch 370| loss: 0.38401 | train_mse: 0.07629 | train_mae: 0.21522 |  0:00:35s\n"
     ]
    },
    {
     "name": "stdout",
     "output_type": "stream",
     "text": [
      "epoch 371| loss: 0.22782 | train_mse: 0.08136 | train_mae: 0.22053 |  0:00:35s\n",
      "epoch 372| loss: 0.17501 | train_mse: 0.08568 | train_mae: 0.2234  |  0:00:35s\n",
      "epoch 373| loss: 0.23582 | train_mse: 0.0883  | train_mae: 0.22677 |  0:00:35s\n"
     ]
    },
    {
     "name": "stdout",
     "output_type": "stream",
     "text": [
      "epoch 374| loss: 0.15494 | train_mse: 0.09419 | train_mae: 0.23111 |  0:00:36s\n",
      "epoch 375| loss: 0.16683 | train_mse: 0.09773 | train_mae: 0.23221 |  0:00:36s\n",
      "epoch 376| loss: 0.31398 | train_mse: 0.09718 | train_mae: 0.23121 |  0:00:36s\n"
     ]
    },
    {
     "name": "stdout",
     "output_type": "stream",
     "text": [
      "epoch 377| loss: 0.10415 | train_mse: 0.09471 | train_mae: 0.23015 |  0:00:36s\n",
      "epoch 378| loss: 0.14285 | train_mse: 0.09097 | train_mae: 0.22726 |  0:00:36s\n",
      "epoch 379| loss: 0.28921 | train_mse: 0.09104 | train_mae: 0.22736 |  0:00:36s\n"
     ]
    },
    {
     "name": "stdout",
     "output_type": "stream",
     "text": [
      "epoch 380| loss: 0.29924 | train_mse: 0.08826 | train_mae: 0.22495 |  0:00:36s\n",
      "epoch 381| loss: 0.26313 | train_mse: 0.09011 | train_mae: 0.22706 |  0:00:36s\n",
      "epoch 382| loss: 0.21377 | train_mse: 0.09054 | train_mae: 0.22718 |  0:00:36s\n"
     ]
    },
    {
     "name": "stdout",
     "output_type": "stream",
     "text": [
      "epoch 383| loss: 0.40678 | train_mse: 0.09479 | train_mae: 0.23023 |  0:00:36s\n",
      "epoch 384| loss: 0.20821 | train_mse: 0.10126 | train_mae: 0.23423 |  0:00:36s\n",
      "epoch 385| loss: 0.18436 | train_mse: 0.10277 | train_mae: 0.2364  |  0:00:37s\n"
     ]
    },
    {
     "name": "stdout",
     "output_type": "stream",
     "text": [
      "epoch 386| loss: 0.16175 | train_mse: 0.10835 | train_mae: 0.24283 |  0:00:37s\n",
      "epoch 387| loss: 0.16259 | train_mse: 0.11251 | train_mae: 0.24856 |  0:00:37s\n",
      "epoch 388| loss: 0.27141 | train_mse: 0.11723 | train_mae: 0.25231 |  0:00:37s\n"
     ]
    },
    {
     "name": "stdout",
     "output_type": "stream",
     "text": [
      "epoch 389| loss: 0.17535 | train_mse: 0.11506 | train_mae: 0.25014 |  0:00:37s\n",
      "epoch 390| loss: 0.24309 | train_mse: 0.11485 | train_mae: 0.25045 |  0:00:37s\n",
      "epoch 391| loss: 0.17715 | train_mse: 0.11432 | train_mae: 0.2478  |  0:00:37s\n"
     ]
    },
    {
     "name": "stdout",
     "output_type": "stream",
     "text": [
      "epoch 392| loss: 0.27371 | train_mse: 0.1124  | train_mae: 0.24698 |  0:00:37s\n",
      "epoch 393| loss: 0.22269 | train_mse: 0.11292 | train_mae: 0.24664 |  0:00:37s\n",
      "epoch 394| loss: 0.2535  | train_mse: 0.1095  | train_mae: 0.24514 |  0:00:37s\n"
     ]
    },
    {
     "name": "stdout",
     "output_type": "stream",
     "text": [
      "epoch 395| loss: 0.12507 | train_mse: 0.10412 | train_mae: 0.23931 |  0:00:37s\n",
      "epoch 396| loss: 0.14999 | train_mse: 0.09701 | train_mae: 0.23236 |  0:00:38s\n",
      "\n",
      "Early stopping occurred at epoch 396 with best_epoch = 346 and best_train_mae = 0.208\n",
      "Best weights from best epoch are automatically used!\n"
     ]
    }
   ],
   "source": [
    "#Train the Model\n",
    "\n",
    "Y_train = np.reshape(Y_train, (-1, 1))\n",
    "Y_test = np.reshape(Y_test, (-1, 1))\n",
    "\n",
    "prior_model = TabNetRegressor(optimizer_fn=torch.optim.Adam, optimizer_params=dict(lr = 0.001),\n",
    "          #scheduler_params={\"step_size\":10, ], \"gamma\":0.9},\n",
    "          #scheduler_fn=torch.optim.lr_scheduler.StepLR\n",
    "          )  #TabNetRegressor()\n",
    "\n",
    "prior_model.fit(X_train,Y_train,eval_set=[(X_train, Y_train)],\n",
    "            eval_name=['train'], \n",
    "            eval_metric=[ 'mse', 'mae'], \n",
    "            max_epochs = n_epochs, \n",
    "            batch_size = batch_size,\n",
    "            patience=50\n",
    "            )"
   ]
  },
  {
   "cell_type": "code",
   "execution_count": 10,
   "id": "af65dcda",
   "metadata": {
    "execution": {
     "iopub.execute_input": "2022-07-22T11:52:31.533222Z",
     "iopub.status.busy": "2022-07-22T11:52:31.532662Z",
     "iopub.status.idle": "2022-07-22T11:52:31.586308Z",
     "shell.execute_reply": "2022-07-22T11:52:31.584387Z"
    },
    "id": "af65dcda",
    "papermill": {
     "duration": 0.076964,
     "end_time": "2022-07-22T11:52:31.590207",
     "exception": false,
     "start_time": "2022-07-22T11:52:31.513243",
     "status": "completed"
    },
    "tags": []
   },
   "outputs": [
    {
     "data": {
      "application/scrapbook.scrap.json+json": {
       "data": 0.23029700898406577,
       "encoder": "json",
       "name": "Prior Model MSE",
       "version": 1
      }
     },
     "metadata": {
      "scrapbook": {
       "data": true,
       "display": false,
       "name": "Prior Model MSE"
      }
     },
     "output_type": "display_data"
    },
    {
     "data": {
      "application/scrapbook.scrap.json+json": {
       "data": 0.25513077190917166,
       "encoder": "json",
       "name": "ABC Pre-generator MSE",
       "version": 1
      }
     },
     "metadata": {
      "scrapbook": {
       "data": true,
       "display": false,
       "name": "ABC Pre-generator MSE"
      }
     },
     "output_type": "display_data"
    },
    {
     "data": {
      "application/scrapbook.scrap.json+json": {
       "data": 0.33918747827145007,
       "encoder": "json",
       "name": "Prior Model MAE",
       "version": 1
      }
     },
     "metadata": {
      "scrapbook": {
       "data": true,
       "display": false,
       "name": "Prior Model MAE"
      }
     },
     "output_type": "display_data"
    },
    {
     "name": "stdout",
     "output_type": "stream",
     "text": [
      "Prior Model MAE 0.33918747827145007\n"
     ]
    },
    {
     "data": {
      "application/scrapbook.scrap.json+json": {
       "data": 0.3685300758040482,
       "encoder": "json",
       "name": "ABC Pre-generator MAE",
       "version": 1
      }
     },
     "metadata": {
      "scrapbook": {
       "data": true,
       "display": false,
       "name": "ABC Pre-generator MAE"
      }
     },
     "output_type": "display_data"
    },
    {
     "name": "stdout",
     "output_type": "stream",
     "text": [
      "ABC Pre-generator MAE 0.3685300758040482\n"
     ]
    }
   ],
   "source": [
    "y_pred = prior_model.predict(X_test)\n",
    "y_abc = y_pred + np.random.normal(0,variance, y_pred.shape) + bias \n",
    "mse = mean_squared_error(y_pred,Y_test)\n",
    "sb.glue(\"Prior Model MSE\",mse)\n",
    "mse = mean_squared_error(y_abc,Y_test)\n",
    "sb.glue(\"ABC Pre-generator MSE\",mse)\n",
    "mae = mean_absolute_error(y_pred,Y_test)\n",
    "sb.glue(\"Prior Model MAE\",mae)\n",
    "print(\"Prior Model MAE\",mae)\n",
    "mae = mean_absolute_error(y_abc,Y_test)\n",
    "sb.glue(\"ABC Pre-generator MAE\",mae)\n",
    "print(\"ABC Pre-generator MAE\",mae)"
   ]
  },
  {
   "cell_type": "markdown",
   "id": "25609da2",
   "metadata": {
    "papermill": {
     "duration": 0.02221,
     "end_time": "2022-07-22T11:52:31.631346",
     "exception": false,
     "start_time": "2022-07-22T11:52:31.609136",
     "status": "completed"
    },
    "tags": []
   },
   "source": [
    "# mGAN Model"
   ]
  },
  {
   "cell_type": "code",
   "execution_count": 11,
   "id": "dfc3464d",
   "metadata": {
    "execution": {
     "iopub.execute_input": "2022-07-22T11:52:31.676331Z",
     "iopub.status.busy": "2022-07-22T11:52:31.675469Z",
     "iopub.status.idle": "2022-07-22T11:52:31.680144Z",
     "shell.execute_reply": "2022-07-22T11:52:31.679173Z"
    },
    "papermill": {
     "duration": 0.032472,
     "end_time": "2022-07-22T11:52:31.684385",
     "exception": false,
     "start_time": "2022-07-22T11:52:31.651913",
     "status": "completed"
    },
    "tags": []
   },
   "outputs": [],
   "source": [
    "# gen = network.Generator(n_features+1).to(device)\n",
    "# disc = network.Discriminator(n_features+1).to(device)\n",
    "\n",
    "# criterion = torch.nn.BCELoss()\n",
    "# gen_opt = torch.optim.Adam(gen.parameters(), lr=0.001, betas=(0.5, 0.999))\n",
    "# disc_opt = torch.optim.Adam(disc.parameters(), lr=0.001, betas=(0.5, 0.999))"
   ]
  },
  {
   "cell_type": "code",
   "execution_count": 12,
   "id": "b75fdd85",
   "metadata": {
    "execution": {
     "iopub.execute_input": "2022-07-22T11:52:31.726933Z",
     "iopub.status.busy": "2022-07-22T11:52:31.726321Z",
     "iopub.status.idle": "2022-07-22T11:52:31.731256Z",
     "shell.execute_reply": "2022-07-22T11:52:31.730050Z"
    },
    "papermill": {
     "duration": 0.0285,
     "end_time": "2022-07-22T11:52:31.734750",
     "exception": false,
     "start_time": "2022-07-22T11:52:31.706250",
     "status": "completed"
    },
    "tags": []
   },
   "outputs": [],
   "source": [
    "#Training the ABC_GAN \n",
    "# ABC_train_test2.training_GAN(disc,gen,disc_opt,gen_opt,train_data,batch_size,n_epochs,criterion,prior_model,variance,bias,device)"
   ]
  },
  {
   "cell_type": "code",
   "execution_count": 13,
   "id": "1fa7c368",
   "metadata": {
    "execution": {
     "iopub.execute_input": "2022-07-22T11:52:31.775591Z",
     "iopub.status.busy": "2022-07-22T11:52:31.775009Z",
     "iopub.status.idle": "2022-07-22T11:52:31.779380Z",
     "shell.execute_reply": "2022-07-22T11:52:31.778301Z"
    },
    "papermill": {
     "duration": 0.030444,
     "end_time": "2022-07-22T11:52:31.783333",
     "exception": false,
     "start_time": "2022-07-22T11:52:31.752889",
     "status": "completed"
    },
    "tags": []
   },
   "outputs": [],
   "source": [
    "# ABC_GAN1_metrics=ABC_train_test2.test_generator(gen,test_data,prior_model,variance,bias,\"1\",device)\n",
    "# sb.glue(\"ABC_GAN_1 Metrics\",ABC_GAN1_metrics)\n",
    "\n",
    "# print(\"MAE\")\n",
    "# print(mean(ABC_GAN1_metrics[1]))"
   ]
  },
  {
   "cell_type": "code",
   "execution_count": 14,
   "id": "eb22ce5c",
   "metadata": {
    "execution": {
     "iopub.execute_input": "2022-07-22T11:52:31.827352Z",
     "iopub.status.busy": "2022-07-22T11:52:31.826391Z",
     "iopub.status.idle": "2022-07-22T11:52:31.831159Z",
     "shell.execute_reply": "2022-07-22T11:52:31.830069Z"
    },
    "papermill": {
     "duration": 0.028427,
     "end_time": "2022-07-22T11:52:31.834075",
     "exception": false,
     "start_time": "2022-07-22T11:52:31.805648",
     "status": "completed"
    },
    "tags": []
   },
   "outputs": [],
   "source": [
    "# sanityChecks.discProbVsError(train_data,disc,device)\n",
    "# sanityChecks.discProbVsError(test_data,disc,device)"
   ]
  },
  {
   "cell_type": "markdown",
   "id": "d3979710",
   "metadata": {
    "papermill": {
     "duration": 0.01841,
     "end_time": "2022-07-22T11:52:31.870310",
     "exception": false,
     "start_time": "2022-07-22T11:52:31.851900",
     "status": "completed"
    },
    "tags": []
   },
   "source": [
    "# mGAN Model with TabNet Generator"
   ]
  },
  {
   "cell_type": "code",
   "execution_count": 15,
   "id": "be3ce473",
   "metadata": {
    "execution": {
     "iopub.execute_input": "2022-07-22T11:52:31.909706Z",
     "iopub.status.busy": "2022-07-22T11:52:31.909057Z",
     "iopub.status.idle": "2022-07-22T11:52:31.929068Z",
     "shell.execute_reply": "2022-07-22T11:52:31.926178Z"
    },
    "papermill": {
     "duration": 0.042917,
     "end_time": "2022-07-22T11:52:31.932529",
     "exception": false,
     "start_time": "2022-07-22T11:52:31.889612",
     "status": "completed"
    },
    "tags": []
   },
   "outputs": [],
   "source": [
    "gen2 = network.GeneratorTabnet(n_features+1).to(device)\n",
    "disc2 = network.Discriminator(n_features+1).to(device)\n",
    "\n",
    "criterion = torch.nn.BCELoss()\n",
    "gen_opt = torch.optim.Adam(gen2.parameters(), lr=0.001, betas=(0.5, 0.999))\n",
    "disc_opt = torch.optim.Adam(disc2.parameters(), lr=0.001, betas=(0.5, 0.999))"
   ]
  },
  {
   "cell_type": "code",
   "execution_count": 16,
   "id": "830babd5",
   "metadata": {
    "execution": {
     "iopub.execute_input": "2022-07-22T11:52:31.972293Z",
     "iopub.status.busy": "2022-07-22T11:52:31.971629Z",
     "iopub.status.idle": "2022-07-22T11:55:17.378403Z",
     "shell.execute_reply": "2022-07-22T11:55:17.376495Z"
    },
    "papermill": {
     "duration": 165.430846,
     "end_time": "2022-07-22T11:55:17.382052",
     "exception": false,
     "start_time": "2022-07-22T11:52:31.951206",
     "status": "completed"
    },
    "tags": []
   },
   "outputs": [
    {
     "data": {
      "image/png": "[encoded data removed]",
      "text/plain": [
       "<Figure size 432x288 with 1 Axes>"
      ]
     },
     "metadata": {
      "needs_background": "light"
     },
     "output_type": "display_data"
    },
    {
     "data": {
      "image/png": "[encoded data removed]",
      "text/plain": [
       "<Figure size 432x288 with 1 Axes>"
      ]
     },
     "metadata": {
      "needs_background": "light"
     },
     "output_type": "display_data"
    }
   ],
   "source": [
    "#Training the ABC_GAN \n",
    "ABC_train_test2.training_GAN(disc2,gen2,disc_opt,gen_opt,train_data,batch_size,n_epochs,criterion,prior_model,variance,bias,device)"
   ]
  },
  {
   "cell_type": "code",
   "execution_count": 17,
   "id": "ed2945b6",
   "metadata": {
    "execution": {
     "iopub.execute_input": "2022-07-22T11:55:17.430394Z",
     "iopub.status.busy": "2022-07-22T11:55:17.429886Z",
     "iopub.status.idle": "2022-07-22T11:55:19.451054Z",
     "shell.execute_reply": "2022-07-22T11:55:19.449595Z"
    },
    "papermill": {
     "duration": 2.047661,
     "end_time": "2022-07-22T11:55:19.456027",
     "exception": false,
     "start_time": "2022-07-22T11:55:17.408366",
     "status": "completed"
    },
    "tags": []
   },
   "outputs": [
    {
     "data": {
      "application/scrapbook.scrap.json+json": {
       "data": 0.546391882778475,
       "encoder": "json",
       "name": "ABC-GAN Model 1 MSE",
       "version": 1
      }
     },
     "metadata": {
      "scrapbook": {
       "data": true,
       "display": false,
       "name": "ABC-GAN Model 1 MSE"
      }
     },
     "output_type": "display_data"
    },
    {
     "data": {
      "application/scrapbook.scrap.json+json": {
       "data": 0.5548162804096937,
       "encoder": "json",
       "name": "ABC-GAN Model 1 MAE",
       "version": 1
      }
     },
     "metadata": {
      "scrapbook": {
       "data": true,
       "display": false,
       "name": "ABC-GAN Model 1 MAE"
      }
     },
     "output_type": "display_data"
    },
    {
     "data": {
      "application/scrapbook.scrap.json+json": {
       "data": 11.096325608193874,
       "encoder": "json",
       "name": "ABC-GAN Model 1 Manhattan Distance",
       "version": 1
      }
     },
     "metadata": {
      "scrapbook": {
       "data": true,
       "display": false,
       "name": "ABC-GAN Model 1 Manhattan Distance"
      }
     },
     "output_type": "display_data"
    },
    {
     "data": {
      "application/scrapbook.scrap.json+json": {
       "data": 3.3031178225531663,
       "encoder": "json",
       "name": "ABC-GAN Model 1 Euclidean distance",
       "version": 1
      }
     },
     "metadata": {
      "scrapbook": {
       "data": true,
       "display": false,
       "name": "ABC-GAN Model 1 Euclidean distance"
      }
     },
     "output_type": "display_data"
    },
    {
     "data": {
      "application/scrapbook.scrap.json+json": {
       "data": [
        [
         0.49844769616278783,
         0.5270739264323099,
         0.5118643032711387,
         0.4943532477584438,
         0.4885355544117521,
         0.5083586539862814,
         0.5402978518858299,
         0.5234908019456055,
         0.49592636437081233,
         0.5721283386324533,
         0.604653468152313,
         0.5933324325844582,
         0.5607793849963871,
         0.5311797526188903,
         0.594312903889253,
         0.5609778679417076,
         0.5368551238962034,
         0.523486826979034,
         0.6130714135404384,
         0.5988895406227887,
         0.4938281485747261,
         0.6101152689194492,
         0.5489852262166002,
         0.5527191926383537,
         0.5960840187363681,
         0.5987214476114604,
         0.5172951422683933,
         0.5911288235751637,
         0.5012211654040378,
         0.5513148140861077,
         0.4588857009457559,
         0.5015624662593698,
         0.5726445488471207,
         0.6148383793320035,
         0.5656302531180994,
         0.5150904557974059,
         0.6117493871048717,
         0.5286032467708329,
         0.5825509982916997,
         0.5299151474676517,
         0.596717441892463,
         0.5187434624666235,
         0.5320529165542077,
         0.5581491859963181,
         0.6266735185916655,
         0.48765064590970014,
         0.5432537227618837,
         0.5577635145873007,
         0.43711028046956546,
         0.5432673381851251,
         0.494525351045427,
         0.5982972816582487,
         0.4650614916909639,
         0.4924056078846625,
         0.5447195821932315,
         0.5955145236534902,
         0.49639666501883467,
         0.5386021157572827,
         0.5078528746748303,
         0.5534227501863856,
         0.5737421577234099,
         0.5718492094254369,
         0.5246136858932964,
         0.5313257486464977,
         0.5713802824160616,
         0.5648732763369406,
         0.6936952427457083,
         0.5376456478049931,
         0.544011624000247,
         0.5482663787402468,
         0.45715700457544506,
         0.5550159998496282,
         0.5690160575560312,
         0.5583289639326825,
         0.5012957808178499,
         0.574847818482938,
         0.580815089075333,
         0.5981355432800385,
         0.5847841520795749,
         0.4846628641720832,
         0.5087066313051504,
         0.5489655124292346,
         0.5413606162711755,
         0.533108036029003,
         0.513016840969304,
         0.5871925249821943,
         0.5544370148735729,
         0.544277090160851,
         0.5572225783876619,
         0.49356761980767594,
         0.5112799075480108,
         0.5466197601557651,
         0.5957899373628586,
         0.5620872570124092,
         0.5369686604686784,
         0.5390104841233588,
         0.5176640203103569,
         0.517946305475023,
         0.5358553001284891,
         0.6595700952697042
        ],
        [
         0.5277402922511101,
         0.5650280557572842,
         0.5356673739850522,
         0.5377136521041394,
         0.5134703412652015,
         0.5357452109456062,
         0.5493730291724205,
         0.5517050251364708,
         0.5151906214654446,
         0.557754585891962,
         0.5811558589339256,
         0.5828937903046608,
         0.5328640915453434,
         0.525918822735548,
         0.5907715111970901,
         0.5719081420451403,
         0.5480502754449844,
         0.551020197942853,
         0.6133101873099804,
         0.5781405538320541,
         0.5256466560065747,
         0.6002527333796024,
         0.5720137000083924,
         0.5449507109820843,
         0.6092314511537552,
         0.612049275636673,
         0.5404319822788238,
         0.5887739226222038,
         0.5356125771999359,
         0.5529278159141541,
         0.5121924467384815,
         0.5176721520721912,
         0.5698576971888543,
         0.5909510239958763,
         0.5656352072954178,
         0.5341834470629692,
         0.5925003834068775,
         0.5537275336682796,
         0.584163735806942,
         0.5337952598929405,
         0.5880591966211796,
         0.5430203534662723,
         0.5354770451784134,
         0.571150827407837,
         0.5832482859492302,
         0.5331369176506996,
         0.5500231362879276,
         0.557901930809021,
         0.5232759699225425,
         0.5487220346927643,
         0.526841226220131,
         0.5922140076756477,
         0.4955961801111698,
         0.5244601845741272,
         0.5368120349943638,
         0.586628919839859,
         0.5244426183402539,
         0.5748732686042786,
         0.5465197719633579,
         0.553711487352848,
         0.5387629419565201,
         0.580172099173069,
         0.5530265614390373,
         0.5557239726185799,
         0.5659584045410156,
         0.5731985762715339,
         0.6264215417206287,
         0.5592218212783336,
         0.5690621353685856,
         0.5432745292782784,
         0.5036875866353512,
         0.5720599979162216,
         0.590686435252428,
         0.546426172554493,
         0.5496250577270985,
         0.5595484115183353,
         0.5786069527268409,
         0.5760895416140557,
         0.5712255068123341,
         0.5307515099644661,
         0.5339020140469074,
         0.5591733887791633,
         0.5150836564600467,
         0.5377268061041832,
         0.5556594401597976,
         0.5677072279155254,
         0.541018258780241,
         0.5417934484779835,
         0.5464602783322334,
         0.5140907078981399,
         0.5346386961638927,
         0.5589093133807183,
         0.5657406449317932,
         0.5487917341291905,
         0.5192810401320458,
         0.5187588021159172,
         0.5647418677806855,
         0.5336769111454487,
         0.5782879836857319,
         0.6045493349432945
        ],
        [
         10.554805845022202,
         11.300561115145683,
         10.713347479701042,
         10.754273042082787,
         10.269406825304031,
         10.714904218912125,
         10.98746058344841,
         11.034100502729416,
         10.303812429308891,
         11.155091717839241,
         11.623117178678513,
         11.657875806093216,
         10.657281830906868,
         10.51837645471096,
         11.815430223941803,
         11.438162840902805,
         10.961005508899689,
         11.02040395885706,
         12.266203746199608,
         11.562811076641083,
         10.512933120131493,
         12.005054667592049,
         11.440274000167847,
         10.899014219641685,
         12.184629023075104,
         12.24098551273346,
         10.808639645576477,
         11.775478452444077,
         10.712251543998718,
         11.058556318283081,
         10.24384893476963,
         10.353443041443825,
         11.397153943777084,
         11.819020479917526,
         11.312704145908356,
         10.683668941259384,
         11.85000766813755,
         11.074550673365593,
         11.68327471613884,
         10.67590519785881,
         11.761183932423592,
         10.860407069325447,
         10.709540903568268,
         11.423016548156738,
         11.664965718984604,
         10.662738353013992,
         11.000462725758553,
         11.15803861618042,
         10.465519398450851,
         10.974440693855286,
         10.536824524402618,
         11.844280153512955,
         9.911923602223396,
         10.489203691482544,
         10.736240699887276,
         11.73257839679718,
         10.488852366805077,
         11.497465372085571,
         10.930395439267159,
         11.074229747056961,
         10.775258839130402,
         11.60344198346138,
         11.060531228780746,
         11.114479452371597,
         11.319168090820312,
         11.46397152543068,
         12.528430834412575,
         11.184436425566673,
         11.381242707371712,
         10.865490585565567,
         10.073751732707024,
         11.441199958324432,
         11.813728705048561,
         10.928523451089859,
         10.99250115454197,
         11.190968230366707,
         11.57213905453682,
         11.521790832281113,
         11.424510136246681,
         10.615030199289322,
         10.678040280938148,
         11.183467775583267,
         10.301673129200935,
         10.754536122083664,
         11.113188803195953,
         11.354144558310509,
         10.82036517560482,
         10.83586896955967,
         10.929205566644669,
         10.281814157962799,
         10.692773923277855,
         11.178186267614365,
         11.314812898635864,
         10.975834682583809,
         10.385620802640915,
         10.375176042318344,
         11.294837355613708,
         10.673538222908974,
         11.565759673714638,
         12.09098669886589
        ],
        [
         3.1573650285096524,
         3.246764316769266,
         3.1995759196216573,
         3.1443703590971714,
         3.1258136681886595,
         3.1886004891998665,
         3.2872415545129323,
         3.2357095108974336,
         3.149369347570438,
         3.3826863248975756,
         3.477509074473604,
         3.444800233930723,
         3.34896815451084,
         3.2593856863491633,
         3.447645294659104,
         3.3495607710316513,
         3.2767518181766633,
         3.2356972261910846,
         3.5016322295193656,
         3.4608945104489637,
         3.14269994932614,
         3.493179837682135,
         3.3135637196728243,
         3.324813356079868,
         3.4527786454864673,
         3.460408783977582,
         3.2165047559995723,
         3.4383973696336025,
         3.1661369692546084,
         3.3205867375694544,
         3.0294742149282468,
         3.1672147582990635,
         3.3842120171381715,
         3.506674719251854,
         3.363421630179896,
         3.2096431446421136,
         3.4978547342760584,
         3.2514711955385147,
         3.413359044377546,
         3.255503486306386,
         3.4546126899913485,
         3.2210043851774666,
         3.2620635081316482,
         3.341105164451781,
         3.5402641669560917,
         3.1229814149613513,
         3.296221238818425,
         3.3399506421122473,
         2.956722105540409,
         3.2962625447167433,
         3.144917649304754,
         3.459182798460494,
         3.049791768927721,
         3.1381701925952403,
         3.300665333514537,
         3.4511288693802498,
         3.1508623106027174,
         3.282078962356886,
         3.187013883480366,
         3.3269287644504373,
         3.3874537863221392,
         3.3818610539921266,
         3.239177938592742,
         3.259833580557442,
         3.380474175070893,
         3.361170261492091,
         3.7247691008858745,
         3.2791634537027674,
         3.2985197407329463,
         3.3113936001032758,
         3.0237625719472256,
         3.3317142730121025,
         3.3734731585000977,
         3.3416432003811614,
         3.1663726275277515,
         3.3907162030548585,
         3.408269616903372,
         3.458715204465492,
         3.4198951799129014,
         3.1133996343935135,
         3.189691619279677,
         3.31350422492332,
         3.290472963788566,
         3.2652964215489013,
         3.2031760518875765,
         3.4269301859891876,
         3.3299760205550215,
         3.2993244464915876,
         3.3383306558448096,
         3.1418708433278284,
         3.1977489193118673,
         3.306417276012709,
         3.4519268166137547,
         3.3528711785942784,
         3.2770982910760496,
         3.2833229634727035,
         3.217651380464816,
         3.2185285627908384,
         3.2736991313451185,
         3.6319969583404226
        ]
       ],
       "encoder": "json",
       "name": "ABC_GAN_2 Metrics",
       "version": 1
      }
     },
     "metadata": {
      "scrapbook": {
       "data": true,
       "display": false,
       "name": "ABC_GAN_2 Metrics"
      }
     },
     "output_type": "display_data"
    },
    {
     "name": "stdout",
     "output_type": "stream",
     "text": [
      "MAE\n",
      "0.5548162804096937\n"
     ]
    }
   ],
   "source": [
    "ABC_GAN2_metrics=ABC_train_test2.test_generator(gen2,test_data,prior_model,variance,bias,\"1\",device)\n",
    "sb.glue(\"ABC_GAN_2 Metrics\",ABC_GAN2_metrics)\n",
    "\n",
    "print(\"MAE\")\n",
    "print(mean(ABC_GAN2_metrics[1]))"
   ]
  },
  {
   "cell_type": "code",
   "execution_count": 18,
   "id": "cc1997b5",
   "metadata": {
    "execution": {
     "iopub.execute_input": "2022-07-22T11:55:19.514281Z",
     "iopub.status.busy": "2022-07-22T11:55:19.512194Z",
     "iopub.status.idle": "2022-07-22T11:55:20.956027Z",
     "shell.execute_reply": "2022-07-22T11:55:20.954456Z"
    },
    "papermill": {
     "duration": 1.480123,
     "end_time": "2022-07-22T11:55:20.959624",
     "exception": false,
     "start_time": "2022-07-22T11:55:19.479501",
     "status": "completed"
    },
    "tags": []
   },
   "outputs": [
    {
     "data": {
      "image/png": "[encoded data removed]",
      "text/plain": [
       "<Figure size 432x288 with 1 Axes>"
      ]
     },
     "metadata": {
      "needs_background": "light"
     },
     "output_type": "display_data"
    },
    {
     "data": {
      "image/png": "[encoded data removed]",
      "text/plain": [
       "<Figure size 432x288 with 1 Axes>"
      ]
     },
     "metadata": {
      "needs_background": "light"
     },
     "output_type": "display_data"
    },
    {
     "data": {
      "image/png": "[encoded data removed]",
      "text/plain": [
       "<Figure size 432x288 with 1 Axes>"
      ]
     },
     "metadata": {
      "needs_background": "light"
     },
     "output_type": "display_data"
    },
    {
     "data": {
      "image/png": "[encoded data removed]",
      "text/plain": [
       "<Figure size 432x288 with 1 Axes>"
      ]
     },
     "metadata": {
      "needs_background": "light"
     },
     "output_type": "display_data"
    }
   ],
   "source": [
    "sanityChecks.discProbVsError(train_data,disc2,device)\n",
    "sanityChecks.discProbVsError(test_data,disc2,device)"
   ]
  },
  {
   "cell_type": "markdown",
   "id": "130f3a4d",
   "metadata": {
    "id": "130f3a4d",
    "papermill": {
     "duration": 0.030891,
     "end_time": "2022-07-22T11:55:21.026623",
     "exception": false,
     "start_time": "2022-07-22T11:55:20.995732",
     "status": "completed"
    },
    "tags": []
   },
   "source": [
    "# skipGAN Model"
   ]
  },
  {
   "cell_type": "code",
   "execution_count": 19,
   "id": "4e43dad1",
   "metadata": {
    "execution": {
     "iopub.execute_input": "2022-07-22T11:55:21.108982Z",
     "iopub.status.busy": "2022-07-22T11:55:21.107241Z",
     "iopub.status.idle": "2022-07-22T11:55:21.114614Z",
     "shell.execute_reply": "2022-07-22T11:55:21.112701Z"
    },
    "id": "4e43dad1",
    "papermill": {
     "duration": 0.055064,
     "end_time": "2022-07-22T11:55:21.121842",
     "exception": false,
     "start_time": "2022-07-22T11:55:21.066778",
     "status": "completed"
    },
    "tags": []
   },
   "outputs": [],
   "source": [
    "# #Generator\n",
    "# gen3 = network.GeneratorWithSkipConnection(n_features+1).to(device)\n",
    "# constraints=network.weightConstraint()\n",
    "# #Discriminator \n",
    "# disc3 = network.Discriminator(n_features+1).to(device)\n",
    "\n",
    "# criterion = torch.nn.BCELoss()\n",
    "# gen_opt = torch.optim.Adam(gen3.parameters(), lr=0.01, betas=(0.5, 0.999))\n",
    "# disc_opt = torch.optim.Adam(disc3.parameters(), lr=0.01, betas=(0.5, 0.999))\n"
   ]
  },
  {
   "cell_type": "code",
   "execution_count": 20,
   "id": "26acbc37",
   "metadata": {
    "execution": {
     "iopub.execute_input": "2022-07-22T11:55:21.212900Z",
     "iopub.status.busy": "2022-07-22T11:55:21.212430Z",
     "iopub.status.idle": "2022-07-22T11:55:21.217427Z",
     "shell.execute_reply": "2022-07-22T11:55:21.216408Z"
    },
    "id": "26acbc37",
    "papermill": {
     "duration": 0.065192,
     "end_time": "2022-07-22T11:55:21.232784",
     "exception": false,
     "start_time": "2022-07-22T11:55:21.167592",
     "status": "completed"
    },
    "tags": []
   },
   "outputs": [],
   "source": [
    "# ABC_train_test2.training_GAN_skip_connection(disc3,gen3,disc_opt,gen_opt,train_data,batch_size,n_epochs,criterion,prior_model,variance,bias,device)"
   ]
  },
  {
   "cell_type": "code",
   "execution_count": 21,
   "id": "c5e0717b",
   "metadata": {
    "execution": {
     "iopub.execute_input": "2022-07-22T11:55:21.323416Z",
     "iopub.status.busy": "2022-07-22T11:55:21.322917Z",
     "iopub.status.idle": "2022-07-22T11:55:21.329519Z",
     "shell.execute_reply": "2022-07-22T11:55:21.327424Z"
    },
    "id": "c5e0717b",
    "papermill": {
     "duration": 0.066843,
     "end_time": "2022-07-22T11:55:21.340028",
     "exception": false,
     "start_time": "2022-07-22T11:55:21.273185",
     "status": "completed"
    },
    "tags": []
   },
   "outputs": [],
   "source": [
    "# ABC_GAN3_metrics=ABC_train_test2.test_generator(gen3,test_data,prior_model,variance,bias,\"3\",device)\n",
    "# sb.glue(\"ABC_GAN_3 Metrics\",ABC_GAN3_metrics)\n",
    "\n",
    "# print(\"MAE\")\n",
    "# print(mean(ABC_GAN3_metrics[1]))"
   ]
  },
  {
   "cell_type": "code",
   "execution_count": 22,
   "id": "c8e46b48",
   "metadata": {
    "execution": {
     "iopub.execute_input": "2022-07-22T11:55:21.422266Z",
     "iopub.status.busy": "2022-07-22T11:55:21.421281Z",
     "iopub.status.idle": "2022-07-22T11:55:21.428243Z",
     "shell.execute_reply": "2022-07-22T11:55:21.426870Z"
    },
    "id": "c8e46b48",
    "papermill": {
     "duration": 0.060762,
     "end_time": "2022-07-22T11:55:21.435644",
     "exception": false,
     "start_time": "2022-07-22T11:55:21.374882",
     "status": "completed"
    },
    "tags": []
   },
   "outputs": [],
   "source": [
    "# sanityChecks.discProbVsError(train_data,disc3,device)\n",
    "# sanityChecks.discProbVsError(test_data,disc3,device)"
   ]
  },
  {
   "cell_type": "markdown",
   "id": "524230c2",
   "metadata": {
    "id": "130f3a4d",
    "papermill": {
     "duration": 0.036807,
     "end_time": "2022-07-22T11:55:21.514358",
     "exception": false,
     "start_time": "2022-07-22T11:55:21.477551",
     "status": "completed"
    },
    "tags": []
   },
   "source": [
    "# skipGAN Model with TabNet Generator"
   ]
  },
  {
   "cell_type": "code",
   "execution_count": 23,
   "id": "1548baeb",
   "metadata": {
    "execution": {
     "iopub.execute_input": "2022-07-22T11:55:21.596874Z",
     "iopub.status.busy": "2022-07-22T11:55:21.596408Z",
     "iopub.status.idle": "2022-07-22T11:55:21.623508Z",
     "shell.execute_reply": "2022-07-22T11:55:21.621940Z"
    },
    "id": "4e43dad1",
    "papermill": {
     "duration": 0.073699,
     "end_time": "2022-07-22T11:55:21.627744",
     "exception": false,
     "start_time": "2022-07-22T11:55:21.554045",
     "status": "completed"
    },
    "tags": []
   },
   "outputs": [],
   "source": [
    "#Generator\n",
    "gen4 = network.GeneratorTabnetskipConnection(n_features+1).to(device)\n",
    "constraints=network.weightConstraint()\n",
    "#Discriminator \n",
    "disc4 = network.Discriminator(n_features+1).to(device)\n",
    "\n",
    "criterion = torch.nn.BCELoss()\n",
    "gen_opt = torch.optim.Adam(gen4.parameters(), lr=0.001, betas=(0.5, 0.999))\n",
    "disc_opt = torch.optim.Adam(disc4.parameters(), lr=0.001, betas=(0.5, 0.999))\n"
   ]
  },
  {
   "cell_type": "code",
   "execution_count": 24,
   "id": "a771f341",
   "metadata": {
    "execution": {
     "iopub.execute_input": "2022-07-22T11:55:21.718172Z",
     "iopub.status.busy": "2022-07-22T11:55:21.717303Z",
     "iopub.status.idle": "2022-07-22T11:58:34.273793Z",
     "shell.execute_reply": "2022-07-22T11:58:34.272688Z"
    },
    "id": "26acbc37",
    "papermill": {
     "duration": 192.604954,
     "end_time": "2022-07-22T11:58:34.276566",
     "exception": false,
     "start_time": "2022-07-22T11:55:21.671612",
     "status": "completed"
    },
    "tags": []
   },
   "outputs": [
    {
     "data": {
      "image/png": "[encoded data removed]",
      "text/plain": [
       "<Figure size 432x288 with 1 Axes>"
      ]
     },
     "metadata": {
      "needs_background": "light"
     },
     "output_type": "display_data"
    },
    {
     "data": {
      "image/png": "[encoded data removed]",
      "text/plain": [
       "<Figure size 432x288 with 1 Axes>"
      ]
     },
     "metadata": {
      "needs_background": "light"
     },
     "output_type": "display_data"
    }
   ],
   "source": [
    "ABC_train_test2.training_GAN_skip_connection(disc4,gen4,disc_opt,gen_opt,train_data,batch_size,n_epochs,criterion,prior_model,variance,bias,device)"
   ]
  },
  {
   "cell_type": "code",
   "execution_count": 25,
   "id": "d16f4cc2",
   "metadata": {
    "execution": {
     "iopub.execute_input": "2022-07-22T11:58:34.335339Z",
     "iopub.status.busy": "2022-07-22T11:58:34.334420Z",
     "iopub.status.idle": "2022-07-22T11:58:36.780151Z",
     "shell.execute_reply": "2022-07-22T11:58:36.778872Z"
    },
    "id": "c5e0717b",
    "papermill": {
     "duration": 2.478229,
     "end_time": "2022-07-22T11:58:36.784005",
     "exception": false,
     "start_time": "2022-07-22T11:58:34.305776",
     "status": "completed"
    },
    "tags": []
   },
   "outputs": [
    {
     "data": {
      "application/scrapbook.scrap.json+json": {
       "data": 0.21837237018269756,
       "encoder": "json",
       "name": "ABC-GAN Model 3 MSE",
       "version": 1
      }
     },
     "metadata": {
      "scrapbook": {
       "data": true,
       "display": false,
       "name": "ABC-GAN Model 3 MSE"
      }
     },
     "output_type": "display_data"
    },
    {
     "data": {
      "application/scrapbook.scrap.json+json": {
       "data": 0.34882197811827065,
       "encoder": "json",
       "name": "ABC-GAN Model 3 MAE",
       "version": 1
      }
     },
     "metadata": {
      "scrapbook": {
       "data": true,
       "display": false,
       "name": "ABC-GAN Model 3 MAE"
      }
     },
     "output_type": "display_data"
    },
    {
     "data": {
      "application/scrapbook.scrap.json+json": {
       "data": 6.976439562365413,
       "encoder": "json",
       "name": "ABC-GAN Model 3 Manhattan Distance",
       "version": 1
      }
     },
     "metadata": {
      "scrapbook": {
       "data": true,
       "display": false,
       "name": "ABC-GAN Model 3 Manhattan Distance"
      }
     },
     "output_type": "display_data"
    },
    {
     "data": {
      "application/scrapbook.scrap.json+json": {
       "data": 2.0873276524132174,
       "encoder": "json",
       "name": "ABC-GAN Model 3 Euclidean distance",
       "version": 1
      }
     },
     "metadata": {
      "scrapbook": {
       "data": true,
       "display": false,
       "name": "ABC-GAN Model 3 Euclidean distance"
      }
     },
     "output_type": "display_data"
    },
    {
     "data": {
      "application/scrapbook.scrap.json+json": {
       "data": [
        [
         0.20761275763113965,
         0.21527706011641282,
         0.2073261143460241,
         0.20214830231710681,
         0.19860821910172044,
         0.20501388516750368,
         0.21643271476216905,
         0.20838086854457732,
         0.22120370177199655,
         0.18029097190896254,
         0.2447598302476554,
         0.25711577712040146,
         0.23101577918108046,
         0.21454741284559872,
         0.21057407124893074,
         0.2038911201957852,
         0.23171410592474836,
         0.20958641405939957,
         0.2558491832287482,
         0.2225448451155027,
         0.21641603443252908,
         0.21552132666792315,
         0.1980109251634748,
         0.20464663761917556,
         0.1866924519327422,
         0.24637732618732683,
         0.2254022922067746,
         0.21030805301172015,
         0.20546905631442464,
         0.22017294947914237,
         0.21029610766447582,
         0.2411687845301982,
         0.21344861185033728,
         0.2128787671993974,
         0.25954101370111055,
         0.24206474876055872,
         0.20906340360192024,
         0.2518122867841337,
         0.2158579057357457,
         0.2352731496360702,
         0.2167282114884817,
         0.20084379436179947,
         0.2550967068860185,
         0.23842564406634956,
         0.23586733433953871,
         0.2051414531338403,
         0.18569975846977166,
         0.1801109244660881,
         0.23071023439921964,
         0.20800219865958874,
         0.2549374318545154,
         0.17432118748664888,
         0.2707258637587029,
         0.19123329604442066,
         0.2046420567675474,
         0.18877017068316132,
         0.21836359740679462,
         0.2285658692135284,
         0.2063087119742284,
         0.2125407957396181,
         0.22040875457177517,
         0.2610069614011884,
         0.24001735722655884,
         0.20331388590859795,
         0.2183697749534174,
         0.19847828192384945,
         0.21678113750747205,
         0.21814967533440663,
         0.21068935165415642,
         0.19000664514070217,
         0.20795332973902464,
         0.24567504060694273,
         0.2130175049240212,
         0.20829700779403854,
         0.257952127404769,
         0.2228076800871086,
         0.1897619999192131,
         0.2365149903202522,
         0.2508714226700621,
         0.24050116377817007,
         0.195427747144137,
         0.22399571771669957,
         0.20335763573845095,
         0.2322088247390862,
         0.21888199481086462,
         0.20770332064277247,
         0.23417178842785855,
         0.2552191655258719,
         0.18985996791268606,
         0.21562721358602427,
         0.2543190187863117,
         0.1959022432228978,
         0.17417547868985306,
         0.17798356766396334,
         0.21754291555783473,
         0.21252524780979237,
         0.2271883418568083,
         0.21452141707866135,
         0.24362779705960214,
         0.22107331291934465
        ],
        [
         0.35766859678551555,
         0.3491043020039797,
         0.34463114822283386,
         0.34876747727394103,
         0.3172538267448545,
         0.3449722893536091,
         0.342093707062304,
         0.3330378569662571,
         0.35873944982886313,
         0.329517437890172,
         0.3646824466064572,
         0.3769419053569436,
         0.34398893658071755,
         0.3643758982419968,
         0.3527363922446966,
         0.34267071839421986,
         0.325690983235836,
         0.3306394085288048,
         0.39503214247524737,
         0.36660659722983835,
         0.33872145507484674,
         0.35880821458995343,
         0.3390353940427303,
         0.34851206094026566,
         0.347264264896512,
         0.37400605948641896,
         0.34531810153275727,
         0.3554305125027895,
         0.34541548155248164,
         0.3600767433643341,
         0.32772014793008564,
         0.3564442850649357,
         0.3533043712377548,
         0.3435175731778145,
         0.3900292657315731,
         0.36304960269480946,
         0.3523433029651642,
         0.37055021449923514,
         0.3322884451597929,
         0.3616926189512014,
         0.337765589915216,
         0.3267212755978107,
         0.3583240184932947,
         0.3583002990111709,
         0.34253641590476036,
         0.348695308342576,
         0.3250262476503849,
         0.3152101108804345,
         0.37036036476492884,
         0.3431743685156107,
         0.3656908478587866,
         0.304171159863472,
         0.3877839144319296,
         0.3218536224216223,
         0.34219003058969977,
         0.3282894153147936,
         0.3497368486598134,
         0.358616429194808,
         0.3377236664295197,
         0.34575143121182916,
         0.32554397331550716,
         0.40448938459157946,
         0.36994766592979433,
         0.32141793593764306,
         0.34219458010047676,
         0.33451374592259525,
         0.33063007667660715,
         0.3640704557299614,
         0.3420966140925884,
         0.32556663230061533,
         0.3446385692805052,
         0.3378969268873334,
         0.3584598196670413,
         0.3337387078441679,
         0.3900239748880267,
         0.36356612108647823,
         0.33012419044971464,
         0.353209613263607,
         0.38778603859245775,
         0.36071003302931787,
         0.32620591204613447,
         0.3487688383087516,
         0.3263080928474665,
         0.3731441816315055,
         0.348834802210331,
         0.3607817079871893,
         0.3700016062706709,
         0.39032469540834425,
         0.29410887509584427,
         0.3358085624873638,
         0.36751783415675165,
         0.342499615252018,
         0.3435167036950588,
         0.32745340242981913,
         0.34346047732979057,
         0.3243473947048187,
         0.3616514798253775,
         0.34967639446258547,
         0.36536869052797555,
         0.34119248408824204
        ],
        [
         7.153371935710311,
         6.982086040079594,
         6.892622964456677,
         6.975349545478821,
         6.345076534897089,
         6.899445787072182,
         6.84187414124608,
         6.660757139325142,
         7.174788996577263,
         6.59034875780344,
         7.293648932129145,
         7.538838107138872,
         6.879778731614351,
         7.287517964839935,
         7.054727844893932,
         6.8534143678843975,
         6.513819664716721,
         6.612788170576096,
         7.900642849504948,
         7.332131944596767,
         6.774429101496935,
         7.1761642917990685,
         6.780707880854607,
         6.970241218805313,
         6.945285297930241,
         7.480121189728379,
         6.906362030655146,
         7.10861025005579,
         6.908309631049633,
         7.201534867286682,
         6.554402958601713,
         7.128885701298714,
         7.066087424755096,
         6.87035146355629,
         7.800585314631462,
         7.260992053896189,
         7.046866059303284,
         7.411004289984703,
         6.645768903195858,
         7.233852379024029,
         6.755311798304319,
         6.534425511956215,
         7.166480369865894,
         7.166005980223417,
         6.850728318095207,
         6.9739061668515205,
         6.500524953007698,
         6.30420221760869,
         7.407207295298576,
         6.863487370312214,
         7.313816957175732,
         6.08342319726944,
         7.755678288638592,
         6.4370724484324455,
         6.843800611793995,
         6.565788306295872,
         6.994736973196268,
         7.17232858389616,
         6.754473328590393,
         6.915028624236584,
         6.5108794663101435,
         8.089787691831589,
         7.398953318595886,
         6.428358718752861,
         6.843891602009535,
         6.690274918451905,
         6.612601533532143,
         7.281409114599228,
         6.8419322818517685,
         6.511332646012306,
         6.892771385610104,
         6.757938537746668,
         7.169196393340826,
         6.674774156883359,
         7.800479497760534,
         7.271322421729565,
         6.602483808994293,
         7.0641922652721405,
         7.755720771849155,
         7.214200660586357,
         6.524118240922689,
         6.975376766175032,
         6.526161856949329,
         7.46288363263011,
         6.976696044206619,
         7.215634159743786,
         7.400032125413418,
         7.806493908166885,
         5.882177501916885,
         6.716171249747276,
         7.350356683135033,
         6.8499923050403595,
         6.8703340739011765,
         6.549068048596382,
         6.869209546595812,
         6.4869478940963745,
         7.233029596507549,
         6.993527889251709,
         7.307373810559511,
         6.823849681764841
        ],
        [
         2.0377083090135333,
         2.0749798076916934,
         2.0363011287431148,
         2.010712820455009,
         1.9930289466122686,
         2.0249142459250153,
         2.0805418273236858,
         2.0414743130618977,
         2.1033482915199593,
         1.898899533461223,
         2.212509119744619,
         2.2676674232364915,
         2.1494919361611036,
         2.071460416448254,
         2.052189422294788,
         2.0193618803760023,
         2.152738283789966,
         2.0473710658275874,
         2.2620750793408617,
         2.109714886497712,
         2.080461652770986,
         2.0761566736059356,
         1.9900297744680846,
         2.0230997880439587,
         1.932317012980749,
         2.2198077672957486,
         2.1232159202811878,
         2.0508927471309666,
         2.02716085358032,
         2.098442038652211,
         2.050834501682063,
         2.1962184979195407,
         2.0661491323248535,
         2.063389285614314,
         2.278337173032607,
         2.200294292864292,
         2.0448149236638518,
         2.2441581351773485,
         2.0777772052640566,
         2.1692079182783295,
         2.081961630234725,
         2.004214531240603,
         2.2587461428235733,
         2.1836924878120985,
         2.171945369200334,
         2.025544139898414,
         1.927172843674234,
         1.8979511293291411,
         2.1480699914072616,
         2.039618585224153,
         2.258040884725143,
         1.8671967624578234,
         2.3269115314455036,
         1.9556753107017568,
         2.0230771451803187,
         1.943039735482326,
         2.0898018920787425,
         2.1380639336255984,
         2.0312986583672448,
         2.0617506917162323,
         2.0995654530010497,
         2.284762400781265,
         2.1909694531259847,
         2.0165013558567124,
         2.0898314523110106,
         1.9923768816358487,
         2.0822158269856277,
         2.08877799363363,
         2.0527510889250866,
         1.9493929575162734,
         2.039378972820033,
         2.2166417870596176,
         2.0640615539465927,
         2.0410634864895236,
         2.2713525811937214,
         2.1109603505850534,
         1.9481375717295384,
         2.1749252415669473,
         2.2399617080211978,
         2.1931765263114142,
         1.9770065611633008,
         2.11658081686809,
         2.0167183032761464,
         2.1550351493146747,
         2.092281027065268,
         2.0381526961578342,
         2.1641247118771068,
         2.2592882309518276,
         1.9486403871042295,
         2.076666625079838,
         2.255300506745439,
         1.9794051794561807,
         1.866416238087598,
         1.8867091331944272,
         2.085871115662877,
         2.0616752790378623,
         2.131611324124585,
         2.071334917769994,
         2.2073866768629467,
         2.102728289243975
        ]
       ],
       "encoder": "json",
       "name": "ABC_GAN_4 Metrics",
       "version": 1
      }
     },
     "metadata": {
      "scrapbook": {
       "data": true,
       "display": false,
       "name": "ABC_GAN_4 Metrics"
      }
     },
     "output_type": "display_data"
    },
    {
     "name": "stdout",
     "output_type": "stream",
     "text": [
      "MAE\n",
      "0.34882197811827065\n"
     ]
    }
   ],
   "source": [
    "ABC_GAN4_metrics=ABC_train_test2.test_generator(gen4,test_data,prior_model,variance,bias,\"3\",device)\n",
    "sb.glue(\"ABC_GAN_4 Metrics\",ABC_GAN4_metrics)\n",
    "\n",
    "print(\"MAE\")\n",
    "print(mean(ABC_GAN4_metrics[1]))"
   ]
  },
  {
   "cell_type": "code",
   "execution_count": 26,
   "id": "2c96ffe9",
   "metadata": {
    "execution": {
     "iopub.execute_input": "2022-07-22T11:58:36.867832Z",
     "iopub.status.busy": "2022-07-22T11:58:36.867280Z",
     "iopub.status.idle": "2022-07-22T11:58:38.162182Z",
     "shell.execute_reply": "2022-07-22T11:58:38.155426Z"
    },
    "id": "c8e46b48",
    "papermill": {
     "duration": 1.341005,
     "end_time": "2022-07-22T11:58:38.166582",
     "exception": false,
     "start_time": "2022-07-22T11:58:36.825577",
     "status": "completed"
    },
    "tags": []
   },
   "outputs": [
    {
     "data": {
      "image/png": "[encoded data removed]",
      "text/plain": [
       "<Figure size 432x288 with 1 Axes>"
      ]
     },
     "metadata": {
      "needs_background": "light"
     },
     "output_type": "display_data"
    },
    {
     "data": {
      "image/png": "[encoded data removed]",
      "text/plain": [
       "<Figure size 432x288 with 1 Axes>"
      ]
     },
     "metadata": {
      "needs_background": "light"
     },
     "output_type": "display_data"
    },
    {
     "data": {
      "image/png": "[encoded data removed]",
      "text/plain": [
       "<Figure size 432x288 with 1 Axes>"
      ]
     },
     "metadata": {
      "needs_background": "light"
     },
     "output_type": "display_data"
    },
    {
     "data": {
      "image/png": "[encoded data removed]",
      "text/plain": [
       "<Figure size 432x288 with 1 Axes>"
      ]
     },
     "metadata": {
      "needs_background": "light"
     },
     "output_type": "display_data"
    }
   ],
   "source": [
    "sanityChecks.discProbVsError(train_data,disc4,device)\n",
    "sanityChecks.discProbVsError(test_data,disc4,device)"
   ]
  },
  {
   "cell_type": "markdown",
   "id": "a5bd74c3",
   "metadata": {
    "id": "a5bd74c3",
    "papermill": {
     "duration": 0.0335,
     "end_time": "2022-07-22T11:58:38.242975",
     "exception": false,
     "start_time": "2022-07-22T11:58:38.209475",
     "status": "completed"
    },
    "tags": []
   },
   "source": [
    "## Skip Connection Model Analysis - ABC-GAN "
   ]
  },
  {
   "cell_type": "markdown",
   "id": "5744a8bf",
   "metadata": {
    "id": "5744a8bf",
    "papermill": {
     "duration": 0.045775,
     "end_time": "2022-07-22T11:58:38.324690",
     "exception": false,
     "start_time": "2022-07-22T11:58:38.278915",
     "status": "completed"
    },
    "tags": []
   },
   "source": [
    "### Weight Analysis \n",
    "\n",
    "Study the weights of the skip connection layer\n",
    "\n",
    "Equation of the skip connection is \n",
    "\n",
    "$output = y_{gan} * w + y_{abc} * (1-w)$"
   ]
  },
  {
   "cell_type": "code",
   "execution_count": 27,
   "id": "52c31dea",
   "metadata": {
    "execution": {
     "iopub.execute_input": "2022-07-22T11:58:38.427910Z",
     "iopub.status.busy": "2022-07-22T11:58:38.427121Z",
     "iopub.status.idle": "2022-07-22T11:58:38.435740Z",
     "shell.execute_reply": "2022-07-22T11:58:38.431195Z"
    },
    "id": "52c31dea",
    "papermill": {
     "duration": 0.076104,
     "end_time": "2022-07-22T11:58:38.453248",
     "exception": false,
     "start_time": "2022-07-22T11:58:38.377144",
     "status": "completed"
    },
    "tags": []
   },
   "outputs": [],
   "source": [
    "# print(\"Weight of the node at skip connection\")\n",
    "# for name,param in gen3.named_parameters():\n",
    "#     if(name == \"skipNode.weight\"):\n",
    "#         print(param)\n",
    "#         sb.glue(\"Skip Connection Weight\",param.item())"
   ]
  },
  {
   "cell_type": "markdown",
   "id": "d75696e4",
   "metadata": {
    "id": "a5bd74c3",
    "papermill": {
     "duration": 0.045346,
     "end_time": "2022-07-22T11:58:38.542624",
     "exception": false,
     "start_time": "2022-07-22T11:58:38.497278",
     "status": "completed"
    },
    "tags": []
   },
   "source": [
    "## skipGAN Model Analysis (TabNet Generator) "
   ]
  },
  {
   "cell_type": "markdown",
   "id": "de2f18f6",
   "metadata": {
    "id": "5744a8bf",
    "papermill": {
     "duration": 0.045294,
     "end_time": "2022-07-22T11:58:38.632784",
     "exception": false,
     "start_time": "2022-07-22T11:58:38.587490",
     "status": "completed"
    },
    "tags": []
   },
   "source": [
    "### Weight Analysis \n",
    "\n",
    "Study the weights of the skip connection layer\n",
    "\n",
    "Equation of the skip connection is \n",
    "\n",
    "$output = y_{gan} * w + y_{abc} * (1-w)$"
   ]
  },
  {
   "cell_type": "code",
   "execution_count": 28,
   "id": "db00b2e3",
   "metadata": {
    "execution": {
     "iopub.execute_input": "2022-07-22T11:58:38.717204Z",
     "iopub.status.busy": "2022-07-22T11:58:38.716704Z",
     "iopub.status.idle": "2022-07-22T11:58:38.742777Z",
     "shell.execute_reply": "2022-07-22T11:58:38.741548Z"
    },
    "id": "52c31dea",
    "papermill": {
     "duration": 0.078304,
     "end_time": "2022-07-22T11:58:38.750702",
     "exception": false,
     "start_time": "2022-07-22T11:58:38.672398",
     "status": "completed"
    },
    "tags": []
   },
   "outputs": [
    {
     "name": "stdout",
     "output_type": "stream",
     "text": [
      "Weight of the node at skip connection\n",
      "Parameter containing:\n",
      "tensor([[0.1562]], requires_grad=True)\n"
     ]
    },
    {
     "data": {
      "application/scrapbook.scrap.json+json": {
       "data": 0.1562023162841797,
       "encoder": "json",
       "name": "Skip Connection Weight",
       "version": 1
      }
     },
     "metadata": {
      "scrapbook": {
       "data": true,
       "display": false,
       "name": "Skip Connection Weight"
      }
     },
     "output_type": "display_data"
    }
   ],
   "source": [
    "print(\"Weight of the node at skip connection\")\n",
    "for name,param in gen4.named_parameters():\n",
    "    if(name == \"skipNode.weight\"):\n",
    "        print(param)\n",
    "        sb.glue(\"Skip Connection Weight\",param.item())"
   ]
  }
 ],
 "metadata": {
  "colab": {
   "collapsed_sections": [],
   "name": "ABC_GAN_Model-Catboost_Pre-gen.ipynb",
   "provenance": []
  },
  "interpreter": {
   "hash": "31f2aee4e71d21fbe5cf8b01ff0e069b9275f58929596ceb00d14d90e3e16cd6"
  },
  "kernelspec": {
   "display_name": "Python 3 (ipykernel)",
   "language": "python",
   "name": "python3"
  },
  "language_info": {
   "codemirror_mode": {
    "name": "ipython",
    "version": 3
   },
   "file_extension": ".py",
   "mimetype": "text/x-python",
   "name": "python",
   "nbconvert_exporter": "python",
   "pygments_lexer": "ipython3",
   "version": "3.8.13"
  },
  "papermill": {
   "default_parameters": {},
   "duration": 419.785621,
   "end_time": "2022-07-22T11:58:39.788209",
   "environment_variables": {},
   "exception": null,
   "input_path": "ABC_GAN-TabNet.ipynb",
   "output_path": "./ABC_GAN_TabNet/ABC-GAN_output_3_4.ipynb",
   "parameters": {
    "bias": 0.1,
    "variance": 0.1
   },
   "start_time": "2022-07-22T11:51:40.002588",
   "version": "2.3.3"
  }
 },
 "nbformat": 4,
 "nbformat_minor": 5
}