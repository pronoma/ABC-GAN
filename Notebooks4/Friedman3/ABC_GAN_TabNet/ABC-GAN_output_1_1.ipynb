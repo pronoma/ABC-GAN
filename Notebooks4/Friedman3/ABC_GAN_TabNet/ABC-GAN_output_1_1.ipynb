{
 "cells": [
  {
   "cell_type": "markdown",
   "id": "622780e6",
   "metadata": {
    "id": "622780e6",
    "papermill": {
     "duration": 0.018237,
     "end_time": "2022-07-22T08:10:40.143661",
     "exception": false,
     "start_time": "2022-07-22T08:10:40.125424",
     "status": "completed"
    },
    "tags": []
   },
   "source": [
    "## Import Libraries "
   ]
  },
  {
   "cell_type": "code",
   "execution_count": 1,
   "id": "a62397e3",
   "metadata": {
    "execution": {
     "iopub.execute_input": "2022-07-22T08:10:40.189352Z",
     "iopub.status.busy": "2022-07-22T08:10:40.187753Z",
     "iopub.status.idle": "2022-07-22T08:10:40.222828Z",
     "shell.execute_reply": "2022-07-22T08:10:40.219360Z"
    },
    "id": "a62397e3",
    "papermill": {
     "duration": 0.067136,
     "end_time": "2022-07-22T08:10:40.232184",
     "exception": false,
     "start_time": "2022-07-22T08:10:40.165048",
     "status": "completed"
    },
    "tags": []
   },
   "outputs": [],
   "source": [
    "import warnings\n",
    "import sys\n",
    "sys.path.insert(0, '../../src')\n",
    "warnings.filterwarnings('ignore')"
   ]
  },
  {
   "cell_type": "code",
   "execution_count": 2,
   "id": "d6a4e155",
   "metadata": {
    "execution": {
     "iopub.execute_input": "2022-07-22T08:10:40.262028Z",
     "iopub.status.busy": "2022-07-22T08:10:40.261002Z",
     "iopub.status.idle": "2022-07-22T08:10:52.165599Z",
     "shell.execute_reply": "2022-07-22T08:10:52.162705Z"
    },
    "id": "d6a4e155",
    "papermill": {
     "duration": 11.924792,
     "end_time": "2022-07-22T08:10:52.170558",
     "exception": false,
     "start_time": "2022-07-22T08:10:40.245766",
     "status": "completed"
    },
    "tags": []
   },
   "outputs": [],
   "source": [
    "import ABC_train_test2\n",
    "import friedman3Dataset\n",
    "import network\n",
    "import dataset\n",
    "import sanityChecks\n",
    "import torch \n",
    "import scrapbook as sb\n",
    "from statistics import mean \n",
    "import catboost as ctb \n",
    "from sklearn.model_selection import train_test_split\n",
    "from sklearn.metrics import mean_squared_error,mean_absolute_error\n",
    "import numpy as np\n",
    "from pytorch_tabnet.tab_model import TabNetRegressor"
   ]
  },
  {
   "cell_type": "markdown",
   "id": "2fa5b0f7",
   "metadata": {
    "id": "2fa5b0f7",
    "papermill": {
     "duration": 0.009671,
     "end_time": "2022-07-22T08:10:52.192346",
     "exception": false,
     "start_time": "2022-07-22T08:10:52.182675",
     "status": "completed"
    },
    "tags": []
   },
   "source": [
    "## Parameters "
   ]
  },
  {
   "cell_type": "code",
   "execution_count": 3,
   "id": "783186fb",
   "metadata": {
    "execution": {
     "iopub.execute_input": "2022-07-22T08:10:52.233588Z",
     "iopub.status.busy": "2022-07-22T08:10:52.232193Z",
     "iopub.status.idle": "2022-07-22T08:10:52.255765Z",
     "shell.execute_reply": "2022-07-22T08:10:52.243840Z"
    },
    "id": "783186fb",
    "papermill": {
     "duration": 0.066347,
     "end_time": "2022-07-22T08:10:52.267773",
     "exception": false,
     "start_time": "2022-07-22T08:10:52.201426",
     "status": "completed"
    },
    "tags": [
     "parameters"
    ]
   },
   "outputs": [],
   "source": [
    "variance = 1\n",
    "bias = 1 "
   ]
  },
  {
   "cell_type": "code",
   "execution_count": 4,
   "id": "3b07f4fe",
   "metadata": {
    "execution": {
     "iopub.execute_input": "2022-07-22T08:10:52.316537Z",
     "iopub.status.busy": "2022-07-22T08:10:52.316007Z",
     "iopub.status.idle": "2022-07-22T08:10:52.338301Z",
     "shell.execute_reply": "2022-07-22T08:10:52.330787Z"
    },
    "papermill": {
     "duration": 0.069507,
     "end_time": "2022-07-22T08:10:52.352994",
     "exception": false,
     "start_time": "2022-07-22T08:10:52.283487",
     "status": "completed"
    },
    "tags": [
     "injected-parameters"
    ]
   },
   "outputs": [],
   "source": [
    "# Parameters\n",
    "variance = 0.1\n",
    "bias = 1\n"
   ]
  },
  {
   "cell_type": "markdown",
   "id": "391cdbfd",
   "metadata": {
    "id": "391cdbfd",
    "papermill": {
     "duration": 0.016475,
     "end_time": "2022-07-22T08:10:52.390567",
     "exception": false,
     "start_time": "2022-07-22T08:10:52.374092",
     "status": "completed"
    },
    "tags": []
   },
   "source": [
    "## Dataset \n"
   ]
  },
  {
   "cell_type": "code",
   "execution_count": 5,
   "id": "5b51f161",
   "metadata": {
    "execution": {
     "iopub.execute_input": "2022-07-22T08:10:52.430762Z",
     "iopub.status.busy": "2022-07-22T08:10:52.428513Z",
     "iopub.status.idle": "2022-07-22T08:10:52.436948Z",
     "shell.execute_reply": "2022-07-22T08:10:52.435874Z"
    },
    "id": "5b51f161",
    "papermill": {
     "duration": 0.037246,
     "end_time": "2022-07-22T08:10:52.449973",
     "exception": false,
     "start_time": "2022-07-22T08:10:52.412727",
     "status": "completed"
    },
    "tags": []
   },
   "outputs": [],
   "source": [
    "#Parameters \n",
    "n_features = 4\n",
    "n_samples= 100\n",
    "n_target = 1"
   ]
  },
  {
   "cell_type": "code",
   "execution_count": 6,
   "id": "5d6eced4",
   "metadata": {
    "execution": {
     "iopub.execute_input": "2022-07-22T08:10:52.476897Z",
     "iopub.status.busy": "2022-07-22T08:10:52.476042Z",
     "iopub.status.idle": "2022-07-22T08:10:52.498644Z",
     "shell.execute_reply": "2022-07-22T08:10:52.497067Z"
    },
    "id": "5d6eced4",
    "papermill": {
     "duration": 0.052389,
     "end_time": "2022-07-22T08:10:52.514016",
     "exception": false,
     "start_time": "2022-07-22T08:10:52.461627",
     "status": "completed"
    },
    "tags": []
   },
   "outputs": [
    {
     "name": "stdout",
     "output_type": "stream",
     "text": [
      "          X1           X2        X3        X4         Y\n",
      "0  58.295179   141.340524  0.369760  6.348929  0.682429\n",
      "1  98.946578  1066.988356  0.442212  8.785213  1.354229\n",
      "2  60.521762   720.270409  0.553093  8.682135  1.275102\n",
      "3  82.564169  1591.214139  0.000746  2.446109 -0.114179\n",
      "4  97.139301   753.020466  0.720125  8.216632  1.322340\n"
     ]
    }
   ],
   "source": [
    "X,Y = friedman3Dataset.friedman3_data(n_samples)"
   ]
  },
  {
   "cell_type": "code",
   "execution_count": 7,
   "id": "fe007438",
   "metadata": {
    "execution": {
     "iopub.execute_input": "2022-07-22T08:10:52.542249Z",
     "iopub.status.busy": "2022-07-22T08:10:52.540893Z",
     "iopub.status.idle": "2022-07-22T08:10:52.556825Z",
     "shell.execute_reply": "2022-07-22T08:10:52.551152Z"
    },
    "id": "fe007438",
    "papermill": {
     "duration": 0.043589,
     "end_time": "2022-07-22T08:10:52.568906",
     "exception": false,
     "start_time": "2022-07-22T08:10:52.525317",
     "status": "completed"
    },
    "tags": []
   },
   "outputs": [],
   "source": [
    "#Train test split for dataset \n",
    "X_train,X_test,Y_train,Y_test = train_test_split(X,Y,test_size = 0.2)\n",
    "train_data = dataset.CustomDataset(X_train,Y_train)\n",
    "test_data = dataset.CustomDataset(X_test,Y_test)\n"
   ]
  },
  {
   "cell_type": "markdown",
   "id": "a9a1af34",
   "metadata": {
    "id": "a9a1af34",
    "papermill": {
     "duration": 0.010581,
     "end_time": "2022-07-22T08:10:52.587502",
     "exception": false,
     "start_time": "2022-07-22T08:10:52.576921",
     "status": "completed"
    },
    "tags": []
   },
   "source": [
    "## Training Parameters "
   ]
  },
  {
   "cell_type": "code",
   "execution_count": 8,
   "id": "952b7fc8",
   "metadata": {
    "execution": {
     "iopub.execute_input": "2022-07-22T08:10:52.610187Z",
     "iopub.status.busy": "2022-07-22T08:10:52.609021Z",
     "iopub.status.idle": "2022-07-22T08:10:52.617861Z",
     "shell.execute_reply": "2022-07-22T08:10:52.616750Z"
    },
    "id": "952b7fc8",
    "papermill": {
     "duration": 0.030435,
     "end_time": "2022-07-22T08:10:52.625901",
     "exception": false,
     "start_time": "2022-07-22T08:10:52.595466",
     "status": "completed"
    },
    "tags": []
   },
   "outputs": [],
   "source": [
    "batch_size = 32\n",
    "n_epochs = 1000\n",
    "#Select the device \n",
    "device = torch.device('cuda' if torch.cuda.is_available() else 'cpu')"
   ]
  },
  {
   "cell_type": "markdown",
   "id": "a95e1600",
   "metadata": {
    "id": "a95e1600",
    "papermill": {
     "duration": 0.029882,
     "end_time": "2022-07-22T08:10:52.667098",
     "exception": false,
     "start_time": "2022-07-22T08:10:52.637216",
     "status": "completed"
    },
    "tags": []
   },
   "source": [
    "# ABC Pre-generator Model \n",
    "\n",
    "1. The catboost model is used as a pre-generator model for the ABC-GAN. \n",
    "2. The model is first trained on the entire dataset \n",
    "3. It generats X,Y pairs and we add some Gaussian noise with mean 0 and variance 1 to it which is then feed as input to the generator.\n"
   ]
  },
  {
   "cell_type": "code",
   "execution_count": 9,
   "id": "ac011ebf",
   "metadata": {
    "execution": {
     "iopub.execute_input": "2022-07-22T08:10:52.703396Z",
     "iopub.status.busy": "2022-07-22T08:10:52.702786Z",
     "iopub.status.idle": "2022-07-22T08:11:28.183070Z",
     "shell.execute_reply": "2022-07-22T08:11:28.181472Z"
    },
    "papermill": {
     "duration": 35.502139,
     "end_time": "2022-07-22T08:11:28.186252",
     "exception": false,
     "start_time": "2022-07-22T08:10:52.684113",
     "status": "completed"
    },
    "tags": []
   },
   "outputs": [
    {
     "name": "stdout",
     "output_type": "stream",
     "text": [
      "Device used : cpu\n"
     ]
    },
    {
     "name": "stdout",
     "output_type": "stream",
     "text": [
      "epoch 0  | loss: 1.46201 | train_mse: 6.29213 | train_mae: 1.72392 |  0:00:00s\n",
      "epoch 1  | loss: 1.62312 | train_mse: 4.64296 | train_mae: 1.47358 |  0:00:00s\n"
     ]
    },
    {
     "name": "stdout",
     "output_type": "stream",
     "text": [
      "epoch 2  | loss: 1.19371 | train_mse: 3.83818 | train_mae: 1.33875 |  0:00:00s\n"
     ]
    },
    {
     "name": "stdout",
     "output_type": "stream",
     "text": [
      "epoch 3  | loss: 1.18447 | train_mse: 3.35496 | train_mae: 1.29145 |  0:00:01s\n"
     ]
    },
    {
     "name": "stdout",
     "output_type": "stream",
     "text": [
      "epoch 4  | loss: 1.16822 | train_mse: 2.88556 | train_mae: 1.21828 |  0:00:01s\n"
     ]
    },
    {
     "name": "stdout",
     "output_type": "stream",
     "text": [
      "epoch 5  | loss: 0.96653 | train_mse: 2.51929 | train_mae: 1.14694 |  0:00:02s\n"
     ]
    },
    {
     "name": "stdout",
     "output_type": "stream",
     "text": [
      "epoch 6  | loss: 1.06982 | train_mse: 2.19604 | train_mae: 1.07672 |  0:00:02s\n"
     ]
    },
    {
     "name": "stdout",
     "output_type": "stream",
     "text": [
      "epoch 7  | loss: 1.05942 | train_mse: 1.87282 | train_mae: 1.00693 |  0:00:02s\n"
     ]
    },
    {
     "name": "stdout",
     "output_type": "stream",
     "text": [
      "epoch 8  | loss: 1.01549 | train_mse: 1.67498 | train_mae: 0.95104 |  0:00:03s\n"
     ]
    },
    {
     "name": "stdout",
     "output_type": "stream",
     "text": [
      "epoch 9  | loss: 0.84845 | train_mse: 1.50281 | train_mae: 0.89488 |  0:00:03s\n"
     ]
    },
    {
     "name": "stdout",
     "output_type": "stream",
     "text": [
      "epoch 10 | loss: 0.90658 | train_mse: 1.35606 | train_mae: 0.84085 |  0:00:03s\n"
     ]
    },
    {
     "name": "stdout",
     "output_type": "stream",
     "text": [
      "epoch 11 | loss: 0.95409 | train_mse: 1.2697  | train_mae: 0.81018 |  0:00:04s\n"
     ]
    },
    {
     "name": "stdout",
     "output_type": "stream",
     "text": [
      "epoch 12 | loss: 0.85465 | train_mse: 1.21992 | train_mae: 0.78767 |  0:00:04s\n"
     ]
    },
    {
     "name": "stdout",
     "output_type": "stream",
     "text": [
      "epoch 13 | loss: 0.83187 | train_mse: 1.13105 | train_mae: 0.75756 |  0:00:04s\n"
     ]
    },
    {
     "name": "stdout",
     "output_type": "stream",
     "text": [
      "epoch 14 | loss: 0.9241  | train_mse: 1.07923 | train_mae: 0.73819 |  0:00:04s\n",
      "epoch 15 | loss: 0.67901 | train_mse: 1.02788 | train_mae: 0.7194  |  0:00:04s\n"
     ]
    },
    {
     "name": "stdout",
     "output_type": "stream",
     "text": [
      "epoch 16 | loss: 0.94964 | train_mse: 0.99079 | train_mae: 0.7038  |  0:00:05s\n"
     ]
    },
    {
     "name": "stdout",
     "output_type": "stream",
     "text": [
      "epoch 17 | loss: 0.79516 | train_mse: 0.94677 | train_mae: 0.69027 |  0:00:05s\n"
     ]
    },
    {
     "name": "stdout",
     "output_type": "stream",
     "text": [
      "epoch 18 | loss: 0.7397  | train_mse: 0.90687 | train_mae: 0.67747 |  0:00:06s\n"
     ]
    },
    {
     "name": "stdout",
     "output_type": "stream",
     "text": [
      "epoch 19 | loss: 0.85139 | train_mse: 0.86493 | train_mae: 0.65661 |  0:00:06s\n"
     ]
    },
    {
     "name": "stdout",
     "output_type": "stream",
     "text": [
      "epoch 20 | loss: 0.67776 | train_mse: 0.83813 | train_mae: 0.64094 |  0:00:06s\n",
      "epoch 21 | loss: 0.64462 | train_mse: 0.81249 | train_mae: 0.63517 |  0:00:06s\n"
     ]
    },
    {
     "name": "stdout",
     "output_type": "stream",
     "text": [
      "epoch 22 | loss: 0.55606 | train_mse: 0.7946  | train_mae: 0.63895 |  0:00:07s\n",
      "epoch 23 | loss: 0.62919 | train_mse: 0.75333 | train_mae: 0.62359 |  0:00:07s\n"
     ]
    },
    {
     "name": "stdout",
     "output_type": "stream",
     "text": [
      "epoch 24 | loss: 0.70702 | train_mse: 0.71874 | train_mae: 0.61167 |  0:00:07s\n",
      "epoch 25 | loss: 0.49623 | train_mse: 0.6848  | train_mae: 0.59792 |  0:00:07s\n",
      "epoch 26 | loss: 0.59697 | train_mse: 0.65367 | train_mae: 0.58369 |  0:00:07s"
     ]
    },
    {
     "name": "stdout",
     "output_type": "stream",
     "text": [
      "\n",
      "epoch 27 | loss: 0.56249 | train_mse: 0.62405 | train_mae: 0.57153 |  0:00:07s\n"
     ]
    },
    {
     "name": "stdout",
     "output_type": "stream",
     "text": [
      "epoch 28 | loss: 0.52755 | train_mse: 0.60279 | train_mae: 0.56029 |  0:00:07s\n",
      "epoch 29 | loss: 0.40154 | train_mse: 0.57735 | train_mae: 0.54649 |  0:00:07s\n"
     ]
    },
    {
     "name": "stdout",
     "output_type": "stream",
     "text": [
      "epoch 30 | loss: 0.80194 | train_mse: 0.56614 | train_mae: 0.53647 |  0:00:08s\n",
      "epoch 31 | loss: 0.50265 | train_mse: 0.54765 | train_mae: 0.52803 |  0:00:08s\n"
     ]
    },
    {
     "name": "stdout",
     "output_type": "stream",
     "text": [
      "epoch 32 | loss: 0.60675 | train_mse: 0.52509 | train_mae: 0.51799 |  0:00:08s\n",
      "epoch 33 | loss: 0.48181 | train_mse: 0.50071 | train_mae: 0.50606 |  0:00:08s\n"
     ]
    },
    {
     "name": "stdout",
     "output_type": "stream",
     "text": [
      "epoch 34 | loss: 0.80808 | train_mse: 0.4786  | train_mae: 0.49661 |  0:00:08s\n",
      "epoch 35 | loss: 0.45373 | train_mse: 0.4646  | train_mae: 0.49069 |  0:00:08s\n"
     ]
    },
    {
     "name": "stdout",
     "output_type": "stream",
     "text": [
      "epoch 36 | loss: 0.45181 | train_mse: 0.45653 | train_mae: 0.48819 |  0:00:08s\n",
      "epoch 37 | loss: 0.42883 | train_mse: 0.44817 | train_mae: 0.48386 |  0:00:09s\n"
     ]
    },
    {
     "name": "stdout",
     "output_type": "stream",
     "text": [
      "epoch 38 | loss: 0.49547 | train_mse: 0.43953 | train_mae: 0.47826 |  0:00:09s\n",
      "epoch 39 | loss: 0.4658  | train_mse: 0.42677 | train_mae: 0.47395 |  0:00:09s\n"
     ]
    },
    {
     "name": "stdout",
     "output_type": "stream",
     "text": [
      "epoch 40 | loss: 0.4381  | train_mse: 0.4107  | train_mae: 0.46641 |  0:00:09s\n",
      "epoch 41 | loss: 0.4403  | train_mse: 0.39542 | train_mae: 0.46035 |  0:00:09s\n",
      "epoch 42 | loss: 0.54525 | train_mse: 0.38774 | train_mae: 0.45807 |  0:00:09s\n"
     ]
    },
    {
     "name": "stdout",
     "output_type": "stream",
     "text": [
      "epoch 43 | loss: 0.72522 | train_mse: 0.37658 | train_mae: 0.45138 |  0:00:09s\n",
      "epoch 44 | loss: 0.52676 | train_mse: 0.36647 | train_mae: 0.44511 |  0:00:09s\n",
      "epoch 45 | loss: 0.46205 | train_mse: 0.35648 | train_mae: 0.43824 |  0:00:10s\n"
     ]
    },
    {
     "name": "stdout",
     "output_type": "stream",
     "text": [
      "epoch 46 | loss: 0.34427 | train_mse: 0.34302 | train_mae: 0.42966 |  0:00:10s\n"
     ]
    },
    {
     "name": "stdout",
     "output_type": "stream",
     "text": [
      "epoch 47 | loss: 0.41057 | train_mse: 0.33286 | train_mae: 0.42289 |  0:00:10s\n",
      "epoch 48 | loss: 0.35069 | train_mse: 0.32494 | train_mae: 0.4192  |  0:00:10s\n",
      "epoch 49 | loss: 0.48991 | train_mse: 0.32256 | train_mae: 0.41657 |  0:00:10s\n"
     ]
    },
    {
     "name": "stdout",
     "output_type": "stream",
     "text": [
      "epoch 50 | loss: 0.40277 | train_mse: 0.32104 | train_mae: 0.41252 |  0:00:10s\n",
      "epoch 51 | loss: 0.48884 | train_mse: 0.32639 | train_mae: 0.41168 |  0:00:10s\n",
      "epoch 52 | loss: 0.57927 | train_mse: 0.32004 | train_mae: 0.40597 |  0:00:11s\n"
     ]
    },
    {
     "name": "stdout",
     "output_type": "stream",
     "text": [
      "epoch 53 | loss: 0.3561  | train_mse: 0.30387 | train_mae: 0.3956  |  0:00:11s\n"
     ]
    },
    {
     "name": "stdout",
     "output_type": "stream",
     "text": [
      "epoch 54 | loss: 0.3713  | train_mse: 0.28558 | train_mae: 0.38493 |  0:00:11s\n",
      "epoch 55 | loss: 0.2967  | train_mse: 0.26879 | train_mae: 0.37349 |  0:00:11s\n"
     ]
    },
    {
     "name": "stdout",
     "output_type": "stream",
     "text": [
      "epoch 56 | loss: 0.26238 | train_mse: 0.26026 | train_mae: 0.36796 |  0:00:11s\n",
      "epoch 57 | loss: 0.4057  | train_mse: 0.24906 | train_mae: 0.36144 |  0:00:11s\n"
     ]
    },
    {
     "name": "stdout",
     "output_type": "stream",
     "text": [
      "epoch 58 | loss: 0.2864  | train_mse: 0.24348 | train_mae: 0.35955 |  0:00:11s\n",
      "epoch 59 | loss: 0.39433 | train_mse: 0.24276 | train_mae: 0.36062 |  0:00:11s\n"
     ]
    },
    {
     "name": "stdout",
     "output_type": "stream",
     "text": [
      "epoch 60 | loss: 0.38099 | train_mse: 0.23748 | train_mae: 0.35824 |  0:00:12s\n"
     ]
    },
    {
     "name": "stdout",
     "output_type": "stream",
     "text": [
      "epoch 61 | loss: 0.35928 | train_mse: 0.22691 | train_mae: 0.35024 |  0:00:12s\n",
      "epoch 62 | loss: 0.3447  | train_mse: 0.21862 | train_mae: 0.3433  |  0:00:12s\n"
     ]
    },
    {
     "name": "stdout",
     "output_type": "stream",
     "text": [
      "epoch 63 | loss: 0.30092 | train_mse: 0.20991 | train_mae: 0.33652 |  0:00:12s\n",
      "epoch 64 | loss: 0.48553 | train_mse: 0.2088  | train_mae: 0.33666 |  0:00:12s\n"
     ]
    },
    {
     "name": "stdout",
     "output_type": "stream",
     "text": [
      "epoch 65 | loss: 0.47428 | train_mse: 0.20805 | train_mae: 0.33573 |  0:00:13s\n",
      "epoch 66 | loss: 0.38502 | train_mse: 0.20466 | train_mae: 0.33265 |  0:00:13s\n"
     ]
    },
    {
     "name": "stdout",
     "output_type": "stream",
     "text": [
      "epoch 67 | loss: 0.35001 | train_mse: 0.20658 | train_mae: 0.33286 |  0:00:13s\n",
      "epoch 68 | loss: 0.25964 | train_mse: 0.20868 | train_mae: 0.33465 |  0:00:13s\n"
     ]
    },
    {
     "name": "stdout",
     "output_type": "stream",
     "text": [
      "epoch 69 | loss: 0.41932 | train_mse: 0.20769 | train_mae: 0.33072 |  0:00:13s\n",
      "epoch 70 | loss: 0.42299 | train_mse: 0.2102  | train_mae: 0.32831 |  0:00:13s\n"
     ]
    },
    {
     "name": "stdout",
     "output_type": "stream",
     "text": [
      "epoch 71 | loss: 0.28995 | train_mse: 0.21358 | train_mae: 0.32867 |  0:00:13s\n",
      "epoch 72 | loss: 0.22998 | train_mse: 0.20837 | train_mae: 0.32546 |  0:00:13s\n"
     ]
    },
    {
     "name": "stdout",
     "output_type": "stream",
     "text": [
      "epoch 73 | loss: 0.40392 | train_mse: 0.19805 | train_mae: 0.3191  |  0:00:14s\n",
      "epoch 74 | loss: 0.28847 | train_mse: 0.18627 | train_mae: 0.30893 |  0:00:14s\n"
     ]
    },
    {
     "name": "stdout",
     "output_type": "stream",
     "text": [
      "epoch 75 | loss: 0.41755 | train_mse: 0.17528 | train_mae: 0.29708 |  0:00:14s\n",
      "epoch 76 | loss: 0.40062 | train_mse: 0.1728  | train_mae: 0.29304 |  0:00:14s\n"
     ]
    },
    {
     "name": "stdout",
     "output_type": "stream",
     "text": [
      "epoch 77 | loss: 0.26562 | train_mse: 0.16886 | train_mae: 0.29011 |  0:00:14s\n",
      "epoch 78 | loss: 0.28264 | train_mse: 0.16272 | train_mae: 0.28611 |  0:00:14s\n"
     ]
    },
    {
     "name": "stdout",
     "output_type": "stream",
     "text": [
      "epoch 79 | loss: 0.48506 | train_mse: 0.16218 | train_mae: 0.28669 |  0:00:14s\n",
      "epoch 80 | loss: 0.28055 | train_mse: 0.16117 | train_mae: 0.2881  |  0:00:14s\n",
      "epoch 81 | loss: 0.40249 | train_mse: 0.16344 | train_mae: 0.29365 |  0:00:15s\n"
     ]
    },
    {
     "name": "stdout",
     "output_type": "stream",
     "text": [
      "epoch 82 | loss: 0.19236 | train_mse: 0.16308 | train_mae: 0.29472 |  0:00:15s\n",
      "epoch 83 | loss: 0.18487 | train_mse: 0.15911 | train_mae: 0.29243 |  0:00:15s\n"
     ]
    },
    {
     "name": "stdout",
     "output_type": "stream",
     "text": [
      "epoch 84 | loss: 0.43863 | train_mse: 0.15952 | train_mae: 0.29197 |  0:00:15s\n",
      "epoch 85 | loss: 0.34685 | train_mse: 0.1555  | train_mae: 0.28861 |  0:00:15s\n",
      "epoch 86 | loss: 0.25509 | train_mse: 0.15651 | train_mae: 0.28837 |  0:00:15s"
     ]
    },
    {
     "name": "stdout",
     "output_type": "stream",
     "text": [
      "\n",
      "epoch 87 | loss: 0.37509 | train_mse: 0.15765 | train_mae: 0.2893  |  0:00:15s\n"
     ]
    },
    {
     "name": "stdout",
     "output_type": "stream",
     "text": [
      "epoch 88 | loss: 0.30471 | train_mse: 0.16043 | train_mae: 0.29131 |  0:00:15s\n",
      "epoch 89 | loss: 0.33701 | train_mse: 0.16402 | train_mae: 0.29259 |  0:00:16s\n"
     ]
    },
    {
     "name": "stdout",
     "output_type": "stream",
     "text": [
      "epoch 90 | loss: 0.21988 | train_mse: 0.16756 | train_mae: 0.29479 |  0:00:16s\n"
     ]
    },
    {
     "name": "stdout",
     "output_type": "stream",
     "text": [
      "epoch 91 | loss: 0.19944 | train_mse: 0.17425 | train_mae: 0.29903 |  0:00:16s\n",
      "epoch 92 | loss: 0.38747 | train_mse: 0.18553 | train_mae: 0.30737 |  0:00:16s\n"
     ]
    },
    {
     "name": "stdout",
     "output_type": "stream",
     "text": [
      "epoch 93 | loss: 0.24231 | train_mse: 0.18123 | train_mae: 0.30451 |  0:00:16s\n",
      "epoch 94 | loss: 0.31001 | train_mse: 0.17745 | train_mae: 0.30021 |  0:00:16s\n"
     ]
    },
    {
     "name": "stdout",
     "output_type": "stream",
     "text": [
      "epoch 95 | loss: 0.25292 | train_mse: 0.16944 | train_mae: 0.29462 |  0:00:17s\n",
      "epoch 96 | loss: 0.2075  | train_mse: 0.16095 | train_mae: 0.28985 |  0:00:17s\n",
      "epoch 97 | loss: 0.38937 | train_mse: 0.1558  | train_mae: 0.28294 |  0:00:17s\n"
     ]
    },
    {
     "name": "stdout",
     "output_type": "stream",
     "text": [
      "epoch 98 | loss: 0.26828 | train_mse: 0.15853 | train_mae: 0.28725 |  0:00:17s\n",
      "epoch 99 | loss: 0.39997 | train_mse: 0.16222 | train_mae: 0.29187 |  0:00:17s\n",
      "epoch 100| loss: 0.29155 | train_mse: 0.16265 | train_mae: 0.29212 |  0:00:17s\n"
     ]
    },
    {
     "name": "stdout",
     "output_type": "stream",
     "text": [
      "epoch 101| loss: 0.27698 | train_mse: 0.16389 | train_mae: 0.29084 |  0:00:17s\n",
      "epoch 102| loss: 0.24594 | train_mse: 0.16314 | train_mae: 0.2883  |  0:00:17s\n",
      "epoch 103| loss: 0.20746 | train_mse: 0.15741 | train_mae: 0.28331 |  0:00:17s\n"
     ]
    },
    {
     "name": "stdout",
     "output_type": "stream",
     "text": [
      "epoch 104| loss: 0.31413 | train_mse: 0.15361 | train_mae: 0.28025 |  0:00:17s\n",
      "epoch 105| loss: 0.26939 | train_mse: 0.14937 | train_mae: 0.27484 |  0:00:17s\n",
      "epoch 106| loss: 0.27    | train_mse: 0.14482 | train_mae: 0.27006 |  0:00:18s\n"
     ]
    },
    {
     "name": "stdout",
     "output_type": "stream",
     "text": [
      "epoch 107| loss: 0.34106 | train_mse: 0.14231 | train_mae: 0.27122 |  0:00:18s\n",
      "epoch 108| loss: 0.1915  | train_mse: 0.14191 | train_mae: 0.26986 |  0:00:18s\n"
     ]
    },
    {
     "name": "stdout",
     "output_type": "stream",
     "text": [
      "epoch 109| loss: 0.18674 | train_mse: 0.14771 | train_mae: 0.27516 |  0:00:18s\n",
      "epoch 110| loss: 0.17219 | train_mse: 0.14761 | train_mae: 0.27419 |  0:00:18s\n",
      "epoch 111| loss: 0.17767 | train_mse: 0.15144 | train_mae: 0.27781 |  0:00:18s\n"
     ]
    },
    {
     "name": "stdout",
     "output_type": "stream",
     "text": [
      "epoch 112| loss: 0.26605 | train_mse: 0.15174 | train_mae: 0.27741 |  0:00:18s\n",
      "epoch 113| loss: 0.19786 | train_mse: 0.14296 | train_mae: 0.27175 |  0:00:18s\n",
      "epoch 114| loss: 0.22902 | train_mse: 0.13675 | train_mae: 0.26806 |  0:00:18s\n"
     ]
    },
    {
     "name": "stdout",
     "output_type": "stream",
     "text": [
      "epoch 115| loss: 0.2438  | train_mse: 0.13246 | train_mae: 0.26374 |  0:00:18s\n",
      "epoch 116| loss: 0.37255 | train_mse: 0.13075 | train_mae: 0.26497 |  0:00:19s\n",
      "epoch 117| loss: 0.37563 | train_mse: 0.13219 | train_mae: 0.26601 |  0:00:19s\n"
     ]
    },
    {
     "name": "stdout",
     "output_type": "stream",
     "text": [
      "epoch 118| loss: 0.17934 | train_mse: 0.13793 | train_mae: 0.27351 |  0:00:19s\n",
      "epoch 119| loss: 0.27612 | train_mse: 0.14514 | train_mae: 0.27898 |  0:00:19s\n"
     ]
    },
    {
     "name": "stdout",
     "output_type": "stream",
     "text": [
      "epoch 120| loss: 0.1486  | train_mse: 0.14772 | train_mae: 0.28113 |  0:00:19s\n",
      "epoch 121| loss: 0.23267 | train_mse: 0.14808 | train_mae: 0.27946 |  0:00:19s\n",
      "epoch 122| loss: 0.17622 | train_mse: 0.14655 | train_mae: 0.27659 |  0:00:19s\n"
     ]
    },
    {
     "name": "stdout",
     "output_type": "stream",
     "text": [
      "epoch 123| loss: 0.13924 | train_mse: 0.14307 | train_mae: 0.27111 |  0:00:19s\n",
      "epoch 124| loss: 0.19611 | train_mse: 0.14003 | train_mae: 0.2656  |  0:00:19s\n",
      "epoch 125| loss: 0.28947 | train_mse: 0.13461 | train_mae: 0.25916 |  0:00:19s\n"
     ]
    },
    {
     "name": "stdout",
     "output_type": "stream",
     "text": [
      "epoch 126| loss: 0.2132  | train_mse: 0.12735 | train_mae: 0.24702 |  0:00:20s\n",
      "epoch 127| loss: 0.29353 | train_mse: 0.12428 | train_mae: 0.24364 |  0:00:20s\n"
     ]
    },
    {
     "name": "stdout",
     "output_type": "stream",
     "text": [
      "epoch 128| loss: 0.38625 | train_mse: 0.12135 | train_mae: 0.24042 |  0:00:20s\n",
      "epoch 129| loss: 0.21227 | train_mse: 0.12181 | train_mae: 0.23966 |  0:00:20s\n"
     ]
    },
    {
     "name": "stdout",
     "output_type": "stream",
     "text": [
      "epoch 130| loss: 0.42442 | train_mse: 0.12439 | train_mae: 0.24119 |  0:00:20s\n",
      "epoch 131| loss: 0.32734 | train_mse: 0.12756 | train_mae: 0.24147 |  0:00:20s\n",
      "epoch 132| loss: 0.23898 | train_mse: 0.12971 | train_mae: 0.24258 |  0:00:20s\n"
     ]
    },
    {
     "name": "stdout",
     "output_type": "stream",
     "text": [
      "epoch 133| loss: 0.24034 | train_mse: 0.13044 | train_mae: 0.24589 |  0:00:20s\n",
      "epoch 134| loss: 0.18253 | train_mse: 0.12419 | train_mae: 0.2448  |  0:00:20s\n"
     ]
    },
    {
     "name": "stdout",
     "output_type": "stream",
     "text": [
      "epoch 135| loss: 0.18067 | train_mse: 0.12218 | train_mae: 0.24491 |  0:00:21s\n",
      "epoch 136| loss: 0.23313 | train_mse: 0.12473 | train_mae: 0.24727 |  0:00:21s\n"
     ]
    },
    {
     "name": "stdout",
     "output_type": "stream",
     "text": [
      "epoch 137| loss: 0.22093 | train_mse: 0.13178 | train_mae: 0.24962 |  0:00:21s\n",
      "epoch 138| loss: 0.31452 | train_mse: 0.13582 | train_mae: 0.25131 |  0:00:21s\n"
     ]
    },
    {
     "name": "stdout",
     "output_type": "stream",
     "text": [
      "epoch 139| loss: 0.19535 | train_mse: 0.13538 | train_mae: 0.25159 |  0:00:21s\n",
      "epoch 140| loss: 0.16449 | train_mse: 0.13068 | train_mae: 0.24846 |  0:00:21s\n"
     ]
    },
    {
     "name": "stdout",
     "output_type": "stream",
     "text": [
      "epoch 141| loss: 0.41081 | train_mse: 0.12851 | train_mae: 0.24904 |  0:00:22s\n",
      "epoch 142| loss: 0.2961  | train_mse: 0.12123 | train_mae: 0.24688 |  0:00:22s\n"
     ]
    },
    {
     "name": "stdout",
     "output_type": "stream",
     "text": [
      "epoch 143| loss: 0.34669 | train_mse: 0.11808 | train_mae: 0.24481 |  0:00:22s\n",
      "epoch 144| loss: 0.16974 | train_mse: 0.11727 | train_mae: 0.24005 |  0:00:22s\n"
     ]
    },
    {
     "name": "stdout",
     "output_type": "stream",
     "text": [
      "epoch 145| loss: 0.20665 | train_mse: 0.11629 | train_mae: 0.23366 |  0:00:22s\n"
     ]
    },
    {
     "name": "stdout",
     "output_type": "stream",
     "text": [
      "epoch 146| loss: 0.37544 | train_mse: 0.11447 | train_mae: 0.23176 |  0:00:22s\n",
      "epoch 147| loss: 0.33905 | train_mse: 0.11901 | train_mae: 0.23401 |  0:00:23s\n"
     ]
    },
    {
     "name": "stdout",
     "output_type": "stream",
     "text": [
      "epoch 148| loss: 0.1826  | train_mse: 0.11948 | train_mae: 0.23475 |  0:00:23s\n",
      "epoch 149| loss: 0.21136 | train_mse: 0.11537 | train_mae: 0.23489 |  0:00:23s\n"
     ]
    },
    {
     "name": "stdout",
     "output_type": "stream",
     "text": [
      "epoch 150| loss: 0.16146 | train_mse: 0.11204 | train_mae: 0.23458 |  0:00:23s\n"
     ]
    },
    {
     "name": "stdout",
     "output_type": "stream",
     "text": [
      "epoch 151| loss: 0.3663  | train_mse: 0.10939 | train_mae: 0.23344 |  0:00:23s\n",
      "epoch 152| loss: 0.20351 | train_mse: 0.10441 | train_mae: 0.23034 |  0:00:23s\n"
     ]
    },
    {
     "name": "stdout",
     "output_type": "stream",
     "text": [
      "epoch 153| loss: 0.25158 | train_mse: 0.0972  | train_mae: 0.22616 |  0:00:23s\n",
      "epoch 154| loss: 0.40126 | train_mse: 0.09148 | train_mae: 0.2205  |  0:00:24s\n"
     ]
    },
    {
     "name": "stdout",
     "output_type": "stream",
     "text": [
      "epoch 155| loss: 0.15459 | train_mse: 0.0896  | train_mae: 0.21753 |  0:00:24s\n",
      "epoch 156| loss: 0.20329 | train_mse: 0.08853 | train_mae: 0.21704 |  0:00:24s\n"
     ]
    },
    {
     "name": "stdout",
     "output_type": "stream",
     "text": [
      "epoch 157| loss: 0.16861 | train_mse: 0.09274 | train_mae: 0.22172 |  0:00:24s\n",
      "epoch 158| loss: 0.29721 | train_mse: 0.09872 | train_mae: 0.22778 |  0:00:24s\n",
      "epoch 159| loss: 0.24638 | train_mse: 0.1025  | train_mae: 0.23184 |  0:00:24s\n"
     ]
    },
    {
     "name": "stdout",
     "output_type": "stream",
     "text": [
      "epoch 160| loss: 0.18292 | train_mse: 0.11139 | train_mae: 0.23799 |  0:00:24s\n",
      "epoch 161| loss: 0.16407 | train_mse: 0.11261 | train_mae: 0.23957 |  0:00:24s\n",
      "epoch 162| loss: 0.21821 | train_mse: 0.11439 | train_mae: 0.24101 |  0:00:24s\n"
     ]
    },
    {
     "name": "stdout",
     "output_type": "stream",
     "text": [
      "epoch 163| loss: 0.1225  | train_mse: 0.11975 | train_mae: 0.24687 |  0:00:25s\n",
      "epoch 164| loss: 0.30649 | train_mse: 0.11931 | train_mae: 0.24772 |  0:00:25s\n",
      "epoch 165| loss: 0.27533 | train_mse: 0.11843 | train_mae: 0.2493  |  0:00:25s\n"
     ]
    },
    {
     "name": "stdout",
     "output_type": "stream",
     "text": [
      "epoch 166| loss: 0.27575 | train_mse: 0.11191 | train_mae: 0.24438 |  0:00:25s\n",
      "epoch 167| loss: 0.29846 | train_mse: 0.11007 | train_mae: 0.24249 |  0:00:25s\n",
      "epoch 168| loss: 0.24164 | train_mse: 0.11194 | train_mae: 0.24214 |  0:00:25s\n"
     ]
    },
    {
     "name": "stdout",
     "output_type": "stream",
     "text": [
      "epoch 169| loss: 0.27917 | train_mse: 0.11012 | train_mae: 0.24099 |  0:00:25s\n"
     ]
    },
    {
     "name": "stdout",
     "output_type": "stream",
     "text": [
      "epoch 170| loss: 0.28225 | train_mse: 0.10961 | train_mae: 0.24079 |  0:00:25s\n",
      "epoch 171| loss: 0.32327 | train_mse: 0.10808 | train_mae: 0.2384  |  0:00:25s\n"
     ]
    },
    {
     "name": "stdout",
     "output_type": "stream",
     "text": [
      "epoch 172| loss: 0.19362 | train_mse: 0.1073  | train_mae: 0.2371  |  0:00:26s\n",
      "epoch 173| loss: 0.26925 | train_mse: 0.10819 | train_mae: 0.23699 |  0:00:26s\n"
     ]
    },
    {
     "name": "stdout",
     "output_type": "stream",
     "text": [
      "epoch 174| loss: 0.22331 | train_mse: 0.10441 | train_mae: 0.23255 |  0:00:26s\n",
      "epoch 175| loss: 0.25164 | train_mse: 0.09967 | train_mae: 0.2294  |  0:00:26s\n"
     ]
    },
    {
     "name": "stdout",
     "output_type": "stream",
     "text": [
      "epoch 176| loss: 0.20798 | train_mse: 0.09297 | train_mae: 0.22203 |  0:00:26s\n",
      "epoch 177| loss: 0.22923 | train_mse: 0.09085 | train_mae: 0.21916 |  0:00:26s\n"
     ]
    },
    {
     "name": "stdout",
     "output_type": "stream",
     "text": [
      "epoch 178| loss: 0.19545 | train_mse: 0.08506 | train_mae: 0.21603 |  0:00:26s\n",
      "epoch 179| loss: 0.21969 | train_mse: 0.07977 | train_mae: 0.21325 |  0:00:26s\n",
      "epoch 180| loss: 0.35168 | train_mse: 0.07811 | train_mae: 0.21389 |  0:00:27s\n"
     ]
    },
    {
     "name": "stdout",
     "output_type": "stream",
     "text": [
      "epoch 181| loss: 0.25493 | train_mse: 0.07986 | train_mae: 0.21547 |  0:00:27s\n",
      "epoch 182| loss: 0.212   | train_mse: 0.08161 | train_mae: 0.21581 |  0:00:27s\n",
      "epoch 183| loss: 0.22709 | train_mse: 0.08273 | train_mae: 0.21863 |  0:00:27s\n"
     ]
    },
    {
     "name": "stdout",
     "output_type": "stream",
     "text": [
      "epoch 184| loss: 0.1867  | train_mse: 0.0833  | train_mae: 0.21674 |  0:00:27s\n",
      "epoch 185| loss: 0.44146 | train_mse: 0.08154 | train_mae: 0.21633 |  0:00:27s\n",
      "epoch 186| loss: 0.14067 | train_mse: 0.08161 | train_mae: 0.21745 |  0:00:27s\n"
     ]
    },
    {
     "name": "stdout",
     "output_type": "stream",
     "text": [
      "epoch 187| loss: 0.16679 | train_mse: 0.0782  | train_mae: 0.21377 |  0:00:27s\n",
      "epoch 188| loss: 0.12934 | train_mse: 0.07686 | train_mae: 0.21189 |  0:00:27s\n",
      "epoch 189| loss: 0.30024 | train_mse: 0.08055 | train_mae: 0.21568 |  0:00:27s\n"
     ]
    },
    {
     "name": "stdout",
     "output_type": "stream",
     "text": [
      "epoch 190| loss: 0.30662 | train_mse: 0.08478 | train_mae: 0.21912 |  0:00:27s\n",
      "epoch 191| loss: 0.20852 | train_mse: 0.08722 | train_mae: 0.22043 |  0:00:28s\n",
      "epoch 192| loss: 0.14331 | train_mse: 0.08315 | train_mae: 0.2143  |  0:00:28s\n"
     ]
    },
    {
     "name": "stdout",
     "output_type": "stream",
     "text": [
      "epoch 193| loss: 0.17517 | train_mse: 0.07829 | train_mae: 0.207   |  0:00:28s\n",
      "epoch 194| loss: 0.17827 | train_mse: 0.07008 | train_mae: 0.19767 |  0:00:28s\n"
     ]
    },
    {
     "name": "stdout",
     "output_type": "stream",
     "text": [
      "epoch 195| loss: 0.33209 | train_mse: 0.06678 | train_mae: 0.1945  |  0:00:28s\n",
      "epoch 196| loss: 0.19358 | train_mse: 0.06603 | train_mae: 0.19386 |  0:00:28s\n",
      "epoch 197| loss: 0.36741 | train_mse: 0.06613 | train_mae: 0.1934  |  0:00:28s\n"
     ]
    },
    {
     "name": "stdout",
     "output_type": "stream",
     "text": [
      "epoch 198| loss: 0.19778 | train_mse: 0.06473 | train_mae: 0.19028 |  0:00:28s\n",
      "epoch 199| loss: 0.22405 | train_mse: 0.06304 | train_mae: 0.19099 |  0:00:28s\n",
      "epoch 200| loss: 0.21669 | train_mse: 0.065   | train_mae: 0.19293 |  0:00:28s\n"
     ]
    },
    {
     "name": "stdout",
     "output_type": "stream",
     "text": [
      "epoch 201| loss: 0.1824  | train_mse: 0.06447 | train_mae: 0.19174 |  0:00:28s\n",
      "epoch 202| loss: 0.43801 | train_mse: 0.06869 | train_mae: 0.19961 |  0:00:29s\n",
      "epoch 203| loss: 0.31706 | train_mse: 0.07793 | train_mae: 0.20727 |  0:00:29s\n"
     ]
    },
    {
     "name": "stdout",
     "output_type": "stream",
     "text": [
      "epoch 204| loss: 0.16645 | train_mse: 0.07993 | train_mae: 0.20872 |  0:00:29s\n",
      "epoch 205| loss: 0.34239 | train_mse: 0.07906 | train_mae: 0.2068  |  0:00:29s\n"
     ]
    },
    {
     "name": "stdout",
     "output_type": "stream",
     "text": [
      "epoch 206| loss: 0.16759 | train_mse: 0.08226 | train_mae: 0.2123  |  0:00:29s\n",
      "epoch 207| loss: 0.19697 | train_mse: 0.08008 | train_mae: 0.21272 |  0:00:29s\n",
      "epoch 208| loss: 0.1693  | train_mse: 0.07708 | train_mae: 0.20952 |  0:00:29s\n"
     ]
    },
    {
     "name": "stdout",
     "output_type": "stream",
     "text": [
      "epoch 209| loss: 0.30452 | train_mse: 0.07631 | train_mae: 0.20936 |  0:00:29s\n",
      "epoch 210| loss: 0.17682 | train_mse: 0.07772 | train_mae: 0.21118 |  0:00:29s\n",
      "epoch 211| loss: 0.19761 | train_mse: 0.07958 | train_mae: 0.21369 |  0:00:29s\n"
     ]
    },
    {
     "name": "stdout",
     "output_type": "stream",
     "text": [
      "epoch 212| loss: 0.16965 | train_mse: 0.08093 | train_mae: 0.21471 |  0:00:29s\n",
      "epoch 213| loss: 0.18523 | train_mse: 0.078   | train_mae: 0.21022 |  0:00:30s\n",
      "epoch 214| loss: 0.20649 | train_mse: 0.07994 | train_mae: 0.2106  |  0:00:30s\n"
     ]
    },
    {
     "name": "stdout",
     "output_type": "stream",
     "text": [
      "epoch 215| loss: 0.13806 | train_mse: 0.08526 | train_mae: 0.21681 |  0:00:30s\n",
      "epoch 216| loss: 0.13474 | train_mse: 0.09009 | train_mae: 0.22116 |  0:00:30s\n"
     ]
    },
    {
     "name": "stdout",
     "output_type": "stream",
     "text": [
      "epoch 217| loss: 0.25932 | train_mse: 0.08926 | train_mae: 0.21869 |  0:00:30s\n",
      "epoch 218| loss: 0.18403 | train_mse: 0.09654 | train_mae: 0.22348 |  0:00:30s\n",
      "epoch 219| loss: 0.22339 | train_mse: 0.10065 | train_mae: 0.22664 |  0:00:30s\n"
     ]
    },
    {
     "name": "stdout",
     "output_type": "stream",
     "text": [
      "epoch 220| loss: 0.22473 | train_mse: 0.10224 | train_mae: 0.22827 |  0:00:30s\n",
      "epoch 221| loss: 0.34848 | train_mse: 0.10012 | train_mae: 0.22599 |  0:00:30s\n"
     ]
    },
    {
     "name": "stdout",
     "output_type": "stream",
     "text": [
      "epoch 222| loss: 0.22123 | train_mse: 0.10079 | train_mae: 0.22696 |  0:00:31s\n",
      "epoch 223| loss: 0.15116 | train_mse: 0.09867 | train_mae: 0.22396 |  0:00:31s\n"
     ]
    },
    {
     "name": "stdout",
     "output_type": "stream",
     "text": [
      "epoch 224| loss: 0.33093 | train_mse: 0.1024  | train_mae: 0.22708 |  0:00:31s\n",
      "epoch 225| loss: 0.16371 | train_mse: 0.09806 | train_mae: 0.22328 |  0:00:31s\n"
     ]
    },
    {
     "name": "stdout",
     "output_type": "stream",
     "text": [
      "epoch 226| loss: 0.16552 | train_mse: 0.09943 | train_mae: 0.22429 |  0:00:31s\n",
      "epoch 227| loss: 0.20657 | train_mse: 0.09554 | train_mae: 0.22156 |  0:00:31s\n"
     ]
    },
    {
     "name": "stdout",
     "output_type": "stream",
     "text": [
      "epoch 228| loss: 0.2792  | train_mse: 0.09645 | train_mae: 0.21841 |  0:00:31s\n",
      "epoch 229| loss: 0.39374 | train_mse: 0.10315 | train_mae: 0.22287 |  0:00:32s\n"
     ]
    },
    {
     "name": "stdout",
     "output_type": "stream",
     "text": [
      "epoch 230| loss: 0.23996 | train_mse: 0.09698 | train_mae: 0.22092 |  0:00:32s\n",
      "epoch 231| loss: 0.25676 | train_mse: 0.0874  | train_mae: 0.21664 |  0:00:32s\n"
     ]
    },
    {
     "name": "stdout",
     "output_type": "stream",
     "text": [
      "epoch 232| loss: 0.16354 | train_mse: 0.06939 | train_mae: 0.2     |  0:00:32s\n"
     ]
    },
    {
     "name": "stdout",
     "output_type": "stream",
     "text": [
      "epoch 233| loss: 0.21955 | train_mse: 0.07133 | train_mae: 0.20584 |  0:00:32s\n",
      "epoch 234| loss: 0.13783 | train_mse: 0.07292 | train_mae: 0.20912 |  0:00:33s\n"
     ]
    },
    {
     "name": "stdout",
     "output_type": "stream",
     "text": [
      "epoch 235| loss: 0.13604 | train_mse: 0.07519 | train_mae: 0.21143 |  0:00:33s\n"
     ]
    },
    {
     "name": "stdout",
     "output_type": "stream",
     "text": [
      "epoch 236| loss: 0.12431 | train_mse: 0.07517 | train_mae: 0.21229 |  0:00:33s\n",
      "epoch 237| loss: 0.22914 | train_mse: 0.07642 | train_mae: 0.21289 |  0:00:33s\n"
     ]
    },
    {
     "name": "stdout",
     "output_type": "stream",
     "text": [
      "epoch 238| loss: 0.14379 | train_mse: 0.07533 | train_mae: 0.20991 |  0:00:34s\n",
      "epoch 239| loss: 0.23594 | train_mse: 0.07466 | train_mae: 0.20522 |  0:00:34s\n"
     ]
    },
    {
     "name": "stdout",
     "output_type": "stream",
     "text": [
      "epoch 240| loss: 0.1451  | train_mse: 0.07619 | train_mae: 0.20498 |  0:00:34s\n",
      "epoch 241| loss: 0.26165 | train_mse: 0.07699 | train_mae: 0.20575 |  0:00:34s\n"
     ]
    },
    {
     "name": "stdout",
     "output_type": "stream",
     "text": [
      "epoch 242| loss: 0.25359 | train_mse: 0.07586 | train_mae: 0.2055  |  0:00:34s\n",
      "epoch 243| loss: 0.23466 | train_mse: 0.07867 | train_mae: 0.20997 |  0:00:34s\n"
     ]
    },
    {
     "name": "stdout",
     "output_type": "stream",
     "text": [
      "epoch 244| loss: 0.17374 | train_mse: 0.08481 | train_mae: 0.21648 |  0:00:34s\n",
      "epoch 245| loss: 0.14499 | train_mse: 0.10606 | train_mae: 0.2262  |  0:00:35s\n"
     ]
    },
    {
     "name": "stdout",
     "output_type": "stream",
     "text": [
      "epoch 246| loss: 0.23261 | train_mse: 0.11281 | train_mae: 0.22645 |  0:00:35s\n",
      "epoch 247| loss: 0.23527 | train_mse: 0.0969  | train_mae: 0.22132 |  0:00:35s\n"
     ]
    },
    {
     "name": "stdout",
     "output_type": "stream",
     "text": [
      "epoch 248| loss: 0.18595 | train_mse: 0.08355 | train_mae: 0.21527 |  0:00:35s\n",
      "\n",
      "Early stopping occurred at epoch 248 with best_epoch = 198 and best_train_mae = 0.19028\n",
      "Best weights from best epoch are automatically used!\n"
     ]
    }
   ],
   "source": [
    "#Train the Model\n",
    "\n",
    "Y_train = np.reshape(Y_train, (-1, 1))\n",
    "Y_test = np.reshape(Y_test, (-1, 1))\n",
    "\n",
    "prior_model = TabNetRegressor(optimizer_fn=torch.optim.Adam, optimizer_params=dict(lr = 0.001),\n",
    "          #scheduler_params={\"step_size\":10, ], \"gamma\":0.9},\n",
    "          #scheduler_fn=torch.optim.lr_scheduler.StepLR\n",
    "          )  #TabNetRegressor()\n",
    "\n",
    "prior_model.fit(X_train,Y_train,eval_set=[(X_train, Y_train)],\n",
    "            eval_name=['train'], \n",
    "            eval_metric=[ 'mse', 'mae'], \n",
    "            max_epochs = n_epochs, \n",
    "            batch_size = batch_size,\n",
    "            patience=50\n",
    "            )"
   ]
  },
  {
   "cell_type": "code",
   "execution_count": 10,
   "id": "af65dcda",
   "metadata": {
    "execution": {
     "iopub.execute_input": "2022-07-22T08:11:28.233739Z",
     "iopub.status.busy": "2022-07-22T08:11:28.233265Z",
     "iopub.status.idle": "2022-07-22T08:11:28.305044Z",
     "shell.execute_reply": "2022-07-22T08:11:28.302932Z"
    },
    "id": "af65dcda",
    "papermill": {
     "duration": 0.100249,
     "end_time": "2022-07-22T08:11:28.309807",
     "exception": false,
     "start_time": "2022-07-22T08:11:28.209558",
     "status": "completed"
    },
    "tags": []
   },
   "outputs": [
    {
     "data": {
      "application/scrapbook.scrap.json+json": {
       "data": 0.2460420815339872,
       "encoder": "json",
       "name": "Prior Model MSE",
       "version": 1
      }
     },
     "metadata": {
      "scrapbook": {
       "data": true,
       "display": false,
       "name": "Prior Model MSE"
      }
     },
     "output_type": "display_data"
    },
    {
     "data": {
      "application/scrapbook.scrap.json+json": {
       "data": 1.1620575833921987,
       "encoder": "json",
       "name": "ABC Pre-generator MSE",
       "version": 1
      }
     },
     "metadata": {
      "scrapbook": {
       "data": true,
       "display": false,
       "name": "ABC Pre-generator MSE"
      }
     },
     "output_type": "display_data"
    },
    {
     "data": {
      "application/scrapbook.scrap.json+json": {
       "data": 0.3695081475913037,
       "encoder": "json",
       "name": "Prior Model MAE",
       "version": 1
      }
     },
     "metadata": {
      "scrapbook": {
       "data": true,
       "display": false,
       "name": "Prior Model MAE"
      }
     },
     "output_type": "display_data"
    },
    {
     "name": "stdout",
     "output_type": "stream",
     "text": [
      "Prior Model MAE 0.3695081475913037\n"
     ]
    },
    {
     "data": {
      "application/scrapbook.scrap.json+json": {
       "data": 0.9528766908690909,
       "encoder": "json",
       "name": "ABC Pre-generator MAE",
       "version": 1
      }
     },
     "metadata": {
      "scrapbook": {
       "data": true,
       "display": false,
       "name": "ABC Pre-generator MAE"
      }
     },
     "output_type": "display_data"
    },
    {
     "name": "stdout",
     "output_type": "stream",
     "text": [
      "ABC Pre-generator MAE 0.9528766908690909\n"
     ]
    }
   ],
   "source": [
    "y_pred = prior_model.predict(X_test)\n",
    "y_abc = y_pred + np.random.normal(0,variance, y_pred.shape) + bias \n",
    "mse = mean_squared_error(y_pred,Y_test)\n",
    "sb.glue(\"Prior Model MSE\",mse)\n",
    "mse = mean_squared_error(y_abc,Y_test)\n",
    "sb.glue(\"ABC Pre-generator MSE\",mse)\n",
    "mae = mean_absolute_error(y_pred,Y_test)\n",
    "sb.glue(\"Prior Model MAE\",mae)\n",
    "print(\"Prior Model MAE\",mae)\n",
    "mae = mean_absolute_error(y_abc,Y_test)\n",
    "sb.glue(\"ABC Pre-generator MAE\",mae)\n",
    "print(\"ABC Pre-generator MAE\",mae)"
   ]
  },
  {
   "cell_type": "markdown",
   "id": "25609da2",
   "metadata": {
    "papermill": {
     "duration": 0.022679,
     "end_time": "2022-07-22T08:11:28.355979",
     "exception": false,
     "start_time": "2022-07-22T08:11:28.333300",
     "status": "completed"
    },
    "tags": []
   },
   "source": [
    "# mGAN Model"
   ]
  },
  {
   "cell_type": "code",
   "execution_count": 11,
   "id": "dfc3464d",
   "metadata": {
    "execution": {
     "iopub.execute_input": "2022-07-22T08:11:28.408418Z",
     "iopub.status.busy": "2022-07-22T08:11:28.407384Z",
     "iopub.status.idle": "2022-07-22T08:11:28.414555Z",
     "shell.execute_reply": "2022-07-22T08:11:28.412288Z"
    },
    "papermill": {
     "duration": 0.040164,
     "end_time": "2022-07-22T08:11:28.419885",
     "exception": false,
     "start_time": "2022-07-22T08:11:28.379721",
     "status": "completed"
    },
    "tags": []
   },
   "outputs": [],
   "source": [
    "# gen = network.Generator(n_features+1).to(device)\n",
    "# disc = network.Discriminator(n_features+1).to(device)\n",
    "\n",
    "# criterion = torch.nn.BCELoss()\n",
    "# gen_opt = torch.optim.Adam(gen.parameters(), lr=0.001, betas=(0.5, 0.999))\n",
    "# disc_opt = torch.optim.Adam(disc.parameters(), lr=0.001, betas=(0.5, 0.999))"
   ]
  },
  {
   "cell_type": "code",
   "execution_count": 12,
   "id": "b75fdd85",
   "metadata": {
    "execution": {
     "iopub.execute_input": "2022-07-22T08:11:28.478333Z",
     "iopub.status.busy": "2022-07-22T08:11:28.477245Z",
     "iopub.status.idle": "2022-07-22T08:11:28.483207Z",
     "shell.execute_reply": "2022-07-22T08:11:28.482082Z"
    },
    "papermill": {
     "duration": 0.03894,
     "end_time": "2022-07-22T08:11:28.489022",
     "exception": false,
     "start_time": "2022-07-22T08:11:28.450082",
     "status": "completed"
    },
    "tags": []
   },
   "outputs": [],
   "source": [
    "#Training the ABC_GAN \n",
    "# ABC_train_test2.training_GAN(disc,gen,disc_opt,gen_opt,train_data,batch_size,n_epochs,criterion,prior_model,variance,bias,device)"
   ]
  },
  {
   "cell_type": "code",
   "execution_count": 13,
   "id": "1fa7c368",
   "metadata": {
    "execution": {
     "iopub.execute_input": "2022-07-22T08:11:28.555749Z",
     "iopub.status.busy": "2022-07-22T08:11:28.554343Z",
     "iopub.status.idle": "2022-07-22T08:11:28.568369Z",
     "shell.execute_reply": "2022-07-22T08:11:28.559492Z"
    },
    "papermill": {
     "duration": 0.062522,
     "end_time": "2022-07-22T08:11:28.573680",
     "exception": false,
     "start_time": "2022-07-22T08:11:28.511158",
     "status": "completed"
    },
    "tags": []
   },
   "outputs": [],
   "source": [
    "# ABC_GAN1_metrics=ABC_train_test2.test_generator(gen,test_data,prior_model,variance,bias,\"1\",device)\n",
    "# sb.glue(\"ABC_GAN_1 Metrics\",ABC_GAN1_metrics)\n",
    "\n",
    "# print(\"MAE\")\n",
    "# print(mean(ABC_GAN1_metrics[1]))"
   ]
  },
  {
   "cell_type": "code",
   "execution_count": 14,
   "id": "eb22ce5c",
   "metadata": {
    "execution": {
     "iopub.execute_input": "2022-07-22T08:11:28.611876Z",
     "iopub.status.busy": "2022-07-22T08:11:28.611280Z",
     "iopub.status.idle": "2022-07-22T08:11:28.615968Z",
     "shell.execute_reply": "2022-07-22T08:11:28.614856Z"
    },
    "papermill": {
     "duration": 0.028964,
     "end_time": "2022-07-22T08:11:28.620431",
     "exception": false,
     "start_time": "2022-07-22T08:11:28.591467",
     "status": "completed"
    },
    "tags": []
   },
   "outputs": [],
   "source": [
    "# sanityChecks.discProbVsError(train_data,disc,device)\n",
    "# sanityChecks.discProbVsError(test_data,disc,device)"
   ]
  },
  {
   "cell_type": "markdown",
   "id": "0eb990ff",
   "metadata": {
    "papermill": {
     "duration": 0.02681,
     "end_time": "2022-07-22T08:11:28.670230",
     "exception": false,
     "start_time": "2022-07-22T08:11:28.643420",
     "status": "completed"
    },
    "tags": []
   },
   "source": [
    "# mGAN Model with TabNet Generator"
   ]
  },
  {
   "cell_type": "code",
   "execution_count": 15,
   "id": "f31b72d5",
   "metadata": {
    "execution": {
     "iopub.execute_input": "2022-07-22T08:11:28.716602Z",
     "iopub.status.busy": "2022-07-22T08:11:28.715674Z",
     "iopub.status.idle": "2022-07-22T08:11:28.755833Z",
     "shell.execute_reply": "2022-07-22T08:11:28.749115Z"
    },
    "papermill": {
     "duration": 0.074884,
     "end_time": "2022-07-22T08:11:28.767276",
     "exception": false,
     "start_time": "2022-07-22T08:11:28.692392",
     "status": "completed"
    },
    "tags": []
   },
   "outputs": [],
   "source": [
    "gen2 = network.GeneratorTabnet(n_features+1).to(device)\n",
    "disc2 = network.Discriminator(n_features+1).to(device)\n",
    "\n",
    "criterion = torch.nn.BCELoss()\n",
    "gen_opt = torch.optim.Adam(gen2.parameters(), lr=0.001, betas=(0.5, 0.999))\n",
    "disc_opt = torch.optim.Adam(disc2.parameters(), lr=0.001, betas=(0.5, 0.999))"
   ]
  },
  {
   "cell_type": "code",
   "execution_count": 16,
   "id": "59bf9201",
   "metadata": {
    "execution": {
     "iopub.execute_input": "2022-07-22T08:11:28.824374Z",
     "iopub.status.busy": "2022-07-22T08:11:28.823103Z",
     "iopub.status.idle": "2022-07-22T08:14:55.382925Z",
     "shell.execute_reply": "2022-07-22T08:14:55.381652Z"
    },
    "papermill": {
     "duration": 206.589952,
     "end_time": "2022-07-22T08:14:55.386199",
     "exception": false,
     "start_time": "2022-07-22T08:11:28.796247",
     "status": "completed"
    },
    "tags": []
   },
   "outputs": [
    {
     "data": {
      "image/png": "[encoded data removed]",
      "text/plain": [
       "<Figure size 432x288 with 1 Axes>"
      ]
     },
     "metadata": {
      "needs_background": "light"
     },
     "output_type": "display_data"
    },
    {
     "data": {
      "image/png": "[encoded data removed]",
      "text/plain": [
       "<Figure size 432x288 with 1 Axes>"
      ]
     },
     "metadata": {
      "needs_background": "light"
     },
     "output_type": "display_data"
    }
   ],
   "source": [
    "#Training the ABC_GAN \n",
    "ABC_train_test2.training_GAN(disc2,gen2,disc_opt,gen_opt,train_data,batch_size,n_epochs,criterion,prior_model,variance,bias,device)"
   ]
  },
  {
   "cell_type": "code",
   "execution_count": 17,
   "id": "816b2e6b",
   "metadata": {
    "execution": {
     "iopub.execute_input": "2022-07-22T08:14:55.423787Z",
     "iopub.status.busy": "2022-07-22T08:14:55.423399Z",
     "iopub.status.idle": "2022-07-22T08:14:57.239403Z",
     "shell.execute_reply": "2022-07-22T08:14:57.238315Z"
    },
    "papermill": {
     "duration": 1.839471,
     "end_time": "2022-07-22T08:14:57.243165",
     "exception": false,
     "start_time": "2022-07-22T08:14:55.403694",
     "status": "completed"
    },
    "tags": []
   },
   "outputs": [
    {
     "data": {
      "application/scrapbook.scrap.json+json": {
       "data": 0.8216375556913831,
       "encoder": "json",
       "name": "ABC-GAN Model 1 MSE",
       "version": 1
      }
     },
     "metadata": {
      "scrapbook": {
       "data": true,
       "display": false,
       "name": "ABC-GAN Model 1 MSE"
      }
     },
     "output_type": "display_data"
    },
    {
     "data": {
      "application/scrapbook.scrap.json+json": {
       "data": 0.5890924715530127,
       "encoder": "json",
       "name": "ABC-GAN Model 1 MAE",
       "version": 1
      }
     },
     "metadata": {
      "scrapbook": {
       "data": true,
       "display": false,
       "name": "ABC-GAN Model 1 MAE"
      }
     },
     "output_type": "display_data"
    },
    {
     "data": {
      "application/scrapbook.scrap.json+json": {
       "data": 11.781849431060255,
       "encoder": "json",
       "name": "ABC-GAN Model 1 Manhattan Distance",
       "version": 1
      }
     },
     "metadata": {
      "scrapbook": {
       "data": true,
       "display": false,
       "name": "ABC-GAN Model 1 Manhattan Distance"
      }
     },
     "output_type": "display_data"
    },
    {
     "data": {
      "application/scrapbook.scrap.json+json": {
       "data": 4.049230351835646,
       "encoder": "json",
       "name": "ABC-GAN Model 1 Euclidean distance",
       "version": 1
      }
     },
     "metadata": {
      "scrapbook": {
       "data": true,
       "display": false,
       "name": "ABC-GAN Model 1 Euclidean distance"
      }
     },
     "output_type": "display_data"
    },
    {
     "data": {
      "application/scrapbook.scrap.json+json": {
       "data": [
        [
         0.8629766182772336,
         0.6714149963528043,
         0.8317052322750005,
         0.8661670286473209,
         0.9423244035200954,
         0.8618059094766256,
         0.9280048221389906,
         0.7055948981120258,
         0.8964000855507719,
         0.8123234765076746,
         0.7881880496100531,
         0.7639827632861993,
         0.7431786556872783,
         0.7694597395789204,
         0.7733979005951864,
         0.8358830480525903,
         0.7364265331183782,
         0.8787911176757246,
         0.8976707648593001,
         0.7916037123187143,
         0.7920488819064243,
         0.7098817529436656,
         0.8654866957843306,
         0.891302717812521,
         0.8107573049786204,
         0.8208446316013518,
         0.8396308843220878,
         0.8112570913465893,
         0.9135878250622035,
         0.8722041103292003,
         0.7514044596625359,
         0.820899198630921,
         0.7965194821381745,
         0.7691705758869417,
         0.8055889769722148,
         0.7838772155824867,
         0.8687430430385458,
         0.6788791263505989,
         0.9529995185607018,
         0.785755454362661,
         0.8307924822384269,
         0.8824779640625767,
         0.8502542543187109,
         0.8076986772712937,
         0.89812142165844,
         0.7531698623427663,
         0.960891193983097,
         0.7513674556273557,
         0.7430885261146005,
         0.75773358545368,
         0.8612666966401674,
         0.7743248089224983,
         0.8795059002953529,
         0.6481972125383499,
         0.8883019424760057,
         0.8063885665423067,
         0.8058089870444454,
         0.7986709156966225,
         0.8686319771609444,
         0.9628856474347088,
         0.8605369319752911,
         0.7297171584562699,
         0.8940239003072679,
         0.9288080766994641,
         0.9263597108344424,
         0.9282954899333682,
         0.671171105809154,
         0.9320259373497013,
         0.7752445675435814,
         0.8898301116201754,
         0.8317344443316763,
         0.7021862891310605,
         0.7571391318271955,
         0.7503044594383356,
         0.826863652086345,
         0.8465806528646697,
         0.7997940599943968,
         0.9251327991304018,
         0.8870050279987396,
         0.9387235234298504,
         0.873179624878962,
         0.8724673792292492,
         0.7050218081141705,
         0.8756429715379495,
         0.7153587880216759,
         0.6689573386094705,
         0.7165684630285087,
         0.672408529525225,
         0.7348033659913125,
         0.7422078561818577,
         0.8372420422213706,
         0.8766782007162224,
         0.8779916382043987,
         0.7708288069693883,
         0.8003504165187924,
         0.9064221253940611,
         0.9439075112626467,
         0.8777168863753184,
         0.8762773989128945,
         0.7905306059474327
        ],
        [
         0.5996138360351324,
         0.532136595249176,
         0.6025905098766089,
         0.6116239566355943,
         0.6299293920397758,
         0.5899059321731329,
         0.6201286792755127,
         0.5604607125744223,
         0.6253849849104881,
         0.5969492895528674,
         0.5966469176113606,
         0.5765015564858913,
         0.5717695184051991,
         0.5847582664340735,
         0.5742765828967095,
         0.5841301076114178,
         0.5609924651682376,
         0.6045026103034615,
         0.6082124177366495,
         0.5889322146773338,
         0.5737757621333003,
         0.5448737911880016,
         0.6151334315538406,
         0.6037413232028485,
         0.6014144416898489,
         0.5801293084397912,
         0.5974065795540809,
         0.5932244546711445,
         0.6332525001838804,
         0.5981376644223928,
         0.5626209288835525,
         0.5924159128218889,
         0.5837787449359894,
         0.5789051029831171,
         0.593003248795867,
         0.5751029517501592,
         0.6125302249565721,
         0.5466255251318216,
         0.6170078441500664,
         0.564786646515131,
         0.6056798379868269,
         0.6006901999935508,
         0.5996641986072063,
         0.5835950516164303,
         0.6072895161807537,
         0.561573987826705,
         0.6241434967145324,
         0.559925964847207,
         0.5657631808891892,
         0.5638407230377197,
         0.5942618161439895,
         0.5802671354264021,
         0.5970958307385444,
         0.5392119355499745,
         0.613343532383442,
         0.5903469402343035,
         0.5913070060312748,
         0.5722913948819042,
         0.6002357956022024,
         0.6100983649492264,
         0.5768438473343849,
         0.5808728888630867,
         0.6072696574032307,
         0.6137320887297392,
         0.6115352403372526,
         0.6086322568356991,
         0.5413172814995051,
         0.6147943086922169,
         0.5846877753734588,
         0.5940959136933088,
         0.5654177317395807,
         0.557456248998642,
         0.5786985799670219,
         0.5690522536635398,
         0.5995698235929012,
         0.6029844932258129,
         0.5977249253541231,
         0.6264718104153871,
         0.6053726060315967,
         0.6301546178758144,
         0.6111329566687346,
         0.62389507740736,
         0.5647022292017937,
         0.6043497078120709,
         0.5791981510818005,
         0.5532301679253578,
         0.5617603413760662,
         0.5454562589526176,
         0.5707961205393076,
         0.5665312450379133,
         0.5888465732336045,
         0.5896383404731751,
         0.5977377660572529,
         0.5690583106130361,
         0.5838913820683956,
         0.6112805476412178,
         0.618812520802021,
         0.5928593076765537,
         0.6060080191120505,
         0.5554389387369156
        ],
        [
         11.992276720702648,
         10.64273190498352,
         12.051810197532177,
         12.232479132711887,
         12.598587840795517,
         11.798118643462658,
         12.402573585510254,
         11.209214251488447,
         12.507699698209763,
         11.938985791057348,
         11.932938352227211,
         11.530031129717827,
         11.435390368103981,
         11.695165328681469,
         11.485531657934189,
         11.682602152228355,
         11.219849303364754,
         12.090052206069231,
         12.16424835473299,
         11.778644293546677,
         11.475515242666006,
         10.897475823760033,
         12.302668631076813,
         12.074826464056969,
         12.028288833796978,
         11.602586168795824,
         11.94813159108162,
         11.86448909342289,
         12.665050003677607,
         11.962753288447857,
         11.252418577671051,
         11.848318256437778,
         11.675574898719788,
         11.578102059662342,
         11.86006497591734,
         11.502059035003185,
         12.250604499131441,
         10.932510502636433,
         12.340156883001328,
         11.29573293030262,
         12.113596759736538,
         12.013803999871016,
         11.993283972144127,
         11.671901032328606,
         12.145790323615074,
         11.2314797565341,
         12.482869934290648,
         11.198519296944141,
         11.315263617783785,
         11.276814460754395,
         11.885236322879791,
         11.605342708528042,
         11.94191661477089,
         10.784238710999489,
         12.266870647668839,
         11.80693880468607,
         11.826140120625496,
         11.445827897638083,
         12.004715912044048,
         12.201967298984528,
         11.536876946687698,
         11.617457777261734,
         12.145393148064613,
         12.274641774594784,
         12.230704806745052,
         12.172645136713982,
         10.8263456299901,
         12.295886173844337,
         11.693755507469177,
         11.881918273866177,
         11.308354634791613,
         11.14912497997284,
         11.573971599340439,
         11.381045073270798,
         11.991396471858025,
         12.059689864516258,
         11.954498507082462,
         12.529436208307743,
         12.107452120631933,
         12.603092357516289,
         12.222659133374691,
         12.477901548147202,
         11.294044584035873,
         12.086994156241417,
         11.58396302163601,
         11.064603358507156,
         11.235206827521324,
         10.909125179052353,
         11.415922410786152,
         11.330624900758266,
         11.776931464672089,
         11.792766809463501,
         11.954755321145058,
         11.381166212260723,
         11.677827641367912,
         12.225610952824354,
         12.37625041604042,
         11.857186153531075,
         12.12016038224101,
         11.108778774738312
        ],
        [
         4.154459334924903,
         3.6644644802557558,
         4.078492938022574,
         4.162131734213421,
         4.341254204766395,
         4.151640421512021,
         4.3081430388021955,
         3.75658062102233,
         4.234147105500166,
         4.030690949471752,
         3.970360310123133,
         3.908919961539758,
         3.8553304804835555,
         3.9229064214659015,
         3.932932495213175,
         4.088723634711914,
         3.83777678641783,
         4.19235284220144,
         4.237147070516435,
         3.9789539135775738,
         3.980072566942528,
         3.7679749281110286,
         4.160496835197283,
         4.222091230214054,
         4.02680345926796,
         4.051776478537166,
         4.097879657388899,
         4.028044417199466,
         4.274547520059178,
         4.176611330562614,
         3.8766079493870302,
         4.051911150632305,
         3.991289220635794,
         3.922169236243999,
         4.013948123661328,
         3.9594878850237354,
         4.168316310067041,
         3.6847771339678035,
         4.3657748878308,
         3.9642286875574198,
         4.076254364581354,
         4.201137855540036,
         4.12372223681157,
         4.019200610248992,
         4.2382105225164075,
         3.8811592658451066,
         4.383813850936412,
         3.876512493536828,
         3.855096694285632,
         3.8929001668516494,
         4.150341423642559,
         3.935288576260954,
         4.1940574633530066,
         3.6005477709325007,
         4.214977918034697,
         4.015939657271525,
         4.014496200133824,
         3.9966759080431395,
         4.168049848936417,
         4.388361077748067,
         4.148582726607464,
         3.8202543330418983,
         4.228531424282591,
         4.310007138507927,
         4.304322736121078,
         4.3088176799056335,
         3.663798864045771,
         4.317466704792756,
         3.937625090187183,
         4.2186019286492895,
         4.078564562028353,
         3.747495934970605,
         3.8913728472794675,
         3.8737693773334922,
         4.066604608481983,
         4.114804133527305,
         3.9994851168479095,
         4.301471374147228,
         4.211899875350172,
         4.332951703930821,
         4.178946338202877,
         4.17724162391703,
         3.7550547482404846,
         4.184836846372746,
         3.7824827508441485,
         3.6577516006680124,
         3.785679497866951,
         3.6671747422920142,
         3.833545006886739,
         3.852811586833329,
         4.0920460462252155,
         4.187309877991411,
         4.19044541356739,
         3.926394801772711,
         4.000875945386941,
         4.257750874332742,
         4.3448993343060245,
         4.189789699675434,
         4.186352586471652,
         3.9762560429314227
        ]
       ],
       "encoder": "json",
       "name": "ABC_GAN_2 Metrics",
       "version": 1
      }
     },
     "metadata": {
      "scrapbook": {
       "data": true,
       "display": false,
       "name": "ABC_GAN_2 Metrics"
      }
     },
     "output_type": "display_data"
    },
    {
     "name": "stdout",
     "output_type": "stream",
     "text": [
      "MAE\n",
      "0.5890924715530127\n"
     ]
    }
   ],
   "source": [
    "ABC_GAN2_metrics=ABC_train_test2.test_generator(gen2,test_data,prior_model,variance,bias,\"1\",device)\n",
    "sb.glue(\"ABC_GAN_2 Metrics\",ABC_GAN2_metrics)\n",
    "\n",
    "print(\"MAE\")\n",
    "print(mean(ABC_GAN2_metrics[1]))"
   ]
  },
  {
   "cell_type": "code",
   "execution_count": 18,
   "id": "a14ca43c",
   "metadata": {
    "execution": {
     "iopub.execute_input": "2022-07-22T08:14:57.287461Z",
     "iopub.status.busy": "2022-07-22T08:14:57.287092Z",
     "iopub.status.idle": "2022-07-22T08:14:58.301134Z",
     "shell.execute_reply": "2022-07-22T08:14:58.300052Z"
    },
    "papermill": {
     "duration": 1.041725,
     "end_time": "2022-07-22T08:14:58.303966",
     "exception": false,
     "start_time": "2022-07-22T08:14:57.262241",
     "status": "completed"
    },
    "tags": []
   },
   "outputs": [
    {
     "data": {
      "image/png": "[encoded data removed]",
      "text/plain": [
       "<Figure size 432x288 with 1 Axes>"
      ]
     },
     "metadata": {
      "needs_background": "light"
     },
     "output_type": "display_data"
    },
    {
     "data": {
      "image/png": "[encoded data removed]",
      "text/plain": [
       "<Figure size 432x288 with 1 Axes>"
      ]
     },
     "metadata": {
      "needs_background": "light"
     },
     "output_type": "display_data"
    },
    {
     "data": {
      "image/png": "[encoded data removed]",
      "text/plain": [
       "<Figure size 432x288 with 1 Axes>"
      ]
     },
     "metadata": {
      "needs_background": "light"
     },
     "output_type": "display_data"
    },
    {
     "data": {
      "image/png": "[encoded data removed]",
      "text/plain": [
       "<Figure size 432x288 with 1 Axes>"
      ]
     },
     "metadata": {
      "needs_background": "light"
     },
     "output_type": "display_data"
    }
   ],
   "source": [
    "sanityChecks.discProbVsError(train_data,disc2,device)\n",
    "sanityChecks.discProbVsError(test_data,disc2,device)"
   ]
  },
  {
   "cell_type": "markdown",
   "id": "130f3a4d",
   "metadata": {
    "id": "130f3a4d",
    "papermill": {
     "duration": 0.022928,
     "end_time": "2022-07-22T08:14:58.348551",
     "exception": false,
     "start_time": "2022-07-22T08:14:58.325623",
     "status": "completed"
    },
    "tags": []
   },
   "source": [
    "# skipGAN Model"
   ]
  },
  {
   "cell_type": "code",
   "execution_count": 19,
   "id": "4e43dad1",
   "metadata": {
    "execution": {
     "iopub.execute_input": "2022-07-22T08:14:58.399541Z",
     "iopub.status.busy": "2022-07-22T08:14:58.398800Z",
     "iopub.status.idle": "2022-07-22T08:14:58.404499Z",
     "shell.execute_reply": "2022-07-22T08:14:58.403460Z"
    },
    "id": "4e43dad1",
    "papermill": {
     "duration": 0.035246,
     "end_time": "2022-07-22T08:14:58.407215",
     "exception": false,
     "start_time": "2022-07-22T08:14:58.371969",
     "status": "completed"
    },
    "tags": []
   },
   "outputs": [],
   "source": [
    "# #Generator\n",
    "# gen3 = network.GeneratorWithSkipConnection(n_features+1).to(device)\n",
    "# constraints=network.weightConstraint()\n",
    "# #Discriminator \n",
    "# disc3 = network.Discriminator(n_features+1).to(device)\n",
    "\n",
    "# criterion = torch.nn.BCELoss()\n",
    "# gen_opt = torch.optim.Adam(gen3.parameters(), lr=0.01, betas=(0.5, 0.999))\n",
    "# disc_opt = torch.optim.Adam(disc3.parameters(), lr=0.01, betas=(0.5, 0.999))\n"
   ]
  },
  {
   "cell_type": "code",
   "execution_count": 20,
   "id": "26acbc37",
   "metadata": {
    "execution": {
     "iopub.execute_input": "2022-07-22T08:14:58.454096Z",
     "iopub.status.busy": "2022-07-22T08:14:58.453689Z",
     "iopub.status.idle": "2022-07-22T08:14:58.458830Z",
     "shell.execute_reply": "2022-07-22T08:14:58.457806Z"
    },
    "id": "26acbc37",
    "papermill": {
     "duration": 0.032799,
     "end_time": "2022-07-22T08:14:58.461624",
     "exception": false,
     "start_time": "2022-07-22T08:14:58.428825",
     "status": "completed"
    },
    "tags": []
   },
   "outputs": [],
   "source": [
    "# ABC_train_test2.training_GAN_skip_connection(disc3,gen3,disc_opt,gen_opt,train_data,batch_size,n_epochs,criterion,prior_model,variance,bias,device)"
   ]
  },
  {
   "cell_type": "code",
   "execution_count": 21,
   "id": "c5e0717b",
   "metadata": {
    "execution": {
     "iopub.execute_input": "2022-07-22T08:14:58.515191Z",
     "iopub.status.busy": "2022-07-22T08:14:58.514782Z",
     "iopub.status.idle": "2022-07-22T08:14:58.520314Z",
     "shell.execute_reply": "2022-07-22T08:14:58.519129Z"
    },
    "id": "c5e0717b",
    "papermill": {
     "duration": 0.038336,
     "end_time": "2022-07-22T08:14:58.523905",
     "exception": false,
     "start_time": "2022-07-22T08:14:58.485569",
     "status": "completed"
    },
    "tags": []
   },
   "outputs": [],
   "source": [
    "# ABC_GAN3_metrics=ABC_train_test2.test_generator(gen3,test_data,prior_model,variance,bias,\"3\",device)\n",
    "# sb.glue(\"ABC_GAN_3 Metrics\",ABC_GAN3_metrics)\n",
    "\n",
    "# print(\"MAE\")\n",
    "# print(mean(ABC_GAN3_metrics[1]))"
   ]
  },
  {
   "cell_type": "code",
   "execution_count": 22,
   "id": "c8e46b48",
   "metadata": {
    "execution": {
     "iopub.execute_input": "2022-07-22T08:14:58.568817Z",
     "iopub.status.busy": "2022-07-22T08:14:58.568455Z",
     "iopub.status.idle": "2022-07-22T08:14:58.573764Z",
     "shell.execute_reply": "2022-07-22T08:14:58.572560Z"
    },
    "id": "c8e46b48",
    "papermill": {
     "duration": 0.031392,
     "end_time": "2022-07-22T08:14:58.577056",
     "exception": false,
     "start_time": "2022-07-22T08:14:58.545664",
     "status": "completed"
    },
    "tags": []
   },
   "outputs": [],
   "source": [
    "# sanityChecks.discProbVsError(train_data,disc3,device)\n",
    "# sanityChecks.discProbVsError(test_data,disc3,device)"
   ]
  },
  {
   "cell_type": "markdown",
   "id": "3bd4013b",
   "metadata": {
    "id": "130f3a4d",
    "papermill": {
     "duration": 0.021554,
     "end_time": "2022-07-22T08:14:58.621254",
     "exception": false,
     "start_time": "2022-07-22T08:14:58.599700",
     "status": "completed"
    },
    "tags": []
   },
   "source": [
    "# skipGAN Model with TabNet Generator"
   ]
  },
  {
   "cell_type": "code",
   "execution_count": 23,
   "id": "f40389d6",
   "metadata": {
    "execution": {
     "iopub.execute_input": "2022-07-22T08:14:58.667075Z",
     "iopub.status.busy": "2022-07-22T08:14:58.666739Z",
     "iopub.status.idle": "2022-07-22T08:14:58.686811Z",
     "shell.execute_reply": "2022-07-22T08:14:58.685968Z"
    },
    "id": "4e43dad1",
    "papermill": {
     "duration": 0.046422,
     "end_time": "2022-07-22T08:14:58.689705",
     "exception": false,
     "start_time": "2022-07-22T08:14:58.643283",
     "status": "completed"
    },
    "tags": []
   },
   "outputs": [],
   "source": [
    "#Generator\n",
    "gen4 = network.GeneratorTabnetskipConnection(n_features+1).to(device)\n",
    "constraints=network.weightConstraint()\n",
    "#Discriminator \n",
    "disc4 = network.Discriminator(n_features+1).to(device)\n",
    "\n",
    "criterion = torch.nn.BCELoss()\n",
    "gen_opt = torch.optim.Adam(gen4.parameters(), lr=0.001, betas=(0.5, 0.999))\n",
    "disc_opt = torch.optim.Adam(disc4.parameters(), lr=0.001, betas=(0.5, 0.999))\n"
   ]
  },
  {
   "cell_type": "code",
   "execution_count": 24,
   "id": "ff61b6a1",
   "metadata": {
    "execution": {
     "iopub.execute_input": "2022-07-22T08:14:58.738133Z",
     "iopub.status.busy": "2022-07-22T08:14:58.737161Z",
     "iopub.status.idle": "2022-07-22T08:18:22.151511Z",
     "shell.execute_reply": "2022-07-22T08:18:22.147940Z"
    },
    "id": "26acbc37",
    "papermill": {
     "duration": 203.465768,
     "end_time": "2022-07-22T08:18:22.177126",
     "exception": false,
     "start_time": "2022-07-22T08:14:58.711358",
     "status": "completed"
    },
    "tags": []
   },
   "outputs": [
    {
     "data": {
      "image/png": "[encoded data removed]",
      "text/plain": [
       "<Figure size 432x288 with 1 Axes>"
      ]
     },
     "metadata": {
      "needs_background": "light"
     },
     "output_type": "display_data"
    },
    {
     "data": {
      "image/png": "[encoded data removed]",
      "text/plain": [
       "<Figure size 432x288 with 1 Axes>"
      ]
     },
     "metadata": {
      "needs_background": "light"
     },
     "output_type": "display_data"
    }
   ],
   "source": [
    "ABC_train_test2.training_GAN_skip_connection(disc4,gen4,disc_opt,gen_opt,train_data,batch_size,n_epochs,criterion,prior_model,variance,bias,device)"
   ]
  },
  {
   "cell_type": "code",
   "execution_count": 25,
   "id": "771bb76e",
   "metadata": {
    "execution": {
     "iopub.execute_input": "2022-07-22T08:18:22.238108Z",
     "iopub.status.busy": "2022-07-22T08:18:22.237356Z",
     "iopub.status.idle": "2022-07-22T08:18:26.005468Z",
     "shell.execute_reply": "2022-07-22T08:18:25.993517Z"
    },
    "id": "c5e0717b",
    "papermill": {
     "duration": 3.800445,
     "end_time": "2022-07-22T08:18:26.008684",
     "exception": false,
     "start_time": "2022-07-22T08:18:22.208239",
     "status": "completed"
    },
    "tags": []
   },
   "outputs": [
    {
     "data": {
      "application/scrapbook.scrap.json+json": {
       "data": 0.3709820240382199,
       "encoder": "json",
       "name": "ABC-GAN Model 3 MSE",
       "version": 1
      }
     },
     "metadata": {
      "scrapbook": {
       "data": true,
       "display": false,
       "name": "ABC-GAN Model 3 MSE"
      }
     },
     "output_type": "display_data"
    },
    {
     "data": {
      "application/scrapbook.scrap.json+json": {
       "data": 0.4919940074980259,
       "encoder": "json",
       "name": "ABC-GAN Model 3 MAE",
       "version": 1
      }
     },
     "metadata": {
      "scrapbook": {
       "data": true,
       "display": false,
       "name": "ABC-GAN Model 3 MAE"
      }
     },
     "output_type": "display_data"
    },
    {
     "data": {
      "application/scrapbook.scrap.json+json": {
       "data": 9.839880149960518,
       "encoder": "json",
       "name": "ABC-GAN Model 3 Manhattan Distance",
       "version": 1
      }
     },
     "metadata": {
      "scrapbook": {
       "data": true,
       "display": false,
       "name": "ABC-GAN Model 3 Manhattan Distance"
      }
     },
     "output_type": "display_data"
    },
    {
     "data": {
      "application/scrapbook.scrap.json+json": {
       "data": 2.721925553682734,
       "encoder": "json",
       "name": "ABC-GAN Model 3 Euclidean distance",
       "version": 1
      }
     },
     "metadata": {
      "scrapbook": {
       "data": true,
       "display": false,
       "name": "ABC-GAN Model 3 Euclidean distance"
      }
     },
     "output_type": "display_data"
    },
    {
     "data": {
      "application/scrapbook.scrap.json+json": {
       "data": [
        [
         0.3990809736722147,
         0.4064121420698233,
         0.3939551770358409,
         0.3643976958853895,
         0.3600454788777433,
         0.3461167149857146,
         0.3400814088339252,
         0.3806282149814022,
         0.3932482704456669,
         0.3810056431338422,
         0.3709914601267341,
         0.3910368739102833,
         0.4064945591056196,
         0.36770622404996767,
         0.3635066020497374,
         0.3756955305429629,
         0.3777943161261619,
         0.36240630851042166,
         0.3752097509407427,
         0.3221031826416594,
         0.40206439462050786,
         0.34569212270340577,
         0.3105907918529633,
         0.39300065066513384,
         0.39076827276068216,
         0.350326937243325,
         0.3806278158293049,
         0.35674196059724883,
         0.3896083226921886,
         0.3401110955632759,
         0.3711732594703376,
         0.3632847544609,
         0.3823170172127946,
         0.3415232835755807,
         0.37538869610191705,
         0.32622805694738616,
         0.39715502927814306,
         0.42058083978147,
         0.415847031364274,
         0.33518128303495603,
         0.4139939055827052,
         0.34670465868125533,
         0.40768787526029177,
         0.3724959501696903,
         0.4055357862600458,
         0.3944026975966759,
         0.3669163016575994,
         0.33216665181244326,
         0.3589667547430927,
         0.4112911515982757,
         0.3908394469305013,
         0.3988502715413314,
         0.40373015696846304,
         0.3419054613001661,
         0.3679513525350012,
         0.34406995544798474,
         0.382902976811814,
         0.4026720351348416,
         0.38576433007610617,
         0.3549701300508167,
         0.31234077838460433,
         0.4016069584542533,
         0.35169219500851046,
         0.40337507371562753,
         0.3729255880013082,
         0.3998688719301201,
         0.3230428225106975,
         0.37502862903146006,
         0.4019197401984698,
         0.3475662034940726,
         0.4013586988523853,
         0.3664930517431396,
         0.3140884973644624,
         0.3718385021189331,
         0.35352527480290796,
         0.40456835537330244,
         0.35451407387157774,
         0.3318093138911079,
         0.3350972738502844,
         0.4011225992104017,
         0.43110577683790546,
         0.34504311630270995,
         0.33799661081289467,
         0.38739307116573596,
         0.3976320192455104,
         0.37630174324849913,
         0.34677732942453093,
         0.33511936200161363,
         0.33242341697233524,
         0.40496671487920344,
         0.34041940441109525,
         0.360618967294728,
         0.33066250828228066,
         0.39240653552806537,
         0.3812868822571967,
         0.3947932221219461,
         0.36432382845880146,
         0.37505673331828443,
         0.3727319555807237,
         0.31741471002955246
        ],
        [
         0.5236281983554363,
         0.5086675502359868,
         0.5029737211763858,
         0.48135146871209145,
         0.4893492586910725,
         0.47975722178816793,
         0.482978730648756,
         0.4866795398294926,
         0.5057172782719135,
         0.5155562035739422,
         0.4839083902537823,
         0.5028012342751026,
         0.5062001086771488,
         0.49420139417052267,
         0.5100640662014484,
         0.5078517727553844,
         0.490690303593874,
         0.4899246789515018,
         0.4894556514918804,
         0.47101031616330147,
         0.49431670978665354,
         0.45960565730929376,
         0.4517552055418491,
         0.5073480315506458,
         0.49839611276984214,
         0.47201974764466287,
         0.5204068787395955,
         0.4855353720486164,
         0.5177463509142399,
         0.4575074277818203,
         0.5005271099507809,
         0.4851306088268757,
         0.5038705743849278,
         0.46650975570082664,
         0.5017258249223232,
         0.4666579745709896,
         0.5160333640873432,
         0.5371618248522282,
         0.5097323693335056,
         0.4715982310473919,
         0.5159352965652942,
         0.4867901332676411,
         0.5283076338469982,
         0.5033824406564236,
         0.5254466883838177,
         0.47567692771553993,
         0.45438244864344596,
         0.4723916731774807,
         0.49934353604912757,
         0.4976386748254299,
         0.5116441138088703,
         0.500278002768755,
         0.5201836548745632,
         0.45644374266266824,
         0.4778657265007496,
         0.4770524375140667,
         0.48723841533064843,
         0.5155411116778851,
         0.4827497310936451,
         0.4695744328200817,
         0.4654431141912937,
         0.5087174959480762,
         0.4884579204022884,
         0.5121828235685826,
         0.5020436070859432,
         0.5196933768689632,
         0.46396177634596825,
         0.49802123233675955,
         0.5053556598722935,
         0.4767220728099346,
         0.5274000950157642,
         0.4946923695504665,
         0.43969168290495875,
         0.5298644579946995,
         0.45722873136401176,
         0.500233294814825,
         0.4770843856036663,
         0.46011428311467173,
         0.49016419276595113,
         0.5069343350827694,
         0.5268557764589786,
         0.4867639414966106,
         0.4723000906407833,
         0.5211845703423024,
         0.4919344924390316,
         0.4857552610337734,
         0.4805628009140491,
         0.47773704007267953,
         0.4742222480475903,
         0.5124896980822087,
         0.48588575795292854,
         0.4908743627369404,
         0.4697562552988529,
         0.4987065903842449,
         0.481071088463068,
         0.49903908744454384,
         0.47103133574128153,
         0.4845131389796734,
         0.4994358442723751,
         0.46105541959404944
        ],
        [
         10.472563967108727,
         10.173351004719734,
         10.059474423527718,
         9.627029374241829,
         9.78698517382145,
         9.595144435763359,
         9.65957461297512,
         9.733590796589851,
         10.11434556543827,
         10.311124071478844,
         9.678167805075645,
         10.056024685502052,
         10.124002173542976,
         9.884027883410454,
         10.201281324028969,
         10.157035455107689,
         9.81380607187748,
         9.798493579030037,
         9.789113029837608,
         9.42020632326603,
         9.88633419573307,
         9.192113146185875,
         9.035104110836983,
         10.146960631012917,
         9.967922255396843,
         9.440394952893257,
         10.408137574791908,
         9.710707440972328,
         10.354927018284798,
         9.150148555636406,
         10.010542199015617,
         9.702612176537514,
         10.077411487698555,
         9.330195114016533,
         10.034516498446465,
         9.333159491419792,
         10.320667281746864,
         10.743236497044563,
         10.194647386670113,
         9.431964620947838,
         10.318705931305885,
         9.735802665352821,
         10.566152676939964,
         10.067648813128471,
         10.508933767676353,
         9.513538554310799,
         9.08764897286892,
         9.447833463549614,
         9.986870720982552,
         9.952773496508598,
         10.232882276177406,
         10.0055600553751,
         10.403673097491264,
         9.128874853253365,
         9.557314530014992,
         9.541048750281334,
         9.744768306612968,
         10.310822233557701,
         9.654994621872902,
         9.391488656401634,
         9.308862283825874,
         10.174349918961525,
         9.769158408045769,
         10.24365647137165,
         10.040872141718864,
         10.393867537379265,
         9.279235526919365,
         9.960424646735191,
         10.10711319744587,
         9.534441456198692,
         10.548001900315285,
         9.89384739100933,
         8.793833658099174,
         10.59728915989399,
         9.144574627280235,
         10.004665896296501,
         9.541687712073326,
         9.202285662293434,
         9.803283855319023,
         10.138686701655388,
         10.537115529179573,
         9.735278829932213,
         9.446001812815666,
         10.423691406846046,
         9.838689848780632,
         9.715105220675468,
         9.611256018280983,
         9.55474080145359,
         9.484444960951805,
         10.249793961644173,
         9.71771515905857,
         9.817487254738808,
         9.395125105977058,
         9.974131807684898,
         9.62142176926136,
         9.980781748890877,
         9.42062671482563,
         9.690262779593468,
         9.988716885447502,
         9.221108391880989
        ],
        [
         2.8251760075160437,
         2.8510073380116836,
         2.806974089783662,
         2.6996210692813523,
         2.6834510574174564,
         2.631032933985109,
         2.6079931320228784,
         2.759087584624316,
         2.8044545653144994,
         2.7604551912097475,
         2.7239363433337944,
         2.796558148547186,
         2.851296403763101,
         2.711848904529777,
         2.6963182380785002,
         2.7411513294342686,
         2.748797250166559,
         2.6922344196240475,
         2.739378582601327,
         2.5381220720905424,
         2.8357164689739625,
         2.629418653251725,
         2.492351467401672,
         2.8035714746199494,
         2.7955975130933357,
         2.646986729257723,
         2.7590861379424343,
         2.6711119804203225,
         2.791445226731804,
         2.60810695932232,
         2.724603675657572,
         2.6954953328132474,
         2.765201682383383,
         2.6135159596818256,
         2.74003173741443,
         2.5543220507500073,
         2.8183506853411378,
         2.900278744470848,
         2.8839106482839374,
         2.589136083850967,
         2.877477734345499,
         2.6332666354976486,
         2.8554785072218345,
         2.7294539753206695,
         2.84793183296246,
         2.8085679539461954,
         2.708934482993634,
         2.577466398665338,
         2.6794281283254926,
         2.868069565398565,
         2.795852095267206,
         2.824359295632662,
         2.8415846176683286,
         2.614977863386863,
         2.712752670388516,
         2.6232420988082086,
         2.7673199193870377,
         2.8378584712238264,
         2.777640473769441,
         2.6644704166149666,
         2.499363032392871,
         2.834102886114946,
         2.6521394948550894,
         2.840334746876246,
         2.731027601476441,
         2.827963479007889,
         2.5418214827587615,
         2.7387173239728853,
         2.8352063071264135,
         2.636536377500119,
         2.8332267782596765,
         2.707371610042255,
         2.506345935278937,
         2.727044195164182,
         2.659042214042146,
         2.844532845207812,
         2.662758246148447,
         2.576079633439572,
         2.588811595502015,
         2.832393331479234,
         2.936343906417998,
         2.626949243143879,
         2.5999869646323024,
         2.783498055202252,
         2.820042621115895,
         2.743361963899402,
         2.6335425928757292,
         2.588896915682869,
         2.578462398299945,
         2.845932939755269,
         2.609288808894467,
         2.6855873372308263,
         2.571624032716605,
         2.8014515363577694,
         2.761473817573495,
         2.8099580855306225,
         2.699347433950663,
         2.738819940479054,
         2.7303185000315393,
         2.519582148014041
        ]
       ],
       "encoder": "json",
       "name": "ABC_GAN_4 Metrics",
       "version": 1
      }
     },
     "metadata": {
      "scrapbook": {
       "data": true,
       "display": false,
       "name": "ABC_GAN_4 Metrics"
      }
     },
     "output_type": "display_data"
    },
    {
     "name": "stdout",
     "output_type": "stream",
     "text": [
      "MAE\n",
      "0.4919940074980259\n"
     ]
    }
   ],
   "source": [
    "ABC_GAN4_metrics=ABC_train_test2.test_generator(gen4,test_data,prior_model,variance,bias,\"3\",device)\n",
    "sb.glue(\"ABC_GAN_4 Metrics\",ABC_GAN4_metrics)\n",
    "\n",
    "print(\"MAE\")\n",
    "print(mean(ABC_GAN4_metrics[1]))"
   ]
  },
  {
   "cell_type": "code",
   "execution_count": 26,
   "id": "39ccd6a2",
   "metadata": {
    "execution": {
     "iopub.execute_input": "2022-07-22T08:18:26.085207Z",
     "iopub.status.busy": "2022-07-22T08:18:26.084728Z",
     "iopub.status.idle": "2022-07-22T08:18:28.847648Z",
     "shell.execute_reply": "2022-07-22T08:18:28.841717Z"
    },
    "id": "c8e46b48",
    "papermill": {
     "duration": 2.810504,
     "end_time": "2022-07-22T08:18:28.852979",
     "exception": false,
     "start_time": "2022-07-22T08:18:26.042475",
     "status": "completed"
    },
    "tags": []
   },
   "outputs": [
    {
     "data": {
      "image/png": "[encoded data removed]",
      "text/plain": [
       "<Figure size 432x288 with 1 Axes>"
      ]
     },
     "metadata": {
      "needs_background": "light"
     },
     "output_type": "display_data"
    },
    {
     "data": {
      "image/png": "[encoded data removed]",
      "text/plain": [
       "<Figure size 432x288 with 1 Axes>"
      ]
     },
     "metadata": {
      "needs_background": "light"
     },
     "output_type": "display_data"
    },
    {
     "data": {
      "image/png": "[encoded data removed]",
      "text/plain": [
       "<Figure size 432x288 with 1 Axes>"
      ]
     },
     "metadata": {
      "needs_background": "light"
     },
     "output_type": "display_data"
    },
    {
     "data": {
      "image/png": "[encoded data removed]",
      "text/plain": [
       "<Figure size 432x288 with 1 Axes>"
      ]
     },
     "metadata": {
      "needs_background": "light"
     },
     "output_type": "display_data"
    }
   ],
   "source": [
    "sanityChecks.discProbVsError(train_data,disc4,device)\n",
    "sanityChecks.discProbVsError(test_data,disc4,device)"
   ]
  },
  {
   "cell_type": "markdown",
   "id": "a5bd74c3",
   "metadata": {
    "id": "a5bd74c3",
    "papermill": {
     "duration": 0.038906,
     "end_time": "2022-07-22T08:18:28.942806",
     "exception": false,
     "start_time": "2022-07-22T08:18:28.903900",
     "status": "completed"
    },
    "tags": []
   },
   "source": [
    "## Skip Connection Model Analysis - ABC-GAN "
   ]
  },
  {
   "cell_type": "markdown",
   "id": "5744a8bf",
   "metadata": {
    "id": "5744a8bf",
    "papermill": {
     "duration": 0.064107,
     "end_time": "2022-07-22T08:18:29.033868",
     "exception": false,
     "start_time": "2022-07-22T08:18:28.969761",
     "status": "completed"
    },
    "tags": []
   },
   "source": [
    "### Weight Analysis \n",
    "\n",
    "Study the weights of the skip connection layer\n",
    "\n",
    "Equation of the skip connection is \n",
    "\n",
    "$output = y_{gan} * w + y_{abc} * (1-w)$"
   ]
  },
  {
   "cell_type": "code",
   "execution_count": 27,
   "id": "52c31dea",
   "metadata": {
    "execution": {
     "iopub.execute_input": "2022-07-22T08:18:29.175167Z",
     "iopub.status.busy": "2022-07-22T08:18:29.174116Z",
     "iopub.status.idle": "2022-07-22T08:18:29.181543Z",
     "shell.execute_reply": "2022-07-22T08:18:29.179718Z"
    },
    "id": "52c31dea",
    "papermill": {
     "duration": 0.114254,
     "end_time": "2022-07-22T08:18:29.215358",
     "exception": false,
     "start_time": "2022-07-22T08:18:29.101104",
     "status": "completed"
    },
    "tags": []
   },
   "outputs": [],
   "source": [
    "# print(\"Weight of the node at skip connection\")\n",
    "# for name,param in gen3.named_parameters():\n",
    "#     if(name == \"skipNode.weight\"):\n",
    "#         print(param)\n",
    "#         sb.glue(\"Skip Connection Weight\",param.item())"
   ]
  },
  {
   "cell_type": "markdown",
   "id": "02d2d989",
   "metadata": {
    "id": "a5bd74c3",
    "papermill": {
     "duration": 0.162476,
     "end_time": "2022-07-22T08:18:29.426368",
     "exception": false,
     "start_time": "2022-07-22T08:18:29.263892",
     "status": "completed"
    },
    "tags": []
   },
   "source": [
    "## skipGAN Model Analysis (TabNet Generator) "
   ]
  },
  {
   "cell_type": "markdown",
   "id": "9a4ad9ba",
   "metadata": {
    "id": "5744a8bf",
    "papermill": {
     "duration": 0.06809,
     "end_time": "2022-07-22T08:18:29.563563",
     "exception": false,
     "start_time": "2022-07-22T08:18:29.495473",
     "status": "completed"
    },
    "tags": []
   },
   "source": [
    "### Weight Analysis \n",
    "\n",
    "Study the weights of the skip connection layer\n",
    "\n",
    "Equation of the skip connection is \n",
    "\n",
    "$output = y_{gan} * w + y_{abc} * (1-w)$"
   ]
  },
  {
   "cell_type": "code",
   "execution_count": 28,
   "id": "0e8914fc",
   "metadata": {
    "execution": {
     "iopub.execute_input": "2022-07-22T08:18:29.743854Z",
     "iopub.status.busy": "2022-07-22T08:18:29.743279Z",
     "iopub.status.idle": "2022-07-22T08:18:29.762463Z",
     "shell.execute_reply": "2022-07-22T08:18:29.761691Z"
    },
    "id": "52c31dea",
    "papermill": {
     "duration": 0.177204,
     "end_time": "2022-07-22T08:18:29.820603",
     "exception": false,
     "start_time": "2022-07-22T08:18:29.643399",
     "status": "completed"
    },
    "tags": []
   },
   "outputs": [
    {
     "name": "stdout",
     "output_type": "stream",
     "text": [
      "Weight of the node at skip connection\n",
      "Parameter containing:\n",
      "tensor([[0.1920]], requires_grad=True)\n"
     ]
    },
    {
     "data": {
      "application/scrapbook.scrap.json+json": {
       "data": 0.19196030497550964,
       "encoder": "json",
       "name": "Skip Connection Weight",
       "version": 1
      }
     },
     "metadata": {
      "scrapbook": {
       "data": true,
       "display": false,
       "name": "Skip Connection Weight"
      }
     },
     "output_type": "display_data"
    }
   ],
   "source": [
    "print(\"Weight of the node at skip connection\")\n",
    "for name,param in gen4.named_parameters():\n",
    "    if(name == \"skipNode.weight\"):\n",
    "        print(param)\n",
    "        sb.glue(\"Skip Connection Weight\",param.item())"
   ]
  }
 ],
 "metadata": {
  "colab": {
   "collapsed_sections": [],
   "name": "ABC_GAN_Model-Catboost_Pre-gen.ipynb",
   "provenance": []
  },
  "interpreter": {
   "hash": "31f2aee4e71d21fbe5cf8b01ff0e069b9275f58929596ceb00d14d90e3e16cd6"
  },
  "kernelspec": {
   "display_name": "Python 3 (ipykernel)",
   "language": "python",
   "name": "python3"
  },
  "language_info": {
   "codemirror_mode": {
    "name": "ipython",
    "version": 3
   },
   "file_extension": ".py",
   "mimetype": "text/x-python",
   "name": "python",
   "nbconvert_exporter": "python",
   "pygments_lexer": "ipython3",
   "version": "3.8.13"
  },
  "papermill": {
   "default_parameters": {},
   "duration": 477.916018,
   "end_time": "2022-07-22T08:18:31.129697",
   "environment_variables": {},
   "exception": null,
   "input_path": "ABC_GAN-TabNet.ipynb",
   "output_path": "./ABC_GAN_TabNet/ABC-GAN_output_1_1.ipynb",
   "parameters": {
    "bias": 1,
    "variance": 0.1
   },
   "start_time": "2022-07-22T08:10:33.213679",
   "version": "2.3.3"
  }
 },
 "nbformat": 4,
 "nbformat_minor": 5
}