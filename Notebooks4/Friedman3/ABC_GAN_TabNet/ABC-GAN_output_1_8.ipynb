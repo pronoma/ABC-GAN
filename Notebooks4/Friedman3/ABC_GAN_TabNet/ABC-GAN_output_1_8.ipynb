{
 "cells": [
  {
   "cell_type": "markdown",
   "id": "622780e6",
   "metadata": {
    "id": "622780e6",
    "papermill": {
     "duration": 0.04129,
     "end_time": "2022-07-22T09:01:50.894817",
     "exception": false,
     "start_time": "2022-07-22T09:01:50.853527",
     "status": "completed"
    },
    "tags": []
   },
   "source": [
    "## Import Libraries "
   ]
  },
  {
   "cell_type": "code",
   "execution_count": 1,
   "id": "a62397e3",
   "metadata": {
    "execution": {
     "iopub.execute_input": "2022-07-22T09:01:51.031313Z",
     "iopub.status.busy": "2022-07-22T09:01:51.030360Z",
     "iopub.status.idle": "2022-07-22T09:01:51.050260Z",
     "shell.execute_reply": "2022-07-22T09:01:51.049137Z"
    },
    "id": "a62397e3",
    "papermill": {
     "duration": 0.05673,
     "end_time": "2022-07-22T09:01:51.053640",
     "exception": false,
     "start_time": "2022-07-22T09:01:50.996910",
     "status": "completed"
    },
    "tags": []
   },
   "outputs": [],
   "source": [
    "import warnings\n",
    "import sys\n",
    "sys.path.insert(0, '../../src')\n",
    "warnings.filterwarnings('ignore')"
   ]
  },
  {
   "cell_type": "code",
   "execution_count": 2,
   "id": "d6a4e155",
   "metadata": {
    "execution": {
     "iopub.execute_input": "2022-07-22T09:01:51.071275Z",
     "iopub.status.busy": "2022-07-22T09:01:51.070515Z",
     "iopub.status.idle": "2022-07-22T09:01:59.283061Z",
     "shell.execute_reply": "2022-07-22T09:01:59.280167Z"
    },
    "id": "d6a4e155",
    "papermill": {
     "duration": 8.226588,
     "end_time": "2022-07-22T09:01:59.287776",
     "exception": false,
     "start_time": "2022-07-22T09:01:51.061188",
     "status": "completed"
    },
    "tags": []
   },
   "outputs": [],
   "source": [
    "import ABC_train_test2\n",
    "import friedman3Dataset\n",
    "import network\n",
    "import dataset\n",
    "import sanityChecks\n",
    "import torch \n",
    "import scrapbook as sb\n",
    "from statistics import mean \n",
    "import catboost as ctb \n",
    "from sklearn.model_selection import train_test_split\n",
    "from sklearn.metrics import mean_squared_error,mean_absolute_error\n",
    "import numpy as np\n",
    "from pytorch_tabnet.tab_model import TabNetRegressor"
   ]
  },
  {
   "cell_type": "markdown",
   "id": "2fa5b0f7",
   "metadata": {
    "id": "2fa5b0f7",
    "papermill": {
     "duration": 0.007989,
     "end_time": "2022-07-22T09:01:59.305206",
     "exception": false,
     "start_time": "2022-07-22T09:01:59.297217",
     "status": "completed"
    },
    "tags": []
   },
   "source": [
    "## Parameters "
   ]
  },
  {
   "cell_type": "code",
   "execution_count": 3,
   "id": "783186fb",
   "metadata": {
    "execution": {
     "iopub.execute_input": "2022-07-22T09:01:59.324430Z",
     "iopub.status.busy": "2022-07-22T09:01:59.323372Z",
     "iopub.status.idle": "2022-07-22T09:01:59.329164Z",
     "shell.execute_reply": "2022-07-22T09:01:59.328111Z"
    },
    "id": "783186fb",
    "papermill": {
     "duration": 0.020171,
     "end_time": "2022-07-22T09:01:59.333365",
     "exception": false,
     "start_time": "2022-07-22T09:01:59.313194",
     "status": "completed"
    },
    "tags": [
     "parameters"
    ]
   },
   "outputs": [],
   "source": [
    "variance = 1\n",
    "bias = 1 "
   ]
  },
  {
   "cell_type": "code",
   "execution_count": 4,
   "id": "d34c516f",
   "metadata": {
    "execution": {
     "iopub.execute_input": "2022-07-22T09:01:59.354782Z",
     "iopub.status.busy": "2022-07-22T09:01:59.354110Z",
     "iopub.status.idle": "2022-07-22T09:01:59.360225Z",
     "shell.execute_reply": "2022-07-22T09:01:59.358311Z"
    },
    "papermill": {
     "duration": 0.019751,
     "end_time": "2022-07-22T09:01:59.363339",
     "exception": false,
     "start_time": "2022-07-22T09:01:59.343588",
     "status": "completed"
    },
    "tags": [
     "injected-parameters"
    ]
   },
   "outputs": [],
   "source": [
    "# Parameters\n",
    "variance = 0.01\n",
    "bias = 0.01\n"
   ]
  },
  {
   "cell_type": "markdown",
   "id": "391cdbfd",
   "metadata": {
    "id": "391cdbfd",
    "papermill": {
     "duration": 0.019273,
     "end_time": "2022-07-22T09:01:59.398411",
     "exception": false,
     "start_time": "2022-07-22T09:01:59.379138",
     "status": "completed"
    },
    "tags": []
   },
   "source": [
    "## Dataset \n"
   ]
  },
  {
   "cell_type": "code",
   "execution_count": 5,
   "id": "5b51f161",
   "metadata": {
    "execution": {
     "iopub.execute_input": "2022-07-22T09:01:59.421446Z",
     "iopub.status.busy": "2022-07-22T09:01:59.420957Z",
     "iopub.status.idle": "2022-07-22T09:01:59.425899Z",
     "shell.execute_reply": "2022-07-22T09:01:59.424701Z"
    },
    "id": "5b51f161",
    "papermill": {
     "duration": 0.018154,
     "end_time": "2022-07-22T09:01:59.429032",
     "exception": false,
     "start_time": "2022-07-22T09:01:59.410878",
     "status": "completed"
    },
    "tags": []
   },
   "outputs": [],
   "source": [
    "#Parameters \n",
    "n_features = 4\n",
    "n_samples= 100\n",
    "n_target = 1"
   ]
  },
  {
   "cell_type": "code",
   "execution_count": 6,
   "id": "5d6eced4",
   "metadata": {
    "execution": {
     "iopub.execute_input": "2022-07-22T09:01:59.447572Z",
     "iopub.status.busy": "2022-07-22T09:01:59.446916Z",
     "iopub.status.idle": "2022-07-22T09:01:59.464615Z",
     "shell.execute_reply": "2022-07-22T09:01:59.463168Z"
    },
    "id": "5d6eced4",
    "papermill": {
     "duration": 0.030918,
     "end_time": "2022-07-22T09:01:59.468072",
     "exception": false,
     "start_time": "2022-07-22T09:01:59.437154",
     "status": "completed"
    },
    "tags": []
   },
   "outputs": [
    {
     "name": "stdout",
     "output_type": "stream",
     "text": [
      "          X1           X2        X3        X4         Y\n",
      "0  39.387903  1006.425067  0.470845  7.802962  1.638262\n",
      "1  63.769227   754.616464  0.338051  2.828677  1.356789\n",
      "2  55.917543   284.406776  0.106255  5.278311  0.380046\n",
      "3  27.027446   979.013872  0.266990  8.803774  1.608371\n",
      "4  32.185027  1265.629629  0.175550  4.987638  1.506621\n"
     ]
    }
   ],
   "source": [
    "X,Y = friedman3Dataset.friedman3_data(n_samples)"
   ]
  },
  {
   "cell_type": "code",
   "execution_count": 7,
   "id": "fe007438",
   "metadata": {
    "execution": {
     "iopub.execute_input": "2022-07-22T09:01:59.486152Z",
     "iopub.status.busy": "2022-07-22T09:01:59.485677Z",
     "iopub.status.idle": "2022-07-22T09:01:59.493430Z",
     "shell.execute_reply": "2022-07-22T09:01:59.491977Z"
    },
    "id": "fe007438",
    "papermill": {
     "duration": 0.021572,
     "end_time": "2022-07-22T09:01:59.497468",
     "exception": false,
     "start_time": "2022-07-22T09:01:59.475896",
     "status": "completed"
    },
    "tags": []
   },
   "outputs": [],
   "source": [
    "#Train test split for dataset \n",
    "X_train,X_test,Y_train,Y_test = train_test_split(X,Y,test_size = 0.2)\n",
    "train_data = dataset.CustomDataset(X_train,Y_train)\n",
    "test_data = dataset.CustomDataset(X_test,Y_test)\n"
   ]
  },
  {
   "cell_type": "markdown",
   "id": "a9a1af34",
   "metadata": {
    "id": "a9a1af34",
    "papermill": {
     "duration": 0.010452,
     "end_time": "2022-07-22T09:01:59.516858",
     "exception": false,
     "start_time": "2022-07-22T09:01:59.506406",
     "status": "completed"
    },
    "tags": []
   },
   "source": [
    "## Training Parameters "
   ]
  },
  {
   "cell_type": "code",
   "execution_count": 8,
   "id": "952b7fc8",
   "metadata": {
    "execution": {
     "iopub.execute_input": "2022-07-22T09:01:59.537561Z",
     "iopub.status.busy": "2022-07-22T09:01:59.536173Z",
     "iopub.status.idle": "2022-07-22T09:01:59.546460Z",
     "shell.execute_reply": "2022-07-22T09:01:59.544909Z"
    },
    "id": "952b7fc8",
    "papermill": {
     "duration": 0.027305,
     "end_time": "2022-07-22T09:01:59.552099",
     "exception": false,
     "start_time": "2022-07-22T09:01:59.524794",
     "status": "completed"
    },
    "tags": []
   },
   "outputs": [],
   "source": [
    "batch_size = 32\n",
    "n_epochs = 1000\n",
    "#Select the device \n",
    "device = torch.device('cuda' if torch.cuda.is_available() else 'cpu')"
   ]
  },
  {
   "cell_type": "markdown",
   "id": "a95e1600",
   "metadata": {
    "id": "a95e1600",
    "papermill": {
     "duration": 0.008598,
     "end_time": "2022-07-22T09:01:59.568960",
     "exception": false,
     "start_time": "2022-07-22T09:01:59.560362",
     "status": "completed"
    },
    "tags": []
   },
   "source": [
    "# ABC Pre-generator Model \n",
    "\n",
    "1. The catboost model is used as a pre-generator model for the ABC-GAN. \n",
    "2. The model is first trained on the entire dataset \n",
    "3. It generats X,Y pairs and we add some Gaussian noise with mean 0 and variance 1 to it which is then feed as input to the generator.\n"
   ]
  },
  {
   "cell_type": "code",
   "execution_count": 9,
   "id": "ac011ebf",
   "metadata": {
    "execution": {
     "iopub.execute_input": "2022-07-22T09:01:59.589009Z",
     "iopub.status.busy": "2022-07-22T09:01:59.588089Z",
     "iopub.status.idle": "2022-07-22T09:03:27.150376Z",
     "shell.execute_reply": "2022-07-22T09:03:27.148023Z"
    },
    "papermill": {
     "duration": 87.57707,
     "end_time": "2022-07-22T09:03:27.154412",
     "exception": false,
     "start_time": "2022-07-22T09:01:59.577342",
     "status": "completed"
    },
    "tags": []
   },
   "outputs": [
    {
     "name": "stdout",
     "output_type": "stream",
     "text": [
      "Device used : cpu\n"
     ]
    },
    {
     "name": "stdout",
     "output_type": "stream",
     "text": [
      "epoch 0  | loss: 1.21123 | train_mse: 6.73209 | train_mae: 1.90262 |  0:00:00s\n",
      "epoch 1  | loss: 0.80748 | train_mse: 4.70749 | train_mae: 1.61631 |  0:00:00s\n"
     ]
    },
    {
     "name": "stdout",
     "output_type": "stream",
     "text": [
      "epoch 2  | loss: 0.72687 | train_mse: 3.50196 | train_mae: 1.40794 |  0:00:00s\n",
      "epoch 3  | loss: 0.67498 | train_mse: 2.79632 | train_mae: 1.27294 |  0:00:00s\n",
      "epoch 4  | loss: 0.66155 | train_mse: 2.49861 | train_mae: 1.1895  |  0:00:00s"
     ]
    },
    {
     "name": "stdout",
     "output_type": "stream",
     "text": [
      "\n",
      "epoch 5  | loss: 0.71382 | train_mse: 2.25938 | train_mae: 1.12334 |  0:00:00s\n"
     ]
    },
    {
     "name": "stdout",
     "output_type": "stream",
     "text": [
      "epoch 6  | loss: 0.57304 | train_mse: 1.95983 | train_mae: 1.04926 |  0:00:01s\n",
      "epoch 7  | loss: 0.54858 | train_mse: 1.72402 | train_mae: 0.99011 |  0:00:01s\n",
      "epoch 8  | loss: 0.62905 | train_mse: 1.55204 | train_mae: 0.94999 |  0:00:01s\n"
     ]
    },
    {
     "name": "stdout",
     "output_type": "stream",
     "text": [
      "epoch 9  | loss: 0.58534 | train_mse: 1.38543 | train_mae: 0.90236 |  0:00:01s\n",
      "epoch 10 | loss: 0.55126 | train_mse: 1.1848  | train_mae: 0.84564 |  0:00:01s\n",
      "epoch 11 | loss: 0.45267 | train_mse: 1.03352 | train_mae: 0.7978  |  0:00:01s\n"
     ]
    },
    {
     "name": "stdout",
     "output_type": "stream",
     "text": [
      "epoch 12 | loss: 0.43341 | train_mse: 0.88306 | train_mae: 0.74586 |  0:00:01s\n",
      "epoch 13 | loss: 0.66579 | train_mse: 0.76762 | train_mae: 0.69425 |  0:00:01s\n"
     ]
    },
    {
     "name": "stdout",
     "output_type": "stream",
     "text": [
      "epoch 14 | loss: 0.4167  | train_mse: 0.68266 | train_mae: 0.64879 |  0:00:01s\n",
      "epoch 15 | loss: 0.47603 | train_mse: 0.63136 | train_mae: 0.61444 |  0:00:01s\n"
     ]
    },
    {
     "name": "stdout",
     "output_type": "stream",
     "text": [
      "epoch 16 | loss: 0.42728 | train_mse: 0.56848 | train_mae: 0.57943 |  0:00:02s\n",
      "epoch 17 | loss: 0.38795 | train_mse: 0.51947 | train_mae: 0.54958 |  0:00:02s\n"
     ]
    },
    {
     "name": "stdout",
     "output_type": "stream",
     "text": [
      "epoch 18 | loss: 0.52103 | train_mse: 0.4934  | train_mae: 0.53244 |  0:00:02s\n",
      "epoch 19 | loss: 0.32325 | train_mse: 0.46746 | train_mae: 0.51622 |  0:00:02s\n"
     ]
    },
    {
     "name": "stdout",
     "output_type": "stream",
     "text": [
      "epoch 20 | loss: 0.36955 | train_mse: 0.44526 | train_mae: 0.50167 |  0:00:02s\n",
      "epoch 21 | loss: 0.28844 | train_mse: 0.4202  | train_mae: 0.48667 |  0:00:02s\n"
     ]
    },
    {
     "name": "stdout",
     "output_type": "stream",
     "text": [
      "epoch 22 | loss: 0.30272 | train_mse: 0.39503 | train_mae: 0.4742  |  0:00:02s\n",
      "epoch 23 | loss: 0.41162 | train_mse: 0.37599 | train_mae: 0.46157 |  0:00:03s\n"
     ]
    },
    {
     "name": "stdout",
     "output_type": "stream",
     "text": [
      "epoch 24 | loss: 0.35456 | train_mse: 0.35024 | train_mae: 0.44472 |  0:00:03s\n",
      "epoch 25 | loss: 0.34354 | train_mse: 0.33442 | train_mae: 0.43383 |  0:00:03s\n"
     ]
    },
    {
     "name": "stdout",
     "output_type": "stream",
     "text": [
      "epoch 26 | loss: 0.31003 | train_mse: 0.32538 | train_mae: 0.42462 |  0:00:03s\n",
      "epoch 27 | loss: 0.407   | train_mse: 0.31235 | train_mae: 0.4164  |  0:00:03s\n"
     ]
    },
    {
     "name": "stdout",
     "output_type": "stream",
     "text": [
      "epoch 28 | loss: 0.23577 | train_mse: 0.3008  | train_mae: 0.41178 |  0:00:03s\n",
      "epoch 29 | loss: 0.38412 | train_mse: 0.28664 | train_mae: 0.40422 |  0:00:04s\n"
     ]
    },
    {
     "name": "stdout",
     "output_type": "stream",
     "text": [
      "epoch 30 | loss: 0.27566 | train_mse: 0.27604 | train_mae: 0.39614 |  0:00:04s\n",
      "epoch 31 | loss: 0.38642 | train_mse: 0.26744 | train_mae: 0.39074 |  0:00:04s\n"
     ]
    },
    {
     "name": "stdout",
     "output_type": "stream",
     "text": [
      "epoch 32 | loss: 0.38481 | train_mse: 0.25741 | train_mae: 0.3841  |  0:00:04s\n",
      "epoch 33 | loss: 0.30614 | train_mse: 0.24349 | train_mae: 0.37423 |  0:00:04s\n"
     ]
    },
    {
     "name": "stdout",
     "output_type": "stream",
     "text": [
      "epoch 34 | loss: 0.27434 | train_mse: 0.2317  | train_mae: 0.36479 |  0:00:04s\n",
      "epoch 35 | loss: 0.20891 | train_mse: 0.22343 | train_mae: 0.35688 |  0:00:04s\n",
      "epoch 36 | loss: 0.23427 | train_mse: 0.21528 | train_mae: 0.35093 |  0:00:04s\n"
     ]
    },
    {
     "name": "stdout",
     "output_type": "stream",
     "text": [
      "epoch 37 | loss: 0.32577 | train_mse: 0.20941 | train_mae: 0.34681 |  0:00:05s\n",
      "epoch 38 | loss: 0.21205 | train_mse: 0.20479 | train_mae: 0.34463 |  0:00:05s\n",
      "epoch 39 | loss: 0.27982 | train_mse: 0.21695 | train_mae: 0.35188 |  0:00:05s\n"
     ]
    },
    {
     "name": "stdout",
     "output_type": "stream",
     "text": [
      "epoch 40 | loss: 0.21976 | train_mse: 0.20594 | train_mae: 0.34723 |  0:00:05s\n",
      "epoch 41 | loss: 0.24128 | train_mse: 0.19844 | train_mae: 0.3415  |  0:00:05s\n"
     ]
    },
    {
     "name": "stdout",
     "output_type": "stream",
     "text": [
      "epoch 42 | loss: 0.29437 | train_mse: 0.19921 | train_mae: 0.34795 |  0:00:05s\n",
      "epoch 43 | loss: 0.17462 | train_mse: 0.1992  | train_mae: 0.34968 |  0:00:05s\n"
     ]
    },
    {
     "name": "stdout",
     "output_type": "stream",
     "text": [
      "epoch 44 | loss: 0.25278 | train_mse: 0.1977  | train_mae: 0.34991 |  0:00:05s\n",
      "epoch 45 | loss: 0.30894 | train_mse: 0.19238 | train_mae: 0.34702 |  0:00:06s\n"
     ]
    },
    {
     "name": "stdout",
     "output_type": "stream",
     "text": [
      "epoch 46 | loss: 0.24163 | train_mse: 0.18355 | train_mae: 0.33782 |  0:00:06s\n",
      "epoch 47 | loss: 0.25543 | train_mse: 0.18169 | train_mae: 0.33668 |  0:00:06s\n"
     ]
    },
    {
     "name": "stdout",
     "output_type": "stream",
     "text": [
      "epoch 48 | loss: 0.274   | train_mse: 0.18633 | train_mae: 0.34474 |  0:00:06s\n",
      "epoch 49 | loss: 0.22864 | train_mse: 0.18657 | train_mae: 0.34534 |  0:00:06s\n"
     ]
    },
    {
     "name": "stdout",
     "output_type": "stream",
     "text": [
      "epoch 50 | loss: 0.20422 | train_mse: 0.18548 | train_mae: 0.34591 |  0:00:06s\n",
      "epoch 51 | loss: 0.34171 | train_mse: 0.1782  | train_mae: 0.34021 |  0:00:06s\n",
      "epoch 52 | loss: 0.28866 | train_mse: 0.16859 | train_mae: 0.33372 |  0:00:06s\n"
     ]
    },
    {
     "name": "stdout",
     "output_type": "stream",
     "text": [
      "epoch 53 | loss: 0.35956 | train_mse: 0.16135 | train_mae: 0.32642 |  0:00:06s\n",
      "epoch 54 | loss: 0.2161  | train_mse: 0.15489 | train_mae: 0.32003 |  0:00:07s\n",
      "epoch 55 | loss: 0.34285 | train_mse: 0.14831 | train_mae: 0.31333 |  0:00:07s\n"
     ]
    },
    {
     "name": "stdout",
     "output_type": "stream",
     "text": [
      "epoch 56 | loss: 0.32773 | train_mse: 0.14514 | train_mae: 0.31171 |  0:00:07s\n",
      "epoch 57 | loss: 0.21417 | train_mse: 0.14008 | train_mae: 0.30832 |  0:00:07s\n",
      "epoch 58 | loss: 0.3903  | train_mse: 0.1385  | train_mae: 0.30783 |  0:00:07s\n"
     ]
    },
    {
     "name": "stdout",
     "output_type": "stream",
     "text": [
      "epoch 59 | loss: 0.25832 | train_mse: 0.13622 | train_mae: 0.30445 |  0:00:07s\n",
      "epoch 60 | loss: 0.20523 | train_mse: 0.13482 | train_mae: 0.30318 |  0:00:07s\n",
      "epoch 61 | loss: 0.27508 | train_mse: 0.13218 | train_mae: 0.30112 |  0:00:07s\n"
     ]
    },
    {
     "name": "stdout",
     "output_type": "stream",
     "text": [
      "epoch 62 | loss: 0.29688 | train_mse: 0.13021 | train_mae: 0.29962 |  0:00:07s\n",
      "epoch 63 | loss: 0.24483 | train_mse: 0.12973 | train_mae: 0.29932 |  0:00:07s\n",
      "epoch 64 | loss: 0.29684 | train_mse: 0.12969 | train_mae: 0.29837 |  0:00:08s\n"
     ]
    },
    {
     "name": "stdout",
     "output_type": "stream",
     "text": [
      "epoch 65 | loss: 0.18096 | train_mse: 0.13063 | train_mae: 0.29928 |  0:00:08s\n",
      "epoch 66 | loss: 0.21878 | train_mse: 0.12662 | train_mae: 0.29322 |  0:00:08s\n",
      "epoch 67 | loss: 0.2234  | train_mse: 0.12567 | train_mae: 0.29334 |  0:00:08s\n"
     ]
    },
    {
     "name": "stdout",
     "output_type": "stream",
     "text": [
      "epoch 68 | loss: 0.17432 | train_mse: 0.13026 | train_mae: 0.30052 |  0:00:08s\n",
      "epoch 69 | loss: 0.28095 | train_mse: 0.13625 | train_mae: 0.30184 |  0:00:08s\n"
     ]
    },
    {
     "name": "stdout",
     "output_type": "stream",
     "text": [
      "epoch 70 | loss: 0.25235 | train_mse: 0.12934 | train_mae: 0.29654 |  0:00:08s\n",
      "epoch 71 | loss: 0.22743 | train_mse: 0.12727 | train_mae: 0.29764 |  0:00:08s\n",
      "epoch 72 | loss: 0.27881 | train_mse: 0.1256  | train_mae: 0.29382 |  0:00:08s\n"
     ]
    },
    {
     "name": "stdout",
     "output_type": "stream",
     "text": [
      "epoch 73 | loss: 0.18265 | train_mse: 0.12329 | train_mae: 0.28866 |  0:00:08s\n",
      "epoch 74 | loss: 0.15298 | train_mse: 0.1198  | train_mae: 0.28574 |  0:00:08s\n",
      "epoch 75 | loss: 0.2076  | train_mse: 0.12526 | train_mae: 0.28782 |  0:00:09s\n"
     ]
    },
    {
     "name": "stdout",
     "output_type": "stream",
     "text": [
      "epoch 76 | loss: 0.20439 | train_mse: 0.11983 | train_mae: 0.28623 |  0:00:09s\n",
      "epoch 77 | loss: 0.20621 | train_mse: 0.11803 | train_mae: 0.28466 |  0:00:09s\n",
      "epoch 78 | loss: 0.18951 | train_mse: 0.12157 | train_mae: 0.28772 |  0:00:09s\n"
     ]
    },
    {
     "name": "stdout",
     "output_type": "stream",
     "text": [
      "epoch 79 | loss: 0.26731 | train_mse: 0.12933 | train_mae: 0.28898 |  0:00:09s\n",
      "epoch 80 | loss: 0.25477 | train_mse: 0.13033 | train_mae: 0.28681 |  0:00:09s\n"
     ]
    },
    {
     "name": "stdout",
     "output_type": "stream",
     "text": [
      "epoch 81 | loss: 0.2897  | train_mse: 0.1251  | train_mae: 0.2784  |  0:00:09s\n",
      "epoch 82 | loss: 0.21737 | train_mse: 0.12276 | train_mae: 0.27715 |  0:00:09s\n",
      "epoch 83 | loss: 0.10656 | train_mse: 0.12187 | train_mae: 0.27572 |  0:00:09s\n"
     ]
    },
    {
     "name": "stdout",
     "output_type": "stream",
     "text": [
      "epoch 84 | loss: 0.16136 | train_mse: 0.12786 | train_mae: 0.27832 |  0:00:09s\n",
      "epoch 85 | loss: 0.18095 | train_mse: 0.12292 | train_mae: 0.27406 |  0:00:10s\n",
      "epoch 86 | loss: 0.388   | train_mse: 0.12039 | train_mae: 0.27215 |  0:00:10s\n"
     ]
    },
    {
     "name": "stdout",
     "output_type": "stream",
     "text": [
      "epoch 87 | loss: 0.21716 | train_mse: 0.12184 | train_mae: 0.27326 |  0:00:10s\n",
      "epoch 88 | loss: 0.22037 | train_mse: 0.12265 | train_mae: 0.2729  |  0:00:10s\n",
      "epoch 89 | loss: 0.21052 | train_mse: 0.12032 | train_mae: 0.26964 |  0:00:10s\n"
     ]
    },
    {
     "name": "stdout",
     "output_type": "stream",
     "text": [
      "epoch 90 | loss: 0.25549 | train_mse: 0.12086 | train_mae: 0.27053 |  0:00:10s\n",
      "epoch 91 | loss: 0.24779 | train_mse: 0.12035 | train_mae: 0.27019 |  0:00:10s\n"
     ]
    },
    {
     "name": "stdout",
     "output_type": "stream",
     "text": [
      "epoch 92 | loss: 0.33574 | train_mse: 0.11887 | train_mae: 0.27255 |  0:00:10s\n",
      "epoch 93 | loss: 0.24241 | train_mse: 0.11908 | train_mae: 0.27837 |  0:00:10s\n",
      "epoch 94 | loss: 0.19404 | train_mse: 0.1167  | train_mae: 0.27994 |  0:00:10s\n"
     ]
    },
    {
     "name": "stdout",
     "output_type": "stream",
     "text": [
      "epoch 95 | loss: 0.24232 | train_mse: 0.11668 | train_mae: 0.28113 |  0:00:10s\n",
      "epoch 96 | loss: 0.17454 | train_mse: 0.11752 | train_mae: 0.28258 |  0:00:11s\n",
      "epoch 97 | loss: 0.16783 | train_mse: 0.11783 | train_mae: 0.28309 |  0:00:11s\n"
     ]
    },
    {
     "name": "stdout",
     "output_type": "stream",
     "text": [
      "epoch 98 | loss: 0.15898 | train_mse: 0.11842 | train_mae: 0.28455 |  0:00:11s\n",
      "epoch 99 | loss: 0.13265 | train_mse: 0.11819 | train_mae: 0.28407 |  0:00:11s\n",
      "epoch 100| loss: 0.15195 | train_mse: 0.11908 | train_mae: 0.28371 |  0:00:11s\n"
     ]
    },
    {
     "name": "stdout",
     "output_type": "stream",
     "text": [
      "epoch 101| loss: 0.29773 | train_mse: 0.11784 | train_mae: 0.28375 |  0:00:11s\n",
      "epoch 102| loss: 0.1551  | train_mse: 0.11447 | train_mae: 0.28214 |  0:00:11s\n"
     ]
    },
    {
     "name": "stdout",
     "output_type": "stream",
     "text": [
      "epoch 103| loss: 0.14223 | train_mse: 0.11219 | train_mae: 0.28174 |  0:00:11s\n",
      "epoch 104| loss: 0.28655 | train_mse: 0.11065 | train_mae: 0.28151 |  0:00:11s\n",
      "epoch 105| loss: 0.19699 | train_mse: 0.10891 | train_mae: 0.27997 |  0:00:11s\n"
     ]
    },
    {
     "name": "stdout",
     "output_type": "stream",
     "text": [
      "epoch 106| loss: 0.19803 | train_mse: 0.10574 | train_mae: 0.27493 |  0:00:11s\n",
      "epoch 107| loss: 0.19398 | train_mse: 0.10208 | train_mae: 0.26907 |  0:00:12s\n"
     ]
    },
    {
     "name": "stdout",
     "output_type": "stream",
     "text": [
      "epoch 108| loss: 0.18837 | train_mse: 0.09893 | train_mae: 0.26439 |  0:00:12s\n",
      "epoch 109| loss: 0.17671 | train_mse: 0.09748 | train_mae: 0.26155 |  0:00:12s\n",
      "epoch 110| loss: 0.1811  | train_mse: 0.0937  | train_mae: 0.25401 |  0:00:12s\n"
     ]
    },
    {
     "name": "stdout",
     "output_type": "stream",
     "text": [
      "epoch 111| loss: 0.15607 | train_mse: 0.09302 | train_mae: 0.25136 |  0:00:12s\n",
      "epoch 112| loss: 0.26456 | train_mse: 0.09187 | train_mae: 0.25034 |  0:00:12s\n"
     ]
    },
    {
     "name": "stdout",
     "output_type": "stream",
     "text": [
      "epoch 113| loss: 0.27252 | train_mse: 0.09215 | train_mae: 0.25212 |  0:00:12s\n",
      "epoch 114| loss: 0.20708 | train_mse: 0.09439 | train_mae: 0.25492 |  0:00:12s\n",
      "epoch 115| loss: 0.20066 | train_mse: 0.09545 | train_mae: 0.25545 |  0:00:12s\n"
     ]
    },
    {
     "name": "stdout",
     "output_type": "stream",
     "text": [
      "epoch 116| loss: 0.12505 | train_mse: 0.09601 | train_mae: 0.25559 |  0:00:12s\n",
      "epoch 117| loss: 0.15254 | train_mse: 0.09728 | train_mae: 0.25898 |  0:00:13s\n",
      "epoch 118| loss: 0.17422 | train_mse: 0.09767 | train_mae: 0.25851 |  0:00:13s\n"
     ]
    },
    {
     "name": "stdout",
     "output_type": "stream",
     "text": [
      "epoch 119| loss: 0.19765 | train_mse: 0.09825 | train_mae: 0.26052 |  0:00:13s\n",
      "epoch 120| loss: 0.24878 | train_mse: 0.09793 | train_mae: 0.26089 |  0:00:13s\n",
      "epoch 121| loss: 0.13561 | train_mse: 0.09972 | train_mae: 0.26359 |  0:00:13s\n"
     ]
    },
    {
     "name": "stdout",
     "output_type": "stream",
     "text": [
      "epoch 122| loss: 0.16192 | train_mse: 0.10199 | train_mae: 0.26653 |  0:00:13s\n",
      "epoch 123| loss: 0.24055 | train_mse: 0.10143 | train_mae: 0.26566 |  0:00:13s\n"
     ]
    },
    {
     "name": "stdout",
     "output_type": "stream",
     "text": [
      "epoch 124| loss: 0.19699 | train_mse: 0.09845 | train_mae: 0.26222 |  0:00:13s\n",
      "epoch 125| loss: 0.27915 | train_mse: 0.09612 | train_mae: 0.25889 |  0:00:13s\n",
      "epoch 126| loss: 0.2132  | train_mse: 0.09839 | train_mae: 0.26136 |  0:00:13s\n"
     ]
    },
    {
     "name": "stdout",
     "output_type": "stream",
     "text": [
      "epoch 127| loss: 0.1446  | train_mse: 0.09748 | train_mae: 0.26027 |  0:00:13s\n",
      "epoch 128| loss: 0.16228 | train_mse: 0.09645 | train_mae: 0.25786 |  0:00:14s\n"
     ]
    },
    {
     "name": "stdout",
     "output_type": "stream",
     "text": [
      "epoch 129| loss: 0.17775 | train_mse: 0.0954  | train_mae: 0.25669 |  0:00:14s\n",
      "epoch 130| loss: 0.12716 | train_mse: 0.09464 | train_mae: 0.25594 |  0:00:14s\n",
      "epoch 131| loss: 0.16956 | train_mse: 0.09436 | train_mae: 0.2553  |  0:00:14s\n"
     ]
    },
    {
     "name": "stdout",
     "output_type": "stream",
     "text": [
      "epoch 132| loss: 0.24976 | train_mse: 0.09557 | train_mae: 0.25705 |  0:00:14s\n",
      "epoch 133| loss: 0.1401  | train_mse: 0.08776 | train_mae: 0.25047 |  0:00:14s\n",
      "epoch 134| loss: 0.14974 | train_mse: 0.08282 | train_mae: 0.24231 |  0:00:14s"
     ]
    },
    {
     "name": "stdout",
     "output_type": "stream",
     "text": [
      "\n",
      "epoch 135| loss: 0.21952 | train_mse: 0.08467 | train_mae: 0.2467  |  0:00:14s\n",
      "epoch 136| loss: 0.17151 | train_mse: 0.0854  | train_mae: 0.24764 |  0:00:14s\n"
     ]
    },
    {
     "name": "stdout",
     "output_type": "stream",
     "text": [
      "epoch 137| loss: 0.14589 | train_mse: 0.08788 | train_mae: 0.2503  |  0:00:14s\n",
      "epoch 138| loss: 0.24541 | train_mse: 0.08871 | train_mae: 0.25192 |  0:00:15s\n",
      "epoch 139| loss: 0.33147 | train_mse: 0.0939  | train_mae: 0.25912 |  0:00:15s\n"
     ]
    },
    {
     "name": "stdout",
     "output_type": "stream",
     "text": [
      "epoch 140| loss: 0.12722 | train_mse: 0.09327 | train_mae: 0.25797 |  0:00:15s\n",
      "epoch 141| loss: 0.09759 | train_mse: 0.09272 | train_mae: 0.25675 |  0:00:15s\n",
      "epoch 142| loss: 0.11667 | train_mse: 0.09263 | train_mae: 0.25724 |  0:00:15s\n"
     ]
    },
    {
     "name": "stdout",
     "output_type": "stream",
     "text": [
      "epoch 143| loss: 0.19126 | train_mse: 0.08957 | train_mae: 0.25395 |  0:00:15s\n",
      "epoch 144| loss: 0.16825 | train_mse: 0.08932 | train_mae: 0.2525  |  0:00:15s\n",
      "epoch 145| loss: 0.19325 | train_mse: 0.08856 | train_mae: 0.25157 |  0:00:15s\n"
     ]
    },
    {
     "name": "stdout",
     "output_type": "stream",
     "text": [
      "epoch 146| loss: 0.26245 | train_mse: 0.08983 | train_mae: 0.25265 |  0:00:15s\n",
      "epoch 147| loss: 0.1335  | train_mse: 0.09267 | train_mae: 0.25521 |  0:00:15s\n",
      "epoch 148| loss: 0.24806 | train_mse: 0.093   | train_mae: 0.25384 |  0:00:15s\n"
     ]
    },
    {
     "name": "stdout",
     "output_type": "stream",
     "text": [
      "epoch 149| loss: 0.14288 | train_mse: 0.09335 | train_mae: 0.25131 |  0:00:16s\n",
      "epoch 150| loss: 0.13112 | train_mse: 0.09262 | train_mae: 0.24912 |  0:00:16s\n",
      "epoch 151| loss: 0.26729 | train_mse: 0.0943  | train_mae: 0.24869 |  0:00:16s\n"
     ]
    },
    {
     "name": "stdout",
     "output_type": "stream",
     "text": [
      "epoch 152| loss: 0.1992  | train_mse: 0.09539 | train_mae: 0.24918 |  0:00:16s\n",
      "epoch 153| loss: 0.15272 | train_mse: 0.09437 | train_mae: 0.24601 |  0:00:16s\n",
      "epoch 154| loss: 0.13694 | train_mse: 0.09687 | train_mae: 0.247   |  0:00:16s\n"
     ]
    },
    {
     "name": "stdout",
     "output_type": "stream",
     "text": [
      "epoch 155| loss: 0.19031 | train_mse: 0.09585 | train_mae: 0.24492 |  0:00:16s\n",
      "epoch 156| loss: 0.13909 | train_mse: 0.09251 | train_mae: 0.24023 |  0:00:16s\n",
      "epoch 157| loss: 0.14727 | train_mse: 0.09096 | train_mae: 0.23858 |  0:00:16s\n"
     ]
    },
    {
     "name": "stdout",
     "output_type": "stream",
     "text": [
      "epoch 158| loss: 0.18055 | train_mse: 0.09058 | train_mae: 0.23912 |  0:00:16s\n",
      "epoch 159| loss: 0.17764 | train_mse: 0.08943 | train_mae: 0.23767 |  0:00:16s\n",
      "epoch 160| loss: 0.21836 | train_mse: 0.08632 | train_mae: 0.23421 |  0:00:17s\n"
     ]
    },
    {
     "name": "stdout",
     "output_type": "stream",
     "text": [
      "epoch 161| loss: 0.12893 | train_mse: 0.08477 | train_mae: 0.22979 |  0:00:17s\n",
      "epoch 162| loss: 0.16148 | train_mse: 0.07767 | train_mae: 0.22121 |  0:00:17s\n",
      "epoch 163| loss: 0.15173 | train_mse: 0.07602 | train_mae: 0.21851 |  0:00:17s\n"
     ]
    },
    {
     "name": "stdout",
     "output_type": "stream",
     "text": [
      "epoch 164| loss: 0.1353  | train_mse: 0.07464 | train_mae: 0.21768 |  0:00:17s\n",
      "epoch 165| loss: 0.25734 | train_mse: 0.075   | train_mae: 0.21762 |  0:00:17s\n"
     ]
    },
    {
     "name": "stdout",
     "output_type": "stream",
     "text": [
      "epoch 166| loss: 0.18517 | train_mse: 0.07566 | train_mae: 0.2178  |  0:00:17s\n",
      "epoch 167| loss: 0.24726 | train_mse: 0.07681 | train_mae: 0.21935 |  0:00:17s\n",
      "epoch 168| loss: 0.11057 | train_mse: 0.07554 | train_mae: 0.22028 |  0:00:17s\n"
     ]
    },
    {
     "name": "stdout",
     "output_type": "stream",
     "text": [
      "epoch 169| loss: 0.11881 | train_mse: 0.07467 | train_mae: 0.21714 |  0:00:17s\n",
      "epoch 170| loss: 0.18749 | train_mse: 0.07713 | train_mae: 0.22145 |  0:00:17s\n",
      "epoch 171| loss: 0.16733 | train_mse: 0.07935 | train_mae: 0.22596 |  0:00:18s\n"
     ]
    },
    {
     "name": "stdout",
     "output_type": "stream",
     "text": [
      "epoch 172| loss: 0.13164 | train_mse: 0.07833 | train_mae: 0.22532 |  0:00:18s\n",
      "epoch 173| loss: 0.18307 | train_mse: 0.08042 | train_mae: 0.22663 |  0:00:18s\n",
      "epoch 174| loss: 0.15478 | train_mse: 0.0833  | train_mae: 0.23055 |  0:00:18s\n"
     ]
    },
    {
     "name": "stdout",
     "output_type": "stream",
     "text": [
      "epoch 175| loss: 0.2125  | train_mse: 0.08419 | train_mae: 0.23317 |  0:00:18s\n",
      "epoch 176| loss: 0.16123 | train_mse: 0.08526 | train_mae: 0.23481 |  0:00:18s\n"
     ]
    },
    {
     "name": "stdout",
     "output_type": "stream",
     "text": [
      "epoch 177| loss: 0.16395 | train_mse: 0.0864  | train_mae: 0.23905 |  0:00:18s\n",
      "epoch 178| loss: 0.16673 | train_mse: 0.08491 | train_mae: 0.23824 |  0:00:18s\n",
      "epoch 179| loss: 0.12339 | train_mse: 0.08297 | train_mae: 0.23621 |  0:00:18s\n"
     ]
    },
    {
     "name": "stdout",
     "output_type": "stream",
     "text": [
      "epoch 180| loss: 0.13856 | train_mse: 0.08149 | train_mae: 0.23513 |  0:00:18s\n",
      "epoch 181| loss: 0.12715 | train_mse: 0.08118 | train_mae: 0.23507 |  0:00:18s\n",
      "epoch 182| loss: 0.19447 | train_mse: 0.08106 | train_mae: 0.23494 |  0:00:19s\n"
     ]
    },
    {
     "name": "stdout",
     "output_type": "stream",
     "text": [
      "epoch 183| loss: 0.11062 | train_mse: 0.07988 | train_mae: 0.23224 |  0:00:19s\n",
      "epoch 184| loss: 0.09383 | train_mse: 0.07834 | train_mae: 0.22923 |  0:00:19s\n",
      "epoch 185| loss: 0.09333 | train_mse: 0.07673 | train_mae: 0.22613 |  0:00:19s\n"
     ]
    },
    {
     "name": "stdout",
     "output_type": "stream",
     "text": [
      "epoch 186| loss: 0.16382 | train_mse: 0.07607 | train_mae: 0.2244  |  0:00:19s\n",
      "epoch 187| loss: 0.17397 | train_mse: 0.07537 | train_mae: 0.22325 |  0:00:19s\n"
     ]
    },
    {
     "name": "stdout",
     "output_type": "stream",
     "text": [
      "epoch 188| loss: 0.12872 | train_mse: 0.07496 | train_mae: 0.2208  |  0:00:19s\n",
      "epoch 189| loss: 0.18125 | train_mse: 0.07572 | train_mae: 0.2214  |  0:00:19s\n",
      "epoch 190| loss: 0.10385 | train_mse: 0.07356 | train_mae: 0.21998 |  0:00:19s\n"
     ]
    },
    {
     "name": "stdout",
     "output_type": "stream",
     "text": [
      "epoch 191| loss: 0.10027 | train_mse: 0.07124 | train_mae: 0.21865 |  0:00:19s\n",
      "epoch 192| loss: 0.12685 | train_mse: 0.07079 | train_mae: 0.2193  |  0:00:19s\n",
      "epoch 193| loss: 0.21345 | train_mse: 0.07057 | train_mae: 0.21942 |  0:00:20s\n"
     ]
    },
    {
     "name": "stdout",
     "output_type": "stream",
     "text": [
      "epoch 194| loss: 0.10136 | train_mse: 0.07221 | train_mae: 0.22184 |  0:00:20s\n",
      "epoch 195| loss: 0.1259  | train_mse: 0.07217 | train_mae: 0.22111 |  0:00:20s\n",
      "epoch 196| loss: 0.13601 | train_mse: 0.07413 | train_mae: 0.22259 |  0:00:20s\n"
     ]
    },
    {
     "name": "stdout",
     "output_type": "stream",
     "text": [
      "epoch 197| loss: 0.1885  | train_mse: 0.07523 | train_mae: 0.22258 |  0:00:20s\n",
      "epoch 198| loss: 0.10434 | train_mse: 0.07477 | train_mae: 0.21973 |  0:00:20s\n"
     ]
    },
    {
     "name": "stdout",
     "output_type": "stream",
     "text": [
      "epoch 199| loss: 0.1425  | train_mse: 0.07644 | train_mae: 0.22024 |  0:00:20s\n",
      "epoch 200| loss: 0.12188 | train_mse: 0.07475 | train_mae: 0.21805 |  0:00:20s\n",
      "epoch 201| loss: 0.13191 | train_mse: 0.07243 | train_mae: 0.21467 |  0:00:20s\n"
     ]
    },
    {
     "name": "stdout",
     "output_type": "stream",
     "text": [
      "epoch 202| loss: 0.1094  | train_mse: 0.06974 | train_mae: 0.21098 |  0:00:20s\n",
      "epoch 203| loss: 0.12534 | train_mse: 0.06868 | train_mae: 0.20919 |  0:00:20s\n",
      "epoch 204| loss: 0.16802 | train_mse: 0.06616 | train_mae: 0.20618 |  0:00:21s\n"
     ]
    },
    {
     "name": "stdout",
     "output_type": "stream",
     "text": [
      "epoch 205| loss: 0.13974 | train_mse: 0.06693 | train_mae: 0.20775 |  0:00:21s\n",
      "epoch 206| loss: 0.08297 | train_mse: 0.06811 | train_mae: 0.20845 |  0:00:21s\n",
      "epoch 207| loss: 0.15584 | train_mse: 0.06643 | train_mae: 0.20636 |  0:00:21s\n"
     ]
    },
    {
     "name": "stdout",
     "output_type": "stream",
     "text": [
      "epoch 208| loss: 0.09135 | train_mse: 0.06279 | train_mae: 0.20151 |  0:00:21s\n",
      "epoch 209| loss: 0.21678 | train_mse: 0.06581 | train_mae: 0.20584 |  0:00:21s\n"
     ]
    },
    {
     "name": "stdout",
     "output_type": "stream",
     "text": [
      "epoch 210| loss: 0.12005 | train_mse: 0.06409 | train_mae: 0.20504 |  0:00:21s\n",
      "epoch 211| loss: 0.20274 | train_mse: 0.06539 | train_mae: 0.20701 |  0:00:21s\n",
      "epoch 212| loss: 0.16584 | train_mse: 0.06595 | train_mae: 0.20854 |  0:00:21s\n"
     ]
    },
    {
     "name": "stdout",
     "output_type": "stream",
     "text": [
      "epoch 213| loss: 0.10845 | train_mse: 0.06727 | train_mae: 0.21027 |  0:00:21s\n",
      "epoch 214| loss: 0.09441 | train_mse: 0.06966 | train_mae: 0.21332 |  0:00:22s\n",
      "epoch 215| loss: 0.14563 | train_mse: 0.06912 | train_mae: 0.21275 |  0:00:22s\n"
     ]
    },
    {
     "name": "stdout",
     "output_type": "stream",
     "text": [
      "epoch 216| loss: 0.11611 | train_mse: 0.06833 | train_mae: 0.21209 |  0:00:22s\n",
      "epoch 217| loss: 0.10879 | train_mse: 0.06561 | train_mae: 0.2083  |  0:00:22s\n",
      "epoch 218| loss: 0.12615 | train_mse: 0.064   | train_mae: 0.2057  |  0:00:22s\n"
     ]
    },
    {
     "name": "stdout",
     "output_type": "stream",
     "text": [
      "epoch 219| loss: 0.24503 | train_mse: 0.06256 | train_mae: 0.20579 |  0:00:22s\n",
      "epoch 220| loss: 0.0915  | train_mse: 0.062   | train_mae: 0.20512 |  0:00:22s\n",
      "epoch 221| loss: 0.12179 | train_mse: 0.06351 | train_mae: 0.20799 |  0:00:22s\n"
     ]
    },
    {
     "name": "stdout",
     "output_type": "stream",
     "text": [
      "epoch 222| loss: 0.12938 | train_mse: 0.06306 | train_mae: 0.20694 |  0:00:22s\n",
      "epoch 223| loss: 0.15906 | train_mse: 0.0644  | train_mae: 0.20735 |  0:00:22s\n",
      "epoch 224| loss: 0.11614 | train_mse: 0.06511 | train_mae: 0.20924 |  0:00:22s\n"
     ]
    },
    {
     "name": "stdout",
     "output_type": "stream",
     "text": [
      "epoch 225| loss: 0.13972 | train_mse: 0.06795 | train_mae: 0.21223 |  0:00:23s\n",
      "epoch 226| loss: 0.16368 | train_mse: 0.06591 | train_mae: 0.21012 |  0:00:23s\n",
      "epoch 227| loss: 0.0875  | train_mse: 0.06118 | train_mae: 0.20112 |  0:00:23s\n"
     ]
    },
    {
     "name": "stdout",
     "output_type": "stream",
     "text": [
      "epoch 228| loss: 0.11684 | train_mse: 0.06514 | train_mae: 0.20671 |  0:00:23s\n",
      "epoch 229| loss: 0.09642 | train_mse: 0.06009 | train_mae: 0.19814 |  0:00:23s\n",
      "epoch 230| loss: 0.39052 | train_mse: 0.0595  | train_mae: 0.19972 |  0:00:23s\n"
     ]
    },
    {
     "name": "stdout",
     "output_type": "stream",
     "text": [
      "epoch 231| loss: 0.18649 | train_mse: 0.06032 | train_mae: 0.20159 |  0:00:23s\n",
      "epoch 232| loss: 0.09107 | train_mse: 0.05987 | train_mae: 0.20097 |  0:00:23s\n",
      "epoch 233| loss: 0.1336  | train_mse: 0.05898 | train_mae: 0.19792 |  0:00:23s\n"
     ]
    },
    {
     "name": "stdout",
     "output_type": "stream",
     "text": [
      "epoch 234| loss: 0.16556 | train_mse: 0.06019 | train_mae: 0.20121 |  0:00:23s\n",
      "epoch 235| loss: 0.09687 | train_mse: 0.06263 | train_mae: 0.20406 |  0:00:23s\n",
      "epoch 236| loss: 0.13479 | train_mse: 0.06416 | train_mae: 0.20677 |  0:00:24s\n"
     ]
    },
    {
     "name": "stdout",
     "output_type": "stream",
     "text": [
      "epoch 237| loss: 0.15183 | train_mse: 0.06282 | train_mae: 0.20531 |  0:00:24s\n",
      "epoch 238| loss: 0.17524 | train_mse: 0.06325 | train_mae: 0.20541 |  0:00:24s\n",
      "epoch 239| loss: 0.12053 | train_mse: 0.0621  | train_mae: 0.20277 |  0:00:24s\n"
     ]
    },
    {
     "name": "stdout",
     "output_type": "stream",
     "text": [
      "epoch 240| loss: 0.27538 | train_mse: 0.06635 | train_mae: 0.20921 |  0:00:24s\n",
      "epoch 241| loss: 0.13618 | train_mse: 0.06673 | train_mae: 0.20939 |  0:00:24s\n"
     ]
    },
    {
     "name": "stdout",
     "output_type": "stream",
     "text": [
      "epoch 242| loss: 0.07814 | train_mse: 0.0643  | train_mae: 0.20542 |  0:00:24s\n",
      "epoch 243| loss: 0.15028 | train_mse: 0.06254 | train_mae: 0.20252 |  0:00:24s\n",
      "epoch 244| loss: 0.12431 | train_mse: 0.06082 | train_mae: 0.19974 |  0:00:24s\n"
     ]
    },
    {
     "name": "stdout",
     "output_type": "stream",
     "text": [
      "epoch 245| loss: 0.11655 | train_mse: 0.05994 | train_mae: 0.19886 |  0:00:24s\n",
      "epoch 246| loss: 0.16447 | train_mse: 0.05883 | train_mae: 0.19649 |  0:00:25s\n",
      "epoch 247| loss: 0.11702 | train_mse: 0.05801 | train_mae: 0.19505 |  0:00:25s\n"
     ]
    },
    {
     "name": "stdout",
     "output_type": "stream",
     "text": [
      "epoch 248| loss: 0.08717 | train_mse: 0.05695 | train_mae: 0.19395 |  0:00:25s\n",
      "epoch 249| loss: 0.10633 | train_mse: 0.05767 | train_mae: 0.19354 |  0:00:25s\n",
      "epoch 250| loss: 0.1238  | train_mse: 0.05711 | train_mae: 0.19062 |  0:00:25s\n"
     ]
    },
    {
     "name": "stdout",
     "output_type": "stream",
     "text": [
      "epoch 251| loss: 0.11156 | train_mse: 0.05688 | train_mae: 0.18938 |  0:00:25s\n",
      "epoch 252| loss: 0.18503 | train_mse: 0.05665 | train_mae: 0.18999 |  0:00:25s\n"
     ]
    },
    {
     "name": "stdout",
     "output_type": "stream",
     "text": [
      "epoch 253| loss: 0.08953 | train_mse: 0.05566 | train_mae: 0.18968 |  0:00:25s\n",
      "epoch 254| loss: 0.10681 | train_mse: 0.0567  | train_mae: 0.19104 |  0:00:25s\n",
      "epoch 255| loss: 0.09592 | train_mse: 0.05708 | train_mae: 0.19164 |  0:00:25s\n"
     ]
    },
    {
     "name": "stdout",
     "output_type": "stream",
     "text": [
      "epoch 256| loss: 0.15752 | train_mse: 0.05801 | train_mae: 0.19165 |  0:00:25s\n",
      "epoch 257| loss: 0.12063 | train_mse: 0.05997 | train_mae: 0.19375 |  0:00:26s\n"
     ]
    },
    {
     "name": "stdout",
     "output_type": "stream",
     "text": [
      "epoch 258| loss: 0.09376 | train_mse: 0.06011 | train_mae: 0.19408 |  0:00:26s\n",
      "epoch 259| loss: 0.14062 | train_mse: 0.06117 | train_mae: 0.19649 |  0:00:26s\n"
     ]
    },
    {
     "name": "stdout",
     "output_type": "stream",
     "text": [
      "epoch 260| loss: 0.11207 | train_mse: 0.06141 | train_mae: 0.19749 |  0:00:26s\n",
      "epoch 261| loss: 0.09773 | train_mse: 0.06124 | train_mae: 0.19766 |  0:00:26s\n"
     ]
    },
    {
     "name": "stdout",
     "output_type": "stream",
     "text": [
      "epoch 262| loss: 0.19382 | train_mse: 0.06086 | train_mae: 0.19694 |  0:00:26s\n",
      "epoch 263| loss: 0.13578 | train_mse: 0.05969 | train_mae: 0.19424 |  0:00:27s\n"
     ]
    },
    {
     "name": "stdout",
     "output_type": "stream",
     "text": [
      "epoch 264| loss: 0.37271 | train_mse: 0.05953 | train_mae: 0.19413 |  0:00:27s\n",
      "epoch 265| loss: 0.12369 | train_mse: 0.05908 | train_mae: 0.19446 |  0:00:27s\n"
     ]
    },
    {
     "name": "stdout",
     "output_type": "stream",
     "text": [
      "epoch 266| loss: 0.14083 | train_mse: 0.05913 | train_mae: 0.19449 |  0:00:27s\n",
      "epoch 267| loss: 0.11924 | train_mse: 0.05826 | train_mae: 0.19303 |  0:00:27s\n"
     ]
    },
    {
     "name": "stdout",
     "output_type": "stream",
     "text": [
      "epoch 268| loss: 0.17369 | train_mse: 0.05728 | train_mae: 0.1913  |  0:00:27s\n"
     ]
    },
    {
     "name": "stdout",
     "output_type": "stream",
     "text": [
      "epoch 269| loss: 0.11313 | train_mse: 0.05673 | train_mae: 0.19024 |  0:00:28s\n",
      "epoch 270| loss: 0.14224 | train_mse: 0.05717 | train_mae: 0.19231 |  0:00:28s\n"
     ]
    },
    {
     "name": "stdout",
     "output_type": "stream",
     "text": [
      "epoch 271| loss: 0.13054 | train_mse: 0.05805 | train_mae: 0.19308 |  0:00:28s\n"
     ]
    },
    {
     "name": "stdout",
     "output_type": "stream",
     "text": [
      "epoch 272| loss: 0.15413 | train_mse: 0.05785 | train_mae: 0.19382 |  0:00:28s\n"
     ]
    },
    {
     "name": "stdout",
     "output_type": "stream",
     "text": [
      "epoch 273| loss: 0.08741 | train_mse: 0.05816 | train_mae: 0.19509 |  0:00:29s\n"
     ]
    },
    {
     "name": "stdout",
     "output_type": "stream",
     "text": [
      "epoch 274| loss: 0.15234 | train_mse: 0.05766 | train_mae: 0.19493 |  0:00:29s\n",
      "epoch 275| loss: 0.09839 | train_mse: 0.05713 | train_mae: 0.19393 |  0:00:29s\n"
     ]
    },
    {
     "name": "stdout",
     "output_type": "stream",
     "text": [
      "epoch 276| loss: 0.11254 | train_mse: 0.05756 | train_mae: 0.19496 |  0:00:29s\n",
      "epoch 277| loss: 0.12093 | train_mse: 0.05839 | train_mae: 0.197   |  0:00:29s\n"
     ]
    },
    {
     "name": "stdout",
     "output_type": "stream",
     "text": [
      "epoch 278| loss: 0.18838 | train_mse: 0.06153 | train_mae: 0.20312 |  0:00:30s\n",
      "epoch 279| loss: 0.13751 | train_mse: 0.0631  | train_mae: 0.20614 |  0:00:30s\n"
     ]
    },
    {
     "name": "stdout",
     "output_type": "stream",
     "text": [
      "epoch 280| loss: 0.08796 | train_mse: 0.06394 | train_mae: 0.20602 |  0:00:30s\n",
      "epoch 281| loss: 0.11752 | train_mse: 0.06501 | train_mae: 0.2051  |  0:00:30s\n"
     ]
    },
    {
     "name": "stdout",
     "output_type": "stream",
     "text": [
      "epoch 282| loss: 0.14877 | train_mse: 0.06458 | train_mae: 0.20503 |  0:00:30s\n",
      "epoch 283| loss: 0.06606 | train_mse: 0.0656  | train_mae: 0.20631 |  0:00:30s\n",
      "epoch 284| loss: 0.12828 | train_mse: 0.06523 | train_mae: 0.20676 |  0:00:30s\n"
     ]
    },
    {
     "name": "stdout",
     "output_type": "stream",
     "text": [
      "epoch 285| loss: 0.12391 | train_mse: 0.06337 | train_mae: 0.20401 |  0:00:30s\n",
      "epoch 286| loss: 0.19249 | train_mse: 0.06281 | train_mae: 0.20371 |  0:00:31s\n",
      "epoch 287| loss: 0.09637 | train_mse: 0.06346 | train_mae: 0.20427 |  0:00:31s\n"
     ]
    },
    {
     "name": "stdout",
     "output_type": "stream",
     "text": [
      "epoch 288| loss: 0.0858  | train_mse: 0.06356 | train_mae: 0.20418 |  0:00:31s\n",
      "epoch 289| loss: 0.08784 | train_mse: 0.06344 | train_mae: 0.20183 |  0:00:31s\n",
      "epoch 290| loss: 0.14789 | train_mse: 0.06179 | train_mae: 0.19985 |  0:00:31s\n"
     ]
    },
    {
     "name": "stdout",
     "output_type": "stream",
     "text": [
      "epoch 291| loss: 0.16069 | train_mse: 0.05935 | train_mae: 0.19488 |  0:00:31s\n",
      "epoch 292| loss: 0.10713 | train_mse: 0.05733 | train_mae: 0.1905  |  0:00:31s\n",
      "epoch 293| loss: 0.10398 | train_mse: 0.0577  | train_mae: 0.19073 |  0:00:31s\n"
     ]
    },
    {
     "name": "stdout",
     "output_type": "stream",
     "text": [
      "epoch 294| loss: 0.16402 | train_mse: 0.05816 | train_mae: 0.19065 |  0:00:31s\n",
      "epoch 295| loss: 0.10892 | train_mse: 0.05729 | train_mae: 0.18765 |  0:00:31s\n",
      "epoch 296| loss: 0.16166 | train_mse: 0.05599 | train_mae: 0.186   |  0:00:32s\n"
     ]
    },
    {
     "name": "stdout",
     "output_type": "stream",
     "text": [
      "epoch 297| loss: 0.12059 | train_mse: 0.05651 | train_mae: 0.18789 |  0:00:32s\n",
      "epoch 298| loss: 0.17758 | train_mse: 0.05685 | train_mae: 0.1883  |  0:00:32s\n",
      "epoch 299| loss: 0.0906  | train_mse: 0.05642 | train_mae: 0.18856 |  0:00:32s\n"
     ]
    },
    {
     "name": "stdout",
     "output_type": "stream",
     "text": [
      "epoch 300| loss: 0.09766 | train_mse: 0.05666 | train_mae: 0.19058 |  0:00:32s\n",
      "epoch 301| loss: 0.15937 | train_mse: 0.05628 | train_mae: 0.19168 |  0:00:32s\n",
      "epoch 302| loss: 0.26531 | train_mse: 0.05845 | train_mae: 0.19638 |  0:00:32s\n"
     ]
    },
    {
     "name": "stdout",
     "output_type": "stream",
     "text": [
      "epoch 303| loss: 0.10753 | train_mse: 0.05902 | train_mae: 0.19773 |  0:00:32s\n",
      "epoch 304| loss: 0.08963 | train_mse: 0.05889 | train_mae: 0.19759 |  0:00:32s\n",
      "epoch 305| loss: 0.25556 | train_mse: 0.06001 | train_mae: 0.19939 |  0:00:32s\n"
     ]
    },
    {
     "name": "stdout",
     "output_type": "stream",
     "text": [
      "epoch 306| loss: 0.12064 | train_mse: 0.05978 | train_mae: 0.19937 |  0:00:32s\n",
      "epoch 307| loss: 0.10918 | train_mse: 0.05991 | train_mae: 0.20039 |  0:00:33s\n",
      "epoch 308| loss: 0.07128 | train_mse: 0.0585  | train_mae: 0.19783 |  0:00:33s\n"
     ]
    },
    {
     "name": "stdout",
     "output_type": "stream",
     "text": [
      "epoch 309| loss: 0.09987 | train_mse: 0.05596 | train_mae: 0.19365 |  0:00:33s\n",
      "epoch 310| loss: 0.11495 | train_mse: 0.05567 | train_mae: 0.19433 |  0:00:33s\n",
      "epoch 311| loss: 0.07476 | train_mse: 0.05606 | train_mae: 0.19468 |  0:00:33s\n"
     ]
    },
    {
     "name": "stdout",
     "output_type": "stream",
     "text": [
      "epoch 312| loss: 0.07997 | train_mse: 0.05534 | train_mae: 0.19268 |  0:00:33s\n",
      "epoch 313| loss: 0.10161 | train_mse: 0.0555  | train_mae: 0.19194 |  0:00:33s\n"
     ]
    },
    {
     "name": "stdout",
     "output_type": "stream",
     "text": [
      "epoch 314| loss: 0.09336 | train_mse: 0.05569 | train_mae: 0.19088 |  0:00:33s\n",
      "epoch 315| loss: 0.0919  | train_mse: 0.05534 | train_mae: 0.19037 |  0:00:33s\n",
      "epoch 316| loss: 0.077   | train_mse: 0.05562 | train_mae: 0.19138 |  0:00:33s\n"
     ]
    },
    {
     "name": "stdout",
     "output_type": "stream",
     "text": [
      "epoch 317| loss: 0.10904 | train_mse: 0.0552  | train_mae: 0.19026 |  0:00:33s\n",
      "epoch 318| loss: 0.08667 | train_mse: 0.05461 | train_mae: 0.18958 |  0:00:34s\n",
      "epoch 319| loss: 0.12191 | train_mse: 0.05361 | train_mae: 0.18709 |  0:00:34s\n"
     ]
    },
    {
     "name": "stdout",
     "output_type": "stream",
     "text": [
      "epoch 320| loss: 0.12148 | train_mse: 0.0534  | train_mae: 0.18604 |  0:00:34s\n",
      "epoch 321| loss: 0.11658 | train_mse: 0.05374 | train_mae: 0.18541 |  0:00:34s\n",
      "epoch 322| loss: 0.09837 | train_mse: 0.05467 | train_mae: 0.18626 |  0:00:34s\n"
     ]
    },
    {
     "name": "stdout",
     "output_type": "stream",
     "text": [
      "epoch 323| loss: 0.1003  | train_mse: 0.05463 | train_mae: 0.18521 |  0:00:34s\n",
      "epoch 324| loss: 0.09625 | train_mse: 0.05511 | train_mae: 0.1863  |  0:00:34s\n",
      "epoch 325| loss: 0.08295 | train_mse: 0.0563  | train_mae: 0.18814 |  0:00:34s"
     ]
    },
    {
     "name": "stdout",
     "output_type": "stream",
     "text": [
      "\n",
      "epoch 326| loss: 0.12867 | train_mse: 0.05664 | train_mae: 0.1872  |  0:00:34s\n",
      "epoch 327| loss: 0.13318 | train_mse: 0.05733 | train_mae: 0.18821 |  0:00:34s\n"
     ]
    },
    {
     "name": "stdout",
     "output_type": "stream",
     "text": [
      "epoch 328| loss: 0.1602  | train_mse: 0.05815 | train_mae: 0.18979 |  0:00:34s\n",
      "epoch 329| loss: 0.2984  | train_mse: 0.05821 | train_mae: 0.19047 |  0:00:35s\n",
      "epoch 330| loss: 0.06026 | train_mse: 0.0583  | train_mae: 0.19074 |  0:00:35s\n"
     ]
    },
    {
     "name": "stdout",
     "output_type": "stream",
     "text": [
      "epoch 331| loss: 0.23577 | train_mse: 0.05632 | train_mae: 0.18683 |  0:00:35s\n",
      "epoch 332| loss: 0.1088  | train_mse: 0.05523 | train_mae: 0.18598 |  0:00:35s\n",
      "epoch 333| loss: 0.09605 | train_mse: 0.05477 | train_mae: 0.18511 |  0:00:35s\n"
     ]
    },
    {
     "name": "stdout",
     "output_type": "stream",
     "text": [
      "epoch 334| loss: 0.27295 | train_mse: 0.05476 | train_mae: 0.1845  |  0:00:35s\n",
      "epoch 335| loss: 0.12798 | train_mse: 0.05321 | train_mae: 0.18081 |  0:00:35s\n"
     ]
    },
    {
     "name": "stdout",
     "output_type": "stream",
     "text": [
      "epoch 336| loss: 0.10332 | train_mse: 0.0523  | train_mae: 0.17845 |  0:00:35s\n",
      "epoch 337| loss: 0.08869 | train_mse: 0.05126 | train_mae: 0.17762 |  0:00:35s\n",
      "epoch 338| loss: 0.08976 | train_mse: 0.05097 | train_mae: 0.17682 |  0:00:35s\n"
     ]
    },
    {
     "name": "stdout",
     "output_type": "stream",
     "text": [
      "epoch 339| loss: 0.22439 | train_mse: 0.0522  | train_mae: 0.18031 |  0:00:35s\n",
      "epoch 340| loss: 0.10303 | train_mse: 0.05428 | train_mae: 0.1843  |  0:00:36s\n",
      "epoch 341| loss: 0.17146 | train_mse: 0.05655 | train_mae: 0.18729 |  0:00:36s\n"
     ]
    },
    {
     "name": "stdout",
     "output_type": "stream",
     "text": [
      "epoch 342| loss: 0.10892 | train_mse: 0.05572 | train_mae: 0.18456 |  0:00:36s\n",
      "epoch 343| loss: 0.16803 | train_mse: 0.05362 | train_mae: 0.18025 |  0:00:36s\n",
      "epoch 344| loss: 0.07175 | train_mse: 0.05341 | train_mae: 0.18078 |  0:00:36s\n"
     ]
    },
    {
     "name": "stdout",
     "output_type": "stream",
     "text": [
      "epoch 345| loss: 0.09027 | train_mse: 0.0537  | train_mae: 0.18125 |  0:00:36s\n",
      "epoch 346| loss: 0.14946 | train_mse: 0.05362 | train_mae: 0.18137 |  0:00:36s\n",
      "epoch 347| loss: 0.0881  | train_mse: 0.05292 | train_mae: 0.18093 |  0:00:36s\n"
     ]
    },
    {
     "name": "stdout",
     "output_type": "stream",
     "text": [
      "epoch 348| loss: 0.15233 | train_mse: 0.05246 | train_mae: 0.18057 |  0:00:36s\n",
      "epoch 349| loss: 0.1505  | train_mse: 0.05373 | train_mae: 0.18326 |  0:00:36s\n",
      "epoch 350| loss: 0.08525 | train_mse: 0.05445 | train_mae: 0.18436 |  0:00:36s\n"
     ]
    },
    {
     "name": "stdout",
     "output_type": "stream",
     "text": [
      "epoch 351| loss: 0.16032 | train_mse: 0.05516 | train_mae: 0.18552 |  0:00:37s\n",
      "epoch 352| loss: 0.15978 | train_mse: 0.05355 | train_mae: 0.18253 |  0:00:37s\n",
      "epoch 353| loss: 0.168   | train_mse: 0.05248 | train_mae: 0.1806  |  0:00:37s\n"
     ]
    },
    {
     "name": "stdout",
     "output_type": "stream",
     "text": [
      "epoch 354| loss: 0.12834 | train_mse: 0.05374 | train_mae: 0.18322 |  0:00:37s\n",
      "epoch 355| loss: 0.12759 | train_mse: 0.0536  | train_mae: 0.1828  |  0:00:37s\n",
      "epoch 356| loss: 0.08121 | train_mse: 0.05377 | train_mae: 0.1833  |  0:00:37s\n"
     ]
    },
    {
     "name": "stdout",
     "output_type": "stream",
     "text": [
      "epoch 357| loss: 0.08252 | train_mse: 0.05378 | train_mae: 0.18339 |  0:00:37s\n",
      "epoch 358| loss: 0.17163 | train_mse: 0.05326 | train_mae: 0.18319 |  0:00:37s\n",
      "epoch 359| loss: 0.14859 | train_mse: 0.05177 | train_mae: 0.17965 |  0:00:37s\n"
     ]
    },
    {
     "name": "stdout",
     "output_type": "stream",
     "text": [
      "epoch 360| loss: 0.09815 | train_mse: 0.04908 | train_mae: 0.17383 |  0:00:37s\n",
      "epoch 361| loss: 0.15544 | train_mse: 0.04827 | train_mae: 0.17272 |  0:00:37s\n",
      "epoch 362| loss: 0.21265 | train_mse: 0.04865 | train_mae: 0.17493 |  0:00:38s\n"
     ]
    },
    {
     "name": "stdout",
     "output_type": "stream",
     "text": [
      "epoch 363| loss: 0.09986 | train_mse: 0.05087 | train_mae: 0.18085 |  0:00:38s\n",
      "epoch 364| loss: 0.13112 | train_mse: 0.04967 | train_mae: 0.17835 |  0:00:38s\n",
      "epoch 365| loss: 0.07651 | train_mse: 0.04871 | train_mae: 0.17684 |  0:00:38s\n"
     ]
    },
    {
     "name": "stdout",
     "output_type": "stream",
     "text": [
      "epoch 366| loss: 0.18043 | train_mse: 0.04788 | train_mae: 0.17468 |  0:00:38s\n",
      "epoch 367| loss: 0.18149 | train_mse: 0.04889 | train_mae: 0.17674 |  0:00:38s\n"
     ]
    },
    {
     "name": "stdout",
     "output_type": "stream",
     "text": [
      "epoch 368| loss: 0.10224 | train_mse: 0.04988 | train_mae: 0.17792 |  0:00:38s\n",
      "epoch 369| loss: 0.09601 | train_mse: 0.05167 | train_mae: 0.18088 |  0:00:38s\n",
      "epoch 370| loss: 0.092   | train_mse: 0.0526  | train_mae: 0.1825  |  0:00:38s\n"
     ]
    },
    {
     "name": "stdout",
     "output_type": "stream",
     "text": [
      "epoch 371| loss: 0.11973 | train_mse: 0.05247 | train_mae: 0.18094 |  0:00:38s\n",
      "epoch 372| loss: 0.16164 | train_mse: 0.05145 | train_mae: 0.17763 |  0:00:38s\n",
      "epoch 373| loss: 0.13189 | train_mse: 0.05059 | train_mae: 0.1743  |  0:00:39s\n"
     ]
    },
    {
     "name": "stdout",
     "output_type": "stream",
     "text": [
      "epoch 374| loss: 0.07893 | train_mse: 0.05013 | train_mae: 0.17363 |  0:00:39s\n",
      "epoch 375| loss: 0.1242  | train_mse: 0.04985 | train_mae: 0.17402 |  0:00:39s\n",
      "epoch 376| loss: 0.08976 | train_mse: 0.05002 | train_mae: 0.17473 |  0:00:39s\n"
     ]
    },
    {
     "name": "stdout",
     "output_type": "stream",
     "text": [
      "epoch 377| loss: 0.14043 | train_mse: 0.05009 | train_mae: 0.17419 |  0:00:39s\n",
      "epoch 378| loss: 0.08102 | train_mse: 0.04947 | train_mae: 0.17248 |  0:00:39s\n"
     ]
    },
    {
     "name": "stdout",
     "output_type": "stream",
     "text": [
      "epoch 379| loss: 0.10535 | train_mse: 0.04945 | train_mae: 0.17242 |  0:00:39s\n",
      "epoch 380| loss: 0.10334 | train_mse: 0.04994 | train_mae: 0.17254 |  0:00:39s\n",
      "epoch 381| loss: 0.1762  | train_mse: 0.05078 | train_mae: 0.17479 |  0:00:39s\n"
     ]
    },
    {
     "name": "stdout",
     "output_type": "stream",
     "text": [
      "epoch 382| loss: 0.11606 | train_mse: 0.05256 | train_mae: 0.17849 |  0:00:39s\n",
      "epoch 383| loss: 0.10321 | train_mse: 0.05328 | train_mae: 0.17972 |  0:00:39s\n",
      "epoch 384| loss: 0.23159 | train_mse: 0.05436 | train_mae: 0.18259 |  0:00:40s\n"
     ]
    },
    {
     "name": "stdout",
     "output_type": "stream",
     "text": [
      "epoch 385| loss: 0.07939 | train_mse: 0.05495 | train_mae: 0.18376 |  0:00:40s\n",
      "epoch 386| loss: 0.096   | train_mse: 0.0533  | train_mae: 0.18097 |  0:00:40s\n",
      "epoch 387| loss: 0.11165 | train_mse: 0.05233 | train_mae: 0.18004 |  0:00:40s\n"
     ]
    },
    {
     "name": "stdout",
     "output_type": "stream",
     "text": [
      "epoch 388| loss: 0.07391 | train_mse: 0.05205 | train_mae: 0.17863 |  0:00:40s\n",
      "epoch 389| loss: 0.07661 | train_mse: 0.05173 | train_mae: 0.17833 |  0:00:40s\n"
     ]
    },
    {
     "name": "stdout",
     "output_type": "stream",
     "text": [
      "epoch 390| loss: 0.10622 | train_mse: 0.0526  | train_mae: 0.1778  |  0:00:40s\n",
      "epoch 391| loss: 0.12672 | train_mse: 0.05214 | train_mae: 0.177   |  0:00:40s\n",
      "epoch 392| loss: 0.06527 | train_mse: 0.05058 | train_mae: 0.17258 |  0:00:40s\n"
     ]
    },
    {
     "name": "stdout",
     "output_type": "stream",
     "text": [
      "epoch 393| loss: 0.06954 | train_mse: 0.05015 | train_mae: 0.17012 |  0:00:40s\n",
      "epoch 394| loss: 0.10186 | train_mse: 0.05055 | train_mae: 0.16981 |  0:00:41s\n",
      "epoch 395| loss: 0.14415 | train_mse: 0.0501  | train_mae: 0.16839 |  0:00:41s\n"
     ]
    },
    {
     "name": "stdout",
     "output_type": "stream",
     "text": [
      "epoch 396| loss: 0.10784 | train_mse: 0.04897 | train_mae: 0.16891 |  0:00:41s\n",
      "epoch 397| loss: 0.09896 | train_mse: 0.04891 | train_mae: 0.17036 |  0:00:41s\n",
      "epoch 398| loss: 0.09172 | train_mse: 0.04942 | train_mae: 0.17373 |  0:00:41s\n"
     ]
    },
    {
     "name": "stdout",
     "output_type": "stream",
     "text": [
      "epoch 399| loss: 0.19392 | train_mse: 0.05089 | train_mae: 0.17689 |  0:00:41s\n",
      "epoch 400| loss: 0.1139  | train_mse: 0.05357 | train_mae: 0.183   |  0:00:41s\n"
     ]
    },
    {
     "name": "stdout",
     "output_type": "stream",
     "text": [
      "epoch 401| loss: 0.08864 | train_mse: 0.05689 | train_mae: 0.18916 |  0:00:41s\n",
      "epoch 402| loss: 0.11776 | train_mse: 0.05811 | train_mae: 0.19067 |  0:00:41s\n",
      "epoch 403| loss: 0.08819 | train_mse: 0.05976 | train_mae: 0.19246 |  0:00:41s\n"
     ]
    },
    {
     "name": "stdout",
     "output_type": "stream",
     "text": [
      "epoch 404| loss: 0.08188 | train_mse: 0.05971 | train_mae: 0.19079 |  0:00:41s\n",
      "epoch 405| loss: 0.13199 | train_mse: 0.0586  | train_mae: 0.18868 |  0:00:42s\n",
      "epoch 406| loss: 0.08291 | train_mse: 0.0595  | train_mae: 0.191   |  0:00:42s\n"
     ]
    },
    {
     "name": "stdout",
     "output_type": "stream",
     "text": [
      "epoch 407| loss: 0.09218 | train_mse: 0.05648 | train_mae: 0.18699 |  0:00:42s\n",
      "epoch 408| loss: 0.08981 | train_mse: 0.0562  | train_mae: 0.18644 |  0:00:42s\n",
      "epoch 409| loss: 0.0755  | train_mse: 0.05776 | train_mae: 0.18843 |  0:00:42s\n"
     ]
    },
    {
     "name": "stdout",
     "output_type": "stream",
     "text": [
      "epoch 410| loss: 0.06854 | train_mse: 0.05987 | train_mae: 0.19104 |  0:00:42s\n",
      "epoch 411| loss: 0.0727  | train_mse: 0.05991 | train_mae: 0.19092 |  0:00:42s\n"
     ]
    },
    {
     "name": "stdout",
     "output_type": "stream",
     "text": [
      "epoch 412| loss: 0.09134 | train_mse: 0.05773 | train_mae: 0.18766 |  0:00:42s\n",
      "epoch 413| loss: 0.11739 | train_mse: 0.05836 | train_mae: 0.18921 |  0:00:42s\n",
      "epoch 414| loss: 0.14203 | train_mse: 0.0572  | train_mae: 0.18761 |  0:00:42s\n"
     ]
    },
    {
     "name": "stdout",
     "output_type": "stream",
     "text": [
      "epoch 415| loss: 0.09563 | train_mse: 0.05555 | train_mae: 0.1864  |  0:00:42s\n",
      "epoch 416| loss: 0.07894 | train_mse: 0.0534  | train_mae: 0.18333 |  0:00:43s\n",
      "epoch 417| loss: 0.09542 | train_mse: 0.05313 | train_mae: 0.18213 |  0:00:43s\n"
     ]
    },
    {
     "name": "stdout",
     "output_type": "stream",
     "text": [
      "epoch 418| loss: 0.17298 | train_mse: 0.05227 | train_mae: 0.18033 |  0:00:43s\n",
      "epoch 419| loss: 0.07559 | train_mse: 0.05146 | train_mae: 0.17896 |  0:00:43s\n",
      "epoch 420| loss: 0.15989 | train_mse: 0.05183 | train_mae: 0.17864 |  0:00:43s\n"
     ]
    },
    {
     "name": "stdout",
     "output_type": "stream",
     "text": [
      "epoch 421| loss: 0.08527 | train_mse: 0.05024 | train_mae: 0.17493 |  0:00:43s\n",
      "epoch 422| loss: 0.14489 | train_mse: 0.05031 | train_mae: 0.17579 |  0:00:43s\n"
     ]
    },
    {
     "name": "stdout",
     "output_type": "stream",
     "text": [
      "epoch 423| loss: 0.11303 | train_mse: 0.05114 | train_mae: 0.17815 |  0:00:43s\n",
      "epoch 424| loss: 0.08429 | train_mse: 0.0511  | train_mae: 0.17805 |  0:00:43s\n"
     ]
    },
    {
     "name": "stdout",
     "output_type": "stream",
     "text": [
      "epoch 425| loss: 0.0749  | train_mse: 0.04917 | train_mae: 0.17409 |  0:00:44s\n",
      "epoch 426| loss: 0.11273 | train_mse: 0.04891 | train_mae: 0.17265 |  0:00:44s\n"
     ]
    },
    {
     "name": "stdout",
     "output_type": "stream",
     "text": [
      "epoch 427| loss: 0.11426 | train_mse: 0.04786 | train_mae: 0.17071 |  0:00:44s\n",
      "epoch 428| loss: 0.06571 | train_mse: 0.04823 | train_mae: 0.17188 |  0:00:44s\n"
     ]
    },
    {
     "name": "stdout",
     "output_type": "stream",
     "text": [
      "epoch 429| loss: 0.08753 | train_mse: 0.04963 | train_mae: 0.17535 |  0:00:44s\n",
      "epoch 430| loss: 0.1075  | train_mse: 0.04948 | train_mae: 0.17444 |  0:00:44s\n",
      "epoch 431| loss: 0.14234 | train_mse: 0.05025 | train_mae: 0.17638 |  0:00:44s\n"
     ]
    },
    {
     "name": "stdout",
     "output_type": "stream",
     "text": [
      "epoch 432| loss: 0.14163 | train_mse: 0.04943 | train_mae: 0.17367 |  0:00:44s\n",
      "epoch 433| loss: 0.12668 | train_mse: 0.04757 | train_mae: 0.16988 |  0:00:44s\n",
      "epoch 434| loss: 0.07854 | train_mse: 0.04702 | train_mae: 0.16978 |  0:00:45s\n"
     ]
    },
    {
     "name": "stdout",
     "output_type": "stream",
     "text": [
      "epoch 435| loss: 0.10191 | train_mse: 0.04758 | train_mae: 0.1708  |  0:00:45s\n",
      "epoch 436| loss: 0.07235 | train_mse: 0.04627 | train_mae: 0.16863 |  0:00:45s\n",
      "epoch 437| loss: 0.07787 | train_mse: 0.0451  | train_mae: 0.16719 |  0:00:45s\n"
     ]
    },
    {
     "name": "stdout",
     "output_type": "stream",
     "text": [
      "epoch 438| loss: 0.15874 | train_mse: 0.04488 | train_mae: 0.16765 |  0:00:45s\n",
      "epoch 439| loss: 0.13674 | train_mse: 0.04354 | train_mae: 0.16455 |  0:00:45s\n"
     ]
    },
    {
     "name": "stdout",
     "output_type": "stream",
     "text": [
      "epoch 440| loss: 0.10416 | train_mse: 0.04426 | train_mae: 0.16566 |  0:00:45s\n",
      "epoch 441| loss: 0.13703 | train_mse: 0.04464 | train_mae: 0.16606 |  0:00:45s\n",
      "epoch 442| loss: 0.09063 | train_mse: 0.0453  | train_mae: 0.16697 |  0:00:45s\n"
     ]
    },
    {
     "name": "stdout",
     "output_type": "stream",
     "text": [
      "epoch 443| loss: 0.09781 | train_mse: 0.04505 | train_mae: 0.16654 |  0:00:45s\n",
      "epoch 444| loss: 0.06423 | train_mse: 0.04613 | train_mae: 0.16852 |  0:00:46s\n",
      "epoch 445| loss: 0.07246 | train_mse: 0.04557 | train_mae: 0.16908 |  0:00:46s\n"
     ]
    },
    {
     "name": "stdout",
     "output_type": "stream",
     "text": [
      "epoch 446| loss: 0.21359 | train_mse: 0.04567 | train_mae: 0.16995 |  0:00:46s\n",
      "epoch 447| loss: 0.19608 | train_mse: 0.04408 | train_mae: 0.16721 |  0:00:46s\n",
      "epoch 448| loss: 0.14178 | train_mse: 0.04365 | train_mae: 0.16639 |  0:00:46s\n"
     ]
    },
    {
     "name": "stdout",
     "output_type": "stream",
     "text": [
      "epoch 449| loss: 0.09855 | train_mse: 0.04379 | train_mae: 0.16565 |  0:00:46s\n",
      "epoch 450| loss: 0.09425 | train_mse: 0.04293 | train_mae: 0.16352 |  0:00:46s\n"
     ]
    },
    {
     "name": "stdout",
     "output_type": "stream",
     "text": [
      "epoch 451| loss: 0.06928 | train_mse: 0.04361 | train_mae: 0.16597 |  0:00:46s\n",
      "epoch 452| loss: 0.12134 | train_mse: 0.04356 | train_mae: 0.1659  |  0:00:46s\n",
      "epoch 453| loss: 0.08402 | train_mse: 0.0441  | train_mae: 0.16664 |  0:00:46s\n"
     ]
    },
    {
     "name": "stdout",
     "output_type": "stream",
     "text": [
      "epoch 454| loss: 0.10534 | train_mse: 0.04463 | train_mae: 0.16696 |  0:00:46s\n",
      "epoch 455| loss: 0.16774 | train_mse: 0.04381 | train_mae: 0.16419 |  0:00:47s\n",
      "epoch 456| loss: 0.14671 | train_mse: 0.0439  | train_mae: 0.16343 |  0:00:47s\n"
     ]
    },
    {
     "name": "stdout",
     "output_type": "stream",
     "text": [
      "epoch 457| loss: 0.08802 | train_mse: 0.0434  | train_mae: 0.16168 |  0:00:47s\n",
      "epoch 458| loss: 0.07101 | train_mse: 0.04382 | train_mae: 0.16107 |  0:00:47s\n",
      "epoch 459| loss: 0.15827 | train_mse: 0.04371 | train_mae: 0.16077 |  0:00:47s\n"
     ]
    },
    {
     "name": "stdout",
     "output_type": "stream",
     "text": [
      "epoch 460| loss: 0.06688 | train_mse: 0.04482 | train_mae: 0.16251 |  0:00:47s\n",
      "epoch 461| loss: 0.11342 | train_mse: 0.04575 | train_mae: 0.16405 |  0:00:47s\n"
     ]
    },
    {
     "name": "stdout",
     "output_type": "stream",
     "text": [
      "epoch 462| loss: 0.17874 | train_mse: 0.04572 | train_mae: 0.16365 |  0:00:47s\n",
      "epoch 463| loss: 0.0642  | train_mse: 0.04517 | train_mae: 0.16275 |  0:00:47s\n",
      "epoch 464| loss: 0.07622 | train_mse: 0.04548 | train_mae: 0.16363 |  0:00:47s\n"
     ]
    },
    {
     "name": "stdout",
     "output_type": "stream",
     "text": [
      "epoch 465| loss: 0.16381 | train_mse: 0.04491 | train_mae: 0.16293 |  0:00:47s\n",
      "epoch 466| loss: 0.08358 | train_mse: 0.04465 | train_mae: 0.16289 |  0:00:48s\n",
      "epoch 467| loss: 0.13696 | train_mse: 0.04506 | train_mae: 0.16501 |  0:00:48s\n"
     ]
    },
    {
     "name": "stdout",
     "output_type": "stream",
     "text": [
      "epoch 468| loss: 0.06556 | train_mse: 0.04456 | train_mae: 0.16269 |  0:00:48s\n",
      "epoch 469| loss: 0.12055 | train_mse: 0.04453 | train_mae: 0.16232 |  0:00:48s\n",
      "epoch 470| loss: 0.15455 | train_mse: 0.04292 | train_mae: 0.15968 |  0:00:48s\n"
     ]
    },
    {
     "name": "stdout",
     "output_type": "stream",
     "text": [
      "epoch 471| loss: 0.23203 | train_mse: 0.04308 | train_mae: 0.15968 |  0:00:48s\n",
      "epoch 472| loss: 0.07986 | train_mse: 0.04393 | train_mae: 0.16197 |  0:00:48s\n",
      "epoch 473| loss: 0.11231 | train_mse: 0.04437 | train_mae: 0.16277 |  0:00:48s\n"
     ]
    },
    {
     "name": "stdout",
     "output_type": "stream",
     "text": [
      "epoch 474| loss: 0.11307 | train_mse: 0.04624 | train_mae: 0.16707 |  0:00:48s\n",
      "epoch 475| loss: 0.1088  | train_mse: 0.04589 | train_mae: 0.16595 |  0:00:48s\n",
      "epoch 476| loss: 0.1243  | train_mse: 0.04673 | train_mae: 0.1684  |  0:00:48s\n"
     ]
    },
    {
     "name": "stdout",
     "output_type": "stream",
     "text": [
      "epoch 477| loss: 0.10579 | train_mse: 0.04805 | train_mae: 0.17152 |  0:00:49s\n",
      "epoch 478| loss: 0.05398 | train_mse: 0.04763 | train_mae: 0.17115 |  0:00:49s\n",
      "epoch 479| loss: 0.07384 | train_mse: 0.04774 | train_mae: 0.17161 |  0:00:49s\n"
     ]
    },
    {
     "name": "stdout",
     "output_type": "stream",
     "text": [
      "epoch 480| loss: 0.07235 | train_mse: 0.04557 | train_mae: 0.16784 |  0:00:49s\n",
      "epoch 481| loss: 0.05213 | train_mse: 0.04492 | train_mae: 0.16591 |  0:00:49s\n",
      "epoch 482| loss: 0.084   | train_mse: 0.04427 | train_mae: 0.16406 |  0:00:49s\n"
     ]
    },
    {
     "name": "stdout",
     "output_type": "stream",
     "text": [
      "epoch 483| loss: 0.15599 | train_mse: 0.04358 | train_mae: 0.16307 |  0:00:49s\n",
      "epoch 484| loss: 0.11168 | train_mse: 0.04192 | train_mae: 0.16092 |  0:00:49s\n",
      "epoch 485| loss: 0.10917 | train_mse: 0.04063 | train_mae: 0.15851 |  0:00:49s\n"
     ]
    },
    {
     "name": "stdout",
     "output_type": "stream",
     "text": [
      "epoch 486| loss: 0.20125 | train_mse: 0.04007 | train_mae: 0.15814 |  0:00:49s\n",
      "epoch 487| loss: 0.17209 | train_mse: 0.03997 | train_mae: 0.15821 |  0:00:50s\n",
      "epoch 488| loss: 0.06117 | train_mse: 0.04062 | train_mae: 0.15905 |  0:00:50s\n"
     ]
    },
    {
     "name": "stdout",
     "output_type": "stream",
     "text": [
      "epoch 489| loss: 0.08254 | train_mse: 0.0415  | train_mae: 0.16139 |  0:00:50s\n",
      "epoch 490| loss: 0.05229 | train_mse: 0.04191 | train_mae: 0.16267 |  0:00:50s\n",
      "epoch 491| loss: 0.05539 | train_mse: 0.04151 | train_mae: 0.16241 |  0:00:50s\n"
     ]
    },
    {
     "name": "stdout",
     "output_type": "stream",
     "text": [
      "epoch 492| loss: 0.09198 | train_mse: 0.04172 | train_mae: 0.16293 |  0:00:50s\n",
      "epoch 493| loss: 0.16268 | train_mse: 0.04224 | train_mae: 0.16322 |  0:00:50s\n"
     ]
    },
    {
     "name": "stdout",
     "output_type": "stream",
     "text": [
      "epoch 494| loss: 0.10656 | train_mse: 0.04209 | train_mae: 0.16323 |  0:00:50s\n",
      "epoch 495| loss: 0.1381  | train_mse: 0.04226 | train_mae: 0.1625  |  0:00:50s\n"
     ]
    },
    {
     "name": "stdout",
     "output_type": "stream",
     "text": [
      "epoch 496| loss: 0.08759 | train_mse: 0.04376 | train_mae: 0.16426 |  0:00:51s\n",
      "epoch 497| loss: 0.08396 | train_mse: 0.04305 | train_mae: 0.16116 |  0:00:51s\n"
     ]
    },
    {
     "name": "stdout",
     "output_type": "stream",
     "text": [
      "epoch 498| loss: 0.1169  | train_mse: 0.042   | train_mae: 0.15849 |  0:00:51s\n",
      "epoch 499| loss: 0.08424 | train_mse: 0.04118 | train_mae: 0.15613 |  0:00:51s\n"
     ]
    },
    {
     "name": "stdout",
     "output_type": "stream",
     "text": [
      "epoch 500| loss: 0.10881 | train_mse: 0.04113 | train_mae: 0.15515 |  0:00:51s\n",
      "epoch 501| loss: 0.09933 | train_mse: 0.04039 | train_mae: 0.15302 |  0:00:52s\n"
     ]
    },
    {
     "name": "stdout",
     "output_type": "stream",
     "text": [
      "epoch 502| loss: 0.07028 | train_mse: 0.04074 | train_mae: 0.15629 |  0:00:52s\n",
      "epoch 503| loss: 0.12092 | train_mse: 0.04172 | train_mae: 0.15882 |  0:00:52s\n"
     ]
    },
    {
     "name": "stdout",
     "output_type": "stream",
     "text": [
      "epoch 504| loss: 0.2337  | train_mse: 0.04209 | train_mae: 0.15952 |  0:00:52s\n",
      "epoch 505| loss: 0.06468 | train_mse: 0.04097 | train_mae: 0.15731 |  0:00:52s\n"
     ]
    },
    {
     "name": "stdout",
     "output_type": "stream",
     "text": [
      "epoch 506| loss: 0.16017 | train_mse: 0.04463 | train_mae: 0.16661 |  0:00:52s\n",
      "epoch 507| loss: 0.0989  | train_mse: 0.05157 | train_mae: 0.17764 |  0:00:53s\n"
     ]
    },
    {
     "name": "stdout",
     "output_type": "stream",
     "text": [
      "epoch 508| loss: 0.07662 | train_mse: 0.05569 | train_mae: 0.18311 |  0:00:53s\n",
      "epoch 509| loss: 0.08599 | train_mse: 0.05486 | train_mae: 0.18137 |  0:00:53s\n"
     ]
    },
    {
     "name": "stdout",
     "output_type": "stream",
     "text": [
      "epoch 510| loss: 0.10046 | train_mse: 0.05399 | train_mae: 0.18094 |  0:00:53s\n",
      "epoch 511| loss: 0.07946 | train_mse: 0.05091 | train_mae: 0.17604 |  0:00:53s\n"
     ]
    },
    {
     "name": "stdout",
     "output_type": "stream",
     "text": [
      "epoch 512| loss: 0.09774 | train_mse: 0.0477  | train_mae: 0.17035 |  0:00:53s\n",
      "epoch 513| loss: 0.10177 | train_mse: 0.04669 | train_mae: 0.16904 |  0:00:54s\n",
      "epoch 514| loss: 0.08714 | train_mse: 0.04432 | train_mae: 0.16399 |  0:00:54s\n"
     ]
    },
    {
     "name": "stdout",
     "output_type": "stream",
     "text": [
      "epoch 515| loss: 0.11059 | train_mse: 0.04168 | train_mae: 0.1582  |  0:00:54s\n",
      "epoch 516| loss: 0.1108  | train_mse: 0.04022 | train_mae: 0.156   |  0:00:54s\n",
      "epoch 517| loss: 0.07921 | train_mse: 0.03929 | train_mae: 0.15517 |  0:00:54s\n"
     ]
    },
    {
     "name": "stdout",
     "output_type": "stream",
     "text": [
      "epoch 518| loss: 0.06225 | train_mse: 0.04081 | train_mae: 0.15737 |  0:00:54s\n",
      "epoch 519| loss: 0.08771 | train_mse: 0.04437 | train_mae: 0.16373 |  0:00:54s\n"
     ]
    },
    {
     "name": "stdout",
     "output_type": "stream",
     "text": [
      "epoch 520| loss: 0.08862 | train_mse: 0.04604 | train_mae: 0.16792 |  0:00:54s\n",
      "epoch 521| loss: 0.10146 | train_mse: 0.04409 | train_mae: 0.16706 |  0:00:54s\n",
      "epoch 522| loss: 0.06472 | train_mse: 0.04095 | train_mae: 0.16234 |  0:00:54s\n"
     ]
    },
    {
     "name": "stdout",
     "output_type": "stream",
     "text": [
      "epoch 523| loss: 0.14157 | train_mse: 0.04117 | train_mae: 0.16281 |  0:00:54s\n",
      "epoch 524| loss: 0.09402 | train_mse: 0.03927 | train_mae: 0.15852 |  0:00:54s\n",
      "epoch 525| loss: 0.14747 | train_mse: 0.04042 | train_mae: 0.16045 |  0:00:55s\n"
     ]
    },
    {
     "name": "stdout",
     "output_type": "stream",
     "text": [
      "epoch 526| loss: 0.09836 | train_mse: 0.03917 | train_mae: 0.15796 |  0:00:55s\n",
      "epoch 527| loss: 0.0733  | train_mse: 0.03757 | train_mae: 0.1551  |  0:00:55s\n",
      "epoch 528| loss: 0.13842 | train_mse: 0.03762 | train_mae: 0.1555  |  0:00:55s\n"
     ]
    },
    {
     "name": "stdout",
     "output_type": "stream",
     "text": [
      "epoch 529| loss: 0.14538 | train_mse: 0.03827 | train_mae: 0.15682 |  0:00:55s\n",
      "epoch 530| loss: 0.08748 | train_mse: 0.03708 | train_mae: 0.1536  |  0:00:55s\n"
     ]
    },
    {
     "name": "stdout",
     "output_type": "stream",
     "text": [
      "epoch 531| loss: 0.06704 | train_mse: 0.03741 | train_mae: 0.15477 |  0:00:55s\n",
      "epoch 532| loss: 0.07587 | train_mse: 0.0373  | train_mae: 0.15384 |  0:00:55s\n",
      "epoch 533| loss: 0.103   | train_mse: 0.03655 | train_mae: 0.15203 |  0:00:55s\n"
     ]
    },
    {
     "name": "stdout",
     "output_type": "stream",
     "text": [
      "epoch 534| loss: 0.10876 | train_mse: 0.03637 | train_mae: 0.15063 |  0:00:55s\n",
      "epoch 535| loss: 0.07904 | train_mse: 0.03659 | train_mae: 0.15118 |  0:00:56s\n",
      "epoch 536| loss: 0.13152 | train_mse: 0.03622 | train_mae: 0.14984 |  0:00:56s\n"
     ]
    },
    {
     "name": "stdout",
     "output_type": "stream",
     "text": [
      "epoch 537| loss: 0.14279 | train_mse: 0.0376  | train_mae: 0.15361 |  0:00:56s\n",
      "epoch 538| loss: 0.0506  | train_mse: 0.0405  | train_mae: 0.15926 |  0:00:56s\n",
      "epoch 539| loss: 0.09457 | train_mse: 0.04108 | train_mae: 0.15941 |  0:00:56s\n"
     ]
    },
    {
     "name": "stdout",
     "output_type": "stream",
     "text": [
      "epoch 540| loss: 0.14302 | train_mse: 0.04134 | train_mae: 0.15946 |  0:00:56s\n",
      "epoch 541| loss: 0.11024 | train_mse: 0.04185 | train_mae: 0.15971 |  0:00:56s\n"
     ]
    },
    {
     "name": "stdout",
     "output_type": "stream",
     "text": [
      "epoch 542| loss: 0.07659 | train_mse: 0.04037 | train_mae: 0.15739 |  0:00:56s\n",
      "epoch 543| loss: 0.10897 | train_mse: 0.0396  | train_mae: 0.15594 |  0:00:56s\n",
      "epoch 544| loss: 0.13722 | train_mse: 0.03893 | train_mae: 0.15418 |  0:00:56s\n"
     ]
    },
    {
     "name": "stdout",
     "output_type": "stream",
     "text": [
      "epoch 545| loss: 0.0802  | train_mse: 0.03981 | train_mae: 0.1544  |  0:00:56s\n",
      "epoch 546| loss: 0.0831  | train_mse: 0.04107 | train_mae: 0.15603 |  0:00:57s\n",
      "epoch 547| loss: 0.16495 | train_mse: 0.04215 | train_mae: 0.15841 |  0:00:57s\n"
     ]
    },
    {
     "name": "stdout",
     "output_type": "stream",
     "text": [
      "epoch 548| loss: 0.10068 | train_mse: 0.04352 | train_mae: 0.1603  |  0:00:57s\n",
      "epoch 549| loss: 0.14447 | train_mse: 0.04658 | train_mae: 0.16628 |  0:00:57s\n",
      "epoch 550| loss: 0.12746 | train_mse: 0.04676 | train_mae: 0.16685 |  0:00:57s\n"
     ]
    },
    {
     "name": "stdout",
     "output_type": "stream",
     "text": [
      "epoch 551| loss: 0.1219  | train_mse: 0.04821 | train_mae: 0.16902 |  0:00:57s\n",
      "epoch 552| loss: 0.05543 | train_mse: 0.0473  | train_mae: 0.16813 |  0:00:57s\n"
     ]
    },
    {
     "name": "stdout",
     "output_type": "stream",
     "text": [
      "epoch 553| loss: 0.10354 | train_mse: 0.04614 | train_mae: 0.16713 |  0:00:57s\n",
      "epoch 554| loss: 0.06556 | train_mse: 0.04426 | train_mae: 0.16355 |  0:00:57s\n",
      "epoch 555| loss: 0.06953 | train_mse: 0.04349 | train_mae: 0.16182 |  0:00:57s\n"
     ]
    },
    {
     "name": "stdout",
     "output_type": "stream",
     "text": [
      "epoch 556| loss: 0.0916  | train_mse: 0.04366 | train_mae: 0.16098 |  0:00:57s\n",
      "epoch 557| loss: 0.06092 | train_mse: 0.04421 | train_mae: 0.16152 |  0:00:58s\n"
     ]
    },
    {
     "name": "stdout",
     "output_type": "stream",
     "text": [
      "epoch 558| loss: 0.07469 | train_mse: 0.04513 | train_mae: 0.16266 |  0:00:58s\n",
      "epoch 559| loss: 0.08723 | train_mse: 0.04578 | train_mae: 0.16278 |  0:00:58s\n",
      "epoch 560| loss: 0.09894 | train_mse: 0.04565 | train_mae: 0.16353 |  0:00:58s\n"
     ]
    },
    {
     "name": "stdout",
     "output_type": "stream",
     "text": [
      "epoch 561| loss: 0.08393 | train_mse: 0.04457 | train_mae: 0.16305 |  0:00:58s\n",
      "epoch 562| loss: 0.08095 | train_mse: 0.04264 | train_mae: 0.16056 |  0:00:58s\n",
      "epoch 563| loss: 0.06855 | train_mse: 0.0414  | train_mae: 0.15905 |  0:00:58s\n"
     ]
    },
    {
     "name": "stdout",
     "output_type": "stream",
     "text": [
      "epoch 564| loss: 0.10912 | train_mse: 0.04127 | train_mae: 0.15899 |  0:00:58s\n",
      "epoch 565| loss: 0.05821 | train_mse: 0.04044 | train_mae: 0.15672 |  0:00:58s\n",
      "epoch 566| loss: 0.0851  | train_mse: 0.03994 | train_mae: 0.15505 |  0:00:58s\n"
     ]
    },
    {
     "name": "stdout",
     "output_type": "stream",
     "text": [
      "epoch 567| loss: 0.11402 | train_mse: 0.03976 | train_mae: 0.15286 |  0:00:59s\n",
      "epoch 568| loss: 0.09678 | train_mse: 0.03924 | train_mae: 0.15092 |  0:00:59s\n",
      "epoch 569| loss: 0.11189 | train_mse: 0.03763 | train_mae: 0.14783 |  0:00:59s\n"
     ]
    },
    {
     "name": "stdout",
     "output_type": "stream",
     "text": [
      "epoch 570| loss: 0.11282 | train_mse: 0.03743 | train_mae: 0.14689 |  0:00:59s\n",
      "epoch 571| loss: 0.09622 | train_mse: 0.03752 | train_mae: 0.14678 |  0:00:59s\n",
      "epoch 572| loss: 0.15182 | train_mse: 0.0376  | train_mae: 0.14731 |  0:00:59s\n"
     ]
    },
    {
     "name": "stdout",
     "output_type": "stream",
     "text": [
      "epoch 573| loss: 0.08372 | train_mse: 0.03833 | train_mae: 0.14858 |  0:00:59s\n",
      "epoch 574| loss: 0.09352 | train_mse: 0.03957 | train_mae: 0.15087 |  0:00:59s\n",
      "epoch 575| loss: 0.06646 | train_mse: 0.04096 | train_mae: 0.15393 |  0:00:59s"
     ]
    },
    {
     "name": "stdout",
     "output_type": "stream",
     "text": [
      "\n",
      "epoch 576| loss: 0.08139 | train_mse: 0.04089 | train_mae: 0.15429 |  0:00:59s\n"
     ]
    },
    {
     "name": "stdout",
     "output_type": "stream",
     "text": [
      "epoch 577| loss: 0.08652 | train_mse: 0.04584 | train_mae: 0.1591  |  0:00:59s\n",
      "epoch 578| loss: 0.13098 | train_mse: 0.04455 | train_mae: 0.1571  |  0:01:00s\n",
      "epoch 579| loss: 0.06917 | train_mse: 0.04191 | train_mae: 0.1544  |  0:01:00s\n"
     ]
    },
    {
     "name": "stdout",
     "output_type": "stream",
     "text": [
      "epoch 580| loss: 0.08269 | train_mse: 0.0425  | train_mae: 0.15338 |  0:01:00s\n",
      "epoch 581| loss: 0.19184 | train_mse: 0.04256 | train_mae: 0.15215 |  0:01:00s\n"
     ]
    },
    {
     "name": "stdout",
     "output_type": "stream",
     "text": [
      "epoch 582| loss: 0.16857 | train_mse: 0.04178 | train_mae: 0.15062 |  0:01:00s\n",
      "epoch 583| loss: 0.08564 | train_mse: 0.03801 | train_mae: 0.14948 |  0:01:00s\n"
     ]
    },
    {
     "name": "stdout",
     "output_type": "stream",
     "text": [
      "epoch 584| loss: 0.05401 | train_mse: 0.0373  | train_mae: 0.14973 |  0:01:00s\n",
      "epoch 585| loss: 0.1187  | train_mse: 0.03665 | train_mae: 0.14918 |  0:01:00s\n",
      "epoch 586| loss: 0.08925 | train_mse: 0.03624 | train_mae: 0.14903 |  0:01:00s\n"
     ]
    },
    {
     "name": "stdout",
     "output_type": "stream",
     "text": [
      "epoch 587| loss: 0.10178 | train_mse: 0.03532 | train_mae: 0.14644 |  0:01:01s\n",
      "epoch 588| loss: 0.06242 | train_mse: 0.03594 | train_mae: 0.14807 |  0:01:01s\n",
      "epoch 589| loss: 0.09812 | train_mse: 0.03596 | train_mae: 0.14814 |  0:01:01s\n"
     ]
    },
    {
     "name": "stdout",
     "output_type": "stream",
     "text": [
      "epoch 590| loss: 0.08645 | train_mse: 0.03666 | train_mae: 0.1503  |  0:01:01s\n",
      "epoch 591| loss: 0.08895 | train_mse: 0.03815 | train_mae: 0.15407 |  0:01:01s\n"
     ]
    },
    {
     "name": "stdout",
     "output_type": "stream",
     "text": [
      "epoch 592| loss: 0.07084 | train_mse: 0.0393  | train_mae: 0.15705 |  0:01:01s\n",
      "epoch 593| loss: 0.08417 | train_mse: 0.04101 | train_mae: 0.16087 |  0:01:01s\n"
     ]
    },
    {
     "name": "stdout",
     "output_type": "stream",
     "text": [
      "epoch 594| loss: 0.08308 | train_mse: 0.04012 | train_mae: 0.15837 |  0:01:01s\n",
      "epoch 595| loss: 0.08579 | train_mse: 0.03857 | train_mae: 0.15534 |  0:01:01s\n"
     ]
    },
    {
     "name": "stdout",
     "output_type": "stream",
     "text": [
      "epoch 596| loss: 0.06239 | train_mse: 0.03717 | train_mae: 0.15183 |  0:01:02s\n",
      "epoch 597| loss: 0.11032 | train_mse: 0.03631 | train_mae: 0.14899 |  0:01:02s\n"
     ]
    },
    {
     "name": "stdout",
     "output_type": "stream",
     "text": [
      "epoch 598| loss: 0.09913 | train_mse: 0.03655 | train_mae: 0.15    |  0:01:02s\n",
      "epoch 599| loss: 0.06439 | train_mse: 0.03618 | train_mae: 0.14854 |  0:01:02s\n"
     ]
    },
    {
     "name": "stdout",
     "output_type": "stream",
     "text": [
      "epoch 600| loss: 0.27736 | train_mse: 0.03592 | train_mae: 0.14792 |  0:01:02s\n",
      "epoch 601| loss: 0.0757  | train_mse: 0.03601 | train_mae: 0.14864 |  0:01:02s\n"
     ]
    },
    {
     "name": "stdout",
     "output_type": "stream",
     "text": [
      "epoch 602| loss: 0.05482 | train_mse: 0.03608 | train_mae: 0.14877 |  0:01:02s\n",
      "epoch 603| loss: 0.11599 | train_mse: 0.03867 | train_mae: 0.15397 |  0:01:02s\n",
      "epoch 604| loss: 0.1018  | train_mse: 0.03968 | train_mae: 0.15548 |  0:01:02s\n"
     ]
    },
    {
     "name": "stdout",
     "output_type": "stream",
     "text": [
      "epoch 605| loss: 0.10647 | train_mse: 0.04076 | train_mae: 0.15698 |  0:01:03s\n",
      "epoch 606| loss: 0.08709 | train_mse: 0.04042 | train_mae: 0.15596 |  0:01:03s\n",
      "epoch 607| loss: 0.07043 | train_mse: 0.03876 | train_mae: 0.15388 |  0:01:03s\n"
     ]
    },
    {
     "name": "stdout",
     "output_type": "stream",
     "text": [
      "epoch 608| loss: 0.09313 | train_mse: 0.03855 | train_mae: 0.15372 |  0:01:03s\n",
      "epoch 609| loss: 0.0939  | train_mse: 0.03958 | train_mae: 0.15571 |  0:01:03s\n",
      "epoch 610| loss: 0.07051 | train_mse: 0.03849 | train_mae: 0.15293 |  0:01:03s\n"
     ]
    },
    {
     "name": "stdout",
     "output_type": "stream",
     "text": [
      "epoch 611| loss: 0.08556 | train_mse: 0.03629 | train_mae: 0.14893 |  0:01:03s\n",
      "epoch 612| loss: 0.07985 | train_mse: 0.03489 | train_mae: 0.14544 |  0:01:03s\n",
      "epoch 613| loss: 0.07991 | train_mse: 0.03549 | train_mae: 0.14648 |  0:01:03s\n"
     ]
    },
    {
     "name": "stdout",
     "output_type": "stream",
     "text": [
      "epoch 614| loss: 0.07802 | train_mse: 0.03471 | train_mae: 0.14408 |  0:01:03s\n",
      "epoch 615| loss: 0.08006 | train_mse: 0.03462 | train_mae: 0.14404 |  0:01:03s\n",
      "epoch 616| loss: 0.18031 | train_mse: 0.03547 | train_mae: 0.1478  |  0:01:04s\n"
     ]
    },
    {
     "name": "stdout",
     "output_type": "stream",
     "text": [
      "epoch 617| loss: 0.0977  | train_mse: 0.03714 | train_mae: 0.15156 |  0:01:04s\n",
      "epoch 618| loss: 0.2201  | train_mse: 0.03984 | train_mae: 0.15719 |  0:01:04s\n",
      "epoch 619| loss: 0.11051 | train_mse: 0.04305 | train_mae: 0.16319 |  0:01:04s\n"
     ]
    },
    {
     "name": "stdout",
     "output_type": "stream",
     "text": [
      "epoch 620| loss: 0.07944 | train_mse: 0.04521 | train_mae: 0.16665 |  0:01:04s\n",
      "epoch 621| loss: 0.05227 | train_mse: 0.04295 | train_mae: 0.16371 |  0:01:04s\n"
     ]
    },
    {
     "name": "stdout",
     "output_type": "stream",
     "text": [
      "epoch 622| loss: 0.06968 | train_mse: 0.04138 | train_mae: 0.16135 |  0:01:04s\n",
      "epoch 623| loss: 0.06772 | train_mse: 0.0376  | train_mae: 0.15488 |  0:01:04s\n",
      "epoch 624| loss: 0.10998 | train_mse: 0.0364  | train_mae: 0.15216 |  0:01:04s\n"
     ]
    },
    {
     "name": "stdout",
     "output_type": "stream",
     "text": [
      "epoch 625| loss: 0.06379 | train_mse: 0.03652 | train_mae: 0.15219 |  0:01:04s\n",
      "epoch 626| loss: 0.11666 | train_mse: 0.03616 | train_mae: 0.15109 |  0:01:04s\n",
      "epoch 627| loss: 0.06309 | train_mse: 0.03671 | train_mae: 0.1524  |  0:01:05s\n"
     ]
    },
    {
     "name": "stdout",
     "output_type": "stream",
     "text": [
      "epoch 628| loss: 0.06788 | train_mse: 0.03781 | train_mae: 0.15442 |  0:01:05s\n",
      "epoch 629| loss: 0.08742 | train_mse: 0.03974 | train_mae: 0.15825 |  0:01:05s\n",
      "epoch 630| loss: 0.07089 | train_mse: 0.0412  | train_mae: 0.15993 |  0:01:05s\n"
     ]
    },
    {
     "name": "stdout",
     "output_type": "stream",
     "text": [
      "epoch 631| loss: 0.08941 | train_mse: 0.04134 | train_mae: 0.15953 |  0:01:05s\n",
      "epoch 632| loss: 0.06708 | train_mse: 0.04282 | train_mae: 0.16197 |  0:01:05s\n"
     ]
    },
    {
     "name": "stdout",
     "output_type": "stream",
     "text": [
      "epoch 633| loss: 0.11824 | train_mse: 0.04472 | train_mae: 0.16517 |  0:01:05s\n",
      "epoch 634| loss: 0.2023  | train_mse: 0.04574 | train_mae: 0.16664 |  0:01:05s\n",
      "epoch 635| loss: 0.07805 | train_mse: 0.04763 | train_mae: 0.16946 |  0:01:05s"
     ]
    },
    {
     "name": "stdout",
     "output_type": "stream",
     "text": [
      "\n",
      "epoch 636| loss: 0.11836 | train_mse: 0.04755 | train_mae: 0.16987 |  0:01:05s\n",
      "epoch 637| loss: 0.05069 | train_mse: 0.04679 | train_mae: 0.17064 |  0:01:06s\n"
     ]
    },
    {
     "name": "stdout",
     "output_type": "stream",
     "text": [
      "epoch 638| loss: 0.06514 | train_mse: 0.04591 | train_mae: 0.17036 |  0:01:06s\n",
      "epoch 639| loss: 0.10366 | train_mse: 0.04513 | train_mae: 0.17008 |  0:01:06s\n",
      "epoch 640| loss: 0.10652 | train_mse: 0.04274 | train_mae: 0.16586 |  0:01:06s\n"
     ]
    },
    {
     "name": "stdout",
     "output_type": "stream",
     "text": [
      "epoch 641| loss: 0.10632 | train_mse: 0.03963 | train_mae: 0.15894 |  0:01:06s\n",
      "epoch 642| loss: 0.05278 | train_mse: 0.03878 | train_mae: 0.15609 |  0:01:06s\n"
     ]
    },
    {
     "name": "stdout",
     "output_type": "stream",
     "text": [
      "epoch 643| loss: 0.07053 | train_mse: 0.03706 | train_mae: 0.15036 |  0:01:06s\n",
      "epoch 644| loss: 0.0697  | train_mse: 0.03751 | train_mae: 0.15007 |  0:01:06s\n",
      "epoch 645| loss: 0.06709 | train_mse: 0.03769 | train_mae: 0.14871 |  0:01:06s\n"
     ]
    },
    {
     "name": "stdout",
     "output_type": "stream",
     "text": [
      "epoch 646| loss: 0.10684 | train_mse: 0.03928 | train_mae: 0.1493  |  0:01:06s\n",
      "epoch 647| loss: 0.09047 | train_mse: 0.03914 | train_mae: 0.14869 |  0:01:06s\n",
      "epoch 648| loss: 0.1114  | train_mse: 0.03704 | train_mae: 0.14541 |  0:01:07s\n"
     ]
    },
    {
     "name": "stdout",
     "output_type": "stream",
     "text": [
      "epoch 649| loss: 0.06714 | train_mse: 0.0361  | train_mae: 0.14536 |  0:01:07s\n",
      "epoch 650| loss: 0.08185 | train_mse: 0.03547 | train_mae: 0.14435 |  0:01:07s\n",
      "epoch 651| loss: 0.06776 | train_mse: 0.03638 | train_mae: 0.14592 |  0:01:07s\n"
     ]
    },
    {
     "name": "stdout",
     "output_type": "stream",
     "text": [
      "epoch 652| loss: 0.08135 | train_mse: 0.03737 | train_mae: 0.14787 |  0:01:07s\n",
      "epoch 653| loss: 0.20241 | train_mse: 0.03985 | train_mae: 0.15442 |  0:01:07s\n",
      "epoch 654| loss: 0.10031 | train_mse: 0.04403 | train_mae: 0.16203 |  0:01:07s\n"
     ]
    },
    {
     "name": "stdout",
     "output_type": "stream",
     "text": [
      "epoch 655| loss: 0.079   | train_mse: 0.04656 | train_mae: 0.16561 |  0:01:07s\n",
      "epoch 656| loss: 0.09799 | train_mse: 0.04566 | train_mae: 0.16379 |  0:01:07s\n",
      "epoch 657| loss: 0.06271 | train_mse: 0.04609 | train_mae: 0.16469 |  0:01:07s\n"
     ]
    },
    {
     "name": "stdout",
     "output_type": "stream",
     "text": [
      "epoch 658| loss: 0.07286 | train_mse: 0.04339 | train_mae: 0.16067 |  0:01:08s\n",
      "epoch 659| loss: 0.1077  | train_mse: 0.03991 | train_mae: 0.15556 |  0:01:08s\n"
     ]
    },
    {
     "name": "stdout",
     "output_type": "stream",
     "text": [
      "epoch 660| loss: 0.05716 | train_mse: 0.03709 | train_mae: 0.15038 |  0:01:08s\n"
     ]
    },
    {
     "name": "stdout",
     "output_type": "stream",
     "text": [
      "epoch 661| loss: 0.13818 | train_mse: 0.03491 | train_mae: 0.14509 |  0:01:08s\n",
      "epoch 662| loss: 0.08    | train_mse: 0.03342 | train_mae: 0.14231 |  0:01:08s\n"
     ]
    },
    {
     "name": "stdout",
     "output_type": "stream",
     "text": [
      "epoch 663| loss: 0.0811  | train_mse: 0.03367 | train_mae: 0.14318 |  0:01:08s\n",
      "epoch 664| loss: 0.08011 | train_mse: 0.03391 | train_mae: 0.14291 |  0:01:09s\n"
     ]
    },
    {
     "name": "stdout",
     "output_type": "stream",
     "text": [
      "epoch 665| loss: 0.05289 | train_mse: 0.03532 | train_mae: 0.14632 |  0:01:09s\n"
     ]
    },
    {
     "name": "stdout",
     "output_type": "stream",
     "text": [
      "epoch 666| loss: 0.10157 | train_mse: 0.03701 | train_mae: 0.15044 |  0:01:09s\n",
      "epoch 667| loss: 0.16907 | train_mse: 0.03888 | train_mae: 0.15344 |  0:01:09s\n"
     ]
    },
    {
     "name": "stdout",
     "output_type": "stream",
     "text": [
      "epoch 668| loss: 0.12561 | train_mse: 0.0408  | train_mae: 0.15756 |  0:01:09s\n",
      "epoch 669| loss: 0.08167 | train_mse: 0.04028 | train_mae: 0.15716 |  0:01:10s\n"
     ]
    },
    {
     "name": "stdout",
     "output_type": "stream",
     "text": [
      "epoch 670| loss: 0.15815 | train_mse: 0.03971 | train_mae: 0.15621 |  0:01:10s\n",
      "epoch 671| loss: 0.06667 | train_mse: 0.04017 | train_mae: 0.15704 |  0:01:10s\n"
     ]
    },
    {
     "name": "stdout",
     "output_type": "stream",
     "text": [
      "epoch 672| loss: 0.07552 | train_mse: 0.0396  | train_mae: 0.15534 |  0:01:10s\n",
      "epoch 673| loss: 0.05942 | train_mse: 0.03923 | train_mae: 0.15351 |  0:01:10s\n",
      "epoch 674| loss: 0.0864  | train_mse: 0.03891 | train_mae: 0.15094 |  0:01:10s\n"
     ]
    },
    {
     "name": "stdout",
     "output_type": "stream",
     "text": [
      "epoch 675| loss: 0.15092 | train_mse: 0.03903 | train_mae: 0.15132 |  0:01:10s\n",
      "epoch 676| loss: 0.12052 | train_mse: 0.03832 | train_mae: 0.15037 |  0:01:10s\n"
     ]
    },
    {
     "name": "stdout",
     "output_type": "stream",
     "text": [
      "epoch 677| loss: 0.12086 | train_mse: 0.03757 | train_mae: 0.14882 |  0:01:11s\n"
     ]
    },
    {
     "name": "stdout",
     "output_type": "stream",
     "text": [
      "epoch 678| loss: 0.15849 | train_mse: 0.0361  | train_mae: 0.14552 |  0:01:11s\n",
      "epoch 679| loss: 0.10335 | train_mse: 0.03694 | train_mae: 0.14815 |  0:01:11s\n"
     ]
    },
    {
     "name": "stdout",
     "output_type": "stream",
     "text": [
      "epoch 680| loss: 0.05352 | train_mse: 0.03699 | train_mae: 0.14806 |  0:01:11s\n",
      "epoch 681| loss: 0.09367 | train_mse: 0.03669 | train_mae: 0.14716 |  0:01:11s\n"
     ]
    },
    {
     "name": "stdout",
     "output_type": "stream",
     "text": [
      "epoch 682| loss: 0.13663 | train_mse: 0.03605 | train_mae: 0.14582 |  0:01:11s\n",
      "epoch 683| loss: 0.08632 | train_mse: 0.03484 | train_mae: 0.14365 |  0:01:11s\n",
      "epoch 684| loss: 0.11397 | train_mse: 0.03473 | train_mae: 0.14293 |  0:01:12s\n"
     ]
    },
    {
     "name": "stdout",
     "output_type": "stream",
     "text": [
      "epoch 685| loss: 0.06626 | train_mse: 0.03465 | train_mae: 0.14211 |  0:01:12s\n",
      "epoch 686| loss: 0.05923 | train_mse: 0.03527 | train_mae: 0.14279 |  0:01:12s\n"
     ]
    },
    {
     "name": "stdout",
     "output_type": "stream",
     "text": [
      "epoch 687| loss: 0.10295 | train_mse: 0.0371  | train_mae: 0.14641 |  0:01:12s\n",
      "epoch 688| loss: 0.05955 | train_mse: 0.03887 | train_mae: 0.14984 |  0:01:12s\n"
     ]
    },
    {
     "name": "stdout",
     "output_type": "stream",
     "text": [
      "epoch 689| loss: 0.05931 | train_mse: 0.04199 | train_mae: 0.15557 |  0:01:12s\n",
      "epoch 690| loss: 0.0852  | train_mse: 0.04418 | train_mae: 0.15957 |  0:01:13s\n"
     ]
    },
    {
     "name": "stdout",
     "output_type": "stream",
     "text": [
      "epoch 691| loss: 0.06263 | train_mse: 0.04536 | train_mae: 0.16134 |  0:01:13s\n",
      "epoch 692| loss: 0.11569 | train_mse: 0.04562 | train_mae: 0.16171 |  0:01:13s\n"
     ]
    },
    {
     "name": "stdout",
     "output_type": "stream",
     "text": [
      "epoch 693| loss: 0.06476 | train_mse: 0.04643 | train_mae: 0.16268 |  0:01:13s\n",
      "epoch 694| loss: 0.06785 | train_mse: 0.04562 | train_mae: 0.16221 |  0:01:13s\n"
     ]
    },
    {
     "name": "stdout",
     "output_type": "stream",
     "text": [
      "epoch 695| loss: 0.18483 | train_mse: 0.04703 | train_mae: 0.16558 |  0:01:13s\n"
     ]
    },
    {
     "name": "stdout",
     "output_type": "stream",
     "text": [
      "epoch 696| loss: 0.07603 | train_mse: 0.04862 | train_mae: 0.16848 |  0:01:14s\n"
     ]
    },
    {
     "name": "stdout",
     "output_type": "stream",
     "text": [
      "epoch 697| loss: 0.05517 | train_mse: 0.04932 | train_mae: 0.17102 |  0:01:14s\n",
      "epoch 698| loss: 0.07933 | train_mse: 0.04815 | train_mae: 0.16988 |  0:01:14s\n"
     ]
    },
    {
     "name": "stdout",
     "output_type": "stream",
     "text": [
      "epoch 699| loss: 0.0795  | train_mse: 0.04601 | train_mae: 0.1663  |  0:01:15s\n",
      "epoch 700| loss: 0.11932 | train_mse: 0.04266 | train_mae: 0.15916 |  0:01:15s\n"
     ]
    },
    {
     "name": "stdout",
     "output_type": "stream",
     "text": [
      "epoch 701| loss: 0.10204 | train_mse: 0.03974 | train_mae: 0.15256 |  0:01:15s\n"
     ]
    },
    {
     "name": "stdout",
     "output_type": "stream",
     "text": [
      "epoch 702| loss: 0.06491 | train_mse: 0.03914 | train_mae: 0.15049 |  0:01:15s\n",
      "epoch 703| loss: 0.13974 | train_mse: 0.04009 | train_mae: 0.15058 |  0:01:15s\n"
     ]
    },
    {
     "name": "stdout",
     "output_type": "stream",
     "text": [
      "epoch 704| loss: 0.06101 | train_mse: 0.04034 | train_mae: 0.15037 |  0:01:15s\n"
     ]
    },
    {
     "name": "stdout",
     "output_type": "stream",
     "text": [
      "epoch 705| loss: 0.05134 | train_mse: 0.03998 | train_mae: 0.14946 |  0:01:16s\n",
      "epoch 706| loss: 0.05621 | train_mse: 0.0395  | train_mae: 0.14805 |  0:01:16s\n"
     ]
    },
    {
     "name": "stdout",
     "output_type": "stream",
     "text": [
      "epoch 707| loss: 0.07237 | train_mse: 0.04024 | train_mae: 0.15017 |  0:01:16s\n",
      "epoch 708| loss: 0.07045 | train_mse: 0.03978 | train_mae: 0.14965 |  0:01:16s\n"
     ]
    },
    {
     "name": "stdout",
     "output_type": "stream",
     "text": [
      "epoch 709| loss: 0.09356 | train_mse: 0.03919 | train_mae: 0.14969 |  0:01:16s\n",
      "epoch 710| loss: 0.06393 | train_mse: 0.03837 | train_mae: 0.14943 |  0:01:17s\n"
     ]
    },
    {
     "name": "stdout",
     "output_type": "stream",
     "text": [
      "epoch 711| loss: 0.08379 | train_mse: 0.03899 | train_mae: 0.15217 |  0:01:17s\n",
      "epoch 712| loss: 0.04112 | train_mse: 0.0391  | train_mae: 0.15291 |  0:01:17s\n"
     ]
    },
    {
     "name": "stdout",
     "output_type": "stream",
     "text": [
      "epoch 713| loss: 0.09831 | train_mse: 0.0381  | train_mae: 0.15039 |  0:01:17s\n",
      "epoch 714| loss: 0.0914  | train_mse: 0.03755 | train_mae: 0.15097 |  0:01:17s\n"
     ]
    },
    {
     "name": "stdout",
     "output_type": "stream",
     "text": [
      "epoch 715| loss: 0.05852 | train_mse: 0.03638 | train_mae: 0.14931 |  0:01:17s\n",
      "epoch 716| loss: 0.06027 | train_mse: 0.03531 | train_mae: 0.14561 |  0:01:17s\n"
     ]
    },
    {
     "name": "stdout",
     "output_type": "stream",
     "text": [
      "epoch 717| loss: 0.07169 | train_mse: 0.0357  | train_mae: 0.14584 |  0:01:17s\n",
      "epoch 718| loss: 0.05833 | train_mse: 0.03645 | train_mae: 0.1467  |  0:01:18s\n",
      "epoch 719| loss: 0.07443 | train_mse: 0.03706 | train_mae: 0.14855 |  0:01:18s\n"
     ]
    },
    {
     "name": "stdout",
     "output_type": "stream",
     "text": [
      "epoch 720| loss: 0.07581 | train_mse: 0.03805 | train_mae: 0.14978 |  0:01:18s\n",
      "epoch 721| loss: 0.08468 | train_mse: 0.03927 | train_mae: 0.15259 |  0:01:18s\n",
      "epoch 722| loss: 0.07883 | train_mse: 0.03827 | train_mae: 0.15165 |  0:01:18s\n"
     ]
    },
    {
     "name": "stdout",
     "output_type": "stream",
     "text": [
      "epoch 723| loss: 0.11603 | train_mse: 0.03773 | train_mae: 0.15041 |  0:01:18s\n",
      "epoch 724| loss: 0.11622 | train_mse: 0.03854 | train_mae: 0.15126 |  0:01:18s\n"
     ]
    },
    {
     "name": "stdout",
     "output_type": "stream",
     "text": [
      "epoch 725| loss: 0.06431 | train_mse: 0.03734 | train_mae: 0.14784 |  0:01:18s\n",
      "epoch 726| loss: 0.07163 | train_mse: 0.03554 | train_mae: 0.14395 |  0:01:18s\n",
      "epoch 727| loss: 0.09246 | train_mse: 0.03491 | train_mae: 0.14072 |  0:01:18s\n"
     ]
    },
    {
     "name": "stdout",
     "output_type": "stream",
     "text": [
      "epoch 728| loss: 0.08705 | train_mse: 0.0363  | train_mae: 0.14433 |  0:01:19s\n",
      "epoch 729| loss: 0.06139 | train_mse: 0.03869 | train_mae: 0.14993 |  0:01:19s\n",
      "epoch 730| loss: 0.11224 | train_mse: 0.04109 | train_mae: 0.15501 |  0:01:19s\n"
     ]
    },
    {
     "name": "stdout",
     "output_type": "stream",
     "text": [
      "epoch 731| loss: 0.1467  | train_mse: 0.04385 | train_mae: 0.1588  |  0:01:19s\n",
      "epoch 732| loss: 0.08038 | train_mse: 0.04574 | train_mae: 0.16092 |  0:01:19s\n",
      "epoch 733| loss: 0.07606 | train_mse: 0.04656 | train_mae: 0.16101 |  0:01:19s\n"
     ]
    },
    {
     "name": "stdout",
     "output_type": "stream",
     "text": [
      "epoch 734| loss: 0.07066 | train_mse: 0.0451  | train_mae: 0.15877 |  0:01:19s\n",
      "epoch 735| loss: 0.09054 | train_mse: 0.04412 | train_mae: 0.15653 |  0:01:19s\n",
      "epoch 736| loss: 0.0638  | train_mse: 0.0446  | train_mae: 0.1565  |  0:01:19s\n"
     ]
    },
    {
     "name": "stdout",
     "output_type": "stream",
     "text": [
      "epoch 737| loss: 0.06638 | train_mse: 0.04485 | train_mae: 0.15744 |  0:01:19s\n",
      "epoch 738| loss: 0.12731 | train_mse: 0.04645 | train_mae: 0.16174 |  0:01:20s\n",
      "epoch 739| loss: 0.08225 | train_mse: 0.04727 | train_mae: 0.16431 |  0:01:20s\n"
     ]
    },
    {
     "name": "stdout",
     "output_type": "stream",
     "text": [
      "epoch 740| loss: 0.15165 | train_mse: 0.04867 | train_mae: 0.16792 |  0:01:20s\n",
      "epoch 741| loss: 0.07745 | train_mse: 0.04743 | train_mae: 0.16602 |  0:01:20s\n",
      "epoch 742| loss: 0.08321 | train_mse: 0.04524 | train_mae: 0.16216 |  0:01:20s\n"
     ]
    },
    {
     "name": "stdout",
     "output_type": "stream",
     "text": [
      "epoch 743| loss: 0.11794 | train_mse: 0.04426 | train_mae: 0.16081 |  0:01:20s\n",
      "epoch 744| loss: 0.087   | train_mse: 0.04373 | train_mae: 0.15889 |  0:01:20s\n"
     ]
    },
    {
     "name": "stdout",
     "output_type": "stream",
     "text": [
      "epoch 745| loss: 0.08064 | train_mse: 0.0403  | train_mae: 0.1527  |  0:01:20s\n",
      "epoch 746| loss: 0.08627 | train_mse: 0.03926 | train_mae: 0.14949 |  0:01:20s\n",
      "epoch 747| loss: 0.0796  | train_mse: 0.03931 | train_mae: 0.1483  |  0:01:20s\n"
     ]
    },
    {
     "name": "stdout",
     "output_type": "stream",
     "text": [
      "epoch 748| loss: 0.08626 | train_mse: 0.04028 | train_mae: 0.14993 |  0:01:20s\n",
      "epoch 749| loss: 0.08013 | train_mse: 0.0421  | train_mae: 0.15094 |  0:01:21s\n",
      "epoch 750| loss: 0.06346 | train_mse: 0.04463 | train_mae: 0.15592 |  0:01:21s\n"
     ]
    },
    {
     "name": "stdout",
     "output_type": "stream",
     "text": [
      "epoch 751| loss: 0.14772 | train_mse: 0.04722 | train_mae: 0.16068 |  0:01:21s\n",
      "epoch 752| loss: 0.09663 | train_mse: 0.04805 | train_mae: 0.1626  |  0:01:21s\n",
      "epoch 753| loss: 0.08398 | train_mse: 0.04733 | train_mae: 0.16074 |  0:01:21s\n"
     ]
    },
    {
     "name": "stdout",
     "output_type": "stream",
     "text": [
      "epoch 754| loss: 0.07005 | train_mse: 0.0462  | train_mae: 0.15738 |  0:01:21s\n",
      "epoch 755| loss: 0.08886 | train_mse: 0.04371 | train_mae: 0.15362 |  0:01:21s\n"
     ]
    },
    {
     "name": "stdout",
     "output_type": "stream",
     "text": [
      "epoch 756| loss: 0.08952 | train_mse: 0.04057 | train_mae: 0.14797 |  0:01:21s\n",
      "epoch 757| loss: 0.07357 | train_mse: 0.03833 | train_mae: 0.14312 |  0:01:21s\n",
      "epoch 758| loss: 0.18681 | train_mse: 0.03727 | train_mae: 0.1411  |  0:01:21s\n"
     ]
    },
    {
     "name": "stdout",
     "output_type": "stream",
     "text": [
      "epoch 759| loss: 0.09515 | train_mse: 0.03702 | train_mae: 0.14107 |  0:01:22s\n",
      "epoch 760| loss: 0.08849 | train_mse: 0.03539 | train_mae: 0.14009 |  0:01:22s\n"
     ]
    },
    {
     "name": "stdout",
     "output_type": "stream",
     "text": [
      "epoch 761| loss: 0.05133 | train_mse: 0.03443 | train_mae: 0.13972 |  0:01:22s\n",
      "epoch 762| loss: 0.06138 | train_mse: 0.03294 | train_mae: 0.13737 |  0:01:22s\n"
     ]
    },
    {
     "name": "stdout",
     "output_type": "stream",
     "text": [
      "epoch 763| loss: 0.21754 | train_mse: 0.03373 | train_mae: 0.13871 |  0:01:22s\n",
      "epoch 764| loss: 0.06977 | train_mse: 0.03444 | train_mae: 0.14047 |  0:01:22s\n",
      "epoch 765| loss: 0.06163 | train_mse: 0.03614 | train_mae: 0.14422 |  0:01:22s"
     ]
    },
    {
     "name": "stdout",
     "output_type": "stream",
     "text": [
      "\n",
      "epoch 766| loss: 0.08814 | train_mse: 0.03651 | train_mae: 0.14393 |  0:01:22s\n",
      "epoch 767| loss: 0.07223 | train_mse: 0.03647 | train_mae: 0.14166 |  0:01:22s\n"
     ]
    },
    {
     "name": "stdout",
     "output_type": "stream",
     "text": [
      "epoch 768| loss: 0.06461 | train_mse: 0.03716 | train_mae: 0.14395 |  0:01:23s\n",
      "epoch 769| loss: 0.0751  | train_mse: 0.038   | train_mae: 0.14665 |  0:01:23s\n",
      "epoch 770| loss: 0.06771 | train_mse: 0.03894 | train_mae: 0.14963 |  0:01:23s\n"
     ]
    },
    {
     "name": "stdout",
     "output_type": "stream",
     "text": [
      "epoch 771| loss: 0.06567 | train_mse: 0.03844 | train_mae: 0.14978 |  0:01:23s\n",
      "epoch 772| loss: 0.05444 | train_mse: 0.03751 | train_mae: 0.14855 |  0:01:23s\n"
     ]
    },
    {
     "name": "stdout",
     "output_type": "stream",
     "text": [
      "epoch 773| loss: 0.05432 | train_mse: 0.037   | train_mae: 0.14812 |  0:01:23s\n",
      "epoch 774| loss: 0.04442 | train_mse: 0.03589 | train_mae: 0.14697 |  0:01:23s\n"
     ]
    },
    {
     "name": "stdout",
     "output_type": "stream",
     "text": [
      "epoch 775| loss: 0.08901 | train_mse: 0.03611 | train_mae: 0.14847 |  0:01:23s\n",
      "epoch 776| loss: 0.06457 | train_mse: 0.03639 | train_mae: 0.14978 |  0:01:23s\n"
     ]
    },
    {
     "name": "stdout",
     "output_type": "stream",
     "text": [
      "epoch 777| loss: 0.0731  | train_mse: 0.03578 | train_mae: 0.14969 |  0:01:23s\n",
      "epoch 778| loss: 0.08475 | train_mse: 0.03749 | train_mae: 0.15427 |  0:01:24s\n",
      "epoch 779| loss: 0.15739 | train_mse: 0.03893 | train_mae: 0.15648 |  0:01:24s\n"
     ]
    },
    {
     "name": "stdout",
     "output_type": "stream",
     "text": [
      "epoch 780| loss: 0.07642 | train_mse: 0.03879 | train_mae: 0.15472 |  0:01:24s\n",
      "epoch 781| loss: 0.11902 | train_mse: 0.03694 | train_mae: 0.15098 |  0:01:24s\n"
     ]
    },
    {
     "name": "stdout",
     "output_type": "stream",
     "text": [
      "epoch 782| loss: 0.05997 | train_mse: 0.0361  | train_mae: 0.14908 |  0:01:24s\n",
      "epoch 783| loss: 0.1181  | train_mse: 0.03642 | train_mae: 0.14902 |  0:01:24s\n"
     ]
    },
    {
     "name": "stdout",
     "output_type": "stream",
     "text": [
      "epoch 784| loss: 0.0708  | train_mse: 0.03665 | train_mae: 0.14952 |  0:01:24s\n",
      "epoch 785| loss: 0.08338 | train_mse: 0.03652 | train_mae: 0.14827 |  0:01:24s\n",
      "epoch 786| loss: 0.07548 | train_mse: 0.03705 | train_mae: 0.14892 |  0:01:24s\n"
     ]
    },
    {
     "name": "stdout",
     "output_type": "stream",
     "text": [
      "epoch 787| loss: 0.06751 | train_mse: 0.03616 | train_mae: 0.14675 |  0:01:24s\n",
      "epoch 788| loss: 0.13354 | train_mse: 0.03508 | train_mae: 0.14395 |  0:01:25s\n",
      "epoch 789| loss: 0.06318 | train_mse: 0.03524 | train_mae: 0.14471 |  0:01:25s\n"
     ]
    },
    {
     "name": "stdout",
     "output_type": "stream",
     "text": [
      "epoch 790| loss: 0.1661  | train_mse: 0.03752 | train_mae: 0.14951 |  0:01:25s\n",
      "epoch 791| loss: 0.10916 | train_mse: 0.03856 | train_mae: 0.15158 |  0:01:25s\n",
      "epoch 792| loss: 0.06544 | train_mse: 0.03962 | train_mae: 0.15316 |  0:01:25s\n"
     ]
    },
    {
     "name": "stdout",
     "output_type": "stream",
     "text": [
      "epoch 793| loss: 0.092   | train_mse: 0.04134 | train_mae: 0.15203 |  0:01:25s\n",
      "epoch 794| loss: 0.10451 | train_mse: 0.04395 | train_mae: 0.15407 |  0:01:25s\n"
     ]
    },
    {
     "name": "stdout",
     "output_type": "stream",
     "text": [
      "epoch 795| loss: 0.12127 | train_mse: 0.04659 | train_mae: 0.15628 |  0:01:25s\n",
      "epoch 796| loss: 0.05877 | train_mse: 0.04633 | train_mae: 0.15582 |  0:01:25s\n"
     ]
    },
    {
     "name": "stdout",
     "output_type": "stream",
     "text": [
      "epoch 797| loss: 0.03667 | train_mse: 0.04406 | train_mae: 0.151   |  0:01:26s\n",
      "epoch 798| loss: 0.09242 | train_mse: 0.0439  | train_mae: 0.14871 |  0:01:26s\n",
      "epoch 799| loss: 0.08362 | train_mse: 0.04368 | train_mae: 0.14724 |  0:01:26s\n"
     ]
    },
    {
     "name": "stdout",
     "output_type": "stream",
     "text": [
      "epoch 800| loss: 0.05954 | train_mse: 0.0436  | train_mae: 0.14761 |  0:01:26s\n",
      "epoch 801| loss: 0.06802 | train_mse: 0.046   | train_mae: 0.15614 |  0:01:26s\n",
      "epoch 802| loss: 0.094   | train_mse: 0.04751 | train_mae: 0.15953 |  0:01:26s\n"
     ]
    },
    {
     "name": "stdout",
     "output_type": "stream",
     "text": [
      "epoch 803| loss: 0.1326  | train_mse: 0.04824 | train_mae: 0.16136 |  0:01:26s\n",
      "epoch 804| loss: 0.07831 | train_mse: 0.05315 | train_mae: 0.17086 |  0:01:26s\n"
     ]
    },
    {
     "name": "stdout",
     "output_type": "stream",
     "text": [
      "epoch 805| loss: 0.10007 | train_mse: 0.05244 | train_mae: 0.17217 |  0:01:26s\n",
      "epoch 806| loss: 0.06497 | train_mse: 0.05008 | train_mae: 0.17187 |  0:01:26s\n",
      "epoch 807| loss: 0.07232 | train_mse: 0.04562 | train_mae: 0.16529 |  0:01:26s\n"
     ]
    },
    {
     "name": "stdout",
     "output_type": "stream",
     "text": [
      "epoch 808| loss: 0.08221 | train_mse: 0.04436 | train_mae: 0.16285 |  0:01:27s\n",
      "epoch 809| loss: 0.10859 | train_mse: 0.04355 | train_mae: 0.16054 |  0:01:27s\n"
     ]
    },
    {
     "name": "stdout",
     "output_type": "stream",
     "text": [
      "epoch 810| loss: 0.08281 | train_mse: 0.04116 | train_mae: 0.15554 |  0:01:27s\n",
      "epoch 811| loss: 0.1232  | train_mse: 0.03815 | train_mae: 0.14994 |  0:01:27s\n"
     ]
    },
    {
     "name": "stdout",
     "output_type": "stream",
     "text": [
      "epoch 812| loss: 0.05996 | train_mse: 0.03744 | train_mae: 0.14828 |  0:01:27s\n",
      "\n",
      "Early stopping occurred at epoch 812 with best_epoch = 762 and best_train_mae = 0.13737\n",
      "Best weights from best epoch are automatically used!\n"
     ]
    }
   ],
   "source": [
    "#Train the Model\n",
    "\n",
    "Y_train = np.reshape(Y_train, (-1, 1))\n",
    "Y_test = np.reshape(Y_test, (-1, 1))\n",
    "\n",
    "prior_model = TabNetRegressor(optimizer_fn=torch.optim.Adam, optimizer_params=dict(lr = 0.001),\n",
    "          #scheduler_params={\"step_size\":10, ], \"gamma\":0.9},\n",
    "          #scheduler_fn=torch.optim.lr_scheduler.StepLR\n",
    "          )  #TabNetRegressor()\n",
    "\n",
    "prior_model.fit(X_train,Y_train,eval_set=[(X_train, Y_train)],\n",
    "            eval_name=['train'], \n",
    "            eval_metric=[ 'mse', 'mae'], \n",
    "            max_epochs = n_epochs, \n",
    "            batch_size = batch_size,\n",
    "            patience=50\n",
    "            )"
   ]
  },
  {
   "cell_type": "code",
   "execution_count": 10,
   "id": "af65dcda",
   "metadata": {
    "execution": {
     "iopub.execute_input": "2022-07-22T09:03:27.231084Z",
     "iopub.status.busy": "2022-07-22T09:03:27.230128Z",
     "iopub.status.idle": "2022-07-22T09:03:27.292014Z",
     "shell.execute_reply": "2022-07-22T09:03:27.290769Z"
    },
    "id": "af65dcda",
    "papermill": {
     "duration": 0.11687,
     "end_time": "2022-07-22T09:03:27.306603",
     "exception": false,
     "start_time": "2022-07-22T09:03:27.189733",
     "status": "completed"
    },
    "tags": []
   },
   "outputs": [
    {
     "data": {
      "application/scrapbook.scrap.json+json": {
       "data": 0.5002100921258645,
       "encoder": "json",
       "name": "Prior Model MSE",
       "version": 1
      }
     },
     "metadata": {
      "scrapbook": {
       "data": true,
       "display": false,
       "name": "Prior Model MSE"
      }
     },
     "output_type": "display_data"
    },
    {
     "data": {
      "application/scrapbook.scrap.json+json": {
       "data": 0.5030641064520851,
       "encoder": "json",
       "name": "ABC Pre-generator MSE",
       "version": 1
      }
     },
     "metadata": {
      "scrapbook": {
       "data": true,
       "display": false,
       "name": "ABC Pre-generator MSE"
      }
     },
     "output_type": "display_data"
    },
    {
     "data": {
      "application/scrapbook.scrap.json+json": {
       "data": 0.4686312249504009,
       "encoder": "json",
       "name": "Prior Model MAE",
       "version": 1
      }
     },
     "metadata": {
      "scrapbook": {
       "data": true,
       "display": false,
       "name": "Prior Model MAE"
      }
     },
     "output_type": "display_data"
    },
    {
     "name": "stdout",
     "output_type": "stream",
     "text": [
      "Prior Model MAE 0.4686312249504009\n"
     ]
    },
    {
     "data": {
      "application/scrapbook.scrap.json+json": {
       "data": 0.46914764515360785,
       "encoder": "json",
       "name": "ABC Pre-generator MAE",
       "version": 1
      }
     },
     "metadata": {
      "scrapbook": {
       "data": true,
       "display": false,
       "name": "ABC Pre-generator MAE"
      }
     },
     "output_type": "display_data"
    },
    {
     "name": "stdout",
     "output_type": "stream",
     "text": [
      "ABC Pre-generator MAE 0.46914764515360785\n"
     ]
    }
   ],
   "source": [
    "y_pred = prior_model.predict(X_test)\n",
    "y_abc = y_pred + np.random.normal(0,variance, y_pred.shape) + bias \n",
    "mse = mean_squared_error(y_pred,Y_test)\n",
    "sb.glue(\"Prior Model MSE\",mse)\n",
    "mse = mean_squared_error(y_abc,Y_test)\n",
    "sb.glue(\"ABC Pre-generator MSE\",mse)\n",
    "mae = mean_absolute_error(y_pred,Y_test)\n",
    "sb.glue(\"Prior Model MAE\",mae)\n",
    "print(\"Prior Model MAE\",mae)\n",
    "mae = mean_absolute_error(y_abc,Y_test)\n",
    "sb.glue(\"ABC Pre-generator MAE\",mae)\n",
    "print(\"ABC Pre-generator MAE\",mae)"
   ]
  },
  {
   "cell_type": "markdown",
   "id": "25609da2",
   "metadata": {
    "papermill": {
     "duration": 0.035158,
     "end_time": "2022-07-22T09:03:27.374140",
     "exception": false,
     "start_time": "2022-07-22T09:03:27.338982",
     "status": "completed"
    },
    "tags": []
   },
   "source": [
    "# mGAN Model"
   ]
  },
  {
   "cell_type": "code",
   "execution_count": 11,
   "id": "dfc3464d",
   "metadata": {
    "execution": {
     "iopub.execute_input": "2022-07-22T09:03:27.446929Z",
     "iopub.status.busy": "2022-07-22T09:03:27.446384Z",
     "iopub.status.idle": "2022-07-22T09:03:27.452877Z",
     "shell.execute_reply": "2022-07-22T09:03:27.451349Z"
    },
    "papermill": {
     "duration": 0.048958,
     "end_time": "2022-07-22T09:03:27.459462",
     "exception": false,
     "start_time": "2022-07-22T09:03:27.410504",
     "status": "completed"
    },
    "tags": []
   },
   "outputs": [],
   "source": [
    "# gen = network.Generator(n_features+1).to(device)\n",
    "# disc = network.Discriminator(n_features+1).to(device)\n",
    "\n",
    "# criterion = torch.nn.BCELoss()\n",
    "# gen_opt = torch.optim.Adam(gen.parameters(), lr=0.001, betas=(0.5, 0.999))\n",
    "# disc_opt = torch.optim.Adam(disc.parameters(), lr=0.001, betas=(0.5, 0.999))"
   ]
  },
  {
   "cell_type": "code",
   "execution_count": 12,
   "id": "b75fdd85",
   "metadata": {
    "execution": {
     "iopub.execute_input": "2022-07-22T09:03:27.536015Z",
     "iopub.status.busy": "2022-07-22T09:03:27.535334Z",
     "iopub.status.idle": "2022-07-22T09:03:27.541071Z",
     "shell.execute_reply": "2022-07-22T09:03:27.539617Z"
    },
    "papermill": {
     "duration": 0.051783,
     "end_time": "2022-07-22T09:03:27.544493",
     "exception": false,
     "start_time": "2022-07-22T09:03:27.492710",
     "status": "completed"
    },
    "tags": []
   },
   "outputs": [],
   "source": [
    "#Training the ABC_GAN \n",
    "# ABC_train_test2.training_GAN(disc,gen,disc_opt,gen_opt,train_data,batch_size,n_epochs,criterion,prior_model,variance,bias,device)"
   ]
  },
  {
   "cell_type": "code",
   "execution_count": 13,
   "id": "1fa7c368",
   "metadata": {
    "execution": {
     "iopub.execute_input": "2022-07-22T09:03:27.616900Z",
     "iopub.status.busy": "2022-07-22T09:03:27.616337Z",
     "iopub.status.idle": "2022-07-22T09:03:27.621417Z",
     "shell.execute_reply": "2022-07-22T09:03:27.620104Z"
    },
    "papermill": {
     "duration": 0.046424,
     "end_time": "2022-07-22T09:03:27.624558",
     "exception": false,
     "start_time": "2022-07-22T09:03:27.578134",
     "status": "completed"
    },
    "tags": []
   },
   "outputs": [],
   "source": [
    "# ABC_GAN1_metrics=ABC_train_test2.test_generator(gen,test_data,prior_model,variance,bias,\"1\",device)\n",
    "# sb.glue(\"ABC_GAN_1 Metrics\",ABC_GAN1_metrics)\n",
    "\n",
    "# print(\"MAE\")\n",
    "# print(mean(ABC_GAN1_metrics[1]))"
   ]
  },
  {
   "cell_type": "code",
   "execution_count": 14,
   "id": "eb22ce5c",
   "metadata": {
    "execution": {
     "iopub.execute_input": "2022-07-22T09:03:27.694983Z",
     "iopub.status.busy": "2022-07-22T09:03:27.694095Z",
     "iopub.status.idle": "2022-07-22T09:03:27.700663Z",
     "shell.execute_reply": "2022-07-22T09:03:27.699000Z"
    },
    "papermill": {
     "duration": 0.049539,
     "end_time": "2022-07-22T09:03:27.708499",
     "exception": false,
     "start_time": "2022-07-22T09:03:27.658960",
     "status": "completed"
    },
    "tags": []
   },
   "outputs": [],
   "source": [
    "# sanityChecks.discProbVsError(train_data,disc,device)\n",
    "# sanityChecks.discProbVsError(test_data,disc,device)"
   ]
  },
  {
   "cell_type": "markdown",
   "id": "0111166c",
   "metadata": {
    "papermill": {
     "duration": 0.035669,
     "end_time": "2022-07-22T09:03:27.772831",
     "exception": false,
     "start_time": "2022-07-22T09:03:27.737162",
     "status": "completed"
    },
    "tags": []
   },
   "source": [
    "# mGAN Model with TabNet Generator"
   ]
  },
  {
   "cell_type": "code",
   "execution_count": 15,
   "id": "250597f9",
   "metadata": {
    "execution": {
     "iopub.execute_input": "2022-07-22T09:03:27.860530Z",
     "iopub.status.busy": "2022-07-22T09:03:27.859870Z",
     "iopub.status.idle": "2022-07-22T09:03:27.881355Z",
     "shell.execute_reply": "2022-07-22T09:03:27.880291Z"
    },
    "papermill": {
     "duration": 0.062609,
     "end_time": "2022-07-22T09:03:27.884825",
     "exception": false,
     "start_time": "2022-07-22T09:03:27.822216",
     "status": "completed"
    },
    "tags": []
   },
   "outputs": [],
   "source": [
    "gen2 = network.GeneratorTabnet(n_features+1).to(device)\n",
    "disc2 = network.Discriminator(n_features+1).to(device)\n",
    "\n",
    "criterion = torch.nn.BCELoss()\n",
    "gen_opt = torch.optim.Adam(gen2.parameters(), lr=0.001, betas=(0.5, 0.999))\n",
    "disc_opt = torch.optim.Adam(disc2.parameters(), lr=0.001, betas=(0.5, 0.999))"
   ]
  },
  {
   "cell_type": "code",
   "execution_count": 16,
   "id": "4771784d",
   "metadata": {
    "execution": {
     "iopub.execute_input": "2022-07-22T09:03:27.959561Z",
     "iopub.status.busy": "2022-07-22T09:03:27.958813Z",
     "iopub.status.idle": "2022-07-22T09:06:23.581513Z",
     "shell.execute_reply": "2022-07-22T09:06:23.579562Z"
    },
    "papermill": {
     "duration": 175.667458,
     "end_time": "2022-07-22T09:06:23.584371",
     "exception": false,
     "start_time": "2022-07-22T09:03:27.916913",
     "status": "completed"
    },
    "tags": []
   },
   "outputs": [
    {
     "data": {
      "image/png": "[encoded data removed]",
      "text/plain": [
       "<Figure size 432x288 with 1 Axes>"
      ]
     },
     "metadata": {
      "needs_background": "light"
     },
     "output_type": "display_data"
    },
    {
     "data": {
      "image/png": "[encoded data removed]",
      "text/plain": [
       "<Figure size 432x288 with 1 Axes>"
      ]
     },
     "metadata": {
      "needs_background": "light"
     },
     "output_type": "display_data"
    }
   ],
   "source": [
    "#Training the ABC_GAN \n",
    "ABC_train_test2.training_GAN(disc2,gen2,disc_opt,gen_opt,train_data,batch_size,n_epochs,criterion,prior_model,variance,bias,device)"
   ]
  },
  {
   "cell_type": "code",
   "execution_count": 17,
   "id": "c5642ec6",
   "metadata": {
    "execution": {
     "iopub.execute_input": "2022-07-22T09:06:23.653874Z",
     "iopub.status.busy": "2022-07-22T09:06:23.653433Z",
     "iopub.status.idle": "2022-07-22T09:06:25.526594Z",
     "shell.execute_reply": "2022-07-22T09:06:25.525083Z"
    },
    "papermill": {
     "duration": 1.912785,
     "end_time": "2022-07-22T09:06:25.529354",
     "exception": false,
     "start_time": "2022-07-22T09:06:23.616569",
     "status": "completed"
    },
    "tags": []
   },
   "outputs": [
    {
     "data": {
      "application/scrapbook.scrap.json+json": {
       "data": 0.6831186413931296,
       "encoder": "json",
       "name": "ABC-GAN Model 1 MSE",
       "version": 1
      }
     },
     "metadata": {
      "scrapbook": {
       "data": true,
       "display": false,
       "name": "ABC-GAN Model 1 MSE"
      }
     },
     "output_type": "display_data"
    },
    {
     "data": {
      "application/scrapbook.scrap.json+json": {
       "data": 0.5726700539290905,
       "encoder": "json",
       "name": "ABC-GAN Model 1 MAE",
       "version": 1
      }
     },
     "metadata": {
      "scrapbook": {
       "data": true,
       "display": false,
       "name": "ABC-GAN Model 1 MAE"
      }
     },
     "output_type": "display_data"
    },
    {
     "data": {
      "application/scrapbook.scrap.json+json": {
       "data": 11.45340107858181,
       "encoder": "json",
       "name": "ABC-GAN Model 1 Manhattan Distance",
       "version": 1
      }
     },
     "metadata": {
      "scrapbook": {
       "data": true,
       "display": false,
       "name": "ABC-GAN Model 1 Manhattan Distance"
      }
     },
     "output_type": "display_data"
    },
    {
     "data": {
      "application/scrapbook.scrap.json+json": {
       "data": 3.6961452721779158,
       "encoder": "json",
       "name": "ABC-GAN Model 1 Euclidean distance",
       "version": 1
      }
     },
     "metadata": {
      "scrapbook": {
       "data": true,
       "display": false,
       "name": "ABC-GAN Model 1 Euclidean distance"
      }
     },
     "output_type": "display_data"
    },
    {
     "data": {
      "application/scrapbook.scrap.json+json": {
       "data": [
        [
         0.6813998569025992,
         0.6923797022938768,
         0.664940693369792,
         0.68311277912666,
         0.6802491192091912,
         0.6701174031268691,
         0.6827661782172415,
         0.691042193319379,
         0.6764171530001725,
         0.6778385192402686,
         0.6817158562763704,
         0.7065825293941005,
         0.6936875387777293,
         0.677063223820789,
         0.6656148197222135,
         0.6976091552404807,
         0.684670253987836,
         0.683275365658887,
         0.6765713351591012,
         0.6820840794907926,
         0.6605233913072458,
         0.6934333999901782,
         0.6753043845654556,
         0.6757107351941943,
         0.686819961866338,
         0.6560966766589786,
         0.6844916578216124,
         0.6895303637466016,
         0.6881739440170591,
         0.6891329443244013,
         0.7033778808459908,
         0.6870777224694748,
         0.6895298285397646,
         0.6860813854398854,
         0.6879588521101689,
         0.7057727001552949,
         0.6705310016609948,
         0.6861016264889015,
         0.6847904194778748,
         0.6674465326782364,
         0.6830026904630415,
         0.6962442675466127,
         0.6781760821229671,
         0.6995229125744783,
         0.6774241155615297,
         0.6859419734936606,
         0.7002436237627473,
         0.6892408328858443,
         0.6906166106938001,
         0.6907417507791893,
         0.6834742387569301,
         0.6761350624801272,
         0.6788856801358125,
         0.673379888860096,
         0.6896803578209216,
         0.6933823800293528,
         0.6591737778943308,
         0.6923555781267512,
         0.6775871915197155,
         0.696217211627306,
         0.6894307811427836,
         0.6725152077733558,
         0.6858407062290459,
         0.6607427622587914,
         0.6848985579027366,
         0.6880291583813319,
         0.6994662648359691,
         0.6658470060276777,
         0.6755645240040029,
         0.6663147978064169,
         0.7006431039512859,
         0.67895181289787,
         0.6831731656065541,
         0.6638021400739982,
         0.6895873981231585,
         0.6823061693362737,
         0.6659310001707563,
         0.6802128653794727,
         0.6770244304555141,
         0.6803433102606181,
         0.6937467940364458,
         0.6790966446496839,
         0.6974966767567061,
         0.6661021639841318,
         0.6676396667438911,
         0.683004248005218,
         0.6915117115120044,
         0.6955795213003466,
         0.6747012077296285,
         0.7052573329060927,
         0.668639505779306,
         0.6805515627298064,
         0.6739781658082331,
         0.685892607347732,
         0.6835569538577708,
         0.6901621795800952,
         0.6852437709648888,
         0.6942944449773375,
         0.692728308847348,
         0.6836061173504621
        ],
        [
         0.5729138411581516,
         0.5714649528264999,
         0.5688184112310409,
         0.5708144135773182,
         0.5701821431517601,
         0.566246647387743,
         0.5700931124389171,
         0.5720799878239632,
         0.5727386072278022,
         0.5755685836076736,
         0.5701556302607059,
         0.5820009797811508,
         0.5779476925730705,
         0.572577939927578,
         0.5698538884520531,
         0.5762118227779865,
         0.5772364675998688,
         0.5744670003652572,
         0.5672198593616485,
         0.5694083958864212,
         0.5640093371272087,
         0.5741852730512619,
         0.5745092928409576,
         0.5698290959000587,
         0.5753404691815376,
         0.5653113327920437,
         0.5760625176131725,
         0.5746792405843735,
         0.5778191059827804,
         0.5780749097466469,
         0.5808838114142418,
         0.5774940624833107,
         0.5728537485003471,
         0.5740436360239982,
         0.571542501449585,
         0.5795886918902398,
         0.568067979812622,
         0.5728691861033439,
         0.5694766223430634,
         0.5694864824414253,
         0.5716116666793823,
         0.5757838621735573,
         0.5681005083024502,
         0.5777095273137093,
         0.5692790523171425,
         0.5727137304842472,
         0.579889765381813,
         0.5740826487541199,
         0.5769531108438969,
         0.5733875401318074,
         0.569473022967577,
         0.569305095076561,
         0.5759949505329132,
         0.5663995869457722,
         0.5793228760361672,
         0.5746770150959492,
         0.5638785481452941,
         0.5692219406366348,
         0.5709349334239959,
         0.5785701259970665,
         0.5739400416612626,
         0.5725793614983559,
         0.5755864299833775,
         0.5650857754051686,
         0.5714023485779762,
         0.5765916489064693,
         0.5817693412303925,
         0.5642403900623322,
         0.5691057316958904,
         0.5707277283072472,
         0.5775162488222122,
         0.5692089311778545,
         0.5734234139323234,
         0.5670235201716423,
         0.5765718460083008,
         0.573726573586464,
         0.5693281158804894,
         0.5720319464802742,
         0.5705194167792798,
         0.5697478979825974,
         0.5724402353167534,
         0.5708718195557594,
         0.5780985422432423,
         0.5660230308771134,
         0.5700180158019066,
         0.5736795909702778,
         0.57757917791605,
         0.571112821996212,
         0.5715949900448323,
         0.5796678341925144,
         0.5683982104063035,
         0.5671452529728412,
         0.5693223223090171,
         0.5749365538358688,
         0.5713186033070088,
         0.5761469379067421,
         0.5698884069919586,
         0.5762114956974983,
         0.5760905757546425,
         0.5749170847237111
        ],
        [
         11.458276823163033,
         11.429299056529999,
         11.376368224620819,
         11.416288271546364,
         11.403642863035202,
         11.32493294775486,
         11.401862248778343,
         11.441599756479263,
         11.454772144556046,
         11.511371672153473,
         11.403112605214119,
         11.640019595623016,
         11.55895385146141,
         11.45155879855156,
         11.397077769041061,
         11.52423645555973,
         11.544729351997375,
         11.489340007305145,
         11.344397187232971,
         11.388167917728424,
         11.280186742544174,
         11.483705461025238,
         11.490185856819153,
         11.396581918001175,
         11.506809383630753,
         11.306226655840874,
         11.52125035226345,
         11.49358481168747,
         11.55638211965561,
         11.561498194932938,
         11.617676228284836,
         11.549881249666214,
         11.457074970006943,
         11.480872720479965,
         11.4308500289917,
         11.591773837804794,
         11.361359596252441,
         11.45738372206688,
         11.389532446861267,
         11.389729648828506,
         11.432233333587646,
         11.515677243471146,
         11.362010166049004,
         11.554190546274185,
         11.38558104634285,
         11.454274609684944,
         11.597795307636261,
         11.481652975082397,
         11.539062216877937,
         11.467750802636147,
         11.38946045935154,
         11.38610190153122,
         11.519899010658264,
         11.327991738915443,
         11.586457520723343,
         11.493540301918983,
         11.277570962905884,
         11.384438812732697,
         11.41869866847992,
         11.57140251994133,
         11.47880083322525,
         11.451587229967117,
         11.51172859966755,
         11.30171550810337,
         11.428046971559525,
         11.531832978129387,
         11.63538682460785,
         11.284807801246643,
         11.382114633917809,
         11.414554566144943,
         11.550324976444244,
         11.38417862355709,
         11.46846827864647,
         11.340470403432846,
         11.531436920166016,
         11.474531471729279,
         11.386562317609787,
         11.440638929605484,
         11.410388335585594,
         11.394957959651947,
         11.448804706335068,
         11.417436391115189,
         11.561970844864845,
         11.320460617542267,
         11.400360316038132,
         11.473591819405556,
         11.551583558321,
         11.42225643992424,
         11.431899800896645,
         11.593356683850288,
         11.367964208126068,
         11.342905059456825,
         11.386446446180344,
         11.498731076717377,
         11.426372066140175,
         11.522938758134842,
         11.397768139839172,
         11.524229913949966,
         11.52181151509285,
         11.49834169447422
        ],
        [
         3.6916117263401342,
         3.7212355536672943,
         3.646753880836468,
         3.696248852895757,
         3.688493240360327,
         3.660921750398031,
         3.695311024033678,
         3.717639555737966,
         3.6780895937977705,
         3.6819519802416445,
         3.6924676201054774,
         3.7592087715212106,
         3.7247484177531485,
         3.679845713670042,
         3.648601978079312,
         3.7352621199602063,
         3.70046011730389,
         3.696688695735379,
         3.678508760786363,
         3.693464713492719,
         3.634620726588252,
         3.724066057389901,
         3.6750629506593637,
         3.676168481433337,
         3.706264863353233,
         3.622420949196762,
         3.69997745350323,
         3.713570690714266,
         3.709916290206719,
         3.7125003550825455,
         3.7506742883006803,
         3.706960270813473,
         3.7135692494950585,
         3.704271549009023,
         3.709336469262849,
         3.757053899414526,
         3.6620513422424725,
         3.7043261910606673,
         3.7007848342692786,
         3.653618843498146,
         3.695951002010285,
         3.73160626954831,
         3.6828686702704108,
         3.7403820996643597,
         3.680826308212681,
         3.7038951753354485,
         3.742308442025449,
         3.7127909526011402,
         3.7164946137289103,
         3.716831313845678,
         3.6972266329153536,
         3.6773225653459534,
         3.684794920035069,
         3.6698225811613727,
         3.7139745767059895,
         3.723929054182834,
         3.630905611261,
         3.7211707247229358,
         3.681269323262604,
         3.7315337640903263,
         3.713302522399121,
         3.6674656311228215,
         3.7036217577637323,
         3.6352242358863953,
         3.7010770267659563,
         3.7095260030934734,
         3.740230647529559,
         3.6492382931994936,
         3.6757707327960567,
         3.6505199569552196,
         3.743375759795658,
         3.6849743904072656,
         3.696412221618563,
         3.6436304424955015,
         3.713724271195045,
         3.6940659694604094,
         3.6494684549143765,
         3.6883949500547595,
         3.6797402909866186,
         3.6887485960976467,
         3.7249074996204827,
         3.685367402714915,
         3.7349609817418603,
         3.649937435036748,
         3.6541474155920173,
         3.695955216193015,
         3.7189022883426346,
         3.7298244497572446,
         3.6734213146047607,
         3.7556819165261923,
         3.656882567923958,
         3.6893131141983773,
         3.6714524804448527,
         3.703761891233647,
         3.6974503481663437,
         3.7152716713050613,
         3.7020096460298118,
         3.726377449956828,
         3.722172239022122,
         3.697583311706342
        ]
       ],
       "encoder": "json",
       "name": "ABC_GAN_2 Metrics",
       "version": 1
      }
     },
     "metadata": {
      "scrapbook": {
       "data": true,
       "display": false,
       "name": "ABC_GAN_2 Metrics"
      }
     },
     "output_type": "display_data"
    },
    {
     "name": "stdout",
     "output_type": "stream",
     "text": [
      "MAE\n",
      "0.5726700539290905\n"
     ]
    }
   ],
   "source": [
    "ABC_GAN2_metrics=ABC_train_test2.test_generator(gen2,test_data,prior_model,variance,bias,\"1\",device)\n",
    "sb.glue(\"ABC_GAN_2 Metrics\",ABC_GAN2_metrics)\n",
    "\n",
    "print(\"MAE\")\n",
    "print(mean(ABC_GAN2_metrics[1]))"
   ]
  },
  {
   "cell_type": "code",
   "execution_count": 18,
   "id": "a8d3fd57",
   "metadata": {
    "execution": {
     "iopub.execute_input": "2022-07-22T09:06:25.599996Z",
     "iopub.status.busy": "2022-07-22T09:06:25.599475Z",
     "iopub.status.idle": "2022-07-22T09:06:26.526610Z",
     "shell.execute_reply": "2022-07-22T09:06:26.525433Z"
    },
    "papermill": {
     "duration": 0.966857,
     "end_time": "2022-07-22T09:06:26.529568",
     "exception": false,
     "start_time": "2022-07-22T09:06:25.562711",
     "status": "completed"
    },
    "tags": []
   },
   "outputs": [
    {
     "data": {
      "image/png": "[encoded data removed]",
      "text/plain": [
       "<Figure size 432x288 with 1 Axes>"
      ]
     },
     "metadata": {
      "needs_background": "light"
     },
     "output_type": "display_data"
    },
    {
     "data": {
      "image/png": "[encoded data removed]",
      "text/plain": [
       "<Figure size 432x288 with 1 Axes>"
      ]
     },
     "metadata": {
      "needs_background": "light"
     },
     "output_type": "display_data"
    },
    {
     "data": {
      "image/png": "[encoded data removed]",
      "text/plain": [
       "<Figure size 432x288 with 1 Axes>"
      ]
     },
     "metadata": {
      "needs_background": "light"
     },
     "output_type": "display_data"
    },
    {
     "data": {
      "image/png": "[encoded data removed]",
      "text/plain": [
       "<Figure size 432x288 with 1 Axes>"
      ]
     },
     "metadata": {
      "needs_background": "light"
     },
     "output_type": "display_data"
    }
   ],
   "source": [
    "sanityChecks.discProbVsError(train_data,disc2,device)\n",
    "sanityChecks.discProbVsError(test_data,disc2,device)"
   ]
  },
  {
   "cell_type": "markdown",
   "id": "130f3a4d",
   "metadata": {
    "id": "130f3a4d",
    "papermill": {
     "duration": 0.038156,
     "end_time": "2022-07-22T09:06:26.603342",
     "exception": false,
     "start_time": "2022-07-22T09:06:26.565186",
     "status": "completed"
    },
    "tags": []
   },
   "source": [
    "# skipGAN Model"
   ]
  },
  {
   "cell_type": "code",
   "execution_count": 19,
   "id": "4e43dad1",
   "metadata": {
    "execution": {
     "iopub.execute_input": "2022-07-22T09:06:26.683554Z",
     "iopub.status.busy": "2022-07-22T09:06:26.683140Z",
     "iopub.status.idle": "2022-07-22T09:06:26.688510Z",
     "shell.execute_reply": "2022-07-22T09:06:26.686950Z"
    },
    "id": "4e43dad1",
    "papermill": {
     "duration": 0.049475,
     "end_time": "2022-07-22T09:06:26.691652",
     "exception": false,
     "start_time": "2022-07-22T09:06:26.642177",
     "status": "completed"
    },
    "tags": []
   },
   "outputs": [],
   "source": [
    "# #Generator\n",
    "# gen3 = network.GeneratorWithSkipConnection(n_features+1).to(device)\n",
    "# constraints=network.weightConstraint()\n",
    "# #Discriminator \n",
    "# disc3 = network.Discriminator(n_features+1).to(device)\n",
    "\n",
    "# criterion = torch.nn.BCELoss()\n",
    "# gen_opt = torch.optim.Adam(gen3.parameters(), lr=0.01, betas=(0.5, 0.999))\n",
    "# disc_opt = torch.optim.Adam(disc3.parameters(), lr=0.01, betas=(0.5, 0.999))\n"
   ]
  },
  {
   "cell_type": "code",
   "execution_count": 20,
   "id": "26acbc37",
   "metadata": {
    "execution": {
     "iopub.execute_input": "2022-07-22T09:06:26.770533Z",
     "iopub.status.busy": "2022-07-22T09:06:26.769657Z",
     "iopub.status.idle": "2022-07-22T09:06:26.774644Z",
     "shell.execute_reply": "2022-07-22T09:06:26.773403Z"
    },
    "id": "26acbc37",
    "papermill": {
     "duration": 0.050738,
     "end_time": "2022-07-22T09:06:26.780106",
     "exception": false,
     "start_time": "2022-07-22T09:06:26.729368",
     "status": "completed"
    },
    "tags": []
   },
   "outputs": [],
   "source": [
    "# ABC_train_test2.training_GAN_skip_connection(disc3,gen3,disc_opt,gen_opt,train_data,batch_size,n_epochs,criterion,prior_model,variance,bias,device)"
   ]
  },
  {
   "cell_type": "code",
   "execution_count": 21,
   "id": "c5e0717b",
   "metadata": {
    "execution": {
     "iopub.execute_input": "2022-07-22T09:06:26.855584Z",
     "iopub.status.busy": "2022-07-22T09:06:26.854888Z",
     "iopub.status.idle": "2022-07-22T09:06:26.859638Z",
     "shell.execute_reply": "2022-07-22T09:06:26.858169Z"
    },
    "id": "c5e0717b",
    "papermill": {
     "duration": 0.049141,
     "end_time": "2022-07-22T09:06:26.863987",
     "exception": false,
     "start_time": "2022-07-22T09:06:26.814846",
     "status": "completed"
    },
    "tags": []
   },
   "outputs": [],
   "source": [
    "# ABC_GAN3_metrics=ABC_train_test2.test_generator(gen3,test_data,prior_model,variance,bias,\"3\",device)\n",
    "# sb.glue(\"ABC_GAN_3 Metrics\",ABC_GAN3_metrics)\n",
    "\n",
    "# print(\"MAE\")\n",
    "# print(mean(ABC_GAN3_metrics[1]))"
   ]
  },
  {
   "cell_type": "code",
   "execution_count": 22,
   "id": "c8e46b48",
   "metadata": {
    "execution": {
     "iopub.execute_input": "2022-07-22T09:06:26.943637Z",
     "iopub.status.busy": "2022-07-22T09:06:26.942879Z",
     "iopub.status.idle": "2022-07-22T09:06:26.947790Z",
     "shell.execute_reply": "2022-07-22T09:06:26.946700Z"
    },
    "id": "c8e46b48",
    "papermill": {
     "duration": 0.051697,
     "end_time": "2022-07-22T09:06:26.951899",
     "exception": false,
     "start_time": "2022-07-22T09:06:26.900202",
     "status": "completed"
    },
    "tags": []
   },
   "outputs": [],
   "source": [
    "# sanityChecks.discProbVsError(train_data,disc3,device)\n",
    "# sanityChecks.discProbVsError(test_data,disc3,device)"
   ]
  },
  {
   "cell_type": "markdown",
   "id": "c382c569",
   "metadata": {
    "id": "130f3a4d",
    "papermill": {
     "duration": 0.034874,
     "end_time": "2022-07-22T09:06:27.022517",
     "exception": false,
     "start_time": "2022-07-22T09:06:26.987643",
     "status": "completed"
    },
    "tags": []
   },
   "source": [
    "# skipGAN Model with TabNet Generator"
   ]
  },
  {
   "cell_type": "code",
   "execution_count": 23,
   "id": "d966eea8",
   "metadata": {
    "execution": {
     "iopub.execute_input": "2022-07-22T09:06:27.101610Z",
     "iopub.status.busy": "2022-07-22T09:06:27.100568Z",
     "iopub.status.idle": "2022-07-22T09:06:27.131056Z",
     "shell.execute_reply": "2022-07-22T09:06:27.129953Z"
    },
    "id": "4e43dad1",
    "papermill": {
     "duration": 0.075418,
     "end_time": "2022-07-22T09:06:27.134307",
     "exception": false,
     "start_time": "2022-07-22T09:06:27.058889",
     "status": "completed"
    },
    "tags": []
   },
   "outputs": [],
   "source": [
    "#Generator\n",
    "gen4 = network.GeneratorTabnetskipConnection(n_features+1).to(device)\n",
    "constraints=network.weightConstraint()\n",
    "#Discriminator \n",
    "disc4 = network.Discriminator(n_features+1).to(device)\n",
    "\n",
    "criterion = torch.nn.BCELoss()\n",
    "gen_opt = torch.optim.Adam(gen4.parameters(), lr=0.001, betas=(0.5, 0.999))\n",
    "disc_opt = torch.optim.Adam(disc4.parameters(), lr=0.001, betas=(0.5, 0.999))\n"
   ]
  },
  {
   "cell_type": "code",
   "execution_count": 24,
   "id": "c54ce420",
   "metadata": {
    "execution": {
     "iopub.execute_input": "2022-07-22T09:06:27.212822Z",
     "iopub.status.busy": "2022-07-22T09:06:27.212253Z",
     "iopub.status.idle": "2022-07-22T09:09:52.525613Z",
     "shell.execute_reply": "2022-07-22T09:09:52.523851Z"
    },
    "id": "26acbc37",
    "papermill": {
     "duration": 205.35547,
     "end_time": "2022-07-22T09:09:52.529313",
     "exception": false,
     "start_time": "2022-07-22T09:06:27.173843",
     "status": "completed"
    },
    "tags": []
   },
   "outputs": [
    {
     "data": {
      "image/png": "[encoded data removed]",
      "text/plain": [
       "<Figure size 432x288 with 1 Axes>"
      ]
     },
     "metadata": {
      "needs_background": "light"
     },
     "output_type": "display_data"
    },
    {
     "data": {
      "image/png": "[encoded data removed]",
      "text/plain": [
       "<Figure size 432x288 with 1 Axes>"
      ]
     },
     "metadata": {
      "needs_background": "light"
     },
     "output_type": "display_data"
    }
   ],
   "source": [
    "ABC_train_test2.training_GAN_skip_connection(disc4,gen4,disc_opt,gen_opt,train_data,batch_size,n_epochs,criterion,prior_model,variance,bias,device)"
   ]
  },
  {
   "cell_type": "code",
   "execution_count": 25,
   "id": "9c9ea455",
   "metadata": {
    "execution": {
     "iopub.execute_input": "2022-07-22T09:09:52.609914Z",
     "iopub.status.busy": "2022-07-22T09:09:52.609381Z",
     "iopub.status.idle": "2022-07-22T09:09:54.586269Z",
     "shell.execute_reply": "2022-07-22T09:09:54.585041Z"
    },
    "id": "c5e0717b",
    "papermill": {
     "duration": 2.020921,
     "end_time": "2022-07-22T09:09:54.590254",
     "exception": false,
     "start_time": "2022-07-22T09:09:52.569333",
     "status": "completed"
    },
    "tags": []
   },
   "outputs": [
    {
     "data": {
      "application/scrapbook.scrap.json+json": {
       "data": 0.5216809261752179,
       "encoder": "json",
       "name": "ABC-GAN Model 3 MSE",
       "version": 1
      }
     },
     "metadata": {
      "scrapbook": {
       "data": true,
       "display": false,
       "name": "ABC-GAN Model 3 MSE"
      }
     },
     "output_type": "display_data"
    },
    {
     "data": {
      "application/scrapbook.scrap.json+json": {
       "data": 0.5159903208762407,
       "encoder": "json",
       "name": "ABC-GAN Model 3 MAE",
       "version": 1
      }
     },
     "metadata": {
      "scrapbook": {
       "data": true,
       "display": false,
       "name": "ABC-GAN Model 3 MAE"
      }
     },
     "output_type": "display_data"
    },
    {
     "data": {
      "application/scrapbook.scrap.json+json": {
       "data": 10.319806417524815,
       "encoder": "json",
       "name": "ABC-GAN Model 3 Manhattan Distance",
       "version": 1
      }
     },
     "metadata": {
      "scrapbook": {
       "data": true,
       "display": false,
       "name": "ABC-GAN Model 3 Manhattan Distance"
      }
     },
     "output_type": "display_data"
    },
    {
     "data": {
      "application/scrapbook.scrap.json+json": {
       "data": 3.230054715679221,
       "encoder": "json",
       "name": "ABC-GAN Model 3 Euclidean distance",
       "version": 1
      }
     },
     "metadata": {
      "scrapbook": {
       "data": true,
       "display": false,
       "name": "ABC-GAN Model 3 Euclidean distance"
      }
     },
     "output_type": "display_data"
    },
    {
     "data": {
      "application/scrapbook.scrap.json+json": {
       "data": [
        [
         0.511305209002745,
         0.5208742279955803,
         0.5212245099165178,
         0.5208229365599063,
         0.525884111835625,
         0.5202990822876362,
         0.525007665879315,
         0.5228899425511566,
         0.5134064878861639,
         0.5110625470645485,
         0.5379189325389595,
         0.5203708542231423,
         0.5263940325863887,
         0.5165623949026483,
         0.5144451194497146,
         0.5328287336710378,
         0.514296946275306,
         0.5214194546323394,
         0.5256743643379792,
         0.5151647557889626,
         0.5301147645761619,
         0.5161794948226474,
         0.5175121750337093,
         0.5300536587235307,
         0.5230182176683297,
         0.5180226884980015,
         0.5304817196630756,
         0.5108682691911977,
         0.5195370498338029,
         0.5342739892193584,
         0.5284664486789137,
         0.5199235939730519,
         0.5328607877717987,
         0.5235214799814131,
         0.5378186947031972,
         0.5199996129529681,
         0.5124188827211549,
         0.5177251714362211,
         0.5306062916607303,
         0.5188635637414565,
         0.5253493052709395,
         0.5209221227497786,
         0.5223369068123741,
         0.5195647700620254,
         0.5182816854771927,
         0.5353801266731567,
         0.5249749869981863,
         0.529145192291547,
         0.5245030663453709,
         0.5093432058338025,
         0.5179890402687302,
         0.5193564780303473,
         0.5199608071944265,
         0.5144351328802913,
         0.5171663304315711,
         0.53376817358966,
         0.5149295898503039,
         0.5158883975089141,
         0.5230078466364008,
         0.5235656648083491,
         0.5203262006904561,
         0.5170439416485525,
         0.5229518805997359,
         0.5172094844315127,
         0.5175257566055556,
         0.5203267222237002,
         0.5262079038269102,
         0.5259581244759536,
         0.5150603890959953,
         0.5187990007713414,
         0.533112583040978,
         0.5226364449994895,
         0.524629232070873,
         0.5159935809315332,
         0.5288349721705571,
         0.520416705508824,
         0.5173637521557496,
         0.526937108332326,
         0.5186848463457521,
         0.5193510750759739,
         0.5260827275098677,
         0.5218601375571714,
         0.5151355717326307,
         0.5204275082764912,
         0.5130334674191395,
         0.5278472997404389,
         0.5274165966125269,
         0.5125986581423916,
         0.5267280862044813,
         0.5190063720822782,
         0.5247937772740479,
         0.5172885443919141,
         0.5237388299997793,
         0.5188839304085489,
         0.5155851284545954,
         0.5242998307282623,
         0.5208006224850263,
         0.5248563136844493,
         0.5138173373586999,
         0.5245344785075178
        ],
        [
         0.5114596761763096,
         0.5206893779337406,
         0.5106857068836689,
         0.51778244972229,
         0.5155938565731049,
         0.5158858105540276,
         0.5155260883271694,
         0.5105727382004261,
         0.5164296306669712,
         0.5153554797172546,
         0.5213706940412521,
         0.5165581397712231,
         0.518218894302845,
         0.5072097219526768,
         0.5169780492782593,
         0.5148231916129589,
         0.513293320685625,
         0.5125546880066395,
         0.5157934576272964,
         0.5157908439636231,
         0.5151181697845459,
         0.5193762421607971,
         0.5078258365392685,
         0.518623810261488,
         0.5122261747717858,
         0.5176506035029889,
         0.5145534187555313,
         0.514996262639761,
         0.519920789450407,
         0.5176252320408821,
         0.5178069204092026,
         0.5087091729044915,
         0.5192407317459583,
         0.5209042385220528,
         0.5208870343863964,
         0.5190748050808907,
         0.5133533865213394,
         0.51291798427701,
         0.5163140386343003,
         0.5176960401237011,
         0.5144069164991378,
         0.516809344291687,
         0.5128128200769424,
         0.5194261476397515,
         0.5194939643144607,
         0.5209001451730728,
         0.5232758618891239,
         0.5179900690913201,
         0.5153400354087353,
         0.513841338455677,
         0.5117066681385041,
         0.5155951075255871,
         0.5196101322770119,
         0.5132192365825177,
         0.5134726010262967,
         0.517437445372343,
         0.5175384402275085,
         0.5167639307677746,
         0.5162535749375821,
         0.5201701059937477,
         0.5128626465797425,
         0.5215332873165608,
         0.5177015759050846,
         0.5077207788825036,
         0.5150126330554485,
         0.5201785132288933,
         0.5139583013951778,
         0.5150098443031311,
         0.516627686470747,
         0.5180505469441414,
         0.5220674887299538,
         0.5110354594886303,
         0.517026212066412,
         0.5080097682774067,
         0.518813819438219,
         0.5162194922566414,
         0.5195535473525524,
         0.5224685557186604,
         0.5157391965389252,
         0.5153785794973373,
         0.5212491512298584,
         0.5116251118481159,
         0.5157093688845634,
         0.5084973722696304,
         0.5144045010209084,
         0.5141593679785729,
         0.5237084276974201,
         0.5138857573270798,
         0.5181766822934151,
         0.5155996367335319,
         0.520520531386137,
         0.5095009334385395,
         0.5217883430421353,
         0.5139619000256062,
         0.5055028453469277,
         0.5173758000135422,
         0.5121457688510418,
         0.5200133547186852,
         0.5167192585766316,
         0.5160634472966195
        ],
        [
         10.229193523526192,
         10.413787558674812,
         10.213714137673378,
         10.3556489944458,
         10.311877131462097,
         10.317716211080551,
         10.310521766543388,
         10.211454764008522,
         10.328592613339424,
         10.307109594345093,
         10.427413880825043,
         10.331162795424461,
         10.3643778860569,
         10.144194439053535,
         10.339560985565186,
         10.296463832259178,
         10.265866413712502,
         10.25109376013279,
         10.315869152545929,
         10.315816879272461,
         10.302363395690918,
         10.387524843215942,
         10.15651673078537,
         10.37247620522976,
         10.244523495435715,
         10.353012070059776,
         10.291068375110626,
         10.29992525279522,
         10.39841578900814,
         10.352504640817642,
         10.356138408184052,
         10.174183458089828,
         10.384814634919167,
         10.418084770441055,
         10.417740687727928,
         10.381496101617813,
         10.267067730426788,
         10.2583596855402,
         10.326280772686005,
         10.353920802474022,
         10.288138329982758,
         10.33618688583374,
         10.256256401538849,
         10.388522952795029,
         10.389879286289215,
         10.418002903461456,
         10.465517237782478,
         10.3598013818264,
         10.306800708174706,
         10.27682676911354,
         10.23413336277008,
         10.311902150511742,
         10.392202645540237,
         10.264384731650352,
         10.269452020525932,
         10.348748907446861,
         10.350768804550171,
         10.335278615355492,
         10.32507149875164,
         10.403402119874954,
         10.257252931594849,
         10.430665746331215,
         10.354031518101692,
         10.15441557765007,
         10.30025266110897,
         10.403570264577866,
         10.279166027903557,
         10.300196886062622,
         10.33255372941494,
         10.361010938882828,
         10.441349774599075,
         10.220709189772606,
         10.34052424132824,
         10.160195365548134,
         10.376276388764381,
         10.324389845132828,
         10.391070947051048,
         10.449371114373207,
         10.314783930778503,
         10.307571589946747,
         10.424983024597168,
         10.232502236962318,
         10.314187377691269,
         10.169947445392609,
         10.288090020418167,
         10.283187359571457,
         10.474168553948402,
         10.277715146541595,
         10.363533645868301,
         10.311992734670639,
         10.41041062772274,
         10.19001866877079,
         10.435766860842705,
         10.279238000512123,
         10.110056906938553,
         10.347516000270844,
         10.242915377020836,
         10.400267094373703,
         10.334385171532631,
         10.321268945932388
        ],
        [
         3.197828041038933,
         3.2276128268290805,
         3.2286979106646627,
         3.227453908454484,
         3.243097629845963,
         3.22583038080937,
         3.240394006534745,
         3.233852014397556,
         3.2043922602770216,
         3.1970691173778163,
         3.2799967455439933,
         3.2260528644867006,
         3.2446695751228307,
         3.214225862949424,
         3.207631897365141,
         3.2644409434726733,
         3.2071699246385617,
         3.229301641631947,
         3.242450814855883,
         3.2098746261776725,
         3.2561165967334826,
         3.21303437523674,
         3.2171794324647465,
         3.2559289265078584,
         3.2342486536082213,
         3.218765876847838,
         3.2572433733544552,
         3.196461384691508,
         3.2234672321393405,
         3.268865213554571,
         3.2510504415616612,
         3.2246661655838174,
         3.264539133696512,
         3.235804320355027,
         3.2796911278448078,
         3.2249018991373,
         3.2013087408781895,
         3.2178414238001882,
         3.2576257969899807,
         3.2213772326179266,
         3.2414481494262386,
         3.2277612140608496,
         3.232141416498895,
         3.223553226059794,
         3.2195704231378217,
         3.2722473215609997,
         3.2402931564850306,
         3.253137538720264,
         3.238836415583136,
         3.191686719694784,
         3.218661337477835,
         3.2229070046476593,
         3.2247815652984206,
         3.207600763437655,
         3.216104259602201,
         3.2673174733706545,
         3.209141909764365,
         3.212128258674968,
         3.2342165871703794,
         3.2359408672234693,
         3.2259144461391287,
         3.2157236872858106,
         3.2340435389763567,
         3.216238437776381,
         3.2172216479613445,
         3.225916062837656,
         3.244095879677141,
         3.2433258377041105,
         3.209549467124616,
         3.2211768059867234,
         3.2653103467847524,
         3.2330680320695064,
         3.2392259324439627,
         3.212455699092311,
         3.2521837960685955,
         3.2261949894847457,
         3.216718054650577,
         3.246342891107857,
         3.220822399157557,
         3.222890240377335,
         3.2437099978569837,
         3.230665991888271,
         3.2097837052755778,
         3.226228473857644,
         3.2032279576050766,
         3.2491454253093655,
         3.2478195658396016,
         3.2018702601523112,
         3.2456989577115163,
         3.221820516671524,
         3.2397338695456077,
         3.2164842433685696,
         3.236475953872605,
         3.2214404554750002,
         3.211183982441976,
         3.238208859009135,
         3.2273847693915463,
         3.239926893263023,
         3.2056741486267755,
         3.23893340007947
        ]
       ],
       "encoder": "json",
       "name": "ABC_GAN_4 Metrics",
       "version": 1
      }
     },
     "metadata": {
      "scrapbook": {
       "data": true,
       "display": false,
       "name": "ABC_GAN_4 Metrics"
      }
     },
     "output_type": "display_data"
    },
    {
     "name": "stdout",
     "output_type": "stream",
     "text": [
      "MAE\n",
      "0.5159903208762407\n"
     ]
    }
   ],
   "source": [
    "ABC_GAN4_metrics=ABC_train_test2.test_generator(gen4,test_data,prior_model,variance,bias,\"3\",device)\n",
    "sb.glue(\"ABC_GAN_4 Metrics\",ABC_GAN4_metrics)\n",
    "\n",
    "print(\"MAE\")\n",
    "print(mean(ABC_GAN4_metrics[1]))"
   ]
  },
  {
   "cell_type": "code",
   "execution_count": 26,
   "id": "e586ff97",
   "metadata": {
    "execution": {
     "iopub.execute_input": "2022-07-22T09:09:54.674328Z",
     "iopub.status.busy": "2022-07-22T09:09:54.673485Z",
     "iopub.status.idle": "2022-07-22T09:09:55.776598Z",
     "shell.execute_reply": "2022-07-22T09:09:55.775226Z"
    },
    "id": "c8e46b48",
    "papermill": {
     "duration": 1.150389,
     "end_time": "2022-07-22T09:09:55.780099",
     "exception": false,
     "start_time": "2022-07-22T09:09:54.629710",
     "status": "completed"
    },
    "tags": []
   },
   "outputs": [
    {
     "data": {
      "image/png": "[encoded data removed]",
      "text/plain": [
       "<Figure size 432x288 with 1 Axes>"
      ]
     },
     "metadata": {
      "needs_background": "light"
     },
     "output_type": "display_data"
    },
    {
     "data": {
      "image/png": "[encoded data removed]",
      "text/plain": [
       "<Figure size 432x288 with 1 Axes>"
      ]
     },
     "metadata": {
      "needs_background": "light"
     },
     "output_type": "display_data"
    },
    {
     "data": {
      "image/png": "[encoded data removed]",
      "text/plain": [
       "<Figure size 432x288 with 1 Axes>"
      ]
     },
     "metadata": {
      "needs_background": "light"
     },
     "output_type": "display_data"
    },
    {
     "data": {
      "image/png": "[encoded data removed]",
      "text/plain": [
       "<Figure size 432x288 with 1 Axes>"
      ]
     },
     "metadata": {
      "needs_background": "light"
     },
     "output_type": "display_data"
    }
   ],
   "source": [
    "sanityChecks.discProbVsError(train_data,disc4,device)\n",
    "sanityChecks.discProbVsError(test_data,disc4,device)"
   ]
  },
  {
   "cell_type": "markdown",
   "id": "a5bd74c3",
   "metadata": {
    "id": "a5bd74c3",
    "papermill": {
     "duration": 0.041586,
     "end_time": "2022-07-22T09:09:55.865937",
     "exception": false,
     "start_time": "2022-07-22T09:09:55.824351",
     "status": "completed"
    },
    "tags": []
   },
   "source": [
    "## Skip Connection Model Analysis - ABC-GAN "
   ]
  },
  {
   "cell_type": "markdown",
   "id": "5744a8bf",
   "metadata": {
    "id": "5744a8bf",
    "papermill": {
     "duration": 0.042685,
     "end_time": "2022-07-22T09:09:55.950050",
     "exception": false,
     "start_time": "2022-07-22T09:09:55.907365",
     "status": "completed"
    },
    "tags": []
   },
   "source": [
    "### Weight Analysis \n",
    "\n",
    "Study the weights of the skip connection layer\n",
    "\n",
    "Equation of the skip connection is \n",
    "\n",
    "$output = y_{gan} * w + y_{abc} * (1-w)$"
   ]
  },
  {
   "cell_type": "code",
   "execution_count": 27,
   "id": "52c31dea",
   "metadata": {
    "execution": {
     "iopub.execute_input": "2022-07-22T09:09:56.038277Z",
     "iopub.status.busy": "2022-07-22T09:09:56.037892Z",
     "iopub.status.idle": "2022-07-22T09:09:56.042616Z",
     "shell.execute_reply": "2022-07-22T09:09:56.041268Z"
    },
    "id": "52c31dea",
    "papermill": {
     "duration": 0.052407,
     "end_time": "2022-07-22T09:09:56.046421",
     "exception": false,
     "start_time": "2022-07-22T09:09:55.994014",
     "status": "completed"
    },
    "tags": []
   },
   "outputs": [],
   "source": [
    "# print(\"Weight of the node at skip connection\")\n",
    "# for name,param in gen3.named_parameters():\n",
    "#     if(name == \"skipNode.weight\"):\n",
    "#         print(param)\n",
    "#         sb.glue(\"Skip Connection Weight\",param.item())"
   ]
  },
  {
   "cell_type": "markdown",
   "id": "e078fae1",
   "metadata": {
    "id": "a5bd74c3",
    "papermill": {
     "duration": 0.048772,
     "end_time": "2022-07-22T09:09:56.138322",
     "exception": false,
     "start_time": "2022-07-22T09:09:56.089550",
     "status": "completed"
    },
    "tags": []
   },
   "source": [
    "## skipGAN Model Analysis (TabNet Generator) "
   ]
  },
  {
   "cell_type": "markdown",
   "id": "17305e1e",
   "metadata": {
    "id": "5744a8bf",
    "papermill": {
     "duration": 0.058336,
     "end_time": "2022-07-22T09:09:56.236716",
     "exception": false,
     "start_time": "2022-07-22T09:09:56.178380",
     "status": "completed"
    },
    "tags": []
   },
   "source": [
    "### Weight Analysis \n",
    "\n",
    "Study the weights of the skip connection layer\n",
    "\n",
    "Equation of the skip connection is \n",
    "\n",
    "$output = y_{gan} * w + y_{abc} * (1-w)$"
   ]
  },
  {
   "cell_type": "code",
   "execution_count": 28,
   "id": "4e254bb1",
   "metadata": {
    "execution": {
     "iopub.execute_input": "2022-07-22T09:09:56.338391Z",
     "iopub.status.busy": "2022-07-22T09:09:56.337812Z",
     "iopub.status.idle": "2022-07-22T09:09:56.359981Z",
     "shell.execute_reply": "2022-07-22T09:09:56.358692Z"
    },
    "id": "52c31dea",
    "papermill": {
     "duration": 0.071562,
     "end_time": "2022-07-22T09:09:56.363713",
     "exception": false,
     "start_time": "2022-07-22T09:09:56.292151",
     "status": "completed"
    },
    "tags": []
   },
   "outputs": [
    {
     "name": "stdout",
     "output_type": "stream",
     "text": [
      "Weight of the node at skip connection\n",
      "Parameter containing:\n",
      "tensor([[0.1045]], requires_grad=True)\n"
     ]
    },
    {
     "data": {
      "application/scrapbook.scrap.json+json": {
       "data": 0.10452862828969955,
       "encoder": "json",
       "name": "Skip Connection Weight",
       "version": 1
      }
     },
     "metadata": {
      "scrapbook": {
       "data": true,
       "display": false,
       "name": "Skip Connection Weight"
      }
     },
     "output_type": "display_data"
    }
   ],
   "source": [
    "print(\"Weight of the node at skip connection\")\n",
    "for name,param in gen4.named_parameters():\n",
    "    if(name == \"skipNode.weight\"):\n",
    "        print(param)\n",
    "        sb.glue(\"Skip Connection Weight\",param.item())"
   ]
  }
 ],
 "metadata": {
  "colab": {
   "collapsed_sections": [],
   "name": "ABC_GAN_Model-Catboost_Pre-gen.ipynb",
   "provenance": []
  },
  "interpreter": {
   "hash": "31f2aee4e71d21fbe5cf8b01ff0e069b9275f58929596ceb00d14d90e3e16cd6"
  },
  "kernelspec": {
   "display_name": "Python 3 (ipykernel)",
   "language": "python",
   "name": "python3"
  },
  "language_info": {
   "codemirror_mode": {
    "name": "ipython",
    "version": 3
   },
   "file_extension": ".py",
   "mimetype": "text/x-python",
   "name": "python",
   "nbconvert_exporter": "python",
   "pygments_lexer": "ipython3",
   "version": "3.8.9"
  },
  "papermill": {
   "default_parameters": {},
   "duration": 490.109154,
   "end_time": "2022-07-22T09:09:57.176473",
   "environment_variables": {},
   "exception": null,
   "input_path": "ABC_GAN-TabNet.ipynb",
   "output_path": "./ABC_GAN_TabNet/ABC-GAN_output_1_8.ipynb",
   "parameters": {
    "bias": 0.01,
    "variance": 0.01
   },
   "start_time": "2022-07-22T09:01:47.067319",
   "version": "2.3.3"
  }
 },
 "nbformat": 4,
 "nbformat_minor": 5
}
