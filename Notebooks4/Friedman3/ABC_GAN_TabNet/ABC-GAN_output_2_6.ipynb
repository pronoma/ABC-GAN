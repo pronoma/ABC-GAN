{
 "cells": [
  {
   "cell_type": "markdown",
   "id": "622780e6",
   "metadata": {
    "id": "622780e6",
    "papermill": {
     "duration": 0.00969,
     "end_time": "2022-07-22T10:25:16.558249",
     "exception": false,
     "start_time": "2022-07-22T10:25:16.548559",
     "status": "completed"
    },
    "tags": []
   },
   "source": [
    "## Import Libraries "
   ]
  },
  {
   "cell_type": "code",
   "execution_count": 1,
   "id": "a62397e3",
   "metadata": {
    "execution": {
     "iopub.execute_input": "2022-07-22T10:25:16.577165Z",
     "iopub.status.busy": "2022-07-22T10:25:16.576584Z",
     "iopub.status.idle": "2022-07-22T10:25:16.601759Z",
     "shell.execute_reply": "2022-07-22T10:25:16.598776Z"
    },
    "id": "a62397e3",
    "papermill": {
     "duration": 0.038413,
     "end_time": "2022-07-22T10:25:16.604739",
     "exception": false,
     "start_time": "2022-07-22T10:25:16.566326",
     "status": "completed"
    },
    "tags": []
   },
   "outputs": [],
   "source": [
    "import warnings\n",
    "import sys\n",
    "sys.path.insert(0, '../../src')\n",
    "warnings.filterwarnings('ignore')"
   ]
  },
  {
   "cell_type": "code",
   "execution_count": 2,
   "id": "d6a4e155",
   "metadata": {
    "execution": {
     "iopub.execute_input": "2022-07-22T10:25:16.622385Z",
     "iopub.status.busy": "2022-07-22T10:25:16.621695Z",
     "iopub.status.idle": "2022-07-22T10:25:24.807136Z",
     "shell.execute_reply": "2022-07-22T10:25:24.806158Z"
    },
    "id": "d6a4e155",
    "papermill": {
     "duration": 8.198123,
     "end_time": "2022-07-22T10:25:24.810048",
     "exception": false,
     "start_time": "2022-07-22T10:25:16.611925",
     "status": "completed"
    },
    "tags": []
   },
   "outputs": [],
   "source": [
    "import ABC_train_test2\n",
    "import friedman3Dataset\n",
    "import network\n",
    "import dataset\n",
    "import sanityChecks\n",
    "import torch \n",
    "import scrapbook as sb\n",
    "from statistics import mean \n",
    "import catboost as ctb \n",
    "from sklearn.model_selection import train_test_split\n",
    "from sklearn.metrics import mean_squared_error,mean_absolute_error\n",
    "import numpy as np\n",
    "from pytorch_tabnet.tab_model import TabNetRegressor"
   ]
  },
  {
   "cell_type": "markdown",
   "id": "2fa5b0f7",
   "metadata": {
    "id": "2fa5b0f7",
    "papermill": {
     "duration": 0.007928,
     "end_time": "2022-07-22T10:25:24.825697",
     "exception": false,
     "start_time": "2022-07-22T10:25:24.817769",
     "status": "completed"
    },
    "tags": []
   },
   "source": [
    "## Parameters "
   ]
  },
  {
   "cell_type": "code",
   "execution_count": 3,
   "id": "783186fb",
   "metadata": {
    "execution": {
     "iopub.execute_input": "2022-07-22T10:25:24.845476Z",
     "iopub.status.busy": "2022-07-22T10:25:24.844911Z",
     "iopub.status.idle": "2022-07-22T10:25:24.850253Z",
     "shell.execute_reply": "2022-07-22T10:25:24.849190Z"
    },
    "id": "783186fb",
    "papermill": {
     "duration": 0.025791,
     "end_time": "2022-07-22T10:25:24.859204",
     "exception": false,
     "start_time": "2022-07-22T10:25:24.833413",
     "status": "completed"
    },
    "tags": [
     "parameters"
    ]
   },
   "outputs": [],
   "source": [
    "variance = 1\n",
    "bias = 1 "
   ]
  },
  {
   "cell_type": "code",
   "execution_count": 4,
   "id": "d2ab9322",
   "metadata": {
    "execution": {
     "iopub.execute_input": "2022-07-22T10:25:24.886660Z",
     "iopub.status.busy": "2022-07-22T10:25:24.886124Z",
     "iopub.status.idle": "2022-07-22T10:25:24.892180Z",
     "shell.execute_reply": "2022-07-22T10:25:24.891164Z"
    },
    "papermill": {
     "duration": 0.027124,
     "end_time": "2022-07-22T10:25:24.896229",
     "exception": false,
     "start_time": "2022-07-22T10:25:24.869105",
     "status": "completed"
    },
    "tags": [
     "injected-parameters"
    ]
   },
   "outputs": [],
   "source": [
    "# Parameters\n",
    "variance = 1\n",
    "bias = 0.01\n"
   ]
  },
  {
   "cell_type": "markdown",
   "id": "391cdbfd",
   "metadata": {
    "id": "391cdbfd",
    "papermill": {
     "duration": 0.007816,
     "end_time": "2022-07-22T10:25:24.911966",
     "exception": false,
     "start_time": "2022-07-22T10:25:24.904150",
     "status": "completed"
    },
    "tags": []
   },
   "source": [
    "## Dataset \n"
   ]
  },
  {
   "cell_type": "code",
   "execution_count": 5,
   "id": "5b51f161",
   "metadata": {
    "execution": {
     "iopub.execute_input": "2022-07-22T10:25:24.931425Z",
     "iopub.status.busy": "2022-07-22T10:25:24.930372Z",
     "iopub.status.idle": "2022-07-22T10:25:24.936342Z",
     "shell.execute_reply": "2022-07-22T10:25:24.935247Z"
    },
    "id": "5b51f161",
    "papermill": {
     "duration": 0.020983,
     "end_time": "2022-07-22T10:25:24.941738",
     "exception": false,
     "start_time": "2022-07-22T10:25:24.920755",
     "status": "completed"
    },
    "tags": []
   },
   "outputs": [],
   "source": [
    "#Parameters \n",
    "n_features = 4\n",
    "n_samples= 100\n",
    "n_target = 1"
   ]
  },
  {
   "cell_type": "code",
   "execution_count": 6,
   "id": "5d6eced4",
   "metadata": {
    "execution": {
     "iopub.execute_input": "2022-07-22T10:25:24.963047Z",
     "iopub.status.busy": "2022-07-22T10:25:24.962164Z",
     "iopub.status.idle": "2022-07-22T10:25:24.986670Z",
     "shell.execute_reply": "2022-07-22T10:25:24.984013Z"
    },
    "id": "5d6eced4",
    "papermill": {
     "duration": 0.040504,
     "end_time": "2022-07-22T10:25:24.990274",
     "exception": false,
     "start_time": "2022-07-22T10:25:24.949770",
     "status": "completed"
    },
    "tags": []
   },
   "outputs": [
    {
     "name": "stdout",
     "output_type": "stream",
     "text": [
      "          X1           X2        X3        X4         Y\n",
      "0  73.988230   763.816135  0.616591  3.627437  1.581604\n",
      "1  91.067502   424.834801  0.783609  1.642471  1.247976\n",
      "2  50.029346  1555.241364  0.193949  3.810801  1.633681\n",
      "3  63.323148  1205.228956  0.491956  4.045020  1.422303\n",
      "4  74.238800   342.985917  0.642791  5.077765  1.362169\n"
     ]
    }
   ],
   "source": [
    "X,Y = friedman3Dataset.friedman3_data(n_samples)"
   ]
  },
  {
   "cell_type": "code",
   "execution_count": 7,
   "id": "fe007438",
   "metadata": {
    "execution": {
     "iopub.execute_input": "2022-07-22T10:25:25.008993Z",
     "iopub.status.busy": "2022-07-22T10:25:25.008082Z",
     "iopub.status.idle": "2022-07-22T10:25:25.015774Z",
     "shell.execute_reply": "2022-07-22T10:25:25.014831Z"
    },
    "id": "fe007438",
    "papermill": {
     "duration": 0.021873,
     "end_time": "2022-07-22T10:25:25.020233",
     "exception": false,
     "start_time": "2022-07-22T10:25:24.998360",
     "status": "completed"
    },
    "tags": []
   },
   "outputs": [],
   "source": [
    "#Train test split for dataset \n",
    "X_train,X_test,Y_train,Y_test = train_test_split(X,Y,test_size = 0.2)\n",
    "train_data = dataset.CustomDataset(X_train,Y_train)\n",
    "test_data = dataset.CustomDataset(X_test,Y_test)\n"
   ]
  },
  {
   "cell_type": "markdown",
   "id": "a9a1af34",
   "metadata": {
    "id": "a9a1af34",
    "papermill": {
     "duration": 0.011615,
     "end_time": "2022-07-22T10:25:25.040039",
     "exception": false,
     "start_time": "2022-07-22T10:25:25.028424",
     "status": "completed"
    },
    "tags": []
   },
   "source": [
    "## Training Parameters "
   ]
  },
  {
   "cell_type": "code",
   "execution_count": 8,
   "id": "952b7fc8",
   "metadata": {
    "execution": {
     "iopub.execute_input": "2022-07-22T10:25:25.060618Z",
     "iopub.status.busy": "2022-07-22T10:25:25.060010Z",
     "iopub.status.idle": "2022-07-22T10:25:25.066549Z",
     "shell.execute_reply": "2022-07-22T10:25:25.065407Z"
    },
    "id": "952b7fc8",
    "papermill": {
     "duration": 0.023172,
     "end_time": "2022-07-22T10:25:25.071292",
     "exception": false,
     "start_time": "2022-07-22T10:25:25.048120",
     "status": "completed"
    },
    "tags": []
   },
   "outputs": [],
   "source": [
    "batch_size = 32\n",
    "n_epochs = 1000\n",
    "#Select the device \n",
    "device = torch.device('cuda' if torch.cuda.is_available() else 'cpu')"
   ]
  },
  {
   "cell_type": "markdown",
   "id": "a95e1600",
   "metadata": {
    "id": "a95e1600",
    "papermill": {
     "duration": 0.016152,
     "end_time": "2022-07-22T10:25:25.102639",
     "exception": false,
     "start_time": "2022-07-22T10:25:25.086487",
     "status": "completed"
    },
    "tags": []
   },
   "source": [
    "# ABC Pre-generator Model \n",
    "\n",
    "1. The catboost model is used as a pre-generator model for the ABC-GAN. \n",
    "2. The model is first trained on the entire dataset \n",
    "3. It generats X,Y pairs and we add some Gaussian noise with mean 0 and variance 1 to it which is then feed as input to the generator.\n"
   ]
  },
  {
   "cell_type": "code",
   "execution_count": 9,
   "id": "ac011ebf",
   "metadata": {
    "execution": {
     "iopub.execute_input": "2022-07-22T10:25:25.121580Z",
     "iopub.status.busy": "2022-07-22T10:25:25.120786Z",
     "iopub.status.idle": "2022-07-22T10:26:05.628386Z",
     "shell.execute_reply": "2022-07-22T10:26:05.626952Z"
    },
    "papermill": {
     "duration": 40.520292,
     "end_time": "2022-07-22T10:26:05.631084",
     "exception": false,
     "start_time": "2022-07-22T10:25:25.110792",
     "status": "completed"
    },
    "tags": []
   },
   "outputs": [
    {
     "name": "stdout",
     "output_type": "stream",
     "text": [
      "Device used : cpu\n"
     ]
    },
    {
     "name": "stdout",
     "output_type": "stream",
     "text": [
      "epoch 0  | loss: 0.94762 | train_mse: 3.65132 | train_mae: 1.49074 |  0:00:00s\n",
      "epoch 1  | loss: 1.02608 | train_mse: 2.94481 | train_mae: 1.32528 |  0:00:00s\n",
      "epoch 2  | loss: 0.80028 | train_mse: 2.72843 | train_mae: 1.29923 |  0:00:00s\n"
     ]
    },
    {
     "name": "stdout",
     "output_type": "stream",
     "text": [
      "epoch 3  | loss: 0.75043 | train_mse: 2.54358 | train_mae: 1.25613 |  0:00:00s\n",
      "epoch 4  | loss: 0.85189 | train_mse: 2.0649  | train_mae: 1.15648 |  0:00:00s\n",
      "epoch 5  | loss: 0.64059 | train_mse: 1.78597 | train_mae: 1.07306 |  0:00:00s\n"
     ]
    },
    {
     "name": "stdout",
     "output_type": "stream",
     "text": [
      "epoch 6  | loss: 0.68116 | train_mse: 1.61279 | train_mae: 1.03294 |  0:00:00s\n",
      "epoch 7  | loss: 0.67222 | train_mse: 1.41874 | train_mae: 0.97604 |  0:00:00s\n"
     ]
    },
    {
     "name": "stdout",
     "output_type": "stream",
     "text": [
      "epoch 8  | loss: 0.54844 | train_mse: 1.29186 | train_mae: 0.94602 |  0:00:01s\n",
      "epoch 9  | loss: 0.53002 | train_mse: 1.13109 | train_mae: 0.88194 |  0:00:01s\n",
      "epoch 10 | loss: 0.62396 | train_mse: 1.01521 | train_mae: 0.83475 |  0:00:01s\n"
     ]
    },
    {
     "name": "stdout",
     "output_type": "stream",
     "text": [
      "epoch 11 | loss: 0.57983 | train_mse: 0.93734 | train_mae: 0.79709 |  0:00:01s\n",
      "epoch 12 | loss: 0.61308 | train_mse: 0.87493 | train_mae: 0.76211 |  0:00:01s\n",
      "epoch 13 | loss: 0.52517 | train_mse: 0.82381 | train_mae: 0.73679 |  0:00:01s\n"
     ]
    },
    {
     "name": "stdout",
     "output_type": "stream",
     "text": [
      "epoch 14 | loss: 0.51986 | train_mse: 0.78742 | train_mae: 0.71622 |  0:00:01s\n",
      "epoch 15 | loss: 0.41752 | train_mse: 0.75607 | train_mae: 0.69716 |  0:00:01s\n",
      "epoch 16 | loss: 0.50587 | train_mse: 0.71591 | train_mae: 0.67945 |  0:00:01s\n"
     ]
    },
    {
     "name": "stdout",
     "output_type": "stream",
     "text": [
      "epoch 17 | loss: 0.455   | train_mse: 0.65713 | train_mae: 0.65315 |  0:00:01s\n",
      "epoch 18 | loss: 0.53065 | train_mse: 0.6367  | train_mae: 0.63637 |  0:00:02s\n"
     ]
    },
    {
     "name": "stdout",
     "output_type": "stream",
     "text": [
      "epoch 19 | loss: 0.45131 | train_mse: 0.62674 | train_mae: 0.6234  |  0:00:02s\n",
      "epoch 20 | loss: 0.49134 | train_mse: 0.614   | train_mae: 0.61352 |  0:00:02s\n",
      "epoch 21 | loss: 0.59446 | train_mse: 0.59869 | train_mae: 0.6052  |  0:00:02s\n"
     ]
    },
    {
     "name": "stdout",
     "output_type": "stream",
     "text": [
      "epoch 22 | loss: 0.45942 | train_mse: 0.57913 | train_mae: 0.59067 |  0:00:02s\n",
      "epoch 23 | loss: 0.51245 | train_mse: 0.56024 | train_mae: 0.58295 |  0:00:02s\n",
      "epoch 24 | loss: 0.3678  | train_mse: 0.53349 | train_mae: 0.56382 |  0:00:02s\n"
     ]
    },
    {
     "name": "stdout",
     "output_type": "stream",
     "text": [
      "epoch 25 | loss: 0.51138 | train_mse: 0.52062 | train_mae: 0.55875 |  0:00:02s\n",
      "epoch 26 | loss: 0.57341 | train_mse: 0.50277 | train_mae: 0.54804 |  0:00:02s\n",
      "epoch 27 | loss: 0.53914 | train_mse: 0.4892  | train_mae: 0.53751 |  0:00:02s\n"
     ]
    },
    {
     "name": "stdout",
     "output_type": "stream",
     "text": [
      "epoch 28 | loss: 0.35449 | train_mse: 0.47692 | train_mae: 0.52757 |  0:00:03s\n",
      "epoch 29 | loss: 0.39226 | train_mse: 0.46129 | train_mae: 0.51506 |  0:00:03s\n"
     ]
    },
    {
     "name": "stdout",
     "output_type": "stream",
     "text": [
      "epoch 30 | loss: 0.38626 | train_mse: 0.44308 | train_mae: 0.5078  |  0:00:03s\n",
      "epoch 31 | loss: 0.4806  | train_mse: 0.4211  | train_mae: 0.49522 |  0:00:03s\n",
      "epoch 32 | loss: 0.46599 | train_mse: 0.39779 | train_mae: 0.47713 |  0:00:03s\n"
     ]
    },
    {
     "name": "stdout",
     "output_type": "stream",
     "text": [
      "epoch 33 | loss: 0.38175 | train_mse: 0.38921 | train_mae: 0.47431 |  0:00:03s\n",
      "epoch 34 | loss: 0.34958 | train_mse: 0.37911 | train_mae: 0.46723 |  0:00:03s\n",
      "epoch 35 | loss: 0.44679 | train_mse: 0.36204 | train_mae: 0.45302 |  0:00:03s\n"
     ]
    },
    {
     "name": "stdout",
     "output_type": "stream",
     "text": [
      "epoch 36 | loss: 0.45663 | train_mse: 0.35553 | train_mae: 0.44569 |  0:00:03s\n",
      "epoch 37 | loss: 0.3948  | train_mse: 0.3429  | train_mae: 0.43785 |  0:00:03s\n"
     ]
    },
    {
     "name": "stdout",
     "output_type": "stream",
     "text": [
      "epoch 38 | loss: 0.32774 | train_mse: 0.34303 | train_mae: 0.43625 |  0:00:03s\n",
      "epoch 39 | loss: 0.33188 | train_mse: 0.31727 | train_mae: 0.42838 |  0:00:04s\n"
     ]
    },
    {
     "name": "stdout",
     "output_type": "stream",
     "text": [
      "epoch 40 | loss: 0.3684  | train_mse: 0.31572 | train_mae: 0.42467 |  0:00:04s\n",
      "epoch 41 | loss: 0.25703 | train_mse: 0.30272 | train_mae: 0.42006 |  0:00:04s\n",
      "epoch 42 | loss: 0.34199 | train_mse: 0.2952  | train_mae: 0.41682 |  0:00:04s\n"
     ]
    },
    {
     "name": "stdout",
     "output_type": "stream",
     "text": [
      "epoch 43 | loss: 0.34228 | train_mse: 0.2964  | train_mae: 0.41668 |  0:00:04s\n",
      "epoch 44 | loss: 0.3944  | train_mse: 0.2928  | train_mae: 0.41235 |  0:00:04s\n",
      "epoch 45 | loss: 0.35513 | train_mse: 0.2827  | train_mae: 0.40668 |  0:00:04s\n"
     ]
    },
    {
     "name": "stdout",
     "output_type": "stream",
     "text": [
      "epoch 46 | loss: 0.3857  | train_mse: 0.27271 | train_mae: 0.39811 |  0:00:04s\n",
      "epoch 47 | loss: 0.41782 | train_mse: 0.2645  | train_mae: 0.39143 |  0:00:04s\n",
      "epoch 48 | loss: 0.43583 | train_mse: 0.26094 | train_mae: 0.38615 |  0:00:04s\n"
     ]
    },
    {
     "name": "stdout",
     "output_type": "stream",
     "text": [
      "epoch 49 | loss: 0.30629 | train_mse: 0.2548  | train_mae: 0.38047 |  0:00:05s\n",
      "epoch 50 | loss: 0.31565 | train_mse: 0.2496  | train_mae: 0.37698 |  0:00:05s\n",
      "epoch 51 | loss: 0.3784  | train_mse: 0.24587 | train_mae: 0.3743  |  0:00:05s\n"
     ]
    },
    {
     "name": "stdout",
     "output_type": "stream",
     "text": [
      "epoch 52 | loss: 0.36968 | train_mse: 0.24299 | train_mae: 0.37157 |  0:00:05s\n",
      "epoch 53 | loss: 0.29506 | train_mse: 0.23675 | train_mae: 0.36702 |  0:00:05s\n",
      "epoch 54 | loss: 0.2197  | train_mse: 0.23975 | train_mae: 0.36711 |  0:00:05s\n"
     ]
    },
    {
     "name": "stdout",
     "output_type": "stream",
     "text": [
      "epoch 55 | loss: 0.28062 | train_mse: 0.23908 | train_mae: 0.36805 |  0:00:05s\n",
      "epoch 56 | loss: 0.34166 | train_mse: 0.23238 | train_mae: 0.36451 |  0:00:05s\n",
      "epoch 57 | loss: 0.37902 | train_mse: 0.23116 | train_mae: 0.36813 |  0:00:05s\n"
     ]
    },
    {
     "name": "stdout",
     "output_type": "stream",
     "text": [
      "epoch 58 | loss: 0.43707 | train_mse: 0.22726 | train_mae: 0.36688 |  0:00:05s\n",
      "epoch 59 | loss: 0.30225 | train_mse: 0.22096 | train_mae: 0.36458 |  0:00:06s\n",
      "epoch 60 | loss: 0.24715 | train_mse: 0.21259 | train_mae: 0.35553 |  0:00:06s\n"
     ]
    },
    {
     "name": "stdout",
     "output_type": "stream",
     "text": [
      "epoch 61 | loss: 0.24159 | train_mse: 0.20707 | train_mae: 0.35359 |  0:00:06s\n",
      "epoch 62 | loss: 0.31642 | train_mse: 0.20518 | train_mae: 0.35374 |  0:00:06s\n",
      "epoch 63 | loss: 0.42342 | train_mse: 0.20877 | train_mae: 0.35391 |  0:00:06s\n"
     ]
    },
    {
     "name": "stdout",
     "output_type": "stream",
     "text": [
      "epoch 64 | loss: 0.30736 | train_mse: 0.20967 | train_mae: 0.35144 |  0:00:06s\n",
      "epoch 65 | loss: 0.35746 | train_mse: 0.20055 | train_mae: 0.34598 |  0:00:06s\n",
      "epoch 66 | loss: 0.30718 | train_mse: 0.19731 | train_mae: 0.34219 |  0:00:06s\n"
     ]
    },
    {
     "name": "stdout",
     "output_type": "stream",
     "text": [
      "epoch 67 | loss: 0.36471 | train_mse: 0.1966  | train_mae: 0.34178 |  0:00:06s\n",
      "epoch 68 | loss: 0.24351 | train_mse: 0.19537 | train_mae: 0.34175 |  0:00:06s\n",
      "epoch 69 | loss: 0.24808 | train_mse: 0.19669 | train_mae: 0.34289 |  0:00:06s"
     ]
    },
    {
     "name": "stdout",
     "output_type": "stream",
     "text": [
      "\n",
      "epoch 70 | loss: 0.21723 | train_mse: 0.19525 | train_mae: 0.34292 |  0:00:07s\n",
      "epoch 71 | loss: 0.22686 | train_mse: 0.1963  | train_mae: 0.34179 |  0:00:07s\n"
     ]
    },
    {
     "name": "stdout",
     "output_type": "stream",
     "text": [
      "epoch 72 | loss: 0.41154 | train_mse: 0.20387 | train_mae: 0.3409  |  0:00:07s\n",
      "epoch 73 | loss: 0.36368 | train_mse: 0.20018 | train_mae: 0.33574 |  0:00:07s\n",
      "epoch 74 | loss: 0.23459 | train_mse: 0.1968  | train_mae: 0.33052 |  0:00:07s\n"
     ]
    },
    {
     "name": "stdout",
     "output_type": "stream",
     "text": [
      "epoch 75 | loss: 0.34662 | train_mse: 0.18907 | train_mae: 0.32565 |  0:00:07s\n",
      "epoch 76 | loss: 0.31079 | train_mse: 0.186   | train_mae: 0.32469 |  0:00:07s\n"
     ]
    },
    {
     "name": "stdout",
     "output_type": "stream",
     "text": [
      "epoch 77 | loss: 0.18207 | train_mse: 0.18279 | train_mae: 0.32221 |  0:00:07s\n",
      "epoch 78 | loss: 0.30798 | train_mse: 0.18308 | train_mae: 0.32328 |  0:00:07s\n"
     ]
    },
    {
     "name": "stdout",
     "output_type": "stream",
     "text": [
      "epoch 79 | loss: 0.26383 | train_mse: 0.18282 | train_mae: 0.32564 |  0:00:07s\n",
      "epoch 80 | loss: 0.46222 | train_mse: 0.18338 | train_mae: 0.32678 |  0:00:08s\n",
      "epoch 81 | loss: 0.33381 | train_mse: 0.16938 | train_mae: 0.3196  |  0:00:08s\n"
     ]
    },
    {
     "name": "stdout",
     "output_type": "stream",
     "text": [
      "epoch 82 | loss: 0.25021 | train_mse: 0.17194 | train_mae: 0.31994 |  0:00:08s\n",
      "epoch 83 | loss: 0.25902 | train_mse: 0.18321 | train_mae: 0.32438 |  0:00:08s\n",
      "epoch 84 | loss: 0.2986  | train_mse: 0.16845 | train_mae: 0.3179  |  0:00:08s\n"
     ]
    },
    {
     "name": "stdout",
     "output_type": "stream",
     "text": [
      "epoch 85 | loss: 0.32763 | train_mse: 0.15052 | train_mae: 0.30858 |  0:00:08s\n",
      "epoch 86 | loss: 0.29676 | train_mse: 0.13779 | train_mae: 0.29864 |  0:00:08s\n"
     ]
    },
    {
     "name": "stdout",
     "output_type": "stream",
     "text": [
      "epoch 87 | loss: 0.23918 | train_mse: 0.13578 | train_mae: 0.29727 |  0:00:08s\n",
      "epoch 88 | loss: 0.32016 | train_mse: 0.1351  | train_mae: 0.29638 |  0:00:08s\n"
     ]
    },
    {
     "name": "stdout",
     "output_type": "stream",
     "text": [
      "epoch 89 | loss: 0.23618 | train_mse: 0.13402 | train_mae: 0.29553 |  0:00:08s\n",
      "epoch 90 | loss: 0.38225 | train_mse: 0.12778 | train_mae: 0.28824 |  0:00:09s\n"
     ]
    },
    {
     "name": "stdout",
     "output_type": "stream",
     "text": [
      "epoch 91 | loss: 0.33684 | train_mse: 0.12748 | train_mae: 0.28148 |  0:00:09s\n",
      "epoch 92 | loss: 0.33048 | train_mse: 0.13188 | train_mae: 0.29112 |  0:00:09s\n",
      "epoch 93 | loss: 0.2793  | train_mse: 0.14486 | train_mae: 0.3045  |  0:00:09s\n"
     ]
    },
    {
     "name": "stdout",
     "output_type": "stream",
     "text": [
      "epoch 94 | loss: 0.28465 | train_mse: 0.15623 | train_mae: 0.30981 |  0:00:09s\n",
      "epoch 95 | loss: 0.28085 | train_mse: 0.16867 | train_mae: 0.31612 |  0:00:09s\n",
      "epoch 96 | loss: 0.24567 | train_mse: 0.18197 | train_mae: 0.31939 |  0:00:09s\n"
     ]
    },
    {
     "name": "stdout",
     "output_type": "stream",
     "text": [
      "epoch 97 | loss: 0.34791 | train_mse: 0.17338 | train_mae: 0.31673 |  0:00:09s\n",
      "epoch 98 | loss: 0.30511 | train_mse: 0.17252 | train_mae: 0.31449 |  0:00:09s\n",
      "epoch 99 | loss: 0.32513 | train_mse: 0.17064 | train_mae: 0.31212 |  0:00:09s\n"
     ]
    },
    {
     "name": "stdout",
     "output_type": "stream",
     "text": [
      "epoch 100| loss: 0.23707 | train_mse: 0.16791 | train_mae: 0.30856 |  0:00:09s\n",
      "epoch 101| loss: 0.22382 | train_mse: 0.17332 | train_mae: 0.31388 |  0:00:10s\n",
      "epoch 102| loss: 0.28151 | train_mse: 0.20076 | train_mae: 0.32318 |  0:00:10s\n"
     ]
    },
    {
     "name": "stdout",
     "output_type": "stream",
     "text": [
      "epoch 103| loss: 0.26581 | train_mse: 0.20992 | train_mae: 0.32537 |  0:00:10s\n",
      "epoch 104| loss: 0.23841 | train_mse: 0.20376 | train_mae: 0.32491 |  0:00:10s\n",
      "epoch 105| loss: 0.24972 | train_mse: 0.20332 | train_mae: 0.32432 |  0:00:10s\n"
     ]
    },
    {
     "name": "stdout",
     "output_type": "stream",
     "text": [
      "epoch 106| loss: 0.24616 | train_mse: 0.18413 | train_mae: 0.31783 |  0:00:10s\n",
      "epoch 107| loss: 0.2267  | train_mse: 0.19303 | train_mae: 0.31765 |  0:00:10s\n",
      "epoch 108| loss: 0.20572 | train_mse: 0.18849 | train_mae: 0.31408 |  0:00:10s\n"
     ]
    },
    {
     "name": "stdout",
     "output_type": "stream",
     "text": [
      "epoch 109| loss: 0.16862 | train_mse: 0.17445 | train_mae: 0.30715 |  0:00:10s\n",
      "epoch 110| loss: 0.28203 | train_mse: 0.16417 | train_mae: 0.3     |  0:00:10s\n"
     ]
    },
    {
     "name": "stdout",
     "output_type": "stream",
     "text": [
      "epoch 111| loss: 0.367   | train_mse: 0.16434 | train_mae: 0.29929 |  0:00:11s\n",
      "epoch 112| loss: 0.21501 | train_mse: 0.16671 | train_mae: 0.3015  |  0:00:11s\n",
      "epoch 113| loss: 0.21667 | train_mse: 0.1729  | train_mae: 0.30645 |  0:00:11s\n"
     ]
    },
    {
     "name": "stdout",
     "output_type": "stream",
     "text": [
      "epoch 114| loss: 0.16292 | train_mse: 0.16283 | train_mae: 0.30351 |  0:00:11s\n",
      "epoch 115| loss: 0.27821 | train_mse: 0.156   | train_mae: 0.30049 |  0:00:11s\n",
      "epoch 116| loss: 0.23606 | train_mse: 0.15655 | train_mae: 0.29647 |  0:00:11s\n"
     ]
    },
    {
     "name": "stdout",
     "output_type": "stream",
     "text": [
      "epoch 117| loss: 0.21634 | train_mse: 0.16361 | train_mae: 0.29922 |  0:00:11s\n",
      "epoch 118| loss: 0.24688 | train_mse: 0.16014 | train_mae: 0.29618 |  0:00:11s\n"
     ]
    },
    {
     "name": "stdout",
     "output_type": "stream",
     "text": [
      "epoch 119| loss: 0.22401 | train_mse: 0.14668 | train_mae: 0.28751 |  0:00:11s\n",
      "epoch 120| loss: 0.22833 | train_mse: 0.14452 | train_mae: 0.28807 |  0:00:11s\n",
      "epoch 121| loss: 0.24924 | train_mse: 0.16309 | train_mae: 0.29664 |  0:00:11s\n"
     ]
    },
    {
     "name": "stdout",
     "output_type": "stream",
     "text": [
      "epoch 122| loss: 0.18672 | train_mse: 0.17716 | train_mae: 0.30497 |  0:00:12s\n",
      "epoch 123| loss: 0.32456 | train_mse: 0.18358 | train_mae: 0.30666 |  0:00:12s\n"
     ]
    },
    {
     "name": "stdout",
     "output_type": "stream",
     "text": [
      "epoch 124| loss: 0.31292 | train_mse: 0.18165 | train_mae: 0.30483 |  0:00:12s\n",
      "epoch 125| loss: 0.24283 | train_mse: 0.18857 | train_mae: 0.30438 |  0:00:12s\n",
      "epoch 126| loss: 0.28766 | train_mse: 0.18477 | train_mae: 0.30071 |  0:00:12s\n"
     ]
    },
    {
     "name": "stdout",
     "output_type": "stream",
     "text": [
      "epoch 127| loss: 0.21696 | train_mse: 0.19596 | train_mae: 0.30823 |  0:00:12s\n",
      "epoch 128| loss: 0.25319 | train_mse: 0.19109 | train_mae: 0.30886 |  0:00:12s\n",
      "epoch 129| loss: 0.16638 | train_mse: 0.18087 | train_mae: 0.30585 |  0:00:12s\n"
     ]
    },
    {
     "name": "stdout",
     "output_type": "stream",
     "text": [
      "epoch 130| loss: 0.17347 | train_mse: 0.16886 | train_mae: 0.30198 |  0:00:12s\n",
      "epoch 131| loss: 0.23798 | train_mse: 0.13854 | train_mae: 0.28638 |  0:00:12s\n",
      "epoch 132| loss: 0.1914  | train_mse: 0.13051 | train_mae: 0.27895 |  0:00:12s\n"
     ]
    },
    {
     "name": "stdout",
     "output_type": "stream",
     "text": [
      "epoch 133| loss: 0.16103 | train_mse: 0.12605 | train_mae: 0.27712 |  0:00:13s\n",
      "epoch 134| loss: 0.25489 | train_mse: 0.12345 | train_mae: 0.27807 |  0:00:13s\n",
      "epoch 135| loss: 0.20954 | train_mse: 0.13076 | train_mae: 0.28527 |  0:00:13s\n"
     ]
    },
    {
     "name": "stdout",
     "output_type": "stream",
     "text": [
      "epoch 136| loss: 0.19935 | train_mse: 0.14176 | train_mae: 0.28897 |  0:00:13s\n",
      "epoch 137| loss: 0.25912 | train_mse: 0.13948 | train_mae: 0.28782 |  0:00:13s\n",
      "epoch 138| loss: 0.2157  | train_mse: 0.13621 | train_mae: 0.2832  |  0:00:13s\n"
     ]
    },
    {
     "name": "stdout",
     "output_type": "stream",
     "text": [
      "epoch 139| loss: 0.23461 | train_mse: 0.1442  | train_mae: 0.28773 |  0:00:13s\n",
      "epoch 140| loss: 0.19142 | train_mse: 0.15732 | train_mae: 0.29035 |  0:00:13s\n",
      "epoch 141| loss: 0.22815 | train_mse: 0.15213 | train_mae: 0.28694 |  0:00:13s\n"
     ]
    },
    {
     "name": "stdout",
     "output_type": "stream",
     "text": [
      "epoch 142| loss: 0.26039 | train_mse: 0.16306 | train_mae: 0.29421 |  0:00:13s\n",
      "epoch 143| loss: 0.13275 | train_mse: 0.16912 | train_mae: 0.30073 |  0:00:14s\n"
     ]
    },
    {
     "name": "stdout",
     "output_type": "stream",
     "text": [
      "epoch 144| loss: 0.20613 | train_mse: 0.15673 | train_mae: 0.29908 |  0:00:14s\n",
      "epoch 145| loss: 0.25685 | train_mse: 0.15959 | train_mae: 0.30012 |  0:00:14s\n",
      "epoch 146| loss: 0.14164 | train_mse: 0.16333 | train_mae: 0.30273 |  0:00:14s\n"
     ]
    },
    {
     "name": "stdout",
     "output_type": "stream",
     "text": [
      "epoch 147| loss: 0.12026 | train_mse: 0.16171 | train_mae: 0.30075 |  0:00:14s\n",
      "epoch 148| loss: 0.25515 | train_mse: 0.18336 | train_mae: 0.30507 |  0:00:14s\n",
      "epoch 149| loss: 0.18685 | train_mse: 0.14877 | train_mae: 0.29295 |  0:00:14s\n"
     ]
    },
    {
     "name": "stdout",
     "output_type": "stream",
     "text": [
      "epoch 150| loss: 0.34821 | train_mse: 0.13217 | train_mae: 0.28198 |  0:00:14s\n",
      "epoch 151| loss: 0.18068 | train_mse: 0.12119 | train_mae: 0.27408 |  0:00:14s\n",
      "epoch 152| loss: 0.24954 | train_mse: 0.11942 | train_mae: 0.27185 |  0:00:14s\n"
     ]
    },
    {
     "name": "stdout",
     "output_type": "stream",
     "text": [
      "epoch 153| loss: 0.18193 | train_mse: 0.12111 | train_mae: 0.27527 |  0:00:14s\n",
      "epoch 154| loss: 0.20971 | train_mse: 0.11245 | train_mae: 0.26902 |  0:00:15s\n",
      "epoch 155| loss: 0.19377 | train_mse: 0.10881 | train_mae: 0.26613 |  0:00:15s"
     ]
    },
    {
     "name": "stdout",
     "output_type": "stream",
     "text": [
      "\n",
      "epoch 156| loss: 0.22051 | train_mse: 0.10497 | train_mae: 0.26044 |  0:00:15s\n",
      "epoch 157| loss: 0.15799 | train_mse: 0.1036  | train_mae: 0.25859 |  0:00:15s\n"
     ]
    },
    {
     "name": "stdout",
     "output_type": "stream",
     "text": [
      "epoch 158| loss: 0.24395 | train_mse: 0.10622 | train_mae: 0.26198 |  0:00:15s\n",
      "epoch 159| loss: 0.2014  | train_mse: 0.10505 | train_mae: 0.25963 |  0:00:15s\n",
      "epoch 160| loss: 0.29855 | train_mse: 0.10652 | train_mae: 0.26263 |  0:00:15s\n"
     ]
    },
    {
     "name": "stdout",
     "output_type": "stream",
     "text": [
      "epoch 161| loss: 0.18551 | train_mse: 0.12139 | train_mae: 0.27592 |  0:00:15s\n",
      "epoch 162| loss: 0.19291 | train_mse: 0.14586 | train_mae: 0.28566 |  0:00:15s\n",
      "epoch 163| loss: 0.17959 | train_mse: 0.16676 | train_mae: 0.2913  |  0:00:15s\n"
     ]
    },
    {
     "name": "stdout",
     "output_type": "stream",
     "text": [
      "epoch 164| loss: 0.23901 | train_mse: 0.17169 | train_mae: 0.29414 |  0:00:16s\n",
      "epoch 165| loss: 0.19149 | train_mse: 0.16335 | train_mae: 0.29063 |  0:00:16s\n",
      "epoch 166| loss: 0.19585 | train_mse: 0.15731 | train_mae: 0.29001 |  0:00:16s\n"
     ]
    },
    {
     "name": "stdout",
     "output_type": "stream",
     "text": [
      "epoch 167| loss: 0.26475 | train_mse: 0.15095 | train_mae: 0.28832 |  0:00:16s\n",
      "epoch 168| loss: 0.21143 | train_mse: 0.11172 | train_mae: 0.2709  |  0:00:16s\n",
      "epoch 169| loss: 0.26329 | train_mse: 0.1072  | train_mae: 0.26958 |  0:00:16s\n"
     ]
    },
    {
     "name": "stdout",
     "output_type": "stream",
     "text": [
      "epoch 170| loss: 0.11305 | train_mse: 0.10709 | train_mae: 0.26949 |  0:00:16s\n",
      "epoch 171| loss: 0.21191 | train_mse: 0.10772 | train_mae: 0.2698  |  0:00:16s\n",
      "epoch 172| loss: 0.16848 | train_mse: 0.10719 | train_mae: 0.26785 |  0:00:16s\n"
     ]
    },
    {
     "name": "stdout",
     "output_type": "stream",
     "text": [
      "epoch 173| loss: 0.19242 | train_mse: 0.10983 | train_mae: 0.26859 |  0:00:16s\n",
      "epoch 174| loss: 0.21437 | train_mse: 0.11154 | train_mae: 0.26952 |  0:00:16s\n",
      "epoch 175| loss: 0.22335 | train_mse: 0.11387 | train_mae: 0.2711  |  0:00:16s\n"
     ]
    },
    {
     "name": "stdout",
     "output_type": "stream",
     "text": [
      "epoch 176| loss: 0.16578 | train_mse: 0.11137 | train_mae: 0.26666 |  0:00:17s\n",
      "epoch 177| loss: 0.20414 | train_mse: 0.11242 | train_mae: 0.26609 |  0:00:17s\n",
      "epoch 178| loss: 0.23161 | train_mse: 0.11528 | train_mae: 0.2732  |  0:00:17s\n"
     ]
    },
    {
     "name": "stdout",
     "output_type": "stream",
     "text": [
      "epoch 179| loss: 0.19392 | train_mse: 0.11879 | train_mae: 0.27653 |  0:00:17s\n",
      "epoch 180| loss: 0.24942 | train_mse: 0.11518 | train_mae: 0.27218 |  0:00:17s\n",
      "epoch 181| loss: 0.25017 | train_mse: 0.11602 | train_mae: 0.27517 |  0:00:17s\n"
     ]
    },
    {
     "name": "stdout",
     "output_type": "stream",
     "text": [
      "epoch 182| loss: 0.19808 | train_mse: 0.11507 | train_mae: 0.27511 |  0:00:17s\n",
      "epoch 183| loss: 0.14847 | train_mse: 0.11319 | train_mae: 0.27034 |  0:00:17s\n",
      "epoch 184| loss: 0.23458 | train_mse: 0.11467 | train_mae: 0.27468 |  0:00:17s\n"
     ]
    },
    {
     "name": "stdout",
     "output_type": "stream",
     "text": [
      "epoch 185| loss: 0.21727 | train_mse: 0.11345 | train_mae: 0.27049 |  0:00:17s\n",
      "epoch 186| loss: 0.13067 | train_mse: 0.11148 | train_mae: 0.26727 |  0:00:18s\n"
     ]
    },
    {
     "name": "stdout",
     "output_type": "stream",
     "text": [
      "epoch 187| loss: 0.25256 | train_mse: 0.10989 | train_mae: 0.26411 |  0:00:18s\n",
      "epoch 188| loss: 0.23637 | train_mse: 0.10465 | train_mae: 0.25793 |  0:00:18s\n",
      "epoch 189| loss: 0.179   | train_mse: 0.10086 | train_mae: 0.25331 |  0:00:18s\n"
     ]
    },
    {
     "name": "stdout",
     "output_type": "stream",
     "text": [
      "epoch 190| loss: 0.2498  | train_mse: 0.09834 | train_mae: 0.25302 |  0:00:18s\n",
      "epoch 191| loss: 0.22327 | train_mse: 0.09679 | train_mae: 0.25222 |  0:00:18s\n",
      "epoch 192| loss: 0.16145 | train_mse: 0.09618 | train_mae: 0.25455 |  0:00:18s\n"
     ]
    },
    {
     "name": "stdout",
     "output_type": "stream",
     "text": [
      "epoch 193| loss: 0.15486 | train_mse: 0.09413 | train_mae: 0.25471 |  0:00:18s\n",
      "epoch 194| loss: 0.29393 | train_mse: 0.09453 | train_mae: 0.25512 |  0:00:18s\n",
      "epoch 195| loss: 0.1223  | train_mse: 0.09589 | train_mae: 0.25525 |  0:00:18s\n"
     ]
    },
    {
     "name": "stdout",
     "output_type": "stream",
     "text": [
      "epoch 196| loss: 0.224   | train_mse: 0.09738 | train_mae: 0.25614 |  0:00:19s\n",
      "epoch 197| loss: 0.25779 | train_mse: 0.09851 | train_mae: 0.25551 |  0:00:19s\n",
      "epoch 198| loss: 0.15329 | train_mse: 0.09941 | train_mae: 0.25567 |  0:00:19s\n"
     ]
    },
    {
     "name": "stdout",
     "output_type": "stream",
     "text": [
      "epoch 199| loss: 0.24238 | train_mse: 0.10093 | train_mae: 0.25606 |  0:00:19s\n",
      "epoch 200| loss: 0.17513 | train_mse: 0.09897 | train_mae: 0.25216 |  0:00:19s\n",
      "epoch 201| loss: 0.12421 | train_mse: 0.09719 | train_mae: 0.24942 |  0:00:19s\n"
     ]
    },
    {
     "name": "stdout",
     "output_type": "stream",
     "text": [
      "epoch 202| loss: 0.1888  | train_mse: 0.09659 | train_mae: 0.24777 |  0:00:19s\n",
      "epoch 203| loss: 0.2032  | train_mse: 0.09697 | train_mae: 0.24917 |  0:00:19s\n",
      "epoch 204| loss: 0.19864 | train_mse: 0.0952  | train_mae: 0.24796 |  0:00:19s\n"
     ]
    },
    {
     "name": "stdout",
     "output_type": "stream",
     "text": [
      "epoch 205| loss: 0.12148 | train_mse: 0.09515 | train_mae: 0.24861 |  0:00:19s\n",
      "epoch 206| loss: 0.1788  | train_mse: 0.09441 | train_mae: 0.24656 |  0:00:19s\n",
      "epoch 207| loss: 0.14678 | train_mse: 0.09264 | train_mae: 0.2429  |  0:00:20s\n"
     ]
    },
    {
     "name": "stdout",
     "output_type": "stream",
     "text": [
      "epoch 208| loss: 0.14986 | train_mse: 0.09343 | train_mae: 0.2415  |  0:00:20s\n",
      "epoch 209| loss: 0.25361 | train_mse: 0.09235 | train_mae: 0.24271 |  0:00:20s\n",
      "epoch 210| loss: 0.26998 | train_mse: 0.09314 | train_mae: 0.24336 |  0:00:20s\n"
     ]
    },
    {
     "name": "stdout",
     "output_type": "stream",
     "text": [
      "epoch 211| loss: 0.15231 | train_mse: 0.09529 | train_mae: 0.24589 |  0:00:20s\n",
      "epoch 212| loss: 0.11015 | train_mse: 0.09545 | train_mae: 0.24773 |  0:00:20s\n",
      "epoch 213| loss: 0.17554 | train_mse: 0.09486 | train_mae: 0.24843 |  0:00:20s\n"
     ]
    },
    {
     "name": "stdout",
     "output_type": "stream",
     "text": [
      "epoch 214| loss: 0.21033 | train_mse: 0.09388 | train_mae: 0.24655 |  0:00:20s\n",
      "epoch 215| loss: 0.17981 | train_mse: 0.09586 | train_mae: 0.24778 |  0:00:20s\n",
      "epoch 216| loss: 0.16426 | train_mse: 0.09603 | train_mae: 0.2476  |  0:00:20s\n"
     ]
    },
    {
     "name": "stdout",
     "output_type": "stream",
     "text": [
      "epoch 217| loss: 0.22707 | train_mse: 0.09695 | train_mae: 0.25068 |  0:00:20s\n",
      "epoch 218| loss: 0.17393 | train_mse: 0.09695 | train_mae: 0.25256 |  0:00:21s\n",
      "epoch 219| loss: 0.19481 | train_mse: 0.09548 | train_mae: 0.25266 |  0:00:21s"
     ]
    },
    {
     "name": "stdout",
     "output_type": "stream",
     "text": [
      "\n",
      "epoch 220| loss: 0.17006 | train_mse: 0.09531 | train_mae: 0.25304 |  0:00:21s\n",
      "epoch 221| loss: 0.14053 | train_mse: 0.09524 | train_mae: 0.25305 |  0:00:21s\n"
     ]
    },
    {
     "name": "stdout",
     "output_type": "stream",
     "text": [
      "epoch 222| loss: 0.13024 | train_mse: 0.09236 | train_mae: 0.25001 |  0:00:21s\n",
      "epoch 223| loss: 0.2453  | train_mse: 0.09101 | train_mae: 0.24827 |  0:00:21s\n",
      "epoch 224| loss: 0.16153 | train_mse: 0.0884  | train_mae: 0.24518 |  0:00:21s\n"
     ]
    },
    {
     "name": "stdout",
     "output_type": "stream",
     "text": [
      "epoch 225| loss: 0.13288 | train_mse: 0.08801 | train_mae: 0.24447 |  0:00:21s\n",
      "epoch 226| loss: 0.21139 | train_mse: 0.08689 | train_mae: 0.24249 |  0:00:21s\n",
      "epoch 227| loss: 0.21681 | train_mse: 0.08666 | train_mae: 0.24068 |  0:00:21s\n"
     ]
    },
    {
     "name": "stdout",
     "output_type": "stream",
     "text": [
      "epoch 228| loss: 0.18326 | train_mse: 0.0865  | train_mae: 0.23872 |  0:00:21s\n",
      "epoch 229| loss: 0.27003 | train_mse: 0.08183 | train_mae: 0.2336  |  0:00:22s\n",
      "epoch 230| loss: 0.18256 | train_mse: 0.0799  | train_mae: 0.23145 |  0:00:22s"
     ]
    },
    {
     "name": "stdout",
     "output_type": "stream",
     "text": [
      "\n",
      "epoch 231| loss: 0.17202 | train_mse: 0.07846 | train_mae: 0.22941 |  0:00:22s\n",
      "epoch 232| loss: 0.1554  | train_mse: 0.07797 | train_mae: 0.229   |  0:00:22s\n"
     ]
    },
    {
     "name": "stdout",
     "output_type": "stream",
     "text": [
      "epoch 233| loss: 0.13837 | train_mse: 0.07863 | train_mae: 0.23044 |  0:00:22s\n",
      "epoch 234| loss: 0.50143 | train_mse: 0.07918 | train_mae: 0.2316  |  0:00:22s\n",
      "epoch 235| loss: 0.18267 | train_mse: 0.07783 | train_mae: 0.23062 |  0:00:22s\n"
     ]
    },
    {
     "name": "stdout",
     "output_type": "stream",
     "text": [
      "epoch 236| loss: 0.12295 | train_mse: 0.07701 | train_mae: 0.22901 |  0:00:22s\n",
      "epoch 237| loss: 0.21663 | train_mse: 0.07701 | train_mae: 0.22704 |  0:00:22s\n",
      "epoch 238| loss: 0.17945 | train_mse: 0.07725 | train_mae: 0.22565 |  0:00:22s\n"
     ]
    },
    {
     "name": "stdout",
     "output_type": "stream",
     "text": [
      "epoch 239| loss: 0.17792 | train_mse: 0.07787 | train_mae: 0.22507 |  0:00:23s\n",
      "epoch 240| loss: 0.17557 | train_mse: 0.07838 | train_mae: 0.22651 |  0:00:23s\n",
      "epoch 241| loss: 0.19728 | train_mse: 0.07952 | train_mae: 0.22831 |  0:00:23s\n"
     ]
    },
    {
     "name": "stdout",
     "output_type": "stream",
     "text": [
      "epoch 242| loss: 0.27354 | train_mse: 0.08049 | train_mae: 0.23012 |  0:00:23s\n",
      "epoch 243| loss: 0.20887 | train_mse: 0.08078 | train_mae: 0.23024 |  0:00:23s\n",
      "epoch 244| loss: 0.1997  | train_mse: 0.08097 | train_mae: 0.23059 |  0:00:23s\n"
     ]
    },
    {
     "name": "stdout",
     "output_type": "stream",
     "text": [
      "epoch 245| loss: 0.29691 | train_mse: 0.08338 | train_mae: 0.23411 |  0:00:23s\n",
      "epoch 246| loss: 0.16399 | train_mse: 0.08513 | train_mae: 0.23501 |  0:00:23s\n",
      "epoch 247| loss: 0.26874 | train_mse: 0.0838  | train_mae: 0.23317 |  0:00:23s\n"
     ]
    },
    {
     "name": "stdout",
     "output_type": "stream",
     "text": [
      "epoch 248| loss: 0.24261 | train_mse: 0.08316 | train_mae: 0.23175 |  0:00:23s\n",
      "epoch 249| loss: 0.15791 | train_mse: 0.08297 | train_mae: 0.23145 |  0:00:23s\n"
     ]
    },
    {
     "name": "stdout",
     "output_type": "stream",
     "text": [
      "epoch 250| loss: 0.22026 | train_mse: 0.08083 | train_mae: 0.22923 |  0:00:24s\n",
      "epoch 251| loss: 0.12244 | train_mse: 0.07974 | train_mae: 0.22822 |  0:00:24s\n",
      "epoch 252| loss: 0.12602 | train_mse: 0.07812 | train_mae: 0.2255  |  0:00:24s\n"
     ]
    },
    {
     "name": "stdout",
     "output_type": "stream",
     "text": [
      "epoch 253| loss: 0.16913 | train_mse: 0.0777  | train_mae: 0.22368 |  0:00:24s\n",
      "epoch 254| loss: 0.20173 | train_mse: 0.07937 | train_mae: 0.226   |  0:00:24s\n",
      "epoch 255| loss: 0.22484 | train_mse: 0.08061 | train_mae: 0.22624 |  0:00:24s\n"
     ]
    },
    {
     "name": "stdout",
     "output_type": "stream",
     "text": [
      "epoch 256| loss: 0.1346  | train_mse: 0.08223 | train_mae: 0.22782 |  0:00:24s\n",
      "epoch 257| loss: 0.25335 | train_mse: 0.08265 | train_mae: 0.22721 |  0:00:24s\n",
      "epoch 258| loss: 0.1738  | train_mse: 0.08261 | train_mae: 0.2254  |  0:00:24s\n"
     ]
    },
    {
     "name": "stdout",
     "output_type": "stream",
     "text": [
      "epoch 259| loss: 0.19812 | train_mse: 0.0832  | train_mae: 0.22574 |  0:00:24s\n",
      "epoch 260| loss: 0.18261 | train_mse: 0.08538 | train_mae: 0.22765 |  0:00:24s\n"
     ]
    },
    {
     "name": "stdout",
     "output_type": "stream",
     "text": [
      "epoch 261| loss: 0.13439 | train_mse: 0.08659 | train_mae: 0.23133 |  0:00:25s\n",
      "epoch 262| loss: 0.19532 | train_mse: 0.08572 | train_mae: 0.22935 |  0:00:25s\n",
      "epoch 263| loss: 0.15251 | train_mse: 0.08764 | train_mae: 0.23194 |  0:00:25s\n"
     ]
    },
    {
     "name": "stdout",
     "output_type": "stream",
     "text": [
      "epoch 264| loss: 0.16837 | train_mse: 0.08952 | train_mae: 0.23276 |  0:00:25s\n",
      "epoch 265| loss: 0.15451 | train_mse: 0.08914 | train_mae: 0.23074 |  0:00:25s\n",
      "epoch 266| loss: 0.20712 | train_mse: 0.09076 | train_mae: 0.23453 |  0:00:25s"
     ]
    },
    {
     "name": "stdout",
     "output_type": "stream",
     "text": [
      "\n",
      "epoch 267| loss: 0.20547 | train_mse: 0.09023 | train_mae: 0.23505 |  0:00:25s\n",
      "epoch 268| loss: 0.18329 | train_mse: 0.09309 | train_mae: 0.23941 |  0:00:25s\n"
     ]
    },
    {
     "name": "stdout",
     "output_type": "stream",
     "text": [
      "epoch 269| loss: 0.11739 | train_mse: 0.09428 | train_mae: 0.24043 |  0:00:25s\n",
      "epoch 270| loss: 0.22592 | train_mse: 0.09339 | train_mae: 0.24021 |  0:00:25s\n",
      "epoch 271| loss: 0.16129 | train_mse: 0.09369 | train_mae: 0.24056 |  0:00:26s\n"
     ]
    },
    {
     "name": "stdout",
     "output_type": "stream",
     "text": [
      "epoch 272| loss: 0.18331 | train_mse: 0.09176 | train_mae: 0.23597 |  0:00:26s\n",
      "epoch 273| loss: 0.18273 | train_mse: 0.09278 | train_mae: 0.23568 |  0:00:26s\n",
      "epoch 274| loss: 0.12469 | train_mse: 0.09154 | train_mae: 0.23468 |  0:00:26s\n"
     ]
    },
    {
     "name": "stdout",
     "output_type": "stream",
     "text": [
      "epoch 275| loss: 0.16108 | train_mse: 0.08933 | train_mae: 0.23332 |  0:00:26s\n",
      "epoch 276| loss: 0.14628 | train_mse: 0.08857 | train_mae: 0.23191 |  0:00:26s\n",
      "epoch 277| loss: 0.21447 | train_mse: 0.08769 | train_mae: 0.23035 |  0:00:26s\n"
     ]
    },
    {
     "name": "stdout",
     "output_type": "stream",
     "text": [
      "epoch 278| loss: 0.20076 | train_mse: 0.08855 | train_mae: 0.23153 |  0:00:26s\n",
      "epoch 279| loss: 0.13932 | train_mse: 0.08726 | train_mae: 0.23014 |  0:00:26s\n",
      "epoch 280| loss: 0.46676 | train_mse: 0.08461 | train_mae: 0.22691 |  0:00:26s\n"
     ]
    },
    {
     "name": "stdout",
     "output_type": "stream",
     "text": [
      "epoch 281| loss: 0.31999 | train_mse: 0.08415 | train_mae: 0.2276  |  0:00:26s\n",
      "epoch 282| loss: 0.29291 | train_mse: 0.084   | train_mae: 0.22941 |  0:00:27s\n"
     ]
    },
    {
     "name": "stdout",
     "output_type": "stream",
     "text": [
      "epoch 283| loss: 0.14997 | train_mse: 0.08553 | train_mae: 0.23375 |  0:00:27s\n",
      "epoch 284| loss: 0.22366 | train_mse: 0.08647 | train_mae: 0.2361  |  0:00:27s\n"
     ]
    },
    {
     "name": "stdout",
     "output_type": "stream",
     "text": [
      "epoch 285| loss: 0.14186 | train_mse: 0.08795 | train_mae: 0.23856 |  0:00:27s\n",
      "epoch 286| loss: 0.16768 | train_mse: 0.08686 | train_mae: 0.23715 |  0:00:27s\n",
      "epoch 287| loss: 0.21565 | train_mse: 0.08521 | train_mae: 0.2341  |  0:00:27s\n"
     ]
    },
    {
     "name": "stdout",
     "output_type": "stream",
     "text": [
      "epoch 288| loss: 0.16136 | train_mse: 0.08457 | train_mae: 0.23194 |  0:00:27s\n",
      "epoch 289| loss: 0.13411 | train_mse: 0.08235 | train_mae: 0.22791 |  0:00:27s\n",
      "epoch 290| loss: 0.23439 | train_mse: 0.08027 | train_mae: 0.22359 |  0:00:27s\n"
     ]
    },
    {
     "name": "stdout",
     "output_type": "stream",
     "text": [
      "epoch 291| loss: 0.14097 | train_mse: 0.07865 | train_mae: 0.22091 |  0:00:27s\n",
      "epoch 292| loss: 0.1131  | train_mse: 0.07833 | train_mae: 0.22077 |  0:00:28s\n"
     ]
    },
    {
     "name": "stdout",
     "output_type": "stream",
     "text": [
      "epoch 293| loss: 0.20147 | train_mse: 0.08042 | train_mae: 0.22293 |  0:00:28s\n",
      "epoch 294| loss: 0.15685 | train_mse: 0.08119 | train_mae: 0.22321 |  0:00:28s\n",
      "epoch 295| loss: 0.14344 | train_mse: 0.08218 | train_mae: 0.225   |  0:00:28s\n"
     ]
    },
    {
     "name": "stdout",
     "output_type": "stream",
     "text": [
      "epoch 296| loss: 0.18847 | train_mse: 0.08381 | train_mae: 0.22689 |  0:00:28s\n"
     ]
    },
    {
     "name": "stdout",
     "output_type": "stream",
     "text": [
      "epoch 297| loss: 0.24722 | train_mse: 0.08569 | train_mae: 0.22791 |  0:00:28s\n",
      "epoch 298| loss: 0.1989  | train_mse: 0.08781 | train_mae: 0.23031 |  0:00:28s\n"
     ]
    },
    {
     "name": "stdout",
     "output_type": "stream",
     "text": [
      "epoch 299| loss: 0.13937 | train_mse: 0.08821 | train_mae: 0.2292  |  0:00:29s\n"
     ]
    },
    {
     "name": "stdout",
     "output_type": "stream",
     "text": [
      "epoch 300| loss: 0.24312 | train_mse: 0.08836 | train_mae: 0.23046 |  0:00:29s\n",
      "epoch 301| loss: 0.13443 | train_mse: 0.0898  | train_mae: 0.23281 |  0:00:29s\n"
     ]
    },
    {
     "name": "stdout",
     "output_type": "stream",
     "text": [
      "epoch 302| loss: 0.19998 | train_mse: 0.09171 | train_mae: 0.23518 |  0:00:29s\n",
      "epoch 303| loss: 0.1689  | train_mse: 0.09154 | train_mae: 0.23534 |  0:00:29s\n"
     ]
    },
    {
     "name": "stdout",
     "output_type": "stream",
     "text": [
      "epoch 304| loss: 0.22052 | train_mse: 0.09335 | train_mae: 0.23676 |  0:00:30s\n",
      "epoch 305| loss: 0.16341 | train_mse: 0.09293 | train_mae: 0.23703 |  0:00:30s"
     ]
    },
    {
     "name": "stdout",
     "output_type": "stream",
     "text": [
      "\n",
      "epoch 306| loss: 0.17869 | train_mse: 0.09112 | train_mae: 0.23548 |  0:00:30s\n"
     ]
    },
    {
     "name": "stdout",
     "output_type": "stream",
     "text": [
      "epoch 307| loss: 0.25401 | train_mse: 0.09213 | train_mae: 0.23562 |  0:00:30s\n",
      "epoch 308| loss: 0.16035 | train_mse: 0.09071 | train_mae: 0.23175 |  0:00:30s\n",
      "epoch 309| loss: 0.14219 | train_mse: 0.08942 | train_mae: 0.2295  |  0:00:30s\n"
     ]
    },
    {
     "name": "stdout",
     "output_type": "stream",
     "text": [
      "epoch 310| loss: 0.09755 | train_mse: 0.08617 | train_mae: 0.22726 |  0:00:30s\n",
      "epoch 311| loss: 0.20457 | train_mse: 0.08198 | train_mae: 0.22089 |  0:00:30s\n",
      "epoch 312| loss: 0.17153 | train_mse: 0.08053 | train_mae: 0.22147 |  0:00:31s\n"
     ]
    },
    {
     "name": "stdout",
     "output_type": "stream",
     "text": [
      "epoch 313| loss: 0.1784  | train_mse: 0.08047 | train_mae: 0.22054 |  0:00:31s\n",
      "epoch 314| loss: 0.19104 | train_mse: 0.08182 | train_mae: 0.22258 |  0:00:31s\n",
      "epoch 315| loss: 0.13597 | train_mse: 0.08399 | train_mae: 0.22476 |  0:00:31s\n"
     ]
    },
    {
     "name": "stdout",
     "output_type": "stream",
     "text": [
      "epoch 316| loss: 0.15164 | train_mse: 0.0867  | train_mae: 0.22781 |  0:00:31s\n",
      "epoch 317| loss: 0.13121 | train_mse: 0.08652 | train_mae: 0.22952 |  0:00:31s\n",
      "epoch 318| loss: 0.1818  | train_mse: 0.0852  | train_mae: 0.22858 |  0:00:31s\n"
     ]
    },
    {
     "name": "stdout",
     "output_type": "stream",
     "text": [
      "epoch 319| loss: 0.14208 | train_mse: 0.08433 | train_mae: 0.22777 |  0:00:31s\n",
      "epoch 320| loss: 0.13085 | train_mse: 0.08315 | train_mae: 0.22724 |  0:00:31s\n",
      "epoch 321| loss: 0.17115 | train_mse: 0.08256 | train_mae: 0.22574 |  0:00:31s\n"
     ]
    },
    {
     "name": "stdout",
     "output_type": "stream",
     "text": [
      "epoch 322| loss: 0.26497 | train_mse: 0.0812  | train_mae: 0.22323 |  0:00:31s\n",
      "epoch 323| loss: 0.12542 | train_mse: 0.08111 | train_mae: 0.22195 |  0:00:32s\n"
     ]
    },
    {
     "name": "stdout",
     "output_type": "stream",
     "text": [
      "epoch 324| loss: 0.15002 | train_mse: 0.08252 | train_mae: 0.22895 |  0:00:32s\n",
      "epoch 325| loss: 0.16084 | train_mse: 0.08475 | train_mae: 0.23253 |  0:00:32s\n",
      "epoch 326| loss: 0.1604  | train_mse: 0.08783 | train_mae: 0.23581 |  0:00:32s\n"
     ]
    },
    {
     "name": "stdout",
     "output_type": "stream",
     "text": [
      "epoch 327| loss: 0.10429 | train_mse: 0.08981 | train_mae: 0.2376  |  0:00:32s\n",
      "epoch 328| loss: 0.10952 | train_mse: 0.09135 | train_mae: 0.23772 |  0:00:32s\n",
      "epoch 329| loss: 0.22081 | train_mse: 0.08998 | train_mae: 0.23573 |  0:00:32s\n"
     ]
    },
    {
     "name": "stdout",
     "output_type": "stream",
     "text": [
      "epoch 330| loss: 0.14975 | train_mse: 0.08851 | train_mae: 0.23281 |  0:00:32s\n",
      "epoch 331| loss: 0.13144 | train_mse: 0.08427 | train_mae: 0.22878 |  0:00:32s\n",
      "epoch 332| loss: 0.30785 | train_mse: 0.08087 | train_mae: 0.226   |  0:00:32s\n"
     ]
    },
    {
     "name": "stdout",
     "output_type": "stream",
     "text": [
      "epoch 333| loss: 0.15306 | train_mse: 0.0775  | train_mae: 0.22034 |  0:00:32s\n",
      "epoch 334| loss: 0.18461 | train_mse: 0.08027 | train_mae: 0.22274 |  0:00:33s\n"
     ]
    },
    {
     "name": "stdout",
     "output_type": "stream",
     "text": [
      "epoch 335| loss: 0.1914  | train_mse: 0.08113 | train_mae: 0.22382 |  0:00:33s\n",
      "epoch 336| loss: 0.2289  | train_mse: 0.07866 | train_mae: 0.22102 |  0:00:33s\n",
      "epoch 337| loss: 0.20407 | train_mse: 0.07754 | train_mae: 0.21881 |  0:00:33s\n"
     ]
    },
    {
     "name": "stdout",
     "output_type": "stream",
     "text": [
      "epoch 338| loss: 0.12819 | train_mse: 0.07427 | train_mae: 0.21434 |  0:00:33s\n",
      "epoch 339| loss: 0.15714 | train_mse: 0.07443 | train_mae: 0.21549 |  0:00:33s\n"
     ]
    },
    {
     "name": "stdout",
     "output_type": "stream",
     "text": [
      "epoch 340| loss: 0.15589 | train_mse: 0.07668 | train_mae: 0.21792 |  0:00:33s\n",
      "epoch 341| loss: 0.24177 | train_mse: 0.07889 | train_mae: 0.21985 |  0:00:33s\n",
      "epoch 342| loss: 0.17802 | train_mse: 0.08073 | train_mae: 0.22029 |  0:00:33s\n"
     ]
    },
    {
     "name": "stdout",
     "output_type": "stream",
     "text": [
      "epoch 343| loss: 0.1344  | train_mse: 0.08509 | train_mae: 0.2255  |  0:00:33s\n",
      "epoch 344| loss: 0.10538 | train_mse: 0.08445 | train_mae: 0.22702 |  0:00:33s\n"
     ]
    },
    {
     "name": "stdout",
     "output_type": "stream",
     "text": [
      "epoch 345| loss: 0.23216 | train_mse: 0.08395 | train_mae: 0.22945 |  0:00:34s\n",
      "epoch 346| loss: 0.15095 | train_mse: 0.0823  | train_mae: 0.22857 |  0:00:34s\n",
      "epoch 347| loss: 0.2135  | train_mse: 0.07731 | train_mae: 0.22423 |  0:00:34s\n"
     ]
    },
    {
     "name": "stdout",
     "output_type": "stream",
     "text": [
      "epoch 348| loss: 0.14746 | train_mse: 0.0753  | train_mae: 0.22264 |  0:00:34s\n",
      "epoch 349| loss: 0.14846 | train_mse: 0.07377 | train_mae: 0.22051 |  0:00:34s\n"
     ]
    },
    {
     "name": "stdout",
     "output_type": "stream",
     "text": [
      "epoch 350| loss: 0.13431 | train_mse: 0.07325 | train_mae: 0.21978 |  0:00:34s\n",
      "epoch 351| loss: 0.13484 | train_mse: 0.07148 | train_mae: 0.21556 |  0:00:34s\n",
      "epoch 352| loss: 0.16574 | train_mse: 0.07037 | train_mae: 0.21191 |  0:00:34s\n"
     ]
    },
    {
     "name": "stdout",
     "output_type": "stream",
     "text": [
      "epoch 353| loss: 0.17439 | train_mse: 0.06529 | train_mae: 0.20369 |  0:00:34s\n",
      "epoch 354| loss: 0.19347 | train_mse: 0.06545 | train_mae: 0.20239 |  0:00:35s\n"
     ]
    },
    {
     "name": "stdout",
     "output_type": "stream",
     "text": [
      "epoch 355| loss: 0.17729 | train_mse: 0.06461 | train_mae: 0.20059 |  0:00:35s\n",
      "epoch 356| loss: 0.09159 | train_mse: 0.06538 | train_mae: 0.20161 |  0:00:35s\n",
      "epoch 357| loss: 0.2008  | train_mse: 0.06505 | train_mae: 0.20044 |  0:00:35s\n"
     ]
    },
    {
     "name": "stdout",
     "output_type": "stream",
     "text": [
      "epoch 358| loss: 0.10223 | train_mse: 0.06408 | train_mae: 0.19882 |  0:00:35s\n",
      "epoch 359| loss: 0.13311 | train_mse: 0.06215 | train_mae: 0.19659 |  0:00:35s\n",
      "epoch 360| loss: 0.17596 | train_mse: 0.06127 | train_mae: 0.19589 |  0:00:35s\n"
     ]
    },
    {
     "name": "stdout",
     "output_type": "stream",
     "text": [
      "epoch 361| loss: 0.26428 | train_mse: 0.06283 | train_mae: 0.19844 |  0:00:35s\n",
      "epoch 362| loss: 0.25634 | train_mse: 0.06678 | train_mae: 0.20299 |  0:00:35s\n"
     ]
    },
    {
     "name": "stdout",
     "output_type": "stream",
     "text": [
      "epoch 363| loss: 0.21294 | train_mse: 0.07037 | train_mae: 0.20789 |  0:00:35s\n",
      "epoch 364| loss: 0.14582 | train_mse: 0.07425 | train_mae: 0.21255 |  0:00:36s\n"
     ]
    },
    {
     "name": "stdout",
     "output_type": "stream",
     "text": [
      "epoch 365| loss: 0.18523 | train_mse: 0.07612 | train_mae: 0.21423 |  0:00:36s\n",
      "epoch 366| loss: 0.07983 | train_mse: 0.07879 | train_mae: 0.21908 |  0:00:36s\n",
      "epoch 367| loss: 0.15209 | train_mse: 0.07967 | train_mae: 0.22193 |  0:00:36s\n"
     ]
    },
    {
     "name": "stdout",
     "output_type": "stream",
     "text": [
      "epoch 368| loss: 0.11974 | train_mse: 0.0793  | train_mae: 0.2219  |  0:00:36s\n",
      "epoch 369| loss: 0.18692 | train_mse: 0.07588 | train_mae: 0.22076 |  0:00:36s\n",
      "epoch 370| loss: 0.14584 | train_mse: 0.0763  | train_mae: 0.221   |  0:00:36s\n"
     ]
    },
    {
     "name": "stdout",
     "output_type": "stream",
     "text": [
      "epoch 371| loss: 0.16953 | train_mse: 0.07586 | train_mae: 0.22018 |  0:00:36s\n",
      "epoch 372| loss: 0.14816 | train_mse: 0.07543 | train_mae: 0.21951 |  0:00:36s\n",
      "epoch 373| loss: 0.18687 | train_mse: 0.07657 | train_mae: 0.22012 |  0:00:36s\n"
     ]
    },
    {
     "name": "stdout",
     "output_type": "stream",
     "text": [
      "epoch 374| loss: 0.18317 | train_mse: 0.07509 | train_mae: 0.21978 |  0:00:37s\n",
      "epoch 375| loss: 0.10284 | train_mse: 0.07444 | train_mae: 0.21834 |  0:00:37s\n",
      "epoch 376| loss: 0.22639 | train_mse: 0.07559 | train_mae: 0.21859 |  0:00:37s\n"
     ]
    },
    {
     "name": "stdout",
     "output_type": "stream",
     "text": [
      "epoch 377| loss: 0.14682 | train_mse: 0.07514 | train_mae: 0.21801 |  0:00:37s\n",
      "epoch 378| loss: 0.18528 | train_mse: 0.07473 | train_mae: 0.21767 |  0:00:37s\n",
      "epoch 379| loss: 0.33942 | train_mse: 0.0757  | train_mae: 0.21892 |  0:00:37s\n"
     ]
    },
    {
     "name": "stdout",
     "output_type": "stream",
     "text": [
      "epoch 380| loss: 0.20842 | train_mse: 0.07407 | train_mae: 0.21638 |  0:00:37s\n",
      "epoch 381| loss: 0.16614 | train_mse: 0.07336 | train_mae: 0.21487 |  0:00:37s\n",
      "epoch 382| loss: 0.1523  | train_mse: 0.07349 | train_mae: 0.21471 |  0:00:37s\n"
     ]
    },
    {
     "name": "stdout",
     "output_type": "stream",
     "text": [
      "epoch 383| loss: 0.10301 | train_mse: 0.07102 | train_mae: 0.21314 |  0:00:37s\n",
      "epoch 384| loss: 0.1113  | train_mse: 0.07131 | train_mae: 0.21363 |  0:00:37s\n"
     ]
    },
    {
     "name": "stdout",
     "output_type": "stream",
     "text": [
      "epoch 385| loss: 0.10291 | train_mse: 0.07167 | train_mae: 0.21367 |  0:00:38s\n",
      "epoch 386| loss: 0.25001 | train_mse: 0.07365 | train_mae: 0.21572 |  0:00:38s\n",
      "epoch 387| loss: 0.14645 | train_mse: 0.07344 | train_mae: 0.21553 |  0:00:38s\n"
     ]
    },
    {
     "name": "stdout",
     "output_type": "stream",
     "text": [
      "epoch 388| loss: 0.14394 | train_mse: 0.0731  | train_mae: 0.21473 |  0:00:38s\n",
      "epoch 389| loss: 0.19698 | train_mse: 0.07306 | train_mae: 0.21417 |  0:00:38s\n",
      "epoch 390| loss: 0.12375 | train_mse: 0.07355 | train_mae: 0.21443 |  0:00:38s\n"
     ]
    },
    {
     "name": "stdout",
     "output_type": "stream",
     "text": [
      "epoch 391| loss: 0.19433 | train_mse: 0.07314 | train_mae: 0.21518 |  0:00:38s\n",
      "epoch 392| loss: 0.15869 | train_mse: 0.07038 | train_mae: 0.21363 |  0:00:38s\n",
      "epoch 393| loss: 0.19519 | train_mse: 0.07203 | train_mae: 0.21399 |  0:00:38s\n"
     ]
    },
    {
     "name": "stdout",
     "output_type": "stream",
     "text": [
      "epoch 394| loss: 0.21597 | train_mse: 0.0757  | train_mae: 0.21909 |  0:00:38s\n",
      "epoch 395| loss: 0.25405 | train_mse: 0.07928 | train_mae: 0.22383 |  0:00:39s\n"
     ]
    },
    {
     "name": "stdout",
     "output_type": "stream",
     "text": [
      "epoch 396| loss: 0.10176 | train_mse: 0.08032 | train_mae: 0.22549 |  0:00:39s\n",
      "epoch 397| loss: 0.11122 | train_mse: 0.08005 | train_mae: 0.22294 |  0:00:39s\n",
      "epoch 398| loss: 0.1114  | train_mse: 0.07971 | train_mae: 0.22305 |  0:00:39s\n"
     ]
    },
    {
     "name": "stdout",
     "output_type": "stream",
     "text": [
      "epoch 399| loss: 0.12881 | train_mse: 0.07783 | train_mae: 0.22198 |  0:00:39s\n",
      "epoch 400| loss: 0.16894 | train_mse: 0.07491 | train_mae: 0.21665 |  0:00:39s\n",
      "epoch 401| loss: 0.12204 | train_mse: 0.07127 | train_mae: 0.21005 |  0:00:39s\n"
     ]
    },
    {
     "name": "stdout",
     "output_type": "stream",
     "text": [
      "epoch 402| loss: 0.16434 | train_mse: 0.06822 | train_mae: 0.20487 |  0:00:39s\n",
      "epoch 403| loss: 0.14951 | train_mse: 0.06662 | train_mae: 0.20275 |  0:00:39s\n",
      "epoch 404| loss: 0.1617  | train_mse: 0.0662  | train_mae: 0.2012  |  0:00:39s\n"
     ]
    },
    {
     "name": "stdout",
     "output_type": "stream",
     "text": [
      "epoch 405| loss: 0.08097 | train_mse: 0.06465 | train_mae: 0.19851 |  0:00:39s\n",
      "epoch 406| loss: 0.13725 | train_mse: 0.06616 | train_mae: 0.20143 |  0:00:40s\n"
     ]
    },
    {
     "name": "stdout",
     "output_type": "stream",
     "text": [
      "epoch 407| loss: 0.1633  | train_mse: 0.06856 | train_mae: 0.20239 |  0:00:40s\n",
      "epoch 408| loss: 0.10404 | train_mse: 0.07195 | train_mae: 0.20504 |  0:00:40s\n",
      "epoch 409| loss: 0.22044 | train_mse: 0.07143 | train_mae: 0.20251 |  0:00:40s\n"
     ]
    },
    {
     "name": "stdout",
     "output_type": "stream",
     "text": [
      "epoch 410| loss: 0.1817  | train_mse: 0.07076 | train_mae: 0.2017  |  0:00:40s\n",
      "\n",
      "Early stopping occurred at epoch 410 with best_epoch = 360 and best_train_mae = 0.19589\n",
      "Best weights from best epoch are automatically used!\n"
     ]
    }
   ],
   "source": [
    "#Train the Model\n",
    "\n",
    "Y_train = np.reshape(Y_train, (-1, 1))\n",
    "Y_test = np.reshape(Y_test, (-1, 1))\n",
    "\n",
    "prior_model = TabNetRegressor(optimizer_fn=torch.optim.Adam, optimizer_params=dict(lr = 0.001),\n",
    "          #scheduler_params={\"step_size\":10, ], \"gamma\":0.9},\n",
    "          #scheduler_fn=torch.optim.lr_scheduler.StepLR\n",
    "          )  #TabNetRegressor()\n",
    "\n",
    "prior_model.fit(X_train,Y_train,eval_set=[(X_train, Y_train)],\n",
    "            eval_name=['train'], \n",
    "            eval_metric=[ 'mse', 'mae'], \n",
    "            max_epochs = n_epochs, \n",
    "            batch_size = batch_size,\n",
    "            patience=50\n",
    "            )"
   ]
  },
  {
   "cell_type": "code",
   "execution_count": 10,
   "id": "af65dcda",
   "metadata": {
    "execution": {
     "iopub.execute_input": "2022-07-22T10:26:05.674113Z",
     "iopub.status.busy": "2022-07-22T10:26:05.673614Z",
     "iopub.status.idle": "2022-07-22T10:26:05.726152Z",
     "shell.execute_reply": "2022-07-22T10:26:05.725042Z"
    },
    "id": "af65dcda",
    "papermill": {
     "duration": 0.078537,
     "end_time": "2022-07-22T10:26:05.731839",
     "exception": false,
     "start_time": "2022-07-22T10:26:05.653302",
     "status": "completed"
    },
    "tags": []
   },
   "outputs": [
    {
     "data": {
      "application/scrapbook.scrap.json+json": {
       "data": 0.2616227478209213,
       "encoder": "json",
       "name": "Prior Model MSE",
       "version": 1
      }
     },
     "metadata": {
      "scrapbook": {
       "data": true,
       "display": false,
       "name": "Prior Model MSE"
      }
     },
     "output_type": "display_data"
    },
    {
     "data": {
      "application/scrapbook.scrap.json+json": {
       "data": 0.9337768349532828,
       "encoder": "json",
       "name": "ABC Pre-generator MSE",
       "version": 1
      }
     },
     "metadata": {
      "scrapbook": {
       "data": true,
       "display": false,
       "name": "ABC Pre-generator MSE"
      }
     },
     "output_type": "display_data"
    },
    {
     "data": {
      "application/scrapbook.scrap.json+json": {
       "data": 0.3695454773286892,
       "encoder": "json",
       "name": "Prior Model MAE",
       "version": 1
      }
     },
     "metadata": {
      "scrapbook": {
       "data": true,
       "display": false,
       "name": "Prior Model MAE"
      }
     },
     "output_type": "display_data"
    },
    {
     "name": "stdout",
     "output_type": "stream",
     "text": [
      "Prior Model MAE 0.3695454773286892\n"
     ]
    },
    {
     "data": {
      "application/scrapbook.scrap.json+json": {
       "data": 0.8571865341728884,
       "encoder": "json",
       "name": "ABC Pre-generator MAE",
       "version": 1
      }
     },
     "metadata": {
      "scrapbook": {
       "data": true,
       "display": false,
       "name": "ABC Pre-generator MAE"
      }
     },
     "output_type": "display_data"
    },
    {
     "name": "stdout",
     "output_type": "stream",
     "text": [
      "ABC Pre-generator MAE 0.8571865341728884\n"
     ]
    }
   ],
   "source": [
    "y_pred = prior_model.predict(X_test)\n",
    "y_abc = y_pred + np.random.normal(0,variance, y_pred.shape) + bias \n",
    "mse = mean_squared_error(y_pred,Y_test)\n",
    "sb.glue(\"Prior Model MSE\",mse)\n",
    "mse = mean_squared_error(y_abc,Y_test)\n",
    "sb.glue(\"ABC Pre-generator MSE\",mse)\n",
    "mae = mean_absolute_error(y_pred,Y_test)\n",
    "sb.glue(\"Prior Model MAE\",mae)\n",
    "print(\"Prior Model MAE\",mae)\n",
    "mae = mean_absolute_error(y_abc,Y_test)\n",
    "sb.glue(\"ABC Pre-generator MAE\",mae)\n",
    "print(\"ABC Pre-generator MAE\",mae)"
   ]
  },
  {
   "cell_type": "markdown",
   "id": "25609da2",
   "metadata": {
    "papermill": {
     "duration": 0.019546,
     "end_time": "2022-07-22T10:26:05.770250",
     "exception": false,
     "start_time": "2022-07-22T10:26:05.750704",
     "status": "completed"
    },
    "tags": []
   },
   "source": [
    "# mGAN Model"
   ]
  },
  {
   "cell_type": "code",
   "execution_count": 11,
   "id": "dfc3464d",
   "metadata": {
    "execution": {
     "iopub.execute_input": "2022-07-22T10:26:05.810329Z",
     "iopub.status.busy": "2022-07-22T10:26:05.809989Z",
     "iopub.status.idle": "2022-07-22T10:26:05.814702Z",
     "shell.execute_reply": "2022-07-22T10:26:05.813368Z"
    },
    "papermill": {
     "duration": 0.028587,
     "end_time": "2022-07-22T10:26:05.818190",
     "exception": false,
     "start_time": "2022-07-22T10:26:05.789603",
     "status": "completed"
    },
    "tags": []
   },
   "outputs": [],
   "source": [
    "# gen = network.Generator(n_features+1).to(device)\n",
    "# disc = network.Discriminator(n_features+1).to(device)\n",
    "\n",
    "# criterion = torch.nn.BCELoss()\n",
    "# gen_opt = torch.optim.Adam(gen.parameters(), lr=0.001, betas=(0.5, 0.999))\n",
    "# disc_opt = torch.optim.Adam(disc.parameters(), lr=0.001, betas=(0.5, 0.999))"
   ]
  },
  {
   "cell_type": "code",
   "execution_count": 12,
   "id": "b75fdd85",
   "metadata": {
    "execution": {
     "iopub.execute_input": "2022-07-22T10:26:05.865292Z",
     "iopub.status.busy": "2022-07-22T10:26:05.864619Z",
     "iopub.status.idle": "2022-07-22T10:26:05.869809Z",
     "shell.execute_reply": "2022-07-22T10:26:05.868774Z"
    },
    "papermill": {
     "duration": 0.032682,
     "end_time": "2022-07-22T10:26:05.872801",
     "exception": false,
     "start_time": "2022-07-22T10:26:05.840119",
     "status": "completed"
    },
    "tags": []
   },
   "outputs": [],
   "source": [
    "#Training the ABC_GAN \n",
    "# ABC_train_test2.training_GAN(disc,gen,disc_opt,gen_opt,train_data,batch_size,n_epochs,criterion,prior_model,variance,bias,device)"
   ]
  },
  {
   "cell_type": "code",
   "execution_count": 13,
   "id": "1fa7c368",
   "metadata": {
    "execution": {
     "iopub.execute_input": "2022-07-22T10:26:05.913341Z",
     "iopub.status.busy": "2022-07-22T10:26:05.912664Z",
     "iopub.status.idle": "2022-07-22T10:26:05.917806Z",
     "shell.execute_reply": "2022-07-22T10:26:05.916539Z"
    },
    "papermill": {
     "duration": 0.030126,
     "end_time": "2022-07-22T10:26:05.922067",
     "exception": false,
     "start_time": "2022-07-22T10:26:05.891941",
     "status": "completed"
    },
    "tags": []
   },
   "outputs": [],
   "source": [
    "# ABC_GAN1_metrics=ABC_train_test2.test_generator(gen,test_data,prior_model,variance,bias,\"1\",device)\n",
    "# sb.glue(\"ABC_GAN_1 Metrics\",ABC_GAN1_metrics)\n",
    "\n",
    "# print(\"MAE\")\n",
    "# print(mean(ABC_GAN1_metrics[1]))"
   ]
  },
  {
   "cell_type": "code",
   "execution_count": 14,
   "id": "eb22ce5c",
   "metadata": {
    "execution": {
     "iopub.execute_input": "2022-07-22T10:26:05.968427Z",
     "iopub.status.busy": "2022-07-22T10:26:05.968058Z",
     "iopub.status.idle": "2022-07-22T10:26:05.972763Z",
     "shell.execute_reply": "2022-07-22T10:26:05.971540Z"
    },
    "papermill": {
     "duration": 0.032076,
     "end_time": "2022-07-22T10:26:05.975773",
     "exception": false,
     "start_time": "2022-07-22T10:26:05.943697",
     "status": "completed"
    },
    "tags": []
   },
   "outputs": [],
   "source": [
    "# sanityChecks.discProbVsError(train_data,disc,device)\n",
    "# sanityChecks.discProbVsError(test_data,disc,device)"
   ]
  },
  {
   "cell_type": "markdown",
   "id": "943ec52f",
   "metadata": {
    "papermill": {
     "duration": 0.020533,
     "end_time": "2022-07-22T10:26:06.016525",
     "exception": false,
     "start_time": "2022-07-22T10:26:05.995992",
     "status": "completed"
    },
    "tags": []
   },
   "source": [
    "# mGAN Model with TabNet Generator"
   ]
  },
  {
   "cell_type": "code",
   "execution_count": 15,
   "id": "d3773017",
   "metadata": {
    "execution": {
     "iopub.execute_input": "2022-07-22T10:26:06.059940Z",
     "iopub.status.busy": "2022-07-22T10:26:06.059581Z",
     "iopub.status.idle": "2022-07-22T10:26:06.091129Z",
     "shell.execute_reply": "2022-07-22T10:26:06.083902Z"
    },
    "papermill": {
     "duration": 0.063493,
     "end_time": "2022-07-22T10:26:06.101009",
     "exception": false,
     "start_time": "2022-07-22T10:26:06.037516",
     "status": "completed"
    },
    "tags": []
   },
   "outputs": [],
   "source": [
    "gen2 = network.GeneratorTabnet(n_features+1).to(device)\n",
    "disc2 = network.Discriminator(n_features+1).to(device)\n",
    "\n",
    "criterion = torch.nn.BCELoss()\n",
    "gen_opt = torch.optim.Adam(gen2.parameters(), lr=0.001, betas=(0.5, 0.999))\n",
    "disc_opt = torch.optim.Adam(disc2.parameters(), lr=0.001, betas=(0.5, 0.999))"
   ]
  },
  {
   "cell_type": "code",
   "execution_count": 16,
   "id": "d23444df",
   "metadata": {
    "execution": {
     "iopub.execute_input": "2022-07-22T10:26:06.148776Z",
     "iopub.status.busy": "2022-07-22T10:26:06.148165Z",
     "iopub.status.idle": "2022-07-22T10:29:11.070648Z",
     "shell.execute_reply": "2022-07-22T10:29:11.069523Z"
    },
    "papermill": {
     "duration": 184.953877,
     "end_time": "2022-07-22T10:29:11.075038",
     "exception": false,
     "start_time": "2022-07-22T10:26:06.121161",
     "status": "completed"
    },
    "tags": []
   },
   "outputs": [
    {
     "data": {
      "image/png": "[encoded data removed]",
      "text/plain": [
       "<Figure size 432x288 with 1 Axes>"
      ]
     },
     "metadata": {
      "needs_background": "light"
     },
     "output_type": "display_data"
    },
    {
     "data": {
      "image/png": "[encoded data removed]",
      "text/plain": [
       "<Figure size 432x288 with 1 Axes>"
      ]
     },
     "metadata": {
      "needs_background": "light"
     },
     "output_type": "display_data"
    }
   ],
   "source": [
    "#Training the ABC_GAN \n",
    "ABC_train_test2.training_GAN(disc2,gen2,disc_opt,gen_opt,train_data,batch_size,n_epochs,criterion,prior_model,variance,bias,device)"
   ]
  },
  {
   "cell_type": "code",
   "execution_count": 17,
   "id": "8ff6ef24",
   "metadata": {
    "execution": {
     "iopub.execute_input": "2022-07-22T10:29:11.135118Z",
     "iopub.status.busy": "2022-07-22T10:29:11.134015Z",
     "iopub.status.idle": "2022-07-22T10:29:12.954039Z",
     "shell.execute_reply": "2022-07-22T10:29:12.952718Z"
    },
    "papermill": {
     "duration": 1.848873,
     "end_time": "2022-07-22T10:29:12.956847",
     "exception": false,
     "start_time": "2022-07-22T10:29:11.107974",
     "status": "completed"
    },
    "tags": []
   },
   "outputs": [
    {
     "data": {
      "application/scrapbook.scrap.json+json": {
       "data": 0.46731913377948253,
       "encoder": "json",
       "name": "ABC-GAN Model 1 MSE",
       "version": 1
      }
     },
     "metadata": {
      "scrapbook": {
       "data": true,
       "display": false,
       "name": "ABC-GAN Model 1 MSE"
      }
     },
     "output_type": "display_data"
    },
    {
     "data": {
      "application/scrapbook.scrap.json+json": {
       "data": 0.5043207483738661,
       "encoder": "json",
       "name": "ABC-GAN Model 1 MAE",
       "version": 1
      }
     },
     "metadata": {
      "scrapbook": {
       "data": true,
       "display": false,
       "name": "ABC-GAN Model 1 MAE"
      }
     },
     "output_type": "display_data"
    },
    {
     "data": {
      "application/scrapbook.scrap.json+json": {
       "data": 10.086414967477321,
       "encoder": "json",
       "name": "ABC-GAN Model 1 Manhattan Distance",
       "version": 1
      }
     },
     "metadata": {
      "scrapbook": {
       "data": true,
       "display": false,
       "name": "ABC-GAN Model 1 Manhattan Distance"
      }
     },
     "output_type": "display_data"
    },
    {
     "data": {
      "application/scrapbook.scrap.json+json": {
       "data": 3.0533823303601952,
       "encoder": "json",
       "name": "ABC-GAN Model 1 Euclidean distance",
       "version": 1
      }
     },
     "metadata": {
      "scrapbook": {
       "data": true,
       "display": false,
       "name": "ABC-GAN Model 1 Euclidean distance"
      }
     },
     "output_type": "display_data"
    },
    {
     "data": {
      "application/scrapbook.scrap.json+json": {
       "data": [
        [
         0.46300654779227746,
         0.42200615262572094,
         0.4090056234505588,
         0.411657279083869,
         0.42589298174286616,
         0.45078108850862064,
         0.4437473514155469,
         0.4620381196020819,
         0.4589877733164183,
         0.4712904935951137,
         0.4743670888592063,
         0.5509059498423845,
         0.43979732608525424,
         0.4820064387995787,
         0.4323943181243914,
         0.3999434162527318,
         0.4238720536222794,
         0.4326587235599103,
         0.6181720646934219,
         0.4309197932518785,
         0.4217643757316333,
         0.4831574460677559,
         0.4338454047584664,
         0.4647047749336588,
         0.4817965490066925,
         0.5007153530343199,
         0.479089908924483,
         0.4961105939817935,
         0.5358994781795176,
         0.43969259541236505,
         0.45656282033509593,
         0.47368269873598284,
         0.46435994835556443,
         0.47758479755463557,
         0.405505210473307,
         0.558309250981899,
         0.4137642451823343,
         0.5303447310309533,
         0.4211235755020365,
         0.41978008435913877,
         0.45942870482200976,
         0.4994457097923079,
         0.4635477765262392,
         0.5130947326182431,
         0.44648430071005196,
         0.45294720730877475,
         0.41511366473532085,
         0.6295232653400669,
         0.47037210820727876,
         0.4423094008391793,
         0.4370975897211345,
         0.49272027381078687,
         0.4690475397531072,
         0.3979980993776536,
         0.43925314003247024,
         0.49439466082787087,
         0.5628188918722126,
         0.449352752145185,
         0.5724709744372903,
         0.46070096356813117,
         0.4503574668339315,
         0.4470727358715537,
         0.41994816957546366,
         0.4297846032021046,
         0.5021288560555007,
         0.41737722181970405,
         0.4546435727684301,
         0.4934065591936488,
         0.5203420171683544,
         0.44802089282037966,
         0.4430041941329126,
         0.4088461970272775,
         0.4221209348615952,
         0.48908774579869885,
         0.42011645832042566,
         0.44094001749651196,
         0.4949681712984221,
         0.5001828554956218,
         0.48288422104515655,
         0.4451529125197717,
         0.41689278712254413,
         0.43342309194601647,
         0.502209605491122,
         0.5405347484739271,
         0.47006659532432105,
         0.40587943322442593,
         0.44432957708069554,
         0.4708823521551098,
         0.45964218990349615,
         0.45691832743297256,
         0.49433848578795037,
         0.48990599950301716,
         0.5082637937233,
         0.43359397650975195,
         0.5225258353917178,
         0.45520174414805153,
         0.4513139973100051,
         0.6365383556135481,
         0.44179551563691344,
         0.5379049796528411
        ],
        [
         0.48950606510043143,
         0.4902867846190929,
         0.4939875461161137,
         0.4880204163491726,
         0.4970220811665058,
         0.5036660604178905,
         0.4980711989104748,
         0.500822427123785,
         0.49860590919852255,
         0.5127050988376141,
         0.512985610216856,
         0.5165715582668782,
         0.49122810289263724,
         0.5146591745316982,
         0.4922946996986866,
         0.47589247301220894,
         0.5001412220299244,
         0.5181784622371197,
         0.5376222051680088,
         0.4996949635446072,
         0.48453533872961996,
         0.5148180462419987,
         0.48203345462679864,
         0.49186439290642736,
         0.5211452774703502,
         0.5192786552011966,
         0.5067876063287258,
         0.5151602976024151,
         0.5190767116844655,
         0.5021987147629261,
         0.4935744859278202,
         0.5049618206918239,
         0.5219229437410832,
         0.5230771116912365,
         0.47828207835555075,
         0.5142952598631382,
         0.4886504150927067,
         0.5203205697238446,
         0.48877297565340994,
         0.4848133005201817,
         0.5041989110410213,
         0.5007927797734737,
         0.5127626679837703,
         0.5288609467446804,
         0.516959335654974,
         0.5076074935495853,
         0.4818452559411526,
         0.5380979396402836,
         0.4964673571288586,
         0.5103401117026806,
         0.49338685497641566,
         0.5163411565124989,
         0.4985777147114277,
         0.48329993709921837,
         0.49436564221978185,
         0.5052163176238537,
         0.5354031108319759,
         0.5091170705854893,
         0.5244053117930889,
         0.5114640049636364,
         0.5035229288041592,
         0.5040225885808468,
         0.48255126401782034,
         0.48826507702469824,
         0.5276327542960644,
         0.4906292863190174,
         0.5130795858800411,
         0.5201745621860028,
         0.5225306056439877,
         0.5048253037035465,
         0.49730480685830114,
         0.4743988446891308,
         0.4758832059800625,
         0.5172931022942067,
         0.48220977410674093,
         0.5088000766932964,
         0.5259617321193218,
         0.5227283604443074,
         0.4884163044393063,
         0.49230279549956324,
         0.4840943939983845,
         0.4904452957212925,
         0.5225316368043422,
         0.5331993453204632,
         0.4960612438619137,
         0.4921963565051556,
         0.48568204417824745,
         0.5074262417852878,
         0.49423200711607934,
         0.5057948224246502,
         0.5208369515836239,
         0.5017718829214572,
         0.5324691854417324,
         0.49053067788481713,
         0.5076784364879131,
         0.5072826392948627,
         0.48362362161278727,
         0.5412735782563687,
         0.49140059426426885,
         0.5239694856107235
        ],
        [
         9.790121302008629,
         9.805735692381859,
         9.879750922322273,
         9.760408326983452,
         9.940441623330116,
         10.073321208357811,
         9.961423978209496,
         10.0164485424757,
         9.972118183970451,
         10.254101976752281,
         10.25971220433712,
         10.331431165337563,
         9.824562057852745,
         10.293183490633965,
         9.845893993973732,
         9.517849460244179,
         10.002824440598488,
         10.363569244742393,
         10.752444103360176,
         9.993899270892143,
         9.6907067745924,
         10.296360924839973,
         9.640669092535973,
         9.837287858128548,
         10.422905549407005,
         10.385573104023933,
         10.135752126574516,
         10.303205952048302,
         10.381534233689308,
         10.043974295258522,
         9.871489718556404,
         10.09923641383648,
         10.438458874821663,
         10.46154223382473,
         9.565641567111015,
         10.285905197262764,
         9.773008301854134,
         10.40641139447689,
         9.7754595130682,
         9.696266010403633,
         10.083978220820427,
         10.015855595469475,
         10.255253359675407,
         10.577218934893608,
         10.33918671309948,
         10.152149870991707,
         9.636905118823051,
         10.761958792805672,
         9.929347142577171,
         10.206802234053612,
         9.867737099528313,
         10.326823130249977,
         9.971554294228554,
         9.665998741984367,
         9.887312844395638,
         10.104326352477074,
         10.708062216639519,
         10.182341411709785,
         10.488106235861778,
         10.229280099272728,
         10.070458576083183,
         10.080451771616936,
         9.651025280356407,
         9.765301540493965,
         10.552655085921288,
         9.812585726380348,
         10.261591717600822,
         10.403491243720055,
         10.450612112879753,
         10.09650607407093,
         9.946096137166023,
         9.487976893782616,
         9.51766411960125,
         10.345862045884132,
         9.644195482134819,
         10.176001533865929,
         10.519234642386436,
         10.454567208886147,
         9.768326088786125,
         9.846055909991264,
         9.68188787996769,
         9.80890591442585,
         10.450632736086845,
         10.663986906409264,
         9.921224877238274,
         9.843927130103111,
         9.713640883564949,
         10.148524835705757,
         9.884640142321587,
         10.115896448493004,
         10.416739031672478,
         10.035437658429146,
         10.649383708834648,
         9.810613557696342,
         10.153568729758263,
         10.145652785897255,
         9.672472432255745,
         10.825471565127373,
         9.828011885285378,
         10.47938971221447
        ],
        [
         3.0430463282450284,
         2.9051889874007197,
         2.860089591081226,
         2.869345845602684,
         2.918537242328308,
         3.0026024995281033,
         2.9790849313691843,
         3.0398622324114686,
         3.0298111271708614,
         3.0701481840299296,
         3.0801528821122055,
         3.3193552079956268,
         2.9657961025170096,
         3.1048556771598217,
         2.9407288828601366,
         2.8282270639138285,
         2.91160455289615,
         2.941627860759788,
         3.5161685531084026,
         2.9357104532016725,
         2.9043566438426027,
         3.1085605867274193,
         2.945659195353279,
         3.048621901560306,
         3.1041795985628555,
         3.1645389965501134,
         3.095447977028472,
         3.1499542662768727,
         3.2738340769792154,
         2.9654429531264466,
         3.021796883760045,
         3.0779301445483873,
         3.0474906016444563,
         3.090581814334109,
         2.8478244695672768,
         3.34158420807227,
         2.8766794926871304,
         3.25682278004485,
         2.902149463766594,
         2.8975164688371966,
         3.0312660880299167,
         3.160524354572538,
         3.0448243841845435,
         3.2034192127108283,
         2.9882580233642875,
         3.0098079915794456,
         2.8813665672222992,
         3.5483045679311886,
         3.0671553863711525,
         2.9742541950518597,
         2.9566791835474286,
         3.1391727375561445,
         3.062833785085659,
         2.8213404593478386,
         2.9639606611170475,
         3.1445020617829806,
         3.3550525834097225,
         2.997841730796291,
         3.3836990836576777,
         3.035460306339489,
         3.0011913195727176,
         2.9902265327949777,
         2.8980965117658304,
         2.9318410707338987,
         3.1690025435631974,
         2.889211732703936,
         3.015438849548868,
         3.1413581750371886,
         3.2259634752066066,
         2.9933957066194226,
         2.9765893036591815,
         2.8595321191666216,
         2.9055840544083225,
         3.1275797217615375,
         2.89867714076758,
         2.9696465025201633,
         3.1463253846302104,
         3.162855847159721,
         3.1076815185766913,
         2.9837992979413737,
         2.88753454394071,
         2.944225167836239,
         3.169257343577899,
         3.2879621301770707,
         3.0661591456554276,
         2.8491382319025025,
         2.9810386682520424,
         3.068818509313022,
         3.031970283177248,
         3.0229731306545635,
         3.1443234114446637,
         3.130194880524269,
         3.18830297720684,
         2.9448055165316163,
         3.2327258943242243,
         3.0172893270220262,
         3.004376798306115,
         3.5680200549143444,
         2.9725259145612624,
         3.279954205938983
        ]
       ],
       "encoder": "json",
       "name": "ABC_GAN_2 Metrics",
       "version": 1
      }
     },
     "metadata": {
      "scrapbook": {
       "data": true,
       "display": false,
       "name": "ABC_GAN_2 Metrics"
      }
     },
     "output_type": "display_data"
    },
    {
     "name": "stdout",
     "output_type": "stream",
     "text": [
      "MAE\n",
      "0.5043207483738661\n"
     ]
    }
   ],
   "source": [
    "ABC_GAN2_metrics=ABC_train_test2.test_generator(gen2,test_data,prior_model,variance,bias,\"1\",device)\n",
    "sb.glue(\"ABC_GAN_2 Metrics\",ABC_GAN2_metrics)\n",
    "\n",
    "print(\"MAE\")\n",
    "print(mean(ABC_GAN2_metrics[1]))"
   ]
  },
  {
   "cell_type": "code",
   "execution_count": 18,
   "id": "c361490f",
   "metadata": {
    "execution": {
     "iopub.execute_input": "2022-07-22T10:29:13.008588Z",
     "iopub.status.busy": "2022-07-22T10:29:13.008053Z",
     "iopub.status.idle": "2022-07-22T10:29:13.903994Z",
     "shell.execute_reply": "2022-07-22T10:29:13.902494Z"
    },
    "papermill": {
     "duration": 0.926636,
     "end_time": "2022-07-22T10:29:13.906881",
     "exception": false,
     "start_time": "2022-07-22T10:29:12.980245",
     "status": "completed"
    },
    "tags": []
   },
   "outputs": [
    {
     "data": {
      "image/png": "[encoded data removed]",
      "text/plain": [
       "<Figure size 432x288 with 1 Axes>"
      ]
     },
     "metadata": {
      "needs_background": "light"
     },
     "output_type": "display_data"
    },
    {
     "data": {
      "image/png": "[encoded data removed]",
      "text/plain": [
       "<Figure size 432x288 with 1 Axes>"
      ]
     },
     "metadata": {
      "needs_background": "light"
     },
     "output_type": "display_data"
    },
    {
     "data": {
      "image/png": "[encoded data removed]",
      "text/plain": [
       "<Figure size 432x288 with 1 Axes>"
      ]
     },
     "metadata": {
      "needs_background": "light"
     },
     "output_type": "display_data"
    },
    {
     "data": {
      "image/png": "[encoded data removed]",
      "text/plain": [
       "<Figure size 432x288 with 1 Axes>"
      ]
     },
     "metadata": {
      "needs_background": "light"
     },
     "output_type": "display_data"
    }
   ],
   "source": [
    "sanityChecks.discProbVsError(train_data,disc2,device)\n",
    "sanityChecks.discProbVsError(test_data,disc2,device)"
   ]
  },
  {
   "cell_type": "markdown",
   "id": "130f3a4d",
   "metadata": {
    "id": "130f3a4d",
    "papermill": {
     "duration": 0.024848,
     "end_time": "2022-07-22T10:29:13.955139",
     "exception": false,
     "start_time": "2022-07-22T10:29:13.930291",
     "status": "completed"
    },
    "tags": []
   },
   "source": [
    "# skipGAN Model"
   ]
  },
  {
   "cell_type": "code",
   "execution_count": 19,
   "id": "4e43dad1",
   "metadata": {
    "execution": {
     "iopub.execute_input": "2022-07-22T10:29:14.005494Z",
     "iopub.status.busy": "2022-07-22T10:29:14.005115Z",
     "iopub.status.idle": "2022-07-22T10:29:14.010239Z",
     "shell.execute_reply": "2022-07-22T10:29:14.008874Z"
    },
    "id": "4e43dad1",
    "papermill": {
     "duration": 0.036385,
     "end_time": "2022-07-22T10:29:14.015152",
     "exception": false,
     "start_time": "2022-07-22T10:29:13.978767",
     "status": "completed"
    },
    "tags": []
   },
   "outputs": [],
   "source": [
    "# #Generator\n",
    "# gen3 = network.GeneratorWithSkipConnection(n_features+1).to(device)\n",
    "# constraints=network.weightConstraint()\n",
    "# #Discriminator \n",
    "# disc3 = network.Discriminator(n_features+1).to(device)\n",
    "\n",
    "# criterion = torch.nn.BCELoss()\n",
    "# gen_opt = torch.optim.Adam(gen3.parameters(), lr=0.01, betas=(0.5, 0.999))\n",
    "# disc_opt = torch.optim.Adam(disc3.parameters(), lr=0.01, betas=(0.5, 0.999))\n"
   ]
  },
  {
   "cell_type": "code",
   "execution_count": 20,
   "id": "26acbc37",
   "metadata": {
    "execution": {
     "iopub.execute_input": "2022-07-22T10:29:14.074836Z",
     "iopub.status.busy": "2022-07-22T10:29:14.073612Z",
     "iopub.status.idle": "2022-07-22T10:29:14.081581Z",
     "shell.execute_reply": "2022-07-22T10:29:14.079616Z"
    },
    "id": "26acbc37",
    "papermill": {
     "duration": 0.048895,
     "end_time": "2022-07-22T10:29:14.095819",
     "exception": false,
     "start_time": "2022-07-22T10:29:14.046924",
     "status": "completed"
    },
    "tags": []
   },
   "outputs": [],
   "source": [
    "# ABC_train_test2.training_GAN_skip_connection(disc3,gen3,disc_opt,gen_opt,train_data,batch_size,n_epochs,criterion,prior_model,variance,bias,device)"
   ]
  },
  {
   "cell_type": "code",
   "execution_count": 21,
   "id": "c5e0717b",
   "metadata": {
    "execution": {
     "iopub.execute_input": "2022-07-22T10:29:14.158181Z",
     "iopub.status.busy": "2022-07-22T10:29:14.157516Z",
     "iopub.status.idle": "2022-07-22T10:29:14.162544Z",
     "shell.execute_reply": "2022-07-22T10:29:14.161417Z"
    },
    "id": "c5e0717b",
    "papermill": {
     "duration": 0.044089,
     "end_time": "2022-07-22T10:29:14.165748",
     "exception": false,
     "start_time": "2022-07-22T10:29:14.121659",
     "status": "completed"
    },
    "tags": []
   },
   "outputs": [],
   "source": [
    "# ABC_GAN3_metrics=ABC_train_test2.test_generator(gen3,test_data,prior_model,variance,bias,\"3\",device)\n",
    "# sb.glue(\"ABC_GAN_3 Metrics\",ABC_GAN3_metrics)\n",
    "\n",
    "# print(\"MAE\")\n",
    "# print(mean(ABC_GAN3_metrics[1]))"
   ]
  },
  {
   "cell_type": "code",
   "execution_count": 22,
   "id": "c8e46b48",
   "metadata": {
    "execution": {
     "iopub.execute_input": "2022-07-22T10:29:14.218943Z",
     "iopub.status.busy": "2022-07-22T10:29:14.218283Z",
     "iopub.status.idle": "2022-07-22T10:29:14.223309Z",
     "shell.execute_reply": "2022-07-22T10:29:14.222066Z"
    },
    "id": "c8e46b48",
    "papermill": {
     "duration": 0.034896,
     "end_time": "2022-07-22T10:29:14.226841",
     "exception": false,
     "start_time": "2022-07-22T10:29:14.191945",
     "status": "completed"
    },
    "tags": []
   },
   "outputs": [],
   "source": [
    "# sanityChecks.discProbVsError(train_data,disc3,device)\n",
    "# sanityChecks.discProbVsError(test_data,disc3,device)"
   ]
  },
  {
   "cell_type": "markdown",
   "id": "bd7fec32",
   "metadata": {
    "id": "130f3a4d",
    "papermill": {
     "duration": 0.023826,
     "end_time": "2022-07-22T10:29:14.279850",
     "exception": false,
     "start_time": "2022-07-22T10:29:14.256024",
     "status": "completed"
    },
    "tags": []
   },
   "source": [
    "# skipGAN Model with TabNet Generator"
   ]
  },
  {
   "cell_type": "code",
   "execution_count": 23,
   "id": "22f22fba",
   "metadata": {
    "execution": {
     "iopub.execute_input": "2022-07-22T10:29:14.350810Z",
     "iopub.status.busy": "2022-07-22T10:29:14.350132Z",
     "iopub.status.idle": "2022-07-22T10:29:14.370653Z",
     "shell.execute_reply": "2022-07-22T10:29:14.369554Z"
    },
    "id": "4e43dad1",
    "papermill": {
     "duration": 0.065185,
     "end_time": "2022-07-22T10:29:14.375614",
     "exception": false,
     "start_time": "2022-07-22T10:29:14.310429",
     "status": "completed"
    },
    "tags": []
   },
   "outputs": [],
   "source": [
    "#Generator\n",
    "gen4 = network.GeneratorTabnetskipConnection(n_features+1).to(device)\n",
    "constraints=network.weightConstraint()\n",
    "#Discriminator \n",
    "disc4 = network.Discriminator(n_features+1).to(device)\n",
    "\n",
    "criterion = torch.nn.BCELoss()\n",
    "gen_opt = torch.optim.Adam(gen4.parameters(), lr=0.001, betas=(0.5, 0.999))\n",
    "disc_opt = torch.optim.Adam(disc4.parameters(), lr=0.001, betas=(0.5, 0.999))\n"
   ]
  },
  {
   "cell_type": "code",
   "execution_count": 24,
   "id": "5bc84904",
   "metadata": {
    "execution": {
     "iopub.execute_input": "2022-07-22T10:29:14.426463Z",
     "iopub.status.busy": "2022-07-22T10:29:14.425943Z",
     "iopub.status.idle": "2022-07-22T10:32:58.914989Z",
     "shell.execute_reply": "2022-07-22T10:32:58.913535Z"
    },
    "id": "26acbc37",
    "papermill": {
     "duration": 224.524487,
     "end_time": "2022-07-22T10:32:58.924531",
     "exception": false,
     "start_time": "2022-07-22T10:29:14.400044",
     "status": "completed"
    },
    "tags": []
   },
   "outputs": [
    {
     "data": {
      "image/png": "[encoded data removed]",
      "text/plain": [
       "<Figure size 432x288 with 1 Axes>"
      ]
     },
     "metadata": {
      "needs_background": "light"
     },
     "output_type": "display_data"
    },
    {
     "data": {
      "image/png": "[encoded data removed]",
      "text/plain": [
       "<Figure size 432x288 with 1 Axes>"
      ]
     },
     "metadata": {
      "needs_background": "light"
     },
     "output_type": "display_data"
    }
   ],
   "source": [
    "ABC_train_test2.training_GAN_skip_connection(disc4,gen4,disc_opt,gen_opt,train_data,batch_size,n_epochs,criterion,prior_model,variance,bias,device)"
   ]
  },
  {
   "cell_type": "code",
   "execution_count": 25,
   "id": "30ef1eba",
   "metadata": {
    "execution": {
     "iopub.execute_input": "2022-07-22T10:32:59.035682Z",
     "iopub.status.busy": "2022-07-22T10:32:59.033812Z",
     "iopub.status.idle": "2022-07-22T10:33:02.187082Z",
     "shell.execute_reply": "2022-07-22T10:33:02.184755Z"
    },
    "id": "c5e0717b",
    "papermill": {
     "duration": 3.215011,
     "end_time": "2022-07-22T10:33:02.190738",
     "exception": false,
     "start_time": "2022-07-22T10:32:58.975727",
     "status": "completed"
    },
    "tags": []
   },
   "outputs": [
    {
     "data": {
      "application/scrapbook.scrap.json+json": {
       "data": 0.3164793908457756,
       "encoder": "json",
       "name": "ABC-GAN Model 3 MSE",
       "version": 1
      }
     },
     "metadata": {
      "scrapbook": {
       "data": true,
       "display": false,
       "name": "ABC-GAN Model 3 MSE"
      }
     },
     "output_type": "display_data"
    },
    {
     "data": {
      "application/scrapbook.scrap.json+json": {
       "data": 0.4406715203896165,
       "encoder": "json",
       "name": "ABC-GAN Model 3 MAE",
       "version": 1
      }
     },
     "metadata": {
      "scrapbook": {
       "data": true,
       "display": false,
       "name": "ABC-GAN Model 3 MAE"
      }
     },
     "output_type": "display_data"
    },
    {
     "data": {
      "application/scrapbook.scrap.json+json": {
       "data": 8.81343040779233,
       "encoder": "json",
       "name": "ABC-GAN Model 3 Manhattan Distance",
       "version": 1
      }
     },
     "metadata": {
      "scrapbook": {
       "data": true,
       "display": false,
       "name": "ABC-GAN Model 3 Manhattan Distance"
      }
     },
     "output_type": "display_data"
    },
    {
     "data": {
      "application/scrapbook.scrap.json+json": {
       "data": 2.489718986771607,
       "encoder": "json",
       "name": "ABC-GAN Model 3 Euclidean distance",
       "version": 1
      }
     },
     "metadata": {
      "scrapbook": {
       "data": true,
       "display": false,
       "name": "ABC-GAN Model 3 Euclidean distance"
      }
     },
     "output_type": "display_data"
    },
    {
     "data": {
      "application/scrapbook.scrap.json+json": {
       "data": [
        [
         0.35438200797330166,
         0.33126412796438826,
         0.27421523941311443,
         0.5394448556732465,
         0.23755261929543195,
         0.4872867517232571,
         0.2679282963390614,
         0.28363481544752445,
         0.2628042828980001,
         0.3889266777969112,
         0.26433506373737636,
         0.5462451556128453,
         0.35995372269776704,
         0.20498188806745699,
         0.20854613028741764,
         0.2560618357064973,
         0.36217654402052785,
         0.2478073020443198,
         0.30918713295309713,
         0.3297328482359302,
         0.28391540847644653,
         0.2534260347341962,
         0.27692376393722407,
         0.27539081874987636,
         0.24003423322036457,
         0.3571440625529788,
         0.438196915502507,
         0.23144167003585978,
         0.3528377611350562,
         0.5192682033523841,
         0.33756620343863114,
         0.2339405656512358,
         0.3355740956250061,
         0.4169129636857808,
         0.2337518267704568,
         0.16537289148288534,
         0.2745979405816258,
         0.39623592353221027,
         0.564642709682978,
         0.16946753276825444,
         0.28310357665599134,
         0.25583220289821457,
         0.28640087064195013,
         0.3095271747680775,
         0.22481918517817362,
         0.28803706686862596,
         0.4184328204341964,
         0.18502730789880567,
         0.2807047127226786,
         0.4839271049127659,
         0.21135788838292574,
         0.4778614579406938,
         0.2942769958199325,
         0.2423578246902125,
         0.4233456062902551,
         0.4407037939821528,
         0.2946383832406384,
         0.25015503302789927,
         0.502003949812135,
         0.20921162366574647,
         0.409865476698916,
         0.2487886461231835,
         0.40172395677161604,
         0.2802342100992519,
         0.216421051208635,
         0.46066569013142133,
         0.20169370648294258,
         0.43170157364855594,
         0.3003509492230655,
         0.23335945668496155,
         0.3798223426368008,
         0.18042032597677315,
         0.408594614467237,
         0.41898386067665994,
         0.2423586132335354,
         0.35783718420385086,
         0.19538871481746903,
         0.27700381948928215,
         0.34694755640510616,
         0.3443917868203673,
         0.24141606399765267,
         0.39844390699782956,
         0.4178180507413395,
         0.26992482826996356,
         0.29225540298119,
         0.376209727120841,
         0.21808653517436377,
         0.31684897051310423,
         0.33910941982679654,
         0.142693975147805,
         0.38190648334950816,
         0.23204933347185466,
         0.349019261180444,
         0.2405162644609186,
         0.3586792768681816,
         0.26390075532817653,
         0.34941640693963716,
         0.26672328099581155,
         0.26998175618805664,
         0.3515524465889516
        ],
        [
         0.48178251311182974,
         0.4188958015292883,
         0.3949668787419796,
         0.5438974909484386,
         0.35427353009581564,
         0.5185649745166302,
         0.40312783494591714,
         0.4355385024100542,
         0.3556852154433727,
         0.4845427319407463,
         0.428706006705761,
         0.5372145518660545,
         0.45637188516557214,
         0.3800798632204533,
         0.3623830422759056,
         0.45386645048856733,
         0.5261040486395359,
         0.3924402974545956,
         0.4596548840403557,
         0.4929799817502499,
         0.41036580353975294,
         0.3946272123605013,
         0.36497817412018774,
         0.4630109168589115,
         0.37769617065787314,
         0.42513277381658554,
         0.46357995495200155,
         0.39132594391703607,
         0.4653922952711582,
         0.5429573461413384,
         0.42750821337103845,
         0.4075470954179764,
         0.4473721094429493,
         0.5037230856716632,
         0.40351504161953927,
         0.3438850685954094,
         0.4724103331565857,
         0.46553532406687737,
         0.619463399797678,
         0.3331874400377274,
         0.4030632294714451,
         0.39097100123763084,
         0.4611643966287374,
         0.4735427513718605,
         0.39255929961800573,
         0.43925595059990885,
         0.4991500427946448,
         0.34762194827198983,
         0.410609021037817,
         0.49761609621346,
         0.36085938587784766,
         0.4957753725349903,
         0.4287089936435223,
         0.39650965966284274,
         0.4560822002589703,
         0.5330897264182568,
         0.4407936565577984,
         0.4046965576708317,
         0.5639194574207067,
         0.38307031616568565,
         0.4494100384414196,
         0.4475700184702873,
         0.5448939749971032,
         0.42688906714320185,
         0.39773375205695627,
         0.5614559568464756,
         0.3888108767569065,
         0.4844526030123234,
         0.410359750688076,
         0.4223445639014244,
         0.4636891566216946,
         0.33063967153429985,
         0.5114981710910798,
         0.4756229266524315,
         0.41976270601153376,
         0.46940802335739135,
         0.3790408827364445,
         0.3844483084976673,
         0.40315371230244634,
         0.49614071622490885,
         0.4140962459146976,
         0.5118018791079522,
         0.5237807124853134,
         0.41971740648150446,
         0.451807614415884,
         0.5040312059223652,
         0.4007002837955952,
         0.4596076712012291,
         0.4216058574616909,
         0.2919148735702038,
         0.47406175658106803,
         0.3765347570180893,
         0.4842457599937916,
         0.3727692548185587,
         0.525718892365694,
         0.4024961173534393,
         0.4952579654753208,
         0.4317662887275219,
         0.399582264572382,
         0.4549811027944088
        ],
        [
         9.635650262236595,
         8.377916030585766,
         7.899337574839592,
         10.877949818968773,
         7.085470601916313,
         10.371299490332603,
         8.062556698918343,
         8.710770048201084,
         7.1137043088674545,
         9.690854638814926,
         8.57412013411522,
         10.74429103732109,
         9.127437703311443,
         7.601597264409065,
         7.247660845518112,
         9.077329009771347,
         10.522080972790718,
         7.848805949091911,
         9.193097680807114,
         9.859599635004997,
         8.20731607079506,
         7.892544247210026,
         7.299563482403755,
         9.26021833717823,
         7.553923413157463,
         8.50265547633171,
         9.271599099040031,
         7.826518878340721,
         9.307845905423164,
         10.859146922826767,
         8.550164267420769,
         8.150941908359528,
         8.947442188858986,
         10.074461713433266,
         8.070300832390785,
         6.877701371908188,
         9.448206663131714,
         9.310706481337547,
         12.38926799595356,
         6.663748800754547,
         8.061264589428902,
         7.819420024752617,
         9.223287932574749,
         9.47085502743721,
         7.851185992360115,
         8.785119011998177,
         9.983000855892897,
         6.9524389654397964,
         8.21218042075634,
         9.9523219242692,
         7.217187717556953,
         9.915507450699806,
         8.574179872870445,
         7.930193193256855,
         9.121644005179405,
         10.661794528365135,
         8.815873131155968,
         8.093931153416634,
         11.278389148414135,
         7.661406323313713,
         8.988200768828392,
         8.951400369405746,
         10.897879499942064,
         8.537781342864037,
         7.954675041139126,
         11.229119136929512,
         7.77621753513813,
         9.689052060246468,
         8.20719501376152,
         8.446891278028488,
         9.273783132433891,
         6.612793430685997,
         10.229963421821594,
         9.51245853304863,
         8.395254120230675,
         9.388160467147827,
         7.5808176547288895,
         7.688966169953346,
         8.063074246048927,
         9.922814324498177,
         8.281924918293953,
         10.236037582159042,
         10.475614249706268,
         8.394348129630089,
         9.03615228831768,
         10.080624118447304,
         8.014005675911903,
         9.192153424024582,
         8.432117149233818,
         5.838297471404076,
         9.48123513162136,
         7.530695140361786,
         9.684915199875832,
         7.455385096371174,
         10.514377847313881,
         8.049922347068787,
         9.905159309506416,
         8.635325774550438,
         7.9916452914476395,
         9.099622055888176
        ],
        [
         2.6622622259022557,
         2.573962423829797,
         2.3418592588501745,
         3.284645660260012,
         2.1796908922846465,
         3.1218159834405905,
         2.3148576471958764,
         2.3817422843268514,
         2.2926154622962835,
         2.789002250974033,
         2.299282773985733,
         3.305284119747787,
         2.6831091021341904,
         2.024756222696732,
         2.04228367416193,
         2.263014961092822,
         2.691380850123326,
         2.22624033762898,
         2.4867132241297836,
         2.5680064183561933,
         2.382920092980235,
         2.251337534596695,
         2.353396540905183,
         2.3468737450057953,
         2.1910464770075717,
         2.672616929352124,
         2.960394958455736,
         2.151472379724452,
         2.6564553869209107,
         3.2226330953193667,
         2.598331016012514,
         2.163056012456616,
         2.590652796593963,
         2.887604417803037,
         2.162183279791317,
         1.8186417540729969,
         2.3434928657097545,
         2.815087648838701,
         3.360484220117625,
         1.8410189177097254,
         2.3795107760041403,
         2.2620000128126194,
         2.393327686055339,
         2.4880802831423163,
         2.120467803000902,
         2.400154440316814,
         2.892863012429715,
         1.92368036793437,
         2.3694079966214288,
         3.1110355347143366,
         2.056005293684458,
         3.0914768572340754,
         2.4260131731708814,
         2.2016258750760196,
         2.90979589074648,
         2.9688509359082103,
         2.4275023511446427,
         2.2367611988225264,
         3.1686083690230165,
         2.045539653322548,
         2.863094398370113,
         2.230644060011294,
         2.8345156791650177,
         2.3674214246696845,
         2.0804857663951224,
         3.0353440995426575,
         2.0084506789211556,
         2.938372248877109,
         2.4509220682145956,
         2.16036782370485,
         2.756165244091148,
         1.8995806167508298,
         2.858652180546759,
         2.8947672123217782,
         2.201629456713983,
         2.675209091655644,
         1.976809119856892,
         2.3537366865870197,
         2.6341888937777647,
         2.62446865792056,
         2.197344142357554,
         2.8229201440984104,
         2.8907371057961653,
         2.3234664975848633,
         2.4176658287744814,
         2.7430265296596787,
         2.0884756889864136,
         2.5173357762249524,
         2.60426350366777,
         1.689342920474141,
         2.763716640140621,
         2.1542949355733754,
         2.642041866361864,
         2.193245378250772,
         2.6783550058503507,
         2.2973931110202996,
         2.643544616380201,
         2.309646210984754,
         2.323711497531725,
         2.651612515391159
        ]
       ],
       "encoder": "json",
       "name": "ABC_GAN_4 Metrics",
       "version": 1
      }
     },
     "metadata": {
      "scrapbook": {
       "data": true,
       "display": false,
       "name": "ABC_GAN_4 Metrics"
      }
     },
     "output_type": "display_data"
    },
    {
     "name": "stdout",
     "output_type": "stream",
     "text": [
      "MAE\n",
      "0.4406715203896165\n"
     ]
    }
   ],
   "source": [
    "ABC_GAN4_metrics=ABC_train_test2.test_generator(gen4,test_data,prior_model,variance,bias,\"3\",device)\n",
    "sb.glue(\"ABC_GAN_4 Metrics\",ABC_GAN4_metrics)\n",
    "\n",
    "print(\"MAE\")\n",
    "print(mean(ABC_GAN4_metrics[1]))"
   ]
  },
  {
   "cell_type": "code",
   "execution_count": 26,
   "id": "ec1687fc",
   "metadata": {
    "execution": {
     "iopub.execute_input": "2022-07-22T10:33:02.277665Z",
     "iopub.status.busy": "2022-07-22T10:33:02.277178Z",
     "iopub.status.idle": "2022-07-22T10:33:03.824125Z",
     "shell.execute_reply": "2022-07-22T10:33:03.822016Z"
    },
    "id": "c8e46b48",
    "papermill": {
     "duration": 1.59773,
     "end_time": "2022-07-22T10:33:03.827673",
     "exception": false,
     "start_time": "2022-07-22T10:33:02.229943",
     "status": "completed"
    },
    "tags": []
   },
   "outputs": [
    {
     "data": {
      "image/png": "[encoded data removed]",
      "text/plain": [
       "<Figure size 432x288 with 1 Axes>"
      ]
     },
     "metadata": {
      "needs_background": "light"
     },
     "output_type": "display_data"
    },
    {
     "data": {
      "image/png": "[encoded data removed]",
      "text/plain": [
       "<Figure size 432x288 with 1 Axes>"
      ]
     },
     "metadata": {
      "needs_background": "light"
     },
     "output_type": "display_data"
    },
    {
     "data": {
      "image/png": "[encoded data removed]",
      "text/plain": [
       "<Figure size 432x288 with 1 Axes>"
      ]
     },
     "metadata": {
      "needs_background": "light"
     },
     "output_type": "display_data"
    },
    {
     "data": {
      "image/png": "[encoded data removed]",
      "text/plain": [
       "<Figure size 432x288 with 1 Axes>"
      ]
     },
     "metadata": {
      "needs_background": "light"
     },
     "output_type": "display_data"
    }
   ],
   "source": [
    "sanityChecks.discProbVsError(train_data,disc4,device)\n",
    "sanityChecks.discProbVsError(test_data,disc4,device)"
   ]
  },
  {
   "cell_type": "markdown",
   "id": "a5bd74c3",
   "metadata": {
    "id": "a5bd74c3",
    "papermill": {
     "duration": 0.044112,
     "end_time": "2022-07-22T10:33:03.917485",
     "exception": false,
     "start_time": "2022-07-22T10:33:03.873373",
     "status": "completed"
    },
    "tags": []
   },
   "source": [
    "## Skip Connection Model Analysis - ABC-GAN "
   ]
  },
  {
   "cell_type": "markdown",
   "id": "5744a8bf",
   "metadata": {
    "id": "5744a8bf",
    "papermill": {
     "duration": 0.03844,
     "end_time": "2022-07-22T10:33:04.002373",
     "exception": false,
     "start_time": "2022-07-22T10:33:03.963933",
     "status": "completed"
    },
    "tags": []
   },
   "source": [
    "### Weight Analysis \n",
    "\n",
    "Study the weights of the skip connection layer\n",
    "\n",
    "Equation of the skip connection is \n",
    "\n",
    "$output = y_{gan} * w + y_{abc} * (1-w)$"
   ]
  },
  {
   "cell_type": "code",
   "execution_count": 27,
   "id": "52c31dea",
   "metadata": {
    "execution": {
     "iopub.execute_input": "2022-07-22T10:33:04.101943Z",
     "iopub.status.busy": "2022-07-22T10:33:04.100891Z",
     "iopub.status.idle": "2022-07-22T10:33:04.109191Z",
     "shell.execute_reply": "2022-07-22T10:33:04.106730Z"
    },
    "id": "52c31dea",
    "papermill": {
     "duration": 0.06871,
     "end_time": "2022-07-22T10:33:04.113327",
     "exception": false,
     "start_time": "2022-07-22T10:33:04.044617",
     "status": "completed"
    },
    "tags": []
   },
   "outputs": [],
   "source": [
    "# print(\"Weight of the node at skip connection\")\n",
    "# for name,param in gen3.named_parameters():\n",
    "#     if(name == \"skipNode.weight\"):\n",
    "#         print(param)\n",
    "#         sb.glue(\"Skip Connection Weight\",param.item())"
   ]
  },
  {
   "cell_type": "markdown",
   "id": "9898e790",
   "metadata": {
    "id": "a5bd74c3",
    "papermill": {
     "duration": 0.059884,
     "end_time": "2022-07-22T10:33:04.224023",
     "exception": false,
     "start_time": "2022-07-22T10:33:04.164139",
     "status": "completed"
    },
    "tags": []
   },
   "source": [
    "## skipGAN Model Analysis (TabNet Generator) "
   ]
  },
  {
   "cell_type": "markdown",
   "id": "947ac299",
   "metadata": {
    "id": "5744a8bf",
    "papermill": {
     "duration": 0.049038,
     "end_time": "2022-07-22T10:33:04.321634",
     "exception": false,
     "start_time": "2022-07-22T10:33:04.272596",
     "status": "completed"
    },
    "tags": []
   },
   "source": [
    "### Weight Analysis \n",
    "\n",
    "Study the weights of the skip connection layer\n",
    "\n",
    "Equation of the skip connection is \n",
    "\n",
    "$output = y_{gan} * w + y_{abc} * (1-w)$"
   ]
  },
  {
   "cell_type": "code",
   "execution_count": 28,
   "id": "ee16f2d2",
   "metadata": {
    "execution": {
     "iopub.execute_input": "2022-07-22T10:33:04.416876Z",
     "iopub.status.busy": "2022-07-22T10:33:04.415977Z",
     "iopub.status.idle": "2022-07-22T10:33:04.436255Z",
     "shell.execute_reply": "2022-07-22T10:33:04.434221Z"
    },
    "id": "52c31dea",
    "papermill": {
     "duration": 0.079031,
     "end_time": "2022-07-22T10:33:04.443512",
     "exception": false,
     "start_time": "2022-07-22T10:33:04.364481",
     "status": "completed"
    },
    "tags": []
   },
   "outputs": [
    {
     "name": "stdout",
     "output_type": "stream",
     "text": [
      "Weight of the node at skip connection\n",
      "Parameter containing:\n",
      "tensor([[0.5762]], requires_grad=True)\n"
     ]
    },
    {
     "data": {
      "application/scrapbook.scrap.json+json": {
       "data": 0.5761887431144714,
       "encoder": "json",
       "name": "Skip Connection Weight",
       "version": 1
      }
     },
     "metadata": {
      "scrapbook": {
       "data": true,
       "display": false,
       "name": "Skip Connection Weight"
      }
     },
     "output_type": "display_data"
    }
   ],
   "source": [
    "print(\"Weight of the node at skip connection\")\n",
    "for name,param in gen4.named_parameters():\n",
    "    if(name == \"skipNode.weight\"):\n",
    "        print(param)\n",
    "        sb.glue(\"Skip Connection Weight\",param.item())"
   ]
  }
 ],
 "metadata": {
  "colab": {
   "collapsed_sections": [],
   "name": "ABC_GAN_Model-Catboost_Pre-gen.ipynb",
   "provenance": []
  },
  "interpreter": {
   "hash": "31f2aee4e71d21fbe5cf8b01ff0e069b9275f58929596ceb00d14d90e3e16cd6"
  },
  "kernelspec": {
   "display_name": "Python 3 (ipykernel)",
   "language": "python",
   "name": "python3"
  },
  "language_info": {
   "codemirror_mode": {
    "name": "ipython",
    "version": 3
   },
   "file_extension": ".py",
   "mimetype": "text/x-python",
   "name": "python",
   "nbconvert_exporter": "python",
   "pygments_lexer": "ipython3",
   "version": "3.8.9"
  },
  "papermill": {
   "default_parameters": {},
   "duration": 472.597366,
   "end_time": "2022-07-22T10:33:05.461266",
   "environment_variables": {},
   "exception": null,
   "input_path": "ABC_GAN-TabNet.ipynb",
   "output_path": "./ABC_GAN_TabNet/ABC-GAN_output_2_6.ipynb",
   "parameters": {
    "bias": 0.01,
    "variance": 1
   },
   "start_time": "2022-07-22T10:25:12.863900",
   "version": "2.3.3"
  }
 },
 "nbformat": 4,
 "nbformat_minor": 5
}
