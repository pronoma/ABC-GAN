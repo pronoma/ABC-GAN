{
 "cells": [
  {
   "cell_type": "code",
   "execution_count": 1,
   "id": "423b7ca4",
   "metadata": {
    "execution": {
     "iopub.execute_input": "2022-07-06T05:36:49.251814Z",
     "iopub.status.busy": "2022-07-06T05:36:49.251373Z",
     "iopub.status.idle": "2022-07-06T05:36:49.293377Z",
     "shell.execute_reply": "2022-07-06T05:36:49.277886Z"
    },
    "papermill": {
     "duration": 0.142495,
     "end_time": "2022-07-06T05:36:49.379449",
     "exception": false,
     "start_time": "2022-07-06T05:36:49.236954",
     "status": "completed"
    },
    "tags": []
   },
   "outputs": [],
   "source": [
    "import warnings\n",
    "warnings.filterwarnings('ignore')"
   ]
  },
  {
   "cell_type": "code",
   "execution_count": 2,
   "id": "618121c9",
   "metadata": {
    "execution": {
     "iopub.execute_input": "2022-07-06T05:36:49.391199Z",
     "iopub.status.busy": "2022-07-06T05:36:49.390833Z",
     "iopub.status.idle": "2022-07-06T05:36:52.939647Z",
     "shell.execute_reply": "2022-07-06T05:36:52.938572Z"
    },
    "papermill": {
     "duration": 3.559339,
     "end_time": "2022-07-06T05:36:52.943096",
     "exception": false,
     "start_time": "2022-07-06T05:36:49.383757",
     "status": "completed"
    },
    "tags": []
   },
   "outputs": [],
   "source": [
    "import scrapbook as sb \n",
    "import pandas as pd\n",
    "import numpy as np \n",
    "import seaborn as sns \n",
    "import numpy as np\n",
    "from statistics import mean , median\n",
    "import matplotlib.pyplot as plt"
   ]
  },
  {
   "cell_type": "markdown",
   "id": "8842137f",
   "metadata": {
    "papermill": {
     "duration": 0.005024,
     "end_time": "2022-07-06T05:36:52.952787",
     "exception": false,
     "start_time": "2022-07-06T05:36:52.947763",
     "status": "completed"
    },
    "tags": []
   },
   "source": [
    "# Baseline "
   ]
  },
  {
   "cell_type": "code",
   "execution_count": 3,
   "id": "a9dce367",
   "metadata": {
    "execution": {
     "iopub.execute_input": "2022-07-06T05:36:53.012065Z",
     "iopub.status.busy": "2022-07-06T05:36:53.011705Z",
     "iopub.status.idle": "2022-07-06T05:36:53.246697Z",
     "shell.execute_reply": "2022-07-06T05:36:53.246136Z"
    },
    "papermill": {
     "duration": 0.242677,
     "end_time": "2022-07-06T05:36:53.248883",
     "exception": false,
     "start_time": "2022-07-06T05:36:53.006206",
     "status": "completed"
    },
    "tags": []
   },
   "outputs": [
    {
     "name": "stdout",
     "output_type": "stream",
     "text": [
      "0.5634902902217045\n",
      "0.42156855611876876\n"
     ]
    }
   ],
   "source": [
    "books = sb.read_notebooks(\"./BaseLine_Model_Output\")\n",
    "baseLine_data = []\n",
    "for nb in books.notebooks: \n",
    "    nbList=[nb.scraps['Stats Model MAE'].data,nb.scraps['Catboost MAE'].data]\n",
    "    baseLine_data.append(nbList)\n",
    "df = pd.DataFrame(baseLine_data, columns = [\"Stats Model\",\"Catboost\"])\n",
    "baseline_data = np.array(baseLine_data)\n",
    "stats = median(baseline_data[:,0])\n",
    "catboost = median(baseline_data[:,1])\n",
    "print(stats)\n",
    "print(catboost)"
   ]
  },
  {
   "cell_type": "markdown",
   "id": "2ef4d014",
   "metadata": {
    "papermill": {
     "duration": 0.00315,
     "end_time": "2022-07-06T05:36:53.255207",
     "exception": false,
     "start_time": "2022-07-06T05:36:53.252057",
     "status": "completed"
    },
    "tags": []
   },
   "source": [
    "# GAN Model"
   ]
  },
  {
   "cell_type": "code",
   "execution_count": 4,
   "id": "ce2d028d",
   "metadata": {
    "execution": {
     "iopub.execute_input": "2022-07-06T05:36:53.265726Z",
     "iopub.status.busy": "2022-07-06T05:36:53.264966Z",
     "iopub.status.idle": "2022-07-06T05:36:54.949187Z",
     "shell.execute_reply": "2022-07-06T05:36:54.948381Z"
    },
    "papermill": {
     "duration": 1.692936,
     "end_time": "2022-07-06T05:36:54.951627",
     "exception": false,
     "start_time": "2022-07-06T05:36:53.258691",
     "status": "completed"
    },
    "tags": []
   },
   "outputs": [
    {
     "data": {
      "text/html": [
       "<style type=\"text/css\">\n",
       "</style>\n",
       "<table id=\"T_41b3c\">\n",
       "  <thead>\n",
       "    <tr>\n",
       "      <th class=\"blank level0\" >&nbsp;</th>\n",
       "      <th id=\"T_41b3c_level0_col0\" class=\"col_heading level0 col0\" >MSE</th>\n",
       "      <th id=\"T_41b3c_level0_col1\" class=\"col_heading level0 col1\" >MAE</th>\n",
       "      <th id=\"T_41b3c_level0_col2\" class=\"col_heading level0 col2\" >Euclidean Distance</th>\n",
       "      <th id=\"T_41b3c_level0_col3\" class=\"col_heading level0 col3\" >Manhattan Distance</th>\n",
       "    </tr>\n",
       "  </thead>\n",
       "  <tbody>\n",
       "    <tr>\n",
       "      <th id=\"T_41b3c_level0_row0\" class=\"row_heading level0 row0\" >0</th>\n",
       "      <td id=\"T_41b3c_row0_col0\" class=\"data row0 col0\" >0.410381</td>\n",
       "      <td id=\"T_41b3c_row0_col1\" class=\"data row0 col1\" >0.489487</td>\n",
       "      <td id=\"T_41b3c_row0_col2\" class=\"data row0 col2\" >2.863867</td>\n",
       "      <td id=\"T_41b3c_row0_col3\" class=\"data row0 col3\" >9.789734</td>\n",
       "    </tr>\n",
       "    <tr>\n",
       "      <th id=\"T_41b3c_level0_row1\" class=\"row_heading level0 row1\" >1</th>\n",
       "      <td id=\"T_41b3c_row1_col0\" class=\"data row1 col0\" >0.420303</td>\n",
       "      <td id=\"T_41b3c_row1_col1\" class=\"data row1 col1\" >0.502918</td>\n",
       "      <td id=\"T_41b3c_row1_col2\" class=\"data row1 col2\" >2.887646</td>\n",
       "      <td id=\"T_41b3c_row1_col3\" class=\"data row1 col3\" >10.058358</td>\n",
       "    </tr>\n",
       "    <tr>\n",
       "      <th id=\"T_41b3c_level0_row2\" class=\"row_heading level0 row2\" >2</th>\n",
       "      <td id=\"T_41b3c_row2_col0\" class=\"data row2 col0\" >0.407594</td>\n",
       "      <td id=\"T_41b3c_row2_col1\" class=\"data row2 col1\" >0.517658</td>\n",
       "      <td id=\"T_41b3c_row2_col2\" class=\"data row2 col2\" >2.853911</td>\n",
       "      <td id=\"T_41b3c_row2_col3\" class=\"data row2 col3\" >10.353168</td>\n",
       "    </tr>\n",
       "    <tr>\n",
       "      <th id=\"T_41b3c_level0_row3\" class=\"row_heading level0 row3\" >3</th>\n",
       "      <td id=\"T_41b3c_row3_col0\" class=\"data row3 col0\" >0.448240</td>\n",
       "      <td id=\"T_41b3c_row3_col1\" class=\"data row3 col1\" >0.435703</td>\n",
       "      <td id=\"T_41b3c_row3_col2\" class=\"data row3 col2\" >2.914778</td>\n",
       "      <td id=\"T_41b3c_row3_col3\" class=\"data row3 col3\" >8.714058</td>\n",
       "    </tr>\n",
       "    <tr>\n",
       "      <th id=\"T_41b3c_level0_row4\" class=\"row_heading level0 row4\" >4</th>\n",
       "      <td id=\"T_41b3c_row4_col0\" class=\"data row4 col0\" >0.392749</td>\n",
       "      <td id=\"T_41b3c_row4_col1\" class=\"data row4 col1\" >0.491581</td>\n",
       "      <td id=\"T_41b3c_row4_col2\" class=\"data row4 col2\" >2.800912</td>\n",
       "      <td id=\"T_41b3c_row4_col3\" class=\"data row4 col3\" >9.831617</td>\n",
       "    </tr>\n",
       "    <tr>\n",
       "      <th id=\"T_41b3c_level0_row5\" class=\"row_heading level0 row5\" >5</th>\n",
       "      <td id=\"T_41b3c_row5_col0\" class=\"data row5 col0\" >0.551969</td>\n",
       "      <td id=\"T_41b3c_row5_col1\" class=\"data row5 col1\" >0.477145</td>\n",
       "      <td id=\"T_41b3c_row5_col2\" class=\"data row5 col2\" >3.317357</td>\n",
       "      <td id=\"T_41b3c_row5_col3\" class=\"data row5 col3\" >9.542898</td>\n",
       "    </tr>\n",
       "    <tr>\n",
       "      <th id=\"T_41b3c_level0_row6\" class=\"row_heading level0 row6\" >6</th>\n",
       "      <td id=\"T_41b3c_row6_col0\" class=\"data row6 col0\" >0.410116</td>\n",
       "      <td id=\"T_41b3c_row6_col1\" class=\"data row6 col1\" >0.529732</td>\n",
       "      <td id=\"T_41b3c_row6_col2\" class=\"data row6 col2\" >2.850530</td>\n",
       "      <td id=\"T_41b3c_row6_col3\" class=\"data row6 col3\" >10.594634</td>\n",
       "    </tr>\n",
       "    <tr>\n",
       "      <th id=\"T_41b3c_level0_row7\" class=\"row_heading level0 row7\" >7</th>\n",
       "      <td id=\"T_41b3c_row7_col0\" class=\"data row7 col0\" >0.810820</td>\n",
       "      <td id=\"T_41b3c_row7_col1\" class=\"data row7 col1\" >0.689158</td>\n",
       "      <td id=\"T_41b3c_row7_col2\" class=\"data row7 col2\" >4.016594</td>\n",
       "      <td id=\"T_41b3c_row7_col3\" class=\"data row7 col3\" >13.783151</td>\n",
       "    </tr>\n",
       "    <tr>\n",
       "      <th id=\"T_41b3c_level0_row8\" class=\"row_heading level0 row8\" >8</th>\n",
       "      <td id=\"T_41b3c_row8_col0\" class=\"data row8 col0\" >0.331211</td>\n",
       "      <td id=\"T_41b3c_row8_col1\" class=\"data row8 col1\" >0.440037</td>\n",
       "      <td id=\"T_41b3c_row8_col2\" class=\"data row8 col2\" >2.570388</td>\n",
       "      <td id=\"T_41b3c_row8_col3\" class=\"data row8 col3\" >8.800742</td>\n",
       "    </tr>\n",
       "    <tr>\n",
       "      <th id=\"T_41b3c_level0_row9\" class=\"row_heading level0 row9\" >9</th>\n",
       "      <td id=\"T_41b3c_row9_col0\" class=\"data row9 col0\" >1.168384</td>\n",
       "      <td id=\"T_41b3c_row9_col1\" class=\"data row9 col1\" >0.627081</td>\n",
       "      <td id=\"T_41b3c_row9_col2\" class=\"data row9 col2\" >4.821760</td>\n",
       "      <td id=\"T_41b3c_row9_col3\" class=\"data row9 col3\" >12.541613</td>\n",
       "    </tr>\n",
       "  </tbody>\n",
       "</table>\n"
      ],
      "text/plain": [
       "<pandas.io.formats.style.Styler at 0x7fd444816f70>"
      ]
     },
     "metadata": {},
     "output_type": "display_data"
    },
    {
     "name": "stdout",
     "output_type": "stream",
     "text": [
      "MEDIAN:\n",
      "MSE                   0.415342\n",
      "MAE                   0.497249\n",
      "Euclidean Distance    2.875756\n",
      "Manhattan Distance    9.944988\n",
      "dtype: float64\n",
      "0.49724937583026474\n"
     ]
    }
   ],
   "source": [
    "book = sb.read_notebooks(\"./GAN_Output\")\n",
    "gan_data = []\n",
    "gan_mse = []\n",
    "for nb in book.notebooks:\n",
    "    metrics = nb.scraps['GAN_1 Metrics'].data\n",
    "    for i in range(1000):\n",
    "        gan_mse.append(metrics[0][i])\n",
    "    nbList = [nb.scraps['GAN Model MSE'].data,\n",
    "              nb.scraps['GAN Model MAE'].data,\n",
    "              nb.scraps['GAN Model Euclidean distance'].data,\n",
    "              nb.scraps['GAN Model Manhattan Distance'].data]        \n",
    "    gan_data.append(nbList)\n",
    "    \n",
    "df = pd.DataFrame(gan_data, columns = ['MSE','MAE','Euclidean Distance','Manhattan Distance'])\n",
    "display(df.style)\n",
    "print(\"MEDIAN:\")\n",
    "print(df.median(axis = 0))\n",
    "gan_data = np.array(gan_data)\n",
    "gan_median = median(gan_data[:,1])\n",
    "print(gan_median)"
   ]
  },
  {
   "cell_type": "markdown",
   "id": "db69b3bd",
   "metadata": {
    "papermill": {
     "duration": 0.004177,
     "end_time": "2022-07-06T05:36:54.960378",
     "exception": false,
     "start_time": "2022-07-06T05:36:54.956201",
     "status": "completed"
    },
    "tags": []
   },
   "source": [
    "# ABC_GAN Analysis"
   ]
  },
  {
   "cell_type": "markdown",
   "id": "930ab0e5",
   "metadata": {
    "papermill": {
     "duration": 0.005249,
     "end_time": "2022-07-06T05:36:54.969802",
     "exception": false,
     "start_time": "2022-07-06T05:36:54.964553",
     "status": "completed"
    },
    "tags": []
   },
   "source": [
    "## ABC Pre-generator - Catboost \n"
   ]
  },
  {
   "cell_type": "code",
   "execution_count": 5,
   "id": "ea491444",
   "metadata": {
    "execution": {
     "iopub.execute_input": "2022-07-06T05:36:54.979849Z",
     "iopub.status.busy": "2022-07-06T05:36:54.979257Z",
     "iopub.status.idle": "2022-07-06T05:36:54.984097Z",
     "shell.execute_reply": "2022-07-06T05:36:54.983417Z"
    },
    "papermill": {
     "duration": 0.012772,
     "end_time": "2022-07-06T05:36:54.986945",
     "exception": false,
     "start_time": "2022-07-06T05:36:54.974173",
     "status": "completed"
    },
    "tags": []
   },
   "outputs": [],
   "source": [
    "# book = sb.read_notebooks(\"./ABC_GAN_TabNet\")\n",
    "# paramVal = [[1,1],[1,0.1],[1,0.01],[1,0],[0.1,1],[0.1,0.1],[0.1,0.01],[0.1,0],[0.01,1],[0.01,0.1],[0.01,0.01],[0.01,0]]\n",
    "# abc_mae = [[] for i in range(12)]\n",
    "# abc_mae_skip = [[] for i in range(12)]\n",
    "# abc_mae_mean = [[] for i in range(12)]\n",
    "# abc_mae_skip_mean = [[] for i in range(12)]\n",
    "# abc_weights = [[] for i in range(12)]\n",
    "# prior_model = [[] for i in range(12)]\n",
    "# abc_pre_generator = [[] for i in range(12)]\n",
    "\n",
    "# for nb in book.notebooks:\n",
    "#     metrics1 = np.array(nb.scraps['ABC_GAN_1 Metrics'].data)\n",
    "#     #metrics3 = np.array(nb.scraps['ABC_GAN_3 Metrics'].data)\n",
    "#     paramVar = float(nb.papermill_dataframe.iloc[1]['value'])\n",
    "#     paramBias = float(nb.papermill_dataframe.iloc[0]['value'])\n",
    "#     # #Divide data according to parameters \n",
    "#     for i in range(12):\n",
    "#         if paramVar == paramVal[i][0] and paramBias == paramVal[i][1]:\n",
    "#             for j in range(100):\n",
    "#                 abc_mae[i].append(metrics1[1,j])\n",
    "#                 #abc_mae_skip[i].append(metrics3[1,j])\n",
    "#             #abc_weights[i].append(nb.scraps['Skip Connection Weight'].data)\n",
    "#             prior_model[i].append(nb.scraps['Prior Model MSE'].data)\n",
    "#             abc_pre_generator[i].append(nb.scraps['ABC Pre-generator MSE'].data)\n",
    "#             #abc_mae_skip_mean[i].append(mean(metrics3[1,:]))\n",
    "#             abc_mae_mean[i].append(mean(metrics1[1,:]))   "
   ]
  },
  {
   "cell_type": "code",
   "execution_count": 6,
   "id": "d0d13f91",
   "metadata": {
    "execution": {
     "iopub.execute_input": "2022-07-06T05:36:54.997661Z",
     "iopub.status.busy": "2022-07-06T05:36:54.997204Z",
     "iopub.status.idle": "2022-07-06T05:36:55.001754Z",
     "shell.execute_reply": "2022-07-06T05:36:55.000840Z"
    },
    "papermill": {
     "duration": 0.013004,
     "end_time": "2022-07-06T05:36:55.004925",
     "exception": false,
     "start_time": "2022-07-06T05:36:54.991921",
     "status": "completed"
    },
    "tags": []
   },
   "outputs": [],
   "source": [
    "\n",
    "# data = [[] for i in range(12)]\n",
    "# for i in range(12):\n",
    "#     for j in range(len(abc_weights[i])):\n",
    "#         data[i].append([paramVal[i][0], paramVal[i][1],prior_model[i][j],\n",
    "#                      abc_pre_generator[i][j],abc_mae_mean[i][j]])\n",
    "#     df = pd.DataFrame(data[i], columns = ['Variance','Bias','Prior Model MAE','ABC pre-generator MAE','ABC GAN MAE'])\n",
    "#     display(df.round(5))\n",
    "#     print(df.median(axis=0))\n",
    "#     print(\"-------------------------------------------------------------\")"
   ]
  },
  {
   "cell_type": "code",
   "execution_count": 7,
   "id": "a9698979",
   "metadata": {
    "execution": {
     "iopub.execute_input": "2022-07-06T05:36:55.014977Z",
     "iopub.status.busy": "2022-07-06T05:36:55.014685Z",
     "iopub.status.idle": "2022-07-06T05:36:55.018101Z",
     "shell.execute_reply": "2022-07-06T05:36:55.017410Z"
    },
    "papermill": {
     "duration": 0.010896,
     "end_time": "2022-07-06T05:36:55.020532",
     "exception": false,
     "start_time": "2022-07-06T05:36:55.009636",
     "status": "completed"
    },
    "tags": []
   },
   "outputs": [],
   "source": [
    "# # Display TabNet Summary Tables \n",
    "# data = np.array(data)\n",
    "# catboostData = []\n",
    "# for i in range(12): \n",
    "#     data[i] = np.array(data[i])\n",
    "#     catboostData.append([paramVal[i][0], paramVal[i][1],catboost,median(data[i][:,3]),median(data[i][:,5]),median(data[i][:,6]),median(data[i][:,4])])\n",
    "# df = pd.DataFrame(catboostData, columns = ['Variance','Bias','TabNet','Prior Model MAE','mGAN','skipGAN','Skip Node weight'])\n",
    "# display(df.round(5))"
   ]
  },
  {
   "cell_type": "markdown",
   "id": "00ce0a13",
   "metadata": {
    "papermill": {
     "duration": 0.005888,
     "end_time": "2022-07-06T05:36:55.032477",
     "exception": false,
     "start_time": "2022-07-06T05:36:55.026589",
     "status": "completed"
    },
    "tags": []
   },
   "source": [
    "## ABC Pre-generator - Stats \n"
   ]
  },
  {
   "cell_type": "code",
   "execution_count": 8,
   "id": "fa630114",
   "metadata": {
    "execution": {
     "iopub.execute_input": "2022-07-06T05:36:55.043944Z",
     "iopub.status.busy": "2022-07-06T05:36:55.043637Z",
     "iopub.status.idle": "2022-07-06T05:36:55.047975Z",
     "shell.execute_reply": "2022-07-06T05:36:55.047231Z"
    },
    "papermill": {
     "duration": 0.013772,
     "end_time": "2022-07-06T05:36:55.050519",
     "exception": false,
     "start_time": "2022-07-06T05:36:55.036747",
     "status": "completed"
    },
    "tags": []
   },
   "outputs": [],
   "source": [
    "# book = sb.read_notebooks(\"./ABC_GAN_Stats\")\n",
    "# paramVal = [[1,1],[1,0.1],[1,0.01],[1,0],[0.1,1],[0.1,0.1],[0.1,0.01],[0.1,0],[0.01,1],[0.01,0.1],[0.01,0.01],[0.01,0]]\n",
    "# abc_mae = [[] for i in range(12)]\n",
    "# abc_mae_skip = [[] for i in range(12)]\n",
    "# abc_mae_mean = [[] for i in range(12)]\n",
    "# abc_mae_skip_mean = [[] for i in range(12)]\n",
    "# abc_weights = [[] for i in range(12)]\n",
    "# prior_model = [[] for i in range(12)]\n",
    "# abc_pre_generator = [[] for i in range(12)]\n",
    "\n",
    "# for nb in book.notebooks:\n",
    "#     metrics1 = np.array(nb.scraps['ABC_GAN_1 Metrics'].data)\n",
    "#     #metrics3 = np.array(nb.scraps['ABC_GAN_3 Metrics'].data)\n",
    "#     paramVar = float(nb.papermill_dataframe.iloc[0]['value'])\n",
    "#     paramBias = float(nb.papermill_dataframe.iloc[1]['value'])\n",
    "#     #Divide data according to parameters \n",
    "#     for i in range(9):\n",
    "#         if paramVar == paramVal[i][0] and paramBias == paramVal[i][1]:\n",
    "#             for j in range(100):\n",
    "#                 abc_mae[i].append(metrics1[1,j])\n",
    "#                 #abc_mae_skip[i].append(metrics3[1,j])\n",
    "#             abc_weights[i].append(nb.scraps['Skip Connection Weight'].data)\n",
    "#             prior_model[i].append(nb.scraps['Prior Model MSE'].data)\n",
    "#             abc_pre_generator[i].append(nb.scraps['ABC Pre-generator MSE'].data)\n",
    "#             #abc_mae_skip_mean[i].append(mean(metrics3[1,:]))\n",
    "#             abc_mae_mean[i].append(mean(metrics1[1,:]))"
   ]
  },
  {
   "cell_type": "code",
   "execution_count": 9,
   "id": "51f4e9f1",
   "metadata": {
    "execution": {
     "iopub.execute_input": "2022-07-06T05:36:55.059732Z",
     "iopub.status.busy": "2022-07-06T05:36:55.059439Z",
     "iopub.status.idle": "2022-07-06T05:36:55.063296Z",
     "shell.execute_reply": "2022-07-06T05:36:55.062671Z"
    },
    "papermill": {
     "duration": 0.011149,
     "end_time": "2022-07-06T05:36:55.065682",
     "exception": false,
     "start_time": "2022-07-06T05:36:55.054533",
     "status": "completed"
    },
    "tags": []
   },
   "outputs": [],
   "source": [
    "# data = [[] for i in range(9)]\n",
    "# for i in range(9):\n",
    "#     for j in range(len(abc_weights[i])):\n",
    "#         data[i].append([paramVal[i][0], paramVal[i][1],prior_model[i][j],\n",
    "#                      abc_pre_generator[i][j],abc_mae_mean[i][j]])\n",
    "#     df = pd.DataFrame(data[i], columns = ['Variance','Bias','Prior Model MAE','ABC pre-generator MAE','ABC GAN MAE'])\n",
    "#     display(df.round(5))\n",
    "#     print(df.median(axis=0))\n",
    "#     print(\"-------------------------------------------------------------\")"
   ]
  },
  {
   "cell_type": "code",
   "execution_count": 10,
   "id": "dd9bc0fd",
   "metadata": {
    "execution": {
     "iopub.execute_input": "2022-07-06T05:36:55.077269Z",
     "iopub.status.busy": "2022-07-06T05:36:55.076921Z",
     "iopub.status.idle": "2022-07-06T05:36:55.085357Z",
     "shell.execute_reply": "2022-07-06T05:36:55.083462Z"
    },
    "papermill": {
     "duration": 0.018296,
     "end_time": "2022-07-06T05:36:55.088315",
     "exception": false,
     "start_time": "2022-07-06T05:36:55.070019",
     "status": "completed"
    },
    "tags": []
   },
   "outputs": [],
   "source": [
    "# # Display Stats Summary Tables \n",
    "# data = np.array(data)\n",
    "# catboostData = []\n",
    "# for i in range(9): \n",
    "#     catboostData.append([gan_median,stats,paramVal[i][0], paramVal[i][1],median(data[i][:,3]),median(data[i][:,5]),median(data[i][:,6]),median(data[i][:,4])])\n",
    "# df = pd.DataFrame(catboostData, columns = ['GAN','Stats','Variance','Bias','Prior Model','mGAN','skipGAN','Weight'])\n",
    "# display(df.round(5))"
   ]
  }
 ],
 "metadata": {
  "interpreter": {
   "hash": "10498c76ddd8160350534c6544a2b2fb65f2138dbc70420f7c81a3268f830f23"
  },
  "kernelspec": {
   "display_name": "papermill-tutorial",
   "language": "python",
   "name": "python3"
  },
  "language_info": {
   "codemirror_mode": {
    "name": "ipython",
    "version": 3
   },
   "file_extension": ".py",
   "mimetype": "text/x-python",
   "name": "python",
   "nbconvert_exporter": "python",
   "pygments_lexer": "ipython3",
   "version": "3.8.13"
  },
  "papermill": {
   "default_parameters": {},
   "duration": 9.405908,
   "end_time": "2022-07-06T05:36:55.638868",
   "environment_variables": {},
   "exception": null,
   "input_path": "Analysis.ipynb",
   "output_path": "resultgantabnet.ipynb",
   "parameters": {},
   "start_time": "2022-07-06T05:36:46.232960",
   "version": "2.3.3"
  }
 },
 "nbformat": 4,
 "nbformat_minor": 5
}