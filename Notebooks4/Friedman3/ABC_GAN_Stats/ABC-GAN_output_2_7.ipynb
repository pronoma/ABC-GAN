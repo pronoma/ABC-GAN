{
 "cells": [
  {
   "cell_type": "markdown",
   "id": "622780e6",
   "metadata": {
    "papermill": {
     "duration": 0.009477,
     "end_time": "2022-07-27T06:22:26.699404",
     "exception": false,
     "start_time": "2022-07-27T06:22:26.689927",
     "status": "completed"
    },
    "tags": []
   },
   "source": [
    "## Import Libraries "
   ]
  },
  {
   "cell_type": "code",
   "execution_count": 1,
   "id": "a62397e3",
   "metadata": {
    "execution": {
     "iopub.execute_input": "2022-07-27T06:22:26.733798Z",
     "iopub.status.busy": "2022-07-27T06:22:26.733271Z",
     "iopub.status.idle": "2022-07-27T06:22:26.766213Z",
     "shell.execute_reply": "2022-07-27T06:22:26.758465Z"
    },
    "papermill": {
     "duration": 0.0647,
     "end_time": "2022-07-27T06:22:26.771201",
     "exception": false,
     "start_time": "2022-07-27T06:22:26.706501",
     "status": "completed"
    },
    "tags": []
   },
   "outputs": [],
   "source": [
    "import warnings\n",
    "import sys\n",
    "sys.path.insert(0, '../../src')\n",
    "warnings.filterwarnings('ignore')"
   ]
  },
  {
   "cell_type": "code",
   "execution_count": 2,
   "id": "d6a4e155",
   "metadata": {
    "execution": {
     "iopub.execute_input": "2022-07-27T06:22:26.789959Z",
     "iopub.status.busy": "2022-07-27T06:22:26.789365Z",
     "iopub.status.idle": "2022-07-27T06:22:35.597388Z",
     "shell.execute_reply": "2022-07-27T06:22:35.596178Z"
    },
    "papermill": {
     "duration": 8.821492,
     "end_time": "2022-07-27T06:22:35.600647",
     "exception": false,
     "start_time": "2022-07-27T06:22:26.779155",
     "status": "completed"
    },
    "tags": []
   },
   "outputs": [],
   "source": [
    "import ABC_train_test\n",
    "import friedman3Dataset\n",
    "import network\n",
    "import dataset\n",
    "import sanityChecks\n",
    "import performanceMetrics\n",
    "import torch \n",
    "import numpy as np \n",
    "from torch.utils.data import random_split \n",
    "import scrapbook as sb\n",
    "from statistics import mean \n",
    "import statsModel\n",
    "from sklearn.metrics import mean_squared_error,mean_absolute_error\n",
    "from sklearn.model_selection import train_test_split\n",
    "from pytorch_tabnet.tab_model import TabNetClassifier\n",
    "from pytorch_tabnet.tab_model import TabNetRegressor"
   ]
  },
  {
   "cell_type": "markdown",
   "id": "e0c10419",
   "metadata": {
    "papermill": {
     "duration": 0.006194,
     "end_time": "2022-07-27T06:22:35.614256",
     "exception": false,
     "start_time": "2022-07-27T06:22:35.608062",
     "status": "completed"
    },
    "tags": []
   },
   "source": [
    "## Parameters\n",
    "ABC-Generator parameters are as mentioned below: \n",
    "1. mean : 1 ($\\beta \\sim N(\\beta^{*},\\sigma)$ where $\\beta^{*}$ are coefficients of statistical model) or 1 ($\\beta \\sim N(0,\\sigma)$\n",
    "2. std : $\\sigma = 1, 0.1 , 0.01$ (standard deviation)"
   ]
  },
  {
   "cell_type": "code",
   "execution_count": 3,
   "id": "645f85d5",
   "metadata": {
    "execution": {
     "iopub.execute_input": "2022-07-27T06:22:35.631293Z",
     "iopub.status.busy": "2022-07-27T06:22:35.630695Z",
     "iopub.status.idle": "2022-07-27T06:22:35.637618Z",
     "shell.execute_reply": "2022-07-27T06:22:35.635440Z"
    },
    "papermill": {
     "duration": 0.020942,
     "end_time": "2022-07-27T06:22:35.642048",
     "exception": false,
     "start_time": "2022-07-27T06:22:35.621106",
     "status": "completed"
    },
    "tags": [
     "parameters"
    ]
   },
   "outputs": [],
   "source": [
    "#ABC Generator Parameters\n",
    "abc_mean = 1\n",
    "variance = 1\n",
    "bias = 1 \n",
    "#Training parameters \n",
    "n_epochs = 1000"
   ]
  },
  {
   "cell_type": "code",
   "execution_count": 4,
   "id": "c764d194",
   "metadata": {
    "execution": {
     "iopub.execute_input": "2022-07-27T06:22:35.656711Z",
     "iopub.status.busy": "2022-07-27T06:22:35.656177Z",
     "iopub.status.idle": "2022-07-27T06:22:35.660198Z",
     "shell.execute_reply": "2022-07-27T06:22:35.659478Z"
    },
    "papermill": {
     "duration": 0.013951,
     "end_time": "2022-07-27T06:22:35.662583",
     "exception": false,
     "start_time": "2022-07-27T06:22:35.648632",
     "status": "completed"
    },
    "tags": [
     "injected-parameters"
    ]
   },
   "outputs": [],
   "source": [
    "# Parameters\n",
    "variance = 0.1\n",
    "bias = 0.01\n"
   ]
  },
  {
   "cell_type": "markdown",
   "id": "391cdbfd",
   "metadata": {
    "papermill": {
     "duration": 0.005135,
     "end_time": "2022-07-27T06:22:35.673210",
     "exception": false,
     "start_time": "2022-07-27T06:22:35.668075",
     "status": "completed"
    },
    "tags": []
   },
   "source": [
    "## Dataset"
   ]
  },
  {
   "cell_type": "code",
   "execution_count": 5,
   "id": "5b51f161",
   "metadata": {
    "execution": {
     "iopub.execute_input": "2022-07-27T06:22:35.684825Z",
     "iopub.status.busy": "2022-07-27T06:22:35.684533Z",
     "iopub.status.idle": "2022-07-27T06:22:35.688204Z",
     "shell.execute_reply": "2022-07-27T06:22:35.687580Z"
    },
    "papermill": {
     "duration": 0.012288,
     "end_time": "2022-07-27T06:22:35.690483",
     "exception": false,
     "start_time": "2022-07-27T06:22:35.678195",
     "status": "completed"
    },
    "tags": []
   },
   "outputs": [],
   "source": [
    "#Parameters \n",
    "n_features = 4\n",
    "n_samples= 100\n",
    "n_target = 1"
   ]
  },
  {
   "cell_type": "code",
   "execution_count": 6,
   "id": "5d6eced4",
   "metadata": {
    "execution": {
     "iopub.execute_input": "2022-07-27T06:22:35.701748Z",
     "iopub.status.busy": "2022-07-27T06:22:35.701458Z",
     "iopub.status.idle": "2022-07-27T06:22:35.716578Z",
     "shell.execute_reply": "2022-07-27T06:22:35.715937Z"
    },
    "papermill": {
     "duration": 0.02432,
     "end_time": "2022-07-27T06:22:35.719791",
     "exception": false,
     "start_time": "2022-07-27T06:22:35.695471",
     "status": "completed"
    },
    "tags": []
   },
   "outputs": [
    {
     "name": "stdout",
     "output_type": "stream",
     "text": [
      "          X1           X2        X3        X4         Y\n",
      "0  52.791512   240.025548  0.152559  5.068329  0.510809\n",
      "1   3.977334   499.074103  0.548348  2.721959  1.668939\n",
      "2   9.259853   351.021390  0.915689  8.147892  1.569298\n",
      "3  87.894891   350.129098  0.452917  1.206678  1.165839\n",
      "4  51.932766  1289.648694  0.616527  7.788650  1.609472\n"
     ]
    }
   ],
   "source": [
    "X, Y = friedman3Dataset.friedman3_data(n_samples)\n",
    "# Train test split for dataset \n",
    "X_train,X_test,Y_train,Y_test = train_test_split(X,Y,test_size = 0.2)\n",
    "train_data = dataset.CustomDataset(X_train,Y_train)\n",
    "test_data = dataset.CustomDataset(X_test,Y_test)"
   ]
  },
  {
   "cell_type": "markdown",
   "id": "a9a1af34",
   "metadata": {
    "papermill": {
     "duration": 0.00561,
     "end_time": "2022-07-27T06:22:35.730944",
     "exception": false,
     "start_time": "2022-07-27T06:22:35.725334",
     "status": "completed"
    },
    "tags": []
   },
   "source": [
    "## Training Parameters \n",
    "\n"
   ]
  },
  {
   "cell_type": "code",
   "execution_count": 7,
   "id": "952b7fc8",
   "metadata": {
    "execution": {
     "iopub.execute_input": "2022-07-27T06:22:35.744425Z",
     "iopub.status.busy": "2022-07-27T06:22:35.744124Z",
     "iopub.status.idle": "2022-07-27T06:22:35.755309Z",
     "shell.execute_reply": "2022-07-27T06:22:35.754130Z"
    },
    "papermill": {
     "duration": 0.021976,
     "end_time": "2022-07-27T06:22:35.758598",
     "exception": false,
     "start_time": "2022-07-27T06:22:35.736622",
     "status": "completed"
    },
    "tags": []
   },
   "outputs": [],
   "source": [
    "batch_size = 32\n",
    "#Select the device \n",
    "device = torch.device('cuda' if torch.cuda.is_available() else 'cpu')"
   ]
  },
  {
   "cell_type": "markdown",
   "id": "31aeb9ed",
   "metadata": {
    "papermill": {
     "duration": 0.006359,
     "end_time": "2022-07-27T06:22:35.770497",
     "exception": false,
     "start_time": "2022-07-27T06:22:35.764138",
     "status": "completed"
    },
    "tags": []
   },
   "source": [
    "### MSE Threshold and Mean Coeff Values \n",
    "\n",
    "Fetch coefficient values from stats model to be used in the ABC pre-generator \n",
    "\n",
    "Fetch MSE threshold for training the ABC-GAN \n",
    "\n",
    "The ABC-GAN will be trained until the threshold MSE is achieved or until it completes 5000 epochs \n",
    "\n",
    "The threshold mse is the mean mse of Catboost over 10 runs"
   ]
  },
  {
   "cell_type": "code",
   "execution_count": 8,
   "id": "4595d301",
   "metadata": {
    "execution": {
     "iopub.execute_input": "2022-07-27T06:22:35.783152Z",
     "iopub.status.busy": "2022-07-27T06:22:35.782855Z",
     "iopub.status.idle": "2022-07-27T06:22:36.289086Z",
     "shell.execute_reply": "2022-07-27T06:22:36.287691Z"
    },
    "papermill": {
     "duration": 0.515772,
     "end_time": "2022-07-27T06:22:36.291982",
     "exception": false,
     "start_time": "2022-07-27T06:22:35.776210",
     "status": "completed"
    },
    "tags": []
   },
   "outputs": [
    {
     "name": "stderr",
     "output_type": "stream",
     "text": [
      "No artists with labels found to put in legend.  Note that artists whose label start with an underscore are ignored when legend() is called with no argument.\n"
     ]
    },
    {
     "name": "stdout",
     "output_type": "stream",
     "text": [
      "                                 OLS Regression Results                                \n",
      "=======================================================================================\n",
      "Dep. Variable:                      y   R-squared (uncentered):                   0.580\n",
      "Model:                            OLS   Adj. R-squared (uncentered):              0.558\n",
      "Method:                 Least Squares   F-statistic:                              26.27\n",
      "Date:                Wed, 27 Jul 2022   Prob (F-statistic):                    1.08e-13\n",
      "Time:                        11:52:35   Log-Likelihood:                         -71.439\n",
      "No. Observations:                  80   AIC:                                      150.9\n",
      "Df Residuals:                      76   BIC:                                      160.4\n",
      "Df Model:                           4                                                  \n",
      "Covariance Type:            nonrobust                                                  \n",
      "==============================================================================\n",
      "                 coef    std err          t      P>|t|      [0.025      0.975]\n",
      "------------------------------------------------------------------------------\n",
      "x1            -0.3325      0.067     -4.929      0.000      -0.467      -0.198\n",
      "x2             0.3273      0.068      4.824      0.000       0.192       0.462\n",
      "x3             0.4384      0.069      6.364      0.000       0.301       0.576\n",
      "x4             0.1508      0.071      2.131      0.036       0.010       0.292\n",
      "==============================================================================\n",
      "Omnibus:                       26.204   Durbin-Watson:                   1.933\n",
      "Prob(Omnibus):                  0.000   Jarque-Bera (JB):               63.195\n",
      "Skew:                          -1.072   Prob(JB):                     1.89e-14\n",
      "Kurtosis:                       6.789   Cond. No.                         1.22\n",
      "==============================================================================\n",
      "\n",
      "Notes:\n",
      "[1] R² is computed without centering (uncentered) since the model does not contain a constant.\n",
      "[2] Standard Errors assume that the covariance matrix of the errors is correctly specified.\n"
     ]
    },
    {
     "data": {
      "image/png": "[encoded data removed]",
      "text/plain": [
       "<Figure size 432x288 with 1 Axes>"
      ]
     },
     "metadata": {
      "needs_background": "light"
     },
     "output_type": "display_data"
    },
    {
     "name": "stdout",
     "output_type": "stream",
     "text": [
      "Performance Metrics\n",
      "Mean Squared Error: 0.7250741559828706\n",
      "Mean Absolute Error: 0.6046824356302535\n",
      "Manhattan distance: 12.093648712605066\n",
      "Euclidean distance: 3.8080812911041453\n"
     ]
    },
    {
     "data": {
      "application/scrapbook.scrap.json+json": {
       "data": 0.7250741559828706,
       "encoder": "json",
       "name": "Stats Model MSE",
       "version": 1
      }
     },
     "metadata": {
      "scrapbook": {
       "data": true,
       "display": false,
       "name": "Stats Model MSE"
      }
     },
     "output_type": "display_data"
    },
    {
     "data": {
      "application/scrapbook.scrap.json+json": {
       "data": 0.6046824356302535,
       "encoder": "json",
       "name": "Stats Model MAE",
       "version": 1
      }
     },
     "metadata": {
      "scrapbook": {
       "data": true,
       "display": false,
       "name": "Stats Model MAE"
      }
     },
     "output_type": "display_data"
    },
    {
     "data": {
      "application/scrapbook.scrap.json+json": {
       "data": 12.093648712605066,
       "encoder": "json",
       "name": "Stats Model Manhattan Distance",
       "version": 1
      }
     },
     "metadata": {
      "scrapbook": {
       "data": true,
       "display": false,
       "name": "Stats Model Manhattan Distance"
      }
     },
     "output_type": "display_data"
    },
    {
     "data": {
      "application/scrapbook.scrap.json+json": {
       "data": 3.8080812911041453,
       "encoder": "json",
       "name": "Stats Model Euclidean distance",
       "version": 1
      }
     },
     "metadata": {
      "scrapbook": {
       "data": true,
       "display": false,
       "name": "Stats Model Euclidean distance"
      }
     },
     "output_type": "display_data"
    },
    {
     "data": {
      "application/scrapbook.scrap.json+json": {
       "data": 0.7250741559828706,
       "encoder": "json",
       "name": "Prior Model MSE",
       "version": 1
      }
     },
     "metadata": {
      "scrapbook": {
       "data": true,
       "display": false,
       "name": "Prior Model MSE"
      }
     },
     "output_type": "display_data"
    },
    {
     "data": {
      "application/scrapbook.scrap.json+json": {
       "data": 0.701830872960395,
       "encoder": "json",
       "name": "ABC Pre-generator MSE",
       "version": 1
      }
     },
     "metadata": {
      "scrapbook": {
       "data": true,
       "display": false,
       "name": "ABC Pre-generator MSE"
      }
     },
     "output_type": "display_data"
    },
    {
     "data": {
      "application/scrapbook.scrap.json+json": {
       "data": 0.6046824356302535,
       "encoder": "json",
       "name": "Prior Model MSE",
       "version": 1
      }
     },
     "metadata": {
      "scrapbook": {
       "data": true,
       "display": false,
       "name": "Prior Model MSE"
      }
     },
     "output_type": "display_data"
    },
    {
     "name": "stdout",
     "output_type": "stream",
     "text": [
      "Prior Model MAE 0.6046824356302535\n"
     ]
    },
    {
     "data": {
      "application/scrapbook.scrap.json+json": {
       "data": 0.5898100606611438,
       "encoder": "json",
       "name": "ABC Pre-generator MSE",
       "version": 1
      }
     },
     "metadata": {
      "scrapbook": {
       "data": true,
       "display": false,
       "name": "ABC Pre-generator MSE"
      }
     },
     "output_type": "display_data"
    },
    {
     "name": "stdout",
     "output_type": "stream",
     "text": [
      "Prior Model MAE 0.5898100606611438\n"
     ]
    }
   ],
   "source": [
    "coeff , y_pred =statsModel.statsModel(X_train,Y_train,X_test,Y_test)\n",
    "y_abc = y_pred + np.random.normal(0,variance, y_pred.shape) + bias \n",
    "mse = mean_squared_error(y_pred,Y_test)\n",
    "sb.glue(\"Prior Model MSE\",mse)\n",
    "mse = mean_squared_error(y_abc,Y_test)\n",
    "sb.glue(\"ABC Pre-generator MSE\",mse)\n",
    "\n",
    "mae = mean_absolute_error(y_pred,Y_test)\n",
    "sb.glue(\"Prior Model MSE\",mae)\n",
    "print(\"Prior Model MAE\",mae)\n",
    "mae = mean_absolute_error(y_abc,Y_test)\n",
    "sb.glue(\"ABC Pre-generator MSE\",mae)\n",
    "print(\"Prior Model MAE\",mae)"
   ]
  },
  {
   "cell_type": "markdown",
   "id": "657fd93a",
   "metadata": {
    "papermill": {
     "duration": 0.013686,
     "end_time": "2022-07-27T06:22:36.316231",
     "exception": false,
     "start_time": "2022-07-27T06:22:36.302545",
     "status": "completed"
    },
    "tags": []
   },
   "source": [
    "# ABC GAN "
   ]
  },
  {
   "cell_type": "code",
   "execution_count": 9,
   "id": "517917fc",
   "metadata": {
    "execution": {
     "iopub.execute_input": "2022-07-27T06:22:36.340669Z",
     "iopub.status.busy": "2022-07-27T06:22:36.340334Z",
     "iopub.status.idle": "2022-07-27T06:22:36.427741Z",
     "shell.execute_reply": "2022-07-27T06:22:36.426302Z"
    },
    "papermill": {
     "duration": 0.109978,
     "end_time": "2022-07-27T06:22:36.436997",
     "exception": false,
     "start_time": "2022-07-27T06:22:36.327019",
     "status": "completed"
    },
    "tags": []
   },
   "outputs": [],
   "source": [
    "gen = network.Generator(n_features+1).to(device)\n",
    "disc = network.DiscriminatorTabnet(n_features+1).to(device)\n",
    "\n",
    "criterion = torch.nn.BCELoss()\n",
    "gen_opt = torch.optim.Adam(gen.parameters(), lr=0.01, betas=(0.5, 0.999))\n",
    "disc_opt = torch.optim.Adam(disc.parameters(), lr=0.01, betas=(0.5, 0.999))"
   ]
  },
  {
   "cell_type": "code",
   "execution_count": 10,
   "id": "24ac1c5b",
   "metadata": {
    "execution": {
     "iopub.execute_input": "2022-07-27T06:22:36.507187Z",
     "iopub.status.busy": "2022-07-27T06:22:36.506838Z"
    },
    "papermill": {
     "duration": 62.642142,
     "end_time": "2022-07-27T06:23:39.101093",
     "exception": false,
     "start_time": "2022-07-27T06:22:36.458951",
     "status": "completed"
    },
    "tags": []
   },
   "outputs": [],
   "source": [
    "#Training the ABC_GAN \n",
    "discLossA1,genLossA1 = ABC_train_test.training_GAN(disc, gen,disc_opt,gen_opt,train_data,batch_size,n_epochs,criterion,coeff,abc_mean,variance,bias,device)\n",
    "sb.glue(\"ABC_GAN_1 Generator Loss\",genLossA1)\n",
    "sb.glue(\"ABC_GAN_1 Discriminator Loss\",discLossA1)"
   ]
  },
  {
   "cell_type": "code",
   "execution_count": null,
   "id": "fdc23a26",
   "metadata": {
    "papermill": {
     "duration": null,
     "end_time": null,
     "exception": null,
     "start_time": null,
     "status": "completed"
    },
    "tags": []
   },
   "outputs": [],
   "source": [
    "ABC_GAN1_metrics=ABC_train_test.test_generator(gen,test_data,coeff,abc_mean,variance,bias,device)\n",
    "sb.glue(\"ABC_GAN_1 Metrics\",ABC_GAN1_metrics)\n",
    "#print(\"ABC_GAN_1 Metrics\",ABC_GAN1_metrics)\n",
    "print('MAE:', mean(ABC_GAN1_metrics[1]))"
   ]
  },
  {
   "cell_type": "code",
   "execution_count": null,
   "id": "a50fdf87",
   "metadata": {
    "papermill": {
     "duration": null,
     "end_time": null,
     "exception": null,
     "start_time": null,
     "status": "completed"
    },
    "tags": []
   },
   "outputs": [],
   "source": [
    "sanityChecks.discProbVsError(train_data,disc,device)\n",
    "sanityChecks.discProbVsError(test_data,disc,device)"
   ]
  },
  {
   "cell_type": "markdown",
   "id": "130f3a4d",
   "metadata": {
    "papermill": {
     "duration": null,
     "end_time": null,
     "exception": null,
     "start_time": null,
     "status": "completed"
    },
    "tags": []
   },
   "source": [
    "# ABC - GAN Model with skip connection"
   ]
  },
  {
   "cell_type": "code",
   "execution_count": null,
   "id": "4e43dad1",
   "metadata": {
    "papermill": {
     "duration": null,
     "end_time": null,
     "exception": null,
     "start_time": null,
     "status": "completed"
    },
    "tags": []
   },
   "outputs": [],
   "source": [
    "#Generator\n",
    "gen3 = network.GeneratorWithSkipConnection(n_features+1).to(device)\n",
    "#Discriminator \n",
    "disc3 = network.DiscriminatorTabnet(n_features+1).to(device)\n",
    "\n",
    "criterion = torch.nn.BCELoss()\n",
    "gen_opt = torch.optim.Adam(gen3.parameters(), lr=0.01, betas=(0.5, 0.999))\n",
    "disc_opt = torch.optim.Adam(disc3.parameters(), lr=0.01, betas=(0.5, 0.999))\n"
   ]
  },
  {
   "cell_type": "code",
   "execution_count": null,
   "id": "26acbc37",
   "metadata": {
    "papermill": {
     "duration": null,
     "end_time": null,
     "exception": null,
     "start_time": null,
     "status": "completed"
    },
    "tags": []
   },
   "outputs": [],
   "source": [
    "discLossA3,genLossA3 = ABC_train_test.training_GAN_skip_connection(disc3, gen3,disc_opt,gen_opt,train_data,batch_size, n_epochs,criterion,coeff,abc_mean,variance,bias,device)\n",
    "\n",
    "sb.glue(\"ABC_GAN_3 Generator Loss\",genLossA3)\n",
    "sb.glue(\"ABC_GAN_3 Discriminator Loss\",discLossA3)"
   ]
  },
  {
   "cell_type": "code",
   "execution_count": null,
   "id": "c5e0717b",
   "metadata": {
    "papermill": {
     "duration": null,
     "end_time": null,
     "exception": null,
     "start_time": null,
     "status": "completed"
    },
    "tags": []
   },
   "outputs": [],
   "source": [
    "ABC_GAN3_metrics=ABC_train_test.test_generator(gen3,test_data,coeff,abc_mean,variance,bias,device)\n",
    "\n",
    "sb.glue(\"ABC_GAN_3 Metrics\",ABC_GAN3_metrics)\n",
    "print(\"MAE:\", mean(ABC_GAN3_metrics[1]))"
   ]
  },
  {
   "cell_type": "code",
   "execution_count": null,
   "id": "c8e46b48",
   "metadata": {
    "papermill": {
     "duration": null,
     "end_time": null,
     "exception": null,
     "start_time": null,
     "status": "completed"
    },
    "tags": []
   },
   "outputs": [],
   "source": [
    "sanityChecks.discProbVsError(train_data,disc3,device)\n",
    "sanityChecks.discProbVsError(test_data,disc3,device)"
   ]
  },
  {
   "cell_type": "markdown",
   "id": "a5bd74c3",
   "metadata": {
    "papermill": {
     "duration": null,
     "end_time": null,
     "exception": null,
     "start_time": null,
     "status": "completed"
    },
    "tags": []
   },
   "source": [
    "## Skip Connection Model Analysis - ABC-GAN "
   ]
  },
  {
   "cell_type": "markdown",
   "id": "5744a8bf",
   "metadata": {
    "papermill": {
     "duration": null,
     "end_time": null,
     "exception": null,
     "start_time": null,
     "status": "completed"
    },
    "tags": []
   },
   "source": [
    "### Weight Analysis \n",
    "\n",
    "Study the weights of the skip connection layer\n",
    "\n",
    "Equation of the skip connection is \n",
    "\n",
    "$output = y_{gan} * w + y_{abc} * (1-w)$"
   ]
  },
  {
   "cell_type": "code",
   "execution_count": null,
   "id": "52c31dea",
   "metadata": {
    "papermill": {
     "duration": null,
     "end_time": null,
     "exception": null,
     "start_time": null,
     "status": "completed"
    },
    "tags": []
   },
   "outputs": [],
   "source": [
    "print(\"Weight of the node at skip connection\")\n",
    "for name,param in gen3.named_parameters():\n",
    "    if(name == \"skipNode.weight\"):\n",
    "        print(param)\n",
    "        sb.glue(\"Skip Connection Weight\",param.item())\n",
    "        print(\"Skip Connection Weight\",param.item())"
   ]
  },
  {
   "cell_type": "code",
   "execution_count": null,
   "id": "aa18207f",
   "metadata": {
    "papermill": {
     "duration": null,
     "end_time": null,
     "exception": null,
     "start_time": null,
     "status": "completed"
    },
    "tags": []
   },
   "outputs": [],
   "source": [
    "performanceMetrics.modelAnalysis2(ABC_GAN3_metrics)"
   ]
  }
 ],
 "metadata": {
  "kernelspec": {
   "display_name": "Python 3.7.3 64-bit",
   "language": "python",
   "name": "python3"
  },
  "language_info": {
   "codemirror_mode": {
    "name": "ipython",
    "version": 3
   },
   "file_extension": ".py",
   "mimetype": "text/x-python",
   "name": "python",
   "nbconvert_exporter": "python",
   "pygments_lexer": "ipython3",
   "version": "3.7.3"
  },
  "papermill": {
   "default_parameters": {},
   "duration": 80.331972,
   "end_time": "2022-07-27T06:23:41.766303",
   "environment_variables": {},
   "exception": null,
   "input_path": "ABC_GAN-Stats.ipynb",
   "output_path": "./ABC_GAN_Stats/ABC-GAN_output_2_7.ipynb",
   "parameters": {
    "bias": 0.01,
    "variance": 0.1
   },
   "start_time": "2022-07-27T06:22:21.434331",
   "version": "2.3.3"
  },
  "vscode": {
   "interpreter": {
    "hash": "aee8b7b246df8f9039afb4144a1f6fd8d2ca17a180786b69acc140d282b71a49"
   }
  }
 },
 "nbformat": 4,
 "nbformat_minor": 5
}