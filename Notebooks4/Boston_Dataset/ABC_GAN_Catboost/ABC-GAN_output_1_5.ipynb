{
 "cells": [
  {
   "cell_type": "markdown",
   "id": "071c14ee",
   "metadata": {
    "tags": [
     "papermill-error-cell-tag"
    ]
   },
   "source": [
    "<span style=\"color:red; font-family:Helvetica Neue, Helvetica, Arial, sans-serif; font-size:2em;\">An Exception was encountered at '<a href=\"#papermill-error-cell\">In [20]</a>'.</span>"
   ]
  },
  {
   "cell_type": "markdown",
   "id": "622780e6",
   "metadata": {
    "id": "622780e6",
    "papermill": {
     "duration": 0.015887,
     "end_time": "2022-07-22T18:42:26.949324",
     "exception": false,
     "start_time": "2022-07-22T18:42:26.933437",
     "status": "completed"
    },
    "tags": []
   },
   "source": [
    "## Import Libraries "
   ]
  },
  {
   "cell_type": "code",
   "execution_count": 1,
   "id": "a62397e3",
   "metadata": {
    "execution": {
     "iopub.execute_input": "2022-07-22T18:42:26.974916Z",
     "iopub.status.busy": "2022-07-22T18:42:26.974269Z",
     "iopub.status.idle": "2022-07-22T18:42:27.003743Z",
     "shell.execute_reply": "2022-07-22T18:42:27.002452Z"
    },
    "id": "a62397e3",
    "papermill": {
     "duration": 0.049402,
     "end_time": "2022-07-22T18:42:27.008502",
     "exception": false,
     "start_time": "2022-07-22T18:42:26.959100",
     "status": "completed"
    },
    "tags": []
   },
   "outputs": [],
   "source": [
    "import warnings\n",
    "import sys\n",
    "sys.path.insert(0, '../../src')\n",
    "warnings.filterwarnings('ignore')"
   ]
  },
  {
   "cell_type": "code",
   "execution_count": 2,
   "id": "d6a4e155",
   "metadata": {
    "execution": {
     "iopub.execute_input": "2022-07-22T18:42:27.036339Z",
     "iopub.status.busy": "2022-07-22T18:42:27.035776Z",
     "iopub.status.idle": "2022-07-22T18:42:34.173462Z",
     "shell.execute_reply": "2022-07-22T18:42:34.172648Z"
    },
    "id": "d6a4e155",
    "papermill": {
     "duration": 7.155879,
     "end_time": "2022-07-22T18:42:34.176846",
     "exception": false,
     "start_time": "2022-07-22T18:42:27.020967",
     "status": "completed"
    },
    "tags": []
   },
   "outputs": [],
   "source": [
    "import ABC_train_test2\n",
    "import bostonDataset\n",
    "import network\n",
    "import dataset\n",
    "import sanityChecks\n",
    "import torch \n",
    "import scrapbook as sb\n",
    "from statistics import mean \n",
    "import catboost as ctb \n",
    "from sklearn.model_selection import train_test_split\n",
    "from sklearn.metrics import mean_squared_error,mean_absolute_error\n",
    "import numpy as np"
   ]
  },
  {
   "cell_type": "markdown",
   "id": "2fa5b0f7",
   "metadata": {
    "id": "2fa5b0f7",
    "papermill": {
     "duration": 0.0093,
     "end_time": "2022-07-22T18:42:34.194118",
     "exception": false,
     "start_time": "2022-07-22T18:42:34.184818",
     "status": "completed"
    },
    "tags": []
   },
   "source": [
    "## Parameters "
   ]
  },
  {
   "cell_type": "code",
   "execution_count": 3,
   "id": "783186fb",
   "metadata": {
    "execution": {
     "iopub.execute_input": "2022-07-22T18:42:34.213890Z",
     "iopub.status.busy": "2022-07-22T18:42:34.213537Z",
     "iopub.status.idle": "2022-07-22T18:42:34.220996Z",
     "shell.execute_reply": "2022-07-22T18:42:34.217292Z"
    },
    "id": "783186fb",
    "papermill": {
     "duration": 0.022296,
     "end_time": "2022-07-22T18:42:34.224591",
     "exception": false,
     "start_time": "2022-07-22T18:42:34.202295",
     "status": "completed"
    },
    "tags": [
     "parameters"
    ]
   },
   "outputs": [],
   "source": [
    "variance = 1\n",
    "bias = 1 "
   ]
  },
  {
   "cell_type": "code",
   "execution_count": 4,
   "id": "3cf32bc6",
   "metadata": {
    "execution": {
     "iopub.execute_input": "2022-07-22T18:42:34.242901Z",
     "iopub.status.busy": "2022-07-22T18:42:34.242389Z",
     "iopub.status.idle": "2022-07-22T18:42:34.248659Z",
     "shell.execute_reply": "2022-07-22T18:42:34.246668Z"
    },
    "papermill": {
     "duration": 0.020038,
     "end_time": "2022-07-22T18:42:34.252395",
     "exception": false,
     "start_time": "2022-07-22T18:42:34.232357",
     "status": "completed"
    },
    "tags": [
     "injected-parameters"
    ]
   },
   "outputs": [],
   "source": [
    "# Parameters\n",
    "variance = 0.01\n",
    "bias = 0.1\n"
   ]
  },
  {
   "cell_type": "markdown",
   "id": "391cdbfd",
   "metadata": {
    "id": "391cdbfd",
    "papermill": {
     "duration": 0.007505,
     "end_time": "2022-07-22T18:42:34.267716",
     "exception": false,
     "start_time": "2022-07-22T18:42:34.260211",
     "status": "completed"
    },
    "tags": []
   },
   "source": [
    "## Dataset \n"
   ]
  },
  {
   "cell_type": "code",
   "execution_count": 5,
   "id": "5b51f161",
   "metadata": {
    "execution": {
     "iopub.execute_input": "2022-07-22T18:42:34.286484Z",
     "iopub.status.busy": "2022-07-22T18:42:34.285440Z",
     "iopub.status.idle": "2022-07-22T18:42:34.299342Z",
     "shell.execute_reply": "2022-07-22T18:42:34.293272Z"
    },
    "id": "5b51f161",
    "papermill": {
     "duration": 0.027301,
     "end_time": "2022-07-22T18:42:34.303024",
     "exception": false,
     "start_time": "2022-07-22T18:42:34.275723",
     "status": "completed"
    },
    "tags": []
   },
   "outputs": [],
   "source": [
    "#Parameters \n",
    "n_features = 13\n",
    "n_samples= 506\n",
    "n_target = 1 "
   ]
  },
  {
   "cell_type": "code",
   "execution_count": 6,
   "id": "5d6eced4",
   "metadata": {
    "execution": {
     "iopub.execute_input": "2022-07-22T18:42:34.335037Z",
     "iopub.status.busy": "2022-07-22T18:42:34.333250Z",
     "iopub.status.idle": "2022-07-22T18:42:34.366203Z",
     "shell.execute_reply": "2022-07-22T18:42:34.365318Z"
    },
    "id": "5d6eced4",
    "papermill": {
     "duration": 0.058288,
     "end_time": "2022-07-22T18:42:34.369524",
     "exception": false,
     "start_time": "2022-07-22T18:42:34.311236",
     "status": "completed"
    },
    "tags": []
   },
   "outputs": [
    {
     "name": "stdout",
     "output_type": "stream",
     "text": [
      "         X1        X2        X3        X4        X5        X6        X7  \\\n",
      "0 -0.419782  0.284830 -1.287909 -0.272599 -0.144217  0.413672 -0.120013   \n",
      "1 -0.417339 -0.487722 -0.593381 -0.272599 -0.740262  0.194274  0.367166   \n",
      "2 -0.417342 -0.487722 -0.593381 -0.272599 -0.740262  1.282714 -0.265812   \n",
      "3 -0.416750 -0.487722 -1.306878 -0.272599 -0.835284  1.016303 -0.809889   \n",
      "4 -0.412482 -0.487722 -1.306878 -0.272599 -0.835284  1.228577 -0.511180   \n",
      "\n",
      "         X8        X9       X10       X11       X12       X13         Y  \n",
      "0  0.140214 -0.982843 -0.666608 -1.459000  0.441052 -1.075562  0.159686  \n",
      "1  0.557160 -0.867883 -0.987329 -0.303094  0.441052 -0.492439 -0.101524  \n",
      "2  0.557160 -0.867883 -0.987329 -0.303094  0.396427 -1.208727  1.324247  \n",
      "3  1.077737 -0.752922 -1.106115  0.113032  0.416163 -1.361517  1.182758  \n",
      "4  1.077737 -0.752922 -1.106115  0.113032  0.441052 -1.026501  1.487503  \n"
     ]
    }
   ],
   "source": [
    "X,Y = bostonDataset.boston_data()"
   ]
  },
  {
   "cell_type": "code",
   "execution_count": 7,
   "id": "fe007438",
   "metadata": {
    "execution": {
     "iopub.execute_input": "2022-07-22T18:42:34.388359Z",
     "iopub.status.busy": "2022-07-22T18:42:34.387736Z",
     "iopub.status.idle": "2022-07-22T18:42:34.394380Z",
     "shell.execute_reply": "2022-07-22T18:42:34.393135Z"
    },
    "id": "fe007438",
    "papermill": {
     "duration": 0.02305,
     "end_time": "2022-07-22T18:42:34.400393",
     "exception": false,
     "start_time": "2022-07-22T18:42:34.377343",
     "status": "completed"
    },
    "tags": []
   },
   "outputs": [],
   "source": [
    "#Train test split for dataset \n",
    "X_train,X_test,Y_train,Y_test = train_test_split(X,Y,test_size = 0.2)\n",
    "train_data = dataset.CustomDataset(X_train,Y_train)\n",
    "test_data = dataset.CustomDataset(X_test,Y_test)\n"
   ]
  },
  {
   "cell_type": "markdown",
   "id": "a9a1af34",
   "metadata": {
    "id": "a9a1af34",
    "papermill": {
     "duration": 0.007709,
     "end_time": "2022-07-22T18:42:34.415687",
     "exception": false,
     "start_time": "2022-07-22T18:42:34.407978",
     "status": "completed"
    },
    "tags": []
   },
   "source": [
    "## Training Parameters "
   ]
  },
  {
   "cell_type": "code",
   "execution_count": 8,
   "id": "952b7fc8",
   "metadata": {
    "execution": {
     "iopub.execute_input": "2022-07-22T18:42:34.448912Z",
     "iopub.status.busy": "2022-07-22T18:42:34.448519Z",
     "iopub.status.idle": "2022-07-22T18:42:34.454706Z",
     "shell.execute_reply": "2022-07-22T18:42:34.453714Z"
    },
    "id": "952b7fc8",
    "papermill": {
     "duration": 0.039161,
     "end_time": "2022-07-22T18:42:34.463983",
     "exception": false,
     "start_time": "2022-07-22T18:42:34.424822",
     "status": "completed"
    },
    "tags": []
   },
   "outputs": [],
   "source": [
    "batch_size = 32\n",
    "n_epochs = 1000\n",
    "#Select the device \n",
    "device = torch.device('cuda' if torch.cuda.is_available() else 'cpu')"
   ]
  },
  {
   "cell_type": "markdown",
   "id": "a95e1600",
   "metadata": {
    "id": "a95e1600",
    "papermill": {
     "duration": 0.023472,
     "end_time": "2022-07-22T18:42:34.496026",
     "exception": false,
     "start_time": "2022-07-22T18:42:34.472554",
     "status": "completed"
    },
    "tags": []
   },
   "source": [
    "# ABC Pre-generator Model \n",
    "\n",
    "1. The catboost model is used as a pre-generator model for the ABC-GAN. \n",
    "2. The model is first trained on the entire dataset \n",
    "3. It generats X,Y pairs and we add some Gaussian noise with mean 0 and variance 1 to it which is then feed as input to the generator.\n"
   ]
  },
  {
   "cell_type": "code",
   "execution_count": 9,
   "id": "ff8ce7bd",
   "metadata": {
    "execution": {
     "iopub.execute_input": "2022-07-22T18:42:34.514329Z",
     "iopub.status.busy": "2022-07-22T18:42:34.513879Z",
     "iopub.status.idle": "2022-07-22T18:42:37.574935Z",
     "shell.execute_reply": "2022-07-22T18:42:37.574083Z"
    },
    "id": "ff8ce7bd",
    "papermill": {
     "duration": 3.073503,
     "end_time": "2022-07-22T18:42:37.578155",
     "exception": false,
     "start_time": "2022-07-22T18:42:34.504652",
     "status": "completed"
    },
    "tags": []
   },
   "outputs": [
    {
     "name": "stdout",
     "output_type": "stream",
     "text": [
      "Learning rate set to 0.03548\n"
     ]
    },
    {
     "name": "stdout",
     "output_type": "stream",
     "text": [
      "0:\tlearn: 0.9907401\ttotal: 54.4ms\tremaining: 54.3s\n",
      "1:\tlearn: 0.9703107\ttotal: 57.1ms\tremaining: 28.5s\n",
      "2:\tlearn: 0.9502640\ttotal: 59.5ms\tremaining: 19.8s\n",
      "3:\tlearn: 0.9333674\ttotal: 68.4ms\tremaining: 17s\n",
      "4:\tlearn: 0.9126328\ttotal: 71.7ms\tremaining: 14.3s\n",
      "5:\tlearn: 0.8936736\ttotal: 75.4ms\tremaining: 12.5s\n",
      "6:\tlearn: 0.8766168\ttotal: 78.9ms\tremaining: 11.2s\n",
      "7:\tlearn: 0.8603481\ttotal: 81.4ms\tremaining: 10.1s\n",
      "8:\tlearn: 0.8451269\ttotal: 83.9ms\tremaining: 9.24s\n",
      "9:\tlearn: 0.8276242\ttotal: 86.3ms\tremaining: 8.54s\n",
      "10:\tlearn: 0.8137575\ttotal: 88.4ms\tremaining: 7.95s\n",
      "11:\tlearn: 0.7970755\ttotal: 90.8ms\tremaining: 7.48s\n",
      "12:\tlearn: 0.7807532\ttotal: 93.1ms\tremaining: 7.07s\n",
      "13:\tlearn: 0.7645931\ttotal: 95.5ms\tremaining: 6.72s\n",
      "14:\tlearn: 0.7506244\ttotal: 98.1ms\tremaining: 6.44s\n",
      "15:\tlearn: 0.7355161\ttotal: 101ms\tremaining: 6.2s\n",
      "16:\tlearn: 0.7225109\ttotal: 103ms\tremaining: 5.98s\n",
      "17:\tlearn: 0.7108462\ttotal: 106ms\tremaining: 5.77s\n",
      "18:\tlearn: 0.6979128\ttotal: 108ms\tremaining: 5.58s\n",
      "19:\tlearn: 0.6842711\ttotal: 110ms\tremaining: 5.4s\n",
      "20:\tlearn: 0.6702917\ttotal: 113ms\tremaining: 5.25s\n",
      "21:\tlearn: 0.6603051\ttotal: 115ms\tremaining: 5.12s\n",
      "22:\tlearn: 0.6505254\ttotal: 118ms\tremaining: 5s\n",
      "23:\tlearn: 0.6400191\ttotal: 120ms\tremaining: 4.89s\n",
      "24:\tlearn: 0.6298653\ttotal: 123ms\tremaining: 4.79s\n",
      "25:\tlearn: 0.6204277\ttotal: 126ms\tremaining: 4.71s\n",
      "26:\tlearn: 0.6113738\ttotal: 128ms\tremaining: 4.63s\n",
      "27:\tlearn: 0.6017046\ttotal: 132ms\tremaining: 4.58s\n",
      "28:\tlearn: 0.5928759\ttotal: 134ms\tremaining: 4.5s\n",
      "29:\tlearn: 0.5822953\ttotal: 139ms\tremaining: 4.49s\n",
      "30:\tlearn: 0.5716615\ttotal: 151ms\tremaining: 4.73s\n",
      "31:\tlearn: 0.5631424\ttotal: 154ms\tremaining: 4.66s\n",
      "32:\tlearn: 0.5559436\ttotal: 157ms\tremaining: 4.6s\n",
      "33:\tlearn: 0.5488326\ttotal: 164ms\tremaining: 4.65s\n",
      "34:\tlearn: 0.5413293\ttotal: 166ms\tremaining: 4.58s\n",
      "35:\tlearn: 0.5343505\ttotal: 169ms\tremaining: 4.54s\n",
      "36:\tlearn: 0.5271619\ttotal: 173ms\tremaining: 4.49s\n",
      "37:\tlearn: 0.5204103\ttotal: 175ms\tremaining: 4.43s\n"
     ]
    },
    {
     "name": "stdout",
     "output_type": "stream",
     "text": [
      "38:\tlearn: 0.5130775\ttotal: 177ms\tremaining: 4.37s\n",
      "39:\tlearn: 0.5051407\ttotal: 180ms\tremaining: 4.32s\n",
      "40:\tlearn: 0.4991522\ttotal: 183ms\tremaining: 4.29s\n",
      "41:\tlearn: 0.4926595\ttotal: 186ms\tremaining: 4.25s\n",
      "42:\tlearn: 0.4867667\ttotal: 189ms\tremaining: 4.21s\n",
      "43:\tlearn: 0.4798573\ttotal: 192ms\tremaining: 4.17s\n",
      "44:\tlearn: 0.4749006\ttotal: 194ms\tremaining: 4.13s\n",
      "45:\tlearn: 0.4695085\ttotal: 197ms\tremaining: 4.08s\n",
      "46:\tlearn: 0.4647013\ttotal: 199ms\tremaining: 4.04s\n",
      "47:\tlearn: 0.4588236\ttotal: 202ms\tremaining: 4s\n",
      "48:\tlearn: 0.4542721\ttotal: 204ms\tremaining: 3.96s\n",
      "49:\tlearn: 0.4488815\ttotal: 206ms\tremaining: 3.92s\n",
      "50:\tlearn: 0.4442637\ttotal: 209ms\tremaining: 3.89s\n",
      "51:\tlearn: 0.4401401\ttotal: 212ms\tremaining: 3.86s\n",
      "52:\tlearn: 0.4352913\ttotal: 214ms\tremaining: 3.82s\n",
      "53:\tlearn: 0.4316279\ttotal: 215ms\tremaining: 3.77s\n",
      "54:\tlearn: 0.4271839\ttotal: 218ms\tremaining: 3.74s\n",
      "55:\tlearn: 0.4240178\ttotal: 220ms\tremaining: 3.71s\n",
      "56:\tlearn: 0.4201149\ttotal: 224ms\tremaining: 3.71s\n",
      "57:\tlearn: 0.4166922\ttotal: 227ms\tremaining: 3.69s\n",
      "58:\tlearn: 0.4126798\ttotal: 229ms\tremaining: 3.66s\n",
      "59:\tlearn: 0.4090106\ttotal: 232ms\tremaining: 3.63s\n"
     ]
    },
    {
     "name": "stdout",
     "output_type": "stream",
     "text": [
      "60:\tlearn: 0.4052440\ttotal: 236ms\tremaining: 3.63s\n",
      "61:\tlearn: 0.4006893\ttotal: 238ms\tremaining: 3.6s\n",
      "62:\tlearn: 0.3969890\ttotal: 241ms\tremaining: 3.58s\n",
      "63:\tlearn: 0.3921379\ttotal: 244ms\tremaining: 3.56s\n",
      "64:\tlearn: 0.3887350\ttotal: 246ms\tremaining: 3.54s\n",
      "65:\tlearn: 0.3853523\ttotal: 249ms\tremaining: 3.52s\n",
      "66:\tlearn: 0.3813923\ttotal: 251ms\tremaining: 3.5s\n",
      "67:\tlearn: 0.3792256\ttotal: 254ms\tremaining: 3.48s\n",
      "68:\tlearn: 0.3750533\ttotal: 257ms\tremaining: 3.46s\n",
      "69:\tlearn: 0.3724113\ttotal: 259ms\tremaining: 3.44s\n",
      "70:\tlearn: 0.3693909\ttotal: 261ms\tremaining: 3.42s\n",
      "71:\tlearn: 0.3655003\ttotal: 264ms\tremaining: 3.4s\n",
      "72:\tlearn: 0.3621611\ttotal: 266ms\tremaining: 3.38s\n",
      "73:\tlearn: 0.3583154\ttotal: 273ms\tremaining: 3.42s\n",
      "74:\tlearn: 0.3551877\ttotal: 275ms\tremaining: 3.39s\n",
      "75:\tlearn: 0.3528188\ttotal: 277ms\tremaining: 3.37s\n",
      "76:\tlearn: 0.3501482\ttotal: 279ms\tremaining: 3.34s\n",
      "77:\tlearn: 0.3478760\ttotal: 281ms\tremaining: 3.32s\n",
      "78:\tlearn: 0.3451902\ttotal: 283ms\tremaining: 3.29s\n",
      "79:\tlearn: 0.3425503\ttotal: 288ms\tremaining: 3.31s\n",
      "80:\tlearn: 0.3402754\ttotal: 290ms\tremaining: 3.29s\n",
      "81:\tlearn: 0.3379942\ttotal: 292ms\tremaining: 3.27s\n",
      "82:\tlearn: 0.3354188\ttotal: 295ms\tremaining: 3.26s\n",
      "83:\tlearn: 0.3336048\ttotal: 297ms\tremaining: 3.23s\n",
      "84:\tlearn: 0.3312639\ttotal: 299ms\tremaining: 3.22s\n",
      "85:\tlearn: 0.3290037\ttotal: 301ms\tremaining: 3.2s\n",
      "86:\tlearn: 0.3266651\ttotal: 304ms\tremaining: 3.19s\n",
      "87:\tlearn: 0.3242660\ttotal: 307ms\tremaining: 3.18s\n",
      "88:\tlearn: 0.3225490\ttotal: 315ms\tremaining: 3.22s\n",
      "89:\tlearn: 0.3201216\ttotal: 319ms\tremaining: 3.23s\n",
      "90:\tlearn: 0.3184446\ttotal: 321ms\tremaining: 3.21s\n",
      "91:\tlearn: 0.3166676\ttotal: 323ms\tremaining: 3.19s\n",
      "92:\tlearn: 0.3151869\ttotal: 325ms\tremaining: 3.17s\n",
      "93:\tlearn: 0.3133636\ttotal: 328ms\tremaining: 3.16s\n",
      "94:\tlearn: 0.3112219\ttotal: 330ms\tremaining: 3.14s\n",
      "95:\tlearn: 0.3098924\ttotal: 333ms\tremaining: 3.13s\n",
      "96:\tlearn: 0.3088699\ttotal: 335ms\tremaining: 3.12s\n",
      "97:\tlearn: 0.3072473\ttotal: 337ms\tremaining: 3.1s\n",
      "98:\tlearn: 0.3053991\ttotal: 340ms\tremaining: 3.09s\n",
      "99:\tlearn: 0.3042362\ttotal: 343ms\tremaining: 3.09s\n",
      "100:\tlearn: 0.3029913\ttotal: 347ms\tremaining: 3.08s\n",
      "101:\tlearn: 0.3011748\ttotal: 349ms\tremaining: 3.07s\n",
      "102:\tlearn: 0.2997549\ttotal: 352ms\tremaining: 3.07s\n"
     ]
    },
    {
     "name": "stdout",
     "output_type": "stream",
     "text": [
      "103:\tlearn: 0.2982773\ttotal: 356ms\tremaining: 3.06s\n",
      "104:\tlearn: 0.2970253\ttotal: 360ms\tremaining: 3.06s\n",
      "105:\tlearn: 0.2959999\ttotal: 362ms\tremaining: 3.05s\n",
      "106:\tlearn: 0.2940304\ttotal: 364ms\tremaining: 3.04s\n",
      "107:\tlearn: 0.2917500\ttotal: 366ms\tremaining: 3.02s\n",
      "108:\tlearn: 0.2902667\ttotal: 369ms\tremaining: 3.01s\n",
      "109:\tlearn: 0.2890154\ttotal: 371ms\tremaining: 3s\n",
      "110:\tlearn: 0.2881123\ttotal: 374ms\tremaining: 2.99s\n",
      "111:\tlearn: 0.2865665\ttotal: 376ms\tremaining: 2.98s\n",
      "112:\tlearn: 0.2848261\ttotal: 379ms\tremaining: 2.97s\n",
      "113:\tlearn: 0.2832709\ttotal: 381ms\tremaining: 2.96s\n",
      "114:\tlearn: 0.2819725\ttotal: 384ms\tremaining: 2.95s\n",
      "115:\tlearn: 0.2802648\ttotal: 386ms\tremaining: 2.94s\n",
      "116:\tlearn: 0.2789437\ttotal: 389ms\tremaining: 2.94s\n",
      "117:\tlearn: 0.2778198\ttotal: 391ms\tremaining: 2.92s\n",
      "118:\tlearn: 0.2766630\ttotal: 394ms\tremaining: 2.92s\n",
      "119:\tlearn: 0.2756554\ttotal: 397ms\tremaining: 2.91s\n",
      "120:\tlearn: 0.2743630\ttotal: 399ms\tremaining: 2.9s\n",
      "121:\tlearn: 0.2733854\ttotal: 402ms\tremaining: 2.89s\n",
      "122:\tlearn: 0.2722728\ttotal: 404ms\tremaining: 2.88s\n",
      "123:\tlearn: 0.2711966\ttotal: 406ms\tremaining: 2.87s\n",
      "124:\tlearn: 0.2699508\ttotal: 408ms\tremaining: 2.86s\n"
     ]
    },
    {
     "name": "stdout",
     "output_type": "stream",
     "text": [
      "125:\tlearn: 0.2688186\ttotal: 411ms\tremaining: 2.85s\n",
      "126:\tlearn: 0.2673593\ttotal: 414ms\tremaining: 2.85s\n",
      "127:\tlearn: 0.2662353\ttotal: 417ms\tremaining: 2.84s\n",
      "128:\tlearn: 0.2651220\ttotal: 419ms\tremaining: 2.83s\n",
      "129:\tlearn: 0.2639702\ttotal: 422ms\tremaining: 2.82s\n",
      "130:\tlearn: 0.2630608\ttotal: 425ms\tremaining: 2.82s\n",
      "131:\tlearn: 0.2616008\ttotal: 427ms\tremaining: 2.81s\n",
      "132:\tlearn: 0.2606510\ttotal: 430ms\tremaining: 2.8s\n",
      "133:\tlearn: 0.2595334\ttotal: 432ms\tremaining: 2.79s\n",
      "134:\tlearn: 0.2586031\ttotal: 435ms\tremaining: 2.79s\n",
      "135:\tlearn: 0.2571511\ttotal: 437ms\tremaining: 2.77s\n",
      "136:\tlearn: 0.2563786\ttotal: 439ms\tremaining: 2.77s\n",
      "137:\tlearn: 0.2556058\ttotal: 442ms\tremaining: 2.76s\n",
      "138:\tlearn: 0.2545336\ttotal: 445ms\tremaining: 2.75s\n",
      "139:\tlearn: 0.2536483\ttotal: 447ms\tremaining: 2.75s\n",
      "140:\tlearn: 0.2528171\ttotal: 450ms\tremaining: 2.74s\n",
      "141:\tlearn: 0.2518124\ttotal: 451ms\tremaining: 2.73s\n",
      "142:\tlearn: 0.2508526\ttotal: 454ms\tremaining: 2.72s\n",
      "143:\tlearn: 0.2496530\ttotal: 456ms\tremaining: 2.71s\n",
      "144:\tlearn: 0.2488939\ttotal: 459ms\tremaining: 2.71s\n",
      "145:\tlearn: 0.2479348\ttotal: 462ms\tremaining: 2.7s\n",
      "146:\tlearn: 0.2468885\ttotal: 464ms\tremaining: 2.69s\n",
      "147:\tlearn: 0.2460629\ttotal: 466ms\tremaining: 2.68s\n",
      "148:\tlearn: 0.2447832\ttotal: 469ms\tremaining: 2.68s\n",
      "149:\tlearn: 0.2442485\ttotal: 471ms\tremaining: 2.67s\n",
      "150:\tlearn: 0.2431144\ttotal: 474ms\tremaining: 2.66s\n",
      "151:\tlearn: 0.2422250\ttotal: 476ms\tremaining: 2.66s\n",
      "152:\tlearn: 0.2413862\ttotal: 479ms\tremaining: 2.65s\n",
      "153:\tlearn: 0.2404250\ttotal: 480ms\tremaining: 2.64s\n",
      "154:\tlearn: 0.2399551\ttotal: 483ms\tremaining: 2.63s\n",
      "155:\tlearn: 0.2388035\ttotal: 485ms\tremaining: 2.63s\n",
      "156:\tlearn: 0.2377865\ttotal: 488ms\tremaining: 2.62s\n",
      "157:\tlearn: 0.2371490\ttotal: 491ms\tremaining: 2.62s\n",
      "158:\tlearn: 0.2364715\ttotal: 493ms\tremaining: 2.61s\n",
      "159:\tlearn: 0.2359528\ttotal: 495ms\tremaining: 2.6s\n",
      "160:\tlearn: 0.2353755\ttotal: 498ms\tremaining: 2.6s\n",
      "161:\tlearn: 0.2345985\ttotal: 501ms\tremaining: 2.59s\n",
      "162:\tlearn: 0.2334705\ttotal: 503ms\tremaining: 2.58s\n",
      "163:\tlearn: 0.2326644\ttotal: 506ms\tremaining: 2.58s\n",
      "164:\tlearn: 0.2320776\ttotal: 509ms\tremaining: 2.57s\n",
      "165:\tlearn: 0.2314416\ttotal: 510ms\tremaining: 2.56s\n",
      "166:\tlearn: 0.2305609\ttotal: 513ms\tremaining: 2.56s\n",
      "167:\tlearn: 0.2298343\ttotal: 516ms\tremaining: 2.55s\n",
      "168:\tlearn: 0.2294312\ttotal: 518ms\tremaining: 2.55s\n",
      "169:\tlearn: 0.2285304\ttotal: 521ms\tremaining: 2.54s\n",
      "170:\tlearn: 0.2276505\ttotal: 523ms\tremaining: 2.54s\n",
      "171:\tlearn: 0.2270989\ttotal: 525ms\tremaining: 2.52s\n",
      "172:\tlearn: 0.2265395\ttotal: 527ms\tremaining: 2.52s\n"
     ]
    },
    {
     "name": "stdout",
     "output_type": "stream",
     "text": [
      "173:\tlearn: 0.2255419\ttotal: 542ms\tremaining: 2.57s\n",
      "174:\tlearn: 0.2250264\ttotal: 545ms\tremaining: 2.57s\n",
      "175:\tlearn: 0.2244870\ttotal: 548ms\tremaining: 2.57s\n",
      "176:\tlearn: 0.2236773\ttotal: 551ms\tremaining: 2.56s\n",
      "177:\tlearn: 0.2228809\ttotal: 553ms\tremaining: 2.56s\n",
      "178:\tlearn: 0.2223338\ttotal: 556ms\tremaining: 2.55s\n",
      "179:\tlearn: 0.2216662\ttotal: 558ms\tremaining: 2.54s\n",
      "180:\tlearn: 0.2207888\ttotal: 561ms\tremaining: 2.54s\n",
      "181:\tlearn: 0.2200334\ttotal: 562ms\tremaining: 2.53s\n",
      "182:\tlearn: 0.2195332\ttotal: 564ms\tremaining: 2.52s\n",
      "183:\tlearn: 0.2189144\ttotal: 566ms\tremaining: 2.51s\n",
      "184:\tlearn: 0.2181234\ttotal: 568ms\tremaining: 2.5s\n",
      "185:\tlearn: 0.2174827\ttotal: 570ms\tremaining: 2.49s\n",
      "186:\tlearn: 0.2164243\ttotal: 572ms\tremaining: 2.48s\n",
      "187:\tlearn: 0.2156380\ttotal: 573ms\tremaining: 2.48s\n"
     ]
    },
    {
     "name": "stdout",
     "output_type": "stream",
     "text": [
      "188:\tlearn: 0.2150662\ttotal: 608ms\tremaining: 2.61s\n",
      "189:\tlearn: 0.2146261\ttotal: 611ms\tremaining: 2.6s\n",
      "190:\tlearn: 0.2139743\ttotal: 613ms\tremaining: 2.6s\n",
      "191:\tlearn: 0.2133045\ttotal: 642ms\tremaining: 2.7s\n",
      "192:\tlearn: 0.2125411\ttotal: 645ms\tremaining: 2.7s\n",
      "193:\tlearn: 0.2121864\ttotal: 647ms\tremaining: 2.69s\n",
      "194:\tlearn: 0.2115576\ttotal: 650ms\tremaining: 2.68s\n",
      "195:\tlearn: 0.2109088\ttotal: 652ms\tremaining: 2.67s\n",
      "196:\tlearn: 0.2100498\ttotal: 654ms\tremaining: 2.66s\n",
      "197:\tlearn: 0.2093724\ttotal: 656ms\tremaining: 2.66s\n",
      "198:\tlearn: 0.2086524\ttotal: 659ms\tremaining: 2.65s\n",
      "199:\tlearn: 0.2080032\ttotal: 662ms\tremaining: 2.65s\n",
      "200:\tlearn: 0.2073484\ttotal: 665ms\tremaining: 2.64s\n",
      "201:\tlearn: 0.2067365\ttotal: 667ms\tremaining: 2.64s\n",
      "202:\tlearn: 0.2060730\ttotal: 671ms\tremaining: 2.63s\n",
      "203:\tlearn: 0.2055362\ttotal: 676ms\tremaining: 2.64s\n",
      "204:\tlearn: 0.2049887\ttotal: 680ms\tremaining: 2.63s\n"
     ]
    },
    {
     "name": "stdout",
     "output_type": "stream",
     "text": [
      "205:\tlearn: 0.2045012\ttotal: 683ms\tremaining: 2.63s\n",
      "206:\tlearn: 0.2038237\ttotal: 686ms\tremaining: 2.63s\n",
      "207:\tlearn: 0.2031890\ttotal: 688ms\tremaining: 2.62s\n",
      "208:\tlearn: 0.2025690\ttotal: 691ms\tremaining: 2.61s\n",
      "209:\tlearn: 0.2021632\ttotal: 693ms\tremaining: 2.61s\n",
      "210:\tlearn: 0.2015292\ttotal: 695ms\tremaining: 2.6s\n",
      "211:\tlearn: 0.2011464\ttotal: 697ms\tremaining: 2.59s\n",
      "212:\tlearn: 0.2001617\ttotal: 700ms\tremaining: 2.59s\n",
      "213:\tlearn: 0.1993891\ttotal: 702ms\tremaining: 2.58s\n",
      "214:\tlearn: 0.1986298\ttotal: 705ms\tremaining: 2.57s\n",
      "215:\tlearn: 0.1981964\ttotal: 707ms\tremaining: 2.57s\n",
      "216:\tlearn: 0.1978007\ttotal: 710ms\tremaining: 2.56s\n",
      "217:\tlearn: 0.1971628\ttotal: 713ms\tremaining: 2.56s\n",
      "218:\tlearn: 0.1966041\ttotal: 719ms\tremaining: 2.56s\n",
      "219:\tlearn: 0.1960349\ttotal: 722ms\tremaining: 2.56s\n",
      "220:\tlearn: 0.1951400\ttotal: 724ms\tremaining: 2.55s\n",
      "221:\tlearn: 0.1943889\ttotal: 727ms\tremaining: 2.55s\n",
      "222:\tlearn: 0.1935564\ttotal: 729ms\tremaining: 2.54s\n",
      "223:\tlearn: 0.1928606\ttotal: 731ms\tremaining: 2.53s\n",
      "224:\tlearn: 0.1922138\ttotal: 734ms\tremaining: 2.53s\n",
      "225:\tlearn: 0.1916565\ttotal: 737ms\tremaining: 2.52s\n",
      "226:\tlearn: 0.1910329\ttotal: 739ms\tremaining: 2.52s\n",
      "227:\tlearn: 0.1901959\ttotal: 742ms\tremaining: 2.51s\n",
      "228:\tlearn: 0.1895629\ttotal: 745ms\tremaining: 2.51s\n",
      "229:\tlearn: 0.1890803\ttotal: 747ms\tremaining: 2.5s\n",
      "230:\tlearn: 0.1886232\ttotal: 749ms\tremaining: 2.49s\n",
      "231:\tlearn: 0.1883976\ttotal: 752ms\tremaining: 2.49s\n",
      "232:\tlearn: 0.1878707\ttotal: 754ms\tremaining: 2.48s\n",
      "233:\tlearn: 0.1872594\ttotal: 757ms\tremaining: 2.48s\n",
      "234:\tlearn: 0.1867524\ttotal: 760ms\tremaining: 2.47s\n",
      "235:\tlearn: 0.1859846\ttotal: 762ms\tremaining: 2.47s\n",
      "236:\tlearn: 0.1857732\ttotal: 764ms\tremaining: 2.46s\n",
      "237:\tlearn: 0.1853172\ttotal: 767ms\tremaining: 2.46s\n",
      "238:\tlearn: 0.1849084\ttotal: 769ms\tremaining: 2.45s\n",
      "239:\tlearn: 0.1844867\ttotal: 772ms\tremaining: 2.44s\n",
      "240:\tlearn: 0.1839565\ttotal: 773ms\tremaining: 2.44s\n",
      "241:\tlearn: 0.1833953\ttotal: 775ms\tremaining: 2.43s\n",
      "242:\tlearn: 0.1827349\ttotal: 778ms\tremaining: 2.42s\n",
      "243:\tlearn: 0.1822069\ttotal: 780ms\tremaining: 2.42s\n",
      "244:\tlearn: 0.1816818\ttotal: 783ms\tremaining: 2.41s\n",
      "245:\tlearn: 0.1812616\ttotal: 785ms\tremaining: 2.41s\n"
     ]
    },
    {
     "name": "stdout",
     "output_type": "stream",
     "text": [
      "246:\tlearn: 0.1806185\ttotal: 788ms\tremaining: 2.4s\n",
      "247:\tlearn: 0.1798804\ttotal: 792ms\tremaining: 2.4s\n",
      "248:\tlearn: 0.1795912\ttotal: 795ms\tremaining: 2.4s\n",
      "249:\tlearn: 0.1792247\ttotal: 797ms\tremaining: 2.39s\n",
      "250:\tlearn: 0.1789157\ttotal: 800ms\tremaining: 2.39s\n",
      "251:\tlearn: 0.1784892\ttotal: 802ms\tremaining: 2.38s\n",
      "252:\tlearn: 0.1780118\ttotal: 805ms\tremaining: 2.38s\n",
      "253:\tlearn: 0.1774209\ttotal: 808ms\tremaining: 2.37s\n",
      "254:\tlearn: 0.1770180\ttotal: 811ms\tremaining: 2.37s\n",
      "255:\tlearn: 0.1767521\ttotal: 813ms\tremaining: 2.36s\n",
      "256:\tlearn: 0.1762091\ttotal: 816ms\tremaining: 2.36s\n",
      "257:\tlearn: 0.1760280\ttotal: 818ms\tremaining: 2.35s\n",
      "258:\tlearn: 0.1756560\ttotal: 821ms\tremaining: 2.35s\n",
      "259:\tlearn: 0.1751353\ttotal: 823ms\tremaining: 2.34s\n",
      "260:\tlearn: 0.1746216\ttotal: 826ms\tremaining: 2.34s\n",
      "261:\tlearn: 0.1741182\ttotal: 828ms\tremaining: 2.33s\n",
      "262:\tlearn: 0.1735947\ttotal: 831ms\tremaining: 2.33s\n",
      "263:\tlearn: 0.1732215\ttotal: 834ms\tremaining: 2.33s\n",
      "264:\tlearn: 0.1726365\ttotal: 836ms\tremaining: 2.32s\n",
      "265:\tlearn: 0.1720646\ttotal: 839ms\tremaining: 2.31s\n",
      "266:\tlearn: 0.1715962\ttotal: 841ms\tremaining: 2.31s\n",
      "267:\tlearn: 0.1711227\ttotal: 844ms\tremaining: 2.3s\n",
      "268:\tlearn: 0.1705296\ttotal: 846ms\tremaining: 2.3s\n",
      "269:\tlearn: 0.1702058\ttotal: 848ms\tremaining: 2.29s\n",
      "270:\tlearn: 0.1696280\ttotal: 850ms\tremaining: 2.29s\n",
      "271:\tlearn: 0.1690714\ttotal: 852ms\tremaining: 2.28s\n",
      "272:\tlearn: 0.1685440\ttotal: 854ms\tremaining: 2.27s\n",
      "273:\tlearn: 0.1681343\ttotal: 855ms\tremaining: 2.27s\n",
      "274:\tlearn: 0.1678005\ttotal: 857ms\tremaining: 2.26s\n",
      "275:\tlearn: 0.1673295\ttotal: 859ms\tremaining: 2.25s\n"
     ]
    },
    {
     "name": "stdout",
     "output_type": "stream",
     "text": [
      "276:\tlearn: 0.1668884\ttotal: 884ms\tremaining: 2.31s\n",
      "277:\tlearn: 0.1663975\ttotal: 889ms\tremaining: 2.31s\n",
      "278:\tlearn: 0.1659379\ttotal: 891ms\tremaining: 2.3s\n",
      "279:\tlearn: 0.1655171\ttotal: 893ms\tremaining: 2.3s\n",
      "280:\tlearn: 0.1652152\ttotal: 895ms\tremaining: 2.29s\n",
      "281:\tlearn: 0.1646444\ttotal: 897ms\tremaining: 2.28s\n",
      "282:\tlearn: 0.1642012\ttotal: 899ms\tremaining: 2.28s\n",
      "283:\tlearn: 0.1639295\ttotal: 901ms\tremaining: 2.27s\n",
      "284:\tlearn: 0.1635461\ttotal: 902ms\tremaining: 2.26s\n",
      "285:\tlearn: 0.1630905\ttotal: 904ms\tremaining: 2.26s\n",
      "286:\tlearn: 0.1626721\ttotal: 906ms\tremaining: 2.25s\n",
      "287:\tlearn: 0.1624654\ttotal: 909ms\tremaining: 2.25s\n",
      "288:\tlearn: 0.1621685\ttotal: 911ms\tremaining: 2.24s\n",
      "289:\tlearn: 0.1617141\ttotal: 913ms\tremaining: 2.23s\n",
      "290:\tlearn: 0.1615652\ttotal: 915ms\tremaining: 2.23s\n",
      "291:\tlearn: 0.1610908\ttotal: 917ms\tremaining: 2.22s\n",
      "292:\tlearn: 0.1605779\ttotal: 919ms\tremaining: 2.22s\n",
      "293:\tlearn: 0.1605455\ttotal: 921ms\tremaining: 2.21s\n",
      "294:\tlearn: 0.1602230\ttotal: 923ms\tremaining: 2.21s\n",
      "295:\tlearn: 0.1598024\ttotal: 925ms\tremaining: 2.2s\n",
      "296:\tlearn: 0.1593876\ttotal: 927ms\tremaining: 2.19s\n",
      "297:\tlearn: 0.1588751\ttotal: 930ms\tremaining: 2.19s\n",
      "298:\tlearn: 0.1585280\ttotal: 932ms\tremaining: 2.19s\n",
      "299:\tlearn: 0.1581329\ttotal: 935ms\tremaining: 2.18s\n",
      "300:\tlearn: 0.1577676\ttotal: 937ms\tremaining: 2.18s\n",
      "301:\tlearn: 0.1572627\ttotal: 940ms\tremaining: 2.17s\n",
      "302:\tlearn: 0.1569061\ttotal: 942ms\tremaining: 2.17s\n",
      "303:\tlearn: 0.1564272\ttotal: 944ms\tremaining: 2.16s\n",
      "304:\tlearn: 0.1558984\ttotal: 947ms\tremaining: 2.16s\n",
      "305:\tlearn: 0.1556406\ttotal: 949ms\tremaining: 2.15s\n",
      "306:\tlearn: 0.1553447\ttotal: 952ms\tremaining: 2.15s\n",
      "307:\tlearn: 0.1551997\ttotal: 954ms\tremaining: 2.14s\n",
      "308:\tlearn: 0.1550330\ttotal: 957ms\tremaining: 2.14s\n",
      "309:\tlearn: 0.1546701\ttotal: 959ms\tremaining: 2.13s\n"
     ]
    },
    {
     "name": "stdout",
     "output_type": "stream",
     "text": [
      "310:\tlearn: 0.1542398\ttotal: 962ms\tremaining: 2.13s\n",
      "311:\tlearn: 0.1539279\ttotal: 964ms\tremaining: 2.13s\n",
      "312:\tlearn: 0.1534486\ttotal: 966ms\tremaining: 2.12s\n",
      "313:\tlearn: 0.1532649\ttotal: 968ms\tremaining: 2.12s\n",
      "314:\tlearn: 0.1531329\ttotal: 975ms\tremaining: 2.12s\n",
      "315:\tlearn: 0.1529658\ttotal: 978ms\tremaining: 2.12s\n",
      "316:\tlearn: 0.1525574\ttotal: 981ms\tremaining: 2.11s\n",
      "317:\tlearn: 0.1522227\ttotal: 983ms\tremaining: 2.11s\n",
      "318:\tlearn: 0.1520199\ttotal: 985ms\tremaining: 2.1s\n",
      "319:\tlearn: 0.1515172\ttotal: 988ms\tremaining: 2.1s\n",
      "320:\tlearn: 0.1512752\ttotal: 990ms\tremaining: 2.09s\n",
      "321:\tlearn: 0.1510229\ttotal: 993ms\tremaining: 2.09s\n",
      "322:\tlearn: 0.1506971\ttotal: 995ms\tremaining: 2.09s\n",
      "323:\tlearn: 0.1502335\ttotal: 998ms\tremaining: 2.08s\n",
      "324:\tlearn: 0.1498941\ttotal: 1s\tremaining: 2.08s\n",
      "325:\tlearn: 0.1496505\ttotal: 1s\tremaining: 2.07s\n",
      "326:\tlearn: 0.1492955\ttotal: 1.01s\tremaining: 2.07s\n",
      "327:\tlearn: 0.1491157\ttotal: 1.01s\tremaining: 2.07s\n",
      "328:\tlearn: 0.1486761\ttotal: 1.01s\tremaining: 2.07s\n",
      "329:\tlearn: 0.1481777\ttotal: 1.02s\tremaining: 2.06s\n",
      "330:\tlearn: 0.1477458\ttotal: 1.02s\tremaining: 2.06s\n",
      "331:\tlearn: 0.1473630\ttotal: 1.02s\tremaining: 2.05s\n",
      "332:\tlearn: 0.1470588\ttotal: 1.02s\tremaining: 2.05s\n",
      "333:\tlearn: 0.1468195\ttotal: 1.02s\tremaining: 2.04s\n",
      "334:\tlearn: 0.1463839\ttotal: 1.03s\tremaining: 2.04s\n",
      "335:\tlearn: 0.1460119\ttotal: 1.03s\tremaining: 2.04s\n",
      "336:\tlearn: 0.1458611\ttotal: 1.03s\tremaining: 2.03s\n",
      "337:\tlearn: 0.1454458\ttotal: 1.03s\tremaining: 2.03s\n",
      "338:\tlearn: 0.1452103\ttotal: 1.04s\tremaining: 2.02s\n",
      "339:\tlearn: 0.1450640\ttotal: 1.04s\tremaining: 2.02s\n",
      "340:\tlearn: 0.1446906\ttotal: 1.04s\tremaining: 2.01s\n",
      "341:\tlearn: 0.1443493\ttotal: 1.04s\tremaining: 2.01s\n",
      "342:\tlearn: 0.1439406\ttotal: 1.05s\tremaining: 2s\n",
      "343:\tlearn: 0.1436262\ttotal: 1.05s\tremaining: 2s\n",
      "344:\tlearn: 0.1431639\ttotal: 1.05s\tremaining: 2s\n",
      "345:\tlearn: 0.1427694\ttotal: 1.05s\tremaining: 1.99s\n",
      "346:\tlearn: 0.1424552\ttotal: 1.05s\tremaining: 1.99s\n",
      "347:\tlearn: 0.1421539\ttotal: 1.06s\tremaining: 1.98s\n"
     ]
    },
    {
     "name": "stdout",
     "output_type": "stream",
     "text": [
      "348:\tlearn: 0.1417783\ttotal: 1.06s\tremaining: 1.98s\n",
      "349:\tlearn: 0.1414493\ttotal: 1.06s\tremaining: 1.97s\n",
      "350:\tlearn: 0.1411174\ttotal: 1.06s\tremaining: 1.97s\n",
      "351:\tlearn: 0.1409109\ttotal: 1.07s\tremaining: 1.97s\n",
      "352:\tlearn: 0.1405902\ttotal: 1.07s\tremaining: 1.96s\n",
      "353:\tlearn: 0.1404110\ttotal: 1.07s\tremaining: 1.96s\n",
      "354:\tlearn: 0.1401364\ttotal: 1.07s\tremaining: 1.95s\n",
      "355:\tlearn: 0.1400056\ttotal: 1.07s\tremaining: 1.95s\n",
      "356:\tlearn: 0.1395793\ttotal: 1.08s\tremaining: 1.94s\n",
      "357:\tlearn: 0.1393069\ttotal: 1.08s\tremaining: 1.94s\n",
      "358:\tlearn: 0.1391956\ttotal: 1.08s\tremaining: 1.93s\n",
      "359:\tlearn: 0.1388227\ttotal: 1.08s\tremaining: 1.93s\n",
      "360:\tlearn: 0.1386003\ttotal: 1.09s\tremaining: 1.92s\n",
      "361:\tlearn: 0.1383005\ttotal: 1.09s\tremaining: 1.92s\n",
      "362:\tlearn: 0.1381710\ttotal: 1.09s\tremaining: 1.91s\n",
      "363:\tlearn: 0.1380445\ttotal: 1.09s\tremaining: 1.91s\n",
      "364:\tlearn: 0.1379051\ttotal: 1.09s\tremaining: 1.9s\n",
      "365:\tlearn: 0.1376481\ttotal: 1.1s\tremaining: 1.9s\n",
      "366:\tlearn: 0.1372866\ttotal: 1.1s\tremaining: 1.9s\n",
      "367:\tlearn: 0.1369462\ttotal: 1.11s\tremaining: 1.9s\n",
      "368:\tlearn: 0.1366007\ttotal: 1.11s\tremaining: 1.9s\n",
      "369:\tlearn: 0.1363233\ttotal: 1.11s\tremaining: 1.89s\n",
      "370:\tlearn: 0.1360557\ttotal: 1.11s\tremaining: 1.88s\n",
      "371:\tlearn: 0.1356482\ttotal: 1.11s\tremaining: 1.88s\n",
      "372:\tlearn: 0.1354130\ttotal: 1.12s\tremaining: 1.88s\n",
      "373:\tlearn: 0.1350010\ttotal: 1.12s\tremaining: 1.87s\n",
      "374:\tlearn: 0.1347808\ttotal: 1.12s\tremaining: 1.87s\n",
      "375:\tlearn: 0.1344703\ttotal: 1.12s\tremaining: 1.86s\n",
      "376:\tlearn: 0.1340893\ttotal: 1.12s\tremaining: 1.86s\n",
      "377:\tlearn: 0.1336672\ttotal: 1.13s\tremaining: 1.85s\n",
      "378:\tlearn: 0.1332753\ttotal: 1.13s\tremaining: 1.85s\n",
      "379:\tlearn: 0.1328934\ttotal: 1.13s\tremaining: 1.84s\n",
      "380:\tlearn: 0.1325626\ttotal: 1.13s\tremaining: 1.84s\n",
      "381:\tlearn: 0.1323520\ttotal: 1.13s\tremaining: 1.83s\n",
      "382:\tlearn: 0.1322381\ttotal: 1.14s\tremaining: 1.83s\n",
      "383:\tlearn: 0.1320349\ttotal: 1.14s\tremaining: 1.82s\n"
     ]
    },
    {
     "name": "stdout",
     "output_type": "stream",
     "text": [
      "384:\tlearn: 0.1317212\ttotal: 1.14s\tremaining: 1.82s\n",
      "385:\tlearn: 0.1314072\ttotal: 1.14s\tremaining: 1.82s\n",
      "386:\tlearn: 0.1310762\ttotal: 1.14s\tremaining: 1.81s\n",
      "387:\tlearn: 0.1307650\ttotal: 1.15s\tremaining: 1.81s\n",
      "388:\tlearn: 0.1304905\ttotal: 1.15s\tremaining: 1.8s\n",
      "389:\tlearn: 0.1301465\ttotal: 1.15s\tremaining: 1.8s\n",
      "390:\tlearn: 0.1297131\ttotal: 1.15s\tremaining: 1.79s\n",
      "391:\tlearn: 0.1295539\ttotal: 1.15s\tremaining: 1.79s\n",
      "392:\tlearn: 0.1292298\ttotal: 1.16s\tremaining: 1.78s\n",
      "393:\tlearn: 0.1289648\ttotal: 1.16s\tremaining: 1.78s\n",
      "394:\tlearn: 0.1287643\ttotal: 1.16s\tremaining: 1.77s\n",
      "395:\tlearn: 0.1285698\ttotal: 1.16s\tremaining: 1.77s\n",
      "396:\tlearn: 0.1283715\ttotal: 1.16s\tremaining: 1.77s\n",
      "397:\tlearn: 0.1280783\ttotal: 1.17s\tremaining: 1.76s\n",
      "398:\tlearn: 0.1278456\ttotal: 1.17s\tremaining: 1.76s\n",
      "399:\tlearn: 0.1275559\ttotal: 1.17s\tremaining: 1.75s\n",
      "400:\tlearn: 0.1273500\ttotal: 1.17s\tremaining: 1.75s\n",
      "401:\tlearn: 0.1270141\ttotal: 1.18s\tremaining: 1.75s\n",
      "402:\tlearn: 0.1269350\ttotal: 1.18s\tremaining: 1.75s\n",
      "403:\tlearn: 0.1266937\ttotal: 1.18s\tremaining: 1.74s\n",
      "404:\tlearn: 0.1263935\ttotal: 1.18s\tremaining: 1.74s\n",
      "405:\tlearn: 0.1261511\ttotal: 1.19s\tremaining: 1.74s\n",
      "406:\tlearn: 0.1258891\ttotal: 1.19s\tremaining: 1.73s\n",
      "407:\tlearn: 0.1256108\ttotal: 1.19s\tremaining: 1.73s\n",
      "408:\tlearn: 0.1253234\ttotal: 1.19s\tremaining: 1.73s\n",
      "409:\tlearn: 0.1252034\ttotal: 1.2s\tremaining: 1.72s\n",
      "410:\tlearn: 0.1249847\ttotal: 1.2s\tremaining: 1.72s\n",
      "411:\tlearn: 0.1246615\ttotal: 1.2s\tremaining: 1.71s\n",
      "412:\tlearn: 0.1245733\ttotal: 1.2s\tremaining: 1.71s\n",
      "413:\tlearn: 0.1242345\ttotal: 1.21s\tremaining: 1.71s\n",
      "414:\tlearn: 0.1240708\ttotal: 1.21s\tremaining: 1.7s\n",
      "415:\tlearn: 0.1239111\ttotal: 1.21s\tremaining: 1.7s\n",
      "416:\tlearn: 0.1235397\ttotal: 1.21s\tremaining: 1.7s\n",
      "417:\tlearn: 0.1232541\ttotal: 1.22s\tremaining: 1.69s\n",
      "418:\tlearn: 0.1230315\ttotal: 1.22s\tremaining: 1.69s\n",
      "419:\tlearn: 0.1227689\ttotal: 1.22s\tremaining: 1.69s\n",
      "420:\tlearn: 0.1225441\ttotal: 1.22s\tremaining: 1.68s\n",
      "421:\tlearn: 0.1221749\ttotal: 1.23s\tremaining: 1.68s\n",
      "422:\tlearn: 0.1218783\ttotal: 1.23s\tremaining: 1.68s\n",
      "423:\tlearn: 0.1215830\ttotal: 1.23s\tremaining: 1.67s\n",
      "424:\tlearn: 0.1214782\ttotal: 1.23s\tremaining: 1.67s\n",
      "425:\tlearn: 0.1211804\ttotal: 1.24s\tremaining: 1.67s\n"
     ]
    },
    {
     "name": "stdout",
     "output_type": "stream",
     "text": [
      "426:\tlearn: 0.1210631\ttotal: 1.24s\tremaining: 1.66s\n",
      "427:\tlearn: 0.1209169\ttotal: 1.24s\tremaining: 1.66s\n",
      "428:\tlearn: 0.1206122\ttotal: 1.24s\tremaining: 1.66s\n",
      "429:\tlearn: 0.1203254\ttotal: 1.25s\tremaining: 1.65s\n",
      "430:\tlearn: 0.1200767\ttotal: 1.25s\tremaining: 1.65s\n",
      "431:\tlearn: 0.1197636\ttotal: 1.25s\tremaining: 1.65s\n",
      "432:\tlearn: 0.1194965\ttotal: 1.25s\tremaining: 1.64s\n",
      "433:\tlearn: 0.1192896\ttotal: 1.26s\tremaining: 1.64s\n",
      "434:\tlearn: 0.1189799\ttotal: 1.26s\tremaining: 1.64s\n",
      "435:\tlearn: 0.1188445\ttotal: 1.26s\tremaining: 1.63s\n",
      "436:\tlearn: 0.1185435\ttotal: 1.26s\tremaining: 1.63s\n",
      "437:\tlearn: 0.1182587\ttotal: 1.27s\tremaining: 1.63s\n",
      "438:\tlearn: 0.1181170\ttotal: 1.27s\tremaining: 1.62s\n",
      "439:\tlearn: 0.1179518\ttotal: 1.27s\tremaining: 1.62s\n",
      "440:\tlearn: 0.1177512\ttotal: 1.27s\tremaining: 1.61s\n",
      "441:\tlearn: 0.1176083\ttotal: 1.27s\tremaining: 1.61s\n",
      "442:\tlearn: 0.1173505\ttotal: 1.28s\tremaining: 1.61s\n",
      "443:\tlearn: 0.1170216\ttotal: 1.28s\tremaining: 1.6s\n",
      "444:\tlearn: 0.1168346\ttotal: 1.28s\tremaining: 1.6s\n",
      "445:\tlearn: 0.1164854\ttotal: 1.28s\tremaining: 1.59s\n",
      "446:\tlearn: 0.1163544\ttotal: 1.28s\tremaining: 1.59s\n",
      "447:\tlearn: 0.1160522\ttotal: 1.29s\tremaining: 1.59s\n",
      "448:\tlearn: 0.1159789\ttotal: 1.29s\tremaining: 1.58s\n",
      "449:\tlearn: 0.1158565\ttotal: 1.29s\tremaining: 1.58s\n",
      "450:\tlearn: 0.1156934\ttotal: 1.29s\tremaining: 1.57s\n",
      "451:\tlearn: 0.1154855\ttotal: 1.3s\tremaining: 1.57s\n",
      "452:\tlearn: 0.1152409\ttotal: 1.3s\tremaining: 1.57s\n",
      "453:\tlearn: 0.1150873\ttotal: 1.3s\tremaining: 1.56s\n",
      "454:\tlearn: 0.1147875\ttotal: 1.3s\tremaining: 1.56s\n",
      "455:\tlearn: 0.1145400\ttotal: 1.3s\tremaining: 1.55s\n",
      "456:\tlearn: 0.1141740\ttotal: 1.3s\tremaining: 1.55s\n",
      "457:\tlearn: 0.1138839\ttotal: 1.31s\tremaining: 1.55s\n",
      "458:\tlearn: 0.1138105\ttotal: 1.31s\tremaining: 1.54s\n",
      "459:\tlearn: 0.1136833\ttotal: 1.31s\tremaining: 1.54s\n",
      "460:\tlearn: 0.1135668\ttotal: 1.31s\tremaining: 1.53s\n",
      "461:\tlearn: 0.1133765\ttotal: 1.31s\tremaining: 1.53s\n"
     ]
    },
    {
     "name": "stdout",
     "output_type": "stream",
     "text": [
      "462:\tlearn: 0.1131990\ttotal: 1.32s\tremaining: 1.53s\n",
      "463:\tlearn: 0.1129147\ttotal: 1.32s\tremaining: 1.52s\n",
      "464:\tlearn: 0.1127663\ttotal: 1.32s\tremaining: 1.52s\n",
      "465:\tlearn: 0.1126514\ttotal: 1.33s\tremaining: 1.52s\n",
      "466:\tlearn: 0.1125847\ttotal: 1.33s\tremaining: 1.52s\n",
      "467:\tlearn: 0.1124758\ttotal: 1.33s\tremaining: 1.51s\n",
      "468:\tlearn: 0.1123284\ttotal: 1.33s\tremaining: 1.51s\n",
      "469:\tlearn: 0.1120614\ttotal: 1.33s\tremaining: 1.51s\n",
      "470:\tlearn: 0.1117580\ttotal: 1.34s\tremaining: 1.5s\n",
      "471:\tlearn: 0.1115813\ttotal: 1.34s\tremaining: 1.5s\n",
      "472:\tlearn: 0.1114764\ttotal: 1.34s\tremaining: 1.5s\n",
      "473:\tlearn: 0.1112127\ttotal: 1.34s\tremaining: 1.49s\n",
      "474:\tlearn: 0.1109519\ttotal: 1.34s\tremaining: 1.49s\n",
      "475:\tlearn: 0.1107785\ttotal: 1.35s\tremaining: 1.48s\n",
      "476:\tlearn: 0.1105090\ttotal: 1.35s\tremaining: 1.48s\n",
      "477:\tlearn: 0.1103348\ttotal: 1.35s\tremaining: 1.48s\n",
      "478:\tlearn: 0.1101951\ttotal: 1.35s\tremaining: 1.47s\n",
      "479:\tlearn: 0.1100003\ttotal: 1.35s\tremaining: 1.47s\n",
      "480:\tlearn: 0.1098403\ttotal: 1.36s\tremaining: 1.46s\n",
      "481:\tlearn: 0.1096462\ttotal: 1.36s\tremaining: 1.46s\n",
      "482:\tlearn: 0.1095426\ttotal: 1.36s\tremaining: 1.46s\n",
      "483:\tlearn: 0.1094127\ttotal: 1.37s\tremaining: 1.46s\n",
      "484:\tlearn: 0.1092554\ttotal: 1.37s\tremaining: 1.45s\n",
      "485:\tlearn: 0.1091591\ttotal: 1.37s\tremaining: 1.45s\n",
      "486:\tlearn: 0.1091082\ttotal: 1.37s\tremaining: 1.45s\n",
      "487:\tlearn: 0.1090137\ttotal: 1.38s\tremaining: 1.44s\n",
      "488:\tlearn: 0.1087930\ttotal: 1.38s\tremaining: 1.44s\n",
      "489:\tlearn: 0.1085507\ttotal: 1.38s\tremaining: 1.44s\n",
      "490:\tlearn: 0.1084405\ttotal: 1.38s\tremaining: 1.43s\n",
      "491:\tlearn: 0.1083267\ttotal: 1.39s\tremaining: 1.43s\n",
      "492:\tlearn: 0.1081105\ttotal: 1.39s\tremaining: 1.43s\n",
      "493:\tlearn: 0.1079457\ttotal: 1.39s\tremaining: 1.42s\n",
      "494:\tlearn: 0.1077809\ttotal: 1.39s\tremaining: 1.42s\n",
      "495:\tlearn: 0.1075927\ttotal: 1.4s\tremaining: 1.42s\n",
      "496:\tlearn: 0.1073460\ttotal: 1.4s\tremaining: 1.42s\n",
      "497:\tlearn: 0.1072428\ttotal: 1.4s\tremaining: 1.41s\n",
      "498:\tlearn: 0.1070915\ttotal: 1.4s\tremaining: 1.41s\n",
      "499:\tlearn: 0.1068694\ttotal: 1.41s\tremaining: 1.41s\n",
      "500:\tlearn: 0.1065697\ttotal: 1.41s\tremaining: 1.4s\n",
      "501:\tlearn: 0.1063032\ttotal: 1.41s\tremaining: 1.4s\n"
     ]
    },
    {
     "name": "stdout",
     "output_type": "stream",
     "text": [
      "502:\tlearn: 0.1062234\ttotal: 1.41s\tremaining: 1.4s\n",
      "503:\tlearn: 0.1060559\ttotal: 1.42s\tremaining: 1.39s\n",
      "504:\tlearn: 0.1060005\ttotal: 1.42s\tremaining: 1.39s\n",
      "505:\tlearn: 0.1059191\ttotal: 1.42s\tremaining: 1.39s\n",
      "506:\tlearn: 0.1058349\ttotal: 1.42s\tremaining: 1.39s\n",
      "507:\tlearn: 0.1056900\ttotal: 1.43s\tremaining: 1.38s\n",
      "508:\tlearn: 0.1054310\ttotal: 1.43s\tremaining: 1.38s\n",
      "509:\tlearn: 0.1052086\ttotal: 1.43s\tremaining: 1.38s\n",
      "510:\tlearn: 0.1051086\ttotal: 1.44s\tremaining: 1.38s\n",
      "511:\tlearn: 0.1048536\ttotal: 1.44s\tremaining: 1.37s\n",
      "512:\tlearn: 0.1046899\ttotal: 1.45s\tremaining: 1.37s\n",
      "513:\tlearn: 0.1044918\ttotal: 1.45s\tremaining: 1.37s\n",
      "514:\tlearn: 0.1041842\ttotal: 1.45s\tremaining: 1.37s\n",
      "515:\tlearn: 0.1040135\ttotal: 1.46s\tremaining: 1.36s\n",
      "516:\tlearn: 0.1038099\ttotal: 1.46s\tremaining: 1.36s\n",
      "517:\tlearn: 0.1037361\ttotal: 1.46s\tremaining: 1.36s\n",
      "518:\tlearn: 0.1035294\ttotal: 1.46s\tremaining: 1.36s\n",
      "519:\tlearn: 0.1032801\ttotal: 1.47s\tremaining: 1.35s\n",
      "520:\tlearn: 0.1030352\ttotal: 1.47s\tremaining: 1.35s\n",
      "521:\tlearn: 0.1029305\ttotal: 1.47s\tremaining: 1.35s\n",
      "522:\tlearn: 0.1026914\ttotal: 1.47s\tremaining: 1.34s\n",
      "523:\tlearn: 0.1025400\ttotal: 1.48s\tremaining: 1.34s\n",
      "524:\tlearn: 0.1024618\ttotal: 1.48s\tremaining: 1.34s\n",
      "525:\tlearn: 0.1022011\ttotal: 1.48s\tremaining: 1.33s\n",
      "526:\tlearn: 0.1018895\ttotal: 1.48s\tremaining: 1.33s\n",
      "527:\tlearn: 0.1016924\ttotal: 1.49s\tremaining: 1.33s\n"
     ]
    },
    {
     "name": "stdout",
     "output_type": "stream",
     "text": [
      "528:\tlearn: 0.1015116\ttotal: 1.49s\tremaining: 1.33s\n",
      "529:\tlearn: 0.1014636\ttotal: 1.5s\tremaining: 1.33s\n",
      "530:\tlearn: 0.1013579\ttotal: 1.5s\tremaining: 1.33s\n",
      "531:\tlearn: 0.1012003\ttotal: 1.5s\tremaining: 1.32s\n",
      "532:\tlearn: 0.1010699\ttotal: 1.51s\tremaining: 1.32s\n",
      "533:\tlearn: 0.1008947\ttotal: 1.51s\tremaining: 1.32s\n",
      "534:\tlearn: 0.1005874\ttotal: 1.51s\tremaining: 1.31s\n",
      "535:\tlearn: 0.1004084\ttotal: 1.51s\tremaining: 1.31s\n",
      "536:\tlearn: 0.1002375\ttotal: 1.51s\tremaining: 1.3s\n",
      "537:\tlearn: 0.1000655\ttotal: 1.52s\tremaining: 1.3s\n",
      "538:\tlearn: 0.0999062\ttotal: 1.52s\tremaining: 1.3s\n",
      "539:\tlearn: 0.0997567\ttotal: 1.52s\tremaining: 1.29s\n",
      "540:\tlearn: 0.0996956\ttotal: 1.52s\tremaining: 1.29s\n",
      "541:\tlearn: 0.0994839\ttotal: 1.52s\tremaining: 1.29s\n",
      "542:\tlearn: 0.0994008\ttotal: 1.53s\tremaining: 1.29s\n",
      "543:\tlearn: 0.0991436\ttotal: 1.53s\tremaining: 1.28s\n",
      "544:\tlearn: 0.0989498\ttotal: 1.54s\tremaining: 1.28s\n",
      "545:\tlearn: 0.0987844\ttotal: 1.54s\tremaining: 1.28s\n",
      "546:\tlearn: 0.0986872\ttotal: 1.54s\tremaining: 1.28s\n",
      "547:\tlearn: 0.0984368\ttotal: 1.55s\tremaining: 1.28s\n",
      "548:\tlearn: 0.0982863\ttotal: 1.55s\tremaining: 1.27s\n",
      "549:\tlearn: 0.0980628\ttotal: 1.55s\tremaining: 1.27s\n",
      "550:\tlearn: 0.0978336\ttotal: 1.55s\tremaining: 1.27s\n",
      "551:\tlearn: 0.0977846\ttotal: 1.56s\tremaining: 1.26s\n",
      "552:\tlearn: 0.0975084\ttotal: 1.56s\tremaining: 1.26s\n",
      "553:\tlearn: 0.0974503\ttotal: 1.56s\tremaining: 1.25s\n",
      "554:\tlearn: 0.0972966\ttotal: 1.56s\tremaining: 1.25s\n",
      "555:\tlearn: 0.0970644\ttotal: 1.56s\tremaining: 1.25s\n",
      "556:\tlearn: 0.0968067\ttotal: 1.56s\tremaining: 1.24s\n",
      "557:\tlearn: 0.0965793\ttotal: 1.57s\tremaining: 1.24s\n",
      "558:\tlearn: 0.0964096\ttotal: 1.57s\tremaining: 1.24s\n",
      "559:\tlearn: 0.0962308\ttotal: 1.57s\tremaining: 1.23s\n",
      "560:\tlearn: 0.0960689\ttotal: 1.57s\tremaining: 1.23s\n",
      "561:\tlearn: 0.0958025\ttotal: 1.58s\tremaining: 1.23s\n",
      "562:\tlearn: 0.0956362\ttotal: 1.58s\tremaining: 1.23s\n",
      "563:\tlearn: 0.0953872\ttotal: 1.58s\tremaining: 1.22s\n",
      "564:\tlearn: 0.0952521\ttotal: 1.58s\tremaining: 1.22s\n",
      "565:\tlearn: 0.0949977\ttotal: 1.58s\tremaining: 1.22s\n",
      "566:\tlearn: 0.0949378\ttotal: 1.59s\tremaining: 1.21s\n"
     ]
    },
    {
     "name": "stdout",
     "output_type": "stream",
     "text": [
      "567:\tlearn: 0.0947151\ttotal: 1.59s\tremaining: 1.21s\n",
      "568:\tlearn: 0.0945381\ttotal: 1.59s\tremaining: 1.21s\n",
      "569:\tlearn: 0.0943497\ttotal: 1.59s\tremaining: 1.2s\n",
      "570:\tlearn: 0.0942697\ttotal: 1.6s\tremaining: 1.2s\n",
      "571:\tlearn: 0.0940736\ttotal: 1.6s\tremaining: 1.2s\n",
      "572:\tlearn: 0.0939982\ttotal: 1.6s\tremaining: 1.19s\n",
      "573:\tlearn: 0.0938649\ttotal: 1.6s\tremaining: 1.19s\n",
      "574:\tlearn: 0.0936409\ttotal: 1.61s\tremaining: 1.19s\n",
      "575:\tlearn: 0.0934357\ttotal: 1.61s\tremaining: 1.18s\n",
      "576:\tlearn: 0.0932847\ttotal: 1.61s\tremaining: 1.18s\n",
      "577:\tlearn: 0.0931192\ttotal: 1.61s\tremaining: 1.18s\n",
      "578:\tlearn: 0.0928787\ttotal: 1.62s\tremaining: 1.18s\n",
      "579:\tlearn: 0.0928085\ttotal: 1.62s\tremaining: 1.17s\n",
      "580:\tlearn: 0.0925994\ttotal: 1.62s\tremaining: 1.17s\n",
      "581:\tlearn: 0.0924639\ttotal: 1.62s\tremaining: 1.17s\n",
      "582:\tlearn: 0.0922555\ttotal: 1.63s\tremaining: 1.16s\n",
      "583:\tlearn: 0.0920550\ttotal: 1.63s\tremaining: 1.16s\n",
      "584:\tlearn: 0.0918995\ttotal: 1.63s\tremaining: 1.16s\n",
      "585:\tlearn: 0.0916974\ttotal: 1.64s\tremaining: 1.16s\n",
      "586:\tlearn: 0.0916038\ttotal: 1.64s\tremaining: 1.15s\n",
      "587:\tlearn: 0.0914215\ttotal: 1.64s\tremaining: 1.15s\n",
      "588:\tlearn: 0.0912640\ttotal: 1.64s\tremaining: 1.15s\n",
      "589:\tlearn: 0.0910113\ttotal: 1.65s\tremaining: 1.14s\n",
      "590:\tlearn: 0.0908509\ttotal: 1.65s\tremaining: 1.14s\n",
      "591:\tlearn: 0.0906718\ttotal: 1.65s\tremaining: 1.14s\n",
      "592:\tlearn: 0.0904393\ttotal: 1.65s\tremaining: 1.14s\n",
      "593:\tlearn: 0.0902417\ttotal: 1.66s\tremaining: 1.13s\n",
      "594:\tlearn: 0.0901029\ttotal: 1.66s\tremaining: 1.13s\n",
      "595:\tlearn: 0.0900027\ttotal: 1.66s\tremaining: 1.13s\n",
      "596:\tlearn: 0.0899604\ttotal: 1.66s\tremaining: 1.12s\n",
      "597:\tlearn: 0.0897635\ttotal: 1.67s\tremaining: 1.12s\n",
      "598:\tlearn: 0.0896518\ttotal: 1.67s\tremaining: 1.12s\n"
     ]
    },
    {
     "name": "stdout",
     "output_type": "stream",
     "text": [
      "599:\tlearn: 0.0894446\ttotal: 1.67s\tremaining: 1.11s\n",
      "600:\tlearn: 0.0894096\ttotal: 1.67s\tremaining: 1.11s\n",
      "601:\tlearn: 0.0892036\ttotal: 1.68s\tremaining: 1.11s\n",
      "602:\tlearn: 0.0891131\ttotal: 1.68s\tremaining: 1.11s\n",
      "603:\tlearn: 0.0890404\ttotal: 1.68s\tremaining: 1.1s\n",
      "604:\tlearn: 0.0889397\ttotal: 1.69s\tremaining: 1.1s\n",
      "605:\tlearn: 0.0888096\ttotal: 1.69s\tremaining: 1.1s\n",
      "606:\tlearn: 0.0885616\ttotal: 1.69s\tremaining: 1.09s\n",
      "607:\tlearn: 0.0884969\ttotal: 1.69s\tremaining: 1.09s\n",
      "608:\tlearn: 0.0883770\ttotal: 1.7s\tremaining: 1.09s\n",
      "609:\tlearn: 0.0882293\ttotal: 1.7s\tremaining: 1.08s\n",
      "610:\tlearn: 0.0881240\ttotal: 1.7s\tremaining: 1.08s\n",
      "611:\tlearn: 0.0879649\ttotal: 1.7s\tremaining: 1.08s\n",
      "612:\tlearn: 0.0878079\ttotal: 1.7s\tremaining: 1.08s\n",
      "613:\tlearn: 0.0876762\ttotal: 1.71s\tremaining: 1.07s\n",
      "614:\tlearn: 0.0874870\ttotal: 1.71s\tremaining: 1.07s\n",
      "615:\tlearn: 0.0873967\ttotal: 1.71s\tremaining: 1.07s\n",
      "616:\tlearn: 0.0873189\ttotal: 1.71s\tremaining: 1.06s\n",
      "617:\tlearn: 0.0872501\ttotal: 1.72s\tremaining: 1.06s\n",
      "618:\tlearn: 0.0870600\ttotal: 1.72s\tremaining: 1.06s\n",
      "619:\tlearn: 0.0868998\ttotal: 1.72s\tremaining: 1.05s\n",
      "620:\tlearn: 0.0868445\ttotal: 1.72s\tremaining: 1.05s\n",
      "621:\tlearn: 0.0866914\ttotal: 1.73s\tremaining: 1.05s\n",
      "622:\tlearn: 0.0865145\ttotal: 1.73s\tremaining: 1.04s\n",
      "623:\tlearn: 0.0863325\ttotal: 1.73s\tremaining: 1.04s\n",
      "624:\tlearn: 0.0861758\ttotal: 1.73s\tremaining: 1.04s\n",
      "625:\tlearn: 0.0859917\ttotal: 1.73s\tremaining: 1.03s\n",
      "626:\tlearn: 0.0858248\ttotal: 1.74s\tremaining: 1.03s\n",
      "627:\tlearn: 0.0857128\ttotal: 1.74s\tremaining: 1.03s\n",
      "628:\tlearn: 0.0856197\ttotal: 1.74s\tremaining: 1.02s\n",
      "629:\tlearn: 0.0855255\ttotal: 1.74s\tremaining: 1.02s\n",
      "630:\tlearn: 0.0853421\ttotal: 1.74s\tremaining: 1.02s\n",
      "631:\tlearn: 0.0851847\ttotal: 1.75s\tremaining: 1.02s\n",
      "632:\tlearn: 0.0850133\ttotal: 1.75s\tremaining: 1.01s\n",
      "633:\tlearn: 0.0848279\ttotal: 1.75s\tremaining: 1.01s\n",
      "634:\tlearn: 0.0846713\ttotal: 1.75s\tremaining: 1.01s\n",
      "635:\tlearn: 0.0845580\ttotal: 1.75s\tremaining: 1s\n",
      "636:\tlearn: 0.0844611\ttotal: 1.76s\tremaining: 1s\n",
      "637:\tlearn: 0.0842775\ttotal: 1.76s\tremaining: 999ms\n",
      "638:\tlearn: 0.0842052\ttotal: 1.76s\tremaining: 996ms\n",
      "639:\tlearn: 0.0840672\ttotal: 1.76s\tremaining: 993ms\n",
      "640:\tlearn: 0.0840125\ttotal: 1.77s\tremaining: 990ms\n"
     ]
    },
    {
     "name": "stdout",
     "output_type": "stream",
     "text": [
      "641:\tlearn: 0.0837912\ttotal: 1.77s\tremaining: 987ms\n",
      "642:\tlearn: 0.0836849\ttotal: 1.77s\tremaining: 984ms\n",
      "643:\tlearn: 0.0835386\ttotal: 1.77s\tremaining: 981ms\n",
      "644:\tlearn: 0.0833849\ttotal: 1.78s\tremaining: 978ms\n",
      "645:\tlearn: 0.0833231\ttotal: 1.78s\tremaining: 974ms\n",
      "646:\tlearn: 0.0832010\ttotal: 1.78s\tremaining: 972ms\n",
      "647:\tlearn: 0.0830031\ttotal: 1.78s\tremaining: 968ms\n",
      "648:\tlearn: 0.0828628\ttotal: 1.78s\tremaining: 965ms\n",
      "649:\tlearn: 0.0827246\ttotal: 1.79s\tremaining: 962ms\n",
      "650:\tlearn: 0.0825799\ttotal: 1.79s\tremaining: 959ms\n",
      "651:\tlearn: 0.0825066\ttotal: 1.79s\tremaining: 956ms\n",
      "652:\tlearn: 0.0823616\ttotal: 1.79s\tremaining: 952ms\n",
      "653:\tlearn: 0.0821577\ttotal: 1.79s\tremaining: 949ms\n",
      "654:\tlearn: 0.0820380\ttotal: 1.8s\tremaining: 946ms\n",
      "655:\tlearn: 0.0819037\ttotal: 1.8s\tremaining: 943ms\n",
      "656:\tlearn: 0.0816654\ttotal: 1.8s\tremaining: 940ms\n",
      "657:\tlearn: 0.0815421\ttotal: 1.8s\tremaining: 937ms\n",
      "658:\tlearn: 0.0814434\ttotal: 1.8s\tremaining: 934ms\n",
      "659:\tlearn: 0.0813416\ttotal: 1.81s\tremaining: 931ms\n",
      "660:\tlearn: 0.0812738\ttotal: 1.81s\tremaining: 927ms\n",
      "661:\tlearn: 0.0810798\ttotal: 1.81s\tremaining: 924ms\n",
      "662:\tlearn: 0.0809215\ttotal: 1.81s\tremaining: 921ms\n",
      "663:\tlearn: 0.0807967\ttotal: 1.81s\tremaining: 918ms\n",
      "664:\tlearn: 0.0806260\ttotal: 1.81s\tremaining: 914ms\n",
      "665:\tlearn: 0.0805574\ttotal: 1.82s\tremaining: 911ms\n",
      "666:\tlearn: 0.0804651\ttotal: 1.82s\tremaining: 908ms\n",
      "667:\tlearn: 0.0804292\ttotal: 1.82s\tremaining: 905ms\n",
      "668:\tlearn: 0.0802780\ttotal: 1.82s\tremaining: 903ms\n",
      "669:\tlearn: 0.0801479\ttotal: 1.83s\tremaining: 900ms\n",
      "670:\tlearn: 0.0800121\ttotal: 1.83s\tremaining: 897ms\n",
      "671:\tlearn: 0.0799564\ttotal: 1.83s\tremaining: 894ms\n",
      "672:\tlearn: 0.0797776\ttotal: 1.83s\tremaining: 891ms\n",
      "673:\tlearn: 0.0796238\ttotal: 1.83s\tremaining: 888ms\n",
      "674:\tlearn: 0.0795796\ttotal: 1.84s\tremaining: 885ms\n",
      "675:\tlearn: 0.0794682\ttotal: 1.84s\tremaining: 882ms\n",
      "676:\tlearn: 0.0793093\ttotal: 1.84s\tremaining: 880ms\n",
      "677:\tlearn: 0.0791883\ttotal: 1.85s\tremaining: 877ms\n"
     ]
    },
    {
     "name": "stdout",
     "output_type": "stream",
     "text": [
      "678:\tlearn: 0.0790702\ttotal: 1.85s\tremaining: 874ms\n",
      "679:\tlearn: 0.0789781\ttotal: 1.85s\tremaining: 872ms\n",
      "680:\tlearn: 0.0789358\ttotal: 1.85s\tremaining: 869ms\n",
      "681:\tlearn: 0.0788156\ttotal: 1.86s\tremaining: 866ms\n",
      "682:\tlearn: 0.0787047\ttotal: 1.86s\tremaining: 863ms\n",
      "683:\tlearn: 0.0784918\ttotal: 1.86s\tremaining: 860ms\n",
      "684:\tlearn: 0.0784208\ttotal: 1.86s\tremaining: 857ms\n",
      "685:\tlearn: 0.0781902\ttotal: 1.87s\tremaining: 855ms\n",
      "686:\tlearn: 0.0780739\ttotal: 1.87s\tremaining: 852ms\n",
      "687:\tlearn: 0.0779032\ttotal: 1.87s\tremaining: 849ms\n",
      "688:\tlearn: 0.0777944\ttotal: 1.87s\tremaining: 846ms\n",
      "689:\tlearn: 0.0776869\ttotal: 1.88s\tremaining: 844ms\n",
      "690:\tlearn: 0.0775116\ttotal: 1.88s\tremaining: 841ms\n",
      "691:\tlearn: 0.0773742\ttotal: 1.88s\tremaining: 838ms\n",
      "692:\tlearn: 0.0772264\ttotal: 1.88s\tremaining: 835ms\n",
      "693:\tlearn: 0.0770975\ttotal: 1.89s\tremaining: 832ms\n",
      "694:\tlearn: 0.0769574\ttotal: 1.89s\tremaining: 830ms\n",
      "695:\tlearn: 0.0768209\ttotal: 1.89s\tremaining: 827ms\n",
      "696:\tlearn: 0.0767203\ttotal: 1.9s\tremaining: 824ms\n",
      "697:\tlearn: 0.0766729\ttotal: 1.9s\tremaining: 821ms\n",
      "698:\tlearn: 0.0764536\ttotal: 1.9s\tremaining: 818ms\n",
      "699:\tlearn: 0.0762896\ttotal: 1.9s\tremaining: 816ms\n",
      "700:\tlearn: 0.0762229\ttotal: 1.91s\tremaining: 813ms\n",
      "701:\tlearn: 0.0761157\ttotal: 1.91s\tremaining: 810ms\n",
      "702:\tlearn: 0.0760539\ttotal: 1.91s\tremaining: 807ms\n",
      "703:\tlearn: 0.0759505\ttotal: 1.91s\tremaining: 805ms\n",
      "704:\tlearn: 0.0758571\ttotal: 1.92s\tremaining: 802ms\n",
      "705:\tlearn: 0.0757454\ttotal: 1.92s\tremaining: 799ms\n",
      "706:\tlearn: 0.0755785\ttotal: 1.92s\tremaining: 796ms\n",
      "707:\tlearn: 0.0754708\ttotal: 1.92s\tremaining: 793ms\n",
      "708:\tlearn: 0.0754411\ttotal: 1.93s\tremaining: 791ms\n",
      "709:\tlearn: 0.0753668\ttotal: 1.93s\tremaining: 788ms\n",
      "710:\tlearn: 0.0752514\ttotal: 1.93s\tremaining: 785ms\n",
      "711:\tlearn: 0.0751198\ttotal: 1.93s\tremaining: 782ms\n",
      "712:\tlearn: 0.0750380\ttotal: 1.93s\tremaining: 779ms\n",
      "713:\tlearn: 0.0748851\ttotal: 1.94s\tremaining: 776ms\n",
      "714:\tlearn: 0.0747698\ttotal: 1.94s\tremaining: 773ms\n",
      "715:\tlearn: 0.0747052\ttotal: 1.94s\tremaining: 770ms\n",
      "716:\tlearn: 0.0745800\ttotal: 1.94s\tremaining: 767ms\n",
      "717:\tlearn: 0.0744624\ttotal: 1.94s\tremaining: 764ms\n",
      "718:\tlearn: 0.0743234\ttotal: 1.95s\tremaining: 761ms\n"
     ]
    },
    {
     "name": "stdout",
     "output_type": "stream",
     "text": [
      "719:\tlearn: 0.0741832\ttotal: 1.95s\tremaining: 758ms\n",
      "720:\tlearn: 0.0740666\ttotal: 1.95s\tremaining: 755ms\n",
      "721:\tlearn: 0.0739894\ttotal: 1.95s\tremaining: 752ms\n",
      "722:\tlearn: 0.0738894\ttotal: 1.96s\tremaining: 749ms\n",
      "723:\tlearn: 0.0737620\ttotal: 1.96s\tremaining: 746ms\n",
      "724:\tlearn: 0.0736205\ttotal: 1.96s\tremaining: 743ms\n",
      "725:\tlearn: 0.0735155\ttotal: 1.96s\tremaining: 741ms\n",
      "726:\tlearn: 0.0733502\ttotal: 1.96s\tremaining: 738ms\n",
      "727:\tlearn: 0.0732204\ttotal: 1.97s\tremaining: 735ms\n",
      "728:\tlearn: 0.0730972\ttotal: 1.97s\tremaining: 732ms\n",
      "729:\tlearn: 0.0730020\ttotal: 1.97s\tremaining: 729ms\n",
      "730:\tlearn: 0.0729222\ttotal: 1.97s\tremaining: 726ms\n",
      "731:\tlearn: 0.0727498\ttotal: 1.97s\tremaining: 723ms\n",
      "732:\tlearn: 0.0726337\ttotal: 1.98s\tremaining: 720ms\n",
      "733:\tlearn: 0.0726041\ttotal: 1.98s\tremaining: 717ms\n",
      "734:\tlearn: 0.0725192\ttotal: 1.98s\tremaining: 714ms\n",
      "735:\tlearn: 0.0724316\ttotal: 1.98s\tremaining: 711ms\n",
      "736:\tlearn: 0.0723506\ttotal: 1.98s\tremaining: 708ms\n",
      "737:\tlearn: 0.0722640\ttotal: 1.99s\tremaining: 705ms\n",
      "738:\tlearn: 0.0721928\ttotal: 1.99s\tremaining: 702ms\n",
      "739:\tlearn: 0.0720205\ttotal: 1.99s\tremaining: 699ms\n",
      "740:\tlearn: 0.0718770\ttotal: 1.99s\tremaining: 696ms\n",
      "741:\tlearn: 0.0717851\ttotal: 1.99s\tremaining: 693ms\n",
      "742:\tlearn: 0.0716947\ttotal: 2s\tremaining: 690ms\n",
      "743:\tlearn: 0.0716308\ttotal: 2s\tremaining: 687ms\n",
      "744:\tlearn: 0.0714986\ttotal: 2s\tremaining: 685ms\n",
      "745:\tlearn: 0.0713681\ttotal: 2s\tremaining: 682ms\n",
      "746:\tlearn: 0.0712540\ttotal: 2s\tremaining: 679ms\n",
      "747:\tlearn: 0.0711224\ttotal: 2.01s\tremaining: 676ms\n",
      "748:\tlearn: 0.0710457\ttotal: 2.01s\tremaining: 673ms\n",
      "749:\tlearn: 0.0708651\ttotal: 2.01s\tremaining: 670ms\n",
      "750:\tlearn: 0.0708284\ttotal: 2.01s\tremaining: 667ms\n",
      "751:\tlearn: 0.0706479\ttotal: 2.01s\tremaining: 664ms\n",
      "752:\tlearn: 0.0705376\ttotal: 2.02s\tremaining: 661ms\n",
      "753:\tlearn: 0.0704286\ttotal: 2.02s\tremaining: 658ms\n",
      "754:\tlearn: 0.0703588\ttotal: 2.02s\tremaining: 655ms\n",
      "755:\tlearn: 0.0702417\ttotal: 2.02s\tremaining: 653ms\n",
      "756:\tlearn: 0.0701392\ttotal: 2.02s\tremaining: 650ms\n"
     ]
    },
    {
     "name": "stdout",
     "output_type": "stream",
     "text": [
      "757:\tlearn: 0.0700763\ttotal: 2.03s\tremaining: 647ms\n",
      "758:\tlearn: 0.0699719\ttotal: 2.03s\tremaining: 644ms\n",
      "759:\tlearn: 0.0698092\ttotal: 2.03s\tremaining: 641ms\n",
      "760:\tlearn: 0.0697026\ttotal: 2.03s\tremaining: 638ms\n",
      "761:\tlearn: 0.0696010\ttotal: 2.03s\tremaining: 635ms\n",
      "762:\tlearn: 0.0695316\ttotal: 2.04s\tremaining: 633ms\n",
      "763:\tlearn: 0.0694221\ttotal: 2.04s\tremaining: 630ms\n",
      "764:\tlearn: 0.0693200\ttotal: 2.04s\tremaining: 627ms\n",
      "765:\tlearn: 0.0692583\ttotal: 2.04s\tremaining: 624ms\n",
      "766:\tlearn: 0.0691659\ttotal: 2.04s\tremaining: 621ms\n",
      "767:\tlearn: 0.0690225\ttotal: 2.05s\tremaining: 618ms\n",
      "768:\tlearn: 0.0689243\ttotal: 2.05s\tremaining: 615ms\n",
      "769:\tlearn: 0.0688233\ttotal: 2.05s\tremaining: 612ms\n",
      "770:\tlearn: 0.0687865\ttotal: 2.05s\tremaining: 609ms\n",
      "771:\tlearn: 0.0686472\ttotal: 2.05s\tremaining: 607ms\n",
      "772:\tlearn: 0.0686054\ttotal: 2.06s\tremaining: 604ms\n",
      "773:\tlearn: 0.0685382\ttotal: 2.06s\tremaining: 601ms\n",
      "774:\tlearn: 0.0684633\ttotal: 2.06s\tremaining: 598ms\n",
      "775:\tlearn: 0.0683798\ttotal: 2.06s\tremaining: 595ms\n",
      "776:\tlearn: 0.0682618\ttotal: 2.06s\tremaining: 593ms\n",
      "777:\tlearn: 0.0681698\ttotal: 2.07s\tremaining: 590ms\n",
      "778:\tlearn: 0.0681310\ttotal: 2.07s\tremaining: 587ms\n",
      "779:\tlearn: 0.0679922\ttotal: 2.07s\tremaining: 584ms\n",
      "780:\tlearn: 0.0678456\ttotal: 2.07s\tremaining: 581ms\n",
      "781:\tlearn: 0.0677587\ttotal: 2.07s\tremaining: 578ms\n",
      "782:\tlearn: 0.0676948\ttotal: 2.08s\tremaining: 575ms\n",
      "783:\tlearn: 0.0676154\ttotal: 2.08s\tremaining: 573ms\n",
      "784:\tlearn: 0.0675917\ttotal: 2.08s\tremaining: 570ms\n",
      "785:\tlearn: 0.0674899\ttotal: 2.08s\tremaining: 567ms\n",
      "786:\tlearn: 0.0673715\ttotal: 2.08s\tremaining: 564ms\n",
      "787:\tlearn: 0.0672081\ttotal: 2.09s\tremaining: 561ms\n",
      "788:\tlearn: 0.0670848\ttotal: 2.09s\tremaining: 558ms\n",
      "789:\tlearn: 0.0669837\ttotal: 2.09s\tremaining: 556ms\n",
      "790:\tlearn: 0.0668453\ttotal: 2.09s\tremaining: 553ms\n",
      "791:\tlearn: 0.0667870\ttotal: 2.09s\tremaining: 550ms\n",
      "792:\tlearn: 0.0667075\ttotal: 2.1s\tremaining: 547ms\n",
      "793:\tlearn: 0.0665858\ttotal: 2.1s\tremaining: 544ms\n",
      "794:\tlearn: 0.0664328\ttotal: 2.1s\tremaining: 541ms\n",
      "795:\tlearn: 0.0662858\ttotal: 2.1s\tremaining: 539ms\n",
      "796:\tlearn: 0.0661957\ttotal: 2.1s\tremaining: 536ms\n",
      "797:\tlearn: 0.0660171\ttotal: 2.1s\tremaining: 533ms\n",
      "798:\tlearn: 0.0658962\ttotal: 2.11s\tremaining: 530ms\n",
      "799:\tlearn: 0.0658097\ttotal: 2.11s\tremaining: 527ms\n",
      "800:\tlearn: 0.0657172\ttotal: 2.11s\tremaining: 524ms\n",
      "801:\tlearn: 0.0656685\ttotal: 2.11s\tremaining: 522ms\n",
      "802:\tlearn: 0.0655273\ttotal: 2.11s\tremaining: 519ms\n",
      "803:\tlearn: 0.0654536\ttotal: 2.12s\tremaining: 516ms\n",
      "804:\tlearn: 0.0654122\ttotal: 2.12s\tremaining: 513ms\n",
      "805:\tlearn: 0.0653305\ttotal: 2.12s\tremaining: 511ms\n",
      "806:\tlearn: 0.0652871\ttotal: 2.12s\tremaining: 508ms\n"
     ]
    },
    {
     "name": "stdout",
     "output_type": "stream",
     "text": [
      "807:\tlearn: 0.0652195\ttotal: 2.13s\tremaining: 505ms\n",
      "808:\tlearn: 0.0651741\ttotal: 2.13s\tremaining: 503ms\n",
      "809:\tlearn: 0.0650883\ttotal: 2.13s\tremaining: 500ms\n",
      "810:\tlearn: 0.0649545\ttotal: 2.13s\tremaining: 497ms\n",
      "811:\tlearn: 0.0649060\ttotal: 2.13s\tremaining: 494ms\n",
      "812:\tlearn: 0.0648199\ttotal: 2.13s\tremaining: 491ms\n",
      "813:\tlearn: 0.0647390\ttotal: 2.14s\tremaining: 488ms\n",
      "814:\tlearn: 0.0646061\ttotal: 2.14s\tremaining: 486ms\n",
      "815:\tlearn: 0.0644881\ttotal: 2.14s\tremaining: 483ms\n",
      "816:\tlearn: 0.0643679\ttotal: 2.14s\tremaining: 480ms\n",
      "817:\tlearn: 0.0642541\ttotal: 2.15s\tremaining: 478ms\n",
      "818:\tlearn: 0.0640507\ttotal: 2.15s\tremaining: 475ms\n",
      "819:\tlearn: 0.0639409\ttotal: 2.15s\tremaining: 472ms\n",
      "820:\tlearn: 0.0639037\ttotal: 2.15s\tremaining: 469ms\n",
      "821:\tlearn: 0.0637864\ttotal: 2.16s\tremaining: 467ms\n",
      "822:\tlearn: 0.0636193\ttotal: 2.16s\tremaining: 464ms\n",
      "823:\tlearn: 0.0635040\ttotal: 2.16s\tremaining: 462ms\n",
      "824:\tlearn: 0.0634502\ttotal: 2.16s\tremaining: 459ms\n",
      "825:\tlearn: 0.0633666\ttotal: 2.17s\tremaining: 456ms\n",
      "826:\tlearn: 0.0632828\ttotal: 2.17s\tremaining: 453ms\n",
      "827:\tlearn: 0.0632388\ttotal: 2.17s\tremaining: 451ms\n",
      "828:\tlearn: 0.0631194\ttotal: 2.17s\tremaining: 448ms\n",
      "829:\tlearn: 0.0630374\ttotal: 2.17s\tremaining: 446ms\n",
      "830:\tlearn: 0.0630060\ttotal: 2.18s\tremaining: 443ms\n",
      "831:\tlearn: 0.0629419\ttotal: 2.18s\tremaining: 440ms\n",
      "832:\tlearn: 0.0627822\ttotal: 2.18s\tremaining: 438ms\n",
      "833:\tlearn: 0.0627013\ttotal: 2.19s\tremaining: 435ms\n",
      "834:\tlearn: 0.0625991\ttotal: 2.19s\tremaining: 433ms\n",
      "835:\tlearn: 0.0625411\ttotal: 2.19s\tremaining: 430ms\n",
      "836:\tlearn: 0.0624383\ttotal: 2.19s\tremaining: 427ms\n",
      "837:\tlearn: 0.0623558\ttotal: 2.2s\tremaining: 425ms\n",
      "838:\tlearn: 0.0623009\ttotal: 2.2s\tremaining: 422ms\n",
      "839:\tlearn: 0.0622300\ttotal: 2.2s\tremaining: 419ms\n",
      "840:\tlearn: 0.0621408\ttotal: 2.2s\tremaining: 417ms\n"
     ]
    },
    {
     "name": "stdout",
     "output_type": "stream",
     "text": [
      "841:\tlearn: 0.0620326\ttotal: 2.21s\tremaining: 414ms\n",
      "842:\tlearn: 0.0619349\ttotal: 2.21s\tremaining: 412ms\n",
      "843:\tlearn: 0.0618029\ttotal: 2.21s\tremaining: 409ms\n",
      "844:\tlearn: 0.0616698\ttotal: 2.22s\tremaining: 406ms\n",
      "845:\tlearn: 0.0615800\ttotal: 2.22s\tremaining: 404ms\n",
      "846:\tlearn: 0.0614657\ttotal: 2.22s\tremaining: 401ms\n",
      "847:\tlearn: 0.0613708\ttotal: 2.22s\tremaining: 399ms\n",
      "848:\tlearn: 0.0613045\ttotal: 2.23s\tremaining: 396ms\n",
      "849:\tlearn: 0.0612358\ttotal: 2.23s\tremaining: 393ms\n",
      "850:\tlearn: 0.0611347\ttotal: 2.23s\tremaining: 391ms\n",
      "851:\tlearn: 0.0610742\ttotal: 2.23s\tremaining: 388ms\n",
      "852:\tlearn: 0.0609340\ttotal: 2.24s\tremaining: 385ms\n",
      "853:\tlearn: 0.0608312\ttotal: 2.24s\tremaining: 383ms\n",
      "854:\tlearn: 0.0607649\ttotal: 2.24s\tremaining: 380ms\n",
      "855:\tlearn: 0.0607277\ttotal: 2.24s\tremaining: 378ms\n",
      "856:\tlearn: 0.0606829\ttotal: 2.25s\tremaining: 375ms\n",
      "857:\tlearn: 0.0606107\ttotal: 2.25s\tremaining: 372ms\n",
      "858:\tlearn: 0.0604960\ttotal: 2.25s\tremaining: 369ms\n",
      "859:\tlearn: 0.0604617\ttotal: 2.25s\tremaining: 367ms\n",
      "860:\tlearn: 0.0603836\ttotal: 2.26s\tremaining: 364ms\n",
      "861:\tlearn: 0.0603486\ttotal: 2.26s\tremaining: 362ms\n",
      "862:\tlearn: 0.0602803\ttotal: 2.26s\tremaining: 359ms\n",
      "863:\tlearn: 0.0601942\ttotal: 2.26s\tremaining: 356ms\n",
      "864:\tlearn: 0.0600982\ttotal: 2.27s\tremaining: 354ms\n",
      "865:\tlearn: 0.0600204\ttotal: 2.27s\tremaining: 351ms\n",
      "866:\tlearn: 0.0599166\ttotal: 2.27s\tremaining: 348ms\n",
      "867:\tlearn: 0.0597568\ttotal: 2.27s\tremaining: 346ms\n",
      "868:\tlearn: 0.0596908\ttotal: 2.27s\tremaining: 343ms\n",
      "869:\tlearn: 0.0595750\ttotal: 2.28s\tremaining: 340ms\n",
      "870:\tlearn: 0.0595176\ttotal: 2.28s\tremaining: 338ms\n",
      "871:\tlearn: 0.0594302\ttotal: 2.28s\tremaining: 335ms\n",
      "872:\tlearn: 0.0593236\ttotal: 2.29s\tremaining: 333ms\n",
      "873:\tlearn: 0.0592185\ttotal: 2.29s\tremaining: 330ms\n",
      "874:\tlearn: 0.0590878\ttotal: 2.29s\tremaining: 328ms\n",
      "875:\tlearn: 0.0590474\ttotal: 2.3s\tremaining: 325ms\n",
      "876:\tlearn: 0.0589673\ttotal: 2.3s\tremaining: 323ms\n",
      "877:\tlearn: 0.0588575\ttotal: 2.3s\tremaining: 320ms\n"
     ]
    },
    {
     "name": "stdout",
     "output_type": "stream",
     "text": [
      "878:\tlearn: 0.0587102\ttotal: 2.3s\tremaining: 317ms\n",
      "879:\tlearn: 0.0586742\ttotal: 2.31s\tremaining: 315ms\n",
      "880:\tlearn: 0.0585875\ttotal: 2.31s\tremaining: 312ms\n",
      "881:\tlearn: 0.0584711\ttotal: 2.31s\tremaining: 309ms\n",
      "882:\tlearn: 0.0583215\ttotal: 2.31s\tremaining: 307ms\n",
      "883:\tlearn: 0.0582698\ttotal: 2.32s\tremaining: 304ms\n",
      "884:\tlearn: 0.0582161\ttotal: 2.32s\tremaining: 301ms\n",
      "885:\tlearn: 0.0581766\ttotal: 2.32s\tremaining: 299ms\n",
      "886:\tlearn: 0.0580881\ttotal: 2.32s\tremaining: 296ms\n",
      "887:\tlearn: 0.0580370\ttotal: 2.33s\tremaining: 293ms\n",
      "888:\tlearn: 0.0579557\ttotal: 2.33s\tremaining: 291ms\n",
      "889:\tlearn: 0.0578567\ttotal: 2.33s\tremaining: 288ms\n",
      "890:\tlearn: 0.0577736\ttotal: 2.33s\tremaining: 286ms\n",
      "891:\tlearn: 0.0577456\ttotal: 2.34s\tremaining: 283ms\n",
      "892:\tlearn: 0.0577019\ttotal: 2.34s\tremaining: 281ms\n",
      "893:\tlearn: 0.0576012\ttotal: 2.34s\tremaining: 278ms\n",
      "894:\tlearn: 0.0574851\ttotal: 2.35s\tremaining: 275ms\n",
      "895:\tlearn: 0.0573545\ttotal: 2.35s\tremaining: 273ms\n",
      "896:\tlearn: 0.0572390\ttotal: 2.35s\tremaining: 270ms\n",
      "897:\tlearn: 0.0571840\ttotal: 2.35s\tremaining: 267ms\n",
      "898:\tlearn: 0.0571439\ttotal: 2.35s\tremaining: 265ms\n",
      "899:\tlearn: 0.0571036\ttotal: 2.36s\tremaining: 262ms\n",
      "900:\tlearn: 0.0569672\ttotal: 2.36s\tremaining: 259ms\n",
      "901:\tlearn: 0.0569407\ttotal: 2.36s\tremaining: 256ms\n",
      "902:\tlearn: 0.0568881\ttotal: 2.36s\tremaining: 254ms\n",
      "903:\tlearn: 0.0567627\ttotal: 2.36s\tremaining: 251ms\n",
      "904:\tlearn: 0.0566540\ttotal: 2.37s\tremaining: 248ms\n",
      "905:\tlearn: 0.0565738\ttotal: 2.37s\tremaining: 246ms\n",
      "906:\tlearn: 0.0563966\ttotal: 2.38s\tremaining: 244ms\n",
      "907:\tlearn: 0.0563438\ttotal: 2.38s\tremaining: 241ms\n"
     ]
    },
    {
     "name": "stdout",
     "output_type": "stream",
     "text": [
      "908:\tlearn: 0.0562759\ttotal: 2.38s\tremaining: 239ms\n",
      "909:\tlearn: 0.0562338\ttotal: 2.38s\tremaining: 236ms\n",
      "910:\tlearn: 0.0561452\ttotal: 2.39s\tremaining: 233ms\n",
      "911:\tlearn: 0.0560254\ttotal: 2.39s\tremaining: 230ms\n",
      "912:\tlearn: 0.0559262\ttotal: 2.39s\tremaining: 228ms\n",
      "913:\tlearn: 0.0558687\ttotal: 2.39s\tremaining: 225ms\n",
      "914:\tlearn: 0.0557213\ttotal: 2.39s\tremaining: 222ms\n",
      "915:\tlearn: 0.0556577\ttotal: 2.4s\tremaining: 220ms\n",
      "916:\tlearn: 0.0556322\ttotal: 2.4s\tremaining: 217ms\n",
      "917:\tlearn: 0.0555865\ttotal: 2.4s\tremaining: 214ms\n",
      "918:\tlearn: 0.0555059\ttotal: 2.4s\tremaining: 212ms\n",
      "919:\tlearn: 0.0554756\ttotal: 2.4s\tremaining: 209ms\n",
      "920:\tlearn: 0.0553846\ttotal: 2.41s\tremaining: 207ms\n",
      "921:\tlearn: 0.0552401\ttotal: 2.41s\tremaining: 204ms\n",
      "922:\tlearn: 0.0551366\ttotal: 2.41s\tremaining: 201ms\n",
      "923:\tlearn: 0.0550827\ttotal: 2.42s\tremaining: 199ms\n",
      "924:\tlearn: 0.0549852\ttotal: 2.42s\tremaining: 196ms\n",
      "925:\tlearn: 0.0548793\ttotal: 2.42s\tremaining: 193ms\n",
      "926:\tlearn: 0.0547688\ttotal: 2.42s\tremaining: 191ms\n",
      "927:\tlearn: 0.0546978\ttotal: 2.42s\tremaining: 188ms\n",
      "928:\tlearn: 0.0546398\ttotal: 2.42s\tremaining: 185ms\n",
      "929:\tlearn: 0.0544982\ttotal: 2.42s\tremaining: 183ms\n",
      "930:\tlearn: 0.0543710\ttotal: 2.43s\tremaining: 180ms\n",
      "931:\tlearn: 0.0542730\ttotal: 2.43s\tremaining: 177ms\n",
      "932:\tlearn: 0.0542036\ttotal: 2.43s\tremaining: 175ms\n",
      "933:\tlearn: 0.0541077\ttotal: 2.43s\tremaining: 172ms\n",
      "934:\tlearn: 0.0540588\ttotal: 2.44s\tremaining: 169ms\n",
      "935:\tlearn: 0.0540071\ttotal: 2.44s\tremaining: 167ms\n",
      "936:\tlearn: 0.0539463\ttotal: 2.44s\tremaining: 164ms\n",
      "937:\tlearn: 0.0538889\ttotal: 2.44s\tremaining: 161ms\n",
      "938:\tlearn: 0.0538198\ttotal: 2.44s\tremaining: 159ms\n",
      "939:\tlearn: 0.0538082\ttotal: 2.44s\tremaining: 156ms\n",
      "940:\tlearn: 0.0537175\ttotal: 2.45s\tremaining: 153ms\n",
      "941:\tlearn: 0.0536785\ttotal: 2.45s\tremaining: 151ms\n",
      "942:\tlearn: 0.0536130\ttotal: 2.45s\tremaining: 148ms\n",
      "943:\tlearn: 0.0535660\ttotal: 2.45s\tremaining: 145ms\n",
      "944:\tlearn: 0.0535265\ttotal: 2.45s\tremaining: 143ms\n",
      "945:\tlearn: 0.0534398\ttotal: 2.46s\tremaining: 140ms\n",
      "946:\tlearn: 0.0534086\ttotal: 2.46s\tremaining: 138ms\n",
      "947:\tlearn: 0.0533529\ttotal: 2.46s\tremaining: 135ms\n",
      "948:\tlearn: 0.0531846\ttotal: 2.46s\tremaining: 132ms\n",
      "949:\tlearn: 0.0531036\ttotal: 2.46s\tremaining: 130ms\n",
      "950:\tlearn: 0.0530573\ttotal: 2.46s\tremaining: 127ms\n",
      "951:\tlearn: 0.0529703\ttotal: 2.47s\tremaining: 124ms\n",
      "952:\tlearn: 0.0529260\ttotal: 2.47s\tremaining: 122ms\n",
      "953:\tlearn: 0.0528814\ttotal: 2.47s\tremaining: 119ms\n",
      "954:\tlearn: 0.0528264\ttotal: 2.47s\tremaining: 117ms\n",
      "955:\tlearn: 0.0527259\ttotal: 2.48s\tremaining: 114ms\n",
      "956:\tlearn: 0.0526522\ttotal: 2.48s\tremaining: 111ms\n"
     ]
    },
    {
     "name": "stdout",
     "output_type": "stream",
     "text": [
      "957:\tlearn: 0.0525952\ttotal: 2.48s\tremaining: 109ms\n",
      "958:\tlearn: 0.0525703\ttotal: 2.48s\tremaining: 106ms\n",
      "959:\tlearn: 0.0525307\ttotal: 2.49s\tremaining: 104ms\n",
      "960:\tlearn: 0.0524122\ttotal: 2.49s\tremaining: 101ms\n",
      "961:\tlearn: 0.0522949\ttotal: 2.49s\tremaining: 98.5ms\n",
      "962:\tlearn: 0.0522098\ttotal: 2.5s\tremaining: 95.9ms\n",
      "963:\tlearn: 0.0521821\ttotal: 2.5s\tremaining: 93.3ms\n",
      "964:\tlearn: 0.0520922\ttotal: 2.5s\tremaining: 90.7ms\n",
      "965:\tlearn: 0.0520130\ttotal: 2.5s\tremaining: 88.1ms\n",
      "966:\tlearn: 0.0519672\ttotal: 2.5s\tremaining: 85.5ms\n",
      "967:\tlearn: 0.0519012\ttotal: 2.51s\tremaining: 82.9ms\n",
      "968:\tlearn: 0.0518181\ttotal: 2.51s\tremaining: 80.3ms\n",
      "969:\tlearn: 0.0517270\ttotal: 2.51s\tremaining: 77.7ms\n",
      "970:\tlearn: 0.0516334\ttotal: 2.51s\tremaining: 75.1ms\n",
      "971:\tlearn: 0.0515627\ttotal: 2.52s\tremaining: 72.5ms\n",
      "972:\tlearn: 0.0515240\ttotal: 2.52s\tremaining: 69.9ms\n",
      "973:\tlearn: 0.0514862\ttotal: 2.52s\tremaining: 67.3ms\n",
      "974:\tlearn: 0.0513843\ttotal: 2.52s\tremaining: 64.7ms\n",
      "975:\tlearn: 0.0513064\ttotal: 2.53s\tremaining: 62.1ms\n",
      "976:\tlearn: 0.0512730\ttotal: 2.53s\tremaining: 59.6ms\n",
      "977:\tlearn: 0.0512174\ttotal: 2.53s\tremaining: 57ms\n",
      "978:\tlearn: 0.0511325\ttotal: 2.53s\tremaining: 54.4ms\n",
      "979:\tlearn: 0.0510400\ttotal: 2.54s\tremaining: 51.8ms\n",
      "980:\tlearn: 0.0510023\ttotal: 2.54s\tremaining: 49.2ms\n",
      "981:\tlearn: 0.0509053\ttotal: 2.54s\tremaining: 46.6ms\n",
      "982:\tlearn: 0.0508393\ttotal: 2.54s\tremaining: 44ms\n",
      "983:\tlearn: 0.0507658\ttotal: 2.55s\tremaining: 41.4ms\n",
      "984:\tlearn: 0.0507075\ttotal: 2.55s\tremaining: 38.8ms\n",
      "985:\tlearn: 0.0506585\ttotal: 2.55s\tremaining: 36.2ms\n",
      "986:\tlearn: 0.0506388\ttotal: 2.55s\tremaining: 33.6ms\n",
      "987:\tlearn: 0.0505653\ttotal: 2.56s\tremaining: 31.1ms\n"
     ]
    },
    {
     "name": "stdout",
     "output_type": "stream",
     "text": [
      "988:\tlearn: 0.0504912\ttotal: 2.56s\tremaining: 28.5ms\n",
      "989:\tlearn: 0.0504091\ttotal: 2.56s\tremaining: 25.9ms\n",
      "990:\tlearn: 0.0502938\ttotal: 2.56s\tremaining: 23.3ms\n",
      "991:\tlearn: 0.0502112\ttotal: 2.57s\tremaining: 20.7ms\n",
      "992:\tlearn: 0.0501619\ttotal: 2.57s\tremaining: 18.1ms\n",
      "993:\tlearn: 0.0501345\ttotal: 2.57s\tremaining: 15.5ms\n",
      "994:\tlearn: 0.0500808\ttotal: 2.57s\tremaining: 12.9ms\n",
      "995:\tlearn: 0.0499712\ttotal: 2.58s\tremaining: 10.3ms\n",
      "996:\tlearn: 0.0498756\ttotal: 2.58s\tremaining: 7.76ms\n",
      "997:\tlearn: 0.0497895\ttotal: 2.58s\tremaining: 5.17ms\n",
      "998:\tlearn: 0.0496471\ttotal: 2.58s\tremaining: 2.59ms\n",
      "999:\tlearn: 0.0495856\ttotal: 2.59s\tremaining: 0us\n"
     ]
    },
    {
     "data": {
      "text/plain": [
       "<catboost.core.CatBoostRegressor at 0x7fc9df82bdf0>"
      ]
     },
     "execution_count": 9,
     "metadata": {},
     "output_type": "execute_result"
    }
   ],
   "source": [
    "#Train the Model \n",
    "prior_model = ctb.CatBoostRegressor()\n",
    "prior_model.fit(X_train,Y_train)"
   ]
  },
  {
   "cell_type": "code",
   "execution_count": 10,
   "id": "af65dcda",
   "metadata": {
    "execution": {
     "iopub.execute_input": "2022-07-22T18:42:37.628129Z",
     "iopub.status.busy": "2022-07-22T18:42:37.627354Z",
     "iopub.status.idle": "2022-07-22T18:42:37.684718Z",
     "shell.execute_reply": "2022-07-22T18:42:37.682370Z"
    },
    "id": "af65dcda",
    "papermill": {
     "duration": 0.098279,
     "end_time": "2022-07-22T18:42:37.689228",
     "exception": false,
     "start_time": "2022-07-22T18:42:37.590949",
     "status": "completed"
    },
    "tags": []
   },
   "outputs": [
    {
     "data": {
      "application/scrapbook.scrap.json+json": {
       "data": 0.08794745703527478,
       "encoder": "json",
       "name": "Prior Model MSE",
       "version": 1
      }
     },
     "metadata": {
      "scrapbook": {
       "data": true,
       "display": false,
       "name": "Prior Model MSE"
      }
     },
     "output_type": "display_data"
    },
    {
     "data": {
      "application/scrapbook.scrap.json+json": {
       "data": 0.0933398857532611,
       "encoder": "json",
       "name": "ABC Pre-generator MSE",
       "version": 1
      }
     },
     "metadata": {
      "scrapbook": {
       "data": true,
       "display": false,
       "name": "ABC Pre-generator MSE"
      }
     },
     "output_type": "display_data"
    },
    {
     "data": {
      "application/scrapbook.scrap.json+json": {
       "data": 0.2163898312972381,
       "encoder": "json",
       "name": "Prior Model MAE",
       "version": 1
      }
     },
     "metadata": {
      "scrapbook": {
       "data": true,
       "display": false,
       "name": "Prior Model MAE"
      }
     },
     "output_type": "display_data"
    },
    {
     "name": "stdout",
     "output_type": "stream",
     "text": [
      "Prior Model MAE 0.2163898312972381\n",
      "ABC Pre-generator MAE 0.22208149621251885\n"
     ]
    }
   ],
   "source": [
    "y_pred = prior_model.predict(X_test)\n",
    "y_abc = y_pred + np.random.normal(0,variance, y_pred.shape) + bias \n",
    "mse = mean_squared_error(y_pred,Y_test)\n",
    "sb.glue(\"Prior Model MSE\",mse)\n",
    "mse = mean_squared_error(y_abc,Y_test)\n",
    "sb.glue(\"ABC Pre-generator MSE\",mse)\n",
    "mae = mean_absolute_error(y_pred,Y_test)\n",
    "sb.glue(\"Prior Model MAE\",mae)\n",
    "print(\"Prior Model MAE\",mae)\n",
    "mae = mean_absolute_error(y_abc,Y_test)\n",
    "print(\"ABC Pre-generator MAE\",mae)"
   ]
  },
  {
   "cell_type": "markdown",
   "id": "25609da2",
   "metadata": {
    "papermill": {
     "duration": 0.011603,
     "end_time": "2022-07-22T18:42:37.712499",
     "exception": false,
     "start_time": "2022-07-22T18:42:37.700896",
     "status": "completed"
    },
    "tags": []
   },
   "source": [
    "# mGAN Model"
   ]
  },
  {
   "cell_type": "code",
   "execution_count": 11,
   "id": "dfc3464d",
   "metadata": {
    "execution": {
     "iopub.execute_input": "2022-07-22T18:42:37.745561Z",
     "iopub.status.busy": "2022-07-22T18:42:37.744794Z",
     "iopub.status.idle": "2022-07-22T18:42:37.751926Z",
     "shell.execute_reply": "2022-07-22T18:42:37.750313Z"
    },
    "papermill": {
     "duration": 0.031684,
     "end_time": "2022-07-22T18:42:37.756314",
     "exception": false,
     "start_time": "2022-07-22T18:42:37.724630",
     "status": "completed"
    },
    "tags": []
   },
   "outputs": [],
   "source": [
    "# gen = network.Generator(n_features+1).to(device)\n",
    "# disc = network.Discriminator(n_features+1).to(device)\n",
    "\n",
    "# criterion = torch.nn.BCELoss()\n",
    "# gen_opt = torch.optim.Adam(gen.parameters(), lr=0.01, betas=(0.5, 0.999))\n",
    "# disc_opt = torch.optim.Adam(disc.parameters(), lr=0.01, betas=(0.5, 0.999))"
   ]
  },
  {
   "cell_type": "code",
   "execution_count": 12,
   "id": "b75fdd85",
   "metadata": {
    "execution": {
     "iopub.execute_input": "2022-07-22T18:42:37.829850Z",
     "iopub.status.busy": "2022-07-22T18:42:37.829526Z",
     "iopub.status.idle": "2022-07-22T18:42:37.835059Z",
     "shell.execute_reply": "2022-07-22T18:42:37.834073Z"
    },
    "papermill": {
     "duration": 0.030581,
     "end_time": "2022-07-22T18:42:37.838806",
     "exception": false,
     "start_time": "2022-07-22T18:42:37.808225",
     "status": "completed"
    },
    "tags": []
   },
   "outputs": [],
   "source": [
    "#Training the ABC_GAN \n",
    "# ABC_train_test2.training_GAN(disc,gen,disc_opt,gen_opt,train_data,batch_size,n_epochs,criterion,prior_model,variance,bias,device)"
   ]
  },
  {
   "cell_type": "code",
   "execution_count": 13,
   "id": "1fa7c368",
   "metadata": {
    "execution": {
     "iopub.execute_input": "2022-07-22T18:42:37.866575Z",
     "iopub.status.busy": "2022-07-22T18:42:37.866067Z",
     "iopub.status.idle": "2022-07-22T18:42:37.878197Z",
     "shell.execute_reply": "2022-07-22T18:42:37.875159Z"
    },
    "papermill": {
     "duration": 0.03167,
     "end_time": "2022-07-22T18:42:37.882646",
     "exception": false,
     "start_time": "2022-07-22T18:42:37.850976",
     "status": "completed"
    },
    "tags": []
   },
   "outputs": [],
   "source": [
    "# ABC_GAN1_metrics=ABC_train_test2.test_generator(gen,test_data,prior_model,variance,bias,\"1\",device)\n",
    "# sb.glue(\"ABC_GAN_1 Metrics\",ABC_GAN1_metrics)\n",
    "\n",
    "# print(\"MAE\")\n",
    "# print(mean(ABC_GAN1_metrics[1]))"
   ]
  },
  {
   "cell_type": "code",
   "execution_count": 14,
   "id": "eb22ce5c",
   "metadata": {
    "execution": {
     "iopub.execute_input": "2022-07-22T18:42:37.910971Z",
     "iopub.status.busy": "2022-07-22T18:42:37.910609Z",
     "iopub.status.idle": "2022-07-22T18:42:37.915782Z",
     "shell.execute_reply": "2022-07-22T18:42:37.914706Z"
    },
    "papermill": {
     "duration": 0.021502,
     "end_time": "2022-07-22T18:42:37.918911",
     "exception": false,
     "start_time": "2022-07-22T18:42:37.897409",
     "status": "completed"
    },
    "tags": []
   },
   "outputs": [],
   "source": [
    "# sanityChecks.discProbVsError(train_data,disc,device)\n",
    "# sanityChecks.discProbVsError(test_data,disc,device)"
   ]
  },
  {
   "cell_type": "markdown",
   "id": "9e8819cf",
   "metadata": {
    "papermill": {
     "duration": 0.011948,
     "end_time": "2022-07-22T18:42:37.942462",
     "exception": false,
     "start_time": "2022-07-22T18:42:37.930514",
     "status": "completed"
    },
    "tags": []
   },
   "source": [
    "# mGAN Model with TabNet Generator"
   ]
  },
  {
   "cell_type": "code",
   "execution_count": 15,
   "id": "a19027ca",
   "metadata": {
    "execution": {
     "iopub.execute_input": "2022-07-22T18:42:37.986276Z",
     "iopub.status.busy": "2022-07-22T18:42:37.985488Z",
     "iopub.status.idle": "2022-07-22T18:42:38.006034Z",
     "shell.execute_reply": "2022-07-22T18:42:38.005069Z"
    },
    "papermill": {
     "duration": 0.054735,
     "end_time": "2022-07-22T18:42:38.009634",
     "exception": false,
     "start_time": "2022-07-22T18:42:37.954899",
     "status": "completed"
    },
    "tags": []
   },
   "outputs": [],
   "source": [
    "gen2 = network.GeneratorTabnet(n_features+1).to(device)\n",
    "disc2 = network.Discriminator(n_features+1).to(device)\n",
    "\n",
    "criterion = torch.nn.BCELoss()\n",
    "gen_opt = torch.optim.Adam(gen2.parameters(), lr=0.01, betas=(0.5, 0.999))\n",
    "disc_opt = torch.optim.Adam(disc2.parameters(), lr=0.01, betas=(0.5, 0.999))"
   ]
  },
  {
   "cell_type": "code",
   "execution_count": 16,
   "id": "2f01c6d9",
   "metadata": {
    "execution": {
     "iopub.execute_input": "2022-07-22T18:42:38.035489Z",
     "iopub.status.busy": "2022-07-22T18:42:38.035151Z",
     "iopub.status.idle": "2022-07-22T18:53:10.022012Z",
     "shell.execute_reply": "2022-07-22T18:53:10.020026Z"
    },
    "papermill": {
     "duration": 632.005172,
     "end_time": "2022-07-22T18:53:10.026658",
     "exception": false,
     "start_time": "2022-07-22T18:42:38.021486",
     "status": "completed"
    },
    "tags": []
   },
   "outputs": [
    {
     "data": {
      "image/png": "[encoded data removed]",
      "text/plain": [
       "<Figure size 432x288 with 1 Axes>"
      ]
     },
     "metadata": {
      "needs_background": "light"
     },
     "output_type": "display_data"
    },
    {
     "data": {
      "image/png": "[encoded data removed]",
      "text/plain": [
       "<Figure size 432x288 with 1 Axes>"
      ]
     },
     "metadata": {
      "needs_background": "light"
     },
     "output_type": "display_data"
    }
   ],
   "source": [
    "#Training the ABC_GAN \n",
    "ABC_train_test2.training_GAN(disc2,gen2,disc_opt,gen_opt,train_data,batch_size,n_epochs,criterion,prior_model,variance,bias,device)"
   ]
  },
  {
   "cell_type": "code",
   "execution_count": 17,
   "id": "52c082f9",
   "metadata": {
    "execution": {
     "iopub.execute_input": "2022-07-22T18:53:10.318407Z",
     "iopub.status.busy": "2022-07-22T18:53:10.317823Z",
     "iopub.status.idle": "2022-07-22T18:53:12.173813Z",
     "shell.execute_reply": "2022-07-22T18:53:12.172083Z"
    },
    "papermill": {
     "duration": 2.136641,
     "end_time": "2022-07-22T18:53:12.177486",
     "exception": false,
     "start_time": "2022-07-22T18:53:10.040845",
     "status": "completed"
    },
    "tags": []
   },
   "outputs": [
    {
     "data": {
      "application/scrapbook.scrap.json+json": {
       "data": 0.10654653321894689,
       "encoder": "json",
       "name": "ABC-GAN Model 1 MSE",
       "version": 1
      }
     },
     "metadata": {
      "scrapbook": {
       "data": true,
       "display": false,
       "name": "ABC-GAN Model 1 MSE"
      }
     },
     "output_type": "display_data"
    },
    {
     "data": {
      "application/scrapbook.scrap.json+json": {
       "data": 0.2353053653568906,
       "encoder": "json",
       "name": "ABC-GAN Model 1 MAE",
       "version": 1
      }
     },
     "metadata": {
      "scrapbook": {
       "data": true,
       "display": false,
       "name": "ABC-GAN Model 1 MAE"
      }
     },
     "output_type": "display_data"
    },
    {
     "data": {
      "application/scrapbook.scrap.json+json": {
       "data": 24.00114726640284,
       "encoder": "json",
       "name": "ABC-GAN Model 1 Manhattan Distance",
       "version": 1
      }
     },
     "metadata": {
      "scrapbook": {
       "data": true,
       "display": false,
       "name": "ABC-GAN Model 1 Manhattan Distance"
      }
     },
     "output_type": "display_data"
    },
    {
     "data": {
      "application/scrapbook.scrap.json+json": {
       "data": 3.296608777808669,
       "encoder": "json",
       "name": "ABC-GAN Model 1 Euclidean distance",
       "version": 1
      }
     },
     "metadata": {
      "scrapbook": {
       "data": true,
       "display": false,
       "name": "ABC-GAN Model 1 Euclidean distance"
      }
     },
     "output_type": "display_data"
    },
    {
     "data": {
      "application/scrapbook.scrap.json+json": {
       "data": [
        [
         0.10676539803171414,
         0.10699132247137784,
         0.10494989278187607,
         0.1061996737810738,
         0.10642969788999213,
         0.10600286349513506,
         0.10562690978506521,
         0.10693403629927102,
         0.10603472840714472,
         0.1073711279008138,
         0.10619874028539311,
         0.10730045247722833,
         0.10545606200656735,
         0.10761952959070538,
         0.10777698953188976,
         0.10624648751077377,
         0.10706307042079655,
         0.10613201685638543,
         0.10559847122018584,
         0.10694177118987969,
         0.1061774258997249,
         0.10596907367405999,
         0.10776066524893732,
         0.10680171589238872,
         0.10744443577289692,
         0.10777056744169453,
         0.10677840474565689,
         0.10666484152631948,
         0.10621268315894501,
         0.10717943429795454,
         0.10553441136501969,
         0.10657351550510911,
         0.10612540477610546,
         0.10604088963663928,
         0.10807834147654662,
         0.1068266115850376,
         0.10695958719463788,
         0.10464395497217918,
         0.10734428432645257,
         0.10708887155428919,
         0.1067127756478942,
         0.10646796241666279,
         0.10640535779624082,
         0.10572420296619015,
         0.10642248134678245,
         0.10638429972545116,
         0.10770479022961883,
         0.10732137446950353,
         0.10634214191102379,
         0.10748762942265473,
         0.10534396478884933,
         0.10779969934730298,
         0.1066626905999251,
         0.10668439998605987,
         0.10544130449076604,
         0.10652800030319413,
         0.10689915200815855,
         0.10705901892538942,
         0.10649017632731182,
         0.1068584039482948,
         0.10626903700583398,
         0.10664019652902265,
         0.10632764052941235,
         0.10650052128742712,
         0.10556751265189813,
         0.10688784026690036,
         0.10710442181967987,
         0.1041391746423407,
         0.10667732243798184,
         0.1066573099164062,
         0.10620935167280803,
         0.10590600246922455,
         0.10646387341567032,
         0.10649298099638689,
         0.10729962679799232,
         0.10713635212905874,
         0.1055975082568896,
         0.1062485209343416,
         0.10624542820202997,
         0.1051081534091489,
         0.10687187716082917,
         0.1068701663304503,
         0.10639334606160336,
         0.10613611041203379,
         0.10729393679523676,
         0.10621515068179595,
         0.10650571336478565,
         0.10618824763868713,
         0.1062302278103528,
         0.10691636331919205,
         0.10653578447612759,
         0.10670256077574526,
         0.10633028027784756,
         0.10663271470609086,
         0.10652124572596715,
         0.10677177898560337,
         0.10772233538748584,
         0.10616509735149687,
         0.10729319937653908,
         0.10652422124522558
        ],
        [
         0.2355733389655749,
         0.23692692728603587,
         0.2344636509523672,
         0.23618594538785664,
         0.23528626159417862,
         0.23388568275407248,
         0.23392025863423066,
         0.23633521068475993,
         0.23416509344151207,
         0.23806040350566893,
         0.23462587748380268,
         0.23584424890577793,
         0.2339039885384195,
         0.23597328375805826,
         0.23537015958743937,
         0.23572786064708934,
         0.2358067926092475,
         0.23507967949205755,
         0.23310552741966994,
         0.23541983498223856,
         0.23469199214641953,
         0.23433427845000052,
         0.23638147448061728,
         0.23607543607552847,
         0.23635191751607493,
         0.23690251341345264,
         0.23521953762746325,
         0.23592166251995983,
         0.235819608557458,
         0.23642597135667706,
         0.23401984638151,
         0.2349088532740579,
         0.23462757523007252,
         0.23456766916548505,
         0.23639040805545508,
         0.23422128955523172,
         0.23656648463186095,
         0.23421138294917695,
         0.23603150222961808,
         0.2360355823720787,
         0.2351418932278951,
         0.235925082190364,
         0.2344950397371077,
         0.23345435279257157,
         0.23596250170878336,
         0.23467824009119295,
         0.23713567191917523,
         0.23690684377124496,
         0.23487474214212567,
         0.23693176702249283,
         0.23448349918951006,
         0.23703264868726917,
         0.2341756494167973,
         0.2357689573922578,
         0.23388472060654678,
         0.23547770597917192,
         0.23563938635383166,
         0.23580645298694863,
         0.23542108832328928,
         0.23639338931032255,
         0.2344779858694357,
         0.23675037745167227,
         0.23527846448853904,
         0.23634369810130082,
         0.23392879447954543,
         0.236539332963088,
         0.2362237581435372,
         0.2331496086702043,
         0.2357350823779901,
         0.23644485638714305,
         0.23324911026101486,
         0.23620950120190778,
         0.235459456366359,
         0.2362496458067029,
         0.23533740172199175,
         0.23480652144872674,
         0.2332461843011426,
         0.2356573617925831,
         0.23342367670699662,
         0.2324808963811865,
         0.23536687117873453,
         0.2364859639064354,
         0.23431333070438282,
         0.23435882427820973,
         0.23559821502981232,
         0.2348137849247923,
         0.23560616728283612,
         0.23573014494396893,
         0.2344383395039568,
         0.23488067083206832,
         0.2351718517202957,
         0.23516403817955187,
         0.23451977402117907,
         0.2336946658826634,
         0.23568736604761845,
         0.2354798986777371,
         0.23703045350517712,
         0.23514925326932878,
         0.2356748250221797,
         0.23542573638990813
        ],
        [
         24.02848057448864,
         24.16654658317566,
         23.915292397141457,
         24.090966429561377,
         23.99919868260622,
         23.856339640915394,
         23.85986638069153,
         24.106191489845514,
         23.88483953103423,
         24.28216115757823,
         23.931839503347874,
         24.05611338838935,
         23.85820683091879,
         24.069274943321943,
         24.007756277918816,
         24.044241786003113,
         24.052292846143246,
         23.97812730818987,
         23.776763796806335,
         24.012823168188334,
         23.938583198934793,
         23.902096401900053,
         24.110910397022963,
         24.079694479703903,
         24.107895586639643,
         24.16405636817217,
         23.99239283800125,
         24.064009577035904,
         24.053600072860718,
         24.11544907838106,
         23.87002433091402,
         23.960703033953905,
         23.932012673467398,
         23.925902254879475,
         24.111821621656418,
         23.890571534633636,
         24.129781432449818,
         23.88956106081605,
         24.075213227421045,
         24.07562940195203,
         23.9844731092453,
         24.06435838341713,
         23.918494053184986,
         23.8123439848423,
         24.068175174295902,
         23.93718048930168,
         24.187838535755873,
         24.164498064666986,
         23.95722369849682,
         24.16704023629427,
         23.917316917330027,
         24.177330166101456,
         23.885916240513325,
         24.048433654010296,
         23.85624150186777,
         24.018726009875536,
         24.03521740809083,
         24.05225820466876,
         24.012951008975506,
         24.1121257096529,
         23.91675455868244,
         24.148538500070572,
         23.998403377830982,
         24.107057206332684,
         23.860737036913633,
         24.127011962234974,
         24.094823330640793,
         23.781260084360838,
         24.04497840255499,
         24.11737535148859,
         23.791409246623516,
         24.093369122594595,
         24.01686454936862,
         24.097463872283697,
         24.004414975643158,
         23.95026518777013,
         23.791110798716545,
         24.037050902843475,
         23.809215024113655,
         23.713051430881023,
         24.007420860230923,
         24.12156831845641,
         23.899959731847048,
         23.904600076377392,
         24.031017933040857,
         23.951006062328815,
         24.031829062849283,
         24.04447478428483,
         23.91271062940359,
         23.957828424870968,
         23.98752887547016,
         23.98673189431429,
         23.921016950160265,
         23.836855920031667,
         24.04011133685708,
         24.018949665129185,
         24.177106257528067,
         23.985223833471537,
         24.03883215226233,
         24.01342511177063
        ],
        [
         3.3000106968364276,
         3.3035003998910804,
         3.271832676612812,
         3.291256101501298,
         3.2948185359408186,
         3.288204993078103,
         3.282368778500772,
         3.3026158878267458,
         3.2886991801514407,
         3.309358706136735,
         3.291241636390451,
         3.3082693591479653,
         3.279713146705038,
         3.313184573526193,
         3.3156074755997205,
         3.291981428577464,
         3.30460787127932,
         3.290207549585787,
         3.2819268828630155,
         3.302735330202486,
         3.2909113390931597,
         3.287680871793081,
         3.3153563692899737,
         3.300571923322327,
         3.3104882493124,
         3.3155086908426044,
         3.3002117029149804,
         3.2984562806992885,
         3.2914576834910676,
         3.3064032268299277,
         3.2809312640212385,
         3.2970439156191307,
         3.2901050571619677,
         3.288794724961897,
         3.3202395742789035,
         3.3009565858511127,
         3.3030104289652287,
         3.267060361726161,
         3.308944998228008,
         3.3050060360818545,
         3.2991973442164997,
         3.2954107735606497,
         3.294441757751464,
         3.283880129138606,
         3.2947068302615046,
         3.294115749635403,
         3.314496734561842,
         3.3085918750866443,
         3.293462991279001,
         3.3111536057861737,
         3.2779695557559143,
         3.3159567749632837,
         3.2984230233844105,
         3.298758675407781,
         3.2794836572329693,
         3.2963397930015943,
         3.302077150042404,
         3.3045453439754344,
         3.295754539613926,
         3.3014477434492377,
         3.292330751093374,
         3.298075203199634,
         3.2932384265339874,
         3.2959146183294195,
         3.2814457622355433,
         3.301902437568959,
         3.305245985642724,
         3.2591710316457374,
         3.2986492521446023,
         3.2983398265602397,
         3.2914060628592186,
         3.286702336972562,
         3.295347491297142,
         3.2957979400490345,
         3.308256630522368,
         3.305738634127627,
         3.2819119187148735,
         3.292012930609909,
         3.2919650175247988,
         3.2742986497467186,
         3.3016558679554375,
         3.3016294410042324,
         3.29425580340743,
         3.2902710013048235,
         3.3081689124218174,
         3.2914959166833526,
         3.2959949580070855,
         3.2910790417651903,
         3.2917295205797177,
         3.3023429650109914,
         3.2964602252363076,
         3.2990394358246173,
         3.293279306153739,
         3.2979595055156854,
         3.296235286512273,
         3.300109309785289,
         3.314766690058827,
         3.290720275236514,
         3.308157544072981,
         3.296281324009376
        ]
       ],
       "encoder": "json",
       "name": "ABC_GAN_2 Metrics",
       "version": 1
      }
     },
     "metadata": {
      "scrapbook": {
       "data": true,
       "display": false,
       "name": "ABC_GAN_2 Metrics"
      }
     },
     "output_type": "display_data"
    },
    {
     "name": "stdout",
     "output_type": "stream",
     "text": [
      "MAE\n",
      "0.2353053653568906\n"
     ]
    }
   ],
   "source": [
    "ABC_GAN2_metrics=ABC_train_test2.test_generator(gen2,test_data,prior_model,variance,bias,\"1\",device)\n",
    "sb.glue(\"ABC_GAN_2 Metrics\",ABC_GAN2_metrics)\n",
    "\n",
    "print(\"MAE\")\n",
    "print(mean(ABC_GAN2_metrics[1]))"
   ]
  },
  {
   "cell_type": "code",
   "execution_count": 18,
   "id": "c8fdf3b7",
   "metadata": {
    "execution": {
     "iopub.execute_input": "2022-07-22T18:53:12.212360Z",
     "iopub.status.busy": "2022-07-22T18:53:12.211722Z",
     "iopub.status.idle": "2022-07-22T18:53:13.120457Z",
     "shell.execute_reply": "2022-07-22T18:53:13.119483Z"
    },
    "papermill": {
     "duration": 0.930699,
     "end_time": "2022-07-22T18:53:13.123306",
     "exception": false,
     "start_time": "2022-07-22T18:53:12.192607",
     "status": "completed"
    },
    "tags": []
   },
   "outputs": [
    {
     "data": {
      "image/png": "[encoded data removed]",
      "text/plain": [
       "<Figure size 432x288 with 1 Axes>"
      ]
     },
     "metadata": {
      "needs_background": "light"
     },
     "output_type": "display_data"
    },
    {
     "data": {
      "image/png": "[encoded data removed]",
      "text/plain": [
       "<Figure size 432x288 with 1 Axes>"
      ]
     },
     "metadata": {
      "needs_background": "light"
     },
     "output_type": "display_data"
    },
    {
     "data": {
      "image/png": "[encoded data removed]",
      "text/plain": [
       "<Figure size 432x288 with 1 Axes>"
      ]
     },
     "metadata": {
      "needs_background": "light"
     },
     "output_type": "display_data"
    },
    {
     "data": {
      "image/png": "[encoded data removed]",
      "text/plain": [
       "<Figure size 432x288 with 1 Axes>"
      ]
     },
     "metadata": {
      "needs_background": "light"
     },
     "output_type": "display_data"
    }
   ],
   "source": [
    "sanityChecks.discProbVsError(train_data,disc2,device)\n",
    "sanityChecks.discProbVsError(test_data,disc2,device)"
   ]
  },
  {
   "cell_type": "markdown",
   "id": "130f3a4d",
   "metadata": {
    "id": "130f3a4d",
    "papermill": {
     "duration": 0.016436,
     "end_time": "2022-07-22T18:53:13.157105",
     "exception": false,
     "start_time": "2022-07-22T18:53:13.140669",
     "status": "completed"
    },
    "tags": []
   },
   "source": [
    "# skipGAN Model"
   ]
  },
  {
   "cell_type": "code",
   "execution_count": 19,
   "id": "4e43dad1",
   "metadata": {
    "execution": {
     "iopub.execute_input": "2022-07-22T18:53:13.198826Z",
     "iopub.status.busy": "2022-07-22T18:53:13.198355Z",
     "iopub.status.idle": "2022-07-22T18:53:13.204715Z",
     "shell.execute_reply": "2022-07-22T18:53:13.203133Z"
    },
    "id": "4e43dad1",
    "papermill": {
     "duration": 0.034724,
     "end_time": "2022-07-22T18:53:13.208837",
     "exception": false,
     "start_time": "2022-07-22T18:53:13.174113",
     "status": "completed"
    },
    "tags": []
   },
   "outputs": [],
   "source": [
    "# #Generator\n",
    "# gen3 = network.GeneratorWithSkipConnection(n_features+1).to(device)\n",
    "# constraints=network.weightConstraint()\n",
    "# #Discriminator \n",
    "# disc3 = network.Discriminator(n_features+1).to(device)\n",
    "\n",
    "# criterion = torch.nn.BCELoss()\n",
    "# gen_opt = torch.optim.Adam(gen3.parameters(), lr=0.01, betas=(0.5, 0.999))\n",
    "# disc_opt = torch.optim.Adam(disc3.parameters(), lr=0.01, betas=(0.5, 0.999))\n"
   ]
  },
  {
   "cell_type": "markdown",
   "id": "8142db18",
   "metadata": {
    "tags": [
     "papermill-error-cell-tag"
    ]
   },
   "source": [
    "<span id=\"papermill-error-cell\" style=\"color:red; font-family:Helvetica Neue, Helvetica, Arial, sans-serif; font-size:2em;\">Execution using papermill encountered an exception here and stopped:</span>"
   ]
  },
  {
   "cell_type": "code",
   "execution_count": 20,
   "id": "26acbc37",
   "metadata": {
    "execution": {
     "iopub.execute_input": "2022-07-22T18:53:13.249999Z",
     "iopub.status.busy": "2022-07-22T18:53:13.249671Z",
     "iopub.status.idle": "2022-07-22T18:53:14.861133Z",
     "shell.execute_reply": "2022-07-22T18:53:14.847359Z"
    },
    "id": "26acbc37",
    "papermill": {
     "duration": 1.636187,
     "end_time": "2022-07-22T18:53:14.863713",
     "exception": true,
     "start_time": "2022-07-22T18:53:13.227526",
     "status": "failed"
    },
    "tags": []
   },
   "outputs": [
    {
     "ename": "NameError",
     "evalue": "name 'disc3' is not defined",
     "output_type": "error",
     "traceback": [
      "\u001b[0;31m---------------------------------------------------------------------------\u001b[0m",
      "\u001b[0;31mNameError\u001b[0m                                 Traceback (most recent call last)",
      "Input \u001b[0;32mIn [20]\u001b[0m, in \u001b[0;36m<cell line: 1>\u001b[0;34m()\u001b[0m\n\u001b[0;32m----> 1\u001b[0m ABC_train_test2\u001b[38;5;241m.\u001b[39mtraining_GAN_skip_connection(\u001b[43mdisc3\u001b[49m,gen3,disc_opt,gen_opt,train_data,batch_size,n_epochs,criterion,prior_model,variance,bias,device)\n",
      "\u001b[0;31mNameError\u001b[0m: name 'disc3' is not defined"
     ]
    }
   ],
   "source": [
    "ABC_train_test2.training_GAN_skip_connection(disc3,gen3,disc_opt,gen_opt,train_data,batch_size,n_epochs,criterion,prior_model,variance,bias,device)"
   ]
  },
  {
   "cell_type": "code",
   "execution_count": null,
   "id": "c5e0717b",
   "metadata": {
    "id": "c5e0717b",
    "papermill": {
     "duration": null,
     "end_time": null,
     "exception": null,
     "start_time": null,
     "status": "pending"
    },
    "tags": []
   },
   "outputs": [],
   "source": [
    "# ABC_GAN3_metrics=ABC_train_test2.test_generator(gen3,test_data,prior_model,variance,bias,\"3\",device)\n",
    "# sb.glue(\"ABC_GAN_3 Metrics\",ABC_GAN3_metrics)\n",
    "\n",
    "# print(\"MAE\")\n",
    "# print(mean(ABC_GAN3_metrics[1]))"
   ]
  },
  {
   "cell_type": "code",
   "execution_count": null,
   "id": "c8e46b48",
   "metadata": {
    "id": "c8e46b48",
    "papermill": {
     "duration": null,
     "end_time": null,
     "exception": null,
     "start_time": null,
     "status": "pending"
    },
    "tags": []
   },
   "outputs": [],
   "source": [
    "# sanityChecks.discProbVsError(train_data,disc3,device)\n",
    "# sanityChecks.discProbVsError(test_data,disc3,device)"
   ]
  },
  {
   "cell_type": "markdown",
   "id": "dea1e3ac",
   "metadata": {
    "id": "130f3a4d",
    "papermill": {
     "duration": null,
     "end_time": null,
     "exception": null,
     "start_time": null,
     "status": "pending"
    },
    "tags": []
   },
   "source": [
    "# skipGAN Model with TabNet Generator"
   ]
  },
  {
   "cell_type": "code",
   "execution_count": null,
   "id": "d67bc349",
   "metadata": {
    "id": "4e43dad1",
    "papermill": {
     "duration": null,
     "end_time": null,
     "exception": null,
     "start_time": null,
     "status": "pending"
    },
    "tags": []
   },
   "outputs": [],
   "source": [
    "# #Generator\n",
    "# gen4 = network.GeneratorTabnetskipConnection(n_features+1).to(device)\n",
    "# constraints=network.weightConstraint()\n",
    "# #Discriminator \n",
    "# disc4 = network.Discriminator(n_features+1).to(device)\n",
    "\n",
    "# criterion = torch.nn.BCELoss()\n",
    "# gen_opt = torch.optim.Adam(gen4.parameters(), lr=0.01, betas=(0.5, 0.999))\n",
    "# disc_opt = torch.optim.Adam(disc4.parameters(), lr=0.01, betas=(0.5, 0.999))\n"
   ]
  },
  {
   "cell_type": "code",
   "execution_count": null,
   "id": "74cd1b9f",
   "metadata": {
    "id": "26acbc37",
    "papermill": {
     "duration": null,
     "end_time": null,
     "exception": null,
     "start_time": null,
     "status": "pending"
    },
    "tags": []
   },
   "outputs": [],
   "source": [
    "# ABC_train_test2.training_GAN_skip_connection(disc4,gen4,disc_opt,gen_opt,train_data,batch_size,n_epochs,criterion,prior_model,variance,bias,device)"
   ]
  },
  {
   "cell_type": "code",
   "execution_count": null,
   "id": "583baa3b",
   "metadata": {
    "id": "c5e0717b",
    "papermill": {
     "duration": null,
     "end_time": null,
     "exception": null,
     "start_time": null,
     "status": "pending"
    },
    "tags": []
   },
   "outputs": [],
   "source": [
    "# ABC_GAN4_metrics=ABC_train_test2.test_generator(gen4,test_data,prior_model,variance,bias,\"3\",device)\n",
    "# sb.glue(\"ABC_GAN_4 Metrics\",ABC_GAN4_metrics)\n",
    "\n",
    "# print(\"MAE\")\n",
    "# print(mean(ABC_GAN4_metrics[1]))"
   ]
  },
  {
   "cell_type": "code",
   "execution_count": null,
   "id": "12c5ab06",
   "metadata": {
    "id": "c8e46b48",
    "papermill": {
     "duration": null,
     "end_time": null,
     "exception": null,
     "start_time": null,
     "status": "pending"
    },
    "tags": []
   },
   "outputs": [],
   "source": [
    "# sanityChecks.discProbVsError(train_data,disc4,device)\n",
    "# sanityChecks.discProbVsError(test_data,disc4,device)"
   ]
  },
  {
   "cell_type": "markdown",
   "id": "a5bd74c3",
   "metadata": {
    "id": "a5bd74c3",
    "papermill": {
     "duration": null,
     "end_time": null,
     "exception": null,
     "start_time": null,
     "status": "pending"
    },
    "tags": []
   },
   "source": [
    "## Skip Connection Model Analysis - ABC-GAN "
   ]
  },
  {
   "cell_type": "markdown",
   "id": "5744a8bf",
   "metadata": {
    "id": "5744a8bf",
    "papermill": {
     "duration": null,
     "end_time": null,
     "exception": null,
     "start_time": null,
     "status": "pending"
    },
    "tags": []
   },
   "source": [
    "### Weight Analysis \n",
    "\n",
    "Study the weights of the skip connection layer\n",
    "\n",
    "Equation of the skip connection is \n",
    "\n",
    "$output = y_{gan} * w + y_{abc} * (1-w)$"
   ]
  },
  {
   "cell_type": "code",
   "execution_count": null,
   "id": "52c31dea",
   "metadata": {
    "id": "52c31dea",
    "papermill": {
     "duration": null,
     "end_time": null,
     "exception": null,
     "start_time": null,
     "status": "pending"
    },
    "tags": []
   },
   "outputs": [],
   "source": [
    "# print(\"Weight of the node at skip connection\")\n",
    "# for name,param in gen3.named_parameters():\n",
    "#     if(name == \"skipNode.weight\"):\n",
    "#         print(param)\n",
    "#         sb.glue(\"Skip Connection Weight\",param.item())"
   ]
  },
  {
   "cell_type": "markdown",
   "id": "dfffcd37",
   "metadata": {
    "id": "a5bd74c3",
    "papermill": {
     "duration": null,
     "end_time": null,
     "exception": null,
     "start_time": null,
     "status": "pending"
    },
    "tags": []
   },
   "source": [
    "## skipGAN Model Analysis (TabNet Generator) "
   ]
  },
  {
   "cell_type": "markdown",
   "id": "5cf20659",
   "metadata": {
    "id": "5744a8bf",
    "papermill": {
     "duration": null,
     "end_time": null,
     "exception": null,
     "start_time": null,
     "status": "pending"
    },
    "tags": []
   },
   "source": [
    "### Weight Analysis \n",
    "\n",
    "Study the weights of the skip connection layer\n",
    "\n",
    "Equation of the skip connection is \n",
    "\n",
    "$output = y_{gan} * w + y_{abc} * (1-w)$"
   ]
  },
  {
   "cell_type": "code",
   "execution_count": null,
   "id": "04367d46",
   "metadata": {
    "id": "52c31dea",
    "papermill": {
     "duration": null,
     "end_time": null,
     "exception": null,
     "start_time": null,
     "status": "pending"
    },
    "tags": []
   },
   "outputs": [],
   "source": [
    "# print(\"Weight of the node at skip connection\")\n",
    "# for name,param in gen4.named_parameters():\n",
    "#     if(name == \"skipNode.weight\"):\n",
    "#         print(param)\n",
    "#         sb.glue(\"Skip Connection Weight\",param.item())"
   ]
  }
 ],
 "metadata": {
  "colab": {
   "collapsed_sections": [],
   "name": "ABC_GAN_Model-Catboost_Pre-gen.ipynb",
   "provenance": []
  },
  "interpreter": {
   "hash": "31f2aee4e71d21fbe5cf8b01ff0e069b9275f58929596ceb00d14d90e3e16cd6"
  },
  "kernelspec": {
   "display_name": "Python 3 (ipykernel)",
   "language": "python",
   "name": "python3"
  },
  "language_info": {
   "codemirror_mode": {
    "name": "ipython",
    "version": 3
   },
   "file_extension": ".py",
   "mimetype": "text/x-python",
   "name": "python",
   "nbconvert_exporter": "python",
   "pygments_lexer": "ipython3",
   "version": "3.8.13"
  },
  "papermill": {
   "default_parameters": {},
   "duration": 652.813954,
   "end_time": "2022-07-22T18:53:15.904873",
   "environment_variables": {},
   "exception": true,
   "input_path": "ABC_GAN-Catboost.ipynb",
   "output_path": "./ABC_GAN_Catboost/ABC-GAN_output_1_5.ipynb",
   "parameters": {
    "bias": 0.1,
    "variance": 0.01
   },
   "start_time": "2022-07-22T18:42:23.090919",
   "version": "2.3.3"
  }
 },
 "nbformat": 4,
 "nbformat_minor": 5
}