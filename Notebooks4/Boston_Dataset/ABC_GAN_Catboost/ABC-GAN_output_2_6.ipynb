{
 "cells": [
  {
   "cell_type": "markdown",
   "id": "c292b92d",
   "metadata": {
    "tags": [
     "papermill-error-cell-tag"
    ]
   },
   "source": [
    "<span style=\"color:red; font-family:Helvetica Neue, Helvetica, Arial, sans-serif; font-size:2em;\">An Exception was encountered at '<a href=\"#papermill-error-cell\">In [20]</a>'.</span>"
   ]
  },
  {
   "cell_type": "markdown",
   "id": "622780e6",
   "metadata": {
    "id": "622780e6",
    "papermill": {
     "duration": 0.009653,
     "end_time": "2022-07-22T21:05:15.164298",
     "exception": false,
     "start_time": "2022-07-22T21:05:15.154645",
     "status": "completed"
    },
    "tags": []
   },
   "source": [
    "## Import Libraries "
   ]
  },
  {
   "cell_type": "code",
   "execution_count": 1,
   "id": "a62397e3",
   "metadata": {
    "execution": {
     "iopub.execute_input": "2022-07-22T21:05:15.218415Z",
     "iopub.status.busy": "2022-07-22T21:05:15.213396Z",
     "iopub.status.idle": "2022-07-22T21:05:15.242382Z",
     "shell.execute_reply": "2022-07-22T21:05:15.241338Z"
    },
    "id": "a62397e3",
    "papermill": {
     "duration": 0.072841,
     "end_time": "2022-07-22T21:05:15.245491",
     "exception": false,
     "start_time": "2022-07-22T21:05:15.172650",
     "status": "completed"
    },
    "tags": []
   },
   "outputs": [],
   "source": [
    "import warnings\n",
    "import sys\n",
    "sys.path.insert(0, '../../src')\n",
    "warnings.filterwarnings('ignore')"
   ]
  },
  {
   "cell_type": "code",
   "execution_count": 2,
   "id": "d6a4e155",
   "metadata": {
    "execution": {
     "iopub.execute_input": "2022-07-22T21:05:15.266388Z",
     "iopub.status.busy": "2022-07-22T21:05:15.265607Z",
     "iopub.status.idle": "2022-07-22T21:05:21.720464Z",
     "shell.execute_reply": "2022-07-22T21:05:21.717526Z"
    },
    "id": "d6a4e155",
    "papermill": {
     "duration": 6.474647,
     "end_time": "2022-07-22T21:05:21.728011",
     "exception": false,
     "start_time": "2022-07-22T21:05:15.253364",
     "status": "completed"
    },
    "tags": []
   },
   "outputs": [],
   "source": [
    "import ABC_train_test2\n",
    "import bostonDataset\n",
    "import network\n",
    "import dataset\n",
    "import sanityChecks\n",
    "import torch \n",
    "import scrapbook as sb\n",
    "from statistics import mean \n",
    "import catboost as ctb \n",
    "from sklearn.model_selection import train_test_split\n",
    "from sklearn.metrics import mean_squared_error,mean_absolute_error\n",
    "import numpy as np"
   ]
  },
  {
   "cell_type": "markdown",
   "id": "2fa5b0f7",
   "metadata": {
    "id": "2fa5b0f7",
    "papermill": {
     "duration": 0.034551,
     "end_time": "2022-07-22T21:05:21.772137",
     "exception": false,
     "start_time": "2022-07-22T21:05:21.737586",
     "status": "completed"
    },
    "tags": []
   },
   "source": [
    "## Parameters "
   ]
  },
  {
   "cell_type": "code",
   "execution_count": 3,
   "id": "783186fb",
   "metadata": {
    "execution": {
     "iopub.execute_input": "2022-07-22T21:05:21.793982Z",
     "iopub.status.busy": "2022-07-22T21:05:21.793470Z",
     "iopub.status.idle": "2022-07-22T21:05:21.803304Z",
     "shell.execute_reply": "2022-07-22T21:05:21.799355Z"
    },
    "id": "783186fb",
    "papermill": {
     "duration": 0.030599,
     "end_time": "2022-07-22T21:05:21.813086",
     "exception": false,
     "start_time": "2022-07-22T21:05:21.782487",
     "status": "completed"
    },
    "tags": [
     "parameters"
    ]
   },
   "outputs": [],
   "source": [
    "variance = 1\n",
    "bias = 1 "
   ]
  },
  {
   "cell_type": "code",
   "execution_count": 4,
   "id": "430b9356",
   "metadata": {
    "execution": {
     "iopub.execute_input": "2022-07-22T21:05:21.842993Z",
     "iopub.status.busy": "2022-07-22T21:05:21.842136Z",
     "iopub.status.idle": "2022-07-22T21:05:21.847050Z",
     "shell.execute_reply": "2022-07-22T21:05:21.845500Z"
    },
    "papermill": {
     "duration": 0.037852,
     "end_time": "2022-07-22T21:05:21.860329",
     "exception": false,
     "start_time": "2022-07-22T21:05:21.822477",
     "status": "completed"
    },
    "tags": [
     "injected-parameters"
    ]
   },
   "outputs": [],
   "source": [
    "# Parameters\n",
    "variance = 1\n",
    "bias = 0.01\n"
   ]
  },
  {
   "cell_type": "markdown",
   "id": "391cdbfd",
   "metadata": {
    "id": "391cdbfd",
    "papermill": {
     "duration": 0.028411,
     "end_time": "2022-07-22T21:05:21.899993",
     "exception": false,
     "start_time": "2022-07-22T21:05:21.871582",
     "status": "completed"
    },
    "tags": []
   },
   "source": [
    "## Dataset \n"
   ]
  },
  {
   "cell_type": "code",
   "execution_count": 5,
   "id": "5b51f161",
   "metadata": {
    "execution": {
     "iopub.execute_input": "2022-07-22T21:05:21.937367Z",
     "iopub.status.busy": "2022-07-22T21:05:21.936720Z",
     "iopub.status.idle": "2022-07-22T21:05:21.941252Z",
     "shell.execute_reply": "2022-07-22T21:05:21.940270Z"
    },
    "id": "5b51f161",
    "papermill": {
     "duration": 0.032296,
     "end_time": "2022-07-22T21:05:21.946023",
     "exception": false,
     "start_time": "2022-07-22T21:05:21.913727",
     "status": "completed"
    },
    "tags": []
   },
   "outputs": [],
   "source": [
    "#Parameters \n",
    "n_features = 13\n",
    "n_samples= 506\n",
    "n_target = 1 "
   ]
  },
  {
   "cell_type": "code",
   "execution_count": 6,
   "id": "5d6eced4",
   "metadata": {
    "execution": {
     "iopub.execute_input": "2022-07-22T21:05:21.983104Z",
     "iopub.status.busy": "2022-07-22T21:05:21.982155Z",
     "iopub.status.idle": "2022-07-22T21:05:22.027550Z",
     "shell.execute_reply": "2022-07-22T21:05:22.021749Z"
    },
    "id": "5d6eced4",
    "papermill": {
     "duration": 0.074651,
     "end_time": "2022-07-22T21:05:22.036551",
     "exception": false,
     "start_time": "2022-07-22T21:05:21.961900",
     "status": "completed"
    },
    "tags": []
   },
   "outputs": [
    {
     "name": "stdout",
     "output_type": "stream",
     "text": [
      "         X1        X2        X3        X4        X5        X6        X7  \\\n",
      "0 -0.419782  0.284830 -1.287909 -0.272599 -0.144217  0.413672 -0.120013   \n",
      "1 -0.417339 -0.487722 -0.593381 -0.272599 -0.740262  0.194274  0.367166   \n",
      "2 -0.417342 -0.487722 -0.593381 -0.272599 -0.740262  1.282714 -0.265812   \n",
      "3 -0.416750 -0.487722 -1.306878 -0.272599 -0.835284  1.016303 -0.809889   \n",
      "4 -0.412482 -0.487722 -1.306878 -0.272599 -0.835284  1.228577 -0.511180   \n",
      "\n",
      "         X8        X9       X10       X11       X12       X13         Y  \n",
      "0  0.140214 -0.982843 -0.666608 -1.459000  0.441052 -1.075562  0.159686  \n",
      "1  0.557160 -0.867883 -0.987329 -0.303094  0.441052 -0.492439 -0.101524  \n",
      "2  0.557160 -0.867883 -0.987329 -0.303094  0.396427 -1.208727  1.324247  \n",
      "3  1.077737 -0.752922 -1.106115  0.113032  0.416163 -1.361517  1.182758  \n",
      "4  1.077737 -0.752922 -1.106115  0.113032  0.441052 -1.026501  1.487503  \n"
     ]
    }
   ],
   "source": [
    "X,Y = bostonDataset.boston_data()"
   ]
  },
  {
   "cell_type": "code",
   "execution_count": 7,
   "id": "fe007438",
   "metadata": {
    "execution": {
     "iopub.execute_input": "2022-07-22T21:05:22.065686Z",
     "iopub.status.busy": "2022-07-22T21:05:22.061972Z",
     "iopub.status.idle": "2022-07-22T21:05:22.097323Z",
     "shell.execute_reply": "2022-07-22T21:05:22.083783Z"
    },
    "id": "fe007438",
    "papermill": {
     "duration": 0.058525,
     "end_time": "2022-07-22T21:05:22.105115",
     "exception": false,
     "start_time": "2022-07-22T21:05:22.046590",
     "status": "completed"
    },
    "tags": []
   },
   "outputs": [],
   "source": [
    "#Train test split for dataset \n",
    "X_train,X_test,Y_train,Y_test = train_test_split(X,Y,test_size = 0.2)\n",
    "train_data = dataset.CustomDataset(X_train,Y_train)\n",
    "test_data = dataset.CustomDataset(X_test,Y_test)\n"
   ]
  },
  {
   "cell_type": "markdown",
   "id": "a9a1af34",
   "metadata": {
    "id": "a9a1af34",
    "papermill": {
     "duration": 0.01297,
     "end_time": "2022-07-22T21:05:22.132559",
     "exception": false,
     "start_time": "2022-07-22T21:05:22.119589",
     "status": "completed"
    },
    "tags": []
   },
   "source": [
    "## Training Parameters "
   ]
  },
  {
   "cell_type": "code",
   "execution_count": 8,
   "id": "952b7fc8",
   "metadata": {
    "execution": {
     "iopub.execute_input": "2022-07-22T21:05:22.155547Z",
     "iopub.status.busy": "2022-07-22T21:05:22.155177Z",
     "iopub.status.idle": "2022-07-22T21:05:22.162916Z",
     "shell.execute_reply": "2022-07-22T21:05:22.160756Z"
    },
    "id": "952b7fc8",
    "papermill": {
     "duration": 0.042014,
     "end_time": "2022-07-22T21:05:22.183219",
     "exception": false,
     "start_time": "2022-07-22T21:05:22.141205",
     "status": "completed"
    },
    "tags": []
   },
   "outputs": [],
   "source": [
    "batch_size = 32\n",
    "n_epochs = 1000\n",
    "#Select the device \n",
    "device = torch.device('cuda' if torch.cuda.is_available() else 'cpu')"
   ]
  },
  {
   "cell_type": "markdown",
   "id": "a95e1600",
   "metadata": {
    "id": "a95e1600",
    "papermill": {
     "duration": 0.033449,
     "end_time": "2022-07-22T21:05:22.227141",
     "exception": false,
     "start_time": "2022-07-22T21:05:22.193692",
     "status": "completed"
    },
    "tags": []
   },
   "source": [
    "# ABC Pre-generator Model \n",
    "\n",
    "1. The catboost model is used as a pre-generator model for the ABC-GAN. \n",
    "2. The model is first trained on the entire dataset \n",
    "3. It generats X,Y pairs and we add some Gaussian noise with mean 0 and variance 1 to it which is then feed as input to the generator.\n"
   ]
  },
  {
   "cell_type": "code",
   "execution_count": 9,
   "id": "ff8ce7bd",
   "metadata": {
    "execution": {
     "iopub.execute_input": "2022-07-22T21:05:22.250189Z",
     "iopub.status.busy": "2022-07-22T21:05:22.249072Z",
     "iopub.status.idle": "2022-07-22T21:05:26.851756Z",
     "shell.execute_reply": "2022-07-22T21:05:26.850963Z"
    },
    "id": "ff8ce7bd",
    "papermill": {
     "duration": 4.615243,
     "end_time": "2022-07-22T21:05:26.854670",
     "exception": false,
     "start_time": "2022-07-22T21:05:22.239427",
     "status": "completed"
    },
    "tags": []
   },
   "outputs": [
    {
     "name": "stdout",
     "output_type": "stream",
     "text": [
      "Learning rate set to 0.03548\n",
      "0:\tlearn: 1.0094453\ttotal: 81ms\tremaining: 1m 20s\n",
      "1:\tlearn: 0.9876033\ttotal: 85.7ms\tremaining: 42.8s\n",
      "2:\tlearn: 0.9651702\ttotal: 90ms\tremaining: 29.9s\n",
      "3:\tlearn: 0.9483005\ttotal: 95ms\tremaining: 23.7s\n",
      "4:\tlearn: 0.9290311\ttotal: 98.6ms\tremaining: 19.6s\n",
      "5:\tlearn: 0.9110187\ttotal: 104ms\tremaining: 17.3s\n",
      "6:\tlearn: 0.8946502\ttotal: 109ms\tremaining: 15.5s\n",
      "7:\tlearn: 0.8769742\ttotal: 111ms\tremaining: 13.8s\n",
      "8:\tlearn: 0.8605664\ttotal: 116ms\tremaining: 12.7s\n",
      "9:\tlearn: 0.8429034\ttotal: 119ms\tremaining: 11.8s\n",
      "10:\tlearn: 0.8268597\ttotal: 123ms\tremaining: 11.1s\n",
      "11:\tlearn: 0.8104472\ttotal: 127ms\tremaining: 10.4s\n",
      "12:\tlearn: 0.7945441\ttotal: 134ms\tremaining: 10.2s\n",
      "13:\tlearn: 0.7786218\ttotal: 137ms\tremaining: 9.65s\n",
      "14:\tlearn: 0.7656599\ttotal: 141ms\tremaining: 9.23s\n",
      "15:\tlearn: 0.7519846\ttotal: 144ms\tremaining: 8.82s\n",
      "16:\tlearn: 0.7383767\ttotal: 146ms\tremaining: 8.44s\n",
      "17:\tlearn: 0.7254459\ttotal: 149ms\tremaining: 8.13s\n",
      "18:\tlearn: 0.7123297\ttotal: 152ms\tremaining: 7.86s\n",
      "19:\tlearn: 0.6994578\ttotal: 155ms\tremaining: 7.59s\n",
      "20:\tlearn: 0.6894500\ttotal: 158ms\tremaining: 7.36s\n",
      "21:\tlearn: 0.6782988\ttotal: 160ms\tremaining: 7.12s\n",
      "22:\tlearn: 0.6672974\ttotal: 163ms\tremaining: 6.91s\n",
      "23:\tlearn: 0.6555290\ttotal: 166ms\tremaining: 6.73s\n",
      "24:\tlearn: 0.6456068\ttotal: 168ms\tremaining: 6.55s\n",
      "25:\tlearn: 0.6353509\ttotal: 170ms\tremaining: 6.39s\n"
     ]
    },
    {
     "name": "stdout",
     "output_type": "stream",
     "text": [
      "26:\tlearn: 0.6263185\ttotal: 174ms\tremaining: 6.25s\n",
      "27:\tlearn: 0.6174424\ttotal: 176ms\tremaining: 6.12s\n",
      "28:\tlearn: 0.6080488\ttotal: 179ms\tremaining: 6.01s\n",
      "29:\tlearn: 0.5984462\ttotal: 182ms\tremaining: 5.89s\n",
      "30:\tlearn: 0.5877596\ttotal: 186ms\tremaining: 5.82s\n",
      "31:\tlearn: 0.5789198\ttotal: 189ms\tremaining: 5.72s\n",
      "32:\tlearn: 0.5716524\ttotal: 192ms\tremaining: 5.62s\n",
      "33:\tlearn: 0.5639325\ttotal: 196ms\tremaining: 5.56s\n",
      "34:\tlearn: 0.5563100\ttotal: 199ms\tremaining: 5.49s\n",
      "35:\tlearn: 0.5492708\ttotal: 201ms\tremaining: 5.39s\n",
      "36:\tlearn: 0.5435714\ttotal: 203ms\tremaining: 5.29s\n",
      "37:\tlearn: 0.5367755\ttotal: 205ms\tremaining: 5.19s\n",
      "38:\tlearn: 0.5293364\ttotal: 207ms\tremaining: 5.09s\n",
      "39:\tlearn: 0.5215144\ttotal: 209ms\tremaining: 5.02s\n",
      "40:\tlearn: 0.5152947\ttotal: 212ms\tremaining: 4.95s\n",
      "41:\tlearn: 0.5089015\ttotal: 214ms\tremaining: 4.88s\n",
      "42:\tlearn: 0.5028474\ttotal: 216ms\tremaining: 4.8s\n",
      "43:\tlearn: 0.4960373\ttotal: 218ms\tremaining: 4.75s\n",
      "44:\tlearn: 0.4906561\ttotal: 221ms\tremaining: 4.7s\n",
      "45:\tlearn: 0.4851784\ttotal: 226ms\tremaining: 4.68s\n",
      "46:\tlearn: 0.4781702\ttotal: 230ms\tremaining: 4.66s\n",
      "47:\tlearn: 0.4722913\ttotal: 233ms\tremaining: 4.63s\n",
      "48:\tlearn: 0.4681378\ttotal: 254ms\tremaining: 4.93s\n",
      "49:\tlearn: 0.4635251\ttotal: 265ms\tremaining: 5.03s\n",
      "50:\tlearn: 0.4570689\ttotal: 267ms\tremaining: 4.97s\n",
      "51:\tlearn: 0.4507845\ttotal: 275ms\tremaining: 5.02s\n",
      "52:\tlearn: 0.4455864\ttotal: 278ms\tremaining: 4.96s\n",
      "53:\tlearn: 0.4420924\ttotal: 280ms\tremaining: 4.91s\n",
      "54:\tlearn: 0.4377165\ttotal: 283ms\tremaining: 4.86s\n",
      "55:\tlearn: 0.4320525\ttotal: 286ms\tremaining: 4.81s\n",
      "56:\tlearn: 0.4272621\ttotal: 288ms\tremaining: 4.76s\n",
      "57:\tlearn: 0.4232220\ttotal: 291ms\tremaining: 4.72s\n",
      "58:\tlearn: 0.4195620\ttotal: 293ms\tremaining: 4.67s\n",
      "59:\tlearn: 0.4157382\ttotal: 296ms\tremaining: 4.64s\n",
      "60:\tlearn: 0.4119354\ttotal: 299ms\tremaining: 4.59s\n",
      "61:\tlearn: 0.4081545\ttotal: 301ms\tremaining: 4.55s\n",
      "62:\tlearn: 0.4053894\ttotal: 304ms\tremaining: 4.52s\n",
      "63:\tlearn: 0.4023970\ttotal: 306ms\tremaining: 4.48s\n",
      "64:\tlearn: 0.3988858\ttotal: 309ms\tremaining: 4.44s\n",
      "65:\tlearn: 0.3952353\ttotal: 312ms\tremaining: 4.41s\n",
      "66:\tlearn: 0.3913248\ttotal: 314ms\tremaining: 4.37s\n",
      "67:\tlearn: 0.3884714\ttotal: 318ms\tremaining: 4.36s\n",
      "68:\tlearn: 0.3853502\ttotal: 323ms\tremaining: 4.36s\n",
      "69:\tlearn: 0.3824667\ttotal: 337ms\tremaining: 4.47s\n"
     ]
    },
    {
     "name": "stdout",
     "output_type": "stream",
     "text": [
      "70:\tlearn: 0.3786197\ttotal: 340ms\tremaining: 4.45s\n",
      "71:\tlearn: 0.3764259\ttotal: 343ms\tremaining: 4.42s\n",
      "72:\tlearn: 0.3739528\ttotal: 345ms\tremaining: 4.38s\n",
      "73:\tlearn: 0.3706642\ttotal: 348ms\tremaining: 4.35s\n",
      "74:\tlearn: 0.3671406\ttotal: 351ms\tremaining: 4.33s\n",
      "75:\tlearn: 0.3649159\ttotal: 354ms\tremaining: 4.3s\n",
      "76:\tlearn: 0.3627204\ttotal: 356ms\tremaining: 4.27s\n",
      "77:\tlearn: 0.3596647\ttotal: 359ms\tremaining: 4.24s\n",
      "78:\tlearn: 0.3568251\ttotal: 361ms\tremaining: 4.21s\n",
      "79:\tlearn: 0.3548489\ttotal: 363ms\tremaining: 4.18s\n",
      "80:\tlearn: 0.3527058\ttotal: 366ms\tremaining: 4.15s\n",
      "81:\tlearn: 0.3505741\ttotal: 369ms\tremaining: 4.13s\n",
      "82:\tlearn: 0.3485174\ttotal: 372ms\tremaining: 4.11s\n",
      "83:\tlearn: 0.3465271\ttotal: 374ms\tremaining: 4.08s\n",
      "84:\tlearn: 0.3436010\ttotal: 377ms\tremaining: 4.06s\n",
      "85:\tlearn: 0.3414384\ttotal: 380ms\tremaining: 4.04s\n",
      "86:\tlearn: 0.3394233\ttotal: 387ms\tremaining: 4.06s\n",
      "87:\tlearn: 0.3367125\ttotal: 389ms\tremaining: 4.03s\n",
      "88:\tlearn: 0.3344060\ttotal: 403ms\tremaining: 4.12s\n",
      "89:\tlearn: 0.3324013\ttotal: 407ms\tremaining: 4.12s\n",
      "90:\tlearn: 0.3299522\ttotal: 419ms\tremaining: 4.19s\n",
      "91:\tlearn: 0.3281792\ttotal: 422ms\tremaining: 4.17s\n",
      "92:\tlearn: 0.3270546\ttotal: 425ms\tremaining: 4.14s\n",
      "93:\tlearn: 0.3246546\ttotal: 428ms\tremaining: 4.12s\n",
      "94:\tlearn: 0.3227633\ttotal: 430ms\tremaining: 4.1s\n",
      "95:\tlearn: 0.3216325\ttotal: 433ms\tremaining: 4.08s\n",
      "96:\tlearn: 0.3198666\ttotal: 436ms\tremaining: 4.06s\n",
      "97:\tlearn: 0.3178790\ttotal: 439ms\tremaining: 4.04s\n",
      "98:\tlearn: 0.3162419\ttotal: 442ms\tremaining: 4.02s\n",
      "99:\tlearn: 0.3150347\ttotal: 444ms\tremaining: 4s\n",
      "100:\tlearn: 0.3135890\ttotal: 447ms\tremaining: 3.98s\n",
      "101:\tlearn: 0.3121930\ttotal: 450ms\tremaining: 3.96s\n"
     ]
    },
    {
     "name": "stdout",
     "output_type": "stream",
     "text": [
      "102:\tlearn: 0.3106209\ttotal: 471ms\tremaining: 4.1s\n",
      "103:\tlearn: 0.3093692\ttotal: 475ms\tremaining: 4.09s\n",
      "104:\tlearn: 0.3071493\ttotal: 477ms\tremaining: 4.07s\n",
      "105:\tlearn: 0.3054043\ttotal: 480ms\tremaining: 4.04s\n",
      "106:\tlearn: 0.3037658\ttotal: 482ms\tremaining: 4.02s\n",
      "107:\tlearn: 0.3017209\ttotal: 486ms\tremaining: 4.01s\n",
      "108:\tlearn: 0.3001115\ttotal: 491ms\tremaining: 4.01s\n",
      "109:\tlearn: 0.2993107\ttotal: 494ms\tremaining: 4s\n",
      "110:\tlearn: 0.2977240\ttotal: 497ms\tremaining: 3.98s\n",
      "111:\tlearn: 0.2965495\ttotal: 500ms\tremaining: 3.96s\n",
      "112:\tlearn: 0.2949561\ttotal: 502ms\tremaining: 3.94s\n",
      "113:\tlearn: 0.2939863\ttotal: 505ms\tremaining: 3.92s\n",
      "114:\tlearn: 0.2924673\ttotal: 507ms\tremaining: 3.9s\n",
      "115:\tlearn: 0.2910286\ttotal: 510ms\tremaining: 3.89s\n",
      "116:\tlearn: 0.2900760\ttotal: 513ms\tremaining: 3.87s\n",
      "117:\tlearn: 0.2888944\ttotal: 515ms\tremaining: 3.85s\n",
      "118:\tlearn: 0.2876918\ttotal: 518ms\tremaining: 3.84s\n",
      "119:\tlearn: 0.2868788\ttotal: 521ms\tremaining: 3.82s\n",
      "120:\tlearn: 0.2852569\ttotal: 523ms\tremaining: 3.8s\n",
      "121:\tlearn: 0.2842254\ttotal: 525ms\tremaining: 3.78s\n",
      "122:\tlearn: 0.2831536\ttotal: 528ms\tremaining: 3.76s\n",
      "123:\tlearn: 0.2822531\ttotal: 530ms\tremaining: 3.75s\n",
      "124:\tlearn: 0.2813364\ttotal: 533ms\tremaining: 3.73s\n",
      "125:\tlearn: 0.2804674\ttotal: 536ms\tremaining: 3.72s\n",
      "126:\tlearn: 0.2790687\ttotal: 541ms\tremaining: 3.72s\n",
      "127:\tlearn: 0.2781195\ttotal: 545ms\tremaining: 3.71s\n",
      "128:\tlearn: 0.2772733\ttotal: 548ms\tremaining: 3.7s\n",
      "129:\tlearn: 0.2760559\ttotal: 551ms\tremaining: 3.68s\n",
      "130:\tlearn: 0.2750876\ttotal: 554ms\tremaining: 3.67s\n",
      "131:\tlearn: 0.2740545\ttotal: 557ms\tremaining: 3.66s\n",
      "132:\tlearn: 0.2729963\ttotal: 559ms\tremaining: 3.65s\n",
      "133:\tlearn: 0.2721265\ttotal: 562ms\tremaining: 3.63s\n",
      "134:\tlearn: 0.2711307\ttotal: 564ms\tremaining: 3.62s\n",
      "135:\tlearn: 0.2702349\ttotal: 567ms\tremaining: 3.6s\n",
      "136:\tlearn: 0.2694499\ttotal: 570ms\tremaining: 3.59s\n",
      "137:\tlearn: 0.2687047\ttotal: 572ms\tremaining: 3.58s\n",
      "138:\tlearn: 0.2676699\ttotal: 575ms\tremaining: 3.56s\n",
      "139:\tlearn: 0.2667284\ttotal: 578ms\tremaining: 3.55s\n",
      "140:\tlearn: 0.2659898\ttotal: 581ms\tremaining: 3.54s\n",
      "141:\tlearn: 0.2650350\ttotal: 584ms\tremaining: 3.53s\n",
      "142:\tlearn: 0.2636733\ttotal: 586ms\tremaining: 3.51s\n",
      "143:\tlearn: 0.2626998\ttotal: 590ms\tremaining: 3.51s\n",
      "144:\tlearn: 0.2615579\ttotal: 592ms\tremaining: 3.49s\n",
      "145:\tlearn: 0.2606226\ttotal: 595ms\tremaining: 3.48s\n",
      "146:\tlearn: 0.2597318\ttotal: 598ms\tremaining: 3.47s\n",
      "147:\tlearn: 0.2588075\ttotal: 602ms\tremaining: 3.47s\n",
      "148:\tlearn: 0.2580114\ttotal: 618ms\tremaining: 3.53s\n",
      "149:\tlearn: 0.2574518\ttotal: 620ms\tremaining: 3.52s\n",
      "150:\tlearn: 0.2563695\ttotal: 623ms\tremaining: 3.5s\n",
      "151:\tlearn: 0.2557514\ttotal: 626ms\tremaining: 3.49s\n",
      "152:\tlearn: 0.2542424\ttotal: 629ms\tremaining: 3.48s\n"
     ]
    },
    {
     "name": "stdout",
     "output_type": "stream",
     "text": [
      "153:\tlearn: 0.2533611\ttotal: 631ms\tremaining: 3.47s\n",
      "154:\tlearn: 0.2521582\ttotal: 636ms\tremaining: 3.47s\n",
      "155:\tlearn: 0.2514099\ttotal: 639ms\tremaining: 3.46s\n",
      "156:\tlearn: 0.2508286\ttotal: 642ms\tremaining: 3.45s\n",
      "157:\tlearn: 0.2502984\ttotal: 645ms\tremaining: 3.44s\n",
      "158:\tlearn: 0.2496637\ttotal: 648ms\tremaining: 3.42s\n",
      "159:\tlearn: 0.2487164\ttotal: 651ms\tremaining: 3.42s\n",
      "160:\tlearn: 0.2476800\ttotal: 654ms\tremaining: 3.41s\n",
      "161:\tlearn: 0.2468028\ttotal: 656ms\tremaining: 3.4s\n",
      "162:\tlearn: 0.2464274\ttotal: 660ms\tremaining: 3.39s\n",
      "163:\tlearn: 0.2457522\ttotal: 662ms\tremaining: 3.38s\n",
      "164:\tlearn: 0.2451044\ttotal: 665ms\tremaining: 3.37s\n",
      "165:\tlearn: 0.2443991\ttotal: 668ms\tremaining: 3.35s\n",
      "166:\tlearn: 0.2437273\ttotal: 670ms\tremaining: 3.34s\n",
      "167:\tlearn: 0.2429714\ttotal: 673ms\tremaining: 3.33s\n",
      "168:\tlearn: 0.2424158\ttotal: 675ms\tremaining: 3.32s\n",
      "169:\tlearn: 0.2417231\ttotal: 678ms\tremaining: 3.31s\n",
      "170:\tlearn: 0.2405714\ttotal: 681ms\tremaining: 3.3s\n",
      "171:\tlearn: 0.2400684\ttotal: 684ms\tremaining: 3.29s\n",
      "172:\tlearn: 0.2392886\ttotal: 686ms\tremaining: 3.28s\n",
      "173:\tlearn: 0.2385200\ttotal: 690ms\tremaining: 3.27s\n",
      "174:\tlearn: 0.2376754\ttotal: 693ms\tremaining: 3.27s\n",
      "175:\tlearn: 0.2369949\ttotal: 696ms\tremaining: 3.26s\n",
      "176:\tlearn: 0.2363950\ttotal: 698ms\tremaining: 3.25s\n",
      "177:\tlearn: 0.2355776\ttotal: 701ms\tremaining: 3.23s\n",
      "178:\tlearn: 0.2349431\ttotal: 703ms\tremaining: 3.23s\n",
      "179:\tlearn: 0.2341630\ttotal: 706ms\tremaining: 3.21s\n",
      "180:\tlearn: 0.2333970\ttotal: 708ms\tremaining: 3.2s\n",
      "181:\tlearn: 0.2325456\ttotal: 711ms\tremaining: 3.19s\n",
      "182:\tlearn: 0.2319933\ttotal: 713ms\tremaining: 3.18s\n",
      "183:\tlearn: 0.2310754\ttotal: 716ms\tremaining: 3.17s\n",
      "184:\tlearn: 0.2303493\ttotal: 718ms\tremaining: 3.16s\n",
      "185:\tlearn: 0.2297053\ttotal: 722ms\tremaining: 3.16s\n",
      "186:\tlearn: 0.2291554\ttotal: 725ms\tremaining: 3.15s\n",
      "187:\tlearn: 0.2284640\ttotal: 727ms\tremaining: 3.14s\n",
      "188:\tlearn: 0.2275931\ttotal: 730ms\tremaining: 3.13s\n",
      "189:\tlearn: 0.2271143\ttotal: 732ms\tremaining: 3.12s\n",
      "190:\tlearn: 0.2264517\ttotal: 735ms\tremaining: 3.11s\n",
      "191:\tlearn: 0.2258154\ttotal: 739ms\tremaining: 3.11s\n",
      "192:\tlearn: 0.2251116\ttotal: 741ms\tremaining: 3.1s\n",
      "193:\tlearn: 0.2244399\ttotal: 744ms\tremaining: 3.09s\n",
      "194:\tlearn: 0.2239289\ttotal: 747ms\tremaining: 3.08s\n",
      "195:\tlearn: 0.2232708\ttotal: 750ms\tremaining: 3.08s\n",
      "196:\tlearn: 0.2227706\ttotal: 752ms\tremaining: 3.06s\n",
      "197:\tlearn: 0.2220142\ttotal: 755ms\tremaining: 3.06s\n",
      "198:\tlearn: 0.2213451\ttotal: 758ms\tremaining: 3.05s\n",
      "199:\tlearn: 0.2205198\ttotal: 760ms\tremaining: 3.04s\n",
      "200:\tlearn: 0.2199064\ttotal: 763ms\tremaining: 3.03s\n",
      "201:\tlearn: 0.2195322\ttotal: 766ms\tremaining: 3.03s\n",
      "202:\tlearn: 0.2186832\ttotal: 773ms\tremaining: 3.04s\n",
      "203:\tlearn: 0.2179477\ttotal: 779ms\tremaining: 3.04s\n",
      "204:\tlearn: 0.2171768\ttotal: 782ms\tremaining: 3.03s\n",
      "205:\tlearn: 0.2166171\ttotal: 785ms\tremaining: 3.02s\n",
      "206:\tlearn: 0.2158603\ttotal: 788ms\tremaining: 3.02s\n",
      "207:\tlearn: 0.2155162\ttotal: 790ms\tremaining: 3.01s\n"
     ]
    },
    {
     "name": "stdout",
     "output_type": "stream",
     "text": [
      "208:\tlearn: 0.2148738\ttotal: 793ms\tremaining: 3s\n",
      "209:\tlearn: 0.2142707\ttotal: 796ms\tremaining: 3s\n",
      "210:\tlearn: 0.2135297\ttotal: 800ms\tremaining: 2.99s\n",
      "211:\tlearn: 0.2128217\ttotal: 821ms\tremaining: 3.05s\n",
      "212:\tlearn: 0.2124163\ttotal: 823ms\tremaining: 3.04s\n",
      "213:\tlearn: 0.2120102\ttotal: 826ms\tremaining: 3.03s\n",
      "214:\tlearn: 0.2114819\ttotal: 829ms\tremaining: 3.02s\n",
      "215:\tlearn: 0.2108277\ttotal: 832ms\tremaining: 3.02s\n",
      "216:\tlearn: 0.2102963\ttotal: 834ms\tremaining: 3.01s\n",
      "217:\tlearn: 0.2097130\ttotal: 837ms\tremaining: 3s\n",
      "218:\tlearn: 0.2090061\ttotal: 838ms\tremaining: 2.99s\n",
      "219:\tlearn: 0.2084943\ttotal: 844ms\tremaining: 2.99s\n",
      "220:\tlearn: 0.2077176\ttotal: 847ms\tremaining: 2.98s\n",
      "221:\tlearn: 0.2069228\ttotal: 850ms\tremaining: 2.98s\n",
      "222:\tlearn: 0.2063339\ttotal: 852ms\tremaining: 2.97s\n",
      "223:\tlearn: 0.2058502\ttotal: 856ms\tremaining: 2.96s\n",
      "224:\tlearn: 0.2054731\ttotal: 859ms\tremaining: 2.96s\n",
      "225:\tlearn: 0.2049186\ttotal: 861ms\tremaining: 2.95s\n",
      "226:\tlearn: 0.2042788\ttotal: 864ms\tremaining: 2.94s\n",
      "227:\tlearn: 0.2036872\ttotal: 868ms\tremaining: 2.94s\n",
      "228:\tlearn: 0.2034135\ttotal: 871ms\tremaining: 2.93s\n",
      "229:\tlearn: 0.2030146\ttotal: 878ms\tremaining: 2.94s\n",
      "230:\tlearn: 0.2025148\ttotal: 888ms\tremaining: 2.95s\n",
      "231:\tlearn: 0.2019012\ttotal: 890ms\tremaining: 2.95s\n",
      "232:\tlearn: 0.2015346\ttotal: 893ms\tremaining: 2.94s\n",
      "233:\tlearn: 0.2010275\ttotal: 896ms\tremaining: 2.93s\n",
      "234:\tlearn: 0.2004743\ttotal: 898ms\tremaining: 2.92s\n",
      "235:\tlearn: 0.2000943\ttotal: 901ms\tremaining: 2.92s\n",
      "236:\tlearn: 0.1995132\ttotal: 904ms\tremaining: 2.91s\n",
      "237:\tlearn: 0.1985751\ttotal: 906ms\tremaining: 2.9s\n",
      "238:\tlearn: 0.1983494\ttotal: 920ms\tremaining: 2.93s\n",
      "239:\tlearn: 0.1978125\ttotal: 924ms\tremaining: 2.93s\n",
      "240:\tlearn: 0.1973982\ttotal: 927ms\tremaining: 2.92s\n",
      "241:\tlearn: 0.1968786\ttotal: 931ms\tremaining: 2.91s\n",
      "242:\tlearn: 0.1962820\ttotal: 933ms\tremaining: 2.91s\n",
      "243:\tlearn: 0.1958377\ttotal: 936ms\tremaining: 2.9s\n",
      "244:\tlearn: 0.1953885\ttotal: 939ms\tremaining: 2.89s\n",
      "245:\tlearn: 0.1948638\ttotal: 942ms\tremaining: 2.89s\n",
      "246:\tlearn: 0.1942542\ttotal: 944ms\tremaining: 2.88s\n",
      "247:\tlearn: 0.1935477\ttotal: 947ms\tremaining: 2.87s\n"
     ]
    },
    {
     "name": "stdout",
     "output_type": "stream",
     "text": [
      "248:\tlearn: 0.1930574\ttotal: 955ms\tremaining: 2.88s\n",
      "249:\tlearn: 0.1927789\ttotal: 958ms\tremaining: 2.88s\n",
      "250:\tlearn: 0.1922881\ttotal: 961ms\tremaining: 2.87s\n",
      "251:\tlearn: 0.1917697\ttotal: 964ms\tremaining: 2.86s\n",
      "252:\tlearn: 0.1914003\ttotal: 967ms\tremaining: 2.85s\n",
      "253:\tlearn: 0.1908885\ttotal: 970ms\tremaining: 2.85s\n",
      "254:\tlearn: 0.1904275\ttotal: 973ms\tremaining: 2.84s\n",
      "255:\tlearn: 0.1900035\ttotal: 975ms\tremaining: 2.83s\n",
      "256:\tlearn: 0.1896620\ttotal: 978ms\tremaining: 2.83s\n",
      "257:\tlearn: 0.1893447\ttotal: 981ms\tremaining: 2.82s\n",
      "258:\tlearn: 0.1888710\ttotal: 983ms\tremaining: 2.81s\n",
      "259:\tlearn: 0.1882190\ttotal: 986ms\tremaining: 2.81s\n",
      "260:\tlearn: 0.1876523\ttotal: 989ms\tremaining: 2.8s\n",
      "261:\tlearn: 0.1873647\ttotal: 992ms\tremaining: 2.79s\n",
      "262:\tlearn: 0.1869436\ttotal: 995ms\tremaining: 2.79s\n",
      "263:\tlearn: 0.1865310\ttotal: 998ms\tremaining: 2.78s\n",
      "264:\tlearn: 0.1862536\ttotal: 1s\tremaining: 2.78s\n",
      "265:\tlearn: 0.1856210\ttotal: 1s\tremaining: 2.77s\n",
      "266:\tlearn: 0.1853441\ttotal: 1.01s\tremaining: 2.77s\n",
      "267:\tlearn: 0.1848025\ttotal: 1.01s\tremaining: 2.76s\n",
      "268:\tlearn: 0.1843432\ttotal: 1.01s\tremaining: 2.76s\n",
      "269:\tlearn: 0.1837601\ttotal: 1.02s\tremaining: 2.75s\n",
      "270:\tlearn: 0.1835304\ttotal: 1.02s\tremaining: 2.74s\n",
      "271:\tlearn: 0.1833119\ttotal: 1.02s\tremaining: 2.73s\n",
      "272:\tlearn: 0.1828360\ttotal: 1.02s\tremaining: 2.73s\n",
      "273:\tlearn: 0.1824988\ttotal: 1.03s\tremaining: 2.72s\n",
      "274:\tlearn: 0.1822730\ttotal: 1.03s\tremaining: 2.72s\n",
      "275:\tlearn: 0.1818256\ttotal: 1.03s\tremaining: 2.71s\n",
      "276:\tlearn: 0.1814952\ttotal: 1.03s\tremaining: 2.7s\n",
      "277:\tlearn: 0.1810877\ttotal: 1.04s\tremaining: 2.7s\n",
      "278:\tlearn: 0.1805655\ttotal: 1.04s\tremaining: 2.69s\n",
      "279:\tlearn: 0.1799186\ttotal: 1.04s\tremaining: 2.69s\n",
      "280:\tlearn: 0.1794286\ttotal: 1.05s\tremaining: 2.68s\n",
      "281:\tlearn: 0.1790029\ttotal: 1.07s\tremaining: 2.73s\n",
      "282:\tlearn: 0.1787908\ttotal: 1.07s\tremaining: 2.72s\n",
      "283:\tlearn: 0.1784631\ttotal: 1.07s\tremaining: 2.71s\n",
      "284:\tlearn: 0.1780019\ttotal: 1.08s\tremaining: 2.71s\n",
      "285:\tlearn: 0.1778591\ttotal: 1.08s\tremaining: 2.7s\n",
      "286:\tlearn: 0.1774446\ttotal: 1.08s\tremaining: 2.69s\n",
      "287:\tlearn: 0.1770214\ttotal: 1.08s\tremaining: 2.68s\n",
      "288:\tlearn: 0.1765764\ttotal: 1.09s\tremaining: 2.68s\n",
      "289:\tlearn: 0.1760478\ttotal: 1.09s\tremaining: 2.67s\n",
      "290:\tlearn: 0.1755448\ttotal: 1.09s\tremaining: 2.67s\n",
      "291:\tlearn: 0.1751824\ttotal: 1.09s\tremaining: 2.66s\n",
      "292:\tlearn: 0.1746835\ttotal: 1.1s\tremaining: 2.65s\n",
      "293:\tlearn: 0.1742606\ttotal: 1.1s\tremaining: 2.64s\n",
      "294:\tlearn: 0.1739080\ttotal: 1.1s\tremaining: 2.64s\n",
      "295:\tlearn: 0.1735010\ttotal: 1.1s\tremaining: 2.63s\n",
      "296:\tlearn: 0.1732134\ttotal: 1.11s\tremaining: 2.62s\n",
      "297:\tlearn: 0.1730129\ttotal: 1.11s\tremaining: 2.61s\n",
      "298:\tlearn: 0.1726359\ttotal: 1.11s\tremaining: 2.61s\n",
      "299:\tlearn: 0.1722662\ttotal: 1.11s\tremaining: 2.6s\n",
      "300:\tlearn: 0.1717834\ttotal: 1.12s\tremaining: 2.6s\n"
     ]
    },
    {
     "name": "stdout",
     "output_type": "stream",
     "text": [
      "301:\tlearn: 0.1715609\ttotal: 1.12s\tremaining: 2.59s\n",
      "302:\tlearn: 0.1712677\ttotal: 1.13s\tremaining: 2.6s\n",
      "303:\tlearn: 0.1710157\ttotal: 1.15s\tremaining: 2.63s\n",
      "304:\tlearn: 0.1706090\ttotal: 1.15s\tremaining: 2.63s\n",
      "305:\tlearn: 0.1704122\ttotal: 1.16s\tremaining: 2.62s\n",
      "306:\tlearn: 0.1699906\ttotal: 1.16s\tremaining: 2.61s\n",
      "307:\tlearn: 0.1696753\ttotal: 1.16s\tremaining: 2.61s\n",
      "308:\tlearn: 0.1694597\ttotal: 1.16s\tremaining: 2.6s\n",
      "309:\tlearn: 0.1692625\ttotal: 1.27s\tremaining: 2.82s\n",
      "310:\tlearn: 0.1690775\ttotal: 1.27s\tremaining: 2.81s\n",
      "311:\tlearn: 0.1688646\ttotal: 1.27s\tremaining: 2.81s\n",
      "312:\tlearn: 0.1684485\ttotal: 1.28s\tremaining: 2.8s\n",
      "313:\tlearn: 0.1680121\ttotal: 1.28s\tremaining: 2.79s\n",
      "314:\tlearn: 0.1678302\ttotal: 1.28s\tremaining: 2.79s\n",
      "315:\tlearn: 0.1674099\ttotal: 1.28s\tremaining: 2.78s\n",
      "316:\tlearn: 0.1669349\ttotal: 1.29s\tremaining: 2.77s\n",
      "317:\tlearn: 0.1665042\ttotal: 1.29s\tremaining: 2.76s\n",
      "318:\tlearn: 0.1660724\ttotal: 1.29s\tremaining: 2.76s\n",
      "319:\tlearn: 0.1655759\ttotal: 1.29s\tremaining: 2.75s\n",
      "320:\tlearn: 0.1652124\ttotal: 1.3s\tremaining: 2.74s\n",
      "321:\tlearn: 0.1648453\ttotal: 1.3s\tremaining: 2.73s\n",
      "322:\tlearn: 0.1643908\ttotal: 1.3s\tremaining: 2.73s\n"
     ]
    },
    {
     "name": "stdout",
     "output_type": "stream",
     "text": [
      "323:\tlearn: 0.1639432\ttotal: 1.3s\tremaining: 2.72s\n",
      "324:\tlearn: 0.1633680\ttotal: 1.31s\tremaining: 2.72s\n",
      "325:\tlearn: 0.1629208\ttotal: 1.31s\tremaining: 2.71s\n",
      "326:\tlearn: 0.1626164\ttotal: 1.31s\tremaining: 2.71s\n",
      "327:\tlearn: 0.1623420\ttotal: 1.32s\tremaining: 2.7s\n",
      "328:\tlearn: 0.1619090\ttotal: 1.32s\tremaining: 2.69s\n",
      "329:\tlearn: 0.1615099\ttotal: 1.32s\tremaining: 2.69s\n",
      "330:\tlearn: 0.1613235\ttotal: 1.32s\tremaining: 2.68s\n",
      "331:\tlearn: 0.1611329\ttotal: 1.33s\tremaining: 2.67s\n",
      "332:\tlearn: 0.1606926\ttotal: 1.33s\tremaining: 2.67s\n",
      "333:\tlearn: 0.1603331\ttotal: 1.33s\tremaining: 2.66s\n",
      "334:\tlearn: 0.1598146\ttotal: 1.33s\tremaining: 2.65s\n",
      "335:\tlearn: 0.1594562\ttotal: 1.34s\tremaining: 2.64s\n",
      "336:\tlearn: 0.1590373\ttotal: 1.34s\tremaining: 2.64s\n",
      "337:\tlearn: 0.1588762\ttotal: 1.34s\tremaining: 2.63s\n",
      "338:\tlearn: 0.1584829\ttotal: 1.35s\tremaining: 2.63s\n",
      "339:\tlearn: 0.1583236\ttotal: 1.35s\tremaining: 2.63s\n",
      "340:\tlearn: 0.1579128\ttotal: 1.36s\tremaining: 2.62s\n",
      "341:\tlearn: 0.1577567\ttotal: 1.36s\tremaining: 2.61s\n",
      "342:\tlearn: 0.1576215\ttotal: 1.36s\tremaining: 2.61s\n",
      "343:\tlearn: 0.1571122\ttotal: 1.36s\tremaining: 2.6s\n",
      "344:\tlearn: 0.1567204\ttotal: 1.37s\tremaining: 2.6s\n",
      "345:\tlearn: 0.1565771\ttotal: 1.37s\tremaining: 2.59s\n",
      "346:\tlearn: 0.1561835\ttotal: 1.37s\tremaining: 2.58s\n",
      "347:\tlearn: 0.1559942\ttotal: 1.37s\tremaining: 2.58s\n",
      "348:\tlearn: 0.1558056\ttotal: 1.38s\tremaining: 2.57s\n",
      "349:\tlearn: 0.1554908\ttotal: 1.38s\tremaining: 2.56s\n",
      "350:\tlearn: 0.1551738\ttotal: 1.38s\tremaining: 2.56s\n",
      "351:\tlearn: 0.1547936\ttotal: 1.39s\tremaining: 2.55s\n",
      "352:\tlearn: 0.1543775\ttotal: 1.39s\tremaining: 2.54s\n",
      "353:\tlearn: 0.1539613\ttotal: 1.39s\tremaining: 2.54s\n",
      "354:\tlearn: 0.1538034\ttotal: 1.4s\tremaining: 2.54s\n",
      "355:\tlearn: 0.1534746\ttotal: 1.4s\tremaining: 2.53s\n",
      "356:\tlearn: 0.1533576\ttotal: 1.4s\tremaining: 2.52s\n",
      "357:\tlearn: 0.1529808\ttotal: 1.4s\tremaining: 2.52s\n",
      "358:\tlearn: 0.1525919\ttotal: 1.41s\tremaining: 2.51s\n",
      "359:\tlearn: 0.1522986\ttotal: 1.41s\tremaining: 2.5s\n",
      "360:\tlearn: 0.1521256\ttotal: 1.41s\tremaining: 2.5s\n",
      "361:\tlearn: 0.1516357\ttotal: 1.41s\tremaining: 2.49s\n",
      "362:\tlearn: 0.1514585\ttotal: 1.42s\tremaining: 2.48s\n",
      "363:\tlearn: 0.1512379\ttotal: 1.42s\tremaining: 2.48s\n",
      "364:\tlearn: 0.1508143\ttotal: 1.45s\tremaining: 2.51s\n",
      "365:\tlearn: 0.1504285\ttotal: 1.45s\tremaining: 2.51s\n",
      "366:\tlearn: 0.1501407\ttotal: 1.45s\tremaining: 2.5s\n",
      "367:\tlearn: 0.1498536\ttotal: 1.45s\tremaining: 2.5s\n",
      "368:\tlearn: 0.1496820\ttotal: 1.46s\tremaining: 2.49s\n",
      "369:\tlearn: 0.1495895\ttotal: 1.46s\tremaining: 2.48s\n",
      "370:\tlearn: 0.1494177\ttotal: 1.46s\tremaining: 2.48s\n",
      "371:\tlearn: 0.1490101\ttotal: 1.47s\tremaining: 2.47s\n",
      "372:\tlearn: 0.1486030\ttotal: 1.47s\tremaining: 2.47s\n",
      "373:\tlearn: 0.1482858\ttotal: 1.47s\tremaining: 2.46s\n",
      "374:\tlearn: 0.1480793\ttotal: 1.47s\tremaining: 2.45s\n"
     ]
    },
    {
     "name": "stdout",
     "output_type": "stream",
     "text": [
      "375:\tlearn: 0.1479286\ttotal: 1.48s\tremaining: 2.45s\n",
      "376:\tlearn: 0.1475744\ttotal: 1.48s\tremaining: 2.44s\n",
      "377:\tlearn: 0.1473174\ttotal: 1.48s\tremaining: 2.44s\n",
      "378:\tlearn: 0.1469758\ttotal: 1.49s\tremaining: 2.43s\n",
      "379:\tlearn: 0.1466023\ttotal: 1.49s\tremaining: 2.43s\n",
      "380:\tlearn: 0.1464618\ttotal: 1.49s\tremaining: 2.42s\n",
      "381:\tlearn: 0.1461503\ttotal: 1.49s\tremaining: 2.41s\n",
      "382:\tlearn: 0.1457889\ttotal: 1.5s\tremaining: 2.41s\n",
      "383:\tlearn: 0.1454178\ttotal: 1.5s\tremaining: 2.4s\n",
      "384:\tlearn: 0.1452960\ttotal: 1.5s\tremaining: 2.4s\n",
      "385:\tlearn: 0.1450842\ttotal: 1.5s\tremaining: 2.39s\n",
      "386:\tlearn: 0.1448132\ttotal: 1.52s\tremaining: 2.4s\n",
      "387:\tlearn: 0.1444941\ttotal: 1.52s\tremaining: 2.4s\n",
      "388:\tlearn: 0.1441382\ttotal: 1.52s\tremaining: 2.39s\n",
      "389:\tlearn: 0.1437336\ttotal: 1.52s\tremaining: 2.39s\n",
      "390:\tlearn: 0.1433307\ttotal: 1.53s\tremaining: 2.38s\n",
      "391:\tlearn: 0.1430633\ttotal: 1.53s\tremaining: 2.37s\n",
      "392:\tlearn: 0.1429315\ttotal: 1.53s\tremaining: 2.37s\n",
      "393:\tlearn: 0.1426247\ttotal: 1.53s\tremaining: 2.36s\n",
      "394:\tlearn: 0.1423718\ttotal: 1.54s\tremaining: 2.36s\n",
      "395:\tlearn: 0.1420800\ttotal: 1.54s\tremaining: 2.35s\n",
      "396:\tlearn: 0.1416987\ttotal: 1.54s\tremaining: 2.35s\n",
      "397:\tlearn: 0.1413924\ttotal: 1.55s\tremaining: 2.34s\n",
      "398:\tlearn: 0.1410742\ttotal: 1.56s\tremaining: 2.35s\n",
      "399:\tlearn: 0.1407053\ttotal: 1.56s\tremaining: 2.34s\n",
      "400:\tlearn: 0.1403891\ttotal: 1.57s\tremaining: 2.34s\n",
      "401:\tlearn: 0.1400551\ttotal: 1.57s\tremaining: 2.33s\n",
      "402:\tlearn: 0.1397833\ttotal: 1.57s\tremaining: 2.33s\n",
      "403:\tlearn: 0.1394508\ttotal: 1.57s\tremaining: 2.32s\n",
      "404:\tlearn: 0.1391369\ttotal: 1.58s\tremaining: 2.32s\n",
      "405:\tlearn: 0.1388139\ttotal: 1.58s\tremaining: 2.31s\n",
      "406:\tlearn: 0.1385991\ttotal: 1.58s\tremaining: 2.31s\n",
      "407:\tlearn: 0.1382279\ttotal: 1.6s\tremaining: 2.33s\n"
     ]
    },
    {
     "name": "stdout",
     "output_type": "stream",
     "text": [
      "408:\tlearn: 0.1381079\ttotal: 1.61s\tremaining: 2.32s\n",
      "409:\tlearn: 0.1378464\ttotal: 1.61s\tremaining: 2.32s\n",
      "410:\tlearn: 0.1374340\ttotal: 1.61s\tremaining: 2.31s\n",
      "411:\tlearn: 0.1371304\ttotal: 1.62s\tremaining: 2.31s\n",
      "412:\tlearn: 0.1368582\ttotal: 1.62s\tremaining: 2.3s\n",
      "413:\tlearn: 0.1366253\ttotal: 1.62s\tremaining: 2.3s\n",
      "414:\tlearn: 0.1364078\ttotal: 1.63s\tremaining: 2.3s\n",
      "415:\tlearn: 0.1361628\ttotal: 1.65s\tremaining: 2.32s\n",
      "416:\tlearn: 0.1360026\ttotal: 1.65s\tremaining: 2.31s\n",
      "417:\tlearn: 0.1356420\ttotal: 1.65s\tremaining: 2.3s\n",
      "418:\tlearn: 0.1353222\ttotal: 1.66s\tremaining: 2.3s\n",
      "419:\tlearn: 0.1350613\ttotal: 1.66s\tremaining: 2.29s\n",
      "420:\tlearn: 0.1348530\ttotal: 1.66s\tremaining: 2.29s\n",
      "421:\tlearn: 0.1346120\ttotal: 1.67s\tremaining: 2.28s\n",
      "422:\tlearn: 0.1345237\ttotal: 1.67s\tremaining: 2.28s\n",
      "423:\tlearn: 0.1344159\ttotal: 1.67s\tremaining: 2.27s\n",
      "424:\tlearn: 0.1342623\ttotal: 1.68s\tremaining: 2.27s\n",
      "425:\tlearn: 0.1340066\ttotal: 1.69s\tremaining: 2.28s\n",
      "426:\tlearn: 0.1336873\ttotal: 1.7s\tremaining: 2.27s\n",
      "427:\tlearn: 0.1333677\ttotal: 1.7s\tremaining: 2.27s\n",
      "428:\tlearn: 0.1331044\ttotal: 1.7s\tremaining: 2.26s\n",
      "429:\tlearn: 0.1329815\ttotal: 1.7s\tremaining: 2.26s\n",
      "430:\tlearn: 0.1328216\ttotal: 1.71s\tremaining: 2.25s\n",
      "431:\tlearn: 0.1326986\ttotal: 1.71s\tremaining: 2.25s\n",
      "432:\tlearn: 0.1323422\ttotal: 1.71s\tremaining: 2.24s\n",
      "433:\tlearn: 0.1321084\ttotal: 1.74s\tremaining: 2.27s\n",
      "434:\tlearn: 0.1318930\ttotal: 1.75s\tremaining: 2.27s\n",
      "435:\tlearn: 0.1318332\ttotal: 1.75s\tremaining: 2.27s\n",
      "436:\tlearn: 0.1316340\ttotal: 1.76s\tremaining: 2.26s\n",
      "437:\tlearn: 0.1315345\ttotal: 1.76s\tremaining: 2.25s\n",
      "438:\tlearn: 0.1312843\ttotal: 1.76s\tremaining: 2.25s\n"
     ]
    },
    {
     "name": "stdout",
     "output_type": "stream",
     "text": [
      "439:\tlearn: 0.1309468\ttotal: 1.76s\tremaining: 2.25s\n",
      "440:\tlearn: 0.1305539\ttotal: 1.77s\tremaining: 2.24s\n",
      "441:\tlearn: 0.1302926\ttotal: 1.79s\tremaining: 2.27s\n",
      "442:\tlearn: 0.1299359\ttotal: 1.8s\tremaining: 2.26s\n",
      "443:\tlearn: 0.1297144\ttotal: 1.8s\tremaining: 2.25s\n",
      "444:\tlearn: 0.1292816\ttotal: 1.8s\tremaining: 2.25s\n",
      "445:\tlearn: 0.1291105\ttotal: 1.81s\tremaining: 2.24s\n",
      "446:\tlearn: 0.1288791\ttotal: 1.81s\tremaining: 2.24s\n",
      "447:\tlearn: 0.1286506\ttotal: 1.81s\tremaining: 2.23s\n",
      "448:\tlearn: 0.1284174\ttotal: 1.81s\tremaining: 2.23s\n",
      "449:\tlearn: 0.1281293\ttotal: 1.82s\tremaining: 2.22s\n",
      "450:\tlearn: 0.1278075\ttotal: 1.82s\tremaining: 2.21s\n",
      "451:\tlearn: 0.1275754\ttotal: 1.82s\tremaining: 2.21s\n",
      "452:\tlearn: 0.1273294\ttotal: 1.82s\tremaining: 2.2s\n",
      "453:\tlearn: 0.1269607\ttotal: 1.83s\tremaining: 2.2s\n",
      "454:\tlearn: 0.1266966\ttotal: 1.85s\tremaining: 2.22s\n",
      "455:\tlearn: 0.1264319\ttotal: 1.86s\tremaining: 2.22s\n",
      "456:\tlearn: 0.1262337\ttotal: 1.86s\tremaining: 2.21s\n",
      "457:\tlearn: 0.1261337\ttotal: 1.86s\tremaining: 2.21s\n",
      "458:\tlearn: 0.1258555\ttotal: 1.87s\tremaining: 2.2s\n",
      "459:\tlearn: 0.1256411\ttotal: 1.87s\tremaining: 2.19s\n",
      "460:\tlearn: 0.1254582\ttotal: 1.87s\tremaining: 2.19s\n",
      "461:\tlearn: 0.1252591\ttotal: 1.87s\tremaining: 2.18s\n",
      "462:\tlearn: 0.1250839\ttotal: 1.88s\tremaining: 2.18s\n",
      "463:\tlearn: 0.1247958\ttotal: 1.88s\tremaining: 2.17s\n",
      "464:\tlearn: 0.1245462\ttotal: 1.88s\tremaining: 2.17s\n",
      "465:\tlearn: 0.1243078\ttotal: 1.89s\tremaining: 2.16s\n",
      "466:\tlearn: 0.1239311\ttotal: 1.89s\tremaining: 2.15s\n",
      "467:\tlearn: 0.1238808\ttotal: 1.89s\tremaining: 2.15s\n",
      "468:\tlearn: 0.1237288\ttotal: 1.89s\tremaining: 2.14s\n",
      "469:\tlearn: 0.1235064\ttotal: 1.9s\tremaining: 2.14s\n",
      "470:\tlearn: 0.1232456\ttotal: 1.9s\tremaining: 2.13s\n",
      "471:\tlearn: 0.1229838\ttotal: 1.9s\tremaining: 2.13s\n"
     ]
    },
    {
     "name": "stdout",
     "output_type": "stream",
     "text": [
      "472:\tlearn: 0.1227693\ttotal: 1.91s\tremaining: 2.13s\n",
      "473:\tlearn: 0.1225151\ttotal: 1.91s\tremaining: 2.12s\n",
      "474:\tlearn: 0.1223384\ttotal: 1.91s\tremaining: 2.11s\n",
      "475:\tlearn: 0.1221242\ttotal: 1.92s\tremaining: 2.11s\n",
      "476:\tlearn: 0.1216800\ttotal: 1.92s\tremaining: 2.1s\n",
      "477:\tlearn: 0.1214934\ttotal: 1.94s\tremaining: 2.12s\n",
      "478:\tlearn: 0.1213097\ttotal: 1.94s\tremaining: 2.11s\n",
      "479:\tlearn: 0.1209682\ttotal: 1.94s\tremaining: 2.1s\n",
      "480:\tlearn: 0.1207405\ttotal: 1.95s\tremaining: 2.1s\n",
      "481:\tlearn: 0.1206953\ttotal: 1.95s\tremaining: 2.1s\n",
      "482:\tlearn: 0.1205570\ttotal: 1.95s\tremaining: 2.09s\n",
      "483:\tlearn: 0.1202133\ttotal: 1.95s\tremaining: 2.08s\n",
      "484:\tlearn: 0.1199983\ttotal: 1.96s\tremaining: 2.08s\n",
      "485:\tlearn: 0.1199056\ttotal: 1.96s\tremaining: 2.07s\n",
      "486:\tlearn: 0.1196558\ttotal: 1.96s\tremaining: 2.07s\n",
      "487:\tlearn: 0.1193602\ttotal: 1.97s\tremaining: 2.06s\n",
      "488:\tlearn: 0.1191671\ttotal: 1.97s\tremaining: 2.06s\n",
      "489:\tlearn: 0.1188669\ttotal: 1.98s\tremaining: 2.06s\n",
      "490:\tlearn: 0.1187462\ttotal: 1.98s\tremaining: 2.05s\n",
      "491:\tlearn: 0.1183504\ttotal: 1.98s\tremaining: 2.04s\n",
      "492:\tlearn: 0.1180637\ttotal: 1.98s\tremaining: 2.04s\n",
      "493:\tlearn: 0.1178329\ttotal: 1.99s\tremaining: 2.03s\n",
      "494:\tlearn: 0.1175810\ttotal: 1.99s\tremaining: 2.03s\n",
      "495:\tlearn: 0.1174455\ttotal: 1.99s\tremaining: 2.02s\n",
      "496:\tlearn: 0.1173294\ttotal: 1.99s\tremaining: 2.02s\n",
      "497:\tlearn: 0.1170924\ttotal: 2s\tremaining: 2.01s\n",
      "498:\tlearn: 0.1169047\ttotal: 2s\tremaining: 2.01s\n",
      "499:\tlearn: 0.1166727\ttotal: 2s\tremaining: 2s\n",
      "500:\tlearn: 0.1165482\ttotal: 2s\tremaining: 2s\n",
      "501:\tlearn: 0.1161633\ttotal: 2.01s\tremaining: 1.99s\n",
      "502:\tlearn: 0.1159234\ttotal: 2.01s\tremaining: 1.99s\n",
      "503:\tlearn: 0.1157951\ttotal: 2.01s\tremaining: 1.98s\n",
      "504:\tlearn: 0.1156854\ttotal: 2.02s\tremaining: 1.98s\n",
      "505:\tlearn: 0.1154567\ttotal: 2.02s\tremaining: 1.97s\n",
      "506:\tlearn: 0.1151676\ttotal: 2.02s\tremaining: 1.97s\n",
      "507:\tlearn: 0.1150987\ttotal: 2.02s\tremaining: 1.96s\n",
      "508:\tlearn: 0.1149106\ttotal: 2.03s\tremaining: 1.96s\n",
      "509:\tlearn: 0.1147432\ttotal: 2.03s\tremaining: 1.95s\n",
      "510:\tlearn: 0.1145819\ttotal: 2.03s\tremaining: 1.95s\n",
      "511:\tlearn: 0.1144894\ttotal: 2.04s\tremaining: 1.94s\n",
      "512:\tlearn: 0.1144471\ttotal: 2.04s\tremaining: 1.94s\n"
     ]
    },
    {
     "name": "stdout",
     "output_type": "stream",
     "text": [
      "513:\tlearn: 0.1142211\ttotal: 2.06s\tremaining: 1.95s\n",
      "514:\tlearn: 0.1140642\ttotal: 2.06s\tremaining: 1.94s\n",
      "515:\tlearn: 0.1138746\ttotal: 2.06s\tremaining: 1.94s\n",
      "516:\tlearn: 0.1137273\ttotal: 2.07s\tremaining: 1.93s\n",
      "517:\tlearn: 0.1135770\ttotal: 2.07s\tremaining: 1.93s\n",
      "518:\tlearn: 0.1133520\ttotal: 2.08s\tremaining: 1.92s\n",
      "519:\tlearn: 0.1130988\ttotal: 2.08s\tremaining: 1.92s\n",
      "520:\tlearn: 0.1127770\ttotal: 2.08s\tremaining: 1.91s\n",
      "521:\tlearn: 0.1125973\ttotal: 2.08s\tremaining: 1.91s\n",
      "522:\tlearn: 0.1124456\ttotal: 2.09s\tremaining: 1.9s\n",
      "523:\tlearn: 0.1122774\ttotal: 2.09s\tremaining: 1.9s\n",
      "524:\tlearn: 0.1121468\ttotal: 2.09s\tremaining: 1.89s\n",
      "525:\tlearn: 0.1118061\ttotal: 2.1s\tremaining: 1.89s\n",
      "526:\tlearn: 0.1115601\ttotal: 2.1s\tremaining: 1.88s\n",
      "527:\tlearn: 0.1113545\ttotal: 2.1s\tremaining: 1.88s\n",
      "528:\tlearn: 0.1111707\ttotal: 2.12s\tremaining: 1.89s\n",
      "529:\tlearn: 0.1110419\ttotal: 2.13s\tremaining: 1.89s\n",
      "530:\tlearn: 0.1108666\ttotal: 2.13s\tremaining: 1.88s\n",
      "531:\tlearn: 0.1106866\ttotal: 2.13s\tremaining: 1.88s\n",
      "532:\tlearn: 0.1105778\ttotal: 2.14s\tremaining: 1.87s\n",
      "533:\tlearn: 0.1104165\ttotal: 2.14s\tremaining: 1.87s\n",
      "534:\tlearn: 0.1102004\ttotal: 2.14s\tremaining: 1.86s\n",
      "535:\tlearn: 0.1101392\ttotal: 2.14s\tremaining: 1.86s\n",
      "536:\tlearn: 0.1099020\ttotal: 2.15s\tremaining: 1.86s\n",
      "537:\tlearn: 0.1095810\ttotal: 2.15s\tremaining: 1.85s\n",
      "538:\tlearn: 0.1095109\ttotal: 2.16s\tremaining: 1.84s\n",
      "539:\tlearn: 0.1091604\ttotal: 2.16s\tremaining: 1.84s\n",
      "540:\tlearn: 0.1090590\ttotal: 2.16s\tremaining: 1.83s\n",
      "541:\tlearn: 0.1088659\ttotal: 2.17s\tremaining: 1.83s\n",
      "542:\tlearn: 0.1086813\ttotal: 2.17s\tremaining: 1.82s\n",
      "543:\tlearn: 0.1084794\ttotal: 2.17s\tremaining: 1.82s\n",
      "544:\tlearn: 0.1082146\ttotal: 2.17s\tremaining: 1.81s\n",
      "545:\tlearn: 0.1080096\ttotal: 2.18s\tremaining: 1.81s\n",
      "546:\tlearn: 0.1077372\ttotal: 2.18s\tremaining: 1.8s\n",
      "547:\tlearn: 0.1075673\ttotal: 2.18s\tremaining: 1.8s\n",
      "548:\tlearn: 0.1072835\ttotal: 2.2s\tremaining: 1.81s\n",
      "549:\tlearn: 0.1072340\ttotal: 2.21s\tremaining: 1.8s\n",
      "550:\tlearn: 0.1070967\ttotal: 2.21s\tremaining: 1.8s\n",
      "551:\tlearn: 0.1070354\ttotal: 2.21s\tremaining: 1.79s\n",
      "552:\tlearn: 0.1069094\ttotal: 2.21s\tremaining: 1.79s\n",
      "553:\tlearn: 0.1066877\ttotal: 2.22s\tremaining: 1.78s\n",
      "554:\tlearn: 0.1065317\ttotal: 2.22s\tremaining: 1.78s\n",
      "555:\tlearn: 0.1062894\ttotal: 2.22s\tremaining: 1.77s\n",
      "556:\tlearn: 0.1061703\ttotal: 2.22s\tremaining: 1.77s\n"
     ]
    },
    {
     "name": "stdout",
     "output_type": "stream",
     "text": [
      "557:\tlearn: 0.1060607\ttotal: 2.23s\tremaining: 1.76s\n",
      "558:\tlearn: 0.1058909\ttotal: 2.23s\tremaining: 1.76s\n",
      "559:\tlearn: 0.1057494\ttotal: 2.23s\tremaining: 1.75s\n",
      "560:\tlearn: 0.1057170\ttotal: 2.23s\tremaining: 1.75s\n",
      "561:\tlearn: 0.1056754\ttotal: 2.24s\tremaining: 1.74s\n",
      "562:\tlearn: 0.1054538\ttotal: 2.24s\tremaining: 1.74s\n",
      "563:\tlearn: 0.1052587\ttotal: 2.24s\tremaining: 1.74s\n",
      "564:\tlearn: 0.1052035\ttotal: 2.25s\tremaining: 1.73s\n",
      "565:\tlearn: 0.1050432\ttotal: 2.25s\tremaining: 1.73s\n",
      "566:\tlearn: 0.1048156\ttotal: 2.25s\tremaining: 1.72s\n",
      "567:\tlearn: 0.1046869\ttotal: 2.25s\tremaining: 1.72s\n",
      "568:\tlearn: 0.1044310\ttotal: 2.27s\tremaining: 1.72s\n",
      "569:\tlearn: 0.1043959\ttotal: 2.29s\tremaining: 1.72s\n",
      "570:\tlearn: 0.1041725\ttotal: 2.29s\tremaining: 1.72s\n",
      "571:\tlearn: 0.1039946\ttotal: 2.29s\tremaining: 1.71s\n",
      "572:\tlearn: 0.1036637\ttotal: 2.29s\tremaining: 1.71s\n",
      "573:\tlearn: 0.1035535\ttotal: 2.3s\tremaining: 1.7s\n",
      "574:\tlearn: 0.1032721\ttotal: 2.3s\tremaining: 1.7s\n",
      "575:\tlearn: 0.1030089\ttotal: 2.3s\tremaining: 1.69s\n",
      "576:\tlearn: 0.1028117\ttotal: 2.3s\tremaining: 1.69s\n",
      "577:\tlearn: 0.1025782\ttotal: 2.31s\tremaining: 1.68s\n",
      "578:\tlearn: 0.1024463\ttotal: 2.31s\tremaining: 1.68s\n",
      "579:\tlearn: 0.1022779\ttotal: 2.31s\tremaining: 1.67s\n",
      "580:\tlearn: 0.1021610\ttotal: 2.32s\tremaining: 1.67s\n",
      "581:\tlearn: 0.1019495\ttotal: 2.33s\tremaining: 1.67s\n",
      "582:\tlearn: 0.1018663\ttotal: 2.33s\tremaining: 1.67s\n",
      "583:\tlearn: 0.1017391\ttotal: 2.34s\tremaining: 1.67s\n",
      "584:\tlearn: 0.1015367\ttotal: 2.35s\tremaining: 1.67s\n",
      "585:\tlearn: 0.1014229\ttotal: 2.36s\tremaining: 1.67s\n",
      "586:\tlearn: 0.1011440\ttotal: 2.36s\tremaining: 1.66s\n",
      "587:\tlearn: 0.1009762\ttotal: 2.36s\tremaining: 1.66s\n",
      "588:\tlearn: 0.1008311\ttotal: 2.37s\tremaining: 1.65s\n"
     ]
    },
    {
     "name": "stdout",
     "output_type": "stream",
     "text": [
      "589:\tlearn: 0.1005897\ttotal: 2.38s\tremaining: 1.65s\n",
      "590:\tlearn: 0.1004388\ttotal: 2.38s\tremaining: 1.65s\n",
      "591:\tlearn: 0.1002670\ttotal: 2.39s\tremaining: 1.65s\n",
      "592:\tlearn: 0.1001222\ttotal: 2.39s\tremaining: 1.64s\n",
      "593:\tlearn: 0.0999758\ttotal: 2.39s\tremaining: 1.64s\n",
      "594:\tlearn: 0.0999080\ttotal: 2.4s\tremaining: 1.63s\n",
      "595:\tlearn: 0.0997052\ttotal: 2.4s\tremaining: 1.63s\n",
      "596:\tlearn: 0.0995754\ttotal: 2.4s\tremaining: 1.62s\n",
      "597:\tlearn: 0.0993857\ttotal: 2.41s\tremaining: 1.62s\n",
      "598:\tlearn: 0.0992069\ttotal: 2.43s\tremaining: 1.62s\n",
      "599:\tlearn: 0.0990042\ttotal: 2.43s\tremaining: 1.62s\n",
      "600:\tlearn: 0.0988064\ttotal: 2.43s\tremaining: 1.61s\n",
      "601:\tlearn: 0.0986040\ttotal: 2.44s\tremaining: 1.61s\n",
      "602:\tlearn: 0.0984779\ttotal: 2.44s\tremaining: 1.6s\n",
      "603:\tlearn: 0.0983202\ttotal: 2.44s\tremaining: 1.6s\n",
      "604:\tlearn: 0.0981892\ttotal: 2.44s\tremaining: 1.59s\n",
      "605:\tlearn: 0.0979767\ttotal: 2.45s\tremaining: 1.59s\n",
      "606:\tlearn: 0.0977833\ttotal: 2.45s\tremaining: 1.59s\n",
      "607:\tlearn: 0.0976699\ttotal: 2.45s\tremaining: 1.58s\n",
      "608:\tlearn: 0.0975976\ttotal: 2.46s\tremaining: 1.58s\n",
      "609:\tlearn: 0.0974315\ttotal: 2.46s\tremaining: 1.57s\n",
      "610:\tlearn: 0.0972485\ttotal: 2.46s\tremaining: 1.57s\n",
      "611:\tlearn: 0.0971206\ttotal: 2.46s\tremaining: 1.56s\n",
      "612:\tlearn: 0.0969596\ttotal: 2.47s\tremaining: 1.56s\n",
      "613:\tlearn: 0.0967566\ttotal: 2.47s\tremaining: 1.55s\n",
      "614:\tlearn: 0.0964499\ttotal: 2.47s\tremaining: 1.55s\n",
      "615:\tlearn: 0.0962348\ttotal: 2.48s\tremaining: 1.54s\n",
      "616:\tlearn: 0.0959943\ttotal: 2.48s\tremaining: 1.54s\n",
      "617:\tlearn: 0.0959185\ttotal: 2.48s\tremaining: 1.53s\n",
      "618:\tlearn: 0.0958338\ttotal: 2.48s\tremaining: 1.53s\n",
      "619:\tlearn: 0.0957725\ttotal: 2.49s\tremaining: 1.52s\n",
      "620:\tlearn: 0.0955664\ttotal: 2.49s\tremaining: 1.52s\n",
      "621:\tlearn: 0.0953020\ttotal: 2.49s\tremaining: 1.51s\n",
      "622:\tlearn: 0.0950980\ttotal: 2.5s\tremaining: 1.51s\n",
      "623:\tlearn: 0.0949535\ttotal: 2.5s\tremaining: 1.51s\n",
      "624:\tlearn: 0.0947902\ttotal: 2.5s\tremaining: 1.5s\n",
      "625:\tlearn: 0.0945919\ttotal: 2.51s\tremaining: 1.5s\n",
      "626:\tlearn: 0.0945326\ttotal: 2.51s\tremaining: 1.49s\n",
      "627:\tlearn: 0.0943013\ttotal: 2.51s\tremaining: 1.49s\n",
      "628:\tlearn: 0.0941579\ttotal: 2.52s\tremaining: 1.48s\n",
      "629:\tlearn: 0.0939383\ttotal: 2.52s\tremaining: 1.48s\n",
      "630:\tlearn: 0.0938490\ttotal: 2.52s\tremaining: 1.47s\n",
      "631:\tlearn: 0.0937867\ttotal: 2.52s\tremaining: 1.47s\n",
      "632:\tlearn: 0.0935864\ttotal: 2.53s\tremaining: 1.47s\n",
      "633:\tlearn: 0.0934274\ttotal: 2.53s\tremaining: 1.46s\n",
      "634:\tlearn: 0.0932814\ttotal: 2.53s\tremaining: 1.46s\n",
      "635:\tlearn: 0.0930783\ttotal: 2.54s\tremaining: 1.45s\n"
     ]
    },
    {
     "name": "stdout",
     "output_type": "stream",
     "text": [
      "636:\tlearn: 0.0929765\ttotal: 2.54s\tremaining: 1.45s\n",
      "637:\tlearn: 0.0928594\ttotal: 2.54s\tremaining: 1.44s\n",
      "638:\tlearn: 0.0926391\ttotal: 2.54s\tremaining: 1.44s\n",
      "639:\tlearn: 0.0925843\ttotal: 2.54s\tremaining: 1.43s\n",
      "640:\tlearn: 0.0923243\ttotal: 2.55s\tremaining: 1.43s\n",
      "641:\tlearn: 0.0922272\ttotal: 2.55s\tremaining: 1.42s\n",
      "642:\tlearn: 0.0920625\ttotal: 2.55s\tremaining: 1.42s\n",
      "643:\tlearn: 0.0919822\ttotal: 2.56s\tremaining: 1.41s\n",
      "644:\tlearn: 0.0918878\ttotal: 2.56s\tremaining: 1.41s\n",
      "645:\tlearn: 0.0918120\ttotal: 2.56s\tremaining: 1.4s\n",
      "646:\tlearn: 0.0917112\ttotal: 2.56s\tremaining: 1.4s\n",
      "647:\tlearn: 0.0915628\ttotal: 2.57s\tremaining: 1.39s\n",
      "648:\tlearn: 0.0912921\ttotal: 2.59s\tremaining: 1.4s\n",
      "649:\tlearn: 0.0911694\ttotal: 2.59s\tremaining: 1.4s\n",
      "650:\tlearn: 0.0909903\ttotal: 2.6s\tremaining: 1.39s\n",
      "651:\tlearn: 0.0909053\ttotal: 2.6s\tremaining: 1.39s\n",
      "652:\tlearn: 0.0907472\ttotal: 2.6s\tremaining: 1.38s\n",
      "653:\tlearn: 0.0905673\ttotal: 2.6s\tremaining: 1.38s\n",
      "654:\tlearn: 0.0905429\ttotal: 2.61s\tremaining: 1.37s\n",
      "655:\tlearn: 0.0903854\ttotal: 2.61s\tremaining: 1.37s\n",
      "656:\tlearn: 0.0901272\ttotal: 2.62s\tremaining: 1.36s\n",
      "657:\tlearn: 0.0899939\ttotal: 2.62s\tremaining: 1.36s\n",
      "658:\tlearn: 0.0898142\ttotal: 2.62s\tremaining: 1.36s\n",
      "659:\tlearn: 0.0897444\ttotal: 2.62s\tremaining: 1.35s\n",
      "660:\tlearn: 0.0895631\ttotal: 2.63s\tremaining: 1.35s\n",
      "661:\tlearn: 0.0893184\ttotal: 2.63s\tremaining: 1.34s\n",
      "662:\tlearn: 0.0892055\ttotal: 2.63s\tremaining: 1.34s\n",
      "663:\tlearn: 0.0891171\ttotal: 2.63s\tremaining: 1.33s\n",
      "664:\tlearn: 0.0889648\ttotal: 2.64s\tremaining: 1.33s\n",
      "665:\tlearn: 0.0888140\ttotal: 2.64s\tremaining: 1.32s\n",
      "666:\tlearn: 0.0887156\ttotal: 2.64s\tremaining: 1.32s\n",
      "667:\tlearn: 0.0885859\ttotal: 2.65s\tremaining: 1.31s\n",
      "668:\tlearn: 0.0883889\ttotal: 2.65s\tremaining: 1.31s\n",
      "669:\tlearn: 0.0882794\ttotal: 2.65s\tremaining: 1.3s\n",
      "670:\tlearn: 0.0882046\ttotal: 2.65s\tremaining: 1.3s\n",
      "671:\tlearn: 0.0881563\ttotal: 2.65s\tremaining: 1.3s\n",
      "672:\tlearn: 0.0879795\ttotal: 2.66s\tremaining: 1.29s\n",
      "673:\tlearn: 0.0878070\ttotal: 2.66s\tremaining: 1.29s\n",
      "674:\tlearn: 0.0877841\ttotal: 2.66s\tremaining: 1.28s\n",
      "675:\tlearn: 0.0876247\ttotal: 2.67s\tremaining: 1.28s\n",
      "676:\tlearn: 0.0875811\ttotal: 2.67s\tremaining: 1.27s\n",
      "677:\tlearn: 0.0874688\ttotal: 2.67s\tremaining: 1.27s\n",
      "678:\tlearn: 0.0872812\ttotal: 2.68s\tremaining: 1.26s\n",
      "679:\tlearn: 0.0871837\ttotal: 2.68s\tremaining: 1.26s\n",
      "680:\tlearn: 0.0870423\ttotal: 2.68s\tremaining: 1.25s\n",
      "681:\tlearn: 0.0868605\ttotal: 2.68s\tremaining: 1.25s\n",
      "682:\tlearn: 0.0867643\ttotal: 2.69s\tremaining: 1.25s\n",
      "683:\tlearn: 0.0865369\ttotal: 2.69s\tremaining: 1.24s\n",
      "684:\tlearn: 0.0864689\ttotal: 2.7s\tremaining: 1.24s\n"
     ]
    },
    {
     "name": "stdout",
     "output_type": "stream",
     "text": [
      "685:\tlearn: 0.0863408\ttotal: 2.71s\tremaining: 1.24s\n",
      "686:\tlearn: 0.0861927\ttotal: 2.71s\tremaining: 1.23s\n",
      "687:\tlearn: 0.0860369\ttotal: 2.71s\tremaining: 1.23s\n",
      "688:\tlearn: 0.0858651\ttotal: 2.71s\tremaining: 1.23s\n",
      "689:\tlearn: 0.0857998\ttotal: 2.72s\tremaining: 1.22s\n",
      "690:\tlearn: 0.0856394\ttotal: 2.72s\tremaining: 1.22s\n",
      "691:\tlearn: 0.0854597\ttotal: 2.72s\tremaining: 1.21s\n",
      "692:\tlearn: 0.0853680\ttotal: 2.73s\tremaining: 1.21s\n",
      "693:\tlearn: 0.0852628\ttotal: 2.73s\tremaining: 1.2s\n",
      "694:\tlearn: 0.0851777\ttotal: 2.73s\tremaining: 1.2s\n",
      "695:\tlearn: 0.0850339\ttotal: 2.74s\tremaining: 1.2s\n",
      "696:\tlearn: 0.0849902\ttotal: 2.74s\tremaining: 1.19s\n",
      "697:\tlearn: 0.0849722\ttotal: 2.74s\tremaining: 1.19s\n",
      "698:\tlearn: 0.0848834\ttotal: 2.75s\tremaining: 1.18s\n",
      "699:\tlearn: 0.0847714\ttotal: 2.75s\tremaining: 1.18s\n",
      "700:\tlearn: 0.0846520\ttotal: 2.75s\tremaining: 1.17s\n",
      "701:\tlearn: 0.0846278\ttotal: 2.75s\tremaining: 1.17s\n",
      "702:\tlearn: 0.0844856\ttotal: 2.76s\tremaining: 1.16s\n",
      "703:\tlearn: 0.0844004\ttotal: 2.76s\tremaining: 1.16s\n",
      "704:\tlearn: 0.0842561\ttotal: 2.76s\tremaining: 1.16s\n",
      "705:\tlearn: 0.0840901\ttotal: 2.77s\tremaining: 1.15s\n",
      "706:\tlearn: 0.0839213\ttotal: 2.77s\tremaining: 1.15s\n",
      "707:\tlearn: 0.0836803\ttotal: 2.77s\tremaining: 1.14s\n",
      "708:\tlearn: 0.0836169\ttotal: 2.77s\tremaining: 1.14s\n",
      "709:\tlearn: 0.0834548\ttotal: 2.77s\tremaining: 1.13s\n",
      "710:\tlearn: 0.0832274\ttotal: 2.78s\tremaining: 1.13s\n",
      "711:\tlearn: 0.0832132\ttotal: 2.78s\tremaining: 1.13s\n",
      "712:\tlearn: 0.0830710\ttotal: 2.79s\tremaining: 1.12s\n",
      "713:\tlearn: 0.0830449\ttotal: 2.79s\tremaining: 1.12s\n",
      "714:\tlearn: 0.0829659\ttotal: 2.79s\tremaining: 1.11s\n",
      "715:\tlearn: 0.0828814\ttotal: 2.79s\tremaining: 1.11s\n",
      "716:\tlearn: 0.0827431\ttotal: 2.8s\tremaining: 1.1s\n",
      "717:\tlearn: 0.0827152\ttotal: 2.8s\tremaining: 1.1s\n",
      "718:\tlearn: 0.0826353\ttotal: 2.8s\tremaining: 1.09s\n",
      "719:\tlearn: 0.0825413\ttotal: 2.8s\tremaining: 1.09s\n",
      "720:\tlearn: 0.0824588\ttotal: 2.81s\tremaining: 1.09s\n",
      "721:\tlearn: 0.0823769\ttotal: 2.81s\tremaining: 1.08s\n",
      "722:\tlearn: 0.0822162\ttotal: 2.81s\tremaining: 1.08s\n",
      "723:\tlearn: 0.0821469\ttotal: 2.82s\tremaining: 1.07s\n",
      "724:\tlearn: 0.0819725\ttotal: 2.82s\tremaining: 1.07s\n",
      "725:\tlearn: 0.0817165\ttotal: 2.82s\tremaining: 1.07s\n",
      "726:\tlearn: 0.0816315\ttotal: 2.83s\tremaining: 1.06s\n",
      "727:\tlearn: 0.0815853\ttotal: 2.83s\tremaining: 1.06s\n",
      "728:\tlearn: 0.0814922\ttotal: 2.83s\tremaining: 1.05s\n",
      "729:\tlearn: 0.0812813\ttotal: 2.83s\tremaining: 1.05s\n",
      "730:\tlearn: 0.0812106\ttotal: 2.84s\tremaining: 1.04s\n",
      "731:\tlearn: 0.0811409\ttotal: 2.84s\tremaining: 1.04s\n",
      "732:\tlearn: 0.0810184\ttotal: 2.84s\tremaining: 1.03s\n",
      "733:\tlearn: 0.0808668\ttotal: 2.85s\tremaining: 1.03s\n",
      "734:\tlearn: 0.0807083\ttotal: 2.85s\tremaining: 1.03s\n",
      "735:\tlearn: 0.0805199\ttotal: 2.85s\tremaining: 1.02s\n",
      "736:\tlearn: 0.0804133\ttotal: 2.85s\tremaining: 1.02s\n",
      "737:\tlearn: 0.0803115\ttotal: 2.86s\tremaining: 1.01s\n",
      "738:\tlearn: 0.0801302\ttotal: 2.86s\tremaining: 1.01s\n",
      "739:\tlearn: 0.0800793\ttotal: 2.86s\tremaining: 1.01s\n",
      "740:\tlearn: 0.0799850\ttotal: 2.87s\tremaining: 1s\n",
      "741:\tlearn: 0.0799711\ttotal: 2.87s\tremaining: 998ms\n",
      "742:\tlearn: 0.0798361\ttotal: 2.87s\tremaining: 994ms\n",
      "743:\tlearn: 0.0797115\ttotal: 2.88s\tremaining: 990ms\n"
     ]
    },
    {
     "name": "stdout",
     "output_type": "stream",
     "text": [
      "744:\tlearn: 0.0795927\ttotal: 2.88s\tremaining: 986ms\n",
      "745:\tlearn: 0.0795540\ttotal: 2.88s\tremaining: 981ms\n",
      "746:\tlearn: 0.0794533\ttotal: 2.88s\tremaining: 977ms\n",
      "747:\tlearn: 0.0793590\ttotal: 2.89s\tremaining: 973ms\n",
      "748:\tlearn: 0.0792190\ttotal: 2.89s\tremaining: 968ms\n",
      "749:\tlearn: 0.0790640\ttotal: 2.89s\tremaining: 964ms\n",
      "750:\tlearn: 0.0789889\ttotal: 2.9s\tremaining: 960ms\n",
      "751:\tlearn: 0.0788429\ttotal: 2.9s\tremaining: 956ms\n",
      "752:\tlearn: 0.0787541\ttotal: 2.9s\tremaining: 952ms\n",
      "753:\tlearn: 0.0787338\ttotal: 2.9s\tremaining: 948ms\n",
      "754:\tlearn: 0.0786772\ttotal: 2.91s\tremaining: 944ms\n",
      "755:\tlearn: 0.0785147\ttotal: 2.91s\tremaining: 940ms\n",
      "756:\tlearn: 0.0783776\ttotal: 2.91s\tremaining: 935ms\n",
      "757:\tlearn: 0.0782533\ttotal: 2.92s\tremaining: 931ms\n",
      "758:\tlearn: 0.0781773\ttotal: 2.92s\tremaining: 927ms\n",
      "759:\tlearn: 0.0781678\ttotal: 2.92s\tremaining: 923ms\n",
      "760:\tlearn: 0.0781519\ttotal: 2.92s\tremaining: 918ms\n",
      "761:\tlearn: 0.0780489\ttotal: 2.93s\tremaining: 914ms\n",
      "762:\tlearn: 0.0780221\ttotal: 2.93s\tremaining: 910ms\n",
      "763:\tlearn: 0.0779143\ttotal: 2.93s\tremaining: 906ms\n",
      "764:\tlearn: 0.0778808\ttotal: 2.94s\tremaining: 902ms\n",
      "765:\tlearn: 0.0777524\ttotal: 2.94s\tremaining: 898ms\n",
      "766:\tlearn: 0.0777237\ttotal: 2.94s\tremaining: 894ms\n",
      "767:\tlearn: 0.0777076\ttotal: 2.95s\tremaining: 890ms\n",
      "768:\tlearn: 0.0776479\ttotal: 2.95s\tremaining: 887ms\n",
      "769:\tlearn: 0.0776023\ttotal: 2.95s\tremaining: 883ms\n",
      "770:\tlearn: 0.0775842\ttotal: 2.96s\tremaining: 878ms\n",
      "771:\tlearn: 0.0774427\ttotal: 2.96s\tremaining: 874ms\n",
      "772:\tlearn: 0.0773382\ttotal: 2.96s\tremaining: 870ms\n",
      "773:\tlearn: 0.0771769\ttotal: 2.96s\tremaining: 866ms\n",
      "774:\tlearn: 0.0769849\ttotal: 2.97s\tremaining: 862ms\n",
      "775:\tlearn: 0.0768330\ttotal: 2.97s\tremaining: 858ms\n",
      "776:\tlearn: 0.0767384\ttotal: 2.97s\tremaining: 853ms\n",
      "777:\tlearn: 0.0766013\ttotal: 2.98s\tremaining: 849ms\n",
      "778:\tlearn: 0.0765150\ttotal: 2.98s\tremaining: 845ms\n",
      "779:\tlearn: 0.0764946\ttotal: 2.98s\tremaining: 841ms\n",
      "780:\tlearn: 0.0763418\ttotal: 2.98s\tremaining: 837ms\n",
      "781:\tlearn: 0.0763153\ttotal: 2.99s\tremaining: 833ms\n",
      "782:\tlearn: 0.0762757\ttotal: 2.99s\tremaining: 829ms\n",
      "783:\tlearn: 0.0761939\ttotal: 2.99s\tremaining: 825ms\n",
      "784:\tlearn: 0.0761206\ttotal: 3s\tremaining: 821ms\n",
      "785:\tlearn: 0.0759070\ttotal: 3s\tremaining: 817ms\n",
      "786:\tlearn: 0.0757877\ttotal: 3s\tremaining: 813ms\n",
      "787:\tlearn: 0.0757069\ttotal: 3s\tremaining: 809ms\n",
      "788:\tlearn: 0.0756424\ttotal: 3.01s\tremaining: 805ms\n",
      "789:\tlearn: 0.0756085\ttotal: 3.01s\tremaining: 800ms\n",
      "790:\tlearn: 0.0755081\ttotal: 3.01s\tremaining: 796ms\n",
      "791:\tlearn: 0.0752433\ttotal: 3.02s\tremaining: 792ms\n",
      "792:\tlearn: 0.0751291\ttotal: 3.02s\tremaining: 788ms\n",
      "793:\tlearn: 0.0750689\ttotal: 3.02s\tremaining: 783ms\n",
      "794:\tlearn: 0.0749699\ttotal: 3.02s\tremaining: 779ms\n",
      "795:\tlearn: 0.0747460\ttotal: 3.02s\tremaining: 775ms\n",
      "796:\tlearn: 0.0746559\ttotal: 3.03s\tremaining: 771ms\n",
      "797:\tlearn: 0.0745612\ttotal: 3.03s\tremaining: 767ms\n",
      "798:\tlearn: 0.0745511\ttotal: 3.03s\tremaining: 763ms\n",
      "799:\tlearn: 0.0745279\ttotal: 3.04s\tremaining: 759ms\n",
      "800:\tlearn: 0.0744127\ttotal: 3.04s\tremaining: 755ms\n",
      "801:\tlearn: 0.0743189\ttotal: 3.04s\tremaining: 751ms\n",
      "802:\tlearn: 0.0742564\ttotal: 3.04s\tremaining: 747ms\n",
      "803:\tlearn: 0.0741602\ttotal: 3.04s\tremaining: 742ms\n",
      "804:\tlearn: 0.0739845\ttotal: 3.05s\tremaining: 738ms\n",
      "805:\tlearn: 0.0738919\ttotal: 3.05s\tremaining: 734ms\n",
      "806:\tlearn: 0.0737602\ttotal: 3.05s\tremaining: 730ms\n",
      "807:\tlearn: 0.0736076\ttotal: 3.05s\tremaining: 725ms\n",
      "808:\tlearn: 0.0734927\ttotal: 3.05s\tremaining: 721ms\n",
      "809:\tlearn: 0.0734782\ttotal: 3.06s\tremaining: 717ms\n",
      "810:\tlearn: 0.0734225\ttotal: 3.06s\tremaining: 713ms\n"
     ]
    },
    {
     "name": "stdout",
     "output_type": "stream",
     "text": [
      "811:\tlearn: 0.0733604\ttotal: 3.06s\tremaining: 709ms\n",
      "812:\tlearn: 0.0733395\ttotal: 3.06s\tremaining: 705ms\n",
      "813:\tlearn: 0.0732505\ttotal: 3.06s\tremaining: 700ms\n",
      "814:\tlearn: 0.0732405\ttotal: 3.07s\tremaining: 696ms\n",
      "815:\tlearn: 0.0731570\ttotal: 3.07s\tremaining: 692ms\n",
      "816:\tlearn: 0.0730964\ttotal: 3.07s\tremaining: 688ms\n",
      "817:\tlearn: 0.0728795\ttotal: 3.08s\tremaining: 684ms\n",
      "818:\tlearn: 0.0727391\ttotal: 3.08s\tremaining: 680ms\n",
      "819:\tlearn: 0.0726761\ttotal: 3.08s\tremaining: 676ms\n",
      "820:\tlearn: 0.0725151\ttotal: 3.08s\tremaining: 672ms\n",
      "821:\tlearn: 0.0725056\ttotal: 3.09s\tremaining: 668ms\n",
      "822:\tlearn: 0.0724852\ttotal: 3.09s\tremaining: 665ms\n",
      "823:\tlearn: 0.0724371\ttotal: 3.09s\tremaining: 660ms\n",
      "824:\tlearn: 0.0724288\ttotal: 3.09s\tremaining: 656ms\n",
      "825:\tlearn: 0.0724085\ttotal: 3.1s\tremaining: 652ms\n",
      "826:\tlearn: 0.0722884\ttotal: 3.1s\tremaining: 648ms\n",
      "827:\tlearn: 0.0722736\ttotal: 3.1s\tremaining: 644ms\n",
      "828:\tlearn: 0.0722548\ttotal: 3.1s\tremaining: 640ms\n",
      "829:\tlearn: 0.0721106\ttotal: 3.1s\tremaining: 636ms\n",
      "830:\tlearn: 0.0720064\ttotal: 3.11s\tremaining: 632ms\n",
      "831:\tlearn: 0.0718532\ttotal: 3.11s\tremaining: 628ms\n",
      "832:\tlearn: 0.0717826\ttotal: 3.11s\tremaining: 623ms\n",
      "833:\tlearn: 0.0716035\ttotal: 3.11s\tremaining: 619ms\n",
      "834:\tlearn: 0.0715074\ttotal: 3.11s\tremaining: 615ms\n",
      "835:\tlearn: 0.0714248\ttotal: 3.12s\tremaining: 611ms\n",
      "836:\tlearn: 0.0713756\ttotal: 3.12s\tremaining: 608ms\n",
      "837:\tlearn: 0.0712481\ttotal: 3.13s\tremaining: 605ms\n",
      "838:\tlearn: 0.0711619\ttotal: 3.13s\tremaining: 601ms\n",
      "839:\tlearn: 0.0710577\ttotal: 3.13s\tremaining: 597ms\n",
      "840:\tlearn: 0.0709948\ttotal: 3.14s\tremaining: 593ms\n",
      "841:\tlearn: 0.0709641\ttotal: 3.14s\tremaining: 589ms\n",
      "842:\tlearn: 0.0709093\ttotal: 3.14s\tremaining: 585ms\n",
      "843:\tlearn: 0.0707400\ttotal: 3.14s\tremaining: 581ms\n",
      "844:\tlearn: 0.0706651\ttotal: 3.15s\tremaining: 577ms\n",
      "845:\tlearn: 0.0705864\ttotal: 3.15s\tremaining: 573ms\n",
      "846:\tlearn: 0.0704825\ttotal: 3.15s\tremaining: 570ms\n",
      "847:\tlearn: 0.0704027\ttotal: 3.16s\tremaining: 566ms\n",
      "848:\tlearn: 0.0703782\ttotal: 3.16s\tremaining: 562ms\n",
      "849:\tlearn: 0.0702761\ttotal: 3.16s\tremaining: 558ms\n",
      "850:\tlearn: 0.0701685\ttotal: 3.17s\tremaining: 555ms\n",
      "851:\tlearn: 0.0700321\ttotal: 3.17s\tremaining: 551ms\n",
      "852:\tlearn: 0.0699058\ttotal: 3.17s\tremaining: 547ms\n",
      "853:\tlearn: 0.0697354\ttotal: 3.17s\tremaining: 543ms\n",
      "854:\tlearn: 0.0696397\ttotal: 3.18s\tremaining: 539ms\n",
      "855:\tlearn: 0.0696238\ttotal: 3.18s\tremaining: 535ms\n",
      "856:\tlearn: 0.0695553\ttotal: 3.18s\tremaining: 531ms\n",
      "857:\tlearn: 0.0694428\ttotal: 3.19s\tremaining: 527ms\n",
      "858:\tlearn: 0.0693158\ttotal: 3.19s\tremaining: 523ms\n",
      "859:\tlearn: 0.0692349\ttotal: 3.19s\tremaining: 520ms\n",
      "860:\tlearn: 0.0691483\ttotal: 3.2s\tremaining: 516ms\n",
      "861:\tlearn: 0.0691216\ttotal: 3.2s\tremaining: 513ms\n",
      "862:\tlearn: 0.0689879\ttotal: 3.21s\tremaining: 510ms\n",
      "863:\tlearn: 0.0688133\ttotal: 3.21s\tremaining: 506ms\n",
      "864:\tlearn: 0.0687704\ttotal: 3.21s\tremaining: 502ms\n",
      "865:\tlearn: 0.0686896\ttotal: 3.22s\tremaining: 498ms\n",
      "866:\tlearn: 0.0686102\ttotal: 3.22s\tremaining: 494ms\n",
      "867:\tlearn: 0.0685181\ttotal: 3.22s\tremaining: 490ms\n"
     ]
    },
    {
     "name": "stdout",
     "output_type": "stream",
     "text": [
      "868:\tlearn: 0.0684519\ttotal: 3.23s\tremaining: 486ms\n",
      "869:\tlearn: 0.0682508\ttotal: 3.23s\tremaining: 482ms\n",
      "870:\tlearn: 0.0681471\ttotal: 3.23s\tremaining: 479ms\n",
      "871:\tlearn: 0.0681082\ttotal: 3.24s\tremaining: 475ms\n",
      "872:\tlearn: 0.0680259\ttotal: 3.24s\tremaining: 472ms\n",
      "873:\tlearn: 0.0679887\ttotal: 3.25s\tremaining: 468ms\n",
      "874:\tlearn: 0.0679404\ttotal: 3.25s\tremaining: 464ms\n",
      "875:\tlearn: 0.0678538\ttotal: 3.25s\tremaining: 460ms\n",
      "876:\tlearn: 0.0677572\ttotal: 3.25s\tremaining: 456ms\n",
      "877:\tlearn: 0.0676630\ttotal: 3.26s\tremaining: 452ms\n",
      "878:\tlearn: 0.0675922\ttotal: 3.26s\tremaining: 449ms\n",
      "879:\tlearn: 0.0674548\ttotal: 3.26s\tremaining: 445ms\n",
      "880:\tlearn: 0.0673325\ttotal: 3.26s\tremaining: 441ms\n",
      "881:\tlearn: 0.0672466\ttotal: 3.27s\tremaining: 437ms\n",
      "882:\tlearn: 0.0671388\ttotal: 3.27s\tremaining: 433ms\n",
      "883:\tlearn: 0.0671213\ttotal: 3.27s\tremaining: 429ms\n",
      "884:\tlearn: 0.0670707\ttotal: 3.27s\tremaining: 426ms\n",
      "885:\tlearn: 0.0669491\ttotal: 3.28s\tremaining: 422ms\n",
      "886:\tlearn: 0.0668444\ttotal: 3.28s\tremaining: 418ms\n",
      "887:\tlearn: 0.0668067\ttotal: 3.29s\tremaining: 414ms\n",
      "888:\tlearn: 0.0666528\ttotal: 3.29s\tremaining: 411ms\n",
      "889:\tlearn: 0.0666356\ttotal: 3.29s\tremaining: 407ms\n",
      "890:\tlearn: 0.0665084\ttotal: 3.3s\tremaining: 403ms\n",
      "891:\tlearn: 0.0663358\ttotal: 3.3s\tremaining: 400ms\n",
      "892:\tlearn: 0.0662555\ttotal: 3.3s\tremaining: 396ms\n",
      "893:\tlearn: 0.0661060\ttotal: 3.31s\tremaining: 392ms\n",
      "894:\tlearn: 0.0659544\ttotal: 3.31s\tremaining: 388ms\n",
      "895:\tlearn: 0.0658195\ttotal: 3.31s\tremaining: 384ms\n",
      "896:\tlearn: 0.0656569\ttotal: 3.31s\tremaining: 380ms\n",
      "897:\tlearn: 0.0655762\ttotal: 3.31s\tremaining: 377ms\n",
      "898:\tlearn: 0.0654789\ttotal: 3.32s\tremaining: 373ms\n",
      "899:\tlearn: 0.0654057\ttotal: 3.32s\tremaining: 369ms\n",
      "900:\tlearn: 0.0653213\ttotal: 3.33s\tremaining: 366ms\n",
      "901:\tlearn: 0.0652231\ttotal: 3.33s\tremaining: 362ms\n",
      "902:\tlearn: 0.0652035\ttotal: 3.33s\tremaining: 358ms\n",
      "903:\tlearn: 0.0651955\ttotal: 3.34s\tremaining: 354ms\n",
      "904:\tlearn: 0.0650929\ttotal: 3.34s\tremaining: 350ms\n",
      "905:\tlearn: 0.0650004\ttotal: 3.34s\tremaining: 347ms\n",
      "906:\tlearn: 0.0649164\ttotal: 3.34s\tremaining: 343ms\n",
      "907:\tlearn: 0.0648761\ttotal: 3.34s\tremaining: 339ms\n",
      "908:\tlearn: 0.0648499\ttotal: 3.35s\tremaining: 335ms\n",
      "909:\tlearn: 0.0647835\ttotal: 3.35s\tremaining: 331ms\n",
      "910:\tlearn: 0.0646782\ttotal: 3.35s\tremaining: 327ms\n",
      "911:\tlearn: 0.0646122\ttotal: 3.35s\tremaining: 323ms\n",
      "912:\tlearn: 0.0644967\ttotal: 3.35s\tremaining: 320ms\n",
      "913:\tlearn: 0.0643822\ttotal: 3.36s\tremaining: 316ms\n",
      "914:\tlearn: 0.0643667\ttotal: 3.36s\tremaining: 312ms\n",
      "915:\tlearn: 0.0642722\ttotal: 3.36s\tremaining: 308ms\n",
      "916:\tlearn: 0.0641970\ttotal: 3.36s\tremaining: 304ms\n",
      "917:\tlearn: 0.0640595\ttotal: 3.36s\tremaining: 301ms\n",
      "918:\tlearn: 0.0639257\ttotal: 3.37s\tremaining: 297ms\n",
      "919:\tlearn: 0.0638139\ttotal: 3.37s\tremaining: 293ms\n",
      "920:\tlearn: 0.0636981\ttotal: 3.37s\tremaining: 289ms\n",
      "921:\tlearn: 0.0635593\ttotal: 3.37s\tremaining: 286ms\n",
      "922:\tlearn: 0.0634459\ttotal: 3.38s\tremaining: 282ms\n",
      "923:\tlearn: 0.0633379\ttotal: 3.38s\tremaining: 278ms\n",
      "924:\tlearn: 0.0632362\ttotal: 3.38s\tremaining: 274ms\n",
      "925:\tlearn: 0.0630832\ttotal: 3.38s\tremaining: 270ms\n",
      "926:\tlearn: 0.0630285\ttotal: 3.39s\tremaining: 267ms\n",
      "927:\tlearn: 0.0629535\ttotal: 3.39s\tremaining: 263ms\n",
      "928:\tlearn: 0.0628997\ttotal: 3.39s\tremaining: 259ms\n",
      "929:\tlearn: 0.0628202\ttotal: 3.39s\tremaining: 255ms\n",
      "930:\tlearn: 0.0627150\ttotal: 3.39s\tremaining: 252ms\n",
      "931:\tlearn: 0.0626059\ttotal: 3.4s\tremaining: 248ms\n",
      "932:\tlearn: 0.0625028\ttotal: 3.4s\tremaining: 244ms\n"
     ]
    },
    {
     "name": "stdout",
     "output_type": "stream",
     "text": [
      "933:\tlearn: 0.0624191\ttotal: 3.4s\tremaining: 240ms\n",
      "934:\tlearn: 0.0624067\ttotal: 3.4s\tremaining: 237ms\n",
      "935:\tlearn: 0.0623983\ttotal: 3.4s\tremaining: 233ms\n",
      "936:\tlearn: 0.0623716\ttotal: 3.41s\tremaining: 229ms\n",
      "937:\tlearn: 0.0622889\ttotal: 3.41s\tremaining: 225ms\n",
      "938:\tlearn: 0.0622742\ttotal: 3.41s\tremaining: 222ms\n",
      "939:\tlearn: 0.0622480\ttotal: 3.42s\tremaining: 218ms\n",
      "940:\tlearn: 0.0621935\ttotal: 3.42s\tremaining: 214ms\n",
      "941:\tlearn: 0.0620866\ttotal: 3.42s\tremaining: 211ms\n",
      "942:\tlearn: 0.0619442\ttotal: 3.42s\tremaining: 207ms\n",
      "943:\tlearn: 0.0618222\ttotal: 3.43s\tremaining: 204ms\n",
      "944:\tlearn: 0.0617520\ttotal: 3.43s\tremaining: 200ms\n",
      "945:\tlearn: 0.0615967\ttotal: 3.43s\tremaining: 196ms\n",
      "946:\tlearn: 0.0615188\ttotal: 3.44s\tremaining: 192ms\n",
      "947:\tlearn: 0.0614774\ttotal: 3.44s\tremaining: 189ms\n",
      "948:\tlearn: 0.0614647\ttotal: 3.44s\tremaining: 185ms\n",
      "949:\tlearn: 0.0613325\ttotal: 3.44s\tremaining: 181ms\n",
      "950:\tlearn: 0.0613187\ttotal: 3.44s\tremaining: 178ms\n",
      "951:\tlearn: 0.0612442\ttotal: 3.45s\tremaining: 174ms\n",
      "952:\tlearn: 0.0612344\ttotal: 3.45s\tremaining: 170ms\n",
      "953:\tlearn: 0.0611526\ttotal: 3.45s\tremaining: 167ms\n",
      "954:\tlearn: 0.0610206\ttotal: 3.46s\tremaining: 163ms\n",
      "955:\tlearn: 0.0609431\ttotal: 3.46s\tremaining: 159ms\n",
      "956:\tlearn: 0.0608174\ttotal: 3.46s\tremaining: 156ms\n",
      "957:\tlearn: 0.0608005\ttotal: 3.46s\tremaining: 152ms\n",
      "958:\tlearn: 0.0607120\ttotal: 3.47s\tremaining: 148ms\n",
      "959:\tlearn: 0.0606998\ttotal: 3.47s\tremaining: 145ms\n",
      "960:\tlearn: 0.0606151\ttotal: 3.47s\tremaining: 141ms\n",
      "961:\tlearn: 0.0605166\ttotal: 3.48s\tremaining: 137ms\n",
      "962:\tlearn: 0.0604225\ttotal: 3.48s\tremaining: 134ms\n",
      "963:\tlearn: 0.0603389\ttotal: 3.48s\tremaining: 130ms\n",
      "964:\tlearn: 0.0602044\ttotal: 3.48s\tremaining: 126ms\n",
      "965:\tlearn: 0.0601008\ttotal: 3.49s\tremaining: 123ms\n",
      "966:\tlearn: 0.0600694\ttotal: 3.49s\tremaining: 119ms\n",
      "967:\tlearn: 0.0599470\ttotal: 3.49s\tremaining: 115ms\n",
      "968:\tlearn: 0.0599315\ttotal: 3.49s\tremaining: 112ms\n",
      "969:\tlearn: 0.0598783\ttotal: 3.5s\tremaining: 108ms\n",
      "970:\tlearn: 0.0597569\ttotal: 3.5s\tremaining: 105ms\n",
      "971:\tlearn: 0.0596302\ttotal: 3.5s\tremaining: 101ms\n",
      "972:\tlearn: 0.0594925\ttotal: 3.5s\tremaining: 97.3ms\n",
      "973:\tlearn: 0.0594210\ttotal: 3.51s\tremaining: 93.6ms\n",
      "974:\tlearn: 0.0594147\ttotal: 3.51s\tremaining: 90ms\n",
      "975:\tlearn: 0.0593234\ttotal: 3.51s\tremaining: 86.4ms\n",
      "976:\tlearn: 0.0592586\ttotal: 3.51s\tremaining: 82.7ms\n",
      "977:\tlearn: 0.0592034\ttotal: 3.52s\tremaining: 79.1ms\n",
      "978:\tlearn: 0.0591934\ttotal: 3.52s\tremaining: 75.5ms\n",
      "979:\tlearn: 0.0590969\ttotal: 3.52s\tremaining: 71.9ms\n",
      "980:\tlearn: 0.0589869\ttotal: 3.52s\tremaining: 68.3ms\n",
      "981:\tlearn: 0.0588687\ttotal: 3.53s\tremaining: 64.7ms\n",
      "982:\tlearn: 0.0587892\ttotal: 3.53s\tremaining: 61ms\n",
      "983:\tlearn: 0.0586549\ttotal: 3.53s\tremaining: 57.4ms\n",
      "984:\tlearn: 0.0586466\ttotal: 3.53s\tremaining: 53.8ms\n",
      "985:\tlearn: 0.0585161\ttotal: 3.54s\tremaining: 50.2ms\n",
      "986:\tlearn: 0.0585080\ttotal: 3.54s\tremaining: 46.6ms\n",
      "987:\tlearn: 0.0584793\ttotal: 3.54s\tremaining: 43ms\n",
      "988:\tlearn: 0.0584585\ttotal: 3.54s\tremaining: 39.4ms\n",
      "989:\tlearn: 0.0583283\ttotal: 3.55s\tremaining: 35.9ms\n",
      "990:\tlearn: 0.0583184\ttotal: 3.55s\tremaining: 32.3ms\n",
      "991:\tlearn: 0.0582313\ttotal: 3.56s\tremaining: 28.7ms\n",
      "992:\tlearn: 0.0581482\ttotal: 3.56s\tremaining: 25.1ms\n",
      "993:\tlearn: 0.0580613\ttotal: 3.56s\tremaining: 21.5ms\n",
      "994:\tlearn: 0.0580131\ttotal: 3.56s\tremaining: 17.9ms\n",
      "995:\tlearn: 0.0579986\ttotal: 3.56s\tremaining: 14.3ms\n",
      "996:\tlearn: 0.0579332\ttotal: 3.57s\tremaining: 10.7ms\n",
      "997:\tlearn: 0.0578465\ttotal: 3.57s\tremaining: 7.15ms\n",
      "998:\tlearn: 0.0577509\ttotal: 3.57s\tremaining: 3.58ms\n",
      "999:\tlearn: 0.0576743\ttotal: 3.58s\tremaining: 0us\n"
     ]
    },
    {
     "data": {
      "text/plain": [
       "<catboost.core.CatBoostRegressor at 0x7ff51092baf0>"
      ]
     },
     "execution_count": 9,
     "metadata": {},
     "output_type": "execute_result"
    }
   ],
   "source": [
    "#Train the Model \n",
    "prior_model = ctb.CatBoostRegressor()\n",
    "prior_model.fit(X_train,Y_train)"
   ]
  },
  {
   "cell_type": "code",
   "execution_count": 10,
   "id": "af65dcda",
   "metadata": {
    "execution": {
     "iopub.execute_input": "2022-07-22T21:05:26.892558Z",
     "iopub.status.busy": "2022-07-22T21:05:26.890316Z",
     "iopub.status.idle": "2022-07-22T21:05:26.944857Z",
     "shell.execute_reply": "2022-07-22T21:05:26.944034Z"
    },
    "id": "af65dcda",
    "papermill": {
     "duration": 0.080589,
     "end_time": "2022-07-22T21:05:26.948144",
     "exception": false,
     "start_time": "2022-07-22T21:05:26.867555",
     "status": "completed"
    },
    "tags": []
   },
   "outputs": [
    {
     "data": {
      "application/scrapbook.scrap.json+json": {
       "data": 0.07384565540951986,
       "encoder": "json",
       "name": "Prior Model MSE",
       "version": 1
      }
     },
     "metadata": {
      "scrapbook": {
       "data": true,
       "display": false,
       "name": "Prior Model MSE"
      }
     },
     "output_type": "display_data"
    },
    {
     "data": {
      "application/scrapbook.scrap.json+json": {
       "data": 1.2317768207644946,
       "encoder": "json",
       "name": "ABC Pre-generator MSE",
       "version": 1
      }
     },
     "metadata": {
      "scrapbook": {
       "data": true,
       "display": false,
       "name": "ABC Pre-generator MSE"
      }
     },
     "output_type": "display_data"
    },
    {
     "data": {
      "application/scrapbook.scrap.json+json": {
       "data": 0.1834271565651096,
       "encoder": "json",
       "name": "Prior Model MAE",
       "version": 1
      }
     },
     "metadata": {
      "scrapbook": {
       "data": true,
       "display": false,
       "name": "Prior Model MAE"
      }
     },
     "output_type": "display_data"
    },
    {
     "name": "stdout",
     "output_type": "stream",
     "text": [
      "Prior Model MAE 0.1834271565651096\n",
      "ABC Pre-generator MAE 0.816720142664844\n"
     ]
    }
   ],
   "source": [
    "y_pred = prior_model.predict(X_test)\n",
    "y_abc = y_pred + np.random.normal(0,variance, y_pred.shape) + bias \n",
    "mse = mean_squared_error(y_pred,Y_test)\n",
    "sb.glue(\"Prior Model MSE\",mse)\n",
    "mse = mean_squared_error(y_abc,Y_test)\n",
    "sb.glue(\"ABC Pre-generator MSE\",mse)\n",
    "mae = mean_absolute_error(y_pred,Y_test)\n",
    "sb.glue(\"Prior Model MAE\",mae)\n",
    "print(\"Prior Model MAE\",mae)\n",
    "mae = mean_absolute_error(y_abc,Y_test)\n",
    "print(\"ABC Pre-generator MAE\",mae)"
   ]
  },
  {
   "cell_type": "markdown",
   "id": "25609da2",
   "metadata": {
    "papermill": {
     "duration": 0.011831,
     "end_time": "2022-07-22T21:05:26.973577",
     "exception": false,
     "start_time": "2022-07-22T21:05:26.961746",
     "status": "completed"
    },
    "tags": []
   },
   "source": [
    "# mGAN Model"
   ]
  },
  {
   "cell_type": "code",
   "execution_count": 11,
   "id": "dfc3464d",
   "metadata": {
    "execution": {
     "iopub.execute_input": "2022-07-22T21:05:27.012988Z",
     "iopub.status.busy": "2022-07-22T21:05:27.010893Z",
     "iopub.status.idle": "2022-07-22T21:05:27.030760Z",
     "shell.execute_reply": "2022-07-22T21:05:27.029423Z"
    },
    "papermill": {
     "duration": 0.052293,
     "end_time": "2022-07-22T21:05:27.039519",
     "exception": false,
     "start_time": "2022-07-22T21:05:26.987226",
     "status": "completed"
    },
    "tags": []
   },
   "outputs": [],
   "source": [
    "# gen = network.Generator(n_features+1).to(device)\n",
    "# disc = network.Discriminator(n_features+1).to(device)\n",
    "\n",
    "# criterion = torch.nn.BCELoss()\n",
    "# gen_opt = torch.optim.Adam(gen.parameters(), lr=0.01, betas=(0.5, 0.999))\n",
    "# disc_opt = torch.optim.Adam(disc.parameters(), lr=0.01, betas=(0.5, 0.999))"
   ]
  },
  {
   "cell_type": "code",
   "execution_count": 12,
   "id": "b75fdd85",
   "metadata": {
    "execution": {
     "iopub.execute_input": "2022-07-22T21:05:27.064689Z",
     "iopub.status.busy": "2022-07-22T21:05:27.063990Z",
     "iopub.status.idle": "2022-07-22T21:05:27.079398Z",
     "shell.execute_reply": "2022-07-22T21:05:27.076651Z"
    },
    "papermill": {
     "duration": 0.037662,
     "end_time": "2022-07-22T21:05:27.088360",
     "exception": false,
     "start_time": "2022-07-22T21:05:27.050698",
     "status": "completed"
    },
    "tags": []
   },
   "outputs": [],
   "source": [
    "#Training the ABC_GAN \n",
    "# ABC_train_test2.training_GAN(disc,gen,disc_opt,gen_opt,train_data,batch_size,n_epochs,criterion,prior_model,variance,bias,device)"
   ]
  },
  {
   "cell_type": "code",
   "execution_count": 13,
   "id": "1fa7c368",
   "metadata": {
    "execution": {
     "iopub.execute_input": "2022-07-22T21:05:27.138767Z",
     "iopub.status.busy": "2022-07-22T21:05:27.138052Z",
     "iopub.status.idle": "2022-07-22T21:05:27.144113Z",
     "shell.execute_reply": "2022-07-22T21:05:27.142924Z"
    },
    "papermill": {
     "duration": 0.047105,
     "end_time": "2022-07-22T21:05:27.147421",
     "exception": false,
     "start_time": "2022-07-22T21:05:27.100316",
     "status": "completed"
    },
    "tags": []
   },
   "outputs": [],
   "source": [
    "# ABC_GAN1_metrics=ABC_train_test2.test_generator(gen,test_data,prior_model,variance,bias,\"1\",device)\n",
    "# sb.glue(\"ABC_GAN_1 Metrics\",ABC_GAN1_metrics)\n",
    "\n",
    "# print(\"MAE\")\n",
    "# print(mean(ABC_GAN1_metrics[1]))"
   ]
  },
  {
   "cell_type": "code",
   "execution_count": 14,
   "id": "eb22ce5c",
   "metadata": {
    "execution": {
     "iopub.execute_input": "2022-07-22T21:05:27.173674Z",
     "iopub.status.busy": "2022-07-22T21:05:27.173280Z",
     "iopub.status.idle": "2022-07-22T21:05:27.178276Z",
     "shell.execute_reply": "2022-07-22T21:05:27.177304Z"
    },
    "papermill": {
     "duration": 0.02698,
     "end_time": "2022-07-22T21:05:27.186471",
     "exception": false,
     "start_time": "2022-07-22T21:05:27.159491",
     "status": "completed"
    },
    "tags": []
   },
   "outputs": [],
   "source": [
    "# sanityChecks.discProbVsError(train_data,disc,device)\n",
    "# sanityChecks.discProbVsError(test_data,disc,device)"
   ]
  },
  {
   "cell_type": "markdown",
   "id": "bd03df19",
   "metadata": {
    "papermill": {
     "duration": 0.011897,
     "end_time": "2022-07-22T21:05:27.209889",
     "exception": false,
     "start_time": "2022-07-22T21:05:27.197992",
     "status": "completed"
    },
    "tags": []
   },
   "source": [
    "# mGAN Model with TabNet Generator"
   ]
  },
  {
   "cell_type": "code",
   "execution_count": 15,
   "id": "1362bd4f",
   "metadata": {
    "execution": {
     "iopub.execute_input": "2022-07-22T21:05:27.252848Z",
     "iopub.status.busy": "2022-07-22T21:05:27.252260Z",
     "iopub.status.idle": "2022-07-22T21:05:27.282280Z",
     "shell.execute_reply": "2022-07-22T21:05:27.279639Z"
    },
    "papermill": {
     "duration": 0.071914,
     "end_time": "2022-07-22T21:05:27.295806",
     "exception": false,
     "start_time": "2022-07-22T21:05:27.223892",
     "status": "completed"
    },
    "tags": []
   },
   "outputs": [],
   "source": [
    "gen2 = network.GeneratorTabnet(n_features+1).to(device)\n",
    "disc2 = network.Discriminator(n_features+1).to(device)\n",
    "\n",
    "criterion = torch.nn.BCELoss()\n",
    "gen_opt = torch.optim.Adam(gen2.parameters(), lr=0.01, betas=(0.5, 0.999))\n",
    "disc_opt = torch.optim.Adam(disc2.parameters(), lr=0.01, betas=(0.5, 0.999))"
   ]
  },
  {
   "cell_type": "code",
   "execution_count": 16,
   "id": "92f27ae1",
   "metadata": {
    "execution": {
     "iopub.execute_input": "2022-07-22T21:05:27.332424Z",
     "iopub.status.busy": "2022-07-22T21:05:27.331762Z",
     "iopub.status.idle": "2022-07-22T21:16:01.968176Z",
     "shell.execute_reply": "2022-07-22T21:16:01.965404Z"
    },
    "papermill": {
     "duration": 634.66868,
     "end_time": "2022-07-22T21:16:01.975870",
     "exception": false,
     "start_time": "2022-07-22T21:05:27.307190",
     "status": "completed"
    },
    "tags": []
   },
   "outputs": [
    {
     "data": {
      "image/png": "[encoded data removed]",
      "text/plain": [
       "<Figure size 432x288 with 1 Axes>"
      ]
     },
     "metadata": {
      "needs_background": "light"
     },
     "output_type": "display_data"
    },
    {
     "data": {
      "image/png": "[encoded data removed]",
      "text/plain": [
       "<Figure size 432x288 with 1 Axes>"
      ]
     },
     "metadata": {
      "needs_background": "light"
     },
     "output_type": "display_data"
    }
   ],
   "source": [
    "#Training the ABC_GAN \n",
    "ABC_train_test2.training_GAN(disc2,gen2,disc_opt,gen_opt,train_data,batch_size,n_epochs,criterion,prior_model,variance,bias,device)"
   ]
  },
  {
   "cell_type": "code",
   "execution_count": 17,
   "id": "2d083149",
   "metadata": {
    "execution": {
     "iopub.execute_input": "2022-07-22T21:16:02.031558Z",
     "iopub.status.busy": "2022-07-22T21:16:02.030337Z",
     "iopub.status.idle": "2022-07-22T21:16:04.007393Z",
     "shell.execute_reply": "2022-07-22T21:16:03.955146Z"
    },
    "papermill": {
     "duration": 2.053171,
     "end_time": "2022-07-22T21:16:04.045541",
     "exception": false,
     "start_time": "2022-07-22T21:16:01.992370",
     "status": "completed"
    },
    "tags": []
   },
   "outputs": [
    {
     "data": {
      "application/scrapbook.scrap.json+json": {
       "data": 0.19878420095324367,
       "encoder": "json",
       "name": "ABC-GAN Model 1 MSE",
       "version": 1
      }
     },
     "metadata": {
      "scrapbook": {
       "data": true,
       "display": false,
       "name": "ABC-GAN Model 1 MSE"
      }
     },
     "output_type": "display_data"
    },
    {
     "data": {
      "application/scrapbook.scrap.json+json": {
       "data": 0.2973577895660556,
       "encoder": "json",
       "name": "ABC-GAN Model 1 MAE",
       "version": 1
      }
     },
     "metadata": {
      "scrapbook": {
       "data": true,
       "display": false,
       "name": "ABC-GAN Model 1 MAE"
      }
     },
     "output_type": "display_data"
    },
    {
     "data": {
      "application/scrapbook.scrap.json+json": {
       "data": 30.33049453573767,
       "encoder": "json",
       "name": "ABC-GAN Model 1 Manhattan Distance",
       "version": 1
      }
     },
     "metadata": {
      "scrapbook": {
       "data": true,
       "display": false,
       "name": "ABC-GAN Model 1 Manhattan Distance"
      }
     },
     "output_type": "display_data"
    },
    {
     "data": {
      "application/scrapbook.scrap.json+json": {
       "data": 4.50273390642286,
       "encoder": "json",
       "name": "ABC-GAN Model 1 Euclidean distance",
       "version": 1
      }
     },
     "metadata": {
      "scrapbook": {
       "data": true,
       "display": false,
       "name": "ABC-GAN Model 1 Euclidean distance"
      }
     },
     "output_type": "display_data"
    },
    {
     "data": {
      "application/scrapbook.scrap.json+json": {
       "data": [
        [
         0.19751685048906667,
         0.20006444855277558,
         0.19738332366239417,
         0.2000077286211555,
         0.2001626000508554,
         0.19706734324575068,
         0.19462662099300543,
         0.19729788391011502,
         0.203200411896079,
         0.20193073106785422,
         0.19426711501897895,
         0.1957187712575488,
         0.20143871619191503,
         0.19752637978521617,
         0.1958554224133681,
         0.1957050147303998,
         0.19291865814892048,
         0.19850132644939728,
         0.20013617920676827,
         0.20200254360768793,
         0.2024664377683472,
         0.2023443468026739,
         0.19374869721757876,
         0.19843664522719065,
         0.19474070773991387,
         0.20217663466776611,
         0.20289220306219177,
         0.1960790996204268,
         0.1976329247222494,
         0.20143891626554447,
         0.19980552005505609,
         0.20082906150173063,
         0.19942409043998888,
         0.19615647398163394,
         0.20237815176153207,
         0.19759428543743077,
         0.19765137112638906,
         0.19685144340278435,
         0.19612270126973927,
         0.20193485818741339,
         0.20305474401554613,
         0.19671791996695542,
         0.20099083579323485,
         0.20332618770001873,
         0.19930423812062364,
         0.19090000367126347,
         0.19626248690325726,
         0.2001335097083968,
         0.2016157406800562,
         0.20160724100453886,
         0.19859260631778877,
         0.19883639346379364,
         0.20054705628247865,
         0.20141654949099377,
         0.20301420134168624,
         0.2076161200630525,
         0.1983916384090165,
         0.1968407320849503,
         0.20065549680785608,
         0.2019974952190167,
         0.20064825796415192,
         0.2006291952214164,
         0.1991192064666708,
         0.19752255993572979,
         0.20305902335316184,
         0.19545599073063138,
         0.20474031358844907,
         0.1996937834266601,
         0.19388373487470767,
         0.1957721271477982,
         0.19986329522835547,
         0.1981623697862587,
         0.19784741169273615,
         0.19852784609567034,
         0.20125220710859823,
         0.20039117924865593,
         0.2003080375144927,
         0.1929055136147614,
         0.20460874354160438,
         0.19389401289983102,
         0.19709488572348352,
         0.19511546423011217,
         0.197408145979711,
         0.1962184706268272,
         0.19954810010119067,
         0.20272302764476977,
         0.19833282685915765,
         0.20192900764614186,
         0.20097937464717203,
         0.1948737987862232,
         0.19049079267855484,
         0.20185734179965178,
         0.19654577235384743,
         0.19771098909219392,
         0.1891682204229722,
         0.2006682133046195,
         0.1989561813915278,
         0.19471756030225393,
         0.1989297146419057,
         0.20101356105035156
        ],
        [
         0.2921570753952598,
         0.30089638434240923,
         0.29929829421727094,
         0.30005823398995046,
         0.2994490932107118,
         0.2987542475719808,
         0.2934727861144233,
         0.2937657663635179,
         0.303074226824238,
         0.30033918936718623,
         0.29351225808518483,
         0.29456261308936804,
         0.30107463400482254,
         0.2972218719374973,
         0.2944894946162023,
         0.29119270208163883,
         0.29104779353000076,
         0.2972307009805067,
         0.2989115666406339,
         0.30126112169476554,
         0.30056585723935975,
         0.3014904783089079,
         0.29353192383788673,
         0.29802324188024026,
         0.29456292847901877,
         0.30336703996484476,
         0.3009662303671825,
         0.29401335842432635,
         0.29412808751358704,
         0.3040657455978148,
         0.29984126630577024,
         0.29984065235647206,
         0.29944091775984155,
         0.2921131653893812,
         0.3009461965594514,
         0.2963019519606057,
         0.2943034589053223,
         0.29811774684554515,
         0.29505137570531054,
         0.2994266831425621,
         0.30273601436512726,
         0.2969061451160586,
         0.2993546987281126,
         0.3005986970885858,
         0.30144645287837907,
         0.2896760083077585,
         0.2968024445569837,
         0.2975023516325974,
         0.30032071536954713,
         0.29772782745981113,
         0.29669460941873055,
         0.2989848805134933,
         0.29793803190456375,
         0.29989937443158354,
         0.30413459693355593,
         0.3078278079537638,
         0.30006451480200186,
         0.2951812910135178,
         0.2982608419843018,
         0.30154351989610817,
         0.3003072091469578,
         0.29688359918438045,
         0.29513664917070787,
         0.29529465868265603,
         0.2978876845171565,
         0.2900071467327721,
         0.304936641653744,
         0.2977515399620375,
         0.29331637373851505,
         0.29304847185153005,
         0.3016160544756727,
         0.29289281964484676,
         0.2990727550989273,
         0.29748153630826696,
         0.29835006904185696,
         0.2986553091665401,
         0.2982266440658885,
         0.2920944299822783,
         0.3044816405083254,
         0.29088983753257813,
         0.2948876157056029,
         0.29091497415713236,
         0.2917690780835555,
         0.290861519583154,
         0.3000276317984304,
         0.3039515530873163,
         0.29639861716286225,
         0.29889559733462245,
         0.3008965944560866,
         0.2882454345714958,
         0.2842596432778473,
         0.3037119753129196,
         0.296038900739422,
         0.2960881376091172,
         0.28594018433096946,
         0.2983619236916888,
         0.29869711295445905,
         0.2931633373338948,
         0.2975529947354659,
         0.30131587525829673
        ],
        [
         29.8000216903165,
         30.69143120292574,
         30.52842601016164,
         30.60593986697495,
         30.543807507492602,
         30.472933252342045,
         29.934224183671176,
         29.964108169078827,
         30.913571136072278,
         30.634597315452993,
         29.938250324688852,
         30.04538653511554,
         30.7096126684919,
         30.316630937624723,
         30.037928450852633,
         29.70165561232716,
         29.68687494006008,
         30.317531500011683,
         30.488979797344655,
         30.728634412866086,
         30.657717438414693,
         30.752028787508607,
         29.940256231464446,
         30.398370671784505,
         30.045418704859912,
         30.943438076414168,
         30.698555497452617,
         29.98936255928129,
         30.00106492638588,
         31.01470605097711,
         30.583809163188562,
         30.583746540360153,
         30.54297361150384,
         29.795542869716883,
         30.69651204906404,
         30.222799099981785,
         30.018952808342874,
         30.408010178245604,
         30.095240321941674,
         30.541521680541337,
         30.879073465242982,
         30.28442680183798,
         30.534179270267487,
         30.661067103035748,
         30.747538193594664,
         29.546952847391367,
         30.273849344812334,
         30.345239866524935,
         30.632712967693806,
         30.368238400900736,
         30.262850160710514,
         30.49645781237632,
         30.389679254265502,
         30.58973619202152,
         31.021728887222707,
         31.39843641128391,
         30.60658050980419,
         30.108491683378816,
         30.422605882398784,
         30.75743902940303,
         30.631335332989693,
         30.282127116806805,
         30.1039382154122,
         30.120055185630918,
         30.38454382074997,
         29.580728966742754,
         31.10353744868189,
         30.370657076127827,
         29.918270121328533,
         29.890944128856063,
         30.764837556518614,
         29.87506760377437,
         30.50542102009058,
         30.34311670344323,
         30.43170704226941,
         30.462841534987092,
         30.419117694720626,
         29.793631858192384,
         31.057127331849188,
         29.67076342832297,
         30.078536801971495,
         29.6733273640275,
         29.76044596452266,
         29.667874997481704,
         30.6028184434399,
         31.003058414906263,
         30.23265895061195,
         30.48735092813149,
         30.69145263452083,
         29.401034326292574,
         28.994483614340425,
         30.9786214819178,
         30.195967875421047,
         30.20099003612995,
         29.165898801758885,
         30.432916216552258,
         30.467105521354824,
         29.902660408057272,
         30.350405463017523,
         30.734219276346266
        ],
        [
         4.488509635712593,
         4.517363584258312,
         4.48699220119271,
         4.516723183831156,
         4.518471556310524,
         4.483399269646477,
         4.455548826046748,
         4.486020971733383,
         4.552630230251526,
         4.538384577018691,
         4.451431874345136,
         4.468032527664718,
         4.5328521982936225,
         4.488617909567716,
         4.469592049187884,
         4.467875502126349,
         4.435955717902274,
         4.499681688501813,
         4.518173334334392,
         4.539191497170412,
         4.54440058229591,
         4.5430301973322536,
         4.445488400186535,
         4.4989485230633,
         4.45685451742271,
         4.5411470727242635,
         4.549176267451456,
         4.472143575656258,
         4.4898283176163245,
         4.532854449360307,
         4.5144393943894885,
         4.525987657205499,
         4.510128293616366,
         4.473025860212152,
         4.54340967552743,
         4.489389392179958,
         4.490037845596814,
         4.480942671702462,
         4.472640778054214,
         4.538430955199844,
         4.550998120147458,
         4.479422712429521,
         4.527810204824176,
         4.554038992521025,
         4.508772814004228,
         4.412686299123117,
         4.4742344221254475,
         4.5181432016102,
         4.534843497780903,
         4.534747907267058,
         4.5007161479496185,
         4.503477782037672,
         4.522808833105023,
         4.53260278957702,
         4.550543762766378,
         4.6018305321286395,
         4.498438297645049,
         4.480820758819184,
         4.524031462578628,
         4.539134775740823,
         4.52394985740818,
         4.523734951628407,
         4.506679382827274,
         4.4885745079528805,
         4.551046075576746,
         4.46503203286655,
         4.569848135991152,
         4.513176919811512,
         4.4470373235695,
         4.468641512705558,
         4.515092038186182,
         4.495838266463595,
         4.492264016357352,
         4.4999822557159455,
         4.530753262436282,
         4.521050794158687,
         4.520112811255739,
         4.435804593160711,
         4.56837956405153,
         4.447155193579684,
         4.483712562575273,
         4.461140812782246,
         4.487274327465451,
         4.473732670146527,
         4.511530362340637,
         4.54727927664076,
         4.497771485928791,
         4.538365210062592,
         4.527681107809112,
         4.458377224528537,
         4.407954270771487,
         4.537559791734372,
         4.477462314759604,
         4.4907149639454715,
         4.392625465839668,
         4.524174815043201,
         4.5048341259069495,
         4.456589632311899,
         4.504534481328163,
         4.528066168590722
        ]
       ],
       "encoder": "json",
       "name": "ABC_GAN_2 Metrics",
       "version": 1
      }
     },
     "metadata": {
      "scrapbook": {
       "data": true,
       "display": false,
       "name": "ABC_GAN_2 Metrics"
      }
     },
     "output_type": "display_data"
    },
    {
     "name": "stdout",
     "output_type": "stream",
     "text": [
      "MAE\n",
      "0.2973577895660556\n"
     ]
    }
   ],
   "source": [
    "ABC_GAN2_metrics=ABC_train_test2.test_generator(gen2,test_data,prior_model,variance,bias,\"1\",device)\n",
    "sb.glue(\"ABC_GAN_2 Metrics\",ABC_GAN2_metrics)\n",
    "\n",
    "print(\"MAE\")\n",
    "print(mean(ABC_GAN2_metrics[1]))"
   ]
  },
  {
   "cell_type": "code",
   "execution_count": 18,
   "id": "95259ed5",
   "metadata": {
    "execution": {
     "iopub.execute_input": "2022-07-22T21:16:04.085434Z",
     "iopub.status.busy": "2022-07-22T21:16:04.081903Z",
     "iopub.status.idle": "2022-07-22T21:16:04.981917Z",
     "shell.execute_reply": "2022-07-22T21:16:04.981020Z"
    },
    "papermill": {
     "duration": 0.922463,
     "end_time": "2022-07-22T21:16:04.984820",
     "exception": false,
     "start_time": "2022-07-22T21:16:04.062357",
     "status": "completed"
    },
    "tags": []
   },
   "outputs": [
    {
     "data": {
      "image/png": "[encoded data removed]",
      "text/plain": [
       "<Figure size 432x288 with 1 Axes>"
      ]
     },
     "metadata": {
      "needs_background": "light"
     },
     "output_type": "display_data"
    },
    {
     "data": {
      "image/png": "[encoded data removed]",
      "text/plain": [
       "<Figure size 432x288 with 1 Axes>"
      ]
     },
     "metadata": {
      "needs_background": "light"
     },
     "output_type": "display_data"
    },
    {
     "data": {
      "image/png": "[encoded data removed]",
      "text/plain": [
       "<Figure size 432x288 with 1 Axes>"
      ]
     },
     "metadata": {
      "needs_background": "light"
     },
     "output_type": "display_data"
    },
    {
     "data": {
      "image/png": "[encoded data removed]",
      "text/plain": [
       "<Figure size 432x288 with 1 Axes>"
      ]
     },
     "metadata": {
      "needs_background": "light"
     },
     "output_type": "display_data"
    }
   ],
   "source": [
    "sanityChecks.discProbVsError(train_data,disc2,device)\n",
    "sanityChecks.discProbVsError(test_data,disc2,device)"
   ]
  },
  {
   "cell_type": "markdown",
   "id": "130f3a4d",
   "metadata": {
    "id": "130f3a4d",
    "papermill": {
     "duration": 0.017572,
     "end_time": "2022-07-22T21:16:05.019032",
     "exception": false,
     "start_time": "2022-07-22T21:16:05.001460",
     "status": "completed"
    },
    "tags": []
   },
   "source": [
    "# skipGAN Model"
   ]
  },
  {
   "cell_type": "code",
   "execution_count": 19,
   "id": "4e43dad1",
   "metadata": {
    "execution": {
     "iopub.execute_input": "2022-07-22T21:16:05.068169Z",
     "iopub.status.busy": "2022-07-22T21:16:05.067665Z",
     "iopub.status.idle": "2022-07-22T21:16:05.072980Z",
     "shell.execute_reply": "2022-07-22T21:16:05.072078Z"
    },
    "id": "4e43dad1",
    "papermill": {
     "duration": 0.039297,
     "end_time": "2022-07-22T21:16:05.079125",
     "exception": false,
     "start_time": "2022-07-22T21:16:05.039828",
     "status": "completed"
    },
    "tags": []
   },
   "outputs": [],
   "source": [
    "# #Generator\n",
    "# gen3 = network.GeneratorWithSkipConnection(n_features+1).to(device)\n",
    "# constraints=network.weightConstraint()\n",
    "# #Discriminator \n",
    "# disc3 = network.Discriminator(n_features+1).to(device)\n",
    "\n",
    "# criterion = torch.nn.BCELoss()\n",
    "# gen_opt = torch.optim.Adam(gen3.parameters(), lr=0.01, betas=(0.5, 0.999))\n",
    "# disc_opt = torch.optim.Adam(disc3.parameters(), lr=0.01, betas=(0.5, 0.999))\n"
   ]
  },
  {
   "cell_type": "markdown",
   "id": "3094de5c",
   "metadata": {
    "tags": [
     "papermill-error-cell-tag"
    ]
   },
   "source": [
    "<span id=\"papermill-error-cell\" style=\"color:red; font-family:Helvetica Neue, Helvetica, Arial, sans-serif; font-size:2em;\">Execution using papermill encountered an exception here and stopped:</span>"
   ]
  },
  {
   "cell_type": "code",
   "execution_count": 20,
   "id": "26acbc37",
   "metadata": {
    "execution": {
     "iopub.execute_input": "2022-07-22T21:16:05.116810Z",
     "iopub.status.busy": "2022-07-22T21:16:05.115956Z",
     "iopub.status.idle": "2022-07-22T21:16:06.226242Z",
     "shell.execute_reply": "2022-07-22T21:16:06.222768Z"
    },
    "id": "26acbc37",
    "papermill": {
     "duration": 1.132473,
     "end_time": "2022-07-22T21:16:06.230105",
     "exception": true,
     "start_time": "2022-07-22T21:16:05.097632",
     "status": "failed"
    },
    "tags": []
   },
   "outputs": [
    {
     "ename": "NameError",
     "evalue": "name 'disc3' is not defined",
     "output_type": "error",
     "traceback": [
      "\u001b[0;31m---------------------------------------------------------------------------\u001b[0m",
      "\u001b[0;31mNameError\u001b[0m                                 Traceback (most recent call last)",
      "Input \u001b[0;32mIn [20]\u001b[0m, in \u001b[0;36m<cell line: 1>\u001b[0;34m()\u001b[0m\n\u001b[0;32m----> 1\u001b[0m ABC_train_test2\u001b[38;5;241m.\u001b[39mtraining_GAN_skip_connection(\u001b[43mdisc3\u001b[49m,gen3,disc_opt,gen_opt,train_data,batch_size,n_epochs,criterion,prior_model,variance,bias,device)\n",
      "\u001b[0;31mNameError\u001b[0m: name 'disc3' is not defined"
     ]
    }
   ],
   "source": [
    "ABC_train_test2.training_GAN_skip_connection(disc3,gen3,disc_opt,gen_opt,train_data,batch_size,n_epochs,criterion,prior_model,variance,bias,device)"
   ]
  },
  {
   "cell_type": "code",
   "execution_count": null,
   "id": "c5e0717b",
   "metadata": {
    "id": "c5e0717b",
    "papermill": {
     "duration": null,
     "end_time": null,
     "exception": null,
     "start_time": null,
     "status": "pending"
    },
    "tags": []
   },
   "outputs": [],
   "source": [
    "# ABC_GAN3_metrics=ABC_train_test2.test_generator(gen3,test_data,prior_model,variance,bias,\"3\",device)\n",
    "# sb.glue(\"ABC_GAN_3 Metrics\",ABC_GAN3_metrics)\n",
    "\n",
    "# print(\"MAE\")\n",
    "# print(mean(ABC_GAN3_metrics[1]))"
   ]
  },
  {
   "cell_type": "code",
   "execution_count": null,
   "id": "c8e46b48",
   "metadata": {
    "id": "c8e46b48",
    "papermill": {
     "duration": null,
     "end_time": null,
     "exception": null,
     "start_time": null,
     "status": "pending"
    },
    "tags": []
   },
   "outputs": [],
   "source": [
    "# sanityChecks.discProbVsError(train_data,disc3,device)\n",
    "# sanityChecks.discProbVsError(test_data,disc3,device)"
   ]
  },
  {
   "cell_type": "markdown",
   "id": "723b9d7e",
   "metadata": {
    "id": "130f3a4d",
    "papermill": {
     "duration": null,
     "end_time": null,
     "exception": null,
     "start_time": null,
     "status": "pending"
    },
    "tags": []
   },
   "source": [
    "# skipGAN Model with TabNet Generator"
   ]
  },
  {
   "cell_type": "code",
   "execution_count": null,
   "id": "03f3fd92",
   "metadata": {
    "id": "4e43dad1",
    "papermill": {
     "duration": null,
     "end_time": null,
     "exception": null,
     "start_time": null,
     "status": "pending"
    },
    "tags": []
   },
   "outputs": [],
   "source": [
    "# #Generator\n",
    "# gen4 = network.GeneratorTabnetskipConnection(n_features+1).to(device)\n",
    "# constraints=network.weightConstraint()\n",
    "# #Discriminator \n",
    "# disc4 = network.Discriminator(n_features+1).to(device)\n",
    "\n",
    "# criterion = torch.nn.BCELoss()\n",
    "# gen_opt = torch.optim.Adam(gen4.parameters(), lr=0.01, betas=(0.5, 0.999))\n",
    "# disc_opt = torch.optim.Adam(disc4.parameters(), lr=0.01, betas=(0.5, 0.999))\n"
   ]
  },
  {
   "cell_type": "code",
   "execution_count": null,
   "id": "7b82c8c5",
   "metadata": {
    "id": "26acbc37",
    "papermill": {
     "duration": null,
     "end_time": null,
     "exception": null,
     "start_time": null,
     "status": "pending"
    },
    "tags": []
   },
   "outputs": [],
   "source": [
    "# ABC_train_test2.training_GAN_skip_connection(disc4,gen4,disc_opt,gen_opt,train_data,batch_size,n_epochs,criterion,prior_model,variance,bias,device)"
   ]
  },
  {
   "cell_type": "code",
   "execution_count": null,
   "id": "9bdfcfe8",
   "metadata": {
    "id": "c5e0717b",
    "papermill": {
     "duration": null,
     "end_time": null,
     "exception": null,
     "start_time": null,
     "status": "pending"
    },
    "tags": []
   },
   "outputs": [],
   "source": [
    "# ABC_GAN4_metrics=ABC_train_test2.test_generator(gen4,test_data,prior_model,variance,bias,\"3\",device)\n",
    "# sb.glue(\"ABC_GAN_4 Metrics\",ABC_GAN4_metrics)\n",
    "\n",
    "# print(\"MAE\")\n",
    "# print(mean(ABC_GAN4_metrics[1]))"
   ]
  },
  {
   "cell_type": "code",
   "execution_count": null,
   "id": "ce0d5363",
   "metadata": {
    "id": "c8e46b48",
    "papermill": {
     "duration": null,
     "end_time": null,
     "exception": null,
     "start_time": null,
     "status": "pending"
    },
    "tags": []
   },
   "outputs": [],
   "source": [
    "# sanityChecks.discProbVsError(train_data,disc4,device)\n",
    "# sanityChecks.discProbVsError(test_data,disc4,device)"
   ]
  },
  {
   "cell_type": "markdown",
   "id": "a5bd74c3",
   "metadata": {
    "id": "a5bd74c3",
    "papermill": {
     "duration": null,
     "end_time": null,
     "exception": null,
     "start_time": null,
     "status": "pending"
    },
    "tags": []
   },
   "source": [
    "## Skip Connection Model Analysis - ABC-GAN "
   ]
  },
  {
   "cell_type": "markdown",
   "id": "5744a8bf",
   "metadata": {
    "id": "5744a8bf",
    "papermill": {
     "duration": null,
     "end_time": null,
     "exception": null,
     "start_time": null,
     "status": "pending"
    },
    "tags": []
   },
   "source": [
    "### Weight Analysis \n",
    "\n",
    "Study the weights of the skip connection layer\n",
    "\n",
    "Equation of the skip connection is \n",
    "\n",
    "$output = y_{gan} * w + y_{abc} * (1-w)$"
   ]
  },
  {
   "cell_type": "code",
   "execution_count": null,
   "id": "52c31dea",
   "metadata": {
    "id": "52c31dea",
    "papermill": {
     "duration": null,
     "end_time": null,
     "exception": null,
     "start_time": null,
     "status": "pending"
    },
    "tags": []
   },
   "outputs": [],
   "source": [
    "# print(\"Weight of the node at skip connection\")\n",
    "# for name,param in gen3.named_parameters():\n",
    "#     if(name == \"skipNode.weight\"):\n",
    "#         print(param)\n",
    "#         sb.glue(\"Skip Connection Weight\",param.item())"
   ]
  },
  {
   "cell_type": "markdown",
   "id": "18be571c",
   "metadata": {
    "id": "a5bd74c3",
    "papermill": {
     "duration": null,
     "end_time": null,
     "exception": null,
     "start_time": null,
     "status": "pending"
    },
    "tags": []
   },
   "source": [
    "## skipGAN Model Analysis (TabNet Generator) "
   ]
  },
  {
   "cell_type": "markdown",
   "id": "afae5652",
   "metadata": {
    "id": "5744a8bf",
    "papermill": {
     "duration": null,
     "end_time": null,
     "exception": null,
     "start_time": null,
     "status": "pending"
    },
    "tags": []
   },
   "source": [
    "### Weight Analysis \n",
    "\n",
    "Study the weights of the skip connection layer\n",
    "\n",
    "Equation of the skip connection is \n",
    "\n",
    "$output = y_{gan} * w + y_{abc} * (1-w)$"
   ]
  },
  {
   "cell_type": "code",
   "execution_count": null,
   "id": "78418818",
   "metadata": {
    "id": "52c31dea",
    "papermill": {
     "duration": null,
     "end_time": null,
     "exception": null,
     "start_time": null,
     "status": "pending"
    },
    "tags": []
   },
   "outputs": [],
   "source": [
    "# print(\"Weight of the node at skip connection\")\n",
    "# for name,param in gen4.named_parameters():\n",
    "#     if(name == \"skipNode.weight\"):\n",
    "#         print(param)\n",
    "#         sb.glue(\"Skip Connection Weight\",param.item())"
   ]
  }
 ],
 "metadata": {
  "colab": {
   "collapsed_sections": [],
   "name": "ABC_GAN_Model-Catboost_Pre-gen.ipynb",
   "provenance": []
  },
  "interpreter": {
   "hash": "31f2aee4e71d21fbe5cf8b01ff0e069b9275f58929596ceb00d14d90e3e16cd6"
  },
  "kernelspec": {
   "display_name": "Python 3 (ipykernel)",
   "language": "python",
   "name": "python3"
  },
  "language_info": {
   "codemirror_mode": {
    "name": "ipython",
    "version": 3
   },
   "file_extension": ".py",
   "mimetype": "text/x-python",
   "name": "python",
   "nbconvert_exporter": "python",
   "pygments_lexer": "ipython3",
   "version": "3.8.13"
  },
  "papermill": {
   "default_parameters": {},
   "duration": 656.465387,
   "end_time": "2022-07-22T21:16:07.242177",
   "environment_variables": {},
   "exception": true,
   "input_path": "ABC_GAN-Catboost.ipynb",
   "output_path": "./ABC_GAN_Catboost/ABC-GAN_output_2_6.ipynb",
   "parameters": {
    "bias": 0.01,
    "variance": 1
   },
   "start_time": "2022-07-22T21:05:10.776790",
   "version": "2.3.3"
  }
 },
 "nbformat": 4,
 "nbformat_minor": 5
}