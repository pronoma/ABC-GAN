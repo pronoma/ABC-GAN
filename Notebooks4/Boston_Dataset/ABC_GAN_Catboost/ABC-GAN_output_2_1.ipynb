{
 "cells": [
  {
   "cell_type": "markdown",
   "id": "a56bb427",
   "metadata": {
    "tags": [
     "papermill-error-cell-tag"
    ]
   },
   "source": [
    "<span style=\"color:red; font-family:Helvetica Neue, Helvetica, Arial, sans-serif; font-size:2em;\">An Exception was encountered at '<a href=\"#papermill-error-cell\">In [20]</a>'.</span>"
   ]
  },
  {
   "cell_type": "markdown",
   "id": "622780e6",
   "metadata": {
    "id": "622780e6",
    "papermill": {
     "duration": 0.00939,
     "end_time": "2022-07-22T20:09:18.659616",
     "exception": false,
     "start_time": "2022-07-22T20:09:18.650226",
     "status": "completed"
    },
    "tags": []
   },
   "source": [
    "## Import Libraries "
   ]
  },
  {
   "cell_type": "code",
   "execution_count": 1,
   "id": "a62397e3",
   "metadata": {
    "execution": {
     "iopub.execute_input": "2022-07-22T20:09:18.680251Z",
     "iopub.status.busy": "2022-07-22T20:09:18.679505Z",
     "iopub.status.idle": "2022-07-22T20:09:18.716514Z",
     "shell.execute_reply": "2022-07-22T20:09:18.706993Z"
    },
    "id": "a62397e3",
    "papermill": {
     "duration": 0.05982,
     "end_time": "2022-07-22T20:09:18.727253",
     "exception": false,
     "start_time": "2022-07-22T20:09:18.667433",
     "status": "completed"
    },
    "tags": []
   },
   "outputs": [],
   "source": [
    "import warnings\n",
    "import sys\n",
    "sys.path.insert(0, '../../src')\n",
    "warnings.filterwarnings('ignore')"
   ]
  },
  {
   "cell_type": "code",
   "execution_count": 2,
   "id": "d6a4e155",
   "metadata": {
    "execution": {
     "iopub.execute_input": "2022-07-22T20:09:18.749423Z",
     "iopub.status.busy": "2022-07-22T20:09:18.749048Z",
     "iopub.status.idle": "2022-07-22T20:09:26.182095Z",
     "shell.execute_reply": "2022-07-22T20:09:26.171321Z"
    },
    "id": "d6a4e155",
    "papermill": {
     "duration": 7.466828,
     "end_time": "2022-07-22T20:09:26.203542",
     "exception": false,
     "start_time": "2022-07-22T20:09:18.736714",
     "status": "completed"
    },
    "tags": []
   },
   "outputs": [],
   "source": [
    "import ABC_train_test2\n",
    "import bostonDataset\n",
    "import network\n",
    "import dataset\n",
    "import sanityChecks\n",
    "import torch \n",
    "import scrapbook as sb\n",
    "from statistics import mean \n",
    "import catboost as ctb \n",
    "from sklearn.model_selection import train_test_split\n",
    "from sklearn.metrics import mean_squared_error,mean_absolute_error\n",
    "import numpy as np"
   ]
  },
  {
   "cell_type": "markdown",
   "id": "2fa5b0f7",
   "metadata": {
    "id": "2fa5b0f7",
    "papermill": {
     "duration": 0.008005,
     "end_time": "2022-07-22T20:09:26.219037",
     "exception": false,
     "start_time": "2022-07-22T20:09:26.211032",
     "status": "completed"
    },
    "tags": []
   },
   "source": [
    "## Parameters "
   ]
  },
  {
   "cell_type": "code",
   "execution_count": 3,
   "id": "783186fb",
   "metadata": {
    "execution": {
     "iopub.execute_input": "2022-07-22T20:09:26.250733Z",
     "iopub.status.busy": "2022-07-22T20:09:26.249742Z",
     "iopub.status.idle": "2022-07-22T20:09:26.258800Z",
     "shell.execute_reply": "2022-07-22T20:09:26.255740Z"
    },
    "id": "783186fb",
    "papermill": {
     "duration": 0.039687,
     "end_time": "2022-07-22T20:09:26.266039",
     "exception": false,
     "start_time": "2022-07-22T20:09:26.226352",
     "status": "completed"
    },
    "tags": [
     "parameters"
    ]
   },
   "outputs": [],
   "source": [
    "variance = 1\n",
    "bias = 1 "
   ]
  },
  {
   "cell_type": "code",
   "execution_count": 4,
   "id": "1e893ab4",
   "metadata": {
    "execution": {
     "iopub.execute_input": "2022-07-22T20:09:26.286979Z",
     "iopub.status.busy": "2022-07-22T20:09:26.286364Z",
     "iopub.status.idle": "2022-07-22T20:09:26.305799Z",
     "shell.execute_reply": "2022-07-22T20:09:26.304675Z"
    },
    "papermill": {
     "duration": 0.06484,
     "end_time": "2022-07-22T20:09:26.339056",
     "exception": false,
     "start_time": "2022-07-22T20:09:26.274216",
     "status": "completed"
    },
    "tags": [
     "injected-parameters"
    ]
   },
   "outputs": [],
   "source": [
    "# Parameters\n",
    "variance = 0.1\n",
    "bias = 1\n"
   ]
  },
  {
   "cell_type": "markdown",
   "id": "391cdbfd",
   "metadata": {
    "id": "391cdbfd",
    "papermill": {
     "duration": 0.014884,
     "end_time": "2022-07-22T20:09:26.365606",
     "exception": false,
     "start_time": "2022-07-22T20:09:26.350722",
     "status": "completed"
    },
    "tags": []
   },
   "source": [
    "## Dataset \n"
   ]
  },
  {
   "cell_type": "code",
   "execution_count": 5,
   "id": "5b51f161",
   "metadata": {
    "execution": {
     "iopub.execute_input": "2022-07-22T20:09:26.417277Z",
     "iopub.status.busy": "2022-07-22T20:09:26.416689Z",
     "iopub.status.idle": "2022-07-22T20:09:26.421391Z",
     "shell.execute_reply": "2022-07-22T20:09:26.420385Z"
    },
    "id": "5b51f161",
    "papermill": {
     "duration": 0.062966,
     "end_time": "2022-07-22T20:09:26.441945",
     "exception": false,
     "start_time": "2022-07-22T20:09:26.378979",
     "status": "completed"
    },
    "tags": []
   },
   "outputs": [],
   "source": [
    "#Parameters \n",
    "n_features = 13\n",
    "n_samples= 506\n",
    "n_target = 1 "
   ]
  },
  {
   "cell_type": "code",
   "execution_count": 6,
   "id": "5d6eced4",
   "metadata": {
    "execution": {
     "iopub.execute_input": "2022-07-22T20:09:26.476041Z",
     "iopub.status.busy": "2022-07-22T20:09:26.475320Z",
     "iopub.status.idle": "2022-07-22T20:09:26.508466Z",
     "shell.execute_reply": "2022-07-22T20:09:26.507030Z"
    },
    "id": "5d6eced4",
    "papermill": {
     "duration": 0.059212,
     "end_time": "2022-07-22T20:09:26.511700",
     "exception": false,
     "start_time": "2022-07-22T20:09:26.452488",
     "status": "completed"
    },
    "tags": []
   },
   "outputs": [
    {
     "name": "stdout",
     "output_type": "stream",
     "text": [
      "         X1        X2        X3        X4        X5        X6        X7  \\\n",
      "0 -0.419782  0.284830 -1.287909 -0.272599 -0.144217  0.413672 -0.120013   \n",
      "1 -0.417339 -0.487722 -0.593381 -0.272599 -0.740262  0.194274  0.367166   \n",
      "2 -0.417342 -0.487722 -0.593381 -0.272599 -0.740262  1.282714 -0.265812   \n",
      "3 -0.416750 -0.487722 -1.306878 -0.272599 -0.835284  1.016303 -0.809889   \n",
      "4 -0.412482 -0.487722 -1.306878 -0.272599 -0.835284  1.228577 -0.511180   \n",
      "\n",
      "         X8        X9       X10       X11       X12       X13         Y  \n",
      "0  0.140214 -0.982843 -0.666608 -1.459000  0.441052 -1.075562  0.159686  \n",
      "1  0.557160 -0.867883 -0.987329 -0.303094  0.441052 -0.492439 -0.101524  \n",
      "2  0.557160 -0.867883 -0.987329 -0.303094  0.396427 -1.208727  1.324247  \n",
      "3  1.077737 -0.752922 -1.106115  0.113032  0.416163 -1.361517  1.182758  \n",
      "4  1.077737 -0.752922 -1.106115  0.113032  0.441052 -1.026501  1.487503  \n"
     ]
    }
   ],
   "source": [
    "X,Y = bostonDataset.boston_data()"
   ]
  },
  {
   "cell_type": "code",
   "execution_count": 7,
   "id": "fe007438",
   "metadata": {
    "execution": {
     "iopub.execute_input": "2022-07-22T20:09:26.550457Z",
     "iopub.status.busy": "2022-07-22T20:09:26.535197Z",
     "iopub.status.idle": "2022-07-22T20:09:26.563281Z",
     "shell.execute_reply": "2022-07-22T20:09:26.562142Z"
    },
    "id": "fe007438",
    "papermill": {
     "duration": 0.059241,
     "end_time": "2022-07-22T20:09:26.578854",
     "exception": false,
     "start_time": "2022-07-22T20:09:26.519613",
     "status": "completed"
    },
    "tags": []
   },
   "outputs": [],
   "source": [
    "#Train test split for dataset \n",
    "X_train,X_test,Y_train,Y_test = train_test_split(X,Y,test_size = 0.2)\n",
    "train_data = dataset.CustomDataset(X_train,Y_train)\n",
    "test_data = dataset.CustomDataset(X_test,Y_test)\n"
   ]
  },
  {
   "cell_type": "markdown",
   "id": "a9a1af34",
   "metadata": {
    "id": "a9a1af34",
    "papermill": {
     "duration": 0.017769,
     "end_time": "2022-07-22T20:09:26.605692",
     "exception": false,
     "start_time": "2022-07-22T20:09:26.587923",
     "status": "completed"
    },
    "tags": []
   },
   "source": [
    "## Training Parameters "
   ]
  },
  {
   "cell_type": "code",
   "execution_count": 8,
   "id": "952b7fc8",
   "metadata": {
    "execution": {
     "iopub.execute_input": "2022-07-22T20:09:26.706109Z",
     "iopub.status.busy": "2022-07-22T20:09:26.705504Z",
     "iopub.status.idle": "2022-07-22T20:09:26.710904Z",
     "shell.execute_reply": "2022-07-22T20:09:26.709709Z"
    },
    "id": "952b7fc8",
    "papermill": {
     "duration": 0.078973,
     "end_time": "2022-07-22T20:09:26.716432",
     "exception": false,
     "start_time": "2022-07-22T20:09:26.637459",
     "status": "completed"
    },
    "tags": []
   },
   "outputs": [],
   "source": [
    "batch_size = 32\n",
    "n_epochs = 1000\n",
    "#Select the device \n",
    "device = torch.device('cuda' if torch.cuda.is_available() else 'cpu')"
   ]
  },
  {
   "cell_type": "markdown",
   "id": "a95e1600",
   "metadata": {
    "id": "a95e1600",
    "papermill": {
     "duration": 0.008562,
     "end_time": "2022-07-22T20:09:26.751608",
     "exception": false,
     "start_time": "2022-07-22T20:09:26.743046",
     "status": "completed"
    },
    "tags": []
   },
   "source": [
    "# ABC Pre-generator Model \n",
    "\n",
    "1. The catboost model is used as a pre-generator model for the ABC-GAN. \n",
    "2. The model is first trained on the entire dataset \n",
    "3. It generats X,Y pairs and we add some Gaussian noise with mean 0 and variance 1 to it which is then feed as input to the generator.\n"
   ]
  },
  {
   "cell_type": "code",
   "execution_count": 9,
   "id": "ff8ce7bd",
   "metadata": {
    "execution": {
     "iopub.execute_input": "2022-07-22T20:09:26.777263Z",
     "iopub.status.busy": "2022-07-22T20:09:26.776876Z",
     "iopub.status.idle": "2022-07-22T20:09:30.795102Z",
     "shell.execute_reply": "2022-07-22T20:09:30.793457Z"
    },
    "id": "ff8ce7bd",
    "papermill": {
     "duration": 4.038961,
     "end_time": "2022-07-22T20:09:30.798428",
     "exception": false,
     "start_time": "2022-07-22T20:09:26.759467",
     "status": "completed"
    },
    "tags": []
   },
   "outputs": [
    {
     "name": "stdout",
     "output_type": "stream",
     "text": [
      "Learning rate set to 0.03548\n",
      "0:\tlearn: 0.9705939\ttotal: 65.3ms\tremaining: 1m 5s\n",
      "1:\tlearn: 0.9509588\ttotal: 67.8ms\tremaining: 33.9s\n",
      "2:\tlearn: 0.9309506\ttotal: 71.4ms\tremaining: 23.7s\n",
      "3:\tlearn: 0.9139138\ttotal: 76.4ms\tremaining: 19s\n",
      "4:\tlearn: 0.8965963\ttotal: 78.7ms\tremaining: 15.7s\n",
      "5:\tlearn: 0.8807182\ttotal: 81.3ms\tremaining: 13.5s\n",
      "6:\tlearn: 0.8632265\ttotal: 83.6ms\tremaining: 11.9s\n",
      "7:\tlearn: 0.8459242\ttotal: 86ms\tremaining: 10.7s\n",
      "8:\tlearn: 0.8303101\ttotal: 88.7ms\tremaining: 9.76s\n",
      "9:\tlearn: 0.8138539\ttotal: 91.1ms\tremaining: 9.01s\n",
      "10:\tlearn: 0.7988362\ttotal: 93.4ms\tremaining: 8.4s\n",
      "11:\tlearn: 0.7845679\ttotal: 95.7ms\tremaining: 7.88s\n",
      "12:\tlearn: 0.7698197\ttotal: 98ms\tremaining: 7.44s\n",
      "13:\tlearn: 0.7544126\ttotal: 100ms\tremaining: 7.07s\n",
      "14:\tlearn: 0.7409490\ttotal: 103ms\tremaining: 6.76s\n",
      "15:\tlearn: 0.7270611\ttotal: 106ms\tremaining: 6.5s\n",
      "16:\tlearn: 0.7158462\ttotal: 108ms\tremaining: 6.26s\n",
      "17:\tlearn: 0.7043395\ttotal: 111ms\tremaining: 6.04s\n",
      "18:\tlearn: 0.6919871\ttotal: 113ms\tremaining: 5.86s\n",
      "19:\tlearn: 0.6798970\ttotal: 116ms\tremaining: 5.67s\n",
      "20:\tlearn: 0.6665576\ttotal: 118ms\tremaining: 5.51s\n",
      "21:\tlearn: 0.6558926\ttotal: 121ms\tremaining: 5.37s\n",
      "22:\tlearn: 0.6460804\ttotal: 123ms\tremaining: 5.24s\n",
      "23:\tlearn: 0.6350205\ttotal: 126ms\tremaining: 5.12s\n",
      "24:\tlearn: 0.6257026\ttotal: 129ms\tremaining: 5.01s\n",
      "25:\tlearn: 0.6164767\ttotal: 132ms\tremaining: 4.93s\n",
      "26:\tlearn: 0.6080672\ttotal: 134ms\tremaining: 4.84s\n",
      "27:\tlearn: 0.6008190\ttotal: 139ms\tremaining: 4.83s\n",
      "28:\tlearn: 0.5922771\ttotal: 142ms\tremaining: 4.75s\n",
      "29:\tlearn: 0.5828176\ttotal: 144ms\tremaining: 4.66s\n",
      "30:\tlearn: 0.5729085\ttotal: 146ms\tremaining: 4.55s\n",
      "31:\tlearn: 0.5650560\ttotal: 148ms\tremaining: 4.49s\n",
      "32:\tlearn: 0.5573121\ttotal: 151ms\tremaining: 4.42s\n",
      "33:\tlearn: 0.5500825\ttotal: 153ms\tremaining: 4.35s\n",
      "34:\tlearn: 0.5429229\ttotal: 156ms\tremaining: 4.29s\n",
      "35:\tlearn: 0.5358987\ttotal: 158ms\tremaining: 4.24s\n",
      "36:\tlearn: 0.5294410\ttotal: 161ms\tremaining: 4.19s\n",
      "37:\tlearn: 0.5225626\ttotal: 164ms\tremaining: 4.14s\n",
      "38:\tlearn: 0.5151047\ttotal: 166ms\tremaining: 4.1s\n"
     ]
    },
    {
     "name": "stdout",
     "output_type": "stream",
     "text": [
      "39:\tlearn: 0.5078424\ttotal: 169ms\tremaining: 4.06s\n",
      "40:\tlearn: 0.5023695\ttotal: 172ms\tremaining: 4.03s\n",
      "41:\tlearn: 0.4953271\ttotal: 174ms\tremaining: 3.98s\n",
      "42:\tlearn: 0.4894176\ttotal: 177ms\tremaining: 3.94s\n",
      "43:\tlearn: 0.4840334\ttotal: 183ms\tremaining: 3.98s\n",
      "44:\tlearn: 0.4790286\ttotal: 188ms\tremaining: 4s\n",
      "45:\tlearn: 0.4723657\ttotal: 193ms\tremaining: 4s\n",
      "46:\tlearn: 0.4672440\ttotal: 195ms\tremaining: 3.96s\n",
      "47:\tlearn: 0.4620388\ttotal: 198ms\tremaining: 3.93s\n",
      "48:\tlearn: 0.4582657\ttotal: 200ms\tremaining: 3.89s\n",
      "49:\tlearn: 0.4543616\ttotal: 203ms\tremaining: 3.86s\n",
      "50:\tlearn: 0.4490734\ttotal: 206ms\tremaining: 3.83s\n",
      "51:\tlearn: 0.4450972\ttotal: 208ms\tremaining: 3.8s\n",
      "52:\tlearn: 0.4413556\ttotal: 211ms\tremaining: 3.77s\n",
      "53:\tlearn: 0.4385616\ttotal: 213ms\tremaining: 3.73s\n",
      "54:\tlearn: 0.4340448\ttotal: 216ms\tremaining: 3.71s\n",
      "55:\tlearn: 0.4298564\ttotal: 218ms\tremaining: 3.68s\n",
      "56:\tlearn: 0.4269462\ttotal: 221ms\tremaining: 3.65s\n",
      "57:\tlearn: 0.4229223\ttotal: 223ms\tremaining: 3.63s\n",
      "58:\tlearn: 0.4193726\ttotal: 226ms\tremaining: 3.6s\n",
      "59:\tlearn: 0.4155764\ttotal: 228ms\tremaining: 3.57s\n",
      "60:\tlearn: 0.4115489\ttotal: 231ms\tremaining: 3.55s\n",
      "61:\tlearn: 0.4073447\ttotal: 233ms\tremaining: 3.53s\n",
      "62:\tlearn: 0.4044914\ttotal: 236ms\tremaining: 3.5s\n",
      "63:\tlearn: 0.4007214\ttotal: 238ms\tremaining: 3.48s\n",
      "64:\tlearn: 0.3982107\ttotal: 241ms\tremaining: 3.46s\n",
      "65:\tlearn: 0.3954982\ttotal: 243ms\tremaining: 3.44s\n",
      "66:\tlearn: 0.3917478\ttotal: 246ms\tremaining: 3.42s\n",
      "67:\tlearn: 0.3889163\ttotal: 249ms\tremaining: 3.41s\n",
      "68:\tlearn: 0.3861105\ttotal: 255ms\tremaining: 3.44s\n",
      "69:\tlearn: 0.3839093\ttotal: 257ms\tremaining: 3.42s\n",
      "70:\tlearn: 0.3807022\ttotal: 261ms\tremaining: 3.41s\n",
      "71:\tlearn: 0.3771142\ttotal: 264ms\tremaining: 3.4s\n",
      "72:\tlearn: 0.3750027\ttotal: 266ms\tremaining: 3.38s\n",
      "73:\tlearn: 0.3718708\ttotal: 269ms\tremaining: 3.37s\n",
      "74:\tlearn: 0.3687444\ttotal: 275ms\tremaining: 3.4s\n",
      "75:\tlearn: 0.3661925\ttotal: 278ms\tremaining: 3.38s\n",
      "76:\tlearn: 0.3634067\ttotal: 280ms\tremaining: 3.36s\n",
      "77:\tlearn: 0.3613281\ttotal: 283ms\tremaining: 3.34s\n",
      "78:\tlearn: 0.3591393\ttotal: 285ms\tremaining: 3.33s\n",
      "79:\tlearn: 0.3566033\ttotal: 288ms\tremaining: 3.31s\n",
      "80:\tlearn: 0.3543647\ttotal: 293ms\tremaining: 3.33s\n",
      "81:\tlearn: 0.3527621\ttotal: 296ms\tremaining: 3.32s\n",
      "82:\tlearn: 0.3505206\ttotal: 299ms\tremaining: 3.31s\n",
      "83:\tlearn: 0.3486789\ttotal: 302ms\tremaining: 3.29s\n",
      "84:\tlearn: 0.3468454\ttotal: 305ms\tremaining: 3.28s\n",
      "85:\tlearn: 0.3449796\ttotal: 307ms\tremaining: 3.26s\n",
      "86:\tlearn: 0.3428319\ttotal: 310ms\tremaining: 3.25s\n",
      "87:\tlearn: 0.3401453\ttotal: 312ms\tremaining: 3.23s\n",
      "88:\tlearn: 0.3378643\ttotal: 315ms\tremaining: 3.22s\n",
      "89:\tlearn: 0.3355121\ttotal: 318ms\tremaining: 3.21s\n",
      "90:\tlearn: 0.3337909\ttotal: 320ms\tremaining: 3.2s\n",
      "91:\tlearn: 0.3317659\ttotal: 322ms\tremaining: 3.18s\n",
      "92:\tlearn: 0.3299592\ttotal: 325ms\tremaining: 3.17s\n",
      "93:\tlearn: 0.3277788\ttotal: 330ms\tremaining: 3.18s\n"
     ]
    },
    {
     "name": "stdout",
     "output_type": "stream",
     "text": [
      "94:\tlearn: 0.3256888\ttotal: 340ms\tremaining: 3.24s\n",
      "95:\tlearn: 0.3243337\ttotal: 342ms\tremaining: 3.22s\n",
      "96:\tlearn: 0.3226732\ttotal: 345ms\tremaining: 3.21s\n",
      "97:\tlearn: 0.3209892\ttotal: 348ms\tremaining: 3.2s\n",
      "98:\tlearn: 0.3195057\ttotal: 350ms\tremaining: 3.19s\n",
      "99:\tlearn: 0.3177159\ttotal: 354ms\tremaining: 3.18s\n",
      "100:\tlearn: 0.3156365\ttotal: 356ms\tremaining: 3.17s\n",
      "101:\tlearn: 0.3136398\ttotal: 358ms\tremaining: 3.15s\n",
      "102:\tlearn: 0.3119807\ttotal: 361ms\tremaining: 3.14s\n",
      "103:\tlearn: 0.3104017\ttotal: 363ms\tremaining: 3.13s\n",
      "104:\tlearn: 0.3092539\ttotal: 366ms\tremaining: 3.12s\n",
      "105:\tlearn: 0.3077231\ttotal: 368ms\tremaining: 3.1s\n",
      "106:\tlearn: 0.3058606\ttotal: 374ms\tremaining: 3.12s\n",
      "107:\tlearn: 0.3045115\ttotal: 379ms\tremaining: 3.13s\n",
      "108:\tlearn: 0.3029885\ttotal: 382ms\tremaining: 3.12s\n",
      "109:\tlearn: 0.3011141\ttotal: 385ms\tremaining: 3.11s\n",
      "110:\tlearn: 0.3000007\ttotal: 388ms\tremaining: 3.1s\n",
      "111:\tlearn: 0.2991006\ttotal: 391ms\tremaining: 3.1s\n",
      "112:\tlearn: 0.2975607\ttotal: 393ms\tremaining: 3.09s\n",
      "113:\tlearn: 0.2957146\ttotal: 396ms\tremaining: 3.08s\n",
      "114:\tlearn: 0.2946497\ttotal: 399ms\tremaining: 3.07s\n",
      "115:\tlearn: 0.2931986\ttotal: 402ms\tremaining: 3.06s\n",
      "116:\tlearn: 0.2918760\ttotal: 407ms\tremaining: 3.07s\n",
      "117:\tlearn: 0.2906121\ttotal: 410ms\tremaining: 3.06s\n",
      "118:\tlearn: 0.2893637\ttotal: 414ms\tremaining: 3.06s\n",
      "119:\tlearn: 0.2884416\ttotal: 419ms\tremaining: 3.07s\n",
      "120:\tlearn: 0.2872834\ttotal: 422ms\tremaining: 3.07s\n",
      "121:\tlearn: 0.2859407\ttotal: 425ms\tremaining: 3.06s\n",
      "122:\tlearn: 0.2852047\ttotal: 428ms\tremaining: 3.05s\n",
      "123:\tlearn: 0.2840250\ttotal: 430ms\tremaining: 3.04s\n",
      "124:\tlearn: 0.2829125\ttotal: 432ms\tremaining: 3.03s\n",
      "125:\tlearn: 0.2818615\ttotal: 434ms\tremaining: 3.01s\n",
      "126:\tlearn: 0.2803512\ttotal: 437ms\tremaining: 3s\n",
      "127:\tlearn: 0.2794944\ttotal: 439ms\tremaining: 2.99s\n",
      "128:\tlearn: 0.2783988\ttotal: 441ms\tremaining: 2.98s\n",
      "129:\tlearn: 0.2773177\ttotal: 444ms\tremaining: 2.97s\n",
      "130:\tlearn: 0.2762469\ttotal: 448ms\tremaining: 2.97s\n",
      "131:\tlearn: 0.2749142\ttotal: 456ms\tremaining: 3s\n",
      "132:\tlearn: 0.2741742\ttotal: 459ms\tremaining: 2.99s\n",
      "133:\tlearn: 0.2731686\ttotal: 463ms\tremaining: 2.99s\n",
      "134:\tlearn: 0.2720289\ttotal: 465ms\tremaining: 2.98s\n",
      "135:\tlearn: 0.2708358\ttotal: 467ms\tremaining: 2.97s\n",
      "136:\tlearn: 0.2699252\ttotal: 470ms\tremaining: 2.96s\n",
      "137:\tlearn: 0.2687675\ttotal: 472ms\tremaining: 2.95s\n",
      "138:\tlearn: 0.2675366\ttotal: 475ms\tremaining: 2.94s\n",
      "139:\tlearn: 0.2663560\ttotal: 478ms\tremaining: 2.94s\n",
      "140:\tlearn: 0.2656668\ttotal: 480ms\tremaining: 2.93s\n",
      "141:\tlearn: 0.2646939\ttotal: 482ms\tremaining: 2.91s\n",
      "142:\tlearn: 0.2637504\ttotal: 487ms\tremaining: 2.92s\n",
      "143:\tlearn: 0.2621738\ttotal: 492ms\tremaining: 2.92s\n",
      "144:\tlearn: 0.2611107\ttotal: 497ms\tremaining: 2.93s\n",
      "145:\tlearn: 0.2602036\ttotal: 504ms\tremaining: 2.95s\n"
     ]
    },
    {
     "name": "stdout",
     "output_type": "stream",
     "text": [
      "146:\tlearn: 0.2591790\ttotal: 507ms\tremaining: 2.94s\n",
      "147:\tlearn: 0.2580990\ttotal: 511ms\tremaining: 2.94s\n",
      "148:\tlearn: 0.2570238\ttotal: 514ms\tremaining: 2.93s\n",
      "149:\tlearn: 0.2564586\ttotal: 516ms\tremaining: 2.92s\n",
      "150:\tlearn: 0.2550611\ttotal: 518ms\tremaining: 2.91s\n",
      "151:\tlearn: 0.2542976\ttotal: 521ms\tremaining: 2.9s\n",
      "152:\tlearn: 0.2534309\ttotal: 523ms\tremaining: 2.9s\n",
      "153:\tlearn: 0.2527265\ttotal: 526ms\tremaining: 2.89s\n",
      "154:\tlearn: 0.2518550\ttotal: 530ms\tremaining: 2.89s\n",
      "155:\tlearn: 0.2508142\ttotal: 533ms\tremaining: 2.88s\n",
      "156:\tlearn: 0.2500016\ttotal: 537ms\tremaining: 2.88s\n",
      "157:\tlearn: 0.2493758\ttotal: 539ms\tremaining: 2.88s\n",
      "158:\tlearn: 0.2483138\ttotal: 542ms\tremaining: 2.87s\n",
      "159:\tlearn: 0.2480273\ttotal: 543ms\tremaining: 2.85s\n",
      "160:\tlearn: 0.2470738\ttotal: 546ms\tremaining: 2.84s\n",
      "161:\tlearn: 0.2461672\ttotal: 548ms\tremaining: 2.83s\n",
      "162:\tlearn: 0.2453898\ttotal: 551ms\tremaining: 2.83s\n",
      "163:\tlearn: 0.2445044\ttotal: 553ms\tremaining: 2.82s\n",
      "164:\tlearn: 0.2437225\ttotal: 556ms\tremaining: 2.81s\n",
      "165:\tlearn: 0.2429108\ttotal: 558ms\tremaining: 2.8s\n",
      "166:\tlearn: 0.2420310\ttotal: 561ms\tremaining: 2.8s\n",
      "167:\tlearn: 0.2409424\ttotal: 563ms\tremaining: 2.79s\n",
      "168:\tlearn: 0.2401955\ttotal: 566ms\tremaining: 2.78s\n",
      "169:\tlearn: 0.2393034\ttotal: 568ms\tremaining: 2.77s\n",
      "170:\tlearn: 0.2383566\ttotal: 571ms\tremaining: 2.77s\n",
      "171:\tlearn: 0.2374873\ttotal: 573ms\tremaining: 2.76s\n",
      "172:\tlearn: 0.2367925\ttotal: 576ms\tremaining: 2.75s\n",
      "173:\tlearn: 0.2360497\ttotal: 578ms\tremaining: 2.75s\n",
      "174:\tlearn: 0.2352702\ttotal: 581ms\tremaining: 2.74s\n",
      "175:\tlearn: 0.2348051\ttotal: 584ms\tremaining: 2.73s\n",
      "176:\tlearn: 0.2340898\ttotal: 586ms\tremaining: 2.73s\n",
      "177:\tlearn: 0.2333130\ttotal: 590ms\tremaining: 2.72s\n",
      "178:\tlearn: 0.2327927\ttotal: 592ms\tremaining: 2.71s\n",
      "179:\tlearn: 0.2322621\ttotal: 594ms\tremaining: 2.71s\n",
      "180:\tlearn: 0.2311839\ttotal: 597ms\tremaining: 2.7s\n",
      "181:\tlearn: 0.2302655\ttotal: 599ms\tremaining: 2.69s\n",
      "182:\tlearn: 0.2296665\ttotal: 602ms\tremaining: 2.69s\n",
      "183:\tlearn: 0.2288954\ttotal: 605ms\tremaining: 2.68s\n",
      "184:\tlearn: 0.2282656\ttotal: 610ms\tremaining: 2.69s\n",
      "185:\tlearn: 0.2274949\ttotal: 612ms\tremaining: 2.68s\n",
      "186:\tlearn: 0.2268659\ttotal: 615ms\tremaining: 2.67s\n",
      "187:\tlearn: 0.2264475\ttotal: 617ms\tremaining: 2.67s\n",
      "188:\tlearn: 0.2258164\ttotal: 620ms\tremaining: 2.66s\n",
      "189:\tlearn: 0.2254823\ttotal: 623ms\tremaining: 2.66s\n",
      "190:\tlearn: 0.2245319\ttotal: 626ms\tremaining: 2.65s\n",
      "191:\tlearn: 0.2238399\ttotal: 628ms\tremaining: 2.64s\n",
      "192:\tlearn: 0.2230312\ttotal: 630ms\tremaining: 2.63s\n",
      "193:\tlearn: 0.2225738\ttotal: 633ms\tremaining: 2.63s\n",
      "194:\tlearn: 0.2218965\ttotal: 635ms\tremaining: 2.62s\n",
      "195:\tlearn: 0.2214103\ttotal: 638ms\tremaining: 2.62s\n",
      "196:\tlearn: 0.2205414\ttotal: 640ms\tremaining: 2.61s\n",
      "197:\tlearn: 0.2198271\ttotal: 642ms\tremaining: 2.6s\n",
      "198:\tlearn: 0.2189878\ttotal: 645ms\tremaining: 2.59s\n",
      "199:\tlearn: 0.2181059\ttotal: 647ms\tremaining: 2.59s\n",
      "200:\tlearn: 0.2174858\ttotal: 649ms\tremaining: 2.58s\n",
      "201:\tlearn: 0.2166395\ttotal: 652ms\tremaining: 2.57s\n",
      "202:\tlearn: 0.2161509\ttotal: 654ms\tremaining: 2.57s\n",
      "203:\tlearn: 0.2152698\ttotal: 657ms\tremaining: 2.56s\n",
      "204:\tlearn: 0.2146194\ttotal: 659ms\tremaining: 2.56s\n",
      "205:\tlearn: 0.2140304\ttotal: 662ms\tremaining: 2.55s\n",
      "206:\tlearn: 0.2134698\ttotal: 665ms\tremaining: 2.55s\n",
      "207:\tlearn: 0.2130941\ttotal: 667ms\tremaining: 2.54s\n",
      "208:\tlearn: 0.2127428\ttotal: 670ms\tremaining: 2.53s\n",
      "209:\tlearn: 0.2121263\ttotal: 672ms\tremaining: 2.53s\n",
      "210:\tlearn: 0.2116141\ttotal: 674ms\tremaining: 2.52s\n",
      "211:\tlearn: 0.2111109\ttotal: 681ms\tremaining: 2.53s\n"
     ]
    },
    {
     "name": "stdout",
     "output_type": "stream",
     "text": [
      "212:\tlearn: 0.2104264\ttotal: 687ms\tremaining: 2.54s\n",
      "213:\tlearn: 0.2096085\ttotal: 689ms\tremaining: 2.53s\n",
      "214:\tlearn: 0.2090281\ttotal: 691ms\tremaining: 2.52s\n",
      "215:\tlearn: 0.2083533\ttotal: 694ms\tremaining: 2.52s\n",
      "216:\tlearn: 0.2081736\ttotal: 696ms\tremaining: 2.51s\n",
      "217:\tlearn: 0.2075271\ttotal: 699ms\tremaining: 2.51s\n",
      "218:\tlearn: 0.2073347\ttotal: 708ms\tremaining: 2.52s\n",
      "219:\tlearn: 0.2069625\ttotal: 711ms\tremaining: 2.52s\n",
      "220:\tlearn: 0.2064244\ttotal: 714ms\tremaining: 2.52s\n",
      "221:\tlearn: 0.2058941\ttotal: 717ms\tremaining: 2.51s\n",
      "222:\tlearn: 0.2053256\ttotal: 720ms\tremaining: 2.51s\n",
      "223:\tlearn: 0.2043687\ttotal: 723ms\tremaining: 2.5s\n",
      "224:\tlearn: 0.2040626\ttotal: 725ms\tremaining: 2.5s\n",
      "225:\tlearn: 0.2038345\ttotal: 728ms\tremaining: 2.49s\n",
      "226:\tlearn: 0.2031671\ttotal: 730ms\tremaining: 2.49s\n",
      "227:\tlearn: 0.2025716\ttotal: 733ms\tremaining: 2.48s\n",
      "228:\tlearn: 0.2020104\ttotal: 735ms\tremaining: 2.47s\n",
      "229:\tlearn: 0.2013690\ttotal: 738ms\tremaining: 2.47s\n",
      "230:\tlearn: 0.2009082\ttotal: 741ms\tremaining: 2.47s\n",
      "231:\tlearn: 0.2002803\ttotal: 744ms\tremaining: 2.46s\n",
      "232:\tlearn: 0.1999109\ttotal: 746ms\tremaining: 2.46s\n",
      "233:\tlearn: 0.1991738\ttotal: 749ms\tremaining: 2.45s\n",
      "234:\tlearn: 0.1984813\ttotal: 752ms\tremaining: 2.45s\n",
      "235:\tlearn: 0.1982566\ttotal: 754ms\tremaining: 2.44s\n",
      "236:\tlearn: 0.1979792\ttotal: 757ms\tremaining: 2.44s\n",
      "237:\tlearn: 0.1978189\ttotal: 759ms\tremaining: 2.43s\n",
      "238:\tlearn: 0.1972330\ttotal: 762ms\tremaining: 2.42s\n",
      "239:\tlearn: 0.1966857\ttotal: 764ms\tremaining: 2.42s\n",
      "240:\tlearn: 0.1964336\ttotal: 766ms\tremaining: 2.41s\n",
      "241:\tlearn: 0.1959447\ttotal: 769ms\tremaining: 2.41s\n",
      "242:\tlearn: 0.1955022\ttotal: 772ms\tremaining: 2.4s\n",
      "243:\tlearn: 0.1950517\ttotal: 774ms\tremaining: 2.4s\n",
      "244:\tlearn: 0.1947046\ttotal: 777ms\tremaining: 2.39s\n",
      "245:\tlearn: 0.1943775\ttotal: 779ms\tremaining: 2.39s\n",
      "246:\tlearn: 0.1941698\ttotal: 782ms\tremaining: 2.38s\n",
      "247:\tlearn: 0.1936616\ttotal: 792ms\tremaining: 2.4s\n",
      "248:\tlearn: 0.1931507\ttotal: 795ms\tremaining: 2.4s\n",
      "249:\tlearn: 0.1927123\ttotal: 798ms\tremaining: 2.39s\n",
      "250:\tlearn: 0.1921472\ttotal: 800ms\tremaining: 2.39s\n",
      "251:\tlearn: 0.1914787\ttotal: 802ms\tremaining: 2.38s\n",
      "252:\tlearn: 0.1909244\ttotal: 805ms\tremaining: 2.38s\n",
      "253:\tlearn: 0.1904959\ttotal: 807ms\tremaining: 2.37s\n",
      "254:\tlearn: 0.1896871\ttotal: 810ms\tremaining: 2.37s\n",
      "255:\tlearn: 0.1894893\ttotal: 812ms\tremaining: 2.36s\n",
      "256:\tlearn: 0.1888842\ttotal: 815ms\tremaining: 2.35s\n",
      "257:\tlearn: 0.1883750\ttotal: 817ms\tremaining: 2.35s\n",
      "258:\tlearn: 0.1879255\ttotal: 819ms\tremaining: 2.34s\n",
      "259:\tlearn: 0.1873182\ttotal: 822ms\tremaining: 2.34s\n",
      "260:\tlearn: 0.1868507\ttotal: 825ms\tremaining: 2.33s\n",
      "261:\tlearn: 0.1864214\ttotal: 827ms\tremaining: 2.33s\n",
      "262:\tlearn: 0.1859049\ttotal: 830ms\tremaining: 2.33s\n",
      "263:\tlearn: 0.1857615\ttotal: 832ms\tremaining: 2.32s\n",
      "264:\tlearn: 0.1853911\ttotal: 835ms\tremaining: 2.31s\n",
      "265:\tlearn: 0.1852422\ttotal: 837ms\tremaining: 2.31s\n",
      "266:\tlearn: 0.1846074\ttotal: 840ms\tremaining: 2.3s\n",
      "267:\tlearn: 0.1844416\ttotal: 842ms\tremaining: 2.3s\n",
      "268:\tlearn: 0.1840295\ttotal: 844ms\tremaining: 2.29s\n",
      "269:\tlearn: 0.1834510\ttotal: 847ms\tremaining: 2.29s\n",
      "270:\tlearn: 0.1830869\ttotal: 849ms\tremaining: 2.28s\n",
      "271:\tlearn: 0.1829485\ttotal: 851ms\tremaining: 2.28s\n",
      "272:\tlearn: 0.1824997\ttotal: 854ms\tremaining: 2.27s\n",
      "273:\tlearn: 0.1819630\ttotal: 856ms\tremaining: 2.27s\n"
     ]
    },
    {
     "name": "stdout",
     "output_type": "stream",
     "text": [
      "274:\tlearn: 0.1814981\ttotal: 859ms\tremaining: 2.26s\n",
      "275:\tlearn: 0.1812616\ttotal: 862ms\tremaining: 2.26s\n",
      "276:\tlearn: 0.1809959\ttotal: 870ms\tremaining: 2.27s\n",
      "277:\tlearn: 0.1804046\ttotal: 873ms\tremaining: 2.27s\n",
      "278:\tlearn: 0.1798923\ttotal: 881ms\tremaining: 2.28s\n",
      "279:\tlearn: 0.1793619\ttotal: 884ms\tremaining: 2.27s\n",
      "280:\tlearn: 0.1788794\ttotal: 886ms\tremaining: 2.27s\n",
      "281:\tlearn: 0.1784496\ttotal: 888ms\tremaining: 2.26s\n",
      "282:\tlearn: 0.1781522\ttotal: 891ms\tremaining: 2.26s\n",
      "283:\tlearn: 0.1775575\ttotal: 893ms\tremaining: 2.25s\n",
      "284:\tlearn: 0.1772790\ttotal: 896ms\tremaining: 2.25s\n",
      "285:\tlearn: 0.1769144\ttotal: 898ms\tremaining: 2.24s\n",
      "286:\tlearn: 0.1764824\ttotal: 901ms\tremaining: 2.24s\n",
      "287:\tlearn: 0.1761064\ttotal: 903ms\tremaining: 2.23s\n",
      "288:\tlearn: 0.1756054\ttotal: 905ms\tremaining: 2.23s\n",
      "289:\tlearn: 0.1751834\ttotal: 908ms\tremaining: 2.22s\n",
      "290:\tlearn: 0.1750213\ttotal: 910ms\tremaining: 2.22s\n",
      "291:\tlearn: 0.1743739\ttotal: 913ms\tremaining: 2.21s\n",
      "292:\tlearn: 0.1739476\ttotal: 916ms\tremaining: 2.21s\n",
      "293:\tlearn: 0.1734990\ttotal: 939ms\tremaining: 2.25s\n",
      "294:\tlearn: 0.1733290\ttotal: 941ms\tremaining: 2.25s\n",
      "295:\tlearn: 0.1730217\ttotal: 943ms\tremaining: 2.24s\n",
      "296:\tlearn: 0.1725798\ttotal: 946ms\tremaining: 2.24s\n",
      "297:\tlearn: 0.1724588\ttotal: 948ms\tremaining: 2.23s\n",
      "298:\tlearn: 0.1720770\ttotal: 951ms\tremaining: 2.23s\n",
      "299:\tlearn: 0.1716285\ttotal: 954ms\tremaining: 2.22s\n",
      "300:\tlearn: 0.1714959\ttotal: 956ms\tremaining: 2.22s\n",
      "301:\tlearn: 0.1712712\ttotal: 959ms\tremaining: 2.22s\n",
      "302:\tlearn: 0.1711399\ttotal: 978ms\tremaining: 2.25s\n",
      "303:\tlearn: 0.1708172\ttotal: 980ms\tremaining: 2.24s\n",
      "304:\tlearn: 0.1707003\ttotal: 982ms\tremaining: 2.24s\n"
     ]
    },
    {
     "name": "stdout",
     "output_type": "stream",
     "text": [
      "305:\tlearn: 0.1704171\ttotal: 985ms\tremaining: 2.23s\n",
      "306:\tlearn: 0.1701955\ttotal: 989ms\tremaining: 2.23s\n",
      "307:\tlearn: 0.1697883\ttotal: 995ms\tremaining: 2.24s\n",
      "308:\tlearn: 0.1696958\ttotal: 999ms\tremaining: 2.23s\n",
      "309:\tlearn: 0.1695497\ttotal: 1s\tremaining: 2.23s\n",
      "310:\tlearn: 0.1694469\ttotal: 1s\tremaining: 2.22s\n",
      "311:\tlearn: 0.1691303\ttotal: 1.01s\tremaining: 2.22s\n",
      "312:\tlearn: 0.1687906\ttotal: 1.01s\tremaining: 2.21s\n",
      "313:\tlearn: 0.1684266\ttotal: 1.01s\tremaining: 2.21s\n",
      "314:\tlearn: 0.1680443\ttotal: 1.01s\tremaining: 2.2s\n",
      "315:\tlearn: 0.1675313\ttotal: 1.01s\tremaining: 2.2s\n",
      "316:\tlearn: 0.1671687\ttotal: 1.02s\tremaining: 2.19s\n",
      "317:\tlearn: 0.1666491\ttotal: 1.02s\tremaining: 2.19s\n",
      "318:\tlearn: 0.1661677\ttotal: 1.02s\tremaining: 2.19s\n",
      "319:\tlearn: 0.1659835\ttotal: 1.03s\tremaining: 2.18s\n",
      "320:\tlearn: 0.1654205\ttotal: 1.03s\tremaining: 2.18s\n",
      "321:\tlearn: 0.1649587\ttotal: 1.03s\tremaining: 2.17s\n",
      "322:\tlearn: 0.1646750\ttotal: 1.03s\tremaining: 2.17s\n",
      "323:\tlearn: 0.1643472\ttotal: 1.04s\tremaining: 2.16s\n",
      "324:\tlearn: 0.1639701\ttotal: 1.04s\tremaining: 2.16s\n",
      "325:\tlearn: 0.1635412\ttotal: 1.04s\tremaining: 2.15s\n",
      "326:\tlearn: 0.1631305\ttotal: 1.04s\tremaining: 2.15s\n",
      "327:\tlearn: 0.1626202\ttotal: 1.05s\tremaining: 2.14s\n",
      "328:\tlearn: 0.1621225\ttotal: 1.05s\tremaining: 2.14s\n",
      "329:\tlearn: 0.1617113\ttotal: 1.05s\tremaining: 2.13s\n",
      "330:\tlearn: 0.1615596\ttotal: 1.05s\tremaining: 2.13s\n",
      "331:\tlearn: 0.1610695\ttotal: 1.05s\tremaining: 2.12s\n",
      "332:\tlearn: 0.1605161\ttotal: 1.06s\tremaining: 2.12s\n",
      "333:\tlearn: 0.1599898\ttotal: 1.06s\tremaining: 2.11s\n",
      "334:\tlearn: 0.1598466\ttotal: 1.06s\tremaining: 2.11s\n",
      "335:\tlearn: 0.1595603\ttotal: 1.06s\tremaining: 2.1s\n",
      "336:\tlearn: 0.1592591\ttotal: 1.07s\tremaining: 2.1s\n",
      "337:\tlearn: 0.1591639\ttotal: 1.07s\tremaining: 2.1s\n",
      "338:\tlearn: 0.1590488\ttotal: 1.07s\tremaining: 2.09s\n",
      "339:\tlearn: 0.1585898\ttotal: 1.08s\tremaining: 2.1s\n",
      "340:\tlearn: 0.1584732\ttotal: 1.08s\tremaining: 2.1s\n",
      "341:\tlearn: 0.1580349\ttotal: 1.09s\tremaining: 2.1s\n",
      "342:\tlearn: 0.1579458\ttotal: 1.09s\tremaining: 2.09s\n",
      "343:\tlearn: 0.1578553\ttotal: 1.1s\tremaining: 2.09s\n",
      "344:\tlearn: 0.1575260\ttotal: 1.1s\tremaining: 2.09s\n",
      "345:\tlearn: 0.1574401\ttotal: 1.11s\tremaining: 2.1s\n",
      "346:\tlearn: 0.1573569\ttotal: 1.11s\tremaining: 2.1s\n"
     ]
    },
    {
     "name": "stdout",
     "output_type": "stream",
     "text": [
      "347:\tlearn: 0.1568878\ttotal: 1.14s\tremaining: 2.14s\n",
      "348:\tlearn: 0.1563503\ttotal: 1.15s\tremaining: 2.14s\n",
      "349:\tlearn: 0.1561138\ttotal: 1.15s\tremaining: 2.13s\n",
      "350:\tlearn: 0.1557378\ttotal: 1.15s\tremaining: 2.13s\n",
      "351:\tlearn: 0.1556562\ttotal: 1.15s\tremaining: 2.13s\n",
      "352:\tlearn: 0.1553495\ttotal: 1.16s\tremaining: 2.12s\n",
      "353:\tlearn: 0.1549892\ttotal: 1.16s\tremaining: 2.12s\n",
      "354:\tlearn: 0.1547398\ttotal: 1.16s\tremaining: 2.11s\n",
      "355:\tlearn: 0.1543885\ttotal: 1.16s\tremaining: 2.11s\n",
      "356:\tlearn: 0.1540904\ttotal: 1.17s\tremaining: 2.1s\n",
      "357:\tlearn: 0.1540265\ttotal: 1.17s\tremaining: 2.1s\n",
      "358:\tlearn: 0.1536330\ttotal: 1.19s\tremaining: 2.12s\n",
      "359:\tlearn: 0.1535614\ttotal: 1.19s\tremaining: 2.12s\n",
      "360:\tlearn: 0.1533960\ttotal: 1.2s\tremaining: 2.12s\n",
      "361:\tlearn: 0.1532720\ttotal: 1.2s\tremaining: 2.11s\n",
      "362:\tlearn: 0.1530427\ttotal: 1.2s\tremaining: 2.1s\n",
      "363:\tlearn: 0.1525670\ttotal: 1.2s\tremaining: 2.1s\n",
      "364:\tlearn: 0.1523148\ttotal: 1.2s\tremaining: 2.1s\n",
      "365:\tlearn: 0.1520945\ttotal: 1.21s\tremaining: 2.09s\n",
      "366:\tlearn: 0.1520026\ttotal: 1.21s\tremaining: 2.09s\n",
      "367:\tlearn: 0.1516075\ttotal: 1.21s\tremaining: 2.09s\n",
      "368:\tlearn: 0.1515259\ttotal: 1.22s\tremaining: 2.09s\n",
      "369:\tlearn: 0.1514227\ttotal: 1.24s\tremaining: 2.11s\n",
      "370:\tlearn: 0.1510898\ttotal: 1.24s\tremaining: 2.1s\n",
      "371:\tlearn: 0.1507106\ttotal: 1.24s\tremaining: 2.1s\n",
      "372:\tlearn: 0.1503351\ttotal: 1.25s\tremaining: 2.09s\n",
      "373:\tlearn: 0.1501900\ttotal: 1.25s\tremaining: 2.09s\n",
      "374:\tlearn: 0.1498206\ttotal: 1.25s\tremaining: 2.08s\n",
      "375:\tlearn: 0.1494234\ttotal: 1.25s\tremaining: 2.08s\n",
      "376:\tlearn: 0.1492029\ttotal: 1.25s\tremaining: 2.07s\n",
      "377:\tlearn: 0.1491167\ttotal: 1.26s\tremaining: 2.07s\n",
      "378:\tlearn: 0.1488352\ttotal: 1.26s\tremaining: 2.06s\n",
      "379:\tlearn: 0.1484074\ttotal: 1.26s\tremaining: 2.06s\n",
      "380:\tlearn: 0.1481186\ttotal: 1.26s\tremaining: 2.06s\n",
      "381:\tlearn: 0.1479947\ttotal: 1.27s\tremaining: 2.05s\n",
      "382:\tlearn: 0.1479242\ttotal: 1.27s\tremaining: 2.04s\n",
      "383:\tlearn: 0.1475948\ttotal: 1.27s\tremaining: 2.04s\n",
      "384:\tlearn: 0.1475326\ttotal: 1.27s\tremaining: 2.04s\n",
      "385:\tlearn: 0.1471920\ttotal: 1.28s\tremaining: 2.03s\n",
      "386:\tlearn: 0.1469399\ttotal: 1.28s\tremaining: 2.02s\n",
      "387:\tlearn: 0.1467990\ttotal: 1.28s\tremaining: 2.02s\n",
      "388:\tlearn: 0.1466245\ttotal: 1.28s\tremaining: 2.02s\n",
      "389:\tlearn: 0.1464360\ttotal: 1.28s\tremaining: 2.01s\n",
      "390:\tlearn: 0.1462062\ttotal: 1.29s\tremaining: 2.01s\n",
      "391:\tlearn: 0.1457830\ttotal: 1.29s\tremaining: 2s\n",
      "392:\tlearn: 0.1456338\ttotal: 1.29s\tremaining: 2s\n",
      "393:\tlearn: 0.1453643\ttotal: 1.29s\tremaining: 1.99s\n",
      "394:\tlearn: 0.1449776\ttotal: 1.3s\tremaining: 1.99s\n",
      "395:\tlearn: 0.1446722\ttotal: 1.31s\tremaining: 2s\n",
      "396:\tlearn: 0.1443556\ttotal: 1.31s\tremaining: 1.99s\n",
      "397:\tlearn: 0.1440769\ttotal: 1.31s\tremaining: 1.99s\n"
     ]
    },
    {
     "name": "stdout",
     "output_type": "stream",
     "text": [
      "398:\tlearn: 0.1439578\ttotal: 1.32s\tremaining: 1.99s\n",
      "399:\tlearn: 0.1436188\ttotal: 1.32s\tremaining: 1.98s\n",
      "400:\tlearn: 0.1434866\ttotal: 1.32s\tremaining: 1.98s\n",
      "401:\tlearn: 0.1431893\ttotal: 1.32s\tremaining: 1.97s\n",
      "402:\tlearn: 0.1428105\ttotal: 1.33s\tremaining: 1.97s\n",
      "403:\tlearn: 0.1426854\ttotal: 1.33s\tremaining: 1.96s\n",
      "404:\tlearn: 0.1425736\ttotal: 1.33s\tremaining: 1.96s\n",
      "405:\tlearn: 0.1424999\ttotal: 1.33s\tremaining: 1.95s\n",
      "406:\tlearn: 0.1424012\ttotal: 1.34s\tremaining: 1.96s\n",
      "407:\tlearn: 0.1420038\ttotal: 1.34s\tremaining: 1.95s\n",
      "408:\tlearn: 0.1417497\ttotal: 1.35s\tremaining: 1.95s\n",
      "409:\tlearn: 0.1413684\ttotal: 1.35s\tremaining: 1.95s\n",
      "410:\tlearn: 0.1412124\ttotal: 1.35s\tremaining: 1.94s\n",
      "411:\tlearn: 0.1410654\ttotal: 1.36s\tremaining: 1.94s\n",
      "412:\tlearn: 0.1408559\ttotal: 1.36s\tremaining: 1.93s\n",
      "413:\tlearn: 0.1404622\ttotal: 1.36s\tremaining: 1.93s\n",
      "414:\tlearn: 0.1401561\ttotal: 1.36s\tremaining: 1.92s\n",
      "415:\tlearn: 0.1398032\ttotal: 1.37s\tremaining: 1.92s\n",
      "416:\tlearn: 0.1394294\ttotal: 1.37s\tremaining: 1.91s\n",
      "417:\tlearn: 0.1393869\ttotal: 1.39s\tremaining: 1.93s\n",
      "418:\tlearn: 0.1391640\ttotal: 1.39s\tremaining: 1.93s\n",
      "419:\tlearn: 0.1389274\ttotal: 1.39s\tremaining: 1.92s\n",
      "420:\tlearn: 0.1388349\ttotal: 1.4s\tremaining: 1.92s\n",
      "421:\tlearn: 0.1384486\ttotal: 1.4s\tremaining: 1.92s\n",
      "422:\tlearn: 0.1383785\ttotal: 1.4s\tremaining: 1.91s\n",
      "423:\tlearn: 0.1382950\ttotal: 1.4s\tremaining: 1.91s\n",
      "424:\tlearn: 0.1378886\ttotal: 1.41s\tremaining: 1.9s\n",
      "425:\tlearn: 0.1375629\ttotal: 1.41s\tremaining: 1.9s\n",
      "426:\tlearn: 0.1374943\ttotal: 1.41s\tremaining: 1.89s\n",
      "427:\tlearn: 0.1374155\ttotal: 1.41s\tremaining: 1.89s\n",
      "428:\tlearn: 0.1370476\ttotal: 1.42s\tremaining: 1.89s\n",
      "429:\tlearn: 0.1366899\ttotal: 1.42s\tremaining: 1.88s\n",
      "430:\tlearn: 0.1363900\ttotal: 1.42s\tremaining: 1.88s\n",
      "431:\tlearn: 0.1360261\ttotal: 1.43s\tremaining: 1.88s\n",
      "432:\tlearn: 0.1357217\ttotal: 1.43s\tremaining: 1.88s\n",
      "433:\tlearn: 0.1354255\ttotal: 1.44s\tremaining: 1.88s\n",
      "434:\tlearn: 0.1350557\ttotal: 1.44s\tremaining: 1.88s\n",
      "435:\tlearn: 0.1347767\ttotal: 1.45s\tremaining: 1.87s\n",
      "436:\tlearn: 0.1343722\ttotal: 1.45s\tremaining: 1.87s\n",
      "437:\tlearn: 0.1340071\ttotal: 1.45s\tremaining: 1.86s\n",
      "438:\tlearn: 0.1337853\ttotal: 1.45s\tremaining: 1.86s\n",
      "439:\tlearn: 0.1334886\ttotal: 1.46s\tremaining: 1.85s\n",
      "440:\tlearn: 0.1333276\ttotal: 1.46s\tremaining: 1.85s\n",
      "441:\tlearn: 0.1330886\ttotal: 1.46s\tremaining: 1.85s\n",
      "442:\tlearn: 0.1327024\ttotal: 1.47s\tremaining: 1.84s\n",
      "443:\tlearn: 0.1324349\ttotal: 1.47s\tremaining: 1.84s\n",
      "444:\tlearn: 0.1321772\ttotal: 1.47s\tremaining: 1.83s\n",
      "445:\tlearn: 0.1318486\ttotal: 1.47s\tremaining: 1.83s\n",
      "446:\tlearn: 0.1315626\ttotal: 1.48s\tremaining: 1.83s\n",
      "447:\tlearn: 0.1314682\ttotal: 1.48s\tremaining: 1.82s\n",
      "448:\tlearn: 0.1311606\ttotal: 1.48s\tremaining: 1.82s\n"
     ]
    },
    {
     "name": "stdout",
     "output_type": "stream",
     "text": [
      "449:\tlearn: 0.1311010\ttotal: 1.48s\tremaining: 1.81s\n",
      "450:\tlearn: 0.1310370\ttotal: 1.49s\tremaining: 1.81s\n",
      "451:\tlearn: 0.1306881\ttotal: 1.49s\tremaining: 1.8s\n",
      "452:\tlearn: 0.1304089\ttotal: 1.49s\tremaining: 1.8s\n",
      "453:\tlearn: 0.1300396\ttotal: 1.49s\tremaining: 1.8s\n",
      "454:\tlearn: 0.1296739\ttotal: 1.5s\tremaining: 1.79s\n",
      "455:\tlearn: 0.1295703\ttotal: 1.5s\tremaining: 1.79s\n",
      "456:\tlearn: 0.1293887\ttotal: 1.5s\tremaining: 1.78s\n",
      "457:\tlearn: 0.1291716\ttotal: 1.5s\tremaining: 1.78s\n",
      "458:\tlearn: 0.1290898\ttotal: 1.51s\tremaining: 1.78s\n",
      "459:\tlearn: 0.1290187\ttotal: 1.51s\tremaining: 1.78s\n",
      "460:\tlearn: 0.1288289\ttotal: 1.52s\tremaining: 1.77s\n",
      "461:\tlearn: 0.1287464\ttotal: 1.52s\tremaining: 1.77s\n",
      "462:\tlearn: 0.1286248\ttotal: 1.52s\tremaining: 1.77s\n",
      "463:\tlearn: 0.1283138\ttotal: 1.53s\tremaining: 1.76s\n",
      "464:\tlearn: 0.1281044\ttotal: 1.53s\tremaining: 1.76s\n",
      "465:\tlearn: 0.1277288\ttotal: 1.53s\tremaining: 1.75s\n",
      "466:\tlearn: 0.1276262\ttotal: 1.53s\tremaining: 1.75s\n",
      "467:\tlearn: 0.1275444\ttotal: 1.54s\tremaining: 1.75s\n",
      "468:\tlearn: 0.1273170\ttotal: 1.55s\tremaining: 1.76s\n",
      "469:\tlearn: 0.1270689\ttotal: 1.57s\tremaining: 1.77s\n",
      "470:\tlearn: 0.1267484\ttotal: 1.57s\tremaining: 1.76s\n",
      "471:\tlearn: 0.1266927\ttotal: 1.57s\tremaining: 1.76s\n",
      "472:\tlearn: 0.1266472\ttotal: 1.57s\tremaining: 1.75s\n",
      "473:\tlearn: 0.1263951\ttotal: 1.58s\tremaining: 1.75s\n",
      "474:\tlearn: 0.1261148\ttotal: 1.58s\tremaining: 1.75s\n",
      "475:\tlearn: 0.1260848\ttotal: 1.59s\tremaining: 1.75s\n",
      "476:\tlearn: 0.1258206\ttotal: 1.59s\tremaining: 1.74s\n",
      "477:\tlearn: 0.1254079\ttotal: 1.59s\tremaining: 1.74s\n",
      "478:\tlearn: 0.1251534\ttotal: 1.6s\tremaining: 1.74s\n",
      "479:\tlearn: 0.1248966\ttotal: 1.6s\tremaining: 1.73s\n",
      "480:\tlearn: 0.1246562\ttotal: 1.6s\tremaining: 1.73s\n",
      "481:\tlearn: 0.1243213\ttotal: 1.61s\tremaining: 1.73s\n",
      "482:\tlearn: 0.1240357\ttotal: 1.61s\tremaining: 1.72s\n",
      "483:\tlearn: 0.1237315\ttotal: 1.61s\tremaining: 1.72s\n",
      "484:\tlearn: 0.1234623\ttotal: 1.61s\tremaining: 1.71s\n",
      "485:\tlearn: 0.1232007\ttotal: 1.62s\tremaining: 1.71s\n",
      "486:\tlearn: 0.1231625\ttotal: 1.62s\tremaining: 1.71s\n",
      "487:\tlearn: 0.1229262\ttotal: 1.62s\tremaining: 1.7s\n",
      "488:\tlearn: 0.1227109\ttotal: 1.63s\tremaining: 1.7s\n",
      "489:\tlearn: 0.1224045\ttotal: 1.63s\tremaining: 1.7s\n",
      "490:\tlearn: 0.1221104\ttotal: 1.63s\tremaining: 1.69s\n",
      "491:\tlearn: 0.1220789\ttotal: 1.64s\tremaining: 1.69s\n"
     ]
    },
    {
     "name": "stdout",
     "output_type": "stream",
     "text": [
      "492:\tlearn: 0.1218506\ttotal: 1.64s\tremaining: 1.68s\n",
      "493:\tlearn: 0.1216836\ttotal: 1.64s\tremaining: 1.68s\n",
      "494:\tlearn: 0.1216061\ttotal: 1.64s\tremaining: 1.68s\n",
      "495:\tlearn: 0.1215280\ttotal: 1.65s\tremaining: 1.67s\n",
      "496:\tlearn: 0.1214684\ttotal: 1.65s\tremaining: 1.67s\n",
      "497:\tlearn: 0.1212186\ttotal: 1.65s\tremaining: 1.67s\n",
      "498:\tlearn: 0.1208944\ttotal: 1.66s\tremaining: 1.66s\n",
      "499:\tlearn: 0.1205786\ttotal: 1.66s\tremaining: 1.66s\n",
      "500:\tlearn: 0.1203676\ttotal: 1.66s\tremaining: 1.66s\n",
      "501:\tlearn: 0.1201011\ttotal: 1.67s\tremaining: 1.65s\n",
      "502:\tlearn: 0.1198235\ttotal: 1.67s\tremaining: 1.65s\n",
      "503:\tlearn: 0.1195638\ttotal: 1.67s\tremaining: 1.64s\n",
      "504:\tlearn: 0.1193658\ttotal: 1.67s\tremaining: 1.64s\n",
      "505:\tlearn: 0.1191520\ttotal: 1.68s\tremaining: 1.64s\n",
      "506:\tlearn: 0.1190971\ttotal: 1.68s\tremaining: 1.63s\n",
      "507:\tlearn: 0.1188933\ttotal: 1.68s\tremaining: 1.63s\n",
      "508:\tlearn: 0.1187561\ttotal: 1.68s\tremaining: 1.62s\n",
      "509:\tlearn: 0.1187105\ttotal: 1.69s\tremaining: 1.62s\n",
      "510:\tlearn: 0.1186752\ttotal: 1.69s\tremaining: 1.62s\n",
      "511:\tlearn: 0.1184658\ttotal: 1.69s\tremaining: 1.61s\n",
      "512:\tlearn: 0.1181735\ttotal: 1.7s\tremaining: 1.61s\n",
      "513:\tlearn: 0.1179503\ttotal: 1.71s\tremaining: 1.61s\n",
      "514:\tlearn: 0.1176834\ttotal: 1.71s\tremaining: 1.61s\n",
      "515:\tlearn: 0.1176503\ttotal: 1.71s\tremaining: 1.61s\n",
      "516:\tlearn: 0.1173564\ttotal: 1.72s\tremaining: 1.6s\n",
      "517:\tlearn: 0.1173142\ttotal: 1.72s\tremaining: 1.6s\n",
      "518:\tlearn: 0.1170736\ttotal: 1.72s\tremaining: 1.59s\n",
      "519:\tlearn: 0.1168866\ttotal: 1.72s\tremaining: 1.59s\n",
      "520:\tlearn: 0.1167470\ttotal: 1.72s\tremaining: 1.58s\n",
      "521:\tlearn: 0.1164604\ttotal: 1.73s\tremaining: 1.58s\n",
      "522:\tlearn: 0.1163420\ttotal: 1.73s\tremaining: 1.58s\n",
      "523:\tlearn: 0.1160607\ttotal: 1.73s\tremaining: 1.57s\n",
      "524:\tlearn: 0.1158148\ttotal: 1.73s\tremaining: 1.57s\n",
      "525:\tlearn: 0.1156312\ttotal: 1.74s\tremaining: 1.56s\n",
      "526:\tlearn: 0.1153654\ttotal: 1.74s\tremaining: 1.56s\n",
      "527:\tlearn: 0.1151841\ttotal: 1.74s\tremaining: 1.56s\n",
      "528:\tlearn: 0.1148743\ttotal: 1.74s\tremaining: 1.55s\n",
      "529:\tlearn: 0.1147246\ttotal: 1.75s\tremaining: 1.55s\n",
      "530:\tlearn: 0.1146905\ttotal: 1.75s\tremaining: 1.54s\n",
      "531:\tlearn: 0.1145599\ttotal: 1.75s\tremaining: 1.54s\n",
      "532:\tlearn: 0.1145269\ttotal: 1.75s\tremaining: 1.54s\n",
      "533:\tlearn: 0.1143854\ttotal: 1.76s\tremaining: 1.53s\n",
      "534:\tlearn: 0.1139892\ttotal: 1.76s\tremaining: 1.53s\n",
      "535:\tlearn: 0.1136758\ttotal: 1.76s\tremaining: 1.52s\n",
      "536:\tlearn: 0.1135800\ttotal: 1.76s\tremaining: 1.52s\n",
      "537:\tlearn: 0.1135422\ttotal: 1.77s\tremaining: 1.52s\n",
      "538:\tlearn: 0.1131630\ttotal: 1.77s\tremaining: 1.51s\n",
      "539:\tlearn: 0.1131009\ttotal: 1.77s\tremaining: 1.51s\n",
      "540:\tlearn: 0.1129047\ttotal: 1.77s\tremaining: 1.5s\n",
      "541:\tlearn: 0.1127480\ttotal: 1.78s\tremaining: 1.5s\n",
      "542:\tlearn: 0.1125185\ttotal: 1.78s\tremaining: 1.5s\n",
      "543:\tlearn: 0.1123403\ttotal: 1.78s\tremaining: 1.49s\n",
      "544:\tlearn: 0.1120392\ttotal: 1.78s\tremaining: 1.49s\n",
      "545:\tlearn: 0.1119326\ttotal: 1.79s\tremaining: 1.49s\n",
      "546:\tlearn: 0.1117370\ttotal: 1.79s\tremaining: 1.48s\n",
      "547:\tlearn: 0.1114221\ttotal: 1.79s\tremaining: 1.48s\n",
      "548:\tlearn: 0.1111507\ttotal: 1.79s\tremaining: 1.47s\n",
      "549:\tlearn: 0.1108737\ttotal: 1.8s\tremaining: 1.47s\n",
      "550:\tlearn: 0.1105705\ttotal: 1.8s\tremaining: 1.47s\n",
      "551:\tlearn: 0.1102356\ttotal: 1.8s\tremaining: 1.46s\n",
      "552:\tlearn: 0.1102074\ttotal: 1.8s\tremaining: 1.46s\n"
     ]
    },
    {
     "name": "stdout",
     "output_type": "stream",
     "text": [
      "553:\tlearn: 0.1101829\ttotal: 1.81s\tremaining: 1.45s\n",
      "554:\tlearn: 0.1099271\ttotal: 1.81s\tremaining: 1.45s\n",
      "555:\tlearn: 0.1098987\ttotal: 1.81s\tremaining: 1.45s\n",
      "556:\tlearn: 0.1097933\ttotal: 1.81s\tremaining: 1.44s\n",
      "557:\tlearn: 0.1094939\ttotal: 1.82s\tremaining: 1.44s\n",
      "558:\tlearn: 0.1092256\ttotal: 1.82s\tremaining: 1.44s\n",
      "559:\tlearn: 0.1090106\ttotal: 1.82s\tremaining: 1.43s\n",
      "560:\tlearn: 0.1088122\ttotal: 1.83s\tremaining: 1.43s\n",
      "561:\tlearn: 0.1086380\ttotal: 1.83s\tremaining: 1.43s\n",
      "562:\tlearn: 0.1085966\ttotal: 1.83s\tremaining: 1.42s\n",
      "563:\tlearn: 0.1085758\ttotal: 1.83s\tremaining: 1.42s\n",
      "564:\tlearn: 0.1083383\ttotal: 1.84s\tremaining: 1.41s\n",
      "565:\tlearn: 0.1082209\ttotal: 1.84s\tremaining: 1.41s\n",
      "566:\tlearn: 0.1081862\ttotal: 1.84s\tremaining: 1.41s\n",
      "567:\tlearn: 0.1080023\ttotal: 1.84s\tremaining: 1.4s\n",
      "568:\tlearn: 0.1076794\ttotal: 1.85s\tremaining: 1.4s\n",
      "569:\tlearn: 0.1075065\ttotal: 1.85s\tremaining: 1.4s\n",
      "570:\tlearn: 0.1073351\ttotal: 1.85s\tremaining: 1.39s\n",
      "571:\tlearn: 0.1071357\ttotal: 1.86s\tremaining: 1.39s\n",
      "572:\tlearn: 0.1070033\ttotal: 1.86s\tremaining: 1.39s\n",
      "573:\tlearn: 0.1067789\ttotal: 1.86s\tremaining: 1.38s\n",
      "574:\tlearn: 0.1065795\ttotal: 1.86s\tremaining: 1.38s\n",
      "575:\tlearn: 0.1064231\ttotal: 1.87s\tremaining: 1.37s\n",
      "576:\tlearn: 0.1061985\ttotal: 1.87s\tremaining: 1.37s\n",
      "577:\tlearn: 0.1060391\ttotal: 1.87s\tremaining: 1.37s\n",
      "578:\tlearn: 0.1058230\ttotal: 1.88s\tremaining: 1.36s\n",
      "579:\tlearn: 0.1055165\ttotal: 1.88s\tremaining: 1.36s\n",
      "580:\tlearn: 0.1053516\ttotal: 1.88s\tremaining: 1.35s\n",
      "581:\tlearn: 0.1051095\ttotal: 1.88s\tremaining: 1.35s\n",
      "582:\tlearn: 0.1050749\ttotal: 1.89s\tremaining: 1.35s\n",
      "583:\tlearn: 0.1050494\ttotal: 1.89s\tremaining: 1.34s\n",
      "584:\tlearn: 0.1048507\ttotal: 1.89s\tremaining: 1.34s\n",
      "585:\tlearn: 0.1047087\ttotal: 1.89s\tremaining: 1.34s\n",
      "586:\tlearn: 0.1045247\ttotal: 1.9s\tremaining: 1.33s\n",
      "587:\tlearn: 0.1045008\ttotal: 1.9s\tremaining: 1.33s\n",
      "588:\tlearn: 0.1043223\ttotal: 1.9s\tremaining: 1.33s\n",
      "589:\tlearn: 0.1041595\ttotal: 1.9s\tremaining: 1.32s\n",
      "590:\tlearn: 0.1041253\ttotal: 1.9s\tremaining: 1.32s\n",
      "591:\tlearn: 0.1039233\ttotal: 1.91s\tremaining: 1.31s\n",
      "592:\tlearn: 0.1037385\ttotal: 1.91s\tremaining: 1.31s\n",
      "593:\tlearn: 0.1035923\ttotal: 1.91s\tremaining: 1.31s\n",
      "594:\tlearn: 0.1034525\ttotal: 1.92s\tremaining: 1.3s\n",
      "595:\tlearn: 0.1031411\ttotal: 1.92s\tremaining: 1.3s\n",
      "596:\tlearn: 0.1028525\ttotal: 1.92s\tremaining: 1.3s\n",
      "597:\tlearn: 0.1026343\ttotal: 1.92s\tremaining: 1.29s\n",
      "598:\tlearn: 0.1023604\ttotal: 1.93s\tremaining: 1.29s\n",
      "599:\tlearn: 0.1023438\ttotal: 1.93s\tremaining: 1.28s\n",
      "600:\tlearn: 0.1021172\ttotal: 1.93s\tremaining: 1.28s\n",
      "601:\tlearn: 0.1018356\ttotal: 1.93s\tremaining: 1.28s\n",
      "602:\tlearn: 0.1016569\ttotal: 1.94s\tremaining: 1.27s\n",
      "603:\tlearn: 0.1014311\ttotal: 1.94s\tremaining: 1.27s\n",
      "604:\tlearn: 0.1011859\ttotal: 1.94s\tremaining: 1.27s\n",
      "605:\tlearn: 0.1009144\ttotal: 1.94s\tremaining: 1.26s\n",
      "606:\tlearn: 0.1007492\ttotal: 1.95s\tremaining: 1.26s\n",
      "607:\tlearn: 0.1005619\ttotal: 1.95s\tremaining: 1.26s\n",
      "608:\tlearn: 0.1003713\ttotal: 1.95s\tremaining: 1.25s\n",
      "609:\tlearn: 0.1003510\ttotal: 1.95s\tremaining: 1.25s\n",
      "610:\tlearn: 0.1003324\ttotal: 1.96s\tremaining: 1.25s\n",
      "611:\tlearn: 0.1003065\ttotal: 1.96s\tremaining: 1.24s\n",
      "612:\tlearn: 0.1002520\ttotal: 1.96s\tremaining: 1.24s\n",
      "613:\tlearn: 0.1000445\ttotal: 1.96s\tremaining: 1.24s\n",
      "614:\tlearn: 0.0998161\ttotal: 1.97s\tremaining: 1.23s\n",
      "615:\tlearn: 0.0995751\ttotal: 1.97s\tremaining: 1.23s\n",
      "616:\tlearn: 0.0994186\ttotal: 1.98s\tremaining: 1.23s\n"
     ]
    },
    {
     "name": "stdout",
     "output_type": "stream",
     "text": [
      "617:\tlearn: 0.0992049\ttotal: 1.98s\tremaining: 1.22s\n",
      "618:\tlearn: 0.0989996\ttotal: 1.99s\tremaining: 1.23s\n",
      "619:\tlearn: 0.0987765\ttotal: 2s\tremaining: 1.22s\n",
      "620:\tlearn: 0.0986266\ttotal: 2s\tremaining: 1.22s\n",
      "621:\tlearn: 0.0984176\ttotal: 2s\tremaining: 1.22s\n",
      "622:\tlearn: 0.0982387\ttotal: 2.01s\tremaining: 1.21s\n",
      "623:\tlearn: 0.0980099\ttotal: 2.01s\tremaining: 1.21s\n",
      "624:\tlearn: 0.0977646\ttotal: 2.01s\tremaining: 1.21s\n",
      "625:\tlearn: 0.0976328\ttotal: 2.02s\tremaining: 1.21s\n",
      "626:\tlearn: 0.0974389\ttotal: 2.02s\tremaining: 1.2s\n",
      "627:\tlearn: 0.0972957\ttotal: 2.02s\tremaining: 1.2s\n",
      "628:\tlearn: 0.0971684\ttotal: 2.03s\tremaining: 1.2s\n",
      "629:\tlearn: 0.0969991\ttotal: 2.03s\tremaining: 1.19s\n",
      "630:\tlearn: 0.0968831\ttotal: 2.03s\tremaining: 1.19s\n",
      "631:\tlearn: 0.0967087\ttotal: 2.04s\tremaining: 1.19s\n",
      "632:\tlearn: 0.0966187\ttotal: 2.04s\tremaining: 1.18s\n",
      "633:\tlearn: 0.0964583\ttotal: 2.04s\tremaining: 1.18s\n",
      "634:\tlearn: 0.0962459\ttotal: 2.05s\tremaining: 1.18s\n",
      "635:\tlearn: 0.0960272\ttotal: 2.05s\tremaining: 1.18s\n",
      "636:\tlearn: 0.0959904\ttotal: 2.06s\tremaining: 1.17s\n",
      "637:\tlearn: 0.0958492\ttotal: 2.06s\tremaining: 1.17s\n",
      "638:\tlearn: 0.0955669\ttotal: 2.06s\tremaining: 1.16s\n",
      "639:\tlearn: 0.0953559\ttotal: 2.06s\tremaining: 1.16s\n",
      "640:\tlearn: 0.0952073\ttotal: 2.07s\tremaining: 1.16s\n",
      "641:\tlearn: 0.0950436\ttotal: 2.07s\tremaining: 1.15s\n",
      "642:\tlearn: 0.0948975\ttotal: 2.07s\tremaining: 1.15s\n",
      "643:\tlearn: 0.0947524\ttotal: 2.08s\tremaining: 1.15s\n",
      "644:\tlearn: 0.0945920\ttotal: 2.08s\tremaining: 1.14s\n",
      "645:\tlearn: 0.0943947\ttotal: 2.08s\tremaining: 1.14s\n",
      "646:\tlearn: 0.0942588\ttotal: 2.08s\tremaining: 1.14s\n",
      "647:\tlearn: 0.0941262\ttotal: 2.09s\tremaining: 1.13s\n",
      "648:\tlearn: 0.0939773\ttotal: 2.09s\tremaining: 1.13s\n",
      "649:\tlearn: 0.0937385\ttotal: 2.09s\tremaining: 1.13s\n",
      "650:\tlearn: 0.0935984\ttotal: 2.09s\tremaining: 1.12s\n",
      "651:\tlearn: 0.0933852\ttotal: 2.1s\tremaining: 1.12s\n",
      "652:\tlearn: 0.0932403\ttotal: 2.1s\tremaining: 1.11s\n",
      "653:\tlearn: 0.0932126\ttotal: 2.1s\tremaining: 1.11s\n",
      "654:\tlearn: 0.0930810\ttotal: 2.1s\tremaining: 1.11s\n",
      "655:\tlearn: 0.0928806\ttotal: 2.11s\tremaining: 1.1s\n",
      "656:\tlearn: 0.0928555\ttotal: 2.11s\tremaining: 1.1s\n",
      "657:\tlearn: 0.0927147\ttotal: 2.11s\tremaining: 1.1s\n",
      "658:\tlearn: 0.0925275\ttotal: 2.11s\tremaining: 1.09s\n",
      "659:\tlearn: 0.0922684\ttotal: 2.12s\tremaining: 1.09s\n",
      "660:\tlearn: 0.0921101\ttotal: 2.12s\tremaining: 1.09s\n",
      "661:\tlearn: 0.0919705\ttotal: 2.12s\tremaining: 1.08s\n",
      "662:\tlearn: 0.0917552\ttotal: 2.12s\tremaining: 1.08s\n",
      "663:\tlearn: 0.0915367\ttotal: 2.13s\tremaining: 1.08s\n",
      "664:\tlearn: 0.0913803\ttotal: 2.13s\tremaining: 1.07s\n",
      "665:\tlearn: 0.0912455\ttotal: 2.13s\tremaining: 1.07s\n",
      "666:\tlearn: 0.0912275\ttotal: 2.13s\tremaining: 1.07s\n",
      "667:\tlearn: 0.0909874\ttotal: 2.14s\tremaining: 1.06s\n",
      "668:\tlearn: 0.0907660\ttotal: 2.14s\tremaining: 1.06s\n",
      "669:\tlearn: 0.0906802\ttotal: 2.14s\tremaining: 1.05s\n",
      "670:\tlearn: 0.0906562\ttotal: 2.15s\tremaining: 1.05s\n",
      "671:\tlearn: 0.0904978\ttotal: 2.15s\tremaining: 1.05s\n",
      "672:\tlearn: 0.0903750\ttotal: 2.15s\tremaining: 1.04s\n",
      "673:\tlearn: 0.0902018\ttotal: 2.15s\tremaining: 1.04s\n",
      "674:\tlearn: 0.0900323\ttotal: 2.16s\tremaining: 1.04s\n",
      "675:\tlearn: 0.0899127\ttotal: 2.16s\tremaining: 1.03s\n",
      "676:\tlearn: 0.0897999\ttotal: 2.16s\tremaining: 1.03s\n"
     ]
    },
    {
     "name": "stdout",
     "output_type": "stream",
     "text": [
      "677:\tlearn: 0.0896353\ttotal: 2.17s\tremaining: 1.03s\n",
      "678:\tlearn: 0.0895007\ttotal: 2.17s\tremaining: 1.03s\n",
      "679:\tlearn: 0.0893530\ttotal: 2.18s\tremaining: 1.02s\n",
      "680:\tlearn: 0.0891153\ttotal: 2.18s\tremaining: 1.02s\n",
      "681:\tlearn: 0.0889949\ttotal: 2.19s\tremaining: 1.02s\n",
      "682:\tlearn: 0.0888245\ttotal: 2.19s\tremaining: 1.02s\n",
      "683:\tlearn: 0.0886137\ttotal: 2.19s\tremaining: 1.01s\n",
      "684:\tlearn: 0.0883930\ttotal: 2.2s\tremaining: 1.01s\n",
      "685:\tlearn: 0.0883257\ttotal: 2.2s\tremaining: 1.01s\n",
      "686:\tlearn: 0.0881316\ttotal: 2.2s\tremaining: 1s\n",
      "687:\tlearn: 0.0879451\ttotal: 2.21s\tremaining: 1000ms\n",
      "688:\tlearn: 0.0878212\ttotal: 2.21s\tremaining: 996ms\n",
      "689:\tlearn: 0.0877029\ttotal: 2.21s\tremaining: 993ms\n",
      "690:\tlearn: 0.0875317\ttotal: 2.21s\tremaining: 991ms\n",
      "691:\tlearn: 0.0873856\ttotal: 2.22s\tremaining: 990ms\n",
      "692:\tlearn: 0.0871515\ttotal: 2.23s\tremaining: 986ms\n",
      "693:\tlearn: 0.0870509\ttotal: 2.23s\tremaining: 983ms\n",
      "694:\tlearn: 0.0867455\ttotal: 2.23s\tremaining: 980ms\n",
      "695:\tlearn: 0.0866260\ttotal: 2.23s\tremaining: 976ms\n",
      "696:\tlearn: 0.0864880\ttotal: 2.24s\tremaining: 973ms\n",
      "697:\tlearn: 0.0863716\ttotal: 2.24s\tremaining: 970ms\n",
      "698:\tlearn: 0.0862456\ttotal: 2.24s\tremaining: 966ms\n",
      "699:\tlearn: 0.0861077\ttotal: 2.25s\tremaining: 962ms\n",
      "700:\tlearn: 0.0860200\ttotal: 2.25s\tremaining: 960ms\n",
      "701:\tlearn: 0.0860020\ttotal: 2.25s\tremaining: 956ms\n",
      "702:\tlearn: 0.0859103\ttotal: 2.25s\tremaining: 953ms\n",
      "703:\tlearn: 0.0857903\ttotal: 2.26s\tremaining: 950ms\n",
      "704:\tlearn: 0.0857352\ttotal: 2.26s\tremaining: 946ms\n",
      "705:\tlearn: 0.0856901\ttotal: 2.27s\tremaining: 943ms\n",
      "706:\tlearn: 0.0855068\ttotal: 2.27s\tremaining: 940ms\n",
      "707:\tlearn: 0.0854060\ttotal: 2.27s\tremaining: 936ms\n",
      "708:\tlearn: 0.0853439\ttotal: 2.27s\tremaining: 933ms\n",
      "709:\tlearn: 0.0851776\ttotal: 2.27s\tremaining: 929ms\n",
      "710:\tlearn: 0.0850087\ttotal: 2.31s\tremaining: 937ms\n",
      "711:\tlearn: 0.0848143\ttotal: 2.31s\tremaining: 935ms\n",
      "712:\tlearn: 0.0846545\ttotal: 2.31s\tremaining: 932ms\n",
      "713:\tlearn: 0.0845611\ttotal: 2.32s\tremaining: 928ms\n",
      "714:\tlearn: 0.0843975\ttotal: 2.32s\tremaining: 925ms\n",
      "715:\tlearn: 0.0842993\ttotal: 2.32s\tremaining: 921ms\n",
      "716:\tlearn: 0.0842539\ttotal: 2.32s\tremaining: 918ms\n",
      "717:\tlearn: 0.0841022\ttotal: 2.33s\tremaining: 914ms\n",
      "718:\tlearn: 0.0839649\ttotal: 2.33s\tremaining: 911ms\n",
      "719:\tlearn: 0.0838175\ttotal: 2.33s\tremaining: 907ms\n",
      "720:\tlearn: 0.0837060\ttotal: 2.33s\tremaining: 904ms\n",
      "721:\tlearn: 0.0835564\ttotal: 2.34s\tremaining: 900ms\n",
      "722:\tlearn: 0.0833557\ttotal: 2.34s\tremaining: 897ms\n",
      "723:\tlearn: 0.0832132\ttotal: 2.34s\tremaining: 893ms\n"
     ]
    },
    {
     "name": "stdout",
     "output_type": "stream",
     "text": [
      "724:\tlearn: 0.0830969\ttotal: 2.35s\tremaining: 890ms\n",
      "725:\tlearn: 0.0828615\ttotal: 2.35s\tremaining: 887ms\n",
      "726:\tlearn: 0.0827072\ttotal: 2.35s\tremaining: 883ms\n",
      "727:\tlearn: 0.0825615\ttotal: 2.35s\tremaining: 880ms\n",
      "728:\tlearn: 0.0824325\ttotal: 2.36s\tremaining: 877ms\n",
      "729:\tlearn: 0.0823964\ttotal: 2.36s\tremaining: 873ms\n",
      "730:\tlearn: 0.0823251\ttotal: 2.36s\tremaining: 870ms\n",
      "731:\tlearn: 0.0820940\ttotal: 2.37s\tremaining: 866ms\n",
      "732:\tlearn: 0.0820351\ttotal: 2.37s\tremaining: 864ms\n",
      "733:\tlearn: 0.0818436\ttotal: 2.38s\tremaining: 861ms\n",
      "734:\tlearn: 0.0817705\ttotal: 2.38s\tremaining: 858ms\n",
      "735:\tlearn: 0.0815825\ttotal: 2.38s\tremaining: 855ms\n",
      "736:\tlearn: 0.0815472\ttotal: 2.39s\tremaining: 852ms\n",
      "737:\tlearn: 0.0813818\ttotal: 2.39s\tremaining: 849ms\n",
      "738:\tlearn: 0.0812645\ttotal: 2.39s\tremaining: 845ms\n",
      "739:\tlearn: 0.0811490\ttotal: 2.4s\tremaining: 842ms\n",
      "740:\tlearn: 0.0809601\ttotal: 2.4s\tremaining: 838ms\n",
      "741:\tlearn: 0.0808047\ttotal: 2.4s\tremaining: 835ms\n",
      "742:\tlearn: 0.0805939\ttotal: 2.4s\tremaining: 831ms\n",
      "743:\tlearn: 0.0804667\ttotal: 2.41s\tremaining: 828ms\n",
      "744:\tlearn: 0.0803066\ttotal: 2.41s\tremaining: 825ms\n",
      "745:\tlearn: 0.0801973\ttotal: 2.41s\tremaining: 821ms\n",
      "746:\tlearn: 0.0800783\ttotal: 2.42s\tremaining: 818ms\n",
      "747:\tlearn: 0.0799092\ttotal: 2.42s\tremaining: 815ms\n",
      "748:\tlearn: 0.0797578\ttotal: 2.42s\tremaining: 811ms\n",
      "749:\tlearn: 0.0796376\ttotal: 2.42s\tremaining: 808ms\n",
      "750:\tlearn: 0.0794444\ttotal: 2.43s\tremaining: 805ms\n",
      "751:\tlearn: 0.0794248\ttotal: 2.43s\tremaining: 801ms\n",
      "752:\tlearn: 0.0793087\ttotal: 2.43s\tremaining: 797ms\n",
      "753:\tlearn: 0.0791672\ttotal: 2.43s\tremaining: 794ms\n",
      "754:\tlearn: 0.0789720\ttotal: 2.44s\tremaining: 790ms\n",
      "755:\tlearn: 0.0789543\ttotal: 2.44s\tremaining: 787ms\n",
      "756:\tlearn: 0.0788911\ttotal: 2.44s\tremaining: 784ms\n",
      "757:\tlearn: 0.0788106\ttotal: 2.44s\tremaining: 780ms\n",
      "758:\tlearn: 0.0786444\ttotal: 2.45s\tremaining: 777ms\n",
      "759:\tlearn: 0.0784660\ttotal: 2.45s\tremaining: 773ms\n",
      "760:\tlearn: 0.0782959\ttotal: 2.45s\tremaining: 770ms\n",
      "761:\tlearn: 0.0781056\ttotal: 2.45s\tremaining: 767ms\n",
      "762:\tlearn: 0.0779306\ttotal: 2.46s\tremaining: 763ms\n",
      "763:\tlearn: 0.0777248\ttotal: 2.46s\tremaining: 760ms\n",
      "764:\tlearn: 0.0775912\ttotal: 2.46s\tremaining: 756ms\n",
      "765:\tlearn: 0.0775074\ttotal: 2.46s\tremaining: 753ms\n",
      "766:\tlearn: 0.0774205\ttotal: 2.47s\tremaining: 750ms\n",
      "767:\tlearn: 0.0772791\ttotal: 2.47s\tremaining: 746ms\n",
      "768:\tlearn: 0.0771617\ttotal: 2.47s\tremaining: 743ms\n",
      "769:\tlearn: 0.0770521\ttotal: 2.48s\tremaining: 740ms\n",
      "770:\tlearn: 0.0770353\ttotal: 2.48s\tremaining: 737ms\n",
      "771:\tlearn: 0.0769995\ttotal: 2.48s\tremaining: 733ms\n",
      "772:\tlearn: 0.0768298\ttotal: 2.48s\tremaining: 730ms\n",
      "773:\tlearn: 0.0767325\ttotal: 2.49s\tremaining: 726ms\n",
      "774:\tlearn: 0.0766455\ttotal: 2.49s\tremaining: 723ms\n",
      "775:\tlearn: 0.0764774\ttotal: 2.49s\tremaining: 719ms\n",
      "776:\tlearn: 0.0763843\ttotal: 2.49s\tremaining: 716ms\n",
      "777:\tlearn: 0.0761993\ttotal: 2.5s\tremaining: 713ms\n",
      "778:\tlearn: 0.0761795\ttotal: 2.5s\tremaining: 709ms\n",
      "779:\tlearn: 0.0760102\ttotal: 2.5s\tremaining: 706ms\n",
      "780:\tlearn: 0.0759029\ttotal: 2.5s\tremaining: 703ms\n",
      "781:\tlearn: 0.0757837\ttotal: 2.51s\tremaining: 699ms\n",
      "782:\tlearn: 0.0756468\ttotal: 2.51s\tremaining: 696ms\n",
      "783:\tlearn: 0.0755573\ttotal: 2.51s\tremaining: 692ms\n",
      "784:\tlearn: 0.0755382\ttotal: 2.52s\tremaining: 689ms\n",
      "785:\tlearn: 0.0754578\ttotal: 2.52s\tremaining: 686ms\n",
      "786:\tlearn: 0.0753252\ttotal: 2.52s\tremaining: 682ms\n",
      "787:\tlearn: 0.0753110\ttotal: 2.52s\tremaining: 679ms\n"
     ]
    },
    {
     "name": "stdout",
     "output_type": "stream",
     "text": [
      "788:\tlearn: 0.0752239\ttotal: 2.53s\tremaining: 676ms\n",
      "789:\tlearn: 0.0750835\ttotal: 2.53s\tremaining: 673ms\n",
      "790:\tlearn: 0.0749646\ttotal: 2.53s\tremaining: 669ms\n",
      "791:\tlearn: 0.0748199\ttotal: 2.54s\tremaining: 666ms\n",
      "792:\tlearn: 0.0747736\ttotal: 2.54s\tremaining: 663ms\n",
      "793:\tlearn: 0.0746453\ttotal: 2.54s\tremaining: 659ms\n",
      "794:\tlearn: 0.0745138\ttotal: 2.54s\tremaining: 656ms\n",
      "795:\tlearn: 0.0744460\ttotal: 2.55s\tremaining: 653ms\n",
      "796:\tlearn: 0.0744322\ttotal: 2.55s\tremaining: 650ms\n",
      "797:\tlearn: 0.0742315\ttotal: 2.56s\tremaining: 647ms\n",
      "798:\tlearn: 0.0741544\ttotal: 2.56s\tremaining: 645ms\n",
      "799:\tlearn: 0.0739974\ttotal: 2.57s\tremaining: 642ms\n",
      "800:\tlearn: 0.0738972\ttotal: 2.57s\tremaining: 639ms\n",
      "801:\tlearn: 0.0737563\ttotal: 2.57s\tremaining: 635ms\n",
      "802:\tlearn: 0.0735998\ttotal: 2.58s\tremaining: 632ms\n",
      "803:\tlearn: 0.0735662\ttotal: 2.58s\tremaining: 629ms\n",
      "804:\tlearn: 0.0734425\ttotal: 2.58s\tremaining: 625ms\n",
      "805:\tlearn: 0.0733107\ttotal: 2.58s\tremaining: 622ms\n",
      "806:\tlearn: 0.0732751\ttotal: 2.59s\tremaining: 619ms\n",
      "807:\tlearn: 0.0731619\ttotal: 2.6s\tremaining: 617ms\n",
      "808:\tlearn: 0.0731508\ttotal: 2.6s\tremaining: 614ms\n",
      "809:\tlearn: 0.0730811\ttotal: 2.6s\tremaining: 610ms\n",
      "810:\tlearn: 0.0729620\ttotal: 2.6s\tremaining: 607ms\n",
      "811:\tlearn: 0.0727979\ttotal: 2.61s\tremaining: 604ms\n",
      "812:\tlearn: 0.0725778\ttotal: 2.61s\tremaining: 600ms\n",
      "813:\tlearn: 0.0725455\ttotal: 2.61s\tremaining: 597ms\n",
      "814:\tlearn: 0.0724262\ttotal: 2.62s\tremaining: 594ms\n",
      "815:\tlearn: 0.0722555\ttotal: 2.62s\tremaining: 590ms\n",
      "816:\tlearn: 0.0721649\ttotal: 2.62s\tremaining: 587ms\n",
      "817:\tlearn: 0.0720639\ttotal: 2.62s\tremaining: 584ms\n",
      "818:\tlearn: 0.0719982\ttotal: 2.63s\tremaining: 580ms\n",
      "819:\tlearn: 0.0719142\ttotal: 2.63s\tremaining: 577ms\n",
      "820:\tlearn: 0.0718276\ttotal: 2.63s\tremaining: 574ms\n",
      "821:\tlearn: 0.0717462\ttotal: 2.63s\tremaining: 570ms\n",
      "822:\tlearn: 0.0716484\ttotal: 2.63s\tremaining: 567ms\n",
      "823:\tlearn: 0.0715679\ttotal: 2.64s\tremaining: 563ms\n",
      "824:\tlearn: 0.0714465\ttotal: 2.64s\tremaining: 560ms\n",
      "825:\tlearn: 0.0713434\ttotal: 2.65s\tremaining: 557ms\n",
      "826:\tlearn: 0.0712437\ttotal: 2.65s\tremaining: 554ms\n",
      "827:\tlearn: 0.0711570\ttotal: 2.65s\tremaining: 551ms\n",
      "828:\tlearn: 0.0710405\ttotal: 2.65s\tremaining: 547ms\n",
      "829:\tlearn: 0.0709707\ttotal: 2.66s\tremaining: 544ms\n",
      "830:\tlearn: 0.0707692\ttotal: 2.66s\tremaining: 541ms\n",
      "831:\tlearn: 0.0706863\ttotal: 2.66s\tremaining: 537ms\n",
      "832:\tlearn: 0.0706779\ttotal: 2.66s\tremaining: 534ms\n"
     ]
    },
    {
     "name": "stdout",
     "output_type": "stream",
     "text": [
      "833:\tlearn: 0.0705312\ttotal: 2.67s\tremaining: 531ms\n",
      "834:\tlearn: 0.0704543\ttotal: 2.67s\tremaining: 528ms\n",
      "835:\tlearn: 0.0703793\ttotal: 2.67s\tremaining: 525ms\n",
      "836:\tlearn: 0.0702024\ttotal: 2.68s\tremaining: 522ms\n",
      "837:\tlearn: 0.0701259\ttotal: 2.68s\tremaining: 518ms\n",
      "838:\tlearn: 0.0699809\ttotal: 2.68s\tremaining: 515ms\n",
      "839:\tlearn: 0.0698737\ttotal: 2.69s\tremaining: 512ms\n",
      "840:\tlearn: 0.0697720\ttotal: 2.69s\tremaining: 508ms\n",
      "841:\tlearn: 0.0696641\ttotal: 2.69s\tremaining: 505ms\n",
      "842:\tlearn: 0.0696067\ttotal: 2.69s\tremaining: 502ms\n",
      "843:\tlearn: 0.0694825\ttotal: 2.7s\tremaining: 498ms\n",
      "844:\tlearn: 0.0693784\ttotal: 2.7s\tremaining: 495ms\n",
      "845:\tlearn: 0.0692648\ttotal: 2.7s\tremaining: 492ms\n",
      "846:\tlearn: 0.0691235\ttotal: 2.7s\tremaining: 489ms\n",
      "847:\tlearn: 0.0690764\ttotal: 2.71s\tremaining: 485ms\n",
      "848:\tlearn: 0.0690155\ttotal: 2.71s\tremaining: 482ms\n",
      "849:\tlearn: 0.0688677\ttotal: 2.71s\tremaining: 479ms\n",
      "850:\tlearn: 0.0687301\ttotal: 2.71s\tremaining: 475ms\n",
      "851:\tlearn: 0.0686847\ttotal: 2.72s\tremaining: 472ms\n",
      "852:\tlearn: 0.0685593\ttotal: 2.72s\tremaining: 469ms\n",
      "853:\tlearn: 0.0684927\ttotal: 2.72s\tremaining: 466ms\n",
      "854:\tlearn: 0.0684291\ttotal: 2.73s\tremaining: 462ms\n",
      "855:\tlearn: 0.0683508\ttotal: 2.73s\tremaining: 459ms\n",
      "856:\tlearn: 0.0682436\ttotal: 2.73s\tremaining: 456ms\n",
      "857:\tlearn: 0.0681709\ttotal: 2.73s\tremaining: 452ms\n",
      "858:\tlearn: 0.0681151\ttotal: 2.74s\tremaining: 449ms\n",
      "859:\tlearn: 0.0680442\ttotal: 2.74s\tremaining: 446ms\n",
      "860:\tlearn: 0.0679602\ttotal: 2.74s\tremaining: 443ms\n",
      "861:\tlearn: 0.0679339\ttotal: 2.74s\tremaining: 439ms\n",
      "862:\tlearn: 0.0678528\ttotal: 2.75s\tremaining: 436ms\n",
      "863:\tlearn: 0.0677118\ttotal: 2.75s\tremaining: 433ms\n",
      "864:\tlearn: 0.0675599\ttotal: 2.75s\tremaining: 430ms\n",
      "865:\tlearn: 0.0674777\ttotal: 2.76s\tremaining: 426ms\n",
      "866:\tlearn: 0.0672583\ttotal: 2.76s\tremaining: 423ms\n",
      "867:\tlearn: 0.0671880\ttotal: 2.76s\tremaining: 420ms\n",
      "868:\tlearn: 0.0670548\ttotal: 2.76s\tremaining: 417ms\n",
      "869:\tlearn: 0.0670065\ttotal: 2.77s\tremaining: 414ms\n",
      "870:\tlearn: 0.0669029\ttotal: 2.77s\tremaining: 411ms\n",
      "871:\tlearn: 0.0668038\ttotal: 2.77s\tremaining: 407ms\n",
      "872:\tlearn: 0.0666907\ttotal: 2.78s\tremaining: 404ms\n",
      "873:\tlearn: 0.0665808\ttotal: 2.79s\tremaining: 402ms\n",
      "874:\tlearn: 0.0664508\ttotal: 2.79s\tremaining: 399ms\n",
      "875:\tlearn: 0.0662938\ttotal: 2.8s\tremaining: 396ms\n",
      "876:\tlearn: 0.0662232\ttotal: 2.8s\tremaining: 393ms\n",
      "877:\tlearn: 0.0661289\ttotal: 2.81s\tremaining: 390ms\n",
      "878:\tlearn: 0.0660990\ttotal: 2.81s\tremaining: 387ms\n",
      "879:\tlearn: 0.0659690\ttotal: 2.81s\tremaining: 384ms\n",
      "880:\tlearn: 0.0658896\ttotal: 2.82s\tremaining: 381ms\n"
     ]
    },
    {
     "name": "stdout",
     "output_type": "stream",
     "text": [
      "881:\tlearn: 0.0658586\ttotal: 2.82s\tremaining: 378ms\n",
      "882:\tlearn: 0.0657241\ttotal: 2.83s\tremaining: 375ms\n",
      "883:\tlearn: 0.0655903\ttotal: 2.83s\tremaining: 371ms\n",
      "884:\tlearn: 0.0655304\ttotal: 2.83s\tremaining: 368ms\n",
      "885:\tlearn: 0.0654053\ttotal: 2.84s\tremaining: 365ms\n",
      "886:\tlearn: 0.0652501\ttotal: 2.84s\tremaining: 362ms\n",
      "887:\tlearn: 0.0651516\ttotal: 2.84s\tremaining: 358ms\n",
      "888:\tlearn: 0.0650810\ttotal: 2.84s\tremaining: 355ms\n",
      "889:\tlearn: 0.0650172\ttotal: 2.85s\tremaining: 352ms\n",
      "890:\tlearn: 0.0649762\ttotal: 2.85s\tremaining: 349ms\n",
      "891:\tlearn: 0.0648268\ttotal: 2.85s\tremaining: 346ms\n",
      "892:\tlearn: 0.0647108\ttotal: 2.86s\tremaining: 342ms\n",
      "893:\tlearn: 0.0646746\ttotal: 2.86s\tremaining: 339ms\n",
      "894:\tlearn: 0.0645569\ttotal: 2.86s\tremaining: 336ms\n",
      "895:\tlearn: 0.0645152\ttotal: 2.87s\tremaining: 333ms\n",
      "896:\tlearn: 0.0644750\ttotal: 2.87s\tremaining: 330ms\n",
      "897:\tlearn: 0.0643621\ttotal: 2.87s\tremaining: 326ms\n",
      "898:\tlearn: 0.0642494\ttotal: 2.88s\tremaining: 323ms\n",
      "899:\tlearn: 0.0642190\ttotal: 2.88s\tremaining: 320ms\n",
      "900:\tlearn: 0.0641234\ttotal: 2.88s\tremaining: 317ms\n",
      "901:\tlearn: 0.0640593\ttotal: 2.89s\tremaining: 314ms\n",
      "902:\tlearn: 0.0639944\ttotal: 2.89s\tremaining: 310ms\n",
      "903:\tlearn: 0.0638516\ttotal: 2.89s\tremaining: 307ms\n",
      "904:\tlearn: 0.0637532\ttotal: 2.9s\tremaining: 304ms\n",
      "905:\tlearn: 0.0637251\ttotal: 2.9s\tremaining: 301ms\n",
      "906:\tlearn: 0.0636452\ttotal: 2.9s\tremaining: 298ms\n",
      "907:\tlearn: 0.0635910\ttotal: 2.9s\tremaining: 294ms\n",
      "908:\tlearn: 0.0635390\ttotal: 2.91s\tremaining: 291ms\n",
      "909:\tlearn: 0.0634758\ttotal: 2.91s\tremaining: 288ms\n",
      "910:\tlearn: 0.0634269\ttotal: 2.91s\tremaining: 285ms\n",
      "911:\tlearn: 0.0632670\ttotal: 2.92s\tremaining: 282ms\n",
      "912:\tlearn: 0.0631776\ttotal: 2.92s\tremaining: 278ms\n",
      "913:\tlearn: 0.0631521\ttotal: 2.92s\tremaining: 275ms\n",
      "914:\tlearn: 0.0630589\ttotal: 2.93s\tremaining: 272ms\n",
      "915:\tlearn: 0.0630334\ttotal: 2.93s\tremaining: 269ms\n",
      "916:\tlearn: 0.0630135\ttotal: 2.94s\tremaining: 266ms\n",
      "917:\tlearn: 0.0629319\ttotal: 2.94s\tremaining: 263ms\n",
      "918:\tlearn: 0.0628547\ttotal: 2.95s\tremaining: 260ms\n",
      "919:\tlearn: 0.0628283\ttotal: 2.95s\tremaining: 257ms\n",
      "920:\tlearn: 0.0627148\ttotal: 2.95s\tremaining: 253ms\n",
      "921:\tlearn: 0.0626971\ttotal: 2.96s\tremaining: 250ms\n",
      "922:\tlearn: 0.0626407\ttotal: 2.96s\tremaining: 247ms\n",
      "923:\tlearn: 0.0625603\ttotal: 2.96s\tremaining: 244ms\n",
      "924:\tlearn: 0.0624170\ttotal: 2.97s\tremaining: 241ms\n",
      "925:\tlearn: 0.0622965\ttotal: 2.97s\tremaining: 237ms\n",
      "926:\tlearn: 0.0622723\ttotal: 2.97s\tremaining: 234ms\n",
      "927:\tlearn: 0.0622547\ttotal: 2.97s\tremaining: 231ms\n",
      "928:\tlearn: 0.0622208\ttotal: 2.98s\tremaining: 228ms\n",
      "929:\tlearn: 0.0621025\ttotal: 2.98s\tremaining: 224ms\n",
      "930:\tlearn: 0.0620312\ttotal: 2.98s\tremaining: 221ms\n"
     ]
    },
    {
     "name": "stdout",
     "output_type": "stream",
     "text": [
      "931:\tlearn: 0.0619891\ttotal: 2.99s\tremaining: 218ms\n",
      "932:\tlearn: 0.0618740\ttotal: 2.99s\tremaining: 215ms\n",
      "933:\tlearn: 0.0617862\ttotal: 3s\tremaining: 212ms\n",
      "934:\tlearn: 0.0616965\ttotal: 3s\tremaining: 208ms\n",
      "935:\tlearn: 0.0616292\ttotal: 3s\tremaining: 205ms\n",
      "936:\tlearn: 0.0615132\ttotal: 3s\tremaining: 202ms\n",
      "937:\tlearn: 0.0614551\ttotal: 3s\tremaining: 199ms\n",
      "938:\tlearn: 0.0613586\ttotal: 3.01s\tremaining: 195ms\n",
      "939:\tlearn: 0.0613049\ttotal: 3.01s\tremaining: 192ms\n",
      "940:\tlearn: 0.0612698\ttotal: 3.01s\tremaining: 189ms\n",
      "941:\tlearn: 0.0612434\ttotal: 3.02s\tremaining: 186ms\n",
      "942:\tlearn: 0.0611754\ttotal: 3.02s\tremaining: 183ms\n",
      "943:\tlearn: 0.0610790\ttotal: 3.02s\tremaining: 179ms\n",
      "944:\tlearn: 0.0609213\ttotal: 3.02s\tremaining: 176ms\n",
      "945:\tlearn: 0.0607521\ttotal: 3.03s\tremaining: 173ms\n",
      "946:\tlearn: 0.0606823\ttotal: 3.03s\tremaining: 170ms\n",
      "947:\tlearn: 0.0605858\ttotal: 3.03s\tremaining: 166ms\n",
      "948:\tlearn: 0.0605589\ttotal: 3.04s\tremaining: 163ms\n",
      "949:\tlearn: 0.0604713\ttotal: 3.04s\tremaining: 160ms\n",
      "950:\tlearn: 0.0603749\ttotal: 3.04s\tremaining: 157ms\n",
      "951:\tlearn: 0.0602716\ttotal: 3.05s\tremaining: 154ms\n",
      "952:\tlearn: 0.0602359\ttotal: 3.06s\tremaining: 151ms\n",
      "953:\tlearn: 0.0602164\ttotal: 3.06s\tremaining: 148ms\n",
      "954:\tlearn: 0.0600654\ttotal: 3.07s\tremaining: 145ms\n",
      "955:\tlearn: 0.0599640\ttotal: 3.07s\tremaining: 141ms\n",
      "956:\tlearn: 0.0598178\ttotal: 3.07s\tremaining: 138ms\n",
      "957:\tlearn: 0.0597126\ttotal: 3.08s\tremaining: 135ms\n",
      "958:\tlearn: 0.0596696\ttotal: 3.08s\tremaining: 132ms\n",
      "959:\tlearn: 0.0595893\ttotal: 3.08s\tremaining: 128ms\n",
      "960:\tlearn: 0.0594428\ttotal: 3.08s\tremaining: 125ms\n",
      "961:\tlearn: 0.0593575\ttotal: 3.09s\tremaining: 122ms\n",
      "962:\tlearn: 0.0593156\ttotal: 3.09s\tremaining: 119ms\n",
      "963:\tlearn: 0.0592656\ttotal: 3.09s\tremaining: 115ms\n",
      "964:\tlearn: 0.0592099\ttotal: 3.1s\tremaining: 112ms\n",
      "965:\tlearn: 0.0591698\ttotal: 3.1s\tremaining: 109ms\n",
      "966:\tlearn: 0.0590789\ttotal: 3.1s\tremaining: 106ms\n",
      "967:\tlearn: 0.0590377\ttotal: 3.1s\tremaining: 103ms\n",
      "968:\tlearn: 0.0589444\ttotal: 3.1s\tremaining: 99.3ms\n",
      "969:\tlearn: 0.0588573\ttotal: 3.11s\tremaining: 96.1ms\n",
      "970:\tlearn: 0.0588292\ttotal: 3.11s\tremaining: 92.9ms\n",
      "971:\tlearn: 0.0587655\ttotal: 3.11s\tremaining: 89.6ms\n",
      "972:\tlearn: 0.0587221\ttotal: 3.11s\tremaining: 86.4ms\n",
      "973:\tlearn: 0.0586416\ttotal: 3.12s\tremaining: 83.2ms\n",
      "974:\tlearn: 0.0586150\ttotal: 3.12s\tremaining: 80ms\n",
      "975:\tlearn: 0.0585146\ttotal: 3.12s\tremaining: 76.8ms\n",
      "976:\tlearn: 0.0584132\ttotal: 3.12s\tremaining: 73.5ms\n",
      "977:\tlearn: 0.0584007\ttotal: 3.13s\tremaining: 70.3ms\n",
      "978:\tlearn: 0.0583508\ttotal: 3.13s\tremaining: 67.1ms\n",
      "979:\tlearn: 0.0583095\ttotal: 3.13s\tremaining: 64ms\n",
      "980:\tlearn: 0.0582004\ttotal: 3.14s\tremaining: 60.7ms\n",
      "981:\tlearn: 0.0580986\ttotal: 3.14s\tremaining: 57.5ms\n",
      "982:\tlearn: 0.0580781\ttotal: 3.14s\tremaining: 54.3ms\n",
      "983:\tlearn: 0.0579653\ttotal: 3.14s\tremaining: 51.1ms\n",
      "984:\tlearn: 0.0578723\ttotal: 3.15s\tremaining: 47.9ms\n"
     ]
    },
    {
     "name": "stdout",
     "output_type": "stream",
     "text": [
      "985:\tlearn: 0.0577794\ttotal: 3.15s\tremaining: 44.7ms\n",
      "986:\tlearn: 0.0576865\ttotal: 3.15s\tremaining: 41.5ms\n",
      "987:\tlearn: 0.0575399\ttotal: 3.15s\tremaining: 38.3ms\n",
      "988:\tlearn: 0.0575011\ttotal: 3.16s\tremaining: 35.1ms\n",
      "989:\tlearn: 0.0574665\ttotal: 3.16s\tremaining: 31.9ms\n",
      "990:\tlearn: 0.0574229\ttotal: 3.16s\tremaining: 28.7ms\n",
      "991:\tlearn: 0.0573005\ttotal: 3.16s\tremaining: 25.5ms\n",
      "992:\tlearn: 0.0571644\ttotal: 3.17s\tremaining: 22.3ms\n",
      "993:\tlearn: 0.0570773\ttotal: 3.17s\tremaining: 19.1ms\n",
      "994:\tlearn: 0.0570323\ttotal: 3.17s\tremaining: 16ms\n",
      "995:\tlearn: 0.0570198\ttotal: 3.18s\tremaining: 12.8ms\n",
      "996:\tlearn: 0.0569048\ttotal: 3.18s\tremaining: 9.57ms\n",
      "997:\tlearn: 0.0567912\ttotal: 3.18s\tremaining: 6.38ms\n",
      "998:\tlearn: 0.0567421\ttotal: 3.18s\tremaining: 3.19ms\n",
      "999:\tlearn: 0.0566916\ttotal: 3.19s\tremaining: 0us\n"
     ]
    },
    {
     "data": {
      "text/plain": [
       "<catboost.core.CatBoostRegressor at 0x7f977306cdc0>"
      ]
     },
     "execution_count": 9,
     "metadata": {},
     "output_type": "execute_result"
    }
   ],
   "source": [
    "#Train the Model \n",
    "prior_model = ctb.CatBoostRegressor()\n",
    "prior_model.fit(X_train,Y_train)"
   ]
  },
  {
   "cell_type": "code",
   "execution_count": 10,
   "id": "af65dcda",
   "metadata": {
    "execution": {
     "iopub.execute_input": "2022-07-22T20:09:30.843242Z",
     "iopub.status.busy": "2022-07-22T20:09:30.842713Z",
     "iopub.status.idle": "2022-07-22T20:09:30.920302Z",
     "shell.execute_reply": "2022-07-22T20:09:30.919046Z"
    },
    "id": "af65dcda",
    "papermill": {
     "duration": 0.112376,
     "end_time": "2022-07-22T20:09:30.928509",
     "exception": false,
     "start_time": "2022-07-22T20:09:30.816133",
     "status": "completed"
    },
    "tags": []
   },
   "outputs": [
    {
     "data": {
      "application/scrapbook.scrap.json+json": {
       "data": 0.0701883653030062,
       "encoder": "json",
       "name": "Prior Model MSE",
       "version": 1
      }
     },
     "metadata": {
      "scrapbook": {
       "data": true,
       "display": false,
       "name": "Prior Model MSE"
      }
     },
     "output_type": "display_data"
    },
    {
     "data": {
      "application/scrapbook.scrap.json+json": {
       "data": 1.140856593133169,
       "encoder": "json",
       "name": "ABC Pre-generator MSE",
       "version": 1
      }
     },
     "metadata": {
      "scrapbook": {
       "data": true,
       "display": false,
       "name": "ABC Pre-generator MSE"
      }
     },
     "output_type": "display_data"
    },
    {
     "data": {
      "application/scrapbook.scrap.json+json": {
       "data": 0.19259667505504705,
       "encoder": "json",
       "name": "Prior Model MAE",
       "version": 1
      }
     },
     "metadata": {
      "scrapbook": {
       "data": true,
       "display": false,
       "name": "Prior Model MAE"
      }
     },
     "output_type": "display_data"
    },
    {
     "name": "stdout",
     "output_type": "stream",
     "text": [
      "Prior Model MAE 0.19259667505504705\n",
      "ABC Pre-generator MAE 1.0321318191038522\n"
     ]
    }
   ],
   "source": [
    "y_pred = prior_model.predict(X_test)\n",
    "y_abc = y_pred + np.random.normal(0,variance, y_pred.shape) + bias \n",
    "mse = mean_squared_error(y_pred,Y_test)\n",
    "sb.glue(\"Prior Model MSE\",mse)\n",
    "mse = mean_squared_error(y_abc,Y_test)\n",
    "sb.glue(\"ABC Pre-generator MSE\",mse)\n",
    "mae = mean_absolute_error(y_pred,Y_test)\n",
    "sb.glue(\"Prior Model MAE\",mae)\n",
    "print(\"Prior Model MAE\",mae)\n",
    "mae = mean_absolute_error(y_abc,Y_test)\n",
    "print(\"ABC Pre-generator MAE\",mae)"
   ]
  },
  {
   "cell_type": "markdown",
   "id": "25609da2",
   "metadata": {
    "papermill": {
     "duration": 0.032387,
     "end_time": "2022-07-22T20:09:30.973029",
     "exception": false,
     "start_time": "2022-07-22T20:09:30.940642",
     "status": "completed"
    },
    "tags": []
   },
   "source": [
    "# mGAN Model"
   ]
  },
  {
   "cell_type": "code",
   "execution_count": 11,
   "id": "dfc3464d",
   "metadata": {
    "execution": {
     "iopub.execute_input": "2022-07-22T20:09:31.001650Z",
     "iopub.status.busy": "2022-07-22T20:09:31.001103Z",
     "iopub.status.idle": "2022-07-22T20:09:31.019105Z",
     "shell.execute_reply": "2022-07-22T20:09:31.015706Z"
    },
    "papermill": {
     "duration": 0.047415,
     "end_time": "2022-07-22T20:09:31.033481",
     "exception": false,
     "start_time": "2022-07-22T20:09:30.986066",
     "status": "completed"
    },
    "tags": []
   },
   "outputs": [],
   "source": [
    "# gen = network.Generator(n_features+1).to(device)\n",
    "# disc = network.Discriminator(n_features+1).to(device)\n",
    "\n",
    "# criterion = torch.nn.BCELoss()\n",
    "# gen_opt = torch.optim.Adam(gen.parameters(), lr=0.01, betas=(0.5, 0.999))\n",
    "# disc_opt = torch.optim.Adam(disc.parameters(), lr=0.01, betas=(0.5, 0.999))"
   ]
  },
  {
   "cell_type": "code",
   "execution_count": 12,
   "id": "b75fdd85",
   "metadata": {
    "execution": {
     "iopub.execute_input": "2022-07-22T20:09:31.079154Z",
     "iopub.status.busy": "2022-07-22T20:09:31.078613Z",
     "iopub.status.idle": "2022-07-22T20:09:31.091150Z",
     "shell.execute_reply": "2022-07-22T20:09:31.085964Z"
    },
    "papermill": {
     "duration": 0.058482,
     "end_time": "2022-07-22T20:09:31.104302",
     "exception": false,
     "start_time": "2022-07-22T20:09:31.045820",
     "status": "completed"
    },
    "tags": []
   },
   "outputs": [],
   "source": [
    "#Training the ABC_GAN \n",
    "# ABC_train_test2.training_GAN(disc,gen,disc_opt,gen_opt,train_data,batch_size,n_epochs,criterion,prior_model,variance,bias,device)"
   ]
  },
  {
   "cell_type": "code",
   "execution_count": 13,
   "id": "1fa7c368",
   "metadata": {
    "execution": {
     "iopub.execute_input": "2022-07-22T20:09:31.141876Z",
     "iopub.status.busy": "2022-07-22T20:09:31.141536Z",
     "iopub.status.idle": "2022-07-22T20:09:31.155062Z",
     "shell.execute_reply": "2022-07-22T20:09:31.150656Z"
    },
    "papermill": {
     "duration": 0.042222,
     "end_time": "2022-07-22T20:09:31.159600",
     "exception": false,
     "start_time": "2022-07-22T20:09:31.117378",
     "status": "completed"
    },
    "tags": []
   },
   "outputs": [],
   "source": [
    "# ABC_GAN1_metrics=ABC_train_test2.test_generator(gen,test_data,prior_model,variance,bias,\"1\",device)\n",
    "# sb.glue(\"ABC_GAN_1 Metrics\",ABC_GAN1_metrics)\n",
    "\n",
    "# print(\"MAE\")\n",
    "# print(mean(ABC_GAN1_metrics[1]))"
   ]
  },
  {
   "cell_type": "code",
   "execution_count": 14,
   "id": "eb22ce5c",
   "metadata": {
    "execution": {
     "iopub.execute_input": "2022-07-22T20:09:31.196662Z",
     "iopub.status.busy": "2022-07-22T20:09:31.195823Z",
     "iopub.status.idle": "2022-07-22T20:09:31.228596Z",
     "shell.execute_reply": "2022-07-22T20:09:31.224583Z"
    },
    "papermill": {
     "duration": 0.058941,
     "end_time": "2022-07-22T20:09:31.231731",
     "exception": false,
     "start_time": "2022-07-22T20:09:31.172790",
     "status": "completed"
    },
    "tags": []
   },
   "outputs": [],
   "source": [
    "# sanityChecks.discProbVsError(train_data,disc,device)\n",
    "# sanityChecks.discProbVsError(test_data,disc,device)"
   ]
  },
  {
   "cell_type": "markdown",
   "id": "3e922b6e",
   "metadata": {
    "papermill": {
     "duration": 0.014697,
     "end_time": "2022-07-22T20:09:31.258720",
     "exception": false,
     "start_time": "2022-07-22T20:09:31.244023",
     "status": "completed"
    },
    "tags": []
   },
   "source": [
    "# mGAN Model with TabNet Generator"
   ]
  },
  {
   "cell_type": "code",
   "execution_count": 15,
   "id": "85a93542",
   "metadata": {
    "execution": {
     "iopub.execute_input": "2022-07-22T20:09:31.325786Z",
     "iopub.status.busy": "2022-07-22T20:09:31.325111Z",
     "iopub.status.idle": "2022-07-22T20:09:31.353433Z",
     "shell.execute_reply": "2022-07-22T20:09:31.352413Z"
    },
    "papermill": {
     "duration": 0.09799,
     "end_time": "2022-07-22T20:09:31.372786",
     "exception": false,
     "start_time": "2022-07-22T20:09:31.274796",
     "status": "completed"
    },
    "tags": []
   },
   "outputs": [],
   "source": [
    "gen2 = network.GeneratorTabnet(n_features+1).to(device)\n",
    "disc2 = network.Discriminator(n_features+1).to(device)\n",
    "\n",
    "criterion = torch.nn.BCELoss()\n",
    "gen_opt = torch.optim.Adam(gen2.parameters(), lr=0.01, betas=(0.5, 0.999))\n",
    "disc_opt = torch.optim.Adam(disc2.parameters(), lr=0.01, betas=(0.5, 0.999))"
   ]
  },
  {
   "cell_type": "code",
   "execution_count": 16,
   "id": "b05a4b5d",
   "metadata": {
    "execution": {
     "iopub.execute_input": "2022-07-22T20:09:31.417458Z",
     "iopub.status.busy": "2022-07-22T20:09:31.416968Z",
     "iopub.status.idle": "2022-07-22T20:20:12.906939Z",
     "shell.execute_reply": "2022-07-22T20:20:12.904126Z"
    },
    "papermill": {
     "duration": 641.526303,
     "end_time": "2022-07-22T20:20:12.916728",
     "exception": false,
     "start_time": "2022-07-22T20:09:31.390425",
     "status": "completed"
    },
    "tags": []
   },
   "outputs": [
    {
     "data": {
      "image/png": "[encoded data removed]",
      "text/plain": [
       "<Figure size 432x288 with 1 Axes>"
      ]
     },
     "metadata": {
      "needs_background": "light"
     },
     "output_type": "display_data"
    },
    {
     "data": {
      "image/png": "[encoded data removed]",
      "text/plain": [
       "<Figure size 432x288 with 1 Axes>"
      ]
     },
     "metadata": {
      "needs_background": "light"
     },
     "output_type": "display_data"
    }
   ],
   "source": [
    "#Training the ABC_GAN \n",
    "ABC_train_test2.training_GAN(disc2,gen2,disc_opt,gen_opt,train_data,batch_size,n_epochs,criterion,prior_model,variance,bias,device)"
   ]
  },
  {
   "cell_type": "code",
   "execution_count": 17,
   "id": "155e202e",
   "metadata": {
    "execution": {
     "iopub.execute_input": "2022-07-22T20:20:12.980622Z",
     "iopub.status.busy": "2022-07-22T20:20:12.979543Z",
     "iopub.status.idle": "2022-07-22T20:20:15.171648Z",
     "shell.execute_reply": "2022-07-22T20:20:15.170591Z"
    },
    "papermill": {
     "duration": 2.239395,
     "end_time": "2022-07-22T20:20:15.174482",
     "exception": false,
     "start_time": "2022-07-22T20:20:12.935087",
     "status": "completed"
    },
    "tags": []
   },
   "outputs": [
    {
     "data": {
      "application/scrapbook.scrap.json+json": {
       "data": 0.0686135050094993,
       "encoder": "json",
       "name": "ABC-GAN Model 1 MSE",
       "version": 1
      }
     },
     "metadata": {
      "scrapbook": {
       "data": true,
       "display": false,
       "name": "ABC-GAN Model 1 MSE"
      }
     },
     "output_type": "display_data"
    },
    {
     "data": {
      "application/scrapbook.scrap.json+json": {
       "data": 0.19509048144419805,
       "encoder": "json",
       "name": "ABC-GAN Model 1 MAE",
       "version": 1
      }
     },
     "metadata": {
      "scrapbook": {
       "data": true,
       "display": false,
       "name": "ABC-GAN Model 1 MAE"
      }
     },
     "output_type": "display_data"
    },
    {
     "data": {
      "application/scrapbook.scrap.json+json": {
       "data": 19.8992291073082,
       "encoder": "json",
       "name": "ABC-GAN Model 1 Manhattan Distance",
       "version": 1
      }
     },
     "metadata": {
      "scrapbook": {
       "data": true,
       "display": false,
       "name": "ABC-GAN Model 1 Manhattan Distance"
      }
     },
     "output_type": "display_data"
    },
    {
     "data": {
      "application/scrapbook.scrap.json+json": {
       "data": 2.6443744409675305,
       "encoder": "json",
       "name": "ABC-GAN Model 1 Euclidean distance",
       "version": 1
      }
     },
     "metadata": {
      "scrapbook": {
       "data": true,
       "display": false,
       "name": "ABC-GAN Model 1 Euclidean distance"
      }
     },
     "output_type": "display_data"
    },
    {
     "data": {
      "application/scrapbook.scrap.json+json": {
       "data": [
        [
         0.06838137104661964,
         0.06951723665283595,
         0.06605704864926305,
         0.06676479807172966,
         0.06792638337242735,
         0.06413972355378815,
         0.06648285536569064,
         0.06523226173396388,
         0.06480287101223571,
         0.06898916177184909,
         0.0768849286633491,
         0.06398414227973516,
         0.0689653986010417,
         0.06259436596580618,
         0.06745358725140747,
         0.07528923951680895,
         0.06558828865281037,
         0.06507828017666456,
         0.0696969588001867,
         0.0665144493666068,
         0.07032028887434277,
         0.07313943086406134,
         0.07100944024761292,
         0.07078178593479036,
         0.07018998485992994,
         0.07126271040254295,
         0.0686339747866971,
         0.06658834379543122,
         0.07617344491173875,
         0.06429261467919849,
         0.07955271132133547,
         0.06907270651952817,
         0.07295669969397162,
         0.07532331797511575,
         0.0679269131136373,
         0.06754857011711991,
         0.06862278575588905,
         0.06595865164186185,
         0.06899452353323061,
         0.07550650789149979,
         0.0724794326870578,
         0.07588980051844367,
         0.07325070487903268,
         0.0681402154196289,
         0.071129842154451,
         0.06885407419050352,
         0.06674651837046652,
         0.07590222620317702,
         0.07076759445714348,
         0.06813885762456998,
         0.06851185052863082,
         0.06741784605734773,
         0.07011357130836458,
         0.06990630540448069,
         0.0635683595336334,
         0.06506973042469977,
         0.07039582480070798,
         0.06274856186975589,
         0.06954159278530138,
         0.06635632945686093,
         0.060299602102066654,
         0.07359708017699765,
         0.0699584740722666,
         0.07178001646973342,
         0.06910583539863421,
         0.07006746678429494,
         0.06981744811739314,
         0.07176219347316702,
         0.06265458929448062,
         0.060933864964486974,
         0.07156630141337493,
         0.06492424273449753,
         0.06987488119761406,
         0.06461597131804901,
         0.06333866553713481,
         0.06975053173278782,
         0.06348450339596423,
         0.06555172222301979,
         0.066710808830553,
         0.06648735187656951,
         0.06953737692109573,
         0.061495022770841616,
         0.06829816593664237,
         0.06402316527967508,
         0.07045151837059391,
         0.06555747081534281,
         0.0694229637814231,
         0.07275919565781602,
         0.06314209175996408,
         0.06855844563771646,
         0.07022454678173641,
         0.07327029315024826,
         0.06358153120964695,
         0.06355263126732942,
         0.07178180594451658,
         0.06766520632165286,
         0.06676706484644074,
         0.06525803829451726,
         0.08147790519435777,
         0.06911651379667261
        ],
        [
         0.19438807589604573,
         0.1964614669628003,
         0.1938603166308181,
         0.19035418280491642,
         0.20054044254927658,
         0.18465611663665257,
         0.19690185056670623,
         0.1935248861509357,
         0.18741815111727692,
         0.18815520458726906,
         0.21081140845575752,
         0.1929440404306732,
         0.19632092540097587,
         0.18441046056721141,
         0.1934522637257389,
         0.20599052563820983,
         0.1904681711001139,
         0.19654126817762269,
         0.19822463608693844,
         0.19439601253572047,
         0.20231712268044552,
         0.19722056271983127,
         0.1932751881369554,
         0.19351238026922823,
         0.19888968393206596,
         0.1970556501080008,
         0.19864133781954355,
         0.196441520845481,
         0.19640455497246162,
         0.18672010446807333,
         0.20936880711758254,
         0.19103207260224164,
         0.19379717973517438,
         0.20175901626912401,
         0.19828160507056644,
         0.19317897080498583,
         0.19791196363375468,
         0.19426973021644003,
         0.19895792639284743,
         0.20694963630361884,
         0.20355478970918292,
         0.20585384139535473,
         0.20091070410083323,
         0.1905770836507573,
         0.19744735200177221,
         0.1967999988472929,
         0.1897850158788702,
         0.20803028425457432,
         0.19885322214195542,
         0.1905570532030919,
         0.20001720805086343,
         0.19636280673062978,
         0.19614523627302227,
         0.20084451069580575,
         0.1793512469294536,
         0.18769705799572609,
         0.20352037744961826,
         0.1886931921483255,
         0.2001656674980825,
         0.19279905998458466,
         0.1798112732449583,
         0.20642419079062985,
         0.1999945091996707,
         0.20293003528871956,
         0.19350051781272187,
         0.19479483778716303,
         0.20011868245680542,
         0.19445429819033427,
         0.18219273385829202,
         0.18547623164440488,
         0.19401793242158258,
         0.19343390790563003,
         0.1962792607499104,
         0.19146212186737388,
         0.18983067444288262,
         0.19947259178312093,
         0.18621164859802114,
         0.19185703434050083,
         0.19066898316583214,
         0.1899655977373614,
         0.1988407305861805,
         0.179953386824505,
         0.19032168486064263,
         0.18636214369725362,
         0.1930653990301139,
         0.18462053097455816,
         0.1931300028501188,
         0.2034454378801599,
         0.1894911685410668,
         0.20072673856481618,
         0.19604391247654954,
         0.20318853083596217,
         0.1917635318366628,
         0.19390292984305643,
         0.19721856534334958,
         0.18866489833111272,
         0.1930108487459959,
         0.19027289496186903,
         0.2067293715571948,
         0.2016272443328418
        ],
        [
         19.827583741396666,
         20.03906963020563,
         19.773752296343446,
         19.416126646101475,
         20.45512514002621,
         18.834923896938562,
         20.083988757804036,
         19.73953838739544,
         19.116651413962245,
         19.191830867901444,
         21.50276366248727,
         19.680292123928666,
         20.02473439089954,
         18.809866977855563,
         19.732130900025368,
         21.011033615097404,
         19.42775345221162,
         20.047209354117513,
         20.21891288086772,
         19.82839327864349,
         20.636346513405442,
         20.11649739742279,
         19.71406918996945,
         19.73826278746128,
         20.28674776107073,
         20.099676311016083,
         20.26141645759344,
         20.03703512623906,
         20.033264607191086,
         19.04545065574348,
         21.35561832599342,
         19.485271405428648,
         19.767312332987785,
         20.57941965945065,
         20.224723717197776,
         19.704255022108555,
         20.187020290642977,
         19.815512482076883,
         20.293708492070436,
         21.108862902969122,
         20.76258855033666,
         20.997091822326183,
         20.49289181828499,
         19.438862532377243,
         20.139629904180765,
         20.073599882423878,
         19.35807161964476,
         21.21908899396658,
         20.283028658479452,
         19.436819426715374,
         20.40175522118807,
         20.029006286524236,
         20.00681409984827,
         20.486140090972185,
         18.293827186804265,
         19.14509991556406,
         20.75907849986106,
         19.2467055991292,
         20.416898084804416,
         19.665504118427634,
         18.340749870985746,
         21.055267460644245,
         20.399439938366413,
         20.698863599449396,
         19.73705281689763,
         19.86907345429063,
         20.412105610594153,
         19.834338415414095,
         18.583658853545785,
         18.918575627729297,
         19.789829107001424,
         19.730258606374264,
         20.02048459649086,
         19.529136430472136,
         19.36272879317403,
         20.346204361878335,
         18.993588156998158,
         19.569417502731085,
         19.448236282914877,
         19.376490969210863,
         20.28175451979041,
         18.35524545609951,
         19.41281185578555,
         19.00893865711987,
         19.69267070107162,
         18.831294159404933,
         19.699260290712118,
         20.75143466377631,
         19.328099191188812,
         20.47412733361125,
         19.996479072608054,
         20.725230145268142,
         19.559880247339606,
         19.778098843991756,
         20.116293665021658,
         19.243819629773498,
         19.68710657209158,
         19.40783528611064,
         21.08639589883387,
         20.565978921949863
        ],
        [
         2.6410035681072452,
         2.6628477497951826,
         2.5957309109814966,
         2.6095994718186977,
         2.6322027095168012,
         2.5577825948438995,
         2.6040835714892947,
         2.5794748878142455,
         2.570971186779043,
         2.6527145531942566,
         2.800404028646868,
         2.554678553660516,
         2.65225765288862,
         2.5267816147249906,
         2.6230260958754417,
         2.7711915182308338,
         2.586504483388084,
         2.5764286479582132,
         2.6662876434509166,
         2.604702254652899,
         2.678183986432404,
         2.7313406869400705,
         2.6912753306297965,
         2.6869577900198984,
         2.675701488528355,
         2.6960705593621586,
         2.645877062193764,
         2.606148703956469,
         2.7874166141783236,
         2.560829298738642,
         2.8485744776600486,
         2.6543202642092516,
         2.727926569536853,
         2.7718186148198454,
         2.6322129734485777,
         2.624872216308107,
         2.6456613817910792,
         2.593796921015581,
         2.652817634212635,
         2.7751871657481013,
         2.7189891750575055,
         2.7822220710937606,
         2.7334176222563085,
         2.636342537077105,
         2.693555995288385,
         2.650116142253271,
         2.609242202975336,
         2.782449832921351,
         2.686688414131537,
         2.6363162704247256,
         2.643522035830294,
         2.6223310808991047,
         2.6742446173551864,
         2.6702889639994076,
         2.5463645992729727,
         2.576259401403394,
         2.6796220124622456,
         2.529891956332345,
         2.6633141880185183,
         2.601604428924546,
         2.480032139793918,
         2.7398726572696326,
         2.6712851505167308,
         2.705838443054723,
         2.6549567248188226,
         2.6733652223364626,
         2.6685913340139025,
         2.7055024920082844,
         2.5279968568091657,
         2.4930411601852205,
         2.701807310702272,
         2.5733776945716205,
         2.6696887238321687,
         2.5672610062946464,
         2.54175999747965,
         2.6673121745953092,
         2.544684527871452,
         2.585783375835651,
         2.6085441343240494,
         2.604171632479336,
         2.663233456900045,
         2.504494424554753,
         2.6393963183912947,
         2.5554574656070597,
         2.6806817927162814,
         2.5858967541580165,
         2.6610415828590797,
         2.724231626917439,
         2.537812711670492,
         2.6444208165583403,
         2.676360172274485,
         2.733783075030885,
         2.546628395228481,
         2.5460495653595587,
         2.705872171101342,
         2.627137424043248,
         2.6096437715398926,
         2.579984477868183,
         2.8828365076473714,
         2.6551618420089955
        ]
       ],
       "encoder": "json",
       "name": "ABC_GAN_2 Metrics",
       "version": 1
      }
     },
     "metadata": {
      "scrapbook": {
       "data": true,
       "display": false,
       "name": "ABC_GAN_2 Metrics"
      }
     },
     "output_type": "display_data"
    },
    {
     "name": "stdout",
     "output_type": "stream",
     "text": [
      "MAE\n",
      "0.19509048144419805\n"
     ]
    }
   ],
   "source": [
    "ABC_GAN2_metrics=ABC_train_test2.test_generator(gen2,test_data,prior_model,variance,bias,\"1\",device)\n",
    "sb.glue(\"ABC_GAN_2 Metrics\",ABC_GAN2_metrics)\n",
    "\n",
    "print(\"MAE\")\n",
    "print(mean(ABC_GAN2_metrics[1]))"
   ]
  },
  {
   "cell_type": "code",
   "execution_count": 18,
   "id": "08cec81f",
   "metadata": {
    "execution": {
     "iopub.execute_input": "2022-07-22T20:20:15.227183Z",
     "iopub.status.busy": "2022-07-22T20:20:15.226676Z",
     "iopub.status.idle": "2022-07-22T20:20:16.267090Z",
     "shell.execute_reply": "2022-07-22T20:20:16.265874Z"
    },
    "papermill": {
     "duration": 1.080333,
     "end_time": "2022-07-22T20:20:16.270056",
     "exception": false,
     "start_time": "2022-07-22T20:20:15.189723",
     "status": "completed"
    },
    "tags": []
   },
   "outputs": [
    {
     "data": {
      "image/png": "[encoded data removed]",
      "text/plain": [
       "<Figure size 432x288 with 1 Axes>"
      ]
     },
     "metadata": {
      "needs_background": "light"
     },
     "output_type": "display_data"
    },
    {
     "data": {
      "image/png": "[encoded data removed]",
      "text/plain": [
       "<Figure size 432x288 with 1 Axes>"
      ]
     },
     "metadata": {
      "needs_background": "light"
     },
     "output_type": "display_data"
    },
    {
     "data": {
      "image/png": "[encoded data removed]",
      "text/plain": [
       "<Figure size 432x288 with 1 Axes>"
      ]
     },
     "metadata": {
      "needs_background": "light"
     },
     "output_type": "display_data"
    },
    {
     "data": {
      "image/png": "[encoded data removed]",
      "text/plain": [
       "<Figure size 432x288 with 1 Axes>"
      ]
     },
     "metadata": {
      "needs_background": "light"
     },
     "output_type": "display_data"
    }
   ],
   "source": [
    "sanityChecks.discProbVsError(train_data,disc2,device)\n",
    "sanityChecks.discProbVsError(test_data,disc2,device)"
   ]
  },
  {
   "cell_type": "markdown",
   "id": "130f3a4d",
   "metadata": {
    "id": "130f3a4d",
    "papermill": {
     "duration": 0.021103,
     "end_time": "2022-07-22T20:20:16.308643",
     "exception": false,
     "start_time": "2022-07-22T20:20:16.287540",
     "status": "completed"
    },
    "tags": []
   },
   "source": [
    "# skipGAN Model"
   ]
  },
  {
   "cell_type": "code",
   "execution_count": 19,
   "id": "4e43dad1",
   "metadata": {
    "execution": {
     "iopub.execute_input": "2022-07-22T20:20:16.359449Z",
     "iopub.status.busy": "2022-07-22T20:20:16.358772Z",
     "iopub.status.idle": "2022-07-22T20:20:16.364994Z",
     "shell.execute_reply": "2022-07-22T20:20:16.363884Z"
    },
    "id": "4e43dad1",
    "papermill": {
     "duration": 0.042587,
     "end_time": "2022-07-22T20:20:16.370054",
     "exception": false,
     "start_time": "2022-07-22T20:20:16.327467",
     "status": "completed"
    },
    "tags": []
   },
   "outputs": [],
   "source": [
    "# #Generator\n",
    "# gen3 = network.GeneratorWithSkipConnection(n_features+1).to(device)\n",
    "# constraints=network.weightConstraint()\n",
    "# #Discriminator \n",
    "# disc3 = network.Discriminator(n_features+1).to(device)\n",
    "\n",
    "# criterion = torch.nn.BCELoss()\n",
    "# gen_opt = torch.optim.Adam(gen3.parameters(), lr=0.01, betas=(0.5, 0.999))\n",
    "# disc_opt = torch.optim.Adam(disc3.parameters(), lr=0.01, betas=(0.5, 0.999))\n"
   ]
  },
  {
   "cell_type": "markdown",
   "id": "6ac40080",
   "metadata": {
    "tags": [
     "papermill-error-cell-tag"
    ]
   },
   "source": [
    "<span id=\"papermill-error-cell\" style=\"color:red; font-family:Helvetica Neue, Helvetica, Arial, sans-serif; font-size:2em;\">Execution using papermill encountered an exception here and stopped:</span>"
   ]
  },
  {
   "cell_type": "code",
   "execution_count": 20,
   "id": "26acbc37",
   "metadata": {
    "execution": {
     "iopub.execute_input": "2022-07-22T20:20:16.415042Z",
     "iopub.status.busy": "2022-07-22T20:20:16.414564Z",
     "iopub.status.idle": "2022-07-22T20:20:17.380502Z",
     "shell.execute_reply": "2022-07-22T20:20:17.377990Z"
    },
    "id": "26acbc37",
    "papermill": {
     "duration": 0.997824,
     "end_time": "2022-07-22T20:20:17.385687",
     "exception": true,
     "start_time": "2022-07-22T20:20:16.387863",
     "status": "failed"
    },
    "tags": []
   },
   "outputs": [
    {
     "ename": "NameError",
     "evalue": "name 'disc3' is not defined",
     "output_type": "error",
     "traceback": [
      "\u001b[0;31m---------------------------------------------------------------------------\u001b[0m",
      "\u001b[0;31mNameError\u001b[0m                                 Traceback (most recent call last)",
      "Input \u001b[0;32mIn [20]\u001b[0m, in \u001b[0;36m<cell line: 1>\u001b[0;34m()\u001b[0m\n\u001b[0;32m----> 1\u001b[0m ABC_train_test2\u001b[38;5;241m.\u001b[39mtraining_GAN_skip_connection(\u001b[43mdisc3\u001b[49m,gen3,disc_opt,gen_opt,train_data,batch_size,n_epochs,criterion,prior_model,variance,bias,device)\n",
      "\u001b[0;31mNameError\u001b[0m: name 'disc3' is not defined"
     ]
    }
   ],
   "source": [
    "ABC_train_test2.training_GAN_skip_connection(disc3,gen3,disc_opt,gen_opt,train_data,batch_size,n_epochs,criterion,prior_model,variance,bias,device)"
   ]
  },
  {
   "cell_type": "code",
   "execution_count": null,
   "id": "c5e0717b",
   "metadata": {
    "id": "c5e0717b",
    "papermill": {
     "duration": null,
     "end_time": null,
     "exception": null,
     "start_time": null,
     "status": "pending"
    },
    "tags": []
   },
   "outputs": [],
   "source": [
    "# ABC_GAN3_metrics=ABC_train_test2.test_generator(gen3,test_data,prior_model,variance,bias,\"3\",device)\n",
    "# sb.glue(\"ABC_GAN_3 Metrics\",ABC_GAN3_metrics)\n",
    "\n",
    "# print(\"MAE\")\n",
    "# print(mean(ABC_GAN3_metrics[1]))"
   ]
  },
  {
   "cell_type": "code",
   "execution_count": null,
   "id": "c8e46b48",
   "metadata": {
    "id": "c8e46b48",
    "papermill": {
     "duration": null,
     "end_time": null,
     "exception": null,
     "start_time": null,
     "status": "pending"
    },
    "tags": []
   },
   "outputs": [],
   "source": [
    "# sanityChecks.discProbVsError(train_data,disc3,device)\n",
    "# sanityChecks.discProbVsError(test_data,disc3,device)"
   ]
  },
  {
   "cell_type": "markdown",
   "id": "5687f9d7",
   "metadata": {
    "id": "130f3a4d",
    "papermill": {
     "duration": null,
     "end_time": null,
     "exception": null,
     "start_time": null,
     "status": "pending"
    },
    "tags": []
   },
   "source": [
    "# skipGAN Model with TabNet Generator"
   ]
  },
  {
   "cell_type": "code",
   "execution_count": null,
   "id": "31955660",
   "metadata": {
    "id": "4e43dad1",
    "papermill": {
     "duration": null,
     "end_time": null,
     "exception": null,
     "start_time": null,
     "status": "pending"
    },
    "tags": []
   },
   "outputs": [],
   "source": [
    "# #Generator\n",
    "# gen4 = network.GeneratorTabnetskipConnection(n_features+1).to(device)\n",
    "# constraints=network.weightConstraint()\n",
    "# #Discriminator \n",
    "# disc4 = network.Discriminator(n_features+1).to(device)\n",
    "\n",
    "# criterion = torch.nn.BCELoss()\n",
    "# gen_opt = torch.optim.Adam(gen4.parameters(), lr=0.01, betas=(0.5, 0.999))\n",
    "# disc_opt = torch.optim.Adam(disc4.parameters(), lr=0.01, betas=(0.5, 0.999))\n"
   ]
  },
  {
   "cell_type": "code",
   "execution_count": null,
   "id": "8698745a",
   "metadata": {
    "id": "26acbc37",
    "papermill": {
     "duration": null,
     "end_time": null,
     "exception": null,
     "start_time": null,
     "status": "pending"
    },
    "tags": []
   },
   "outputs": [],
   "source": [
    "# ABC_train_test2.training_GAN_skip_connection(disc4,gen4,disc_opt,gen_opt,train_data,batch_size,n_epochs,criterion,prior_model,variance,bias,device)"
   ]
  },
  {
   "cell_type": "code",
   "execution_count": null,
   "id": "ce894d88",
   "metadata": {
    "id": "c5e0717b",
    "papermill": {
     "duration": null,
     "end_time": null,
     "exception": null,
     "start_time": null,
     "status": "pending"
    },
    "tags": []
   },
   "outputs": [],
   "source": [
    "# ABC_GAN4_metrics=ABC_train_test2.test_generator(gen4,test_data,prior_model,variance,bias,\"3\",device)\n",
    "# sb.glue(\"ABC_GAN_4 Metrics\",ABC_GAN4_metrics)\n",
    "\n",
    "# print(\"MAE\")\n",
    "# print(mean(ABC_GAN4_metrics[1]))"
   ]
  },
  {
   "cell_type": "code",
   "execution_count": null,
   "id": "d8f17d32",
   "metadata": {
    "id": "c8e46b48",
    "papermill": {
     "duration": null,
     "end_time": null,
     "exception": null,
     "start_time": null,
     "status": "pending"
    },
    "tags": []
   },
   "outputs": [],
   "source": [
    "# sanityChecks.discProbVsError(train_data,disc4,device)\n",
    "# sanityChecks.discProbVsError(test_data,disc4,device)"
   ]
  },
  {
   "cell_type": "markdown",
   "id": "a5bd74c3",
   "metadata": {
    "id": "a5bd74c3",
    "papermill": {
     "duration": null,
     "end_time": null,
     "exception": null,
     "start_time": null,
     "status": "pending"
    },
    "tags": []
   },
   "source": [
    "## Skip Connection Model Analysis - ABC-GAN "
   ]
  },
  {
   "cell_type": "markdown",
   "id": "5744a8bf",
   "metadata": {
    "id": "5744a8bf",
    "papermill": {
     "duration": null,
     "end_time": null,
     "exception": null,
     "start_time": null,
     "status": "pending"
    },
    "tags": []
   },
   "source": [
    "### Weight Analysis \n",
    "\n",
    "Study the weights of the skip connection layer\n",
    "\n",
    "Equation of the skip connection is \n",
    "\n",
    "$output = y_{gan} * w + y_{abc} * (1-w)$"
   ]
  },
  {
   "cell_type": "code",
   "execution_count": null,
   "id": "52c31dea",
   "metadata": {
    "id": "52c31dea",
    "papermill": {
     "duration": null,
     "end_time": null,
     "exception": null,
     "start_time": null,
     "status": "pending"
    },
    "tags": []
   },
   "outputs": [],
   "source": [
    "# print(\"Weight of the node at skip connection\")\n",
    "# for name,param in gen3.named_parameters():\n",
    "#     if(name == \"skipNode.weight\"):\n",
    "#         print(param)\n",
    "#         sb.glue(\"Skip Connection Weight\",param.item())"
   ]
  },
  {
   "cell_type": "markdown",
   "id": "d8e92cb2",
   "metadata": {
    "id": "a5bd74c3",
    "papermill": {
     "duration": null,
     "end_time": null,
     "exception": null,
     "start_time": null,
     "status": "pending"
    },
    "tags": []
   },
   "source": [
    "## skipGAN Model Analysis (TabNet Generator) "
   ]
  },
  {
   "cell_type": "markdown",
   "id": "b7a954c7",
   "metadata": {
    "id": "5744a8bf",
    "papermill": {
     "duration": null,
     "end_time": null,
     "exception": null,
     "start_time": null,
     "status": "pending"
    },
    "tags": []
   },
   "source": [
    "### Weight Analysis \n",
    "\n",
    "Study the weights of the skip connection layer\n",
    "\n",
    "Equation of the skip connection is \n",
    "\n",
    "$output = y_{gan} * w + y_{abc} * (1-w)$"
   ]
  },
  {
   "cell_type": "code",
   "execution_count": null,
   "id": "803e8f09",
   "metadata": {
    "id": "52c31dea",
    "papermill": {
     "duration": null,
     "end_time": null,
     "exception": null,
     "start_time": null,
     "status": "pending"
    },
    "tags": []
   },
   "outputs": [],
   "source": [
    "# print(\"Weight of the node at skip connection\")\n",
    "# for name,param in gen4.named_parameters():\n",
    "#     if(name == \"skipNode.weight\"):\n",
    "#         print(param)\n",
    "#         sb.glue(\"Skip Connection Weight\",param.item())"
   ]
  }
 ],
 "metadata": {
  "colab": {
   "collapsed_sections": [],
   "name": "ABC_GAN_Model-Catboost_Pre-gen.ipynb",
   "provenance": []
  },
  "interpreter": {
   "hash": "31f2aee4e71d21fbe5cf8b01ff0e069b9275f58929596ceb00d14d90e3e16cd6"
  },
  "kernelspec": {
   "display_name": "Python 3 (ipykernel)",
   "language": "python",
   "name": "python3"
  },
  "language_info": {
   "codemirror_mode": {
    "name": "ipython",
    "version": 3
   },
   "file_extension": ".py",
   "mimetype": "text/x-python",
   "name": "python",
   "nbconvert_exporter": "python",
   "pygments_lexer": "ipython3",
   "version": "3.8.13"
  },
  "papermill": {
   "default_parameters": {},
   "duration": 663.695513,
   "end_time": "2022-07-22T20:20:18.288681",
   "environment_variables": {},
   "exception": true,
   "input_path": "ABC_GAN-Catboost.ipynb",
   "output_path": "./ABC_GAN_Catboost/ABC-GAN_output_2_1.ipynb",
   "parameters": {
    "bias": 1,
    "variance": 0.1
   },
   "start_time": "2022-07-22T20:09:14.593168",
   "version": "2.3.3"
  }
 },
 "nbformat": 4,
 "nbformat_minor": 5
}