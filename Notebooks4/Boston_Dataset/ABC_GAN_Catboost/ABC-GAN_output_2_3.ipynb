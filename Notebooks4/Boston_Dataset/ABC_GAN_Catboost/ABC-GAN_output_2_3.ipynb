{
 "cells": [
  {
   "cell_type": "markdown",
   "id": "b340b477",
   "metadata": {
    "tags": [
     "papermill-error-cell-tag"
    ]
   },
   "source": [
    "<span style=\"color:red; font-family:Helvetica Neue, Helvetica, Arial, sans-serif; font-size:2em;\">An Exception was encountered at '<a href=\"#papermill-error-cell\">In [20]</a>'.</span>"
   ]
  },
  {
   "cell_type": "markdown",
   "id": "622780e6",
   "metadata": {
    "id": "622780e6",
    "papermill": {
     "duration": 0.010527,
     "end_time": "2022-07-22T20:31:33.615178",
     "exception": false,
     "start_time": "2022-07-22T20:31:33.604651",
     "status": "completed"
    },
    "tags": []
   },
   "source": [
    "## Import Libraries "
   ]
  },
  {
   "cell_type": "code",
   "execution_count": 1,
   "id": "a62397e3",
   "metadata": {
    "execution": {
     "iopub.execute_input": "2022-07-22T20:31:33.652124Z",
     "iopub.status.busy": "2022-07-22T20:31:33.651105Z",
     "iopub.status.idle": "2022-07-22T20:31:33.672287Z",
     "shell.execute_reply": "2022-07-22T20:31:33.670319Z"
    },
    "id": "a62397e3",
    "papermill": {
     "duration": 0.054068,
     "end_time": "2022-07-22T20:31:33.677161",
     "exception": false,
     "start_time": "2022-07-22T20:31:33.623093",
     "status": "completed"
    },
    "tags": []
   },
   "outputs": [],
   "source": [
    "import warnings\n",
    "import sys\n",
    "sys.path.insert(0, '../../src')\n",
    "warnings.filterwarnings('ignore')"
   ]
  },
  {
   "cell_type": "code",
   "execution_count": 2,
   "id": "d6a4e155",
   "metadata": {
    "execution": {
     "iopub.execute_input": "2022-07-22T20:31:33.697839Z",
     "iopub.status.busy": "2022-07-22T20:31:33.696892Z",
     "iopub.status.idle": "2022-07-22T20:31:40.752280Z",
     "shell.execute_reply": "2022-07-22T20:31:40.751078Z"
    },
    "id": "d6a4e155",
    "papermill": {
     "duration": 7.071226,
     "end_time": "2022-07-22T20:31:40.756325",
     "exception": false,
     "start_time": "2022-07-22T20:31:33.685099",
     "status": "completed"
    },
    "tags": []
   },
   "outputs": [],
   "source": [
    "import ABC_train_test2\n",
    "import bostonDataset\n",
    "import network\n",
    "import dataset\n",
    "import sanityChecks\n",
    "import torch \n",
    "import scrapbook as sb\n",
    "from statistics import mean \n",
    "import catboost as ctb \n",
    "from sklearn.model_selection import train_test_split\n",
    "from sklearn.metrics import mean_squared_error,mean_absolute_error\n",
    "import numpy as np"
   ]
  },
  {
   "cell_type": "markdown",
   "id": "2fa5b0f7",
   "metadata": {
    "id": "2fa5b0f7",
    "papermill": {
     "duration": 0.008281,
     "end_time": "2022-07-22T20:31:40.772418",
     "exception": false,
     "start_time": "2022-07-22T20:31:40.764137",
     "status": "completed"
    },
    "tags": []
   },
   "source": [
    "## Parameters "
   ]
  },
  {
   "cell_type": "code",
   "execution_count": 3,
   "id": "783186fb",
   "metadata": {
    "execution": {
     "iopub.execute_input": "2022-07-22T20:31:40.793477Z",
     "iopub.status.busy": "2022-07-22T20:31:40.792625Z",
     "iopub.status.idle": "2022-07-22T20:31:40.808429Z",
     "shell.execute_reply": "2022-07-22T20:31:40.800207Z"
    },
    "id": "783186fb",
    "papermill": {
     "duration": 0.038154,
     "end_time": "2022-07-22T20:31:40.818074",
     "exception": false,
     "start_time": "2022-07-22T20:31:40.779920",
     "status": "completed"
    },
    "tags": [
     "parameters"
    ]
   },
   "outputs": [],
   "source": [
    "variance = 1\n",
    "bias = 1 "
   ]
  },
  {
   "cell_type": "code",
   "execution_count": 4,
   "id": "1535e902",
   "metadata": {
    "execution": {
     "iopub.execute_input": "2022-07-22T20:31:40.838707Z",
     "iopub.status.busy": "2022-07-22T20:31:40.836991Z",
     "iopub.status.idle": "2022-07-22T20:31:40.846682Z",
     "shell.execute_reply": "2022-07-22T20:31:40.843898Z"
    },
    "papermill": {
     "duration": 0.059239,
     "end_time": "2022-07-22T20:31:40.885458",
     "exception": false,
     "start_time": "2022-07-22T20:31:40.826219",
     "status": "completed"
    },
    "tags": [
     "injected-parameters"
    ]
   },
   "outputs": [],
   "source": [
    "# Parameters\n",
    "variance = 1\n",
    "bias = 0.1\n"
   ]
  },
  {
   "cell_type": "markdown",
   "id": "391cdbfd",
   "metadata": {
    "id": "391cdbfd",
    "papermill": {
     "duration": 0.02424,
     "end_time": "2022-07-22T20:31:40.918811",
     "exception": false,
     "start_time": "2022-07-22T20:31:40.894571",
     "status": "completed"
    },
    "tags": []
   },
   "source": [
    "## Dataset \n"
   ]
  },
  {
   "cell_type": "code",
   "execution_count": 5,
   "id": "5b51f161",
   "metadata": {
    "execution": {
     "iopub.execute_input": "2022-07-22T20:31:40.945874Z",
     "iopub.status.busy": "2022-07-22T20:31:40.945221Z",
     "iopub.status.idle": "2022-07-22T20:31:40.970600Z",
     "shell.execute_reply": "2022-07-22T20:31:40.954217Z"
    },
    "id": "5b51f161",
    "papermill": {
     "duration": 0.060841,
     "end_time": "2022-07-22T20:31:40.990913",
     "exception": false,
     "start_time": "2022-07-22T20:31:40.930072",
     "status": "completed"
    },
    "tags": []
   },
   "outputs": [],
   "source": [
    "#Parameters \n",
    "n_features = 13\n",
    "n_samples= 506\n",
    "n_target = 1 "
   ]
  },
  {
   "cell_type": "code",
   "execution_count": 6,
   "id": "5d6eced4",
   "metadata": {
    "execution": {
     "iopub.execute_input": "2022-07-22T20:31:41.024579Z",
     "iopub.status.busy": "2022-07-22T20:31:41.023728Z",
     "iopub.status.idle": "2022-07-22T20:31:41.072884Z",
     "shell.execute_reply": "2022-07-22T20:31:41.071812Z"
    },
    "id": "5d6eced4",
    "papermill": {
     "duration": 0.084915,
     "end_time": "2022-07-22T20:31:41.084678",
     "exception": false,
     "start_time": "2022-07-22T20:31:40.999763",
     "status": "completed"
    },
    "tags": []
   },
   "outputs": [
    {
     "name": "stdout",
     "output_type": "stream",
     "text": [
      "         X1        X2        X3        X4        X5        X6        X7  \\\n",
      "0 -0.419782  0.284830 -1.287909 -0.272599 -0.144217  0.413672 -0.120013   \n",
      "1 -0.417339 -0.487722 -0.593381 -0.272599 -0.740262  0.194274  0.367166   \n",
      "2 -0.417342 -0.487722 -0.593381 -0.272599 -0.740262  1.282714 -0.265812   \n",
      "3 -0.416750 -0.487722 -1.306878 -0.272599 -0.835284  1.016303 -0.809889   \n",
      "4 -0.412482 -0.487722 -1.306878 -0.272599 -0.835284  1.228577 -0.511180   \n",
      "\n",
      "         X8        X9       X10       X11       X12       X13         Y  \n",
      "0  0.140214 -0.982843 -0.666608 -1.459000  0.441052 -1.075562  0.159686  \n",
      "1  0.557160 -0.867883 -0.987329 -0.303094  0.441052 -0.492439 -0.101524  \n",
      "2  0.557160 -0.867883 -0.987329 -0.303094  0.396427 -1.208727  1.324247  \n",
      "3  1.077737 -0.752922 -1.106115  0.113032  0.416163 -1.361517  1.182758  \n",
      "4  1.077737 -0.752922 -1.106115  0.113032  0.441052 -1.026501  1.487503  \n"
     ]
    }
   ],
   "source": [
    "X,Y = bostonDataset.boston_data()"
   ]
  },
  {
   "cell_type": "code",
   "execution_count": 7,
   "id": "fe007438",
   "metadata": {
    "execution": {
     "iopub.execute_input": "2022-07-22T20:31:41.104401Z",
     "iopub.status.busy": "2022-07-22T20:31:41.103502Z",
     "iopub.status.idle": "2022-07-22T20:31:41.110317Z",
     "shell.execute_reply": "2022-07-22T20:31:41.109297Z"
    },
    "id": "fe007438",
    "papermill": {
     "duration": 0.030037,
     "end_time": "2022-07-22T20:31:41.122274",
     "exception": false,
     "start_time": "2022-07-22T20:31:41.092237",
     "status": "completed"
    },
    "tags": []
   },
   "outputs": [],
   "source": [
    "#Train test split for dataset \n",
    "X_train,X_test,Y_train,Y_test = train_test_split(X,Y,test_size = 0.2)\n",
    "train_data = dataset.CustomDataset(X_train,Y_train)\n",
    "test_data = dataset.CustomDataset(X_test,Y_test)\n"
   ]
  },
  {
   "cell_type": "markdown",
   "id": "a9a1af34",
   "metadata": {
    "id": "a9a1af34",
    "papermill": {
     "duration": 0.014602,
     "end_time": "2022-07-22T20:31:41.146163",
     "exception": false,
     "start_time": "2022-07-22T20:31:41.131561",
     "status": "completed"
    },
    "tags": []
   },
   "source": [
    "## Training Parameters "
   ]
  },
  {
   "cell_type": "code",
   "execution_count": 8,
   "id": "952b7fc8",
   "metadata": {
    "execution": {
     "iopub.execute_input": "2022-07-22T20:31:41.168519Z",
     "iopub.status.busy": "2022-07-22T20:31:41.168052Z",
     "iopub.status.idle": "2022-07-22T20:31:41.173606Z",
     "shell.execute_reply": "2022-07-22T20:31:41.172616Z"
    },
    "id": "952b7fc8",
    "papermill": {
     "duration": 0.020317,
     "end_time": "2022-07-22T20:31:41.177324",
     "exception": false,
     "start_time": "2022-07-22T20:31:41.157007",
     "status": "completed"
    },
    "tags": []
   },
   "outputs": [],
   "source": [
    "batch_size = 32\n",
    "n_epochs = 1000\n",
    "#Select the device \n",
    "device = torch.device('cuda' if torch.cuda.is_available() else 'cpu')"
   ]
  },
  {
   "cell_type": "markdown",
   "id": "a95e1600",
   "metadata": {
    "id": "a95e1600",
    "papermill": {
     "duration": 0.01178,
     "end_time": "2022-07-22T20:31:41.197690",
     "exception": false,
     "start_time": "2022-07-22T20:31:41.185910",
     "status": "completed"
    },
    "tags": []
   },
   "source": [
    "# ABC Pre-generator Model \n",
    "\n",
    "1. The catboost model is used as a pre-generator model for the ABC-GAN. \n",
    "2. The model is first trained on the entire dataset \n",
    "3. It generats X,Y pairs and we add some Gaussian noise with mean 0 and variance 1 to it which is then feed as input to the generator.\n"
   ]
  },
  {
   "cell_type": "code",
   "execution_count": 9,
   "id": "ff8ce7bd",
   "metadata": {
    "execution": {
     "iopub.execute_input": "2022-07-22T20:31:41.241853Z",
     "iopub.status.busy": "2022-07-22T20:31:41.241119Z",
     "iopub.status.idle": "2022-07-22T20:31:45.285314Z",
     "shell.execute_reply": "2022-07-22T20:31:45.284417Z"
    },
    "id": "ff8ce7bd",
    "papermill": {
     "duration": 4.08018,
     "end_time": "2022-07-22T20:31:45.288491",
     "exception": false,
     "start_time": "2022-07-22T20:31:41.208311",
     "status": "completed"
    },
    "tags": []
   },
   "outputs": [
    {
     "name": "stdout",
     "output_type": "stream",
     "text": [
      "Learning rate set to 0.03548\n",
      "0:\tlearn: 0.9928265\ttotal: 66.7ms\tremaining: 1m 6s\n",
      "1:\tlearn: 0.9716587\ttotal: 70ms\tremaining: 34.9s\n",
      "2:\tlearn: 0.9502117\ttotal: 72.7ms\tremaining: 24.2s\n",
      "3:\tlearn: 0.9309764\ttotal: 75.9ms\tremaining: 18.9s\n",
      "4:\tlearn: 0.9145034\ttotal: 77.4ms\tremaining: 15.4s\n",
      "5:\tlearn: 0.8986050\ttotal: 78.9ms\tremaining: 13.1s\n",
      "6:\tlearn: 0.8811993\ttotal: 81.2ms\tremaining: 11.5s\n",
      "7:\tlearn: 0.8645161\ttotal: 83.7ms\tremaining: 10.4s\n",
      "8:\tlearn: 0.8484047\ttotal: 86ms\tremaining: 9.47s\n",
      "9:\tlearn: 0.8298633\ttotal: 88.3ms\tremaining: 8.74s\n",
      "10:\tlearn: 0.8136077\ttotal: 91.5ms\tremaining: 8.22s\n",
      "11:\tlearn: 0.8002760\ttotal: 95ms\tremaining: 7.82s\n",
      "12:\tlearn: 0.7881773\ttotal: 101ms\tremaining: 7.63s\n",
      "13:\tlearn: 0.7712250\ttotal: 111ms\tremaining: 7.84s\n",
      "14:\tlearn: 0.7572095\ttotal: 118ms\tremaining: 7.72s\n",
      "15:\tlearn: 0.7423732\ttotal: 120ms\tremaining: 7.4s\n",
      "16:\tlearn: 0.7303043\ttotal: 123ms\tremaining: 7.1s\n",
      "17:\tlearn: 0.7171936\ttotal: 125ms\tremaining: 6.82s\n",
      "18:\tlearn: 0.7033690\ttotal: 127ms\tremaining: 6.58s\n",
      "19:\tlearn: 0.6914553\ttotal: 129ms\tremaining: 6.33s\n",
      "20:\tlearn: 0.6770408\ttotal: 132ms\tremaining: 6.13s\n",
      "21:\tlearn: 0.6664598\ttotal: 134ms\tremaining: 5.94s\n",
      "22:\tlearn: 0.6553093\ttotal: 136ms\tremaining: 5.78s\n",
      "23:\tlearn: 0.6444929\ttotal: 138ms\tremaining: 5.61s\n",
      "24:\tlearn: 0.6342233\ttotal: 142ms\tremaining: 5.54s\n",
      "25:\tlearn: 0.6250020\ttotal: 148ms\tremaining: 5.53s\n",
      "26:\tlearn: 0.6157507\ttotal: 150ms\tremaining: 5.4s\n",
      "27:\tlearn: 0.6060534\ttotal: 153ms\tremaining: 5.3s\n",
      "28:\tlearn: 0.5960254\ttotal: 156ms\tremaining: 5.24s\n",
      "29:\tlearn: 0.5855783\ttotal: 159ms\tremaining: 5.13s\n",
      "30:\tlearn: 0.5763544\ttotal: 161ms\tremaining: 5.03s\n",
      "31:\tlearn: 0.5653120\ttotal: 163ms\tremaining: 4.92s\n",
      "32:\tlearn: 0.5577169\ttotal: 165ms\tremaining: 4.83s\n",
      "33:\tlearn: 0.5506849\ttotal: 167ms\tremaining: 4.74s\n",
      "34:\tlearn: 0.5419755\ttotal: 168ms\tremaining: 4.64s\n",
      "35:\tlearn: 0.5348112\ttotal: 170ms\tremaining: 4.56s\n",
      "36:\tlearn: 0.5274225\ttotal: 172ms\tremaining: 4.48s\n",
      "37:\tlearn: 0.5194986\ttotal: 175ms\tremaining: 4.42s\n"
     ]
    },
    {
     "name": "stdout",
     "output_type": "stream",
     "text": [
      "38:\tlearn: 0.5106989\ttotal: 177ms\tremaining: 4.37s\n",
      "39:\tlearn: 0.5037511\ttotal: 180ms\tremaining: 4.32s\n",
      "40:\tlearn: 0.4974672\ttotal: 183ms\tremaining: 4.28s\n",
      "41:\tlearn: 0.4915663\ttotal: 186ms\tremaining: 4.25s\n",
      "42:\tlearn: 0.4844165\ttotal: 189ms\tremaining: 4.2s\n",
      "43:\tlearn: 0.4772899\ttotal: 193ms\tremaining: 4.2s\n",
      "44:\tlearn: 0.4701817\ttotal: 197ms\tremaining: 4.18s\n",
      "45:\tlearn: 0.4644756\ttotal: 199ms\tremaining: 4.14s\n",
      "46:\tlearn: 0.4597916\ttotal: 202ms\tremaining: 4.1s\n",
      "47:\tlearn: 0.4541412\ttotal: 205ms\tremaining: 4.06s\n",
      "48:\tlearn: 0.4492123\ttotal: 207ms\tremaining: 4.02s\n",
      "49:\tlearn: 0.4439025\ttotal: 209ms\tremaining: 3.98s\n",
      "50:\tlearn: 0.4398235\ttotal: 212ms\tremaining: 3.94s\n",
      "51:\tlearn: 0.4343415\ttotal: 214ms\tremaining: 3.91s\n",
      "52:\tlearn: 0.4293945\ttotal: 217ms\tremaining: 3.87s\n",
      "53:\tlearn: 0.4255758\ttotal: 219ms\tremaining: 3.84s\n",
      "54:\tlearn: 0.4207353\ttotal: 222ms\tremaining: 3.81s\n",
      "55:\tlearn: 0.4169570\ttotal: 224ms\tremaining: 3.78s\n",
      "56:\tlearn: 0.4127354\ttotal: 227ms\tremaining: 3.76s\n",
      "57:\tlearn: 0.4081443\ttotal: 230ms\tremaining: 3.73s\n",
      "58:\tlearn: 0.4043782\ttotal: 232ms\tremaining: 3.7s\n",
      "59:\tlearn: 0.4006488\ttotal: 238ms\tremaining: 3.72s\n",
      "60:\tlearn: 0.3966277\ttotal: 240ms\tremaining: 3.7s\n",
      "61:\tlearn: 0.3931974\ttotal: 243ms\tremaining: 3.67s\n",
      "62:\tlearn: 0.3902265\ttotal: 245ms\tremaining: 3.64s\n",
      "63:\tlearn: 0.3861218\ttotal: 248ms\tremaining: 3.62s\n",
      "64:\tlearn: 0.3823429\ttotal: 250ms\tremaining: 3.6s\n",
      "65:\tlearn: 0.3792921\ttotal: 253ms\tremaining: 3.58s\n",
      "66:\tlearn: 0.3753907\ttotal: 255ms\tremaining: 3.55s\n",
      "67:\tlearn: 0.3709096\ttotal: 257ms\tremaining: 3.52s\n",
      "68:\tlearn: 0.3682872\ttotal: 259ms\tremaining: 3.49s\n",
      "69:\tlearn: 0.3656159\ttotal: 261ms\tremaining: 3.47s\n",
      "70:\tlearn: 0.3617008\ttotal: 264ms\tremaining: 3.46s\n",
      "71:\tlearn: 0.3592498\ttotal: 267ms\tremaining: 3.44s\n",
      "72:\tlearn: 0.3568557\ttotal: 269ms\tremaining: 3.42s\n",
      "73:\tlearn: 0.3536091\ttotal: 272ms\tremaining: 3.4s\n",
      "74:\tlearn: 0.3509653\ttotal: 278ms\tremaining: 3.43s\n",
      "75:\tlearn: 0.3489575\ttotal: 281ms\tremaining: 3.42s\n",
      "76:\tlearn: 0.3455172\ttotal: 283ms\tremaining: 3.4s\n",
      "77:\tlearn: 0.3430954\ttotal: 286ms\tremaining: 3.38s\n",
      "78:\tlearn: 0.3411586\ttotal: 289ms\tremaining: 3.37s\n",
      "79:\tlearn: 0.3388955\ttotal: 292ms\tremaining: 3.36s\n",
      "80:\tlearn: 0.3366551\ttotal: 294ms\tremaining: 3.34s\n",
      "81:\tlearn: 0.3339789\ttotal: 297ms\tremaining: 3.32s\n",
      "82:\tlearn: 0.3324210\ttotal: 299ms\tremaining: 3.31s\n",
      "83:\tlearn: 0.3296692\ttotal: 302ms\tremaining: 3.29s\n",
      "84:\tlearn: 0.3279822\ttotal: 304ms\tremaining: 3.28s\n",
      "85:\tlearn: 0.3254539\ttotal: 305ms\tremaining: 3.25s\n",
      "86:\tlearn: 0.3227426\ttotal: 308ms\tremaining: 3.23s\n",
      "87:\tlearn: 0.3205090\ttotal: 311ms\tremaining: 3.22s\n",
      "88:\tlearn: 0.3189267\ttotal: 313ms\tremaining: 3.21s\n",
      "89:\tlearn: 0.3166553\ttotal: 316ms\tremaining: 3.19s\n",
      "90:\tlearn: 0.3144093\ttotal: 317ms\tremaining: 3.17s\n",
      "91:\tlearn: 0.3122024\ttotal: 320ms\tremaining: 3.16s\n",
      "92:\tlearn: 0.3102279\ttotal: 322ms\tremaining: 3.14s\n",
      "93:\tlearn: 0.3088881\ttotal: 325ms\tremaining: 3.13s\n",
      "94:\tlearn: 0.3072006\ttotal: 327ms\tremaining: 3.12s\n",
      "95:\tlearn: 0.3054932\ttotal: 330ms\tremaining: 3.1s\n",
      "96:\tlearn: 0.3035381\ttotal: 331ms\tremaining: 3.08s\n",
      "97:\tlearn: 0.3021670\ttotal: 333ms\tremaining: 3.06s\n",
      "98:\tlearn: 0.3009470\ttotal: 335ms\tremaining: 3.04s\n",
      "99:\tlearn: 0.2995017\ttotal: 337ms\tremaining: 3.03s\n",
      "100:\tlearn: 0.2978991\ttotal: 339ms\tremaining: 3.02s\n",
      "101:\tlearn: 0.2965103\ttotal: 341ms\tremaining: 3s\n",
      "102:\tlearn: 0.2953736\ttotal: 343ms\tremaining: 2.99s\n",
      "103:\tlearn: 0.2939926\ttotal: 345ms\tremaining: 2.97s\n",
      "104:\tlearn: 0.2927939\ttotal: 346ms\tremaining: 2.95s\n",
      "105:\tlearn: 0.2913940\ttotal: 348ms\tremaining: 2.94s\n"
     ]
    },
    {
     "name": "stdout",
     "output_type": "stream",
     "text": [
      "106:\tlearn: 0.2893474\ttotal: 351ms\tremaining: 2.93s\n",
      "107:\tlearn: 0.2876915\ttotal: 353ms\tremaining: 2.92s\n",
      "108:\tlearn: 0.2862100\ttotal: 356ms\tremaining: 2.91s\n",
      "109:\tlearn: 0.2854280\ttotal: 359ms\tremaining: 2.9s\n",
      "110:\tlearn: 0.2839188\ttotal: 361ms\tremaining: 2.89s\n",
      "111:\tlearn: 0.2825145\ttotal: 364ms\tremaining: 2.88s\n",
      "112:\tlearn: 0.2805933\ttotal: 366ms\tremaining: 2.87s\n",
      "113:\tlearn: 0.2791342\ttotal: 368ms\tremaining: 2.86s\n",
      "114:\tlearn: 0.2780166\ttotal: 370ms\tremaining: 2.85s\n",
      "115:\tlearn: 0.2766814\ttotal: 373ms\tremaining: 2.84s\n",
      "116:\tlearn: 0.2755503\ttotal: 374ms\tremaining: 2.82s\n",
      "117:\tlearn: 0.2743981\ttotal: 376ms\tremaining: 2.81s\n",
      "118:\tlearn: 0.2738525\ttotal: 378ms\tremaining: 2.79s\n",
      "119:\tlearn: 0.2730269\ttotal: 379ms\tremaining: 2.78s\n",
      "120:\tlearn: 0.2722200\ttotal: 381ms\tremaining: 2.77s\n",
      "121:\tlearn: 0.2714918\ttotal: 383ms\tremaining: 2.75s\n",
      "122:\tlearn: 0.2701878\ttotal: 385ms\tremaining: 2.75s\n",
      "123:\tlearn: 0.2699722\ttotal: 387ms\tremaining: 2.73s\n",
      "124:\tlearn: 0.2694343\ttotal: 389ms\tremaining: 2.72s\n",
      "125:\tlearn: 0.2686619\ttotal: 391ms\tremaining: 2.71s\n",
      "126:\tlearn: 0.2677238\ttotal: 393ms\tremaining: 2.7s\n",
      "127:\tlearn: 0.2664373\ttotal: 396ms\tremaining: 2.7s\n",
      "128:\tlearn: 0.2655006\ttotal: 399ms\tremaining: 2.69s\n",
      "129:\tlearn: 0.2646252\ttotal: 404ms\tremaining: 2.7s\n",
      "130:\tlearn: 0.2634288\ttotal: 409ms\tremaining: 2.71s\n",
      "131:\tlearn: 0.2625683\ttotal: 412ms\tremaining: 2.71s\n",
      "132:\tlearn: 0.2613980\ttotal: 415ms\tremaining: 2.7s\n",
      "133:\tlearn: 0.2607608\ttotal: 417ms\tremaining: 2.7s\n",
      "134:\tlearn: 0.2595104\ttotal: 420ms\tremaining: 2.69s\n",
      "135:\tlearn: 0.2583161\ttotal: 422ms\tremaining: 2.68s\n",
      "136:\tlearn: 0.2574354\ttotal: 425ms\tremaining: 2.67s\n",
      "137:\tlearn: 0.2564606\ttotal: 427ms\tremaining: 2.67s\n",
      "138:\tlearn: 0.2552530\ttotal: 429ms\tremaining: 2.66s\n",
      "139:\tlearn: 0.2544077\ttotal: 432ms\tremaining: 2.65s\n",
      "140:\tlearn: 0.2535560\ttotal: 435ms\tremaining: 2.65s\n",
      "141:\tlearn: 0.2525429\ttotal: 438ms\tremaining: 2.65s\n",
      "142:\tlearn: 0.2517967\ttotal: 441ms\tremaining: 2.64s\n",
      "143:\tlearn: 0.2514929\ttotal: 443ms\tremaining: 2.63s\n",
      "144:\tlearn: 0.2505744\ttotal: 447ms\tremaining: 2.64s\n",
      "145:\tlearn: 0.2495028\ttotal: 450ms\tremaining: 2.63s\n",
      "146:\tlearn: 0.2484110\ttotal: 453ms\tremaining: 2.63s\n",
      "147:\tlearn: 0.2474180\ttotal: 456ms\tremaining: 2.62s\n",
      "148:\tlearn: 0.2465406\ttotal: 458ms\tremaining: 2.62s\n",
      "149:\tlearn: 0.2456030\ttotal: 461ms\tremaining: 2.61s\n",
      "150:\tlearn: 0.2447938\ttotal: 464ms\tremaining: 2.61s\n",
      "151:\tlearn: 0.2440265\ttotal: 466ms\tremaining: 2.6s\n",
      "152:\tlearn: 0.2435179\ttotal: 469ms\tremaining: 2.59s\n",
      "153:\tlearn: 0.2422472\ttotal: 471ms\tremaining: 2.59s\n",
      "154:\tlearn: 0.2415113\ttotal: 474ms\tremaining: 2.58s\n",
      "155:\tlearn: 0.2410560\ttotal: 476ms\tremaining: 2.58s\n",
      "156:\tlearn: 0.2401763\ttotal: 479ms\tremaining: 2.57s\n",
      "157:\tlearn: 0.2394269\ttotal: 481ms\tremaining: 2.56s\n",
      "158:\tlearn: 0.2387496\ttotal: 484ms\tremaining: 2.56s\n",
      "159:\tlearn: 0.2379816\ttotal: 486ms\tremaining: 2.55s\n",
      "160:\tlearn: 0.2375572\ttotal: 489ms\tremaining: 2.55s\n",
      "161:\tlearn: 0.2367832\ttotal: 491ms\tremaining: 2.54s\n",
      "162:\tlearn: 0.2362559\ttotal: 494ms\tremaining: 2.53s\n",
      "163:\tlearn: 0.2354657\ttotal: 496ms\tremaining: 2.53s\n",
      "164:\tlearn: 0.2345562\ttotal: 498ms\tremaining: 2.52s\n",
      "165:\tlearn: 0.2335823\ttotal: 501ms\tremaining: 2.52s\n",
      "166:\tlearn: 0.2329945\ttotal: 504ms\tremaining: 2.51s\n"
     ]
    },
    {
     "name": "stdout",
     "output_type": "stream",
     "text": [
      "167:\tlearn: 0.2323937\ttotal: 508ms\tremaining: 2.51s\n",
      "168:\tlearn: 0.2314088\ttotal: 512ms\tremaining: 2.52s\n",
      "169:\tlearn: 0.2307272\ttotal: 515ms\tremaining: 2.51s\n",
      "170:\tlearn: 0.2300548\ttotal: 518ms\tremaining: 2.51s\n",
      "171:\tlearn: 0.2294195\ttotal: 520ms\tremaining: 2.5s\n",
      "172:\tlearn: 0.2285822\ttotal: 522ms\tremaining: 2.5s\n",
      "173:\tlearn: 0.2279210\ttotal: 525ms\tremaining: 2.49s\n",
      "174:\tlearn: 0.2274478\ttotal: 528ms\tremaining: 2.49s\n",
      "175:\tlearn: 0.2268709\ttotal: 529ms\tremaining: 2.48s\n",
      "176:\tlearn: 0.2264090\ttotal: 532ms\tremaining: 2.47s\n",
      "177:\tlearn: 0.2254684\ttotal: 535ms\tremaining: 2.47s\n",
      "178:\tlearn: 0.2247337\ttotal: 537ms\tremaining: 2.46s\n",
      "179:\tlearn: 0.2240324\ttotal: 540ms\tremaining: 2.46s\n",
      "180:\tlearn: 0.2231523\ttotal: 543ms\tremaining: 2.46s\n",
      "181:\tlearn: 0.2227895\ttotal: 546ms\tremaining: 2.45s\n",
      "182:\tlearn: 0.2221504\ttotal: 548ms\tremaining: 2.45s\n",
      "183:\tlearn: 0.2214915\ttotal: 551ms\tremaining: 2.44s\n",
      "184:\tlearn: 0.2212447\ttotal: 553ms\tremaining: 2.44s\n",
      "185:\tlearn: 0.2204710\ttotal: 555ms\tremaining: 2.43s\n",
      "186:\tlearn: 0.2203107\ttotal: 558ms\tremaining: 2.42s\n",
      "187:\tlearn: 0.2195067\ttotal: 561ms\tremaining: 2.42s\n",
      "188:\tlearn: 0.2190897\ttotal: 564ms\tremaining: 2.42s\n",
      "189:\tlearn: 0.2182975\ttotal: 575ms\tremaining: 2.45s\n",
      "190:\tlearn: 0.2174775\ttotal: 578ms\tremaining: 2.45s\n",
      "191:\tlearn: 0.2172919\ttotal: 581ms\tremaining: 2.44s\n",
      "192:\tlearn: 0.2167579\ttotal: 583ms\tremaining: 2.44s\n",
      "193:\tlearn: 0.2163733\ttotal: 586ms\tremaining: 2.43s\n",
      "194:\tlearn: 0.2160372\ttotal: 589ms\tremaining: 2.43s\n",
      "195:\tlearn: 0.2154288\ttotal: 591ms\tremaining: 2.42s\n",
      "196:\tlearn: 0.2152398\ttotal: 593ms\tremaining: 2.42s\n",
      "197:\tlearn: 0.2150810\ttotal: 595ms\tremaining: 2.41s\n",
      "198:\tlearn: 0.2145907\ttotal: 598ms\tremaining: 2.4s\n",
      "199:\tlearn: 0.2138716\ttotal: 601ms\tremaining: 2.4s\n",
      "200:\tlearn: 0.2133164\ttotal: 603ms\tremaining: 2.4s\n",
      "201:\tlearn: 0.2126497\ttotal: 607ms\tremaining: 2.4s\n",
      "202:\tlearn: 0.2123395\ttotal: 609ms\tremaining: 2.39s\n",
      "203:\tlearn: 0.2115816\ttotal: 612ms\tremaining: 2.39s\n",
      "204:\tlearn: 0.2111827\ttotal: 615ms\tremaining: 2.38s\n",
      "205:\tlearn: 0.2109690\ttotal: 617ms\tremaining: 2.38s\n",
      "206:\tlearn: 0.2100377\ttotal: 620ms\tremaining: 2.37s\n",
      "207:\tlearn: 0.2095672\ttotal: 623ms\tremaining: 2.37s\n",
      "208:\tlearn: 0.2093356\ttotal: 625ms\tremaining: 2.37s\n",
      "209:\tlearn: 0.2086533\ttotal: 628ms\tremaining: 2.36s\n",
      "210:\tlearn: 0.2079805\ttotal: 631ms\tremaining: 2.36s\n",
      "211:\tlearn: 0.2072256\ttotal: 632ms\tremaining: 2.35s\n",
      "212:\tlearn: 0.2070577\ttotal: 635ms\tremaining: 2.35s\n",
      "213:\tlearn: 0.2064861\ttotal: 637ms\tremaining: 2.34s\n",
      "214:\tlearn: 0.2063616\ttotal: 638ms\tremaining: 2.33s\n",
      "215:\tlearn: 0.2061367\ttotal: 641ms\tremaining: 2.33s\n",
      "216:\tlearn: 0.2058786\ttotal: 643ms\tremaining: 2.32s\n",
      "217:\tlearn: 0.2052047\ttotal: 645ms\tremaining: 2.31s\n",
      "218:\tlearn: 0.2046331\ttotal: 648ms\tremaining: 2.31s\n",
      "219:\tlearn: 0.2039849\ttotal: 650ms\tremaining: 2.31s\n",
      "220:\tlearn: 0.2034278\ttotal: 653ms\tremaining: 2.3s\n",
      "221:\tlearn: 0.2030758\ttotal: 655ms\tremaining: 2.29s\n"
     ]
    },
    {
     "name": "stdout",
     "output_type": "stream",
     "text": [
      "222:\tlearn: 0.2025766\ttotal: 659ms\tremaining: 2.29s\n",
      "223:\tlearn: 0.2019375\ttotal: 661ms\tremaining: 2.29s\n",
      "224:\tlearn: 0.2018409\ttotal: 664ms\tremaining: 2.29s\n",
      "225:\tlearn: 0.2012642\ttotal: 666ms\tremaining: 2.28s\n",
      "226:\tlearn: 0.2005725\ttotal: 669ms\tremaining: 2.28s\n",
      "227:\tlearn: 0.2001162\ttotal: 671ms\tremaining: 2.27s\n",
      "228:\tlearn: 0.1994914\ttotal: 674ms\tremaining: 2.27s\n",
      "229:\tlearn: 0.1990079\ttotal: 676ms\tremaining: 2.26s\n",
      "230:\tlearn: 0.1986321\ttotal: 679ms\tremaining: 2.26s\n",
      "231:\tlearn: 0.1985222\ttotal: 681ms\tremaining: 2.25s\n",
      "232:\tlearn: 0.1983377\ttotal: 683ms\tremaining: 2.25s\n",
      "233:\tlearn: 0.1978041\ttotal: 686ms\tremaining: 2.25s\n",
      "234:\tlearn: 0.1976694\ttotal: 689ms\tremaining: 2.24s\n",
      "235:\tlearn: 0.1974715\ttotal: 691ms\tremaining: 2.24s\n",
      "236:\tlearn: 0.1970315\ttotal: 694ms\tremaining: 2.23s\n",
      "237:\tlearn: 0.1964865\ttotal: 697ms\tremaining: 2.23s\n",
      "238:\tlearn: 0.1963310\ttotal: 699ms\tremaining: 2.23s\n",
      "239:\tlearn: 0.1960499\ttotal: 701ms\tremaining: 2.22s\n",
      "240:\tlearn: 0.1952397\ttotal: 704ms\tremaining: 2.22s\n",
      "241:\tlearn: 0.1946843\ttotal: 706ms\tremaining: 2.21s\n",
      "242:\tlearn: 0.1944344\ttotal: 709ms\tremaining: 2.21s\n",
      "243:\tlearn: 0.1938241\ttotal: 711ms\tremaining: 2.2s\n",
      "244:\tlearn: 0.1934884\ttotal: 714ms\tremaining: 2.2s\n",
      "245:\tlearn: 0.1929374\ttotal: 716ms\tremaining: 2.19s\n",
      "246:\tlearn: 0.1924007\ttotal: 719ms\tremaining: 2.19s\n",
      "247:\tlearn: 0.1919839\ttotal: 723ms\tremaining: 2.19s\n",
      "248:\tlearn: 0.1913581\ttotal: 726ms\tremaining: 2.19s\n",
      "249:\tlearn: 0.1910659\ttotal: 728ms\tremaining: 2.18s\n",
      "250:\tlearn: 0.1909630\ttotal: 730ms\tremaining: 2.18s\n",
      "251:\tlearn: 0.1901148\ttotal: 733ms\tremaining: 2.17s\n",
      "252:\tlearn: 0.1900029\ttotal: 736ms\tremaining: 2.17s\n",
      "253:\tlearn: 0.1892680\ttotal: 738ms\tremaining: 2.17s\n",
      "254:\tlearn: 0.1890780\ttotal: 741ms\tremaining: 2.17s\n",
      "255:\tlearn: 0.1886175\ttotal: 760ms\tremaining: 2.21s\n",
      "256:\tlearn: 0.1883582\ttotal: 763ms\tremaining: 2.21s\n",
      "257:\tlearn: 0.1877224\ttotal: 766ms\tremaining: 2.2s\n",
      "258:\tlearn: 0.1871200\ttotal: 769ms\tremaining: 2.2s\n",
      "259:\tlearn: 0.1865423\ttotal: 772ms\tremaining: 2.2s\n",
      "260:\tlearn: 0.1861895\ttotal: 775ms\tremaining: 2.19s\n",
      "261:\tlearn: 0.1860174\ttotal: 777ms\tremaining: 2.19s\n",
      "262:\tlearn: 0.1858678\ttotal: 779ms\tremaining: 2.18s\n",
      "263:\tlearn: 0.1852455\ttotal: 781ms\tremaining: 2.18s\n",
      "264:\tlearn: 0.1851087\ttotal: 783ms\tremaining: 2.17s\n",
      "265:\tlearn: 0.1850022\ttotal: 785ms\tremaining: 2.17s\n",
      "266:\tlearn: 0.1846556\ttotal: 788ms\tremaining: 2.16s\n",
      "267:\tlearn: 0.1840367\ttotal: 790ms\tremaining: 2.16s\n",
      "268:\tlearn: 0.1835294\ttotal: 793ms\tremaining: 2.15s\n",
      "269:\tlearn: 0.1831506\ttotal: 796ms\tremaining: 2.15s\n",
      "270:\tlearn: 0.1830483\ttotal: 800ms\tremaining: 2.15s\n",
      "271:\tlearn: 0.1825837\ttotal: 804ms\tremaining: 2.15s\n",
      "272:\tlearn: 0.1824810\ttotal: 808ms\tremaining: 2.15s\n",
      "273:\tlearn: 0.1823997\ttotal: 810ms\tremaining: 2.15s\n",
      "274:\tlearn: 0.1818551\ttotal: 813ms\tremaining: 2.14s\n",
      "275:\tlearn: 0.1813782\ttotal: 816ms\tremaining: 2.14s\n",
      "276:\tlearn: 0.1810921\ttotal: 819ms\tremaining: 2.14s\n"
     ]
    },
    {
     "name": "stdout",
     "output_type": "stream",
     "text": [
      "277:\tlearn: 0.1809776\ttotal: 831ms\tremaining: 2.16s\n",
      "278:\tlearn: 0.1805789\ttotal: 834ms\tremaining: 2.15s\n",
      "279:\tlearn: 0.1803080\ttotal: 836ms\tremaining: 2.15s\n",
      "280:\tlearn: 0.1801751\ttotal: 839ms\tremaining: 2.15s\n",
      "281:\tlearn: 0.1795252\ttotal: 841ms\tremaining: 2.14s\n",
      "282:\tlearn: 0.1791444\ttotal: 844ms\tremaining: 2.14s\n",
      "283:\tlearn: 0.1787515\ttotal: 846ms\tremaining: 2.13s\n",
      "284:\tlearn: 0.1785262\ttotal: 848ms\tremaining: 2.13s\n",
      "285:\tlearn: 0.1779936\ttotal: 850ms\tremaining: 2.12s\n",
      "286:\tlearn: 0.1775255\ttotal: 860ms\tremaining: 2.14s\n",
      "287:\tlearn: 0.1771767\ttotal: 865ms\tremaining: 2.14s\n",
      "288:\tlearn: 0.1770894\ttotal: 869ms\tremaining: 2.14s\n",
      "289:\tlearn: 0.1765893\ttotal: 871ms\tremaining: 2.13s\n",
      "290:\tlearn: 0.1765083\ttotal: 875ms\tremaining: 2.13s\n",
      "291:\tlearn: 0.1760687\ttotal: 877ms\tremaining: 2.13s\n",
      "292:\tlearn: 0.1755338\ttotal: 879ms\tremaining: 2.12s\n",
      "293:\tlearn: 0.1750806\ttotal: 882ms\tremaining: 2.12s\n",
      "294:\tlearn: 0.1746444\ttotal: 884ms\tremaining: 2.11s\n",
      "295:\tlearn: 0.1745314\ttotal: 888ms\tremaining: 2.11s\n",
      "296:\tlearn: 0.1740357\ttotal: 892ms\tremaining: 2.11s\n",
      "297:\tlearn: 0.1739700\ttotal: 895ms\tremaining: 2.11s\n",
      "298:\tlearn: 0.1738852\ttotal: 912ms\tremaining: 2.14s\n",
      "299:\tlearn: 0.1734494\ttotal: 915ms\tremaining: 2.13s\n",
      "300:\tlearn: 0.1730108\ttotal: 917ms\tremaining: 2.13s\n",
      "301:\tlearn: 0.1725402\ttotal: 920ms\tremaining: 2.13s\n",
      "302:\tlearn: 0.1720879\ttotal: 923ms\tremaining: 2.12s\n",
      "303:\tlearn: 0.1716570\ttotal: 926ms\tremaining: 2.12s\n",
      "304:\tlearn: 0.1711847\ttotal: 929ms\tremaining: 2.12s\n",
      "305:\tlearn: 0.1709982\ttotal: 932ms\tremaining: 2.11s\n",
      "306:\tlearn: 0.1707341\ttotal: 934ms\tremaining: 2.11s\n",
      "307:\tlearn: 0.1705472\ttotal: 937ms\tremaining: 2.1s\n",
      "308:\tlearn: 0.1704344\ttotal: 939ms\tremaining: 2.1s\n",
      "309:\tlearn: 0.1700774\ttotal: 942ms\tremaining: 2.1s\n",
      "310:\tlearn: 0.1697654\ttotal: 944ms\tremaining: 2.09s\n",
      "311:\tlearn: 0.1693947\ttotal: 947ms\tremaining: 2.09s\n",
      "312:\tlearn: 0.1689936\ttotal: 949ms\tremaining: 2.08s\n",
      "313:\tlearn: 0.1685335\ttotal: 951ms\tremaining: 2.08s\n",
      "314:\tlearn: 0.1683703\ttotal: 954ms\tremaining: 2.08s\n",
      "315:\tlearn: 0.1680702\ttotal: 957ms\tremaining: 2.07s\n",
      "316:\tlearn: 0.1679502\ttotal: 959ms\tremaining: 2.07s\n",
      "317:\tlearn: 0.1676055\ttotal: 962ms\tremaining: 2.06s\n",
      "318:\tlearn: 0.1674649\ttotal: 963ms\tremaining: 2.06s\n",
      "319:\tlearn: 0.1669956\ttotal: 966ms\tremaining: 2.05s\n",
      "320:\tlearn: 0.1664621\ttotal: 968ms\tremaining: 2.05s\n",
      "321:\tlearn: 0.1660992\ttotal: 971ms\tremaining: 2.04s\n",
      "322:\tlearn: 0.1657144\ttotal: 973ms\tremaining: 2.04s\n",
      "323:\tlearn: 0.1653975\ttotal: 975ms\tremaining: 2.03s\n",
      "324:\tlearn: 0.1648191\ttotal: 978ms\tremaining: 2.03s\n",
      "325:\tlearn: 0.1645543\ttotal: 981ms\tremaining: 2.03s\n",
      "326:\tlearn: 0.1640624\ttotal: 984ms\tremaining: 2.02s\n"
     ]
    },
    {
     "name": "stdout",
     "output_type": "stream",
     "text": [
      "327:\tlearn: 0.1636821\ttotal: 1s\tremaining: 2.05s\n",
      "328:\tlearn: 0.1631056\ttotal: 1s\tremaining: 2.05s\n",
      "329:\tlearn: 0.1629121\ttotal: 1.01s\tremaining: 2.04s\n",
      "330:\tlearn: 0.1627868\ttotal: 1.01s\tremaining: 2.04s\n",
      "331:\tlearn: 0.1624577\ttotal: 1.01s\tremaining: 2.04s\n",
      "332:\tlearn: 0.1623169\ttotal: 1.01s\tremaining: 2.03s\n",
      "333:\tlearn: 0.1620232\ttotal: 1.02s\tremaining: 2.03s\n",
      "334:\tlearn: 0.1617458\ttotal: 1.02s\tremaining: 2.02s\n",
      "335:\tlearn: 0.1615264\ttotal: 1.02s\tremaining: 2.02s\n",
      "336:\tlearn: 0.1614205\ttotal: 1.02s\tremaining: 2.02s\n",
      "337:\tlearn: 0.1612041\ttotal: 1.03s\tremaining: 2.02s\n",
      "338:\tlearn: 0.1611112\ttotal: 1.03s\tremaining: 2.01s\n",
      "339:\tlearn: 0.1606089\ttotal: 1.03s\tremaining: 2.01s\n",
      "340:\tlearn: 0.1602438\ttotal: 1.04s\tremaining: 2s\n",
      "341:\tlearn: 0.1598376\ttotal: 1.04s\tremaining: 2s\n",
      "342:\tlearn: 0.1596282\ttotal: 1.04s\tremaining: 2s\n",
      "343:\tlearn: 0.1592425\ttotal: 1.04s\tremaining: 1.99s\n",
      "344:\tlearn: 0.1589541\ttotal: 1.05s\tremaining: 1.99s\n",
      "345:\tlearn: 0.1586085\ttotal: 1.05s\tremaining: 1.98s\n",
      "346:\tlearn: 0.1582565\ttotal: 1.05s\tremaining: 1.98s\n",
      "347:\tlearn: 0.1578121\ttotal: 1.05s\tremaining: 1.98s\n",
      "348:\tlearn: 0.1574122\ttotal: 1.06s\tremaining: 1.97s\n",
      "349:\tlearn: 0.1569542\ttotal: 1.06s\tremaining: 1.97s\n",
      "350:\tlearn: 0.1566728\ttotal: 1.06s\tremaining: 1.97s\n",
      "351:\tlearn: 0.1564040\ttotal: 1.07s\tremaining: 1.96s\n",
      "352:\tlearn: 0.1559951\ttotal: 1.09s\tremaining: 2.01s\n",
      "353:\tlearn: 0.1557190\ttotal: 1.11s\tremaining: 2.03s\n",
      "354:\tlearn: 0.1554468\ttotal: 1.11s\tremaining: 2.02s\n",
      "355:\tlearn: 0.1552708\ttotal: 1.12s\tremaining: 2.02s\n",
      "356:\tlearn: 0.1551141\ttotal: 1.12s\tremaining: 2.02s\n",
      "357:\tlearn: 0.1548349\ttotal: 1.12s\tremaining: 2.01s\n",
      "358:\tlearn: 0.1544892\ttotal: 1.13s\tremaining: 2.01s\n",
      "359:\tlearn: 0.1542697\ttotal: 1.13s\tremaining: 2s\n",
      "360:\tlearn: 0.1542082\ttotal: 1.13s\tremaining: 2s\n",
      "361:\tlearn: 0.1540960\ttotal: 1.13s\tremaining: 2s\n",
      "362:\tlearn: 0.1536111\ttotal: 1.14s\tremaining: 1.99s\n",
      "363:\tlearn: 0.1533239\ttotal: 1.14s\tremaining: 1.99s\n",
      "364:\tlearn: 0.1527989\ttotal: 1.14s\tremaining: 1.99s\n",
      "365:\tlearn: 0.1524976\ttotal: 1.14s\tremaining: 1.98s\n",
      "366:\tlearn: 0.1522395\ttotal: 1.15s\tremaining: 1.98s\n",
      "367:\tlearn: 0.1517242\ttotal: 1.15s\tremaining: 1.97s\n",
      "368:\tlearn: 0.1515159\ttotal: 1.15s\tremaining: 1.97s\n",
      "369:\tlearn: 0.1514437\ttotal: 1.15s\tremaining: 1.97s\n",
      "370:\tlearn: 0.1512151\ttotal: 1.16s\tremaining: 1.96s\n",
      "371:\tlearn: 0.1510026\ttotal: 1.16s\tremaining: 1.96s\n",
      "372:\tlearn: 0.1506768\ttotal: 1.16s\tremaining: 1.95s\n",
      "373:\tlearn: 0.1504404\ttotal: 1.16s\tremaining: 1.95s\n",
      "374:\tlearn: 0.1501438\ttotal: 1.17s\tremaining: 1.95s\n",
      "375:\tlearn: 0.1498485\ttotal: 1.17s\tremaining: 1.94s\n",
      "376:\tlearn: 0.1494872\ttotal: 1.17s\tremaining: 1.94s\n",
      "377:\tlearn: 0.1492965\ttotal: 1.17s\tremaining: 1.93s\n",
      "378:\tlearn: 0.1490980\ttotal: 1.18s\tremaining: 1.93s\n",
      "379:\tlearn: 0.1489618\ttotal: 1.18s\tremaining: 1.93s\n"
     ]
    },
    {
     "name": "stdout",
     "output_type": "stream",
     "text": [
      "380:\tlearn: 0.1485995\ttotal: 1.18s\tremaining: 1.92s\n",
      "381:\tlearn: 0.1483979\ttotal: 1.19s\tremaining: 1.92s\n",
      "382:\tlearn: 0.1481094\ttotal: 1.19s\tremaining: 1.92s\n",
      "383:\tlearn: 0.1477601\ttotal: 1.19s\tremaining: 1.91s\n",
      "384:\tlearn: 0.1473495\ttotal: 1.19s\tremaining: 1.91s\n",
      "385:\tlearn: 0.1470396\ttotal: 1.2s\tremaining: 1.91s\n",
      "386:\tlearn: 0.1468727\ttotal: 1.22s\tremaining: 1.94s\n",
      "387:\tlearn: 0.1465471\ttotal: 1.23s\tremaining: 1.94s\n",
      "388:\tlearn: 0.1465128\ttotal: 1.23s\tremaining: 1.94s\n",
      "389:\tlearn: 0.1464358\ttotal: 1.24s\tremaining: 1.94s\n",
      "390:\tlearn: 0.1462369\ttotal: 1.24s\tremaining: 1.93s\n",
      "391:\tlearn: 0.1462031\ttotal: 1.24s\tremaining: 1.93s\n",
      "392:\tlearn: 0.1459172\ttotal: 1.25s\tremaining: 1.92s\n",
      "393:\tlearn: 0.1455489\ttotal: 1.25s\tremaining: 1.92s\n",
      "394:\tlearn: 0.1454475\ttotal: 1.27s\tremaining: 1.95s\n",
      "395:\tlearn: 0.1452093\ttotal: 1.28s\tremaining: 1.95s\n",
      "396:\tlearn: 0.1448520\ttotal: 1.28s\tremaining: 1.94s\n",
      "397:\tlearn: 0.1447868\ttotal: 1.28s\tremaining: 1.94s\n",
      "398:\tlearn: 0.1445295\ttotal: 1.28s\tremaining: 1.94s\n",
      "399:\tlearn: 0.1441956\ttotal: 1.29s\tremaining: 1.93s\n",
      "400:\tlearn: 0.1441043\ttotal: 1.29s\tremaining: 1.93s\n",
      "401:\tlearn: 0.1438957\ttotal: 1.31s\tremaining: 1.95s\n",
      "402:\tlearn: 0.1435629\ttotal: 1.31s\tremaining: 1.95s\n",
      "403:\tlearn: 0.1432965\ttotal: 1.31s\tremaining: 1.94s\n",
      "404:\tlearn: 0.1432458\ttotal: 1.32s\tremaining: 1.94s\n",
      "405:\tlearn: 0.1430490\ttotal: 1.32s\tremaining: 1.93s\n",
      "406:\tlearn: 0.1429593\ttotal: 1.32s\tremaining: 1.93s\n",
      "407:\tlearn: 0.1427764\ttotal: 1.32s\tremaining: 1.92s\n",
      "408:\tlearn: 0.1422511\ttotal: 1.33s\tremaining: 1.92s\n",
      "409:\tlearn: 0.1421436\ttotal: 1.33s\tremaining: 1.91s\n",
      "410:\tlearn: 0.1417810\ttotal: 1.33s\tremaining: 1.91s\n",
      "411:\tlearn: 0.1414723\ttotal: 1.33s\tremaining: 1.91s\n"
     ]
    },
    {
     "name": "stdout",
     "output_type": "stream",
     "text": [
      "412:\tlearn: 0.1411848\ttotal: 1.38s\tremaining: 1.96s\n",
      "413:\tlearn: 0.1410888\ttotal: 1.38s\tremaining: 1.95s\n",
      "414:\tlearn: 0.1408991\ttotal: 1.38s\tremaining: 1.95s\n",
      "415:\tlearn: 0.1405157\ttotal: 1.4s\tremaining: 1.96s\n",
      "416:\tlearn: 0.1401265\ttotal: 1.4s\tremaining: 1.95s\n",
      "417:\tlearn: 0.1397468\ttotal: 1.4s\tremaining: 1.95s\n",
      "418:\tlearn: 0.1394585\ttotal: 1.41s\tremaining: 1.95s\n",
      "419:\tlearn: 0.1393087\ttotal: 1.41s\tremaining: 1.95s\n",
      "420:\tlearn: 0.1389356\ttotal: 1.41s\tremaining: 1.94s\n",
      "421:\tlearn: 0.1387650\ttotal: 1.42s\tremaining: 1.94s\n",
      "422:\tlearn: 0.1384763\ttotal: 1.42s\tremaining: 1.93s\n",
      "423:\tlearn: 0.1382688\ttotal: 1.42s\tremaining: 1.93s\n",
      "424:\tlearn: 0.1379936\ttotal: 1.42s\tremaining: 1.93s\n",
      "425:\tlearn: 0.1378492\ttotal: 1.43s\tremaining: 1.92s\n",
      "426:\tlearn: 0.1376848\ttotal: 1.43s\tremaining: 1.92s\n",
      "427:\tlearn: 0.1375471\ttotal: 1.43s\tremaining: 1.91s\n",
      "428:\tlearn: 0.1373892\ttotal: 1.44s\tremaining: 1.91s\n",
      "429:\tlearn: 0.1370289\ttotal: 1.44s\tremaining: 1.91s\n",
      "430:\tlearn: 0.1368115\ttotal: 1.46s\tremaining: 1.92s\n",
      "431:\tlearn: 0.1367823\ttotal: 1.46s\tremaining: 1.92s\n",
      "432:\tlearn: 0.1364203\ttotal: 1.46s\tremaining: 1.91s\n",
      "433:\tlearn: 0.1363288\ttotal: 1.46s\tremaining: 1.91s\n",
      "434:\tlearn: 0.1359982\ttotal: 1.47s\tremaining: 1.9s\n",
      "435:\tlearn: 0.1358112\ttotal: 1.47s\tremaining: 1.9s\n",
      "436:\tlearn: 0.1355197\ttotal: 1.47s\tremaining: 1.9s\n",
      "437:\tlearn: 0.1351517\ttotal: 1.47s\tremaining: 1.89s\n",
      "438:\tlearn: 0.1346591\ttotal: 1.48s\tremaining: 1.89s\n",
      "439:\tlearn: 0.1341815\ttotal: 1.48s\tremaining: 1.88s\n"
     ]
    },
    {
     "name": "stdout",
     "output_type": "stream",
     "text": [
      "440:\tlearn: 0.1340318\ttotal: 1.48s\tremaining: 1.88s\n",
      "441:\tlearn: 0.1339329\ttotal: 1.49s\tremaining: 1.88s\n",
      "442:\tlearn: 0.1337877\ttotal: 1.49s\tremaining: 1.87s\n",
      "443:\tlearn: 0.1337388\ttotal: 1.49s\tremaining: 1.87s\n",
      "444:\tlearn: 0.1335198\ttotal: 1.5s\tremaining: 1.86s\n",
      "445:\tlearn: 0.1331956\ttotal: 1.5s\tremaining: 1.86s\n",
      "446:\tlearn: 0.1329442\ttotal: 1.5s\tremaining: 1.86s\n",
      "447:\tlearn: 0.1328405\ttotal: 1.5s\tremaining: 1.85s\n",
      "448:\tlearn: 0.1325912\ttotal: 1.51s\tremaining: 1.85s\n",
      "449:\tlearn: 0.1323084\ttotal: 1.51s\tremaining: 1.84s\n",
      "450:\tlearn: 0.1321826\ttotal: 1.51s\tremaining: 1.84s\n",
      "451:\tlearn: 0.1319703\ttotal: 1.51s\tremaining: 1.83s\n",
      "452:\tlearn: 0.1317794\ttotal: 1.52s\tremaining: 1.83s\n",
      "453:\tlearn: 0.1314870\ttotal: 1.52s\tremaining: 1.83s\n",
      "454:\tlearn: 0.1312159\ttotal: 1.52s\tremaining: 1.82s\n",
      "455:\tlearn: 0.1308573\ttotal: 1.54s\tremaining: 1.84s\n",
      "456:\tlearn: 0.1305153\ttotal: 1.54s\tremaining: 1.84s\n",
      "457:\tlearn: 0.1303842\ttotal: 1.55s\tremaining: 1.83s\n",
      "458:\tlearn: 0.1302834\ttotal: 1.55s\tremaining: 1.83s\n",
      "459:\tlearn: 0.1299127\ttotal: 1.55s\tremaining: 1.82s\n",
      "460:\tlearn: 0.1296938\ttotal: 1.55s\tremaining: 1.82s\n",
      "461:\tlearn: 0.1293827\ttotal: 1.56s\tremaining: 1.81s\n",
      "462:\tlearn: 0.1290922\ttotal: 1.56s\tremaining: 1.81s\n",
      "463:\tlearn: 0.1287480\ttotal: 1.58s\tremaining: 1.83s\n",
      "464:\tlearn: 0.1285544\ttotal: 1.58s\tremaining: 1.82s\n",
      "465:\tlearn: 0.1284565\ttotal: 1.59s\tremaining: 1.82s\n",
      "466:\tlearn: 0.1284236\ttotal: 1.59s\tremaining: 1.81s\n",
      "467:\tlearn: 0.1283475\ttotal: 1.59s\tremaining: 1.81s\n",
      "468:\tlearn: 0.1281598\ttotal: 1.59s\tremaining: 1.8s\n",
      "469:\tlearn: 0.1279470\ttotal: 1.6s\tremaining: 1.8s\n",
      "470:\tlearn: 0.1279115\ttotal: 1.6s\tremaining: 1.79s\n",
      "471:\tlearn: 0.1277874\ttotal: 1.6s\tremaining: 1.79s\n",
      "472:\tlearn: 0.1274569\ttotal: 1.61s\tremaining: 1.79s\n",
      "473:\tlearn: 0.1272533\ttotal: 1.61s\tremaining: 1.79s\n",
      "474:\tlearn: 0.1270900\ttotal: 1.61s\tremaining: 1.78s\n",
      "475:\tlearn: 0.1269107\ttotal: 1.62s\tremaining: 1.78s\n",
      "476:\tlearn: 0.1268628\ttotal: 1.62s\tremaining: 1.77s\n",
      "477:\tlearn: 0.1266020\ttotal: 1.62s\tremaining: 1.77s\n",
      "478:\tlearn: 0.1265537\ttotal: 1.62s\tremaining: 1.77s\n",
      "479:\tlearn: 0.1262958\ttotal: 1.63s\tremaining: 1.76s\n",
      "480:\tlearn: 0.1260329\ttotal: 1.63s\tremaining: 1.76s\n"
     ]
    },
    {
     "name": "stdout",
     "output_type": "stream",
     "text": [
      "481:\tlearn: 0.1259383\ttotal: 1.64s\tremaining: 1.76s\n",
      "482:\tlearn: 0.1256564\ttotal: 1.64s\tremaining: 1.76s\n",
      "483:\tlearn: 0.1255495\ttotal: 1.64s\tremaining: 1.75s\n",
      "484:\tlearn: 0.1251768\ttotal: 1.65s\tremaining: 1.75s\n",
      "485:\tlearn: 0.1249566\ttotal: 1.65s\tremaining: 1.74s\n",
      "486:\tlearn: 0.1247124\ttotal: 1.65s\tremaining: 1.74s\n",
      "487:\tlearn: 0.1244481\ttotal: 1.65s\tremaining: 1.74s\n",
      "488:\tlearn: 0.1244303\ttotal: 1.66s\tremaining: 1.73s\n",
      "489:\tlearn: 0.1242384\ttotal: 1.66s\tremaining: 1.73s\n",
      "490:\tlearn: 0.1240509\ttotal: 1.66s\tremaining: 1.73s\n",
      "491:\tlearn: 0.1240238\ttotal: 1.67s\tremaining: 1.72s\n",
      "492:\tlearn: 0.1236885\ttotal: 1.67s\tremaining: 1.72s\n",
      "493:\tlearn: 0.1235631\ttotal: 1.67s\tremaining: 1.71s\n",
      "494:\tlearn: 0.1235002\ttotal: 1.67s\tremaining: 1.71s\n",
      "495:\tlearn: 0.1232928\ttotal: 1.68s\tremaining: 1.7s\n",
      "496:\tlearn: 0.1229349\ttotal: 1.68s\tremaining: 1.7s\n",
      "497:\tlearn: 0.1227088\ttotal: 1.68s\tremaining: 1.69s\n",
      "498:\tlearn: 0.1225696\ttotal: 1.68s\tremaining: 1.69s\n",
      "499:\tlearn: 0.1224290\ttotal: 1.69s\tremaining: 1.69s\n",
      "500:\tlearn: 0.1221691\ttotal: 1.69s\tremaining: 1.68s\n",
      "501:\tlearn: 0.1218872\ttotal: 1.69s\tremaining: 1.68s\n",
      "502:\tlearn: 0.1217441\ttotal: 1.69s\tremaining: 1.67s\n",
      "503:\tlearn: 0.1217144\ttotal: 1.71s\tremaining: 1.68s\n",
      "504:\tlearn: 0.1214070\ttotal: 1.71s\tremaining: 1.68s\n",
      "505:\tlearn: 0.1210699\ttotal: 1.72s\tremaining: 1.68s\n",
      "506:\tlearn: 0.1208865\ttotal: 1.72s\tremaining: 1.68s\n",
      "507:\tlearn: 0.1207173\ttotal: 1.73s\tremaining: 1.67s\n",
      "508:\tlearn: 0.1204328\ttotal: 1.73s\tremaining: 1.67s\n",
      "509:\tlearn: 0.1202228\ttotal: 1.73s\tremaining: 1.66s\n",
      "510:\tlearn: 0.1198633\ttotal: 1.73s\tremaining: 1.66s\n",
      "511:\tlearn: 0.1197371\ttotal: 1.74s\tremaining: 1.66s\n",
      "512:\tlearn: 0.1195194\ttotal: 1.74s\tremaining: 1.65s\n",
      "513:\tlearn: 0.1192973\ttotal: 1.74s\tremaining: 1.65s\n",
      "514:\tlearn: 0.1191079\ttotal: 1.75s\tremaining: 1.64s\n",
      "515:\tlearn: 0.1186993\ttotal: 1.75s\tremaining: 1.64s\n",
      "516:\tlearn: 0.1184536\ttotal: 1.75s\tremaining: 1.64s\n",
      "517:\tlearn: 0.1182338\ttotal: 1.75s\tremaining: 1.63s\n",
      "518:\tlearn: 0.1181043\ttotal: 1.76s\tremaining: 1.63s\n",
      "519:\tlearn: 0.1179014\ttotal: 1.76s\tremaining: 1.62s\n",
      "520:\tlearn: 0.1178726\ttotal: 1.76s\tremaining: 1.62s\n",
      "521:\tlearn: 0.1176460\ttotal: 1.77s\tremaining: 1.62s\n",
      "522:\tlearn: 0.1174742\ttotal: 1.77s\tremaining: 1.61s\n",
      "523:\tlearn: 0.1172653\ttotal: 1.77s\tremaining: 1.61s\n",
      "524:\tlearn: 0.1169786\ttotal: 1.78s\tremaining: 1.61s\n"
     ]
    },
    {
     "name": "stdout",
     "output_type": "stream",
     "text": [
      "525:\tlearn: 0.1169390\ttotal: 1.82s\tremaining: 1.64s\n",
      "526:\tlearn: 0.1168185\ttotal: 1.83s\tremaining: 1.64s\n",
      "527:\tlearn: 0.1166302\ttotal: 1.83s\tremaining: 1.64s\n",
      "528:\tlearn: 0.1163239\ttotal: 1.83s\tremaining: 1.63s\n",
      "529:\tlearn: 0.1159386\ttotal: 1.83s\tremaining: 1.63s\n",
      "530:\tlearn: 0.1157954\ttotal: 1.83s\tremaining: 1.62s\n",
      "531:\tlearn: 0.1156199\ttotal: 1.84s\tremaining: 1.62s\n",
      "532:\tlearn: 0.1153962\ttotal: 1.84s\tremaining: 1.61s\n",
      "533:\tlearn: 0.1151837\ttotal: 1.84s\tremaining: 1.61s\n",
      "534:\tlearn: 0.1147827\ttotal: 1.85s\tremaining: 1.61s\n",
      "535:\tlearn: 0.1146914\ttotal: 1.86s\tremaining: 1.61s\n",
      "536:\tlearn: 0.1144290\ttotal: 1.86s\tremaining: 1.6s\n",
      "537:\tlearn: 0.1140592\ttotal: 1.86s\tremaining: 1.6s\n",
      "538:\tlearn: 0.1140250\ttotal: 1.86s\tremaining: 1.59s\n",
      "539:\tlearn: 0.1138241\ttotal: 1.86s\tremaining: 1.59s\n",
      "540:\tlearn: 0.1136266\ttotal: 1.87s\tremaining: 1.58s\n",
      "541:\tlearn: 0.1134628\ttotal: 1.87s\tremaining: 1.58s\n",
      "542:\tlearn: 0.1133100\ttotal: 1.87s\tremaining: 1.57s\n",
      "543:\tlearn: 0.1131189\ttotal: 1.87s\tremaining: 1.57s\n",
      "544:\tlearn: 0.1128512\ttotal: 1.88s\tremaining: 1.57s\n",
      "545:\tlearn: 0.1126979\ttotal: 1.88s\tremaining: 1.56s\n",
      "546:\tlearn: 0.1123600\ttotal: 1.88s\tremaining: 1.56s\n",
      "547:\tlearn: 0.1123251\ttotal: 1.89s\tremaining: 1.55s\n",
      "548:\tlearn: 0.1120082\ttotal: 1.89s\tremaining: 1.55s\n",
      "549:\tlearn: 0.1119044\ttotal: 1.89s\tremaining: 1.55s\n",
      "550:\tlearn: 0.1117039\ttotal: 1.89s\tremaining: 1.54s\n",
      "551:\tlearn: 0.1115150\ttotal: 1.9s\tremaining: 1.54s\n",
      "552:\tlearn: 0.1112435\ttotal: 1.9s\tremaining: 1.53s\n",
      "553:\tlearn: 0.1109023\ttotal: 1.9s\tremaining: 1.53s\n",
      "554:\tlearn: 0.1107761\ttotal: 1.9s\tremaining: 1.53s\n",
      "555:\tlearn: 0.1105986\ttotal: 1.91s\tremaining: 1.52s\n",
      "556:\tlearn: 0.1104435\ttotal: 1.91s\tremaining: 1.52s\n",
      "557:\tlearn: 0.1102517\ttotal: 1.91s\tremaining: 1.51s\n",
      "558:\tlearn: 0.1100761\ttotal: 1.91s\tremaining: 1.51s\n",
      "559:\tlearn: 0.1099461\ttotal: 1.92s\tremaining: 1.51s\n",
      "560:\tlearn: 0.1097434\ttotal: 1.92s\tremaining: 1.5s\n",
      "561:\tlearn: 0.1095962\ttotal: 1.92s\tremaining: 1.5s\n",
      "562:\tlearn: 0.1094675\ttotal: 1.92s\tremaining: 1.49s\n",
      "563:\tlearn: 0.1093320\ttotal: 1.93s\tremaining: 1.49s\n",
      "564:\tlearn: 0.1091524\ttotal: 1.93s\tremaining: 1.49s\n",
      "565:\tlearn: 0.1090388\ttotal: 1.93s\tremaining: 1.48s\n",
      "566:\tlearn: 0.1087371\ttotal: 1.93s\tremaining: 1.48s\n",
      "567:\tlearn: 0.1085571\ttotal: 1.94s\tremaining: 1.47s\n",
      "568:\tlearn: 0.1083663\ttotal: 1.94s\tremaining: 1.47s\n",
      "569:\tlearn: 0.1082309\ttotal: 1.94s\tremaining: 1.47s\n",
      "570:\tlearn: 0.1080750\ttotal: 1.95s\tremaining: 1.46s\n"
     ]
    },
    {
     "name": "stdout",
     "output_type": "stream",
     "text": [
      "571:\tlearn: 0.1078287\ttotal: 1.95s\tremaining: 1.46s\n",
      "572:\tlearn: 0.1076668\ttotal: 1.95s\tremaining: 1.45s\n",
      "573:\tlearn: 0.1075559\ttotal: 1.95s\tremaining: 1.45s\n",
      "574:\tlearn: 0.1073444\ttotal: 1.96s\tremaining: 1.45s\n",
      "575:\tlearn: 0.1070256\ttotal: 1.96s\tremaining: 1.44s\n",
      "576:\tlearn: 0.1069141\ttotal: 1.96s\tremaining: 1.44s\n",
      "577:\tlearn: 0.1067011\ttotal: 1.96s\tremaining: 1.43s\n",
      "578:\tlearn: 0.1064618\ttotal: 1.97s\tremaining: 1.43s\n",
      "579:\tlearn: 0.1064493\ttotal: 1.97s\tremaining: 1.43s\n",
      "580:\tlearn: 0.1061432\ttotal: 1.97s\tremaining: 1.42s\n",
      "581:\tlearn: 0.1059387\ttotal: 1.97s\tremaining: 1.42s\n",
      "582:\tlearn: 0.1058851\ttotal: 1.98s\tremaining: 1.41s\n",
      "583:\tlearn: 0.1057894\ttotal: 1.98s\tremaining: 1.41s\n",
      "584:\tlearn: 0.1057239\ttotal: 1.98s\tremaining: 1.41s\n",
      "585:\tlearn: 0.1055791\ttotal: 1.99s\tremaining: 1.4s\n",
      "586:\tlearn: 0.1054231\ttotal: 1.99s\tremaining: 1.4s\n",
      "587:\tlearn: 0.1053148\ttotal: 1.99s\tremaining: 1.39s\n",
      "588:\tlearn: 0.1050564\ttotal: 1.99s\tremaining: 1.39s\n",
      "589:\tlearn: 0.1048176\ttotal: 1.99s\tremaining: 1.39s\n",
      "590:\tlearn: 0.1046785\ttotal: 2s\tremaining: 1.38s\n",
      "591:\tlearn: 0.1045745\ttotal: 2s\tremaining: 1.38s\n",
      "592:\tlearn: 0.1045279\ttotal: 2s\tremaining: 1.38s\n",
      "593:\tlearn: 0.1045158\ttotal: 2.01s\tremaining: 1.37s\n",
      "594:\tlearn: 0.1043567\ttotal: 2.01s\tremaining: 1.37s\n",
      "595:\tlearn: 0.1042744\ttotal: 2.01s\tremaining: 1.36s\n",
      "596:\tlearn: 0.1040494\ttotal: 2.01s\tremaining: 1.36s\n",
      "597:\tlearn: 0.1038046\ttotal: 2.02s\tremaining: 1.35s\n",
      "598:\tlearn: 0.1037452\ttotal: 2.02s\tremaining: 1.35s\n",
      "599:\tlearn: 0.1035400\ttotal: 2.02s\tremaining: 1.35s\n",
      "600:\tlearn: 0.1033597\ttotal: 2.02s\tremaining: 1.34s\n",
      "601:\tlearn: 0.1032325\ttotal: 2.03s\tremaining: 1.34s\n",
      "602:\tlearn: 0.1031377\ttotal: 2.03s\tremaining: 1.33s\n",
      "603:\tlearn: 0.1030633\ttotal: 2.03s\tremaining: 1.33s\n",
      "604:\tlearn: 0.1028916\ttotal: 2.04s\tremaining: 1.33s\n",
      "605:\tlearn: 0.1027009\ttotal: 2.04s\tremaining: 1.33s\n",
      "606:\tlearn: 0.1026039\ttotal: 2.04s\tremaining: 1.32s\n",
      "607:\tlearn: 0.1024236\ttotal: 2.04s\tremaining: 1.32s\n",
      "608:\tlearn: 0.1021469\ttotal: 2.05s\tremaining: 1.31s\n",
      "609:\tlearn: 0.1020304\ttotal: 2.05s\tremaining: 1.31s\n",
      "610:\tlearn: 0.1018284\ttotal: 2.05s\tremaining: 1.31s\n",
      "611:\tlearn: 0.1016106\ttotal: 2.05s\tremaining: 1.3s\n",
      "612:\tlearn: 0.1013926\ttotal: 2.06s\tremaining: 1.3s\n",
      "613:\tlearn: 0.1013813\ttotal: 2.06s\tremaining: 1.29s\n",
      "614:\tlearn: 0.1012015\ttotal: 2.06s\tremaining: 1.29s\n",
      "615:\tlearn: 0.1011033\ttotal: 2.06s\tremaining: 1.29s\n",
      "616:\tlearn: 0.1009189\ttotal: 2.07s\tremaining: 1.28s\n",
      "617:\tlearn: 0.1007626\ttotal: 2.07s\tremaining: 1.28s\n",
      "618:\tlearn: 0.1004477\ttotal: 2.07s\tremaining: 1.27s\n",
      "619:\tlearn: 0.1004279\ttotal: 2.07s\tremaining: 1.27s\n",
      "620:\tlearn: 0.1001692\ttotal: 2.08s\tremaining: 1.27s\n",
      "621:\tlearn: 0.1000093\ttotal: 2.08s\tremaining: 1.26s\n",
      "622:\tlearn: 0.0997048\ttotal: 2.08s\tremaining: 1.26s\n",
      "623:\tlearn: 0.0994868\ttotal: 2.08s\tremaining: 1.25s\n",
      "624:\tlearn: 0.0992109\ttotal: 2.09s\tremaining: 1.25s\n",
      "625:\tlearn: 0.0990944\ttotal: 2.09s\tremaining: 1.25s\n",
      "626:\tlearn: 0.0988399\ttotal: 2.09s\tremaining: 1.24s\n",
      "627:\tlearn: 0.0985781\ttotal: 2.09s\tremaining: 1.24s\n",
      "628:\tlearn: 0.0983405\ttotal: 2.1s\tremaining: 1.24s\n",
      "629:\tlearn: 0.0983301\ttotal: 2.1s\tremaining: 1.23s\n",
      "630:\tlearn: 0.0981414\ttotal: 2.1s\tremaining: 1.23s\n",
      "631:\tlearn: 0.0980507\ttotal: 2.1s\tremaining: 1.23s\n",
      "632:\tlearn: 0.0978276\ttotal: 2.11s\tremaining: 1.22s\n",
      "633:\tlearn: 0.0978181\ttotal: 2.11s\tremaining: 1.22s\n",
      "634:\tlearn: 0.0975616\ttotal: 2.11s\tremaining: 1.21s\n",
      "635:\tlearn: 0.0973629\ttotal: 2.12s\tremaining: 1.21s\n",
      "636:\tlearn: 0.0972483\ttotal: 2.12s\tremaining: 1.21s\n",
      "637:\tlearn: 0.0971191\ttotal: 2.12s\tremaining: 1.2s\n",
      "638:\tlearn: 0.0969024\ttotal: 2.12s\tremaining: 1.2s\n"
     ]
    },
    {
     "name": "stdout",
     "output_type": "stream",
     "text": [
      "639:\tlearn: 0.0966128\ttotal: 2.13s\tremaining: 1.2s\n",
      "640:\tlearn: 0.0965254\ttotal: 2.13s\tremaining: 1.19s\n",
      "641:\tlearn: 0.0964023\ttotal: 2.13s\tremaining: 1.19s\n",
      "642:\tlearn: 0.0963913\ttotal: 2.13s\tremaining: 1.18s\n",
      "643:\tlearn: 0.0963006\ttotal: 2.13s\tremaining: 1.18s\n",
      "644:\tlearn: 0.0960521\ttotal: 2.14s\tremaining: 1.18s\n",
      "645:\tlearn: 0.0958767\ttotal: 2.14s\tremaining: 1.17s\n",
      "646:\tlearn: 0.0957461\ttotal: 2.14s\tremaining: 1.17s\n",
      "647:\tlearn: 0.0956499\ttotal: 2.15s\tremaining: 1.17s\n",
      "648:\tlearn: 0.0955112\ttotal: 2.15s\tremaining: 1.16s\n",
      "649:\tlearn: 0.0952814\ttotal: 2.15s\tremaining: 1.16s\n",
      "650:\tlearn: 0.0951885\ttotal: 2.15s\tremaining: 1.15s\n",
      "651:\tlearn: 0.0950622\ttotal: 2.15s\tremaining: 1.15s\n",
      "652:\tlearn: 0.0949612\ttotal: 2.16s\tremaining: 1.15s\n",
      "653:\tlearn: 0.0948055\ttotal: 2.16s\tremaining: 1.14s\n",
      "654:\tlearn: 0.0946499\ttotal: 2.16s\tremaining: 1.14s\n",
      "655:\tlearn: 0.0943297\ttotal: 2.17s\tremaining: 1.14s\n",
      "656:\tlearn: 0.0941963\ttotal: 2.17s\tremaining: 1.13s\n",
      "657:\tlearn: 0.0940614\ttotal: 2.17s\tremaining: 1.13s\n",
      "658:\tlearn: 0.0938848\ttotal: 2.17s\tremaining: 1.12s\n",
      "659:\tlearn: 0.0936682\ttotal: 2.17s\tremaining: 1.12s\n",
      "660:\tlearn: 0.0935336\ttotal: 2.18s\tremaining: 1.12s\n",
      "661:\tlearn: 0.0932875\ttotal: 2.18s\tremaining: 1.11s\n",
      "662:\tlearn: 0.0930394\ttotal: 2.18s\tremaining: 1.11s\n",
      "663:\tlearn: 0.0928814\ttotal: 2.19s\tremaining: 1.11s\n",
      "664:\tlearn: 0.0926815\ttotal: 2.19s\tremaining: 1.1s\n",
      "665:\tlearn: 0.0925757\ttotal: 2.19s\tremaining: 1.1s\n",
      "666:\tlearn: 0.0925667\ttotal: 2.19s\tremaining: 1.09s\n",
      "667:\tlearn: 0.0923976\ttotal: 2.2s\tremaining: 1.09s\n",
      "668:\tlearn: 0.0921895\ttotal: 2.2s\tremaining: 1.09s\n",
      "669:\tlearn: 0.0920086\ttotal: 2.2s\tremaining: 1.08s\n",
      "670:\tlearn: 0.0918337\ttotal: 2.2s\tremaining: 1.08s\n",
      "671:\tlearn: 0.0916321\ttotal: 2.21s\tremaining: 1.08s\n",
      "672:\tlearn: 0.0913185\ttotal: 2.21s\tremaining: 1.07s\n",
      "673:\tlearn: 0.0913092\ttotal: 2.21s\tremaining: 1.07s\n",
      "674:\tlearn: 0.0911582\ttotal: 2.21s\tremaining: 1.06s\n",
      "675:\tlearn: 0.0909103\ttotal: 2.21s\tremaining: 1.06s\n",
      "676:\tlearn: 0.0908116\ttotal: 2.22s\tremaining: 1.06s\n",
      "677:\tlearn: 0.0905977\ttotal: 2.22s\tremaining: 1.05s\n",
      "678:\tlearn: 0.0903550\ttotal: 2.22s\tremaining: 1.05s\n",
      "679:\tlearn: 0.0903346\ttotal: 2.22s\tremaining: 1.05s\n",
      "680:\tlearn: 0.0900421\ttotal: 2.23s\tremaining: 1.04s\n",
      "681:\tlearn: 0.0898541\ttotal: 2.23s\tremaining: 1.04s\n",
      "682:\tlearn: 0.0896866\ttotal: 2.23s\tremaining: 1.04s\n",
      "683:\tlearn: 0.0895294\ttotal: 2.23s\tremaining: 1.03s\n",
      "684:\tlearn: 0.0894138\ttotal: 2.24s\tremaining: 1.03s\n",
      "685:\tlearn: 0.0891966\ttotal: 2.24s\tremaining: 1.02s\n",
      "686:\tlearn: 0.0890707\ttotal: 2.24s\tremaining: 1.02s\n",
      "687:\tlearn: 0.0889097\ttotal: 2.24s\tremaining: 1.02s\n",
      "688:\tlearn: 0.0887105\ttotal: 2.25s\tremaining: 1.01s\n",
      "689:\tlearn: 0.0885222\ttotal: 2.25s\tremaining: 1.01s\n",
      "690:\tlearn: 0.0884665\ttotal: 2.25s\tremaining: 1.01s\n",
      "691:\tlearn: 0.0883516\ttotal: 2.25s\tremaining: 1s\n",
      "692:\tlearn: 0.0883014\ttotal: 2.26s\tremaining: 1000ms\n",
      "693:\tlearn: 0.0881279\ttotal: 2.26s\tremaining: 996ms\n",
      "694:\tlearn: 0.0880521\ttotal: 2.26s\tremaining: 992ms\n",
      "695:\tlearn: 0.0879334\ttotal: 2.26s\tremaining: 988ms\n",
      "696:\tlearn: 0.0878062\ttotal: 2.27s\tremaining: 985ms\n",
      "697:\tlearn: 0.0877496\ttotal: 2.27s\tremaining: 981ms\n",
      "698:\tlearn: 0.0876327\ttotal: 2.27s\tremaining: 978ms\n",
      "699:\tlearn: 0.0875903\ttotal: 2.27s\tremaining: 974ms\n",
      "700:\tlearn: 0.0874641\ttotal: 2.28s\tremaining: 971ms\n",
      "701:\tlearn: 0.0872769\ttotal: 2.28s\tremaining: 967ms\n",
      "702:\tlearn: 0.0870613\ttotal: 2.28s\tremaining: 964ms\n",
      "703:\tlearn: 0.0869218\ttotal: 2.28s\tremaining: 961ms\n",
      "704:\tlearn: 0.0867246\ttotal: 2.29s\tremaining: 957ms\n",
      "705:\tlearn: 0.0865880\ttotal: 2.29s\tremaining: 954ms\n",
      "706:\tlearn: 0.0864521\ttotal: 2.29s\tremaining: 950ms\n"
     ]
    },
    {
     "name": "stdout",
     "output_type": "stream",
     "text": [
      "707:\tlearn: 0.0862327\ttotal: 2.3s\tremaining: 949ms\n",
      "708:\tlearn: 0.0861784\ttotal: 2.31s\tremaining: 946ms\n",
      "709:\tlearn: 0.0860337\ttotal: 2.31s\tremaining: 942ms\n",
      "710:\tlearn: 0.0858396\ttotal: 2.31s\tremaining: 939ms\n",
      "711:\tlearn: 0.0856962\ttotal: 2.31s\tremaining: 935ms\n",
      "712:\tlearn: 0.0854836\ttotal: 2.31s\tremaining: 932ms\n",
      "713:\tlearn: 0.0853736\ttotal: 2.32s\tremaining: 929ms\n",
      "714:\tlearn: 0.0852160\ttotal: 2.33s\tremaining: 927ms\n",
      "715:\tlearn: 0.0851131\ttotal: 2.33s\tremaining: 926ms\n",
      "716:\tlearn: 0.0849695\ttotal: 2.34s\tremaining: 923ms\n",
      "717:\tlearn: 0.0849400\ttotal: 2.34s\tremaining: 919ms\n",
      "718:\tlearn: 0.0847653\ttotal: 2.34s\tremaining: 916ms\n",
      "719:\tlearn: 0.0846449\ttotal: 2.34s\tremaining: 912ms\n",
      "720:\tlearn: 0.0844785\ttotal: 2.35s\tremaining: 908ms\n",
      "721:\tlearn: 0.0842902\ttotal: 2.35s\tremaining: 905ms\n",
      "722:\tlearn: 0.0842522\ttotal: 2.35s\tremaining: 901ms\n",
      "723:\tlearn: 0.0840666\ttotal: 2.36s\tremaining: 899ms\n",
      "724:\tlearn: 0.0839734\ttotal: 2.36s\tremaining: 896ms\n",
      "725:\tlearn: 0.0838551\ttotal: 2.37s\tremaining: 893ms\n",
      "726:\tlearn: 0.0836964\ttotal: 2.37s\tremaining: 890ms\n",
      "727:\tlearn: 0.0835027\ttotal: 2.37s\tremaining: 886ms\n",
      "728:\tlearn: 0.0833151\ttotal: 2.38s\tremaining: 883ms\n",
      "729:\tlearn: 0.0831479\ttotal: 2.38s\tremaining: 879ms\n",
      "730:\tlearn: 0.0830175\ttotal: 2.38s\tremaining: 876ms\n",
      "731:\tlearn: 0.0829193\ttotal: 2.38s\tremaining: 872ms\n",
      "732:\tlearn: 0.0827653\ttotal: 2.38s\tremaining: 868ms\n",
      "733:\tlearn: 0.0826506\ttotal: 2.39s\tremaining: 865ms\n",
      "734:\tlearn: 0.0825152\ttotal: 2.39s\tremaining: 861ms\n",
      "735:\tlearn: 0.0823922\ttotal: 2.39s\tremaining: 858ms\n",
      "736:\tlearn: 0.0822617\ttotal: 2.39s\tremaining: 854ms\n",
      "737:\tlearn: 0.0822134\ttotal: 2.4s\tremaining: 851ms\n",
      "738:\tlearn: 0.0820301\ttotal: 2.4s\tremaining: 847ms\n",
      "739:\tlearn: 0.0818973\ttotal: 2.41s\tremaining: 846ms\n",
      "740:\tlearn: 0.0818040\ttotal: 2.42s\tremaining: 844ms\n",
      "741:\tlearn: 0.0815641\ttotal: 2.42s\tremaining: 841ms\n",
      "742:\tlearn: 0.0814238\ttotal: 2.42s\tremaining: 837ms\n",
      "743:\tlearn: 0.0812920\ttotal: 2.42s\tremaining: 834ms\n",
      "744:\tlearn: 0.0812348\ttotal: 2.42s\tremaining: 830ms\n",
      "745:\tlearn: 0.0811556\ttotal: 2.43s\tremaining: 827ms\n",
      "746:\tlearn: 0.0809653\ttotal: 2.43s\tremaining: 823ms\n",
      "747:\tlearn: 0.0808494\ttotal: 2.43s\tremaining: 819ms\n",
      "748:\tlearn: 0.0806809\ttotal: 2.43s\tremaining: 816ms\n",
      "749:\tlearn: 0.0804102\ttotal: 2.44s\tremaining: 812ms\n",
      "750:\tlearn: 0.0802830\ttotal: 2.44s\tremaining: 809ms\n",
      "751:\tlearn: 0.0800542\ttotal: 2.44s\tremaining: 806ms\n",
      "752:\tlearn: 0.0799051\ttotal: 2.45s\tremaining: 803ms\n",
      "753:\tlearn: 0.0798366\ttotal: 2.45s\tremaining: 800ms\n",
      "754:\tlearn: 0.0797221\ttotal: 2.45s\tremaining: 796ms\n",
      "755:\tlearn: 0.0795149\ttotal: 2.46s\tremaining: 793ms\n",
      "756:\tlearn: 0.0793356\ttotal: 2.46s\tremaining: 789ms\n"
     ]
    },
    {
     "name": "stdout",
     "output_type": "stream",
     "text": [
      "757:\tlearn: 0.0792222\ttotal: 2.46s\tremaining: 786ms\n",
      "758:\tlearn: 0.0791153\ttotal: 2.46s\tremaining: 783ms\n",
      "759:\tlearn: 0.0790128\ttotal: 2.47s\tremaining: 779ms\n",
      "760:\tlearn: 0.0789145\ttotal: 2.47s\tremaining: 775ms\n",
      "761:\tlearn: 0.0788530\ttotal: 2.47s\tremaining: 772ms\n",
      "762:\tlearn: 0.0787696\ttotal: 2.47s\tremaining: 769ms\n",
      "763:\tlearn: 0.0785754\ttotal: 2.48s\tremaining: 765ms\n",
      "764:\tlearn: 0.0784865\ttotal: 2.48s\tremaining: 762ms\n",
      "765:\tlearn: 0.0783134\ttotal: 2.48s\tremaining: 758ms\n",
      "766:\tlearn: 0.0782309\ttotal: 2.48s\tremaining: 755ms\n",
      "767:\tlearn: 0.0780657\ttotal: 2.49s\tremaining: 751ms\n",
      "768:\tlearn: 0.0778818\ttotal: 2.49s\tremaining: 748ms\n",
      "769:\tlearn: 0.0777042\ttotal: 2.49s\tremaining: 744ms\n",
      "770:\tlearn: 0.0776381\ttotal: 2.49s\tremaining: 741ms\n",
      "771:\tlearn: 0.0774486\ttotal: 2.5s\tremaining: 738ms\n",
      "772:\tlearn: 0.0772341\ttotal: 2.5s\tremaining: 734ms\n",
      "773:\tlearn: 0.0770630\ttotal: 2.5s\tremaining: 730ms\n",
      "774:\tlearn: 0.0768912\ttotal: 2.5s\tremaining: 727ms\n",
      "775:\tlearn: 0.0768248\ttotal: 2.51s\tremaining: 724ms\n",
      "776:\tlearn: 0.0766799\ttotal: 2.51s\tremaining: 720ms\n",
      "777:\tlearn: 0.0765856\ttotal: 2.51s\tremaining: 717ms\n",
      "778:\tlearn: 0.0764400\ttotal: 2.51s\tremaining: 713ms\n",
      "779:\tlearn: 0.0763460\ttotal: 2.52s\tremaining: 710ms\n",
      "780:\tlearn: 0.0762129\ttotal: 2.52s\tremaining: 707ms\n",
      "781:\tlearn: 0.0760873\ttotal: 2.52s\tremaining: 703ms\n",
      "782:\tlearn: 0.0758907\ttotal: 2.52s\tremaining: 700ms\n",
      "783:\tlearn: 0.0758367\ttotal: 2.53s\tremaining: 697ms\n",
      "784:\tlearn: 0.0756211\ttotal: 2.53s\tremaining: 693ms\n",
      "785:\tlearn: 0.0754946\ttotal: 2.53s\tremaining: 690ms\n",
      "786:\tlearn: 0.0754282\ttotal: 2.54s\tremaining: 687ms\n",
      "787:\tlearn: 0.0753592\ttotal: 2.54s\tremaining: 683ms\n",
      "788:\tlearn: 0.0752427\ttotal: 2.54s\tremaining: 680ms\n",
      "789:\tlearn: 0.0751763\ttotal: 2.54s\tremaining: 676ms\n",
      "790:\tlearn: 0.0750167\ttotal: 2.55s\tremaining: 673ms\n",
      "791:\tlearn: 0.0749357\ttotal: 2.55s\tremaining: 670ms\n",
      "792:\tlearn: 0.0747395\ttotal: 2.55s\tremaining: 666ms\n",
      "793:\tlearn: 0.0746446\ttotal: 2.56s\tremaining: 663ms\n",
      "794:\tlearn: 0.0745690\ttotal: 2.56s\tremaining: 660ms\n",
      "795:\tlearn: 0.0744963\ttotal: 2.56s\tremaining: 656ms\n",
      "796:\tlearn: 0.0743858\ttotal: 2.56s\tremaining: 653ms\n",
      "797:\tlearn: 0.0742965\ttotal: 2.56s\tremaining: 649ms\n",
      "798:\tlearn: 0.0742283\ttotal: 2.57s\tremaining: 646ms\n",
      "799:\tlearn: 0.0741710\ttotal: 2.57s\tremaining: 642ms\n",
      "800:\tlearn: 0.0740664\ttotal: 2.57s\tremaining: 639ms\n",
      "801:\tlearn: 0.0739456\ttotal: 2.57s\tremaining: 636ms\n",
      "802:\tlearn: 0.0738009\ttotal: 2.58s\tremaining: 632ms\n",
      "803:\tlearn: 0.0735725\ttotal: 2.58s\tremaining: 629ms\n",
      "804:\tlearn: 0.0734647\ttotal: 2.58s\tremaining: 625ms\n",
      "805:\tlearn: 0.0732938\ttotal: 2.58s\tremaining: 622ms\n",
      "806:\tlearn: 0.0732179\ttotal: 2.59s\tremaining: 619ms\n",
      "807:\tlearn: 0.0730868\ttotal: 2.59s\tremaining: 615ms\n",
      "808:\tlearn: 0.0730402\ttotal: 2.59s\tremaining: 612ms\n",
      "809:\tlearn: 0.0728899\ttotal: 2.59s\tremaining: 609ms\n",
      "810:\tlearn: 0.0727576\ttotal: 2.6s\tremaining: 605ms\n",
      "811:\tlearn: 0.0726236\ttotal: 2.6s\tremaining: 602ms\n",
      "812:\tlearn: 0.0724059\ttotal: 2.6s\tremaining: 599ms\n",
      "813:\tlearn: 0.0722226\ttotal: 2.6s\tremaining: 595ms\n",
      "814:\tlearn: 0.0721742\ttotal: 2.61s\tremaining: 592ms\n",
      "815:\tlearn: 0.0719921\ttotal: 2.61s\tremaining: 588ms\n",
      "816:\tlearn: 0.0718791\ttotal: 2.61s\tremaining: 585ms\n",
      "817:\tlearn: 0.0718066\ttotal: 2.62s\tremaining: 582ms\n",
      "818:\tlearn: 0.0716200\ttotal: 2.62s\tremaining: 579ms\n",
      "819:\tlearn: 0.0714875\ttotal: 2.62s\tremaining: 575ms\n",
      "820:\tlearn: 0.0713226\ttotal: 2.62s\tremaining: 572ms\n",
      "821:\tlearn: 0.0712330\ttotal: 2.63s\tremaining: 569ms\n",
      "822:\tlearn: 0.0711553\ttotal: 2.63s\tremaining: 566ms\n",
      "823:\tlearn: 0.0710837\ttotal: 2.63s\tremaining: 562ms\n",
      "824:\tlearn: 0.0709800\ttotal: 2.63s\tremaining: 559ms\n"
     ]
    },
    {
     "name": "stdout",
     "output_type": "stream",
     "text": [
      "825:\tlearn: 0.0708175\ttotal: 2.64s\tremaining: 556ms\n",
      "826:\tlearn: 0.0707081\ttotal: 2.64s\tremaining: 553ms\n",
      "827:\tlearn: 0.0705442\ttotal: 2.64s\tremaining: 549ms\n",
      "828:\tlearn: 0.0704910\ttotal: 2.65s\tremaining: 546ms\n",
      "829:\tlearn: 0.0703867\ttotal: 2.65s\tremaining: 543ms\n",
      "830:\tlearn: 0.0701997\ttotal: 2.65s\tremaining: 540ms\n",
      "831:\tlearn: 0.0700492\ttotal: 2.66s\tremaining: 536ms\n",
      "832:\tlearn: 0.0699315\ttotal: 2.66s\tremaining: 533ms\n",
      "833:\tlearn: 0.0698531\ttotal: 2.66s\tremaining: 530ms\n",
      "834:\tlearn: 0.0697831\ttotal: 2.67s\tremaining: 527ms\n",
      "835:\tlearn: 0.0696651\ttotal: 2.67s\tremaining: 523ms\n",
      "836:\tlearn: 0.0695421\ttotal: 2.67s\tremaining: 520ms\n",
      "837:\tlearn: 0.0694581\ttotal: 2.67s\tremaining: 517ms\n",
      "838:\tlearn: 0.0693017\ttotal: 2.67s\tremaining: 513ms\n",
      "839:\tlearn: 0.0692092\ttotal: 2.68s\tremaining: 510ms\n",
      "840:\tlearn: 0.0690813\ttotal: 2.68s\tremaining: 507ms\n",
      "841:\tlearn: 0.0689428\ttotal: 2.68s\tremaining: 503ms\n",
      "842:\tlearn: 0.0688857\ttotal: 2.68s\tremaining: 500ms\n",
      "843:\tlearn: 0.0686971\ttotal: 2.69s\tremaining: 497ms\n",
      "844:\tlearn: 0.0686020\ttotal: 2.69s\tremaining: 493ms\n",
      "845:\tlearn: 0.0685466\ttotal: 2.69s\tremaining: 490ms\n",
      "846:\tlearn: 0.0684568\ttotal: 2.69s\tremaining: 487ms\n",
      "847:\tlearn: 0.0682895\ttotal: 2.7s\tremaining: 484ms\n",
      "848:\tlearn: 0.0681990\ttotal: 2.7s\tremaining: 481ms\n",
      "849:\tlearn: 0.0681302\ttotal: 2.7s\tremaining: 477ms\n",
      "850:\tlearn: 0.0679651\ttotal: 2.71s\tremaining: 474ms\n",
      "851:\tlearn: 0.0678890\ttotal: 2.71s\tremaining: 471ms\n",
      "852:\tlearn: 0.0677240\ttotal: 2.71s\tremaining: 467ms\n",
      "853:\tlearn: 0.0675742\ttotal: 2.71s\tremaining: 464ms\n",
      "854:\tlearn: 0.0675322\ttotal: 2.72s\tremaining: 461ms\n",
      "855:\tlearn: 0.0673344\ttotal: 2.72s\tremaining: 458ms\n",
      "856:\tlearn: 0.0671862\ttotal: 2.72s\tremaining: 454ms\n",
      "857:\tlearn: 0.0670287\ttotal: 2.73s\tremaining: 451ms\n",
      "858:\tlearn: 0.0669735\ttotal: 2.73s\tremaining: 448ms\n",
      "859:\tlearn: 0.0668269\ttotal: 2.73s\tremaining: 445ms\n",
      "860:\tlearn: 0.0666756\ttotal: 2.73s\tremaining: 441ms\n",
      "861:\tlearn: 0.0665285\ttotal: 2.74s\tremaining: 438ms\n",
      "862:\tlearn: 0.0663284\ttotal: 2.74s\tremaining: 435ms\n",
      "863:\tlearn: 0.0662040\ttotal: 2.74s\tremaining: 431ms\n",
      "864:\tlearn: 0.0660558\ttotal: 2.74s\tremaining: 428ms\n",
      "865:\tlearn: 0.0658752\ttotal: 2.75s\tremaining: 425ms\n",
      "866:\tlearn: 0.0657332\ttotal: 2.75s\tremaining: 422ms\n",
      "867:\tlearn: 0.0656791\ttotal: 2.75s\tremaining: 419ms\n",
      "868:\tlearn: 0.0655784\ttotal: 2.75s\tremaining: 415ms\n",
      "869:\tlearn: 0.0654621\ttotal: 2.76s\tremaining: 412ms\n",
      "870:\tlearn: 0.0653079\ttotal: 2.76s\tremaining: 409ms\n",
      "871:\tlearn: 0.0652720\ttotal: 2.76s\tremaining: 406ms\n",
      "872:\tlearn: 0.0651570\ttotal: 2.77s\tremaining: 402ms\n",
      "873:\tlearn: 0.0650151\ttotal: 2.77s\tremaining: 399ms\n",
      "874:\tlearn: 0.0649264\ttotal: 2.77s\tremaining: 396ms\n",
      "875:\tlearn: 0.0647931\ttotal: 2.77s\tremaining: 393ms\n",
      "876:\tlearn: 0.0647119\ttotal: 2.78s\tremaining: 389ms\n",
      "877:\tlearn: 0.0646016\ttotal: 2.78s\tremaining: 386ms\n",
      "878:\tlearn: 0.0644710\ttotal: 2.78s\tremaining: 383ms\n",
      "879:\tlearn: 0.0643325\ttotal: 2.78s\tremaining: 380ms\n",
      "880:\tlearn: 0.0642397\ttotal: 2.79s\tremaining: 376ms\n",
      "881:\tlearn: 0.0640963\ttotal: 2.79s\tremaining: 373ms\n",
      "882:\tlearn: 0.0639835\ttotal: 2.79s\tremaining: 370ms\n",
      "883:\tlearn: 0.0638828\ttotal: 2.79s\tremaining: 367ms\n",
      "884:\tlearn: 0.0637600\ttotal: 2.8s\tremaining: 363ms\n",
      "885:\tlearn: 0.0637063\ttotal: 2.8s\tremaining: 360ms\n",
      "886:\tlearn: 0.0636054\ttotal: 2.8s\tremaining: 357ms\n",
      "887:\tlearn: 0.0634993\ttotal: 2.8s\tremaining: 354ms\n",
      "888:\tlearn: 0.0634304\ttotal: 2.81s\tremaining: 350ms\n",
      "889:\tlearn: 0.0633421\ttotal: 2.81s\tremaining: 347ms\n",
      "890:\tlearn: 0.0631843\ttotal: 2.81s\tremaining: 344ms\n",
      "891:\tlearn: 0.0631000\ttotal: 2.81s\tremaining: 341ms\n",
      "892:\tlearn: 0.0629964\ttotal: 2.82s\tremaining: 337ms\n"
     ]
    },
    {
     "name": "stdout",
     "output_type": "stream",
     "text": [
      "893:\tlearn: 0.0629495\ttotal: 2.82s\tremaining: 334ms\n",
      "894:\tlearn: 0.0628879\ttotal: 2.82s\tremaining: 331ms\n",
      "895:\tlearn: 0.0627882\ttotal: 2.83s\tremaining: 328ms\n",
      "896:\tlearn: 0.0626979\ttotal: 2.83s\tremaining: 325ms\n",
      "897:\tlearn: 0.0626386\ttotal: 2.83s\tremaining: 321ms\n",
      "898:\tlearn: 0.0624628\ttotal: 2.83s\tremaining: 318ms\n",
      "899:\tlearn: 0.0624033\ttotal: 2.83s\tremaining: 315ms\n",
      "900:\tlearn: 0.0623503\ttotal: 2.84s\tremaining: 312ms\n",
      "901:\tlearn: 0.0622062\ttotal: 2.84s\tremaining: 309ms\n",
      "902:\tlearn: 0.0621620\ttotal: 2.85s\tremaining: 306ms\n",
      "903:\tlearn: 0.0620791\ttotal: 2.85s\tremaining: 302ms\n",
      "904:\tlearn: 0.0619343\ttotal: 2.85s\tremaining: 299ms\n",
      "905:\tlearn: 0.0618390\ttotal: 2.85s\tremaining: 296ms\n",
      "906:\tlearn: 0.0617806\ttotal: 2.85s\tremaining: 293ms\n",
      "907:\tlearn: 0.0615979\ttotal: 2.86s\tremaining: 289ms\n",
      "908:\tlearn: 0.0615537\ttotal: 2.86s\tremaining: 286ms\n",
      "909:\tlearn: 0.0615218\ttotal: 2.86s\tremaining: 283ms\n",
      "910:\tlearn: 0.0614541\ttotal: 2.86s\tremaining: 280ms\n",
      "911:\tlearn: 0.0613740\ttotal: 2.87s\tremaining: 277ms\n",
      "912:\tlearn: 0.0612409\ttotal: 2.87s\tremaining: 273ms\n",
      "913:\tlearn: 0.0612100\ttotal: 2.87s\tremaining: 270ms\n",
      "914:\tlearn: 0.0610524\ttotal: 2.88s\tremaining: 267ms\n",
      "915:\tlearn: 0.0610149\ttotal: 2.88s\tremaining: 264ms\n",
      "916:\tlearn: 0.0609255\ttotal: 2.88s\tremaining: 261ms\n",
      "917:\tlearn: 0.0608771\ttotal: 2.88s\tremaining: 258ms\n",
      "918:\tlearn: 0.0607228\ttotal: 2.89s\tremaining: 255ms\n",
      "919:\tlearn: 0.0605837\ttotal: 2.89s\tremaining: 251ms\n",
      "920:\tlearn: 0.0604729\ttotal: 2.89s\tremaining: 248ms\n",
      "921:\tlearn: 0.0603594\ttotal: 2.89s\tremaining: 245ms\n",
      "922:\tlearn: 0.0603264\ttotal: 2.9s\tremaining: 242ms\n",
      "923:\tlearn: 0.0601803\ttotal: 2.9s\tremaining: 238ms\n",
      "924:\tlearn: 0.0600626\ttotal: 2.9s\tremaining: 235ms\n",
      "925:\tlearn: 0.0600167\ttotal: 2.9s\tremaining: 232ms\n",
      "926:\tlearn: 0.0598279\ttotal: 2.91s\tremaining: 229ms\n",
      "927:\tlearn: 0.0596873\ttotal: 2.91s\tremaining: 226ms\n",
      "928:\tlearn: 0.0595687\ttotal: 2.91s\tremaining: 223ms\n",
      "929:\tlearn: 0.0594960\ttotal: 2.92s\tremaining: 219ms\n",
      "930:\tlearn: 0.0594225\ttotal: 2.92s\tremaining: 216ms\n",
      "931:\tlearn: 0.0593691\ttotal: 2.92s\tremaining: 213ms\n",
      "932:\tlearn: 0.0592632\ttotal: 2.92s\tremaining: 210ms\n",
      "933:\tlearn: 0.0591944\ttotal: 2.93s\tremaining: 207ms\n",
      "934:\tlearn: 0.0591252\ttotal: 2.94s\tremaining: 204ms\n",
      "935:\tlearn: 0.0590099\ttotal: 2.95s\tremaining: 202ms\n",
      "936:\tlearn: 0.0589540\ttotal: 2.95s\tremaining: 198ms\n",
      "937:\tlearn: 0.0588222\ttotal: 2.95s\tremaining: 195ms\n",
      "938:\tlearn: 0.0587154\ttotal: 2.96s\tremaining: 192ms\n",
      "939:\tlearn: 0.0586614\ttotal: 2.96s\tremaining: 189ms\n",
      "940:\tlearn: 0.0585606\ttotal: 2.96s\tremaining: 186ms\n",
      "941:\tlearn: 0.0584554\ttotal: 2.96s\tremaining: 182ms\n",
      "942:\tlearn: 0.0583490\ttotal: 2.97s\tremaining: 179ms\n",
      "943:\tlearn: 0.0582279\ttotal: 2.97s\tremaining: 176ms\n",
      "944:\tlearn: 0.0581456\ttotal: 2.97s\tremaining: 173ms\n",
      "945:\tlearn: 0.0580894\ttotal: 2.97s\tremaining: 170ms\n",
      "946:\tlearn: 0.0580487\ttotal: 2.98s\tremaining: 167ms\n",
      "947:\tlearn: 0.0579849\ttotal: 2.98s\tremaining: 163ms\n",
      "948:\tlearn: 0.0578736\ttotal: 2.98s\tremaining: 160ms\n",
      "949:\tlearn: 0.0577753\ttotal: 2.98s\tremaining: 157ms\n",
      "950:\tlearn: 0.0576785\ttotal: 2.99s\tremaining: 154ms\n"
     ]
    },
    {
     "name": "stdout",
     "output_type": "stream",
     "text": [
      "951:\tlearn: 0.0575726\ttotal: 2.99s\tremaining: 151ms\n",
      "952:\tlearn: 0.0574744\ttotal: 2.99s\tremaining: 148ms\n",
      "953:\tlearn: 0.0574054\ttotal: 3s\tremaining: 144ms\n",
      "954:\tlearn: 0.0573200\ttotal: 3s\tremaining: 141ms\n",
      "955:\tlearn: 0.0572706\ttotal: 3s\tremaining: 138ms\n",
      "956:\tlearn: 0.0571172\ttotal: 3s\tremaining: 135ms\n",
      "957:\tlearn: 0.0569832\ttotal: 3.01s\tremaining: 132ms\n",
      "958:\tlearn: 0.0568897\ttotal: 3.01s\tremaining: 129ms\n",
      "959:\tlearn: 0.0568080\ttotal: 3.01s\tremaining: 125ms\n",
      "960:\tlearn: 0.0567191\ttotal: 3.01s\tremaining: 122ms\n",
      "961:\tlearn: 0.0566164\ttotal: 3.02s\tremaining: 119ms\n",
      "962:\tlearn: 0.0565890\ttotal: 3.02s\tremaining: 116ms\n",
      "963:\tlearn: 0.0565146\ttotal: 3.02s\tremaining: 113ms\n",
      "964:\tlearn: 0.0564477\ttotal: 3.02s\tremaining: 110ms\n",
      "965:\tlearn: 0.0563002\ttotal: 3.02s\tremaining: 106ms\n",
      "966:\tlearn: 0.0561996\ttotal: 3.03s\tremaining: 103ms\n",
      "967:\tlearn: 0.0561098\ttotal: 3.03s\tremaining: 100ms\n",
      "968:\tlearn: 0.0560694\ttotal: 3.03s\tremaining: 97ms\n",
      "969:\tlearn: 0.0559827\ttotal: 3.04s\tremaining: 93.9ms\n",
      "970:\tlearn: 0.0558997\ttotal: 3.04s\tremaining: 90.7ms\n",
      "971:\tlearn: 0.0558665\ttotal: 3.04s\tremaining: 87.6ms\n",
      "972:\tlearn: 0.0558197\ttotal: 3.05s\tremaining: 84.6ms\n",
      "973:\tlearn: 0.0556821\ttotal: 3.05s\tremaining: 81.4ms\n",
      "974:\tlearn: 0.0555690\ttotal: 3.05s\tremaining: 78.3ms\n",
      "975:\tlearn: 0.0554885\ttotal: 3.05s\tremaining: 75.1ms\n",
      "976:\tlearn: 0.0554098\ttotal: 3.06s\tremaining: 72ms\n",
      "977:\tlearn: 0.0552982\ttotal: 3.06s\tremaining: 68.8ms\n",
      "978:\tlearn: 0.0551738\ttotal: 3.06s\tremaining: 65.7ms\n",
      "979:\tlearn: 0.0551491\ttotal: 3.06s\tremaining: 62.5ms\n",
      "980:\tlearn: 0.0551113\ttotal: 3.07s\tremaining: 59.4ms\n",
      "981:\tlearn: 0.0550380\ttotal: 3.07s\tremaining: 56.3ms\n",
      "982:\tlearn: 0.0549351\ttotal: 3.07s\tremaining: 53.1ms\n",
      "983:\tlearn: 0.0548716\ttotal: 3.07s\tremaining: 50ms\n",
      "984:\tlearn: 0.0547748\ttotal: 3.08s\tremaining: 46.9ms\n",
      "985:\tlearn: 0.0546390\ttotal: 3.08s\tremaining: 43.7ms\n",
      "986:\tlearn: 0.0545598\ttotal: 3.08s\tremaining: 40.6ms\n",
      "987:\tlearn: 0.0545084\ttotal: 3.09s\tremaining: 37.5ms\n",
      "988:\tlearn: 0.0543933\ttotal: 3.09s\tremaining: 34.4ms\n",
      "989:\tlearn: 0.0543313\ttotal: 3.09s\tremaining: 31.2ms\n",
      "990:\tlearn: 0.0542338\ttotal: 3.09s\tremaining: 28.1ms\n",
      "991:\tlearn: 0.0541236\ttotal: 3.1s\tremaining: 25ms\n",
      "992:\tlearn: 0.0540958\ttotal: 3.1s\tremaining: 21.9ms\n",
      "993:\tlearn: 0.0539972\ttotal: 3.1s\tremaining: 18.7ms\n",
      "994:\tlearn: 0.0538946\ttotal: 3.1s\tremaining: 15.6ms\n",
      "995:\tlearn: 0.0537853\ttotal: 3.11s\tremaining: 12.5ms\n",
      "996:\tlearn: 0.0537312\ttotal: 3.11s\tremaining: 9.36ms\n",
      "997:\tlearn: 0.0536392\ttotal: 3.11s\tremaining: 6.24ms\n",
      "998:\tlearn: 0.0535472\ttotal: 3.11s\tremaining: 3.12ms\n",
      "999:\tlearn: 0.0534944\ttotal: 3.12s\tremaining: 0us\n"
     ]
    },
    {
     "data": {
      "text/plain": [
       "<catboost.core.CatBoostRegressor at 0x7fc04b82bc70>"
      ]
     },
     "execution_count": 9,
     "metadata": {},
     "output_type": "execute_result"
    }
   ],
   "source": [
    "#Train the Model \n",
    "prior_model = ctb.CatBoostRegressor()\n",
    "prior_model.fit(X_train,Y_train)"
   ]
  },
  {
   "cell_type": "code",
   "execution_count": 10,
   "id": "af65dcda",
   "metadata": {
    "execution": {
     "iopub.execute_input": "2022-07-22T20:31:45.325828Z",
     "iopub.status.busy": "2022-07-22T20:31:45.324730Z",
     "iopub.status.idle": "2022-07-22T20:31:45.388950Z",
     "shell.execute_reply": "2022-07-22T20:31:45.387167Z"
    },
    "id": "af65dcda",
    "papermill": {
     "duration": 0.092526,
     "end_time": "2022-07-22T20:31:45.392733",
     "exception": false,
     "start_time": "2022-07-22T20:31:45.300207",
     "status": "completed"
    },
    "tags": []
   },
   "outputs": [
    {
     "data": {
      "application/scrapbook.scrap.json+json": {
       "data": 0.10635815349239683,
       "encoder": "json",
       "name": "Prior Model MSE",
       "version": 1
      }
     },
     "metadata": {
      "scrapbook": {
       "data": true,
       "display": false,
       "name": "Prior Model MSE"
      }
     },
     "output_type": "display_data"
    },
    {
     "data": {
      "application/scrapbook.scrap.json+json": {
       "data": 1.1754996051634847,
       "encoder": "json",
       "name": "ABC Pre-generator MSE",
       "version": 1
      }
     },
     "metadata": {
      "scrapbook": {
       "data": true,
       "display": false,
       "name": "ABC Pre-generator MSE"
      }
     },
     "output_type": "display_data"
    },
    {
     "data": {
      "application/scrapbook.scrap.json+json": {
       "data": 0.21419521939664263,
       "encoder": "json",
       "name": "Prior Model MAE",
       "version": 1
      }
     },
     "metadata": {
      "scrapbook": {
       "data": true,
       "display": false,
       "name": "Prior Model MAE"
      }
     },
     "output_type": "display_data"
    },
    {
     "name": "stdout",
     "output_type": "stream",
     "text": [
      "Prior Model MAE 0.21419521939664263\n",
      "ABC Pre-generator MAE 0.9085759916239997\n"
     ]
    }
   ],
   "source": [
    "y_pred = prior_model.predict(X_test)\n",
    "y_abc = y_pred + np.random.normal(0,variance, y_pred.shape) + bias \n",
    "mse = mean_squared_error(y_pred,Y_test)\n",
    "sb.glue(\"Prior Model MSE\",mse)\n",
    "mse = mean_squared_error(y_abc,Y_test)\n",
    "sb.glue(\"ABC Pre-generator MSE\",mse)\n",
    "mae = mean_absolute_error(y_pred,Y_test)\n",
    "sb.glue(\"Prior Model MAE\",mae)\n",
    "print(\"Prior Model MAE\",mae)\n",
    "mae = mean_absolute_error(y_abc,Y_test)\n",
    "print(\"ABC Pre-generator MAE\",mae)"
   ]
  },
  {
   "cell_type": "markdown",
   "id": "25609da2",
   "metadata": {
    "papermill": {
     "duration": 0.017454,
     "end_time": "2022-07-22T20:31:45.421906",
     "exception": false,
     "start_time": "2022-07-22T20:31:45.404452",
     "status": "completed"
    },
    "tags": []
   },
   "source": [
    "# mGAN Model"
   ]
  },
  {
   "cell_type": "code",
   "execution_count": 11,
   "id": "dfc3464d",
   "metadata": {
    "execution": {
     "iopub.execute_input": "2022-07-22T20:31:45.468936Z",
     "iopub.status.busy": "2022-07-22T20:31:45.468345Z",
     "iopub.status.idle": "2022-07-22T20:31:45.473881Z",
     "shell.execute_reply": "2022-07-22T20:31:45.473026Z"
    },
    "papermill": {
     "duration": 0.038252,
     "end_time": "2022-07-22T20:31:45.476988",
     "exception": false,
     "start_time": "2022-07-22T20:31:45.438736",
     "status": "completed"
    },
    "tags": []
   },
   "outputs": [],
   "source": [
    "# gen = network.Generator(n_features+1).to(device)\n",
    "# disc = network.Discriminator(n_features+1).to(device)\n",
    "\n",
    "# criterion = torch.nn.BCELoss()\n",
    "# gen_opt = torch.optim.Adam(gen.parameters(), lr=0.01, betas=(0.5, 0.999))\n",
    "# disc_opt = torch.optim.Adam(disc.parameters(), lr=0.01, betas=(0.5, 0.999))"
   ]
  },
  {
   "cell_type": "code",
   "execution_count": 12,
   "id": "b75fdd85",
   "metadata": {
    "execution": {
     "iopub.execute_input": "2022-07-22T20:31:45.514855Z",
     "iopub.status.busy": "2022-07-22T20:31:45.514029Z",
     "iopub.status.idle": "2022-07-22T20:31:45.521654Z",
     "shell.execute_reply": "2022-07-22T20:31:45.519348Z"
    },
    "papermill": {
     "duration": 0.035685,
     "end_time": "2022-07-22T20:31:45.524518",
     "exception": false,
     "start_time": "2022-07-22T20:31:45.488833",
     "status": "completed"
    },
    "tags": []
   },
   "outputs": [],
   "source": [
    "#Training the ABC_GAN \n",
    "# ABC_train_test2.training_GAN(disc,gen,disc_opt,gen_opt,train_data,batch_size,n_epochs,criterion,prior_model,variance,bias,device)"
   ]
  },
  {
   "cell_type": "code",
   "execution_count": 13,
   "id": "1fa7c368",
   "metadata": {
    "execution": {
     "iopub.execute_input": "2022-07-22T20:31:45.565812Z",
     "iopub.status.busy": "2022-07-22T20:31:45.565187Z",
     "iopub.status.idle": "2022-07-22T20:31:45.571274Z",
     "shell.execute_reply": "2022-07-22T20:31:45.570077Z"
    },
    "papermill": {
     "duration": 0.041649,
     "end_time": "2022-07-22T20:31:45.577039",
     "exception": false,
     "start_time": "2022-07-22T20:31:45.535390",
     "status": "completed"
    },
    "tags": []
   },
   "outputs": [],
   "source": [
    "# ABC_GAN1_metrics=ABC_train_test2.test_generator(gen,test_data,prior_model,variance,bias,\"1\",device)\n",
    "# sb.glue(\"ABC_GAN_1 Metrics\",ABC_GAN1_metrics)\n",
    "\n",
    "# print(\"MAE\")\n",
    "# print(mean(ABC_GAN1_metrics[1]))"
   ]
  },
  {
   "cell_type": "code",
   "execution_count": 14,
   "id": "eb22ce5c",
   "metadata": {
    "execution": {
     "iopub.execute_input": "2022-07-22T20:31:45.602270Z",
     "iopub.status.busy": "2022-07-22T20:31:45.601889Z",
     "iopub.status.idle": "2022-07-22T20:31:45.609060Z",
     "shell.execute_reply": "2022-07-22T20:31:45.606970Z"
    },
    "papermill": {
     "duration": 0.023996,
     "end_time": "2022-07-22T20:31:45.612188",
     "exception": false,
     "start_time": "2022-07-22T20:31:45.588192",
     "status": "completed"
    },
    "tags": []
   },
   "outputs": [],
   "source": [
    "# sanityChecks.discProbVsError(train_data,disc,device)\n",
    "# sanityChecks.discProbVsError(test_data,disc,device)"
   ]
  },
  {
   "cell_type": "markdown",
   "id": "ccf65034",
   "metadata": {
    "papermill": {
     "duration": 0.011604,
     "end_time": "2022-07-22T20:31:45.641632",
     "exception": false,
     "start_time": "2022-07-22T20:31:45.630028",
     "status": "completed"
    },
    "tags": []
   },
   "source": [
    "# mGAN Model with TabNet Generator"
   ]
  },
  {
   "cell_type": "code",
   "execution_count": 15,
   "id": "fd3040a7",
   "metadata": {
    "execution": {
     "iopub.execute_input": "2022-07-22T20:31:45.678787Z",
     "iopub.status.busy": "2022-07-22T20:31:45.678035Z",
     "iopub.status.idle": "2022-07-22T20:31:45.699651Z",
     "shell.execute_reply": "2022-07-22T20:31:45.698010Z"
    },
    "papermill": {
     "duration": 0.049104,
     "end_time": "2022-07-22T20:31:45.702960",
     "exception": false,
     "start_time": "2022-07-22T20:31:45.653856",
     "status": "completed"
    },
    "tags": []
   },
   "outputs": [],
   "source": [
    "gen2 = network.GeneratorTabnet(n_features+1).to(device)\n",
    "disc2 = network.Discriminator(n_features+1).to(device)\n",
    "\n",
    "criterion = torch.nn.BCELoss()\n",
    "gen_opt = torch.optim.Adam(gen2.parameters(), lr=0.01, betas=(0.5, 0.999))\n",
    "disc_opt = torch.optim.Adam(disc2.parameters(), lr=0.01, betas=(0.5, 0.999))"
   ]
  },
  {
   "cell_type": "code",
   "execution_count": 16,
   "id": "82fbd0b9",
   "metadata": {
    "execution": {
     "iopub.execute_input": "2022-07-22T20:31:45.729139Z",
     "iopub.status.busy": "2022-07-22T20:31:45.728787Z",
     "iopub.status.idle": "2022-07-22T20:42:58.854272Z",
     "shell.execute_reply": "2022-07-22T20:42:58.852189Z"
    },
    "papermill": {
     "duration": 673.14537,
     "end_time": "2022-07-22T20:42:58.859904",
     "exception": false,
     "start_time": "2022-07-22T20:31:45.714534",
     "status": "completed"
    },
    "tags": []
   },
   "outputs": [
    {
     "data": {
      "image/png": "[encoded data removed]",
      "text/plain": [
       "<Figure size 432x288 with 1 Axes>"
      ]
     },
     "metadata": {
      "needs_background": "light"
     },
     "output_type": "display_data"
    },
    {
     "data": {
      "image/png": "[encoded data removed]",
      "text/plain": [
       "<Figure size 432x288 with 1 Axes>"
      ]
     },
     "metadata": {
      "needs_background": "light"
     },
     "output_type": "display_data"
    }
   ],
   "source": [
    "#Training the ABC_GAN \n",
    "ABC_train_test2.training_GAN(disc2,gen2,disc_opt,gen_opt,train_data,batch_size,n_epochs,criterion,prior_model,variance,bias,device)"
   ]
  },
  {
   "cell_type": "code",
   "execution_count": 17,
   "id": "8b097445",
   "metadata": {
    "execution": {
     "iopub.execute_input": "2022-07-22T20:42:58.931448Z",
     "iopub.status.busy": "2022-07-22T20:42:58.930060Z",
     "iopub.status.idle": "2022-07-22T20:43:01.589833Z",
     "shell.execute_reply": "2022-07-22T20:43:01.588949Z"
    },
    "papermill": {
     "duration": 2.717935,
     "end_time": "2022-07-22T20:43:01.592508",
     "exception": false,
     "start_time": "2022-07-22T20:42:58.874573",
     "status": "completed"
    },
    "tags": []
   },
   "outputs": [
    {
     "data": {
      "application/scrapbook.scrap.json+json": {
       "data": 0.19381891161715367,
       "encoder": "json",
       "name": "ABC-GAN Model 1 MSE",
       "version": 1
      }
     },
     "metadata": {
      "scrapbook": {
       "data": true,
       "display": false,
       "name": "ABC-GAN Model 1 MSE"
      }
     },
     "output_type": "display_data"
    },
    {
     "data": {
      "application/scrapbook.scrap.json+json": {
       "data": 0.2525680473761852,
       "encoder": "json",
       "name": "ABC-GAN Model 1 MAE",
       "version": 1
      }
     },
     "metadata": {
      "scrapbook": {
       "data": true,
       "display": false,
       "name": "ABC-GAN Model 1 MAE"
      }
     },
     "output_type": "display_data"
    },
    {
     "data": {
      "application/scrapbook.scrap.json+json": {
       "data": 25.761940832370893,
       "encoder": "json",
       "name": "ABC-GAN Model 1 Manhattan Distance",
       "version": 1
      }
     },
     "metadata": {
      "scrapbook": {
       "data": true,
       "display": false,
       "name": "ABC-GAN Model 1 Manhattan Distance"
      }
     },
     "output_type": "display_data"
    },
    {
     "data": {
      "application/scrapbook.scrap.json+json": {
       "data": 4.446290052872767,
       "encoder": "json",
       "name": "ABC-GAN Model 1 Euclidean distance",
       "version": 1
      }
     },
     "metadata": {
      "scrapbook": {
       "data": true,
       "display": false,
       "name": "ABC-GAN Model 1 Euclidean distance"
      }
     },
     "output_type": "display_data"
    },
    {
     "data": {
      "application/scrapbook.scrap.json+json": {
       "data": [
        [
         0.19391302532281643,
         0.19368836550197158,
         0.1941864961902671,
         0.19364886413020332,
         0.19366667045733332,
         0.19365328569966944,
         0.19362319677934794,
         0.19361207216030207,
         0.19349145918620125,
         0.19334207687515914,
         0.19294802690735632,
         0.19403412531568603,
         0.1937225391932611,
         0.1930866760773732,
         0.1937904764517452,
         0.19361390216576485,
         0.19401776944411694,
         0.19314281895092544,
         0.1930226813304676,
         0.1936752836368064,
         0.1937679697129222,
         0.19356374683522873,
         0.19393590934202257,
         0.19469202209428788,
         0.19399539105985028,
         0.1938636154380272,
         0.1942827362897445,
         0.1936455521987233,
         0.19348611884656955,
         0.1940008826493132,
         0.1940899978895531,
         0.1934190815636094,
         0.19385851253552716,
         0.19386175280864393,
         0.1950740365404312,
         0.19398823282274283,
         0.19269901657002914,
         0.1938578021271943,
         0.19321817804393646,
         0.19449524130337179,
         0.1932853187162029,
         0.19365834731713716,
         0.19432414655015676,
         0.19389407479614248,
         0.19399442128315797,
         0.19386434903396868,
         0.19362516546528186,
         0.19333936657406384,
         0.19413010662300198,
         0.19503325863771687,
         0.19394144914833164,
         0.19410191596195367,
         0.1944807533177672,
         0.19436817227914177,
         0.19500310459743075,
         0.19364889206420086,
         0.19488263872491246,
         0.19304153485687733,
         0.19459276436391165,
         0.1936508459072202,
         0.19380169698873903,
         0.1927839107160982,
         0.1944691647334524,
         0.19344222218135043,
         0.19463163316906787,
         0.1934972425664064,
         0.19330530327608864,
         0.1942680102167764,
         0.19412630359330998,
         0.19432893767459325,
         0.19409576582783203,
         0.19307756796117204,
         0.1941739043630323,
         0.19383593675650226,
         0.19349885960590926,
         0.1936580330616075,
         0.19448848086135365,
         0.19424383412946805,
         0.19463725121811037,
         0.1935769358115652,
         0.19396434782181926,
         0.19465821248485035,
         0.1939325561018377,
         0.19428827456202058,
         0.19340386927386724,
         0.19356932376288816,
         0.19368389262366134,
         0.1944993286679402,
         0.19356468425458304,
         0.19273905875492545,
         0.1938882984410257,
         0.1936452712257004,
         0.19380638067100805,
         0.19373947559601973,
         0.19338211152681994,
         0.1932340885588869,
         0.19346444598236354,
         0.19318493153773858,
         0.19295762674911743,
         0.1938077537387775
        ],
        [
         0.2528843687317681,
         0.2512403267307901,
         0.2532716334121777,
         0.2537496624989252,
         0.25422313427735194,
         0.25208172373765825,
         0.25288043355605766,
         0.25252747942930925,
         0.25137116610273424,
         0.25037123982374576,
         0.2509955137456749,
         0.2529004238564156,
         0.25177035695307104,
         0.25188299879322157,
         0.25455570952309403,
         0.2506682300282752,
         0.25235857825507135,
         0.2519624937307455,
         0.25157711450375764,
         0.25268340812009926,
         0.2525461360483485,
         0.25426572537524444,
         0.2526127252654702,
         0.25337873890484663,
         0.25191562242038984,
         0.2531085094875273,
         0.25388076170986773,
         0.2517704418586457,
         0.2518338625154951,
         0.2544194362765434,
         0.2533815956820606,
         0.25126235541321484,
         0.2525118330913578,
         0.25283190233669445,
         0.253929203540525,
         0.2510478683181253,
         0.25016995661837216,
         0.25363815910018545,
         0.25199227451401596,
         0.2544150989064399,
         0.2523161052707948,
         0.2522975139721644,
         0.25374533028761836,
         0.2520602916860405,
         0.2538252793179423,
         0.2533382774586333,
         0.2535974778527138,
         0.25232994879650716,
         0.25297539702196625,
         0.2547416655785021,
         0.2522441758956833,
         0.2542207269728476,
         0.25261176282576486,
         0.2527639325708151,
         0.25393019165551545,
         0.252747236230575,
         0.2529034138675414,
         0.2524660598559707,
         0.253467189394595,
         0.25175654983111456,
         0.2511084773212525,
         0.25244475530423954,
         0.25318784568020525,
         0.2510786593763852,
         0.25350178830216036,
         0.25075632326451003,
         0.25185621472294717,
         0.25253429986974774,
         0.25231150717602346,
         0.2533723583956267,
         0.2524932363417511,
         0.25230262952619326,
         0.2534034251984136,
         0.2516933482907274,
         0.25232057439565075,
         0.2516415077626851,
         0.25213544172983543,
         0.25257376201596915,
         0.2539328569728954,
         0.2519722353192229,
         0.2533117352126568,
         0.2531009817988995,
         0.2528919872882612,
         0.2519830167658773,
         0.25228673278116714,
         0.2536013964563608,
         0.2522820850797728,
         0.25281632341919286,
         0.25274730667325795,
         0.25117209057013196,
         0.2526646093191469,
         0.25221975690082593,
         0.25282846067977305,
         0.2530393611237991,
         0.2513117337891576,
         0.25208700808020784,
         0.2524145103297105,
         0.2508253970676485,
         0.25216875996842397,
         0.2532235078111875
        ],
        [
         25.794205610640347,
         25.62651332654059,
         25.83370660804212,
         25.882465574890375,
         25.930759696289897,
         25.71233582124114,
         25.79380422271788,
         25.757802901789546,
         25.639858942478895,
         25.537866462022066,
         25.60154240205884,
         25.79584323335439,
         25.680576409213245,
         25.6920658769086,
         25.964682371355593,
         25.56815946288407,
         25.74057498201728,
         25.70017436053604,
         25.660865679383278,
         25.773707628250122,
         25.759705876931548,
         25.935103988274932,
         25.76649797707796,
         25.84463136829436,
         25.695393486879766,
         25.81706796772778,
         25.89583769440651,
         25.680585069581866,
         25.6870539765805,
         25.950782500207424,
         25.84492275957018,
         25.628760252147913,
         25.75620697531849,
         25.788854038342834,
         25.90077876113355,
         25.606882568448782,
         25.517335575073957,
         25.871092228218913,
         25.70321200042963,
         25.95034008845687,
         25.73624273762107,
         25.734346425160766,
         25.882023689337075,
         25.710149751976132,
         25.890178490430117,
         25.840504300780594,
         25.86694274097681,
         25.737654777243733,
         25.803490496240556,
         25.98364988900721,
         25.7289059413597,
         25.930514151230454,
         25.766399808228016,
         25.78192112222314,
         25.900879548862576,
         25.78021809551865,
         25.79614821448922,
         25.75153810530901,
         25.85365331824869,
         25.679168082773685,
         25.613064686767757,
         25.749365041032434,
         25.825160259380937,
         25.610023256391287,
         25.857182406820357,
         25.577144972980022,
         25.68933390174061,
         25.758498586714268,
         25.735773731954396,
         25.843980556353927,
         25.75431010685861,
         25.73486821167171,
         25.847149370238185,
         25.672721525654197,
         25.736698588356376,
         25.667433791793883,
         25.717815056443214,
         25.762523725628853,
         25.901151411235332,
         25.701168002560735,
         25.837796991690993,
         25.81630014348775,
         25.79498270340264,
         25.702267710119486,
         25.733246743679047,
         25.867342438548803,
         25.732772678136826,
         25.78726498875767,
         25.780225280672312,
         25.619553238153458,
         25.771790150552988,
         25.726415203884244,
         25.78850298933685,
         25.81001483462751,
         25.63379684649408,
         25.7128748241812,
         25.74628005363047,
         25.58419050090015,
         25.721213516779244,
         25.828797796741128
        ],
        [
         4.4473732228054885,
         4.444796202437306,
         4.4505081295743345,
         4.4443429369571295,
         4.444547264530776,
         4.444393675335959,
         4.444048387618376,
         4.443920719404297,
         4.442536306772576,
         4.44082107737592,
         4.436293356457657,
         4.4487617133535,
         4.4451882972167365,
         4.43788699269056,
         4.445967678478782,
         4.443941721142168,
         4.448574207912004,
         4.438532137204189,
         4.437151506958906,
         4.444646097379886,
         4.445709494638405,
         4.443366086335147,
         4.447635636255098,
         4.456297370420577,
         4.448317646943024,
         4.446806581658209,
         4.451610843453629,
         4.444304931512887,
         4.4424749996314095,
         4.44838060761778,
         4.4494021828482095,
         4.441705339111111,
         4.446748056571651,
         4.446785219288388,
         4.460667184079527,
         4.44823557693607,
         4.433429788565843,
         4.446739908851631,
         4.439397950227205,
         4.454044747523751,
         4.440169198246018,
         4.444451757680354,
         4.452085235944612,
         4.447155903406865,
         4.448306528431028,
         4.446814995192043,
         4.444070980245336,
         4.440789951185994,
         4.449861893985721,
         4.4602009350529395,
         4.447699159467715,
         4.449538788247526,
         4.453878853136023,
         4.4525895355930185,
         4.4598561264841186,
         4.444343257507063,
         4.4584783446755765,
         4.4373682014682405,
         4.455161272627399,
         4.4443656783096115,
         4.446096388164721,
         4.434406261614064,
         4.453746153836357,
         4.44197103350503,
         4.455606197056122,
         4.442602699068807,
         4.440398735942645,
         4.451442130603429,
         4.44981830713543,
         4.4521401194042065,
         4.449468295699933,
         4.437782321389766,
         4.450363832882577,
         4.4464891261717066,
         4.442621262250784,
         4.4444481516026215,
         4.453967337987344,
         4.451165137489929,
         4.455670502208085,
         4.4435174639894965,
         4.447961721713167,
         4.455910420268201,
         4.447597185266155,
         4.451674292367547,
         4.441530667003714,
         4.44343009664995,
         4.444744879924319,
         4.454091548692045,
         4.443376845819794,
         4.433890390278315,
         4.447089659652098,
         4.444301707245069,
         4.446150113125153,
         4.445382605670068,
         4.441280826038321,
         4.439580727164048,
         4.4422261862945565,
         4.4390159964624285,
         4.436403715669932,
         4.4461658630054846
        ]
       ],
       "encoder": "json",
       "name": "ABC_GAN_2 Metrics",
       "version": 1
      }
     },
     "metadata": {
      "scrapbook": {
       "data": true,
       "display": false,
       "name": "ABC_GAN_2 Metrics"
      }
     },
     "output_type": "display_data"
    },
    {
     "name": "stdout",
     "output_type": "stream",
     "text": [
      "MAE\n",
      "0.2525680473761852\n"
     ]
    }
   ],
   "source": [
    "ABC_GAN2_metrics=ABC_train_test2.test_generator(gen2,test_data,prior_model,variance,bias,\"1\",device)\n",
    "sb.glue(\"ABC_GAN_2 Metrics\",ABC_GAN2_metrics)\n",
    "\n",
    "print(\"MAE\")\n",
    "print(mean(ABC_GAN2_metrics[1]))"
   ]
  },
  {
   "cell_type": "code",
   "execution_count": 18,
   "id": "c5a56f06",
   "metadata": {
    "execution": {
     "iopub.execute_input": "2022-07-22T20:43:01.684681Z",
     "iopub.status.busy": "2022-07-22T20:43:01.683455Z",
     "iopub.status.idle": "2022-07-22T20:43:02.824540Z",
     "shell.execute_reply": "2022-07-22T20:43:02.823517Z"
    },
    "papermill": {
     "duration": 1.22019,
     "end_time": "2022-07-22T20:43:02.827502",
     "exception": false,
     "start_time": "2022-07-22T20:43:01.607312",
     "status": "completed"
    },
    "tags": []
   },
   "outputs": [
    {
     "data": {
      "image/png": "[encoded data removed]",
      "text/plain": [
       "<Figure size 432x288 with 1 Axes>"
      ]
     },
     "metadata": {
      "needs_background": "light"
     },
     "output_type": "display_data"
    },
    {
     "data": {
      "image/png": "[encoded data removed]",
      "text/plain": [
       "<Figure size 432x288 with 1 Axes>"
      ]
     },
     "metadata": {
      "needs_background": "light"
     },
     "output_type": "display_data"
    },
    {
     "data": {
      "image/png": "[encoded data removed]",
      "text/plain": [
       "<Figure size 432x288 with 1 Axes>"
      ]
     },
     "metadata": {
      "needs_background": "light"
     },
     "output_type": "display_data"
    },
    {
     "data": {
      "image/png": "[encoded data removed]",
      "text/plain": [
       "<Figure size 432x288 with 1 Axes>"
      ]
     },
     "metadata": {
      "needs_background": "light"
     },
     "output_type": "display_data"
    }
   ],
   "source": [
    "sanityChecks.discProbVsError(train_data,disc2,device)\n",
    "sanityChecks.discProbVsError(test_data,disc2,device)"
   ]
  },
  {
   "cell_type": "markdown",
   "id": "130f3a4d",
   "metadata": {
    "id": "130f3a4d",
    "papermill": {
     "duration": 0.018093,
     "end_time": "2022-07-22T20:43:02.864258",
     "exception": false,
     "start_time": "2022-07-22T20:43:02.846165",
     "status": "completed"
    },
    "tags": []
   },
   "source": [
    "# skipGAN Model"
   ]
  },
  {
   "cell_type": "code",
   "execution_count": 19,
   "id": "4e43dad1",
   "metadata": {
    "execution": {
     "iopub.execute_input": "2022-07-22T20:43:02.913464Z",
     "iopub.status.busy": "2022-07-22T20:43:02.912795Z",
     "iopub.status.idle": "2022-07-22T20:43:02.926221Z",
     "shell.execute_reply": "2022-07-22T20:43:02.925361Z"
    },
    "id": "4e43dad1",
    "papermill": {
     "duration": 0.046689,
     "end_time": "2022-07-22T20:43:02.929494",
     "exception": false,
     "start_time": "2022-07-22T20:43:02.882805",
     "status": "completed"
    },
    "tags": []
   },
   "outputs": [],
   "source": [
    "# #Generator\n",
    "# gen3 = network.GeneratorWithSkipConnection(n_features+1).to(device)\n",
    "# constraints=network.weightConstraint()\n",
    "# #Discriminator \n",
    "# disc3 = network.Discriminator(n_features+1).to(device)\n",
    "\n",
    "# criterion = torch.nn.BCELoss()\n",
    "# gen_opt = torch.optim.Adam(gen3.parameters(), lr=0.01, betas=(0.5, 0.999))\n",
    "# disc_opt = torch.optim.Adam(disc3.parameters(), lr=0.01, betas=(0.5, 0.999))\n"
   ]
  },
  {
   "cell_type": "markdown",
   "id": "c4229a34",
   "metadata": {
    "tags": [
     "papermill-error-cell-tag"
    ]
   },
   "source": [
    "<span id=\"papermill-error-cell\" style=\"color:red; font-family:Helvetica Neue, Helvetica, Arial, sans-serif; font-size:2em;\">Execution using papermill encountered an exception here and stopped:</span>"
   ]
  },
  {
   "cell_type": "code",
   "execution_count": 20,
   "id": "26acbc37",
   "metadata": {
    "execution": {
     "iopub.execute_input": "2022-07-22T20:43:02.971142Z",
     "iopub.status.busy": "2022-07-22T20:43:02.970823Z",
     "iopub.status.idle": "2022-07-22T20:43:04.780396Z",
     "shell.execute_reply": "2022-07-22T20:43:04.775058Z"
    },
    "id": "26acbc37",
    "papermill": {
     "duration": 1.849374,
     "end_time": "2022-07-22T20:43:04.797518",
     "exception": true,
     "start_time": "2022-07-22T20:43:02.948144",
     "status": "failed"
    },
    "tags": []
   },
   "outputs": [
    {
     "ename": "NameError",
     "evalue": "name 'disc3' is not defined",
     "output_type": "error",
     "traceback": [
      "\u001b[0;31m---------------------------------------------------------------------------\u001b[0m",
      "\u001b[0;31mNameError\u001b[0m                                 Traceback (most recent call last)",
      "Input \u001b[0;32mIn [20]\u001b[0m, in \u001b[0;36m<cell line: 1>\u001b[0;34m()\u001b[0m\n\u001b[0;32m----> 1\u001b[0m ABC_train_test2\u001b[38;5;241m.\u001b[39mtraining_GAN_skip_connection(\u001b[43mdisc3\u001b[49m,gen3,disc_opt,gen_opt,train_data,batch_size,n_epochs,criterion,prior_model,variance,bias,device)\n",
      "\u001b[0;31mNameError\u001b[0m: name 'disc3' is not defined"
     ]
    }
   ],
   "source": [
    "ABC_train_test2.training_GAN_skip_connection(disc3,gen3,disc_opt,gen_opt,train_data,batch_size,n_epochs,criterion,prior_model,variance,bias,device)"
   ]
  },
  {
   "cell_type": "code",
   "execution_count": null,
   "id": "c5e0717b",
   "metadata": {
    "id": "c5e0717b",
    "papermill": {
     "duration": null,
     "end_time": null,
     "exception": null,
     "start_time": null,
     "status": "pending"
    },
    "tags": []
   },
   "outputs": [],
   "source": [
    "# ABC_GAN3_metrics=ABC_train_test2.test_generator(gen3,test_data,prior_model,variance,bias,\"3\",device)\n",
    "# sb.glue(\"ABC_GAN_3 Metrics\",ABC_GAN3_metrics)\n",
    "\n",
    "# print(\"MAE\")\n",
    "# print(mean(ABC_GAN3_metrics[1]))"
   ]
  },
  {
   "cell_type": "code",
   "execution_count": null,
   "id": "c8e46b48",
   "metadata": {
    "id": "c8e46b48",
    "papermill": {
     "duration": null,
     "end_time": null,
     "exception": null,
     "start_time": null,
     "status": "pending"
    },
    "tags": []
   },
   "outputs": [],
   "source": [
    "# sanityChecks.discProbVsError(train_data,disc3,device)\n",
    "# sanityChecks.discProbVsError(test_data,disc3,device)"
   ]
  },
  {
   "cell_type": "markdown",
   "id": "9c062f1f",
   "metadata": {
    "id": "130f3a4d",
    "papermill": {
     "duration": null,
     "end_time": null,
     "exception": null,
     "start_time": null,
     "status": "pending"
    },
    "tags": []
   },
   "source": [
    "# skipGAN Model with TabNet Generator"
   ]
  },
  {
   "cell_type": "code",
   "execution_count": null,
   "id": "6c7b4576",
   "metadata": {
    "id": "4e43dad1",
    "papermill": {
     "duration": null,
     "end_time": null,
     "exception": null,
     "start_time": null,
     "status": "pending"
    },
    "tags": []
   },
   "outputs": [],
   "source": [
    "# #Generator\n",
    "# gen4 = network.GeneratorTabnetskipConnection(n_features+1).to(device)\n",
    "# constraints=network.weightConstraint()\n",
    "# #Discriminator \n",
    "# disc4 = network.Discriminator(n_features+1).to(device)\n",
    "\n",
    "# criterion = torch.nn.BCELoss()\n",
    "# gen_opt = torch.optim.Adam(gen4.parameters(), lr=0.01, betas=(0.5, 0.999))\n",
    "# disc_opt = torch.optim.Adam(disc4.parameters(), lr=0.01, betas=(0.5, 0.999))\n"
   ]
  },
  {
   "cell_type": "code",
   "execution_count": null,
   "id": "3363c944",
   "metadata": {
    "id": "26acbc37",
    "papermill": {
     "duration": null,
     "end_time": null,
     "exception": null,
     "start_time": null,
     "status": "pending"
    },
    "tags": []
   },
   "outputs": [],
   "source": [
    "# ABC_train_test2.training_GAN_skip_connection(disc4,gen4,disc_opt,gen_opt,train_data,batch_size,n_epochs,criterion,prior_model,variance,bias,device)"
   ]
  },
  {
   "cell_type": "code",
   "execution_count": null,
   "id": "bf04ace8",
   "metadata": {
    "id": "c5e0717b",
    "papermill": {
     "duration": null,
     "end_time": null,
     "exception": null,
     "start_time": null,
     "status": "pending"
    },
    "tags": []
   },
   "outputs": [],
   "source": [
    "# ABC_GAN4_metrics=ABC_train_test2.test_generator(gen4,test_data,prior_model,variance,bias,\"3\",device)\n",
    "# sb.glue(\"ABC_GAN_4 Metrics\",ABC_GAN4_metrics)\n",
    "\n",
    "# print(\"MAE\")\n",
    "# print(mean(ABC_GAN4_metrics[1]))"
   ]
  },
  {
   "cell_type": "code",
   "execution_count": null,
   "id": "e30a575d",
   "metadata": {
    "id": "c8e46b48",
    "papermill": {
     "duration": null,
     "end_time": null,
     "exception": null,
     "start_time": null,
     "status": "pending"
    },
    "tags": []
   },
   "outputs": [],
   "source": [
    "# sanityChecks.discProbVsError(train_data,disc4,device)\n",
    "# sanityChecks.discProbVsError(test_data,disc4,device)"
   ]
  },
  {
   "cell_type": "markdown",
   "id": "a5bd74c3",
   "metadata": {
    "id": "a5bd74c3",
    "papermill": {
     "duration": null,
     "end_time": null,
     "exception": null,
     "start_time": null,
     "status": "pending"
    },
    "tags": []
   },
   "source": [
    "## Skip Connection Model Analysis - ABC-GAN "
   ]
  },
  {
   "cell_type": "markdown",
   "id": "5744a8bf",
   "metadata": {
    "id": "5744a8bf",
    "papermill": {
     "duration": null,
     "end_time": null,
     "exception": null,
     "start_time": null,
     "status": "pending"
    },
    "tags": []
   },
   "source": [
    "### Weight Analysis \n",
    "\n",
    "Study the weights of the skip connection layer\n",
    "\n",
    "Equation of the skip connection is \n",
    "\n",
    "$output = y_{gan} * w + y_{abc} * (1-w)$"
   ]
  },
  {
   "cell_type": "code",
   "execution_count": null,
   "id": "52c31dea",
   "metadata": {
    "id": "52c31dea",
    "papermill": {
     "duration": null,
     "end_time": null,
     "exception": null,
     "start_time": null,
     "status": "pending"
    },
    "tags": []
   },
   "outputs": [],
   "source": [
    "# print(\"Weight of the node at skip connection\")\n",
    "# for name,param in gen3.named_parameters():\n",
    "#     if(name == \"skipNode.weight\"):\n",
    "#         print(param)\n",
    "#         sb.glue(\"Skip Connection Weight\",param.item())"
   ]
  },
  {
   "cell_type": "markdown",
   "id": "bde0e2ea",
   "metadata": {
    "id": "a5bd74c3",
    "papermill": {
     "duration": null,
     "end_time": null,
     "exception": null,
     "start_time": null,
     "status": "pending"
    },
    "tags": []
   },
   "source": [
    "## skipGAN Model Analysis (TabNet Generator) "
   ]
  },
  {
   "cell_type": "markdown",
   "id": "5edd2a8c",
   "metadata": {
    "id": "5744a8bf",
    "papermill": {
     "duration": null,
     "end_time": null,
     "exception": null,
     "start_time": null,
     "status": "pending"
    },
    "tags": []
   },
   "source": [
    "### Weight Analysis \n",
    "\n",
    "Study the weights of the skip connection layer\n",
    "\n",
    "Equation of the skip connection is \n",
    "\n",
    "$output = y_{gan} * w + y_{abc} * (1-w)$"
   ]
  },
  {
   "cell_type": "code",
   "execution_count": null,
   "id": "6b65cbda",
   "metadata": {
    "id": "52c31dea",
    "papermill": {
     "duration": null,
     "end_time": null,
     "exception": null,
     "start_time": null,
     "status": "pending"
    },
    "tags": []
   },
   "outputs": [],
   "source": [
    "# print(\"Weight of the node at skip connection\")\n",
    "# for name,param in gen4.named_parameters():\n",
    "#     if(name == \"skipNode.weight\"):\n",
    "#         print(param)\n",
    "#         sb.glue(\"Skip Connection Weight\",param.item())"
   ]
  }
 ],
 "metadata": {
  "colab": {
   "collapsed_sections": [],
   "name": "ABC_GAN_Model-Catboost_Pre-gen.ipynb",
   "provenance": []
  },
  "interpreter": {
   "hash": "31f2aee4e71d21fbe5cf8b01ff0e069b9275f58929596ceb00d14d90e3e16cd6"
  },
  "kernelspec": {
   "display_name": "Python 3 (ipykernel)",
   "language": "python",
   "name": "python3"
  },
  "language_info": {
   "codemirror_mode": {
    "name": "ipython",
    "version": 3
   },
   "file_extension": ".py",
   "mimetype": "text/x-python",
   "name": "python",
   "nbconvert_exporter": "python",
   "pygments_lexer": "ipython3",
   "version": "3.8.13"
  },
  "papermill": {
   "default_parameters": {},
   "duration": 696.699617,
   "end_time": "2022-07-22T20:43:06.571011",
   "environment_variables": {},
   "exception": true,
   "input_path": "ABC_GAN-Catboost.ipynb",
   "output_path": "./ABC_GAN_Catboost/ABC-GAN_output_2_3.ipynb",
   "parameters": {
    "bias": 0.1,
    "variance": 1
   },
   "start_time": "2022-07-22T20:31:29.871394",
   "version": "2.3.3"
  }
 },
 "nbformat": 4,
 "nbformat_minor": 5
}