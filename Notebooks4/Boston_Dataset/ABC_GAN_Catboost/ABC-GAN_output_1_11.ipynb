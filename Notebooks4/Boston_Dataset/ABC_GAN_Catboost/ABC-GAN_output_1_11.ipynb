{
 "cells": [
  {
   "cell_type": "markdown",
   "id": "354feaf5",
   "metadata": {
    "tags": [
     "papermill-error-cell-tag"
    ]
   },
   "source": [
    "<span style=\"color:red; font-family:Helvetica Neue, Helvetica, Arial, sans-serif; font-size:2em;\">An Exception was encountered at '<a href=\"#papermill-error-cell\">In [20]</a>'.</span>"
   ]
  },
  {
   "cell_type": "markdown",
   "id": "622780e6",
   "metadata": {
    "id": "622780e6",
    "papermill": {
     "duration": 0.010668,
     "end_time": "2022-07-22T19:47:37.486681",
     "exception": false,
     "start_time": "2022-07-22T19:47:37.476013",
     "status": "completed"
    },
    "tags": []
   },
   "source": [
    "## Import Libraries "
   ]
  },
  {
   "cell_type": "code",
   "execution_count": 1,
   "id": "a62397e3",
   "metadata": {
    "execution": {
     "iopub.execute_input": "2022-07-22T19:47:37.510795Z",
     "iopub.status.busy": "2022-07-22T19:47:37.510025Z",
     "iopub.status.idle": "2022-07-22T19:47:37.541697Z",
     "shell.execute_reply": "2022-07-22T19:47:37.532476Z"
    },
    "id": "a62397e3",
    "papermill": {
     "duration": 0.050528,
     "end_time": "2022-07-22T19:47:37.545333",
     "exception": false,
     "start_time": "2022-07-22T19:47:37.494805",
     "status": "completed"
    },
    "tags": []
   },
   "outputs": [],
   "source": [
    "import warnings\n",
    "import sys\n",
    "sys.path.insert(0, '../../src')\n",
    "warnings.filterwarnings('ignore')"
   ]
  },
  {
   "cell_type": "code",
   "execution_count": 2,
   "id": "d6a4e155",
   "metadata": {
    "execution": {
     "iopub.execute_input": "2022-07-22T19:47:37.571039Z",
     "iopub.status.busy": "2022-07-22T19:47:37.570326Z",
     "iopub.status.idle": "2022-07-22T19:47:44.617471Z",
     "shell.execute_reply": "2022-07-22T19:47:44.616648Z"
    },
    "id": "d6a4e155",
    "papermill": {
     "duration": 7.06553,
     "end_time": "2022-07-22T19:47:44.620888",
     "exception": false,
     "start_time": "2022-07-22T19:47:37.555358",
     "status": "completed"
    },
    "tags": []
   },
   "outputs": [],
   "source": [
    "import ABC_train_test2\n",
    "import bostonDataset\n",
    "import network\n",
    "import dataset\n",
    "import sanityChecks\n",
    "import torch \n",
    "import scrapbook as sb\n",
    "from statistics import mean \n",
    "import catboost as ctb \n",
    "from sklearn.model_selection import train_test_split\n",
    "from sklearn.metrics import mean_squared_error,mean_absolute_error\n",
    "import numpy as np"
   ]
  },
  {
   "cell_type": "markdown",
   "id": "2fa5b0f7",
   "metadata": {
    "id": "2fa5b0f7",
    "papermill": {
     "duration": 0.008203,
     "end_time": "2022-07-22T19:47:44.637356",
     "exception": false,
     "start_time": "2022-07-22T19:47:44.629153",
     "status": "completed"
    },
    "tags": []
   },
   "source": [
    "## Parameters "
   ]
  },
  {
   "cell_type": "code",
   "execution_count": 3,
   "id": "783186fb",
   "metadata": {
    "execution": {
     "iopub.execute_input": "2022-07-22T19:47:44.657358Z",
     "iopub.status.busy": "2022-07-22T19:47:44.657019Z",
     "iopub.status.idle": "2022-07-22T19:47:44.663800Z",
     "shell.execute_reply": "2022-07-22T19:47:44.661410Z"
    },
    "id": "783186fb",
    "papermill": {
     "duration": 0.022243,
     "end_time": "2022-07-22T19:47:44.667501",
     "exception": false,
     "start_time": "2022-07-22T19:47:44.645258",
     "status": "completed"
    },
    "tags": [
     "parameters"
    ]
   },
   "outputs": [],
   "source": [
    "variance = 1\n",
    "bias = 1 "
   ]
  },
  {
   "cell_type": "code",
   "execution_count": 4,
   "id": "2a934e11",
   "metadata": {
    "execution": {
     "iopub.execute_input": "2022-07-22T19:47:44.685229Z",
     "iopub.status.busy": "2022-07-22T19:47:44.684775Z",
     "iopub.status.idle": "2022-07-22T19:47:44.690882Z",
     "shell.execute_reply": "2022-07-22T19:47:44.689033Z"
    },
    "papermill": {
     "duration": 0.019444,
     "end_time": "2022-07-22T19:47:44.694473",
     "exception": false,
     "start_time": "2022-07-22T19:47:44.675029",
     "status": "completed"
    },
    "tags": [
     "injected-parameters"
    ]
   },
   "outputs": [],
   "source": [
    "# Parameters\n",
    "variance = 0.01\n",
    "bias = 0\n"
   ]
  },
  {
   "cell_type": "markdown",
   "id": "391cdbfd",
   "metadata": {
    "id": "391cdbfd",
    "papermill": {
     "duration": 0.010797,
     "end_time": "2022-07-22T19:47:44.713510",
     "exception": false,
     "start_time": "2022-07-22T19:47:44.702713",
     "status": "completed"
    },
    "tags": []
   },
   "source": [
    "## Dataset \n"
   ]
  },
  {
   "cell_type": "code",
   "execution_count": 5,
   "id": "5b51f161",
   "metadata": {
    "execution": {
     "iopub.execute_input": "2022-07-22T19:47:44.734056Z",
     "iopub.status.busy": "2022-07-22T19:47:44.733734Z",
     "iopub.status.idle": "2022-07-22T19:47:44.737717Z",
     "shell.execute_reply": "2022-07-22T19:47:44.737006Z"
    },
    "id": "5b51f161",
    "papermill": {
     "duration": 0.020165,
     "end_time": "2022-07-22T19:47:44.744067",
     "exception": false,
     "start_time": "2022-07-22T19:47:44.723902",
     "status": "completed"
    },
    "tags": []
   },
   "outputs": [],
   "source": [
    "#Parameters \n",
    "n_features = 13\n",
    "n_samples= 506\n",
    "n_target = 1 "
   ]
  },
  {
   "cell_type": "code",
   "execution_count": 6,
   "id": "5d6eced4",
   "metadata": {
    "execution": {
     "iopub.execute_input": "2022-07-22T19:47:44.780048Z",
     "iopub.status.busy": "2022-07-22T19:47:44.779677Z",
     "iopub.status.idle": "2022-07-22T19:47:44.808718Z",
     "shell.execute_reply": "2022-07-22T19:47:44.808004Z"
    },
    "id": "5d6eced4",
    "papermill": {
     "duration": 0.06204,
     "end_time": "2022-07-22T19:47:44.815894",
     "exception": false,
     "start_time": "2022-07-22T19:47:44.753854",
     "status": "completed"
    },
    "tags": []
   },
   "outputs": [
    {
     "name": "stdout",
     "output_type": "stream",
     "text": [
      "         X1        X2        X3        X4        X5        X6        X7  \\\n",
      "0 -0.419782  0.284830 -1.287909 -0.272599 -0.144217  0.413672 -0.120013   \n",
      "1 -0.417339 -0.487722 -0.593381 -0.272599 -0.740262  0.194274  0.367166   \n",
      "2 -0.417342 -0.487722 -0.593381 -0.272599 -0.740262  1.282714 -0.265812   \n",
      "3 -0.416750 -0.487722 -1.306878 -0.272599 -0.835284  1.016303 -0.809889   \n",
      "4 -0.412482 -0.487722 -1.306878 -0.272599 -0.835284  1.228577 -0.511180   \n",
      "\n",
      "         X8        X9       X10       X11       X12       X13         Y  \n",
      "0  0.140214 -0.982843 -0.666608 -1.459000  0.441052 -1.075562  0.159686  \n",
      "1  0.557160 -0.867883 -0.987329 -0.303094  0.441052 -0.492439 -0.101524  \n",
      "2  0.557160 -0.867883 -0.987329 -0.303094  0.396427 -1.208727  1.324247  \n",
      "3  1.077737 -0.752922 -1.106115  0.113032  0.416163 -1.361517  1.182758  \n",
      "4  1.077737 -0.752922 -1.106115  0.113032  0.441052 -1.026501  1.487503  \n"
     ]
    }
   ],
   "source": [
    "X,Y = bostonDataset.boston_data()"
   ]
  },
  {
   "cell_type": "code",
   "execution_count": 7,
   "id": "fe007438",
   "metadata": {
    "execution": {
     "iopub.execute_input": "2022-07-22T19:47:44.834076Z",
     "iopub.status.busy": "2022-07-22T19:47:44.833218Z",
     "iopub.status.idle": "2022-07-22T19:47:44.839303Z",
     "shell.execute_reply": "2022-07-22T19:47:44.838287Z"
    },
    "id": "fe007438",
    "papermill": {
     "duration": 0.019505,
     "end_time": "2022-07-22T19:47:44.843008",
     "exception": false,
     "start_time": "2022-07-22T19:47:44.823503",
     "status": "completed"
    },
    "tags": []
   },
   "outputs": [],
   "source": [
    "#Train test split for dataset \n",
    "X_train,X_test,Y_train,Y_test = train_test_split(X,Y,test_size = 0.2)\n",
    "train_data = dataset.CustomDataset(X_train,Y_train)\n",
    "test_data = dataset.CustomDataset(X_test,Y_test)\n"
   ]
  },
  {
   "cell_type": "markdown",
   "id": "a9a1af34",
   "metadata": {
    "id": "a9a1af34",
    "papermill": {
     "duration": 0.007734,
     "end_time": "2022-07-22T19:47:44.858523",
     "exception": false,
     "start_time": "2022-07-22T19:47:44.850789",
     "status": "completed"
    },
    "tags": []
   },
   "source": [
    "## Training Parameters "
   ]
  },
  {
   "cell_type": "code",
   "execution_count": 8,
   "id": "952b7fc8",
   "metadata": {
    "execution": {
     "iopub.execute_input": "2022-07-22T19:47:44.886706Z",
     "iopub.status.busy": "2022-07-22T19:47:44.885842Z",
     "iopub.status.idle": "2022-07-22T19:47:44.891450Z",
     "shell.execute_reply": "2022-07-22T19:47:44.890150Z"
    },
    "id": "952b7fc8",
    "papermill": {
     "duration": 0.030971,
     "end_time": "2022-07-22T19:47:44.899256",
     "exception": false,
     "start_time": "2022-07-22T19:47:44.868285",
     "status": "completed"
    },
    "tags": []
   },
   "outputs": [],
   "source": [
    "batch_size = 32\n",
    "n_epochs = 1000\n",
    "#Select the device \n",
    "device = torch.device('cuda' if torch.cuda.is_available() else 'cpu')"
   ]
  },
  {
   "cell_type": "markdown",
   "id": "a95e1600",
   "metadata": {
    "id": "a95e1600",
    "papermill": {
     "duration": 0.010631,
     "end_time": "2022-07-22T19:47:44.917590",
     "exception": false,
     "start_time": "2022-07-22T19:47:44.906959",
     "status": "completed"
    },
    "tags": []
   },
   "source": [
    "# ABC Pre-generator Model \n",
    "\n",
    "1. The catboost model is used as a pre-generator model for the ABC-GAN. \n",
    "2. The model is first trained on the entire dataset \n",
    "3. It generats X,Y pairs and we add some Gaussian noise with mean 0 and variance 1 to it which is then feed as input to the generator.\n"
   ]
  },
  {
   "cell_type": "code",
   "execution_count": 9,
   "id": "ff8ce7bd",
   "metadata": {
    "execution": {
     "iopub.execute_input": "2022-07-22T19:47:44.936879Z",
     "iopub.status.busy": "2022-07-22T19:47:44.936525Z",
     "iopub.status.idle": "2022-07-22T19:47:49.131565Z",
     "shell.execute_reply": "2022-07-22T19:47:49.129794Z"
    },
    "id": "ff8ce7bd",
    "papermill": {
     "duration": 4.210475,
     "end_time": "2022-07-22T19:47:49.135836",
     "exception": false,
     "start_time": "2022-07-22T19:47:44.925361",
     "status": "completed"
    },
    "tags": []
   },
   "outputs": [
    {
     "name": "stdout",
     "output_type": "stream",
     "text": [
      "Learning rate set to 0.03548\n",
      "0:\tlearn: 1.0103609\ttotal: 53.2ms\tremaining: 53.1s\n"
     ]
    },
    {
     "name": "stdout",
     "output_type": "stream",
     "text": [
      "1:\tlearn: 0.9888580\ttotal: 56.5ms\tremaining: 28.2s\n",
      "2:\tlearn: 0.9684363\ttotal: 59.7ms\tremaining: 19.8s\n",
      "3:\tlearn: 0.9511133\ttotal: 62.6ms\tremaining: 15.6s\n",
      "4:\tlearn: 0.9311199\ttotal: 65ms\tremaining: 12.9s\n",
      "5:\tlearn: 0.9159794\ttotal: 67.7ms\tremaining: 11.2s\n",
      "6:\tlearn: 0.9001119\ttotal: 70.3ms\tremaining: 9.97s\n",
      "7:\tlearn: 0.8809454\ttotal: 72.2ms\tremaining: 8.95s\n",
      "8:\tlearn: 0.8641526\ttotal: 74.8ms\tremaining: 8.24s\n",
      "9:\tlearn: 0.8464170\ttotal: 77.2ms\tremaining: 7.65s\n",
      "10:\tlearn: 0.8319397\ttotal: 79ms\tremaining: 7.1s\n",
      "11:\tlearn: 0.8164432\ttotal: 81.4ms\tremaining: 6.7s\n",
      "12:\tlearn: 0.7997261\ttotal: 83.9ms\tremaining: 6.37s\n",
      "13:\tlearn: 0.7838529\ttotal: 86.2ms\tremaining: 6.07s\n",
      "14:\tlearn: 0.7711035\ttotal: 88.7ms\tremaining: 5.83s\n",
      "15:\tlearn: 0.7569989\ttotal: 90.7ms\tremaining: 5.58s\n",
      "16:\tlearn: 0.7433780\ttotal: 92.3ms\tremaining: 5.34s\n",
      "17:\tlearn: 0.7301051\ttotal: 94ms\tremaining: 5.13s\n",
      "18:\tlearn: 0.7169639\ttotal: 96.2ms\tremaining: 4.96s\n",
      "19:\tlearn: 0.7043438\ttotal: 97.8ms\tremaining: 4.79s\n",
      "20:\tlearn: 0.6944360\ttotal: 99.8ms\tremaining: 4.65s\n",
      "21:\tlearn: 0.6843616\ttotal: 101ms\tremaining: 4.51s\n",
      "22:\tlearn: 0.6722813\ttotal: 104ms\tremaining: 4.41s\n",
      "23:\tlearn: 0.6617742\ttotal: 106ms\tremaining: 4.33s\n",
      "24:\tlearn: 0.6508145\ttotal: 109ms\tremaining: 4.25s\n",
      "25:\tlearn: 0.6415803\ttotal: 111ms\tremaining: 4.17s\n",
      "26:\tlearn: 0.6322886\ttotal: 113ms\tremaining: 4.08s\n",
      "27:\tlearn: 0.6230137\ttotal: 115ms\tremaining: 3.98s\n",
      "28:\tlearn: 0.6131199\ttotal: 117ms\tremaining: 3.92s\n",
      "29:\tlearn: 0.6021187\ttotal: 120ms\tremaining: 3.87s\n",
      "30:\tlearn: 0.5905257\ttotal: 122ms\tremaining: 3.82s\n",
      "31:\tlearn: 0.5823716\ttotal: 125ms\tremaining: 3.77s\n",
      "32:\tlearn: 0.5752989\ttotal: 127ms\tremaining: 3.71s\n",
      "33:\tlearn: 0.5671845\ttotal: 128ms\tremaining: 3.65s\n",
      "34:\tlearn: 0.5591632\ttotal: 131ms\tremaining: 3.61s\n",
      "35:\tlearn: 0.5512770\ttotal: 133ms\tremaining: 3.56s\n",
      "36:\tlearn: 0.5437052\ttotal: 135ms\tremaining: 3.52s\n",
      "37:\tlearn: 0.5363470\ttotal: 137ms\tremaining: 3.47s\n",
      "38:\tlearn: 0.5287418\ttotal: 139ms\tremaining: 3.42s\n",
      "39:\tlearn: 0.5217411\ttotal: 141ms\tremaining: 3.39s\n",
      "40:\tlearn: 0.5147766\ttotal: 143ms\tremaining: 3.34s\n",
      "41:\tlearn: 0.5084721\ttotal: 145ms\tremaining: 3.32s\n",
      "42:\tlearn: 0.5035121\ttotal: 148ms\tremaining: 3.29s\n",
      "43:\tlearn: 0.4962910\ttotal: 150ms\tremaining: 3.26s\n",
      "44:\tlearn: 0.4901838\ttotal: 153ms\tremaining: 3.24s\n",
      "45:\tlearn: 0.4832420\ttotal: 155ms\tremaining: 3.22s\n",
      "46:\tlearn: 0.4761547\ttotal: 158ms\tremaining: 3.2s\n",
      "47:\tlearn: 0.4700357\ttotal: 160ms\tremaining: 3.18s\n",
      "48:\tlearn: 0.4638838\ttotal: 162ms\tremaining: 3.15s\n",
      "49:\tlearn: 0.4595062\ttotal: 164ms\tremaining: 3.11s\n",
      "50:\tlearn: 0.4538145\ttotal: 166ms\tremaining: 3.1s\n",
      "51:\tlearn: 0.4496120\ttotal: 169ms\tremaining: 3.08s\n",
      "52:\tlearn: 0.4437594\ttotal: 171ms\tremaining: 3.06s\n",
      "53:\tlearn: 0.4403548\ttotal: 173ms\tremaining: 3.03s\n",
      "54:\tlearn: 0.4356709\ttotal: 175ms\tremaining: 3.01s\n"
     ]
    },
    {
     "name": "stdout",
     "output_type": "stream",
     "text": [
      "55:\tlearn: 0.4321887\ttotal: 178ms\tremaining: 3s\n",
      "56:\tlearn: 0.4279246\ttotal: 181ms\tremaining: 2.99s\n",
      "57:\tlearn: 0.4239052\ttotal: 182ms\tremaining: 2.96s\n",
      "58:\tlearn: 0.4197030\ttotal: 184ms\tremaining: 2.94s\n",
      "59:\tlearn: 0.4150040\ttotal: 187ms\tremaining: 2.93s\n",
      "60:\tlearn: 0.4096785\ttotal: 189ms\tremaining: 2.91s\n",
      "61:\tlearn: 0.4051877\ttotal: 192ms\tremaining: 2.9s\n",
      "62:\tlearn: 0.4019013\ttotal: 195ms\tremaining: 2.89s\n",
      "63:\tlearn: 0.3974772\ttotal: 197ms\tremaining: 2.88s\n",
      "64:\tlearn: 0.3937447\ttotal: 200ms\tremaining: 2.87s\n",
      "65:\tlearn: 0.3897356\ttotal: 203ms\tremaining: 2.87s\n",
      "66:\tlearn: 0.3859691\ttotal: 205ms\tremaining: 2.86s\n",
      "67:\tlearn: 0.3819496\ttotal: 208ms\tremaining: 2.85s\n",
      "68:\tlearn: 0.3785088\ttotal: 210ms\tremaining: 2.84s\n",
      "69:\tlearn: 0.3762522\ttotal: 213ms\tremaining: 2.83s\n",
      "70:\tlearn: 0.3720241\ttotal: 215ms\tremaining: 2.81s\n"
     ]
    },
    {
     "name": "stdout",
     "output_type": "stream",
     "text": [
      "71:\tlearn: 0.3683210\ttotal: 219ms\tremaining: 2.82s\n",
      "72:\tlearn: 0.3654167\ttotal: 222ms\tremaining: 2.81s\n",
      "73:\tlearn: 0.3622999\ttotal: 225ms\tremaining: 2.81s\n",
      "74:\tlearn: 0.3592484\ttotal: 227ms\tremaining: 2.8s\n",
      "75:\tlearn: 0.3562460\ttotal: 230ms\tremaining: 2.79s\n",
      "76:\tlearn: 0.3528619\ttotal: 232ms\tremaining: 2.78s\n",
      "77:\tlearn: 0.3509205\ttotal: 234ms\tremaining: 2.77s\n",
      "78:\tlearn: 0.3487623\ttotal: 237ms\tremaining: 2.76s\n",
      "79:\tlearn: 0.3467846\ttotal: 239ms\tremaining: 2.75s\n",
      "80:\tlearn: 0.3443744\ttotal: 242ms\tremaining: 2.74s\n",
      "81:\tlearn: 0.3413944\ttotal: 244ms\tremaining: 2.73s\n",
      "82:\tlearn: 0.3394152\ttotal: 247ms\tremaining: 2.72s\n",
      "83:\tlearn: 0.3371704\ttotal: 249ms\tremaining: 2.72s\n",
      "84:\tlearn: 0.3344829\ttotal: 252ms\tremaining: 2.71s\n",
      "85:\tlearn: 0.3322738\ttotal: 256ms\tremaining: 2.72s\n",
      "86:\tlearn: 0.3301297\ttotal: 259ms\tremaining: 2.72s\n",
      "87:\tlearn: 0.3283627\ttotal: 262ms\tremaining: 2.71s\n",
      "88:\tlearn: 0.3261664\ttotal: 265ms\tremaining: 2.71s\n",
      "89:\tlearn: 0.3242552\ttotal: 267ms\tremaining: 2.7s\n",
      "90:\tlearn: 0.3220744\ttotal: 270ms\tremaining: 2.7s\n",
      "91:\tlearn: 0.3200526\ttotal: 281ms\tremaining: 2.77s\n",
      "92:\tlearn: 0.3188583\ttotal: 283ms\tremaining: 2.76s\n",
      "93:\tlearn: 0.3171659\ttotal: 285ms\tremaining: 2.75s\n",
      "94:\tlearn: 0.3153855\ttotal: 287ms\tremaining: 2.73s\n",
      "95:\tlearn: 0.3146777\ttotal: 289ms\tremaining: 2.72s\n",
      "96:\tlearn: 0.3135147\ttotal: 291ms\tremaining: 2.71s\n",
      "97:\tlearn: 0.3120254\ttotal: 293ms\tremaining: 2.7s\n",
      "98:\tlearn: 0.3108758\ttotal: 296ms\tremaining: 2.69s\n",
      "99:\tlearn: 0.3093751\ttotal: 298ms\tremaining: 2.68s\n",
      "100:\tlearn: 0.3074821\ttotal: 300ms\tremaining: 2.67s\n",
      "101:\tlearn: 0.3055949\ttotal: 303ms\tremaining: 2.67s\n",
      "102:\tlearn: 0.3041168\ttotal: 306ms\tremaining: 2.67s\n",
      "103:\tlearn: 0.3026693\ttotal: 311ms\tremaining: 2.68s\n",
      "104:\tlearn: 0.3015871\ttotal: 313ms\tremaining: 2.67s\n",
      "105:\tlearn: 0.3001833\ttotal: 318ms\tremaining: 2.68s\n",
      "106:\tlearn: 0.2983519\ttotal: 321ms\tremaining: 2.67s\n",
      "107:\tlearn: 0.2964314\ttotal: 323ms\tremaining: 2.67s\n",
      "108:\tlearn: 0.2946888\ttotal: 326ms\tremaining: 2.66s\n",
      "109:\tlearn: 0.2932049\ttotal: 328ms\tremaining: 2.65s\n",
      "110:\tlearn: 0.2923381\ttotal: 330ms\tremaining: 2.64s\n"
     ]
    },
    {
     "name": "stdout",
     "output_type": "stream",
     "text": [
      "111:\tlearn: 0.2911862\ttotal: 333ms\tremaining: 2.64s\n",
      "112:\tlearn: 0.2895545\ttotal: 336ms\tremaining: 2.64s\n",
      "113:\tlearn: 0.2885614\ttotal: 338ms\tremaining: 2.63s\n",
      "114:\tlearn: 0.2873901\ttotal: 342ms\tremaining: 2.63s\n",
      "115:\tlearn: 0.2863435\ttotal: 346ms\tremaining: 2.63s\n",
      "116:\tlearn: 0.2850690\ttotal: 351ms\tremaining: 2.65s\n",
      "117:\tlearn: 0.2834334\ttotal: 362ms\tremaining: 2.71s\n",
      "118:\tlearn: 0.2826308\ttotal: 365ms\tremaining: 2.7s\n",
      "119:\tlearn: 0.2817054\ttotal: 367ms\tremaining: 2.69s\n",
      "120:\tlearn: 0.2804332\ttotal: 370ms\tremaining: 2.69s\n",
      "121:\tlearn: 0.2794950\ttotal: 372ms\tremaining: 2.68s\n",
      "122:\tlearn: 0.2782714\ttotal: 375ms\tremaining: 2.67s\n",
      "123:\tlearn: 0.2769923\ttotal: 377ms\tremaining: 2.66s\n",
      "124:\tlearn: 0.2758216\ttotal: 379ms\tremaining: 2.65s\n",
      "125:\tlearn: 0.2745744\ttotal: 382ms\tremaining: 2.65s\n",
      "126:\tlearn: 0.2732819\ttotal: 384ms\tremaining: 2.64s\n"
     ]
    },
    {
     "name": "stdout",
     "output_type": "stream",
     "text": [
      "127:\tlearn: 0.2723598\ttotal: 394ms\tremaining: 2.69s\n",
      "128:\tlearn: 0.2710913\ttotal: 399ms\tremaining: 2.7s\n",
      "129:\tlearn: 0.2698885\ttotal: 403ms\tremaining: 2.69s\n",
      "130:\tlearn: 0.2688640\ttotal: 406ms\tremaining: 2.69s\n",
      "131:\tlearn: 0.2681478\ttotal: 408ms\tremaining: 2.68s\n",
      "132:\tlearn: 0.2672413\ttotal: 411ms\tremaining: 2.68s\n",
      "133:\tlearn: 0.2662575\ttotal: 413ms\tremaining: 2.67s\n",
      "134:\tlearn: 0.2652584\ttotal: 416ms\tremaining: 2.66s\n",
      "135:\tlearn: 0.2643168\ttotal: 418ms\tremaining: 2.66s\n",
      "136:\tlearn: 0.2633091\ttotal: 421ms\tremaining: 2.65s\n",
      "137:\tlearn: 0.2622694\ttotal: 423ms\tremaining: 2.64s\n",
      "138:\tlearn: 0.2611895\ttotal: 425ms\tremaining: 2.63s\n",
      "139:\tlearn: 0.2601013\ttotal: 429ms\tremaining: 2.64s\n",
      "140:\tlearn: 0.2594171\ttotal: 433ms\tremaining: 2.64s\n",
      "141:\tlearn: 0.2581013\ttotal: 438ms\tremaining: 2.64s\n",
      "142:\tlearn: 0.2572661\ttotal: 440ms\tremaining: 2.64s\n",
      "143:\tlearn: 0.2564178\ttotal: 443ms\tremaining: 2.63s\n",
      "144:\tlearn: 0.2550550\ttotal: 446ms\tremaining: 2.63s\n",
      "145:\tlearn: 0.2542704\ttotal: 449ms\tremaining: 2.63s\n",
      "146:\tlearn: 0.2535611\ttotal: 451ms\tremaining: 2.62s\n",
      "147:\tlearn: 0.2526051\ttotal: 454ms\tremaining: 2.61s\n",
      "148:\tlearn: 0.2515534\ttotal: 456ms\tremaining: 2.6s\n",
      "149:\tlearn: 0.2511410\ttotal: 459ms\tremaining: 2.6s\n",
      "150:\tlearn: 0.2501084\ttotal: 461ms\tremaining: 2.59s\n",
      "151:\tlearn: 0.2492668\ttotal: 464ms\tremaining: 2.59s\n",
      "152:\tlearn: 0.2485364\ttotal: 466ms\tremaining: 2.58s\n",
      "153:\tlearn: 0.2477461\ttotal: 469ms\tremaining: 2.57s\n",
      "154:\tlearn: 0.2468649\ttotal: 472ms\tremaining: 2.57s\n",
      "155:\tlearn: 0.2459855\ttotal: 475ms\tremaining: 2.57s\n",
      "156:\tlearn: 0.2452122\ttotal: 477ms\tremaining: 2.56s\n",
      "157:\tlearn: 0.2442285\ttotal: 480ms\tremaining: 2.56s\n",
      "158:\tlearn: 0.2436753\ttotal: 482ms\tremaining: 2.55s\n",
      "159:\tlearn: 0.2428732\ttotal: 485ms\tremaining: 2.55s\n",
      "160:\tlearn: 0.2421841\ttotal: 488ms\tremaining: 2.54s\n",
      "161:\tlearn: 0.2416493\ttotal: 490ms\tremaining: 2.53s\n",
      "162:\tlearn: 0.2407915\ttotal: 492ms\tremaining: 2.53s\n",
      "163:\tlearn: 0.2399563\ttotal: 495ms\tremaining: 2.52s\n",
      "164:\tlearn: 0.2394747\ttotal: 498ms\tremaining: 2.52s\n",
      "165:\tlearn: 0.2388399\ttotal: 500ms\tremaining: 2.51s\n",
      "166:\tlearn: 0.2379984\ttotal: 502ms\tremaining: 2.5s\n",
      "167:\tlearn: 0.2373537\ttotal: 503ms\tremaining: 2.49s\n",
      "168:\tlearn: 0.2367933\ttotal: 505ms\tremaining: 2.48s\n",
      "169:\tlearn: 0.2359371\ttotal: 507ms\tremaining: 2.48s\n",
      "170:\tlearn: 0.2351426\ttotal: 509ms\tremaining: 2.46s\n",
      "171:\tlearn: 0.2346288\ttotal: 511ms\tremaining: 2.46s\n"
     ]
    },
    {
     "name": "stdout",
     "output_type": "stream",
     "text": [
      "172:\tlearn: 0.2339696\ttotal: 512ms\tremaining: 2.45s\n",
      "173:\tlearn: 0.2334406\ttotal: 515ms\tremaining: 2.44s\n",
      "174:\tlearn: 0.2328408\ttotal: 518ms\tremaining: 2.44s\n",
      "175:\tlearn: 0.2323923\ttotal: 520ms\tremaining: 2.44s\n",
      "176:\tlearn: 0.2313372\ttotal: 523ms\tremaining: 2.43s\n",
      "177:\tlearn: 0.2308850\ttotal: 526ms\tremaining: 2.43s\n",
      "178:\tlearn: 0.2305341\ttotal: 529ms\tremaining: 2.42s\n",
      "179:\tlearn: 0.2301723\ttotal: 531ms\tremaining: 2.42s\n",
      "180:\tlearn: 0.2293259\ttotal: 534ms\tremaining: 2.42s\n",
      "181:\tlearn: 0.2290229\ttotal: 535ms\tremaining: 2.4s\n",
      "182:\tlearn: 0.2282383\ttotal: 538ms\tremaining: 2.4s\n",
      "183:\tlearn: 0.2276922\ttotal: 541ms\tremaining: 2.4s\n",
      "184:\tlearn: 0.2270324\ttotal: 555ms\tremaining: 2.44s\n",
      "185:\tlearn: 0.2263176\ttotal: 560ms\tremaining: 2.45s\n",
      "186:\tlearn: 0.2256583\ttotal: 563ms\tremaining: 2.44s\n",
      "187:\tlearn: 0.2253063\ttotal: 565ms\tremaining: 2.44s\n",
      "188:\tlearn: 0.2246896\ttotal: 567ms\tremaining: 2.43s\n"
     ]
    },
    {
     "name": "stdout",
     "output_type": "stream",
     "text": [
      "189:\tlearn: 0.2241034\ttotal: 574ms\tremaining: 2.45s\n",
      "190:\tlearn: 0.2235958\ttotal: 577ms\tremaining: 2.44s\n",
      "191:\tlearn: 0.2227775\ttotal: 580ms\tremaining: 2.44s\n",
      "192:\tlearn: 0.2221822\ttotal: 582ms\tremaining: 2.44s\n",
      "193:\tlearn: 0.2214736\ttotal: 585ms\tremaining: 2.43s\n",
      "194:\tlearn: 0.2210522\ttotal: 588ms\tremaining: 2.42s\n",
      "195:\tlearn: 0.2202757\ttotal: 590ms\tremaining: 2.42s\n",
      "196:\tlearn: 0.2199144\ttotal: 592ms\tremaining: 2.41s\n",
      "197:\tlearn: 0.2193977\ttotal: 595ms\tremaining: 2.41s\n",
      "198:\tlearn: 0.2190960\ttotal: 597ms\tremaining: 2.4s\n",
      "199:\tlearn: 0.2186472\ttotal: 600ms\tremaining: 2.4s\n",
      "200:\tlearn: 0.2181804\ttotal: 603ms\tremaining: 2.4s\n",
      "201:\tlearn: 0.2173578\ttotal: 605ms\tremaining: 2.39s\n",
      "202:\tlearn: 0.2165697\ttotal: 607ms\tremaining: 2.38s\n",
      "203:\tlearn: 0.2159212\ttotal: 610ms\tremaining: 2.38s\n",
      "204:\tlearn: 0.2153699\ttotal: 613ms\tremaining: 2.38s\n",
      "205:\tlearn: 0.2148073\ttotal: 650ms\tremaining: 2.5s\n",
      "206:\tlearn: 0.2143503\ttotal: 653ms\tremaining: 2.5s\n"
     ]
    },
    {
     "name": "stdout",
     "output_type": "stream",
     "text": [
      "207:\tlearn: 0.2140127\ttotal: 675ms\tremaining: 2.57s\n"
     ]
    },
    {
     "name": "stdout",
     "output_type": "stream",
     "text": [
      "208:\tlearn: 0.2135763\ttotal: 678ms\tremaining: 2.56s\n",
      "209:\tlearn: 0.2130937\ttotal: 680ms\tremaining: 2.56s\n",
      "210:\tlearn: 0.2127012\ttotal: 683ms\tremaining: 2.55s\n",
      "211:\tlearn: 0.2122461\ttotal: 686ms\tremaining: 2.55s\n",
      "212:\tlearn: 0.2114758\ttotal: 688ms\tremaining: 2.54s\n",
      "213:\tlearn: 0.2107572\ttotal: 691ms\tremaining: 2.54s\n",
      "214:\tlearn: 0.2099472\ttotal: 693ms\tremaining: 2.53s\n",
      "215:\tlearn: 0.2093164\ttotal: 697ms\tremaining: 2.53s\n",
      "216:\tlearn: 0.2088801\ttotal: 702ms\tremaining: 2.53s\n",
      "217:\tlearn: 0.2084812\ttotal: 711ms\tremaining: 2.55s\n",
      "218:\tlearn: 0.2081270\ttotal: 720ms\tremaining: 2.57s\n",
      "219:\tlearn: 0.2073725\ttotal: 725ms\tremaining: 2.57s\n",
      "220:\tlearn: 0.2066831\ttotal: 730ms\tremaining: 2.57s\n",
      "221:\tlearn: 0.2063520\ttotal: 733ms\tremaining: 2.57s\n",
      "222:\tlearn: 0.2057156\ttotal: 735ms\tremaining: 2.56s\n",
      "223:\tlearn: 0.2051328\ttotal: 746ms\tremaining: 2.58s\n",
      "224:\tlearn: 0.2044459\ttotal: 749ms\tremaining: 2.58s\n",
      "225:\tlearn: 0.2039837\ttotal: 751ms\tremaining: 2.57s\n",
      "226:\tlearn: 0.2032988\ttotal: 754ms\tremaining: 2.57s\n",
      "227:\tlearn: 0.2028747\ttotal: 756ms\tremaining: 2.56s\n",
      "228:\tlearn: 0.2022493\ttotal: 761ms\tremaining: 2.56s\n",
      "229:\tlearn: 0.2016529\ttotal: 763ms\tremaining: 2.56s\n",
      "230:\tlearn: 0.2013553\ttotal: 766ms\tremaining: 2.55s\n",
      "231:\tlearn: 0.2007733\ttotal: 768ms\tremaining: 2.54s\n",
      "232:\tlearn: 0.2000458\ttotal: 771ms\tremaining: 2.54s\n",
      "233:\tlearn: 0.1992098\ttotal: 774ms\tremaining: 2.53s\n",
      "234:\tlearn: 0.1987733\ttotal: 777ms\tremaining: 2.53s\n",
      "235:\tlearn: 0.1984360\ttotal: 780ms\tremaining: 2.52s\n",
      "236:\tlearn: 0.1978626\ttotal: 783ms\tremaining: 2.52s\n",
      "237:\tlearn: 0.1972040\ttotal: 786ms\tremaining: 2.52s\n",
      "238:\tlearn: 0.1968297\ttotal: 788ms\tremaining: 2.51s\n",
      "239:\tlearn: 0.1963063\ttotal: 790ms\tremaining: 2.5s\n",
      "240:\tlearn: 0.1958313\ttotal: 793ms\tremaining: 2.5s\n",
      "241:\tlearn: 0.1956152\ttotal: 795ms\tremaining: 2.49s\n"
     ]
    },
    {
     "name": "stdout",
     "output_type": "stream",
     "text": [
      "242:\tlearn: 0.1953593\ttotal: 798ms\tremaining: 2.49s\n",
      "243:\tlearn: 0.1946421\ttotal: 801ms\tremaining: 2.48s\n",
      "244:\tlearn: 0.1939298\ttotal: 804ms\tremaining: 2.48s\n",
      "245:\tlearn: 0.1931956\ttotal: 810ms\tremaining: 2.48s\n",
      "246:\tlearn: 0.1927754\ttotal: 813ms\tremaining: 2.48s\n",
      "247:\tlearn: 0.1923367\ttotal: 817ms\tremaining: 2.48s\n",
      "248:\tlearn: 0.1917059\ttotal: 819ms\tremaining: 2.47s\n",
      "249:\tlearn: 0.1913573\ttotal: 822ms\tremaining: 2.46s\n",
      "250:\tlearn: 0.1908765\ttotal: 824ms\tremaining: 2.46s\n",
      "251:\tlearn: 0.1905397\ttotal: 827ms\tremaining: 2.45s\n",
      "252:\tlearn: 0.1902764\ttotal: 829ms\tremaining: 2.45s\n"
     ]
    },
    {
     "name": "stdout",
     "output_type": "stream",
     "text": [
      "253:\tlearn: 0.1898592\ttotal: 831ms\tremaining: 2.44s\n",
      "254:\tlearn: 0.1893846\ttotal: 834ms\tremaining: 2.44s\n",
      "255:\tlearn: 0.1890912\ttotal: 837ms\tremaining: 2.43s\n",
      "256:\tlearn: 0.1888034\ttotal: 840ms\tremaining: 2.43s\n",
      "257:\tlearn: 0.1883228\ttotal: 862ms\tremaining: 2.48s\n",
      "258:\tlearn: 0.1877580\ttotal: 865ms\tremaining: 2.47s\n",
      "259:\tlearn: 0.1875661\ttotal: 867ms\tremaining: 2.47s\n",
      "260:\tlearn: 0.1868254\ttotal: 870ms\tremaining: 2.46s\n",
      "261:\tlearn: 0.1862227\ttotal: 873ms\tremaining: 2.46s\n",
      "262:\tlearn: 0.1857982\ttotal: 875ms\tremaining: 2.45s\n",
      "263:\tlearn: 0.1853680\ttotal: 878ms\tremaining: 2.45s\n",
      "264:\tlearn: 0.1851740\ttotal: 880ms\tremaining: 2.44s\n",
      "265:\tlearn: 0.1849161\ttotal: 891ms\tremaining: 2.46s\n",
      "266:\tlearn: 0.1845333\ttotal: 893ms\tremaining: 2.45s\n",
      "267:\tlearn: 0.1840921\ttotal: 896ms\tremaining: 2.45s\n",
      "268:\tlearn: 0.1836853\ttotal: 897ms\tremaining: 2.44s\n",
      "269:\tlearn: 0.1833126\ttotal: 900ms\tremaining: 2.43s\n",
      "270:\tlearn: 0.1828228\ttotal: 903ms\tremaining: 2.43s\n",
      "271:\tlearn: 0.1822461\ttotal: 906ms\tremaining: 2.42s\n",
      "272:\tlearn: 0.1819306\ttotal: 908ms\tremaining: 2.42s\n",
      "273:\tlearn: 0.1817562\ttotal: 911ms\tremaining: 2.41s\n",
      "274:\tlearn: 0.1813003\ttotal: 914ms\tremaining: 2.41s\n",
      "275:\tlearn: 0.1807774\ttotal: 917ms\tremaining: 2.4s\n",
      "276:\tlearn: 0.1804344\ttotal: 920ms\tremaining: 2.4s\n",
      "277:\tlearn: 0.1801822\ttotal: 922ms\tremaining: 2.39s\n",
      "278:\tlearn: 0.1797021\ttotal: 943ms\tremaining: 2.44s\n",
      "279:\tlearn: 0.1792769\ttotal: 946ms\tremaining: 2.43s\n",
      "280:\tlearn: 0.1787837\ttotal: 952ms\tremaining: 2.43s\n",
      "281:\tlearn: 0.1784054\ttotal: 954ms\tremaining: 2.43s\n",
      "282:\tlearn: 0.1780289\ttotal: 956ms\tremaining: 2.42s\n",
      "283:\tlearn: 0.1777830\ttotal: 959ms\tremaining: 2.42s\n"
     ]
    },
    {
     "name": "stdout",
     "output_type": "stream",
     "text": [
      "284:\tlearn: 0.1774495\ttotal: 964ms\tremaining: 2.42s\n",
      "285:\tlearn: 0.1772753\ttotal: 966ms\tremaining: 2.41s\n",
      "286:\tlearn: 0.1771162\ttotal: 970ms\tremaining: 2.41s\n",
      "287:\tlearn: 0.1764522\ttotal: 972ms\tremaining: 2.4s\n",
      "288:\tlearn: 0.1758876\ttotal: 975ms\tremaining: 2.4s\n",
      "289:\tlearn: 0.1755818\ttotal: 977ms\tremaining: 2.39s\n",
      "290:\tlearn: 0.1753529\ttotal: 979ms\tremaining: 2.39s\n",
      "291:\tlearn: 0.1751330\ttotal: 982ms\tremaining: 2.38s\n"
     ]
    },
    {
     "name": "stdout",
     "output_type": "stream",
     "text": [
      "292:\tlearn: 0.1745985\ttotal: 984ms\tremaining: 2.37s\n",
      "293:\tlearn: 0.1742169\ttotal: 989ms\tremaining: 2.37s\n",
      "294:\tlearn: 0.1736854\ttotal: 992ms\tremaining: 2.37s\n",
      "295:\tlearn: 0.1734979\ttotal: 1.01s\tremaining: 2.39s\n",
      "296:\tlearn: 0.1732292\ttotal: 1.01s\tremaining: 2.39s\n",
      "297:\tlearn: 0.1727209\ttotal: 1.01s\tremaining: 2.38s\n",
      "298:\tlearn: 0.1725259\ttotal: 1.01s\tremaining: 2.37s\n",
      "299:\tlearn: 0.1719939\ttotal: 1.01s\tremaining: 2.37s\n",
      "300:\tlearn: 0.1716051\ttotal: 1.02s\tremaining: 2.36s\n",
      "301:\tlearn: 0.1714100\ttotal: 1.02s\tremaining: 2.35s\n",
      "302:\tlearn: 0.1711090\ttotal: 1.02s\tremaining: 2.35s\n",
      "303:\tlearn: 0.1709742\ttotal: 1.02s\tremaining: 2.34s\n",
      "304:\tlearn: 0.1705625\ttotal: 1.02s\tremaining: 2.33s\n",
      "305:\tlearn: 0.1703875\ttotal: 1.03s\tremaining: 2.33s\n",
      "306:\tlearn: 0.1701506\ttotal: 1.03s\tremaining: 2.32s\n",
      "307:\tlearn: 0.1696458\ttotal: 1.03s\tremaining: 2.32s\n",
      "308:\tlearn: 0.1691163\ttotal: 1.04s\tremaining: 2.32s\n",
      "309:\tlearn: 0.1687516\ttotal: 1.05s\tremaining: 2.34s\n",
      "310:\tlearn: 0.1683664\ttotal: 1.05s\tremaining: 2.34s\n",
      "311:\tlearn: 0.1678113\ttotal: 1.06s\tremaining: 2.33s\n",
      "312:\tlearn: 0.1676372\ttotal: 1.06s\tremaining: 2.33s\n",
      "313:\tlearn: 0.1673489\ttotal: 1.06s\tremaining: 2.32s\n",
      "314:\tlearn: 0.1669326\ttotal: 1.06s\tremaining: 2.31s\n",
      "315:\tlearn: 0.1664944\ttotal: 1.07s\tremaining: 2.31s\n",
      "316:\tlearn: 0.1661126\ttotal: 1.07s\tremaining: 2.3s\n",
      "317:\tlearn: 0.1659519\ttotal: 1.07s\tremaining: 2.31s\n",
      "318:\tlearn: 0.1657708\ttotal: 1.08s\tremaining: 2.3s\n",
      "319:\tlearn: 0.1654580\ttotal: 1.09s\tremaining: 2.32s\n",
      "320:\tlearn: 0.1651045\ttotal: 1.09s\tremaining: 2.32s\n",
      "321:\tlearn: 0.1647559\ttotal: 1.1s\tremaining: 2.31s\n",
      "322:\tlearn: 0.1644604\ttotal: 1.1s\tremaining: 2.31s\n",
      "323:\tlearn: 0.1643257\ttotal: 1.1s\tremaining: 2.3s\n",
      "324:\tlearn: 0.1639536\ttotal: 1.1s\tremaining: 2.29s\n",
      "325:\tlearn: 0.1637765\ttotal: 1.11s\tremaining: 2.29s\n",
      "326:\tlearn: 0.1636095\ttotal: 1.11s\tremaining: 2.28s\n",
      "327:\tlearn: 0.1632171\ttotal: 1.11s\tremaining: 2.28s\n",
      "328:\tlearn: 0.1630671\ttotal: 1.11s\tremaining: 2.27s\n",
      "329:\tlearn: 0.1629227\ttotal: 1.12s\tremaining: 2.27s\n",
      "330:\tlearn: 0.1623441\ttotal: 1.12s\tremaining: 2.26s\n",
      "331:\tlearn: 0.1621227\ttotal: 1.12s\tremaining: 2.26s\n"
     ]
    },
    {
     "name": "stdout",
     "output_type": "stream",
     "text": [
      "332:\tlearn: 0.1618264\ttotal: 1.15s\tremaining: 2.3s\n",
      "333:\tlearn: 0.1617575\ttotal: 1.15s\tremaining: 2.3s\n",
      "334:\tlearn: 0.1615772\ttotal: 1.16s\tremaining: 2.29s\n",
      "335:\tlearn: 0.1611011\ttotal: 1.16s\tremaining: 2.29s\n"
     ]
    },
    {
     "name": "stdout",
     "output_type": "stream",
     "text": [
      "336:\tlearn: 0.1609329\ttotal: 1.16s\tremaining: 2.28s\n",
      "337:\tlearn: 0.1605556\ttotal: 1.17s\tremaining: 2.29s\n",
      "338:\tlearn: 0.1601418\ttotal: 1.17s\tremaining: 2.29s\n",
      "339:\tlearn: 0.1597572\ttotal: 1.18s\tremaining: 2.28s\n",
      "340:\tlearn: 0.1594893\ttotal: 1.18s\tremaining: 2.28s\n",
      "341:\tlearn: 0.1592030\ttotal: 1.18s\tremaining: 2.27s\n",
      "342:\tlearn: 0.1587299\ttotal: 1.18s\tremaining: 2.27s\n",
      "343:\tlearn: 0.1583729\ttotal: 1.19s\tremaining: 2.26s\n",
      "344:\tlearn: 0.1582323\ttotal: 1.19s\tremaining: 2.26s\n",
      "345:\tlearn: 0.1581669\ttotal: 1.19s\tremaining: 2.25s\n",
      "346:\tlearn: 0.1578636\ttotal: 1.19s\tremaining: 2.25s\n",
      "347:\tlearn: 0.1575881\ttotal: 1.2s\tremaining: 2.24s\n",
      "348:\tlearn: 0.1573473\ttotal: 1.2s\tremaining: 2.24s\n",
      "349:\tlearn: 0.1570391\ttotal: 1.22s\tremaining: 2.27s\n",
      "350:\tlearn: 0.1566506\ttotal: 1.22s\tremaining: 2.26s\n",
      "351:\tlearn: 0.1563851\ttotal: 1.23s\tremaining: 2.26s\n",
      "352:\tlearn: 0.1562018\ttotal: 1.23s\tremaining: 2.25s\n",
      "353:\tlearn: 0.1558413\ttotal: 1.23s\tremaining: 2.25s\n",
      "354:\tlearn: 0.1555518\ttotal: 1.23s\tremaining: 2.24s\n",
      "355:\tlearn: 0.1552255\ttotal: 1.24s\tremaining: 2.24s\n",
      "356:\tlearn: 0.1548319\ttotal: 1.24s\tremaining: 2.23s\n",
      "357:\tlearn: 0.1547153\ttotal: 1.24s\tremaining: 2.23s\n",
      "358:\tlearn: 0.1545409\ttotal: 1.24s\tremaining: 2.22s\n",
      "359:\tlearn: 0.1542010\ttotal: 1.25s\tremaining: 2.21s\n",
      "360:\tlearn: 0.1540683\ttotal: 1.25s\tremaining: 2.21s\n",
      "361:\tlearn: 0.1537941\ttotal: 1.25s\tremaining: 2.21s\n",
      "362:\tlearn: 0.1536712\ttotal: 1.25s\tremaining: 2.2s\n",
      "363:\tlearn: 0.1534398\ttotal: 1.26s\tremaining: 2.19s\n",
      "364:\tlearn: 0.1532724\ttotal: 1.26s\tremaining: 2.19s\n",
      "365:\tlearn: 0.1530644\ttotal: 1.26s\tremaining: 2.19s\n",
      "366:\tlearn: 0.1524866\ttotal: 1.29s\tremaining: 2.22s\n",
      "367:\tlearn: 0.1522175\ttotal: 1.31s\tremaining: 2.25s\n",
      "368:\tlearn: 0.1520293\ttotal: 1.31s\tremaining: 2.25s\n",
      "369:\tlearn: 0.1515523\ttotal: 1.32s\tremaining: 2.24s\n"
     ]
    },
    {
     "name": "stdout",
     "output_type": "stream",
     "text": [
      "370:\tlearn: 0.1512920\ttotal: 1.32s\tremaining: 2.24s\n",
      "371:\tlearn: 0.1511042\ttotal: 1.32s\tremaining: 2.23s\n",
      "372:\tlearn: 0.1508081\ttotal: 1.32s\tremaining: 2.23s\n"
     ]
    },
    {
     "name": "stdout",
     "output_type": "stream",
     "text": [
      "373:\tlearn: 0.1507093\ttotal: 1.33s\tremaining: 2.22s\n",
      "374:\tlearn: 0.1506008\ttotal: 1.33s\tremaining: 2.22s\n",
      "375:\tlearn: 0.1504053\ttotal: 1.33s\tremaining: 2.21s\n",
      "376:\tlearn: 0.1499545\ttotal: 1.34s\tremaining: 2.21s\n",
      "377:\tlearn: 0.1497218\ttotal: 1.34s\tremaining: 2.2s\n",
      "378:\tlearn: 0.1492086\ttotal: 1.34s\tremaining: 2.2s\n",
      "379:\tlearn: 0.1488477\ttotal: 1.35s\tremaining: 2.2s\n",
      "380:\tlearn: 0.1486594\ttotal: 1.35s\tremaining: 2.19s\n",
      "381:\tlearn: 0.1484977\ttotal: 1.35s\tremaining: 2.19s\n",
      "382:\tlearn: 0.1484466\ttotal: 1.35s\tremaining: 2.18s\n",
      "383:\tlearn: 0.1483500\ttotal: 1.36s\tremaining: 2.17s\n",
      "384:\tlearn: 0.1482731\ttotal: 1.36s\tremaining: 2.17s\n",
      "385:\tlearn: 0.1478799\ttotal: 1.36s\tremaining: 2.17s\n",
      "386:\tlearn: 0.1475253\ttotal: 1.36s\tremaining: 2.16s\n",
      "387:\tlearn: 0.1474423\ttotal: 1.37s\tremaining: 2.16s\n",
      "388:\tlearn: 0.1471103\ttotal: 1.37s\tremaining: 2.15s\n",
      "389:\tlearn: 0.1469325\ttotal: 1.37s\tremaining: 2.15s\n",
      "390:\tlearn: 0.1466710\ttotal: 1.37s\tremaining: 2.14s\n",
      "391:\tlearn: 0.1464313\ttotal: 1.38s\tremaining: 2.14s\n",
      "392:\tlearn: 0.1459434\ttotal: 1.38s\tremaining: 2.14s\n",
      "393:\tlearn: 0.1455541\ttotal: 1.39s\tremaining: 2.13s\n",
      "394:\tlearn: 0.1454313\ttotal: 1.39s\tremaining: 2.13s\n",
      "395:\tlearn: 0.1453009\ttotal: 1.4s\tremaining: 2.13s\n",
      "396:\tlearn: 0.1452009\ttotal: 1.4s\tremaining: 2.13s\n",
      "397:\tlearn: 0.1448921\ttotal: 1.4s\tremaining: 2.12s\n",
      "398:\tlearn: 0.1445040\ttotal: 1.4s\tremaining: 2.12s\n",
      "399:\tlearn: 0.1442446\ttotal: 1.41s\tremaining: 2.11s\n",
      "400:\tlearn: 0.1441993\ttotal: 1.41s\tremaining: 2.1s\n",
      "401:\tlearn: 0.1435417\ttotal: 1.41s\tremaining: 2.1s\n",
      "402:\tlearn: 0.1430952\ttotal: 1.41s\tremaining: 2.1s\n",
      "403:\tlearn: 0.1430448\ttotal: 1.42s\tremaining: 2.09s\n",
      "404:\tlearn: 0.1428117\ttotal: 1.42s\tremaining: 2.08s\n",
      "405:\tlearn: 0.1425339\ttotal: 1.42s\tremaining: 2.08s\n",
      "406:\tlearn: 0.1421749\ttotal: 1.43s\tremaining: 2.08s\n",
      "407:\tlearn: 0.1420856\ttotal: 1.43s\tremaining: 2.07s\n"
     ]
    },
    {
     "name": "stdout",
     "output_type": "stream",
     "text": [
      "408:\tlearn: 0.1417736\ttotal: 1.43s\tremaining: 2.07s\n",
      "409:\tlearn: 0.1416748\ttotal: 1.44s\tremaining: 2.07s\n",
      "410:\tlearn: 0.1412766\ttotal: 1.44s\tremaining: 2.06s\n",
      "411:\tlearn: 0.1409244\ttotal: 1.44s\tremaining: 2.06s\n",
      "412:\tlearn: 0.1406433\ttotal: 1.44s\tremaining: 2.05s\n"
     ]
    },
    {
     "name": "stdout",
     "output_type": "stream",
     "text": [
      "413:\tlearn: 0.1402798\ttotal: 1.45s\tremaining: 2.05s\n",
      "414:\tlearn: 0.1400915\ttotal: 1.45s\tremaining: 2.04s\n",
      "415:\tlearn: 0.1396425\ttotal: 1.45s\tremaining: 2.04s\n",
      "416:\tlearn: 0.1395499\ttotal: 1.45s\tremaining: 2.03s\n",
      "417:\tlearn: 0.1392984\ttotal: 1.46s\tremaining: 2.03s\n",
      "418:\tlearn: 0.1392437\ttotal: 1.46s\tremaining: 2.02s\n",
      "419:\tlearn: 0.1392023\ttotal: 1.46s\tremaining: 2.02s\n",
      "420:\tlearn: 0.1391605\ttotal: 1.46s\tremaining: 2.01s\n",
      "421:\tlearn: 0.1391195\ttotal: 1.47s\tremaining: 2.01s\n",
      "422:\tlearn: 0.1386830\ttotal: 1.47s\tremaining: 2s\n",
      "423:\tlearn: 0.1386122\ttotal: 1.47s\tremaining: 2s\n",
      "424:\tlearn: 0.1383172\ttotal: 1.47s\tremaining: 1.99s\n",
      "425:\tlearn: 0.1382774\ttotal: 1.48s\tremaining: 1.99s\n",
      "426:\tlearn: 0.1381562\ttotal: 1.48s\tremaining: 1.98s\n",
      "427:\tlearn: 0.1379020\ttotal: 1.48s\tremaining: 1.98s\n",
      "428:\tlearn: 0.1375270\ttotal: 1.48s\tremaining: 1.97s\n",
      "429:\tlearn: 0.1369732\ttotal: 1.49s\tremaining: 1.97s\n",
      "430:\tlearn: 0.1367032\ttotal: 1.49s\tremaining: 1.97s\n",
      "431:\tlearn: 0.1366132\ttotal: 1.49s\tremaining: 1.96s\n",
      "432:\tlearn: 0.1365733\ttotal: 1.49s\tremaining: 1.96s\n",
      "433:\tlearn: 0.1361592\ttotal: 1.5s\tremaining: 1.95s\n",
      "434:\tlearn: 0.1358757\ttotal: 1.5s\tremaining: 1.95s\n",
      "435:\tlearn: 0.1355779\ttotal: 1.5s\tremaining: 1.94s\n",
      "436:\tlearn: 0.1353237\ttotal: 1.5s\tremaining: 1.94s\n",
      "437:\tlearn: 0.1349770\ttotal: 1.5s\tremaining: 1.93s\n",
      "438:\tlearn: 0.1346872\ttotal: 1.51s\tremaining: 1.93s\n",
      "439:\tlearn: 0.1343831\ttotal: 1.51s\tremaining: 1.92s\n",
      "440:\tlearn: 0.1343038\ttotal: 1.51s\tremaining: 1.92s\n",
      "441:\tlearn: 0.1342632\ttotal: 1.51s\tremaining: 1.91s\n",
      "442:\tlearn: 0.1341843\ttotal: 1.52s\tremaining: 1.91s\n",
      "443:\tlearn: 0.1338748\ttotal: 1.52s\tremaining: 1.9s\n",
      "444:\tlearn: 0.1334414\ttotal: 1.52s\tremaining: 1.9s\n",
      "445:\tlearn: 0.1334083\ttotal: 1.52s\tremaining: 1.9s\n",
      "446:\tlearn: 0.1333356\ttotal: 1.53s\tremaining: 1.89s\n",
      "447:\tlearn: 0.1332984\ttotal: 1.53s\tremaining: 1.89s\n",
      "448:\tlearn: 0.1331688\ttotal: 1.53s\tremaining: 1.88s\n",
      "449:\tlearn: 0.1331361\ttotal: 1.54s\tremaining: 1.88s\n",
      "450:\tlearn: 0.1330297\ttotal: 1.54s\tremaining: 1.88s\n",
      "451:\tlearn: 0.1326555\ttotal: 1.54s\tremaining: 1.87s\n",
      "452:\tlearn: 0.1323482\ttotal: 1.55s\tremaining: 1.87s\n",
      "453:\tlearn: 0.1320492\ttotal: 1.55s\tremaining: 1.86s\n",
      "454:\tlearn: 0.1317337\ttotal: 1.55s\tremaining: 1.86s\n",
      "455:\tlearn: 0.1314549\ttotal: 1.55s\tremaining: 1.85s\n",
      "456:\tlearn: 0.1313405\ttotal: 1.56s\tremaining: 1.85s\n",
      "457:\tlearn: 0.1310084\ttotal: 1.56s\tremaining: 1.84s\n",
      "458:\tlearn: 0.1309276\ttotal: 1.56s\tremaining: 1.84s\n",
      "459:\tlearn: 0.1307728\ttotal: 1.56s\tremaining: 1.84s\n",
      "460:\tlearn: 0.1304951\ttotal: 1.57s\tremaining: 1.83s\n",
      "461:\tlearn: 0.1301865\ttotal: 1.57s\tremaining: 1.83s\n",
      "462:\tlearn: 0.1298976\ttotal: 1.57s\tremaining: 1.82s\n",
      "463:\tlearn: 0.1298767\ttotal: 1.57s\tremaining: 1.82s\n",
      "464:\tlearn: 0.1294985\ttotal: 1.58s\tremaining: 1.82s\n",
      "465:\tlearn: 0.1294670\ttotal: 1.58s\tremaining: 1.81s\n",
      "466:\tlearn: 0.1292265\ttotal: 1.58s\tremaining: 1.81s\n",
      "467:\tlearn: 0.1288789\ttotal: 1.59s\tremaining: 1.8s\n",
      "468:\tlearn: 0.1287698\ttotal: 1.59s\tremaining: 1.8s\n",
      "469:\tlearn: 0.1285199\ttotal: 1.59s\tremaining: 1.79s\n"
     ]
    },
    {
     "name": "stdout",
     "output_type": "stream",
     "text": [
      "470:\tlearn: 0.1284894\ttotal: 1.59s\tremaining: 1.79s\n",
      "471:\tlearn: 0.1284580\ttotal: 1.6s\tremaining: 1.79s\n",
      "472:\tlearn: 0.1281470\ttotal: 1.6s\tremaining: 1.78s\n"
     ]
    },
    {
     "name": "stdout",
     "output_type": "stream",
     "text": [
      "473:\tlearn: 0.1281241\ttotal: 1.6s\tremaining: 1.78s\n",
      "474:\tlearn: 0.1277508\ttotal: 1.6s\tremaining: 1.77s\n",
      "475:\tlearn: 0.1276554\ttotal: 1.61s\tremaining: 1.77s\n",
      "476:\tlearn: 0.1274483\ttotal: 1.61s\tremaining: 1.76s\n",
      "477:\tlearn: 0.1271075\ttotal: 1.61s\tremaining: 1.76s\n",
      "478:\tlearn: 0.1268959\ttotal: 1.61s\tremaining: 1.75s\n",
      "479:\tlearn: 0.1266612\ttotal: 1.61s\tremaining: 1.75s\n",
      "480:\tlearn: 0.1263908\ttotal: 1.61s\tremaining: 1.74s\n",
      "481:\tlearn: 0.1260797\ttotal: 1.62s\tremaining: 1.74s\n",
      "482:\tlearn: 0.1257338\ttotal: 1.62s\tremaining: 1.73s\n",
      "483:\tlearn: 0.1255791\ttotal: 1.62s\tremaining: 1.73s\n",
      "484:\tlearn: 0.1255580\ttotal: 1.62s\tremaining: 1.72s\n",
      "485:\tlearn: 0.1253071\ttotal: 1.63s\tremaining: 1.72s\n",
      "486:\tlearn: 0.1252740\ttotal: 1.63s\tremaining: 1.71s\n",
      "487:\tlearn: 0.1251312\ttotal: 1.63s\tremaining: 1.71s\n",
      "488:\tlearn: 0.1248817\ttotal: 1.63s\tremaining: 1.7s\n",
      "489:\tlearn: 0.1248025\ttotal: 1.63s\tremaining: 1.7s\n",
      "490:\tlearn: 0.1246618\ttotal: 1.64s\tremaining: 1.7s\n",
      "491:\tlearn: 0.1246352\ttotal: 1.64s\tremaining: 1.69s\n",
      "492:\tlearn: 0.1244967\ttotal: 1.64s\tremaining: 1.69s\n",
      "493:\tlearn: 0.1243428\ttotal: 1.64s\tremaining: 1.68s\n",
      "494:\tlearn: 0.1241620\ttotal: 1.65s\tremaining: 1.68s\n",
      "495:\tlearn: 0.1240089\ttotal: 1.65s\tremaining: 1.67s\n",
      "496:\tlearn: 0.1237063\ttotal: 1.65s\tremaining: 1.67s\n",
      "497:\tlearn: 0.1234134\ttotal: 1.65s\tremaining: 1.66s\n",
      "498:\tlearn: 0.1231132\ttotal: 1.65s\tremaining: 1.66s\n",
      "499:\tlearn: 0.1230900\ttotal: 1.66s\tremaining: 1.66s\n",
      "500:\tlearn: 0.1230351\ttotal: 1.66s\tremaining: 1.65s\n",
      "501:\tlearn: 0.1225911\ttotal: 1.66s\tremaining: 1.65s\n",
      "502:\tlearn: 0.1223252\ttotal: 1.66s\tremaining: 1.64s\n",
      "503:\tlearn: 0.1220541\ttotal: 1.66s\tremaining: 1.64s\n",
      "504:\tlearn: 0.1216898\ttotal: 1.67s\tremaining: 1.63s\n",
      "505:\tlearn: 0.1215234\ttotal: 1.67s\tremaining: 1.63s\n",
      "506:\tlearn: 0.1212431\ttotal: 1.67s\tremaining: 1.62s\n",
      "507:\tlearn: 0.1212141\ttotal: 1.67s\tremaining: 1.62s\n",
      "508:\tlearn: 0.1209651\ttotal: 1.67s\tremaining: 1.61s\n",
      "509:\tlearn: 0.1206396\ttotal: 1.68s\tremaining: 1.61s\n",
      "510:\tlearn: 0.1203081\ttotal: 1.68s\tremaining: 1.6s\n",
      "511:\tlearn: 0.1199645\ttotal: 1.68s\tremaining: 1.6s\n",
      "512:\tlearn: 0.1199380\ttotal: 1.68s\tremaining: 1.6s\n",
      "513:\tlearn: 0.1196771\ttotal: 1.69s\tremaining: 1.59s\n",
      "514:\tlearn: 0.1194261\ttotal: 1.69s\tremaining: 1.59s\n",
      "515:\tlearn: 0.1193896\ttotal: 1.69s\tremaining: 1.59s\n",
      "516:\tlearn: 0.1191593\ttotal: 1.69s\tremaining: 1.58s\n",
      "517:\tlearn: 0.1189749\ttotal: 1.7s\tremaining: 1.58s\n",
      "518:\tlearn: 0.1189484\ttotal: 1.7s\tremaining: 1.57s\n",
      "519:\tlearn: 0.1186022\ttotal: 1.7s\tremaining: 1.57s\n",
      "520:\tlearn: 0.1183413\ttotal: 1.7s\tremaining: 1.56s\n",
      "521:\tlearn: 0.1180823\ttotal: 1.7s\tremaining: 1.56s\n",
      "522:\tlearn: 0.1177511\ttotal: 1.7s\tremaining: 1.55s\n",
      "523:\tlearn: 0.1174092\ttotal: 1.71s\tremaining: 1.55s\n",
      "524:\tlearn: 0.1171060\ttotal: 1.71s\tremaining: 1.54s\n",
      "525:\tlearn: 0.1169508\ttotal: 1.71s\tremaining: 1.54s\n",
      "526:\tlearn: 0.1168528\ttotal: 1.71s\tremaining: 1.54s\n",
      "527:\tlearn: 0.1165777\ttotal: 1.72s\tremaining: 1.53s\n",
      "528:\tlearn: 0.1162553\ttotal: 1.72s\tremaining: 1.53s\n",
      "529:\tlearn: 0.1162402\ttotal: 1.72s\tremaining: 1.53s\n",
      "530:\tlearn: 0.1160172\ttotal: 1.72s\tremaining: 1.52s\n",
      "531:\tlearn: 0.1157160\ttotal: 1.73s\tremaining: 1.52s\n",
      "532:\tlearn: 0.1156947\ttotal: 1.73s\tremaining: 1.51s\n",
      "533:\tlearn: 0.1155579\ttotal: 1.73s\tremaining: 1.51s\n",
      "534:\tlearn: 0.1153823\ttotal: 1.73s\tremaining: 1.51s\n",
      "535:\tlearn: 0.1151762\ttotal: 1.74s\tremaining: 1.5s\n",
      "536:\tlearn: 0.1149291\ttotal: 1.74s\tremaining: 1.5s\n",
      "537:\tlearn: 0.1148001\ttotal: 1.75s\tremaining: 1.5s\n",
      "538:\tlearn: 0.1146032\ttotal: 1.75s\tremaining: 1.5s\n",
      "539:\tlearn: 0.1143893\ttotal: 1.75s\tremaining: 1.49s\n"
     ]
    },
    {
     "name": "stdout",
     "output_type": "stream",
     "text": [
      "540:\tlearn: 0.1143642\ttotal: 1.75s\tremaining: 1.49s\n"
     ]
    },
    {
     "name": "stdout",
     "output_type": "stream",
     "text": [
      "541:\tlearn: 0.1143476\ttotal: 1.77s\tremaining: 1.5s\n",
      "542:\tlearn: 0.1140960\ttotal: 1.77s\tremaining: 1.49s\n",
      "543:\tlearn: 0.1137616\ttotal: 1.78s\tremaining: 1.49s\n",
      "544:\tlearn: 0.1136226\ttotal: 1.78s\tremaining: 1.49s\n",
      "545:\tlearn: 0.1133291\ttotal: 1.78s\tremaining: 1.48s\n",
      "546:\tlearn: 0.1130839\ttotal: 1.79s\tremaining: 1.48s\n",
      "547:\tlearn: 0.1128741\ttotal: 1.79s\tremaining: 1.48s\n",
      "548:\tlearn: 0.1128589\ttotal: 1.79s\tremaining: 1.47s\n",
      "549:\tlearn: 0.1126007\ttotal: 1.8s\tremaining: 1.47s\n",
      "550:\tlearn: 0.1123570\ttotal: 1.8s\tremaining: 1.47s\n",
      "551:\tlearn: 0.1121551\ttotal: 1.8s\tremaining: 1.46s\n",
      "552:\tlearn: 0.1118503\ttotal: 1.8s\tremaining: 1.46s\n",
      "553:\tlearn: 0.1118331\ttotal: 1.81s\tremaining: 1.45s\n",
      "554:\tlearn: 0.1115195\ttotal: 1.81s\tremaining: 1.45s\n",
      "555:\tlearn: 0.1112915\ttotal: 1.81s\tremaining: 1.45s\n",
      "556:\tlearn: 0.1112720\ttotal: 1.82s\tremaining: 1.45s\n",
      "557:\tlearn: 0.1110875\ttotal: 1.83s\tremaining: 1.45s\n",
      "558:\tlearn: 0.1108621\ttotal: 1.83s\tremaining: 1.44s\n",
      "559:\tlearn: 0.1108146\ttotal: 1.83s\tremaining: 1.44s\n",
      "560:\tlearn: 0.1105465\ttotal: 1.84s\tremaining: 1.44s\n",
      "561:\tlearn: 0.1102922\ttotal: 1.84s\tremaining: 1.43s\n",
      "562:\tlearn: 0.1101399\ttotal: 1.84s\tremaining: 1.43s\n",
      "563:\tlearn: 0.1099289\ttotal: 1.84s\tremaining: 1.42s\n",
      "564:\tlearn: 0.1099132\ttotal: 1.84s\tremaining: 1.42s\n",
      "565:\tlearn: 0.1099005\ttotal: 1.85s\tremaining: 1.42s\n",
      "566:\tlearn: 0.1097784\ttotal: 1.85s\tremaining: 1.41s\n",
      "567:\tlearn: 0.1095462\ttotal: 1.86s\tremaining: 1.41s\n",
      "568:\tlearn: 0.1093823\ttotal: 1.86s\tremaining: 1.41s\n",
      "569:\tlearn: 0.1091422\ttotal: 1.87s\tremaining: 1.41s\n",
      "570:\tlearn: 0.1089911\ttotal: 1.87s\tremaining: 1.41s\n",
      "571:\tlearn: 0.1086702\ttotal: 1.87s\tremaining: 1.4s\n",
      "572:\tlearn: 0.1084733\ttotal: 1.88s\tremaining: 1.4s\n",
      "573:\tlearn: 0.1084516\ttotal: 1.88s\tremaining: 1.39s\n",
      "574:\tlearn: 0.1081816\ttotal: 1.88s\tremaining: 1.39s\n",
      "575:\tlearn: 0.1078967\ttotal: 1.88s\tremaining: 1.39s\n",
      "576:\tlearn: 0.1075823\ttotal: 1.89s\tremaining: 1.38s\n",
      "577:\tlearn: 0.1074605\ttotal: 1.89s\tremaining: 1.38s\n",
      "578:\tlearn: 0.1072126\ttotal: 1.89s\tremaining: 1.37s\n",
      "579:\tlearn: 0.1070408\ttotal: 1.89s\tremaining: 1.37s\n",
      "580:\tlearn: 0.1069189\ttotal: 1.9s\tremaining: 1.37s\n",
      "581:\tlearn: 0.1067027\ttotal: 1.9s\tremaining: 1.36s\n"
     ]
    },
    {
     "name": "stdout",
     "output_type": "stream",
     "text": [
      "582:\tlearn: 0.1064191\ttotal: 1.9s\tremaining: 1.36s\n",
      "583:\tlearn: 0.1062486\ttotal: 1.91s\tremaining: 1.36s\n",
      "584:\tlearn: 0.1061360\ttotal: 1.91s\tremaining: 1.36s\n",
      "585:\tlearn: 0.1059763\ttotal: 1.92s\tremaining: 1.35s\n",
      "586:\tlearn: 0.1056307\ttotal: 1.92s\tremaining: 1.35s\n",
      "587:\tlearn: 0.1054186\ttotal: 1.92s\tremaining: 1.35s\n",
      "588:\tlearn: 0.1053915\ttotal: 1.92s\tremaining: 1.34s\n",
      "589:\tlearn: 0.1050143\ttotal: 1.93s\tremaining: 1.34s\n",
      "590:\tlearn: 0.1050023\ttotal: 1.93s\tremaining: 1.33s\n",
      "591:\tlearn: 0.1047531\ttotal: 1.93s\tremaining: 1.33s\n",
      "592:\tlearn: 0.1045621\ttotal: 1.93s\tremaining: 1.33s\n",
      "593:\tlearn: 0.1043151\ttotal: 1.94s\tremaining: 1.32s\n",
      "594:\tlearn: 0.1040311\ttotal: 1.94s\tremaining: 1.32s\n",
      "595:\tlearn: 0.1037766\ttotal: 1.94s\tremaining: 1.31s\n",
      "596:\tlearn: 0.1036187\ttotal: 1.94s\tremaining: 1.31s\n",
      "597:\tlearn: 0.1035168\ttotal: 1.95s\tremaining: 1.31s\n",
      "598:\tlearn: 0.1033909\ttotal: 1.95s\tremaining: 1.3s\n",
      "599:\tlearn: 0.1031944\ttotal: 1.95s\tremaining: 1.3s\n",
      "600:\tlearn: 0.1028738\ttotal: 1.95s\tremaining: 1.3s\n",
      "601:\tlearn: 0.1026939\ttotal: 1.96s\tremaining: 1.29s\n",
      "602:\tlearn: 0.1025390\ttotal: 1.96s\tremaining: 1.29s\n",
      "603:\tlearn: 0.1022373\ttotal: 1.96s\tremaining: 1.29s\n",
      "604:\tlearn: 0.1021032\ttotal: 1.96s\tremaining: 1.28s\n",
      "605:\tlearn: 0.1019163\ttotal: 1.97s\tremaining: 1.28s\n",
      "606:\tlearn: 0.1016537\ttotal: 1.97s\tremaining: 1.27s\n",
      "607:\tlearn: 0.1014553\ttotal: 1.97s\tremaining: 1.27s\n",
      "608:\tlearn: 0.1012644\ttotal: 1.98s\tremaining: 1.27s\n",
      "609:\tlearn: 0.1009790\ttotal: 1.98s\tremaining: 1.27s\n",
      "610:\tlearn: 0.1008197\ttotal: 1.98s\tremaining: 1.26s\n",
      "611:\tlearn: 0.1007789\ttotal: 1.99s\tremaining: 1.26s\n",
      "612:\tlearn: 0.1005546\ttotal: 1.99s\tremaining: 1.25s\n",
      "613:\tlearn: 0.1005430\ttotal: 1.99s\tremaining: 1.25s\n",
      "614:\tlearn: 0.1005276\ttotal: 1.99s\tremaining: 1.25s\n",
      "615:\tlearn: 0.1002498\ttotal: 2s\tremaining: 1.24s\n",
      "616:\tlearn: 0.1000553\ttotal: 2s\tremaining: 1.24s\n",
      "617:\tlearn: 0.0999684\ttotal: 2s\tremaining: 1.24s\n",
      "618:\tlearn: 0.0996982\ttotal: 2s\tremaining: 1.23s\n",
      "619:\tlearn: 0.0995922\ttotal: 2s\tremaining: 1.23s\n",
      "620:\tlearn: 0.0993122\ttotal: 2.01s\tremaining: 1.23s\n",
      "621:\tlearn: 0.0991483\ttotal: 2.01s\tremaining: 1.22s\n",
      "622:\tlearn: 0.0989439\ttotal: 2.01s\tremaining: 1.22s\n",
      "623:\tlearn: 0.0988448\ttotal: 2.02s\tremaining: 1.21s\n",
      "624:\tlearn: 0.0988192\ttotal: 2.02s\tremaining: 1.21s\n",
      "625:\tlearn: 0.0986003\ttotal: 2.02s\tremaining: 1.21s\n",
      "626:\tlearn: 0.0984525\ttotal: 2.02s\tremaining: 1.2s\n",
      "627:\tlearn: 0.0984402\ttotal: 2.03s\tremaining: 1.2s\n",
      "628:\tlearn: 0.0982503\ttotal: 2.03s\tremaining: 1.2s\n",
      "629:\tlearn: 0.0980677\ttotal: 2.03s\tremaining: 1.19s\n",
      "630:\tlearn: 0.0979649\ttotal: 2.03s\tremaining: 1.19s\n",
      "631:\tlearn: 0.0977456\ttotal: 2.04s\tremaining: 1.19s\n",
      "632:\tlearn: 0.0975386\ttotal: 2.04s\tremaining: 1.18s\n",
      "633:\tlearn: 0.0974889\ttotal: 2.04s\tremaining: 1.18s\n",
      "634:\tlearn: 0.0972680\ttotal: 2.05s\tremaining: 1.18s\n",
      "635:\tlearn: 0.0972400\ttotal: 2.05s\tremaining: 1.17s\n",
      "636:\tlearn: 0.0970465\ttotal: 2.05s\tremaining: 1.17s\n",
      "637:\tlearn: 0.0967346\ttotal: 2.05s\tremaining: 1.17s\n",
      "638:\tlearn: 0.0966039\ttotal: 2.06s\tremaining: 1.16s\n",
      "639:\tlearn: 0.0963666\ttotal: 2.06s\tremaining: 1.16s\n",
      "640:\tlearn: 0.0962517\ttotal: 2.06s\tremaining: 1.15s\n",
      "641:\tlearn: 0.0960969\ttotal: 2.06s\tremaining: 1.15s\n",
      "642:\tlearn: 0.0959676\ttotal: 2.06s\tremaining: 1.15s\n",
      "643:\tlearn: 0.0957755\ttotal: 2.06s\tremaining: 1.14s\n",
      "644:\tlearn: 0.0956178\ttotal: 2.07s\tremaining: 1.14s\n",
      "645:\tlearn: 0.0954567\ttotal: 2.07s\tremaining: 1.13s\n"
     ]
    },
    {
     "name": "stdout",
     "output_type": "stream",
     "text": [
      "646:\tlearn: 0.0953126\ttotal: 2.07s\tremaining: 1.13s\n",
      "647:\tlearn: 0.0952338\ttotal: 2.07s\tremaining: 1.13s\n",
      "648:\tlearn: 0.0950031\ttotal: 2.08s\tremaining: 1.12s\n",
      "649:\tlearn: 0.0948258\ttotal: 2.08s\tremaining: 1.12s\n",
      "650:\tlearn: 0.0948152\ttotal: 2.08s\tremaining: 1.11s\n",
      "651:\tlearn: 0.0946537\ttotal: 2.1s\tremaining: 1.12s\n",
      "652:\tlearn: 0.0945073\ttotal: 2.1s\tremaining: 1.12s\n",
      "653:\tlearn: 0.0942984\ttotal: 2.11s\tremaining: 1.11s\n",
      "654:\tlearn: 0.0940624\ttotal: 2.11s\tremaining: 1.11s\n",
      "655:\tlearn: 0.0938712\ttotal: 2.11s\tremaining: 1.11s\n",
      "656:\tlearn: 0.0936851\ttotal: 2.11s\tremaining: 1.1s\n",
      "657:\tlearn: 0.0935622\ttotal: 2.12s\tremaining: 1.1s\n",
      "658:\tlearn: 0.0935260\ttotal: 2.12s\tremaining: 1.1s\n",
      "659:\tlearn: 0.0934265\ttotal: 2.12s\tremaining: 1.09s\n",
      "660:\tlearn: 0.0932075\ttotal: 2.12s\tremaining: 1.09s\n",
      "661:\tlearn: 0.0930257\ttotal: 2.13s\tremaining: 1.09s\n",
      "662:\tlearn: 0.0927991\ttotal: 2.13s\tremaining: 1.08s\n",
      "663:\tlearn: 0.0926568\ttotal: 2.13s\tremaining: 1.08s\n",
      "664:\tlearn: 0.0925670\ttotal: 2.13s\tremaining: 1.07s\n",
      "665:\tlearn: 0.0924503\ttotal: 2.14s\tremaining: 1.07s\n",
      "666:\tlearn: 0.0923207\ttotal: 2.14s\tremaining: 1.07s\n",
      "667:\tlearn: 0.0921374\ttotal: 2.14s\tremaining: 1.06s\n",
      "668:\tlearn: 0.0920562\ttotal: 2.14s\tremaining: 1.06s\n",
      "669:\tlearn: 0.0918813\ttotal: 2.15s\tremaining: 1.06s\n",
      "670:\tlearn: 0.0916780\ttotal: 2.15s\tremaining: 1.05s\n",
      "671:\tlearn: 0.0916679\ttotal: 2.15s\tremaining: 1.05s\n",
      "672:\tlearn: 0.0914452\ttotal: 2.15s\tremaining: 1.04s\n",
      "673:\tlearn: 0.0913272\ttotal: 2.15s\tremaining: 1.04s\n",
      "674:\tlearn: 0.0911555\ttotal: 2.15s\tremaining: 1.04s\n",
      "675:\tlearn: 0.0910739\ttotal: 2.16s\tremaining: 1.03s\n",
      "676:\tlearn: 0.0910400\ttotal: 2.16s\tremaining: 1.03s\n",
      "677:\tlearn: 0.0909847\ttotal: 2.16s\tremaining: 1.03s\n",
      "678:\tlearn: 0.0907351\ttotal: 2.18s\tremaining: 1.03s\n",
      "679:\tlearn: 0.0906379\ttotal: 2.19s\tremaining: 1.03s\n",
      "680:\tlearn: 0.0905481\ttotal: 2.19s\tremaining: 1.02s\n",
      "681:\tlearn: 0.0905155\ttotal: 2.19s\tremaining: 1.02s\n",
      "682:\tlearn: 0.0904063\ttotal: 2.19s\tremaining: 1.02s\n",
      "683:\tlearn: 0.0903862\ttotal: 2.2s\tremaining: 1.01s\n",
      "684:\tlearn: 0.0902820\ttotal: 2.2s\tremaining: 1.01s\n",
      "685:\tlearn: 0.0902714\ttotal: 2.2s\tremaining: 1.01s\n",
      "686:\tlearn: 0.0902590\ttotal: 2.2s\tremaining: 1s\n",
      "687:\tlearn: 0.0901116\ttotal: 2.21s\tremaining: 1s\n",
      "688:\tlearn: 0.0899097\ttotal: 2.21s\tremaining: 997ms\n",
      "689:\tlearn: 0.0898084\ttotal: 2.21s\tremaining: 994ms\n",
      "690:\tlearn: 0.0895902\ttotal: 2.23s\tremaining: 997ms\n",
      "691:\tlearn: 0.0895694\ttotal: 2.23s\tremaining: 993ms\n",
      "692:\tlearn: 0.0893300\ttotal: 2.23s\tremaining: 990ms\n",
      "693:\tlearn: 0.0891572\ttotal: 2.24s\tremaining: 986ms\n",
      "694:\tlearn: 0.0889826\ttotal: 2.24s\tremaining: 983ms\n"
     ]
    },
    {
     "name": "stdout",
     "output_type": "stream",
     "text": [
      "695:\tlearn: 0.0887476\ttotal: 2.24s\tremaining: 980ms\n",
      "696:\tlearn: 0.0886250\ttotal: 2.25s\tremaining: 976ms\n",
      "697:\tlearn: 0.0884870\ttotal: 2.25s\tremaining: 973ms\n",
      "698:\tlearn: 0.0883509\ttotal: 2.25s\tremaining: 969ms\n",
      "699:\tlearn: 0.0881531\ttotal: 2.25s\tremaining: 966ms\n",
      "700:\tlearn: 0.0879992\ttotal: 2.26s\tremaining: 962ms\n",
      "701:\tlearn: 0.0878113\ttotal: 2.26s\tremaining: 959ms\n",
      "702:\tlearn: 0.0877165\ttotal: 2.26s\tremaining: 956ms\n",
      "703:\tlearn: 0.0877005\ttotal: 2.26s\tremaining: 952ms\n",
      "704:\tlearn: 0.0875948\ttotal: 2.27s\tremaining: 948ms\n",
      "705:\tlearn: 0.0874872\ttotal: 2.27s\tremaining: 945ms\n",
      "706:\tlearn: 0.0873862\ttotal: 2.27s\tremaining: 942ms\n",
      "707:\tlearn: 0.0871713\ttotal: 2.27s\tremaining: 938ms\n",
      "708:\tlearn: 0.0870044\ttotal: 2.28s\tremaining: 935ms\n",
      "709:\tlearn: 0.0868893\ttotal: 2.28s\tremaining: 931ms\n",
      "710:\tlearn: 0.0867339\ttotal: 2.28s\tremaining: 928ms\n",
      "711:\tlearn: 0.0865841\ttotal: 2.29s\tremaining: 924ms\n",
      "712:\tlearn: 0.0865251\ttotal: 2.29s\tremaining: 921ms\n",
      "713:\tlearn: 0.0862687\ttotal: 2.29s\tremaining: 917ms\n",
      "714:\tlearn: 0.0860448\ttotal: 2.29s\tremaining: 914ms\n",
      "715:\tlearn: 0.0859505\ttotal: 2.29s\tremaining: 911ms\n",
      "716:\tlearn: 0.0859357\ttotal: 2.3s\tremaining: 907ms\n",
      "717:\tlearn: 0.0857231\ttotal: 2.3s\tremaining: 904ms\n",
      "718:\tlearn: 0.0856984\ttotal: 2.3s\tremaining: 900ms\n",
      "719:\tlearn: 0.0856904\ttotal: 2.3s\tremaining: 896ms\n",
      "720:\tlearn: 0.0855251\ttotal: 2.31s\tremaining: 893ms\n",
      "721:\tlearn: 0.0854644\ttotal: 2.31s\tremaining: 889ms\n",
      "722:\tlearn: 0.0853381\ttotal: 2.31s\tremaining: 886ms\n",
      "723:\tlearn: 0.0852697\ttotal: 2.31s\tremaining: 883ms\n",
      "724:\tlearn: 0.0851445\ttotal: 2.32s\tremaining: 879ms\n",
      "725:\tlearn: 0.0849227\ttotal: 2.32s\tremaining: 876ms\n",
      "726:\tlearn: 0.0847085\ttotal: 2.33s\tremaining: 874ms\n",
      "727:\tlearn: 0.0845293\ttotal: 2.33s\tremaining: 871ms\n",
      "728:\tlearn: 0.0844471\ttotal: 2.33s\tremaining: 867ms\n",
      "729:\tlearn: 0.0843093\ttotal: 2.33s\tremaining: 864ms\n",
      "730:\tlearn: 0.0842188\ttotal: 2.34s\tremaining: 860ms\n",
      "731:\tlearn: 0.0840831\ttotal: 2.34s\tremaining: 857ms\n",
      "732:\tlearn: 0.0838462\ttotal: 2.34s\tremaining: 853ms\n",
      "733:\tlearn: 0.0836492\ttotal: 2.35s\tremaining: 850ms\n",
      "734:\tlearn: 0.0835925\ttotal: 2.35s\tremaining: 847ms\n",
      "735:\tlearn: 0.0834472\ttotal: 2.35s\tremaining: 843ms\n",
      "736:\tlearn: 0.0833268\ttotal: 2.35s\tremaining: 840ms\n",
      "737:\tlearn: 0.0831222\ttotal: 2.35s\tremaining: 836ms\n",
      "738:\tlearn: 0.0828549\ttotal: 2.36s\tremaining: 833ms\n",
      "739:\tlearn: 0.0828440\ttotal: 2.36s\tremaining: 829ms\n",
      "740:\tlearn: 0.0827007\ttotal: 2.36s\tremaining: 826ms\n",
      "741:\tlearn: 0.0825747\ttotal: 2.37s\tremaining: 823ms\n",
      "742:\tlearn: 0.0823524\ttotal: 2.37s\tremaining: 819ms\n",
      "743:\tlearn: 0.0822445\ttotal: 2.37s\tremaining: 816ms\n",
      "744:\tlearn: 0.0820153\ttotal: 2.37s\tremaining: 812ms\n",
      "745:\tlearn: 0.0818542\ttotal: 2.38s\tremaining: 809ms\n",
      "746:\tlearn: 0.0817297\ttotal: 2.38s\tremaining: 805ms\n",
      "747:\tlearn: 0.0815751\ttotal: 2.38s\tremaining: 802ms\n",
      "748:\tlearn: 0.0814387\ttotal: 2.38s\tremaining: 799ms\n",
      "749:\tlearn: 0.0812605\ttotal: 2.38s\tremaining: 795ms\n",
      "750:\tlearn: 0.0812138\ttotal: 2.39s\tremaining: 792ms\n",
      "751:\tlearn: 0.0810762\ttotal: 2.39s\tremaining: 788ms\n"
     ]
    },
    {
     "name": "stdout",
     "output_type": "stream",
     "text": [
      "752:\tlearn: 0.0809600\ttotal: 2.39s\tremaining: 785ms\n",
      "753:\tlearn: 0.0808482\ttotal: 2.4s\tremaining: 782ms\n",
      "754:\tlearn: 0.0808020\ttotal: 2.4s\tremaining: 780ms\n",
      "755:\tlearn: 0.0806456\ttotal: 2.41s\tremaining: 777ms\n",
      "756:\tlearn: 0.0805114\ttotal: 2.41s\tremaining: 773ms\n",
      "757:\tlearn: 0.0803838\ttotal: 2.41s\tremaining: 770ms\n",
      "758:\tlearn: 0.0803015\ttotal: 2.41s\tremaining: 767ms\n",
      "759:\tlearn: 0.0801367\ttotal: 2.42s\tremaining: 763ms\n",
      "760:\tlearn: 0.0800884\ttotal: 2.42s\tremaining: 760ms\n",
      "761:\tlearn: 0.0799790\ttotal: 2.42s\tremaining: 756ms\n",
      "762:\tlearn: 0.0798995\ttotal: 2.42s\tremaining: 753ms\n",
      "763:\tlearn: 0.0797496\ttotal: 2.43s\tremaining: 750ms\n",
      "764:\tlearn: 0.0797010\ttotal: 2.43s\tremaining: 746ms\n",
      "765:\tlearn: 0.0795585\ttotal: 2.43s\tremaining: 743ms\n",
      "766:\tlearn: 0.0793946\ttotal: 2.43s\tremaining: 739ms\n",
      "767:\tlearn: 0.0792274\ttotal: 2.44s\tremaining: 736ms\n",
      "768:\tlearn: 0.0790926\ttotal: 2.44s\tremaining: 733ms\n",
      "769:\tlearn: 0.0789814\ttotal: 2.44s\tremaining: 729ms\n",
      "770:\tlearn: 0.0788217\ttotal: 2.44s\tremaining: 726ms\n",
      "771:\tlearn: 0.0786402\ttotal: 2.45s\tremaining: 723ms\n",
      "772:\tlearn: 0.0784638\ttotal: 2.45s\tremaining: 719ms\n",
      "773:\tlearn: 0.0782776\ttotal: 2.45s\tremaining: 716ms\n",
      "774:\tlearn: 0.0782245\ttotal: 2.45s\tremaining: 713ms\n",
      "775:\tlearn: 0.0781336\ttotal: 2.46s\tremaining: 709ms\n",
      "776:\tlearn: 0.0779727\ttotal: 2.46s\tremaining: 706ms\n",
      "777:\tlearn: 0.0778696\ttotal: 2.46s\tremaining: 702ms\n",
      "778:\tlearn: 0.0777350\ttotal: 2.46s\tremaining: 699ms\n",
      "779:\tlearn: 0.0775577\ttotal: 2.47s\tremaining: 696ms\n",
      "780:\tlearn: 0.0775221\ttotal: 2.47s\tremaining: 693ms\n",
      "781:\tlearn: 0.0773658\ttotal: 2.47s\tremaining: 689ms\n",
      "782:\tlearn: 0.0773365\ttotal: 2.47s\tremaining: 686ms\n",
      "783:\tlearn: 0.0771477\ttotal: 2.48s\tremaining: 683ms\n",
      "784:\tlearn: 0.0770122\ttotal: 2.48s\tremaining: 680ms\n",
      "785:\tlearn: 0.0769242\ttotal: 2.48s\tremaining: 677ms\n",
      "786:\tlearn: 0.0769104\ttotal: 2.49s\tremaining: 673ms\n",
      "787:\tlearn: 0.0767525\ttotal: 2.49s\tremaining: 670ms\n",
      "788:\tlearn: 0.0766530\ttotal: 2.49s\tremaining: 667ms\n",
      "789:\tlearn: 0.0765434\ttotal: 2.49s\tremaining: 663ms\n",
      "790:\tlearn: 0.0763644\ttotal: 2.5s\tremaining: 660ms\n",
      "791:\tlearn: 0.0762251\ttotal: 2.5s\tremaining: 657ms\n",
      "792:\tlearn: 0.0761874\ttotal: 2.51s\tremaining: 655ms\n",
      "793:\tlearn: 0.0760595\ttotal: 2.52s\tremaining: 653ms\n",
      "794:\tlearn: 0.0759260\ttotal: 2.52s\tremaining: 650ms\n",
      "795:\tlearn: 0.0757541\ttotal: 2.52s\tremaining: 647ms\n",
      "796:\tlearn: 0.0756020\ttotal: 2.53s\tremaining: 643ms\n",
      "797:\tlearn: 0.0755742\ttotal: 2.53s\tremaining: 640ms\n",
      "798:\tlearn: 0.0753772\ttotal: 2.53s\tremaining: 636ms\n",
      "799:\tlearn: 0.0752687\ttotal: 2.53s\tremaining: 633ms\n"
     ]
    },
    {
     "name": "stdout",
     "output_type": "stream",
     "text": [
      "800:\tlearn: 0.0751800\ttotal: 2.54s\tremaining: 630ms\n",
      "801:\tlearn: 0.0750736\ttotal: 2.54s\tremaining: 627ms\n",
      "802:\tlearn: 0.0749504\ttotal: 2.54s\tremaining: 624ms\n",
      "803:\tlearn: 0.0748999\ttotal: 2.54s\tremaining: 620ms\n",
      "804:\tlearn: 0.0748246\ttotal: 2.55s\tremaining: 617ms\n",
      "805:\tlearn: 0.0746548\ttotal: 2.55s\tremaining: 614ms\n",
      "806:\tlearn: 0.0745930\ttotal: 2.55s\tremaining: 610ms\n",
      "807:\tlearn: 0.0745239\ttotal: 2.55s\tremaining: 607ms\n",
      "808:\tlearn: 0.0744544\ttotal: 2.56s\tremaining: 604ms\n",
      "809:\tlearn: 0.0743835\ttotal: 2.56s\tremaining: 602ms\n",
      "810:\tlearn: 0.0743221\ttotal: 2.57s\tremaining: 599ms\n",
      "811:\tlearn: 0.0741629\ttotal: 2.58s\tremaining: 596ms\n",
      "812:\tlearn: 0.0740199\ttotal: 2.58s\tremaining: 593ms\n",
      "813:\tlearn: 0.0739069\ttotal: 2.58s\tremaining: 590ms\n",
      "814:\tlearn: 0.0737265\ttotal: 2.58s\tremaining: 586ms\n",
      "815:\tlearn: 0.0735458\ttotal: 2.58s\tremaining: 583ms\n",
      "816:\tlearn: 0.0734211\ttotal: 2.59s\tremaining: 580ms\n",
      "817:\tlearn: 0.0733341\ttotal: 2.59s\tremaining: 577ms\n",
      "818:\tlearn: 0.0732262\ttotal: 2.59s\tremaining: 573ms\n",
      "819:\tlearn: 0.0730869\ttotal: 2.59s\tremaining: 570ms\n",
      "820:\tlearn: 0.0729442\ttotal: 2.6s\tremaining: 567ms\n",
      "821:\tlearn: 0.0727566\ttotal: 2.62s\tremaining: 567ms\n",
      "822:\tlearn: 0.0725907\ttotal: 2.62s\tremaining: 564ms\n",
      "823:\tlearn: 0.0724564\ttotal: 2.62s\tremaining: 560ms\n",
      "824:\tlearn: 0.0723579\ttotal: 2.63s\tremaining: 557ms\n",
      "825:\tlearn: 0.0722472\ttotal: 2.63s\tremaining: 554ms\n",
      "826:\tlearn: 0.0721620\ttotal: 2.63s\tremaining: 550ms\n",
      "827:\tlearn: 0.0720824\ttotal: 2.63s\tremaining: 547ms\n",
      "828:\tlearn: 0.0719877\ttotal: 2.63s\tremaining: 544ms\n",
      "829:\tlearn: 0.0717688\ttotal: 2.64s\tremaining: 540ms\n",
      "830:\tlearn: 0.0715964\ttotal: 2.64s\tremaining: 537ms\n",
      "831:\tlearn: 0.0714902\ttotal: 2.64s\tremaining: 534ms\n",
      "832:\tlearn: 0.0714829\ttotal: 2.65s\tremaining: 531ms\n",
      "833:\tlearn: 0.0713198\ttotal: 2.65s\tremaining: 527ms\n",
      "834:\tlearn: 0.0711671\ttotal: 2.65s\tremaining: 524ms\n",
      "835:\tlearn: 0.0710420\ttotal: 2.65s\tremaining: 521ms\n",
      "836:\tlearn: 0.0708119\ttotal: 2.65s\tremaining: 517ms\n",
      "837:\tlearn: 0.0707032\ttotal: 2.66s\tremaining: 514ms\n",
      "838:\tlearn: 0.0705591\ttotal: 2.66s\tremaining: 511ms\n",
      "839:\tlearn: 0.0704856\ttotal: 2.66s\tremaining: 507ms\n",
      "840:\tlearn: 0.0703778\ttotal: 2.67s\tremaining: 504ms\n",
      "841:\tlearn: 0.0702144\ttotal: 2.67s\tremaining: 501ms\n",
      "842:\tlearn: 0.0701890\ttotal: 2.67s\tremaining: 498ms\n",
      "843:\tlearn: 0.0700635\ttotal: 2.67s\tremaining: 494ms\n",
      "844:\tlearn: 0.0699465\ttotal: 2.68s\tremaining: 491ms\n",
      "845:\tlearn: 0.0698100\ttotal: 2.68s\tremaining: 488ms\n",
      "846:\tlearn: 0.0696596\ttotal: 2.68s\tremaining: 484ms\n",
      "847:\tlearn: 0.0695541\ttotal: 2.68s\tremaining: 481ms\n",
      "848:\tlearn: 0.0694248\ttotal: 2.69s\tremaining: 478ms\n",
      "849:\tlearn: 0.0692877\ttotal: 2.69s\tremaining: 474ms\n",
      "850:\tlearn: 0.0691193\ttotal: 2.69s\tremaining: 471ms\n",
      "851:\tlearn: 0.0689699\ttotal: 2.69s\tremaining: 468ms\n",
      "852:\tlearn: 0.0687803\ttotal: 2.7s\tremaining: 466ms\n"
     ]
    },
    {
     "name": "stdout",
     "output_type": "stream",
     "text": [
      "853:\tlearn: 0.0686599\ttotal: 2.71s\tremaining: 464ms\n",
      "854:\tlearn: 0.0685646\ttotal: 2.71s\tremaining: 460ms\n",
      "855:\tlearn: 0.0684453\ttotal: 2.72s\tremaining: 457ms\n",
      "856:\tlearn: 0.0683122\ttotal: 2.72s\tremaining: 454ms\n",
      "857:\tlearn: 0.0681802\ttotal: 2.72s\tremaining: 450ms\n",
      "858:\tlearn: 0.0680580\ttotal: 2.72s\tremaining: 447ms\n",
      "859:\tlearn: 0.0679274\ttotal: 2.73s\tremaining: 444ms\n",
      "860:\tlearn: 0.0678086\ttotal: 2.73s\tremaining: 441ms\n",
      "861:\tlearn: 0.0677056\ttotal: 2.73s\tremaining: 437ms\n",
      "862:\tlearn: 0.0675776\ttotal: 2.73s\tremaining: 434ms\n",
      "863:\tlearn: 0.0674929\ttotal: 2.74s\tremaining: 431ms\n",
      "864:\tlearn: 0.0673826\ttotal: 2.74s\tremaining: 428ms\n",
      "865:\tlearn: 0.0672631\ttotal: 2.74s\tremaining: 424ms\n",
      "866:\tlearn: 0.0671629\ttotal: 2.76s\tremaining: 423ms\n",
      "867:\tlearn: 0.0671537\ttotal: 2.76s\tremaining: 420ms\n",
      "868:\tlearn: 0.0670076\ttotal: 2.77s\tremaining: 417ms\n",
      "869:\tlearn: 0.0668972\ttotal: 2.77s\tremaining: 414ms\n",
      "870:\tlearn: 0.0668129\ttotal: 2.77s\tremaining: 410ms\n",
      "871:\tlearn: 0.0667167\ttotal: 2.77s\tremaining: 407ms\n",
      "872:\tlearn: 0.0666172\ttotal: 2.78s\tremaining: 404ms\n",
      "873:\tlearn: 0.0664830\ttotal: 2.78s\tremaining: 401ms\n",
      "874:\tlearn: 0.0663633\ttotal: 2.79s\tremaining: 398ms\n",
      "875:\tlearn: 0.0662321\ttotal: 2.79s\tremaining: 395ms\n",
      "876:\tlearn: 0.0662219\ttotal: 2.79s\tremaining: 392ms\n",
      "877:\tlearn: 0.0661080\ttotal: 2.79s\tremaining: 388ms\n",
      "878:\tlearn: 0.0660988\ttotal: 2.8s\tremaining: 385ms\n",
      "879:\tlearn: 0.0660353\ttotal: 2.8s\tremaining: 382ms\n",
      "880:\tlearn: 0.0659140\ttotal: 2.8s\tremaining: 379ms\n",
      "881:\tlearn: 0.0657754\ttotal: 2.81s\tremaining: 375ms\n",
      "882:\tlearn: 0.0656484\ttotal: 2.81s\tremaining: 372ms\n",
      "883:\tlearn: 0.0655386\ttotal: 2.81s\tremaining: 369ms\n",
      "884:\tlearn: 0.0654080\ttotal: 2.81s\tremaining: 366ms\n",
      "885:\tlearn: 0.0653137\ttotal: 2.82s\tremaining: 362ms\n",
      "886:\tlearn: 0.0651750\ttotal: 2.82s\tremaining: 359ms\n",
      "887:\tlearn: 0.0650660\ttotal: 2.82s\tremaining: 356ms\n",
      "888:\tlearn: 0.0650243\ttotal: 2.82s\tremaining: 353ms\n",
      "889:\tlearn: 0.0648902\ttotal: 2.83s\tremaining: 349ms\n",
      "890:\tlearn: 0.0648061\ttotal: 2.83s\tremaining: 346ms\n",
      "891:\tlearn: 0.0647396\ttotal: 2.83s\tremaining: 343ms\n",
      "892:\tlearn: 0.0646646\ttotal: 2.83s\tremaining: 339ms\n",
      "893:\tlearn: 0.0645754\ttotal: 2.83s\tremaining: 336ms\n",
      "894:\tlearn: 0.0644389\ttotal: 2.84s\tremaining: 333ms\n",
      "895:\tlearn: 0.0643346\ttotal: 2.84s\tremaining: 330ms\n",
      "896:\tlearn: 0.0642571\ttotal: 2.84s\tremaining: 326ms\n",
      "897:\tlearn: 0.0641479\ttotal: 2.85s\tremaining: 323ms\n",
      "898:\tlearn: 0.0640265\ttotal: 2.85s\tremaining: 320ms\n",
      "899:\tlearn: 0.0638781\ttotal: 2.87s\tremaining: 319ms\n",
      "900:\tlearn: 0.0638150\ttotal: 2.87s\tremaining: 316ms\n"
     ]
    },
    {
     "name": "stdout",
     "output_type": "stream",
     "text": [
      "901:\tlearn: 0.0636805\ttotal: 2.88s\tremaining: 312ms\n",
      "902:\tlearn: 0.0635421\ttotal: 2.88s\tremaining: 309ms\n",
      "903:\tlearn: 0.0634100\ttotal: 2.88s\tremaining: 306ms\n",
      "904:\tlearn: 0.0633132\ttotal: 2.88s\tremaining: 303ms\n",
      "905:\tlearn: 0.0631741\ttotal: 2.89s\tremaining: 299ms\n",
      "906:\tlearn: 0.0631160\ttotal: 2.89s\tremaining: 296ms\n",
      "907:\tlearn: 0.0630290\ttotal: 2.89s\tremaining: 293ms\n",
      "908:\tlearn: 0.0629203\ttotal: 2.89s\tremaining: 290ms\n",
      "909:\tlearn: 0.0628269\ttotal: 2.9s\tremaining: 286ms\n",
      "910:\tlearn: 0.0627103\ttotal: 2.9s\tremaining: 283ms\n",
      "911:\tlearn: 0.0626260\ttotal: 2.9s\tremaining: 280ms\n",
      "912:\tlearn: 0.0624858\ttotal: 2.9s\tremaining: 277ms\n",
      "913:\tlearn: 0.0624190\ttotal: 2.91s\tremaining: 273ms\n",
      "914:\tlearn: 0.0623242\ttotal: 2.91s\tremaining: 270ms\n",
      "915:\tlearn: 0.0622396\ttotal: 2.91s\tremaining: 267ms\n",
      "916:\tlearn: 0.0621860\ttotal: 2.91s\tremaining: 264ms\n",
      "917:\tlearn: 0.0621321\ttotal: 2.92s\tremaining: 261ms\n",
      "918:\tlearn: 0.0620369\ttotal: 2.92s\tremaining: 257ms\n",
      "919:\tlearn: 0.0619241\ttotal: 2.92s\tremaining: 254ms\n",
      "920:\tlearn: 0.0617899\ttotal: 2.92s\tremaining: 251ms\n",
      "921:\tlearn: 0.0617810\ttotal: 2.93s\tremaining: 248ms\n",
      "922:\tlearn: 0.0616765\ttotal: 2.93s\tremaining: 244ms\n",
      "923:\tlearn: 0.0616138\ttotal: 2.94s\tremaining: 242ms\n",
      "924:\tlearn: 0.0614857\ttotal: 2.95s\tremaining: 239ms\n",
      "925:\tlearn: 0.0613837\ttotal: 2.95s\tremaining: 236ms\n",
      "926:\tlearn: 0.0613608\ttotal: 2.95s\tremaining: 232ms\n",
      "927:\tlearn: 0.0612568\ttotal: 2.96s\tremaining: 229ms\n",
      "928:\tlearn: 0.0611008\ttotal: 2.96s\tremaining: 226ms\n",
      "929:\tlearn: 0.0610022\ttotal: 2.96s\tremaining: 223ms\n",
      "930:\tlearn: 0.0608775\ttotal: 2.96s\tremaining: 220ms\n",
      "931:\tlearn: 0.0608041\ttotal: 2.96s\tremaining: 216ms\n",
      "932:\tlearn: 0.0607168\ttotal: 2.97s\tremaining: 213ms\n",
      "933:\tlearn: 0.0606753\ttotal: 2.97s\tremaining: 210ms\n",
      "934:\tlearn: 0.0605677\ttotal: 2.97s\tremaining: 207ms\n",
      "935:\tlearn: 0.0604728\ttotal: 2.99s\tremaining: 204ms\n",
      "936:\tlearn: 0.0603745\ttotal: 2.99s\tremaining: 201ms\n",
      "937:\tlearn: 0.0602771\ttotal: 2.99s\tremaining: 198ms\n",
      "938:\tlearn: 0.0601543\ttotal: 3s\tremaining: 195ms\n",
      "939:\tlearn: 0.0600887\ttotal: 3s\tremaining: 191ms\n",
      "940:\tlearn: 0.0600033\ttotal: 3s\tremaining: 188ms\n",
      "941:\tlearn: 0.0598779\ttotal: 3s\tremaining: 185ms\n",
      "942:\tlearn: 0.0597729\ttotal: 3s\tremaining: 182ms\n",
      "943:\tlearn: 0.0596226\ttotal: 3.01s\tremaining: 178ms\n",
      "944:\tlearn: 0.0595412\ttotal: 3.01s\tremaining: 175ms\n",
      "945:\tlearn: 0.0594357\ttotal: 3.01s\tremaining: 172ms\n",
      "946:\tlearn: 0.0593626\ttotal: 3.02s\tremaining: 169ms\n",
      "947:\tlearn: 0.0592570\ttotal: 3.02s\tremaining: 166ms\n",
      "948:\tlearn: 0.0591456\ttotal: 3.02s\tremaining: 162ms\n",
      "949:\tlearn: 0.0590469\ttotal: 3.03s\tremaining: 159ms\n",
      "950:\tlearn: 0.0589264\ttotal: 3.03s\tremaining: 156ms\n",
      "951:\tlearn: 0.0588578\ttotal: 3.03s\tremaining: 153ms\n",
      "952:\tlearn: 0.0588219\ttotal: 3.03s\tremaining: 150ms\n",
      "953:\tlearn: 0.0587182\ttotal: 3.04s\tremaining: 146ms\n",
      "954:\tlearn: 0.0586640\ttotal: 3.04s\tremaining: 143ms\n",
      "955:\tlearn: 0.0585687\ttotal: 3.04s\tremaining: 140ms\n",
      "956:\tlearn: 0.0584122\ttotal: 3.04s\tremaining: 137ms\n",
      "957:\tlearn: 0.0583080\ttotal: 3.04s\tremaining: 134ms\n",
      "958:\tlearn: 0.0582066\ttotal: 3.05s\tremaining: 130ms\n"
     ]
    },
    {
     "name": "stdout",
     "output_type": "stream",
     "text": [
      "959:\tlearn: 0.0580768\ttotal: 3.05s\tremaining: 127ms\n",
      "960:\tlearn: 0.0579829\ttotal: 3.05s\tremaining: 124ms\n",
      "961:\tlearn: 0.0578879\ttotal: 3.06s\tremaining: 121ms\n",
      "962:\tlearn: 0.0577946\ttotal: 3.06s\tremaining: 118ms\n",
      "963:\tlearn: 0.0577172\ttotal: 3.06s\tremaining: 114ms\n",
      "964:\tlearn: 0.0576256\ttotal: 3.06s\tremaining: 111ms\n",
      "965:\tlearn: 0.0575465\ttotal: 3.07s\tremaining: 108ms\n",
      "966:\tlearn: 0.0574581\ttotal: 3.08s\tremaining: 105ms\n",
      "967:\tlearn: 0.0573777\ttotal: 3.08s\tremaining: 102ms\n",
      "968:\tlearn: 0.0572668\ttotal: 3.08s\tremaining: 98.7ms\n",
      "969:\tlearn: 0.0571958\ttotal: 3.09s\tremaining: 95.5ms\n",
      "970:\tlearn: 0.0571229\ttotal: 3.09s\tremaining: 92.3ms\n",
      "971:\tlearn: 0.0570856\ttotal: 3.09s\tremaining: 89.1ms\n",
      "972:\tlearn: 0.0570310\ttotal: 3.09s\tremaining: 85.9ms\n",
      "973:\tlearn: 0.0569094\ttotal: 3.1s\tremaining: 82.7ms\n",
      "974:\tlearn: 0.0568378\ttotal: 3.1s\tremaining: 79.5ms\n",
      "975:\tlearn: 0.0567517\ttotal: 3.1s\tremaining: 76.3ms\n",
      "976:\tlearn: 0.0566564\ttotal: 3.1s\tremaining: 73.1ms\n",
      "977:\tlearn: 0.0564954\ttotal: 3.11s\tremaining: 69.9ms\n",
      "978:\tlearn: 0.0564272\ttotal: 3.11s\tremaining: 66.7ms\n",
      "979:\tlearn: 0.0563286\ttotal: 3.11s\tremaining: 63.5ms\n",
      "980:\tlearn: 0.0561922\ttotal: 3.12s\tremaining: 60.3ms\n",
      "981:\tlearn: 0.0560786\ttotal: 3.12s\tremaining: 57.1ms\n",
      "982:\tlearn: 0.0560463\ttotal: 3.12s\tremaining: 53.9ms\n",
      "983:\tlearn: 0.0559775\ttotal: 3.12s\tremaining: 50.8ms\n",
      "984:\tlearn: 0.0559064\ttotal: 3.12s\tremaining: 47.6ms\n",
      "985:\tlearn: 0.0557562\ttotal: 3.13s\tremaining: 44.4ms\n",
      "986:\tlearn: 0.0556952\ttotal: 3.13s\tremaining: 41.2ms\n",
      "987:\tlearn: 0.0556587\ttotal: 3.13s\tremaining: 38ms\n",
      "988:\tlearn: 0.0555116\ttotal: 3.13s\tremaining: 34.8ms\n",
      "989:\tlearn: 0.0554763\ttotal: 3.13s\tremaining: 31.6ms\n",
      "990:\tlearn: 0.0553554\ttotal: 3.13s\tremaining: 28.5ms\n",
      "991:\tlearn: 0.0552831\ttotal: 3.14s\tremaining: 25.3ms\n",
      "992:\tlearn: 0.0551901\ttotal: 3.14s\tremaining: 22.1ms\n",
      "993:\tlearn: 0.0551205\ttotal: 3.14s\tremaining: 19ms\n",
      "994:\tlearn: 0.0550627\ttotal: 3.15s\tremaining: 15.8ms\n",
      "995:\tlearn: 0.0549527\ttotal: 3.15s\tremaining: 12.7ms\n",
      "996:\tlearn: 0.0549278\ttotal: 3.15s\tremaining: 9.49ms\n",
      "997:\tlearn: 0.0548038\ttotal: 3.16s\tremaining: 6.33ms\n",
      "998:\tlearn: 0.0546424\ttotal: 3.16s\tremaining: 3.16ms\n",
      "999:\tlearn: 0.0545277\ttotal: 3.16s\tremaining: 0us\n"
     ]
    },
    {
     "data": {
      "text/plain": [
       "<catboost.core.CatBoostRegressor at 0x7fd45c86a2e0>"
      ]
     },
     "execution_count": 9,
     "metadata": {},
     "output_type": "execute_result"
    }
   ],
   "source": [
    "#Train the Model \n",
    "prior_model = ctb.CatBoostRegressor()\n",
    "prior_model.fit(X_train,Y_train)"
   ]
  },
  {
   "cell_type": "code",
   "execution_count": 10,
   "id": "af65dcda",
   "metadata": {
    "execution": {
     "iopub.execute_input": "2022-07-22T19:47:49.167517Z",
     "iopub.status.busy": "2022-07-22T19:47:49.166939Z",
     "iopub.status.idle": "2022-07-22T19:47:49.244702Z",
     "shell.execute_reply": "2022-07-22T19:47:49.243587Z"
    },
    "id": "af65dcda",
    "papermill": {
     "duration": 0.099023,
     "end_time": "2022-07-22T19:47:49.247919",
     "exception": false,
     "start_time": "2022-07-22T19:47:49.148896",
     "status": "completed"
    },
    "tags": []
   },
   "outputs": [
    {
     "data": {
      "application/scrapbook.scrap.json+json": {
       "data": 0.08831187544525423,
       "encoder": "json",
       "name": "Prior Model MSE",
       "version": 1
      }
     },
     "metadata": {
      "scrapbook": {
       "data": true,
       "display": false,
       "name": "Prior Model MSE"
      }
     },
     "output_type": "display_data"
    },
    {
     "data": {
      "application/scrapbook.scrap.json+json": {
       "data": 0.08773460943136774,
       "encoder": "json",
       "name": "ABC Pre-generator MSE",
       "version": 1
      }
     },
     "metadata": {
      "scrapbook": {
       "data": true,
       "display": false,
       "name": "ABC Pre-generator MSE"
      }
     },
     "output_type": "display_data"
    },
    {
     "data": {
      "application/scrapbook.scrap.json+json": {
       "data": 0.1950626951997422,
       "encoder": "json",
       "name": "Prior Model MAE",
       "version": 1
      }
     },
     "metadata": {
      "scrapbook": {
       "data": true,
       "display": false,
       "name": "Prior Model MAE"
      }
     },
     "output_type": "display_data"
    },
    {
     "name": "stdout",
     "output_type": "stream",
     "text": [
      "Prior Model MAE 0.1950626951997422\n",
      "ABC Pre-generator MAE 0.1948766639915296\n"
     ]
    }
   ],
   "source": [
    "y_pred = prior_model.predict(X_test)\n",
    "y_abc = y_pred + np.random.normal(0,variance, y_pred.shape) + bias \n",
    "mse = mean_squared_error(y_pred,Y_test)\n",
    "sb.glue(\"Prior Model MSE\",mse)\n",
    "mse = mean_squared_error(y_abc,Y_test)\n",
    "sb.glue(\"ABC Pre-generator MSE\",mse)\n",
    "mae = mean_absolute_error(y_pred,Y_test)\n",
    "sb.glue(\"Prior Model MAE\",mae)\n",
    "print(\"Prior Model MAE\",mae)\n",
    "mae = mean_absolute_error(y_abc,Y_test)\n",
    "print(\"ABC Pre-generator MAE\",mae)"
   ]
  },
  {
   "cell_type": "markdown",
   "id": "25609da2",
   "metadata": {
    "papermill": {
     "duration": 0.024844,
     "end_time": "2022-07-22T19:47:49.284111",
     "exception": false,
     "start_time": "2022-07-22T19:47:49.259267",
     "status": "completed"
    },
    "tags": []
   },
   "source": [
    "# mGAN Model"
   ]
  },
  {
   "cell_type": "code",
   "execution_count": 11,
   "id": "dfc3464d",
   "metadata": {
    "execution": {
     "iopub.execute_input": "2022-07-22T19:47:49.337777Z",
     "iopub.status.busy": "2022-07-22T19:47:49.337325Z",
     "iopub.status.idle": "2022-07-22T19:47:49.342612Z",
     "shell.execute_reply": "2022-07-22T19:47:49.341741Z"
    },
    "papermill": {
     "duration": 0.04738,
     "end_time": "2022-07-22T19:47:49.345893",
     "exception": false,
     "start_time": "2022-07-22T19:47:49.298513",
     "status": "completed"
    },
    "tags": []
   },
   "outputs": [],
   "source": [
    "# gen = network.Generator(n_features+1).to(device)\n",
    "# disc = network.Discriminator(n_features+1).to(device)\n",
    "\n",
    "# criterion = torch.nn.BCELoss()\n",
    "# gen_opt = torch.optim.Adam(gen.parameters(), lr=0.01, betas=(0.5, 0.999))\n",
    "# disc_opt = torch.optim.Adam(disc.parameters(), lr=0.01, betas=(0.5, 0.999))"
   ]
  },
  {
   "cell_type": "code",
   "execution_count": 12,
   "id": "b75fdd85",
   "metadata": {
    "execution": {
     "iopub.execute_input": "2022-07-22T19:47:49.388592Z",
     "iopub.status.busy": "2022-07-22T19:47:49.388221Z",
     "iopub.status.idle": "2022-07-22T19:47:49.393614Z",
     "shell.execute_reply": "2022-07-22T19:47:49.392732Z"
    },
    "papermill": {
     "duration": 0.03833,
     "end_time": "2022-07-22T19:47:49.396680",
     "exception": false,
     "start_time": "2022-07-22T19:47:49.358350",
     "status": "completed"
    },
    "tags": []
   },
   "outputs": [],
   "source": [
    "#Training the ABC_GAN \n",
    "# ABC_train_test2.training_GAN(disc,gen,disc_opt,gen_opt,train_data,batch_size,n_epochs,criterion,prior_model,variance,bias,device)"
   ]
  },
  {
   "cell_type": "code",
   "execution_count": 13,
   "id": "1fa7c368",
   "metadata": {
    "execution": {
     "iopub.execute_input": "2022-07-22T19:47:49.450415Z",
     "iopub.status.busy": "2022-07-22T19:47:49.450053Z",
     "iopub.status.idle": "2022-07-22T19:47:49.454553Z",
     "shell.execute_reply": "2022-07-22T19:47:49.453551Z"
    },
    "papermill": {
     "duration": 0.05001,
     "end_time": "2022-07-22T19:47:49.458506",
     "exception": false,
     "start_time": "2022-07-22T19:47:49.408496",
     "status": "completed"
    },
    "tags": []
   },
   "outputs": [],
   "source": [
    "# ABC_GAN1_metrics=ABC_train_test2.test_generator(gen,test_data,prior_model,variance,bias,\"1\",device)\n",
    "# sb.glue(\"ABC_GAN_1 Metrics\",ABC_GAN1_metrics)\n",
    "\n",
    "# print(\"MAE\")\n",
    "# print(mean(ABC_GAN1_metrics[1]))"
   ]
  },
  {
   "cell_type": "code",
   "execution_count": 14,
   "id": "eb22ce5c",
   "metadata": {
    "execution": {
     "iopub.execute_input": "2022-07-22T19:47:49.491111Z",
     "iopub.status.busy": "2022-07-22T19:47:49.488071Z",
     "iopub.status.idle": "2022-07-22T19:47:49.494881Z",
     "shell.execute_reply": "2022-07-22T19:47:49.493972Z"
    },
    "papermill": {
     "duration": 0.024548,
     "end_time": "2022-07-22T19:47:49.498654",
     "exception": false,
     "start_time": "2022-07-22T19:47:49.474106",
     "status": "completed"
    },
    "tags": []
   },
   "outputs": [],
   "source": [
    "# sanityChecks.discProbVsError(train_data,disc,device)\n",
    "# sanityChecks.discProbVsError(test_data,disc,device)"
   ]
  },
  {
   "cell_type": "markdown",
   "id": "45eee30a",
   "metadata": {
    "papermill": {
     "duration": 0.030612,
     "end_time": "2022-07-22T19:47:49.544085",
     "exception": false,
     "start_time": "2022-07-22T19:47:49.513473",
     "status": "completed"
    },
    "tags": []
   },
   "source": [
    "# mGAN Model with TabNet Generator"
   ]
  },
  {
   "cell_type": "code",
   "execution_count": 15,
   "id": "ac90f48c",
   "metadata": {
    "execution": {
     "iopub.execute_input": "2022-07-22T19:47:49.571238Z",
     "iopub.status.busy": "2022-07-22T19:47:49.570860Z",
     "iopub.status.idle": "2022-07-22T19:47:49.595856Z",
     "shell.execute_reply": "2022-07-22T19:47:49.592388Z"
    },
    "papermill": {
     "duration": 0.045051,
     "end_time": "2022-07-22T19:47:49.601040",
     "exception": false,
     "start_time": "2022-07-22T19:47:49.555989",
     "status": "completed"
    },
    "tags": []
   },
   "outputs": [],
   "source": [
    "gen2 = network.GeneratorTabnet(n_features+1).to(device)\n",
    "disc2 = network.Discriminator(n_features+1).to(device)\n",
    "\n",
    "criterion = torch.nn.BCELoss()\n",
    "gen_opt = torch.optim.Adam(gen2.parameters(), lr=0.01, betas=(0.5, 0.999))\n",
    "disc_opt = torch.optim.Adam(disc2.parameters(), lr=0.01, betas=(0.5, 0.999))"
   ]
  },
  {
   "cell_type": "code",
   "execution_count": 16,
   "id": "cd7b1ead",
   "metadata": {
    "execution": {
     "iopub.execute_input": "2022-07-22T19:47:49.645251Z",
     "iopub.status.busy": "2022-07-22T19:47:49.644893Z",
     "iopub.status.idle": "2022-07-22T19:58:20.247631Z",
     "shell.execute_reply": "2022-07-22T19:58:20.245630Z"
    },
    "papermill": {
     "duration": 630.64438,
     "end_time": "2022-07-22T19:58:20.260552",
     "exception": false,
     "start_time": "2022-07-22T19:47:49.616172",
     "status": "completed"
    },
    "tags": []
   },
   "outputs": [
    {
     "data": {
      "image/png": "[encoded data removed]",
      "text/plain": [
       "<Figure size 432x288 with 1 Axes>"
      ]
     },
     "metadata": {
      "needs_background": "light"
     },
     "output_type": "display_data"
    },
    {
     "data": {
      "image/png": "[encoded data removed]",
      "text/plain": [
       "<Figure size 432x288 with 1 Axes>"
      ]
     },
     "metadata": {
      "needs_background": "light"
     },
     "output_type": "display_data"
    }
   ],
   "source": [
    "#Training the ABC_GAN \n",
    "ABC_train_test2.training_GAN(disc2,gen2,disc_opt,gen_opt,train_data,batch_size,n_epochs,criterion,prior_model,variance,bias,device)"
   ]
  },
  {
   "cell_type": "code",
   "execution_count": 17,
   "id": "ca71a8de",
   "metadata": {
    "execution": {
     "iopub.execute_input": "2022-07-22T19:58:20.303352Z",
     "iopub.status.busy": "2022-07-22T19:58:20.302263Z",
     "iopub.status.idle": "2022-07-22T19:58:21.838488Z",
     "shell.execute_reply": "2022-07-22T19:58:21.837444Z"
    },
    "papermill": {
     "duration": 1.566605,
     "end_time": "2022-07-22T19:58:21.841070",
     "exception": false,
     "start_time": "2022-07-22T19:58:20.274465",
     "status": "completed"
    },
    "tags": []
   },
   "outputs": [
    {
     "data": {
      "application/scrapbook.scrap.json+json": {
       "data": 0.10845422534134057,
       "encoder": "json",
       "name": "ABC-GAN Model 1 MSE",
       "version": 1
      }
     },
     "metadata": {
      "scrapbook": {
       "data": true,
       "display": false,
       "name": "ABC-GAN Model 1 MSE"
      }
     },
     "output_type": "display_data"
    },
    {
     "data": {
      "application/scrapbook.scrap.json+json": {
       "data": 0.20963236410189054,
       "encoder": "json",
       "name": "ABC-GAN Model 1 MAE",
       "version": 1
      }
     },
     "metadata": {
      "scrapbook": {
       "data": true,
       "display": false,
       "name": "ABC-GAN Model 1 MAE"
      }
     },
     "output_type": "display_data"
    },
    {
     "data": {
      "application/scrapbook.scrap.json+json": {
       "data": 21.382501138392836,
       "encoder": "json",
       "name": "ABC-GAN Model 1 Manhattan Distance",
       "version": 1
      }
     },
     "metadata": {
      "scrapbook": {
       "data": true,
       "display": false,
       "name": "ABC-GAN Model 1 Manhattan Distance"
      }
     },
     "output_type": "display_data"
    },
    {
     "data": {
      "application/scrapbook.scrap.json+json": {
       "data": 3.325985778223081,
       "encoder": "json",
       "name": "ABC-GAN Model 1 Euclidean distance",
       "version": 1
      }
     },
     "metadata": {
      "scrapbook": {
       "data": true,
       "display": false,
       "name": "ABC-GAN Model 1 Euclidean distance"
      }
     },
     "output_type": "display_data"
    },
    {
     "data": {
      "application/scrapbook.scrap.json+json": {
       "data": [
        [
         0.10856861656265,
         0.10858647578751181,
         0.10734890045187853,
         0.10763347970519604,
         0.10768825820895352,
         0.10837202341233021,
         0.10946575730802764,
         0.10950814101456338,
         0.10816178078072448,
         0.10849406734758849,
         0.10922028609395096,
         0.10869781129621955,
         0.10853719157807447,
         0.10815387250007634,
         0.1074144739982344,
         0.10792241427361493,
         0.10831131031950011,
         0.1066980866075247,
         0.10870985919729378,
         0.10807527359782287,
         0.11021041999694345,
         0.10842100385867243,
         0.10879260841176774,
         0.10787819328181199,
         0.10870788670090885,
         0.10877135983497249,
         0.10829198010135918,
         0.10794497535516631,
         0.10975704010462359,
         0.10874867298109765,
         0.10816784812453918,
         0.1079826254799541,
         0.1079842346300747,
         0.1080696710776083,
         0.1092534855205366,
         0.10834151353211909,
         0.1072362445184148,
         0.10756482258872577,
         0.10692888755788185,
         0.10834683985091674,
         0.10880713348747946,
         0.10927053394675097,
         0.10874470225203581,
         0.10881933516474876,
         0.10909820040016474,
         0.10768873348347005,
         0.10939913817625643,
         0.10922832733917034,
         0.10974645449088652,
         0.1083401809330877,
         0.10887443938468344,
         0.10882348362447404,
         0.10817023602376526,
         0.1088463867702677,
         0.10968988523086769,
         0.10800891549240564,
         0.1099233920611059,
         0.10900482919018077,
         0.10900613451901793,
         0.10804323881872266,
         0.10854157009570617,
         0.1073558343917176,
         0.10929542759597013,
         0.10818270670930294,
         0.11030970197321553,
         0.10875500195325666,
         0.1071052994365589,
         0.10893177956525356,
         0.10870647512954446,
         0.10786195525265631,
         0.10778337474119955,
         0.10805133436205672,
         0.10764071128119686,
         0.11016997735667731,
         0.1084275927256347,
         0.10921752192032855,
         0.10793757709339756,
         0.10958465747306971,
         0.10767678413178794,
         0.1072304134057022,
         0.10869489023767312,
         0.10643655821674276,
         0.10949152057538952,
         0.10869763135712888,
         0.10822470707449323,
         0.10914077767928497,
         0.10872064882220683,
         0.10868867548096624,
         0.10917775074472015,
         0.10957624475632453,
         0.1078635206259431,
         0.10785132874768759,
         0.10886814166975207,
         0.10786745774301512,
         0.10867814195130576,
         0.10778293815076413,
         0.10824573949102957,
         0.10793352419253983,
         0.10798116857737863,
         0.10623339710610524
        ],
        [
         0.2092428354400338,
         0.20802652032351962,
         0.2086542159976328,
         0.2084316179777185,
         0.20876147159758737,
         0.20849474294878104,
         0.2108279977943383,
         0.2108874872107716,
         0.20897601829732165,
         0.21090459109594425,
         0.20945640521890976,
         0.20972448731681295,
         0.21010975563423892,
         0.20898925741294436,
         0.20870703970100365,
         0.20758265932547112,
         0.20962091659506163,
         0.20877592046471202,
         0.20989403194364378,
         0.2105052951796382,
         0.211770595599185,
         0.20933451806651612,
         0.20973774412756457,
         0.2090536015035183,
         0.20909778724479325,
         0.21093494499869206,
         0.209694224245408,
         0.20868919490306986,
         0.21111054957716488,
         0.2094299870305786,
         0.21036965836423868,
         0.20944993577751458,
         0.2080265795994623,
         0.20968118644155123,
         0.2108373494782284,
         0.2089698481209138,
         0.20825112632968845,
         0.20758688148549376,
         0.20698746856228978,
         0.20937568838616796,
         0.21261340896507688,
         0.21010191212682164,
         0.21018609552479842,
         0.2102243723347783,
         0.2108698934134023,
         0.20882528759173902,
         0.2099010011948207,
         0.2106239659090837,
         0.2114435795000663,
         0.20883255985145474,
         0.21012917190205818,
         0.20888885689497577,
         0.2081195823483023,
         0.2099976115951351,
         0.21181473658219271,
         0.2087095593485762,
         0.21073442142383725,
         0.21095757379981817,
         0.21086696427607654,
         0.20872126888556808,
         0.21042372059880518,
         0.2080748457571163,
         0.20974618868500577,
         0.20840496989880122,
         0.20978660107243294,
         0.21025310748932408,
         0.20747841500184117,
         0.2106377021318265,
         0.20895739232062124,
         0.20813220666319715,
         0.20928401003281275,
         0.20966440439224243,
         0.20941389587653034,
         0.2126354076077833,
         0.20957982078121573,
         0.2097185137590357,
         0.20818706842906334,
         0.21184357746924257,
         0.20934571665437782,
         0.20791954379163535,
         0.21037561307642974,
         0.2082230562307671,
         0.2095893883675921,
         0.2096611333317032,
         0.21019977705516651,
         0.21051456578368066,
         0.21067345456457606,
         0.2089623286589688,
         0.21033944364856272,
         0.2100891076284004,
         0.20989990721949758,
         0.20948471990870496,
         0.21237675836492403,
         0.21004597585210028,
         0.20872415872473343,
         0.20982400932367526,
         0.21040715879815466,
         0.20922003432597017,
         0.2104539117027147,
         0.2071608384231142
        ],
        [
         21.342769214883447,
         21.218705072999,
         21.282730031758547,
         21.26002503372729,
         21.29367010295391,
         21.266463780775666,
         21.504455775022507,
         21.510523695498705,
         21.31555386632681,
         21.512268291786313,
         21.364553332328796,
         21.39189770631492,
         21.43119507469237,
         21.316904256120324,
         21.288118049502373,
         21.173431251198053,
         21.381333492696285,
         21.295143887400627,
         21.409191258251667,
         21.471540108323097,
         21.600600751116872,
         21.352120842784643,
         21.393249901011586,
         21.323467353358865,
         21.32797429896891,
         21.51536438986659,
         21.388810873031616,
         21.286297880113125,
         21.533276056870818,
         21.361858677119017,
         21.457705153152347,
         21.363893449306488,
         21.218711119145155,
         21.387481017038226,
         21.5054096467793,
         21.314924508333206,
         21.241614885628223,
         21.173861911520362,
         21.112721793353558,
         21.356320215389132,
         21.686567714437842,
         21.430395036935806,
         21.43898174352944,
         21.442885978147388,
         21.508729128167033,
         21.30017933435738,
         21.40990212187171,
         21.483644522726536,
         21.567245109006763,
         21.300921104848385,
         21.433175534009933,
         21.30666340328753,
         21.228197399526834,
         21.41975638270378,
         21.605103131383657,
         21.288375053554773,
         21.4949109852314,
         21.517672527581453,
         21.508430356159806,
         21.289569426327944,
         21.46321950107813,
         21.22363426722586,
         21.39411124587059,
         21.257306929677725,
         21.39823330938816,
         21.445816963911057,
         21.162798330187798,
         21.485045617446303,
         21.313654016703367,
         21.22948507964611,
         21.3469690233469,
         21.385769248008728,
         21.360217379406095,
         21.688811575993896,
         21.377141719684005,
         21.39128840342164,
         21.23508097976446,
         21.60804490186274,
         21.353263098746538,
         21.207793466746807,
         21.458312533795834,
         21.238751735538244,
         21.378117613494396,
         21.385435599833727,
         21.440377259626985,
         21.472485709935427,
         21.488692365586758,
         21.314157523214817,
         21.454623252153397,
         21.429088978096843,
         21.409790536388755,
         21.367441430687904,
         21.66242935322225,
         21.42468953691423,
         21.28986418992281,
         21.402048951014876,
         21.461530197411776,
         21.340443501248956,
         21.4662989936769,
         21.130405519157648
        ],
        [
         3.3277618438509537,
         3.328035536217455,
         3.3090161447311814,
         3.313399301311267,
         3.3142423474020815,
         3.324747567569255,
         3.3414827914293994,
         3.342129617995906,
         3.321520982868224,
         3.3266191350159127,
         3.3377341388407484,
         3.329741244032994,
         3.327280201750913,
         3.321399553653216,
         3.3100266385362977,
         3.3178436153484876,
         3.323816127975344,
         3.298970268730458,
         3.329925770662758,
         3.320192450292292,
         3.352829079999192,
         3.325498818761568,
         3.33119288814087,
         3.317163805835464,
         3.3298955604482097,
         3.3308675601361255,
         3.3235195155645822,
         3.3181903933058092,
         3.345925595507407,
         3.330520176199501,
         3.321614142055485,
         3.3187690186205057,
         3.3187937465693187,
         3.320106391354958,
         3.3382413817899286,
         3.324279527999435,
         3.3072793865771777,
         3.3123423591244348,
         3.302536378437632,
         3.324361241621238,
         3.331415257172678,
         3.338501829049761,
         3.3304593721749023,
         3.3316020450834714,
         3.335868168980423,
         3.314249660981191,
         3.340465849844622,
         3.337857005414608,
         3.3457642412564614,
         3.3242590836417887,
         3.3324454710073965,
         3.331665548895379,
         3.321650805612182,
         3.3320161239956962,
         3.344901836160293,
         3.319172996429286,
         3.3484602416980853,
         3.3344403694470883,
         3.334460334287967,
         3.319700341824501,
         3.3273473142673318,
         3.309123011910435,
         3.3388820905789633,
         3.3218422726476495,
         3.35433892164581,
         3.330617089854698,
         3.3052595272578835,
         3.333322893998699,
         3.32987394103944,
         3.3169141435634026,
         3.3157056901363173,
         3.3198247099703586,
         3.3135106082042474,
         3.3522138491422475,
         3.325599864387587,
         3.3376919024789435,
         3.318076681381332,
         3.343297034702885,
         3.314065778080207,
         3.3071894665080226,
         3.3296965033231865,
         3.2949247241944333,
         3.341875984935666,
         3.3297384879937857,
         3.3224870385899634,
         3.33651904284796,
         3.3300910167539106,
         3.329601312328332,
         3.337084142775164,
         3.3431687012690667,
         3.3169382122442665,
         3.3167507491917645,
         3.332349088903308,
         3.3169987473298113,
         3.3294399647738326,
         3.315698974783136,
         3.322809869385399,
         3.318014386291756,
         3.318746630113937,
         3.291778623301198
        ]
       ],
       "encoder": "json",
       "name": "ABC_GAN_2 Metrics",
       "version": 1
      }
     },
     "metadata": {
      "scrapbook": {
       "data": true,
       "display": false,
       "name": "ABC_GAN_2 Metrics"
      }
     },
     "output_type": "display_data"
    },
    {
     "name": "stdout",
     "output_type": "stream",
     "text": [
      "MAE\n",
      "0.20963236410189054\n"
     ]
    }
   ],
   "source": [
    "ABC_GAN2_metrics=ABC_train_test2.test_generator(gen2,test_data,prior_model,variance,bias,\"1\",device)\n",
    "sb.glue(\"ABC_GAN_2 Metrics\",ABC_GAN2_metrics)\n",
    "\n",
    "print(\"MAE\")\n",
    "print(mean(ABC_GAN2_metrics[1]))"
   ]
  },
  {
   "cell_type": "code",
   "execution_count": 18,
   "id": "048e2361",
   "metadata": {
    "execution": {
     "iopub.execute_input": "2022-07-22T19:58:21.900582Z",
     "iopub.status.busy": "2022-07-22T19:58:21.900120Z",
     "iopub.status.idle": "2022-07-22T19:58:22.764329Z",
     "shell.execute_reply": "2022-07-22T19:58:22.762943Z"
    },
    "papermill": {
     "duration": 0.910844,
     "end_time": "2022-07-22T19:58:22.767216",
     "exception": false,
     "start_time": "2022-07-22T19:58:21.856372",
     "status": "completed"
    },
    "tags": []
   },
   "outputs": [
    {
     "data": {
      "image/png": "[encoded data removed]",
      "text/plain": [
       "<Figure size 432x288 with 1 Axes>"
      ]
     },
     "metadata": {
      "needs_background": "light"
     },
     "output_type": "display_data"
    },
    {
     "data": {
      "image/png": "[encoded data removed]",
      "text/plain": [
       "<Figure size 432x288 with 1 Axes>"
      ]
     },
     "metadata": {
      "needs_background": "light"
     },
     "output_type": "display_data"
    },
    {
     "data": {
      "image/png": "[encoded data removed]",
      "text/plain": [
       "<Figure size 432x288 with 1 Axes>"
      ]
     },
     "metadata": {
      "needs_background": "light"
     },
     "output_type": "display_data"
    },
    {
     "data": {
      "image/png": "[encoded data removed]",
      "text/plain": [
       "<Figure size 432x288 with 1 Axes>"
      ]
     },
     "metadata": {
      "needs_background": "light"
     },
     "output_type": "display_data"
    }
   ],
   "source": [
    "sanityChecks.discProbVsError(train_data,disc2,device)\n",
    "sanityChecks.discProbVsError(test_data,disc2,device)"
   ]
  },
  {
   "cell_type": "markdown",
   "id": "130f3a4d",
   "metadata": {
    "id": "130f3a4d",
    "papermill": {
     "duration": 0.017012,
     "end_time": "2022-07-22T19:58:22.801456",
     "exception": false,
     "start_time": "2022-07-22T19:58:22.784444",
     "status": "completed"
    },
    "tags": []
   },
   "source": [
    "# skipGAN Model"
   ]
  },
  {
   "cell_type": "code",
   "execution_count": 19,
   "id": "4e43dad1",
   "metadata": {
    "execution": {
     "iopub.execute_input": "2022-07-22T19:58:22.842167Z",
     "iopub.status.busy": "2022-07-22T19:58:22.841698Z",
     "iopub.status.idle": "2022-07-22T19:58:22.847494Z",
     "shell.execute_reply": "2022-07-22T19:58:22.846103Z"
    },
    "id": "4e43dad1",
    "papermill": {
     "duration": 0.033707,
     "end_time": "2022-07-22T19:58:22.852393",
     "exception": false,
     "start_time": "2022-07-22T19:58:22.818686",
     "status": "completed"
    },
    "tags": []
   },
   "outputs": [],
   "source": [
    "# #Generator\n",
    "# gen3 = network.GeneratorWithSkipConnection(n_features+1).to(device)\n",
    "# constraints=network.weightConstraint()\n",
    "# #Discriminator \n",
    "# disc3 = network.Discriminator(n_features+1).to(device)\n",
    "\n",
    "# criterion = torch.nn.BCELoss()\n",
    "# gen_opt = torch.optim.Adam(gen3.parameters(), lr=0.01, betas=(0.5, 0.999))\n",
    "# disc_opt = torch.optim.Adam(disc3.parameters(), lr=0.01, betas=(0.5, 0.999))\n"
   ]
  },
  {
   "cell_type": "markdown",
   "id": "aef6c598",
   "metadata": {
    "tags": [
     "papermill-error-cell-tag"
    ]
   },
   "source": [
    "<span id=\"papermill-error-cell\" style=\"color:red; font-family:Helvetica Neue, Helvetica, Arial, sans-serif; font-size:2em;\">Execution using papermill encountered an exception here and stopped:</span>"
   ]
  },
  {
   "cell_type": "code",
   "execution_count": 20,
   "id": "26acbc37",
   "metadata": {
    "execution": {
     "iopub.execute_input": "2022-07-22T19:58:22.889484Z",
     "iopub.status.busy": "2022-07-22T19:58:22.888991Z",
     "iopub.status.idle": "2022-07-22T19:58:24.027868Z",
     "shell.execute_reply": "2022-07-22T19:58:24.025296Z"
    },
    "id": "26acbc37",
    "papermill": {
     "duration": 1.159202,
     "end_time": "2022-07-22T19:58:24.030200",
     "exception": true,
     "start_time": "2022-07-22T19:58:22.870998",
     "status": "failed"
    },
    "tags": []
   },
   "outputs": [
    {
     "ename": "NameError",
     "evalue": "name 'disc3' is not defined",
     "output_type": "error",
     "traceback": [
      "\u001b[0;31m---------------------------------------------------------------------------\u001b[0m",
      "\u001b[0;31mNameError\u001b[0m                                 Traceback (most recent call last)",
      "Input \u001b[0;32mIn [20]\u001b[0m, in \u001b[0;36m<cell line: 1>\u001b[0;34m()\u001b[0m\n\u001b[0;32m----> 1\u001b[0m ABC_train_test2\u001b[38;5;241m.\u001b[39mtraining_GAN_skip_connection(\u001b[43mdisc3\u001b[49m,gen3,disc_opt,gen_opt,train_data,batch_size,n_epochs,criterion,prior_model,variance,bias,device)\n",
      "\u001b[0;31mNameError\u001b[0m: name 'disc3' is not defined"
     ]
    }
   ],
   "source": [
    "ABC_train_test2.training_GAN_skip_connection(disc3,gen3,disc_opt,gen_opt,train_data,batch_size,n_epochs,criterion,prior_model,variance,bias,device)"
   ]
  },
  {
   "cell_type": "code",
   "execution_count": null,
   "id": "c5e0717b",
   "metadata": {
    "id": "c5e0717b",
    "papermill": {
     "duration": null,
     "end_time": null,
     "exception": null,
     "start_time": null,
     "status": "pending"
    },
    "tags": []
   },
   "outputs": [],
   "source": [
    "# ABC_GAN3_metrics=ABC_train_test2.test_generator(gen3,test_data,prior_model,variance,bias,\"3\",device)\n",
    "# sb.glue(\"ABC_GAN_3 Metrics\",ABC_GAN3_metrics)\n",
    "\n",
    "# print(\"MAE\")\n",
    "# print(mean(ABC_GAN3_metrics[1]))"
   ]
  },
  {
   "cell_type": "code",
   "execution_count": null,
   "id": "c8e46b48",
   "metadata": {
    "id": "c8e46b48",
    "papermill": {
     "duration": null,
     "end_time": null,
     "exception": null,
     "start_time": null,
     "status": "pending"
    },
    "tags": []
   },
   "outputs": [],
   "source": [
    "# sanityChecks.discProbVsError(train_data,disc3,device)\n",
    "# sanityChecks.discProbVsError(test_data,disc3,device)"
   ]
  },
  {
   "cell_type": "markdown",
   "id": "58adf707",
   "metadata": {
    "id": "130f3a4d",
    "papermill": {
     "duration": null,
     "end_time": null,
     "exception": null,
     "start_time": null,
     "status": "pending"
    },
    "tags": []
   },
   "source": [
    "# skipGAN Model with TabNet Generator"
   ]
  },
  {
   "cell_type": "code",
   "execution_count": null,
   "id": "5639aa95",
   "metadata": {
    "id": "4e43dad1",
    "papermill": {
     "duration": null,
     "end_time": null,
     "exception": null,
     "start_time": null,
     "status": "pending"
    },
    "tags": []
   },
   "outputs": [],
   "source": [
    "# #Generator\n",
    "# gen4 = network.GeneratorTabnetskipConnection(n_features+1).to(device)\n",
    "# constraints=network.weightConstraint()\n",
    "# #Discriminator \n",
    "# disc4 = network.Discriminator(n_features+1).to(device)\n",
    "\n",
    "# criterion = torch.nn.BCELoss()\n",
    "# gen_opt = torch.optim.Adam(gen4.parameters(), lr=0.01, betas=(0.5, 0.999))\n",
    "# disc_opt = torch.optim.Adam(disc4.parameters(), lr=0.01, betas=(0.5, 0.999))\n"
   ]
  },
  {
   "cell_type": "code",
   "execution_count": null,
   "id": "4f8b15f8",
   "metadata": {
    "id": "26acbc37",
    "papermill": {
     "duration": null,
     "end_time": null,
     "exception": null,
     "start_time": null,
     "status": "pending"
    },
    "tags": []
   },
   "outputs": [],
   "source": [
    "# ABC_train_test2.training_GAN_skip_connection(disc4,gen4,disc_opt,gen_opt,train_data,batch_size,n_epochs,criterion,prior_model,variance,bias,device)"
   ]
  },
  {
   "cell_type": "code",
   "execution_count": null,
   "id": "fae82d56",
   "metadata": {
    "id": "c5e0717b",
    "papermill": {
     "duration": null,
     "end_time": null,
     "exception": null,
     "start_time": null,
     "status": "pending"
    },
    "tags": []
   },
   "outputs": [],
   "source": [
    "# ABC_GAN4_metrics=ABC_train_test2.test_generator(gen4,test_data,prior_model,variance,bias,\"3\",device)\n",
    "# sb.glue(\"ABC_GAN_4 Metrics\",ABC_GAN4_metrics)\n",
    "\n",
    "# print(\"MAE\")\n",
    "# print(mean(ABC_GAN4_metrics[1]))"
   ]
  },
  {
   "cell_type": "code",
   "execution_count": null,
   "id": "4dfcceba",
   "metadata": {
    "id": "c8e46b48",
    "papermill": {
     "duration": null,
     "end_time": null,
     "exception": null,
     "start_time": null,
     "status": "pending"
    },
    "tags": []
   },
   "outputs": [],
   "source": [
    "# sanityChecks.discProbVsError(train_data,disc4,device)\n",
    "# sanityChecks.discProbVsError(test_data,disc4,device)"
   ]
  },
  {
   "cell_type": "markdown",
   "id": "a5bd74c3",
   "metadata": {
    "id": "a5bd74c3",
    "papermill": {
     "duration": null,
     "end_time": null,
     "exception": null,
     "start_time": null,
     "status": "pending"
    },
    "tags": []
   },
   "source": [
    "## Skip Connection Model Analysis - ABC-GAN "
   ]
  },
  {
   "cell_type": "markdown",
   "id": "5744a8bf",
   "metadata": {
    "id": "5744a8bf",
    "papermill": {
     "duration": null,
     "end_time": null,
     "exception": null,
     "start_time": null,
     "status": "pending"
    },
    "tags": []
   },
   "source": [
    "### Weight Analysis \n",
    "\n",
    "Study the weights of the skip connection layer\n",
    "\n",
    "Equation of the skip connection is \n",
    "\n",
    "$output = y_{gan} * w + y_{abc} * (1-w)$"
   ]
  },
  {
   "cell_type": "code",
   "execution_count": null,
   "id": "52c31dea",
   "metadata": {
    "id": "52c31dea",
    "papermill": {
     "duration": null,
     "end_time": null,
     "exception": null,
     "start_time": null,
     "status": "pending"
    },
    "tags": []
   },
   "outputs": [],
   "source": [
    "# print(\"Weight of the node at skip connection\")\n",
    "# for name,param in gen3.named_parameters():\n",
    "#     if(name == \"skipNode.weight\"):\n",
    "#         print(param)\n",
    "#         sb.glue(\"Skip Connection Weight\",param.item())"
   ]
  },
  {
   "cell_type": "markdown",
   "id": "1384d0e3",
   "metadata": {
    "id": "a5bd74c3",
    "papermill": {
     "duration": null,
     "end_time": null,
     "exception": null,
     "start_time": null,
     "status": "pending"
    },
    "tags": []
   },
   "source": [
    "## skipGAN Model Analysis (TabNet Generator) "
   ]
  },
  {
   "cell_type": "markdown",
   "id": "ac0a1220",
   "metadata": {
    "id": "5744a8bf",
    "papermill": {
     "duration": null,
     "end_time": null,
     "exception": null,
     "start_time": null,
     "status": "pending"
    },
    "tags": []
   },
   "source": [
    "### Weight Analysis \n",
    "\n",
    "Study the weights of the skip connection layer\n",
    "\n",
    "Equation of the skip connection is \n",
    "\n",
    "$output = y_{gan} * w + y_{abc} * (1-w)$"
   ]
  },
  {
   "cell_type": "code",
   "execution_count": null,
   "id": "cad27fb3",
   "metadata": {
    "id": "52c31dea",
    "papermill": {
     "duration": null,
     "end_time": null,
     "exception": null,
     "start_time": null,
     "status": "pending"
    },
    "tags": []
   },
   "outputs": [],
   "source": [
    "# print(\"Weight of the node at skip connection\")\n",
    "# for name,param in gen4.named_parameters():\n",
    "#     if(name == \"skipNode.weight\"):\n",
    "#         print(param)\n",
    "#         sb.glue(\"Skip Connection Weight\",param.item())"
   ]
  }
 ],
 "metadata": {
  "colab": {
   "collapsed_sections": [],
   "name": "ABC_GAN_Model-Catboost_Pre-gen.ipynb",
   "provenance": []
  },
  "interpreter": {
   "hash": "31f2aee4e71d21fbe5cf8b01ff0e069b9275f58929596ceb00d14d90e3e16cd6"
  },
  "kernelspec": {
   "display_name": "Python 3 (ipykernel)",
   "language": "python",
   "name": "python3"
  },
  "language_info": {
   "codemirror_mode": {
    "name": "ipython",
    "version": 3
   },
   "file_extension": ".py",
   "mimetype": "text/x-python",
   "name": "python",
   "nbconvert_exporter": "python",
   "pygments_lexer": "ipython3",
   "version": "3.8.13"
  },
  "papermill": {
   "default_parameters": {},
   "duration": 651.60793,
   "end_time": "2022-07-22T19:58:25.225848",
   "environment_variables": {},
   "exception": true,
   "input_path": "ABC_GAN-Catboost.ipynb",
   "output_path": "./ABC_GAN_Catboost/ABC-GAN_output_1_11.ipynb",
   "parameters": {
    "bias": 0,
    "variance": 0.01
   },
   "start_time": "2022-07-22T19:47:33.617918",
   "version": "2.3.3"
  }
 },
 "nbformat": 4,
 "nbformat_minor": 5
}