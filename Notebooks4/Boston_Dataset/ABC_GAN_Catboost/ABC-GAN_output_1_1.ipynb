{
 "cells": [
  {
   "cell_type": "markdown",
   "id": "ce0b2b1c",
   "metadata": {
    "tags": [
     "papermill-error-cell-tag"
    ]
   },
   "source": [
    "<span style=\"color:red; font-family:Helvetica Neue, Helvetica, Arial, sans-serif; font-size:2em;\">An Exception was encountered at '<a href=\"#papermill-error-cell\">In [20]</a>'.</span>"
   ]
  },
  {
   "cell_type": "markdown",
   "id": "622780e6",
   "metadata": {
    "id": "622780e6",
    "papermill": {
     "duration": 0.013743,
     "end_time": "2022-07-22T17:55:51.467395",
     "exception": false,
     "start_time": "2022-07-22T17:55:51.453652",
     "status": "completed"
    },
    "tags": []
   },
   "source": [
    "## Import Libraries "
   ]
  },
  {
   "cell_type": "code",
   "execution_count": 1,
   "id": "a62397e3",
   "metadata": {
    "execution": {
     "iopub.execute_input": "2022-07-22T17:55:51.497861Z",
     "iopub.status.busy": "2022-07-22T17:55:51.493874Z",
     "iopub.status.idle": "2022-07-22T17:55:51.519084Z",
     "shell.execute_reply": "2022-07-22T17:55:51.517939Z"
    },
    "id": "a62397e3",
    "papermill": {
     "duration": 0.042762,
     "end_time": "2022-07-22T17:55:51.522582",
     "exception": false,
     "start_time": "2022-07-22T17:55:51.479820",
     "status": "completed"
    },
    "tags": []
   },
   "outputs": [],
   "source": [
    "import warnings\n",
    "import sys\n",
    "sys.path.insert(0, '../../src')\n",
    "warnings.filterwarnings('ignore')"
   ]
  },
  {
   "cell_type": "code",
   "execution_count": 2,
   "id": "d6a4e155",
   "metadata": {
    "execution": {
     "iopub.execute_input": "2022-07-22T17:55:51.544337Z",
     "iopub.status.busy": "2022-07-22T17:55:51.543754Z",
     "iopub.status.idle": "2022-07-22T17:56:03.110937Z",
     "shell.execute_reply": "2022-07-22T17:56:03.107298Z"
    },
    "id": "d6a4e155",
    "papermill": {
     "duration": 11.587449,
     "end_time": "2022-07-22T17:56:03.118290",
     "exception": false,
     "start_time": "2022-07-22T17:55:51.530841",
     "status": "completed"
    },
    "tags": []
   },
   "outputs": [],
   "source": [
    "import ABC_train_test2\n",
    "import bostonDataset\n",
    "import network\n",
    "import dataset\n",
    "import sanityChecks\n",
    "import torch \n",
    "import scrapbook as sb\n",
    "from statistics import mean \n",
    "import catboost as ctb \n",
    "from sklearn.model_selection import train_test_split\n",
    "from sklearn.metrics import mean_squared_error,mean_absolute_error\n",
    "import numpy as np"
   ]
  },
  {
   "cell_type": "markdown",
   "id": "2fa5b0f7",
   "metadata": {
    "id": "2fa5b0f7",
    "papermill": {
     "duration": 0.012615,
     "end_time": "2022-07-22T17:56:03.159905",
     "exception": false,
     "start_time": "2022-07-22T17:56:03.147290",
     "status": "completed"
    },
    "tags": []
   },
   "source": [
    "## Parameters "
   ]
  },
  {
   "cell_type": "code",
   "execution_count": 3,
   "id": "783186fb",
   "metadata": {
    "execution": {
     "iopub.execute_input": "2022-07-22T17:56:03.179518Z",
     "iopub.status.busy": "2022-07-22T17:56:03.179220Z",
     "iopub.status.idle": "2022-07-22T17:56:03.183740Z",
     "shell.execute_reply": "2022-07-22T17:56:03.182024Z"
    },
    "id": "783186fb",
    "papermill": {
     "duration": 0.019349,
     "end_time": "2022-07-22T17:56:03.188015",
     "exception": false,
     "start_time": "2022-07-22T17:56:03.168666",
     "status": "completed"
    },
    "tags": [
     "parameters"
    ]
   },
   "outputs": [],
   "source": [
    "variance = 1\n",
    "bias = 1 "
   ]
  },
  {
   "cell_type": "code",
   "execution_count": 4,
   "id": "458fca7d",
   "metadata": {
    "execution": {
     "iopub.execute_input": "2022-07-22T17:56:03.205843Z",
     "iopub.status.busy": "2022-07-22T17:56:03.205393Z",
     "iopub.status.idle": "2022-07-22T17:56:03.210056Z",
     "shell.execute_reply": "2022-07-22T17:56:03.209186Z"
    },
    "papermill": {
     "duration": 0.018579,
     "end_time": "2022-07-22T17:56:03.214522",
     "exception": false,
     "start_time": "2022-07-22T17:56:03.195943",
     "status": "completed"
    },
    "tags": [
     "injected-parameters"
    ]
   },
   "outputs": [],
   "source": [
    "# Parameters\n",
    "variance = 0.1\n",
    "bias = 1\n"
   ]
  },
  {
   "cell_type": "markdown",
   "id": "391cdbfd",
   "metadata": {
    "id": "391cdbfd",
    "papermill": {
     "duration": 0.007139,
     "end_time": "2022-07-22T17:56:03.228977",
     "exception": false,
     "start_time": "2022-07-22T17:56:03.221838",
     "status": "completed"
    },
    "tags": []
   },
   "source": [
    "## Dataset \n"
   ]
  },
  {
   "cell_type": "code",
   "execution_count": 5,
   "id": "5b51f161",
   "metadata": {
    "execution": {
     "iopub.execute_input": "2022-07-22T17:56:03.244082Z",
     "iopub.status.busy": "2022-07-22T17:56:03.243743Z",
     "iopub.status.idle": "2022-07-22T17:56:03.247612Z",
     "shell.execute_reply": "2022-07-22T17:56:03.246929Z"
    },
    "id": "5b51f161",
    "papermill": {
     "duration": 0.014463,
     "end_time": "2022-07-22T17:56:03.249996",
     "exception": false,
     "start_time": "2022-07-22T17:56:03.235533",
     "status": "completed"
    },
    "tags": []
   },
   "outputs": [],
   "source": [
    "#Parameters \n",
    "n_features = 13\n",
    "n_samples= 506\n",
    "n_target = 1 "
   ]
  },
  {
   "cell_type": "code",
   "execution_count": 6,
   "id": "5d6eced4",
   "metadata": {
    "execution": {
     "iopub.execute_input": "2022-07-22T17:56:03.278451Z",
     "iopub.status.busy": "2022-07-22T17:56:03.277874Z",
     "iopub.status.idle": "2022-07-22T17:56:03.319216Z",
     "shell.execute_reply": "2022-07-22T17:56:03.317630Z"
    },
    "id": "5d6eced4",
    "papermill": {
     "duration": 0.06239,
     "end_time": "2022-07-22T17:56:03.321788",
     "exception": false,
     "start_time": "2022-07-22T17:56:03.259398",
     "status": "completed"
    },
    "tags": []
   },
   "outputs": [
    {
     "name": "stdout",
     "output_type": "stream",
     "text": [
      "         X1        X2        X3        X4        X5        X6        X7  \\\n",
      "0 -0.419782  0.284830 -1.287909 -0.272599 -0.144217  0.413672 -0.120013   \n",
      "1 -0.417339 -0.487722 -0.593381 -0.272599 -0.740262  0.194274  0.367166   \n",
      "2 -0.417342 -0.487722 -0.593381 -0.272599 -0.740262  1.282714 -0.265812   \n",
      "3 -0.416750 -0.487722 -1.306878 -0.272599 -0.835284  1.016303 -0.809889   \n",
      "4 -0.412482 -0.487722 -1.306878 -0.272599 -0.835284  1.228577 -0.511180   \n",
      "\n",
      "         X8        X9       X10       X11       X12       X13         Y  \n",
      "0  0.140214 -0.982843 -0.666608 -1.459000  0.441052 -1.075562  0.159686  \n",
      "1  0.557160 -0.867883 -0.987329 -0.303094  0.441052 -0.492439 -0.101524  \n",
      "2  0.557160 -0.867883 -0.987329 -0.303094  0.396427 -1.208727  1.324247  \n",
      "3  1.077737 -0.752922 -1.106115  0.113032  0.416163 -1.361517  1.182758  \n",
      "4  1.077737 -0.752922 -1.106115  0.113032  0.441052 -1.026501  1.487503  \n"
     ]
    }
   ],
   "source": [
    "X,Y = bostonDataset.boston_data()"
   ]
  },
  {
   "cell_type": "code",
   "execution_count": 7,
   "id": "fe007438",
   "metadata": {
    "execution": {
     "iopub.execute_input": "2022-07-22T17:56:03.337232Z",
     "iopub.status.busy": "2022-07-22T17:56:03.336931Z",
     "iopub.status.idle": "2022-07-22T17:56:03.344380Z",
     "shell.execute_reply": "2022-07-22T17:56:03.342803Z"
    },
    "id": "fe007438",
    "papermill": {
     "duration": 0.018358,
     "end_time": "2022-07-22T17:56:03.347088",
     "exception": false,
     "start_time": "2022-07-22T17:56:03.328730",
     "status": "completed"
    },
    "tags": []
   },
   "outputs": [],
   "source": [
    "#Train test split for dataset \n",
    "X_train,X_test,Y_train,Y_test = train_test_split(X,Y,test_size = 0.2)\n",
    "train_data = dataset.CustomDataset(X_train,Y_train)\n",
    "test_data = dataset.CustomDataset(X_test,Y_test)\n"
   ]
  },
  {
   "cell_type": "markdown",
   "id": "a9a1af34",
   "metadata": {
    "id": "a9a1af34",
    "papermill": {
     "duration": 0.00698,
     "end_time": "2022-07-22T17:56:03.361578",
     "exception": false,
     "start_time": "2022-07-22T17:56:03.354598",
     "status": "completed"
    },
    "tags": []
   },
   "source": [
    "## Training Parameters "
   ]
  },
  {
   "cell_type": "code",
   "execution_count": 8,
   "id": "952b7fc8",
   "metadata": {
    "execution": {
     "iopub.execute_input": "2022-07-22T17:56:03.380647Z",
     "iopub.status.busy": "2022-07-22T17:56:03.380142Z",
     "iopub.status.idle": "2022-07-22T17:56:03.389182Z",
     "shell.execute_reply": "2022-07-22T17:56:03.387639Z"
    },
    "id": "952b7fc8",
    "papermill": {
     "duration": 0.026101,
     "end_time": "2022-07-22T17:56:03.394654",
     "exception": false,
     "start_time": "2022-07-22T17:56:03.368553",
     "status": "completed"
    },
    "tags": []
   },
   "outputs": [],
   "source": [
    "batch_size = 32\n",
    "n_epochs = 1000\n",
    "#Select the device \n",
    "device = torch.device('cuda' if torch.cuda.is_available() else 'cpu')"
   ]
  },
  {
   "cell_type": "markdown",
   "id": "a95e1600",
   "metadata": {
    "id": "a95e1600",
    "papermill": {
     "duration": 0.007687,
     "end_time": "2022-07-22T17:56:03.410888",
     "exception": false,
     "start_time": "2022-07-22T17:56:03.403201",
     "status": "completed"
    },
    "tags": []
   },
   "source": [
    "# ABC Pre-generator Model \n",
    "\n",
    "1. The catboost model is used as a pre-generator model for the ABC-GAN. \n",
    "2. The model is first trained on the entire dataset \n",
    "3. It generats X,Y pairs and we add some Gaussian noise with mean 0 and variance 1 to it which is then feed as input to the generator.\n"
   ]
  },
  {
   "cell_type": "code",
   "execution_count": 9,
   "id": "ff8ce7bd",
   "metadata": {
    "execution": {
     "iopub.execute_input": "2022-07-22T17:56:03.427504Z",
     "iopub.status.busy": "2022-07-22T17:56:03.427219Z",
     "iopub.status.idle": "2022-07-22T17:56:08.844568Z",
     "shell.execute_reply": "2022-07-22T17:56:08.843885Z"
    },
    "id": "ff8ce7bd",
    "papermill": {
     "duration": 5.42856,
     "end_time": "2022-07-22T17:56:08.846819",
     "exception": false,
     "start_time": "2022-07-22T17:56:03.418259",
     "status": "completed"
    },
    "tags": []
   },
   "outputs": [
    {
     "name": "stdout",
     "output_type": "stream",
     "text": [
      "Learning rate set to 0.03548\n"
     ]
    },
    {
     "name": "stdout",
     "output_type": "stream",
     "text": [
      "0:\tlearn: 0.9797577\ttotal: 94.7ms\tremaining: 1m 34s\n",
      "1:\tlearn: 0.9591203\ttotal: 106ms\tremaining: 52.8s\n",
      "2:\tlearn: 0.9372531\ttotal: 118ms\tremaining: 39.3s\n",
      "3:\tlearn: 0.9199589\ttotal: 130ms\tremaining: 32.4s\n",
      "4:\tlearn: 0.9031113\ttotal: 142ms\tremaining: 28.2s\n",
      "5:\tlearn: 0.8858878\ttotal: 147ms\tremaining: 24.4s\n",
      "6:\tlearn: 0.8704819\ttotal: 153ms\tremaining: 21.7s\n"
     ]
    },
    {
     "name": "stdout",
     "output_type": "stream",
     "text": [
      "7:\tlearn: 0.8525977\ttotal: 160ms\tremaining: 19.9s\n",
      "8:\tlearn: 0.8366174\ttotal: 165ms\tremaining: 18.1s\n",
      "9:\tlearn: 0.8197691\ttotal: 173ms\tremaining: 17.1s\n",
      "10:\tlearn: 0.8029185\ttotal: 178ms\tremaining: 16s\n",
      "11:\tlearn: 0.7893749\ttotal: 181ms\tremaining: 14.9s\n",
      "12:\tlearn: 0.7747179\ttotal: 182ms\tremaining: 13.8s\n",
      "13:\tlearn: 0.7598858\ttotal: 185ms\tremaining: 13s\n",
      "14:\tlearn: 0.7479114\ttotal: 188ms\tremaining: 12.3s\n",
      "15:\tlearn: 0.7352748\ttotal: 191ms\tremaining: 11.7s\n",
      "16:\tlearn: 0.7236618\ttotal: 195ms\tremaining: 11.3s\n",
      "17:\tlearn: 0.7108358\ttotal: 199ms\tremaining: 10.9s\n",
      "18:\tlearn: 0.6987389\ttotal: 202ms\tremaining: 10.4s\n",
      "19:\tlearn: 0.6865122\ttotal: 204ms\tremaining: 10s\n",
      "20:\tlearn: 0.6749525\ttotal: 208ms\tremaining: 9.68s\n",
      "21:\tlearn: 0.6650375\ttotal: 212ms\tremaining: 9.4s\n",
      "22:\tlearn: 0.6546235\ttotal: 216ms\tremaining: 9.19s\n",
      "23:\tlearn: 0.6454459\ttotal: 223ms\tremaining: 9.05s\n",
      "24:\tlearn: 0.6346282\ttotal: 226ms\tremaining: 8.82s\n",
      "25:\tlearn: 0.6265165\ttotal: 231ms\tremaining: 8.64s\n",
      "26:\tlearn: 0.6183541\ttotal: 234ms\tremaining: 8.45s\n"
     ]
    },
    {
     "name": "stdout",
     "output_type": "stream",
     "text": [
      "27:\tlearn: 0.6089762\ttotal: 247ms\tremaining: 8.58s\n",
      "28:\tlearn: 0.6002161\ttotal: 250ms\tremaining: 8.36s\n",
      "29:\tlearn: 0.5902586\ttotal: 256ms\tremaining: 8.29s\n",
      "30:\tlearn: 0.5821564\ttotal: 259ms\tremaining: 8.11s\n",
      "31:\tlearn: 0.5742649\ttotal: 265ms\tremaining: 8.02s\n",
      "32:\tlearn: 0.5675887\ttotal: 269ms\tremaining: 7.87s\n",
      "33:\tlearn: 0.5600896\ttotal: 271ms\tremaining: 7.71s\n",
      "34:\tlearn: 0.5540142\ttotal: 280ms\tremaining: 7.72s\n",
      "35:\tlearn: 0.5469422\ttotal: 283ms\tremaining: 7.58s\n",
      "36:\tlearn: 0.5412207\ttotal: 286ms\tremaining: 7.45s\n",
      "37:\tlearn: 0.5339185\ttotal: 289ms\tremaining: 7.32s\n",
      "38:\tlearn: 0.5276230\ttotal: 293ms\tremaining: 7.22s\n",
      "39:\tlearn: 0.5208188\ttotal: 296ms\tremaining: 7.11s\n",
      "40:\tlearn: 0.5147311\ttotal: 299ms\tremaining: 6.98s\n",
      "41:\tlearn: 0.5070932\ttotal: 301ms\tremaining: 6.86s\n",
      "42:\tlearn: 0.5016923\ttotal: 303ms\tremaining: 6.75s\n",
      "43:\tlearn: 0.4958850\ttotal: 306ms\tremaining: 6.64s\n",
      "44:\tlearn: 0.4889559\ttotal: 310ms\tremaining: 6.58s\n"
     ]
    },
    {
     "name": "stdout",
     "output_type": "stream",
     "text": [
      "45:\tlearn: 0.4830646\ttotal: 314ms\tremaining: 6.51s\n",
      "46:\tlearn: 0.4788608\ttotal: 316ms\tremaining: 6.41s\n",
      "47:\tlearn: 0.4731660\ttotal: 324ms\tremaining: 6.43s\n",
      "48:\tlearn: 0.4672793\ttotal: 329ms\tremaining: 6.38s\n",
      "49:\tlearn: 0.4621325\ttotal: 333ms\tremaining: 6.33s\n",
      "50:\tlearn: 0.4567107\ttotal: 337ms\tremaining: 6.28s\n",
      "51:\tlearn: 0.4510779\ttotal: 342ms\tremaining: 6.23s\n",
      "52:\tlearn: 0.4462345\ttotal: 351ms\tremaining: 6.28s\n",
      "53:\tlearn: 0.4422029\ttotal: 355ms\tremaining: 6.22s\n",
      "54:\tlearn: 0.4380317\ttotal: 357ms\tremaining: 6.14s\n",
      "55:\tlearn: 0.4319328\ttotal: 362ms\tremaining: 6.1s\n",
      "56:\tlearn: 0.4283261\ttotal: 364ms\tremaining: 6.02s\n",
      "57:\tlearn: 0.4240903\ttotal: 367ms\tremaining: 5.96s\n",
      "58:\tlearn: 0.4197368\ttotal: 370ms\tremaining: 5.9s\n",
      "59:\tlearn: 0.4155989\ttotal: 372ms\tremaining: 5.83s\n",
      "60:\tlearn: 0.4122271\ttotal: 375ms\tremaining: 5.76s\n",
      "61:\tlearn: 0.4087308\ttotal: 378ms\tremaining: 5.72s\n",
      "62:\tlearn: 0.4054542\ttotal: 381ms\tremaining: 5.67s\n",
      "63:\tlearn: 0.4012507\ttotal: 384ms\tremaining: 5.62s\n",
      "64:\tlearn: 0.3979744\ttotal: 387ms\tremaining: 5.56s\n",
      "65:\tlearn: 0.3941912\ttotal: 389ms\tremaining: 5.5s\n",
      "66:\tlearn: 0.3901141\ttotal: 392ms\tremaining: 5.46s\n",
      "67:\tlearn: 0.3872041\ttotal: 395ms\tremaining: 5.42s\n",
      "68:\tlearn: 0.3844502\ttotal: 397ms\tremaining: 5.36s\n",
      "69:\tlearn: 0.3813785\ttotal: 400ms\tremaining: 5.32s\n",
      "70:\tlearn: 0.3770808\ttotal: 403ms\tremaining: 5.27s\n",
      "71:\tlearn: 0.3743944\ttotal: 406ms\tremaining: 5.23s\n",
      "72:\tlearn: 0.3717772\ttotal: 409ms\tremaining: 5.2s\n",
      "73:\tlearn: 0.3693492\ttotal: 412ms\tremaining: 5.16s\n",
      "74:\tlearn: 0.3670423\ttotal: 415ms\tremaining: 5.12s\n",
      "75:\tlearn: 0.3651364\ttotal: 417ms\tremaining: 5.07s\n",
      "76:\tlearn: 0.3618643\ttotal: 419ms\tremaining: 5.03s\n"
     ]
    },
    {
     "name": "stdout",
     "output_type": "stream",
     "text": [
      "77:\tlearn: 0.3595967\ttotal: 422ms\tremaining: 4.99s\n",
      "78:\tlearn: 0.3568086\ttotal: 425ms\tremaining: 4.95s\n",
      "79:\tlearn: 0.3544159\ttotal: 428ms\tremaining: 4.92s\n",
      "80:\tlearn: 0.3523963\ttotal: 430ms\tremaining: 4.88s\n",
      "81:\tlearn: 0.3501275\ttotal: 432ms\tremaining: 4.84s\n",
      "82:\tlearn: 0.3472233\ttotal: 435ms\tremaining: 4.81s\n",
      "83:\tlearn: 0.3453490\ttotal: 438ms\tremaining: 4.77s\n",
      "84:\tlearn: 0.3428852\ttotal: 441ms\tremaining: 4.75s\n",
      "85:\tlearn: 0.3409663\ttotal: 444ms\tremaining: 4.72s\n",
      "86:\tlearn: 0.3382491\ttotal: 448ms\tremaining: 4.7s\n",
      "87:\tlearn: 0.3359015\ttotal: 450ms\tremaining: 4.67s\n",
      "88:\tlearn: 0.3341067\ttotal: 453ms\tremaining: 4.63s\n",
      "89:\tlearn: 0.3317727\ttotal: 455ms\tremaining: 4.6s\n",
      "90:\tlearn: 0.3298224\ttotal: 457ms\tremaining: 4.57s\n",
      "91:\tlearn: 0.3277288\ttotal: 460ms\tremaining: 4.54s\n",
      "92:\tlearn: 0.3253455\ttotal: 463ms\tremaining: 4.51s\n",
      "93:\tlearn: 0.3227611\ttotal: 467ms\tremaining: 4.5s\n"
     ]
    },
    {
     "name": "stdout",
     "output_type": "stream",
     "text": [
      "94:\tlearn: 0.3211187\ttotal: 475ms\tremaining: 4.52s\n",
      "95:\tlearn: 0.3192066\ttotal: 478ms\tremaining: 4.5s\n",
      "96:\tlearn: 0.3181353\ttotal: 481ms\tremaining: 4.48s\n",
      "97:\tlearn: 0.3166592\ttotal: 485ms\tremaining: 4.46s\n",
      "98:\tlearn: 0.3152224\ttotal: 487ms\tremaining: 4.43s\n",
      "99:\tlearn: 0.3139809\ttotal: 490ms\tremaining: 4.41s\n",
      "100:\tlearn: 0.3125325\ttotal: 493ms\tremaining: 4.39s\n",
      "101:\tlearn: 0.3105682\ttotal: 505ms\tremaining: 4.44s\n",
      "102:\tlearn: 0.3094395\ttotal: 516ms\tremaining: 4.5s\n",
      "103:\tlearn: 0.3081872\ttotal: 522ms\tremaining: 4.5s\n",
      "104:\tlearn: 0.3061099\ttotal: 526ms\tremaining: 4.48s\n",
      "105:\tlearn: 0.3047470\ttotal: 529ms\tremaining: 4.46s\n",
      "106:\tlearn: 0.3030843\ttotal: 534ms\tremaining: 4.46s\n",
      "107:\tlearn: 0.3012017\ttotal: 546ms\tremaining: 4.51s\n"
     ]
    },
    {
     "name": "stdout",
     "output_type": "stream",
     "text": [
      "108:\tlearn: 0.3001183\ttotal: 566ms\tremaining: 4.63s\n"
     ]
    },
    {
     "name": "stdout",
     "output_type": "stream",
     "text": [
      "109:\tlearn: 0.2982850\ttotal: 600ms\tremaining: 4.86s\n",
      "110:\tlearn: 0.2966321\ttotal: 603ms\tremaining: 4.83s\n"
     ]
    },
    {
     "name": "stdout",
     "output_type": "stream",
     "text": [
      "111:\tlearn: 0.2950103\ttotal: 655ms\tremaining: 5.19s\n",
      "112:\tlearn: 0.2932714\ttotal: 658ms\tremaining: 5.17s\n",
      "113:\tlearn: 0.2921156\ttotal: 661ms\tremaining: 5.13s\n",
      "114:\tlearn: 0.2905211\ttotal: 663ms\tremaining: 5.1s\n",
      "115:\tlearn: 0.2894474\ttotal: 666ms\tremaining: 5.07s\n",
      "116:\tlearn: 0.2878287\ttotal: 668ms\tremaining: 5.04s\n",
      "117:\tlearn: 0.2863877\ttotal: 671ms\tremaining: 5.01s\n",
      "118:\tlearn: 0.2850819\ttotal: 673ms\tremaining: 4.98s\n"
     ]
    },
    {
     "name": "stdout",
     "output_type": "stream",
     "text": [
      "119:\tlearn: 0.2838849\ttotal: 683ms\tremaining: 5.01s\n",
      "120:\tlearn: 0.2823905\ttotal: 686ms\tremaining: 4.98s\n",
      "121:\tlearn: 0.2813324\ttotal: 688ms\tremaining: 4.95s\n",
      "122:\tlearn: 0.2803968\ttotal: 691ms\tremaining: 4.93s\n",
      "123:\tlearn: 0.2792628\ttotal: 693ms\tremaining: 4.9s\n",
      "124:\tlearn: 0.2782477\ttotal: 696ms\tremaining: 4.87s\n",
      "125:\tlearn: 0.2770714\ttotal: 699ms\tremaining: 4.85s\n",
      "126:\tlearn: 0.2758609\ttotal: 703ms\tremaining: 4.83s\n",
      "127:\tlearn: 0.2744020\ttotal: 706ms\tremaining: 4.81s\n",
      "128:\tlearn: 0.2735148\ttotal: 713ms\tremaining: 4.81s\n",
      "129:\tlearn: 0.2720929\ttotal: 718ms\tremaining: 4.8s\n",
      "130:\tlearn: 0.2708742\ttotal: 732ms\tremaining: 4.85s\n",
      "131:\tlearn: 0.2694715\ttotal: 737ms\tremaining: 4.84s\n",
      "132:\tlearn: 0.2681403\ttotal: 741ms\tremaining: 4.83s\n",
      "133:\tlearn: 0.2670497\ttotal: 745ms\tremaining: 4.82s\n",
      "134:\tlearn: 0.2657918\ttotal: 753ms\tremaining: 4.82s\n",
      "135:\tlearn: 0.2650239\ttotal: 756ms\tremaining: 4.8s\n",
      "136:\tlearn: 0.2641950\ttotal: 761ms\tremaining: 4.79s\n",
      "137:\tlearn: 0.2631516\ttotal: 766ms\tremaining: 4.78s\n",
      "138:\tlearn: 0.2622492\ttotal: 770ms\tremaining: 4.77s\n",
      "139:\tlearn: 0.2613874\ttotal: 776ms\tremaining: 4.76s\n",
      "140:\tlearn: 0.2603010\ttotal: 779ms\tremaining: 4.75s\n",
      "141:\tlearn: 0.2596732\ttotal: 782ms\tremaining: 4.73s\n",
      "142:\tlearn: 0.2587969\ttotal: 787ms\tremaining: 4.72s\n",
      "143:\tlearn: 0.2578619\ttotal: 791ms\tremaining: 4.7s\n",
      "144:\tlearn: 0.2565832\ttotal: 797ms\tremaining: 4.7s\n"
     ]
    },
    {
     "name": "stdout",
     "output_type": "stream",
     "text": [
      "145:\tlearn: 0.2553352\ttotal: 873ms\tremaining: 5.11s\n",
      "146:\tlearn: 0.2544262\ttotal: 877ms\tremaining: 5.09s\n",
      "147:\tlearn: 0.2536522\ttotal: 881ms\tremaining: 5.07s\n",
      "148:\tlearn: 0.2527538\ttotal: 883ms\tremaining: 5.04s\n",
      "149:\tlearn: 0.2515864\ttotal: 889ms\tremaining: 5.04s\n",
      "150:\tlearn: 0.2508998\ttotal: 893ms\tremaining: 5.02s\n",
      "151:\tlearn: 0.2501447\ttotal: 896ms\tremaining: 5s\n",
      "152:\tlearn: 0.2491548\ttotal: 904ms\tremaining: 5s\n",
      "153:\tlearn: 0.2480849\ttotal: 907ms\tremaining: 4.98s\n",
      "154:\tlearn: 0.2473088\ttotal: 912ms\tremaining: 4.97s\n",
      "155:\tlearn: 0.2462698\ttotal: 917ms\tremaining: 4.96s\n",
      "156:\tlearn: 0.2454671\ttotal: 920ms\tremaining: 4.94s\n",
      "157:\tlearn: 0.2447615\ttotal: 926ms\tremaining: 4.93s\n",
      "158:\tlearn: 0.2439258\ttotal: 929ms\tremaining: 4.91s\n",
      "159:\tlearn: 0.2429567\ttotal: 931ms\tremaining: 4.89s\n",
      "160:\tlearn: 0.2421253\ttotal: 934ms\tremaining: 4.87s\n",
      "161:\tlearn: 0.2409898\ttotal: 937ms\tremaining: 4.84s\n",
      "162:\tlearn: 0.2405426\ttotal: 940ms\tremaining: 4.83s\n",
      "163:\tlearn: 0.2399113\ttotal: 943ms\tremaining: 4.8s\n",
      "164:\tlearn: 0.2392313\ttotal: 949ms\tremaining: 4.8s\n",
      "165:\tlearn: 0.2384899\ttotal: 952ms\tremaining: 4.78s\n",
      "166:\tlearn: 0.2374683\ttotal: 954ms\tremaining: 4.76s\n",
      "167:\tlearn: 0.2367350\ttotal: 956ms\tremaining: 4.73s\n",
      "168:\tlearn: 0.2361834\ttotal: 958ms\tremaining: 4.71s\n",
      "169:\tlearn: 0.2355102\ttotal: 960ms\tremaining: 4.69s\n",
      "170:\tlearn: 0.2344401\ttotal: 964ms\tremaining: 4.67s\n",
      "171:\tlearn: 0.2339755\ttotal: 967ms\tremaining: 4.66s\n",
      "172:\tlearn: 0.2335052\ttotal: 970ms\tremaining: 4.64s\n",
      "173:\tlearn: 0.2327290\ttotal: 972ms\tremaining: 4.62s\n",
      "174:\tlearn: 0.2321170\ttotal: 976ms\tremaining: 4.6s\n",
      "175:\tlearn: 0.2313558\ttotal: 979ms\tremaining: 4.58s\n",
      "176:\tlearn: 0.2306122\ttotal: 993ms\tremaining: 4.62s\n",
      "177:\tlearn: 0.2298733\ttotal: 1s\tremaining: 4.63s\n",
      "178:\tlearn: 0.2295224\ttotal: 1.01s\tremaining: 4.62s\n",
      "179:\tlearn: 0.2287296\ttotal: 1.01s\tremaining: 4.6s\n"
     ]
    },
    {
     "name": "stdout",
     "output_type": "stream",
     "text": [
      "180:\tlearn: 0.2281308\ttotal: 1.01s\tremaining: 4.59s\n",
      "181:\tlearn: 0.2274193\ttotal: 1.02s\tremaining: 4.58s\n",
      "182:\tlearn: 0.2269227\ttotal: 1.02s\tremaining: 4.57s\n",
      "183:\tlearn: 0.2262100\ttotal: 1.03s\tremaining: 4.55s\n",
      "184:\tlearn: 0.2253741\ttotal: 1.03s\tremaining: 4.53s\n",
      "185:\tlearn: 0.2249728\ttotal: 1.03s\tremaining: 4.52s\n",
      "186:\tlearn: 0.2242000\ttotal: 1.03s\tremaining: 4.5s\n",
      "187:\tlearn: 0.2236651\ttotal: 1.04s\tremaining: 4.48s\n",
      "188:\tlearn: 0.2229063\ttotal: 1.04s\tremaining: 4.47s\n",
      "189:\tlearn: 0.2224273\ttotal: 1.05s\tremaining: 4.46s\n",
      "190:\tlearn: 0.2217477\ttotal: 1.05s\tremaining: 4.45s\n",
      "191:\tlearn: 0.2210464\ttotal: 1.05s\tremaining: 4.44s\n",
      "192:\tlearn: 0.2204723\ttotal: 1.06s\tremaining: 4.42s\n",
      "193:\tlearn: 0.2199550\ttotal: 1.06s\tremaining: 4.41s\n",
      "194:\tlearn: 0.2191764\ttotal: 1.06s\tremaining: 4.39s\n",
      "195:\tlearn: 0.2184303\ttotal: 1.07s\tremaining: 4.39s\n",
      "196:\tlearn: 0.2177315\ttotal: 1.07s\tremaining: 4.38s\n",
      "197:\tlearn: 0.2170694\ttotal: 1.09s\tremaining: 4.41s\n",
      "198:\tlearn: 0.2161895\ttotal: 1.12s\tremaining: 4.53s\n",
      "199:\tlearn: 0.2153887\ttotal: 1.13s\tremaining: 4.51s\n",
      "200:\tlearn: 0.2147319\ttotal: 1.13s\tremaining: 4.5s\n",
      "201:\tlearn: 0.2142245\ttotal: 1.14s\tremaining: 4.49s\n",
      "202:\tlearn: 0.2135057\ttotal: 1.14s\tremaining: 4.48s\n",
      "203:\tlearn: 0.2128535\ttotal: 1.15s\tremaining: 4.49s\n",
      "204:\tlearn: 0.2122667\ttotal: 1.16s\tremaining: 4.48s\n",
      "205:\tlearn: 0.2115367\ttotal: 1.16s\tremaining: 4.47s\n",
      "206:\tlearn: 0.2110332\ttotal: 1.16s\tremaining: 4.46s\n",
      "207:\tlearn: 0.2104917\ttotal: 1.17s\tremaining: 4.44s\n",
      "208:\tlearn: 0.2098380\ttotal: 1.17s\tremaining: 4.44s\n"
     ]
    },
    {
     "name": "stdout",
     "output_type": "stream",
     "text": [
      "209:\tlearn: 0.2093410\ttotal: 1.18s\tremaining: 4.43s\n",
      "210:\tlearn: 0.2086880\ttotal: 1.19s\tremaining: 4.45s\n",
      "211:\tlearn: 0.2083088\ttotal: 1.19s\tremaining: 4.44s\n",
      "212:\tlearn: 0.2076671\ttotal: 1.2s\tremaining: 4.43s\n",
      "213:\tlearn: 0.2070512\ttotal: 1.2s\tremaining: 4.41s\n",
      "214:\tlearn: 0.2062725\ttotal: 1.2s\tremaining: 4.39s\n",
      "215:\tlearn: 0.2058150\ttotal: 1.21s\tremaining: 4.38s\n",
      "216:\tlearn: 0.2052960\ttotal: 1.21s\tremaining: 4.36s\n",
      "217:\tlearn: 0.2049450\ttotal: 1.21s\tremaining: 4.34s\n",
      "218:\tlearn: 0.2044271\ttotal: 1.21s\tremaining: 4.33s\n",
      "219:\tlearn: 0.2039890\ttotal: 1.22s\tremaining: 4.32s\n",
      "220:\tlearn: 0.2035636\ttotal: 1.22s\tremaining: 4.31s\n",
      "221:\tlearn: 0.2032440\ttotal: 1.23s\tremaining: 4.3s\n",
      "222:\tlearn: 0.2028433\ttotal: 1.23s\tremaining: 4.29s\n",
      "223:\tlearn: 0.2025780\ttotal: 1.23s\tremaining: 4.28s\n",
      "224:\tlearn: 0.2020605\ttotal: 1.24s\tremaining: 4.26s\n",
      "225:\tlearn: 0.2015111\ttotal: 1.24s\tremaining: 4.25s\n",
      "226:\tlearn: 0.2009730\ttotal: 1.25s\tremaining: 4.24s\n",
      "227:\tlearn: 0.2006334\ttotal: 1.25s\tremaining: 4.23s\n",
      "228:\tlearn: 0.2001601\ttotal: 1.25s\tremaining: 4.21s\n",
      "229:\tlearn: 0.1999369\ttotal: 1.25s\tremaining: 4.2s\n",
      "230:\tlearn: 0.1993077\ttotal: 1.26s\tremaining: 4.18s\n",
      "231:\tlearn: 0.1988694\ttotal: 1.26s\tremaining: 4.17s\n",
      "232:\tlearn: 0.1984418\ttotal: 1.26s\tremaining: 4.16s\n",
      "233:\tlearn: 0.1982251\ttotal: 1.26s\tremaining: 4.14s\n",
      "234:\tlearn: 0.1978299\ttotal: 1.27s\tremaining: 4.13s\n",
      "235:\tlearn: 0.1973515\ttotal: 1.29s\tremaining: 4.17s\n",
      "236:\tlearn: 0.1969875\ttotal: 1.29s\tremaining: 4.16s\n",
      "237:\tlearn: 0.1967103\ttotal: 1.29s\tremaining: 4.14s\n"
     ]
    },
    {
     "name": "stdout",
     "output_type": "stream",
     "text": [
      "238:\tlearn: 0.1962506\ttotal: 1.3s\tremaining: 4.16s\n",
      "239:\tlearn: 0.1954909\ttotal: 1.31s\tremaining: 4.14s\n",
      "240:\tlearn: 0.1950048\ttotal: 1.31s\tremaining: 4.13s\n",
      "241:\tlearn: 0.1942138\ttotal: 1.31s\tremaining: 4.12s\n",
      "242:\tlearn: 0.1939371\ttotal: 1.32s\tremaining: 4.11s\n",
      "243:\tlearn: 0.1936368\ttotal: 1.32s\tremaining: 4.1s\n",
      "244:\tlearn: 0.1929148\ttotal: 1.33s\tremaining: 4.1s\n",
      "245:\tlearn: 0.1922258\ttotal: 1.33s\tremaining: 4.08s\n",
      "246:\tlearn: 0.1918657\ttotal: 1.33s\tremaining: 4.07s\n",
      "247:\tlearn: 0.1913810\ttotal: 1.34s\tremaining: 4.05s\n",
      "248:\tlearn: 0.1910130\ttotal: 1.34s\tremaining: 4.04s\n",
      "249:\tlearn: 0.1904679\ttotal: 1.34s\tremaining: 4.03s\n",
      "250:\tlearn: 0.1898747\ttotal: 1.36s\tremaining: 4.05s\n",
      "251:\tlearn: 0.1893526\ttotal: 1.36s\tremaining: 4.04s\n",
      "252:\tlearn: 0.1885726\ttotal: 1.36s\tremaining: 4.02s\n",
      "253:\tlearn: 0.1880471\ttotal: 1.37s\tremaining: 4.02s\n",
      "254:\tlearn: 0.1877783\ttotal: 1.37s\tremaining: 4s\n",
      "255:\tlearn: 0.1874773\ttotal: 1.38s\tremaining: 4s\n",
      "256:\tlearn: 0.1872511\ttotal: 1.38s\tremaining: 3.98s\n",
      "257:\tlearn: 0.1866007\ttotal: 1.38s\tremaining: 3.97s\n",
      "258:\tlearn: 0.1859735\ttotal: 1.39s\tremaining: 3.96s\n",
      "259:\tlearn: 0.1853672\ttotal: 1.39s\tremaining: 3.95s\n",
      "260:\tlearn: 0.1849533\ttotal: 1.39s\tremaining: 3.94s\n",
      "261:\tlearn: 0.1844928\ttotal: 1.39s\tremaining: 3.92s\n",
      "262:\tlearn: 0.1840469\ttotal: 1.4s\tremaining: 3.91s\n",
      "263:\tlearn: 0.1835668\ttotal: 1.4s\tremaining: 3.9s\n",
      "264:\tlearn: 0.1830220\ttotal: 1.4s\tremaining: 3.89s\n",
      "265:\tlearn: 0.1828545\ttotal: 1.4s\tremaining: 3.87s\n",
      "266:\tlearn: 0.1823285\ttotal: 1.41s\tremaining: 3.87s\n",
      "267:\tlearn: 0.1821742\ttotal: 1.41s\tremaining: 3.86s\n",
      "268:\tlearn: 0.1817199\ttotal: 1.42s\tremaining: 3.86s\n",
      "269:\tlearn: 0.1811694\ttotal: 1.42s\tremaining: 3.85s\n",
      "270:\tlearn: 0.1808216\ttotal: 1.43s\tremaining: 3.84s\n",
      "271:\tlearn: 0.1801520\ttotal: 1.45s\tremaining: 3.87s\n"
     ]
    },
    {
     "name": "stdout",
     "output_type": "stream",
     "text": [
      "272:\tlearn: 0.1796275\ttotal: 1.45s\tremaining: 3.86s\n",
      "273:\tlearn: 0.1794731\ttotal: 1.45s\tremaining: 3.85s\n",
      "274:\tlearn: 0.1791062\ttotal: 1.46s\tremaining: 3.84s\n",
      "275:\tlearn: 0.1784940\ttotal: 1.46s\tremaining: 3.83s\n",
      "276:\tlearn: 0.1779578\ttotal: 1.46s\tremaining: 3.82s\n",
      "277:\tlearn: 0.1774264\ttotal: 1.47s\tremaining: 3.81s\n",
      "278:\tlearn: 0.1769572\ttotal: 1.48s\tremaining: 3.82s\n",
      "279:\tlearn: 0.1767668\ttotal: 1.48s\tremaining: 3.81s\n",
      "280:\tlearn: 0.1765787\ttotal: 1.48s\tremaining: 3.8s\n",
      "281:\tlearn: 0.1764353\ttotal: 1.49s\tremaining: 3.79s\n",
      "282:\tlearn: 0.1760754\ttotal: 1.49s\tremaining: 3.77s\n",
      "283:\tlearn: 0.1758253\ttotal: 1.49s\tremaining: 3.76s\n",
      "284:\tlearn: 0.1754693\ttotal: 1.5s\tremaining: 3.76s\n",
      "285:\tlearn: 0.1749043\ttotal: 1.5s\tremaining: 3.75s\n",
      "286:\tlearn: 0.1743615\ttotal: 1.5s\tremaining: 3.74s\n",
      "287:\tlearn: 0.1737786\ttotal: 1.51s\tremaining: 3.73s\n",
      "288:\tlearn: 0.1734708\ttotal: 1.51s\tremaining: 3.72s\n",
      "289:\tlearn: 0.1731186\ttotal: 1.52s\tremaining: 3.71s\n",
      "290:\tlearn: 0.1727752\ttotal: 1.52s\tremaining: 3.71s\n",
      "291:\tlearn: 0.1723788\ttotal: 1.52s\tremaining: 3.7s\n",
      "292:\tlearn: 0.1718953\ttotal: 1.53s\tremaining: 3.69s\n",
      "293:\tlearn: 0.1713148\ttotal: 1.53s\tremaining: 3.67s\n",
      "294:\tlearn: 0.1708412\ttotal: 1.53s\tremaining: 3.66s\n",
      "295:\tlearn: 0.1706053\ttotal: 1.54s\tremaining: 3.65s\n",
      "296:\tlearn: 0.1700429\ttotal: 1.54s\tremaining: 3.64s\n",
      "297:\tlearn: 0.1698560\ttotal: 1.54s\tremaining: 3.63s\n",
      "298:\tlearn: 0.1693879\ttotal: 1.54s\tremaining: 3.62s\n",
      "299:\tlearn: 0.1689233\ttotal: 1.55s\tremaining: 3.61s\n",
      "300:\tlearn: 0.1686014\ttotal: 1.55s\tremaining: 3.6s\n",
      "301:\tlearn: 0.1684366\ttotal: 1.55s\tremaining: 3.59s\n",
      "302:\tlearn: 0.1679298\ttotal: 1.56s\tremaining: 3.58s\n",
      "303:\tlearn: 0.1675430\ttotal: 1.56s\tremaining: 3.57s\n",
      "304:\tlearn: 0.1672285\ttotal: 1.56s\tremaining: 3.56s\n",
      "305:\tlearn: 0.1670932\ttotal: 1.57s\tremaining: 3.55s\n",
      "306:\tlearn: 0.1667022\ttotal: 1.57s\tremaining: 3.54s\n",
      "307:\tlearn: 0.1663023\ttotal: 1.57s\tremaining: 3.53s\n",
      "308:\tlearn: 0.1658790\ttotal: 1.57s\tremaining: 3.52s\n"
     ]
    },
    {
     "name": "stdout",
     "output_type": "stream",
     "text": [
      "309:\tlearn: 0.1655744\ttotal: 1.58s\tremaining: 3.51s\n",
      "310:\tlearn: 0.1650140\ttotal: 1.58s\tremaining: 3.5s\n",
      "311:\tlearn: 0.1647191\ttotal: 1.59s\tremaining: 3.52s\n",
      "312:\tlearn: 0.1643889\ttotal: 1.6s\tremaining: 3.52s\n",
      "313:\tlearn: 0.1639937\ttotal: 1.61s\tremaining: 3.53s\n",
      "314:\tlearn: 0.1635726\ttotal: 1.62s\tremaining: 3.52s\n",
      "315:\tlearn: 0.1634618\ttotal: 1.63s\tremaining: 3.52s\n",
      "316:\tlearn: 0.1632645\ttotal: 1.64s\tremaining: 3.52s\n",
      "317:\tlearn: 0.1628718\ttotal: 1.64s\tremaining: 3.52s\n",
      "318:\tlearn: 0.1625246\ttotal: 1.65s\tremaining: 3.52s\n",
      "319:\tlearn: 0.1621554\ttotal: 1.65s\tremaining: 3.51s\n",
      "320:\tlearn: 0.1619982\ttotal: 1.66s\tremaining: 3.5s\n",
      "321:\tlearn: 0.1615959\ttotal: 1.66s\tremaining: 3.49s\n",
      "322:\tlearn: 0.1611354\ttotal: 1.66s\tremaining: 3.48s\n",
      "323:\tlearn: 0.1605912\ttotal: 1.66s\tremaining: 3.47s\n",
      "324:\tlearn: 0.1601224\ttotal: 1.67s\tremaining: 3.46s\n",
      "325:\tlearn: 0.1599382\ttotal: 1.67s\tremaining: 3.45s\n",
      "326:\tlearn: 0.1595066\ttotal: 1.68s\tremaining: 3.45s\n",
      "327:\tlearn: 0.1593887\ttotal: 1.68s\tremaining: 3.45s\n",
      "328:\tlearn: 0.1592937\ttotal: 1.69s\tremaining: 3.44s\n",
      "329:\tlearn: 0.1589357\ttotal: 1.69s\tremaining: 3.43s\n"
     ]
    },
    {
     "name": "stdout",
     "output_type": "stream",
     "text": [
      "330:\tlearn: 0.1584539\ttotal: 1.69s\tremaining: 3.42s\n",
      "331:\tlearn: 0.1582391\ttotal: 1.69s\tremaining: 3.41s\n",
      "332:\tlearn: 0.1579890\ttotal: 1.7s\tremaining: 3.4s\n",
      "333:\tlearn: 0.1579156\ttotal: 1.7s\tremaining: 3.39s\n",
      "334:\tlearn: 0.1574533\ttotal: 1.7s\tremaining: 3.38s\n",
      "335:\tlearn: 0.1571070\ttotal: 1.7s\tremaining: 3.37s\n",
      "336:\tlearn: 0.1567672\ttotal: 1.71s\tremaining: 3.36s\n",
      "337:\tlearn: 0.1563384\ttotal: 1.71s\tremaining: 3.35s\n",
      "338:\tlearn: 0.1562425\ttotal: 1.71s\tremaining: 3.34s\n",
      "339:\tlearn: 0.1560714\ttotal: 1.71s\tremaining: 3.33s\n",
      "340:\tlearn: 0.1556715\ttotal: 1.72s\tremaining: 3.32s\n",
      "341:\tlearn: 0.1555969\ttotal: 1.72s\tremaining: 3.31s\n",
      "342:\tlearn: 0.1551369\ttotal: 1.72s\tremaining: 3.3s\n",
      "343:\tlearn: 0.1547871\ttotal: 1.72s\tremaining: 3.29s\n",
      "344:\tlearn: 0.1543302\ttotal: 1.73s\tremaining: 3.28s\n",
      "345:\tlearn: 0.1539345\ttotal: 1.74s\tremaining: 3.28s\n",
      "346:\tlearn: 0.1535086\ttotal: 1.74s\tremaining: 3.28s\n",
      "347:\tlearn: 0.1532974\ttotal: 1.75s\tremaining: 3.27s\n",
      "348:\tlearn: 0.1529557\ttotal: 1.75s\tremaining: 3.27s\n",
      "349:\tlearn: 0.1524233\ttotal: 1.77s\tremaining: 3.28s\n",
      "350:\tlearn: 0.1523841\ttotal: 1.77s\tremaining: 3.27s\n",
      "351:\tlearn: 0.1523044\ttotal: 1.77s\tremaining: 3.27s\n",
      "352:\tlearn: 0.1517587\ttotal: 1.78s\tremaining: 3.26s\n",
      "353:\tlearn: 0.1513283\ttotal: 1.78s\tremaining: 3.25s\n",
      "354:\tlearn: 0.1509873\ttotal: 1.79s\tremaining: 3.25s\n",
      "355:\tlearn: 0.1509494\ttotal: 1.79s\tremaining: 3.25s\n",
      "356:\tlearn: 0.1505273\ttotal: 1.8s\tremaining: 3.23s\n",
      "357:\tlearn: 0.1504904\ttotal: 1.8s\tremaining: 3.23s\n",
      "358:\tlearn: 0.1504310\ttotal: 1.8s\tremaining: 3.22s\n"
     ]
    },
    {
     "name": "stdout",
     "output_type": "stream",
     "text": [
      "359:\tlearn: 0.1500872\ttotal: 1.81s\tremaining: 3.21s\n",
      "360:\tlearn: 0.1499532\ttotal: 1.81s\tremaining: 3.2s\n",
      "361:\tlearn: 0.1499139\ttotal: 1.81s\tremaining: 3.19s\n",
      "362:\tlearn: 0.1497893\ttotal: 1.82s\tremaining: 3.19s\n",
      "363:\tlearn: 0.1494353\ttotal: 1.82s\tremaining: 3.19s\n",
      "364:\tlearn: 0.1490925\ttotal: 1.83s\tremaining: 3.18s\n",
      "365:\tlearn: 0.1488605\ttotal: 1.83s\tremaining: 3.17s\n",
      "366:\tlearn: 0.1484500\ttotal: 1.84s\tremaining: 3.17s\n",
      "367:\tlearn: 0.1483917\ttotal: 1.84s\tremaining: 3.16s\n",
      "368:\tlearn: 0.1479149\ttotal: 1.85s\tremaining: 3.16s\n",
      "369:\tlearn: 0.1478817\ttotal: 1.85s\tremaining: 3.15s\n",
      "370:\tlearn: 0.1478494\ttotal: 1.85s\tremaining: 3.14s\n",
      "371:\tlearn: 0.1477839\ttotal: 1.85s\tremaining: 3.13s\n",
      "372:\tlearn: 0.1474215\ttotal: 1.86s\tremaining: 3.13s\n",
      "373:\tlearn: 0.1470350\ttotal: 1.86s\tremaining: 3.12s\n",
      "374:\tlearn: 0.1468412\ttotal: 1.87s\tremaining: 3.11s\n",
      "375:\tlearn: 0.1468103\ttotal: 1.87s\tremaining: 3.1s\n",
      "376:\tlearn: 0.1467800\ttotal: 1.87s\tremaining: 3.1s\n",
      "377:\tlearn: 0.1464887\ttotal: 1.88s\tremaining: 3.09s\n",
      "378:\tlearn: 0.1461239\ttotal: 1.88s\tremaining: 3.08s\n",
      "379:\tlearn: 0.1457295\ttotal: 1.88s\tremaining: 3.07s\n",
      "380:\tlearn: 0.1453898\ttotal: 1.91s\tremaining: 3.11s\n",
      "381:\tlearn: 0.1450614\ttotal: 1.92s\tremaining: 3.1s\n",
      "382:\tlearn: 0.1447882\ttotal: 1.93s\tremaining: 3.1s\n",
      "383:\tlearn: 0.1445384\ttotal: 1.93s\tremaining: 3.1s\n"
     ]
    },
    {
     "name": "stdout",
     "output_type": "stream",
     "text": [
      "384:\tlearn: 0.1445086\ttotal: 1.95s\tremaining: 3.11s\n",
      "385:\tlearn: 0.1444560\ttotal: 1.95s\tremaining: 3.1s\n",
      "386:\tlearn: 0.1439901\ttotal: 1.96s\tremaining: 3.1s\n",
      "387:\tlearn: 0.1438247\ttotal: 1.98s\tremaining: 3.13s\n",
      "388:\tlearn: 0.1434355\ttotal: 1.99s\tremaining: 3.13s\n",
      "389:\tlearn: 0.1434070\ttotal: 1.99s\tremaining: 3.12s\n",
      "390:\tlearn: 0.1430985\ttotal: 2s\tremaining: 3.11s\n",
      "391:\tlearn: 0.1428570\ttotal: 2s\tremaining: 3.11s\n",
      "392:\tlearn: 0.1428086\ttotal: 2.01s\tremaining: 3.11s\n",
      "393:\tlearn: 0.1425984\ttotal: 2.02s\tremaining: 3.1s\n",
      "394:\tlearn: 0.1425421\ttotal: 2.02s\tremaining: 3.1s\n",
      "395:\tlearn: 0.1424457\ttotal: 2.03s\tremaining: 3.09s\n",
      "396:\tlearn: 0.1422649\ttotal: 2.03s\tremaining: 3.08s\n",
      "397:\tlearn: 0.1419659\ttotal: 2.04s\tremaining: 3.08s\n",
      "398:\tlearn: 0.1419176\ttotal: 2.04s\tremaining: 3.07s\n",
      "399:\tlearn: 0.1414597\ttotal: 2.04s\tremaining: 3.06s\n",
      "400:\tlearn: 0.1414254\ttotal: 2.05s\tremaining: 3.06s\n",
      "401:\tlearn: 0.1413867\ttotal: 2.05s\tremaining: 3.05s\n",
      "402:\tlearn: 0.1410517\ttotal: 2.05s\tremaining: 3.04s\n",
      "403:\tlearn: 0.1408040\ttotal: 2.06s\tremaining: 3.03s\n",
      "404:\tlearn: 0.1407798\ttotal: 2.06s\tremaining: 3.02s\n",
      "405:\tlearn: 0.1407319\ttotal: 2.06s\tremaining: 3.02s\n",
      "406:\tlearn: 0.1404144\ttotal: 2.06s\tremaining: 3.01s\n",
      "407:\tlearn: 0.1401656\ttotal: 2.07s\tremaining: 3s\n",
      "408:\tlearn: 0.1398136\ttotal: 2.07s\tremaining: 2.99s\n",
      "409:\tlearn: 0.1395466\ttotal: 2.08s\tremaining: 2.99s\n",
      "410:\tlearn: 0.1393901\ttotal: 2.08s\tremaining: 2.98s\n",
      "411:\tlearn: 0.1391089\ttotal: 2.08s\tremaining: 2.97s\n",
      "412:\tlearn: 0.1388915\ttotal: 2.08s\tremaining: 2.96s\n"
     ]
    },
    {
     "name": "stdout",
     "output_type": "stream",
     "text": [
      "413:\tlearn: 0.1387784\ttotal: 2.08s\tremaining: 2.95s\n",
      "414:\tlearn: 0.1383856\ttotal: 2.09s\tremaining: 2.94s\n",
      "415:\tlearn: 0.1381470\ttotal: 2.09s\tremaining: 2.94s\n",
      "416:\tlearn: 0.1379041\ttotal: 2.1s\tremaining: 2.93s\n",
      "417:\tlearn: 0.1375026\ttotal: 2.1s\tremaining: 2.92s\n",
      "418:\tlearn: 0.1371227\ttotal: 2.1s\tremaining: 2.92s\n",
      "419:\tlearn: 0.1369871\ttotal: 2.11s\tremaining: 2.91s\n",
      "420:\tlearn: 0.1369567\ttotal: 2.11s\tremaining: 2.9s\n",
      "421:\tlearn: 0.1366544\ttotal: 2.11s\tremaining: 2.89s\n",
      "422:\tlearn: 0.1363122\ttotal: 2.12s\tremaining: 2.89s\n",
      "423:\tlearn: 0.1358960\ttotal: 2.12s\tremaining: 2.88s\n",
      "424:\tlearn: 0.1356605\ttotal: 2.12s\tremaining: 2.87s\n",
      "425:\tlearn: 0.1354415\ttotal: 2.12s\tremaining: 2.86s\n",
      "426:\tlearn: 0.1353551\ttotal: 2.13s\tremaining: 2.85s\n",
      "427:\tlearn: 0.1353301\ttotal: 2.13s\tremaining: 2.84s\n",
      "428:\tlearn: 0.1349759\ttotal: 2.13s\tremaining: 2.84s\n",
      "429:\tlearn: 0.1346109\ttotal: 2.13s\tremaining: 2.83s\n",
      "430:\tlearn: 0.1343633\ttotal: 2.13s\tremaining: 2.82s\n",
      "431:\tlearn: 0.1341838\ttotal: 2.14s\tremaining: 2.82s\n",
      "432:\tlearn: 0.1339323\ttotal: 2.15s\tremaining: 2.81s\n",
      "433:\tlearn: 0.1336196\ttotal: 2.15s\tremaining: 2.8s\n",
      "434:\tlearn: 0.1333704\ttotal: 2.15s\tremaining: 2.79s\n",
      "435:\tlearn: 0.1330501\ttotal: 2.15s\tremaining: 2.79s\n",
      "436:\tlearn: 0.1330254\ttotal: 2.16s\tremaining: 2.78s\n",
      "437:\tlearn: 0.1330049\ttotal: 2.16s\tremaining: 2.77s\n",
      "438:\tlearn: 0.1326311\ttotal: 2.16s\tremaining: 2.76s\n",
      "439:\tlearn: 0.1323240\ttotal: 2.16s\tremaining: 2.75s\n",
      "440:\tlearn: 0.1320787\ttotal: 2.17s\tremaining: 2.75s\n",
      "441:\tlearn: 0.1317115\ttotal: 2.17s\tremaining: 2.74s\n",
      "442:\tlearn: 0.1314083\ttotal: 2.17s\tremaining: 2.73s\n",
      "443:\tlearn: 0.1309909\ttotal: 2.17s\tremaining: 2.72s\n",
      "444:\tlearn: 0.1307083\ttotal: 2.18s\tremaining: 2.71s\n",
      "445:\tlearn: 0.1303033\ttotal: 2.18s\tremaining: 2.71s\n",
      "446:\tlearn: 0.1301256\ttotal: 2.18s\tremaining: 2.7s\n",
      "447:\tlearn: 0.1300722\ttotal: 2.18s\tremaining: 2.69s\n",
      "448:\tlearn: 0.1299038\ttotal: 2.19s\tremaining: 2.68s\n",
      "449:\tlearn: 0.1296180\ttotal: 2.19s\tremaining: 2.67s\n",
      "450:\tlearn: 0.1293612\ttotal: 2.19s\tremaining: 2.67s\n",
      "451:\tlearn: 0.1293416\ttotal: 2.19s\tremaining: 2.66s\n",
      "452:\tlearn: 0.1290408\ttotal: 2.2s\tremaining: 2.65s\n",
      "453:\tlearn: 0.1289013\ttotal: 2.2s\tremaining: 2.65s\n",
      "454:\tlearn: 0.1288821\ttotal: 2.2s\tremaining: 2.64s\n",
      "455:\tlearn: 0.1286409\ttotal: 2.2s\tremaining: 2.63s\n",
      "456:\tlearn: 0.1283717\ttotal: 2.21s\tremaining: 2.62s\n",
      "457:\tlearn: 0.1283432\ttotal: 2.21s\tremaining: 2.61s\n",
      "458:\tlearn: 0.1281604\ttotal: 2.21s\tremaining: 2.61s\n",
      "459:\tlearn: 0.1281347\ttotal: 2.21s\tremaining: 2.6s\n",
      "460:\tlearn: 0.1277151\ttotal: 2.22s\tremaining: 2.59s\n",
      "461:\tlearn: 0.1273079\ttotal: 2.22s\tremaining: 2.58s\n",
      "462:\tlearn: 0.1269406\ttotal: 2.22s\tremaining: 2.58s\n",
      "463:\tlearn: 0.1265900\ttotal: 2.23s\tremaining: 2.57s\n",
      "464:\tlearn: 0.1263892\ttotal: 2.23s\tremaining: 2.56s\n",
      "465:\tlearn: 0.1263711\ttotal: 2.23s\tremaining: 2.56s\n",
      "466:\tlearn: 0.1261931\ttotal: 2.23s\tremaining: 2.55s\n",
      "467:\tlearn: 0.1259252\ttotal: 2.24s\tremaining: 2.54s\n",
      "468:\tlearn: 0.1257324\ttotal: 2.24s\tremaining: 2.53s\n",
      "469:\tlearn: 0.1255738\ttotal: 2.24s\tremaining: 2.53s\n",
      "470:\tlearn: 0.1254835\ttotal: 2.25s\tremaining: 2.52s\n",
      "471:\tlearn: 0.1254600\ttotal: 2.25s\tremaining: 2.52s\n"
     ]
    },
    {
     "name": "stdout",
     "output_type": "stream",
     "text": [
      "472:\tlearn: 0.1253411\ttotal: 2.26s\tremaining: 2.52s\n",
      "473:\tlearn: 0.1250645\ttotal: 2.28s\tremaining: 2.53s\n",
      "474:\tlearn: 0.1250118\ttotal: 2.31s\tremaining: 2.56s\n",
      "475:\tlearn: 0.1247954\ttotal: 2.35s\tremaining: 2.59s\n",
      "476:\tlearn: 0.1245347\ttotal: 2.36s\tremaining: 2.59s\n",
      "477:\tlearn: 0.1245085\ttotal: 2.36s\tremaining: 2.58s\n",
      "478:\tlearn: 0.1241505\ttotal: 2.37s\tremaining: 2.57s\n",
      "479:\tlearn: 0.1238900\ttotal: 2.37s\tremaining: 2.57s\n"
     ]
    },
    {
     "name": "stdout",
     "output_type": "stream",
     "text": [
      "480:\tlearn: 0.1238618\ttotal: 2.38s\tremaining: 2.57s\n",
      "481:\tlearn: 0.1236194\ttotal: 2.39s\tremaining: 2.57s\n",
      "482:\tlearn: 0.1234638\ttotal: 2.39s\tremaining: 2.56s\n",
      "483:\tlearn: 0.1232818\ttotal: 2.4s\tremaining: 2.56s\n",
      "484:\tlearn: 0.1230122\ttotal: 2.4s\tremaining: 2.55s\n",
      "485:\tlearn: 0.1226584\ttotal: 2.4s\tremaining: 2.54s\n",
      "486:\tlearn: 0.1223345\ttotal: 2.41s\tremaining: 2.54s\n",
      "487:\tlearn: 0.1221537\ttotal: 2.41s\tremaining: 2.53s\n",
      "488:\tlearn: 0.1218711\ttotal: 2.41s\tremaining: 2.52s\n",
      "489:\tlearn: 0.1216219\ttotal: 2.42s\tremaining: 2.52s\n",
      "490:\tlearn: 0.1212906\ttotal: 2.42s\tremaining: 2.51s\n",
      "491:\tlearn: 0.1211301\ttotal: 2.43s\tremaining: 2.5s\n",
      "492:\tlearn: 0.1211141\ttotal: 2.43s\tremaining: 2.5s\n",
      "493:\tlearn: 0.1208235\ttotal: 2.43s\tremaining: 2.49s\n",
      "494:\tlearn: 0.1204877\ttotal: 2.44s\tremaining: 2.49s\n",
      "495:\tlearn: 0.1201525\ttotal: 2.44s\tremaining: 2.48s\n",
      "496:\tlearn: 0.1200311\ttotal: 2.44s\tremaining: 2.47s\n",
      "497:\tlearn: 0.1199000\ttotal: 2.45s\tremaining: 2.47s\n",
      "498:\tlearn: 0.1196323\ttotal: 2.45s\tremaining: 2.46s\n",
      "499:\tlearn: 0.1195449\ttotal: 2.46s\tremaining: 2.46s\n",
      "500:\tlearn: 0.1192328\ttotal: 2.46s\tremaining: 2.45s\n",
      "501:\tlearn: 0.1189310\ttotal: 2.46s\tremaining: 2.44s\n",
      "502:\tlearn: 0.1188827\ttotal: 2.46s\tremaining: 2.43s\n",
      "503:\tlearn: 0.1186896\ttotal: 2.47s\tremaining: 2.43s\n",
      "504:\tlearn: 0.1186597\ttotal: 2.47s\tremaining: 2.42s\n",
      "505:\tlearn: 0.1184091\ttotal: 2.47s\tremaining: 2.41s\n",
      "506:\tlearn: 0.1181602\ttotal: 2.48s\tremaining: 2.41s\n",
      "507:\tlearn: 0.1179364\ttotal: 2.48s\tremaining: 2.4s\n",
      "508:\tlearn: 0.1178936\ttotal: 2.49s\tremaining: 2.4s\n",
      "509:\tlearn: 0.1178708\ttotal: 2.49s\tremaining: 2.39s\n",
      "510:\tlearn: 0.1177042\ttotal: 2.49s\tremaining: 2.39s\n",
      "511:\tlearn: 0.1176667\ttotal: 2.5s\tremaining: 2.38s\n",
      "512:\tlearn: 0.1174331\ttotal: 2.5s\tremaining: 2.37s\n",
      "513:\tlearn: 0.1174191\ttotal: 2.5s\tremaining: 2.37s\n",
      "514:\tlearn: 0.1170764\ttotal: 2.51s\tremaining: 2.36s\n",
      "515:\tlearn: 0.1168026\ttotal: 2.51s\tremaining: 2.36s\n",
      "516:\tlearn: 0.1165522\ttotal: 2.52s\tremaining: 2.35s\n",
      "517:\tlearn: 0.1163592\ttotal: 2.52s\tremaining: 2.35s\n",
      "518:\tlearn: 0.1162069\ttotal: 2.52s\tremaining: 2.34s\n",
      "519:\tlearn: 0.1158904\ttotal: 2.53s\tremaining: 2.33s\n"
     ]
    },
    {
     "name": "stdout",
     "output_type": "stream",
     "text": [
      "520:\tlearn: 0.1155912\ttotal: 2.54s\tremaining: 2.33s\n",
      "521:\tlearn: 0.1154628\ttotal: 2.54s\tremaining: 2.33s\n",
      "522:\tlearn: 0.1152160\ttotal: 2.54s\tremaining: 2.32s\n",
      "523:\tlearn: 0.1151465\ttotal: 2.55s\tremaining: 2.31s\n",
      "524:\tlearn: 0.1149073\ttotal: 2.56s\tremaining: 2.31s\n",
      "525:\tlearn: 0.1147455\ttotal: 2.56s\tremaining: 2.31s\n",
      "526:\tlearn: 0.1145601\ttotal: 2.56s\tremaining: 2.3s\n",
      "527:\tlearn: 0.1142244\ttotal: 2.57s\tremaining: 2.3s\n",
      "528:\tlearn: 0.1140283\ttotal: 2.6s\tremaining: 2.31s\n",
      "529:\tlearn: 0.1137855\ttotal: 2.61s\tremaining: 2.31s\n",
      "530:\tlearn: 0.1136205\ttotal: 2.62s\tremaining: 2.31s\n",
      "531:\tlearn: 0.1136073\ttotal: 2.63s\tremaining: 2.31s\n",
      "532:\tlearn: 0.1134363\ttotal: 2.63s\tremaining: 2.3s\n",
      "533:\tlearn: 0.1134013\ttotal: 2.63s\tremaining: 2.3s\n",
      "534:\tlearn: 0.1131283\ttotal: 2.64s\tremaining: 2.29s\n",
      "535:\tlearn: 0.1130842\ttotal: 2.64s\tremaining: 2.29s\n",
      "536:\tlearn: 0.1128135\ttotal: 2.65s\tremaining: 2.28s\n",
      "537:\tlearn: 0.1125188\ttotal: 2.65s\tremaining: 2.27s\n",
      "538:\tlearn: 0.1123823\ttotal: 2.66s\tremaining: 2.27s\n",
      "539:\tlearn: 0.1121749\ttotal: 2.66s\tremaining: 2.27s\n",
      "540:\tlearn: 0.1121622\ttotal: 2.66s\tremaining: 2.26s\n",
      "541:\tlearn: 0.1118645\ttotal: 2.66s\tremaining: 2.25s\n",
      "542:\tlearn: 0.1115219\ttotal: 2.67s\tremaining: 2.24s\n",
      "543:\tlearn: 0.1113003\ttotal: 2.67s\tremaining: 2.24s\n",
      "544:\tlearn: 0.1109982\ttotal: 2.68s\tremaining: 2.24s\n",
      "545:\tlearn: 0.1108053\ttotal: 2.68s\tremaining: 2.23s\n",
      "546:\tlearn: 0.1105430\ttotal: 2.69s\tremaining: 2.23s\n",
      "547:\tlearn: 0.1102573\ttotal: 2.69s\tremaining: 2.22s\n",
      "548:\tlearn: 0.1100635\ttotal: 2.69s\tremaining: 2.21s\n",
      "549:\tlearn: 0.1098134\ttotal: 2.69s\tremaining: 2.2s\n"
     ]
    },
    {
     "name": "stdout",
     "output_type": "stream",
     "text": [
      "550:\tlearn: 0.1095588\ttotal: 2.7s\tremaining: 2.2s\n",
      "551:\tlearn: 0.1093157\ttotal: 2.7s\tremaining: 2.19s\n",
      "552:\tlearn: 0.1091320\ttotal: 2.7s\tremaining: 2.19s\n",
      "553:\tlearn: 0.1091171\ttotal: 2.71s\tremaining: 2.18s\n",
      "554:\tlearn: 0.1089009\ttotal: 2.71s\tremaining: 2.17s\n",
      "555:\tlearn: 0.1086317\ttotal: 2.71s\tremaining: 2.17s\n",
      "556:\tlearn: 0.1084709\ttotal: 2.72s\tremaining: 2.16s\n",
      "557:\tlearn: 0.1084565\ttotal: 2.72s\tremaining: 2.15s\n",
      "558:\tlearn: 0.1081981\ttotal: 2.72s\tremaining: 2.15s\n",
      "559:\tlearn: 0.1079358\ttotal: 2.73s\tremaining: 2.14s\n",
      "560:\tlearn: 0.1076878\ttotal: 2.73s\tremaining: 2.13s\n",
      "561:\tlearn: 0.1073891\ttotal: 2.73s\tremaining: 2.13s\n",
      "562:\tlearn: 0.1071711\ttotal: 2.74s\tremaining: 2.13s\n",
      "563:\tlearn: 0.1070239\ttotal: 2.74s\tremaining: 2.12s\n",
      "564:\tlearn: 0.1070140\ttotal: 2.74s\tremaining: 2.11s\n",
      "565:\tlearn: 0.1066787\ttotal: 2.75s\tremaining: 2.11s\n",
      "566:\tlearn: 0.1064991\ttotal: 2.75s\tremaining: 2.1s\n",
      "567:\tlearn: 0.1062219\ttotal: 2.75s\tremaining: 2.09s\n",
      "568:\tlearn: 0.1059495\ttotal: 2.76s\tremaining: 2.09s\n",
      "569:\tlearn: 0.1056912\ttotal: 2.76s\tremaining: 2.08s\n",
      "570:\tlearn: 0.1056776\ttotal: 2.76s\tremaining: 2.08s\n",
      "571:\tlearn: 0.1054618\ttotal: 2.76s\tremaining: 2.07s\n",
      "572:\tlearn: 0.1051151\ttotal: 2.77s\tremaining: 2.06s\n",
      "573:\tlearn: 0.1049668\ttotal: 2.77s\tremaining: 2.06s\n",
      "574:\tlearn: 0.1047723\ttotal: 2.77s\tremaining: 2.05s\n",
      "575:\tlearn: 0.1046782\ttotal: 2.77s\tremaining: 2.04s\n",
      "576:\tlearn: 0.1045539\ttotal: 2.78s\tremaining: 2.04s\n",
      "577:\tlearn: 0.1043257\ttotal: 2.78s\tremaining: 2.03s\n",
      "578:\tlearn: 0.1041494\ttotal: 2.79s\tremaining: 2.03s\n",
      "579:\tlearn: 0.1041397\ttotal: 2.79s\tremaining: 2.02s\n",
      "580:\tlearn: 0.1038690\ttotal: 2.79s\tremaining: 2.01s\n",
      "581:\tlearn: 0.1035966\ttotal: 2.8s\tremaining: 2.01s\n",
      "582:\tlearn: 0.1032668\ttotal: 2.8s\tremaining: 2s\n",
      "583:\tlearn: 0.1030283\ttotal: 2.81s\tremaining: 2s\n",
      "584:\tlearn: 0.1027494\ttotal: 2.81s\tremaining: 2s\n",
      "585:\tlearn: 0.1024572\ttotal: 2.81s\tremaining: 1.99s\n",
      "586:\tlearn: 0.1021729\ttotal: 2.82s\tremaining: 1.99s\n",
      "587:\tlearn: 0.1019326\ttotal: 2.83s\tremaining: 1.98s\n",
      "588:\tlearn: 0.1017166\ttotal: 2.83s\tremaining: 1.98s\n",
      "589:\tlearn: 0.1014595\ttotal: 2.83s\tremaining: 1.97s\n",
      "590:\tlearn: 0.1012781\ttotal: 2.84s\tremaining: 1.96s\n",
      "591:\tlearn: 0.1010818\ttotal: 2.84s\tremaining: 1.96s\n",
      "592:\tlearn: 0.1009438\ttotal: 2.84s\tremaining: 1.95s\n",
      "593:\tlearn: 0.1007748\ttotal: 2.85s\tremaining: 1.94s\n",
      "594:\tlearn: 0.1005693\ttotal: 2.85s\tremaining: 1.94s\n",
      "595:\tlearn: 0.1004175\ttotal: 2.85s\tremaining: 1.93s\n",
      "596:\tlearn: 0.1002032\ttotal: 2.85s\tremaining: 1.93s\n",
      "597:\tlearn: 0.0999544\ttotal: 2.85s\tremaining: 1.92s\n",
      "598:\tlearn: 0.0997294\ttotal: 2.86s\tremaining: 1.91s\n"
     ]
    },
    {
     "name": "stdout",
     "output_type": "stream",
     "text": [
      "599:\tlearn: 0.0995629\ttotal: 2.86s\tremaining: 1.91s\n",
      "600:\tlearn: 0.0994028\ttotal: 2.87s\tremaining: 1.91s\n",
      "601:\tlearn: 0.0992321\ttotal: 2.87s\tremaining: 1.9s\n",
      "602:\tlearn: 0.0989776\ttotal: 2.88s\tremaining: 1.89s\n",
      "603:\tlearn: 0.0987860\ttotal: 2.88s\tremaining: 1.89s\n",
      "604:\tlearn: 0.0985627\ttotal: 2.88s\tremaining: 1.88s\n",
      "605:\tlearn: 0.0982964\ttotal: 2.88s\tremaining: 1.87s\n",
      "606:\tlearn: 0.0981463\ttotal: 2.88s\tremaining: 1.87s\n",
      "607:\tlearn: 0.0978509\ttotal: 2.89s\tremaining: 1.86s\n",
      "608:\tlearn: 0.0976847\ttotal: 2.89s\tremaining: 1.85s\n",
      "609:\tlearn: 0.0976222\ttotal: 2.9s\tremaining: 1.85s\n",
      "610:\tlearn: 0.0975022\ttotal: 2.9s\tremaining: 1.84s\n",
      "611:\tlearn: 0.0973249\ttotal: 2.9s\tremaining: 1.84s\n",
      "612:\tlearn: 0.0970656\ttotal: 2.9s\tremaining: 1.83s\n",
      "613:\tlearn: 0.0968237\ttotal: 2.9s\tremaining: 1.83s\n",
      "614:\tlearn: 0.0966432\ttotal: 2.91s\tremaining: 1.82s\n",
      "615:\tlearn: 0.0964811\ttotal: 2.91s\tremaining: 1.81s\n",
      "616:\tlearn: 0.0963024\ttotal: 2.92s\tremaining: 1.81s\n",
      "617:\tlearn: 0.0962397\ttotal: 2.92s\tremaining: 1.8s\n",
      "618:\tlearn: 0.0960987\ttotal: 2.92s\tremaining: 1.8s\n",
      "619:\tlearn: 0.0959254\ttotal: 2.92s\tremaining: 1.79s\n",
      "620:\tlearn: 0.0956922\ttotal: 2.92s\tremaining: 1.78s\n",
      "621:\tlearn: 0.0954799\ttotal: 2.93s\tremaining: 1.78s\n",
      "622:\tlearn: 0.0952505\ttotal: 2.93s\tremaining: 1.77s\n",
      "623:\tlearn: 0.0951063\ttotal: 2.93s\tremaining: 1.77s\n",
      "624:\tlearn: 0.0949378\ttotal: 2.94s\tremaining: 1.76s\n",
      "625:\tlearn: 0.0947083\ttotal: 2.94s\tremaining: 1.76s\n",
      "626:\tlearn: 0.0946457\ttotal: 2.94s\tremaining: 1.75s\n",
      "627:\tlearn: 0.0943765\ttotal: 2.95s\tremaining: 1.75s\n",
      "628:\tlearn: 0.0941170\ttotal: 2.95s\tremaining: 1.74s\n",
      "629:\tlearn: 0.0940353\ttotal: 2.95s\tremaining: 1.73s\n",
      "630:\tlearn: 0.0939364\ttotal: 2.95s\tremaining: 1.73s\n",
      "631:\tlearn: 0.0938109\ttotal: 2.96s\tremaining: 1.72s\n",
      "632:\tlearn: 0.0936567\ttotal: 2.96s\tremaining: 1.72s\n",
      "633:\tlearn: 0.0935072\ttotal: 2.96s\tremaining: 1.71s\n",
      "634:\tlearn: 0.0933133\ttotal: 2.96s\tremaining: 1.7s\n",
      "635:\tlearn: 0.0932350\ttotal: 2.96s\tremaining: 1.7s\n",
      "636:\tlearn: 0.0930633\ttotal: 2.97s\tremaining: 1.69s\n",
      "637:\tlearn: 0.0928129\ttotal: 2.97s\tremaining: 1.69s\n",
      "638:\tlearn: 0.0925848\ttotal: 2.97s\tremaining: 1.68s\n",
      "639:\tlearn: 0.0924683\ttotal: 2.98s\tremaining: 1.67s\n",
      "640:\tlearn: 0.0922512\ttotal: 2.98s\tremaining: 1.67s\n",
      "641:\tlearn: 0.0920355\ttotal: 2.98s\tremaining: 1.66s\n",
      "642:\tlearn: 0.0918038\ttotal: 2.98s\tremaining: 1.66s\n",
      "643:\tlearn: 0.0915898\ttotal: 2.98s\tremaining: 1.65s\n",
      "644:\tlearn: 0.0914777\ttotal: 2.99s\tremaining: 1.64s\n",
      "645:\tlearn: 0.0914155\ttotal: 2.99s\tremaining: 1.64s\n",
      "646:\tlearn: 0.0912793\ttotal: 2.99s\tremaining: 1.63s\n",
      "647:\tlearn: 0.0910944\ttotal: 3s\tremaining: 1.63s\n",
      "648:\tlearn: 0.0910241\ttotal: 3s\tremaining: 1.62s\n",
      "649:\tlearn: 0.0908950\ttotal: 3s\tremaining: 1.62s\n",
      "650:\tlearn: 0.0907239\ttotal: 3s\tremaining: 1.61s\n",
      "651:\tlearn: 0.0905359\ttotal: 3.01s\tremaining: 1.6s\n",
      "652:\tlearn: 0.0903718\ttotal: 3.01s\tremaining: 1.6s\n",
      "653:\tlearn: 0.0901021\ttotal: 3.01s\tremaining: 1.59s\n",
      "654:\tlearn: 0.0899214\ttotal: 3.01s\tremaining: 1.59s\n",
      "655:\tlearn: 0.0896866\ttotal: 3.02s\tremaining: 1.58s\n",
      "656:\tlearn: 0.0895828\ttotal: 3.02s\tremaining: 1.58s\n",
      "657:\tlearn: 0.0894093\ttotal: 3.02s\tremaining: 1.57s\n",
      "658:\tlearn: 0.0891832\ttotal: 3.02s\tremaining: 1.56s\n",
      "659:\tlearn: 0.0890320\ttotal: 3.03s\tremaining: 1.56s\n",
      "660:\tlearn: 0.0889149\ttotal: 3.03s\tremaining: 1.55s\n",
      "661:\tlearn: 0.0886754\ttotal: 3.03s\tremaining: 1.55s\n",
      "662:\tlearn: 0.0885181\ttotal: 3.03s\tremaining: 1.54s\n"
     ]
    },
    {
     "name": "stdout",
     "output_type": "stream",
     "text": [
      "663:\tlearn: 0.0883774\ttotal: 3.04s\tremaining: 1.54s\n",
      "664:\tlearn: 0.0881928\ttotal: 3.04s\tremaining: 1.53s\n",
      "665:\tlearn: 0.0879658\ttotal: 3.04s\tremaining: 1.52s\n",
      "666:\tlearn: 0.0879032\ttotal: 3.04s\tremaining: 1.52s\n",
      "667:\tlearn: 0.0877989\ttotal: 3.04s\tremaining: 1.51s\n",
      "668:\tlearn: 0.0876318\ttotal: 3.05s\tremaining: 1.51s\n",
      "669:\tlearn: 0.0874720\ttotal: 3.05s\tremaining: 1.5s\n",
      "670:\tlearn: 0.0872132\ttotal: 3.05s\tremaining: 1.5s\n",
      "671:\tlearn: 0.0870123\ttotal: 3.05s\tremaining: 1.49s\n",
      "672:\tlearn: 0.0868634\ttotal: 3.06s\tremaining: 1.49s\n",
      "673:\tlearn: 0.0866574\ttotal: 3.06s\tremaining: 1.48s\n",
      "674:\tlearn: 0.0865875\ttotal: 3.06s\tremaining: 1.47s\n",
      "675:\tlearn: 0.0864407\ttotal: 3.06s\tremaining: 1.47s\n",
      "676:\tlearn: 0.0863025\ttotal: 3.07s\tremaining: 1.46s\n",
      "677:\tlearn: 0.0861124\ttotal: 3.07s\tremaining: 1.46s\n",
      "678:\tlearn: 0.0859482\ttotal: 3.07s\tremaining: 1.45s\n",
      "679:\tlearn: 0.0856980\ttotal: 3.07s\tremaining: 1.45s\n",
      "680:\tlearn: 0.0855118\ttotal: 3.08s\tremaining: 1.44s\n",
      "681:\tlearn: 0.0853561\ttotal: 3.08s\tremaining: 1.44s\n",
      "682:\tlearn: 0.0852210\ttotal: 3.08s\tremaining: 1.43s\n",
      "683:\tlearn: 0.0850830\ttotal: 3.08s\tremaining: 1.42s\n",
      "684:\tlearn: 0.0849005\ttotal: 3.08s\tremaining: 1.42s\n",
      "685:\tlearn: 0.0848205\ttotal: 3.09s\tremaining: 1.41s\n",
      "686:\tlearn: 0.0846585\ttotal: 3.09s\tremaining: 1.41s\n",
      "687:\tlearn: 0.0845856\ttotal: 3.09s\tremaining: 1.4s\n",
      "688:\tlearn: 0.0844016\ttotal: 3.09s\tremaining: 1.4s\n",
      "689:\tlearn: 0.0843089\ttotal: 3.1s\tremaining: 1.39s\n",
      "690:\tlearn: 0.0841154\ttotal: 3.1s\tremaining: 1.39s\n",
      "691:\tlearn: 0.0839918\ttotal: 3.1s\tremaining: 1.38s\n",
      "692:\tlearn: 0.0838291\ttotal: 3.1s\tremaining: 1.37s\n",
      "693:\tlearn: 0.0835566\ttotal: 3.1s\tremaining: 1.37s\n",
      "694:\tlearn: 0.0834377\ttotal: 3.11s\tremaining: 1.36s\n",
      "695:\tlearn: 0.0833843\ttotal: 3.11s\tremaining: 1.36s\n",
      "696:\tlearn: 0.0832209\ttotal: 3.11s\tremaining: 1.35s\n",
      "697:\tlearn: 0.0830743\ttotal: 3.12s\tremaining: 1.35s\n",
      "698:\tlearn: 0.0829579\ttotal: 3.12s\tremaining: 1.34s\n",
      "699:\tlearn: 0.0827927\ttotal: 3.12s\tremaining: 1.34s\n",
      "700:\tlearn: 0.0827103\ttotal: 3.12s\tremaining: 1.33s\n",
      "701:\tlearn: 0.0826220\ttotal: 3.12s\tremaining: 1.33s\n",
      "702:\tlearn: 0.0824843\ttotal: 3.13s\tremaining: 1.32s\n",
      "703:\tlearn: 0.0822832\ttotal: 3.13s\tremaining: 1.31s\n",
      "704:\tlearn: 0.0821687\ttotal: 3.13s\tremaining: 1.31s\n",
      "705:\tlearn: 0.0820166\ttotal: 3.13s\tremaining: 1.3s\n",
      "706:\tlearn: 0.0819783\ttotal: 3.13s\tremaining: 1.3s\n",
      "707:\tlearn: 0.0817949\ttotal: 3.13s\tremaining: 1.29s\n",
      "708:\tlearn: 0.0816382\ttotal: 3.14s\tremaining: 1.29s\n",
      "709:\tlearn: 0.0815852\ttotal: 3.14s\tremaining: 1.28s\n",
      "710:\tlearn: 0.0814286\ttotal: 3.14s\tremaining: 1.28s\n",
      "711:\tlearn: 0.0813729\ttotal: 3.14s\tremaining: 1.27s\n",
      "712:\tlearn: 0.0812663\ttotal: 3.15s\tremaining: 1.27s\n",
      "713:\tlearn: 0.0811567\ttotal: 3.15s\tremaining: 1.26s\n",
      "714:\tlearn: 0.0810146\ttotal: 3.15s\tremaining: 1.25s\n",
      "715:\tlearn: 0.0809563\ttotal: 3.15s\tremaining: 1.25s\n",
      "716:\tlearn: 0.0808097\ttotal: 3.15s\tremaining: 1.25s\n",
      "717:\tlearn: 0.0807394\ttotal: 3.16s\tremaining: 1.24s\n",
      "718:\tlearn: 0.0806880\ttotal: 3.16s\tremaining: 1.23s\n",
      "719:\tlearn: 0.0806030\ttotal: 3.16s\tremaining: 1.23s\n",
      "720:\tlearn: 0.0804671\ttotal: 3.16s\tremaining: 1.22s\n",
      "721:\tlearn: 0.0802884\ttotal: 3.17s\tremaining: 1.22s\n",
      "722:\tlearn: 0.0801677\ttotal: 3.17s\tremaining: 1.21s\n",
      "723:\tlearn: 0.0799790\ttotal: 3.17s\tremaining: 1.21s\n",
      "724:\tlearn: 0.0797894\ttotal: 3.17s\tremaining: 1.2s\n",
      "725:\tlearn: 0.0797502\ttotal: 3.17s\tremaining: 1.2s\n",
      "726:\tlearn: 0.0795916\ttotal: 3.18s\tremaining: 1.19s\n",
      "727:\tlearn: 0.0795382\ttotal: 3.18s\tremaining: 1.19s\n",
      "728:\tlearn: 0.0793731\ttotal: 3.18s\tremaining: 1.18s\n",
      "729:\tlearn: 0.0792422\ttotal: 3.18s\tremaining: 1.18s\n",
      "730:\tlearn: 0.0791676\ttotal: 3.19s\tremaining: 1.17s\n",
      "731:\tlearn: 0.0790719\ttotal: 3.19s\tremaining: 1.17s\n",
      "732:\tlearn: 0.0789915\ttotal: 3.19s\tremaining: 1.16s\n",
      "733:\tlearn: 0.0788833\ttotal: 3.19s\tremaining: 1.16s\n",
      "734:\tlearn: 0.0787461\ttotal: 3.19s\tremaining: 1.15s\n",
      "735:\tlearn: 0.0785469\ttotal: 3.2s\tremaining: 1.15s\n",
      "736:\tlearn: 0.0784907\ttotal: 3.2s\tremaining: 1.14s\n",
      "737:\tlearn: 0.0783030\ttotal: 3.2s\tremaining: 1.14s\n",
      "738:\tlearn: 0.0781656\ttotal: 3.21s\tremaining: 1.13s\n",
      "739:\tlearn: 0.0780185\ttotal: 3.21s\tremaining: 1.13s\n",
      "740:\tlearn: 0.0779350\ttotal: 3.21s\tremaining: 1.12s\n"
     ]
    },
    {
     "name": "stdout",
     "output_type": "stream",
     "text": [
      "741:\tlearn: 0.0778461\ttotal: 3.21s\tremaining: 1.12s\n",
      "742:\tlearn: 0.0776801\ttotal: 3.22s\tremaining: 1.11s\n",
      "743:\tlearn: 0.0776454\ttotal: 3.22s\tremaining: 1.11s\n",
      "744:\tlearn: 0.0774641\ttotal: 3.22s\tremaining: 1.1s\n",
      "745:\tlearn: 0.0773445\ttotal: 3.22s\tremaining: 1.1s\n",
      "746:\tlearn: 0.0772271\ttotal: 3.23s\tremaining: 1.09s\n",
      "747:\tlearn: 0.0771697\ttotal: 3.23s\tremaining: 1.09s\n",
      "748:\tlearn: 0.0770677\ttotal: 3.23s\tremaining: 1.08s\n",
      "749:\tlearn: 0.0769159\ttotal: 3.23s\tremaining: 1.08s\n",
      "750:\tlearn: 0.0767032\ttotal: 3.24s\tremaining: 1.07s\n",
      "751:\tlearn: 0.0765604\ttotal: 3.24s\tremaining: 1.07s\n",
      "752:\tlearn: 0.0764214\ttotal: 3.24s\tremaining: 1.06s\n",
      "753:\tlearn: 0.0762473\ttotal: 3.25s\tremaining: 1.06s\n",
      "754:\tlearn: 0.0760719\ttotal: 3.25s\tremaining: 1.05s\n",
      "755:\tlearn: 0.0760045\ttotal: 3.25s\tremaining: 1.05s\n",
      "756:\tlearn: 0.0758527\ttotal: 3.25s\tremaining: 1.04s\n",
      "757:\tlearn: 0.0757312\ttotal: 3.26s\tremaining: 1.04s\n",
      "758:\tlearn: 0.0755546\ttotal: 3.26s\tremaining: 1.03s\n",
      "759:\tlearn: 0.0753602\ttotal: 3.26s\tremaining: 1.03s\n",
      "760:\tlearn: 0.0753492\ttotal: 3.26s\tremaining: 1.02s\n",
      "761:\tlearn: 0.0751734\ttotal: 3.27s\tremaining: 1.02s\n",
      "762:\tlearn: 0.0750141\ttotal: 3.27s\tremaining: 1.01s\n",
      "763:\tlearn: 0.0749559\ttotal: 3.27s\tremaining: 1.01s\n",
      "764:\tlearn: 0.0747693\ttotal: 3.27s\tremaining: 1s\n",
      "765:\tlearn: 0.0746315\ttotal: 3.27s\tremaining: 1s\n",
      "766:\tlearn: 0.0744402\ttotal: 3.28s\tremaining: 996ms\n",
      "767:\tlearn: 0.0742811\ttotal: 3.28s\tremaining: 991ms\n",
      "768:\tlearn: 0.0740942\ttotal: 3.28s\tremaining: 986ms\n",
      "769:\tlearn: 0.0739032\ttotal: 3.29s\tremaining: 982ms\n",
      "770:\tlearn: 0.0737899\ttotal: 3.29s\tremaining: 977ms\n",
      "771:\tlearn: 0.0737002\ttotal: 3.29s\tremaining: 972ms\n",
      "772:\tlearn: 0.0736002\ttotal: 3.29s\tremaining: 967ms\n",
      "773:\tlearn: 0.0735664\ttotal: 3.29s\tremaining: 962ms\n",
      "774:\tlearn: 0.0735544\ttotal: 3.3s\tremaining: 957ms\n",
      "775:\tlearn: 0.0734098\ttotal: 3.3s\tremaining: 953ms\n",
      "776:\tlearn: 0.0733448\ttotal: 3.3s\tremaining: 948ms\n",
      "777:\tlearn: 0.0731886\ttotal: 3.3s\tremaining: 943ms\n",
      "778:\tlearn: 0.0730163\ttotal: 3.31s\tremaining: 938ms\n",
      "779:\tlearn: 0.0728905\ttotal: 3.31s\tremaining: 933ms\n",
      "780:\tlearn: 0.0727498\ttotal: 3.31s\tremaining: 929ms\n",
      "781:\tlearn: 0.0725278\ttotal: 3.31s\tremaining: 924ms\n",
      "782:\tlearn: 0.0724253\ttotal: 3.32s\tremaining: 919ms\n",
      "783:\tlearn: 0.0723300\ttotal: 3.32s\tremaining: 915ms\n",
      "784:\tlearn: 0.0722267\ttotal: 3.33s\tremaining: 911ms\n",
      "785:\tlearn: 0.0721855\ttotal: 3.33s\tremaining: 907ms\n",
      "786:\tlearn: 0.0721220\ttotal: 3.33s\tremaining: 902ms\n",
      "787:\tlearn: 0.0719517\ttotal: 3.34s\tremaining: 898ms\n",
      "788:\tlearn: 0.0718518\ttotal: 3.34s\tremaining: 893ms\n",
      "789:\tlearn: 0.0717216\ttotal: 3.34s\tremaining: 888ms\n",
      "790:\tlearn: 0.0716226\ttotal: 3.34s\tremaining: 884ms\n",
      "791:\tlearn: 0.0714798\ttotal: 3.35s\tremaining: 879ms\n",
      "792:\tlearn: 0.0713450\ttotal: 3.35s\tremaining: 874ms\n",
      "793:\tlearn: 0.0713015\ttotal: 3.35s\tremaining: 869ms\n",
      "794:\tlearn: 0.0711952\ttotal: 3.35s\tremaining: 865ms\n",
      "795:\tlearn: 0.0711275\ttotal: 3.35s\tremaining: 860ms\n",
      "796:\tlearn: 0.0710144\ttotal: 3.36s\tremaining: 855ms\n",
      "797:\tlearn: 0.0708658\ttotal: 3.36s\tremaining: 851ms\n",
      "798:\tlearn: 0.0707669\ttotal: 3.36s\tremaining: 846ms\n",
      "799:\tlearn: 0.0706779\ttotal: 3.37s\tremaining: 842ms\n",
      "800:\tlearn: 0.0705787\ttotal: 3.37s\tremaining: 837ms\n",
      "801:\tlearn: 0.0705343\ttotal: 3.37s\tremaining: 832ms\n",
      "802:\tlearn: 0.0704877\ttotal: 3.37s\tremaining: 828ms\n",
      "803:\tlearn: 0.0703296\ttotal: 3.38s\tremaining: 823ms\n",
      "804:\tlearn: 0.0701350\ttotal: 3.38s\tremaining: 819ms\n",
      "805:\tlearn: 0.0699408\ttotal: 3.38s\tremaining: 814ms\n",
      "806:\tlearn: 0.0697507\ttotal: 3.38s\tremaining: 809ms\n",
      "807:\tlearn: 0.0695992\ttotal: 3.39s\tremaining: 805ms\n",
      "808:\tlearn: 0.0695458\ttotal: 3.39s\tremaining: 800ms\n"
     ]
    },
    {
     "name": "stdout",
     "output_type": "stream",
     "text": [
      "809:\tlearn: 0.0694013\ttotal: 3.39s\tremaining: 796ms\n",
      "810:\tlearn: 0.0693303\ttotal: 3.39s\tremaining: 791ms\n",
      "811:\tlearn: 0.0691941\ttotal: 3.4s\tremaining: 786ms\n",
      "812:\tlearn: 0.0690979\ttotal: 3.4s\tremaining: 782ms\n",
      "813:\tlearn: 0.0689733\ttotal: 3.4s\tremaining: 777ms\n",
      "814:\tlearn: 0.0688490\ttotal: 3.4s\tremaining: 773ms\n",
      "815:\tlearn: 0.0687750\ttotal: 3.4s\tremaining: 768ms\n",
      "816:\tlearn: 0.0686560\ttotal: 3.41s\tremaining: 763ms\n",
      "817:\tlearn: 0.0685573\ttotal: 3.41s\tremaining: 759ms\n",
      "818:\tlearn: 0.0684781\ttotal: 3.41s\tremaining: 754ms\n",
      "819:\tlearn: 0.0684341\ttotal: 3.41s\tremaining: 750ms\n",
      "820:\tlearn: 0.0683349\ttotal: 3.42s\tremaining: 745ms\n",
      "821:\tlearn: 0.0682472\ttotal: 3.42s\tremaining: 740ms\n",
      "822:\tlearn: 0.0681363\ttotal: 3.42s\tremaining: 736ms\n",
      "823:\tlearn: 0.0680909\ttotal: 3.42s\tremaining: 731ms\n",
      "824:\tlearn: 0.0679915\ttotal: 3.43s\tremaining: 727ms\n",
      "825:\tlearn: 0.0678441\ttotal: 3.43s\tremaining: 722ms\n",
      "826:\tlearn: 0.0676090\ttotal: 3.43s\tremaining: 718ms\n",
      "827:\tlearn: 0.0675027\ttotal: 3.43s\tremaining: 713ms\n",
      "828:\tlearn: 0.0674152\ttotal: 3.44s\tremaining: 709ms\n",
      "829:\tlearn: 0.0673779\ttotal: 3.44s\tremaining: 704ms\n",
      "830:\tlearn: 0.0672553\ttotal: 3.44s\tremaining: 700ms\n",
      "831:\tlearn: 0.0671010\ttotal: 3.45s\tremaining: 696ms\n",
      "832:\tlearn: 0.0670360\ttotal: 3.46s\tremaining: 693ms\n",
      "833:\tlearn: 0.0669645\ttotal: 3.46s\tremaining: 689ms\n",
      "834:\tlearn: 0.0668173\ttotal: 3.46s\tremaining: 684ms\n",
      "835:\tlearn: 0.0666795\ttotal: 3.46s\tremaining: 680ms\n",
      "836:\tlearn: 0.0665405\ttotal: 3.47s\tremaining: 675ms\n",
      "837:\tlearn: 0.0664272\ttotal: 3.47s\tremaining: 672ms\n",
      "838:\tlearn: 0.0663176\ttotal: 3.48s\tremaining: 667ms\n",
      "839:\tlearn: 0.0662159\ttotal: 3.48s\tremaining: 662ms\n",
      "840:\tlearn: 0.0660723\ttotal: 3.48s\tremaining: 658ms\n",
      "841:\tlearn: 0.0659653\ttotal: 3.48s\tremaining: 653ms\n",
      "842:\tlearn: 0.0658733\ttotal: 3.48s\tremaining: 648ms\n",
      "843:\tlearn: 0.0657131\ttotal: 3.48s\tremaining: 644ms\n",
      "844:\tlearn: 0.0655592\ttotal: 3.48s\tremaining: 639ms\n",
      "845:\tlearn: 0.0654522\ttotal: 3.49s\tremaining: 635ms\n",
      "846:\tlearn: 0.0653450\ttotal: 3.49s\tremaining: 630ms\n",
      "847:\tlearn: 0.0652180\ttotal: 3.49s\tremaining: 625ms\n",
      "848:\tlearn: 0.0651347\ttotal: 3.49s\tremaining: 621ms\n",
      "849:\tlearn: 0.0650521\ttotal: 3.49s\tremaining: 616ms\n",
      "850:\tlearn: 0.0649577\ttotal: 3.49s\tremaining: 612ms\n",
      "851:\tlearn: 0.0649269\ttotal: 3.5s\tremaining: 607ms\n",
      "852:\tlearn: 0.0647856\ttotal: 3.5s\tremaining: 603ms\n",
      "853:\tlearn: 0.0646186\ttotal: 3.5s\tremaining: 598ms\n",
      "854:\tlearn: 0.0644921\ttotal: 3.5s\tremaining: 594ms\n",
      "855:\tlearn: 0.0643621\ttotal: 3.5s\tremaining: 589ms\n",
      "856:\tlearn: 0.0641987\ttotal: 3.5s\tremaining: 585ms\n",
      "857:\tlearn: 0.0641241\ttotal: 3.5s\tremaining: 580ms\n",
      "858:\tlearn: 0.0639698\ttotal: 3.51s\tremaining: 576ms\n",
      "859:\tlearn: 0.0638915\ttotal: 3.51s\tremaining: 571ms\n",
      "860:\tlearn: 0.0638083\ttotal: 3.51s\tremaining: 567ms\n",
      "861:\tlearn: 0.0636935\ttotal: 3.51s\tremaining: 562ms\n",
      "862:\tlearn: 0.0635942\ttotal: 3.51s\tremaining: 558ms\n",
      "863:\tlearn: 0.0635072\ttotal: 3.51s\tremaining: 553ms\n",
      "864:\tlearn: 0.0634802\ttotal: 3.51s\tremaining: 549ms\n",
      "865:\tlearn: 0.0633708\ttotal: 3.52s\tremaining: 544ms\n",
      "866:\tlearn: 0.0632667\ttotal: 3.52s\tremaining: 540ms\n",
      "867:\tlearn: 0.0631622\ttotal: 3.52s\tremaining: 535ms\n",
      "868:\tlearn: 0.0630876\ttotal: 3.52s\tremaining: 531ms\n",
      "869:\tlearn: 0.0629804\ttotal: 3.52s\tremaining: 526ms\n",
      "870:\tlearn: 0.0629252\ttotal: 3.52s\tremaining: 522ms\n",
      "871:\tlearn: 0.0628366\ttotal: 3.53s\tremaining: 518ms\n",
      "872:\tlearn: 0.0626993\ttotal: 3.53s\tremaining: 514ms\n",
      "873:\tlearn: 0.0625839\ttotal: 3.54s\tremaining: 510ms\n",
      "874:\tlearn: 0.0624942\ttotal: 3.54s\tremaining: 505ms\n",
      "875:\tlearn: 0.0623813\ttotal: 3.54s\tremaining: 501ms\n",
      "876:\tlearn: 0.0622551\ttotal: 3.54s\tremaining: 497ms\n",
      "877:\tlearn: 0.0621305\ttotal: 3.55s\tremaining: 493ms\n",
      "878:\tlearn: 0.0620091\ttotal: 3.55s\tremaining: 489ms\n",
      "879:\tlearn: 0.0619405\ttotal: 3.55s\tremaining: 484ms\n",
      "880:\tlearn: 0.0618605\ttotal: 3.55s\tremaining: 480ms\n",
      "881:\tlearn: 0.0617432\ttotal: 3.56s\tremaining: 476ms\n",
      "882:\tlearn: 0.0616267\ttotal: 3.56s\tremaining: 472ms\n"
     ]
    },
    {
     "name": "stdout",
     "output_type": "stream",
     "text": [
      "883:\tlearn: 0.0615487\ttotal: 3.57s\tremaining: 469ms\n",
      "884:\tlearn: 0.0615136\ttotal: 3.58s\tremaining: 465ms\n",
      "885:\tlearn: 0.0614299\ttotal: 3.58s\tremaining: 460ms\n",
      "886:\tlearn: 0.0613996\ttotal: 3.58s\tremaining: 456ms\n",
      "887:\tlearn: 0.0613425\ttotal: 3.58s\tremaining: 452ms\n",
      "888:\tlearn: 0.0612458\ttotal: 3.58s\tremaining: 448ms\n",
      "889:\tlearn: 0.0611476\ttotal: 3.59s\tremaining: 443ms\n",
      "890:\tlearn: 0.0609977\ttotal: 3.59s\tremaining: 439ms\n",
      "891:\tlearn: 0.0609561\ttotal: 3.59s\tremaining: 435ms\n",
      "892:\tlearn: 0.0608172\ttotal: 3.6s\tremaining: 431ms\n",
      "893:\tlearn: 0.0607170\ttotal: 3.6s\tremaining: 427ms\n",
      "894:\tlearn: 0.0606256\ttotal: 3.6s\tremaining: 423ms\n",
      "895:\tlearn: 0.0604860\ttotal: 3.61s\tremaining: 419ms\n",
      "896:\tlearn: 0.0603486\ttotal: 3.61s\tremaining: 414ms\n",
      "897:\tlearn: 0.0603007\ttotal: 3.61s\tremaining: 410ms\n",
      "898:\tlearn: 0.0602162\ttotal: 3.61s\tremaining: 406ms\n",
      "899:\tlearn: 0.0601363\ttotal: 3.62s\tremaining: 402ms\n",
      "900:\tlearn: 0.0600707\ttotal: 3.62s\tremaining: 398ms\n",
      "901:\tlearn: 0.0599700\ttotal: 3.62s\tremaining: 394ms\n",
      "902:\tlearn: 0.0598507\ttotal: 3.63s\tremaining: 389ms\n",
      "903:\tlearn: 0.0597852\ttotal: 3.63s\tremaining: 385ms\n",
      "904:\tlearn: 0.0597579\ttotal: 3.63s\tremaining: 381ms\n",
      "905:\tlearn: 0.0597245\ttotal: 3.63s\tremaining: 377ms\n",
      "906:\tlearn: 0.0596342\ttotal: 3.64s\tremaining: 373ms\n",
      "907:\tlearn: 0.0596250\ttotal: 3.64s\tremaining: 369ms\n",
      "908:\tlearn: 0.0595217\ttotal: 3.64s\tremaining: 365ms\n",
      "909:\tlearn: 0.0594220\ttotal: 3.64s\tremaining: 360ms\n",
      "910:\tlearn: 0.0593879\ttotal: 3.65s\tremaining: 356ms\n",
      "911:\tlearn: 0.0593073\ttotal: 3.65s\tremaining: 352ms\n",
      "912:\tlearn: 0.0592123\ttotal: 3.65s\tremaining: 348ms\n",
      "913:\tlearn: 0.0591195\ttotal: 3.65s\tremaining: 344ms\n",
      "914:\tlearn: 0.0590500\ttotal: 3.65s\tremaining: 340ms\n",
      "915:\tlearn: 0.0589521\ttotal: 3.66s\tremaining: 335ms\n",
      "916:\tlearn: 0.0588917\ttotal: 3.66s\tremaining: 331ms\n",
      "917:\tlearn: 0.0588091\ttotal: 3.66s\tremaining: 327ms\n",
      "918:\tlearn: 0.0587523\ttotal: 3.66s\tremaining: 323ms\n",
      "919:\tlearn: 0.0586539\ttotal: 3.67s\tremaining: 319ms\n",
      "920:\tlearn: 0.0585396\ttotal: 3.67s\tremaining: 315ms\n",
      "921:\tlearn: 0.0584554\ttotal: 3.67s\tremaining: 311ms\n",
      "922:\tlearn: 0.0584446\ttotal: 3.67s\tremaining: 307ms\n",
      "923:\tlearn: 0.0583836\ttotal: 3.68s\tremaining: 302ms\n",
      "924:\tlearn: 0.0582748\ttotal: 3.68s\tremaining: 298ms\n",
      "925:\tlearn: 0.0581837\ttotal: 3.68s\tremaining: 294ms\n",
      "926:\tlearn: 0.0581190\ttotal: 3.68s\tremaining: 290ms\n",
      "927:\tlearn: 0.0580164\ttotal: 3.69s\tremaining: 286ms\n",
      "928:\tlearn: 0.0579709\ttotal: 3.69s\tremaining: 282ms\n",
      "929:\tlearn: 0.0578580\ttotal: 3.69s\tremaining: 278ms\n",
      "930:\tlearn: 0.0576885\ttotal: 3.69s\tremaining: 274ms\n",
      "931:\tlearn: 0.0575645\ttotal: 3.69s\tremaining: 270ms\n",
      "932:\tlearn: 0.0575239\ttotal: 3.7s\tremaining: 266ms\n",
      "933:\tlearn: 0.0574963\ttotal: 3.7s\tremaining: 261ms\n",
      "934:\tlearn: 0.0573483\ttotal: 3.71s\tremaining: 258ms\n",
      "935:\tlearn: 0.0572711\ttotal: 3.71s\tremaining: 254ms\n",
      "936:\tlearn: 0.0572029\ttotal: 3.71s\tremaining: 249ms\n",
      "937:\tlearn: 0.0570933\ttotal: 3.71s\tremaining: 245ms\n",
      "938:\tlearn: 0.0569802\ttotal: 3.71s\tremaining: 241ms\n",
      "939:\tlearn: 0.0568739\ttotal: 3.72s\tremaining: 237ms\n",
      "940:\tlearn: 0.0568005\ttotal: 3.72s\tremaining: 233ms\n",
      "941:\tlearn: 0.0566899\ttotal: 3.72s\tremaining: 229ms\n",
      "942:\tlearn: 0.0566392\ttotal: 3.72s\tremaining: 225ms\n",
      "943:\tlearn: 0.0566093\ttotal: 3.73s\tremaining: 221ms\n",
      "944:\tlearn: 0.0564499\ttotal: 3.73s\tremaining: 217ms\n",
      "945:\tlearn: 0.0563895\ttotal: 3.73s\tremaining: 213ms\n",
      "946:\tlearn: 0.0563113\ttotal: 3.73s\tremaining: 209ms\n",
      "947:\tlearn: 0.0562120\ttotal: 3.74s\tremaining: 205ms\n",
      "948:\tlearn: 0.0560573\ttotal: 3.74s\tremaining: 201ms\n",
      "949:\tlearn: 0.0559755\ttotal: 3.74s\tremaining: 197ms\n",
      "950:\tlearn: 0.0559047\ttotal: 3.74s\tremaining: 193ms\n"
     ]
    },
    {
     "name": "stdout",
     "output_type": "stream",
     "text": [
      "951:\tlearn: 0.0558566\ttotal: 3.75s\tremaining: 189ms\n",
      "952:\tlearn: 0.0557722\ttotal: 3.75s\tremaining: 185ms\n",
      "953:\tlearn: 0.0556997\ttotal: 3.75s\tremaining: 181ms\n",
      "954:\tlearn: 0.0556023\ttotal: 3.75s\tremaining: 177ms\n",
      "955:\tlearn: 0.0555200\ttotal: 3.76s\tremaining: 173ms\n",
      "956:\tlearn: 0.0554419\ttotal: 3.76s\tremaining: 169ms\n",
      "957:\tlearn: 0.0553417\ttotal: 3.76s\tremaining: 165ms\n",
      "958:\tlearn: 0.0552966\ttotal: 3.77s\tremaining: 161ms\n",
      "959:\tlearn: 0.0552477\ttotal: 3.77s\tremaining: 157ms\n",
      "960:\tlearn: 0.0551525\ttotal: 3.77s\tremaining: 153ms\n",
      "961:\tlearn: 0.0551429\ttotal: 3.77s\tremaining: 149ms\n",
      "962:\tlearn: 0.0550709\ttotal: 3.77s\tremaining: 145ms\n",
      "963:\tlearn: 0.0549745\ttotal: 3.77s\tremaining: 141ms\n",
      "964:\tlearn: 0.0548453\ttotal: 3.78s\tremaining: 137ms\n",
      "965:\tlearn: 0.0547458\ttotal: 3.78s\tremaining: 133ms\n",
      "966:\tlearn: 0.0546469\ttotal: 3.78s\tremaining: 129ms\n",
      "967:\tlearn: 0.0545208\ttotal: 3.78s\tremaining: 125ms\n",
      "968:\tlearn: 0.0544089\ttotal: 3.79s\tremaining: 121ms\n",
      "969:\tlearn: 0.0543484\ttotal: 3.79s\tremaining: 117ms\n",
      "970:\tlearn: 0.0543356\ttotal: 3.79s\tremaining: 113ms\n",
      "971:\tlearn: 0.0542510\ttotal: 3.79s\tremaining: 109ms\n",
      "972:\tlearn: 0.0542456\ttotal: 3.8s\tremaining: 105ms\n",
      "973:\tlearn: 0.0541385\ttotal: 3.8s\tremaining: 101ms\n",
      "974:\tlearn: 0.0540620\ttotal: 3.8s\tremaining: 97.5ms\n",
      "975:\tlearn: 0.0539945\ttotal: 3.81s\tremaining: 93.6ms\n",
      "976:\tlearn: 0.0539048\ttotal: 3.81s\tremaining: 89.6ms\n",
      "977:\tlearn: 0.0538330\ttotal: 3.81s\tremaining: 85.7ms\n",
      "978:\tlearn: 0.0537688\ttotal: 3.81s\tremaining: 81.8ms\n",
      "979:\tlearn: 0.0536845\ttotal: 3.82s\tremaining: 77.9ms\n",
      "980:\tlearn: 0.0536073\ttotal: 3.82s\tremaining: 74ms\n",
      "981:\tlearn: 0.0535082\ttotal: 3.82s\tremaining: 70ms\n",
      "982:\tlearn: 0.0534349\ttotal: 3.82s\tremaining: 66.1ms\n",
      "983:\tlearn: 0.0533511\ttotal: 3.82s\tremaining: 62.2ms\n",
      "984:\tlearn: 0.0532791\ttotal: 3.83s\tremaining: 58.2ms\n",
      "985:\tlearn: 0.0532076\ttotal: 3.83s\tremaining: 54.3ms\n",
      "986:\tlearn: 0.0531198\ttotal: 3.83s\tremaining: 50.4ms\n",
      "987:\tlearn: 0.0530358\ttotal: 3.83s\tremaining: 46.5ms\n",
      "988:\tlearn: 0.0530277\ttotal: 3.83s\tremaining: 42.6ms\n",
      "989:\tlearn: 0.0529626\ttotal: 3.83s\tremaining: 38.7ms\n",
      "990:\tlearn: 0.0529029\ttotal: 3.84s\tremaining: 34.8ms\n",
      "991:\tlearn: 0.0528196\ttotal: 3.84s\tremaining: 30.9ms\n",
      "992:\tlearn: 0.0527212\ttotal: 3.84s\tremaining: 27.1ms\n",
      "993:\tlearn: 0.0525963\ttotal: 3.84s\tremaining: 23.2ms\n",
      "994:\tlearn: 0.0524908\ttotal: 3.84s\tremaining: 19.3ms\n",
      "995:\tlearn: 0.0524125\ttotal: 3.84s\tremaining: 15.4ms\n",
      "996:\tlearn: 0.0523554\ttotal: 3.85s\tremaining: 11.6ms\n",
      "997:\tlearn: 0.0522767\ttotal: 3.85s\tremaining: 7.71ms\n",
      "998:\tlearn: 0.0521433\ttotal: 3.85s\tremaining: 3.85ms\n",
      "999:\tlearn: 0.0520600\ttotal: 3.85s\tremaining: 0us\n"
     ]
    },
    {
     "data": {
      "text/plain": [
       "<catboost.core.CatBoostRegressor at 0x7f945786bdc0>"
      ]
     },
     "execution_count": 9,
     "metadata": {},
     "output_type": "execute_result"
    }
   ],
   "source": [
    "#Train the Model \n",
    "prior_model = ctb.CatBoostRegressor()\n",
    "prior_model.fit(X_train,Y_train)"
   ]
  },
  {
   "cell_type": "code",
   "execution_count": 10,
   "id": "af65dcda",
   "metadata": {
    "execution": {
     "iopub.execute_input": "2022-07-22T17:56:08.874520Z",
     "iopub.status.busy": "2022-07-22T17:56:08.874218Z",
     "iopub.status.idle": "2022-07-22T17:56:08.906723Z",
     "shell.execute_reply": "2022-07-22T17:56:08.905980Z"
    },
    "id": "af65dcda",
    "papermill": {
     "duration": 0.049793,
     "end_time": "2022-07-22T17:56:08.909060",
     "exception": false,
     "start_time": "2022-07-22T17:56:08.859267",
     "status": "completed"
    },
    "tags": []
   },
   "outputs": [
    {
     "data": {
      "application/scrapbook.scrap.json+json": {
       "data": 0.10167525562093953,
       "encoder": "json",
       "name": "Prior Model MSE",
       "version": 1
      }
     },
     "metadata": {
      "scrapbook": {
       "data": true,
       "display": false,
       "name": "Prior Model MSE"
      }
     },
     "output_type": "display_data"
    },
    {
     "data": {
      "application/scrapbook.scrap.json+json": {
       "data": 1.0371429255640912,
       "encoder": "json",
       "name": "ABC Pre-generator MSE",
       "version": 1
      }
     },
     "metadata": {
      "scrapbook": {
       "data": true,
       "display": false,
       "name": "ABC Pre-generator MSE"
      }
     },
     "output_type": "display_data"
    },
    {
     "data": {
      "application/scrapbook.scrap.json+json": {
       "data": 0.20464820675489856,
       "encoder": "json",
       "name": "Prior Model MAE",
       "version": 1
      }
     },
     "metadata": {
      "scrapbook": {
       "data": true,
       "display": false,
       "name": "Prior Model MAE"
      }
     },
     "output_type": "display_data"
    },
    {
     "name": "stdout",
     "output_type": "stream",
     "text": [
      "Prior Model MAE 0.20464820675489856\n",
      "ABC Pre-generator MAE "
     ]
    },
    {
     "name": "stdout",
     "output_type": "stream",
     "text": [
      "0.9670926790609661\n"
     ]
    }
   ],
   "source": [
    "y_pred = prior_model.predict(X_test)\n",
    "y_abc = y_pred + np.random.normal(0,variance, y_pred.shape) + bias \n",
    "mse = mean_squared_error(y_pred,Y_test)\n",
    "sb.glue(\"Prior Model MSE\",mse)\n",
    "mse = mean_squared_error(y_abc,Y_test)\n",
    "sb.glue(\"ABC Pre-generator MSE\",mse)\n",
    "mae = mean_absolute_error(y_pred,Y_test)\n",
    "sb.glue(\"Prior Model MAE\",mae)\n",
    "print(\"Prior Model MAE\",mae)\n",
    "mae = mean_absolute_error(y_abc,Y_test)\n",
    "print(\"ABC Pre-generator MAE\",mae)"
   ]
  },
  {
   "cell_type": "markdown",
   "id": "25609da2",
   "metadata": {
    "papermill": {
     "duration": 0.010138,
     "end_time": "2022-07-22T17:56:08.929606",
     "exception": false,
     "start_time": "2022-07-22T17:56:08.919468",
     "status": "completed"
    },
    "tags": []
   },
   "source": [
    "# mGAN Model"
   ]
  },
  {
   "cell_type": "code",
   "execution_count": 11,
   "id": "dfc3464d",
   "metadata": {
    "execution": {
     "iopub.execute_input": "2022-07-22T17:56:08.952500Z",
     "iopub.status.busy": "2022-07-22T17:56:08.952177Z",
     "iopub.status.idle": "2022-07-22T17:56:08.955574Z",
     "shell.execute_reply": "2022-07-22T17:56:08.954915Z"
    },
    "papermill": {
     "duration": 0.0182,
     "end_time": "2022-07-22T17:56:08.957747",
     "exception": false,
     "start_time": "2022-07-22T17:56:08.939547",
     "status": "completed"
    },
    "tags": []
   },
   "outputs": [],
   "source": [
    "# gen = network.Generator(n_features+1).to(device)\n",
    "# disc = network.Discriminator(n_features+1).to(device)\n",
    "\n",
    "# criterion = torch.nn.BCELoss()\n",
    "# gen_opt = torch.optim.Adam(gen.parameters(), lr=0.01, betas=(0.5, 0.999))\n",
    "# disc_opt = torch.optim.Adam(disc.parameters(), lr=0.01, betas=(0.5, 0.999))"
   ]
  },
  {
   "cell_type": "code",
   "execution_count": 12,
   "id": "b75fdd85",
   "metadata": {
    "execution": {
     "iopub.execute_input": "2022-07-22T17:56:08.981902Z",
     "iopub.status.busy": "2022-07-22T17:56:08.981383Z",
     "iopub.status.idle": "2022-07-22T17:56:08.986595Z",
     "shell.execute_reply": "2022-07-22T17:56:08.985637Z"
    },
    "papermill": {
     "duration": 0.021493,
     "end_time": "2022-07-22T17:56:08.989077",
     "exception": false,
     "start_time": "2022-07-22T17:56:08.967584",
     "status": "completed"
    },
    "tags": []
   },
   "outputs": [],
   "source": [
    "#Training the ABC_GAN \n",
    "# ABC_train_test2.training_GAN(disc,gen,disc_opt,gen_opt,train_data,batch_size,n_epochs,criterion,prior_model,variance,bias,device)"
   ]
  },
  {
   "cell_type": "code",
   "execution_count": 13,
   "id": "1fa7c368",
   "metadata": {
    "execution": {
     "iopub.execute_input": "2022-07-22T17:56:09.013048Z",
     "iopub.status.busy": "2022-07-22T17:56:09.012752Z",
     "iopub.status.idle": "2022-07-22T17:56:09.015918Z",
     "shell.execute_reply": "2022-07-22T17:56:09.015289Z"
    },
    "papermill": {
     "duration": 0.017375,
     "end_time": "2022-07-22T17:56:09.018208",
     "exception": false,
     "start_time": "2022-07-22T17:56:09.000833",
     "status": "completed"
    },
    "tags": []
   },
   "outputs": [],
   "source": [
    "# ABC_GAN1_metrics=ABC_train_test2.test_generator(gen,test_data,prior_model,variance,bias,\"1\",device)\n",
    "# sb.glue(\"ABC_GAN_1 Metrics\",ABC_GAN1_metrics)\n",
    "\n",
    "# print(\"MAE\")\n",
    "# print(mean(ABC_GAN1_metrics[1]))"
   ]
  },
  {
   "cell_type": "code",
   "execution_count": 14,
   "id": "eb22ce5c",
   "metadata": {
    "execution": {
     "iopub.execute_input": "2022-07-22T17:56:09.038818Z",
     "iopub.status.busy": "2022-07-22T17:56:09.038536Z",
     "iopub.status.idle": "2022-07-22T17:56:09.041540Z",
     "shell.execute_reply": "2022-07-22T17:56:09.040923Z"
    },
    "papermill": {
     "duration": 0.015976,
     "end_time": "2022-07-22T17:56:09.043744",
     "exception": false,
     "start_time": "2022-07-22T17:56:09.027768",
     "status": "completed"
    },
    "tags": []
   },
   "outputs": [],
   "source": [
    "# sanityChecks.discProbVsError(train_data,disc,device)\n",
    "# sanityChecks.discProbVsError(test_data,disc,device)"
   ]
  },
  {
   "cell_type": "markdown",
   "id": "abff5c83",
   "metadata": {
    "papermill": {
     "duration": 0.009371,
     "end_time": "2022-07-22T17:56:09.062447",
     "exception": false,
     "start_time": "2022-07-22T17:56:09.053076",
     "status": "completed"
    },
    "tags": []
   },
   "source": [
    "# mGAN Model with TabNet Generator"
   ]
  },
  {
   "cell_type": "code",
   "execution_count": 15,
   "id": "becca960",
   "metadata": {
    "execution": {
     "iopub.execute_input": "2022-07-22T17:56:09.089692Z",
     "iopub.status.busy": "2022-07-22T17:56:09.089224Z",
     "iopub.status.idle": "2022-07-22T17:56:09.112515Z",
     "shell.execute_reply": "2022-07-22T17:56:09.111264Z"
    },
    "papermill": {
     "duration": 0.042525,
     "end_time": "2022-07-22T17:56:09.115831",
     "exception": false,
     "start_time": "2022-07-22T17:56:09.073306",
     "status": "completed"
    },
    "tags": []
   },
   "outputs": [],
   "source": [
    "gen2 = network.GeneratorTabnet(n_features+1).to(device)\n",
    "disc2 = network.Discriminator(n_features+1).to(device)\n",
    "\n",
    "criterion = torch.nn.BCELoss()\n",
    "gen_opt = torch.optim.Adam(gen2.parameters(), lr=0.01, betas=(0.5, 0.999))\n",
    "disc_opt = torch.optim.Adam(disc2.parameters(), lr=0.01, betas=(0.5, 0.999))"
   ]
  },
  {
   "cell_type": "code",
   "execution_count": 16,
   "id": "1321f3b1",
   "metadata": {
    "execution": {
     "iopub.execute_input": "2022-07-22T17:56:09.140397Z",
     "iopub.status.busy": "2022-07-22T17:56:09.140045Z",
     "iopub.status.idle": "2022-07-22T18:06:22.615783Z",
     "shell.execute_reply": "2022-07-22T18:06:22.613048Z"
    },
    "papermill": {
     "duration": 613.495229,
     "end_time": "2022-07-22T18:06:22.623122",
     "exception": false,
     "start_time": "2022-07-22T17:56:09.127893",
     "status": "completed"
    },
    "tags": []
   },
   "outputs": [
    {
     "data": {
      "image/png": "[encoded data removed]",
      "text/plain": [
       "<Figure size 432x288 with 1 Axes>"
      ]
     },
     "metadata": {
      "needs_background": "light"
     },
     "output_type": "display_data"
    },
    {
     "data": {
      "image/png": "[encoded data removed]",
      "text/plain": [
       "<Figure size 432x288 with 1 Axes>"
      ]
     },
     "metadata": {
      "needs_background": "light"
     },
     "output_type": "display_data"
    }
   ],
   "source": [
    "#Training the ABC_GAN \n",
    "ABC_train_test2.training_GAN(disc2,gen2,disc_opt,gen_opt,train_data,batch_size,n_epochs,criterion,prior_model,variance,bias,device)"
   ]
  },
  {
   "cell_type": "code",
   "execution_count": 17,
   "id": "f58dc16f",
   "metadata": {
    "execution": {
     "iopub.execute_input": "2022-07-22T18:06:22.699638Z",
     "iopub.status.busy": "2022-07-22T18:06:22.698588Z",
     "iopub.status.idle": "2022-07-22T18:06:24.848094Z",
     "shell.execute_reply": "2022-07-22T18:06:24.847127Z"
    },
    "papermill": {
     "duration": 2.210414,
     "end_time": "2022-07-22T18:06:24.850718",
     "exception": false,
     "start_time": "2022-07-22T18:06:22.640304",
     "status": "completed"
    },
    "tags": []
   },
   "outputs": [
    {
     "data": {
      "application/scrapbook.scrap.json+json": {
       "data": 0.11093229526554006,
       "encoder": "json",
       "name": "ABC-GAN Model 1 MSE",
       "version": 1
      }
     },
     "metadata": {
      "scrapbook": {
       "data": true,
       "display": false,
       "name": "ABC-GAN Model 1 MSE"
      }
     },
     "output_type": "display_data"
    },
    {
     "data": {
      "application/scrapbook.scrap.json+json": {
       "data": 0.2186005929329857,
       "encoder": "json",
       "name": "ABC-GAN Model 1 MAE",
       "version": 1
      }
     },
     "metadata": {
      "scrapbook": {
       "data": true,
       "display": false,
       "name": "ABC-GAN Model 1 MAE"
      }
     },
     "output_type": "display_data"
    },
    {
     "data": {
      "application/scrapbook.scrap.json+json": {
       "data": 22.297260479164542,
       "encoder": "json",
       "name": "ABC-GAN Model 1 Manhattan Distance",
       "version": 1
      }
     },
     "metadata": {
      "scrapbook": {
       "data": true,
       "display": false,
       "name": "ABC-GAN Model 1 Manhattan Distance"
      }
     },
     "output_type": "display_data"
    },
    {
     "data": {
      "application/scrapbook.scrap.json+json": {
       "data": 3.3629176925594524,
       "encoder": "json",
       "name": "ABC-GAN Model 1 Euclidean distance",
       "version": 1
      }
     },
     "metadata": {
      "scrapbook": {
       "data": true,
       "display": false,
       "name": "ABC-GAN Model 1 Euclidean distance"
      }
     },
     "output_type": "display_data"
    },
    {
     "data": {
      "application/scrapbook.scrap.json+json": {
       "data": [
        [
         0.10981881503949718,
         0.1036060237906807,
         0.10386785631907554,
         0.10563041511456707,
         0.10982666753218294,
         0.11500544933228533,
         0.10886234131409565,
         0.11895427263457894,
         0.1171391494962972,
         0.11222993067730329,
         0.11570298895258425,
         0.11120366394088092,
         0.11769440132516602,
         0.10890285084262469,
         0.11392613361964948,
         0.1058424091612122,
         0.11201113215486798,
         0.11484707149325338,
         0.11999118745271475,
         0.11506755010936653,
         0.11334821100412154,
         0.10697129529320977,
         0.11570873484784448,
         0.10375728773833552,
         0.11543439772297305,
         0.1232500290957854,
         0.10591586296834563,
         0.10660048075718712,
         0.10949948794290956,
         0.1084917918944791,
         0.11830782119373344,
         0.11441009977988917,
         0.10048218226209067,
         0.10846351172371467,
         0.11660104442247433,
         0.1093930413382505,
         0.11611212636270976,
         0.10567168765385426,
         0.10244997333589745,
         0.10989506949675568,
         0.10979089687246854,
         0.10597289715338419,
         0.11808276658657663,
         0.10945294610249473,
         0.10590479588027721,
         0.1166611376264195,
         0.11023383346802139,
         0.10283702714149938,
         0.10707807942409003,
         0.09867153187189653,
         0.11556580190992413,
         0.11317884674636375,
         0.10892940556667856,
         0.11513218610315394,
         0.11157439606709296,
         0.114031203243689,
         0.11300881376351057,
         0.116024728066821,
         0.1089552518833703,
         0.1102308084939101,
         0.10991651891235664,
         0.10832174327387606,
         0.10527871774967167,
         0.10851955242730875,
         0.11180314721049757,
         0.10590402894662379,
         0.10726888600481509,
         0.10957508962028434,
         0.10636172506961553,
         0.1108132317209892,
         0.10709425340229521,
         0.11057918789214194,
         0.1055170434514856,
         0.1126679619758704,
         0.10700130686394774,
         0.10670389026779784,
         0.11017882935531528,
         0.12012640241058754,
         0.11575406770257166,
         0.11412593897450825,
         0.11365602968127257,
         0.1090178887498337,
         0.11154091350822354,
         0.11480355779079207,
         0.11094377200337965,
         0.11597569647021046,
         0.1091500041626976,
         0.11193107807403578,
         0.10683377008255789,
         0.11018431912762679,
         0.11218183287056506,
         0.10255332181425622,
         0.11278240743037876,
         0.11901483831100383,
         0.10181019191055707,
         0.12108899984411577,
         0.10486638210306662,
         0.12247529561497263,
         0.11905405046825372,
         0.10764185219455939
        ],
        [
         0.21650880902056016,
         0.20818506522725025,
         0.21764847829791845,
         0.21824909528425218,
         0.22177282488886632,
         0.2259200283271425,
         0.20784971406500713,
         0.2297370804327668,
         0.22705770426375024,
         0.22113361506375903,
         0.2120117033083065,
         0.22579326584716053,
         0.2269312737774396,
         0.21714528182557985,
         0.22104879373264516,
         0.21393099957711847,
         0.2208773660674399,
         0.22688873494774395,
         0.23128683343712314,
         0.22176244517094365,
         0.22613735842135022,
         0.21940125658304668,
         0.23248210673530897,
         0.2134521079578382,
         0.22369416381287224,
         0.23755400131146112,
         0.2146188024267116,
         0.2129355606431251,
         0.21538558618768172,
         0.21542415656514613,
         0.22512065641143741,
         0.22810289328096106,
         0.2011448532689874,
         0.21713096911416335,
         0.22504373267292976,
         0.21756599465494647,
         0.22282444062989717,
         0.20994738682958425,
         0.20885082843768246,
         0.2179787687172054,
         0.22066246022415512,
         0.20719714660891422,
         0.22181567686664708,
         0.21629846472220093,
         0.20510776119087548,
         0.21659184631654152,
         0.216164990383036,
         0.21455571469942145,
         0.2173240001441217,
         0.2087920287660524,
         0.22877419311735853,
         0.2204283877257623,
         0.21388853296601013,
         0.2234212614906331,
         0.22137915204260863,
         0.2210904153830865,
         0.23049428313970566,
         0.22738840892984002,
         0.20644124422916302,
         0.21619537052716695,
         0.21538533303685778,
         0.21411079623024254,
         0.21043026894696204,
         0.21499513023003353,
         0.20952120637886373,
         0.2215849786412482,
         0.21558902891781911,
         0.22712512125315912,
         0.21925270536403155,
         0.2133645399772635,
         0.21900117402786717,
         0.22394823995144927,
         0.20931849274875633,
         0.21185728450141408,
         0.2080399863257566,
         0.20843031631746128,
         0.21437541429209067,
         0.2293083095356968,
         0.2221103826099459,
         0.22463654705286756,
         0.2304257369490669,
         0.22336341055365755,
         0.22672804133674385,
         0.20724734677659237,
         0.22053037087122598,
         0.21200434905568175,
         0.22097679944343718,
         0.21697619860517045,
         0.2105318575038337,
         0.22209240304415717,
         0.21709737962330966,
         0.20751832902212353,
         0.21950170826897317,
         0.23072571542990558,
         0.21315889177369138,
         0.22350788993907034,
         0.2119738132163298,
         0.2301073103376171,
         0.22342922773175672,
         0.2092311807780289
        ],
        [
         22.083898520097136,
         21.234876653179526,
         22.200144786387682,
         22.261407718993723,
         22.620828138664365,
         23.043842889368534,
         21.200670834630728,
         23.433182204142213,
         23.159885834902525,
         22.555628736503422,
         21.625193737447262,
         23.030913116410375,
         23.14698992529884,
         22.148818746209145,
         22.546976960729808,
         21.820961956866086,
         22.52949133887887,
         23.142650964669883,
         23.59125701058656,
         22.61976940743625,
         23.066010558977723,
         22.37892817147076,
         23.713174887001514,
         21.772115011699498,
         22.81680470891297,
         24.230508133769035,
         21.891117847524583,
         21.71942718559876,
         21.969329791143537,
         21.973263969644904,
         22.962306953966618,
         23.266495114658028,
         20.516775033436716,
         22.14735884964466,
         22.954460732638836,
         22.19173145480454,
         22.72809294424951,
         21.414633456617594,
         21.30278450064361,
         22.23383440915495,
         22.507570942863822,
         21.13410895410925,
         22.625199040398,
         22.062443401664495,
         20.9209916414693,
         22.092368324287236,
         22.04882901906967,
         21.884682899340987,
         22.167048014700413,
         21.296786934137344,
         23.33496769797057,
         22.483695548027754,
         21.816630362533033,
         22.788968672044575,
         22.58067350834608,
         22.55122236907482,
         23.510416880249977,
         23.193617710843682,
         21.05700691137463,
         22.05192779377103,
         21.969303969759494,
         21.83930121548474,
         21.463887432590127,
         21.92950328346342,
         21.3711630506441,
         22.601667821407318,
         21.99008094961755,
         23.16676236782223,
         22.363775947131217,
         21.76318307768088,
         22.338119750842452,
         22.842720475047827,
         21.350486260373145,
         21.609443019144237,
         21.220078605227172,
         21.25989226438105,
         21.866292257793248,
         23.389447572641075,
         22.65525902621448,
         22.91292779939249,
         23.503425168804824,
         22.78306787647307,
         23.126260216347873,
         21.139229371212423,
         22.49409782886505,
         21.624443603679538,
         22.539633543230593,
         22.131572257727385,
         21.47424946539104,
         22.65342511050403,
         22.143932721577585,
         21.1668695602566,
         22.389174243435264,
         23.53402297385037,
         21.74220696091652,
         22.797804773785174,
         21.62132894806564,
         23.470945654436946,
         22.789781228639185,
         21.34158043935895
        ],
        [
         3.3468670624972106,
         3.250817501283244,
         3.254922632651305,
         3.28242324231441,
         3.3469867176734747,
         3.4249899024512613,
         3.332260316067422,
         3.4832938160205567,
         3.4566158665119717,
         3.3834084780122153,
         3.4353609523838387,
         3.3679034609041056,
         3.4647985417866556,
         3.3328802537666604,
         3.4088804069964436,
         3.2857154067940266,
         3.380108797035464,
         3.422630756057662,
         3.498442670700337,
         3.4259144926800764,
         3.4002231577383846,
         3.3031912024445993,
         3.4354462525966163,
         3.2531897192309924,
         3.4313712372378555,
         3.54563153299523,
         3.2868553394956783,
         3.2974609985916556,
         3.34199757183885,
         3.3265842501335916,
         3.473816023015728,
         3.416113314506516,
         3.201434458291041,
         3.3261506574144977,
         3.448667355819112,
         3.340372766099848,
         3.4414294833682693,
         3.2830644435790677,
         3.232630087136717,
         3.348028836295929,
         3.346441614759144,
         3.2877401828072097,
         3.4705103647490834,
         3.3412872523107713,
         3.286683614190491,
         3.4495559189401157,
         3.3531852042107935,
         3.2387307341662317,
         3.304839497049317,
         3.1724590227351155,
         3.433323724150151,
         3.3976819109694625,
         3.3332865715088484,
         3.4268765636540954,
         3.3735127684423376,
         3.410451983367641,
         3.395128716835059,
         3.4401340472161457,
         3.3336820022467304,
         3.353139195795311,
         3.348355555949872,
         3.323976205380441,
         3.2769542582200484,
         3.327009820782844,
         3.3769692055852016,
         3.286671713535689,
         3.307782697290004,
         3.343151079635648,
         3.2937662268443977,
         3.3619859659940423,
         3.305089083070849,
         3.358433736877724,
         3.280661279689132,
         3.390004737686775,
         3.3036545370426773,
         3.299059988438431,
         3.3523485192089084,
         3.500413267869943,
         3.436119163484046,
         3.4118683701748873,
         3.4048370045407164,
         3.334640108389965,
         3.3730065487393883,
         3.4219823048433176,
         3.363965627699654,
         3.439407076802842,
         3.336660070279133,
         3.3789007034169627,
         3.301067183263755,
         3.3524320352570802,
         3.3826833952939843,
         3.2342601665688764,
         3.391726044051705,
         3.4841804642874616,
         3.222520686493234,
         3.5144100478031595,
         3.270530686985339,
         3.534470278942406,
         3.4847543884414405,
         3.3135281685606746
        ]
       ],
       "encoder": "json",
       "name": "ABC_GAN_2 Metrics",
       "version": 1
      }
     },
     "metadata": {
      "scrapbook": {
       "data": true,
       "display": false,
       "name": "ABC_GAN_2 Metrics"
      }
     },
     "output_type": "display_data"
    },
    {
     "name": "stdout",
     "output_type": "stream",
     "text": [
      "MAE\n",
      "0.2186005929329857\n"
     ]
    }
   ],
   "source": [
    "ABC_GAN2_metrics=ABC_train_test2.test_generator(gen2,test_data,prior_model,variance,bias,\"1\",device)\n",
    "sb.glue(\"ABC_GAN_2 Metrics\",ABC_GAN2_metrics)\n",
    "\n",
    "print(\"MAE\")\n",
    "print(mean(ABC_GAN2_metrics[1]))"
   ]
  },
  {
   "cell_type": "code",
   "execution_count": 18,
   "id": "cb5e88c0",
   "metadata": {
    "execution": {
     "iopub.execute_input": "2022-07-22T18:06:24.934487Z",
     "iopub.status.busy": "2022-07-22T18:06:24.933329Z",
     "iopub.status.idle": "2022-07-22T18:06:25.939452Z",
     "shell.execute_reply": "2022-07-22T18:06:25.938460Z"
    },
    "papermill": {
     "duration": 1.030958,
     "end_time": "2022-07-22T18:06:25.942261",
     "exception": false,
     "start_time": "2022-07-22T18:06:24.911303",
     "status": "completed"
    },
    "tags": []
   },
   "outputs": [
    {
     "data": {
      "image/png": "[encoded data removed]",
      "text/plain": [
       "<Figure size 432x288 with 1 Axes>"
      ]
     },
     "metadata": {
      "needs_background": "light"
     },
     "output_type": "display_data"
    },
    {
     "data": {
      "image/png": "[encoded data removed]",
      "text/plain": [
       "<Figure size 432x288 with 1 Axes>"
      ]
     },
     "metadata": {
      "needs_background": "light"
     },
     "output_type": "display_data"
    },
    {
     "data": {
      "image/png": "[encoded data removed]",
      "text/plain": [
       "<Figure size 432x288 with 1 Axes>"
      ]
     },
     "metadata": {
      "needs_background": "light"
     },
     "output_type": "display_data"
    },
    {
     "data": {
      "image/png": "[encoded data removed]",
      "text/plain": [
       "<Figure size 432x288 with 1 Axes>"
      ]
     },
     "metadata": {
      "needs_background": "light"
     },
     "output_type": "display_data"
    }
   ],
   "source": [
    "sanityChecks.discProbVsError(train_data,disc2,device)\n",
    "sanityChecks.discProbVsError(test_data,disc2,device)"
   ]
  },
  {
   "cell_type": "markdown",
   "id": "130f3a4d",
   "metadata": {
    "id": "130f3a4d",
    "papermill": {
     "duration": 0.018747,
     "end_time": "2022-07-22T18:06:25.978635",
     "exception": false,
     "start_time": "2022-07-22T18:06:25.959888",
     "status": "completed"
    },
    "tags": []
   },
   "source": [
    "# skipGAN Model"
   ]
  },
  {
   "cell_type": "code",
   "execution_count": 19,
   "id": "4e43dad1",
   "metadata": {
    "execution": {
     "iopub.execute_input": "2022-07-22T18:06:26.028208Z",
     "iopub.status.busy": "2022-07-22T18:06:26.027838Z",
     "iopub.status.idle": "2022-07-22T18:06:26.038515Z",
     "shell.execute_reply": "2022-07-22T18:06:26.036306Z"
    },
    "id": "4e43dad1",
    "papermill": {
     "duration": 0.045048,
     "end_time": "2022-07-22T18:06:26.042405",
     "exception": false,
     "start_time": "2022-07-22T18:06:25.997357",
     "status": "completed"
    },
    "tags": []
   },
   "outputs": [],
   "source": [
    "# #Generator\n",
    "# gen3 = network.GeneratorWithSkipConnection(n_features+1).to(device)\n",
    "# constraints=network.weightConstraint()\n",
    "# #Discriminator \n",
    "# disc3 = network.Discriminator(n_features+1).to(device)\n",
    "\n",
    "# criterion = torch.nn.BCELoss()\n",
    "# gen_opt = torch.optim.Adam(gen3.parameters(), lr=0.01, betas=(0.5, 0.999))\n",
    "# disc_opt = torch.optim.Adam(disc3.parameters(), lr=0.01, betas=(0.5, 0.999))\n"
   ]
  },
  {
   "cell_type": "markdown",
   "id": "5eafdc5d",
   "metadata": {
    "tags": [
     "papermill-error-cell-tag"
    ]
   },
   "source": [
    "<span id=\"papermill-error-cell\" style=\"color:red; font-family:Helvetica Neue, Helvetica, Arial, sans-serif; font-size:2em;\">Execution using papermill encountered an exception here and stopped:</span>"
   ]
  },
  {
   "cell_type": "code",
   "execution_count": 20,
   "id": "26acbc37",
   "metadata": {
    "execution": {
     "iopub.execute_input": "2022-07-22T18:06:26.082399Z",
     "iopub.status.busy": "2022-07-22T18:06:26.081932Z",
     "iopub.status.idle": "2022-07-22T18:06:27.141630Z",
     "shell.execute_reply": "2022-07-22T18:06:27.137282Z"
    },
    "id": "26acbc37",
    "papermill": {
     "duration": 1.090735,
     "end_time": "2022-07-22T18:06:27.152213",
     "exception": true,
     "start_time": "2022-07-22T18:06:26.061478",
     "status": "failed"
    },
    "tags": []
   },
   "outputs": [
    {
     "ename": "NameError",
     "evalue": "name 'disc3' is not defined",
     "output_type": "error",
     "traceback": [
      "\u001b[0;31m---------------------------------------------------------------------------\u001b[0m",
      "\u001b[0;31mNameError\u001b[0m                                 Traceback (most recent call last)",
      "Input \u001b[0;32mIn [20]\u001b[0m, in \u001b[0;36m<cell line: 1>\u001b[0;34m()\u001b[0m\n\u001b[0;32m----> 1\u001b[0m ABC_train_test2\u001b[38;5;241m.\u001b[39mtraining_GAN_skip_connection(\u001b[43mdisc3\u001b[49m,gen3,disc_opt,gen_opt,train_data,batch_size,n_epochs,criterion,prior_model,variance,bias,device)\n",
      "\u001b[0;31mNameError\u001b[0m: name 'disc3' is not defined"
     ]
    }
   ],
   "source": [
    "ABC_train_test2.training_GAN_skip_connection(disc3,gen3,disc_opt,gen_opt,train_data,batch_size,n_epochs,criterion,prior_model,variance,bias,device)"
   ]
  },
  {
   "cell_type": "code",
   "execution_count": null,
   "id": "c5e0717b",
   "metadata": {
    "id": "c5e0717b",
    "papermill": {
     "duration": null,
     "end_time": null,
     "exception": null,
     "start_time": null,
     "status": "pending"
    },
    "tags": []
   },
   "outputs": [],
   "source": [
    "# ABC_GAN3_metrics=ABC_train_test2.test_generator(gen3,test_data,prior_model,variance,bias,\"3\",device)\n",
    "# sb.glue(\"ABC_GAN_3 Metrics\",ABC_GAN3_metrics)\n",
    "\n",
    "# print(\"MAE\")\n",
    "# print(mean(ABC_GAN3_metrics[1]))"
   ]
  },
  {
   "cell_type": "code",
   "execution_count": null,
   "id": "c8e46b48",
   "metadata": {
    "id": "c8e46b48",
    "papermill": {
     "duration": null,
     "end_time": null,
     "exception": null,
     "start_time": null,
     "status": "pending"
    },
    "tags": []
   },
   "outputs": [],
   "source": [
    "# sanityChecks.discProbVsError(train_data,disc3,device)\n",
    "# sanityChecks.discProbVsError(test_data,disc3,device)"
   ]
  },
  {
   "cell_type": "markdown",
   "id": "ee29d785",
   "metadata": {
    "id": "130f3a4d",
    "papermill": {
     "duration": null,
     "end_time": null,
     "exception": null,
     "start_time": null,
     "status": "pending"
    },
    "tags": []
   },
   "source": [
    "# skipGAN Model with TabNet Generator"
   ]
  },
  {
   "cell_type": "code",
   "execution_count": null,
   "id": "a44f108d",
   "metadata": {
    "id": "4e43dad1",
    "papermill": {
     "duration": null,
     "end_time": null,
     "exception": null,
     "start_time": null,
     "status": "pending"
    },
    "tags": []
   },
   "outputs": [],
   "source": [
    "# #Generator\n",
    "# gen4 = network.GeneratorTabnetskipConnection(n_features+1).to(device)\n",
    "# constraints=network.weightConstraint()\n",
    "# #Discriminator \n",
    "# disc4 = network.Discriminator(n_features+1).to(device)\n",
    "\n",
    "# criterion = torch.nn.BCELoss()\n",
    "# gen_opt = torch.optim.Adam(gen4.parameters(), lr=0.01, betas=(0.5, 0.999))\n",
    "# disc_opt = torch.optim.Adam(disc4.parameters(), lr=0.01, betas=(0.5, 0.999))\n"
   ]
  },
  {
   "cell_type": "code",
   "execution_count": null,
   "id": "a4b3be2e",
   "metadata": {
    "id": "26acbc37",
    "papermill": {
     "duration": null,
     "end_time": null,
     "exception": null,
     "start_time": null,
     "status": "pending"
    },
    "tags": []
   },
   "outputs": [],
   "source": [
    "# ABC_train_test2.training_GAN_skip_connection(disc4,gen4,disc_opt,gen_opt,train_data,batch_size,n_epochs,criterion,prior_model,variance,bias,device)"
   ]
  },
  {
   "cell_type": "code",
   "execution_count": null,
   "id": "36d0939f",
   "metadata": {
    "id": "c5e0717b",
    "papermill": {
     "duration": null,
     "end_time": null,
     "exception": null,
     "start_time": null,
     "status": "pending"
    },
    "tags": []
   },
   "outputs": [],
   "source": [
    "# ABC_GAN4_metrics=ABC_train_test2.test_generator(gen4,test_data,prior_model,variance,bias,\"3\",device)\n",
    "# sb.glue(\"ABC_GAN_4 Metrics\",ABC_GAN4_metrics)\n",
    "\n",
    "# print(\"MAE\")\n",
    "# print(mean(ABC_GAN4_metrics[1]))"
   ]
  },
  {
   "cell_type": "code",
   "execution_count": null,
   "id": "f146ef89",
   "metadata": {
    "id": "c8e46b48",
    "papermill": {
     "duration": null,
     "end_time": null,
     "exception": null,
     "start_time": null,
     "status": "pending"
    },
    "tags": []
   },
   "outputs": [],
   "source": [
    "# sanityChecks.discProbVsError(train_data,disc4,device)\n",
    "# sanityChecks.discProbVsError(test_data,disc4,device)"
   ]
  },
  {
   "cell_type": "markdown",
   "id": "a5bd74c3",
   "metadata": {
    "id": "a5bd74c3",
    "papermill": {
     "duration": null,
     "end_time": null,
     "exception": null,
     "start_time": null,
     "status": "pending"
    },
    "tags": []
   },
   "source": [
    "## Skip Connection Model Analysis - ABC-GAN "
   ]
  },
  {
   "cell_type": "markdown",
   "id": "5744a8bf",
   "metadata": {
    "id": "5744a8bf",
    "papermill": {
     "duration": null,
     "end_time": null,
     "exception": null,
     "start_time": null,
     "status": "pending"
    },
    "tags": []
   },
   "source": [
    "### Weight Analysis \n",
    "\n",
    "Study the weights of the skip connection layer\n",
    "\n",
    "Equation of the skip connection is \n",
    "\n",
    "$output = y_{gan} * w + y_{abc} * (1-w)$"
   ]
  },
  {
   "cell_type": "code",
   "execution_count": null,
   "id": "52c31dea",
   "metadata": {
    "id": "52c31dea",
    "papermill": {
     "duration": null,
     "end_time": null,
     "exception": null,
     "start_time": null,
     "status": "pending"
    },
    "tags": []
   },
   "outputs": [],
   "source": [
    "# print(\"Weight of the node at skip connection\")\n",
    "# for name,param in gen3.named_parameters():\n",
    "#     if(name == \"skipNode.weight\"):\n",
    "#         print(param)\n",
    "#         sb.glue(\"Skip Connection Weight\",param.item())"
   ]
  },
  {
   "cell_type": "markdown",
   "id": "07b8fc1d",
   "metadata": {
    "id": "a5bd74c3",
    "papermill": {
     "duration": null,
     "end_time": null,
     "exception": null,
     "start_time": null,
     "status": "pending"
    },
    "tags": []
   },
   "source": [
    "## skipGAN Model Analysis (TabNet Generator) "
   ]
  },
  {
   "cell_type": "markdown",
   "id": "0a2a8acd",
   "metadata": {
    "id": "5744a8bf",
    "papermill": {
     "duration": null,
     "end_time": null,
     "exception": null,
     "start_time": null,
     "status": "pending"
    },
    "tags": []
   },
   "source": [
    "### Weight Analysis \n",
    "\n",
    "Study the weights of the skip connection layer\n",
    "\n",
    "Equation of the skip connection is \n",
    "\n",
    "$output = y_{gan} * w + y_{abc} * (1-w)$"
   ]
  },
  {
   "cell_type": "code",
   "execution_count": null,
   "id": "196798c9",
   "metadata": {
    "id": "52c31dea",
    "papermill": {
     "duration": null,
     "end_time": null,
     "exception": null,
     "start_time": null,
     "status": "pending"
    },
    "tags": []
   },
   "outputs": [],
   "source": [
    "# print(\"Weight of the node at skip connection\")\n",
    "# for name,param in gen4.named_parameters():\n",
    "#     if(name == \"skipNode.weight\"):\n",
    "#         print(param)\n",
    "#         sb.glue(\"Skip Connection Weight\",param.item())"
   ]
  }
 ],
 "metadata": {
  "colab": {
   "collapsed_sections": [],
   "name": "ABC_GAN_Model-Catboost_Pre-gen.ipynb",
   "provenance": []
  },
  "kernelspec": {
   "display_name": "Python 3.7.3 64-bit",
   "language": "python",
   "name": "python3"
  },
  "language_info": {
   "codemirror_mode": {
    "name": "ipython",
    "version": 3
   },
   "file_extension": ".py",
   "mimetype": "text/x-python",
   "name": "python",
   "nbconvert_exporter": "python",
   "pygments_lexer": "ipython3",
   "version": "3.7.3"
  },
  "papermill": {
   "default_parameters": {},
   "duration": 640.427225,
   "end_time": "2022-07-22T18:06:28.185906",
   "environment_variables": {},
   "exception": true,
   "input_path": "ABC_GAN-Catboost.ipynb",
   "output_path": "./ABC_GAN_Catboost/ABC-GAN_output_1_1.ipynb",
   "parameters": {
    "bias": 1,
    "variance": 0.1
   },
   "start_time": "2022-07-22T17:55:47.758681",
   "version": "2.3.3"
  },
  "vscode": {
   "interpreter": {
    "hash": "aee8b7b246df8f9039afb4144a1f6fd8d2ca17a180786b69acc140d282b71a49"
   }
  }
 },
 "nbformat": 4,
 "nbformat_minor": 5
}
