{
 "cells": [
  {
   "cell_type": "markdown",
   "id": "a2a324ff",
   "metadata": {
    "tags": [
     "papermill-error-cell-tag"
    ]
   },
   "source": [
    "<span style=\"color:red; font-family:Helvetica Neue, Helvetica, Arial, sans-serif; font-size:2em;\">An Exception was encountered at '<a href=\"#papermill-error-cell\">In [20]</a>'.</span>"
   ]
  },
  {
   "cell_type": "markdown",
   "id": "622780e6",
   "metadata": {
    "id": "622780e6",
    "papermill": {
     "duration": 0.011084,
     "end_time": "2022-07-22T19:26:05.577223",
     "exception": false,
     "start_time": "2022-07-22T19:26:05.566139",
     "status": "completed"
    },
    "tags": []
   },
   "source": [
    "## Import Libraries "
   ]
  },
  {
   "cell_type": "code",
   "execution_count": 1,
   "id": "a62397e3",
   "metadata": {
    "execution": {
     "iopub.execute_input": "2022-07-22T19:26:05.605599Z",
     "iopub.status.busy": "2022-07-22T19:26:05.604059Z",
     "iopub.status.idle": "2022-07-22T19:26:05.653025Z",
     "shell.execute_reply": "2022-07-22T19:26:05.644231Z"
    },
    "id": "a62397e3",
    "papermill": {
     "duration": 0.074728,
     "end_time": "2022-07-22T19:26:05.660641",
     "exception": false,
     "start_time": "2022-07-22T19:26:05.585913",
     "status": "completed"
    },
    "tags": []
   },
   "outputs": [],
   "source": [
    "import warnings\n",
    "import sys\n",
    "sys.path.insert(0, '../../src')\n",
    "warnings.filterwarnings('ignore')"
   ]
  },
  {
   "cell_type": "code",
   "execution_count": 2,
   "id": "d6a4e155",
   "metadata": {
    "execution": {
     "iopub.execute_input": "2022-07-22T19:26:05.681157Z",
     "iopub.status.busy": "2022-07-22T19:26:05.680698Z",
     "iopub.status.idle": "2022-07-22T19:26:13.035456Z",
     "shell.execute_reply": "2022-07-22T19:26:13.034448Z"
    },
    "id": "d6a4e155",
    "papermill": {
     "duration": 7.368378,
     "end_time": "2022-07-22T19:26:13.038732",
     "exception": false,
     "start_time": "2022-07-22T19:26:05.670354",
     "status": "completed"
    },
    "tags": []
   },
   "outputs": [],
   "source": [
    "import ABC_train_test2\n",
    "import bostonDataset\n",
    "import network\n",
    "import dataset\n",
    "import sanityChecks\n",
    "import torch \n",
    "import scrapbook as sb\n",
    "from statistics import mean \n",
    "import catboost as ctb \n",
    "from sklearn.model_selection import train_test_split\n",
    "from sklearn.metrics import mean_squared_error,mean_absolute_error\n",
    "import numpy as np"
   ]
  },
  {
   "cell_type": "markdown",
   "id": "2fa5b0f7",
   "metadata": {
    "id": "2fa5b0f7",
    "papermill": {
     "duration": 0.008524,
     "end_time": "2022-07-22T19:26:13.055074",
     "exception": false,
     "start_time": "2022-07-22T19:26:13.046550",
     "status": "completed"
    },
    "tags": []
   },
   "source": [
    "## Parameters "
   ]
  },
  {
   "cell_type": "code",
   "execution_count": 3,
   "id": "783186fb",
   "metadata": {
    "execution": {
     "iopub.execute_input": "2022-07-22T19:26:13.078668Z",
     "iopub.status.busy": "2022-07-22T19:26:13.076685Z",
     "iopub.status.idle": "2022-07-22T19:26:13.084951Z",
     "shell.execute_reply": "2022-07-22T19:26:13.082094Z"
    },
    "id": "783186fb",
    "papermill": {
     "duration": 0.023134,
     "end_time": "2022-07-22T19:26:13.087805",
     "exception": false,
     "start_time": "2022-07-22T19:26:13.064671",
     "status": "completed"
    },
    "tags": [
     "parameters"
    ]
   },
   "outputs": [],
   "source": [
    "variance = 1\n",
    "bias = 1 "
   ]
  },
  {
   "cell_type": "code",
   "execution_count": 4,
   "id": "ca832c5a",
   "metadata": {
    "execution": {
     "iopub.execute_input": "2022-07-22T19:26:13.106866Z",
     "iopub.status.busy": "2022-07-22T19:26:13.105997Z",
     "iopub.status.idle": "2022-07-22T19:26:13.111041Z",
     "shell.execute_reply": "2022-07-22T19:26:13.110113Z"
    },
    "papermill": {
     "duration": 0.020085,
     "end_time": "2022-07-22T19:26:13.116676",
     "exception": false,
     "start_time": "2022-07-22T19:26:13.096591",
     "status": "completed"
    },
    "tags": [
     "injected-parameters"
    ]
   },
   "outputs": [],
   "source": [
    "# Parameters\n",
    "variance = 1\n",
    "bias = 0\n"
   ]
  },
  {
   "cell_type": "markdown",
   "id": "391cdbfd",
   "metadata": {
    "id": "391cdbfd",
    "papermill": {
     "duration": 0.007839,
     "end_time": "2022-07-22T19:26:13.132181",
     "exception": false,
     "start_time": "2022-07-22T19:26:13.124342",
     "status": "completed"
    },
    "tags": []
   },
   "source": [
    "## Dataset \n"
   ]
  },
  {
   "cell_type": "code",
   "execution_count": 5,
   "id": "5b51f161",
   "metadata": {
    "execution": {
     "iopub.execute_input": "2022-07-22T19:26:13.149810Z",
     "iopub.status.busy": "2022-07-22T19:26:13.149336Z",
     "iopub.status.idle": "2022-07-22T19:26:13.154582Z",
     "shell.execute_reply": "2022-07-22T19:26:13.153600Z"
    },
    "id": "5b51f161",
    "papermill": {
     "duration": 0.019926,
     "end_time": "2022-07-22T19:26:13.160017",
     "exception": false,
     "start_time": "2022-07-22T19:26:13.140091",
     "status": "completed"
    },
    "tags": []
   },
   "outputs": [],
   "source": [
    "#Parameters \n",
    "n_features = 13\n",
    "n_samples= 506\n",
    "n_target = 1 "
   ]
  },
  {
   "cell_type": "code",
   "execution_count": 6,
   "id": "5d6eced4",
   "metadata": {
    "execution": {
     "iopub.execute_input": "2022-07-22T19:26:13.179709Z",
     "iopub.status.busy": "2022-07-22T19:26:13.179251Z",
     "iopub.status.idle": "2022-07-22T19:26:13.215053Z",
     "shell.execute_reply": "2022-07-22T19:26:13.213497Z"
    },
    "id": "5d6eced4",
    "papermill": {
     "duration": 0.050877,
     "end_time": "2022-07-22T19:26:13.218837",
     "exception": false,
     "start_time": "2022-07-22T19:26:13.167960",
     "status": "completed"
    },
    "tags": []
   },
   "outputs": [
    {
     "name": "stdout",
     "output_type": "stream",
     "text": [
      "         X1        X2        X3        X4        X5        X6        X7  \\\n",
      "0 -0.419782  0.284830 -1.287909 -0.272599 -0.144217  0.413672 -0.120013   \n",
      "1 -0.417339 -0.487722 -0.593381 -0.272599 -0.740262  0.194274  0.367166   \n",
      "2 -0.417342 -0.487722 -0.593381 -0.272599 -0.740262  1.282714 -0.265812   \n",
      "3 -0.416750 -0.487722 -1.306878 -0.272599 -0.835284  1.016303 -0.809889   \n",
      "4 -0.412482 -0.487722 -1.306878 -0.272599 -0.835284  1.228577 -0.511180   \n",
      "\n",
      "         X8        X9       X10       X11       X12       X13         Y  \n",
      "0  0.140214 -0.982843 -0.666608 -1.459000  0.441052 -1.075562  0.159686  \n",
      "1  0.557160 -0.867883 -0.987329 -0.303094  0.441052 -0.492439 -0.101524  \n",
      "2  0.557160 -0.867883 -0.987329 -0.303094  0.396427 -1.208727  1.324247  \n",
      "3  1.077737 -0.752922 -1.106115  0.113032  0.416163 -1.361517  1.182758  \n",
      "4  1.077737 -0.752922 -1.106115  0.113032  0.441052 -1.026501  1.487503  \n"
     ]
    }
   ],
   "source": [
    "X,Y = bostonDataset.boston_data()"
   ]
  },
  {
   "cell_type": "code",
   "execution_count": 7,
   "id": "fe007438",
   "metadata": {
    "execution": {
     "iopub.execute_input": "2022-07-22T19:26:13.238249Z",
     "iopub.status.busy": "2022-07-22T19:26:13.237914Z",
     "iopub.status.idle": "2022-07-22T19:26:13.251413Z",
     "shell.execute_reply": "2022-07-22T19:26:13.249343Z"
    },
    "id": "fe007438",
    "papermill": {
     "duration": 0.02755,
     "end_time": "2022-07-22T19:26:13.254828",
     "exception": false,
     "start_time": "2022-07-22T19:26:13.227278",
     "status": "completed"
    },
    "tags": []
   },
   "outputs": [],
   "source": [
    "#Train test split for dataset \n",
    "X_train,X_test,Y_train,Y_test = train_test_split(X,Y,test_size = 0.2)\n",
    "train_data = dataset.CustomDataset(X_train,Y_train)\n",
    "test_data = dataset.CustomDataset(X_test,Y_test)\n"
   ]
  },
  {
   "cell_type": "markdown",
   "id": "a9a1af34",
   "metadata": {
    "id": "a9a1af34",
    "papermill": {
     "duration": 0.007836,
     "end_time": "2022-07-22T19:26:13.270517",
     "exception": false,
     "start_time": "2022-07-22T19:26:13.262681",
     "status": "completed"
    },
    "tags": []
   },
   "source": [
    "## Training Parameters "
   ]
  },
  {
   "cell_type": "code",
   "execution_count": 8,
   "id": "952b7fc8",
   "metadata": {
    "execution": {
     "iopub.execute_input": "2022-07-22T19:26:13.290828Z",
     "iopub.status.busy": "2022-07-22T19:26:13.290359Z",
     "iopub.status.idle": "2022-07-22T19:26:13.297425Z",
     "shell.execute_reply": "2022-07-22T19:26:13.296236Z"
    },
    "id": "952b7fc8",
    "papermill": {
     "duration": 0.032128,
     "end_time": "2022-07-22T19:26:13.310851",
     "exception": false,
     "start_time": "2022-07-22T19:26:13.278723",
     "status": "completed"
    },
    "tags": []
   },
   "outputs": [],
   "source": [
    "batch_size = 32\n",
    "n_epochs = 1000\n",
    "#Select the device \n",
    "device = torch.device('cuda' if torch.cuda.is_available() else 'cpu')"
   ]
  },
  {
   "cell_type": "markdown",
   "id": "a95e1600",
   "metadata": {
    "id": "a95e1600",
    "papermill": {
     "duration": 0.008516,
     "end_time": "2022-07-22T19:26:13.328223",
     "exception": false,
     "start_time": "2022-07-22T19:26:13.319707",
     "status": "completed"
    },
    "tags": []
   },
   "source": [
    "# ABC Pre-generator Model \n",
    "\n",
    "1. The catboost model is used as a pre-generator model for the ABC-GAN. \n",
    "2. The model is first trained on the entire dataset \n",
    "3. It generats X,Y pairs and we add some Gaussian noise with mean 0 and variance 1 to it which is then feed as input to the generator.\n"
   ]
  },
  {
   "cell_type": "code",
   "execution_count": 9,
   "id": "ff8ce7bd",
   "metadata": {
    "execution": {
     "iopub.execute_input": "2022-07-22T19:26:13.346461Z",
     "iopub.status.busy": "2022-07-22T19:26:13.345949Z",
     "iopub.status.idle": "2022-07-22T19:26:16.967009Z",
     "shell.execute_reply": "2022-07-22T19:26:16.960141Z"
    },
    "id": "ff8ce7bd",
    "papermill": {
     "duration": 3.633727,
     "end_time": "2022-07-22T19:26:16.970010",
     "exception": false,
     "start_time": "2022-07-22T19:26:13.336283",
     "status": "completed"
    },
    "tags": []
   },
   "outputs": [
    {
     "name": "stdout",
     "output_type": "stream",
     "text": [
      "Learning rate set to 0.03548\n"
     ]
    },
    {
     "name": "stdout",
     "output_type": "stream",
     "text": [
      "0:\tlearn: 0.9945953\ttotal: 56ms\tremaining: 56s\n",
      "1:\tlearn: 0.9746310\ttotal: 58.7ms\tremaining: 29.3s\n",
      "2:\tlearn: 0.9543903\ttotal: 61.8ms\tremaining: 20.5s\n",
      "3:\tlearn: 0.9370738\ttotal: 64.6ms\tremaining: 16.1s\n",
      "4:\tlearn: 0.9163887\ttotal: 67.4ms\tremaining: 13.4s\n",
      "5:\tlearn: 0.8980765\ttotal: 69.1ms\tremaining: 11.4s\n",
      "6:\tlearn: 0.8798105\ttotal: 71.5ms\tremaining: 10.1s\n",
      "7:\tlearn: 0.8626523\ttotal: 73.3ms\tremaining: 9.09s\n",
      "8:\tlearn: 0.8464469\ttotal: 75.3ms\tremaining: 8.29s\n",
      "9:\tlearn: 0.8293615\ttotal: 77.2ms\tremaining: 7.64s\n",
      "10:\tlearn: 0.8132068\ttotal: 78.9ms\tremaining: 7.09s\n",
      "11:\tlearn: 0.7983497\ttotal: 81.3ms\tremaining: 6.7s\n",
      "12:\tlearn: 0.7824549\ttotal: 83.9ms\tremaining: 6.37s\n",
      "13:\tlearn: 0.7672576\ttotal: 86.5ms\tremaining: 6.09s\n",
      "14:\tlearn: 0.7546900\ttotal: 88.6ms\tremaining: 5.82s\n",
      "15:\tlearn: 0.7408590\ttotal: 92.2ms\tremaining: 5.67s\n",
      "16:\tlearn: 0.7295087\ttotal: 96ms\tremaining: 5.55s\n",
      "17:\tlearn: 0.7177578\ttotal: 99.2ms\tremaining: 5.41s\n",
      "18:\tlearn: 0.7055643\ttotal: 102ms\tremaining: 5.25s\n",
      "19:\tlearn: 0.6924518\ttotal: 103ms\tremaining: 5.07s\n",
      "20:\tlearn: 0.6785428\ttotal: 105ms\tremaining: 4.91s\n",
      "21:\tlearn: 0.6681809\ttotal: 107ms\tremaining: 4.75s\n",
      "22:\tlearn: 0.6562877\ttotal: 109ms\tremaining: 4.63s\n",
      "23:\tlearn: 0.6472358\ttotal: 112ms\tremaining: 4.54s\n",
      "24:\tlearn: 0.6372119\ttotal: 114ms\tremaining: 4.43s\n",
      "25:\tlearn: 0.6274995\ttotal: 115ms\tremaining: 4.32s\n",
      "26:\tlearn: 0.6187131\ttotal: 117ms\tremaining: 4.22s\n",
      "27:\tlearn: 0.6101483\ttotal: 119ms\tremaining: 4.14s\n",
      "28:\tlearn: 0.6007397\ttotal: 121ms\tremaining: 4.06s\n",
      "29:\tlearn: 0.5913410\ttotal: 123ms\tremaining: 3.98s\n",
      "30:\tlearn: 0.5805900\ttotal: 126ms\tremaining: 3.93s\n",
      "31:\tlearn: 0.5728261\ttotal: 128ms\tremaining: 3.88s\n",
      "32:\tlearn: 0.5639391\ttotal: 130ms\tremaining: 3.81s\n",
      "33:\tlearn: 0.5567420\ttotal: 132ms\tremaining: 3.74s\n",
      "34:\tlearn: 0.5503564\ttotal: 134ms\tremaining: 3.7s\n",
      "35:\tlearn: 0.5431957\ttotal: 136ms\tremaining: 3.65s\n",
      "36:\tlearn: 0.5366999\ttotal: 139ms\tremaining: 3.62s\n",
      "37:\tlearn: 0.5295260\ttotal: 142ms\tremaining: 3.58s\n",
      "38:\tlearn: 0.5221653\ttotal: 144ms\tremaining: 3.54s\n",
      "39:\tlearn: 0.5146639\ttotal: 146ms\tremaining: 3.49s\n",
      "40:\tlearn: 0.5093074\ttotal: 147ms\tremaining: 3.45s\n",
      "41:\tlearn: 0.5015691\ttotal: 149ms\tremaining: 3.4s\n",
      "42:\tlearn: 0.4964683\ttotal: 151ms\tremaining: 3.37s\n",
      "43:\tlearn: 0.4909607\ttotal: 154ms\tremaining: 3.35s\n",
      "44:\tlearn: 0.4839710\ttotal: 157ms\tremaining: 3.32s\n",
      "45:\tlearn: 0.4780454\ttotal: 158ms\tremaining: 3.29s\n",
      "46:\tlearn: 0.4730596\ttotal: 161ms\tremaining: 3.26s\n",
      "47:\tlearn: 0.4673870\ttotal: 163ms\tremaining: 3.22s\n",
      "48:\tlearn: 0.4616815\ttotal: 164ms\tremaining: 3.19s\n",
      "49:\tlearn: 0.4564611\ttotal: 167ms\tremaining: 3.17s\n",
      "50:\tlearn: 0.4513136\ttotal: 170ms\tremaining: 3.16s\n",
      "51:\tlearn: 0.4463957\ttotal: 172ms\tremaining: 3.14s\n",
      "52:\tlearn: 0.4408853\ttotal: 175ms\tremaining: 3.12s\n",
      "53:\tlearn: 0.4364772\ttotal: 177ms\tremaining: 3.11s\n",
      "54:\tlearn: 0.4325058\ttotal: 180ms\tremaining: 3.09s\n"
     ]
    },
    {
     "name": "stdout",
     "output_type": "stream",
     "text": [
      "55:\tlearn: 0.4281731\ttotal: 183ms\tremaining: 3.09s\n",
      "56:\tlearn: 0.4247612\ttotal: 185ms\tremaining: 3.07s\n",
      "57:\tlearn: 0.4207522\ttotal: 190ms\tremaining: 3.08s\n",
      "58:\tlearn: 0.4160766\ttotal: 193ms\tremaining: 3.07s\n"
     ]
    },
    {
     "name": "stdout",
     "output_type": "stream",
     "text": [
      "59:\tlearn: 0.4116898\ttotal: 348ms\tremaining: 5.46s\n",
      "60:\tlearn: 0.4085334\ttotal: 351ms\tremaining: 5.4s\n",
      "61:\tlearn: 0.4043259\ttotal: 353ms\tremaining: 5.34s\n",
      "62:\tlearn: 0.4002970\ttotal: 356ms\tremaining: 5.29s\n"
     ]
    },
    {
     "name": "stdout",
     "output_type": "stream",
     "text": [
      "63:\tlearn: 0.3958255\ttotal: 358ms\tremaining: 5.24s\n",
      "64:\tlearn: 0.3921193\ttotal: 360ms\tremaining: 5.17s\n",
      "65:\tlearn: 0.3894659\ttotal: 363ms\tremaining: 5.13s\n",
      "66:\tlearn: 0.3859825\ttotal: 365ms\tremaining: 5.08s\n",
      "67:\tlearn: 0.3834069\ttotal: 368ms\tremaining: 5.05s\n",
      "68:\tlearn: 0.3802449\ttotal: 371ms\tremaining: 5.01s\n",
      "69:\tlearn: 0.3773531\ttotal: 374ms\tremaining: 4.97s\n",
      "70:\tlearn: 0.3742663\ttotal: 377ms\tremaining: 4.93s\n",
      "71:\tlearn: 0.3707596\ttotal: 380ms\tremaining: 4.89s\n",
      "72:\tlearn: 0.3685961\ttotal: 382ms\tremaining: 4.85s\n",
      "73:\tlearn: 0.3658680\ttotal: 384ms\tremaining: 4.8s\n",
      "74:\tlearn: 0.3635739\ttotal: 386ms\tremaining: 4.76s\n",
      "75:\tlearn: 0.3603508\ttotal: 388ms\tremaining: 4.72s\n",
      "76:\tlearn: 0.3567104\ttotal: 390ms\tremaining: 4.67s\n",
      "77:\tlearn: 0.3536871\ttotal: 392ms\tremaining: 4.63s\n",
      "78:\tlearn: 0.3510355\ttotal: 393ms\tremaining: 4.59s\n",
      "79:\tlearn: 0.3488967\ttotal: 395ms\tremaining: 4.54s\n",
      "80:\tlearn: 0.3467906\ttotal: 397ms\tremaining: 4.51s\n",
      "81:\tlearn: 0.3445793\ttotal: 400ms\tremaining: 4.47s\n",
      "82:\tlearn: 0.3416412\ttotal: 402ms\tremaining: 4.44s\n",
      "83:\tlearn: 0.3397350\ttotal: 404ms\tremaining: 4.4s\n",
      "84:\tlearn: 0.3373155\ttotal: 406ms\tremaining: 4.37s\n",
      "85:\tlearn: 0.3348085\ttotal: 409ms\tremaining: 4.34s\n",
      "86:\tlearn: 0.3320403\ttotal: 411ms\tremaining: 4.31s\n",
      "87:\tlearn: 0.3299126\ttotal: 413ms\tremaining: 4.28s\n",
      "88:\tlearn: 0.3278277\ttotal: 415ms\tremaining: 4.25s\n",
      "89:\tlearn: 0.3261077\ttotal: 416ms\tremaining: 4.21s\n",
      "90:\tlearn: 0.3244441\ttotal: 419ms\tremaining: 4.18s\n",
      "91:\tlearn: 0.3225121\ttotal: 421ms\tremaining: 4.16s\n",
      "92:\tlearn: 0.3210147\ttotal: 423ms\tremaining: 4.12s\n",
      "93:\tlearn: 0.3194145\ttotal: 425ms\tremaining: 4.09s\n",
      "94:\tlearn: 0.3177661\ttotal: 427ms\tremaining: 4.07s\n",
      "95:\tlearn: 0.3160885\ttotal: 429ms\tremaining: 4.04s\n",
      "96:\tlearn: 0.3141037\ttotal: 430ms\tremaining: 4.01s\n",
      "97:\tlearn: 0.3124884\ttotal: 432ms\tremaining: 3.98s\n",
      "98:\tlearn: 0.3110743\ttotal: 434ms\tremaining: 3.95s\n",
      "99:\tlearn: 0.3094800\ttotal: 436ms\tremaining: 3.92s\n",
      "100:\tlearn: 0.3079388\ttotal: 439ms\tremaining: 3.9s\n",
      "101:\tlearn: 0.3062766\ttotal: 441ms\tremaining: 3.88s\n",
      "102:\tlearn: 0.3043656\ttotal: 443ms\tremaining: 3.86s\n",
      "103:\tlearn: 0.3027868\ttotal: 445ms\tremaining: 3.83s\n",
      "104:\tlearn: 0.3005488\ttotal: 448ms\tremaining: 3.81s\n",
      "105:\tlearn: 0.2994169\ttotal: 449ms\tremaining: 3.79s\n",
      "106:\tlearn: 0.2981834\ttotal: 452ms\tremaining: 3.77s\n",
      "107:\tlearn: 0.2969841\ttotal: 454ms\tremaining: 3.75s\n",
      "108:\tlearn: 0.2957958\ttotal: 457ms\tremaining: 3.73s\n",
      "109:\tlearn: 0.2942390\ttotal: 459ms\tremaining: 3.71s\n",
      "110:\tlearn: 0.2933315\ttotal: 461ms\tremaining: 3.69s\n",
      "111:\tlearn: 0.2921447\ttotal: 463ms\tremaining: 3.67s\n"
     ]
    },
    {
     "name": "stdout",
     "output_type": "stream",
     "text": [
      "112:\tlearn: 0.2905169\ttotal: 512ms\tremaining: 4.01s\n"
     ]
    },
    {
     "name": "stdout",
     "output_type": "stream",
     "text": [
      "113:\tlearn: 0.2892823\ttotal: 516ms\tremaining: 4.01s\n",
      "114:\tlearn: 0.2878635\ttotal: 521ms\tremaining: 4.01s\n",
      "115:\tlearn: 0.2855870\ttotal: 523ms\tremaining: 3.98s\n",
      "116:\tlearn: 0.2841390\ttotal: 524ms\tremaining: 3.96s\n",
      "117:\tlearn: 0.2829541\ttotal: 526ms\tremaining: 3.93s\n",
      "118:\tlearn: 0.2818830\ttotal: 528ms\tremaining: 3.91s\n",
      "119:\tlearn: 0.2810729\ttotal: 531ms\tremaining: 3.89s\n",
      "120:\tlearn: 0.2793813\ttotal: 533ms\tremaining: 3.87s\n",
      "121:\tlearn: 0.2778018\ttotal: 535ms\tremaining: 3.85s\n",
      "122:\tlearn: 0.2767899\ttotal: 537ms\tremaining: 3.83s\n",
      "123:\tlearn: 0.2758643\ttotal: 539ms\tremaining: 3.81s\n",
      "124:\tlearn: 0.2748712\ttotal: 541ms\tremaining: 3.79s\n",
      "125:\tlearn: 0.2736957\ttotal: 544ms\tremaining: 3.77s\n",
      "126:\tlearn: 0.2719547\ttotal: 547ms\tremaining: 3.76s\n",
      "127:\tlearn: 0.2707707\ttotal: 549ms\tremaining: 3.74s\n",
      "128:\tlearn: 0.2699339\ttotal: 551ms\tremaining: 3.72s\n",
      "129:\tlearn: 0.2690829\ttotal: 554ms\tremaining: 3.71s\n",
      "130:\tlearn: 0.2678695\ttotal: 557ms\tremaining: 3.69s\n",
      "131:\tlearn: 0.2667063\ttotal: 559ms\tremaining: 3.67s\n",
      "132:\tlearn: 0.2659802\ttotal: 561ms\tremaining: 3.66s\n",
      "133:\tlearn: 0.2650394\ttotal: 564ms\tremaining: 3.64s\n",
      "134:\tlearn: 0.2636834\ttotal: 565ms\tremaining: 3.62s\n",
      "135:\tlearn: 0.2627781\ttotal: 568ms\tremaining: 3.61s\n",
      "136:\tlearn: 0.2615806\ttotal: 571ms\tremaining: 3.59s\n",
      "137:\tlearn: 0.2606572\ttotal: 573ms\tremaining: 3.58s\n",
      "138:\tlearn: 0.2598737\ttotal: 576ms\tremaining: 3.57s\n",
      "139:\tlearn: 0.2591886\ttotal: 578ms\tremaining: 3.55s\n",
      "140:\tlearn: 0.2584687\ttotal: 583ms\tremaining: 3.55s\n",
      "141:\tlearn: 0.2578773\ttotal: 586ms\tremaining: 3.54s\n",
      "142:\tlearn: 0.2573229\ttotal: 590ms\tremaining: 3.54s\n",
      "143:\tlearn: 0.2563800\ttotal: 594ms\tremaining: 3.53s\n",
      "144:\tlearn: 0.2550201\ttotal: 612ms\tremaining: 3.61s\n",
      "145:\tlearn: 0.2543097\ttotal: 617ms\tremaining: 3.61s\n",
      "146:\tlearn: 0.2530749\ttotal: 621ms\tremaining: 3.6s\n",
      "147:\tlearn: 0.2521214\ttotal: 624ms\tremaining: 3.59s\n",
      "148:\tlearn: 0.2513880\ttotal: 627ms\tremaining: 3.58s\n",
      "149:\tlearn: 0.2508041\ttotal: 631ms\tremaining: 3.58s\n",
      "150:\tlearn: 0.2499533\ttotal: 638ms\tremaining: 3.58s\n",
      "151:\tlearn: 0.2489582\ttotal: 640ms\tremaining: 3.57s\n",
      "152:\tlearn: 0.2484048\ttotal: 643ms\tremaining: 3.56s\n",
      "153:\tlearn: 0.2474419\ttotal: 645ms\tremaining: 3.54s\n",
      "154:\tlearn: 0.2468602\ttotal: 648ms\tremaining: 3.53s\n",
      "155:\tlearn: 0.2460258\ttotal: 651ms\tremaining: 3.52s\n",
      "156:\tlearn: 0.2452642\ttotal: 653ms\tremaining: 3.51s\n",
      "157:\tlearn: 0.2445322\ttotal: 657ms\tremaining: 3.5s\n",
      "158:\tlearn: 0.2433652\ttotal: 663ms\tremaining: 3.51s\n"
     ]
    },
    {
     "name": "stdout",
     "output_type": "stream",
     "text": [
      "159:\tlearn: 0.2426526\ttotal: 675ms\tremaining: 3.54s\n",
      "160:\tlearn: 0.2416440\ttotal: 677ms\tremaining: 3.53s\n",
      "161:\tlearn: 0.2411452\ttotal: 680ms\tremaining: 3.52s\n",
      "162:\tlearn: 0.2407104\ttotal: 682ms\tremaining: 3.5s\n",
      "163:\tlearn: 0.2400746\ttotal: 685ms\tremaining: 3.49s\n",
      "164:\tlearn: 0.2392608\ttotal: 687ms\tremaining: 3.48s\n",
      "165:\tlearn: 0.2385233\ttotal: 690ms\tremaining: 3.46s\n",
      "166:\tlearn: 0.2376389\ttotal: 692ms\tremaining: 3.45s\n",
      "167:\tlearn: 0.2369891\ttotal: 695ms\tremaining: 3.44s\n",
      "168:\tlearn: 0.2363960\ttotal: 698ms\tremaining: 3.43s\n",
      "169:\tlearn: 0.2356670\ttotal: 702ms\tremaining: 3.43s\n",
      "170:\tlearn: 0.2351198\ttotal: 707ms\tremaining: 3.43s\n",
      "171:\tlearn: 0.2341002\ttotal: 716ms\tremaining: 3.45s\n",
      "172:\tlearn: 0.2333552\ttotal: 718ms\tremaining: 3.43s\n",
      "173:\tlearn: 0.2325710\ttotal: 722ms\tremaining: 3.43s\n",
      "174:\tlearn: 0.2320103\ttotal: 730ms\tremaining: 3.44s\n",
      "175:\tlearn: 0.2311274\ttotal: 734ms\tremaining: 3.44s\n",
      "176:\tlearn: 0.2302943\ttotal: 740ms\tremaining: 3.44s\n",
      "177:\tlearn: 0.2292249\ttotal: 743ms\tremaining: 3.43s\n",
      "178:\tlearn: 0.2286240\ttotal: 748ms\tremaining: 3.43s\n",
      "179:\tlearn: 0.2277180\ttotal: 752ms\tremaining: 3.42s\n",
      "180:\tlearn: 0.2268602\ttotal: 773ms\tremaining: 3.5s\n",
      "181:\tlearn: 0.2263530\ttotal: 778ms\tremaining: 3.5s\n",
      "182:\tlearn: 0.2256952\ttotal: 786ms\tremaining: 3.51s\n",
      "183:\tlearn: 0.2251647\ttotal: 790ms\tremaining: 3.5s\n",
      "184:\tlearn: 0.2245311\ttotal: 792ms\tremaining: 3.49s\n",
      "185:\tlearn: 0.2237827\ttotal: 794ms\tremaining: 3.47s\n",
      "186:\tlearn: 0.2229269\ttotal: 796ms\tremaining: 3.46s\n",
      "187:\tlearn: 0.2221879\ttotal: 798ms\tremaining: 3.44s\n",
      "188:\tlearn: 0.2215464\ttotal: 800ms\tremaining: 3.43s\n",
      "189:\tlearn: 0.2211921\ttotal: 802ms\tremaining: 3.42s\n",
      "190:\tlearn: 0.2205955\ttotal: 805ms\tremaining: 3.41s\n",
      "191:\tlearn: 0.2202110\ttotal: 807ms\tremaining: 3.39s\n",
      "192:\tlearn: 0.2197035\ttotal: 808ms\tremaining: 3.38s\n",
      "193:\tlearn: 0.2190466\ttotal: 811ms\tremaining: 3.37s\n",
      "194:\tlearn: 0.2186428\ttotal: 814ms\tremaining: 3.36s\n",
      "195:\tlearn: 0.2179978\ttotal: 818ms\tremaining: 3.35s\n",
      "196:\tlearn: 0.2171942\ttotal: 823ms\tremaining: 3.35s\n",
      "197:\tlearn: 0.2164877\ttotal: 828ms\tremaining: 3.35s\n",
      "198:\tlearn: 0.2159244\ttotal: 833ms\tremaining: 3.35s\n",
      "199:\tlearn: 0.2152766\ttotal: 836ms\tremaining: 3.34s\n",
      "200:\tlearn: 0.2149211\ttotal: 838ms\tremaining: 3.33s\n",
      "201:\tlearn: 0.2143056\ttotal: 839ms\tremaining: 3.31s\n",
      "202:\tlearn: 0.2138398\ttotal: 841ms\tremaining: 3.3s\n",
      "203:\tlearn: 0.2130977\ttotal: 843ms\tremaining: 3.29s\n",
      "204:\tlearn: 0.2124711\ttotal: 844ms\tremaining: 3.27s\n",
      "205:\tlearn: 0.2119428\ttotal: 846ms\tremaining: 3.26s\n",
      "206:\tlearn: 0.2113519\ttotal: 848ms\tremaining: 3.25s\n"
     ]
    },
    {
     "name": "stdout",
     "output_type": "stream",
     "text": [
      "207:\tlearn: 0.2106188\ttotal: 850ms\tremaining: 3.24s\n",
      "208:\tlearn: 0.2101693\ttotal: 853ms\tremaining: 3.23s\n",
      "209:\tlearn: 0.2097045\ttotal: 855ms\tremaining: 3.22s\n",
      "210:\tlearn: 0.2091014\ttotal: 857ms\tremaining: 3.2s\n",
      "211:\tlearn: 0.2083767\ttotal: 859ms\tremaining: 3.19s\n",
      "212:\tlearn: 0.2079848\ttotal: 862ms\tremaining: 3.18s\n",
      "213:\tlearn: 0.2076152\ttotal: 864ms\tremaining: 3.17s\n",
      "214:\tlearn: 0.2070494\ttotal: 867ms\tremaining: 3.16s\n",
      "215:\tlearn: 0.2067676\ttotal: 869ms\tremaining: 3.15s\n",
      "216:\tlearn: 0.2063298\ttotal: 872ms\tremaining: 3.15s\n",
      "217:\tlearn: 0.2059861\ttotal: 873ms\tremaining: 3.13s\n",
      "218:\tlearn: 0.2053948\ttotal: 875ms\tremaining: 3.12s\n",
      "219:\tlearn: 0.2049767\ttotal: 877ms\tremaining: 3.11s\n",
      "220:\tlearn: 0.2043650\ttotal: 879ms\tremaining: 3.1s\n",
      "221:\tlearn: 0.2037964\ttotal: 882ms\tremaining: 3.09s\n",
      "222:\tlearn: 0.2033685\ttotal: 885ms\tremaining: 3.08s\n",
      "223:\tlearn: 0.2027133\ttotal: 887ms\tremaining: 3.07s\n",
      "224:\tlearn: 0.2020341\ttotal: 890ms\tremaining: 3.06s\n",
      "225:\tlearn: 0.2014357\ttotal: 892ms\tremaining: 3.06s\n",
      "226:\tlearn: 0.2006570\ttotal: 894ms\tremaining: 3.04s\n",
      "227:\tlearn: 0.2003531\ttotal: 897ms\tremaining: 3.04s\n",
      "228:\tlearn: 0.1996924\ttotal: 899ms\tremaining: 3.03s\n",
      "229:\tlearn: 0.1991934\ttotal: 902ms\tremaining: 3.02s\n",
      "230:\tlearn: 0.1987531\ttotal: 904ms\tremaining: 3.01s\n",
      "231:\tlearn: 0.1983347\ttotal: 907ms\tremaining: 3s\n",
      "232:\tlearn: 0.1979955\ttotal: 910ms\tremaining: 3s\n",
      "233:\tlearn: 0.1976429\ttotal: 913ms\tremaining: 2.99s\n",
      "234:\tlearn: 0.1971148\ttotal: 915ms\tremaining: 2.98s\n",
      "235:\tlearn: 0.1965785\ttotal: 918ms\tremaining: 2.97s\n",
      "236:\tlearn: 0.1961092\ttotal: 920ms\tremaining: 2.96s\n",
      "237:\tlearn: 0.1956644\ttotal: 923ms\tremaining: 2.95s\n",
      "238:\tlearn: 0.1950216\ttotal: 925ms\tremaining: 2.95s\n",
      "239:\tlearn: 0.1948342\ttotal: 928ms\tremaining: 2.94s\n",
      "240:\tlearn: 0.1940652\ttotal: 931ms\tremaining: 2.93s\n",
      "241:\tlearn: 0.1934325\ttotal: 932ms\tremaining: 2.92s\n",
      "242:\tlearn: 0.1929393\ttotal: 935ms\tremaining: 2.91s\n",
      "243:\tlearn: 0.1924585\ttotal: 937ms\tremaining: 2.9s\n",
      "244:\tlearn: 0.1921741\ttotal: 940ms\tremaining: 2.9s\n",
      "245:\tlearn: 0.1915964\ttotal: 943ms\tremaining: 2.89s\n",
      "246:\tlearn: 0.1910328\ttotal: 945ms\tremaining: 2.88s\n",
      "247:\tlearn: 0.1905475\ttotal: 948ms\tremaining: 2.87s\n",
      "248:\tlearn: 0.1902592\ttotal: 951ms\tremaining: 2.87s\n",
      "249:\tlearn: 0.1899929\ttotal: 953ms\tremaining: 2.86s\n",
      "250:\tlearn: 0.1896680\ttotal: 955ms\tremaining: 2.85s\n",
      "251:\tlearn: 0.1891280\ttotal: 959ms\tremaining: 2.85s\n",
      "252:\tlearn: 0.1887591\ttotal: 971ms\tremaining: 2.87s\n",
      "253:\tlearn: 0.1882617\ttotal: 974ms\tremaining: 2.86s\n",
      "254:\tlearn: 0.1878637\ttotal: 976ms\tremaining: 2.85s\n",
      "255:\tlearn: 0.1875530\ttotal: 978ms\tremaining: 2.84s\n",
      "256:\tlearn: 0.1869605\ttotal: 981ms\tremaining: 2.84s\n",
      "257:\tlearn: 0.1866162\ttotal: 984ms\tremaining: 2.83s\n",
      "258:\tlearn: 0.1861012\ttotal: 987ms\tremaining: 2.82s\n",
      "259:\tlearn: 0.1855998\ttotal: 989ms\tremaining: 2.81s\n",
      "260:\tlearn: 0.1850933\ttotal: 992ms\tremaining: 2.81s\n",
      "261:\tlearn: 0.1848383\ttotal: 995ms\tremaining: 2.8s\n",
      "262:\tlearn: 0.1844140\ttotal: 997ms\tremaining: 2.79s\n",
      "263:\tlearn: 0.1839935\ttotal: 999ms\tremaining: 2.79s\n",
      "264:\tlearn: 0.1834523\ttotal: 1s\tremaining: 2.78s\n",
      "265:\tlearn: 0.1829090\ttotal: 1.01s\tremaining: 2.79s\n",
      "266:\tlearn: 0.1824380\ttotal: 1.01s\tremaining: 2.79s\n"
     ]
    },
    {
     "name": "stdout",
     "output_type": "stream",
     "text": [
      "267:\tlearn: 0.1820258\ttotal: 1.04s\tremaining: 2.84s\n",
      "268:\tlearn: 0.1815912\ttotal: 1.04s\tremaining: 2.83s\n",
      "269:\tlearn: 0.1812439\ttotal: 1.04s\tremaining: 2.82s\n",
      "270:\tlearn: 0.1807241\ttotal: 1.04s\tremaining: 2.81s\n",
      "271:\tlearn: 0.1801598\ttotal: 1.05s\tremaining: 2.8s\n",
      "272:\tlearn: 0.1796591\ttotal: 1.05s\tremaining: 2.8s\n",
      "273:\tlearn: 0.1792352\ttotal: 1.05s\tremaining: 2.79s\n",
      "274:\tlearn: 0.1789498\ttotal: 1.06s\tremaining: 2.78s\n",
      "275:\tlearn: 0.1784217\ttotal: 1.06s\tremaining: 2.78s\n",
      "276:\tlearn: 0.1782704\ttotal: 1.06s\tremaining: 2.77s\n",
      "277:\tlearn: 0.1781283\ttotal: 1.06s\tremaining: 2.76s\n",
      "278:\tlearn: 0.1776155\ttotal: 1.06s\tremaining: 2.75s\n",
      "279:\tlearn: 0.1772343\ttotal: 1.07s\tremaining: 2.75s\n",
      "280:\tlearn: 0.1766904\ttotal: 1.07s\tremaining: 2.74s\n",
      "281:\tlearn: 0.1762496\ttotal: 1.07s\tremaining: 2.73s\n",
      "282:\tlearn: 0.1758904\ttotal: 1.08s\tremaining: 2.73s\n",
      "283:\tlearn: 0.1753778\ttotal: 1.08s\tremaining: 2.72s\n",
      "284:\tlearn: 0.1748171\ttotal: 1.08s\tremaining: 2.71s\n",
      "285:\tlearn: 0.1744345\ttotal: 1.08s\tremaining: 2.71s\n",
      "286:\tlearn: 0.1739613\ttotal: 1.09s\tremaining: 2.7s\n",
      "287:\tlearn: 0.1736008\ttotal: 1.09s\tremaining: 2.7s\n",
      "288:\tlearn: 0.1733754\ttotal: 1.09s\tremaining: 2.69s\n",
      "289:\tlearn: 0.1730437\ttotal: 1.1s\tremaining: 2.69s\n",
      "290:\tlearn: 0.1725812\ttotal: 1.1s\tremaining: 2.68s\n",
      "291:\tlearn: 0.1720524\ttotal: 1.1s\tremaining: 2.67s\n",
      "292:\tlearn: 0.1717125\ttotal: 1.1s\tremaining: 2.67s\n",
      "293:\tlearn: 0.1713358\ttotal: 1.11s\tremaining: 2.66s\n",
      "294:\tlearn: 0.1711668\ttotal: 1.11s\tremaining: 2.65s\n",
      "295:\tlearn: 0.1707913\ttotal: 1.11s\tremaining: 2.65s\n",
      "296:\tlearn: 0.1704431\ttotal: 1.11s\tremaining: 2.64s\n",
      "297:\tlearn: 0.1700493\ttotal: 1.12s\tremaining: 2.63s\n",
      "298:\tlearn: 0.1696484\ttotal: 1.12s\tremaining: 2.63s\n",
      "299:\tlearn: 0.1692831\ttotal: 1.12s\tremaining: 2.62s\n",
      "300:\tlearn: 0.1689226\ttotal: 1.12s\tremaining: 2.61s\n",
      "301:\tlearn: 0.1683930\ttotal: 1.13s\tremaining: 2.61s\n",
      "302:\tlearn: 0.1680044\ttotal: 1.13s\tremaining: 2.6s\n",
      "303:\tlearn: 0.1674631\ttotal: 1.13s\tremaining: 2.59s\n",
      "304:\tlearn: 0.1670397\ttotal: 1.14s\tremaining: 2.59s\n",
      "305:\tlearn: 0.1667183\ttotal: 1.14s\tremaining: 2.58s\n",
      "306:\tlearn: 0.1665535\ttotal: 1.14s\tremaining: 2.57s\n",
      "307:\tlearn: 0.1662890\ttotal: 1.14s\tremaining: 2.57s\n",
      "308:\tlearn: 0.1658710\ttotal: 1.14s\tremaining: 2.56s\n",
      "309:\tlearn: 0.1655165\ttotal: 1.15s\tremaining: 2.55s\n",
      "310:\tlearn: 0.1652547\ttotal: 1.15s\tremaining: 2.55s\n",
      "311:\tlearn: 0.1648896\ttotal: 1.15s\tremaining: 2.54s\n",
      "312:\tlearn: 0.1645474\ttotal: 1.15s\tremaining: 2.53s\n",
      "313:\tlearn: 0.1643908\ttotal: 1.16s\tremaining: 2.53s\n",
      "314:\tlearn: 0.1642411\ttotal: 1.16s\tremaining: 2.52s\n",
      "315:\tlearn: 0.1641297\ttotal: 1.16s\tremaining: 2.52s\n",
      "316:\tlearn: 0.1637131\ttotal: 1.17s\tremaining: 2.51s\n",
      "317:\tlearn: 0.1632288\ttotal: 1.17s\tremaining: 2.5s\n",
      "318:\tlearn: 0.1627238\ttotal: 1.17s\tremaining: 2.5s\n",
      "319:\tlearn: 0.1625795\ttotal: 1.17s\tremaining: 2.5s\n",
      "320:\tlearn: 0.1624374\ttotal: 1.18s\tremaining: 2.49s\n",
      "321:\tlearn: 0.1621236\ttotal: 1.18s\tremaining: 2.48s\n",
      "322:\tlearn: 0.1619823\ttotal: 1.18s\tremaining: 2.47s\n",
      "323:\tlearn: 0.1617529\ttotal: 1.18s\tremaining: 2.47s\n",
      "324:\tlearn: 0.1614445\ttotal: 1.18s\tremaining: 2.46s\n",
      "325:\tlearn: 0.1613389\ttotal: 1.19s\tremaining: 2.46s\n",
      "326:\tlearn: 0.1609471\ttotal: 1.19s\tremaining: 2.45s\n",
      "327:\tlearn: 0.1607792\ttotal: 1.19s\tremaining: 2.44s\n",
      "328:\tlearn: 0.1604682\ttotal: 1.2s\tremaining: 2.44s\n",
      "329:\tlearn: 0.1604031\ttotal: 1.2s\tremaining: 2.43s\n",
      "330:\tlearn: 0.1602976\ttotal: 1.2s\tremaining: 2.42s\n",
      "331:\tlearn: 0.1602169\ttotal: 1.2s\tremaining: 2.42s\n",
      "332:\tlearn: 0.1598481\ttotal: 1.2s\tremaining: 2.41s\n",
      "333:\tlearn: 0.1597456\ttotal: 1.21s\tremaining: 2.41s\n",
      "334:\tlearn: 0.1596317\ttotal: 1.21s\tremaining: 2.4s\n"
     ]
    },
    {
     "name": "stdout",
     "output_type": "stream",
     "text": [
      "335:\tlearn: 0.1592283\ttotal: 1.21s\tremaining: 2.4s\n",
      "336:\tlearn: 0.1588938\ttotal: 1.21s\tremaining: 2.39s\n",
      "337:\tlearn: 0.1586191\ttotal: 1.22s\tremaining: 2.38s\n",
      "338:\tlearn: 0.1581362\ttotal: 1.22s\tremaining: 2.38s\n",
      "339:\tlearn: 0.1578684\ttotal: 1.22s\tremaining: 2.37s\n",
      "340:\tlearn: 0.1577394\ttotal: 1.22s\tremaining: 2.36s\n",
      "341:\tlearn: 0.1574633\ttotal: 1.23s\tremaining: 2.36s\n",
      "342:\tlearn: 0.1573489\ttotal: 1.23s\tremaining: 2.35s\n",
      "343:\tlearn: 0.1569914\ttotal: 1.23s\tremaining: 2.34s\n",
      "344:\tlearn: 0.1567081\ttotal: 1.23s\tremaining: 2.33s\n",
      "345:\tlearn: 0.1564469\ttotal: 1.23s\tremaining: 2.33s\n",
      "346:\tlearn: 0.1562913\ttotal: 1.23s\tremaining: 2.32s\n",
      "347:\tlearn: 0.1561315\ttotal: 1.24s\tremaining: 2.32s\n",
      "348:\tlearn: 0.1561014\ttotal: 1.24s\tremaining: 2.31s\n",
      "349:\tlearn: 0.1556724\ttotal: 1.24s\tremaining: 2.3s\n",
      "350:\tlearn: 0.1556107\ttotal: 1.24s\tremaining: 2.3s\n",
      "351:\tlearn: 0.1552649\ttotal: 1.24s\tremaining: 2.29s\n",
      "352:\tlearn: 0.1549041\ttotal: 1.25s\tremaining: 2.28s\n",
      "353:\tlearn: 0.1548766\ttotal: 1.25s\tremaining: 2.28s\n",
      "354:\tlearn: 0.1545464\ttotal: 1.25s\tremaining: 2.27s\n",
      "355:\tlearn: 0.1544576\ttotal: 1.25s\tremaining: 2.26s\n",
      "356:\tlearn: 0.1543691\ttotal: 1.25s\tremaining: 2.26s\n",
      "357:\tlearn: 0.1539784\ttotal: 1.25s\tremaining: 2.25s\n",
      "358:\tlearn: 0.1534514\ttotal: 1.26s\tremaining: 2.25s\n",
      "359:\tlearn: 0.1531561\ttotal: 1.26s\tremaining: 2.24s\n",
      "360:\tlearn: 0.1529030\ttotal: 1.26s\tremaining: 2.23s\n",
      "361:\tlearn: 0.1525903\ttotal: 1.26s\tremaining: 2.23s\n",
      "362:\tlearn: 0.1520786\ttotal: 1.26s\tremaining: 2.22s\n",
      "363:\tlearn: 0.1520080\ttotal: 1.27s\tremaining: 2.21s\n",
      "364:\tlearn: 0.1516055\ttotal: 1.27s\tremaining: 2.21s\n",
      "365:\tlearn: 0.1513929\ttotal: 1.27s\tremaining: 2.2s\n",
      "366:\tlearn: 0.1509897\ttotal: 1.27s\tremaining: 2.19s\n",
      "367:\tlearn: 0.1504481\ttotal: 1.27s\tremaining: 2.19s\n",
      "368:\tlearn: 0.1502717\ttotal: 1.27s\tremaining: 2.18s\n",
      "369:\tlearn: 0.1498726\ttotal: 1.28s\tremaining: 2.17s\n",
      "370:\tlearn: 0.1494351\ttotal: 1.28s\tremaining: 2.17s\n",
      "371:\tlearn: 0.1489531\ttotal: 1.28s\tremaining: 2.16s\n",
      "372:\tlearn: 0.1487353\ttotal: 1.28s\tremaining: 2.16s\n",
      "373:\tlearn: 0.1485369\ttotal: 1.28s\tremaining: 2.15s\n",
      "374:\tlearn: 0.1480784\ttotal: 1.29s\tremaining: 2.15s\n",
      "375:\tlearn: 0.1476772\ttotal: 1.29s\tremaining: 2.14s\n",
      "376:\tlearn: 0.1472951\ttotal: 1.29s\tremaining: 2.13s\n",
      "377:\tlearn: 0.1469386\ttotal: 1.29s\tremaining: 2.13s\n",
      "378:\tlearn: 0.1466186\ttotal: 1.29s\tremaining: 2.12s\n",
      "379:\tlearn: 0.1465907\ttotal: 1.3s\tremaining: 2.12s\n",
      "380:\tlearn: 0.1461720\ttotal: 1.3s\tremaining: 2.11s\n",
      "381:\tlearn: 0.1457902\ttotal: 1.3s\tremaining: 2.1s\n",
      "382:\tlearn: 0.1453972\ttotal: 1.3s\tremaining: 2.1s\n",
      "383:\tlearn: 0.1452176\ttotal: 1.3s\tremaining: 2.09s\n",
      "384:\tlearn: 0.1451391\ttotal: 1.3s\tremaining: 2.08s\n",
      "385:\tlearn: 0.1450462\ttotal: 1.31s\tremaining: 2.08s\n",
      "386:\tlearn: 0.1447742\ttotal: 1.31s\tremaining: 2.08s\n",
      "387:\tlearn: 0.1445760\ttotal: 1.31s\tremaining: 2.07s\n",
      "388:\tlearn: 0.1445302\ttotal: 1.31s\tremaining: 2.06s\n",
      "389:\tlearn: 0.1442555\ttotal: 1.32s\tremaining: 2.06s\n",
      "390:\tlearn: 0.1439396\ttotal: 1.32s\tremaining: 2.05s\n",
      "391:\tlearn: 0.1436219\ttotal: 1.32s\tremaining: 2.05s\n",
      "392:\tlearn: 0.1435374\ttotal: 1.32s\tremaining: 2.04s\n",
      "393:\tlearn: 0.1430312\ttotal: 1.33s\tremaining: 2.04s\n",
      "394:\tlearn: 0.1427332\ttotal: 1.33s\tremaining: 2.04s\n",
      "395:\tlearn: 0.1424466\ttotal: 1.33s\tremaining: 2.03s\n",
      "396:\tlearn: 0.1421610\ttotal: 1.33s\tremaining: 2.03s\n",
      "397:\tlearn: 0.1418508\ttotal: 1.34s\tremaining: 2.02s\n",
      "398:\tlearn: 0.1415055\ttotal: 1.34s\tremaining: 2.02s\n",
      "399:\tlearn: 0.1410965\ttotal: 1.34s\tremaining: 2.01s\n",
      "400:\tlearn: 0.1407334\ttotal: 1.34s\tremaining: 2.01s\n",
      "401:\tlearn: 0.1403452\ttotal: 1.35s\tremaining: 2s\n",
      "402:\tlearn: 0.1400479\ttotal: 1.35s\tremaining: 2s\n",
      "403:\tlearn: 0.1399625\ttotal: 1.35s\tremaining: 1.99s\n",
      "404:\tlearn: 0.1397129\ttotal: 1.35s\tremaining: 1.99s\n",
      "405:\tlearn: 0.1394617\ttotal: 1.35s\tremaining: 1.98s\n",
      "406:\tlearn: 0.1391674\ttotal: 1.36s\tremaining: 1.98s\n",
      "407:\tlearn: 0.1390591\ttotal: 1.36s\tremaining: 1.97s\n",
      "408:\tlearn: 0.1387304\ttotal: 1.36s\tremaining: 1.97s\n",
      "409:\tlearn: 0.1383533\ttotal: 1.37s\tremaining: 1.97s\n",
      "410:\tlearn: 0.1381058\ttotal: 1.37s\tremaining: 1.96s\n",
      "411:\tlearn: 0.1375267\ttotal: 1.37s\tremaining: 1.96s\n",
      "412:\tlearn: 0.1372803\ttotal: 1.37s\tremaining: 1.95s\n",
      "413:\tlearn: 0.1369703\ttotal: 1.38s\tremaining: 1.95s\n",
      "414:\tlearn: 0.1366329\ttotal: 1.38s\tremaining: 1.94s\n",
      "415:\tlearn: 0.1363445\ttotal: 1.38s\tremaining: 1.94s\n",
      "416:\tlearn: 0.1361671\ttotal: 1.38s\tremaining: 1.93s\n",
      "417:\tlearn: 0.1359377\ttotal: 1.39s\tremaining: 1.93s\n",
      "418:\tlearn: 0.1356785\ttotal: 1.39s\tremaining: 1.93s\n"
     ]
    },
    {
     "name": "stdout",
     "output_type": "stream",
     "text": [
      "419:\tlearn: 0.1354365\ttotal: 1.39s\tremaining: 1.92s\n",
      "420:\tlearn: 0.1353534\ttotal: 1.4s\tremaining: 1.92s\n",
      "421:\tlearn: 0.1351077\ttotal: 1.4s\tremaining: 1.91s\n",
      "422:\tlearn: 0.1350274\ttotal: 1.4s\tremaining: 1.91s\n",
      "423:\tlearn: 0.1348433\ttotal: 1.4s\tremaining: 1.91s\n",
      "424:\tlearn: 0.1347454\ttotal: 1.41s\tremaining: 1.9s\n",
      "425:\tlearn: 0.1343742\ttotal: 1.41s\tremaining: 1.9s\n",
      "426:\tlearn: 0.1341925\ttotal: 1.41s\tremaining: 1.89s\n",
      "427:\tlearn: 0.1338117\ttotal: 1.41s\tremaining: 1.89s\n",
      "428:\tlearn: 0.1334395\ttotal: 1.42s\tremaining: 1.88s\n",
      "429:\tlearn: 0.1332126\ttotal: 1.42s\tremaining: 1.88s\n",
      "430:\tlearn: 0.1331124\ttotal: 1.42s\tremaining: 1.87s\n",
      "431:\tlearn: 0.1327381\ttotal: 1.42s\tremaining: 1.87s\n",
      "432:\tlearn: 0.1323423\ttotal: 1.43s\tremaining: 1.87s\n",
      "433:\tlearn: 0.1319401\ttotal: 1.43s\tremaining: 1.86s\n",
      "434:\tlearn: 0.1315320\ttotal: 1.43s\tremaining: 1.86s\n",
      "435:\tlearn: 0.1312450\ttotal: 1.43s\tremaining: 1.85s\n",
      "436:\tlearn: 0.1310354\ttotal: 1.43s\tremaining: 1.85s\n",
      "437:\tlearn: 0.1307754\ttotal: 1.44s\tremaining: 1.84s\n",
      "438:\tlearn: 0.1303456\ttotal: 1.44s\tremaining: 1.84s\n",
      "439:\tlearn: 0.1301277\ttotal: 1.44s\tremaining: 1.83s\n",
      "440:\tlearn: 0.1300428\ttotal: 1.44s\tremaining: 1.83s\n",
      "441:\tlearn: 0.1298818\ttotal: 1.44s\tremaining: 1.82s\n",
      "442:\tlearn: 0.1298258\ttotal: 1.45s\tremaining: 1.82s\n",
      "443:\tlearn: 0.1296429\ttotal: 1.45s\tremaining: 1.81s\n",
      "444:\tlearn: 0.1293776\ttotal: 1.45s\tremaining: 1.81s\n",
      "445:\tlearn: 0.1293017\ttotal: 1.45s\tremaining: 1.8s\n",
      "446:\tlearn: 0.1290971\ttotal: 1.45s\tremaining: 1.8s\n",
      "447:\tlearn: 0.1290323\ttotal: 1.46s\tremaining: 1.79s\n",
      "448:\tlearn: 0.1286694\ttotal: 1.46s\tremaining: 1.79s\n",
      "449:\tlearn: 0.1283470\ttotal: 1.46s\tremaining: 1.78s\n",
      "450:\tlearn: 0.1280148\ttotal: 1.46s\tremaining: 1.78s\n",
      "451:\tlearn: 0.1275797\ttotal: 1.46s\tremaining: 1.77s\n",
      "452:\tlearn: 0.1271438\ttotal: 1.47s\tremaining: 1.77s\n",
      "453:\tlearn: 0.1268711\ttotal: 1.47s\tremaining: 1.76s\n",
      "454:\tlearn: 0.1266530\ttotal: 1.47s\tremaining: 1.76s\n",
      "455:\tlearn: 0.1263939\ttotal: 1.47s\tremaining: 1.75s\n",
      "456:\tlearn: 0.1260854\ttotal: 1.47s\tremaining: 1.75s\n",
      "457:\tlearn: 0.1258485\ttotal: 1.48s\tremaining: 1.75s\n",
      "458:\tlearn: 0.1256118\ttotal: 1.48s\tremaining: 1.74s\n",
      "459:\tlearn: 0.1252292\ttotal: 1.48s\tremaining: 1.74s\n",
      "460:\tlearn: 0.1251671\ttotal: 1.48s\tremaining: 1.73s\n",
      "461:\tlearn: 0.1248724\ttotal: 1.48s\tremaining: 1.73s\n",
      "462:\tlearn: 0.1247182\ttotal: 1.48s\tremaining: 1.72s\n",
      "463:\tlearn: 0.1244856\ttotal: 1.49s\tremaining: 1.72s\n",
      "464:\tlearn: 0.1240771\ttotal: 1.49s\tremaining: 1.71s\n",
      "465:\tlearn: 0.1239903\ttotal: 1.49s\tremaining: 1.71s\n",
      "466:\tlearn: 0.1239645\ttotal: 1.49s\tremaining: 1.7s\n",
      "467:\tlearn: 0.1236722\ttotal: 1.49s\tremaining: 1.7s\n",
      "468:\tlearn: 0.1234590\ttotal: 1.5s\tremaining: 1.69s\n",
      "469:\tlearn: 0.1232559\ttotal: 1.5s\tremaining: 1.69s\n",
      "470:\tlearn: 0.1230698\ttotal: 1.5s\tremaining: 1.69s\n",
      "471:\tlearn: 0.1228059\ttotal: 1.5s\tremaining: 1.68s\n",
      "472:\tlearn: 0.1226287\ttotal: 1.5s\tremaining: 1.68s\n",
      "473:\tlearn: 0.1223063\ttotal: 1.51s\tremaining: 1.67s\n",
      "474:\tlearn: 0.1220923\ttotal: 1.51s\tremaining: 1.67s\n",
      "475:\tlearn: 0.1219007\ttotal: 1.51s\tremaining: 1.66s\n",
      "476:\tlearn: 0.1215677\ttotal: 1.51s\tremaining: 1.66s\n",
      "477:\tlearn: 0.1213594\ttotal: 1.51s\tremaining: 1.65s\n",
      "478:\tlearn: 0.1211091\ttotal: 1.51s\tremaining: 1.65s\n",
      "479:\tlearn: 0.1208877\ttotal: 1.52s\tremaining: 1.64s\n",
      "480:\tlearn: 0.1206012\ttotal: 1.52s\tremaining: 1.64s\n",
      "481:\tlearn: 0.1202547\ttotal: 1.52s\tremaining: 1.64s\n",
      "482:\tlearn: 0.1199470\ttotal: 1.52s\tremaining: 1.63s\n",
      "483:\tlearn: 0.1198885\ttotal: 1.52s\tremaining: 1.63s\n",
      "484:\tlearn: 0.1196845\ttotal: 1.53s\tremaining: 1.62s\n",
      "485:\tlearn: 0.1195118\ttotal: 1.53s\tremaining: 1.62s\n",
      "486:\tlearn: 0.1191825\ttotal: 1.53s\tremaining: 1.61s\n",
      "487:\tlearn: 0.1189215\ttotal: 1.53s\tremaining: 1.61s\n",
      "488:\tlearn: 0.1188402\ttotal: 1.53s\tremaining: 1.6s\n",
      "489:\tlearn: 0.1184684\ttotal: 1.53s\tremaining: 1.6s\n",
      "490:\tlearn: 0.1183758\ttotal: 1.54s\tremaining: 1.59s\n",
      "491:\tlearn: 0.1182009\ttotal: 1.54s\tremaining: 1.59s\n",
      "492:\tlearn: 0.1178638\ttotal: 1.54s\tremaining: 1.59s\n",
      "493:\tlearn: 0.1174851\ttotal: 1.54s\tremaining: 1.58s\n",
      "494:\tlearn: 0.1173005\ttotal: 1.55s\tremaining: 1.58s\n",
      "495:\tlearn: 0.1172102\ttotal: 1.55s\tremaining: 1.58s\n",
      "496:\tlearn: 0.1169506\ttotal: 1.55s\tremaining: 1.57s\n",
      "497:\tlearn: 0.1168251\ttotal: 1.55s\tremaining: 1.57s\n",
      "498:\tlearn: 0.1166797\ttotal: 1.56s\tremaining: 1.56s\n",
      "499:\tlearn: 0.1163634\ttotal: 1.56s\tremaining: 1.56s\n",
      "500:\tlearn: 0.1161310\ttotal: 1.56s\tremaining: 1.56s\n",
      "501:\tlearn: 0.1158543\ttotal: 1.57s\tremaining: 1.55s\n",
      "502:\tlearn: 0.1154890\ttotal: 1.57s\tremaining: 1.55s\n"
     ]
    },
    {
     "name": "stdout",
     "output_type": "stream",
     "text": [
      "503:\tlearn: 0.1153904\ttotal: 1.57s\tremaining: 1.55s\n",
      "504:\tlearn: 0.1151795\ttotal: 1.58s\tremaining: 1.55s\n",
      "505:\tlearn: 0.1151250\ttotal: 1.58s\tremaining: 1.54s\n",
      "506:\tlearn: 0.1149170\ttotal: 1.58s\tremaining: 1.54s\n",
      "507:\tlearn: 0.1148703\ttotal: 1.59s\tremaining: 1.54s\n",
      "508:\tlearn: 0.1146283\ttotal: 1.59s\tremaining: 1.53s\n",
      "509:\tlearn: 0.1144059\ttotal: 1.59s\tremaining: 1.53s\n",
      "510:\tlearn: 0.1141264\ttotal: 1.59s\tremaining: 1.52s\n",
      "511:\tlearn: 0.1139585\ttotal: 1.59s\tremaining: 1.52s\n",
      "512:\tlearn: 0.1138092\ttotal: 1.6s\tremaining: 1.52s\n",
      "513:\tlearn: 0.1135787\ttotal: 1.6s\tremaining: 1.51s\n",
      "514:\tlearn: 0.1134591\ttotal: 1.6s\tremaining: 1.51s\n",
      "515:\tlearn: 0.1132223\ttotal: 1.61s\tremaining: 1.51s\n",
      "516:\tlearn: 0.1131634\ttotal: 1.61s\tremaining: 1.5s\n",
      "517:\tlearn: 0.1129208\ttotal: 1.61s\tremaining: 1.5s\n",
      "518:\tlearn: 0.1127065\ttotal: 1.62s\tremaining: 1.5s\n",
      "519:\tlearn: 0.1124145\ttotal: 1.62s\tremaining: 1.5s\n",
      "520:\tlearn: 0.1121210\ttotal: 1.63s\tremaining: 1.5s\n",
      "521:\tlearn: 0.1118008\ttotal: 1.63s\tremaining: 1.5s\n",
      "522:\tlearn: 0.1117484\ttotal: 1.64s\tremaining: 1.49s\n",
      "523:\tlearn: 0.1116366\ttotal: 1.64s\tremaining: 1.49s\n",
      "524:\tlearn: 0.1113937\ttotal: 1.64s\tremaining: 1.48s\n",
      "525:\tlearn: 0.1111537\ttotal: 1.64s\tremaining: 1.48s\n",
      "526:\tlearn: 0.1110938\ttotal: 1.64s\tremaining: 1.48s\n",
      "527:\tlearn: 0.1108855\ttotal: 1.65s\tremaining: 1.47s\n",
      "528:\tlearn: 0.1106288\ttotal: 1.65s\tremaining: 1.47s\n",
      "529:\tlearn: 0.1105035\ttotal: 1.66s\tremaining: 1.47s\n",
      "530:\tlearn: 0.1102350\ttotal: 1.66s\tremaining: 1.47s\n",
      "531:\tlearn: 0.1099448\ttotal: 1.66s\tremaining: 1.46s\n",
      "532:\tlearn: 0.1096180\ttotal: 1.67s\tremaining: 1.46s\n",
      "533:\tlearn: 0.1095399\ttotal: 1.67s\tremaining: 1.46s\n",
      "534:\tlearn: 0.1094217\ttotal: 1.67s\tremaining: 1.45s\n",
      "535:\tlearn: 0.1091458\ttotal: 1.68s\tremaining: 1.45s\n",
      "536:\tlearn: 0.1089896\ttotal: 1.68s\tremaining: 1.45s\n",
      "537:\tlearn: 0.1088797\ttotal: 1.68s\tremaining: 1.44s\n",
      "538:\tlearn: 0.1087225\ttotal: 1.68s\tremaining: 1.44s\n",
      "539:\tlearn: 0.1086558\ttotal: 1.69s\tremaining: 1.44s\n",
      "540:\tlearn: 0.1084713\ttotal: 1.69s\tremaining: 1.43s\n",
      "541:\tlearn: 0.1082064\ttotal: 1.7s\tremaining: 1.43s\n",
      "542:\tlearn: 0.1081084\ttotal: 1.7s\tremaining: 1.43s\n",
      "543:\tlearn: 0.1079872\ttotal: 1.71s\tremaining: 1.43s\n",
      "544:\tlearn: 0.1078948\ttotal: 1.71s\tremaining: 1.43s\n",
      "545:\tlearn: 0.1076620\ttotal: 1.71s\tremaining: 1.42s\n",
      "546:\tlearn: 0.1075149\ttotal: 1.71s\tremaining: 1.42s\n",
      "547:\tlearn: 0.1074008\ttotal: 1.72s\tremaining: 1.42s\n",
      "548:\tlearn: 0.1072078\ttotal: 1.72s\tremaining: 1.41s\n",
      "549:\tlearn: 0.1069735\ttotal: 1.72s\tremaining: 1.41s\n",
      "550:\tlearn: 0.1067041\ttotal: 1.72s\tremaining: 1.41s\n",
      "551:\tlearn: 0.1065377\ttotal: 1.73s\tremaining: 1.4s\n",
      "552:\tlearn: 0.1063227\ttotal: 1.73s\tremaining: 1.4s\n",
      "553:\tlearn: 0.1060838\ttotal: 1.73s\tremaining: 1.39s\n",
      "554:\tlearn: 0.1059655\ttotal: 1.73s\tremaining: 1.39s\n",
      "555:\tlearn: 0.1059408\ttotal: 1.74s\tremaining: 1.39s\n",
      "556:\tlearn: 0.1057389\ttotal: 1.74s\tremaining: 1.38s\n",
      "557:\tlearn: 0.1055509\ttotal: 1.74s\tremaining: 1.38s\n"
     ]
    },
    {
     "name": "stdout",
     "output_type": "stream",
     "text": [
      "558:\tlearn: 0.1054460\ttotal: 1.75s\tremaining: 1.38s\n",
      "559:\tlearn: 0.1053296\ttotal: 1.75s\tremaining: 1.37s\n",
      "560:\tlearn: 0.1051065\ttotal: 1.75s\tremaining: 1.37s\n",
      "561:\tlearn: 0.1048003\ttotal: 1.75s\tremaining: 1.37s\n",
      "562:\tlearn: 0.1047104\ttotal: 1.76s\tremaining: 1.36s\n",
      "563:\tlearn: 0.1046815\ttotal: 1.76s\tremaining: 1.36s\n",
      "564:\tlearn: 0.1045223\ttotal: 1.76s\tremaining: 1.36s\n",
      "565:\tlearn: 0.1043542\ttotal: 1.76s\tremaining: 1.35s\n",
      "566:\tlearn: 0.1040993\ttotal: 1.77s\tremaining: 1.35s\n",
      "567:\tlearn: 0.1038929\ttotal: 1.77s\tremaining: 1.35s\n",
      "568:\tlearn: 0.1036735\ttotal: 1.77s\tremaining: 1.34s\n",
      "569:\tlearn: 0.1035825\ttotal: 1.77s\tremaining: 1.34s\n",
      "570:\tlearn: 0.1033893\ttotal: 1.78s\tremaining: 1.33s\n",
      "571:\tlearn: 0.1032575\ttotal: 1.78s\tremaining: 1.33s\n",
      "572:\tlearn: 0.1030444\ttotal: 1.78s\tremaining: 1.33s\n",
      "573:\tlearn: 0.1027937\ttotal: 1.78s\tremaining: 1.32s\n",
      "574:\tlearn: 0.1026206\ttotal: 1.79s\tremaining: 1.32s\n",
      "575:\tlearn: 0.1023317\ttotal: 1.79s\tremaining: 1.32s\n",
      "576:\tlearn: 0.1023095\ttotal: 1.79s\tremaining: 1.31s\n",
      "577:\tlearn: 0.1021022\ttotal: 1.79s\tremaining: 1.31s\n",
      "578:\tlearn: 0.1020695\ttotal: 1.8s\tremaining: 1.31s\n",
      "579:\tlearn: 0.1018525\ttotal: 1.8s\tremaining: 1.3s\n",
      "580:\tlearn: 0.1016743\ttotal: 1.8s\tremaining: 1.3s\n",
      "581:\tlearn: 0.1014874\ttotal: 1.8s\tremaining: 1.3s\n",
      "582:\tlearn: 0.1012656\ttotal: 1.81s\tremaining: 1.29s\n",
      "583:\tlearn: 0.1011220\ttotal: 1.81s\tremaining: 1.29s\n",
      "584:\tlearn: 0.1010156\ttotal: 1.81s\tremaining: 1.29s\n",
      "585:\tlearn: 0.1008174\ttotal: 1.82s\tremaining: 1.28s\n",
      "586:\tlearn: 0.1007310\ttotal: 1.82s\tremaining: 1.28s\n",
      "587:\tlearn: 0.1004808\ttotal: 1.82s\tremaining: 1.27s\n",
      "588:\tlearn: 0.1003752\ttotal: 1.82s\tremaining: 1.27s\n",
      "589:\tlearn: 0.1001817\ttotal: 1.82s\tremaining: 1.27s\n",
      "590:\tlearn: 0.0998948\ttotal: 1.83s\tremaining: 1.26s\n",
      "591:\tlearn: 0.0998173\ttotal: 1.83s\tremaining: 1.26s\n",
      "592:\tlearn: 0.0996855\ttotal: 1.83s\tremaining: 1.26s\n",
      "593:\tlearn: 0.0995418\ttotal: 1.84s\tremaining: 1.25s\n",
      "594:\tlearn: 0.0994126\ttotal: 1.84s\tremaining: 1.25s\n",
      "595:\tlearn: 0.0992597\ttotal: 1.84s\tremaining: 1.25s\n",
      "596:\tlearn: 0.0992289\ttotal: 1.84s\tremaining: 1.24s\n",
      "597:\tlearn: 0.0991267\ttotal: 1.84s\tremaining: 1.24s\n",
      "598:\tlearn: 0.0989802\ttotal: 1.85s\tremaining: 1.24s\n",
      "599:\tlearn: 0.0988702\ttotal: 1.85s\tremaining: 1.23s\n",
      "600:\tlearn: 0.0987617\ttotal: 1.85s\tremaining: 1.23s\n",
      "601:\tlearn: 0.0986961\ttotal: 1.86s\tremaining: 1.23s\n",
      "602:\tlearn: 0.0985260\ttotal: 1.86s\tremaining: 1.22s\n",
      "603:\tlearn: 0.0984271\ttotal: 1.86s\tremaining: 1.22s\n",
      "604:\tlearn: 0.0982895\ttotal: 1.86s\tremaining: 1.22s\n",
      "605:\tlearn: 0.0981742\ttotal: 1.87s\tremaining: 1.21s\n",
      "606:\tlearn: 0.0980297\ttotal: 1.87s\tremaining: 1.21s\n",
      "607:\tlearn: 0.0978958\ttotal: 1.87s\tremaining: 1.21s\n",
      "608:\tlearn: 0.0976469\ttotal: 1.87s\tremaining: 1.2s\n",
      "609:\tlearn: 0.0975978\ttotal: 1.87s\tremaining: 1.2s\n",
      "610:\tlearn: 0.0974179\ttotal: 1.88s\tremaining: 1.19s\n",
      "611:\tlearn: 0.0972977\ttotal: 1.88s\tremaining: 1.19s\n",
      "612:\tlearn: 0.0970766\ttotal: 1.88s\tremaining: 1.19s\n",
      "613:\tlearn: 0.0969869\ttotal: 1.88s\tremaining: 1.18s\n",
      "614:\tlearn: 0.0969219\ttotal: 1.88s\tremaining: 1.18s\n",
      "615:\tlearn: 0.0967649\ttotal: 1.88s\tremaining: 1.17s\n",
      "616:\tlearn: 0.0966674\ttotal: 1.89s\tremaining: 1.17s\n",
      "617:\tlearn: 0.0966204\ttotal: 1.89s\tremaining: 1.17s\n",
      "618:\tlearn: 0.0964253\ttotal: 1.89s\tremaining: 1.16s\n",
      "619:\tlearn: 0.0961825\ttotal: 1.89s\tremaining: 1.16s\n",
      "620:\tlearn: 0.0959562\ttotal: 1.89s\tremaining: 1.16s\n",
      "621:\tlearn: 0.0956659\ttotal: 1.9s\tremaining: 1.15s\n",
      "622:\tlearn: 0.0956192\ttotal: 1.9s\tremaining: 1.15s\n",
      "623:\tlearn: 0.0953926\ttotal: 1.9s\tremaining: 1.15s\n",
      "624:\tlearn: 0.0952456\ttotal: 1.9s\tremaining: 1.14s\n",
      "625:\tlearn: 0.0950681\ttotal: 1.9s\tremaining: 1.14s\n",
      "626:\tlearn: 0.0949939\ttotal: 1.91s\tremaining: 1.13s\n",
      "627:\tlearn: 0.0949033\ttotal: 1.91s\tremaining: 1.13s\n",
      "628:\tlearn: 0.0947657\ttotal: 1.91s\tremaining: 1.13s\n",
      "629:\tlearn: 0.0946362\ttotal: 1.91s\tremaining: 1.12s\n",
      "630:\tlearn: 0.0944942\ttotal: 1.91s\tremaining: 1.12s\n",
      "631:\tlearn: 0.0942598\ttotal: 1.92s\tremaining: 1.11s\n",
      "632:\tlearn: 0.0940386\ttotal: 1.92s\tremaining: 1.11s\n",
      "633:\tlearn: 0.0938608\ttotal: 1.92s\tremaining: 1.11s\n"
     ]
    },
    {
     "name": "stdout",
     "output_type": "stream",
     "text": [
      "634:\tlearn: 0.0936508\ttotal: 1.92s\tremaining: 1.1s\n",
      "635:\tlearn: 0.0935477\ttotal: 1.93s\tremaining: 1.1s\n",
      "636:\tlearn: 0.0933613\ttotal: 1.93s\tremaining: 1.1s\n",
      "637:\tlearn: 0.0933076\ttotal: 1.93s\tremaining: 1.09s\n",
      "638:\tlearn: 0.0931711\ttotal: 1.93s\tremaining: 1.09s\n",
      "639:\tlearn: 0.0930525\ttotal: 1.93s\tremaining: 1.09s\n",
      "640:\tlearn: 0.0929553\ttotal: 1.93s\tremaining: 1.08s\n",
      "641:\tlearn: 0.0927880\ttotal: 1.94s\tremaining: 1.08s\n",
      "642:\tlearn: 0.0926357\ttotal: 1.94s\tremaining: 1.07s\n",
      "643:\tlearn: 0.0924992\ttotal: 1.94s\tremaining: 1.07s\n",
      "644:\tlearn: 0.0922916\ttotal: 1.94s\tremaining: 1.07s\n",
      "645:\tlearn: 0.0921078\ttotal: 1.94s\tremaining: 1.06s\n",
      "646:\tlearn: 0.0919686\ttotal: 1.95s\tremaining: 1.06s\n",
      "647:\tlearn: 0.0919125\ttotal: 1.95s\tremaining: 1.06s\n",
      "648:\tlearn: 0.0918294\ttotal: 1.95s\tremaining: 1.05s\n",
      "649:\tlearn: 0.0916338\ttotal: 1.95s\tremaining: 1.05s\n",
      "650:\tlearn: 0.0914457\ttotal: 1.95s\tremaining: 1.05s\n",
      "651:\tlearn: 0.0913589\ttotal: 1.96s\tremaining: 1.04s\n",
      "652:\tlearn: 0.0912478\ttotal: 1.96s\tremaining: 1.04s\n",
      "653:\tlearn: 0.0911862\ttotal: 1.96s\tremaining: 1.04s\n",
      "654:\tlearn: 0.0910690\ttotal: 1.96s\tremaining: 1.03s\n",
      "655:\tlearn: 0.0908932\ttotal: 1.96s\tremaining: 1.03s\n",
      "656:\tlearn: 0.0906472\ttotal: 1.97s\tremaining: 1.03s\n",
      "657:\tlearn: 0.0904168\ttotal: 1.97s\tremaining: 1.02s\n",
      "658:\tlearn: 0.0902608\ttotal: 1.97s\tremaining: 1.02s\n",
      "659:\tlearn: 0.0901827\ttotal: 1.97s\tremaining: 1.01s\n",
      "660:\tlearn: 0.0900924\ttotal: 1.97s\tremaining: 1.01s\n",
      "661:\tlearn: 0.0899582\ttotal: 1.98s\tremaining: 1.01s\n",
      "662:\tlearn: 0.0897713\ttotal: 1.98s\tremaining: 1s\n",
      "663:\tlearn: 0.0897656\ttotal: 1.98s\tremaining: 1s\n",
      "664:\tlearn: 0.0895863\ttotal: 1.98s\tremaining: 999ms\n",
      "665:\tlearn: 0.0894702\ttotal: 1.99s\tremaining: 996ms\n",
      "666:\tlearn: 0.0892981\ttotal: 1.99s\tremaining: 993ms\n",
      "667:\tlearn: 0.0890675\ttotal: 1.99s\tremaining: 990ms\n",
      "668:\tlearn: 0.0889896\ttotal: 1.99s\tremaining: 986ms\n",
      "669:\tlearn: 0.0888835\ttotal: 2s\tremaining: 983ms\n",
      "670:\tlearn: 0.0886706\ttotal: 2s\tremaining: 980ms\n",
      "671:\tlearn: 0.0885179\ttotal: 2s\tremaining: 977ms\n",
      "672:\tlearn: 0.0883552\ttotal: 2s\tremaining: 974ms\n",
      "673:\tlearn: 0.0882490\ttotal: 2.01s\tremaining: 971ms\n",
      "674:\tlearn: 0.0880477\ttotal: 2.01s\tremaining: 969ms\n",
      "675:\tlearn: 0.0878607\ttotal: 2.01s\tremaining: 965ms\n",
      "676:\tlearn: 0.0877820\ttotal: 2.02s\tremaining: 962ms\n",
      "677:\tlearn: 0.0876207\ttotal: 2.02s\tremaining: 959ms\n",
      "678:\tlearn: 0.0875389\ttotal: 2.02s\tremaining: 956ms\n",
      "679:\tlearn: 0.0874422\ttotal: 2.02s\tremaining: 952ms\n",
      "680:\tlearn: 0.0873452\ttotal: 2.02s\tremaining: 949ms\n",
      "681:\tlearn: 0.0873026\ttotal: 2.03s\tremaining: 946ms\n",
      "682:\tlearn: 0.0871024\ttotal: 2.03s\tremaining: 943ms\n",
      "683:\tlearn: 0.0869753\ttotal: 2.03s\tremaining: 939ms\n",
      "684:\tlearn: 0.0868215\ttotal: 2.04s\tremaining: 936ms\n",
      "685:\tlearn: 0.0866710\ttotal: 2.04s\tremaining: 933ms\n",
      "686:\tlearn: 0.0864934\ttotal: 2.04s\tremaining: 930ms\n",
      "687:\tlearn: 0.0863399\ttotal: 2.04s\tremaining: 927ms\n",
      "688:\tlearn: 0.0862382\ttotal: 2.05s\tremaining: 924ms\n",
      "689:\tlearn: 0.0860024\ttotal: 2.05s\tremaining: 920ms\n",
      "690:\tlearn: 0.0857622\ttotal: 2.05s\tremaining: 917ms\n",
      "691:\tlearn: 0.0856850\ttotal: 2.05s\tremaining: 914ms\n",
      "692:\tlearn: 0.0856292\ttotal: 2.06s\tremaining: 911ms\n",
      "693:\tlearn: 0.0854782\ttotal: 2.06s\tremaining: 908ms\n",
      "694:\tlearn: 0.0853566\ttotal: 2.06s\tremaining: 905ms\n",
      "695:\tlearn: 0.0852514\ttotal: 2.06s\tremaining: 902ms\n",
      "696:\tlearn: 0.0851120\ttotal: 2.07s\tremaining: 899ms\n",
      "697:\tlearn: 0.0849189\ttotal: 2.07s\tremaining: 896ms\n",
      "698:\tlearn: 0.0847583\ttotal: 2.07s\tremaining: 893ms\n",
      "699:\tlearn: 0.0846185\ttotal: 2.08s\tremaining: 890ms\n",
      "700:\tlearn: 0.0845060\ttotal: 2.08s\tremaining: 886ms\n",
      "701:\tlearn: 0.0843155\ttotal: 2.08s\tremaining: 883ms\n",
      "702:\tlearn: 0.0842202\ttotal: 2.08s\tremaining: 880ms\n",
      "703:\tlearn: 0.0841170\ttotal: 2.08s\tremaining: 877ms\n",
      "704:\tlearn: 0.0839586\ttotal: 2.09s\tremaining: 874ms\n",
      "705:\tlearn: 0.0838952\ttotal: 2.09s\tremaining: 871ms\n",
      "706:\tlearn: 0.0837986\ttotal: 2.09s\tremaining: 868ms\n",
      "707:\tlearn: 0.0836978\ttotal: 2.1s\tremaining: 865ms\n"
     ]
    },
    {
     "name": "stdout",
     "output_type": "stream",
     "text": [
      "708:\tlearn: 0.0836922\ttotal: 2.1s\tremaining: 862ms\n",
      "709:\tlearn: 0.0835340\ttotal: 2.1s\tremaining: 859ms\n",
      "710:\tlearn: 0.0833799\ttotal: 2.11s\tremaining: 856ms\n",
      "711:\tlearn: 0.0833076\ttotal: 2.11s\tremaining: 853ms\n",
      "712:\tlearn: 0.0832388\ttotal: 2.11s\tremaining: 850ms\n",
      "713:\tlearn: 0.0832322\ttotal: 2.11s\tremaining: 847ms\n",
      "714:\tlearn: 0.0831745\ttotal: 2.12s\tremaining: 843ms\n",
      "715:\tlearn: 0.0829778\ttotal: 2.12s\tremaining: 840ms\n",
      "716:\tlearn: 0.0829449\ttotal: 2.12s\tremaining: 837ms\n",
      "717:\tlearn: 0.0826936\ttotal: 2.12s\tremaining: 834ms\n",
      "718:\tlearn: 0.0826207\ttotal: 2.13s\tremaining: 831ms\n",
      "719:\tlearn: 0.0825220\ttotal: 2.13s\tremaining: 828ms\n",
      "720:\tlearn: 0.0824035\ttotal: 2.13s\tremaining: 825ms\n",
      "721:\tlearn: 0.0822626\ttotal: 2.13s\tremaining: 822ms\n",
      "722:\tlearn: 0.0821219\ttotal: 2.14s\tremaining: 819ms\n",
      "723:\tlearn: 0.0819356\ttotal: 2.14s\tremaining: 816ms\n",
      "724:\tlearn: 0.0817759\ttotal: 2.14s\tremaining: 813ms\n",
      "725:\tlearn: 0.0816725\ttotal: 2.15s\tremaining: 810ms\n",
      "726:\tlearn: 0.0816064\ttotal: 2.15s\tremaining: 807ms\n",
      "727:\tlearn: 0.0815789\ttotal: 2.15s\tremaining: 804ms\n",
      "728:\tlearn: 0.0814684\ttotal: 2.15s\tremaining: 800ms\n",
      "729:\tlearn: 0.0814224\ttotal: 2.15s\tremaining: 797ms\n",
      "730:\tlearn: 0.0813382\ttotal: 2.16s\tremaining: 794ms\n",
      "731:\tlearn: 0.0812257\ttotal: 2.16s\tremaining: 791ms\n",
      "732:\tlearn: 0.0811445\ttotal: 2.16s\tremaining: 788ms\n",
      "733:\tlearn: 0.0809339\ttotal: 2.16s\tremaining: 785ms\n",
      "734:\tlearn: 0.0808055\ttotal: 2.17s\tremaining: 781ms\n",
      "735:\tlearn: 0.0807037\ttotal: 2.17s\tremaining: 778ms\n",
      "736:\tlearn: 0.0806166\ttotal: 2.17s\tremaining: 776ms\n",
      "737:\tlearn: 0.0805721\ttotal: 2.18s\tremaining: 773ms\n",
      "738:\tlearn: 0.0804071\ttotal: 2.18s\tremaining: 770ms\n",
      "739:\tlearn: 0.0803236\ttotal: 2.18s\tremaining: 767ms\n",
      "740:\tlearn: 0.0802322\ttotal: 2.18s\tremaining: 764ms\n",
      "741:\tlearn: 0.0801389\ttotal: 2.19s\tremaining: 761ms\n",
      "742:\tlearn: 0.0800727\ttotal: 2.19s\tremaining: 758ms\n",
      "743:\tlearn: 0.0798773\ttotal: 2.19s\tremaining: 755ms\n",
      "744:\tlearn: 0.0797765\ttotal: 2.19s\tremaining: 752ms\n",
      "745:\tlearn: 0.0797601\ttotal: 2.2s\tremaining: 748ms\n",
      "746:\tlearn: 0.0796264\ttotal: 2.2s\tremaining: 745ms\n",
      "747:\tlearn: 0.0794965\ttotal: 2.2s\tremaining: 742ms\n",
      "748:\tlearn: 0.0794265\ttotal: 2.2s\tremaining: 738ms\n",
      "749:\tlearn: 0.0792986\ttotal: 2.21s\tremaining: 735ms\n",
      "750:\tlearn: 0.0791249\ttotal: 2.21s\tremaining: 732ms\n",
      "751:\tlearn: 0.0790192\ttotal: 2.21s\tremaining: 729ms\n",
      "752:\tlearn: 0.0789185\ttotal: 2.21s\tremaining: 725ms\n",
      "753:\tlearn: 0.0788806\ttotal: 2.21s\tremaining: 722ms\n",
      "754:\tlearn: 0.0787312\ttotal: 2.21s\tremaining: 719ms\n",
      "755:\tlearn: 0.0787250\ttotal: 2.22s\tremaining: 716ms\n",
      "756:\tlearn: 0.0785599\ttotal: 2.22s\tremaining: 713ms\n",
      "757:\tlearn: 0.0784186\ttotal: 2.22s\tremaining: 710ms\n",
      "758:\tlearn: 0.0782502\ttotal: 2.23s\tremaining: 707ms\n",
      "759:\tlearn: 0.0781598\ttotal: 2.23s\tremaining: 704ms\n",
      "760:\tlearn: 0.0780963\ttotal: 2.23s\tremaining: 701ms\n",
      "761:\tlearn: 0.0779993\ttotal: 2.23s\tremaining: 698ms\n",
      "762:\tlearn: 0.0778984\ttotal: 2.24s\tremaining: 695ms\n",
      "763:\tlearn: 0.0777733\ttotal: 2.24s\tremaining: 692ms\n",
      "764:\tlearn: 0.0776578\ttotal: 2.24s\tremaining: 688ms\n",
      "765:\tlearn: 0.0775537\ttotal: 2.24s\tremaining: 685ms\n",
      "766:\tlearn: 0.0772798\ttotal: 2.24s\tremaining: 682ms\n",
      "767:\tlearn: 0.0771857\ttotal: 2.25s\tremaining: 679ms\n",
      "768:\tlearn: 0.0771170\ttotal: 2.25s\tremaining: 675ms\n",
      "769:\tlearn: 0.0770376\ttotal: 2.25s\tremaining: 672ms\n",
      "770:\tlearn: 0.0768079\ttotal: 2.25s\tremaining: 669ms\n",
      "771:\tlearn: 0.0767228\ttotal: 2.25s\tremaining: 666ms\n",
      "772:\tlearn: 0.0766283\ttotal: 2.26s\tremaining: 663ms\n",
      "773:\tlearn: 0.0765685\ttotal: 2.26s\tremaining: 659ms\n",
      "774:\tlearn: 0.0764652\ttotal: 2.26s\tremaining: 656ms\n",
      "775:\tlearn: 0.0764003\ttotal: 2.26s\tremaining: 653ms\n",
      "776:\tlearn: 0.0762475\ttotal: 2.27s\tremaining: 650ms\n",
      "777:\tlearn: 0.0760742\ttotal: 2.27s\tremaining: 647ms\n",
      "778:\tlearn: 0.0759863\ttotal: 2.27s\tremaining: 644ms\n",
      "779:\tlearn: 0.0758558\ttotal: 2.27s\tremaining: 641ms\n",
      "780:\tlearn: 0.0756276\ttotal: 2.27s\tremaining: 638ms\n"
     ]
    },
    {
     "name": "stdout",
     "output_type": "stream",
     "text": [
      "781:\tlearn: 0.0755481\ttotal: 2.28s\tremaining: 635ms\n",
      "782:\tlearn: 0.0752815\ttotal: 2.28s\tremaining: 632ms\n",
      "783:\tlearn: 0.0751553\ttotal: 2.28s\tremaining: 629ms\n",
      "784:\tlearn: 0.0750792\ttotal: 2.28s\tremaining: 626ms\n",
      "785:\tlearn: 0.0749832\ttotal: 2.29s\tremaining: 623ms\n",
      "786:\tlearn: 0.0748637\ttotal: 2.29s\tremaining: 619ms\n",
      "787:\tlearn: 0.0747846\ttotal: 2.29s\tremaining: 616ms\n",
      "788:\tlearn: 0.0747036\ttotal: 2.29s\tremaining: 613ms\n",
      "789:\tlearn: 0.0745262\ttotal: 2.29s\tremaining: 610ms\n",
      "790:\tlearn: 0.0744069\ttotal: 2.3s\tremaining: 607ms\n",
      "791:\tlearn: 0.0742967\ttotal: 2.3s\tremaining: 604ms\n",
      "792:\tlearn: 0.0742262\ttotal: 2.3s\tremaining: 600ms\n",
      "793:\tlearn: 0.0741000\ttotal: 2.3s\tremaining: 597ms\n",
      "794:\tlearn: 0.0738457\ttotal: 2.3s\tremaining: 594ms\n",
      "795:\tlearn: 0.0736526\ttotal: 2.31s\tremaining: 591ms\n",
      "796:\tlearn: 0.0735070\ttotal: 2.31s\tremaining: 588ms\n",
      "797:\tlearn: 0.0733843\ttotal: 2.31s\tremaining: 585ms\n",
      "798:\tlearn: 0.0733139\ttotal: 2.31s\tremaining: 582ms\n",
      "799:\tlearn: 0.0730489\ttotal: 2.32s\tremaining: 579ms\n",
      "800:\tlearn: 0.0729855\ttotal: 2.32s\tremaining: 576ms\n",
      "801:\tlearn: 0.0728386\ttotal: 2.32s\tremaining: 573ms\n",
      "802:\tlearn: 0.0727194\ttotal: 2.33s\tremaining: 570ms\n",
      "803:\tlearn: 0.0726169\ttotal: 2.33s\tremaining: 568ms\n",
      "804:\tlearn: 0.0725500\ttotal: 2.33s\tremaining: 565ms\n",
      "805:\tlearn: 0.0724915\ttotal: 2.33s\tremaining: 562ms\n",
      "806:\tlearn: 0.0724305\ttotal: 2.33s\tremaining: 559ms\n",
      "807:\tlearn: 0.0723665\ttotal: 2.34s\tremaining: 556ms\n",
      "808:\tlearn: 0.0721815\ttotal: 2.34s\tremaining: 552ms\n",
      "809:\tlearn: 0.0721394\ttotal: 2.34s\tremaining: 550ms\n",
      "810:\tlearn: 0.0720998\ttotal: 2.35s\tremaining: 547ms\n",
      "811:\tlearn: 0.0720311\ttotal: 2.35s\tremaining: 544ms\n",
      "812:\tlearn: 0.0718540\ttotal: 2.35s\tremaining: 541ms\n",
      "813:\tlearn: 0.0717887\ttotal: 2.35s\tremaining: 538ms\n",
      "814:\tlearn: 0.0716344\ttotal: 2.36s\tremaining: 535ms\n",
      "815:\tlearn: 0.0715534\ttotal: 2.36s\tremaining: 532ms\n",
      "816:\tlearn: 0.0714525\ttotal: 2.36s\tremaining: 529ms\n",
      "817:\tlearn: 0.0713464\ttotal: 2.36s\tremaining: 526ms\n",
      "818:\tlearn: 0.0713085\ttotal: 2.37s\tremaining: 523ms\n",
      "819:\tlearn: 0.0712090\ttotal: 2.37s\tremaining: 520ms\n",
      "820:\tlearn: 0.0710926\ttotal: 2.39s\tremaining: 522ms\n",
      "821:\tlearn: 0.0708462\ttotal: 2.4s\tremaining: 519ms\n",
      "822:\tlearn: 0.0707614\ttotal: 2.4s\tremaining: 517ms\n",
      "823:\tlearn: 0.0705495\ttotal: 2.4s\tremaining: 514ms\n",
      "824:\tlearn: 0.0704568\ttotal: 2.41s\tremaining: 511ms\n",
      "825:\tlearn: 0.0702644\ttotal: 2.41s\tremaining: 508ms\n",
      "826:\tlearn: 0.0702197\ttotal: 2.41s\tremaining: 505ms\n",
      "827:\tlearn: 0.0700267\ttotal: 2.42s\tremaining: 502ms\n",
      "828:\tlearn: 0.0699550\ttotal: 2.42s\tremaining: 499ms\n",
      "829:\tlearn: 0.0698489\ttotal: 2.42s\tremaining: 496ms\n",
      "830:\tlearn: 0.0697622\ttotal: 2.42s\tremaining: 493ms\n",
      "831:\tlearn: 0.0697245\ttotal: 2.43s\tremaining: 490ms\n",
      "832:\tlearn: 0.0696488\ttotal: 2.43s\tremaining: 487ms\n",
      "833:\tlearn: 0.0695874\ttotal: 2.43s\tremaining: 484ms\n",
      "834:\tlearn: 0.0694954\ttotal: 2.43s\tremaining: 481ms\n",
      "835:\tlearn: 0.0694184\ttotal: 2.44s\tremaining: 478ms\n",
      "836:\tlearn: 0.0693022\ttotal: 2.44s\tremaining: 475ms\n",
      "837:\tlearn: 0.0692107\ttotal: 2.44s\tremaining: 472ms\n",
      "838:\tlearn: 0.0690999\ttotal: 2.44s\tremaining: 469ms\n",
      "839:\tlearn: 0.0690681\ttotal: 2.45s\tremaining: 466ms\n"
     ]
    },
    {
     "name": "stdout",
     "output_type": "stream",
     "text": [
      "840:\tlearn: 0.0689704\ttotal: 2.45s\tremaining: 463ms\n",
      "841:\tlearn: 0.0687877\ttotal: 2.45s\tremaining: 460ms\n",
      "842:\tlearn: 0.0686079\ttotal: 2.45s\tremaining: 457ms\n",
      "843:\tlearn: 0.0685693\ttotal: 2.46s\tremaining: 454ms\n",
      "844:\tlearn: 0.0685324\ttotal: 2.46s\tremaining: 451ms\n",
      "845:\tlearn: 0.0684564\ttotal: 2.46s\tremaining: 448ms\n",
      "846:\tlearn: 0.0682956\ttotal: 2.46s\tremaining: 445ms\n",
      "847:\tlearn: 0.0682496\ttotal: 2.46s\tremaining: 442ms\n",
      "848:\tlearn: 0.0681353\ttotal: 2.47s\tremaining: 439ms\n",
      "849:\tlearn: 0.0680407\ttotal: 2.47s\tremaining: 436ms\n",
      "850:\tlearn: 0.0679393\ttotal: 2.48s\tremaining: 434ms\n",
      "851:\tlearn: 0.0678530\ttotal: 2.48s\tremaining: 431ms\n",
      "852:\tlearn: 0.0677942\ttotal: 2.49s\tremaining: 429ms\n",
      "853:\tlearn: 0.0676609\ttotal: 2.49s\tremaining: 426ms\n",
      "854:\tlearn: 0.0674943\ttotal: 2.5s\tremaining: 423ms\n",
      "855:\tlearn: 0.0674311\ttotal: 2.5s\tremaining: 420ms\n",
      "856:\tlearn: 0.0673975\ttotal: 2.5s\tremaining: 417ms\n",
      "857:\tlearn: 0.0673177\ttotal: 2.5s\tremaining: 414ms\n",
      "858:\tlearn: 0.0672873\ttotal: 2.5s\tremaining: 411ms\n",
      "859:\tlearn: 0.0671521\ttotal: 2.51s\tremaining: 408ms\n",
      "860:\tlearn: 0.0670348\ttotal: 2.51s\tremaining: 405ms\n",
      "861:\tlearn: 0.0669732\ttotal: 2.52s\tremaining: 403ms\n",
      "862:\tlearn: 0.0669168\ttotal: 2.52s\tremaining: 400ms\n",
      "863:\tlearn: 0.0667732\ttotal: 2.52s\tremaining: 397ms\n",
      "864:\tlearn: 0.0666799\ttotal: 2.53s\tremaining: 394ms\n",
      "865:\tlearn: 0.0665923\ttotal: 2.53s\tremaining: 391ms\n",
      "866:\tlearn: 0.0665644\ttotal: 2.53s\tremaining: 388ms\n",
      "867:\tlearn: 0.0665084\ttotal: 2.53s\tremaining: 385ms\n",
      "868:\tlearn: 0.0664018\ttotal: 2.54s\tremaining: 382ms\n",
      "869:\tlearn: 0.0662980\ttotal: 2.54s\tremaining: 379ms\n",
      "870:\tlearn: 0.0662845\ttotal: 2.54s\tremaining: 376ms\n",
      "871:\tlearn: 0.0661415\ttotal: 2.54s\tremaining: 374ms\n",
      "872:\tlearn: 0.0660022\ttotal: 2.56s\tremaining: 373ms\n",
      "873:\tlearn: 0.0659863\ttotal: 2.57s\tremaining: 370ms\n",
      "874:\tlearn: 0.0658246\ttotal: 2.57s\tremaining: 367ms\n",
      "875:\tlearn: 0.0657573\ttotal: 2.57s\tremaining: 364ms\n",
      "876:\tlearn: 0.0656428\ttotal: 2.57s\tremaining: 361ms\n",
      "877:\tlearn: 0.0655977\ttotal: 2.58s\tremaining: 358ms\n",
      "878:\tlearn: 0.0655351\ttotal: 2.58s\tremaining: 355ms\n",
      "879:\tlearn: 0.0654671\ttotal: 2.58s\tremaining: 352ms\n",
      "880:\tlearn: 0.0653941\ttotal: 2.58s\tremaining: 349ms\n",
      "881:\tlearn: 0.0653024\ttotal: 2.59s\tremaining: 346ms\n",
      "882:\tlearn: 0.0652161\ttotal: 2.61s\tremaining: 346ms\n",
      "883:\tlearn: 0.0650680\ttotal: 2.61s\tremaining: 343ms\n",
      "884:\tlearn: 0.0649644\ttotal: 2.61s\tremaining: 340ms\n"
     ]
    },
    {
     "name": "stdout",
     "output_type": "stream",
     "text": [
      "885:\tlearn: 0.0648672\ttotal: 2.62s\tremaining: 337ms\n",
      "886:\tlearn: 0.0647827\ttotal: 2.62s\tremaining: 334ms\n",
      "887:\tlearn: 0.0646777\ttotal: 2.62s\tremaining: 331ms\n",
      "888:\tlearn: 0.0645745\ttotal: 2.62s\tremaining: 328ms\n",
      "889:\tlearn: 0.0644593\ttotal: 2.63s\tremaining: 325ms\n",
      "890:\tlearn: 0.0644007\ttotal: 2.63s\tremaining: 322ms\n",
      "891:\tlearn: 0.0642368\ttotal: 2.63s\tremaining: 319ms\n",
      "892:\tlearn: 0.0641788\ttotal: 2.63s\tremaining: 316ms\n",
      "893:\tlearn: 0.0640490\ttotal: 2.64s\tremaining: 313ms\n",
      "894:\tlearn: 0.0639892\ttotal: 2.64s\tremaining: 310ms\n",
      "895:\tlearn: 0.0639037\ttotal: 2.64s\tremaining: 307ms\n",
      "896:\tlearn: 0.0638383\ttotal: 2.65s\tremaining: 304ms\n",
      "897:\tlearn: 0.0637984\ttotal: 2.65s\tremaining: 301ms\n",
      "898:\tlearn: 0.0637042\ttotal: 2.65s\tremaining: 298ms\n",
      "899:\tlearn: 0.0636195\ttotal: 2.65s\tremaining: 295ms\n",
      "900:\tlearn: 0.0635463\ttotal: 2.66s\tremaining: 292ms\n",
      "901:\tlearn: 0.0634292\ttotal: 2.66s\tremaining: 289ms\n",
      "902:\tlearn: 0.0632982\ttotal: 2.66s\tremaining: 286ms\n",
      "903:\tlearn: 0.0631642\ttotal: 2.67s\tremaining: 283ms\n",
      "904:\tlearn: 0.0630773\ttotal: 2.67s\tremaining: 280ms\n",
      "905:\tlearn: 0.0630242\ttotal: 2.67s\tremaining: 277ms\n",
      "906:\tlearn: 0.0629305\ttotal: 2.67s\tremaining: 274ms\n",
      "907:\tlearn: 0.0628058\ttotal: 2.68s\tremaining: 271ms\n",
      "908:\tlearn: 0.0627631\ttotal: 2.68s\tremaining: 268ms\n",
      "909:\tlearn: 0.0626183\ttotal: 2.68s\tremaining: 265ms\n",
      "910:\tlearn: 0.0625634\ttotal: 2.69s\tremaining: 262ms\n",
      "911:\tlearn: 0.0625082\ttotal: 2.69s\tremaining: 259ms\n",
      "912:\tlearn: 0.0624418\ttotal: 2.69s\tremaining: 256ms\n",
      "913:\tlearn: 0.0623188\ttotal: 2.69s\tremaining: 253ms\n",
      "914:\tlearn: 0.0621722\ttotal: 2.69s\tremaining: 250ms\n",
      "915:\tlearn: 0.0620845\ttotal: 2.7s\tremaining: 247ms\n",
      "916:\tlearn: 0.0620366\ttotal: 2.7s\tremaining: 244ms\n",
      "917:\tlearn: 0.0619871\ttotal: 2.7s\tremaining: 241ms\n",
      "918:\tlearn: 0.0619668\ttotal: 2.71s\tremaining: 238ms\n",
      "919:\tlearn: 0.0618599\ttotal: 2.71s\tremaining: 236ms\n",
      "920:\tlearn: 0.0617711\ttotal: 2.75s\tremaining: 236ms\n",
      "921:\tlearn: 0.0616622\ttotal: 2.76s\tremaining: 233ms\n",
      "922:\tlearn: 0.0616083\ttotal: 2.76s\tremaining: 230ms\n",
      "923:\tlearn: 0.0615485\ttotal: 2.76s\tremaining: 227ms\n",
      "924:\tlearn: 0.0614312\ttotal: 2.76s\tremaining: 224ms\n",
      "925:\tlearn: 0.0614025\ttotal: 2.77s\tremaining: 221ms\n",
      "926:\tlearn: 0.0613027\ttotal: 2.77s\tremaining: 218ms\n"
     ]
    },
    {
     "name": "stdout",
     "output_type": "stream",
     "text": [
      "927:\tlearn: 0.0612960\ttotal: 2.77s\tremaining: 215ms\n",
      "928:\tlearn: 0.0612104\ttotal: 2.77s\tremaining: 212ms\n",
      "929:\tlearn: 0.0610652\ttotal: 2.78s\tremaining: 209ms\n",
      "930:\tlearn: 0.0609388\ttotal: 2.78s\tremaining: 206ms\n",
      "931:\tlearn: 0.0609084\ttotal: 2.78s\tremaining: 203ms\n",
      "932:\tlearn: 0.0608504\ttotal: 2.78s\tremaining: 200ms\n",
      "933:\tlearn: 0.0608079\ttotal: 2.79s\tremaining: 197ms\n",
      "934:\tlearn: 0.0607410\ttotal: 2.79s\tremaining: 194ms\n",
      "935:\tlearn: 0.0605725\ttotal: 2.79s\tremaining: 191ms\n",
      "936:\tlearn: 0.0604923\ttotal: 2.79s\tremaining: 188ms\n",
      "937:\tlearn: 0.0603786\ttotal: 2.8s\tremaining: 185ms\n",
      "938:\tlearn: 0.0602855\ttotal: 2.8s\tremaining: 182ms\n",
      "939:\tlearn: 0.0602750\ttotal: 2.8s\tremaining: 179ms\n",
      "940:\tlearn: 0.0601793\ttotal: 2.81s\tremaining: 176ms\n",
      "941:\tlearn: 0.0600854\ttotal: 2.81s\tremaining: 173ms\n",
      "942:\tlearn: 0.0600219\ttotal: 2.81s\tremaining: 170ms\n",
      "943:\tlearn: 0.0598855\ttotal: 2.81s\tremaining: 167ms\n",
      "944:\tlearn: 0.0598305\ttotal: 2.81s\tremaining: 164ms\n",
      "945:\tlearn: 0.0597746\ttotal: 2.82s\tremaining: 161ms\n",
      "946:\tlearn: 0.0597206\ttotal: 2.82s\tremaining: 158ms\n",
      "947:\tlearn: 0.0596440\ttotal: 2.82s\tremaining: 155ms\n",
      "948:\tlearn: 0.0595427\ttotal: 2.83s\tremaining: 152ms\n",
      "949:\tlearn: 0.0595025\ttotal: 2.83s\tremaining: 149ms\n",
      "950:\tlearn: 0.0594293\ttotal: 2.83s\tremaining: 146ms\n",
      "951:\tlearn: 0.0593080\ttotal: 2.84s\tremaining: 143ms\n",
      "952:\tlearn: 0.0592797\ttotal: 2.85s\tremaining: 140ms\n",
      "953:\tlearn: 0.0591551\ttotal: 2.85s\tremaining: 137ms\n",
      "954:\tlearn: 0.0591383\ttotal: 2.85s\tremaining: 134ms\n",
      "955:\tlearn: 0.0590211\ttotal: 2.85s\tremaining: 131ms\n",
      "956:\tlearn: 0.0589416\ttotal: 2.86s\tremaining: 128ms\n",
      "957:\tlearn: 0.0589105\ttotal: 2.86s\tremaining: 125ms\n",
      "958:\tlearn: 0.0587979\ttotal: 2.86s\tremaining: 122ms\n",
      "959:\tlearn: 0.0587040\ttotal: 2.87s\tremaining: 119ms\n",
      "960:\tlearn: 0.0586354\ttotal: 2.87s\tremaining: 116ms\n",
      "961:\tlearn: 0.0585980\ttotal: 2.87s\tremaining: 113ms\n",
      "962:\tlearn: 0.0585420\ttotal: 2.87s\tremaining: 110ms\n",
      "963:\tlearn: 0.0584696\ttotal: 2.88s\tremaining: 107ms\n",
      "964:\tlearn: 0.0584532\ttotal: 2.88s\tremaining: 104ms\n",
      "965:\tlearn: 0.0584159\ttotal: 2.88s\tremaining: 101ms\n",
      "966:\tlearn: 0.0583189\ttotal: 2.88s\tremaining: 98.4ms\n",
      "967:\tlearn: 0.0582688\ttotal: 2.89s\tremaining: 95.5ms\n",
      "968:\tlearn: 0.0582475\ttotal: 2.89s\tremaining: 92.4ms\n",
      "969:\tlearn: 0.0581918\ttotal: 2.89s\tremaining: 89.4ms\n",
      "970:\tlearn: 0.0580993\ttotal: 2.89s\tremaining: 86.4ms\n",
      "971:\tlearn: 0.0580500\ttotal: 2.9s\tremaining: 83.4ms\n",
      "972:\tlearn: 0.0580446\ttotal: 2.9s\tremaining: 80.5ms\n",
      "973:\tlearn: 0.0579644\ttotal: 2.9s\tremaining: 77.5ms\n",
      "974:\tlearn: 0.0578405\ttotal: 2.9s\tremaining: 74.5ms\n",
      "975:\tlearn: 0.0577978\ttotal: 2.9s\tremaining: 71.4ms\n",
      "976:\tlearn: 0.0577024\ttotal: 2.91s\tremaining: 68.5ms\n",
      "977:\tlearn: 0.0576178\ttotal: 2.91s\tremaining: 65.5ms\n",
      "978:\tlearn: 0.0575750\ttotal: 2.92s\tremaining: 62.6ms\n",
      "979:\tlearn: 0.0575063\ttotal: 2.92s\tremaining: 59.6ms\n",
      "980:\tlearn: 0.0574227\ttotal: 2.92s\tremaining: 56.7ms\n"
     ]
    },
    {
     "name": "stdout",
     "output_type": "stream",
     "text": [
      "981:\tlearn: 0.0573892\ttotal: 2.93s\tremaining: 53.7ms\n",
      "982:\tlearn: 0.0572898\ttotal: 2.93s\tremaining: 50.7ms\n",
      "983:\tlearn: 0.0572163\ttotal: 2.93s\tremaining: 47.7ms\n",
      "984:\tlearn: 0.0571935\ttotal: 2.94s\tremaining: 44.7ms\n",
      "985:\tlearn: 0.0571654\ttotal: 2.94s\tremaining: 41.7ms\n",
      "986:\tlearn: 0.0571310\ttotal: 2.94s\tremaining: 38.8ms\n",
      "987:\tlearn: 0.0570862\ttotal: 2.95s\tremaining: 35.8ms\n",
      "988:\tlearn: 0.0569489\ttotal: 2.95s\tremaining: 32.8ms\n",
      "989:\tlearn: 0.0569061\ttotal: 2.95s\tremaining: 29.8ms\n",
      "990:\tlearn: 0.0568623\ttotal: 2.96s\tremaining: 26.8ms\n",
      "991:\tlearn: 0.0568464\ttotal: 2.96s\tremaining: 23.9ms\n",
      "992:\tlearn: 0.0568086\ttotal: 2.96s\tremaining: 20.9ms\n",
      "993:\tlearn: 0.0567461\ttotal: 2.96s\tremaining: 17.9ms\n",
      "994:\tlearn: 0.0566957\ttotal: 2.97s\tremaining: 14.9ms\n",
      "995:\tlearn: 0.0566270\ttotal: 2.97s\tremaining: 11.9ms\n",
      "996:\tlearn: 0.0565282\ttotal: 2.97s\tremaining: 8.94ms\n",
      "997:\tlearn: 0.0564180\ttotal: 2.98s\tremaining: 5.96ms\n",
      "998:\tlearn: 0.0563540\ttotal: 2.98s\tremaining: 2.98ms\n",
      "999:\tlearn: 0.0562875\ttotal: 2.98s\tremaining: 0us\n"
     ]
    },
    {
     "data": {
      "text/plain": [
       "<catboost.core.CatBoostRegressor at 0x7fde5196a400>"
      ]
     },
     "execution_count": 9,
     "metadata": {},
     "output_type": "execute_result"
    }
   ],
   "source": [
    "#Train the Model \n",
    "prior_model = ctb.CatBoostRegressor()\n",
    "prior_model.fit(X_train,Y_train)"
   ]
  },
  {
   "cell_type": "code",
   "execution_count": 10,
   "id": "af65dcda",
   "metadata": {
    "execution": {
     "iopub.execute_input": "2022-07-22T19:26:17.036847Z",
     "iopub.status.busy": "2022-07-22T19:26:17.035997Z",
     "iopub.status.idle": "2022-07-22T19:26:17.083655Z",
     "shell.execute_reply": "2022-07-22T19:26:17.082977Z"
    },
    "id": "af65dcda",
    "papermill": {
     "duration": 0.103365,
     "end_time": "2022-07-22T19:26:17.086984",
     "exception": false,
     "start_time": "2022-07-22T19:26:16.983619",
     "status": "completed"
    },
    "tags": []
   },
   "outputs": [
    {
     "data": {
      "application/scrapbook.scrap.json+json": {
       "data": 0.06926127279479218,
       "encoder": "json",
       "name": "Prior Model MSE",
       "version": 1
      }
     },
     "metadata": {
      "scrapbook": {
       "data": true,
       "display": false,
       "name": "Prior Model MSE"
      }
     },
     "output_type": "display_data"
    },
    {
     "data": {
      "application/scrapbook.scrap.json+json": {
       "data": 1.0997565171500387,
       "encoder": "json",
       "name": "ABC Pre-generator MSE",
       "version": 1
      }
     },
     "metadata": {
      "scrapbook": {
       "data": true,
       "display": false,
       "name": "ABC Pre-generator MSE"
      }
     },
     "output_type": "display_data"
    },
    {
     "data": {
      "application/scrapbook.scrap.json+json": {
       "data": 0.18968100337491692,
       "encoder": "json",
       "name": "Prior Model MAE",
       "version": 1
      }
     },
     "metadata": {
      "scrapbook": {
       "data": true,
       "display": false,
       "name": "Prior Model MAE"
      }
     },
     "output_type": "display_data"
    },
    {
     "name": "stdout",
     "output_type": "stream",
     "text": [
      "Prior Model MAE 0.18968100337491692\n",
      "ABC Pre-generator MAE 0.8616230252512638\n"
     ]
    }
   ],
   "source": [
    "y_pred = prior_model.predict(X_test)\n",
    "y_abc = y_pred + np.random.normal(0,variance, y_pred.shape) + bias \n",
    "mse = mean_squared_error(y_pred,Y_test)\n",
    "sb.glue(\"Prior Model MSE\",mse)\n",
    "mse = mean_squared_error(y_abc,Y_test)\n",
    "sb.glue(\"ABC Pre-generator MSE\",mse)\n",
    "mae = mean_absolute_error(y_pred,Y_test)\n",
    "sb.glue(\"Prior Model MAE\",mae)\n",
    "print(\"Prior Model MAE\",mae)\n",
    "mae = mean_absolute_error(y_abc,Y_test)\n",
    "print(\"ABC Pre-generator MAE\",mae)"
   ]
  },
  {
   "cell_type": "markdown",
   "id": "25609da2",
   "metadata": {
    "papermill": {
     "duration": 0.011609,
     "end_time": "2022-07-22T19:26:17.111005",
     "exception": false,
     "start_time": "2022-07-22T19:26:17.099396",
     "status": "completed"
    },
    "tags": []
   },
   "source": [
    "# mGAN Model"
   ]
  },
  {
   "cell_type": "code",
   "execution_count": 11,
   "id": "dfc3464d",
   "metadata": {
    "execution": {
     "iopub.execute_input": "2022-07-22T19:26:17.143572Z",
     "iopub.status.busy": "2022-07-22T19:26:17.143217Z",
     "iopub.status.idle": "2022-07-22T19:26:17.152539Z",
     "shell.execute_reply": "2022-07-22T19:26:17.151106Z"
    },
    "papermill": {
     "duration": 0.037362,
     "end_time": "2022-07-22T19:26:17.161157",
     "exception": false,
     "start_time": "2022-07-22T19:26:17.123795",
     "status": "completed"
    },
    "tags": []
   },
   "outputs": [],
   "source": [
    "# gen = network.Generator(n_features+1).to(device)\n",
    "# disc = network.Discriminator(n_features+1).to(device)\n",
    "\n",
    "# criterion = torch.nn.BCELoss()\n",
    "# gen_opt = torch.optim.Adam(gen.parameters(), lr=0.01, betas=(0.5, 0.999))\n",
    "# disc_opt = torch.optim.Adam(disc.parameters(), lr=0.01, betas=(0.5, 0.999))"
   ]
  },
  {
   "cell_type": "code",
   "execution_count": 12,
   "id": "b75fdd85",
   "metadata": {
    "execution": {
     "iopub.execute_input": "2022-07-22T19:26:17.197717Z",
     "iopub.status.busy": "2022-07-22T19:26:17.197373Z",
     "iopub.status.idle": "2022-07-22T19:26:17.202558Z",
     "shell.execute_reply": "2022-07-22T19:26:17.200630Z"
    },
    "papermill": {
     "duration": 0.021797,
     "end_time": "2022-07-22T19:26:17.206282",
     "exception": false,
     "start_time": "2022-07-22T19:26:17.184485",
     "status": "completed"
    },
    "tags": []
   },
   "outputs": [],
   "source": [
    "#Training the ABC_GAN \n",
    "# ABC_train_test2.training_GAN(disc,gen,disc_opt,gen_opt,train_data,batch_size,n_epochs,criterion,prior_model,variance,bias,device)"
   ]
  },
  {
   "cell_type": "code",
   "execution_count": 13,
   "id": "1fa7c368",
   "metadata": {
    "execution": {
     "iopub.execute_input": "2022-07-22T19:26:17.234124Z",
     "iopub.status.busy": "2022-07-22T19:26:17.233781Z",
     "iopub.status.idle": "2022-07-22T19:26:17.239204Z",
     "shell.execute_reply": "2022-07-22T19:26:17.237320Z"
    },
    "papermill": {
     "duration": 0.023833,
     "end_time": "2022-07-22T19:26:17.242842",
     "exception": false,
     "start_time": "2022-07-22T19:26:17.219009",
     "status": "completed"
    },
    "tags": []
   },
   "outputs": [],
   "source": [
    "# ABC_GAN1_metrics=ABC_train_test2.test_generator(gen,test_data,prior_model,variance,bias,\"1\",device)\n",
    "# sb.glue(\"ABC_GAN_1 Metrics\",ABC_GAN1_metrics)\n",
    "\n",
    "# print(\"MAE\")\n",
    "# print(mean(ABC_GAN1_metrics[1]))"
   ]
  },
  {
   "cell_type": "code",
   "execution_count": 14,
   "id": "eb22ce5c",
   "metadata": {
    "execution": {
     "iopub.execute_input": "2022-07-22T19:26:17.273091Z",
     "iopub.status.busy": "2022-07-22T19:26:17.272024Z",
     "iopub.status.idle": "2022-07-22T19:26:17.283323Z",
     "shell.execute_reply": "2022-07-22T19:26:17.280181Z"
    },
    "papermill": {
     "duration": 0.036108,
     "end_time": "2022-07-22T19:26:17.290434",
     "exception": false,
     "start_time": "2022-07-22T19:26:17.254326",
     "status": "completed"
    },
    "tags": []
   },
   "outputs": [],
   "source": [
    "# sanityChecks.discProbVsError(train_data,disc,device)\n",
    "# sanityChecks.discProbVsError(test_data,disc,device)"
   ]
  },
  {
   "cell_type": "markdown",
   "id": "71261b1f",
   "metadata": {
    "papermill": {
     "duration": 0.01207,
     "end_time": "2022-07-22T19:26:17.313823",
     "exception": false,
     "start_time": "2022-07-22T19:26:17.301753",
     "status": "completed"
    },
    "tags": []
   },
   "source": [
    "# mGAN Model with TabNet Generator"
   ]
  },
  {
   "cell_type": "code",
   "execution_count": 15,
   "id": "8d3fe510",
   "metadata": {
    "execution": {
     "iopub.execute_input": "2022-07-22T19:26:17.345208Z",
     "iopub.status.busy": "2022-07-22T19:26:17.344595Z",
     "iopub.status.idle": "2022-07-22T19:26:17.376576Z",
     "shell.execute_reply": "2022-07-22T19:26:17.374230Z"
    },
    "papermill": {
     "duration": 0.061668,
     "end_time": "2022-07-22T19:26:17.388506",
     "exception": false,
     "start_time": "2022-07-22T19:26:17.326838",
     "status": "completed"
    },
    "tags": []
   },
   "outputs": [],
   "source": [
    "gen2 = network.GeneratorTabnet(n_features+1).to(device)\n",
    "disc2 = network.Discriminator(n_features+1).to(device)\n",
    "\n",
    "criterion = torch.nn.BCELoss()\n",
    "gen_opt = torch.optim.Adam(gen2.parameters(), lr=0.01, betas=(0.5, 0.999))\n",
    "disc_opt = torch.optim.Adam(disc2.parameters(), lr=0.01, betas=(0.5, 0.999))"
   ]
  },
  {
   "cell_type": "code",
   "execution_count": 16,
   "id": "6cc9f02a",
   "metadata": {
    "execution": {
     "iopub.execute_input": "2022-07-22T19:26:17.437026Z",
     "iopub.status.busy": "2022-07-22T19:26:17.436673Z",
     "iopub.status.idle": "2022-07-22T19:36:32.073382Z",
     "shell.execute_reply": "2022-07-22T19:36:32.072208Z"
    },
    "papermill": {
     "duration": 614.673971,
     "end_time": "2022-07-22T19:36:32.076479",
     "exception": false,
     "start_time": "2022-07-22T19:26:17.402508",
     "status": "completed"
    },
    "tags": []
   },
   "outputs": [
    {
     "data": {
      "image/png": "[encoded data removed]",
      "text/plain": [
       "<Figure size 432x288 with 1 Axes>"
      ]
     },
     "metadata": {
      "needs_background": "light"
     },
     "output_type": "display_data"
    },
    {
     "data": {
      "image/png": "[encoded data removed]",
      "text/plain": [
       "<Figure size 432x288 with 1 Axes>"
      ]
     },
     "metadata": {
      "needs_background": "light"
     },
     "output_type": "display_data"
    }
   ],
   "source": [
    "#Training the ABC_GAN \n",
    "ABC_train_test2.training_GAN(disc2,gen2,disc_opt,gen_opt,train_data,batch_size,n_epochs,criterion,prior_model,variance,bias,device)"
   ]
  },
  {
   "cell_type": "code",
   "execution_count": 17,
   "id": "95ada14f",
   "metadata": {
    "execution": {
     "iopub.execute_input": "2022-07-22T19:36:32.127907Z",
     "iopub.status.busy": "2022-07-22T19:36:32.122241Z",
     "iopub.status.idle": "2022-07-22T19:36:33.675777Z",
     "shell.execute_reply": "2022-07-22T19:36:33.674985Z"
    },
    "papermill": {
     "duration": 1.589534,
     "end_time": "2022-07-22T19:36:33.678511",
     "exception": false,
     "start_time": "2022-07-22T19:36:32.088977",
     "status": "completed"
    },
    "tags": []
   },
   "outputs": [
    {
     "data": {
      "application/scrapbook.scrap.json+json": {
       "data": 0.0953174415388467,
       "encoder": "json",
       "name": "ABC-GAN Model 1 MSE",
       "version": 1
      }
     },
     "metadata": {
      "scrapbook": {
       "data": true,
       "display": false,
       "name": "ABC-GAN Model 1 MSE"
      }
     },
     "output_type": "display_data"
    },
    {
     "data": {
      "application/scrapbook.scrap.json+json": {
       "data": 0.23312262031441444,
       "encoder": "json",
       "name": "ABC-GAN Model 1 MAE",
       "version": 1
      }
     },
     "metadata": {
      "scrapbook": {
       "data": true,
       "display": false,
       "name": "ABC-GAN Model 1 MAE"
      }
     },
     "output_type": "display_data"
    },
    {
     "data": {
      "application/scrapbook.scrap.json+json": {
       "data": 23.778507272070275,
       "encoder": "json",
       "name": "ABC-GAN Model 1 Manhattan Distance",
       "version": 1
      }
     },
     "metadata": {
      "scrapbook": {
       "data": true,
       "display": false,
       "name": "ABC-GAN Model 1 Manhattan Distance"
      }
     },
     "output_type": "display_data"
    },
    {
     "data": {
      "application/scrapbook.scrap.json+json": {
       "data": 3.1154738064171683,
       "encoder": "json",
       "name": "ABC-GAN Model 1 Euclidean distance",
       "version": 1
      }
     },
     "metadata": {
      "scrapbook": {
       "data": true,
       "display": false,
       "name": "ABC-GAN Model 1 Euclidean distance"
      }
     },
     "output_type": "display_data"
    },
    {
     "data": {
      "application/scrapbook.scrap.json+json": {
       "data": [
        [
         0.09479924412272395,
         0.09839239751680154,
         0.10064668517680209,
         0.09221005274674876,
         0.09551523868200547,
         0.08996062383783807,
         0.09323866246742238,
         0.10195145960016089,
         0.0870255421636396,
         0.09743578326811374,
         0.08880027106348305,
         0.09008366612745185,
         0.10010534420708592,
         0.103604762503147,
         0.08607187116954207,
         0.09720719074548884,
         0.09528707841878464,
         0.09448543563742313,
         0.08680776581896073,
         0.10670379624561414,
         0.08638296736065955,
         0.08966456949937314,
         0.09645343926973585,
         0.09209554424583281,
         0.09196872999972966,
         0.09297146010566723,
         0.08890162339318976,
         0.09295642189696049,
         0.09467347123004183,
         0.09637867996821824,
         0.09881657829165182,
         0.09879332815929211,
         0.11544333047248011,
         0.11773154740694389,
         0.10262330130553644,
         0.08510298572775518,
         0.08294739859332574,
         0.11343683480529837,
         0.09495157578458373,
         0.08551588820949291,
         0.088345437979152,
         0.08811692324052883,
         0.09021271089270996,
         0.09150055565683643,
         0.10165626841072943,
         0.08872122805829104,
         0.08316590651664009,
         0.09122100444787982,
         0.09750254728134927,
         0.09220529116432398,
         0.09068953004366552,
         0.08491265687983553,
         0.0969705750802836,
         0.09385954691509837,
         0.10772760029229034,
         0.0893771302974881,
         0.09593916100298508,
         0.09635443440772956,
         0.08954015317669721,
         0.09885980333417967,
         0.1160167910529197,
         0.08707036428705729,
         0.11644800575413483,
         0.10124248894828809,
         0.09783103671042413,
         0.10090616416569248,
         0.09015192090335405,
         0.10474759346308869,
         0.08489057179467459,
         0.09312253892414254,
         0.0870704639263482,
         0.08883419163722538,
         0.11833172595793262,
         0.09162641560265498,
         0.08919060247518211,
         0.09030767403870552,
         0.09106004421802864,
         0.09645104755338332,
         0.09729365922083234,
         0.0992687057972563,
         0.08988085836098603,
         0.10120481458623087,
         0.10019045486356451,
         0.08827015495304895,
         0.09590807035127476,
         0.09438126475255451,
         0.0901730206644046,
         0.1067810605382138,
         0.09085158543170149,
         0.09155262002066639,
         0.1071933138464638,
         0.09629815294886952,
         0.09351632821455824,
         0.0931812930917115,
         0.09335516938902232,
         0.09136729912746169,
         0.096108649818917,
         0.1166086277854037,
         0.08824967952890368,
         0.08978871685568623
        ],
        [
         0.2373409355607103,
         0.23827180255423575,
         0.2353973532205119,
         0.22730781672997216,
         0.23344488770646207,
         0.23141833745381413,
         0.2316210249840629,
         0.24058366366022943,
         0.22538147282366658,
         0.23641503127474411,
         0.22828637929085424,
         0.23002154531651267,
         0.24084865944642647,
         0.2360121312679029,
         0.22763998720648826,
         0.23447130185862383,
         0.23349926525763437,
         0.23035617972559788,
         0.22756906317583486,
         0.23979112630089125,
         0.2288005832655757,
         0.23028555757128724,
         0.23012925395924672,
         0.233350793155385,
         0.23033613379241205,
         0.23434594804055842,
         0.22888527138560427,
         0.229804008760873,
         0.23319915744165579,
         0.23472279299269705,
         0.23812810853854113,
         0.23585725962823512,
         0.24154742040178356,
         0.24625282961071707,
         0.24016898764553024,
         0.22540456188075683,
         0.22401256479469,
         0.24454397478086107,
         0.23048895922507726,
         0.2240064007540544,
         0.2305159153343708,
         0.23053796969208062,
         0.23142320323078072,
         0.22926282721991634,
         0.2415860577614284,
         0.22627035174153598,
         0.22278477185789278,
         0.22934757819508805,
         0.23415245459068054,
         0.22982756158008294,
         0.23044073662044956,
         0.22683423786771065,
         0.23508107611069493,
         0.23132133564236118,
         0.24136700492133112,
         0.22836330847120753,
         0.23088607126299074,
         0.23189928802643336,
         0.229496261397121,
         0.23434429451384964,
         0.2428613306552756,
         0.2283878606543237,
         0.24491311397914792,
         0.23809649510418668,
         0.22929673408176385,
         0.23620217874207916,
         0.22356169411510812,
         0.2388178438824766,
         0.2287115915221911,
         0.23123507314891206,
         0.22755499805013338,
         0.23106012515285435,
         0.24105713370383955,
         0.23009326750887374,
         0.232945974295338,
         0.23343834299228938,
         0.2317944644932069,
         0.235181628744684,
         0.23437422291174823,
         0.2384492310823179,
         0.23411258027030557,
         0.23343082031636847,
         0.24428942288253822,
         0.23226856524307354,
         0.23125553930945256,
         0.23446273044043897,
         0.2295034364158032,
         0.2415356455626441,
         0.2304527801552824,
         0.2324224862397886,
         0.24266063301440546,
         0.2305177900136686,
         0.23299789611323207,
         0.2343414369240111,
         0.2310437579073158,
         0.22971542592288233,
         0.23453849557714135,
         0.24183971602834908,
         0.22758633796783054,
         0.22956239183743796
        ],
        [
         24.20877542719245,
         24.303723860532045,
         24.010530028492212,
         23.185397306457162,
         23.81137854605913,
         23.60467042028904,
         23.625344548374414,
         24.5395336933434,
         22.988910228013992,
         24.1143331900239,
         23.28521068766713,
         23.462197622284293,
         24.5665632635355,
         24.073237389326096,
         23.219278695061803,
         23.91607278957963,
         23.816925056278706,
         23.496330332010984,
         23.212044443935156,
         24.458694882690907,
         23.337659493088722,
         23.4891268722713,
         23.473183903843164,
         23.80178090184927,
         23.49428564682603,
         23.90328670013696,
         23.346297681331635,
         23.440008893609047,
         23.78631405904889,
         23.9417248852551,
         24.289067070931196,
         24.057440482079983,
         24.637836880981922,
         25.11778862029314,
         24.497236739844084,
         22.991265311837196,
         22.84928160905838,
         24.94348542764783,
         23.50987384095788,
         22.848652876913548,
         23.51262336410582,
         23.514872908592224,
         23.605166729539633,
         23.384808376431465,
         24.641777891665697,
         23.07957587763667,
         22.724046729505062,
         23.39345297589898,
         23.883550368249416,
         23.44241128116846,
         23.504955135285854,
         23.137092262506485,
         23.978269763290882,
         23.59477623552084,
         24.619434501975775,
         23.293057464063168,
         23.550379268825054,
         23.653727378696203,
         23.408618662506342,
         23.903118040412664,
         24.771855726838112,
         23.29556178674102,
         24.98113762587309,
         24.28584250062704,
         23.388266876339912,
         24.092622231692076,
         22.80329279974103,
         24.35942007601261,
         23.32858233526349,
         23.58597746118903,
         23.210609801113605,
         23.568132765591145,
         24.587827637791634,
         23.469513285905123,
         23.760489378124475,
         23.810710985213518,
         23.643035378307104,
         23.98852613195777,
         23.90617073699832,
         24.321821570396423,
         23.879483187571168,
         23.809943672269583,
         24.917521134018898,
         23.6913936547935,
         23.58806500956416,
         23.915198504924774,
         23.409350514411926,
         24.636635847389698,
         23.506183575838804,
         23.707093596458435,
         24.75138456746936,
         23.512814581394196,
         23.76578540354967,
         23.902826566249132,
         23.56646330654621,
         23.430973444133997,
         23.922926548868418,
         24.667651034891605,
         23.213806472718716,
         23.41536396741867
        ],
        [
         3.1095856477218695,
         3.1679685204739263,
         3.2040539770786967,
         3.066826597668732,
         3.121306512594455,
         3.0291886094232368,
         3.083884493893551,
         3.224755630930259,
         2.9793632374538084,
         3.1525307125145665,
         3.0095892823565262,
         3.0312594651398763,
         3.1954256538249735,
         3.250797713688287,
         2.9629935638292038,
         3.1488304902042374,
         3.117576301987817,
         3.1044346401586806,
         2.975633060969378,
         3.299058534953971,
         2.9683434219758458,
         3.024200074223936,
         3.1365986044620136,
         3.064921779275117,
         3.0628108756455115,
         3.0794624418521583,
         3.0113062923099267,
         3.079213379012564,
         3.1075221745732184,
         3.135382808646858,
         3.1747899120648104,
         3.1744163986861893,
         3.4315040009000377,
         3.4653452693069817,
         3.2353634622967347,
         2.9462695980223916,
         2.908717012106751,
         3.4015521677817064,
         3.112083021069255,
         2.95340830183845,
         3.001871861667899,
         2.9979870197407354,
         3.03342982629505,
         3.05500518444688,
         3.2200837532422044,
         3.008249534520979,
         2.912545701735388,
         3.050334810096056,
         3.153610600993348,
         3.066747413590015,
         3.0414358557191177,
         2.942973156816627,
         3.1449958121099186,
         3.0941353857483405,
         3.314847693305624,
         3.019348818924999,
         3.128225443011497,
         3.1349884066114844,
         3.0221011935445037,
         3.1754842056112205,
         3.4400163789432465,
         2.980130392664026,
         3.446403427766655,
         3.213523591437503,
         3.1589184453643715,
         3.208181532410632,
         3.0324076131256024,
         3.2686777958732867,
         2.9425904103454164,
         3.0819634926881494,
         2.9801320978251145,
         3.0101640398817113,
         3.4741669573739733,
         3.057105557790049,
         3.0161965208634154,
         3.035025988677521,
         3.047642451180735,
         3.1365597157467127,
         3.1502306646537646,
         3.1820446243445644,
         3.0278453647471126,
         3.2129256274921065,
         3.1967837581049463,
         3.00059257567751,
         3.1277185256717117,
         3.1027228372448223,
         3.032762454886513,
         3.300252744093672,
         3.044152051726975,
         3.0558742189605854,
         3.30661730660494,
         3.1340726859447106,
         3.0884730009965993,
         3.0829355970170007,
         3.0858106354214727,
         3.0527798006081435,
         3.1309874291554625,
         3.4487794992013012,
         3.0002445420245616,
         3.026292966531825
        ]
       ],
       "encoder": "json",
       "name": "ABC_GAN_2 Metrics",
       "version": 1
      }
     },
     "metadata": {
      "scrapbook": {
       "data": true,
       "display": false,
       "name": "ABC_GAN_2 Metrics"
      }
     },
     "output_type": "display_data"
    },
    {
     "name": "stdout",
     "output_type": "stream",
     "text": [
      "MAE\n",
      "0.23312262031441444\n"
     ]
    }
   ],
   "source": [
    "ABC_GAN2_metrics=ABC_train_test2.test_generator(gen2,test_data,prior_model,variance,bias,\"1\",device)\n",
    "sb.glue(\"ABC_GAN_2 Metrics\",ABC_GAN2_metrics)\n",
    "\n",
    "print(\"MAE\")\n",
    "print(mean(ABC_GAN2_metrics[1]))"
   ]
  },
  {
   "cell_type": "code",
   "execution_count": 18,
   "id": "997ff9b5",
   "metadata": {
    "execution": {
     "iopub.execute_input": "2022-07-22T19:36:33.721735Z",
     "iopub.status.busy": "2022-07-22T19:36:33.721216Z",
     "iopub.status.idle": "2022-07-22T19:36:34.562592Z",
     "shell.execute_reply": "2022-07-22T19:36:34.561422Z"
    },
    "papermill": {
     "duration": 0.871978,
     "end_time": "2022-07-22T19:36:34.565955",
     "exception": false,
     "start_time": "2022-07-22T19:36:33.693977",
     "status": "completed"
    },
    "tags": []
   },
   "outputs": [
    {
     "data": {
      "image/png": "[encoded data removed]",
      "text/plain": [
       "<Figure size 432x288 with 1 Axes>"
      ]
     },
     "metadata": {
      "needs_background": "light"
     },
     "output_type": "display_data"
    },
    {
     "data": {
      "image/png": "[encoded data removed]",
      "text/plain": [
       "<Figure size 432x288 with 1 Axes>"
      ]
     },
     "metadata": {
      "needs_background": "light"
     },
     "output_type": "display_data"
    },
    {
     "data": {
      "image/png": "[encoded data removed]",
      "text/plain": [
       "<Figure size 432x288 with 1 Axes>"
      ]
     },
     "metadata": {
      "needs_background": "light"
     },
     "output_type": "display_data"
    },
    {
     "data": {
      "image/png": "[encoded data removed]",
      "text/plain": [
       "<Figure size 432x288 with 1 Axes>"
      ]
     },
     "metadata": {
      "needs_background": "light"
     },
     "output_type": "display_data"
    }
   ],
   "source": [
    "sanityChecks.discProbVsError(train_data,disc2,device)\n",
    "sanityChecks.discProbVsError(test_data,disc2,device)"
   ]
  },
  {
   "cell_type": "markdown",
   "id": "130f3a4d",
   "metadata": {
    "id": "130f3a4d",
    "papermill": {
     "duration": 0.016398,
     "end_time": "2022-07-22T19:36:34.610102",
     "exception": false,
     "start_time": "2022-07-22T19:36:34.593704",
     "status": "completed"
    },
    "tags": []
   },
   "source": [
    "# skipGAN Model"
   ]
  },
  {
   "cell_type": "code",
   "execution_count": 19,
   "id": "4e43dad1",
   "metadata": {
    "execution": {
     "iopub.execute_input": "2022-07-22T19:36:34.649874Z",
     "iopub.status.busy": "2022-07-22T19:36:34.646268Z",
     "iopub.status.idle": "2022-07-22T19:36:34.658849Z",
     "shell.execute_reply": "2022-07-22T19:36:34.657178Z"
    },
    "id": "4e43dad1",
    "papermill": {
     "duration": 0.038057,
     "end_time": "2022-07-22T19:36:34.664755",
     "exception": false,
     "start_time": "2022-07-22T19:36:34.626698",
     "status": "completed"
    },
    "tags": []
   },
   "outputs": [],
   "source": [
    "# #Generator\n",
    "# gen3 = network.GeneratorWithSkipConnection(n_features+1).to(device)\n",
    "# constraints=network.weightConstraint()\n",
    "# #Discriminator \n",
    "# disc3 = network.Discriminator(n_features+1).to(device)\n",
    "\n",
    "# criterion = torch.nn.BCELoss()\n",
    "# gen_opt = torch.optim.Adam(gen3.parameters(), lr=0.01, betas=(0.5, 0.999))\n",
    "# disc_opt = torch.optim.Adam(disc3.parameters(), lr=0.01, betas=(0.5, 0.999))\n"
   ]
  },
  {
   "cell_type": "markdown",
   "id": "599155b3",
   "metadata": {
    "tags": [
     "papermill-error-cell-tag"
    ]
   },
   "source": [
    "<span id=\"papermill-error-cell\" style=\"color:red; font-family:Helvetica Neue, Helvetica, Arial, sans-serif; font-size:2em;\">Execution using papermill encountered an exception here and stopped:</span>"
   ]
  },
  {
   "cell_type": "code",
   "execution_count": 20,
   "id": "26acbc37",
   "metadata": {
    "execution": {
     "iopub.execute_input": "2022-07-22T19:36:34.703266Z",
     "iopub.status.busy": "2022-07-22T19:36:34.702768Z",
     "iopub.status.idle": "2022-07-22T19:36:35.525708Z",
     "shell.execute_reply": "2022-07-22T19:36:35.523814Z"
    },
    "id": "26acbc37",
    "papermill": {
     "duration": 0.845558,
     "end_time": "2022-07-22T19:36:35.529515",
     "exception": true,
     "start_time": "2022-07-22T19:36:34.683957",
     "status": "failed"
    },
    "tags": []
   },
   "outputs": [
    {
     "ename": "NameError",
     "evalue": "name 'disc3' is not defined",
     "output_type": "error",
     "traceback": [
      "\u001b[0;31m---------------------------------------------------------------------------\u001b[0m",
      "\u001b[0;31mNameError\u001b[0m                                 Traceback (most recent call last)",
      "Input \u001b[0;32mIn [20]\u001b[0m, in \u001b[0;36m<cell line: 1>\u001b[0;34m()\u001b[0m\n\u001b[0;32m----> 1\u001b[0m ABC_train_test2\u001b[38;5;241m.\u001b[39mtraining_GAN_skip_connection(\u001b[43mdisc3\u001b[49m,gen3,disc_opt,gen_opt,train_data,batch_size,n_epochs,criterion,prior_model,variance,bias,device)\n",
      "\u001b[0;31mNameError\u001b[0m: name 'disc3' is not defined"
     ]
    }
   ],
   "source": [
    "ABC_train_test2.training_GAN_skip_connection(disc3,gen3,disc_opt,gen_opt,train_data,batch_size,n_epochs,criterion,prior_model,variance,bias,device)"
   ]
  },
  {
   "cell_type": "code",
   "execution_count": null,
   "id": "c5e0717b",
   "metadata": {
    "id": "c5e0717b",
    "papermill": {
     "duration": null,
     "end_time": null,
     "exception": null,
     "start_time": null,
     "status": "pending"
    },
    "tags": []
   },
   "outputs": [],
   "source": [
    "# ABC_GAN3_metrics=ABC_train_test2.test_generator(gen3,test_data,prior_model,variance,bias,\"3\",device)\n",
    "# sb.glue(\"ABC_GAN_3 Metrics\",ABC_GAN3_metrics)\n",
    "\n",
    "# print(\"MAE\")\n",
    "# print(mean(ABC_GAN3_metrics[1]))"
   ]
  },
  {
   "cell_type": "code",
   "execution_count": null,
   "id": "c8e46b48",
   "metadata": {
    "id": "c8e46b48",
    "papermill": {
     "duration": null,
     "end_time": null,
     "exception": null,
     "start_time": null,
     "status": "pending"
    },
    "tags": []
   },
   "outputs": [],
   "source": [
    "# sanityChecks.discProbVsError(train_data,disc3,device)\n",
    "# sanityChecks.discProbVsError(test_data,disc3,device)"
   ]
  },
  {
   "cell_type": "markdown",
   "id": "d7beed4c",
   "metadata": {
    "id": "130f3a4d",
    "papermill": {
     "duration": null,
     "end_time": null,
     "exception": null,
     "start_time": null,
     "status": "pending"
    },
    "tags": []
   },
   "source": [
    "# skipGAN Model with TabNet Generator"
   ]
  },
  {
   "cell_type": "code",
   "execution_count": null,
   "id": "84d26bd0",
   "metadata": {
    "id": "4e43dad1",
    "papermill": {
     "duration": null,
     "end_time": null,
     "exception": null,
     "start_time": null,
     "status": "pending"
    },
    "tags": []
   },
   "outputs": [],
   "source": [
    "# #Generator\n",
    "# gen4 = network.GeneratorTabnetskipConnection(n_features+1).to(device)\n",
    "# constraints=network.weightConstraint()\n",
    "# #Discriminator \n",
    "# disc4 = network.Discriminator(n_features+1).to(device)\n",
    "\n",
    "# criterion = torch.nn.BCELoss()\n",
    "# gen_opt = torch.optim.Adam(gen4.parameters(), lr=0.01, betas=(0.5, 0.999))\n",
    "# disc_opt = torch.optim.Adam(disc4.parameters(), lr=0.01, betas=(0.5, 0.999))\n"
   ]
  },
  {
   "cell_type": "code",
   "execution_count": null,
   "id": "f960eebc",
   "metadata": {
    "id": "26acbc37",
    "papermill": {
     "duration": null,
     "end_time": null,
     "exception": null,
     "start_time": null,
     "status": "pending"
    },
    "tags": []
   },
   "outputs": [],
   "source": [
    "# ABC_train_test2.training_GAN_skip_connection(disc4,gen4,disc_opt,gen_opt,train_data,batch_size,n_epochs,criterion,prior_model,variance,bias,device)"
   ]
  },
  {
   "cell_type": "code",
   "execution_count": null,
   "id": "59f6550b",
   "metadata": {
    "id": "c5e0717b",
    "papermill": {
     "duration": null,
     "end_time": null,
     "exception": null,
     "start_time": null,
     "status": "pending"
    },
    "tags": []
   },
   "outputs": [],
   "source": [
    "# ABC_GAN4_metrics=ABC_train_test2.test_generator(gen4,test_data,prior_model,variance,bias,\"3\",device)\n",
    "# sb.glue(\"ABC_GAN_4 Metrics\",ABC_GAN4_metrics)\n",
    "\n",
    "# print(\"MAE\")\n",
    "# print(mean(ABC_GAN4_metrics[1]))"
   ]
  },
  {
   "cell_type": "code",
   "execution_count": null,
   "id": "ee07457a",
   "metadata": {
    "id": "c8e46b48",
    "papermill": {
     "duration": null,
     "end_time": null,
     "exception": null,
     "start_time": null,
     "status": "pending"
    },
    "tags": []
   },
   "outputs": [],
   "source": [
    "# sanityChecks.discProbVsError(train_data,disc4,device)\n",
    "# sanityChecks.discProbVsError(test_data,disc4,device)"
   ]
  },
  {
   "cell_type": "markdown",
   "id": "a5bd74c3",
   "metadata": {
    "id": "a5bd74c3",
    "papermill": {
     "duration": null,
     "end_time": null,
     "exception": null,
     "start_time": null,
     "status": "pending"
    },
    "tags": []
   },
   "source": [
    "## Skip Connection Model Analysis - ABC-GAN "
   ]
  },
  {
   "cell_type": "markdown",
   "id": "5744a8bf",
   "metadata": {
    "id": "5744a8bf",
    "papermill": {
     "duration": null,
     "end_time": null,
     "exception": null,
     "start_time": null,
     "status": "pending"
    },
    "tags": []
   },
   "source": [
    "### Weight Analysis \n",
    "\n",
    "Study the weights of the skip connection layer\n",
    "\n",
    "Equation of the skip connection is \n",
    "\n",
    "$output = y_{gan} * w + y_{abc} * (1-w)$"
   ]
  },
  {
   "cell_type": "code",
   "execution_count": null,
   "id": "52c31dea",
   "metadata": {
    "id": "52c31dea",
    "papermill": {
     "duration": null,
     "end_time": null,
     "exception": null,
     "start_time": null,
     "status": "pending"
    },
    "tags": []
   },
   "outputs": [],
   "source": [
    "# print(\"Weight of the node at skip connection\")\n",
    "# for name,param in gen3.named_parameters():\n",
    "#     if(name == \"skipNode.weight\"):\n",
    "#         print(param)\n",
    "#         sb.glue(\"Skip Connection Weight\",param.item())"
   ]
  },
  {
   "cell_type": "markdown",
   "id": "98e2dc22",
   "metadata": {
    "id": "a5bd74c3",
    "papermill": {
     "duration": null,
     "end_time": null,
     "exception": null,
     "start_time": null,
     "status": "pending"
    },
    "tags": []
   },
   "source": [
    "## skipGAN Model Analysis (TabNet Generator) "
   ]
  },
  {
   "cell_type": "markdown",
   "id": "9f295bd7",
   "metadata": {
    "id": "5744a8bf",
    "papermill": {
     "duration": null,
     "end_time": null,
     "exception": null,
     "start_time": null,
     "status": "pending"
    },
    "tags": []
   },
   "source": [
    "### Weight Analysis \n",
    "\n",
    "Study the weights of the skip connection layer\n",
    "\n",
    "Equation of the skip connection is \n",
    "\n",
    "$output = y_{gan} * w + y_{abc} * (1-w)$"
   ]
  },
  {
   "cell_type": "code",
   "execution_count": null,
   "id": "d6d1fbd4",
   "metadata": {
    "id": "52c31dea",
    "papermill": {
     "duration": null,
     "end_time": null,
     "exception": null,
     "start_time": null,
     "status": "pending"
    },
    "tags": []
   },
   "outputs": [],
   "source": [
    "# print(\"Weight of the node at skip connection\")\n",
    "# for name,param in gen4.named_parameters():\n",
    "#     if(name == \"skipNode.weight\"):\n",
    "#         print(param)\n",
    "#         sb.glue(\"Skip Connection Weight\",param.item())"
   ]
  }
 ],
 "metadata": {
  "colab": {
   "collapsed_sections": [],
   "name": "ABC_GAN_Model-Catboost_Pre-gen.ipynb",
   "provenance": []
  },
  "interpreter": {
   "hash": "31f2aee4e71d21fbe5cf8b01ff0e069b9275f58929596ceb00d14d90e3e16cd6"
  },
  "kernelspec": {
   "display_name": "Python 3 (ipykernel)",
   "language": "python",
   "name": "python3"
  },
  "language_info": {
   "codemirror_mode": {
    "name": "ipython",
    "version": 3
   },
   "file_extension": ".py",
   "mimetype": "text/x-python",
   "name": "python",
   "nbconvert_exporter": "python",
   "pygments_lexer": "ipython3",
   "version": "3.8.13"
  },
  "papermill": {
   "default_parameters": {},
   "duration": 634.20286,
   "end_time": "2022-07-22T19:36:36.519498",
   "environment_variables": {},
   "exception": true,
   "input_path": "ABC_GAN-Catboost.ipynb",
   "output_path": "./ABC_GAN_Catboost/ABC-GAN_output_1_9.ipynb",
   "parameters": {
    "bias": 0,
    "variance": 1
   },
   "start_time": "2022-07-22T19:26:02.316638",
   "version": "2.3.3"
  }
 },
 "nbformat": 4,
 "nbformat_minor": 5
}